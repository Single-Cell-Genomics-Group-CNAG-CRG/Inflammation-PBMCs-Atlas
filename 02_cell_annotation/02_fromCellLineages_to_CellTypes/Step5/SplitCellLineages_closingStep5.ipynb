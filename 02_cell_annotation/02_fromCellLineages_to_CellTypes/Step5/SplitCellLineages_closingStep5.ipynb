{
 "cells": [
  {
   "cell_type": "code",
   "execution_count": 1,
   "metadata": {
    "execution": {
     "iopub.execute_input": "2024-05-22T14:02:57.846509Z",
     "iopub.status.busy": "2024-05-22T14:02:57.846355Z",
     "iopub.status.idle": "2024-05-22T14:02:58.318058Z",
     "shell.execute_reply": "2024-05-22T14:02:58.317564Z",
     "shell.execute_reply.started": "2024-05-22T14:02:57.846490Z"
    }
   },
   "outputs": [],
   "source": [
    "# General modules\n",
    "import sys\n",
    "import os\n",
    "import session_info\n",
    "import warnings\n",
    "from pyprojroot.here import here\n",
    "import glob\n",
    "import pandas as pd\n",
    "import numpy as np\n",
    "import pickle\n",
    "\n",
    "# Setting some parameters\n",
    "warnings.filterwarnings(\"ignore\")\n",
    "sys.path.insert(1, str(here('bin')))\n",
    "\n",
    "# Import custom functions\n",
    "from customPythonFunctions import generate_split_dir\n",
    "\n",
    "\n",
    "#plt.style.use(['science','nature','no-latex'])\n",
    "dpi_fig_save = 300\n",
    "\n",
    "overwriteFigures = True\n",
    "overwriteData = True"
   ]
  },
  {
   "cell_type": "markdown",
   "metadata": {},
   "source": [
    "**Loading annotation pkl**"
   ]
  },
  {
   "cell_type": "code",
   "execution_count": 2,
   "metadata": {
    "execution": {
     "iopub.execute_input": "2024-05-22T14:02:58.318991Z",
     "iopub.status.busy": "2024-05-22T14:02:58.318717Z",
     "iopub.status.idle": "2024-05-22T14:02:58.321274Z",
     "shell.execute_reply": "2024-05-22T14:02:58.320885Z",
     "shell.execute_reply.started": "2024-05-22T14:02:58.318972Z"
    }
   },
   "outputs": [],
   "source": [
    "step = \"Step5\""
   ]
  },
  {
   "cell_type": "code",
   "execution_count": 3,
   "metadata": {
    "execution": {
     "iopub.execute_input": "2024-05-22T14:02:58.322943Z",
     "iopub.status.busy": "2024-05-22T14:02:58.322685Z",
     "iopub.status.idle": "2024-05-22T14:02:58.340315Z",
     "shell.execute_reply": "2024-05-22T14:02:58.339839Z",
     "shell.execute_reply.started": "2024-05-22T14:02:58.322927Z"
    }
   },
   "outputs": [],
   "source": [
    "annotation_col_name = 'annotation_step_5'"
   ]
  },
  {
   "cell_type": "code",
   "execution_count": 4,
   "metadata": {
    "execution": {
     "iopub.execute_input": "2024-05-22T14:02:58.341172Z",
     "iopub.status.busy": "2024-05-22T14:02:58.340902Z",
     "iopub.status.idle": "2024-05-22T14:02:58.352711Z",
     "shell.execute_reply": "2024-05-22T14:02:58.352342Z",
     "shell.execute_reply.started": "2024-05-22T14:02:58.341147Z"
    }
   },
   "outputs": [],
   "source": [
    "file_paths = glob.glob(str(here(f\"02_fromCellLineages_to_CellTypes/{step}/*/results/INFLAMMATION_cluster_res*_annotated.pkl\")))\n",
    "# Load and concatenate all files into a single column DataFrame"
   ]
  },
  {
   "cell_type": "code",
   "execution_count": 5,
   "metadata": {
    "execution": {
     "iopub.execute_input": "2024-05-22T14:02:58.353455Z",
     "iopub.status.busy": "2024-05-22T14:02:58.353211Z",
     "iopub.status.idle": "2024-05-22T14:02:58.573264Z",
     "shell.execute_reply": "2024-05-22T14:02:58.572807Z",
     "shell.execute_reply.started": "2024-05-22T14:02:58.353437Z"
    }
   },
   "outputs": [
    {
     "name": "stdout",
     "output_type": "stream",
     "text": [
      "/scratch_isilon/groups/singlecell/shared/projects/Inflammation-PBMCs-Atlas/02_fromCellLineages_to_CellTypes/Step5/UTC/results/INFLAMMATION_cluster_res0.5_annotated.pkl\n",
      "{'MAIT_17', 'LowQuality_cells', 'gdT_V1', 'gdT_V2_Vγ9', 'MAIT'}\n",
      "/scratch_isilon/groups/singlecell/shared/projects/Inflammation-PBMCs-Atlas/02_fromCellLineages_to_CellTypes/Step5/T_CD4_NonNaive/results/INFLAMMATION_cluster_res0.75_annotated.pkl\n",
      "{'Th1', 'T_CD4_EM', 'Tregs', 'LowQuality_cells', 'T_CD4_eff', 'T_CD4_CM', 'T_CD4_CM_ribo', 'Tregs_activated', 'T_CD4_EMRA', 'Th2', 'Th0'}\n",
      "/scratch_isilon/groups/singlecell/shared/projects/Inflammation-PBMCs-Atlas/02_fromCellLineages_to_CellTypes/Step5/T_CD8_NonNaive/results/INFLAMMATION_cluster_res1_annotated.pkl\n",
      "{'T_CD8_activated', 'T_CD8_CM_stem', 'T_CD8_EM_CX3CR1high', 'LowQuality_cells', 'T_CD8_arrested', 'T_CD8_Mem_cytotoxic', 'T_CD8_EM_CX3CR1int', 'T_CD8_IFNresponse', 'T_CD8_eff_HOBIT', 'T_CD8_CM'}\n"
     ]
    }
   ],
   "source": [
    "for file_path in file_paths: \n",
    "    print(file_path)\n",
    "    clusterAnnotDF = pd.read_pickle(file_path)\n",
    "    print(set(clusterAnnotDF[annotation_col_name]))"
   ]
  },
  {
   "cell_type": "code",
   "execution_count": 6,
   "metadata": {
    "execution": {
     "iopub.execute_input": "2024-05-22T14:02:58.574051Z",
     "iopub.status.busy": "2024-05-22T14:02:58.573879Z",
     "iopub.status.idle": "2024-05-22T14:02:58.783367Z",
     "shell.execute_reply": "2024-05-22T14:02:58.782833Z",
     "shell.execute_reply.started": "2024-05-22T14:02:58.574033Z"
    }
   },
   "outputs": [],
   "source": [
    "clusterAnnotDF = pd.concat([pd.read_pickle(file_path) for file_path in file_paths], axis=0)"
   ]
  },
  {
   "cell_type": "code",
   "execution_count": 7,
   "metadata": {
    "execution": {
     "iopub.execute_input": "2024-05-22T14:02:58.784214Z",
     "iopub.status.busy": "2024-05-22T14:02:58.784043Z",
     "iopub.status.idle": "2024-05-22T14:02:58.788490Z",
     "shell.execute_reply": "2024-05-22T14:02:58.788096Z",
     "shell.execute_reply.started": "2024-05-22T14:02:58.784198Z"
    }
   },
   "outputs": [
    {
     "name": "stdout",
     "output_type": "stream",
     "text": [
      "                                       annotation_step_5\n",
      "cellID                                                  \n",
      "SCGT00_L051_I56.3P_T0_ATGGGTTCAGGAAGTC        gdT_V2_Vγ9\n",
      "SCGT00_L051_I52.3P_T0_GCCATGGCATCGATGT        gdT_V2_Vγ9\n",
      "SCGT00_L051_I52.3P_T0_GGGTATTTCGCGTCGA        gdT_V2_Vγ9\n",
      "SCGT00_L035_I52.3P_T0_AGAAGCGTCCACAAGT        gdT_V2_Vγ9\n",
      "SCGT00_L035_I52.3P_T0_ATAGACCCATTCTCCG  LowQuality_cells\n"
     ]
    }
   ],
   "source": [
    "print(clusterAnnotDF.head())"
   ]
  },
  {
   "cell_type": "code",
   "execution_count": 8,
   "metadata": {
    "execution": {
     "iopub.execute_input": "2024-05-22T14:02:58.789255Z",
     "iopub.status.busy": "2024-05-22T14:02:58.788999Z",
     "iopub.status.idle": "2024-05-22T14:02:58.901936Z",
     "shell.execute_reply": "2024-05-22T14:02:58.901355Z",
     "shell.execute_reply.started": "2024-05-22T14:02:58.789237Z"
    }
   },
   "outputs": [
    {
     "data": {
      "text/plain": [
       "{'LowQuality_cells',\n",
       " 'MAIT',\n",
       " 'MAIT_17',\n",
       " 'T_CD4_CM',\n",
       " 'T_CD4_CM_ribo',\n",
       " 'T_CD4_EM',\n",
       " 'T_CD4_EMRA',\n",
       " 'T_CD4_eff',\n",
       " 'T_CD8_CM',\n",
       " 'T_CD8_CM_stem',\n",
       " 'T_CD8_EM_CX3CR1high',\n",
       " 'T_CD8_EM_CX3CR1int',\n",
       " 'T_CD8_IFNresponse',\n",
       " 'T_CD8_Mem_cytotoxic',\n",
       " 'T_CD8_activated',\n",
       " 'T_CD8_arrested',\n",
       " 'T_CD8_eff_HOBIT',\n",
       " 'Th0',\n",
       " 'Th1',\n",
       " 'Th2',\n",
       " 'Tregs',\n",
       " 'Tregs_activated',\n",
       " 'gdT_V1',\n",
       " 'gdT_V2_Vγ9'}"
      ]
     },
     "execution_count": 8,
     "metadata": {},
     "output_type": "execute_result"
    }
   ],
   "source": [
    "set(clusterAnnotDF[annotation_col_name])"
   ]
  },
  {
   "cell_type": "code",
   "execution_count": 9,
   "metadata": {
    "execution": {
     "iopub.execute_input": "2024-05-22T14:02:58.903035Z",
     "iopub.status.busy": "2024-05-22T14:02:58.902852Z",
     "iopub.status.idle": "2024-05-22T14:02:58.911680Z",
     "shell.execute_reply": "2024-05-22T14:02:58.911129Z",
     "shell.execute_reply.started": "2024-05-22T14:02:58.903016Z"
    }
   },
   "outputs": [
    {
     "name": "stdout",
     "output_type": "stream",
     "text": [
      "(1549710, 1)\n"
     ]
    }
   ],
   "source": [
    "print(clusterAnnotDF.shape)"
   ]
  },
  {
   "cell_type": "code",
   "execution_count": 10,
   "metadata": {
    "execution": {
     "iopub.execute_input": "2024-05-22T14:02:58.912511Z",
     "iopub.status.busy": "2024-05-22T14:02:58.912340Z",
     "iopub.status.idle": "2024-05-22T14:02:59.608208Z",
     "shell.execute_reply": "2024-05-22T14:02:59.607681Z",
     "shell.execute_reply.started": "2024-05-22T14:02:58.912492Z"
    }
   },
   "outputs": [],
   "source": [
    "clusterAnnotDF.to_pickle(here(f\"02_fromCellLineages_to_CellTypes/{step}/{step}_clusterAnnotDF.pkl\"))"
   ]
  },
  {
   "cell_type": "markdown",
   "metadata": {},
   "source": [
    "**Updating master annotation DF**"
   ]
  },
  {
   "cell_type": "code",
   "execution_count": 11,
   "metadata": {
    "execution": {
     "iopub.execute_input": "2024-05-22T14:02:59.609096Z",
     "iopub.status.busy": "2024-05-22T14:02:59.608875Z",
     "iopub.status.idle": "2024-05-22T14:03:00.504633Z",
     "shell.execute_reply": "2024-05-22T14:03:00.503982Z",
     "shell.execute_reply.started": "2024-05-22T14:02:59.609076Z"
    }
   },
   "outputs": [],
   "source": [
    "master_AnnotDFpath = str(here(\"02_fromCellLineages_to_CellTypes/master_clusterAnnotDF.pkl\"))\n",
    "master_AnnotDF = pd.read_pickle(master_AnnotDFpath)"
   ]
  },
  {
   "cell_type": "code",
   "execution_count": 12,
   "metadata": {
    "execution": {
     "iopub.execute_input": "2024-05-22T14:03:00.507526Z",
     "iopub.status.busy": "2024-05-22T14:03:00.507353Z",
     "iopub.status.idle": "2024-05-22T14:03:03.497618Z",
     "shell.execute_reply": "2024-05-22T14:03:03.496970Z",
     "shell.execute_reply.started": "2024-05-22T14:03:00.507510Z"
    }
   },
   "outputs": [],
   "source": [
    "last_column_name = master_AnnotDF.columns[-1]\n",
    "master_AnnotDF[annotation_col_name] = master_AnnotDF[last_column_name]\n",
    "master_AnnotDF[annotation_col_name].update(clusterAnnotDF[annotation_col_name])"
   ]
  },
  {
   "cell_type": "code",
   "execution_count": 13,
   "metadata": {
    "execution": {
     "iopub.execute_input": "2024-05-22T14:03:03.498520Z",
     "iopub.status.busy": "2024-05-22T14:03:03.498344Z",
     "iopub.status.idle": "2024-05-22T14:03:03.503207Z",
     "shell.execute_reply": "2024-05-22T14:03:03.502666Z",
     "shell.execute_reply.started": "2024-05-22T14:03:03.498501Z"
    }
   },
   "outputs": [
    {
     "name": "stdout",
     "output_type": "stream",
     "text": [
      "                                       annotation_step_1 annotation_step_2  \\\n",
      "cellID                                                                       \n",
      "SCGT00_L051_I53.3P_T0_AACCAACGTGGGATTG               pDC               pDC   \n",
      "SCGT00_L051_I58.3P_T0_ACCTGAAAGTGCCAGA               pDC               pDC   \n",
      "SCGT00_L051_I53.3P_T0_ACTATGGAGGCGCTCT               pDC               pDC   \n",
      "SCGT00_L051_I55.3P_T0_ACTTTCACATGGGTTT               pDC               pDC   \n",
      "SCGT00_L051_I52.3P_T0_ATCACAGTCATCGGGC               pDC               pDC   \n",
      "\n",
      "                                       annotation_step_3 annotation_step_4  \\\n",
      "cellID                                                                       \n",
      "SCGT00_L051_I53.3P_T0_AACCAACGTGGGATTG               pDC               pDC   \n",
      "SCGT00_L051_I58.3P_T0_ACCTGAAAGTGCCAGA               pDC               pDC   \n",
      "SCGT00_L051_I53.3P_T0_ACTATGGAGGCGCTCT               pDC               pDC   \n",
      "SCGT00_L051_I55.3P_T0_ACTTTCACATGGGTTT               pDC               pDC   \n",
      "SCGT00_L051_I52.3P_T0_ATCACAGTCATCGGGC               pDC               pDC   \n",
      "\n",
      "                                       annotation_step_5  \n",
      "cellID                                                    \n",
      "SCGT00_L051_I53.3P_T0_AACCAACGTGGGATTG               pDC  \n",
      "SCGT00_L051_I58.3P_T0_ACCTGAAAGTGCCAGA               pDC  \n",
      "SCGT00_L051_I53.3P_T0_ACTATGGAGGCGCTCT               pDC  \n",
      "SCGT00_L051_I55.3P_T0_ACTTTCACATGGGTTT               pDC  \n",
      "SCGT00_L051_I52.3P_T0_ATCACAGTCATCGGGC               pDC  \n"
     ]
    }
   ],
   "source": [
    "print(master_AnnotDF.head())"
   ]
  },
  {
   "cell_type": "code",
   "execution_count": 14,
   "metadata": {
    "execution": {
     "iopub.execute_input": "2024-05-22T14:03:03.504182Z",
     "iopub.status.busy": "2024-05-22T14:03:03.503873Z",
     "iopub.status.idle": "2024-05-22T14:03:03.514406Z",
     "shell.execute_reply": "2024-05-22T14:03:03.513889Z",
     "shell.execute_reply.started": "2024-05-22T14:03:03.504165Z"
    }
   },
   "outputs": [
    {
     "name": "stdout",
     "output_type": "stream",
     "text": [
      "(4918140, 5)\n"
     ]
    }
   ],
   "source": [
    "print(master_AnnotDF.shape)"
   ]
  },
  {
   "cell_type": "code",
   "execution_count": 15,
   "metadata": {
    "execution": {
     "iopub.execute_input": "2024-05-22T14:03:03.515435Z",
     "iopub.status.busy": "2024-05-22T14:03:03.515088Z",
     "iopub.status.idle": "2024-05-22T14:03:03.850684Z",
     "shell.execute_reply": "2024-05-22T14:03:03.850225Z",
     "shell.execute_reply.started": "2024-05-22T14:03:03.515416Z"
    }
   },
   "outputs": [
    {
     "data": {
      "text/plain": [
       "{'B_IFNresponder',\n",
       " 'B_Memory_ITGAX',\n",
       " 'B_Memory_switched',\n",
       " 'B_Memory_unswitched',\n",
       " 'B_Naive',\n",
       " 'B_Naive_activated',\n",
       " 'B_Progenitors',\n",
       " 'B_Transitional',\n",
       " 'DC4',\n",
       " 'DC5',\n",
       " 'DC_CCR7',\n",
       " 'DC_Proliferative',\n",
       " 'Doublets',\n",
       " 'HSC_LMP',\n",
       " 'HSC_MEMP',\n",
       " 'HSC_MMP',\n",
       " 'LowQuality_cells',\n",
       " 'MAIT',\n",
       " 'MAIT_17',\n",
       " 'Mono_IFNresponse',\n",
       " 'Mono_classical',\n",
       " 'Mono_inflammatory',\n",
       " 'Mono_nonClassical',\n",
       " 'Mono_regulatory',\n",
       " 'NK_CD16high',\n",
       " 'NK_CD56dimCD16',\n",
       " 'NK_CD56high',\n",
       " 'NK_IFN1response',\n",
       " 'NK_Proliferative',\n",
       " 'NK_adaptive',\n",
       " 'NK_lowRibocontent',\n",
       " 'Plasma_IGHA',\n",
       " 'Plasma_IGHG',\n",
       " 'Plasma_Proliferative',\n",
       " 'Plasma_XBP1',\n",
       " 'Platelets',\n",
       " 'RBC',\n",
       " 'T_CD4_CM',\n",
       " 'T_CD4_CM_ribo',\n",
       " 'T_CD4_EM',\n",
       " 'T_CD4_EMRA',\n",
       " 'T_CD4_Naive',\n",
       " 'T_CD4_eff',\n",
       " 'T_CD8_CM',\n",
       " 'T_CD8_CM_stem',\n",
       " 'T_CD8_EM_CX3CR1high',\n",
       " 'T_CD8_EM_CX3CR1int',\n",
       " 'T_CD8_IFNresponse',\n",
       " 'T_CD8_Mem_cytotoxic',\n",
       " 'T_CD8_Naive',\n",
       " 'T_CD8_activated',\n",
       " 'T_CD8_arrested',\n",
       " 'T_CD8_eff_HOBIT',\n",
       " 'T_Progenitors',\n",
       " 'T_Proliferative',\n",
       " 'Th0',\n",
       " 'Th1',\n",
       " 'Th2',\n",
       " 'Tregs',\n",
       " 'Tregs_activated',\n",
       " 'cDC1',\n",
       " 'cDC2',\n",
       " 'cDC3',\n",
       " 'gdT_V1',\n",
       " 'gdT_V2_Vγ9',\n",
       " 'pDC'}"
      ]
     },
     "execution_count": 15,
     "metadata": {},
     "output_type": "execute_result"
    }
   ],
   "source": [
    "set(master_AnnotDF[annotation_col_name])"
   ]
  },
  {
   "cell_type": "markdown",
   "metadata": {},
   "source": [
    "# Split Lineages"
   ]
  },
  {
   "cell_type": "code",
   "execution_count": 16,
   "metadata": {
    "execution": {
     "iopub.execute_input": "2024-05-22T14:03:03.851555Z",
     "iopub.status.busy": "2024-05-22T14:03:03.851352Z",
     "iopub.status.idle": "2024-05-22T14:03:03.864697Z",
     "shell.execute_reply": "2024-05-22T14:03:03.864237Z",
     "shell.execute_reply.started": "2024-05-22T14:03:03.851536Z"
    }
   },
   "outputs": [],
   "source": [
    "annotation_col_name = 'annotation_step_5'\n",
    "not_interesting_categories = [\"LowQuality_cells\", \"Doublets\",  'Platelets', \"RBC\"]\n",
    "finished_categories = [\n",
    "'B_IFNresponder',\n",
    " 'B_Memory_ITGAX',\n",
    " 'B_Memory_switched',\n",
    " 'B_Memory_unswitched',\n",
    " 'B_Naive',\n",
    " 'B_Naive_activated',\n",
    " 'B_Progenitors',\n",
    " 'B_Transitional',\n",
    " 'DC4',\n",
    " 'DC5',\n",
    " 'DC_CCR7',\n",
    " 'DC_Proliferative',\n",
    " 'HSC_LMP',\n",
    " 'HSC_MEMP',\n",
    " 'HSC_MMP',\n",
    " 'MAIT',\n",
    " 'MAIT_17',\n",
    " 'Mono_IFNresponse',\n",
    " 'Mono_classical',\n",
    " 'Mono_inflammatory',\n",
    " 'Mono_nonClassical',\n",
    " 'Mono_regulatory',\n",
    " 'NK_CD16high',\n",
    " 'NK_CD56dimCD16',\n",
    " 'NK_CD56high',\n",
    " 'NK_IFN1response',\n",
    " 'NK_Proliferative',\n",
    " 'NK_adaptive',\n",
    " 'NK_lowRibocontent',\n",
    " 'Plasma_IGHA',\n",
    " 'Plasma_IGHG',\n",
    " 'Plasma_XBP1',\n",
    " 'Plasma_Proliferative',\n",
    " 'T_CD4_CM',\n",
    " 'T_CD4_CM_ribo',\n",
    " 'T_CD4_EM',\n",
    " 'T_CD4_EMRA',\n",
    " 'T_CD4_Naive',\n",
    " 'T_CD4_eff',\n",
    " 'T_CD8_CM',\n",
    " 'T_CD8_CM_stem',\n",
    " 'T_CD8_EM_CX3CR1high',\n",
    " 'T_CD8_EM_CX3CR1int',\n",
    " 'T_CD8_IFNresponse',\n",
    " 'T_CD8_Mem_cytotoxic',\n",
    " 'T_CD8_Naive',\n",
    " 'T_CD8_activated',\n",
    " 'T_CD8_arrested',\n",
    " 'T_CD8_eff_HOBIT',\n",
    " 'T_Progenitors',\n",
    " 'T_Proliferative',\n",
    " 'Th0',\n",
    " 'Th1',\n",
    " 'Th2',\n",
    " 'Tregs',\n",
    " 'Tregs_activated',\n",
    " 'cDC1',\n",
    " 'cDC2',\n",
    " 'cDC3',\n",
    " 'gdT_V1',\n",
    " 'gdT_V2_Vγ9',\n",
    " 'pDC'\n",
    "]"
   ]
  },
  {
   "cell_type": "code",
   "execution_count": 17,
   "metadata": {
    "execution": {
     "iopub.execute_input": "2024-05-22T14:03:03.865663Z",
     "iopub.status.busy": "2024-05-22T14:03:03.865346Z",
     "iopub.status.idle": "2024-05-22T14:03:04.133295Z",
     "shell.execute_reply": "2024-05-22T14:03:04.132822Z",
     "shell.execute_reply.started": "2024-05-22T14:03:03.865643Z"
    }
   },
   "outputs": [
    {
     "name": "stdout",
     "output_type": "stream",
     "text": [
      "annotation_step_5\n",
      "T_CD4_Naive         792955\n",
      "Mono_classical      485760\n",
      "LowQuality_cells    241452\n",
      "Doublets            240766\n",
      "T_CD8_Naive         213776\n",
      "                     ...  \n",
      "DC5                   1697\n",
      "B_Progenitors          987\n",
      "T_Progenitors          868\n",
      "HSC_MEMP               392\n",
      "DC_Proliferative       200\n",
      "Length: 66, dtype: int64\n"
     ]
    }
   ],
   "source": [
    "cell_counts = master_AnnotDF.groupby(annotation_col_name).size().sort_values(ascending=False)\n",
    "print(cell_counts)"
   ]
  },
  {
   "cell_type": "code",
   "execution_count": 18,
   "metadata": {
    "execution": {
     "iopub.execute_input": "2024-05-22T14:03:04.134140Z",
     "iopub.status.busy": "2024-05-22T14:03:04.133937Z",
     "iopub.status.idle": "2024-05-22T14:03:04.137867Z",
     "shell.execute_reply": "2024-05-22T14:03:04.137505Z",
     "shell.execute_reply.started": "2024-05-22T14:03:04.134120Z"
    }
   },
   "outputs": [
    {
     "name": "stdout",
     "output_type": "stream",
     "text": [
      "We are removing a total of 638788 cells\n",
      "LowQuality_cells: 241452 cells removed\n",
      "Doublets: 240766 cells removed\n",
      "Platelets: 154085 cells removed\n",
      "RBC: 2485 cells removed\n"
     ]
    }
   ],
   "source": [
    "total_cells_to_remove = cell_counts.loc[not_interesting_categories].sum()\n",
    "print(f\"We are removing a total of {total_cells_to_remove} cells\")\n",
    "for category in not_interesting_categories:\n",
    "    cells_removed = cell_counts.loc[category]\n",
    "    print(f\"{category}: {cells_removed} cells removed\")"
   ]
  },
  {
   "cell_type": "code",
   "execution_count": 19,
   "metadata": {
    "execution": {
     "iopub.execute_input": "2024-05-22T14:03:04.138665Z",
     "iopub.status.busy": "2024-05-22T14:03:04.138377Z",
     "iopub.status.idle": "2024-05-22T14:03:04.148913Z",
     "shell.execute_reply": "2024-05-22T14:03:04.148531Z",
     "shell.execute_reply.started": "2024-05-22T14:03:04.138648Z"
    }
   },
   "outputs": [
    {
     "name": "stdout",
     "output_type": "stream",
     "text": [
      "We have finished a total of 4279352 cells\n",
      "B_IFNresponder: 9403 cells finished\n",
      "B_Memory_ITGAX: 16177 cells finished\n",
      "B_Memory_switched: 100092 cells finished\n",
      "B_Memory_unswitched: 11409 cells finished\n",
      "B_Naive: 130137 cells finished\n",
      "B_Naive_activated: 15055 cells finished\n",
      "B_Progenitors: 987 cells finished\n",
      "B_Transitional: 74601 cells finished\n",
      "DC4: 5729 cells finished\n",
      "DC5: 1697 cells finished\n",
      "DC_CCR7: 8023 cells finished\n",
      "DC_Proliferative: 200 cells finished\n",
      "HSC_LMP: 2784 cells finished\n",
      "HSC_MEMP: 392 cells finished\n",
      "HSC_MMP: 2002 cells finished\n",
      "MAIT: 36611 cells finished\n",
      "MAIT_17: 6005 cells finished\n",
      "Mono_IFNresponse: 177845 cells finished\n",
      "Mono_classical: 485760 cells finished\n",
      "Mono_inflammatory: 118967 cells finished\n",
      "Mono_nonClassical: 140172 cells finished\n",
      "Mono_regulatory: 126405 cells finished\n",
      "NK_CD16high: 23214 cells finished\n",
      "NK_CD56dimCD16: 183200 cells finished\n",
      "NK_CD56high: 32550 cells finished\n",
      "NK_IFN1response: 14267 cells finished\n",
      "NK_Proliferative: 13494 cells finished\n",
      "NK_adaptive: 35628 cells finished\n",
      "NK_lowRibocontent: 88026 cells finished\n",
      "Plasma_IGHA: 6594 cells finished\n",
      "Plasma_IGHG: 4905 cells finished\n",
      "Plasma_XBP1: 5355 cells finished\n",
      "Plasma_Proliferative: 3580 cells finished\n",
      "T_CD4_CM: 61292 cells finished\n",
      "T_CD4_CM_ribo: 71318 cells finished\n",
      "T_CD4_EM: 195829 cells finished\n",
      "T_CD4_EMRA: 38589 cells finished\n",
      "T_CD4_Naive: 792955 cells finished\n",
      "T_CD4_eff: 82211 cells finished\n",
      "T_CD8_CM: 136333 cells finished\n",
      "T_CD8_CM_stem: 30884 cells finished\n",
      "T_CD8_EM_CX3CR1high: 94949 cells finished\n",
      "T_CD8_EM_CX3CR1int: 105184 cells finished\n",
      "T_CD8_IFNresponse: 45352 cells finished\n",
      "T_CD8_Mem_cytotoxic: 46123 cells finished\n",
      "T_CD8_Naive: 213776 cells finished\n",
      "T_CD8_activated: 28265 cells finished\n",
      "T_CD8_arrested: 10427 cells finished\n",
      "T_CD8_eff_HOBIT: 25805 cells finished\n",
      "T_Progenitors: 868 cells finished\n",
      "T_Proliferative: 27907 cells finished\n",
      "Th0: 61884 cells finished\n",
      "Th1: 95281 cells finished\n",
      "Th2: 8521 cells finished\n",
      "Tregs: 28637 cells finished\n",
      "Tregs_activated: 68686 cells finished\n",
      "cDC1: 3371 cells finished\n",
      "cDC2: 12153 cells finished\n",
      "cDC3: 16103 cells finished\n",
      "gdT_V1: 8003 cells finished\n",
      "gdT_V2_Vγ9: 64478 cells finished\n",
      "pDC: 22902 cells finished\n"
     ]
    }
   ],
   "source": [
    "total_cells_finished = cell_counts.loc[finished_categories].sum()\n",
    "print(f\"We have finished a total of {total_cells_finished} cells\")\n",
    "for category in finished_categories:\n",
    "    cells_finished = cell_counts.loc[category]\n",
    "    print(f\"{category}: {cells_finished} cells finished\")"
   ]
  },
  {
   "cell_type": "code",
   "execution_count": 20,
   "metadata": {
    "execution": {
     "iopub.execute_input": "2024-05-22T14:03:04.149759Z",
     "iopub.status.busy": "2024-05-22T14:03:04.149453Z",
     "iopub.status.idle": "2024-05-22T14:03:04.159194Z",
     "shell.execute_reply": "2024-05-22T14:03:04.158810Z",
     "shell.execute_reply.started": "2024-05-22T14:03:04.149742Z"
    }
   },
   "outputs": [
    {
     "name": "stdout",
     "output_type": "stream",
     "text": [
      "We are still missing a total of 0 cells\n"
     ]
    }
   ],
   "source": [
    "next_step_categories = cell_counts.index.difference(set(finished_categories).union(set(not_interesting_categories)))\n",
    "total_cells_of_interest = cell_counts.loc[next_step_categories].sum()\n",
    "print(f\"We are still missing a total of {total_cells_of_interest} cells\")\n",
    "for category in next_step_categories:\n",
    "    cells_missing = cell_counts.loc[category]\n",
    "    print(f\"{category}: {cells_missing} cells missing\")"
   ]
  },
  {
   "cell_type": "code",
   "execution_count": 21,
   "metadata": {
    "execution": {
     "iopub.execute_input": "2024-05-22T14:03:04.159946Z",
     "iopub.status.busy": "2024-05-22T14:03:04.159719Z",
     "iopub.status.idle": "2024-05-22T14:03:04.390752Z",
     "shell.execute_reply": "2024-05-22T14:03:04.390290Z",
     "shell.execute_reply.started": "2024-05-22T14:03:04.159929Z"
    }
   },
   "outputs": [
    {
     "data": {
      "text/plain": [
       "array(['pDC', 'Doublets', 'LowQuality_cells', 'Platelets',\n",
       "       'DC_Proliferative', 'DC5', 'cDC2', 'cDC3', 'DC_CCR7',\n",
       "       'Mono_regulatory', 'Mono_classical', 'Mono_nonClassical',\n",
       "       'Mono_inflammatory', 'Mono_IFNresponse', 'cDC1', 'DC4', 'RBC',\n",
       "       'T_CD8_eff_HOBIT', 'T_CD4_Naive', 'T_CD4_CM', 'Th0', 'Tregs',\n",
       "       'T_CD8_activated', 'T_CD8_CM', 'T_CD8_Mem_cytotoxic',\n",
       "       'T_CD8_IFNresponse', 'T_CD8_EM_CX3CR1high', 'NK_CD56dimCD16',\n",
       "       'T_CD8_EM_CX3CR1int', 'T_CD4_EM', 'T_CD8_Naive', 'NK_IFN1response',\n",
       "       'NK_lowRibocontent', 'NK_adaptive', 'NK_CD56high', 'Th1',\n",
       "       'Tregs_activated', 'T_CD4_EMRA', 'NK_Proliferative',\n",
       "       'T_CD4_CM_ribo', 'T_Proliferative', 'NK_CD16high', 'T_CD4_eff',\n",
       "       'T_CD8_arrested', 'Th2', 'T_CD8_CM_stem', 'MAIT_17', 'gdT_V2_Vγ9',\n",
       "       'gdT_V1', 'MAIT', 'T_Progenitors', 'Plasma_IGHA', 'Plasma_IGHG',\n",
       "       'Plasma_Proliferative', 'Plasma_XBP1', 'B_Memory_switched',\n",
       "       'B_Naive', 'HSC_LMP', 'HSC_MMP', 'B_Progenitors', 'HSC_MEMP',\n",
       "       'B_Naive_activated', 'B_Transitional', 'B_Memory_ITGAX',\n",
       "       'B_IFNresponder', 'B_Memory_unswitched'], dtype=object)"
      ]
     },
     "execution_count": 21,
     "metadata": {},
     "output_type": "execute_result"
    }
   ],
   "source": [
    "master_AnnotDF[annotation_col_name].unique()"
   ]
  },
  {
   "cell_type": "code",
   "execution_count": 22,
   "metadata": {
    "execution": {
     "iopub.execute_input": "2024-05-22T14:03:04.391678Z",
     "iopub.status.busy": "2024-05-22T14:03:04.391375Z",
     "iopub.status.idle": "2024-05-22T14:03:07.285245Z",
     "shell.execute_reply": "2024-05-22T14:03:07.284723Z",
     "shell.execute_reply.started": "2024-05-22T14:03:04.391660Z"
    }
   },
   "outputs": [],
   "source": [
    "master_AnnotDF.to_pickle(here(f\"02_fromCellLineages_to_CellTypes/master_clusterAnnotDF.pkl\"))"
   ]
  },
  {
   "cell_type": "markdown",
   "metadata": {},
   "source": [
    "## Add Level1 annotation"
   ]
  },
  {
   "cell_type": "code",
   "execution_count": 23,
   "metadata": {
    "execution": {
     "iopub.execute_input": "2024-05-22T14:03:07.286187Z",
     "iopub.status.busy": "2024-05-22T14:03:07.285870Z",
     "iopub.status.idle": "2024-05-22T14:03:07.578755Z",
     "shell.execute_reply": "2024-05-22T14:03:07.578339Z",
     "shell.execute_reply.started": "2024-05-22T14:03:07.286170Z"
    }
   },
   "outputs": [
    {
     "data": {
      "text/plain": [
       "array(['pDC', 'Doublets', 'LowQuality_cells', 'Platelets',\n",
       "       'DC_Proliferative', 'DC5', 'cDC2', 'cDC3', 'DC_CCR7',\n",
       "       'Mono_regulatory', 'Mono_classical', 'Mono_nonClassical',\n",
       "       'Mono_inflammatory', 'Mono_IFNresponse', 'cDC1', 'DC4', 'RBC',\n",
       "       'T_CD8_eff_HOBIT', 'T_CD4_Naive', 'T_CD4_CM', 'Th0', 'Tregs',\n",
       "       'T_CD8_activated', 'T_CD8_CM', 'T_CD8_Mem_cytotoxic',\n",
       "       'T_CD8_IFNresponse', 'T_CD8_EM_CX3CR1high', 'NK_CD56dimCD16',\n",
       "       'T_CD8_EM_CX3CR1int', 'T_CD4_EM', 'T_CD8_Naive', 'NK_IFN1response',\n",
       "       'NK_lowRibocontent', 'NK_adaptive', 'NK_CD56high', 'Th1',\n",
       "       'Tregs_activated', 'T_CD4_EMRA', 'NK_Proliferative',\n",
       "       'T_CD4_CM_ribo', 'T_Proliferative', 'NK_CD16high', 'T_CD4_eff',\n",
       "       'T_CD8_arrested', 'Th2', 'T_CD8_CM_stem', 'MAIT_17', 'gdT_V2_Vγ9',\n",
       "       'gdT_V1', 'MAIT', 'T_Progenitors', 'Plasma_IGHA', 'Plasma_IGHG',\n",
       "       'Plasma_Proliferative', 'Plasma_XBP1', 'B_Memory_switched',\n",
       "       'B_Naive', 'HSC_LMP', 'HSC_MMP', 'B_Progenitors', 'HSC_MEMP',\n",
       "       'B_Naive_activated', 'B_Transitional', 'B_Memory_ITGAX',\n",
       "       'B_IFNresponder', 'B_Memory_unswitched'], dtype=object)"
      ]
     },
     "execution_count": 23,
     "metadata": {},
     "output_type": "execute_result"
    }
   ],
   "source": [
    "master_AnnotDF[\"Level1\"] = master_AnnotDF[\"annotation_step_5\"].astype('str')\n",
    "master_AnnotDF[\"Level1\"].unique()"
   ]
  },
  {
   "cell_type": "code",
   "execution_count": 24,
   "metadata": {
    "execution": {
     "iopub.execute_input": "2024-05-22T14:03:07.579574Z",
     "iopub.status.busy": "2024-05-22T14:03:07.579373Z",
     "iopub.status.idle": "2024-05-22T14:03:07.584063Z",
     "shell.execute_reply": "2024-05-22T14:03:07.583704Z",
     "shell.execute_reply.started": "2024-05-22T14:03:07.579555Z"
    }
   },
   "outputs": [],
   "source": [
    "# Level1 dictionary\n",
    "\n",
    "annotation_level1_unification = {\n",
    "    \"B\": ['B_IFNresponder','B_Memory_ITGAX','B_Memory_switched','B_Memory_unswitched','B_Naive','B_Naive_activated', 'B_Transitional'],\n",
    "    \"Plasma\": [ 'Plasma_IGHA', 'Plasma_IGHG', 'Plasma_XBP1', ],\n",
    "    \"pDC\": ['pDC'],\n",
    "    \"Mono\": ['Mono_regulatory', 'Mono_classical', 'Mono_nonClassical', 'Mono_inflammatory','Mono_IFNresponse'],\n",
    "    \"DC\": ['cDC1', 'cDC2', 'cDC3', 'DC4', 'DC5', 'DC_CCR7'],\n",
    "    \"T_CD4_Naive\": ['T_CD4_Naive'],\n",
    "    \"T_CD4_NonNaive\": [ 'T_CD4_CM', 'T_CD4_CM_ribo', 'T_CD4_EM', 'T_CD4_EMRA', 'T_CD4_eff', 'Th0','Th1', 'Th2', 'Tregs', 'Tregs_activated',],\n",
    "    \"T_CD8_Naive\": ['T_CD8_Naive'],\n",
    "    \"T_CD8_NonNaive\": [ 'T_CD8_CM', 'T_CD8_CM_stem', 'T_CD8_EM_CX3CR1high', 'T_CD8_EM_CX3CR1int', 'T_CD8_IFNresponse', 'T_CD8_Mem_cytotoxic', 'T_CD8_activated', 'T_CD8_arrested', 'T_CD8_eff_HOBIT'],\n",
    "    \"UTC\": ['gdT_V1', 'gdT_V2_Vγ9',  'MAIT', 'MAIT_17'],\n",
    "    \"ILC\": [ 'NK_CD16high', 'NK_CD56dimCD16', 'NK_CD56high', 'NK_IFN1response', 'NK_adaptive', 'NK_lowRibocontent'],\n",
    "    \"Progenitors\": [ 'HSC_LMP', 'HSC_MEMP', 'HSC_MMP','B_Progenitors',  'T_Progenitors',],\n",
    "    \"Cycling_cells\": ['DC_Proliferative', 'T_Proliferative', 'NK_Proliferative', 'Plasma_Proliferative'],\n",
    "    \"RBC\": ['RBC'],\n",
    "    \"Platelets\": ['Platelets'],\n",
    "    \"Doublets\": ['Doublets'],         \n",
    "    \"LowQuality_cells\": ['LowQuality_cells']\n",
    "}\n",
    "\n",
    "annotation_level1_unification_rev = {old_label: new_label for new_label, old_labels in annotation_level1_unification.items() for old_label in old_labels}"
   ]
  },
  {
   "cell_type": "code",
   "execution_count": 25,
   "metadata": {
    "execution": {
     "iopub.execute_input": "2024-05-22T14:03:07.584789Z",
     "iopub.status.busy": "2024-05-22T14:03:07.584566Z",
     "iopub.status.idle": "2024-05-22T14:03:08.156330Z",
     "shell.execute_reply": "2024-05-22T14:03:08.155822Z",
     "shell.execute_reply.started": "2024-05-22T14:03:07.584773Z"
    },
    "scrolled": true
   },
   "outputs": [],
   "source": [
    "master_AnnotDF[\"Level1\"] = master_AnnotDF[\"annotation_step_5\"].astype('str')\n",
    "\n",
    "#Renaming\n",
    "master_AnnotDF['Level1'] = master_AnnotDF['annotation_step_5'].map(annotation_level1_unification_rev)\n",
    "\n",
    "# Convert the column back to categorical if needed\n",
    "master_AnnotDF[\"Level1\"] = master_AnnotDF[\"Level1\"].astype('category')"
   ]
  },
  {
   "cell_type": "code",
   "execution_count": 26,
   "metadata": {
    "execution": {
     "iopub.execute_input": "2024-05-22T14:03:08.157194Z",
     "iopub.status.busy": "2024-05-22T14:03:08.156990Z",
     "iopub.status.idle": "2024-05-22T14:03:08.188574Z",
     "shell.execute_reply": "2024-05-22T14:03:08.188178Z",
     "shell.execute_reply.started": "2024-05-22T14:03:08.157177Z"
    }
   },
   "outputs": [
    {
     "data": {
      "text/plain": [
       "Level1\n",
       "Mono                1049149\n",
       "T_CD4_Naive          792955\n",
       "T_CD4_NonNaive       712248\n",
       "T_CD8_NonNaive       523322\n",
       "ILC                  376885\n",
       "B                    356874\n",
       "LowQuality_cells     241452\n",
       "Doublets             240766\n",
       "T_CD8_Naive          213776\n",
       "Platelets            154085\n",
       "UTC                  115097\n",
       "DC                    47076\n",
       "Cycling_cells         45181\n",
       "pDC                   22902\n",
       "Plasma                16854\n",
       "Progenitors            7033\n",
       "RBC                    2485\n",
       "dtype: int64"
      ]
     },
     "execution_count": 26,
     "metadata": {},
     "output_type": "execute_result"
    }
   ],
   "source": [
    "master_AnnotDF.groupby(\"Level1\").size().sort_values(ascending=False)"
   ]
  },
  {
   "cell_type": "code",
   "execution_count": 27,
   "metadata": {
    "execution": {
     "iopub.execute_input": "2024-05-22T14:03:08.189342Z",
     "iopub.status.busy": "2024-05-22T14:03:08.189138Z",
     "iopub.status.idle": "2024-05-22T14:03:08.218675Z",
     "shell.execute_reply": "2024-05-22T14:03:08.218257Z",
     "shell.execute_reply.started": "2024-05-22T14:03:08.189324Z"
    }
   },
   "outputs": [
    {
     "data": {
      "text/plain": [
       "4918140"
      ]
     },
     "execution_count": 27,
     "metadata": {},
     "output_type": "execute_result"
    }
   ],
   "source": [
    "master_AnnotDF.groupby(\"Level1\").size().sum()"
   ]
  },
  {
   "cell_type": "markdown",
   "metadata": {},
   "source": [
    "## Add Level2 annotation"
   ]
  },
  {
   "cell_type": "code",
   "execution_count": 28,
   "metadata": {
    "execution": {
     "iopub.execute_input": "2024-05-22T14:03:08.219466Z",
     "iopub.status.busy": "2024-05-22T14:03:08.219270Z",
     "iopub.status.idle": "2024-05-22T14:03:08.507208Z",
     "shell.execute_reply": "2024-05-22T14:03:08.506779Z",
     "shell.execute_reply.started": "2024-05-22T14:03:08.219448Z"
    }
   },
   "outputs": [
    {
     "data": {
      "text/plain": [
       "array(['pDC', 'Doublets', 'LowQuality_cells', 'Platelets',\n",
       "       'DC_Proliferative', 'DC5', 'cDC2', 'cDC3', 'DC_CCR7',\n",
       "       'Mono_regulatory', 'Mono_classical', 'Mono_nonClassical',\n",
       "       'Mono_inflammatory', 'Mono_IFNresponse', 'cDC1', 'DC4', 'RBC',\n",
       "       'T_CD8_eff_HOBIT', 'T_CD4_Naive', 'T_CD4_CM', 'Th0', 'Tregs',\n",
       "       'T_CD8_activated', 'T_CD8_CM', 'T_CD8_Mem_cytotoxic',\n",
       "       'T_CD8_IFNresponse', 'T_CD8_EM_CX3CR1high', 'NK_CD56dimCD16',\n",
       "       'T_CD8_EM_CX3CR1int', 'T_CD4_EM', 'T_CD8_Naive', 'NK_IFN1response',\n",
       "       'NK_lowRibocontent', 'NK_adaptive', 'NK_CD56high', 'Th1',\n",
       "       'Tregs_activated', 'T_CD4_EMRA', 'NK_Proliferative',\n",
       "       'T_CD4_CM_ribo', 'T_Proliferative', 'NK_CD16high', 'T_CD4_eff',\n",
       "       'T_CD8_arrested', 'Th2', 'T_CD8_CM_stem', 'MAIT_17', 'gdT_V2_Vγ9',\n",
       "       'gdT_V1', 'MAIT', 'T_Progenitors', 'Plasma_IGHA', 'Plasma_IGHG',\n",
       "       'Plasma_Proliferative', 'Plasma_XBP1', 'B_Memory_switched',\n",
       "       'B_Naive', 'HSC_LMP', 'HSC_MMP', 'B_Progenitors', 'HSC_MEMP',\n",
       "       'B_Naive_activated', 'B_Transitional', 'B_Memory_ITGAX',\n",
       "       'B_IFNresponder', 'B_Memory_unswitched'], dtype=object)"
      ]
     },
     "execution_count": 28,
     "metadata": {},
     "output_type": "execute_result"
    }
   ],
   "source": [
    "master_AnnotDF[\"Level2\"] = master_AnnotDF[\"annotation_step_5\"].astype('str')\n",
    "master_AnnotDF[\"Level2\"].unique()"
   ]
  },
  {
   "cell_type": "code",
   "execution_count": 29,
   "metadata": {
    "execution": {
     "iopub.execute_input": "2024-05-22T14:03:08.507984Z",
     "iopub.status.busy": "2024-05-22T14:03:08.507809Z",
     "iopub.status.idle": "2024-05-22T14:03:08.515895Z",
     "shell.execute_reply": "2024-05-22T14:03:08.515524Z",
     "shell.execute_reply.started": "2024-05-22T14:03:08.507962Z"
    }
   },
   "outputs": [
    {
     "data": {
      "text/html": [
       "<div>\n",
       "<style scoped>\n",
       "    .dataframe tbody tr th:only-of-type {\n",
       "        vertical-align: middle;\n",
       "    }\n",
       "\n",
       "    .dataframe tbody tr th {\n",
       "        vertical-align: top;\n",
       "    }\n",
       "\n",
       "    .dataframe thead th {\n",
       "        text-align: right;\n",
       "    }\n",
       "</style>\n",
       "<table border=\"1\" class=\"dataframe\">\n",
       "  <thead>\n",
       "    <tr style=\"text-align: right;\">\n",
       "      <th></th>\n",
       "      <th>annotation_step_1</th>\n",
       "      <th>annotation_step_2</th>\n",
       "      <th>annotation_step_3</th>\n",
       "      <th>annotation_step_4</th>\n",
       "      <th>annotation_step_5</th>\n",
       "      <th>Level1</th>\n",
       "      <th>Level2</th>\n",
       "    </tr>\n",
       "    <tr>\n",
       "      <th>cellID</th>\n",
       "      <th></th>\n",
       "      <th></th>\n",
       "      <th></th>\n",
       "      <th></th>\n",
       "      <th></th>\n",
       "      <th></th>\n",
       "      <th></th>\n",
       "    </tr>\n",
       "  </thead>\n",
       "  <tbody>\n",
       "    <tr>\n",
       "      <th>SCGT00_L051_I53.3P_T0_AACCAACGTGGGATTG</th>\n",
       "      <td>pDC</td>\n",
       "      <td>pDC</td>\n",
       "      <td>pDC</td>\n",
       "      <td>pDC</td>\n",
       "      <td>pDC</td>\n",
       "      <td>pDC</td>\n",
       "      <td>pDC</td>\n",
       "    </tr>\n",
       "    <tr>\n",
       "      <th>SCGT00_L051_I58.3P_T0_ACCTGAAAGTGCCAGA</th>\n",
       "      <td>pDC</td>\n",
       "      <td>pDC</td>\n",
       "      <td>pDC</td>\n",
       "      <td>pDC</td>\n",
       "      <td>pDC</td>\n",
       "      <td>pDC</td>\n",
       "      <td>pDC</td>\n",
       "    </tr>\n",
       "    <tr>\n",
       "      <th>SCGT00_L051_I53.3P_T0_ACTATGGAGGCGCTCT</th>\n",
       "      <td>pDC</td>\n",
       "      <td>pDC</td>\n",
       "      <td>pDC</td>\n",
       "      <td>pDC</td>\n",
       "      <td>pDC</td>\n",
       "      <td>pDC</td>\n",
       "      <td>pDC</td>\n",
       "    </tr>\n",
       "    <tr>\n",
       "      <th>SCGT00_L051_I55.3P_T0_ACTTTCACATGGGTTT</th>\n",
       "      <td>pDC</td>\n",
       "      <td>pDC</td>\n",
       "      <td>pDC</td>\n",
       "      <td>pDC</td>\n",
       "      <td>pDC</td>\n",
       "      <td>pDC</td>\n",
       "      <td>pDC</td>\n",
       "    </tr>\n",
       "    <tr>\n",
       "      <th>SCGT00_L051_I52.3P_T0_ATCACAGTCATCGGGC</th>\n",
       "      <td>pDC</td>\n",
       "      <td>pDC</td>\n",
       "      <td>pDC</td>\n",
       "      <td>pDC</td>\n",
       "      <td>pDC</td>\n",
       "      <td>pDC</td>\n",
       "      <td>pDC</td>\n",
       "    </tr>\n",
       "  </tbody>\n",
       "</table>\n",
       "</div>"
      ],
      "text/plain": [
       "                                       annotation_step_1 annotation_step_2  \\\n",
       "cellID                                                                       \n",
       "SCGT00_L051_I53.3P_T0_AACCAACGTGGGATTG               pDC               pDC   \n",
       "SCGT00_L051_I58.3P_T0_ACCTGAAAGTGCCAGA               pDC               pDC   \n",
       "SCGT00_L051_I53.3P_T0_ACTATGGAGGCGCTCT               pDC               pDC   \n",
       "SCGT00_L051_I55.3P_T0_ACTTTCACATGGGTTT               pDC               pDC   \n",
       "SCGT00_L051_I52.3P_T0_ATCACAGTCATCGGGC               pDC               pDC   \n",
       "\n",
       "                                       annotation_step_3 annotation_step_4  \\\n",
       "cellID                                                                       \n",
       "SCGT00_L051_I53.3P_T0_AACCAACGTGGGATTG               pDC               pDC   \n",
       "SCGT00_L051_I58.3P_T0_ACCTGAAAGTGCCAGA               pDC               pDC   \n",
       "SCGT00_L051_I53.3P_T0_ACTATGGAGGCGCTCT               pDC               pDC   \n",
       "SCGT00_L051_I55.3P_T0_ACTTTCACATGGGTTT               pDC               pDC   \n",
       "SCGT00_L051_I52.3P_T0_ATCACAGTCATCGGGC               pDC               pDC   \n",
       "\n",
       "                                       annotation_step_5 Level1 Level2  \n",
       "cellID                                                                  \n",
       "SCGT00_L051_I53.3P_T0_AACCAACGTGGGATTG               pDC    pDC    pDC  \n",
       "SCGT00_L051_I58.3P_T0_ACCTGAAAGTGCCAGA               pDC    pDC    pDC  \n",
       "SCGT00_L051_I53.3P_T0_ACTATGGAGGCGCTCT               pDC    pDC    pDC  \n",
       "SCGT00_L051_I55.3P_T0_ACTTTCACATGGGTTT               pDC    pDC    pDC  \n",
       "SCGT00_L051_I52.3P_T0_ATCACAGTCATCGGGC               pDC    pDC    pDC  "
      ]
     },
     "execution_count": 29,
     "metadata": {},
     "output_type": "execute_result"
    }
   ],
   "source": [
    "master_AnnotDF.head()"
   ]
  },
  {
   "cell_type": "code",
   "execution_count": 30,
   "metadata": {
    "execution": {
     "iopub.execute_input": "2024-05-22T14:03:08.516624Z",
     "iopub.status.busy": "2024-05-22T14:03:08.516396Z",
     "iopub.status.idle": "2024-05-22T14:03:11.256052Z",
     "shell.execute_reply": "2024-05-22T14:03:11.255567Z",
     "shell.execute_reply.started": "2024-05-22T14:03:08.516607Z"
    }
   },
   "outputs": [],
   "source": [
    "# Save\n",
    "master_AnnotDF.to_pickle(here(f\"02_fromCellLineages_to_CellTypes/master_clusterAnnotDF_final.pkl\"))"
   ]
  },
  {
   "cell_type": "code",
   "execution_count": 31,
   "metadata": {
    "execution": {
     "iopub.execute_input": "2024-05-22T14:03:11.256896Z",
     "iopub.status.busy": "2024-05-22T14:03:11.256693Z",
     "iopub.status.idle": "2024-05-22T14:03:11.939716Z",
     "shell.execute_reply": "2024-05-22T14:03:11.939318Z",
     "shell.execute_reply.started": "2024-05-22T14:03:11.256878Z"
    }
   },
   "outputs": [
    {
     "data": {
      "text/html": [
       "<details>\n",
       "<summary>Click to view session information</summary>\n",
       "<pre>\n",
       "-----\n",
       "customPythonFunctions       NA\n",
       "numpy                       1.26.4\n",
       "pandas                      2.2.0\n",
       "pyprojroot                  NA\n",
       "session_info                1.0.0\n",
       "-----\n",
       "</pre>\n",
       "<details>\n",
       "<summary>Click to view modules imported as dependencies</summary>\n",
       "<pre>\n",
       "anyio                       NA\n",
       "argcomplete                 NA\n",
       "arrow                       1.3.0\n",
       "asttokens                   NA\n",
       "attr                        23.2.0\n",
       "attrs                       23.2.0\n",
       "babel                       2.14.0\n",
       "brotli                      1.1.0\n",
       "certifi                     2024.02.02\n",
       "charset_normalizer          3.3.2\n",
       "colorama                    0.4.6\n",
       "comm                        0.2.1\n",
       "cython_runtime              NA\n",
       "dateutil                    2.8.2\n",
       "debugpy                     1.8.1\n",
       "decorator                   5.1.1\n",
       "exceptiongroup              1.2.0\n",
       "executing                   2.0.1\n",
       "fastjsonschema              NA\n",
       "fqdn                        NA\n",
       "idna                        3.6\n",
       "ipykernel                   6.29.2\n",
       "isoduration                 NA\n",
       "jedi                        0.19.1\n",
       "jinja2                      3.1.3\n",
       "json5                       NA\n",
       "jsonpointer                 2.4\n",
       "jsonschema                  4.21.1\n",
       "jsonschema_specifications   NA\n",
       "jupyter_events              0.9.0\n",
       "jupyter_server              2.12.5\n",
       "jupyterlab_server           2.25.3\n",
       "markupsafe                  2.1.5\n",
       "nbformat                    5.9.2\n",
       "overrides                   NA\n",
       "packaging                   23.2\n",
       "parso                       0.8.3\n",
       "pickleshare                 0.7.5\n",
       "platformdirs                4.2.0\n",
       "prometheus_client           NA\n",
       "prompt_toolkit              3.0.42\n",
       "psutil                      5.9.8\n",
       "pure_eval                   0.2.2\n",
       "pyarrow                     15.0.0\n",
       "pydev_ipython               NA\n",
       "pydevconsole                NA\n",
       "pydevd                      2.9.5\n",
       "pydevd_file_utils           NA\n",
       "pydevd_plugins              NA\n",
       "pydevd_tracing              NA\n",
       "pygments                    2.17.2\n",
       "pythonjsonlogger            NA\n",
       "pytz                        2024.1\n",
       "referencing                 NA\n",
       "requests                    2.31.0\n",
       "rfc3339_validator           0.1.4\n",
       "rfc3986_validator           0.1.1\n",
       "rpds                        NA\n",
       "send2trash                  NA\n",
       "simplejson                  3.19.2\n",
       "six                         1.16.0\n",
       "sniffio                     1.3.0\n",
       "socks                       1.7.1\n",
       "stack_data                  0.6.2\n",
       "tornado                     6.4\n",
       "traitlets                   5.14.1\n",
       "typing_extensions           NA\n",
       "uri_template                NA\n",
       "urllib3                     2.2.1\n",
       "wcwidth                     0.2.13\n",
       "webcolors                   1.13\n",
       "websocket                   1.7.0\n",
       "yaml                        6.0.1\n",
       "zmq                         25.1.2\n",
       "zoneinfo                    NA\n",
       "zstandard                   0.22.0\n",
       "</pre>\n",
       "</details> <!-- seems like this ends pre, so might as well be explicit -->\n",
       "<pre>\n",
       "-----\n",
       "IPython             8.21.0\n",
       "jupyter_client      8.6.0\n",
       "jupyter_core        5.7.1\n",
       "jupyterlab          4.1.2\n",
       "-----\n",
       "Python 3.10.13 | packaged by conda-forge | (main, Dec 23 2023, 15:36:39) [GCC 12.3.0]\n",
       "Linux-3.10.0-1160.88.1.el7.x86_64-x86_64-with-glibc2.17\n",
       "-----\n",
       "Session information updated at 2024-05-22 16:03\n",
       "</pre>\n",
       "</details>"
      ],
      "text/plain": [
       "<IPython.core.display.HTML object>"
      ]
     },
     "execution_count": 31,
     "metadata": {},
     "output_type": "execute_result"
    }
   ],
   "source": [
    "session_info.show()"
   ]
  },
  {
   "cell_type": "code",
   "execution_count": null,
   "metadata": {},
   "outputs": [],
   "source": []
  }
 ],
 "metadata": {
  "kernelspec": {
   "display_name": "Python 3 (ipykernel)",
   "language": "python",
   "name": "python3"
  },
  "language_info": {
   "codemirror_mode": {
    "name": "ipython",
    "version": 3
   },
   "file_extension": ".py",
   "mimetype": "text/x-python",
   "name": "python",
   "nbconvert_exporter": "python",
   "pygments_lexer": "ipython3",
   "version": "3.10.13"
  },
  "toc": {
   "base_numbering": 1,
   "nav_menu": {},
   "number_sections": true,
   "sideBar": true,
   "skip_h1_title": false,
   "title_cell": "Table of Contents",
   "title_sidebar": "Contents",
   "toc_cell": false,
   "toc_position": {},
   "toc_section_display": true,
   "toc_window_display": false
  }
 },
 "nbformat": 4,
 "nbformat_minor": 4
}
