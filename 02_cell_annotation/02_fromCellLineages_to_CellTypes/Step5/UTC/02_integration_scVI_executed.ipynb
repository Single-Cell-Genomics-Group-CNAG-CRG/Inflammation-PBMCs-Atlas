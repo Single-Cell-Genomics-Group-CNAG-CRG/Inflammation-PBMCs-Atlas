{
 "cells": [
  {
   "cell_type": "code",
   "execution_count": 1,
   "id": "2dd1425a-0c07-465e-b522-9e3cc5cb93a7",
   "metadata": {
    "execution": {
     "iopub.execute_input": "2024-05-07T14:59:36.464251Z",
     "iopub.status.busy": "2024-05-07T14:59:36.463992Z",
     "iopub.status.idle": "2024-05-07T14:59:47.451020Z",
     "shell.execute_reply": "2024-05-07T14:59:47.450250Z"
    },
    "papermill": {
     "duration": 10.995437,
     "end_time": "2024-05-07T14:59:47.454092",
     "exception": false,
     "start_time": "2024-05-07T14:59:36.458655",
     "status": "completed"
    },
    "tags": []
   },
   "outputs": [
    {
     "data": {
      "text/plain": [
       "True"
      ]
     },
     "execution_count": 1,
     "metadata": {},
     "output_type": "execute_result"
    }
   ],
   "source": [
    "import os\n",
    "import sys\n",
    "\n",
    "import numpy as np\n",
    "import matplotlib.pyplot as plt\n",
    "\n",
    "import scanpy as sc\n",
    "import scvi\n",
    "import torch\n",
    "\n",
    "from pytorch_lightning.loggers import WandbLogger\n",
    "import wandb\n",
    "from dotenv import load_dotenv\n",
    "\n",
    "import session_info\n",
    "import warnings\n",
    "from pyprojroot.here import here\n",
    "\n",
    "warnings.filterwarnings(\"ignore\")\n",
    "sys.path.insert(1, str(here('bin')))\n",
    "\n",
    "torch.set_float32_matmul_precision('high')\n",
    "\n",
    "#plt.style.use(['science','nature','no-latex'])\n",
    "dpi_fig_save = 300\n",
    "sc.set_figure_params(dpi=100, dpi_save=dpi_fig_save, vector_friendly=True)\n",
    "\n",
    "load_dotenv(here('.env'))"
   ]
  },
  {
   "cell_type": "code",
   "execution_count": 2,
   "id": "09c897fc-744b-43de-a681-718fb5d327fa",
   "metadata": {
    "execution": {
     "iopub.execute_input": "2024-05-07T14:59:47.472701Z",
     "iopub.status.busy": "2024-05-07T14:59:47.471942Z",
     "iopub.status.idle": "2024-05-07T14:59:47.476123Z",
     "shell.execute_reply": "2024-05-07T14:59:47.475498Z"
    },
    "papermill": {
     "duration": 0.014452,
     "end_time": "2024-05-07T14:59:47.478383",
     "exception": false,
     "start_time": "2024-05-07T14:59:47.463931",
     "status": "completed"
    },
    "tags": []
   },
   "outputs": [],
   "source": [
    "class CustomWandbLogger(WandbLogger):\n",
    "    @property\n",
    "    def save_dir(self):\n",
    "        return self.experiment.dir"
   ]
  },
  {
   "cell_type": "code",
   "execution_count": 3,
   "id": "8ee6662f-5d45-4137-80a5-bb0b9ae8d71f",
   "metadata": {
    "execution": {
     "iopub.execute_input": "2024-05-07T14:59:47.492825Z",
     "iopub.status.busy": "2024-05-07T14:59:47.492563Z",
     "iopub.status.idle": "2024-05-07T14:59:47.498623Z",
     "shell.execute_reply": "2024-05-07T14:59:47.497990Z"
    },
    "papermill": {
     "duration": 0.015601,
     "end_time": "2024-05-07T14:59:47.500583",
     "exception": false,
     "start_time": "2024-05-07T14:59:47.484982",
     "status": "completed"
    },
    "tags": []
   },
   "outputs": [
    {
     "name": "stderr",
     "output_type": "stream",
     "text": [
      "Seed set to 0\n"
     ]
    },
    {
     "name": "stdout",
     "output_type": "stream",
     "text": [
      "Last run with scvi-tools version: 1.1.2\n"
     ]
    }
   ],
   "source": [
    "scvi.settings.seed = 0\n",
    "print(\"Last run with scvi-tools version:\", scvi.__version__)"
   ]
  },
  {
   "cell_type": "markdown",
   "id": "a81037ff-5998-482a-ba86-520f757311a9",
   "metadata": {
    "papermill": {
     "duration": 0.003673,
     "end_time": "2024-05-07T14:59:47.510720",
     "exception": false,
     "start_time": "2024-05-07T14:59:47.507047",
     "status": "completed"
    },
    "tags": []
   },
   "source": [
    "**Setting parameters** "
   ]
  },
  {
   "cell_type": "code",
   "execution_count": 4,
   "id": "56c27966-8f10-4c93-8b1a-1fa75f005e41",
   "metadata": {
    "execution": {
     "iopub.execute_input": "2024-05-07T14:59:47.519424Z",
     "iopub.status.busy": "2024-05-07T14:59:47.519163Z",
     "iopub.status.idle": "2024-05-07T14:59:47.522693Z",
     "shell.execute_reply": "2024-05-07T14:59:47.521870Z"
    },
    "papermill": {
     "duration": 0.010025,
     "end_time": "2024-05-07T14:59:47.524326",
     "exception": false,
     "start_time": "2024-05-07T14:59:47.514301",
     "status": "completed"
    },
    "tags": []
   },
   "outputs": [],
   "source": [
    "overwriteFigures = True\n",
    "overwriteData = True"
   ]
  },
  {
   "cell_type": "code",
   "execution_count": 5,
   "id": "c86fccd3-a4fe-415b-8f4e-e2ceb3ec128a",
   "metadata": {
    "execution": {
     "iopub.execute_input": "2024-05-07T14:59:47.533489Z",
     "iopub.status.busy": "2024-05-07T14:59:47.532890Z",
     "iopub.status.idle": "2024-05-07T14:59:47.536996Z",
     "shell.execute_reply": "2024-05-07T14:59:47.536298Z"
    },
    "papermill": {
     "duration": 0.010496,
     "end_time": "2024-05-07T14:59:47.538537",
     "exception": false,
     "start_time": "2024-05-07T14:59:47.528041",
     "status": "completed"
    },
    "tags": []
   },
   "outputs": [],
   "source": [
    "cellGroup = 'UTC'\n",
    "workDir = os.getcwd()"
   ]
  },
  {
   "cell_type": "code",
   "execution_count": 6,
   "id": "2dee4d55-d168-467b-b867-a61fed9d6af1",
   "metadata": {
    "execution": {
     "iopub.execute_input": "2024-05-07T14:59:47.546989Z",
     "iopub.status.busy": "2024-05-07T14:59:47.546737Z",
     "iopub.status.idle": "2024-05-07T14:59:47.550773Z",
     "shell.execute_reply": "2024-05-07T14:59:47.549900Z"
    },
    "papermill": {
     "duration": 0.010492,
     "end_time": "2024-05-07T14:59:47.552574",
     "exception": false,
     "start_time": "2024-05-07T14:59:47.542082",
     "status": "completed"
    },
    "tags": []
   },
   "outputs": [],
   "source": [
    "annotationLevel = os.path.basename(os.path.normpath(workDir))"
   ]
  },
  {
   "cell_type": "code",
   "execution_count": 7,
   "id": "11e53cd5-b746-4152-89cb-c2f0c15d90b3",
   "metadata": {
    "execution": {
     "iopub.execute_input": "2024-05-07T14:59:47.561871Z",
     "iopub.status.busy": "2024-05-07T14:59:47.561207Z",
     "iopub.status.idle": "2024-05-07T14:59:47.566090Z",
     "shell.execute_reply": "2024-05-07T14:59:47.565390Z"
    },
    "papermill": {
     "duration": 0.011127,
     "end_time": "2024-05-07T14:59:47.567599",
     "exception": false,
     "start_time": "2024-05-07T14:59:47.556472",
     "status": "completed"
    },
    "tags": []
   },
   "outputs": [
    {
     "data": {
      "text/plain": [
       "'/home/jupyter/Inflammation-PBMCs-Atlas/02_cell_annotation/02_fromCellLineages_to_CellTypes/Step5'"
      ]
     },
     "execution_count": 7,
     "metadata": {},
     "output_type": "execute_result"
    }
   ],
   "source": [
    "workDir"
   ]
  },
  {
   "cell_type": "markdown",
   "id": "171d2f06-9a44-4fcb-b437-35dc546674b6",
   "metadata": {
    "papermill": {
     "duration": 0.003931,
     "end_time": "2024-05-07T14:59:47.575774",
     "exception": false,
     "start_time": "2024-05-07T14:59:47.571843",
     "status": "completed"
    },
    "tags": []
   },
   "source": [
    "**Load data**"
   ]
  },
  {
   "cell_type": "code",
   "execution_count": 8,
   "id": "429f34fe-dde6-4cc9-9f75-7de8f85c5ffe",
   "metadata": {
    "execution": {
     "iopub.execute_input": "2024-05-07T14:59:47.585398Z",
     "iopub.status.busy": "2024-05-07T14:59:47.584581Z",
     "iopub.status.idle": "2024-05-07T14:59:50.973673Z",
     "shell.execute_reply": "2024-05-07T14:59:50.972809Z"
    },
    "papermill": {
     "duration": 3.395796,
     "end_time": "2024-05-07T14:59:50.975521",
     "exception": false,
     "start_time": "2024-05-07T14:59:47.579725",
     "status": "completed"
    },
    "tags": []
   },
   "outputs": [
    {
     "data": {
      "text/plain": [
       "AnnData object with n_obs × n_vars = 130431 × 2635\n",
       "    obs: 'studyID', 'libraryID', 'sampleID', 'chemistry', 'technology', 'patientID', 'disease', 'timepoint_replicate', 'treatmentStatus', 'therapyResponse', 'sex', 'age', 'BMI', 'binned_age', 'diseaseStatus', 'smokingStatus', 'ethnicity', 'institute', 'diseaseGroup', 'n_genes_by_counts', 'log1p_n_genes_by_counts', 'total_counts', 'log1p_total_counts', 'pct_counts_in_top_20_genes', 'total_counts_mt', 'log1p_total_counts_mt', 'pct_counts_mt', 'total_counts_ribo', 'log1p_total_counts_ribo', 'pct_counts_ribo', 'total_counts_hb', 'log1p_total_counts_hb', 'pct_counts_hb', 'total_counts_plt', 'log1p_total_counts_plt', 'pct_counts_plt', 'doublet_score', 'predicted_doublet', 'S_score', 'G2M_score', 'phase'\n",
       "    var: 'hgnc_id', 'symbol', 'locus_group', 'HUGO_status', 'mt', 'ribo', 'hb', 'plt', 'n_cells_by_counts', 'mean_counts', 'log1p_mean_counts', 'pct_dropout_by_counts', 'total_counts', 'log1p_total_counts', 'highly_variable'\n",
       "    uns: 'chemistry_colors', 'log1p'\n",
       "    layers: 'counts', 'log1p_10e4_counts'"
      ]
     },
     "execution_count": 8,
     "metadata": {},
     "output_type": "execute_result"
    }
   ],
   "source": [
    "adata = sc.read_h5ad(here(f\"{workDir}/{cellGroup}/results/01_{cellGroup}_normalized_HVGsubset.h5ad\"))\n",
    "adata"
   ]
  },
  {
   "cell_type": "markdown",
   "id": "8ac79f3b-d5af-41fa-8904-1e9ac1cbe2fb",
   "metadata": {
    "papermill": {
     "duration": 0.004124,
     "end_time": "2024-05-07T14:59:50.984071",
     "exception": false,
     "start_time": "2024-05-07T14:59:50.979947",
     "status": "completed"
    },
    "tags": []
   },
   "source": [
    "## scVI integration"
   ]
  },
  {
   "cell_type": "markdown",
   "id": "9544847d-d17f-4811-b14b-760446d54d32",
   "metadata": {
    "execution": {
     "iopub.execute_input": "2024-03-25T16:49:04.004504Z",
     "iopub.status.busy": "2024-03-25T16:49:04.004143Z",
     "iopub.status.idle": "2024-03-25T16:49:04.010148Z",
     "shell.execute_reply": "2024-03-25T16:49:04.009146Z",
     "shell.execute_reply.started": "2024-03-25T16:49:04.004477Z"
    },
    "papermill": {
     "duration": 0.003891,
     "end_time": "2024-05-07T14:59:50.992050",
     "exception": false,
     "start_time": "2024-05-07T14:59:50.988159",
     "status": "completed"
    },
    "tags": []
   },
   "source": [
    "**scVI parameters**"
   ]
  },
  {
   "cell_type": "code",
   "execution_count": 9,
   "id": "208966eb-545a-4c02-854c-0ed0487ef5b3",
   "metadata": {
    "execution": {
     "iopub.execute_input": "2024-05-07T14:59:51.002227Z",
     "iopub.status.busy": "2024-05-07T14:59:51.001391Z",
     "iopub.status.idle": "2024-05-07T14:59:51.007525Z",
     "shell.execute_reply": "2024-05-07T14:59:51.006746Z"
    },
    "papermill": {
     "duration": 0.013339,
     "end_time": "2024-05-07T14:59:51.009420",
     "exception": false,
     "start_time": "2024-05-07T14:59:50.996081",
     "status": "completed"
    },
    "tags": []
   },
   "outputs": [],
   "source": [
    "# https://docs.scvi-tools.org/en/stable/api/reference/scvi.train.Trainer.html#scvi.train.Trainer\n",
    "setup_kwargs = dict(\n",
    "    layer=\"counts\", \n",
    "    batch_key='libraryID', \n",
    "    categorical_covariate_keys = ['studyID', 'chemistry', 'disease', 'sampleID'],\n",
    "    labels_key = 'chemistry'    \n",
    ")\n",
    "\n",
    "scvi_kwargs = dict(n_hidden=512,\n",
    "                   n_latent=10, # reduced to 20 after step 00 (main) and to 10 after step 03\n",
    "                   n_layers=2,\n",
    "                   gene_likelihood='nb',\n",
    "                   dispersion='gene-label')\n",
    "\n",
    "trainer_kwargs = dict(\n",
    "    checkpointing_monitor = 'elbo_validation',\n",
    "    early_stopping_monitor = 'reconstruction_loss_validation',\n",
    "    early_stopping_patience = 10,\n",
    "    early_stopping_min_delta=0.1,\n",
    "    early_stopping = True,\n",
    "    max_epochs = 1000,\n",
    "\n",
    "    #logger = # wandb\n",
    ")\n",
    "# https://docs.scvi-tools.org/en/stable/api/reference/scvi.train.TrainingPlan.html#scvi.train.TrainingPlan\n",
    "plan_kwargs = dict(\n",
    "    lr = 5e-4,\n",
    "    #reduce_lr_on_plateau = True\n",
    ")\n",
    "\n",
    "# https://docs.scvi-tools.org/en/stable/api/reference/scvi.module.VAE.html#scvi.module.VAE\n",
    "#vae = dict(\n",
    "#    use_layer_norm='both',\n",
    "#    use_batch_norm='none',\n",
    "#    encode_covariates=True,\n",
    "#    deeply_inject_covariates=False\n",
    "#)\n",
    "parameter_dict = setup_kwargs | scvi_kwargs | trainer_kwargs | plan_kwargs"
   ]
  },
  {
   "cell_type": "markdown",
   "id": "1362366a-c16b-4c11-964b-b9c5f82f7b29",
   "metadata": {
    "papermill": {
     "duration": 0.004192,
     "end_time": "2024-05-07T14:59:51.017485",
     "exception": false,
     "start_time": "2024-05-07T14:59:51.013293",
     "status": "completed"
    },
    "tags": []
   },
   "source": [
    "**wandb parameter**"
   ]
  },
  {
   "cell_type": "code",
   "execution_count": 10,
   "id": "0496e33a-8ca5-423f-b42f-34a59760708c",
   "metadata": {
    "execution": {
     "iopub.execute_input": "2024-05-07T14:59:51.026909Z",
     "iopub.status.busy": "2024-05-07T14:59:51.026419Z",
     "iopub.status.idle": "2024-05-07T14:59:51.031746Z",
     "shell.execute_reply": "2024-05-07T14:59:51.030774Z"
    },
    "papermill": {
     "duration": 0.012119,
     "end_time": "2024-05-07T14:59:51.033635",
     "exception": false,
     "start_time": "2024-05-07T14:59:51.021516",
     "status": "completed"
    },
    "tags": []
   },
   "outputs": [
    {
     "data": {
      "text/plain": [
       "'Step5_UTC'"
      ]
     },
     "execution_count": 10,
     "metadata": {},
     "output_type": "execute_result"
    }
   ],
   "source": [
    "run_name = f\"{annotationLevel}_{cellGroup}\"\n",
    "run_name"
   ]
  },
  {
   "cell_type": "code",
   "execution_count": 11,
   "id": "b0021327-95a2-4002-bf32-2c5779a99505",
   "metadata": {
    "execution": {
     "iopub.execute_input": "2024-05-07T14:59:51.043465Z",
     "iopub.status.busy": "2024-05-07T14:59:51.042933Z",
     "iopub.status.idle": "2024-05-07T14:59:51.184779Z",
     "shell.execute_reply": "2024-05-07T14:59:51.183889Z"
    },
    "papermill": {
     "duration": 0.149216,
     "end_time": "2024-05-07T14:59:51.187073",
     "exception": false,
     "start_time": "2024-05-07T14:59:51.037857",
     "status": "completed"
    },
    "tags": []
   },
   "outputs": [],
   "source": [
    "logger = CustomWandbLogger(name = run_name, project='inflammation_atlas_R1', config=parameter_dict)"
   ]
  },
  {
   "cell_type": "markdown",
   "id": "c237eee1-a976-4915-9b7f-b014bf33f47d",
   "metadata": {
    "papermill": {
     "duration": 0.004297,
     "end_time": "2024-05-07T14:59:51.195635",
     "exception": false,
     "start_time": "2024-05-07T14:59:51.191338",
     "status": "completed"
    },
    "tags": []
   },
   "source": [
    "**Running integration**"
   ]
  },
  {
   "cell_type": "code",
   "execution_count": 12,
   "id": "aff97c53-1aba-462e-8a77-f1aec9cf724c",
   "metadata": {
    "execution": {
     "iopub.execute_input": "2024-05-07T14:59:51.205518Z",
     "iopub.status.busy": "2024-05-07T14:59:51.205232Z",
     "iopub.status.idle": "2024-05-07T14:59:52.899416Z",
     "shell.execute_reply": "2024-05-07T14:59:52.898421Z"
    },
    "papermill": {
     "duration": 1.701958,
     "end_time": "2024-05-07T14:59:52.901799",
     "exception": false,
     "start_time": "2024-05-07T14:59:51.199841",
     "status": "completed"
    },
    "tags": []
   },
   "outputs": [],
   "source": [
    "scvi.model.SCVI.setup_anndata(adata, \n",
    "                              **setup_kwargs)"
   ]
  },
  {
   "cell_type": "code",
   "execution_count": 13,
   "id": "1a56f448-cf44-47c1-81a4-a89caa930fec",
   "metadata": {
    "execution": {
     "iopub.execute_input": "2024-05-07T14:59:52.914812Z",
     "iopub.status.busy": "2024-05-07T14:59:52.914040Z",
     "iopub.status.idle": "2024-05-07T14:59:53.323813Z",
     "shell.execute_reply": "2024-05-07T14:59:53.323060Z"
    },
    "papermill": {
     "duration": 0.418207,
     "end_time": "2024-05-07T14:59:53.326071",
     "exception": false,
     "start_time": "2024-05-07T14:59:52.907864",
     "status": "completed"
    },
    "tags": []
   },
   "outputs": [],
   "source": [
    "model = scvi.model.SCVI(adata, **scvi_kwargs)"
   ]
  },
  {
   "cell_type": "code",
   "execution_count": 14,
   "id": "2735f010-4f24-4ae8-9740-a8cfeb335e9a",
   "metadata": {
    "execution": {
     "iopub.execute_input": "2024-05-07T14:59:53.336834Z",
     "iopub.status.busy": "2024-05-07T14:59:53.336093Z",
     "iopub.status.idle": "2024-05-07T15:05:55.283164Z",
     "shell.execute_reply": "2024-05-07T15:05:55.282396Z"
    },
    "papermill": {
     "duration": 361.954206,
     "end_time": "2024-05-07T15:05:55.284875",
     "exception": false,
     "start_time": "2024-05-07T14:59:53.330669",
     "status": "completed"
    },
    "tags": []
   },
   "outputs": [
    {
     "name": "stderr",
     "output_type": "stream",
     "text": [
      "GPU available: True (cuda), used: True\n"
     ]
    },
    {
     "name": "stderr",
     "output_type": "stream",
     "text": [
      "TPU available: False, using: 0 TPU cores\n"
     ]
    },
    {
     "name": "stderr",
     "output_type": "stream",
     "text": [
      "IPU available: False, using: 0 IPUs\n"
     ]
    },
    {
     "name": "stderr",
     "output_type": "stream",
     "text": [
      "HPU available: False, using: 0 HPUs\n"
     ]
    },
    {
     "name": "stderr",
     "output_type": "stream",
     "text": [
      "\u001b[34m\u001b[1mwandb\u001b[0m: Currently logged in as: \u001b[33mdav1989\u001b[0m (\u001b[33minflammation\u001b[0m). Use \u001b[1m`wandb login --relogin`\u001b[0m to force relogin\n"
     ]
    },
    {
     "name": "stderr",
     "output_type": "stream",
     "text": [
      "\u001b[34m\u001b[1mwandb\u001b[0m: wandb version 0.16.6 is available!  To upgrade, please run:\n",
      "\u001b[34m\u001b[1mwandb\u001b[0m:  $ pip install wandb --upgrade\n"
     ]
    },
    {
     "name": "stderr",
     "output_type": "stream",
     "text": [
      "\u001b[34m\u001b[1mwandb\u001b[0m: Tracking run with wandb version 0.16.3\n"
     ]
    },
    {
     "name": "stderr",
     "output_type": "stream",
     "text": [
      "\u001b[34m\u001b[1mwandb\u001b[0m: Run data is saved locally in \u001b[35m\u001b[1m./wandb/run-20240507_150001-kxk6pmy1\u001b[0m\n",
      "\u001b[34m\u001b[1mwandb\u001b[0m: Run \u001b[1m`wandb offline`\u001b[0m to turn off syncing.\n"
     ]
    },
    {
     "name": "stderr",
     "output_type": "stream",
     "text": [
      "\u001b[34m\u001b[1mwandb\u001b[0m: Syncing run \u001b[33mStep5_UTC\u001b[0m\n"
     ]
    },
    {
     "name": "stderr",
     "output_type": "stream",
     "text": [
      "\u001b[34m\u001b[1mwandb\u001b[0m: ⭐️ View project at \u001b[34m\u001b[4mhttps://wandb.ai/inflammation/inflammation_atlas_R1\u001b[0m\n"
     ]
    },
    {
     "name": "stderr",
     "output_type": "stream",
     "text": [
      "\u001b[34m\u001b[1mwandb\u001b[0m: 🚀 View run at \u001b[34m\u001b[4mhttps://wandb.ai/inflammation/inflammation_atlas_R1/runs/kxk6pmy1\u001b[0m\n"
     ]
    },
    {
     "name": "stderr",
     "output_type": "stream",
     "text": [
      "LOCAL_RANK: 0 - CUDA_VISIBLE_DEVICES: [0]\n"
     ]
    },
    {
     "name": "stdout",
     "output_type": "stream",
     "text": [
      "\r",
      "Training:   0%|          | 0/1000 [00:00<?, ?it/s]"
     ]
    },
    {
     "name": "stdout",
     "output_type": "stream",
     "text": [
      "\r",
      "Epoch 1/1000:   0%|          | 0/1000 [00:00<?, ?it/s]"
     ]
    },
    {
     "name": "stdout",
     "output_type": "stream",
     "text": [
      "\r",
      "Epoch 1/1000:   0%|          | 1/1000 [00:15<4:24:15, 15.87s/it]"
     ]
    },
    {
     "name": "stdout",
     "output_type": "stream",
     "text": [
      "\r",
      "Epoch 1/1000:   0%|          | 1/1000 [00:15<4:24:15, 15.87s/it, v_num=pmy1, train_loss_step=769, train_loss_epoch=758]"
     ]
    },
    {
     "name": "stdout",
     "output_type": "stream",
     "text": [
      "\r",
      "Epoch 2/1000:   0%|          | 1/1000 [00:15<4:24:15, 15.87s/it, v_num=pmy1, train_loss_step=769, train_loss_epoch=758]"
     ]
    },
    {
     "name": "stdout",
     "output_type": "stream",
     "text": [
      "\r",
      "Epoch 2/1000:   0%|          | 2/1000 [00:30<4:11:59, 15.15s/it, v_num=pmy1, train_loss_step=769, train_loss_epoch=758]"
     ]
    },
    {
     "name": "stdout",
     "output_type": "stream",
     "text": [
      "\r",
      "Epoch 2/1000:   0%|          | 2/1000 [00:30<4:11:59, 15.15s/it, v_num=pmy1, train_loss_step=903, train_loss_epoch=740]"
     ]
    },
    {
     "name": "stdout",
     "output_type": "stream",
     "text": [
      "\r",
      "Epoch 3/1000:   0%|          | 2/1000 [00:30<4:11:59, 15.15s/it, v_num=pmy1, train_loss_step=903, train_loss_epoch=740]"
     ]
    },
    {
     "name": "stdout",
     "output_type": "stream",
     "text": [
      "\r",
      "Epoch 3/1000:   0%|          | 3/1000 [00:45<4:07:12, 14.88s/it, v_num=pmy1, train_loss_step=903, train_loss_epoch=740]"
     ]
    },
    {
     "name": "stdout",
     "output_type": "stream",
     "text": [
      "\r",
      "Epoch 3/1000:   0%|          | 3/1000 [00:45<4:07:12, 14.88s/it, v_num=pmy1, train_loss_step=788, train_loss_epoch=735]"
     ]
    },
    {
     "name": "stdout",
     "output_type": "stream",
     "text": [
      "\r",
      "Epoch 4/1000:   0%|          | 3/1000 [00:45<4:07:12, 14.88s/it, v_num=pmy1, train_loss_step=788, train_loss_epoch=735]"
     ]
    },
    {
     "name": "stdout",
     "output_type": "stream",
     "text": [
      "\r",
      "Epoch 4/1000:   0%|          | 4/1000 [00:59<4:06:00, 14.82s/it, v_num=pmy1, train_loss_step=788, train_loss_epoch=735]"
     ]
    },
    {
     "name": "stdout",
     "output_type": "stream",
     "text": [
      "\r",
      "Epoch 4/1000:   0%|          | 4/1000 [00:59<4:06:00, 14.82s/it, v_num=pmy1, train_loss_step=640, train_loss_epoch=731]"
     ]
    },
    {
     "name": "stdout",
     "output_type": "stream",
     "text": [
      "\r",
      "Epoch 5/1000:   0%|          | 4/1000 [00:59<4:06:00, 14.82s/it, v_num=pmy1, train_loss_step=640, train_loss_epoch=731]"
     ]
    },
    {
     "name": "stdout",
     "output_type": "stream",
     "text": [
      "\r",
      "Epoch 5/1000:   0%|          | 5/1000 [01:14<4:05:57, 14.83s/it, v_num=pmy1, train_loss_step=640, train_loss_epoch=731]"
     ]
    },
    {
     "name": "stdout",
     "output_type": "stream",
     "text": [
      "\r",
      "Epoch 5/1000:   0%|          | 5/1000 [01:14<4:05:57, 14.83s/it, v_num=pmy1, train_loss_step=863, train_loss_epoch=728]"
     ]
    },
    {
     "name": "stdout",
     "output_type": "stream",
     "text": [
      "\r",
      "Epoch 6/1000:   0%|          | 5/1000 [01:14<4:05:57, 14.83s/it, v_num=pmy1, train_loss_step=863, train_loss_epoch=728]"
     ]
    },
    {
     "name": "stdout",
     "output_type": "stream",
     "text": [
      "\r",
      "Epoch 6/1000:   1%|          | 6/1000 [01:29<4:03:28, 14.70s/it, v_num=pmy1, train_loss_step=863, train_loss_epoch=728]"
     ]
    },
    {
     "name": "stdout",
     "output_type": "stream",
     "text": [
      "\r",
      "Epoch 6/1000:   1%|          | 6/1000 [01:29<4:03:28, 14.70s/it, v_num=pmy1, train_loss_step=655, train_loss_epoch=726]"
     ]
    },
    {
     "name": "stdout",
     "output_type": "stream",
     "text": [
      "\r",
      "Epoch 7/1000:   1%|          | 6/1000 [01:29<4:03:28, 14.70s/it, v_num=pmy1, train_loss_step=655, train_loss_epoch=726]"
     ]
    },
    {
     "name": "stdout",
     "output_type": "stream",
     "text": [
      "\r",
      "Epoch 7/1000:   1%|          | 7/1000 [01:43<4:00:45, 14.55s/it, v_num=pmy1, train_loss_step=655, train_loss_epoch=726]"
     ]
    },
    {
     "name": "stdout",
     "output_type": "stream",
     "text": [
      "\r",
      "Epoch 7/1000:   1%|          | 7/1000 [01:43<4:00:45, 14.55s/it, v_num=pmy1, train_loss_step=759, train_loss_epoch=724]"
     ]
    },
    {
     "name": "stdout",
     "output_type": "stream",
     "text": [
      "\r",
      "Epoch 8/1000:   1%|          | 7/1000 [01:43<4:00:45, 14.55s/it, v_num=pmy1, train_loss_step=759, train_loss_epoch=724]"
     ]
    },
    {
     "name": "stdout",
     "output_type": "stream",
     "text": [
      "\r",
      "Epoch 8/1000:   1%|          | 8/1000 [01:58<4:01:18, 14.60s/it, v_num=pmy1, train_loss_step=759, train_loss_epoch=724]"
     ]
    },
    {
     "name": "stdout",
     "output_type": "stream",
     "text": [
      "\r",
      "Epoch 8/1000:   1%|          | 8/1000 [01:58<4:01:18, 14.60s/it, v_num=pmy1, train_loss_step=667, train_loss_epoch=723]"
     ]
    },
    {
     "name": "stdout",
     "output_type": "stream",
     "text": [
      "\r",
      "Epoch 9/1000:   1%|          | 8/1000 [01:58<4:01:18, 14.60s/it, v_num=pmy1, train_loss_step=667, train_loss_epoch=723]"
     ]
    },
    {
     "name": "stdout",
     "output_type": "stream",
     "text": [
      "\r",
      "Epoch 9/1000:   1%|          | 9/1000 [02:12<4:02:37, 14.69s/it, v_num=pmy1, train_loss_step=667, train_loss_epoch=723]"
     ]
    },
    {
     "name": "stdout",
     "output_type": "stream",
     "text": [
      "\r",
      "Epoch 9/1000:   1%|          | 9/1000 [02:12<4:02:37, 14.69s/it, v_num=pmy1, train_loss_step=710, train_loss_epoch=722]"
     ]
    },
    {
     "name": "stdout",
     "output_type": "stream",
     "text": [
      "\r",
      "Epoch 10/1000:   1%|          | 9/1000 [02:12<4:02:37, 14.69s/it, v_num=pmy1, train_loss_step=710, train_loss_epoch=722]"
     ]
    },
    {
     "name": "stdout",
     "output_type": "stream",
     "text": [
      "\r",
      "Epoch 10/1000:   1%|          | 10/1000 [02:27<4:02:36, 14.70s/it, v_num=pmy1, train_loss_step=710, train_loss_epoch=722]"
     ]
    },
    {
     "name": "stdout",
     "output_type": "stream",
     "text": [
      "\r",
      "Epoch 10/1000:   1%|          | 10/1000 [02:27<4:02:36, 14.70s/it, v_num=pmy1, train_loss_step=696, train_loss_epoch=721]"
     ]
    },
    {
     "name": "stdout",
     "output_type": "stream",
     "text": [
      "\r",
      "Epoch 11/1000:   1%|          | 10/1000 [02:27<4:02:36, 14.70s/it, v_num=pmy1, train_loss_step=696, train_loss_epoch=721]"
     ]
    },
    {
     "name": "stdout",
     "output_type": "stream",
     "text": [
      "\r",
      "Epoch 11/1000:   1%|          | 11/1000 [02:42<4:01:24, 14.65s/it, v_num=pmy1, train_loss_step=696, train_loss_epoch=721]"
     ]
    },
    {
     "name": "stdout",
     "output_type": "stream",
     "text": [
      "\r",
      "Epoch 11/1000:   1%|          | 11/1000 [02:42<4:01:24, 14.65s/it, v_num=pmy1, train_loss_step=681, train_loss_epoch=720]"
     ]
    },
    {
     "name": "stdout",
     "output_type": "stream",
     "text": [
      "\r",
      "Epoch 12/1000:   1%|          | 11/1000 [02:42<4:01:24, 14.65s/it, v_num=pmy1, train_loss_step=681, train_loss_epoch=720]"
     ]
    },
    {
     "name": "stdout",
     "output_type": "stream",
     "text": [
      "\r",
      "Epoch 12/1000:   1%|          | 12/1000 [02:56<4:01:21, 14.66s/it, v_num=pmy1, train_loss_step=681, train_loss_epoch=720]"
     ]
    },
    {
     "name": "stdout",
     "output_type": "stream",
     "text": [
      "\r",
      "Epoch 12/1000:   1%|          | 12/1000 [02:56<4:01:21, 14.66s/it, v_num=pmy1, train_loss_step=814, train_loss_epoch=719]"
     ]
    },
    {
     "name": "stdout",
     "output_type": "stream",
     "text": [
      "\r",
      "Epoch 13/1000:   1%|          | 12/1000 [02:56<4:01:21, 14.66s/it, v_num=pmy1, train_loss_step=814, train_loss_epoch=719]"
     ]
    },
    {
     "name": "stdout",
     "output_type": "stream",
     "text": [
      "\r",
      "Epoch 13/1000:   1%|▏         | 13/1000 [03:11<3:59:54, 14.58s/it, v_num=pmy1, train_loss_step=814, train_loss_epoch=719]"
     ]
    },
    {
     "name": "stdout",
     "output_type": "stream",
     "text": [
      "\r",
      "Epoch 13/1000:   1%|▏         | 13/1000 [03:11<3:59:54, 14.58s/it, v_num=pmy1, train_loss_step=646, train_loss_epoch=719]"
     ]
    },
    {
     "name": "stdout",
     "output_type": "stream",
     "text": [
      "\r",
      "Epoch 14/1000:   1%|▏         | 13/1000 [03:11<3:59:54, 14.58s/it, v_num=pmy1, train_loss_step=646, train_loss_epoch=719]"
     ]
    },
    {
     "name": "stdout",
     "output_type": "stream",
     "text": [
      "\r",
      "Epoch 14/1000:   1%|▏         | 14/1000 [03:26<4:00:33, 14.64s/it, v_num=pmy1, train_loss_step=646, train_loss_epoch=719]"
     ]
    },
    {
     "name": "stdout",
     "output_type": "stream",
     "text": [
      "\r",
      "Epoch 14/1000:   1%|▏         | 14/1000 [03:26<4:00:33, 14.64s/it, v_num=pmy1, train_loss_step=850, train_loss_epoch=718]"
     ]
    },
    {
     "name": "stdout",
     "output_type": "stream",
     "text": [
      "\r",
      "Epoch 15/1000:   1%|▏         | 14/1000 [03:26<4:00:33, 14.64s/it, v_num=pmy1, train_loss_step=850, train_loss_epoch=718]"
     ]
    },
    {
     "name": "stdout",
     "output_type": "stream",
     "text": [
      "\r",
      "Epoch 15/1000:   2%|▏         | 15/1000 [03:40<4:00:13, 14.63s/it, v_num=pmy1, train_loss_step=850, train_loss_epoch=718]"
     ]
    },
    {
     "name": "stdout",
     "output_type": "stream",
     "text": [
      "\r",
      "Epoch 15/1000:   2%|▏         | 15/1000 [03:40<4:00:13, 14.63s/it, v_num=pmy1, train_loss_step=833, train_loss_epoch=718]"
     ]
    },
    {
     "name": "stdout",
     "output_type": "stream",
     "text": [
      "\r",
      "Epoch 16/1000:   2%|▏         | 15/1000 [03:40<4:00:13, 14.63s/it, v_num=pmy1, train_loss_step=833, train_loss_epoch=718]"
     ]
    },
    {
     "name": "stdout",
     "output_type": "stream",
     "text": [
      "\r",
      "Epoch 16/1000:   2%|▏         | 16/1000 [03:55<4:00:07, 14.64s/it, v_num=pmy1, train_loss_step=833, train_loss_epoch=718]"
     ]
    },
    {
     "name": "stdout",
     "output_type": "stream",
     "text": [
      "\r",
      "Epoch 16/1000:   2%|▏         | 16/1000 [03:55<4:00:07, 14.64s/it, v_num=pmy1, train_loss_step=711, train_loss_epoch=717]"
     ]
    },
    {
     "name": "stdout",
     "output_type": "stream",
     "text": [
      "\r",
      "Epoch 17/1000:   2%|▏         | 16/1000 [03:55<4:00:07, 14.64s/it, v_num=pmy1, train_loss_step=711, train_loss_epoch=717]"
     ]
    },
    {
     "name": "stdout",
     "output_type": "stream",
     "text": [
      "\r",
      "Epoch 17/1000:   2%|▏         | 17/1000 [04:10<4:00:37, 14.69s/it, v_num=pmy1, train_loss_step=711, train_loss_epoch=717]"
     ]
    },
    {
     "name": "stdout",
     "output_type": "stream",
     "text": [
      "\r",
      "Epoch 17/1000:   2%|▏         | 17/1000 [04:10<4:00:37, 14.69s/it, v_num=pmy1, train_loss_step=722, train_loss_epoch=717]"
     ]
    },
    {
     "name": "stdout",
     "output_type": "stream",
     "text": [
      "\r",
      "Epoch 18/1000:   2%|▏         | 17/1000 [04:10<4:00:37, 14.69s/it, v_num=pmy1, train_loss_step=722, train_loss_epoch=717]"
     ]
    },
    {
     "name": "stdout",
     "output_type": "stream",
     "text": [
      "\r",
      "Epoch 18/1000:   2%|▏         | 18/1000 [04:24<4:01:14, 14.74s/it, v_num=pmy1, train_loss_step=722, train_loss_epoch=717]"
     ]
    },
    {
     "name": "stdout",
     "output_type": "stream",
     "text": [
      "\r",
      "Epoch 18/1000:   2%|▏         | 18/1000 [04:24<4:01:14, 14.74s/it, v_num=pmy1, train_loss_step=736, train_loss_epoch=717]"
     ]
    },
    {
     "name": "stdout",
     "output_type": "stream",
     "text": [
      "\r",
      "Epoch 19/1000:   2%|▏         | 18/1000 [04:24<4:01:14, 14.74s/it, v_num=pmy1, train_loss_step=736, train_loss_epoch=717]"
     ]
    },
    {
     "name": "stdout",
     "output_type": "stream",
     "text": [
      "\r",
      "Epoch 19/1000:   2%|▏         | 19/1000 [04:39<4:00:39, 14.72s/it, v_num=pmy1, train_loss_step=736, train_loss_epoch=717]"
     ]
    },
    {
     "name": "stdout",
     "output_type": "stream",
     "text": [
      "\r",
      "Epoch 19/1000:   2%|▏         | 19/1000 [04:39<4:00:39, 14.72s/it, v_num=pmy1, train_loss_step=731, train_loss_epoch=716]"
     ]
    },
    {
     "name": "stdout",
     "output_type": "stream",
     "text": [
      "\r",
      "Epoch 20/1000:   2%|▏         | 19/1000 [04:39<4:00:39, 14.72s/it, v_num=pmy1, train_loss_step=731, train_loss_epoch=716]"
     ]
    },
    {
     "name": "stdout",
     "output_type": "stream",
     "text": [
      "\r",
      "Epoch 20/1000:   2%|▏         | 20/1000 [04:54<3:59:43, 14.68s/it, v_num=pmy1, train_loss_step=731, train_loss_epoch=716]"
     ]
    },
    {
     "name": "stdout",
     "output_type": "stream",
     "text": [
      "\r",
      "Epoch 20/1000:   2%|▏         | 20/1000 [04:54<3:59:43, 14.68s/it, v_num=pmy1, train_loss_step=822, train_loss_epoch=716]"
     ]
    },
    {
     "name": "stdout",
     "output_type": "stream",
     "text": [
      "\r",
      "Epoch 21/1000:   2%|▏         | 20/1000 [04:54<3:59:43, 14.68s/it, v_num=pmy1, train_loss_step=822, train_loss_epoch=716]"
     ]
    },
    {
     "name": "stdout",
     "output_type": "stream",
     "text": [
      "\r",
      "Epoch 21/1000:   2%|▏         | 21/1000 [05:08<3:59:43, 14.69s/it, v_num=pmy1, train_loss_step=822, train_loss_epoch=716]"
     ]
    },
    {
     "name": "stdout",
     "output_type": "stream",
     "text": [
      "\r",
      "Epoch 21/1000:   2%|▏         | 21/1000 [05:08<3:59:43, 14.69s/it, v_num=pmy1, train_loss_step=893, train_loss_epoch=716]"
     ]
    },
    {
     "name": "stdout",
     "output_type": "stream",
     "text": [
      "\r",
      "Epoch 22/1000:   2%|▏         | 21/1000 [05:08<3:59:43, 14.69s/it, v_num=pmy1, train_loss_step=893, train_loss_epoch=716]"
     ]
    },
    {
     "name": "stdout",
     "output_type": "stream",
     "text": [
      "\r",
      "Epoch 22/1000:   2%|▏         | 22/1000 [05:23<3:59:58, 14.72s/it, v_num=pmy1, train_loss_step=893, train_loss_epoch=716]"
     ]
    },
    {
     "name": "stdout",
     "output_type": "stream",
     "text": [
      "\r",
      "Epoch 22/1000:   2%|▏         | 22/1000 [05:23<3:59:58, 14.72s/it, v_num=pmy1, train_loss_step=776, train_loss_epoch=716]"
     ]
    },
    {
     "name": "stdout",
     "output_type": "stream",
     "text": [
      "\r",
      "Epoch 23/1000:   2%|▏         | 22/1000 [05:23<3:59:58, 14.72s/it, v_num=pmy1, train_loss_step=776, train_loss_epoch=716]"
     ]
    },
    {
     "name": "stdout",
     "output_type": "stream",
     "text": [
      "\r",
      "Epoch 23/1000:   2%|▏         | 23/1000 [05:38<3:59:32, 14.71s/it, v_num=pmy1, train_loss_step=776, train_loss_epoch=716]"
     ]
    },
    {
     "name": "stdout",
     "output_type": "stream",
     "text": [
      "\r",
      "Epoch 23/1000:   2%|▏         | 23/1000 [05:38<3:59:32, 14.71s/it, v_num=pmy1, train_loss_step=813, train_loss_epoch=715]"
     ]
    },
    {
     "name": "stdout",
     "output_type": "stream",
     "text": [
      "\r",
      "Epoch 24/1000:   2%|▏         | 23/1000 [05:38<3:59:32, 14.71s/it, v_num=pmy1, train_loss_step=813, train_loss_epoch=715]"
     ]
    },
    {
     "name": "stdout",
     "output_type": "stream",
     "text": [
      "\r",
      "Epoch 24/1000:   2%|▏         | 24/1000 [05:53<3:59:12, 14.71s/it, v_num=pmy1, train_loss_step=813, train_loss_epoch=715]"
     ]
    },
    {
     "name": "stdout",
     "output_type": "stream",
     "text": [
      "\r",
      "Epoch 24/1000:   2%|▏         | 24/1000 [05:53<3:59:12, 14.71s/it, v_num=pmy1, train_loss_step=640, train_loss_epoch=715]"
     ]
    },
    {
     "name": "stdout",
     "output_type": "stream",
     "text": [
      "\r",
      "Epoch 24/1000:   2%|▏         | 24/1000 [05:53<3:59:20, 14.71s/it, v_num=pmy1, train_loss_step=640, train_loss_epoch=715]"
     ]
    },
    {
     "name": "stdout",
     "output_type": "stream",
     "text": [
      "\n",
      "Monitored metric reconstruction_loss_validation did not improve in the last 10 records. Best score: 719.973. Signaling Trainer to stop.\n"
     ]
    }
   ],
   "source": [
    "model.train(logger=logger, plan_kwargs = plan_kwargs, **trainer_kwargs)"
   ]
  },
  {
   "cell_type": "code",
   "execution_count": 15,
   "id": "c282f6eb-0ad1-40a5-81e6-1acda1545dad",
   "metadata": {
    "execution": {
     "iopub.execute_input": "2024-05-07T15:05:55.303410Z",
     "iopub.status.busy": "2024-05-07T15:05:55.303100Z",
     "iopub.status.idle": "2024-05-07T15:05:59.302457Z",
     "shell.execute_reply": "2024-05-07T15:05:59.301508Z"
    },
    "papermill": {
     "duration": 4.010903,
     "end_time": "2024-05-07T15:05:59.304244",
     "exception": false,
     "start_time": "2024-05-07T15:05:55.293341",
     "status": "completed"
    },
    "tags": []
   },
   "outputs": [
    {
     "name": "stderr",
     "output_type": "stream",
     "text": [
      "\u001b[34m\u001b[1mwandb\u001b[0m: - 0.003 MB of 0.003 MB uploaded\r"
     ]
    },
    {
     "name": "stderr",
     "output_type": "stream",
     "text": [
      "\u001b[34m\u001b[1mwandb\u001b[0m: \\ 0.003 MB of 0.003 MB uploaded\r"
     ]
    },
    {
     "name": "stderr",
     "output_type": "stream",
     "text": [
      "\u001b[34m\u001b[1mwandb\u001b[0m: | 0.009 MB of 0.009 MB uploaded\r"
     ]
    },
    {
     "name": "stderr",
     "output_type": "stream",
     "text": [
      "\u001b[34m\u001b[1mwandb\u001b[0m:                                                                                \n"
     ]
    },
    {
     "name": "stderr",
     "output_type": "stream",
     "text": [
      "\u001b[34m\u001b[1mwandb\u001b[0m: \n",
      "\u001b[34m\u001b[1mwandb\u001b[0m: Run history:\n",
      "\u001b[34m\u001b[1mwandb\u001b[0m:                     elbo_train █▇▅▄▄▃▃▃▂▂▂▂▂▂▂▂▁▁▁▁▁▁▁▁\n",
      "\u001b[34m\u001b[1mwandb\u001b[0m:                elbo_validation █▆▅▄▃▃▂▂▂▂▂▂▁▁▁▁▁▁▁▁▁▁▁▁\n",
      "\u001b[34m\u001b[1mwandb\u001b[0m:                          epoch ▁▁▁▂▂▂▂▂▃▃▃▃▃▃▃▄▄▄▄▄▅▅▅▅▅▆▆▆▆▆▆▆▇▇▇▇▇███\n",
      "\u001b[34m\u001b[1mwandb\u001b[0m:                kl_global_train ▁▁▁▁▁▁▁▁▁▁▁▁▁▁▁▁▁▁▁▁▁▁▁▁\n",
      "\u001b[34m\u001b[1mwandb\u001b[0m:           kl_global_validation ▁▁▁▁▁▁▁▁▁▁▁▁▁▁▁▁▁▁▁▁▁▁▁▁\n",
      "\u001b[34m\u001b[1mwandb\u001b[0m:                 kl_local_train ▅█▇▅▄▄▃▃▃▃▂▂▂▂▂▂▂▂▁▁▁▁▁▁\n",
      "\u001b[34m\u001b[1mwandb\u001b[0m:            kl_local_validation █▇▅▄▄▃▃▃▂▂▂▂▂▂▂▂▂▁▁▁▁▁▁▁\n",
      "\u001b[34m\u001b[1mwandb\u001b[0m:                      kl_weight ▁▁▁▂▂▂▂▂▂▃▃▃▃▃▃▄▄▄▄▄▅▅▅▅▅▅▆▆▆▆▆▆▇▇▇▇▇███\n",
      "\u001b[34m\u001b[1mwandb\u001b[0m:      reconstruction_loss_train █▅▄▄▃▃▃▂▂▂▂▂▂▂▁▁▁▁▁▁▁▁▁▁\n",
      "\u001b[34m\u001b[1mwandb\u001b[0m: reconstruction_loss_validation █▆▄▃▃▂▂▂▁▁▁▁▁▁▁▁▁▁▁▁▁▁▁▁\n",
      "\u001b[34m\u001b[1mwandb\u001b[0m:               train_loss_epoch █▅▄▄▃▃▂▂▂▂▂▂▂▂▁▁▁▁▁▁▁▁▁▁\n",
      "\u001b[34m\u001b[1mwandb\u001b[0m:                train_loss_step █▃▃▄▄▂▂▃▄▃▃▃▂▅▆▂▂▃▂▂▄▆▄▃▃▃▅▃▂▄▄▂▃▂▄▂▁▁▃▁\n",
      "\u001b[34m\u001b[1mwandb\u001b[0m:            trainer/global_step ▁▁▁▂▂▂▂▂▂▃▃▃▃▃▃▄▄▄▄▄▅▅▅▅▅▅▆▆▆▆▆▆▇▇▇▇▇███\n",
      "\u001b[34m\u001b[1mwandb\u001b[0m:                validation_loss █▆▄▃▃▂▂▁▁▁▁▁▁▁▁▁▁▁▁▁▁▁▁▁\n",
      "\u001b[34m\u001b[1mwandb\u001b[0m: \n",
      "\u001b[34m\u001b[1mwandb\u001b[0m: Run summary:\n",
      "\u001b[34m\u001b[1mwandb\u001b[0m:                     elbo_train 739.38892\n",
      "\u001b[34m\u001b[1mwandb\u001b[0m:                elbo_validation 745.56299\n",
      "\u001b[34m\u001b[1mwandb\u001b[0m:                          epoch 23\n",
      "\u001b[34m\u001b[1mwandb\u001b[0m:                kl_global_train 0.0\n",
      "\u001b[34m\u001b[1mwandb\u001b[0m:           kl_global_validation 0.0\n",
      "\u001b[34m\u001b[1mwandb\u001b[0m:                 kl_local_train 25.68231\n",
      "\u001b[34m\u001b[1mwandb\u001b[0m:            kl_local_validation 25.18891\n",
      "\u001b[34m\u001b[1mwandb\u001b[0m:                      kl_weight 0.0575\n",
      "\u001b[34m\u001b[1mwandb\u001b[0m:      reconstruction_loss_train 713.7066\n",
      "\u001b[34m\u001b[1mwandb\u001b[0m: reconstruction_loss_validation 720.37408\n",
      "\u001b[34m\u001b[1mwandb\u001b[0m:               train_loss_epoch 715.18329\n",
      "\u001b[34m\u001b[1mwandb\u001b[0m:                train_loss_step 712.23645\n",
      "\u001b[34m\u001b[1mwandb\u001b[0m:            trainer/global_step 22031\n",
      "\u001b[34m\u001b[1mwandb\u001b[0m:                validation_loss 721.82257\n",
      "\u001b[34m\u001b[1mwandb\u001b[0m: \n"
     ]
    },
    {
     "name": "stderr",
     "output_type": "stream",
     "text": [
      "\u001b[34m\u001b[1mwandb\u001b[0m: 🚀 View run \u001b[33mStep5_UTC\u001b[0m at: \u001b[34m\u001b[4mhttps://wandb.ai/inflammation/inflammation_atlas_R1/runs/kxk6pmy1\u001b[0m\n",
      "\u001b[34m\u001b[1mwandb\u001b[0m: Synced 5 W&B file(s), 0 media file(s), 0 artifact file(s) and 0 other file(s)\n"
     ]
    },
    {
     "name": "stderr",
     "output_type": "stream",
     "text": [
      "\u001b[34m\u001b[1mwandb\u001b[0m: Find logs at: \u001b[35m\u001b[1m./wandb/run-20240507_150001-kxk6pmy1/logs\u001b[0m\n"
     ]
    }
   ],
   "source": [
    "wandb.finish()"
   ]
  },
  {
   "cell_type": "markdown",
   "id": "d9fb1179-83c7-4ac6-b4aa-92dc7a349801",
   "metadata": {
    "papermill": {
     "duration": 0.008311,
     "end_time": "2024-05-07T15:05:59.321672",
     "exception": false,
     "start_time": "2024-05-07T15:05:59.313361",
     "status": "completed"
    },
    "tags": []
   },
   "source": [
    "### Extracting embedding space"
   ]
  },
  {
   "cell_type": "code",
   "execution_count": 16,
   "id": "caaa5832-0123-4c59-8ec6-f46a75f7a14e",
   "metadata": {
    "execution": {
     "iopub.execute_input": "2024-05-07T15:05:59.340521Z",
     "iopub.status.busy": "2024-05-07T15:05:59.340231Z",
     "iopub.status.idle": "2024-05-07T15:06:03.814591Z",
     "shell.execute_reply": "2024-05-07T15:06:03.813500Z"
    },
    "papermill": {
     "duration": 4.486205,
     "end_time": "2024-05-07T15:06:03.816718",
     "exception": false,
     "start_time": "2024-05-07T15:05:59.330513",
     "status": "completed"
    },
    "tags": []
   },
   "outputs": [],
   "source": [
    "adata.obsm['X_scVI'] = model.get_latent_representation()"
   ]
  },
  {
   "cell_type": "markdown",
   "id": "2f03e70b-839c-40a6-9fbb-d76bbd787419",
   "metadata": {
    "papermill": {
     "duration": 0.008833,
     "end_time": "2024-05-07T15:06:03.835691",
     "exception": false,
     "start_time": "2024-05-07T15:06:03.826858",
     "status": "completed"
    },
    "tags": []
   },
   "source": [
    "## Save the results"
   ]
  },
  {
   "cell_type": "code",
   "execution_count": 17,
   "id": "7b04049b-47fd-4b62-a1c0-c43dcc086d34",
   "metadata": {
    "execution": {
     "iopub.execute_input": "2024-05-07T15:06:03.855326Z",
     "iopub.status.busy": "2024-05-07T15:06:03.854977Z",
     "iopub.status.idle": "2024-05-07T15:06:17.603533Z",
     "shell.execute_reply": "2024-05-07T15:06:17.602519Z"
    },
    "papermill": {
     "duration": 13.761353,
     "end_time": "2024-05-07T15:06:17.606050",
     "exception": false,
     "start_time": "2024-05-07T15:06:03.844697",
     "status": "completed"
    },
    "tags": []
   },
   "outputs": [],
   "source": [
    "if overwriteData:\n",
    "    adata.write(here(f\"{workDir}/{cellGroup}/results/02_{annotationLevel}_{cellGroup}_HVGsubset_scVI.h5ad\"), compression=\"gzip\")\n",
    "    model.save(here(f\"{workDir}/{cellGroup}/results/02_{annotationLevel}_{cellGroup}_HVGsubset_scVI_MODEL/\"),\n",
    "               overwrite = True, \n",
    "               save_anndata = False )   "
   ]
  },
  {
   "cell_type": "code",
   "execution_count": 18,
   "id": "629ba2bd-f6be-44ef-8fca-bbdf891bf25f",
   "metadata": {
    "execution": {
     "iopub.execute_input": "2024-05-07T15:06:17.627184Z",
     "iopub.status.busy": "2024-05-07T15:06:17.626881Z",
     "iopub.status.idle": "2024-05-07T15:06:17.630673Z",
     "shell.execute_reply": "2024-05-07T15:06:17.629856Z"
    },
    "papermill": {
     "duration": 0.016726,
     "end_time": "2024-05-07T15:06:17.632761",
     "exception": false,
     "start_time": "2024-05-07T15:06:17.616035",
     "status": "completed"
    },
    "tags": []
   },
   "outputs": [],
   "source": [
    "# To load the model do (after loading corresponding adata):\n",
    "# model = scvi.model.SCVI.load(here('{}/results/01_{}_HVGsubset_scVI_MODEL/'.format(workDir, cellGroup)), \n",
    "#                              adata, \n",
    "#                              use_gpu=True)"
   ]
  },
  {
   "cell_type": "raw",
   "id": "975e84d0-f56b-498d-b3a8-c9219cf22e53",
   "metadata": {
    "papermill": {
     "duration": 0.009381,
     "end_time": "2024-05-07T15:06:17.651296",
     "exception": false,
     "start_time": "2024-05-07T15:06:17.641915",
     "status": "completed"
    },
    "tags": []
   },
   "source": [
    "session_info.show()"
   ]
  }
 ],
 "metadata": {
  "kernelspec": {
   "display_name": "Python 3 (ipykernel)",
   "language": "python",
   "name": "python3"
  },
  "language_info": {
   "codemirror_mode": {
    "name": "ipython",
    "version": 3
   },
   "file_extension": ".py",
   "mimetype": "text/x-python",
   "name": "python",
   "nbconvert_exporter": "python",
   "pygments_lexer": "ipython3",
   "version": "3.9.18"
  },
  "papermill": {
   "default_parameters": {},
   "duration": 405.663877,
   "end_time": "2024-05-07T15:06:20.831122",
   "environment_variables": {},
   "exception": null,
   "input_path": "/home/jupyter/Inflammation-PBMCs-Atlas/02_cell_annotation/02_fromCellLineages_to_CellTypes/Step5/UTC/02_integration_scVI.ipynb",
   "output_path": "/home/jupyter/Inflammation-PBMCs-Atlas/02_cell_annotation/02_fromCellLineages_to_CellTypes/Step5/UTC/02_integration_scVI_executed.ipynb",
   "parameters": {},
   "start_time": "2024-05-07T14:59:35.167245",
   "version": "2.5.0"
  }
 },
 "nbformat": 4,
 "nbformat_minor": 5
}