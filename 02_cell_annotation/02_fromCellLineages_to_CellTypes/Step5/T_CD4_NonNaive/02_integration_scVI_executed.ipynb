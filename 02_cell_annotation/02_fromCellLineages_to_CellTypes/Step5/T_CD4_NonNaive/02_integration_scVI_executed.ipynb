{
 "cells": [
  {
   "cell_type": "code",
   "execution_count": 1,
   "id": "2dd1425a-0c07-465e-b522-9e3cc5cb93a7",
   "metadata": {
    "execution": {
     "iopub.execute_input": "2024-05-07T14:59:36.510097Z",
     "iopub.status.busy": "2024-05-07T14:59:36.509334Z",
     "iopub.status.idle": "2024-05-07T14:59:47.451134Z",
     "shell.execute_reply": "2024-05-07T14:59:47.450174Z"
    },
    "papermill": {
     "duration": 10.958493,
     "end_time": "2024-05-07T14:59:47.453181",
     "exception": false,
     "start_time": "2024-05-07T14:59:36.494688",
     "status": "completed"
    },
    "tags": []
   },
   "outputs": [
    {
     "data": {
      "text/plain": [
       "True"
      ]
     },
     "execution_count": 1,
     "metadata": {},
     "output_type": "execute_result"
    }
   ],
   "source": [
    "import os\n",
    "import sys\n",
    "\n",
    "import numpy as np\n",
    "import matplotlib.pyplot as plt\n",
    "\n",
    "import scanpy as sc\n",
    "import scvi\n",
    "import torch\n",
    "\n",
    "from pytorch_lightning.loggers import WandbLogger\n",
    "import wandb\n",
    "from dotenv import load_dotenv\n",
    "\n",
    "import session_info\n",
    "import warnings\n",
    "from pyprojroot.here import here\n",
    "\n",
    "warnings.filterwarnings(\"ignore\")\n",
    "sys.path.insert(1, str(here('bin')))\n",
    "\n",
    "torch.set_float32_matmul_precision('high')\n",
    "\n",
    "#plt.style.use(['science','nature','no-latex'])\n",
    "dpi_fig_save = 300\n",
    "sc.set_figure_params(dpi=100, dpi_save=dpi_fig_save, vector_friendly=True)\n",
    "\n",
    "load_dotenv(here('.env'))"
   ]
  },
  {
   "cell_type": "code",
   "execution_count": 2,
   "id": "09c897fc-744b-43de-a681-718fb5d327fa",
   "metadata": {
    "execution": {
     "iopub.execute_input": "2024-05-07T14:59:47.464567Z",
     "iopub.status.busy": "2024-05-07T14:59:47.463973Z",
     "iopub.status.idle": "2024-05-07T14:59:47.467889Z",
     "shell.execute_reply": "2024-05-07T14:59:47.467250Z"
    },
    "papermill": {
     "duration": 0.010446,
     "end_time": "2024-05-07T14:59:47.469474",
     "exception": false,
     "start_time": "2024-05-07T14:59:47.459028",
     "status": "completed"
    },
    "tags": []
   },
   "outputs": [],
   "source": [
    "class CustomWandbLogger(WandbLogger):\n",
    "    @property\n",
    "    def save_dir(self):\n",
    "        return self.experiment.dir"
   ]
  },
  {
   "cell_type": "code",
   "execution_count": 3,
   "id": "8ee6662f-5d45-4137-80a5-bb0b9ae8d71f",
   "metadata": {
    "execution": {
     "iopub.execute_input": "2024-05-07T14:59:47.478609Z",
     "iopub.status.busy": "2024-05-07T14:59:47.477975Z",
     "iopub.status.idle": "2024-05-07T14:59:47.486172Z",
     "shell.execute_reply": "2024-05-07T14:59:47.485484Z"
    },
    "papermill": {
     "duration": 0.014721,
     "end_time": "2024-05-07T14:59:47.487917",
     "exception": false,
     "start_time": "2024-05-07T14:59:47.473196",
     "status": "completed"
    },
    "tags": []
   },
   "outputs": [
    {
     "name": "stderr",
     "output_type": "stream",
     "text": [
      "Seed set to 0\n"
     ]
    },
    {
     "name": "stdout",
     "output_type": "stream",
     "text": [
      "Last run with scvi-tools version: 1.1.2\n"
     ]
    }
   ],
   "source": [
    "scvi.settings.seed = 0\n",
    "print(\"Last run with scvi-tools version:\", scvi.__version__)"
   ]
  },
  {
   "cell_type": "markdown",
   "id": "a81037ff-5998-482a-ba86-520f757311a9",
   "metadata": {
    "papermill": {
     "duration": 0.003883,
     "end_time": "2024-05-07T14:59:47.495219",
     "exception": false,
     "start_time": "2024-05-07T14:59:47.491336",
     "status": "completed"
    },
    "tags": []
   },
   "source": [
    "**Setting parameters** "
   ]
  },
  {
   "cell_type": "code",
   "execution_count": 4,
   "id": "56c27966-8f10-4c93-8b1a-1fa75f005e41",
   "metadata": {
    "execution": {
     "iopub.execute_input": "2024-05-07T14:59:47.504407Z",
     "iopub.status.busy": "2024-05-07T14:59:47.503937Z",
     "iopub.status.idle": "2024-05-07T14:59:47.507103Z",
     "shell.execute_reply": "2024-05-07T14:59:47.506471Z"
    },
    "papermill": {
     "duration": 0.009617,
     "end_time": "2024-05-07T14:59:47.508855",
     "exception": false,
     "start_time": "2024-05-07T14:59:47.499238",
     "status": "completed"
    },
    "tags": []
   },
   "outputs": [],
   "source": [
    "overwriteFigures = True\n",
    "overwriteData = True"
   ]
  },
  {
   "cell_type": "code",
   "execution_count": 5,
   "id": "c86fccd3-a4fe-415b-8f4e-e2ceb3ec128a",
   "metadata": {
    "execution": {
     "iopub.execute_input": "2024-05-07T14:59:47.517577Z",
     "iopub.status.busy": "2024-05-07T14:59:47.517330Z",
     "iopub.status.idle": "2024-05-07T14:59:47.521109Z",
     "shell.execute_reply": "2024-05-07T14:59:47.520268Z"
    },
    "papermill": {
     "duration": 0.010309,
     "end_time": "2024-05-07T14:59:47.522848",
     "exception": false,
     "start_time": "2024-05-07T14:59:47.512539",
     "status": "completed"
    },
    "tags": []
   },
   "outputs": [],
   "source": [
    "cellGroup = 'T_CD4_NonNaive'\n",
    "workDir = os.getcwd()"
   ]
  },
  {
   "cell_type": "code",
   "execution_count": 6,
   "id": "2dee4d55-d168-467b-b867-a61fed9d6af1",
   "metadata": {
    "execution": {
     "iopub.execute_input": "2024-05-07T14:59:47.531695Z",
     "iopub.status.busy": "2024-05-07T14:59:47.531432Z",
     "iopub.status.idle": "2024-05-07T14:59:47.535392Z",
     "shell.execute_reply": "2024-05-07T14:59:47.534520Z"
    },
    "papermill": {
     "duration": 0.01044,
     "end_time": "2024-05-07T14:59:47.537143",
     "exception": false,
     "start_time": "2024-05-07T14:59:47.526703",
     "status": "completed"
    },
    "tags": []
   },
   "outputs": [],
   "source": [
    "annotationLevel = os.path.basename(os.path.normpath(workDir))"
   ]
  },
  {
   "cell_type": "code",
   "execution_count": 7,
   "id": "11e53cd5-b746-4152-89cb-c2f0c15d90b3",
   "metadata": {
    "execution": {
     "iopub.execute_input": "2024-05-07T14:59:47.546034Z",
     "iopub.status.busy": "2024-05-07T14:59:47.545766Z",
     "iopub.status.idle": "2024-05-07T14:59:47.551103Z",
     "shell.execute_reply": "2024-05-07T14:59:47.550131Z"
    },
    "papermill": {
     "duration": 0.01194,
     "end_time": "2024-05-07T14:59:47.552824",
     "exception": false,
     "start_time": "2024-05-07T14:59:47.540884",
     "status": "completed"
    },
    "tags": []
   },
   "outputs": [
    {
     "data": {
      "text/plain": [
       "'/home/jupyter/Inflammation-PBMCs-Atlas/02_cell_annotation/02_fromCellLineages_to_CellTypes/Step5'"
      ]
     },
     "execution_count": 7,
     "metadata": {},
     "output_type": "execute_result"
    }
   ],
   "source": [
    "workDir"
   ]
  },
  {
   "cell_type": "markdown",
   "id": "171d2f06-9a44-4fcb-b437-35dc546674b6",
   "metadata": {
    "papermill": {
     "duration": 0.00395,
     "end_time": "2024-05-07T14:59:47.560765",
     "exception": false,
     "start_time": "2024-05-07T14:59:47.556815",
     "status": "completed"
    },
    "tags": []
   },
   "source": [
    "**Load data**"
   ]
  },
  {
   "cell_type": "code",
   "execution_count": 8,
   "id": "429f34fe-dde6-4cc9-9f75-7de8f85c5ffe",
   "metadata": {
    "execution": {
     "iopub.execute_input": "2024-05-07T14:59:47.570370Z",
     "iopub.status.busy": "2024-05-07T14:59:47.569865Z",
     "iopub.status.idle": "2024-05-07T15:00:07.473062Z",
     "shell.execute_reply": "2024-05-07T15:00:07.472349Z"
    },
    "papermill": {
     "duration": 19.910019,
     "end_time": "2024-05-07T15:00:07.474882",
     "exception": false,
     "start_time": "2024-05-07T14:59:47.564863",
     "status": "completed"
    },
    "tags": []
   },
   "outputs": [
    {
     "data": {
      "text/plain": [
       "AnnData object with n_obs × n_vars = 778897 × 2351\n",
       "    obs: 'studyID', 'libraryID', 'sampleID', 'chemistry', 'technology', 'patientID', 'disease', 'timepoint_replicate', 'treatmentStatus', 'therapyResponse', 'sex', 'age', 'BMI', 'binned_age', 'diseaseStatus', 'smokingStatus', 'ethnicity', 'institute', 'diseaseGroup', 'n_genes_by_counts', 'log1p_n_genes_by_counts', 'total_counts', 'log1p_total_counts', 'pct_counts_in_top_20_genes', 'total_counts_mt', 'log1p_total_counts_mt', 'pct_counts_mt', 'total_counts_ribo', 'log1p_total_counts_ribo', 'pct_counts_ribo', 'total_counts_hb', 'log1p_total_counts_hb', 'pct_counts_hb', 'total_counts_plt', 'log1p_total_counts_plt', 'pct_counts_plt', 'doublet_score', 'predicted_doublet', 'S_score', 'G2M_score', 'phase'\n",
       "    var: 'hgnc_id', 'symbol', 'locus_group', 'HUGO_status', 'mt', 'ribo', 'hb', 'plt', 'n_cells_by_counts', 'mean_counts', 'log1p_mean_counts', 'pct_dropout_by_counts', 'total_counts', 'log1p_total_counts', 'highly_variable'\n",
       "    uns: 'chemistry_colors', 'log1p'\n",
       "    layers: 'counts', 'log1p_10e4_counts'"
      ]
     },
     "execution_count": 8,
     "metadata": {},
     "output_type": "execute_result"
    }
   ],
   "source": [
    "adata = sc.read_h5ad(here(f\"{workDir}/{cellGroup}/results/01_{cellGroup}_normalized_HVGsubset.h5ad\"))\n",
    "adata"
   ]
  },
  {
   "cell_type": "markdown",
   "id": "8ac79f3b-d5af-41fa-8904-1e9ac1cbe2fb",
   "metadata": {
    "papermill": {
     "duration": 0.004008,
     "end_time": "2024-05-07T15:00:07.483444",
     "exception": false,
     "start_time": "2024-05-07T15:00:07.479436",
     "status": "completed"
    },
    "tags": []
   },
   "source": [
    "## scVI integration"
   ]
  },
  {
   "cell_type": "markdown",
   "id": "9544847d-d17f-4811-b14b-760446d54d32",
   "metadata": {
    "execution": {
     "iopub.execute_input": "2024-03-25T16:49:04.004504Z",
     "iopub.status.busy": "2024-03-25T16:49:04.004143Z",
     "iopub.status.idle": "2024-03-25T16:49:04.010148Z",
     "shell.execute_reply": "2024-03-25T16:49:04.009146Z",
     "shell.execute_reply.started": "2024-03-25T16:49:04.004477Z"
    },
    "papermill": {
     "duration": 0.004109,
     "end_time": "2024-05-07T15:00:07.491637",
     "exception": false,
     "start_time": "2024-05-07T15:00:07.487528",
     "status": "completed"
    },
    "tags": []
   },
   "source": [
    "**scVI parameters**"
   ]
  },
  {
   "cell_type": "code",
   "execution_count": 9,
   "id": "208966eb-545a-4c02-854c-0ed0487ef5b3",
   "metadata": {
    "execution": {
     "iopub.execute_input": "2024-05-07T15:00:07.501583Z",
     "iopub.status.busy": "2024-05-07T15:00:07.500888Z",
     "iopub.status.idle": "2024-05-07T15:00:07.506359Z",
     "shell.execute_reply": "2024-05-07T15:00:07.505754Z"
    },
    "papermill": {
     "duration": 0.012962,
     "end_time": "2024-05-07T15:00:07.508584",
     "exception": false,
     "start_time": "2024-05-07T15:00:07.495622",
     "status": "completed"
    },
    "tags": []
   },
   "outputs": [],
   "source": [
    "# https://docs.scvi-tools.org/en/stable/api/reference/scvi.train.Trainer.html#scvi.train.Trainer\n",
    "setup_kwargs = dict(\n",
    "    layer=\"counts\", \n",
    "    batch_key='libraryID', \n",
    "    categorical_covariate_keys = ['studyID', 'chemistry', 'disease', 'sampleID'],\n",
    "    labels_key = 'chemistry'    \n",
    ")\n",
    "\n",
    "scvi_kwargs = dict(n_hidden=512,\n",
    "                   n_latent=10, # reduced to 20 after step 00 (main) and to 10 after step 03\n",
    "                   n_layers=2,\n",
    "                   gene_likelihood='nb',\n",
    "                   dispersion='gene-label')\n",
    "\n",
    "trainer_kwargs = dict(\n",
    "    checkpointing_monitor = 'elbo_validation',\n",
    "    early_stopping_monitor = 'reconstruction_loss_validation',\n",
    "    early_stopping_patience = 10,\n",
    "    early_stopping_min_delta=0.1,\n",
    "    early_stopping = True,\n",
    "    max_epochs = 1000,\n",
    "\n",
    "    #logger = # wandb\n",
    ")\n",
    "# https://docs.scvi-tools.org/en/stable/api/reference/scvi.train.TrainingPlan.html#scvi.train.TrainingPlan\n",
    "plan_kwargs = dict(\n",
    "    lr = 5e-4,\n",
    "    #reduce_lr_on_plateau = True\n",
    ")\n",
    "\n",
    "# https://docs.scvi-tools.org/en/stable/api/reference/scvi.module.VAE.html#scvi.module.VAE\n",
    "#vae = dict(\n",
    "#    use_layer_norm='both',\n",
    "#    use_batch_norm='none',\n",
    "#    encode_covariates=True,\n",
    "#    deeply_inject_covariates=False\n",
    "#)\n",
    "parameter_dict = setup_kwargs | scvi_kwargs | trainer_kwargs | plan_kwargs"
   ]
  },
  {
   "cell_type": "markdown",
   "id": "1362366a-c16b-4c11-964b-b9c5f82f7b29",
   "metadata": {
    "papermill": {
     "duration": 0.006147,
     "end_time": "2024-05-07T15:00:07.521310",
     "exception": false,
     "start_time": "2024-05-07T15:00:07.515163",
     "status": "completed"
    },
    "tags": []
   },
   "source": [
    "**wandb parameter**"
   ]
  },
  {
   "cell_type": "code",
   "execution_count": 10,
   "id": "0496e33a-8ca5-423f-b42f-34a59760708c",
   "metadata": {
    "execution": {
     "iopub.execute_input": "2024-05-07T15:00:07.536555Z",
     "iopub.status.busy": "2024-05-07T15:00:07.535787Z",
     "iopub.status.idle": "2024-05-07T15:00:07.540512Z",
     "shell.execute_reply": "2024-05-07T15:00:07.539850Z"
    },
    "papermill": {
     "duration": 0.014745,
     "end_time": "2024-05-07T15:00:07.542696",
     "exception": false,
     "start_time": "2024-05-07T15:00:07.527951",
     "status": "completed"
    },
    "tags": []
   },
   "outputs": [
    {
     "data": {
      "text/plain": [
       "'Step5_T_CD4_NonNaive'"
      ]
     },
     "execution_count": 10,
     "metadata": {},
     "output_type": "execute_result"
    }
   ],
   "source": [
    "run_name = f\"{annotationLevel}_{cellGroup}\"\n",
    "run_name"
   ]
  },
  {
   "cell_type": "code",
   "execution_count": 11,
   "id": "b0021327-95a2-4002-bf32-2c5779a99505",
   "metadata": {
    "execution": {
     "iopub.execute_input": "2024-05-07T15:00:07.552086Z",
     "iopub.status.busy": "2024-05-07T15:00:07.551821Z",
     "iopub.status.idle": "2024-05-07T15:00:07.687795Z",
     "shell.execute_reply": "2024-05-07T15:00:07.686984Z"
    },
    "papermill": {
     "duration": 0.143093,
     "end_time": "2024-05-07T15:00:07.689858",
     "exception": false,
     "start_time": "2024-05-07T15:00:07.546765",
     "status": "completed"
    },
    "tags": []
   },
   "outputs": [],
   "source": [
    "logger = CustomWandbLogger(name = run_name, project='inflammation_atlas_R1', config=parameter_dict)"
   ]
  },
  {
   "cell_type": "markdown",
   "id": "c237eee1-a976-4915-9b7f-b014bf33f47d",
   "metadata": {
    "papermill": {
     "duration": 0.004262,
     "end_time": "2024-05-07T15:00:07.698634",
     "exception": false,
     "start_time": "2024-05-07T15:00:07.694372",
     "status": "completed"
    },
    "tags": []
   },
   "source": [
    "**Running integration**"
   ]
  },
  {
   "cell_type": "code",
   "execution_count": 12,
   "id": "aff97c53-1aba-462e-8a77-f1aec9cf724c",
   "metadata": {
    "execution": {
     "iopub.execute_input": "2024-05-07T15:00:07.708215Z",
     "iopub.status.busy": "2024-05-07T15:00:07.707886Z",
     "iopub.status.idle": "2024-05-07T15:00:08.287650Z",
     "shell.execute_reply": "2024-05-07T15:00:08.286898Z"
    },
    "papermill": {
     "duration": 0.58715,
     "end_time": "2024-05-07T15:00:08.289833",
     "exception": false,
     "start_time": "2024-05-07T15:00:07.702683",
     "status": "completed"
    },
    "tags": []
   },
   "outputs": [],
   "source": [
    "scvi.model.SCVI.setup_anndata(adata, \n",
    "                              **setup_kwargs)"
   ]
  },
  {
   "cell_type": "code",
   "execution_count": 13,
   "id": "1a56f448-cf44-47c1-81a4-a89caa930fec",
   "metadata": {
    "execution": {
     "iopub.execute_input": "2024-05-07T15:00:08.300224Z",
     "iopub.status.busy": "2024-05-07T15:00:08.299967Z",
     "iopub.status.idle": "2024-05-07T15:00:09.176407Z",
     "shell.execute_reply": "2024-05-07T15:00:09.175655Z"
    },
    "papermill": {
     "duration": 0.884225,
     "end_time": "2024-05-07T15:00:09.178454",
     "exception": false,
     "start_time": "2024-05-07T15:00:08.294229",
     "status": "completed"
    },
    "tags": []
   },
   "outputs": [],
   "source": [
    "model = scvi.model.SCVI(adata, **scvi_kwargs)"
   ]
  },
  {
   "cell_type": "code",
   "execution_count": 14,
   "id": "2735f010-4f24-4ae8-9740-a8cfeb335e9a",
   "metadata": {
    "execution": {
     "iopub.execute_input": "2024-05-07T15:00:09.188168Z",
     "iopub.status.busy": "2024-05-07T15:00:09.187893Z",
     "iopub.status.idle": "2024-05-07T15:44:15.775401Z",
     "shell.execute_reply": "2024-05-07T15:44:15.774690Z"
    },
    "papermill": {
     "duration": 2646.594499,
     "end_time": "2024-05-07T15:44:15.777162",
     "exception": false,
     "start_time": "2024-05-07T15:00:09.182663",
     "status": "completed"
    },
    "tags": []
   },
   "outputs": [
    {
     "name": "stderr",
     "output_type": "stream",
     "text": [
      "GPU available: True (cuda), used: True\n"
     ]
    },
    {
     "name": "stderr",
     "output_type": "stream",
     "text": [
      "TPU available: False, using: 0 TPU cores\n"
     ]
    },
    {
     "name": "stderr",
     "output_type": "stream",
     "text": [
      "IPU available: False, using: 0 IPUs\n"
     ]
    },
    {
     "name": "stderr",
     "output_type": "stream",
     "text": [
      "HPU available: False, using: 0 HPUs\n"
     ]
    },
    {
     "name": "stderr",
     "output_type": "stream",
     "text": [
      "\u001b[34m\u001b[1mwandb\u001b[0m: Currently logged in as: \u001b[33mdav1989\u001b[0m (\u001b[33minflammation\u001b[0m). Use \u001b[1m`wandb login --relogin`\u001b[0m to force relogin\n"
     ]
    },
    {
     "name": "stderr",
     "output_type": "stream",
     "text": [
      "\u001b[34m\u001b[1mwandb\u001b[0m: wandb version 0.16.6 is available!  To upgrade, please run:\n",
      "\u001b[34m\u001b[1mwandb\u001b[0m:  $ pip install wandb --upgrade\n"
     ]
    },
    {
     "name": "stderr",
     "output_type": "stream",
     "text": [
      "\u001b[34m\u001b[1mwandb\u001b[0m: Tracking run with wandb version 0.16.3\n"
     ]
    },
    {
     "name": "stderr",
     "output_type": "stream",
     "text": [
      "\u001b[34m\u001b[1mwandb\u001b[0m: Run data is saved locally in \u001b[35m\u001b[1m./wandb/run-20240507_150014-u4gyg9kp\u001b[0m\n",
      "\u001b[34m\u001b[1mwandb\u001b[0m: Run \u001b[1m`wandb offline`\u001b[0m to turn off syncing.\n"
     ]
    },
    {
     "name": "stderr",
     "output_type": "stream",
     "text": [
      "\u001b[34m\u001b[1mwandb\u001b[0m: Syncing run \u001b[33mStep5_T_CD4_NonNaive\u001b[0m\n"
     ]
    },
    {
     "name": "stderr",
     "output_type": "stream",
     "text": [
      "\u001b[34m\u001b[1mwandb\u001b[0m: ⭐️ View project at \u001b[34m\u001b[4mhttps://wandb.ai/inflammation/inflammation_atlas_R1\u001b[0m\n"
     ]
    },
    {
     "name": "stderr",
     "output_type": "stream",
     "text": [
      "\u001b[34m\u001b[1mwandb\u001b[0m: 🚀 View run at \u001b[34m\u001b[4mhttps://wandb.ai/inflammation/inflammation_atlas_R1/runs/u4gyg9kp\u001b[0m\n"
     ]
    },
    {
     "name": "stderr",
     "output_type": "stream",
     "text": [
      "LOCAL_RANK: 0 - CUDA_VISIBLE_DEVICES: [0]\n"
     ]
    },
    {
     "name": "stdout",
     "output_type": "stream",
     "text": [
      "\r",
      "Training:   0%|          | 0/1000 [00:00<?, ?it/s]"
     ]
    },
    {
     "name": "stdout",
     "output_type": "stream",
     "text": [
      "\r",
      "Epoch 1/1000:   0%|          | 0/1000 [00:00<?, ?it/s]"
     ]
    },
    {
     "name": "stdout",
     "output_type": "stream",
     "text": [
      "\r",
      "Epoch 1/1000:   0%|          | 1/1000 [01:28<24:27:17, 88.13s/it]"
     ]
    },
    {
     "name": "stdout",
     "output_type": "stream",
     "text": [
      "\r",
      "Epoch 1/1000:   0%|          | 1/1000 [01:28<24:27:17, 88.13s/it, v_num=g9kp, train_loss_step=744, train_loss_epoch=759]"
     ]
    },
    {
     "name": "stdout",
     "output_type": "stream",
     "text": [
      "\r",
      "Epoch 2/1000:   0%|          | 1/1000 [01:28<24:27:17, 88.13s/it, v_num=g9kp, train_loss_step=744, train_loss_epoch=759]"
     ]
    },
    {
     "name": "stdout",
     "output_type": "stream",
     "text": [
      "\r",
      "Epoch 2/1000:   0%|          | 2/1000 [02:55<24:17:42, 87.64s/it, v_num=g9kp, train_loss_step=744, train_loss_epoch=759]"
     ]
    },
    {
     "name": "stdout",
     "output_type": "stream",
     "text": [
      "\r",
      "Epoch 2/1000:   0%|          | 2/1000 [02:55<24:17:42, 87.64s/it, v_num=g9kp, train_loss_step=714, train_loss_epoch=745]"
     ]
    },
    {
     "name": "stdout",
     "output_type": "stream",
     "text": [
      "\r",
      "Epoch 3/1000:   0%|          | 2/1000 [02:55<24:17:42, 87.64s/it, v_num=g9kp, train_loss_step=714, train_loss_epoch=745]"
     ]
    },
    {
     "name": "stdout",
     "output_type": "stream",
     "text": [
      "\r",
      "Epoch 3/1000:   0%|          | 3/1000 [04:22<24:14:00, 87.50s/it, v_num=g9kp, train_loss_step=714, train_loss_epoch=745]"
     ]
    },
    {
     "name": "stdout",
     "output_type": "stream",
     "text": [
      "\r",
      "Epoch 3/1000:   0%|          | 3/1000 [04:22<24:14:00, 87.50s/it, v_num=g9kp, train_loss_step=712, train_loss_epoch=742]"
     ]
    },
    {
     "name": "stdout",
     "output_type": "stream",
     "text": [
      "\r",
      "Epoch 4/1000:   0%|          | 3/1000 [04:22<24:14:00, 87.50s/it, v_num=g9kp, train_loss_step=712, train_loss_epoch=742]"
     ]
    },
    {
     "name": "stdout",
     "output_type": "stream",
     "text": [
      "\r",
      "Epoch 4/1000:   0%|          | 4/1000 [05:49<24:06:13, 87.12s/it, v_num=g9kp, train_loss_step=712, train_loss_epoch=742]"
     ]
    },
    {
     "name": "stdout",
     "output_type": "stream",
     "text": [
      "\r",
      "Epoch 4/1000:   0%|          | 4/1000 [05:49<24:06:13, 87.12s/it, v_num=g9kp, train_loss_step=754, train_loss_epoch=741]"
     ]
    },
    {
     "name": "stdout",
     "output_type": "stream",
     "text": [
      "\r",
      "Epoch 5/1000:   0%|          | 4/1000 [05:49<24:06:13, 87.12s/it, v_num=g9kp, train_loss_step=754, train_loss_epoch=741]"
     ]
    },
    {
     "name": "stdout",
     "output_type": "stream",
     "text": [
      "\r",
      "Epoch 5/1000:   0%|          | 5/1000 [07:05<22:58:28, 83.12s/it, v_num=g9kp, train_loss_step=754, train_loss_epoch=741]"
     ]
    },
    {
     "name": "stdout",
     "output_type": "stream",
     "text": [
      "\r",
      "Epoch 5/1000:   0%|          | 5/1000 [07:05<22:58:28, 83.12s/it, v_num=g9kp, train_loss_step=738, train_loss_epoch=740]"
     ]
    },
    {
     "name": "stdout",
     "output_type": "stream",
     "text": [
      "\r",
      "Epoch 6/1000:   0%|          | 5/1000 [07:05<22:58:28, 83.12s/it, v_num=g9kp, train_loss_step=738, train_loss_epoch=740]"
     ]
    },
    {
     "name": "stdout",
     "output_type": "stream",
     "text": [
      "\r",
      "Epoch 6/1000:   1%|          | 6/1000 [08:21<22:16:25, 80.67s/it, v_num=g9kp, train_loss_step=738, train_loss_epoch=740]"
     ]
    },
    {
     "name": "stdout",
     "output_type": "stream",
     "text": [
      "\r",
      "Epoch 6/1000:   1%|          | 6/1000 [08:21<22:16:25, 80.67s/it, v_num=g9kp, train_loss_step=776, train_loss_epoch=740]"
     ]
    },
    {
     "name": "stdout",
     "output_type": "stream",
     "text": [
      "\r",
      "Epoch 7/1000:   1%|          | 6/1000 [08:21<22:16:25, 80.67s/it, v_num=g9kp, train_loss_step=776, train_loss_epoch=740]"
     ]
    },
    {
     "name": "stdout",
     "output_type": "stream",
     "text": [
      "\r",
      "Epoch 7/1000:   1%|          | 7/1000 [09:36<21:47:02, 78.98s/it, v_num=g9kp, train_loss_step=776, train_loss_epoch=740]"
     ]
    },
    {
     "name": "stdout",
     "output_type": "stream",
     "text": [
      "\r",
      "Epoch 7/1000:   1%|          | 7/1000 [09:36<21:47:02, 78.98s/it, v_num=g9kp, train_loss_step=755, train_loss_epoch=739]"
     ]
    },
    {
     "name": "stdout",
     "output_type": "stream",
     "text": [
      "\r",
      "Epoch 8/1000:   1%|          | 7/1000 [09:36<21:47:02, 78.98s/it, v_num=g9kp, train_loss_step=755, train_loss_epoch=739]"
     ]
    },
    {
     "name": "stdout",
     "output_type": "stream",
     "text": [
      "\r",
      "Epoch 8/1000:   1%|          | 8/1000 [10:52<21:27:23, 77.87s/it, v_num=g9kp, train_loss_step=755, train_loss_epoch=739]"
     ]
    },
    {
     "name": "stdout",
     "output_type": "stream",
     "text": [
      "\r",
      "Epoch 8/1000:   1%|          | 8/1000 [10:52<21:27:23, 77.87s/it, v_num=g9kp, train_loss_step=719, train_loss_epoch=739]"
     ]
    },
    {
     "name": "stdout",
     "output_type": "stream",
     "text": [
      "\r",
      "Epoch 9/1000:   1%|          | 8/1000 [10:52<21:27:23, 77.87s/it, v_num=g9kp, train_loss_step=719, train_loss_epoch=739]"
     ]
    },
    {
     "name": "stdout",
     "output_type": "stream",
     "text": [
      "\r",
      "Epoch 9/1000:   1%|          | 9/1000 [12:07<21:12:22, 77.04s/it, v_num=g9kp, train_loss_step=719, train_loss_epoch=739]"
     ]
    },
    {
     "name": "stdout",
     "output_type": "stream",
     "text": [
      "\r",
      "Epoch 9/1000:   1%|          | 9/1000 [12:07<21:12:22, 77.04s/it, v_num=g9kp, train_loss_step=730, train_loss_epoch=739]"
     ]
    },
    {
     "name": "stdout",
     "output_type": "stream",
     "text": [
      "\r",
      "Epoch 10/1000:   1%|          | 9/1000 [12:07<21:12:22, 77.04s/it, v_num=g9kp, train_loss_step=730, train_loss_epoch=739]"
     ]
    },
    {
     "name": "stdout",
     "output_type": "stream",
     "text": [
      "\r",
      "Epoch 10/1000:   1%|          | 10/1000 [13:22<21:01:01, 76.43s/it, v_num=g9kp, train_loss_step=730, train_loss_epoch=739]"
     ]
    },
    {
     "name": "stdout",
     "output_type": "stream",
     "text": [
      "\r",
      "Epoch 10/1000:   1%|          | 10/1000 [13:22<21:01:01, 76.43s/it, v_num=g9kp, train_loss_step=744, train_loss_epoch=739]"
     ]
    },
    {
     "name": "stdout",
     "output_type": "stream",
     "text": [
      "\r",
      "Epoch 11/1000:   1%|          | 10/1000 [13:22<21:01:01, 76.43s/it, v_num=g9kp, train_loss_step=744, train_loss_epoch=739]"
     ]
    },
    {
     "name": "stdout",
     "output_type": "stream",
     "text": [
      "\r",
      "Epoch 11/1000:   1%|          | 11/1000 [14:37<20:50:08, 75.84s/it, v_num=g9kp, train_loss_step=744, train_loss_epoch=739]"
     ]
    },
    {
     "name": "stdout",
     "output_type": "stream",
     "text": [
      "\r",
      "Epoch 11/1000:   1%|          | 11/1000 [14:37<20:50:08, 75.84s/it, v_num=g9kp, train_loss_step=726, train_loss_epoch=739]"
     ]
    },
    {
     "name": "stdout",
     "output_type": "stream",
     "text": [
      "\r",
      "Epoch 12/1000:   1%|          | 11/1000 [14:37<20:50:08, 75.84s/it, v_num=g9kp, train_loss_step=726, train_loss_epoch=739]"
     ]
    },
    {
     "name": "stdout",
     "output_type": "stream",
     "text": [
      "\r",
      "Epoch 12/1000:   1%|          | 12/1000 [15:51<20:42:30, 75.46s/it, v_num=g9kp, train_loss_step=726, train_loss_epoch=739]"
     ]
    },
    {
     "name": "stdout",
     "output_type": "stream",
     "text": [
      "\r",
      "Epoch 12/1000:   1%|          | 12/1000 [15:51<20:42:30, 75.46s/it, v_num=g9kp, train_loss_step=812, train_loss_epoch=738]"
     ]
    },
    {
     "name": "stdout",
     "output_type": "stream",
     "text": [
      "\r",
      "Epoch 13/1000:   1%|          | 12/1000 [15:51<20:42:30, 75.46s/it, v_num=g9kp, train_loss_step=812, train_loss_epoch=738]"
     ]
    },
    {
     "name": "stdout",
     "output_type": "stream",
     "text": [
      "\r",
      "Epoch 13/1000:   1%|▏         | 13/1000 [17:06<20:36:40, 75.18s/it, v_num=g9kp, train_loss_step=812, train_loss_epoch=738]"
     ]
    },
    {
     "name": "stdout",
     "output_type": "stream",
     "text": [
      "\r",
      "Epoch 13/1000:   1%|▏         | 13/1000 [17:06<20:36:40, 75.18s/it, v_num=g9kp, train_loss_step=704, train_loss_epoch=738]"
     ]
    },
    {
     "name": "stdout",
     "output_type": "stream",
     "text": [
      "\r",
      "Epoch 14/1000:   1%|▏         | 13/1000 [17:06<20:36:40, 75.18s/it, v_num=g9kp, train_loss_step=704, train_loss_epoch=738]"
     ]
    },
    {
     "name": "stdout",
     "output_type": "stream",
     "text": [
      "\r",
      "Epoch 14/1000:   1%|▏         | 14/1000 [18:20<20:30:17, 74.87s/it, v_num=g9kp, train_loss_step=704, train_loss_epoch=738]"
     ]
    },
    {
     "name": "stdout",
     "output_type": "stream",
     "text": [
      "\r",
      "Epoch 14/1000:   1%|▏         | 14/1000 [18:20<20:30:17, 74.87s/it, v_num=g9kp, train_loss_step=784, train_loss_epoch=738]"
     ]
    },
    {
     "name": "stdout",
     "output_type": "stream",
     "text": [
      "\r",
      "Epoch 15/1000:   1%|▏         | 14/1000 [18:20<20:30:17, 74.87s/it, v_num=g9kp, train_loss_step=784, train_loss_epoch=738]"
     ]
    },
    {
     "name": "stdout",
     "output_type": "stream",
     "text": [
      "\r",
      "Epoch 15/1000:   2%|▏         | 15/1000 [19:35<20:28:56, 74.86s/it, v_num=g9kp, train_loss_step=784, train_loss_epoch=738]"
     ]
    },
    {
     "name": "stdout",
     "output_type": "stream",
     "text": [
      "\r",
      "Epoch 15/1000:   2%|▏         | 15/1000 [19:35<20:28:56, 74.86s/it, v_num=g9kp, train_loss_step=780, train_loss_epoch=738]"
     ]
    },
    {
     "name": "stdout",
     "output_type": "stream",
     "text": [
      "\r",
      "Epoch 16/1000:   2%|▏         | 15/1000 [19:35<20:28:56, 74.86s/it, v_num=g9kp, train_loss_step=780, train_loss_epoch=738]"
     ]
    },
    {
     "name": "stdout",
     "output_type": "stream",
     "text": [
      "\r",
      "Epoch 16/1000:   2%|▏         | 16/1000 [20:49<20:26:55, 74.81s/it, v_num=g9kp, train_loss_step=780, train_loss_epoch=738]"
     ]
    },
    {
     "name": "stdout",
     "output_type": "stream",
     "text": [
      "\r",
      "Epoch 16/1000:   2%|▏         | 16/1000 [20:49<20:26:55, 74.81s/it, v_num=g9kp, train_loss_step=717, train_loss_epoch=738]"
     ]
    },
    {
     "name": "stdout",
     "output_type": "stream",
     "text": [
      "\r",
      "Epoch 17/1000:   2%|▏         | 16/1000 [20:49<20:26:55, 74.81s/it, v_num=g9kp, train_loss_step=717, train_loss_epoch=738]"
     ]
    },
    {
     "name": "stdout",
     "output_type": "stream",
     "text": [
      "\r",
      "Epoch 17/1000:   2%|▏         | 17/1000 [22:04<20:24:31, 74.74s/it, v_num=g9kp, train_loss_step=717, train_loss_epoch=738]"
     ]
    },
    {
     "name": "stdout",
     "output_type": "stream",
     "text": [
      "\r",
      "Epoch 17/1000:   2%|▏         | 17/1000 [22:04<20:24:31, 74.74s/it, v_num=g9kp, train_loss_step=754, train_loss_epoch=738]"
     ]
    },
    {
     "name": "stdout",
     "output_type": "stream",
     "text": [
      "\r",
      "Epoch 18/1000:   2%|▏         | 17/1000 [22:04<20:24:31, 74.74s/it, v_num=g9kp, train_loss_step=754, train_loss_epoch=738]"
     ]
    },
    {
     "name": "stdout",
     "output_type": "stream",
     "text": [
      "\r",
      "Epoch 18/1000:   2%|▏         | 18/1000 [23:18<20:22:19, 74.68s/it, v_num=g9kp, train_loss_step=754, train_loss_epoch=738]"
     ]
    },
    {
     "name": "stdout",
     "output_type": "stream",
     "text": [
      "\r",
      "Epoch 18/1000:   2%|▏         | 18/1000 [23:18<20:22:19, 74.68s/it, v_num=g9kp, train_loss_step=736, train_loss_epoch=738]"
     ]
    },
    {
     "name": "stdout",
     "output_type": "stream",
     "text": [
      "\r",
      "Epoch 19/1000:   2%|▏         | 18/1000 [23:18<20:22:19, 74.68s/it, v_num=g9kp, train_loss_step=736, train_loss_epoch=738]"
     ]
    },
    {
     "name": "stdout",
     "output_type": "stream",
     "text": [
      "\r",
      "Epoch 19/1000:   2%|▏         | 19/1000 [24:33<20:21:16, 74.70s/it, v_num=g9kp, train_loss_step=736, train_loss_epoch=738]"
     ]
    },
    {
     "name": "stdout",
     "output_type": "stream",
     "text": [
      "\r",
      "Epoch 19/1000:   2%|▏         | 19/1000 [24:33<20:21:16, 74.70s/it, v_num=g9kp, train_loss_step=734, train_loss_epoch=738]"
     ]
    },
    {
     "name": "stdout",
     "output_type": "stream",
     "text": [
      "\r",
      "Epoch 20/1000:   2%|▏         | 19/1000 [24:33<20:21:16, 74.70s/it, v_num=g9kp, train_loss_step=734, train_loss_epoch=738]"
     ]
    },
    {
     "name": "stdout",
     "output_type": "stream",
     "text": [
      "\r",
      "Epoch 20/1000:   2%|▏         | 20/1000 [25:48<20:18:47, 74.62s/it, v_num=g9kp, train_loss_step=734, train_loss_epoch=738]"
     ]
    },
    {
     "name": "stdout",
     "output_type": "stream",
     "text": [
      "\r",
      "Epoch 20/1000:   2%|▏         | 20/1000 [25:48<20:18:47, 74.62s/it, v_num=g9kp, train_loss_step=700, train_loss_epoch=738]"
     ]
    },
    {
     "name": "stdout",
     "output_type": "stream",
     "text": [
      "\r",
      "Epoch 21/1000:   2%|▏         | 20/1000 [25:48<20:18:47, 74.62s/it, v_num=g9kp, train_loss_step=700, train_loss_epoch=738]"
     ]
    },
    {
     "name": "stdout",
     "output_type": "stream",
     "text": [
      "\r",
      "Epoch 21/1000:   2%|▏         | 21/1000 [27:03<20:21:39, 74.87s/it, v_num=g9kp, train_loss_step=700, train_loss_epoch=738]"
     ]
    },
    {
     "name": "stdout",
     "output_type": "stream",
     "text": [
      "\r",
      "Epoch 21/1000:   2%|▏         | 21/1000 [27:03<20:21:39, 74.87s/it, v_num=g9kp, train_loss_step=718, train_loss_epoch=738]"
     ]
    },
    {
     "name": "stdout",
     "output_type": "stream",
     "text": [
      "\r",
      "Epoch 22/1000:   2%|▏         | 21/1000 [27:03<20:21:39, 74.87s/it, v_num=g9kp, train_loss_step=718, train_loss_epoch=738]"
     ]
    },
    {
     "name": "stdout",
     "output_type": "stream",
     "text": [
      "\r",
      "Epoch 22/1000:   2%|▏         | 22/1000 [28:18<20:19:35, 74.82s/it, v_num=g9kp, train_loss_step=718, train_loss_epoch=738]"
     ]
    },
    {
     "name": "stdout",
     "output_type": "stream",
     "text": [
      "\r",
      "Epoch 22/1000:   2%|▏         | 22/1000 [28:18<20:19:35, 74.82s/it, v_num=g9kp, train_loss_step=702, train_loss_epoch=738]"
     ]
    },
    {
     "name": "stdout",
     "output_type": "stream",
     "text": [
      "\r",
      "Epoch 23/1000:   2%|▏         | 22/1000 [28:18<20:19:35, 74.82s/it, v_num=g9kp, train_loss_step=702, train_loss_epoch=738]"
     ]
    },
    {
     "name": "stdout",
     "output_type": "stream",
     "text": [
      "\r",
      "Epoch 23/1000:   2%|▏         | 23/1000 [29:33<20:18:03, 74.80s/it, v_num=g9kp, train_loss_step=702, train_loss_epoch=738]"
     ]
    },
    {
     "name": "stdout",
     "output_type": "stream",
     "text": [
      "\r",
      "Epoch 23/1000:   2%|▏         | 23/1000 [29:33<20:18:03, 74.80s/it, v_num=g9kp, train_loss_step=755, train_loss_epoch=738]"
     ]
    },
    {
     "name": "stdout",
     "output_type": "stream",
     "text": [
      "\r",
      "Epoch 24/1000:   2%|▏         | 23/1000 [29:33<20:18:03, 74.80s/it, v_num=g9kp, train_loss_step=755, train_loss_epoch=738]"
     ]
    },
    {
     "name": "stdout",
     "output_type": "stream",
     "text": [
      "\r",
      "Epoch 24/1000:   2%|▏         | 24/1000 [30:48<20:19:12, 74.95s/it, v_num=g9kp, train_loss_step=755, train_loss_epoch=738]"
     ]
    },
    {
     "name": "stdout",
     "output_type": "stream",
     "text": [
      "\r",
      "Epoch 24/1000:   2%|▏         | 24/1000 [30:48<20:19:12, 74.95s/it, v_num=g9kp, train_loss_step=694, train_loss_epoch=738]"
     ]
    },
    {
     "name": "stdout",
     "output_type": "stream",
     "text": [
      "\r",
      "Epoch 25/1000:   2%|▏         | 24/1000 [30:48<20:19:12, 74.95s/it, v_num=g9kp, train_loss_step=694, train_loss_epoch=738]"
     ]
    },
    {
     "name": "stdout",
     "output_type": "stream",
     "text": [
      "\r",
      "Epoch 25/1000:   2%|▎         | 25/1000 [32:03<20:17:21, 74.91s/it, v_num=g9kp, train_loss_step=694, train_loss_epoch=738]"
     ]
    },
    {
     "name": "stdout",
     "output_type": "stream",
     "text": [
      "\r",
      "Epoch 25/1000:   2%|▎         | 25/1000 [32:03<20:17:21, 74.91s/it, v_num=g9kp, train_loss_step=740, train_loss_epoch=738]"
     ]
    },
    {
     "name": "stdout",
     "output_type": "stream",
     "text": [
      "\r",
      "Epoch 26/1000:   2%|▎         | 25/1000 [32:03<20:17:21, 74.91s/it, v_num=g9kp, train_loss_step=740, train_loss_epoch=738]"
     ]
    },
    {
     "name": "stdout",
     "output_type": "stream",
     "text": [
      "\r",
      "Epoch 26/1000:   3%|▎         | 26/1000 [33:18<20:16:09, 74.92s/it, v_num=g9kp, train_loss_step=740, train_loss_epoch=738]"
     ]
    },
    {
     "name": "stdout",
     "output_type": "stream",
     "text": [
      "\r",
      "Epoch 26/1000:   3%|▎         | 26/1000 [33:18<20:16:09, 74.92s/it, v_num=g9kp, train_loss_step=700, train_loss_epoch=738]"
     ]
    },
    {
     "name": "stdout",
     "output_type": "stream",
     "text": [
      "\r",
      "Epoch 27/1000:   3%|▎         | 26/1000 [33:18<20:16:09, 74.92s/it, v_num=g9kp, train_loss_step=700, train_loss_epoch=738]"
     ]
    },
    {
     "name": "stdout",
     "output_type": "stream",
     "text": [
      "\r",
      "Epoch 27/1000:   3%|▎         | 27/1000 [34:32<20:13:24, 74.82s/it, v_num=g9kp, train_loss_step=700, train_loss_epoch=738]"
     ]
    },
    {
     "name": "stdout",
     "output_type": "stream",
     "text": [
      "\r",
      "Epoch 27/1000:   3%|▎         | 27/1000 [34:32<20:13:24, 74.82s/it, v_num=g9kp, train_loss_step=804, train_loss_epoch=738]"
     ]
    },
    {
     "name": "stdout",
     "output_type": "stream",
     "text": [
      "\r",
      "Epoch 28/1000:   3%|▎         | 27/1000 [34:32<20:13:24, 74.82s/it, v_num=g9kp, train_loss_step=804, train_loss_epoch=738]"
     ]
    },
    {
     "name": "stdout",
     "output_type": "stream",
     "text": [
      "\r",
      "Epoch 28/1000:   3%|▎         | 28/1000 [35:47<20:10:08, 74.70s/it, v_num=g9kp, train_loss_step=804, train_loss_epoch=738]"
     ]
    },
    {
     "name": "stdout",
     "output_type": "stream",
     "text": [
      "\r",
      "Epoch 28/1000:   3%|▎         | 28/1000 [35:47<20:10:08, 74.70s/it, v_num=g9kp, train_loss_step=685, train_loss_epoch=738]"
     ]
    },
    {
     "name": "stdout",
     "output_type": "stream",
     "text": [
      "\r",
      "Epoch 29/1000:   3%|▎         | 28/1000 [35:47<20:10:08, 74.70s/it, v_num=g9kp, train_loss_step=685, train_loss_epoch=738]"
     ]
    },
    {
     "name": "stdout",
     "output_type": "stream",
     "text": [
      "\r",
      "Epoch 29/1000:   3%|▎         | 29/1000 [37:02<20:10:58, 74.83s/it, v_num=g9kp, train_loss_step=685, train_loss_epoch=738]"
     ]
    },
    {
     "name": "stdout",
     "output_type": "stream",
     "text": [
      "\r",
      "Epoch 29/1000:   3%|▎         | 29/1000 [37:02<20:10:58, 74.83s/it, v_num=g9kp, train_loss_step=727, train_loss_epoch=738]"
     ]
    },
    {
     "name": "stdout",
     "output_type": "stream",
     "text": [
      "\r",
      "Epoch 30/1000:   3%|▎         | 29/1000 [37:02<20:10:58, 74.83s/it, v_num=g9kp, train_loss_step=727, train_loss_epoch=738]"
     ]
    },
    {
     "name": "stdout",
     "output_type": "stream",
     "text": [
      "\r",
      "Epoch 30/1000:   3%|▎         | 30/1000 [38:17<20:11:20, 74.93s/it, v_num=g9kp, train_loss_step=727, train_loss_epoch=738]"
     ]
    },
    {
     "name": "stdout",
     "output_type": "stream",
     "text": [
      "\r",
      "Epoch 30/1000:   3%|▎         | 30/1000 [38:17<20:11:20, 74.93s/it, v_num=g9kp, train_loss_step=742, train_loss_epoch=738]"
     ]
    },
    {
     "name": "stdout",
     "output_type": "stream",
     "text": [
      "\r",
      "Epoch 31/1000:   3%|▎         | 30/1000 [38:17<20:11:20, 74.93s/it, v_num=g9kp, train_loss_step=742, train_loss_epoch=738]"
     ]
    },
    {
     "name": "stdout",
     "output_type": "stream",
     "text": [
      "\r",
      "Epoch 31/1000:   3%|▎         | 31/1000 [39:32<20:11:47, 75.03s/it, v_num=g9kp, train_loss_step=742, train_loss_epoch=738]"
     ]
    },
    {
     "name": "stdout",
     "output_type": "stream",
     "text": [
      "\r",
      "Epoch 31/1000:   3%|▎         | 31/1000 [39:32<20:11:47, 75.03s/it, v_num=g9kp, train_loss_step=738, train_loss_epoch=738]"
     ]
    },
    {
     "name": "stdout",
     "output_type": "stream",
     "text": [
      "\r",
      "Epoch 32/1000:   3%|▎         | 31/1000 [39:32<20:11:47, 75.03s/it, v_num=g9kp, train_loss_step=738, train_loss_epoch=738]"
     ]
    },
    {
     "name": "stdout",
     "output_type": "stream",
     "text": [
      "\r",
      "Epoch 32/1000:   3%|▎         | 32/1000 [40:47<20:10:33, 75.03s/it, v_num=g9kp, train_loss_step=738, train_loss_epoch=738]"
     ]
    },
    {
     "name": "stdout",
     "output_type": "stream",
     "text": [
      "\r",
      "Epoch 32/1000:   3%|▎         | 32/1000 [40:47<20:10:33, 75.03s/it, v_num=g9kp, train_loss_step=730, train_loss_epoch=738]"
     ]
    },
    {
     "name": "stdout",
     "output_type": "stream",
     "text": [
      "\r",
      "Epoch 33/1000:   3%|▎         | 32/1000 [40:47<20:10:33, 75.03s/it, v_num=g9kp, train_loss_step=730, train_loss_epoch=738]"
     ]
    },
    {
     "name": "stdout",
     "output_type": "stream",
     "text": [
      "\r",
      "Epoch 33/1000:   3%|▎         | 33/1000 [41:52<19:20:48, 72.03s/it, v_num=g9kp, train_loss_step=730, train_loss_epoch=738]"
     ]
    },
    {
     "name": "stdout",
     "output_type": "stream",
     "text": [
      "\r",
      "Epoch 33/1000:   3%|▎         | 33/1000 [41:52<19:20:48, 72.03s/it, v_num=g9kp, train_loss_step=711, train_loss_epoch=738]"
     ]
    },
    {
     "name": "stdout",
     "output_type": "stream",
     "text": [
      "\r",
      "Epoch 34/1000:   3%|▎         | 33/1000 [41:52<19:20:48, 72.03s/it, v_num=g9kp, train_loss_step=711, train_loss_epoch=738]"
     ]
    },
    {
     "name": "stdout",
     "output_type": "stream",
     "text": [
      "\r",
      "Epoch 34/1000:   3%|▎         | 34/1000 [42:56<18:41:57, 69.69s/it, v_num=g9kp, train_loss_step=711, train_loss_epoch=738]"
     ]
    },
    {
     "name": "stdout",
     "output_type": "stream",
     "text": [
      "\r",
      "Epoch 34/1000:   3%|▎         | 34/1000 [42:56<18:41:57, 69.69s/it, v_num=g9kp, train_loss_step=700, train_loss_epoch=738]"
     ]
    },
    {
     "name": "stdout",
     "output_type": "stream",
     "text": [
      "\r",
      "Epoch 35/1000:   3%|▎         | 34/1000 [42:56<18:41:57, 69.69s/it, v_num=g9kp, train_loss_step=700, train_loss_epoch=738]"
     ]
    },
    {
     "name": "stdout",
     "output_type": "stream",
     "text": [
      "\r",
      "Epoch 35/1000:   4%|▎         | 35/1000 [44:00<18:12:24, 67.92s/it, v_num=g9kp, train_loss_step=700, train_loss_epoch=738]"
     ]
    },
    {
     "name": "stdout",
     "output_type": "stream",
     "text": [
      "\r",
      "Epoch 35/1000:   4%|▎         | 35/1000 [44:00<18:12:24, 67.92s/it, v_num=g9kp, train_loss_step=766, train_loss_epoch=738]"
     ]
    },
    {
     "name": "stdout",
     "output_type": "stream",
     "text": [
      "\r",
      "Epoch 35/1000:   4%|▎         | 35/1000 [44:00<20:13:29, 75.45s/it, v_num=g9kp, train_loss_step=766, train_loss_epoch=738]"
     ]
    },
    {
     "name": "stdout",
     "output_type": "stream",
     "text": [
      "\n",
      "Monitored metric reconstruction_loss_validation did not improve in the last 10 records. Best score: 736.587. Signaling Trainer to stop.\n"
     ]
    }
   ],
   "source": [
    "model.train(logger=logger, plan_kwargs = plan_kwargs, **trainer_kwargs)"
   ]
  },
  {
   "cell_type": "code",
   "execution_count": 15,
   "id": "c282f6eb-0ad1-40a5-81e6-1acda1545dad",
   "metadata": {
    "execution": {
     "iopub.execute_input": "2024-05-07T15:44:15.797603Z",
     "iopub.status.busy": "2024-05-07T15:44:15.797327Z",
     "iopub.status.idle": "2024-05-07T15:44:21.918356Z",
     "shell.execute_reply": "2024-05-07T15:44:21.917577Z"
    },
    "papermill": {
     "duration": 6.133427,
     "end_time": "2024-05-07T15:44:21.920144",
     "exception": false,
     "start_time": "2024-05-07T15:44:15.786717",
     "status": "completed"
    },
    "tags": []
   },
   "outputs": [
    {
     "name": "stderr",
     "output_type": "stream",
     "text": [
      "\u001b[34m\u001b[1mwandb\u001b[0m: - 0.003 MB of 0.003 MB uploaded\r"
     ]
    },
    {
     "name": "stderr",
     "output_type": "stream",
     "text": [
      "\u001b[34m\u001b[1mwandb\u001b[0m: \\ 0.003 MB of 0.009 MB uploaded\r"
     ]
    },
    {
     "name": "stderr",
     "output_type": "stream",
     "text": [
      "\u001b[34m\u001b[1mwandb\u001b[0m: | 0.003 MB of 0.009 MB uploaded\r"
     ]
    },
    {
     "name": "stderr",
     "output_type": "stream",
     "text": [
      "\u001b[34m\u001b[1mwandb\u001b[0m: / 0.009 MB of 0.009 MB uploaded\r"
     ]
    },
    {
     "name": "stderr",
     "output_type": "stream",
     "text": [
      "\u001b[34m\u001b[1mwandb\u001b[0m:                                                                                \n"
     ]
    },
    {
     "name": "stderr",
     "output_type": "stream",
     "text": [
      "\u001b[34m\u001b[1mwandb\u001b[0m: \n",
      "\u001b[34m\u001b[1mwandb\u001b[0m: Run history:\n",
      "\u001b[34m\u001b[1mwandb\u001b[0m:                     elbo_train █▆▅▄▃▃▃▃▂▂▂▂▂▂▂▂▂▂▂▂▂▁▁▁▁▁▁▁▁▁▁▁▁▁▁\n",
      "\u001b[34m\u001b[1mwandb\u001b[0m:                elbo_validation █▆▅▄▄▃▃▃▃▂▂▂▂▂▂▂▂▂▂▂▂▂▂▁▁▁▁▁▁▁▁▁▁▁▁\n",
      "\u001b[34m\u001b[1mwandb\u001b[0m:                          epoch ▁▁▁▁▂▂▂▂▂▃▃▃▃▃▃▄▄▄▄▅▅▅▅▅▅▆▆▆▆▆▆▇▇▇▇▇████\n",
      "\u001b[34m\u001b[1mwandb\u001b[0m:                kl_global_train ▁▁▁▁▁▁▁▁▁▁▁▁▁▁▁▁▁▁▁▁▁▁▁▁▁▁▁▁▁▁▁▁▁▁▁\n",
      "\u001b[34m\u001b[1mwandb\u001b[0m:           kl_global_validation ▁▁▁▁▁▁▁▁▁▁▁▁▁▁▁▁▁▁▁▁▁▁▁▁▁▁▁▁▁▁▁▁▁▁▁\n",
      "\u001b[34m\u001b[1mwandb\u001b[0m:                 kl_local_train ██▆▅▄▄▄▃▃▃▃▃▃▂▂▂▂▂▂▂▂▂▂▂▂▁▁▁▁▁▁▁▁▁▁\n",
      "\u001b[34m\u001b[1mwandb\u001b[0m:            kl_local_validation █▇▅▄▄▄▃▃▃▃▃▃▂▂▂▂▂▂▂▂▂▂▂▂▁▁▁▁▁▁▁▁▁▁▁\n",
      "\u001b[34m\u001b[1mwandb\u001b[0m:                      kl_weight ▁▁▁▁▂▂▂▂▂▂▃▃▃▃▃▄▄▄▄▄▅▅▅▅▅▅▆▆▆▆▆▇▇▇▇▇▇███\n",
      "\u001b[34m\u001b[1mwandb\u001b[0m:      reconstruction_loss_train █▄▃▂▂▂▂▂▂▂▂▁▁▁▁▁▁▁▁▁▁▁▁▁▁▁▁▁▁▁▁▁▁▁▁\n",
      "\u001b[34m\u001b[1mwandb\u001b[0m: reconstruction_loss_validation █▅▃▃▂▂▂▂▂▂▁▁▁▁▁▁▁▁▁▁▁▁▁▁▁▁▁▁▁▁▁▁▁▁▁\n",
      "\u001b[34m\u001b[1mwandb\u001b[0m:               train_loss_epoch █▃▂▂▂▂▁▁▁▁▁▁▁▁▁▁▁▁▁▁▁▁▁▁▁▁▁▁▁▁▁▁▁▁▁\n",
      "\u001b[34m\u001b[1mwandb\u001b[0m:                train_loss_step ▅▆▄▆▅▃▅▄▃▄▅▃▄▆▅▅▃▄▃▃▃▄█▂▅▄▃▂▄▄▅▃▅▁▃▅▄▂▅▄\n",
      "\u001b[34m\u001b[1mwandb\u001b[0m:            trainer/global_step ▁▁▁▁▂▂▂▂▂▃▃▃▃▃▃▄▄▄▄▄▅▅▅▅▅▅▆▆▆▆▆▆▇▇▇▇▇███\n",
      "\u001b[34m\u001b[1mwandb\u001b[0m:                validation_loss █▄▃▂▂▂▁▁▁▁▁▁▁▁▁▁▁▁▁▁▁▁▁▁▁▁▁▁▁▁▁▁▂▂▂\n",
      "\u001b[34m\u001b[1mwandb\u001b[0m: \n",
      "\u001b[34m\u001b[1mwandb\u001b[0m: Run summary:\n",
      "\u001b[34m\u001b[1mwandb\u001b[0m:                     elbo_train 759.7738\n",
      "\u001b[34m\u001b[1mwandb\u001b[0m:                elbo_validation 759.84259\n",
      "\u001b[34m\u001b[1mwandb\u001b[0m:                          epoch 34\n",
      "\u001b[34m\u001b[1mwandb\u001b[0m:                kl_global_train 0.0\n",
      "\u001b[34m\u001b[1mwandb\u001b[0m:           kl_global_validation 0.0\n",
      "\u001b[34m\u001b[1mwandb\u001b[0m:                 kl_local_train 23.63048\n",
      "\u001b[34m\u001b[1mwandb\u001b[0m:            kl_local_validation 23.26888\n",
      "\u001b[34m\u001b[1mwandb\u001b[0m:                      kl_weight 0.085\n",
      "\u001b[34m\u001b[1mwandb\u001b[0m:      reconstruction_loss_train 736.14331\n",
      "\u001b[34m\u001b[1mwandb\u001b[0m: reconstruction_loss_validation 736.57373\n",
      "\u001b[34m\u001b[1mwandb\u001b[0m:               train_loss_epoch 738.15228\n",
      "\u001b[34m\u001b[1mwandb\u001b[0m:                train_loss_step 749.77985\n",
      "\u001b[34m\u001b[1mwandb\u001b[0m:            trainer/global_step 191694\n",
      "\u001b[34m\u001b[1mwandb\u001b[0m:                validation_loss 738.55145\n",
      "\u001b[34m\u001b[1mwandb\u001b[0m: \n"
     ]
    },
    {
     "name": "stderr",
     "output_type": "stream",
     "text": [
      "\u001b[34m\u001b[1mwandb\u001b[0m: 🚀 View run \u001b[33mStep5_T_CD4_NonNaive\u001b[0m at: \u001b[34m\u001b[4mhttps://wandb.ai/inflammation/inflammation_atlas_R1/runs/u4gyg9kp\u001b[0m\n",
      "\u001b[34m\u001b[1mwandb\u001b[0m: Synced 5 W&B file(s), 0 media file(s), 0 artifact file(s) and 0 other file(s)\n"
     ]
    },
    {
     "name": "stderr",
     "output_type": "stream",
     "text": [
      "\u001b[34m\u001b[1mwandb\u001b[0m: Find logs at: \u001b[35m\u001b[1m./wandb/run-20240507_150014-u4gyg9kp/logs\u001b[0m\n"
     ]
    }
   ],
   "source": [
    "wandb.finish()"
   ]
  },
  {
   "cell_type": "markdown",
   "id": "d9fb1179-83c7-4ac6-b4aa-92dc7a349801",
   "metadata": {
    "papermill": {
     "duration": 0.009863,
     "end_time": "2024-05-07T15:44:21.940521",
     "exception": false,
     "start_time": "2024-05-07T15:44:21.930658",
     "status": "completed"
    },
    "tags": []
   },
   "source": [
    "### Extracting embedding space"
   ]
  },
  {
   "cell_type": "code",
   "execution_count": 16,
   "id": "caaa5832-0123-4c59-8ec6-f46a75f7a14e",
   "metadata": {
    "execution": {
     "iopub.execute_input": "2024-05-07T15:44:21.961347Z",
     "iopub.status.busy": "2024-05-07T15:44:21.960706Z",
     "iopub.status.idle": "2024-05-07T15:44:43.479929Z",
     "shell.execute_reply": "2024-05-07T15:44:43.479172Z"
    },
    "papermill": {
     "duration": 21.532198,
     "end_time": "2024-05-07T15:44:43.482145",
     "exception": false,
     "start_time": "2024-05-07T15:44:21.949947",
     "status": "completed"
    },
    "tags": []
   },
   "outputs": [],
   "source": [
    "adata.obsm['X_scVI'] = model.get_latent_representation()"
   ]
  },
  {
   "cell_type": "markdown",
   "id": "2f03e70b-839c-40a6-9fbb-d76bbd787419",
   "metadata": {
    "papermill": {
     "duration": 0.010628,
     "end_time": "2024-05-07T15:44:43.503585",
     "exception": false,
     "start_time": "2024-05-07T15:44:43.492957",
     "status": "completed"
    },
    "tags": []
   },
   "source": [
    "## Save the results"
   ]
  },
  {
   "cell_type": "code",
   "execution_count": 17,
   "id": "7b04049b-47fd-4b62-a1c0-c43dcc086d34",
   "metadata": {
    "execution": {
     "iopub.execute_input": "2024-05-07T15:44:43.526562Z",
     "iopub.status.busy": "2024-05-07T15:44:43.525859Z",
     "iopub.status.idle": "2024-05-07T15:46:07.400735Z",
     "shell.execute_reply": "2024-05-07T15:46:07.399973Z"
    },
    "papermill": {
     "duration": 83.889378,
     "end_time": "2024-05-07T15:46:07.403102",
     "exception": false,
     "start_time": "2024-05-07T15:44:43.513724",
     "status": "completed"
    },
    "tags": []
   },
   "outputs": [],
   "source": [
    "if overwriteData:\n",
    "    adata.write(here(f\"{workDir}/{cellGroup}/results/02_{annotationLevel}_{cellGroup}_HVGsubset_scVI.h5ad\"), compression=\"gzip\")\n",
    "    model.save(here(f\"{workDir}/{cellGroup}/results/02_{annotationLevel}_{cellGroup}_HVGsubset_scVI_MODEL/\"),\n",
    "               overwrite = True, \n",
    "               save_anndata = False )   "
   ]
  },
  {
   "cell_type": "code",
   "execution_count": 18,
   "id": "629ba2bd-f6be-44ef-8fca-bbdf891bf25f",
   "metadata": {
    "execution": {
     "iopub.execute_input": "2024-05-07T15:46:07.425039Z",
     "iopub.status.busy": "2024-05-07T15:46:07.424774Z",
     "iopub.status.idle": "2024-05-07T15:46:07.427873Z",
     "shell.execute_reply": "2024-05-07T15:46:07.427303Z"
    },
    "papermill": {
     "duration": 0.015906,
     "end_time": "2024-05-07T15:46:07.429495",
     "exception": false,
     "start_time": "2024-05-07T15:46:07.413589",
     "status": "completed"
    },
    "tags": []
   },
   "outputs": [],
   "source": [
    "# To load the model do (after loading corresponding adata):\n",
    "# model = scvi.model.SCVI.load(here('{}/results/01_{}_HVGsubset_scVI_MODEL/'.format(workDir, cellGroup)), \n",
    "#                              adata, \n",
    "#                              use_gpu=True)"
   ]
  },
  {
   "cell_type": "raw",
   "id": "975e84d0-f56b-498d-b3a8-c9219cf22e53",
   "metadata": {
    "papermill": {
     "duration": 0.009667,
     "end_time": "2024-05-07T15:46:07.448984",
     "exception": false,
     "start_time": "2024-05-07T15:46:07.439317",
     "status": "completed"
    },
    "tags": []
   },
   "source": [
    "session_info.show()"
   ]
  }
 ],
 "metadata": {
  "kernelspec": {
   "display_name": "Python 3 (ipykernel)",
   "language": "python",
   "name": "python3"
  },
  "language_info": {
   "codemirror_mode": {
    "name": "ipython",
    "version": 3
   },
   "file_extension": ".py",
   "mimetype": "text/x-python",
   "name": "python",
   "nbconvert_exporter": "python",
   "pygments_lexer": "ipython3",
   "version": "3.9.18"
  },
  "papermill": {
   "default_parameters": {},
   "duration": 2795.637766,
   "end_time": "2024-05-07T15:46:10.810218",
   "environment_variables": {},
   "exception": null,
   "input_path": "/home/jupyter/Inflammation-PBMCs-Atlas/02_cell_annotation/02_fromCellLineages_to_CellTypes/Step5/T_CD4_NonNaive/02_integration_scVI.ipynb",
   "output_path": "/home/jupyter/Inflammation-PBMCs-Atlas/02_cell_annotation/02_fromCellLineages_to_CellTypes/Step5/T_CD4_NonNaive/02_integration_scVI_executed.ipynb",
   "parameters": {},
   "start_time": "2024-05-07T14:59:35.172452",
   "version": "2.5.0"
  }
 },
 "nbformat": 4,
 "nbformat_minor": 5
}