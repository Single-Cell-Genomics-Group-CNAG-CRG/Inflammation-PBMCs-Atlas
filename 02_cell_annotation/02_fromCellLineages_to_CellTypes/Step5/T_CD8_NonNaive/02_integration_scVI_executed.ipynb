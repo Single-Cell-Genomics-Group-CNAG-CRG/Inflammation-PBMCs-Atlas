{
 "cells": [
  {
   "cell_type": "code",
   "execution_count": 1,
   "id": "2dd1425a-0c07-465e-b522-9e3cc5cb93a7",
   "metadata": {
    "execution": {
     "iopub.execute_input": "2024-05-07T14:59:36.495803Z",
     "iopub.status.busy": "2024-05-07T14:59:36.495089Z",
     "iopub.status.idle": "2024-05-07T14:59:47.451284Z",
     "shell.execute_reply": "2024-05-07T14:59:47.450281Z"
    },
    "papermill": {
     "duration": 10.96964,
     "end_time": "2024-05-07T14:59:47.454088",
     "exception": false,
     "start_time": "2024-05-07T14:59:36.484448",
     "status": "completed"
    },
    "tags": []
   },
   "outputs": [
    {
     "data": {
      "text/plain": [
       "True"
      ]
     },
     "execution_count": 1,
     "metadata": {},
     "output_type": "execute_result"
    }
   ],
   "source": [
    "import os\n",
    "import sys\n",
    "\n",
    "import numpy as np\n",
    "import matplotlib.pyplot as plt\n",
    "\n",
    "import scanpy as sc\n",
    "import scvi\n",
    "import torch\n",
    "\n",
    "from pytorch_lightning.loggers import WandbLogger\n",
    "import wandb\n",
    "from dotenv import load_dotenv\n",
    "\n",
    "import session_info\n",
    "import warnings\n",
    "from pyprojroot.here import here\n",
    "\n",
    "warnings.filterwarnings(\"ignore\")\n",
    "sys.path.insert(1, str(here('bin')))\n",
    "\n",
    "torch.set_float32_matmul_precision('high')\n",
    "\n",
    "#plt.style.use(['science','nature','no-latex'])\n",
    "dpi_fig_save = 300\n",
    "sc.set_figure_params(dpi=100, dpi_save=dpi_fig_save, vector_friendly=True)\n",
    "\n",
    "load_dotenv(here('.env'))"
   ]
  },
  {
   "cell_type": "code",
   "execution_count": 2,
   "id": "09c897fc-744b-43de-a681-718fb5d327fa",
   "metadata": {
    "execution": {
     "iopub.execute_input": "2024-05-07T14:59:47.472202Z",
     "iopub.status.busy": "2024-05-07T14:59:47.471902Z",
     "iopub.status.idle": "2024-05-07T14:59:47.475911Z",
     "shell.execute_reply": "2024-05-07T14:59:47.475263Z"
    },
    "papermill": {
     "duration": 0.014383,
     "end_time": "2024-05-07T14:59:47.478215",
     "exception": false,
     "start_time": "2024-05-07T14:59:47.463832",
     "status": "completed"
    },
    "tags": []
   },
   "outputs": [],
   "source": [
    "class CustomWandbLogger(WandbLogger):\n",
    "    @property\n",
    "    def save_dir(self):\n",
    "        return self.experiment.dir"
   ]
  },
  {
   "cell_type": "code",
   "execution_count": 3,
   "id": "8ee6662f-5d45-4137-80a5-bb0b9ae8d71f",
   "metadata": {
    "execution": {
     "iopub.execute_input": "2024-05-07T14:59:47.493030Z",
     "iopub.status.busy": "2024-05-07T14:59:47.492779Z",
     "iopub.status.idle": "2024-05-07T14:59:47.498807Z",
     "shell.execute_reply": "2024-05-07T14:59:47.498179Z"
    },
    "papermill": {
     "duration": 0.01618,
     "end_time": "2024-05-07T14:59:47.501024",
     "exception": false,
     "start_time": "2024-05-07T14:59:47.484844",
     "status": "completed"
    },
    "tags": []
   },
   "outputs": [
    {
     "name": "stderr",
     "output_type": "stream",
     "text": [
      "Seed set to 0\n"
     ]
    },
    {
     "name": "stdout",
     "output_type": "stream",
     "text": [
      "Last run with scvi-tools version: 1.1.2\n"
     ]
    }
   ],
   "source": [
    "scvi.settings.seed = 0\n",
    "print(\"Last run with scvi-tools version:\", scvi.__version__)"
   ]
  },
  {
   "cell_type": "markdown",
   "id": "a81037ff-5998-482a-ba86-520f757311a9",
   "metadata": {
    "papermill": {
     "duration": 0.003679,
     "end_time": "2024-05-07T14:59:47.510853",
     "exception": false,
     "start_time": "2024-05-07T14:59:47.507174",
     "status": "completed"
    },
    "tags": []
   },
   "source": [
    "**Setting parameters** "
   ]
  },
  {
   "cell_type": "code",
   "execution_count": 4,
   "id": "56c27966-8f10-4c93-8b1a-1fa75f005e41",
   "metadata": {
    "execution": {
     "iopub.execute_input": "2024-05-07T14:59:47.519584Z",
     "iopub.status.busy": "2024-05-07T14:59:47.519325Z",
     "iopub.status.idle": "2024-05-07T14:59:47.522552Z",
     "shell.execute_reply": "2024-05-07T14:59:47.521872Z"
    },
    "papermill": {
     "duration": 0.009747,
     "end_time": "2024-05-07T14:59:47.524228",
     "exception": false,
     "start_time": "2024-05-07T14:59:47.514481",
     "status": "completed"
    },
    "tags": []
   },
   "outputs": [],
   "source": [
    "overwriteFigures = True\n",
    "overwriteData = True"
   ]
  },
  {
   "cell_type": "code",
   "execution_count": 5,
   "id": "c86fccd3-a4fe-415b-8f4e-e2ceb3ec128a",
   "metadata": {
    "execution": {
     "iopub.execute_input": "2024-05-07T14:59:47.532901Z",
     "iopub.status.busy": "2024-05-07T14:59:47.532656Z",
     "iopub.status.idle": "2024-05-07T14:59:47.536076Z",
     "shell.execute_reply": "2024-05-07T14:59:47.535380Z"
    },
    "papermill": {
     "duration": 0.009749,
     "end_time": "2024-05-07T14:59:47.537702",
     "exception": false,
     "start_time": "2024-05-07T14:59:47.527953",
     "status": "completed"
    },
    "tags": []
   },
   "outputs": [],
   "source": [
    "cellGroup = 'T_CD8_NonNaive'\n",
    "workDir = os.getcwd()"
   ]
  },
  {
   "cell_type": "code",
   "execution_count": 6,
   "id": "2dee4d55-d168-467b-b867-a61fed9d6af1",
   "metadata": {
    "execution": {
     "iopub.execute_input": "2024-05-07T14:59:47.546588Z",
     "iopub.status.busy": "2024-05-07T14:59:47.545923Z",
     "iopub.status.idle": "2024-05-07T14:59:47.549972Z",
     "shell.execute_reply": "2024-05-07T14:59:47.549223Z"
    },
    "papermill": {
     "duration": 0.01034,
     "end_time": "2024-05-07T14:59:47.551665",
     "exception": false,
     "start_time": "2024-05-07T14:59:47.541325",
     "status": "completed"
    },
    "tags": []
   },
   "outputs": [],
   "source": [
    "annotationLevel = os.path.basename(os.path.normpath(workDir))"
   ]
  },
  {
   "cell_type": "code",
   "execution_count": 7,
   "id": "11e53cd5-b746-4152-89cb-c2f0c15d90b3",
   "metadata": {
    "execution": {
     "iopub.execute_input": "2024-05-07T14:59:47.560531Z",
     "iopub.status.busy": "2024-05-07T14:59:47.560288Z",
     "iopub.status.idle": "2024-05-07T14:59:47.565375Z",
     "shell.execute_reply": "2024-05-07T14:59:47.564496Z"
    },
    "papermill": {
     "duration": 0.011502,
     "end_time": "2024-05-07T14:59:47.567064",
     "exception": false,
     "start_time": "2024-05-07T14:59:47.555562",
     "status": "completed"
    },
    "tags": []
   },
   "outputs": [
    {
     "data": {
      "text/plain": [
       "'/home/jupyter/Inflammation-PBMCs-Atlas/02_cell_annotation/02_fromCellLineages_to_CellTypes/Step5'"
      ]
     },
     "execution_count": 7,
     "metadata": {},
     "output_type": "execute_result"
    }
   ],
   "source": [
    "workDir"
   ]
  },
  {
   "cell_type": "markdown",
   "id": "171d2f06-9a44-4fcb-b437-35dc546674b6",
   "metadata": {
    "papermill": {
     "duration": 0.003875,
     "end_time": "2024-05-07T14:59:47.574853",
     "exception": false,
     "start_time": "2024-05-07T14:59:47.570978",
     "status": "completed"
    },
    "tags": []
   },
   "source": [
    "**Load data**"
   ]
  },
  {
   "cell_type": "code",
   "execution_count": 8,
   "id": "429f34fe-dde6-4cc9-9f75-7de8f85c5ffe",
   "metadata": {
    "execution": {
     "iopub.execute_input": "2024-05-07T14:59:47.583941Z",
     "iopub.status.busy": "2024-05-07T14:59:47.583680Z",
     "iopub.status.idle": "2024-05-07T15:00:01.578032Z",
     "shell.execute_reply": "2024-05-07T15:00:01.577055Z"
    },
    "papermill": {
     "duration": 14.001109,
     "end_time": "2024-05-07T15:00:01.579926",
     "exception": false,
     "start_time": "2024-05-07T14:59:47.578817",
     "status": "completed"
    },
    "tags": []
   },
   "outputs": [
    {
     "data": {
      "text/plain": [
       "AnnData object with n_obs × n_vars = 640382 × 2170\n",
       "    obs: 'studyID', 'libraryID', 'sampleID', 'chemistry', 'technology', 'patientID', 'disease', 'timepoint_replicate', 'treatmentStatus', 'therapyResponse', 'sex', 'age', 'BMI', 'binned_age', 'diseaseStatus', 'smokingStatus', 'ethnicity', 'institute', 'diseaseGroup', 'n_genes_by_counts', 'log1p_n_genes_by_counts', 'total_counts', 'log1p_total_counts', 'pct_counts_in_top_20_genes', 'total_counts_mt', 'log1p_total_counts_mt', 'pct_counts_mt', 'total_counts_ribo', 'log1p_total_counts_ribo', 'pct_counts_ribo', 'total_counts_hb', 'log1p_total_counts_hb', 'pct_counts_hb', 'total_counts_plt', 'log1p_total_counts_plt', 'pct_counts_plt', 'doublet_score', 'predicted_doublet', 'S_score', 'G2M_score', 'phase'\n",
       "    var: 'hgnc_id', 'symbol', 'locus_group', 'HUGO_status', 'mt', 'ribo', 'hb', 'plt', 'n_cells_by_counts', 'mean_counts', 'log1p_mean_counts', 'pct_dropout_by_counts', 'total_counts', 'log1p_total_counts', 'highly_variable'\n",
       "    uns: 'chemistry_colors', 'log1p'\n",
       "    layers: 'counts', 'log1p_10e4_counts'"
      ]
     },
     "execution_count": 8,
     "metadata": {},
     "output_type": "execute_result"
    }
   ],
   "source": [
    "adata = sc.read_h5ad(here(f\"{workDir}/{cellGroup}/results/01_{cellGroup}_normalized_HVGsubset.h5ad\"))\n",
    "adata"
   ]
  },
  {
   "cell_type": "markdown",
   "id": "8ac79f3b-d5af-41fa-8904-1e9ac1cbe2fb",
   "metadata": {
    "papermill": {
     "duration": 0.004157,
     "end_time": "2024-05-07T15:00:01.588728",
     "exception": false,
     "start_time": "2024-05-07T15:00:01.584571",
     "status": "completed"
    },
    "tags": []
   },
   "source": [
    "## scVI integration"
   ]
  },
  {
   "cell_type": "markdown",
   "id": "9544847d-d17f-4811-b14b-760446d54d32",
   "metadata": {
    "execution": {
     "iopub.execute_input": "2024-03-25T16:49:04.004504Z",
     "iopub.status.busy": "2024-03-25T16:49:04.004143Z",
     "iopub.status.idle": "2024-03-25T16:49:04.010148Z",
     "shell.execute_reply": "2024-03-25T16:49:04.009146Z",
     "shell.execute_reply.started": "2024-03-25T16:49:04.004477Z"
    },
    "papermill": {
     "duration": 0.004133,
     "end_time": "2024-05-07T15:00:01.597052",
     "exception": false,
     "start_time": "2024-05-07T15:00:01.592919",
     "status": "completed"
    },
    "tags": []
   },
   "source": [
    "**scVI parameters**"
   ]
  },
  {
   "cell_type": "code",
   "execution_count": 9,
   "id": "208966eb-545a-4c02-854c-0ed0487ef5b3",
   "metadata": {
    "execution": {
     "iopub.execute_input": "2024-05-07T15:00:01.607171Z",
     "iopub.status.busy": "2024-05-07T15:00:01.606854Z",
     "iopub.status.idle": "2024-05-07T15:00:01.613022Z",
     "shell.execute_reply": "2024-05-07T15:00:01.612164Z"
    },
    "papermill": {
     "duration": 0.013308,
     "end_time": "2024-05-07T15:00:01.614677",
     "exception": false,
     "start_time": "2024-05-07T15:00:01.601369",
     "status": "completed"
    },
    "tags": []
   },
   "outputs": [],
   "source": [
    "# https://docs.scvi-tools.org/en/stable/api/reference/scvi.train.Trainer.html#scvi.train.Trainer\n",
    "setup_kwargs = dict(\n",
    "    layer=\"counts\", \n",
    "    batch_key='libraryID', \n",
    "    categorical_covariate_keys = ['studyID', 'chemistry', 'disease', 'sampleID'],\n",
    "    labels_key = 'chemistry'    \n",
    ")\n",
    "\n",
    "scvi_kwargs = dict(n_hidden=512,\n",
    "                   n_latent=10, # reduced to 20 after step 00 (main) and to 10 after step 03\n",
    "                   n_layers=2,\n",
    "                   gene_likelihood='nb',\n",
    "                   dispersion='gene-label')\n",
    "\n",
    "trainer_kwargs = dict(\n",
    "    checkpointing_monitor = 'elbo_validation',\n",
    "    early_stopping_monitor = 'reconstruction_loss_validation',\n",
    "    early_stopping_patience = 10,\n",
    "    early_stopping_min_delta=0.1,\n",
    "    early_stopping = True,\n",
    "    max_epochs = 1000,\n",
    "\n",
    "    #logger = # wandb\n",
    ")\n",
    "# https://docs.scvi-tools.org/en/stable/api/reference/scvi.train.TrainingPlan.html#scvi.train.TrainingPlan\n",
    "plan_kwargs = dict(\n",
    "    lr = 5e-4,\n",
    "    #reduce_lr_on_plateau = True\n",
    ")\n",
    "\n",
    "# https://docs.scvi-tools.org/en/stable/api/reference/scvi.module.VAE.html#scvi.module.VAE\n",
    "#vae = dict(\n",
    "#    use_layer_norm='both',\n",
    "#    use_batch_norm='none',\n",
    "#    encode_covariates=True,\n",
    "#    deeply_inject_covariates=False\n",
    "#)\n",
    "parameter_dict = setup_kwargs | scvi_kwargs | trainer_kwargs | plan_kwargs"
   ]
  },
  {
   "cell_type": "markdown",
   "id": "1362366a-c16b-4c11-964b-b9c5f82f7b29",
   "metadata": {
    "papermill": {
     "duration": 0.004147,
     "end_time": "2024-05-07T15:00:01.622996",
     "exception": false,
     "start_time": "2024-05-07T15:00:01.618849",
     "status": "completed"
    },
    "tags": []
   },
   "source": [
    "**wandb parameter**"
   ]
  },
  {
   "cell_type": "code",
   "execution_count": 10,
   "id": "0496e33a-8ca5-423f-b42f-34a59760708c",
   "metadata": {
    "execution": {
     "iopub.execute_input": "2024-05-07T15:00:01.632754Z",
     "iopub.status.busy": "2024-05-07T15:00:01.632481Z",
     "iopub.status.idle": "2024-05-07T15:00:01.637874Z",
     "shell.execute_reply": "2024-05-07T15:00:01.637073Z"
    },
    "papermill": {
     "duration": 0.012366,
     "end_time": "2024-05-07T15:00:01.639635",
     "exception": false,
     "start_time": "2024-05-07T15:00:01.627269",
     "status": "completed"
    },
    "tags": []
   },
   "outputs": [
    {
     "data": {
      "text/plain": [
       "'Step5_T_CD8_NonNaive'"
      ]
     },
     "execution_count": 10,
     "metadata": {},
     "output_type": "execute_result"
    }
   ],
   "source": [
    "run_name = f\"{annotationLevel}_{cellGroup}\"\n",
    "run_name"
   ]
  },
  {
   "cell_type": "code",
   "execution_count": 11,
   "id": "b0021327-95a2-4002-bf32-2c5779a99505",
   "metadata": {
    "execution": {
     "iopub.execute_input": "2024-05-07T15:00:01.649658Z",
     "iopub.status.busy": "2024-05-07T15:00:01.649107Z",
     "iopub.status.idle": "2024-05-07T15:00:01.791628Z",
     "shell.execute_reply": "2024-05-07T15:00:01.790802Z"
    },
    "papermill": {
     "duration": 0.149897,
     "end_time": "2024-05-07T15:00:01.793799",
     "exception": false,
     "start_time": "2024-05-07T15:00:01.643902",
     "status": "completed"
    },
    "tags": []
   },
   "outputs": [],
   "source": [
    "logger = CustomWandbLogger(name = run_name, project='inflammation_atlas_R1', config=parameter_dict)"
   ]
  },
  {
   "cell_type": "markdown",
   "id": "c237eee1-a976-4915-9b7f-b014bf33f47d",
   "metadata": {
    "papermill": {
     "duration": 0.004636,
     "end_time": "2024-05-07T15:00:01.803497",
     "exception": false,
     "start_time": "2024-05-07T15:00:01.798861",
     "status": "completed"
    },
    "tags": []
   },
   "source": [
    "**Running integration**"
   ]
  },
  {
   "cell_type": "code",
   "execution_count": 12,
   "id": "aff97c53-1aba-462e-8a77-f1aec9cf724c",
   "metadata": {
    "execution": {
     "iopub.execute_input": "2024-05-07T15:00:01.814833Z",
     "iopub.status.busy": "2024-05-07T15:00:01.813968Z",
     "iopub.status.idle": "2024-05-07T15:00:02.382148Z",
     "shell.execute_reply": "2024-05-07T15:00:02.381287Z"
    },
    "papermill": {
     "duration": 0.577014,
     "end_time": "2024-05-07T15:00:02.385065",
     "exception": false,
     "start_time": "2024-05-07T15:00:01.808051",
     "status": "completed"
    },
    "tags": []
   },
   "outputs": [],
   "source": [
    "scvi.model.SCVI.setup_anndata(adata, \n",
    "                              **setup_kwargs)"
   ]
  },
  {
   "cell_type": "code",
   "execution_count": 13,
   "id": "1a56f448-cf44-47c1-81a4-a89caa930fec",
   "metadata": {
    "execution": {
     "iopub.execute_input": "2024-05-07T15:00:02.403250Z",
     "iopub.status.busy": "2024-05-07T15:00:02.402505Z",
     "iopub.status.idle": "2024-05-07T15:00:03.172642Z",
     "shell.execute_reply": "2024-05-07T15:00:03.171921Z"
    },
    "papermill": {
     "duration": 0.781549,
     "end_time": "2024-05-07T15:00:03.174919",
     "exception": false,
     "start_time": "2024-05-07T15:00:02.393370",
     "status": "completed"
    },
    "tags": []
   },
   "outputs": [],
   "source": [
    "model = scvi.model.SCVI(adata, **scvi_kwargs)"
   ]
  },
  {
   "cell_type": "code",
   "execution_count": 14,
   "id": "2735f010-4f24-4ae8-9740-a8cfeb335e9a",
   "metadata": {
    "execution": {
     "iopub.execute_input": "2024-05-07T15:00:03.185509Z",
     "iopub.status.busy": "2024-05-07T15:00:03.185183Z",
     "iopub.status.idle": "2024-05-07T15:41:01.561602Z",
     "shell.execute_reply": "2024-05-07T15:41:01.560677Z"
    },
    "papermill": {
     "duration": 2458.383903,
     "end_time": "2024-05-07T15:41:01.563388",
     "exception": false,
     "start_time": "2024-05-07T15:00:03.179485",
     "status": "completed"
    },
    "tags": []
   },
   "outputs": [
    {
     "name": "stderr",
     "output_type": "stream",
     "text": [
      "GPU available: True (cuda), used: True\n"
     ]
    },
    {
     "name": "stderr",
     "output_type": "stream",
     "text": [
      "TPU available: False, using: 0 TPU cores\n"
     ]
    },
    {
     "name": "stderr",
     "output_type": "stream",
     "text": [
      "IPU available: False, using: 0 IPUs\n"
     ]
    },
    {
     "name": "stderr",
     "output_type": "stream",
     "text": [
      "HPU available: False, using: 0 HPUs\n"
     ]
    },
    {
     "name": "stderr",
     "output_type": "stream",
     "text": [
      "\u001b[34m\u001b[1mwandb\u001b[0m: Currently logged in as: \u001b[33mdav1989\u001b[0m (\u001b[33minflammation\u001b[0m). Use \u001b[1m`wandb login --relogin`\u001b[0m to force relogin\n"
     ]
    },
    {
     "name": "stderr",
     "output_type": "stream",
     "text": [
      "\u001b[34m\u001b[1mwandb\u001b[0m: wandb version 0.16.6 is available!  To upgrade, please run:\n",
      "\u001b[34m\u001b[1mwandb\u001b[0m:  $ pip install wandb --upgrade\n"
     ]
    },
    {
     "name": "stderr",
     "output_type": "stream",
     "text": [
      "\u001b[34m\u001b[1mwandb\u001b[0m: Tracking run with wandb version 0.16.3\n"
     ]
    },
    {
     "name": "stderr",
     "output_type": "stream",
     "text": [
      "\u001b[34m\u001b[1mwandb\u001b[0m: Run data is saved locally in \u001b[35m\u001b[1m./wandb/run-20240507_150008-suxcx5rh\u001b[0m\n",
      "\u001b[34m\u001b[1mwandb\u001b[0m: Run \u001b[1m`wandb offline`\u001b[0m to turn off syncing.\n"
     ]
    },
    {
     "name": "stderr",
     "output_type": "stream",
     "text": [
      "\u001b[34m\u001b[1mwandb\u001b[0m: Syncing run \u001b[33mStep5_T_CD8_NonNaive\u001b[0m\n"
     ]
    },
    {
     "name": "stderr",
     "output_type": "stream",
     "text": [
      "\u001b[34m\u001b[1mwandb\u001b[0m: ⭐️ View project at \u001b[34m\u001b[4mhttps://wandb.ai/inflammation/inflammation_atlas_R1\u001b[0m\n"
     ]
    },
    {
     "name": "stderr",
     "output_type": "stream",
     "text": [
      "\u001b[34m\u001b[1mwandb\u001b[0m: 🚀 View run at \u001b[34m\u001b[4mhttps://wandb.ai/inflammation/inflammation_atlas_R1/runs/suxcx5rh\u001b[0m\n"
     ]
    },
    {
     "name": "stderr",
     "output_type": "stream",
     "text": [
      "LOCAL_RANK: 0 - CUDA_VISIBLE_DEVICES: [0]\n"
     ]
    },
    {
     "name": "stdout",
     "output_type": "stream",
     "text": [
      "\r",
      "Training:   0%|          | 0/1000 [00:00<?, ?it/s]"
     ]
    },
    {
     "name": "stdout",
     "output_type": "stream",
     "text": [
      "\r",
      "Epoch 1/1000:   0%|          | 0/1000 [00:00<?, ?it/s]"
     ]
    },
    {
     "name": "stdout",
     "output_type": "stream",
     "text": [
      "\r",
      "Epoch 1/1000:   0%|          | 1/1000 [01:11<19:57:51, 71.94s/it]"
     ]
    },
    {
     "name": "stdout",
     "output_type": "stream",
     "text": [
      "\r",
      "Epoch 1/1000:   0%|          | 1/1000 [01:11<19:57:51, 71.94s/it, v_num=x5rh, train_loss_step=668, train_loss_epoch=666]"
     ]
    },
    {
     "name": "stdout",
     "output_type": "stream",
     "text": [
      "\r",
      "Epoch 2/1000:   0%|          | 1/1000 [01:11<19:57:51, 71.94s/it, v_num=x5rh, train_loss_step=668, train_loss_epoch=666]"
     ]
    },
    {
     "name": "stdout",
     "output_type": "stream",
     "text": [
      "\r",
      "Epoch 2/1000:   0%|          | 2/1000 [02:23<19:51:59, 71.66s/it, v_num=x5rh, train_loss_step=668, train_loss_epoch=666]"
     ]
    },
    {
     "name": "stdout",
     "output_type": "stream",
     "text": [
      "\r",
      "Epoch 2/1000:   0%|          | 2/1000 [02:23<19:51:59, 71.66s/it, v_num=x5rh, train_loss_step=679, train_loss_epoch=653]"
     ]
    },
    {
     "name": "stdout",
     "output_type": "stream",
     "text": [
      "\r",
      "Epoch 3/1000:   0%|          | 2/1000 [02:23<19:51:59, 71.66s/it, v_num=x5rh, train_loss_step=679, train_loss_epoch=653]"
     ]
    },
    {
     "name": "stdout",
     "output_type": "stream",
     "text": [
      "\r",
      "Epoch 3/1000:   0%|          | 3/1000 [03:34<19:49:13, 71.57s/it, v_num=x5rh, train_loss_step=679, train_loss_epoch=653]"
     ]
    },
    {
     "name": "stdout",
     "output_type": "stream",
     "text": [
      "\r",
      "Epoch 3/1000:   0%|          | 3/1000 [03:34<19:49:13, 71.57s/it, v_num=x5rh, train_loss_step=659, train_loss_epoch=650]"
     ]
    },
    {
     "name": "stdout",
     "output_type": "stream",
     "text": [
      "\r",
      "Epoch 4/1000:   0%|          | 3/1000 [03:34<19:49:13, 71.57s/it, v_num=x5rh, train_loss_step=659, train_loss_epoch=650]"
     ]
    },
    {
     "name": "stdout",
     "output_type": "stream",
     "text": [
      "\r",
      "Epoch 4/1000:   0%|          | 4/1000 [04:46<19:48:04, 71.57s/it, v_num=x5rh, train_loss_step=659, train_loss_epoch=650]"
     ]
    },
    {
     "name": "stdout",
     "output_type": "stream",
     "text": [
      "\r",
      "Epoch 4/1000:   0%|          | 4/1000 [04:46<19:48:04, 71.57s/it, v_num=x5rh, train_loss_step=621, train_loss_epoch=648]"
     ]
    },
    {
     "name": "stdout",
     "output_type": "stream",
     "text": [
      "\r",
      "Epoch 5/1000:   0%|          | 4/1000 [04:46<19:48:04, 71.57s/it, v_num=x5rh, train_loss_step=621, train_loss_epoch=648]"
     ]
    },
    {
     "name": "stdout",
     "output_type": "stream",
     "text": [
      "\r",
      "Epoch 5/1000:   0%|          | 5/1000 [05:56<19:39:35, 71.13s/it, v_num=x5rh, train_loss_step=621, train_loss_epoch=648]"
     ]
    },
    {
     "name": "stdout",
     "output_type": "stream",
     "text": [
      "\r",
      "Epoch 5/1000:   0%|          | 5/1000 [05:56<19:39:35, 71.13s/it, v_num=x5rh, train_loss_step=611, train_loss_epoch=648]"
     ]
    },
    {
     "name": "stdout",
     "output_type": "stream",
     "text": [
      "\r",
      "Epoch 6/1000:   0%|          | 5/1000 [05:56<19:39:35, 71.13s/it, v_num=x5rh, train_loss_step=611, train_loss_epoch=648]"
     ]
    },
    {
     "name": "stdout",
     "output_type": "stream",
     "text": [
      "\r",
      "Epoch 6/1000:   1%|          | 6/1000 [06:59<18:51:06, 68.28s/it, v_num=x5rh, train_loss_step=611, train_loss_epoch=648]"
     ]
    },
    {
     "name": "stdout",
     "output_type": "stream",
     "text": [
      "\r",
      "Epoch 6/1000:   1%|          | 6/1000 [06:59<18:51:06, 68.28s/it, v_num=x5rh, train_loss_step=654, train_loss_epoch=647]"
     ]
    },
    {
     "name": "stdout",
     "output_type": "stream",
     "text": [
      "\r",
      "Epoch 7/1000:   1%|          | 6/1000 [06:59<18:51:06, 68.28s/it, v_num=x5rh, train_loss_step=654, train_loss_epoch=647]"
     ]
    },
    {
     "name": "stdout",
     "output_type": "stream",
     "text": [
      "\r",
      "Epoch 7/1000:   1%|          | 7/1000 [08:01<18:16:31, 66.26s/it, v_num=x5rh, train_loss_step=654, train_loss_epoch=647]"
     ]
    },
    {
     "name": "stdout",
     "output_type": "stream",
     "text": [
      "\r",
      "Epoch 7/1000:   1%|          | 7/1000 [08:01<18:16:31, 66.26s/it, v_num=x5rh, train_loss_step=627, train_loss_epoch=647]"
     ]
    },
    {
     "name": "stdout",
     "output_type": "stream",
     "text": [
      "\r",
      "Epoch 8/1000:   1%|          | 7/1000 [08:01<18:16:31, 66.26s/it, v_num=x5rh, train_loss_step=627, train_loss_epoch=647]"
     ]
    },
    {
     "name": "stdout",
     "output_type": "stream",
     "text": [
      "\r",
      "Epoch 8/1000:   1%|          | 8/1000 [09:03<17:52:49, 64.89s/it, v_num=x5rh, train_loss_step=627, train_loss_epoch=647]"
     ]
    },
    {
     "name": "stdout",
     "output_type": "stream",
     "text": [
      "\r",
      "Epoch 8/1000:   1%|          | 8/1000 [09:03<17:52:49, 64.89s/it, v_num=x5rh, train_loss_step=588, train_loss_epoch=646]"
     ]
    },
    {
     "name": "stdout",
     "output_type": "stream",
     "text": [
      "\r",
      "Epoch 9/1000:   1%|          | 8/1000 [09:03<17:52:49, 64.89s/it, v_num=x5rh, train_loss_step=588, train_loss_epoch=646]"
     ]
    },
    {
     "name": "stdout",
     "output_type": "stream",
     "text": [
      "\r",
      "Epoch 9/1000:   1%|          | 9/1000 [10:05<17:34:58, 63.87s/it, v_num=x5rh, train_loss_step=588, train_loss_epoch=646]"
     ]
    },
    {
     "name": "stdout",
     "output_type": "stream",
     "text": [
      "\r",
      "Epoch 9/1000:   1%|          | 9/1000 [10:05<17:34:58, 63.87s/it, v_num=x5rh, train_loss_step=674, train_loss_epoch=646]"
     ]
    },
    {
     "name": "stdout",
     "output_type": "stream",
     "text": [
      "\r",
      "Epoch 10/1000:   1%|          | 9/1000 [10:05<17:34:58, 63.87s/it, v_num=x5rh, train_loss_step=674, train_loss_epoch=646]"
     ]
    },
    {
     "name": "stdout",
     "output_type": "stream",
     "text": [
      "\r",
      "Epoch 10/1000:   1%|          | 10/1000 [11:07<17:23:45, 63.26s/it, v_num=x5rh, train_loss_step=674, train_loss_epoch=646]"
     ]
    },
    {
     "name": "stdout",
     "output_type": "stream",
     "text": [
      "\r",
      "Epoch 10/1000:   1%|          | 10/1000 [11:07<17:23:45, 63.26s/it, v_num=x5rh, train_loss_step=649, train_loss_epoch=646]"
     ]
    },
    {
     "name": "stdout",
     "output_type": "stream",
     "text": [
      "\r",
      "Epoch 11/1000:   1%|          | 10/1000 [11:07<17:23:45, 63.26s/it, v_num=x5rh, train_loss_step=649, train_loss_epoch=646]"
     ]
    },
    {
     "name": "stdout",
     "output_type": "stream",
     "text": [
      "\r",
      "Epoch 11/1000:   1%|          | 11/1000 [12:09<17:19:07, 63.04s/it, v_num=x5rh, train_loss_step=649, train_loss_epoch=646]"
     ]
    },
    {
     "name": "stdout",
     "output_type": "stream",
     "text": [
      "\r",
      "Epoch 11/1000:   1%|          | 11/1000 [12:09<17:19:07, 63.04s/it, v_num=x5rh, train_loss_step=629, train_loss_epoch=646]"
     ]
    },
    {
     "name": "stdout",
     "output_type": "stream",
     "text": [
      "\r",
      "Epoch 12/1000:   1%|          | 11/1000 [12:09<17:19:07, 63.04s/it, v_num=x5rh, train_loss_step=629, train_loss_epoch=646]"
     ]
    },
    {
     "name": "stdout",
     "output_type": "stream",
     "text": [
      "\r",
      "Epoch 12/1000:   1%|          | 12/1000 [13:11<17:11:03, 62.61s/it, v_num=x5rh, train_loss_step=629, train_loss_epoch=646]"
     ]
    },
    {
     "name": "stdout",
     "output_type": "stream",
     "text": [
      "\r",
      "Epoch 12/1000:   1%|          | 12/1000 [13:11<17:11:03, 62.61s/it, v_num=x5rh, train_loss_step=628, train_loss_epoch=646]"
     ]
    },
    {
     "name": "stdout",
     "output_type": "stream",
     "text": [
      "\r",
      "Epoch 13/1000:   1%|          | 12/1000 [13:11<17:11:03, 62.61s/it, v_num=x5rh, train_loss_step=628, train_loss_epoch=646]"
     ]
    },
    {
     "name": "stdout",
     "output_type": "stream",
     "text": [
      "\r",
      "Epoch 13/1000:   1%|▏         | 13/1000 [14:12<17:02:29, 62.16s/it, v_num=x5rh, train_loss_step=628, train_loss_epoch=646]"
     ]
    },
    {
     "name": "stdout",
     "output_type": "stream",
     "text": [
      "\r",
      "Epoch 13/1000:   1%|▏         | 13/1000 [14:12<17:02:29, 62.16s/it, v_num=x5rh, train_loss_step=668, train_loss_epoch=646]"
     ]
    },
    {
     "name": "stdout",
     "output_type": "stream",
     "text": [
      "\r",
      "Epoch 14/1000:   1%|▏         | 13/1000 [14:12<17:02:29, 62.16s/it, v_num=x5rh, train_loss_step=668, train_loss_epoch=646]"
     ]
    },
    {
     "name": "stdout",
     "output_type": "stream",
     "text": [
      "\r",
      "Epoch 14/1000:   1%|▏         | 14/1000 [15:13<16:56:20, 61.85s/it, v_num=x5rh, train_loss_step=668, train_loss_epoch=646]"
     ]
    },
    {
     "name": "stdout",
     "output_type": "stream",
     "text": [
      "\r",
      "Epoch 14/1000:   1%|▏         | 14/1000 [15:13<16:56:20, 61.85s/it, v_num=x5rh, train_loss_step=621, train_loss_epoch=646]"
     ]
    },
    {
     "name": "stdout",
     "output_type": "stream",
     "text": [
      "\r",
      "Epoch 15/1000:   1%|▏         | 14/1000 [15:13<16:56:20, 61.85s/it, v_num=x5rh, train_loss_step=621, train_loss_epoch=646]"
     ]
    },
    {
     "name": "stdout",
     "output_type": "stream",
     "text": [
      "\r",
      "Epoch 15/1000:   2%|▏         | 15/1000 [16:14<16:51:58, 61.64s/it, v_num=x5rh, train_loss_step=621, train_loss_epoch=646]"
     ]
    },
    {
     "name": "stdout",
     "output_type": "stream",
     "text": [
      "\r",
      "Epoch 15/1000:   2%|▏         | 15/1000 [16:14<16:51:58, 61.64s/it, v_num=x5rh, train_loss_step=621, train_loss_epoch=645]"
     ]
    },
    {
     "name": "stdout",
     "output_type": "stream",
     "text": [
      "\r",
      "Epoch 16/1000:   2%|▏         | 15/1000 [16:14<16:51:58, 61.64s/it, v_num=x5rh, train_loss_step=621, train_loss_epoch=645]"
     ]
    },
    {
     "name": "stdout",
     "output_type": "stream",
     "text": [
      "\r",
      "Epoch 16/1000:   2%|▏         | 16/1000 [17:15<16:48:42, 61.51s/it, v_num=x5rh, train_loss_step=621, train_loss_epoch=645]"
     ]
    },
    {
     "name": "stdout",
     "output_type": "stream",
     "text": [
      "\r",
      "Epoch 16/1000:   2%|▏         | 16/1000 [17:15<16:48:42, 61.51s/it, v_num=x5rh, train_loss_step=650, train_loss_epoch=645]"
     ]
    },
    {
     "name": "stdout",
     "output_type": "stream",
     "text": [
      "\r",
      "Epoch 17/1000:   2%|▏         | 16/1000 [17:15<16:48:42, 61.51s/it, v_num=x5rh, train_loss_step=650, train_loss_epoch=645]"
     ]
    },
    {
     "name": "stdout",
     "output_type": "stream",
     "text": [
      "\r",
      "Epoch 17/1000:   2%|▏         | 17/1000 [18:17<16:49:01, 61.59s/it, v_num=x5rh, train_loss_step=650, train_loss_epoch=645]"
     ]
    },
    {
     "name": "stdout",
     "output_type": "stream",
     "text": [
      "\r",
      "Epoch 17/1000:   2%|▏         | 17/1000 [18:17<16:49:01, 61.59s/it, v_num=x5rh, train_loss_step=665, train_loss_epoch=645]"
     ]
    },
    {
     "name": "stdout",
     "output_type": "stream",
     "text": [
      "\r",
      "Epoch 18/1000:   2%|▏         | 17/1000 [18:17<16:49:01, 61.59s/it, v_num=x5rh, train_loss_step=665, train_loss_epoch=645]"
     ]
    },
    {
     "name": "stdout",
     "output_type": "stream",
     "text": [
      "\r",
      "Epoch 18/1000:   2%|▏         | 18/1000 [19:18<16:46:34, 61.50s/it, v_num=x5rh, train_loss_step=665, train_loss_epoch=645]"
     ]
    },
    {
     "name": "stdout",
     "output_type": "stream",
     "text": [
      "\r",
      "Epoch 18/1000:   2%|▏         | 18/1000 [19:18<16:46:34, 61.50s/it, v_num=x5rh, train_loss_step=677, train_loss_epoch=645]"
     ]
    },
    {
     "name": "stdout",
     "output_type": "stream",
     "text": [
      "\r",
      "Epoch 19/1000:   2%|▏         | 18/1000 [19:18<16:46:34, 61.50s/it, v_num=x5rh, train_loss_step=677, train_loss_epoch=645]"
     ]
    },
    {
     "name": "stdout",
     "output_type": "stream",
     "text": [
      "\r",
      "Epoch 19/1000:   2%|▏         | 19/1000 [20:20<16:43:36, 61.38s/it, v_num=x5rh, train_loss_step=677, train_loss_epoch=645]"
     ]
    },
    {
     "name": "stdout",
     "output_type": "stream",
     "text": [
      "\r",
      "Epoch 19/1000:   2%|▏         | 19/1000 [20:20<16:43:36, 61.38s/it, v_num=x5rh, train_loss_step=631, train_loss_epoch=645]"
     ]
    },
    {
     "name": "stdout",
     "output_type": "stream",
     "text": [
      "\r",
      "Epoch 20/1000:   2%|▏         | 19/1000 [20:20<16:43:36, 61.38s/it, v_num=x5rh, train_loss_step=631, train_loss_epoch=645]"
     ]
    },
    {
     "name": "stdout",
     "output_type": "stream",
     "text": [
      "\r",
      "Epoch 20/1000:   2%|▏         | 20/1000 [21:21<16:42:11, 61.36s/it, v_num=x5rh, train_loss_step=631, train_loss_epoch=645]"
     ]
    },
    {
     "name": "stdout",
     "output_type": "stream",
     "text": [
      "\r",
      "Epoch 20/1000:   2%|▏         | 20/1000 [21:21<16:42:11, 61.36s/it, v_num=x5rh, train_loss_step=658, train_loss_epoch=645]"
     ]
    },
    {
     "name": "stdout",
     "output_type": "stream",
     "text": [
      "\r",
      "Epoch 21/1000:   2%|▏         | 20/1000 [21:21<16:42:11, 61.36s/it, v_num=x5rh, train_loss_step=658, train_loss_epoch=645]"
     ]
    },
    {
     "name": "stdout",
     "output_type": "stream",
     "text": [
      "\r",
      "Epoch 21/1000:   2%|▏         | 21/1000 [22:22<16:39:45, 61.27s/it, v_num=x5rh, train_loss_step=658, train_loss_epoch=645]"
     ]
    },
    {
     "name": "stdout",
     "output_type": "stream",
     "text": [
      "\r",
      "Epoch 21/1000:   2%|▏         | 21/1000 [22:22<16:39:45, 61.27s/it, v_num=x5rh, train_loss_step=641, train_loss_epoch=645]"
     ]
    },
    {
     "name": "stdout",
     "output_type": "stream",
     "text": [
      "\r",
      "Epoch 22/1000:   2%|▏         | 21/1000 [22:22<16:39:45, 61.27s/it, v_num=x5rh, train_loss_step=641, train_loss_epoch=645]"
     ]
    },
    {
     "name": "stdout",
     "output_type": "stream",
     "text": [
      "\r",
      "Epoch 22/1000:   2%|▏         | 22/1000 [23:24<16:40:26, 61.38s/it, v_num=x5rh, train_loss_step=641, train_loss_epoch=645]"
     ]
    },
    {
     "name": "stdout",
     "output_type": "stream",
     "text": [
      "\r",
      "Epoch 22/1000:   2%|▏         | 22/1000 [23:24<16:40:26, 61.38s/it, v_num=x5rh, train_loss_step=628, train_loss_epoch=645]"
     ]
    },
    {
     "name": "stdout",
     "output_type": "stream",
     "text": [
      "\r",
      "Epoch 23/1000:   2%|▏         | 22/1000 [23:24<16:40:26, 61.38s/it, v_num=x5rh, train_loss_step=628, train_loss_epoch=645]"
     ]
    },
    {
     "name": "stdout",
     "output_type": "stream",
     "text": [
      "\r",
      "Epoch 23/1000:   2%|▏         | 23/1000 [24:25<16:41:12, 61.49s/it, v_num=x5rh, train_loss_step=628, train_loss_epoch=645]"
     ]
    },
    {
     "name": "stdout",
     "output_type": "stream",
     "text": [
      "\r",
      "Epoch 23/1000:   2%|▏         | 23/1000 [24:25<16:41:12, 61.49s/it, v_num=x5rh, train_loss_step=636, train_loss_epoch=645]"
     ]
    },
    {
     "name": "stdout",
     "output_type": "stream",
     "text": [
      "\r",
      "Epoch 24/1000:   2%|▏         | 23/1000 [24:25<16:41:12, 61.49s/it, v_num=x5rh, train_loss_step=636, train_loss_epoch=645]"
     ]
    },
    {
     "name": "stdout",
     "output_type": "stream",
     "text": [
      "\r",
      "Epoch 24/1000:   2%|▏         | 24/1000 [25:27<16:38:50, 61.40s/it, v_num=x5rh, train_loss_step=636, train_loss_epoch=645]"
     ]
    },
    {
     "name": "stdout",
     "output_type": "stream",
     "text": [
      "\r",
      "Epoch 24/1000:   2%|▏         | 24/1000 [25:27<16:38:50, 61.40s/it, v_num=x5rh, train_loss_step=629, train_loss_epoch=645]"
     ]
    },
    {
     "name": "stdout",
     "output_type": "stream",
     "text": [
      "\r",
      "Epoch 25/1000:   2%|▏         | 24/1000 [25:27<16:38:50, 61.40s/it, v_num=x5rh, train_loss_step=629, train_loss_epoch=645]"
     ]
    },
    {
     "name": "stdout",
     "output_type": "stream",
     "text": [
      "\r",
      "Epoch 25/1000:   2%|▎         | 25/1000 [26:28<16:37:25, 61.38s/it, v_num=x5rh, train_loss_step=629, train_loss_epoch=645]"
     ]
    },
    {
     "name": "stdout",
     "output_type": "stream",
     "text": [
      "\r",
      "Epoch 25/1000:   2%|▎         | 25/1000 [26:28<16:37:25, 61.38s/it, v_num=x5rh, train_loss_step=667, train_loss_epoch=645]"
     ]
    },
    {
     "name": "stdout",
     "output_type": "stream",
     "text": [
      "\r",
      "Epoch 26/1000:   2%|▎         | 25/1000 [26:28<16:37:25, 61.38s/it, v_num=x5rh, train_loss_step=667, train_loss_epoch=645]"
     ]
    },
    {
     "name": "stdout",
     "output_type": "stream",
     "text": [
      "\r",
      "Epoch 26/1000:   3%|▎         | 26/1000 [27:30<16:39:19, 61.56s/it, v_num=x5rh, train_loss_step=667, train_loss_epoch=645]"
     ]
    },
    {
     "name": "stdout",
     "output_type": "stream",
     "text": [
      "\r",
      "Epoch 26/1000:   3%|▎         | 26/1000 [27:30<16:39:19, 61.56s/it, v_num=x5rh, train_loss_step=652, train_loss_epoch=645]"
     ]
    },
    {
     "name": "stdout",
     "output_type": "stream",
     "text": [
      "\r",
      "Epoch 27/1000:   3%|▎         | 26/1000 [27:30<16:39:19, 61.56s/it, v_num=x5rh, train_loss_step=652, train_loss_epoch=645]"
     ]
    },
    {
     "name": "stdout",
     "output_type": "stream",
     "text": [
      "\r",
      "Epoch 27/1000:   3%|▎         | 27/1000 [28:31<16:36:52, 61.47s/it, v_num=x5rh, train_loss_step=652, train_loss_epoch=645]"
     ]
    },
    {
     "name": "stdout",
     "output_type": "stream",
     "text": [
      "\r",
      "Epoch 27/1000:   3%|▎         | 27/1000 [28:31<16:36:52, 61.47s/it, v_num=x5rh, train_loss_step=662, train_loss_epoch=645]"
     ]
    },
    {
     "name": "stdout",
     "output_type": "stream",
     "text": [
      "\r",
      "Epoch 28/1000:   3%|▎         | 27/1000 [28:31<16:36:52, 61.47s/it, v_num=x5rh, train_loss_step=662, train_loss_epoch=645]"
     ]
    },
    {
     "name": "stdout",
     "output_type": "stream",
     "text": [
      "\r",
      "Epoch 28/1000:   3%|▎         | 28/1000 [29:33<16:39:15, 61.68s/it, v_num=x5rh, train_loss_step=662, train_loss_epoch=645]"
     ]
    },
    {
     "name": "stdout",
     "output_type": "stream",
     "text": [
      "\r",
      "Epoch 28/1000:   3%|▎         | 28/1000 [29:33<16:39:15, 61.68s/it, v_num=x5rh, train_loss_step=638, train_loss_epoch=645]"
     ]
    },
    {
     "name": "stdout",
     "output_type": "stream",
     "text": [
      "\r",
      "Epoch 29/1000:   3%|▎         | 28/1000 [29:33<16:39:15, 61.68s/it, v_num=x5rh, train_loss_step=638, train_loss_epoch=645]"
     ]
    },
    {
     "name": "stdout",
     "output_type": "stream",
     "text": [
      "\r",
      "Epoch 29/1000:   3%|▎         | 29/1000 [30:35<16:38:06, 61.67s/it, v_num=x5rh, train_loss_step=638, train_loss_epoch=645]"
     ]
    },
    {
     "name": "stdout",
     "output_type": "stream",
     "text": [
      "\r",
      "Epoch 29/1000:   3%|▎         | 29/1000 [30:35<16:38:06, 61.67s/it, v_num=x5rh, train_loss_step=665, train_loss_epoch=645]"
     ]
    },
    {
     "name": "stdout",
     "output_type": "stream",
     "text": [
      "\r",
      "Epoch 30/1000:   3%|▎         | 29/1000 [30:35<16:38:06, 61.67s/it, v_num=x5rh, train_loss_step=665, train_loss_epoch=645]"
     ]
    },
    {
     "name": "stdout",
     "output_type": "stream",
     "text": [
      "\r",
      "Epoch 30/1000:   3%|▎         | 30/1000 [31:36<16:36:04, 61.61s/it, v_num=x5rh, train_loss_step=665, train_loss_epoch=645]"
     ]
    },
    {
     "name": "stdout",
     "output_type": "stream",
     "text": [
      "\r",
      "Epoch 30/1000:   3%|▎         | 30/1000 [31:36<16:36:04, 61.61s/it, v_num=x5rh, train_loss_step=709, train_loss_epoch=645]"
     ]
    },
    {
     "name": "stdout",
     "output_type": "stream",
     "text": [
      "\r",
      "Epoch 31/1000:   3%|▎         | 30/1000 [31:36<16:36:04, 61.61s/it, v_num=x5rh, train_loss_step=709, train_loss_epoch=645]"
     ]
    },
    {
     "name": "stdout",
     "output_type": "stream",
     "text": [
      "\r",
      "Epoch 31/1000:   3%|▎         | 31/1000 [32:38<16:33:55, 61.54s/it, v_num=x5rh, train_loss_step=709, train_loss_epoch=645]"
     ]
    },
    {
     "name": "stdout",
     "output_type": "stream",
     "text": [
      "\r",
      "Epoch 31/1000:   3%|▎         | 31/1000 [32:38<16:33:55, 61.54s/it, v_num=x5rh, train_loss_step=628, train_loss_epoch=645]"
     ]
    },
    {
     "name": "stdout",
     "output_type": "stream",
     "text": [
      "\r",
      "Epoch 32/1000:   3%|▎         | 31/1000 [32:38<16:33:55, 61.54s/it, v_num=x5rh, train_loss_step=628, train_loss_epoch=645]"
     ]
    },
    {
     "name": "stdout",
     "output_type": "stream",
     "text": [
      "\r",
      "Epoch 32/1000:   3%|▎         | 32/1000 [33:39<16:32:20, 61.51s/it, v_num=x5rh, train_loss_step=628, train_loss_epoch=645]"
     ]
    },
    {
     "name": "stdout",
     "output_type": "stream",
     "text": [
      "\r",
      "Epoch 32/1000:   3%|▎         | 32/1000 [33:39<16:32:20, 61.51s/it, v_num=x5rh, train_loss_step=628, train_loss_epoch=645]"
     ]
    },
    {
     "name": "stdout",
     "output_type": "stream",
     "text": [
      "\r",
      "Epoch 33/1000:   3%|▎         | 32/1000 [33:39<16:32:20, 61.51s/it, v_num=x5rh, train_loss_step=628, train_loss_epoch=645]"
     ]
    },
    {
     "name": "stdout",
     "output_type": "stream",
     "text": [
      "\r",
      "Epoch 33/1000:   3%|▎         | 33/1000 [34:41<16:30:48, 61.48s/it, v_num=x5rh, train_loss_step=628, train_loss_epoch=645]"
     ]
    },
    {
     "name": "stdout",
     "output_type": "stream",
     "text": [
      "\r",
      "Epoch 33/1000:   3%|▎         | 33/1000 [34:41<16:30:48, 61.48s/it, v_num=x5rh, train_loss_step=695, train_loss_epoch=645]"
     ]
    },
    {
     "name": "stdout",
     "output_type": "stream",
     "text": [
      "\r",
      "Epoch 34/1000:   3%|▎         | 33/1000 [34:41<16:30:48, 61.48s/it, v_num=x5rh, train_loss_step=695, train_loss_epoch=645]"
     ]
    },
    {
     "name": "stdout",
     "output_type": "stream",
     "text": [
      "\r",
      "Epoch 34/1000:   3%|▎         | 34/1000 [35:43<16:32:12, 61.63s/it, v_num=x5rh, train_loss_step=695, train_loss_epoch=645]"
     ]
    },
    {
     "name": "stdout",
     "output_type": "stream",
     "text": [
      "\r",
      "Epoch 34/1000:   3%|▎         | 34/1000 [35:43<16:32:12, 61.63s/it, v_num=x5rh, train_loss_step=642, train_loss_epoch=645]"
     ]
    },
    {
     "name": "stdout",
     "output_type": "stream",
     "text": [
      "\r",
      "Epoch 35/1000:   3%|▎         | 34/1000 [35:43<16:32:12, 61.63s/it, v_num=x5rh, train_loss_step=642, train_loss_epoch=645]"
     ]
    },
    {
     "name": "stdout",
     "output_type": "stream",
     "text": [
      "\r",
      "Epoch 35/1000:   4%|▎         | 35/1000 [36:44<16:30:34, 61.59s/it, v_num=x5rh, train_loss_step=642, train_loss_epoch=645]"
     ]
    },
    {
     "name": "stdout",
     "output_type": "stream",
     "text": [
      "\r",
      "Epoch 35/1000:   4%|▎         | 35/1000 [36:44<16:30:34, 61.59s/it, v_num=x5rh, train_loss_step=654, train_loss_epoch=645]"
     ]
    },
    {
     "name": "stdout",
     "output_type": "stream",
     "text": [
      "\r",
      "Epoch 36/1000:   4%|▎         | 35/1000 [36:44<16:30:34, 61.59s/it, v_num=x5rh, train_loss_step=654, train_loss_epoch=645]"
     ]
    },
    {
     "name": "stdout",
     "output_type": "stream",
     "text": [
      "\r",
      "Epoch 36/1000:   4%|▎         | 36/1000 [37:46<16:30:31, 61.65s/it, v_num=x5rh, train_loss_step=654, train_loss_epoch=645]"
     ]
    },
    {
     "name": "stdout",
     "output_type": "stream",
     "text": [
      "\r",
      "Epoch 36/1000:   4%|▎         | 36/1000 [37:46<16:30:31, 61.65s/it, v_num=x5rh, train_loss_step=682, train_loss_epoch=645]"
     ]
    },
    {
     "name": "stdout",
     "output_type": "stream",
     "text": [
      "\r",
      "Epoch 37/1000:   4%|▎         | 36/1000 [37:46<16:30:31, 61.65s/it, v_num=x5rh, train_loss_step=682, train_loss_epoch=645]"
     ]
    },
    {
     "name": "stdout",
     "output_type": "stream",
     "text": [
      "\r",
      "Epoch 37/1000:   4%|▎         | 37/1000 [38:48<16:29:36, 61.66s/it, v_num=x5rh, train_loss_step=682, train_loss_epoch=645]"
     ]
    },
    {
     "name": "stdout",
     "output_type": "stream",
     "text": [
      "\r",
      "Epoch 37/1000:   4%|▎         | 37/1000 [38:48<16:29:36, 61.66s/it, v_num=x5rh, train_loss_step=688, train_loss_epoch=645]"
     ]
    },
    {
     "name": "stdout",
     "output_type": "stream",
     "text": [
      "\r",
      "Epoch 38/1000:   4%|▎         | 37/1000 [38:48<16:29:36, 61.66s/it, v_num=x5rh, train_loss_step=688, train_loss_epoch=645]"
     ]
    },
    {
     "name": "stdout",
     "output_type": "stream",
     "text": [
      "\r",
      "Epoch 38/1000:   4%|▍         | 38/1000 [39:50<16:30:20, 61.77s/it, v_num=x5rh, train_loss_step=688, train_loss_epoch=645]"
     ]
    },
    {
     "name": "stdout",
     "output_type": "stream",
     "text": [
      "\r",
      "Epoch 38/1000:   4%|▍         | 38/1000 [39:50<16:30:20, 61.77s/it, v_num=x5rh, train_loss_step=642, train_loss_epoch=645]"
     ]
    },
    {
     "name": "stdout",
     "output_type": "stream",
     "text": [
      "\r",
      "Epoch 39/1000:   4%|▍         | 38/1000 [39:50<16:30:20, 61.77s/it, v_num=x5rh, train_loss_step=642, train_loss_epoch=645]"
     ]
    },
    {
     "name": "stdout",
     "output_type": "stream",
     "text": [
      "\r",
      "Epoch 39/1000:   4%|▍         | 39/1000 [40:52<16:30:50, 61.86s/it, v_num=x5rh, train_loss_step=642, train_loss_epoch=645]"
     ]
    },
    {
     "name": "stdout",
     "output_type": "stream",
     "text": [
      "\r",
      "Epoch 39/1000:   4%|▍         | 39/1000 [40:52<16:30:50, 61.86s/it, v_num=x5rh, train_loss_step=592, train_loss_epoch=645]"
     ]
    },
    {
     "name": "stdout",
     "output_type": "stream",
     "text": [
      "\r",
      "Epoch 39/1000:   4%|▍         | 39/1000 [40:52<16:47:03, 62.88s/it, v_num=x5rh, train_loss_step=592, train_loss_epoch=645]"
     ]
    },
    {
     "name": "stdout",
     "output_type": "stream",
     "text": [
      "\n",
      "Monitored metric reconstruction_loss_validation did not improve in the last 10 records. Best score: 643.920. Signaling Trainer to stop.\n"
     ]
    }
   ],
   "source": [
    "model.train(logger=logger, plan_kwargs = plan_kwargs, **trainer_kwargs)"
   ]
  },
  {
   "cell_type": "code",
   "execution_count": 15,
   "id": "c282f6eb-0ad1-40a5-81e6-1acda1545dad",
   "metadata": {
    "execution": {
     "iopub.execute_input": "2024-05-07T15:41:01.586683Z",
     "iopub.status.busy": "2024-05-07T15:41:01.585884Z",
     "iopub.status.idle": "2024-05-07T15:41:06.643955Z",
     "shell.execute_reply": "2024-05-07T15:41:06.643283Z"
    },
    "papermill": {
     "duration": 5.07187,
     "end_time": "2024-05-07T15:41:06.645711",
     "exception": false,
     "start_time": "2024-05-07T15:41:01.573841",
     "status": "completed"
    },
    "tags": []
   },
   "outputs": [
    {
     "name": "stderr",
     "output_type": "stream",
     "text": [
      "\u001b[34m\u001b[1mwandb\u001b[0m: - 0.003 MB of 0.009 MB uploaded\r"
     ]
    },
    {
     "name": "stderr",
     "output_type": "stream",
     "text": [
      "\u001b[34m\u001b[1mwandb\u001b[0m: \\ 0.009 MB of 0.009 MB uploaded\r"
     ]
    },
    {
     "name": "stderr",
     "output_type": "stream",
     "text": [
      "\u001b[34m\u001b[1mwandb\u001b[0m: | 0.009 MB of 0.009 MB uploaded\r"
     ]
    },
    {
     "name": "stderr",
     "output_type": "stream",
     "text": [
      "\u001b[34m\u001b[1mwandb\u001b[0m: / 0.009 MB of 0.009 MB uploaded\r"
     ]
    },
    {
     "name": "stderr",
     "output_type": "stream",
     "text": [
      "\u001b[34m\u001b[1mwandb\u001b[0m:                                                                                \n"
     ]
    },
    {
     "name": "stderr",
     "output_type": "stream",
     "text": [
      "\u001b[34m\u001b[1mwandb\u001b[0m: \n",
      "\u001b[34m\u001b[1mwandb\u001b[0m: Run history:\n",
      "\u001b[34m\u001b[1mwandb\u001b[0m:                     elbo_train █▆▅▄▃▃▃▃▃▂▂▂▂▂▂▂▂▂▂▂▂▂▂▁▁▁▁▁▁▁▁▁▁▁▁▁▁▁▁\n",
      "\u001b[34m\u001b[1mwandb\u001b[0m:                elbo_validation █▆▅▄▄▃▃▃▃▃▂▂▂▂▂▂▂▂▂▂▂▂▂▂▂▁▁▁▁▁▁▁▁▁▁▁▁▁▁\n",
      "\u001b[34m\u001b[1mwandb\u001b[0m:                          epoch ▁▁▁▂▂▂▂▂▂▃▃▃▃▃▄▄▄▄▄▄▅▅▅▅▅▅▆▆▆▆▆▇▇▇▇▇▇███\n",
      "\u001b[34m\u001b[1mwandb\u001b[0m:                kl_global_train ▁▁▁▁▁▁▁▁▁▁▁▁▁▁▁▁▁▁▁▁▁▁▁▁▁▁▁▁▁▁▁▁▁▁▁▁▁▁▁\n",
      "\u001b[34m\u001b[1mwandb\u001b[0m:           kl_global_validation ▁▁▁▁▁▁▁▁▁▁▁▁▁▁▁▁▁▁▁▁▁▁▁▁▁▁▁▁▁▁▁▁▁▁▁▁▁▁▁\n",
      "\u001b[34m\u001b[1mwandb\u001b[0m:                 kl_local_train ██▆▅▄▄▄▄▃▃▃▃▃▃▃▂▂▂▂▂▂▂▂▂▂▂▂▂▁▁▁▁▁▁▁▁▁▁▁\n",
      "\u001b[34m\u001b[1mwandb\u001b[0m:            kl_local_validation █▇▆▅▄▄▄▄▃▃▃▃▃▃▂▂▂▂▂▂▂▂▂▂▂▂▂▂▁▁▁▁▁▁▁▁▁▁▁\n",
      "\u001b[34m\u001b[1mwandb\u001b[0m:                      kl_weight ▁▁▁▂▂▂▂▂▂▃▃▃▃▃▄▄▄▄▄▄▅▅▅▅▅▅▆▆▆▆▆▇▇▇▇▇▇███\n",
      "\u001b[34m\u001b[1mwandb\u001b[0m:      reconstruction_loss_train █▄▃▃▂▂▂▂▂▂▂▂▁▁▁▁▁▁▁▁▁▁▁▁▁▁▁▁▁▁▁▁▁▁▁▁▁▁▁\n",
      "\u001b[34m\u001b[1mwandb\u001b[0m: reconstruction_loss_validation █▅▃▃▂▂▂▂▂▂▁▁▁▁▁▁▁▁▁▁▁▁▁▁▁▁▁▁▁▁▁▁▁▁▁▁▁▁▁\n",
      "\u001b[34m\u001b[1mwandb\u001b[0m:               train_loss_epoch █▄▃▂▂▂▂▁▁▁▁▁▁▁▁▁▁▁▁▁▁▁▁▁▁▁▁▁▁▁▁▁▁▁▁▁▁▁▁\n",
      "\u001b[34m\u001b[1mwandb\u001b[0m:                train_loss_step ▅▁▃▄█▃▅▄▅▆▅▃▃▃▄▃▆▅█▁▄▃▁█▄▅▅▆▄▄▂▃▄█▂▃▁▅▇▄\n",
      "\u001b[34m\u001b[1mwandb\u001b[0m:            trainer/global_step ▁▁▁▂▂▂▂▂▂▃▃▃▃▃▄▄▄▄▄▄▅▅▅▅▅▅▆▆▆▆▆▇▇▇▇▇▇███\n",
      "\u001b[34m\u001b[1mwandb\u001b[0m:                validation_loss █▄▃▂▂▂▁▁▁▁▁▁▁▁▁▁▁▁▁▁▁▁▁▁▁▁▁▁▁▁▁▁▁▁▂▂▂▂▂\n",
      "\u001b[34m\u001b[1mwandb\u001b[0m: \n",
      "\u001b[34m\u001b[1mwandb\u001b[0m: Run summary:\n",
      "\u001b[34m\u001b[1mwandb\u001b[0m:                     elbo_train 666.08771\n",
      "\u001b[34m\u001b[1mwandb\u001b[0m:                elbo_validation 666.44531\n",
      "\u001b[34m\u001b[1mwandb\u001b[0m:                          epoch 38\n",
      "\u001b[34m\u001b[1mwandb\u001b[0m:                kl_global_train 0.0\n",
      "\u001b[34m\u001b[1mwandb\u001b[0m:           kl_global_validation 0.0\n",
      "\u001b[34m\u001b[1mwandb\u001b[0m:                 kl_local_train 22.94936\n",
      "\u001b[34m\u001b[1mwandb\u001b[0m:            kl_local_validation 22.4603\n",
      "\u001b[34m\u001b[1mwandb\u001b[0m:                      kl_weight 0.095\n",
      "\u001b[34m\u001b[1mwandb\u001b[0m:      reconstruction_loss_train 643.13837\n",
      "\u001b[34m\u001b[1mwandb\u001b[0m: reconstruction_loss_validation 643.98499\n",
      "\u001b[34m\u001b[1mwandb\u001b[0m:               train_loss_epoch 645.31818\n",
      "\u001b[34m\u001b[1mwandb\u001b[0m:                train_loss_step 614.2301\n",
      "\u001b[34m\u001b[1mwandb\u001b[0m:            trainer/global_step 175616\n",
      "\u001b[34m\u001b[1mwandb\u001b[0m:                validation_loss 646.11877\n",
      "\u001b[34m\u001b[1mwandb\u001b[0m: \n"
     ]
    },
    {
     "name": "stderr",
     "output_type": "stream",
     "text": [
      "\u001b[34m\u001b[1mwandb\u001b[0m: 🚀 View run \u001b[33mStep5_T_CD8_NonNaive\u001b[0m at: \u001b[34m\u001b[4mhttps://wandb.ai/inflammation/inflammation_atlas_R1/runs/suxcx5rh\u001b[0m\n",
      "\u001b[34m\u001b[1mwandb\u001b[0m: Synced 5 W&B file(s), 0 media file(s), 0 artifact file(s) and 0 other file(s)\n"
     ]
    },
    {
     "name": "stderr",
     "output_type": "stream",
     "text": [
      "\u001b[34m\u001b[1mwandb\u001b[0m: Find logs at: \u001b[35m\u001b[1m./wandb/run-20240507_150008-suxcx5rh/logs\u001b[0m\n"
     ]
    }
   ],
   "source": [
    "wandb.finish()"
   ]
  },
  {
   "cell_type": "markdown",
   "id": "d9fb1179-83c7-4ac6-b4aa-92dc7a349801",
   "metadata": {
    "papermill": {
     "duration": 0.011916,
     "end_time": "2024-05-07T15:41:06.669623",
     "exception": false,
     "start_time": "2024-05-07T15:41:06.657707",
     "status": "completed"
    },
    "tags": []
   },
   "source": [
    "### Extracting embedding space"
   ]
  },
  {
   "cell_type": "code",
   "execution_count": 16,
   "id": "caaa5832-0123-4c59-8ec6-f46a75f7a14e",
   "metadata": {
    "execution": {
     "iopub.execute_input": "2024-05-07T15:41:06.694675Z",
     "iopub.status.busy": "2024-05-07T15:41:06.693944Z",
     "iopub.status.idle": "2024-05-07T15:41:26.444142Z",
     "shell.execute_reply": "2024-05-07T15:41:26.443407Z"
    },
    "papermill": {
     "duration": 19.764835,
     "end_time": "2024-05-07T15:41:26.446176",
     "exception": false,
     "start_time": "2024-05-07T15:41:06.681341",
     "status": "completed"
    },
    "tags": []
   },
   "outputs": [],
   "source": [
    "adata.obsm['X_scVI'] = model.get_latent_representation()"
   ]
  },
  {
   "cell_type": "markdown",
   "id": "2f03e70b-839c-40a6-9fbb-d76bbd787419",
   "metadata": {
    "papermill": {
     "duration": 0.010705,
     "end_time": "2024-05-07T15:41:26.467299",
     "exception": false,
     "start_time": "2024-05-07T15:41:26.456594",
     "status": "completed"
    },
    "tags": []
   },
   "source": [
    "## Save the results"
   ]
  },
  {
   "cell_type": "code",
   "execution_count": 17,
   "id": "7b04049b-47fd-4b62-a1c0-c43dcc086d34",
   "metadata": {
    "execution": {
     "iopub.execute_input": "2024-05-07T15:41:26.489883Z",
     "iopub.status.busy": "2024-05-07T15:41:26.489562Z",
     "iopub.status.idle": "2024-05-07T15:42:28.554441Z",
     "shell.execute_reply": "2024-05-07T15:42:28.553578Z"
    },
    "papermill": {
     "duration": 62.078756,
     "end_time": "2024-05-07T15:42:28.556517",
     "exception": false,
     "start_time": "2024-05-07T15:41:26.477761",
     "status": "completed"
    },
    "tags": []
   },
   "outputs": [],
   "source": [
    "if overwriteData:\n",
    "    adata.write(here(f\"{workDir}/{cellGroup}/results/02_{annotationLevel}_{cellGroup}_HVGsubset_scVI.h5ad\"), compression=\"gzip\")\n",
    "    model.save(here(f\"{workDir}/{cellGroup}/results/02_{annotationLevel}_{cellGroup}_HVGsubset_scVI_MODEL/\"),\n",
    "               overwrite = True, \n",
    "               save_anndata = False )   "
   ]
  },
  {
   "cell_type": "code",
   "execution_count": 18,
   "id": "629ba2bd-f6be-44ef-8fca-bbdf891bf25f",
   "metadata": {
    "execution": {
     "iopub.execute_input": "2024-05-07T15:42:28.579499Z",
     "iopub.status.busy": "2024-05-07T15:42:28.578909Z",
     "iopub.status.idle": "2024-05-07T15:42:28.582286Z",
     "shell.execute_reply": "2024-05-07T15:42:28.581634Z"
    },
    "papermill": {
     "duration": 0.016326,
     "end_time": "2024-05-07T15:42:28.583746",
     "exception": false,
     "start_time": "2024-05-07T15:42:28.567420",
     "status": "completed"
    },
    "tags": []
   },
   "outputs": [],
   "source": [
    "# To load the model do (after loading corresponding adata):\n",
    "# model = scvi.model.SCVI.load(here('{}/results/01_{}_HVGsubset_scVI_MODEL/'.format(workDir, cellGroup)), \n",
    "#                              adata, \n",
    "#                              use_gpu=True)"
   ]
  },
  {
   "cell_type": "raw",
   "id": "975e84d0-f56b-498d-b3a8-c9219cf22e53",
   "metadata": {
    "papermill": {
     "duration": 0.010759,
     "end_time": "2024-05-07T15:42:28.605029",
     "exception": false,
     "start_time": "2024-05-07T15:42:28.594270",
     "status": "completed"
    },
    "tags": []
   },
   "source": [
    "session_info.show()"
   ]
  }
 ],
 "metadata": {
  "kernelspec": {
   "display_name": "Python 3 (ipykernel)",
   "language": "python",
   "name": "python3"
  },
  "language_info": {
   "codemirror_mode": {
    "name": "ipython",
    "version": 3
   },
   "file_extension": ".py",
   "mimetype": "text/x-python",
   "name": "python",
   "nbconvert_exporter": "python",
   "pygments_lexer": "ipython3",
   "version": "3.9.18"
  },
  "papermill": {
   "default_parameters": {},
   "duration": 2576.388982,
   "end_time": "2024-05-07T15:42:31.537836",
   "environment_variables": {},
   "exception": null,
   "input_path": "/home/jupyter/Inflammation-PBMCs-Atlas/02_cell_annotation/02_fromCellLineages_to_CellTypes/Step5/T_CD8_NonNaive/02_integration_scVI.ipynb",
   "output_path": "/home/jupyter/Inflammation-PBMCs-Atlas/02_cell_annotation/02_fromCellLineages_to_CellTypes/Step5/T_CD8_NonNaive/02_integration_scVI_executed.ipynb",
   "parameters": {},
   "start_time": "2024-05-07T14:59:35.148854",
   "version": "2.5.0"
  }
 },
 "nbformat": 4,
 "nbformat_minor": 5
}