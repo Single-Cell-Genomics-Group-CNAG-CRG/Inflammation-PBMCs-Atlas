{
 "cells": [
  {
   "cell_type": "code",
   "execution_count": 4,
   "id": "0262d435-452f-4ef4-b9e1-d8b0b3fd0b6a",
   "metadata": {
    "execution": {
     "iopub.execute_input": "2025-01-15T10:35:16.143028Z",
     "iopub.status.busy": "2025-01-15T10:35:16.142709Z",
     "iopub.status.idle": "2025-01-15T10:35:49.346687Z",
     "shell.execute_reply": "2025-01-15T10:35:49.345763Z",
     "shell.execute_reply.started": "2025-01-15T10:35:16.143009Z"
    }
   },
   "outputs": [],
   "source": [
    "import os\n",
    "import sys\n",
    "import glob\n",
    "import re\n",
    "\n",
    "import warnings\n",
    "warnings.filterwarnings(\"ignore\")\n",
    "\n",
    "from pyprojroot.here import here\n",
    "\n",
    "sys.path.insert(1, str(here('bin')))\n",
    "from customPythonFunctions import generate_split_dir\n",
    "\n",
    "import matplotlib\n",
    "import pandas as pd\n",
    "import scanpy as sc\n",
    "import anndata as ad\n",
    "\n",
    "overwriteData = True\n",
    "overwriteFigure = True\n",
    "\n",
    "# Directory where the notebook is stored\n",
    "currDir = os.getcwd()"
   ]
  },
  {
   "cell_type": "code",
   "execution_count": 2,
   "id": "e8857570-0fbf-4165-bd05-295adb6daa2a",
   "metadata": {
    "execution": {
     "iopub.execute_input": "2024-07-06T13:10:51.189812Z",
     "iopub.status.busy": "2024-07-06T13:10:51.189412Z",
     "iopub.status.idle": "2024-07-06T13:10:51.198360Z",
     "shell.execute_reply": "2024-07-06T13:10:51.197983Z",
     "shell.execute_reply.started": "2024-07-06T13:10:51.189792Z"
    }
   },
   "outputs": [],
   "source": [
    "# SANKEY DIAGRAM FUNCTION EDIT FROM:\n",
    "# https://medium.com/kenlok/how-to-create-sankey-diagrams-from-dataframes-in-python-e221c1b4d6b0\n",
    "\n",
    "def genSankey(df,cat_cols=[], colors = 'Set1', value_cols='',title='Sankey Diagram', size = 10):\n",
    "    # maximum of 6 value cols -> 6 colors\n",
    "    #colorPalette = ['#4B8BBE','#306998','#FFE873','#FFD43B','#646464']\n",
    "    labelList = []\n",
    "    colorNumList = []\n",
    "    for catCol in cat_cols:\n",
    "        labelListTemp =  list(set(df[catCol].values))\n",
    "        colorNumList.append(len(labelListTemp))\n",
    "        labelList = labelList + labelListTemp\n",
    "        \n",
    "    # remove duplicates from labelList\n",
    "    labelList = list(dict.fromkeys(labelList))\n",
    "\n",
    "    if isinstance(colors, list):\n",
    "        colorPalette = colors\n",
    "    else:\n",
    "        nCol = len(cat_cols)\n",
    "        cmap = matplotlib.colormaps.get_cmap(colors)\n",
    "        colorPalette = ['#{:02x}{:02x}{:02x}'.format(round(cmap(c/nCol)[0]*255), round(cmap(c/nCol)[1]*255), round(cmap(c/nCol)[2]*255)) for c in range(nCol)]\n",
    "\n",
    "    # define colors based on number of levels\n",
    "    colorList = []\n",
    "    for idx, colorNum in enumerate(colorNumList):\n",
    "        colorList = colorList + [colorPalette[idx]]*colorNum\n",
    "        \n",
    "    # transform df into a source-target pair\n",
    "    for i in range(len(cat_cols)-1):\n",
    "        if i==0:\n",
    "            sourceTargetDf = df[[cat_cols[i],cat_cols[i+1],value_cols]]\n",
    "            sourceTargetDf.columns = ['source','target','count']\n",
    "        else:\n",
    "            tempDf = df[[cat_cols[i],cat_cols[i+1],value_cols]]\n",
    "            tempDf.columns = ['source','target','count']\n",
    "            sourceTargetDf = pd.concat([sourceTargetDf,tempDf])\n",
    "        \n",
    "        sourceTargetDf = sourceTargetDf.groupby(['source','target']).agg({'count':'sum'}).reset_index()\n",
    "        \n",
    "    # add index for source-target pair\n",
    "    sourceTargetDf['sourceID'] = sourceTargetDf['source'].apply(lambda x: labelList.index(x))\n",
    "    sourceTargetDf['targetID'] = sourceTargetDf['target'].apply(lambda x: labelList.index(x))\n",
    "\n",
    "    labelList = [re.sub(r'\\([^)]*\\)', '', l) for l in labelList]\n",
    "    labelList = [l.replace('_', ' ') for l in labelList]\n",
    "    \n",
    "    \n",
    "    # creating the sankey diagram\n",
    "    data = dict(\n",
    "        type='sankey',\n",
    "        node = dict(\n",
    "          pad = 15,\n",
    "          thickness = 20,\n",
    "          line = dict(\n",
    "            color = \"black\",\n",
    "            width = 0.5\n",
    "          ),\n",
    "          label = labelList,\n",
    "          color = colorList\n",
    "        ),\n",
    "        link = dict(\n",
    "          source = sourceTargetDf['sourceID'],\n",
    "          target = sourceTargetDf['targetID'],\n",
    "          value = sourceTargetDf['count']\n",
    "        )\n",
    "      )\n",
    "    \n",
    "    layout =  dict(\n",
    "        title = title,\n",
    "        font = dict(\n",
    "          size = size\n",
    "        )\n",
    "    )\n",
    "       \n",
    "    fig = dict(data=[data], layout=layout)\n",
    "    return fig"
   ]
  },
  {
   "cell_type": "markdown",
   "id": "dc00af05-6f76-452d-96fc-140213cfaf42",
   "metadata": {},
   "source": [
    "# Retrieve pandas dataframes with annotations"
   ]
  },
  {
   "cell_type": "markdown",
   "id": "5326903c-9209-4457-8b4d-afed79703066",
   "metadata": {},
   "source": [
    "**Loading pandas dataFrame**"
   ]
  },
  {
   "cell_type": "code",
   "execution_count": 3,
   "id": "4594da50-1d72-4423-a050-43e38e7068b8",
   "metadata": {
    "execution": {
     "iopub.execute_input": "2024-05-22T14:31:41.247694Z",
     "iopub.status.busy": "2024-05-22T14:31:41.247473Z",
     "iopub.status.idle": "2024-05-22T14:31:42.432391Z",
     "shell.execute_reply": "2024-05-22T14:31:42.431970Z",
     "shell.execute_reply.started": "2024-05-22T14:31:41.247678Z"
    }
   },
   "outputs": [
    {
     "data": {
      "text/html": [
       "<div>\n",
       "<style scoped>\n",
       "    .dataframe tbody tr th:only-of-type {\n",
       "        vertical-align: middle;\n",
       "    }\n",
       "\n",
       "    .dataframe tbody tr th {\n",
       "        vertical-align: top;\n",
       "    }\n",
       "\n",
       "    .dataframe thead th {\n",
       "        text-align: right;\n",
       "    }\n",
       "</style>\n",
       "<table border=\"1\" class=\"dataframe\">\n",
       "  <thead>\n",
       "    <tr style=\"text-align: right;\">\n",
       "      <th></th>\n",
       "      <th>annotation_step_1</th>\n",
       "      <th>annotation_step_2</th>\n",
       "      <th>annotation_step_3</th>\n",
       "      <th>annotation_step_4</th>\n",
       "      <th>annotation_step_5</th>\n",
       "      <th>Level1</th>\n",
       "      <th>Level2</th>\n",
       "    </tr>\n",
       "    <tr>\n",
       "      <th>cellID</th>\n",
       "      <th></th>\n",
       "      <th></th>\n",
       "      <th></th>\n",
       "      <th></th>\n",
       "      <th></th>\n",
       "      <th></th>\n",
       "      <th></th>\n",
       "    </tr>\n",
       "  </thead>\n",
       "  <tbody>\n",
       "    <tr>\n",
       "      <th>SCGT00_L051_I53.3P_T0_AACCAACGTGGGATTG</th>\n",
       "      <td>pDC</td>\n",
       "      <td>pDC</td>\n",
       "      <td>pDC</td>\n",
       "      <td>pDC</td>\n",
       "      <td>pDC</td>\n",
       "      <td>pDC</td>\n",
       "      <td>pDC</td>\n",
       "    </tr>\n",
       "    <tr>\n",
       "      <th>SCGT00_L051_I58.3P_T0_ACCTGAAAGTGCCAGA</th>\n",
       "      <td>pDC</td>\n",
       "      <td>pDC</td>\n",
       "      <td>pDC</td>\n",
       "      <td>pDC</td>\n",
       "      <td>pDC</td>\n",
       "      <td>pDC</td>\n",
       "      <td>pDC</td>\n",
       "    </tr>\n",
       "    <tr>\n",
       "      <th>SCGT00_L051_I53.3P_T0_ACTATGGAGGCGCTCT</th>\n",
       "      <td>pDC</td>\n",
       "      <td>pDC</td>\n",
       "      <td>pDC</td>\n",
       "      <td>pDC</td>\n",
       "      <td>pDC</td>\n",
       "      <td>pDC</td>\n",
       "      <td>pDC</td>\n",
       "    </tr>\n",
       "    <tr>\n",
       "      <th>SCGT00_L051_I55.3P_T0_ACTTTCACATGGGTTT</th>\n",
       "      <td>pDC</td>\n",
       "      <td>pDC</td>\n",
       "      <td>pDC</td>\n",
       "      <td>pDC</td>\n",
       "      <td>pDC</td>\n",
       "      <td>pDC</td>\n",
       "      <td>pDC</td>\n",
       "    </tr>\n",
       "    <tr>\n",
       "      <th>SCGT00_L051_I52.3P_T0_ATCACAGTCATCGGGC</th>\n",
       "      <td>pDC</td>\n",
       "      <td>pDC</td>\n",
       "      <td>pDC</td>\n",
       "      <td>pDC</td>\n",
       "      <td>pDC</td>\n",
       "      <td>pDC</td>\n",
       "      <td>pDC</td>\n",
       "    </tr>\n",
       "  </tbody>\n",
       "</table>\n",
       "</div>"
      ],
      "text/plain": [
       "                                       annotation_step_1 annotation_step_2  \\\n",
       "cellID                                                                       \n",
       "SCGT00_L051_I53.3P_T0_AACCAACGTGGGATTG               pDC               pDC   \n",
       "SCGT00_L051_I58.3P_T0_ACCTGAAAGTGCCAGA               pDC               pDC   \n",
       "SCGT00_L051_I53.3P_T0_ACTATGGAGGCGCTCT               pDC               pDC   \n",
       "SCGT00_L051_I55.3P_T0_ACTTTCACATGGGTTT               pDC               pDC   \n",
       "SCGT00_L051_I52.3P_T0_ATCACAGTCATCGGGC               pDC               pDC   \n",
       "\n",
       "                                       annotation_step_3 annotation_step_4  \\\n",
       "cellID                                                                       \n",
       "SCGT00_L051_I53.3P_T0_AACCAACGTGGGATTG               pDC               pDC   \n",
       "SCGT00_L051_I58.3P_T0_ACCTGAAAGTGCCAGA               pDC               pDC   \n",
       "SCGT00_L051_I53.3P_T0_ACTATGGAGGCGCTCT               pDC               pDC   \n",
       "SCGT00_L051_I55.3P_T0_ACTTTCACATGGGTTT               pDC               pDC   \n",
       "SCGT00_L051_I52.3P_T0_ATCACAGTCATCGGGC               pDC               pDC   \n",
       "\n",
       "                                       annotation_step_5 Level1 Level2  \n",
       "cellID                                                                  \n",
       "SCGT00_L051_I53.3P_T0_AACCAACGTGGGATTG               pDC    pDC    pDC  \n",
       "SCGT00_L051_I58.3P_T0_ACCTGAAAGTGCCAGA               pDC    pDC    pDC  \n",
       "SCGT00_L051_I53.3P_T0_ACTATGGAGGCGCTCT               pDC    pDC    pDC  \n",
       "SCGT00_L051_I55.3P_T0_ACTTTCACATGGGTTT               pDC    pDC    pDC  \n",
       "SCGT00_L051_I52.3P_T0_ATCACAGTCATCGGGC               pDC    pDC    pDC  "
      ]
     },
     "execution_count": 3,
     "metadata": {},
     "output_type": "execute_result"
    }
   ],
   "source": [
    "fullAnnotationDF = pd.read_pickle(here('02_fromCellLineages_to_CellTypes/master_clusterAnnotDF_final.pkl'))\n",
    "fullAnnotationDF.head()"
   ]
  },
  {
   "cell_type": "code",
   "execution_count": 4,
   "id": "7cb976b5-1d8d-46e9-ae02-b1ba950dde0c",
   "metadata": {
    "execution": {
     "iopub.execute_input": "2024-05-22T14:31:42.433194Z",
     "iopub.status.busy": "2024-05-22T14:31:42.432995Z",
     "iopub.status.idle": "2024-05-22T14:31:42.468203Z",
     "shell.execute_reply": "2024-05-22T14:31:42.467790Z",
     "shell.execute_reply.started": "2024-05-22T14:31:42.433176Z"
    }
   },
   "outputs": [
    {
     "data": {
      "text/plain": [
       "Level1          \n",
       "Mono                1049149\n",
       "T_CD4_Naive          792955\n",
       "T_CD4_NonNaive       712248\n",
       "T_CD8_NonNaive       523322\n",
       "ILC                  376885\n",
       "B                    356874\n",
       "LowQuality_cells     241452\n",
       "Doublets             240766\n",
       "T_CD8_Naive          213776\n",
       "Platelets            154085\n",
       "UTC                  115097\n",
       "DC                    47076\n",
       "Cycling_cells         45181\n",
       "pDC                   22902\n",
       "Plasma                16854\n",
       "Progenitors            7033\n",
       "RBC                    2485\n",
       "Name: count, dtype: int64"
      ]
     },
     "execution_count": 4,
     "metadata": {},
     "output_type": "execute_result"
    }
   ],
   "source": [
    "fullAnnotationDF.value_counts(['Level1'], dropna=False)"
   ]
  },
  {
   "cell_type": "markdown",
   "id": "309b4998-b47e-4ece-92a4-531196645dc0",
   "metadata": {
    "execution": {
     "iopub.execute_input": "2023-08-30T15:40:36.531865Z",
     "iopub.status.busy": "2023-08-30T15:40:36.531470Z",
     "iopub.status.idle": "2023-08-30T15:40:36.534369Z",
     "shell.execute_reply": "2023-08-30T15:40:36.534026Z",
     "shell.execute_reply.started": "2023-08-30T15:40:36.531849Z"
    }
   },
   "source": [
    "### Alluvion plot shows changes in cell groups"
   ]
  },
  {
   "cell_type": "code",
   "execution_count": 5,
   "id": "93acdcfa-89fd-4a93-ba25-3d3233395844",
   "metadata": {
    "execution": {
     "iopub.execute_input": "2024-05-22T14:31:42.468965Z",
     "iopub.status.busy": "2024-05-22T14:31:42.468782Z",
     "iopub.status.idle": "2024-05-22T14:31:42.471206Z",
     "shell.execute_reply": "2024-05-22T14:31:42.470843Z",
     "shell.execute_reply.started": "2024-05-22T14:31:42.468948Z"
    }
   },
   "outputs": [],
   "source": [
    "selCol = ['annotation_step_1','annotation_step_2','annotation_step_3','annotation_step_4','annotation_step_5', 'Level2', 'Level1']"
   ]
  },
  {
   "cell_type": "raw",
   "id": "e5625d5e-52d4-4219-8f4a-41dc5c2a6bd1",
   "metadata": {
    "execution": {
     "iopub.execute_input": "2024-05-22T14:25:14.071229Z",
     "iopub.status.busy": "2024-05-22T14:25:14.071030Z"
    }
   },
   "source": [
    "aggregateCT = fullAnnotationDF.groupby(selCol).size().to_frame('cell_number')\n",
    "aggregateCT = aggregateCT.loc[aggregateCT.cell_number > 0,:].reset_index()\n",
    "\n",
    "for i, col_i in enumerate(selCol):\n",
    "    aggregateCT[col_i] = ['Doublet' if c.startswith('Doublet') else c for c in aggregateCT[col_i]]\n",
    "    aggregateCT[col_i] = ['(L{}){}'.format(i, c) for c in aggregateCT[col_i].astype(str)]"
   ]
  },
  {
   "cell_type": "raw",
   "id": "cb912cfc-1e92-4a1d-b092-6fbf50f55ad1",
   "metadata": {},
   "source": [
    "import plotly.graph_objects as go\n",
    "\n",
    "fig = go.Figure(genSankey(aggregateCT,\n",
    "                          cat_cols=selCol,\n",
    "                          value_cols='cell_number',\n",
    "                          colors = 'Set2',\n",
    "                          title='Annotation workflow', size = 20)\n",
    "               )\n",
    "fig.update_layout(width=1000, height=1600)\n",
    "fig.show()"
   ]
  },
  {
   "cell_type": "raw",
   "id": "cc235ef6-2817-4d46-8b9d-81e2c0c6304d",
   "metadata": {},
   "source": [
    "if overwriteFigure:\n",
    "    fig.write_image(\"/scratch_isilon/groups/singlecell/shared/projects/Inflammation-PBMCs-Atlas/02_fromCellLineages_to_CellTypes/annotation_workflow.pdf\")"
   ]
  },
  {
   "cell_type": "markdown",
   "id": "b307d6eb-e68a-415f-81b9-386a87586a82",
   "metadata": {},
   "source": [
    "# Loading single-cell data"
   ]
  },
  {
   "cell_type": "markdown",
   "id": "324e65e2-5329-40c5-bfd5-e4d856a0d05d",
   "metadata": {},
   "source": [
    "**Scanpy object with count raw and normalized**"
   ]
  },
  {
   "cell_type": "code",
   "execution_count": 6,
   "id": "c559b061-5e30-41a2-8e12-382e4cc2aa84",
   "metadata": {
    "execution": {
     "iopub.execute_input": "2024-05-22T14:31:42.471928Z",
     "iopub.status.busy": "2024-05-22T14:31:42.471682Z",
     "iopub.status.idle": "2024-05-22T14:42:26.121559Z",
     "shell.execute_reply": "2024-05-22T14:42:26.121076Z",
     "shell.execute_reply.started": "2024-05-22T14:31:42.471912Z"
    }
   },
   "outputs": [
    {
     "data": {
      "text/plain": [
       "AnnData object with n_obs × n_vars = 4918140 × 22838\n",
       "    obs: 'studyID', 'libraryID', 'sampleID', 'chemistry', 'technology', 'patientID', 'disease', 'timepoint_replicate', 'treatmentStatus', 'therapyResponse', 'sex', 'age', 'BMI', 'binned_age', 'diseaseStatus', 'smokingStatus', 'ethnicity', 'institute', 'diseaseGroup', 'n_genes_by_counts', 'log1p_n_genes_by_counts', 'total_counts', 'log1p_total_counts', 'pct_counts_in_top_20_genes', 'total_counts_mt', 'log1p_total_counts_mt', 'pct_counts_mt', 'total_counts_ribo', 'log1p_total_counts_ribo', 'pct_counts_ribo', 'total_counts_hb', 'log1p_total_counts_hb', 'pct_counts_hb', 'total_counts_plt', 'log1p_total_counts_plt', 'pct_counts_plt', 'doublet_score', 'predicted_doublet', 'S_score', 'G2M_score', 'phase'\n",
       "    var: 'hgnc_id', 'symbol', 'locus_group', 'HUGO_status', 'mt', 'ribo', 'hb', 'plt', 'n_cells_by_counts', 'mean_counts', 'log1p_mean_counts', 'pct_dropout_by_counts', 'total_counts', 'log1p_total_counts'\n",
       "    uns: 'chemistry_colors', 'log1p'\n",
       "    layers: 'counts', 'log1p_10e4_counts'"
      ]
     },
     "execution_count": 6,
     "metadata": {},
     "output_type": "execute_result"
    }
   ],
   "source": [
    "adata = sc.read_h5ad(here(\"01_data_processing/results/03_INFLAMMATION_main_normalized.h5ad\"))\n",
    "adata"
   ]
  },
  {
   "cell_type": "markdown",
   "id": "c560eee6-31e1-4c3b-85aa-9570a34172b2",
   "metadata": {},
   "source": [
    "**Import annotation**"
   ]
  },
  {
   "cell_type": "code",
   "execution_count": 7,
   "id": "8291f397-f8f0-4967-a434-4bcd02b128de",
   "metadata": {
    "execution": {
     "iopub.execute_input": "2024-05-22T14:42:26.122441Z",
     "iopub.status.busy": "2024-05-22T14:42:26.122272Z",
     "iopub.status.idle": "2024-05-22T14:42:31.231456Z",
     "shell.execute_reply": "2024-05-22T14:42:31.230975Z",
     "shell.execute_reply.started": "2024-05-22T14:42:26.122422Z"
    }
   },
   "outputs": [],
   "source": [
    "adata.obs = adata.obs.merge(fullAnnotationDF[['Level1', 'Level2']], left_index=True, right_index=True, how='left')"
   ]
  },
  {
   "cell_type": "markdown",
   "id": "c2304bbb-920a-421d-b07a-b3bc7257ca28",
   "metadata": {},
   "source": [
    "# Remove discarded cells\n",
    "\n",
    "We also check the distribution of the number of cells in each cell-types among patient and disease."
   ]
  },
  {
   "cell_type": "code",
   "execution_count": 8,
   "id": "f54f0ede-98a8-41d9-9aad-8bf5ebd53717",
   "metadata": {
    "execution": {
     "iopub.execute_input": "2024-05-22T14:42:31.232262Z",
     "iopub.status.busy": "2024-05-22T14:42:31.232098Z",
     "iopub.status.idle": "2024-05-22T14:45:56.107347Z",
     "shell.execute_reply": "2024-05-22T14:45:56.106808Z",
     "shell.execute_reply.started": "2024-05-22T14:42:31.232245Z"
    }
   },
   "outputs": [
    {
     "data": {
      "text/plain": [
       "AnnData object with n_obs × n_vars = 4435922 × 22838\n",
       "    obs: 'studyID', 'libraryID', 'sampleID', 'chemistry', 'technology', 'patientID', 'disease', 'timepoint_replicate', 'treatmentStatus', 'therapyResponse', 'sex', 'age', 'BMI', 'binned_age', 'diseaseStatus', 'smokingStatus', 'ethnicity', 'institute', 'diseaseGroup', 'n_genes_by_counts', 'log1p_n_genes_by_counts', 'total_counts', 'log1p_total_counts', 'pct_counts_in_top_20_genes', 'total_counts_mt', 'log1p_total_counts_mt', 'pct_counts_mt', 'total_counts_ribo', 'log1p_total_counts_ribo', 'pct_counts_ribo', 'total_counts_hb', 'log1p_total_counts_hb', 'pct_counts_hb', 'total_counts_plt', 'log1p_total_counts_plt', 'pct_counts_plt', 'doublet_score', 'predicted_doublet', 'S_score', 'G2M_score', 'phase', 'Level1', 'Level2'\n",
       "    var: 'hgnc_id', 'symbol', 'locus_group', 'HUGO_status', 'mt', 'ribo', 'hb', 'plt', 'n_cells_by_counts', 'mean_counts', 'log1p_mean_counts', 'pct_dropout_by_counts', 'total_counts', 'log1p_total_counts'\n",
       "    uns: 'chemistry_colors', 'log1p'\n",
       "    layers: 'counts', 'log1p_10e4_counts'"
      ]
     },
     "execution_count": 8,
     "metadata": {},
     "output_type": "execute_result"
    }
   ],
   "source": [
    "adataFilt = adata[~adata.obs['Level1'].isin(['Doublets','LowQuality_cells']),:].copy()\n",
    "adataFilt"
   ]
  },
  {
   "cell_type": "code",
   "execution_count": 9,
   "id": "bbeccfb9-be71-405a-a66b-6289f697494d",
   "metadata": {
    "execution": {
     "iopub.execute_input": "2024-05-22T14:45:56.108366Z",
     "iopub.status.busy": "2024-05-22T14:45:56.108151Z",
     "iopub.status.idle": "2024-05-22T14:45:56.110712Z",
     "shell.execute_reply": "2024-05-22T14:45:56.110348Z",
     "shell.execute_reply.started": "2024-05-22T14:45:56.108347Z"
    }
   },
   "outputs": [],
   "source": [
    "del adata"
   ]
  },
  {
   "cell_type": "code",
   "execution_count": 10,
   "id": "cc7cbb1d-a55a-42ac-9bc3-3c350e903d78",
   "metadata": {
    "execution": {
     "iopub.execute_input": "2024-05-22T14:45:56.111440Z",
     "iopub.status.busy": "2024-05-22T14:45:56.111212Z",
     "iopub.status.idle": "2024-05-22T14:45:56.249918Z",
     "shell.execute_reply": "2024-05-22T14:45:56.249521Z",
     "shell.execute_reply.started": "2024-05-22T14:45:56.111424Z"
    }
   },
   "outputs": [
    {
     "data": {
      "text/html": [
       "<div>\n",
       "<style scoped>\n",
       "    .dataframe tbody tr th:only-of-type {\n",
       "        vertical-align: middle;\n",
       "    }\n",
       "\n",
       "    .dataframe tbody tr th {\n",
       "        vertical-align: top;\n",
       "    }\n",
       "\n",
       "    .dataframe thead th {\n",
       "        text-align: right;\n",
       "    }\n",
       "</style>\n",
       "<table border=\"1\" class=\"dataframe\">\n",
       "  <thead>\n",
       "    <tr style=\"text-align: right;\">\n",
       "      <th></th>\n",
       "      <th>disease</th>\n",
       "      <th>tot_patient</th>\n",
       "    </tr>\n",
       "  </thead>\n",
       "  <tbody>\n",
       "    <tr>\n",
       "      <th>0</th>\n",
       "      <td>healthy</td>\n",
       "      <td>270</td>\n",
       "    </tr>\n",
       "    <tr>\n",
       "      <th>1</th>\n",
       "      <td>SLE</td>\n",
       "      <td>142</td>\n",
       "    </tr>\n",
       "    <tr>\n",
       "      <th>2</th>\n",
       "      <td>COVID</td>\n",
       "      <td>117</td>\n",
       "    </tr>\n",
       "    <tr>\n",
       "      <th>3</th>\n",
       "      <td>RA</td>\n",
       "      <td>38</td>\n",
       "    </tr>\n",
       "    <tr>\n",
       "      <th>4</th>\n",
       "      <td>sepsis</td>\n",
       "      <td>35</td>\n",
       "    </tr>\n",
       "    <tr>\n",
       "      <th>5</th>\n",
       "      <td>PSA</td>\n",
       "      <td>26</td>\n",
       "    </tr>\n",
       "    <tr>\n",
       "      <th>6</th>\n",
       "      <td>PS</td>\n",
       "      <td>26</td>\n",
       "    </tr>\n",
       "    <tr>\n",
       "      <th>7</th>\n",
       "      <td>UC</td>\n",
       "      <td>22</td>\n",
       "    </tr>\n",
       "    <tr>\n",
       "      <th>8</th>\n",
       "      <td>HNSCC</td>\n",
       "      <td>21</td>\n",
       "    </tr>\n",
       "    <tr>\n",
       "      <th>9</th>\n",
       "      <td>CD</td>\n",
       "      <td>21</td>\n",
       "    </tr>\n",
       "    <tr>\n",
       "      <th>10</th>\n",
       "      <td>HBV</td>\n",
       "      <td>15</td>\n",
       "    </tr>\n",
       "    <tr>\n",
       "      <th>11</th>\n",
       "      <td>CRC</td>\n",
       "      <td>14</td>\n",
       "    </tr>\n",
       "    <tr>\n",
       "      <th>12</th>\n",
       "      <td>asthma</td>\n",
       "      <td>12</td>\n",
       "    </tr>\n",
       "    <tr>\n",
       "      <th>13</th>\n",
       "      <td>COPD</td>\n",
       "      <td>12</td>\n",
       "    </tr>\n",
       "    <tr>\n",
       "      <th>14</th>\n",
       "      <td>flu</td>\n",
       "      <td>11</td>\n",
       "    </tr>\n",
       "    <tr>\n",
       "      <th>15</th>\n",
       "      <td>NPC</td>\n",
       "      <td>10</td>\n",
       "    </tr>\n",
       "    <tr>\n",
       "      <th>16</th>\n",
       "      <td>cirrhosis</td>\n",
       "      <td>8</td>\n",
       "    </tr>\n",
       "    <tr>\n",
       "      <th>17</th>\n",
       "      <td>HIV</td>\n",
       "      <td>6</td>\n",
       "    </tr>\n",
       "    <tr>\n",
       "      <th>18</th>\n",
       "      <td>BRCA</td>\n",
       "      <td>6</td>\n",
       "    </tr>\n",
       "    <tr>\n",
       "      <th>19</th>\n",
       "      <td>MS</td>\n",
       "      <td>5</td>\n",
       "    </tr>\n",
       "  </tbody>\n",
       "</table>\n",
       "</div>"
      ],
      "text/plain": [
       "      disease  tot_patient\n",
       "0     healthy          270\n",
       "1         SLE          142\n",
       "2       COVID          117\n",
       "3          RA           38\n",
       "4      sepsis           35\n",
       "5         PSA           26\n",
       "6          PS           26\n",
       "7          UC           22\n",
       "8       HNSCC           21\n",
       "9          CD           21\n",
       "10        HBV           15\n",
       "11        CRC           14\n",
       "12     asthma           12\n",
       "13       COPD           12\n",
       "14        flu           11\n",
       "15        NPC           10\n",
       "16  cirrhosis            8\n",
       "17        HIV            6\n",
       "18       BRCA            6\n",
       "19         MS            5"
      ]
     },
     "execution_count": 10,
     "metadata": {},
     "output_type": "execute_result"
    }
   ],
   "source": [
    "patientXdisease = pd.DataFrame(adataFilt.obs[['sampleID','disease']].drop_duplicates().value_counts('disease')).reset_index()\n",
    "patientXdisease.columns = ['disease','tot_patient']\n",
    "patientXdisease"
   ]
  },
  {
   "cell_type": "code",
   "execution_count": 11,
   "id": "9b2024ef-b6a7-436e-86d1-b9b515dd1d51",
   "metadata": {
    "execution": {
     "iopub.execute_input": "2024-05-22T14:45:56.250671Z",
     "iopub.status.busy": "2024-05-22T14:45:56.250516Z",
     "iopub.status.idle": "2024-05-22T14:45:56.271241Z",
     "shell.execute_reply": "2024-05-22T14:45:56.270869Z",
     "shell.execute_reply.started": "2024-05-22T14:45:56.250654Z"
    }
   },
   "outputs": [
    {
     "data": {
      "text/plain": [
       "(817,)"
      ]
     },
     "execution_count": 11,
     "metadata": {},
     "output_type": "execute_result"
    }
   ],
   "source": [
    "adataFilt.obs['sampleID'].unique().shape"
   ]
  },
  {
   "cell_type": "code",
   "execution_count": 12,
   "id": "2b54e426-16a2-42e7-bdaf-a5b042d1411c",
   "metadata": {
    "execution": {
     "iopub.execute_input": "2024-05-22T14:45:56.273051Z",
     "iopub.status.busy": "2024-05-22T14:45:56.272822Z",
     "iopub.status.idle": "2024-05-22T14:45:56.293679Z",
     "shell.execute_reply": "2024-05-22T14:45:56.293313Z",
     "shell.execute_reply.started": "2024-05-22T14:45:56.273034Z"
    }
   },
   "outputs": [
    {
     "name": "stdout",
     "output_type": "stream",
     "text": [
      "['B', 'Cycling_cells', 'DC', 'ILC', 'Mono', 'Plasma', 'Platelets', 'Progenitors', 'RBC', 'T_CD4_Naive', 'T_CD4_NonNaive', 'T_CD8_Naive', 'T_CD8_NonNaive', 'UTC', 'pDC']\n"
     ]
    }
   ],
   "source": [
    "print(sorted(set(adataFilt.obs.Level1.unique().tolist())))"
   ]
  },
  {
   "cell_type": "code",
   "execution_count": 13,
   "id": "94246572-c956-4c65-88d2-0361b3b32967",
   "metadata": {
    "execution": {
     "iopub.execute_input": "2024-05-22T14:45:56.294397Z",
     "iopub.status.busy": "2024-05-22T14:45:56.294174Z",
     "iopub.status.idle": "2024-05-22T14:45:56.509891Z",
     "shell.execute_reply": "2024-05-22T14:45:56.509476Z",
     "shell.execute_reply.started": "2024-05-22T14:45:56.294381Z"
    }
   },
   "outputs": [
    {
     "name": "stdout",
     "output_type": "stream",
     "text": [
      "['B_IFNresponder', 'B_Memory_ITGAX', 'B_Memory_switched', 'B_Memory_unswitched', 'B_Naive', 'B_Naive_activated', 'B_Progenitors', 'B_Transitional', 'DC4', 'DC5', 'DC_CCR7', 'DC_Proliferative', 'HSC_LMP', 'HSC_MEMP', 'HSC_MMP', 'MAIT', 'MAIT_17', 'Mono_IFNresponse', 'Mono_classical', 'Mono_inflammatory', 'Mono_nonClassical', 'Mono_regulatory', 'NK_CD16high', 'NK_CD56dimCD16', 'NK_CD56high', 'NK_IFN1response', 'NK_Proliferative', 'NK_adaptive', 'NK_lowRibocontent', 'Plasma_IGHA', 'Plasma_IGHG', 'Plasma_Proliferative', 'Plasma_XBP1', 'Platelets', 'RBC', 'T_CD4_CM', 'T_CD4_CM_ribo', 'T_CD4_EM', 'T_CD4_EMRA', 'T_CD4_Naive', 'T_CD4_eff', 'T_CD8_CM', 'T_CD8_CM_stem', 'T_CD8_EM_CX3CR1high', 'T_CD8_EM_CX3CR1int', 'T_CD8_IFNresponse', 'T_CD8_Mem_cytotoxic', 'T_CD8_Naive', 'T_CD8_activated', 'T_CD8_arrested', 'T_CD8_eff_HOBIT', 'T_Progenitors', 'T_Proliferative', 'Th0', 'Th1', 'Th2', 'Tregs', 'Tregs_activated', 'cDC1', 'cDC2', 'cDC3', 'gdT_V1', 'gdT_V2_Vγ9', 'pDC']\n"
     ]
    }
   ],
   "source": [
    "print(sorted(set(adataFilt.obs.Level2.unique().tolist())))"
   ]
  },
  {
   "cell_type": "code",
   "execution_count": 15,
   "id": "1cce5e9f-9dc2-4127-87b3-4bd5f2fa77ed",
   "metadata": {
    "execution": {
     "iopub.execute_input": "2024-05-22T14:46:20.354785Z",
     "iopub.status.busy": "2024-05-22T14:46:20.354272Z",
     "iopub.status.idle": "2024-05-22T14:46:22.428875Z",
     "shell.execute_reply": "2024-05-22T14:46:22.428485Z",
     "shell.execute_reply.started": "2024-05-22T14:46:20.354766Z"
    },
    "scrolled": true
   },
   "outputs": [
    {
     "data": {
      "text/html": [
       "<div>\n",
       "<style scoped>\n",
       "    .dataframe tbody tr th:only-of-type {\n",
       "        vertical-align: middle;\n",
       "    }\n",
       "\n",
       "    .dataframe tbody tr th {\n",
       "        vertical-align: top;\n",
       "    }\n",
       "\n",
       "    .dataframe thead th {\n",
       "        text-align: right;\n",
       "    }\n",
       "</style>\n",
       "<table border=\"1\" class=\"dataframe\">\n",
       "  <thead>\n",
       "    <tr style=\"text-align: right;\">\n",
       "      <th></th>\n",
       "      <th>Level1</th>\n",
       "      <th>sampleID</th>\n",
       "      <th>Count</th>\n",
       "      <th>disease</th>\n",
       "    </tr>\n",
       "  </thead>\n",
       "  <tbody>\n",
       "    <tr>\n",
       "      <th>0</th>\n",
       "      <td>B</td>\n",
       "      <td>COMBAT2022_G05061_T0</td>\n",
       "      <td>410</td>\n",
       "      <td>COVID</td>\n",
       "    </tr>\n",
       "    <tr>\n",
       "      <th>1</th>\n",
       "      <td>B</td>\n",
       "      <td>COMBAT2022_G05064_T0</td>\n",
       "      <td>318</td>\n",
       "      <td>COVID</td>\n",
       "    </tr>\n",
       "    <tr>\n",
       "      <th>2</th>\n",
       "      <td>B</td>\n",
       "      <td>COMBAT2022_G05077_T0</td>\n",
       "      <td>341</td>\n",
       "      <td>COVID</td>\n",
       "    </tr>\n",
       "    <tr>\n",
       "      <th>3</th>\n",
       "      <td>B</td>\n",
       "      <td>COMBAT2022_G05078_T0</td>\n",
       "      <td>129</td>\n",
       "      <td>COVID</td>\n",
       "    </tr>\n",
       "    <tr>\n",
       "      <th>4</th>\n",
       "      <td>B</td>\n",
       "      <td>COMBAT2022_G05105_T0</td>\n",
       "      <td>384</td>\n",
       "      <td>COVID</td>\n",
       "    </tr>\n",
       "    <tr>\n",
       "      <th>...</th>\n",
       "      <td>...</td>\n",
       "      <td>...</td>\n",
       "      <td>...</td>\n",
       "      <td>...</td>\n",
       "    </tr>\n",
       "    <tr>\n",
       "      <th>12250</th>\n",
       "      <td>pDC</td>\n",
       "      <td>Zhang2023_P191112_T0</td>\n",
       "      <td>14</td>\n",
       "      <td>HBV</td>\n",
       "    </tr>\n",
       "    <tr>\n",
       "      <th>12251</th>\n",
       "      <td>pDC</td>\n",
       "      <td>Zhang2023_P191126_T0</td>\n",
       "      <td>32</td>\n",
       "      <td>HBV</td>\n",
       "    </tr>\n",
       "    <tr>\n",
       "      <th>12252</th>\n",
       "      <td>pDC</td>\n",
       "      <td>Zhang2023_P191127_T0</td>\n",
       "      <td>13</td>\n",
       "      <td>HBV</td>\n",
       "    </tr>\n",
       "    <tr>\n",
       "      <th>12253</th>\n",
       "      <td>pDC</td>\n",
       "      <td>Zhang2023_P191210_T0</td>\n",
       "      <td>10</td>\n",
       "      <td>HBV</td>\n",
       "    </tr>\n",
       "    <tr>\n",
       "      <th>12254</th>\n",
       "      <td>pDC</td>\n",
       "      <td>Zhang2023_P191217_T0</td>\n",
       "      <td>1</td>\n",
       "      <td>HBV</td>\n",
       "    </tr>\n",
       "  </tbody>\n",
       "</table>\n",
       "<p>12255 rows × 4 columns</p>\n",
       "</div>"
      ],
      "text/plain": [
       "      Level1              sampleID  Count disease\n",
       "0          B  COMBAT2022_G05061_T0    410   COVID\n",
       "1          B  COMBAT2022_G05064_T0    318   COVID\n",
       "2          B  COMBAT2022_G05077_T0    341   COVID\n",
       "3          B  COMBAT2022_G05078_T0    129   COVID\n",
       "4          B  COMBAT2022_G05105_T0    384   COVID\n",
       "...      ...                   ...    ...     ...\n",
       "12250    pDC  Zhang2023_P191112_T0     14     HBV\n",
       "12251    pDC  Zhang2023_P191126_T0     32     HBV\n",
       "12252    pDC  Zhang2023_P191127_T0     13     HBV\n",
       "12253    pDC  Zhang2023_P191210_T0     10     HBV\n",
       "12254    pDC  Zhang2023_P191217_T0      1     HBV\n",
       "\n",
       "[12255 rows x 4 columns]"
      ]
     },
     "execution_count": 15,
     "metadata": {},
     "output_type": "execute_result"
    }
   ],
   "source": [
    "cellTypeXpatient = pd.DataFrame(adataFilt.obs.groupby(['Level1','sampleID'], observed = False).size()).reset_index()\n",
    "cellTypeXpatient.columns = ['Level1','sampleID','Count']\n",
    "cellTypeXpatient.sort_values('Count')\n",
    "cellTypeXpatient = cellTypeXpatient.merge(adataFilt.obs[['sampleID','disease']].drop_duplicates(), on='sampleID', how='left') \n",
    "cellTypeXpatient"
   ]
  },
  {
   "cell_type": "code",
   "execution_count": 16,
   "id": "14a4561a-9290-4a9a-a6aa-e29207d721d0",
   "metadata": {
    "execution": {
     "iopub.execute_input": "2024-05-22T14:46:23.839639Z",
     "iopub.status.busy": "2024-05-22T14:46:23.839342Z",
     "iopub.status.idle": "2024-05-22T14:46:23.855670Z",
     "shell.execute_reply": "2024-05-22T14:46:23.855264Z",
     "shell.execute_reply.started": "2024-05-22T14:46:23.839620Z"
    }
   },
   "outputs": [
    {
     "data": {
      "text/html": [
       "<div>\n",
       "<style scoped>\n",
       "    .dataframe tbody tr th:only-of-type {\n",
       "        vertical-align: middle;\n",
       "    }\n",
       "\n",
       "    .dataframe tbody tr th {\n",
       "        vertical-align: top;\n",
       "    }\n",
       "\n",
       "    .dataframe thead th {\n",
       "        text-align: right;\n",
       "    }\n",
       "</style>\n",
       "<table border=\"1\" class=\"dataframe\">\n",
       "  <thead>\n",
       "    <tr style=\"text-align: right;\">\n",
       "      <th></th>\n",
       "      <th>Level1</th>\n",
       "      <th>disease</th>\n",
       "      <th>sampleID</th>\n",
       "      <th>tot_patient</th>\n",
       "      <th>proportion</th>\n",
       "    </tr>\n",
       "  </thead>\n",
       "  <tbody>\n",
       "    <tr>\n",
       "      <th>116</th>\n",
       "      <td>pDC</td>\n",
       "      <td>HIV</td>\n",
       "      <td>5</td>\n",
       "      <td>6</td>\n",
       "      <td>0.833333</td>\n",
       "    </tr>\n",
       "    <tr>\n",
       "      <th>118</th>\n",
       "      <td>pDC</td>\n",
       "      <td>NPC</td>\n",
       "      <td>8</td>\n",
       "      <td>10</td>\n",
       "      <td>0.800000</td>\n",
       "    </tr>\n",
       "    <tr>\n",
       "      <th>124</th>\n",
       "      <td>pDC</td>\n",
       "      <td>flu</td>\n",
       "      <td>8</td>\n",
       "      <td>11</td>\n",
       "      <td>0.727273</td>\n",
       "    </tr>\n",
       "    <tr>\n",
       "      <th>109</th>\n",
       "      <td>UTC</td>\n",
       "      <td>flu</td>\n",
       "      <td>7</td>\n",
       "      <td>11</td>\n",
       "      <td>0.636364</td>\n",
       "    </tr>\n",
       "    <tr>\n",
       "      <th>126</th>\n",
       "      <td>pDC</td>\n",
       "      <td>sepsis</td>\n",
       "      <td>22</td>\n",
       "      <td>35</td>\n",
       "      <td>0.628571</td>\n",
       "    </tr>\n",
       "    <tr>\n",
       "      <th>...</th>\n",
       "      <td>...</td>\n",
       "      <td>...</td>\n",
       "      <td>...</td>\n",
       "      <td>...</td>\n",
       "      <td>...</td>\n",
       "    </tr>\n",
       "    <tr>\n",
       "      <th>21</th>\n",
       "      <td>DC</td>\n",
       "      <td>healthy</td>\n",
       "      <td>3</td>\n",
       "      <td>270</td>\n",
       "      <td>0.011111</td>\n",
       "    </tr>\n",
       "    <tr>\n",
       "      <th>98</th>\n",
       "      <td>T_CD8_NonNaive</td>\n",
       "      <td>COVID</td>\n",
       "      <td>1</td>\n",
       "      <td>117</td>\n",
       "      <td>0.008547</td>\n",
       "    </tr>\n",
       "    <tr>\n",
       "      <th>4</th>\n",
       "      <td>Cycling_cells</td>\n",
       "      <td>COVID</td>\n",
       "      <td>1</td>\n",
       "      <td>117</td>\n",
       "      <td>0.008547</td>\n",
       "    </tr>\n",
       "    <tr>\n",
       "      <th>9</th>\n",
       "      <td>Cycling_cells</td>\n",
       "      <td>SLE</td>\n",
       "      <td>1</td>\n",
       "      <td>142</td>\n",
       "      <td>0.007042</td>\n",
       "    </tr>\n",
       "    <tr>\n",
       "      <th>24</th>\n",
       "      <td>ILC</td>\n",
       "      <td>SLE</td>\n",
       "      <td>1</td>\n",
       "      <td>142</td>\n",
       "      <td>0.007042</td>\n",
       "    </tr>\n",
       "  </tbody>\n",
       "</table>\n",
       "<p>64 rows × 5 columns</p>\n",
       "</div>"
      ],
      "text/plain": [
       "             Level1  disease  sampleID  tot_patient  proportion\n",
       "116             pDC      HIV         5            6    0.833333\n",
       "118             pDC      NPC         8           10    0.800000\n",
       "124             pDC      flu         8           11    0.727273\n",
       "109             UTC      flu         7           11    0.636364\n",
       "126             pDC   sepsis        22           35    0.628571\n",
       "..              ...      ...       ...          ...         ...\n",
       "21               DC  healthy         3          270    0.011111\n",
       "98   T_CD8_NonNaive    COVID         1          117    0.008547\n",
       "4     Cycling_cells    COVID         1          117    0.008547\n",
       "9     Cycling_cells      SLE         1          142    0.007042\n",
       "24              ILC      SLE         1          142    0.007042\n",
       "\n",
       "[64 rows x 5 columns]"
      ]
     },
     "execution_count": 16,
     "metadata": {},
     "output_type": "execute_result"
    }
   ],
   "source": [
    "threshold = 5\n",
    "patient_with_no_cellTypes = cellTypeXpatient.query('Count < @threshold')[['Level1','sampleID','disease']].groupby(['Level1','disease'], observed = True).count().reset_index().merge(patientXdisease, on='disease', how='left')\n",
    "patient_with_no_cellTypes['proportion']  = patient_with_no_cellTypes['sampleID'] / patient_with_no_cellTypes['tot_patient']\n",
    "patient_with_no_cellTypes.loc[~patient_with_no_cellTypes['Level1'].isin(['RBC','Progenitors','Platelets','Plasma']),:].sort_values('proportion', ascending=False)"
   ]
  },
  {
   "cell_type": "markdown",
   "id": "932723c3-48e7-4ecf-9f39-c9a105af928e",
   "metadata": {},
   "source": [
    "As you can see, we annotated a very few number of pDC cells. Some patients show less than 5cell. In particular diseases (e.g., HIV, and Sepsis) are affected."
   ]
  },
  {
   "cell_type": "markdown",
   "id": "cd7309bf-f744-47c6-9c92-44a2dc28ab90",
   "metadata": {},
   "source": [
    "**Cleaning object to keep only relevant fields for the next steps**"
   ]
  },
  {
   "cell_type": "code",
   "execution_count": 17,
   "id": "b3d874cf-e170-4ad2-bb42-f42469b6ced5",
   "metadata": {
    "execution": {
     "iopub.execute_input": "2024-05-22T14:59:25.929952Z",
     "iopub.status.busy": "2024-05-22T14:59:25.929607Z",
     "iopub.status.idle": "2024-05-22T14:59:26.019693Z",
     "shell.execute_reply": "2024-05-22T14:59:26.019220Z",
     "shell.execute_reply.started": "2024-05-22T14:59:25.929933Z"
    }
   },
   "outputs": [],
   "source": [
    "adataFilt.obs.drop(['timepoint_replicate', 'treatmentStatus', 'therapyResponse', 'age', 'BMI', 'technology', 'patientID',\n",
    "                     'diseaseStatus', 'smokingStatus', 'ethnicity', 'institute', 'diseaseGroup', 'n_genes_by_counts', \n",
    "                     'log1p_n_genes_by_counts', 'total_counts', 'log1p_total_counts', 'pct_counts_in_top_20_genes', 'total_counts_mt', \n",
    "                     'log1p_total_counts_mt', 'pct_counts_mt', 'total_counts_ribo', 'log1p_total_counts_ribo', 'pct_counts_ribo', \n",
    "                     'total_counts_hb', 'log1p_total_counts_hb', 'pct_counts_hb', 'total_counts_plt', 'log1p_total_counts_plt', \n",
    "                     'pct_counts_plt', 'doublet_score', 'predicted_doublet', 'S_score', 'G2M_score', 'phase'],\n",
    "                    axis=1,inplace=True)\n",
    "adataFilt.var.drop(['mt', 'ribo', 'hb', 'plt', 'n_cells_by_counts', 'mean_counts', 'log1p_mean_counts', \n",
    "                         'pct_dropout_by_counts', 'total_counts', 'log1p_total_counts'],axis=1, inplace=True)"
   ]
  },
  {
   "cell_type": "code",
   "execution_count": 18,
   "id": "3ee612e9-e1cd-476e-84e5-9d470537e1d7",
   "metadata": {
    "execution": {
     "iopub.execute_input": "2024-05-22T14:59:26.410677Z",
     "iopub.status.busy": "2024-05-22T14:59:26.410350Z",
     "iopub.status.idle": "2024-05-22T14:59:59.595111Z",
     "shell.execute_reply": "2024-05-22T14:59:59.594623Z",
     "shell.execute_reply.started": "2024-05-22T14:59:26.410660Z"
    }
   },
   "outputs": [],
   "source": [
    "adataFilt.X = adataFilt.layers['counts'].copy()"
   ]
  },
  {
   "cell_type": "code",
   "execution_count": 19,
   "id": "d301b4e2-eb2f-44bd-848e-6984c2304d72",
   "metadata": {
    "execution": {
     "iopub.execute_input": "2024-05-22T14:59:59.596109Z",
     "iopub.status.busy": "2024-05-22T14:59:59.595943Z",
     "iopub.status.idle": "2024-05-22T15:00:06.398080Z",
     "shell.execute_reply": "2024-05-22T15:00:06.397588Z",
     "shell.execute_reply.started": "2024-05-22T14:59:59.596092Z"
    }
   },
   "outputs": [],
   "source": [
    "del adataFilt.layers\n",
    "del adataFilt.uns"
   ]
  },
  {
   "cell_type": "code",
   "execution_count": 25,
   "id": "028309f3-5fc2-49a4-94e0-17b11a3529a9",
   "metadata": {
    "execution": {
     "iopub.execute_input": "2024-05-22T15:01:54.278173Z",
     "iopub.status.busy": "2024-05-22T15:01:54.277640Z",
     "iopub.status.idle": "2024-05-22T15:01:54.281393Z",
     "shell.execute_reply": "2024-05-22T15:01:54.280934Z",
     "shell.execute_reply.started": "2024-05-22T15:01:54.278152Z"
    },
    "scrolled": true
   },
   "outputs": [
    {
     "data": {
      "text/plain": [
       "AnnData object with n_obs × n_vars = 4435922 × 22838\n",
       "    obs: 'studyID', 'libraryID', 'sampleID', 'chemistry', 'disease', 'sex', 'binned_age', 'Level1', 'Level2'\n",
       "    var: 'hgnc_id', 'symbol', 'locus_group', 'HUGO_status'"
      ]
     },
     "execution_count": 25,
     "metadata": {},
     "output_type": "execute_result"
    }
   ],
   "source": [
    "adataFilt"
   ]
  },
  {
   "cell_type": "markdown",
   "id": "b87f15b2-e51f-4115-bb0a-3d7fd34af365",
   "metadata": {},
   "source": [
    "# Saving object"
   ]
  },
  {
   "cell_type": "code",
   "execution_count": 26,
   "id": "c29c5d2f-0d48-4766-8ea0-153d96c2e375",
   "metadata": {
    "execution": {
     "iopub.execute_input": "2024-05-22T15:02:36.468036Z",
     "iopub.status.busy": "2024-05-22T15:02:36.467656Z",
     "iopub.status.idle": "2024-05-22T15:18:43.046649Z",
     "shell.execute_reply": "2024-05-22T15:18:43.045979Z",
     "shell.execute_reply.started": "2024-05-22T15:02:36.468017Z"
    }
   },
   "outputs": [],
   "source": [
    "if overwriteData:\n",
    "    adataFilt.write(here('02_fromCellLineages_to_CellTypes/INFLAMMATION_main_annotated_LowQFilt.h5ad'), compression='gzip')"
   ]
  },
  {
   "cell_type": "markdown",
   "id": "6ba0516e-c8f0-429a-9b0e-d45820060a41",
   "metadata": {},
   "source": [
    "## Data exploring"
   ]
  },
  {
   "cell_type": "code",
   "execution_count": 5,
   "id": "bd2c50fa-c0a2-4320-b325-938f71b69a0e",
   "metadata": {
    "execution": {
     "iopub.execute_input": "2025-01-15T10:35:49.348166Z",
     "iopub.status.busy": "2025-01-15T10:35:49.347768Z",
     "iopub.status.idle": "2025-01-15T10:35:49.413387Z",
     "shell.execute_reply": "2025-01-15T10:35:49.412794Z",
     "shell.execute_reply.started": "2025-01-15T10:35:49.348147Z"
    }
   },
   "outputs": [],
   "source": [
    "import matplotlib.pyplot as plt\n",
    "from matplotlib.backends.backend_pdf import PdfPages\n",
    "from matplotlib.patches import Patch\n",
    "import plotly.io as pio\n",
    "\n",
    "# Import functions\n",
    "sys.path.insert(1, str(here('bin')))\n",
    "from customPalette import *\n",
    "\n",
    "dpi_fig_save = 300\n",
    "sc.set_figure_params(dpi=100, dpi_save=dpi_fig_save, vector_friendly=True)"
   ]
  },
  {
   "cell_type": "code",
   "execution_count": 6,
   "id": "46f3f98c-568c-45bb-bc47-fa3d00c18628",
   "metadata": {
    "execution": {
     "iopub.execute_input": "2025-01-15T10:35:49.414202Z",
     "iopub.status.busy": "2025-01-15T10:35:49.413867Z",
     "iopub.status.idle": "2025-01-15T10:38:34.416094Z",
     "shell.execute_reply": "2025-01-15T10:38:34.415462Z",
     "shell.execute_reply.started": "2025-01-15T10:35:49.414186Z"
    }
   },
   "outputs": [
    {
     "data": {
      "text/plain": [
       "AnnData object with n_obs × n_vars = 4435922 × 22838\n",
       "    obs: 'studyID', 'libraryID', 'sampleID', 'chemistry', 'disease', 'sex', 'binned_age', 'Level1', 'Level2'\n",
       "    var: 'hgnc_id', 'symbol', 'locus_group', 'HUGO_status'"
      ]
     },
     "execution_count": 6,
     "metadata": {},
     "output_type": "execute_result"
    }
   ],
   "source": [
    "adataFilt = ad.read_h5ad(here('02_fromCellLineages_to_CellTypes/INFLAMMATION_main_annotated_LowQFilt.h5ad'))\n",
    "adataFilt"
   ]
  },
  {
   "cell_type": "code",
   "execution_count": 30,
   "id": "c2243b31-cb41-4246-9099-e00e6939ea1b",
   "metadata": {
    "execution": {
     "iopub.execute_input": "2024-07-06T13:39:56.441124Z",
     "iopub.status.busy": "2024-07-06T13:39:56.440825Z",
     "iopub.status.idle": "2024-07-06T13:39:56.447829Z",
     "shell.execute_reply": "2024-07-06T13:39:56.444177Z",
     "shell.execute_reply.started": "2024-07-06T13:39:56.441104Z"
    }
   },
   "outputs": [],
   "source": [
    "obs_df = adataFilt.obs\n",
    "obs_df['Level1'] = pd.Categorical(obs_df['Level1'], categories=annotation_Level1_LowQFilt_sortednames)"
   ]
  },
  {
   "cell_type": "code",
   "execution_count": 31,
   "id": "1fb96c59-23fd-4478-a0a7-1198da7a7bb0",
   "metadata": {
    "execution": {
     "iopub.execute_input": "2024-07-06T13:39:58.711528Z",
     "iopub.status.busy": "2024-07-06T13:39:58.711236Z",
     "iopub.status.idle": "2024-07-06T13:39:58.817671Z",
     "shell.execute_reply": "2024-07-06T13:39:58.817245Z",
     "shell.execute_reply.started": "2024-07-06T13:39:58.711508Z"
    }
   },
   "outputs": [
    {
     "data": {
      "text/html": [
       "<div>\n",
       "<style scoped>\n",
       "    .dataframe tbody tr th:only-of-type {\n",
       "        vertical-align: middle;\n",
       "    }\n",
       "\n",
       "    .dataframe tbody tr th {\n",
       "        vertical-align: top;\n",
       "    }\n",
       "\n",
       "    .dataframe thead th {\n",
       "        text-align: right;\n",
       "    }\n",
       "</style>\n",
       "<table border=\"1\" class=\"dataframe\">\n",
       "  <thead>\n",
       "    <tr style=\"text-align: right;\">\n",
       "      <th>Level1</th>\n",
       "      <th>B</th>\n",
       "      <th>Plasma</th>\n",
       "      <th>pDC</th>\n",
       "      <th>DC</th>\n",
       "      <th>Mono</th>\n",
       "      <th>T_CD4_Naive</th>\n",
       "      <th>T_CD4_NonNaive</th>\n",
       "      <th>T_CD8_Naive</th>\n",
       "      <th>T_CD8_NonNaive</th>\n",
       "      <th>UTC</th>\n",
       "      <th>ILC</th>\n",
       "      <th>Cycling_cells</th>\n",
       "      <th>Progenitors</th>\n",
       "      <th>Platelets</th>\n",
       "      <th>RBC</th>\n",
       "    </tr>\n",
       "    <tr>\n",
       "      <th>disease</th>\n",
       "      <th></th>\n",
       "      <th></th>\n",
       "      <th></th>\n",
       "      <th></th>\n",
       "      <th></th>\n",
       "      <th></th>\n",
       "      <th></th>\n",
       "      <th></th>\n",
       "      <th></th>\n",
       "      <th></th>\n",
       "      <th></th>\n",
       "      <th></th>\n",
       "      <th></th>\n",
       "      <th></th>\n",
       "      <th></th>\n",
       "    </tr>\n",
       "  </thead>\n",
       "  <tbody>\n",
       "    <tr>\n",
       "      <th>healthy</th>\n",
       "      <td>5.823138</td>\n",
       "      <td>0.210189</td>\n",
       "      <td>0.787424</td>\n",
       "      <td>1.220902</td>\n",
       "      <td>18.525226</td>\n",
       "      <td>20.892542</td>\n",
       "      <td>17.928223</td>\n",
       "      <td>5.619210</td>\n",
       "      <td>11.117095</td>\n",
       "      <td>4.076011</td>\n",
       "      <td>9.722755</td>\n",
       "      <td>0.579613</td>\n",
       "      <td>0.152048</td>\n",
       "      <td>3.324005</td>\n",
       "      <td>0.021622</td>\n",
       "    </tr>\n",
       "    <tr>\n",
       "      <th>CRC</th>\n",
       "      <td>8.255487</td>\n",
       "      <td>0.266132</td>\n",
       "      <td>0.330780</td>\n",
       "      <td>1.148571</td>\n",
       "      <td>31.347577</td>\n",
       "      <td>15.585437</td>\n",
       "      <td>14.451951</td>\n",
       "      <td>2.672097</td>\n",
       "      <td>8.213466</td>\n",
       "      <td>3.223756</td>\n",
       "      <td>11.094590</td>\n",
       "      <td>0.604454</td>\n",
       "      <td>0.092661</td>\n",
       "      <td>2.104276</td>\n",
       "      <td>0.608764</td>\n",
       "    </tr>\n",
       "    <tr>\n",
       "      <th>HNSCC</th>\n",
       "      <td>5.052654</td>\n",
       "      <td>0.115812</td>\n",
       "      <td>0.452477</td>\n",
       "      <td>1.117725</td>\n",
       "      <td>32.804546</td>\n",
       "      <td>11.874815</td>\n",
       "      <td>18.435724</td>\n",
       "      <td>1.686014</td>\n",
       "      <td>12.308438</td>\n",
       "      <td>1.844919</td>\n",
       "      <td>13.038326</td>\n",
       "      <td>0.576369</td>\n",
       "      <td>0.056560</td>\n",
       "      <td>0.587142</td>\n",
       "      <td>0.048480</td>\n",
       "    </tr>\n",
       "    <tr>\n",
       "      <th>NPC</th>\n",
       "      <td>7.389490</td>\n",
       "      <td>0.609569</td>\n",
       "      <td>0.033751</td>\n",
       "      <td>0.299671</td>\n",
       "      <td>5.789883</td>\n",
       "      <td>12.495142</td>\n",
       "      <td>17.438174</td>\n",
       "      <td>4.774275</td>\n",
       "      <td>32.611942</td>\n",
       "      <td>3.883445</td>\n",
       "      <td>12.560599</td>\n",
       "      <td>1.087201</td>\n",
       "      <td>0.039888</td>\n",
       "      <td>0.986970</td>\n",
       "      <td>0.000000</td>\n",
       "    </tr>\n",
       "    <tr>\n",
       "      <th>BRCA</th>\n",
       "      <td>11.892168</td>\n",
       "      <td>0.315562</td>\n",
       "      <td>0.474845</td>\n",
       "      <td>1.247220</td>\n",
       "      <td>12.703612</td>\n",
       "      <td>14.759272</td>\n",
       "      <td>17.205626</td>\n",
       "      <td>5.160185</td>\n",
       "      <td>14.407646</td>\n",
       "      <td>1.686001</td>\n",
       "      <td>6.999459</td>\n",
       "      <td>0.892589</td>\n",
       "      <td>0.135241</td>\n",
       "      <td>12.117569</td>\n",
       "      <td>0.003005</td>\n",
       "    </tr>\n",
       "  </tbody>\n",
       "</table>\n",
       "</div>"
      ],
      "text/plain": [
       "Level1           B    Plasma       pDC        DC       Mono  T_CD4_Naive  \\\n",
       "disease                                                                    \n",
       "healthy   5.823138  0.210189  0.787424  1.220902  18.525226    20.892542   \n",
       "CRC       8.255487  0.266132  0.330780  1.148571  31.347577    15.585437   \n",
       "HNSCC     5.052654  0.115812  0.452477  1.117725  32.804546    11.874815   \n",
       "NPC       7.389490  0.609569  0.033751  0.299671   5.789883    12.495142   \n",
       "BRCA     11.892168  0.315562  0.474845  1.247220  12.703612    14.759272   \n",
       "\n",
       "Level1   T_CD4_NonNaive  T_CD8_Naive  T_CD8_NonNaive       UTC        ILC  \\\n",
       "disease                                                                     \n",
       "healthy       17.928223     5.619210       11.117095  4.076011   9.722755   \n",
       "CRC           14.451951     2.672097        8.213466  3.223756  11.094590   \n",
       "HNSCC         18.435724     1.686014       12.308438  1.844919  13.038326   \n",
       "NPC           17.438174     4.774275       32.611942  3.883445  12.560599   \n",
       "BRCA          17.205626     5.160185       14.407646  1.686001   6.999459   \n",
       "\n",
       "Level1   Cycling_cells  Progenitors  Platelets       RBC  \n",
       "disease                                                   \n",
       "healthy       0.579613     0.152048   3.324005  0.021622  \n",
       "CRC           0.604454     0.092661   2.104276  0.608764  \n",
       "HNSCC         0.576369     0.056560   0.587142  0.048480  \n",
       "NPC           1.087201     0.039888   0.986970  0.000000  \n",
       "BRCA          0.892589     0.135241  12.117569  0.003005  "
      ]
     },
     "execution_count": 31,
     "metadata": {},
     "output_type": "execute_result"
    }
   ],
   "source": [
    "agg_data = obs_df.groupby(['disease', 'Level1']).size().unstack(fill_value=0)\n",
    "agg_data = agg_data.div(agg_data.sum(axis=1), axis=0) * 100  # Calculate percentages\n",
    "\n",
    "agg_data.index = agg_data.index.astype(str)\n",
    "agg_data = agg_data.reindex(disease_sortednames)\n",
    "agg_data.head()"
   ]
  },
  {
   "cell_type": "code",
   "execution_count": 44,
   "id": "97f7d5ed-fbfc-4792-85a0-a6ac1331d28d",
   "metadata": {
    "execution": {
     "iopub.execute_input": "2024-07-06T13:45:45.743162Z",
     "iopub.status.busy": "2024-07-06T13:45:45.742881Z",
     "iopub.status.idle": "2024-07-06T13:45:47.182602Z",
     "shell.execute_reply": "2024-07-06T13:45:47.182042Z",
     "shell.execute_reply.started": "2024-07-06T13:45:45.743144Z"
    }
   },
   "outputs": [
    {
     "data": {
      "image/png": "[encoded data removed]",
      "text/plain": [
       "<Figure size 800x800 with 1 Axes>"
      ]
     },
     "metadata": {
      "image/png": {
       "height": 777,
       "width": 951
      }
     },
     "output_type": "display_data"
    }
   ],
   "source": [
    "# Plotting the stacked bar plot\n",
    "\n",
    "fig, ax = plt.subplots(figsize=(8, 8))\n",
    "agg_data.plot(kind='bar', stacked=True, color=annotation_Level1_palette, width=0.8, ax=ax)\n",
    "\n",
    "# Adding labels and title\n",
    "ax.xaxis.grid(False)\n",
    "plt.xticks(rotation=90)\n",
    "plt.legend(bbox_to_anchor=(1.3, 0.9), ncol=1, frameon=False)\n",
    "plt.tight_layout()\n",
    "\n",
    "plt.savefig(here(f\"02_fromCellLineages_to_CellTypes/figures/MAINdata_Level1Proportions_overview.pdf\"),\n",
    "dpi=300,\n",
    "bbox_inches='tight',\n",
    "pad_inches=0.1\n",
    ")\n",
    "\n",
    "plt.show()"
   ]
  }
 ],
 "metadata": {
  "kernelspec": {
   "display_name": "Python 3 (ipykernel)",
   "language": "python",
   "name": "python3"
  },
  "language_info": {
   "codemirror_mode": {
    "name": "ipython",
    "version": 3
   },
   "file_extension": ".py",
   "mimetype": "text/x-python",
   "name": "python",
   "nbconvert_exporter": "python",
   "pygments_lexer": "ipython3",
   "version": "3.10.13"
  }
 },
 "nbformat": 4,
 "nbformat_minor": 5
}
