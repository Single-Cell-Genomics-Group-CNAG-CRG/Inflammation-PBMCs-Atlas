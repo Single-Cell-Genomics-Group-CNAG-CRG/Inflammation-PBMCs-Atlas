{
 "cells": [
  {
   "cell_type": "code",
   "execution_count": 1,
   "id": "2dd1425a-0c07-465e-b522-9e3cc5cb93a7",
   "metadata": {
    "execution": {
     "iopub.execute_input": "2024-05-06T16:38:45.329679Z",
     "iopub.status.busy": "2024-05-06T16:38:45.328854Z",
     "iopub.status.idle": "2024-05-06T16:38:56.970375Z",
     "shell.execute_reply": "2024-05-06T16:38:56.969650Z"
    },
    "papermill": {
     "duration": 11.655708,
     "end_time": "2024-05-06T16:38:56.972354",
     "exception": false,
     "start_time": "2024-05-06T16:38:45.316646",
     "status": "completed"
    },
    "tags": []
   },
   "outputs": [
    {
     "data": {
      "text/plain": [
       "True"
      ]
     },
     "execution_count": 1,
     "metadata": {},
     "output_type": "execute_result"
    }
   ],
   "source": [
    "import os\n",
    "import sys\n",
    "\n",
    "import numpy as np\n",
    "import matplotlib.pyplot as plt\n",
    "\n",
    "import scanpy as sc\n",
    "import scvi\n",
    "import torch\n",
    "\n",
    "from pytorch_lightning.loggers import WandbLogger\n",
    "import wandb\n",
    "from dotenv import load_dotenv\n",
    "\n",
    "import session_info\n",
    "import warnings\n",
    "from pyprojroot.here import here\n",
    "\n",
    "warnings.filterwarnings(\"ignore\")\n",
    "sys.path.insert(1, str(here('bin')))\n",
    "\n",
    "torch.set_float32_matmul_precision('high')\n",
    "\n",
    "#plt.style.use(['science','nature','no-latex'])\n",
    "dpi_fig_save = 300\n",
    "sc.set_figure_params(dpi=100, dpi_save=dpi_fig_save, vector_friendly=True)\n",
    "\n",
    "load_dotenv(here('.env'))"
   ]
  },
  {
   "cell_type": "code",
   "execution_count": 2,
   "id": "09c897fc-744b-43de-a681-718fb5d327fa",
   "metadata": {
    "execution": {
     "iopub.execute_input": "2024-05-06T16:38:56.983500Z",
     "iopub.status.busy": "2024-05-06T16:38:56.983197Z",
     "iopub.status.idle": "2024-05-06T16:38:56.987418Z",
     "shell.execute_reply": "2024-05-06T16:38:56.986683Z"
    },
    "papermill": {
     "duration": 0.010948,
     "end_time": "2024-05-06T16:38:56.989054",
     "exception": false,
     "start_time": "2024-05-06T16:38:56.978106",
     "status": "completed"
    },
    "tags": []
   },
   "outputs": [],
   "source": [
    "class CustomWandbLogger(WandbLogger):\n",
    "    @property\n",
    "    def save_dir(self):\n",
    "        return self.experiment.dir"
   ]
  },
  {
   "cell_type": "code",
   "execution_count": 3,
   "id": "8ee6662f-5d45-4137-80a5-bb0b9ae8d71f",
   "metadata": {
    "execution": {
     "iopub.execute_input": "2024-05-06T16:38:56.997920Z",
     "iopub.status.busy": "2024-05-06T16:38:56.997455Z",
     "iopub.status.idle": "2024-05-06T16:38:57.006129Z",
     "shell.execute_reply": "2024-05-06T16:38:57.005461Z"
    },
    "papermill": {
     "duration": 0.015109,
     "end_time": "2024-05-06T16:38:57.007841",
     "exception": false,
     "start_time": "2024-05-06T16:38:56.992732",
     "status": "completed"
    },
    "tags": []
   },
   "outputs": [
    {
     "name": "stderr",
     "output_type": "stream",
     "text": [
      "Seed set to 0\n"
     ]
    },
    {
     "name": "stdout",
     "output_type": "stream",
     "text": [
      "Last run with scvi-tools version: 1.1.2\n"
     ]
    }
   ],
   "source": [
    "scvi.settings.seed = 0\n",
    "print(\"Last run with scvi-tools version:\", scvi.__version__)"
   ]
  },
  {
   "cell_type": "markdown",
   "id": "a81037ff-5998-482a-ba86-520f757311a9",
   "metadata": {
    "papermill": {
     "duration": 0.00549,
     "end_time": "2024-05-06T16:38:57.017158",
     "exception": false,
     "start_time": "2024-05-06T16:38:57.011668",
     "status": "completed"
    },
    "tags": []
   },
   "source": [
    "**Setting parameters** "
   ]
  },
  {
   "cell_type": "code",
   "execution_count": 4,
   "id": "56c27966-8f10-4c93-8b1a-1fa75f005e41",
   "metadata": {
    "execution": {
     "iopub.execute_input": "2024-05-06T16:38:57.026407Z",
     "iopub.status.busy": "2024-05-06T16:38:57.025919Z",
     "iopub.status.idle": "2024-05-06T16:38:57.029289Z",
     "shell.execute_reply": "2024-05-06T16:38:57.028666Z"
    },
    "papermill": {
     "duration": 0.009901,
     "end_time": "2024-05-06T16:38:57.030950",
     "exception": false,
     "start_time": "2024-05-06T16:38:57.021049",
     "status": "completed"
    },
    "tags": []
   },
   "outputs": [],
   "source": [
    "overwriteFigures = True\n",
    "overwriteData = True"
   ]
  },
  {
   "cell_type": "code",
   "execution_count": 5,
   "id": "c86fccd3-a4fe-415b-8f4e-e2ceb3ec128a",
   "metadata": {
    "execution": {
     "iopub.execute_input": "2024-05-06T16:38:57.040096Z",
     "iopub.status.busy": "2024-05-06T16:38:57.039638Z",
     "iopub.status.idle": "2024-05-06T16:38:57.042967Z",
     "shell.execute_reply": "2024-05-06T16:38:57.042348Z"
    },
    "papermill": {
     "duration": 0.00984,
     "end_time": "2024-05-06T16:38:57.044578",
     "exception": false,
     "start_time": "2024-05-06T16:38:57.034738",
     "status": "completed"
    },
    "tags": []
   },
   "outputs": [],
   "source": [
    "cellGroup = 'B'\n",
    "workDir = os.getcwd()"
   ]
  },
  {
   "cell_type": "code",
   "execution_count": 6,
   "id": "2dee4d55-d168-467b-b867-a61fed9d6af1",
   "metadata": {
    "execution": {
     "iopub.execute_input": "2024-05-06T16:38:57.053856Z",
     "iopub.status.busy": "2024-05-06T16:38:57.053403Z",
     "iopub.status.idle": "2024-05-06T16:38:57.056910Z",
     "shell.execute_reply": "2024-05-06T16:38:57.056285Z"
    },
    "papermill": {
     "duration": 0.009995,
     "end_time": "2024-05-06T16:38:57.058480",
     "exception": false,
     "start_time": "2024-05-06T16:38:57.048485",
     "status": "completed"
    },
    "tags": []
   },
   "outputs": [],
   "source": [
    "annotationLevel = os.path.basename(os.path.normpath(workDir))"
   ]
  },
  {
   "cell_type": "code",
   "execution_count": 7,
   "id": "11e53cd5-b746-4152-89cb-c2f0c15d90b3",
   "metadata": {
    "execution": {
     "iopub.execute_input": "2024-05-06T16:38:57.067809Z",
     "iopub.status.busy": "2024-05-06T16:38:57.067351Z",
     "iopub.status.idle": "2024-05-06T16:38:57.071941Z",
     "shell.execute_reply": "2024-05-06T16:38:57.071284Z"
    },
    "papermill": {
     "duration": 0.011104,
     "end_time": "2024-05-06T16:38:57.073540",
     "exception": false,
     "start_time": "2024-05-06T16:38:57.062436",
     "status": "completed"
    },
    "tags": []
   },
   "outputs": [
    {
     "data": {
      "text/plain": [
       "'/home/jupyter/Inflammation-PBMCs-Atlas/02_cell_annotation/02_fromCellLineages_to_CellTypes/Step4'"
      ]
     },
     "execution_count": 7,
     "metadata": {},
     "output_type": "execute_result"
    }
   ],
   "source": [
    "workDir"
   ]
  },
  {
   "cell_type": "markdown",
   "id": "171d2f06-9a44-4fcb-b437-35dc546674b6",
   "metadata": {
    "papermill": {
     "duration": 0.004121,
     "end_time": "2024-05-06T16:38:57.081693",
     "exception": false,
     "start_time": "2024-05-06T16:38:57.077572",
     "status": "completed"
    },
    "tags": []
   },
   "source": [
    "**Load data**"
   ]
  },
  {
   "cell_type": "code",
   "execution_count": 8,
   "id": "429f34fe-dde6-4cc9-9f75-7de8f85c5ffe",
   "metadata": {
    "execution": {
     "iopub.execute_input": "2024-05-06T16:38:57.091723Z",
     "iopub.status.busy": "2024-05-06T16:38:57.090949Z",
     "iopub.status.idle": "2024-05-06T16:39:03.291246Z",
     "shell.execute_reply": "2024-05-06T16:39:03.290524Z"
    },
    "papermill": {
     "duration": 6.207105,
     "end_time": "2024-05-06T16:39:03.293005",
     "exception": false,
     "start_time": "2024-05-06T16:38:57.085900",
     "status": "completed"
    },
    "tags": []
   },
   "outputs": [
    {
     "data": {
      "text/plain": [
       "AnnData object with n_obs × n_vars = 356874 × 2044\n",
       "    obs: 'studyID', 'libraryID', 'sampleID', 'chemistry', 'technology', 'patientID', 'disease', 'timepoint_replicate', 'treatmentStatus', 'therapyResponse', 'sex', 'age', 'BMI', 'binned_age', 'diseaseStatus', 'smokingStatus', 'ethnicity', 'institute', 'diseaseGroup', 'n_genes_by_counts', 'log1p_n_genes_by_counts', 'total_counts', 'log1p_total_counts', 'pct_counts_in_top_20_genes', 'total_counts_mt', 'log1p_total_counts_mt', 'pct_counts_mt', 'total_counts_ribo', 'log1p_total_counts_ribo', 'pct_counts_ribo', 'total_counts_hb', 'log1p_total_counts_hb', 'pct_counts_hb', 'total_counts_plt', 'log1p_total_counts_plt', 'pct_counts_plt', 'doublet_score', 'predicted_doublet', 'S_score', 'G2M_score', 'phase'\n",
       "    var: 'hgnc_id', 'symbol', 'locus_group', 'HUGO_status', 'mt', 'ribo', 'hb', 'plt', 'n_cells_by_counts', 'mean_counts', 'log1p_mean_counts', 'pct_dropout_by_counts', 'total_counts', 'log1p_total_counts', 'highly_variable'\n",
       "    uns: 'chemistry_colors', 'log1p'\n",
       "    layers: 'counts', 'log1p_10e4_counts'"
      ]
     },
     "execution_count": 8,
     "metadata": {},
     "output_type": "execute_result"
    }
   ],
   "source": [
    "adata = sc.read_h5ad(here(f\"{workDir}/{cellGroup}/results/01_{cellGroup}_normalized_HVGsubset.h5ad\"))\n",
    "adata"
   ]
  },
  {
   "cell_type": "markdown",
   "id": "8ac79f3b-d5af-41fa-8904-1e9ac1cbe2fb",
   "metadata": {
    "papermill": {
     "duration": 0.004253,
     "end_time": "2024-05-06T16:39:03.301692",
     "exception": false,
     "start_time": "2024-05-06T16:39:03.297439",
     "status": "completed"
    },
    "tags": []
   },
   "source": [
    "## scVI integration"
   ]
  },
  {
   "cell_type": "markdown",
   "id": "9544847d-d17f-4811-b14b-760446d54d32",
   "metadata": {
    "execution": {
     "iopub.execute_input": "2024-03-25T16:49:04.004504Z",
     "iopub.status.busy": "2024-03-25T16:49:04.004143Z",
     "iopub.status.idle": "2024-03-25T16:49:04.010148Z",
     "shell.execute_reply": "2024-03-25T16:49:04.009146Z",
     "shell.execute_reply.started": "2024-03-25T16:49:04.004477Z"
    },
    "papermill": {
     "duration": 0.00417,
     "end_time": "2024-05-06T16:39:03.309998",
     "exception": false,
     "start_time": "2024-05-06T16:39:03.305828",
     "status": "completed"
    },
    "tags": []
   },
   "source": [
    "**scVI parameters**"
   ]
  },
  {
   "cell_type": "code",
   "execution_count": 9,
   "id": "208966eb-545a-4c02-854c-0ed0487ef5b3",
   "metadata": {
    "execution": {
     "iopub.execute_input": "2024-05-06T16:39:03.320556Z",
     "iopub.status.busy": "2024-05-06T16:39:03.319615Z",
     "iopub.status.idle": "2024-05-06T16:39:03.325937Z",
     "shell.execute_reply": "2024-05-06T16:39:03.325231Z"
    },
    "papermill": {
     "duration": 0.013397,
     "end_time": "2024-05-06T16:39:03.327619",
     "exception": false,
     "start_time": "2024-05-06T16:39:03.314222",
     "status": "completed"
    },
    "tags": []
   },
   "outputs": [],
   "source": [
    "# https://docs.scvi-tools.org/en/stable/api/reference/scvi.train.Trainer.html#scvi.train.Trainer\n",
    "setup_kwargs = dict(\n",
    "    layer=\"counts\", \n",
    "    batch_key='libraryID', \n",
    "    categorical_covariate_keys = ['studyID', 'chemistry', 'disease', 'sampleID'],\n",
    "    labels_key = 'chemistry'    \n",
    ")\n",
    "\n",
    "scvi_kwargs = dict(n_hidden=512,\n",
    "                   n_latent=10, # reduced to 20 after step 00 (main) and to 10 after step 03\n",
    "                   n_layers=2,\n",
    "                   gene_likelihood='nb',\n",
    "                   dispersion='gene-label')\n",
    "\n",
    "trainer_kwargs = dict(\n",
    "    checkpointing_monitor = 'elbo_validation',\n",
    "    early_stopping_monitor = 'reconstruction_loss_validation',\n",
    "    early_stopping_patience = 10,\n",
    "    early_stopping_min_delta=0.1,\n",
    "    early_stopping = True,\n",
    "    max_epochs = 1000,\n",
    "\n",
    "    #logger = # wandb\n",
    ")\n",
    "# https://docs.scvi-tools.org/en/stable/api/reference/scvi.train.TrainingPlan.html#scvi.train.TrainingPlan\n",
    "plan_kwargs = dict(\n",
    "    lr = 5e-4,\n",
    "    #reduce_lr_on_plateau = True\n",
    ")\n",
    "\n",
    "# https://docs.scvi-tools.org/en/stable/api/reference/scvi.module.VAE.html#scvi.module.VAE\n",
    "#vae = dict(\n",
    "#    use_layer_norm='both',\n",
    "#    use_batch_norm='none',\n",
    "#    encode_covariates=True,\n",
    "#    deeply_inject_covariates=False\n",
    "#)\n",
    "parameter_dict = setup_kwargs | scvi_kwargs | trainer_kwargs | plan_kwargs"
   ]
  },
  {
   "cell_type": "markdown",
   "id": "1362366a-c16b-4c11-964b-b9c5f82f7b29",
   "metadata": {
    "papermill": {
     "duration": 0.004236,
     "end_time": "2024-05-06T16:39:03.336115",
     "exception": false,
     "start_time": "2024-05-06T16:39:03.331879",
     "status": "completed"
    },
    "tags": []
   },
   "source": [
    "**wandb parameter**"
   ]
  },
  {
   "cell_type": "code",
   "execution_count": 10,
   "id": "0496e33a-8ca5-423f-b42f-34a59760708c",
   "metadata": {
    "execution": {
     "iopub.execute_input": "2024-05-06T16:39:03.346449Z",
     "iopub.status.busy": "2024-05-06T16:39:03.345693Z",
     "iopub.status.idle": "2024-05-06T16:39:03.350632Z",
     "shell.execute_reply": "2024-05-06T16:39:03.349996Z"
    },
    "papermill": {
     "duration": 0.011997,
     "end_time": "2024-05-06T16:39:03.352438",
     "exception": false,
     "start_time": "2024-05-06T16:39:03.340441",
     "status": "completed"
    },
    "tags": []
   },
   "outputs": [
    {
     "data": {
      "text/plain": [
       "'Step4_B'"
      ]
     },
     "execution_count": 10,
     "metadata": {},
     "output_type": "execute_result"
    }
   ],
   "source": [
    "run_name = f\"{annotationLevel}_{cellGroup}\"\n",
    "run_name"
   ]
  },
  {
   "cell_type": "code",
   "execution_count": 11,
   "id": "b0021327-95a2-4002-bf32-2c5779a99505",
   "metadata": {
    "execution": {
     "iopub.execute_input": "2024-05-06T16:39:03.362655Z",
     "iopub.status.busy": "2024-05-06T16:39:03.362078Z",
     "iopub.status.idle": "2024-05-06T16:39:03.505799Z",
     "shell.execute_reply": "2024-05-06T16:39:03.504916Z"
    },
    "papermill": {
     "duration": 0.151432,
     "end_time": "2024-05-06T16:39:03.508097",
     "exception": false,
     "start_time": "2024-05-06T16:39:03.356665",
     "status": "completed"
    },
    "tags": []
   },
   "outputs": [],
   "source": [
    "logger = CustomWandbLogger(name = run_name, project='inflammation_atlas_R1', config=parameter_dict)"
   ]
  },
  {
   "cell_type": "markdown",
   "id": "c237eee1-a976-4915-9b7f-b014bf33f47d",
   "metadata": {
    "papermill": {
     "duration": 0.004413,
     "end_time": "2024-05-06T16:39:03.517282",
     "exception": false,
     "start_time": "2024-05-06T16:39:03.512869",
     "status": "completed"
    },
    "tags": []
   },
   "source": [
    "**Running integration**"
   ]
  },
  {
   "cell_type": "code",
   "execution_count": 12,
   "id": "aff97c53-1aba-462e-8a77-f1aec9cf724c",
   "metadata": {
    "execution": {
     "iopub.execute_input": "2024-05-06T16:39:03.528149Z",
     "iopub.status.busy": "2024-05-06T16:39:03.527515Z",
     "iopub.status.idle": "2024-05-06T16:39:04.036218Z",
     "shell.execute_reply": "2024-05-06T16:39:04.035398Z"
    },
    "papermill": {
     "duration": 0.516557,
     "end_time": "2024-05-06T16:39:04.038352",
     "exception": false,
     "start_time": "2024-05-06T16:39:03.521795",
     "status": "completed"
    },
    "tags": []
   },
   "outputs": [],
   "source": [
    "scvi.model.SCVI.setup_anndata(adata, \n",
    "                              **setup_kwargs)"
   ]
  },
  {
   "cell_type": "code",
   "execution_count": 13,
   "id": "1a56f448-cf44-47c1-81a4-a89caa930fec",
   "metadata": {
    "execution": {
     "iopub.execute_input": "2024-05-06T16:39:04.048971Z",
     "iopub.status.busy": "2024-05-06T16:39:04.048663Z",
     "iopub.status.idle": "2024-05-06T16:39:04.550376Z",
     "shell.execute_reply": "2024-05-06T16:39:04.549397Z"
    },
    "papermill": {
     "duration": 0.509562,
     "end_time": "2024-05-06T16:39:04.552634",
     "exception": false,
     "start_time": "2024-05-06T16:39:04.043072",
     "status": "completed"
    },
    "tags": []
   },
   "outputs": [],
   "source": [
    "model = scvi.model.SCVI(adata, **scvi_kwargs)"
   ]
  },
  {
   "cell_type": "code",
   "execution_count": 14,
   "id": "2735f010-4f24-4ae8-9740-a8cfeb335e9a",
   "metadata": {
    "execution": {
     "iopub.execute_input": "2024-05-06T16:39:04.563435Z",
     "iopub.status.busy": "2024-05-06T16:39:04.562636Z",
     "iopub.status.idle": "2024-05-06T16:53:56.347657Z",
     "shell.execute_reply": "2024-05-06T16:53:56.346700Z"
    },
    "papermill": {
     "duration": 891.792476,
     "end_time": "2024-05-06T16:53:56.349631",
     "exception": false,
     "start_time": "2024-05-06T16:39:04.557155",
     "status": "completed"
    },
    "tags": []
   },
   "outputs": [
    {
     "name": "stderr",
     "output_type": "stream",
     "text": [
      "GPU available: True (cuda), used: True\n"
     ]
    },
    {
     "name": "stderr",
     "output_type": "stream",
     "text": [
      "TPU available: False, using: 0 TPU cores\n"
     ]
    },
    {
     "name": "stderr",
     "output_type": "stream",
     "text": [
      "IPU available: False, using: 0 IPUs\n"
     ]
    },
    {
     "name": "stderr",
     "output_type": "stream",
     "text": [
      "HPU available: False, using: 0 HPUs\n"
     ]
    },
    {
     "name": "stderr",
     "output_type": "stream",
     "text": [
      "\u001b[34m\u001b[1mwandb\u001b[0m: Currently logged in as: \u001b[33mdav1989\u001b[0m (\u001b[33minflammation\u001b[0m). Use \u001b[1m`wandb login --relogin`\u001b[0m to force relogin\n"
     ]
    },
    {
     "name": "stderr",
     "output_type": "stream",
     "text": [
      "\u001b[34m\u001b[1mwandb\u001b[0m: wandb version 0.16.6 is available!  To upgrade, please run:\n",
      "\u001b[34m\u001b[1mwandb\u001b[0m:  $ pip install wandb --upgrade\n"
     ]
    },
    {
     "name": "stderr",
     "output_type": "stream",
     "text": [
      "\u001b[34m\u001b[1mwandb\u001b[0m: Tracking run with wandb version 0.16.3\n"
     ]
    },
    {
     "name": "stderr",
     "output_type": "stream",
     "text": [
      "\u001b[34m\u001b[1mwandb\u001b[0m: Run data is saved locally in \u001b[35m\u001b[1m./wandb/run-20240506_163910-c2ka2i6v\u001b[0m\n",
      "\u001b[34m\u001b[1mwandb\u001b[0m: Run \u001b[1m`wandb offline`\u001b[0m to turn off syncing.\n"
     ]
    },
    {
     "name": "stderr",
     "output_type": "stream",
     "text": [
      "\u001b[34m\u001b[1mwandb\u001b[0m: Syncing run \u001b[33mStep4_B\u001b[0m\n"
     ]
    },
    {
     "name": "stderr",
     "output_type": "stream",
     "text": [
      "\u001b[34m\u001b[1mwandb\u001b[0m: ⭐️ View project at \u001b[34m\u001b[4mhttps://wandb.ai/inflammation/inflammation_atlas_R1\u001b[0m\n"
     ]
    },
    {
     "name": "stderr",
     "output_type": "stream",
     "text": [
      "\u001b[34m\u001b[1mwandb\u001b[0m: 🚀 View run at \u001b[34m\u001b[4mhttps://wandb.ai/inflammation/inflammation_atlas_R1/runs/c2ka2i6v\u001b[0m\n"
     ]
    },
    {
     "name": "stderr",
     "output_type": "stream",
     "text": [
      "LOCAL_RANK: 0 - CUDA_VISIBLE_DEVICES: [0]\n"
     ]
    },
    {
     "name": "stdout",
     "output_type": "stream",
     "text": [
      "\r",
      "Training:   0%|          | 0/1000 [00:00<?, ?it/s]"
     ]
    },
    {
     "name": "stdout",
     "output_type": "stream",
     "text": [
      "\r",
      "Epoch 1/1000:   0%|          | 0/1000 [00:00<?, ?it/s]"
     ]
    },
    {
     "name": "stdout",
     "output_type": "stream",
     "text": [
      "\r",
      "Epoch 1/1000:   0%|          | 1/1000 [00:35<9:46:46, 35.24s/it]"
     ]
    },
    {
     "name": "stdout",
     "output_type": "stream",
     "text": [
      "\r",
      "Epoch 1/1000:   0%|          | 1/1000 [00:35<9:46:46, 35.24s/it, v_num=2i6v, train_loss_step=508, train_loss_epoch=504]"
     ]
    },
    {
     "name": "stdout",
     "output_type": "stream",
     "text": [
      "\r",
      "Epoch 2/1000:   0%|          | 1/1000 [00:35<9:46:46, 35.24s/it, v_num=2i6v, train_loss_step=508, train_loss_epoch=504]"
     ]
    },
    {
     "name": "stdout",
     "output_type": "stream",
     "text": [
      "\r",
      "Epoch 2/1000:   0%|          | 2/1000 [01:08<9:25:49, 34.02s/it, v_num=2i6v, train_loss_step=508, train_loss_epoch=504]"
     ]
    },
    {
     "name": "stdout",
     "output_type": "stream",
     "text": [
      "\r",
      "Epoch 2/1000:   0%|          | 2/1000 [01:08<9:25:49, 34.02s/it, v_num=2i6v, train_loss_step=519, train_loss_epoch=492]"
     ]
    },
    {
     "name": "stdout",
     "output_type": "stream",
     "text": [
      "\r",
      "Epoch 3/1000:   0%|          | 2/1000 [01:08<9:25:49, 34.02s/it, v_num=2i6v, train_loss_step=519, train_loss_epoch=492]"
     ]
    },
    {
     "name": "stdout",
     "output_type": "stream",
     "text": [
      "\r",
      "Epoch 3/1000:   0%|          | 3/1000 [01:41<9:19:49, 33.69s/it, v_num=2i6v, train_loss_step=519, train_loss_epoch=492]"
     ]
    },
    {
     "name": "stdout",
     "output_type": "stream",
     "text": [
      "\r",
      "Epoch 3/1000:   0%|          | 3/1000 [01:41<9:19:49, 33.69s/it, v_num=2i6v, train_loss_step=477, train_loss_epoch=488]"
     ]
    },
    {
     "name": "stdout",
     "output_type": "stream",
     "text": [
      "\r",
      "Epoch 4/1000:   0%|          | 3/1000 [01:41<9:19:49, 33.69s/it, v_num=2i6v, train_loss_step=477, train_loss_epoch=488]"
     ]
    },
    {
     "name": "stdout",
     "output_type": "stream",
     "text": [
      "\r",
      "Epoch 4/1000:   0%|          | 4/1000 [02:15<9:19:05, 33.68s/it, v_num=2i6v, train_loss_step=477, train_loss_epoch=488]"
     ]
    },
    {
     "name": "stdout",
     "output_type": "stream",
     "text": [
      "\r",
      "Epoch 4/1000:   0%|          | 4/1000 [02:15<9:19:05, 33.68s/it, v_num=2i6v, train_loss_step=455, train_loss_epoch=487]"
     ]
    },
    {
     "name": "stdout",
     "output_type": "stream",
     "text": [
      "\r",
      "Epoch 5/1000:   0%|          | 4/1000 [02:15<9:19:05, 33.68s/it, v_num=2i6v, train_loss_step=455, train_loss_epoch=487]"
     ]
    },
    {
     "name": "stdout",
     "output_type": "stream",
     "text": [
      "\r",
      "Epoch 5/1000:   0%|          | 5/1000 [02:48<9:16:19, 33.55s/it, v_num=2i6v, train_loss_step=455, train_loss_epoch=487]"
     ]
    },
    {
     "name": "stdout",
     "output_type": "stream",
     "text": [
      "\r",
      "Epoch 5/1000:   0%|          | 5/1000 [02:48<9:16:19, 33.55s/it, v_num=2i6v, train_loss_step=544, train_loss_epoch=485]"
     ]
    },
    {
     "name": "stdout",
     "output_type": "stream",
     "text": [
      "\r",
      "Epoch 6/1000:   0%|          | 5/1000 [02:48<9:16:19, 33.55s/it, v_num=2i6v, train_loss_step=544, train_loss_epoch=485]"
     ]
    },
    {
     "name": "stdout",
     "output_type": "stream",
     "text": [
      "\r",
      "Epoch 6/1000:   1%|          | 6/1000 [03:19<9:00:03, 32.60s/it, v_num=2i6v, train_loss_step=544, train_loss_epoch=485]"
     ]
    },
    {
     "name": "stdout",
     "output_type": "stream",
     "text": [
      "\r",
      "Epoch 6/1000:   1%|          | 6/1000 [03:19<9:00:03, 32.60s/it, v_num=2i6v, train_loss_step=476, train_loss_epoch=485]"
     ]
    },
    {
     "name": "stdout",
     "output_type": "stream",
     "text": [
      "\r",
      "Epoch 7/1000:   1%|          | 6/1000 [03:19<9:00:03, 32.60s/it, v_num=2i6v, train_loss_step=476, train_loss_epoch=485]"
     ]
    },
    {
     "name": "stdout",
     "output_type": "stream",
     "text": [
      "\r",
      "Epoch 7/1000:   1%|          | 7/1000 [03:49<8:45:32, 31.76s/it, v_num=2i6v, train_loss_step=476, train_loss_epoch=485]"
     ]
    },
    {
     "name": "stdout",
     "output_type": "stream",
     "text": [
      "\r",
      "Epoch 7/1000:   1%|          | 7/1000 [03:49<8:45:32, 31.76s/it, v_num=2i6v, train_loss_step=469, train_loss_epoch=484]"
     ]
    },
    {
     "name": "stdout",
     "output_type": "stream",
     "text": [
      "\r",
      "Epoch 8/1000:   1%|          | 7/1000 [03:49<8:45:32, 31.76s/it, v_num=2i6v, train_loss_step=469, train_loss_epoch=484]"
     ]
    },
    {
     "name": "stdout",
     "output_type": "stream",
     "text": [
      "\r",
      "Epoch 8/1000:   1%|          | 8/1000 [04:21<8:48:07, 31.94s/it, v_num=2i6v, train_loss_step=469, train_loss_epoch=484]"
     ]
    },
    {
     "name": "stdout",
     "output_type": "stream",
     "text": [
      "\r",
      "Epoch 8/1000:   1%|          | 8/1000 [04:21<8:48:07, 31.94s/it, v_num=2i6v, train_loss_step=476, train_loss_epoch=484]"
     ]
    },
    {
     "name": "stdout",
     "output_type": "stream",
     "text": [
      "\r",
      "Epoch 9/1000:   1%|          | 8/1000 [04:21<8:48:07, 31.94s/it, v_num=2i6v, train_loss_step=476, train_loss_epoch=484]"
     ]
    },
    {
     "name": "stdout",
     "output_type": "stream",
     "text": [
      "\r",
      "Epoch 9/1000:   1%|          | 9/1000 [04:55<8:58:29, 32.60s/it, v_num=2i6v, train_loss_step=476, train_loss_epoch=484]"
     ]
    },
    {
     "name": "stdout",
     "output_type": "stream",
     "text": [
      "\r",
      "Epoch 9/1000:   1%|          | 9/1000 [04:55<8:58:29, 32.60s/it, v_num=2i6v, train_loss_step=540, train_loss_epoch=483]"
     ]
    },
    {
     "name": "stdout",
     "output_type": "stream",
     "text": [
      "\r",
      "Epoch 10/1000:   1%|          | 9/1000 [04:55<8:58:29, 32.60s/it, v_num=2i6v, train_loss_step=540, train_loss_epoch=483]"
     ]
    },
    {
     "name": "stdout",
     "output_type": "stream",
     "text": [
      "\r",
      "Epoch 10/1000:   1%|          | 10/1000 [05:29<9:05:16, 33.05s/it, v_num=2i6v, train_loss_step=540, train_loss_epoch=483]"
     ]
    },
    {
     "name": "stdout",
     "output_type": "stream",
     "text": [
      "\r",
      "Epoch 10/1000:   1%|          | 10/1000 [05:29<9:05:16, 33.05s/it, v_num=2i6v, train_loss_step=538, train_loss_epoch=483]"
     ]
    },
    {
     "name": "stdout",
     "output_type": "stream",
     "text": [
      "\r",
      "Epoch 11/1000:   1%|          | 10/1000 [05:29<9:05:16, 33.05s/it, v_num=2i6v, train_loss_step=538, train_loss_epoch=483]"
     ]
    },
    {
     "name": "stdout",
     "output_type": "stream",
     "text": [
      "\r",
      "Epoch 11/1000:   1%|          | 11/1000 [06:03<9:05:13, 33.08s/it, v_num=2i6v, train_loss_step=538, train_loss_epoch=483]"
     ]
    },
    {
     "name": "stdout",
     "output_type": "stream",
     "text": [
      "\r",
      "Epoch 11/1000:   1%|          | 11/1000 [06:03<9:05:13, 33.08s/it, v_num=2i6v, train_loss_step=491, train_loss_epoch=483]"
     ]
    },
    {
     "name": "stdout",
     "output_type": "stream",
     "text": [
      "\r",
      "Epoch 12/1000:   1%|          | 11/1000 [06:03<9:05:13, 33.08s/it, v_num=2i6v, train_loss_step=491, train_loss_epoch=483]"
     ]
    },
    {
     "name": "stdout",
     "output_type": "stream",
     "text": [
      "\r",
      "Epoch 12/1000:   1%|          | 12/1000 [06:36<9:06:34, 33.19s/it, v_num=2i6v, train_loss_step=491, train_loss_epoch=483]"
     ]
    },
    {
     "name": "stdout",
     "output_type": "stream",
     "text": [
      "\r",
      "Epoch 12/1000:   1%|          | 12/1000 [06:36<9:06:34, 33.19s/it, v_num=2i6v, train_loss_step=480, train_loss_epoch=483]"
     ]
    },
    {
     "name": "stdout",
     "output_type": "stream",
     "text": [
      "\r",
      "Epoch 13/1000:   1%|          | 12/1000 [06:36<9:06:34, 33.19s/it, v_num=2i6v, train_loss_step=480, train_loss_epoch=483]"
     ]
    },
    {
     "name": "stdout",
     "output_type": "stream",
     "text": [
      "\r",
      "Epoch 13/1000:   1%|▏         | 13/1000 [07:09<9:07:25, 33.28s/it, v_num=2i6v, train_loss_step=480, train_loss_epoch=483]"
     ]
    },
    {
     "name": "stdout",
     "output_type": "stream",
     "text": [
      "\r",
      "Epoch 13/1000:   1%|▏         | 13/1000 [07:09<9:07:25, 33.28s/it, v_num=2i6v, train_loss_step=410, train_loss_epoch=483]"
     ]
    },
    {
     "name": "stdout",
     "output_type": "stream",
     "text": [
      "\r",
      "Epoch 14/1000:   1%|▏         | 13/1000 [07:09<9:07:25, 33.28s/it, v_num=2i6v, train_loss_step=410, train_loss_epoch=483]"
     ]
    },
    {
     "name": "stdout",
     "output_type": "stream",
     "text": [
      "\r",
      "Epoch 14/1000:   1%|▏         | 14/1000 [07:42<9:04:29, 33.13s/it, v_num=2i6v, train_loss_step=410, train_loss_epoch=483]"
     ]
    },
    {
     "name": "stdout",
     "output_type": "stream",
     "text": [
      "\r",
      "Epoch 14/1000:   1%|▏         | 14/1000 [07:42<9:04:29, 33.13s/it, v_num=2i6v, train_loss_step=464, train_loss_epoch=482]"
     ]
    },
    {
     "name": "stdout",
     "output_type": "stream",
     "text": [
      "\r",
      "Epoch 15/1000:   1%|▏         | 14/1000 [07:42<9:04:29, 33.13s/it, v_num=2i6v, train_loss_step=464, train_loss_epoch=482]"
     ]
    },
    {
     "name": "stdout",
     "output_type": "stream",
     "text": [
      "\r",
      "Epoch 15/1000:   2%|▏         | 15/1000 [08:15<9:02:52, 33.07s/it, v_num=2i6v, train_loss_step=464, train_loss_epoch=482]"
     ]
    },
    {
     "name": "stdout",
     "output_type": "stream",
     "text": [
      "\r",
      "Epoch 15/1000:   2%|▏         | 15/1000 [08:15<9:02:52, 33.07s/it, v_num=2i6v, train_loss_step=483, train_loss_epoch=482]"
     ]
    },
    {
     "name": "stdout",
     "output_type": "stream",
     "text": [
      "\r",
      "Epoch 16/1000:   2%|▏         | 15/1000 [08:15<9:02:52, 33.07s/it, v_num=2i6v, train_loss_step=483, train_loss_epoch=482]"
     ]
    },
    {
     "name": "stdout",
     "output_type": "stream",
     "text": [
      "\r",
      "Epoch 16/1000:   2%|▏         | 16/1000 [08:49<9:03:33, 33.14s/it, v_num=2i6v, train_loss_step=483, train_loss_epoch=482]"
     ]
    },
    {
     "name": "stdout",
     "output_type": "stream",
     "text": [
      "\r",
      "Epoch 16/1000:   2%|▏         | 16/1000 [08:49<9:03:33, 33.14s/it, v_num=2i6v, train_loss_step=515, train_loss_epoch=482]"
     ]
    },
    {
     "name": "stdout",
     "output_type": "stream",
     "text": [
      "\r",
      "Epoch 17/1000:   2%|▏         | 16/1000 [08:49<9:03:33, 33.14s/it, v_num=2i6v, train_loss_step=515, train_loss_epoch=482]"
     ]
    },
    {
     "name": "stdout",
     "output_type": "stream",
     "text": [
      "\r",
      "Epoch 17/1000:   2%|▏         | 17/1000 [09:21<8:59:10, 32.91s/it, v_num=2i6v, train_loss_step=515, train_loss_epoch=482]"
     ]
    },
    {
     "name": "stdout",
     "output_type": "stream",
     "text": [
      "\r",
      "Epoch 17/1000:   2%|▏         | 17/1000 [09:21<8:59:10, 32.91s/it, v_num=2i6v, train_loss_step=464, train_loss_epoch=482]"
     ]
    },
    {
     "name": "stdout",
     "output_type": "stream",
     "text": [
      "\r",
      "Epoch 18/1000:   2%|▏         | 17/1000 [09:21<8:59:10, 32.91s/it, v_num=2i6v, train_loss_step=464, train_loss_epoch=482]"
     ]
    },
    {
     "name": "stdout",
     "output_type": "stream",
     "text": [
      "\r",
      "Epoch 18/1000:   2%|▏         | 18/1000 [09:53<8:54:52, 32.68s/it, v_num=2i6v, train_loss_step=464, train_loss_epoch=482]"
     ]
    },
    {
     "name": "stdout",
     "output_type": "stream",
     "text": [
      "\r",
      "Epoch 18/1000:   2%|▏         | 18/1000 [09:53<8:54:52, 32.68s/it, v_num=2i6v, train_loss_step=469, train_loss_epoch=482]"
     ]
    },
    {
     "name": "stdout",
     "output_type": "stream",
     "text": [
      "\r",
      "Epoch 19/1000:   2%|▏         | 18/1000 [09:53<8:54:52, 32.68s/it, v_num=2i6v, train_loss_step=469, train_loss_epoch=482]"
     ]
    },
    {
     "name": "stdout",
     "output_type": "stream",
     "text": [
      "\r",
      "Epoch 19/1000:   2%|▏         | 19/1000 [10:25<8:52:59, 32.60s/it, v_num=2i6v, train_loss_step=469, train_loss_epoch=482]"
     ]
    },
    {
     "name": "stdout",
     "output_type": "stream",
     "text": [
      "\r",
      "Epoch 19/1000:   2%|▏         | 19/1000 [10:25<8:52:59, 32.60s/it, v_num=2i6v, train_loss_step=516, train_loss_epoch=482]"
     ]
    },
    {
     "name": "stdout",
     "output_type": "stream",
     "text": [
      "\r",
      "Epoch 20/1000:   2%|▏         | 19/1000 [10:25<8:52:59, 32.60s/it, v_num=2i6v, train_loss_step=516, train_loss_epoch=482]"
     ]
    },
    {
     "name": "stdout",
     "output_type": "stream",
     "text": [
      "\r",
      "Epoch 20/1000:   2%|▏         | 20/1000 [10:58<8:52:40, 32.61s/it, v_num=2i6v, train_loss_step=516, train_loss_epoch=482]"
     ]
    },
    {
     "name": "stdout",
     "output_type": "stream",
     "text": [
      "\r",
      "Epoch 20/1000:   2%|▏         | 20/1000 [10:58<8:52:40, 32.61s/it, v_num=2i6v, train_loss_step=505, train_loss_epoch=482]"
     ]
    },
    {
     "name": "stdout",
     "output_type": "stream",
     "text": [
      "\r",
      "Epoch 21/1000:   2%|▏         | 20/1000 [10:58<8:52:40, 32.61s/it, v_num=2i6v, train_loss_step=505, train_loss_epoch=482]"
     ]
    },
    {
     "name": "stdout",
     "output_type": "stream",
     "text": [
      "\r",
      "Epoch 21/1000:   2%|▏         | 21/1000 [11:30<8:49:11, 32.43s/it, v_num=2i6v, train_loss_step=505, train_loss_epoch=482]"
     ]
    },
    {
     "name": "stdout",
     "output_type": "stream",
     "text": [
      "\r",
      "Epoch 21/1000:   2%|▏         | 21/1000 [11:30<8:49:11, 32.43s/it, v_num=2i6v, train_loss_step=512, train_loss_epoch=482]"
     ]
    },
    {
     "name": "stdout",
     "output_type": "stream",
     "text": [
      "\r",
      "Epoch 22/1000:   2%|▏         | 21/1000 [11:30<8:49:11, 32.43s/it, v_num=2i6v, train_loss_step=512, train_loss_epoch=482]"
     ]
    },
    {
     "name": "stdout",
     "output_type": "stream",
     "text": [
      "\r",
      "Epoch 22/1000:   2%|▏         | 22/1000 [12:03<8:49:26, 32.48s/it, v_num=2i6v, train_loss_step=512, train_loss_epoch=482]"
     ]
    },
    {
     "name": "stdout",
     "output_type": "stream",
     "text": [
      "\r",
      "Epoch 22/1000:   2%|▏         | 22/1000 [12:03<8:49:26, 32.48s/it, v_num=2i6v, train_loss_step=447, train_loss_epoch=482]"
     ]
    },
    {
     "name": "stdout",
     "output_type": "stream",
     "text": [
      "\r",
      "Epoch 23/1000:   2%|▏         | 22/1000 [12:03<8:49:26, 32.48s/it, v_num=2i6v, train_loss_step=447, train_loss_epoch=482]"
     ]
    },
    {
     "name": "stdout",
     "output_type": "stream",
     "text": [
      "\r",
      "Epoch 23/1000:   2%|▏         | 23/1000 [12:35<8:49:28, 32.52s/it, v_num=2i6v, train_loss_step=447, train_loss_epoch=482]"
     ]
    },
    {
     "name": "stdout",
     "output_type": "stream",
     "text": [
      "\r",
      "Epoch 23/1000:   2%|▏         | 23/1000 [12:35<8:49:28, 32.52s/it, v_num=2i6v, train_loss_step=499, train_loss_epoch=482]"
     ]
    },
    {
     "name": "stdout",
     "output_type": "stream",
     "text": [
      "\r",
      "Epoch 24/1000:   2%|▏         | 23/1000 [12:35<8:49:28, 32.52s/it, v_num=2i6v, train_loss_step=499, train_loss_epoch=482]"
     ]
    },
    {
     "name": "stdout",
     "output_type": "stream",
     "text": [
      "\r",
      "Epoch 24/1000:   2%|▏         | 24/1000 [13:07<8:47:15, 32.41s/it, v_num=2i6v, train_loss_step=499, train_loss_epoch=482]"
     ]
    },
    {
     "name": "stdout",
     "output_type": "stream",
     "text": [
      "\r",
      "Epoch 24/1000:   2%|▏         | 24/1000 [13:07<8:47:15, 32.41s/it, v_num=2i6v, train_loss_step=555, train_loss_epoch=482]"
     ]
    },
    {
     "name": "stdout",
     "output_type": "stream",
     "text": [
      "\r",
      "Epoch 25/1000:   2%|▏         | 24/1000 [13:07<8:47:15, 32.41s/it, v_num=2i6v, train_loss_step=555, train_loss_epoch=482]"
     ]
    },
    {
     "name": "stdout",
     "output_type": "stream",
     "text": [
      "\r",
      "Epoch 25/1000:   2%|▎         | 25/1000 [13:40<8:48:30, 32.52s/it, v_num=2i6v, train_loss_step=555, train_loss_epoch=482]"
     ]
    },
    {
     "name": "stdout",
     "output_type": "stream",
     "text": [
      "\r",
      "Epoch 25/1000:   2%|▎         | 25/1000 [13:40<8:48:30, 32.52s/it, v_num=2i6v, train_loss_step=479, train_loss_epoch=482]"
     ]
    },
    {
     "name": "stdout",
     "output_type": "stream",
     "text": [
      "\r",
      "Epoch 26/1000:   2%|▎         | 25/1000 [13:40<8:48:30, 32.52s/it, v_num=2i6v, train_loss_step=479, train_loss_epoch=482]"
     ]
    },
    {
     "name": "stdout",
     "output_type": "stream",
     "text": [
      "\r",
      "Epoch 26/1000:   3%|▎         | 26/1000 [14:13<8:46:46, 32.45s/it, v_num=2i6v, train_loss_step=479, train_loss_epoch=482]"
     ]
    },
    {
     "name": "stdout",
     "output_type": "stream",
     "text": [
      "\r",
      "Epoch 26/1000:   3%|▎         | 26/1000 [14:13<8:46:46, 32.45s/it, v_num=2i6v, train_loss_step=535, train_loss_epoch=482]"
     ]
    },
    {
     "name": "stdout",
     "output_type": "stream",
     "text": [
      "\r",
      "Epoch 27/1000:   3%|▎         | 26/1000 [14:13<8:46:46, 32.45s/it, v_num=2i6v, train_loss_step=535, train_loss_epoch=482]"
     ]
    },
    {
     "name": "stdout",
     "output_type": "stream",
     "text": [
      "\r",
      "Epoch 27/1000:   3%|▎         | 27/1000 [14:45<8:46:04, 32.44s/it, v_num=2i6v, train_loss_step=535, train_loss_epoch=482]"
     ]
    },
    {
     "name": "stdout",
     "output_type": "stream",
     "text": [
      "\r",
      "Epoch 27/1000:   3%|▎         | 27/1000 [14:45<8:46:04, 32.44s/it, v_num=2i6v, train_loss_step=428, train_loss_epoch=482]"
     ]
    },
    {
     "name": "stdout",
     "output_type": "stream",
     "text": [
      "\r",
      "Epoch 27/1000:   3%|▎         | 27/1000 [14:45<8:51:48, 32.79s/it, v_num=2i6v, train_loss_step=428, train_loss_epoch=482]"
     ]
    },
    {
     "name": "stdout",
     "output_type": "stream",
     "text": [
      "\n",
      "Monitored metric reconstruction_loss_validation did not improve in the last 10 records. Best score: 483.722. Signaling Trainer to stop.\n"
     ]
    }
   ],
   "source": [
    "model.train(logger=logger, plan_kwargs = plan_kwargs, **trainer_kwargs)"
   ]
  },
  {
   "cell_type": "code",
   "execution_count": 15,
   "id": "c282f6eb-0ad1-40a5-81e6-1acda1545dad",
   "metadata": {
    "execution": {
     "iopub.execute_input": "2024-05-06T16:53:56.370785Z",
     "iopub.status.busy": "2024-05-06T16:53:56.370475Z",
     "iopub.status.idle": "2024-05-06T16:54:02.367538Z",
     "shell.execute_reply": "2024-05-06T16:54:02.366730Z"
    },
    "papermill": {
     "duration": 6.010136,
     "end_time": "2024-05-06T16:54:02.369542",
     "exception": false,
     "start_time": "2024-05-06T16:53:56.359406",
     "status": "completed"
    },
    "tags": []
   },
   "outputs": [
    {
     "name": "stderr",
     "output_type": "stream",
     "text": [
      "\u001b[34m\u001b[1mwandb\u001b[0m: - 0.003 MB of 0.003 MB uploaded\r"
     ]
    },
    {
     "name": "stderr",
     "output_type": "stream",
     "text": [
      "\u001b[34m\u001b[1mwandb\u001b[0m: \\ 0.003 MB of 0.007 MB uploaded\r"
     ]
    },
    {
     "name": "stderr",
     "output_type": "stream",
     "text": [
      "\u001b[34m\u001b[1mwandb\u001b[0m: | 0.009 MB of 0.009 MB uploaded\r"
     ]
    },
    {
     "name": "stderr",
     "output_type": "stream",
     "text": [
      "\u001b[34m\u001b[1mwandb\u001b[0m: / 0.009 MB of 0.009 MB uploaded\r"
     ]
    },
    {
     "name": "stderr",
     "output_type": "stream",
     "text": [
      "\u001b[34m\u001b[1mwandb\u001b[0m: - 0.009 MB of 0.009 MB uploaded\r"
     ]
    },
    {
     "name": "stderr",
     "output_type": "stream",
     "text": [
      "\u001b[34m\u001b[1mwandb\u001b[0m:                                                                                \n"
     ]
    },
    {
     "name": "stderr",
     "output_type": "stream",
     "text": [
      "\u001b[34m\u001b[1mwandb\u001b[0m: \n",
      "\u001b[34m\u001b[1mwandb\u001b[0m: Run history:\n",
      "\u001b[34m\u001b[1mwandb\u001b[0m:                     elbo_train █▆▅▄▃▃▃▃▂▂▂▂▂▂▂▂▂▂▁▁▁▁▁▁▁▁▁\n",
      "\u001b[34m\u001b[1mwandb\u001b[0m:                elbo_validation █▆▅▄▃▃▃▂▂▂▂▂▂▂▂▂▁▁▁▁▁▁▁▁▁▁▁\n",
      "\u001b[34m\u001b[1mwandb\u001b[0m:                          epoch ▁▁▁▂▂▂▂▂▂▃▃▃▃▃▃▄▄▄▄▅▅▅▅▅▅▆▆▆▆▆▆▇▇▇▇▇▇███\n",
      "\u001b[34m\u001b[1mwandb\u001b[0m:                kl_global_train ▁▁▁▁▁▁▁▁▁▁▁▁▁▁▁▁▁▁▁▁▁▁▁▁▁▁▁\n",
      "\u001b[34m\u001b[1mwandb\u001b[0m:           kl_global_validation ▁▁▁▁▁▁▁▁▁▁▁▁▁▁▁▁▁▁▁▁▁▁▁▁▁▁▁\n",
      "\u001b[34m\u001b[1mwandb\u001b[0m:                 kl_local_train ▇█▇▅▄▄▃▃▃▃▃▂▂▂▂▂▂▂▂▂▁▁▁▁▁▁▁\n",
      "\u001b[34m\u001b[1mwandb\u001b[0m:            kl_local_validation █▇▅▄▄▃▃▃▃▃▂▂▂▂▂▂▂▂▂▁▁▁▁▁▁▁▁\n",
      "\u001b[34m\u001b[1mwandb\u001b[0m:                      kl_weight ▁▁▁▂▂▂▂▂▂▃▃▃▃▃▃▄▄▄▄▅▅▅▅▅▅▆▆▆▆▆▆▇▇▇▇▇▇███\n",
      "\u001b[34m\u001b[1mwandb\u001b[0m:      reconstruction_loss_train █▄▃▃▃▂▂▂▂▂▂▂▂▁▁▁▁▁▁▁▁▁▁▁▁▁▁\n",
      "\u001b[34m\u001b[1mwandb\u001b[0m: reconstruction_loss_validation █▅▄▃▂▂▂▂▁▁▁▁▁▁▁▁▁▁▁▁▁▁▁▁▁▁▁\n",
      "\u001b[34m\u001b[1mwandb\u001b[0m:               train_loss_epoch █▄▃▃▂▂▂▂▂▂▁▁▁▁▁▁▁▁▁▁▁▁▁▁▁▁▁\n",
      "\u001b[34m\u001b[1mwandb\u001b[0m:                train_loss_step █▄▁▅▄▂▂▂▄▅▆▅▄▂▆▂▂▁▄▃▄▄▇▄▄▂▂▄▃▃▅▃▂▂▄▃▄█▅▆\n",
      "\u001b[34m\u001b[1mwandb\u001b[0m:            trainer/global_step ▁▁▁▂▂▂▂▂▂▃▃▃▃▃▃▄▄▄▄▄▅▅▅▅▅▅▆▆▆▆▆▇▇▇▇▇▇███\n",
      "\u001b[34m\u001b[1mwandb\u001b[0m:                validation_loss █▅▃▂▂▂▁▁▁▁▁▁▁▁▁▁▁▁▁▁▁▁▁▁▁▁▁\n",
      "\u001b[34m\u001b[1mwandb\u001b[0m: \n",
      "\u001b[34m\u001b[1mwandb\u001b[0m: Run summary:\n",
      "\u001b[34m\u001b[1mwandb\u001b[0m:                     elbo_train 504.57159\n",
      "\u001b[34m\u001b[1mwandb\u001b[0m:                elbo_validation 507.79761\n",
      "\u001b[34m\u001b[1mwandb\u001b[0m:                          epoch 26\n",
      "\u001b[34m\u001b[1mwandb\u001b[0m:                kl_global_train 0.0\n",
      "\u001b[34m\u001b[1mwandb\u001b[0m:           kl_global_validation 0.0\n",
      "\u001b[34m\u001b[1mwandb\u001b[0m:                 kl_local_train 24.602\n",
      "\u001b[34m\u001b[1mwandb\u001b[0m:            kl_local_validation 24.06206\n",
      "\u001b[34m\u001b[1mwandb\u001b[0m:                      kl_weight 0.065\n",
      "\u001b[34m\u001b[1mwandb\u001b[0m:      reconstruction_loss_train 479.9696\n",
      "\u001b[34m\u001b[1mwandb\u001b[0m: reconstruction_loss_validation 483.73553\n",
      "\u001b[34m\u001b[1mwandb\u001b[0m:               train_loss_epoch 481.56732\n",
      "\u001b[34m\u001b[1mwandb\u001b[0m:                train_loss_step 428.11011\n",
      "\u001b[34m\u001b[1mwandb\u001b[0m:            trainer/global_step 67769\n",
      "\u001b[34m\u001b[1mwandb\u001b[0m:                validation_loss 485.29968\n",
      "\u001b[34m\u001b[1mwandb\u001b[0m: \n"
     ]
    },
    {
     "name": "stderr",
     "output_type": "stream",
     "text": [
      "\u001b[34m\u001b[1mwandb\u001b[0m: 🚀 View run \u001b[33mStep4_B\u001b[0m at: \u001b[34m\u001b[4mhttps://wandb.ai/inflammation/inflammation_atlas_R1/runs/c2ka2i6v\u001b[0m\n",
      "\u001b[34m\u001b[1mwandb\u001b[0m: Synced 5 W&B file(s), 0 media file(s), 0 artifact file(s) and 0 other file(s)\n"
     ]
    },
    {
     "name": "stderr",
     "output_type": "stream",
     "text": [
      "\u001b[34m\u001b[1mwandb\u001b[0m: Find logs at: \u001b[35m\u001b[1m./wandb/run-20240506_163910-c2ka2i6v/logs\u001b[0m\n"
     ]
    }
   ],
   "source": [
    "wandb.finish()"
   ]
  },
  {
   "cell_type": "markdown",
   "id": "d9fb1179-83c7-4ac6-b4aa-92dc7a349801",
   "metadata": {
    "papermill": {
     "duration": 0.009646,
     "end_time": "2024-05-06T16:54:02.389180",
     "exception": false,
     "start_time": "2024-05-06T16:54:02.379534",
     "status": "completed"
    },
    "tags": []
   },
   "source": [
    "### Extracting embedding space"
   ]
  },
  {
   "cell_type": "code",
   "execution_count": 16,
   "id": "caaa5832-0123-4c59-8ec6-f46a75f7a14e",
   "metadata": {
    "execution": {
     "iopub.execute_input": "2024-05-06T16:54:02.409391Z",
     "iopub.status.busy": "2024-05-06T16:54:02.409034Z",
     "iopub.status.idle": "2024-05-06T16:54:12.355367Z",
     "shell.execute_reply": "2024-05-06T16:54:12.354253Z"
    },
    "papermill": {
     "duration": 9.958981,
     "end_time": "2024-05-06T16:54:12.357474",
     "exception": false,
     "start_time": "2024-05-06T16:54:02.398493",
     "status": "completed"
    },
    "tags": []
   },
   "outputs": [],
   "source": [
    "adata.obsm['X_scVI'] = model.get_latent_representation()"
   ]
  },
  {
   "cell_type": "markdown",
   "id": "2f03e70b-839c-40a6-9fbb-d76bbd787419",
   "metadata": {
    "papermill": {
     "duration": 0.009477,
     "end_time": "2024-05-06T16:54:12.377000",
     "exception": false,
     "start_time": "2024-05-06T16:54:12.367523",
     "status": "completed"
    },
    "tags": []
   },
   "source": [
    "## Save the results"
   ]
  },
  {
   "cell_type": "code",
   "execution_count": 17,
   "id": "7b04049b-47fd-4b62-a1c0-c43dcc086d34",
   "metadata": {
    "execution": {
     "iopub.execute_input": "2024-05-06T16:54:12.397746Z",
     "iopub.status.busy": "2024-05-06T16:54:12.397425Z",
     "iopub.status.idle": "2024-05-06T16:54:40.204294Z",
     "shell.execute_reply": "2024-05-06T16:54:40.203410Z"
    },
    "papermill": {
     "duration": 27.820017,
     "end_time": "2024-05-06T16:54:40.206484",
     "exception": false,
     "start_time": "2024-05-06T16:54:12.386467",
     "status": "completed"
    },
    "tags": []
   },
   "outputs": [],
   "source": [
    "if overwriteData:\n",
    "    adata.write(here(f\"{workDir}/{cellGroup}/results/02_{annotationLevel}_{cellGroup}_HVGsubset_scVI.h5ad\"), compression=\"gzip\")\n",
    "    model.save(here(f\"{workDir}/{cellGroup}/results/02_{annotationLevel}_{cellGroup}_HVGsubset_scVI_MODEL/\"),\n",
    "               overwrite = True, \n",
    "               save_anndata = False )   "
   ]
  },
  {
   "cell_type": "code",
   "execution_count": 18,
   "id": "629ba2bd-f6be-44ef-8fca-bbdf891bf25f",
   "metadata": {
    "execution": {
     "iopub.execute_input": "2024-05-06T16:54:40.227877Z",
     "iopub.status.busy": "2024-05-06T16:54:40.227088Z",
     "iopub.status.idle": "2024-05-06T16:54:40.230913Z",
     "shell.execute_reply": "2024-05-06T16:54:40.229998Z"
    },
    "papermill": {
     "duration": 0.01641,
     "end_time": "2024-05-06T16:54:40.232629",
     "exception": false,
     "start_time": "2024-05-06T16:54:40.216219",
     "status": "completed"
    },
    "tags": []
   },
   "outputs": [],
   "source": [
    "# To load the model do (after loading corresponding adata):\n",
    "# model = scvi.model.SCVI.load(here('{}/results/01_{}_HVGsubset_scVI_MODEL/'.format(workDir, cellGroup)), \n",
    "#                              adata, \n",
    "#                              use_gpu=True)"
   ]
  },
  {
   "cell_type": "raw",
   "id": "975e84d0-f56b-498d-b3a8-c9219cf22e53",
   "metadata": {
    "papermill": {
     "duration": 0.009868,
     "end_time": "2024-05-06T16:54:40.252468",
     "exception": false,
     "start_time": "2024-05-06T16:54:40.242600",
     "status": "completed"
    },
    "tags": []
   },
   "source": [
    "session_info.show()"
   ]
  }
 ],
 "metadata": {
  "kernelspec": {
   "display_name": "Python 3 (ipykernel)",
   "language": "python",
   "name": "python3"
  },
  "language_info": {
   "codemirror_mode": {
    "name": "ipython",
    "version": 3
   },
   "file_extension": ".py",
   "mimetype": "text/x-python",
   "name": "python",
   "nbconvert_exporter": "python",
   "pygments_lexer": "ipython3",
   "version": "3.9.18"
  },
  "papermill": {
   "default_parameters": {},
   "duration": 958.92632,
   "end_time": "2024-05-06T16:54:42.759550",
   "environment_variables": {},
   "exception": null,
   "input_path": "./B/02_integration_scVI.ipynb",
   "output_path": "./B/02_integration_scVI_executed.ipynb",
   "parameters": {},
   "start_time": "2024-05-06T16:38:43.833230",
   "version": "2.5.0"
  }
 },
 "nbformat": 4,
 "nbformat_minor": 5
}