{
 "cells": [
  {
   "cell_type": "code",
   "execution_count": 1,
   "metadata": {
    "execution": {
     "iopub.execute_input": "2024-05-22T13:57:26.961581Z",
     "iopub.status.busy": "2024-05-22T13:57:26.961426Z",
     "iopub.status.idle": "2024-05-22T13:57:27.478609Z",
     "shell.execute_reply": "2024-05-22T13:57:27.478085Z",
     "shell.execute_reply.started": "2024-05-22T13:57:26.961561Z"
    }
   },
   "outputs": [],
   "source": [
    "# General modules\n",
    "import sys\n",
    "import os\n",
    "import session_info\n",
    "import warnings\n",
    "from pyprojroot.here import here\n",
    "import glob\n",
    "import pandas as pd\n",
    "import numpy as np\n",
    "\n",
    "# Setting some parameters\n",
    "warnings.filterwarnings(\"ignore\")\n",
    "sys.path.insert(1, str(here('bin')))\n",
    "\n",
    "# Import custom functions\n",
    "from customPythonFunctions import generate_split_dir\n",
    "\n",
    "\n",
    "#plt.style.use(['science','nature','no-latex'])\n",
    "dpi_fig_save = 300\n",
    "\n",
    "overwriteFigures = True\n",
    "overwriteData = True"
   ]
  },
  {
   "cell_type": "markdown",
   "metadata": {},
   "source": [
    "**Loading annotation pkl**"
   ]
  },
  {
   "cell_type": "code",
   "execution_count": 2,
   "metadata": {
    "execution": {
     "iopub.execute_input": "2024-05-22T13:57:27.479651Z",
     "iopub.status.busy": "2024-05-22T13:57:27.479373Z",
     "iopub.status.idle": "2024-05-22T13:57:27.482274Z",
     "shell.execute_reply": "2024-05-22T13:57:27.481874Z",
     "shell.execute_reply.started": "2024-05-22T13:57:27.479628Z"
    }
   },
   "outputs": [],
   "source": [
    "step = \"Step4\"\n",
    "next_step = \"Step5\""
   ]
  },
  {
   "cell_type": "code",
   "execution_count": 3,
   "metadata": {
    "execution": {
     "iopub.execute_input": "2024-05-22T13:57:27.483806Z",
     "iopub.status.busy": "2024-05-22T13:57:27.483638Z",
     "iopub.status.idle": "2024-05-22T13:57:27.546685Z",
     "shell.execute_reply": "2024-05-22T13:57:27.546264Z",
     "shell.execute_reply.started": "2024-05-22T13:57:27.483790Z"
    }
   },
   "outputs": [],
   "source": [
    "annotation_col_name = 'annotation_step_4'"
   ]
  },
  {
   "cell_type": "code",
   "execution_count": 4,
   "metadata": {
    "execution": {
     "iopub.execute_input": "2024-05-22T13:57:27.547341Z",
     "iopub.status.busy": "2024-05-22T13:57:27.547190Z",
     "iopub.status.idle": "2024-05-22T13:57:27.563483Z",
     "shell.execute_reply": "2024-05-22T13:57:27.563099Z",
     "shell.execute_reply.started": "2024-05-22T13:57:27.547326Z"
    }
   },
   "outputs": [],
   "source": [
    "file_paths = glob.glob(str(here(f\"02_fromCellLineages_to_CellTypes/{step}/*/results/INFLAMMATION_cluster_res*_annotated.pkl\")))\n",
    "# Load and concatenate all files into a single column DataFrame"
   ]
  },
  {
   "cell_type": "code",
   "execution_count": 5,
   "metadata": {
    "execution": {
     "iopub.execute_input": "2024-05-22T13:57:27.564341Z",
     "iopub.status.busy": "2024-05-22T13:57:27.564014Z",
     "iopub.status.idle": "2024-05-22T13:57:28.175929Z",
     "shell.execute_reply": "2024-05-22T13:57:28.175441Z",
     "shell.execute_reply.started": "2024-05-22T13:57:27.564322Z"
    }
   },
   "outputs": [
    {
     "name": "stdout",
     "output_type": "stream",
     "text": [
      "/scratch_isilon/groups/singlecell/shared/projects/Inflammation-PBMCs-Atlas/02_cell_annotation/02_fromCellLineages_to_CellTypes/Step4/T_CD4_NonNaive/results/INFLAMMATION_cluster_res0.1_annotated.pkl\n",
      "{'T_CD4_NonNaive'}\n",
      "/scratch_isilon/groups/singlecell/shared/projects/Inflammation-PBMCs-Atlas/02_cell_annotation/02_fromCellLineages_to_CellTypes/Step4/NK/results/INFLAMMATION_cluster_res0.5_annotated.pkl\n",
      "{'NK_IFN1response', 'NK_CD56high', 'NK_CD16high', 'NK_lowRibocontent', 'NK_adaptive', 'NK_CD56dimCD16'}\n",
      "/scratch_isilon/groups/singlecell/shared/projects/Inflammation-PBMCs-Atlas/02_cell_annotation/02_fromCellLineages_to_CellTypes/Step4/DC/results/INFLAMMATION_cluster_res0.5_annotated.pkl\n",
      "{'cDC3', 'DC_CCR7', 'DC5', 'DC_Proliferative', 'cDC2', 'DC4', 'cDC1'}\n",
      "/scratch_isilon/groups/singlecell/shared/projects/Inflammation-PBMCs-Atlas/02_cell_annotation/02_fromCellLineages_to_CellTypes/Step4/T_CD8_NonNaive/results/INFLAMMATION_cluster_res0.5_annotated.pkl\n",
      "{'UTC', 'LowQuality_cells', 'T_CD8_NonNaive', 'T_CD4_NonNaive'}\n",
      "/scratch_isilon/groups/singlecell/shared/projects/Inflammation-PBMCs-Atlas/02_cell_annotation/02_fromCellLineages_to_CellTypes/Step4/Plasma/results/INFLAMMATION_cluster_res0.5_annotated.pkl\n",
      "{'Plasma_IGHG', 'Plasma_IGHA', 'Doublets', 'Plasma_XBP1', 'Plasma_Proliferative'}\n",
      "/scratch_isilon/groups/singlecell/shared/projects/Inflammation-PBMCs-Atlas/02_cell_annotation/02_fromCellLineages_to_CellTypes/Step4/Mono/results/INFLAMMATION_cluster_res0.5_annotated.pkl\n",
      "{'Mono_IFNresponse', 'Mono_classical', 'LowQuality_cells', 'Mono_nonClassical', 'Mono_regulatory', 'Mono_inflammatory'}\n",
      "/scratch_isilon/groups/singlecell/shared/projects/Inflammation-PBMCs-Atlas/02_cell_annotation/02_fromCellLineages_to_CellTypes/Step4/T_Naive/results/INFLAMMATION_cluster_res0.25_annotated.pkl\n",
      "{'T_CD8_Naive', 'T_CD4_Naive'}\n",
      "/scratch_isilon/groups/singlecell/shared/projects/Inflammation-PBMCs-Atlas/02_cell_annotation/02_fromCellLineages_to_CellTypes/Step4/B/results/INFLAMMATION_cluster_res0.25_annotated.pkl\n",
      "{'B_Memory_switched', 'B_Transitional', 'B_Naive', 'B_Memory_ITGAX', 'B_IFNresponder', 'B_Memory_unswitched', 'B_Naive_activated'}\n"
     ]
    }
   ],
   "source": [
    "for file_path in file_paths: \n",
    "    print(file_path)\n",
    "    clusterAnnotDF = pd.read_pickle(file_path)\n",
    "    print(set(clusterAnnotDF[annotation_col_name]))"
   ]
  },
  {
   "cell_type": "code",
   "execution_count": 6,
   "metadata": {
    "execution": {
     "iopub.execute_input": "2024-05-22T13:57:28.176993Z",
     "iopub.status.busy": "2024-05-22T13:57:28.176622Z",
     "iopub.status.idle": "2024-05-22T13:57:28.724194Z",
     "shell.execute_reply": "2024-05-22T13:57:28.723678Z",
     "shell.execute_reply.started": "2024-05-22T13:57:28.176972Z"
    }
   },
   "outputs": [],
   "source": [
    "clusterAnnotDF = pd.concat([pd.read_pickle(file_path) for file_path in file_paths], axis=0)"
   ]
  },
  {
   "cell_type": "code",
   "execution_count": 7,
   "metadata": {
    "execution": {
     "iopub.execute_input": "2024-05-22T13:57:28.725181Z",
     "iopub.status.busy": "2024-05-22T13:57:28.724842Z",
     "iopub.status.idle": "2024-05-22T13:57:28.729399Z",
     "shell.execute_reply": "2024-05-22T13:57:28.729011Z",
     "shell.execute_reply.started": "2024-05-22T13:57:28.725161Z"
    }
   },
   "outputs": [
    {
     "name": "stdout",
     "output_type": "stream",
     "text": [
      "                                         annotation_step_4\n",
      "cellID                                                    \n",
      "SCGT00_L029_I54.3P_T0_ACCTGTCAGCGAGTCA      T_CD4_NonNaive\n",
      "SCGT00_L029_I57.3P_T0_GGAATCTCAGCATTGT      T_CD4_NonNaive\n",
      "SCGT00_L029_I54.3P_T0_TTGTTGTGTAGCGATG      T_CD4_NonNaive\n",
      "SCGT00_L023_I5011.3P_T0_AACGTCATCCTGTTGC    T_CD4_NonNaive\n",
      "SCGT00_L023_I5011.3P_T0_CAGCCAGGTCTGATAC    T_CD4_NonNaive\n"
     ]
    }
   ],
   "source": [
    "print(clusterAnnotDF.head())"
   ]
  },
  {
   "cell_type": "code",
   "execution_count": 8,
   "metadata": {
    "execution": {
     "iopub.execute_input": "2024-05-22T13:57:28.730204Z",
     "iopub.status.busy": "2024-05-22T13:57:28.730042Z",
     "iopub.status.idle": "2024-05-22T13:57:29.021225Z",
     "shell.execute_reply": "2024-05-22T13:57:29.020813Z",
     "shell.execute_reply.started": "2024-05-22T13:57:28.730188Z"
    }
   },
   "outputs": [
    {
     "data": {
      "text/plain": [
       "{'B_IFNresponder',\n",
       " 'B_Memory_ITGAX',\n",
       " 'B_Memory_switched',\n",
       " 'B_Memory_unswitched',\n",
       " 'B_Naive',\n",
       " 'B_Naive_activated',\n",
       " 'B_Transitional',\n",
       " 'DC4',\n",
       " 'DC5',\n",
       " 'DC_CCR7',\n",
       " 'DC_Proliferative',\n",
       " 'Doublets',\n",
       " 'LowQuality_cells',\n",
       " 'Mono_IFNresponse',\n",
       " 'Mono_classical',\n",
       " 'Mono_inflammatory',\n",
       " 'Mono_nonClassical',\n",
       " 'Mono_regulatory',\n",
       " 'NK_CD16high',\n",
       " 'NK_CD56dimCD16',\n",
       " 'NK_CD56high',\n",
       " 'NK_IFN1response',\n",
       " 'NK_adaptive',\n",
       " 'NK_lowRibocontent',\n",
       " 'Plasma_IGHA',\n",
       " 'Plasma_IGHG',\n",
       " 'Plasma_Proliferative',\n",
       " 'Plasma_XBP1',\n",
       " 'T_CD4_Naive',\n",
       " 'T_CD4_NonNaive',\n",
       " 'T_CD8_Naive',\n",
       " 'T_CD8_NonNaive',\n",
       " 'UTC',\n",
       " 'cDC1',\n",
       " 'cDC2',\n",
       " 'cDC3'}"
      ]
     },
     "execution_count": 8,
     "metadata": {},
     "output_type": "execute_result"
    }
   ],
   "source": [
    "set(clusterAnnotDF[annotation_col_name])"
   ]
  },
  {
   "cell_type": "code",
   "execution_count": 9,
   "metadata": {
    "execution": {
     "iopub.execute_input": "2024-05-22T13:57:29.022003Z",
     "iopub.status.busy": "2024-05-22T13:57:29.021835Z",
     "iopub.status.idle": "2024-05-22T13:57:29.030392Z",
     "shell.execute_reply": "2024-05-22T13:57:29.030000Z",
     "shell.execute_reply.started": "2024-05-22T13:57:29.021984Z"
    }
   },
   "outputs": [
    {
     "name": "stdout",
     "output_type": "stream",
     "text": [
      "(4437685, 1)\n"
     ]
    }
   ],
   "source": [
    "print(clusterAnnotDF.shape)"
   ]
  },
  {
   "cell_type": "code",
   "execution_count": 10,
   "metadata": {
    "execution": {
     "iopub.execute_input": "2024-05-22T13:57:29.031069Z",
     "iopub.status.busy": "2024-05-22T13:57:29.030915Z",
     "iopub.status.idle": "2024-05-22T13:57:30.964841Z",
     "shell.execute_reply": "2024-05-22T13:57:30.964309Z",
     "shell.execute_reply.started": "2024-05-22T13:57:29.031052Z"
    }
   },
   "outputs": [],
   "source": [
    "clusterAnnotDF.to_pickle(here(f\"02_fromCellLineages_to_CellTypes/{step}/{step}_clusterAnnotDF.pkl\"))"
   ]
  },
  {
   "cell_type": "markdown",
   "metadata": {},
   "source": [
    "**Updating master annotation DF**"
   ]
  },
  {
   "cell_type": "code",
   "execution_count": 11,
   "metadata": {
    "execution": {
     "iopub.execute_input": "2024-05-22T13:57:30.965866Z",
     "iopub.status.busy": "2024-05-22T13:57:30.965513Z",
     "iopub.status.idle": "2024-05-22T13:57:31.740472Z",
     "shell.execute_reply": "2024-05-22T13:57:31.739946Z",
     "shell.execute_reply.started": "2024-05-22T13:57:30.965848Z"
    }
   },
   "outputs": [],
   "source": [
    "master_AnnotDFpath = str(here(\"02_fromCellLineages_to_CellTypes/master_clusterAnnotDF.pkl\"))\n",
    "master_AnnotDF = pd.read_pickle(master_AnnotDFpath)"
   ]
  },
  {
   "cell_type": "code",
   "execution_count": 12,
   "metadata": {
    "execution": {
     "iopub.execute_input": "2024-05-22T13:57:31.742949Z",
     "iopub.status.busy": "2024-05-22T13:57:31.742605Z",
     "iopub.status.idle": "2024-05-22T13:57:35.897953Z",
     "shell.execute_reply": "2024-05-22T13:57:35.897440Z",
     "shell.execute_reply.started": "2024-05-22T13:57:31.742931Z"
    }
   },
   "outputs": [],
   "source": [
    "last_column_name = master_AnnotDF.columns[-1]\n",
    "master_AnnotDF[annotation_col_name] = master_AnnotDF[last_column_name]\n",
    "master_AnnotDF[annotation_col_name].update(clusterAnnotDF[annotation_col_name])"
   ]
  },
  {
   "cell_type": "code",
   "execution_count": 13,
   "metadata": {
    "execution": {
     "iopub.execute_input": "2024-05-22T13:57:35.898801Z",
     "iopub.status.busy": "2024-05-22T13:57:35.898632Z",
     "iopub.status.idle": "2024-05-22T13:57:35.902920Z",
     "shell.execute_reply": "2024-05-22T13:57:35.902548Z",
     "shell.execute_reply.started": "2024-05-22T13:57:35.898783Z"
    }
   },
   "outputs": [
    {
     "name": "stdout",
     "output_type": "stream",
     "text": [
      "                                       annotation_step_1 annotation_step_2  \\\n",
      "cellID                                                                       \n",
      "SCGT00_L051_I53.3P_T0_AACCAACGTGGGATTG               pDC               pDC   \n",
      "SCGT00_L051_I58.3P_T0_ACCTGAAAGTGCCAGA               pDC               pDC   \n",
      "SCGT00_L051_I53.3P_T0_ACTATGGAGGCGCTCT               pDC               pDC   \n",
      "SCGT00_L051_I55.3P_T0_ACTTTCACATGGGTTT               pDC               pDC   \n",
      "SCGT00_L051_I52.3P_T0_ATCACAGTCATCGGGC               pDC               pDC   \n",
      "\n",
      "                                       annotation_step_3 annotation_step_4  \n",
      "cellID                                                                      \n",
      "SCGT00_L051_I53.3P_T0_AACCAACGTGGGATTG               pDC               pDC  \n",
      "SCGT00_L051_I58.3P_T0_ACCTGAAAGTGCCAGA               pDC               pDC  \n",
      "SCGT00_L051_I53.3P_T0_ACTATGGAGGCGCTCT               pDC               pDC  \n",
      "SCGT00_L051_I55.3P_T0_ACTTTCACATGGGTTT               pDC               pDC  \n",
      "SCGT00_L051_I52.3P_T0_ATCACAGTCATCGGGC               pDC               pDC  \n"
     ]
    }
   ],
   "source": [
    "print(master_AnnotDF.head())"
   ]
  },
  {
   "cell_type": "code",
   "execution_count": 14,
   "metadata": {
    "execution": {
     "iopub.execute_input": "2024-05-22T13:57:35.903845Z",
     "iopub.status.busy": "2024-05-22T13:57:35.903463Z",
     "iopub.status.idle": "2024-05-22T13:57:35.914181Z",
     "shell.execute_reply": "2024-05-22T13:57:35.913814Z",
     "shell.execute_reply.started": "2024-05-22T13:57:35.903829Z"
    }
   },
   "outputs": [
    {
     "name": "stdout",
     "output_type": "stream",
     "text": [
      "(4918140, 4)\n"
     ]
    }
   ],
   "source": [
    "print(master_AnnotDF.shape)"
   ]
  },
  {
   "cell_type": "code",
   "execution_count": 15,
   "metadata": {
    "execution": {
     "iopub.execute_input": "2024-05-22T13:57:35.914815Z",
     "iopub.status.busy": "2024-05-22T13:57:35.914667Z",
     "iopub.status.idle": "2024-05-22T13:57:36.250810Z",
     "shell.execute_reply": "2024-05-22T13:57:36.250381Z",
     "shell.execute_reply.started": "2024-05-22T13:57:35.914799Z"
    }
   },
   "outputs": [
    {
     "data": {
      "text/plain": [
       "{'B_IFNresponder',\n",
       " 'B_Memory_ITGAX',\n",
       " 'B_Memory_switched',\n",
       " 'B_Memory_unswitched',\n",
       " 'B_Naive',\n",
       " 'B_Naive_activated',\n",
       " 'B_Progenitors',\n",
       " 'B_Transitional',\n",
       " 'DC4',\n",
       " 'DC5',\n",
       " 'DC_CCR7',\n",
       " 'DC_Proliferative',\n",
       " 'Doublets',\n",
       " 'HSC_LMP',\n",
       " 'HSC_MEMP',\n",
       " 'HSC_MMP',\n",
       " 'LowQuality_cells',\n",
       " 'Mono_IFNresponse',\n",
       " 'Mono_classical',\n",
       " 'Mono_inflammatory',\n",
       " 'Mono_nonClassical',\n",
       " 'Mono_regulatory',\n",
       " 'NK_CD16high',\n",
       " 'NK_CD56dimCD16',\n",
       " 'NK_CD56high',\n",
       " 'NK_IFN1response',\n",
       " 'NK_Proliferative',\n",
       " 'NK_adaptive',\n",
       " 'NK_lowRibocontent',\n",
       " 'Plasma_IGHA',\n",
       " 'Plasma_IGHG',\n",
       " 'Plasma_Proliferative',\n",
       " 'Plasma_XBP1',\n",
       " 'Platelets',\n",
       " 'RBC',\n",
       " 'T_CD4_Naive',\n",
       " 'T_CD4_NonNaive',\n",
       " 'T_CD8_Naive',\n",
       " 'T_CD8_NonNaive',\n",
       " 'T_Progenitors',\n",
       " 'T_Proliferative',\n",
       " 'UTC',\n",
       " 'cDC1',\n",
       " 'cDC2',\n",
       " 'cDC3',\n",
       " 'pDC'}"
      ]
     },
     "execution_count": 15,
     "metadata": {},
     "output_type": "execute_result"
    }
   ],
   "source": [
    "set(master_AnnotDF[annotation_col_name])"
   ]
  },
  {
   "cell_type": "markdown",
   "metadata": {},
   "source": [
    "# Split Lineages"
   ]
  },
  {
   "cell_type": "code",
   "execution_count": 20,
   "metadata": {
    "execution": {
     "iopub.execute_input": "2024-05-22T13:58:14.455168Z",
     "iopub.status.busy": "2024-05-22T13:58:14.454630Z",
     "iopub.status.idle": "2024-05-22T13:58:14.458521Z",
     "shell.execute_reply": "2024-05-22T13:58:14.458158Z",
     "shell.execute_reply.started": "2024-05-22T13:58:14.455141Z"
    }
   },
   "outputs": [],
   "source": [
    "annotation_col_name = 'annotation_step_4'\n",
    "not_interesting_categories = [\"LowQuality_cells\", \"Doublets\", \"Platelets\", \"RBC\"]\n",
    "finished_categories = [\n",
    "'B_IFNresponder',\n",
    " 'B_Memory_ITGAX',\n",
    " 'B_Memory_switched',\n",
    " 'B_Memory_unswitched',\n",
    " 'B_Naive',\n",
    " 'B_Naive_activated',\n",
    " 'B_Progenitors',\n",
    " 'B_Transitional',\n",
    " 'DC4',\n",
    " 'DC5',\n",
    " 'DC_CCR7',\n",
    " 'DC_Proliferative',\n",
    " 'HSC_LMP',\n",
    " 'HSC_MEMP',\n",
    " 'HSC_MMP',\n",
    " 'Mono_IFNresponse',\n",
    " 'Mono_classical',\n",
    " 'Mono_inflammatory',\n",
    " 'Mono_nonClassical',\n",
    " 'Mono_regulatory',\n",
    " 'NK_CD16high',\n",
    " 'NK_CD56dimCD16',\n",
    " 'NK_CD56high',\n",
    " 'NK_IFN1response',\n",
    " 'NK_Proliferative',\n",
    " 'NK_adaptive',\n",
    " 'NK_lowRibocontent',\n",
    " 'Plasma_IGHA',\n",
    " 'Plasma_IGHG',\n",
    " 'Plasma_XBP1',\n",
    " 'Plasma_Proliferative',\n",
    " 'T_Progenitors',\n",
    " 'T_Proliferative',\n",
    " 'cDC1',\n",
    " 'cDC2',\n",
    " 'cDC3',\n",
    " 'pDC'\n",
    "                      ]"
   ]
  },
  {
   "cell_type": "code",
   "execution_count": 21,
   "metadata": {
    "execution": {
     "iopub.execute_input": "2024-05-22T13:58:14.645690Z",
     "iopub.status.busy": "2024-05-22T13:58:14.645531Z",
     "iopub.status.idle": "2024-05-22T13:58:14.895942Z",
     "shell.execute_reply": "2024-05-22T13:58:14.895512Z",
     "shell.execute_reply.started": "2024-05-22T13:58:14.645673Z"
    }
   },
   "outputs": [
    {
     "name": "stdout",
     "output_type": "stream",
     "text": [
      "annotation_step_4\n",
      "T_CD4_Naive             792955\n",
      "T_CD4_NonNaive          778897\n",
      "T_CD8_NonNaive          640382\n",
      "Mono_classical          485760\n",
      "Doublets                240766\n",
      "T_CD8_Naive             213776\n",
      "NK_CD56dimCD16          183200\n",
      "Mono_IFNresponse        177845\n",
      "Platelets               154085\n",
      "Mono_nonClassical       140172\n",
      "UTC                     130431\n",
      "B_Naive                 130137\n",
      "Mono_regulatory         126405\n",
      "Mono_inflammatory       118967\n",
      "B_Memory_switched       100092\n",
      "NK_lowRibocontent        88026\n",
      "B_Transitional           74601\n",
      "LowQuality_cells         42409\n",
      "NK_adaptive              35628\n",
      "NK_CD56high              32550\n",
      "T_Proliferative          27907\n",
      "NK_CD16high              23214\n",
      "pDC                      22902\n",
      "B_Memory_ITGAX           16177\n",
      "cDC3                     16103\n",
      "B_Naive_activated        15055\n",
      "NK_IFN1response          14267\n",
      "NK_Proliferative         13494\n",
      "cDC2                     12153\n",
      "B_Memory_unswitched      11409\n",
      "B_IFNresponder            9403\n",
      "DC_CCR7                   8023\n",
      "Plasma_IGHA               6594\n",
      "DC4                       5729\n",
      "Plasma_XBP1               5355\n",
      "Plasma_IGHG               4905\n",
      "Plasma_Proliferative      3580\n",
      "cDC1                      3371\n",
      "HSC_LMP                   2784\n",
      "RBC                       2485\n",
      "HSC_MMP                   2002\n",
      "DC5                       1697\n",
      "B_Progenitors              987\n",
      "T_Progenitors              868\n",
      "HSC_MEMP                   392\n",
      "DC_Proliferative           200\n",
      "dtype: int64\n"
     ]
    }
   ],
   "source": [
    "cell_counts = master_AnnotDF.groupby(annotation_col_name).size().sort_values(ascending=False)\n",
    "print(cell_counts)"
   ]
  },
  {
   "cell_type": "code",
   "execution_count": 22,
   "metadata": {
    "execution": {
     "iopub.execute_input": "2024-05-22T13:58:14.896931Z",
     "iopub.status.busy": "2024-05-22T13:58:14.896762Z",
     "iopub.status.idle": "2024-05-22T13:58:14.900473Z",
     "shell.execute_reply": "2024-05-22T13:58:14.900105Z",
     "shell.execute_reply.started": "2024-05-22T13:58:14.896911Z"
    }
   },
   "outputs": [
    {
     "name": "stdout",
     "output_type": "stream",
     "text": [
      "We are removing a total of 439745 cells\n",
      "LowQuality_cells: 42409 cells removed\n",
      "Doublets: 240766 cells removed\n",
      "Platelets: 154085 cells removed\n",
      "RBC: 2485 cells removed\n"
     ]
    }
   ],
   "source": [
    "total_cells_to_remove = cell_counts.loc[not_interesting_categories].sum()\n",
    "print(f\"We are removing a total of {total_cells_to_remove} cells\")\n",
    "for category in not_interesting_categories:\n",
    "    cells_removed = cell_counts.loc[category]\n",
    "    print(f\"{category}: {cells_removed} cells removed\")"
   ]
  },
  {
   "cell_type": "code",
   "execution_count": 23,
   "metadata": {
    "execution": {
     "iopub.execute_input": "2024-05-22T13:58:15.016280Z",
     "iopub.status.busy": "2024-05-22T13:58:15.015843Z",
     "iopub.status.idle": "2024-05-22T13:58:15.019924Z",
     "shell.execute_reply": "2024-05-22T13:58:15.019563Z",
     "shell.execute_reply.started": "2024-05-22T13:58:15.016249Z"
    }
   },
   "outputs": [
    {
     "name": "stdout",
     "output_type": "stream",
     "text": [
      "We have finished a total of 1921954 cells\n",
      "B_IFNresponder: 9403 cells finished\n",
      "B_Memory_ITGAX: 16177 cells finished\n",
      "B_Memory_switched: 100092 cells finished\n",
      "B_Memory_unswitched: 11409 cells finished\n",
      "B_Naive: 130137 cells finished\n",
      "B_Naive_activated: 15055 cells finished\n",
      "B_Progenitors: 987 cells finished\n",
      "B_Transitional: 74601 cells finished\n",
      "DC4: 5729 cells finished\n",
      "DC5: 1697 cells finished\n",
      "DC_CCR7: 8023 cells finished\n",
      "DC_Proliferative: 200 cells finished\n",
      "HSC_LMP: 2784 cells finished\n",
      "HSC_MEMP: 392 cells finished\n",
      "HSC_MMP: 2002 cells finished\n",
      "Mono_IFNresponse: 177845 cells finished\n",
      "Mono_classical: 485760 cells finished\n",
      "Mono_inflammatory: 118967 cells finished\n",
      "Mono_nonClassical: 140172 cells finished\n",
      "Mono_regulatory: 126405 cells finished\n",
      "NK_CD16high: 23214 cells finished\n",
      "NK_CD56dimCD16: 183200 cells finished\n",
      "NK_CD56high: 32550 cells finished\n",
      "NK_IFN1response: 14267 cells finished\n",
      "NK_Proliferative: 13494 cells finished\n",
      "NK_adaptive: 35628 cells finished\n",
      "NK_lowRibocontent: 88026 cells finished\n",
      "Plasma_IGHA: 6594 cells finished\n",
      "Plasma_IGHG: 4905 cells finished\n",
      "Plasma_XBP1: 5355 cells finished\n",
      "Plasma_Proliferative: 3580 cells finished\n",
      "T_Progenitors: 868 cells finished\n",
      "T_Proliferative: 27907 cells finished\n",
      "cDC1: 3371 cells finished\n",
      "cDC2: 12153 cells finished\n",
      "cDC3: 16103 cells finished\n",
      "pDC: 22902 cells finished\n"
     ]
    }
   ],
   "source": [
    "total_cells_finished = cell_counts.loc[finished_categories].sum()\n",
    "print(f\"We have finished a total of {total_cells_finished} cells\")\n",
    "for category in finished_categories:\n",
    "    cells_finished = cell_counts.loc[category]\n",
    "    print(f\"{category}: {cells_finished} cells finished\")"
   ]
  },
  {
   "cell_type": "code",
   "execution_count": 24,
   "metadata": {
    "execution": {
     "iopub.execute_input": "2024-05-22T13:58:15.489301Z",
     "iopub.status.busy": "2024-05-22T13:58:15.488834Z",
     "iopub.status.idle": "2024-05-22T13:58:15.492753Z",
     "shell.execute_reply": "2024-05-22T13:58:15.492400Z",
     "shell.execute_reply.started": "2024-05-22T13:58:15.489285Z"
    }
   },
   "outputs": [
    {
     "name": "stdout",
     "output_type": "stream",
     "text": [
      "We are still missing a total of 2556441 cells\n",
      "T_CD4_Naive: 792955 cells missing\n",
      "T_CD4_NonNaive: 778897 cells missing\n",
      "T_CD8_Naive: 213776 cells missing\n",
      "T_CD8_NonNaive: 640382 cells missing\n",
      "UTC: 130431 cells missing\n"
     ]
    }
   ],
   "source": [
    "next_step_categories = cell_counts.index.difference(set(finished_categories).union(set(not_interesting_categories)))\n",
    "total_cells_of_interest = cell_counts.loc[next_step_categories].sum()\n",
    "print(f\"We are still missing a total of {total_cells_of_interest} cells\")\n",
    "for category in next_step_categories:\n",
    "    cells_missing = cell_counts.loc[category]\n",
    "    print(f\"{category}: {cells_missing} cells missing\")"
   ]
  },
  {
   "cell_type": "code",
   "execution_count": 25,
   "metadata": {
    "execution": {
     "iopub.execute_input": "2024-05-22T13:58:15.808900Z",
     "iopub.status.busy": "2024-05-22T13:58:15.808748Z",
     "iopub.status.idle": "2024-05-22T13:58:16.024080Z",
     "shell.execute_reply": "2024-05-22T13:58:16.023655Z",
     "shell.execute_reply.started": "2024-05-22T13:58:15.808883Z"
    }
   },
   "outputs": [
    {
     "data": {
      "text/plain": [
       "array(['pDC', 'Doublets', 'LowQuality_cells', 'Platelets',\n",
       "       'DC_Proliferative', 'DC5', 'cDC2', 'cDC3', 'DC_CCR7',\n",
       "       'Mono_regulatory', 'Mono_classical', 'Mono_nonClassical',\n",
       "       'Mono_inflammatory', 'Mono_IFNresponse', 'cDC1', 'DC4', 'RBC',\n",
       "       'T_CD8_NonNaive', 'T_CD4_Naive', 'T_CD4_NonNaive',\n",
       "       'NK_CD56dimCD16', 'T_CD8_Naive', 'NK_IFN1response',\n",
       "       'NK_lowRibocontent', 'NK_adaptive', 'NK_CD56high',\n",
       "       'NK_Proliferative', 'UTC', 'T_Proliferative', 'NK_CD16high',\n",
       "       'T_Progenitors', 'Plasma_IGHA', 'Plasma_IGHG',\n",
       "       'Plasma_Proliferative', 'Plasma_XBP1', 'B_Memory_switched',\n",
       "       'B_Naive', 'HSC_LMP', 'HSC_MMP', 'B_Progenitors', 'HSC_MEMP',\n",
       "       'B_Naive_activated', 'B_Transitional', 'B_Memory_ITGAX',\n",
       "       'B_IFNresponder', 'B_Memory_unswitched'], dtype=object)"
      ]
     },
     "execution_count": 25,
     "metadata": {},
     "output_type": "execute_result"
    }
   ],
   "source": [
    "master_AnnotDF[annotation_col_name].unique()"
   ]
  },
  {
   "cell_type": "raw",
   "metadata": {
    "execution": {
     "iopub.execute_input": "2024-05-07T12:56:31.185883Z",
     "iopub.status.busy": "2024-05-07T12:56:31.185479Z",
     "iopub.status.idle": "2024-05-07T12:56:31.212718Z",
     "shell.execute_reply": "2024-05-07T12:56:31.212139Z",
     "shell.execute_reply.started": "2024-05-07T12:56:31.185861Z"
    }
   },
   "source": [
    "template_path = here('01_fromDatasets_to_CellLineages/template')\n",
    "template_notebook_list = [str(template_path) + '/' + f for f in os.listdir(template_path) if f.endswith('.ipynb')]\n",
    "\n",
    "annotation_path = str(here(f\"02_fromCellLineages_to_CellTypes/{step}/{step}_clusterAnnotDF.pkl\"))\n",
    "targetdir = str(here(f'02_fromCellLineages_to_CellTypes/{next_step}'))\n",
    "os.makedirs(targetdir)\n",
    "\n",
    "for cellGroup in master_AnnotDF[annotation_col_name].unique():\n",
    "    if cellGroup in next_step_categories: \n",
    "        print(cellGroup)\n",
    "        # Generate the directory tree\n",
    "        os.makedirs(here('{}/{}/results/figures'.format(targetdir, cellGroup)), exist_ok=False)\n",
    "        for template_notebook in template_notebook_list:\n",
    "            generate_split_dir(cellGroup = cellGroup, \n",
    "                               annotationPath = annotation_path, \n",
    "                               targetDir = targetdir, \n",
    "                               annotation_col_name = annotation_col_name,\n",
    "                               templateNotebook = template_notebook)\n",
    "    else: \n",
    "        print(f\"Skipping {cellGroup}\")"
   ]
  },
  {
   "cell_type": "code",
   "execution_count": 26,
   "metadata": {
    "execution": {
     "iopub.execute_input": "2024-05-22T13:58:16.665082Z",
     "iopub.status.busy": "2024-05-22T13:58:16.664678Z",
     "iopub.status.idle": "2024-05-22T13:58:16.671573Z",
     "shell.execute_reply": "2024-05-22T13:58:16.671223Z",
     "shell.execute_reply.started": "2024-05-22T13:58:16.665064Z"
    }
   },
   "outputs": [
    {
     "data": {
      "text/html": [
       "<div>\n",
       "<style scoped>\n",
       "    .dataframe tbody tr th:only-of-type {\n",
       "        vertical-align: middle;\n",
       "    }\n",
       "\n",
       "    .dataframe tbody tr th {\n",
       "        vertical-align: top;\n",
       "    }\n",
       "\n",
       "    .dataframe thead th {\n",
       "        text-align: right;\n",
       "    }\n",
       "</style>\n",
       "<table border=\"1\" class=\"dataframe\">\n",
       "  <thead>\n",
       "    <tr style=\"text-align: right;\">\n",
       "      <th></th>\n",
       "      <th>annotation_step_1</th>\n",
       "      <th>annotation_step_2</th>\n",
       "      <th>annotation_step_3</th>\n",
       "      <th>annotation_step_4</th>\n",
       "    </tr>\n",
       "    <tr>\n",
       "      <th>cellID</th>\n",
       "      <th></th>\n",
       "      <th></th>\n",
       "      <th></th>\n",
       "      <th></th>\n",
       "    </tr>\n",
       "  </thead>\n",
       "  <tbody>\n",
       "    <tr>\n",
       "      <th>SCGT00_L051_I53.3P_T0_AACCAACGTGGGATTG</th>\n",
       "      <td>pDC</td>\n",
       "      <td>pDC</td>\n",
       "      <td>pDC</td>\n",
       "      <td>pDC</td>\n",
       "    </tr>\n",
       "    <tr>\n",
       "      <th>SCGT00_L051_I58.3P_T0_ACCTGAAAGTGCCAGA</th>\n",
       "      <td>pDC</td>\n",
       "      <td>pDC</td>\n",
       "      <td>pDC</td>\n",
       "      <td>pDC</td>\n",
       "    </tr>\n",
       "    <tr>\n",
       "      <th>SCGT00_L051_I53.3P_T0_ACTATGGAGGCGCTCT</th>\n",
       "      <td>pDC</td>\n",
       "      <td>pDC</td>\n",
       "      <td>pDC</td>\n",
       "      <td>pDC</td>\n",
       "    </tr>\n",
       "    <tr>\n",
       "      <th>SCGT00_L051_I55.3P_T0_ACTTTCACATGGGTTT</th>\n",
       "      <td>pDC</td>\n",
       "      <td>pDC</td>\n",
       "      <td>pDC</td>\n",
       "      <td>pDC</td>\n",
       "    </tr>\n",
       "    <tr>\n",
       "      <th>SCGT00_L051_I52.3P_T0_ATCACAGTCATCGGGC</th>\n",
       "      <td>pDC</td>\n",
       "      <td>pDC</td>\n",
       "      <td>pDC</td>\n",
       "      <td>pDC</td>\n",
       "    </tr>\n",
       "  </tbody>\n",
       "</table>\n",
       "</div>"
      ],
      "text/plain": [
       "                                       annotation_step_1 annotation_step_2  \\\n",
       "cellID                                                                       \n",
       "SCGT00_L051_I53.3P_T0_AACCAACGTGGGATTG               pDC               pDC   \n",
       "SCGT00_L051_I58.3P_T0_ACCTGAAAGTGCCAGA               pDC               pDC   \n",
       "SCGT00_L051_I53.3P_T0_ACTATGGAGGCGCTCT               pDC               pDC   \n",
       "SCGT00_L051_I55.3P_T0_ACTTTCACATGGGTTT               pDC               pDC   \n",
       "SCGT00_L051_I52.3P_T0_ATCACAGTCATCGGGC               pDC               pDC   \n",
       "\n",
       "                                       annotation_step_3 annotation_step_4  \n",
       "cellID                                                                      \n",
       "SCGT00_L051_I53.3P_T0_AACCAACGTGGGATTG               pDC               pDC  \n",
       "SCGT00_L051_I58.3P_T0_ACCTGAAAGTGCCAGA               pDC               pDC  \n",
       "SCGT00_L051_I53.3P_T0_ACTATGGAGGCGCTCT               pDC               pDC  \n",
       "SCGT00_L051_I55.3P_T0_ACTTTCACATGGGTTT               pDC               pDC  \n",
       "SCGT00_L051_I52.3P_T0_ATCACAGTCATCGGGC               pDC               pDC  "
      ]
     },
     "execution_count": 26,
     "metadata": {},
     "output_type": "execute_result"
    }
   ],
   "source": [
    "master_AnnotDF.head()"
   ]
  },
  {
   "cell_type": "code",
   "execution_count": 27,
   "metadata": {
    "execution": {
     "iopub.execute_input": "2024-05-22T13:58:17.080915Z",
     "iopub.status.busy": "2024-05-22T13:58:17.080464Z",
     "iopub.status.idle": "2024-05-22T13:58:19.632486Z",
     "shell.execute_reply": "2024-05-22T13:58:19.632028Z",
     "shell.execute_reply.started": "2024-05-22T13:58:17.080894Z"
    }
   },
   "outputs": [],
   "source": [
    "# Save Level1\n",
    "master_AnnotDF.to_pickle(here(f\"02_fromCellLineages_to_CellTypes/master_clusterAnnotDF.pkl\"))"
   ]
  },
  {
   "cell_type": "code",
   "execution_count": 28,
   "metadata": {
    "execution": {
     "iopub.execute_input": "2024-05-22T13:58:19.633473Z",
     "iopub.status.busy": "2024-05-22T13:58:19.633235Z",
     "iopub.status.idle": "2024-05-22T13:58:20.175196Z",
     "shell.execute_reply": "2024-05-22T13:58:20.174748Z",
     "shell.execute_reply.started": "2024-05-22T13:58:19.633457Z"
    }
   },
   "outputs": [
    {
     "data": {
      "text/html": [
       "<details>\n",
       "<summary>Click to view session information</summary>\n",
       "<pre>\n",
       "-----\n",
       "customPythonFunctions       NA\n",
       "numpy                       1.26.4\n",
       "pandas                      2.2.0\n",
       "pyprojroot                  NA\n",
       "session_info                1.0.0\n",
       "-----\n",
       "</pre>\n",
       "<details>\n",
       "<summary>Click to view modules imported as dependencies</summary>\n",
       "<pre>\n",
       "anyio                       NA\n",
       "argcomplete                 NA\n",
       "arrow                       1.3.0\n",
       "asttokens                   NA\n",
       "attr                        23.2.0\n",
       "attrs                       23.2.0\n",
       "babel                       2.14.0\n",
       "brotli                      1.1.0\n",
       "certifi                     2024.02.02\n",
       "charset_normalizer          3.3.2\n",
       "colorama                    0.4.6\n",
       "comm                        0.2.1\n",
       "cython_runtime              NA\n",
       "dateutil                    2.8.2\n",
       "debugpy                     1.8.1\n",
       "decorator                   5.1.1\n",
       "exceptiongroup              1.2.0\n",
       "executing                   2.0.1\n",
       "fastjsonschema              NA\n",
       "fqdn                        NA\n",
       "idna                        3.6\n",
       "ipykernel                   6.29.2\n",
       "isoduration                 NA\n",
       "jedi                        0.19.1\n",
       "jinja2                      3.1.3\n",
       "json5                       NA\n",
       "jsonpointer                 2.4\n",
       "jsonschema                  4.21.1\n",
       "jsonschema_specifications   NA\n",
       "jupyter_events              0.9.0\n",
       "jupyter_server              2.12.5\n",
       "jupyterlab_server           2.25.3\n",
       "markupsafe                  2.1.5\n",
       "nbformat                    5.9.2\n",
       "overrides                   NA\n",
       "packaging                   23.2\n",
       "parso                       0.8.3\n",
       "pickleshare                 0.7.5\n",
       "platformdirs                4.2.0\n",
       "prometheus_client           NA\n",
       "prompt_toolkit              3.0.42\n",
       "psutil                      5.9.8\n",
       "pure_eval                   0.2.2\n",
       "pyarrow                     15.0.0\n",
       "pydev_ipython               NA\n",
       "pydevconsole                NA\n",
       "pydevd                      2.9.5\n",
       "pydevd_file_utils           NA\n",
       "pydevd_plugins              NA\n",
       "pydevd_tracing              NA\n",
       "pygments                    2.17.2\n",
       "pythonjsonlogger            NA\n",
       "pytz                        2024.1\n",
       "referencing                 NA\n",
       "requests                    2.31.0\n",
       "rfc3339_validator           0.1.4\n",
       "rfc3986_validator           0.1.1\n",
       "rpds                        NA\n",
       "send2trash                  NA\n",
       "simplejson                  3.19.2\n",
       "six                         1.16.0\n",
       "sniffio                     1.3.0\n",
       "socks                       1.7.1\n",
       "stack_data                  0.6.2\n",
       "tornado                     6.4\n",
       "traitlets                   5.14.1\n",
       "typing_extensions           NA\n",
       "uri_template                NA\n",
       "urllib3                     2.2.1\n",
       "wcwidth                     0.2.13\n",
       "webcolors                   1.13\n",
       "websocket                   1.7.0\n",
       "yaml                        6.0.1\n",
       "zmq                         25.1.2\n",
       "zoneinfo                    NA\n",
       "zstandard                   0.22.0\n",
       "</pre>\n",
       "</details> <!-- seems like this ends pre, so might as well be explicit -->\n",
       "<pre>\n",
       "-----\n",
       "IPython             8.21.0\n",
       "jupyter_client      8.6.0\n",
       "jupyter_core        5.7.1\n",
       "jupyterlab          4.1.2\n",
       "-----\n",
       "Python 3.10.13 | packaged by conda-forge | (main, Dec 23 2023, 15:36:39) [GCC 12.3.0]\n",
       "Linux-3.10.0-1160.88.1.el7.x86_64-x86_64-with-glibc2.17\n",
       "-----\n",
       "Session information updated at 2024-05-22 15:58\n",
       "</pre>\n",
       "</details>"
      ],
      "text/plain": [
       "<IPython.core.display.HTML object>"
      ]
     },
     "execution_count": 28,
     "metadata": {},
     "output_type": "execute_result"
    }
   ],
   "source": [
    "session_info.show()"
   ]
  },
  {
   "cell_type": "code",
   "execution_count": null,
   "metadata": {},
   "outputs": [],
   "source": []
  }
 ],
 "metadata": {
  "kernelspec": {
   "display_name": "Python 3 (ipykernel)",
   "language": "python",
   "name": "python3"
  },
  "language_info": {
   "codemirror_mode": {
    "name": "ipython",
    "version": 3
   },
   "file_extension": ".py",
   "mimetype": "text/x-python",
   "name": "python",
   "nbconvert_exporter": "python",
   "pygments_lexer": "ipython3",
   "version": "3.10.13"
  },
  "toc": {
   "base_numbering": 1,
   "nav_menu": {},
   "number_sections": true,
   "sideBar": true,
   "skip_h1_title": false,
   "title_cell": "Table of Contents",
   "title_sidebar": "Contents",
   "toc_cell": false,
   "toc_position": {},
   "toc_section_display": true,
   "toc_window_display": false
  }
 },
 "nbformat": 4,
 "nbformat_minor": 4
}
