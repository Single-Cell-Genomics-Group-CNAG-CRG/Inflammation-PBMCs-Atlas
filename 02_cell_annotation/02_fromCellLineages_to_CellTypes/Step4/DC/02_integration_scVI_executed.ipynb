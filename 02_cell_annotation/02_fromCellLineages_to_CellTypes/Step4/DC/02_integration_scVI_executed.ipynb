{
 "cells": [
  {
   "cell_type": "code",
   "execution_count": 1,
   "id": "2dd1425a-0c07-465e-b522-9e3cc5cb93a7",
   "metadata": {
    "execution": {
     "iopub.execute_input": "2024-05-06T16:38:45.194474Z",
     "iopub.status.busy": "2024-05-06T16:38:45.193799Z",
     "iopub.status.idle": "2024-05-06T16:38:56.970332Z",
     "shell.execute_reply": "2024-05-06T16:38:56.969711Z"
    },
    "papermill": {
     "duration": 11.784597,
     "end_time": "2024-05-06T16:38:56.972220",
     "exception": false,
     "start_time": "2024-05-06T16:38:45.187623",
     "status": "completed"
    },
    "tags": []
   },
   "outputs": [
    {
     "data": {
      "text/plain": [
       "True"
      ]
     },
     "execution_count": 1,
     "metadata": {},
     "output_type": "execute_result"
    }
   ],
   "source": [
    "import os\n",
    "import sys\n",
    "\n",
    "import numpy as np\n",
    "import matplotlib.pyplot as plt\n",
    "\n",
    "import scanpy as sc\n",
    "import scvi\n",
    "import torch\n",
    "\n",
    "from pytorch_lightning.loggers import WandbLogger\n",
    "import wandb\n",
    "from dotenv import load_dotenv\n",
    "\n",
    "import session_info\n",
    "import warnings\n",
    "from pyprojroot.here import here\n",
    "\n",
    "warnings.filterwarnings(\"ignore\")\n",
    "sys.path.insert(1, str(here('bin')))\n",
    "\n",
    "torch.set_float32_matmul_precision('high')\n",
    "\n",
    "#plt.style.use(['science','nature','no-latex'])\n",
    "dpi_fig_save = 300\n",
    "sc.set_figure_params(dpi=100, dpi_save=dpi_fig_save, vector_friendly=True)\n",
    "\n",
    "load_dotenv(here('.env'))"
   ]
  },
  {
   "cell_type": "code",
   "execution_count": 2,
   "id": "09c897fc-744b-43de-a681-718fb5d327fa",
   "metadata": {
    "execution": {
     "iopub.execute_input": "2024-05-06T16:38:56.983521Z",
     "iopub.status.busy": "2024-05-06T16:38:56.983217Z",
     "iopub.status.idle": "2024-05-06T16:38:56.987219Z",
     "shell.execute_reply": "2024-05-06T16:38:56.986549Z"
    },
    "papermill": {
     "duration": 0.010778,
     "end_time": "2024-05-06T16:38:56.988844",
     "exception": false,
     "start_time": "2024-05-06T16:38:56.978066",
     "status": "completed"
    },
    "tags": []
   },
   "outputs": [],
   "source": [
    "class CustomWandbLogger(WandbLogger):\n",
    "    @property\n",
    "    def save_dir(self):\n",
    "        return self.experiment.dir"
   ]
  },
  {
   "cell_type": "code",
   "execution_count": 3,
   "id": "8ee6662f-5d45-4137-80a5-bb0b9ae8d71f",
   "metadata": {
    "execution": {
     "iopub.execute_input": "2024-05-06T16:38:56.997501Z",
     "iopub.status.busy": "2024-05-06T16:38:56.997243Z",
     "iopub.status.idle": "2024-05-06T16:38:57.006149Z",
     "shell.execute_reply": "2024-05-06T16:38:57.005477Z"
    },
    "papermill": {
     "duration": 0.015324,
     "end_time": "2024-05-06T16:38:57.007863",
     "exception": false,
     "start_time": "2024-05-06T16:38:56.992539",
     "status": "completed"
    },
    "tags": []
   },
   "outputs": [
    {
     "name": "stderr",
     "output_type": "stream",
     "text": [
      "Seed set to 0\n"
     ]
    },
    {
     "name": "stdout",
     "output_type": "stream",
     "text": [
      "Last run with scvi-tools version: 1.1.2\n"
     ]
    }
   ],
   "source": [
    "scvi.settings.seed = 0\n",
    "print(\"Last run with scvi-tools version:\", scvi.__version__)"
   ]
  },
  {
   "cell_type": "markdown",
   "id": "a81037ff-5998-482a-ba86-520f757311a9",
   "metadata": {
    "papermill": {
     "duration": 0.005469,
     "end_time": "2024-05-06T16:38:57.017223",
     "exception": false,
     "start_time": "2024-05-06T16:38:57.011754",
     "status": "completed"
    },
    "tags": []
   },
   "source": [
    "**Setting parameters** "
   ]
  },
  {
   "cell_type": "code",
   "execution_count": 4,
   "id": "56c27966-8f10-4c93-8b1a-1fa75f005e41",
   "metadata": {
    "execution": {
     "iopub.execute_input": "2024-05-06T16:38:57.026387Z",
     "iopub.status.busy": "2024-05-06T16:38:57.026119Z",
     "iopub.status.idle": "2024-05-06T16:38:57.029391Z",
     "shell.execute_reply": "2024-05-06T16:38:57.028749Z"
    },
    "papermill": {
     "duration": 0.009797,
     "end_time": "2024-05-06T16:38:57.030974",
     "exception": false,
     "start_time": "2024-05-06T16:38:57.021177",
     "status": "completed"
    },
    "tags": []
   },
   "outputs": [],
   "source": [
    "overwriteFigures = True\n",
    "overwriteData = True"
   ]
  },
  {
   "cell_type": "code",
   "execution_count": 5,
   "id": "c86fccd3-a4fe-415b-8f4e-e2ceb3ec128a",
   "metadata": {
    "execution": {
     "iopub.execute_input": "2024-05-06T16:38:57.040201Z",
     "iopub.status.busy": "2024-05-06T16:38:57.039617Z",
     "iopub.status.idle": "2024-05-06T16:38:57.042870Z",
     "shell.execute_reply": "2024-05-06T16:38:57.042247Z"
    },
    "papermill": {
     "duration": 0.00969,
     "end_time": "2024-05-06T16:38:57.044446",
     "exception": false,
     "start_time": "2024-05-06T16:38:57.034756",
     "status": "completed"
    },
    "tags": []
   },
   "outputs": [],
   "source": [
    "cellGroup = 'DC'\n",
    "workDir = os.getcwd()"
   ]
  },
  {
   "cell_type": "code",
   "execution_count": 6,
   "id": "2dee4d55-d168-467b-b867-a61fed9d6af1",
   "metadata": {
    "execution": {
     "iopub.execute_input": "2024-05-06T16:38:57.053858Z",
     "iopub.status.busy": "2024-05-06T16:38:57.053233Z",
     "iopub.status.idle": "2024-05-06T16:38:57.056847Z",
     "shell.execute_reply": "2024-05-06T16:38:57.056216Z"
    },
    "papermill": {
     "duration": 0.010024,
     "end_time": "2024-05-06T16:38:57.058386",
     "exception": false,
     "start_time": "2024-05-06T16:38:57.048362",
     "status": "completed"
    },
    "tags": []
   },
   "outputs": [],
   "source": [
    "annotationLevel = os.path.basename(os.path.normpath(workDir))"
   ]
  },
  {
   "cell_type": "code",
   "execution_count": 7,
   "id": "11e53cd5-b746-4152-89cb-c2f0c15d90b3",
   "metadata": {
    "execution": {
     "iopub.execute_input": "2024-05-06T16:38:57.067855Z",
     "iopub.status.busy": "2024-05-06T16:38:57.067387Z",
     "iopub.status.idle": "2024-05-06T16:38:57.071805Z",
     "shell.execute_reply": "2024-05-06T16:38:57.071174Z"
    },
    "papermill": {
     "duration": 0.010998,
     "end_time": "2024-05-06T16:38:57.073395",
     "exception": false,
     "start_time": "2024-05-06T16:38:57.062397",
     "status": "completed"
    },
    "tags": []
   },
   "outputs": [
    {
     "data": {
      "text/plain": [
       "'/home/jupyter/Inflammation-PBMCs-Atlas/02_cell_annotation/02_fromCellLineages_to_CellTypes/Step4'"
      ]
     },
     "execution_count": 7,
     "metadata": {},
     "output_type": "execute_result"
    }
   ],
   "source": [
    "workDir"
   ]
  },
  {
   "cell_type": "markdown",
   "id": "171d2f06-9a44-4fcb-b437-35dc546674b6",
   "metadata": {
    "papermill": {
     "duration": 0.006023,
     "end_time": "2024-05-06T16:38:57.083473",
     "exception": false,
     "start_time": "2024-05-06T16:38:57.077450",
     "status": "completed"
    },
    "tags": []
   },
   "source": [
    "**Load data**"
   ]
  },
  {
   "cell_type": "code",
   "execution_count": 8,
   "id": "429f34fe-dde6-4cc9-9f75-7de8f85c5ffe",
   "metadata": {
    "execution": {
     "iopub.execute_input": "2024-05-06T16:38:57.093440Z",
     "iopub.status.busy": "2024-05-06T16:38:57.092765Z",
     "iopub.status.idle": "2024-05-06T16:38:59.452159Z",
     "shell.execute_reply": "2024-05-06T16:38:59.451389Z"
    },
    "papermill": {
     "duration": 2.366191,
     "end_time": "2024-05-06T16:38:59.453896",
     "exception": false,
     "start_time": "2024-05-06T16:38:57.087705",
     "status": "completed"
    },
    "tags": []
   },
   "outputs": [
    {
     "data": {
      "text/plain": [
       "AnnData object with n_obs × n_vars = 47276 × 2367\n",
       "    obs: 'studyID', 'libraryID', 'sampleID', 'chemistry', 'technology', 'patientID', 'disease', 'timepoint_replicate', 'treatmentStatus', 'therapyResponse', 'sex', 'age', 'BMI', 'binned_age', 'diseaseStatus', 'smokingStatus', 'ethnicity', 'institute', 'diseaseGroup', 'n_genes_by_counts', 'log1p_n_genes_by_counts', 'total_counts', 'log1p_total_counts', 'pct_counts_in_top_20_genes', 'total_counts_mt', 'log1p_total_counts_mt', 'pct_counts_mt', 'total_counts_ribo', 'log1p_total_counts_ribo', 'pct_counts_ribo', 'total_counts_hb', 'log1p_total_counts_hb', 'pct_counts_hb', 'total_counts_plt', 'log1p_total_counts_plt', 'pct_counts_plt', 'doublet_score', 'predicted_doublet', 'S_score', 'G2M_score', 'phase'\n",
       "    var: 'hgnc_id', 'symbol', 'locus_group', 'HUGO_status', 'mt', 'ribo', 'hb', 'plt', 'n_cells_by_counts', 'mean_counts', 'log1p_mean_counts', 'pct_dropout_by_counts', 'total_counts', 'log1p_total_counts', 'highly_variable'\n",
       "    uns: 'chemistry_colors', 'log1p'\n",
       "    layers: 'counts', 'log1p_10e4_counts'"
      ]
     },
     "execution_count": 8,
     "metadata": {},
     "output_type": "execute_result"
    }
   ],
   "source": [
    "adata = sc.read_h5ad(here(f\"{workDir}/{cellGroup}/results/01_{cellGroup}_normalized_HVGsubset.h5ad\"))\n",
    "adata"
   ]
  },
  {
   "cell_type": "markdown",
   "id": "8ac79f3b-d5af-41fa-8904-1e9ac1cbe2fb",
   "metadata": {
    "papermill": {
     "duration": 0.004342,
     "end_time": "2024-05-06T16:38:59.462678",
     "exception": false,
     "start_time": "2024-05-06T16:38:59.458336",
     "status": "completed"
    },
    "tags": []
   },
   "source": [
    "## scVI integration"
   ]
  },
  {
   "cell_type": "markdown",
   "id": "9544847d-d17f-4811-b14b-760446d54d32",
   "metadata": {
    "execution": {
     "iopub.execute_input": "2024-03-25T16:49:04.004504Z",
     "iopub.status.busy": "2024-03-25T16:49:04.004143Z",
     "iopub.status.idle": "2024-03-25T16:49:04.010148Z",
     "shell.execute_reply": "2024-03-25T16:49:04.009146Z",
     "shell.execute_reply.started": "2024-03-25T16:49:04.004477Z"
    },
    "papermill": {
     "duration": 0.004222,
     "end_time": "2024-05-06T16:38:59.471107",
     "exception": false,
     "start_time": "2024-05-06T16:38:59.466885",
     "status": "completed"
    },
    "tags": []
   },
   "source": [
    "**scVI parameters**"
   ]
  },
  {
   "cell_type": "code",
   "execution_count": 9,
   "id": "208966eb-545a-4c02-854c-0ed0487ef5b3",
   "metadata": {
    "execution": {
     "iopub.execute_input": "2024-05-06T16:38:59.480954Z",
     "iopub.status.busy": "2024-05-06T16:38:59.480641Z",
     "iopub.status.idle": "2024-05-06T16:38:59.486605Z",
     "shell.execute_reply": "2024-05-06T16:38:59.485899Z"
    },
    "papermill": {
     "duration": 0.01307,
     "end_time": "2024-05-06T16:38:59.488365",
     "exception": false,
     "start_time": "2024-05-06T16:38:59.475295",
     "status": "completed"
    },
    "tags": []
   },
   "outputs": [],
   "source": [
    "# https://docs.scvi-tools.org/en/stable/api/reference/scvi.train.Trainer.html#scvi.train.Trainer\n",
    "setup_kwargs = dict(\n",
    "    layer=\"counts\", \n",
    "    batch_key='libraryID', \n",
    "    categorical_covariate_keys = ['studyID', 'chemistry', 'disease', 'sampleID'],\n",
    "    labels_key = 'chemistry'    \n",
    ")\n",
    "\n",
    "scvi_kwargs = dict(n_hidden=512,\n",
    "                   n_latent=10, # reduced to 20 after step 00 (main) and to 10 after step 03\n",
    "                   n_layers=2,\n",
    "                   gene_likelihood='nb',\n",
    "                   dispersion='gene-label')\n",
    "\n",
    "trainer_kwargs = dict(\n",
    "    checkpointing_monitor = 'elbo_validation',\n",
    "    early_stopping_monitor = 'reconstruction_loss_validation',\n",
    "    early_stopping_patience = 10,\n",
    "    early_stopping_min_delta=0.1,\n",
    "    early_stopping = True,\n",
    "    max_epochs = 1000,\n",
    "\n",
    "    #logger = # wandb\n",
    ")\n",
    "# https://docs.scvi-tools.org/en/stable/api/reference/scvi.train.TrainingPlan.html#scvi.train.TrainingPlan\n",
    "plan_kwargs = dict(\n",
    "    lr = 5e-4,\n",
    "    #reduce_lr_on_plateau = True\n",
    ")\n",
    "\n",
    "# https://docs.scvi-tools.org/en/stable/api/reference/scvi.module.VAE.html#scvi.module.VAE\n",
    "#vae = dict(\n",
    "#    use_layer_norm='both',\n",
    "#    use_batch_norm='none',\n",
    "#    encode_covariates=True,\n",
    "#    deeply_inject_covariates=False\n",
    "#)\n",
    "parameter_dict = setup_kwargs | scvi_kwargs | trainer_kwargs | plan_kwargs"
   ]
  },
  {
   "cell_type": "markdown",
   "id": "1362366a-c16b-4c11-964b-b9c5f82f7b29",
   "metadata": {
    "papermill": {
     "duration": 0.004089,
     "end_time": "2024-05-06T16:38:59.496629",
     "exception": false,
     "start_time": "2024-05-06T16:38:59.492540",
     "status": "completed"
    },
    "tags": []
   },
   "source": [
    "**wandb parameter**"
   ]
  },
  {
   "cell_type": "code",
   "execution_count": 10,
   "id": "0496e33a-8ca5-423f-b42f-34a59760708c",
   "metadata": {
    "execution": {
     "iopub.execute_input": "2024-05-06T16:38:59.507184Z",
     "iopub.status.busy": "2024-05-06T16:38:59.506646Z",
     "iopub.status.idle": "2024-05-06T16:38:59.511613Z",
     "shell.execute_reply": "2024-05-06T16:38:59.510983Z"
    },
    "papermill": {
     "duration": 0.012101,
     "end_time": "2024-05-06T16:38:59.513216",
     "exception": false,
     "start_time": "2024-05-06T16:38:59.501115",
     "status": "completed"
    },
    "tags": []
   },
   "outputs": [
    {
     "data": {
      "text/plain": [
       "'Step4_DC'"
      ]
     },
     "execution_count": 10,
     "metadata": {},
     "output_type": "execute_result"
    }
   ],
   "source": [
    "run_name = f\"{annotationLevel}_{cellGroup}\"\n",
    "run_name"
   ]
  },
  {
   "cell_type": "code",
   "execution_count": 11,
   "id": "b0021327-95a2-4002-bf32-2c5779a99505",
   "metadata": {
    "execution": {
     "iopub.execute_input": "2024-05-06T16:38:59.523441Z",
     "iopub.status.busy": "2024-05-06T16:38:59.523195Z",
     "iopub.status.idle": "2024-05-06T16:38:59.673462Z",
     "shell.execute_reply": "2024-05-06T16:38:59.672693Z"
    },
    "papermill": {
     "duration": 0.158226,
     "end_time": "2024-05-06T16:38:59.675747",
     "exception": false,
     "start_time": "2024-05-06T16:38:59.517521",
     "status": "completed"
    },
    "tags": []
   },
   "outputs": [],
   "source": [
    "logger = CustomWandbLogger(name = run_name, project='inflammation_atlas_R1', config=parameter_dict)"
   ]
  },
  {
   "cell_type": "markdown",
   "id": "c237eee1-a976-4915-9b7f-b014bf33f47d",
   "metadata": {
    "papermill": {
     "duration": 0.004586,
     "end_time": "2024-05-06T16:38:59.684998",
     "exception": false,
     "start_time": "2024-05-06T16:38:59.680412",
     "status": "completed"
    },
    "tags": []
   },
   "source": [
    "**Running integration**"
   ]
  },
  {
   "cell_type": "code",
   "execution_count": 12,
   "id": "aff97c53-1aba-462e-8a77-f1aec9cf724c",
   "metadata": {
    "execution": {
     "iopub.execute_input": "2024-05-06T16:38:59.696005Z",
     "iopub.status.busy": "2024-05-06T16:38:59.695243Z",
     "iopub.status.idle": "2024-05-06T16:39:01.386139Z",
     "shell.execute_reply": "2024-05-06T16:39:01.385014Z"
    },
    "papermill": {
     "duration": 1.698838,
     "end_time": "2024-05-06T16:39:01.388414",
     "exception": false,
     "start_time": "2024-05-06T16:38:59.689576",
     "status": "completed"
    },
    "tags": []
   },
   "outputs": [],
   "source": [
    "scvi.model.SCVI.setup_anndata(adata, \n",
    "                              **setup_kwargs)"
   ]
  },
  {
   "cell_type": "code",
   "execution_count": 13,
   "id": "1a56f448-cf44-47c1-81a4-a89caa930fec",
   "metadata": {
    "execution": {
     "iopub.execute_input": "2024-05-06T16:39:01.399491Z",
     "iopub.status.busy": "2024-05-06T16:39:01.399152Z",
     "iopub.status.idle": "2024-05-06T16:39:01.753549Z",
     "shell.execute_reply": "2024-05-06T16:39:01.752767Z"
    },
    "papermill": {
     "duration": 0.362594,
     "end_time": "2024-05-06T16:39:01.755835",
     "exception": false,
     "start_time": "2024-05-06T16:39:01.393241",
     "status": "completed"
    },
    "tags": []
   },
   "outputs": [],
   "source": [
    "model = scvi.model.SCVI(adata, **scvi_kwargs)"
   ]
  },
  {
   "cell_type": "code",
   "execution_count": 14,
   "id": "2735f010-4f24-4ae8-9740-a8cfeb335e9a",
   "metadata": {
    "execution": {
     "iopub.execute_input": "2024-05-06T16:39:01.767043Z",
     "iopub.status.busy": "2024-05-06T16:39:01.766371Z",
     "iopub.status.idle": "2024-05-06T16:42:05.726187Z",
     "shell.execute_reply": "2024-05-06T16:42:05.725426Z"
    },
    "papermill": {
     "duration": 183.967532,
     "end_time": "2024-05-06T16:42:05.728016",
     "exception": false,
     "start_time": "2024-05-06T16:39:01.760484",
     "status": "completed"
    },
    "tags": []
   },
   "outputs": [
    {
     "name": "stderr",
     "output_type": "stream",
     "text": [
      "GPU available: True (cuda), used: True\n"
     ]
    },
    {
     "name": "stderr",
     "output_type": "stream",
     "text": [
      "TPU available: False, using: 0 TPU cores\n"
     ]
    },
    {
     "name": "stderr",
     "output_type": "stream",
     "text": [
      "IPU available: False, using: 0 IPUs\n"
     ]
    },
    {
     "name": "stderr",
     "output_type": "stream",
     "text": [
      "HPU available: False, using: 0 HPUs\n"
     ]
    },
    {
     "name": "stderr",
     "output_type": "stream",
     "text": [
      "\u001b[34m\u001b[1mwandb\u001b[0m: Currently logged in as: \u001b[33mdav1989\u001b[0m (\u001b[33minflammation\u001b[0m). Use \u001b[1m`wandb login --relogin`\u001b[0m to force relogin\n"
     ]
    },
    {
     "name": "stderr",
     "output_type": "stream",
     "text": [
      "\u001b[34m\u001b[1mwandb\u001b[0m: wandb version 0.16.6 is available!  To upgrade, please run:\n",
      "\u001b[34m\u001b[1mwandb\u001b[0m:  $ pip install wandb --upgrade\n"
     ]
    },
    {
     "name": "stderr",
     "output_type": "stream",
     "text": [
      "\u001b[34m\u001b[1mwandb\u001b[0m: Tracking run with wandb version 0.16.3\n"
     ]
    },
    {
     "name": "stderr",
     "output_type": "stream",
     "text": [
      "\u001b[34m\u001b[1mwandb\u001b[0m: Run data is saved locally in \u001b[35m\u001b[1m./wandb/run-20240506_163909-q8pdl2ej\u001b[0m\n",
      "\u001b[34m\u001b[1mwandb\u001b[0m: Run \u001b[1m`wandb offline`\u001b[0m to turn off syncing.\n"
     ]
    },
    {
     "name": "stderr",
     "output_type": "stream",
     "text": [
      "\u001b[34m\u001b[1mwandb\u001b[0m: Syncing run \u001b[33mStep4_DC\u001b[0m\n"
     ]
    },
    {
     "name": "stderr",
     "output_type": "stream",
     "text": [
      "\u001b[34m\u001b[1mwandb\u001b[0m: ⭐️ View project at \u001b[34m\u001b[4mhttps://wandb.ai/inflammation/inflammation_atlas_R1\u001b[0m\n"
     ]
    },
    {
     "name": "stderr",
     "output_type": "stream",
     "text": [
      "\u001b[34m\u001b[1mwandb\u001b[0m: 🚀 View run at \u001b[34m\u001b[4mhttps://wandb.ai/inflammation/inflammation_atlas_R1/runs/q8pdl2ej\u001b[0m\n"
     ]
    },
    {
     "name": "stderr",
     "output_type": "stream",
     "text": [
      "LOCAL_RANK: 0 - CUDA_VISIBLE_DEVICES: [0]\n"
     ]
    },
    {
     "name": "stdout",
     "output_type": "stream",
     "text": [
      "\r",
      "Training:   0%|          | 0/1000 [00:00<?, ?it/s]"
     ]
    },
    {
     "name": "stdout",
     "output_type": "stream",
     "text": [
      "\r",
      "Epoch 1/1000:   0%|          | 0/1000 [00:00<?, ?it/s]"
     ]
    },
    {
     "name": "stdout",
     "output_type": "stream",
     "text": [
      "\r",
      "Epoch 1/1000:   0%|          | 1/1000 [00:08<2:14:10,  8.06s/it]"
     ]
    },
    {
     "name": "stdout",
     "output_type": "stream",
     "text": [
      "\r",
      "Epoch 1/1000:   0%|          | 1/1000 [00:08<2:14:10,  8.06s/it, v_num=l2ej, train_loss_step=1.4e+3, train_loss_epoch=1.34e+3]"
     ]
    },
    {
     "name": "stdout",
     "output_type": "stream",
     "text": [
      "\r",
      "Epoch 2/1000:   0%|          | 1/1000 [00:08<2:14:10,  8.06s/it, v_num=l2ej, train_loss_step=1.4e+3, train_loss_epoch=1.34e+3]"
     ]
    },
    {
     "name": "stdout",
     "output_type": "stream",
     "text": [
      "\r",
      "Epoch 2/1000:   0%|          | 2/1000 [00:13<1:46:36,  6.41s/it, v_num=l2ej, train_loss_step=1.4e+3, train_loss_epoch=1.34e+3]"
     ]
    },
    {
     "name": "stdout",
     "output_type": "stream",
     "text": [
      "\r",
      "Epoch 2/1000:   0%|          | 2/1000 [00:13<1:46:36,  6.41s/it, v_num=l2ej, train_loss_step=1.32e+3, train_loss_epoch=1.29e+3]"
     ]
    },
    {
     "name": "stdout",
     "output_type": "stream",
     "text": [
      "\r",
      "Epoch 3/1000:   0%|          | 2/1000 [00:13<1:46:36,  6.41s/it, v_num=l2ej, train_loss_step=1.32e+3, train_loss_epoch=1.29e+3]"
     ]
    },
    {
     "name": "stdout",
     "output_type": "stream",
     "text": [
      "\r",
      "Epoch 3/1000:   0%|          | 3/1000 [00:18<1:37:54,  5.89s/it, v_num=l2ej, train_loss_step=1.32e+3, train_loss_epoch=1.29e+3]"
     ]
    },
    {
     "name": "stdout",
     "output_type": "stream",
     "text": [
      "\r",
      "Epoch 3/1000:   0%|          | 3/1000 [00:18<1:37:54,  5.89s/it, v_num=l2ej, train_loss_step=1.29e+3, train_loss_epoch=1.28e+3]"
     ]
    },
    {
     "name": "stdout",
     "output_type": "stream",
     "text": [
      "\r",
      "Epoch 4/1000:   0%|          | 3/1000 [00:18<1:37:54,  5.89s/it, v_num=l2ej, train_loss_step=1.29e+3, train_loss_epoch=1.28e+3]"
     ]
    },
    {
     "name": "stdout",
     "output_type": "stream",
     "text": [
      "\r",
      "Epoch 4/1000:   0%|          | 4/1000 [00:23<1:33:29,  5.63s/it, v_num=l2ej, train_loss_step=1.29e+3, train_loss_epoch=1.28e+3]"
     ]
    },
    {
     "name": "stdout",
     "output_type": "stream",
     "text": [
      "\r",
      "Epoch 4/1000:   0%|          | 4/1000 [00:23<1:33:29,  5.63s/it, v_num=l2ej, train_loss_step=1.26e+3, train_loss_epoch=1.27e+3]"
     ]
    },
    {
     "name": "stdout",
     "output_type": "stream",
     "text": [
      "\r",
      "Epoch 5/1000:   0%|          | 4/1000 [00:23<1:33:29,  5.63s/it, v_num=l2ej, train_loss_step=1.26e+3, train_loss_epoch=1.27e+3]"
     ]
    },
    {
     "name": "stdout",
     "output_type": "stream",
     "text": [
      "\r",
      "Epoch 5/1000:   0%|          | 5/1000 [00:29<1:30:53,  5.48s/it, v_num=l2ej, train_loss_step=1.26e+3, train_loss_epoch=1.27e+3]"
     ]
    },
    {
     "name": "stdout",
     "output_type": "stream",
     "text": [
      "\r",
      "Epoch 5/1000:   0%|          | 5/1000 [00:29<1:30:53,  5.48s/it, v_num=l2ej, train_loss_step=1.17e+3, train_loss_epoch=1.26e+3]"
     ]
    },
    {
     "name": "stdout",
     "output_type": "stream",
     "text": [
      "\r",
      "Epoch 6/1000:   0%|          | 5/1000 [00:29<1:30:53,  5.48s/it, v_num=l2ej, train_loss_step=1.17e+3, train_loss_epoch=1.26e+3]"
     ]
    },
    {
     "name": "stdout",
     "output_type": "stream",
     "text": [
      "\r",
      "Epoch 6/1000:   1%|          | 6/1000 [00:34<1:29:12,  5.38s/it, v_num=l2ej, train_loss_step=1.17e+3, train_loss_epoch=1.26e+3]"
     ]
    },
    {
     "name": "stdout",
     "output_type": "stream",
     "text": [
      "\r",
      "Epoch 6/1000:   1%|          | 6/1000 [00:34<1:29:12,  5.38s/it, v_num=l2ej, train_loss_step=1.27e+3, train_loss_epoch=1.25e+3]"
     ]
    },
    {
     "name": "stdout",
     "output_type": "stream",
     "text": [
      "\r",
      "Epoch 7/1000:   1%|          | 6/1000 [00:34<1:29:12,  5.38s/it, v_num=l2ej, train_loss_step=1.27e+3, train_loss_epoch=1.25e+3]"
     ]
    },
    {
     "name": "stdout",
     "output_type": "stream",
     "text": [
      "\r",
      "Epoch 7/1000:   1%|          | 7/1000 [00:39<1:27:24,  5.28s/it, v_num=l2ej, train_loss_step=1.27e+3, train_loss_epoch=1.25e+3]"
     ]
    },
    {
     "name": "stdout",
     "output_type": "stream",
     "text": [
      "\r",
      "Epoch 7/1000:   1%|          | 7/1000 [00:39<1:27:24,  5.28s/it, v_num=l2ej, train_loss_step=1.27e+3, train_loss_epoch=1.25e+3]"
     ]
    },
    {
     "name": "stdout",
     "output_type": "stream",
     "text": [
      "\r",
      "Epoch 8/1000:   1%|          | 7/1000 [00:39<1:27:24,  5.28s/it, v_num=l2ej, train_loss_step=1.27e+3, train_loss_epoch=1.25e+3]"
     ]
    },
    {
     "name": "stdout",
     "output_type": "stream",
     "text": [
      "\r",
      "Epoch 8/1000:   1%|          | 8/1000 [00:44<1:26:57,  5.26s/it, v_num=l2ej, train_loss_step=1.27e+3, train_loss_epoch=1.25e+3]"
     ]
    },
    {
     "name": "stdout",
     "output_type": "stream",
     "text": [
      "\r",
      "Epoch 8/1000:   1%|          | 8/1000 [00:44<1:26:57,  5.26s/it, v_num=l2ej, train_loss_step=1.29e+3, train_loss_epoch=1.24e+3]"
     ]
    },
    {
     "name": "stdout",
     "output_type": "stream",
     "text": [
      "\r",
      "Epoch 9/1000:   1%|          | 8/1000 [00:44<1:26:57,  5.26s/it, v_num=l2ej, train_loss_step=1.29e+3, train_loss_epoch=1.24e+3]"
     ]
    },
    {
     "name": "stdout",
     "output_type": "stream",
     "text": [
      "\r",
      "Epoch 9/1000:   1%|          | 9/1000 [00:49<1:26:45,  5.25s/it, v_num=l2ej, train_loss_step=1.29e+3, train_loss_epoch=1.24e+3]"
     ]
    },
    {
     "name": "stdout",
     "output_type": "stream",
     "text": [
      "\r",
      "Epoch 9/1000:   1%|          | 9/1000 [00:49<1:26:45,  5.25s/it, v_num=l2ej, train_loss_step=1.31e+3, train_loss_epoch=1.24e+3]"
     ]
    },
    {
     "name": "stdout",
     "output_type": "stream",
     "text": [
      "\r",
      "Epoch 10/1000:   1%|          | 9/1000 [00:49<1:26:45,  5.25s/it, v_num=l2ej, train_loss_step=1.31e+3, train_loss_epoch=1.24e+3]"
     ]
    },
    {
     "name": "stdout",
     "output_type": "stream",
     "text": [
      "\r",
      "Epoch 10/1000:   1%|          | 10/1000 [00:55<1:26:55,  5.27s/it, v_num=l2ej, train_loss_step=1.31e+3, train_loss_epoch=1.24e+3]"
     ]
    },
    {
     "name": "stdout",
     "output_type": "stream",
     "text": [
      "\r",
      "Epoch 10/1000:   1%|          | 10/1000 [00:55<1:26:55,  5.27s/it, v_num=l2ej, train_loss_step=1.21e+3, train_loss_epoch=1.24e+3]"
     ]
    },
    {
     "name": "stdout",
     "output_type": "stream",
     "text": [
      "\r",
      "Epoch 11/1000:   1%|          | 10/1000 [00:55<1:26:55,  5.27s/it, v_num=l2ej, train_loss_step=1.21e+3, train_loss_epoch=1.24e+3]"
     ]
    },
    {
     "name": "stdout",
     "output_type": "stream",
     "text": [
      "\r",
      "Epoch 11/1000:   1%|          | 11/1000 [01:00<1:26:32,  5.25s/it, v_num=l2ej, train_loss_step=1.21e+3, train_loss_epoch=1.24e+3]"
     ]
    },
    {
     "name": "stdout",
     "output_type": "stream",
     "text": [
      "\r",
      "Epoch 11/1000:   1%|          | 11/1000 [01:00<1:26:32,  5.25s/it, v_num=l2ej, train_loss_step=1.15e+3, train_loss_epoch=1.23e+3]"
     ]
    },
    {
     "name": "stdout",
     "output_type": "stream",
     "text": [
      "\r",
      "Epoch 12/1000:   1%|          | 11/1000 [01:00<1:26:32,  5.25s/it, v_num=l2ej, train_loss_step=1.15e+3, train_loss_epoch=1.23e+3]"
     ]
    },
    {
     "name": "stdout",
     "output_type": "stream",
     "text": [
      "\r",
      "Epoch 12/1000:   1%|          | 12/1000 [01:05<1:26:28,  5.25s/it, v_num=l2ej, train_loss_step=1.15e+3, train_loss_epoch=1.23e+3]"
     ]
    },
    {
     "name": "stdout",
     "output_type": "stream",
     "text": [
      "\r",
      "Epoch 12/1000:   1%|          | 12/1000 [01:05<1:26:28,  5.25s/it, v_num=l2ej, train_loss_step=1.24e+3, train_loss_epoch=1.23e+3]"
     ]
    },
    {
     "name": "stdout",
     "output_type": "stream",
     "text": [
      "\r",
      "Epoch 13/1000:   1%|          | 12/1000 [01:05<1:26:28,  5.25s/it, v_num=l2ej, train_loss_step=1.24e+3, train_loss_epoch=1.23e+3]"
     ]
    },
    {
     "name": "stdout",
     "output_type": "stream",
     "text": [
      "\r",
      "Epoch 13/1000:   1%|▏         | 13/1000 [01:10<1:25:48,  5.22s/it, v_num=l2ej, train_loss_step=1.24e+3, train_loss_epoch=1.23e+3]"
     ]
    },
    {
     "name": "stdout",
     "output_type": "stream",
     "text": [
      "\r",
      "Epoch 13/1000:   1%|▏         | 13/1000 [01:10<1:25:48,  5.22s/it, v_num=l2ej, train_loss_step=1.23e+3, train_loss_epoch=1.23e+3]"
     ]
    },
    {
     "name": "stdout",
     "output_type": "stream",
     "text": [
      "\r",
      "Epoch 14/1000:   1%|▏         | 13/1000 [01:10<1:25:48,  5.22s/it, v_num=l2ej, train_loss_step=1.23e+3, train_loss_epoch=1.23e+3]"
     ]
    },
    {
     "name": "stdout",
     "output_type": "stream",
     "text": [
      "\r",
      "Epoch 14/1000:   1%|▏         | 14/1000 [01:15<1:25:59,  5.23s/it, v_num=l2ej, train_loss_step=1.23e+3, train_loss_epoch=1.23e+3]"
     ]
    },
    {
     "name": "stdout",
     "output_type": "stream",
     "text": [
      "\r",
      "Epoch 14/1000:   1%|▏         | 14/1000 [01:15<1:25:59,  5.23s/it, v_num=l2ej, train_loss_step=1.33e+3, train_loss_epoch=1.22e+3]"
     ]
    },
    {
     "name": "stdout",
     "output_type": "stream",
     "text": [
      "\r",
      "Epoch 15/1000:   1%|▏         | 14/1000 [01:15<1:25:59,  5.23s/it, v_num=l2ej, train_loss_step=1.33e+3, train_loss_epoch=1.22e+3]"
     ]
    },
    {
     "name": "stdout",
     "output_type": "stream",
     "text": [
      "\r",
      "Epoch 15/1000:   2%|▏         | 15/1000 [01:21<1:26:04,  5.24s/it, v_num=l2ej, train_loss_step=1.33e+3, train_loss_epoch=1.22e+3]"
     ]
    },
    {
     "name": "stdout",
     "output_type": "stream",
     "text": [
      "\r",
      "Epoch 15/1000:   2%|▏         | 15/1000 [01:21<1:26:04,  5.24s/it, v_num=l2ej, train_loss_step=1.2e+3, train_loss_epoch=1.22e+3] "
     ]
    },
    {
     "name": "stdout",
     "output_type": "stream",
     "text": [
      "\r",
      "Epoch 16/1000:   2%|▏         | 15/1000 [01:21<1:26:04,  5.24s/it, v_num=l2ej, train_loss_step=1.2e+3, train_loss_epoch=1.22e+3]"
     ]
    },
    {
     "name": "stdout",
     "output_type": "stream",
     "text": [
      "\r",
      "Epoch 16/1000:   2%|▏         | 16/1000 [01:26<1:25:59,  5.24s/it, v_num=l2ej, train_loss_step=1.2e+3, train_loss_epoch=1.22e+3]"
     ]
    },
    {
     "name": "stdout",
     "output_type": "stream",
     "text": [
      "\r",
      "Epoch 16/1000:   2%|▏         | 16/1000 [01:26<1:25:59,  5.24s/it, v_num=l2ej, train_loss_step=1.22e+3, train_loss_epoch=1.22e+3]"
     ]
    },
    {
     "name": "stdout",
     "output_type": "stream",
     "text": [
      "\r",
      "Epoch 17/1000:   2%|▏         | 16/1000 [01:26<1:25:59,  5.24s/it, v_num=l2ej, train_loss_step=1.22e+3, train_loss_epoch=1.22e+3]"
     ]
    },
    {
     "name": "stdout",
     "output_type": "stream",
     "text": [
      "\r",
      "Epoch 17/1000:   2%|▏         | 17/1000 [01:31<1:26:04,  5.25s/it, v_num=l2ej, train_loss_step=1.22e+3, train_loss_epoch=1.22e+3]"
     ]
    },
    {
     "name": "stdout",
     "output_type": "stream",
     "text": [
      "\r",
      "Epoch 17/1000:   2%|▏         | 17/1000 [01:31<1:26:04,  5.25s/it, v_num=l2ej, train_loss_step=1.25e+3, train_loss_epoch=1.22e+3]"
     ]
    },
    {
     "name": "stdout",
     "output_type": "stream",
     "text": [
      "\r",
      "Epoch 18/1000:   2%|▏         | 17/1000 [01:31<1:26:04,  5.25s/it, v_num=l2ej, train_loss_step=1.25e+3, train_loss_epoch=1.22e+3]"
     ]
    },
    {
     "name": "stdout",
     "output_type": "stream",
     "text": [
      "\r",
      "Epoch 18/1000:   2%|▏         | 18/1000 [01:36<1:25:49,  5.24s/it, v_num=l2ej, train_loss_step=1.25e+3, train_loss_epoch=1.22e+3]"
     ]
    },
    {
     "name": "stdout",
     "output_type": "stream",
     "text": [
      "\r",
      "Epoch 18/1000:   2%|▏         | 18/1000 [01:36<1:25:49,  5.24s/it, v_num=l2ej, train_loss_step=1.29e+3, train_loss_epoch=1.22e+3]"
     ]
    },
    {
     "name": "stdout",
     "output_type": "stream",
     "text": [
      "\r",
      "Epoch 19/1000:   2%|▏         | 18/1000 [01:36<1:25:49,  5.24s/it, v_num=l2ej, train_loss_step=1.29e+3, train_loss_epoch=1.22e+3]"
     ]
    },
    {
     "name": "stdout",
     "output_type": "stream",
     "text": [
      "\r",
      "Epoch 19/1000:   2%|▏         | 19/1000 [01:42<1:25:17,  5.22s/it, v_num=l2ej, train_loss_step=1.29e+3, train_loss_epoch=1.22e+3]"
     ]
    },
    {
     "name": "stdout",
     "output_type": "stream",
     "text": [
      "\r",
      "Epoch 19/1000:   2%|▏         | 19/1000 [01:42<1:25:17,  5.22s/it, v_num=l2ej, train_loss_step=1.22e+3, train_loss_epoch=1.21e+3]"
     ]
    },
    {
     "name": "stdout",
     "output_type": "stream",
     "text": [
      "\r",
      "Epoch 20/1000:   2%|▏         | 19/1000 [01:42<1:25:17,  5.22s/it, v_num=l2ej, train_loss_step=1.22e+3, train_loss_epoch=1.21e+3]"
     ]
    },
    {
     "name": "stdout",
     "output_type": "stream",
     "text": [
      "\r",
      "Epoch 20/1000:   2%|▏         | 20/1000 [01:47<1:25:17,  5.22s/it, v_num=l2ej, train_loss_step=1.22e+3, train_loss_epoch=1.21e+3]"
     ]
    },
    {
     "name": "stdout",
     "output_type": "stream",
     "text": [
      "\r",
      "Epoch 20/1000:   2%|▏         | 20/1000 [01:47<1:25:17,  5.22s/it, v_num=l2ej, train_loss_step=1.19e+3, train_loss_epoch=1.21e+3]"
     ]
    },
    {
     "name": "stdout",
     "output_type": "stream",
     "text": [
      "\r",
      "Epoch 21/1000:   2%|▏         | 20/1000 [01:47<1:25:17,  5.22s/it, v_num=l2ej, train_loss_step=1.19e+3, train_loss_epoch=1.21e+3]"
     ]
    },
    {
     "name": "stdout",
     "output_type": "stream",
     "text": [
      "\r",
      "Epoch 21/1000:   2%|▏         | 21/1000 [01:52<1:25:19,  5.23s/it, v_num=l2ej, train_loss_step=1.19e+3, train_loss_epoch=1.21e+3]"
     ]
    },
    {
     "name": "stdout",
     "output_type": "stream",
     "text": [
      "\r",
      "Epoch 21/1000:   2%|▏         | 21/1000 [01:52<1:25:19,  5.23s/it, v_num=l2ej, train_loss_step=1.16e+3, train_loss_epoch=1.21e+3]"
     ]
    },
    {
     "name": "stdout",
     "output_type": "stream",
     "text": [
      "\r",
      "Epoch 22/1000:   2%|▏         | 21/1000 [01:52<1:25:19,  5.23s/it, v_num=l2ej, train_loss_step=1.16e+3, train_loss_epoch=1.21e+3]"
     ]
    },
    {
     "name": "stdout",
     "output_type": "stream",
     "text": [
      "\r",
      "Epoch 22/1000:   2%|▏         | 22/1000 [01:57<1:25:17,  5.23s/it, v_num=l2ej, train_loss_step=1.16e+3, train_loss_epoch=1.21e+3]"
     ]
    },
    {
     "name": "stdout",
     "output_type": "stream",
     "text": [
      "\r",
      "Epoch 22/1000:   2%|▏         | 22/1000 [01:57<1:25:17,  5.23s/it, v_num=l2ej, train_loss_step=1.22e+3, train_loss_epoch=1.21e+3]"
     ]
    },
    {
     "name": "stdout",
     "output_type": "stream",
     "text": [
      "\r",
      "Epoch 23/1000:   2%|▏         | 22/1000 [01:57<1:25:17,  5.23s/it, v_num=l2ej, train_loss_step=1.22e+3, train_loss_epoch=1.21e+3]"
     ]
    },
    {
     "name": "stdout",
     "output_type": "stream",
     "text": [
      "\r",
      "Epoch 23/1000:   2%|▏         | 23/1000 [02:03<1:25:02,  5.22s/it, v_num=l2ej, train_loss_step=1.22e+3, train_loss_epoch=1.21e+3]"
     ]
    },
    {
     "name": "stdout",
     "output_type": "stream",
     "text": [
      "\r",
      "Epoch 23/1000:   2%|▏         | 23/1000 [02:03<1:25:02,  5.22s/it, v_num=l2ej, train_loss_step=1.16e+3, train_loss_epoch=1.21e+3]"
     ]
    },
    {
     "name": "stdout",
     "output_type": "stream",
     "text": [
      "\r",
      "Epoch 24/1000:   2%|▏         | 23/1000 [02:03<1:25:02,  5.22s/it, v_num=l2ej, train_loss_step=1.16e+3, train_loss_epoch=1.21e+3]"
     ]
    },
    {
     "name": "stdout",
     "output_type": "stream",
     "text": [
      "\r",
      "Epoch 24/1000:   2%|▏         | 24/1000 [02:08<1:25:02,  5.23s/it, v_num=l2ej, train_loss_step=1.16e+3, train_loss_epoch=1.21e+3]"
     ]
    },
    {
     "name": "stdout",
     "output_type": "stream",
     "text": [
      "\r",
      "Epoch 24/1000:   2%|▏         | 24/1000 [02:08<1:25:02,  5.23s/it, v_num=l2ej, train_loss_step=1.16e+3, train_loss_epoch=1.21e+3]"
     ]
    },
    {
     "name": "stdout",
     "output_type": "stream",
     "text": [
      "\r",
      "Epoch 25/1000:   2%|▏         | 24/1000 [02:08<1:25:02,  5.23s/it, v_num=l2ej, train_loss_step=1.16e+3, train_loss_epoch=1.21e+3]"
     ]
    },
    {
     "name": "stdout",
     "output_type": "stream",
     "text": [
      "\r",
      "Epoch 25/1000:   2%|▎         | 25/1000 [02:13<1:25:53,  5.29s/it, v_num=l2ej, train_loss_step=1.16e+3, train_loss_epoch=1.21e+3]"
     ]
    },
    {
     "name": "stdout",
     "output_type": "stream",
     "text": [
      "\r",
      "Epoch 25/1000:   2%|▎         | 25/1000 [02:13<1:25:53,  5.29s/it, v_num=l2ej, train_loss_step=1.12e+3, train_loss_epoch=1.21e+3]"
     ]
    },
    {
     "name": "stdout",
     "output_type": "stream",
     "text": [
      "\r",
      "Epoch 26/1000:   2%|▎         | 25/1000 [02:13<1:25:53,  5.29s/it, v_num=l2ej, train_loss_step=1.12e+3, train_loss_epoch=1.21e+3]"
     ]
    },
    {
     "name": "stdout",
     "output_type": "stream",
     "text": [
      "\r",
      "Epoch 26/1000:   3%|▎         | 26/1000 [02:18<1:25:06,  5.24s/it, v_num=l2ej, train_loss_step=1.12e+3, train_loss_epoch=1.21e+3]"
     ]
    },
    {
     "name": "stdout",
     "output_type": "stream",
     "text": [
      "\r",
      "Epoch 26/1000:   3%|▎         | 26/1000 [02:18<1:25:06,  5.24s/it, v_num=l2ej, train_loss_step=1.08e+3, train_loss_epoch=1.21e+3]"
     ]
    },
    {
     "name": "stdout",
     "output_type": "stream",
     "text": [
      "\r",
      "Epoch 27/1000:   3%|▎         | 26/1000 [02:18<1:25:06,  5.24s/it, v_num=l2ej, train_loss_step=1.08e+3, train_loss_epoch=1.21e+3]"
     ]
    },
    {
     "name": "stdout",
     "output_type": "stream",
     "text": [
      "\r",
      "Epoch 27/1000:   3%|▎         | 27/1000 [02:24<1:25:35,  5.28s/it, v_num=l2ej, train_loss_step=1.08e+3, train_loss_epoch=1.21e+3]"
     ]
    },
    {
     "name": "stdout",
     "output_type": "stream",
     "text": [
      "\r",
      "Epoch 27/1000:   3%|▎         | 27/1000 [02:24<1:25:35,  5.28s/it, v_num=l2ej, train_loss_step=1.21e+3, train_loss_epoch=1.2e+3] "
     ]
    },
    {
     "name": "stdout",
     "output_type": "stream",
     "text": [
      "\r",
      "Epoch 28/1000:   3%|▎         | 27/1000 [02:24<1:25:35,  5.28s/it, v_num=l2ej, train_loss_step=1.21e+3, train_loss_epoch=1.2e+3]"
     ]
    },
    {
     "name": "stdout",
     "output_type": "stream",
     "text": [
      "\r",
      "Epoch 28/1000:   3%|▎         | 28/1000 [02:29<1:25:07,  5.26s/it, v_num=l2ej, train_loss_step=1.21e+3, train_loss_epoch=1.2e+3]"
     ]
    },
    {
     "name": "stdout",
     "output_type": "stream",
     "text": [
      "\r",
      "Epoch 28/1000:   3%|▎         | 28/1000 [02:29<1:25:07,  5.26s/it, v_num=l2ej, train_loss_step=1.2e+3, train_loss_epoch=1.2e+3] "
     ]
    },
    {
     "name": "stdout",
     "output_type": "stream",
     "text": [
      "\r",
      "Epoch 29/1000:   3%|▎         | 28/1000 [02:29<1:25:07,  5.26s/it, v_num=l2ej, train_loss_step=1.2e+3, train_loss_epoch=1.2e+3]"
     ]
    },
    {
     "name": "stdout",
     "output_type": "stream",
     "text": [
      "\r",
      "Epoch 29/1000:   3%|▎         | 29/1000 [02:34<1:24:49,  5.24s/it, v_num=l2ej, train_loss_step=1.2e+3, train_loss_epoch=1.2e+3]"
     ]
    },
    {
     "name": "stdout",
     "output_type": "stream",
     "text": [
      "\r",
      "Epoch 29/1000:   3%|▎         | 29/1000 [02:34<1:24:49,  5.24s/it, v_num=l2ej, train_loss_step=1.14e+3, train_loss_epoch=1.2e+3]"
     ]
    },
    {
     "name": "stdout",
     "output_type": "stream",
     "text": [
      "\r",
      "Epoch 30/1000:   3%|▎         | 29/1000 [02:34<1:24:49,  5.24s/it, v_num=l2ej, train_loss_step=1.14e+3, train_loss_epoch=1.2e+3]"
     ]
    },
    {
     "name": "stdout",
     "output_type": "stream",
     "text": [
      "\r",
      "Epoch 30/1000:   3%|▎         | 30/1000 [02:39<1:24:36,  5.23s/it, v_num=l2ej, train_loss_step=1.14e+3, train_loss_epoch=1.2e+3]"
     ]
    },
    {
     "name": "stdout",
     "output_type": "stream",
     "text": [
      "\r",
      "Epoch 30/1000:   3%|▎         | 30/1000 [02:39<1:24:36,  5.23s/it, v_num=l2ej, train_loss_step=1.24e+3, train_loss_epoch=1.2e+3]"
     ]
    },
    {
     "name": "stdout",
     "output_type": "stream",
     "text": [
      "\r",
      "Epoch 31/1000:   3%|▎         | 30/1000 [02:39<1:24:36,  5.23s/it, v_num=l2ej, train_loss_step=1.24e+3, train_loss_epoch=1.2e+3]"
     ]
    },
    {
     "name": "stdout",
     "output_type": "stream",
     "text": [
      "\r",
      "Epoch 31/1000:   3%|▎         | 31/1000 [02:45<1:24:21,  5.22s/it, v_num=l2ej, train_loss_step=1.24e+3, train_loss_epoch=1.2e+3]"
     ]
    },
    {
     "name": "stdout",
     "output_type": "stream",
     "text": [
      "\r",
      "Epoch 31/1000:   3%|▎         | 31/1000 [02:45<1:24:21,  5.22s/it, v_num=l2ej, train_loss_step=1.16e+3, train_loss_epoch=1.2e+3]"
     ]
    },
    {
     "name": "stdout",
     "output_type": "stream",
     "text": [
      "\r",
      "Epoch 32/1000:   3%|▎         | 31/1000 [02:45<1:24:21,  5.22s/it, v_num=l2ej, train_loss_step=1.16e+3, train_loss_epoch=1.2e+3]"
     ]
    },
    {
     "name": "stdout",
     "output_type": "stream",
     "text": [
      "\r",
      "Epoch 32/1000:   3%|▎         | 32/1000 [02:50<1:23:45,  5.19s/it, v_num=l2ej, train_loss_step=1.16e+3, train_loss_epoch=1.2e+3]"
     ]
    },
    {
     "name": "stdout",
     "output_type": "stream",
     "text": [
      "\r",
      "Epoch 32/1000:   3%|▎         | 32/1000 [02:50<1:23:45,  5.19s/it, v_num=l2ej, train_loss_step=1.2e+3, train_loss_epoch=1.2e+3] "
     ]
    },
    {
     "name": "stdout",
     "output_type": "stream",
     "text": [
      "\r",
      "Epoch 33/1000:   3%|▎         | 32/1000 [02:50<1:23:45,  5.19s/it, v_num=l2ej, train_loss_step=1.2e+3, train_loss_epoch=1.2e+3]"
     ]
    },
    {
     "name": "stdout",
     "output_type": "stream",
     "text": [
      "\r",
      "Epoch 33/1000:   3%|▎         | 33/1000 [02:55<1:24:39,  5.25s/it, v_num=l2ej, train_loss_step=1.2e+3, train_loss_epoch=1.2e+3]"
     ]
    },
    {
     "name": "stdout",
     "output_type": "stream",
     "text": [
      "\r",
      "Epoch 33/1000:   3%|▎         | 33/1000 [02:55<1:24:39,  5.25s/it, v_num=l2ej, train_loss_step=1.27e+3, train_loss_epoch=1.2e+3]"
     ]
    },
    {
     "name": "stdout",
     "output_type": "stream",
     "text": [
      "\r",
      "Epoch 33/1000:   3%|▎         | 33/1000 [02:55<1:25:43,  5.32s/it, v_num=l2ej, train_loss_step=1.27e+3, train_loss_epoch=1.2e+3]"
     ]
    },
    {
     "name": "stdout",
     "output_type": "stream",
     "text": [
      "\n",
      "Monitored metric reconstruction_loss_validation did not improve in the last 10 records. Best score: 1244.715. Signaling Trainer to stop.\n"
     ]
    }
   ],
   "source": [
    "model.train(logger=logger, plan_kwargs = plan_kwargs, **trainer_kwargs)"
   ]
  },
  {
   "cell_type": "code",
   "execution_count": 15,
   "id": "c282f6eb-0ad1-40a5-81e6-1acda1545dad",
   "metadata": {
    "execution": {
     "iopub.execute_input": "2024-05-06T16:42:05.750808Z",
     "iopub.status.busy": "2024-05-06T16:42:05.750117Z",
     "iopub.status.idle": "2024-05-06T16:42:09.181821Z",
     "shell.execute_reply": "2024-05-06T16:42:09.181132Z"
    },
    "papermill": {
     "duration": 3.44586,
     "end_time": "2024-05-06T16:42:09.183956",
     "exception": false,
     "start_time": "2024-05-06T16:42:05.738096",
     "status": "completed"
    },
    "tags": []
   },
   "outputs": [
    {
     "name": "stderr",
     "output_type": "stream",
     "text": [
      "\u001b[34m\u001b[1mwandb\u001b[0m: - 0.003 MB of 0.007 MB uploaded\r"
     ]
    },
    {
     "name": "stderr",
     "output_type": "stream",
     "text": [
      "\u001b[34m\u001b[1mwandb\u001b[0m: \\ 0.003 MB of 0.007 MB uploaded\r"
     ]
    },
    {
     "name": "stderr",
     "output_type": "stream",
     "text": [
      "\u001b[34m\u001b[1mwandb\u001b[0m: | 0.009 MB of 0.009 MB uploaded\r"
     ]
    },
    {
     "name": "stderr",
     "output_type": "stream",
     "text": [
      "\u001b[34m\u001b[1mwandb\u001b[0m:                                                                                \n"
     ]
    },
    {
     "name": "stderr",
     "output_type": "stream",
     "text": [
      "\u001b[34m\u001b[1mwandb\u001b[0m: \n",
      "\u001b[34m\u001b[1mwandb\u001b[0m: Run history:\n",
      "\u001b[34m\u001b[1mwandb\u001b[0m:                     elbo_train █▆▆▅▅▄▄▄▃▃▃▃▃▂▂▂▂▂▂▂▂▂▁▁▁▁▁▁▁▁▁▁▁\n",
      "\u001b[34m\u001b[1mwandb\u001b[0m:                elbo_validation █▆▅▅▄▃▃▃▂▂▂▂▂▂▁▁▁▁▁▁▁▁▁▁▁▁▁▁▁▁▁▁▁\n",
      "\u001b[34m\u001b[1mwandb\u001b[0m:                          epoch ▁▁▁▁▂▂▂▂▂▃▃▃▃▃▃▄▄▄▄▄▅▅▅▅▅▅▆▆▆▆▆▆▇▇▇▇▇███\n",
      "\u001b[34m\u001b[1mwandb\u001b[0m:                kl_global_train ▁▁▁▁▁▁▁▁▁▁▁▁▁▁▁▁▁▁▁▁▁▁▁▁▁▁▁▁▁▁▁▁▁\n",
      "\u001b[34m\u001b[1mwandb\u001b[0m:           kl_global_validation ▁▁▁▁▁▁▁▁▁▁▁▁▁▁▁▁▁▁▁▁▁▁▁▁▁▁▁▁▁▁▁▁▁\n",
      "\u001b[34m\u001b[1mwandb\u001b[0m:                 kl_local_train ▂██▇▆▅▄▄▃▃▃▃▃▂▂▂▂▂▂▂▂▂▂▂▁▁▁▁▁▁▁▁▁\n",
      "\u001b[34m\u001b[1mwandb\u001b[0m:            kl_local_validation ▃█▇▆▅▄▃▃▃▃▃▂▂▂▂▂▂▂▂▂▂▁▂▁▁▁▁▁▁▁▁▁▁\n",
      "\u001b[34m\u001b[1mwandb\u001b[0m:                      kl_weight ▁▁▁▁▂▂▂▂▂▃▃▃▃▃▄▄▄▄▄▄▅▅▅▅▅▅▆▆▆▆▆▆▇▇▇▇▇███\n",
      "\u001b[34m\u001b[1mwandb\u001b[0m:      reconstruction_loss_train █▅▅▄▄▄▄▃▃▃▃▃▂▂▂▂▂▂▂▂▂▂▁▁▁▁▁▁▁▁▁▁▁\n",
      "\u001b[34m\u001b[1mwandb\u001b[0m: reconstruction_loss_validation █▅▄▄▃▃▃▂▂▂▂▂▂▁▁▁▁▁▁▁▁▁▁▁▁▁▁▁▁▁▁▁▁\n",
      "\u001b[34m\u001b[1mwandb\u001b[0m:               train_loss_epoch █▅▅▄▄▄▃▃▃▃▃▂▂▂▂▂▂▂▂▂▂▁▁▁▁▁▁▁▁▁▁▁▁\n",
      "\u001b[34m\u001b[1mwandb\u001b[0m:                train_loss_step ██▆▅▅▄▃▄▆▂▅▄▅▅▃▃▅▃▄▅▄▂▃▃▃▂▃▁▄▂▃▄▂▄▃▁▂▁▄▅\n",
      "\u001b[34m\u001b[1mwandb\u001b[0m:            trainer/global_step ▁▁▁▁▂▂▂▂▂▃▃▃▃▃▃▄▄▄▄▄▅▅▅▅▅▅▆▆▆▆▆▇▇▇▇▇▇███\n",
      "\u001b[34m\u001b[1mwandb\u001b[0m:                validation_loss █▅▄▄▃▃▃▂▂▂▂▂▂▁▁▁▁▁▁▁▁▁▁▁▁▁▁▁▁▁▁▁▁\n",
      "\u001b[34m\u001b[1mwandb\u001b[0m: \n",
      "\u001b[34m\u001b[1mwandb\u001b[0m: Run summary:\n",
      "\u001b[34m\u001b[1mwandb\u001b[0m:                     elbo_train 1226.07861\n",
      "\u001b[34m\u001b[1mwandb\u001b[0m:                elbo_validation 1273.07556\n",
      "\u001b[34m\u001b[1mwandb\u001b[0m:                          epoch 32\n",
      "\u001b[34m\u001b[1mwandb\u001b[0m:                kl_global_train 0.0\n",
      "\u001b[34m\u001b[1mwandb\u001b[0m:           kl_global_validation 0.0\n",
      "\u001b[34m\u001b[1mwandb\u001b[0m:                 kl_local_train 27.93257\n",
      "\u001b[34m\u001b[1mwandb\u001b[0m:            kl_local_validation 27.23917\n",
      "\u001b[34m\u001b[1mwandb\u001b[0m:                      kl_weight 0.08\n",
      "\u001b[34m\u001b[1mwandb\u001b[0m:      reconstruction_loss_train 1198.146\n",
      "\u001b[34m\u001b[1mwandb\u001b[0m: reconstruction_loss_validation 1245.83643\n",
      "\u001b[34m\u001b[1mwandb\u001b[0m:               train_loss_epoch 1200.38025\n",
      "\u001b[34m\u001b[1mwandb\u001b[0m:                train_loss_step 1203.00977\n",
      "\u001b[34m\u001b[1mwandb\u001b[0m:            trainer/global_step 10988\n",
      "\u001b[34m\u001b[1mwandb\u001b[0m:                validation_loss 1248.01575\n",
      "\u001b[34m\u001b[1mwandb\u001b[0m: \n"
     ]
    },
    {
     "name": "stderr",
     "output_type": "stream",
     "text": [
      "\u001b[34m\u001b[1mwandb\u001b[0m: 🚀 View run \u001b[33mStep4_DC\u001b[0m at: \u001b[34m\u001b[4mhttps://wandb.ai/inflammation/inflammation_atlas_R1/runs/q8pdl2ej\u001b[0m\n",
      "\u001b[34m\u001b[1mwandb\u001b[0m: Synced 5 W&B file(s), 0 media file(s), 0 artifact file(s) and 0 other file(s)\n"
     ]
    },
    {
     "name": "stderr",
     "output_type": "stream",
     "text": [
      "\u001b[34m\u001b[1mwandb\u001b[0m: Find logs at: \u001b[35m\u001b[1m./wandb/run-20240506_163909-q8pdl2ej/logs\u001b[0m\n"
     ]
    }
   ],
   "source": [
    "wandb.finish()"
   ]
  },
  {
   "cell_type": "markdown",
   "id": "d9fb1179-83c7-4ac6-b4aa-92dc7a349801",
   "metadata": {
    "papermill": {
     "duration": 0.010881,
     "end_time": "2024-05-06T16:42:09.206187",
     "exception": false,
     "start_time": "2024-05-06T16:42:09.195306",
     "status": "completed"
    },
    "tags": []
   },
   "source": [
    "### Extracting embedding space"
   ]
  },
  {
   "cell_type": "code",
   "execution_count": 16,
   "id": "caaa5832-0123-4c59-8ec6-f46a75f7a14e",
   "metadata": {
    "execution": {
     "iopub.execute_input": "2024-05-06T16:42:09.229321Z",
     "iopub.status.busy": "2024-05-06T16:42:09.228662Z",
     "iopub.status.idle": "2024-05-06T16:42:11.340334Z",
     "shell.execute_reply": "2024-05-06T16:42:11.339285Z"
    },
    "papermill": {
     "duration": 2.126228,
     "end_time": "2024-05-06T16:42:11.343084",
     "exception": false,
     "start_time": "2024-05-06T16:42:09.216856",
     "status": "completed"
    },
    "tags": []
   },
   "outputs": [],
   "source": [
    "adata.obsm['X_scVI'] = model.get_latent_representation()"
   ]
  },
  {
   "cell_type": "markdown",
   "id": "2f03e70b-839c-40a6-9fbb-d76bbd787419",
   "metadata": {
    "papermill": {
     "duration": 0.010661,
     "end_time": "2024-05-06T16:42:11.364730",
     "exception": false,
     "start_time": "2024-05-06T16:42:11.354069",
     "status": "completed"
    },
    "tags": []
   },
   "source": [
    "## Save the results"
   ]
  },
  {
   "cell_type": "code",
   "execution_count": 17,
   "id": "7b04049b-47fd-4b62-a1c0-c43dcc086d34",
   "metadata": {
    "execution": {
     "iopub.execute_input": "2024-05-06T16:42:11.387622Z",
     "iopub.status.busy": "2024-05-06T16:42:11.387298Z",
     "iopub.status.idle": "2024-05-06T16:42:21.569965Z",
     "shell.execute_reply": "2024-05-06T16:42:21.568789Z"
    },
    "papermill": {
     "duration": 10.196735,
     "end_time": "2024-05-06T16:42:21.572254",
     "exception": false,
     "start_time": "2024-05-06T16:42:11.375519",
     "status": "completed"
    },
    "tags": []
   },
   "outputs": [],
   "source": [
    "if overwriteData:\n",
    "    adata.write(here(f\"{workDir}/{cellGroup}/results/02_{annotationLevel}_{cellGroup}_HVGsubset_scVI.h5ad\"), compression=\"gzip\")\n",
    "    model.save(here(f\"{workDir}/{cellGroup}/results/02_{annotationLevel}_{cellGroup}_HVGsubset_scVI_MODEL/\"),\n",
    "               overwrite = True, \n",
    "               save_anndata = False )   "
   ]
  },
  {
   "cell_type": "code",
   "execution_count": 18,
   "id": "629ba2bd-f6be-44ef-8fca-bbdf891bf25f",
   "metadata": {
    "execution": {
     "iopub.execute_input": "2024-05-06T16:42:21.595349Z",
     "iopub.status.busy": "2024-05-06T16:42:21.594990Z",
     "iopub.status.idle": "2024-05-06T16:42:21.598473Z",
     "shell.execute_reply": "2024-05-06T16:42:21.597819Z"
    },
    "papermill": {
     "duration": 0.017272,
     "end_time": "2024-05-06T16:42:21.600231",
     "exception": false,
     "start_time": "2024-05-06T16:42:21.582959",
     "status": "completed"
    },
    "tags": []
   },
   "outputs": [],
   "source": [
    "# To load the model do (after loading corresponding adata):\n",
    "# model = scvi.model.SCVI.load(here('{}/results/01_{}_HVGsubset_scVI_MODEL/'.format(workDir, cellGroup)), \n",
    "#                              adata, \n",
    "#                              use_gpu=True)"
   ]
  },
  {
   "cell_type": "raw",
   "id": "975e84d0-f56b-498d-b3a8-c9219cf22e53",
   "metadata": {
    "papermill": {
     "duration": 0.010114,
     "end_time": "2024-05-06T16:42:21.620689",
     "exception": false,
     "start_time": "2024-05-06T16:42:21.610575",
     "status": "completed"
    },
    "tags": []
   },
   "source": [
    "session_info.show()"
   ]
  }
 ],
 "metadata": {
  "kernelspec": {
   "display_name": "Python 3 (ipykernel)",
   "language": "python",
   "name": "python3"
  },
  "language_info": {
   "codemirror_mode": {
    "name": "ipython",
    "version": 3
   },
   "file_extension": ".py",
   "mimetype": "text/x-python",
   "name": "python",
   "nbconvert_exporter": "python",
   "pygments_lexer": "ipython3",
   "version": "3.9.18"
  },
  "papermill": {
   "default_parameters": {},
   "duration": 221.622669,
   "end_time": "2024-05-06T16:42:25.455879",
   "environment_variables": {},
   "exception": null,
   "input_path": "./DC/02_integration_scVI.ipynb",
   "output_path": "./DC/02_integration_scVI_executed.ipynb",
   "parameters": {},
   "start_time": "2024-05-06T16:38:43.833210",
   "version": "2.5.0"
  }
 },
 "nbformat": 4,
 "nbformat_minor": 5
}