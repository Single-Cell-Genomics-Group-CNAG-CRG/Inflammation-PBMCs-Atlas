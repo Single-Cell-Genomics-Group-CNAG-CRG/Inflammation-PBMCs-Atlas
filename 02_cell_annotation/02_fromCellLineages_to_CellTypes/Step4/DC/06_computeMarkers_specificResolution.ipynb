{
 "cells": [
  {
   "cell_type": "code",
   "execution_count": 1,
   "id": "73772de2-54a6-4b52-90f3-086cb05e5aff",
   "metadata": {
    "execution": {
     "iopub.execute_input": "2024-05-14T14:22:07.198938Z",
     "iopub.status.busy": "2024-05-14T14:22:07.198707Z",
     "iopub.status.idle": "2024-05-14T14:22:11.163269Z",
     "shell.execute_reply": "2024-05-14T14:22:11.162703Z",
     "shell.execute_reply.started": "2024-05-14T14:22:07.198914Z"
    }
   },
   "outputs": [
    {
     "name": "stdout",
     "output_type": "stream",
     "text": [
      "Main directory path: /scratch_isilon/groups/singlecell/shared/projects/Inflammation-PBMCs-Atlas\n"
     ]
    }
   ],
   "source": [
    "# General modules\n",
    "import sys\n",
    "import os\n",
    "import session_info\n",
    "import warnings\n",
    "from pyprojroot.here import here\n",
    "import glob\n",
    "import pandas as pd\n",
    "import numpy as np\n",
    "import session_info\n",
    "import seaborn as sns\n",
    "import matplotlib.pyplot as plt\n",
    "import scienceplots\n",
    "import pickle\n",
    "\n",
    "# Specific modules\n",
    "import scanpy as sc\n",
    "import anndata as an\n",
    "from matplotlib.backends.backend_pdf import PdfPages\n",
    "\n",
    "\n",
    "# Setting some parameters\n",
    "warnings.filterwarnings(\"ignore\")\n",
    "sys.path.insert(1, str(here('bin')))\n",
    "\n",
    "# Import custom functions\n",
    "from customPythonFunctions import *\n",
    "\n",
    "print(\"Main directory path: {}\".format(here()))\n",
    "\n",
    "#plt.style.use(['science','nature','no-latex'])\n",
    "dpi_fig_save = 300\n",
    "sc.set_figure_params(dpi=100, dpi_save=dpi_fig_save, vector_friendly=True)"
   ]
  },
  {
   "cell_type": "markdown",
   "id": "5d9263d4-3aa7-4d23-9a3b-67bb3e6562b9",
   "metadata": {},
   "source": [
    "**Setting parameters** "
   ]
  },
  {
   "cell_type": "code",
   "execution_count": 2,
   "id": "becaf7de-9e3a-4678-8ef4-1b55e256f2a6",
   "metadata": {
    "execution": {
     "iopub.execute_input": "2024-05-14T14:22:11.164479Z",
     "iopub.status.busy": "2024-05-14T14:22:11.164021Z",
     "iopub.status.idle": "2024-05-14T14:22:11.167180Z",
     "shell.execute_reply": "2024-05-14T14:22:11.166731Z",
     "shell.execute_reply.started": "2024-05-14T14:22:11.164457Z"
    }
   },
   "outputs": [],
   "source": [
    "overwriteFigures = True\n",
    "overwriteData = True\n",
    "clusters_computed = True"
   ]
  },
  {
   "cell_type": "code",
   "execution_count": 3,
   "id": "e86c97d1-de28-4037-a3e1-34f730aadbf8",
   "metadata": {
    "execution": {
     "iopub.execute_input": "2024-05-14T14:22:11.168889Z",
     "iopub.status.busy": "2024-05-14T14:22:11.168512Z",
     "iopub.status.idle": "2024-05-14T14:22:11.179749Z",
     "shell.execute_reply": "2024-05-14T14:22:11.179291Z",
     "shell.execute_reply.started": "2024-05-14T14:22:11.168869Z"
    }
   },
   "outputs": [],
   "source": [
    "cellGroup = 'DC'\n",
    "workDir = os.getcwd()"
   ]
  },
  {
   "cell_type": "code",
   "execution_count": 4,
   "id": "57e8ffe5-e6b3-49ff-bb41-4cdc4de0220d",
   "metadata": {
    "execution": {
     "iopub.execute_input": "2024-05-14T14:22:11.180472Z",
     "iopub.status.busy": "2024-05-14T14:22:11.180298Z",
     "iopub.status.idle": "2024-05-14T14:22:11.189719Z",
     "shell.execute_reply": "2024-05-14T14:22:11.189289Z",
     "shell.execute_reply.started": "2024-05-14T14:22:11.180452Z"
    }
   },
   "outputs": [],
   "source": [
    "resolutions_of_interest = [0.25, 0.5, 0.75, 1]"
   ]
  },
  {
   "cell_type": "markdown",
   "id": "8e476925-66e4-4d90-89c7-9e93430c156a",
   "metadata": {},
   "source": [
    "**Load data**"
   ]
  },
  {
   "cell_type": "code",
   "execution_count": 5,
   "id": "2614c71a-05b3-401c-a6ef-a3df94e56e34",
   "metadata": {
    "execution": {
     "iopub.execute_input": "2024-05-14T14:22:11.190596Z",
     "iopub.status.busy": "2024-05-14T14:22:11.190295Z",
     "iopub.status.idle": "2024-05-14T14:22:21.822352Z",
     "shell.execute_reply": "2024-05-14T14:22:21.821856Z",
     "shell.execute_reply.started": "2024-05-14T14:22:11.190576Z"
    }
   },
   "outputs": [
    {
     "data": {
      "text/plain": [
       "AnnData object with n_obs × n_vars = 47276 × 22838\n",
       "    obs: 'studyID', 'libraryID', 'sampleID', 'chemistry', 'technology', 'patientID', 'disease', 'timepoint_replicate', 'treatmentStatus', 'therapyResponse', 'sex', 'age', 'BMI', 'binned_age', 'diseaseStatus', 'smokingStatus', 'ethnicity', 'institute', 'diseaseGroup', 'n_genes_by_counts', 'log1p_n_genes_by_counts', 'total_counts', 'log1p_total_counts', 'pct_counts_in_top_20_genes', 'total_counts_mt', 'log1p_total_counts_mt', 'pct_counts_mt', 'total_counts_ribo', 'log1p_total_counts_ribo', 'pct_counts_ribo', 'total_counts_hb', 'log1p_total_counts_hb', 'pct_counts_hb', 'total_counts_plt', 'log1p_total_counts_plt', 'pct_counts_plt', 'doublet_score', 'predicted_doublet', 'S_score', 'G2M_score', 'phase'\n",
       "    var: 'hgnc_id', 'symbol', 'locus_group', 'HUGO_status', 'mt', 'ribo', 'hb', 'plt', 'n_cells_by_counts', 'mean_counts', 'log1p_mean_counts', 'pct_dropout_by_counts', 'total_counts', 'log1p_total_counts', 'highly_variable'\n",
       "    uns: '_scvi_manager_uuid', '_scvi_uuid', 'chemistry_colors', 'log1p', 'scVI', 'umap', 'umap_scVI'\n",
       "    obsm: 'X_scVI', 'X_umap', 'X_umap_scVI', '_scvi_extra_categorical_covs'\n",
       "    layers: 'counts', 'log1p_10e4_counts'\n",
       "    obsp: 'scVI_connectivities', 'scVI_distances'"
      ]
     },
     "execution_count": 5,
     "metadata": {},
     "output_type": "execute_result"
    }
   ],
   "source": [
    "# Load the scvi h5ad file\n",
    "adata = sc.read_h5ad(here(\"{}/results/03_{}_scVI_UMAP_clinical_allGenes.h5ad\".format(workDir, cellGroup)))\n",
    "adata.uns['log1p'] = dict()\n",
    "adata.uns['log1p']['base'] = None # only if logscale is computed\n",
    "adata"
   ]
  },
  {
   "cell_type": "code",
   "execution_count": 6,
   "id": "886d2224-0bb4-483d-9db8-eb11cac986b1",
   "metadata": {
    "execution": {
     "iopub.execute_input": "2024-05-14T14:22:21.823491Z",
     "iopub.status.busy": "2024-05-14T14:22:21.823064Z",
     "iopub.status.idle": "2024-05-14T14:22:21.902366Z",
     "shell.execute_reply": "2024-05-14T14:22:21.901699Z",
     "shell.execute_reply.started": "2024-05-14T14:22:21.823468Z"
    }
   },
   "outputs": [],
   "source": [
    "if clusters_computed:\n",
    "    with open(here('{}/results/INFLAMMATION_clustering_resolutions_to_explore.pkl'.format(workDir)), 'rb') as f:\n",
    "        clusterDF = pickle.load(f)\n",
    "    for column_name in clusterDF.columns:\n",
    "        adata.obs[column_name] = clusterDF[column_name]\n",
    "    adata"
   ]
  },
  {
   "cell_type": "markdown",
   "id": "fdfcad46-7dd6-406f-816a-8a6a49b1f7b8",
   "metadata": {},
   "source": [
    "## Compute marker genes"
   ]
  },
  {
   "cell_type": "code",
   "execution_count": 7,
   "id": "200e1812-89d6-4bb6-a7da-ba003536a8a9",
   "metadata": {
    "execution": {
     "iopub.execute_input": "2024-05-14T14:22:21.903469Z",
     "iopub.status.busy": "2024-05-14T14:22:21.903262Z",
     "iopub.status.idle": "2024-05-14T14:22:21.909793Z",
     "shell.execute_reply": "2024-05-14T14:22:21.909203Z",
     "shell.execute_reply.started": "2024-05-14T14:22:21.903445Z"
    }
   },
   "outputs": [],
   "source": [
    "marker_genes_folder = here('{}/results/figures/marker_genes/'.format(workDir))\n",
    "os.makedirs(marker_genes_folder, exist_ok=True)"
   ]
  },
  {
   "cell_type": "code",
   "execution_count": 11,
   "id": "e9d1a176-3311-45f2-b113-5dbf29c165ce",
   "metadata": {
    "execution": {
     "iopub.execute_input": "2024-05-14T14:29:19.026814Z",
     "iopub.status.busy": "2024-05-14T14:29:19.026263Z",
     "iopub.status.idle": "2024-05-14T14:34:26.200216Z",
     "shell.execute_reply": "2024-05-14T14:34:26.199649Z",
     "shell.execute_reply.started": "2024-05-14T14:29:19.026789Z"
    }
   },
   "outputs": [
    {
     "name": "stdout",
     "output_type": "stream",
     "text": [
      "******* Computing marker genes *******\n",
      "Computing markers for resolution = 0.25\n",
      "Computing markers for resolution = 0.5\n"
     ]
    },
    {
     "name": "stderr",
     "output_type": "stream",
     "text": [
      "Exception ignored in: <function ZipFile.__del__ at 0x7f51da1b09d0>\n",
      "Traceback (most recent call last):\n",
      "  File \"/scratch_isilon/groups/singlecell/shared/conda_env/inflammation_atlas_R1/lib/python3.10/zipfile.py\", line 1821, in __del__\n",
      "    self.close()\n",
      "  File \"/scratch_isilon/groups/singlecell/shared/conda_env/inflammation_atlas_R1/lib/python3.10/zipfile.py\", line 1838, in close\n",
      "    self.fp.seek(self.start_dir)\n",
      "ValueError: seek of closed file\n"
     ]
    },
    {
     "name": "stdout",
     "output_type": "stream",
     "text": [
      "Computing markers for resolution = 0.75\n",
      "Computing markers for resolution = 1\n"
     ]
    }
   ],
   "source": [
    "n_markers_to_plot = 10\n",
    "resolutions_of_interest = [0.5]\n",
    "\n",
    "print(\"******* Computing marker genes *******\")\n",
    "for res in resolutions_of_interest:\n",
    "    print(\"Computing markers for resolution = \" + str(res))\n",
    "    # (0) Generate resolution subfolder \n",
    "    resolution_folder = here('{}/res_{}/'.format(marker_genes_folder, res))\n",
    "    os.makedirs(resolution_folder, exist_ok=True)\n",
    "    # (1) Compute markers: CellGroup markers\n",
    "    de_key = \"de_res_{}\".format(res)\n",
    "    leiden_cluster = 'leiden_res_{}'.format(res)\n",
    "    sc.tl.rank_genes_groups(adata, \n",
    "                            groupby=leiden_cluster, \n",
    "                            layer='log1p_10e4_counts', \n",
    "                            method='wilcoxon',\n",
    "                            pts=True,\n",
    "                            key_added=de_key, \n",
    "                            use_raw = False)\n",
    "    ## (2) Save markers\n",
    "    rank_genesDF = sc.get.rank_genes_groups_df(adata, group=None, key = de_key, gene_symbols=\"symbol\")\n",
    "    ### (2.1) As csv (no filtering)\n",
    "    rank_genesDF.to_csv(here('{}/{}_marker_genes_res{}.csv'.format(resolution_folder, cellGroup, res)))\n",
    "    ### (2.2) As excel (logfoldchanges > X)\n",
    "    rank_genes_excel_path = here('{}/{}_marker_genes_res{}.xlsx'.format(resolution_folder, cellGroup, res))\n",
    "    unique_groups = rank_genesDF[\"group\"].unique()\n",
    "    with pd.ExcelWriter(rank_genes_excel_path, engine=\"openpyxl\") as writer:\n",
    "        for group in unique_groups:\n",
    "            group_rank_genesDF = rank_genesDF[rank_genesDF[\"group\"] == group]\n",
    "            group_rank_genesDF = group_rank_genesDF[group_rank_genesDF[\"logfoldchanges\"] > 0.25]\n",
    "            group_rank_genesDF = group_rank_genesDF[group_rank_genesDF[\"pvals_adj\"] < 0.05]\n",
    "            group_rank_genesDF = group_rank_genesDF[group_rank_genesDF[\"pct_nz_group\"] > 0.25]\n",
    "            group_rank_genesDF = group_rank_genesDF.groupby(\"group\", group_keys=False).apply(lambda x: x.sort_values(by=\"logfoldchanges\", ascending=False))\n",
    "            group_rank_genesDF.to_excel(writer, sheet_name=group, index=False)\n",
    "\n",
    "    ## (3) Plot markers \n",
    "    computed_marker_genes = {}\n",
    "    for cluster in adata.obs[leiden_cluster].cat.categories:\n",
    "        marker_genes = adata.uns[de_key]['names'][cluster][:n_markers_to_plot]  \n",
    "        computed_marker_genes[f\"Cluster_{cluster}\"] = marker_genes\n",
    "\n",
    "    list_of_marker_genes = []\n",
    "    for value in computed_marker_genes.values():\n",
    "        list_of_marker_genes.extend(value.tolist())\n",
    "    list_of_marker_genes = list(set(list_of_marker_genes))\n",
    "    list_of_marker_genes\n",
    "\n",
    "    list_of_marker_genes_symbol = []\n",
    "    for gene_id in list_of_marker_genes:\n",
    "        if gene_id in adata.var.index:\n",
    "            symbol = adata.var.loc[gene_id, \"symbol\"]\n",
    "            list_of_marker_genes_symbol.append(symbol)\n",
    "        else:\n",
    "            list_of_marker_genes_symbol.append(None)  \n",
    "\n",
    "    ID2SymbolDF = generateID2SymbolDF(varDF = adata.var, symbolList = list_of_marker_genes_symbol, \n",
    "                                  ID_col = 'index', symbols_col = 'symbol', HUGOstatus_col = 'HUGO_status', behaviour = 'all')\n",
    "\n",
    "    ## (3.1) FeaturePlot\n",
    "    fig = sc.pl.embedding(adata = adata, \n",
    "                          basis=\"X_umap_scVI\", \n",
    "                          color=ID2SymbolDF[\"gene_id\"], title= ID2SymbolDF[\"symbol\"], s=10, \n",
    "                          show=True, \n",
    "                          return_fig=True, \n",
    "                          vmin=\"p1\", vmax=\"p99\",\n",
    "                          size=30, \n",
    "                          legend_loc=\"on data\", \n",
    "                          use_raw=False)\n",
    "    plt.savefig(here('{}/FeaturePlot_{}_res{}_Clusters_top{}Markers.pdf'.format(resolution_folder, cellGroup, res, n_markers_to_plot)), bbox_inches='tight', pad_inches=0, dpi=dpi_fig_save)\n",
    "    ## (3.2) DotPlot\n",
    "    \n",
    "    sc.set_figure_params(figsize=(15, 7))\n",
    "    fig = sc.pl.dotplot(adata,\n",
    "                        var_names = ID2SymbolDF[\"gene_id\"],\n",
    "                        groupby=leiden_cluster, standard_scale='var', \n",
    "                  use_raw = False, dendrogram=True, show=False, return_fig=False)\n",
    "        # replace ensembls ids by gene symbol in plot\n",
    "    _ = fig['mainplot_ax'].set_xticklabels(ID2SymbolDF[\"symbol\"])\n",
    "    plt.savefig(here('{}/Dotplot_{}_res{}_Clusters_top{}Markers.pdf'.format(resolution_folder, cellGroup, res, n_markers_to_plot)), bbox_inches='tight', pad_inches=0, dpi=dpi_fig_save)"
   ]
  },
  {
   "cell_type": "raw",
   "id": "2771576b-4415-4acd-ba41-3badfe339a10",
   "metadata": {
    "execution": {
     "iopub.status.busy": "2024-05-14T14:21:59.660360Z",
     "iopub.status.idle": "2024-05-14T14:21:59.660585Z",
     "shell.execute_reply": "2024-05-14T14:21:59.660473Z",
     "shell.execute_reply.started": "2024-05-14T14:21:59.660463Z"
    }
   },
   "source": []
  }
 ],
 "metadata": {
  "kernelspec": {
   "display_name": "Python 3 (ipykernel)",
   "language": "python",
   "name": "python3"
  },
  "language_info": {
   "codemirror_mode": {
    "name": "ipython",
    "version": 3
   },
   "file_extension": ".py",
   "mimetype": "text/x-python",
   "name": "python",
   "nbconvert_exporter": "python",
   "pygments_lexer": "ipython3",
   "version": "3.10.13"
  }
 },
 "nbformat": 4,
 "nbformat_minor": 5
}
