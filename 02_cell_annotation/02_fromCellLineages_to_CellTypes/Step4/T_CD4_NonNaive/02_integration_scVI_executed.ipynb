{
 "cells": [
  {
   "cell_type": "code",
   "execution_count": 1,
   "id": "2dd1425a-0c07-465e-b522-9e3cc5cb93a7",
   "metadata": {
    "execution": {
     "iopub.execute_input": "2024-05-06T17:15:07.166479Z",
     "iopub.status.busy": "2024-05-06T17:15:07.165784Z",
     "iopub.status.idle": "2024-05-06T17:15:12.941290Z",
     "shell.execute_reply": "2024-05-06T17:15:12.940530Z"
    },
    "papermill": {
     "duration": 5.783716,
     "end_time": "2024-05-06T17:15:12.943277",
     "exception": false,
     "start_time": "2024-05-06T17:15:07.159561",
     "status": "completed"
    },
    "tags": []
   },
   "outputs": [
    {
     "data": {
      "text/plain": [
       "True"
      ]
     },
     "execution_count": 1,
     "metadata": {},
     "output_type": "execute_result"
    }
   ],
   "source": [
    "import os\n",
    "import sys\n",
    "\n",
    "import numpy as np\n",
    "import matplotlib.pyplot as plt\n",
    "\n",
    "import scanpy as sc\n",
    "import scvi\n",
    "import torch\n",
    "\n",
    "from pytorch_lightning.loggers import WandbLogger\n",
    "import wandb\n",
    "from dotenv import load_dotenv\n",
    "\n",
    "import session_info\n",
    "import warnings\n",
    "from pyprojroot.here import here\n",
    "\n",
    "warnings.filterwarnings(\"ignore\")\n",
    "sys.path.insert(1, str(here('bin')))\n",
    "\n",
    "torch.set_float32_matmul_precision('high')\n",
    "\n",
    "#plt.style.use(['science','nature','no-latex'])\n",
    "dpi_fig_save = 300\n",
    "sc.set_figure_params(dpi=100, dpi_save=dpi_fig_save, vector_friendly=True)\n",
    "\n",
    "load_dotenv(here('.env'))"
   ]
  },
  {
   "cell_type": "code",
   "execution_count": 2,
   "id": "09c897fc-744b-43de-a681-718fb5d327fa",
   "metadata": {
    "execution": {
     "iopub.execute_input": "2024-05-06T17:15:12.955255Z",
     "iopub.status.busy": "2024-05-06T17:15:12.954928Z",
     "iopub.status.idle": "2024-05-06T17:15:12.959038Z",
     "shell.execute_reply": "2024-05-06T17:15:12.958405Z"
    },
    "papermill": {
     "duration": 0.011254,
     "end_time": "2024-05-06T17:15:12.960810",
     "exception": false,
     "start_time": "2024-05-06T17:15:12.949556",
     "status": "completed"
    },
    "tags": []
   },
   "outputs": [],
   "source": [
    "class CustomWandbLogger(WandbLogger):\n",
    "    @property\n",
    "    def save_dir(self):\n",
    "        return self.experiment.dir"
   ]
  },
  {
   "cell_type": "code",
   "execution_count": 3,
   "id": "8ee6662f-5d45-4137-80a5-bb0b9ae8d71f",
   "metadata": {
    "execution": {
     "iopub.execute_input": "2024-05-06T17:15:12.970004Z",
     "iopub.status.busy": "2024-05-06T17:15:12.969326Z",
     "iopub.status.idle": "2024-05-06T17:15:12.975780Z",
     "shell.execute_reply": "2024-05-06T17:15:12.975087Z"
    },
    "papermill": {
     "duration": 0.012857,
     "end_time": "2024-05-06T17:15:12.977427",
     "exception": false,
     "start_time": "2024-05-06T17:15:12.964570",
     "status": "completed"
    },
    "tags": []
   },
   "outputs": [
    {
     "name": "stderr",
     "output_type": "stream",
     "text": [
      "Seed set to 0\n"
     ]
    },
    {
     "name": "stdout",
     "output_type": "stream",
     "text": [
      "Last run with scvi-tools version: 1.1.2\n"
     ]
    }
   ],
   "source": [
    "scvi.settings.seed = 0\n",
    "print(\"Last run with scvi-tools version:\", scvi.__version__)"
   ]
  },
  {
   "cell_type": "markdown",
   "id": "a81037ff-5998-482a-ba86-520f757311a9",
   "metadata": {
    "papermill": {
     "duration": 0.003828,
     "end_time": "2024-05-06T17:15:12.985156",
     "exception": false,
     "start_time": "2024-05-06T17:15:12.981328",
     "status": "completed"
    },
    "tags": []
   },
   "source": [
    "**Setting parameters** "
   ]
  },
  {
   "cell_type": "code",
   "execution_count": 4,
   "id": "56c27966-8f10-4c93-8b1a-1fa75f005e41",
   "metadata": {
    "execution": {
     "iopub.execute_input": "2024-05-06T17:15:12.994493Z",
     "iopub.status.busy": "2024-05-06T17:15:12.993787Z",
     "iopub.status.idle": "2024-05-06T17:15:12.997179Z",
     "shell.execute_reply": "2024-05-06T17:15:12.996529Z"
    },
    "papermill": {
     "duration": 0.009829,
     "end_time": "2024-05-06T17:15:12.998859",
     "exception": false,
     "start_time": "2024-05-06T17:15:12.989030",
     "status": "completed"
    },
    "tags": []
   },
   "outputs": [],
   "source": [
    "overwriteFigures = True\n",
    "overwriteData = True"
   ]
  },
  {
   "cell_type": "code",
   "execution_count": 5,
   "id": "c86fccd3-a4fe-415b-8f4e-e2ceb3ec128a",
   "metadata": {
    "execution": {
     "iopub.execute_input": "2024-05-06T17:15:13.007849Z",
     "iopub.status.busy": "2024-05-06T17:15:13.007591Z",
     "iopub.status.idle": "2024-05-06T17:15:13.011009Z",
     "shell.execute_reply": "2024-05-06T17:15:13.010387Z"
    },
    "papermill": {
     "duration": 0.009879,
     "end_time": "2024-05-06T17:15:13.012588",
     "exception": false,
     "start_time": "2024-05-06T17:15:13.002709",
     "status": "completed"
    },
    "tags": []
   },
   "outputs": [],
   "source": [
    "cellGroup = 'T_CD4_NonNaive'\n",
    "workDir = os.getcwd()"
   ]
  },
  {
   "cell_type": "code",
   "execution_count": 6,
   "id": "2dee4d55-d168-467b-b867-a61fed9d6af1",
   "metadata": {
    "execution": {
     "iopub.execute_input": "2024-05-06T17:15:13.021542Z",
     "iopub.status.busy": "2024-05-06T17:15:13.021280Z",
     "iopub.status.idle": "2024-05-06T17:15:13.024835Z",
     "shell.execute_reply": "2024-05-06T17:15:13.024204Z"
    },
    "papermill": {
     "duration": 0.009903,
     "end_time": "2024-05-06T17:15:13.026389",
     "exception": false,
     "start_time": "2024-05-06T17:15:13.016486",
     "status": "completed"
    },
    "tags": []
   },
   "outputs": [],
   "source": [
    "annotationLevel = os.path.basename(os.path.normpath(workDir))"
   ]
  },
  {
   "cell_type": "code",
   "execution_count": 7,
   "id": "11e53cd5-b746-4152-89cb-c2f0c15d90b3",
   "metadata": {
    "execution": {
     "iopub.execute_input": "2024-05-06T17:15:13.035785Z",
     "iopub.status.busy": "2024-05-06T17:15:13.035119Z",
     "iopub.status.idle": "2024-05-06T17:15:13.039615Z",
     "shell.execute_reply": "2024-05-06T17:15:13.038954Z"
    },
    "papermill": {
     "duration": 0.010873,
     "end_time": "2024-05-06T17:15:13.041209",
     "exception": false,
     "start_time": "2024-05-06T17:15:13.030336",
     "status": "completed"
    },
    "tags": []
   },
   "outputs": [
    {
     "data": {
      "text/plain": [
       "'/home/jupyter/Inflammation-PBMCs-Atlas/02_cell_annotation/02_fromCellLineages_to_CellTypes/Step4'"
      ]
     },
     "execution_count": 7,
     "metadata": {},
     "output_type": "execute_result"
    }
   ],
   "source": [
    "workDir"
   ]
  },
  {
   "cell_type": "markdown",
   "id": "171d2f06-9a44-4fcb-b437-35dc546674b6",
   "metadata": {
    "papermill": {
     "duration": 0.004104,
     "end_time": "2024-05-06T17:15:13.049377",
     "exception": false,
     "start_time": "2024-05-06T17:15:13.045273",
     "status": "completed"
    },
    "tags": []
   },
   "source": [
    "**Load data**"
   ]
  },
  {
   "cell_type": "code",
   "execution_count": 8,
   "id": "429f34fe-dde6-4cc9-9f75-7de8f85c5ffe",
   "metadata": {
    "execution": {
     "iopub.execute_input": "2024-05-06T17:15:13.059174Z",
     "iopub.status.busy": "2024-05-06T17:15:13.058511Z",
     "iopub.status.idle": "2024-05-06T17:15:30.429500Z",
     "shell.execute_reply": "2024-05-06T17:15:30.428808Z"
    },
    "papermill": {
     "duration": 17.377722,
     "end_time": "2024-05-06T17:15:30.431290",
     "exception": false,
     "start_time": "2024-05-06T17:15:13.053568",
     "status": "completed"
    },
    "tags": []
   },
   "outputs": [
    {
     "data": {
      "text/plain": [
       "AnnData object with n_obs × n_vars = 740761 × 2247\n",
       "    obs: 'studyID', 'libraryID', 'sampleID', 'chemistry', 'technology', 'patientID', 'disease', 'timepoint_replicate', 'treatmentStatus', 'therapyResponse', 'sex', 'age', 'BMI', 'binned_age', 'diseaseStatus', 'smokingStatus', 'ethnicity', 'institute', 'diseaseGroup', 'n_genes_by_counts', 'log1p_n_genes_by_counts', 'total_counts', 'log1p_total_counts', 'pct_counts_in_top_20_genes', 'total_counts_mt', 'log1p_total_counts_mt', 'pct_counts_mt', 'total_counts_ribo', 'log1p_total_counts_ribo', 'pct_counts_ribo', 'total_counts_hb', 'log1p_total_counts_hb', 'pct_counts_hb', 'total_counts_plt', 'log1p_total_counts_plt', 'pct_counts_plt', 'doublet_score', 'predicted_doublet', 'S_score', 'G2M_score', 'phase'\n",
       "    var: 'hgnc_id', 'symbol', 'locus_group', 'HUGO_status', 'mt', 'ribo', 'hb', 'plt', 'n_cells_by_counts', 'mean_counts', 'log1p_mean_counts', 'pct_dropout_by_counts', 'total_counts', 'log1p_total_counts', 'highly_variable'\n",
       "    uns: 'chemistry_colors', 'log1p'\n",
       "    layers: 'counts', 'log1p_10e4_counts'"
      ]
     },
     "execution_count": 8,
     "metadata": {},
     "output_type": "execute_result"
    }
   ],
   "source": [
    "adata = sc.read_h5ad(here(f\"{workDir}/{cellGroup}/results/01_{cellGroup}_normalized_HVGsubset.h5ad\"))\n",
    "adata"
   ]
  },
  {
   "cell_type": "markdown",
   "id": "8ac79f3b-d5af-41fa-8904-1e9ac1cbe2fb",
   "metadata": {
    "papermill": {
     "duration": 0.004191,
     "end_time": "2024-05-06T17:15:30.440173",
     "exception": false,
     "start_time": "2024-05-06T17:15:30.435982",
     "status": "completed"
    },
    "tags": []
   },
   "source": [
    "## scVI integration"
   ]
  },
  {
   "cell_type": "markdown",
   "id": "9544847d-d17f-4811-b14b-760446d54d32",
   "metadata": {
    "execution": {
     "iopub.execute_input": "2024-03-25T16:49:04.004504Z",
     "iopub.status.busy": "2024-03-25T16:49:04.004143Z",
     "iopub.status.idle": "2024-03-25T16:49:04.010148Z",
     "shell.execute_reply": "2024-03-25T16:49:04.009146Z",
     "shell.execute_reply.started": "2024-03-25T16:49:04.004477Z"
    },
    "papermill": {
     "duration": 0.004215,
     "end_time": "2024-05-06T17:15:30.448572",
     "exception": false,
     "start_time": "2024-05-06T17:15:30.444357",
     "status": "completed"
    },
    "tags": []
   },
   "source": [
    "**scVI parameters**"
   ]
  },
  {
   "cell_type": "code",
   "execution_count": 9,
   "id": "208966eb-545a-4c02-854c-0ed0487ef5b3",
   "metadata": {
    "execution": {
     "iopub.execute_input": "2024-05-06T17:15:30.458784Z",
     "iopub.status.busy": "2024-05-06T17:15:30.458118Z",
     "iopub.status.idle": "2024-05-06T17:15:30.463964Z",
     "shell.execute_reply": "2024-05-06T17:15:30.463306Z"
    },
    "papermill": {
     "duration": 0.01273,
     "end_time": "2024-05-06T17:15:30.465504",
     "exception": false,
     "start_time": "2024-05-06T17:15:30.452774",
     "status": "completed"
    },
    "tags": []
   },
   "outputs": [],
   "source": [
    "# https://docs.scvi-tools.org/en/stable/api/reference/scvi.train.Trainer.html#scvi.train.Trainer\n",
    "setup_kwargs = dict(\n",
    "    layer=\"counts\", \n",
    "    batch_key='libraryID', \n",
    "    categorical_covariate_keys = ['studyID', 'chemistry', 'disease', 'sampleID'],\n",
    "    labels_key = 'chemistry'    \n",
    ")\n",
    "\n",
    "scvi_kwargs = dict(n_hidden=512,\n",
    "                   n_latent=10, # reduced to 20 after step 00 (main) and to 10 after step 03\n",
    "                   n_layers=2,\n",
    "                   gene_likelihood='nb',\n",
    "                   dispersion='gene-label')\n",
    "\n",
    "trainer_kwargs = dict(\n",
    "    checkpointing_monitor = 'elbo_validation',\n",
    "    early_stopping_monitor = 'reconstruction_loss_validation',\n",
    "    early_stopping_patience = 10,\n",
    "    early_stopping_min_delta=0.1,\n",
    "    early_stopping = True,\n",
    "    max_epochs = 1000,\n",
    "\n",
    "    #logger = # wandb\n",
    ")\n",
    "# https://docs.scvi-tools.org/en/stable/api/reference/scvi.train.TrainingPlan.html#scvi.train.TrainingPlan\n",
    "plan_kwargs = dict(\n",
    "    lr = 5e-4,\n",
    "    #reduce_lr_on_plateau = True\n",
    ")\n",
    "\n",
    "# https://docs.scvi-tools.org/en/stable/api/reference/scvi.module.VAE.html#scvi.module.VAE\n",
    "#vae = dict(\n",
    "#    use_layer_norm='both',\n",
    "#    use_batch_norm='none',\n",
    "#    encode_covariates=True,\n",
    "#    deeply_inject_covariates=False\n",
    "#)\n",
    "parameter_dict = setup_kwargs | scvi_kwargs | trainer_kwargs | plan_kwargs"
   ]
  },
  {
   "cell_type": "markdown",
   "id": "1362366a-c16b-4c11-964b-b9c5f82f7b29",
   "metadata": {
    "papermill": {
     "duration": 0.004072,
     "end_time": "2024-05-06T17:15:30.473805",
     "exception": false,
     "start_time": "2024-05-06T17:15:30.469733",
     "status": "completed"
    },
    "tags": []
   },
   "source": [
    "**wandb parameter**"
   ]
  },
  {
   "cell_type": "code",
   "execution_count": 10,
   "id": "0496e33a-8ca5-423f-b42f-34a59760708c",
   "metadata": {
    "execution": {
     "iopub.execute_input": "2024-05-06T17:15:30.483868Z",
     "iopub.status.busy": "2024-05-06T17:15:30.483180Z",
     "iopub.status.idle": "2024-05-06T17:15:30.487852Z",
     "shell.execute_reply": "2024-05-06T17:15:30.487221Z"
    },
    "papermill": {
     "duration": 0.011353,
     "end_time": "2024-05-06T17:15:30.489417",
     "exception": false,
     "start_time": "2024-05-06T17:15:30.478064",
     "status": "completed"
    },
    "tags": []
   },
   "outputs": [
    {
     "data": {
      "text/plain": [
       "'Step4_T_CD4_NonNaive'"
      ]
     },
     "execution_count": 10,
     "metadata": {},
     "output_type": "execute_result"
    }
   ],
   "source": [
    "run_name = f\"{annotationLevel}_{cellGroup}\"\n",
    "run_name"
   ]
  },
  {
   "cell_type": "code",
   "execution_count": 11,
   "id": "b0021327-95a2-4002-bf32-2c5779a99505",
   "metadata": {
    "execution": {
     "iopub.execute_input": "2024-05-06T17:15:30.499258Z",
     "iopub.status.busy": "2024-05-06T17:15:30.498989Z",
     "iopub.status.idle": "2024-05-06T17:15:30.641165Z",
     "shell.execute_reply": "2024-05-06T17:15:30.640348Z"
    },
    "papermill": {
     "duration": 0.149653,
     "end_time": "2024-05-06T17:15:30.643318",
     "exception": false,
     "start_time": "2024-05-06T17:15:30.493665",
     "status": "completed"
    },
    "tags": []
   },
   "outputs": [],
   "source": [
    "logger = CustomWandbLogger(name = run_name, project='inflammation_atlas_R1', config=parameter_dict)"
   ]
  },
  {
   "cell_type": "markdown",
   "id": "c237eee1-a976-4915-9b7f-b014bf33f47d",
   "metadata": {
    "papermill": {
     "duration": 0.004603,
     "end_time": "2024-05-06T17:15:30.652749",
     "exception": false,
     "start_time": "2024-05-06T17:15:30.648146",
     "status": "completed"
    },
    "tags": []
   },
   "source": [
    "**Running integration**"
   ]
  },
  {
   "cell_type": "code",
   "execution_count": 12,
   "id": "aff97c53-1aba-462e-8a77-f1aec9cf724c",
   "metadata": {
    "execution": {
     "iopub.execute_input": "2024-05-06T17:15:30.663792Z",
     "iopub.status.busy": "2024-05-06T17:15:30.663477Z",
     "iopub.status.idle": "2024-05-06T17:15:31.271693Z",
     "shell.execute_reply": "2024-05-06T17:15:31.270896Z"
    },
    "papermill": {
     "duration": 0.615992,
     "end_time": "2024-05-06T17:15:31.273792",
     "exception": false,
     "start_time": "2024-05-06T17:15:30.657800",
     "status": "completed"
    },
    "tags": []
   },
   "outputs": [],
   "source": [
    "scvi.model.SCVI.setup_anndata(adata, \n",
    "                              **setup_kwargs)"
   ]
  },
  {
   "cell_type": "code",
   "execution_count": 13,
   "id": "1a56f448-cf44-47c1-81a4-a89caa930fec",
   "metadata": {
    "execution": {
     "iopub.execute_input": "2024-05-06T17:15:31.285143Z",
     "iopub.status.busy": "2024-05-06T17:15:31.284381Z",
     "iopub.status.idle": "2024-05-06T17:15:32.156978Z",
     "shell.execute_reply": "2024-05-06T17:15:32.156146Z"
    },
    "papermill": {
     "duration": 0.880807,
     "end_time": "2024-05-06T17:15:32.159351",
     "exception": false,
     "start_time": "2024-05-06T17:15:31.278544",
     "status": "completed"
    },
    "tags": []
   },
   "outputs": [],
   "source": [
    "model = scvi.model.SCVI(adata, **scvi_kwargs)"
   ]
  },
  {
   "cell_type": "code",
   "execution_count": 14,
   "id": "2735f010-4f24-4ae8-9740-a8cfeb335e9a",
   "metadata": {
    "execution": {
     "iopub.execute_input": "2024-05-06T17:15:32.170924Z",
     "iopub.status.busy": "2024-05-06T17:15:32.170183Z",
     "iopub.status.idle": "2024-05-06T18:01:40.809645Z",
     "shell.execute_reply": "2024-05-06T18:01:40.808846Z"
    },
    "papermill": {
     "duration": 2768.647553,
     "end_time": "2024-05-06T18:01:40.811555",
     "exception": false,
     "start_time": "2024-05-06T17:15:32.164002",
     "status": "completed"
    },
    "tags": []
   },
   "outputs": [
    {
     "name": "stderr",
     "output_type": "stream",
     "text": [
      "GPU available: True (cuda), used: True\n"
     ]
    },
    {
     "name": "stderr",
     "output_type": "stream",
     "text": [
      "TPU available: False, using: 0 TPU cores\n"
     ]
    },
    {
     "name": "stderr",
     "output_type": "stream",
     "text": [
      "IPU available: False, using: 0 IPUs\n"
     ]
    },
    {
     "name": "stderr",
     "output_type": "stream",
     "text": [
      "HPU available: False, using: 0 HPUs\n"
     ]
    },
    {
     "name": "stderr",
     "output_type": "stream",
     "text": [
      "\u001b[34m\u001b[1mwandb\u001b[0m: Currently logged in as: \u001b[33mdav1989\u001b[0m (\u001b[33minflammation\u001b[0m). Use \u001b[1m`wandb login --relogin`\u001b[0m to force relogin\n"
     ]
    },
    {
     "name": "stderr",
     "output_type": "stream",
     "text": [
      "\u001b[34m\u001b[1mwandb\u001b[0m: wandb version 0.16.6 is available!  To upgrade, please run:\n",
      "\u001b[34m\u001b[1mwandb\u001b[0m:  $ pip install wandb --upgrade\n"
     ]
    },
    {
     "name": "stderr",
     "output_type": "stream",
     "text": [
      "\u001b[34m\u001b[1mwandb\u001b[0m: Tracking run with wandb version 0.16.3\n"
     ]
    },
    {
     "name": "stderr",
     "output_type": "stream",
     "text": [
      "\u001b[34m\u001b[1mwandb\u001b[0m: Run data is saved locally in \u001b[35m\u001b[1m./wandb/run-20240506_171536-8jfng467\u001b[0m\n",
      "\u001b[34m\u001b[1mwandb\u001b[0m: Run \u001b[1m`wandb offline`\u001b[0m to turn off syncing.\n"
     ]
    },
    {
     "name": "stderr",
     "output_type": "stream",
     "text": [
      "\u001b[34m\u001b[1mwandb\u001b[0m: Syncing run \u001b[33mStep4_T_CD4_NonNaive\u001b[0m\n"
     ]
    },
    {
     "name": "stderr",
     "output_type": "stream",
     "text": [
      "\u001b[34m\u001b[1mwandb\u001b[0m: ⭐️ View project at \u001b[34m\u001b[4mhttps://wandb.ai/inflammation/inflammation_atlas_R1\u001b[0m\n"
     ]
    },
    {
     "name": "stderr",
     "output_type": "stream",
     "text": [
      "\u001b[34m\u001b[1mwandb\u001b[0m: 🚀 View run at \u001b[34m\u001b[4mhttps://wandb.ai/inflammation/inflammation_atlas_R1/runs/8jfng467\u001b[0m\n"
     ]
    },
    {
     "name": "stderr",
     "output_type": "stream",
     "text": [
      "LOCAL_RANK: 0 - CUDA_VISIBLE_DEVICES: [0]\n"
     ]
    },
    {
     "name": "stdout",
     "output_type": "stream",
     "text": [
      "\r",
      "Training:   0%|          | 0/1000 [00:00<?, ?it/s]"
     ]
    },
    {
     "name": "stdout",
     "output_type": "stream",
     "text": [
      "\r",
      "Epoch 1/1000:   0%|          | 0/1000 [00:00<?, ?it/s]"
     ]
    },
    {
     "name": "stdout",
     "output_type": "stream",
     "text": [
      "\r",
      "Epoch 1/1000:   0%|          | 1/1000 [01:17<21:28:46, 77.40s/it]"
     ]
    },
    {
     "name": "stdout",
     "output_type": "stream",
     "text": [
      "\r",
      "Epoch 1/1000:   0%|          | 1/1000 [01:17<21:28:46, 77.40s/it, v_num=g467, train_loss_step=684, train_loss_epoch=697]"
     ]
    },
    {
     "name": "stdout",
     "output_type": "stream",
     "text": [
      "\r",
      "Epoch 2/1000:   0%|          | 1/1000 [01:17<21:28:46, 77.40s/it, v_num=g467, train_loss_step=684, train_loss_epoch=697]"
     ]
    },
    {
     "name": "stdout",
     "output_type": "stream",
     "text": [
      "\r",
      "Epoch 2/1000:   0%|          | 2/1000 [02:33<21:10:28, 76.38s/it, v_num=g467, train_loss_step=684, train_loss_epoch=697]"
     ]
    },
    {
     "name": "stdout",
     "output_type": "stream",
     "text": [
      "\r",
      "Epoch 2/1000:   0%|          | 2/1000 [02:33<21:10:28, 76.38s/it, v_num=g467, train_loss_step=671, train_loss_epoch=683]"
     ]
    },
    {
     "name": "stdout",
     "output_type": "stream",
     "text": [
      "\r",
      "Epoch 3/1000:   0%|          | 2/1000 [02:33<21:10:28, 76.38s/it, v_num=g467, train_loss_step=671, train_loss_epoch=683]"
     ]
    },
    {
     "name": "stdout",
     "output_type": "stream",
     "text": [
      "\r",
      "Epoch 3/1000:   0%|          | 3/1000 [03:48<21:03:47, 76.06s/it, v_num=g467, train_loss_step=671, train_loss_epoch=683]"
     ]
    },
    {
     "name": "stdout",
     "output_type": "stream",
     "text": [
      "\r",
      "Epoch 3/1000:   0%|          | 3/1000 [03:48<21:03:47, 76.06s/it, v_num=g467, train_loss_step=643, train_loss_epoch=681]"
     ]
    },
    {
     "name": "stdout",
     "output_type": "stream",
     "text": [
      "\r",
      "Epoch 4/1000:   0%|          | 3/1000 [03:48<21:03:47, 76.06s/it, v_num=g467, train_loss_step=643, train_loss_epoch=681]"
     ]
    },
    {
     "name": "stdout",
     "output_type": "stream",
     "text": [
      "\r",
      "Epoch 4/1000:   0%|          | 4/1000 [05:05<21:04:56, 76.20s/it, v_num=g467, train_loss_step=643, train_loss_epoch=681]"
     ]
    },
    {
     "name": "stdout",
     "output_type": "stream",
     "text": [
      "\r",
      "Epoch 4/1000:   0%|          | 4/1000 [05:05<21:04:56, 76.20s/it, v_num=g467, train_loss_step=716, train_loss_epoch=680]"
     ]
    },
    {
     "name": "stdout",
     "output_type": "stream",
     "text": [
      "\r",
      "Epoch 5/1000:   0%|          | 4/1000 [05:05<21:04:56, 76.20s/it, v_num=g467, train_loss_step=716, train_loss_epoch=680]"
     ]
    },
    {
     "name": "stdout",
     "output_type": "stream",
     "text": [
      "\r",
      "Epoch 5/1000:   0%|          | 5/1000 [06:20<20:57:56, 75.86s/it, v_num=g467, train_loss_step=716, train_loss_epoch=680]"
     ]
    },
    {
     "name": "stdout",
     "output_type": "stream",
     "text": [
      "\r",
      "Epoch 5/1000:   0%|          | 5/1000 [06:20<20:57:56, 75.86s/it, v_num=g467, train_loss_step=668, train_loss_epoch=679]"
     ]
    },
    {
     "name": "stdout",
     "output_type": "stream",
     "text": [
      "\r",
      "Epoch 6/1000:   0%|          | 5/1000 [06:20<20:57:56, 75.86s/it, v_num=g467, train_loss_step=668, train_loss_epoch=679]"
     ]
    },
    {
     "name": "stdout",
     "output_type": "stream",
     "text": [
      "\r",
      "Epoch 6/1000:   1%|          | 6/1000 [07:35<20:55:05, 75.76s/it, v_num=g467, train_loss_step=668, train_loss_epoch=679]"
     ]
    },
    {
     "name": "stdout",
     "output_type": "stream",
     "text": [
      "\r",
      "Epoch 6/1000:   1%|          | 6/1000 [07:35<20:55:05, 75.76s/it, v_num=g467, train_loss_step=689, train_loss_epoch=678]"
     ]
    },
    {
     "name": "stdout",
     "output_type": "stream",
     "text": [
      "\r",
      "Epoch 7/1000:   1%|          | 6/1000 [07:35<20:55:05, 75.76s/it, v_num=g467, train_loss_step=689, train_loss_epoch=678]"
     ]
    },
    {
     "name": "stdout",
     "output_type": "stream",
     "text": [
      "\r",
      "Epoch 7/1000:   1%|          | 7/1000 [08:52<20:56:08, 75.90s/it, v_num=g467, train_loss_step=689, train_loss_epoch=678]"
     ]
    },
    {
     "name": "stdout",
     "output_type": "stream",
     "text": [
      "\r",
      "Epoch 7/1000:   1%|          | 7/1000 [08:52<20:56:08, 75.90s/it, v_num=g467, train_loss_step=720, train_loss_epoch=678]"
     ]
    },
    {
     "name": "stdout",
     "output_type": "stream",
     "text": [
      "\r",
      "Epoch 8/1000:   1%|          | 7/1000 [08:52<20:56:08, 75.90s/it, v_num=g467, train_loss_step=720, train_loss_epoch=678]"
     ]
    },
    {
     "name": "stdout",
     "output_type": "stream",
     "text": [
      "\r",
      "Epoch 8/1000:   1%|          | 8/1000 [10:07<20:53:13, 75.80s/it, v_num=g467, train_loss_step=720, train_loss_epoch=678]"
     ]
    },
    {
     "name": "stdout",
     "output_type": "stream",
     "text": [
      "\r",
      "Epoch 8/1000:   1%|          | 8/1000 [10:07<20:53:13, 75.80s/it, v_num=g467, train_loss_step=717, train_loss_epoch=678]"
     ]
    },
    {
     "name": "stdout",
     "output_type": "stream",
     "text": [
      "\r",
      "Epoch 9/1000:   1%|          | 8/1000 [10:07<20:53:13, 75.80s/it, v_num=g467, train_loss_step=717, train_loss_epoch=678]"
     ]
    },
    {
     "name": "stdout",
     "output_type": "stream",
     "text": [
      "\r",
      "Epoch 9/1000:   1%|          | 9/1000 [11:23<20:49:34, 75.66s/it, v_num=g467, train_loss_step=717, train_loss_epoch=678]"
     ]
    },
    {
     "name": "stdout",
     "output_type": "stream",
     "text": [
      "\r",
      "Epoch 9/1000:   1%|          | 9/1000 [11:23<20:49:34, 75.66s/it, v_num=g467, train_loss_step=754, train_loss_epoch=678]"
     ]
    },
    {
     "name": "stdout",
     "output_type": "stream",
     "text": [
      "\r",
      "Epoch 10/1000:   1%|          | 9/1000 [11:23<20:49:34, 75.66s/it, v_num=g467, train_loss_step=754, train_loss_epoch=678]"
     ]
    },
    {
     "name": "stdout",
     "output_type": "stream",
     "text": [
      "\r",
      "Epoch 10/1000:   1%|          | 10/1000 [12:39<20:51:09, 75.83s/it, v_num=g467, train_loss_step=754, train_loss_epoch=678]"
     ]
    },
    {
     "name": "stdout",
     "output_type": "stream",
     "text": [
      "\r",
      "Epoch 10/1000:   1%|          | 10/1000 [12:39<20:51:09, 75.83s/it, v_num=g467, train_loss_step=676, train_loss_epoch=677]"
     ]
    },
    {
     "name": "stdout",
     "output_type": "stream",
     "text": [
      "\r",
      "Epoch 11/1000:   1%|          | 10/1000 [12:39<20:51:09, 75.83s/it, v_num=g467, train_loss_step=676, train_loss_epoch=677]"
     ]
    },
    {
     "name": "stdout",
     "output_type": "stream",
     "text": [
      "\r",
      "Epoch 11/1000:   1%|          | 11/1000 [13:54<20:47:39, 75.69s/it, v_num=g467, train_loss_step=676, train_loss_epoch=677]"
     ]
    },
    {
     "name": "stdout",
     "output_type": "stream",
     "text": [
      "\r",
      "Epoch 11/1000:   1%|          | 11/1000 [13:54<20:47:39, 75.69s/it, v_num=g467, train_loss_step=684, train_loss_epoch=677]"
     ]
    },
    {
     "name": "stdout",
     "output_type": "stream",
     "text": [
      "\r",
      "Epoch 12/1000:   1%|          | 11/1000 [13:54<20:47:39, 75.69s/it, v_num=g467, train_loss_step=684, train_loss_epoch=677]"
     ]
    },
    {
     "name": "stdout",
     "output_type": "stream",
     "text": [
      "\r",
      "Epoch 12/1000:   1%|          | 12/1000 [15:10<20:44:35, 75.58s/it, v_num=g467, train_loss_step=684, train_loss_epoch=677]"
     ]
    },
    {
     "name": "stdout",
     "output_type": "stream",
     "text": [
      "\r",
      "Epoch 12/1000:   1%|          | 12/1000 [15:10<20:44:35, 75.58s/it, v_num=g467, train_loss_step=675, train_loss_epoch=677]"
     ]
    },
    {
     "name": "stdout",
     "output_type": "stream",
     "text": [
      "\r",
      "Epoch 13/1000:   1%|          | 12/1000 [15:10<20:44:35, 75.58s/it, v_num=g467, train_loss_step=675, train_loss_epoch=677]"
     ]
    },
    {
     "name": "stdout",
     "output_type": "stream",
     "text": [
      "\r",
      "Epoch 13/1000:   1%|▏         | 13/1000 [16:26<20:45:44, 75.73s/it, v_num=g467, train_loss_step=675, train_loss_epoch=677]"
     ]
    },
    {
     "name": "stdout",
     "output_type": "stream",
     "text": [
      "\r",
      "Epoch 13/1000:   1%|▏         | 13/1000 [16:26<20:45:44, 75.73s/it, v_num=g467, train_loss_step=687, train_loss_epoch=677]"
     ]
    },
    {
     "name": "stdout",
     "output_type": "stream",
     "text": [
      "\r",
      "Epoch 14/1000:   1%|▏         | 13/1000 [16:26<20:45:44, 75.73s/it, v_num=g467, train_loss_step=687, train_loss_epoch=677]"
     ]
    },
    {
     "name": "stdout",
     "output_type": "stream",
     "text": [
      "\r",
      "Epoch 14/1000:   1%|▏         | 14/1000 [17:41<20:43:27, 75.67s/it, v_num=g467, train_loss_step=687, train_loss_epoch=677]"
     ]
    },
    {
     "name": "stdout",
     "output_type": "stream",
     "text": [
      "\r",
      "Epoch 14/1000:   1%|▏         | 14/1000 [17:41<20:43:27, 75.67s/it, v_num=g467, train_loss_step=689, train_loss_epoch=677]"
     ]
    },
    {
     "name": "stdout",
     "output_type": "stream",
     "text": [
      "\r",
      "Epoch 15/1000:   1%|▏         | 14/1000 [17:41<20:43:27, 75.67s/it, v_num=g467, train_loss_step=689, train_loss_epoch=677]"
     ]
    },
    {
     "name": "stdout",
     "output_type": "stream",
     "text": [
      "\r",
      "Epoch 15/1000:   2%|▏         | 15/1000 [18:56<20:40:10, 75.54s/it, v_num=g467, train_loss_step=689, train_loss_epoch=677]"
     ]
    },
    {
     "name": "stdout",
     "output_type": "stream",
     "text": [
      "\r",
      "Epoch 15/1000:   2%|▏         | 15/1000 [18:56<20:40:10, 75.54s/it, v_num=g467, train_loss_step=654, train_loss_epoch=677]"
     ]
    },
    {
     "name": "stdout",
     "output_type": "stream",
     "text": [
      "\r",
      "Epoch 16/1000:   2%|▏         | 15/1000 [18:56<20:40:10, 75.54s/it, v_num=g467, train_loss_step=654, train_loss_epoch=677]"
     ]
    },
    {
     "name": "stdout",
     "output_type": "stream",
     "text": [
      "\r",
      "Epoch 16/1000:   2%|▏         | 16/1000 [20:12<20:37:25, 75.45s/it, v_num=g467, train_loss_step=654, train_loss_epoch=677]"
     ]
    },
    {
     "name": "stdout",
     "output_type": "stream",
     "text": [
      "\r",
      "Epoch 16/1000:   2%|▏         | 16/1000 [20:12<20:37:25, 75.45s/it, v_num=g467, train_loss_step=687, train_loss_epoch=677]"
     ]
    },
    {
     "name": "stdout",
     "output_type": "stream",
     "text": [
      "\r",
      "Epoch 17/1000:   2%|▏         | 16/1000 [20:12<20:37:25, 75.45s/it, v_num=g467, train_loss_step=687, train_loss_epoch=677]"
     ]
    },
    {
     "name": "stdout",
     "output_type": "stream",
     "text": [
      "\r",
      "Epoch 17/1000:   2%|▏         | 17/1000 [21:28<20:39:53, 75.68s/it, v_num=g467, train_loss_step=687, train_loss_epoch=677]"
     ]
    },
    {
     "name": "stdout",
     "output_type": "stream",
     "text": [
      "\r",
      "Epoch 17/1000:   2%|▏         | 17/1000 [21:28<20:39:53, 75.68s/it, v_num=g467, train_loss_step=693, train_loss_epoch=677]"
     ]
    },
    {
     "name": "stdout",
     "output_type": "stream",
     "text": [
      "\r",
      "Epoch 18/1000:   2%|▏         | 17/1000 [21:28<20:39:53, 75.68s/it, v_num=g467, train_loss_step=693, train_loss_epoch=677]"
     ]
    },
    {
     "name": "stdout",
     "output_type": "stream",
     "text": [
      "\r",
      "Epoch 18/1000:   2%|▏         | 18/1000 [22:43<20:35:36, 75.50s/it, v_num=g467, train_loss_step=693, train_loss_epoch=677]"
     ]
    },
    {
     "name": "stdout",
     "output_type": "stream",
     "text": [
      "\r",
      "Epoch 18/1000:   2%|▏         | 18/1000 [22:43<20:35:36, 75.50s/it, v_num=g467, train_loss_step=621, train_loss_epoch=677]"
     ]
    },
    {
     "name": "stdout",
     "output_type": "stream",
     "text": [
      "\r",
      "Epoch 19/1000:   2%|▏         | 18/1000 [22:43<20:35:36, 75.50s/it, v_num=g467, train_loss_step=621, train_loss_epoch=677]"
     ]
    },
    {
     "name": "stdout",
     "output_type": "stream",
     "text": [
      "\r",
      "Epoch 19/1000:   2%|▏         | 19/1000 [23:58<20:33:50, 75.46s/it, v_num=g467, train_loss_step=621, train_loss_epoch=677]"
     ]
    },
    {
     "name": "stdout",
     "output_type": "stream",
     "text": [
      "\r",
      "Epoch 19/1000:   2%|▏         | 19/1000 [23:58<20:33:50, 75.46s/it, v_num=g467, train_loss_step=680, train_loss_epoch=677]"
     ]
    },
    {
     "name": "stdout",
     "output_type": "stream",
     "text": [
      "\r",
      "Epoch 20/1000:   2%|▏         | 19/1000 [23:58<20:33:50, 75.46s/it, v_num=g467, train_loss_step=680, train_loss_epoch=677]"
     ]
    },
    {
     "name": "stdout",
     "output_type": "stream",
     "text": [
      "\r",
      "Epoch 20/1000:   2%|▏         | 20/1000 [25:15<20:37:40, 75.78s/it, v_num=g467, train_loss_step=680, train_loss_epoch=677]"
     ]
    },
    {
     "name": "stdout",
     "output_type": "stream",
     "text": [
      "\r",
      "Epoch 20/1000:   2%|▏         | 20/1000 [25:15<20:37:40, 75.78s/it, v_num=g467, train_loss_step=646, train_loss_epoch=677]"
     ]
    },
    {
     "name": "stdout",
     "output_type": "stream",
     "text": [
      "\r",
      "Epoch 21/1000:   2%|▏         | 20/1000 [25:15<20:37:40, 75.78s/it, v_num=g467, train_loss_step=646, train_loss_epoch=677]"
     ]
    },
    {
     "name": "stdout",
     "output_type": "stream",
     "text": [
      "\r",
      "Epoch 21/1000:   2%|▏         | 21/1000 [26:30<20:34:36, 75.67s/it, v_num=g467, train_loss_step=646, train_loss_epoch=677]"
     ]
    },
    {
     "name": "stdout",
     "output_type": "stream",
     "text": [
      "\r",
      "Epoch 21/1000:   2%|▏         | 21/1000 [26:30<20:34:36, 75.67s/it, v_num=g467, train_loss_step=707, train_loss_epoch=677]"
     ]
    },
    {
     "name": "stdout",
     "output_type": "stream",
     "text": [
      "\r",
      "Epoch 22/1000:   2%|▏         | 21/1000 [26:30<20:34:36, 75.67s/it, v_num=g467, train_loss_step=707, train_loss_epoch=677]"
     ]
    },
    {
     "name": "stdout",
     "output_type": "stream",
     "text": [
      "\r",
      "Epoch 22/1000:   2%|▏         | 22/1000 [27:45<20:31:08, 75.53s/it, v_num=g467, train_loss_step=707, train_loss_epoch=677]"
     ]
    },
    {
     "name": "stdout",
     "output_type": "stream",
     "text": [
      "\r",
      "Epoch 22/1000:   2%|▏         | 22/1000 [27:45<20:31:08, 75.53s/it, v_num=g467, train_loss_step=655, train_loss_epoch=677]"
     ]
    },
    {
     "name": "stdout",
     "output_type": "stream",
     "text": [
      "\r",
      "Epoch 23/1000:   2%|▏         | 22/1000 [27:45<20:31:08, 75.53s/it, v_num=g467, train_loss_step=655, train_loss_epoch=677]"
     ]
    },
    {
     "name": "stdout",
     "output_type": "stream",
     "text": [
      "\r",
      "Epoch 23/1000:   2%|▏         | 23/1000 [29:01<20:31:17, 75.62s/it, v_num=g467, train_loss_step=655, train_loss_epoch=677]"
     ]
    },
    {
     "name": "stdout",
     "output_type": "stream",
     "text": [
      "\r",
      "Epoch 23/1000:   2%|▏         | 23/1000 [29:01<20:31:17, 75.62s/it, v_num=g467, train_loss_step=705, train_loss_epoch=677]"
     ]
    },
    {
     "name": "stdout",
     "output_type": "stream",
     "text": [
      "\r",
      "Epoch 24/1000:   2%|▏         | 23/1000 [29:01<20:31:17, 75.62s/it, v_num=g467, train_loss_step=705, train_loss_epoch=677]"
     ]
    },
    {
     "name": "stdout",
     "output_type": "stream",
     "text": [
      "\r",
      "Epoch 24/1000:   2%|▏         | 24/1000 [30:16<20:27:34, 75.47s/it, v_num=g467, train_loss_step=705, train_loss_epoch=677]"
     ]
    },
    {
     "name": "stdout",
     "output_type": "stream",
     "text": [
      "\r",
      "Epoch 24/1000:   2%|▏         | 24/1000 [30:16<20:27:34, 75.47s/it, v_num=g467, train_loss_step=715, train_loss_epoch=677]"
     ]
    },
    {
     "name": "stdout",
     "output_type": "stream",
     "text": [
      "\r",
      "Epoch 25/1000:   2%|▏         | 24/1000 [30:16<20:27:34, 75.47s/it, v_num=g467, train_loss_step=715, train_loss_epoch=677]"
     ]
    },
    {
     "name": "stdout",
     "output_type": "stream",
     "text": [
      "\r",
      "Epoch 25/1000:   2%|▎         | 25/1000 [31:31<20:24:16, 75.34s/it, v_num=g467, train_loss_step=715, train_loss_epoch=677]"
     ]
    },
    {
     "name": "stdout",
     "output_type": "stream",
     "text": [
      "\r",
      "Epoch 25/1000:   2%|▎         | 25/1000 [31:31<20:24:16, 75.34s/it, v_num=g467, train_loss_step=701, train_loss_epoch=677]"
     ]
    },
    {
     "name": "stdout",
     "output_type": "stream",
     "text": [
      "\r",
      "Epoch 26/1000:   2%|▎         | 25/1000 [31:31<20:24:16, 75.34s/it, v_num=g467, train_loss_step=701, train_loss_epoch=677]"
     ]
    },
    {
     "name": "stdout",
     "output_type": "stream",
     "text": [
      "\r",
      "Epoch 26/1000:   3%|▎         | 26/1000 [32:47<20:25:58, 75.52s/it, v_num=g467, train_loss_step=701, train_loss_epoch=677]"
     ]
    },
    {
     "name": "stdout",
     "output_type": "stream",
     "text": [
      "\r",
      "Epoch 26/1000:   3%|▎         | 26/1000 [32:47<20:25:58, 75.52s/it, v_num=g467, train_loss_step=646, train_loss_epoch=677]"
     ]
    },
    {
     "name": "stdout",
     "output_type": "stream",
     "text": [
      "\r",
      "Epoch 27/1000:   3%|▎         | 26/1000 [32:47<20:25:58, 75.52s/it, v_num=g467, train_loss_step=646, train_loss_epoch=677]"
     ]
    },
    {
     "name": "stdout",
     "output_type": "stream",
     "text": [
      "\r",
      "Epoch 27/1000:   3%|▎         | 27/1000 [34:03<20:25:26, 75.57s/it, v_num=g467, train_loss_step=646, train_loss_epoch=677]"
     ]
    },
    {
     "name": "stdout",
     "output_type": "stream",
     "text": [
      "\r",
      "Epoch 27/1000:   3%|▎         | 27/1000 [34:03<20:25:26, 75.57s/it, v_num=g467, train_loss_step=726, train_loss_epoch=677]"
     ]
    },
    {
     "name": "stdout",
     "output_type": "stream",
     "text": [
      "\r",
      "Epoch 28/1000:   3%|▎         | 27/1000 [34:03<20:25:26, 75.57s/it, v_num=g467, train_loss_step=726, train_loss_epoch=677]"
     ]
    },
    {
     "name": "stdout",
     "output_type": "stream",
     "text": [
      "\r",
      "Epoch 28/1000:   3%|▎         | 28/1000 [35:13<19:59:30, 74.04s/it, v_num=g467, train_loss_step=726, train_loss_epoch=677]"
     ]
    },
    {
     "name": "stdout",
     "output_type": "stream",
     "text": [
      "\r",
      "Epoch 28/1000:   3%|▎         | 28/1000 [35:13<19:59:30, 74.04s/it, v_num=g467, train_loss_step=660, train_loss_epoch=677]"
     ]
    },
    {
     "name": "stdout",
     "output_type": "stream",
     "text": [
      "\r",
      "Epoch 29/1000:   3%|▎         | 28/1000 [35:13<19:59:30, 74.04s/it, v_num=g467, train_loss_step=660, train_loss_epoch=677]"
     ]
    },
    {
     "name": "stdout",
     "output_type": "stream",
     "text": [
      "\r",
      "Epoch 29/1000:   3%|▎         | 29/1000 [36:20<19:20:53, 71.73s/it, v_num=g467, train_loss_step=660, train_loss_epoch=677]"
     ]
    },
    {
     "name": "stdout",
     "output_type": "stream",
     "text": [
      "\r",
      "Epoch 29/1000:   3%|▎         | 29/1000 [36:20<19:20:53, 71.73s/it, v_num=g467, train_loss_step=702, train_loss_epoch=677]"
     ]
    },
    {
     "name": "stdout",
     "output_type": "stream",
     "text": [
      "\r",
      "Epoch 30/1000:   3%|▎         | 29/1000 [36:20<19:20:53, 71.73s/it, v_num=g467, train_loss_step=702, train_loss_epoch=677]"
     ]
    },
    {
     "name": "stdout",
     "output_type": "stream",
     "text": [
      "\r",
      "Epoch 30/1000:   3%|▎         | 30/1000 [37:26<18:53:56, 70.14s/it, v_num=g467, train_loss_step=702, train_loss_epoch=677]"
     ]
    },
    {
     "name": "stdout",
     "output_type": "stream",
     "text": [
      "\r",
      "Epoch 30/1000:   3%|▎         | 30/1000 [37:26<18:53:56, 70.14s/it, v_num=g467, train_loss_step=713, train_loss_epoch=677]"
     ]
    },
    {
     "name": "stdout",
     "output_type": "stream",
     "text": [
      "\r",
      "Epoch 31/1000:   3%|▎         | 30/1000 [37:26<18:53:56, 70.14s/it, v_num=g467, train_loss_step=713, train_loss_epoch=677]"
     ]
    },
    {
     "name": "stdout",
     "output_type": "stream",
     "text": [
      "\r",
      "Epoch 31/1000:   3%|▎         | 31/1000 [38:34<18:42:05, 69.48s/it, v_num=g467, train_loss_step=713, train_loss_epoch=677]"
     ]
    },
    {
     "name": "stdout",
     "output_type": "stream",
     "text": [
      "\r",
      "Epoch 31/1000:   3%|▎         | 31/1000 [38:34<18:42:05, 69.48s/it, v_num=g467, train_loss_step=654, train_loss_epoch=677]"
     ]
    },
    {
     "name": "stdout",
     "output_type": "stream",
     "text": [
      "\r",
      "Epoch 32/1000:   3%|▎         | 31/1000 [38:34<18:42:05, 69.48s/it, v_num=g467, train_loss_step=654, train_loss_epoch=677]"
     ]
    },
    {
     "name": "stdout",
     "output_type": "stream",
     "text": [
      "\r",
      "Epoch 32/1000:   3%|▎         | 32/1000 [39:50<19:09:48, 71.27s/it, v_num=g467, train_loss_step=654, train_loss_epoch=677]"
     ]
    },
    {
     "name": "stdout",
     "output_type": "stream",
     "text": [
      "\r",
      "Epoch 32/1000:   3%|▎         | 32/1000 [39:50<19:09:48, 71.27s/it, v_num=g467, train_loss_step=807, train_loss_epoch=677]"
     ]
    },
    {
     "name": "stdout",
     "output_type": "stream",
     "text": [
      "\r",
      "Epoch 33/1000:   3%|▎         | 32/1000 [39:50<19:09:48, 71.27s/it, v_num=g467, train_loss_step=807, train_loss_epoch=677]"
     ]
    },
    {
     "name": "stdout",
     "output_type": "stream",
     "text": [
      "\r",
      "Epoch 33/1000:   3%|▎         | 33/1000 [41:05<19:27:06, 72.42s/it, v_num=g467, train_loss_step=807, train_loss_epoch=677]"
     ]
    },
    {
     "name": "stdout",
     "output_type": "stream",
     "text": [
      "\r",
      "Epoch 33/1000:   3%|▎         | 33/1000 [41:05<19:27:06, 72.42s/it, v_num=g467, train_loss_step=686, train_loss_epoch=677]"
     ]
    },
    {
     "name": "stdout",
     "output_type": "stream",
     "text": [
      "\r",
      "Epoch 34/1000:   3%|▎         | 33/1000 [41:05<19:27:06, 72.42s/it, v_num=g467, train_loss_step=686, train_loss_epoch=677]"
     ]
    },
    {
     "name": "stdout",
     "output_type": "stream",
     "text": [
      "\r",
      "Epoch 34/1000:   3%|▎         | 34/1000 [42:19<19:35:47, 73.03s/it, v_num=g467, train_loss_step=686, train_loss_epoch=677]"
     ]
    },
    {
     "name": "stdout",
     "output_type": "stream",
     "text": [
      "\r",
      "Epoch 34/1000:   3%|▎         | 34/1000 [42:19<19:35:47, 73.03s/it, v_num=g467, train_loss_step=669, train_loss_epoch=677]"
     ]
    },
    {
     "name": "stdout",
     "output_type": "stream",
     "text": [
      "\r",
      "Epoch 35/1000:   3%|▎         | 34/1000 [42:19<19:35:47, 73.03s/it, v_num=g467, train_loss_step=669, train_loss_epoch=677]"
     ]
    },
    {
     "name": "stdout",
     "output_type": "stream",
     "text": [
      "\r",
      "Epoch 35/1000:   4%|▎         | 35/1000 [43:34<19:41:09, 73.44s/it, v_num=g467, train_loss_step=669, train_loss_epoch=677]"
     ]
    },
    {
     "name": "stdout",
     "output_type": "stream",
     "text": [
      "\r",
      "Epoch 35/1000:   4%|▎         | 35/1000 [43:34<19:41:09, 73.44s/it, v_num=g467, train_loss_step=719, train_loss_epoch=677]"
     ]
    },
    {
     "name": "stdout",
     "output_type": "stream",
     "text": [
      "\r",
      "Epoch 36/1000:   4%|▎         | 35/1000 [43:34<19:41:09, 73.44s/it, v_num=g467, train_loss_step=719, train_loss_epoch=677]"
     ]
    },
    {
     "name": "stdout",
     "output_type": "stream",
     "text": [
      "\r",
      "Epoch 36/1000:   4%|▎         | 36/1000 [44:48<19:44:25, 73.72s/it, v_num=g467, train_loss_step=719, train_loss_epoch=677]"
     ]
    },
    {
     "name": "stdout",
     "output_type": "stream",
     "text": [
      "\r",
      "Epoch 36/1000:   4%|▎         | 36/1000 [44:48<19:44:25, 73.72s/it, v_num=g467, train_loss_step=637, train_loss_epoch=677]"
     ]
    },
    {
     "name": "stdout",
     "output_type": "stream",
     "text": [
      "\r",
      "Epoch 37/1000:   4%|▎         | 36/1000 [44:48<19:44:25, 73.72s/it, v_num=g467, train_loss_step=637, train_loss_epoch=677]"
     ]
    },
    {
     "name": "stdout",
     "output_type": "stream",
     "text": [
      "\r",
      "Epoch 37/1000:   4%|▎         | 37/1000 [46:02<19:46:48, 73.94s/it, v_num=g467, train_loss_step=637, train_loss_epoch=677]"
     ]
    },
    {
     "name": "stdout",
     "output_type": "stream",
     "text": [
      "\r",
      "Epoch 37/1000:   4%|▎         | 37/1000 [46:02<19:46:48, 73.94s/it, v_num=g467, train_loss_step=621, train_loss_epoch=677]"
     ]
    },
    {
     "name": "stdout",
     "output_type": "stream",
     "text": [
      "\r",
      "Epoch 37/1000:   4%|▎         | 37/1000 [46:02<19:58:30, 74.67s/it, v_num=g467, train_loss_step=621, train_loss_epoch=677]"
     ]
    },
    {
     "name": "stdout",
     "output_type": "stream",
     "text": [
      "\n",
      "Monitored metric reconstruction_loss_validation did not improve in the last 10 records. Best score: 674.924. Signaling Trainer to stop.\n"
     ]
    }
   ],
   "source": [
    "model.train(logger=logger, plan_kwargs = plan_kwargs, **trainer_kwargs)"
   ]
  },
  {
   "cell_type": "code",
   "execution_count": 15,
   "id": "c282f6eb-0ad1-40a5-81e6-1acda1545dad",
   "metadata": {
    "execution": {
     "iopub.execute_input": "2024-05-06T18:01:40.835441Z",
     "iopub.status.busy": "2024-05-06T18:01:40.835057Z",
     "iopub.status.idle": "2024-05-06T18:01:46.665353Z",
     "shell.execute_reply": "2024-05-06T18:01:46.664426Z"
    },
    "papermill": {
     "duration": 5.84481,
     "end_time": "2024-05-06T18:01:46.667604",
     "exception": false,
     "start_time": "2024-05-06T18:01:40.822794",
     "status": "completed"
    },
    "tags": []
   },
   "outputs": [
    {
     "name": "stderr",
     "output_type": "stream",
     "text": [
      "\u001b[34m\u001b[1mwandb\u001b[0m: - 0.003 MB of 0.003 MB uploaded\r"
     ]
    },
    {
     "name": "stderr",
     "output_type": "stream",
     "text": [
      "\u001b[34m\u001b[1mwandb\u001b[0m: \\ 0.003 MB of 0.009 MB uploaded\r"
     ]
    },
    {
     "name": "stderr",
     "output_type": "stream",
     "text": [
      "\u001b[34m\u001b[1mwandb\u001b[0m: | 0.003 MB of 0.009 MB uploaded\r"
     ]
    },
    {
     "name": "stderr",
     "output_type": "stream",
     "text": [
      "\u001b[34m\u001b[1mwandb\u001b[0m: / 0.009 MB of 0.009 MB uploaded\r"
     ]
    },
    {
     "name": "stderr",
     "output_type": "stream",
     "text": [
      "\u001b[34m\u001b[1mwandb\u001b[0m:                                                                                \n"
     ]
    },
    {
     "name": "stderr",
     "output_type": "stream",
     "text": [
      "\u001b[34m\u001b[1mwandb\u001b[0m: \n",
      "\u001b[34m\u001b[1mwandb\u001b[0m: Run history:\n",
      "\u001b[34m\u001b[1mwandb\u001b[0m:                     elbo_train █▆▅▄▃▃▃▃▃▂▂▂▂▂▂▂▂▂▂▂▂▂▁▁▁▁▁▁▁▁▁▁▁▁▁▁▁\n",
      "\u001b[34m\u001b[1mwandb\u001b[0m:                elbo_validation █▆▅▄▄▃▃▃▃▃▂▂▂▂▂▂▂▂▂▂▂▂▂▁▁▁▁▁▁▁▁▁▁▁▁▁▁\n",
      "\u001b[34m\u001b[1mwandb\u001b[0m:                          epoch ▁▁▁▁▂▂▂▂▂▃▃▃▃▃▄▄▄▄▄▅▅▅▅▅▅▅▆▆▆▆▆▆▇▇▇▇▇███\n",
      "\u001b[34m\u001b[1mwandb\u001b[0m:                kl_global_train ▁▁▁▁▁▁▁▁▁▁▁▁▁▁▁▁▁▁▁▁▁▁▁▁▁▁▁▁▁▁▁▁▁▁▁▁▁\n",
      "\u001b[34m\u001b[1mwandb\u001b[0m:           kl_global_validation ▁▁▁▁▁▁▁▁▁▁▁▁▁▁▁▁▁▁▁▁▁▁▁▁▁▁▁▁▁▁▁▁▁▁▁▁▁\n",
      "\u001b[34m\u001b[1mwandb\u001b[0m:                 kl_local_train ██▆▅▄▄▄▄▃▃▃▃▃▃▃▂▂▂▂▂▂▂▂▂▂▂▂▁▁▁▁▁▁▁▁▁▁\n",
      "\u001b[34m\u001b[1mwandb\u001b[0m:            kl_local_validation █▇▅▅▄▄▄▃▃▃▃▃▃▂▂▂▂▂▂▂▂▂▂▂▂▂▁▁▁▁▁▁▁▁▁▁▁\n",
      "\u001b[34m\u001b[1mwandb\u001b[0m:                      kl_weight ▁▁▁▁▂▂▂▂▂▃▃▃▃▃▄▄▄▄▄▄▄▅▅▅▅▅▆▆▆▆▆▆▇▇▇▇▇███\n",
      "\u001b[34m\u001b[1mwandb\u001b[0m:      reconstruction_loss_train █▄▃▂▂▂▂▂▂▂▂▁▁▁▁▁▁▁▁▁▁▁▁▁▁▁▁▁▁▁▁▁▁▁▁▁▁\n",
      "\u001b[34m\u001b[1mwandb\u001b[0m: reconstruction_loss_validation █▄▃▃▂▂▂▂▂▁▁▁▁▁▁▁▁▁▁▁▁▁▁▁▁▁▁▁▁▁▁▁▁▁▁▁▁\n",
      "\u001b[34m\u001b[1mwandb\u001b[0m:               train_loss_epoch █▃▂▂▂▂▁▁▁▁▁▁▁▁▁▁▁▁▁▁▁▁▁▁▁▁▁▁▁▁▁▁▁▁▁▁▁\n",
      "\u001b[34m\u001b[1mwandb\u001b[0m:                train_loss_step ▆▇▃▃▆▂▅▇▅▄█▄▄▇▄▄▅▆▆▄▆█▅▃▆▂▁▆▄▆▇█▄▅▂▇▇▅▄▅\n",
      "\u001b[34m\u001b[1mwandb\u001b[0m:            trainer/global_step ▁▁▁▁▂▂▂▂▂▃▃▃▃▃▃▄▄▄▄▄▅▅▅▅▅▅▆▆▆▆▆▆▇▇▇▇▇███\n",
      "\u001b[34m\u001b[1mwandb\u001b[0m:                validation_loss █▄▃▂▂▂▁▁▁▁▁▁▁▁▁▁▁▁▁▁▁▁▁▁▁▁▁▁▂▁▁▂▂▂▂▂▂\n",
      "\u001b[34m\u001b[1mwandb\u001b[0m: \n",
      "\u001b[34m\u001b[1mwandb\u001b[0m: Run summary:\n",
      "\u001b[34m\u001b[1mwandb\u001b[0m:                     elbo_train 697.74609\n",
      "\u001b[34m\u001b[1mwandb\u001b[0m:                elbo_validation 697.42834\n",
      "\u001b[34m\u001b[1mwandb\u001b[0m:                          epoch 36\n",
      "\u001b[34m\u001b[1mwandb\u001b[0m:                kl_global_train 0.0\n",
      "\u001b[34m\u001b[1mwandb\u001b[0m:           kl_global_validation 0.0\n",
      "\u001b[34m\u001b[1mwandb\u001b[0m:                 kl_local_train 22.86219\n",
      "\u001b[34m\u001b[1mwandb\u001b[0m:            kl_local_validation 22.39071\n",
      "\u001b[34m\u001b[1mwandb\u001b[0m:                      kl_weight 0.09\n",
      "\u001b[34m\u001b[1mwandb\u001b[0m:      reconstruction_loss_train 674.88391\n",
      "\u001b[34m\u001b[1mwandb\u001b[0m: reconstruction_loss_validation 675.03766\n",
      "\u001b[34m\u001b[1mwandb\u001b[0m:               train_loss_epoch 676.94171\n",
      "\u001b[34m\u001b[1mwandb\u001b[0m:                train_loss_step 683.54437\n",
      "\u001b[34m\u001b[1mwandb\u001b[0m:            trainer/global_step 192732\n",
      "\u001b[34m\u001b[1mwandb\u001b[0m:                validation_loss 677.05286\n",
      "\u001b[34m\u001b[1mwandb\u001b[0m: \n"
     ]
    },
    {
     "name": "stderr",
     "output_type": "stream",
     "text": [
      "\u001b[34m\u001b[1mwandb\u001b[0m: 🚀 View run \u001b[33mStep4_T_CD4_NonNaive\u001b[0m at: \u001b[34m\u001b[4mhttps://wandb.ai/inflammation/inflammation_atlas_R1/runs/8jfng467\u001b[0m\n",
      "\u001b[34m\u001b[1mwandb\u001b[0m: Synced 5 W&B file(s), 0 media file(s), 0 artifact file(s) and 0 other file(s)\n"
     ]
    },
    {
     "name": "stderr",
     "output_type": "stream",
     "text": [
      "\u001b[34m\u001b[1mwandb\u001b[0m: Find logs at: \u001b[35m\u001b[1m./wandb/run-20240506_171536-8jfng467/logs\u001b[0m\n"
     ]
    }
   ],
   "source": [
    "wandb.finish()"
   ]
  },
  {
   "cell_type": "markdown",
   "id": "d9fb1179-83c7-4ac6-b4aa-92dc7a349801",
   "metadata": {
    "papermill": {
     "duration": 0.011012,
     "end_time": "2024-05-06T18:01:46.689861",
     "exception": false,
     "start_time": "2024-05-06T18:01:46.678849",
     "status": "completed"
    },
    "tags": []
   },
   "source": [
    "### Extracting embedding space"
   ]
  },
  {
   "cell_type": "code",
   "execution_count": 16,
   "id": "caaa5832-0123-4c59-8ec6-f46a75f7a14e",
   "metadata": {
    "execution": {
     "iopub.execute_input": "2024-05-06T18:01:46.713396Z",
     "iopub.status.busy": "2024-05-06T18:01:46.713052Z",
     "iopub.status.idle": "2024-05-06T18:02:10.828154Z",
     "shell.execute_reply": "2024-05-06T18:02:10.827289Z"
    },
    "papermill": {
     "duration": 24.12962,
     "end_time": "2024-05-06T18:02:10.830377",
     "exception": false,
     "start_time": "2024-05-06T18:01:46.700757",
     "status": "completed"
    },
    "tags": []
   },
   "outputs": [],
   "source": [
    "adata.obsm['X_scVI'] = model.get_latent_representation()"
   ]
  },
  {
   "cell_type": "markdown",
   "id": "2f03e70b-839c-40a6-9fbb-d76bbd787419",
   "metadata": {
    "papermill": {
     "duration": 0.01091,
     "end_time": "2024-05-06T18:02:10.852668",
     "exception": false,
     "start_time": "2024-05-06T18:02:10.841758",
     "status": "completed"
    },
    "tags": []
   },
   "source": [
    "## Save the results"
   ]
  },
  {
   "cell_type": "code",
   "execution_count": 17,
   "id": "7b04049b-47fd-4b62-a1c0-c43dcc086d34",
   "metadata": {
    "execution": {
     "iopub.execute_input": "2024-05-06T18:02:10.876449Z",
     "iopub.status.busy": "2024-05-06T18:02:10.875660Z",
     "iopub.status.idle": "2024-05-06T18:03:32.738504Z",
     "shell.execute_reply": "2024-05-06T18:03:32.737663Z"
    },
    "papermill": {
     "duration": 81.877332,
     "end_time": "2024-05-06T18:03:32.740742",
     "exception": false,
     "start_time": "2024-05-06T18:02:10.863410",
     "status": "completed"
    },
    "tags": []
   },
   "outputs": [],
   "source": [
    "if overwriteData:\n",
    "    adata.write(here(f\"{workDir}/{cellGroup}/results/02_{annotationLevel}_{cellGroup}_HVGsubset_scVI.h5ad\"), compression=\"gzip\")\n",
    "    model.save(here(f\"{workDir}/{cellGroup}/results/02_{annotationLevel}_{cellGroup}_HVGsubset_scVI_MODEL/\"),\n",
    "               overwrite = True, \n",
    "               save_anndata = False )   "
   ]
  },
  {
   "cell_type": "code",
   "execution_count": 18,
   "id": "629ba2bd-f6be-44ef-8fca-bbdf891bf25f",
   "metadata": {
    "execution": {
     "iopub.execute_input": "2024-05-06T18:03:32.765379Z",
     "iopub.status.busy": "2024-05-06T18:03:32.764717Z",
     "iopub.status.idle": "2024-05-06T18:03:32.768410Z",
     "shell.execute_reply": "2024-05-06T18:03:32.767722Z"
    },
    "papermill": {
     "duration": 0.017541,
     "end_time": "2024-05-06T18:03:32.769964",
     "exception": false,
     "start_time": "2024-05-06T18:03:32.752423",
     "status": "completed"
    },
    "tags": []
   },
   "outputs": [],
   "source": [
    "# To load the model do (after loading corresponding adata):\n",
    "# model = scvi.model.SCVI.load(here('{}/results/01_{}_HVGsubset_scVI_MODEL/'.format(workDir, cellGroup)), \n",
    "#                              adata, \n",
    "#                              use_gpu=True)"
   ]
  },
  {
   "cell_type": "raw",
   "id": "975e84d0-f56b-498d-b3a8-c9219cf22e53",
   "metadata": {
    "papermill": {
     "duration": 0.011136,
     "end_time": "2024-05-06T18:03:32.792351",
     "exception": false,
     "start_time": "2024-05-06T18:03:32.781215",
     "status": "completed"
    },
    "tags": []
   },
   "source": [
    "session_info.show()"
   ]
  }
 ],
 "metadata": {
  "kernelspec": {
   "display_name": "Python 3 (ipykernel)",
   "language": "python",
   "name": "python3"
  },
  "language_info": {
   "codemirror_mode": {
    "name": "ipython",
    "version": 3
   },
   "file_extension": ".py",
   "mimetype": "text/x-python",
   "name": "python",
   "nbconvert_exporter": "python",
   "pygments_lexer": "ipython3",
   "version": "3.9.18"
  },
  "papermill": {
   "default_parameters": {},
   "duration": 2910.467818,
   "end_time": "2024-05-06T18:03:36.452212",
   "environment_variables": {},
   "exception": null,
   "input_path": "./T_CD4_NonNaive/02_integration_scVI.ipynb",
   "output_path": "./T_CD4_NonNaive/02_integration_scVI_executed.ipynb",
   "parameters": {},
   "start_time": "2024-05-06T17:15:05.984394",
   "version": "2.5.0"
  }
 },
 "nbformat": 4,
 "nbformat_minor": 5
}