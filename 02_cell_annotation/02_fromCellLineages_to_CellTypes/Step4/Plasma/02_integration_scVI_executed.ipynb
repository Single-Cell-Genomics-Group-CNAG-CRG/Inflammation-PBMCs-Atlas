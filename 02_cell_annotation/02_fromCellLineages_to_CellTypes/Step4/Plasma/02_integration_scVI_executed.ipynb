{
 "cells": [
  {
   "cell_type": "code",
   "execution_count": 1,
   "id": "2dd1425a-0c07-465e-b522-9e3cc5cb93a7",
   "metadata": {
    "execution": {
     "iopub.execute_input": "2024-05-06T17:13:10.016706Z",
     "iopub.status.busy": "2024-05-06T17:13:10.015683Z",
     "iopub.status.idle": "2024-05-06T17:13:15.724234Z",
     "shell.execute_reply": "2024-05-06T17:13:15.723464Z"
    },
    "papermill": {
     "duration": 5.716782,
     "end_time": "2024-05-06T17:13:15.726149",
     "exception": false,
     "start_time": "2024-05-06T17:13:10.009367",
     "status": "completed"
    },
    "tags": []
   },
   "outputs": [
    {
     "data": {
      "text/plain": [
       "True"
      ]
     },
     "execution_count": 1,
     "metadata": {},
     "output_type": "execute_result"
    }
   ],
   "source": [
    "import os\n",
    "import sys\n",
    "\n",
    "import numpy as np\n",
    "import matplotlib.pyplot as plt\n",
    "\n",
    "import scanpy as sc\n",
    "import scvi\n",
    "import torch\n",
    "\n",
    "from pytorch_lightning.loggers import WandbLogger\n",
    "import wandb\n",
    "from dotenv import load_dotenv\n",
    "\n",
    "import session_info\n",
    "import warnings\n",
    "from pyprojroot.here import here\n",
    "\n",
    "warnings.filterwarnings(\"ignore\")\n",
    "sys.path.insert(1, str(here('bin')))\n",
    "\n",
    "torch.set_float32_matmul_precision('high')\n",
    "\n",
    "#plt.style.use(['science','nature','no-latex'])\n",
    "dpi_fig_save = 300\n",
    "sc.set_figure_params(dpi=100, dpi_save=dpi_fig_save, vector_friendly=True)\n",
    "\n",
    "load_dotenv(here('.env'))"
   ]
  },
  {
   "cell_type": "code",
   "execution_count": 2,
   "id": "09c897fc-744b-43de-a681-718fb5d327fa",
   "metadata": {
    "execution": {
     "iopub.execute_input": "2024-05-06T17:13:15.738033Z",
     "iopub.status.busy": "2024-05-06T17:13:15.737318Z",
     "iopub.status.idle": "2024-05-06T17:13:15.741363Z",
     "shell.execute_reply": "2024-05-06T17:13:15.740718Z"
    },
    "papermill": {
     "duration": 0.010998,
     "end_time": "2024-05-06T17:13:15.743089",
     "exception": false,
     "start_time": "2024-05-06T17:13:15.732091",
     "status": "completed"
    },
    "tags": []
   },
   "outputs": [],
   "source": [
    "class CustomWandbLogger(WandbLogger):\n",
    "    @property\n",
    "    def save_dir(self):\n",
    "        return self.experiment.dir"
   ]
  },
  {
   "cell_type": "code",
   "execution_count": 3,
   "id": "8ee6662f-5d45-4137-80a5-bb0b9ae8d71f",
   "metadata": {
    "execution": {
     "iopub.execute_input": "2024-05-06T17:13:15.751553Z",
     "iopub.status.busy": "2024-05-06T17:13:15.751283Z",
     "iopub.status.idle": "2024-05-06T17:13:15.757815Z",
     "shell.execute_reply": "2024-05-06T17:13:15.757195Z"
    },
    "papermill": {
     "duration": 0.012869,
     "end_time": "2024-05-06T17:13:15.759437",
     "exception": false,
     "start_time": "2024-05-06T17:13:15.746568",
     "status": "completed"
    },
    "tags": []
   },
   "outputs": [
    {
     "name": "stderr",
     "output_type": "stream",
     "text": [
      "Seed set to 0\n"
     ]
    },
    {
     "name": "stdout",
     "output_type": "stream",
     "text": [
      "Last run with scvi-tools version: 1.1.2\n"
     ]
    }
   ],
   "source": [
    "scvi.settings.seed = 0\n",
    "print(\"Last run with scvi-tools version:\", scvi.__version__)"
   ]
  },
  {
   "cell_type": "markdown",
   "id": "a81037ff-5998-482a-ba86-520f757311a9",
   "metadata": {
    "papermill": {
     "duration": 0.003869,
     "end_time": "2024-05-06T17:13:15.767101",
     "exception": false,
     "start_time": "2024-05-06T17:13:15.763232",
     "status": "completed"
    },
    "tags": []
   },
   "source": [
    "**Setting parameters** "
   ]
  },
  {
   "cell_type": "code",
   "execution_count": 4,
   "id": "56c27966-8f10-4c93-8b1a-1fa75f005e41",
   "metadata": {
    "execution": {
     "iopub.execute_input": "2024-05-06T17:13:15.776424Z",
     "iopub.status.busy": "2024-05-06T17:13:15.775852Z",
     "iopub.status.idle": "2024-05-06T17:13:15.779304Z",
     "shell.execute_reply": "2024-05-06T17:13:15.778602Z"
    },
    "papermill": {
     "duration": 0.009818,
     "end_time": "2024-05-06T17:13:15.780853",
     "exception": false,
     "start_time": "2024-05-06T17:13:15.771035",
     "status": "completed"
    },
    "tags": []
   },
   "outputs": [],
   "source": [
    "overwriteFigures = True\n",
    "overwriteData = True"
   ]
  },
  {
   "cell_type": "code",
   "execution_count": 5,
   "id": "c86fccd3-a4fe-415b-8f4e-e2ceb3ec128a",
   "metadata": {
    "execution": {
     "iopub.execute_input": "2024-05-06T17:13:15.790171Z",
     "iopub.status.busy": "2024-05-06T17:13:15.789689Z",
     "iopub.status.idle": "2024-05-06T17:13:15.793091Z",
     "shell.execute_reply": "2024-05-06T17:13:15.792448Z"
    },
    "papermill": {
     "duration": 0.010114,
     "end_time": "2024-05-06T17:13:15.794829",
     "exception": false,
     "start_time": "2024-05-06T17:13:15.784715",
     "status": "completed"
    },
    "tags": []
   },
   "outputs": [],
   "source": [
    "cellGroup = 'Plasma'\n",
    "workDir = os.getcwd()"
   ]
  },
  {
   "cell_type": "code",
   "execution_count": 6,
   "id": "2dee4d55-d168-467b-b867-a61fed9d6af1",
   "metadata": {
    "execution": {
     "iopub.execute_input": "2024-05-06T17:13:15.803948Z",
     "iopub.status.busy": "2024-05-06T17:13:15.803456Z",
     "iopub.status.idle": "2024-05-06T17:13:15.807069Z",
     "shell.execute_reply": "2024-05-06T17:13:15.806425Z"
    },
    "papermill": {
     "duration": 0.010078,
     "end_time": "2024-05-06T17:13:15.808677",
     "exception": false,
     "start_time": "2024-05-06T17:13:15.798599",
     "status": "completed"
    },
    "tags": []
   },
   "outputs": [],
   "source": [
    "annotationLevel = os.path.basename(os.path.normpath(workDir))"
   ]
  },
  {
   "cell_type": "code",
   "execution_count": 7,
   "id": "11e53cd5-b746-4152-89cb-c2f0c15d90b3",
   "metadata": {
    "execution": {
     "iopub.execute_input": "2024-05-06T17:13:15.818254Z",
     "iopub.status.busy": "2024-05-06T17:13:15.817676Z",
     "iopub.status.idle": "2024-05-06T17:13:15.822260Z",
     "shell.execute_reply": "2024-05-06T17:13:15.821561Z"
    },
    "papermill": {
     "duration": 0.011253,
     "end_time": "2024-05-06T17:13:15.823882",
     "exception": false,
     "start_time": "2024-05-06T17:13:15.812629",
     "status": "completed"
    },
    "tags": []
   },
   "outputs": [
    {
     "data": {
      "text/plain": [
       "'/home/jupyter/Inflammation-PBMCs-Atlas/02_cell_annotation/02_fromCellLineages_to_CellTypes/Step4'"
      ]
     },
     "execution_count": 7,
     "metadata": {},
     "output_type": "execute_result"
    }
   ],
   "source": [
    "workDir"
   ]
  },
  {
   "cell_type": "markdown",
   "id": "171d2f06-9a44-4fcb-b437-35dc546674b6",
   "metadata": {
    "papermill": {
     "duration": 0.004051,
     "end_time": "2024-05-06T17:13:15.832065",
     "exception": false,
     "start_time": "2024-05-06T17:13:15.828014",
     "status": "completed"
    },
    "tags": []
   },
   "source": [
    "**Load data**"
   ]
  },
  {
   "cell_type": "code",
   "execution_count": 8,
   "id": "429f34fe-dde6-4cc9-9f75-7de8f85c5ffe",
   "metadata": {
    "execution": {
     "iopub.execute_input": "2024-05-06T17:13:15.841952Z",
     "iopub.status.busy": "2024-05-06T17:13:15.841445Z",
     "iopub.status.idle": "2024-05-06T17:13:17.025182Z",
     "shell.execute_reply": "2024-05-06T17:13:17.024501Z"
    },
    "papermill": {
     "duration": 1.190718,
     "end_time": "2024-05-06T17:13:17.027062",
     "exception": false,
     "start_time": "2024-05-06T17:13:15.836344",
     "status": "completed"
    },
    "tags": []
   },
   "outputs": [
    {
     "data": {
      "text/plain": [
       "AnnData object with n_obs × n_vars = 20520 × 2270\n",
       "    obs: 'studyID', 'libraryID', 'sampleID', 'chemistry', 'technology', 'patientID', 'disease', 'timepoint_replicate', 'treatmentStatus', 'therapyResponse', 'sex', 'age', 'BMI', 'binned_age', 'diseaseStatus', 'smokingStatus', 'ethnicity', 'institute', 'diseaseGroup', 'n_genes_by_counts', 'log1p_n_genes_by_counts', 'total_counts', 'log1p_total_counts', 'pct_counts_in_top_20_genes', 'total_counts_mt', 'log1p_total_counts_mt', 'pct_counts_mt', 'total_counts_ribo', 'log1p_total_counts_ribo', 'pct_counts_ribo', 'total_counts_hb', 'log1p_total_counts_hb', 'pct_counts_hb', 'total_counts_plt', 'log1p_total_counts_plt', 'pct_counts_plt', 'doublet_score', 'predicted_doublet', 'S_score', 'G2M_score', 'phase'\n",
       "    var: 'hgnc_id', 'symbol', 'locus_group', 'HUGO_status', 'mt', 'ribo', 'hb', 'plt', 'n_cells_by_counts', 'mean_counts', 'log1p_mean_counts', 'pct_dropout_by_counts', 'total_counts', 'log1p_total_counts', 'highly_variable'\n",
       "    uns: 'chemistry_colors', 'log1p'\n",
       "    layers: 'counts', 'log1p_10e4_counts'"
      ]
     },
     "execution_count": 8,
     "metadata": {},
     "output_type": "execute_result"
    }
   ],
   "source": [
    "adata = sc.read_h5ad(here(f\"{workDir}/{cellGroup}/results/01_{cellGroup}_normalized_HVGsubset.h5ad\"))\n",
    "adata"
   ]
  },
  {
   "cell_type": "markdown",
   "id": "8ac79f3b-d5af-41fa-8904-1e9ac1cbe2fb",
   "metadata": {
    "papermill": {
     "duration": 0.00429,
     "end_time": "2024-05-06T17:13:17.035684",
     "exception": false,
     "start_time": "2024-05-06T17:13:17.031394",
     "status": "completed"
    },
    "tags": []
   },
   "source": [
    "## scVI integration"
   ]
  },
  {
   "cell_type": "markdown",
   "id": "9544847d-d17f-4811-b14b-760446d54d32",
   "metadata": {
    "execution": {
     "iopub.execute_input": "2024-03-25T16:49:04.004504Z",
     "iopub.status.busy": "2024-03-25T16:49:04.004143Z",
     "iopub.status.idle": "2024-03-25T16:49:04.010148Z",
     "shell.execute_reply": "2024-03-25T16:49:04.009146Z",
     "shell.execute_reply.started": "2024-03-25T16:49:04.004477Z"
    },
    "papermill": {
     "duration": 0.004117,
     "end_time": "2024-05-06T17:13:17.043884",
     "exception": false,
     "start_time": "2024-05-06T17:13:17.039767",
     "status": "completed"
    },
    "tags": []
   },
   "source": [
    "**scVI parameters**"
   ]
  },
  {
   "cell_type": "code",
   "execution_count": 9,
   "id": "208966eb-545a-4c02-854c-0ed0487ef5b3",
   "metadata": {
    "execution": {
     "iopub.execute_input": "2024-05-06T17:13:17.053899Z",
     "iopub.status.busy": "2024-05-06T17:13:17.053585Z",
     "iopub.status.idle": "2024-05-06T17:13:17.059563Z",
     "shell.execute_reply": "2024-05-06T17:13:17.058867Z"
    },
    "papermill": {
     "duration": 0.013131,
     "end_time": "2024-05-06T17:13:17.061211",
     "exception": false,
     "start_time": "2024-05-06T17:13:17.048080",
     "status": "completed"
    },
    "tags": []
   },
   "outputs": [],
   "source": [
    "# https://docs.scvi-tools.org/en/stable/api/reference/scvi.train.Trainer.html#scvi.train.Trainer\n",
    "setup_kwargs = dict(\n",
    "    layer=\"counts\", \n",
    "    batch_key='libraryID', \n",
    "    categorical_covariate_keys = ['studyID', 'chemistry', 'disease', 'sampleID'],\n",
    "    labels_key = 'chemistry'    \n",
    ")\n",
    "\n",
    "scvi_kwargs = dict(n_hidden=512,\n",
    "                   n_latent=10, # reduced to 20 after step 00 (main) and to 10 after step 03\n",
    "                   n_layers=2,\n",
    "                   gene_likelihood='nb',\n",
    "                   dispersion='gene-label')\n",
    "\n",
    "trainer_kwargs = dict(\n",
    "    checkpointing_monitor = 'elbo_validation',\n",
    "    early_stopping_monitor = 'reconstruction_loss_validation',\n",
    "    early_stopping_patience = 10,\n",
    "    early_stopping_min_delta=0.1,\n",
    "    early_stopping = True,\n",
    "    max_epochs = 1000,\n",
    "\n",
    "    #logger = # wandb\n",
    ")\n",
    "# https://docs.scvi-tools.org/en/stable/api/reference/scvi.train.TrainingPlan.html#scvi.train.TrainingPlan\n",
    "plan_kwargs = dict(\n",
    "    lr = 5e-4,\n",
    "    #reduce_lr_on_plateau = True\n",
    ")\n",
    "\n",
    "# https://docs.scvi-tools.org/en/stable/api/reference/scvi.module.VAE.html#scvi.module.VAE\n",
    "#vae = dict(\n",
    "#    use_layer_norm='both',\n",
    "#    use_batch_norm='none',\n",
    "#    encode_covariates=True,\n",
    "#    deeply_inject_covariates=False\n",
    "#)\n",
    "parameter_dict = setup_kwargs | scvi_kwargs | trainer_kwargs | plan_kwargs"
   ]
  },
  {
   "cell_type": "markdown",
   "id": "1362366a-c16b-4c11-964b-b9c5f82f7b29",
   "metadata": {
    "papermill": {
     "duration": 0.004127,
     "end_time": "2024-05-06T17:13:17.069538",
     "exception": false,
     "start_time": "2024-05-06T17:13:17.065411",
     "status": "completed"
    },
    "tags": []
   },
   "source": [
    "**wandb parameter**"
   ]
  },
  {
   "cell_type": "code",
   "execution_count": 10,
   "id": "0496e33a-8ca5-423f-b42f-34a59760708c",
   "metadata": {
    "execution": {
     "iopub.execute_input": "2024-05-06T17:13:17.079822Z",
     "iopub.status.busy": "2024-05-06T17:13:17.079294Z",
     "iopub.status.idle": "2024-05-06T17:13:17.084025Z",
     "shell.execute_reply": "2024-05-06T17:13:17.083397Z"
    },
    "papermill": {
     "duration": 0.011728,
     "end_time": "2024-05-06T17:13:17.085747",
     "exception": false,
     "start_time": "2024-05-06T17:13:17.074019",
     "status": "completed"
    },
    "tags": []
   },
   "outputs": [
    {
     "data": {
      "text/plain": [
       "'Step4_Plasma'"
      ]
     },
     "execution_count": 10,
     "metadata": {},
     "output_type": "execute_result"
    }
   ],
   "source": [
    "run_name = f\"{annotationLevel}_{cellGroup}\"\n",
    "run_name"
   ]
  },
  {
   "cell_type": "code",
   "execution_count": 11,
   "id": "b0021327-95a2-4002-bf32-2c5779a99505",
   "metadata": {
    "execution": {
     "iopub.execute_input": "2024-05-06T17:13:17.102274Z",
     "iopub.status.busy": "2024-05-06T17:13:17.101799Z",
     "iopub.status.idle": "2024-05-06T17:13:17.244534Z",
     "shell.execute_reply": "2024-05-06T17:13:17.243599Z"
    },
    "papermill": {
     "duration": 0.150551,
     "end_time": "2024-05-06T17:13:17.246797",
     "exception": false,
     "start_time": "2024-05-06T17:13:17.096246",
     "status": "completed"
    },
    "tags": []
   },
   "outputs": [],
   "source": [
    "logger = CustomWandbLogger(name = run_name, project='inflammation_atlas_R1', config=parameter_dict)"
   ]
  },
  {
   "cell_type": "markdown",
   "id": "c237eee1-a976-4915-9b7f-b014bf33f47d",
   "metadata": {
    "papermill": {
     "duration": 0.004493,
     "end_time": "2024-05-06T17:13:17.256124",
     "exception": false,
     "start_time": "2024-05-06T17:13:17.251631",
     "status": "completed"
    },
    "tags": []
   },
   "source": [
    "**Running integration**"
   ]
  },
  {
   "cell_type": "code",
   "execution_count": 12,
   "id": "aff97c53-1aba-462e-8a77-f1aec9cf724c",
   "metadata": {
    "execution": {
     "iopub.execute_input": "2024-05-06T17:13:17.266810Z",
     "iopub.status.busy": "2024-05-06T17:13:17.266203Z",
     "iopub.status.idle": "2024-05-06T17:13:17.784352Z",
     "shell.execute_reply": "2024-05-06T17:13:17.783558Z"
    },
    "papermill": {
     "duration": 0.526093,
     "end_time": "2024-05-06T17:13:17.786713",
     "exception": false,
     "start_time": "2024-05-06T17:13:17.260620",
     "status": "completed"
    },
    "tags": []
   },
   "outputs": [],
   "source": [
    "scvi.model.SCVI.setup_anndata(adata, \n",
    "                              **setup_kwargs)"
   ]
  },
  {
   "cell_type": "code",
   "execution_count": 13,
   "id": "1a56f448-cf44-47c1-81a4-a89caa930fec",
   "metadata": {
    "execution": {
     "iopub.execute_input": "2024-05-06T17:13:17.797805Z",
     "iopub.status.busy": "2024-05-06T17:13:17.797216Z",
     "iopub.status.idle": "2024-05-06T17:13:18.063326Z",
     "shell.execute_reply": "2024-05-06T17:13:18.062508Z"
    },
    "papermill": {
     "duration": 0.273887,
     "end_time": "2024-05-06T17:13:18.065431",
     "exception": false,
     "start_time": "2024-05-06T17:13:17.791544",
     "status": "completed"
    },
    "tags": []
   },
   "outputs": [],
   "source": [
    "model = scvi.model.SCVI(adata, **scvi_kwargs)"
   ]
  },
  {
   "cell_type": "code",
   "execution_count": 14,
   "id": "2735f010-4f24-4ae8-9740-a8cfeb335e9a",
   "metadata": {
    "execution": {
     "iopub.execute_input": "2024-05-06T17:13:18.076893Z",
     "iopub.status.busy": "2024-05-06T17:13:18.076181Z",
     "iopub.status.idle": "2024-05-06T17:14:49.738194Z",
     "shell.execute_reply": "2024-05-06T17:14:49.737147Z"
    },
    "papermill": {
     "duration": 91.669961,
     "end_time": "2024-05-06T17:14:49.740203",
     "exception": false,
     "start_time": "2024-05-06T17:13:18.070242",
     "status": "completed"
    },
    "tags": []
   },
   "outputs": [
    {
     "name": "stderr",
     "output_type": "stream",
     "text": [
      "GPU available: True (cuda), used: True\n"
     ]
    },
    {
     "name": "stderr",
     "output_type": "stream",
     "text": [
      "TPU available: False, using: 0 TPU cores\n"
     ]
    },
    {
     "name": "stderr",
     "output_type": "stream",
     "text": [
      "IPU available: False, using: 0 IPUs\n"
     ]
    },
    {
     "name": "stderr",
     "output_type": "stream",
     "text": [
      "HPU available: False, using: 0 HPUs\n"
     ]
    },
    {
     "name": "stderr",
     "output_type": "stream",
     "text": [
      "\u001b[34m\u001b[1mwandb\u001b[0m: Currently logged in as: \u001b[33mdav1989\u001b[0m (\u001b[33minflammation\u001b[0m). Use \u001b[1m`wandb login --relogin`\u001b[0m to force relogin\n"
     ]
    },
    {
     "name": "stderr",
     "output_type": "stream",
     "text": [
      "\u001b[34m\u001b[1mwandb\u001b[0m: wandb version 0.16.6 is available!  To upgrade, please run:\n",
      "\u001b[34m\u001b[1mwandb\u001b[0m:  $ pip install wandb --upgrade\n"
     ]
    },
    {
     "name": "stderr",
     "output_type": "stream",
     "text": [
      "\u001b[34m\u001b[1mwandb\u001b[0m: Tracking run with wandb version 0.16.3\n"
     ]
    },
    {
     "name": "stderr",
     "output_type": "stream",
     "text": [
      "\u001b[34m\u001b[1mwandb\u001b[0m: Run data is saved locally in \u001b[35m\u001b[1m./wandb/run-20240506_171322-dh3e5xde\u001b[0m\n",
      "\u001b[34m\u001b[1mwandb\u001b[0m: Run \u001b[1m`wandb offline`\u001b[0m to turn off syncing.\n"
     ]
    },
    {
     "name": "stderr",
     "output_type": "stream",
     "text": [
      "\u001b[34m\u001b[1mwandb\u001b[0m: Syncing run \u001b[33mStep4_Plasma\u001b[0m\n"
     ]
    },
    {
     "name": "stderr",
     "output_type": "stream",
     "text": [
      "\u001b[34m\u001b[1mwandb\u001b[0m: ⭐️ View project at \u001b[34m\u001b[4mhttps://wandb.ai/inflammation/inflammation_atlas_R1\u001b[0m\n"
     ]
    },
    {
     "name": "stderr",
     "output_type": "stream",
     "text": [
      "\u001b[34m\u001b[1mwandb\u001b[0m: 🚀 View run at \u001b[34m\u001b[4mhttps://wandb.ai/inflammation/inflammation_atlas_R1/runs/dh3e5xde\u001b[0m\n"
     ]
    },
    {
     "name": "stderr",
     "output_type": "stream",
     "text": [
      "LOCAL_RANK: 0 - CUDA_VISIBLE_DEVICES: [0]\n"
     ]
    },
    {
     "name": "stdout",
     "output_type": "stream",
     "text": [
      "\r",
      "Training:   0%|          | 0/1000 [00:00<?, ?it/s]"
     ]
    },
    {
     "name": "stdout",
     "output_type": "stream",
     "text": [
      "\r",
      "Epoch 1/1000:   0%|          | 0/1000 [00:00<?, ?it/s]"
     ]
    },
    {
     "name": "stdout",
     "output_type": "stream",
     "text": [
      "\r",
      "Epoch 1/1000:   0%|          | 1/1000 [00:03<1:03:13,  3.80s/it]"
     ]
    },
    {
     "name": "stdout",
     "output_type": "stream",
     "text": [
      "\r",
      "Epoch 1/1000:   0%|          | 1/1000 [00:03<1:03:13,  3.80s/it, v_num=5xde, train_loss_step=1.63e+3, train_loss_epoch=1.87e+3]"
     ]
    },
    {
     "name": "stdout",
     "output_type": "stream",
     "text": [
      "\r",
      "Epoch 2/1000:   0%|          | 1/1000 [00:03<1:03:13,  3.80s/it, v_num=5xde, train_loss_step=1.63e+3, train_loss_epoch=1.87e+3]"
     ]
    },
    {
     "name": "stdout",
     "output_type": "stream",
     "text": [
      "\r",
      "Epoch 2/1000:   0%|          | 2/1000 [00:06<48:24,  2.91s/it, v_num=5xde, train_loss_step=1.63e+3, train_loss_epoch=1.87e+3]  "
     ]
    },
    {
     "name": "stdout",
     "output_type": "stream",
     "text": [
      "\r",
      "Epoch 2/1000:   0%|          | 2/1000 [00:06<48:24,  2.91s/it, v_num=5xde, train_loss_step=1.61e+3, train_loss_epoch=1.54e+3]"
     ]
    },
    {
     "name": "stdout",
     "output_type": "stream",
     "text": [
      "\r",
      "Epoch 3/1000:   0%|          | 2/1000 [00:06<48:24,  2.91s/it, v_num=5xde, train_loss_step=1.61e+3, train_loss_epoch=1.54e+3]"
     ]
    },
    {
     "name": "stdout",
     "output_type": "stream",
     "text": [
      "\r",
      "Epoch 3/1000:   0%|          | 3/1000 [00:08<43:34,  2.62s/it, v_num=5xde, train_loss_step=1.61e+3, train_loss_epoch=1.54e+3]"
     ]
    },
    {
     "name": "stdout",
     "output_type": "stream",
     "text": [
      "\r",
      "Epoch 3/1000:   0%|          | 3/1000 [00:08<43:34,  2.62s/it, v_num=5xde, train_loss_step=1.35e+3, train_loss_epoch=1.48e+3]"
     ]
    },
    {
     "name": "stdout",
     "output_type": "stream",
     "text": [
      "\r",
      "Epoch 4/1000:   0%|          | 3/1000 [00:08<43:34,  2.62s/it, v_num=5xde, train_loss_step=1.35e+3, train_loss_epoch=1.48e+3]"
     ]
    },
    {
     "name": "stdout",
     "output_type": "stream",
     "text": [
      "\r",
      "Epoch 4/1000:   0%|          | 4/1000 [00:10<41:26,  2.50s/it, v_num=5xde, train_loss_step=1.35e+3, train_loss_epoch=1.48e+3]"
     ]
    },
    {
     "name": "stdout",
     "output_type": "stream",
     "text": [
      "\r",
      "Epoch 4/1000:   0%|          | 4/1000 [00:10<41:26,  2.50s/it, v_num=5xde, train_loss_step=1.49e+3, train_loss_epoch=1.45e+3]"
     ]
    },
    {
     "name": "stdout",
     "output_type": "stream",
     "text": [
      "\r",
      "Epoch 5/1000:   0%|          | 4/1000 [00:10<41:26,  2.50s/it, v_num=5xde, train_loss_step=1.49e+3, train_loss_epoch=1.45e+3]"
     ]
    },
    {
     "name": "stdout",
     "output_type": "stream",
     "text": [
      "\r",
      "Epoch 5/1000:   0%|          | 5/1000 [00:12<40:07,  2.42s/it, v_num=5xde, train_loss_step=1.49e+3, train_loss_epoch=1.45e+3]"
     ]
    },
    {
     "name": "stdout",
     "output_type": "stream",
     "text": [
      "\r",
      "Epoch 5/1000:   0%|          | 5/1000 [00:12<40:07,  2.42s/it, v_num=5xde, train_loss_step=1.31e+3, train_loss_epoch=1.43e+3]"
     ]
    },
    {
     "name": "stdout",
     "output_type": "stream",
     "text": [
      "\r",
      "Epoch 6/1000:   0%|          | 5/1000 [00:12<40:07,  2.42s/it, v_num=5xde, train_loss_step=1.31e+3, train_loss_epoch=1.43e+3]"
     ]
    },
    {
     "name": "stdout",
     "output_type": "stream",
     "text": [
      "\r",
      "Epoch 6/1000:   1%|          | 6/1000 [00:15<39:20,  2.37s/it, v_num=5xde, train_loss_step=1.31e+3, train_loss_epoch=1.43e+3]"
     ]
    },
    {
     "name": "stdout",
     "output_type": "stream",
     "text": [
      "\r",
      "Epoch 6/1000:   1%|          | 6/1000 [00:15<39:20,  2.37s/it, v_num=5xde, train_loss_step=1.29e+3, train_loss_epoch=1.42e+3]"
     ]
    },
    {
     "name": "stdout",
     "output_type": "stream",
     "text": [
      "\r",
      "Epoch 7/1000:   1%|          | 6/1000 [00:15<39:20,  2.37s/it, v_num=5xde, train_loss_step=1.29e+3, train_loss_epoch=1.42e+3]"
     ]
    },
    {
     "name": "stdout",
     "output_type": "stream",
     "text": [
      "\r",
      "Epoch 7/1000:   1%|          | 7/1000 [00:17<38:47,  2.34s/it, v_num=5xde, train_loss_step=1.29e+3, train_loss_epoch=1.42e+3]"
     ]
    },
    {
     "name": "stdout",
     "output_type": "stream",
     "text": [
      "\r",
      "Epoch 7/1000:   1%|          | 7/1000 [00:17<38:47,  2.34s/it, v_num=5xde, train_loss_step=1.3e+3, train_loss_epoch=1.4e+3]  "
     ]
    },
    {
     "name": "stdout",
     "output_type": "stream",
     "text": [
      "\r",
      "Epoch 8/1000:   1%|          | 7/1000 [00:17<38:47,  2.34s/it, v_num=5xde, train_loss_step=1.3e+3, train_loss_epoch=1.4e+3]"
     ]
    },
    {
     "name": "stdout",
     "output_type": "stream",
     "text": [
      "\r",
      "Epoch 8/1000:   1%|          | 8/1000 [00:19<38:35,  2.33s/it, v_num=5xde, train_loss_step=1.3e+3, train_loss_epoch=1.4e+3]"
     ]
    },
    {
     "name": "stdout",
     "output_type": "stream",
     "text": [
      "\r",
      "Epoch 8/1000:   1%|          | 8/1000 [00:19<38:35,  2.33s/it, v_num=5xde, train_loss_step=1.27e+3, train_loss_epoch=1.4e+3]"
     ]
    },
    {
     "name": "stdout",
     "output_type": "stream",
     "text": [
      "\r",
      "Epoch 9/1000:   1%|          | 8/1000 [00:19<38:35,  2.33s/it, v_num=5xde, train_loss_step=1.27e+3, train_loss_epoch=1.4e+3]"
     ]
    },
    {
     "name": "stdout",
     "output_type": "stream",
     "text": [
      "\r",
      "Epoch 9/1000:   1%|          | 9/1000 [00:22<38:14,  2.32s/it, v_num=5xde, train_loss_step=1.27e+3, train_loss_epoch=1.4e+3]"
     ]
    },
    {
     "name": "stdout",
     "output_type": "stream",
     "text": [
      "\r",
      "Epoch 9/1000:   1%|          | 9/1000 [00:22<38:14,  2.32s/it, v_num=5xde, train_loss_step=1.52e+3, train_loss_epoch=1.39e+3]"
     ]
    },
    {
     "name": "stdout",
     "output_type": "stream",
     "text": [
      "\r",
      "Epoch 10/1000:   1%|          | 9/1000 [00:22<38:14,  2.32s/it, v_num=5xde, train_loss_step=1.52e+3, train_loss_epoch=1.39e+3]"
     ]
    },
    {
     "name": "stdout",
     "output_type": "stream",
     "text": [
      "\r",
      "Epoch 10/1000:   1%|          | 10/1000 [00:24<38:04,  2.31s/it, v_num=5xde, train_loss_step=1.52e+3, train_loss_epoch=1.39e+3]"
     ]
    },
    {
     "name": "stdout",
     "output_type": "stream",
     "text": [
      "\r",
      "Epoch 10/1000:   1%|          | 10/1000 [00:24<38:04,  2.31s/it, v_num=5xde, train_loss_step=1.35e+3, train_loss_epoch=1.38e+3]"
     ]
    },
    {
     "name": "stdout",
     "output_type": "stream",
     "text": [
      "\r",
      "Epoch 11/1000:   1%|          | 10/1000 [00:24<38:04,  2.31s/it, v_num=5xde, train_loss_step=1.35e+3, train_loss_epoch=1.38e+3]"
     ]
    },
    {
     "name": "stdout",
     "output_type": "stream",
     "text": [
      "\r",
      "Epoch 11/1000:   1%|          | 11/1000 [00:26<38:01,  2.31s/it, v_num=5xde, train_loss_step=1.35e+3, train_loss_epoch=1.38e+3]"
     ]
    },
    {
     "name": "stdout",
     "output_type": "stream",
     "text": [
      "\r",
      "Epoch 11/1000:   1%|          | 11/1000 [00:26<38:01,  2.31s/it, v_num=5xde, train_loss_step=1.45e+3, train_loss_epoch=1.38e+3]"
     ]
    },
    {
     "name": "stdout",
     "output_type": "stream",
     "text": [
      "\r",
      "Epoch 12/1000:   1%|          | 11/1000 [00:26<38:01,  2.31s/it, v_num=5xde, train_loss_step=1.45e+3, train_loss_epoch=1.38e+3]"
     ]
    },
    {
     "name": "stdout",
     "output_type": "stream",
     "text": [
      "\r",
      "Epoch 12/1000:   1%|          | 12/1000 [00:28<37:47,  2.29s/it, v_num=5xde, train_loss_step=1.45e+3, train_loss_epoch=1.38e+3]"
     ]
    },
    {
     "name": "stdout",
     "output_type": "stream",
     "text": [
      "\r",
      "Epoch 12/1000:   1%|          | 12/1000 [00:28<37:47,  2.29s/it, v_num=5xde, train_loss_step=1.33e+3, train_loss_epoch=1.39e+3]"
     ]
    },
    {
     "name": "stdout",
     "output_type": "stream",
     "text": [
      "\r",
      "Epoch 13/1000:   1%|          | 12/1000 [00:28<37:47,  2.29s/it, v_num=5xde, train_loss_step=1.33e+3, train_loss_epoch=1.39e+3]"
     ]
    },
    {
     "name": "stdout",
     "output_type": "stream",
     "text": [
      "\r",
      "Epoch 13/1000:   1%|▏         | 13/1000 [00:31<37:41,  2.29s/it, v_num=5xde, train_loss_step=1.33e+3, train_loss_epoch=1.39e+3]"
     ]
    },
    {
     "name": "stdout",
     "output_type": "stream",
     "text": [
      "\r",
      "Epoch 13/1000:   1%|▏         | 13/1000 [00:31<37:41,  2.29s/it, v_num=5xde, train_loss_step=1.3e+3, train_loss_epoch=1.37e+3] "
     ]
    },
    {
     "name": "stdout",
     "output_type": "stream",
     "text": [
      "\r",
      "Epoch 14/1000:   1%|▏         | 13/1000 [00:31<37:41,  2.29s/it, v_num=5xde, train_loss_step=1.3e+3, train_loss_epoch=1.37e+3]"
     ]
    },
    {
     "name": "stdout",
     "output_type": "stream",
     "text": [
      "\r",
      "Epoch 14/1000:   1%|▏         | 14/1000 [00:33<37:16,  2.27s/it, v_num=5xde, train_loss_step=1.3e+3, train_loss_epoch=1.37e+3]"
     ]
    },
    {
     "name": "stdout",
     "output_type": "stream",
     "text": [
      "\r",
      "Epoch 14/1000:   1%|▏         | 14/1000 [00:33<37:16,  2.27s/it, v_num=5xde, train_loss_step=1.29e+3, train_loss_epoch=1.37e+3]"
     ]
    },
    {
     "name": "stdout",
     "output_type": "stream",
     "text": [
      "\r",
      "Epoch 15/1000:   1%|▏         | 14/1000 [00:33<37:16,  2.27s/it, v_num=5xde, train_loss_step=1.29e+3, train_loss_epoch=1.37e+3]"
     ]
    },
    {
     "name": "stdout",
     "output_type": "stream",
     "text": [
      "\r",
      "Epoch 15/1000:   2%|▏         | 15/1000 [00:35<36:43,  2.24s/it, v_num=5xde, train_loss_step=1.29e+3, train_loss_epoch=1.37e+3]"
     ]
    },
    {
     "name": "stdout",
     "output_type": "stream",
     "text": [
      "\r",
      "Epoch 15/1000:   2%|▏         | 15/1000 [00:35<36:43,  2.24s/it, v_num=5xde, train_loss_step=1.46e+3, train_loss_epoch=1.36e+3]"
     ]
    },
    {
     "name": "stdout",
     "output_type": "stream",
     "text": [
      "\r",
      "Epoch 16/1000:   2%|▏         | 15/1000 [00:35<36:43,  2.24s/it, v_num=5xde, train_loss_step=1.46e+3, train_loss_epoch=1.36e+3]"
     ]
    },
    {
     "name": "stdout",
     "output_type": "stream",
     "text": [
      "\r",
      "Epoch 16/1000:   2%|▏         | 16/1000 [00:37<36:22,  2.22s/it, v_num=5xde, train_loss_step=1.46e+3, train_loss_epoch=1.36e+3]"
     ]
    },
    {
     "name": "stdout",
     "output_type": "stream",
     "text": [
      "\r",
      "Epoch 16/1000:   2%|▏         | 16/1000 [00:37<36:22,  2.22s/it, v_num=5xde, train_loss_step=1.47e+3, train_loss_epoch=1.36e+3]"
     ]
    },
    {
     "name": "stdout",
     "output_type": "stream",
     "text": [
      "\r",
      "Epoch 17/1000:   2%|▏         | 16/1000 [00:37<36:22,  2.22s/it, v_num=5xde, train_loss_step=1.47e+3, train_loss_epoch=1.36e+3]"
     ]
    },
    {
     "name": "stdout",
     "output_type": "stream",
     "text": [
      "\r",
      "Epoch 17/1000:   2%|▏         | 17/1000 [00:40<36:54,  2.25s/it, v_num=5xde, train_loss_step=1.47e+3, train_loss_epoch=1.36e+3]"
     ]
    },
    {
     "name": "stdout",
     "output_type": "stream",
     "text": [
      "\r",
      "Epoch 17/1000:   2%|▏         | 17/1000 [00:40<36:54,  2.25s/it, v_num=5xde, train_loss_step=1.42e+3, train_loss_epoch=1.35e+3]"
     ]
    },
    {
     "name": "stdout",
     "output_type": "stream",
     "text": [
      "\r",
      "Epoch 18/1000:   2%|▏         | 17/1000 [00:40<36:54,  2.25s/it, v_num=5xde, train_loss_step=1.42e+3, train_loss_epoch=1.35e+3]"
     ]
    },
    {
     "name": "stdout",
     "output_type": "stream",
     "text": [
      "\r",
      "Epoch 18/1000:   2%|▏         | 18/1000 [00:42<37:06,  2.27s/it, v_num=5xde, train_loss_step=1.42e+3, train_loss_epoch=1.35e+3]"
     ]
    },
    {
     "name": "stdout",
     "output_type": "stream",
     "text": [
      "\r",
      "Epoch 18/1000:   2%|▏         | 18/1000 [00:42<37:06,  2.27s/it, v_num=5xde, train_loss_step=1.38e+3, train_loss_epoch=1.35e+3]"
     ]
    },
    {
     "name": "stdout",
     "output_type": "stream",
     "text": [
      "\r",
      "Epoch 19/1000:   2%|▏         | 18/1000 [00:42<37:06,  2.27s/it, v_num=5xde, train_loss_step=1.38e+3, train_loss_epoch=1.35e+3]"
     ]
    },
    {
     "name": "stdout",
     "output_type": "stream",
     "text": [
      "\r",
      "Epoch 19/1000:   2%|▏         | 19/1000 [00:44<37:10,  2.27s/it, v_num=5xde, train_loss_step=1.38e+3, train_loss_epoch=1.35e+3]"
     ]
    },
    {
     "name": "stdout",
     "output_type": "stream",
     "text": [
      "\r",
      "Epoch 19/1000:   2%|▏         | 19/1000 [00:44<37:10,  2.27s/it, v_num=5xde, train_loss_step=1.14e+3, train_loss_epoch=1.35e+3]"
     ]
    },
    {
     "name": "stdout",
     "output_type": "stream",
     "text": [
      "\r",
      "Epoch 20/1000:   2%|▏         | 19/1000 [00:44<37:10,  2.27s/it, v_num=5xde, train_loss_step=1.14e+3, train_loss_epoch=1.35e+3]"
     ]
    },
    {
     "name": "stdout",
     "output_type": "stream",
     "text": [
      "\r",
      "Epoch 20/1000:   2%|▏         | 20/1000 [00:47<37:07,  2.27s/it, v_num=5xde, train_loss_step=1.14e+3, train_loss_epoch=1.35e+3]"
     ]
    },
    {
     "name": "stdout",
     "output_type": "stream",
     "text": [
      "\r",
      "Epoch 20/1000:   2%|▏         | 20/1000 [00:47<37:07,  2.27s/it, v_num=5xde, train_loss_step=1.14e+3, train_loss_epoch=1.35e+3]"
     ]
    },
    {
     "name": "stdout",
     "output_type": "stream",
     "text": [
      "\r",
      "Epoch 21/1000:   2%|▏         | 20/1000 [00:47<37:07,  2.27s/it, v_num=5xde, train_loss_step=1.14e+3, train_loss_epoch=1.35e+3]"
     ]
    },
    {
     "name": "stdout",
     "output_type": "stream",
     "text": [
      "\r",
      "Epoch 21/1000:   2%|▏         | 21/1000 [00:49<37:08,  2.28s/it, v_num=5xde, train_loss_step=1.14e+3, train_loss_epoch=1.35e+3]"
     ]
    },
    {
     "name": "stdout",
     "output_type": "stream",
     "text": [
      "\r",
      "Epoch 21/1000:   2%|▏         | 21/1000 [00:49<37:08,  2.28s/it, v_num=5xde, train_loss_step=1.37e+3, train_loss_epoch=1.35e+3]"
     ]
    },
    {
     "name": "stdout",
     "output_type": "stream",
     "text": [
      "\r",
      "Epoch 22/1000:   2%|▏         | 21/1000 [00:49<37:08,  2.28s/it, v_num=5xde, train_loss_step=1.37e+3, train_loss_epoch=1.35e+3]"
     ]
    },
    {
     "name": "stdout",
     "output_type": "stream",
     "text": [
      "\r",
      "Epoch 22/1000:   2%|▏         | 22/1000 [00:51<36:57,  2.27s/it, v_num=5xde, train_loss_step=1.37e+3, train_loss_epoch=1.35e+3]"
     ]
    },
    {
     "name": "stdout",
     "output_type": "stream",
     "text": [
      "\r",
      "Epoch 22/1000:   2%|▏         | 22/1000 [00:51<36:57,  2.27s/it, v_num=5xde, train_loss_step=1.32e+3, train_loss_epoch=1.34e+3]"
     ]
    },
    {
     "name": "stdout",
     "output_type": "stream",
     "text": [
      "\r",
      "Epoch 23/1000:   2%|▏         | 22/1000 [00:51<36:57,  2.27s/it, v_num=5xde, train_loss_step=1.32e+3, train_loss_epoch=1.34e+3]"
     ]
    },
    {
     "name": "stdout",
     "output_type": "stream",
     "text": [
      "\r",
      "Epoch 23/1000:   2%|▏         | 23/1000 [00:53<37:03,  2.28s/it, v_num=5xde, train_loss_step=1.32e+3, train_loss_epoch=1.34e+3]"
     ]
    },
    {
     "name": "stdout",
     "output_type": "stream",
     "text": [
      "\r",
      "Epoch 23/1000:   2%|▏         | 23/1000 [00:53<37:03,  2.28s/it, v_num=5xde, train_loss_step=1.25e+3, train_loss_epoch=1.34e+3]"
     ]
    },
    {
     "name": "stdout",
     "output_type": "stream",
     "text": [
      "\r",
      "Epoch 24/1000:   2%|▏         | 23/1000 [00:53<37:03,  2.28s/it, v_num=5xde, train_loss_step=1.25e+3, train_loss_epoch=1.34e+3]"
     ]
    },
    {
     "name": "stdout",
     "output_type": "stream",
     "text": [
      "\r",
      "Epoch 24/1000:   2%|▏         | 24/1000 [00:56<37:01,  2.28s/it, v_num=5xde, train_loss_step=1.25e+3, train_loss_epoch=1.34e+3]"
     ]
    },
    {
     "name": "stdout",
     "output_type": "stream",
     "text": [
      "\r",
      "Epoch 24/1000:   2%|▏         | 24/1000 [00:56<37:01,  2.28s/it, v_num=5xde, train_loss_step=1.2e+3, train_loss_epoch=1.33e+3] "
     ]
    },
    {
     "name": "stdout",
     "output_type": "stream",
     "text": [
      "\r",
      "Epoch 25/1000:   2%|▏         | 24/1000 [00:56<37:01,  2.28s/it, v_num=5xde, train_loss_step=1.2e+3, train_loss_epoch=1.33e+3]"
     ]
    },
    {
     "name": "stdout",
     "output_type": "stream",
     "text": [
      "\r",
      "Epoch 25/1000:   2%|▎         | 25/1000 [00:58<36:59,  2.28s/it, v_num=5xde, train_loss_step=1.2e+3, train_loss_epoch=1.33e+3]"
     ]
    },
    {
     "name": "stdout",
     "output_type": "stream",
     "text": [
      "\r",
      "Epoch 25/1000:   2%|▎         | 25/1000 [00:58<36:59,  2.28s/it, v_num=5xde, train_loss_step=1.3e+3, train_loss_epoch=1.33e+3]"
     ]
    },
    {
     "name": "stdout",
     "output_type": "stream",
     "text": [
      "\r",
      "Epoch 26/1000:   2%|▎         | 25/1000 [00:58<36:59,  2.28s/it, v_num=5xde, train_loss_step=1.3e+3, train_loss_epoch=1.33e+3]"
     ]
    },
    {
     "name": "stdout",
     "output_type": "stream",
     "text": [
      "\r",
      "Epoch 26/1000:   3%|▎         | 26/1000 [01:00<37:02,  2.28s/it, v_num=5xde, train_loss_step=1.3e+3, train_loss_epoch=1.33e+3]"
     ]
    },
    {
     "name": "stdout",
     "output_type": "stream",
     "text": [
      "\r",
      "Epoch 26/1000:   3%|▎         | 26/1000 [01:00<37:02,  2.28s/it, v_num=5xde, train_loss_step=1.28e+3, train_loss_epoch=1.33e+3]"
     ]
    },
    {
     "name": "stdout",
     "output_type": "stream",
     "text": [
      "\r",
      "Epoch 27/1000:   3%|▎         | 26/1000 [01:00<37:02,  2.28s/it, v_num=5xde, train_loss_step=1.28e+3, train_loss_epoch=1.33e+3]"
     ]
    },
    {
     "name": "stdout",
     "output_type": "stream",
     "text": [
      "\r",
      "Epoch 27/1000:   3%|▎         | 27/1000 [01:02<36:59,  2.28s/it, v_num=5xde, train_loss_step=1.28e+3, train_loss_epoch=1.33e+3]"
     ]
    },
    {
     "name": "stdout",
     "output_type": "stream",
     "text": [
      "\r",
      "Epoch 27/1000:   3%|▎         | 27/1000 [01:02<36:59,  2.28s/it, v_num=5xde, train_loss_step=1.33e+3, train_loss_epoch=1.33e+3]"
     ]
    },
    {
     "name": "stdout",
     "output_type": "stream",
     "text": [
      "\r",
      "Epoch 28/1000:   3%|▎         | 27/1000 [01:02<36:59,  2.28s/it, v_num=5xde, train_loss_step=1.33e+3, train_loss_epoch=1.33e+3]"
     ]
    },
    {
     "name": "stdout",
     "output_type": "stream",
     "text": [
      "\r",
      "Epoch 28/1000:   3%|▎         | 28/1000 [01:05<36:55,  2.28s/it, v_num=5xde, train_loss_step=1.33e+3, train_loss_epoch=1.33e+3]"
     ]
    },
    {
     "name": "stdout",
     "output_type": "stream",
     "text": [
      "\r",
      "Epoch 28/1000:   3%|▎         | 28/1000 [01:05<36:55,  2.28s/it, v_num=5xde, train_loss_step=1.22e+3, train_loss_epoch=1.33e+3]"
     ]
    },
    {
     "name": "stdout",
     "output_type": "stream",
     "text": [
      "\r",
      "Epoch 29/1000:   3%|▎         | 28/1000 [01:05<36:55,  2.28s/it, v_num=5xde, train_loss_step=1.22e+3, train_loss_epoch=1.33e+3]"
     ]
    },
    {
     "name": "stdout",
     "output_type": "stream",
     "text": [
      "\r",
      "Epoch 29/1000:   3%|▎         | 29/1000 [01:07<36:57,  2.28s/it, v_num=5xde, train_loss_step=1.22e+3, train_loss_epoch=1.33e+3]"
     ]
    },
    {
     "name": "stdout",
     "output_type": "stream",
     "text": [
      "\r",
      "Epoch 29/1000:   3%|▎         | 29/1000 [01:07<36:57,  2.28s/it, v_num=5xde, train_loss_step=1.15e+3, train_loss_epoch=1.33e+3]"
     ]
    },
    {
     "name": "stdout",
     "output_type": "stream",
     "text": [
      "\r",
      "Epoch 30/1000:   3%|▎         | 29/1000 [01:07<36:57,  2.28s/it, v_num=5xde, train_loss_step=1.15e+3, train_loss_epoch=1.33e+3]"
     ]
    },
    {
     "name": "stdout",
     "output_type": "stream",
     "text": [
      "\r",
      "Epoch 30/1000:   3%|▎         | 30/1000 [01:09<37:06,  2.30s/it, v_num=5xde, train_loss_step=1.15e+3, train_loss_epoch=1.33e+3]"
     ]
    },
    {
     "name": "stdout",
     "output_type": "stream",
     "text": [
      "\r",
      "Epoch 30/1000:   3%|▎         | 30/1000 [01:09<37:06,  2.30s/it, v_num=5xde, train_loss_step=1.4e+3, train_loss_epoch=1.32e+3] "
     ]
    },
    {
     "name": "stdout",
     "output_type": "stream",
     "text": [
      "\r",
      "Epoch 31/1000:   3%|▎         | 30/1000 [01:09<37:06,  2.30s/it, v_num=5xde, train_loss_step=1.4e+3, train_loss_epoch=1.32e+3]"
     ]
    },
    {
     "name": "stdout",
     "output_type": "stream",
     "text": [
      "\r",
      "Epoch 31/1000:   3%|▎         | 31/1000 [01:12<37:02,  2.29s/it, v_num=5xde, train_loss_step=1.4e+3, train_loss_epoch=1.32e+3]"
     ]
    },
    {
     "name": "stdout",
     "output_type": "stream",
     "text": [
      "\r",
      "Epoch 31/1000:   3%|▎         | 31/1000 [01:12<37:02,  2.29s/it, v_num=5xde, train_loss_step=1.19e+3, train_loss_epoch=1.32e+3]"
     ]
    },
    {
     "name": "stdout",
     "output_type": "stream",
     "text": [
      "\r",
      "Epoch 32/1000:   3%|▎         | 31/1000 [01:12<37:02,  2.29s/it, v_num=5xde, train_loss_step=1.19e+3, train_loss_epoch=1.32e+3]"
     ]
    },
    {
     "name": "stdout",
     "output_type": "stream",
     "text": [
      "\r",
      "Epoch 32/1000:   3%|▎         | 32/1000 [01:14<37:01,  2.29s/it, v_num=5xde, train_loss_step=1.19e+3, train_loss_epoch=1.32e+3]"
     ]
    },
    {
     "name": "stdout",
     "output_type": "stream",
     "text": [
      "\r",
      "Epoch 32/1000:   3%|▎         | 32/1000 [01:14<37:01,  2.29s/it, v_num=5xde, train_loss_step=1.35e+3, train_loss_epoch=1.32e+3]"
     ]
    },
    {
     "name": "stdout",
     "output_type": "stream",
     "text": [
      "\r",
      "Epoch 33/1000:   3%|▎         | 32/1000 [01:14<37:01,  2.29s/it, v_num=5xde, train_loss_step=1.35e+3, train_loss_epoch=1.32e+3]"
     ]
    },
    {
     "name": "stdout",
     "output_type": "stream",
     "text": [
      "\r",
      "Epoch 33/1000:   3%|▎         | 33/1000 [01:16<36:53,  2.29s/it, v_num=5xde, train_loss_step=1.35e+3, train_loss_epoch=1.32e+3]"
     ]
    },
    {
     "name": "stdout",
     "output_type": "stream",
     "text": [
      "\r",
      "Epoch 33/1000:   3%|▎         | 33/1000 [01:16<36:53,  2.29s/it, v_num=5xde, train_loss_step=1.32e+3, train_loss_epoch=1.32e+3]"
     ]
    },
    {
     "name": "stdout",
     "output_type": "stream",
     "text": [
      "\r",
      "Epoch 34/1000:   3%|▎         | 33/1000 [01:16<36:53,  2.29s/it, v_num=5xde, train_loss_step=1.32e+3, train_loss_epoch=1.32e+3]"
     ]
    },
    {
     "name": "stdout",
     "output_type": "stream",
     "text": [
      "\r",
      "Epoch 34/1000:   3%|▎         | 34/1000 [01:19<36:52,  2.29s/it, v_num=5xde, train_loss_step=1.32e+3, train_loss_epoch=1.32e+3]"
     ]
    },
    {
     "name": "stdout",
     "output_type": "stream",
     "text": [
      "\r",
      "Epoch 34/1000:   3%|▎         | 34/1000 [01:19<36:52,  2.29s/it, v_num=5xde, train_loss_step=1.33e+3, train_loss_epoch=1.32e+3]"
     ]
    },
    {
     "name": "stdout",
     "output_type": "stream",
     "text": [
      "\r",
      "Epoch 35/1000:   3%|▎         | 34/1000 [01:19<36:52,  2.29s/it, v_num=5xde, train_loss_step=1.33e+3, train_loss_epoch=1.32e+3]"
     ]
    },
    {
     "name": "stdout",
     "output_type": "stream",
     "text": [
      "\r",
      "Epoch 35/1000:   4%|▎         | 35/1000 [01:21<36:45,  2.29s/it, v_num=5xde, train_loss_step=1.33e+3, train_loss_epoch=1.32e+3]"
     ]
    },
    {
     "name": "stdout",
     "output_type": "stream",
     "text": [
      "\r",
      "Epoch 35/1000:   4%|▎         | 35/1000 [01:21<36:45,  2.29s/it, v_num=5xde, train_loss_step=1.45e+3, train_loss_epoch=1.32e+3]"
     ]
    },
    {
     "name": "stdout",
     "output_type": "stream",
     "text": [
      "\r",
      "Epoch 36/1000:   4%|▎         | 35/1000 [01:21<36:45,  2.29s/it, v_num=5xde, train_loss_step=1.45e+3, train_loss_epoch=1.32e+3]"
     ]
    },
    {
     "name": "stdout",
     "output_type": "stream",
     "text": [
      "\r",
      "Epoch 36/1000:   4%|▎         | 36/1000 [01:23<36:44,  2.29s/it, v_num=5xde, train_loss_step=1.45e+3, train_loss_epoch=1.32e+3]"
     ]
    },
    {
     "name": "stdout",
     "output_type": "stream",
     "text": [
      "\r",
      "Epoch 36/1000:   4%|▎         | 36/1000 [01:23<36:44,  2.29s/it, v_num=5xde, train_loss_step=1.35e+3, train_loss_epoch=1.32e+3]"
     ]
    },
    {
     "name": "stdout",
     "output_type": "stream",
     "text": [
      "\r",
      "Epoch 37/1000:   4%|▎         | 36/1000 [01:23<36:44,  2.29s/it, v_num=5xde, train_loss_step=1.35e+3, train_loss_epoch=1.32e+3]"
     ]
    },
    {
     "name": "stdout",
     "output_type": "stream",
     "text": [
      "\r",
      "Epoch 37/1000:   4%|▎         | 37/1000 [01:25<36:45,  2.29s/it, v_num=5xde, train_loss_step=1.35e+3, train_loss_epoch=1.32e+3]"
     ]
    },
    {
     "name": "stdout",
     "output_type": "stream",
     "text": [
      "\r",
      "Epoch 37/1000:   4%|▎         | 37/1000 [01:25<36:45,  2.29s/it, v_num=5xde, train_loss_step=1.42e+3, train_loss_epoch=1.31e+3]"
     ]
    },
    {
     "name": "stdout",
     "output_type": "stream",
     "text": [
      "\r",
      "Epoch 37/1000:   4%|▎         | 37/1000 [01:25<37:14,  2.32s/it, v_num=5xde, train_loss_step=1.42e+3, train_loss_epoch=1.31e+3]"
     ]
    },
    {
     "name": "stdout",
     "output_type": "stream",
     "text": [
      "\n",
      "Monitored metric reconstruction_loss_validation did not improve in the last 10 records. Best score: 1399.391. Signaling Trainer to stop.\n"
     ]
    }
   ],
   "source": [
    "model.train(logger=logger, plan_kwargs = plan_kwargs, **trainer_kwargs)"
   ]
  },
  {
   "cell_type": "code",
   "execution_count": 15,
   "id": "c282f6eb-0ad1-40a5-81e6-1acda1545dad",
   "metadata": {
    "execution": {
     "iopub.execute_input": "2024-05-06T17:14:49.764739Z",
     "iopub.status.busy": "2024-05-06T17:14:49.763784Z",
     "iopub.status.idle": "2024-05-06T17:14:55.247248Z",
     "shell.execute_reply": "2024-05-06T17:14:55.246274Z"
    },
    "papermill": {
     "duration": 5.49846,
     "end_time": "2024-05-06T17:14:55.250012",
     "exception": false,
     "start_time": "2024-05-06T17:14:49.751552",
     "status": "completed"
    },
    "tags": []
   },
   "outputs": [
    {
     "name": "stderr",
     "output_type": "stream",
     "text": [
      "\u001b[34m\u001b[1mwandb\u001b[0m: - 0.003 MB of 0.003 MB uploaded\r"
     ]
    },
    {
     "name": "stderr",
     "output_type": "stream",
     "text": [
      "\u001b[34m\u001b[1mwandb\u001b[0m: \\ 0.006 MB of 0.009 MB uploaded\r"
     ]
    },
    {
     "name": "stderr",
     "output_type": "stream",
     "text": [
      "\u001b[34m\u001b[1mwandb\u001b[0m: | 0.006 MB of 0.009 MB uploaded\r"
     ]
    },
    {
     "name": "stderr",
     "output_type": "stream",
     "text": [
      "\u001b[34m\u001b[1mwandb\u001b[0m: / 0.009 MB of 0.009 MB uploaded\r"
     ]
    },
    {
     "name": "stderr",
     "output_type": "stream",
     "text": [
      "\u001b[34m\u001b[1mwandb\u001b[0m:                                                                                \n"
     ]
    },
    {
     "name": "stderr",
     "output_type": "stream",
     "text": [
      "\u001b[34m\u001b[1mwandb\u001b[0m: \n",
      "\u001b[34m\u001b[1mwandb\u001b[0m: Run history:\n",
      "\u001b[34m\u001b[1mwandb\u001b[0m:                     elbo_train █▄▃▃▃▂▂▂▂▂▂▂▂▂▂▂▂▂▂▂▂▁▁▁▁▁▁▁▁▁▁▁▁▁▁▁▁\n",
      "\u001b[34m\u001b[1mwandb\u001b[0m:                elbo_validation █▃▂▁▂▁▁▁▁▁▁▁▁▁▁▁▁▁▁▁▁▁▁▁▁▁▁▁▁▁▁▁▁▁▁▁▁\n",
      "\u001b[34m\u001b[1mwandb\u001b[0m:                          epoch ▁▁▁▁▂▂▂▂▂▃▃▃▃▃▄▄▄▄▄▄▅▅▅▅▅▅▆▆▆▆▆▇▇▇▇▇▇███\n",
      "\u001b[34m\u001b[1mwandb\u001b[0m:                kl_global_train ▁▁▁▁▁▁▁▁▁▁▁▁▁▁▁▁▁▁▁▁▁▁▁▁▁▁▁▁▁▁▁▁▁▁▁▁▁\n",
      "\u001b[34m\u001b[1mwandb\u001b[0m:           kl_global_validation ▁▁▁▁▁▁▁▁▁▁▁▁▁▁▁▁▁▁▁▁▁▁▁▁▁▁▁▁▁▁▁▁▁▁▁▁▁\n",
      "\u001b[34m\u001b[1mwandb\u001b[0m:                 kl_local_train ▁▄▅▆▇▇▇███████████▇▇▇▇▇▇▇▇▆▆▆▆▆▆▆▆▆▆▆\n",
      "\u001b[34m\u001b[1mwandb\u001b[0m:            kl_local_validation ▁▃▅▆▇▇████████████▇▇▇▇▇▇▇▇▇▇▆▆▆▆▆▆▆▆▆\n",
      "\u001b[34m\u001b[1mwandb\u001b[0m:                      kl_weight ▁▁▁▂▂▂▂▂▂▃▃▃▃▃▄▄▄▄▄▄▄▅▅▅▅▅▆▆▆▆▆▇▇▇▇▇▇███\n",
      "\u001b[34m\u001b[1mwandb\u001b[0m:      reconstruction_loss_train █▄▃▃▂▂▂▂▂▂▂▂▂▂▂▂▂▁▁▁▁▁▁▁▁▁▁▁▁▁▁▁▁▁▁▁▁\n",
      "\u001b[34m\u001b[1mwandb\u001b[0m: reconstruction_loss_validation █▃▂▁▂▁▁▁▁▁▁▁▁▁▁▁▁▁▁▁▁▁▁▁▁▁▁▁▁▁▁▁▁▁▁▁▁\n",
      "\u001b[34m\u001b[1mwandb\u001b[0m:               train_loss_epoch █▄▃▃▂▂▂▂▂▂▂▂▂▂▂▂▂▁▁▁▁▁▁▁▁▁▁▁▁▁▁▁▁▁▁▁▁\n",
      "\u001b[34m\u001b[1mwandb\u001b[0m:                train_loss_step █▄▂▄▄▃▃▂▃▃▂▃▂▃▃▂▃▄▂▃▃▂▂▃▃▁▂▂▂▂▂▂▂▂▂▃▁▂▃▁\n",
      "\u001b[34m\u001b[1mwandb\u001b[0m:            trainer/global_step ▁▁▁▁▂▂▂▂▂▃▃▃▃▃▃▄▄▄▄▄▅▅▅▅▅▅▆▆▆▆▆▆▇▇▇▇▇███\n",
      "\u001b[34m\u001b[1mwandb\u001b[0m:                validation_loss █▃▂▁▂▁▁▁▁▁▁▁▁▁▁▁▁▁▁▁▁▁▁▁▁▁▁▁▁▁▁▁▁▁▁▁▁\n",
      "\u001b[34m\u001b[1mwandb\u001b[0m: \n",
      "\u001b[34m\u001b[1mwandb\u001b[0m: Run summary:\n",
      "\u001b[34m\u001b[1mwandb\u001b[0m:                     elbo_train 1341.89062\n",
      "\u001b[34m\u001b[1mwandb\u001b[0m:                elbo_validation 1432.44556\n",
      "\u001b[34m\u001b[1mwandb\u001b[0m:                          epoch 36\n",
      "\u001b[34m\u001b[1mwandb\u001b[0m:                kl_global_train 0.0\n",
      "\u001b[34m\u001b[1mwandb\u001b[0m:           kl_global_validation 0.0\n",
      "\u001b[34m\u001b[1mwandb\u001b[0m:                 kl_local_train 31.5286\n",
      "\u001b[34m\u001b[1mwandb\u001b[0m:            kl_local_validation 30.20124\n",
      "\u001b[34m\u001b[1mwandb\u001b[0m:                      kl_weight 0.09\n",
      "\u001b[34m\u001b[1mwandb\u001b[0m:      reconstruction_loss_train 1310.36206\n",
      "\u001b[34m\u001b[1mwandb\u001b[0m: reconstruction_loss_validation 1402.24426\n",
      "\u001b[34m\u001b[1mwandb\u001b[0m:               train_loss_epoch 1313.2002\n",
      "\u001b[34m\u001b[1mwandb\u001b[0m:                train_loss_step 1246.06152\n",
      "\u001b[34m\u001b[1mwandb\u001b[0m:            trainer/global_step 5364\n",
      "\u001b[34m\u001b[1mwandb\u001b[0m:                validation_loss 1404.96252\n",
      "\u001b[34m\u001b[1mwandb\u001b[0m: \n"
     ]
    },
    {
     "name": "stderr",
     "output_type": "stream",
     "text": [
      "\u001b[34m\u001b[1mwandb\u001b[0m: 🚀 View run \u001b[33mStep4_Plasma\u001b[0m at: \u001b[34m\u001b[4mhttps://wandb.ai/inflammation/inflammation_atlas_R1/runs/dh3e5xde\u001b[0m\n",
      "\u001b[34m\u001b[1mwandb\u001b[0m: Synced 5 W&B file(s), 0 media file(s), 0 artifact file(s) and 0 other file(s)\n"
     ]
    },
    {
     "name": "stderr",
     "output_type": "stream",
     "text": [
      "\u001b[34m\u001b[1mwandb\u001b[0m: Find logs at: \u001b[35m\u001b[1m./wandb/run-20240506_171322-dh3e5xde/logs\u001b[0m\n"
     ]
    }
   ],
   "source": [
    "wandb.finish()"
   ]
  },
  {
   "cell_type": "markdown",
   "id": "d9fb1179-83c7-4ac6-b4aa-92dc7a349801",
   "metadata": {
    "papermill": {
     "duration": 0.012826,
     "end_time": "2024-05-06T17:14:55.275274",
     "exception": false,
     "start_time": "2024-05-06T17:14:55.262448",
     "status": "completed"
    },
    "tags": []
   },
   "source": [
    "### Extracting embedding space"
   ]
  },
  {
   "cell_type": "code",
   "execution_count": 16,
   "id": "caaa5832-0123-4c59-8ec6-f46a75f7a14e",
   "metadata": {
    "execution": {
     "iopub.execute_input": "2024-05-06T17:14:55.303331Z",
     "iopub.status.busy": "2024-05-06T17:14:55.302514Z",
     "iopub.status.idle": "2024-05-06T17:14:56.285776Z",
     "shell.execute_reply": "2024-05-06T17:14:56.284998Z"
    },
    "papermill": {
     "duration": 0.999436,
     "end_time": "2024-05-06T17:14:56.287943",
     "exception": false,
     "start_time": "2024-05-06T17:14:55.288507",
     "status": "completed"
    },
    "tags": []
   },
   "outputs": [],
   "source": [
    "adata.obsm['X_scVI'] = model.get_latent_representation()"
   ]
  },
  {
   "cell_type": "markdown",
   "id": "2f03e70b-839c-40a6-9fbb-d76bbd787419",
   "metadata": {
    "papermill": {
     "duration": 0.012605,
     "end_time": "2024-05-06T17:14:56.313852",
     "exception": false,
     "start_time": "2024-05-06T17:14:56.301247",
     "status": "completed"
    },
    "tags": []
   },
   "source": [
    "## Save the results"
   ]
  },
  {
   "cell_type": "code",
   "execution_count": 17,
   "id": "7b04049b-47fd-4b62-a1c0-c43dcc086d34",
   "metadata": {
    "execution": {
     "iopub.execute_input": "2024-05-06T17:14:56.340369Z",
     "iopub.status.busy": "2024-05-06T17:14:56.339736Z",
     "iopub.status.idle": "2024-05-06T17:15:01.258698Z",
     "shell.execute_reply": "2024-05-06T17:15:01.257878Z"
    },
    "papermill": {
     "duration": 4.934612,
     "end_time": "2024-05-06T17:15:01.260831",
     "exception": false,
     "start_time": "2024-05-06T17:14:56.326219",
     "status": "completed"
    },
    "tags": []
   },
   "outputs": [],
   "source": [
    "if overwriteData:\n",
    "    adata.write(here(f\"{workDir}/{cellGroup}/results/02_{annotationLevel}_{cellGroup}_HVGsubset_scVI.h5ad\"), compression=\"gzip\")\n",
    "    model.save(here(f\"{workDir}/{cellGroup}/results/02_{annotationLevel}_{cellGroup}_HVGsubset_scVI_MODEL/\"),\n",
    "               overwrite = True, \n",
    "               save_anndata = False )   "
   ]
  },
  {
   "cell_type": "code",
   "execution_count": 18,
   "id": "629ba2bd-f6be-44ef-8fca-bbdf891bf25f",
   "metadata": {
    "execution": {
     "iopub.execute_input": "2024-05-06T17:15:01.286301Z",
     "iopub.status.busy": "2024-05-06T17:15:01.285421Z",
     "iopub.status.idle": "2024-05-06T17:15:01.289590Z",
     "shell.execute_reply": "2024-05-06T17:15:01.288785Z"
    },
    "papermill": {
     "duration": 0.018878,
     "end_time": "2024-05-06T17:15:01.291424",
     "exception": false,
     "start_time": "2024-05-06T17:15:01.272546",
     "status": "completed"
    },
    "tags": []
   },
   "outputs": [],
   "source": [
    "# To load the model do (after loading corresponding adata):\n",
    "# model = scvi.model.SCVI.load(here('{}/results/01_{}_HVGsubset_scVI_MODEL/'.format(workDir, cellGroup)), \n",
    "#                              adata, \n",
    "#                              use_gpu=True)"
   ]
  },
  {
   "cell_type": "raw",
   "id": "975e84d0-f56b-498d-b3a8-c9219cf22e53",
   "metadata": {
    "papermill": {
     "duration": 0.011794,
     "end_time": "2024-05-06T17:15:01.314687",
     "exception": false,
     "start_time": "2024-05-06T17:15:01.302893",
     "status": "completed"
    },
    "tags": []
   },
   "source": [
    "session_info.show()"
   ]
  }
 ],
 "metadata": {
  "kernelspec": {
   "display_name": "Python 3 (ipykernel)",
   "language": "python",
   "name": "python3"
  },
  "language_info": {
   "codemirror_mode": {
    "name": "ipython",
    "version": 3
   },
   "file_extension": ".py",
   "mimetype": "text/x-python",
   "name": "python",
   "nbconvert_exporter": "python",
   "pygments_lexer": "ipython3",
   "version": "3.9.18"
  },
  "papermill": {
   "default_parameters": {},
   "duration": 116.313741,
   "end_time": "2024-05-06T17:15:05.224502",
   "environment_variables": {},
   "exception": null,
   "input_path": "./Plasma/02_integration_scVI.ipynb",
   "output_path": "./Plasma/02_integration_scVI_executed.ipynb",
   "parameters": {},
   "start_time": "2024-05-06T17:13:08.910761",
   "version": "2.5.0"
  }
 },
 "nbformat": 4,
 "nbformat_minor": 5
}