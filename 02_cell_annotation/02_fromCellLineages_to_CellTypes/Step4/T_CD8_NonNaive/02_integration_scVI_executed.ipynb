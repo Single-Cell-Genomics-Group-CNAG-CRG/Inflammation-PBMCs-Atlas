{
 "cells": [
  {
   "cell_type": "code",
   "execution_count": 1,
   "id": "2dd1425a-0c07-465e-b522-9e3cc5cb93a7",
   "metadata": {
    "execution": {
     "iopub.execute_input": "2024-05-06T17:53:29.971394Z",
     "iopub.status.busy": "2024-05-06T17:53:29.970627Z",
     "iopub.status.idle": "2024-05-06T17:53:35.697272Z",
     "shell.execute_reply": "2024-05-06T17:53:35.696127Z"
    },
    "papermill": {
     "duration": 5.735383,
     "end_time": "2024-05-06T17:53:35.699394",
     "exception": false,
     "start_time": "2024-05-06T17:53:29.964011",
     "status": "completed"
    },
    "tags": []
   },
   "outputs": [
    {
     "data": {
      "text/plain": [
       "True"
      ]
     },
     "execution_count": 1,
     "metadata": {},
     "output_type": "execute_result"
    }
   ],
   "source": [
    "import os\n",
    "import sys\n",
    "\n",
    "import numpy as np\n",
    "import matplotlib.pyplot as plt\n",
    "\n",
    "import scanpy as sc\n",
    "import scvi\n",
    "import torch\n",
    "\n",
    "from pytorch_lightning.loggers import WandbLogger\n",
    "import wandb\n",
    "from dotenv import load_dotenv\n",
    "\n",
    "import session_info\n",
    "import warnings\n",
    "from pyprojroot.here import here\n",
    "\n",
    "warnings.filterwarnings(\"ignore\")\n",
    "sys.path.insert(1, str(here('bin')))\n",
    "\n",
    "torch.set_float32_matmul_precision('high')\n",
    "\n",
    "#plt.style.use(['science','nature','no-latex'])\n",
    "dpi_fig_save = 300\n",
    "sc.set_figure_params(dpi=100, dpi_save=dpi_fig_save, vector_friendly=True)\n",
    "\n",
    "load_dotenv(here('.env'))"
   ]
  },
  {
   "cell_type": "code",
   "execution_count": 2,
   "id": "09c897fc-744b-43de-a681-718fb5d327fa",
   "metadata": {
    "execution": {
     "iopub.execute_input": "2024-05-06T17:53:35.711172Z",
     "iopub.status.busy": "2024-05-06T17:53:35.710385Z",
     "iopub.status.idle": "2024-05-06T17:53:35.714946Z",
     "shell.execute_reply": "2024-05-06T17:53:35.714171Z"
    },
    "papermill": {
     "duration": 0.011386,
     "end_time": "2024-05-06T17:53:35.716711",
     "exception": false,
     "start_time": "2024-05-06T17:53:35.705325",
     "status": "completed"
    },
    "tags": []
   },
   "outputs": [],
   "source": [
    "class CustomWandbLogger(WandbLogger):\n",
    "    @property\n",
    "    def save_dir(self):\n",
    "        return self.experiment.dir"
   ]
  },
  {
   "cell_type": "code",
   "execution_count": 3,
   "id": "8ee6662f-5d45-4137-80a5-bb0b9ae8d71f",
   "metadata": {
    "execution": {
     "iopub.execute_input": "2024-05-06T17:53:35.725724Z",
     "iopub.status.busy": "2024-05-06T17:53:35.725281Z",
     "iopub.status.idle": "2024-05-06T17:53:35.732280Z",
     "shell.execute_reply": "2024-05-06T17:53:35.731505Z"
    },
    "papermill": {
     "duration": 0.013663,
     "end_time": "2024-05-06T17:53:35.734055",
     "exception": false,
     "start_time": "2024-05-06T17:53:35.720392",
     "status": "completed"
    },
    "tags": []
   },
   "outputs": [
    {
     "name": "stderr",
     "output_type": "stream",
     "text": [
      "Seed set to 0\n"
     ]
    },
    {
     "name": "stdout",
     "output_type": "stream",
     "text": [
      "Last run with scvi-tools version: 1.1.2\n"
     ]
    }
   ],
   "source": [
    "scvi.settings.seed = 0\n",
    "print(\"Last run with scvi-tools version:\", scvi.__version__)"
   ]
  },
  {
   "cell_type": "markdown",
   "id": "a81037ff-5998-482a-ba86-520f757311a9",
   "metadata": {
    "papermill": {
     "duration": 0.003835,
     "end_time": "2024-05-06T17:53:35.741639",
     "exception": false,
     "start_time": "2024-05-06T17:53:35.737804",
     "status": "completed"
    },
    "tags": []
   },
   "source": [
    "**Setting parameters** "
   ]
  },
  {
   "cell_type": "code",
   "execution_count": 4,
   "id": "56c27966-8f10-4c93-8b1a-1fa75f005e41",
   "metadata": {
    "execution": {
     "iopub.execute_input": "2024-05-06T17:53:35.750683Z",
     "iopub.status.busy": "2024-05-06T17:53:35.750212Z",
     "iopub.status.idle": "2024-05-06T17:53:35.753759Z",
     "shell.execute_reply": "2024-05-06T17:53:35.753014Z"
    },
    "papermill": {
     "duration": 0.009967,
     "end_time": "2024-05-06T17:53:35.755519",
     "exception": false,
     "start_time": "2024-05-06T17:53:35.745552",
     "status": "completed"
    },
    "tags": []
   },
   "outputs": [],
   "source": [
    "overwriteFigures = True\n",
    "overwriteData = True"
   ]
  },
  {
   "cell_type": "code",
   "execution_count": 5,
   "id": "c86fccd3-a4fe-415b-8f4e-e2ceb3ec128a",
   "metadata": {
    "execution": {
     "iopub.execute_input": "2024-05-06T17:53:35.764636Z",
     "iopub.status.busy": "2024-05-06T17:53:35.763985Z",
     "iopub.status.idle": "2024-05-06T17:53:35.767704Z",
     "shell.execute_reply": "2024-05-06T17:53:35.766795Z"
    },
    "papermill": {
     "duration": 0.009965,
     "end_time": "2024-05-06T17:53:35.769286",
     "exception": false,
     "start_time": "2024-05-06T17:53:35.759321",
     "status": "completed"
    },
    "tags": []
   },
   "outputs": [],
   "source": [
    "cellGroup = 'T_CD8_NonNaive'\n",
    "workDir = os.getcwd()"
   ]
  },
  {
   "cell_type": "code",
   "execution_count": 6,
   "id": "2dee4d55-d168-467b-b867-a61fed9d6af1",
   "metadata": {
    "execution": {
     "iopub.execute_input": "2024-05-06T17:53:35.778597Z",
     "iopub.status.busy": "2024-05-06T17:53:35.777974Z",
     "iopub.status.idle": "2024-05-06T17:53:35.782071Z",
     "shell.execute_reply": "2024-05-06T17:53:35.781318Z"
    },
    "papermill": {
     "duration": 0.010763,
     "end_time": "2024-05-06T17:53:35.783902",
     "exception": false,
     "start_time": "2024-05-06T17:53:35.773139",
     "status": "completed"
    },
    "tags": []
   },
   "outputs": [],
   "source": [
    "annotationLevel = os.path.basename(os.path.normpath(workDir))"
   ]
  },
  {
   "cell_type": "code",
   "execution_count": 7,
   "id": "11e53cd5-b746-4152-89cb-c2f0c15d90b3",
   "metadata": {
    "execution": {
     "iopub.execute_input": "2024-05-06T17:53:35.793827Z",
     "iopub.status.busy": "2024-05-06T17:53:35.793352Z",
     "iopub.status.idle": "2024-05-06T17:53:35.798520Z",
     "shell.execute_reply": "2024-05-06T17:53:35.797727Z"
    },
    "papermill": {
     "duration": 0.012014,
     "end_time": "2024-05-06T17:53:35.800362",
     "exception": false,
     "start_time": "2024-05-06T17:53:35.788348",
     "status": "completed"
    },
    "tags": []
   },
   "outputs": [
    {
     "data": {
      "text/plain": [
       "'/home/jupyter/Inflammation-PBMCs-Atlas/02_cell_annotation/02_fromCellLineages_to_CellTypes/Step4'"
      ]
     },
     "execution_count": 7,
     "metadata": {},
     "output_type": "execute_result"
    }
   ],
   "source": [
    "workDir"
   ]
  },
  {
   "cell_type": "markdown",
   "id": "171d2f06-9a44-4fcb-b437-35dc546674b6",
   "metadata": {
    "papermill": {
     "duration": 0.004131,
     "end_time": "2024-05-06T17:53:35.808514",
     "exception": false,
     "start_time": "2024-05-06T17:53:35.804383",
     "status": "completed"
    },
    "tags": []
   },
   "source": [
    "**Load data**"
   ]
  },
  {
   "cell_type": "code",
   "execution_count": 8,
   "id": "429f34fe-dde6-4cc9-9f75-7de8f85c5ffe",
   "metadata": {
    "execution": {
     "iopub.execute_input": "2024-05-06T17:53:35.818409Z",
     "iopub.status.busy": "2024-05-06T17:53:35.817933Z",
     "iopub.status.idle": "2024-05-06T17:53:57.023826Z",
     "shell.execute_reply": "2024-05-06T17:53:57.022894Z"
    },
    "papermill": {
     "duration": 21.213026,
     "end_time": "2024-05-06T17:53:57.025799",
     "exception": false,
     "start_time": "2024-05-06T17:53:35.812773",
     "status": "completed"
    },
    "tags": []
   },
   "outputs": [
    {
     "data": {
      "text/plain": [
       "AnnData object with n_obs × n_vars = 824758 × 2402\n",
       "    obs: 'studyID', 'libraryID', 'sampleID', 'chemistry', 'technology', 'patientID', 'disease', 'timepoint_replicate', 'treatmentStatus', 'therapyResponse', 'sex', 'age', 'BMI', 'binned_age', 'diseaseStatus', 'smokingStatus', 'ethnicity', 'institute', 'diseaseGroup', 'n_genes_by_counts', 'log1p_n_genes_by_counts', 'total_counts', 'log1p_total_counts', 'pct_counts_in_top_20_genes', 'total_counts_mt', 'log1p_total_counts_mt', 'pct_counts_mt', 'total_counts_ribo', 'log1p_total_counts_ribo', 'pct_counts_ribo', 'total_counts_hb', 'log1p_total_counts_hb', 'pct_counts_hb', 'total_counts_plt', 'log1p_total_counts_plt', 'pct_counts_plt', 'doublet_score', 'predicted_doublet', 'S_score', 'G2M_score', 'phase'\n",
       "    var: 'hgnc_id', 'symbol', 'locus_group', 'HUGO_status', 'mt', 'ribo', 'hb', 'plt', 'n_cells_by_counts', 'mean_counts', 'log1p_mean_counts', 'pct_dropout_by_counts', 'total_counts', 'log1p_total_counts', 'highly_variable'\n",
       "    uns: 'chemistry_colors', 'log1p'\n",
       "    layers: 'counts', 'log1p_10e4_counts'"
      ]
     },
     "execution_count": 8,
     "metadata": {},
     "output_type": "execute_result"
    }
   ],
   "source": [
    "adata = sc.read_h5ad(here(f\"{workDir}/{cellGroup}/results/01_{cellGroup}_normalized_HVGsubset.h5ad\"))\n",
    "adata"
   ]
  },
  {
   "cell_type": "markdown",
   "id": "8ac79f3b-d5af-41fa-8904-1e9ac1cbe2fb",
   "metadata": {
    "papermill": {
     "duration": 0.004295,
     "end_time": "2024-05-06T17:53:57.034690",
     "exception": false,
     "start_time": "2024-05-06T17:53:57.030395",
     "status": "completed"
    },
    "tags": []
   },
   "source": [
    "## scVI integration"
   ]
  },
  {
   "cell_type": "markdown",
   "id": "9544847d-d17f-4811-b14b-760446d54d32",
   "metadata": {
    "execution": {
     "iopub.execute_input": "2024-03-25T16:49:04.004504Z",
     "iopub.status.busy": "2024-03-25T16:49:04.004143Z",
     "iopub.status.idle": "2024-03-25T16:49:04.010148Z",
     "shell.execute_reply": "2024-03-25T16:49:04.009146Z",
     "shell.execute_reply.started": "2024-03-25T16:49:04.004477Z"
    },
    "papermill": {
     "duration": 0.004209,
     "end_time": "2024-05-06T17:53:57.043105",
     "exception": false,
     "start_time": "2024-05-06T17:53:57.038896",
     "status": "completed"
    },
    "tags": []
   },
   "source": [
    "**scVI parameters**"
   ]
  },
  {
   "cell_type": "code",
   "execution_count": 9,
   "id": "208966eb-545a-4c02-854c-0ed0487ef5b3",
   "metadata": {
    "execution": {
     "iopub.execute_input": "2024-05-06T17:53:57.053088Z",
     "iopub.status.busy": "2024-05-06T17:53:57.052741Z",
     "iopub.status.idle": "2024-05-06T17:53:57.059065Z",
     "shell.execute_reply": "2024-05-06T17:53:57.058062Z"
    },
    "papermill": {
     "duration": 0.013478,
     "end_time": "2024-05-06T17:53:57.060818",
     "exception": false,
     "start_time": "2024-05-06T17:53:57.047340",
     "status": "completed"
    },
    "tags": []
   },
   "outputs": [],
   "source": [
    "# https://docs.scvi-tools.org/en/stable/api/reference/scvi.train.Trainer.html#scvi.train.Trainer\n",
    "setup_kwargs = dict(\n",
    "    layer=\"counts\", \n",
    "    batch_key='libraryID', \n",
    "    categorical_covariate_keys = ['studyID', 'chemistry', 'disease', 'sampleID'],\n",
    "    labels_key = 'chemistry'    \n",
    ")\n",
    "\n",
    "scvi_kwargs = dict(n_hidden=512,\n",
    "                   n_latent=10, # reduced to 20 after step 00 (main) and to 10 after step 03\n",
    "                   n_layers=2,\n",
    "                   gene_likelihood='nb',\n",
    "                   dispersion='gene-label')\n",
    "\n",
    "trainer_kwargs = dict(\n",
    "    checkpointing_monitor = 'elbo_validation',\n",
    "    early_stopping_monitor = 'reconstruction_loss_validation',\n",
    "    early_stopping_patience = 10,\n",
    "    early_stopping_min_delta=0.1,\n",
    "    early_stopping = True,\n",
    "    max_epochs = 1000,\n",
    "\n",
    "    #logger = # wandb\n",
    ")\n",
    "# https://docs.scvi-tools.org/en/stable/api/reference/scvi.train.TrainingPlan.html#scvi.train.TrainingPlan\n",
    "plan_kwargs = dict(\n",
    "    lr = 5e-4,\n",
    "    #reduce_lr_on_plateau = True\n",
    ")\n",
    "\n",
    "# https://docs.scvi-tools.org/en/stable/api/reference/scvi.module.VAE.html#scvi.module.VAE\n",
    "#vae = dict(\n",
    "#    use_layer_norm='both',\n",
    "#    use_batch_norm='none',\n",
    "#    encode_covariates=True,\n",
    "#    deeply_inject_covariates=False\n",
    "#)\n",
    "parameter_dict = setup_kwargs | scvi_kwargs | trainer_kwargs | plan_kwargs"
   ]
  },
  {
   "cell_type": "markdown",
   "id": "1362366a-c16b-4c11-964b-b9c5f82f7b29",
   "metadata": {
    "papermill": {
     "duration": 0.004209,
     "end_time": "2024-05-06T17:53:57.069236",
     "exception": false,
     "start_time": "2024-05-06T17:53:57.065027",
     "status": "completed"
    },
    "tags": []
   },
   "source": [
    "**wandb parameter**"
   ]
  },
  {
   "cell_type": "code",
   "execution_count": 10,
   "id": "0496e33a-8ca5-423f-b42f-34a59760708c",
   "metadata": {
    "execution": {
     "iopub.execute_input": "2024-05-06T17:53:57.079385Z",
     "iopub.status.busy": "2024-05-06T17:53:57.078856Z",
     "iopub.status.idle": "2024-05-06T17:53:57.084253Z",
     "shell.execute_reply": "2024-05-06T17:53:57.083425Z"
    },
    "papermill": {
     "duration": 0.012413,
     "end_time": "2024-05-06T17:53:57.085959",
     "exception": false,
     "start_time": "2024-05-06T17:53:57.073546",
     "status": "completed"
    },
    "tags": []
   },
   "outputs": [
    {
     "data": {
      "text/plain": [
       "'Step4_T_CD8_NonNaive'"
      ]
     },
     "execution_count": 10,
     "metadata": {},
     "output_type": "execute_result"
    }
   ],
   "source": [
    "run_name = f\"{annotationLevel}_{cellGroup}\"\n",
    "run_name"
   ]
  },
  {
   "cell_type": "code",
   "execution_count": 11,
   "id": "b0021327-95a2-4002-bf32-2c5779a99505",
   "metadata": {
    "execution": {
     "iopub.execute_input": "2024-05-06T17:53:57.096287Z",
     "iopub.status.busy": "2024-05-06T17:53:57.095747Z",
     "iopub.status.idle": "2024-05-06T17:53:57.238551Z",
     "shell.execute_reply": "2024-05-06T17:53:57.237810Z"
    },
    "papermill": {
     "duration": 0.150383,
     "end_time": "2024-05-06T17:53:57.240679",
     "exception": false,
     "start_time": "2024-05-06T17:53:57.090296",
     "status": "completed"
    },
    "tags": []
   },
   "outputs": [],
   "source": [
    "logger = CustomWandbLogger(name = run_name, project='inflammation_atlas_R1', config=parameter_dict)"
   ]
  },
  {
   "cell_type": "markdown",
   "id": "c237eee1-a976-4915-9b7f-b014bf33f47d",
   "metadata": {
    "papermill": {
     "duration": 0.004447,
     "end_time": "2024-05-06T17:53:57.250109",
     "exception": false,
     "start_time": "2024-05-06T17:53:57.245662",
     "status": "completed"
    },
    "tags": []
   },
   "source": [
    "**Running integration**"
   ]
  },
  {
   "cell_type": "code",
   "execution_count": 12,
   "id": "aff97c53-1aba-462e-8a77-f1aec9cf724c",
   "metadata": {
    "execution": {
     "iopub.execute_input": "2024-05-06T17:53:57.260692Z",
     "iopub.status.busy": "2024-05-06T17:53:57.260037Z",
     "iopub.status.idle": "2024-05-06T17:53:57.869285Z",
     "shell.execute_reply": "2024-05-06T17:53:57.868476Z"
    },
    "papermill": {
     "duration": 0.617077,
     "end_time": "2024-05-06T17:53:57.871551",
     "exception": false,
     "start_time": "2024-05-06T17:53:57.254474",
     "status": "completed"
    },
    "tags": []
   },
   "outputs": [],
   "source": [
    "scvi.model.SCVI.setup_anndata(adata, \n",
    "                              **setup_kwargs)"
   ]
  },
  {
   "cell_type": "code",
   "execution_count": 13,
   "id": "1a56f448-cf44-47c1-81a4-a89caa930fec",
   "metadata": {
    "execution": {
     "iopub.execute_input": "2024-05-06T17:53:57.882727Z",
     "iopub.status.busy": "2024-05-06T17:53:57.881987Z",
     "iopub.status.idle": "2024-05-06T17:53:58.865840Z",
     "shell.execute_reply": "2024-05-06T17:53:58.865065Z"
    },
    "papermill": {
     "duration": 0.991866,
     "end_time": "2024-05-06T17:53:58.868100",
     "exception": false,
     "start_time": "2024-05-06T17:53:57.876234",
     "status": "completed"
    },
    "tags": []
   },
   "outputs": [],
   "source": [
    "model = scvi.model.SCVI(adata, **scvi_kwargs)"
   ]
  },
  {
   "cell_type": "code",
   "execution_count": 14,
   "id": "2735f010-4f24-4ae8-9740-a8cfeb335e9a",
   "metadata": {
    "execution": {
     "iopub.execute_input": "2024-05-06T17:53:58.878824Z",
     "iopub.status.busy": "2024-05-06T17:53:58.878530Z",
     "iopub.status.idle": "2024-05-06T18:40:19.873594Z",
     "shell.execute_reply": "2024-05-06T18:40:19.872844Z"
    },
    "papermill": {
     "duration": 2781.002717,
     "end_time": "2024-05-06T18:40:19.875525",
     "exception": false,
     "start_time": "2024-05-06T17:53:58.872808",
     "status": "completed"
    },
    "tags": []
   },
   "outputs": [
    {
     "name": "stderr",
     "output_type": "stream",
     "text": [
      "GPU available: True (cuda), used: True\n"
     ]
    },
    {
     "name": "stderr",
     "output_type": "stream",
     "text": [
      "TPU available: False, using: 0 TPU cores\n"
     ]
    },
    {
     "name": "stderr",
     "output_type": "stream",
     "text": [
      "IPU available: False, using: 0 IPUs\n"
     ]
    },
    {
     "name": "stderr",
     "output_type": "stream",
     "text": [
      "HPU available: False, using: 0 HPUs\n"
     ]
    },
    {
     "name": "stderr",
     "output_type": "stream",
     "text": [
      "\u001b[34m\u001b[1mwandb\u001b[0m: Currently logged in as: \u001b[33mdav1989\u001b[0m (\u001b[33minflammation\u001b[0m). Use \u001b[1m`wandb login --relogin`\u001b[0m to force relogin\n"
     ]
    },
    {
     "name": "stderr",
     "output_type": "stream",
     "text": [
      "\u001b[34m\u001b[1mwandb\u001b[0m: wandb version 0.16.6 is available!  To upgrade, please run:\n",
      "\u001b[34m\u001b[1mwandb\u001b[0m:  $ pip install wandb --upgrade\n"
     ]
    },
    {
     "name": "stderr",
     "output_type": "stream",
     "text": [
      "\u001b[34m\u001b[1mwandb\u001b[0m: Tracking run with wandb version 0.16.3\n"
     ]
    },
    {
     "name": "stderr",
     "output_type": "stream",
     "text": [
      "\u001b[34m\u001b[1mwandb\u001b[0m: Run data is saved locally in \u001b[35m\u001b[1m./wandb/run-20240506_175403-y5w7mz9m\u001b[0m\n",
      "\u001b[34m\u001b[1mwandb\u001b[0m: Run \u001b[1m`wandb offline`\u001b[0m to turn off syncing.\n"
     ]
    },
    {
     "name": "stderr",
     "output_type": "stream",
     "text": [
      "\u001b[34m\u001b[1mwandb\u001b[0m: Syncing run \u001b[33mStep4_T_CD8_NonNaive\u001b[0m\n"
     ]
    },
    {
     "name": "stderr",
     "output_type": "stream",
     "text": [
      "\u001b[34m\u001b[1mwandb\u001b[0m: ⭐️ View project at \u001b[34m\u001b[4mhttps://wandb.ai/inflammation/inflammation_atlas_R1\u001b[0m\n"
     ]
    },
    {
     "name": "stderr",
     "output_type": "stream",
     "text": [
      "\u001b[34m\u001b[1mwandb\u001b[0m: 🚀 View run at \u001b[34m\u001b[4mhttps://wandb.ai/inflammation/inflammation_atlas_R1/runs/y5w7mz9m\u001b[0m\n"
     ]
    },
    {
     "name": "stderr",
     "output_type": "stream",
     "text": [
      "LOCAL_RANK: 0 - CUDA_VISIBLE_DEVICES: [0]\n"
     ]
    },
    {
     "name": "stdout",
     "output_type": "stream",
     "text": [
      "\r",
      "Training:   0%|          | 0/1000 [00:00<?, ?it/s]"
     ]
    },
    {
     "name": "stdout",
     "output_type": "stream",
     "text": [
      "\r",
      "Epoch 1/1000:   0%|          | 0/1000 [00:00<?, ?it/s]"
     ]
    },
    {
     "name": "stdout",
     "output_type": "stream",
     "text": [
      "\r",
      "Epoch 1/1000:   0%|          | 1/1000 [01:25<23:35:54, 85.04s/it]"
     ]
    },
    {
     "name": "stdout",
     "output_type": "stream",
     "text": [
      "\r",
      "Epoch 1/1000:   0%|          | 1/1000 [01:25<23:35:54, 85.04s/it, v_num=mz9m, train_loss_step=750, train_loss_epoch=757]"
     ]
    },
    {
     "name": "stdout",
     "output_type": "stream",
     "text": [
      "\r",
      "Epoch 2/1000:   0%|          | 1/1000 [01:25<23:35:54, 85.04s/it, v_num=mz9m, train_loss_step=750, train_loss_epoch=757]"
     ]
    },
    {
     "name": "stdout",
     "output_type": "stream",
     "text": [
      "\r",
      "Epoch 2/1000:   0%|          | 2/1000 [02:48<23:20:01, 84.17s/it, v_num=mz9m, train_loss_step=750, train_loss_epoch=757]"
     ]
    },
    {
     "name": "stdout",
     "output_type": "stream",
     "text": [
      "\r",
      "Epoch 2/1000:   0%|          | 2/1000 [02:48<23:20:01, 84.17s/it, v_num=mz9m, train_loss_step=822, train_loss_epoch=744]"
     ]
    },
    {
     "name": "stdout",
     "output_type": "stream",
     "text": [
      "\r",
      "Epoch 3/1000:   0%|          | 2/1000 [02:48<23:20:01, 84.17s/it, v_num=mz9m, train_loss_step=822, train_loss_epoch=744]"
     ]
    },
    {
     "name": "stdout",
     "output_type": "stream",
     "text": [
      "\r",
      "Epoch 3/1000:   0%|          | 3/1000 [04:12<23:13:30, 83.86s/it, v_num=mz9m, train_loss_step=822, train_loss_epoch=744]"
     ]
    },
    {
     "name": "stdout",
     "output_type": "stream",
     "text": [
      "\r",
      "Epoch 3/1000:   0%|          | 3/1000 [04:12<23:13:30, 83.86s/it, v_num=mz9m, train_loss_step=687, train_loss_epoch=741]"
     ]
    },
    {
     "name": "stdout",
     "output_type": "stream",
     "text": [
      "\r",
      "Epoch 4/1000:   0%|          | 3/1000 [04:12<23:13:30, 83.86s/it, v_num=mz9m, train_loss_step=687, train_loss_epoch=741]"
     ]
    },
    {
     "name": "stdout",
     "output_type": "stream",
     "text": [
      "\r",
      "Epoch 4/1000:   0%|          | 4/1000 [05:35<23:08:17, 83.63s/it, v_num=mz9m, train_loss_step=687, train_loss_epoch=741]"
     ]
    },
    {
     "name": "stdout",
     "output_type": "stream",
     "text": [
      "\r",
      "Epoch 4/1000:   0%|          | 4/1000 [05:35<23:08:17, 83.63s/it, v_num=mz9m, train_loss_step=688, train_loss_epoch=740]"
     ]
    },
    {
     "name": "stdout",
     "output_type": "stream",
     "text": [
      "\r",
      "Epoch 5/1000:   0%|          | 4/1000 [05:35<23:08:17, 83.63s/it, v_num=mz9m, train_loss_step=688, train_loss_epoch=740]"
     ]
    },
    {
     "name": "stdout",
     "output_type": "stream",
     "text": [
      "\r",
      "Epoch 5/1000:   0%|          | 5/1000 [06:58<23:04:33, 83.49s/it, v_num=mz9m, train_loss_step=688, train_loss_epoch=740]"
     ]
    },
    {
     "name": "stdout",
     "output_type": "stream",
     "text": [
      "\r",
      "Epoch 5/1000:   0%|          | 5/1000 [06:58<23:04:33, 83.49s/it, v_num=mz9m, train_loss_step=823, train_loss_epoch=739]"
     ]
    },
    {
     "name": "stdout",
     "output_type": "stream",
     "text": [
      "\r",
      "Epoch 6/1000:   0%|          | 5/1000 [06:58<23:04:33, 83.49s/it, v_num=mz9m, train_loss_step=823, train_loss_epoch=739]"
     ]
    },
    {
     "name": "stdout",
     "output_type": "stream",
     "text": [
      "\r",
      "Epoch 6/1000:   1%|          | 6/1000 [08:17<22:36:17, 81.87s/it, v_num=mz9m, train_loss_step=823, train_loss_epoch=739]"
     ]
    },
    {
     "name": "stdout",
     "output_type": "stream",
     "text": [
      "\r",
      "Epoch 6/1000:   1%|          | 6/1000 [08:17<22:36:17, 81.87s/it, v_num=mz9m, train_loss_step=630, train_loss_epoch=739]"
     ]
    },
    {
     "name": "stdout",
     "output_type": "stream",
     "text": [
      "\r",
      "Epoch 7/1000:   1%|          | 6/1000 [08:17<22:36:17, 81.87s/it, v_num=mz9m, train_loss_step=630, train_loss_epoch=739]"
     ]
    },
    {
     "name": "stdout",
     "output_type": "stream",
     "text": [
      "\r",
      "Epoch 7/1000:   1%|          | 7/1000 [09:31<21:52:19, 79.29s/it, v_num=mz9m, train_loss_step=630, train_loss_epoch=739]"
     ]
    },
    {
     "name": "stdout",
     "output_type": "stream",
     "text": [
      "\r",
      "Epoch 7/1000:   1%|          | 7/1000 [09:31<21:52:19, 79.29s/it, v_num=mz9m, train_loss_step=647, train_loss_epoch=738]"
     ]
    },
    {
     "name": "stdout",
     "output_type": "stream",
     "text": [
      "\r",
      "Epoch 8/1000:   1%|          | 7/1000 [09:31<21:52:19, 79.29s/it, v_num=mz9m, train_loss_step=647, train_loss_epoch=738]"
     ]
    },
    {
     "name": "stdout",
     "output_type": "stream",
     "text": [
      "\r",
      "Epoch 8/1000:   1%|          | 8/1000 [10:50<21:51:20, 79.31s/it, v_num=mz9m, train_loss_step=647, train_loss_epoch=738]"
     ]
    },
    {
     "name": "stdout",
     "output_type": "stream",
     "text": [
      "\r",
      "Epoch 8/1000:   1%|          | 8/1000 [10:50<21:51:20, 79.31s/it, v_num=mz9m, train_loss_step=858, train_loss_epoch=738]"
     ]
    },
    {
     "name": "stdout",
     "output_type": "stream",
     "text": [
      "\r",
      "Epoch 9/1000:   1%|          | 8/1000 [10:50<21:51:20, 79.31s/it, v_num=mz9m, train_loss_step=858, train_loss_epoch=738]"
     ]
    },
    {
     "name": "stdout",
     "output_type": "stream",
     "text": [
      "\r",
      "Epoch 9/1000:   1%|          | 9/1000 [12:12<22:02:43, 80.08s/it, v_num=mz9m, train_loss_step=858, train_loss_epoch=738]"
     ]
    },
    {
     "name": "stdout",
     "output_type": "stream",
     "text": [
      "\r",
      "Epoch 9/1000:   1%|          | 9/1000 [12:12<22:02:43, 80.08s/it, v_num=mz9m, train_loss_step=783, train_loss_epoch=738]"
     ]
    },
    {
     "name": "stdout",
     "output_type": "stream",
     "text": [
      "\r",
      "Epoch 10/1000:   1%|          | 9/1000 [12:12<22:02:43, 80.08s/it, v_num=mz9m, train_loss_step=783, train_loss_epoch=738]"
     ]
    },
    {
     "name": "stdout",
     "output_type": "stream",
     "text": [
      "\r",
      "Epoch 10/1000:   1%|          | 10/1000 [13:33<22:08:26, 80.51s/it, v_num=mz9m, train_loss_step=783, train_loss_epoch=738]"
     ]
    },
    {
     "name": "stdout",
     "output_type": "stream",
     "text": [
      "\r",
      "Epoch 10/1000:   1%|          | 10/1000 [13:33<22:08:26, 80.51s/it, v_num=mz9m, train_loss_step=733, train_loss_epoch=738]"
     ]
    },
    {
     "name": "stdout",
     "output_type": "stream",
     "text": [
      "\r",
      "Epoch 11/1000:   1%|          | 10/1000 [13:33<22:08:26, 80.51s/it, v_num=mz9m, train_loss_step=733, train_loss_epoch=738]"
     ]
    },
    {
     "name": "stdout",
     "output_type": "stream",
     "text": [
      "\r",
      "Epoch 11/1000:   1%|          | 11/1000 [14:55<22:14:07, 80.94s/it, v_num=mz9m, train_loss_step=733, train_loss_epoch=738]"
     ]
    },
    {
     "name": "stdout",
     "output_type": "stream",
     "text": [
      "\r",
      "Epoch 11/1000:   1%|          | 11/1000 [14:55<22:14:07, 80.94s/it, v_num=mz9m, train_loss_step=858, train_loss_epoch=738]"
     ]
    },
    {
     "name": "stdout",
     "output_type": "stream",
     "text": [
      "\r",
      "Epoch 12/1000:   1%|          | 11/1000 [14:55<22:14:07, 80.94s/it, v_num=mz9m, train_loss_step=858, train_loss_epoch=738]"
     ]
    },
    {
     "name": "stdout",
     "output_type": "stream",
     "text": [
      "\r",
      "Epoch 12/1000:   1%|          | 12/1000 [16:17<22:17:17, 81.21s/it, v_num=mz9m, train_loss_step=858, train_loss_epoch=738]"
     ]
    },
    {
     "name": "stdout",
     "output_type": "stream",
     "text": [
      "\r",
      "Epoch 12/1000:   1%|          | 12/1000 [16:17<22:17:17, 81.21s/it, v_num=mz9m, train_loss_step=707, train_loss_epoch=737]"
     ]
    },
    {
     "name": "stdout",
     "output_type": "stream",
     "text": [
      "\r",
      "Epoch 13/1000:   1%|          | 12/1000 [16:17<22:17:17, 81.21s/it, v_num=mz9m, train_loss_step=707, train_loss_epoch=737]"
     ]
    },
    {
     "name": "stdout",
     "output_type": "stream",
     "text": [
      "\r",
      "Epoch 13/1000:   1%|▏         | 13/1000 [17:39<22:19:57, 81.46s/it, v_num=mz9m, train_loss_step=707, train_loss_epoch=737]"
     ]
    },
    {
     "name": "stdout",
     "output_type": "stream",
     "text": [
      "\r",
      "Epoch 13/1000:   1%|▏         | 13/1000 [17:39<22:19:57, 81.46s/it, v_num=mz9m, train_loss_step=1.02e+3, train_loss_epoch=737]"
     ]
    },
    {
     "name": "stdout",
     "output_type": "stream",
     "text": [
      "\r",
      "Epoch 14/1000:   1%|▏         | 13/1000 [17:39<22:19:57, 81.46s/it, v_num=mz9m, train_loss_step=1.02e+3, train_loss_epoch=737]"
     ]
    },
    {
     "name": "stdout",
     "output_type": "stream",
     "text": [
      "\r",
      "Epoch 14/1000:   1%|▏         | 14/1000 [19:01<22:20:08, 81.55s/it, v_num=mz9m, train_loss_step=1.02e+3, train_loss_epoch=737]"
     ]
    },
    {
     "name": "stdout",
     "output_type": "stream",
     "text": [
      "\r",
      "Epoch 14/1000:   1%|▏         | 14/1000 [19:01<22:20:08, 81.55s/it, v_num=mz9m, train_loss_step=986, train_loss_epoch=737]    "
     ]
    },
    {
     "name": "stdout",
     "output_type": "stream",
     "text": [
      "\r",
      "Epoch 15/1000:   1%|▏         | 14/1000 [19:01<22:20:08, 81.55s/it, v_num=mz9m, train_loss_step=986, train_loss_epoch=737]"
     ]
    },
    {
     "name": "stdout",
     "output_type": "stream",
     "text": [
      "\r",
      "Epoch 15/1000:   2%|▏         | 15/1000 [20:23<22:18:57, 81.56s/it, v_num=mz9m, train_loss_step=986, train_loss_epoch=737]"
     ]
    },
    {
     "name": "stdout",
     "output_type": "stream",
     "text": [
      "\r",
      "Epoch 15/1000:   2%|▏         | 15/1000 [20:23<22:18:57, 81.56s/it, v_num=mz9m, train_loss_step=634, train_loss_epoch=737]"
     ]
    },
    {
     "name": "stdout",
     "output_type": "stream",
     "text": [
      "\r",
      "Epoch 16/1000:   2%|▏         | 15/1000 [20:23<22:18:57, 81.56s/it, v_num=mz9m, train_loss_step=634, train_loss_epoch=737]"
     ]
    },
    {
     "name": "stdout",
     "output_type": "stream",
     "text": [
      "\r",
      "Epoch 16/1000:   2%|▏         | 16/1000 [21:44<22:19:19, 81.67s/it, v_num=mz9m, train_loss_step=634, train_loss_epoch=737]"
     ]
    },
    {
     "name": "stdout",
     "output_type": "stream",
     "text": [
      "\r",
      "Epoch 16/1000:   2%|▏         | 16/1000 [21:44<22:19:19, 81.67s/it, v_num=mz9m, train_loss_step=940, train_loss_epoch=737]"
     ]
    },
    {
     "name": "stdout",
     "output_type": "stream",
     "text": [
      "\r",
      "Epoch 17/1000:   2%|▏         | 16/1000 [21:44<22:19:19, 81.67s/it, v_num=mz9m, train_loss_step=940, train_loss_epoch=737]"
     ]
    },
    {
     "name": "stdout",
     "output_type": "stream",
     "text": [
      "\r",
      "Epoch 17/1000:   2%|▏         | 17/1000 [23:07<22:23:32, 82.01s/it, v_num=mz9m, train_loss_step=940, train_loss_epoch=737]"
     ]
    },
    {
     "name": "stdout",
     "output_type": "stream",
     "text": [
      "\r",
      "Epoch 17/1000:   2%|▏         | 17/1000 [23:07<22:23:32, 82.01s/it, v_num=mz9m, train_loss_step=717, train_loss_epoch=737]"
     ]
    },
    {
     "name": "stdout",
     "output_type": "stream",
     "text": [
      "\r",
      "Epoch 18/1000:   2%|▏         | 17/1000 [23:07<22:23:32, 82.01s/it, v_num=mz9m, train_loss_step=717, train_loss_epoch=737]"
     ]
    },
    {
     "name": "stdout",
     "output_type": "stream",
     "text": [
      "\r",
      "Epoch 18/1000:   2%|▏         | 18/1000 [24:29<22:21:39, 81.97s/it, v_num=mz9m, train_loss_step=717, train_loss_epoch=737]"
     ]
    },
    {
     "name": "stdout",
     "output_type": "stream",
     "text": [
      "\r",
      "Epoch 18/1000:   2%|▏         | 18/1000 [24:29<22:21:39, 81.97s/it, v_num=mz9m, train_loss_step=707, train_loss_epoch=737]"
     ]
    },
    {
     "name": "stdout",
     "output_type": "stream",
     "text": [
      "\r",
      "Epoch 19/1000:   2%|▏         | 18/1000 [24:29<22:21:39, 81.97s/it, v_num=mz9m, train_loss_step=707, train_loss_epoch=737]"
     ]
    },
    {
     "name": "stdout",
     "output_type": "stream",
     "text": [
      "\r",
      "Epoch 19/1000:   2%|▏         | 19/1000 [25:51<22:18:29, 81.86s/it, v_num=mz9m, train_loss_step=707, train_loss_epoch=737]"
     ]
    },
    {
     "name": "stdout",
     "output_type": "stream",
     "text": [
      "\r",
      "Epoch 19/1000:   2%|▏         | 19/1000 [25:51<22:18:29, 81.86s/it, v_num=mz9m, train_loss_step=692, train_loss_epoch=737]"
     ]
    },
    {
     "name": "stdout",
     "output_type": "stream",
     "text": [
      "\r",
      "Epoch 20/1000:   2%|▏         | 19/1000 [25:51<22:18:29, 81.86s/it, v_num=mz9m, train_loss_step=692, train_loss_epoch=737]"
     ]
    },
    {
     "name": "stdout",
     "output_type": "stream",
     "text": [
      "\r",
      "Epoch 20/1000:   2%|▏         | 20/1000 [27:13<22:18:27, 81.95s/it, v_num=mz9m, train_loss_step=692, train_loss_epoch=737]"
     ]
    },
    {
     "name": "stdout",
     "output_type": "stream",
     "text": [
      "\r",
      "Epoch 20/1000:   2%|▏         | 20/1000 [27:13<22:18:27, 81.95s/it, v_num=mz9m, train_loss_step=712, train_loss_epoch=737]"
     ]
    },
    {
     "name": "stdout",
     "output_type": "stream",
     "text": [
      "\r",
      "Epoch 21/1000:   2%|▏         | 20/1000 [27:13<22:18:27, 81.95s/it, v_num=mz9m, train_loss_step=712, train_loss_epoch=737]"
     ]
    },
    {
     "name": "stdout",
     "output_type": "stream",
     "text": [
      "\r",
      "Epoch 21/1000:   2%|▏         | 21/1000 [28:35<22:18:21, 82.02s/it, v_num=mz9m, train_loss_step=712, train_loss_epoch=737]"
     ]
    },
    {
     "name": "stdout",
     "output_type": "stream",
     "text": [
      "\r",
      "Epoch 21/1000:   2%|▏         | 21/1000 [28:35<22:18:21, 82.02s/it, v_num=mz9m, train_loss_step=548, train_loss_epoch=737]"
     ]
    },
    {
     "name": "stdout",
     "output_type": "stream",
     "text": [
      "\r",
      "Epoch 22/1000:   2%|▏         | 21/1000 [28:35<22:18:21, 82.02s/it, v_num=mz9m, train_loss_step=548, train_loss_epoch=737]"
     ]
    },
    {
     "name": "stdout",
     "output_type": "stream",
     "text": [
      "\r",
      "Epoch 22/1000:   2%|▏         | 22/1000 [29:58<22:20:26, 82.24s/it, v_num=mz9m, train_loss_step=548, train_loss_epoch=737]"
     ]
    },
    {
     "name": "stdout",
     "output_type": "stream",
     "text": [
      "\r",
      "Epoch 22/1000:   2%|▏         | 22/1000 [29:58<22:20:26, 82.24s/it, v_num=mz9m, train_loss_step=721, train_loss_epoch=737]"
     ]
    },
    {
     "name": "stdout",
     "output_type": "stream",
     "text": [
      "\r",
      "Epoch 23/1000:   2%|▏         | 22/1000 [29:58<22:20:26, 82.24s/it, v_num=mz9m, train_loss_step=721, train_loss_epoch=737]"
     ]
    },
    {
     "name": "stdout",
     "output_type": "stream",
     "text": [
      "\r",
      "Epoch 23/1000:   2%|▏         | 23/1000 [31:20<22:17:16, 82.13s/it, v_num=mz9m, train_loss_step=721, train_loss_epoch=737]"
     ]
    },
    {
     "name": "stdout",
     "output_type": "stream",
     "text": [
      "\r",
      "Epoch 23/1000:   2%|▏         | 23/1000 [31:20<22:17:16, 82.13s/it, v_num=mz9m, train_loss_step=669, train_loss_epoch=737]"
     ]
    },
    {
     "name": "stdout",
     "output_type": "stream",
     "text": [
      "\r",
      "Epoch 24/1000:   2%|▏         | 23/1000 [31:20<22:17:16, 82.13s/it, v_num=mz9m, train_loss_step=669, train_loss_epoch=737]"
     ]
    },
    {
     "name": "stdout",
     "output_type": "stream",
     "text": [
      "\r",
      "Epoch 24/1000:   2%|▏         | 24/1000 [32:41<22:13:31, 81.98s/it, v_num=mz9m, train_loss_step=669, train_loss_epoch=737]"
     ]
    },
    {
     "name": "stdout",
     "output_type": "stream",
     "text": [
      "\r",
      "Epoch 24/1000:   2%|▏         | 24/1000 [32:41<22:13:31, 81.98s/it, v_num=mz9m, train_loss_step=753, train_loss_epoch=737]"
     ]
    },
    {
     "name": "stdout",
     "output_type": "stream",
     "text": [
      "\r",
      "Epoch 25/1000:   2%|▏         | 24/1000 [32:41<22:13:31, 81.98s/it, v_num=mz9m, train_loss_step=753, train_loss_epoch=737]"
     ]
    },
    {
     "name": "stdout",
     "output_type": "stream",
     "text": [
      "\r",
      "Epoch 25/1000:   2%|▎         | 25/1000 [34:03<22:08:24, 81.75s/it, v_num=mz9m, train_loss_step=753, train_loss_epoch=737]"
     ]
    },
    {
     "name": "stdout",
     "output_type": "stream",
     "text": [
      "\r",
      "Epoch 25/1000:   2%|▎         | 25/1000 [34:03<22:08:24, 81.75s/it, v_num=mz9m, train_loss_step=693, train_loss_epoch=737]"
     ]
    },
    {
     "name": "stdout",
     "output_type": "stream",
     "text": [
      "\r",
      "Epoch 26/1000:   2%|▎         | 25/1000 [34:03<22:08:24, 81.75s/it, v_num=mz9m, train_loss_step=693, train_loss_epoch=737]"
     ]
    },
    {
     "name": "stdout",
     "output_type": "stream",
     "text": [
      "\r",
      "Epoch 26/1000:   3%|▎         | 26/1000 [35:24<22:06:48, 81.73s/it, v_num=mz9m, train_loss_step=693, train_loss_epoch=737]"
     ]
    },
    {
     "name": "stdout",
     "output_type": "stream",
     "text": [
      "\r",
      "Epoch 26/1000:   3%|▎         | 26/1000 [35:24<22:06:48, 81.73s/it, v_num=mz9m, train_loss_step=699, train_loss_epoch=737]"
     ]
    },
    {
     "name": "stdout",
     "output_type": "stream",
     "text": [
      "\r",
      "Epoch 27/1000:   3%|▎         | 26/1000 [35:24<22:06:48, 81.73s/it, v_num=mz9m, train_loss_step=699, train_loss_epoch=737]"
     ]
    },
    {
     "name": "stdout",
     "output_type": "stream",
     "text": [
      "\r",
      "Epoch 27/1000:   3%|▎         | 27/1000 [36:46<22:05:17, 81.72s/it, v_num=mz9m, train_loss_step=699, train_loss_epoch=737]"
     ]
    },
    {
     "name": "stdout",
     "output_type": "stream",
     "text": [
      "\r",
      "Epoch 27/1000:   3%|▎         | 27/1000 [36:46<22:05:17, 81.72s/it, v_num=mz9m, train_loss_step=570, train_loss_epoch=737]"
     ]
    },
    {
     "name": "stdout",
     "output_type": "stream",
     "text": [
      "\r",
      "Epoch 28/1000:   3%|▎         | 27/1000 [36:46<22:05:17, 81.72s/it, v_num=mz9m, train_loss_step=570, train_loss_epoch=737]"
     ]
    },
    {
     "name": "stdout",
     "output_type": "stream",
     "text": [
      "\r",
      "Epoch 28/1000:   3%|▎         | 28/1000 [38:08<22:04:20, 81.75s/it, v_num=mz9m, train_loss_step=570, train_loss_epoch=737]"
     ]
    },
    {
     "name": "stdout",
     "output_type": "stream",
     "text": [
      "\r",
      "Epoch 28/1000:   3%|▎         | 28/1000 [38:08<22:04:20, 81.75s/it, v_num=mz9m, train_loss_step=868, train_loss_epoch=737]"
     ]
    },
    {
     "name": "stdout",
     "output_type": "stream",
     "text": [
      "\r",
      "Epoch 29/1000:   3%|▎         | 28/1000 [38:08<22:04:20, 81.75s/it, v_num=mz9m, train_loss_step=868, train_loss_epoch=737]"
     ]
    },
    {
     "name": "stdout",
     "output_type": "stream",
     "text": [
      "\r",
      "Epoch 29/1000:   3%|▎         | 29/1000 [39:29<21:58:04, 81.45s/it, v_num=mz9m, train_loss_step=868, train_loss_epoch=737]"
     ]
    },
    {
     "name": "stdout",
     "output_type": "stream",
     "text": [
      "\r",
      "Epoch 29/1000:   3%|▎         | 29/1000 [39:29<21:58:04, 81.45s/it, v_num=mz9m, train_loss_step=669, train_loss_epoch=737]"
     ]
    },
    {
     "name": "stdout",
     "output_type": "stream",
     "text": [
      "\r",
      "Epoch 30/1000:   3%|▎         | 29/1000 [39:29<21:58:04, 81.45s/it, v_num=mz9m, train_loss_step=669, train_loss_epoch=737]"
     ]
    },
    {
     "name": "stdout",
     "output_type": "stream",
     "text": [
      "\r",
      "Epoch 30/1000:   3%|▎         | 30/1000 [40:50<21:55:13, 81.35s/it, v_num=mz9m, train_loss_step=669, train_loss_epoch=737]"
     ]
    },
    {
     "name": "stdout",
     "output_type": "stream",
     "text": [
      "\r",
      "Epoch 30/1000:   3%|▎         | 30/1000 [40:50<21:55:13, 81.35s/it, v_num=mz9m, train_loss_step=910, train_loss_epoch=737]"
     ]
    },
    {
     "name": "stdout",
     "output_type": "stream",
     "text": [
      "\r",
      "Epoch 31/1000:   3%|▎         | 30/1000 [40:50<21:55:13, 81.35s/it, v_num=mz9m, train_loss_step=910, train_loss_epoch=737]"
     ]
    },
    {
     "name": "stdout",
     "output_type": "stream",
     "text": [
      "\r",
      "Epoch 31/1000:   3%|▎         | 31/1000 [42:11<21:55:21, 81.45s/it, v_num=mz9m, train_loss_step=910, train_loss_epoch=737]"
     ]
    },
    {
     "name": "stdout",
     "output_type": "stream",
     "text": [
      "\r",
      "Epoch 31/1000:   3%|▎         | 31/1000 [42:11<21:55:21, 81.45s/it, v_num=mz9m, train_loss_step=824, train_loss_epoch=737]"
     ]
    },
    {
     "name": "stdout",
     "output_type": "stream",
     "text": [
      "\r",
      "Epoch 32/1000:   3%|▎         | 31/1000 [42:11<21:55:21, 81.45s/it, v_num=mz9m, train_loss_step=824, train_loss_epoch=737]"
     ]
    },
    {
     "name": "stdout",
     "output_type": "stream",
     "text": [
      "\r",
      "Epoch 32/1000:   3%|▎         | 32/1000 [43:31<21:47:51, 81.07s/it, v_num=mz9m, train_loss_step=824, train_loss_epoch=737]"
     ]
    },
    {
     "name": "stdout",
     "output_type": "stream",
     "text": [
      "\r",
      "Epoch 32/1000:   3%|▎         | 32/1000 [43:31<21:47:51, 81.07s/it, v_num=mz9m, train_loss_step=690, train_loss_epoch=737]"
     ]
    },
    {
     "name": "stdout",
     "output_type": "stream",
     "text": [
      "\r",
      "Epoch 33/1000:   3%|▎         | 32/1000 [43:31<21:47:51, 81.07s/it, v_num=mz9m, train_loss_step=690, train_loss_epoch=737]"
     ]
    },
    {
     "name": "stdout",
     "output_type": "stream",
     "text": [
      "\r",
      "Epoch 33/1000:   3%|▎         | 33/1000 [44:53<21:50:18, 81.30s/it, v_num=mz9m, train_loss_step=690, train_loss_epoch=737]"
     ]
    },
    {
     "name": "stdout",
     "output_type": "stream",
     "text": [
      "\r",
      "Epoch 33/1000:   3%|▎         | 33/1000 [44:53<21:50:18, 81.30s/it, v_num=mz9m, train_loss_step=1.01e+3, train_loss_epoch=737]"
     ]
    },
    {
     "name": "stdout",
     "output_type": "stream",
     "text": [
      "\r",
      "Epoch 34/1000:   3%|▎         | 33/1000 [44:53<21:50:18, 81.30s/it, v_num=mz9m, train_loss_step=1.01e+3, train_loss_epoch=737]"
     ]
    },
    {
     "name": "stdout",
     "output_type": "stream",
     "text": [
      "\r",
      "Epoch 34/1000:   3%|▎         | 34/1000 [46:15<21:49:00, 81.30s/it, v_num=mz9m, train_loss_step=1.01e+3, train_loss_epoch=737]"
     ]
    },
    {
     "name": "stdout",
     "output_type": "stream",
     "text": [
      "\r",
      "Epoch 34/1000:   3%|▎         | 34/1000 [46:15<21:49:00, 81.30s/it, v_num=mz9m, train_loss_step=693, train_loss_epoch=737]    "
     ]
    },
    {
     "name": "stdout",
     "output_type": "stream",
     "text": [
      "\r",
      "Epoch 34/1000:   3%|▎         | 34/1000 [46:15<21:54:06, 81.62s/it, v_num=mz9m, train_loss_step=693, train_loss_epoch=737]"
     ]
    },
    {
     "name": "stdout",
     "output_type": "stream",
     "text": [
      "\n",
      "Monitored metric reconstruction_loss_validation did not improve in the last 10 records. Best score: 736.167. Signaling Trainer to stop.\n"
     ]
    }
   ],
   "source": [
    "model.train(logger=logger, plan_kwargs = plan_kwargs, **trainer_kwargs)"
   ]
  },
  {
   "cell_type": "code",
   "execution_count": 15,
   "id": "c282f6eb-0ad1-40a5-81e6-1acda1545dad",
   "metadata": {
    "execution": {
     "iopub.execute_input": "2024-05-06T18:40:19.898506Z",
     "iopub.status.busy": "2024-05-06T18:40:19.897694Z",
     "iopub.status.idle": "2024-05-06T18:40:24.776278Z",
     "shell.execute_reply": "2024-05-06T18:40:24.775571Z"
    },
    "papermill": {
     "duration": 4.892135,
     "end_time": "2024-05-06T18:40:24.778315",
     "exception": false,
     "start_time": "2024-05-06T18:40:19.886180",
     "status": "completed"
    },
    "tags": []
   },
   "outputs": [
    {
     "name": "stderr",
     "output_type": "stream",
     "text": [
      "\u001b[34m\u001b[1mwandb\u001b[0m: - 0.003 MB of 0.003 MB uploaded\r"
     ]
    },
    {
     "name": "stderr",
     "output_type": "stream",
     "text": [
      "\u001b[34m\u001b[1mwandb\u001b[0m: \\ 0.003 MB of 0.003 MB uploaded\r"
     ]
    },
    {
     "name": "stderr",
     "output_type": "stream",
     "text": [
      "\u001b[34m\u001b[1mwandb\u001b[0m: | 0.009 MB of 0.009 MB uploaded\r"
     ]
    },
    {
     "name": "stderr",
     "output_type": "stream",
     "text": [
      "\u001b[34m\u001b[1mwandb\u001b[0m:                                                                                \n"
     ]
    },
    {
     "name": "stderr",
     "output_type": "stream",
     "text": [
      "\u001b[34m\u001b[1mwandb\u001b[0m: \n",
      "\u001b[34m\u001b[1mwandb\u001b[0m: Run history:\n",
      "\u001b[34m\u001b[1mwandb\u001b[0m:                     elbo_train █▆▅▄▃▃▃▃▂▂▂▂▂▂▂▂▂▂▂▂▂▁▁▁▁▁▁▁▁▁▁▁▁▁\n",
      "\u001b[34m\u001b[1mwandb\u001b[0m:                elbo_validation █▆▅▄▄▃▃▃▃▃▂▂▂▂▂▂▂▂▂▂▂▂▁▁▁▁▁▁▁▁▁▁▁▁\n",
      "\u001b[34m\u001b[1mwandb\u001b[0m:                          epoch ▁▁▁▁▂▂▂▂▂▂▃▃▃▃▄▄▄▄▄▄▅▅▅▅▅▅▆▆▆▆▆▇▇▇▇▇████\n",
      "\u001b[34m\u001b[1mwandb\u001b[0m:                kl_global_train ▁▁▁▁▁▁▁▁▁▁▁▁▁▁▁▁▁▁▁▁▁▁▁▁▁▁▁▁▁▁▁▁▁▁\n",
      "\u001b[34m\u001b[1mwandb\u001b[0m:           kl_global_validation ▁▁▁▁▁▁▁▁▁▁▁▁▁▁▁▁▁▁▁▁▁▁▁▁▁▁▁▁▁▁▁▁▁▁\n",
      "\u001b[34m\u001b[1mwandb\u001b[0m:                 kl_local_train ██▆▅▄▄▄▃▃▃▃▃▃▂▂▂▂▂▂▂▂▂▂▂▂▁▁▁▁▁▁▁▁▁\n",
      "\u001b[34m\u001b[1mwandb\u001b[0m:            kl_local_validation █▇▅▄▄▄▃▃▃▃▃▃▂▂▂▂▂▂▂▂▂▂▂▂▁▁▁▁▁▁▁▁▁▁\n",
      "\u001b[34m\u001b[1mwandb\u001b[0m:                      kl_weight ▁▁▁▁▂▂▂▂▂▂▃▃▃▃▄▄▄▄▄▄▅▅▅▅▅▅▆▆▆▆▇▇▇▇▇▇████\n",
      "\u001b[34m\u001b[1mwandb\u001b[0m:      reconstruction_loss_train █▄▃▂▂▂▂▂▂▂▂▁▁▁▁▁▁▁▁▁▁▁▁▁▁▁▁▁▁▁▁▁▁▁\n",
      "\u001b[34m\u001b[1mwandb\u001b[0m: reconstruction_loss_validation █▅▄▃▂▂▂▂▂▂▂▂▁▁▁▁▁▁▁▁▁▁▁▁▁▁▁▁▁▁▁▁▁▁\n",
      "\u001b[34m\u001b[1mwandb\u001b[0m:               train_loss_epoch █▃▂▂▂▂▁▁▁▁▁▁▁▁▁▁▁▁▁▁▁▁▁▁▁▁▁▁▁▁▁▁▁▁\n",
      "\u001b[34m\u001b[1mwandb\u001b[0m:                train_loss_step ▆▄▁▄▃▄▅▁▃▃▆▅▃▅▄▄▂▃█▅▄▄▆▃▅▃█▂▅▃▅▃▅▄▃▇▇▄▃▅\n",
      "\u001b[34m\u001b[1mwandb\u001b[0m:            trainer/global_step ▁▁▁▁▂▂▂▂▂▃▃▃▃▃▃▄▄▄▄▄▄▅▅▅▅▅▆▆▆▆▆▇▇▇▇▇▇███\n",
      "\u001b[34m\u001b[1mwandb\u001b[0m:                validation_loss █▄▃▂▂▂▁▁▁▁▁▁▁▁▁▁▁▁▁▁▁▁▁▁▁▁▁▁▁▁▁▂▂▂\n",
      "\u001b[34m\u001b[1mwandb\u001b[0m: \n",
      "\u001b[34m\u001b[1mwandb\u001b[0m: Run summary:\n",
      "\u001b[34m\u001b[1mwandb\u001b[0m:                     elbo_train 759.29187\n",
      "\u001b[34m\u001b[1mwandb\u001b[0m:                elbo_validation 760.0354\n",
      "\u001b[34m\u001b[1mwandb\u001b[0m:                          epoch 33\n",
      "\u001b[34m\u001b[1mwandb\u001b[0m:                kl_global_train 0.0\n",
      "\u001b[34m\u001b[1mwandb\u001b[0m:           kl_global_validation 0.0\n",
      "\u001b[34m\u001b[1mwandb\u001b[0m:                 kl_local_train 24.22102\n",
      "\u001b[34m\u001b[1mwandb\u001b[0m:            kl_local_validation 23.81109\n",
      "\u001b[34m\u001b[1mwandb\u001b[0m:                      kl_weight 0.0825\n",
      "\u001b[34m\u001b[1mwandb\u001b[0m:      reconstruction_loss_train 735.07086\n",
      "\u001b[34m\u001b[1mwandb\u001b[0m: reconstruction_loss_validation 736.2243\n",
      "\u001b[34m\u001b[1mwandb\u001b[0m:               train_loss_epoch 737.0697\n",
      "\u001b[34m\u001b[1mwandb\u001b[0m:                train_loss_step 693.27539\n",
      "\u001b[34m\u001b[1mwandb\u001b[0m:            trainer/global_step 197199\n",
      "\u001b[34m\u001b[1mwandb\u001b[0m:                validation_loss 738.1889\n",
      "\u001b[34m\u001b[1mwandb\u001b[0m: \n"
     ]
    },
    {
     "name": "stderr",
     "output_type": "stream",
     "text": [
      "\u001b[34m\u001b[1mwandb\u001b[0m: 🚀 View run \u001b[33mStep4_T_CD8_NonNaive\u001b[0m at: \u001b[34m\u001b[4mhttps://wandb.ai/inflammation/inflammation_atlas_R1/runs/y5w7mz9m\u001b[0m\n",
      "\u001b[34m\u001b[1mwandb\u001b[0m: Synced 5 W&B file(s), 0 media file(s), 0 artifact file(s) and 0 other file(s)\n"
     ]
    },
    {
     "name": "stderr",
     "output_type": "stream",
     "text": [
      "\u001b[34m\u001b[1mwandb\u001b[0m: Find logs at: \u001b[35m\u001b[1m./wandb/run-20240506_175403-y5w7mz9m/logs\u001b[0m\n"
     ]
    }
   ],
   "source": [
    "wandb.finish()"
   ]
  },
  {
   "cell_type": "markdown",
   "id": "d9fb1179-83c7-4ac6-b4aa-92dc7a349801",
   "metadata": {
    "papermill": {
     "duration": 0.011574,
     "end_time": "2024-05-06T18:40:24.802144",
     "exception": false,
     "start_time": "2024-05-06T18:40:24.790570",
     "status": "completed"
    },
    "tags": []
   },
   "source": [
    "### Extracting embedding space"
   ]
  },
  {
   "cell_type": "code",
   "execution_count": 16,
   "id": "caaa5832-0123-4c59-8ec6-f46a75f7a14e",
   "metadata": {
    "execution": {
     "iopub.execute_input": "2024-05-06T18:40:24.827335Z",
     "iopub.status.busy": "2024-05-06T18:40:24.826502Z",
     "iopub.status.idle": "2024-05-06T18:40:51.414926Z",
     "shell.execute_reply": "2024-05-06T18:40:51.414136Z"
    },
    "papermill": {
     "duration": 26.603291,
     "end_time": "2024-05-06T18:40:51.417039",
     "exception": false,
     "start_time": "2024-05-06T18:40:24.813748",
     "status": "completed"
    },
    "tags": []
   },
   "outputs": [],
   "source": [
    "adata.obsm['X_scVI'] = model.get_latent_representation()"
   ]
  },
  {
   "cell_type": "markdown",
   "id": "2f03e70b-839c-40a6-9fbb-d76bbd787419",
   "metadata": {
    "papermill": {
     "duration": 0.010554,
     "end_time": "2024-05-06T18:40:51.438401",
     "exception": false,
     "start_time": "2024-05-06T18:40:51.427847",
     "status": "completed"
    },
    "tags": []
   },
   "source": [
    "## Save the results"
   ]
  },
  {
   "cell_type": "code",
   "execution_count": 17,
   "id": "7b04049b-47fd-4b62-a1c0-c43dcc086d34",
   "metadata": {
    "execution": {
     "iopub.execute_input": "2024-05-06T18:40:51.461427Z",
     "iopub.status.busy": "2024-05-06T18:40:51.460777Z",
     "iopub.status.idle": "2024-05-06T18:42:28.808855Z",
     "shell.execute_reply": "2024-05-06T18:42:28.808037Z"
    },
    "papermill": {
     "duration": 97.362203,
     "end_time": "2024-05-06T18:42:28.811181",
     "exception": false,
     "start_time": "2024-05-06T18:40:51.448978",
     "status": "completed"
    },
    "tags": []
   },
   "outputs": [],
   "source": [
    "if overwriteData:\n",
    "    adata.write(here(f\"{workDir}/{cellGroup}/results/02_{annotationLevel}_{cellGroup}_HVGsubset_scVI.h5ad\"), compression=\"gzip\")\n",
    "    model.save(here(f\"{workDir}/{cellGroup}/results/02_{annotationLevel}_{cellGroup}_HVGsubset_scVI_MODEL/\"),\n",
    "               overwrite = True, \n",
    "               save_anndata = False )   "
   ]
  },
  {
   "cell_type": "code",
   "execution_count": 18,
   "id": "629ba2bd-f6be-44ef-8fca-bbdf891bf25f",
   "metadata": {
    "execution": {
     "iopub.execute_input": "2024-05-06T18:42:28.834854Z",
     "iopub.status.busy": "2024-05-06T18:42:28.834550Z",
     "iopub.status.idle": "2024-05-06T18:42:28.837977Z",
     "shell.execute_reply": "2024-05-06T18:42:28.837297Z"
    },
    "papermill": {
     "duration": 0.017216,
     "end_time": "2024-05-06T18:42:28.839633",
     "exception": false,
     "start_time": "2024-05-06T18:42:28.822417",
     "status": "completed"
    },
    "tags": []
   },
   "outputs": [],
   "source": [
    "# To load the model do (after loading corresponding adata):\n",
    "# model = scvi.model.SCVI.load(here('{}/results/01_{}_HVGsubset_scVI_MODEL/'.format(workDir, cellGroup)), \n",
    "#                              adata, \n",
    "#                              use_gpu=True)"
   ]
  },
  {
   "cell_type": "raw",
   "id": "975e84d0-f56b-498d-b3a8-c9219cf22e53",
   "metadata": {
    "papermill": {
     "duration": 0.010345,
     "end_time": "2024-05-06T18:42:28.860562",
     "exception": false,
     "start_time": "2024-05-06T18:42:28.850217",
     "status": "completed"
    },
    "tags": []
   },
   "source": [
    "session_info.show()"
   ]
  }
 ],
 "metadata": {
  "kernelspec": {
   "display_name": "Python 3 (ipykernel)",
   "language": "python",
   "name": "python3"
  },
  "language_info": {
   "codemirror_mode": {
    "name": "ipython",
    "version": 3
   },
   "file_extension": ".py",
   "mimetype": "text/x-python",
   "name": "python",
   "nbconvert_exporter": "python",
   "pygments_lexer": "ipython3",
   "version": "3.9.18"
  },
  "papermill": {
   "default_parameters": {},
   "duration": 2943.448189,
   "end_time": "2024-05-06T18:42:32.390824",
   "environment_variables": {},
   "exception": null,
   "input_path": "./T_CD8_NonNaive/02_integration_scVI.ipynb",
   "output_path": "./T_CD8_NonNaive/02_integration_scVI_executed.ipynb",
   "parameters": {},
   "start_time": "2024-05-06T17:53:28.942635",
   "version": "2.5.0"
  }
 },
 "nbformat": 4,
 "nbformat_minor": 5
}