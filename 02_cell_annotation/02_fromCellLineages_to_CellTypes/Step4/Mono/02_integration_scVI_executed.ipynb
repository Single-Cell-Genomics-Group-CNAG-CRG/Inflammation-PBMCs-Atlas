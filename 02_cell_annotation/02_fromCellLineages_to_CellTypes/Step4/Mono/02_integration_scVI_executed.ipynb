{
 "cells": [
  {
   "cell_type": "code",
   "execution_count": 1,
   "id": "2dd1425a-0c07-465e-b522-9e3cc5cb93a7",
   "metadata": {
    "execution": {
     "iopub.execute_input": "2024-05-06T16:42:27.305559Z",
     "iopub.status.busy": "2024-05-06T16:42:27.304873Z",
     "iopub.status.idle": "2024-05-06T16:42:33.012006Z",
     "shell.execute_reply": "2024-05-06T16:42:33.011213Z"
    },
    "papermill": {
     "duration": 5.715341,
     "end_time": "2024-05-06T16:42:33.013993",
     "exception": false,
     "start_time": "2024-05-06T16:42:27.298652",
     "status": "completed"
    },
    "tags": []
   },
   "outputs": [
    {
     "data": {
      "text/plain": [
       "True"
      ]
     },
     "execution_count": 1,
     "metadata": {},
     "output_type": "execute_result"
    }
   ],
   "source": [
    "import os\n",
    "import sys\n",
    "\n",
    "import numpy as np\n",
    "import matplotlib.pyplot as plt\n",
    "\n",
    "import scanpy as sc\n",
    "import scvi\n",
    "import torch\n",
    "\n",
    "from pytorch_lightning.loggers import WandbLogger\n",
    "import wandb\n",
    "from dotenv import load_dotenv\n",
    "\n",
    "import session_info\n",
    "import warnings\n",
    "from pyprojroot.here import here\n",
    "\n",
    "warnings.filterwarnings(\"ignore\")\n",
    "sys.path.insert(1, str(here('bin')))\n",
    "\n",
    "torch.set_float32_matmul_precision('high')\n",
    "\n",
    "#plt.style.use(['science','nature','no-latex'])\n",
    "dpi_fig_save = 300\n",
    "sc.set_figure_params(dpi=100, dpi_save=dpi_fig_save, vector_friendly=True)\n",
    "\n",
    "load_dotenv(here('.env'))"
   ]
  },
  {
   "cell_type": "code",
   "execution_count": 2,
   "id": "09c897fc-744b-43de-a681-718fb5d327fa",
   "metadata": {
    "execution": {
     "iopub.execute_input": "2024-05-06T16:42:33.026644Z",
     "iopub.status.busy": "2024-05-06T16:42:33.025732Z",
     "iopub.status.idle": "2024-05-06T16:42:33.030464Z",
     "shell.execute_reply": "2024-05-06T16:42:33.029795Z"
    },
    "papermill": {
     "duration": 0.01212,
     "end_time": "2024-05-06T16:42:33.032175",
     "exception": false,
     "start_time": "2024-05-06T16:42:33.020055",
     "status": "completed"
    },
    "tags": []
   },
   "outputs": [],
   "source": [
    "class CustomWandbLogger(WandbLogger):\n",
    "    @property\n",
    "    def save_dir(self):\n",
    "        return self.experiment.dir"
   ]
  },
  {
   "cell_type": "code",
   "execution_count": 3,
   "id": "8ee6662f-5d45-4137-80a5-bb0b9ae8d71f",
   "metadata": {
    "execution": {
     "iopub.execute_input": "2024-05-06T16:42:33.041206Z",
     "iopub.status.busy": "2024-05-06T16:42:33.040663Z",
     "iopub.status.idle": "2024-05-06T16:42:33.047156Z",
     "shell.execute_reply": "2024-05-06T16:42:33.046462Z"
    },
    "papermill": {
     "duration": 0.012932,
     "end_time": "2024-05-06T16:42:33.048745",
     "exception": false,
     "start_time": "2024-05-06T16:42:33.035813",
     "status": "completed"
    },
    "tags": []
   },
   "outputs": [
    {
     "name": "stderr",
     "output_type": "stream",
     "text": [
      "Seed set to 0\n"
     ]
    },
    {
     "name": "stdout",
     "output_type": "stream",
     "text": [
      "Last run with scvi-tools version: 1.1.2\n"
     ]
    }
   ],
   "source": [
    "scvi.settings.seed = 0\n",
    "print(\"Last run with scvi-tools version:\", scvi.__version__)"
   ]
  },
  {
   "cell_type": "markdown",
   "id": "a81037ff-5998-482a-ba86-520f757311a9",
   "metadata": {
    "papermill": {
     "duration": 0.003846,
     "end_time": "2024-05-06T16:42:33.056460",
     "exception": false,
     "start_time": "2024-05-06T16:42:33.052614",
     "status": "completed"
    },
    "tags": []
   },
   "source": [
    "**Setting parameters** "
   ]
  },
  {
   "cell_type": "code",
   "execution_count": 4,
   "id": "56c27966-8f10-4c93-8b1a-1fa75f005e41",
   "metadata": {
    "execution": {
     "iopub.execute_input": "2024-05-06T16:42:33.065691Z",
     "iopub.status.busy": "2024-05-06T16:42:33.065377Z",
     "iopub.status.idle": "2024-05-06T16:42:33.068913Z",
     "shell.execute_reply": "2024-05-06T16:42:33.068271Z"
    },
    "papermill": {
     "duration": 0.01019,
     "end_time": "2024-05-06T16:42:33.070539",
     "exception": false,
     "start_time": "2024-05-06T16:42:33.060349",
     "status": "completed"
    },
    "tags": []
   },
   "outputs": [],
   "source": [
    "overwriteFigures = True\n",
    "overwriteData = True"
   ]
  },
  {
   "cell_type": "code",
   "execution_count": 5,
   "id": "c86fccd3-a4fe-415b-8f4e-e2ceb3ec128a",
   "metadata": {
    "execution": {
     "iopub.execute_input": "2024-05-06T16:42:33.080209Z",
     "iopub.status.busy": "2024-05-06T16:42:33.079597Z",
     "iopub.status.idle": "2024-05-06T16:42:33.083124Z",
     "shell.execute_reply": "2024-05-06T16:42:33.082457Z"
    },
    "papermill": {
     "duration": 0.010288,
     "end_time": "2024-05-06T16:42:33.084717",
     "exception": false,
     "start_time": "2024-05-06T16:42:33.074429",
     "status": "completed"
    },
    "tags": []
   },
   "outputs": [],
   "source": [
    "cellGroup = 'Mono'\n",
    "workDir = os.getcwd()"
   ]
  },
  {
   "cell_type": "code",
   "execution_count": 6,
   "id": "2dee4d55-d168-467b-b867-a61fed9d6af1",
   "metadata": {
    "execution": {
     "iopub.execute_input": "2024-05-06T16:42:33.094260Z",
     "iopub.status.busy": "2024-05-06T16:42:33.093711Z",
     "iopub.status.idle": "2024-05-06T16:42:33.097553Z",
     "shell.execute_reply": "2024-05-06T16:42:33.096895Z"
    },
    "papermill": {
     "duration": 0.010708,
     "end_time": "2024-05-06T16:42:33.099412",
     "exception": false,
     "start_time": "2024-05-06T16:42:33.088704",
     "status": "completed"
    },
    "tags": []
   },
   "outputs": [],
   "source": [
    "annotationLevel = os.path.basename(os.path.normpath(workDir))"
   ]
  },
  {
   "cell_type": "code",
   "execution_count": 7,
   "id": "11e53cd5-b746-4152-89cb-c2f0c15d90b3",
   "metadata": {
    "execution": {
     "iopub.execute_input": "2024-05-06T16:42:33.108863Z",
     "iopub.status.busy": "2024-05-06T16:42:33.108598Z",
     "iopub.status.idle": "2024-05-06T16:42:33.113303Z",
     "shell.execute_reply": "2024-05-06T16:42:33.112678Z"
    },
    "papermill": {
     "duration": 0.011426,
     "end_time": "2024-05-06T16:42:33.115030",
     "exception": false,
     "start_time": "2024-05-06T16:42:33.103604",
     "status": "completed"
    },
    "tags": []
   },
   "outputs": [
    {
     "data": {
      "text/plain": [
       "'/home/jupyter/Inflammation-PBMCs-Atlas/02_cell_annotation/02_fromCellLineages_to_CellTypes/Step4'"
      ]
     },
     "execution_count": 7,
     "metadata": {},
     "output_type": "execute_result"
    }
   ],
   "source": [
    "workDir"
   ]
  },
  {
   "cell_type": "markdown",
   "id": "171d2f06-9a44-4fcb-b437-35dc546674b6",
   "metadata": {
    "papermill": {
     "duration": 0.004054,
     "end_time": "2024-05-06T16:42:33.123157",
     "exception": false,
     "start_time": "2024-05-06T16:42:33.119103",
     "status": "completed"
    },
    "tags": []
   },
   "source": [
    "**Load data**"
   ]
  },
  {
   "cell_type": "code",
   "execution_count": 8,
   "id": "429f34fe-dde6-4cc9-9f75-7de8f85c5ffe",
   "metadata": {
    "execution": {
     "iopub.execute_input": "2024-05-06T16:42:33.132977Z",
     "iopub.status.busy": "2024-05-06T16:42:33.132403Z",
     "iopub.status.idle": "2024-05-06T16:43:03.519683Z",
     "shell.execute_reply": "2024-05-06T16:43:03.518953Z"
    },
    "papermill": {
     "duration": 30.398098,
     "end_time": "2024-05-06T16:43:03.525355",
     "exception": false,
     "start_time": "2024-05-06T16:42:33.127257",
     "status": "completed"
    },
    "tags": []
   },
   "outputs": [
    {
     "data": {
      "text/plain": [
       "AnnData object with n_obs × n_vars = 1063880 × 2445\n",
       "    obs: 'studyID', 'libraryID', 'sampleID', 'chemistry', 'technology', 'patientID', 'disease', 'timepoint_replicate', 'treatmentStatus', 'therapyResponse', 'sex', 'age', 'BMI', 'binned_age', 'diseaseStatus', 'smokingStatus', 'ethnicity', 'institute', 'diseaseGroup', 'n_genes_by_counts', 'log1p_n_genes_by_counts', 'total_counts', 'log1p_total_counts', 'pct_counts_in_top_20_genes', 'total_counts_mt', 'log1p_total_counts_mt', 'pct_counts_mt', 'total_counts_ribo', 'log1p_total_counts_ribo', 'pct_counts_ribo', 'total_counts_hb', 'log1p_total_counts_hb', 'pct_counts_hb', 'total_counts_plt', 'log1p_total_counts_plt', 'pct_counts_plt', 'doublet_score', 'predicted_doublet', 'S_score', 'G2M_score', 'phase'\n",
       "    var: 'hgnc_id', 'symbol', 'locus_group', 'HUGO_status', 'mt', 'ribo', 'hb', 'plt', 'n_cells_by_counts', 'mean_counts', 'log1p_mean_counts', 'pct_dropout_by_counts', 'total_counts', 'log1p_total_counts', 'highly_variable'\n",
       "    uns: 'chemistry_colors', 'log1p'\n",
       "    layers: 'counts', 'log1p_10e4_counts'"
      ]
     },
     "execution_count": 8,
     "metadata": {},
     "output_type": "execute_result"
    }
   ],
   "source": [
    "adata = sc.read_h5ad(here(f\"{workDir}/{cellGroup}/results/01_{cellGroup}_normalized_HVGsubset.h5ad\"))\n",
    "adata"
   ]
  },
  {
   "cell_type": "markdown",
   "id": "8ac79f3b-d5af-41fa-8904-1e9ac1cbe2fb",
   "metadata": {
    "papermill": {
     "duration": 0.004086,
     "end_time": "2024-05-06T16:43:03.533706",
     "exception": false,
     "start_time": "2024-05-06T16:43:03.529620",
     "status": "completed"
    },
    "tags": []
   },
   "source": [
    "## scVI integration"
   ]
  },
  {
   "cell_type": "markdown",
   "id": "9544847d-d17f-4811-b14b-760446d54d32",
   "metadata": {
    "execution": {
     "iopub.execute_input": "2024-03-25T16:49:04.004504Z",
     "iopub.status.busy": "2024-03-25T16:49:04.004143Z",
     "iopub.status.idle": "2024-03-25T16:49:04.010148Z",
     "shell.execute_reply": "2024-03-25T16:49:04.009146Z",
     "shell.execute_reply.started": "2024-03-25T16:49:04.004477Z"
    },
    "papermill": {
     "duration": 0.004078,
     "end_time": "2024-05-06T16:43:03.541908",
     "exception": false,
     "start_time": "2024-05-06T16:43:03.537830",
     "status": "completed"
    },
    "tags": []
   },
   "source": [
    "**scVI parameters**"
   ]
  },
  {
   "cell_type": "code",
   "execution_count": 9,
   "id": "208966eb-545a-4c02-854c-0ed0487ef5b3",
   "metadata": {
    "execution": {
     "iopub.execute_input": "2024-05-06T16:43:03.551943Z",
     "iopub.status.busy": "2024-05-06T16:43:03.551591Z",
     "iopub.status.idle": "2024-05-06T16:43:03.557636Z",
     "shell.execute_reply": "2024-05-06T16:43:03.556950Z"
    },
    "papermill": {
     "duration": 0.013329,
     "end_time": "2024-05-06T16:43:03.559334",
     "exception": false,
     "start_time": "2024-05-06T16:43:03.546005",
     "status": "completed"
    },
    "tags": []
   },
   "outputs": [],
   "source": [
    "# https://docs.scvi-tools.org/en/stable/api/reference/scvi.train.Trainer.html#scvi.train.Trainer\n",
    "setup_kwargs = dict(\n",
    "    layer=\"counts\", \n",
    "    batch_key='libraryID', \n",
    "    categorical_covariate_keys = ['studyID', 'chemistry', 'disease', 'sampleID'],\n",
    "    labels_key = 'chemistry'    \n",
    ")\n",
    "\n",
    "scvi_kwargs = dict(n_hidden=512,\n",
    "                   n_latent=10, # reduced to 20 after step 00 (main) and to 10 after step 03\n",
    "                   n_layers=2,\n",
    "                   gene_likelihood='nb',\n",
    "                   dispersion='gene-label')\n",
    "\n",
    "trainer_kwargs = dict(\n",
    "    checkpointing_monitor = 'elbo_validation',\n",
    "    early_stopping_monitor = 'reconstruction_loss_validation',\n",
    "    early_stopping_patience = 10,\n",
    "    early_stopping_min_delta=0.1,\n",
    "    early_stopping = True,\n",
    "    max_epochs = 1000,\n",
    "\n",
    "    #logger = # wandb\n",
    ")\n",
    "# https://docs.scvi-tools.org/en/stable/api/reference/scvi.train.TrainingPlan.html#scvi.train.TrainingPlan\n",
    "plan_kwargs = dict(\n",
    "    lr = 5e-4,\n",
    "    #reduce_lr_on_plateau = True\n",
    ")\n",
    "\n",
    "# https://docs.scvi-tools.org/en/stable/api/reference/scvi.module.VAE.html#scvi.module.VAE\n",
    "#vae = dict(\n",
    "#    use_layer_norm='both',\n",
    "#    use_batch_norm='none',\n",
    "#    encode_covariates=True,\n",
    "#    deeply_inject_covariates=False\n",
    "#)\n",
    "parameter_dict = setup_kwargs | scvi_kwargs | trainer_kwargs | plan_kwargs"
   ]
  },
  {
   "cell_type": "markdown",
   "id": "1362366a-c16b-4c11-964b-b9c5f82f7b29",
   "metadata": {
    "papermill": {
     "duration": 0.004304,
     "end_time": "2024-05-06T16:43:03.567790",
     "exception": false,
     "start_time": "2024-05-06T16:43:03.563486",
     "status": "completed"
    },
    "tags": []
   },
   "source": [
    "**wandb parameter**"
   ]
  },
  {
   "cell_type": "code",
   "execution_count": 10,
   "id": "0496e33a-8ca5-423f-b42f-34a59760708c",
   "metadata": {
    "execution": {
     "iopub.execute_input": "2024-05-06T16:43:03.577858Z",
     "iopub.status.busy": "2024-05-06T16:43:03.577274Z",
     "iopub.status.idle": "2024-05-06T16:43:03.582023Z",
     "shell.execute_reply": "2024-05-06T16:43:03.581380Z"
    },
    "papermill": {
     "duration": 0.011938,
     "end_time": "2024-05-06T16:43:03.583840",
     "exception": false,
     "start_time": "2024-05-06T16:43:03.571902",
     "status": "completed"
    },
    "tags": []
   },
   "outputs": [
    {
     "data": {
      "text/plain": [
       "'Step4_Mono'"
      ]
     },
     "execution_count": 10,
     "metadata": {},
     "output_type": "execute_result"
    }
   ],
   "source": [
    "run_name = f\"{annotationLevel}_{cellGroup}\"\n",
    "run_name"
   ]
  },
  {
   "cell_type": "code",
   "execution_count": 11,
   "id": "b0021327-95a2-4002-bf32-2c5779a99505",
   "metadata": {
    "execution": {
     "iopub.execute_input": "2024-05-06T16:43:03.594373Z",
     "iopub.status.busy": "2024-05-06T16:43:03.593786Z",
     "iopub.status.idle": "2024-05-06T16:43:03.734666Z",
     "shell.execute_reply": "2024-05-06T16:43:03.733929Z"
    },
    "papermill": {
     "duration": 0.148518,
     "end_time": "2024-05-06T16:43:03.736754",
     "exception": false,
     "start_time": "2024-05-06T16:43:03.588236",
     "status": "completed"
    },
    "tags": []
   },
   "outputs": [],
   "source": [
    "logger = CustomWandbLogger(name = run_name, project='inflammation_atlas_R1', config=parameter_dict)"
   ]
  },
  {
   "cell_type": "markdown",
   "id": "c237eee1-a976-4915-9b7f-b014bf33f47d",
   "metadata": {
    "papermill": {
     "duration": 0.004328,
     "end_time": "2024-05-06T16:43:03.745522",
     "exception": false,
     "start_time": "2024-05-06T16:43:03.741194",
     "status": "completed"
    },
    "tags": []
   },
   "source": [
    "**Running integration**"
   ]
  },
  {
   "cell_type": "code",
   "execution_count": 12,
   "id": "aff97c53-1aba-462e-8a77-f1aec9cf724c",
   "metadata": {
    "execution": {
     "iopub.execute_input": "2024-05-06T16:43:03.755773Z",
     "iopub.status.busy": "2024-05-06T16:43:03.755461Z",
     "iopub.status.idle": "2024-05-06T16:43:04.415223Z",
     "shell.execute_reply": "2024-05-06T16:43:04.414367Z"
    },
    "papermill": {
     "duration": 0.667549,
     "end_time": "2024-05-06T16:43:04.417400",
     "exception": false,
     "start_time": "2024-05-06T16:43:03.749851",
     "status": "completed"
    },
    "tags": []
   },
   "outputs": [],
   "source": [
    "scvi.model.SCVI.setup_anndata(adata, \n",
    "                              **setup_kwargs)"
   ]
  },
  {
   "cell_type": "code",
   "execution_count": 13,
   "id": "1a56f448-cf44-47c1-81a4-a89caa930fec",
   "metadata": {
    "execution": {
     "iopub.execute_input": "2024-05-06T16:43:04.428256Z",
     "iopub.status.busy": "2024-05-06T16:43:04.427620Z",
     "iopub.status.idle": "2024-05-06T16:43:05.737548Z",
     "shell.execute_reply": "2024-05-06T16:43:05.736752Z"
    },
    "papermill": {
     "duration": 1.318064,
     "end_time": "2024-05-06T16:43:05.739931",
     "exception": false,
     "start_time": "2024-05-06T16:43:04.421867",
     "status": "completed"
    },
    "tags": []
   },
   "outputs": [],
   "source": [
    "model = scvi.model.SCVI(adata, **scvi_kwargs)"
   ]
  },
  {
   "cell_type": "code",
   "execution_count": 14,
   "id": "2735f010-4f24-4ae8-9740-a8cfeb335e9a",
   "metadata": {
    "execution": {
     "iopub.execute_input": "2024-05-06T16:43:05.751118Z",
     "iopub.status.busy": "2024-05-06T16:43:05.750378Z",
     "iopub.status.idle": "2024-05-06T17:50:14.678917Z",
     "shell.execute_reply": "2024-05-06T17:50:14.678148Z"
    },
    "papermill": {
     "duration": 4028.936266,
     "end_time": "2024-05-06T17:50:14.680778",
     "exception": false,
     "start_time": "2024-05-06T16:43:05.744512",
     "status": "completed"
    },
    "tags": []
   },
   "outputs": [
    {
     "name": "stderr",
     "output_type": "stream",
     "text": [
      "GPU available: True (cuda), used: True\n"
     ]
    },
    {
     "name": "stderr",
     "output_type": "stream",
     "text": [
      "TPU available: False, using: 0 TPU cores\n"
     ]
    },
    {
     "name": "stderr",
     "output_type": "stream",
     "text": [
      "IPU available: False, using: 0 IPUs\n"
     ]
    },
    {
     "name": "stderr",
     "output_type": "stream",
     "text": [
      "HPU available: False, using: 0 HPUs\n"
     ]
    },
    {
     "name": "stderr",
     "output_type": "stream",
     "text": [
      "\u001b[34m\u001b[1mwandb\u001b[0m: Currently logged in as: \u001b[33mdav1989\u001b[0m (\u001b[33minflammation\u001b[0m). Use \u001b[1m`wandb login --relogin`\u001b[0m to force relogin\n"
     ]
    },
    {
     "name": "stderr",
     "output_type": "stream",
     "text": [
      "\u001b[34m\u001b[1mwandb\u001b[0m: wandb version 0.16.6 is available!  To upgrade, please run:\n",
      "\u001b[34m\u001b[1mwandb\u001b[0m:  $ pip install wandb --upgrade\n"
     ]
    },
    {
     "name": "stderr",
     "output_type": "stream",
     "text": [
      "\u001b[34m\u001b[1mwandb\u001b[0m: Tracking run with wandb version 0.16.3\n"
     ]
    },
    {
     "name": "stderr",
     "output_type": "stream",
     "text": [
      "\u001b[34m\u001b[1mwandb\u001b[0m: Run data is saved locally in \u001b[35m\u001b[1m./wandb/run-20240506_164310-ocw5fwpn\u001b[0m\n",
      "\u001b[34m\u001b[1mwandb\u001b[0m: Run \u001b[1m`wandb offline`\u001b[0m to turn off syncing.\n"
     ]
    },
    {
     "name": "stderr",
     "output_type": "stream",
     "text": [
      "\u001b[34m\u001b[1mwandb\u001b[0m: Syncing run \u001b[33mStep4_Mono\u001b[0m\n"
     ]
    },
    {
     "name": "stderr",
     "output_type": "stream",
     "text": [
      "\u001b[34m\u001b[1mwandb\u001b[0m: ⭐️ View project at \u001b[34m\u001b[4mhttps://wandb.ai/inflammation/inflammation_atlas_R1\u001b[0m\n"
     ]
    },
    {
     "name": "stderr",
     "output_type": "stream",
     "text": [
      "\u001b[34m\u001b[1mwandb\u001b[0m: 🚀 View run at \u001b[34m\u001b[4mhttps://wandb.ai/inflammation/inflammation_atlas_R1/runs/ocw5fwpn\u001b[0m\n"
     ]
    },
    {
     "name": "stderr",
     "output_type": "stream",
     "text": [
      "LOCAL_RANK: 0 - CUDA_VISIBLE_DEVICES: [0]\n"
     ]
    },
    {
     "name": "stdout",
     "output_type": "stream",
     "text": [
      "\r",
      "Training:   0%|          | 0/1000 [00:00<?, ?it/s]"
     ]
    },
    {
     "name": "stdout",
     "output_type": "stream",
     "text": [
      "\r",
      "Epoch 1/1000:   0%|          | 0/1000 [00:00<?, ?it/s]"
     ]
    },
    {
     "name": "stdout",
     "output_type": "stream",
     "text": [
      "\r",
      "Epoch 1/1000:   0%|          | 1/1000 [01:48<30:14:00, 108.95s/it]"
     ]
    },
    {
     "name": "stdout",
     "output_type": "stream",
     "text": [
      "\r",
      "Epoch 1/1000:   0%|          | 1/1000 [01:48<30:14:00, 108.95s/it, v_num=fwpn, train_loss_step=777, train_loss_epoch=828]"
     ]
    },
    {
     "name": "stdout",
     "output_type": "stream",
     "text": [
      "\r",
      "Epoch 2/1000:   0%|          | 1/1000 [01:48<30:14:00, 108.95s/it, v_num=fwpn, train_loss_step=777, train_loss_epoch=828]"
     ]
    },
    {
     "name": "stdout",
     "output_type": "stream",
     "text": [
      "\r",
      "Epoch 2/1000:   0%|          | 2/1000 [03:37<30:05:02, 108.52s/it, v_num=fwpn, train_loss_step=777, train_loss_epoch=828]"
     ]
    },
    {
     "name": "stdout",
     "output_type": "stream",
     "text": [
      "\r",
      "Epoch 2/1000:   0%|          | 2/1000 [03:37<30:05:02, 108.52s/it, v_num=fwpn, train_loss_step=747, train_loss_epoch=812]"
     ]
    },
    {
     "name": "stdout",
     "output_type": "stream",
     "text": [
      "\r",
      "Epoch 3/1000:   0%|          | 2/1000 [03:37<30:05:02, 108.52s/it, v_num=fwpn, train_loss_step=747, train_loss_epoch=812]"
     ]
    },
    {
     "name": "stdout",
     "output_type": "stream",
     "text": [
      "\r",
      "Epoch 3/1000:   0%|          | 3/1000 [05:26<30:06:12, 108.70s/it, v_num=fwpn, train_loss_step=747, train_loss_epoch=812]"
     ]
    },
    {
     "name": "stdout",
     "output_type": "stream",
     "text": [
      "\r",
      "Epoch 3/1000:   0%|          | 3/1000 [05:26<30:06:12, 108.70s/it, v_num=fwpn, train_loss_step=861, train_loss_epoch=809]"
     ]
    },
    {
     "name": "stdout",
     "output_type": "stream",
     "text": [
      "\r",
      "Epoch 4/1000:   0%|          | 3/1000 [05:26<30:06:12, 108.70s/it, v_num=fwpn, train_loss_step=861, train_loss_epoch=809]"
     ]
    },
    {
     "name": "stdout",
     "output_type": "stream",
     "text": [
      "\r",
      "Epoch 4/1000:   0%|          | 4/1000 [07:15<30:08:14, 108.93s/it, v_num=fwpn, train_loss_step=861, train_loss_epoch=809]"
     ]
    },
    {
     "name": "stdout",
     "output_type": "stream",
     "text": [
      "\r",
      "Epoch 4/1000:   0%|          | 4/1000 [07:15<30:08:14, 108.93s/it, v_num=fwpn, train_loss_step=851, train_loss_epoch=808]"
     ]
    },
    {
     "name": "stdout",
     "output_type": "stream",
     "text": [
      "\r",
      "Epoch 5/1000:   0%|          | 4/1000 [07:15<30:08:14, 108.93s/it, v_num=fwpn, train_loss_step=851, train_loss_epoch=808]"
     ]
    },
    {
     "name": "stdout",
     "output_type": "stream",
     "text": [
      "\r",
      "Epoch 5/1000:   0%|          | 5/1000 [09:04<30:09:11, 109.10s/it, v_num=fwpn, train_loss_step=851, train_loss_epoch=808]"
     ]
    },
    {
     "name": "stdout",
     "output_type": "stream",
     "text": [
      "\r",
      "Epoch 5/1000:   0%|          | 5/1000 [09:04<30:09:11, 109.10s/it, v_num=fwpn, train_loss_step=713, train_loss_epoch=807]"
     ]
    },
    {
     "name": "stdout",
     "output_type": "stream",
     "text": [
      "\r",
      "Epoch 6/1000:   0%|          | 5/1000 [09:04<30:09:11, 109.10s/it, v_num=fwpn, train_loss_step=713, train_loss_epoch=807]"
     ]
    },
    {
     "name": "stdout",
     "output_type": "stream",
     "text": [
      "\r",
      "Epoch 6/1000:   1%|          | 6/1000 [10:53<30:03:08, 108.84s/it, v_num=fwpn, train_loss_step=713, train_loss_epoch=807]"
     ]
    },
    {
     "name": "stdout",
     "output_type": "stream",
     "text": [
      "\r",
      "Epoch 6/1000:   1%|          | 6/1000 [10:53<30:03:08, 108.84s/it, v_num=fwpn, train_loss_step=851, train_loss_epoch=807]"
     ]
    },
    {
     "name": "stdout",
     "output_type": "stream",
     "text": [
      "\r",
      "Epoch 7/1000:   1%|          | 6/1000 [10:53<30:03:08, 108.84s/it, v_num=fwpn, train_loss_step=851, train_loss_epoch=807]"
     ]
    },
    {
     "name": "stdout",
     "output_type": "stream",
     "text": [
      "\r",
      "Epoch 7/1000:   1%|          | 7/1000 [12:38<29:42:18, 107.69s/it, v_num=fwpn, train_loss_step=851, train_loss_epoch=807]"
     ]
    },
    {
     "name": "stdout",
     "output_type": "stream",
     "text": [
      "\r",
      "Epoch 7/1000:   1%|          | 7/1000 [12:38<29:42:18, 107.69s/it, v_num=fwpn, train_loss_step=776, train_loss_epoch=807]"
     ]
    },
    {
     "name": "stdout",
     "output_type": "stream",
     "text": [
      "\r",
      "Epoch 8/1000:   1%|          | 7/1000 [12:38<29:42:18, 107.69s/it, v_num=fwpn, train_loss_step=776, train_loss_epoch=807]"
     ]
    },
    {
     "name": "stdout",
     "output_type": "stream",
     "text": [
      "\r",
      "Epoch 8/1000:   1%|          | 8/1000 [14:30<30:02:10, 109.00s/it, v_num=fwpn, train_loss_step=776, train_loss_epoch=807]"
     ]
    },
    {
     "name": "stdout",
     "output_type": "stream",
     "text": [
      "\r",
      "Epoch 8/1000:   1%|          | 8/1000 [14:30<30:02:10, 109.00s/it, v_num=fwpn, train_loss_step=819, train_loss_epoch=806]"
     ]
    },
    {
     "name": "stdout",
     "output_type": "stream",
     "text": [
      "\r",
      "Epoch 9/1000:   1%|          | 8/1000 [14:30<30:02:10, 109.00s/it, v_num=fwpn, train_loss_step=819, train_loss_epoch=806]"
     ]
    },
    {
     "name": "stdout",
     "output_type": "stream",
     "text": [
      "\r",
      "Epoch 9/1000:   1%|          | 9/1000 [16:20<30:06:27, 109.37s/it, v_num=fwpn, train_loss_step=819, train_loss_epoch=806]"
     ]
    },
    {
     "name": "stdout",
     "output_type": "stream",
     "text": [
      "\r",
      "Epoch 9/1000:   1%|          | 9/1000 [16:20<30:06:27, 109.37s/it, v_num=fwpn, train_loss_step=727, train_loss_epoch=806]"
     ]
    },
    {
     "name": "stdout",
     "output_type": "stream",
     "text": [
      "\r",
      "Epoch 10/1000:   1%|          | 9/1000 [16:20<30:06:27, 109.37s/it, v_num=fwpn, train_loss_step=727, train_loss_epoch=806]"
     ]
    },
    {
     "name": "stdout",
     "output_type": "stream",
     "text": [
      "\r",
      "Epoch 10/1000:   1%|          | 10/1000 [18:10<30:09:19, 109.66s/it, v_num=fwpn, train_loss_step=727, train_loss_epoch=806]"
     ]
    },
    {
     "name": "stdout",
     "output_type": "stream",
     "text": [
      "\r",
      "Epoch 10/1000:   1%|          | 10/1000 [18:10<30:09:19, 109.66s/it, v_num=fwpn, train_loss_step=895, train_loss_epoch=806]"
     ]
    },
    {
     "name": "stdout",
     "output_type": "stream",
     "text": [
      "\r",
      "Epoch 11/1000:   1%|          | 10/1000 [18:10<30:09:19, 109.66s/it, v_num=fwpn, train_loss_step=895, train_loss_epoch=806]"
     ]
    },
    {
     "name": "stdout",
     "output_type": "stream",
     "text": [
      "\r",
      "Epoch 11/1000:   1%|          | 11/1000 [20:00<30:09:15, 109.76s/it, v_num=fwpn, train_loss_step=895, train_loss_epoch=806]"
     ]
    },
    {
     "name": "stdout",
     "output_type": "stream",
     "text": [
      "\r",
      "Epoch 11/1000:   1%|          | 11/1000 [20:00<30:09:15, 109.76s/it, v_num=fwpn, train_loss_step=803, train_loss_epoch=806]"
     ]
    },
    {
     "name": "stdout",
     "output_type": "stream",
     "text": [
      "\r",
      "Epoch 12/1000:   1%|          | 11/1000 [20:00<30:09:15, 109.76s/it, v_num=fwpn, train_loss_step=803, train_loss_epoch=806]"
     ]
    },
    {
     "name": "stdout",
     "output_type": "stream",
     "text": [
      "\r",
      "Epoch 12/1000:   1%|          | 12/1000 [21:50<30:08:50, 109.85s/it, v_num=fwpn, train_loss_step=803, train_loss_epoch=806]"
     ]
    },
    {
     "name": "stdout",
     "output_type": "stream",
     "text": [
      "\r",
      "Epoch 12/1000:   1%|          | 12/1000 [21:50<30:08:50, 109.85s/it, v_num=fwpn, train_loss_step=821, train_loss_epoch=806]"
     ]
    },
    {
     "name": "stdout",
     "output_type": "stream",
     "text": [
      "\r",
      "Epoch 13/1000:   1%|          | 12/1000 [21:50<30:08:50, 109.85s/it, v_num=fwpn, train_loss_step=821, train_loss_epoch=806]"
     ]
    },
    {
     "name": "stdout",
     "output_type": "stream",
     "text": [
      "\r",
      "Epoch 13/1000:   1%|▏         | 13/1000 [23:41<30:09:36, 110.01s/it, v_num=fwpn, train_loss_step=821, train_loss_epoch=806]"
     ]
    },
    {
     "name": "stdout",
     "output_type": "stream",
     "text": [
      "\r",
      "Epoch 13/1000:   1%|▏         | 13/1000 [23:41<30:09:36, 110.01s/it, v_num=fwpn, train_loss_step=799, train_loss_epoch=806]"
     ]
    },
    {
     "name": "stdout",
     "output_type": "stream",
     "text": [
      "\r",
      "Epoch 14/1000:   1%|▏         | 13/1000 [23:41<30:09:36, 110.01s/it, v_num=fwpn, train_loss_step=799, train_loss_epoch=806]"
     ]
    },
    {
     "name": "stdout",
     "output_type": "stream",
     "text": [
      "\r",
      "Epoch 14/1000:   1%|▏         | 14/1000 [25:31<30:10:53, 110.20s/it, v_num=fwpn, train_loss_step=799, train_loss_epoch=806]"
     ]
    },
    {
     "name": "stdout",
     "output_type": "stream",
     "text": [
      "\r",
      "Epoch 14/1000:   1%|▏         | 14/1000 [25:31<30:10:53, 110.20s/it, v_num=fwpn, train_loss_step=659, train_loss_epoch=806]"
     ]
    },
    {
     "name": "stdout",
     "output_type": "stream",
     "text": [
      "\r",
      "Epoch 15/1000:   1%|▏         | 14/1000 [25:31<30:10:53, 110.20s/it, v_num=fwpn, train_loss_step=659, train_loss_epoch=806]"
     ]
    },
    {
     "name": "stdout",
     "output_type": "stream",
     "text": [
      "\r",
      "Epoch 15/1000:   2%|▏         | 15/1000 [27:22<30:09:25, 110.22s/it, v_num=fwpn, train_loss_step=659, train_loss_epoch=806]"
     ]
    },
    {
     "name": "stdout",
     "output_type": "stream",
     "text": [
      "\r",
      "Epoch 15/1000:   2%|▏         | 15/1000 [27:22<30:09:25, 110.22s/it, v_num=fwpn, train_loss_step=833, train_loss_epoch=806]"
     ]
    },
    {
     "name": "stdout",
     "output_type": "stream",
     "text": [
      "\r",
      "Epoch 16/1000:   2%|▏         | 15/1000 [27:22<30:09:25, 110.22s/it, v_num=fwpn, train_loss_step=833, train_loss_epoch=806]"
     ]
    },
    {
     "name": "stdout",
     "output_type": "stream",
     "text": [
      "\r",
      "Epoch 16/1000:   2%|▏         | 16/1000 [29:10<29:56:39, 109.55s/it, v_num=fwpn, train_loss_step=833, train_loss_epoch=806]"
     ]
    },
    {
     "name": "stdout",
     "output_type": "stream",
     "text": [
      "\r",
      "Epoch 16/1000:   2%|▏         | 16/1000 [29:10<29:56:39, 109.55s/it, v_num=fwpn, train_loss_step=828, train_loss_epoch=806]"
     ]
    },
    {
     "name": "stdout",
     "output_type": "stream",
     "text": [
      "\r",
      "Epoch 17/1000:   2%|▏         | 16/1000 [29:10<29:56:39, 109.55s/it, v_num=fwpn, train_loss_step=828, train_loss_epoch=806]"
     ]
    },
    {
     "name": "stdout",
     "output_type": "stream",
     "text": [
      "\r",
      "Epoch 17/1000:   2%|▏         | 17/1000 [30:50<29:11:53, 106.93s/it, v_num=fwpn, train_loss_step=828, train_loss_epoch=806]"
     ]
    },
    {
     "name": "stdout",
     "output_type": "stream",
     "text": [
      "\r",
      "Epoch 17/1000:   2%|▏         | 17/1000 [30:50<29:11:53, 106.93s/it, v_num=fwpn, train_loss_step=776, train_loss_epoch=806]"
     ]
    },
    {
     "name": "stdout",
     "output_type": "stream",
     "text": [
      "\r",
      "Epoch 18/1000:   2%|▏         | 17/1000 [30:50<29:11:53, 106.93s/it, v_num=fwpn, train_loss_step=776, train_loss_epoch=806]"
     ]
    },
    {
     "name": "stdout",
     "output_type": "stream",
     "text": [
      "\r",
      "Epoch 18/1000:   2%|▏         | 18/1000 [32:33<28:50:47, 105.75s/it, v_num=fwpn, train_loss_step=776, train_loss_epoch=806]"
     ]
    },
    {
     "name": "stdout",
     "output_type": "stream",
     "text": [
      "\r",
      "Epoch 18/1000:   2%|▏         | 18/1000 [32:33<28:50:47, 105.75s/it, v_num=fwpn, train_loss_step=817, train_loss_epoch=806]"
     ]
    },
    {
     "name": "stdout",
     "output_type": "stream",
     "text": [
      "\r",
      "Epoch 19/1000:   2%|▏         | 18/1000 [32:33<28:50:47, 105.75s/it, v_num=fwpn, train_loss_step=817, train_loss_epoch=806]"
     ]
    },
    {
     "name": "stdout",
     "output_type": "stream",
     "text": [
      "\r",
      "Epoch 19/1000:   2%|▏         | 19/1000 [34:23<29:07:53, 106.91s/it, v_num=fwpn, train_loss_step=817, train_loss_epoch=806]"
     ]
    },
    {
     "name": "stdout",
     "output_type": "stream",
     "text": [
      "\r",
      "Epoch 19/1000:   2%|▏         | 19/1000 [34:23<29:07:53, 106.91s/it, v_num=fwpn, train_loss_step=842, train_loss_epoch=806]"
     ]
    },
    {
     "name": "stdout",
     "output_type": "stream",
     "text": [
      "\r",
      "Epoch 20/1000:   2%|▏         | 19/1000 [34:23<29:07:53, 106.91s/it, v_num=fwpn, train_loss_step=842, train_loss_epoch=806]"
     ]
    },
    {
     "name": "stdout",
     "output_type": "stream",
     "text": [
      "\r",
      "Epoch 20/1000:   2%|▏         | 20/1000 [36:12<29:17:42, 107.61s/it, v_num=fwpn, train_loss_step=842, train_loss_epoch=806]"
     ]
    },
    {
     "name": "stdout",
     "output_type": "stream",
     "text": [
      "\r",
      "Epoch 20/1000:   2%|▏         | 20/1000 [36:12<29:17:42, 107.61s/it, v_num=fwpn, train_loss_step=803, train_loss_epoch=806]"
     ]
    },
    {
     "name": "stdout",
     "output_type": "stream",
     "text": [
      "\r",
      "Epoch 21/1000:   2%|▏         | 20/1000 [36:12<29:17:42, 107.61s/it, v_num=fwpn, train_loss_step=803, train_loss_epoch=806]"
     ]
    },
    {
     "name": "stdout",
     "output_type": "stream",
     "text": [
      "\r",
      "Epoch 21/1000:   2%|▏         | 21/1000 [38:02<29:24:02, 108.11s/it, v_num=fwpn, train_loss_step=803, train_loss_epoch=806]"
     ]
    },
    {
     "name": "stdout",
     "output_type": "stream",
     "text": [
      "\r",
      "Epoch 21/1000:   2%|▏         | 21/1000 [38:02<29:24:02, 108.11s/it, v_num=fwpn, train_loss_step=778, train_loss_epoch=806]"
     ]
    },
    {
     "name": "stdout",
     "output_type": "stream",
     "text": [
      "\r",
      "Epoch 22/1000:   2%|▏         | 21/1000 [38:02<29:24:02, 108.11s/it, v_num=fwpn, train_loss_step=778, train_loss_epoch=806]"
     ]
    },
    {
     "name": "stdout",
     "output_type": "stream",
     "text": [
      "\r",
      "Epoch 22/1000:   2%|▏         | 22/1000 [39:51<29:28:22, 108.49s/it, v_num=fwpn, train_loss_step=778, train_loss_epoch=806]"
     ]
    },
    {
     "name": "stdout",
     "output_type": "stream",
     "text": [
      "\r",
      "Epoch 22/1000:   2%|▏         | 22/1000 [39:51<29:28:22, 108.49s/it, v_num=fwpn, train_loss_step=782, train_loss_epoch=806]"
     ]
    },
    {
     "name": "stdout",
     "output_type": "stream",
     "text": [
      "\r",
      "Epoch 23/1000:   2%|▏         | 22/1000 [39:51<29:28:22, 108.49s/it, v_num=fwpn, train_loss_step=782, train_loss_epoch=806]"
     ]
    },
    {
     "name": "stdout",
     "output_type": "stream",
     "text": [
      "\r",
      "Epoch 23/1000:   2%|▏         | 23/1000 [41:40<29:28:13, 108.59s/it, v_num=fwpn, train_loss_step=782, train_loss_epoch=806]"
     ]
    },
    {
     "name": "stdout",
     "output_type": "stream",
     "text": [
      "\r",
      "Epoch 23/1000:   2%|▏         | 23/1000 [41:40<29:28:13, 108.59s/it, v_num=fwpn, train_loss_step=873, train_loss_epoch=806]"
     ]
    },
    {
     "name": "stdout",
     "output_type": "stream",
     "text": [
      "\r",
      "Epoch 24/1000:   2%|▏         | 23/1000 [41:40<29:28:13, 108.59s/it, v_num=fwpn, train_loss_step=873, train_loss_epoch=806]"
     ]
    },
    {
     "name": "stdout",
     "output_type": "stream",
     "text": [
      "\r",
      "Epoch 24/1000:   2%|▏         | 24/1000 [43:29<29:29:55, 108.81s/it, v_num=fwpn, train_loss_step=873, train_loss_epoch=806]"
     ]
    },
    {
     "name": "stdout",
     "output_type": "stream",
     "text": [
      "\r",
      "Epoch 24/1000:   2%|▏         | 24/1000 [43:29<29:29:55, 108.81s/it, v_num=fwpn, train_loss_step=753, train_loss_epoch=806]"
     ]
    },
    {
     "name": "stdout",
     "output_type": "stream",
     "text": [
      "\r",
      "Epoch 25/1000:   2%|▏         | 24/1000 [43:29<29:29:55, 108.81s/it, v_num=fwpn, train_loss_step=753, train_loss_epoch=806]"
     ]
    },
    {
     "name": "stdout",
     "output_type": "stream",
     "text": [
      "\r",
      "Epoch 25/1000:   2%|▎         | 25/1000 [45:18<29:27:41, 108.78s/it, v_num=fwpn, train_loss_step=753, train_loss_epoch=806]"
     ]
    },
    {
     "name": "stdout",
     "output_type": "stream",
     "text": [
      "\r",
      "Epoch 25/1000:   2%|▎         | 25/1000 [45:18<29:27:41, 108.78s/it, v_num=fwpn, train_loss_step=875, train_loss_epoch=806]"
     ]
    },
    {
     "name": "stdout",
     "output_type": "stream",
     "text": [
      "\r",
      "Epoch 26/1000:   2%|▎         | 25/1000 [45:18<29:27:41, 108.78s/it, v_num=fwpn, train_loss_step=875, train_loss_epoch=806]"
     ]
    },
    {
     "name": "stdout",
     "output_type": "stream",
     "text": [
      "\r",
      "Epoch 26/1000:   3%|▎         | 26/1000 [47:07<29:26:54, 108.84s/it, v_num=fwpn, train_loss_step=875, train_loss_epoch=806]"
     ]
    },
    {
     "name": "stdout",
     "output_type": "stream",
     "text": [
      "\r",
      "Epoch 26/1000:   3%|▎         | 26/1000 [47:07<29:26:54, 108.84s/it, v_num=fwpn, train_loss_step=827, train_loss_epoch=806]"
     ]
    },
    {
     "name": "stdout",
     "output_type": "stream",
     "text": [
      "\r",
      "Epoch 27/1000:   3%|▎         | 26/1000 [47:07<29:26:54, 108.84s/it, v_num=fwpn, train_loss_step=827, train_loss_epoch=806]"
     ]
    },
    {
     "name": "stdout",
     "output_type": "stream",
     "text": [
      "\r",
      "Epoch 27/1000:   3%|▎         | 27/1000 [48:55<29:24:24, 108.80s/it, v_num=fwpn, train_loss_step=827, train_loss_epoch=806]"
     ]
    },
    {
     "name": "stdout",
     "output_type": "stream",
     "text": [
      "\r",
      "Epoch 27/1000:   3%|▎         | 27/1000 [48:55<29:24:24, 108.80s/it, v_num=fwpn, train_loss_step=808, train_loss_epoch=806]"
     ]
    },
    {
     "name": "stdout",
     "output_type": "stream",
     "text": [
      "\r",
      "Epoch 28/1000:   3%|▎         | 27/1000 [48:55<29:24:24, 108.80s/it, v_num=fwpn, train_loss_step=808, train_loss_epoch=806]"
     ]
    },
    {
     "name": "stdout",
     "output_type": "stream",
     "text": [
      "\r",
      "Epoch 28/1000:   3%|▎         | 28/1000 [50:44<29:22:15, 108.78s/it, v_num=fwpn, train_loss_step=808, train_loss_epoch=806]"
     ]
    },
    {
     "name": "stdout",
     "output_type": "stream",
     "text": [
      "\r",
      "Epoch 28/1000:   3%|▎         | 28/1000 [50:44<29:22:15, 108.78s/it, v_num=fwpn, train_loss_step=763, train_loss_epoch=806]"
     ]
    },
    {
     "name": "stdout",
     "output_type": "stream",
     "text": [
      "\r",
      "Epoch 29/1000:   3%|▎         | 28/1000 [50:44<29:22:15, 108.78s/it, v_num=fwpn, train_loss_step=763, train_loss_epoch=806]"
     ]
    },
    {
     "name": "stdout",
     "output_type": "stream",
     "text": [
      "\r",
      "Epoch 29/1000:   3%|▎         | 29/1000 [52:33<29:21:15, 108.83s/it, v_num=fwpn, train_loss_step=763, train_loss_epoch=806]"
     ]
    },
    {
     "name": "stdout",
     "output_type": "stream",
     "text": [
      "\r",
      "Epoch 29/1000:   3%|▎         | 29/1000 [52:33<29:21:15, 108.83s/it, v_num=fwpn, train_loss_step=760, train_loss_epoch=806]"
     ]
    },
    {
     "name": "stdout",
     "output_type": "stream",
     "text": [
      "\r",
      "Epoch 30/1000:   3%|▎         | 29/1000 [52:33<29:21:15, 108.83s/it, v_num=fwpn, train_loss_step=760, train_loss_epoch=806]"
     ]
    },
    {
     "name": "stdout",
     "output_type": "stream",
     "text": [
      "\r",
      "Epoch 30/1000:   3%|▎         | 30/1000 [54:22<29:17:40, 108.72s/it, v_num=fwpn, train_loss_step=760, train_loss_epoch=806]"
     ]
    },
    {
     "name": "stdout",
     "output_type": "stream",
     "text": [
      "\r",
      "Epoch 30/1000:   3%|▎         | 30/1000 [54:22<29:17:40, 108.72s/it, v_num=fwpn, train_loss_step=809, train_loss_epoch=806]"
     ]
    },
    {
     "name": "stdout",
     "output_type": "stream",
     "text": [
      "\r",
      "Epoch 31/1000:   3%|▎         | 30/1000 [54:22<29:17:40, 108.72s/it, v_num=fwpn, train_loss_step=809, train_loss_epoch=806]"
     ]
    },
    {
     "name": "stdout",
     "output_type": "stream",
     "text": [
      "\r",
      "Epoch 31/1000:   3%|▎         | 31/1000 [56:10<29:16:22, 108.75s/it, v_num=fwpn, train_loss_step=809, train_loss_epoch=806]"
     ]
    },
    {
     "name": "stdout",
     "output_type": "stream",
     "text": [
      "\r",
      "Epoch 31/1000:   3%|▎         | 31/1000 [56:10<29:16:22, 108.75s/it, v_num=fwpn, train_loss_step=805, train_loss_epoch=806]"
     ]
    },
    {
     "name": "stdout",
     "output_type": "stream",
     "text": [
      "\r",
      "Epoch 32/1000:   3%|▎         | 31/1000 [56:10<29:16:22, 108.75s/it, v_num=fwpn, train_loss_step=805, train_loss_epoch=806]"
     ]
    },
    {
     "name": "stdout",
     "output_type": "stream",
     "text": [
      "\r",
      "Epoch 32/1000:   3%|▎         | 32/1000 [57:59<29:15:38, 108.82s/it, v_num=fwpn, train_loss_step=805, train_loss_epoch=806]"
     ]
    },
    {
     "name": "stdout",
     "output_type": "stream",
     "text": [
      "\r",
      "Epoch 32/1000:   3%|▎         | 32/1000 [57:59<29:15:38, 108.82s/it, v_num=fwpn, train_loss_step=851, train_loss_epoch=806]"
     ]
    },
    {
     "name": "stdout",
     "output_type": "stream",
     "text": [
      "\r",
      "Epoch 33/1000:   3%|▎         | 32/1000 [57:59<29:15:38, 108.82s/it, v_num=fwpn, train_loss_step=851, train_loss_epoch=806]"
     ]
    },
    {
     "name": "stdout",
     "output_type": "stream",
     "text": [
      "\r",
      "Epoch 33/1000:   3%|▎         | 33/1000 [59:49<29:15:22, 108.92s/it, v_num=fwpn, train_loss_step=851, train_loss_epoch=806]"
     ]
    },
    {
     "name": "stdout",
     "output_type": "stream",
     "text": [
      "\r",
      "Epoch 33/1000:   3%|▎         | 33/1000 [59:49<29:15:22, 108.92s/it, v_num=fwpn, train_loss_step=765, train_loss_epoch=806]"
     ]
    },
    {
     "name": "stdout",
     "output_type": "stream",
     "text": [
      "\r",
      "Epoch 34/1000:   3%|▎         | 33/1000 [59:49<29:15:22, 108.92s/it, v_num=fwpn, train_loss_step=765, train_loss_epoch=806]"
     ]
    },
    {
     "name": "stdout",
     "output_type": "stream",
     "text": [
      "\r",
      "Epoch 34/1000:   3%|▎         | 34/1000 [1:01:37<29:09:34, 108.67s/it, v_num=fwpn, train_loss_step=765, train_loss_epoch=806]"
     ]
    },
    {
     "name": "stdout",
     "output_type": "stream",
     "text": [
      "\r",
      "Epoch 34/1000:   3%|▎         | 34/1000 [1:01:37<29:09:34, 108.67s/it, v_num=fwpn, train_loss_step=712, train_loss_epoch=806]"
     ]
    },
    {
     "name": "stdout",
     "output_type": "stream",
     "text": [
      "\r",
      "Epoch 35/1000:   3%|▎         | 34/1000 [1:01:37<29:09:34, 108.67s/it, v_num=fwpn, train_loss_step=712, train_loss_epoch=806]"
     ]
    },
    {
     "name": "stdout",
     "output_type": "stream",
     "text": [
      "\r",
      "Epoch 35/1000:   4%|▎         | 35/1000 [1:03:25<29:06:59, 108.62s/it, v_num=fwpn, train_loss_step=712, train_loss_epoch=806]"
     ]
    },
    {
     "name": "stdout",
     "output_type": "stream",
     "text": [
      "\r",
      "Epoch 35/1000:   4%|▎         | 35/1000 [1:03:25<29:06:59, 108.62s/it, v_num=fwpn, train_loss_step=864, train_loss_epoch=806]"
     ]
    },
    {
     "name": "stdout",
     "output_type": "stream",
     "text": [
      "\r",
      "Epoch 36/1000:   4%|▎         | 35/1000 [1:03:25<29:06:59, 108.62s/it, v_num=fwpn, train_loss_step=864, train_loss_epoch=806]"
     ]
    },
    {
     "name": "stdout",
     "output_type": "stream",
     "text": [
      "\r",
      "Epoch 36/1000:   4%|▎         | 36/1000 [1:05:14<29:06:21, 108.70s/it, v_num=fwpn, train_loss_step=864, train_loss_epoch=806]"
     ]
    },
    {
     "name": "stdout",
     "output_type": "stream",
     "text": [
      "\r",
      "Epoch 36/1000:   4%|▎         | 36/1000 [1:05:14<29:06:21, 108.70s/it, v_num=fwpn, train_loss_step=661, train_loss_epoch=806]"
     ]
    },
    {
     "name": "stdout",
     "output_type": "stream",
     "text": [
      "\r",
      "Epoch 37/1000:   4%|▎         | 36/1000 [1:05:14<29:06:21, 108.70s/it, v_num=fwpn, train_loss_step=661, train_loss_epoch=806]"
     ]
    },
    {
     "name": "stdout",
     "output_type": "stream",
     "text": [
      "\r",
      "Epoch 37/1000:   4%|▎         | 37/1000 [1:07:02<29:03:31, 108.63s/it, v_num=fwpn, train_loss_step=661, train_loss_epoch=806]"
     ]
    },
    {
     "name": "stdout",
     "output_type": "stream",
     "text": [
      "\r",
      "Epoch 37/1000:   4%|▎         | 37/1000 [1:07:02<29:03:31, 108.63s/it, v_num=fwpn, train_loss_step=765, train_loss_epoch=806]"
     ]
    },
    {
     "name": "stdout",
     "output_type": "stream",
     "text": [
      "\r",
      "Epoch 37/1000:   4%|▎         | 37/1000 [1:07:02<29:05:06, 108.73s/it, v_num=fwpn, train_loss_step=765, train_loss_epoch=806]"
     ]
    },
    {
     "name": "stdout",
     "output_type": "stream",
     "text": [
      "\n",
      "Monitored metric reconstruction_loss_validation did not improve in the last 10 records. Best score: 804.703. Signaling Trainer to stop.\n"
     ]
    }
   ],
   "source": [
    "model.train(logger=logger, plan_kwargs = plan_kwargs, **trainer_kwargs)"
   ]
  },
  {
   "cell_type": "code",
   "execution_count": 15,
   "id": "c282f6eb-0ad1-40a5-81e6-1acda1545dad",
   "metadata": {
    "execution": {
     "iopub.execute_input": "2024-05-06T17:50:14.704166Z",
     "iopub.status.busy": "2024-05-06T17:50:14.703383Z",
     "iopub.status.idle": "2024-05-06T17:50:20.617764Z",
     "shell.execute_reply": "2024-05-06T17:50:20.617043Z"
    },
    "papermill": {
     "duration": 5.92835,
     "end_time": "2024-05-06T17:50:20.619884",
     "exception": false,
     "start_time": "2024-05-06T17:50:14.691534",
     "status": "completed"
    },
    "tags": []
   },
   "outputs": [
    {
     "name": "stderr",
     "output_type": "stream",
     "text": [
      "\u001b[34m\u001b[1mwandb\u001b[0m: - 0.003 MB of 0.003 MB uploaded\r"
     ]
    },
    {
     "name": "stderr",
     "output_type": "stream",
     "text": [
      "\u001b[34m\u001b[1mwandb\u001b[0m: \\ 0.003 MB of 0.009 MB uploaded\r"
     ]
    },
    {
     "name": "stderr",
     "output_type": "stream",
     "text": [
      "\u001b[34m\u001b[1mwandb\u001b[0m: | 0.009 MB of 0.009 MB uploaded\r"
     ]
    },
    {
     "name": "stderr",
     "output_type": "stream",
     "text": [
      "\u001b[34m\u001b[1mwandb\u001b[0m: / 0.009 MB of 0.009 MB uploaded\r"
     ]
    },
    {
     "name": "stderr",
     "output_type": "stream",
     "text": [
      "\u001b[34m\u001b[1mwandb\u001b[0m: - 0.009 MB of 0.009 MB uploaded\r"
     ]
    },
    {
     "name": "stderr",
     "output_type": "stream",
     "text": [
      "\u001b[34m\u001b[1mwandb\u001b[0m:                                                                                \n"
     ]
    },
    {
     "name": "stderr",
     "output_type": "stream",
     "text": [
      "\u001b[34m\u001b[1mwandb\u001b[0m: \n",
      "\u001b[34m\u001b[1mwandb\u001b[0m: Run history:\n",
      "\u001b[34m\u001b[1mwandb\u001b[0m:                     elbo_train █▅▅▄▃▃▃▃▃▂▂▂▂▂▂▂▂▂▂▂▂▂▁▁▁▁▁▁▁▁▁▁▁▁▁▁▁\n",
      "\u001b[34m\u001b[1mwandb\u001b[0m:                elbo_validation █▇▆▅▄▄▃▃▃▃▃▃▂▂▂▂▂▂▂▂▂▂▂▂▁▁▁▁▁▁▁▁▁▁▁▁▁\n",
      "\u001b[34m\u001b[1mwandb\u001b[0m:                          epoch ▁▁▁▂▂▂▂▂▂▃▃▃▃▃▄▄▄▄▄▅▅▅▅▅▅▅▆▆▆▆▆▇▇▇▇▇▇███\n",
      "\u001b[34m\u001b[1mwandb\u001b[0m:                kl_global_train ▁▁▁▁▁▁▁▁▁▁▁▁▁▁▁▁▁▁▁▁▁▁▁▁▁▁▁▁▁▁▁▁▁▁▁▁▁\n",
      "\u001b[34m\u001b[1mwandb\u001b[0m:           kl_global_validation ▁▁▁▁▁▁▁▁▁▁▁▁▁▁▁▁▁▁▁▁▁▁▁▁▁▁▁▁▁▁▁▁▁▁▁▁▁\n",
      "\u001b[34m\u001b[1mwandb\u001b[0m:                 kl_local_train ██▇▆▅▅▄▄▄▃▃▃▃▃▃▃▂▂▂▂▂▂▂▂▂▂▂▂▁▁▁▁▁▁▁▁▁\n",
      "\u001b[34m\u001b[1mwandb\u001b[0m:            kl_local_validation █▇▆▅▅▄▄▄▃▃▃▃▃▃▃▂▂▂▂▂▂▂▂▂▂▂▂▁▁▁▁▁▁▁▁▁▁\n",
      "\u001b[34m\u001b[1mwandb\u001b[0m:                      kl_weight ▁▁▁▂▂▂▂▂▂▃▃▃▃▃▄▄▄▄▄▄▄▅▅▅▅▅▆▆▆▆▆▇▇▇▇▇▇███\n",
      "\u001b[34m\u001b[1mwandb\u001b[0m:      reconstruction_loss_train █▃▃▂▂▂▂▂▂▁▁▁▁▁▁▁▁▁▁▁▁▁▁▁▁▁▁▁▁▁▁▁▁▁▁▁▁\n",
      "\u001b[34m\u001b[1mwandb\u001b[0m: reconstruction_loss_validation █▅▃▃▃▂▂▂▂▂▂▁▁▁▁▁▁▁▁▁▁▁▁▁▁▁▁▁▁▁▁▁▁▁▁▁▁\n",
      "\u001b[34m\u001b[1mwandb\u001b[0m:               train_loss_epoch █▃▂▂▂▁▁▁▁▁▁▁▁▁▁▁▁▁▁▁▁▁▁▁▁▁▁▁▁▁▁▁▁▁▁▁▁\n",
      "\u001b[34m\u001b[1mwandb\u001b[0m:                train_loss_step ▅▆▅▂▃▅▅▂▃▃▆▁▅▄▅▅▄▆▆▃▃▄▇▄▁▁▅▄▂▄▄▅▃▃▅█▃▄▃▄\n",
      "\u001b[34m\u001b[1mwandb\u001b[0m:            trainer/global_step ▁▁▁▂▂▂▂▂▂▃▃▃▃▃▃▄▄▄▄▄▅▅▅▅▅▅▆▆▆▆▆▇▇▇▇▇▇███\n",
      "\u001b[34m\u001b[1mwandb\u001b[0m:                validation_loss █▄▃▂▂▂▂▁▁▁▁▁▁▁▁▁▁▁▁▁▁▁▁▁▁▁▁▁▁▁▂▂▂▂▂▂▂\n",
      "\u001b[34m\u001b[1mwandb\u001b[0m: \n",
      "\u001b[34m\u001b[1mwandb\u001b[0m: Run summary:\n",
      "\u001b[34m\u001b[1mwandb\u001b[0m:                     elbo_train 827.0166\n",
      "\u001b[34m\u001b[1mwandb\u001b[0m:                elbo_validation 827.67426\n",
      "\u001b[34m\u001b[1mwandb\u001b[0m:                          epoch 36\n",
      "\u001b[34m\u001b[1mwandb\u001b[0m:                kl_global_train 0.0\n",
      "\u001b[34m\u001b[1mwandb\u001b[0m:           kl_global_validation 0.0\n",
      "\u001b[34m\u001b[1mwandb\u001b[0m:                 kl_local_train 23.32099\n",
      "\u001b[34m\u001b[1mwandb\u001b[0m:            kl_local_validation 23.01807\n",
      "\u001b[34m\u001b[1mwandb\u001b[0m:                      kl_weight 0.09\n",
      "\u001b[34m\u001b[1mwandb\u001b[0m:      reconstruction_loss_train 803.69562\n",
      "\u001b[34m\u001b[1mwandb\u001b[0m: reconstruction_loss_validation 804.65619\n",
      "\u001b[34m\u001b[1mwandb\u001b[0m:               train_loss_epoch 805.79291\n",
      "\u001b[34m\u001b[1mwandb\u001b[0m:                train_loss_step 888.22852\n",
      "\u001b[34m\u001b[1mwandb\u001b[0m:            trainer/global_step 276796\n",
      "\u001b[34m\u001b[1mwandb\u001b[0m:                validation_loss 806.72784\n",
      "\u001b[34m\u001b[1mwandb\u001b[0m: \n"
     ]
    },
    {
     "name": "stderr",
     "output_type": "stream",
     "text": [
      "\u001b[34m\u001b[1mwandb\u001b[0m: 🚀 View run \u001b[33mStep4_Mono\u001b[0m at: \u001b[34m\u001b[4mhttps://wandb.ai/inflammation/inflammation_atlas_R1/runs/ocw5fwpn\u001b[0m\n",
      "\u001b[34m\u001b[1mwandb\u001b[0m: Synced 5 W&B file(s), 0 media file(s), 0 artifact file(s) and 0 other file(s)\n"
     ]
    },
    {
     "name": "stderr",
     "output_type": "stream",
     "text": [
      "\u001b[34m\u001b[1mwandb\u001b[0m: Find logs at: \u001b[35m\u001b[1m./wandb/run-20240506_164310-ocw5fwpn/logs\u001b[0m\n"
     ]
    }
   ],
   "source": [
    "wandb.finish()"
   ]
  },
  {
   "cell_type": "markdown",
   "id": "d9fb1179-83c7-4ac6-b4aa-92dc7a349801",
   "metadata": {
    "papermill": {
     "duration": 0.010865,
     "end_time": "2024-05-06T17:50:20.642450",
     "exception": false,
     "start_time": "2024-05-06T17:50:20.631585",
     "status": "completed"
    },
    "tags": []
   },
   "source": [
    "### Extracting embedding space"
   ]
  },
  {
   "cell_type": "code",
   "execution_count": 16,
   "id": "caaa5832-0123-4c59-8ec6-f46a75f7a14e",
   "metadata": {
    "execution": {
     "iopub.execute_input": "2024-05-06T17:50:20.666216Z",
     "iopub.status.busy": "2024-05-06T17:50:20.665888Z",
     "iopub.status.idle": "2024-05-06T17:50:58.240570Z",
     "shell.execute_reply": "2024-05-06T17:50:58.239597Z"
    },
    "papermill": {
     "duration": 37.589218,
     "end_time": "2024-05-06T17:50:58.242656",
     "exception": false,
     "start_time": "2024-05-06T17:50:20.653438",
     "status": "completed"
    },
    "tags": []
   },
   "outputs": [],
   "source": [
    "adata.obsm['X_scVI'] = model.get_latent_representation()"
   ]
  },
  {
   "cell_type": "markdown",
   "id": "2f03e70b-839c-40a6-9fbb-d76bbd787419",
   "metadata": {
    "papermill": {
     "duration": 0.011103,
     "end_time": "2024-05-06T17:50:58.265513",
     "exception": false,
     "start_time": "2024-05-06T17:50:58.254410",
     "status": "completed"
    },
    "tags": []
   },
   "source": [
    "## Save the results"
   ]
  },
  {
   "cell_type": "code",
   "execution_count": 17,
   "id": "7b04049b-47fd-4b62-a1c0-c43dcc086d34",
   "metadata": {
    "execution": {
     "iopub.execute_input": "2024-05-06T17:50:58.290094Z",
     "iopub.status.busy": "2024-05-06T17:50:58.289745Z",
     "iopub.status.idle": "2024-05-06T17:53:24.665036Z",
     "shell.execute_reply": "2024-05-06T17:53:24.664197Z"
    },
    "papermill": {
     "duration": 146.390496,
     "end_time": "2024-05-06T17:53:24.667460",
     "exception": false,
     "start_time": "2024-05-06T17:50:58.276964",
     "status": "completed"
    },
    "tags": []
   },
   "outputs": [],
   "source": [
    "if overwriteData:\n",
    "    adata.write(here(f\"{workDir}/{cellGroup}/results/02_{annotationLevel}_{cellGroup}_HVGsubset_scVI.h5ad\"), compression=\"gzip\")\n",
    "    model.save(here(f\"{workDir}/{cellGroup}/results/02_{annotationLevel}_{cellGroup}_HVGsubset_scVI_MODEL/\"),\n",
    "               overwrite = True, \n",
    "               save_anndata = False )   "
   ]
  },
  {
   "cell_type": "code",
   "execution_count": 18,
   "id": "629ba2bd-f6be-44ef-8fca-bbdf891bf25f",
   "metadata": {
    "execution": {
     "iopub.execute_input": "2024-05-06T17:53:24.692815Z",
     "iopub.status.busy": "2024-05-06T17:53:24.691997Z",
     "iopub.status.idle": "2024-05-06T17:53:24.695568Z",
     "shell.execute_reply": "2024-05-06T17:53:24.694891Z"
    },
    "papermill": {
     "duration": 0.017928,
     "end_time": "2024-05-06T17:53:24.697247",
     "exception": false,
     "start_time": "2024-05-06T17:53:24.679319",
     "status": "completed"
    },
    "tags": []
   },
   "outputs": [],
   "source": [
    "# To load the model do (after loading corresponding adata):\n",
    "# model = scvi.model.SCVI.load(here('{}/results/01_{}_HVGsubset_scVI_MODEL/'.format(workDir, cellGroup)), \n",
    "#                              adata, \n",
    "#                              use_gpu=True)"
   ]
  },
  {
   "cell_type": "raw",
   "id": "975e84d0-f56b-498d-b3a8-c9219cf22e53",
   "metadata": {
    "papermill": {
     "duration": 0.010773,
     "end_time": "2024-05-06T17:53:24.718735",
     "exception": false,
     "start_time": "2024-05-06T17:53:24.707962",
     "status": "completed"
    },
    "tags": []
   },
   "source": [
    "session_info.show()"
   ]
  }
 ],
 "metadata": {
  "kernelspec": {
   "display_name": "Python 3 (ipykernel)",
   "language": "python",
   "name": "python3"
  },
  "language_info": {
   "codemirror_mode": {
    "name": "ipython",
    "version": 3
   },
   "file_extension": ".py",
   "mimetype": "text/x-python",
   "name": "python",
   "nbconvert_exporter": "python",
   "pygments_lexer": "ipython3",
   "version": "3.9.18"
  },
  "papermill": {
   "default_parameters": {},
   "duration": 4261.999079,
   "end_time": "2024-05-06T17:53:28.208475",
   "environment_variables": {},
   "exception": null,
   "input_path": "./Mono/02_integration_scVI.ipynb",
   "output_path": "./Mono/02_integration_scVI_executed.ipynb",
   "parameters": {},
   "start_time": "2024-05-06T16:42:26.209396",
   "version": "2.5.0"
  }
 },
 "nbformat": 4,
 "nbformat_minor": 5
}