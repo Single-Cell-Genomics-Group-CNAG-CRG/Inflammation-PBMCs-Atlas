{
 "cells": [
  {
   "cell_type": "code",
   "execution_count": 1,
   "id": "2dd1425a-0c07-465e-b522-9e3cc5cb93a7",
   "metadata": {
    "execution": {
     "iopub.execute_input": "2024-05-06T16:54:44.664032Z",
     "iopub.status.busy": "2024-05-06T16:54:44.663245Z",
     "iopub.status.idle": "2024-05-06T16:54:50.388954Z",
     "shell.execute_reply": "2024-05-06T16:54:50.388014Z"
    },
    "papermill": {
     "duration": 5.734183,
     "end_time": "2024-05-06T16:54:50.390938",
     "exception": false,
     "start_time": "2024-05-06T16:54:44.656755",
     "status": "completed"
    },
    "tags": []
   },
   "outputs": [
    {
     "data": {
      "text/plain": [
       "True"
      ]
     },
     "execution_count": 1,
     "metadata": {},
     "output_type": "execute_result"
    }
   ],
   "source": [
    "import os\n",
    "import sys\n",
    "\n",
    "import numpy as np\n",
    "import matplotlib.pyplot as plt\n",
    "\n",
    "import scanpy as sc\n",
    "import scvi\n",
    "import torch\n",
    "\n",
    "from pytorch_lightning.loggers import WandbLogger\n",
    "import wandb\n",
    "from dotenv import load_dotenv\n",
    "\n",
    "import session_info\n",
    "import warnings\n",
    "from pyprojroot.here import here\n",
    "\n",
    "warnings.filterwarnings(\"ignore\")\n",
    "sys.path.insert(1, str(here('bin')))\n",
    "\n",
    "torch.set_float32_matmul_precision('high')\n",
    "\n",
    "#plt.style.use(['science','nature','no-latex'])\n",
    "dpi_fig_save = 300\n",
    "sc.set_figure_params(dpi=100, dpi_save=dpi_fig_save, vector_friendly=True)\n",
    "\n",
    "load_dotenv(here('.env'))"
   ]
  },
  {
   "cell_type": "code",
   "execution_count": 2,
   "id": "09c897fc-744b-43de-a681-718fb5d327fa",
   "metadata": {
    "execution": {
     "iopub.execute_input": "2024-05-06T16:54:50.402589Z",
     "iopub.status.busy": "2024-05-06T16:54:50.402297Z",
     "iopub.status.idle": "2024-05-06T16:54:50.406303Z",
     "shell.execute_reply": "2024-05-06T16:54:50.405662Z"
    },
    "papermill": {
     "duration": 0.011032,
     "end_time": "2024-05-06T16:54:50.408065",
     "exception": false,
     "start_time": "2024-05-06T16:54:50.397033",
     "status": "completed"
    },
    "tags": []
   },
   "outputs": [],
   "source": [
    "class CustomWandbLogger(WandbLogger):\n",
    "    @property\n",
    "    def save_dir(self):\n",
    "        return self.experiment.dir"
   ]
  },
  {
   "cell_type": "code",
   "execution_count": 3,
   "id": "8ee6662f-5d45-4137-80a5-bb0b9ae8d71f",
   "metadata": {
    "execution": {
     "iopub.execute_input": "2024-05-06T16:54:50.416943Z",
     "iopub.status.busy": "2024-05-06T16:54:50.416419Z",
     "iopub.status.idle": "2024-05-06T16:54:50.422685Z",
     "shell.execute_reply": "2024-05-06T16:54:50.422057Z"
    },
    "papermill": {
     "duration": 0.012675,
     "end_time": "2024-05-06T16:54:50.424311",
     "exception": false,
     "start_time": "2024-05-06T16:54:50.411636",
     "status": "completed"
    },
    "tags": []
   },
   "outputs": [
    {
     "name": "stderr",
     "output_type": "stream",
     "text": [
      "Seed set to 0\n"
     ]
    },
    {
     "name": "stdout",
     "output_type": "stream",
     "text": [
      "Last run with scvi-tools version: 1.1.2\n"
     ]
    }
   ],
   "source": [
    "scvi.settings.seed = 0\n",
    "print(\"Last run with scvi-tools version:\", scvi.__version__)"
   ]
  },
  {
   "cell_type": "markdown",
   "id": "a81037ff-5998-482a-ba86-520f757311a9",
   "metadata": {
    "papermill": {
     "duration": 0.003775,
     "end_time": "2024-05-06T16:54:50.432443",
     "exception": false,
     "start_time": "2024-05-06T16:54:50.428668",
     "status": "completed"
    },
    "tags": []
   },
   "source": [
    "**Setting parameters** "
   ]
  },
  {
   "cell_type": "code",
   "execution_count": 4,
   "id": "56c27966-8f10-4c93-8b1a-1fa75f005e41",
   "metadata": {
    "execution": {
     "iopub.execute_input": "2024-05-06T16:54:50.441457Z",
     "iopub.status.busy": "2024-05-06T16:54:50.441203Z",
     "iopub.status.idle": "2024-05-06T16:54:50.444522Z",
     "shell.execute_reply": "2024-05-06T16:54:50.443849Z"
    },
    "papermill": {
     "duration": 0.009715,
     "end_time": "2024-05-06T16:54:50.446074",
     "exception": false,
     "start_time": "2024-05-06T16:54:50.436359",
     "status": "completed"
    },
    "tags": []
   },
   "outputs": [],
   "source": [
    "overwriteFigures = True\n",
    "overwriteData = True"
   ]
  },
  {
   "cell_type": "code",
   "execution_count": 5,
   "id": "c86fccd3-a4fe-415b-8f4e-e2ceb3ec128a",
   "metadata": {
    "execution": {
     "iopub.execute_input": "2024-05-06T16:54:50.455180Z",
     "iopub.status.busy": "2024-05-06T16:54:50.454684Z",
     "iopub.status.idle": "2024-05-06T16:54:50.458099Z",
     "shell.execute_reply": "2024-05-06T16:54:50.457489Z"
    },
    "papermill": {
     "duration": 0.009934,
     "end_time": "2024-05-06T16:54:50.459707",
     "exception": false,
     "start_time": "2024-05-06T16:54:50.449773",
     "status": "completed"
    },
    "tags": []
   },
   "outputs": [],
   "source": [
    "cellGroup = 'NK'\n",
    "workDir = os.getcwd()"
   ]
  },
  {
   "cell_type": "code",
   "execution_count": 6,
   "id": "2dee4d55-d168-467b-b867-a61fed9d6af1",
   "metadata": {
    "execution": {
     "iopub.execute_input": "2024-05-06T16:54:50.468449Z",
     "iopub.status.busy": "2024-05-06T16:54:50.467897Z",
     "iopub.status.idle": "2024-05-06T16:54:50.471504Z",
     "shell.execute_reply": "2024-05-06T16:54:50.470861Z"
    },
    "papermill": {
     "duration": 0.009866,
     "end_time": "2024-05-06T16:54:50.473118",
     "exception": false,
     "start_time": "2024-05-06T16:54:50.463252",
     "status": "completed"
    },
    "tags": []
   },
   "outputs": [],
   "source": [
    "annotationLevel = os.path.basename(os.path.normpath(workDir))"
   ]
  },
  {
   "cell_type": "code",
   "execution_count": 7,
   "id": "11e53cd5-b746-4152-89cb-c2f0c15d90b3",
   "metadata": {
    "execution": {
     "iopub.execute_input": "2024-05-06T16:54:50.481784Z",
     "iopub.status.busy": "2024-05-06T16:54:50.481536Z",
     "iopub.status.idle": "2024-05-06T16:54:50.485945Z",
     "shell.execute_reply": "2024-05-06T16:54:50.485355Z"
    },
    "papermill": {
     "duration": 0.010669,
     "end_time": "2024-05-06T16:54:50.487577",
     "exception": false,
     "start_time": "2024-05-06T16:54:50.476908",
     "status": "completed"
    },
    "tags": []
   },
   "outputs": [
    {
     "data": {
      "text/plain": [
       "'/home/jupyter/Inflammation-PBMCs-Atlas/02_cell_annotation/02_fromCellLineages_to_CellTypes/Step4'"
      ]
     },
     "execution_count": 7,
     "metadata": {},
     "output_type": "execute_result"
    }
   ],
   "source": [
    "workDir"
   ]
  },
  {
   "cell_type": "markdown",
   "id": "171d2f06-9a44-4fcb-b437-35dc546674b6",
   "metadata": {
    "papermill": {
     "duration": 0.003935,
     "end_time": "2024-05-06T16:54:50.495278",
     "exception": false,
     "start_time": "2024-05-06T16:54:50.491343",
     "status": "completed"
    },
    "tags": []
   },
   "source": [
    "**Load data**"
   ]
  },
  {
   "cell_type": "code",
   "execution_count": 8,
   "id": "429f34fe-dde6-4cc9-9f75-7de8f85c5ffe",
   "metadata": {
    "execution": {
     "iopub.execute_input": "2024-05-06T16:54:50.504481Z",
     "iopub.status.busy": "2024-05-06T16:54:50.504218Z",
     "iopub.status.idle": "2024-05-06T16:55:00.377327Z",
     "shell.execute_reply": "2024-05-06T16:55:00.376637Z"
    },
    "papermill": {
     "duration": 9.879972,
     "end_time": "2024-05-06T16:55:00.379227",
     "exception": false,
     "start_time": "2024-05-06T16:54:50.499255",
     "status": "completed"
    },
    "tags": []
   },
   "outputs": [
    {
     "data": {
      "text/plain": [
       "AnnData object with n_obs × n_vars = 376885 × 2437\n",
       "    obs: 'studyID', 'libraryID', 'sampleID', 'chemistry', 'technology', 'patientID', 'disease', 'timepoint_replicate', 'treatmentStatus', 'therapyResponse', 'sex', 'age', 'BMI', 'binned_age', 'diseaseStatus', 'smokingStatus', 'ethnicity', 'institute', 'diseaseGroup', 'n_genes_by_counts', 'log1p_n_genes_by_counts', 'total_counts', 'log1p_total_counts', 'pct_counts_in_top_20_genes', 'total_counts_mt', 'log1p_total_counts_mt', 'pct_counts_mt', 'total_counts_ribo', 'log1p_total_counts_ribo', 'pct_counts_ribo', 'total_counts_hb', 'log1p_total_counts_hb', 'pct_counts_hb', 'total_counts_plt', 'log1p_total_counts_plt', 'pct_counts_plt', 'doublet_score', 'predicted_doublet', 'S_score', 'G2M_score', 'phase'\n",
       "    var: 'hgnc_id', 'symbol', 'locus_group', 'HUGO_status', 'mt', 'ribo', 'hb', 'plt', 'n_cells_by_counts', 'mean_counts', 'log1p_mean_counts', 'pct_dropout_by_counts', 'total_counts', 'log1p_total_counts', 'highly_variable'\n",
       "    uns: 'chemistry_colors', 'log1p'\n",
       "    layers: 'counts', 'log1p_10e4_counts'"
      ]
     },
     "execution_count": 8,
     "metadata": {},
     "output_type": "execute_result"
    }
   ],
   "source": [
    "adata = sc.read_h5ad(here(f\"{workDir}/{cellGroup}/results/01_{cellGroup}_normalized_HVGsubset.h5ad\"))\n",
    "adata"
   ]
  },
  {
   "cell_type": "markdown",
   "id": "8ac79f3b-d5af-41fa-8904-1e9ac1cbe2fb",
   "metadata": {
    "papermill": {
     "duration": 0.004294,
     "end_time": "2024-05-06T16:55:00.387904",
     "exception": false,
     "start_time": "2024-05-06T16:55:00.383610",
     "status": "completed"
    },
    "tags": []
   },
   "source": [
    "## scVI integration"
   ]
  },
  {
   "cell_type": "markdown",
   "id": "9544847d-d17f-4811-b14b-760446d54d32",
   "metadata": {
    "execution": {
     "iopub.execute_input": "2024-03-25T16:49:04.004504Z",
     "iopub.status.busy": "2024-03-25T16:49:04.004143Z",
     "iopub.status.idle": "2024-03-25T16:49:04.010148Z",
     "shell.execute_reply": "2024-03-25T16:49:04.009146Z",
     "shell.execute_reply.started": "2024-03-25T16:49:04.004477Z"
    },
    "papermill": {
     "duration": 0.004219,
     "end_time": "2024-05-06T16:55:00.396363",
     "exception": false,
     "start_time": "2024-05-06T16:55:00.392144",
     "status": "completed"
    },
    "tags": []
   },
   "source": [
    "**scVI parameters**"
   ]
  },
  {
   "cell_type": "code",
   "execution_count": 9,
   "id": "208966eb-545a-4c02-854c-0ed0487ef5b3",
   "metadata": {
    "execution": {
     "iopub.execute_input": "2024-05-06T16:55:00.406211Z",
     "iopub.status.busy": "2024-05-06T16:55:00.405885Z",
     "iopub.status.idle": "2024-05-06T16:55:00.412099Z",
     "shell.execute_reply": "2024-05-06T16:55:00.411392Z"
    },
    "papermill": {
     "duration": 0.013286,
     "end_time": "2024-05-06T16:55:00.413727",
     "exception": false,
     "start_time": "2024-05-06T16:55:00.400441",
     "status": "completed"
    },
    "tags": []
   },
   "outputs": [],
   "source": [
    "# https://docs.scvi-tools.org/en/stable/api/reference/scvi.train.Trainer.html#scvi.train.Trainer\n",
    "setup_kwargs = dict(\n",
    "    layer=\"counts\", \n",
    "    batch_key='libraryID', \n",
    "    categorical_covariate_keys = ['studyID', 'chemistry', 'disease', 'sampleID'],\n",
    "    labels_key = 'chemistry'    \n",
    ")\n",
    "\n",
    "scvi_kwargs = dict(n_hidden=512,\n",
    "                   n_latent=10, # reduced to 20 after step 00 (main) and to 10 after step 03\n",
    "                   n_layers=2,\n",
    "                   gene_likelihood='nb',\n",
    "                   dispersion='gene-label')\n",
    "\n",
    "trainer_kwargs = dict(\n",
    "    checkpointing_monitor = 'elbo_validation',\n",
    "    early_stopping_monitor = 'reconstruction_loss_validation',\n",
    "    early_stopping_patience = 10,\n",
    "    early_stopping_min_delta=0.1,\n",
    "    early_stopping = True,\n",
    "    max_epochs = 1000,\n",
    "\n",
    "    #logger = # wandb\n",
    ")\n",
    "# https://docs.scvi-tools.org/en/stable/api/reference/scvi.train.TrainingPlan.html#scvi.train.TrainingPlan\n",
    "plan_kwargs = dict(\n",
    "    lr = 5e-4,\n",
    "    #reduce_lr_on_plateau = True\n",
    ")\n",
    "\n",
    "# https://docs.scvi-tools.org/en/stable/api/reference/scvi.module.VAE.html#scvi.module.VAE\n",
    "#vae = dict(\n",
    "#    use_layer_norm='both',\n",
    "#    use_batch_norm='none',\n",
    "#    encode_covariates=True,\n",
    "#    deeply_inject_covariates=False\n",
    "#)\n",
    "parameter_dict = setup_kwargs | scvi_kwargs | trainer_kwargs | plan_kwargs"
   ]
  },
  {
   "cell_type": "markdown",
   "id": "1362366a-c16b-4c11-964b-b9c5f82f7b29",
   "metadata": {
    "papermill": {
     "duration": 0.004181,
     "end_time": "2024-05-06T16:55:00.422125",
     "exception": false,
     "start_time": "2024-05-06T16:55:00.417944",
     "status": "completed"
    },
    "tags": []
   },
   "source": [
    "**wandb parameter**"
   ]
  },
  {
   "cell_type": "code",
   "execution_count": 10,
   "id": "0496e33a-8ca5-423f-b42f-34a59760708c",
   "metadata": {
    "execution": {
     "iopub.execute_input": "2024-05-06T16:55:00.432687Z",
     "iopub.status.busy": "2024-05-06T16:55:00.431970Z",
     "iopub.status.idle": "2024-05-06T16:55:00.436885Z",
     "shell.execute_reply": "2024-05-06T16:55:00.436268Z"
    },
    "papermill": {
     "duration": 0.012039,
     "end_time": "2024-05-06T16:55:00.438635",
     "exception": false,
     "start_time": "2024-05-06T16:55:00.426596",
     "status": "completed"
    },
    "tags": []
   },
   "outputs": [
    {
     "data": {
      "text/plain": [
       "'Step4_NK'"
      ]
     },
     "execution_count": 10,
     "metadata": {},
     "output_type": "execute_result"
    }
   ],
   "source": [
    "run_name = f\"{annotationLevel}_{cellGroup}\"\n",
    "run_name"
   ]
  },
  {
   "cell_type": "code",
   "execution_count": 11,
   "id": "b0021327-95a2-4002-bf32-2c5779a99505",
   "metadata": {
    "execution": {
     "iopub.execute_input": "2024-05-06T16:55:00.448964Z",
     "iopub.status.busy": "2024-05-06T16:55:00.448254Z",
     "iopub.status.idle": "2024-05-06T16:55:00.593404Z",
     "shell.execute_reply": "2024-05-06T16:55:00.592696Z"
    },
    "papermill": {
     "duration": 0.152771,
     "end_time": "2024-05-06T16:55:00.595668",
     "exception": false,
     "start_time": "2024-05-06T16:55:00.442897",
     "status": "completed"
    },
    "tags": []
   },
   "outputs": [],
   "source": [
    "logger = CustomWandbLogger(name = run_name, project='inflammation_atlas_R1', config=parameter_dict)"
   ]
  },
  {
   "cell_type": "markdown",
   "id": "c237eee1-a976-4915-9b7f-b014bf33f47d",
   "metadata": {
    "papermill": {
     "duration": 0.004516,
     "end_time": "2024-05-06T16:55:00.604975",
     "exception": false,
     "start_time": "2024-05-06T16:55:00.600459",
     "status": "completed"
    },
    "tags": []
   },
   "source": [
    "**Running integration**"
   ]
  },
  {
   "cell_type": "code",
   "execution_count": 12,
   "id": "aff97c53-1aba-462e-8a77-f1aec9cf724c",
   "metadata": {
    "execution": {
     "iopub.execute_input": "2024-05-06T16:55:00.615487Z",
     "iopub.status.busy": "2024-05-06T16:55:00.615167Z",
     "iopub.status.idle": "2024-05-06T16:55:01.173201Z",
     "shell.execute_reply": "2024-05-06T16:55:01.172269Z"
    },
    "papermill": {
     "duration": 0.565941,
     "end_time": "2024-05-06T16:55:01.175463",
     "exception": false,
     "start_time": "2024-05-06T16:55:00.609522",
     "status": "completed"
    },
    "tags": []
   },
   "outputs": [],
   "source": [
    "scvi.model.SCVI.setup_anndata(adata, \n",
    "                              **setup_kwargs)"
   ]
  },
  {
   "cell_type": "code",
   "execution_count": 13,
   "id": "1a56f448-cf44-47c1-81a4-a89caa930fec",
   "metadata": {
    "execution": {
     "iopub.execute_input": "2024-05-06T16:55:01.186346Z",
     "iopub.status.busy": "2024-05-06T16:55:01.186020Z",
     "iopub.status.idle": "2024-05-06T16:55:01.782799Z",
     "shell.execute_reply": "2024-05-06T16:55:01.782024Z"
    },
    "papermill": {
     "duration": 0.604659,
     "end_time": "2024-05-06T16:55:01.784951",
     "exception": false,
     "start_time": "2024-05-06T16:55:01.180292",
     "status": "completed"
    },
    "tags": []
   },
   "outputs": [],
   "source": [
    "model = scvi.model.SCVI(adata, **scvi_kwargs)"
   ]
  },
  {
   "cell_type": "code",
   "execution_count": 14,
   "id": "2735f010-4f24-4ae8-9740-a8cfeb335e9a",
   "metadata": {
    "execution": {
     "iopub.execute_input": "2024-05-06T16:55:01.795675Z",
     "iopub.status.busy": "2024-05-06T16:55:01.795358Z",
     "iopub.status.idle": "2024-05-06T17:12:02.414880Z",
     "shell.execute_reply": "2024-05-06T17:12:02.413756Z"
    },
    "papermill": {
     "duration": 1020.627303,
     "end_time": "2024-05-06T17:12:02.416897",
     "exception": false,
     "start_time": "2024-05-06T16:55:01.789594",
     "status": "completed"
    },
    "tags": []
   },
   "outputs": [
    {
     "name": "stderr",
     "output_type": "stream",
     "text": [
      "GPU available: True (cuda), used: True\n"
     ]
    },
    {
     "name": "stderr",
     "output_type": "stream",
     "text": [
      "TPU available: False, using: 0 TPU cores\n"
     ]
    },
    {
     "name": "stderr",
     "output_type": "stream",
     "text": [
      "IPU available: False, using: 0 IPUs\n"
     ]
    },
    {
     "name": "stderr",
     "output_type": "stream",
     "text": [
      "HPU available: False, using: 0 HPUs\n"
     ]
    },
    {
     "name": "stderr",
     "output_type": "stream",
     "text": [
      "\u001b[34m\u001b[1mwandb\u001b[0m: Currently logged in as: \u001b[33mdav1989\u001b[0m (\u001b[33minflammation\u001b[0m). Use \u001b[1m`wandb login --relogin`\u001b[0m to force relogin\n"
     ]
    },
    {
     "name": "stderr",
     "output_type": "stream",
     "text": [
      "\u001b[34m\u001b[1mwandb\u001b[0m: wandb version 0.16.6 is available!  To upgrade, please run:\n",
      "\u001b[34m\u001b[1mwandb\u001b[0m:  $ pip install wandb --upgrade\n"
     ]
    },
    {
     "name": "stderr",
     "output_type": "stream",
     "text": [
      "\u001b[34m\u001b[1mwandb\u001b[0m: Tracking run with wandb version 0.16.3\n"
     ]
    },
    {
     "name": "stderr",
     "output_type": "stream",
     "text": [
      "\u001b[34m\u001b[1mwandb\u001b[0m: Run data is saved locally in \u001b[35m\u001b[1m./wandb/run-20240506_165506-uohc3i4n\u001b[0m\n",
      "\u001b[34m\u001b[1mwandb\u001b[0m: Run \u001b[1m`wandb offline`\u001b[0m to turn off syncing.\n"
     ]
    },
    {
     "name": "stderr",
     "output_type": "stream",
     "text": [
      "\u001b[34m\u001b[1mwandb\u001b[0m: Syncing run \u001b[33mStep4_NK\u001b[0m\n"
     ]
    },
    {
     "name": "stderr",
     "output_type": "stream",
     "text": [
      "\u001b[34m\u001b[1mwandb\u001b[0m: ⭐️ View project at \u001b[34m\u001b[4mhttps://wandb.ai/inflammation/inflammation_atlas_R1\u001b[0m\n"
     ]
    },
    {
     "name": "stderr",
     "output_type": "stream",
     "text": [
      "\u001b[34m\u001b[1mwandb\u001b[0m: 🚀 View run at \u001b[34m\u001b[4mhttps://wandb.ai/inflammation/inflammation_atlas_R1/runs/uohc3i4n\u001b[0m\n"
     ]
    },
    {
     "name": "stderr",
     "output_type": "stream",
     "text": [
      "LOCAL_RANK: 0 - CUDA_VISIBLE_DEVICES: [0]\n"
     ]
    },
    {
     "name": "stdout",
     "output_type": "stream",
     "text": [
      "\r",
      "Training:   0%|          | 0/1000 [00:00<?, ?it/s]"
     ]
    },
    {
     "name": "stdout",
     "output_type": "stream",
     "text": [
      "\r",
      "Epoch 1/1000:   0%|          | 0/1000 [00:00<?, ?it/s]"
     ]
    },
    {
     "name": "stdout",
     "output_type": "stream",
     "text": [
      "\r",
      "Epoch 1/1000:   0%|          | 1/1000 [00:40<11:21:13, 40.91s/it]"
     ]
    },
    {
     "name": "stdout",
     "output_type": "stream",
     "text": [
      "\r",
      "Epoch 1/1000:   0%|          | 1/1000 [00:40<11:21:13, 40.91s/it, v_num=3i4n, train_loss_step=728, train_loss_epoch=766]"
     ]
    },
    {
     "name": "stdout",
     "output_type": "stream",
     "text": [
      "\r",
      "Epoch 2/1000:   0%|          | 1/1000 [00:40<11:21:13, 40.91s/it, v_num=3i4n, train_loss_step=728, train_loss_epoch=766]"
     ]
    },
    {
     "name": "stdout",
     "output_type": "stream",
     "text": [
      "\r",
      "Epoch 2/1000:   0%|          | 2/1000 [01:20<11:09:18, 40.24s/it, v_num=3i4n, train_loss_step=728, train_loss_epoch=766]"
     ]
    },
    {
     "name": "stdout",
     "output_type": "stream",
     "text": [
      "\r",
      "Epoch 2/1000:   0%|          | 2/1000 [01:20<11:09:18, 40.24s/it, v_num=3i4n, train_loss_step=749, train_loss_epoch=750]"
     ]
    },
    {
     "name": "stdout",
     "output_type": "stream",
     "text": [
      "\r",
      "Epoch 3/1000:   0%|          | 2/1000 [01:20<11:09:18, 40.24s/it, v_num=3i4n, train_loss_step=749, train_loss_epoch=750]"
     ]
    },
    {
     "name": "stdout",
     "output_type": "stream",
     "text": [
      "\r",
      "Epoch 3/1000:   0%|          | 3/1000 [02:00<11:04:00, 39.96s/it, v_num=3i4n, train_loss_step=749, train_loss_epoch=750]"
     ]
    },
    {
     "name": "stdout",
     "output_type": "stream",
     "text": [
      "\r",
      "Epoch 3/1000:   0%|          | 3/1000 [02:00<11:04:00, 39.96s/it, v_num=3i4n, train_loss_step=757, train_loss_epoch=745]"
     ]
    },
    {
     "name": "stdout",
     "output_type": "stream",
     "text": [
      "\r",
      "Epoch 4/1000:   0%|          | 3/1000 [02:00<11:04:00, 39.96s/it, v_num=3i4n, train_loss_step=757, train_loss_epoch=745]"
     ]
    },
    {
     "name": "stdout",
     "output_type": "stream",
     "text": [
      "\r",
      "Epoch 4/1000:   0%|          | 4/1000 [02:38<10:52:46, 39.32s/it, v_num=3i4n, train_loss_step=757, train_loss_epoch=745]"
     ]
    },
    {
     "name": "stdout",
     "output_type": "stream",
     "text": [
      "\r",
      "Epoch 4/1000:   0%|          | 4/1000 [02:38<10:52:46, 39.32s/it, v_num=3i4n, train_loss_step=742, train_loss_epoch=743]"
     ]
    },
    {
     "name": "stdout",
     "output_type": "stream",
     "text": [
      "\r",
      "Epoch 5/1000:   0%|          | 4/1000 [02:38<10:52:46, 39.32s/it, v_num=3i4n, train_loss_step=742, train_loss_epoch=743]"
     ]
    },
    {
     "name": "stdout",
     "output_type": "stream",
     "text": [
      "\r",
      "Epoch 5/1000:   0%|          | 5/1000 [03:17<10:51:47, 39.30s/it, v_num=3i4n, train_loss_step=742, train_loss_epoch=743]"
     ]
    },
    {
     "name": "stdout",
     "output_type": "stream",
     "text": [
      "\r",
      "Epoch 5/1000:   0%|          | 5/1000 [03:17<10:51:47, 39.30s/it, v_num=3i4n, train_loss_step=719, train_loss_epoch=742]"
     ]
    },
    {
     "name": "stdout",
     "output_type": "stream",
     "text": [
      "\r",
      "Epoch 6/1000:   0%|          | 5/1000 [03:17<10:51:47, 39.30s/it, v_num=3i4n, train_loss_step=719, train_loss_epoch=742]"
     ]
    },
    {
     "name": "stdout",
     "output_type": "stream",
     "text": [
      "\r",
      "Epoch 6/1000:   1%|          | 6/1000 [03:56<10:49:34, 39.21s/it, v_num=3i4n, train_loss_step=719, train_loss_epoch=742]"
     ]
    },
    {
     "name": "stdout",
     "output_type": "stream",
     "text": [
      "\r",
      "Epoch 6/1000:   1%|          | 6/1000 [03:56<10:49:34, 39.21s/it, v_num=3i4n, train_loss_step=738, train_loss_epoch=741]"
     ]
    },
    {
     "name": "stdout",
     "output_type": "stream",
     "text": [
      "\r",
      "Epoch 7/1000:   1%|          | 6/1000 [03:56<10:49:34, 39.21s/it, v_num=3i4n, train_loss_step=738, train_loss_epoch=741]"
     ]
    },
    {
     "name": "stdout",
     "output_type": "stream",
     "text": [
      "\r",
      "Epoch 7/1000:   1%|          | 7/1000 [04:35<10:43:47, 38.90s/it, v_num=3i4n, train_loss_step=738, train_loss_epoch=741]"
     ]
    },
    {
     "name": "stdout",
     "output_type": "stream",
     "text": [
      "\r",
      "Epoch 7/1000:   1%|          | 7/1000 [04:35<10:43:47, 38.90s/it, v_num=3i4n, train_loss_step=711, train_loss_epoch=740]"
     ]
    },
    {
     "name": "stdout",
     "output_type": "stream",
     "text": [
      "\r",
      "Epoch 8/1000:   1%|          | 7/1000 [04:35<10:43:47, 38.90s/it, v_num=3i4n, train_loss_step=711, train_loss_epoch=740]"
     ]
    },
    {
     "name": "stdout",
     "output_type": "stream",
     "text": [
      "\r",
      "Epoch 8/1000:   1%|          | 8/1000 [05:14<10:45:40, 39.05s/it, v_num=3i4n, train_loss_step=711, train_loss_epoch=740]"
     ]
    },
    {
     "name": "stdout",
     "output_type": "stream",
     "text": [
      "\r",
      "Epoch 8/1000:   1%|          | 8/1000 [05:14<10:45:40, 39.05s/it, v_num=3i4n, train_loss_step=759, train_loss_epoch=740]"
     ]
    },
    {
     "name": "stdout",
     "output_type": "stream",
     "text": [
      "\r",
      "Epoch 9/1000:   1%|          | 8/1000 [05:14<10:45:40, 39.05s/it, v_num=3i4n, train_loss_step=759, train_loss_epoch=740]"
     ]
    },
    {
     "name": "stdout",
     "output_type": "stream",
     "text": [
      "\r",
      "Epoch 9/1000:   1%|          | 9/1000 [05:53<10:44:09, 39.00s/it, v_num=3i4n, train_loss_step=759, train_loss_epoch=740]"
     ]
    },
    {
     "name": "stdout",
     "output_type": "stream",
     "text": [
      "\r",
      "Epoch 9/1000:   1%|          | 9/1000 [05:53<10:44:09, 39.00s/it, v_num=3i4n, train_loss_step=743, train_loss_epoch=739]"
     ]
    },
    {
     "name": "stdout",
     "output_type": "stream",
     "text": [
      "\r",
      "Epoch 10/1000:   1%|          | 9/1000 [05:53<10:44:09, 39.00s/it, v_num=3i4n, train_loss_step=743, train_loss_epoch=739]"
     ]
    },
    {
     "name": "stdout",
     "output_type": "stream",
     "text": [
      "\r",
      "Epoch 10/1000:   1%|          | 10/1000 [06:31<10:40:12, 38.80s/it, v_num=3i4n, train_loss_step=743, train_loss_epoch=739]"
     ]
    },
    {
     "name": "stdout",
     "output_type": "stream",
     "text": [
      "\r",
      "Epoch 10/1000:   1%|          | 10/1000 [06:31<10:40:12, 38.80s/it, v_num=3i4n, train_loss_step=746, train_loss_epoch=739]"
     ]
    },
    {
     "name": "stdout",
     "output_type": "stream",
     "text": [
      "\r",
      "Epoch 11/1000:   1%|          | 10/1000 [06:31<10:40:12, 38.80s/it, v_num=3i4n, train_loss_step=746, train_loss_epoch=739]"
     ]
    },
    {
     "name": "stdout",
     "output_type": "stream",
     "text": [
      "\r",
      "Epoch 11/1000:   1%|          | 11/1000 [07:10<10:40:28, 38.86s/it, v_num=3i4n, train_loss_step=746, train_loss_epoch=739]"
     ]
    },
    {
     "name": "stdout",
     "output_type": "stream",
     "text": [
      "\r",
      "Epoch 11/1000:   1%|          | 11/1000 [07:10<10:40:28, 38.86s/it, v_num=3i4n, train_loss_step=699, train_loss_epoch=739]"
     ]
    },
    {
     "name": "stdout",
     "output_type": "stream",
     "text": [
      "\r",
      "Epoch 12/1000:   1%|          | 11/1000 [07:10<10:40:28, 38.86s/it, v_num=3i4n, train_loss_step=699, train_loss_epoch=739]"
     ]
    },
    {
     "name": "stdout",
     "output_type": "stream",
     "text": [
      "\r",
      "Epoch 12/1000:   1%|          | 12/1000 [07:49<10:40:48, 38.91s/it, v_num=3i4n, train_loss_step=699, train_loss_epoch=739]"
     ]
    },
    {
     "name": "stdout",
     "output_type": "stream",
     "text": [
      "\r",
      "Epoch 12/1000:   1%|          | 12/1000 [07:49<10:40:48, 38.91s/it, v_num=3i4n, train_loss_step=735, train_loss_epoch=739]"
     ]
    },
    {
     "name": "stdout",
     "output_type": "stream",
     "text": [
      "\r",
      "Epoch 13/1000:   1%|          | 12/1000 [07:49<10:40:48, 38.91s/it, v_num=3i4n, train_loss_step=735, train_loss_epoch=739]"
     ]
    },
    {
     "name": "stdout",
     "output_type": "stream",
     "text": [
      "\r",
      "Epoch 13/1000:   1%|▏         | 13/1000 [08:28<10:37:42, 38.77s/it, v_num=3i4n, train_loss_step=735, train_loss_epoch=739]"
     ]
    },
    {
     "name": "stdout",
     "output_type": "stream",
     "text": [
      "\r",
      "Epoch 13/1000:   1%|▏         | 13/1000 [08:28<10:37:42, 38.77s/it, v_num=3i4n, train_loss_step=710, train_loss_epoch=738]"
     ]
    },
    {
     "name": "stdout",
     "output_type": "stream",
     "text": [
      "\r",
      "Epoch 14/1000:   1%|▏         | 13/1000 [08:28<10:37:42, 38.77s/it, v_num=3i4n, train_loss_step=710, train_loss_epoch=738]"
     ]
    },
    {
     "name": "stdout",
     "output_type": "stream",
     "text": [
      "\r",
      "Epoch 14/1000:   1%|▏         | 14/1000 [09:07<10:39:15, 38.90s/it, v_num=3i4n, train_loss_step=710, train_loss_epoch=738]"
     ]
    },
    {
     "name": "stdout",
     "output_type": "stream",
     "text": [
      "\r",
      "Epoch 14/1000:   1%|▏         | 14/1000 [09:07<10:39:15, 38.90s/it, v_num=3i4n, train_loss_step=718, train_loss_epoch=738]"
     ]
    },
    {
     "name": "stdout",
     "output_type": "stream",
     "text": [
      "\r",
      "Epoch 15/1000:   1%|▏         | 14/1000 [09:07<10:39:15, 38.90s/it, v_num=3i4n, train_loss_step=718, train_loss_epoch=738]"
     ]
    },
    {
     "name": "stdout",
     "output_type": "stream",
     "text": [
      "\r",
      "Epoch 15/1000:   2%|▏         | 15/1000 [09:46<10:39:04, 38.93s/it, v_num=3i4n, train_loss_step=718, train_loss_epoch=738]"
     ]
    },
    {
     "name": "stdout",
     "output_type": "stream",
     "text": [
      "\r",
      "Epoch 15/1000:   2%|▏         | 15/1000 [09:46<10:39:04, 38.93s/it, v_num=3i4n, train_loss_step=762, train_loss_epoch=738]"
     ]
    },
    {
     "name": "stdout",
     "output_type": "stream",
     "text": [
      "\r",
      "Epoch 16/1000:   2%|▏         | 15/1000 [09:46<10:39:04, 38.93s/it, v_num=3i4n, train_loss_step=762, train_loss_epoch=738]"
     ]
    },
    {
     "name": "stdout",
     "output_type": "stream",
     "text": [
      "\r",
      "Epoch 16/1000:   2%|▏         | 16/1000 [10:24<10:36:01, 38.78s/it, v_num=3i4n, train_loss_step=762, train_loss_epoch=738]"
     ]
    },
    {
     "name": "stdout",
     "output_type": "stream",
     "text": [
      "\r",
      "Epoch 16/1000:   2%|▏         | 16/1000 [10:24<10:36:01, 38.78s/it, v_num=3i4n, train_loss_step=764, train_loss_epoch=738]"
     ]
    },
    {
     "name": "stdout",
     "output_type": "stream",
     "text": [
      "\r",
      "Epoch 17/1000:   2%|▏         | 16/1000 [10:24<10:36:01, 38.78s/it, v_num=3i4n, train_loss_step=764, train_loss_epoch=738]"
     ]
    },
    {
     "name": "stdout",
     "output_type": "stream",
     "text": [
      "\r",
      "Epoch 17/1000:   2%|▏         | 17/1000 [11:04<10:36:49, 38.87s/it, v_num=3i4n, train_loss_step=764, train_loss_epoch=738]"
     ]
    },
    {
     "name": "stdout",
     "output_type": "stream",
     "text": [
      "\r",
      "Epoch 17/1000:   2%|▏         | 17/1000 [11:04<10:36:49, 38.87s/it, v_num=3i4n, train_loss_step=746, train_loss_epoch=738]"
     ]
    },
    {
     "name": "stdout",
     "output_type": "stream",
     "text": [
      "\r",
      "Epoch 18/1000:   2%|▏         | 17/1000 [11:04<10:36:49, 38.87s/it, v_num=3i4n, train_loss_step=746, train_loss_epoch=738]"
     ]
    },
    {
     "name": "stdout",
     "output_type": "stream",
     "text": [
      "\r",
      "Epoch 18/1000:   2%|▏         | 18/1000 [11:42<10:36:30, 38.89s/it, v_num=3i4n, train_loss_step=746, train_loss_epoch=738]"
     ]
    },
    {
     "name": "stdout",
     "output_type": "stream",
     "text": [
      "\r",
      "Epoch 18/1000:   2%|▏         | 18/1000 [11:42<10:36:30, 38.89s/it, v_num=3i4n, train_loss_step=710, train_loss_epoch=738]"
     ]
    },
    {
     "name": "stdout",
     "output_type": "stream",
     "text": [
      "\r",
      "Epoch 19/1000:   2%|▏         | 18/1000 [11:42<10:36:30, 38.89s/it, v_num=3i4n, train_loss_step=710, train_loss_epoch=738]"
     ]
    },
    {
     "name": "stdout",
     "output_type": "stream",
     "text": [
      "\r",
      "Epoch 19/1000:   2%|▏         | 19/1000 [12:21<10:35:46, 38.88s/it, v_num=3i4n, train_loss_step=710, train_loss_epoch=738]"
     ]
    },
    {
     "name": "stdout",
     "output_type": "stream",
     "text": [
      "\r",
      "Epoch 19/1000:   2%|▏         | 19/1000 [12:21<10:35:46, 38.88s/it, v_num=3i4n, train_loss_step=744, train_loss_epoch=738]"
     ]
    },
    {
     "name": "stdout",
     "output_type": "stream",
     "text": [
      "\r",
      "Epoch 20/1000:   2%|▏         | 19/1000 [12:21<10:35:46, 38.88s/it, v_num=3i4n, train_loss_step=744, train_loss_epoch=738]"
     ]
    },
    {
     "name": "stdout",
     "output_type": "stream",
     "text": [
      "\r",
      "Epoch 20/1000:   2%|▏         | 20/1000 [13:01<10:37:58, 39.06s/it, v_num=3i4n, train_loss_step=744, train_loss_epoch=738]"
     ]
    },
    {
     "name": "stdout",
     "output_type": "stream",
     "text": [
      "\r",
      "Epoch 20/1000:   2%|▏         | 20/1000 [13:01<10:37:58, 39.06s/it, v_num=3i4n, train_loss_step=704, train_loss_epoch=738]"
     ]
    },
    {
     "name": "stdout",
     "output_type": "stream",
     "text": [
      "\r",
      "Epoch 21/1000:   2%|▏         | 20/1000 [13:01<10:37:58, 39.06s/it, v_num=3i4n, train_loss_step=704, train_loss_epoch=738]"
     ]
    },
    {
     "name": "stdout",
     "output_type": "stream",
     "text": [
      "\r",
      "Epoch 21/1000:   2%|▏         | 21/1000 [13:39<10:32:47, 38.78s/it, v_num=3i4n, train_loss_step=704, train_loss_epoch=738]"
     ]
    },
    {
     "name": "stdout",
     "output_type": "stream",
     "text": [
      "\r",
      "Epoch 21/1000:   2%|▏         | 21/1000 [13:39<10:32:47, 38.78s/it, v_num=3i4n, train_loss_step=721, train_loss_epoch=738]"
     ]
    },
    {
     "name": "stdout",
     "output_type": "stream",
     "text": [
      "\r",
      "Epoch 22/1000:   2%|▏         | 21/1000 [13:39<10:32:47, 38.78s/it, v_num=3i4n, train_loss_step=721, train_loss_epoch=738]"
     ]
    },
    {
     "name": "stdout",
     "output_type": "stream",
     "text": [
      "\r",
      "Epoch 22/1000:   2%|▏         | 22/1000 [14:18<10:34:39, 38.94s/it, v_num=3i4n, train_loss_step=721, train_loss_epoch=738]"
     ]
    },
    {
     "name": "stdout",
     "output_type": "stream",
     "text": [
      "\r",
      "Epoch 22/1000:   2%|▏         | 22/1000 [14:18<10:34:39, 38.94s/it, v_num=3i4n, train_loss_step=744, train_loss_epoch=738]"
     ]
    },
    {
     "name": "stdout",
     "output_type": "stream",
     "text": [
      "\r",
      "Epoch 23/1000:   2%|▏         | 22/1000 [14:18<10:34:39, 38.94s/it, v_num=3i4n, train_loss_step=744, train_loss_epoch=738]"
     ]
    },
    {
     "name": "stdout",
     "output_type": "stream",
     "text": [
      "\r",
      "Epoch 23/1000:   2%|▏         | 23/1000 [14:57<10:35:39, 39.04s/it, v_num=3i4n, train_loss_step=744, train_loss_epoch=738]"
     ]
    },
    {
     "name": "stdout",
     "output_type": "stream",
     "text": [
      "\r",
      "Epoch 23/1000:   2%|▏         | 23/1000 [14:57<10:35:39, 39.04s/it, v_num=3i4n, train_loss_step=763, train_loss_epoch=737]"
     ]
    },
    {
     "name": "stdout",
     "output_type": "stream",
     "text": [
      "\r",
      "Epoch 24/1000:   2%|▏         | 23/1000 [14:57<10:35:39, 39.04s/it, v_num=3i4n, train_loss_step=763, train_loss_epoch=737]"
     ]
    },
    {
     "name": "stdout",
     "output_type": "stream",
     "text": [
      "\r",
      "Epoch 24/1000:   2%|▏         | 24/1000 [15:36<10:30:47, 38.78s/it, v_num=3i4n, train_loss_step=763, train_loss_epoch=737]"
     ]
    },
    {
     "name": "stdout",
     "output_type": "stream",
     "text": [
      "\r",
      "Epoch 24/1000:   2%|▏         | 24/1000 [15:36<10:30:47, 38.78s/it, v_num=3i4n, train_loss_step=718, train_loss_epoch=737]"
     ]
    },
    {
     "name": "stdout",
     "output_type": "stream",
     "text": [
      "\r",
      "Epoch 25/1000:   2%|▏         | 24/1000 [15:36<10:30:47, 38.78s/it, v_num=3i4n, train_loss_step=718, train_loss_epoch=737]"
     ]
    },
    {
     "name": "stdout",
     "output_type": "stream",
     "text": [
      "\r",
      "Epoch 25/1000:   2%|▎         | 25/1000 [16:15<10:32:31, 38.92s/it, v_num=3i4n, train_loss_step=718, train_loss_epoch=737]"
     ]
    },
    {
     "name": "stdout",
     "output_type": "stream",
     "text": [
      "\r",
      "Epoch 25/1000:   2%|▎         | 25/1000 [16:15<10:32:31, 38.92s/it, v_num=3i4n, train_loss_step=766, train_loss_epoch=737]"
     ]
    },
    {
     "name": "stdout",
     "output_type": "stream",
     "text": [
      "\r",
      "Epoch 26/1000:   2%|▎         | 25/1000 [16:15<10:32:31, 38.92s/it, v_num=3i4n, train_loss_step=766, train_loss_epoch=737]"
     ]
    },
    {
     "name": "stdout",
     "output_type": "stream",
     "text": [
      "\r",
      "Epoch 26/1000:   3%|▎         | 26/1000 [16:54<10:33:19, 39.01s/it, v_num=3i4n, train_loss_step=766, train_loss_epoch=737]"
     ]
    },
    {
     "name": "stdout",
     "output_type": "stream",
     "text": [
      "\r",
      "Epoch 26/1000:   3%|▎         | 26/1000 [16:54<10:33:19, 39.01s/it, v_num=3i4n, train_loss_step=720, train_loss_epoch=737]"
     ]
    },
    {
     "name": "stdout",
     "output_type": "stream",
     "text": [
      "\r",
      "Epoch 26/1000:   3%|▎         | 26/1000 [16:54<10:33:30, 39.03s/it, v_num=3i4n, train_loss_step=720, train_loss_epoch=737]"
     ]
    },
    {
     "name": "stdout",
     "output_type": "stream",
     "text": [
      "\n",
      "Monitored metric reconstruction_loss_validation did not improve in the last 10 records. Best score: 739.499. Signaling Trainer to stop.\n"
     ]
    }
   ],
   "source": [
    "model.train(logger=logger, plan_kwargs = plan_kwargs, **trainer_kwargs)"
   ]
  },
  {
   "cell_type": "code",
   "execution_count": 15,
   "id": "c282f6eb-0ad1-40a5-81e6-1acda1545dad",
   "metadata": {
    "execution": {
     "iopub.execute_input": "2024-05-06T17:12:02.481544Z",
     "iopub.status.busy": "2024-05-06T17:12:02.481148Z",
     "iopub.status.idle": "2024-05-06T17:12:08.170596Z",
     "shell.execute_reply": "2024-05-06T17:12:08.169835Z"
    },
    "papermill": {
     "duration": 5.746168,
     "end_time": "2024-05-06T17:12:08.172702",
     "exception": false,
     "start_time": "2024-05-06T17:12:02.426534",
     "status": "completed"
    },
    "tags": []
   },
   "outputs": [
    {
     "name": "stderr",
     "output_type": "stream",
     "text": [
      "\u001b[34m\u001b[1mwandb\u001b[0m: - 0.003 MB of 0.003 MB uploaded\r"
     ]
    },
    {
     "name": "stderr",
     "output_type": "stream",
     "text": [
      "\u001b[34m\u001b[1mwandb\u001b[0m: \\ 0.003 MB of 0.009 MB uploaded\r"
     ]
    },
    {
     "name": "stderr",
     "output_type": "stream",
     "text": [
      "\u001b[34m\u001b[1mwandb\u001b[0m: | 0.003 MB of 0.009 MB uploaded\r"
     ]
    },
    {
     "name": "stderr",
     "output_type": "stream",
     "text": [
      "\u001b[34m\u001b[1mwandb\u001b[0m: / 0.009 MB of 0.009 MB uploaded\r"
     ]
    },
    {
     "name": "stderr",
     "output_type": "stream",
     "text": [
      "\u001b[34m\u001b[1mwandb\u001b[0m:                                                                                \n"
     ]
    },
    {
     "name": "stderr",
     "output_type": "stream",
     "text": [
      "\u001b[34m\u001b[1mwandb\u001b[0m: \n",
      "\u001b[34m\u001b[1mwandb\u001b[0m: Run history:\n",
      "\u001b[34m\u001b[1mwandb\u001b[0m:                     elbo_train █▆▅▄▃▃▃▂▂▂▂▂▂▂▂▂▁▁▁▁▁▁▁▁▁▁\n",
      "\u001b[34m\u001b[1mwandb\u001b[0m:                elbo_validation █▆▅▄▃▃▃▂▂▂▂▂▂▂▂▂▁▁▁▁▁▁▁▁▁▁\n",
      "\u001b[34m\u001b[1mwandb\u001b[0m:                          epoch ▁▁▁▂▂▂▂▂▂▂▃▃▃▃▄▄▄▄▄▄▅▅▅▅▅▅▆▆▆▆▆▇▇▇▇▇▇███\n",
      "\u001b[34m\u001b[1mwandb\u001b[0m:                kl_global_train ▁▁▁▁▁▁▁▁▁▁▁▁▁▁▁▁▁▁▁▁▁▁▁▁▁▁\n",
      "\u001b[34m\u001b[1mwandb\u001b[0m:           kl_global_validation ▁▁▁▁▁▁▁▁▁▁▁▁▁▁▁▁▁▁▁▁▁▁▁▁▁▁\n",
      "\u001b[34m\u001b[1mwandb\u001b[0m:                 kl_local_train ██▇▅▄▄▄▃▃▃▃▃▂▂▂▂▂▂▂▂▁▁▁▁▁▁\n",
      "\u001b[34m\u001b[1mwandb\u001b[0m:            kl_local_validation █▇▆▅▄▄▃▃▃▃▃▂▂▂▂▂▂▂▂▂▁▁▁▁▁▁\n",
      "\u001b[34m\u001b[1mwandb\u001b[0m:                      kl_weight ▁▁▁▂▂▂▂▂▂▃▃▃▃▃▄▄▄▄▄▄▅▅▅▅▅▅▆▆▆▆▆▇▇▇▇▇▇███\n",
      "\u001b[34m\u001b[1mwandb\u001b[0m:      reconstruction_loss_train █▄▃▃▂▂▂▂▂▂▂▁▁▁▁▁▁▁▁▁▁▁▁▁▁▁\n",
      "\u001b[34m\u001b[1mwandb\u001b[0m: reconstruction_loss_validation █▅▃▂▂▂▂▁▁▁▁▁▁▁▁▁▁▁▁▁▁▁▁▁▁▁\n",
      "\u001b[34m\u001b[1mwandb\u001b[0m:               train_loss_epoch █▄▃▂▂▂▂▂▁▁▁▁▁▁▁▁▁▁▁▁▁▁▁▁▁▁\n",
      "\u001b[34m\u001b[1mwandb\u001b[0m:                train_loss_step █▇▆▆▃█▅▁▄▅▇▃▁█▅▅▅▄▂▆▃▄▆▂▆▅▃▆▅▄▃▆▄▄▆▄▄▂▆▄\n",
      "\u001b[34m\u001b[1mwandb\u001b[0m:            trainer/global_step ▁▁▁▂▂▂▂▂▂▃▃▃▃▃▃▄▄▄▄▄▅▅▅▅▅▅▆▆▆▆▆▇▇▇▇▇▇███\n",
      "\u001b[34m\u001b[1mwandb\u001b[0m:                validation_loss █▄▃▂▂▁▁▁▁▁▁▁▁▁▁▁▁▁▁▁▁▁▁▁▁▁\n",
      "\u001b[34m\u001b[1mwandb\u001b[0m: \n",
      "\u001b[34m\u001b[1mwandb\u001b[0m: Run summary:\n",
      "\u001b[34m\u001b[1mwandb\u001b[0m:                     elbo_train 760.76801\n",
      "\u001b[34m\u001b[1mwandb\u001b[0m:                elbo_validation 763.92072\n",
      "\u001b[34m\u001b[1mwandb\u001b[0m:                          epoch 25\n",
      "\u001b[34m\u001b[1mwandb\u001b[0m:                kl_global_train 0.0\n",
      "\u001b[34m\u001b[1mwandb\u001b[0m:           kl_global_validation 0.0\n",
      "\u001b[34m\u001b[1mwandb\u001b[0m:                 kl_local_train 24.96111\n",
      "\u001b[34m\u001b[1mwandb\u001b[0m:            kl_local_validation 24.48995\n",
      "\u001b[34m\u001b[1mwandb\u001b[0m:                      kl_weight 0.0625\n",
      "\u001b[34m\u001b[1mwandb\u001b[0m:      reconstruction_loss_train 735.80688\n",
      "\u001b[34m\u001b[1mwandb\u001b[0m: reconstruction_loss_validation 739.43079\n",
      "\u001b[34m\u001b[1mwandb\u001b[0m:               train_loss_epoch 737.36664\n",
      "\u001b[34m\u001b[1mwandb\u001b[0m:                train_loss_step 720.13666\n",
      "\u001b[34m\u001b[1mwandb\u001b[0m:            trainer/global_step 68899\n",
      "\u001b[34m\u001b[1mwandb\u001b[0m:                validation_loss 740.96106\n",
      "\u001b[34m\u001b[1mwandb\u001b[0m: \n"
     ]
    },
    {
     "name": "stderr",
     "output_type": "stream",
     "text": [
      "\u001b[34m\u001b[1mwandb\u001b[0m: 🚀 View run \u001b[33mStep4_NK\u001b[0m at: \u001b[34m\u001b[4mhttps://wandb.ai/inflammation/inflammation_atlas_R1/runs/uohc3i4n\u001b[0m\n",
      "\u001b[34m\u001b[1mwandb\u001b[0m: Synced 5 W&B file(s), 0 media file(s), 0 artifact file(s) and 0 other file(s)\n"
     ]
    },
    {
     "name": "stderr",
     "output_type": "stream",
     "text": [
      "\u001b[34m\u001b[1mwandb\u001b[0m: Find logs at: \u001b[35m\u001b[1m./wandb/run-20240506_165506-uohc3i4n/logs\u001b[0m\n"
     ]
    }
   ],
   "source": [
    "wandb.finish()"
   ]
  },
  {
   "cell_type": "markdown",
   "id": "d9fb1179-83c7-4ac6-b4aa-92dc7a349801",
   "metadata": {
    "papermill": {
     "duration": 0.009663,
     "end_time": "2024-05-06T17:12:08.192267",
     "exception": false,
     "start_time": "2024-05-06T17:12:08.182604",
     "status": "completed"
    },
    "tags": []
   },
   "source": [
    "### Extracting embedding space"
   ]
  },
  {
   "cell_type": "code",
   "execution_count": 16,
   "id": "caaa5832-0123-4c59-8ec6-f46a75f7a14e",
   "metadata": {
    "execution": {
     "iopub.execute_input": "2024-05-06T17:12:08.213366Z",
     "iopub.status.busy": "2024-05-06T17:12:08.213027Z",
     "iopub.status.idle": "2024-05-06T17:12:20.531547Z",
     "shell.execute_reply": "2024-05-06T17:12:20.530764Z"
    },
    "papermill": {
     "duration": 12.331638,
     "end_time": "2024-05-06T17:12:20.533727",
     "exception": false,
     "start_time": "2024-05-06T17:12:08.202089",
     "status": "completed"
    },
    "tags": []
   },
   "outputs": [],
   "source": [
    "adata.obsm['X_scVI'] = model.get_latent_representation()"
   ]
  },
  {
   "cell_type": "markdown",
   "id": "2f03e70b-839c-40a6-9fbb-d76bbd787419",
   "metadata": {
    "papermill": {
     "duration": 0.009177,
     "end_time": "2024-05-06T17:12:20.552483",
     "exception": false,
     "start_time": "2024-05-06T17:12:20.543306",
     "status": "completed"
    },
    "tags": []
   },
   "source": [
    "## Save the results"
   ]
  },
  {
   "cell_type": "code",
   "execution_count": 17,
   "id": "7b04049b-47fd-4b62-a1c0-c43dcc086d34",
   "metadata": {
    "execution": {
     "iopub.execute_input": "2024-05-06T17:12:20.572934Z",
     "iopub.status.busy": "2024-05-06T17:12:20.572168Z",
     "iopub.status.idle": "2024-05-06T17:13:05.287238Z",
     "shell.execute_reply": "2024-05-06T17:13:05.286305Z"
    },
    "papermill": {
     "duration": 44.728201,
     "end_time": "2024-05-06T17:13:05.290026",
     "exception": false,
     "start_time": "2024-05-06T17:12:20.561825",
     "status": "completed"
    },
    "tags": []
   },
   "outputs": [],
   "source": [
    "if overwriteData:\n",
    "    adata.write(here(f\"{workDir}/{cellGroup}/results/02_{annotationLevel}_{cellGroup}_HVGsubset_scVI.h5ad\"), compression=\"gzip\")\n",
    "    model.save(here(f\"{workDir}/{cellGroup}/results/02_{annotationLevel}_{cellGroup}_HVGsubset_scVI_MODEL/\"),\n",
    "               overwrite = True, \n",
    "               save_anndata = False )   "
   ]
  },
  {
   "cell_type": "code",
   "execution_count": 18,
   "id": "629ba2bd-f6be-44ef-8fca-bbdf891bf25f",
   "metadata": {
    "execution": {
     "iopub.execute_input": "2024-05-06T17:13:05.312289Z",
     "iopub.status.busy": "2024-05-06T17:13:05.311542Z",
     "iopub.status.idle": "2024-05-06T17:13:05.315423Z",
     "shell.execute_reply": "2024-05-06T17:13:05.314589Z"
    },
    "papermill": {
     "duration": 0.018525,
     "end_time": "2024-05-06T17:13:05.318732",
     "exception": false,
     "start_time": "2024-05-06T17:13:05.300207",
     "status": "completed"
    },
    "tags": []
   },
   "outputs": [],
   "source": [
    "# To load the model do (after loading corresponding adata):\n",
    "# model = scvi.model.SCVI.load(here('{}/results/01_{}_HVGsubset_scVI_MODEL/'.format(workDir, cellGroup)), \n",
    "#                              adata, \n",
    "#                              use_gpu=True)"
   ]
  },
  {
   "cell_type": "raw",
   "id": "975e84d0-f56b-498d-b3a8-c9219cf22e53",
   "metadata": {
    "papermill": {
     "duration": 0.009531,
     "end_time": "2024-05-06T17:13:05.338324",
     "exception": false,
     "start_time": "2024-05-06T17:13:05.328793",
     "status": "completed"
    },
    "tags": []
   },
   "source": [
    "session_info.show()"
   ]
  }
 ],
 "metadata": {
  "kernelspec": {
   "display_name": "Python 3 (ipykernel)",
   "language": "python",
   "name": "python3"
  },
  "language_info": {
   "codemirror_mode": {
    "name": "ipython",
    "version": 3
   },
   "file_extension": ".py",
   "mimetype": "text/x-python",
   "name": "python",
   "nbconvert_exporter": "python",
   "pygments_lexer": "ipython3",
   "version": "3.9.18"
  },
  "papermill": {
   "default_parameters": {},
   "duration": 1104.678421,
   "end_time": "2024-05-06T17:13:08.168636",
   "environment_variables": {},
   "exception": null,
   "input_path": "./NK/02_integration_scVI.ipynb",
   "output_path": "./NK/02_integration_scVI_executed.ipynb",
   "parameters": {},
   "start_time": "2024-05-06T16:54:43.490215",
   "version": "2.5.0"
  }
 },
 "nbformat": 4,
 "nbformat_minor": 5
}