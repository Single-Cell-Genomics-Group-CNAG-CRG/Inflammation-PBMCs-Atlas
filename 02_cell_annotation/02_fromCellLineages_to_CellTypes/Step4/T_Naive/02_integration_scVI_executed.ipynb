{
 "cells": [
  {
   "cell_type": "code",
   "execution_count": 1,
   "id": "2dd1425a-0c07-465e-b522-9e3cc5cb93a7",
   "metadata": {
    "execution": {
     "iopub.execute_input": "2024-05-06T18:03:38.355182Z",
     "iopub.status.busy": "2024-05-06T18:03:38.354319Z",
     "iopub.status.idle": "2024-05-06T18:03:44.046620Z",
     "shell.execute_reply": "2024-05-06T18:03:44.045797Z"
    },
    "papermill": {
     "duration": 5.70045,
     "end_time": "2024-05-06T18:03:44.048493",
     "exception": false,
     "start_time": "2024-05-06T18:03:38.348043",
     "status": "completed"
    },
    "tags": []
   },
   "outputs": [
    {
     "data": {
      "text/plain": [
       "True"
      ]
     },
     "execution_count": 1,
     "metadata": {},
     "output_type": "execute_result"
    }
   ],
   "source": [
    "import os\n",
    "import sys\n",
    "\n",
    "import numpy as np\n",
    "import matplotlib.pyplot as plt\n",
    "\n",
    "import scanpy as sc\n",
    "import scvi\n",
    "import torch\n",
    "\n",
    "from pytorch_lightning.loggers import WandbLogger\n",
    "import wandb\n",
    "from dotenv import load_dotenv\n",
    "\n",
    "import session_info\n",
    "import warnings\n",
    "from pyprojroot.here import here\n",
    "\n",
    "warnings.filterwarnings(\"ignore\")\n",
    "sys.path.insert(1, str(here('bin')))\n",
    "\n",
    "torch.set_float32_matmul_precision('high')\n",
    "\n",
    "#plt.style.use(['science','nature','no-latex'])\n",
    "dpi_fig_save = 300\n",
    "sc.set_figure_params(dpi=100, dpi_save=dpi_fig_save, vector_friendly=True)\n",
    "\n",
    "load_dotenv(here('.env'))"
   ]
  },
  {
   "cell_type": "code",
   "execution_count": 2,
   "id": "09c897fc-744b-43de-a681-718fb5d327fa",
   "metadata": {
    "execution": {
     "iopub.execute_input": "2024-05-06T18:03:44.060014Z",
     "iopub.status.busy": "2024-05-06T18:03:44.059366Z",
     "iopub.status.idle": "2024-05-06T18:03:44.063652Z",
     "shell.execute_reply": "2024-05-06T18:03:44.062783Z"
    },
    "papermill": {
     "duration": 0.011399,
     "end_time": "2024-05-06T18:03:44.065728",
     "exception": false,
     "start_time": "2024-05-06T18:03:44.054329",
     "status": "completed"
    },
    "tags": []
   },
   "outputs": [],
   "source": [
    "class CustomWandbLogger(WandbLogger):\n",
    "    @property\n",
    "    def save_dir(self):\n",
    "        return self.experiment.dir"
   ]
  },
  {
   "cell_type": "code",
   "execution_count": 3,
   "id": "8ee6662f-5d45-4137-80a5-bb0b9ae8d71f",
   "metadata": {
    "execution": {
     "iopub.execute_input": "2024-05-06T18:03:44.075034Z",
     "iopub.status.busy": "2024-05-06T18:03:44.074320Z",
     "iopub.status.idle": "2024-05-06T18:03:44.081576Z",
     "shell.execute_reply": "2024-05-06T18:03:44.080939Z"
    },
    "papermill": {
     "duration": 0.013828,
     "end_time": "2024-05-06T18:03:44.083270",
     "exception": false,
     "start_time": "2024-05-06T18:03:44.069442",
     "status": "completed"
    },
    "tags": []
   },
   "outputs": [
    {
     "name": "stderr",
     "output_type": "stream",
     "text": [
      "Seed set to 0\n"
     ]
    },
    {
     "name": "stdout",
     "output_type": "stream",
     "text": [
      "Last run with scvi-tools version: 1.1.2\n"
     ]
    }
   ],
   "source": [
    "scvi.settings.seed = 0\n",
    "print(\"Last run with scvi-tools version:\", scvi.__version__)"
   ]
  },
  {
   "cell_type": "markdown",
   "id": "a81037ff-5998-482a-ba86-520f757311a9",
   "metadata": {
    "papermill": {
     "duration": 0.003841,
     "end_time": "2024-05-06T18:03:44.090930",
     "exception": false,
     "start_time": "2024-05-06T18:03:44.087089",
     "status": "completed"
    },
    "tags": []
   },
   "source": [
    "**Setting parameters** "
   ]
  },
  {
   "cell_type": "code",
   "execution_count": 4,
   "id": "56c27966-8f10-4c93-8b1a-1fa75f005e41",
   "metadata": {
    "execution": {
     "iopub.execute_input": "2024-05-06T18:03:44.099911Z",
     "iopub.status.busy": "2024-05-06T18:03:44.099650Z",
     "iopub.status.idle": "2024-05-06T18:03:44.103351Z",
     "shell.execute_reply": "2024-05-06T18:03:44.102493Z"
    },
    "papermill": {
     "duration": 0.010232,
     "end_time": "2024-05-06T18:03:44.104954",
     "exception": false,
     "start_time": "2024-05-06T18:03:44.094722",
     "status": "completed"
    },
    "tags": []
   },
   "outputs": [],
   "source": [
    "overwriteFigures = True\n",
    "overwriteData = True"
   ]
  },
  {
   "cell_type": "code",
   "execution_count": 5,
   "id": "c86fccd3-a4fe-415b-8f4e-e2ceb3ec128a",
   "metadata": {
    "execution": {
     "iopub.execute_input": "2024-05-06T18:03:44.114723Z",
     "iopub.status.busy": "2024-05-06T18:03:44.114040Z",
     "iopub.status.idle": "2024-05-06T18:03:44.118101Z",
     "shell.execute_reply": "2024-05-06T18:03:44.117463Z"
    },
    "papermill": {
     "duration": 0.011027,
     "end_time": "2024-05-06T18:03:44.119856",
     "exception": false,
     "start_time": "2024-05-06T18:03:44.108829",
     "status": "completed"
    },
    "tags": []
   },
   "outputs": [],
   "source": [
    "cellGroup = 'T_Naive'\n",
    "workDir = os.getcwd()"
   ]
  },
  {
   "cell_type": "code",
   "execution_count": 6,
   "id": "2dee4d55-d168-467b-b867-a61fed9d6af1",
   "metadata": {
    "execution": {
     "iopub.execute_input": "2024-05-06T18:03:44.128914Z",
     "iopub.status.busy": "2024-05-06T18:03:44.128087Z",
     "iopub.status.idle": "2024-05-06T18:03:44.132076Z",
     "shell.execute_reply": "2024-05-06T18:03:44.131440Z"
    },
    "papermill": {
     "duration": 0.010398,
     "end_time": "2024-05-06T18:03:44.133698",
     "exception": false,
     "start_time": "2024-05-06T18:03:44.123300",
     "status": "completed"
    },
    "tags": []
   },
   "outputs": [],
   "source": [
    "annotationLevel = os.path.basename(os.path.normpath(workDir))"
   ]
  },
  {
   "cell_type": "code",
   "execution_count": 7,
   "id": "11e53cd5-b746-4152-89cb-c2f0c15d90b3",
   "metadata": {
    "execution": {
     "iopub.execute_input": "2024-05-06T18:03:44.142974Z",
     "iopub.status.busy": "2024-05-06T18:03:44.142443Z",
     "iopub.status.idle": "2024-05-06T18:03:44.147090Z",
     "shell.execute_reply": "2024-05-06T18:03:44.146406Z"
    },
    "papermill": {
     "duration": 0.01102,
     "end_time": "2024-05-06T18:03:44.148639",
     "exception": false,
     "start_time": "2024-05-06T18:03:44.137619",
     "status": "completed"
    },
    "tags": []
   },
   "outputs": [
    {
     "data": {
      "text/plain": [
       "'/home/jupyter/Inflammation-PBMCs-Atlas/02_cell_annotation/02_fromCellLineages_to_CellTypes/Step4'"
      ]
     },
     "execution_count": 7,
     "metadata": {},
     "output_type": "execute_result"
    }
   ],
   "source": [
    "workDir"
   ]
  },
  {
   "cell_type": "markdown",
   "id": "171d2f06-9a44-4fcb-b437-35dc546674b6",
   "metadata": {
    "papermill": {
     "duration": 0.003954,
     "end_time": "2024-05-06T18:03:44.156589",
     "exception": false,
     "start_time": "2024-05-06T18:03:44.152635",
     "status": "completed"
    },
    "tags": []
   },
   "source": [
    "**Load data**"
   ]
  },
  {
   "cell_type": "code",
   "execution_count": 8,
   "id": "429f34fe-dde6-4cc9-9f75-7de8f85c5ffe",
   "metadata": {
    "execution": {
     "iopub.execute_input": "2024-05-06T18:03:44.166463Z",
     "iopub.status.busy": "2024-05-06T18:03:44.165754Z",
     "iopub.status.idle": "2024-05-06T18:04:03.029870Z",
     "shell.execute_reply": "2024-05-06T18:04:03.029154Z"
    },
    "papermill": {
     "duration": 18.872104,
     "end_time": "2024-05-06T18:04:03.032786",
     "exception": false,
     "start_time": "2024-05-06T18:03:44.160682",
     "status": "completed"
    },
    "tags": []
   },
   "outputs": [
    {
     "data": {
      "text/plain": [
       "AnnData object with n_obs × n_vars = 1006731 × 2048\n",
       "    obs: 'studyID', 'libraryID', 'sampleID', 'chemistry', 'technology', 'patientID', 'disease', 'timepoint_replicate', 'treatmentStatus', 'therapyResponse', 'sex', 'age', 'BMI', 'binned_age', 'diseaseStatus', 'smokingStatus', 'ethnicity', 'institute', 'diseaseGroup', 'n_genes_by_counts', 'log1p_n_genes_by_counts', 'total_counts', 'log1p_total_counts', 'pct_counts_in_top_20_genes', 'total_counts_mt', 'log1p_total_counts_mt', 'pct_counts_mt', 'total_counts_ribo', 'log1p_total_counts_ribo', 'pct_counts_ribo', 'total_counts_hb', 'log1p_total_counts_hb', 'pct_counts_hb', 'total_counts_plt', 'log1p_total_counts_plt', 'pct_counts_plt', 'doublet_score', 'predicted_doublet', 'S_score', 'G2M_score', 'phase'\n",
       "    var: 'hgnc_id', 'symbol', 'locus_group', 'HUGO_status', 'mt', 'ribo', 'hb', 'plt', 'n_cells_by_counts', 'mean_counts', 'log1p_mean_counts', 'pct_dropout_by_counts', 'total_counts', 'log1p_total_counts', 'highly_variable'\n",
       "    uns: 'chemistry_colors', 'log1p'\n",
       "    layers: 'counts', 'log1p_10e4_counts'"
      ]
     },
     "execution_count": 8,
     "metadata": {},
     "output_type": "execute_result"
    }
   ],
   "source": [
    "adata = sc.read_h5ad(here(f\"{workDir}/{cellGroup}/results/01_{cellGroup}_normalized_HVGsubset.h5ad\"))\n",
    "adata"
   ]
  },
  {
   "cell_type": "markdown",
   "id": "8ac79f3b-d5af-41fa-8904-1e9ac1cbe2fb",
   "metadata": {
    "papermill": {
     "duration": 0.007991,
     "end_time": "2024-05-06T18:04:03.049186",
     "exception": false,
     "start_time": "2024-05-06T18:04:03.041195",
     "status": "completed"
    },
    "tags": []
   },
   "source": [
    "## scVI integration"
   ]
  },
  {
   "cell_type": "markdown",
   "id": "9544847d-d17f-4811-b14b-760446d54d32",
   "metadata": {
    "execution": {
     "iopub.execute_input": "2024-03-25T16:49:04.004504Z",
     "iopub.status.busy": "2024-03-25T16:49:04.004143Z",
     "iopub.status.idle": "2024-03-25T16:49:04.010148Z",
     "shell.execute_reply": "2024-03-25T16:49:04.009146Z",
     "shell.execute_reply.started": "2024-03-25T16:49:04.004477Z"
    },
    "papermill": {
     "duration": 0.007879,
     "end_time": "2024-05-06T18:04:03.064924",
     "exception": false,
     "start_time": "2024-05-06T18:04:03.057045",
     "status": "completed"
    },
    "tags": []
   },
   "source": [
    "**scVI parameters**"
   ]
  },
  {
   "cell_type": "code",
   "execution_count": 9,
   "id": "208966eb-545a-4c02-854c-0ed0487ef5b3",
   "metadata": {
    "execution": {
     "iopub.execute_input": "2024-05-06T18:04:03.082467Z",
     "iopub.status.busy": "2024-05-06T18:04:03.081746Z",
     "iopub.status.idle": "2024-05-06T18:04:03.088271Z",
     "shell.execute_reply": "2024-05-06T18:04:03.087313Z"
    },
    "papermill": {
     "duration": 0.017033,
     "end_time": "2024-05-06T18:04:03.090104",
     "exception": false,
     "start_time": "2024-05-06T18:04:03.073071",
     "status": "completed"
    },
    "tags": []
   },
   "outputs": [],
   "source": [
    "# https://docs.scvi-tools.org/en/stable/api/reference/scvi.train.Trainer.html#scvi.train.Trainer\n",
    "setup_kwargs = dict(\n",
    "    layer=\"counts\", \n",
    "    batch_key='libraryID', \n",
    "    categorical_covariate_keys = ['studyID', 'chemistry', 'disease', 'sampleID'],\n",
    "    labels_key = 'chemistry'    \n",
    ")\n",
    "\n",
    "scvi_kwargs = dict(n_hidden=512,\n",
    "                   n_latent=10, # reduced to 20 after step 00 (main) and to 10 after step 03\n",
    "                   n_layers=2,\n",
    "                   gene_likelihood='nb',\n",
    "                   dispersion='gene-label')\n",
    "\n",
    "trainer_kwargs = dict(\n",
    "    checkpointing_monitor = 'elbo_validation',\n",
    "    early_stopping_monitor = 'reconstruction_loss_validation',\n",
    "    early_stopping_patience = 10,\n",
    "    early_stopping_min_delta=0.1,\n",
    "    early_stopping = True,\n",
    "    max_epochs = 1000,\n",
    "\n",
    "    #logger = # wandb\n",
    ")\n",
    "# https://docs.scvi-tools.org/en/stable/api/reference/scvi.train.TrainingPlan.html#scvi.train.TrainingPlan\n",
    "plan_kwargs = dict(\n",
    "    lr = 5e-4,\n",
    "    #reduce_lr_on_plateau = True\n",
    ")\n",
    "\n",
    "# https://docs.scvi-tools.org/en/stable/api/reference/scvi.module.VAE.html#scvi.module.VAE\n",
    "#vae = dict(\n",
    "#    use_layer_norm='both',\n",
    "#    use_batch_norm='none',\n",
    "#    encode_covariates=True,\n",
    "#    deeply_inject_covariates=False\n",
    "#)\n",
    "parameter_dict = setup_kwargs | scvi_kwargs | trainer_kwargs | plan_kwargs"
   ]
  },
  {
   "cell_type": "markdown",
   "id": "1362366a-c16b-4c11-964b-b9c5f82f7b29",
   "metadata": {
    "papermill": {
     "duration": 0.004101,
     "end_time": "2024-05-06T18:04:03.098469",
     "exception": false,
     "start_time": "2024-05-06T18:04:03.094368",
     "status": "completed"
    },
    "tags": []
   },
   "source": [
    "**wandb parameter**"
   ]
  },
  {
   "cell_type": "code",
   "execution_count": 10,
   "id": "0496e33a-8ca5-423f-b42f-34a59760708c",
   "metadata": {
    "execution": {
     "iopub.execute_input": "2024-05-06T18:04:03.108796Z",
     "iopub.status.busy": "2024-05-06T18:04:03.108189Z",
     "iopub.status.idle": "2024-05-06T18:04:03.113464Z",
     "shell.execute_reply": "2024-05-06T18:04:03.112719Z"
    },
    "papermill": {
     "duration": 0.012624,
     "end_time": "2024-05-06T18:04:03.115397",
     "exception": false,
     "start_time": "2024-05-06T18:04:03.102773",
     "status": "completed"
    },
    "tags": []
   },
   "outputs": [
    {
     "data": {
      "text/plain": [
       "'Step4_T_Naive'"
      ]
     },
     "execution_count": 10,
     "metadata": {},
     "output_type": "execute_result"
    }
   ],
   "source": [
    "run_name = f\"{annotationLevel}_{cellGroup}\"\n",
    "run_name"
   ]
  },
  {
   "cell_type": "code",
   "execution_count": 11,
   "id": "b0021327-95a2-4002-bf32-2c5779a99505",
   "metadata": {
    "execution": {
     "iopub.execute_input": "2024-05-06T18:04:03.125045Z",
     "iopub.status.busy": "2024-05-06T18:04:03.124784Z",
     "iopub.status.idle": "2024-05-06T18:04:03.265739Z",
     "shell.execute_reply": "2024-05-06T18:04:03.264702Z"
    },
    "papermill": {
     "duration": 0.148564,
     "end_time": "2024-05-06T18:04:03.268098",
     "exception": false,
     "start_time": "2024-05-06T18:04:03.119534",
     "status": "completed"
    },
    "tags": []
   },
   "outputs": [],
   "source": [
    "logger = CustomWandbLogger(name = run_name, project='inflammation_atlas_R1', config=parameter_dict)"
   ]
  },
  {
   "cell_type": "markdown",
   "id": "c237eee1-a976-4915-9b7f-b014bf33f47d",
   "metadata": {
    "papermill": {
     "duration": 0.004608,
     "end_time": "2024-05-06T18:04:03.277661",
     "exception": false,
     "start_time": "2024-05-06T18:04:03.273053",
     "status": "completed"
    },
    "tags": []
   },
   "source": [
    "**Running integration**"
   ]
  },
  {
   "cell_type": "code",
   "execution_count": 12,
   "id": "aff97c53-1aba-462e-8a77-f1aec9cf724c",
   "metadata": {
    "execution": {
     "iopub.execute_input": "2024-05-06T18:04:03.288467Z",
     "iopub.status.busy": "2024-05-06T18:04:03.288130Z",
     "iopub.status.idle": "2024-05-06T18:04:03.928155Z",
     "shell.execute_reply": "2024-05-06T18:04:03.927305Z"
    },
    "papermill": {
     "duration": 0.648311,
     "end_time": "2024-05-06T18:04:03.930482",
     "exception": false,
     "start_time": "2024-05-06T18:04:03.282171",
     "status": "completed"
    },
    "tags": []
   },
   "outputs": [],
   "source": [
    "scvi.model.SCVI.setup_anndata(adata, \n",
    "                              **setup_kwargs)"
   ]
  },
  {
   "cell_type": "code",
   "execution_count": 13,
   "id": "1a56f448-cf44-47c1-81a4-a89caa930fec",
   "metadata": {
    "execution": {
     "iopub.execute_input": "2024-05-06T18:04:03.941599Z",
     "iopub.status.busy": "2024-05-06T18:04:03.941273Z",
     "iopub.status.idle": "2024-05-06T18:04:04.945755Z",
     "shell.execute_reply": "2024-05-06T18:04:04.945016Z"
    },
    "papermill": {
     "duration": 1.012677,
     "end_time": "2024-05-06T18:04:04.948082",
     "exception": false,
     "start_time": "2024-05-06T18:04:03.935405",
     "status": "completed"
    },
    "tags": []
   },
   "outputs": [],
   "source": [
    "model = scvi.model.SCVI(adata, **scvi_kwargs)"
   ]
  },
  {
   "cell_type": "code",
   "execution_count": 14,
   "id": "2735f010-4f24-4ae8-9740-a8cfeb335e9a",
   "metadata": {
    "execution": {
     "iopub.execute_input": "2024-05-06T18:04:04.958651Z",
     "iopub.status.busy": "2024-05-06T18:04:04.958360Z",
     "iopub.status.idle": "2024-05-06T19:10:28.752623Z",
     "shell.execute_reply": "2024-05-06T19:10:28.751839Z"
    },
    "papermill": {
     "duration": 3983.801727,
     "end_time": "2024-05-06T19:10:28.754431",
     "exception": false,
     "start_time": "2024-05-06T18:04:04.952704",
     "status": "completed"
    },
    "tags": []
   },
   "outputs": [
    {
     "name": "stderr",
     "output_type": "stream",
     "text": [
      "GPU available: True (cuda), used: True\n"
     ]
    },
    {
     "name": "stderr",
     "output_type": "stream",
     "text": [
      "TPU available: False, using: 0 TPU cores\n"
     ]
    },
    {
     "name": "stderr",
     "output_type": "stream",
     "text": [
      "IPU available: False, using: 0 IPUs\n"
     ]
    },
    {
     "name": "stderr",
     "output_type": "stream",
     "text": [
      "HPU available: False, using: 0 HPUs\n"
     ]
    },
    {
     "name": "stderr",
     "output_type": "stream",
     "text": [
      "\u001b[34m\u001b[1mwandb\u001b[0m: Currently logged in as: \u001b[33mdav1989\u001b[0m (\u001b[33minflammation\u001b[0m). Use \u001b[1m`wandb login --relogin`\u001b[0m to force relogin\n"
     ]
    },
    {
     "name": "stderr",
     "output_type": "stream",
     "text": [
      "\u001b[34m\u001b[1mwandb\u001b[0m: wandb version 0.16.6 is available!  To upgrade, please run:\n",
      "\u001b[34m\u001b[1mwandb\u001b[0m:  $ pip install wandb --upgrade\n"
     ]
    },
    {
     "name": "stderr",
     "output_type": "stream",
     "text": [
      "\u001b[34m\u001b[1mwandb\u001b[0m: Tracking run with wandb version 0.16.3\n"
     ]
    },
    {
     "name": "stderr",
     "output_type": "stream",
     "text": [
      "\u001b[34m\u001b[1mwandb\u001b[0m: Run data is saved locally in \u001b[35m\u001b[1m./wandb/run-20240506_180409-l5awgck9\u001b[0m\n",
      "\u001b[34m\u001b[1mwandb\u001b[0m: Run \u001b[1m`wandb offline`\u001b[0m to turn off syncing.\n"
     ]
    },
    {
     "name": "stderr",
     "output_type": "stream",
     "text": [
      "\u001b[34m\u001b[1mwandb\u001b[0m: Syncing run \u001b[33mStep4_T_Naive\u001b[0m\n"
     ]
    },
    {
     "name": "stderr",
     "output_type": "stream",
     "text": [
      "\u001b[34m\u001b[1mwandb\u001b[0m: ⭐️ View project at \u001b[34m\u001b[4mhttps://wandb.ai/inflammation/inflammation_atlas_R1\u001b[0m\n"
     ]
    },
    {
     "name": "stderr",
     "output_type": "stream",
     "text": [
      "\u001b[34m\u001b[1mwandb\u001b[0m: 🚀 View run at \u001b[34m\u001b[4mhttps://wandb.ai/inflammation/inflammation_atlas_R1/runs/l5awgck9\u001b[0m\n"
     ]
    },
    {
     "name": "stderr",
     "output_type": "stream",
     "text": [
      "LOCAL_RANK: 0 - CUDA_VISIBLE_DEVICES: [0]\n"
     ]
    },
    {
     "name": "stdout",
     "output_type": "stream",
     "text": [
      "\r",
      "Training:   0%|          | 0/1000 [00:00<?, ?it/s]"
     ]
    },
    {
     "name": "stdout",
     "output_type": "stream",
     "text": [
      "\r",
      "Epoch 1/1000:   0%|          | 0/1000 [00:00<?, ?it/s]"
     ]
    },
    {
     "name": "stdout",
     "output_type": "stream",
     "text": [
      "\r",
      "Epoch 1/1000:   0%|          | 1/1000 [01:41<28:13:23, 101.71s/it]"
     ]
    },
    {
     "name": "stdout",
     "output_type": "stream",
     "text": [
      "\r",
      "Epoch 1/1000:   0%|          | 1/1000 [01:41<28:13:23, 101.71s/it, v_num=gck9, train_loss_step=569, train_loss_epoch=569]"
     ]
    },
    {
     "name": "stdout",
     "output_type": "stream",
     "text": [
      "\r",
      "Epoch 2/1000:   0%|          | 1/1000 [01:41<28:13:23, 101.71s/it, v_num=gck9, train_loss_step=569, train_loss_epoch=569]"
     ]
    },
    {
     "name": "stdout",
     "output_type": "stream",
     "text": [
      "\r",
      "Epoch 2/1000:   0%|          | 2/1000 [03:21<27:49:41, 100.38s/it, v_num=gck9, train_loss_step=569, train_loss_epoch=569]"
     ]
    },
    {
     "name": "stdout",
     "output_type": "stream",
     "text": [
      "\r",
      "Epoch 2/1000:   0%|          | 2/1000 [03:21<27:49:41, 100.38s/it, v_num=gck9, train_loss_step=555, train_loss_epoch=560]"
     ]
    },
    {
     "name": "stdout",
     "output_type": "stream",
     "text": [
      "\r",
      "Epoch 3/1000:   0%|          | 2/1000 [03:21<27:49:41, 100.38s/it, v_num=gck9, train_loss_step=555, train_loss_epoch=560]"
     ]
    },
    {
     "name": "stdout",
     "output_type": "stream",
     "text": [
      "\r",
      "Epoch 3/1000:   0%|          | 3/1000 [04:59<27:34:22, 99.56s/it, v_num=gck9, train_loss_step=555, train_loss_epoch=560] "
     ]
    },
    {
     "name": "stdout",
     "output_type": "stream",
     "text": [
      "\r",
      "Epoch 3/1000:   0%|          | 3/1000 [04:59<27:34:22, 99.56s/it, v_num=gck9, train_loss_step=565, train_loss_epoch=559]"
     ]
    },
    {
     "name": "stdout",
     "output_type": "stream",
     "text": [
      "\r",
      "Epoch 4/1000:   0%|          | 3/1000 [04:59<27:34:22, 99.56s/it, v_num=gck9, train_loss_step=565, train_loss_epoch=559]"
     ]
    },
    {
     "name": "stdout",
     "output_type": "stream",
     "text": [
      "\r",
      "Epoch 4/1000:   0%|          | 4/1000 [06:39<27:36:14, 99.77s/it, v_num=gck9, train_loss_step=565, train_loss_epoch=559]"
     ]
    },
    {
     "name": "stdout",
     "output_type": "stream",
     "text": [
      "\r",
      "Epoch 4/1000:   0%|          | 4/1000 [06:39<27:36:14, 99.77s/it, v_num=gck9, train_loss_step=586, train_loss_epoch=558]"
     ]
    },
    {
     "name": "stdout",
     "output_type": "stream",
     "text": [
      "\r",
      "Epoch 5/1000:   0%|          | 4/1000 [06:39<27:36:14, 99.77s/it, v_num=gck9, train_loss_step=586, train_loss_epoch=558]"
     ]
    },
    {
     "name": "stdout",
     "output_type": "stream",
     "text": [
      "\r",
      "Epoch 5/1000:   0%|          | 5/1000 [08:19<27:36:07, 99.87s/it, v_num=gck9, train_loss_step=586, train_loss_epoch=558]"
     ]
    },
    {
     "name": "stdout",
     "output_type": "stream",
     "text": [
      "\r",
      "Epoch 5/1000:   0%|          | 5/1000 [08:19<27:36:07, 99.87s/it, v_num=gck9, train_loss_step=566, train_loss_epoch=558]"
     ]
    },
    {
     "name": "stdout",
     "output_type": "stream",
     "text": [
      "\r",
      "Epoch 6/1000:   0%|          | 5/1000 [08:19<27:36:07, 99.87s/it, v_num=gck9, train_loss_step=566, train_loss_epoch=558]"
     ]
    },
    {
     "name": "stdout",
     "output_type": "stream",
     "text": [
      "\r",
      "Epoch 6/1000:   1%|          | 6/1000 [09:59<27:34:27, 99.87s/it, v_num=gck9, train_loss_step=566, train_loss_epoch=558]"
     ]
    },
    {
     "name": "stdout",
     "output_type": "stream",
     "text": [
      "\r",
      "Epoch 6/1000:   1%|          | 6/1000 [09:59<27:34:27, 99.87s/it, v_num=gck9, train_loss_step=528, train_loss_epoch=557]"
     ]
    },
    {
     "name": "stdout",
     "output_type": "stream",
     "text": [
      "\r",
      "Epoch 7/1000:   1%|          | 6/1000 [09:59<27:34:27, 99.87s/it, v_num=gck9, train_loss_step=528, train_loss_epoch=557]"
     ]
    },
    {
     "name": "stdout",
     "output_type": "stream",
     "text": [
      "\r",
      "Epoch 7/1000:   1%|          | 7/1000 [11:39<27:29:41, 99.68s/it, v_num=gck9, train_loss_step=528, train_loss_epoch=557]"
     ]
    },
    {
     "name": "stdout",
     "output_type": "stream",
     "text": [
      "\r",
      "Epoch 7/1000:   1%|          | 7/1000 [11:39<27:29:41, 99.68s/it, v_num=gck9, train_loss_step=577, train_loss_epoch=557]"
     ]
    },
    {
     "name": "stdout",
     "output_type": "stream",
     "text": [
      "\r",
      "Epoch 8/1000:   1%|          | 7/1000 [11:39<27:29:41, 99.68s/it, v_num=gck9, train_loss_step=577, train_loss_epoch=557]"
     ]
    },
    {
     "name": "stdout",
     "output_type": "stream",
     "text": [
      "\r",
      "Epoch 8/1000:   1%|          | 8/1000 [13:19<27:30:57, 99.86s/it, v_num=gck9, train_loss_step=577, train_loss_epoch=557]"
     ]
    },
    {
     "name": "stdout",
     "output_type": "stream",
     "text": [
      "\r",
      "Epoch 8/1000:   1%|          | 8/1000 [13:19<27:30:57, 99.86s/it, v_num=gck9, train_loss_step=536, train_loss_epoch=557]"
     ]
    },
    {
     "name": "stdout",
     "output_type": "stream",
     "text": [
      "\r",
      "Epoch 9/1000:   1%|          | 8/1000 [13:19<27:30:57, 99.86s/it, v_num=gck9, train_loss_step=536, train_loss_epoch=557]"
     ]
    },
    {
     "name": "stdout",
     "output_type": "stream",
     "text": [
      "\r",
      "Epoch 9/1000:   1%|          | 9/1000 [14:59<27:30:36, 99.94s/it, v_num=gck9, train_loss_step=536, train_loss_epoch=557]"
     ]
    },
    {
     "name": "stdout",
     "output_type": "stream",
     "text": [
      "\r",
      "Epoch 9/1000:   1%|          | 9/1000 [14:59<27:30:36, 99.94s/it, v_num=gck9, train_loss_step=572, train_loss_epoch=556]"
     ]
    },
    {
     "name": "stdout",
     "output_type": "stream",
     "text": [
      "\r",
      "Epoch 10/1000:   1%|          | 9/1000 [14:59<27:30:36, 99.94s/it, v_num=gck9, train_loss_step=572, train_loss_epoch=556]"
     ]
    },
    {
     "name": "stdout",
     "output_type": "stream",
     "text": [
      "\r",
      "Epoch 10/1000:   1%|          | 10/1000 [16:39<27:28:28, 99.91s/it, v_num=gck9, train_loss_step=572, train_loss_epoch=556]"
     ]
    },
    {
     "name": "stdout",
     "output_type": "stream",
     "text": [
      "\r",
      "Epoch 10/1000:   1%|          | 10/1000 [16:39<27:28:28, 99.91s/it, v_num=gck9, train_loss_step=503, train_loss_epoch=556]"
     ]
    },
    {
     "name": "stdout",
     "output_type": "stream",
     "text": [
      "\r",
      "Epoch 11/1000:   1%|          | 10/1000 [16:39<27:28:28, 99.91s/it, v_num=gck9, train_loss_step=503, train_loss_epoch=556]"
     ]
    },
    {
     "name": "stdout",
     "output_type": "stream",
     "text": [
      "\r",
      "Epoch 11/1000:   1%|          | 11/1000 [18:19<27:28:22, 100.00s/it, v_num=gck9, train_loss_step=503, train_loss_epoch=556]"
     ]
    },
    {
     "name": "stdout",
     "output_type": "stream",
     "text": [
      "\r",
      "Epoch 11/1000:   1%|          | 11/1000 [18:19<27:28:22, 100.00s/it, v_num=gck9, train_loss_step=540, train_loss_epoch=556]"
     ]
    },
    {
     "name": "stdout",
     "output_type": "stream",
     "text": [
      "\r",
      "Epoch 12/1000:   1%|          | 11/1000 [18:19<27:28:22, 100.00s/it, v_num=gck9, train_loss_step=540, train_loss_epoch=556]"
     ]
    },
    {
     "name": "stdout",
     "output_type": "stream",
     "text": [
      "\r",
      "Epoch 12/1000:   1%|          | 12/1000 [19:59<27:24:43, 99.88s/it, v_num=gck9, train_loss_step=540, train_loss_epoch=556] "
     ]
    },
    {
     "name": "stdout",
     "output_type": "stream",
     "text": [
      "\r",
      "Epoch 12/1000:   1%|          | 12/1000 [19:59<27:24:43, 99.88s/it, v_num=gck9, train_loss_step=540, train_loss_epoch=556]"
     ]
    },
    {
     "name": "stdout",
     "output_type": "stream",
     "text": [
      "\r",
      "Epoch 13/1000:   1%|          | 12/1000 [19:59<27:24:43, 99.88s/it, v_num=gck9, train_loss_step=540, train_loss_epoch=556]"
     ]
    },
    {
     "name": "stdout",
     "output_type": "stream",
     "text": [
      "\r",
      "Epoch 13/1000:   1%|▏         | 13/1000 [21:38<27:23:15, 99.89s/it, v_num=gck9, train_loss_step=540, train_loss_epoch=556]"
     ]
    },
    {
     "name": "stdout",
     "output_type": "stream",
     "text": [
      "\r",
      "Epoch 13/1000:   1%|▏         | 13/1000 [21:38<27:23:15, 99.89s/it, v_num=gck9, train_loss_step=558, train_loss_epoch=556]"
     ]
    },
    {
     "name": "stdout",
     "output_type": "stream",
     "text": [
      "\r",
      "Epoch 14/1000:   1%|▏         | 13/1000 [21:38<27:23:15, 99.89s/it, v_num=gck9, train_loss_step=558, train_loss_epoch=556]"
     ]
    },
    {
     "name": "stdout",
     "output_type": "stream",
     "text": [
      "\r",
      "Epoch 14/1000:   1%|▏         | 14/1000 [23:18<27:20:19, 99.82s/it, v_num=gck9, train_loss_step=558, train_loss_epoch=556]"
     ]
    },
    {
     "name": "stdout",
     "output_type": "stream",
     "text": [
      "\r",
      "Epoch 14/1000:   1%|▏         | 14/1000 [23:18<27:20:19, 99.82s/it, v_num=gck9, train_loss_step=545, train_loss_epoch=556]"
     ]
    },
    {
     "name": "stdout",
     "output_type": "stream",
     "text": [
      "\r",
      "Epoch 15/1000:   1%|▏         | 14/1000 [23:18<27:20:19, 99.82s/it, v_num=gck9, train_loss_step=545, train_loss_epoch=556]"
     ]
    },
    {
     "name": "stdout",
     "output_type": "stream",
     "text": [
      "\r",
      "Epoch 15/1000:   2%|▏         | 15/1000 [24:58<27:16:40, 99.70s/it, v_num=gck9, train_loss_step=545, train_loss_epoch=556]"
     ]
    },
    {
     "name": "stdout",
     "output_type": "stream",
     "text": [
      "\r",
      "Epoch 15/1000:   2%|▏         | 15/1000 [24:58<27:16:40, 99.70s/it, v_num=gck9, train_loss_step=576, train_loss_epoch=556]"
     ]
    },
    {
     "name": "stdout",
     "output_type": "stream",
     "text": [
      "\r",
      "Epoch 16/1000:   2%|▏         | 15/1000 [24:58<27:16:40, 99.70s/it, v_num=gck9, train_loss_step=576, train_loss_epoch=556]"
     ]
    },
    {
     "name": "stdout",
     "output_type": "stream",
     "text": [
      "\r",
      "Epoch 16/1000:   2%|▏         | 16/1000 [26:37<27:14:15, 99.65s/it, v_num=gck9, train_loss_step=576, train_loss_epoch=556]"
     ]
    },
    {
     "name": "stdout",
     "output_type": "stream",
     "text": [
      "\r",
      "Epoch 16/1000:   2%|▏         | 16/1000 [26:37<27:14:15, 99.65s/it, v_num=gck9, train_loss_step=561, train_loss_epoch=556]"
     ]
    },
    {
     "name": "stdout",
     "output_type": "stream",
     "text": [
      "\r",
      "Epoch 17/1000:   2%|▏         | 16/1000 [26:37<27:14:15, 99.65s/it, v_num=gck9, train_loss_step=561, train_loss_epoch=556]"
     ]
    },
    {
     "name": "stdout",
     "output_type": "stream",
     "text": [
      "\r",
      "Epoch 17/1000:   2%|▏         | 17/1000 [28:16<27:08:37, 99.41s/it, v_num=gck9, train_loss_step=561, train_loss_epoch=556]"
     ]
    },
    {
     "name": "stdout",
     "output_type": "stream",
     "text": [
      "\r",
      "Epoch 17/1000:   2%|▏         | 17/1000 [28:16<27:08:37, 99.41s/it, v_num=gck9, train_loss_step=583, train_loss_epoch=556]"
     ]
    },
    {
     "name": "stdout",
     "output_type": "stream",
     "text": [
      "\r",
      "Epoch 18/1000:   2%|▏         | 17/1000 [28:16<27:08:37, 99.41s/it, v_num=gck9, train_loss_step=583, train_loss_epoch=556]"
     ]
    },
    {
     "name": "stdout",
     "output_type": "stream",
     "text": [
      "\r",
      "Epoch 18/1000:   2%|▏         | 18/1000 [29:54<27:02:31, 99.14s/it, v_num=gck9, train_loss_step=583, train_loss_epoch=556]"
     ]
    },
    {
     "name": "stdout",
     "output_type": "stream",
     "text": [
      "\r",
      "Epoch 18/1000:   2%|▏         | 18/1000 [29:54<27:02:31, 99.14s/it, v_num=gck9, train_loss_step=564, train_loss_epoch=556]"
     ]
    },
    {
     "name": "stdout",
     "output_type": "stream",
     "text": [
      "\r",
      "Epoch 19/1000:   2%|▏         | 18/1000 [29:54<27:02:31, 99.14s/it, v_num=gck9, train_loss_step=564, train_loss_epoch=556]"
     ]
    },
    {
     "name": "stdout",
     "output_type": "stream",
     "text": [
      "\r",
      "Epoch 19/1000:   2%|▏         | 19/1000 [31:34<27:02:38, 99.24s/it, v_num=gck9, train_loss_step=564, train_loss_epoch=556]"
     ]
    },
    {
     "name": "stdout",
     "output_type": "stream",
     "text": [
      "\r",
      "Epoch 19/1000:   2%|▏         | 19/1000 [31:34<27:02:38, 99.24s/it, v_num=gck9, train_loss_step=593, train_loss_epoch=556]"
     ]
    },
    {
     "name": "stdout",
     "output_type": "stream",
     "text": [
      "\r",
      "Epoch 20/1000:   2%|▏         | 19/1000 [31:34<27:02:38, 99.24s/it, v_num=gck9, train_loss_step=593, train_loss_epoch=556]"
     ]
    },
    {
     "name": "stdout",
     "output_type": "stream",
     "text": [
      "\r",
      "Epoch 20/1000:   2%|▏         | 20/1000 [33:12<26:57:24, 99.02s/it, v_num=gck9, train_loss_step=593, train_loss_epoch=556]"
     ]
    },
    {
     "name": "stdout",
     "output_type": "stream",
     "text": [
      "\r",
      "Epoch 20/1000:   2%|▏         | 20/1000 [33:12<26:57:24, 99.02s/it, v_num=gck9, train_loss_step=536, train_loss_epoch=556]"
     ]
    },
    {
     "name": "stdout",
     "output_type": "stream",
     "text": [
      "\r",
      "Epoch 21/1000:   2%|▏         | 20/1000 [33:12<26:57:24, 99.02s/it, v_num=gck9, train_loss_step=536, train_loss_epoch=556]"
     ]
    },
    {
     "name": "stdout",
     "output_type": "stream",
     "text": [
      "\r",
      "Epoch 21/1000:   2%|▏         | 21/1000 [34:51<26:54:56, 98.98s/it, v_num=gck9, train_loss_step=536, train_loss_epoch=556]"
     ]
    },
    {
     "name": "stdout",
     "output_type": "stream",
     "text": [
      "\r",
      "Epoch 21/1000:   2%|▏         | 21/1000 [34:51<26:54:56, 98.98s/it, v_num=gck9, train_loss_step=517, train_loss_epoch=556]"
     ]
    },
    {
     "name": "stdout",
     "output_type": "stream",
     "text": [
      "\r",
      "Epoch 22/1000:   2%|▏         | 21/1000 [34:51<26:54:56, 98.98s/it, v_num=gck9, train_loss_step=517, train_loss_epoch=556]"
     ]
    },
    {
     "name": "stdout",
     "output_type": "stream",
     "text": [
      "\r",
      "Epoch 22/1000:   2%|▏         | 22/1000 [36:28<26:43:30, 98.37s/it, v_num=gck9, train_loss_step=517, train_loss_epoch=556]"
     ]
    },
    {
     "name": "stdout",
     "output_type": "stream",
     "text": [
      "\r",
      "Epoch 22/1000:   2%|▏         | 22/1000 [36:28<26:43:30, 98.37s/it, v_num=gck9, train_loss_step=541, train_loss_epoch=556]"
     ]
    },
    {
     "name": "stdout",
     "output_type": "stream",
     "text": [
      "\r",
      "Epoch 23/1000:   2%|▏         | 22/1000 [36:28<26:43:30, 98.37s/it, v_num=gck9, train_loss_step=541, train_loss_epoch=556]"
     ]
    },
    {
     "name": "stdout",
     "output_type": "stream",
     "text": [
      "\r",
      "Epoch 23/1000:   2%|▏         | 23/1000 [37:56<25:49:39, 95.17s/it, v_num=gck9, train_loss_step=541, train_loss_epoch=556]"
     ]
    },
    {
     "name": "stdout",
     "output_type": "stream",
     "text": [
      "\r",
      "Epoch 23/1000:   2%|▏         | 23/1000 [37:56<25:49:39, 95.17s/it, v_num=gck9, train_loss_step=542, train_loss_epoch=556]"
     ]
    },
    {
     "name": "stdout",
     "output_type": "stream",
     "text": [
      "\r",
      "Epoch 24/1000:   2%|▏         | 23/1000 [37:56<25:49:39, 95.17s/it, v_num=gck9, train_loss_step=542, train_loss_epoch=556]"
     ]
    },
    {
     "name": "stdout",
     "output_type": "stream",
     "text": [
      "\r",
      "Epoch 24/1000:   2%|▏         | 24/1000 [39:23<25:07:02, 92.65s/it, v_num=gck9, train_loss_step=542, train_loss_epoch=556]"
     ]
    },
    {
     "name": "stdout",
     "output_type": "stream",
     "text": [
      "\r",
      "Epoch 24/1000:   2%|▏         | 24/1000 [39:23<25:07:02, 92.65s/it, v_num=gck9, train_loss_step=540, train_loss_epoch=556]"
     ]
    },
    {
     "name": "stdout",
     "output_type": "stream",
     "text": [
      "\r",
      "Epoch 25/1000:   2%|▏         | 24/1000 [39:23<25:07:02, 92.65s/it, v_num=gck9, train_loss_step=540, train_loss_epoch=556]"
     ]
    },
    {
     "name": "stdout",
     "output_type": "stream",
     "text": [
      "\r",
      "Epoch 25/1000:   2%|▎         | 25/1000 [40:49<24:32:26, 90.61s/it, v_num=gck9, train_loss_step=540, train_loss_epoch=556]"
     ]
    },
    {
     "name": "stdout",
     "output_type": "stream",
     "text": [
      "\r",
      "Epoch 25/1000:   2%|▎         | 25/1000 [40:49<24:32:26, 90.61s/it, v_num=gck9, train_loss_step=586, train_loss_epoch=556]"
     ]
    },
    {
     "name": "stdout",
     "output_type": "stream",
     "text": [
      "\r",
      "Epoch 26/1000:   2%|▎         | 25/1000 [40:49<24:32:26, 90.61s/it, v_num=gck9, train_loss_step=586, train_loss_epoch=556]"
     ]
    },
    {
     "name": "stdout",
     "output_type": "stream",
     "text": [
      "\r",
      "Epoch 26/1000:   3%|▎         | 26/1000 [42:14<24:04:30, 88.98s/it, v_num=gck9, train_loss_step=586, train_loss_epoch=556]"
     ]
    },
    {
     "name": "stdout",
     "output_type": "stream",
     "text": [
      "\r",
      "Epoch 26/1000:   3%|▎         | 26/1000 [42:14<24:04:30, 88.98s/it, v_num=gck9, train_loss_step=530, train_loss_epoch=556]"
     ]
    },
    {
     "name": "stdout",
     "output_type": "stream",
     "text": [
      "\r",
      "Epoch 27/1000:   3%|▎         | 26/1000 [42:14<24:04:30, 88.98s/it, v_num=gck9, train_loss_step=530, train_loss_epoch=556]"
     ]
    },
    {
     "name": "stdout",
     "output_type": "stream",
     "text": [
      "\r",
      "Epoch 27/1000:   3%|▎         | 27/1000 [43:39<23:45:33, 87.91s/it, v_num=gck9, train_loss_step=530, train_loss_epoch=556]"
     ]
    },
    {
     "name": "stdout",
     "output_type": "stream",
     "text": [
      "\r",
      "Epoch 27/1000:   3%|▎         | 27/1000 [43:39<23:45:33, 87.91s/it, v_num=gck9, train_loss_step=524, train_loss_epoch=556]"
     ]
    },
    {
     "name": "stdout",
     "output_type": "stream",
     "text": [
      "\r",
      "Epoch 28/1000:   3%|▎         | 27/1000 [43:39<23:45:33, 87.91s/it, v_num=gck9, train_loss_step=524, train_loss_epoch=556]"
     ]
    },
    {
     "name": "stdout",
     "output_type": "stream",
     "text": [
      "\r",
      "Epoch 28/1000:   3%|▎         | 28/1000 [45:04<23:29:56, 87.03s/it, v_num=gck9, train_loss_step=524, train_loss_epoch=556]"
     ]
    },
    {
     "name": "stdout",
     "output_type": "stream",
     "text": [
      "\r",
      "Epoch 28/1000:   3%|▎         | 28/1000 [45:04<23:29:56, 87.03s/it, v_num=gck9, train_loss_step=565, train_loss_epoch=556]"
     ]
    },
    {
     "name": "stdout",
     "output_type": "stream",
     "text": [
      "\r",
      "Epoch 29/1000:   3%|▎         | 28/1000 [45:04<23:29:56, 87.03s/it, v_num=gck9, train_loss_step=565, train_loss_epoch=556]"
     ]
    },
    {
     "name": "stdout",
     "output_type": "stream",
     "text": [
      "\r",
      "Epoch 29/1000:   3%|▎         | 29/1000 [46:29<23:17:27, 86.35s/it, v_num=gck9, train_loss_step=565, train_loss_epoch=556]"
     ]
    },
    {
     "name": "stdout",
     "output_type": "stream",
     "text": [
      "\r",
      "Epoch 29/1000:   3%|▎         | 29/1000 [46:29<23:17:27, 86.35s/it, v_num=gck9, train_loss_step=572, train_loss_epoch=556]"
     ]
    },
    {
     "name": "stdout",
     "output_type": "stream",
     "text": [
      "\r",
      "Epoch 30/1000:   3%|▎         | 29/1000 [46:29<23:17:27, 86.35s/it, v_num=gck9, train_loss_step=572, train_loss_epoch=556]"
     ]
    },
    {
     "name": "stdout",
     "output_type": "stream",
     "text": [
      "\r",
      "Epoch 30/1000:   3%|▎         | 30/1000 [47:54<23:09:51, 85.97s/it, v_num=gck9, train_loss_step=572, train_loss_epoch=556]"
     ]
    },
    {
     "name": "stdout",
     "output_type": "stream",
     "text": [
      "\r",
      "Epoch 30/1000:   3%|▎         | 30/1000 [47:54<23:09:51, 85.97s/it, v_num=gck9, train_loss_step=548, train_loss_epoch=556]"
     ]
    },
    {
     "name": "stdout",
     "output_type": "stream",
     "text": [
      "\r",
      "Epoch 31/1000:   3%|▎         | 30/1000 [47:54<23:09:51, 85.97s/it, v_num=gck9, train_loss_step=548, train_loss_epoch=556]"
     ]
    },
    {
     "name": "stdout",
     "output_type": "stream",
     "text": [
      "\r",
      "Epoch 31/1000:   3%|▎         | 31/1000 [49:19<23:03:23, 85.66s/it, v_num=gck9, train_loss_step=548, train_loss_epoch=556]"
     ]
    },
    {
     "name": "stdout",
     "output_type": "stream",
     "text": [
      "\r",
      "Epoch 31/1000:   3%|▎         | 31/1000 [49:19<23:03:23, 85.66s/it, v_num=gck9, train_loss_step=567, train_loss_epoch=556]"
     ]
    },
    {
     "name": "stdout",
     "output_type": "stream",
     "text": [
      "\r",
      "Epoch 32/1000:   3%|▎         | 31/1000 [49:19<23:03:23, 85.66s/it, v_num=gck9, train_loss_step=567, train_loss_epoch=556]"
     ]
    },
    {
     "name": "stdout",
     "output_type": "stream",
     "text": [
      "\r",
      "Epoch 32/1000:   3%|▎         | 32/1000 [50:44<22:58:46, 85.46s/it, v_num=gck9, train_loss_step=567, train_loss_epoch=556]"
     ]
    },
    {
     "name": "stdout",
     "output_type": "stream",
     "text": [
      "\r",
      "Epoch 32/1000:   3%|▎         | 32/1000 [50:44<22:58:46, 85.46s/it, v_num=gck9, train_loss_step=574, train_loss_epoch=556]"
     ]
    },
    {
     "name": "stdout",
     "output_type": "stream",
     "text": [
      "\r",
      "Epoch 33/1000:   3%|▎         | 32/1000 [50:44<22:58:46, 85.46s/it, v_num=gck9, train_loss_step=574, train_loss_epoch=556]"
     ]
    },
    {
     "name": "stdout",
     "output_type": "stream",
     "text": [
      "\r",
      "Epoch 33/1000:   3%|▎         | 33/1000 [52:09<22:53:46, 85.24s/it, v_num=gck9, train_loss_step=574, train_loss_epoch=556]"
     ]
    },
    {
     "name": "stdout",
     "output_type": "stream",
     "text": [
      "\r",
      "Epoch 33/1000:   3%|▎         | 33/1000 [52:09<22:53:46, 85.24s/it, v_num=gck9, train_loss_step=530, train_loss_epoch=556]"
     ]
    },
    {
     "name": "stdout",
     "output_type": "stream",
     "text": [
      "\r",
      "Epoch 34/1000:   3%|▎         | 33/1000 [52:09<22:53:46, 85.24s/it, v_num=gck9, train_loss_step=530, train_loss_epoch=556]"
     ]
    },
    {
     "name": "stdout",
     "output_type": "stream",
     "text": [
      "\r",
      "Epoch 34/1000:   3%|▎         | 34/1000 [53:34<22:52:05, 85.22s/it, v_num=gck9, train_loss_step=530, train_loss_epoch=556]"
     ]
    },
    {
     "name": "stdout",
     "output_type": "stream",
     "text": [
      "\r",
      "Epoch 34/1000:   3%|▎         | 34/1000 [53:34<22:52:05, 85.22s/it, v_num=gck9, train_loss_step=558, train_loss_epoch=556]"
     ]
    },
    {
     "name": "stdout",
     "output_type": "stream",
     "text": [
      "\r",
      "Epoch 35/1000:   3%|▎         | 34/1000 [53:34<22:52:05, 85.22s/it, v_num=gck9, train_loss_step=558, train_loss_epoch=556]"
     ]
    },
    {
     "name": "stdout",
     "output_type": "stream",
     "text": [
      "\r",
      "Epoch 35/1000:   4%|▎         | 35/1000 [54:59<22:50:07, 85.19s/it, v_num=gck9, train_loss_step=558, train_loss_epoch=556]"
     ]
    },
    {
     "name": "stdout",
     "output_type": "stream",
     "text": [
      "\r",
      "Epoch 35/1000:   4%|▎         | 35/1000 [54:59<22:50:07, 85.19s/it, v_num=gck9, train_loss_step=566, train_loss_epoch=556]"
     ]
    },
    {
     "name": "stdout",
     "output_type": "stream",
     "text": [
      "\r",
      "Epoch 36/1000:   4%|▎         | 35/1000 [54:59<22:50:07, 85.19s/it, v_num=gck9, train_loss_step=566, train_loss_epoch=556]"
     ]
    },
    {
     "name": "stdout",
     "output_type": "stream",
     "text": [
      "\r",
      "Epoch 36/1000:   4%|▎         | 36/1000 [56:24<22:47:34, 85.12s/it, v_num=gck9, train_loss_step=566, train_loss_epoch=556]"
     ]
    },
    {
     "name": "stdout",
     "output_type": "stream",
     "text": [
      "\r",
      "Epoch 36/1000:   4%|▎         | 36/1000 [56:24<22:47:34, 85.12s/it, v_num=gck9, train_loss_step=550, train_loss_epoch=556]"
     ]
    },
    {
     "name": "stdout",
     "output_type": "stream",
     "text": [
      "\r",
      "Epoch 37/1000:   4%|▎         | 36/1000 [56:24<22:47:34, 85.12s/it, v_num=gck9, train_loss_step=550, train_loss_epoch=556]"
     ]
    },
    {
     "name": "stdout",
     "output_type": "stream",
     "text": [
      "\r",
      "Epoch 37/1000:   4%|▎         | 37/1000 [57:49<22:44:02, 84.99s/it, v_num=gck9, train_loss_step=550, train_loss_epoch=556]"
     ]
    },
    {
     "name": "stdout",
     "output_type": "stream",
     "text": [
      "\r",
      "Epoch 37/1000:   4%|▎         | 37/1000 [57:49<22:44:02, 84.99s/it, v_num=gck9, train_loss_step=566, train_loss_epoch=556]"
     ]
    },
    {
     "name": "stdout",
     "output_type": "stream",
     "text": [
      "\r",
      "Epoch 38/1000:   4%|▎         | 37/1000 [57:49<22:44:02, 84.99s/it, v_num=gck9, train_loss_step=566, train_loss_epoch=556]"
     ]
    },
    {
     "name": "stdout",
     "output_type": "stream",
     "text": [
      "\r",
      "Epoch 38/1000:   4%|▍         | 38/1000 [59:14<22:43:42, 85.05s/it, v_num=gck9, train_loss_step=566, train_loss_epoch=556]"
     ]
    },
    {
     "name": "stdout",
     "output_type": "stream",
     "text": [
      "\r",
      "Epoch 38/1000:   4%|▍         | 38/1000 [59:14<22:43:42, 85.05s/it, v_num=gck9, train_loss_step=533, train_loss_epoch=556]"
     ]
    },
    {
     "name": "stdout",
     "output_type": "stream",
     "text": [
      "\r",
      "Epoch 39/1000:   4%|▍         | 38/1000 [59:14<22:43:42, 85.05s/it, v_num=gck9, train_loss_step=533, train_loss_epoch=556]"
     ]
    },
    {
     "name": "stdout",
     "output_type": "stream",
     "text": [
      "\r",
      "Epoch 39/1000:   4%|▍         | 39/1000 [1:00:38<22:39:06, 84.86s/it, v_num=gck9, train_loss_step=533, train_loss_epoch=556]"
     ]
    },
    {
     "name": "stdout",
     "output_type": "stream",
     "text": [
      "\r",
      "Epoch 39/1000:   4%|▍         | 39/1000 [1:00:38<22:39:06, 84.86s/it, v_num=gck9, train_loss_step=581, train_loss_epoch=556]"
     ]
    },
    {
     "name": "stdout",
     "output_type": "stream",
     "text": [
      "\r",
      "Epoch 40/1000:   4%|▍         | 39/1000 [1:00:38<22:39:06, 84.86s/it, v_num=gck9, train_loss_step=581, train_loss_epoch=556]"
     ]
    },
    {
     "name": "stdout",
     "output_type": "stream",
     "text": [
      "\r",
      "Epoch 40/1000:   4%|▍         | 40/1000 [1:02:03<22:37:22, 84.84s/it, v_num=gck9, train_loss_step=581, train_loss_epoch=556]"
     ]
    },
    {
     "name": "stdout",
     "output_type": "stream",
     "text": [
      "\r",
      "Epoch 40/1000:   4%|▍         | 40/1000 [1:02:03<22:37:22, 84.84s/it, v_num=gck9, train_loss_step=549, train_loss_epoch=556]"
     ]
    },
    {
     "name": "stdout",
     "output_type": "stream",
     "text": [
      "\r",
      "Epoch 41/1000:   4%|▍         | 40/1000 [1:02:03<22:37:22, 84.84s/it, v_num=gck9, train_loss_step=549, train_loss_epoch=556]"
     ]
    },
    {
     "name": "stdout",
     "output_type": "stream",
     "text": [
      "\r",
      "Epoch 41/1000:   4%|▍         | 41/1000 [1:03:28<22:36:28, 84.87s/it, v_num=gck9, train_loss_step=549, train_loss_epoch=556]"
     ]
    },
    {
     "name": "stdout",
     "output_type": "stream",
     "text": [
      "\r",
      "Epoch 41/1000:   4%|▍         | 41/1000 [1:03:28<22:36:28, 84.87s/it, v_num=gck9, train_loss_step=534, train_loss_epoch=556]"
     ]
    },
    {
     "name": "stdout",
     "output_type": "stream",
     "text": [
      "\r",
      "Epoch 42/1000:   4%|▍         | 41/1000 [1:03:28<22:36:28, 84.87s/it, v_num=gck9, train_loss_step=534, train_loss_epoch=556]"
     ]
    },
    {
     "name": "stdout",
     "output_type": "stream",
     "text": [
      "\r",
      "Epoch 42/1000:   4%|▍         | 42/1000 [1:04:53<22:34:41, 84.84s/it, v_num=gck9, train_loss_step=534, train_loss_epoch=556]"
     ]
    },
    {
     "name": "stdout",
     "output_type": "stream",
     "text": [
      "\r",
      "Epoch 42/1000:   4%|▍         | 42/1000 [1:04:53<22:34:41, 84.84s/it, v_num=gck9, train_loss_step=553, train_loss_epoch=556]"
     ]
    },
    {
     "name": "stdout",
     "output_type": "stream",
     "text": [
      "\r",
      "Epoch 43/1000:   4%|▍         | 42/1000 [1:04:53<22:34:41, 84.84s/it, v_num=gck9, train_loss_step=553, train_loss_epoch=556]"
     ]
    },
    {
     "name": "stdout",
     "output_type": "stream",
     "text": [
      "\r",
      "Epoch 43/1000:   4%|▍         | 43/1000 [1:06:18<22:33:16, 84.85s/it, v_num=gck9, train_loss_step=553, train_loss_epoch=556]"
     ]
    },
    {
     "name": "stdout",
     "output_type": "stream",
     "text": [
      "\r",
      "Epoch 43/1000:   4%|▍         | 43/1000 [1:06:18<22:33:16, 84.85s/it, v_num=gck9, train_loss_step=565, train_loss_epoch=556]"
     ]
    },
    {
     "name": "stdout",
     "output_type": "stream",
     "text": [
      "\r",
      "Epoch 43/1000:   4%|▍         | 43/1000 [1:06:18<24:35:34, 92.51s/it, v_num=gck9, train_loss_step=565, train_loss_epoch=556]"
     ]
    },
    {
     "name": "stdout",
     "output_type": "stream",
     "text": [
      "\n",
      "Monitored metric reconstruction_loss_validation did not improve in the last 10 records. Best score: 552.427. Signaling Trainer to stop.\n"
     ]
    }
   ],
   "source": [
    "model.train(logger=logger, plan_kwargs = plan_kwargs, **trainer_kwargs)"
   ]
  },
  {
   "cell_type": "code",
   "execution_count": 15,
   "id": "c282f6eb-0ad1-40a5-81e6-1acda1545dad",
   "metadata": {
    "execution": {
     "iopub.execute_input": "2024-05-06T19:10:28.779318Z",
     "iopub.status.busy": "2024-05-06T19:10:28.778582Z",
     "iopub.status.idle": "2024-05-06T19:10:32.340792Z",
     "shell.execute_reply": "2024-05-06T19:10:32.340088Z"
    },
    "papermill": {
     "duration": 3.576698,
     "end_time": "2024-05-06T19:10:32.342656",
     "exception": false,
     "start_time": "2024-05-06T19:10:28.765958",
     "status": "completed"
    },
    "tags": []
   },
   "outputs": [
    {
     "name": "stderr",
     "output_type": "stream",
     "text": [
      "\u001b[34m\u001b[1mwandb\u001b[0m: - 0.003 MB of 0.009 MB uploaded\r"
     ]
    },
    {
     "name": "stderr",
     "output_type": "stream",
     "text": [
      "\u001b[34m\u001b[1mwandb\u001b[0m: \\ 0.003 MB of 0.009 MB uploaded\r"
     ]
    },
    {
     "name": "stderr",
     "output_type": "stream",
     "text": [
      "\u001b[34m\u001b[1mwandb\u001b[0m: | 0.009 MB of 0.009 MB uploaded\r"
     ]
    },
    {
     "name": "stderr",
     "output_type": "stream",
     "text": [
      "\u001b[34m\u001b[1mwandb\u001b[0m:                                                                                \n"
     ]
    },
    {
     "name": "stderr",
     "output_type": "stream",
     "text": [
      "\u001b[34m\u001b[1mwandb\u001b[0m: \n",
      "\u001b[34m\u001b[1mwandb\u001b[0m: Run history:\n",
      "\u001b[34m\u001b[1mwandb\u001b[0m:                     elbo_train █▆▅▄▃▃▃▃▃▃▃▂▂▂▂▂▂▂▂▂▂▂▂▂▂▂▂▁▁▁▁▁▁▁▁▁▁▁▁▁\n",
      "\u001b[34m\u001b[1mwandb\u001b[0m:                elbo_validation █▇▅▄▄▄▃▃▃▃▃▃▃▂▂▂▂▂▂▂▂▂▂▂▂▂▂▂▁▁▁▁▁▁▁▁▁▁▁▁\n",
      "\u001b[34m\u001b[1mwandb\u001b[0m:                          epoch ▁▁▁▁▂▂▂▂▃▃▃▃▃▃▃▄▄▄▄▄▅▅▅▅▅▅▆▆▆▆▆▇▇▇▇▇▇███\n",
      "\u001b[34m\u001b[1mwandb\u001b[0m:                kl_global_train ▁▁▁▁▁▁▁▁▁▁▁▁▁▁▁▁▁▁▁▁▁▁▁▁▁▁▁▁▁▁▁▁▁▁▁▁▁▁▁▁\n",
      "\u001b[34m\u001b[1mwandb\u001b[0m:           kl_global_validation ▁▁▁▁▁▁▁▁▁▁▁▁▁▁▁▁▁▁▁▁▁▁▁▁▁▁▁▁▁▁▁▁▁▁▁▁▁▁▁▁\n",
      "\u001b[34m\u001b[1mwandb\u001b[0m:                 kl_local_train ██▆▅▄▄▄▄▃▃▃▃▃▃▃▃▃▂▂▂▂▂▂▂▂▂▂▂▂▂▂▁▁▁▁▁▁▁▁▁\n",
      "\u001b[34m\u001b[1mwandb\u001b[0m:            kl_local_validation █▇▅▄▄▄▄▃▃▃▃▃▃▃▃▃▂▂▂▂▂▂▂▂▂▂▂▂▂▂▂▁▁▁▁▁▁▁▁▁\n",
      "\u001b[34m\u001b[1mwandb\u001b[0m:                      kl_weight ▁▁▁▂▂▂▂▂▃▃▃▃▃▃▄▄▄▄▄▄▅▅▅▅▅▆▆▆▆▆▆▇▇▇▇▇▇███\n",
      "\u001b[34m\u001b[1mwandb\u001b[0m:      reconstruction_loss_train █▄▃▃▃▂▂▂▂▂▂▂▂▂▁▁▁▁▁▁▁▁▁▁▁▁▁▁▁▁▁▁▁▁▁▁▁▁▁▁\n",
      "\u001b[34m\u001b[1mwandb\u001b[0m: reconstruction_loss_validation █▅▄▄▃▃▃▂▂▂▂▂▂▂▂▁▁▁▁▁▁▁▁▁▁▁▁▁▁▁▁▁▁▁▁▁▁▁▁▁\n",
      "\u001b[34m\u001b[1mwandb\u001b[0m:               train_loss_epoch █▃▃▂▂▂▂▁▁▁▁▁▁▁▁▁▁▁▁▁▁▁▁▁▁▁▁▁▁▁▁▁▁▁▁▁▁▁▁▁\n",
      "\u001b[34m\u001b[1mwandb\u001b[0m:                train_loss_step ▅▄▆▂▃▅█▆▄▆▆▄▇▄▆▅▁▅▆▇▃▅▆▅▄▆▄▇▆▇▂▆▅▄▅▇▅▃▅▇\n",
      "\u001b[34m\u001b[1mwandb\u001b[0m:            trainer/global_step ▁▁▁▂▂▂▂▂▂▃▃▃▃▃▃▄▄▄▄▄▅▅▅▅▅▅▆▆▆▆▆▇▇▇▇▇▇███\n",
      "\u001b[34m\u001b[1mwandb\u001b[0m:                validation_loss █▅▃▃▂▂▂▂▁▁▁▁▁▁▁▁▁▁▁▁▁▁▁▁▁▁▁▁▁▂▂▂▂▂▂▂▂▂▂▂\n",
      "\u001b[34m\u001b[1mwandb\u001b[0m: \n",
      "\u001b[34m\u001b[1mwandb\u001b[0m: Run summary:\n",
      "\u001b[34m\u001b[1mwandb\u001b[0m:                     elbo_train 576.48199\n",
      "\u001b[34m\u001b[1mwandb\u001b[0m:                elbo_validation 574.56152\n",
      "\u001b[34m\u001b[1mwandb\u001b[0m:                          epoch 42\n",
      "\u001b[34m\u001b[1mwandb\u001b[0m:                kl_global_train 0.0\n",
      "\u001b[34m\u001b[1mwandb\u001b[0m:           kl_global_validation 0.0\n",
      "\u001b[34m\u001b[1mwandb\u001b[0m:                 kl_local_train 22.59956\n",
      "\u001b[34m\u001b[1mwandb\u001b[0m:            kl_local_validation 22.15217\n",
      "\u001b[34m\u001b[1mwandb\u001b[0m:                      kl_weight 0.105\n",
      "\u001b[34m\u001b[1mwandb\u001b[0m:      reconstruction_loss_train 553.88245\n",
      "\u001b[34m\u001b[1mwandb\u001b[0m: reconstruction_loss_validation 552.40936\n",
      "\u001b[34m\u001b[1mwandb\u001b[0m:               train_loss_epoch 556.25525\n",
      "\u001b[34m\u001b[1mwandb\u001b[0m:                train_loss_step 534.61487\n",
      "\u001b[34m\u001b[1mwandb\u001b[0m:            trainer/global_step 304396\n",
      "\u001b[34m\u001b[1mwandb\u001b[0m:                validation_loss 554.73505\n",
      "\u001b[34m\u001b[1mwandb\u001b[0m: \n"
     ]
    },
    {
     "name": "stderr",
     "output_type": "stream",
     "text": [
      "\u001b[34m\u001b[1mwandb\u001b[0m: 🚀 View run \u001b[33mStep4_T_Naive\u001b[0m at: \u001b[34m\u001b[4mhttps://wandb.ai/inflammation/inflammation_atlas_R1/runs/l5awgck9\u001b[0m\n",
      "\u001b[34m\u001b[1mwandb\u001b[0m: Synced 5 W&B file(s), 0 media file(s), 0 artifact file(s) and 0 other file(s)\n"
     ]
    },
    {
     "name": "stderr",
     "output_type": "stream",
     "text": [
      "\u001b[34m\u001b[1mwandb\u001b[0m: Find logs at: \u001b[35m\u001b[1m./wandb/run-20240506_180409-l5awgck9/logs\u001b[0m\n"
     ]
    }
   ],
   "source": [
    "wandb.finish()"
   ]
  },
  {
   "cell_type": "markdown",
   "id": "d9fb1179-83c7-4ac6-b4aa-92dc7a349801",
   "metadata": {
    "papermill": {
     "duration": 0.012002,
     "end_time": "2024-05-06T19:10:32.367325",
     "exception": false,
     "start_time": "2024-05-06T19:10:32.355323",
     "status": "completed"
    },
    "tags": []
   },
   "source": [
    "### Extracting embedding space"
   ]
  },
  {
   "cell_type": "code",
   "execution_count": 16,
   "id": "caaa5832-0123-4c59-8ec6-f46a75f7a14e",
   "metadata": {
    "execution": {
     "iopub.execute_input": "2024-05-06T19:10:32.392700Z",
     "iopub.status.busy": "2024-05-06T19:10:32.392086Z",
     "iopub.status.idle": "2024-05-06T19:10:59.150047Z",
     "shell.execute_reply": "2024-05-06T19:10:59.149303Z"
    },
    "papermill": {
     "duration": 26.773261,
     "end_time": "2024-05-06T19:10:59.152294",
     "exception": false,
     "start_time": "2024-05-06T19:10:32.379033",
     "status": "completed"
    },
    "tags": []
   },
   "outputs": [],
   "source": [
    "adata.obsm['X_scVI'] = model.get_latent_representation()"
   ]
  },
  {
   "cell_type": "markdown",
   "id": "2f03e70b-839c-40a6-9fbb-d76bbd787419",
   "metadata": {
    "papermill": {
     "duration": 0.012146,
     "end_time": "2024-05-06T19:10:59.176607",
     "exception": false,
     "start_time": "2024-05-06T19:10:59.164461",
     "status": "completed"
    },
    "tags": []
   },
   "source": [
    "## Save the results"
   ]
  },
  {
   "cell_type": "code",
   "execution_count": 17,
   "id": "7b04049b-47fd-4b62-a1c0-c43dcc086d34",
   "metadata": {
    "execution": {
     "iopub.execute_input": "2024-05-06T19:10:59.201417Z",
     "iopub.status.busy": "2024-05-06T19:10:59.201071Z",
     "iopub.status.idle": "2024-05-06T19:12:29.281240Z",
     "shell.execute_reply": "2024-05-06T19:12:29.280428Z"
    },
    "papermill": {
     "duration": 90.095467,
     "end_time": "2024-05-06T19:12:29.283608",
     "exception": false,
     "start_time": "2024-05-06T19:10:59.188141",
     "status": "completed"
    },
    "tags": []
   },
   "outputs": [],
   "source": [
    "if overwriteData:\n",
    "    adata.write(here(f\"{workDir}/{cellGroup}/results/02_{annotationLevel}_{cellGroup}_HVGsubset_scVI.h5ad\"), compression=\"gzip\")\n",
    "    model.save(here(f\"{workDir}/{cellGroup}/results/02_{annotationLevel}_{cellGroup}_HVGsubset_scVI_MODEL/\"),\n",
    "               overwrite = True, \n",
    "               save_anndata = False )   "
   ]
  },
  {
   "cell_type": "code",
   "execution_count": 18,
   "id": "629ba2bd-f6be-44ef-8fca-bbdf891bf25f",
   "metadata": {
    "execution": {
     "iopub.execute_input": "2024-05-06T19:12:29.309710Z",
     "iopub.status.busy": "2024-05-06T19:12:29.309402Z",
     "iopub.status.idle": "2024-05-06T19:12:29.313180Z",
     "shell.execute_reply": "2024-05-06T19:12:29.312237Z"
    },
    "papermill": {
     "duration": 0.01905,
     "end_time": "2024-05-06T19:12:29.314890",
     "exception": false,
     "start_time": "2024-05-06T19:12:29.295840",
     "status": "completed"
    },
    "tags": []
   },
   "outputs": [],
   "source": [
    "# To load the model do (after loading corresponding adata):\n",
    "# model = scvi.model.SCVI.load(here('{}/results/01_{}_HVGsubset_scVI_MODEL/'.format(workDir, cellGroup)), \n",
    "#                              adata, \n",
    "#                              use_gpu=True)"
   ]
  },
  {
   "cell_type": "raw",
   "id": "975e84d0-f56b-498d-b3a8-c9219cf22e53",
   "metadata": {
    "papermill": {
     "duration": 0.011853,
     "end_time": "2024-05-06T19:12:29.338440",
     "exception": false,
     "start_time": "2024-05-06T19:12:29.326587",
     "status": "completed"
    },
    "tags": []
   },
   "source": [
    "session_info.show()"
   ]
  }
 ],
 "metadata": {
  "kernelspec": {
   "display_name": "Python 3 (ipykernel)",
   "language": "python",
   "name": "python3"
  },
  "language_info": {
   "codemirror_mode": {
    "name": "ipython",
    "version": 3
   },
   "file_extension": ".py",
   "mimetype": "text/x-python",
   "name": "python",
   "nbconvert_exporter": "python",
   "pygments_lexer": "ipython3",
   "version": "3.9.18"
  },
  "papermill": {
   "default_parameters": {},
   "duration": 4135.97021,
   "end_time": "2024-05-06T19:12:33.141366",
   "environment_variables": {},
   "exception": null,
   "input_path": "./T_Naive/02_integration_scVI.ipynb",
   "output_path": "./T_Naive/02_integration_scVI_executed.ipynb",
   "parameters": {},
   "start_time": "2024-05-06T18:03:37.171156",
   "version": "2.5.0"
  }
 },
 "nbformat": 4,
 "nbformat_minor": 5
}