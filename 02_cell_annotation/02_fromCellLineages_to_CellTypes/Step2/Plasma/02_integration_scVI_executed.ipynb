{
 "cells": [
  {
   "cell_type": "code",
   "execution_count": 1,
   "id": "2dd1425a-0c07-465e-b522-9e3cc5cb93a7",
   "metadata": {
    "execution": {
     "iopub.execute_input": "2024-04-30T09:25:15.840481Z",
     "iopub.status.busy": "2024-04-30T09:25:15.839829Z",
     "iopub.status.idle": "2024-04-30T09:25:21.212448Z",
     "shell.execute_reply": "2024-04-30T09:25:21.211767Z"
    },
    "papermill": {
     "duration": 5.380458,
     "end_time": "2024-04-30T09:25:21.214182",
     "exception": false,
     "start_time": "2024-04-30T09:25:15.833724",
     "status": "completed"
    },
    "tags": []
   },
   "outputs": [
    {
     "data": {
      "text/plain": [
       "True"
      ]
     },
     "execution_count": 1,
     "metadata": {},
     "output_type": "execute_result"
    }
   ],
   "source": [
    "import os\n",
    "import sys\n",
    "\n",
    "import numpy as np\n",
    "import matplotlib.pyplot as plt\n",
    "\n",
    "import scanpy as sc\n",
    "import scvi\n",
    "import torch\n",
    "\n",
    "from pytorch_lightning.loggers import WandbLogger\n",
    "import wandb\n",
    "from dotenv import load_dotenv\n",
    "\n",
    "import session_info\n",
    "import warnings\n",
    "from pyprojroot.here import here\n",
    "\n",
    "warnings.filterwarnings(\"ignore\")\n",
    "sys.path.insert(1, str(here('bin')))\n",
    "\n",
    "torch.set_float32_matmul_precision('high')\n",
    "\n",
    "#plt.style.use(['science','nature','no-latex'])\n",
    "dpi_fig_save = 300\n",
    "sc.set_figure_params(dpi=100, dpi_save=dpi_fig_save, vector_friendly=True)\n",
    "\n",
    "load_dotenv(here('.env'))"
   ]
  },
  {
   "cell_type": "code",
   "execution_count": 2,
   "id": "09c897fc-744b-43de-a681-718fb5d327fa",
   "metadata": {
    "execution": {
     "iopub.execute_input": "2024-04-30T09:25:21.224510Z",
     "iopub.status.busy": "2024-04-30T09:25:21.224251Z",
     "iopub.status.idle": "2024-04-30T09:25:21.227905Z",
     "shell.execute_reply": "2024-04-30T09:25:21.227310Z"
    },
    "papermill": {
     "duration": 0.009838,
     "end_time": "2024-04-30T09:25:21.229503",
     "exception": false,
     "start_time": "2024-04-30T09:25:21.219665",
     "status": "completed"
    },
    "tags": []
   },
   "outputs": [],
   "source": [
    "class CustomWandbLogger(WandbLogger):\n",
    "    @property\n",
    "    def save_dir(self):\n",
    "        return self.experiment.dir"
   ]
  },
  {
   "cell_type": "code",
   "execution_count": 3,
   "id": "8ee6662f-5d45-4137-80a5-bb0b9ae8d71f",
   "metadata": {
    "execution": {
     "iopub.execute_input": "2024-04-30T09:25:21.237794Z",
     "iopub.status.busy": "2024-04-30T09:25:21.237128Z",
     "iopub.status.idle": "2024-04-30T09:25:21.243467Z",
     "shell.execute_reply": "2024-04-30T09:25:21.242820Z"
    },
    "papermill": {
     "duration": 0.01204,
     "end_time": "2024-04-30T09:25:21.244916",
     "exception": false,
     "start_time": "2024-04-30T09:25:21.232876",
     "status": "completed"
    },
    "tags": []
   },
   "outputs": [
    {
     "name": "stderr",
     "output_type": "stream",
     "text": [
      "Seed set to 0\n"
     ]
    },
    {
     "name": "stdout",
     "output_type": "stream",
     "text": [
      "Last run with scvi-tools version: 1.1.2\n"
     ]
    }
   ],
   "source": [
    "scvi.settings.seed = 0\n",
    "print(\"Last run with scvi-tools version:\", scvi.__version__)"
   ]
  },
  {
   "cell_type": "markdown",
   "id": "a81037ff-5998-482a-ba86-520f757311a9",
   "metadata": {
    "papermill": {
     "duration": 0.003574,
     "end_time": "2024-04-30T09:25:21.251878",
     "exception": false,
     "start_time": "2024-04-30T09:25:21.248304",
     "status": "completed"
    },
    "tags": []
   },
   "source": [
    "**Setting parameters** "
   ]
  },
  {
   "cell_type": "code",
   "execution_count": 4,
   "id": "56c27966-8f10-4c93-8b1a-1fa75f005e41",
   "metadata": {
    "execution": {
     "iopub.execute_input": "2024-04-30T09:25:21.260245Z",
     "iopub.status.busy": "2024-04-30T09:25:21.259544Z",
     "iopub.status.idle": "2024-04-30T09:25:21.262745Z",
     "shell.execute_reply": "2024-04-30T09:25:21.262150Z"
    },
    "papermill": {
     "duration": 0.009029,
     "end_time": "2024-04-30T09:25:21.264271",
     "exception": false,
     "start_time": "2024-04-30T09:25:21.255242",
     "status": "completed"
    },
    "tags": []
   },
   "outputs": [],
   "source": [
    "overwriteFigures = True\n",
    "overwriteData = True"
   ]
  },
  {
   "cell_type": "code",
   "execution_count": 5,
   "id": "c86fccd3-a4fe-415b-8f4e-e2ceb3ec128a",
   "metadata": {
    "execution": {
     "iopub.execute_input": "2024-04-30T09:25:21.272848Z",
     "iopub.status.busy": "2024-04-30T09:25:21.272215Z",
     "iopub.status.idle": "2024-04-30T09:25:21.275361Z",
     "shell.execute_reply": "2024-04-30T09:25:21.274733Z"
    },
    "papermill": {
     "duration": 0.009272,
     "end_time": "2024-04-30T09:25:21.276834",
     "exception": false,
     "start_time": "2024-04-30T09:25:21.267562",
     "status": "completed"
    },
    "tags": []
   },
   "outputs": [],
   "source": [
    "cellGroup = 'Plasma'\n",
    "workDir = os.getcwd()"
   ]
  },
  {
   "cell_type": "code",
   "execution_count": 6,
   "id": "2dee4d55-d168-467b-b867-a61fed9d6af1",
   "metadata": {
    "execution": {
     "iopub.execute_input": "2024-04-30T09:25:21.285489Z",
     "iopub.status.busy": "2024-04-30T09:25:21.284932Z",
     "iopub.status.idle": "2024-04-30T09:25:21.288140Z",
     "shell.execute_reply": "2024-04-30T09:25:21.287515Z"
    },
    "papermill": {
     "duration": 0.009342,
     "end_time": "2024-04-30T09:25:21.289710",
     "exception": false,
     "start_time": "2024-04-30T09:25:21.280368",
     "status": "completed"
    },
    "tags": []
   },
   "outputs": [],
   "source": [
    "annotationLevel = os.path.basename(os.path.normpath(workDir))"
   ]
  },
  {
   "cell_type": "code",
   "execution_count": 7,
   "id": "11e53cd5-b746-4152-89cb-c2f0c15d90b3",
   "metadata": {
    "execution": {
     "iopub.execute_input": "2024-04-30T09:25:21.298148Z",
     "iopub.status.busy": "2024-04-30T09:25:21.297521Z",
     "iopub.status.idle": "2024-04-30T09:25:21.301911Z",
     "shell.execute_reply": "2024-04-30T09:25:21.301305Z"
    },
    "papermill": {
     "duration": 0.010249,
     "end_time": "2024-04-30T09:25:21.303461",
     "exception": false,
     "start_time": "2024-04-30T09:25:21.293212",
     "status": "completed"
    },
    "tags": []
   },
   "outputs": [
    {
     "data": {
      "text/plain": [
       "'/home/jupyter/Inflammation-PBMCs-Atlas/02_cell_annotation/02_fromCellLineages_to_CellTypes/Step2'"
      ]
     },
     "execution_count": 7,
     "metadata": {},
     "output_type": "execute_result"
    }
   ],
   "source": [
    "workDir"
   ]
  },
  {
   "cell_type": "markdown",
   "id": "171d2f06-9a44-4fcb-b437-35dc546674b6",
   "metadata": {
    "papermill": {
     "duration": 0.003764,
     "end_time": "2024-04-30T09:25:21.310749",
     "exception": false,
     "start_time": "2024-04-30T09:25:21.306985",
     "status": "completed"
    },
    "tags": []
   },
   "source": [
    "**Load data**"
   ]
  },
  {
   "cell_type": "code",
   "execution_count": 8,
   "id": "429f34fe-dde6-4cc9-9f75-7de8f85c5ffe",
   "metadata": {
    "execution": {
     "iopub.execute_input": "2024-04-30T09:25:21.319359Z",
     "iopub.status.busy": "2024-04-30T09:25:21.318712Z",
     "iopub.status.idle": "2024-04-30T09:25:22.401165Z",
     "shell.execute_reply": "2024-04-30T09:25:22.400524Z"
    },
    "papermill": {
     "duration": 1.088612,
     "end_time": "2024-04-30T09:25:22.402947",
     "exception": false,
     "start_time": "2024-04-30T09:25:21.314335",
     "status": "completed"
    },
    "tags": []
   },
   "outputs": [
    {
     "data": {
      "text/plain": [
       "AnnData object with n_obs × n_vars = 19748 × 2359\n",
       "    obs: 'studyID', 'libraryID', 'sampleID', 'chemistry', 'technology', 'patientID', 'disease', 'timepoint_replicate', 'treatmentStatus', 'therapyResponse', 'sex', 'age', 'BMI', 'binned_age', 'diseaseStatus', 'smokingStatus', 'ethnicity', 'institute', 'diseaseGroup', 'n_genes_by_counts', 'log1p_n_genes_by_counts', 'total_counts', 'log1p_total_counts', 'pct_counts_in_top_20_genes', 'total_counts_mt', 'log1p_total_counts_mt', 'pct_counts_mt', 'total_counts_ribo', 'log1p_total_counts_ribo', 'pct_counts_ribo', 'total_counts_hb', 'log1p_total_counts_hb', 'pct_counts_hb', 'total_counts_plt', 'log1p_total_counts_plt', 'pct_counts_plt', 'doublet_score', 'predicted_doublet', 'S_score', 'G2M_score', 'phase'\n",
       "    var: 'hgnc_id', 'symbol', 'locus_group', 'HUGO_status', 'mt', 'ribo', 'hb', 'plt', 'n_cells_by_counts', 'mean_counts', 'log1p_mean_counts', 'pct_dropout_by_counts', 'total_counts', 'log1p_total_counts', 'highly_variable'\n",
       "    uns: 'chemistry_colors', 'log1p'\n",
       "    layers: 'counts', 'log1p_10e4_counts'"
      ]
     },
     "execution_count": 8,
     "metadata": {},
     "output_type": "execute_result"
    }
   ],
   "source": [
    "adata = sc.read_h5ad(here(f\"{workDir}/{cellGroup}/results/01_{cellGroup}_normalized_HVGsubset.h5ad\"))\n",
    "adata"
   ]
  },
  {
   "cell_type": "markdown",
   "id": "8ac79f3b-d5af-41fa-8904-1e9ac1cbe2fb",
   "metadata": {
    "papermill": {
     "duration": 0.004009,
     "end_time": "2024-04-30T09:25:22.411329",
     "exception": false,
     "start_time": "2024-04-30T09:25:22.407320",
     "status": "completed"
    },
    "tags": []
   },
   "source": [
    "## scVI integration"
   ]
  },
  {
   "cell_type": "markdown",
   "id": "9544847d-d17f-4811-b14b-760446d54d32",
   "metadata": {
    "execution": {
     "iopub.execute_input": "2024-03-25T16:49:04.004504Z",
     "iopub.status.busy": "2024-03-25T16:49:04.004143Z",
     "iopub.status.idle": "2024-03-25T16:49:04.010148Z",
     "shell.execute_reply": "2024-03-25T16:49:04.009146Z",
     "shell.execute_reply.started": "2024-03-25T16:49:04.004477Z"
    },
    "papermill": {
     "duration": 0.003762,
     "end_time": "2024-04-30T09:25:22.418964",
     "exception": false,
     "start_time": "2024-04-30T09:25:22.415202",
     "status": "completed"
    },
    "tags": []
   },
   "source": [
    "**scVI parameters**"
   ]
  },
  {
   "cell_type": "code",
   "execution_count": 9,
   "id": "208966eb-545a-4c02-854c-0ed0487ef5b3",
   "metadata": {
    "execution": {
     "iopub.execute_input": "2024-04-30T09:25:22.428695Z",
     "iopub.status.busy": "2024-04-30T09:25:22.428139Z",
     "iopub.status.idle": "2024-04-30T09:25:22.433818Z",
     "shell.execute_reply": "2024-04-30T09:25:22.433176Z"
    },
    "papermill": {
     "duration": 0.012308,
     "end_time": "2024-04-30T09:25:22.435295",
     "exception": false,
     "start_time": "2024-04-30T09:25:22.422987",
     "status": "completed"
    },
    "tags": []
   },
   "outputs": [],
   "source": [
    "# https://docs.scvi-tools.org/en/stable/api/reference/scvi.train.Trainer.html#scvi.train.Trainer\n",
    "setup_kwargs = dict(\n",
    "    layer=\"counts\", \n",
    "    batch_key='libraryID', \n",
    "    categorical_covariate_keys = ['studyID', 'chemistry', 'disease', 'sampleID'],\n",
    "    labels_key = 'chemistry'    \n",
    ")\n",
    "\n",
    "scvi_kwargs = dict(n_hidden=512,\n",
    "                   n_latent=20, # reduceds after step 00 (main)\n",
    "                   n_layers=2,\n",
    "                   gene_likelihood='nb',\n",
    "                   dispersion='gene-label')\n",
    "\n",
    "trainer_kwargs = dict(\n",
    "    checkpointing_monitor = 'elbo_validation',\n",
    "    early_stopping_monitor = 'reconstruction_loss_validation',\n",
    "    early_stopping_patience = 10,\n",
    "    early_stopping_min_delta=0.1,\n",
    "    early_stopping = True,\n",
    "    max_epochs = 1000,\n",
    "\n",
    "    #logger = # wandb\n",
    ")\n",
    "# https://docs.scvi-tools.org/en/stable/api/reference/scvi.train.TrainingPlan.html#scvi.train.TrainingPlan\n",
    "plan_kwargs = dict(\n",
    "    lr = 5e-4,\n",
    "    #reduce_lr_on_plateau = True\n",
    ")\n",
    "\n",
    "# https://docs.scvi-tools.org/en/stable/api/reference/scvi.module.VAE.html#scvi.module.VAE\n",
    "#vae = dict(\n",
    "#    use_layer_norm='both',\n",
    "#    use_batch_norm='none',\n",
    "#    encode_covariates=True,\n",
    "#    deeply_inject_covariates=False\n",
    "#)\n",
    "parameter_dict = setup_kwargs | scvi_kwargs | trainer_kwargs | plan_kwargs"
   ]
  },
  {
   "cell_type": "markdown",
   "id": "1362366a-c16b-4c11-964b-b9c5f82f7b29",
   "metadata": {
    "papermill": {
     "duration": 0.004078,
     "end_time": "2024-04-30T09:25:22.443352",
     "exception": false,
     "start_time": "2024-04-30T09:25:22.439274",
     "status": "completed"
    },
    "tags": []
   },
   "source": [
    "**wandb parameter**"
   ]
  },
  {
   "cell_type": "code",
   "execution_count": 10,
   "id": "0496e33a-8ca5-423f-b42f-34a59760708c",
   "metadata": {
    "execution": {
     "iopub.execute_input": "2024-04-30T09:25:22.452844Z",
     "iopub.status.busy": "2024-04-30T09:25:22.452428Z",
     "iopub.status.idle": "2024-04-30T09:25:22.456737Z",
     "shell.execute_reply": "2024-04-30T09:25:22.456142Z"
    },
    "papermill": {
     "duration": 0.010952,
     "end_time": "2024-04-30T09:25:22.458184",
     "exception": false,
     "start_time": "2024-04-30T09:25:22.447232",
     "status": "completed"
    },
    "tags": []
   },
   "outputs": [
    {
     "data": {
      "text/plain": [
       "'Step2_Plasma'"
      ]
     },
     "execution_count": 10,
     "metadata": {},
     "output_type": "execute_result"
    }
   ],
   "source": [
    "run_name = f\"{annotationLevel}_{cellGroup}\"\n",
    "run_name"
   ]
  },
  {
   "cell_type": "code",
   "execution_count": 11,
   "id": "b0021327-95a2-4002-bf32-2c5779a99505",
   "metadata": {
    "execution": {
     "iopub.execute_input": "2024-04-30T09:25:22.467785Z",
     "iopub.status.busy": "2024-04-30T09:25:22.467358Z",
     "iopub.status.idle": "2024-04-30T09:25:22.598158Z",
     "shell.execute_reply": "2024-04-30T09:25:22.597477Z"
    },
    "papermill": {
     "duration": 0.138241,
     "end_time": "2024-04-30T09:25:22.600587",
     "exception": false,
     "start_time": "2024-04-30T09:25:22.462346",
     "status": "completed"
    },
    "tags": []
   },
   "outputs": [],
   "source": [
    "logger = CustomWandbLogger(name = run_name, project='inflammation_atlas_R1', config=parameter_dict)"
   ]
  },
  {
   "cell_type": "markdown",
   "id": "c237eee1-a976-4915-9b7f-b014bf33f47d",
   "metadata": {
    "papermill": {
     "duration": 0.004166,
     "end_time": "2024-04-30T09:25:22.609289",
     "exception": false,
     "start_time": "2024-04-30T09:25:22.605123",
     "status": "completed"
    },
    "tags": []
   },
   "source": [
    "**Running integration**"
   ]
  },
  {
   "cell_type": "code",
   "execution_count": 12,
   "id": "aff97c53-1aba-462e-8a77-f1aec9cf724c",
   "metadata": {
    "execution": {
     "iopub.execute_input": "2024-04-30T09:25:22.619577Z",
     "iopub.status.busy": "2024-04-30T09:25:22.618826Z",
     "iopub.status.idle": "2024-04-30T09:25:23.149183Z",
     "shell.execute_reply": "2024-04-30T09:25:23.148455Z"
    },
    "papermill": {
     "duration": 0.53795,
     "end_time": "2024-04-30T09:25:23.151399",
     "exception": false,
     "start_time": "2024-04-30T09:25:22.613449",
     "status": "completed"
    },
    "tags": []
   },
   "outputs": [],
   "source": [
    "scvi.model.SCVI.setup_anndata(adata, \n",
    "                              **setup_kwargs)"
   ]
  },
  {
   "cell_type": "code",
   "execution_count": 13,
   "id": "1a56f448-cf44-47c1-81a4-a89caa930fec",
   "metadata": {
    "execution": {
     "iopub.execute_input": "2024-04-30T09:25:23.161669Z",
     "iopub.status.busy": "2024-04-30T09:25:23.161144Z",
     "iopub.status.idle": "2024-04-30T09:25:23.412826Z",
     "shell.execute_reply": "2024-04-30T09:25:23.412097Z"
    },
    "papermill": {
     "duration": 0.259003,
     "end_time": "2024-04-30T09:25:23.414938",
     "exception": false,
     "start_time": "2024-04-30T09:25:23.155935",
     "status": "completed"
    },
    "tags": []
   },
   "outputs": [],
   "source": [
    "model = scvi.model.SCVI(adata, **scvi_kwargs)"
   ]
  },
  {
   "cell_type": "code",
   "execution_count": 14,
   "id": "2735f010-4f24-4ae8-9740-a8cfeb335e9a",
   "metadata": {
    "execution": {
     "iopub.execute_input": "2024-04-30T09:25:23.425129Z",
     "iopub.status.busy": "2024-04-30T09:25:23.424436Z",
     "iopub.status.idle": "2024-04-30T09:27:17.893248Z",
     "shell.execute_reply": "2024-04-30T09:27:17.892540Z"
    },
    "papermill": {
     "duration": 114.476693,
     "end_time": "2024-04-30T09:27:17.895670",
     "exception": false,
     "start_time": "2024-04-30T09:25:23.418977",
     "status": "completed"
    },
    "tags": []
   },
   "outputs": [
    {
     "name": "stderr",
     "output_type": "stream",
     "text": [
      "GPU available: True (cuda), used: True\n"
     ]
    },
    {
     "name": "stderr",
     "output_type": "stream",
     "text": [
      "TPU available: False, using: 0 TPU cores\n"
     ]
    },
    {
     "name": "stderr",
     "output_type": "stream",
     "text": [
      "IPU available: False, using: 0 IPUs\n"
     ]
    },
    {
     "name": "stderr",
     "output_type": "stream",
     "text": [
      "HPU available: False, using: 0 HPUs\n"
     ]
    },
    {
     "name": "stderr",
     "output_type": "stream",
     "text": [
      "\u001b[34m\u001b[1mwandb\u001b[0m: Currently logged in as: \u001b[33mdav1989\u001b[0m (\u001b[33minflammation\u001b[0m). Use \u001b[1m`wandb login --relogin`\u001b[0m to force relogin\n"
     ]
    },
    {
     "name": "stderr",
     "output_type": "stream",
     "text": [
      "\u001b[34m\u001b[1mwandb\u001b[0m: wandb version 0.16.6 is available!  To upgrade, please run:\n",
      "\u001b[34m\u001b[1mwandb\u001b[0m:  $ pip install wandb --upgrade\n"
     ]
    },
    {
     "name": "stderr",
     "output_type": "stream",
     "text": [
      "\u001b[34m\u001b[1mwandb\u001b[0m: Tracking run with wandb version 0.16.3\n"
     ]
    },
    {
     "name": "stderr",
     "output_type": "stream",
     "text": [
      "\u001b[34m\u001b[1mwandb\u001b[0m: Run data is saved locally in \u001b[35m\u001b[1m./wandb/run-20240430_092528-13rtehd7\u001b[0m\n",
      "\u001b[34m\u001b[1mwandb\u001b[0m: Run \u001b[1m`wandb offline`\u001b[0m to turn off syncing.\n"
     ]
    },
    {
     "name": "stderr",
     "output_type": "stream",
     "text": [
      "\u001b[34m\u001b[1mwandb\u001b[0m: Syncing run \u001b[33mStep2_Plasma\u001b[0m\n"
     ]
    },
    {
     "name": "stderr",
     "output_type": "stream",
     "text": [
      "\u001b[34m\u001b[1mwandb\u001b[0m: ⭐️ View project at \u001b[34m\u001b[4mhttps://wandb.ai/inflammation/inflammation_atlas_R1\u001b[0m\n"
     ]
    },
    {
     "name": "stderr",
     "output_type": "stream",
     "text": [
      "\u001b[34m\u001b[1mwandb\u001b[0m: 🚀 View run at \u001b[34m\u001b[4mhttps://wandb.ai/inflammation/inflammation_atlas_R1/runs/13rtehd7\u001b[0m\n"
     ]
    },
    {
     "name": "stderr",
     "output_type": "stream",
     "text": [
      "LOCAL_RANK: 0 - CUDA_VISIBLE_DEVICES: [0]\n"
     ]
    },
    {
     "name": "stdout",
     "output_type": "stream",
     "text": [
      "\r",
      "Training:   0%|          | 0/1000 [00:00<?, ?it/s]"
     ]
    },
    {
     "name": "stdout",
     "output_type": "stream",
     "text": [
      "\r",
      "Epoch 1/1000:   0%|          | 0/1000 [00:00<?, ?it/s]"
     ]
    },
    {
     "name": "stdout",
     "output_type": "stream",
     "text": [
      "\r",
      "Epoch 1/1000:   0%|          | 1/1000 [00:03<58:02,  3.49s/it]"
     ]
    },
    {
     "name": "stdout",
     "output_type": "stream",
     "text": [
      "\r",
      "Epoch 1/1000:   0%|          | 1/1000 [00:03<58:02,  3.49s/it, v_num=ehd7, train_loss_step=1.7e+3, train_loss_epoch=1.91e+3]"
     ]
    },
    {
     "name": "stdout",
     "output_type": "stream",
     "text": [
      "\r",
      "Epoch 2/1000:   0%|          | 1/1000 [00:03<58:02,  3.49s/it, v_num=ehd7, train_loss_step=1.7e+3, train_loss_epoch=1.91e+3]"
     ]
    },
    {
     "name": "stdout",
     "output_type": "stream",
     "text": [
      "\r",
      "Epoch 2/1000:   0%|          | 2/1000 [00:05<44:43,  2.69s/it, v_num=ehd7, train_loss_step=1.7e+3, train_loss_epoch=1.91e+3]"
     ]
    },
    {
     "name": "stdout",
     "output_type": "stream",
     "text": [
      "\r",
      "Epoch 2/1000:   0%|          | 2/1000 [00:05<44:43,  2.69s/it, v_num=ehd7, train_loss_step=1.62e+3, train_loss_epoch=1.58e+3]"
     ]
    },
    {
     "name": "stdout",
     "output_type": "stream",
     "text": [
      "\r",
      "Epoch 3/1000:   0%|          | 2/1000 [00:05<44:43,  2.69s/it, v_num=ehd7, train_loss_step=1.62e+3, train_loss_epoch=1.58e+3]"
     ]
    },
    {
     "name": "stdout",
     "output_type": "stream",
     "text": [
      "\r",
      "Epoch 3/1000:   0%|          | 3/1000 [00:07<40:27,  2.44s/it, v_num=ehd7, train_loss_step=1.62e+3, train_loss_epoch=1.58e+3]"
     ]
    },
    {
     "name": "stdout",
     "output_type": "stream",
     "text": [
      "\r",
      "Epoch 3/1000:   0%|          | 3/1000 [00:07<40:27,  2.44s/it, v_num=ehd7, train_loss_step=1.5e+3, train_loss_epoch=1.51e+3] "
     ]
    },
    {
     "name": "stdout",
     "output_type": "stream",
     "text": [
      "\r",
      "Epoch 4/1000:   0%|          | 3/1000 [00:07<40:27,  2.44s/it, v_num=ehd7, train_loss_step=1.5e+3, train_loss_epoch=1.51e+3]"
     ]
    },
    {
     "name": "stdout",
     "output_type": "stream",
     "text": [
      "\r",
      "Epoch 4/1000:   0%|          | 4/1000 [00:09<38:27,  2.32s/it, v_num=ehd7, train_loss_step=1.5e+3, train_loss_epoch=1.51e+3]"
     ]
    },
    {
     "name": "stdout",
     "output_type": "stream",
     "text": [
      "\r",
      "Epoch 4/1000:   0%|          | 4/1000 [00:09<38:27,  2.32s/it, v_num=ehd7, train_loss_step=1.37e+3, train_loss_epoch=1.48e+3]"
     ]
    },
    {
     "name": "stdout",
     "output_type": "stream",
     "text": [
      "\r",
      "Epoch 5/1000:   0%|          | 4/1000 [00:09<38:27,  2.32s/it, v_num=ehd7, train_loss_step=1.37e+3, train_loss_epoch=1.48e+3]"
     ]
    },
    {
     "name": "stdout",
     "output_type": "stream",
     "text": [
      "\r",
      "Epoch 5/1000:   0%|          | 5/1000 [00:12<37:20,  2.25s/it, v_num=ehd7, train_loss_step=1.37e+3, train_loss_epoch=1.48e+3]"
     ]
    },
    {
     "name": "stdout",
     "output_type": "stream",
     "text": [
      "\r",
      "Epoch 5/1000:   0%|          | 5/1000 [00:12<37:20,  2.25s/it, v_num=ehd7, train_loss_step=1.39e+3, train_loss_epoch=1.46e+3]"
     ]
    },
    {
     "name": "stdout",
     "output_type": "stream",
     "text": [
      "\r",
      "Epoch 6/1000:   0%|          | 5/1000 [00:12<37:20,  2.25s/it, v_num=ehd7, train_loss_step=1.39e+3, train_loss_epoch=1.46e+3]"
     ]
    },
    {
     "name": "stdout",
     "output_type": "stream",
     "text": [
      "\r",
      "Epoch 6/1000:   1%|          | 6/1000 [00:14<36:50,  2.22s/it, v_num=ehd7, train_loss_step=1.39e+3, train_loss_epoch=1.46e+3]"
     ]
    },
    {
     "name": "stdout",
     "output_type": "stream",
     "text": [
      "\r",
      "Epoch 6/1000:   1%|          | 6/1000 [00:14<36:50,  2.22s/it, v_num=ehd7, train_loss_step=1.4e+3, train_loss_epoch=1.44e+3] "
     ]
    },
    {
     "name": "stdout",
     "output_type": "stream",
     "text": [
      "\r",
      "Epoch 7/1000:   1%|          | 6/1000 [00:14<36:50,  2.22s/it, v_num=ehd7, train_loss_step=1.4e+3, train_loss_epoch=1.44e+3]"
     ]
    },
    {
     "name": "stdout",
     "output_type": "stream",
     "text": [
      "\r",
      "Epoch 7/1000:   1%|          | 7/1000 [00:16<36:15,  2.19s/it, v_num=ehd7, train_loss_step=1.4e+3, train_loss_epoch=1.44e+3]"
     ]
    },
    {
     "name": "stdout",
     "output_type": "stream",
     "text": [
      "\r",
      "Epoch 7/1000:   1%|          | 7/1000 [00:16<36:15,  2.19s/it, v_num=ehd7, train_loss_step=1.35e+3, train_loss_epoch=1.43e+3]"
     ]
    },
    {
     "name": "stdout",
     "output_type": "stream",
     "text": [
      "\r",
      "Epoch 8/1000:   1%|          | 7/1000 [00:16<36:15,  2.19s/it, v_num=ehd7, train_loss_step=1.35e+3, train_loss_epoch=1.43e+3]"
     ]
    },
    {
     "name": "stdout",
     "output_type": "stream",
     "text": [
      "\r",
      "Epoch 8/1000:   1%|          | 8/1000 [00:18<35:51,  2.17s/it, v_num=ehd7, train_loss_step=1.35e+3, train_loss_epoch=1.43e+3]"
     ]
    },
    {
     "name": "stdout",
     "output_type": "stream",
     "text": [
      "\r",
      "Epoch 8/1000:   1%|          | 8/1000 [00:18<35:51,  2.17s/it, v_num=ehd7, train_loss_step=1.48e+3, train_loss_epoch=1.42e+3]"
     ]
    },
    {
     "name": "stdout",
     "output_type": "stream",
     "text": [
      "\r",
      "Epoch 9/1000:   1%|          | 8/1000 [00:18<35:51,  2.17s/it, v_num=ehd7, train_loss_step=1.48e+3, train_loss_epoch=1.42e+3]"
     ]
    },
    {
     "name": "stdout",
     "output_type": "stream",
     "text": [
      "\r",
      "Epoch 9/1000:   1%|          | 9/1000 [00:20<35:37,  2.16s/it, v_num=ehd7, train_loss_step=1.48e+3, train_loss_epoch=1.42e+3]"
     ]
    },
    {
     "name": "stdout",
     "output_type": "stream",
     "text": [
      "\r",
      "Epoch 9/1000:   1%|          | 9/1000 [00:20<35:37,  2.16s/it, v_num=ehd7, train_loss_step=1.39e+3, train_loss_epoch=1.41e+3]"
     ]
    },
    {
     "name": "stdout",
     "output_type": "stream",
     "text": [
      "\r",
      "Epoch 10/1000:   1%|          | 9/1000 [00:20<35:37,  2.16s/it, v_num=ehd7, train_loss_step=1.39e+3, train_loss_epoch=1.41e+3]"
     ]
    },
    {
     "name": "stdout",
     "output_type": "stream",
     "text": [
      "\r",
      "Epoch 10/1000:   1%|          | 10/1000 [00:22<35:26,  2.15s/it, v_num=ehd7, train_loss_step=1.39e+3, train_loss_epoch=1.41e+3]"
     ]
    },
    {
     "name": "stdout",
     "output_type": "stream",
     "text": [
      "\r",
      "Epoch 10/1000:   1%|          | 10/1000 [00:22<35:26,  2.15s/it, v_num=ehd7, train_loss_step=1.39e+3, train_loss_epoch=1.41e+3]"
     ]
    },
    {
     "name": "stdout",
     "output_type": "stream",
     "text": [
      "\r",
      "Epoch 11/1000:   1%|          | 10/1000 [00:22<35:26,  2.15s/it, v_num=ehd7, train_loss_step=1.39e+3, train_loss_epoch=1.41e+3]"
     ]
    },
    {
     "name": "stdout",
     "output_type": "stream",
     "text": [
      "\r",
      "Epoch 11/1000:   1%|          | 11/1000 [00:24<35:11,  2.14s/it, v_num=ehd7, train_loss_step=1.39e+3, train_loss_epoch=1.41e+3]"
     ]
    },
    {
     "name": "stdout",
     "output_type": "stream",
     "text": [
      "\r",
      "Epoch 11/1000:   1%|          | 11/1000 [00:24<35:11,  2.14s/it, v_num=ehd7, train_loss_step=1.43e+3, train_loss_epoch=1.4e+3] "
     ]
    },
    {
     "name": "stdout",
     "output_type": "stream",
     "text": [
      "\r",
      "Epoch 12/1000:   1%|          | 11/1000 [00:24<35:11,  2.14s/it, v_num=ehd7, train_loss_step=1.43e+3, train_loss_epoch=1.4e+3]"
     ]
    },
    {
     "name": "stdout",
     "output_type": "stream",
     "text": [
      "\r",
      "Epoch 12/1000:   1%|          | 12/1000 [00:26<34:55,  2.12s/it, v_num=ehd7, train_loss_step=1.43e+3, train_loss_epoch=1.4e+3]"
     ]
    },
    {
     "name": "stdout",
     "output_type": "stream",
     "text": [
      "\r",
      "Epoch 12/1000:   1%|          | 12/1000 [00:26<34:55,  2.12s/it, v_num=ehd7, train_loss_step=1.41e+3, train_loss_epoch=1.4e+3]"
     ]
    },
    {
     "name": "stdout",
     "output_type": "stream",
     "text": [
      "\r",
      "Epoch 13/1000:   1%|          | 12/1000 [00:26<34:55,  2.12s/it, v_num=ehd7, train_loss_step=1.41e+3, train_loss_epoch=1.4e+3]"
     ]
    },
    {
     "name": "stdout",
     "output_type": "stream",
     "text": [
      "\r",
      "Epoch 13/1000:   1%|▏         | 13/1000 [00:28<34:47,  2.11s/it, v_num=ehd7, train_loss_step=1.41e+3, train_loss_epoch=1.4e+3]"
     ]
    },
    {
     "name": "stdout",
     "output_type": "stream",
     "text": [
      "\r",
      "Epoch 13/1000:   1%|▏         | 13/1000 [00:28<34:47,  2.11s/it, v_num=ehd7, train_loss_step=1.34e+3, train_loss_epoch=1.39e+3]"
     ]
    },
    {
     "name": "stdout",
     "output_type": "stream",
     "text": [
      "\r",
      "Epoch 14/1000:   1%|▏         | 13/1000 [00:28<34:47,  2.11s/it, v_num=ehd7, train_loss_step=1.34e+3, train_loss_epoch=1.39e+3]"
     ]
    },
    {
     "name": "stdout",
     "output_type": "stream",
     "text": [
      "\r",
      "Epoch 14/1000:   1%|▏         | 14/1000 [00:31<34:45,  2.12s/it, v_num=ehd7, train_loss_step=1.34e+3, train_loss_epoch=1.39e+3]"
     ]
    },
    {
     "name": "stdout",
     "output_type": "stream",
     "text": [
      "\r",
      "Epoch 14/1000:   1%|▏         | 14/1000 [00:31<34:45,  2.12s/it, v_num=ehd7, train_loss_step=1.39e+3, train_loss_epoch=1.39e+3]"
     ]
    },
    {
     "name": "stdout",
     "output_type": "stream",
     "text": [
      "\r",
      "Epoch 15/1000:   1%|▏         | 14/1000 [00:31<34:45,  2.12s/it, v_num=ehd7, train_loss_step=1.39e+3, train_loss_epoch=1.39e+3]"
     ]
    },
    {
     "name": "stdout",
     "output_type": "stream",
     "text": [
      "\r",
      "Epoch 15/1000:   2%|▏         | 15/1000 [00:33<34:51,  2.12s/it, v_num=ehd7, train_loss_step=1.39e+3, train_loss_epoch=1.39e+3]"
     ]
    },
    {
     "name": "stdout",
     "output_type": "stream",
     "text": [
      "\r",
      "Epoch 15/1000:   2%|▏         | 15/1000 [00:33<34:51,  2.12s/it, v_num=ehd7, train_loss_step=1.38e+3, train_loss_epoch=1.38e+3]"
     ]
    },
    {
     "name": "stdout",
     "output_type": "stream",
     "text": [
      "\r",
      "Epoch 16/1000:   2%|▏         | 15/1000 [00:33<34:51,  2.12s/it, v_num=ehd7, train_loss_step=1.38e+3, train_loss_epoch=1.38e+3]"
     ]
    },
    {
     "name": "stdout",
     "output_type": "stream",
     "text": [
      "\r",
      "Epoch 16/1000:   2%|▏         | 16/1000 [00:35<35:19,  2.15s/it, v_num=ehd7, train_loss_step=1.38e+3, train_loss_epoch=1.38e+3]"
     ]
    },
    {
     "name": "stdout",
     "output_type": "stream",
     "text": [
      "\r",
      "Epoch 16/1000:   2%|▏         | 16/1000 [00:35<35:19,  2.15s/it, v_num=ehd7, train_loss_step=1.36e+3, train_loss_epoch=1.38e+3]"
     ]
    },
    {
     "name": "stdout",
     "output_type": "stream",
     "text": [
      "\r",
      "Epoch 17/1000:   2%|▏         | 16/1000 [00:35<35:19,  2.15s/it, v_num=ehd7, train_loss_step=1.36e+3, train_loss_epoch=1.38e+3]"
     ]
    },
    {
     "name": "stdout",
     "output_type": "stream",
     "text": [
      "\r",
      "Epoch 17/1000:   2%|▏         | 17/1000 [00:37<35:10,  2.15s/it, v_num=ehd7, train_loss_step=1.36e+3, train_loss_epoch=1.38e+3]"
     ]
    },
    {
     "name": "stdout",
     "output_type": "stream",
     "text": [
      "\r",
      "Epoch 17/1000:   2%|▏         | 17/1000 [00:37<35:10,  2.15s/it, v_num=ehd7, train_loss_step=1.37e+3, train_loss_epoch=1.38e+3]"
     ]
    },
    {
     "name": "stdout",
     "output_type": "stream",
     "text": [
      "\r",
      "Epoch 18/1000:   2%|▏         | 17/1000 [00:37<35:10,  2.15s/it, v_num=ehd7, train_loss_step=1.37e+3, train_loss_epoch=1.38e+3]"
     ]
    },
    {
     "name": "stdout",
     "output_type": "stream",
     "text": [
      "\r",
      "Epoch 18/1000:   2%|▏         | 18/1000 [00:39<35:00,  2.14s/it, v_num=ehd7, train_loss_step=1.37e+3, train_loss_epoch=1.38e+3]"
     ]
    },
    {
     "name": "stdout",
     "output_type": "stream",
     "text": [
      "\r",
      "Epoch 18/1000:   2%|▏         | 18/1000 [00:39<35:00,  2.14s/it, v_num=ehd7, train_loss_step=1.37e+3, train_loss_epoch=1.37e+3]"
     ]
    },
    {
     "name": "stdout",
     "output_type": "stream",
     "text": [
      "\r",
      "Epoch 19/1000:   2%|▏         | 18/1000 [00:39<35:00,  2.14s/it, v_num=ehd7, train_loss_step=1.37e+3, train_loss_epoch=1.37e+3]"
     ]
    },
    {
     "name": "stdout",
     "output_type": "stream",
     "text": [
      "\r",
      "Epoch 19/1000:   2%|▏         | 19/1000 [00:41<34:48,  2.13s/it, v_num=ehd7, train_loss_step=1.37e+3, train_loss_epoch=1.37e+3]"
     ]
    },
    {
     "name": "stdout",
     "output_type": "stream",
     "text": [
      "\r",
      "Epoch 19/1000:   2%|▏         | 19/1000 [00:41<34:48,  2.13s/it, v_num=ehd7, train_loss_step=1.42e+3, train_loss_epoch=1.37e+3]"
     ]
    },
    {
     "name": "stdout",
     "output_type": "stream",
     "text": [
      "\r",
      "Epoch 20/1000:   2%|▏         | 19/1000 [00:41<34:48,  2.13s/it, v_num=ehd7, train_loss_step=1.42e+3, train_loss_epoch=1.37e+3]"
     ]
    },
    {
     "name": "stdout",
     "output_type": "stream",
     "text": [
      "\r",
      "Epoch 20/1000:   2%|▏         | 20/1000 [00:43<34:55,  2.14s/it, v_num=ehd7, train_loss_step=1.42e+3, train_loss_epoch=1.37e+3]"
     ]
    },
    {
     "name": "stdout",
     "output_type": "stream",
     "text": [
      "\r",
      "Epoch 20/1000:   2%|▏         | 20/1000 [00:43<34:55,  2.14s/it, v_num=ehd7, train_loss_step=1.48e+3, train_loss_epoch=1.37e+3]"
     ]
    },
    {
     "name": "stdout",
     "output_type": "stream",
     "text": [
      "\r",
      "Epoch 21/1000:   2%|▏         | 20/1000 [00:43<34:55,  2.14s/it, v_num=ehd7, train_loss_step=1.48e+3, train_loss_epoch=1.37e+3]"
     ]
    },
    {
     "name": "stdout",
     "output_type": "stream",
     "text": [
      "\r",
      "Epoch 21/1000:   2%|▏         | 21/1000 [00:46<34:51,  2.14s/it, v_num=ehd7, train_loss_step=1.48e+3, train_loss_epoch=1.37e+3]"
     ]
    },
    {
     "name": "stdout",
     "output_type": "stream",
     "text": [
      "\r",
      "Epoch 21/1000:   2%|▏         | 21/1000 [00:46<34:51,  2.14s/it, v_num=ehd7, train_loss_step=1.42e+3, train_loss_epoch=1.36e+3]"
     ]
    },
    {
     "name": "stdout",
     "output_type": "stream",
     "text": [
      "\r",
      "Epoch 22/1000:   2%|▏         | 21/1000 [00:46<34:51,  2.14s/it, v_num=ehd7, train_loss_step=1.42e+3, train_loss_epoch=1.36e+3]"
     ]
    },
    {
     "name": "stdout",
     "output_type": "stream",
     "text": [
      "\r",
      "Epoch 22/1000:   2%|▏         | 22/1000 [00:48<34:47,  2.13s/it, v_num=ehd7, train_loss_step=1.42e+3, train_loss_epoch=1.36e+3]"
     ]
    },
    {
     "name": "stdout",
     "output_type": "stream",
     "text": [
      "\r",
      "Epoch 22/1000:   2%|▏         | 22/1000 [00:48<34:47,  2.13s/it, v_num=ehd7, train_loss_step=1.33e+3, train_loss_epoch=1.36e+3]"
     ]
    },
    {
     "name": "stdout",
     "output_type": "stream",
     "text": [
      "\r",
      "Epoch 23/1000:   2%|▏         | 22/1000 [00:48<34:47,  2.13s/it, v_num=ehd7, train_loss_step=1.33e+3, train_loss_epoch=1.36e+3]"
     ]
    },
    {
     "name": "stdout",
     "output_type": "stream",
     "text": [
      "\r",
      "Epoch 23/1000:   2%|▏         | 23/1000 [00:50<34:34,  2.12s/it, v_num=ehd7, train_loss_step=1.33e+3, train_loss_epoch=1.36e+3]"
     ]
    },
    {
     "name": "stdout",
     "output_type": "stream",
     "text": [
      "\r",
      "Epoch 23/1000:   2%|▏         | 23/1000 [00:50<34:34,  2.12s/it, v_num=ehd7, train_loss_step=1.42e+3, train_loss_epoch=1.36e+3]"
     ]
    },
    {
     "name": "stdout",
     "output_type": "stream",
     "text": [
      "\r",
      "Epoch 24/1000:   2%|▏         | 23/1000 [00:50<34:34,  2.12s/it, v_num=ehd7, train_loss_step=1.42e+3, train_loss_epoch=1.36e+3]"
     ]
    },
    {
     "name": "stdout",
     "output_type": "stream",
     "text": [
      "\r",
      "Epoch 24/1000:   2%|▏         | 24/1000 [00:52<34:29,  2.12s/it, v_num=ehd7, train_loss_step=1.42e+3, train_loss_epoch=1.36e+3]"
     ]
    },
    {
     "name": "stdout",
     "output_type": "stream",
     "text": [
      "\r",
      "Epoch 24/1000:   2%|▏         | 24/1000 [00:52<34:29,  2.12s/it, v_num=ehd7, train_loss_step=1.33e+3, train_loss_epoch=1.36e+3]"
     ]
    },
    {
     "name": "stdout",
     "output_type": "stream",
     "text": [
      "\r",
      "Epoch 25/1000:   2%|▏         | 24/1000 [00:52<34:29,  2.12s/it, v_num=ehd7, train_loss_step=1.33e+3, train_loss_epoch=1.36e+3]"
     ]
    },
    {
     "name": "stdout",
     "output_type": "stream",
     "text": [
      "\r",
      "Epoch 25/1000:   2%|▎         | 25/1000 [00:54<34:24,  2.12s/it, v_num=ehd7, train_loss_step=1.33e+3, train_loss_epoch=1.36e+3]"
     ]
    },
    {
     "name": "stdout",
     "output_type": "stream",
     "text": [
      "\r",
      "Epoch 25/1000:   2%|▎         | 25/1000 [00:54<34:24,  2.12s/it, v_num=ehd7, train_loss_step=1.32e+3, train_loss_epoch=1.36e+3]"
     ]
    },
    {
     "name": "stdout",
     "output_type": "stream",
     "text": [
      "\r",
      "Epoch 26/1000:   2%|▎         | 25/1000 [00:54<34:24,  2.12s/it, v_num=ehd7, train_loss_step=1.32e+3, train_loss_epoch=1.36e+3]"
     ]
    },
    {
     "name": "stdout",
     "output_type": "stream",
     "text": [
      "\r",
      "Epoch 26/1000:   3%|▎         | 26/1000 [00:56<34:16,  2.11s/it, v_num=ehd7, train_loss_step=1.32e+3, train_loss_epoch=1.36e+3]"
     ]
    },
    {
     "name": "stdout",
     "output_type": "stream",
     "text": [
      "\r",
      "Epoch 26/1000:   3%|▎         | 26/1000 [00:56<34:16,  2.11s/it, v_num=ehd7, train_loss_step=1.33e+3, train_loss_epoch=1.35e+3]"
     ]
    },
    {
     "name": "stdout",
     "output_type": "stream",
     "text": [
      "\r",
      "Epoch 27/1000:   3%|▎         | 26/1000 [00:56<34:16,  2.11s/it, v_num=ehd7, train_loss_step=1.33e+3, train_loss_epoch=1.35e+3]"
     ]
    },
    {
     "name": "stdout",
     "output_type": "stream",
     "text": [
      "\r",
      "Epoch 27/1000:   3%|▎         | 27/1000 [00:58<34:10,  2.11s/it, v_num=ehd7, train_loss_step=1.33e+3, train_loss_epoch=1.35e+3]"
     ]
    },
    {
     "name": "stdout",
     "output_type": "stream",
     "text": [
      "\r",
      "Epoch 27/1000:   3%|▎         | 27/1000 [00:58<34:10,  2.11s/it, v_num=ehd7, train_loss_step=1.36e+3, train_loss_epoch=1.35e+3]"
     ]
    },
    {
     "name": "stdout",
     "output_type": "stream",
     "text": [
      "\r",
      "Epoch 28/1000:   3%|▎         | 27/1000 [00:58<34:10,  2.11s/it, v_num=ehd7, train_loss_step=1.36e+3, train_loss_epoch=1.35e+3]"
     ]
    },
    {
     "name": "stdout",
     "output_type": "stream",
     "text": [
      "\r",
      "Epoch 28/1000:   3%|▎         | 28/1000 [01:00<34:13,  2.11s/it, v_num=ehd7, train_loss_step=1.36e+3, train_loss_epoch=1.35e+3]"
     ]
    },
    {
     "name": "stdout",
     "output_type": "stream",
     "text": [
      "\r",
      "Epoch 28/1000:   3%|▎         | 28/1000 [01:00<34:13,  2.11s/it, v_num=ehd7, train_loss_step=1.37e+3, train_loss_epoch=1.35e+3]"
     ]
    },
    {
     "name": "stdout",
     "output_type": "stream",
     "text": [
      "\r",
      "Epoch 29/1000:   3%|▎         | 28/1000 [01:00<34:13,  2.11s/it, v_num=ehd7, train_loss_step=1.37e+3, train_loss_epoch=1.35e+3]"
     ]
    },
    {
     "name": "stdout",
     "output_type": "stream",
     "text": [
      "\r",
      "Epoch 29/1000:   3%|▎         | 29/1000 [01:02<34:08,  2.11s/it, v_num=ehd7, train_loss_step=1.37e+3, train_loss_epoch=1.35e+3]"
     ]
    },
    {
     "name": "stdout",
     "output_type": "stream",
     "text": [
      "\r",
      "Epoch 29/1000:   3%|▎         | 29/1000 [01:02<34:08,  2.11s/it, v_num=ehd7, train_loss_step=1.35e+3, train_loss_epoch=1.35e+3]"
     ]
    },
    {
     "name": "stdout",
     "output_type": "stream",
     "text": [
      "\r",
      "Epoch 30/1000:   3%|▎         | 29/1000 [01:03<34:08,  2.11s/it, v_num=ehd7, train_loss_step=1.35e+3, train_loss_epoch=1.35e+3]"
     ]
    },
    {
     "name": "stdout",
     "output_type": "stream",
     "text": [
      "\r",
      "Epoch 30/1000:   3%|▎         | 30/1000 [01:05<33:54,  2.10s/it, v_num=ehd7, train_loss_step=1.35e+3, train_loss_epoch=1.35e+3]"
     ]
    },
    {
     "name": "stdout",
     "output_type": "stream",
     "text": [
      "\r",
      "Epoch 30/1000:   3%|▎         | 30/1000 [01:05<33:54,  2.10s/it, v_num=ehd7, train_loss_step=1.31e+3, train_loss_epoch=1.35e+3]"
     ]
    },
    {
     "name": "stdout",
     "output_type": "stream",
     "text": [
      "\r",
      "Epoch 31/1000:   3%|▎         | 30/1000 [01:05<33:54,  2.10s/it, v_num=ehd7, train_loss_step=1.31e+3, train_loss_epoch=1.35e+3]"
     ]
    },
    {
     "name": "stdout",
     "output_type": "stream",
     "text": [
      "\r",
      "Epoch 31/1000:   3%|▎         | 31/1000 [01:07<33:47,  2.09s/it, v_num=ehd7, train_loss_step=1.31e+3, train_loss_epoch=1.35e+3]"
     ]
    },
    {
     "name": "stdout",
     "output_type": "stream",
     "text": [
      "\r",
      "Epoch 31/1000:   3%|▎         | 31/1000 [01:07<33:47,  2.09s/it, v_num=ehd7, train_loss_step=1.3e+3, train_loss_epoch=1.35e+3] "
     ]
    },
    {
     "name": "stdout",
     "output_type": "stream",
     "text": [
      "\r",
      "Epoch 32/1000:   3%|▎         | 31/1000 [01:07<33:47,  2.09s/it, v_num=ehd7, train_loss_step=1.3e+3, train_loss_epoch=1.35e+3]"
     ]
    },
    {
     "name": "stdout",
     "output_type": "stream",
     "text": [
      "\r",
      "Epoch 32/1000:   3%|▎         | 32/1000 [01:09<33:44,  2.09s/it, v_num=ehd7, train_loss_step=1.3e+3, train_loss_epoch=1.35e+3]"
     ]
    },
    {
     "name": "stdout",
     "output_type": "stream",
     "text": [
      "\r",
      "Epoch 32/1000:   3%|▎         | 32/1000 [01:09<33:44,  2.09s/it, v_num=ehd7, train_loss_step=1.39e+3, train_loss_epoch=1.35e+3]"
     ]
    },
    {
     "name": "stdout",
     "output_type": "stream",
     "text": [
      "\r",
      "Epoch 33/1000:   3%|▎         | 32/1000 [01:09<33:44,  2.09s/it, v_num=ehd7, train_loss_step=1.39e+3, train_loss_epoch=1.35e+3]"
     ]
    },
    {
     "name": "stdout",
     "output_type": "stream",
     "text": [
      "\r",
      "Epoch 33/1000:   3%|▎         | 33/1000 [01:11<33:45,  2.09s/it, v_num=ehd7, train_loss_step=1.39e+3, train_loss_epoch=1.35e+3]"
     ]
    },
    {
     "name": "stdout",
     "output_type": "stream",
     "text": [
      "\r",
      "Epoch 33/1000:   3%|▎         | 33/1000 [01:11<33:45,  2.09s/it, v_num=ehd7, train_loss_step=1.38e+3, train_loss_epoch=1.35e+3]"
     ]
    },
    {
     "name": "stdout",
     "output_type": "stream",
     "text": [
      "\r",
      "Epoch 34/1000:   3%|▎         | 33/1000 [01:11<33:45,  2.09s/it, v_num=ehd7, train_loss_step=1.38e+3, train_loss_epoch=1.35e+3]"
     ]
    },
    {
     "name": "stdout",
     "output_type": "stream",
     "text": [
      "\r",
      "Epoch 34/1000:   3%|▎         | 34/1000 [01:13<34:04,  2.12s/it, v_num=ehd7, train_loss_step=1.38e+3, train_loss_epoch=1.35e+3]"
     ]
    },
    {
     "name": "stdout",
     "output_type": "stream",
     "text": [
      "\r",
      "Epoch 34/1000:   3%|▎         | 34/1000 [01:13<34:04,  2.12s/it, v_num=ehd7, train_loss_step=1.37e+3, train_loss_epoch=1.34e+3]"
     ]
    },
    {
     "name": "stdout",
     "output_type": "stream",
     "text": [
      "\r",
      "Epoch 35/1000:   3%|▎         | 34/1000 [01:13<34:04,  2.12s/it, v_num=ehd7, train_loss_step=1.37e+3, train_loss_epoch=1.34e+3]"
     ]
    },
    {
     "name": "stdout",
     "output_type": "stream",
     "text": [
      "\r",
      "Epoch 35/1000:   4%|▎         | 35/1000 [01:15<33:56,  2.11s/it, v_num=ehd7, train_loss_step=1.37e+3, train_loss_epoch=1.34e+3]"
     ]
    },
    {
     "name": "stdout",
     "output_type": "stream",
     "text": [
      "\r",
      "Epoch 35/1000:   4%|▎         | 35/1000 [01:15<33:56,  2.11s/it, v_num=ehd7, train_loss_step=1.48e+3, train_loss_epoch=1.34e+3]"
     ]
    },
    {
     "name": "stdout",
     "output_type": "stream",
     "text": [
      "\r",
      "Epoch 36/1000:   4%|▎         | 35/1000 [01:15<33:56,  2.11s/it, v_num=ehd7, train_loss_step=1.48e+3, train_loss_epoch=1.34e+3]"
     ]
    },
    {
     "name": "stdout",
     "output_type": "stream",
     "text": [
      "\r",
      "Epoch 36/1000:   4%|▎         | 36/1000 [01:17<33:53,  2.11s/it, v_num=ehd7, train_loss_step=1.48e+3, train_loss_epoch=1.34e+3]"
     ]
    },
    {
     "name": "stdout",
     "output_type": "stream",
     "text": [
      "\r",
      "Epoch 36/1000:   4%|▎         | 36/1000 [01:17<33:53,  2.11s/it, v_num=ehd7, train_loss_step=1.43e+3, train_loss_epoch=1.34e+3]"
     ]
    },
    {
     "name": "stdout",
     "output_type": "stream",
     "text": [
      "\r",
      "Epoch 37/1000:   4%|▎         | 36/1000 [01:17<33:53,  2.11s/it, v_num=ehd7, train_loss_step=1.43e+3, train_loss_epoch=1.34e+3]"
     ]
    },
    {
     "name": "stdout",
     "output_type": "stream",
     "text": [
      "\r",
      "Epoch 37/1000:   4%|▎         | 37/1000 [01:19<33:41,  2.10s/it, v_num=ehd7, train_loss_step=1.43e+3, train_loss_epoch=1.34e+3]"
     ]
    },
    {
     "name": "stdout",
     "output_type": "stream",
     "text": [
      "\r",
      "Epoch 37/1000:   4%|▎         | 37/1000 [01:19<33:41,  2.10s/it, v_num=ehd7, train_loss_step=1.32e+3, train_loss_epoch=1.34e+3]"
     ]
    },
    {
     "name": "stdout",
     "output_type": "stream",
     "text": [
      "\r",
      "Epoch 38/1000:   4%|▎         | 37/1000 [01:19<33:41,  2.10s/it, v_num=ehd7, train_loss_step=1.32e+3, train_loss_epoch=1.34e+3]"
     ]
    },
    {
     "name": "stdout",
     "output_type": "stream",
     "text": [
      "\r",
      "Epoch 38/1000:   4%|▍         | 38/1000 [01:21<33:35,  2.10s/it, v_num=ehd7, train_loss_step=1.32e+3, train_loss_epoch=1.34e+3]"
     ]
    },
    {
     "name": "stdout",
     "output_type": "stream",
     "text": [
      "\r",
      "Epoch 38/1000:   4%|▍         | 38/1000 [01:21<33:35,  2.10s/it, v_num=ehd7, train_loss_step=1.33e+3, train_loss_epoch=1.34e+3]"
     ]
    },
    {
     "name": "stdout",
     "output_type": "stream",
     "text": [
      "\r",
      "Epoch 39/1000:   4%|▍         | 38/1000 [01:21<33:35,  2.10s/it, v_num=ehd7, train_loss_step=1.33e+3, train_loss_epoch=1.34e+3]"
     ]
    },
    {
     "name": "stdout",
     "output_type": "stream",
     "text": [
      "\r",
      "Epoch 39/1000:   4%|▍         | 39/1000 [01:23<33:32,  2.09s/it, v_num=ehd7, train_loss_step=1.33e+3, train_loss_epoch=1.34e+3]"
     ]
    },
    {
     "name": "stdout",
     "output_type": "stream",
     "text": [
      "\r",
      "Epoch 39/1000:   4%|▍         | 39/1000 [01:23<33:32,  2.09s/it, v_num=ehd7, train_loss_step=1.32e+3, train_loss_epoch=1.34e+3]"
     ]
    },
    {
     "name": "stdout",
     "output_type": "stream",
     "text": [
      "\r",
      "Epoch 40/1000:   4%|▍         | 39/1000 [01:23<33:32,  2.09s/it, v_num=ehd7, train_loss_step=1.32e+3, train_loss_epoch=1.34e+3]"
     ]
    },
    {
     "name": "stdout",
     "output_type": "stream",
     "text": [
      "\r",
      "Epoch 40/1000:   4%|▍         | 40/1000 [01:26<33:36,  2.10s/it, v_num=ehd7, train_loss_step=1.32e+3, train_loss_epoch=1.34e+3]"
     ]
    },
    {
     "name": "stdout",
     "output_type": "stream",
     "text": [
      "\r",
      "Epoch 40/1000:   4%|▍         | 40/1000 [01:26<33:36,  2.10s/it, v_num=ehd7, train_loss_step=1.39e+3, train_loss_epoch=1.33e+3]"
     ]
    },
    {
     "name": "stdout",
     "output_type": "stream",
     "text": [
      "\r",
      "Epoch 41/1000:   4%|▍         | 40/1000 [01:26<33:36,  2.10s/it, v_num=ehd7, train_loss_step=1.39e+3, train_loss_epoch=1.33e+3]"
     ]
    },
    {
     "name": "stdout",
     "output_type": "stream",
     "text": [
      "\r",
      "Epoch 41/1000:   4%|▍         | 41/1000 [01:28<33:30,  2.10s/it, v_num=ehd7, train_loss_step=1.39e+3, train_loss_epoch=1.33e+3]"
     ]
    },
    {
     "name": "stdout",
     "output_type": "stream",
     "text": [
      "\r",
      "Epoch 41/1000:   4%|▍         | 41/1000 [01:28<33:30,  2.10s/it, v_num=ehd7, train_loss_step=1.29e+3, train_loss_epoch=1.33e+3]"
     ]
    },
    {
     "name": "stdout",
     "output_type": "stream",
     "text": [
      "\r",
      "Epoch 42/1000:   4%|▍         | 41/1000 [01:28<33:30,  2.10s/it, v_num=ehd7, train_loss_step=1.29e+3, train_loss_epoch=1.33e+3]"
     ]
    },
    {
     "name": "stdout",
     "output_type": "stream",
     "text": [
      "\r",
      "Epoch 42/1000:   4%|▍         | 42/1000 [01:30<33:25,  2.09s/it, v_num=ehd7, train_loss_step=1.29e+3, train_loss_epoch=1.33e+3]"
     ]
    },
    {
     "name": "stdout",
     "output_type": "stream",
     "text": [
      "\r",
      "Epoch 42/1000:   4%|▍         | 42/1000 [01:30<33:25,  2.09s/it, v_num=ehd7, train_loss_step=1.24e+3, train_loss_epoch=1.33e+3]"
     ]
    },
    {
     "name": "stdout",
     "output_type": "stream",
     "text": [
      "\r",
      "Epoch 43/1000:   4%|▍         | 42/1000 [01:30<33:25,  2.09s/it, v_num=ehd7, train_loss_step=1.24e+3, train_loss_epoch=1.33e+3]"
     ]
    },
    {
     "name": "stdout",
     "output_type": "stream",
     "text": [
      "\r",
      "Epoch 43/1000:   4%|▍         | 43/1000 [01:32<32:43,  2.05s/it, v_num=ehd7, train_loss_step=1.24e+3, train_loss_epoch=1.33e+3]"
     ]
    },
    {
     "name": "stdout",
     "output_type": "stream",
     "text": [
      "\r",
      "Epoch 43/1000:   4%|▍         | 43/1000 [01:32<32:43,  2.05s/it, v_num=ehd7, train_loss_step=1.3e+3, train_loss_epoch=1.33e+3] "
     ]
    },
    {
     "name": "stdout",
     "output_type": "stream",
     "text": [
      "\r",
      "Epoch 44/1000:   4%|▍         | 43/1000 [01:32<32:43,  2.05s/it, v_num=ehd7, train_loss_step=1.3e+3, train_loss_epoch=1.33e+3]"
     ]
    },
    {
     "name": "stdout",
     "output_type": "stream",
     "text": [
      "\r",
      "Epoch 44/1000:   4%|▍         | 44/1000 [01:34<32:46,  2.06s/it, v_num=ehd7, train_loss_step=1.3e+3, train_loss_epoch=1.33e+3]"
     ]
    },
    {
     "name": "stdout",
     "output_type": "stream",
     "text": [
      "\r",
      "Epoch 44/1000:   4%|▍         | 44/1000 [01:34<32:46,  2.06s/it, v_num=ehd7, train_loss_step=1.39e+3, train_loss_epoch=1.33e+3]"
     ]
    },
    {
     "name": "stdout",
     "output_type": "stream",
     "text": [
      "\r",
      "Epoch 45/1000:   4%|▍         | 44/1000 [01:34<32:46,  2.06s/it, v_num=ehd7, train_loss_step=1.39e+3, train_loss_epoch=1.33e+3]"
     ]
    },
    {
     "name": "stdout",
     "output_type": "stream",
     "text": [
      "\r",
      "Epoch 45/1000:   4%|▍         | 45/1000 [01:36<32:30,  2.04s/it, v_num=ehd7, train_loss_step=1.39e+3, train_loss_epoch=1.33e+3]"
     ]
    },
    {
     "name": "stdout",
     "output_type": "stream",
     "text": [
      "\r",
      "Epoch 45/1000:   4%|▍         | 45/1000 [01:36<32:30,  2.04s/it, v_num=ehd7, train_loss_step=1.35e+3, train_loss_epoch=1.33e+3]"
     ]
    },
    {
     "name": "stdout",
     "output_type": "stream",
     "text": [
      "\r",
      "Epoch 46/1000:   4%|▍         | 45/1000 [01:36<32:30,  2.04s/it, v_num=ehd7, train_loss_step=1.35e+3, train_loss_epoch=1.33e+3]"
     ]
    },
    {
     "name": "stdout",
     "output_type": "stream",
     "text": [
      "\r",
      "Epoch 46/1000:   5%|▍         | 46/1000 [01:38<32:51,  2.07s/it, v_num=ehd7, train_loss_step=1.35e+3, train_loss_epoch=1.33e+3]"
     ]
    },
    {
     "name": "stdout",
     "output_type": "stream",
     "text": [
      "\r",
      "Epoch 46/1000:   5%|▍         | 46/1000 [01:38<32:51,  2.07s/it, v_num=ehd7, train_loss_step=1.36e+3, train_loss_epoch=1.32e+3]"
     ]
    },
    {
     "name": "stdout",
     "output_type": "stream",
     "text": [
      "\r",
      "Epoch 47/1000:   5%|▍         | 46/1000 [01:38<32:51,  2.07s/it, v_num=ehd7, train_loss_step=1.36e+3, train_loss_epoch=1.32e+3]"
     ]
    },
    {
     "name": "stdout",
     "output_type": "stream",
     "text": [
      "\r",
      "Epoch 47/1000:   5%|▍         | 47/1000 [01:40<32:57,  2.08s/it, v_num=ehd7, train_loss_step=1.36e+3, train_loss_epoch=1.32e+3]"
     ]
    },
    {
     "name": "stdout",
     "output_type": "stream",
     "text": [
      "\r",
      "Epoch 47/1000:   5%|▍         | 47/1000 [01:40<32:57,  2.08s/it, v_num=ehd7, train_loss_step=1.28e+3, train_loss_epoch=1.32e+3]"
     ]
    },
    {
     "name": "stdout",
     "output_type": "stream",
     "text": [
      "\r",
      "Epoch 48/1000:   5%|▍         | 47/1000 [01:40<32:57,  2.08s/it, v_num=ehd7, train_loss_step=1.28e+3, train_loss_epoch=1.32e+3]"
     ]
    },
    {
     "name": "stdout",
     "output_type": "stream",
     "text": [
      "\r",
      "Epoch 48/1000:   5%|▍         | 48/1000 [01:42<33:01,  2.08s/it, v_num=ehd7, train_loss_step=1.28e+3, train_loss_epoch=1.32e+3]"
     ]
    },
    {
     "name": "stdout",
     "output_type": "stream",
     "text": [
      "\r",
      "Epoch 48/1000:   5%|▍         | 48/1000 [01:42<33:01,  2.08s/it, v_num=ehd7, train_loss_step=1.36e+3, train_loss_epoch=1.32e+3]"
     ]
    },
    {
     "name": "stdout",
     "output_type": "stream",
     "text": [
      "\r",
      "Epoch 49/1000:   5%|▍         | 48/1000 [01:42<33:01,  2.08s/it, v_num=ehd7, train_loss_step=1.36e+3, train_loss_epoch=1.32e+3]"
     ]
    },
    {
     "name": "stdout",
     "output_type": "stream",
     "text": [
      "\r",
      "Epoch 49/1000:   5%|▍         | 49/1000 [01:44<33:09,  2.09s/it, v_num=ehd7, train_loss_step=1.36e+3, train_loss_epoch=1.32e+3]"
     ]
    },
    {
     "name": "stdout",
     "output_type": "stream",
     "text": [
      "\r",
      "Epoch 49/1000:   5%|▍         | 49/1000 [01:44<33:09,  2.09s/it, v_num=ehd7, train_loss_step=1.33e+3, train_loss_epoch=1.33e+3]"
     ]
    },
    {
     "name": "stdout",
     "output_type": "stream",
     "text": [
      "\r",
      "Epoch 50/1000:   5%|▍         | 49/1000 [01:44<33:09,  2.09s/it, v_num=ehd7, train_loss_step=1.33e+3, train_loss_epoch=1.33e+3]"
     ]
    },
    {
     "name": "stdout",
     "output_type": "stream",
     "text": [
      "\r",
      "Epoch 50/1000:   5%|▌         | 50/1000 [01:46<33:07,  2.09s/it, v_num=ehd7, train_loss_step=1.33e+3, train_loss_epoch=1.33e+3]"
     ]
    },
    {
     "name": "stdout",
     "output_type": "stream",
     "text": [
      "\r",
      "Epoch 50/1000:   5%|▌         | 50/1000 [01:46<33:07,  2.09s/it, v_num=ehd7, train_loss_step=1.42e+3, train_loss_epoch=1.33e+3]"
     ]
    },
    {
     "name": "stdout",
     "output_type": "stream",
     "text": [
      "\r",
      "Epoch 51/1000:   5%|▌         | 50/1000 [01:46<33:07,  2.09s/it, v_num=ehd7, train_loss_step=1.42e+3, train_loss_epoch=1.33e+3]"
     ]
    },
    {
     "name": "stdout",
     "output_type": "stream",
     "text": [
      "\r",
      "Epoch 51/1000:   5%|▌         | 51/1000 [01:48<33:07,  2.09s/it, v_num=ehd7, train_loss_step=1.42e+3, train_loss_epoch=1.33e+3]"
     ]
    },
    {
     "name": "stdout",
     "output_type": "stream",
     "text": [
      "\r",
      "Epoch 51/1000:   5%|▌         | 51/1000 [01:48<33:07,  2.09s/it, v_num=ehd7, train_loss_step=1.33e+3, train_loss_epoch=1.33e+3]"
     ]
    },
    {
     "name": "stdout",
     "output_type": "stream",
     "text": [
      "\r",
      "Epoch 51/1000:   5%|▌         | 51/1000 [01:48<33:46,  2.14s/it, v_num=ehd7, train_loss_step=1.33e+3, train_loss_epoch=1.33e+3]"
     ]
    },
    {
     "name": "stdout",
     "output_type": "stream",
     "text": [
      "\n",
      "Monitored metric reconstruction_loss_validation did not improve in the last 10 records. Best score: 1395.134. Signaling Trainer to stop.\n"
     ]
    }
   ],
   "source": [
    "model.train(logger=logger, plan_kwargs = plan_kwargs, **trainer_kwargs)"
   ]
  },
  {
   "cell_type": "code",
   "execution_count": 15,
   "id": "c282f6eb-0ad1-40a5-81e6-1acda1545dad",
   "metadata": {
    "execution": {
     "iopub.execute_input": "2024-04-30T09:27:17.936020Z",
     "iopub.status.busy": "2024-04-30T09:27:17.935431Z",
     "iopub.status.idle": "2024-04-30T09:27:22.070907Z",
     "shell.execute_reply": "2024-04-30T09:27:22.070251Z"
    },
    "papermill": {
     "duration": 4.157044,
     "end_time": "2024-04-30T09:27:22.072764",
     "exception": false,
     "start_time": "2024-04-30T09:27:17.915720",
     "status": "completed"
    },
    "tags": []
   },
   "outputs": [
    {
     "name": "stderr",
     "output_type": "stream",
     "text": [
      "\u001b[34m\u001b[1mwandb\u001b[0m: - 0.003 MB of 0.003 MB uploaded\r"
     ]
    },
    {
     "name": "stderr",
     "output_type": "stream",
     "text": [
      "\u001b[34m\u001b[1mwandb\u001b[0m: \\ 0.003 MB of 0.003 MB uploaded\r"
     ]
    },
    {
     "name": "stderr",
     "output_type": "stream",
     "text": [
      "\u001b[34m\u001b[1mwandb\u001b[0m: | 0.009 MB of 0.009 MB uploaded\r"
     ]
    },
    {
     "name": "stderr",
     "output_type": "stream",
     "text": [
      "\u001b[34m\u001b[1mwandb\u001b[0m:                                                                                \n"
     ]
    },
    {
     "name": "stderr",
     "output_type": "stream",
     "text": [
      "\u001b[34m\u001b[1mwandb\u001b[0m: \n",
      "\u001b[34m\u001b[1mwandb\u001b[0m: Run history:\n",
      "\u001b[34m\u001b[1mwandb\u001b[0m:                     elbo_train █▄▃▃▃▃▂▂▂▂▂▂▂▂▂▂▂▂▂▂▂▁▁▁▁▁▁▁▁▁▁▁▁▁▁▁▁▁▁▁\n",
      "\u001b[34m\u001b[1mwandb\u001b[0m:                elbo_validation █▄▂▂▁▁▁▁▁▁▁▁▁▁▁▁▁▁▁▁▁▁▁▁▁▁▁▁▁▁▁▁▁▁▁▁▁▁▁▁\n",
      "\u001b[34m\u001b[1mwandb\u001b[0m:                          epoch ▁▁▁▂▂▂▂▂▂▃▃▃▃▃▄▄▄▄▄▄▅▅▅▅▅▅▆▆▆▆▆▇▇▇▇▇▇███\n",
      "\u001b[34m\u001b[1mwandb\u001b[0m:                kl_global_train ▁▁▁▁▁▁▁▁▁▁▁▁▁▁▁▁▁▁▁▁▁▁▁▁▁▁▁▁▁▁▁▁▁▁▁▁▁▁▁▁\n",
      "\u001b[34m\u001b[1mwandb\u001b[0m:           kl_global_validation ▁▁▁▁▁▁▁▁▁▁▁▁▁▁▁▁▁▁▁▁▁▁▁▁▁▁▁▁▁▁▁▁▁▁▁▁▁▁▁▁\n",
      "\u001b[34m\u001b[1mwandb\u001b[0m:                 kl_local_train ▁▃▅▆▇▇███████▇▇▇▇▇▇▆▆▆▆▆▆▆▆▆▆▆▆▆▆▆▅▅▅▅▅▅\n",
      "\u001b[34m\u001b[1mwandb\u001b[0m:            kl_local_validation ▁▃▆▆█████████▇▇▇▇▇▇▇▆▆▆▆▆▆▆▆▆▆▆▆▆▆▆▆▆▆▆▆\n",
      "\u001b[34m\u001b[1mwandb\u001b[0m:                      kl_weight ▁▁▁▂▂▂▂▂▂▃▃▃▃▃▄▄▄▄▄▄▅▅▅▅▅▅▆▆▆▆▆▇▇▇▇▇▇███\n",
      "\u001b[34m\u001b[1mwandb\u001b[0m:      reconstruction_loss_train █▄▃▃▂▂▂▂▂▂▂▂▂▂▂▂▂▁▁▁▁▁▁▁▁▁▁▁▁▁▁▁▁▁▁▁▁▁▁▁\n",
      "\u001b[34m\u001b[1mwandb\u001b[0m: reconstruction_loss_validation █▄▂▂▁▁▁▁▁▁▁▁▁▁▁▁▁▁▁▁▁▁▁▁▁▁▁▁▁▁▁▁▁▁▁▁▁▁▁▁\n",
      "\u001b[34m\u001b[1mwandb\u001b[0m:               train_loss_epoch █▄▃▃▂▂▂▂▂▂▂▂▂▂▂▂▁▁▁▁▁▁▁▁▁▁▁▁▁▁▁▁▁▁▁▁▁▁▁▁\n",
      "\u001b[34m\u001b[1mwandb\u001b[0m:                train_loss_step █▆▆▃▆▃▃▃▃▂▂▂▃▄▃▂▂▃▁▃▁▄▂▃▃▂▃▁▁▃▁▂▂▃▂▁▂▂▂▁\n",
      "\u001b[34m\u001b[1mwandb\u001b[0m:            trainer/global_step ▁▁▁▁▂▂▂▂▂▃▃▃▃▃▃▄▄▄▄▄▅▅▅▅▅▅▆▆▆▆▆▇▇▇▇▇▇███\n",
      "\u001b[34m\u001b[1mwandb\u001b[0m:                validation_loss █▄▂▂▁▁▁▁▁▁▁▁▁▁▁▁▁▁▁▁▁▁▁▁▁▁▁▁▁▁▁▁▁▁▁▁▁▁▁▁\n",
      "\u001b[34m\u001b[1mwandb\u001b[0m: \n",
      "\u001b[34m\u001b[1mwandb\u001b[0m: Run summary:\n",
      "\u001b[34m\u001b[1mwandb\u001b[0m:                     elbo_train 1372.84985\n",
      "\u001b[34m\u001b[1mwandb\u001b[0m:                elbo_validation 1454.75208\n",
      "\u001b[34m\u001b[1mwandb\u001b[0m:                          epoch 50\n",
      "\u001b[34m\u001b[1mwandb\u001b[0m:                kl_global_train 0.0\n",
      "\u001b[34m\u001b[1mwandb\u001b[0m:           kl_global_validation 0.0\n",
      "\u001b[34m\u001b[1mwandb\u001b[0m:                 kl_local_train 50.5823\n",
      "\u001b[34m\u001b[1mwandb\u001b[0m:            kl_local_validation 47.48792\n",
      "\u001b[34m\u001b[1mwandb\u001b[0m:                      kl_weight 0.125\n",
      "\u001b[34m\u001b[1mwandb\u001b[0m:      reconstruction_loss_train 1322.26758\n",
      "\u001b[34m\u001b[1mwandb\u001b[0m: reconstruction_loss_validation 1407.26416\n",
      "\u001b[34m\u001b[1mwandb\u001b[0m:               train_loss_epoch 1328.59033\n",
      "\u001b[34m\u001b[1mwandb\u001b[0m:                train_loss_step 1294.32959\n",
      "\u001b[34m\u001b[1mwandb\u001b[0m:            trainer/global_step 7088\n",
      "\u001b[34m\u001b[1mwandb\u001b[0m:                validation_loss 1413.20032\n",
      "\u001b[34m\u001b[1mwandb\u001b[0m: \n"
     ]
    },
    {
     "name": "stderr",
     "output_type": "stream",
     "text": [
      "\u001b[34m\u001b[1mwandb\u001b[0m: 🚀 View run \u001b[33mStep2_Plasma\u001b[0m at: \u001b[34m\u001b[4mhttps://wandb.ai/inflammation/inflammation_atlas_R1/runs/13rtehd7\u001b[0m\n",
      "\u001b[34m\u001b[1mwandb\u001b[0m: Synced 5 W&B file(s), 0 media file(s), 0 artifact file(s) and 0 other file(s)\n"
     ]
    },
    {
     "name": "stderr",
     "output_type": "stream",
     "text": [
      "\u001b[34m\u001b[1mwandb\u001b[0m: Find logs at: \u001b[35m\u001b[1m./wandb/run-20240430_092528-13rtehd7/logs\u001b[0m\n"
     ]
    }
   ],
   "source": [
    "wandb.finish()"
   ]
  },
  {
   "cell_type": "markdown",
   "id": "d9fb1179-83c7-4ac6-b4aa-92dc7a349801",
   "metadata": {
    "papermill": {
     "duration": 0.011965,
     "end_time": "2024-04-30T09:27:22.096857",
     "exception": false,
     "start_time": "2024-04-30T09:27:22.084892",
     "status": "completed"
    },
    "tags": []
   },
   "source": [
    "### Extracting embedding space"
   ]
  },
  {
   "cell_type": "code",
   "execution_count": 16,
   "id": "caaa5832-0123-4c59-8ec6-f46a75f7a14e",
   "metadata": {
    "execution": {
     "iopub.execute_input": "2024-04-30T09:27:22.121924Z",
     "iopub.status.busy": "2024-04-30T09:27:22.121394Z",
     "iopub.status.idle": "2024-04-30T09:27:22.973602Z",
     "shell.execute_reply": "2024-04-30T09:27:22.972909Z"
    },
    "papermill": {
     "duration": 0.867137,
     "end_time": "2024-04-30T09:27:22.975704",
     "exception": false,
     "start_time": "2024-04-30T09:27:22.108567",
     "status": "completed"
    },
    "tags": []
   },
   "outputs": [],
   "source": [
    "adata.obsm['X_scVI'] = model.get_latent_representation()"
   ]
  },
  {
   "cell_type": "markdown",
   "id": "2f03e70b-839c-40a6-9fbb-d76bbd787419",
   "metadata": {
    "papermill": {
     "duration": 0.011504,
     "end_time": "2024-04-30T09:27:22.999224",
     "exception": false,
     "start_time": "2024-04-30T09:27:22.987720",
     "status": "completed"
    },
    "tags": []
   },
   "source": [
    "## Save the results"
   ]
  },
  {
   "cell_type": "code",
   "execution_count": 17,
   "id": "7b04049b-47fd-4b62-a1c0-c43dcc086d34",
   "metadata": {
    "execution": {
     "iopub.execute_input": "2024-04-30T09:27:23.023993Z",
     "iopub.status.busy": "2024-04-30T09:27:23.023671Z",
     "iopub.status.idle": "2024-04-30T09:27:27.518805Z",
     "shell.execute_reply": "2024-04-30T09:27:27.518024Z"
    },
    "papermill": {
     "duration": 4.510244,
     "end_time": "2024-04-30T09:27:27.521178",
     "exception": false,
     "start_time": "2024-04-30T09:27:23.010934",
     "status": "completed"
    },
    "tags": []
   },
   "outputs": [],
   "source": [
    "if overwriteData:\n",
    "    adata.write(here(f\"{workDir}/{cellGroup}/results/02_{annotationLevel}_{cellGroup}_HVGsubset_scVI.h5ad\"), compression=\"gzip\")\n",
    "    model.save(here(f\"{workDir}/{cellGroup}/results/02_{annotationLevel}_{cellGroup}_HVGsubset_scVI_MODEL/\"),\n",
    "               overwrite = True, \n",
    "               save_anndata = False )   "
   ]
  },
  {
   "cell_type": "code",
   "execution_count": 18,
   "id": "629ba2bd-f6be-44ef-8fca-bbdf891bf25f",
   "metadata": {
    "execution": {
     "iopub.execute_input": "2024-04-30T09:27:27.626340Z",
     "iopub.status.busy": "2024-04-30T09:27:27.625988Z",
     "iopub.status.idle": "2024-04-30T09:27:27.629724Z",
     "shell.execute_reply": "2024-04-30T09:27:27.629056Z"
    },
    "papermill": {
     "duration": 0.087441,
     "end_time": "2024-04-30T09:27:27.631383",
     "exception": false,
     "start_time": "2024-04-30T09:27:27.543942",
     "status": "completed"
    },
    "tags": []
   },
   "outputs": [],
   "source": [
    "# To load the model do (after loading corresponding adata):\n",
    "# model = scvi.model.SCVI.load(here('{}/results/01_{}_HVGsubset_scVI_MODEL/'.format(workDir, cellGroup)), \n",
    "#                              adata, \n",
    "#                              use_gpu=True)"
   ]
  },
  {
   "cell_type": "raw",
   "id": "975e84d0-f56b-498d-b3a8-c9219cf22e53",
   "metadata": {
    "papermill": {
     "duration": 0.013614,
     "end_time": "2024-04-30T09:27:27.716970",
     "exception": false,
     "start_time": "2024-04-30T09:27:27.703356",
     "status": "completed"
    },
    "tags": []
   },
   "source": [
    "session_info.show()"
   ]
  }
 ],
 "metadata": {
  "kernelspec": {
   "display_name": "Python 3 (ipykernel)",
   "language": "python",
   "name": "python3"
  },
  "language_info": {
   "codemirror_mode": {
    "name": "ipython",
    "version": 3
   },
   "file_extension": ".py",
   "mimetype": "text/x-python",
   "name": "python",
   "nbconvert_exporter": "python",
   "pygments_lexer": "ipython3",
   "version": "3.9.18"
  },
  "papermill": {
   "default_parameters": {},
   "duration": 135.225352,
   "end_time": "2024-04-30T09:27:29.955798",
   "environment_variables": {},
   "exception": null,
   "input_path": "./Plasma/02_integration_scVI.ipynb",
   "output_path": "./Plasma/02_integration_scVI_executed.ipynb",
   "parameters": {},
   "start_time": "2024-04-30T09:25:14.730446",
   "version": "2.5.0"
  }
 },
 "nbformat": 4,
 "nbformat_minor": 5
}