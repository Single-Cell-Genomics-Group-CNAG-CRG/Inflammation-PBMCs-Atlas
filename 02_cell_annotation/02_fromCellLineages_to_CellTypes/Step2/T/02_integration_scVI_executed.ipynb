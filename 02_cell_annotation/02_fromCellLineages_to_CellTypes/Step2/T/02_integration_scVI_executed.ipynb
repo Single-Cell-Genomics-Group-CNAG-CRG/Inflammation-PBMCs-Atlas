{
 "cells": [
  {
   "cell_type": "code",
   "execution_count": 1,
   "id": "2dd1425a-0c07-465e-b522-9e3cc5cb93a7",
   "metadata": {
    "execution": {
     "iopub.execute_input": "2024-04-30T09:27:31.771827Z",
     "iopub.status.busy": "2024-04-30T09:27:31.770995Z",
     "iopub.status.idle": "2024-04-30T09:27:37.061335Z",
     "shell.execute_reply": "2024-04-30T09:27:37.060579Z"
    },
    "papermill": {
     "duration": 5.29824,
     "end_time": "2024-04-30T09:27:37.063123",
     "exception": false,
     "start_time": "2024-04-30T09:27:31.764883",
     "status": "completed"
    },
    "tags": []
   },
   "outputs": [
    {
     "data": {
      "text/plain": [
       "True"
      ]
     },
     "execution_count": 1,
     "metadata": {},
     "output_type": "execute_result"
    }
   ],
   "source": [
    "import os\n",
    "import sys\n",
    "\n",
    "import numpy as np\n",
    "import matplotlib.pyplot as plt\n",
    "\n",
    "import scanpy as sc\n",
    "import scvi\n",
    "import torch\n",
    "\n",
    "from pytorch_lightning.loggers import WandbLogger\n",
    "import wandb\n",
    "from dotenv import load_dotenv\n",
    "\n",
    "import session_info\n",
    "import warnings\n",
    "from pyprojroot.here import here\n",
    "\n",
    "warnings.filterwarnings(\"ignore\")\n",
    "sys.path.insert(1, str(here('bin')))\n",
    "\n",
    "torch.set_float32_matmul_precision('high')\n",
    "\n",
    "#plt.style.use(['science','nature','no-latex'])\n",
    "dpi_fig_save = 300\n",
    "sc.set_figure_params(dpi=100, dpi_save=dpi_fig_save, vector_friendly=True)\n",
    "\n",
    "load_dotenv(here('.env'))"
   ]
  },
  {
   "cell_type": "code",
   "execution_count": 2,
   "id": "09c897fc-744b-43de-a681-718fb5d327fa",
   "metadata": {
    "execution": {
     "iopub.execute_input": "2024-04-30T09:27:37.074210Z",
     "iopub.status.busy": "2024-04-30T09:27:37.073390Z",
     "iopub.status.idle": "2024-04-30T09:27:37.077422Z",
     "shell.execute_reply": "2024-04-30T09:27:37.076800Z"
    },
    "papermill": {
     "duration": 0.01037,
     "end_time": "2024-04-30T09:27:37.079002",
     "exception": false,
     "start_time": "2024-04-30T09:27:37.068632",
     "status": "completed"
    },
    "tags": []
   },
   "outputs": [],
   "source": [
    "class CustomWandbLogger(WandbLogger):\n",
    "    @property\n",
    "    def save_dir(self):\n",
    "        return self.experiment.dir"
   ]
  },
  {
   "cell_type": "code",
   "execution_count": 3,
   "id": "8ee6662f-5d45-4137-80a5-bb0b9ae8d71f",
   "metadata": {
    "execution": {
     "iopub.execute_input": "2024-04-30T09:27:37.087959Z",
     "iopub.status.busy": "2024-04-30T09:27:37.087353Z",
     "iopub.status.idle": "2024-04-30T09:27:37.093832Z",
     "shell.execute_reply": "2024-04-30T09:27:37.093158Z"
    },
    "papermill": {
     "duration": 0.012839,
     "end_time": "2024-04-30T09:27:37.095544",
     "exception": false,
     "start_time": "2024-04-30T09:27:37.082705",
     "status": "completed"
    },
    "tags": []
   },
   "outputs": [
    {
     "name": "stderr",
     "output_type": "stream",
     "text": [
      "Seed set to 0\n"
     ]
    },
    {
     "name": "stdout",
     "output_type": "stream",
     "text": [
      "Last run with scvi-tools version: 1.1.2\n"
     ]
    }
   ],
   "source": [
    "scvi.settings.seed = 0\n",
    "print(\"Last run with scvi-tools version:\", scvi.__version__)"
   ]
  },
  {
   "cell_type": "markdown",
   "id": "a81037ff-5998-482a-ba86-520f757311a9",
   "metadata": {
    "papermill": {
     "duration": 0.003686,
     "end_time": "2024-04-30T09:27:37.102782",
     "exception": false,
     "start_time": "2024-04-30T09:27:37.099096",
     "status": "completed"
    },
    "tags": []
   },
   "source": [
    "**Setting parameters** "
   ]
  },
  {
   "cell_type": "code",
   "execution_count": 4,
   "id": "56c27966-8f10-4c93-8b1a-1fa75f005e41",
   "metadata": {
    "execution": {
     "iopub.execute_input": "2024-04-30T09:27:37.111744Z",
     "iopub.status.busy": "2024-04-30T09:27:37.111453Z",
     "iopub.status.idle": "2024-04-30T09:27:37.114902Z",
     "shell.execute_reply": "2024-04-30T09:27:37.114235Z"
    },
    "papermill": {
     "duration": 0.009826,
     "end_time": "2024-04-30T09:27:37.116574",
     "exception": false,
     "start_time": "2024-04-30T09:27:37.106748",
     "status": "completed"
    },
    "tags": []
   },
   "outputs": [],
   "source": [
    "overwriteFigures = True\n",
    "overwriteData = True"
   ]
  },
  {
   "cell_type": "code",
   "execution_count": 5,
   "id": "c86fccd3-a4fe-415b-8f4e-e2ceb3ec128a",
   "metadata": {
    "execution": {
     "iopub.execute_input": "2024-04-30T09:27:37.126903Z",
     "iopub.status.busy": "2024-04-30T09:27:37.126339Z",
     "iopub.status.idle": "2024-04-30T09:27:37.129805Z",
     "shell.execute_reply": "2024-04-30T09:27:37.129101Z"
    },
    "papermill": {
     "duration": 0.010995,
     "end_time": "2024-04-30T09:27:37.131444",
     "exception": false,
     "start_time": "2024-04-30T09:27:37.120449",
     "status": "completed"
    },
    "tags": []
   },
   "outputs": [],
   "source": [
    "cellGroup = 'T'\n",
    "workDir = os.getcwd()"
   ]
  },
  {
   "cell_type": "code",
   "execution_count": 6,
   "id": "2dee4d55-d168-467b-b867-a61fed9d6af1",
   "metadata": {
    "execution": {
     "iopub.execute_input": "2024-04-30T09:27:37.140985Z",
     "iopub.status.busy": "2024-04-30T09:27:37.140298Z",
     "iopub.status.idle": "2024-04-30T09:27:37.144007Z",
     "shell.execute_reply": "2024-04-30T09:27:37.143323Z"
    },
    "papermill": {
     "duration": 0.010071,
     "end_time": "2024-04-30T09:27:37.145546",
     "exception": false,
     "start_time": "2024-04-30T09:27:37.135475",
     "status": "completed"
    },
    "tags": []
   },
   "outputs": [],
   "source": [
    "annotationLevel = os.path.basename(os.path.normpath(workDir))"
   ]
  },
  {
   "cell_type": "code",
   "execution_count": 7,
   "id": "11e53cd5-b746-4152-89cb-c2f0c15d90b3",
   "metadata": {
    "execution": {
     "iopub.execute_input": "2024-04-30T09:27:37.154947Z",
     "iopub.status.busy": "2024-04-30T09:27:37.154302Z",
     "iopub.status.idle": "2024-04-30T09:27:37.158860Z",
     "shell.execute_reply": "2024-04-30T09:27:37.158076Z"
    },
    "papermill": {
     "duration": 0.011204,
     "end_time": "2024-04-30T09:27:37.160570",
     "exception": false,
     "start_time": "2024-04-30T09:27:37.149366",
     "status": "completed"
    },
    "tags": []
   },
   "outputs": [
    {
     "data": {
      "text/plain": [
       "'/home/jupyter/Inflammation-PBMCs-Atlas/02_cell_annotation/02_fromCellLineages_to_CellTypes/Step2'"
      ]
     },
     "execution_count": 7,
     "metadata": {},
     "output_type": "execute_result"
    }
   ],
   "source": [
    "workDir"
   ]
  },
  {
   "cell_type": "markdown",
   "id": "171d2f06-9a44-4fcb-b437-35dc546674b6",
   "metadata": {
    "papermill": {
     "duration": 0.00371,
     "end_time": "2024-04-30T09:27:37.168265",
     "exception": false,
     "start_time": "2024-04-30T09:27:37.164555",
     "status": "completed"
    },
    "tags": []
   },
   "source": [
    "**Load data**"
   ]
  },
  {
   "cell_type": "code",
   "execution_count": 8,
   "id": "429f34fe-dde6-4cc9-9f75-7de8f85c5ffe",
   "metadata": {
    "execution": {
     "iopub.execute_input": "2024-04-30T09:27:37.177659Z",
     "iopub.status.busy": "2024-04-30T09:27:37.177029Z",
     "iopub.status.idle": "2024-04-30T09:28:26.370757Z",
     "shell.execute_reply": "2024-04-30T09:28:26.370111Z"
    },
    "papermill": {
     "duration": 49.203889,
     "end_time": "2024-04-30T09:28:26.376185",
     "exception": false,
     "start_time": "2024-04-30T09:27:37.172296",
     "status": "completed"
    },
    "tags": []
   },
   "outputs": [
    {
     "data": {
      "text/plain": [
       "AnnData object with n_obs × n_vars = 2592743 × 2184\n",
       "    obs: 'studyID', 'libraryID', 'sampleID', 'chemistry', 'technology', 'patientID', 'disease', 'timepoint_replicate', 'treatmentStatus', 'therapyResponse', 'sex', 'age', 'BMI', 'binned_age', 'diseaseStatus', 'smokingStatus', 'ethnicity', 'institute', 'diseaseGroup', 'n_genes_by_counts', 'log1p_n_genes_by_counts', 'total_counts', 'log1p_total_counts', 'pct_counts_in_top_20_genes', 'total_counts_mt', 'log1p_total_counts_mt', 'pct_counts_mt', 'total_counts_ribo', 'log1p_total_counts_ribo', 'pct_counts_ribo', 'total_counts_hb', 'log1p_total_counts_hb', 'pct_counts_hb', 'total_counts_plt', 'log1p_total_counts_plt', 'pct_counts_plt', 'doublet_score', 'predicted_doublet', 'S_score', 'G2M_score', 'phase'\n",
       "    var: 'hgnc_id', 'symbol', 'locus_group', 'HUGO_status', 'mt', 'ribo', 'hb', 'plt', 'n_cells_by_counts', 'mean_counts', 'log1p_mean_counts', 'pct_dropout_by_counts', 'total_counts', 'log1p_total_counts', 'highly_variable'\n",
       "    uns: 'chemistry_colors', 'log1p'\n",
       "    layers: 'counts', 'log1p_10e4_counts'"
      ]
     },
     "execution_count": 8,
     "metadata": {},
     "output_type": "execute_result"
    }
   ],
   "source": [
    "adata = sc.read_h5ad(here(f\"{workDir}/{cellGroup}/results/01_{cellGroup}_normalized_HVGsubset.h5ad\"))\n",
    "adata"
   ]
  },
  {
   "cell_type": "markdown",
   "id": "8ac79f3b-d5af-41fa-8904-1e9ac1cbe2fb",
   "metadata": {
    "papermill": {
     "duration": 0.003864,
     "end_time": "2024-04-30T09:28:26.383886",
     "exception": false,
     "start_time": "2024-04-30T09:28:26.380022",
     "status": "completed"
    },
    "tags": []
   },
   "source": [
    "## scVI integration"
   ]
  },
  {
   "cell_type": "markdown",
   "id": "9544847d-d17f-4811-b14b-760446d54d32",
   "metadata": {
    "execution": {
     "iopub.execute_input": "2024-03-25T16:49:04.004504Z",
     "iopub.status.busy": "2024-03-25T16:49:04.004143Z",
     "iopub.status.idle": "2024-03-25T16:49:04.010148Z",
     "shell.execute_reply": "2024-03-25T16:49:04.009146Z",
     "shell.execute_reply.started": "2024-03-25T16:49:04.004477Z"
    },
    "papermill": {
     "duration": 0.003533,
     "end_time": "2024-04-30T09:28:26.391265",
     "exception": false,
     "start_time": "2024-04-30T09:28:26.387732",
     "status": "completed"
    },
    "tags": []
   },
   "source": [
    "**scVI parameters**"
   ]
  },
  {
   "cell_type": "code",
   "execution_count": 9,
   "id": "208966eb-545a-4c02-854c-0ed0487ef5b3",
   "metadata": {
    "execution": {
     "iopub.execute_input": "2024-04-30T09:28:26.400171Z",
     "iopub.status.busy": "2024-04-30T09:28:26.399879Z",
     "iopub.status.idle": "2024-04-30T09:28:26.405513Z",
     "shell.execute_reply": "2024-04-30T09:28:26.404837Z"
    },
    "papermill": {
     "duration": 0.012041,
     "end_time": "2024-04-30T09:28:26.406943",
     "exception": false,
     "start_time": "2024-04-30T09:28:26.394902",
     "status": "completed"
    },
    "tags": []
   },
   "outputs": [],
   "source": [
    "# https://docs.scvi-tools.org/en/stable/api/reference/scvi.train.Trainer.html#scvi.train.Trainer\n",
    "setup_kwargs = dict(\n",
    "    layer=\"counts\", \n",
    "    batch_key='libraryID', \n",
    "    categorical_covariate_keys = ['studyID', 'chemistry', 'disease', 'sampleID'],\n",
    "    labels_key = 'chemistry'    \n",
    ")\n",
    "\n",
    "scvi_kwargs = dict(n_hidden=512,\n",
    "                   n_latent=20, # reduceds after step 00 (main)\n",
    "                   n_layers=2,\n",
    "                   gene_likelihood='nb',\n",
    "                   dispersion='gene-label')\n",
    "\n",
    "trainer_kwargs = dict(\n",
    "    checkpointing_monitor = 'elbo_validation',\n",
    "    early_stopping_monitor = 'reconstruction_loss_validation',\n",
    "    early_stopping_patience = 10,\n",
    "    early_stopping_min_delta=0.1,\n",
    "    early_stopping = True,\n",
    "    max_epochs = 1000,\n",
    "\n",
    "    #logger = # wandb\n",
    ")\n",
    "# https://docs.scvi-tools.org/en/stable/api/reference/scvi.train.TrainingPlan.html#scvi.train.TrainingPlan\n",
    "plan_kwargs = dict(\n",
    "    lr = 5e-4,\n",
    "    #reduce_lr_on_plateau = True\n",
    ")\n",
    "\n",
    "# https://docs.scvi-tools.org/en/stable/api/reference/scvi.module.VAE.html#scvi.module.VAE\n",
    "#vae = dict(\n",
    "#    use_layer_norm='both',\n",
    "#    use_batch_norm='none',\n",
    "#    encode_covariates=True,\n",
    "#    deeply_inject_covariates=False\n",
    "#)\n",
    "parameter_dict = setup_kwargs | scvi_kwargs | trainer_kwargs | plan_kwargs"
   ]
  },
  {
   "cell_type": "markdown",
   "id": "1362366a-c16b-4c11-964b-b9c5f82f7b29",
   "metadata": {
    "papermill": {
     "duration": 0.003652,
     "end_time": "2024-04-30T09:28:26.414238",
     "exception": false,
     "start_time": "2024-04-30T09:28:26.410586",
     "status": "completed"
    },
    "tags": []
   },
   "source": [
    "**wandb parameter**"
   ]
  },
  {
   "cell_type": "code",
   "execution_count": 10,
   "id": "0496e33a-8ca5-423f-b42f-34a59760708c",
   "metadata": {
    "execution": {
     "iopub.execute_input": "2024-04-30T09:28:26.423218Z",
     "iopub.status.busy": "2024-04-30T09:28:26.422953Z",
     "iopub.status.idle": "2024-04-30T09:28:26.427404Z",
     "shell.execute_reply": "2024-04-30T09:28:26.426849Z"
    },
    "papermill": {
     "duration": 0.010868,
     "end_time": "2024-04-30T09:28:26.428982",
     "exception": false,
     "start_time": "2024-04-30T09:28:26.418114",
     "status": "completed"
    },
    "tags": []
   },
   "outputs": [
    {
     "data": {
      "text/plain": [
       "'Step2_T'"
      ]
     },
     "execution_count": 10,
     "metadata": {},
     "output_type": "execute_result"
    }
   ],
   "source": [
    "run_name = f\"{annotationLevel}_{cellGroup}\"\n",
    "run_name"
   ]
  },
  {
   "cell_type": "code",
   "execution_count": 11,
   "id": "b0021327-95a2-4002-bf32-2c5779a99505",
   "metadata": {
    "execution": {
     "iopub.execute_input": "2024-04-30T09:28:26.437967Z",
     "iopub.status.busy": "2024-04-30T09:28:26.437731Z",
     "iopub.status.idle": "2024-04-30T09:28:26.581092Z",
     "shell.execute_reply": "2024-04-30T09:28:26.580473Z"
    },
    "papermill": {
     "duration": 0.150357,
     "end_time": "2024-04-30T09:28:26.583079",
     "exception": false,
     "start_time": "2024-04-30T09:28:26.432722",
     "status": "completed"
    },
    "tags": []
   },
   "outputs": [],
   "source": [
    "logger = CustomWandbLogger(name = run_name, project='inflammation_atlas_R1', config=parameter_dict)"
   ]
  },
  {
   "cell_type": "markdown",
   "id": "c237eee1-a976-4915-9b7f-b014bf33f47d",
   "metadata": {
    "papermill": {
     "duration": 0.003827,
     "end_time": "2024-04-30T09:28:26.591203",
     "exception": false,
     "start_time": "2024-04-30T09:28:26.587376",
     "status": "completed"
    },
    "tags": []
   },
   "source": [
    "**Running integration**"
   ]
  },
  {
   "cell_type": "code",
   "execution_count": 12,
   "id": "aff97c53-1aba-462e-8a77-f1aec9cf724c",
   "metadata": {
    "execution": {
     "iopub.execute_input": "2024-04-30T09:28:26.600415Z",
     "iopub.status.busy": "2024-04-30T09:28:26.600136Z",
     "iopub.status.idle": "2024-04-30T09:28:27.430247Z",
     "shell.execute_reply": "2024-04-30T09:28:27.429193Z"
    },
    "papermill": {
     "duration": 0.837297,
     "end_time": "2024-04-30T09:28:27.432371",
     "exception": false,
     "start_time": "2024-04-30T09:28:26.595074",
     "status": "completed"
    },
    "tags": []
   },
   "outputs": [],
   "source": [
    "scvi.model.SCVI.setup_anndata(adata, \n",
    "                              **setup_kwargs)"
   ]
  },
  {
   "cell_type": "code",
   "execution_count": 13,
   "id": "1a56f448-cf44-47c1-81a4-a89caa930fec",
   "metadata": {
    "execution": {
     "iopub.execute_input": "2024-04-30T09:28:27.441846Z",
     "iopub.status.busy": "2024-04-30T09:28:27.441573Z",
     "iopub.status.idle": "2024-04-30T09:28:29.855559Z",
     "shell.execute_reply": "2024-04-30T09:28:29.854790Z"
    },
    "papermill": {
     "duration": 2.421113,
     "end_time": "2024-04-30T09:28:29.857642",
     "exception": false,
     "start_time": "2024-04-30T09:28:27.436529",
     "status": "completed"
    },
    "tags": []
   },
   "outputs": [],
   "source": [
    "model = scvi.model.SCVI(adata, **scvi_kwargs)"
   ]
  },
  {
   "cell_type": "code",
   "execution_count": 14,
   "id": "2735f010-4f24-4ae8-9740-a8cfeb335e9a",
   "metadata": {
    "execution": {
     "iopub.execute_input": "2024-04-30T09:28:29.867681Z",
     "iopub.status.busy": "2024-04-30T09:28:29.867366Z",
     "iopub.status.idle": "2024-04-30T12:18:58.682500Z",
     "shell.execute_reply": "2024-04-30T12:18:58.681773Z"
    },
    "papermill": {
     "duration": 10228.822452,
     "end_time": "2024-04-30T12:18:58.684314",
     "exception": false,
     "start_time": "2024-04-30T09:28:29.861862",
     "status": "completed"
    },
    "tags": []
   },
   "outputs": [
    {
     "name": "stderr",
     "output_type": "stream",
     "text": [
      "GPU available: True (cuda), used: True\n"
     ]
    },
    {
     "name": "stderr",
     "output_type": "stream",
     "text": [
      "TPU available: False, using: 0 TPU cores\n"
     ]
    },
    {
     "name": "stderr",
     "output_type": "stream",
     "text": [
      "IPU available: False, using: 0 IPUs\n"
     ]
    },
    {
     "name": "stderr",
     "output_type": "stream",
     "text": [
      "HPU available: False, using: 0 HPUs\n"
     ]
    },
    {
     "name": "stderr",
     "output_type": "stream",
     "text": [
      "\u001b[34m\u001b[1mwandb\u001b[0m: Currently logged in as: \u001b[33mdav1989\u001b[0m (\u001b[33minflammation\u001b[0m). Use \u001b[1m`wandb login --relogin`\u001b[0m to force relogin\n"
     ]
    },
    {
     "name": "stderr",
     "output_type": "stream",
     "text": [
      "\u001b[34m\u001b[1mwandb\u001b[0m: wandb version 0.16.6 is available!  To upgrade, please run:\n",
      "\u001b[34m\u001b[1mwandb\u001b[0m:  $ pip install wandb --upgrade\n"
     ]
    },
    {
     "name": "stderr",
     "output_type": "stream",
     "text": [
      "\u001b[34m\u001b[1mwandb\u001b[0m: Tracking run with wandb version 0.16.3\n"
     ]
    },
    {
     "name": "stderr",
     "output_type": "stream",
     "text": [
      "\u001b[34m\u001b[1mwandb\u001b[0m: Run data is saved locally in \u001b[35m\u001b[1m./wandb/run-20240430_092834-8pgk2249\u001b[0m\n",
      "\u001b[34m\u001b[1mwandb\u001b[0m: Run \u001b[1m`wandb offline`\u001b[0m to turn off syncing.\n"
     ]
    },
    {
     "name": "stderr",
     "output_type": "stream",
     "text": [
      "\u001b[34m\u001b[1mwandb\u001b[0m: Syncing run \u001b[33mStep2_T\u001b[0m\n"
     ]
    },
    {
     "name": "stderr",
     "output_type": "stream",
     "text": [
      "\u001b[34m\u001b[1mwandb\u001b[0m: ⭐️ View project at \u001b[34m\u001b[4mhttps://wandb.ai/inflammation/inflammation_atlas_R1\u001b[0m\n"
     ]
    },
    {
     "name": "stderr",
     "output_type": "stream",
     "text": [
      "\u001b[34m\u001b[1mwandb\u001b[0m: 🚀 View run at \u001b[34m\u001b[4mhttps://wandb.ai/inflammation/inflammation_atlas_R1/runs/8pgk2249\u001b[0m\n"
     ]
    },
    {
     "name": "stderr",
     "output_type": "stream",
     "text": [
      "LOCAL_RANK: 0 - CUDA_VISIBLE_DEVICES: [0]\n"
     ]
    },
    {
     "name": "stdout",
     "output_type": "stream",
     "text": [
      "\r",
      "Training:   0%|          | 0/1000 [00:00<?, ?it/s]"
     ]
    },
    {
     "name": "stdout",
     "output_type": "stream",
     "text": [
      "\r",
      "Epoch 1/1000:   0%|          | 0/1000 [00:00<?, ?it/s]"
     ]
    },
    {
     "name": "stdout",
     "output_type": "stream",
     "text": [
      "\r",
      "Epoch 1/1000:   0%|          | 1/1000 [04:07<68:37:59, 247.33s/it]"
     ]
    },
    {
     "name": "stdout",
     "output_type": "stream",
     "text": [
      "\r",
      "Epoch 1/1000:   0%|          | 1/1000 [04:07<68:37:59, 247.33s/it, v_num=2249, train_loss_step=496, train_loss_epoch=596]"
     ]
    },
    {
     "name": "stdout",
     "output_type": "stream",
     "text": [
      "\r",
      "Epoch 2/1000:   0%|          | 1/1000 [04:07<68:37:59, 247.33s/it, v_num=2249, train_loss_step=496, train_loss_epoch=596]"
     ]
    },
    {
     "name": "stdout",
     "output_type": "stream",
     "text": [
      "\r",
      "Epoch 2/1000:   0%|          | 2/1000 [08:12<68:10:12, 245.90s/it, v_num=2249, train_loss_step=496, train_loss_epoch=596]"
     ]
    },
    {
     "name": "stdout",
     "output_type": "stream",
     "text": [
      "\r",
      "Epoch 2/1000:   0%|          | 2/1000 [08:12<68:10:12, 245.90s/it, v_num=2249, train_loss_step=705, train_loss_epoch=588]"
     ]
    },
    {
     "name": "stdout",
     "output_type": "stream",
     "text": [
      "\r",
      "Epoch 3/1000:   0%|          | 2/1000 [08:12<68:10:12, 245.90s/it, v_num=2249, train_loss_step=705, train_loss_epoch=588]"
     ]
    },
    {
     "name": "stdout",
     "output_type": "stream",
     "text": [
      "\r",
      "Epoch 3/1000:   0%|          | 3/1000 [12:19<68:16:45, 246.55s/it, v_num=2249, train_loss_step=705, train_loss_epoch=588]"
     ]
    },
    {
     "name": "stdout",
     "output_type": "stream",
     "text": [
      "\r",
      "Epoch 3/1000:   0%|          | 3/1000 [12:19<68:16:45, 246.55s/it, v_num=2249, train_loss_step=559, train_loss_epoch=587]"
     ]
    },
    {
     "name": "stdout",
     "output_type": "stream",
     "text": [
      "\r",
      "Epoch 4/1000:   0%|          | 3/1000 [12:19<68:16:45, 246.55s/it, v_num=2249, train_loss_step=559, train_loss_epoch=587]"
     ]
    },
    {
     "name": "stdout",
     "output_type": "stream",
     "text": [
      "\r",
      "Epoch 4/1000:   0%|          | 4/1000 [16:25<68:10:39, 246.43s/it, v_num=2249, train_loss_step=559, train_loss_epoch=587]"
     ]
    },
    {
     "name": "stdout",
     "output_type": "stream",
     "text": [
      "\r",
      "Epoch 4/1000:   0%|          | 4/1000 [16:25<68:10:39, 246.43s/it, v_num=2249, train_loss_step=505, train_loss_epoch=586]"
     ]
    },
    {
     "name": "stdout",
     "output_type": "stream",
     "text": [
      "\r",
      "Epoch 5/1000:   0%|          | 4/1000 [16:25<68:10:39, 246.43s/it, v_num=2249, train_loss_step=505, train_loss_epoch=586]"
     ]
    },
    {
     "name": "stdout",
     "output_type": "stream",
     "text": [
      "\r",
      "Epoch 5/1000:   0%|          | 5/1000 [20:34<68:21:03, 247.30s/it, v_num=2249, train_loss_step=505, train_loss_epoch=586]"
     ]
    },
    {
     "name": "stdout",
     "output_type": "stream",
     "text": [
      "\r",
      "Epoch 5/1000:   0%|          | 5/1000 [20:34<68:21:03, 247.30s/it, v_num=2249, train_loss_step=582, train_loss_epoch=586]"
     ]
    },
    {
     "name": "stdout",
     "output_type": "stream",
     "text": [
      "\r",
      "Epoch 6/1000:   0%|          | 5/1000 [20:34<68:21:03, 247.30s/it, v_num=2249, train_loss_step=582, train_loss_epoch=586]"
     ]
    },
    {
     "name": "stdout",
     "output_type": "stream",
     "text": [
      "\r",
      "Epoch 6/1000:   1%|          | 6/1000 [24:46<68:45:22, 249.02s/it, v_num=2249, train_loss_step=582, train_loss_epoch=586]"
     ]
    },
    {
     "name": "stdout",
     "output_type": "stream",
     "text": [
      "\r",
      "Epoch 6/1000:   1%|          | 6/1000 [24:46<68:45:22, 249.02s/it, v_num=2249, train_loss_step=541, train_loss_epoch=586]"
     ]
    },
    {
     "name": "stdout",
     "output_type": "stream",
     "text": [
      "\r",
      "Epoch 7/1000:   1%|          | 6/1000 [24:46<68:45:22, 249.02s/it, v_num=2249, train_loss_step=541, train_loss_epoch=586]"
     ]
    },
    {
     "name": "stdout",
     "output_type": "stream",
     "text": [
      "\r",
      "Epoch 7/1000:   1%|          | 7/1000 [28:56<68:42:10, 249.07s/it, v_num=2249, train_loss_step=541, train_loss_epoch=586]"
     ]
    },
    {
     "name": "stdout",
     "output_type": "stream",
     "text": [
      "\r",
      "Epoch 7/1000:   1%|          | 7/1000 [28:56<68:42:10, 249.07s/it, v_num=2249, train_loss_step=560, train_loss_epoch=585]"
     ]
    },
    {
     "name": "stdout",
     "output_type": "stream",
     "text": [
      "\r",
      "Epoch 8/1000:   1%|          | 7/1000 [28:56<68:42:10, 249.07s/it, v_num=2249, train_loss_step=560, train_loss_epoch=585]"
     ]
    },
    {
     "name": "stdout",
     "output_type": "stream",
     "text": [
      "\r",
      "Epoch 8/1000:   1%|          | 8/1000 [33:13<69:23:59, 251.85s/it, v_num=2249, train_loss_step=560, train_loss_epoch=585]"
     ]
    },
    {
     "name": "stdout",
     "output_type": "stream",
     "text": [
      "\r",
      "Epoch 8/1000:   1%|          | 8/1000 [33:13<69:23:59, 251.85s/it, v_num=2249, train_loss_step=625, train_loss_epoch=585]"
     ]
    },
    {
     "name": "stdout",
     "output_type": "stream",
     "text": [
      "\r",
      "Epoch 9/1000:   1%|          | 8/1000 [33:13<69:23:59, 251.85s/it, v_num=2249, train_loss_step=625, train_loss_epoch=585]"
     ]
    },
    {
     "name": "stdout",
     "output_type": "stream",
     "text": [
      "\r",
      "Epoch 9/1000:   1%|          | 9/1000 [37:24<69:12:17, 251.40s/it, v_num=2249, train_loss_step=625, train_loss_epoch=585]"
     ]
    },
    {
     "name": "stdout",
     "output_type": "stream",
     "text": [
      "\r",
      "Epoch 9/1000:   1%|          | 9/1000 [37:24<69:12:17, 251.40s/it, v_num=2249, train_loss_step=534, train_loss_epoch=585]"
     ]
    },
    {
     "name": "stdout",
     "output_type": "stream",
     "text": [
      "\r",
      "Epoch 10/1000:   1%|          | 9/1000 [37:24<69:12:17, 251.40s/it, v_num=2249, train_loss_step=534, train_loss_epoch=585]"
     ]
    },
    {
     "name": "stdout",
     "output_type": "stream",
     "text": [
      "\r",
      "Epoch 10/1000:   1%|          | 10/1000 [41:01<66:15:36, 240.95s/it, v_num=2249, train_loss_step=534, train_loss_epoch=585]"
     ]
    },
    {
     "name": "stdout",
     "output_type": "stream",
     "text": [
      "\r",
      "Epoch 10/1000:   1%|          | 10/1000 [41:01<66:15:36, 240.95s/it, v_num=2249, train_loss_step=544, train_loss_epoch=585]"
     ]
    },
    {
     "name": "stdout",
     "output_type": "stream",
     "text": [
      "\r",
      "Epoch 11/1000:   1%|          | 10/1000 [41:01<66:15:36, 240.95s/it, v_num=2249, train_loss_step=544, train_loss_epoch=585]"
     ]
    },
    {
     "name": "stdout",
     "output_type": "stream",
     "text": [
      "\r",
      "Epoch 11/1000:   1%|          | 11/1000 [45:02<66:08:14, 240.74s/it, v_num=2249, train_loss_step=544, train_loss_epoch=585]"
     ]
    },
    {
     "name": "stdout",
     "output_type": "stream",
     "text": [
      "\r",
      "Epoch 11/1000:   1%|          | 11/1000 [45:02<66:08:14, 240.74s/it, v_num=2249, train_loss_step=638, train_loss_epoch=585]"
     ]
    },
    {
     "name": "stdout",
     "output_type": "stream",
     "text": [
      "\r",
      "Epoch 12/1000:   1%|          | 11/1000 [45:02<66:08:14, 240.74s/it, v_num=2249, train_loss_step=638, train_loss_epoch=585]"
     ]
    },
    {
     "name": "stdout",
     "output_type": "stream",
     "text": [
      "\r",
      "Epoch 12/1000:   1%|          | 12/1000 [48:39<64:08:42, 233.73s/it, v_num=2249, train_loss_step=638, train_loss_epoch=585]"
     ]
    },
    {
     "name": "stdout",
     "output_type": "stream",
     "text": [
      "\r",
      "Epoch 12/1000:   1%|          | 12/1000 [48:39<64:08:42, 233.73s/it, v_num=2249, train_loss_step=586, train_loss_epoch=585]"
     ]
    },
    {
     "name": "stdout",
     "output_type": "stream",
     "text": [
      "\r",
      "Epoch 13/1000:   1%|          | 12/1000 [48:39<64:08:42, 233.73s/it, v_num=2249, train_loss_step=586, train_loss_epoch=585]"
     ]
    },
    {
     "name": "stdout",
     "output_type": "stream",
     "text": [
      "\r",
      "Epoch 13/1000:   1%|▏         | 13/1000 [52:21<63:04:53, 230.08s/it, v_num=2249, train_loss_step=586, train_loss_epoch=585]"
     ]
    },
    {
     "name": "stdout",
     "output_type": "stream",
     "text": [
      "\r",
      "Epoch 13/1000:   1%|▏         | 13/1000 [52:21<63:04:53, 230.08s/it, v_num=2249, train_loss_step=558, train_loss_epoch=585]"
     ]
    },
    {
     "name": "stdout",
     "output_type": "stream",
     "text": [
      "\r",
      "Epoch 14/1000:   1%|▏         | 13/1000 [52:21<63:04:53, 230.08s/it, v_num=2249, train_loss_step=558, train_loss_epoch=585]"
     ]
    },
    {
     "name": "stdout",
     "output_type": "stream",
     "text": [
      "\r",
      "Epoch 14/1000:   1%|▏         | 14/1000 [56:00<62:06:31, 226.77s/it, v_num=2249, train_loss_step=558, train_loss_epoch=585]"
     ]
    },
    {
     "name": "stdout",
     "output_type": "stream",
     "text": [
      "\r",
      "Epoch 14/1000:   1%|▏         | 14/1000 [56:00<62:06:31, 226.77s/it, v_num=2249, train_loss_step=556, train_loss_epoch=585]"
     ]
    },
    {
     "name": "stdout",
     "output_type": "stream",
     "text": [
      "\r",
      "Epoch 15/1000:   1%|▏         | 14/1000 [56:00<62:06:31, 226.77s/it, v_num=2249, train_loss_step=556, train_loss_epoch=585]"
     ]
    },
    {
     "name": "stdout",
     "output_type": "stream",
     "text": [
      "\r",
      "Epoch 15/1000:   2%|▏         | 15/1000 [59:36<61:07:02, 223.37s/it, v_num=2249, train_loss_step=556, train_loss_epoch=585]"
     ]
    },
    {
     "name": "stdout",
     "output_type": "stream",
     "text": [
      "\r",
      "Epoch 15/1000:   2%|▏         | 15/1000 [59:36<61:07:02, 223.37s/it, v_num=2249, train_loss_step=647, train_loss_epoch=585]"
     ]
    },
    {
     "name": "stdout",
     "output_type": "stream",
     "text": [
      "\r",
      "Epoch 16/1000:   2%|▏         | 15/1000 [59:36<61:07:02, 223.37s/it, v_num=2249, train_loss_step=647, train_loss_epoch=585]"
     ]
    },
    {
     "name": "stdout",
     "output_type": "stream",
     "text": [
      "\r",
      "Epoch 16/1000:   2%|▏         | 16/1000 [1:03:12<60:26:57, 221.16s/it, v_num=2249, train_loss_step=647, train_loss_epoch=585]"
     ]
    },
    {
     "name": "stdout",
     "output_type": "stream",
     "text": [
      "\r",
      "Epoch 16/1000:   2%|▏         | 16/1000 [1:03:12<60:26:57, 221.16s/it, v_num=2249, train_loss_step=534, train_loss_epoch=585]"
     ]
    },
    {
     "name": "stdout",
     "output_type": "stream",
     "text": [
      "\r",
      "Epoch 17/1000:   2%|▏         | 16/1000 [1:03:12<60:26:57, 221.16s/it, v_num=2249, train_loss_step=534, train_loss_epoch=585]"
     ]
    },
    {
     "name": "stdout",
     "output_type": "stream",
     "text": [
      "\r",
      "Epoch 17/1000:   2%|▏         | 17/1000 [1:06:47<59:56:06, 219.50s/it, v_num=2249, train_loss_step=534, train_loss_epoch=585]"
     ]
    },
    {
     "name": "stdout",
     "output_type": "stream",
     "text": [
      "\r",
      "Epoch 17/1000:   2%|▏         | 17/1000 [1:06:47<59:56:06, 219.50s/it, v_num=2249, train_loss_step=620, train_loss_epoch=585]"
     ]
    },
    {
     "name": "stdout",
     "output_type": "stream",
     "text": [
      "\r",
      "Epoch 18/1000:   2%|▏         | 17/1000 [1:06:47<59:56:06, 219.50s/it, v_num=2249, train_loss_step=620, train_loss_epoch=585]"
     ]
    },
    {
     "name": "stdout",
     "output_type": "stream",
     "text": [
      "\r",
      "Epoch 18/1000:   2%|▏         | 18/1000 [1:10:23<59:35:14, 218.45s/it, v_num=2249, train_loss_step=620, train_loss_epoch=585]"
     ]
    },
    {
     "name": "stdout",
     "output_type": "stream",
     "text": [
      "\r",
      "Epoch 18/1000:   2%|▏         | 18/1000 [1:10:23<59:35:14, 218.45s/it, v_num=2249, train_loss_step=524, train_loss_epoch=585]"
     ]
    },
    {
     "name": "stdout",
     "output_type": "stream",
     "text": [
      "\r",
      "Epoch 19/1000:   2%|▏         | 18/1000 [1:10:23<59:35:14, 218.45s/it, v_num=2249, train_loss_step=524, train_loss_epoch=585]"
     ]
    },
    {
     "name": "stdout",
     "output_type": "stream",
     "text": [
      "\r",
      "Epoch 19/1000:   2%|▏         | 19/1000 [1:14:02<59:31:03, 218.41s/it, v_num=2249, train_loss_step=524, train_loss_epoch=585]"
     ]
    },
    {
     "name": "stdout",
     "output_type": "stream",
     "text": [
      "\r",
      "Epoch 19/1000:   2%|▏         | 19/1000 [1:14:02<59:31:03, 218.41s/it, v_num=2249, train_loss_step=617, train_loss_epoch=585]"
     ]
    },
    {
     "name": "stdout",
     "output_type": "stream",
     "text": [
      "\r",
      "Epoch 20/1000:   2%|▏         | 19/1000 [1:14:02<59:31:03, 218.41s/it, v_num=2249, train_loss_step=617, train_loss_epoch=585]"
     ]
    },
    {
     "name": "stdout",
     "output_type": "stream",
     "text": [
      "\r",
      "Epoch 20/1000:   2%|▏         | 20/1000 [1:17:38<59:19:09, 217.91s/it, v_num=2249, train_loss_step=617, train_loss_epoch=585]"
     ]
    },
    {
     "name": "stdout",
     "output_type": "stream",
     "text": [
      "\r",
      "Epoch 20/1000:   2%|▏         | 20/1000 [1:17:38<59:19:09, 217.91s/it, v_num=2249, train_loss_step=600, train_loss_epoch=585]"
     ]
    },
    {
     "name": "stdout",
     "output_type": "stream",
     "text": [
      "\r",
      "Epoch 21/1000:   2%|▏         | 20/1000 [1:17:38<59:19:09, 217.91s/it, v_num=2249, train_loss_step=600, train_loss_epoch=585]"
     ]
    },
    {
     "name": "stdout",
     "output_type": "stream",
     "text": [
      "\r",
      "Epoch 21/1000:   2%|▏         | 21/1000 [1:21:14<59:02:39, 217.12s/it, v_num=2249, train_loss_step=600, train_loss_epoch=585]"
     ]
    },
    {
     "name": "stdout",
     "output_type": "stream",
     "text": [
      "\r",
      "Epoch 21/1000:   2%|▏         | 21/1000 [1:21:14<59:02:39, 217.12s/it, v_num=2249, train_loss_step=581, train_loss_epoch=585]"
     ]
    },
    {
     "name": "stdout",
     "output_type": "stream",
     "text": [
      "\r",
      "Epoch 22/1000:   2%|▏         | 21/1000 [1:21:14<59:02:39, 217.12s/it, v_num=2249, train_loss_step=581, train_loss_epoch=585]"
     ]
    },
    {
     "name": "stdout",
     "output_type": "stream",
     "text": [
      "\r",
      "Epoch 22/1000:   2%|▏         | 22/1000 [1:24:48<58:47:13, 216.39s/it, v_num=2249, train_loss_step=581, train_loss_epoch=585]"
     ]
    },
    {
     "name": "stdout",
     "output_type": "stream",
     "text": [
      "\r",
      "Epoch 22/1000:   2%|▏         | 22/1000 [1:24:48<58:47:13, 216.39s/it, v_num=2249, train_loss_step=572, train_loss_epoch=585]"
     ]
    },
    {
     "name": "stdout",
     "output_type": "stream",
     "text": [
      "\r",
      "Epoch 23/1000:   2%|▏         | 22/1000 [1:24:48<58:47:13, 216.39s/it, v_num=2249, train_loss_step=572, train_loss_epoch=585]"
     ]
    },
    {
     "name": "stdout",
     "output_type": "stream",
     "text": [
      "\r",
      "Epoch 23/1000:   2%|▏         | 23/1000 [1:28:24<58:39:39, 216.15s/it, v_num=2249, train_loss_step=572, train_loss_epoch=585]"
     ]
    },
    {
     "name": "stdout",
     "output_type": "stream",
     "text": [
      "\r",
      "Epoch 23/1000:   2%|▏         | 23/1000 [1:28:24<58:39:39, 216.15s/it, v_num=2249, train_loss_step=681, train_loss_epoch=585]"
     ]
    },
    {
     "name": "stdout",
     "output_type": "stream",
     "text": [
      "\r",
      "Epoch 24/1000:   2%|▏         | 23/1000 [1:28:24<58:39:39, 216.15s/it, v_num=2249, train_loss_step=681, train_loss_epoch=585]"
     ]
    },
    {
     "name": "stdout",
     "output_type": "stream",
     "text": [
      "\r",
      "Epoch 24/1000:   2%|▏         | 24/1000 [1:31:58<58:25:13, 215.48s/it, v_num=2249, train_loss_step=681, train_loss_epoch=585]"
     ]
    },
    {
     "name": "stdout",
     "output_type": "stream",
     "text": [
      "\r",
      "Epoch 24/1000:   2%|▏         | 24/1000 [1:31:58<58:25:13, 215.48s/it, v_num=2249, train_loss_step=542, train_loss_epoch=585]"
     ]
    },
    {
     "name": "stdout",
     "output_type": "stream",
     "text": [
      "\r",
      "Epoch 25/1000:   2%|▏         | 24/1000 [1:31:58<58:25:13, 215.48s/it, v_num=2249, train_loss_step=542, train_loss_epoch=585]"
     ]
    },
    {
     "name": "stdout",
     "output_type": "stream",
     "text": [
      "\r",
      "Epoch 25/1000:   2%|▎         | 25/1000 [1:35:31<58:12:01, 214.89s/it, v_num=2249, train_loss_step=542, train_loss_epoch=585]"
     ]
    },
    {
     "name": "stdout",
     "output_type": "stream",
     "text": [
      "\r",
      "Epoch 25/1000:   2%|▎         | 25/1000 [1:35:31<58:12:01, 214.89s/it, v_num=2249, train_loss_step=575, train_loss_epoch=585]"
     ]
    },
    {
     "name": "stdout",
     "output_type": "stream",
     "text": [
      "\r",
      "Epoch 26/1000:   2%|▎         | 25/1000 [1:35:31<58:12:01, 214.89s/it, v_num=2249, train_loss_step=575, train_loss_epoch=585]"
     ]
    },
    {
     "name": "stdout",
     "output_type": "stream",
     "text": [
      "\r",
      "Epoch 26/1000:   3%|▎         | 26/1000 [1:39:06<58:08:52, 214.92s/it, v_num=2249, train_loss_step=575, train_loss_epoch=585]"
     ]
    },
    {
     "name": "stdout",
     "output_type": "stream",
     "text": [
      "\r",
      "Epoch 26/1000:   3%|▎         | 26/1000 [1:39:06<58:08:52, 214.92s/it, v_num=2249, train_loss_step=710, train_loss_epoch=585]"
     ]
    },
    {
     "name": "stdout",
     "output_type": "stream",
     "text": [
      "\r",
      "Epoch 27/1000:   3%|▎         | 26/1000 [1:39:06<58:08:52, 214.92s/it, v_num=2249, train_loss_step=710, train_loss_epoch=585]"
     ]
    },
    {
     "name": "stdout",
     "output_type": "stream",
     "text": [
      "\r",
      "Epoch 27/1000:   3%|▎         | 27/1000 [1:42:42<58:10:15, 215.23s/it, v_num=2249, train_loss_step=710, train_loss_epoch=585]"
     ]
    },
    {
     "name": "stdout",
     "output_type": "stream",
     "text": [
      "\r",
      "Epoch 27/1000:   3%|▎         | 27/1000 [1:42:42<58:10:15, 215.23s/it, v_num=2249, train_loss_step=547, train_loss_epoch=585]"
     ]
    },
    {
     "name": "stdout",
     "output_type": "stream",
     "text": [
      "\r",
      "Epoch 28/1000:   3%|▎         | 27/1000 [1:42:42<58:10:15, 215.23s/it, v_num=2249, train_loss_step=547, train_loss_epoch=585]"
     ]
    },
    {
     "name": "stdout",
     "output_type": "stream",
     "text": [
      "\r",
      "Epoch 28/1000:   3%|▎         | 28/1000 [1:46:20<58:18:21, 215.95s/it, v_num=2249, train_loss_step=547, train_loss_epoch=585]"
     ]
    },
    {
     "name": "stdout",
     "output_type": "stream",
     "text": [
      "\r",
      "Epoch 28/1000:   3%|▎         | 28/1000 [1:46:20<58:18:21, 215.95s/it, v_num=2249, train_loss_step=475, train_loss_epoch=585]"
     ]
    },
    {
     "name": "stdout",
     "output_type": "stream",
     "text": [
      "\r",
      "Epoch 29/1000:   3%|▎         | 28/1000 [1:46:20<58:18:21, 215.95s/it, v_num=2249, train_loss_step=475, train_loss_epoch=585]"
     ]
    },
    {
     "name": "stdout",
     "output_type": "stream",
     "text": [
      "\r",
      "Epoch 29/1000:   3%|▎         | 29/1000 [1:49:53<57:59:04, 214.98s/it, v_num=2249, train_loss_step=475, train_loss_epoch=585]"
     ]
    },
    {
     "name": "stdout",
     "output_type": "stream",
     "text": [
      "\r",
      "Epoch 29/1000:   3%|▎         | 29/1000 [1:49:53<57:59:04, 214.98s/it, v_num=2249, train_loss_step=647, train_loss_epoch=585]"
     ]
    },
    {
     "name": "stdout",
     "output_type": "stream",
     "text": [
      "\r",
      "Epoch 30/1000:   3%|▎         | 29/1000 [1:49:53<57:59:04, 214.98s/it, v_num=2249, train_loss_step=647, train_loss_epoch=585]"
     ]
    },
    {
     "name": "stdout",
     "output_type": "stream",
     "text": [
      "\r",
      "Epoch 30/1000:   3%|▎         | 30/1000 [1:53:27<57:51:08, 214.71s/it, v_num=2249, train_loss_step=647, train_loss_epoch=585]"
     ]
    },
    {
     "name": "stdout",
     "output_type": "stream",
     "text": [
      "\r",
      "Epoch 30/1000:   3%|▎         | 30/1000 [1:53:27<57:51:08, 214.71s/it, v_num=2249, train_loss_step=613, train_loss_epoch=585]"
     ]
    },
    {
     "name": "stdout",
     "output_type": "stream",
     "text": [
      "\r",
      "Epoch 31/1000:   3%|▎         | 30/1000 [1:53:27<57:51:08, 214.71s/it, v_num=2249, train_loss_step=613, train_loss_epoch=585]"
     ]
    },
    {
     "name": "stdout",
     "output_type": "stream",
     "text": [
      "\r",
      "Epoch 31/1000:   3%|▎         | 31/1000 [1:57:00<57:39:59, 214.24s/it, v_num=2249, train_loss_step=613, train_loss_epoch=585]"
     ]
    },
    {
     "name": "stdout",
     "output_type": "stream",
     "text": [
      "\r",
      "Epoch 31/1000:   3%|▎         | 31/1000 [1:57:00<57:39:59, 214.24s/it, v_num=2249, train_loss_step=650, train_loss_epoch=585]"
     ]
    },
    {
     "name": "stdout",
     "output_type": "stream",
     "text": [
      "\r",
      "Epoch 32/1000:   3%|▎         | 31/1000 [1:57:00<57:39:59, 214.24s/it, v_num=2249, train_loss_step=650, train_loss_epoch=585]"
     ]
    },
    {
     "name": "stdout",
     "output_type": "stream",
     "text": [
      "\r",
      "Epoch 32/1000:   3%|▎         | 32/1000 [2:00:32<57:27:26, 213.68s/it, v_num=2249, train_loss_step=650, train_loss_epoch=585]"
     ]
    },
    {
     "name": "stdout",
     "output_type": "stream",
     "text": [
      "\r",
      "Epoch 32/1000:   3%|▎         | 32/1000 [2:00:32<57:27:26, 213.68s/it, v_num=2249, train_loss_step=578, train_loss_epoch=585]"
     ]
    },
    {
     "name": "stdout",
     "output_type": "stream",
     "text": [
      "\r",
      "Epoch 33/1000:   3%|▎         | 32/1000 [2:00:32<57:27:26, 213.68s/it, v_num=2249, train_loss_step=578, train_loss_epoch=585]"
     ]
    },
    {
     "name": "stdout",
     "output_type": "stream",
     "text": [
      "\r",
      "Epoch 33/1000:   3%|▎         | 33/1000 [2:04:05<57:18:07, 213.33s/it, v_num=2249, train_loss_step=578, train_loss_epoch=585]"
     ]
    },
    {
     "name": "stdout",
     "output_type": "stream",
     "text": [
      "\r",
      "Epoch 33/1000:   3%|▎         | 33/1000 [2:04:05<57:18:07, 213.33s/it, v_num=2249, train_loss_step=590, train_loss_epoch=585]"
     ]
    },
    {
     "name": "stdout",
     "output_type": "stream",
     "text": [
      "\r",
      "Epoch 34/1000:   3%|▎         | 33/1000 [2:04:05<57:18:07, 213.33s/it, v_num=2249, train_loss_step=590, train_loss_epoch=585]"
     ]
    },
    {
     "name": "stdout",
     "output_type": "stream",
     "text": [
      "\r",
      "Epoch 34/1000:   3%|▎         | 34/1000 [2:07:37<57:09:37, 213.02s/it, v_num=2249, train_loss_step=590, train_loss_epoch=585]"
     ]
    },
    {
     "name": "stdout",
     "output_type": "stream",
     "text": [
      "\r",
      "Epoch 34/1000:   3%|▎         | 34/1000 [2:07:37<57:09:37, 213.02s/it, v_num=2249, train_loss_step=565, train_loss_epoch=586]"
     ]
    },
    {
     "name": "stdout",
     "output_type": "stream",
     "text": [
      "\r",
      "Epoch 35/1000:   3%|▎         | 34/1000 [2:07:37<57:09:37, 213.02s/it, v_num=2249, train_loss_step=565, train_loss_epoch=586]"
     ]
    },
    {
     "name": "stdout",
     "output_type": "stream",
     "text": [
      "\r",
      "Epoch 35/1000:   4%|▎         | 35/1000 [2:11:10<57:04:42, 212.94s/it, v_num=2249, train_loss_step=565, train_loss_epoch=586]"
     ]
    },
    {
     "name": "stdout",
     "output_type": "stream",
     "text": [
      "\r",
      "Epoch 35/1000:   4%|▎         | 35/1000 [2:11:10<57:04:42, 212.94s/it, v_num=2249, train_loss_step=587, train_loss_epoch=586]"
     ]
    },
    {
     "name": "stdout",
     "output_type": "stream",
     "text": [
      "\r",
      "Epoch 36/1000:   4%|▎         | 35/1000 [2:11:10<57:04:42, 212.94s/it, v_num=2249, train_loss_step=587, train_loss_epoch=586]"
     ]
    },
    {
     "name": "stdout",
     "output_type": "stream",
     "text": [
      "\r",
      "Epoch 36/1000:   4%|▎         | 36/1000 [2:14:45<57:10:07, 213.49s/it, v_num=2249, train_loss_step=587, train_loss_epoch=586]"
     ]
    },
    {
     "name": "stdout",
     "output_type": "stream",
     "text": [
      "\r",
      "Epoch 36/1000:   4%|▎         | 36/1000 [2:14:45<57:10:07, 213.49s/it, v_num=2249, train_loss_step=667, train_loss_epoch=586]"
     ]
    },
    {
     "name": "stdout",
     "output_type": "stream",
     "text": [
      "\r",
      "Epoch 37/1000:   4%|▎         | 36/1000 [2:14:45<57:10:07, 213.49s/it, v_num=2249, train_loss_step=667, train_loss_epoch=586]"
     ]
    },
    {
     "name": "stdout",
     "output_type": "stream",
     "text": [
      "\r",
      "Epoch 37/1000:   4%|▎         | 37/1000 [2:18:20<57:13:30, 213.93s/it, v_num=2249, train_loss_step=667, train_loss_epoch=586]"
     ]
    },
    {
     "name": "stdout",
     "output_type": "stream",
     "text": [
      "\r",
      "Epoch 37/1000:   4%|▎         | 37/1000 [2:18:20<57:13:30, 213.93s/it, v_num=2249, train_loss_step=555, train_loss_epoch=586]"
     ]
    },
    {
     "name": "stdout",
     "output_type": "stream",
     "text": [
      "\r",
      "Epoch 38/1000:   4%|▎         | 37/1000 [2:18:20<57:13:30, 213.93s/it, v_num=2249, train_loss_step=555, train_loss_epoch=586]"
     ]
    },
    {
     "name": "stdout",
     "output_type": "stream",
     "text": [
      "\r",
      "Epoch 38/1000:   4%|▍         | 38/1000 [2:21:54<57:11:05, 214.00s/it, v_num=2249, train_loss_step=555, train_loss_epoch=586]"
     ]
    },
    {
     "name": "stdout",
     "output_type": "stream",
     "text": [
      "\r",
      "Epoch 38/1000:   4%|▍         | 38/1000 [2:21:54<57:11:05, 214.00s/it, v_num=2249, train_loss_step=562, train_loss_epoch=586]"
     ]
    },
    {
     "name": "stdout",
     "output_type": "stream",
     "text": [
      "\r",
      "Epoch 39/1000:   4%|▍         | 38/1000 [2:21:54<57:11:05, 214.00s/it, v_num=2249, train_loss_step=562, train_loss_epoch=586]"
     ]
    },
    {
     "name": "stdout",
     "output_type": "stream",
     "text": [
      "\r",
      "Epoch 39/1000:   4%|▍         | 39/1000 [2:25:27<57:03:19, 213.74s/it, v_num=2249, train_loss_step=562, train_loss_epoch=586]"
     ]
    },
    {
     "name": "stdout",
     "output_type": "stream",
     "text": [
      "\r",
      "Epoch 39/1000:   4%|▍         | 39/1000 [2:25:27<57:03:19, 213.74s/it, v_num=2249, train_loss_step=622, train_loss_epoch=586]"
     ]
    },
    {
     "name": "stdout",
     "output_type": "stream",
     "text": [
      "\r",
      "Epoch 40/1000:   4%|▍         | 39/1000 [2:25:27<57:03:19, 213.74s/it, v_num=2249, train_loss_step=622, train_loss_epoch=586]"
     ]
    },
    {
     "name": "stdout",
     "output_type": "stream",
     "text": [
      "\r",
      "Epoch 40/1000:   4%|▍         | 40/1000 [2:28:59<56:51:13, 213.20s/it, v_num=2249, train_loss_step=622, train_loss_epoch=586]"
     ]
    },
    {
     "name": "stdout",
     "output_type": "stream",
     "text": [
      "\r",
      "Epoch 40/1000:   4%|▍         | 40/1000 [2:28:59<56:51:13, 213.20s/it, v_num=2249, train_loss_step=551, train_loss_epoch=586]"
     ]
    },
    {
     "name": "stdout",
     "output_type": "stream",
     "text": [
      "\r",
      "Epoch 41/1000:   4%|▍         | 40/1000 [2:28:59<56:51:13, 213.20s/it, v_num=2249, train_loss_step=551, train_loss_epoch=586]"
     ]
    },
    {
     "name": "stdout",
     "output_type": "stream",
     "text": [
      "\r",
      "Epoch 41/1000:   4%|▍         | 41/1000 [2:32:32<56:46:07, 213.10s/it, v_num=2249, train_loss_step=551, train_loss_epoch=586]"
     ]
    },
    {
     "name": "stdout",
     "output_type": "stream",
     "text": [
      "\r",
      "Epoch 41/1000:   4%|▍         | 41/1000 [2:32:32<56:46:07, 213.10s/it, v_num=2249, train_loss_step=639, train_loss_epoch=586]"
     ]
    },
    {
     "name": "stdout",
     "output_type": "stream",
     "text": [
      "\r",
      "Epoch 42/1000:   4%|▍         | 41/1000 [2:32:32<56:46:07, 213.10s/it, v_num=2249, train_loss_step=639, train_loss_epoch=586]"
     ]
    },
    {
     "name": "stdout",
     "output_type": "stream",
     "text": [
      "\r",
      "Epoch 42/1000:   4%|▍         | 42/1000 [2:36:04<56:39:46, 212.93s/it, v_num=2249, train_loss_step=639, train_loss_epoch=586]"
     ]
    },
    {
     "name": "stdout",
     "output_type": "stream",
     "text": [
      "\r",
      "Epoch 42/1000:   4%|▍         | 42/1000 [2:36:04<56:39:46, 212.93s/it, v_num=2249, train_loss_step=628, train_loss_epoch=586]"
     ]
    },
    {
     "name": "stdout",
     "output_type": "stream",
     "text": [
      "\r",
      "Epoch 43/1000:   4%|▍         | 42/1000 [2:36:04<56:39:46, 212.93s/it, v_num=2249, train_loss_step=628, train_loss_epoch=586]"
     ]
    },
    {
     "name": "stdout",
     "output_type": "stream",
     "text": [
      "\r",
      "Epoch 43/1000:   4%|▍         | 43/1000 [2:39:38<56:40:48, 213.22s/it, v_num=2249, train_loss_step=628, train_loss_epoch=586]"
     ]
    },
    {
     "name": "stdout",
     "output_type": "stream",
     "text": [
      "\r",
      "Epoch 43/1000:   4%|▍         | 43/1000 [2:39:38<56:40:48, 213.22s/it, v_num=2249, train_loss_step=543, train_loss_epoch=586]"
     ]
    },
    {
     "name": "stdout",
     "output_type": "stream",
     "text": [
      "\r",
      "Epoch 44/1000:   4%|▍         | 43/1000 [2:39:38<56:40:48, 213.22s/it, v_num=2249, train_loss_step=543, train_loss_epoch=586]"
     ]
    },
    {
     "name": "stdout",
     "output_type": "stream",
     "text": [
      "\r",
      "Epoch 44/1000:   4%|▍         | 44/1000 [2:43:11<56:36:56, 213.20s/it, v_num=2249, train_loss_step=543, train_loss_epoch=586]"
     ]
    },
    {
     "name": "stdout",
     "output_type": "stream",
     "text": [
      "\r",
      "Epoch 44/1000:   4%|▍         | 44/1000 [2:43:11<56:36:56, 213.20s/it, v_num=2249, train_loss_step=589, train_loss_epoch=586]"
     ]
    },
    {
     "name": "stdout",
     "output_type": "stream",
     "text": [
      "\r",
      "Epoch 45/1000:   4%|▍         | 44/1000 [2:43:11<56:36:56, 213.20s/it, v_num=2249, train_loss_step=589, train_loss_epoch=586]"
     ]
    },
    {
     "name": "stdout",
     "output_type": "stream",
     "text": [
      "\r",
      "Epoch 45/1000:   4%|▍         | 45/1000 [2:46:46<56:39:01, 213.55s/it, v_num=2249, train_loss_step=589, train_loss_epoch=586]"
     ]
    },
    {
     "name": "stdout",
     "output_type": "stream",
     "text": [
      "\r",
      "Epoch 45/1000:   4%|▍         | 45/1000 [2:46:46<56:39:01, 213.55s/it, v_num=2249, train_loss_step=585, train_loss_epoch=586]"
     ]
    },
    {
     "name": "stdout",
     "output_type": "stream",
     "text": [
      "\r",
      "Epoch 46/1000:   4%|▍         | 45/1000 [2:46:46<56:39:01, 213.55s/it, v_num=2249, train_loss_step=585, train_loss_epoch=586]"
     ]
    },
    {
     "name": "stdout",
     "output_type": "stream",
     "text": [
      "\r",
      "Epoch 46/1000:   5%|▍         | 46/1000 [2:50:23<56:53:07, 214.66s/it, v_num=2249, train_loss_step=585, train_loss_epoch=586]"
     ]
    },
    {
     "name": "stdout",
     "output_type": "stream",
     "text": [
      "\r",
      "Epoch 46/1000:   5%|▍         | 46/1000 [2:50:23<56:53:07, 214.66s/it, v_num=2249, train_loss_step=520, train_loss_epoch=586]"
     ]
    },
    {
     "name": "stdout",
     "output_type": "stream",
     "text": [
      "\r",
      "Epoch 46/1000:   5%|▍         | 46/1000 [2:50:23<58:53:44, 222.25s/it, v_num=2249, train_loss_step=520, train_loss_epoch=586]"
     ]
    },
    {
     "name": "stdout",
     "output_type": "stream",
     "text": [
      "\n",
      "Monitored metric reconstruction_loss_validation did not improve in the last 10 records. Best score: 580.487. Signaling Trainer to stop.\n"
     ]
    }
   ],
   "source": [
    "model.train(logger=logger, plan_kwargs = plan_kwargs, **trainer_kwargs)"
   ]
  },
  {
   "cell_type": "code",
   "execution_count": 15,
   "id": "c282f6eb-0ad1-40a5-81e6-1acda1545dad",
   "metadata": {
    "execution": {
     "iopub.execute_input": "2024-04-30T12:18:58.708361Z",
     "iopub.status.busy": "2024-04-30T12:18:58.708080Z",
     "iopub.status.idle": "2024-04-30T12:19:05.039490Z",
     "shell.execute_reply": "2024-04-30T12:19:05.038819Z"
    },
    "papermill": {
     "duration": 6.346086,
     "end_time": "2024-04-30T12:19:05.041528",
     "exception": false,
     "start_time": "2024-04-30T12:18:58.695442",
     "status": "completed"
    },
    "tags": []
   },
   "outputs": [
    {
     "name": "stderr",
     "output_type": "stream",
     "text": [
      "\u001b[34m\u001b[1mwandb\u001b[0m: - 0.003 MB of 0.003 MB uploaded\r"
     ]
    },
    {
     "name": "stderr",
     "output_type": "stream",
     "text": [
      "\u001b[34m\u001b[1mwandb\u001b[0m: \\ 0.003 MB of 0.009 MB uploaded\r"
     ]
    },
    {
     "name": "stderr",
     "output_type": "stream",
     "text": [
      "\u001b[34m\u001b[1mwandb\u001b[0m: | 0.009 MB of 0.009 MB uploaded\r"
     ]
    },
    {
     "name": "stderr",
     "output_type": "stream",
     "text": [
      "\u001b[34m\u001b[1mwandb\u001b[0m: / 0.009 MB of 0.009 MB uploaded\r"
     ]
    },
    {
     "name": "stderr",
     "output_type": "stream",
     "text": [
      "\u001b[34m\u001b[1mwandb\u001b[0m: - 0.009 MB of 0.009 MB uploaded\r"
     ]
    },
    {
     "name": "stderr",
     "output_type": "stream",
     "text": [
      "\u001b[34m\u001b[1mwandb\u001b[0m:                                                                                \n"
     ]
    },
    {
     "name": "stderr",
     "output_type": "stream",
     "text": [
      "\u001b[34m\u001b[1mwandb\u001b[0m: \n",
      "\u001b[34m\u001b[1mwandb\u001b[0m: Run history:\n",
      "\u001b[34m\u001b[1mwandb\u001b[0m:                     elbo_train █▆▅▄▃▃▃▃▃▃▃▂▂▂▂▂▂▂▂▂▂▂▂▂▂▂▁▁▁▁▁▁▁▁▁▁▁▁▁▁\n",
      "\u001b[34m\u001b[1mwandb\u001b[0m:                elbo_validation █▆▅▄▄▃▃▃▃▃▃▂▂▂▂▂▂▂▂▂▂▂▂▂▂▂▁▁▁▁▁▁▁▁▁▁▁▁▁▁\n",
      "\u001b[34m\u001b[1mwandb\u001b[0m:                          epoch ▁▁▁▁▂▂▂▂▂▃▃▃▃▃▃▄▄▄▄▄▅▅▅▅▅▆▆▆▆▆▆▆▇▇▇▇▇███\n",
      "\u001b[34m\u001b[1mwandb\u001b[0m:                kl_global_train ▁▁▁▁▁▁▁▁▁▁▁▁▁▁▁▁▁▁▁▁▁▁▁▁▁▁▁▁▁▁▁▁▁▁▁▁▁▁▁▁\n",
      "\u001b[34m\u001b[1mwandb\u001b[0m:           kl_global_validation ▁▁▁▁▁▁▁▁▁▁▁▁▁▁▁▁▁▁▁▁▁▁▁▁▁▁▁▁▁▁▁▁▁▁▁▁▁▁▁▁\n",
      "\u001b[34m\u001b[1mwandb\u001b[0m:                 kl_local_train █▇▅▄▄▃▃▃▃▃▃▃▃▂▂▂▂▂▂▂▂▂▂▂▂▂▂▁▁▁▁▁▁▁▁▁▁▁▁▁\n",
      "\u001b[34m\u001b[1mwandb\u001b[0m:            kl_local_validation █▆▅▄▄▃▃▃▃▃▃▃▂▂▂▂▂▂▂▂▂▂▂▂▂▂▂▁▁▁▁▁▁▁▁▁▁▁▁▁\n",
      "\u001b[34m\u001b[1mwandb\u001b[0m:                      kl_weight ▁▁▁▁▂▂▂▂▂▃▃▃▃▃▃▄▄▄▄▄▅▅▅▅▅▆▆▆▆▆▆▆▇▇▇▇▇███\n",
      "\u001b[34m\u001b[1mwandb\u001b[0m:      reconstruction_loss_train █▄▄▃▃▃▂▂▂▂▂▂▂▂▁▁▁▁▁▁▁▁▁▁▁▁▁▁▁▁▁▁▁▁▁▁▁▁▁▁\n",
      "\u001b[34m\u001b[1mwandb\u001b[0m: reconstruction_loss_validation █▆▅▄▄▄▃▃▂▂▂▂▂▂▂▂▂▁▁▁▁▁▁▁▁▁▁▁▁▁▁▁▁▁▁▁▁▁▁▁\n",
      "\u001b[34m\u001b[1mwandb\u001b[0m:               train_loss_epoch █▃▃▂▂▂▁▁▁▁▁▁▁▁▁▁▁▁▁▁▁▁▁▁▁▁▁▁▂▂▂▂▂▂▂▂▂▂▂▂\n",
      "\u001b[34m\u001b[1mwandb\u001b[0m:                train_loss_step ▄▅▂▃▄▄▇▃▄▅▃▂▅▂▅▃▃▂█▅▂▅▃▄▆▃▄▃▁▅▄▄▂▅▄▆▆▁▃▂\n",
      "\u001b[34m\u001b[1mwandb\u001b[0m:            trainer/global_step ▁▁▁▂▂▂▂▂▂▃▃▃▃▃▃▄▄▄▄▄▅▅▅▅▅▅▆▆▆▆▆▇▇▇▇▇▇███\n",
      "\u001b[34m\u001b[1mwandb\u001b[0m:                validation_loss █▅▄▃▃▂▂▁▁▁▁▁▁▁▁▁▁▁▁▂▂▂▂▂▂▂▂▃▃▃▃▃▃▃▄▄▄▄▄▄\n",
      "\u001b[34m\u001b[1mwandb\u001b[0m: \n",
      "\u001b[34m\u001b[1mwandb\u001b[0m: Run summary:\n",
      "\u001b[34m\u001b[1mwandb\u001b[0m:                     elbo_train 625.45203\n",
      "\u001b[34m\u001b[1mwandb\u001b[0m:                elbo_validation 623.38599\n",
      "\u001b[34m\u001b[1mwandb\u001b[0m:                          epoch 45\n",
      "\u001b[34m\u001b[1mwandb\u001b[0m:                kl_global_train 0.0\n",
      "\u001b[34m\u001b[1mwandb\u001b[0m:           kl_global_validation 0.0\n",
      "\u001b[34m\u001b[1mwandb\u001b[0m:                 kl_local_train 43.93735\n",
      "\u001b[34m\u001b[1mwandb\u001b[0m:            kl_local_validation 42.81452\n",
      "\u001b[34m\u001b[1mwandb\u001b[0m:                      kl_weight 0.1125\n",
      "\u001b[34m\u001b[1mwandb\u001b[0m:      reconstruction_loss_train 581.51471\n",
      "\u001b[34m\u001b[1mwandb\u001b[0m: reconstruction_loss_validation 580.57147\n",
      "\u001b[34m\u001b[1mwandb\u001b[0m:               train_loss_epoch 586.4585\n",
      "\u001b[34m\u001b[1mwandb\u001b[0m:                train_loss_step 573.15417\n",
      "\u001b[34m\u001b[1mwandb\u001b[0m:            trainer/global_step 838625\n",
      "\u001b[34m\u001b[1mwandb\u001b[0m:                validation_loss 585.38922\n",
      "\u001b[34m\u001b[1mwandb\u001b[0m: \n"
     ]
    },
    {
     "name": "stderr",
     "output_type": "stream",
     "text": [
      "\u001b[34m\u001b[1mwandb\u001b[0m: 🚀 View run \u001b[33mStep2_T\u001b[0m at: \u001b[34m\u001b[4mhttps://wandb.ai/inflammation/inflammation_atlas_R1/runs/8pgk2249\u001b[0m\n",
      "\u001b[34m\u001b[1mwandb\u001b[0m: Synced 5 W&B file(s), 0 media file(s), 0 artifact file(s) and 0 other file(s)\n"
     ]
    },
    {
     "name": "stderr",
     "output_type": "stream",
     "text": [
      "\u001b[34m\u001b[1mwandb\u001b[0m: Find logs at: \u001b[35m\u001b[1m./wandb/run-20240430_092834-8pgk2249/logs\u001b[0m\n"
     ]
    }
   ],
   "source": [
    "wandb.finish()"
   ]
  },
  {
   "cell_type": "markdown",
   "id": "d9fb1179-83c7-4ac6-b4aa-92dc7a349801",
   "metadata": {
    "papermill": {
     "duration": 0.012113,
     "end_time": "2024-04-30T12:19:05.066093",
     "exception": false,
     "start_time": "2024-04-30T12:19:05.053980",
     "status": "completed"
    },
    "tags": []
   },
   "source": [
    "### Extracting embedding space"
   ]
  },
  {
   "cell_type": "code",
   "execution_count": 16,
   "id": "caaa5832-0123-4c59-8ec6-f46a75f7a14e",
   "metadata": {
    "execution": {
     "iopub.execute_input": "2024-04-30T12:19:05.090871Z",
     "iopub.status.busy": "2024-04-30T12:19:05.090573Z",
     "iopub.status.idle": "2024-04-30T12:20:15.429920Z",
     "shell.execute_reply": "2024-04-30T12:20:15.429113Z"
    },
    "papermill": {
     "duration": 70.354556,
     "end_time": "2024-04-30T12:20:15.432239",
     "exception": false,
     "start_time": "2024-04-30T12:19:05.077683",
     "status": "completed"
    },
    "tags": []
   },
   "outputs": [],
   "source": [
    "adata.obsm['X_scVI'] = model.get_latent_representation()"
   ]
  },
  {
   "cell_type": "markdown",
   "id": "2f03e70b-839c-40a6-9fbb-d76bbd787419",
   "metadata": {
    "papermill": {
     "duration": 0.011922,
     "end_time": "2024-04-30T12:20:15.456599",
     "exception": false,
     "start_time": "2024-04-30T12:20:15.444677",
     "status": "completed"
    },
    "tags": []
   },
   "source": [
    "## Save the results"
   ]
  },
  {
   "cell_type": "code",
   "execution_count": 17,
   "id": "7b04049b-47fd-4b62-a1c0-c43dcc086d34",
   "metadata": {
    "execution": {
     "iopub.execute_input": "2024-04-30T12:20:15.483327Z",
     "iopub.status.busy": "2024-04-30T12:20:15.482454Z",
     "iopub.status.idle": "2024-04-30T12:24:21.314653Z",
     "shell.execute_reply": "2024-04-30T12:24:21.313839Z"
    },
    "papermill": {
     "duration": 245.848239,
     "end_time": "2024-04-30T12:24:21.316940",
     "exception": false,
     "start_time": "2024-04-30T12:20:15.468701",
     "status": "completed"
    },
    "tags": []
   },
   "outputs": [],
   "source": [
    "if overwriteData:\n",
    "    adata.write(here(f\"{workDir}/{cellGroup}/results/02_{annotationLevel}_{cellGroup}_HVGsubset_scVI.h5ad\"), compression=\"gzip\")\n",
    "    model.save(here(f\"{workDir}/{cellGroup}/results/02_{annotationLevel}_{cellGroup}_HVGsubset_scVI_MODEL/\"),\n",
    "               overwrite = True, \n",
    "               save_anndata = False )   "
   ]
  },
  {
   "cell_type": "code",
   "execution_count": 18,
   "id": "629ba2bd-f6be-44ef-8fca-bbdf891bf25f",
   "metadata": {
    "execution": {
     "iopub.execute_input": "2024-04-30T12:24:21.343678Z",
     "iopub.status.busy": "2024-04-30T12:24:21.343366Z",
     "iopub.status.idle": "2024-04-30T12:24:21.346747Z",
     "shell.execute_reply": "2024-04-30T12:24:21.346129Z"
    },
    "papermill": {
     "duration": 0.018315,
     "end_time": "2024-04-30T12:24:21.348365",
     "exception": false,
     "start_time": "2024-04-30T12:24:21.330050",
     "status": "completed"
    },
    "tags": []
   },
   "outputs": [],
   "source": [
    "# To load the model do (after loading corresponding adata):\n",
    "# model = scvi.model.SCVI.load(here('{}/results/01_{}_HVGsubset_scVI_MODEL/'.format(workDir, cellGroup)), \n",
    "#                              adata, \n",
    "#                              use_gpu=True)"
   ]
  },
  {
   "cell_type": "raw",
   "id": "975e84d0-f56b-498d-b3a8-c9219cf22e53",
   "metadata": {
    "papermill": {
     "duration": 0.012279,
     "end_time": "2024-04-30T12:24:21.373151",
     "exception": false,
     "start_time": "2024-04-30T12:24:21.360872",
     "status": "completed"
    },
    "tags": []
   },
   "source": [
    "session_info.show()"
   ]
  }
 ],
 "metadata": {
  "kernelspec": {
   "display_name": "Python 3 (ipykernel)",
   "language": "python",
   "name": "python3"
  },
  "language_info": {
   "codemirror_mode": {
    "name": "ipython",
    "version": 3
   },
   "file_extension": ".py",
   "mimetype": "text/x-python",
   "name": "python",
   "nbconvert_exporter": "python",
   "pygments_lexer": "ipython3",
   "version": "3.9.18"
  },
  "papermill": {
   "default_parameters": {},
   "duration": 10613.772282,
   "end_time": "2024-04-30T12:24:24.430333",
   "environment_variables": {},
   "exception": null,
   "input_path": "./T/02_integration_scVI.ipynb",
   "output_path": "./T/02_integration_scVI_executed.ipynb",
   "parameters": {},
   "start_time": "2024-04-30T09:27:30.658051",
   "version": "2.5.0"
  }
 },
 "nbformat": 4,
 "nbformat_minor": 5
}