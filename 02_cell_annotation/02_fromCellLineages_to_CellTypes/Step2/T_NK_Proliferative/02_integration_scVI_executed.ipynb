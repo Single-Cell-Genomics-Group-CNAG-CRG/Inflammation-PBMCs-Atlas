{
 "cells": [
  {
   "cell_type": "code",
   "execution_count": 1,
   "id": "2dd1425a-0c07-465e-b522-9e3cc5cb93a7",
   "metadata": {
    "execution": {
     "iopub.execute_input": "2024-04-30T10:09:24.673645Z",
     "iopub.status.busy": "2024-04-30T10:09:24.672746Z",
     "iopub.status.idle": "2024-04-30T10:09:29.912896Z",
     "shell.execute_reply": "2024-04-30T10:09:29.912162Z"
    },
    "papermill": {
     "duration": 5.248254,
     "end_time": "2024-04-30T10:09:29.914754",
     "exception": false,
     "start_time": "2024-04-30T10:09:24.666500",
     "status": "completed"
    },
    "tags": []
   },
   "outputs": [
    {
     "data": {
      "text/plain": [
       "True"
      ]
     },
     "execution_count": 1,
     "metadata": {},
     "output_type": "execute_result"
    }
   ],
   "source": [
    "import os\n",
    "import sys\n",
    "\n",
    "import numpy as np\n",
    "import matplotlib.pyplot as plt\n",
    "\n",
    "import scanpy as sc\n",
    "import scvi\n",
    "import torch\n",
    "\n",
    "from pytorch_lightning.loggers import WandbLogger\n",
    "import wandb\n",
    "from dotenv import load_dotenv\n",
    "\n",
    "import session_info\n",
    "import warnings\n",
    "from pyprojroot.here import here\n",
    "\n",
    "warnings.filterwarnings(\"ignore\")\n",
    "sys.path.insert(1, str(here('bin')))\n",
    "\n",
    "torch.set_float32_matmul_precision('high')\n",
    "\n",
    "#plt.style.use(['science','nature','no-latex'])\n",
    "dpi_fig_save = 300\n",
    "sc.set_figure_params(dpi=100, dpi_save=dpi_fig_save, vector_friendly=True)\n",
    "\n",
    "load_dotenv(here('.env'))"
   ]
  },
  {
   "cell_type": "code",
   "execution_count": 2,
   "id": "09c897fc-744b-43de-a681-718fb5d327fa",
   "metadata": {
    "execution": {
     "iopub.execute_input": "2024-04-30T10:09:29.925311Z",
     "iopub.status.busy": "2024-04-30T10:09:29.925037Z",
     "iopub.status.idle": "2024-04-30T10:09:29.929177Z",
     "shell.execute_reply": "2024-04-30T10:09:29.928569Z"
    },
    "papermill": {
     "duration": 0.010253,
     "end_time": "2024-04-30T10:09:29.930597",
     "exception": false,
     "start_time": "2024-04-30T10:09:29.920344",
     "status": "completed"
    },
    "tags": []
   },
   "outputs": [],
   "source": [
    "class CustomWandbLogger(WandbLogger):\n",
    "    @property\n",
    "    def save_dir(self):\n",
    "        return self.experiment.dir"
   ]
  },
  {
   "cell_type": "code",
   "execution_count": 3,
   "id": "8ee6662f-5d45-4137-80a5-bb0b9ae8d71f",
   "metadata": {
    "execution": {
     "iopub.execute_input": "2024-04-30T10:09:29.939429Z",
     "iopub.status.busy": "2024-04-30T10:09:29.938892Z",
     "iopub.status.idle": "2024-04-30T10:09:29.944979Z",
     "shell.execute_reply": "2024-04-30T10:09:29.944336Z"
    },
    "papermill": {
     "duration": 0.012255,
     "end_time": "2024-04-30T10:09:29.946507",
     "exception": false,
     "start_time": "2024-04-30T10:09:29.934252",
     "status": "completed"
    },
    "tags": []
   },
   "outputs": [
    {
     "name": "stderr",
     "output_type": "stream",
     "text": [
      "Seed set to 0\n"
     ]
    },
    {
     "name": "stdout",
     "output_type": "stream",
     "text": [
      "Last run with scvi-tools version: 1.1.2\n"
     ]
    }
   ],
   "source": [
    "scvi.settings.seed = 0\n",
    "print(\"Last run with scvi-tools version:\", scvi.__version__)"
   ]
  },
  {
   "cell_type": "markdown",
   "id": "a81037ff-5998-482a-ba86-520f757311a9",
   "metadata": {
    "papermill": {
     "duration": 0.003589,
     "end_time": "2024-04-30T10:09:29.953617",
     "exception": false,
     "start_time": "2024-04-30T10:09:29.950028",
     "status": "completed"
    },
    "tags": []
   },
   "source": [
    "**Setting parameters** "
   ]
  },
  {
   "cell_type": "code",
   "execution_count": 4,
   "id": "56c27966-8f10-4c93-8b1a-1fa75f005e41",
   "metadata": {
    "execution": {
     "iopub.execute_input": "2024-04-30T10:09:29.962235Z",
     "iopub.status.busy": "2024-04-30T10:09:29.961984Z",
     "iopub.status.idle": "2024-04-30T10:09:29.965252Z",
     "shell.execute_reply": "2024-04-30T10:09:29.964595Z"
    },
    "papermill": {
     "duration": 0.009456,
     "end_time": "2024-04-30T10:09:29.966819",
     "exception": false,
     "start_time": "2024-04-30T10:09:29.957363",
     "status": "completed"
    },
    "tags": []
   },
   "outputs": [],
   "source": [
    "overwriteFigures = True\n",
    "overwriteData = True"
   ]
  },
  {
   "cell_type": "code",
   "execution_count": 5,
   "id": "c86fccd3-a4fe-415b-8f4e-e2ceb3ec128a",
   "metadata": {
    "execution": {
     "iopub.execute_input": "2024-04-30T10:09:29.975904Z",
     "iopub.status.busy": "2024-04-30T10:09:29.975218Z",
     "iopub.status.idle": "2024-04-30T10:09:29.978503Z",
     "shell.execute_reply": "2024-04-30T10:09:29.977888Z"
    },
    "papermill": {
     "duration": 0.009715,
     "end_time": "2024-04-30T10:09:29.980073",
     "exception": false,
     "start_time": "2024-04-30T10:09:29.970358",
     "status": "completed"
    },
    "tags": []
   },
   "outputs": [],
   "source": [
    "cellGroup = 'T_NK_Proliferative'\n",
    "workDir = os.getcwd()"
   ]
  },
  {
   "cell_type": "code",
   "execution_count": 6,
   "id": "2dee4d55-d168-467b-b867-a61fed9d6af1",
   "metadata": {
    "execution": {
     "iopub.execute_input": "2024-04-30T10:09:29.988544Z",
     "iopub.status.busy": "2024-04-30T10:09:29.988275Z",
     "iopub.status.idle": "2024-04-30T10:09:29.991683Z",
     "shell.execute_reply": "2024-04-30T10:09:29.991085Z"
    },
    "papermill": {
     "duration": 0.009332,
     "end_time": "2024-04-30T10:09:29.993080",
     "exception": false,
     "start_time": "2024-04-30T10:09:29.983748",
     "status": "completed"
    },
    "tags": []
   },
   "outputs": [],
   "source": [
    "annotationLevel = os.path.basename(os.path.normpath(workDir))"
   ]
  },
  {
   "cell_type": "code",
   "execution_count": 7,
   "id": "11e53cd5-b746-4152-89cb-c2f0c15d90b3",
   "metadata": {
    "execution": {
     "iopub.execute_input": "2024-04-30T10:09:30.001881Z",
     "iopub.status.busy": "2024-04-30T10:09:30.001319Z",
     "iopub.status.idle": "2024-04-30T10:09:30.005550Z",
     "shell.execute_reply": "2024-04-30T10:09:30.004980Z"
    },
    "papermill": {
     "duration": 0.01007,
     "end_time": "2024-04-30T10:09:30.007023",
     "exception": false,
     "start_time": "2024-04-30T10:09:29.996953",
     "status": "completed"
    },
    "tags": []
   },
   "outputs": [
    {
     "data": {
      "text/plain": [
       "'/home/jupyter/Inflammation-PBMCs-Atlas/02_cell_annotation/02_fromCellLineages_to_CellTypes/Step2'"
      ]
     },
     "execution_count": 7,
     "metadata": {},
     "output_type": "execute_result"
    }
   ],
   "source": [
    "workDir"
   ]
  },
  {
   "cell_type": "markdown",
   "id": "171d2f06-9a44-4fcb-b437-35dc546674b6",
   "metadata": {
    "papermill": {
     "duration": 0.003837,
     "end_time": "2024-04-30T10:09:30.014562",
     "exception": false,
     "start_time": "2024-04-30T10:09:30.010725",
     "status": "completed"
    },
    "tags": []
   },
   "source": [
    "**Load data**"
   ]
  },
  {
   "cell_type": "code",
   "execution_count": 8,
   "id": "429f34fe-dde6-4cc9-9f75-7de8f85c5ffe",
   "metadata": {
    "execution": {
     "iopub.execute_input": "2024-04-30T10:09:30.024136Z",
     "iopub.status.busy": "2024-04-30T10:09:30.023392Z",
     "iopub.status.idle": "2024-04-30T10:09:31.702423Z",
     "shell.execute_reply": "2024-04-30T10:09:31.701722Z"
    },
    "papermill": {
     "duration": 1.685808,
     "end_time": "2024-04-30T10:09:31.704245",
     "exception": false,
     "start_time": "2024-04-30T10:09:30.018437",
     "status": "completed"
    },
    "tags": []
   },
   "outputs": [
    {
     "data": {
      "text/plain": [
       "AnnData object with n_obs × n_vars = 35481 × 2361\n",
       "    obs: 'studyID', 'libraryID', 'sampleID', 'chemistry', 'technology', 'patientID', 'disease', 'timepoint_replicate', 'treatmentStatus', 'therapyResponse', 'sex', 'age', 'BMI', 'binned_age', 'diseaseStatus', 'smokingStatus', 'ethnicity', 'institute', 'diseaseGroup', 'n_genes_by_counts', 'log1p_n_genes_by_counts', 'total_counts', 'log1p_total_counts', 'pct_counts_in_top_20_genes', 'total_counts_mt', 'log1p_total_counts_mt', 'pct_counts_mt', 'total_counts_ribo', 'log1p_total_counts_ribo', 'pct_counts_ribo', 'total_counts_hb', 'log1p_total_counts_hb', 'pct_counts_hb', 'total_counts_plt', 'log1p_total_counts_plt', 'pct_counts_plt', 'doublet_score', 'predicted_doublet', 'S_score', 'G2M_score', 'phase'\n",
       "    var: 'hgnc_id', 'symbol', 'locus_group', 'HUGO_status', 'mt', 'ribo', 'hb', 'plt', 'n_cells_by_counts', 'mean_counts', 'log1p_mean_counts', 'pct_dropout_by_counts', 'total_counts', 'log1p_total_counts', 'highly_variable'\n",
       "    uns: 'chemistry_colors', 'log1p'\n",
       "    layers: 'counts', 'log1p_10e4_counts'"
      ]
     },
     "execution_count": 8,
     "metadata": {},
     "output_type": "execute_result"
    }
   ],
   "source": [
    "adata = sc.read_h5ad(here(f\"{workDir}/{cellGroup}/results/01_{cellGroup}_normalized_HVGsubset.h5ad\"))\n",
    "adata"
   ]
  },
  {
   "cell_type": "markdown",
   "id": "8ac79f3b-d5af-41fa-8904-1e9ac1cbe2fb",
   "metadata": {
    "papermill": {
     "duration": 0.004122,
     "end_time": "2024-04-30T10:09:31.712517",
     "exception": false,
     "start_time": "2024-04-30T10:09:31.708395",
     "status": "completed"
    },
    "tags": []
   },
   "source": [
    "## scVI integration"
   ]
  },
  {
   "cell_type": "markdown",
   "id": "9544847d-d17f-4811-b14b-760446d54d32",
   "metadata": {
    "execution": {
     "iopub.execute_input": "2024-03-25T16:49:04.004504Z",
     "iopub.status.busy": "2024-03-25T16:49:04.004143Z",
     "iopub.status.idle": "2024-03-25T16:49:04.010148Z",
     "shell.execute_reply": "2024-03-25T16:49:04.009146Z",
     "shell.execute_reply.started": "2024-03-25T16:49:04.004477Z"
    },
    "papermill": {
     "duration": 0.003811,
     "end_time": "2024-04-30T10:09:31.720431",
     "exception": false,
     "start_time": "2024-04-30T10:09:31.716620",
     "status": "completed"
    },
    "tags": []
   },
   "source": [
    "**scVI parameters**"
   ]
  },
  {
   "cell_type": "code",
   "execution_count": 9,
   "id": "208966eb-545a-4c02-854c-0ed0487ef5b3",
   "metadata": {
    "execution": {
     "iopub.execute_input": "2024-04-30T10:09:31.729851Z",
     "iopub.status.busy": "2024-04-30T10:09:31.729279Z",
     "iopub.status.idle": "2024-04-30T10:09:31.734925Z",
     "shell.execute_reply": "2024-04-30T10:09:31.734179Z"
    },
    "papermill": {
     "duration": 0.012111,
     "end_time": "2024-04-30T10:09:31.736554",
     "exception": false,
     "start_time": "2024-04-30T10:09:31.724443",
     "status": "completed"
    },
    "tags": []
   },
   "outputs": [],
   "source": [
    "# https://docs.scvi-tools.org/en/stable/api/reference/scvi.train.Trainer.html#scvi.train.Trainer\n",
    "setup_kwargs = dict(\n",
    "    layer=\"counts\", \n",
    "    batch_key='libraryID', \n",
    "    categorical_covariate_keys = ['studyID', 'chemistry', 'disease', 'sampleID'],\n",
    "    labels_key = 'chemistry'    \n",
    ")\n",
    "\n",
    "scvi_kwargs = dict(n_hidden=512,\n",
    "                   n_latent=20, # reduceds after step 00 (main)\n",
    "                   n_layers=2,\n",
    "                   gene_likelihood='nb',\n",
    "                   dispersion='gene-label')\n",
    "\n",
    "trainer_kwargs = dict(\n",
    "    checkpointing_monitor = 'elbo_validation',\n",
    "    early_stopping_monitor = 'reconstruction_loss_validation',\n",
    "    early_stopping_patience = 10,\n",
    "    early_stopping_min_delta=0.1,\n",
    "    early_stopping = True,\n",
    "    max_epochs = 1000,\n",
    "\n",
    "    #logger = # wandb\n",
    ")\n",
    "# https://docs.scvi-tools.org/en/stable/api/reference/scvi.train.TrainingPlan.html#scvi.train.TrainingPlan\n",
    "plan_kwargs = dict(\n",
    "    lr = 5e-4,\n",
    "    #reduce_lr_on_plateau = True\n",
    ")\n",
    "\n",
    "# https://docs.scvi-tools.org/en/stable/api/reference/scvi.module.VAE.html#scvi.module.VAE\n",
    "#vae = dict(\n",
    "#    use_layer_norm='both',\n",
    "#    use_batch_norm='none',\n",
    "#    encode_covariates=True,\n",
    "#    deeply_inject_covariates=False\n",
    "#)\n",
    "parameter_dict = setup_kwargs | scvi_kwargs | trainer_kwargs | plan_kwargs"
   ]
  },
  {
   "cell_type": "markdown",
   "id": "1362366a-c16b-4c11-964b-b9c5f82f7b29",
   "metadata": {
    "papermill": {
     "duration": 0.004049,
     "end_time": "2024-04-30T10:09:31.744603",
     "exception": false,
     "start_time": "2024-04-30T10:09:31.740554",
     "status": "completed"
    },
    "tags": []
   },
   "source": [
    "**wandb parameter**"
   ]
  },
  {
   "cell_type": "code",
   "execution_count": 10,
   "id": "0496e33a-8ca5-423f-b42f-34a59760708c",
   "metadata": {
    "execution": {
     "iopub.execute_input": "2024-04-30T10:09:31.754221Z",
     "iopub.status.busy": "2024-04-30T10:09:31.753443Z",
     "iopub.status.idle": "2024-04-30T10:09:31.758311Z",
     "shell.execute_reply": "2024-04-30T10:09:31.757692Z"
    },
    "papermill": {
     "duration": 0.011376,
     "end_time": "2024-04-30T10:09:31.759860",
     "exception": false,
     "start_time": "2024-04-30T10:09:31.748484",
     "status": "completed"
    },
    "tags": []
   },
   "outputs": [
    {
     "data": {
      "text/plain": [
       "'Step2_T_NK_Proliferative'"
      ]
     },
     "execution_count": 10,
     "metadata": {},
     "output_type": "execute_result"
    }
   ],
   "source": [
    "run_name = f\"{annotationLevel}_{cellGroup}\"\n",
    "run_name"
   ]
  },
  {
   "cell_type": "code",
   "execution_count": 11,
   "id": "b0021327-95a2-4002-bf32-2c5779a99505",
   "metadata": {
    "execution": {
     "iopub.execute_input": "2024-04-30T10:09:31.769136Z",
     "iopub.status.busy": "2024-04-30T10:09:31.768859Z",
     "iopub.status.idle": "2024-04-30T10:09:31.900186Z",
     "shell.execute_reply": "2024-04-30T10:09:31.899056Z"
    },
    "papermill": {
     "duration": 0.138514,
     "end_time": "2024-04-30T10:09:31.902435",
     "exception": false,
     "start_time": "2024-04-30T10:09:31.763921",
     "status": "completed"
    },
    "tags": []
   },
   "outputs": [],
   "source": [
    "logger = CustomWandbLogger(name = run_name, project='inflammation_atlas_R1', config=parameter_dict)"
   ]
  },
  {
   "cell_type": "markdown",
   "id": "c237eee1-a976-4915-9b7f-b014bf33f47d",
   "metadata": {
    "papermill": {
     "duration": 0.004014,
     "end_time": "2024-04-30T10:09:31.910955",
     "exception": false,
     "start_time": "2024-04-30T10:09:31.906941",
     "status": "completed"
    },
    "tags": []
   },
   "source": [
    "**Running integration**"
   ]
  },
  {
   "cell_type": "code",
   "execution_count": 12,
   "id": "aff97c53-1aba-462e-8a77-f1aec9cf724c",
   "metadata": {
    "execution": {
     "iopub.execute_input": "2024-04-30T10:09:31.920761Z",
     "iopub.status.busy": "2024-04-30T10:09:31.920197Z",
     "iopub.status.idle": "2024-04-30T10:09:32.424786Z",
     "shell.execute_reply": "2024-04-30T10:09:32.424011Z"
    },
    "papermill": {
     "duration": 0.511941,
     "end_time": "2024-04-30T10:09:32.426955",
     "exception": false,
     "start_time": "2024-04-30T10:09:31.915014",
     "status": "completed"
    },
    "tags": []
   },
   "outputs": [],
   "source": [
    "scvi.model.SCVI.setup_anndata(adata, \n",
    "                              **setup_kwargs)"
   ]
  },
  {
   "cell_type": "code",
   "execution_count": 13,
   "id": "1a56f448-cf44-47c1-81a4-a89caa930fec",
   "metadata": {
    "execution": {
     "iopub.execute_input": "2024-04-30T10:09:32.437584Z",
     "iopub.status.busy": "2024-04-30T10:09:32.436904Z",
     "iopub.status.idle": "2024-04-30T10:09:32.709886Z",
     "shell.execute_reply": "2024-04-30T10:09:32.709128Z"
    },
    "papermill": {
     "duration": 0.28066,
     "end_time": "2024-04-30T10:09:32.712097",
     "exception": false,
     "start_time": "2024-04-30T10:09:32.431437",
     "status": "completed"
    },
    "tags": []
   },
   "outputs": [],
   "source": [
    "model = scvi.model.SCVI(adata, **scvi_kwargs)"
   ]
  },
  {
   "cell_type": "code",
   "execution_count": 14,
   "id": "2735f010-4f24-4ae8-9740-a8cfeb335e9a",
   "metadata": {
    "execution": {
     "iopub.execute_input": "2024-04-30T10:09:32.722094Z",
     "iopub.status.busy": "2024-04-30T10:09:32.721427Z",
     "iopub.status.idle": "2024-04-30T10:11:52.829595Z",
     "shell.execute_reply": "2024-04-30T10:11:52.828576Z"
    },
    "papermill": {
     "duration": 140.115277,
     "end_time": "2024-04-30T10:11:52.831696",
     "exception": false,
     "start_time": "2024-04-30T10:09:32.716419",
     "status": "completed"
    },
    "tags": []
   },
   "outputs": [
    {
     "name": "stderr",
     "output_type": "stream",
     "text": [
      "GPU available: True (cuda), used: True\n"
     ]
    },
    {
     "name": "stderr",
     "output_type": "stream",
     "text": [
      "TPU available: False, using: 0 TPU cores\n"
     ]
    },
    {
     "name": "stderr",
     "output_type": "stream",
     "text": [
      "IPU available: False, using: 0 IPUs\n"
     ]
    },
    {
     "name": "stderr",
     "output_type": "stream",
     "text": [
      "HPU available: False, using: 0 HPUs\n"
     ]
    },
    {
     "name": "stderr",
     "output_type": "stream",
     "text": [
      "\u001b[34m\u001b[1mwandb\u001b[0m: Currently logged in as: \u001b[33mdav1989\u001b[0m (\u001b[33minflammation\u001b[0m). Use \u001b[1m`wandb login --relogin`\u001b[0m to force relogin\n"
     ]
    },
    {
     "name": "stderr",
     "output_type": "stream",
     "text": [
      "\u001b[34m\u001b[1mwandb\u001b[0m: wandb version 0.16.6 is available!  To upgrade, please run:\n",
      "\u001b[34m\u001b[1mwandb\u001b[0m:  $ pip install wandb --upgrade\n"
     ]
    },
    {
     "name": "stderr",
     "output_type": "stream",
     "text": [
      "\u001b[34m\u001b[1mwandb\u001b[0m: Tracking run with wandb version 0.16.3\n"
     ]
    },
    {
     "name": "stderr",
     "output_type": "stream",
     "text": [
      "\u001b[34m\u001b[1mwandb\u001b[0m: Run data is saved locally in \u001b[35m\u001b[1m./wandb/run-20240430_100937-bk0lo6zq\u001b[0m\n",
      "\u001b[34m\u001b[1mwandb\u001b[0m: Run \u001b[1m`wandb offline`\u001b[0m to turn off syncing.\n"
     ]
    },
    {
     "name": "stderr",
     "output_type": "stream",
     "text": [
      "\u001b[34m\u001b[1mwandb\u001b[0m: Syncing run \u001b[33mStep2_T_NK_Proliferative\u001b[0m\n"
     ]
    },
    {
     "name": "stderr",
     "output_type": "stream",
     "text": [
      "\u001b[34m\u001b[1mwandb\u001b[0m: ⭐️ View project at \u001b[34m\u001b[4mhttps://wandb.ai/inflammation/inflammation_atlas_R1\u001b[0m\n"
     ]
    },
    {
     "name": "stderr",
     "output_type": "stream",
     "text": [
      "\u001b[34m\u001b[1mwandb\u001b[0m: 🚀 View run at \u001b[34m\u001b[4mhttps://wandb.ai/inflammation/inflammation_atlas_R1/runs/bk0lo6zq\u001b[0m\n"
     ]
    },
    {
     "name": "stderr",
     "output_type": "stream",
     "text": [
      "LOCAL_RANK: 0 - CUDA_VISIBLE_DEVICES: [0]\n"
     ]
    },
    {
     "name": "stdout",
     "output_type": "stream",
     "text": [
      "\r",
      "Training:   0%|          | 0/1000 [00:00<?, ?it/s]"
     ]
    },
    {
     "name": "stdout",
     "output_type": "stream",
     "text": [
      "\r",
      "Epoch 1/1000:   0%|          | 0/1000 [00:00<?, ?it/s]"
     ]
    },
    {
     "name": "stdout",
     "output_type": "stream",
     "text": [
      "\r",
      "Epoch 1/1000:   0%|          | 1/1000 [00:05<1:27:32,  5.26s/it]"
     ]
    },
    {
     "name": "stdout",
     "output_type": "stream",
     "text": [
      "\r",
      "Epoch 1/1000:   0%|          | 1/1000 [00:05<1:27:32,  5.26s/it, v_num=o6zq, train_loss_step=1.37e+3, train_loss_epoch=1.37e+3]"
     ]
    },
    {
     "name": "stdout",
     "output_type": "stream",
     "text": [
      "\r",
      "Epoch 2/1000:   0%|          | 1/1000 [00:05<1:27:32,  5.26s/it, v_num=o6zq, train_loss_step=1.37e+3, train_loss_epoch=1.37e+3]"
     ]
    },
    {
     "name": "stdout",
     "output_type": "stream",
     "text": [
      "\r",
      "Epoch 2/1000:   0%|          | 2/1000 [00:09<1:14:47,  4.50s/it, v_num=o6zq, train_loss_step=1.37e+3, train_loss_epoch=1.37e+3]"
     ]
    },
    {
     "name": "stdout",
     "output_type": "stream",
     "text": [
      "\r",
      "Epoch 2/1000:   0%|          | 2/1000 [00:09<1:14:47,  4.50s/it, v_num=o6zq, train_loss_step=1.32e+3, train_loss_epoch=1.29e+3]"
     ]
    },
    {
     "name": "stdout",
     "output_type": "stream",
     "text": [
      "\r",
      "Epoch 3/1000:   0%|          | 2/1000 [00:09<1:14:47,  4.50s/it, v_num=o6zq, train_loss_step=1.32e+3, train_loss_epoch=1.29e+3]"
     ]
    },
    {
     "name": "stdout",
     "output_type": "stream",
     "text": [
      "\r",
      "Epoch 3/1000:   0%|          | 3/1000 [00:13<1:09:31,  4.18s/it, v_num=o6zq, train_loss_step=1.32e+3, train_loss_epoch=1.29e+3]"
     ]
    },
    {
     "name": "stdout",
     "output_type": "stream",
     "text": [
      "\r",
      "Epoch 3/1000:   0%|          | 3/1000 [00:13<1:09:31,  4.18s/it, v_num=o6zq, train_loss_step=1.33e+3, train_loss_epoch=1.27e+3]"
     ]
    },
    {
     "name": "stdout",
     "output_type": "stream",
     "text": [
      "\r",
      "Epoch 4/1000:   0%|          | 3/1000 [00:13<1:09:31,  4.18s/it, v_num=o6zq, train_loss_step=1.33e+3, train_loss_epoch=1.27e+3]"
     ]
    },
    {
     "name": "stdout",
     "output_type": "stream",
     "text": [
      "\r",
      "Epoch 4/1000:   0%|          | 4/1000 [00:16<1:06:55,  4.03s/it, v_num=o6zq, train_loss_step=1.33e+3, train_loss_epoch=1.27e+3]"
     ]
    },
    {
     "name": "stdout",
     "output_type": "stream",
     "text": [
      "\r",
      "Epoch 4/1000:   0%|          | 4/1000 [00:16<1:06:55,  4.03s/it, v_num=o6zq, train_loss_step=1.27e+3, train_loss_epoch=1.26e+3]"
     ]
    },
    {
     "name": "stdout",
     "output_type": "stream",
     "text": [
      "\r",
      "Epoch 5/1000:   0%|          | 4/1000 [00:16<1:06:55,  4.03s/it, v_num=o6zq, train_loss_step=1.27e+3, train_loss_epoch=1.26e+3]"
     ]
    },
    {
     "name": "stdout",
     "output_type": "stream",
     "text": [
      "\r",
      "Epoch 5/1000:   0%|          | 5/1000 [00:20<1:05:35,  3.96s/it, v_num=o6zq, train_loss_step=1.27e+3, train_loss_epoch=1.26e+3]"
     ]
    },
    {
     "name": "stdout",
     "output_type": "stream",
     "text": [
      "\r",
      "Epoch 5/1000:   0%|          | 5/1000 [00:20<1:05:35,  3.96s/it, v_num=o6zq, train_loss_step=1.24e+3, train_loss_epoch=1.26e+3]"
     ]
    },
    {
     "name": "stdout",
     "output_type": "stream",
     "text": [
      "\r",
      "Epoch 6/1000:   0%|          | 5/1000 [00:20<1:05:35,  3.96s/it, v_num=o6zq, train_loss_step=1.24e+3, train_loss_epoch=1.26e+3]"
     ]
    },
    {
     "name": "stdout",
     "output_type": "stream",
     "text": [
      "\r",
      "Epoch 6/1000:   1%|          | 6/1000 [00:24<1:04:34,  3.90s/it, v_num=o6zq, train_loss_step=1.24e+3, train_loss_epoch=1.26e+3]"
     ]
    },
    {
     "name": "stdout",
     "output_type": "stream",
     "text": [
      "\r",
      "Epoch 6/1000:   1%|          | 6/1000 [00:24<1:04:34,  3.90s/it, v_num=o6zq, train_loss_step=1.23e+3, train_loss_epoch=1.25e+3]"
     ]
    },
    {
     "name": "stdout",
     "output_type": "stream",
     "text": [
      "\r",
      "Epoch 7/1000:   1%|          | 6/1000 [00:24<1:04:34,  3.90s/it, v_num=o6zq, train_loss_step=1.23e+3, train_loss_epoch=1.25e+3]"
     ]
    },
    {
     "name": "stdout",
     "output_type": "stream",
     "text": [
      "\r",
      "Epoch 7/1000:   1%|          | 7/1000 [00:28<1:03:38,  3.85s/it, v_num=o6zq, train_loss_step=1.23e+3, train_loss_epoch=1.25e+3]"
     ]
    },
    {
     "name": "stdout",
     "output_type": "stream",
     "text": [
      "\r",
      "Epoch 7/1000:   1%|          | 7/1000 [00:28<1:03:38,  3.85s/it, v_num=o6zq, train_loss_step=1.15e+3, train_loss_epoch=1.24e+3]"
     ]
    },
    {
     "name": "stdout",
     "output_type": "stream",
     "text": [
      "\r",
      "Epoch 8/1000:   1%|          | 7/1000 [00:28<1:03:38,  3.85s/it, v_num=o6zq, train_loss_step=1.15e+3, train_loss_epoch=1.24e+3]"
     ]
    },
    {
     "name": "stdout",
     "output_type": "stream",
     "text": [
      "\r",
      "Epoch 8/1000:   1%|          | 8/1000 [00:31<1:02:36,  3.79s/it, v_num=o6zq, train_loss_step=1.15e+3, train_loss_epoch=1.24e+3]"
     ]
    },
    {
     "name": "stdout",
     "output_type": "stream",
     "text": [
      "\r",
      "Epoch 8/1000:   1%|          | 8/1000 [00:31<1:02:36,  3.79s/it, v_num=o6zq, train_loss_step=1.25e+3, train_loss_epoch=1.24e+3]"
     ]
    },
    {
     "name": "stdout",
     "output_type": "stream",
     "text": [
      "\r",
      "Epoch 9/1000:   1%|          | 8/1000 [00:31<1:02:36,  3.79s/it, v_num=o6zq, train_loss_step=1.25e+3, train_loss_epoch=1.24e+3]"
     ]
    },
    {
     "name": "stdout",
     "output_type": "stream",
     "text": [
      "\r",
      "Epoch 9/1000:   1%|          | 9/1000 [00:35<1:02:33,  3.79s/it, v_num=o6zq, train_loss_step=1.25e+3, train_loss_epoch=1.24e+3]"
     ]
    },
    {
     "name": "stdout",
     "output_type": "stream",
     "text": [
      "\r",
      "Epoch 9/1000:   1%|          | 9/1000 [00:35<1:02:33,  3.79s/it, v_num=o6zq, train_loss_step=1.16e+3, train_loss_epoch=1.23e+3]"
     ]
    },
    {
     "name": "stdout",
     "output_type": "stream",
     "text": [
      "\r",
      "Epoch 10/1000:   1%|          | 9/1000 [00:35<1:02:33,  3.79s/it, v_num=o6zq, train_loss_step=1.16e+3, train_loss_epoch=1.23e+3]"
     ]
    },
    {
     "name": "stdout",
     "output_type": "stream",
     "text": [
      "\r",
      "Epoch 10/1000:   1%|          | 10/1000 [00:39<1:02:43,  3.80s/it, v_num=o6zq, train_loss_step=1.16e+3, train_loss_epoch=1.23e+3]"
     ]
    },
    {
     "name": "stdout",
     "output_type": "stream",
     "text": [
      "\r",
      "Epoch 10/1000:   1%|          | 10/1000 [00:39<1:02:43,  3.80s/it, v_num=o6zq, train_loss_step=1.22e+3, train_loss_epoch=1.23e+3]"
     ]
    },
    {
     "name": "stdout",
     "output_type": "stream",
     "text": [
      "\r",
      "Epoch 11/1000:   1%|          | 10/1000 [00:39<1:02:43,  3.80s/it, v_num=o6zq, train_loss_step=1.22e+3, train_loss_epoch=1.23e+3]"
     ]
    },
    {
     "name": "stdout",
     "output_type": "stream",
     "text": [
      "\r",
      "Epoch 11/1000:   1%|          | 11/1000 [00:43<1:02:35,  3.80s/it, v_num=o6zq, train_loss_step=1.22e+3, train_loss_epoch=1.23e+3]"
     ]
    },
    {
     "name": "stdout",
     "output_type": "stream",
     "text": [
      "\r",
      "Epoch 11/1000:   1%|          | 11/1000 [00:43<1:02:35,  3.80s/it, v_num=o6zq, train_loss_step=1.16e+3, train_loss_epoch=1.22e+3]"
     ]
    },
    {
     "name": "stdout",
     "output_type": "stream",
     "text": [
      "\r",
      "Epoch 12/1000:   1%|          | 11/1000 [00:43<1:02:35,  3.80s/it, v_num=o6zq, train_loss_step=1.16e+3, train_loss_epoch=1.22e+3]"
     ]
    },
    {
     "name": "stdout",
     "output_type": "stream",
     "text": [
      "\r",
      "Epoch 12/1000:   1%|          | 12/1000 [00:46<1:01:55,  3.76s/it, v_num=o6zq, train_loss_step=1.16e+3, train_loss_epoch=1.22e+3]"
     ]
    },
    {
     "name": "stdout",
     "output_type": "stream",
     "text": [
      "\r",
      "Epoch 12/1000:   1%|          | 12/1000 [00:46<1:01:55,  3.76s/it, v_num=o6zq, train_loss_step=1.21e+3, train_loss_epoch=1.22e+3]"
     ]
    },
    {
     "name": "stdout",
     "output_type": "stream",
     "text": [
      "\r",
      "Epoch 13/1000:   1%|          | 12/1000 [00:46<1:01:55,  3.76s/it, v_num=o6zq, train_loss_step=1.21e+3, train_loss_epoch=1.22e+3]"
     ]
    },
    {
     "name": "stdout",
     "output_type": "stream",
     "text": [
      "\r",
      "Epoch 13/1000:   1%|▏         | 13/1000 [00:50<1:01:17,  3.73s/it, v_num=o6zq, train_loss_step=1.21e+3, train_loss_epoch=1.22e+3]"
     ]
    },
    {
     "name": "stdout",
     "output_type": "stream",
     "text": [
      "\r",
      "Epoch 13/1000:   1%|▏         | 13/1000 [00:50<1:01:17,  3.73s/it, v_num=o6zq, train_loss_step=1.3e+3, train_loss_epoch=1.22e+3] "
     ]
    },
    {
     "name": "stdout",
     "output_type": "stream",
     "text": [
      "\r",
      "Epoch 14/1000:   1%|▏         | 13/1000 [00:50<1:01:17,  3.73s/it, v_num=o6zq, train_loss_step=1.3e+3, train_loss_epoch=1.22e+3]"
     ]
    },
    {
     "name": "stdout",
     "output_type": "stream",
     "text": [
      "\r",
      "Epoch 14/1000:   1%|▏         | 14/1000 [00:54<1:00:48,  3.70s/it, v_num=o6zq, train_loss_step=1.3e+3, train_loss_epoch=1.22e+3]"
     ]
    },
    {
     "name": "stdout",
     "output_type": "stream",
     "text": [
      "\r",
      "Epoch 14/1000:   1%|▏         | 14/1000 [00:54<1:00:48,  3.70s/it, v_num=o6zq, train_loss_step=1.27e+3, train_loss_epoch=1.21e+3]"
     ]
    },
    {
     "name": "stdout",
     "output_type": "stream",
     "text": [
      "\r",
      "Epoch 15/1000:   1%|▏         | 14/1000 [00:54<1:00:48,  3.70s/it, v_num=o6zq, train_loss_step=1.27e+3, train_loss_epoch=1.21e+3]"
     ]
    },
    {
     "name": "stdout",
     "output_type": "stream",
     "text": [
      "\r",
      "Epoch 15/1000:   2%|▏         | 15/1000 [00:57<1:00:46,  3.70s/it, v_num=o6zq, train_loss_step=1.27e+3, train_loss_epoch=1.21e+3]"
     ]
    },
    {
     "name": "stdout",
     "output_type": "stream",
     "text": [
      "\r",
      "Epoch 15/1000:   2%|▏         | 15/1000 [00:57<1:00:46,  3.70s/it, v_num=o6zq, train_loss_step=1.17e+3, train_loss_epoch=1.21e+3]"
     ]
    },
    {
     "name": "stdout",
     "output_type": "stream",
     "text": [
      "\r",
      "Epoch 16/1000:   2%|▏         | 15/1000 [00:57<1:00:46,  3.70s/it, v_num=o6zq, train_loss_step=1.17e+3, train_loss_epoch=1.21e+3]"
     ]
    },
    {
     "name": "stdout",
     "output_type": "stream",
     "text": [
      "\r",
      "Epoch 16/1000:   2%|▏         | 16/1000 [01:01<1:01:03,  3.72s/it, v_num=o6zq, train_loss_step=1.17e+3, train_loss_epoch=1.21e+3]"
     ]
    },
    {
     "name": "stdout",
     "output_type": "stream",
     "text": [
      "\r",
      "Epoch 16/1000:   2%|▏         | 16/1000 [01:01<1:01:03,  3.72s/it, v_num=o6zq, train_loss_step=1.32e+3, train_loss_epoch=1.21e+3]"
     ]
    },
    {
     "name": "stdout",
     "output_type": "stream",
     "text": [
      "\r",
      "Epoch 17/1000:   2%|▏         | 16/1000 [01:01<1:01:03,  3.72s/it, v_num=o6zq, train_loss_step=1.32e+3, train_loss_epoch=1.21e+3]"
     ]
    },
    {
     "name": "stdout",
     "output_type": "stream",
     "text": [
      "\r",
      "Epoch 17/1000:   2%|▏         | 17/1000 [01:05<1:00:48,  3.71s/it, v_num=o6zq, train_loss_step=1.32e+3, train_loss_epoch=1.21e+3]"
     ]
    },
    {
     "name": "stdout",
     "output_type": "stream",
     "text": [
      "\r",
      "Epoch 17/1000:   2%|▏         | 17/1000 [01:05<1:00:48,  3.71s/it, v_num=o6zq, train_loss_step=1.22e+3, train_loss_epoch=1.21e+3]"
     ]
    },
    {
     "name": "stdout",
     "output_type": "stream",
     "text": [
      "\r",
      "Epoch 18/1000:   2%|▏         | 17/1000 [01:05<1:00:48,  3.71s/it, v_num=o6zq, train_loss_step=1.22e+3, train_loss_epoch=1.21e+3]"
     ]
    },
    {
     "name": "stdout",
     "output_type": "stream",
     "text": [
      "\r",
      "Epoch 18/1000:   2%|▏         | 18/1000 [01:08<1:00:16,  3.68s/it, v_num=o6zq, train_loss_step=1.22e+3, train_loss_epoch=1.21e+3]"
     ]
    },
    {
     "name": "stdout",
     "output_type": "stream",
     "text": [
      "\r",
      "Epoch 18/1000:   2%|▏         | 18/1000 [01:08<1:00:16,  3.68s/it, v_num=o6zq, train_loss_step=1.12e+3, train_loss_epoch=1.2e+3] "
     ]
    },
    {
     "name": "stdout",
     "output_type": "stream",
     "text": [
      "\r",
      "Epoch 19/1000:   2%|▏         | 18/1000 [01:08<1:00:16,  3.68s/it, v_num=o6zq, train_loss_step=1.12e+3, train_loss_epoch=1.2e+3]"
     ]
    },
    {
     "name": "stdout",
     "output_type": "stream",
     "text": [
      "\r",
      "Epoch 19/1000:   2%|▏         | 19/1000 [01:12<59:57,  3.67s/it, v_num=o6zq, train_loss_step=1.12e+3, train_loss_epoch=1.2e+3]  "
     ]
    },
    {
     "name": "stdout",
     "output_type": "stream",
     "text": [
      "\r",
      "Epoch 19/1000:   2%|▏         | 19/1000 [01:12<59:57,  3.67s/it, v_num=o6zq, train_loss_step=1.16e+3, train_loss_epoch=1.2e+3]"
     ]
    },
    {
     "name": "stdout",
     "output_type": "stream",
     "text": [
      "\r",
      "Epoch 20/1000:   2%|▏         | 19/1000 [01:12<59:57,  3.67s/it, v_num=o6zq, train_loss_step=1.16e+3, train_loss_epoch=1.2e+3]"
     ]
    },
    {
     "name": "stdout",
     "output_type": "stream",
     "text": [
      "\r",
      "Epoch 20/1000:   2%|▏         | 20/1000 [01:16<59:52,  3.67s/it, v_num=o6zq, train_loss_step=1.16e+3, train_loss_epoch=1.2e+3]"
     ]
    },
    {
     "name": "stdout",
     "output_type": "stream",
     "text": [
      "\r",
      "Epoch 20/1000:   2%|▏         | 20/1000 [01:16<59:52,  3.67s/it, v_num=o6zq, train_loss_step=1.18e+3, train_loss_epoch=1.2e+3]"
     ]
    },
    {
     "name": "stdout",
     "output_type": "stream",
     "text": [
      "\r",
      "Epoch 21/1000:   2%|▏         | 20/1000 [01:16<59:52,  3.67s/it, v_num=o6zq, train_loss_step=1.18e+3, train_loss_epoch=1.2e+3]"
     ]
    },
    {
     "name": "stdout",
     "output_type": "stream",
     "text": [
      "\r",
      "Epoch 21/1000:   2%|▏         | 21/1000 [01:19<59:29,  3.65s/it, v_num=o6zq, train_loss_step=1.18e+3, train_loss_epoch=1.2e+3]"
     ]
    },
    {
     "name": "stdout",
     "output_type": "stream",
     "text": [
      "\r",
      "Epoch 21/1000:   2%|▏         | 21/1000 [01:19<59:29,  3.65s/it, v_num=o6zq, train_loss_step=1.23e+3, train_loss_epoch=1.2e+3]"
     ]
    },
    {
     "name": "stdout",
     "output_type": "stream",
     "text": [
      "\r",
      "Epoch 22/1000:   2%|▏         | 21/1000 [01:19<59:29,  3.65s/it, v_num=o6zq, train_loss_step=1.23e+3, train_loss_epoch=1.2e+3]"
     ]
    },
    {
     "name": "stdout",
     "output_type": "stream",
     "text": [
      "\r",
      "Epoch 22/1000:   2%|▏         | 22/1000 [01:23<59:09,  3.63s/it, v_num=o6zq, train_loss_step=1.23e+3, train_loss_epoch=1.2e+3]"
     ]
    },
    {
     "name": "stdout",
     "output_type": "stream",
     "text": [
      "\r",
      "Epoch 22/1000:   2%|▏         | 22/1000 [01:23<59:09,  3.63s/it, v_num=o6zq, train_loss_step=1.19e+3, train_loss_epoch=1.19e+3]"
     ]
    },
    {
     "name": "stdout",
     "output_type": "stream",
     "text": [
      "\r",
      "Epoch 23/1000:   2%|▏         | 22/1000 [01:23<59:09,  3.63s/it, v_num=o6zq, train_loss_step=1.19e+3, train_loss_epoch=1.19e+3]"
     ]
    },
    {
     "name": "stdout",
     "output_type": "stream",
     "text": [
      "\r",
      "Epoch 23/1000:   2%|▏         | 23/1000 [01:27<1:00:37,  3.72s/it, v_num=o6zq, train_loss_step=1.19e+3, train_loss_epoch=1.19e+3]"
     ]
    },
    {
     "name": "stdout",
     "output_type": "stream",
     "text": [
      "\r",
      "Epoch 23/1000:   2%|▏         | 23/1000 [01:27<1:00:37,  3.72s/it, v_num=o6zq, train_loss_step=1.18e+3, train_loss_epoch=1.19e+3]"
     ]
    },
    {
     "name": "stdout",
     "output_type": "stream",
     "text": [
      "\r",
      "Epoch 24/1000:   2%|▏         | 23/1000 [01:27<1:00:37,  3.72s/it, v_num=o6zq, train_loss_step=1.18e+3, train_loss_epoch=1.19e+3]"
     ]
    },
    {
     "name": "stdout",
     "output_type": "stream",
     "text": [
      "\r",
      "Epoch 24/1000:   2%|▏         | 24/1000 [01:31<1:01:20,  3.77s/it, v_num=o6zq, train_loss_step=1.18e+3, train_loss_epoch=1.19e+3]"
     ]
    },
    {
     "name": "stdout",
     "output_type": "stream",
     "text": [
      "\r",
      "Epoch 24/1000:   2%|▏         | 24/1000 [01:31<1:01:20,  3.77s/it, v_num=o6zq, train_loss_step=1.23e+3, train_loss_epoch=1.19e+3]"
     ]
    },
    {
     "name": "stdout",
     "output_type": "stream",
     "text": [
      "\r",
      "Epoch 25/1000:   2%|▏         | 24/1000 [01:31<1:01:20,  3.77s/it, v_num=o6zq, train_loss_step=1.23e+3, train_loss_epoch=1.19e+3]"
     ]
    },
    {
     "name": "stdout",
     "output_type": "stream",
     "text": [
      "\r",
      "Epoch 25/1000:   2%|▎         | 25/1000 [01:35<1:01:11,  3.77s/it, v_num=o6zq, train_loss_step=1.23e+3, train_loss_epoch=1.19e+3]"
     ]
    },
    {
     "name": "stdout",
     "output_type": "stream",
     "text": [
      "\r",
      "Epoch 25/1000:   2%|▎         | 25/1000 [01:35<1:01:11,  3.77s/it, v_num=o6zq, train_loss_step=1.22e+3, train_loss_epoch=1.19e+3]"
     ]
    },
    {
     "name": "stdout",
     "output_type": "stream",
     "text": [
      "\r",
      "Epoch 26/1000:   2%|▎         | 25/1000 [01:35<1:01:11,  3.77s/it, v_num=o6zq, train_loss_step=1.22e+3, train_loss_epoch=1.19e+3]"
     ]
    },
    {
     "name": "stdout",
     "output_type": "stream",
     "text": [
      "\r",
      "Epoch 26/1000:   3%|▎         | 26/1000 [01:38<1:01:37,  3.80s/it, v_num=o6zq, train_loss_step=1.22e+3, train_loss_epoch=1.19e+3]"
     ]
    },
    {
     "name": "stdout",
     "output_type": "stream",
     "text": [
      "\r",
      "Epoch 26/1000:   3%|▎         | 26/1000 [01:38<1:01:37,  3.80s/it, v_num=o6zq, train_loss_step=1.12e+3, train_loss_epoch=1.19e+3]"
     ]
    },
    {
     "name": "stdout",
     "output_type": "stream",
     "text": [
      "\r",
      "Epoch 27/1000:   3%|▎         | 26/1000 [01:38<1:01:37,  3.80s/it, v_num=o6zq, train_loss_step=1.12e+3, train_loss_epoch=1.19e+3]"
     ]
    },
    {
     "name": "stdout",
     "output_type": "stream",
     "text": [
      "\r",
      "Epoch 27/1000:   3%|▎         | 27/1000 [01:42<1:02:10,  3.83s/it, v_num=o6zq, train_loss_step=1.12e+3, train_loss_epoch=1.19e+3]"
     ]
    },
    {
     "name": "stdout",
     "output_type": "stream",
     "text": [
      "\r",
      "Epoch 27/1000:   3%|▎         | 27/1000 [01:42<1:02:10,  3.83s/it, v_num=o6zq, train_loss_step=1.18e+3, train_loss_epoch=1.19e+3]"
     ]
    },
    {
     "name": "stdout",
     "output_type": "stream",
     "text": [
      "\r",
      "Epoch 28/1000:   3%|▎         | 27/1000 [01:42<1:02:10,  3.83s/it, v_num=o6zq, train_loss_step=1.18e+3, train_loss_epoch=1.19e+3]"
     ]
    },
    {
     "name": "stdout",
     "output_type": "stream",
     "text": [
      "\r",
      "Epoch 28/1000:   3%|▎         | 28/1000 [01:46<1:02:14,  3.84s/it, v_num=o6zq, train_loss_step=1.18e+3, train_loss_epoch=1.19e+3]"
     ]
    },
    {
     "name": "stdout",
     "output_type": "stream",
     "text": [
      "\r",
      "Epoch 28/1000:   3%|▎         | 28/1000 [01:46<1:02:14,  3.84s/it, v_num=o6zq, train_loss_step=1.11e+3, train_loss_epoch=1.19e+3]"
     ]
    },
    {
     "name": "stdout",
     "output_type": "stream",
     "text": [
      "\r",
      "Epoch 29/1000:   3%|▎         | 28/1000 [01:46<1:02:14,  3.84s/it, v_num=o6zq, train_loss_step=1.11e+3, train_loss_epoch=1.19e+3]"
     ]
    },
    {
     "name": "stdout",
     "output_type": "stream",
     "text": [
      "\r",
      "Epoch 29/1000:   3%|▎         | 29/1000 [01:50<1:02:45,  3.88s/it, v_num=o6zq, train_loss_step=1.11e+3, train_loss_epoch=1.19e+3]"
     ]
    },
    {
     "name": "stdout",
     "output_type": "stream",
     "text": [
      "\r",
      "Epoch 29/1000:   3%|▎         | 29/1000 [01:50<1:02:45,  3.88s/it, v_num=o6zq, train_loss_step=1.16e+3, train_loss_epoch=1.18e+3]"
     ]
    },
    {
     "name": "stdout",
     "output_type": "stream",
     "text": [
      "\r",
      "Epoch 30/1000:   3%|▎         | 29/1000 [01:50<1:02:45,  3.88s/it, v_num=o6zq, train_loss_step=1.16e+3, train_loss_epoch=1.18e+3]"
     ]
    },
    {
     "name": "stdout",
     "output_type": "stream",
     "text": [
      "\r",
      "Epoch 30/1000:   3%|▎         | 30/1000 [01:54<1:03:55,  3.95s/it, v_num=o6zq, train_loss_step=1.16e+3, train_loss_epoch=1.18e+3]"
     ]
    },
    {
     "name": "stdout",
     "output_type": "stream",
     "text": [
      "\r",
      "Epoch 30/1000:   3%|▎         | 30/1000 [01:54<1:03:55,  3.95s/it, v_num=o6zq, train_loss_step=1.15e+3, train_loss_epoch=1.18e+3]"
     ]
    },
    {
     "name": "stdout",
     "output_type": "stream",
     "text": [
      "\r",
      "Epoch 31/1000:   3%|▎         | 30/1000 [01:54<1:03:55,  3.95s/it, v_num=o6zq, train_loss_step=1.15e+3, train_loss_epoch=1.18e+3]"
     ]
    },
    {
     "name": "stdout",
     "output_type": "stream",
     "text": [
      "\r",
      "Epoch 31/1000:   3%|▎         | 31/1000 [01:58<1:03:40,  3.94s/it, v_num=o6zq, train_loss_step=1.15e+3, train_loss_epoch=1.18e+3]"
     ]
    },
    {
     "name": "stdout",
     "output_type": "stream",
     "text": [
      "\r",
      "Epoch 31/1000:   3%|▎         | 31/1000 [01:58<1:03:40,  3.94s/it, v_num=o6zq, train_loss_step=1.11e+3, train_loss_epoch=1.18e+3]"
     ]
    },
    {
     "name": "stdout",
     "output_type": "stream",
     "text": [
      "\r",
      "Epoch 32/1000:   3%|▎         | 31/1000 [01:58<1:03:40,  3.94s/it, v_num=o6zq, train_loss_step=1.11e+3, train_loss_epoch=1.18e+3]"
     ]
    },
    {
     "name": "stdout",
     "output_type": "stream",
     "text": [
      "\r",
      "Epoch 32/1000:   3%|▎         | 32/1000 [02:02<1:04:02,  3.97s/it, v_num=o6zq, train_loss_step=1.11e+3, train_loss_epoch=1.18e+3]"
     ]
    },
    {
     "name": "stdout",
     "output_type": "stream",
     "text": [
      "\r",
      "Epoch 32/1000:   3%|▎         | 32/1000 [02:02<1:04:02,  3.97s/it, v_num=o6zq, train_loss_step=1.2e+3, train_loss_epoch=1.18e+3] "
     ]
    },
    {
     "name": "stdout",
     "output_type": "stream",
     "text": [
      "\r",
      "Epoch 33/1000:   3%|▎         | 32/1000 [02:02<1:04:02,  3.97s/it, v_num=o6zq, train_loss_step=1.2e+3, train_loss_epoch=1.18e+3]"
     ]
    },
    {
     "name": "stdout",
     "output_type": "stream",
     "text": [
      "\r",
      "Epoch 33/1000:   3%|▎         | 33/1000 [02:06<1:04:23,  3.99s/it, v_num=o6zq, train_loss_step=1.2e+3, train_loss_epoch=1.18e+3]"
     ]
    },
    {
     "name": "stdout",
     "output_type": "stream",
     "text": [
      "\r",
      "Epoch 33/1000:   3%|▎         | 33/1000 [02:06<1:04:23,  3.99s/it, v_num=o6zq, train_loss_step=1.2e+3, train_loss_epoch=1.18e+3]"
     ]
    },
    {
     "name": "stdout",
     "output_type": "stream",
     "text": [
      "\r",
      "Epoch 34/1000:   3%|▎         | 33/1000 [02:06<1:04:23,  3.99s/it, v_num=o6zq, train_loss_step=1.2e+3, train_loss_epoch=1.18e+3]"
     ]
    },
    {
     "name": "stdout",
     "output_type": "stream",
     "text": [
      "\r",
      "Epoch 34/1000:   3%|▎         | 34/1000 [02:10<1:04:02,  3.98s/it, v_num=o6zq, train_loss_step=1.2e+3, train_loss_epoch=1.18e+3]"
     ]
    },
    {
     "name": "stdout",
     "output_type": "stream",
     "text": [
      "\r",
      "Epoch 34/1000:   3%|▎         | 34/1000 [02:10<1:04:02,  3.98s/it, v_num=o6zq, train_loss_step=1.09e+3, train_loss_epoch=1.18e+3]"
     ]
    },
    {
     "name": "stdout",
     "output_type": "stream",
     "text": [
      "\r",
      "Epoch 35/1000:   3%|▎         | 34/1000 [02:10<1:04:02,  3.98s/it, v_num=o6zq, train_loss_step=1.09e+3, train_loss_epoch=1.18e+3]"
     ]
    },
    {
     "name": "stdout",
     "output_type": "stream",
     "text": [
      "\r",
      "Epoch 35/1000:   4%|▎         | 35/1000 [02:14<1:03:55,  3.97s/it, v_num=o6zq, train_loss_step=1.09e+3, train_loss_epoch=1.18e+3]"
     ]
    },
    {
     "name": "stdout",
     "output_type": "stream",
     "text": [
      "\r",
      "Epoch 35/1000:   4%|▎         | 35/1000 [02:14<1:03:55,  3.97s/it, v_num=o6zq, train_loss_step=1.25e+3, train_loss_epoch=1.18e+3]"
     ]
    },
    {
     "name": "stdout",
     "output_type": "stream",
     "text": [
      "\r",
      "Epoch 35/1000:   4%|▎         | 35/1000 [02:14<1:01:54,  3.85s/it, v_num=o6zq, train_loss_step=1.25e+3, train_loss_epoch=1.18e+3]"
     ]
    },
    {
     "name": "stdout",
     "output_type": "stream",
     "text": [
      "\n",
      "Monitored metric reconstruction_loss_validation did not improve in the last 10 records. Best score: 1225.673. Signaling Trainer to stop.\n"
     ]
    }
   ],
   "source": [
    "model.train(logger=logger, plan_kwargs = plan_kwargs, **trainer_kwargs)"
   ]
  },
  {
   "cell_type": "code",
   "execution_count": 15,
   "id": "c282f6eb-0ad1-40a5-81e6-1acda1545dad",
   "metadata": {
    "execution": {
     "iopub.execute_input": "2024-04-30T10:11:52.855093Z",
     "iopub.status.busy": "2024-04-30T10:11:52.854286Z",
     "iopub.status.idle": "2024-04-30T10:11:57.222064Z",
     "shell.execute_reply": "2024-04-30T10:11:57.221350Z"
    },
    "papermill": {
     "duration": 4.381768,
     "end_time": "2024-04-30T10:11:57.224145",
     "exception": false,
     "start_time": "2024-04-30T10:11:52.842377",
     "status": "completed"
    },
    "tags": []
   },
   "outputs": [
    {
     "name": "stderr",
     "output_type": "stream",
     "text": [
      "\u001b[34m\u001b[1mwandb\u001b[0m: - 0.003 MB of 0.003 MB uploaded\r"
     ]
    },
    {
     "name": "stderr",
     "output_type": "stream",
     "text": [
      "\u001b[34m\u001b[1mwandb\u001b[0m: \\ 0.003 MB of 0.009 MB uploaded\r"
     ]
    },
    {
     "name": "stderr",
     "output_type": "stream",
     "text": [
      "\u001b[34m\u001b[1mwandb\u001b[0m: | 0.003 MB of 0.009 MB uploaded\r"
     ]
    },
    {
     "name": "stderr",
     "output_type": "stream",
     "text": [
      "\u001b[34m\u001b[1mwandb\u001b[0m: / 0.009 MB of 0.009 MB uploaded\r"
     ]
    },
    {
     "name": "stderr",
     "output_type": "stream",
     "text": [
      "\u001b[34m\u001b[1mwandb\u001b[0m:                                                                                \n"
     ]
    },
    {
     "name": "stderr",
     "output_type": "stream",
     "text": [
      "\u001b[34m\u001b[1mwandb\u001b[0m: \n",
      "\u001b[34m\u001b[1mwandb\u001b[0m: Run history:\n",
      "\u001b[34m\u001b[1mwandb\u001b[0m:                     elbo_train █▆▆▅▅▄▄▄▄▃▃▃▃▃▂▂▂▂▂▂▂▂▂▂▂▁▁▁▁▁▁▁▁▁▁\n",
      "\u001b[34m\u001b[1mwandb\u001b[0m:                elbo_validation █▆▅▅▄▄▃▃▃▂▂▂▂▂▂▂▁▁▁▁▁▁▁▁▁▁▁▁▁▁▁▁▁▁▁\n",
      "\u001b[34m\u001b[1mwandb\u001b[0m:                          epoch ▁▁▁▁▂▂▂▂▂▃▃▃▃▃▃▄▄▄▄▅▅▅▅▅▅▆▆▆▆▆▆▇▇▇▇▇████\n",
      "\u001b[34m\u001b[1mwandb\u001b[0m:                kl_global_train ▁▁▁▁▁▁▁▁▁▁▁▁▁▁▁▁▁▁▁▁▁▁▁▁▁▁▁▁▁▁▁▁▁▁▁\n",
      "\u001b[34m\u001b[1mwandb\u001b[0m:           kl_global_validation ▁▁▁▁▁▁▁▁▁▁▁▁▁▁▁▁▁▁▁▁▁▁▁▁▁▁▁▁▁▁▁▁▁▁▁\n",
      "\u001b[34m\u001b[1mwandb\u001b[0m:                 kl_local_train ▁▆███▇▆▆▅▅▅▅▄▄▄▄▄▄▄▄▃▃▃▃▃▃▃▃▃▃▃▃▃▃▃\n",
      "\u001b[34m\u001b[1mwandb\u001b[0m:            kl_local_validation ▁▇█▇▇▆▆▅▅▅▄▄▄▄▄▄▄▄▄▃▃▃▃▃▃▃▃▃▃▃▃▃▃▃▃\n",
      "\u001b[34m\u001b[1mwandb\u001b[0m:                      kl_weight ▁▁▁▁▂▂▂▂▂▂▃▃▃▃▃▄▄▄▄▄▅▅▅▅▅▆▆▆▆▆▆▇▇▇▇▇▇███\n",
      "\u001b[34m\u001b[1mwandb\u001b[0m:      reconstruction_loss_train █▅▅▄▄▄▃▃▃▃▃▃▂▂▂▂▂▂▂▂▂▂▂▂▁▁▁▁▁▁▁▁▁▁▁\n",
      "\u001b[34m\u001b[1mwandb\u001b[0m: reconstruction_loss_validation █▄▄▃▃▃▂▂▂▂▂▂▂▁▁▁▁▁▁▁▁▁▁▁▁▁▁▁▁▁▁▁▁▁▁\n",
      "\u001b[34m\u001b[1mwandb\u001b[0m:               train_loss_epoch █▅▅▄▄▄▃▃▃▃▃▃▂▂▂▂▂▂▂▂▂▂▂▁▁▁▁▁▁▁▁▁▁▁▁\n",
      "\u001b[34m\u001b[1mwandb\u001b[0m:                train_loss_step ▇▆▇▅▆▄▅▅▃▅▄▅▃▇█▄▄▄▇▂▆▁▅▃▃▆▃▅▄▄▃▃▄▂▂▂▃▁▂▆\n",
      "\u001b[34m\u001b[1mwandb\u001b[0m:            trainer/global_step ▁▁▁▂▂▂▂▂▂▃▃▃▃▃▄▄▄▄▄▄▅▅▅▅▅▅▆▆▆▆▆▇▇▇▇▇▇███\n",
      "\u001b[34m\u001b[1mwandb\u001b[0m:                validation_loss █▄▄▃▃▃▂▂▂▂▂▂▁▁▁▁▁▁▁▁▁▁▁▁▁▁▁▁▁▁▁▁▁▁▁\n",
      "\u001b[34m\u001b[1mwandb\u001b[0m: \n",
      "\u001b[34m\u001b[1mwandb\u001b[0m: Run summary:\n",
      "\u001b[34m\u001b[1mwandb\u001b[0m:                     elbo_train 1225.66443\n",
      "\u001b[34m\u001b[1mwandb\u001b[0m:                elbo_validation 1276.75635\n",
      "\u001b[34m\u001b[1mwandb\u001b[0m:                          epoch 34\n",
      "\u001b[34m\u001b[1mwandb\u001b[0m:                kl_global_train 0.0\n",
      "\u001b[34m\u001b[1mwandb\u001b[0m:           kl_global_validation 0.0\n",
      "\u001b[34m\u001b[1mwandb\u001b[0m:                 kl_local_train 51.43744\n",
      "\u001b[34m\u001b[1mwandb\u001b[0m:            kl_local_validation 50.02387\n",
      "\u001b[34m\u001b[1mwandb\u001b[0m:                      kl_weight 0.085\n",
      "\u001b[34m\u001b[1mwandb\u001b[0m:      reconstruction_loss_train 1174.22705\n",
      "\u001b[34m\u001b[1mwandb\u001b[0m: reconstruction_loss_validation 1226.73242\n",
      "\u001b[34m\u001b[1mwandb\u001b[0m:               train_loss_epoch 1178.59888\n",
      "\u001b[34m\u001b[1mwandb\u001b[0m:                train_loss_step 1247.37183\n",
      "\u001b[34m\u001b[1mwandb\u001b[0m:            trainer/global_step 8749\n",
      "\u001b[34m\u001b[1mwandb\u001b[0m:                validation_loss 1230.9845\n",
      "\u001b[34m\u001b[1mwandb\u001b[0m: \n"
     ]
    },
    {
     "name": "stderr",
     "output_type": "stream",
     "text": [
      "\u001b[34m\u001b[1mwandb\u001b[0m: 🚀 View run \u001b[33mStep2_T_NK_Proliferative\u001b[0m at: \u001b[34m\u001b[4mhttps://wandb.ai/inflammation/inflammation_atlas_R1/runs/bk0lo6zq\u001b[0m\n",
      "\u001b[34m\u001b[1mwandb\u001b[0m: Synced 5 W&B file(s), 0 media file(s), 0 artifact file(s) and 0 other file(s)\n"
     ]
    },
    {
     "name": "stderr",
     "output_type": "stream",
     "text": [
      "\u001b[34m\u001b[1mwandb\u001b[0m: Find logs at: \u001b[35m\u001b[1m./wandb/run-20240430_100937-bk0lo6zq/logs\u001b[0m\n"
     ]
    }
   ],
   "source": [
    "wandb.finish()"
   ]
  },
  {
   "cell_type": "markdown",
   "id": "d9fb1179-83c7-4ac6-b4aa-92dc7a349801",
   "metadata": {
    "papermill": {
     "duration": 0.010537,
     "end_time": "2024-04-30T10:11:57.245701",
     "exception": false,
     "start_time": "2024-04-30T10:11:57.235164",
     "status": "completed"
    },
    "tags": []
   },
   "source": [
    "### Extracting embedding space"
   ]
  },
  {
   "cell_type": "code",
   "execution_count": 16,
   "id": "caaa5832-0123-4c59-8ec6-f46a75f7a14e",
   "metadata": {
    "execution": {
     "iopub.execute_input": "2024-04-30T10:11:57.269257Z",
     "iopub.status.busy": "2024-04-30T10:11:57.268474Z",
     "iopub.status.idle": "2024-04-30T10:11:58.908812Z",
     "shell.execute_reply": "2024-04-30T10:11:58.908025Z"
    },
    "papermill": {
     "duration": 1.654558,
     "end_time": "2024-04-30T10:11:58.911066",
     "exception": false,
     "start_time": "2024-04-30T10:11:57.256508",
     "status": "completed"
    },
    "tags": []
   },
   "outputs": [],
   "source": [
    "adata.obsm['X_scVI'] = model.get_latent_representation()"
   ]
  },
  {
   "cell_type": "markdown",
   "id": "2f03e70b-839c-40a6-9fbb-d76bbd787419",
   "metadata": {
    "papermill": {
     "duration": 0.01301,
     "end_time": "2024-04-30T10:11:58.935548",
     "exception": false,
     "start_time": "2024-04-30T10:11:58.922538",
     "status": "completed"
    },
    "tags": []
   },
   "source": [
    "## Save the results"
   ]
  },
  {
   "cell_type": "code",
   "execution_count": 17,
   "id": "7b04049b-47fd-4b62-a1c0-c43dcc086d34",
   "metadata": {
    "execution": {
     "iopub.execute_input": "2024-04-30T10:11:58.959542Z",
     "iopub.status.busy": "2024-04-30T10:11:58.958852Z",
     "iopub.status.idle": "2024-04-30T10:12:06.358276Z",
     "shell.execute_reply": "2024-04-30T10:12:06.357553Z"
    },
    "papermill": {
     "duration": 7.414285,
     "end_time": "2024-04-30T10:12:06.360817",
     "exception": false,
     "start_time": "2024-04-30T10:11:58.946532",
     "status": "completed"
    },
    "tags": []
   },
   "outputs": [],
   "source": [
    "if overwriteData:\n",
    "    adata.write(here(f\"{workDir}/{cellGroup}/results/02_{annotationLevel}_{cellGroup}_HVGsubset_scVI.h5ad\"), compression=\"gzip\")\n",
    "    model.save(here(f\"{workDir}/{cellGroup}/results/02_{annotationLevel}_{cellGroup}_HVGsubset_scVI_MODEL/\"),\n",
    "               overwrite = True, \n",
    "               save_anndata = False )   "
   ]
  },
  {
   "cell_type": "code",
   "execution_count": 18,
   "id": "629ba2bd-f6be-44ef-8fca-bbdf891bf25f",
   "metadata": {
    "execution": {
     "iopub.execute_input": "2024-04-30T10:12:06.384490Z",
     "iopub.status.busy": "2024-04-30T10:12:06.384154Z",
     "iopub.status.idle": "2024-04-30T10:12:06.387649Z",
     "shell.execute_reply": "2024-04-30T10:12:06.386952Z"
    },
    "papermill": {
     "duration": 0.017555,
     "end_time": "2024-04-30T10:12:06.389375",
     "exception": false,
     "start_time": "2024-04-30T10:12:06.371820",
     "status": "completed"
    },
    "tags": []
   },
   "outputs": [],
   "source": [
    "# To load the model do (after loading corresponding adata):\n",
    "# model = scvi.model.SCVI.load(here('{}/results/01_{}_HVGsubset_scVI_MODEL/'.format(workDir, cellGroup)), \n",
    "#                              adata, \n",
    "#                              use_gpu=True)"
   ]
  },
  {
   "cell_type": "raw",
   "id": "975e84d0-f56b-498d-b3a8-c9219cf22e53",
   "metadata": {
    "papermill": {
     "duration": 0.010364,
     "end_time": "2024-04-30T10:12:06.410323",
     "exception": false,
     "start_time": "2024-04-30T10:12:06.399959",
     "status": "completed"
    },
    "tags": []
   },
   "source": [
    "session_info.show()"
   ]
  }
 ],
 "metadata": {
  "kernelspec": {
   "display_name": "Python 3 (ipykernel)",
   "language": "python",
   "name": "python3"
  },
  "language_info": {
   "codemirror_mode": {
    "name": "ipython",
    "version": 3
   },
   "file_extension": ".py",
   "mimetype": "text/x-python",
   "name": "python",
   "nbconvert_exporter": "python",
   "pygments_lexer": "ipython3",
   "version": "3.9.18"
  },
  "papermill": {
   "default_parameters": {},
   "duration": 166.311719,
   "end_time": "2024-04-30T10:12:09.870839",
   "environment_variables": {},
   "exception": null,
   "input_path": "./T_NK_Proliferative/02_integration_scVI.ipynb",
   "output_path": "./T_NK_Proliferative/02_integration_scVI_executed.ipynb",
   "parameters": {},
   "start_time": "2024-04-30T10:09:23.559120",
   "version": "2.5.0"
  }
 },
 "nbformat": 4,
 "nbformat_minor": 5
}