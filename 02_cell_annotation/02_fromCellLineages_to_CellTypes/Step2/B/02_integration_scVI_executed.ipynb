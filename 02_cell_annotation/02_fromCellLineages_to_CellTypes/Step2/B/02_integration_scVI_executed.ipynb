{
 "cells": [
  {
   "cell_type": "code",
   "execution_count": 1,
   "id": "2dd1425a-0c07-465e-b522-9e3cc5cb93a7",
   "metadata": {
    "execution": {
     "iopub.execute_input": "2024-04-30T08:36:17.448142Z",
     "iopub.status.busy": "2024-04-30T08:36:17.447395Z",
     "iopub.status.idle": "2024-04-30T08:36:26.028127Z",
     "shell.execute_reply": "2024-04-30T08:36:26.027173Z"
    },
    "papermill": {
     "duration": 8.58819,
     "end_time": "2024-04-30T08:36:26.030205",
     "exception": false,
     "start_time": "2024-04-30T08:36:17.442015",
     "status": "completed"
    },
    "tags": []
   },
   "outputs": [
    {
     "data": {
      "text/plain": [
       "True"
      ]
     },
     "execution_count": 1,
     "metadata": {},
     "output_type": "execute_result"
    }
   ],
   "source": [
    "import os\n",
    "import sys\n",
    "\n",
    "import numpy as np\n",
    "import matplotlib.pyplot as plt\n",
    "\n",
    "import scanpy as sc\n",
    "import scvi\n",
    "import torch\n",
    "\n",
    "from pytorch_lightning.loggers import WandbLogger\n",
    "import wandb\n",
    "from dotenv import load_dotenv\n",
    "\n",
    "import session_info\n",
    "import warnings\n",
    "from pyprojroot.here import here\n",
    "\n",
    "warnings.filterwarnings(\"ignore\")\n",
    "sys.path.insert(1, str(here('bin')))\n",
    "\n",
    "torch.set_float32_matmul_precision('high')\n",
    "\n",
    "#plt.style.use(['science','nature','no-latex'])\n",
    "dpi_fig_save = 300\n",
    "sc.set_figure_params(dpi=100, dpi_save=dpi_fig_save, vector_friendly=True)\n",
    "\n",
    "load_dotenv(here('.env'))"
   ]
  },
  {
   "cell_type": "code",
   "execution_count": 2,
   "id": "09c897fc-744b-43de-a681-718fb5d327fa",
   "metadata": {
    "execution": {
     "iopub.execute_input": "2024-04-30T08:36:26.041922Z",
     "iopub.status.busy": "2024-04-30T08:36:26.041370Z",
     "iopub.status.idle": "2024-04-30T08:36:26.045353Z",
     "shell.execute_reply": "2024-04-30T08:36:26.044764Z"
    },
    "papermill": {
     "duration": 0.010593,
     "end_time": "2024-04-30T08:36:26.046909",
     "exception": false,
     "start_time": "2024-04-30T08:36:26.036316",
     "status": "completed"
    },
    "tags": []
   },
   "outputs": [],
   "source": [
    "class CustomWandbLogger(WandbLogger):\n",
    "    @property\n",
    "    def save_dir(self):\n",
    "        return self.experiment.dir"
   ]
  },
  {
   "cell_type": "code",
   "execution_count": 3,
   "id": "8ee6662f-5d45-4137-80a5-bb0b9ae8d71f",
   "metadata": {
    "execution": {
     "iopub.execute_input": "2024-04-30T08:36:26.055510Z",
     "iopub.status.busy": "2024-04-30T08:36:26.055043Z",
     "iopub.status.idle": "2024-04-30T08:36:26.062072Z",
     "shell.execute_reply": "2024-04-30T08:36:26.061454Z"
    },
    "papermill": {
     "duration": 0.013395,
     "end_time": "2024-04-30T08:36:26.063625",
     "exception": false,
     "start_time": "2024-04-30T08:36:26.050230",
     "status": "completed"
    },
    "tags": []
   },
   "outputs": [
    {
     "name": "stderr",
     "output_type": "stream",
     "text": [
      "Seed set to 0\n"
     ]
    },
    {
     "name": "stdout",
     "output_type": "stream",
     "text": [
      "Last run with scvi-tools version: 1.1.2\n"
     ]
    }
   ],
   "source": [
    "scvi.settings.seed = 0\n",
    "print(\"Last run with scvi-tools version:\", scvi.__version__)"
   ]
  },
  {
   "cell_type": "markdown",
   "id": "a81037ff-5998-482a-ba86-520f757311a9",
   "metadata": {
    "papermill": {
     "duration": 0.003575,
     "end_time": "2024-04-30T08:36:26.070571",
     "exception": false,
     "start_time": "2024-04-30T08:36:26.066996",
     "status": "completed"
    },
    "tags": []
   },
   "source": [
    "**Setting parameters** "
   ]
  },
  {
   "cell_type": "code",
   "execution_count": 4,
   "id": "56c27966-8f10-4c93-8b1a-1fa75f005e41",
   "metadata": {
    "execution": {
     "iopub.execute_input": "2024-04-30T08:36:26.079114Z",
     "iopub.status.busy": "2024-04-30T08:36:26.078650Z",
     "iopub.status.idle": "2024-04-30T08:36:26.081807Z",
     "shell.execute_reply": "2024-04-30T08:36:26.081246Z"
    },
    "papermill": {
     "duration": 0.009177,
     "end_time": "2024-04-30T08:36:26.083294",
     "exception": false,
     "start_time": "2024-04-30T08:36:26.074117",
     "status": "completed"
    },
    "tags": []
   },
   "outputs": [],
   "source": [
    "overwriteFigures = True\n",
    "overwriteData = True"
   ]
  },
  {
   "cell_type": "code",
   "execution_count": 5,
   "id": "c86fccd3-a4fe-415b-8f4e-e2ceb3ec128a",
   "metadata": {
    "execution": {
     "iopub.execute_input": "2024-04-30T08:36:26.092270Z",
     "iopub.status.busy": "2024-04-30T08:36:26.091621Z",
     "iopub.status.idle": "2024-04-30T08:36:26.095036Z",
     "shell.execute_reply": "2024-04-30T08:36:26.094406Z"
    },
    "papermill": {
     "duration": 0.009831,
     "end_time": "2024-04-30T08:36:26.096694",
     "exception": false,
     "start_time": "2024-04-30T08:36:26.086863",
     "status": "completed"
    },
    "tags": []
   },
   "outputs": [],
   "source": [
    "cellGroup = 'B'\n",
    "workDir = os.getcwd()"
   ]
  },
  {
   "cell_type": "code",
   "execution_count": 6,
   "id": "2dee4d55-d168-467b-b867-a61fed9d6af1",
   "metadata": {
    "execution": {
     "iopub.execute_input": "2024-04-30T08:36:26.105549Z",
     "iopub.status.busy": "2024-04-30T08:36:26.105097Z",
     "iopub.status.idle": "2024-04-30T08:36:26.108618Z",
     "shell.execute_reply": "2024-04-30T08:36:26.108020Z"
    },
    "papermill": {
     "duration": 0.009845,
     "end_time": "2024-04-30T08:36:26.110109",
     "exception": false,
     "start_time": "2024-04-30T08:36:26.100264",
     "status": "completed"
    },
    "tags": []
   },
   "outputs": [],
   "source": [
    "annotationLevel = os.path.basename(os.path.normpath(workDir))"
   ]
  },
  {
   "cell_type": "code",
   "execution_count": 7,
   "id": "11e53cd5-b746-4152-89cb-c2f0c15d90b3",
   "metadata": {
    "execution": {
     "iopub.execute_input": "2024-04-30T08:36:26.118863Z",
     "iopub.status.busy": "2024-04-30T08:36:26.118389Z",
     "iopub.status.idle": "2024-04-30T08:36:26.123080Z",
     "shell.execute_reply": "2024-04-30T08:36:26.122397Z"
    },
    "papermill": {
     "duration": 0.010765,
     "end_time": "2024-04-30T08:36:26.124560",
     "exception": false,
     "start_time": "2024-04-30T08:36:26.113795",
     "status": "completed"
    },
    "tags": []
   },
   "outputs": [
    {
     "data": {
      "text/plain": [
       "'/home/jupyter/Inflammation-PBMCs-Atlas/02_cell_annotation/02_fromCellLineages_to_CellTypes/Step2'"
      ]
     },
     "execution_count": 7,
     "metadata": {},
     "output_type": "execute_result"
    }
   ],
   "source": [
    "workDir"
   ]
  },
  {
   "cell_type": "markdown",
   "id": "171d2f06-9a44-4fcb-b437-35dc546674b6",
   "metadata": {
    "papermill": {
     "duration": 0.003798,
     "end_time": "2024-04-30T08:36:26.131987",
     "exception": false,
     "start_time": "2024-04-30T08:36:26.128189",
     "status": "completed"
    },
    "tags": []
   },
   "source": [
    "**Load data**"
   ]
  },
  {
   "cell_type": "code",
   "execution_count": 8,
   "id": "429f34fe-dde6-4cc9-9f75-7de8f85c5ffe",
   "metadata": {
    "execution": {
     "iopub.execute_input": "2024-04-30T08:36:26.140758Z",
     "iopub.status.busy": "2024-04-30T08:36:26.140301Z",
     "iopub.status.idle": "2024-04-30T08:36:32.442397Z",
     "shell.execute_reply": "2024-04-30T08:36:32.441697Z"
    },
    "papermill": {
     "duration": 6.308482,
     "end_time": "2024-04-30T08:36:32.444270",
     "exception": false,
     "start_time": "2024-04-30T08:36:26.135788",
     "status": "completed"
    },
    "tags": []
   },
   "outputs": [
    {
     "data": {
      "text/plain": [
       "AnnData object with n_obs × n_vars = 358113 × 2663\n",
       "    obs: 'studyID', 'libraryID', 'sampleID', 'chemistry', 'technology', 'patientID', 'disease', 'timepoint_replicate', 'treatmentStatus', 'therapyResponse', 'sex', 'age', 'BMI', 'binned_age', 'diseaseStatus', 'smokingStatus', 'ethnicity', 'institute', 'diseaseGroup', 'n_genes_by_counts', 'log1p_n_genes_by_counts', 'total_counts', 'log1p_total_counts', 'pct_counts_in_top_20_genes', 'total_counts_mt', 'log1p_total_counts_mt', 'pct_counts_mt', 'total_counts_ribo', 'log1p_total_counts_ribo', 'pct_counts_ribo', 'total_counts_hb', 'log1p_total_counts_hb', 'pct_counts_hb', 'total_counts_plt', 'log1p_total_counts_plt', 'pct_counts_plt', 'doublet_score', 'predicted_doublet', 'S_score', 'G2M_score', 'phase'\n",
       "    var: 'hgnc_id', 'symbol', 'locus_group', 'HUGO_status', 'mt', 'ribo', 'hb', 'plt', 'n_cells_by_counts', 'mean_counts', 'log1p_mean_counts', 'pct_dropout_by_counts', 'total_counts', 'log1p_total_counts', 'highly_variable'\n",
       "    uns: 'chemistry_colors', 'log1p'\n",
       "    layers: 'counts', 'log1p_10e4_counts'"
      ]
     },
     "execution_count": 8,
     "metadata": {},
     "output_type": "execute_result"
    }
   ],
   "source": [
    "adata = sc.read_h5ad(here(f\"{workDir}/{cellGroup}/results/01_{cellGroup}_normalized_HVGsubset.h5ad\"))\n",
    "adata"
   ]
  },
  {
   "cell_type": "markdown",
   "id": "8ac79f3b-d5af-41fa-8904-1e9ac1cbe2fb",
   "metadata": {
    "papermill": {
     "duration": 0.00394,
     "end_time": "2024-04-30T08:36:32.452365",
     "exception": false,
     "start_time": "2024-04-30T08:36:32.448425",
     "status": "completed"
    },
    "tags": []
   },
   "source": [
    "## scVI integration"
   ]
  },
  {
   "cell_type": "markdown",
   "id": "9544847d-d17f-4811-b14b-760446d54d32",
   "metadata": {
    "execution": {
     "iopub.execute_input": "2024-03-25T16:49:04.004504Z",
     "iopub.status.busy": "2024-03-25T16:49:04.004143Z",
     "iopub.status.idle": "2024-03-25T16:49:04.010148Z",
     "shell.execute_reply": "2024-03-25T16:49:04.009146Z",
     "shell.execute_reply.started": "2024-03-25T16:49:04.004477Z"
    },
    "papermill": {
     "duration": 0.00388,
     "end_time": "2024-04-30T08:36:32.460205",
     "exception": false,
     "start_time": "2024-04-30T08:36:32.456325",
     "status": "completed"
    },
    "tags": []
   },
   "source": [
    "**scVI parameters**"
   ]
  },
  {
   "cell_type": "code",
   "execution_count": 9,
   "id": "208966eb-545a-4c02-854c-0ed0487ef5b3",
   "metadata": {
    "execution": {
     "iopub.execute_input": "2024-04-30T08:36:32.469796Z",
     "iopub.status.busy": "2024-04-30T08:36:32.469210Z",
     "iopub.status.idle": "2024-04-30T08:36:32.474782Z",
     "shell.execute_reply": "2024-04-30T08:36:32.474135Z"
    },
    "papermill": {
     "duration": 0.012007,
     "end_time": "2024-04-30T08:36:32.476231",
     "exception": false,
     "start_time": "2024-04-30T08:36:32.464224",
     "status": "completed"
    },
    "tags": []
   },
   "outputs": [],
   "source": [
    "# https://docs.scvi-tools.org/en/stable/api/reference/scvi.train.Trainer.html#scvi.train.Trainer\n",
    "setup_kwargs = dict(\n",
    "    layer=\"counts\", \n",
    "    batch_key='libraryID', \n",
    "    categorical_covariate_keys = ['studyID', 'chemistry', 'disease', 'sampleID'],\n",
    "    labels_key = 'chemistry'    \n",
    ")\n",
    "\n",
    "scvi_kwargs = dict(n_hidden=512,\n",
    "                   n_latent=20, # reduceds after step 00 (main)\n",
    "                   n_layers=2,\n",
    "                   gene_likelihood='nb',\n",
    "                   dispersion='gene-label')\n",
    "\n",
    "trainer_kwargs = dict(\n",
    "    checkpointing_monitor = 'elbo_validation',\n",
    "    early_stopping_monitor = 'reconstruction_loss_validation',\n",
    "    early_stopping_patience = 10,\n",
    "    early_stopping_min_delta=0.1,\n",
    "    early_stopping = True,\n",
    "    max_epochs = 1000,\n",
    "\n",
    "    #logger = # wandb\n",
    ")\n",
    "# https://docs.scvi-tools.org/en/stable/api/reference/scvi.train.TrainingPlan.html#scvi.train.TrainingPlan\n",
    "plan_kwargs = dict(\n",
    "    lr = 5e-4,\n",
    "    #reduce_lr_on_plateau = True\n",
    ")\n",
    "\n",
    "# https://docs.scvi-tools.org/en/stable/api/reference/scvi.module.VAE.html#scvi.module.VAE\n",
    "#vae = dict(\n",
    "#    use_layer_norm='both',\n",
    "#    use_batch_norm='none',\n",
    "#    encode_covariates=True,\n",
    "#    deeply_inject_covariates=False\n",
    "#)\n",
    "parameter_dict = setup_kwargs | scvi_kwargs | trainer_kwargs | plan_kwargs"
   ]
  },
  {
   "cell_type": "markdown",
   "id": "1362366a-c16b-4c11-964b-b9c5f82f7b29",
   "metadata": {
    "papermill": {
     "duration": 0.003965,
     "end_time": "2024-04-30T08:36:32.483976",
     "exception": false,
     "start_time": "2024-04-30T08:36:32.480011",
     "status": "completed"
    },
    "tags": []
   },
   "source": [
    "**wandb parameter**"
   ]
  },
  {
   "cell_type": "code",
   "execution_count": 10,
   "id": "0496e33a-8ca5-423f-b42f-34a59760708c",
   "metadata": {
    "execution": {
     "iopub.execute_input": "2024-04-30T08:36:32.493486Z",
     "iopub.status.busy": "2024-04-30T08:36:32.492863Z",
     "iopub.status.idle": "2024-04-30T08:36:32.497262Z",
     "shell.execute_reply": "2024-04-30T08:36:32.496707Z"
    },
    "papermill": {
     "duration": 0.010728,
     "end_time": "2024-04-30T08:36:32.498788",
     "exception": false,
     "start_time": "2024-04-30T08:36:32.488060",
     "status": "completed"
    },
    "tags": []
   },
   "outputs": [
    {
     "data": {
      "text/plain": [
       "'Step2_B'"
      ]
     },
     "execution_count": 10,
     "metadata": {},
     "output_type": "execute_result"
    }
   ],
   "source": [
    "run_name = f\"{annotationLevel}_{cellGroup}\"\n",
    "run_name"
   ]
  },
  {
   "cell_type": "code",
   "execution_count": 11,
   "id": "b0021327-95a2-4002-bf32-2c5779a99505",
   "metadata": {
    "execution": {
     "iopub.execute_input": "2024-04-30T08:36:32.508441Z",
     "iopub.status.busy": "2024-04-30T08:36:32.507821Z",
     "iopub.status.idle": "2024-04-30T08:36:32.637922Z",
     "shell.execute_reply": "2024-04-30T08:36:32.637293Z"
    },
    "papermill": {
     "duration": 0.13705,
     "end_time": "2024-04-30T08:36:32.639940",
     "exception": false,
     "start_time": "2024-04-30T08:36:32.502890",
     "status": "completed"
    },
    "tags": []
   },
   "outputs": [],
   "source": [
    "logger = CustomWandbLogger(name = run_name, project='inflammation_atlas_R1', config=parameter_dict)"
   ]
  },
  {
   "cell_type": "markdown",
   "id": "c237eee1-a976-4915-9b7f-b014bf33f47d",
   "metadata": {
    "papermill": {
     "duration": 0.004038,
     "end_time": "2024-04-30T08:36:32.648512",
     "exception": false,
     "start_time": "2024-04-30T08:36:32.644474",
     "status": "completed"
    },
    "tags": []
   },
   "source": [
    "**Running integration**"
   ]
  },
  {
   "cell_type": "code",
   "execution_count": 12,
   "id": "aff97c53-1aba-462e-8a77-f1aec9cf724c",
   "metadata": {
    "execution": {
     "iopub.execute_input": "2024-04-30T08:36:32.658407Z",
     "iopub.status.busy": "2024-04-30T08:36:32.657852Z",
     "iopub.status.idle": "2024-04-30T08:36:33.156359Z",
     "shell.execute_reply": "2024-04-30T08:36:33.155631Z"
    },
    "papermill": {
     "duration": 0.505776,
     "end_time": "2024-04-30T08:36:33.158473",
     "exception": false,
     "start_time": "2024-04-30T08:36:32.652697",
     "status": "completed"
    },
    "tags": []
   },
   "outputs": [],
   "source": [
    "scvi.model.SCVI.setup_anndata(adata, \n",
    "                              **setup_kwargs)"
   ]
  },
  {
   "cell_type": "code",
   "execution_count": 13,
   "id": "1a56f448-cf44-47c1-81a4-a89caa930fec",
   "metadata": {
    "execution": {
     "iopub.execute_input": "2024-04-30T08:36:33.169168Z",
     "iopub.status.busy": "2024-04-30T08:36:33.168391Z",
     "iopub.status.idle": "2024-04-30T08:36:33.671543Z",
     "shell.execute_reply": "2024-04-30T08:36:33.670821Z"
    },
    "papermill": {
     "duration": 0.510684,
     "end_time": "2024-04-30T08:36:33.673713",
     "exception": false,
     "start_time": "2024-04-30T08:36:33.163029",
     "status": "completed"
    },
    "tags": []
   },
   "outputs": [],
   "source": [
    "model = scvi.model.SCVI(adata, **scvi_kwargs)"
   ]
  },
  {
   "cell_type": "code",
   "execution_count": 14,
   "id": "2735f010-4f24-4ae8-9740-a8cfeb335e9a",
   "metadata": {
    "execution": {
     "iopub.execute_input": "2024-04-30T08:36:33.687391Z",
     "iopub.status.busy": "2024-04-30T08:36:33.686670Z",
     "iopub.status.idle": "2024-04-30T08:56:23.055731Z",
     "shell.execute_reply": "2024-04-30T08:56:23.055047Z"
    },
    "papermill": {
     "duration": 1189.376435,
     "end_time": "2024-04-30T08:56:23.057467",
     "exception": false,
     "start_time": "2024-04-30T08:36:33.681032",
     "status": "completed"
    },
    "tags": []
   },
   "outputs": [
    {
     "name": "stderr",
     "output_type": "stream",
     "text": [
      "GPU available: True (cuda), used: True\n"
     ]
    },
    {
     "name": "stderr",
     "output_type": "stream",
     "text": [
      "TPU available: False, using: 0 TPU cores\n"
     ]
    },
    {
     "name": "stderr",
     "output_type": "stream",
     "text": [
      "IPU available: False, using: 0 IPUs\n"
     ]
    },
    {
     "name": "stderr",
     "output_type": "stream",
     "text": [
      "HPU available: False, using: 0 HPUs\n"
     ]
    },
    {
     "name": "stderr",
     "output_type": "stream",
     "text": [
      "\u001b[34m\u001b[1mwandb\u001b[0m: Currently logged in as: \u001b[33mdav1989\u001b[0m (\u001b[33minflammation\u001b[0m). Use \u001b[1m`wandb login --relogin`\u001b[0m to force relogin\n"
     ]
    },
    {
     "name": "stderr",
     "output_type": "stream",
     "text": [
      "\u001b[34m\u001b[1mwandb\u001b[0m: wandb version 0.16.6 is available!  To upgrade, please run:\n",
      "\u001b[34m\u001b[1mwandb\u001b[0m:  $ pip install wandb --upgrade\n"
     ]
    },
    {
     "name": "stderr",
     "output_type": "stream",
     "text": [
      "\u001b[34m\u001b[1mwandb\u001b[0m: Tracking run with wandb version 0.16.3\n"
     ]
    },
    {
     "name": "stderr",
     "output_type": "stream",
     "text": [
      "\u001b[34m\u001b[1mwandb\u001b[0m: Run data is saved locally in \u001b[35m\u001b[1m./wandb/run-20240430_083638-99lilgtk\u001b[0m\n",
      "\u001b[34m\u001b[1mwandb\u001b[0m: Run \u001b[1m`wandb offline`\u001b[0m to turn off syncing.\n"
     ]
    },
    {
     "name": "stderr",
     "output_type": "stream",
     "text": [
      "\u001b[34m\u001b[1mwandb\u001b[0m: Syncing run \u001b[33mStep2_B\u001b[0m\n"
     ]
    },
    {
     "name": "stderr",
     "output_type": "stream",
     "text": [
      "\u001b[34m\u001b[1mwandb\u001b[0m: ⭐️ View project at \u001b[34m\u001b[4mhttps://wandb.ai/inflammation/inflammation_atlas_R1\u001b[0m\n"
     ]
    },
    {
     "name": "stderr",
     "output_type": "stream",
     "text": [
      "\u001b[34m\u001b[1mwandb\u001b[0m: 🚀 View run at \u001b[34m\u001b[4mhttps://wandb.ai/inflammation/inflammation_atlas_R1/runs/99lilgtk\u001b[0m\n"
     ]
    },
    {
     "name": "stderr",
     "output_type": "stream",
     "text": [
      "LOCAL_RANK: 0 - CUDA_VISIBLE_DEVICES: [0]\n"
     ]
    },
    {
     "name": "stdout",
     "output_type": "stream",
     "text": [
      "\r",
      "Training:   0%|          | 0/1000 [00:00<?, ?it/s]"
     ]
    },
    {
     "name": "stdout",
     "output_type": "stream",
     "text": [
      "\r",
      "Epoch 1/1000:   0%|          | 0/1000 [00:00<?, ?it/s]"
     ]
    },
    {
     "name": "stdout",
     "output_type": "stream",
     "text": [
      "\r",
      "Epoch 1/1000:   0%|          | 1/1000 [00:35<9:52:08, 35.56s/it]"
     ]
    },
    {
     "name": "stdout",
     "output_type": "stream",
     "text": [
      "\r",
      "Epoch 1/1000:   0%|          | 1/1000 [00:35<9:52:08, 35.56s/it, v_num=lgtk, train_loss_step=605, train_loss_epoch=586]"
     ]
    },
    {
     "name": "stdout",
     "output_type": "stream",
     "text": [
      "\r",
      "Epoch 2/1000:   0%|          | 1/1000 [00:35<9:52:08, 35.56s/it, v_num=lgtk, train_loss_step=605, train_loss_epoch=586]"
     ]
    },
    {
     "name": "stdout",
     "output_type": "stream",
     "text": [
      "\r",
      "Epoch 2/1000:   0%|          | 2/1000 [01:09<9:34:16, 34.53s/it, v_num=lgtk, train_loss_step=605, train_loss_epoch=586]"
     ]
    },
    {
     "name": "stdout",
     "output_type": "stream",
     "text": [
      "\r",
      "Epoch 2/1000:   0%|          | 2/1000 [01:09<9:34:16, 34.53s/it, v_num=lgtk, train_loss_step=549, train_loss_epoch=570]"
     ]
    },
    {
     "name": "stdout",
     "output_type": "stream",
     "text": [
      "\r",
      "Epoch 3/1000:   0%|          | 2/1000 [01:09<9:34:16, 34.53s/it, v_num=lgtk, train_loss_step=549, train_loss_epoch=570]"
     ]
    },
    {
     "name": "stdout",
     "output_type": "stream",
     "text": [
      "\r",
      "Epoch 3/1000:   0%|          | 3/1000 [01:42<9:26:41, 34.10s/it, v_num=lgtk, train_loss_step=549, train_loss_epoch=570]"
     ]
    },
    {
     "name": "stdout",
     "output_type": "stream",
     "text": [
      "\r",
      "Epoch 3/1000:   0%|          | 3/1000 [01:42<9:26:41, 34.10s/it, v_num=lgtk, train_loss_step=542, train_loss_epoch=566]"
     ]
    },
    {
     "name": "stdout",
     "output_type": "stream",
     "text": [
      "\r",
      "Epoch 4/1000:   0%|          | 3/1000 [01:42<9:26:41, 34.10s/it, v_num=lgtk, train_loss_step=542, train_loss_epoch=566]"
     ]
    },
    {
     "name": "stdout",
     "output_type": "stream",
     "text": [
      "\r",
      "Epoch 4/1000:   0%|          | 4/1000 [02:16<9:23:18, 33.93s/it, v_num=lgtk, train_loss_step=542, train_loss_epoch=566]"
     ]
    },
    {
     "name": "stdout",
     "output_type": "stream",
     "text": [
      "\r",
      "Epoch 4/1000:   0%|          | 4/1000 [02:16<9:23:18, 33.93s/it, v_num=lgtk, train_loss_step=547, train_loss_epoch=563]"
     ]
    },
    {
     "name": "stdout",
     "output_type": "stream",
     "text": [
      "\r",
      "Epoch 5/1000:   0%|          | 4/1000 [02:16<9:23:18, 33.93s/it, v_num=lgtk, train_loss_step=547, train_loss_epoch=563]"
     ]
    },
    {
     "name": "stdout",
     "output_type": "stream",
     "text": [
      "\r",
      "Epoch 5/1000:   0%|          | 5/1000 [02:50<9:24:46, 34.06s/it, v_num=lgtk, train_loss_step=547, train_loss_epoch=563]"
     ]
    },
    {
     "name": "stdout",
     "output_type": "stream",
     "text": [
      "\r",
      "Epoch 5/1000:   0%|          | 5/1000 [02:50<9:24:46, 34.06s/it, v_num=lgtk, train_loss_step=532, train_loss_epoch=562]"
     ]
    },
    {
     "name": "stdout",
     "output_type": "stream",
     "text": [
      "\r",
      "Epoch 6/1000:   0%|          | 5/1000 [02:50<9:24:46, 34.06s/it, v_num=lgtk, train_loss_step=532, train_loss_epoch=562]"
     ]
    },
    {
     "name": "stdout",
     "output_type": "stream",
     "text": [
      "\r",
      "Epoch 6/1000:   1%|          | 6/1000 [03:22<9:08:52, 33.13s/it, v_num=lgtk, train_loss_step=532, train_loss_epoch=562]"
     ]
    },
    {
     "name": "stdout",
     "output_type": "stream",
     "text": [
      "\r",
      "Epoch 6/1000:   1%|          | 6/1000 [03:22<9:08:52, 33.13s/it, v_num=lgtk, train_loss_step=531, train_loss_epoch=561]"
     ]
    },
    {
     "name": "stdout",
     "output_type": "stream",
     "text": [
      "\r",
      "Epoch 7/1000:   1%|          | 6/1000 [03:22<9:08:52, 33.13s/it, v_num=lgtk, train_loss_step=531, train_loss_epoch=561]"
     ]
    },
    {
     "name": "stdout",
     "output_type": "stream",
     "text": [
      "\r",
      "Epoch 7/1000:   1%|          | 7/1000 [03:53<8:58:39, 32.55s/it, v_num=lgtk, train_loss_step=531, train_loss_epoch=561]"
     ]
    },
    {
     "name": "stdout",
     "output_type": "stream",
     "text": [
      "\r",
      "Epoch 7/1000:   1%|          | 7/1000 [03:53<8:58:39, 32.55s/it, v_num=lgtk, train_loss_step=569, train_loss_epoch=560]"
     ]
    },
    {
     "name": "stdout",
     "output_type": "stream",
     "text": [
      "\r",
      "Epoch 8/1000:   1%|          | 7/1000 [03:53<8:58:39, 32.55s/it, v_num=lgtk, train_loss_step=569, train_loss_epoch=560]"
     ]
    },
    {
     "name": "stdout",
     "output_type": "stream",
     "text": [
      "\r",
      "Epoch 8/1000:   1%|          | 8/1000 [04:27<9:03:02, 32.85s/it, v_num=lgtk, train_loss_step=569, train_loss_epoch=560]"
     ]
    },
    {
     "name": "stdout",
     "output_type": "stream",
     "text": [
      "\r",
      "Epoch 8/1000:   1%|          | 8/1000 [04:27<9:03:02, 32.85s/it, v_num=lgtk, train_loss_step=585, train_loss_epoch=559]"
     ]
    },
    {
     "name": "stdout",
     "output_type": "stream",
     "text": [
      "\r",
      "Epoch 9/1000:   1%|          | 8/1000 [04:27<9:03:02, 32.85s/it, v_num=lgtk, train_loss_step=585, train_loss_epoch=559]"
     ]
    },
    {
     "name": "stdout",
     "output_type": "stream",
     "text": [
      "\r",
      "Epoch 9/1000:   1%|          | 9/1000 [05:00<9:05:58, 33.06s/it, v_num=lgtk, train_loss_step=585, train_loss_epoch=559]"
     ]
    },
    {
     "name": "stdout",
     "output_type": "stream",
     "text": [
      "\r",
      "Epoch 9/1000:   1%|          | 9/1000 [05:00<9:05:58, 33.06s/it, v_num=lgtk, train_loss_step=512, train_loss_epoch=559]"
     ]
    },
    {
     "name": "stdout",
     "output_type": "stream",
     "text": [
      "\r",
      "Epoch 10/1000:   1%|          | 9/1000 [05:00<9:05:58, 33.06s/it, v_num=lgtk, train_loss_step=512, train_loss_epoch=559]"
     ]
    },
    {
     "name": "stdout",
     "output_type": "stream",
     "text": [
      "\r",
      "Epoch 10/1000:   1%|          | 10/1000 [05:34<9:08:50, 33.26s/it, v_num=lgtk, train_loss_step=512, train_loss_epoch=559]"
     ]
    },
    {
     "name": "stdout",
     "output_type": "stream",
     "text": [
      "\r",
      "Epoch 10/1000:   1%|          | 10/1000 [05:34<9:08:50, 33.26s/it, v_num=lgtk, train_loss_step=569, train_loss_epoch=559]"
     ]
    },
    {
     "name": "stdout",
     "output_type": "stream",
     "text": [
      "\r",
      "Epoch 11/1000:   1%|          | 10/1000 [05:34<9:08:50, 33.26s/it, v_num=lgtk, train_loss_step=569, train_loss_epoch=559]"
     ]
    },
    {
     "name": "stdout",
     "output_type": "stream",
     "text": [
      "\r",
      "Epoch 11/1000:   1%|          | 11/1000 [06:08<9:12:37, 33.53s/it, v_num=lgtk, train_loss_step=569, train_loss_epoch=559]"
     ]
    },
    {
     "name": "stdout",
     "output_type": "stream",
     "text": [
      "\r",
      "Epoch 11/1000:   1%|          | 11/1000 [06:08<9:12:37, 33.53s/it, v_num=lgtk, train_loss_step=521, train_loss_epoch=558]"
     ]
    },
    {
     "name": "stdout",
     "output_type": "stream",
     "text": [
      "\r",
      "Epoch 12/1000:   1%|          | 11/1000 [06:08<9:12:37, 33.53s/it, v_num=lgtk, train_loss_step=521, train_loss_epoch=558]"
     ]
    },
    {
     "name": "stdout",
     "output_type": "stream",
     "text": [
      "\r",
      "Epoch 12/1000:   1%|          | 12/1000 [06:41<9:11:50, 33.51s/it, v_num=lgtk, train_loss_step=521, train_loss_epoch=558]"
     ]
    },
    {
     "name": "stdout",
     "output_type": "stream",
     "text": [
      "\r",
      "Epoch 12/1000:   1%|          | 12/1000 [06:41<9:11:50, 33.51s/it, v_num=lgtk, train_loss_step=567, train_loss_epoch=558]"
     ]
    },
    {
     "name": "stdout",
     "output_type": "stream",
     "text": [
      "\r",
      "Epoch 13/1000:   1%|          | 12/1000 [06:41<9:11:50, 33.51s/it, v_num=lgtk, train_loss_step=567, train_loss_epoch=558]"
     ]
    },
    {
     "name": "stdout",
     "output_type": "stream",
     "text": [
      "\r",
      "Epoch 13/1000:   1%|▏         | 13/1000 [07:15<9:10:31, 33.47s/it, v_num=lgtk, train_loss_step=567, train_loss_epoch=558]"
     ]
    },
    {
     "name": "stdout",
     "output_type": "stream",
     "text": [
      "\r",
      "Epoch 13/1000:   1%|▏         | 13/1000 [07:15<9:10:31, 33.47s/it, v_num=lgtk, train_loss_step=539, train_loss_epoch=558]"
     ]
    },
    {
     "name": "stdout",
     "output_type": "stream",
     "text": [
      "\r",
      "Epoch 14/1000:   1%|▏         | 13/1000 [07:15<9:10:31, 33.47s/it, v_num=lgtk, train_loss_step=539, train_loss_epoch=558]"
     ]
    },
    {
     "name": "stdout",
     "output_type": "stream",
     "text": [
      "\r",
      "Epoch 14/1000:   1%|▏         | 14/1000 [07:48<9:09:04, 33.41s/it, v_num=lgtk, train_loss_step=539, train_loss_epoch=558]"
     ]
    },
    {
     "name": "stdout",
     "output_type": "stream",
     "text": [
      "\r",
      "Epoch 14/1000:   1%|▏         | 14/1000 [07:48<9:09:04, 33.41s/it, v_num=lgtk, train_loss_step=529, train_loss_epoch=558]"
     ]
    },
    {
     "name": "stdout",
     "output_type": "stream",
     "text": [
      "\r",
      "Epoch 15/1000:   1%|▏         | 14/1000 [07:48<9:09:04, 33.41s/it, v_num=lgtk, train_loss_step=529, train_loss_epoch=558]"
     ]
    },
    {
     "name": "stdout",
     "output_type": "stream",
     "text": [
      "\r",
      "Epoch 15/1000:   2%|▏         | 15/1000 [08:22<9:11:40, 33.60s/it, v_num=lgtk, train_loss_step=529, train_loss_epoch=558]"
     ]
    },
    {
     "name": "stdout",
     "output_type": "stream",
     "text": [
      "\r",
      "Epoch 15/1000:   2%|▏         | 15/1000 [08:22<9:11:40, 33.60s/it, v_num=lgtk, train_loss_step=553, train_loss_epoch=558]"
     ]
    },
    {
     "name": "stdout",
     "output_type": "stream",
     "text": [
      "\r",
      "Epoch 16/1000:   2%|▏         | 15/1000 [08:22<9:11:40, 33.60s/it, v_num=lgtk, train_loss_step=553, train_loss_epoch=558]"
     ]
    },
    {
     "name": "stdout",
     "output_type": "stream",
     "text": [
      "\r",
      "Epoch 16/1000:   2%|▏         | 16/1000 [08:55<9:07:52, 33.41s/it, v_num=lgtk, train_loss_step=553, train_loss_epoch=558]"
     ]
    },
    {
     "name": "stdout",
     "output_type": "stream",
     "text": [
      "\r",
      "Epoch 16/1000:   2%|▏         | 16/1000 [08:55<9:07:52, 33.41s/it, v_num=lgtk, train_loss_step=536, train_loss_epoch=557]"
     ]
    },
    {
     "name": "stdout",
     "output_type": "stream",
     "text": [
      "\r",
      "Epoch 17/1000:   2%|▏         | 16/1000 [08:55<9:07:52, 33.41s/it, v_num=lgtk, train_loss_step=536, train_loss_epoch=557]"
     ]
    },
    {
     "name": "stdout",
     "output_type": "stream",
     "text": [
      "\r",
      "Epoch 17/1000:   2%|▏         | 17/1000 [09:28<9:05:35, 33.30s/it, v_num=lgtk, train_loss_step=536, train_loss_epoch=557]"
     ]
    },
    {
     "name": "stdout",
     "output_type": "stream",
     "text": [
      "\r",
      "Epoch 17/1000:   2%|▏         | 17/1000 [09:28<9:05:35, 33.30s/it, v_num=lgtk, train_loss_step=544, train_loss_epoch=557]"
     ]
    },
    {
     "name": "stdout",
     "output_type": "stream",
     "text": [
      "\r",
      "Epoch 18/1000:   2%|▏         | 17/1000 [09:28<9:05:35, 33.30s/it, v_num=lgtk, train_loss_step=544, train_loss_epoch=557]"
     ]
    },
    {
     "name": "stdout",
     "output_type": "stream",
     "text": [
      "\r",
      "Epoch 18/1000:   2%|▏         | 18/1000 [10:01<9:01:18, 33.07s/it, v_num=lgtk, train_loss_step=544, train_loss_epoch=557]"
     ]
    },
    {
     "name": "stdout",
     "output_type": "stream",
     "text": [
      "\r",
      "Epoch 18/1000:   2%|▏         | 18/1000 [10:01<9:01:18, 33.07s/it, v_num=lgtk, train_loss_step=568, train_loss_epoch=557]"
     ]
    },
    {
     "name": "stdout",
     "output_type": "stream",
     "text": [
      "\r",
      "Epoch 19/1000:   2%|▏         | 18/1000 [10:01<9:01:18, 33.07s/it, v_num=lgtk, train_loss_step=568, train_loss_epoch=557]"
     ]
    },
    {
     "name": "stdout",
     "output_type": "stream",
     "text": [
      "\r",
      "Epoch 19/1000:   2%|▏         | 19/1000 [10:34<8:59:45, 33.01s/it, v_num=lgtk, train_loss_step=568, train_loss_epoch=557]"
     ]
    },
    {
     "name": "stdout",
     "output_type": "stream",
     "text": [
      "\r",
      "Epoch 19/1000:   2%|▏         | 19/1000 [10:34<8:59:45, 33.01s/it, v_num=lgtk, train_loss_step=576, train_loss_epoch=557]"
     ]
    },
    {
     "name": "stdout",
     "output_type": "stream",
     "text": [
      "\r",
      "Epoch 20/1000:   2%|▏         | 19/1000 [10:34<8:59:45, 33.01s/it, v_num=lgtk, train_loss_step=576, train_loss_epoch=557]"
     ]
    },
    {
     "name": "stdout",
     "output_type": "stream",
     "text": [
      "\r",
      "Epoch 20/1000:   2%|▏         | 20/1000 [11:06<8:56:46, 32.86s/it, v_num=lgtk, train_loss_step=576, train_loss_epoch=557]"
     ]
    },
    {
     "name": "stdout",
     "output_type": "stream",
     "text": [
      "\r",
      "Epoch 20/1000:   2%|▏         | 20/1000 [11:06<8:56:46, 32.86s/it, v_num=lgtk, train_loss_step=550, train_loss_epoch=557]"
     ]
    },
    {
     "name": "stdout",
     "output_type": "stream",
     "text": [
      "\r",
      "Epoch 21/1000:   2%|▏         | 20/1000 [11:06<8:56:46, 32.86s/it, v_num=lgtk, train_loss_step=550, train_loss_epoch=557]"
     ]
    },
    {
     "name": "stdout",
     "output_type": "stream",
     "text": [
      "\r",
      "Epoch 21/1000:   2%|▏         | 21/1000 [11:39<8:55:20, 32.81s/it, v_num=lgtk, train_loss_step=550, train_loss_epoch=557]"
     ]
    },
    {
     "name": "stdout",
     "output_type": "stream",
     "text": [
      "\r",
      "Epoch 21/1000:   2%|▏         | 21/1000 [11:39<8:55:20, 32.81s/it, v_num=lgtk, train_loss_step=587, train_loss_epoch=557]"
     ]
    },
    {
     "name": "stdout",
     "output_type": "stream",
     "text": [
      "\r",
      "Epoch 22/1000:   2%|▏         | 21/1000 [11:39<8:55:20, 32.81s/it, v_num=lgtk, train_loss_step=587, train_loss_epoch=557]"
     ]
    },
    {
     "name": "stdout",
     "output_type": "stream",
     "text": [
      "\r",
      "Epoch 22/1000:   2%|▏         | 22/1000 [12:11<8:53:05, 32.70s/it, v_num=lgtk, train_loss_step=587, train_loss_epoch=557]"
     ]
    },
    {
     "name": "stdout",
     "output_type": "stream",
     "text": [
      "\r",
      "Epoch 22/1000:   2%|▏         | 22/1000 [12:11<8:53:05, 32.70s/it, v_num=lgtk, train_loss_step=532, train_loss_epoch=557]"
     ]
    },
    {
     "name": "stdout",
     "output_type": "stream",
     "text": [
      "\r",
      "Epoch 23/1000:   2%|▏         | 22/1000 [12:11<8:53:05, 32.70s/it, v_num=lgtk, train_loss_step=532, train_loss_epoch=557]"
     ]
    },
    {
     "name": "stdout",
     "output_type": "stream",
     "text": [
      "\r",
      "Epoch 23/1000:   2%|▏         | 23/1000 [12:44<8:53:09, 32.74s/it, v_num=lgtk, train_loss_step=532, train_loss_epoch=557]"
     ]
    },
    {
     "name": "stdout",
     "output_type": "stream",
     "text": [
      "\r",
      "Epoch 23/1000:   2%|▏         | 23/1000 [12:44<8:53:09, 32.74s/it, v_num=lgtk, train_loss_step=566, train_loss_epoch=557]"
     ]
    },
    {
     "name": "stdout",
     "output_type": "stream",
     "text": [
      "\r",
      "Epoch 24/1000:   2%|▏         | 23/1000 [12:44<8:53:09, 32.74s/it, v_num=lgtk, train_loss_step=566, train_loss_epoch=557]"
     ]
    },
    {
     "name": "stdout",
     "output_type": "stream",
     "text": [
      "\r",
      "Epoch 24/1000:   2%|▏         | 24/1000 [13:17<8:53:32, 32.80s/it, v_num=lgtk, train_loss_step=566, train_loss_epoch=557]"
     ]
    },
    {
     "name": "stdout",
     "output_type": "stream",
     "text": [
      "\r",
      "Epoch 24/1000:   2%|▏         | 24/1000 [13:17<8:53:32, 32.80s/it, v_num=lgtk, train_loss_step=581, train_loss_epoch=557]"
     ]
    },
    {
     "name": "stdout",
     "output_type": "stream",
     "text": [
      "\r",
      "Epoch 25/1000:   2%|▏         | 24/1000 [13:17<8:53:32, 32.80s/it, v_num=lgtk, train_loss_step=581, train_loss_epoch=557]"
     ]
    },
    {
     "name": "stdout",
     "output_type": "stream",
     "text": [
      "\r",
      "Epoch 25/1000:   2%|▎         | 25/1000 [13:50<8:52:24, 32.76s/it, v_num=lgtk, train_loss_step=581, train_loss_epoch=557]"
     ]
    },
    {
     "name": "stdout",
     "output_type": "stream",
     "text": [
      "\r",
      "Epoch 25/1000:   2%|▎         | 25/1000 [13:50<8:52:24, 32.76s/it, v_num=lgtk, train_loss_step=529, train_loss_epoch=557]"
     ]
    },
    {
     "name": "stdout",
     "output_type": "stream",
     "text": [
      "\r",
      "Epoch 26/1000:   2%|▎         | 25/1000 [13:50<8:52:24, 32.76s/it, v_num=lgtk, train_loss_step=529, train_loss_epoch=557]"
     ]
    },
    {
     "name": "stdout",
     "output_type": "stream",
     "text": [
      "\r",
      "Epoch 26/1000:   3%|▎         | 26/1000 [14:22<8:51:03, 32.71s/it, v_num=lgtk, train_loss_step=529, train_loss_epoch=557]"
     ]
    },
    {
     "name": "stdout",
     "output_type": "stream",
     "text": [
      "\r",
      "Epoch 26/1000:   3%|▎         | 26/1000 [14:22<8:51:03, 32.71s/it, v_num=lgtk, train_loss_step=528, train_loss_epoch=557]"
     ]
    },
    {
     "name": "stdout",
     "output_type": "stream",
     "text": [
      "\r",
      "Epoch 27/1000:   3%|▎         | 26/1000 [14:22<8:51:03, 32.71s/it, v_num=lgtk, train_loss_step=528, train_loss_epoch=557]"
     ]
    },
    {
     "name": "stdout",
     "output_type": "stream",
     "text": [
      "\r",
      "Epoch 27/1000:   3%|▎         | 27/1000 [14:55<8:53:03, 32.87s/it, v_num=lgtk, train_loss_step=528, train_loss_epoch=557]"
     ]
    },
    {
     "name": "stdout",
     "output_type": "stream",
     "text": [
      "\r",
      "Epoch 27/1000:   3%|▎         | 27/1000 [14:55<8:53:03, 32.87s/it, v_num=lgtk, train_loss_step=575, train_loss_epoch=557]"
     ]
    },
    {
     "name": "stdout",
     "output_type": "stream",
     "text": [
      "\r",
      "Epoch 28/1000:   3%|▎         | 27/1000 [14:55<8:53:03, 32.87s/it, v_num=lgtk, train_loss_step=575, train_loss_epoch=557]"
     ]
    },
    {
     "name": "stdout",
     "output_type": "stream",
     "text": [
      "\r",
      "Epoch 28/1000:   3%|▎         | 28/1000 [15:28<8:53:10, 32.91s/it, v_num=lgtk, train_loss_step=575, train_loss_epoch=557]"
     ]
    },
    {
     "name": "stdout",
     "output_type": "stream",
     "text": [
      "\r",
      "Epoch 28/1000:   3%|▎         | 28/1000 [15:28<8:53:10, 32.91s/it, v_num=lgtk, train_loss_step=524, train_loss_epoch=557]"
     ]
    },
    {
     "name": "stdout",
     "output_type": "stream",
     "text": [
      "\r",
      "Epoch 29/1000:   3%|▎         | 28/1000 [15:28<8:53:10, 32.91s/it, v_num=lgtk, train_loss_step=524, train_loss_epoch=557]"
     ]
    },
    {
     "name": "stdout",
     "output_type": "stream",
     "text": [
      "\r",
      "Epoch 29/1000:   3%|▎         | 29/1000 [16:01<8:51:21, 32.83s/it, v_num=lgtk, train_loss_step=524, train_loss_epoch=557]"
     ]
    },
    {
     "name": "stdout",
     "output_type": "stream",
     "text": [
      "\r",
      "Epoch 29/1000:   3%|▎         | 29/1000 [16:01<8:51:21, 32.83s/it, v_num=lgtk, train_loss_step=599, train_loss_epoch=557]"
     ]
    },
    {
     "name": "stdout",
     "output_type": "stream",
     "text": [
      "\r",
      "Epoch 30/1000:   3%|▎         | 29/1000 [16:01<8:51:21, 32.83s/it, v_num=lgtk, train_loss_step=599, train_loss_epoch=557]"
     ]
    },
    {
     "name": "stdout",
     "output_type": "stream",
     "text": [
      "\r",
      "Epoch 30/1000:   3%|▎         | 30/1000 [16:33<8:48:16, 32.68s/it, v_num=lgtk, train_loss_step=599, train_loss_epoch=557]"
     ]
    },
    {
     "name": "stdout",
     "output_type": "stream",
     "text": [
      "\r",
      "Epoch 30/1000:   3%|▎         | 30/1000 [16:33<8:48:16, 32.68s/it, v_num=lgtk, train_loss_step=577, train_loss_epoch=557]"
     ]
    },
    {
     "name": "stdout",
     "output_type": "stream",
     "text": [
      "\r",
      "Epoch 31/1000:   3%|▎         | 30/1000 [16:33<8:48:16, 32.68s/it, v_num=lgtk, train_loss_step=577, train_loss_epoch=557]"
     ]
    },
    {
     "name": "stdout",
     "output_type": "stream",
     "text": [
      "\r",
      "Epoch 31/1000:   3%|▎         | 31/1000 [17:07<8:51:17, 32.90s/it, v_num=lgtk, train_loss_step=577, train_loss_epoch=557]"
     ]
    },
    {
     "name": "stdout",
     "output_type": "stream",
     "text": [
      "\r",
      "Epoch 31/1000:   3%|▎         | 31/1000 [17:07<8:51:17, 32.90s/it, v_num=lgtk, train_loss_step=566, train_loss_epoch=557]"
     ]
    },
    {
     "name": "stdout",
     "output_type": "stream",
     "text": [
      "\r",
      "Epoch 32/1000:   3%|▎         | 31/1000 [17:07<8:51:17, 32.90s/it, v_num=lgtk, train_loss_step=566, train_loss_epoch=557]"
     ]
    },
    {
     "name": "stdout",
     "output_type": "stream",
     "text": [
      "\r",
      "Epoch 32/1000:   3%|▎         | 32/1000 [17:40<8:53:38, 33.08s/it, v_num=lgtk, train_loss_step=566, train_loss_epoch=557]"
     ]
    },
    {
     "name": "stdout",
     "output_type": "stream",
     "text": [
      "\r",
      "Epoch 32/1000:   3%|▎         | 32/1000 [17:40<8:53:38, 33.08s/it, v_num=lgtk, train_loss_step=560, train_loss_epoch=557]"
     ]
    },
    {
     "name": "stdout",
     "output_type": "stream",
     "text": [
      "\r",
      "Epoch 33/1000:   3%|▎         | 32/1000 [17:40<8:53:38, 33.08s/it, v_num=lgtk, train_loss_step=560, train_loss_epoch=557]"
     ]
    },
    {
     "name": "stdout",
     "output_type": "stream",
     "text": [
      "\r",
      "Epoch 33/1000:   3%|▎         | 33/1000 [18:11<8:40:34, 32.30s/it, v_num=lgtk, train_loss_step=560, train_loss_epoch=557]"
     ]
    },
    {
     "name": "stdout",
     "output_type": "stream",
     "text": [
      "\r",
      "Epoch 33/1000:   3%|▎         | 33/1000 [18:11<8:40:34, 32.30s/it, v_num=lgtk, train_loss_step=581, train_loss_epoch=557]"
     ]
    },
    {
     "name": "stdout",
     "output_type": "stream",
     "text": [
      "\r",
      "Epoch 34/1000:   3%|▎         | 33/1000 [18:11<8:40:34, 32.30s/it, v_num=lgtk, train_loss_step=581, train_loss_epoch=557]"
     ]
    },
    {
     "name": "stdout",
     "output_type": "stream",
     "text": [
      "\r",
      "Epoch 34/1000:   3%|▎         | 34/1000 [18:41<8:31:31, 31.77s/it, v_num=lgtk, train_loss_step=581, train_loss_epoch=557]"
     ]
    },
    {
     "name": "stdout",
     "output_type": "stream",
     "text": [
      "\r",
      "Epoch 34/1000:   3%|▎         | 34/1000 [18:41<8:31:31, 31.77s/it, v_num=lgtk, train_loss_step=568, train_loss_epoch=557]"
     ]
    },
    {
     "name": "stdout",
     "output_type": "stream",
     "text": [
      "\r",
      "Epoch 35/1000:   3%|▎         | 34/1000 [18:41<8:31:31, 31.77s/it, v_num=lgtk, train_loss_step=568, train_loss_epoch=557]"
     ]
    },
    {
     "name": "stdout",
     "output_type": "stream",
     "text": [
      "\r",
      "Epoch 35/1000:   4%|▎         | 35/1000 [19:13<8:30:52, 31.76s/it, v_num=lgtk, train_loss_step=568, train_loss_epoch=557]"
     ]
    },
    {
     "name": "stdout",
     "output_type": "stream",
     "text": [
      "\r",
      "Epoch 35/1000:   4%|▎         | 35/1000 [19:13<8:30:52, 31.76s/it, v_num=lgtk, train_loss_step=528, train_loss_epoch=557]"
     ]
    },
    {
     "name": "stdout",
     "output_type": "stream",
     "text": [
      "\r",
      "Epoch 36/1000:   4%|▎         | 35/1000 [19:13<8:30:52, 31.76s/it, v_num=lgtk, train_loss_step=528, train_loss_epoch=557]"
     ]
    },
    {
     "name": "stdout",
     "output_type": "stream",
     "text": [
      "\r",
      "Epoch 36/1000:   4%|▎         | 36/1000 [19:43<8:20:53, 31.18s/it, v_num=lgtk, train_loss_step=528, train_loss_epoch=557]"
     ]
    },
    {
     "name": "stdout",
     "output_type": "stream",
     "text": [
      "\r",
      "Epoch 36/1000:   4%|▎         | 36/1000 [19:43<8:20:53, 31.18s/it, v_num=lgtk, train_loss_step=534, train_loss_epoch=557]"
     ]
    },
    {
     "name": "stdout",
     "output_type": "stream",
     "text": [
      "\r",
      "Epoch 36/1000:   4%|▎         | 36/1000 [19:43<8:48:09, 32.87s/it, v_num=lgtk, train_loss_step=534, train_loss_epoch=557]"
     ]
    },
    {
     "name": "stdout",
     "output_type": "stream",
     "text": [
      "\n",
      "Monitored metric reconstruction_loss_validation did not improve in the last 10 records. Best score: 555.763. Signaling Trainer to stop.\n"
     ]
    }
   ],
   "source": [
    "model.train(logger=logger, plan_kwargs = plan_kwargs, **trainer_kwargs)"
   ]
  },
  {
   "cell_type": "code",
   "execution_count": 15,
   "id": "c282f6eb-0ad1-40a5-81e6-1acda1545dad",
   "metadata": {
    "execution": {
     "iopub.execute_input": "2024-04-30T08:56:23.078526Z",
     "iopub.status.busy": "2024-04-30T08:56:23.077923Z",
     "iopub.status.idle": "2024-04-30T08:56:29.333134Z",
     "shell.execute_reply": "2024-04-30T08:56:29.332419Z"
    },
    "papermill": {
     "duration": 6.267866,
     "end_time": "2024-04-30T08:56:29.334960",
     "exception": false,
     "start_time": "2024-04-30T08:56:23.067094",
     "status": "completed"
    },
    "tags": []
   },
   "outputs": [
    {
     "name": "stderr",
     "output_type": "stream",
     "text": [
      "\u001b[34m\u001b[1mwandb\u001b[0m: - 0.003 MB of 0.003 MB uploaded\r"
     ]
    },
    {
     "name": "stderr",
     "output_type": "stream",
     "text": [
      "\u001b[34m\u001b[1mwandb\u001b[0m: \\ 0.009 MB of 0.009 MB uploaded\r"
     ]
    },
    {
     "name": "stderr",
     "output_type": "stream",
     "text": [
      "\u001b[34m\u001b[1mwandb\u001b[0m: | 0.009 MB of 0.009 MB uploaded\r"
     ]
    },
    {
     "name": "stderr",
     "output_type": "stream",
     "text": [
      "\u001b[34m\u001b[1mwandb\u001b[0m: / 0.009 MB of 0.009 MB uploaded\r"
     ]
    },
    {
     "name": "stderr",
     "output_type": "stream",
     "text": [
      "\u001b[34m\u001b[1mwandb\u001b[0m: - 0.009 MB of 0.009 MB uploaded\r"
     ]
    },
    {
     "name": "stderr",
     "output_type": "stream",
     "text": [
      "\u001b[34m\u001b[1mwandb\u001b[0m:                                                                                \n"
     ]
    },
    {
     "name": "stderr",
     "output_type": "stream",
     "text": [
      "\u001b[34m\u001b[1mwandb\u001b[0m: \n",
      "\u001b[34m\u001b[1mwandb\u001b[0m: Run history:\n",
      "\u001b[34m\u001b[1mwandb\u001b[0m:                     elbo_train ██▆▅▄▄▃▃▃▃▃▂▂▂▂▂▂▂▂▂▂▂▂▂▁▁▁▁▁▁▁▁▁▁▁▁\n",
      "\u001b[34m\u001b[1mwandb\u001b[0m:                elbo_validation █▆▅▄▃▃▃▃▃▂▂▂▂▂▂▂▂▂▂▂▂▁▁▁▁▁▁▁▁▁▁▁▁▁▁▁\n",
      "\u001b[34m\u001b[1mwandb\u001b[0m:                          epoch ▁▁▁▂▂▂▂▂▂▃▃▃▃▃▄▄▄▄▄▄▅▅▅▅▅▅▆▆▆▆▆▇▇▇▇▇▇███\n",
      "\u001b[34m\u001b[1mwandb\u001b[0m:                kl_global_train ▁▁▁▁▁▁▁▁▁▁▁▁▁▁▁▁▁▁▁▁▁▁▁▁▁▁▁▁▁▁▁▁▁▁▁▁\n",
      "\u001b[34m\u001b[1mwandb\u001b[0m:           kl_global_validation ▁▁▁▁▁▁▁▁▁▁▁▁▁▁▁▁▁▁▁▁▁▁▁▁▁▁▁▁▁▁▁▁▁▁▁▁\n",
      "\u001b[34m\u001b[1mwandb\u001b[0m:                 kl_local_train ▆█▆▅▄▄▃▃▃▃▃▃▂▂▂▂▂▂▂▂▂▂▂▂▂▁▁▁▁▁▁▁▁▁▁▁\n",
      "\u001b[34m\u001b[1mwandb\u001b[0m:            kl_local_validation █▆▅▄▄▃▃▃▃▂▂▂▂▂▂▂▂▂▂▂▂▂▂▁▁▁▁▁▁▁▁▁▁▁▁▁\n",
      "\u001b[34m\u001b[1mwandb\u001b[0m:                      kl_weight ▁▁▁▂▂▂▂▂▂▃▃▃▃▃▃▄▄▄▄▄▅▅▅▅▅▅▆▆▆▆▆▆▇▇▇▇▇███\n",
      "\u001b[34m\u001b[1mwandb\u001b[0m:      reconstruction_loss_train █▄▄▃▃▂▂▂▂▂▂▂▂▂▂▁▁▁▁▁▁▁▁▁▁▁▁▁▁▁▁▁▁▁▁▁\n",
      "\u001b[34m\u001b[1mwandb\u001b[0m: reconstruction_loss_validation █▅▄▃▃▂▂▂▂▂▁▁▁▁▁▁▁▁▁▁▁▁▁▁▁▁▁▁▁▁▁▁▁▁▁▁\n",
      "\u001b[34m\u001b[1mwandb\u001b[0m:               train_loss_epoch █▄▃▃▂▂▂▂▂▁▁▁▁▁▁▁▁▁▁▁▁▁▁▁▁▁▁▁▁▁▁▁▁▁▁▁\n",
      "\u001b[34m\u001b[1mwandb\u001b[0m:                train_loss_step ▇▅▄▇▄▁▅▆▅▄▅▁▇▁▆▂▅▅▃▅▂▇▄▄▁█▅▆▃▄▂▅▂▄▅▃▂▅▂▁\n",
      "\u001b[34m\u001b[1mwandb\u001b[0m:            trainer/global_step ▁▁▁▁▂▂▂▂▂▃▃▃▃▃▃▄▄▄▄▄▄▅▅▅▅▅▆▆▆▆▆▆▇▇▇▇▇███\n",
      "\u001b[34m\u001b[1mwandb\u001b[0m:                validation_loss █▅▄▃▂▂▂▁▂▁▁▁▁▁▁▁▁▁▁▁▁▁▁▁▁▁▁▁▁▂▂▂▂▂▂▂\n",
      "\u001b[34m\u001b[1mwandb\u001b[0m: \n",
      "\u001b[34m\u001b[1mwandb\u001b[0m: Run summary:\n",
      "\u001b[34m\u001b[1mwandb\u001b[0m:                     elbo_train 593.53784\n",
      "\u001b[34m\u001b[1mwandb\u001b[0m:                elbo_validation 595.13245\n",
      "\u001b[34m\u001b[1mwandb\u001b[0m:                          epoch 35\n",
      "\u001b[34m\u001b[1mwandb\u001b[0m:                kl_global_train 0.0\n",
      "\u001b[34m\u001b[1mwandb\u001b[0m:           kl_global_validation 0.0\n",
      "\u001b[34m\u001b[1mwandb\u001b[0m:                 kl_local_train 40.22806\n",
      "\u001b[34m\u001b[1mwandb\u001b[0m:            kl_local_validation 39.18817\n",
      "\u001b[34m\u001b[1mwandb\u001b[0m:                      kl_weight 0.0875\n",
      "\u001b[34m\u001b[1mwandb\u001b[0m:      reconstruction_loss_train 553.30981\n",
      "\u001b[34m\u001b[1mwandb\u001b[0m: reconstruction_loss_validation 555.94427\n",
      "\u001b[34m\u001b[1mwandb\u001b[0m:               train_loss_epoch 556.83008\n",
      "\u001b[34m\u001b[1mwandb\u001b[0m:                train_loss_step 523.45032\n",
      "\u001b[34m\u001b[1mwandb\u001b[0m:            trainer/global_step 90647\n",
      "\u001b[34m\u001b[1mwandb\u001b[0m:                validation_loss 559.37329\n",
      "\u001b[34m\u001b[1mwandb\u001b[0m: \n"
     ]
    },
    {
     "name": "stderr",
     "output_type": "stream",
     "text": [
      "\u001b[34m\u001b[1mwandb\u001b[0m: 🚀 View run \u001b[33mStep2_B\u001b[0m at: \u001b[34m\u001b[4mhttps://wandb.ai/inflammation/inflammation_atlas_R1/runs/99lilgtk\u001b[0m\n",
      "\u001b[34m\u001b[1mwandb\u001b[0m: Synced 5 W&B file(s), 0 media file(s), 0 artifact file(s) and 0 other file(s)\n"
     ]
    },
    {
     "name": "stderr",
     "output_type": "stream",
     "text": [
      "\u001b[34m\u001b[1mwandb\u001b[0m: Find logs at: \u001b[35m\u001b[1m./wandb/run-20240430_083638-99lilgtk/logs\u001b[0m\n"
     ]
    }
   ],
   "source": [
    "wandb.finish()"
   ]
  },
  {
   "cell_type": "markdown",
   "id": "d9fb1179-83c7-4ac6-b4aa-92dc7a349801",
   "metadata": {
    "papermill": {
     "duration": 0.010195,
     "end_time": "2024-04-30T08:56:29.355583",
     "exception": false,
     "start_time": "2024-04-30T08:56:29.345388",
     "status": "completed"
    },
    "tags": []
   },
   "source": [
    "### Extracting embedding space"
   ]
  },
  {
   "cell_type": "code",
   "execution_count": 16,
   "id": "caaa5832-0123-4c59-8ec6-f46a75f7a14e",
   "metadata": {
    "execution": {
     "iopub.execute_input": "2024-04-30T08:56:29.377043Z",
     "iopub.status.busy": "2024-04-30T08:56:29.376311Z",
     "iopub.status.idle": "2024-04-30T08:56:38.377388Z",
     "shell.execute_reply": "2024-04-30T08:56:38.376654Z"
    },
    "papermill": {
     "duration": 9.014118,
     "end_time": "2024-04-30T08:56:38.379520",
     "exception": false,
     "start_time": "2024-04-30T08:56:29.365402",
     "status": "completed"
    },
    "tags": []
   },
   "outputs": [],
   "source": [
    "adata.obsm['X_scVI'] = model.get_latent_representation()"
   ]
  },
  {
   "cell_type": "markdown",
   "id": "2f03e70b-839c-40a6-9fbb-d76bbd787419",
   "metadata": {
    "papermill": {
     "duration": 0.009771,
     "end_time": "2024-04-30T08:56:38.399665",
     "exception": false,
     "start_time": "2024-04-30T08:56:38.389894",
     "status": "completed"
    },
    "tags": []
   },
   "source": [
    "## Save the results"
   ]
  },
  {
   "cell_type": "code",
   "execution_count": 17,
   "id": "7b04049b-47fd-4b62-a1c0-c43dcc086d34",
   "metadata": {
    "execution": {
     "iopub.execute_input": "2024-04-30T08:56:38.420837Z",
     "iopub.status.busy": "2024-04-30T08:56:38.420515Z",
     "iopub.status.idle": "2024-04-30T08:57:08.299519Z",
     "shell.execute_reply": "2024-04-30T08:57:08.298790Z"
    },
    "papermill": {
     "duration": 29.891994,
     "end_time": "2024-04-30T08:57:08.301545",
     "exception": false,
     "start_time": "2024-04-30T08:56:38.409551",
     "status": "completed"
    },
    "tags": []
   },
   "outputs": [],
   "source": [
    "if overwriteData:\n",
    "    adata.write(here(f\"{workDir}/{cellGroup}/results/02_{annotationLevel}_{cellGroup}_HVGsubset_scVI.h5ad\"), compression=\"gzip\")\n",
    "    model.save(here(f\"{workDir}/{cellGroup}/results/02_{annotationLevel}_{cellGroup}_HVGsubset_scVI_MODEL/\"),\n",
    "               overwrite = True, \n",
    "               save_anndata = False )   "
   ]
  },
  {
   "cell_type": "code",
   "execution_count": 18,
   "id": "629ba2bd-f6be-44ef-8fca-bbdf891bf25f",
   "metadata": {
    "execution": {
     "iopub.execute_input": "2024-04-30T08:57:08.323455Z",
     "iopub.status.busy": "2024-04-30T08:57:08.323159Z",
     "iopub.status.idle": "2024-04-30T08:57:08.327249Z",
     "shell.execute_reply": "2024-04-30T08:57:08.326289Z"
    },
    "papermill": {
     "duration": 0.016775,
     "end_time": "2024-04-30T08:57:08.328863",
     "exception": false,
     "start_time": "2024-04-30T08:57:08.312088",
     "status": "completed"
    },
    "tags": []
   },
   "outputs": [],
   "source": [
    "# To load the model do (after loading corresponding adata):\n",
    "# model = scvi.model.SCVI.load(here('{}/results/01_{}_HVGsubset_scVI_MODEL/'.format(workDir, cellGroup)), \n",
    "#                              adata, \n",
    "#                              use_gpu=True)"
   ]
  },
  {
   "cell_type": "raw",
   "id": "975e84d0-f56b-498d-b3a8-c9219cf22e53",
   "metadata": {
    "papermill": {
     "duration": 0.010127,
     "end_time": "2024-04-30T08:57:08.348833",
     "exception": false,
     "start_time": "2024-04-30T08:57:08.338706",
     "status": "completed"
    },
    "tags": []
   },
   "source": [
    "session_info.show()"
   ]
  }
 ],
 "metadata": {
  "kernelspec": {
   "display_name": "Python 3 (ipykernel)",
   "language": "python",
   "name": "python3"
  },
  "language_info": {
   "codemirror_mode": {
    "name": "ipython",
    "version": 3
   },
   "file_extension": ".py",
   "mimetype": "text/x-python",
   "name": "python",
   "nbconvert_exporter": "python",
   "pygments_lexer": "ipython3",
   "version": "3.9.18"
  },
  "papermill": {
   "default_parameters": {},
   "duration": 1255.750042,
   "end_time": "2024-04-30T08:57:12.103164",
   "environment_variables": {},
   "exception": null,
   "input_path": "./B/02_integration_scVI.ipynb",
   "output_path": "./B/02_integration_scVI_executed.ipynb",
   "parameters": {},
   "start_time": "2024-04-30T08:36:16.353122",
   "version": "2.5.0"
  }
 },
 "nbformat": 4,
 "nbformat_minor": 5
}