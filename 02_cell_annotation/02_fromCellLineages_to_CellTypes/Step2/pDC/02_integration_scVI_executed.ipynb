{
 "cells": [
  {
   "cell_type": "code",
   "execution_count": 1,
   "id": "2dd1425a-0c07-465e-b522-9e3cc5cb93a7",
   "metadata": {
    "execution": {
     "iopub.execute_input": "2024-04-30T10:12:11.711098Z",
     "iopub.status.busy": "2024-04-30T10:12:11.710338Z",
     "iopub.status.idle": "2024-04-30T10:12:17.220819Z",
     "shell.execute_reply": "2024-04-30T10:12:17.220060Z"
    },
    "papermill": {
     "duration": 5.517811,
     "end_time": "2024-04-30T10:12:17.222631",
     "exception": false,
     "start_time": "2024-04-30T10:12:11.704820",
     "status": "completed"
    },
    "tags": []
   },
   "outputs": [
    {
     "data": {
      "text/plain": [
       "True"
      ]
     },
     "execution_count": 1,
     "metadata": {},
     "output_type": "execute_result"
    }
   ],
   "source": [
    "import os\n",
    "import sys\n",
    "\n",
    "import numpy as np\n",
    "import matplotlib.pyplot as plt\n",
    "\n",
    "import scanpy as sc\n",
    "import scvi\n",
    "import torch\n",
    "\n",
    "from pytorch_lightning.loggers import WandbLogger\n",
    "import wandb\n",
    "from dotenv import load_dotenv\n",
    "\n",
    "import session_info\n",
    "import warnings\n",
    "from pyprojroot.here import here\n",
    "\n",
    "warnings.filterwarnings(\"ignore\")\n",
    "sys.path.insert(1, str(here('bin')))\n",
    "\n",
    "torch.set_float32_matmul_precision('high')\n",
    "\n",
    "#plt.style.use(['science','nature','no-latex'])\n",
    "dpi_fig_save = 300\n",
    "sc.set_figure_params(dpi=100, dpi_save=dpi_fig_save, vector_friendly=True)\n",
    "\n",
    "load_dotenv(here('.env'))"
   ]
  },
  {
   "cell_type": "code",
   "execution_count": 2,
   "id": "09c897fc-744b-43de-a681-718fb5d327fa",
   "metadata": {
    "execution": {
     "iopub.execute_input": "2024-04-30T10:12:17.234152Z",
     "iopub.status.busy": "2024-04-30T10:12:17.233540Z",
     "iopub.status.idle": "2024-04-30T10:12:17.237523Z",
     "shell.execute_reply": "2024-04-30T10:12:17.236877Z"
    },
    "papermill": {
     "duration": 0.010637,
     "end_time": "2024-04-30T10:12:17.239148",
     "exception": false,
     "start_time": "2024-04-30T10:12:17.228511",
     "status": "completed"
    },
    "tags": []
   },
   "outputs": [],
   "source": [
    "class CustomWandbLogger(WandbLogger):\n",
    "    @property\n",
    "    def save_dir(self):\n",
    "        return self.experiment.dir"
   ]
  },
  {
   "cell_type": "code",
   "execution_count": 3,
   "id": "8ee6662f-5d45-4137-80a5-bb0b9ae8d71f",
   "metadata": {
    "execution": {
     "iopub.execute_input": "2024-04-30T10:12:17.247648Z",
     "iopub.status.busy": "2024-04-30T10:12:17.247373Z",
     "iopub.status.idle": "2024-04-30T10:12:17.253715Z",
     "shell.execute_reply": "2024-04-30T10:12:17.253070Z"
    },
    "papermill": {
     "duration": 0.012875,
     "end_time": "2024-04-30T10:12:17.255414",
     "exception": false,
     "start_time": "2024-04-30T10:12:17.242539",
     "status": "completed"
    },
    "tags": []
   },
   "outputs": [
    {
     "name": "stderr",
     "output_type": "stream",
     "text": [
      "Seed set to 0\n"
     ]
    },
    {
     "name": "stdout",
     "output_type": "stream",
     "text": [
      "Last run with scvi-tools version: 1.1.2\n"
     ]
    }
   ],
   "source": [
    "scvi.settings.seed = 0\n",
    "print(\"Last run with scvi-tools version:\", scvi.__version__)"
   ]
  },
  {
   "cell_type": "markdown",
   "id": "a81037ff-5998-482a-ba86-520f757311a9",
   "metadata": {
    "papermill": {
     "duration": 0.003679,
     "end_time": "2024-04-30T10:12:17.263418",
     "exception": false,
     "start_time": "2024-04-30T10:12:17.259739",
     "status": "completed"
    },
    "tags": []
   },
   "source": [
    "**Setting parameters** "
   ]
  },
  {
   "cell_type": "code",
   "execution_count": 4,
   "id": "56c27966-8f10-4c93-8b1a-1fa75f005e41",
   "metadata": {
    "execution": {
     "iopub.execute_input": "2024-04-30T10:12:17.272289Z",
     "iopub.status.busy": "2024-04-30T10:12:17.272023Z",
     "iopub.status.idle": "2024-04-30T10:12:17.275339Z",
     "shell.execute_reply": "2024-04-30T10:12:17.274714Z"
    },
    "papermill": {
     "duration": 0.009828,
     "end_time": "2024-04-30T10:12:17.276974",
     "exception": false,
     "start_time": "2024-04-30T10:12:17.267146",
     "status": "completed"
    },
    "tags": []
   },
   "outputs": [],
   "source": [
    "overwriteFigures = True\n",
    "overwriteData = True"
   ]
  },
  {
   "cell_type": "code",
   "execution_count": 5,
   "id": "c86fccd3-a4fe-415b-8f4e-e2ceb3ec128a",
   "metadata": {
    "execution": {
     "iopub.execute_input": "2024-04-30T10:12:17.286181Z",
     "iopub.status.busy": "2024-04-30T10:12:17.285547Z",
     "iopub.status.idle": "2024-04-30T10:12:17.288999Z",
     "shell.execute_reply": "2024-04-30T10:12:17.288321Z"
    },
    "papermill": {
     "duration": 0.009961,
     "end_time": "2024-04-30T10:12:17.290614",
     "exception": false,
     "start_time": "2024-04-30T10:12:17.280653",
     "status": "completed"
    },
    "tags": []
   },
   "outputs": [],
   "source": [
    "cellGroup = 'pDC'\n",
    "workDir = os.getcwd()"
   ]
  },
  {
   "cell_type": "code",
   "execution_count": 6,
   "id": "2dee4d55-d168-467b-b867-a61fed9d6af1",
   "metadata": {
    "execution": {
     "iopub.execute_input": "2024-04-30T10:12:17.299524Z",
     "iopub.status.busy": "2024-04-30T10:12:17.298974Z",
     "iopub.status.idle": "2024-04-30T10:12:17.302474Z",
     "shell.execute_reply": "2024-04-30T10:12:17.301864Z"
    },
    "papermill": {
     "duration": 0.0099,
     "end_time": "2024-04-30T10:12:17.304086",
     "exception": false,
     "start_time": "2024-04-30T10:12:17.294186",
     "status": "completed"
    },
    "tags": []
   },
   "outputs": [],
   "source": [
    "annotationLevel = os.path.basename(os.path.normpath(workDir))"
   ]
  },
  {
   "cell_type": "code",
   "execution_count": 7,
   "id": "11e53cd5-b746-4152-89cb-c2f0c15d90b3",
   "metadata": {
    "execution": {
     "iopub.execute_input": "2024-04-30T10:12:17.313246Z",
     "iopub.status.busy": "2024-04-30T10:12:17.312584Z",
     "iopub.status.idle": "2024-04-30T10:12:17.317162Z",
     "shell.execute_reply": "2024-04-30T10:12:17.316542Z"
    },
    "papermill": {
     "duration": 0.010877,
     "end_time": "2024-04-30T10:12:17.318776",
     "exception": false,
     "start_time": "2024-04-30T10:12:17.307899",
     "status": "completed"
    },
    "tags": []
   },
   "outputs": [
    {
     "data": {
      "text/plain": [
       "'/home/jupyter/Inflammation-PBMCs-Atlas/02_cell_annotation/02_fromCellLineages_to_CellTypes/Step2'"
      ]
     },
     "execution_count": 7,
     "metadata": {},
     "output_type": "execute_result"
    }
   ],
   "source": [
    "workDir"
   ]
  },
  {
   "cell_type": "markdown",
   "id": "171d2f06-9a44-4fcb-b437-35dc546674b6",
   "metadata": {
    "papermill": {
     "duration": 0.003893,
     "end_time": "2024-04-30T10:12:17.326368",
     "exception": false,
     "start_time": "2024-04-30T10:12:17.322475",
     "status": "completed"
    },
    "tags": []
   },
   "source": [
    "**Load data**"
   ]
  },
  {
   "cell_type": "code",
   "execution_count": 8,
   "id": "429f34fe-dde6-4cc9-9f75-7de8f85c5ffe",
   "metadata": {
    "execution": {
     "iopub.execute_input": "2024-04-30T10:12:17.336001Z",
     "iopub.status.busy": "2024-04-30T10:12:17.335271Z",
     "iopub.status.idle": "2024-04-30T10:12:18.330695Z",
     "shell.execute_reply": "2024-04-30T10:12:18.329906Z"
    },
    "papermill": {
     "duration": 1.002185,
     "end_time": "2024-04-30T10:12:18.332565",
     "exception": false,
     "start_time": "2024-04-30T10:12:17.330380",
     "status": "completed"
    },
    "tags": []
   },
   "outputs": [
    {
     "data": {
      "text/plain": [
       "AnnData object with n_obs × n_vars = 23188 × 3005\n",
       "    obs: 'studyID', 'libraryID', 'sampleID', 'chemistry', 'technology', 'patientID', 'disease', 'timepoint_replicate', 'treatmentStatus', 'therapyResponse', 'sex', 'age', 'BMI', 'binned_age', 'diseaseStatus', 'smokingStatus', 'ethnicity', 'institute', 'diseaseGroup', 'n_genes_by_counts', 'log1p_n_genes_by_counts', 'total_counts', 'log1p_total_counts', 'pct_counts_in_top_20_genes', 'total_counts_mt', 'log1p_total_counts_mt', 'pct_counts_mt', 'total_counts_ribo', 'log1p_total_counts_ribo', 'pct_counts_ribo', 'total_counts_hb', 'log1p_total_counts_hb', 'pct_counts_hb', 'total_counts_plt', 'log1p_total_counts_plt', 'pct_counts_plt', 'doublet_score', 'predicted_doublet', 'S_score', 'G2M_score', 'phase'\n",
       "    var: 'hgnc_id', 'symbol', 'locus_group', 'HUGO_status', 'mt', 'ribo', 'hb', 'plt', 'n_cells_by_counts', 'mean_counts', 'log1p_mean_counts', 'pct_dropout_by_counts', 'total_counts', 'log1p_total_counts', 'highly_variable'\n",
       "    uns: 'chemistry_colors', 'log1p'\n",
       "    layers: 'counts', 'log1p_10e4_counts'"
      ]
     },
     "execution_count": 8,
     "metadata": {},
     "output_type": "execute_result"
    }
   ],
   "source": [
    "adata = sc.read_h5ad(here(f\"{workDir}/{cellGroup}/results/01_{cellGroup}_normalized_HVGsubset.h5ad\"))\n",
    "adata"
   ]
  },
  {
   "cell_type": "markdown",
   "id": "8ac79f3b-d5af-41fa-8904-1e9ac1cbe2fb",
   "metadata": {
    "papermill": {
     "duration": 0.003856,
     "end_time": "2024-04-30T10:12:18.340302",
     "exception": false,
     "start_time": "2024-04-30T10:12:18.336446",
     "status": "completed"
    },
    "tags": []
   },
   "source": [
    "## scVI integration"
   ]
  },
  {
   "cell_type": "markdown",
   "id": "9544847d-d17f-4811-b14b-760446d54d32",
   "metadata": {
    "execution": {
     "iopub.execute_input": "2024-03-25T16:49:04.004504Z",
     "iopub.status.busy": "2024-03-25T16:49:04.004143Z",
     "iopub.status.idle": "2024-03-25T16:49:04.010148Z",
     "shell.execute_reply": "2024-03-25T16:49:04.009146Z",
     "shell.execute_reply.started": "2024-03-25T16:49:04.004477Z"
    },
    "papermill": {
     "duration": 0.003771,
     "end_time": "2024-04-30T10:12:18.348000",
     "exception": false,
     "start_time": "2024-04-30T10:12:18.344229",
     "status": "completed"
    },
    "tags": []
   },
   "source": [
    "**scVI parameters**"
   ]
  },
  {
   "cell_type": "code",
   "execution_count": 9,
   "id": "208966eb-545a-4c02-854c-0ed0487ef5b3",
   "metadata": {
    "execution": {
     "iopub.execute_input": "2024-04-30T10:12:18.357750Z",
     "iopub.status.busy": "2024-04-30T10:12:18.357101Z",
     "iopub.status.idle": "2024-04-30T10:12:18.362766Z",
     "shell.execute_reply": "2024-04-30T10:12:18.362083Z"
    },
    "papermill": {
     "duration": 0.012541,
     "end_time": "2024-04-30T10:12:18.364408",
     "exception": false,
     "start_time": "2024-04-30T10:12:18.351867",
     "status": "completed"
    },
    "tags": []
   },
   "outputs": [],
   "source": [
    "# https://docs.scvi-tools.org/en/stable/api/reference/scvi.train.Trainer.html#scvi.train.Trainer\n",
    "setup_kwargs = dict(\n",
    "    layer=\"counts\", \n",
    "    batch_key='libraryID', \n",
    "    categorical_covariate_keys = ['studyID', 'chemistry', 'disease', 'sampleID'],\n",
    "    labels_key = 'chemistry'    \n",
    ")\n",
    "\n",
    "scvi_kwargs = dict(n_hidden=512,\n",
    "                   n_latent=20, # reduceds after step 00 (main)\n",
    "                   n_layers=2,\n",
    "                   gene_likelihood='nb',\n",
    "                   dispersion='gene-label')\n",
    "\n",
    "trainer_kwargs = dict(\n",
    "    checkpointing_monitor = 'elbo_validation',\n",
    "    early_stopping_monitor = 'reconstruction_loss_validation',\n",
    "    early_stopping_patience = 10,\n",
    "    early_stopping_min_delta=0.1,\n",
    "    early_stopping = True,\n",
    "    max_epochs = 1000,\n",
    "\n",
    "    #logger = # wandb\n",
    ")\n",
    "# https://docs.scvi-tools.org/en/stable/api/reference/scvi.train.TrainingPlan.html#scvi.train.TrainingPlan\n",
    "plan_kwargs = dict(\n",
    "    lr = 5e-4,\n",
    "    #reduce_lr_on_plateau = True\n",
    ")\n",
    "\n",
    "# https://docs.scvi-tools.org/en/stable/api/reference/scvi.module.VAE.html#scvi.module.VAE\n",
    "#vae = dict(\n",
    "#    use_layer_norm='both',\n",
    "#    use_batch_norm='none',\n",
    "#    encode_covariates=True,\n",
    "#    deeply_inject_covariates=False\n",
    "#)\n",
    "parameter_dict = setup_kwargs | scvi_kwargs | trainer_kwargs | plan_kwargs"
   ]
  },
  {
   "cell_type": "markdown",
   "id": "1362366a-c16b-4c11-964b-b9c5f82f7b29",
   "metadata": {
    "papermill": {
     "duration": 0.004537,
     "end_time": "2024-04-30T10:12:18.373113",
     "exception": false,
     "start_time": "2024-04-30T10:12:18.368576",
     "status": "completed"
    },
    "tags": []
   },
   "source": [
    "**wandb parameter**"
   ]
  },
  {
   "cell_type": "code",
   "execution_count": 10,
   "id": "0496e33a-8ca5-423f-b42f-34a59760708c",
   "metadata": {
    "execution": {
     "iopub.execute_input": "2024-04-30T10:12:18.383269Z",
     "iopub.status.busy": "2024-04-30T10:12:18.382668Z",
     "iopub.status.idle": "2024-04-30T10:12:18.387289Z",
     "shell.execute_reply": "2024-04-30T10:12:18.386643Z"
    },
    "papermill": {
     "duration": 0.011499,
     "end_time": "2024-04-30T10:12:18.388923",
     "exception": false,
     "start_time": "2024-04-30T10:12:18.377424",
     "status": "completed"
    },
    "tags": []
   },
   "outputs": [
    {
     "data": {
      "text/plain": [
       "'Step2_pDC'"
      ]
     },
     "execution_count": 10,
     "metadata": {},
     "output_type": "execute_result"
    }
   ],
   "source": [
    "run_name = f\"{annotationLevel}_{cellGroup}\"\n",
    "run_name"
   ]
  },
  {
   "cell_type": "code",
   "execution_count": 11,
   "id": "b0021327-95a2-4002-bf32-2c5779a99505",
   "metadata": {
    "execution": {
     "iopub.execute_input": "2024-04-30T10:12:18.398845Z",
     "iopub.status.busy": "2024-04-30T10:12:18.398290Z",
     "iopub.status.idle": "2024-04-30T10:12:18.528852Z",
     "shell.execute_reply": "2024-04-30T10:12:18.528248Z"
    },
    "papermill": {
     "duration": 0.137585,
     "end_time": "2024-04-30T10:12:18.530743",
     "exception": false,
     "start_time": "2024-04-30T10:12:18.393158",
     "status": "completed"
    },
    "tags": []
   },
   "outputs": [],
   "source": [
    "logger = CustomWandbLogger(name = run_name, project='inflammation_atlas_R1', config=parameter_dict)"
   ]
  },
  {
   "cell_type": "markdown",
   "id": "c237eee1-a976-4915-9b7f-b014bf33f47d",
   "metadata": {
    "papermill": {
     "duration": 0.004174,
     "end_time": "2024-04-30T10:12:18.538903",
     "exception": false,
     "start_time": "2024-04-30T10:12:18.534729",
     "status": "completed"
    },
    "tags": []
   },
   "source": [
    "**Running integration**"
   ]
  },
  {
   "cell_type": "code",
   "execution_count": 12,
   "id": "aff97c53-1aba-462e-8a77-f1aec9cf724c",
   "metadata": {
    "execution": {
     "iopub.execute_input": "2024-04-30T10:12:18.548946Z",
     "iopub.status.busy": "2024-04-30T10:12:18.548196Z",
     "iopub.status.idle": "2024-04-30T10:12:19.045804Z",
     "shell.execute_reply": "2024-04-30T10:12:19.045015Z"
    },
    "papermill": {
     "duration": 0.504896,
     "end_time": "2024-04-30T10:12:19.047903",
     "exception": false,
     "start_time": "2024-04-30T10:12:18.543007",
     "status": "completed"
    },
    "tags": []
   },
   "outputs": [],
   "source": [
    "scvi.model.SCVI.setup_anndata(adata, \n",
    "                              **setup_kwargs)"
   ]
  },
  {
   "cell_type": "code",
   "execution_count": 13,
   "id": "1a56f448-cf44-47c1-81a4-a89caa930fec",
   "metadata": {
    "execution": {
     "iopub.execute_input": "2024-04-30T10:12:19.058382Z",
     "iopub.status.busy": "2024-04-30T10:12:19.057623Z",
     "iopub.status.idle": "2024-04-30T10:12:19.325818Z",
     "shell.execute_reply": "2024-04-30T10:12:19.325088Z"
    },
    "papermill": {
     "duration": 0.27575,
     "end_time": "2024-04-30T10:12:19.328015",
     "exception": false,
     "start_time": "2024-04-30T10:12:19.052265",
     "status": "completed"
    },
    "tags": []
   },
   "outputs": [],
   "source": [
    "model = scvi.model.SCVI(adata, **scvi_kwargs)"
   ]
  },
  {
   "cell_type": "code",
   "execution_count": 14,
   "id": "2735f010-4f24-4ae8-9740-a8cfeb335e9a",
   "metadata": {
    "execution": {
     "iopub.execute_input": "2024-04-30T10:12:19.338152Z",
     "iopub.status.busy": "2024-04-30T10:12:19.337600Z",
     "iopub.status.idle": "2024-04-30T10:13:42.868556Z",
     "shell.execute_reply": "2024-04-30T10:13:42.867643Z"
    },
    "papermill": {
     "duration": 83.53801,
     "end_time": "2024-04-30T10:13:42.870312",
     "exception": false,
     "start_time": "2024-04-30T10:12:19.332302",
     "status": "completed"
    },
    "tags": []
   },
   "outputs": [
    {
     "name": "stderr",
     "output_type": "stream",
     "text": [
      "GPU available: True (cuda), used: True\n"
     ]
    },
    {
     "name": "stderr",
     "output_type": "stream",
     "text": [
      "TPU available: False, using: 0 TPU cores\n"
     ]
    },
    {
     "name": "stderr",
     "output_type": "stream",
     "text": [
      "IPU available: False, using: 0 IPUs\n"
     ]
    },
    {
     "name": "stderr",
     "output_type": "stream",
     "text": [
      "HPU available: False, using: 0 HPUs\n"
     ]
    },
    {
     "name": "stderr",
     "output_type": "stream",
     "text": [
      "\u001b[34m\u001b[1mwandb\u001b[0m: Currently logged in as: \u001b[33mdav1989\u001b[0m (\u001b[33minflammation\u001b[0m). Use \u001b[1m`wandb login --relogin`\u001b[0m to force relogin\n"
     ]
    },
    {
     "name": "stderr",
     "output_type": "stream",
     "text": [
      "\u001b[34m\u001b[1mwandb\u001b[0m: wandb version 0.16.6 is available!  To upgrade, please run:\n",
      "\u001b[34m\u001b[1mwandb\u001b[0m:  $ pip install wandb --upgrade\n"
     ]
    },
    {
     "name": "stderr",
     "output_type": "stream",
     "text": [
      "\u001b[34m\u001b[1mwandb\u001b[0m: Tracking run with wandb version 0.16.3\n"
     ]
    },
    {
     "name": "stderr",
     "output_type": "stream",
     "text": [
      "\u001b[34m\u001b[1mwandb\u001b[0m: Run data is saved locally in \u001b[35m\u001b[1m./wandb/run-20240430_101224-zzjppu3z\u001b[0m\n",
      "\u001b[34m\u001b[1mwandb\u001b[0m: Run \u001b[1m`wandb offline`\u001b[0m to turn off syncing.\n"
     ]
    },
    {
     "name": "stderr",
     "output_type": "stream",
     "text": [
      "\u001b[34m\u001b[1mwandb\u001b[0m: Syncing run \u001b[33mStep2_pDC\u001b[0m\n"
     ]
    },
    {
     "name": "stderr",
     "output_type": "stream",
     "text": [
      "\u001b[34m\u001b[1mwandb\u001b[0m: ⭐️ View project at \u001b[34m\u001b[4mhttps://wandb.ai/inflammation/inflammation_atlas_R1\u001b[0m\n"
     ]
    },
    {
     "name": "stderr",
     "output_type": "stream",
     "text": [
      "\u001b[34m\u001b[1mwandb\u001b[0m: 🚀 View run at \u001b[34m\u001b[4mhttps://wandb.ai/inflammation/inflammation_atlas_R1/runs/zzjppu3z\u001b[0m\n"
     ]
    },
    {
     "name": "stderr",
     "output_type": "stream",
     "text": [
      "LOCAL_RANK: 0 - CUDA_VISIBLE_DEVICES: [0]\n"
     ]
    },
    {
     "name": "stdout",
     "output_type": "stream",
     "text": [
      "\r",
      "Training:   0%|          | 0/1000 [00:00<?, ?it/s]"
     ]
    },
    {
     "name": "stdout",
     "output_type": "stream",
     "text": [
      "\r",
      "Epoch 1/1000:   0%|          | 0/1000 [00:00<?, ?it/s]"
     ]
    },
    {
     "name": "stdout",
     "output_type": "stream",
     "text": [
      "\r",
      "Epoch 1/1000:   0%|          | 1/1000 [00:04<1:08:17,  4.10s/it]"
     ]
    },
    {
     "name": "stdout",
     "output_type": "stream",
     "text": [
      "\r",
      "Epoch 1/1000:   0%|          | 1/1000 [00:04<1:08:17,  4.10s/it, v_num=pu3z, train_loss_step=1.15e+3, train_loss_epoch=1.24e+3]"
     ]
    },
    {
     "name": "stdout",
     "output_type": "stream",
     "text": [
      "\r",
      "Epoch 2/1000:   0%|          | 1/1000 [00:04<1:08:17,  4.10s/it, v_num=pu3z, train_loss_step=1.15e+3, train_loss_epoch=1.24e+3]"
     ]
    },
    {
     "name": "stdout",
     "output_type": "stream",
     "text": [
      "\r",
      "Epoch 2/1000:   0%|          | 2/1000 [00:06<53:55,  3.24s/it, v_num=pu3z, train_loss_step=1.15e+3, train_loss_epoch=1.24e+3]  "
     ]
    },
    {
     "name": "stdout",
     "output_type": "stream",
     "text": [
      "\r",
      "Epoch 2/1000:   0%|          | 2/1000 [00:06<53:55,  3.24s/it, v_num=pu3z, train_loss_step=1.26e+3, train_loss_epoch=1.19e+3]"
     ]
    },
    {
     "name": "stdout",
     "output_type": "stream",
     "text": [
      "\r",
      "Epoch 3/1000:   0%|          | 2/1000 [00:06<53:55,  3.24s/it, v_num=pu3z, train_loss_step=1.26e+3, train_loss_epoch=1.19e+3]"
     ]
    },
    {
     "name": "stdout",
     "output_type": "stream",
     "text": [
      "\r",
      "Epoch 3/1000:   0%|          | 3/1000 [00:09<49:55,  3.00s/it, v_num=pu3z, train_loss_step=1.26e+3, train_loss_epoch=1.19e+3]"
     ]
    },
    {
     "name": "stdout",
     "output_type": "stream",
     "text": [
      "\r",
      "Epoch 3/1000:   0%|          | 3/1000 [00:09<49:55,  3.00s/it, v_num=pu3z, train_loss_step=1.31e+3, train_loss_epoch=1.18e+3]"
     ]
    },
    {
     "name": "stdout",
     "output_type": "stream",
     "text": [
      "\r",
      "Epoch 4/1000:   0%|          | 3/1000 [00:09<49:55,  3.00s/it, v_num=pu3z, train_loss_step=1.31e+3, train_loss_epoch=1.18e+3]"
     ]
    },
    {
     "name": "stdout",
     "output_type": "stream",
     "text": [
      "\r",
      "Epoch 4/1000:   0%|          | 4/1000 [00:12<47:39,  2.87s/it, v_num=pu3z, train_loss_step=1.31e+3, train_loss_epoch=1.18e+3]"
     ]
    },
    {
     "name": "stdout",
     "output_type": "stream",
     "text": [
      "\r",
      "Epoch 4/1000:   0%|          | 4/1000 [00:12<47:39,  2.87s/it, v_num=pu3z, train_loss_step=977, train_loss_epoch=1.18e+3]    "
     ]
    },
    {
     "name": "stdout",
     "output_type": "stream",
     "text": [
      "\r",
      "Epoch 5/1000:   0%|          | 4/1000 [00:12<47:39,  2.87s/it, v_num=pu3z, train_loss_step=977, train_loss_epoch=1.18e+3]"
     ]
    },
    {
     "name": "stdout",
     "output_type": "stream",
     "text": [
      "\r",
      "Epoch 5/1000:   0%|          | 5/1000 [00:14<46:19,  2.79s/it, v_num=pu3z, train_loss_step=977, train_loss_epoch=1.18e+3]"
     ]
    },
    {
     "name": "stdout",
     "output_type": "stream",
     "text": [
      "\r",
      "Epoch 5/1000:   0%|          | 5/1000 [00:14<46:19,  2.79s/it, v_num=pu3z, train_loss_step=1.3e+3, train_loss_epoch=1.17e+3]"
     ]
    },
    {
     "name": "stdout",
     "output_type": "stream",
     "text": [
      "\r",
      "Epoch 6/1000:   0%|          | 5/1000 [00:14<46:19,  2.79s/it, v_num=pu3z, train_loss_step=1.3e+3, train_loss_epoch=1.17e+3]"
     ]
    },
    {
     "name": "stdout",
     "output_type": "stream",
     "text": [
      "\r",
      "Epoch 6/1000:   1%|          | 6/1000 [00:17<45:33,  2.75s/it, v_num=pu3z, train_loss_step=1.3e+3, train_loss_epoch=1.17e+3]"
     ]
    },
    {
     "name": "stdout",
     "output_type": "stream",
     "text": [
      "\r",
      "Epoch 6/1000:   1%|          | 6/1000 [00:17<45:33,  2.75s/it, v_num=pu3z, train_loss_step=1.4e+3, train_loss_epoch=1.16e+3]"
     ]
    },
    {
     "name": "stdout",
     "output_type": "stream",
     "text": [
      "\r",
      "Epoch 7/1000:   1%|          | 6/1000 [00:17<45:33,  2.75s/it, v_num=pu3z, train_loss_step=1.4e+3, train_loss_epoch=1.16e+3]"
     ]
    },
    {
     "name": "stdout",
     "output_type": "stream",
     "text": [
      "\r",
      "Epoch 7/1000:   1%|          | 7/1000 [00:20<45:01,  2.72s/it, v_num=pu3z, train_loss_step=1.4e+3, train_loss_epoch=1.16e+3]"
     ]
    },
    {
     "name": "stdout",
     "output_type": "stream",
     "text": [
      "\r",
      "Epoch 7/1000:   1%|          | 7/1000 [00:20<45:01,  2.72s/it, v_num=pu3z, train_loss_step=1.46e+3, train_loss_epoch=1.16e+3]"
     ]
    },
    {
     "name": "stdout",
     "output_type": "stream",
     "text": [
      "\r",
      "Epoch 8/1000:   1%|          | 7/1000 [00:20<45:01,  2.72s/it, v_num=pu3z, train_loss_step=1.46e+3, train_loss_epoch=1.16e+3]"
     ]
    },
    {
     "name": "stdout",
     "output_type": "stream",
     "text": [
      "\r",
      "Epoch 8/1000:   1%|          | 8/1000 [00:22<44:46,  2.71s/it, v_num=pu3z, train_loss_step=1.46e+3, train_loss_epoch=1.16e+3]"
     ]
    },
    {
     "name": "stdout",
     "output_type": "stream",
     "text": [
      "\r",
      "Epoch 8/1000:   1%|          | 8/1000 [00:22<44:46,  2.71s/it, v_num=pu3z, train_loss_step=822, train_loss_epoch=1.16e+3]    "
     ]
    },
    {
     "name": "stdout",
     "output_type": "stream",
     "text": [
      "\r",
      "Epoch 9/1000:   1%|          | 8/1000 [00:22<44:46,  2.71s/it, v_num=pu3z, train_loss_step=822, train_loss_epoch=1.16e+3]"
     ]
    },
    {
     "name": "stdout",
     "output_type": "stream",
     "text": [
      "\r",
      "Epoch 9/1000:   1%|          | 9/1000 [00:25<44:41,  2.71s/it, v_num=pu3z, train_loss_step=822, train_loss_epoch=1.16e+3]"
     ]
    },
    {
     "name": "stdout",
     "output_type": "stream",
     "text": [
      "\r",
      "Epoch 9/1000:   1%|          | 9/1000 [00:25<44:41,  2.71s/it, v_num=pu3z, train_loss_step=1.13e+3, train_loss_epoch=1.15e+3]"
     ]
    },
    {
     "name": "stdout",
     "output_type": "stream",
     "text": [
      "\r",
      "Epoch 10/1000:   1%|          | 9/1000 [00:25<44:41,  2.71s/it, v_num=pu3z, train_loss_step=1.13e+3, train_loss_epoch=1.15e+3]"
     ]
    },
    {
     "name": "stdout",
     "output_type": "stream",
     "text": [
      "\r",
      "Epoch 10/1000:   1%|          | 10/1000 [00:28<44:21,  2.69s/it, v_num=pu3z, train_loss_step=1.13e+3, train_loss_epoch=1.15e+3]"
     ]
    },
    {
     "name": "stdout",
     "output_type": "stream",
     "text": [
      "\r",
      "Epoch 10/1000:   1%|          | 10/1000 [00:28<44:21,  2.69s/it, v_num=pu3z, train_loss_step=984, train_loss_epoch=1.15e+3]    "
     ]
    },
    {
     "name": "stdout",
     "output_type": "stream",
     "text": [
      "\r",
      "Epoch 11/1000:   1%|          | 10/1000 [00:28<44:21,  2.69s/it, v_num=pu3z, train_loss_step=984, train_loss_epoch=1.15e+3]"
     ]
    },
    {
     "name": "stdout",
     "output_type": "stream",
     "text": [
      "\r",
      "Epoch 11/1000:   1%|          | 11/1000 [00:30<44:11,  2.68s/it, v_num=pu3z, train_loss_step=984, train_loss_epoch=1.15e+3]"
     ]
    },
    {
     "name": "stdout",
     "output_type": "stream",
     "text": [
      "\r",
      "Epoch 11/1000:   1%|          | 11/1000 [00:30<44:11,  2.68s/it, v_num=pu3z, train_loss_step=1.25e+3, train_loss_epoch=1.14e+3]"
     ]
    },
    {
     "name": "stdout",
     "output_type": "stream",
     "text": [
      "\r",
      "Epoch 12/1000:   1%|          | 11/1000 [00:30<44:11,  2.68s/it, v_num=pu3z, train_loss_step=1.25e+3, train_loss_epoch=1.14e+3]"
     ]
    },
    {
     "name": "stdout",
     "output_type": "stream",
     "text": [
      "\r",
      "Epoch 12/1000:   1%|          | 12/1000 [00:33<43:46,  2.66s/it, v_num=pu3z, train_loss_step=1.25e+3, train_loss_epoch=1.14e+3]"
     ]
    },
    {
     "name": "stdout",
     "output_type": "stream",
     "text": [
      "\r",
      "Epoch 12/1000:   1%|          | 12/1000 [00:33<43:46,  2.66s/it, v_num=pu3z, train_loss_step=1.17e+3, train_loss_epoch=1.14e+3]"
     ]
    },
    {
     "name": "stdout",
     "output_type": "stream",
     "text": [
      "\r",
      "Epoch 13/1000:   1%|          | 12/1000 [00:33<43:46,  2.66s/it, v_num=pu3z, train_loss_step=1.17e+3, train_loss_epoch=1.14e+3]"
     ]
    },
    {
     "name": "stdout",
     "output_type": "stream",
     "text": [
      "\r",
      "Epoch 13/1000:   1%|▏         | 13/1000 [00:36<43:43,  2.66s/it, v_num=pu3z, train_loss_step=1.17e+3, train_loss_epoch=1.14e+3]"
     ]
    },
    {
     "name": "stdout",
     "output_type": "stream",
     "text": [
      "\r",
      "Epoch 13/1000:   1%|▏         | 13/1000 [00:36<43:43,  2.66s/it, v_num=pu3z, train_loss_step=1.36e+3, train_loss_epoch=1.14e+3]"
     ]
    },
    {
     "name": "stdout",
     "output_type": "stream",
     "text": [
      "\r",
      "Epoch 14/1000:   1%|▏         | 13/1000 [00:36<43:43,  2.66s/it, v_num=pu3z, train_loss_step=1.36e+3, train_loss_epoch=1.14e+3]"
     ]
    },
    {
     "name": "stdout",
     "output_type": "stream",
     "text": [
      "\r",
      "Epoch 14/1000:   1%|▏         | 14/1000 [00:38<43:17,  2.63s/it, v_num=pu3z, train_loss_step=1.36e+3, train_loss_epoch=1.14e+3]"
     ]
    },
    {
     "name": "stdout",
     "output_type": "stream",
     "text": [
      "\r",
      "Epoch 14/1000:   1%|▏         | 14/1000 [00:38<43:17,  2.63s/it, v_num=pu3z, train_loss_step=960, train_loss_epoch=1.14e+3]    "
     ]
    },
    {
     "name": "stdout",
     "output_type": "stream",
     "text": [
      "\r",
      "Epoch 15/1000:   1%|▏         | 14/1000 [00:38<43:17,  2.63s/it, v_num=pu3z, train_loss_step=960, train_loss_epoch=1.14e+3]"
     ]
    },
    {
     "name": "stdout",
     "output_type": "stream",
     "text": [
      "\r",
      "Epoch 15/1000:   2%|▏         | 15/1000 [00:41<42:48,  2.61s/it, v_num=pu3z, train_loss_step=960, train_loss_epoch=1.14e+3]"
     ]
    },
    {
     "name": "stdout",
     "output_type": "stream",
     "text": [
      "\r",
      "Epoch 15/1000:   2%|▏         | 15/1000 [00:41<42:48,  2.61s/it, v_num=pu3z, train_loss_step=1.35e+3, train_loss_epoch=1.13e+3]"
     ]
    },
    {
     "name": "stdout",
     "output_type": "stream",
     "text": [
      "\r",
      "Epoch 16/1000:   2%|▏         | 15/1000 [00:41<42:48,  2.61s/it, v_num=pu3z, train_loss_step=1.35e+3, train_loss_epoch=1.13e+3]"
     ]
    },
    {
     "name": "stdout",
     "output_type": "stream",
     "text": [
      "\r",
      "Epoch 16/1000:   2%|▏         | 16/1000 [00:43<41:49,  2.55s/it, v_num=pu3z, train_loss_step=1.35e+3, train_loss_epoch=1.13e+3]"
     ]
    },
    {
     "name": "stdout",
     "output_type": "stream",
     "text": [
      "\r",
      "Epoch 16/1000:   2%|▏         | 16/1000 [00:43<41:49,  2.55s/it, v_num=pu3z, train_loss_step=1.32e+3, train_loss_epoch=1.13e+3]"
     ]
    },
    {
     "name": "stdout",
     "output_type": "stream",
     "text": [
      "\r",
      "Epoch 17/1000:   2%|▏         | 16/1000 [00:43<41:49,  2.55s/it, v_num=pu3z, train_loss_step=1.32e+3, train_loss_epoch=1.13e+3]"
     ]
    },
    {
     "name": "stdout",
     "output_type": "stream",
     "text": [
      "\r",
      "Epoch 17/1000:   2%|▏         | 17/1000 [00:46<41:23,  2.53s/it, v_num=pu3z, train_loss_step=1.32e+3, train_loss_epoch=1.13e+3]"
     ]
    },
    {
     "name": "stdout",
     "output_type": "stream",
     "text": [
      "\r",
      "Epoch 17/1000:   2%|▏         | 17/1000 [00:46<41:23,  2.53s/it, v_num=pu3z, train_loss_step=849, train_loss_epoch=1.13e+3]    "
     ]
    },
    {
     "name": "stdout",
     "output_type": "stream",
     "text": [
      "\r",
      "Epoch 18/1000:   2%|▏         | 17/1000 [00:46<41:23,  2.53s/it, v_num=pu3z, train_loss_step=849, train_loss_epoch=1.13e+3]"
     ]
    },
    {
     "name": "stdout",
     "output_type": "stream",
     "text": [
      "\r",
      "Epoch 18/1000:   2%|▏         | 18/1000 [00:48<41:08,  2.51s/it, v_num=pu3z, train_loss_step=849, train_loss_epoch=1.13e+3]"
     ]
    },
    {
     "name": "stdout",
     "output_type": "stream",
     "text": [
      "\r",
      "Epoch 18/1000:   2%|▏         | 18/1000 [00:48<41:08,  2.51s/it, v_num=pu3z, train_loss_step=1.2e+3, train_loss_epoch=1.12e+3]"
     ]
    },
    {
     "name": "stdout",
     "output_type": "stream",
     "text": [
      "\r",
      "Epoch 19/1000:   2%|▏         | 18/1000 [00:48<41:08,  2.51s/it, v_num=pu3z, train_loss_step=1.2e+3, train_loss_epoch=1.12e+3]"
     ]
    },
    {
     "name": "stdout",
     "output_type": "stream",
     "text": [
      "\r",
      "Epoch 19/1000:   2%|▏         | 19/1000 [00:51<41:16,  2.52s/it, v_num=pu3z, train_loss_step=1.2e+3, train_loss_epoch=1.12e+3]"
     ]
    },
    {
     "name": "stdout",
     "output_type": "stream",
     "text": [
      "\r",
      "Epoch 19/1000:   2%|▏         | 19/1000 [00:51<41:16,  2.52s/it, v_num=pu3z, train_loss_step=1.37e+3, train_loss_epoch=1.12e+3]"
     ]
    },
    {
     "name": "stdout",
     "output_type": "stream",
     "text": [
      "\r",
      "Epoch 20/1000:   2%|▏         | 19/1000 [00:51<41:16,  2.52s/it, v_num=pu3z, train_loss_step=1.37e+3, train_loss_epoch=1.12e+3]"
     ]
    },
    {
     "name": "stdout",
     "output_type": "stream",
     "text": [
      "\r",
      "Epoch 20/1000:   2%|▏         | 20/1000 [00:53<40:46,  2.50s/it, v_num=pu3z, train_loss_step=1.37e+3, train_loss_epoch=1.12e+3]"
     ]
    },
    {
     "name": "stdout",
     "output_type": "stream",
     "text": [
      "\r",
      "Epoch 20/1000:   2%|▏         | 20/1000 [00:53<40:46,  2.50s/it, v_num=pu3z, train_loss_step=1.17e+3, train_loss_epoch=1.12e+3]"
     ]
    },
    {
     "name": "stdout",
     "output_type": "stream",
     "text": [
      "\r",
      "Epoch 21/1000:   2%|▏         | 20/1000 [00:53<40:46,  2.50s/it, v_num=pu3z, train_loss_step=1.17e+3, train_loss_epoch=1.12e+3]"
     ]
    },
    {
     "name": "stdout",
     "output_type": "stream",
     "text": [
      "\r",
      "Epoch 21/1000:   2%|▏         | 21/1000 [00:55<40:20,  2.47s/it, v_num=pu3z, train_loss_step=1.17e+3, train_loss_epoch=1.12e+3]"
     ]
    },
    {
     "name": "stdout",
     "output_type": "stream",
     "text": [
      "\r",
      "Epoch 21/1000:   2%|▏         | 21/1000 [00:55<40:20,  2.47s/it, v_num=pu3z, train_loss_step=980, train_loss_epoch=1.12e+3]    "
     ]
    },
    {
     "name": "stdout",
     "output_type": "stream",
     "text": [
      "\r",
      "Epoch 22/1000:   2%|▏         | 21/1000 [00:55<40:20,  2.47s/it, v_num=pu3z, train_loss_step=980, train_loss_epoch=1.12e+3]"
     ]
    },
    {
     "name": "stdout",
     "output_type": "stream",
     "text": [
      "\r",
      "Epoch 22/1000:   2%|▏         | 22/1000 [00:58<40:41,  2.50s/it, v_num=pu3z, train_loss_step=980, train_loss_epoch=1.12e+3]"
     ]
    },
    {
     "name": "stdout",
     "output_type": "stream",
     "text": [
      "\r",
      "Epoch 22/1000:   2%|▏         | 22/1000 [00:58<40:41,  2.50s/it, v_num=pu3z, train_loss_step=1.51e+3, train_loss_epoch=1.12e+3]"
     ]
    },
    {
     "name": "stdout",
     "output_type": "stream",
     "text": [
      "\r",
      "Epoch 23/1000:   2%|▏         | 22/1000 [00:58<40:41,  2.50s/it, v_num=pu3z, train_loss_step=1.51e+3, train_loss_epoch=1.12e+3]"
     ]
    },
    {
     "name": "stdout",
     "output_type": "stream",
     "text": [
      "\r",
      "Epoch 23/1000:   2%|▏         | 23/1000 [01:00<40:11,  2.47s/it, v_num=pu3z, train_loss_step=1.51e+3, train_loss_epoch=1.12e+3]"
     ]
    },
    {
     "name": "stdout",
     "output_type": "stream",
     "text": [
      "\r",
      "Epoch 23/1000:   2%|▏         | 23/1000 [01:00<40:11,  2.47s/it, v_num=pu3z, train_loss_step=1.41e+3, train_loss_epoch=1.11e+3]"
     ]
    },
    {
     "name": "stdout",
     "output_type": "stream",
     "text": [
      "\r",
      "Epoch 24/1000:   2%|▏         | 23/1000 [01:00<40:11,  2.47s/it, v_num=pu3z, train_loss_step=1.41e+3, train_loss_epoch=1.11e+3]"
     ]
    },
    {
     "name": "stdout",
     "output_type": "stream",
     "text": [
      "\r",
      "Epoch 24/1000:   2%|▏         | 24/1000 [01:03<39:45,  2.44s/it, v_num=pu3z, train_loss_step=1.41e+3, train_loss_epoch=1.11e+3]"
     ]
    },
    {
     "name": "stdout",
     "output_type": "stream",
     "text": [
      "\r",
      "Epoch 24/1000:   2%|▏         | 24/1000 [01:03<39:45,  2.44s/it, v_num=pu3z, train_loss_step=1.47e+3, train_loss_epoch=1.11e+3]"
     ]
    },
    {
     "name": "stdout",
     "output_type": "stream",
     "text": [
      "\r",
      "Epoch 25/1000:   2%|▏         | 24/1000 [01:03<39:45,  2.44s/it, v_num=pu3z, train_loss_step=1.47e+3, train_loss_epoch=1.11e+3]"
     ]
    },
    {
     "name": "stdout",
     "output_type": "stream",
     "text": [
      "\r",
      "Epoch 25/1000:   2%|▎         | 25/1000 [01:05<39:07,  2.41s/it, v_num=pu3z, train_loss_step=1.47e+3, train_loss_epoch=1.11e+3]"
     ]
    },
    {
     "name": "stdout",
     "output_type": "stream",
     "text": [
      "\r",
      "Epoch 25/1000:   2%|▎         | 25/1000 [01:05<39:07,  2.41s/it, v_num=pu3z, train_loss_step=910, train_loss_epoch=1.11e+3]    "
     ]
    },
    {
     "name": "stdout",
     "output_type": "stream",
     "text": [
      "\r",
      "Epoch 26/1000:   2%|▎         | 25/1000 [01:05<39:07,  2.41s/it, v_num=pu3z, train_loss_step=910, train_loss_epoch=1.11e+3]"
     ]
    },
    {
     "name": "stdout",
     "output_type": "stream",
     "text": [
      "\r",
      "Epoch 26/1000:   3%|▎         | 26/1000 [01:07<38:40,  2.38s/it, v_num=pu3z, train_loss_step=910, train_loss_epoch=1.11e+3]"
     ]
    },
    {
     "name": "stdout",
     "output_type": "stream",
     "text": [
      "\r",
      "Epoch 26/1000:   3%|▎         | 26/1000 [01:07<38:40,  2.38s/it, v_num=pu3z, train_loss_step=1.32e+3, train_loss_epoch=1.11e+3]"
     ]
    },
    {
     "name": "stdout",
     "output_type": "stream",
     "text": [
      "\r",
      "Epoch 27/1000:   3%|▎         | 26/1000 [01:07<38:40,  2.38s/it, v_num=pu3z, train_loss_step=1.32e+3, train_loss_epoch=1.11e+3]"
     ]
    },
    {
     "name": "stdout",
     "output_type": "stream",
     "text": [
      "\r",
      "Epoch 27/1000:   3%|▎         | 27/1000 [01:10<38:19,  2.36s/it, v_num=pu3z, train_loss_step=1.32e+3, train_loss_epoch=1.11e+3]"
     ]
    },
    {
     "name": "stdout",
     "output_type": "stream",
     "text": [
      "\r",
      "Epoch 27/1000:   3%|▎         | 27/1000 [01:10<38:19,  2.36s/it, v_num=pu3z, train_loss_step=1.07e+3, train_loss_epoch=1.11e+3]"
     ]
    },
    {
     "name": "stdout",
     "output_type": "stream",
     "text": [
      "\r",
      "Epoch 28/1000:   3%|▎         | 27/1000 [01:10<38:19,  2.36s/it, v_num=pu3z, train_loss_step=1.07e+3, train_loss_epoch=1.11e+3]"
     ]
    },
    {
     "name": "stdout",
     "output_type": "stream",
     "text": [
      "\r",
      "Epoch 28/1000:   3%|▎         | 28/1000 [01:12<38:12,  2.36s/it, v_num=pu3z, train_loss_step=1.07e+3, train_loss_epoch=1.11e+3]"
     ]
    },
    {
     "name": "stdout",
     "output_type": "stream",
     "text": [
      "\r",
      "Epoch 28/1000:   3%|▎         | 28/1000 [01:12<38:12,  2.36s/it, v_num=pu3z, train_loss_step=1.17e+3, train_loss_epoch=1.1e+3] "
     ]
    },
    {
     "name": "stdout",
     "output_type": "stream",
     "text": [
      "\r",
      "Epoch 29/1000:   3%|▎         | 28/1000 [01:12<38:12,  2.36s/it, v_num=pu3z, train_loss_step=1.17e+3, train_loss_epoch=1.1e+3]"
     ]
    },
    {
     "name": "stdout",
     "output_type": "stream",
     "text": [
      "\r",
      "Epoch 29/1000:   3%|▎         | 29/1000 [01:15<38:54,  2.40s/it, v_num=pu3z, train_loss_step=1.17e+3, train_loss_epoch=1.1e+3]"
     ]
    },
    {
     "name": "stdout",
     "output_type": "stream",
     "text": [
      "\r",
      "Epoch 29/1000:   3%|▎         | 29/1000 [01:15<38:54,  2.40s/it, v_num=pu3z, train_loss_step=960, train_loss_epoch=1.1e+3]    "
     ]
    },
    {
     "name": "stdout",
     "output_type": "stream",
     "text": [
      "\r",
      "Epoch 30/1000:   3%|▎         | 29/1000 [01:15<38:54,  2.40s/it, v_num=pu3z, train_loss_step=960, train_loss_epoch=1.1e+3]"
     ]
    },
    {
     "name": "stdout",
     "output_type": "stream",
     "text": [
      "\r",
      "Epoch 30/1000:   3%|▎         | 30/1000 [01:17<39:09,  2.42s/it, v_num=pu3z, train_loss_step=960, train_loss_epoch=1.1e+3]"
     ]
    },
    {
     "name": "stdout",
     "output_type": "stream",
     "text": [
      "\r",
      "Epoch 30/1000:   3%|▎         | 30/1000 [01:17<39:09,  2.42s/it, v_num=pu3z, train_loss_step=1.15e+3, train_loss_epoch=1.1e+3]"
     ]
    },
    {
     "name": "stdout",
     "output_type": "stream",
     "text": [
      "\r",
      "Epoch 30/1000:   3%|▎         | 30/1000 [01:17<41:49,  2.59s/it, v_num=pu3z, train_loss_step=1.15e+3, train_loss_epoch=1.1e+3]"
     ]
    },
    {
     "name": "stdout",
     "output_type": "stream",
     "text": [
      "\n",
      "Monitored metric reconstruction_loss_validation did not improve in the last 10 records. Best score: 1146.484. Signaling Trainer to stop.\n"
     ]
    }
   ],
   "source": [
    "model.train(logger=logger, plan_kwargs = plan_kwargs, **trainer_kwargs)"
   ]
  },
  {
   "cell_type": "code",
   "execution_count": 15,
   "id": "c282f6eb-0ad1-40a5-81e6-1acda1545dad",
   "metadata": {
    "execution": {
     "iopub.execute_input": "2024-04-30T10:13:42.890485Z",
     "iopub.status.busy": "2024-04-30T10:13:42.889855Z",
     "iopub.status.idle": "2024-04-30T10:13:47.968696Z",
     "shell.execute_reply": "2024-04-30T10:13:47.968025Z"
    },
    "papermill": {
     "duration": 5.091267,
     "end_time": "2024-04-30T10:13:47.970714",
     "exception": false,
     "start_time": "2024-04-30T10:13:42.879447",
     "status": "completed"
    },
    "tags": []
   },
   "outputs": [
    {
     "name": "stderr",
     "output_type": "stream",
     "text": [
      "\u001b[34m\u001b[1mwandb\u001b[0m: - 0.003 MB of 0.003 MB uploaded\r"
     ]
    },
    {
     "name": "stderr",
     "output_type": "stream",
     "text": [
      "\u001b[34m\u001b[1mwandb\u001b[0m: \\ 0.003 MB of 0.003 MB uploaded\r"
     ]
    },
    {
     "name": "stderr",
     "output_type": "stream",
     "text": [
      "\u001b[34m\u001b[1mwandb\u001b[0m: | 0.009 MB of 0.009 MB uploaded\r"
     ]
    },
    {
     "name": "stderr",
     "output_type": "stream",
     "text": [
      "\u001b[34m\u001b[1mwandb\u001b[0m:                                                                                \n"
     ]
    },
    {
     "name": "stderr",
     "output_type": "stream",
     "text": [
      "\u001b[34m\u001b[1mwandb\u001b[0m: \n",
      "\u001b[34m\u001b[1mwandb\u001b[0m: Run history:\n",
      "\u001b[34m\u001b[1mwandb\u001b[0m:                     elbo_train █▆▆▆▅▅▅▄▄▄▄▄▃▃▃▃▃▂▂▂▂▂▂▂▂▁▁▁▁▁\n",
      "\u001b[34m\u001b[1mwandb\u001b[0m:                elbo_validation █▄▄▄▄▃▃▂▂▂▂▁▁▁▁▁▁▁▁▁▁▁▁▁▁▁▂▁▁▁\n",
      "\u001b[34m\u001b[1mwandb\u001b[0m:                          epoch ▁▁▁▁▂▂▂▂▂▂▃▃▃▃▃▄▄▄▄▄▅▅▅▅▅▆▆▆▆▆▇▇▇▇▇▇████\n",
      "\u001b[34m\u001b[1mwandb\u001b[0m:                kl_global_train ▁▁▁▁▁▁▁▁▁▁▁▁▁▁▁▁▁▁▁▁▁▁▁▁▁▁▁▁▁▁\n",
      "\u001b[34m\u001b[1mwandb\u001b[0m:           kl_global_validation ▁▁▁▁▁▁▁▁▁▁▁▁▁▁▁▁▁▁▁▁▁▁▁▁▁▁▁▁▁▁\n",
      "\u001b[34m\u001b[1mwandb\u001b[0m:                 kl_local_train ▁▅▇████▇▇▇▇▆▆▆▆▆▆▆▆▆▆▆▆▆▅▅▅▅▅▅\n",
      "\u001b[34m\u001b[1mwandb\u001b[0m:            kl_local_validation ▁▅▇███▇▇▇▇▆▆▆▆▆▆▆▆▆▆▆▆▆▆▆▆▆▆▆▆\n",
      "\u001b[34m\u001b[1mwandb\u001b[0m:                      kl_weight ▁▁▁▁▂▂▂▂▂▃▃▃▃▃▃▄▄▄▄▄▅▅▅▅▅▆▆▆▆▆▆▇▇▇▇▇████\n",
      "\u001b[34m\u001b[1mwandb\u001b[0m:      reconstruction_loss_train █▅▅▅▄▄▄▄▄▃▃▃▃▃▃▂▂▂▂▂▂▂▂▂▁▁▁▁▁▁\n",
      "\u001b[34m\u001b[1mwandb\u001b[0m: reconstruction_loss_validation █▄▃▂▂▂▂▁▁▁▁▁▁▁▁▁▁▁▁▁▁▁▁▁▁▁▂▁▁▁\n",
      "\u001b[34m\u001b[1mwandb\u001b[0m:               train_loss_epoch █▅▅▅▄▄▄▄▃▃▃▃▃▃▃▂▂▂▂▂▂▂▂▂▁▁▁▁▁▁\n",
      "\u001b[34m\u001b[1mwandb\u001b[0m:                train_loss_step █▆▆▆▅▄▆▇▇▅▇▅▅▁▆▅▅▅▆▄▄▄▄▅▆▄▆▃▄▅▆▄▄▄▄▅▅▃▄▅\n",
      "\u001b[34m\u001b[1mwandb\u001b[0m:            trainer/global_step ▁▁▁▂▂▂▂▂▂▃▃▃▃▃▃▄▄▄▄▄▅▅▅▅▅▅▆▆▆▆▆▇▇▇▇▇▇███\n",
      "\u001b[34m\u001b[1mwandb\u001b[0m:                validation_loss █▄▃▂▂▂▂▁▁▁▁▁▁▁▁▁▁▁▁▁▁▁▁▁▁▁▂▁▁▁\n",
      "\u001b[34m\u001b[1mwandb\u001b[0m: \n",
      "\u001b[34m\u001b[1mwandb\u001b[0m: Run summary:\n",
      "\u001b[34m\u001b[1mwandb\u001b[0m:                     elbo_train 1143.8783\n",
      "\u001b[34m\u001b[1mwandb\u001b[0m:                elbo_validation 1192.50305\n",
      "\u001b[34m\u001b[1mwandb\u001b[0m:                          epoch 29\n",
      "\u001b[34m\u001b[1mwandb\u001b[0m:                kl_global_train 0.0\n",
      "\u001b[34m\u001b[1mwandb\u001b[0m:           kl_global_validation 0.0\n",
      "\u001b[34m\u001b[1mwandb\u001b[0m:                 kl_local_train 46.207\n",
      "\u001b[34m\u001b[1mwandb\u001b[0m:            kl_local_validation 42.64249\n",
      "\u001b[34m\u001b[1mwandb\u001b[0m:                      kl_weight 0.0725\n",
      "\u001b[34m\u001b[1mwandb\u001b[0m:      reconstruction_loss_train 1097.67126\n",
      "\u001b[34m\u001b[1mwandb\u001b[0m: reconstruction_loss_validation 1149.8606\n",
      "\u001b[34m\u001b[1mwandb\u001b[0m:               train_loss_epoch 1101.02124\n",
      "\u001b[34m\u001b[1mwandb\u001b[0m:                train_loss_step 1148.93433\n",
      "\u001b[34m\u001b[1mwandb\u001b[0m:            trainer/global_step 4919\n",
      "\u001b[34m\u001b[1mwandb\u001b[0m:                validation_loss 1152.95227\n",
      "\u001b[34m\u001b[1mwandb\u001b[0m: \n"
     ]
    },
    {
     "name": "stderr",
     "output_type": "stream",
     "text": [
      "\u001b[34m\u001b[1mwandb\u001b[0m: 🚀 View run \u001b[33mStep2_pDC\u001b[0m at: \u001b[34m\u001b[4mhttps://wandb.ai/inflammation/inflammation_atlas_R1/runs/zzjppu3z\u001b[0m\n",
      "\u001b[34m\u001b[1mwandb\u001b[0m: Synced 5 W&B file(s), 0 media file(s), 0 artifact file(s) and 0 other file(s)\n"
     ]
    },
    {
     "name": "stderr",
     "output_type": "stream",
     "text": [
      "\u001b[34m\u001b[1mwandb\u001b[0m: Find logs at: \u001b[35m\u001b[1m./wandb/run-20240430_101224-zzjppu3z/logs\u001b[0m\n"
     ]
    }
   ],
   "source": [
    "wandb.finish()"
   ]
  },
  {
   "cell_type": "markdown",
   "id": "d9fb1179-83c7-4ac6-b4aa-92dc7a349801",
   "metadata": {
    "papermill": {
     "duration": 0.009282,
     "end_time": "2024-04-30T10:13:47.989690",
     "exception": false,
     "start_time": "2024-04-30T10:13:47.980408",
     "status": "completed"
    },
    "tags": []
   },
   "source": [
    "### Extracting embedding space"
   ]
  },
  {
   "cell_type": "code",
   "execution_count": 16,
   "id": "caaa5832-0123-4c59-8ec6-f46a75f7a14e",
   "metadata": {
    "execution": {
     "iopub.execute_input": "2024-04-30T10:13:48.009668Z",
     "iopub.status.busy": "2024-04-30T10:13:48.009382Z",
     "iopub.status.idle": "2024-04-30T10:13:48.965929Z",
     "shell.execute_reply": "2024-04-30T10:13:48.965059Z"
    },
    "papermill": {
     "duration": 0.96937,
     "end_time": "2024-04-30T10:13:48.968366",
     "exception": false,
     "start_time": "2024-04-30T10:13:47.998996",
     "status": "completed"
    },
    "tags": []
   },
   "outputs": [],
   "source": [
    "adata.obsm['X_scVI'] = model.get_latent_representation()"
   ]
  },
  {
   "cell_type": "markdown",
   "id": "2f03e70b-839c-40a6-9fbb-d76bbd787419",
   "metadata": {
    "papermill": {
     "duration": 0.009168,
     "end_time": "2024-04-30T10:13:48.987371",
     "exception": false,
     "start_time": "2024-04-30T10:13:48.978203",
     "status": "completed"
    },
    "tags": []
   },
   "source": [
    "## Save the results"
   ]
  },
  {
   "cell_type": "code",
   "execution_count": 17,
   "id": "7b04049b-47fd-4b62-a1c0-c43dcc086d34",
   "metadata": {
    "execution": {
     "iopub.execute_input": "2024-04-30T10:13:49.006724Z",
     "iopub.status.busy": "2024-04-30T10:13:49.006430Z",
     "iopub.status.idle": "2024-04-30T10:13:53.288241Z",
     "shell.execute_reply": "2024-04-30T10:13:53.287406Z"
    },
    "papermill": {
     "duration": 4.293949,
     "end_time": "2024-04-30T10:13:53.290271",
     "exception": false,
     "start_time": "2024-04-30T10:13:48.996322",
     "status": "completed"
    },
    "tags": []
   },
   "outputs": [],
   "source": [
    "if overwriteData:\n",
    "    adata.write(here(f\"{workDir}/{cellGroup}/results/02_{annotationLevel}_{cellGroup}_HVGsubset_scVI.h5ad\"), compression=\"gzip\")\n",
    "    model.save(here(f\"{workDir}/{cellGroup}/results/02_{annotationLevel}_{cellGroup}_HVGsubset_scVI_MODEL/\"),\n",
    "               overwrite = True, \n",
    "               save_anndata = False )   "
   ]
  },
  {
   "cell_type": "code",
   "execution_count": 18,
   "id": "629ba2bd-f6be-44ef-8fca-bbdf891bf25f",
   "metadata": {
    "execution": {
     "iopub.execute_input": "2024-04-30T10:13:53.311367Z",
     "iopub.status.busy": "2024-04-30T10:13:53.311070Z",
     "iopub.status.idle": "2024-04-30T10:13:53.314658Z",
     "shell.execute_reply": "2024-04-30T10:13:53.313940Z"
    },
    "papermill": {
     "duration": 0.016187,
     "end_time": "2024-04-30T10:13:53.316481",
     "exception": false,
     "start_time": "2024-04-30T10:13:53.300294",
     "status": "completed"
    },
    "tags": []
   },
   "outputs": [],
   "source": [
    "# To load the model do (after loading corresponding adata):\n",
    "# model = scvi.model.SCVI.load(here('{}/results/01_{}_HVGsubset_scVI_MODEL/'.format(workDir, cellGroup)), \n",
    "#                              adata, \n",
    "#                              use_gpu=True)"
   ]
  },
  {
   "cell_type": "raw",
   "id": "975e84d0-f56b-498d-b3a8-c9219cf22e53",
   "metadata": {
    "papermill": {
     "duration": 0.008986,
     "end_time": "2024-04-30T10:13:53.334679",
     "exception": false,
     "start_time": "2024-04-30T10:13:53.325693",
     "status": "completed"
    },
    "tags": []
   },
   "source": [
    "session_info.show()"
   ]
  }
 ],
 "metadata": {
  "kernelspec": {
   "display_name": "Python 3 (ipykernel)",
   "language": "python",
   "name": "python3"
  },
  "language_info": {
   "codemirror_mode": {
    "name": "ipython",
    "version": 3
   },
   "file_extension": ".py",
   "mimetype": "text/x-python",
   "name": "python",
   "nbconvert_exporter": "python",
   "pygments_lexer": "ipython3",
   "version": "3.9.18"
  },
  "papermill": {
   "default_parameters": {},
   "duration": 106.286137,
   "end_time": "2024-04-30T10:13:56.841506",
   "environment_variables": {},
   "exception": null,
   "input_path": "./pDC/02_integration_scVI.ipynb",
   "output_path": "./pDC/02_integration_scVI_executed.ipynb",
   "parameters": {},
   "start_time": "2024-04-30T10:12:10.555369",
   "version": "2.5.0"
  }
 },
 "nbformat": 4,
 "nbformat_minor": 5
}