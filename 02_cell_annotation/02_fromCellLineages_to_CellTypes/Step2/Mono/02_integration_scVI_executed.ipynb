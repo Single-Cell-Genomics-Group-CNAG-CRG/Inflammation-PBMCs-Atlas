{
 "cells": [
  {
   "cell_type": "code",
   "execution_count": 1,
   "id": "2dd1425a-0c07-465e-b522-9e3cc5cb93a7",
   "metadata": {
    "execution": {
     "iopub.execute_input": "2024-04-30T08:56:00.892676Z",
     "iopub.status.busy": "2024-04-30T08:56:00.891888Z",
     "iopub.status.idle": "2024-04-30T08:56:06.557218Z",
     "shell.execute_reply": "2024-04-30T08:56:06.556502Z"
    },
    "papermill": {
     "duration": 5.67296,
     "end_time": "2024-04-30T08:56:06.559075",
     "exception": false,
     "start_time": "2024-04-30T08:56:00.886115",
     "status": "completed"
    },
    "tags": []
   },
   "outputs": [
    {
     "data": {
      "text/plain": [
       "True"
      ]
     },
     "execution_count": 1,
     "metadata": {},
     "output_type": "execute_result"
    }
   ],
   "source": [
    "import os\n",
    "import sys\n",
    "\n",
    "import numpy as np\n",
    "import matplotlib.pyplot as plt\n",
    "\n",
    "import scanpy as sc\n",
    "import scvi\n",
    "import torch\n",
    "\n",
    "from pytorch_lightning.loggers import WandbLogger\n",
    "import wandb\n",
    "from dotenv import load_dotenv\n",
    "\n",
    "import session_info\n",
    "import warnings\n",
    "from pyprojroot.here import here\n",
    "\n",
    "warnings.filterwarnings(\"ignore\")\n",
    "sys.path.insert(1, str(here('bin')))\n",
    "\n",
    "torch.set_float32_matmul_precision('high')\n",
    "\n",
    "#plt.style.use(['science','nature','no-latex'])\n",
    "dpi_fig_save = 300\n",
    "sc.set_figure_params(dpi=100, dpi_save=dpi_fig_save, vector_friendly=True)\n",
    "\n",
    "load_dotenv(here('.env'))"
   ]
  },
  {
   "cell_type": "code",
   "execution_count": 2,
   "id": "09c897fc-744b-43de-a681-718fb5d327fa",
   "metadata": {
    "execution": {
     "iopub.execute_input": "2024-04-30T08:56:06.570192Z",
     "iopub.status.busy": "2024-04-30T08:56:06.569858Z",
     "iopub.status.idle": "2024-04-30T08:56:06.573933Z",
     "shell.execute_reply": "2024-04-30T08:56:06.573345Z"
    },
    "papermill": {
     "duration": 0.010569,
     "end_time": "2024-04-30T08:56:06.575559",
     "exception": false,
     "start_time": "2024-04-30T08:56:06.564990",
     "status": "completed"
    },
    "tags": []
   },
   "outputs": [],
   "source": [
    "class CustomWandbLogger(WandbLogger):\n",
    "    @property\n",
    "    def save_dir(self):\n",
    "        return self.experiment.dir"
   ]
  },
  {
   "cell_type": "code",
   "execution_count": 3,
   "id": "8ee6662f-5d45-4137-80a5-bb0b9ae8d71f",
   "metadata": {
    "execution": {
     "iopub.execute_input": "2024-04-30T08:56:06.583820Z",
     "iopub.status.busy": "2024-04-30T08:56:06.583522Z",
     "iopub.status.idle": "2024-04-30T08:56:06.589693Z",
     "shell.execute_reply": "2024-04-30T08:56:06.589092Z"
    },
    "papermill": {
     "duration": 0.012499,
     "end_time": "2024-04-30T08:56:06.591318",
     "exception": false,
     "start_time": "2024-04-30T08:56:06.578819",
     "status": "completed"
    },
    "tags": []
   },
   "outputs": [
    {
     "name": "stderr",
     "output_type": "stream",
     "text": [
      "Seed set to 0\n"
     ]
    },
    {
     "name": "stdout",
     "output_type": "stream",
     "text": [
      "Last run with scvi-tools version: 1.1.2\n"
     ]
    }
   ],
   "source": [
    "scvi.settings.seed = 0\n",
    "print(\"Last run with scvi-tools version:\", scvi.__version__)"
   ]
  },
  {
   "cell_type": "markdown",
   "id": "a81037ff-5998-482a-ba86-520f757311a9",
   "metadata": {
    "papermill": {
     "duration": 0.003744,
     "end_time": "2024-04-30T08:56:06.598721",
     "exception": false,
     "start_time": "2024-04-30T08:56:06.594977",
     "status": "completed"
    },
    "tags": []
   },
   "source": [
    "**Setting parameters** "
   ]
  },
  {
   "cell_type": "code",
   "execution_count": 4,
   "id": "56c27966-8f10-4c93-8b1a-1fa75f005e41",
   "metadata": {
    "execution": {
     "iopub.execute_input": "2024-04-30T08:56:06.607634Z",
     "iopub.status.busy": "2024-04-30T08:56:06.607337Z",
     "iopub.status.idle": "2024-04-30T08:56:06.610928Z",
     "shell.execute_reply": "2024-04-30T08:56:06.610240Z"
    },
    "papermill": {
     "duration": 0.01031,
     "end_time": "2024-04-30T08:56:06.612831",
     "exception": false,
     "start_time": "2024-04-30T08:56:06.602521",
     "status": "completed"
    },
    "tags": []
   },
   "outputs": [],
   "source": [
    "overwriteFigures = True\n",
    "overwriteData = True"
   ]
  },
  {
   "cell_type": "code",
   "execution_count": 5,
   "id": "c86fccd3-a4fe-415b-8f4e-e2ceb3ec128a",
   "metadata": {
    "execution": {
     "iopub.execute_input": "2024-04-30T08:56:06.621906Z",
     "iopub.status.busy": "2024-04-30T08:56:06.621590Z",
     "iopub.status.idle": "2024-04-30T08:56:06.625227Z",
     "shell.execute_reply": "2024-04-30T08:56:06.624631Z"
    },
    "papermill": {
     "duration": 0.009906,
     "end_time": "2024-04-30T08:56:06.626835",
     "exception": false,
     "start_time": "2024-04-30T08:56:06.616929",
     "status": "completed"
    },
    "tags": []
   },
   "outputs": [],
   "source": [
    "cellGroup = 'Mono'\n",
    "workDir = os.getcwd()"
   ]
  },
  {
   "cell_type": "code",
   "execution_count": 6,
   "id": "2dee4d55-d168-467b-b867-a61fed9d6af1",
   "metadata": {
    "execution": {
     "iopub.execute_input": "2024-04-30T08:56:06.635556Z",
     "iopub.status.busy": "2024-04-30T08:56:06.635269Z",
     "iopub.status.idle": "2024-04-30T08:56:06.639154Z",
     "shell.execute_reply": "2024-04-30T08:56:06.638533Z"
    },
    "papermill": {
     "duration": 0.010441,
     "end_time": "2024-04-30T08:56:06.640871",
     "exception": false,
     "start_time": "2024-04-30T08:56:06.630430",
     "status": "completed"
    },
    "tags": []
   },
   "outputs": [],
   "source": [
    "annotationLevel = os.path.basename(os.path.normpath(workDir))"
   ]
  },
  {
   "cell_type": "code",
   "execution_count": 7,
   "id": "11e53cd5-b746-4152-89cb-c2f0c15d90b3",
   "metadata": {
    "execution": {
     "iopub.execute_input": "2024-04-30T08:56:06.649639Z",
     "iopub.status.busy": "2024-04-30T08:56:06.649369Z",
     "iopub.status.idle": "2024-04-30T08:56:06.654103Z",
     "shell.execute_reply": "2024-04-30T08:56:06.653506Z"
    },
    "papermill": {
     "duration": 0.011114,
     "end_time": "2024-04-30T08:56:06.655813",
     "exception": false,
     "start_time": "2024-04-30T08:56:06.644699",
     "status": "completed"
    },
    "tags": []
   },
   "outputs": [
    {
     "data": {
      "text/plain": [
       "'/home/jupyter/Inflammation-PBMCs-Atlas/02_cell_annotation/02_fromCellLineages_to_CellTypes/Step2'"
      ]
     },
     "execution_count": 7,
     "metadata": {},
     "output_type": "execute_result"
    }
   ],
   "source": [
    "workDir"
   ]
  },
  {
   "cell_type": "markdown",
   "id": "171d2f06-9a44-4fcb-b437-35dc546674b6",
   "metadata": {
    "papermill": {
     "duration": 0.004032,
     "end_time": "2024-04-30T08:56:06.663640",
     "exception": false,
     "start_time": "2024-04-30T08:56:06.659608",
     "status": "completed"
    },
    "tags": []
   },
   "source": [
    "**Load data**"
   ]
  },
  {
   "cell_type": "code",
   "execution_count": 8,
   "id": "429f34fe-dde6-4cc9-9f75-7de8f85c5ffe",
   "metadata": {
    "execution": {
     "iopub.execute_input": "2024-04-30T08:56:06.672789Z",
     "iopub.status.busy": "2024-04-30T08:56:06.672472Z",
     "iopub.status.idle": "2024-04-30T08:56:34.957553Z",
     "shell.execute_reply": "2024-04-30T08:56:34.956874Z"
    },
    "papermill": {
     "duration": 28.291836,
     "end_time": "2024-04-30T08:56:34.959327",
     "exception": false,
     "start_time": "2024-04-30T08:56:06.667491",
     "status": "completed"
    },
    "tags": []
   },
   "outputs": [
    {
     "data": {
      "text/plain": [
       "AnnData object with n_obs × n_vars = 1118573 × 2319\n",
       "    obs: 'studyID', 'libraryID', 'sampleID', 'chemistry', 'technology', 'patientID', 'disease', 'timepoint_replicate', 'treatmentStatus', 'therapyResponse', 'sex', 'age', 'BMI', 'binned_age', 'diseaseStatus', 'smokingStatus', 'ethnicity', 'institute', 'diseaseGroup', 'n_genes_by_counts', 'log1p_n_genes_by_counts', 'total_counts', 'log1p_total_counts', 'pct_counts_in_top_20_genes', 'total_counts_mt', 'log1p_total_counts_mt', 'pct_counts_mt', 'total_counts_ribo', 'log1p_total_counts_ribo', 'pct_counts_ribo', 'total_counts_hb', 'log1p_total_counts_hb', 'pct_counts_hb', 'total_counts_plt', 'log1p_total_counts_plt', 'pct_counts_plt', 'doublet_score', 'predicted_doublet', 'S_score', 'G2M_score', 'phase'\n",
       "    var: 'hgnc_id', 'symbol', 'locus_group', 'HUGO_status', 'mt', 'ribo', 'hb', 'plt', 'n_cells_by_counts', 'mean_counts', 'log1p_mean_counts', 'pct_dropout_by_counts', 'total_counts', 'log1p_total_counts', 'highly_variable'\n",
       "    uns: 'chemistry_colors', 'log1p'\n",
       "    layers: 'counts', 'log1p_10e4_counts'"
      ]
     },
     "execution_count": 8,
     "metadata": {},
     "output_type": "execute_result"
    }
   ],
   "source": [
    "adata = sc.read_h5ad(here(f\"{workDir}/{cellGroup}/results/01_{cellGroup}_normalized_HVGsubset.h5ad\"))\n",
    "adata"
   ]
  },
  {
   "cell_type": "markdown",
   "id": "8ac79f3b-d5af-41fa-8904-1e9ac1cbe2fb",
   "metadata": {
    "papermill": {
     "duration": 0.003769,
     "end_time": "2024-04-30T08:56:34.967473",
     "exception": false,
     "start_time": "2024-04-30T08:56:34.963704",
     "status": "completed"
    },
    "tags": []
   },
   "source": [
    "## scVI integration"
   ]
  },
  {
   "cell_type": "markdown",
   "id": "9544847d-d17f-4811-b14b-760446d54d32",
   "metadata": {
    "execution": {
     "iopub.execute_input": "2024-03-25T16:49:04.004504Z",
     "iopub.status.busy": "2024-03-25T16:49:04.004143Z",
     "iopub.status.idle": "2024-03-25T16:49:04.010148Z",
     "shell.execute_reply": "2024-03-25T16:49:04.009146Z",
     "shell.execute_reply.started": "2024-03-25T16:49:04.004477Z"
    },
    "papermill": {
     "duration": 0.003788,
     "end_time": "2024-04-30T08:56:34.974962",
     "exception": false,
     "start_time": "2024-04-30T08:56:34.971174",
     "status": "completed"
    },
    "tags": []
   },
   "source": [
    "**scVI parameters**"
   ]
  },
  {
   "cell_type": "code",
   "execution_count": 9,
   "id": "208966eb-545a-4c02-854c-0ed0487ef5b3",
   "metadata": {
    "execution": {
     "iopub.execute_input": "2024-04-30T08:56:34.983719Z",
     "iopub.status.busy": "2024-04-30T08:56:34.983413Z",
     "iopub.status.idle": "2024-04-30T08:56:34.988782Z",
     "shell.execute_reply": "2024-04-30T08:56:34.988191Z"
    },
    "papermill": {
     "duration": 0.011741,
     "end_time": "2024-04-30T08:56:34.990389",
     "exception": false,
     "start_time": "2024-04-30T08:56:34.978648",
     "status": "completed"
    },
    "tags": []
   },
   "outputs": [],
   "source": [
    "# https://docs.scvi-tools.org/en/stable/api/reference/scvi.train.Trainer.html#scvi.train.Trainer\n",
    "setup_kwargs = dict(\n",
    "    layer=\"counts\", \n",
    "    batch_key='libraryID', \n",
    "    categorical_covariate_keys = ['studyID', 'chemistry', 'disease', 'sampleID'],\n",
    "    labels_key = 'chemistry'    \n",
    ")\n",
    "\n",
    "scvi_kwargs = dict(n_hidden=512,\n",
    "                   n_latent=20, # reduceds after step 00 (main)\n",
    "                   n_layers=2,\n",
    "                   gene_likelihood='nb',\n",
    "                   dispersion='gene-label')\n",
    "\n",
    "trainer_kwargs = dict(\n",
    "    checkpointing_monitor = 'elbo_validation',\n",
    "    early_stopping_monitor = 'reconstruction_loss_validation',\n",
    "    early_stopping_patience = 10,\n",
    "    early_stopping_min_delta=0.1,\n",
    "    early_stopping = True,\n",
    "    max_epochs = 1000,\n",
    "\n",
    "    #logger = # wandb\n",
    ")\n",
    "# https://docs.scvi-tools.org/en/stable/api/reference/scvi.train.TrainingPlan.html#scvi.train.TrainingPlan\n",
    "plan_kwargs = dict(\n",
    "    lr = 5e-4,\n",
    "    #reduce_lr_on_plateau = True\n",
    ")\n",
    "\n",
    "# https://docs.scvi-tools.org/en/stable/api/reference/scvi.module.VAE.html#scvi.module.VAE\n",
    "#vae = dict(\n",
    "#    use_layer_norm='both',\n",
    "#    use_batch_norm='none',\n",
    "#    encode_covariates=True,\n",
    "#    deeply_inject_covariates=False\n",
    "#)\n",
    "parameter_dict = setup_kwargs | scvi_kwargs | trainer_kwargs | plan_kwargs"
   ]
  },
  {
   "cell_type": "markdown",
   "id": "1362366a-c16b-4c11-964b-b9c5f82f7b29",
   "metadata": {
    "papermill": {
     "duration": 0.00392,
     "end_time": "2024-04-30T08:56:34.998057",
     "exception": false,
     "start_time": "2024-04-30T08:56:34.994137",
     "status": "completed"
    },
    "tags": []
   },
   "source": [
    "**wandb parameter**"
   ]
  },
  {
   "cell_type": "code",
   "execution_count": 10,
   "id": "0496e33a-8ca5-423f-b42f-34a59760708c",
   "metadata": {
    "execution": {
     "iopub.execute_input": "2024-04-30T08:56:35.007159Z",
     "iopub.status.busy": "2024-04-30T08:56:35.006907Z",
     "iopub.status.idle": "2024-04-30T08:56:35.011059Z",
     "shell.execute_reply": "2024-04-30T08:56:35.010505Z"
    },
    "papermill": {
     "duration": 0.010579,
     "end_time": "2024-04-30T08:56:35.012564",
     "exception": false,
     "start_time": "2024-04-30T08:56:35.001985",
     "status": "completed"
    },
    "tags": []
   },
   "outputs": [
    {
     "data": {
      "text/plain": [
       "'Step2_Mono'"
      ]
     },
     "execution_count": 10,
     "metadata": {},
     "output_type": "execute_result"
    }
   ],
   "source": [
    "run_name = f\"{annotationLevel}_{cellGroup}\"\n",
    "run_name"
   ]
  },
  {
   "cell_type": "code",
   "execution_count": 11,
   "id": "b0021327-95a2-4002-bf32-2c5779a99505",
   "metadata": {
    "execution": {
     "iopub.execute_input": "2024-04-30T08:56:35.021815Z",
     "iopub.status.busy": "2024-04-30T08:56:35.021297Z",
     "iopub.status.idle": "2024-04-30T08:56:35.150610Z",
     "shell.execute_reply": "2024-04-30T08:56:35.149877Z"
    },
    "papermill": {
     "duration": 0.136267,
     "end_time": "2024-04-30T08:56:35.152714",
     "exception": false,
     "start_time": "2024-04-30T08:56:35.016447",
     "status": "completed"
    },
    "tags": []
   },
   "outputs": [],
   "source": [
    "logger = CustomWandbLogger(name = run_name, project='inflammation_atlas_R1', config=parameter_dict)"
   ]
  },
  {
   "cell_type": "markdown",
   "id": "c237eee1-a976-4915-9b7f-b014bf33f47d",
   "metadata": {
    "papermill": {
     "duration": 0.004051,
     "end_time": "2024-04-30T08:56:35.161487",
     "exception": false,
     "start_time": "2024-04-30T08:56:35.157436",
     "status": "completed"
    },
    "tags": []
   },
   "source": [
    "**Running integration**"
   ]
  },
  {
   "cell_type": "code",
   "execution_count": 12,
   "id": "aff97c53-1aba-462e-8a77-f1aec9cf724c",
   "metadata": {
    "execution": {
     "iopub.execute_input": "2024-04-30T08:56:35.171077Z",
     "iopub.status.busy": "2024-04-30T08:56:35.170550Z",
     "iopub.status.idle": "2024-04-30T08:56:35.790961Z",
     "shell.execute_reply": "2024-04-30T08:56:35.790141Z"
    },
    "papermill": {
     "duration": 0.627644,
     "end_time": "2024-04-30T08:56:35.793207",
     "exception": false,
     "start_time": "2024-04-30T08:56:35.165563",
     "status": "completed"
    },
    "tags": []
   },
   "outputs": [],
   "source": [
    "scvi.model.SCVI.setup_anndata(adata, \n",
    "                              **setup_kwargs)"
   ]
  },
  {
   "cell_type": "code",
   "execution_count": 13,
   "id": "1a56f448-cf44-47c1-81a4-a89caa930fec",
   "metadata": {
    "execution": {
     "iopub.execute_input": "2024-04-30T08:56:35.803438Z",
     "iopub.status.busy": "2024-04-30T08:56:35.803090Z",
     "iopub.status.idle": "2024-04-30T08:56:37.041962Z",
     "shell.execute_reply": "2024-04-30T08:56:37.041255Z"
    },
    "papermill": {
     "duration": 1.246456,
     "end_time": "2024-04-30T08:56:37.044231",
     "exception": false,
     "start_time": "2024-04-30T08:56:35.797775",
     "status": "completed"
    },
    "tags": []
   },
   "outputs": [],
   "source": [
    "model = scvi.model.SCVI(adata, **scvi_kwargs)"
   ]
  },
  {
   "cell_type": "code",
   "execution_count": 14,
   "id": "2735f010-4f24-4ae8-9740-a8cfeb335e9a",
   "metadata": {
    "execution": {
     "iopub.execute_input": "2024-04-30T08:56:37.054647Z",
     "iopub.status.busy": "2024-04-30T08:56:37.053854Z",
     "iopub.status.idle": "2024-04-30T10:06:22.246437Z",
     "shell.execute_reply": "2024-04-30T10:06:22.245716Z"
    },
    "papermill": {
     "duration": 4185.199646,
     "end_time": "2024-04-30T10:06:22.248202",
     "exception": false,
     "start_time": "2024-04-30T08:56:37.048556",
     "status": "completed"
    },
    "tags": []
   },
   "outputs": [
    {
     "name": "stderr",
     "output_type": "stream",
     "text": [
      "GPU available: True (cuda), used: True\n"
     ]
    },
    {
     "name": "stderr",
     "output_type": "stream",
     "text": [
      "TPU available: False, using: 0 TPU cores\n"
     ]
    },
    {
     "name": "stderr",
     "output_type": "stream",
     "text": [
      "IPU available: False, using: 0 IPUs\n"
     ]
    },
    {
     "name": "stderr",
     "output_type": "stream",
     "text": [
      "HPU available: False, using: 0 HPUs\n"
     ]
    },
    {
     "name": "stderr",
     "output_type": "stream",
     "text": [
      "\u001b[34m\u001b[1mwandb\u001b[0m: Currently logged in as: \u001b[33mdav1989\u001b[0m (\u001b[33minflammation\u001b[0m). Use \u001b[1m`wandb login --relogin`\u001b[0m to force relogin\n"
     ]
    },
    {
     "name": "stderr",
     "output_type": "stream",
     "text": [
      "\u001b[34m\u001b[1mwandb\u001b[0m: wandb version 0.16.6 is available!  To upgrade, please run:\n",
      "\u001b[34m\u001b[1mwandb\u001b[0m:  $ pip install wandb --upgrade\n"
     ]
    },
    {
     "name": "stderr",
     "output_type": "stream",
     "text": [
      "\u001b[34m\u001b[1mwandb\u001b[0m: Tracking run with wandb version 0.16.3\n"
     ]
    },
    {
     "name": "stderr",
     "output_type": "stream",
     "text": [
      "\u001b[34m\u001b[1mwandb\u001b[0m: Run data is saved locally in \u001b[35m\u001b[1m./wandb/run-20240430_085641-by8kekrx\u001b[0m\n",
      "\u001b[34m\u001b[1mwandb\u001b[0m: Run \u001b[1m`wandb offline`\u001b[0m to turn off syncing.\n"
     ]
    },
    {
     "name": "stderr",
     "output_type": "stream",
     "text": [
      "\u001b[34m\u001b[1mwandb\u001b[0m: Syncing run \u001b[33mStep2_Mono\u001b[0m\n"
     ]
    },
    {
     "name": "stderr",
     "output_type": "stream",
     "text": [
      "\u001b[34m\u001b[1mwandb\u001b[0m: ⭐️ View project at \u001b[34m\u001b[4mhttps://wandb.ai/inflammation/inflammation_atlas_R1\u001b[0m\n"
     ]
    },
    {
     "name": "stderr",
     "output_type": "stream",
     "text": [
      "\u001b[34m\u001b[1mwandb\u001b[0m: 🚀 View run at \u001b[34m\u001b[4mhttps://wandb.ai/inflammation/inflammation_atlas_R1/runs/by8kekrx\u001b[0m\n"
     ]
    },
    {
     "name": "stderr",
     "output_type": "stream",
     "text": [
      "LOCAL_RANK: 0 - CUDA_VISIBLE_DEVICES: [0]\n"
     ]
    },
    {
     "name": "stdout",
     "output_type": "stream",
     "text": [
      "\r",
      "Training:   0%|          | 0/1000 [00:00<?, ?it/s]"
     ]
    },
    {
     "name": "stdout",
     "output_type": "stream",
     "text": [
      "\r",
      "Epoch 1/1000:   0%|          | 0/1000 [00:00<?, ?it/s]"
     ]
    },
    {
     "name": "stdout",
     "output_type": "stream",
     "text": [
      "\r",
      "Epoch 1/1000:   0%|          | 1/1000 [01:45<29:17:15, 105.54s/it]"
     ]
    },
    {
     "name": "stdout",
     "output_type": "stream",
     "text": [
      "\r",
      "Epoch 1/1000:   0%|          | 1/1000 [01:45<29:17:15, 105.54s/it, v_num=ekrx, train_loss_step=808, train_loss_epoch=783]"
     ]
    },
    {
     "name": "stdout",
     "output_type": "stream",
     "text": [
      "\r",
      "Epoch 2/1000:   0%|          | 1/1000 [01:45<29:17:15, 105.54s/it, v_num=ekrx, train_loss_step=808, train_loss_epoch=783]"
     ]
    },
    {
     "name": "stdout",
     "output_type": "stream",
     "text": [
      "\r",
      "Epoch 2/1000:   0%|          | 2/1000 [03:34<29:50:52, 107.67s/it, v_num=ekrx, train_loss_step=808, train_loss_epoch=783]"
     ]
    },
    {
     "name": "stdout",
     "output_type": "stream",
     "text": [
      "\r",
      "Epoch 2/1000:   0%|          | 2/1000 [03:34<29:50:52, 107.67s/it, v_num=ekrx, train_loss_step=751, train_loss_epoch=765]"
     ]
    },
    {
     "name": "stdout",
     "output_type": "stream",
     "text": [
      "\r",
      "Epoch 3/1000:   0%|          | 2/1000 [03:34<29:50:52, 107.67s/it, v_num=ekrx, train_loss_step=751, train_loss_epoch=765]"
     ]
    },
    {
     "name": "stdout",
     "output_type": "stream",
     "text": [
      "\r",
      "Epoch 3/1000:   0%|          | 3/1000 [05:22<29:53:30, 107.93s/it, v_num=ekrx, train_loss_step=751, train_loss_epoch=765]"
     ]
    },
    {
     "name": "stdout",
     "output_type": "stream",
     "text": [
      "\r",
      "Epoch 3/1000:   0%|          | 3/1000 [05:22<29:53:30, 107.93s/it, v_num=ekrx, train_loss_step=772, train_loss_epoch=763]"
     ]
    },
    {
     "name": "stdout",
     "output_type": "stream",
     "text": [
      "\r",
      "Epoch 4/1000:   0%|          | 3/1000 [05:22<29:53:30, 107.93s/it, v_num=ekrx, train_loss_step=772, train_loss_epoch=763]"
     ]
    },
    {
     "name": "stdout",
     "output_type": "stream",
     "text": [
      "\r",
      "Epoch 4/1000:   0%|          | 4/1000 [07:11<29:56:44, 108.24s/it, v_num=ekrx, train_loss_step=772, train_loss_epoch=763]"
     ]
    },
    {
     "name": "stdout",
     "output_type": "stream",
     "text": [
      "\r",
      "Epoch 4/1000:   0%|          | 4/1000 [07:11<29:56:44, 108.24s/it, v_num=ekrx, train_loss_step=719, train_loss_epoch=762]"
     ]
    },
    {
     "name": "stdout",
     "output_type": "stream",
     "text": [
      "\r",
      "Epoch 5/1000:   0%|          | 4/1000 [07:11<29:56:44, 108.24s/it, v_num=ekrx, train_loss_step=719, train_loss_epoch=762]"
     ]
    },
    {
     "name": "stdout",
     "output_type": "stream",
     "text": [
      "\r",
      "Epoch 5/1000:   0%|          | 5/1000 [09:00<29:56:50, 108.35s/it, v_num=ekrx, train_loss_step=719, train_loss_epoch=762]"
     ]
    },
    {
     "name": "stdout",
     "output_type": "stream",
     "text": [
      "\r",
      "Epoch 5/1000:   0%|          | 5/1000 [09:00<29:56:50, 108.35s/it, v_num=ekrx, train_loss_step=710, train_loss_epoch=761]"
     ]
    },
    {
     "name": "stdout",
     "output_type": "stream",
     "text": [
      "\r",
      "Epoch 6/1000:   0%|          | 5/1000 [09:00<29:56:50, 108.35s/it, v_num=ekrx, train_loss_step=710, train_loss_epoch=761]"
     ]
    },
    {
     "name": "stdout",
     "output_type": "stream",
     "text": [
      "\r",
      "Epoch 6/1000:   1%|          | 6/1000 [10:48<29:56:40, 108.45s/it, v_num=ekrx, train_loss_step=710, train_loss_epoch=761]"
     ]
    },
    {
     "name": "stdout",
     "output_type": "stream",
     "text": [
      "\r",
      "Epoch 6/1000:   1%|          | 6/1000 [10:48<29:56:40, 108.45s/it, v_num=ekrx, train_loss_step=725, train_loss_epoch=760]"
     ]
    },
    {
     "name": "stdout",
     "output_type": "stream",
     "text": [
      "\r",
      "Epoch 7/1000:   1%|          | 6/1000 [10:48<29:56:40, 108.45s/it, v_num=ekrx, train_loss_step=725, train_loss_epoch=760]"
     ]
    },
    {
     "name": "stdout",
     "output_type": "stream",
     "text": [
      "\r",
      "Epoch 7/1000:   1%|          | 7/1000 [12:37<29:55:44, 108.50s/it, v_num=ekrx, train_loss_step=725, train_loss_epoch=760]"
     ]
    },
    {
     "name": "stdout",
     "output_type": "stream",
     "text": [
      "\r",
      "Epoch 7/1000:   1%|          | 7/1000 [12:37<29:55:44, 108.50s/it, v_num=ekrx, train_loss_step=754, train_loss_epoch=760]"
     ]
    },
    {
     "name": "stdout",
     "output_type": "stream",
     "text": [
      "\r",
      "Epoch 8/1000:   1%|          | 7/1000 [12:37<29:55:44, 108.50s/it, v_num=ekrx, train_loss_step=754, train_loss_epoch=760]"
     ]
    },
    {
     "name": "stdout",
     "output_type": "stream",
     "text": [
      "\r",
      "Epoch 8/1000:   1%|          | 8/1000 [14:25<29:52:44, 108.43s/it, v_num=ekrx, train_loss_step=754, train_loss_epoch=760]"
     ]
    },
    {
     "name": "stdout",
     "output_type": "stream",
     "text": [
      "\r",
      "Epoch 8/1000:   1%|          | 8/1000 [14:25<29:52:44, 108.43s/it, v_num=ekrx, train_loss_step=740, train_loss_epoch=760]"
     ]
    },
    {
     "name": "stdout",
     "output_type": "stream",
     "text": [
      "\r",
      "Epoch 9/1000:   1%|          | 8/1000 [14:25<29:52:44, 108.43s/it, v_num=ekrx, train_loss_step=740, train_loss_epoch=760]"
     ]
    },
    {
     "name": "stdout",
     "output_type": "stream",
     "text": [
      "\r",
      "Epoch 9/1000:   1%|          | 9/1000 [16:13<29:49:55, 108.37s/it, v_num=ekrx, train_loss_step=740, train_loss_epoch=760]"
     ]
    },
    {
     "name": "stdout",
     "output_type": "stream",
     "text": [
      "\r",
      "Epoch 9/1000:   1%|          | 9/1000 [16:13<29:49:55, 108.37s/it, v_num=ekrx, train_loss_step=783, train_loss_epoch=760]"
     ]
    },
    {
     "name": "stdout",
     "output_type": "stream",
     "text": [
      "\r",
      "Epoch 10/1000:   1%|          | 9/1000 [16:13<29:49:55, 108.37s/it, v_num=ekrx, train_loss_step=783, train_loss_epoch=760]"
     ]
    },
    {
     "name": "stdout",
     "output_type": "stream",
     "text": [
      "\r",
      "Epoch 10/1000:   1%|          | 10/1000 [18:01<29:44:31, 108.15s/it, v_num=ekrx, train_loss_step=783, train_loss_epoch=760]"
     ]
    },
    {
     "name": "stdout",
     "output_type": "stream",
     "text": [
      "\r",
      "Epoch 10/1000:   1%|          | 10/1000 [18:01<29:44:31, 108.15s/it, v_num=ekrx, train_loss_step=702, train_loss_epoch=760]"
     ]
    },
    {
     "name": "stdout",
     "output_type": "stream",
     "text": [
      "\r",
      "Epoch 11/1000:   1%|          | 10/1000 [18:01<29:44:31, 108.15s/it, v_num=ekrx, train_loss_step=702, train_loss_epoch=760]"
     ]
    },
    {
     "name": "stdout",
     "output_type": "stream",
     "text": [
      "\r",
      "Epoch 11/1000:   1%|          | 11/1000 [19:50<29:44:29, 108.26s/it, v_num=ekrx, train_loss_step=702, train_loss_epoch=760]"
     ]
    },
    {
     "name": "stdout",
     "output_type": "stream",
     "text": [
      "\r",
      "Epoch 11/1000:   1%|          | 11/1000 [19:50<29:44:29, 108.26s/it, v_num=ekrx, train_loss_step=765, train_loss_epoch=760]"
     ]
    },
    {
     "name": "stdout",
     "output_type": "stream",
     "text": [
      "\r",
      "Epoch 12/1000:   1%|          | 11/1000 [19:50<29:44:29, 108.26s/it, v_num=ekrx, train_loss_step=765, train_loss_epoch=760]"
     ]
    },
    {
     "name": "stdout",
     "output_type": "stream",
     "text": [
      "\r",
      "Epoch 12/1000:   1%|          | 12/1000 [21:38<29:45:38, 108.44s/it, v_num=ekrx, train_loss_step=765, train_loss_epoch=760]"
     ]
    },
    {
     "name": "stdout",
     "output_type": "stream",
     "text": [
      "\r",
      "Epoch 12/1000:   1%|          | 12/1000 [21:38<29:45:38, 108.44s/it, v_num=ekrx, train_loss_step=767, train_loss_epoch=759]"
     ]
    },
    {
     "name": "stdout",
     "output_type": "stream",
     "text": [
      "\r",
      "Epoch 13/1000:   1%|          | 12/1000 [21:39<29:45:38, 108.44s/it, v_num=ekrx, train_loss_step=767, train_loss_epoch=759]"
     ]
    },
    {
     "name": "stdout",
     "output_type": "stream",
     "text": [
      "\r",
      "Epoch 13/1000:   1%|▏         | 13/1000 [23:27<29:41:49, 108.32s/it, v_num=ekrx, train_loss_step=767, train_loss_epoch=759]"
     ]
    },
    {
     "name": "stdout",
     "output_type": "stream",
     "text": [
      "\r",
      "Epoch 13/1000:   1%|▏         | 13/1000 [23:27<29:41:49, 108.32s/it, v_num=ekrx, train_loss_step=767, train_loss_epoch=759]"
     ]
    },
    {
     "name": "stdout",
     "output_type": "stream",
     "text": [
      "\r",
      "Epoch 14/1000:   1%|▏         | 13/1000 [23:27<29:41:49, 108.32s/it, v_num=ekrx, train_loss_step=767, train_loss_epoch=759]"
     ]
    },
    {
     "name": "stdout",
     "output_type": "stream",
     "text": [
      "\r",
      "Epoch 14/1000:   1%|▏         | 14/1000 [25:14<29:38:12, 108.21s/it, v_num=ekrx, train_loss_step=767, train_loss_epoch=759]"
     ]
    },
    {
     "name": "stdout",
     "output_type": "stream",
     "text": [
      "\r",
      "Epoch 14/1000:   1%|▏         | 14/1000 [25:14<29:38:12, 108.21s/it, v_num=ekrx, train_loss_step=790, train_loss_epoch=759]"
     ]
    },
    {
     "name": "stdout",
     "output_type": "stream",
     "text": [
      "\r",
      "Epoch 15/1000:   1%|▏         | 14/1000 [25:14<29:38:12, 108.21s/it, v_num=ekrx, train_loss_step=790, train_loss_epoch=759]"
     ]
    },
    {
     "name": "stdout",
     "output_type": "stream",
     "text": [
      "\r",
      "Epoch 15/1000:   2%|▏         | 15/1000 [27:03<29:37:27, 108.27s/it, v_num=ekrx, train_loss_step=790, train_loss_epoch=759]"
     ]
    },
    {
     "name": "stdout",
     "output_type": "stream",
     "text": [
      "\r",
      "Epoch 15/1000:   2%|▏         | 15/1000 [27:03<29:37:27, 108.27s/it, v_num=ekrx, train_loss_step=792, train_loss_epoch=759]"
     ]
    },
    {
     "name": "stdout",
     "output_type": "stream",
     "text": [
      "\r",
      "Epoch 16/1000:   2%|▏         | 15/1000 [27:03<29:37:27, 108.27s/it, v_num=ekrx, train_loss_step=792, train_loss_epoch=759]"
     ]
    },
    {
     "name": "stdout",
     "output_type": "stream",
     "text": [
      "\r",
      "Epoch 16/1000:   2%|▏         | 16/1000 [28:39<28:37:34, 104.73s/it, v_num=ekrx, train_loss_step=792, train_loss_epoch=759]"
     ]
    },
    {
     "name": "stdout",
     "output_type": "stream",
     "text": [
      "\r",
      "Epoch 16/1000:   2%|▏         | 16/1000 [28:39<28:37:34, 104.73s/it, v_num=ekrx, train_loss_step=750, train_loss_epoch=759]"
     ]
    },
    {
     "name": "stdout",
     "output_type": "stream",
     "text": [
      "\r",
      "Epoch 17/1000:   2%|▏         | 16/1000 [28:39<28:37:34, 104.73s/it, v_num=ekrx, train_loss_step=750, train_loss_epoch=759]"
     ]
    },
    {
     "name": "stdout",
     "output_type": "stream",
     "text": [
      "\r",
      "Epoch 17/1000:   2%|▏         | 17/1000 [30:22<28:25:56, 104.13s/it, v_num=ekrx, train_loss_step=750, train_loss_epoch=759]"
     ]
    },
    {
     "name": "stdout",
     "output_type": "stream",
     "text": [
      "\r",
      "Epoch 17/1000:   2%|▏         | 17/1000 [30:22<28:25:56, 104.13s/it, v_num=ekrx, train_loss_step=687, train_loss_epoch=759]"
     ]
    },
    {
     "name": "stdout",
     "output_type": "stream",
     "text": [
      "\r",
      "Epoch 18/1000:   2%|▏         | 17/1000 [30:22<28:25:56, 104.13s/it, v_num=ekrx, train_loss_step=687, train_loss_epoch=759]"
     ]
    },
    {
     "name": "stdout",
     "output_type": "stream",
     "text": [
      "\r",
      "Epoch 18/1000:   2%|▏         | 18/1000 [31:58<27:43:34, 101.64s/it, v_num=ekrx, train_loss_step=687, train_loss_epoch=759]"
     ]
    },
    {
     "name": "stdout",
     "output_type": "stream",
     "text": [
      "\r",
      "Epoch 18/1000:   2%|▏         | 18/1000 [31:58<27:43:34, 101.64s/it, v_num=ekrx, train_loss_step=739, train_loss_epoch=759]"
     ]
    },
    {
     "name": "stdout",
     "output_type": "stream",
     "text": [
      "\r",
      "Epoch 19/1000:   2%|▏         | 18/1000 [31:58<27:43:34, 101.64s/it, v_num=ekrx, train_loss_step=739, train_loss_epoch=759]"
     ]
    },
    {
     "name": "stdout",
     "output_type": "stream",
     "text": [
      "\r",
      "Epoch 19/1000:   2%|▏         | 19/1000 [33:45<28:09:35, 103.34s/it, v_num=ekrx, train_loss_step=739, train_loss_epoch=759]"
     ]
    },
    {
     "name": "stdout",
     "output_type": "stream",
     "text": [
      "\r",
      "Epoch 19/1000:   2%|▏         | 19/1000 [33:45<28:09:35, 103.34s/it, v_num=ekrx, train_loss_step=730, train_loss_epoch=759]"
     ]
    },
    {
     "name": "stdout",
     "output_type": "stream",
     "text": [
      "\r",
      "Epoch 20/1000:   2%|▏         | 19/1000 [33:45<28:09:35, 103.34s/it, v_num=ekrx, train_loss_step=730, train_loss_epoch=759]"
     ]
    },
    {
     "name": "stdout",
     "output_type": "stream",
     "text": [
      "\r",
      "Epoch 20/1000:   2%|▏         | 20/1000 [35:33<28:27:47, 104.56s/it, v_num=ekrx, train_loss_step=730, train_loss_epoch=759]"
     ]
    },
    {
     "name": "stdout",
     "output_type": "stream",
     "text": [
      "\r",
      "Epoch 20/1000:   2%|▏         | 20/1000 [35:33<28:27:47, 104.56s/it, v_num=ekrx, train_loss_step=777, train_loss_epoch=759]"
     ]
    },
    {
     "name": "stdout",
     "output_type": "stream",
     "text": [
      "\r",
      "Epoch 21/1000:   2%|▏         | 20/1000 [35:33<28:27:47, 104.56s/it, v_num=ekrx, train_loss_step=777, train_loss_epoch=759]"
     ]
    },
    {
     "name": "stdout",
     "output_type": "stream",
     "text": [
      "\r",
      "Epoch 21/1000:   2%|▏         | 21/1000 [37:18<28:28:21, 104.70s/it, v_num=ekrx, train_loss_step=777, train_loss_epoch=759]"
     ]
    },
    {
     "name": "stdout",
     "output_type": "stream",
     "text": [
      "\r",
      "Epoch 21/1000:   2%|▏         | 21/1000 [37:18<28:28:21, 104.70s/it, v_num=ekrx, train_loss_step=766, train_loss_epoch=759]"
     ]
    },
    {
     "name": "stdout",
     "output_type": "stream",
     "text": [
      "\r",
      "Epoch 22/1000:   2%|▏         | 21/1000 [37:18<28:28:21, 104.70s/it, v_num=ekrx, train_loss_step=766, train_loss_epoch=759]"
     ]
    },
    {
     "name": "stdout",
     "output_type": "stream",
     "text": [
      "\r",
      "Epoch 22/1000:   2%|▏         | 22/1000 [39:04<28:35:14, 105.23s/it, v_num=ekrx, train_loss_step=766, train_loss_epoch=759]"
     ]
    },
    {
     "name": "stdout",
     "output_type": "stream",
     "text": [
      "\r",
      "Epoch 22/1000:   2%|▏         | 22/1000 [39:04<28:35:14, 105.23s/it, v_num=ekrx, train_loss_step=778, train_loss_epoch=759]"
     ]
    },
    {
     "name": "stdout",
     "output_type": "stream",
     "text": [
      "\r",
      "Epoch 23/1000:   2%|▏         | 22/1000 [39:04<28:35:14, 105.23s/it, v_num=ekrx, train_loss_step=778, train_loss_epoch=759]"
     ]
    },
    {
     "name": "stdout",
     "output_type": "stream",
     "text": [
      "\r",
      "Epoch 23/1000:   2%|▏         | 23/1000 [40:49<28:29:43, 105.00s/it, v_num=ekrx, train_loss_step=778, train_loss_epoch=759]"
     ]
    },
    {
     "name": "stdout",
     "output_type": "stream",
     "text": [
      "\r",
      "Epoch 23/1000:   2%|▏         | 23/1000 [40:49<28:29:43, 105.00s/it, v_num=ekrx, train_loss_step=745, train_loss_epoch=759]"
     ]
    },
    {
     "name": "stdout",
     "output_type": "stream",
     "text": [
      "\r",
      "Epoch 24/1000:   2%|▏         | 23/1000 [40:49<28:29:43, 105.00s/it, v_num=ekrx, train_loss_step=745, train_loss_epoch=759]"
     ]
    },
    {
     "name": "stdout",
     "output_type": "stream",
     "text": [
      "\r",
      "Epoch 24/1000:   2%|▏         | 24/1000 [42:36<28:37:57, 105.61s/it, v_num=ekrx, train_loss_step=745, train_loss_epoch=759]"
     ]
    },
    {
     "name": "stdout",
     "output_type": "stream",
     "text": [
      "\r",
      "Epoch 24/1000:   2%|▏         | 24/1000 [42:36<28:37:57, 105.61s/it, v_num=ekrx, train_loss_step=788, train_loss_epoch=759]"
     ]
    },
    {
     "name": "stdout",
     "output_type": "stream",
     "text": [
      "\r",
      "Epoch 25/1000:   2%|▏         | 24/1000 [42:36<28:37:57, 105.61s/it, v_num=ekrx, train_loss_step=788, train_loss_epoch=759]"
     ]
    },
    {
     "name": "stdout",
     "output_type": "stream",
     "text": [
      "\r",
      "Epoch 25/1000:   2%|▎         | 25/1000 [44:22<28:41:14, 105.92s/it, v_num=ekrx, train_loss_step=788, train_loss_epoch=759]"
     ]
    },
    {
     "name": "stdout",
     "output_type": "stream",
     "text": [
      "\r",
      "Epoch 25/1000:   2%|▎         | 25/1000 [44:22<28:41:14, 105.92s/it, v_num=ekrx, train_loss_step=772, train_loss_epoch=759]"
     ]
    },
    {
     "name": "stdout",
     "output_type": "stream",
     "text": [
      "\r",
      "Epoch 26/1000:   2%|▎         | 25/1000 [44:22<28:41:14, 105.92s/it, v_num=ekrx, train_loss_step=772, train_loss_epoch=759]"
     ]
    },
    {
     "name": "stdout",
     "output_type": "stream",
     "text": [
      "\r",
      "Epoch 26/1000:   3%|▎         | 26/1000 [46:10<28:45:36, 106.30s/it, v_num=ekrx, train_loss_step=772, train_loss_epoch=759]"
     ]
    },
    {
     "name": "stdout",
     "output_type": "stream",
     "text": [
      "\r",
      "Epoch 26/1000:   3%|▎         | 26/1000 [46:10<28:45:36, 106.30s/it, v_num=ekrx, train_loss_step=775, train_loss_epoch=760]"
     ]
    },
    {
     "name": "stdout",
     "output_type": "stream",
     "text": [
      "\r",
      "Epoch 27/1000:   3%|▎         | 26/1000 [46:10<28:45:36, 106.30s/it, v_num=ekrx, train_loss_step=775, train_loss_epoch=760]"
     ]
    },
    {
     "name": "stdout",
     "output_type": "stream",
     "text": [
      "\r",
      "Epoch 27/1000:   3%|▎         | 27/1000 [47:57<28:51:21, 106.76s/it, v_num=ekrx, train_loss_step=775, train_loss_epoch=760]"
     ]
    },
    {
     "name": "stdout",
     "output_type": "stream",
     "text": [
      "\r",
      "Epoch 27/1000:   3%|▎         | 27/1000 [47:57<28:51:21, 106.76s/it, v_num=ekrx, train_loss_step=732, train_loss_epoch=760]"
     ]
    },
    {
     "name": "stdout",
     "output_type": "stream",
     "text": [
      "\r",
      "Epoch 28/1000:   3%|▎         | 27/1000 [47:57<28:51:21, 106.76s/it, v_num=ekrx, train_loss_step=732, train_loss_epoch=760]"
     ]
    },
    {
     "name": "stdout",
     "output_type": "stream",
     "text": [
      "\r",
      "Epoch 28/1000:   3%|▎         | 28/1000 [49:42<28:39:26, 106.14s/it, v_num=ekrx, train_loss_step=732, train_loss_epoch=760]"
     ]
    },
    {
     "name": "stdout",
     "output_type": "stream",
     "text": [
      "\r",
      "Epoch 28/1000:   3%|▎         | 28/1000 [49:42<28:39:26, 106.14s/it, v_num=ekrx, train_loss_step=812, train_loss_epoch=760]"
     ]
    },
    {
     "name": "stdout",
     "output_type": "stream",
     "text": [
      "\r",
      "Epoch 29/1000:   3%|▎         | 28/1000 [49:42<28:39:26, 106.14s/it, v_num=ekrx, train_loss_step=812, train_loss_epoch=760]"
     ]
    },
    {
     "name": "stdout",
     "output_type": "stream",
     "text": [
      "\r",
      "Epoch 29/1000:   3%|▎         | 29/1000 [51:29<28:39:41, 106.26s/it, v_num=ekrx, train_loss_step=812, train_loss_epoch=760]"
     ]
    },
    {
     "name": "stdout",
     "output_type": "stream",
     "text": [
      "\r",
      "Epoch 29/1000:   3%|▎         | 29/1000 [51:29<28:39:41, 106.26s/it, v_num=ekrx, train_loss_step=794, train_loss_epoch=760]"
     ]
    },
    {
     "name": "stdout",
     "output_type": "stream",
     "text": [
      "\r",
      "Epoch 30/1000:   3%|▎         | 29/1000 [51:29<28:39:41, 106.26s/it, v_num=ekrx, train_loss_step=794, train_loss_epoch=760]"
     ]
    },
    {
     "name": "stdout",
     "output_type": "stream",
     "text": [
      "\r",
      "Epoch 30/1000:   3%|▎         | 30/1000 [53:20<29:00:31, 107.66s/it, v_num=ekrx, train_loss_step=794, train_loss_epoch=760]"
     ]
    },
    {
     "name": "stdout",
     "output_type": "stream",
     "text": [
      "\r",
      "Epoch 30/1000:   3%|▎         | 30/1000 [53:20<29:00:31, 107.66s/it, v_num=ekrx, train_loss_step=734, train_loss_epoch=760]"
     ]
    },
    {
     "name": "stdout",
     "output_type": "stream",
     "text": [
      "\r",
      "Epoch 31/1000:   3%|▎         | 30/1000 [53:20<29:00:31, 107.66s/it, v_num=ekrx, train_loss_step=734, train_loss_epoch=760]"
     ]
    },
    {
     "name": "stdout",
     "output_type": "stream",
     "text": [
      "\r",
      "Epoch 31/1000:   3%|▎         | 31/1000 [55:10<29:14:05, 108.61s/it, v_num=ekrx, train_loss_step=734, train_loss_epoch=760]"
     ]
    },
    {
     "name": "stdout",
     "output_type": "stream",
     "text": [
      "\r",
      "Epoch 31/1000:   3%|▎         | 31/1000 [55:10<29:14:05, 108.61s/it, v_num=ekrx, train_loss_step=708, train_loss_epoch=760]"
     ]
    },
    {
     "name": "stdout",
     "output_type": "stream",
     "text": [
      "\r",
      "Epoch 32/1000:   3%|▎         | 31/1000 [55:10<29:14:05, 108.61s/it, v_num=ekrx, train_loss_step=708, train_loss_epoch=760]"
     ]
    },
    {
     "name": "stdout",
     "output_type": "stream",
     "text": [
      "\r",
      "Epoch 32/1000:   3%|▎         | 32/1000 [56:56<28:56:36, 107.64s/it, v_num=ekrx, train_loss_step=708, train_loss_epoch=760]"
     ]
    },
    {
     "name": "stdout",
     "output_type": "stream",
     "text": [
      "\r",
      "Epoch 32/1000:   3%|▎         | 32/1000 [56:56<28:56:36, 107.64s/it, v_num=ekrx, train_loss_step=749, train_loss_epoch=760]"
     ]
    },
    {
     "name": "stdout",
     "output_type": "stream",
     "text": [
      "\r",
      "Epoch 33/1000:   3%|▎         | 32/1000 [56:56<28:56:36, 107.64s/it, v_num=ekrx, train_loss_step=749, train_loss_epoch=760]"
     ]
    },
    {
     "name": "stdout",
     "output_type": "stream",
     "text": [
      "\r",
      "Epoch 33/1000:   3%|▎         | 33/1000 [58:43<28:51:53, 107.46s/it, v_num=ekrx, train_loss_step=749, train_loss_epoch=760]"
     ]
    },
    {
     "name": "stdout",
     "output_type": "stream",
     "text": [
      "\r",
      "Epoch 33/1000:   3%|▎         | 33/1000 [58:43<28:51:53, 107.46s/it, v_num=ekrx, train_loss_step=785, train_loss_epoch=760]"
     ]
    },
    {
     "name": "stdout",
     "output_type": "stream",
     "text": [
      "\r",
      "Epoch 34/1000:   3%|▎         | 33/1000 [58:43<28:51:53, 107.46s/it, v_num=ekrx, train_loss_step=785, train_loss_epoch=760]"
     ]
    },
    {
     "name": "stdout",
     "output_type": "stream",
     "text": [
      "\r",
      "Epoch 34/1000:   3%|▎         | 34/1000 [1:00:32<29:00:58, 108.13s/it, v_num=ekrx, train_loss_step=785, train_loss_epoch=760]"
     ]
    },
    {
     "name": "stdout",
     "output_type": "stream",
     "text": [
      "\r",
      "Epoch 34/1000:   3%|▎         | 34/1000 [1:00:32<29:00:58, 108.13s/it, v_num=ekrx, train_loss_step=729, train_loss_epoch=760]"
     ]
    },
    {
     "name": "stdout",
     "output_type": "stream",
     "text": [
      "\r",
      "Epoch 35/1000:   3%|▎         | 34/1000 [1:00:32<29:00:58, 108.13s/it, v_num=ekrx, train_loss_step=729, train_loss_epoch=760]"
     ]
    },
    {
     "name": "stdout",
     "output_type": "stream",
     "text": [
      "\r",
      "Epoch 35/1000:   4%|▎         | 35/1000 [1:02:26<29:22:54, 109.61s/it, v_num=ekrx, train_loss_step=729, train_loss_epoch=760]"
     ]
    },
    {
     "name": "stdout",
     "output_type": "stream",
     "text": [
      "\r",
      "Epoch 35/1000:   4%|▎         | 35/1000 [1:02:26<29:22:54, 109.61s/it, v_num=ekrx, train_loss_step=713, train_loss_epoch=760]"
     ]
    },
    {
     "name": "stdout",
     "output_type": "stream",
     "text": [
      "\r",
      "Epoch 36/1000:   4%|▎         | 35/1000 [1:02:26<29:22:54, 109.61s/it, v_num=ekrx, train_loss_step=713, train_loss_epoch=760]"
     ]
    },
    {
     "name": "stdout",
     "output_type": "stream",
     "text": [
      "\r",
      "Epoch 36/1000:   4%|▎         | 36/1000 [1:04:16<29:26:16, 109.93s/it, v_num=ekrx, train_loss_step=713, train_loss_epoch=760]"
     ]
    },
    {
     "name": "stdout",
     "output_type": "stream",
     "text": [
      "\r",
      "Epoch 36/1000:   4%|▎         | 36/1000 [1:04:16<29:26:16, 109.93s/it, v_num=ekrx, train_loss_step=759, train_loss_epoch=760]"
     ]
    },
    {
     "name": "stdout",
     "output_type": "stream",
     "text": [
      "\r",
      "Epoch 37/1000:   4%|▎         | 36/1000 [1:04:16<29:26:16, 109.93s/it, v_num=ekrx, train_loss_step=759, train_loss_epoch=760]"
     ]
    },
    {
     "name": "stdout",
     "output_type": "stream",
     "text": [
      "\r",
      "Epoch 37/1000:   4%|▎         | 37/1000 [1:06:04<29:13:13, 109.24s/it, v_num=ekrx, train_loss_step=759, train_loss_epoch=760]"
     ]
    },
    {
     "name": "stdout",
     "output_type": "stream",
     "text": [
      "\r",
      "Epoch 37/1000:   4%|▎         | 37/1000 [1:06:04<29:13:13, 109.24s/it, v_num=ekrx, train_loss_step=781, train_loss_epoch=760]"
     ]
    },
    {
     "name": "stdout",
     "output_type": "stream",
     "text": [
      "\r",
      "Epoch 38/1000:   4%|▎         | 37/1000 [1:06:04<29:13:13, 109.24s/it, v_num=ekrx, train_loss_step=781, train_loss_epoch=760]"
     ]
    },
    {
     "name": "stdout",
     "output_type": "stream",
     "text": [
      "\r",
      "Epoch 38/1000:   4%|▍         | 38/1000 [1:07:53<29:09:35, 109.12s/it, v_num=ekrx, train_loss_step=781, train_loss_epoch=760]"
     ]
    },
    {
     "name": "stdout",
     "output_type": "stream",
     "text": [
      "\r",
      "Epoch 38/1000:   4%|▍         | 38/1000 [1:07:53<29:09:35, 109.12s/it, v_num=ekrx, train_loss_step=732, train_loss_epoch=760]"
     ]
    },
    {
     "name": "stdout",
     "output_type": "stream",
     "text": [
      "\r",
      "Epoch 39/1000:   4%|▍         | 38/1000 [1:07:53<29:09:35, 109.12s/it, v_num=ekrx, train_loss_step=732, train_loss_epoch=760]"
     ]
    },
    {
     "name": "stdout",
     "output_type": "stream",
     "text": [
      "\r",
      "Epoch 39/1000:   4%|▍         | 39/1000 [1:09:39<28:55:47, 108.37s/it, v_num=ekrx, train_loss_step=732, train_loss_epoch=760]"
     ]
    },
    {
     "name": "stdout",
     "output_type": "stream",
     "text": [
      "\r",
      "Epoch 39/1000:   4%|▍         | 39/1000 [1:09:39<28:55:47, 108.37s/it, v_num=ekrx, train_loss_step=765, train_loss_epoch=760]"
     ]
    },
    {
     "name": "stdout",
     "output_type": "stream",
     "text": [
      "\r",
      "Epoch 39/1000:   4%|▍         | 39/1000 [1:09:39<28:36:34, 107.17s/it, v_num=ekrx, train_loss_step=765, train_loss_epoch=760]"
     ]
    },
    {
     "name": "stdout",
     "output_type": "stream",
     "text": [
      "\n",
      "Monitored metric reconstruction_loss_validation did not improve in the last 10 records. Best score: 754.159. Signaling Trainer to stop.\n"
     ]
    }
   ],
   "source": [
    "model.train(logger=logger, plan_kwargs = plan_kwargs, **trainer_kwargs)"
   ]
  },
  {
   "cell_type": "code",
   "execution_count": 15,
   "id": "c282f6eb-0ad1-40a5-81e6-1acda1545dad",
   "metadata": {
    "execution": {
     "iopub.execute_input": "2024-04-30T10:06:22.270009Z",
     "iopub.status.busy": "2024-04-30T10:06:22.269702Z",
     "iopub.status.idle": "2024-04-30T10:06:27.185491Z",
     "shell.execute_reply": "2024-04-30T10:06:27.184909Z"
    },
    "papermill": {
     "duration": 4.928828,
     "end_time": "2024-04-30T10:06:27.187379",
     "exception": false,
     "start_time": "2024-04-30T10:06:22.258551",
     "status": "completed"
    },
    "tags": []
   },
   "outputs": [
    {
     "name": "stderr",
     "output_type": "stream",
     "text": [
      "\u001b[34m\u001b[1mwandb\u001b[0m: - 0.003 MB of 0.003 MB uploaded\r"
     ]
    },
    {
     "name": "stderr",
     "output_type": "stream",
     "text": [
      "\u001b[34m\u001b[1mwandb\u001b[0m: \\ 0.009 MB of 0.009 MB uploaded\r"
     ]
    },
    {
     "name": "stderr",
     "output_type": "stream",
     "text": [
      "\u001b[34m\u001b[1mwandb\u001b[0m: | 0.009 MB of 0.009 MB uploaded\r"
     ]
    },
    {
     "name": "stderr",
     "output_type": "stream",
     "text": [
      "\u001b[34m\u001b[1mwandb\u001b[0m: / 0.009 MB of 0.009 MB uploaded\r"
     ]
    },
    {
     "name": "stderr",
     "output_type": "stream",
     "text": [
      "\u001b[34m\u001b[1mwandb\u001b[0m:                                                                                \n"
     ]
    },
    {
     "name": "stderr",
     "output_type": "stream",
     "text": [
      "\u001b[34m\u001b[1mwandb\u001b[0m: \n",
      "\u001b[34m\u001b[1mwandb\u001b[0m: Run history:\n",
      "\u001b[34m\u001b[1mwandb\u001b[0m:                     elbo_train █▆▅▄▄▃▃▃▃▃▃▂▂▂▂▂▂▂▂▂▂▂▂▂▁▁▁▁▁▁▁▁▁▁▁▁▁▁▁\n",
      "\u001b[34m\u001b[1mwandb\u001b[0m:                elbo_validation █▇▆▄▄▄▃▃▃▃▃▃▂▂▂▂▂▂▂▂▂▂▂▂▂▂▁▁▁▁▁▁▁▁▁▁▁▁▁\n",
      "\u001b[34m\u001b[1mwandb\u001b[0m:                          epoch ▁▁▁▂▂▂▂▂▂▃▃▃▃▃▃▄▄▄▄▄▅▅▅▅▅▅▆▆▆▆▆▇▇▇▇▇▇███\n",
      "\u001b[34m\u001b[1mwandb\u001b[0m:                kl_global_train ▁▁▁▁▁▁▁▁▁▁▁▁▁▁▁▁▁▁▁▁▁▁▁▁▁▁▁▁▁▁▁▁▁▁▁▁▁▁▁\n",
      "\u001b[34m\u001b[1mwandb\u001b[0m:           kl_global_validation ▁▁▁▁▁▁▁▁▁▁▁▁▁▁▁▁▁▁▁▁▁▁▁▁▁▁▁▁▁▁▁▁▁▁▁▁▁▁▁\n",
      "\u001b[34m\u001b[1mwandb\u001b[0m:                 kl_local_train ██▇▅▅▄▄▄▃▃▃▃▃▃▃▂▂▂▂▂▂▂▂▂▂▂▂▂▁▁▁▁▁▁▁▁▁▁▁\n",
      "\u001b[34m\u001b[1mwandb\u001b[0m:            kl_local_validation █▇▆▅▄▄▄▃▃▃▃▃▃▂▂▂▂▂▂▂▂▂▂▂▂▂▂▁▁▁▁▁▁▁▁▁▁▁▁\n",
      "\u001b[34m\u001b[1mwandb\u001b[0m:                      kl_weight ▁▁▁▂▂▂▂▂▂▃▃▃▃▃▃▄▄▄▄▄▅▅▅▅▅▅▆▆▆▆▆▇▇▇▇▇▇███\n",
      "\u001b[34m\u001b[1mwandb\u001b[0m:      reconstruction_loss_train █▃▃▂▂▂▂▂▂▂▁▁▁▁▁▁▁▁▁▁▁▁▁▁▁▁▁▁▁▁▁▁▁▁▁▁▁▁▁\n",
      "\u001b[34m\u001b[1mwandb\u001b[0m: reconstruction_loss_validation █▅▄▃▃▃▂▂▂▂▂▂▂▂▁▁▁▁▁▁▁▁▁▁▁▁▁▁▁▁▁▁▁▁▁▁▁▁▁\n",
      "\u001b[34m\u001b[1mwandb\u001b[0m:               train_loss_epoch █▃▂▂▁▁▁▁▁▁▁▁▁▁▁▁▁▁▁▁▁▁▁▁▁▁▁▁▁▁▁▁▁▁▁▁▁▁▁\n",
      "\u001b[34m\u001b[1mwandb\u001b[0m:                train_loss_step ▇▅▁▇▆▇█▅▄▅██▅▄▃▆▆▆▆▆▆▆▄▅▄▆▄▅▅▄▆▄▅▂█▄█▆▅▇\n",
      "\u001b[34m\u001b[1mwandb\u001b[0m:            trainer/global_step ▁▁▁▂▂▂▂▂▂▃▃▃▃▃▃▄▄▄▄▄▅▅▅▅▅▅▆▆▆▆▆▇▇▇▇▇▇███\n",
      "\u001b[34m\u001b[1mwandb\u001b[0m:                validation_loss █▄▃▂▂▂▁▁▁▁▁▁▁▁▁▁▁▁▁▁▁▁▁▁▁▂▂▂▂▂▂▂▂▂▂▂▂▂▂\n",
      "\u001b[34m\u001b[1mwandb\u001b[0m: \n",
      "\u001b[34m\u001b[1mwandb\u001b[0m: Run summary:\n",
      "\u001b[34m\u001b[1mwandb\u001b[0m:                     elbo_train 797.1994\n",
      "\u001b[34m\u001b[1mwandb\u001b[0m:                elbo_validation 794.20898\n",
      "\u001b[34m\u001b[1mwandb\u001b[0m:                          epoch 38\n",
      "\u001b[34m\u001b[1mwandb\u001b[0m:                kl_global_train 0.0\n",
      "\u001b[34m\u001b[1mwandb\u001b[0m:           kl_global_validation 0.0\n",
      "\u001b[34m\u001b[1mwandb\u001b[0m:                 kl_local_train 40.84375\n",
      "\u001b[34m\u001b[1mwandb\u001b[0m:            kl_local_validation 39.99922\n",
      "\u001b[34m\u001b[1mwandb\u001b[0m:                      kl_weight 0.095\n",
      "\u001b[34m\u001b[1mwandb\u001b[0m:      reconstruction_loss_train 756.35565\n",
      "\u001b[34m\u001b[1mwandb\u001b[0m: reconstruction_loss_validation 754.20978\n",
      "\u001b[34m\u001b[1mwandb\u001b[0m:               train_loss_epoch 760.23553\n",
      "\u001b[34m\u001b[1mwandb\u001b[0m:                train_loss_step 755.6546\n",
      "\u001b[34m\u001b[1mwandb\u001b[0m:            trainer/global_step 306734\n",
      "\u001b[34m\u001b[1mwandb\u001b[0m:                validation_loss 758.01025\n",
      "\u001b[34m\u001b[1mwandb\u001b[0m: \n"
     ]
    },
    {
     "name": "stderr",
     "output_type": "stream",
     "text": [
      "\u001b[34m\u001b[1mwandb\u001b[0m: 🚀 View run \u001b[33mStep2_Mono\u001b[0m at: \u001b[34m\u001b[4mhttps://wandb.ai/inflammation/inflammation_atlas_R1/runs/by8kekrx\u001b[0m\n",
      "\u001b[34m\u001b[1mwandb\u001b[0m: Synced 5 W&B file(s), 0 media file(s), 0 artifact file(s) and 0 other file(s)\n"
     ]
    },
    {
     "name": "stderr",
     "output_type": "stream",
     "text": [
      "\u001b[34m\u001b[1mwandb\u001b[0m: Find logs at: \u001b[35m\u001b[1m./wandb/run-20240430_085641-by8kekrx/logs\u001b[0m\n"
     ]
    }
   ],
   "source": [
    "wandb.finish()"
   ]
  },
  {
   "cell_type": "markdown",
   "id": "d9fb1179-83c7-4ac6-b4aa-92dc7a349801",
   "metadata": {
    "papermill": {
     "duration": 0.010152,
     "end_time": "2024-04-30T10:06:27.208254",
     "exception": false,
     "start_time": "2024-04-30T10:06:27.198102",
     "status": "completed"
    },
    "tags": []
   },
   "source": [
    "### Extracting embedding space"
   ]
  },
  {
   "cell_type": "code",
   "execution_count": 16,
   "id": "caaa5832-0123-4c59-8ec6-f46a75f7a14e",
   "metadata": {
    "execution": {
     "iopub.execute_input": "2024-04-30T10:06:27.229532Z",
     "iopub.status.busy": "2024-04-30T10:06:27.229263Z",
     "iopub.status.idle": "2024-04-30T10:07:03.808748Z",
     "shell.execute_reply": "2024-04-30T10:07:03.807882Z"
    },
    "papermill": {
     "duration": 36.592558,
     "end_time": "2024-04-30T10:07:03.810660",
     "exception": false,
     "start_time": "2024-04-30T10:06:27.218102",
     "status": "completed"
    },
    "tags": []
   },
   "outputs": [],
   "source": [
    "adata.obsm['X_scVI'] = model.get_latent_representation()"
   ]
  },
  {
   "cell_type": "markdown",
   "id": "2f03e70b-839c-40a6-9fbb-d76bbd787419",
   "metadata": {
    "papermill": {
     "duration": 0.010299,
     "end_time": "2024-04-30T10:07:03.832170",
     "exception": false,
     "start_time": "2024-04-30T10:07:03.821871",
     "status": "completed"
    },
    "tags": []
   },
   "source": [
    "## Save the results"
   ]
  },
  {
   "cell_type": "code",
   "execution_count": 17,
   "id": "7b04049b-47fd-4b62-a1c0-c43dcc086d34",
   "metadata": {
    "execution": {
     "iopub.execute_input": "2024-04-30T10:07:03.854905Z",
     "iopub.status.busy": "2024-04-30T10:07:03.854281Z",
     "iopub.status.idle": "2024-04-30T10:09:19.472263Z",
     "shell.execute_reply": "2024-04-30T10:09:19.471397Z"
    },
    "papermill": {
     "duration": 135.631768,
     "end_time": "2024-04-30T10:09:19.474540",
     "exception": false,
     "start_time": "2024-04-30T10:07:03.842772",
     "status": "completed"
    },
    "tags": []
   },
   "outputs": [],
   "source": [
    "if overwriteData:\n",
    "    adata.write(here(f\"{workDir}/{cellGroup}/results/02_{annotationLevel}_{cellGroup}_HVGsubset_scVI.h5ad\"), compression=\"gzip\")\n",
    "    model.save(here(f\"{workDir}/{cellGroup}/results/02_{annotationLevel}_{cellGroup}_HVGsubset_scVI_MODEL/\"),\n",
    "               overwrite = True, \n",
    "               save_anndata = False )   "
   ]
  },
  {
   "cell_type": "code",
   "execution_count": 18,
   "id": "629ba2bd-f6be-44ef-8fca-bbdf891bf25f",
   "metadata": {
    "execution": {
     "iopub.execute_input": "2024-04-30T10:09:19.501005Z",
     "iopub.status.busy": "2024-04-30T10:09:19.500717Z",
     "iopub.status.idle": "2024-04-30T10:09:19.504167Z",
     "shell.execute_reply": "2024-04-30T10:09:19.503479Z"
    },
    "papermill": {
     "duration": 0.018554,
     "end_time": "2024-04-30T10:09:19.505866",
     "exception": false,
     "start_time": "2024-04-30T10:09:19.487312",
     "status": "completed"
    },
    "tags": []
   },
   "outputs": [],
   "source": [
    "# To load the model do (after loading corresponding adata):\n",
    "# model = scvi.model.SCVI.load(here('{}/results/01_{}_HVGsubset_scVI_MODEL/'.format(workDir, cellGroup)), \n",
    "#                              adata, \n",
    "#                              use_gpu=True)"
   ]
  },
  {
   "cell_type": "raw",
   "id": "975e84d0-f56b-498d-b3a8-c9219cf22e53",
   "metadata": {
    "papermill": {
     "duration": 0.011968,
     "end_time": "2024-04-30T10:09:19.529588",
     "exception": false,
     "start_time": "2024-04-30T10:09:19.517620",
     "status": "completed"
    },
    "tags": []
   },
   "source": [
    "session_info.show()"
   ]
  }
 ],
 "metadata": {
  "kernelspec": {
   "display_name": "Python 3 (ipykernel)",
   "language": "python",
   "name": "python3"
  },
  "language_info": {
   "codemirror_mode": {
    "name": "ipython",
    "version": 3
   },
   "file_extension": ".py",
   "mimetype": "text/x-python",
   "name": "python",
   "nbconvert_exporter": "python",
   "pygments_lexer": "ipython3",
   "version": "3.9.18"
  },
  "papermill": {
   "default_parameters": {},
   "duration": 4403.097791,
   "end_time": "2024-04-30T10:09:22.866329",
   "environment_variables": {},
   "exception": null,
   "input_path": "./Mono/02_integration_scVI.ipynb",
   "output_path": "./Mono/02_integration_scVI_executed.ipynb",
   "parameters": {},
   "start_time": "2024-04-30T08:55:59.768538",
   "version": "2.5.0"
  }
 },
 "nbformat": 4,
 "nbformat_minor": 5
}