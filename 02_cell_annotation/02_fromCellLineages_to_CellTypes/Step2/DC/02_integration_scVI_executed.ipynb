{
 "cells": [
  {
   "cell_type": "code",
   "execution_count": 1,
   "id": "2dd1425a-0c07-465e-b522-9e3cc5cb93a7",
   "metadata": {
    "execution": {
     "iopub.execute_input": "2024-04-30T08:36:17.447409Z",
     "iopub.status.busy": "2024-04-30T08:36:17.447114Z",
     "iopub.status.idle": "2024-04-30T08:36:26.027622Z",
     "shell.execute_reply": "2024-04-30T08:36:26.026905Z"
    },
    "papermill": {
     "duration": 8.587931,
     "end_time": "2024-04-30T08:36:26.029423",
     "exception": false,
     "start_time": "2024-04-30T08:36:17.441492",
     "status": "completed"
    },
    "tags": []
   },
   "outputs": [
    {
     "data": {
      "text/plain": [
       "True"
      ]
     },
     "execution_count": 1,
     "metadata": {},
     "output_type": "execute_result"
    }
   ],
   "source": [
    "import os\n",
    "import sys\n",
    "\n",
    "import numpy as np\n",
    "import matplotlib.pyplot as plt\n",
    "\n",
    "import scanpy as sc\n",
    "import scvi\n",
    "import torch\n",
    "\n",
    "from pytorch_lightning.loggers import WandbLogger\n",
    "import wandb\n",
    "from dotenv import load_dotenv\n",
    "\n",
    "import session_info\n",
    "import warnings\n",
    "from pyprojroot.here import here\n",
    "\n",
    "warnings.filterwarnings(\"ignore\")\n",
    "sys.path.insert(1, str(here('bin')))\n",
    "\n",
    "torch.set_float32_matmul_precision('high')\n",
    "\n",
    "#plt.style.use(['science','nature','no-latex'])\n",
    "dpi_fig_save = 300\n",
    "sc.set_figure_params(dpi=100, dpi_save=dpi_fig_save, vector_friendly=True)\n",
    "\n",
    "load_dotenv(here('.env'))"
   ]
  },
  {
   "cell_type": "code",
   "execution_count": 2,
   "id": "09c897fc-744b-43de-a681-718fb5d327fa",
   "metadata": {
    "execution": {
     "iopub.execute_input": "2024-04-30T08:36:26.040558Z",
     "iopub.status.busy": "2024-04-30T08:36:26.040227Z",
     "iopub.status.idle": "2024-04-30T08:36:26.044252Z",
     "shell.execute_reply": "2024-04-30T08:36:26.043601Z"
    },
    "papermill": {
     "duration": 0.010833,
     "end_time": "2024-04-30T08:36:26.045817",
     "exception": false,
     "start_time": "2024-04-30T08:36:26.034984",
     "status": "completed"
    },
    "tags": []
   },
   "outputs": [],
   "source": [
    "class CustomWandbLogger(WandbLogger):\n",
    "    @property\n",
    "    def save_dir(self):\n",
    "        return self.experiment.dir"
   ]
  },
  {
   "cell_type": "code",
   "execution_count": 3,
   "id": "8ee6662f-5d45-4137-80a5-bb0b9ae8d71f",
   "metadata": {
    "execution": {
     "iopub.execute_input": "2024-04-30T08:36:26.054153Z",
     "iopub.status.busy": "2024-04-30T08:36:26.053902Z",
     "iopub.status.idle": "2024-04-30T08:36:26.062034Z",
     "shell.execute_reply": "2024-04-30T08:36:26.061404Z"
    },
    "papermill": {
     "duration": 0.014607,
     "end_time": "2024-04-30T08:36:26.063712",
     "exception": false,
     "start_time": "2024-04-30T08:36:26.049105",
     "status": "completed"
    },
    "tags": []
   },
   "outputs": [
    {
     "name": "stderr",
     "output_type": "stream",
     "text": [
      "Seed set to 0\n"
     ]
    },
    {
     "name": "stdout",
     "output_type": "stream",
     "text": [
      "Last run with scvi-tools version: 1.1.2\n"
     ]
    }
   ],
   "source": [
    "scvi.settings.seed = 0\n",
    "print(\"Last run with scvi-tools version:\", scvi.__version__)"
   ]
  },
  {
   "cell_type": "markdown",
   "id": "a81037ff-5998-482a-ba86-520f757311a9",
   "metadata": {
    "papermill": {
     "duration": 0.003639,
     "end_time": "2024-04-30T08:36:26.070728",
     "exception": false,
     "start_time": "2024-04-30T08:36:26.067089",
     "status": "completed"
    },
    "tags": []
   },
   "source": [
    "**Setting parameters** "
   ]
  },
  {
   "cell_type": "code",
   "execution_count": 4,
   "id": "56c27966-8f10-4c93-8b1a-1fa75f005e41",
   "metadata": {
    "execution": {
     "iopub.execute_input": "2024-04-30T08:36:26.079423Z",
     "iopub.status.busy": "2024-04-30T08:36:26.078951Z",
     "iopub.status.idle": "2024-04-30T08:36:26.082190Z",
     "shell.execute_reply": "2024-04-30T08:36:26.081524Z"
    },
    "papermill": {
     "duration": 0.009485,
     "end_time": "2024-04-30T08:36:26.083835",
     "exception": false,
     "start_time": "2024-04-30T08:36:26.074350",
     "status": "completed"
    },
    "tags": []
   },
   "outputs": [],
   "source": [
    "overwriteFigures = True\n",
    "overwriteData = True"
   ]
  },
  {
   "cell_type": "code",
   "execution_count": 5,
   "id": "c86fccd3-a4fe-415b-8f4e-e2ceb3ec128a",
   "metadata": {
    "execution": {
     "iopub.execute_input": "2024-04-30T08:36:26.092286Z",
     "iopub.status.busy": "2024-04-30T08:36:26.092034Z",
     "iopub.status.idle": "2024-04-30T08:36:26.095457Z",
     "shell.execute_reply": "2024-04-30T08:36:26.094812Z"
    },
    "papermill": {
     "duration": 0.009678,
     "end_time": "2024-04-30T08:36:26.097040",
     "exception": false,
     "start_time": "2024-04-30T08:36:26.087362",
     "status": "completed"
    },
    "tags": []
   },
   "outputs": [],
   "source": [
    "cellGroup = 'DC'\n",
    "workDir = os.getcwd()"
   ]
  },
  {
   "cell_type": "code",
   "execution_count": 6,
   "id": "2dee4d55-d168-467b-b867-a61fed9d6af1",
   "metadata": {
    "execution": {
     "iopub.execute_input": "2024-04-30T08:36:26.105920Z",
     "iopub.status.busy": "2024-04-30T08:36:26.105457Z",
     "iopub.status.idle": "2024-04-30T08:36:26.108977Z",
     "shell.execute_reply": "2024-04-30T08:36:26.108377Z"
    },
    "papermill": {
     "duration": 0.009931,
     "end_time": "2024-04-30T08:36:26.110493",
     "exception": false,
     "start_time": "2024-04-30T08:36:26.100562",
     "status": "completed"
    },
    "tags": []
   },
   "outputs": [],
   "source": [
    "annotationLevel = os.path.basename(os.path.normpath(workDir))"
   ]
  },
  {
   "cell_type": "code",
   "execution_count": 7,
   "id": "11e53cd5-b746-4152-89cb-c2f0c15d90b3",
   "metadata": {
    "execution": {
     "iopub.execute_input": "2024-04-30T08:36:26.119360Z",
     "iopub.status.busy": "2024-04-30T08:36:26.118743Z",
     "iopub.status.idle": "2024-04-30T08:36:26.123219Z",
     "shell.execute_reply": "2024-04-30T08:36:26.122571Z"
    },
    "papermill": {
     "duration": 0.010689,
     "end_time": "2024-04-30T08:36:26.124820",
     "exception": false,
     "start_time": "2024-04-30T08:36:26.114131",
     "status": "completed"
    },
    "tags": []
   },
   "outputs": [
    {
     "data": {
      "text/plain": [
       "'/home/jupyter/Inflammation-PBMCs-Atlas/02_cell_annotation/02_fromCellLineages_to_CellTypes/Step2'"
      ]
     },
     "execution_count": 7,
     "metadata": {},
     "output_type": "execute_result"
    }
   ],
   "source": [
    "workDir"
   ]
  },
  {
   "cell_type": "markdown",
   "id": "171d2f06-9a44-4fcb-b437-35dc546674b6",
   "metadata": {
    "papermill": {
     "duration": 0.003997,
     "end_time": "2024-04-30T08:36:26.132520",
     "exception": false,
     "start_time": "2024-04-30T08:36:26.128523",
     "status": "completed"
    },
    "tags": []
   },
   "source": [
    "**Load data**"
   ]
  },
  {
   "cell_type": "code",
   "execution_count": 8,
   "id": "429f34fe-dde6-4cc9-9f75-7de8f85c5ffe",
   "metadata": {
    "execution": {
     "iopub.execute_input": "2024-04-30T08:36:26.141287Z",
     "iopub.status.busy": "2024-04-30T08:36:26.141028Z",
     "iopub.status.idle": "2024-04-30T08:36:28.336323Z",
     "shell.execute_reply": "2024-04-30T08:36:28.335651Z"
    },
    "papermill": {
     "duration": 2.201803,
     "end_time": "2024-04-30T08:36:28.338253",
     "exception": false,
     "start_time": "2024-04-30T08:36:26.136450",
     "status": "completed"
    },
    "tags": []
   },
   "outputs": [
    {
     "data": {
      "text/plain": [
       "AnnData object with n_obs × n_vars = 57358 × 2030\n",
       "    obs: 'studyID', 'libraryID', 'sampleID', 'chemistry', 'technology', 'patientID', 'disease', 'timepoint_replicate', 'treatmentStatus', 'therapyResponse', 'sex', 'age', 'BMI', 'binned_age', 'diseaseStatus', 'smokingStatus', 'ethnicity', 'institute', 'diseaseGroup', 'n_genes_by_counts', 'log1p_n_genes_by_counts', 'total_counts', 'log1p_total_counts', 'pct_counts_in_top_20_genes', 'total_counts_mt', 'log1p_total_counts_mt', 'pct_counts_mt', 'total_counts_ribo', 'log1p_total_counts_ribo', 'pct_counts_ribo', 'total_counts_hb', 'log1p_total_counts_hb', 'pct_counts_hb', 'total_counts_plt', 'log1p_total_counts_plt', 'pct_counts_plt', 'doublet_score', 'predicted_doublet', 'S_score', 'G2M_score', 'phase'\n",
       "    var: 'hgnc_id', 'symbol', 'locus_group', 'HUGO_status', 'mt', 'ribo', 'hb', 'plt', 'n_cells_by_counts', 'mean_counts', 'log1p_mean_counts', 'pct_dropout_by_counts', 'total_counts', 'log1p_total_counts', 'highly_variable'\n",
       "    uns: 'chemistry_colors', 'log1p'\n",
       "    layers: 'counts', 'log1p_10e4_counts'"
      ]
     },
     "execution_count": 8,
     "metadata": {},
     "output_type": "execute_result"
    }
   ],
   "source": [
    "adata = sc.read_h5ad(here(f\"{workDir}/{cellGroup}/results/01_{cellGroup}_normalized_HVGsubset.h5ad\"))\n",
    "adata"
   ]
  },
  {
   "cell_type": "markdown",
   "id": "8ac79f3b-d5af-41fa-8904-1e9ac1cbe2fb",
   "metadata": {
    "papermill": {
     "duration": 0.004043,
     "end_time": "2024-04-30T08:36:28.346541",
     "exception": false,
     "start_time": "2024-04-30T08:36:28.342498",
     "status": "completed"
    },
    "tags": []
   },
   "source": [
    "## scVI integration"
   ]
  },
  {
   "cell_type": "markdown",
   "id": "9544847d-d17f-4811-b14b-760446d54d32",
   "metadata": {
    "execution": {
     "iopub.execute_input": "2024-03-25T16:49:04.004504Z",
     "iopub.status.busy": "2024-03-25T16:49:04.004143Z",
     "iopub.status.idle": "2024-03-25T16:49:04.010148Z",
     "shell.execute_reply": "2024-03-25T16:49:04.009146Z",
     "shell.execute_reply.started": "2024-03-25T16:49:04.004477Z"
    },
    "papermill": {
     "duration": 0.003915,
     "end_time": "2024-04-30T08:36:28.354567",
     "exception": false,
     "start_time": "2024-04-30T08:36:28.350652",
     "status": "completed"
    },
    "tags": []
   },
   "source": [
    "**scVI parameters**"
   ]
  },
  {
   "cell_type": "code",
   "execution_count": 9,
   "id": "208966eb-545a-4c02-854c-0ed0487ef5b3",
   "metadata": {
    "execution": {
     "iopub.execute_input": "2024-04-30T08:36:28.364824Z",
     "iopub.status.busy": "2024-04-30T08:36:28.363997Z",
     "iopub.status.idle": "2024-04-30T08:36:28.369875Z",
     "shell.execute_reply": "2024-04-30T08:36:28.369220Z"
    },
    "papermill": {
     "duration": 0.012962,
     "end_time": "2024-04-30T08:36:28.371576",
     "exception": false,
     "start_time": "2024-04-30T08:36:28.358614",
     "status": "completed"
    },
    "tags": []
   },
   "outputs": [],
   "source": [
    "# https://docs.scvi-tools.org/en/stable/api/reference/scvi.train.Trainer.html#scvi.train.Trainer\n",
    "setup_kwargs = dict(\n",
    "    layer=\"counts\", \n",
    "    batch_key='libraryID', \n",
    "    categorical_covariate_keys = ['studyID', 'chemistry', 'disease', 'sampleID'],\n",
    "    labels_key = 'chemistry'    \n",
    ")\n",
    "\n",
    "scvi_kwargs = dict(n_hidden=512,\n",
    "                   n_latent=20, # reduceds after step 00 (main)\n",
    "                   n_layers=2,\n",
    "                   gene_likelihood='nb',\n",
    "                   dispersion='gene-label')\n",
    "\n",
    "trainer_kwargs = dict(\n",
    "    checkpointing_monitor = 'elbo_validation',\n",
    "    early_stopping_monitor = 'reconstruction_loss_validation',\n",
    "    early_stopping_patience = 10,\n",
    "    early_stopping_min_delta=0.1,\n",
    "    early_stopping = True,\n",
    "    max_epochs = 1000,\n",
    "\n",
    "    #logger = # wandb\n",
    ")\n",
    "# https://docs.scvi-tools.org/en/stable/api/reference/scvi.train.TrainingPlan.html#scvi.train.TrainingPlan\n",
    "plan_kwargs = dict(\n",
    "    lr = 5e-4,\n",
    "    #reduce_lr_on_plateau = True\n",
    ")\n",
    "\n",
    "# https://docs.scvi-tools.org/en/stable/api/reference/scvi.module.VAE.html#scvi.module.VAE\n",
    "#vae = dict(\n",
    "#    use_layer_norm='both',\n",
    "#    use_batch_norm='none',\n",
    "#    encode_covariates=True,\n",
    "#    deeply_inject_covariates=False\n",
    "#)\n",
    "parameter_dict = setup_kwargs | scvi_kwargs | trainer_kwargs | plan_kwargs"
   ]
  },
  {
   "cell_type": "markdown",
   "id": "1362366a-c16b-4c11-964b-b9c5f82f7b29",
   "metadata": {
    "papermill": {
     "duration": 0.003901,
     "end_time": "2024-04-30T08:36:28.379516",
     "exception": false,
     "start_time": "2024-04-30T08:36:28.375615",
     "status": "completed"
    },
    "tags": []
   },
   "source": [
    "**wandb parameter**"
   ]
  },
  {
   "cell_type": "code",
   "execution_count": 10,
   "id": "0496e33a-8ca5-423f-b42f-34a59760708c",
   "metadata": {
    "execution": {
     "iopub.execute_input": "2024-04-30T08:36:28.389234Z",
     "iopub.status.busy": "2024-04-30T08:36:28.388950Z",
     "iopub.status.idle": "2024-04-30T08:36:28.393506Z",
     "shell.execute_reply": "2024-04-30T08:36:28.392871Z"
    },
    "papermill": {
     "duration": 0.011039,
     "end_time": "2024-04-30T08:36:28.395070",
     "exception": false,
     "start_time": "2024-04-30T08:36:28.384031",
     "status": "completed"
    },
    "tags": []
   },
   "outputs": [
    {
     "data": {
      "text/plain": [
       "'Step2_DC'"
      ]
     },
     "execution_count": 10,
     "metadata": {},
     "output_type": "execute_result"
    }
   ],
   "source": [
    "run_name = f\"{annotationLevel}_{cellGroup}\"\n",
    "run_name"
   ]
  },
  {
   "cell_type": "code",
   "execution_count": 11,
   "id": "b0021327-95a2-4002-bf32-2c5779a99505",
   "metadata": {
    "execution": {
     "iopub.execute_input": "2024-04-30T08:36:28.404702Z",
     "iopub.status.busy": "2024-04-30T08:36:28.404223Z",
     "iopub.status.idle": "2024-04-30T08:36:28.544975Z",
     "shell.execute_reply": "2024-04-30T08:36:28.544292Z"
    },
    "papermill": {
     "duration": 0.147856,
     "end_time": "2024-04-30T08:36:28.546856",
     "exception": false,
     "start_time": "2024-04-30T08:36:28.399000",
     "status": "completed"
    },
    "tags": []
   },
   "outputs": [],
   "source": [
    "logger = CustomWandbLogger(name = run_name, project='inflammation_atlas_R1', config=parameter_dict)"
   ]
  },
  {
   "cell_type": "markdown",
   "id": "c237eee1-a976-4915-9b7f-b014bf33f47d",
   "metadata": {
    "papermill": {
     "duration": 0.004072,
     "end_time": "2024-04-30T08:36:28.555409",
     "exception": false,
     "start_time": "2024-04-30T08:36:28.551337",
     "status": "completed"
    },
    "tags": []
   },
   "source": [
    "**Running integration**"
   ]
  },
  {
   "cell_type": "code",
   "execution_count": 12,
   "id": "aff97c53-1aba-462e-8a77-f1aec9cf724c",
   "metadata": {
    "execution": {
     "iopub.execute_input": "2024-04-30T08:36:28.565545Z",
     "iopub.status.busy": "2024-04-30T08:36:28.564959Z",
     "iopub.status.idle": "2024-04-30T08:36:30.279007Z",
     "shell.execute_reply": "2024-04-30T08:36:30.278094Z"
    },
    "papermill": {
     "duration": 1.721674,
     "end_time": "2024-04-30T08:36:30.281163",
     "exception": false,
     "start_time": "2024-04-30T08:36:28.559489",
     "status": "completed"
    },
    "tags": []
   },
   "outputs": [],
   "source": [
    "scvi.model.SCVI.setup_anndata(adata, \n",
    "                              **setup_kwargs)"
   ]
  },
  {
   "cell_type": "code",
   "execution_count": 13,
   "id": "1a56f448-cf44-47c1-81a4-a89caa930fec",
   "metadata": {
    "execution": {
     "iopub.execute_input": "2024-04-30T08:36:30.291752Z",
     "iopub.status.busy": "2024-04-30T08:36:30.291442Z",
     "iopub.status.idle": "2024-04-30T08:36:30.626287Z",
     "shell.execute_reply": "2024-04-30T08:36:30.625574Z"
    },
    "papermill": {
     "duration": 0.342745,
     "end_time": "2024-04-30T08:36:30.628418",
     "exception": false,
     "start_time": "2024-04-30T08:36:30.285673",
     "status": "completed"
    },
    "tags": []
   },
   "outputs": [],
   "source": [
    "model = scvi.model.SCVI(adata, **scvi_kwargs)"
   ]
  },
  {
   "cell_type": "code",
   "execution_count": 14,
   "id": "2735f010-4f24-4ae8-9740-a8cfeb335e9a",
   "metadata": {
    "execution": {
     "iopub.execute_input": "2024-04-30T08:36:30.638338Z",
     "iopub.status.busy": "2024-04-30T08:36:30.638055Z",
     "iopub.status.idle": "2024-04-30T08:39:43.383992Z",
     "shell.execute_reply": "2024-04-30T08:39:43.383110Z"
    },
    "papermill": {
     "duration": 192.753741,
     "end_time": "2024-04-30T08:39:43.386421",
     "exception": false,
     "start_time": "2024-04-30T08:36:30.632680",
     "status": "completed"
    },
    "tags": []
   },
   "outputs": [
    {
     "name": "stderr",
     "output_type": "stream",
     "text": [
      "GPU available: True (cuda), used: True\n"
     ]
    },
    {
     "name": "stderr",
     "output_type": "stream",
     "text": [
      "TPU available: False, using: 0 TPU cores\n"
     ]
    },
    {
     "name": "stderr",
     "output_type": "stream",
     "text": [
      "IPU available: False, using: 0 IPUs\n"
     ]
    },
    {
     "name": "stderr",
     "output_type": "stream",
     "text": [
      "HPU available: False, using: 0 HPUs\n"
     ]
    },
    {
     "name": "stderr",
     "output_type": "stream",
     "text": [
      "\u001b[34m\u001b[1mwandb\u001b[0m: Currently logged in as: \u001b[33mdav1989\u001b[0m (\u001b[33minflammation\u001b[0m). Use \u001b[1m`wandb login --relogin`\u001b[0m to force relogin\n"
     ]
    },
    {
     "name": "stderr",
     "output_type": "stream",
     "text": [
      "\u001b[34m\u001b[1mwandb\u001b[0m: wandb version 0.16.6 is available!  To upgrade, please run:\n",
      "\u001b[34m\u001b[1mwandb\u001b[0m:  $ pip install wandb --upgrade\n"
     ]
    },
    {
     "name": "stderr",
     "output_type": "stream",
     "text": [
      "\u001b[34m\u001b[1mwandb\u001b[0m: Tracking run with wandb version 0.16.3\n"
     ]
    },
    {
     "name": "stderr",
     "output_type": "stream",
     "text": [
      "\u001b[34m\u001b[1mwandb\u001b[0m: Run data is saved locally in \u001b[35m\u001b[1m./wandb/run-20240430_083637-t77vvya5\u001b[0m\n",
      "\u001b[34m\u001b[1mwandb\u001b[0m: Run \u001b[1m`wandb offline`\u001b[0m to turn off syncing.\n"
     ]
    },
    {
     "name": "stderr",
     "output_type": "stream",
     "text": [
      "\u001b[34m\u001b[1mwandb\u001b[0m: Syncing run \u001b[33mStep2_DC\u001b[0m\n"
     ]
    },
    {
     "name": "stderr",
     "output_type": "stream",
     "text": [
      "\u001b[34m\u001b[1mwandb\u001b[0m: ⭐️ View project at \u001b[34m\u001b[4mhttps://wandb.ai/inflammation/inflammation_atlas_R1\u001b[0m\n"
     ]
    },
    {
     "name": "stderr",
     "output_type": "stream",
     "text": [
      "\u001b[34m\u001b[1mwandb\u001b[0m: 🚀 View run at \u001b[34m\u001b[4mhttps://wandb.ai/inflammation/inflammation_atlas_R1/runs/t77vvya5\u001b[0m\n"
     ]
    },
    {
     "name": "stderr",
     "output_type": "stream",
     "text": [
      "LOCAL_RANK: 0 - CUDA_VISIBLE_DEVICES: [0]\n"
     ]
    },
    {
     "name": "stdout",
     "output_type": "stream",
     "text": [
      "\r",
      "Training:   0%|          | 0/1000 [00:00<?, ?it/s]"
     ]
    },
    {
     "name": "stdout",
     "output_type": "stream",
     "text": [
      "\r",
      "Epoch 1/1000:   0%|          | 0/1000 [00:00<?, ?it/s]"
     ]
    },
    {
     "name": "stdout",
     "output_type": "stream",
     "text": [
      "\r",
      "Epoch 1/1000:   0%|          | 1/1000 [00:08<2:21:13,  8.48s/it]"
     ]
    },
    {
     "name": "stdout",
     "output_type": "stream",
     "text": [
      "\r",
      "Epoch 1/1000:   0%|          | 1/1000 [00:08<2:21:13,  8.48s/it, v_num=vya5, train_loss_step=1.17e+3, train_loss_epoch=1.12e+3]"
     ]
    },
    {
     "name": "stdout",
     "output_type": "stream",
     "text": [
      "\r",
      "Epoch 2/1000:   0%|          | 1/1000 [00:08<2:21:13,  8.48s/it, v_num=vya5, train_loss_step=1.17e+3, train_loss_epoch=1.12e+3]"
     ]
    },
    {
     "name": "stdout",
     "output_type": "stream",
     "text": [
      "\r",
      "Epoch 2/1000:   0%|          | 2/1000 [00:14<1:53:11,  6.81s/it, v_num=vya5, train_loss_step=1.17e+3, train_loss_epoch=1.12e+3]"
     ]
    },
    {
     "name": "stdout",
     "output_type": "stream",
     "text": [
      "\r",
      "Epoch 2/1000:   0%|          | 2/1000 [00:14<1:53:11,  6.81s/it, v_num=vya5, train_loss_step=1.05e+3, train_loss_epoch=1.07e+3]"
     ]
    },
    {
     "name": "stdout",
     "output_type": "stream",
     "text": [
      "\r",
      "Epoch 3/1000:   0%|          | 2/1000 [00:14<1:53:11,  6.81s/it, v_num=vya5, train_loss_step=1.05e+3, train_loss_epoch=1.07e+3]"
     ]
    },
    {
     "name": "stdout",
     "output_type": "stream",
     "text": [
      "\r",
      "Epoch 3/1000:   0%|          | 3/1000 [00:19<1:44:30,  6.29s/it, v_num=vya5, train_loss_step=1.05e+3, train_loss_epoch=1.07e+3]"
     ]
    },
    {
     "name": "stdout",
     "output_type": "stream",
     "text": [
      "\r",
      "Epoch 3/1000:   0%|          | 3/1000 [00:19<1:44:30,  6.29s/it, v_num=vya5, train_loss_step=1.01e+3, train_loss_epoch=1.06e+3]"
     ]
    },
    {
     "name": "stdout",
     "output_type": "stream",
     "text": [
      "\r",
      "Epoch 4/1000:   0%|          | 3/1000 [00:19<1:44:30,  6.29s/it, v_num=vya5, train_loss_step=1.01e+3, train_loss_epoch=1.06e+3]"
     ]
    },
    {
     "name": "stdout",
     "output_type": "stream",
     "text": [
      "\r",
      "Epoch 4/1000:   0%|          | 4/1000 [00:25<1:41:24,  6.11s/it, v_num=vya5, train_loss_step=1.01e+3, train_loss_epoch=1.06e+3]"
     ]
    },
    {
     "name": "stdout",
     "output_type": "stream",
     "text": [
      "\r",
      "Epoch 4/1000:   0%|          | 4/1000 [00:25<1:41:24,  6.11s/it, v_num=vya5, train_loss_step=1.02e+3, train_loss_epoch=1.05e+3]"
     ]
    },
    {
     "name": "stdout",
     "output_type": "stream",
     "text": [
      "\r",
      "Epoch 5/1000:   0%|          | 4/1000 [00:25<1:41:24,  6.11s/it, v_num=vya5, train_loss_step=1.02e+3, train_loss_epoch=1.05e+3]"
     ]
    },
    {
     "name": "stdout",
     "output_type": "stream",
     "text": [
      "\r",
      "Epoch 5/1000:   0%|          | 5/1000 [00:31<1:38:23,  5.93s/it, v_num=vya5, train_loss_step=1.02e+3, train_loss_epoch=1.05e+3]"
     ]
    },
    {
     "name": "stdout",
     "output_type": "stream",
     "text": [
      "\r",
      "Epoch 5/1000:   0%|          | 5/1000 [00:31<1:38:23,  5.93s/it, v_num=vya5, train_loss_step=1.14e+3, train_loss_epoch=1.04e+3]"
     ]
    },
    {
     "name": "stdout",
     "output_type": "stream",
     "text": [
      "\r",
      "Epoch 6/1000:   0%|          | 5/1000 [00:31<1:38:23,  5.93s/it, v_num=vya5, train_loss_step=1.14e+3, train_loss_epoch=1.04e+3]"
     ]
    },
    {
     "name": "stdout",
     "output_type": "stream",
     "text": [
      "\r",
      "Epoch 6/1000:   1%|          | 6/1000 [00:36<1:36:37,  5.83s/it, v_num=vya5, train_loss_step=1.14e+3, train_loss_epoch=1.04e+3]"
     ]
    },
    {
     "name": "stdout",
     "output_type": "stream",
     "text": [
      "\r",
      "Epoch 6/1000:   1%|          | 6/1000 [00:36<1:36:37,  5.83s/it, v_num=vya5, train_loss_step=1e+3, train_loss_epoch=1.04e+3]   "
     ]
    },
    {
     "name": "stdout",
     "output_type": "stream",
     "text": [
      "\r",
      "Epoch 7/1000:   1%|          | 6/1000 [00:36<1:36:37,  5.83s/it, v_num=vya5, train_loss_step=1e+3, train_loss_epoch=1.04e+3]"
     ]
    },
    {
     "name": "stdout",
     "output_type": "stream",
     "text": [
      "\r",
      "Epoch 7/1000:   1%|          | 7/1000 [00:42<1:35:34,  5.78s/it, v_num=vya5, train_loss_step=1e+3, train_loss_epoch=1.04e+3]"
     ]
    },
    {
     "name": "stdout",
     "output_type": "stream",
     "text": [
      "\r",
      "Epoch 7/1000:   1%|          | 7/1000 [00:42<1:35:34,  5.78s/it, v_num=vya5, train_loss_step=1.05e+3, train_loss_epoch=1.03e+3]"
     ]
    },
    {
     "name": "stdout",
     "output_type": "stream",
     "text": [
      "\r",
      "Epoch 8/1000:   1%|          | 7/1000 [00:42<1:35:34,  5.78s/it, v_num=vya5, train_loss_step=1.05e+3, train_loss_epoch=1.03e+3]"
     ]
    },
    {
     "name": "stdout",
     "output_type": "stream",
     "text": [
      "\r",
      "Epoch 8/1000:   1%|          | 8/1000 [00:48<1:35:24,  5.77s/it, v_num=vya5, train_loss_step=1.05e+3, train_loss_epoch=1.03e+3]"
     ]
    },
    {
     "name": "stdout",
     "output_type": "stream",
     "text": [
      "\r",
      "Epoch 8/1000:   1%|          | 8/1000 [00:48<1:35:24,  5.77s/it, v_num=vya5, train_loss_step=1.04e+3, train_loss_epoch=1.03e+3]"
     ]
    },
    {
     "name": "stdout",
     "output_type": "stream",
     "text": [
      "\r",
      "Epoch 9/1000:   1%|          | 8/1000 [00:48<1:35:24,  5.77s/it, v_num=vya5, train_loss_step=1.04e+3, train_loss_epoch=1.03e+3]"
     ]
    },
    {
     "name": "stdout",
     "output_type": "stream",
     "text": [
      "\r",
      "Epoch 9/1000:   1%|          | 9/1000 [00:54<1:35:03,  5.75s/it, v_num=vya5, train_loss_step=1.04e+3, train_loss_epoch=1.03e+3]"
     ]
    },
    {
     "name": "stdout",
     "output_type": "stream",
     "text": [
      "\r",
      "Epoch 9/1000:   1%|          | 9/1000 [00:54<1:35:03,  5.75s/it, v_num=vya5, train_loss_step=1.03e+3, train_loss_epoch=1.03e+3]"
     ]
    },
    {
     "name": "stdout",
     "output_type": "stream",
     "text": [
      "\r",
      "Epoch 10/1000:   1%|          | 9/1000 [00:54<1:35:03,  5.75s/it, v_num=vya5, train_loss_step=1.03e+3, train_loss_epoch=1.03e+3]"
     ]
    },
    {
     "name": "stdout",
     "output_type": "stream",
     "text": [
      "\r",
      "Epoch 10/1000:   1%|          | 10/1000 [00:59<1:34:16,  5.71s/it, v_num=vya5, train_loss_step=1.03e+3, train_loss_epoch=1.03e+3]"
     ]
    },
    {
     "name": "stdout",
     "output_type": "stream",
     "text": [
      "\r",
      "Epoch 10/1000:   1%|          | 10/1000 [00:59<1:34:16,  5.71s/it, v_num=vya5, train_loss_step=1.14e+3, train_loss_epoch=1.02e+3]"
     ]
    },
    {
     "name": "stdout",
     "output_type": "stream",
     "text": [
      "\r",
      "Epoch 11/1000:   1%|          | 10/1000 [00:59<1:34:16,  5.71s/it, v_num=vya5, train_loss_step=1.14e+3, train_loss_epoch=1.02e+3]"
     ]
    },
    {
     "name": "stdout",
     "output_type": "stream",
     "text": [
      "\r",
      "Epoch 11/1000:   1%|          | 11/1000 [01:05<1:34:16,  5.72s/it, v_num=vya5, train_loss_step=1.14e+3, train_loss_epoch=1.02e+3]"
     ]
    },
    {
     "name": "stdout",
     "output_type": "stream",
     "text": [
      "\r",
      "Epoch 11/1000:   1%|          | 11/1000 [01:05<1:34:16,  5.72s/it, v_num=vya5, train_loss_step=965, train_loss_epoch=1.02e+3]    "
     ]
    },
    {
     "name": "stdout",
     "output_type": "stream",
     "text": [
      "\r",
      "Epoch 12/1000:   1%|          | 11/1000 [01:05<1:34:16,  5.72s/it, v_num=vya5, train_loss_step=965, train_loss_epoch=1.02e+3]"
     ]
    },
    {
     "name": "stdout",
     "output_type": "stream",
     "text": [
      "\r",
      "Epoch 12/1000:   1%|          | 12/1000 [01:10<1:33:24,  5.67s/it, v_num=vya5, train_loss_step=965, train_loss_epoch=1.02e+3]"
     ]
    },
    {
     "name": "stdout",
     "output_type": "stream",
     "text": [
      "\r",
      "Epoch 12/1000:   1%|          | 12/1000 [01:10<1:33:24,  5.67s/it, v_num=vya5, train_loss_step=1.03e+3, train_loss_epoch=1.02e+3]"
     ]
    },
    {
     "name": "stdout",
     "output_type": "stream",
     "text": [
      "\r",
      "Epoch 13/1000:   1%|          | 12/1000 [01:10<1:33:24,  5.67s/it, v_num=vya5, train_loss_step=1.03e+3, train_loss_epoch=1.02e+3]"
     ]
    },
    {
     "name": "stdout",
     "output_type": "stream",
     "text": [
      "\r",
      "Epoch 13/1000:   1%|▏         | 13/1000 [01:16<1:33:16,  5.67s/it, v_num=vya5, train_loss_step=1.03e+3, train_loss_epoch=1.02e+3]"
     ]
    },
    {
     "name": "stdout",
     "output_type": "stream",
     "text": [
      "\r",
      "Epoch 13/1000:   1%|▏         | 13/1000 [01:16<1:33:16,  5.67s/it, v_num=vya5, train_loss_step=1.05e+3, train_loss_epoch=1.02e+3]"
     ]
    },
    {
     "name": "stdout",
     "output_type": "stream",
     "text": [
      "\r",
      "Epoch 14/1000:   1%|▏         | 13/1000 [01:16<1:33:16,  5.67s/it, v_num=vya5, train_loss_step=1.05e+3, train_loss_epoch=1.02e+3]"
     ]
    },
    {
     "name": "stdout",
     "output_type": "stream",
     "text": [
      "\r",
      "Epoch 14/1000:   1%|▏         | 14/1000 [01:22<1:32:51,  5.65s/it, v_num=vya5, train_loss_step=1.05e+3, train_loss_epoch=1.02e+3]"
     ]
    },
    {
     "name": "stdout",
     "output_type": "stream",
     "text": [
      "\r",
      "Epoch 14/1000:   1%|▏         | 14/1000 [01:22<1:32:51,  5.65s/it, v_num=vya5, train_loss_step=1.01e+3, train_loss_epoch=1.01e+3]"
     ]
    },
    {
     "name": "stdout",
     "output_type": "stream",
     "text": [
      "\r",
      "Epoch 15/1000:   1%|▏         | 14/1000 [01:22<1:32:51,  5.65s/it, v_num=vya5, train_loss_step=1.01e+3, train_loss_epoch=1.01e+3]"
     ]
    },
    {
     "name": "stdout",
     "output_type": "stream",
     "text": [
      "\r",
      "Epoch 15/1000:   2%|▏         | 15/1000 [01:27<1:33:10,  5.68s/it, v_num=vya5, train_loss_step=1.01e+3, train_loss_epoch=1.01e+3]"
     ]
    },
    {
     "name": "stdout",
     "output_type": "stream",
     "text": [
      "\r",
      "Epoch 15/1000:   2%|▏         | 15/1000 [01:27<1:33:10,  5.68s/it, v_num=vya5, train_loss_step=956, train_loss_epoch=1.01e+3]    "
     ]
    },
    {
     "name": "stdout",
     "output_type": "stream",
     "text": [
      "\r",
      "Epoch 16/1000:   2%|▏         | 15/1000 [01:27<1:33:10,  5.68s/it, v_num=vya5, train_loss_step=956, train_loss_epoch=1.01e+3]"
     ]
    },
    {
     "name": "stdout",
     "output_type": "stream",
     "text": [
      "\r",
      "Epoch 16/1000:   2%|▏         | 16/1000 [01:33<1:32:51,  5.66s/it, v_num=vya5, train_loss_step=956, train_loss_epoch=1.01e+3]"
     ]
    },
    {
     "name": "stdout",
     "output_type": "stream",
     "text": [
      "\r",
      "Epoch 16/1000:   2%|▏         | 16/1000 [01:33<1:32:51,  5.66s/it, v_num=vya5, train_loss_step=1.09e+3, train_loss_epoch=1.01e+3]"
     ]
    },
    {
     "name": "stdout",
     "output_type": "stream",
     "text": [
      "\r",
      "Epoch 17/1000:   2%|▏         | 16/1000 [01:33<1:32:51,  5.66s/it, v_num=vya5, train_loss_step=1.09e+3, train_loss_epoch=1.01e+3]"
     ]
    },
    {
     "name": "stdout",
     "output_type": "stream",
     "text": [
      "\r",
      "Epoch 17/1000:   2%|▏         | 17/1000 [01:39<1:32:31,  5.65s/it, v_num=vya5, train_loss_step=1.09e+3, train_loss_epoch=1.01e+3]"
     ]
    },
    {
     "name": "stdout",
     "output_type": "stream",
     "text": [
      "\r",
      "Epoch 17/1000:   2%|▏         | 17/1000 [01:39<1:32:31,  5.65s/it, v_num=vya5, train_loss_step=971, train_loss_epoch=1.01e+3]    "
     ]
    },
    {
     "name": "stdout",
     "output_type": "stream",
     "text": [
      "\r",
      "Epoch 18/1000:   2%|▏         | 17/1000 [01:39<1:32:31,  5.65s/it, v_num=vya5, train_loss_step=971, train_loss_epoch=1.01e+3]"
     ]
    },
    {
     "name": "stdout",
     "output_type": "stream",
     "text": [
      "\r",
      "Epoch 18/1000:   2%|▏         | 18/1000 [01:44<1:32:01,  5.62s/it, v_num=vya5, train_loss_step=971, train_loss_epoch=1.01e+3]"
     ]
    },
    {
     "name": "stdout",
     "output_type": "stream",
     "text": [
      "\r",
      "Epoch 18/1000:   2%|▏         | 18/1000 [01:44<1:32:01,  5.62s/it, v_num=vya5, train_loss_step=1.04e+3, train_loss_epoch=1.01e+3]"
     ]
    },
    {
     "name": "stdout",
     "output_type": "stream",
     "text": [
      "\r",
      "Epoch 19/1000:   2%|▏         | 18/1000 [01:44<1:32:01,  5.62s/it, v_num=vya5, train_loss_step=1.04e+3, train_loss_epoch=1.01e+3]"
     ]
    },
    {
     "name": "stdout",
     "output_type": "stream",
     "text": [
      "\r",
      "Epoch 19/1000:   2%|▏         | 19/1000 [01:50<1:32:23,  5.65s/it, v_num=vya5, train_loss_step=1.04e+3, train_loss_epoch=1.01e+3]"
     ]
    },
    {
     "name": "stdout",
     "output_type": "stream",
     "text": [
      "\r",
      "Epoch 19/1000:   2%|▏         | 19/1000 [01:50<1:32:23,  5.65s/it, v_num=vya5, train_loss_step=928, train_loss_epoch=1.01e+3]    "
     ]
    },
    {
     "name": "stdout",
     "output_type": "stream",
     "text": [
      "\r",
      "Epoch 20/1000:   2%|▏         | 19/1000 [01:50<1:32:23,  5.65s/it, v_num=vya5, train_loss_step=928, train_loss_epoch=1.01e+3]"
     ]
    },
    {
     "name": "stdout",
     "output_type": "stream",
     "text": [
      "\r",
      "Epoch 20/1000:   2%|▏         | 20/1000 [01:56<1:32:01,  5.63s/it, v_num=vya5, train_loss_step=928, train_loss_epoch=1.01e+3]"
     ]
    },
    {
     "name": "stdout",
     "output_type": "stream",
     "text": [
      "\r",
      "Epoch 20/1000:   2%|▏         | 20/1000 [01:56<1:32:01,  5.63s/it, v_num=vya5, train_loss_step=1.07e+3, train_loss_epoch=1.01e+3]"
     ]
    },
    {
     "name": "stdout",
     "output_type": "stream",
     "text": [
      "\r",
      "Epoch 21/1000:   2%|▏         | 20/1000 [01:56<1:32:01,  5.63s/it, v_num=vya5, train_loss_step=1.07e+3, train_loss_epoch=1.01e+3]"
     ]
    },
    {
     "name": "stdout",
     "output_type": "stream",
     "text": [
      "\r",
      "Epoch 21/1000:   2%|▏         | 21/1000 [02:01<1:31:31,  5.61s/it, v_num=vya5, train_loss_step=1.07e+3, train_loss_epoch=1.01e+3]"
     ]
    },
    {
     "name": "stdout",
     "output_type": "stream",
     "text": [
      "\r",
      "Epoch 21/1000:   2%|▏         | 21/1000 [02:01<1:31:31,  5.61s/it, v_num=vya5, train_loss_step=1.08e+3, train_loss_epoch=1e+3]   "
     ]
    },
    {
     "name": "stdout",
     "output_type": "stream",
     "text": [
      "\r",
      "Epoch 22/1000:   2%|▏         | 21/1000 [02:01<1:31:31,  5.61s/it, v_num=vya5, train_loss_step=1.08e+3, train_loss_epoch=1e+3]"
     ]
    },
    {
     "name": "stdout",
     "output_type": "stream",
     "text": [
      "\r",
      "Epoch 22/1000:   2%|▏         | 22/1000 [02:07<1:31:38,  5.62s/it, v_num=vya5, train_loss_step=1.08e+3, train_loss_epoch=1e+3]"
     ]
    },
    {
     "name": "stdout",
     "output_type": "stream",
     "text": [
      "\r",
      "Epoch 22/1000:   2%|▏         | 22/1000 [02:07<1:31:38,  5.62s/it, v_num=vya5, train_loss_step=1.11e+3, train_loss_epoch=1e+3]"
     ]
    },
    {
     "name": "stdout",
     "output_type": "stream",
     "text": [
      "\r",
      "Epoch 23/1000:   2%|▏         | 22/1000 [02:07<1:31:38,  5.62s/it, v_num=vya5, train_loss_step=1.11e+3, train_loss_epoch=1e+3]"
     ]
    },
    {
     "name": "stdout",
     "output_type": "stream",
     "text": [
      "\r",
      "Epoch 23/1000:   2%|▏         | 23/1000 [02:12<1:31:29,  5.62s/it, v_num=vya5, train_loss_step=1.11e+3, train_loss_epoch=1e+3]"
     ]
    },
    {
     "name": "stdout",
     "output_type": "stream",
     "text": [
      "\r",
      "Epoch 23/1000:   2%|▏         | 23/1000 [02:12<1:31:29,  5.62s/it, v_num=vya5, train_loss_step=1.02e+3, train_loss_epoch=1e+3]"
     ]
    },
    {
     "name": "stdout",
     "output_type": "stream",
     "text": [
      "\r",
      "Epoch 24/1000:   2%|▏         | 23/1000 [02:12<1:31:29,  5.62s/it, v_num=vya5, train_loss_step=1.02e+3, train_loss_epoch=1e+3]"
     ]
    },
    {
     "name": "stdout",
     "output_type": "stream",
     "text": [
      "\r",
      "Epoch 24/1000:   2%|▏         | 24/1000 [02:18<1:32:06,  5.66s/it, v_num=vya5, train_loss_step=1.02e+3, train_loss_epoch=1e+3]"
     ]
    },
    {
     "name": "stdout",
     "output_type": "stream",
     "text": [
      "\r",
      "Epoch 24/1000:   2%|▏         | 24/1000 [02:18<1:32:06,  5.66s/it, v_num=vya5, train_loss_step=1.01e+3, train_loss_epoch=1e+3]"
     ]
    },
    {
     "name": "stdout",
     "output_type": "stream",
     "text": [
      "\r",
      "Epoch 25/1000:   2%|▏         | 24/1000 [02:18<1:32:06,  5.66s/it, v_num=vya5, train_loss_step=1.01e+3, train_loss_epoch=1e+3]"
     ]
    },
    {
     "name": "stdout",
     "output_type": "stream",
     "text": [
      "\r",
      "Epoch 25/1000:   2%|▎         | 25/1000 [02:24<1:32:58,  5.72s/it, v_num=vya5, train_loss_step=1.01e+3, train_loss_epoch=1e+3]"
     ]
    },
    {
     "name": "stdout",
     "output_type": "stream",
     "text": [
      "\r",
      "Epoch 25/1000:   2%|▎         | 25/1000 [02:24<1:32:58,  5.72s/it, v_num=vya5, train_loss_step=966, train_loss_epoch=1e+3]    "
     ]
    },
    {
     "name": "stdout",
     "output_type": "stream",
     "text": [
      "\r",
      "Epoch 26/1000:   2%|▎         | 25/1000 [02:24<1:32:58,  5.72s/it, v_num=vya5, train_loss_step=966, train_loss_epoch=1e+3]"
     ]
    },
    {
     "name": "stdout",
     "output_type": "stream",
     "text": [
      "\r",
      "Epoch 26/1000:   3%|▎         | 26/1000 [02:30<1:32:55,  5.72s/it, v_num=vya5, train_loss_step=966, train_loss_epoch=1e+3]"
     ]
    },
    {
     "name": "stdout",
     "output_type": "stream",
     "text": [
      "\r",
      "Epoch 26/1000:   3%|▎         | 26/1000 [02:30<1:32:55,  5.72s/it, v_num=vya5, train_loss_step=1.1e+3, train_loss_epoch=1e+3]"
     ]
    },
    {
     "name": "stdout",
     "output_type": "stream",
     "text": [
      "\r",
      "Epoch 27/1000:   3%|▎         | 26/1000 [02:30<1:32:55,  5.72s/it, v_num=vya5, train_loss_step=1.1e+3, train_loss_epoch=1e+3]"
     ]
    },
    {
     "name": "stdout",
     "output_type": "stream",
     "text": [
      "\r",
      "Epoch 27/1000:   3%|▎         | 27/1000 [02:36<1:33:09,  5.74s/it, v_num=vya5, train_loss_step=1.1e+3, train_loss_epoch=1e+3]"
     ]
    },
    {
     "name": "stdout",
     "output_type": "stream",
     "text": [
      "\r",
      "Epoch 27/1000:   3%|▎         | 27/1000 [02:36<1:33:09,  5.74s/it, v_num=vya5, train_loss_step=1.04e+3, train_loss_epoch=1e+3]"
     ]
    },
    {
     "name": "stdout",
     "output_type": "stream",
     "text": [
      "\r",
      "Epoch 28/1000:   3%|▎         | 27/1000 [02:36<1:33:09,  5.74s/it, v_num=vya5, train_loss_step=1.04e+3, train_loss_epoch=1e+3]"
     ]
    },
    {
     "name": "stdout",
     "output_type": "stream",
     "text": [
      "\r",
      "Epoch 28/1000:   3%|▎         | 28/1000 [02:42<1:34:46,  5.85s/it, v_num=vya5, train_loss_step=1.04e+3, train_loss_epoch=1e+3]"
     ]
    },
    {
     "name": "stdout",
     "output_type": "stream",
     "text": [
      "\r",
      "Epoch 28/1000:   3%|▎         | 28/1000 [02:42<1:34:46,  5.85s/it, v_num=vya5, train_loss_step=978, train_loss_epoch=1e+3]    "
     ]
    },
    {
     "name": "stdout",
     "output_type": "stream",
     "text": [
      "\r",
      "Epoch 29/1000:   3%|▎         | 28/1000 [02:42<1:34:46,  5.85s/it, v_num=vya5, train_loss_step=978, train_loss_epoch=1e+3]"
     ]
    },
    {
     "name": "stdout",
     "output_type": "stream",
     "text": [
      "\r",
      "Epoch 29/1000:   3%|▎         | 29/1000 [02:47<1:34:19,  5.83s/it, v_num=vya5, train_loss_step=978, train_loss_epoch=1e+3]"
     ]
    },
    {
     "name": "stdout",
     "output_type": "stream",
     "text": [
      "\r",
      "Epoch 29/1000:   3%|▎         | 29/1000 [02:47<1:34:19,  5.83s/it, v_num=vya5, train_loss_step=946, train_loss_epoch=1e+3]"
     ]
    },
    {
     "name": "stdout",
     "output_type": "stream",
     "text": [
      "\r",
      "Epoch 30/1000:   3%|▎         | 29/1000 [02:47<1:34:19,  5.83s/it, v_num=vya5, train_loss_step=946, train_loss_epoch=1e+3]"
     ]
    },
    {
     "name": "stdout",
     "output_type": "stream",
     "text": [
      "\r",
      "Epoch 30/1000:   3%|▎         | 30/1000 [02:53<1:32:14,  5.71s/it, v_num=vya5, train_loss_step=946, train_loss_epoch=1e+3]"
     ]
    },
    {
     "name": "stdout",
     "output_type": "stream",
     "text": [
      "\r",
      "Epoch 30/1000:   3%|▎         | 30/1000 [02:53<1:32:14,  5.71s/it, v_num=vya5, train_loss_step=1.01e+3, train_loss_epoch=999]"
     ]
    },
    {
     "name": "stdout",
     "output_type": "stream",
     "text": [
      "\r",
      "Epoch 31/1000:   3%|▎         | 30/1000 [02:53<1:32:14,  5.71s/it, v_num=vya5, train_loss_step=1.01e+3, train_loss_epoch=999]"
     ]
    },
    {
     "name": "stdout",
     "output_type": "stream",
     "text": [
      "\r",
      "Epoch 31/1000:   3%|▎         | 31/1000 [02:58<1:31:51,  5.69s/it, v_num=vya5, train_loss_step=1.01e+3, train_loss_epoch=999]"
     ]
    },
    {
     "name": "stdout",
     "output_type": "stream",
     "text": [
      "\r",
      "Epoch 31/1000:   3%|▎         | 31/1000 [02:58<1:31:51,  5.69s/it, v_num=vya5, train_loss_step=971, train_loss_epoch=999]    "
     ]
    },
    {
     "name": "stdout",
     "output_type": "stream",
     "text": [
      "\r",
      "Epoch 32/1000:   3%|▎         | 31/1000 [02:58<1:31:51,  5.69s/it, v_num=vya5, train_loss_step=971, train_loss_epoch=999]"
     ]
    },
    {
     "name": "stdout",
     "output_type": "stream",
     "text": [
      "\r",
      "Epoch 32/1000:   3%|▎         | 32/1000 [03:04<1:31:23,  5.66s/it, v_num=vya5, train_loss_step=971, train_loss_epoch=999]"
     ]
    },
    {
     "name": "stdout",
     "output_type": "stream",
     "text": [
      "\r",
      "Epoch 32/1000:   3%|▎         | 32/1000 [03:04<1:31:23,  5.66s/it, v_num=vya5, train_loss_step=906, train_loss_epoch=998]"
     ]
    },
    {
     "name": "stdout",
     "output_type": "stream",
     "text": [
      "\r",
      "Epoch 32/1000:   3%|▎         | 32/1000 [03:04<1:33:03,  5.77s/it, v_num=vya5, train_loss_step=906, train_loss_epoch=998]"
     ]
    },
    {
     "name": "stdout",
     "output_type": "stream",
     "text": [
      "\n",
      "Monitored metric reconstruction_loss_validation did not improve in the last 10 records. Best score: 1021.808. Signaling Trainer to stop.\n"
     ]
    }
   ],
   "source": [
    "model.train(logger=logger, plan_kwargs = plan_kwargs, **trainer_kwargs)"
   ]
  },
  {
   "cell_type": "code",
   "execution_count": 15,
   "id": "c282f6eb-0ad1-40a5-81e6-1acda1545dad",
   "metadata": {
    "execution": {
     "iopub.execute_input": "2024-04-30T08:39:43.410035Z",
     "iopub.status.busy": "2024-04-30T08:39:43.409392Z",
     "iopub.status.idle": "2024-04-30T08:39:47.923983Z",
     "shell.execute_reply": "2024-04-30T08:39:47.923223Z"
    },
    "papermill": {
     "duration": 4.528818,
     "end_time": "2024-04-30T08:39:47.925774",
     "exception": false,
     "start_time": "2024-04-30T08:39:43.396956",
     "status": "completed"
    },
    "tags": []
   },
   "outputs": [
    {
     "name": "stderr",
     "output_type": "stream",
     "text": [
      "\u001b[34m\u001b[1mwandb\u001b[0m: - 0.003 MB of 0.003 MB uploaded\r"
     ]
    },
    {
     "name": "stderr",
     "output_type": "stream",
     "text": [
      "\u001b[34m\u001b[1mwandb\u001b[0m: \\ 0.003 MB of 0.009 MB uploaded\r"
     ]
    },
    {
     "name": "stderr",
     "output_type": "stream",
     "text": [
      "\u001b[34m\u001b[1mwandb\u001b[0m: | 0.003 MB of 0.009 MB uploaded\r"
     ]
    },
    {
     "name": "stderr",
     "output_type": "stream",
     "text": [
      "\u001b[34m\u001b[1mwandb\u001b[0m: / 0.009 MB of 0.009 MB uploaded\r"
     ]
    },
    {
     "name": "stderr",
     "output_type": "stream",
     "text": [
      "\u001b[34m\u001b[1mwandb\u001b[0m:                                                                                \n"
     ]
    },
    {
     "name": "stderr",
     "output_type": "stream",
     "text": [
      "\u001b[34m\u001b[1mwandb\u001b[0m: \n",
      "\u001b[34m\u001b[1mwandb\u001b[0m: Run history:\n",
      "\u001b[34m\u001b[1mwandb\u001b[0m:                     elbo_train █▇▆▆▅▄▄▄▃▃▃▃▃▂▂▂▂▂▂▂▂▂▁▁▁▁▁▁▁▁▁▁\n",
      "\u001b[34m\u001b[1mwandb\u001b[0m:                elbo_validation █▇▇▅▅▄▃▃▃▂▂▂▂▂▂▁▁▁▁▁▁▁▁▁▁▁▁▁▁▁▁▁\n",
      "\u001b[34m\u001b[1mwandb\u001b[0m:                          epoch ▁▁▁▁▂▂▂▂▂▃▃▃▃▃▃▄▄▄▄▄▅▅▅▅▅▆▆▆▆▆▆▆▇▇▇▇████\n",
      "\u001b[34m\u001b[1mwandb\u001b[0m:                kl_global_train ▁▁▁▁▁▁▁▁▁▁▁▁▁▁▁▁▁▁▁▁▁▁▁▁▁▁▁▁▁▁▁▁\n",
      "\u001b[34m\u001b[1mwandb\u001b[0m:           kl_global_validation ▁▁▁▁▁▁▁▁▁▁▁▁▁▁▁▁▁▁▁▁▁▁▁▁▁▁▁▁▁▁▁▁\n",
      "\u001b[34m\u001b[1mwandb\u001b[0m:                 kl_local_train ▁▇██▇▆▅▄▄▄▃▃▃▃▃▃▂▂▂▂▂▂▂▂▂▂▁▁▁▁▁▁\n",
      "\u001b[34m\u001b[1mwandb\u001b[0m:            kl_local_validation ▅██▆▆▄▄▄▄▃▃▃▃▂▃▂▂▂▂▂▂▂▂▂▁▁▁▁▁▁▁▁\n",
      "\u001b[34m\u001b[1mwandb\u001b[0m:                      kl_weight ▁▁▁▁▂▂▂▂▂▃▃▃▃▃▃▄▄▄▄▄▅▅▅▅▅▆▆▆▆▆▆▆▇▇▇▇▇███\n",
      "\u001b[34m\u001b[1mwandb\u001b[0m:      reconstruction_loss_train █▅▅▄▄▃▃▃▃▃▂▂▂▂▂▂▂▂▂▁▁▁▁▁▁▁▁▁▁▁▁▁\n",
      "\u001b[34m\u001b[1mwandb\u001b[0m: reconstruction_loss_validation █▆▅▄▃▃▃▂▂▂▂▂▁▁▁▁▁▁▁▁▁▁▁▁▁▁▁▁▁▁▁▁\n",
      "\u001b[34m\u001b[1mwandb\u001b[0m:               train_loss_epoch █▅▅▄▄▃▃▃▃▂▂▂▂▂▂▂▂▂▁▁▁▁▁▁▁▁▁▁▁▁▁▁\n",
      "\u001b[34m\u001b[1mwandb\u001b[0m:                train_loss_step █▅▆▅▅▅▆▅▅▄▃▄▃▅▄▅▃▄▄▃▃▂▃▃▂▃▃▂▄▂▂▁▆▃▃▃▅▂▃▁\n",
      "\u001b[34m\u001b[1mwandb\u001b[0m:            trainer/global_step ▁▁▁▂▂▂▂▂▂▃▃▃▃▃▃▄▄▄▄▄▅▅▅▅▅▅▆▆▆▆▆▆▇▇▇▇▇███\n",
      "\u001b[34m\u001b[1mwandb\u001b[0m:                validation_loss █▆▅▄▃▃▃▂▂▂▂▁▁▁▁▁▁▁▁▁▁▁▁▁▁▁▁▁▁▁▁▁\n",
      "\u001b[34m\u001b[1mwandb\u001b[0m: \n",
      "\u001b[34m\u001b[1mwandb\u001b[0m: Run summary:\n",
      "\u001b[34m\u001b[1mwandb\u001b[0m:                     elbo_train 1043.13513\n",
      "\u001b[34m\u001b[1mwandb\u001b[0m:                elbo_validation 1070.10315\n",
      "\u001b[34m\u001b[1mwandb\u001b[0m:                          epoch 31\n",
      "\u001b[34m\u001b[1mwandb\u001b[0m:                kl_global_train 0.0\n",
      "\u001b[34m\u001b[1mwandb\u001b[0m:           kl_global_validation 0.0\n",
      "\u001b[34m\u001b[1mwandb\u001b[0m:                 kl_local_train 48.42116\n",
      "\u001b[34m\u001b[1mwandb\u001b[0m:            kl_local_validation 46.80325\n",
      "\u001b[34m\u001b[1mwandb\u001b[0m:                      kl_weight 0.0775\n",
      "\u001b[34m\u001b[1mwandb\u001b[0m:      reconstruction_loss_train 994.71399\n",
      "\u001b[34m\u001b[1mwandb\u001b[0m: reconstruction_loss_validation 1023.29993\n",
      "\u001b[34m\u001b[1mwandb\u001b[0m:               train_loss_epoch 998.46539\n",
      "\u001b[34m\u001b[1mwandb\u001b[0m:                train_loss_step 968.52924\n",
      "\u001b[34m\u001b[1mwandb\u001b[0m:            trainer/global_step 12927\n",
      "\u001b[34m\u001b[1mwandb\u001b[0m:                validation_loss 1026.92725\n",
      "\u001b[34m\u001b[1mwandb\u001b[0m: \n"
     ]
    },
    {
     "name": "stderr",
     "output_type": "stream",
     "text": [
      "\u001b[34m\u001b[1mwandb\u001b[0m: 🚀 View run \u001b[33mStep2_DC\u001b[0m at: \u001b[34m\u001b[4mhttps://wandb.ai/inflammation/inflammation_atlas_R1/runs/t77vvya5\u001b[0m\n",
      "\u001b[34m\u001b[1mwandb\u001b[0m: Synced 5 W&B file(s), 0 media file(s), 0 artifact file(s) and 0 other file(s)\n"
     ]
    },
    {
     "name": "stderr",
     "output_type": "stream",
     "text": [
      "\u001b[34m\u001b[1mwandb\u001b[0m: Find logs at: \u001b[35m\u001b[1m./wandb/run-20240430_083637-t77vvya5/logs\u001b[0m\n"
     ]
    }
   ],
   "source": [
    "wandb.finish()"
   ]
  },
  {
   "cell_type": "markdown",
   "id": "d9fb1179-83c7-4ac6-b4aa-92dc7a349801",
   "metadata": {
    "papermill": {
     "duration": 0.009827,
     "end_time": "2024-04-30T08:39:47.945870",
     "exception": false,
     "start_time": "2024-04-30T08:39:47.936043",
     "status": "completed"
    },
    "tags": []
   },
   "source": [
    "### Extracting embedding space"
   ]
  },
  {
   "cell_type": "code",
   "execution_count": 16,
   "id": "caaa5832-0123-4c59-8ec6-f46a75f7a14e",
   "metadata": {
    "execution": {
     "iopub.execute_input": "2024-04-30T08:39:47.968002Z",
     "iopub.status.busy": "2024-04-30T08:39:47.967166Z",
     "iopub.status.idle": "2024-04-30T08:39:50.191246Z",
     "shell.execute_reply": "2024-04-30T08:39:50.190506Z"
    },
    "papermill": {
     "duration": 2.237698,
     "end_time": "2024-04-30T08:39:50.193307",
     "exception": false,
     "start_time": "2024-04-30T08:39:47.955609",
     "status": "completed"
    },
    "tags": []
   },
   "outputs": [],
   "source": [
    "adata.obsm['X_scVI'] = model.get_latent_representation()"
   ]
  },
  {
   "cell_type": "markdown",
   "id": "2f03e70b-839c-40a6-9fbb-d76bbd787419",
   "metadata": {
    "papermill": {
     "duration": 0.009624,
     "end_time": "2024-04-30T08:39:50.213117",
     "exception": false,
     "start_time": "2024-04-30T08:39:50.203493",
     "status": "completed"
    },
    "tags": []
   },
   "source": [
    "## Save the results"
   ]
  },
  {
   "cell_type": "code",
   "execution_count": 17,
   "id": "7b04049b-47fd-4b62-a1c0-c43dcc086d34",
   "metadata": {
    "execution": {
     "iopub.execute_input": "2024-04-30T08:39:50.234090Z",
     "iopub.status.busy": "2024-04-30T08:39:50.233741Z",
     "iopub.status.idle": "2024-04-30T08:39:59.866858Z",
     "shell.execute_reply": "2024-04-30T08:39:59.866114Z"
    },
    "papermill": {
     "duration": 9.646322,
     "end_time": "2024-04-30T08:39:59.869044",
     "exception": false,
     "start_time": "2024-04-30T08:39:50.222722",
     "status": "completed"
    },
    "tags": []
   },
   "outputs": [],
   "source": [
    "if overwriteData:\n",
    "    adata.write(here(f\"{workDir}/{cellGroup}/results/02_{annotationLevel}_{cellGroup}_HVGsubset_scVI.h5ad\"), compression=\"gzip\")\n",
    "    model.save(here(f\"{workDir}/{cellGroup}/results/02_{annotationLevel}_{cellGroup}_HVGsubset_scVI_MODEL/\"),\n",
    "               overwrite = True, \n",
    "               save_anndata = False )   "
   ]
  },
  {
   "cell_type": "code",
   "execution_count": 18,
   "id": "629ba2bd-f6be-44ef-8fca-bbdf891bf25f",
   "metadata": {
    "execution": {
     "iopub.execute_input": "2024-04-30T08:39:59.891122Z",
     "iopub.status.busy": "2024-04-30T08:39:59.890356Z",
     "iopub.status.idle": "2024-04-30T08:39:59.894048Z",
     "shell.execute_reply": "2024-04-30T08:39:59.893376Z"
    },
    "papermill": {
     "duration": 0.016565,
     "end_time": "2024-04-30T08:39:59.895727",
     "exception": false,
     "start_time": "2024-04-30T08:39:59.879162",
     "status": "completed"
    },
    "tags": []
   },
   "outputs": [],
   "source": [
    "# To load the model do (after loading corresponding adata):\n",
    "# model = scvi.model.SCVI.load(here('{}/results/01_{}_HVGsubset_scVI_MODEL/'.format(workDir, cellGroup)), \n",
    "#                              adata, \n",
    "#                              use_gpu=True)"
   ]
  },
  {
   "cell_type": "raw",
   "id": "975e84d0-f56b-498d-b3a8-c9219cf22e53",
   "metadata": {
    "papermill": {
     "duration": 0.010361,
     "end_time": "2024-04-30T08:39:59.916401",
     "exception": false,
     "start_time": "2024-04-30T08:39:59.906040",
     "status": "completed"
    },
    "tags": []
   },
   "source": [
    "session_info.show()"
   ]
  }
 ],
 "metadata": {
  "kernelspec": {
   "display_name": "Python 3 (ipykernel)",
   "language": "python",
   "name": "python3"
  },
  "language_info": {
   "codemirror_mode": {
    "name": "ipython",
    "version": 3
   },
   "file_extension": ".py",
   "mimetype": "text/x-python",
   "name": "python",
   "nbconvert_exporter": "python",
   "pygments_lexer": "ipython3",
   "version": "3.9.18"
  },
  "papermill": {
   "default_parameters": {},
   "duration": 227.337555,
   "end_time": "2024-04-30T08:40:03.686824",
   "environment_variables": {},
   "exception": null,
   "input_path": "./DC/02_integration_scVI.ipynb",
   "output_path": "./DC/02_integration_scVI_executed.ipynb",
   "parameters": {},
   "start_time": "2024-04-30T08:36:16.349269",
   "version": "2.5.0"
  }
 },
 "nbformat": 4,
 "nbformat_minor": 5
}