{
 "cells": [
  {
   "cell_type": "code",
   "execution_count": 1,
   "id": "2dd1425a-0c07-465e-b522-9e3cc5cb93a7",
   "metadata": {
    "execution": {
     "iopub.execute_input": "2024-04-30T08:57:14.186975Z",
     "iopub.status.busy": "2024-04-30T08:57:14.186371Z",
     "iopub.status.idle": "2024-04-30T08:57:19.491502Z",
     "shell.execute_reply": "2024-04-30T08:57:19.490762Z"
    },
    "papermill": {
     "duration": 5.313022,
     "end_time": "2024-04-30T08:57:19.493472",
     "exception": false,
     "start_time": "2024-04-30T08:57:14.180450",
     "status": "completed"
    },
    "tags": []
   },
   "outputs": [
    {
     "data": {
      "text/plain": [
       "True"
      ]
     },
     "execution_count": 1,
     "metadata": {},
     "output_type": "execute_result"
    }
   ],
   "source": [
    "import os\n",
    "import sys\n",
    "\n",
    "import numpy as np\n",
    "import matplotlib.pyplot as plt\n",
    "\n",
    "import scanpy as sc\n",
    "import scvi\n",
    "import torch\n",
    "\n",
    "from pytorch_lightning.loggers import WandbLogger\n",
    "import wandb\n",
    "from dotenv import load_dotenv\n",
    "\n",
    "import session_info\n",
    "import warnings\n",
    "from pyprojroot.here import here\n",
    "\n",
    "warnings.filterwarnings(\"ignore\")\n",
    "sys.path.insert(1, str(here('bin')))\n",
    "\n",
    "torch.set_float32_matmul_precision('high')\n",
    "\n",
    "#plt.style.use(['science','nature','no-latex'])\n",
    "dpi_fig_save = 300\n",
    "sc.set_figure_params(dpi=100, dpi_save=dpi_fig_save, vector_friendly=True)\n",
    "\n",
    "load_dotenv(here('.env'))"
   ]
  },
  {
   "cell_type": "code",
   "execution_count": 2,
   "id": "09c897fc-744b-43de-a681-718fb5d327fa",
   "metadata": {
    "execution": {
     "iopub.execute_input": "2024-04-30T08:57:19.504804Z",
     "iopub.status.busy": "2024-04-30T08:57:19.504048Z",
     "iopub.status.idle": "2024-04-30T08:57:19.508007Z",
     "shell.execute_reply": "2024-04-30T08:57:19.507303Z"
    },
    "papermill": {
     "duration": 0.010326,
     "end_time": "2024-04-30T08:57:19.509532",
     "exception": false,
     "start_time": "2024-04-30T08:57:19.499206",
     "status": "completed"
    },
    "tags": []
   },
   "outputs": [],
   "source": [
    "class CustomWandbLogger(WandbLogger):\n",
    "    @property\n",
    "    def save_dir(self):\n",
    "        return self.experiment.dir"
   ]
  },
  {
   "cell_type": "code",
   "execution_count": 3,
   "id": "8ee6662f-5d45-4137-80a5-bb0b9ae8d71f",
   "metadata": {
    "execution": {
     "iopub.execute_input": "2024-04-30T08:57:19.518016Z",
     "iopub.status.busy": "2024-04-30T08:57:19.517536Z",
     "iopub.status.idle": "2024-04-30T08:57:19.523703Z",
     "shell.execute_reply": "2024-04-30T08:57:19.523039Z"
    },
    "papermill": {
     "duration": 0.012142,
     "end_time": "2024-04-30T08:57:19.525284",
     "exception": false,
     "start_time": "2024-04-30T08:57:19.513142",
     "status": "completed"
    },
    "tags": []
   },
   "outputs": [
    {
     "name": "stderr",
     "output_type": "stream",
     "text": [
      "Seed set to 0\n"
     ]
    },
    {
     "name": "stdout",
     "output_type": "stream",
     "text": [
      "Last run with scvi-tools version: 1.1.2\n"
     ]
    }
   ],
   "source": [
    "scvi.settings.seed = 0\n",
    "print(\"Last run with scvi-tools version:\", scvi.__version__)"
   ]
  },
  {
   "cell_type": "markdown",
   "id": "a81037ff-5998-482a-ba86-520f757311a9",
   "metadata": {
    "papermill": {
     "duration": 0.003693,
     "end_time": "2024-04-30T08:57:19.532804",
     "exception": false,
     "start_time": "2024-04-30T08:57:19.529111",
     "status": "completed"
    },
    "tags": []
   },
   "source": [
    "**Setting parameters** "
   ]
  },
  {
   "cell_type": "code",
   "execution_count": 4,
   "id": "56c27966-8f10-4c93-8b1a-1fa75f005e41",
   "metadata": {
    "execution": {
     "iopub.execute_input": "2024-04-30T08:57:19.541916Z",
     "iopub.status.busy": "2024-04-30T08:57:19.541242Z",
     "iopub.status.idle": "2024-04-30T08:57:19.544700Z",
     "shell.execute_reply": "2024-04-30T08:57:19.544084Z"
    },
    "papermill": {
     "duration": 0.009671,
     "end_time": "2024-04-30T08:57:19.546223",
     "exception": false,
     "start_time": "2024-04-30T08:57:19.536552",
     "status": "completed"
    },
    "tags": []
   },
   "outputs": [],
   "source": [
    "overwriteFigures = True\n",
    "overwriteData = True"
   ]
  },
  {
   "cell_type": "code",
   "execution_count": 5,
   "id": "c86fccd3-a4fe-415b-8f4e-e2ceb3ec128a",
   "metadata": {
    "execution": {
     "iopub.execute_input": "2024-04-30T08:57:19.555600Z",
     "iopub.status.busy": "2024-04-30T08:57:19.554947Z",
     "iopub.status.idle": "2024-04-30T08:57:19.558362Z",
     "shell.execute_reply": "2024-04-30T08:57:19.557695Z"
    },
    "papermill": {
     "duration": 0.009814,
     "end_time": "2024-04-30T08:57:19.559892",
     "exception": false,
     "start_time": "2024-04-30T08:57:19.550078",
     "status": "completed"
    },
    "tags": []
   },
   "outputs": [],
   "source": [
    "cellGroup = 'NK'\n",
    "workDir = os.getcwd()"
   ]
  },
  {
   "cell_type": "code",
   "execution_count": 6,
   "id": "2dee4d55-d168-467b-b867-a61fed9d6af1",
   "metadata": {
    "execution": {
     "iopub.execute_input": "2024-04-30T08:57:19.569013Z",
     "iopub.status.busy": "2024-04-30T08:57:19.568384Z",
     "iopub.status.idle": "2024-04-30T08:57:19.571848Z",
     "shell.execute_reply": "2024-04-30T08:57:19.571231Z"
    },
    "papermill": {
     "duration": 0.00968,
     "end_time": "2024-04-30T08:57:19.573325",
     "exception": false,
     "start_time": "2024-04-30T08:57:19.563645",
     "status": "completed"
    },
    "tags": []
   },
   "outputs": [],
   "source": [
    "annotationLevel = os.path.basename(os.path.normpath(workDir))"
   ]
  },
  {
   "cell_type": "code",
   "execution_count": 7,
   "id": "11e53cd5-b746-4152-89cb-c2f0c15d90b3",
   "metadata": {
    "execution": {
     "iopub.execute_input": "2024-04-30T08:57:19.582507Z",
     "iopub.status.busy": "2024-04-30T08:57:19.581885Z",
     "iopub.status.idle": "2024-04-30T08:57:19.586506Z",
     "shell.execute_reply": "2024-04-30T08:57:19.585815Z"
    },
    "papermill": {
     "duration": 0.011015,
     "end_time": "2024-04-30T08:57:19.588140",
     "exception": false,
     "start_time": "2024-04-30T08:57:19.577125",
     "status": "completed"
    },
    "tags": []
   },
   "outputs": [
    {
     "data": {
      "text/plain": [
       "'/home/jupyter/Inflammation-PBMCs-Atlas/02_cell_annotation/02_fromCellLineages_to_CellTypes/Step2'"
      ]
     },
     "execution_count": 7,
     "metadata": {},
     "output_type": "execute_result"
    }
   ],
   "source": [
    "workDir"
   ]
  },
  {
   "cell_type": "markdown",
   "id": "171d2f06-9a44-4fcb-b437-35dc546674b6",
   "metadata": {
    "papermill": {
     "duration": 0.003823,
     "end_time": "2024-04-30T08:57:19.595783",
     "exception": false,
     "start_time": "2024-04-30T08:57:19.591960",
     "status": "completed"
    },
    "tags": []
   },
   "source": [
    "**Load data**"
   ]
  },
  {
   "cell_type": "code",
   "execution_count": 8,
   "id": "429f34fe-dde6-4cc9-9f75-7de8f85c5ffe",
   "metadata": {
    "execution": {
     "iopub.execute_input": "2024-04-30T08:57:19.605243Z",
     "iopub.status.busy": "2024-04-30T08:57:19.604769Z",
     "iopub.status.idle": "2024-04-30T08:57:30.245820Z",
     "shell.execute_reply": "2024-04-30T08:57:30.245192Z"
    },
    "papermill": {
     "duration": 10.647763,
     "end_time": "2024-04-30T08:57:30.247644",
     "exception": false,
     "start_time": "2024-04-30T08:57:19.599881",
     "status": "completed"
    },
    "tags": []
   },
   "outputs": [
    {
     "data": {
      "text/plain": [
       "AnnData object with n_obs × n_vars = 480196 × 2217\n",
       "    obs: 'studyID', 'libraryID', 'sampleID', 'chemistry', 'technology', 'patientID', 'disease', 'timepoint_replicate', 'treatmentStatus', 'therapyResponse', 'sex', 'age', 'BMI', 'binned_age', 'diseaseStatus', 'smokingStatus', 'ethnicity', 'institute', 'diseaseGroup', 'n_genes_by_counts', 'log1p_n_genes_by_counts', 'total_counts', 'log1p_total_counts', 'pct_counts_in_top_20_genes', 'total_counts_mt', 'log1p_total_counts_mt', 'pct_counts_mt', 'total_counts_ribo', 'log1p_total_counts_ribo', 'pct_counts_ribo', 'total_counts_hb', 'log1p_total_counts_hb', 'pct_counts_hb', 'total_counts_plt', 'log1p_total_counts_plt', 'pct_counts_plt', 'doublet_score', 'predicted_doublet', 'S_score', 'G2M_score', 'phase'\n",
       "    var: 'hgnc_id', 'symbol', 'locus_group', 'HUGO_status', 'mt', 'ribo', 'hb', 'plt', 'n_cells_by_counts', 'mean_counts', 'log1p_mean_counts', 'pct_dropout_by_counts', 'total_counts', 'log1p_total_counts', 'highly_variable'\n",
       "    uns: 'chemistry_colors', 'log1p'\n",
       "    layers: 'counts', 'log1p_10e4_counts'"
      ]
     },
     "execution_count": 8,
     "metadata": {},
     "output_type": "execute_result"
    }
   ],
   "source": [
    "adata = sc.read_h5ad(here(f\"{workDir}/{cellGroup}/results/01_{cellGroup}_normalized_HVGsubset.h5ad\"))\n",
    "adata"
   ]
  },
  {
   "cell_type": "markdown",
   "id": "8ac79f3b-d5af-41fa-8904-1e9ac1cbe2fb",
   "metadata": {
    "papermill": {
     "duration": 0.003777,
     "end_time": "2024-04-30T08:57:30.255557",
     "exception": false,
     "start_time": "2024-04-30T08:57:30.251780",
     "status": "completed"
    },
    "tags": []
   },
   "source": [
    "## scVI integration"
   ]
  },
  {
   "cell_type": "markdown",
   "id": "9544847d-d17f-4811-b14b-760446d54d32",
   "metadata": {
    "execution": {
     "iopub.execute_input": "2024-03-25T16:49:04.004504Z",
     "iopub.status.busy": "2024-03-25T16:49:04.004143Z",
     "iopub.status.idle": "2024-03-25T16:49:04.010148Z",
     "shell.execute_reply": "2024-03-25T16:49:04.009146Z",
     "shell.execute_reply.started": "2024-03-25T16:49:04.004477Z"
    },
    "papermill": {
     "duration": 0.003587,
     "end_time": "2024-04-30T08:57:30.263096",
     "exception": false,
     "start_time": "2024-04-30T08:57:30.259509",
     "status": "completed"
    },
    "tags": []
   },
   "source": [
    "**scVI parameters**"
   ]
  },
  {
   "cell_type": "code",
   "execution_count": 9,
   "id": "208966eb-545a-4c02-854c-0ed0487ef5b3",
   "metadata": {
    "execution": {
     "iopub.execute_input": "2024-04-30T08:57:30.272378Z",
     "iopub.status.busy": "2024-04-30T08:57:30.272061Z",
     "iopub.status.idle": "2024-04-30T08:57:30.277558Z",
     "shell.execute_reply": "2024-04-30T08:57:30.276886Z"
    },
    "papermill": {
     "duration": 0.012304,
     "end_time": "2024-04-30T08:57:30.279184",
     "exception": false,
     "start_time": "2024-04-30T08:57:30.266880",
     "status": "completed"
    },
    "tags": []
   },
   "outputs": [],
   "source": [
    "# https://docs.scvi-tools.org/en/stable/api/reference/scvi.train.Trainer.html#scvi.train.Trainer\n",
    "setup_kwargs = dict(\n",
    "    layer=\"counts\", \n",
    "    batch_key='libraryID', \n",
    "    categorical_covariate_keys = ['studyID', 'chemistry', 'disease', 'sampleID'],\n",
    "    labels_key = 'chemistry'    \n",
    ")\n",
    "\n",
    "scvi_kwargs = dict(n_hidden=512,\n",
    "                   n_latent=20, # reduceds after step 00 (main)\n",
    "                   n_layers=2,\n",
    "                   gene_likelihood='nb',\n",
    "                   dispersion='gene-label')\n",
    "\n",
    "trainer_kwargs = dict(\n",
    "    checkpointing_monitor = 'elbo_validation',\n",
    "    early_stopping_monitor = 'reconstruction_loss_validation',\n",
    "    early_stopping_patience = 10,\n",
    "    early_stopping_min_delta=0.1,\n",
    "    early_stopping = True,\n",
    "    max_epochs = 1000,\n",
    "\n",
    "    #logger = # wandb\n",
    ")\n",
    "# https://docs.scvi-tools.org/en/stable/api/reference/scvi.train.TrainingPlan.html#scvi.train.TrainingPlan\n",
    "plan_kwargs = dict(\n",
    "    lr = 5e-4,\n",
    "    #reduce_lr_on_plateau = True\n",
    ")\n",
    "\n",
    "# https://docs.scvi-tools.org/en/stable/api/reference/scvi.module.VAE.html#scvi.module.VAE\n",
    "#vae = dict(\n",
    "#    use_layer_norm='both',\n",
    "#    use_batch_norm='none',\n",
    "#    encode_covariates=True,\n",
    "#    deeply_inject_covariates=False\n",
    "#)\n",
    "parameter_dict = setup_kwargs | scvi_kwargs | trainer_kwargs | plan_kwargs"
   ]
  },
  {
   "cell_type": "markdown",
   "id": "1362366a-c16b-4c11-964b-b9c5f82f7b29",
   "metadata": {
    "papermill": {
     "duration": 0.003801,
     "end_time": "2024-04-30T08:57:30.286889",
     "exception": false,
     "start_time": "2024-04-30T08:57:30.283088",
     "status": "completed"
    },
    "tags": []
   },
   "source": [
    "**wandb parameter**"
   ]
  },
  {
   "cell_type": "code",
   "execution_count": 10,
   "id": "0496e33a-8ca5-423f-b42f-34a59760708c",
   "metadata": {
    "execution": {
     "iopub.execute_input": "2024-04-30T08:57:30.296383Z",
     "iopub.status.busy": "2024-04-30T08:57:30.295880Z",
     "iopub.status.idle": "2024-04-30T08:57:30.300342Z",
     "shell.execute_reply": "2024-04-30T08:57:30.299739Z"
    },
    "papermill": {
     "duration": 0.010809,
     "end_time": "2024-04-30T08:57:30.301738",
     "exception": false,
     "start_time": "2024-04-30T08:57:30.290929",
     "status": "completed"
    },
    "tags": []
   },
   "outputs": [
    {
     "data": {
      "text/plain": [
       "'Step2_NK'"
      ]
     },
     "execution_count": 10,
     "metadata": {},
     "output_type": "execute_result"
    }
   ],
   "source": [
    "run_name = f\"{annotationLevel}_{cellGroup}\"\n",
    "run_name"
   ]
  },
  {
   "cell_type": "code",
   "execution_count": 11,
   "id": "b0021327-95a2-4002-bf32-2c5779a99505",
   "metadata": {
    "execution": {
     "iopub.execute_input": "2024-04-30T08:57:30.311346Z",
     "iopub.status.busy": "2024-04-30T08:57:30.310752Z",
     "iopub.status.idle": "2024-04-30T08:57:30.442260Z",
     "shell.execute_reply": "2024-04-30T08:57:30.441602Z"
    },
    "papermill": {
     "duration": 0.138512,
     "end_time": "2024-04-30T08:57:30.444265",
     "exception": false,
     "start_time": "2024-04-30T08:57:30.305753",
     "status": "completed"
    },
    "tags": []
   },
   "outputs": [],
   "source": [
    "logger = CustomWandbLogger(name = run_name, project='inflammation_atlas_R1', config=parameter_dict)"
   ]
  },
  {
   "cell_type": "markdown",
   "id": "c237eee1-a976-4915-9b7f-b014bf33f47d",
   "metadata": {
    "papermill": {
     "duration": 0.003938,
     "end_time": "2024-04-30T08:57:30.452456",
     "exception": false,
     "start_time": "2024-04-30T08:57:30.448518",
     "status": "completed"
    },
    "tags": []
   },
   "source": [
    "**Running integration**"
   ]
  },
  {
   "cell_type": "code",
   "execution_count": 12,
   "id": "aff97c53-1aba-462e-8a77-f1aec9cf724c",
   "metadata": {
    "execution": {
     "iopub.execute_input": "2024-04-30T08:57:30.461909Z",
     "iopub.status.busy": "2024-04-30T08:57:30.461386Z",
     "iopub.status.idle": "2024-04-30T08:57:31.036639Z",
     "shell.execute_reply": "2024-04-30T08:57:31.035732Z"
    },
    "papermill": {
     "duration": 0.58276,
     "end_time": "2024-04-30T08:57:31.038990",
     "exception": false,
     "start_time": "2024-04-30T08:57:30.456230",
     "status": "completed"
    },
    "tags": []
   },
   "outputs": [],
   "source": [
    "scvi.model.SCVI.setup_anndata(adata, \n",
    "                              **setup_kwargs)"
   ]
  },
  {
   "cell_type": "code",
   "execution_count": 13,
   "id": "1a56f448-cf44-47c1-81a4-a89caa930fec",
   "metadata": {
    "execution": {
     "iopub.execute_input": "2024-04-30T08:57:31.049543Z",
     "iopub.status.busy": "2024-04-30T08:57:31.048784Z",
     "iopub.status.idle": "2024-04-30T08:57:31.645420Z",
     "shell.execute_reply": "2024-04-30T08:57:31.644680Z"
    },
    "papermill": {
     "duration": 0.604148,
     "end_time": "2024-04-30T08:57:31.647582",
     "exception": false,
     "start_time": "2024-04-30T08:57:31.043434",
     "status": "completed"
    },
    "tags": []
   },
   "outputs": [],
   "source": [
    "model = scvi.model.SCVI(adata, **scvi_kwargs)"
   ]
  },
  {
   "cell_type": "code",
   "execution_count": 14,
   "id": "2735f010-4f24-4ae8-9740-a8cfeb335e9a",
   "metadata": {
    "execution": {
     "iopub.execute_input": "2024-04-30T08:57:31.657771Z",
     "iopub.status.busy": "2024-04-30T08:57:31.657063Z",
     "iopub.status.idle": "2024-04-30T09:24:00.901758Z",
     "shell.execute_reply": "2024-04-30T09:24:00.901072Z"
    },
    "papermill": {
     "duration": 1589.251688,
     "end_time": "2024-04-30T09:24:00.903567",
     "exception": false,
     "start_time": "2024-04-30T08:57:31.651879",
     "status": "completed"
    },
    "tags": []
   },
   "outputs": [
    {
     "name": "stderr",
     "output_type": "stream",
     "text": [
      "GPU available: True (cuda), used: True\n"
     ]
    },
    {
     "name": "stderr",
     "output_type": "stream",
     "text": [
      "TPU available: False, using: 0 TPU cores\n"
     ]
    },
    {
     "name": "stderr",
     "output_type": "stream",
     "text": [
      "IPU available: False, using: 0 IPUs\n"
     ]
    },
    {
     "name": "stderr",
     "output_type": "stream",
     "text": [
      "HPU available: False, using: 0 HPUs\n"
     ]
    },
    {
     "name": "stderr",
     "output_type": "stream",
     "text": [
      "\u001b[34m\u001b[1mwandb\u001b[0m: Currently logged in as: \u001b[33mdav1989\u001b[0m (\u001b[33minflammation\u001b[0m). Use \u001b[1m`wandb login --relogin`\u001b[0m to force relogin\n"
     ]
    },
    {
     "name": "stderr",
     "output_type": "stream",
     "text": [
      "\u001b[34m\u001b[1mwandb\u001b[0m: wandb version 0.16.6 is available!  To upgrade, please run:\n",
      "\u001b[34m\u001b[1mwandb\u001b[0m:  $ pip install wandb --upgrade\n"
     ]
    },
    {
     "name": "stderr",
     "output_type": "stream",
     "text": [
      "\u001b[34m\u001b[1mwandb\u001b[0m: Tracking run with wandb version 0.16.3\n"
     ]
    },
    {
     "name": "stderr",
     "output_type": "stream",
     "text": [
      "\u001b[34m\u001b[1mwandb\u001b[0m: Run data is saved locally in \u001b[35m\u001b[1m./wandb/run-20240430_085736-cpwmfi79\u001b[0m\n",
      "\u001b[34m\u001b[1mwandb\u001b[0m: Run \u001b[1m`wandb offline`\u001b[0m to turn off syncing.\n"
     ]
    },
    {
     "name": "stderr",
     "output_type": "stream",
     "text": [
      "\u001b[34m\u001b[1mwandb\u001b[0m: Syncing run \u001b[33mStep2_NK\u001b[0m\n"
     ]
    },
    {
     "name": "stderr",
     "output_type": "stream",
     "text": [
      "\u001b[34m\u001b[1mwandb\u001b[0m: ⭐️ View project at \u001b[34m\u001b[4mhttps://wandb.ai/inflammation/inflammation_atlas_R1\u001b[0m\n"
     ]
    },
    {
     "name": "stderr",
     "output_type": "stream",
     "text": [
      "\u001b[34m\u001b[1mwandb\u001b[0m: 🚀 View run at \u001b[34m\u001b[4mhttps://wandb.ai/inflammation/inflammation_atlas_R1/runs/cpwmfi79\u001b[0m\n"
     ]
    },
    {
     "name": "stderr",
     "output_type": "stream",
     "text": [
      "LOCAL_RANK: 0 - CUDA_VISIBLE_DEVICES: [0]\n"
     ]
    },
    {
     "name": "stdout",
     "output_type": "stream",
     "text": [
      "\r",
      "Training:   0%|          | 0/1000 [00:00<?, ?it/s]"
     ]
    },
    {
     "name": "stdout",
     "output_type": "stream",
     "text": [
      "\r",
      "Epoch 1/1000:   0%|          | 0/1000 [00:00<?, ?it/s]"
     ]
    },
    {
     "name": "stdout",
     "output_type": "stream",
     "text": [
      "\r",
      "Epoch 1/1000:   0%|          | 1/1000 [00:48<13:29:22, 48.61s/it]"
     ]
    },
    {
     "name": "stdout",
     "output_type": "stream",
     "text": [
      "\r",
      "Epoch 1/1000:   0%|          | 1/1000 [00:48<13:29:22, 48.61s/it, v_num=fi79, train_loss_step=697, train_loss_epoch=702]"
     ]
    },
    {
     "name": "stdout",
     "output_type": "stream",
     "text": [
      "\r",
      "Epoch 2/1000:   0%|          | 1/1000 [00:48<13:29:22, 48.61s/it, v_num=fi79, train_loss_step=697, train_loss_epoch=702]"
     ]
    },
    {
     "name": "stdout",
     "output_type": "stream",
     "text": [
      "\r",
      "Epoch 2/1000:   0%|          | 2/1000 [01:35<13:12:34, 47.65s/it, v_num=fi79, train_loss_step=697, train_loss_epoch=702]"
     ]
    },
    {
     "name": "stdout",
     "output_type": "stream",
     "text": [
      "\r",
      "Epoch 2/1000:   0%|          | 2/1000 [01:35<13:12:34, 47.65s/it, v_num=fi79, train_loss_step=663, train_loss_epoch=686]"
     ]
    },
    {
     "name": "stdout",
     "output_type": "stream",
     "text": [
      "\r",
      "Epoch 3/1000:   0%|          | 2/1000 [01:35<13:12:34, 47.65s/it, v_num=fi79, train_loss_step=663, train_loss_epoch=686]"
     ]
    },
    {
     "name": "stdout",
     "output_type": "stream",
     "text": [
      "\r",
      "Epoch 3/1000:   0%|          | 3/1000 [02:22<13:05:28, 47.27s/it, v_num=fi79, train_loss_step=663, train_loss_epoch=686]"
     ]
    },
    {
     "name": "stdout",
     "output_type": "stream",
     "text": [
      "\r",
      "Epoch 3/1000:   0%|          | 3/1000 [02:22<13:05:28, 47.27s/it, v_num=fi79, train_loss_step=716, train_loss_epoch=682]"
     ]
    },
    {
     "name": "stdout",
     "output_type": "stream",
     "text": [
      "\r",
      "Epoch 4/1000:   0%|          | 3/1000 [02:22<13:05:28, 47.27s/it, v_num=fi79, train_loss_step=716, train_loss_epoch=682]"
     ]
    },
    {
     "name": "stdout",
     "output_type": "stream",
     "text": [
      "\r",
      "Epoch 4/1000:   0%|          | 4/1000 [03:08<12:57:33, 46.84s/it, v_num=fi79, train_loss_step=716, train_loss_epoch=682]"
     ]
    },
    {
     "name": "stdout",
     "output_type": "stream",
     "text": [
      "\r",
      "Epoch 4/1000:   0%|          | 4/1000 [03:08<12:57:33, 46.84s/it, v_num=fi79, train_loss_step=635, train_loss_epoch=680]"
     ]
    },
    {
     "name": "stdout",
     "output_type": "stream",
     "text": [
      "\r",
      "Epoch 5/1000:   0%|          | 4/1000 [03:08<12:57:33, 46.84s/it, v_num=fi79, train_loss_step=635, train_loss_epoch=680]"
     ]
    },
    {
     "name": "stdout",
     "output_type": "stream",
     "text": [
      "\r",
      "Epoch 5/1000:   0%|          | 5/1000 [03:55<12:56:31, 46.83s/it, v_num=fi79, train_loss_step=635, train_loss_epoch=680]"
     ]
    },
    {
     "name": "stdout",
     "output_type": "stream",
     "text": [
      "\r",
      "Epoch 5/1000:   0%|          | 5/1000 [03:55<12:56:31, 46.83s/it, v_num=fi79, train_loss_step=692, train_loss_epoch=679]"
     ]
    },
    {
     "name": "stdout",
     "output_type": "stream",
     "text": [
      "\r",
      "Epoch 6/1000:   0%|          | 5/1000 [03:55<12:56:31, 46.83s/it, v_num=fi79, train_loss_step=692, train_loss_epoch=679]"
     ]
    },
    {
     "name": "stdout",
     "output_type": "stream",
     "text": [
      "\r",
      "Epoch 6/1000:   1%|          | 6/1000 [04:41<12:51:06, 46.55s/it, v_num=fi79, train_loss_step=692, train_loss_epoch=679]"
     ]
    },
    {
     "name": "stdout",
     "output_type": "stream",
     "text": [
      "\r",
      "Epoch 6/1000:   1%|          | 6/1000 [04:41<12:51:06, 46.55s/it, v_num=fi79, train_loss_step=696, train_loss_epoch=678]"
     ]
    },
    {
     "name": "stdout",
     "output_type": "stream",
     "text": [
      "\r",
      "Epoch 7/1000:   1%|          | 6/1000 [04:41<12:51:06, 46.55s/it, v_num=fi79, train_loss_step=696, train_loss_epoch=678]"
     ]
    },
    {
     "name": "stdout",
     "output_type": "stream",
     "text": [
      "\r",
      "Epoch 7/1000:   1%|          | 7/1000 [05:28<12:51:17, 46.60s/it, v_num=fi79, train_loss_step=696, train_loss_epoch=678]"
     ]
    },
    {
     "name": "stdout",
     "output_type": "stream",
     "text": [
      "\r",
      "Epoch 7/1000:   1%|          | 7/1000 [05:28<12:51:17, 46.60s/it, v_num=fi79, train_loss_step=697, train_loss_epoch=677]"
     ]
    },
    {
     "name": "stdout",
     "output_type": "stream",
     "text": [
      "\r",
      "Epoch 8/1000:   1%|          | 7/1000 [05:28<12:51:17, 46.60s/it, v_num=fi79, train_loss_step=697, train_loss_epoch=677]"
     ]
    },
    {
     "name": "stdout",
     "output_type": "stream",
     "text": [
      "\r",
      "Epoch 8/1000:   1%|          | 8/1000 [06:15<12:52:35, 46.73s/it, v_num=fi79, train_loss_step=697, train_loss_epoch=677]"
     ]
    },
    {
     "name": "stdout",
     "output_type": "stream",
     "text": [
      "\r",
      "Epoch 8/1000:   1%|          | 8/1000 [06:15<12:52:35, 46.73s/it, v_num=fi79, train_loss_step=708, train_loss_epoch=677]"
     ]
    },
    {
     "name": "stdout",
     "output_type": "stream",
     "text": [
      "\r",
      "Epoch 9/1000:   1%|          | 8/1000 [06:15<12:52:35, 46.73s/it, v_num=fi79, train_loss_step=708, train_loss_epoch=677]"
     ]
    },
    {
     "name": "stdout",
     "output_type": "stream",
     "text": [
      "\r",
      "Epoch 9/1000:   1%|          | 9/1000 [07:01<12:51:28, 46.71s/it, v_num=fi79, train_loss_step=708, train_loss_epoch=677]"
     ]
    },
    {
     "name": "stdout",
     "output_type": "stream",
     "text": [
      "\r",
      "Epoch 9/1000:   1%|          | 9/1000 [07:01<12:51:28, 46.71s/it, v_num=fi79, train_loss_step=656, train_loss_epoch=677]"
     ]
    },
    {
     "name": "stdout",
     "output_type": "stream",
     "text": [
      "\r",
      "Epoch 10/1000:   1%|          | 9/1000 [07:01<12:51:28, 46.71s/it, v_num=fi79, train_loss_step=656, train_loss_epoch=677]"
     ]
    },
    {
     "name": "stdout",
     "output_type": "stream",
     "text": [
      "\r",
      "Epoch 10/1000:   1%|          | 10/1000 [07:48<12:51:40, 46.77s/it, v_num=fi79, train_loss_step=656, train_loss_epoch=677]"
     ]
    },
    {
     "name": "stdout",
     "output_type": "stream",
     "text": [
      "\r",
      "Epoch 10/1000:   1%|          | 10/1000 [07:48<12:51:40, 46.77s/it, v_num=fi79, train_loss_step=671, train_loss_epoch=677]"
     ]
    },
    {
     "name": "stdout",
     "output_type": "stream",
     "text": [
      "\r",
      "Epoch 11/1000:   1%|          | 10/1000 [07:48<12:51:40, 46.77s/it, v_num=fi79, train_loss_step=671, train_loss_epoch=677]"
     ]
    },
    {
     "name": "stdout",
     "output_type": "stream",
     "text": [
      "\r",
      "Epoch 11/1000:   1%|          | 11/1000 [08:34<12:47:31, 46.56s/it, v_num=fi79, train_loss_step=671, train_loss_epoch=677]"
     ]
    },
    {
     "name": "stdout",
     "output_type": "stream",
     "text": [
      "\r",
      "Epoch 11/1000:   1%|          | 11/1000 [08:34<12:47:31, 46.56s/it, v_num=fi79, train_loss_step=638, train_loss_epoch=676]"
     ]
    },
    {
     "name": "stdout",
     "output_type": "stream",
     "text": [
      "\r",
      "Epoch 12/1000:   1%|          | 11/1000 [08:34<12:47:31, 46.56s/it, v_num=fi79, train_loss_step=638, train_loss_epoch=676]"
     ]
    },
    {
     "name": "stdout",
     "output_type": "stream",
     "text": [
      "\r",
      "Epoch 12/1000:   1%|          | 12/1000 [09:21<12:47:01, 46.58s/it, v_num=fi79, train_loss_step=638, train_loss_epoch=676]"
     ]
    },
    {
     "name": "stdout",
     "output_type": "stream",
     "text": [
      "\r",
      "Epoch 12/1000:   1%|          | 12/1000 [09:21<12:47:01, 46.58s/it, v_num=fi79, train_loss_step=711, train_loss_epoch=676]"
     ]
    },
    {
     "name": "stdout",
     "output_type": "stream",
     "text": [
      "\r",
      "Epoch 13/1000:   1%|          | 12/1000 [09:21<12:47:01, 46.58s/it, v_num=fi79, train_loss_step=711, train_loss_epoch=676]"
     ]
    },
    {
     "name": "stdout",
     "output_type": "stream",
     "text": [
      "\r",
      "Epoch 13/1000:   1%|▏         | 13/1000 [10:07<12:44:42, 46.49s/it, v_num=fi79, train_loss_step=711, train_loss_epoch=676]"
     ]
    },
    {
     "name": "stdout",
     "output_type": "stream",
     "text": [
      "\r",
      "Epoch 13/1000:   1%|▏         | 13/1000 [10:07<12:44:42, 46.49s/it, v_num=fi79, train_loss_step=634, train_loss_epoch=676]"
     ]
    },
    {
     "name": "stdout",
     "output_type": "stream",
     "text": [
      "\r",
      "Epoch 14/1000:   1%|▏         | 13/1000 [10:07<12:44:42, 46.49s/it, v_num=fi79, train_loss_step=634, train_loss_epoch=676]"
     ]
    },
    {
     "name": "stdout",
     "output_type": "stream",
     "text": [
      "\r",
      "Epoch 14/1000:   1%|▏         | 14/1000 [10:54<12:45:19, 46.57s/it, v_num=fi79, train_loss_step=634, train_loss_epoch=676]"
     ]
    },
    {
     "name": "stdout",
     "output_type": "stream",
     "text": [
      "\r",
      "Epoch 14/1000:   1%|▏         | 14/1000 [10:54<12:45:19, 46.57s/it, v_num=fi79, train_loss_step=712, train_loss_epoch=676]"
     ]
    },
    {
     "name": "stdout",
     "output_type": "stream",
     "text": [
      "\r",
      "Epoch 15/1000:   1%|▏         | 14/1000 [10:54<12:45:19, 46.57s/it, v_num=fi79, train_loss_step=712, train_loss_epoch=676]"
     ]
    },
    {
     "name": "stdout",
     "output_type": "stream",
     "text": [
      "\r",
      "Epoch 15/1000:   2%|▏         | 15/1000 [11:41<12:45:55, 46.66s/it, v_num=fi79, train_loss_step=712, train_loss_epoch=676]"
     ]
    },
    {
     "name": "stdout",
     "output_type": "stream",
     "text": [
      "\r",
      "Epoch 15/1000:   2%|▏         | 15/1000 [11:41<12:45:55, 46.66s/it, v_num=fi79, train_loss_step=660, train_loss_epoch=676]"
     ]
    },
    {
     "name": "stdout",
     "output_type": "stream",
     "text": [
      "\r",
      "Epoch 16/1000:   2%|▏         | 15/1000 [11:41<12:45:55, 46.66s/it, v_num=fi79, train_loss_step=660, train_loss_epoch=676]"
     ]
    },
    {
     "name": "stdout",
     "output_type": "stream",
     "text": [
      "\r",
      "Epoch 16/1000:   2%|▏         | 16/1000 [12:28<12:46:37, 46.75s/it, v_num=fi79, train_loss_step=660, train_loss_epoch=676]"
     ]
    },
    {
     "name": "stdout",
     "output_type": "stream",
     "text": [
      "\r",
      "Epoch 16/1000:   2%|▏         | 16/1000 [12:28<12:46:37, 46.75s/it, v_num=fi79, train_loss_step=686, train_loss_epoch=676]"
     ]
    },
    {
     "name": "stdout",
     "output_type": "stream",
     "text": [
      "\r",
      "Epoch 17/1000:   2%|▏         | 16/1000 [12:28<12:46:37, 46.75s/it, v_num=fi79, train_loss_step=686, train_loss_epoch=676]"
     ]
    },
    {
     "name": "stdout",
     "output_type": "stream",
     "text": [
      "\r",
      "Epoch 17/1000:   2%|▏         | 17/1000 [13:14<12:44:10, 46.64s/it, v_num=fi79, train_loss_step=686, train_loss_epoch=676]"
     ]
    },
    {
     "name": "stdout",
     "output_type": "stream",
     "text": [
      "\r",
      "Epoch 17/1000:   2%|▏         | 17/1000 [13:14<12:44:10, 46.64s/it, v_num=fi79, train_loss_step=676, train_loss_epoch=676]"
     ]
    },
    {
     "name": "stdout",
     "output_type": "stream",
     "text": [
      "\r",
      "Epoch 18/1000:   2%|▏         | 17/1000 [13:14<12:44:10, 46.64s/it, v_num=fi79, train_loss_step=676, train_loss_epoch=676]"
     ]
    },
    {
     "name": "stdout",
     "output_type": "stream",
     "text": [
      "\r",
      "Epoch 18/1000:   2%|▏         | 18/1000 [14:00<12:39:41, 46.42s/it, v_num=fi79, train_loss_step=676, train_loss_epoch=676]"
     ]
    },
    {
     "name": "stdout",
     "output_type": "stream",
     "text": [
      "\r",
      "Epoch 18/1000:   2%|▏         | 18/1000 [14:00<12:39:41, 46.42s/it, v_num=fi79, train_loss_step=652, train_loss_epoch=676]"
     ]
    },
    {
     "name": "stdout",
     "output_type": "stream",
     "text": [
      "\r",
      "Epoch 19/1000:   2%|▏         | 18/1000 [14:00<12:39:41, 46.42s/it, v_num=fi79, train_loss_step=652, train_loss_epoch=676]"
     ]
    },
    {
     "name": "stdout",
     "output_type": "stream",
     "text": [
      "\r",
      "Epoch 19/1000:   2%|▏         | 19/1000 [14:47<12:40:53, 46.54s/it, v_num=fi79, train_loss_step=652, train_loss_epoch=676]"
     ]
    },
    {
     "name": "stdout",
     "output_type": "stream",
     "text": [
      "\r",
      "Epoch 19/1000:   2%|▏         | 19/1000 [14:47<12:40:53, 46.54s/it, v_num=fi79, train_loss_step=771, train_loss_epoch=676]"
     ]
    },
    {
     "name": "stdout",
     "output_type": "stream",
     "text": [
      "\r",
      "Epoch 20/1000:   2%|▏         | 19/1000 [14:47<12:40:53, 46.54s/it, v_num=fi79, train_loss_step=771, train_loss_epoch=676]"
     ]
    },
    {
     "name": "stdout",
     "output_type": "stream",
     "text": [
      "\r",
      "Epoch 20/1000:   2%|▏         | 20/1000 [15:33<12:37:58, 46.41s/it, v_num=fi79, train_loss_step=771, train_loss_epoch=676]"
     ]
    },
    {
     "name": "stdout",
     "output_type": "stream",
     "text": [
      "\r",
      "Epoch 20/1000:   2%|▏         | 20/1000 [15:33<12:37:58, 46.41s/it, v_num=fi79, train_loss_step=584, train_loss_epoch=676]"
     ]
    },
    {
     "name": "stdout",
     "output_type": "stream",
     "text": [
      "\r",
      "Epoch 21/1000:   2%|▏         | 20/1000 [15:33<12:37:58, 46.41s/it, v_num=fi79, train_loss_step=584, train_loss_epoch=676]"
     ]
    },
    {
     "name": "stdout",
     "output_type": "stream",
     "text": [
      "\r",
      "Epoch 21/1000:   2%|▏         | 21/1000 [16:19<12:37:46, 46.44s/it, v_num=fi79, train_loss_step=584, train_loss_epoch=676]"
     ]
    },
    {
     "name": "stdout",
     "output_type": "stream",
     "text": [
      "\r",
      "Epoch 21/1000:   2%|▏         | 21/1000 [16:19<12:37:46, 46.44s/it, v_num=fi79, train_loss_step=662, train_loss_epoch=676]"
     ]
    },
    {
     "name": "stdout",
     "output_type": "stream",
     "text": [
      "\r",
      "Epoch 22/1000:   2%|▏         | 21/1000 [16:19<12:37:46, 46.44s/it, v_num=fi79, train_loss_step=662, train_loss_epoch=676]"
     ]
    },
    {
     "name": "stdout",
     "output_type": "stream",
     "text": [
      "\r",
      "Epoch 22/1000:   2%|▏         | 22/1000 [17:06<12:35:10, 46.33s/it, v_num=fi79, train_loss_step=662, train_loss_epoch=676]"
     ]
    },
    {
     "name": "stdout",
     "output_type": "stream",
     "text": [
      "\r",
      "Epoch 22/1000:   2%|▏         | 22/1000 [17:06<12:35:10, 46.33s/it, v_num=fi79, train_loss_step=672, train_loss_epoch=676]"
     ]
    },
    {
     "name": "stdout",
     "output_type": "stream",
     "text": [
      "\r",
      "Epoch 23/1000:   2%|▏         | 22/1000 [17:06<12:35:10, 46.33s/it, v_num=fi79, train_loss_step=672, train_loss_epoch=676]"
     ]
    },
    {
     "name": "stdout",
     "output_type": "stream",
     "text": [
      "\r",
      "Epoch 23/1000:   2%|▏         | 23/1000 [17:52<12:36:18, 46.45s/it, v_num=fi79, train_loss_step=672, train_loss_epoch=676]"
     ]
    },
    {
     "name": "stdout",
     "output_type": "stream",
     "text": [
      "\r",
      "Epoch 23/1000:   2%|▏         | 23/1000 [17:52<12:36:18, 46.45s/it, v_num=fi79, train_loss_step=702, train_loss_epoch=676]"
     ]
    },
    {
     "name": "stdout",
     "output_type": "stream",
     "text": [
      "\r",
      "Epoch 24/1000:   2%|▏         | 23/1000 [17:52<12:36:18, 46.45s/it, v_num=fi79, train_loss_step=702, train_loss_epoch=676]"
     ]
    },
    {
     "name": "stdout",
     "output_type": "stream",
     "text": [
      "\r",
      "Epoch 24/1000:   2%|▏         | 24/1000 [18:39<12:37:41, 46.58s/it, v_num=fi79, train_loss_step=702, train_loss_epoch=676]"
     ]
    },
    {
     "name": "stdout",
     "output_type": "stream",
     "text": [
      "\r",
      "Epoch 24/1000:   2%|▏         | 24/1000 [18:39<12:37:41, 46.58s/it, v_num=fi79, train_loss_step=638, train_loss_epoch=676]"
     ]
    },
    {
     "name": "stdout",
     "output_type": "stream",
     "text": [
      "\r",
      "Epoch 25/1000:   2%|▏         | 24/1000 [18:39<12:37:41, 46.58s/it, v_num=fi79, train_loss_step=638, train_loss_epoch=676]"
     ]
    },
    {
     "name": "stdout",
     "output_type": "stream",
     "text": [
      "\r",
      "Epoch 25/1000:   2%|▎         | 25/1000 [19:25<12:34:14, 46.41s/it, v_num=fi79, train_loss_step=638, train_loss_epoch=676]"
     ]
    },
    {
     "name": "stdout",
     "output_type": "stream",
     "text": [
      "\r",
      "Epoch 25/1000:   2%|▎         | 25/1000 [19:25<12:34:14, 46.41s/it, v_num=fi79, train_loss_step=657, train_loss_epoch=676]"
     ]
    },
    {
     "name": "stdout",
     "output_type": "stream",
     "text": [
      "\r",
      "Epoch 26/1000:   2%|▎         | 25/1000 [19:25<12:34:14, 46.41s/it, v_num=fi79, train_loss_step=657, train_loss_epoch=676]"
     ]
    },
    {
     "name": "stdout",
     "output_type": "stream",
     "text": [
      "\r",
      "Epoch 26/1000:   3%|▎         | 26/1000 [20:12<12:36:45, 46.62s/it, v_num=fi79, train_loss_step=657, train_loss_epoch=676]"
     ]
    },
    {
     "name": "stdout",
     "output_type": "stream",
     "text": [
      "\r",
      "Epoch 26/1000:   3%|▎         | 26/1000 [20:12<12:36:45, 46.62s/it, v_num=fi79, train_loss_step=690, train_loss_epoch=676]"
     ]
    },
    {
     "name": "stdout",
     "output_type": "stream",
     "text": [
      "\r",
      "Epoch 27/1000:   3%|▎         | 26/1000 [20:12<12:36:45, 46.62s/it, v_num=fi79, train_loss_step=690, train_loss_epoch=676]"
     ]
    },
    {
     "name": "stdout",
     "output_type": "stream",
     "text": [
      "\r",
      "Epoch 27/1000:   3%|▎         | 27/1000 [20:59<12:34:22, 46.52s/it, v_num=fi79, train_loss_step=690, train_loss_epoch=676]"
     ]
    },
    {
     "name": "stdout",
     "output_type": "stream",
     "text": [
      "\r",
      "Epoch 27/1000:   3%|▎         | 27/1000 [20:59<12:34:22, 46.52s/it, v_num=fi79, train_loss_step=707, train_loss_epoch=676]"
     ]
    },
    {
     "name": "stdout",
     "output_type": "stream",
     "text": [
      "\r",
      "Epoch 28/1000:   3%|▎         | 27/1000 [20:59<12:34:22, 46.52s/it, v_num=fi79, train_loss_step=707, train_loss_epoch=676]"
     ]
    },
    {
     "name": "stdout",
     "output_type": "stream",
     "text": [
      "\r",
      "Epoch 28/1000:   3%|▎         | 28/1000 [21:45<12:34:23, 46.57s/it, v_num=fi79, train_loss_step=707, train_loss_epoch=676]"
     ]
    },
    {
     "name": "stdout",
     "output_type": "stream",
     "text": [
      "\r",
      "Epoch 28/1000:   3%|▎         | 28/1000 [21:45<12:34:23, 46.57s/it, v_num=fi79, train_loss_step=659, train_loss_epoch=676]"
     ]
    },
    {
     "name": "stdout",
     "output_type": "stream",
     "text": [
      "\r",
      "Epoch 29/1000:   3%|▎         | 28/1000 [21:45<12:34:23, 46.57s/it, v_num=fi79, train_loss_step=659, train_loss_epoch=676]"
     ]
    },
    {
     "name": "stdout",
     "output_type": "stream",
     "text": [
      "\r",
      "Epoch 29/1000:   3%|▎         | 29/1000 [22:31<12:31:46, 46.45s/it, v_num=fi79, train_loss_step=659, train_loss_epoch=676]"
     ]
    },
    {
     "name": "stdout",
     "output_type": "stream",
     "text": [
      "\r",
      "Epoch 29/1000:   3%|▎         | 29/1000 [22:31<12:31:46, 46.45s/it, v_num=fi79, train_loss_step=687, train_loss_epoch=676]"
     ]
    },
    {
     "name": "stdout",
     "output_type": "stream",
     "text": [
      "\r",
      "Epoch 30/1000:   3%|▎         | 29/1000 [22:31<12:31:46, 46.45s/it, v_num=fi79, train_loss_step=687, train_loss_epoch=676]"
     ]
    },
    {
     "name": "stdout",
     "output_type": "stream",
     "text": [
      "\r",
      "Epoch 30/1000:   3%|▎         | 30/1000 [23:18<12:31:20, 46.47s/it, v_num=fi79, train_loss_step=687, train_loss_epoch=676]"
     ]
    },
    {
     "name": "stdout",
     "output_type": "stream",
     "text": [
      "\r",
      "Epoch 30/1000:   3%|▎         | 30/1000 [23:18<12:31:20, 46.47s/it, v_num=fi79, train_loss_step=703, train_loss_epoch=676]"
     ]
    },
    {
     "name": "stdout",
     "output_type": "stream",
     "text": [
      "\r",
      "Epoch 31/1000:   3%|▎         | 30/1000 [23:18<12:31:20, 46.47s/it, v_num=fi79, train_loss_step=703, train_loss_epoch=676]"
     ]
    },
    {
     "name": "stdout",
     "output_type": "stream",
     "text": [
      "\r",
      "Epoch 31/1000:   3%|▎         | 31/1000 [24:05<12:31:38, 46.54s/it, v_num=fi79, train_loss_step=703, train_loss_epoch=676]"
     ]
    },
    {
     "name": "stdout",
     "output_type": "stream",
     "text": [
      "\r",
      "Epoch 31/1000:   3%|▎         | 31/1000 [24:05<12:31:38, 46.54s/it, v_num=fi79, train_loss_step=729, train_loss_epoch=676]"
     ]
    },
    {
     "name": "stdout",
     "output_type": "stream",
     "text": [
      "\r",
      "Epoch 32/1000:   3%|▎         | 31/1000 [24:05<12:31:38, 46.54s/it, v_num=fi79, train_loss_step=729, train_loss_epoch=676]"
     ]
    },
    {
     "name": "stdout",
     "output_type": "stream",
     "text": [
      "\r",
      "Epoch 32/1000:   3%|▎         | 32/1000 [24:51<12:28:11, 46.38s/it, v_num=fi79, train_loss_step=729, train_loss_epoch=676]"
     ]
    },
    {
     "name": "stdout",
     "output_type": "stream",
     "text": [
      "\r",
      "Epoch 32/1000:   3%|▎         | 32/1000 [24:51<12:28:11, 46.38s/it, v_num=fi79, train_loss_step=634, train_loss_epoch=676]"
     ]
    },
    {
     "name": "stdout",
     "output_type": "stream",
     "text": [
      "\r",
      "Epoch 33/1000:   3%|▎         | 32/1000 [24:51<12:28:11, 46.38s/it, v_num=fi79, train_loss_step=634, train_loss_epoch=676]"
     ]
    },
    {
     "name": "stdout",
     "output_type": "stream",
     "text": [
      "\r",
      "Epoch 33/1000:   3%|▎         | 33/1000 [25:37<12:29:12, 46.49s/it, v_num=fi79, train_loss_step=634, train_loss_epoch=676]"
     ]
    },
    {
     "name": "stdout",
     "output_type": "stream",
     "text": [
      "\r",
      "Epoch 33/1000:   3%|▎         | 33/1000 [25:37<12:29:12, 46.49s/it, v_num=fi79, train_loss_step=719, train_loss_epoch=676]"
     ]
    },
    {
     "name": "stdout",
     "output_type": "stream",
     "text": [
      "\r",
      "Epoch 34/1000:   3%|▎         | 33/1000 [25:37<12:29:12, 46.49s/it, v_num=fi79, train_loss_step=719, train_loss_epoch=676]"
     ]
    },
    {
     "name": "stdout",
     "output_type": "stream",
     "text": [
      "\r",
      "Epoch 34/1000:   3%|▎         | 34/1000 [26:23<12:25:27, 46.30s/it, v_num=fi79, train_loss_step=719, train_loss_epoch=676]"
     ]
    },
    {
     "name": "stdout",
     "output_type": "stream",
     "text": [
      "\r",
      "Epoch 34/1000:   3%|▎         | 34/1000 [26:23<12:25:27, 46.30s/it, v_num=fi79, train_loss_step=669, train_loss_epoch=676]"
     ]
    },
    {
     "name": "stdout",
     "output_type": "stream",
     "text": [
      "\r",
      "Epoch 34/1000:   3%|▎         | 34/1000 [26:23<12:29:57, 46.58s/it, v_num=fi79, train_loss_step=669, train_loss_epoch=676]"
     ]
    },
    {
     "name": "stdout",
     "output_type": "stream",
     "text": [
      "\n",
      "Monitored metric reconstruction_loss_validation did not improve in the last 10 records. Best score: 675.347. Signaling Trainer to stop.\n"
     ]
    }
   ],
   "source": [
    "model.train(logger=logger, plan_kwargs = plan_kwargs, **trainer_kwargs)"
   ]
  },
  {
   "cell_type": "code",
   "execution_count": 15,
   "id": "c282f6eb-0ad1-40a5-81e6-1acda1545dad",
   "metadata": {
    "execution": {
     "iopub.execute_input": "2024-04-30T09:24:00.926847Z",
     "iopub.status.busy": "2024-04-30T09:24:00.926207Z",
     "iopub.status.idle": "2024-04-30T09:24:05.532823Z",
     "shell.execute_reply": "2024-04-30T09:24:05.532020Z"
    },
    "papermill": {
     "duration": 4.620622,
     "end_time": "2024-04-30T09:24:05.534884",
     "exception": false,
     "start_time": "2024-04-30T09:24:00.914262",
     "status": "completed"
    },
    "tags": []
   },
   "outputs": [
    {
     "name": "stderr",
     "output_type": "stream",
     "text": [
      "\u001b[34m\u001b[1mwandb\u001b[0m: - 0.003 MB of 0.003 MB uploaded\r"
     ]
    },
    {
     "name": "stderr",
     "output_type": "stream",
     "text": [
      "\u001b[34m\u001b[1mwandb\u001b[0m: \\ 0.003 MB of 0.003 MB uploaded\r"
     ]
    },
    {
     "name": "stderr",
     "output_type": "stream",
     "text": [
      "\u001b[34m\u001b[1mwandb\u001b[0m: | 0.009 MB of 0.009 MB uploaded\r"
     ]
    },
    {
     "name": "stderr",
     "output_type": "stream",
     "text": [
      "\u001b[34m\u001b[1mwandb\u001b[0m:                                                                                \n"
     ]
    },
    {
     "name": "stderr",
     "output_type": "stream",
     "text": [
      "\u001b[34m\u001b[1mwandb\u001b[0m: \n",
      "\u001b[34m\u001b[1mwandb\u001b[0m: Run history:\n",
      "\u001b[34m\u001b[1mwandb\u001b[0m:                     elbo_train █▇▅▄▄▃▃▃▃▃▂▂▂▂▂▂▂▂▂▂▂▂▁▁▁▁▁▁▁▁▁▁▁▁\n",
      "\u001b[34m\u001b[1mwandb\u001b[0m:                elbo_validation █▆▄▄▃▃▃▃▃▂▂▂▂▂▂▂▂▂▂▂▂▂▁▁▁▁▁▁▁▁▁▁▁▁\n",
      "\u001b[34m\u001b[1mwandb\u001b[0m:                          epoch ▁▁▁▁▂▂▂▂▂▂▃▃▃▃▄▄▄▄▄▄▅▅▅▅▅▅▆▆▆▆▆▇▇▇▇▇████\n",
      "\u001b[34m\u001b[1mwandb\u001b[0m:                kl_global_train ▁▁▁▁▁▁▁▁▁▁▁▁▁▁▁▁▁▁▁▁▁▁▁▁▁▁▁▁▁▁▁▁▁▁\n",
      "\u001b[34m\u001b[1mwandb\u001b[0m:           kl_global_validation ▁▁▁▁▁▁▁▁▁▁▁▁▁▁▁▁▁▁▁▁▁▁▁▁▁▁▁▁▁▁▁▁▁▁\n",
      "\u001b[34m\u001b[1mwandb\u001b[0m:                 kl_local_train ██▆▅▄▄▄▃▃▃▃▃▃▂▂▂▂▂▂▂▂▂▂▂▂▁▁▁▁▁▁▁▁▁\n",
      "\u001b[34m\u001b[1mwandb\u001b[0m:            kl_local_validation █▆▅▄▄▃▃▃▃▃▃▂▂▂▂▂▂▂▂▂▂▂▁▁▁▁▁▁▁▁▁▁▁▁\n",
      "\u001b[34m\u001b[1mwandb\u001b[0m:                      kl_weight ▁▁▁▁▂▂▂▂▂▂▃▃▃▃▄▄▄▄▄▄▅▅▅▅▅▅▆▆▆▆▆▇▇▇▇▇████\n",
      "\u001b[34m\u001b[1mwandb\u001b[0m:      reconstruction_loss_train █▄▃▃▂▂▂▂▂▂▂▂▁▁▁▁▁▁▁▁▁▁▁▁▁▁▁▁▁▁▁▁▁▁\n",
      "\u001b[34m\u001b[1mwandb\u001b[0m: reconstruction_loss_validation █▅▄▃▂▂▂▂▂▁▁▁▁▁▁▁▁▁▁▁▁▁▁▁▁▁▁▁▁▁▁▁▁▁\n",
      "\u001b[34m\u001b[1mwandb\u001b[0m:               train_loss_epoch █▄▃▂▂▂▁▁▁▁▁▁▁▁▁▁▁▁▁▁▁▁▁▁▁▁▁▁▁▁▁▁▁▁\n",
      "\u001b[34m\u001b[1mwandb\u001b[0m:                train_loss_step █▃▅▇▄▃▇▃▄▃▆▅▄▄▄▇▄▄▄▄▅▅▆▄▁▄▆▅█▄▇▃▅▅▄▄▅▆▅▃\n",
      "\u001b[34m\u001b[1mwandb\u001b[0m:            trainer/global_step ▁▁▁▁▂▂▂▂▂▃▃▃▃▃▃▄▄▄▄▄▅▅▅▅▅▅▆▆▆▆▆▇▇▇▇▇▇███\n",
      "\u001b[34m\u001b[1mwandb\u001b[0m:                validation_loss █▄▃▂▂▂▁▁▁▁▁▁▁▁▁▁▁▁▁▁▁▁▁▁▁▁▁▁▁▂▂▂▂▂\n",
      "\u001b[34m\u001b[1mwandb\u001b[0m: \n",
      "\u001b[34m\u001b[1mwandb\u001b[0m: Run summary:\n",
      "\u001b[34m\u001b[1mwandb\u001b[0m:                     elbo_train 713.89026\n",
      "\u001b[34m\u001b[1mwandb\u001b[0m:                elbo_validation 715.79993\n",
      "\u001b[34m\u001b[1mwandb\u001b[0m:                          epoch 33\n",
      "\u001b[34m\u001b[1mwandb\u001b[0m:                kl_global_train 0.0\n",
      "\u001b[34m\u001b[1mwandb\u001b[0m:           kl_global_validation 0.0\n",
      "\u001b[34m\u001b[1mwandb\u001b[0m:                 kl_local_train 41.23859\n",
      "\u001b[34m\u001b[1mwandb\u001b[0m:            kl_local_validation 40.40747\n",
      "\u001b[34m\u001b[1mwandb\u001b[0m:                      kl_weight 0.0825\n",
      "\u001b[34m\u001b[1mwandb\u001b[0m:      reconstruction_loss_train 672.65167\n",
      "\u001b[34m\u001b[1mwandb\u001b[0m: reconstruction_loss_validation 675.39246\n",
      "\u001b[34m\u001b[1mwandb\u001b[0m:               train_loss_epoch 676.05261\n",
      "\u001b[34m\u001b[1mwandb\u001b[0m:                train_loss_step 649.69751\n",
      "\u001b[34m\u001b[1mwandb\u001b[0m:            trainer/global_step 114817\n",
      "\u001b[34m\u001b[1mwandb\u001b[0m:                validation_loss 678.72577\n",
      "\u001b[34m\u001b[1mwandb\u001b[0m: \n"
     ]
    },
    {
     "name": "stderr",
     "output_type": "stream",
     "text": [
      "\u001b[34m\u001b[1mwandb\u001b[0m: 🚀 View run \u001b[33mStep2_NK\u001b[0m at: \u001b[34m\u001b[4mhttps://wandb.ai/inflammation/inflammation_atlas_R1/runs/cpwmfi79\u001b[0m\n",
      "\u001b[34m\u001b[1mwandb\u001b[0m: Synced 5 W&B file(s), 0 media file(s), 0 artifact file(s) and 0 other file(s)\n"
     ]
    },
    {
     "name": "stderr",
     "output_type": "stream",
     "text": [
      "\u001b[34m\u001b[1mwandb\u001b[0m: Find logs at: \u001b[35m\u001b[1m./wandb/run-20240430_085736-cpwmfi79/logs\u001b[0m\n"
     ]
    }
   ],
   "source": [
    "wandb.finish()"
   ]
  },
  {
   "cell_type": "markdown",
   "id": "d9fb1179-83c7-4ac6-b4aa-92dc7a349801",
   "metadata": {
    "papermill": {
     "duration": 0.009548,
     "end_time": "2024-04-30T09:24:05.555244",
     "exception": false,
     "start_time": "2024-04-30T09:24:05.545696",
     "status": "completed"
    },
    "tags": []
   },
   "source": [
    "### Extracting embedding space"
   ]
  },
  {
   "cell_type": "code",
   "execution_count": 16,
   "id": "caaa5832-0123-4c59-8ec6-f46a75f7a14e",
   "metadata": {
    "execution": {
     "iopub.execute_input": "2024-04-30T09:24:05.576685Z",
     "iopub.status.busy": "2024-04-30T09:24:05.576346Z",
     "iopub.status.idle": "2024-04-30T09:24:20.474969Z",
     "shell.execute_reply": "2024-04-30T09:24:20.474191Z"
    },
    "papermill": {
     "duration": 14.912004,
     "end_time": "2024-04-30T09:24:20.477138",
     "exception": false,
     "start_time": "2024-04-30T09:24:05.565134",
     "status": "completed"
    },
    "tags": []
   },
   "outputs": [],
   "source": [
    "adata.obsm['X_scVI'] = model.get_latent_representation()"
   ]
  },
  {
   "cell_type": "markdown",
   "id": "2f03e70b-839c-40a6-9fbb-d76bbd787419",
   "metadata": {
    "papermill": {
     "duration": 0.009749,
     "end_time": "2024-04-30T09:24:20.497163",
     "exception": false,
     "start_time": "2024-04-30T09:24:20.487414",
     "status": "completed"
    },
    "tags": []
   },
   "source": [
    "## Save the results"
   ]
  },
  {
   "cell_type": "code",
   "execution_count": 17,
   "id": "7b04049b-47fd-4b62-a1c0-c43dcc086d34",
   "metadata": {
    "execution": {
     "iopub.execute_input": "2024-04-30T09:24:20.518664Z",
     "iopub.status.busy": "2024-04-30T09:24:20.518018Z",
     "iopub.status.idle": "2024-04-30T09:25:10.555182Z",
     "shell.execute_reply": "2024-04-30T09:25:10.554416Z"
    },
    "papermill": {
     "duration": 50.050504,
     "end_time": "2024-04-30T09:25:10.557440",
     "exception": false,
     "start_time": "2024-04-30T09:24:20.506936",
     "status": "completed"
    },
    "tags": []
   },
   "outputs": [],
   "source": [
    "if overwriteData:\n",
    "    adata.write(here(f\"{workDir}/{cellGroup}/results/02_{annotationLevel}_{cellGroup}_HVGsubset_scVI.h5ad\"), compression=\"gzip\")\n",
    "    model.save(here(f\"{workDir}/{cellGroup}/results/02_{annotationLevel}_{cellGroup}_HVGsubset_scVI_MODEL/\"),\n",
    "               overwrite = True, \n",
    "               save_anndata = False )   "
   ]
  },
  {
   "cell_type": "code",
   "execution_count": 18,
   "id": "629ba2bd-f6be-44ef-8fca-bbdf891bf25f",
   "metadata": {
    "execution": {
     "iopub.execute_input": "2024-04-30T09:25:10.580032Z",
     "iopub.status.busy": "2024-04-30T09:25:10.579734Z",
     "iopub.status.idle": "2024-04-30T09:25:10.583185Z",
     "shell.execute_reply": "2024-04-30T09:25:10.582535Z"
    },
    "papermill": {
     "duration": 0.016412,
     "end_time": "2024-04-30T09:25:10.584853",
     "exception": false,
     "start_time": "2024-04-30T09:25:10.568441",
     "status": "completed"
    },
    "tags": []
   },
   "outputs": [],
   "source": [
    "# To load the model do (after loading corresponding adata):\n",
    "# model = scvi.model.SCVI.load(here('{}/results/01_{}_HVGsubset_scVI_MODEL/'.format(workDir, cellGroup)), \n",
    "#                              adata, \n",
    "#                              use_gpu=True)"
   ]
  },
  {
   "cell_type": "raw",
   "id": "975e84d0-f56b-498d-b3a8-c9219cf22e53",
   "metadata": {
    "papermill": {
     "duration": 0.010438,
     "end_time": "2024-04-30T09:25:10.605502",
     "exception": false,
     "start_time": "2024-04-30T09:25:10.595064",
     "status": "completed"
    },
    "tags": []
   },
   "source": [
    "session_info.show()"
   ]
  }
 ],
 "metadata": {
  "kernelspec": {
   "display_name": "Python 3 (ipykernel)",
   "language": "python",
   "name": "python3"
  },
  "language_info": {
   "codemirror_mode": {
    "name": "ipython",
    "version": 3
   },
   "file_extension": ".py",
   "mimetype": "text/x-python",
   "name": "python",
   "nbconvert_exporter": "python",
   "pygments_lexer": "ipython3",
   "version": "3.9.18"
  },
  "papermill": {
   "default_parameters": {},
   "duration": 1680.940973,
   "end_time": "2024-04-30T09:25:13.908815",
   "environment_variables": {},
   "exception": null,
   "input_path": "./NK/02_integration_scVI.ipynb",
   "output_path": "./NK/02_integration_scVI_executed.ipynb",
   "parameters": {},
   "start_time": "2024-04-30T08:57:12.967842",
   "version": "2.5.0"
  }
 },
 "nbformat": 4,
 "nbformat_minor": 5
}