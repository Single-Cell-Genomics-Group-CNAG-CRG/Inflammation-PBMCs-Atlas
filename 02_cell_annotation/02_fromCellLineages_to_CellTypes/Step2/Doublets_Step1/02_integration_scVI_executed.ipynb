{
 "cells": [
  {
   "cell_type": "code",
   "execution_count": 1,
   "id": "2dd1425a-0c07-465e-b522-9e3cc5cb93a7",
   "metadata": {
    "execution": {
     "iopub.execute_input": "2024-04-30T08:40:05.601452Z",
     "iopub.status.busy": "2024-04-30T08:40:05.600826Z",
     "iopub.status.idle": "2024-04-30T08:40:10.886165Z",
     "shell.execute_reply": "2024-04-30T08:40:10.885385Z"
    },
    "papermill": {
     "duration": 5.294177,
     "end_time": "2024-04-30T08:40:10.889021",
     "exception": false,
     "start_time": "2024-04-30T08:40:05.594844",
     "status": "completed"
    },
    "tags": []
   },
   "outputs": [
    {
     "data": {
      "text/plain": [
       "True"
      ]
     },
     "execution_count": 1,
     "metadata": {},
     "output_type": "execute_result"
    }
   ],
   "source": [
    "import os\n",
    "import sys\n",
    "\n",
    "import numpy as np\n",
    "import matplotlib.pyplot as plt\n",
    "\n",
    "import scanpy as sc\n",
    "import scvi\n",
    "import torch\n",
    "\n",
    "from pytorch_lightning.loggers import WandbLogger\n",
    "import wandb\n",
    "from dotenv import load_dotenv\n",
    "\n",
    "import session_info\n",
    "import warnings\n",
    "from pyprojroot.here import here\n",
    "\n",
    "warnings.filterwarnings(\"ignore\")\n",
    "sys.path.insert(1, str(here('bin')))\n",
    "\n",
    "torch.set_float32_matmul_precision('high')\n",
    "\n",
    "#plt.style.use(['science','nature','no-latex'])\n",
    "dpi_fig_save = 300\n",
    "sc.set_figure_params(dpi=100, dpi_save=dpi_fig_save, vector_friendly=True)\n",
    "\n",
    "load_dotenv(here('.env'))"
   ]
  },
  {
   "cell_type": "code",
   "execution_count": 2,
   "id": "09c897fc-744b-43de-a681-718fb5d327fa",
   "metadata": {
    "execution": {
     "iopub.execute_input": "2024-04-30T08:40:10.905504Z",
     "iopub.status.busy": "2024-04-30T08:40:10.905185Z",
     "iopub.status.idle": "2024-04-30T08:40:10.909515Z",
     "shell.execute_reply": "2024-04-30T08:40:10.908844Z"
    },
    "papermill": {
     "duration": 0.012777,
     "end_time": "2024-04-30T08:40:10.911251",
     "exception": false,
     "start_time": "2024-04-30T08:40:10.898474",
     "status": "completed"
    },
    "tags": []
   },
   "outputs": [],
   "source": [
    "class CustomWandbLogger(WandbLogger):\n",
    "    @property\n",
    "    def save_dir(self):\n",
    "        return self.experiment.dir"
   ]
  },
  {
   "cell_type": "code",
   "execution_count": 3,
   "id": "8ee6662f-5d45-4137-80a5-bb0b9ae8d71f",
   "metadata": {
    "execution": {
     "iopub.execute_input": "2024-04-30T08:40:10.919986Z",
     "iopub.status.busy": "2024-04-30T08:40:10.919726Z",
     "iopub.status.idle": "2024-04-30T08:40:10.926376Z",
     "shell.execute_reply": "2024-04-30T08:40:10.925708Z"
    },
    "papermill": {
     "duration": 0.013139,
     "end_time": "2024-04-30T08:40:10.928030",
     "exception": false,
     "start_time": "2024-04-30T08:40:10.914891",
     "status": "completed"
    },
    "tags": []
   },
   "outputs": [
    {
     "name": "stderr",
     "output_type": "stream",
     "text": [
      "Seed set to 0\n"
     ]
    },
    {
     "name": "stdout",
     "output_type": "stream",
     "text": [
      "Last run with scvi-tools version: 1.1.2\n"
     ]
    }
   ],
   "source": [
    "scvi.settings.seed = 0\n",
    "print(\"Last run with scvi-tools version:\", scvi.__version__)"
   ]
  },
  {
   "cell_type": "markdown",
   "id": "a81037ff-5998-482a-ba86-520f757311a9",
   "metadata": {
    "papermill": {
     "duration": 0.003683,
     "end_time": "2024-04-30T08:40:10.935568",
     "exception": false,
     "start_time": "2024-04-30T08:40:10.931885",
     "status": "completed"
    },
    "tags": []
   },
   "source": [
    "**Setting parameters** "
   ]
  },
  {
   "cell_type": "code",
   "execution_count": 4,
   "id": "56c27966-8f10-4c93-8b1a-1fa75f005e41",
   "metadata": {
    "execution": {
     "iopub.execute_input": "2024-04-30T08:40:10.944743Z",
     "iopub.status.busy": "2024-04-30T08:40:10.944477Z",
     "iopub.status.idle": "2024-04-30T08:40:10.947789Z",
     "shell.execute_reply": "2024-04-30T08:40:10.947164Z"
    },
    "papermill": {
     "duration": 0.009949,
     "end_time": "2024-04-30T08:40:10.949364",
     "exception": false,
     "start_time": "2024-04-30T08:40:10.939415",
     "status": "completed"
    },
    "tags": []
   },
   "outputs": [],
   "source": [
    "overwriteFigures = True\n",
    "overwriteData = True"
   ]
  },
  {
   "cell_type": "code",
   "execution_count": 5,
   "id": "c86fccd3-a4fe-415b-8f4e-e2ceb3ec128a",
   "metadata": {
    "execution": {
     "iopub.execute_input": "2024-04-30T08:40:10.957849Z",
     "iopub.status.busy": "2024-04-30T08:40:10.957595Z",
     "iopub.status.idle": "2024-04-30T08:40:10.960998Z",
     "shell.execute_reply": "2024-04-30T08:40:10.960312Z"
    },
    "papermill": {
     "duration": 0.009548,
     "end_time": "2024-04-30T08:40:10.962583",
     "exception": false,
     "start_time": "2024-04-30T08:40:10.953035",
     "status": "completed"
    },
    "tags": []
   },
   "outputs": [],
   "source": [
    "cellGroup = 'Doublets_Step1'\n",
    "workDir = os.getcwd()"
   ]
  },
  {
   "cell_type": "code",
   "execution_count": 6,
   "id": "2dee4d55-d168-467b-b867-a61fed9d6af1",
   "metadata": {
    "execution": {
     "iopub.execute_input": "2024-04-30T08:40:10.971103Z",
     "iopub.status.busy": "2024-04-30T08:40:10.970851Z",
     "iopub.status.idle": "2024-04-30T08:40:10.974272Z",
     "shell.execute_reply": "2024-04-30T08:40:10.973701Z"
    },
    "papermill": {
     "duration": 0.009578,
     "end_time": "2024-04-30T08:40:10.975701",
     "exception": false,
     "start_time": "2024-04-30T08:40:10.966123",
     "status": "completed"
    },
    "tags": []
   },
   "outputs": [],
   "source": [
    "annotationLevel = os.path.basename(os.path.normpath(workDir))"
   ]
  },
  {
   "cell_type": "code",
   "execution_count": 7,
   "id": "11e53cd5-b746-4152-89cb-c2f0c15d90b3",
   "metadata": {
    "execution": {
     "iopub.execute_input": "2024-04-30T08:40:10.984738Z",
     "iopub.status.busy": "2024-04-30T08:40:10.984065Z",
     "iopub.status.idle": "2024-04-30T08:40:10.988375Z",
     "shell.execute_reply": "2024-04-30T08:40:10.987812Z"
    },
    "papermill": {
     "duration": 0.010504,
     "end_time": "2024-04-30T08:40:10.989826",
     "exception": false,
     "start_time": "2024-04-30T08:40:10.979322",
     "status": "completed"
    },
    "tags": []
   },
   "outputs": [
    {
     "data": {
      "text/plain": [
       "'/home/jupyter/Inflammation-PBMCs-Atlas/02_cell_annotation/02_fromCellLineages_to_CellTypes/Step2'"
      ]
     },
     "execution_count": 7,
     "metadata": {},
     "output_type": "execute_result"
    }
   ],
   "source": [
    "workDir"
   ]
  },
  {
   "cell_type": "markdown",
   "id": "171d2f06-9a44-4fcb-b437-35dc546674b6",
   "metadata": {
    "papermill": {
     "duration": 0.003725,
     "end_time": "2024-04-30T08:40:10.997321",
     "exception": false,
     "start_time": "2024-04-30T08:40:10.993596",
     "status": "completed"
    },
    "tags": []
   },
   "source": [
    "**Load data**"
   ]
  },
  {
   "cell_type": "code",
   "execution_count": 8,
   "id": "429f34fe-dde6-4cc9-9f75-7de8f85c5ffe",
   "metadata": {
    "execution": {
     "iopub.execute_input": "2024-04-30T08:40:11.006721Z",
     "iopub.status.busy": "2024-04-30T08:40:11.006217Z",
     "iopub.status.idle": "2024-04-30T08:40:17.538902Z",
     "shell.execute_reply": "2024-04-30T08:40:17.538264Z"
    },
    "papermill": {
     "duration": 6.539267,
     "end_time": "2024-04-30T08:40:17.540524",
     "exception": false,
     "start_time": "2024-04-30T08:40:11.001257",
     "status": "completed"
    },
    "tags": []
   },
   "outputs": [
    {
     "data": {
      "text/plain": [
       "AnnData object with n_obs × n_vars = 207963 × 2046\n",
       "    obs: 'studyID', 'libraryID', 'sampleID', 'chemistry', 'technology', 'patientID', 'disease', 'timepoint_replicate', 'treatmentStatus', 'therapyResponse', 'sex', 'age', 'BMI', 'binned_age', 'diseaseStatus', 'smokingStatus', 'ethnicity', 'institute', 'diseaseGroup', 'n_genes_by_counts', 'log1p_n_genes_by_counts', 'total_counts', 'log1p_total_counts', 'pct_counts_in_top_20_genes', 'total_counts_mt', 'log1p_total_counts_mt', 'pct_counts_mt', 'total_counts_ribo', 'log1p_total_counts_ribo', 'pct_counts_ribo', 'total_counts_hb', 'log1p_total_counts_hb', 'pct_counts_hb', 'total_counts_plt', 'log1p_total_counts_plt', 'pct_counts_plt', 'doublet_score', 'predicted_doublet', 'S_score', 'G2M_score', 'phase'\n",
       "    var: 'hgnc_id', 'symbol', 'locus_group', 'HUGO_status', 'mt', 'ribo', 'hb', 'plt', 'n_cells_by_counts', 'mean_counts', 'log1p_mean_counts', 'pct_dropout_by_counts', 'total_counts', 'log1p_total_counts', 'highly_variable'\n",
       "    uns: 'chemistry_colors', 'log1p'\n",
       "    layers: 'counts', 'log1p_10e4_counts'"
      ]
     },
     "execution_count": 8,
     "metadata": {},
     "output_type": "execute_result"
    }
   ],
   "source": [
    "adata = sc.read_h5ad(here(f\"{workDir}/{cellGroup}/results/01_{cellGroup}_normalized_HVGsubset.h5ad\"))\n",
    "adata"
   ]
  },
  {
   "cell_type": "markdown",
   "id": "8ac79f3b-d5af-41fa-8904-1e9ac1cbe2fb",
   "metadata": {
    "papermill": {
     "duration": 0.003927,
     "end_time": "2024-04-30T08:40:17.548853",
     "exception": false,
     "start_time": "2024-04-30T08:40:17.544926",
     "status": "completed"
    },
    "tags": []
   },
   "source": [
    "## scVI integration"
   ]
  },
  {
   "cell_type": "markdown",
   "id": "9544847d-d17f-4811-b14b-760446d54d32",
   "metadata": {
    "execution": {
     "iopub.execute_input": "2024-03-25T16:49:04.004504Z",
     "iopub.status.busy": "2024-03-25T16:49:04.004143Z",
     "iopub.status.idle": "2024-03-25T16:49:04.010148Z",
     "shell.execute_reply": "2024-03-25T16:49:04.009146Z",
     "shell.execute_reply.started": "2024-03-25T16:49:04.004477Z"
    },
    "papermill": {
     "duration": 0.003934,
     "end_time": "2024-04-30T08:40:17.556835",
     "exception": false,
     "start_time": "2024-04-30T08:40:17.552901",
     "status": "completed"
    },
    "tags": []
   },
   "source": [
    "**scVI parameters**"
   ]
  },
  {
   "cell_type": "code",
   "execution_count": 9,
   "id": "208966eb-545a-4c02-854c-0ed0487ef5b3",
   "metadata": {
    "execution": {
     "iopub.execute_input": "2024-04-30T08:40:17.566229Z",
     "iopub.status.busy": "2024-04-30T08:40:17.565939Z",
     "iopub.status.idle": "2024-04-30T08:40:17.571438Z",
     "shell.execute_reply": "2024-04-30T08:40:17.570806Z"
    },
    "papermill": {
     "duration": 0.012112,
     "end_time": "2024-04-30T08:40:17.572949",
     "exception": false,
     "start_time": "2024-04-30T08:40:17.560837",
     "status": "completed"
    },
    "tags": []
   },
   "outputs": [],
   "source": [
    "# https://docs.scvi-tools.org/en/stable/api/reference/scvi.train.Trainer.html#scvi.train.Trainer\n",
    "setup_kwargs = dict(\n",
    "    layer=\"counts\", \n",
    "    batch_key='libraryID', \n",
    "    categorical_covariate_keys = ['studyID', 'chemistry', 'disease', 'sampleID'],\n",
    "    labels_key = 'chemistry'    \n",
    ")\n",
    "\n",
    "scvi_kwargs = dict(n_hidden=512,\n",
    "                   n_latent=20, # reduceds after step 00 (main)\n",
    "                   n_layers=2,\n",
    "                   gene_likelihood='nb',\n",
    "                   dispersion='gene-label')\n",
    "\n",
    "trainer_kwargs = dict(\n",
    "    checkpointing_monitor = 'elbo_validation',\n",
    "    early_stopping_monitor = 'reconstruction_loss_validation',\n",
    "    early_stopping_patience = 10,\n",
    "    early_stopping_min_delta=0.1,\n",
    "    early_stopping = True,\n",
    "    max_epochs = 1000,\n",
    "\n",
    "    #logger = # wandb\n",
    ")\n",
    "# https://docs.scvi-tools.org/en/stable/api/reference/scvi.train.TrainingPlan.html#scvi.train.TrainingPlan\n",
    "plan_kwargs = dict(\n",
    "    lr = 5e-4,\n",
    "    #reduce_lr_on_plateau = True\n",
    ")\n",
    "\n",
    "# https://docs.scvi-tools.org/en/stable/api/reference/scvi.module.VAE.html#scvi.module.VAE\n",
    "#vae = dict(\n",
    "#    use_layer_norm='both',\n",
    "#    use_batch_norm='none',\n",
    "#    encode_covariates=True,\n",
    "#    deeply_inject_covariates=False\n",
    "#)\n",
    "parameter_dict = setup_kwargs | scvi_kwargs | trainer_kwargs | plan_kwargs"
   ]
  },
  {
   "cell_type": "markdown",
   "id": "1362366a-c16b-4c11-964b-b9c5f82f7b29",
   "metadata": {
    "papermill": {
     "duration": 0.003993,
     "end_time": "2024-04-30T08:40:17.580868",
     "exception": false,
     "start_time": "2024-04-30T08:40:17.576875",
     "status": "completed"
    },
    "tags": []
   },
   "source": [
    "**wandb parameter**"
   ]
  },
  {
   "cell_type": "code",
   "execution_count": 10,
   "id": "0496e33a-8ca5-423f-b42f-34a59760708c",
   "metadata": {
    "execution": {
     "iopub.execute_input": "2024-04-30T08:40:17.590516Z",
     "iopub.status.busy": "2024-04-30T08:40:17.590257Z",
     "iopub.status.idle": "2024-04-30T08:40:17.595065Z",
     "shell.execute_reply": "2024-04-30T08:40:17.594411Z"
    },
    "papermill": {
     "duration": 0.011394,
     "end_time": "2024-04-30T08:40:17.596614",
     "exception": false,
     "start_time": "2024-04-30T08:40:17.585220",
     "status": "completed"
    },
    "tags": []
   },
   "outputs": [
    {
     "data": {
      "text/plain": [
       "'Step2_Doublets_Step1'"
      ]
     },
     "execution_count": 10,
     "metadata": {},
     "output_type": "execute_result"
    }
   ],
   "source": [
    "run_name = f\"{annotationLevel}_{cellGroup}\"\n",
    "run_name"
   ]
  },
  {
   "cell_type": "code",
   "execution_count": 11,
   "id": "b0021327-95a2-4002-bf32-2c5779a99505",
   "metadata": {
    "execution": {
     "iopub.execute_input": "2024-04-30T08:40:17.606568Z",
     "iopub.status.busy": "2024-04-30T08:40:17.606315Z",
     "iopub.status.idle": "2024-04-30T08:40:17.745268Z",
     "shell.execute_reply": "2024-04-30T08:40:17.744555Z"
    },
    "papermill": {
     "duration": 0.146193,
     "end_time": "2024-04-30T08:40:17.747158",
     "exception": false,
     "start_time": "2024-04-30T08:40:17.600965",
     "status": "completed"
    },
    "tags": []
   },
   "outputs": [],
   "source": [
    "logger = CustomWandbLogger(name = run_name, project='inflammation_atlas_R1', config=parameter_dict)"
   ]
  },
  {
   "cell_type": "markdown",
   "id": "c237eee1-a976-4915-9b7f-b014bf33f47d",
   "metadata": {
    "papermill": {
     "duration": 0.004594,
     "end_time": "2024-04-30T08:40:17.756422",
     "exception": false,
     "start_time": "2024-04-30T08:40:17.751828",
     "status": "completed"
    },
    "tags": []
   },
   "source": [
    "**Running integration**"
   ]
  },
  {
   "cell_type": "code",
   "execution_count": 12,
   "id": "aff97c53-1aba-462e-8a77-f1aec9cf724c",
   "metadata": {
    "execution": {
     "iopub.execute_input": "2024-04-30T08:40:17.767014Z",
     "iopub.status.busy": "2024-04-30T08:40:17.766710Z",
     "iopub.status.idle": "2024-04-30T08:40:18.280171Z",
     "shell.execute_reply": "2024-04-30T08:40:18.279386Z"
    },
    "papermill": {
     "duration": 0.521275,
     "end_time": "2024-04-30T08:40:18.282286",
     "exception": false,
     "start_time": "2024-04-30T08:40:17.761011",
     "status": "completed"
    },
    "tags": []
   },
   "outputs": [],
   "source": [
    "scvi.model.SCVI.setup_anndata(adata, \n",
    "                              **setup_kwargs)"
   ]
  },
  {
   "cell_type": "code",
   "execution_count": 13,
   "id": "1a56f448-cf44-47c1-81a4-a89caa930fec",
   "metadata": {
    "execution": {
     "iopub.execute_input": "2024-04-30T08:40:18.292608Z",
     "iopub.status.busy": "2024-04-30T08:40:18.292318Z",
     "iopub.status.idle": "2024-04-30T08:40:18.733076Z",
     "shell.execute_reply": "2024-04-30T08:40:18.732387Z"
    },
    "papermill": {
     "duration": 0.448175,
     "end_time": "2024-04-30T08:40:18.735078",
     "exception": false,
     "start_time": "2024-04-30T08:40:18.286903",
     "status": "completed"
    },
    "tags": []
   },
   "outputs": [],
   "source": [
    "model = scvi.model.SCVI(adata, **scvi_kwargs)"
   ]
  },
  {
   "cell_type": "code",
   "execution_count": 14,
   "id": "2735f010-4f24-4ae8-9740-a8cfeb335e9a",
   "metadata": {
    "execution": {
     "iopub.execute_input": "2024-04-30T08:40:18.744760Z",
     "iopub.status.busy": "2024-04-30T08:40:18.744481Z",
     "iopub.status.idle": "2024-04-30T08:54:25.617452Z",
     "shell.execute_reply": "2024-04-30T08:54:25.616674Z"
    },
    "papermill": {
     "duration": 846.88023,
     "end_time": "2024-04-30T08:54:25.619333",
     "exception": false,
     "start_time": "2024-04-30T08:40:18.739103",
     "status": "completed"
    },
    "tags": []
   },
   "outputs": [
    {
     "name": "stderr",
     "output_type": "stream",
     "text": [
      "GPU available: True (cuda), used: True\n"
     ]
    },
    {
     "name": "stderr",
     "output_type": "stream",
     "text": [
      "TPU available: False, using: 0 TPU cores\n"
     ]
    },
    {
     "name": "stderr",
     "output_type": "stream",
     "text": [
      "IPU available: False, using: 0 IPUs\n"
     ]
    },
    {
     "name": "stderr",
     "output_type": "stream",
     "text": [
      "HPU available: False, using: 0 HPUs\n"
     ]
    },
    {
     "name": "stderr",
     "output_type": "stream",
     "text": [
      "\u001b[34m\u001b[1mwandb\u001b[0m: Currently logged in as: \u001b[33mdav1989\u001b[0m (\u001b[33minflammation\u001b[0m). Use \u001b[1m`wandb login --relogin`\u001b[0m to force relogin\n"
     ]
    },
    {
     "name": "stderr",
     "output_type": "stream",
     "text": [
      "\u001b[34m\u001b[1mwandb\u001b[0m: wandb version 0.16.6 is available!  To upgrade, please run:\n",
      "\u001b[34m\u001b[1mwandb\u001b[0m:  $ pip install wandb --upgrade\n"
     ]
    },
    {
     "name": "stderr",
     "output_type": "stream",
     "text": [
      "\u001b[34m\u001b[1mwandb\u001b[0m: Tracking run with wandb version 0.16.3\n"
     ]
    },
    {
     "name": "stderr",
     "output_type": "stream",
     "text": [
      "\u001b[34m\u001b[1mwandb\u001b[0m: Run data is saved locally in \u001b[35m\u001b[1m./wandb/run-20240430_084023-m65ex1xm\u001b[0m\n",
      "\u001b[34m\u001b[1mwandb\u001b[0m: Run \u001b[1m`wandb offline`\u001b[0m to turn off syncing.\n"
     ]
    },
    {
     "name": "stderr",
     "output_type": "stream",
     "text": [
      "\u001b[34m\u001b[1mwandb\u001b[0m: Syncing run \u001b[33mStep2_Doublets_Step1\u001b[0m\n"
     ]
    },
    {
     "name": "stderr",
     "output_type": "stream",
     "text": [
      "\u001b[34m\u001b[1mwandb\u001b[0m: ⭐️ View project at \u001b[34m\u001b[4mhttps://wandb.ai/inflammation/inflammation_atlas_R1\u001b[0m\n"
     ]
    },
    {
     "name": "stderr",
     "output_type": "stream",
     "text": [
      "\u001b[34m\u001b[1mwandb\u001b[0m: 🚀 View run at \u001b[34m\u001b[4mhttps://wandb.ai/inflammation/inflammation_atlas_R1/runs/m65ex1xm\u001b[0m\n"
     ]
    },
    {
     "name": "stderr",
     "output_type": "stream",
     "text": [
      "LOCAL_RANK: 0 - CUDA_VISIBLE_DEVICES: [0]\n"
     ]
    },
    {
     "name": "stdout",
     "output_type": "stream",
     "text": [
      "\r",
      "Training:   0%|          | 0/1000 [00:00<?, ?it/s]"
     ]
    },
    {
     "name": "stdout",
     "output_type": "stream",
     "text": [
      "\r",
      "Epoch 1/1000:   0%|          | 0/1000 [00:00<?, ?it/s]"
     ]
    },
    {
     "name": "stdout",
     "output_type": "stream",
     "text": [
      "\r",
      "Epoch 1/1000:   0%|          | 1/1000 [00:21<5:55:29, 21.35s/it]"
     ]
    },
    {
     "name": "stdout",
     "output_type": "stream",
     "text": [
      "\r",
      "Epoch 1/1000:   0%|          | 1/1000 [00:21<5:55:29, 21.35s/it, v_num=x1xm, train_loss_step=906, train_loss_epoch=953]"
     ]
    },
    {
     "name": "stdout",
     "output_type": "stream",
     "text": [
      "\r",
      "Epoch 2/1000:   0%|          | 1/1000 [00:21<5:55:29, 21.35s/it, v_num=x1xm, train_loss_step=906, train_loss_epoch=953]"
     ]
    },
    {
     "name": "stdout",
     "output_type": "stream",
     "text": [
      "\r",
      "Epoch 2/1000:   0%|          | 2/1000 [00:41<5:42:36, 20.60s/it, v_num=x1xm, train_loss_step=906, train_loss_epoch=953]"
     ]
    },
    {
     "name": "stdout",
     "output_type": "stream",
     "text": [
      "\r",
      "Epoch 2/1000:   0%|          | 2/1000 [00:41<5:42:36, 20.60s/it, v_num=x1xm, train_loss_step=866, train_loss_epoch=914]"
     ]
    },
    {
     "name": "stdout",
     "output_type": "stream",
     "text": [
      "\r",
      "Epoch 3/1000:   0%|          | 2/1000 [00:41<5:42:36, 20.60s/it, v_num=x1xm, train_loss_step=866, train_loss_epoch=914]"
     ]
    },
    {
     "name": "stdout",
     "output_type": "stream",
     "text": [
      "\r",
      "Epoch 3/1000:   0%|          | 3/1000 [01:01<5:37:55, 20.34s/it, v_num=x1xm, train_loss_step=866, train_loss_epoch=914]"
     ]
    },
    {
     "name": "stdout",
     "output_type": "stream",
     "text": [
      "\r",
      "Epoch 3/1000:   0%|          | 3/1000 [01:01<5:37:55, 20.34s/it, v_num=x1xm, train_loss_step=849, train_loss_epoch=900]"
     ]
    },
    {
     "name": "stdout",
     "output_type": "stream",
     "text": [
      "\r",
      "Epoch 4/1000:   0%|          | 3/1000 [01:01<5:37:55, 20.34s/it, v_num=x1xm, train_loss_step=849, train_loss_epoch=900]"
     ]
    },
    {
     "name": "stdout",
     "output_type": "stream",
     "text": [
      "\r",
      "Epoch 4/1000:   0%|          | 4/1000 [01:21<5:33:50, 20.11s/it, v_num=x1xm, train_loss_step=849, train_loss_epoch=900]"
     ]
    },
    {
     "name": "stdout",
     "output_type": "stream",
     "text": [
      "\r",
      "Epoch 4/1000:   0%|          | 4/1000 [01:21<5:33:50, 20.11s/it, v_num=x1xm, train_loss_step=946, train_loss_epoch=892]"
     ]
    },
    {
     "name": "stdout",
     "output_type": "stream",
     "text": [
      "\r",
      "Epoch 5/1000:   0%|          | 4/1000 [01:21<5:33:50, 20.11s/it, v_num=x1xm, train_loss_step=946, train_loss_epoch=892]"
     ]
    },
    {
     "name": "stdout",
     "output_type": "stream",
     "text": [
      "\r",
      "Epoch 5/1000:   0%|          | 5/1000 [01:41<5:35:56, 20.26s/it, v_num=x1xm, train_loss_step=946, train_loss_epoch=892]"
     ]
    },
    {
     "name": "stdout",
     "output_type": "stream",
     "text": [
      "\r",
      "Epoch 5/1000:   0%|          | 5/1000 [01:41<5:35:56, 20.26s/it, v_num=x1xm, train_loss_step=856, train_loss_epoch=886]"
     ]
    },
    {
     "name": "stdout",
     "output_type": "stream",
     "text": [
      "\r",
      "Epoch 6/1000:   0%|          | 5/1000 [01:41<5:35:56, 20.26s/it, v_num=x1xm, train_loss_step=856, train_loss_epoch=886]"
     ]
    },
    {
     "name": "stdout",
     "output_type": "stream",
     "text": [
      "\r",
      "Epoch 6/1000:   1%|          | 6/1000 [02:02<5:35:46, 20.27s/it, v_num=x1xm, train_loss_step=856, train_loss_epoch=886]"
     ]
    },
    {
     "name": "stdout",
     "output_type": "stream",
     "text": [
      "\r",
      "Epoch 6/1000:   1%|          | 6/1000 [02:02<5:35:46, 20.27s/it, v_num=x1xm, train_loss_step=937, train_loss_epoch=883]"
     ]
    },
    {
     "name": "stdout",
     "output_type": "stream",
     "text": [
      "\r",
      "Epoch 7/1000:   1%|          | 6/1000 [02:02<5:35:46, 20.27s/it, v_num=x1xm, train_loss_step=937, train_loss_epoch=883]"
     ]
    },
    {
     "name": "stdout",
     "output_type": "stream",
     "text": [
      "\r",
      "Epoch 7/1000:   1%|          | 7/1000 [02:22<5:35:44, 20.29s/it, v_num=x1xm, train_loss_step=937, train_loss_epoch=883]"
     ]
    },
    {
     "name": "stdout",
     "output_type": "stream",
     "text": [
      "\r",
      "Epoch 7/1000:   1%|          | 7/1000 [02:22<5:35:44, 20.29s/it, v_num=x1xm, train_loss_step=910, train_loss_epoch=881]"
     ]
    },
    {
     "name": "stdout",
     "output_type": "stream",
     "text": [
      "\r",
      "Epoch 8/1000:   1%|          | 7/1000 [02:22<5:35:44, 20.29s/it, v_num=x1xm, train_loss_step=910, train_loss_epoch=881]"
     ]
    },
    {
     "name": "stdout",
     "output_type": "stream",
     "text": [
      "\r",
      "Epoch 8/1000:   1%|          | 8/1000 [02:42<5:33:54, 20.20s/it, v_num=x1xm, train_loss_step=910, train_loss_epoch=881]"
     ]
    },
    {
     "name": "stdout",
     "output_type": "stream",
     "text": [
      "\r",
      "Epoch 8/1000:   1%|          | 8/1000 [02:42<5:33:54, 20.20s/it, v_num=x1xm, train_loss_step=859, train_loss_epoch=879]"
     ]
    },
    {
     "name": "stdout",
     "output_type": "stream",
     "text": [
      "\r",
      "Epoch 9/1000:   1%|          | 8/1000 [02:42<5:33:54, 20.20s/it, v_num=x1xm, train_loss_step=859, train_loss_epoch=879]"
     ]
    },
    {
     "name": "stdout",
     "output_type": "stream",
     "text": [
      "\r",
      "Epoch 9/1000:   1%|          | 9/1000 [03:02<5:30:50, 20.03s/it, v_num=x1xm, train_loss_step=859, train_loss_epoch=879]"
     ]
    },
    {
     "name": "stdout",
     "output_type": "stream",
     "text": [
      "\r",
      "Epoch 9/1000:   1%|          | 9/1000 [03:02<5:30:50, 20.03s/it, v_num=x1xm, train_loss_step=882, train_loss_epoch=878]"
     ]
    },
    {
     "name": "stdout",
     "output_type": "stream",
     "text": [
      "\r",
      "Epoch 10/1000:   1%|          | 9/1000 [03:02<5:30:50, 20.03s/it, v_num=x1xm, train_loss_step=882, train_loss_epoch=878]"
     ]
    },
    {
     "name": "stdout",
     "output_type": "stream",
     "text": [
      "\r",
      "Epoch 10/1000:   1%|          | 10/1000 [03:21<5:29:33, 19.97s/it, v_num=x1xm, train_loss_step=882, train_loss_epoch=878]"
     ]
    },
    {
     "name": "stdout",
     "output_type": "stream",
     "text": [
      "\r",
      "Epoch 10/1000:   1%|          | 10/1000 [03:21<5:29:33, 19.97s/it, v_num=x1xm, train_loss_step=1.02e+3, train_loss_epoch=877]"
     ]
    },
    {
     "name": "stdout",
     "output_type": "stream",
     "text": [
      "\r",
      "Epoch 11/1000:   1%|          | 10/1000 [03:21<5:29:33, 19.97s/it, v_num=x1xm, train_loss_step=1.02e+3, train_loss_epoch=877]"
     ]
    },
    {
     "name": "stdout",
     "output_type": "stream",
     "text": [
      "\r",
      "Epoch 11/1000:   1%|          | 11/1000 [03:42<5:30:20, 20.04s/it, v_num=x1xm, train_loss_step=1.02e+3, train_loss_epoch=877]"
     ]
    },
    {
     "name": "stdout",
     "output_type": "stream",
     "text": [
      "\r",
      "Epoch 11/1000:   1%|          | 11/1000 [03:42<5:30:20, 20.04s/it, v_num=x1xm, train_loss_step=1.03e+3, train_loss_epoch=877]"
     ]
    },
    {
     "name": "stdout",
     "output_type": "stream",
     "text": [
      "\r",
      "Epoch 12/1000:   1%|          | 11/1000 [03:42<5:30:20, 20.04s/it, v_num=x1xm, train_loss_step=1.03e+3, train_loss_epoch=877]"
     ]
    },
    {
     "name": "stdout",
     "output_type": "stream",
     "text": [
      "\r",
      "Epoch 12/1000:   1%|          | 12/1000 [04:02<5:29:33, 20.01s/it, v_num=x1xm, train_loss_step=1.03e+3, train_loss_epoch=877]"
     ]
    },
    {
     "name": "stdout",
     "output_type": "stream",
     "text": [
      "\r",
      "Epoch 12/1000:   1%|          | 12/1000 [04:02<5:29:33, 20.01s/it, v_num=x1xm, train_loss_step=940, train_loss_epoch=876]    "
     ]
    },
    {
     "name": "stdout",
     "output_type": "stream",
     "text": [
      "\r",
      "Epoch 13/1000:   1%|          | 12/1000 [04:02<5:29:33, 20.01s/it, v_num=x1xm, train_loss_step=940, train_loss_epoch=876]"
     ]
    },
    {
     "name": "stdout",
     "output_type": "stream",
     "text": [
      "\r",
      "Epoch 13/1000:   1%|▏         | 13/1000 [04:22<5:30:43, 20.11s/it, v_num=x1xm, train_loss_step=940, train_loss_epoch=876]"
     ]
    },
    {
     "name": "stdout",
     "output_type": "stream",
     "text": [
      "\r",
      "Epoch 13/1000:   1%|▏         | 13/1000 [04:22<5:30:43, 20.11s/it, v_num=x1xm, train_loss_step=921, train_loss_epoch=876]"
     ]
    },
    {
     "name": "stdout",
     "output_type": "stream",
     "text": [
      "\r",
      "Epoch 14/1000:   1%|▏         | 13/1000 [04:22<5:30:43, 20.11s/it, v_num=x1xm, train_loss_step=921, train_loss_epoch=876]"
     ]
    },
    {
     "name": "stdout",
     "output_type": "stream",
     "text": [
      "\r",
      "Epoch 14/1000:   1%|▏         | 14/1000 [04:42<5:30:48, 20.13s/it, v_num=x1xm, train_loss_step=921, train_loss_epoch=876]"
     ]
    },
    {
     "name": "stdout",
     "output_type": "stream",
     "text": [
      "\r",
      "Epoch 14/1000:   1%|▏         | 14/1000 [04:42<5:30:48, 20.13s/it, v_num=x1xm, train_loss_step=913, train_loss_epoch=875]"
     ]
    },
    {
     "name": "stdout",
     "output_type": "stream",
     "text": [
      "\r",
      "Epoch 15/1000:   1%|▏         | 14/1000 [04:42<5:30:48, 20.13s/it, v_num=x1xm, train_loss_step=913, train_loss_epoch=875]"
     ]
    },
    {
     "name": "stdout",
     "output_type": "stream",
     "text": [
      "\r",
      "Epoch 15/1000:   2%|▏         | 15/1000 [05:02<5:29:33, 20.07s/it, v_num=x1xm, train_loss_step=913, train_loss_epoch=875]"
     ]
    },
    {
     "name": "stdout",
     "output_type": "stream",
     "text": [
      "\r",
      "Epoch 15/1000:   2%|▏         | 15/1000 [05:02<5:29:33, 20.07s/it, v_num=x1xm, train_loss_step=846, train_loss_epoch=875]"
     ]
    },
    {
     "name": "stdout",
     "output_type": "stream",
     "text": [
      "\r",
      "Epoch 16/1000:   2%|▏         | 15/1000 [05:02<5:29:33, 20.07s/it, v_num=x1xm, train_loss_step=846, train_loss_epoch=875]"
     ]
    },
    {
     "name": "stdout",
     "output_type": "stream",
     "text": [
      "\r",
      "Epoch 16/1000:   2%|▏         | 16/1000 [05:22<5:29:16, 20.08s/it, v_num=x1xm, train_loss_step=846, train_loss_epoch=875]"
     ]
    },
    {
     "name": "stdout",
     "output_type": "stream",
     "text": [
      "\r",
      "Epoch 16/1000:   2%|▏         | 16/1000 [05:22<5:29:16, 20.08s/it, v_num=x1xm, train_loss_step=850, train_loss_epoch=875]"
     ]
    },
    {
     "name": "stdout",
     "output_type": "stream",
     "text": [
      "\r",
      "Epoch 17/1000:   2%|▏         | 16/1000 [05:22<5:29:16, 20.08s/it, v_num=x1xm, train_loss_step=850, train_loss_epoch=875]"
     ]
    },
    {
     "name": "stdout",
     "output_type": "stream",
     "text": [
      "\r",
      "Epoch 17/1000:   2%|▏         | 17/1000 [05:42<5:29:23, 20.11s/it, v_num=x1xm, train_loss_step=850, train_loss_epoch=875]"
     ]
    },
    {
     "name": "stdout",
     "output_type": "stream",
     "text": [
      "\r",
      "Epoch 17/1000:   2%|▏         | 17/1000 [05:42<5:29:23, 20.11s/it, v_num=x1xm, train_loss_step=1.03e+3, train_loss_epoch=874]"
     ]
    },
    {
     "name": "stdout",
     "output_type": "stream",
     "text": [
      "\r",
      "Epoch 18/1000:   2%|▏         | 17/1000 [05:42<5:29:23, 20.11s/it, v_num=x1xm, train_loss_step=1.03e+3, train_loss_epoch=874]"
     ]
    },
    {
     "name": "stdout",
     "output_type": "stream",
     "text": [
      "\r",
      "Epoch 18/1000:   2%|▏         | 18/1000 [06:02<5:28:08, 20.05s/it, v_num=x1xm, train_loss_step=1.03e+3, train_loss_epoch=874]"
     ]
    },
    {
     "name": "stdout",
     "output_type": "stream",
     "text": [
      "\r",
      "Epoch 18/1000:   2%|▏         | 18/1000 [06:02<5:28:08, 20.05s/it, v_num=x1xm, train_loss_step=860, train_loss_epoch=874]    "
     ]
    },
    {
     "name": "stdout",
     "output_type": "stream",
     "text": [
      "\r",
      "Epoch 19/1000:   2%|▏         | 18/1000 [06:02<5:28:08, 20.05s/it, v_num=x1xm, train_loss_step=860, train_loss_epoch=874]"
     ]
    },
    {
     "name": "stdout",
     "output_type": "stream",
     "text": [
      "\r",
      "Epoch 19/1000:   2%|▏         | 19/1000 [06:22<5:25:39, 19.92s/it, v_num=x1xm, train_loss_step=860, train_loss_epoch=874]"
     ]
    },
    {
     "name": "stdout",
     "output_type": "stream",
     "text": [
      "\r",
      "Epoch 19/1000:   2%|▏         | 19/1000 [06:22<5:25:39, 19.92s/it, v_num=x1xm, train_loss_step=877, train_loss_epoch=874]"
     ]
    },
    {
     "name": "stdout",
     "output_type": "stream",
     "text": [
      "\r",
      "Epoch 20/1000:   2%|▏         | 19/1000 [06:22<5:25:39, 19.92s/it, v_num=x1xm, train_loss_step=877, train_loss_epoch=874]"
     ]
    },
    {
     "name": "stdout",
     "output_type": "stream",
     "text": [
      "\r",
      "Epoch 20/1000:   2%|▏         | 20/1000 [06:42<5:24:47, 19.89s/it, v_num=x1xm, train_loss_step=877, train_loss_epoch=874]"
     ]
    },
    {
     "name": "stdout",
     "output_type": "stream",
     "text": [
      "\r",
      "Epoch 20/1000:   2%|▏         | 20/1000 [06:42<5:24:47, 19.89s/it, v_num=x1xm, train_loss_step=832, train_loss_epoch=874]"
     ]
    },
    {
     "name": "stdout",
     "output_type": "stream",
     "text": [
      "\r",
      "Epoch 21/1000:   2%|▏         | 20/1000 [06:42<5:24:47, 19.89s/it, v_num=x1xm, train_loss_step=832, train_loss_epoch=874]"
     ]
    },
    {
     "name": "stdout",
     "output_type": "stream",
     "text": [
      "\r",
      "Epoch 21/1000:   2%|▏         | 21/1000 [07:01<5:23:22, 19.82s/it, v_num=x1xm, train_loss_step=832, train_loss_epoch=874]"
     ]
    },
    {
     "name": "stdout",
     "output_type": "stream",
     "text": [
      "\r",
      "Epoch 21/1000:   2%|▏         | 21/1000 [07:01<5:23:22, 19.82s/it, v_num=x1xm, train_loss_step=834, train_loss_epoch=874]"
     ]
    },
    {
     "name": "stdout",
     "output_type": "stream",
     "text": [
      "\r",
      "Epoch 22/1000:   2%|▏         | 21/1000 [07:01<5:23:22, 19.82s/it, v_num=x1xm, train_loss_step=834, train_loss_epoch=874]"
     ]
    },
    {
     "name": "stdout",
     "output_type": "stream",
     "text": [
      "\r",
      "Epoch 22/1000:   2%|▏         | 22/1000 [07:20<5:20:21, 19.65s/it, v_num=x1xm, train_loss_step=834, train_loss_epoch=874]"
     ]
    },
    {
     "name": "stdout",
     "output_type": "stream",
     "text": [
      "\r",
      "Epoch 22/1000:   2%|▏         | 22/1000 [07:20<5:20:21, 19.65s/it, v_num=x1xm, train_loss_step=883, train_loss_epoch=874]"
     ]
    },
    {
     "name": "stdout",
     "output_type": "stream",
     "text": [
      "\r",
      "Epoch 23/1000:   2%|▏         | 22/1000 [07:20<5:20:21, 19.65s/it, v_num=x1xm, train_loss_step=883, train_loss_epoch=874]"
     ]
    },
    {
     "name": "stdout",
     "output_type": "stream",
     "text": [
      "\r",
      "Epoch 23/1000:   2%|▏         | 23/1000 [07:40<5:19:35, 19.63s/it, v_num=x1xm, train_loss_step=883, train_loss_epoch=874]"
     ]
    },
    {
     "name": "stdout",
     "output_type": "stream",
     "text": [
      "\r",
      "Epoch 23/1000:   2%|▏         | 23/1000 [07:40<5:19:35, 19.63s/it, v_num=x1xm, train_loss_step=796, train_loss_epoch=873]"
     ]
    },
    {
     "name": "stdout",
     "output_type": "stream",
     "text": [
      "\r",
      "Epoch 24/1000:   2%|▏         | 23/1000 [07:40<5:19:35, 19.63s/it, v_num=x1xm, train_loss_step=796, train_loss_epoch=873]"
     ]
    },
    {
     "name": "stdout",
     "output_type": "stream",
     "text": [
      "\r",
      "Epoch 24/1000:   2%|▏         | 24/1000 [08:00<5:19:39, 19.65s/it, v_num=x1xm, train_loss_step=796, train_loss_epoch=873]"
     ]
    },
    {
     "name": "stdout",
     "output_type": "stream",
     "text": [
      "\r",
      "Epoch 24/1000:   2%|▏         | 24/1000 [08:00<5:19:39, 19.65s/it, v_num=x1xm, train_loss_step=904, train_loss_epoch=873]"
     ]
    },
    {
     "name": "stdout",
     "output_type": "stream",
     "text": [
      "\r",
      "Epoch 25/1000:   2%|▏         | 24/1000 [08:00<5:19:39, 19.65s/it, v_num=x1xm, train_loss_step=904, train_loss_epoch=873]"
     ]
    },
    {
     "name": "stdout",
     "output_type": "stream",
     "text": [
      "\r",
      "Epoch 25/1000:   2%|▎         | 25/1000 [08:19<5:18:43, 19.61s/it, v_num=x1xm, train_loss_step=904, train_loss_epoch=873]"
     ]
    },
    {
     "name": "stdout",
     "output_type": "stream",
     "text": [
      "\r",
      "Epoch 25/1000:   2%|▎         | 25/1000 [08:19<5:18:43, 19.61s/it, v_num=x1xm, train_loss_step=851, train_loss_epoch=873]"
     ]
    },
    {
     "name": "stdout",
     "output_type": "stream",
     "text": [
      "\r",
      "Epoch 26/1000:   2%|▎         | 25/1000 [08:19<5:18:43, 19.61s/it, v_num=x1xm, train_loss_step=851, train_loss_epoch=873]"
     ]
    },
    {
     "name": "stdout",
     "output_type": "stream",
     "text": [
      "\r",
      "Epoch 26/1000:   3%|▎         | 26/1000 [08:39<5:19:44, 19.70s/it, v_num=x1xm, train_loss_step=851, train_loss_epoch=873]"
     ]
    },
    {
     "name": "stdout",
     "output_type": "stream",
     "text": [
      "\r",
      "Epoch 26/1000:   3%|▎         | 26/1000 [08:39<5:19:44, 19.70s/it, v_num=x1xm, train_loss_step=838, train_loss_epoch=873]"
     ]
    },
    {
     "name": "stdout",
     "output_type": "stream",
     "text": [
      "\r",
      "Epoch 27/1000:   3%|▎         | 26/1000 [08:39<5:19:44, 19.70s/it, v_num=x1xm, train_loss_step=838, train_loss_epoch=873]"
     ]
    },
    {
     "name": "stdout",
     "output_type": "stream",
     "text": [
      "\r",
      "Epoch 27/1000:   3%|▎         | 27/1000 [08:59<5:17:55, 19.60s/it, v_num=x1xm, train_loss_step=838, train_loss_epoch=873]"
     ]
    },
    {
     "name": "stdout",
     "output_type": "stream",
     "text": [
      "\r",
      "Epoch 27/1000:   3%|▎         | 27/1000 [08:59<5:17:55, 19.60s/it, v_num=x1xm, train_loss_step=916, train_loss_epoch=873]"
     ]
    },
    {
     "name": "stdout",
     "output_type": "stream",
     "text": [
      "\r",
      "Epoch 28/1000:   3%|▎         | 27/1000 [08:59<5:17:55, 19.60s/it, v_num=x1xm, train_loss_step=916, train_loss_epoch=873]"
     ]
    },
    {
     "name": "stdout",
     "output_type": "stream",
     "text": [
      "\r",
      "Epoch 28/1000:   3%|▎         | 28/1000 [09:18<5:18:46, 19.68s/it, v_num=x1xm, train_loss_step=916, train_loss_epoch=873]"
     ]
    },
    {
     "name": "stdout",
     "output_type": "stream",
     "text": [
      "\r",
      "Epoch 28/1000:   3%|▎         | 28/1000 [09:18<5:18:46, 19.68s/it, v_num=x1xm, train_loss_step=813, train_loss_epoch=873]"
     ]
    },
    {
     "name": "stdout",
     "output_type": "stream",
     "text": [
      "\r",
      "Epoch 29/1000:   3%|▎         | 28/1000 [09:18<5:18:46, 19.68s/it, v_num=x1xm, train_loss_step=813, train_loss_epoch=873]"
     ]
    },
    {
     "name": "stdout",
     "output_type": "stream",
     "text": [
      "\r",
      "Epoch 29/1000:   3%|▎         | 29/1000 [09:39<5:22:23, 19.92s/it, v_num=x1xm, train_loss_step=813, train_loss_epoch=873]"
     ]
    },
    {
     "name": "stdout",
     "output_type": "stream",
     "text": [
      "\r",
      "Epoch 29/1000:   3%|▎         | 29/1000 [09:39<5:22:23, 19.92s/it, v_num=x1xm, train_loss_step=926, train_loss_epoch=873]"
     ]
    },
    {
     "name": "stdout",
     "output_type": "stream",
     "text": [
      "\r",
      "Epoch 30/1000:   3%|▎         | 29/1000 [09:39<5:22:23, 19.92s/it, v_num=x1xm, train_loss_step=926, train_loss_epoch=873]"
     ]
    },
    {
     "name": "stdout",
     "output_type": "stream",
     "text": [
      "\r",
      "Epoch 30/1000:   3%|▎         | 30/1000 [09:59<5:22:50, 19.97s/it, v_num=x1xm, train_loss_step=926, train_loss_epoch=873]"
     ]
    },
    {
     "name": "stdout",
     "output_type": "stream",
     "text": [
      "\r",
      "Epoch 30/1000:   3%|▎         | 30/1000 [09:59<5:22:50, 19.97s/it, v_num=x1xm, train_loss_step=955, train_loss_epoch=873]"
     ]
    },
    {
     "name": "stdout",
     "output_type": "stream",
     "text": [
      "\r",
      "Epoch 31/1000:   3%|▎         | 30/1000 [09:59<5:22:50, 19.97s/it, v_num=x1xm, train_loss_step=955, train_loss_epoch=873]"
     ]
    },
    {
     "name": "stdout",
     "output_type": "stream",
     "text": [
      "\r",
      "Epoch 31/1000:   3%|▎         | 31/1000 [10:19<5:21:01, 19.88s/it, v_num=x1xm, train_loss_step=955, train_loss_epoch=873]"
     ]
    },
    {
     "name": "stdout",
     "output_type": "stream",
     "text": [
      "\r",
      "Epoch 31/1000:   3%|▎         | 31/1000 [10:19<5:21:01, 19.88s/it, v_num=x1xm, train_loss_step=883, train_loss_epoch=873]"
     ]
    },
    {
     "name": "stdout",
     "output_type": "stream",
     "text": [
      "\r",
      "Epoch 32/1000:   3%|▎         | 31/1000 [10:19<5:21:01, 19.88s/it, v_num=x1xm, train_loss_step=883, train_loss_epoch=873]"
     ]
    },
    {
     "name": "stdout",
     "output_type": "stream",
     "text": [
      "\r",
      "Epoch 32/1000:   3%|▎         | 32/1000 [10:38<5:20:13, 19.85s/it, v_num=x1xm, train_loss_step=883, train_loss_epoch=873]"
     ]
    },
    {
     "name": "stdout",
     "output_type": "stream",
     "text": [
      "\r",
      "Epoch 32/1000:   3%|▎         | 32/1000 [10:38<5:20:13, 19.85s/it, v_num=x1xm, train_loss_step=840, train_loss_epoch=873]"
     ]
    },
    {
     "name": "stdout",
     "output_type": "stream",
     "text": [
      "\r",
      "Epoch 33/1000:   3%|▎         | 32/1000 [10:38<5:20:13, 19.85s/it, v_num=x1xm, train_loss_step=840, train_loss_epoch=873]"
     ]
    },
    {
     "name": "stdout",
     "output_type": "stream",
     "text": [
      "\r",
      "Epoch 33/1000:   3%|▎         | 33/1000 [10:59<5:23:45, 20.09s/it, v_num=x1xm, train_loss_step=840, train_loss_epoch=873]"
     ]
    },
    {
     "name": "stdout",
     "output_type": "stream",
     "text": [
      "\r",
      "Epoch 33/1000:   3%|▎         | 33/1000 [10:59<5:23:45, 20.09s/it, v_num=x1xm, train_loss_step=837, train_loss_epoch=873]"
     ]
    },
    {
     "name": "stdout",
     "output_type": "stream",
     "text": [
      "\r",
      "Epoch 34/1000:   3%|▎         | 33/1000 [10:59<5:23:45, 20.09s/it, v_num=x1xm, train_loss_step=837, train_loss_epoch=873]"
     ]
    },
    {
     "name": "stdout",
     "output_type": "stream",
     "text": [
      "\r",
      "Epoch 34/1000:   3%|▎         | 34/1000 [11:19<5:23:43, 20.11s/it, v_num=x1xm, train_loss_step=837, train_loss_epoch=873]"
     ]
    },
    {
     "name": "stdout",
     "output_type": "stream",
     "text": [
      "\r",
      "Epoch 34/1000:   3%|▎         | 34/1000 [11:19<5:23:43, 20.11s/it, v_num=x1xm, train_loss_step=873, train_loss_epoch=873]"
     ]
    },
    {
     "name": "stdout",
     "output_type": "stream",
     "text": [
      "\r",
      "Epoch 35/1000:   3%|▎         | 34/1000 [11:19<5:23:43, 20.11s/it, v_num=x1xm, train_loss_step=873, train_loss_epoch=873]"
     ]
    },
    {
     "name": "stdout",
     "output_type": "stream",
     "text": [
      "\r",
      "Epoch 35/1000:   4%|▎         | 35/1000 [11:39<5:22:18, 20.04s/it, v_num=x1xm, train_loss_step=873, train_loss_epoch=873]"
     ]
    },
    {
     "name": "stdout",
     "output_type": "stream",
     "text": [
      "\r",
      "Epoch 35/1000:   4%|▎         | 35/1000 [11:39<5:22:18, 20.04s/it, v_num=x1xm, train_loss_step=824, train_loss_epoch=873]"
     ]
    },
    {
     "name": "stdout",
     "output_type": "stream",
     "text": [
      "\r",
      "Epoch 36/1000:   4%|▎         | 35/1000 [11:39<5:22:18, 20.04s/it, v_num=x1xm, train_loss_step=824, train_loss_epoch=873]"
     ]
    },
    {
     "name": "stdout",
     "output_type": "stream",
     "text": [
      "\r",
      "Epoch 36/1000:   4%|▎         | 36/1000 [11:59<5:19:33, 19.89s/it, v_num=x1xm, train_loss_step=824, train_loss_epoch=873]"
     ]
    },
    {
     "name": "stdout",
     "output_type": "stream",
     "text": [
      "\r",
      "Epoch 36/1000:   4%|▎         | 36/1000 [11:59<5:19:33, 19.89s/it, v_num=x1xm, train_loss_step=934, train_loss_epoch=873]"
     ]
    },
    {
     "name": "stdout",
     "output_type": "stream",
     "text": [
      "\r",
      "Epoch 37/1000:   4%|▎         | 36/1000 [11:59<5:19:33, 19.89s/it, v_num=x1xm, train_loss_step=934, train_loss_epoch=873]"
     ]
    },
    {
     "name": "stdout",
     "output_type": "stream",
     "text": [
      "\r",
      "Epoch 37/1000:   4%|▎         | 37/1000 [12:18<5:17:07, 19.76s/it, v_num=x1xm, train_loss_step=934, train_loss_epoch=873]"
     ]
    },
    {
     "name": "stdout",
     "output_type": "stream",
     "text": [
      "\r",
      "Epoch 37/1000:   4%|▎         | 37/1000 [12:18<5:17:07, 19.76s/it, v_num=x1xm, train_loss_step=756, train_loss_epoch=873]"
     ]
    },
    {
     "name": "stdout",
     "output_type": "stream",
     "text": [
      "\r",
      "Epoch 38/1000:   4%|▎         | 37/1000 [12:18<5:17:07, 19.76s/it, v_num=x1xm, train_loss_step=756, train_loss_epoch=873]"
     ]
    },
    {
     "name": "stdout",
     "output_type": "stream",
     "text": [
      "\r",
      "Epoch 38/1000:   4%|▍         | 38/1000 [12:37<5:14:47, 19.63s/it, v_num=x1xm, train_loss_step=756, train_loss_epoch=873]"
     ]
    },
    {
     "name": "stdout",
     "output_type": "stream",
     "text": [
      "\r",
      "Epoch 38/1000:   4%|▍         | 38/1000 [12:37<5:14:47, 19.63s/it, v_num=x1xm, train_loss_step=964, train_loss_epoch=873]"
     ]
    },
    {
     "name": "stdout",
     "output_type": "stream",
     "text": [
      "\r",
      "Epoch 39/1000:   4%|▍         | 38/1000 [12:37<5:14:47, 19.63s/it, v_num=x1xm, train_loss_step=964, train_loss_epoch=873]"
     ]
    },
    {
     "name": "stdout",
     "output_type": "stream",
     "text": [
      "\r",
      "Epoch 39/1000:   4%|▍         | 39/1000 [12:58<5:18:58, 19.91s/it, v_num=x1xm, train_loss_step=964, train_loss_epoch=873]"
     ]
    },
    {
     "name": "stdout",
     "output_type": "stream",
     "text": [
      "\r",
      "Epoch 39/1000:   4%|▍         | 39/1000 [12:58<5:18:58, 19.91s/it, v_num=x1xm, train_loss_step=865, train_loss_epoch=873]"
     ]
    },
    {
     "name": "stdout",
     "output_type": "stream",
     "text": [
      "\r",
      "Epoch 40/1000:   4%|▍         | 39/1000 [12:58<5:18:58, 19.91s/it, v_num=x1xm, train_loss_step=865, train_loss_epoch=873]"
     ]
    },
    {
     "name": "stdout",
     "output_type": "stream",
     "text": [
      "\r",
      "Epoch 40/1000:   4%|▍         | 40/1000 [13:19<5:23:33, 20.22s/it, v_num=x1xm, train_loss_step=865, train_loss_epoch=873]"
     ]
    },
    {
     "name": "stdout",
     "output_type": "stream",
     "text": [
      "\r",
      "Epoch 40/1000:   4%|▍         | 40/1000 [13:19<5:23:33, 20.22s/it, v_num=x1xm, train_loss_step=900, train_loss_epoch=873]"
     ]
    },
    {
     "name": "stdout",
     "output_type": "stream",
     "text": [
      "\r",
      "Epoch 41/1000:   4%|▍         | 40/1000 [13:19<5:23:33, 20.22s/it, v_num=x1xm, train_loss_step=900, train_loss_epoch=873]"
     ]
    },
    {
     "name": "stdout",
     "output_type": "stream",
     "text": [
      "\r",
      "Epoch 41/1000:   4%|▍         | 41/1000 [13:40<5:28:22, 20.54s/it, v_num=x1xm, train_loss_step=900, train_loss_epoch=873]"
     ]
    },
    {
     "name": "stdout",
     "output_type": "stream",
     "text": [
      "\r",
      "Epoch 41/1000:   4%|▍         | 41/1000 [13:40<5:28:22, 20.54s/it, v_num=x1xm, train_loss_step=868, train_loss_epoch=873]"
     ]
    },
    {
     "name": "stdout",
     "output_type": "stream",
     "text": [
      "\r",
      "Epoch 42/1000:   4%|▍         | 41/1000 [13:40<5:28:22, 20.54s/it, v_num=x1xm, train_loss_step=868, train_loss_epoch=873]"
     ]
    },
    {
     "name": "stdout",
     "output_type": "stream",
     "text": [
      "\r",
      "Epoch 42/1000:   4%|▍         | 42/1000 [14:00<5:26:28, 20.45s/it, v_num=x1xm, train_loss_step=868, train_loss_epoch=873]"
     ]
    },
    {
     "name": "stdout",
     "output_type": "stream",
     "text": [
      "\r",
      "Epoch 42/1000:   4%|▍         | 42/1000 [14:00<5:26:28, 20.45s/it, v_num=x1xm, train_loss_step=871, train_loss_epoch=873]"
     ]
    },
    {
     "name": "stdout",
     "output_type": "stream",
     "text": [
      "\r",
      "Epoch 42/1000:   4%|▍         | 42/1000 [14:00<5:19:42, 20.02s/it, v_num=x1xm, train_loss_step=871, train_loss_epoch=873]"
     ]
    },
    {
     "name": "stdout",
     "output_type": "stream",
     "text": [
      "\n",
      "Monitored metric reconstruction_loss_validation did not improve in the last 10 records. Best score: 872.147. Signaling Trainer to stop.\n"
     ]
    }
   ],
   "source": [
    "model.train(logger=logger, plan_kwargs = plan_kwargs, **trainer_kwargs)"
   ]
  },
  {
   "cell_type": "code",
   "execution_count": 15,
   "id": "c282f6eb-0ad1-40a5-81e6-1acda1545dad",
   "metadata": {
    "execution": {
     "iopub.execute_input": "2024-04-30T08:54:25.656971Z",
     "iopub.status.busy": "2024-04-30T08:54:25.656373Z",
     "iopub.status.idle": "2024-04-30T08:54:32.305158Z",
     "shell.execute_reply": "2024-04-30T08:54:32.304443Z"
    },
    "papermill": {
     "duration": 6.66986,
     "end_time": "2024-04-30T08:54:32.307699",
     "exception": false,
     "start_time": "2024-04-30T08:54:25.637839",
     "status": "completed"
    },
    "tags": []
   },
   "outputs": [
    {
     "name": "stderr",
     "output_type": "stream",
     "text": [
      "\u001b[34m\u001b[1mwandb\u001b[0m: - 0.003 MB of 0.003 MB uploaded\r"
     ]
    },
    {
     "name": "stderr",
     "output_type": "stream",
     "text": [
      "\u001b[34m\u001b[1mwandb\u001b[0m: \\ 0.003 MB of 0.009 MB uploaded\r"
     ]
    },
    {
     "name": "stderr",
     "output_type": "stream",
     "text": [
      "\u001b[34m\u001b[1mwandb\u001b[0m: | 0.009 MB of 0.009 MB uploaded\r"
     ]
    },
    {
     "name": "stderr",
     "output_type": "stream",
     "text": [
      "\u001b[34m\u001b[1mwandb\u001b[0m: / 0.009 MB of 0.009 MB uploaded\r"
     ]
    },
    {
     "name": "stderr",
     "output_type": "stream",
     "text": [
      "\u001b[34m\u001b[1mwandb\u001b[0m: - 0.009 MB of 0.009 MB uploaded\r"
     ]
    },
    {
     "name": "stderr",
     "output_type": "stream",
     "text": [
      "\u001b[34m\u001b[1mwandb\u001b[0m:                                                                                \n"
     ]
    },
    {
     "name": "stderr",
     "output_type": "stream",
     "text": [
      "\u001b[34m\u001b[1mwandb\u001b[0m: \n",
      "\u001b[34m\u001b[1mwandb\u001b[0m: Run history:\n",
      "\u001b[34m\u001b[1mwandb\u001b[0m:                     elbo_train █▇▆▅▄▃▃▃▃▃▂▂▂▂▂▂▂▂▂▂▂▂▂▂▁▁▁▁▁▁▁▁▁▁▁▁▁▁▁▁\n",
      "\u001b[34m\u001b[1mwandb\u001b[0m:                elbo_validation █▆▅▄▃▃▃▃▂▂▂▂▂▂▂▂▂▂▂▂▂▂▁▁▁▁▁▁▁▁▁▁▁▁▁▁▁▁▁▁\n",
      "\u001b[34m\u001b[1mwandb\u001b[0m:                          epoch ▁▁▁▂▂▂▂▂▂▃▃▃▃▃▄▄▄▄▄▄▅▅▅▅▅▅▆▆▆▆▆▇▇▇▇▇▇███\n",
      "\u001b[34m\u001b[1mwandb\u001b[0m:                kl_global_train ▁▁▁▁▁▁▁▁▁▁▁▁▁▁▁▁▁▁▁▁▁▁▁▁▁▁▁▁▁▁▁▁▁▁▁▁▁▁▁▁\n",
      "\u001b[34m\u001b[1mwandb\u001b[0m:           kl_global_validation ▁▁▁▁▁▁▁▁▁▁▁▁▁▁▁▁▁▁▁▁▁▁▁▁▁▁▁▁▁▁▁▁▁▁▁▁▁▁▁▁\n",
      "\u001b[34m\u001b[1mwandb\u001b[0m:                 kl_local_train ▅█▇▆▅▄▄▄▄▃▃▃▃▃▃▃▂▂▂▂▂▂▂▂▂▂▂▂▂▂▁▁▁▁▁▁▁▁▁▁\n",
      "\u001b[34m\u001b[1mwandb\u001b[0m:            kl_local_validation █▇▆▅▄▄▄▃▃▃▃▃▃▃▃▂▂▂▂▂▂▂▂▂▂▂▂▂▁▁▁▁▁▁▁▁▁▁▁▁\n",
      "\u001b[34m\u001b[1mwandb\u001b[0m:                      kl_weight ▁▁▁▂▂▂▂▂▂▃▃▃▃▃▄▄▄▄▄▄▅▅▅▅▅▅▆▆▆▆▆▇▇▇▇▇▇███\n",
      "\u001b[34m\u001b[1mwandb\u001b[0m:      reconstruction_loss_train █▅▄▃▂▂▂▂▂▂▂▂▁▁▁▁▁▁▁▁▁▁▁▁▁▁▁▁▁▁▁▁▁▁▁▁▁▁▁▁\n",
      "\u001b[34m\u001b[1mwandb\u001b[0m: reconstruction_loss_validation █▅▄▃▂▂▂▂▂▁▁▁▁▁▁▁▁▁▁▁▁▁▁▁▁▁▁▁▁▁▁▁▁▁▁▁▁▁▁▁\n",
      "\u001b[34m\u001b[1mwandb\u001b[0m:               train_loss_epoch █▅▃▃▂▂▂▂▁▁▁▁▁▁▁▁▁▁▁▁▁▁▁▁▁▁▁▁▁▁▁▁▁▁▁▁▁▁▁▁\n",
      "\u001b[34m\u001b[1mwandb\u001b[0m:                train_loss_step ▅█▅▄▅▂▄▃▃▃▃▆▄▂▂▂▃▃▅▅▂▅▃▄▃▁▃▃▃▃▃▃▃▃▃▅▃▃▅▃\n",
      "\u001b[34m\u001b[1mwandb\u001b[0m:            trainer/global_step ▁▁▁▂▂▂▂▂▂▃▃▃▃▃▃▄▄▄▄▄▅▅▅▅▅▅▆▆▆▆▆▇▇▇▇▇▇███\n",
      "\u001b[34m\u001b[1mwandb\u001b[0m:                validation_loss █▅▄▃▂▂▁▁▁▁▁▁▁▁▁▁▁▁▁▁▁▁▁▁▁▁▁▁▁▁▁▁▁▁▁▁▁▁▁▁\n",
      "\u001b[34m\u001b[1mwandb\u001b[0m: \n",
      "\u001b[34m\u001b[1mwandb\u001b[0m: Run summary:\n",
      "\u001b[34m\u001b[1mwandb\u001b[0m:                     elbo_train 912.45386\n",
      "\u001b[34m\u001b[1mwandb\u001b[0m:                elbo_validation 915.50378\n",
      "\u001b[34m\u001b[1mwandb\u001b[0m:                          epoch 41\n",
      "\u001b[34m\u001b[1mwandb\u001b[0m:                kl_global_train 0.0\n",
      "\u001b[34m\u001b[1mwandb\u001b[0m:           kl_global_validation 0.0\n",
      "\u001b[34m\u001b[1mwandb\u001b[0m:                 kl_local_train 44.2822\n",
      "\u001b[34m\u001b[1mwandb\u001b[0m:            kl_local_validation 43.04293\n",
      "\u001b[34m\u001b[1mwandb\u001b[0m:                      kl_weight 0.1025\n",
      "\u001b[34m\u001b[1mwandb\u001b[0m:      reconstruction_loss_train 868.17169\n",
      "\u001b[34m\u001b[1mwandb\u001b[0m: reconstruction_loss_validation 872.46088\n",
      "\u001b[34m\u001b[1mwandb\u001b[0m:               train_loss_epoch 872.71008\n",
      "\u001b[34m\u001b[1mwandb\u001b[0m:                train_loss_step 864.1759\n",
      "\u001b[34m\u001b[1mwandb\u001b[0m:            trainer/global_step 61445\n",
      "\u001b[34m\u001b[1mwandb\u001b[0m:                validation_loss 876.87305\n",
      "\u001b[34m\u001b[1mwandb\u001b[0m: \n"
     ]
    },
    {
     "name": "stderr",
     "output_type": "stream",
     "text": [
      "\u001b[34m\u001b[1mwandb\u001b[0m: 🚀 View run \u001b[33mStep2_Doublets_Step1\u001b[0m at: \u001b[34m\u001b[4mhttps://wandb.ai/inflammation/inflammation_atlas_R1/runs/m65ex1xm\u001b[0m\n",
      "\u001b[34m\u001b[1mwandb\u001b[0m: Synced 5 W&B file(s), 0 media file(s), 0 artifact file(s) and 0 other file(s)\n"
     ]
    },
    {
     "name": "stderr",
     "output_type": "stream",
     "text": [
      "\u001b[34m\u001b[1mwandb\u001b[0m: Find logs at: \u001b[35m\u001b[1m./wandb/run-20240430_084023-m65ex1xm/logs\u001b[0m\n"
     ]
    }
   ],
   "source": [
    "wandb.finish()"
   ]
  },
  {
   "cell_type": "markdown",
   "id": "d9fb1179-83c7-4ac6-b4aa-92dc7a349801",
   "metadata": {
    "papermill": {
     "duration": 0.01845,
     "end_time": "2024-04-30T08:54:32.344971",
     "exception": false,
     "start_time": "2024-04-30T08:54:32.326521",
     "status": "completed"
    },
    "tags": []
   },
   "source": [
    "### Extracting embedding space"
   ]
  },
  {
   "cell_type": "code",
   "execution_count": 16,
   "id": "caaa5832-0123-4c59-8ec6-f46a75f7a14e",
   "metadata": {
    "execution": {
     "iopub.execute_input": "2024-04-30T08:54:32.422004Z",
     "iopub.status.busy": "2024-04-30T08:54:32.421342Z",
     "iopub.status.idle": "2024-04-30T08:54:40.136207Z",
     "shell.execute_reply": "2024-04-30T08:54:40.135379Z"
    },
    "papermill": {
     "duration": 7.774621,
     "end_time": "2024-04-30T08:54:40.138445",
     "exception": false,
     "start_time": "2024-04-30T08:54:32.363824",
     "status": "completed"
    },
    "tags": []
   },
   "outputs": [],
   "source": [
    "adata.obsm['X_scVI'] = model.get_latent_representation()"
   ]
  },
  {
   "cell_type": "markdown",
   "id": "2f03e70b-839c-40a6-9fbb-d76bbd787419",
   "metadata": {
    "papermill": {
     "duration": 0.012538,
     "end_time": "2024-04-30T08:54:40.163943",
     "exception": false,
     "start_time": "2024-04-30T08:54:40.151405",
     "status": "completed"
    },
    "tags": []
   },
   "source": [
    "## Save the results"
   ]
  },
  {
   "cell_type": "code",
   "execution_count": 17,
   "id": "7b04049b-47fd-4b62-a1c0-c43dcc086d34",
   "metadata": {
    "execution": {
     "iopub.execute_input": "2024-04-30T08:54:40.190875Z",
     "iopub.status.busy": "2024-04-30T08:54:40.190225Z",
     "iopub.status.idle": "2024-04-30T08:55:11.503138Z",
     "shell.execute_reply": "2024-04-30T08:55:11.502282Z"
    },
    "papermill": {
     "duration": 31.328997,
     "end_time": "2024-04-30T08:55:11.505371",
     "exception": false,
     "start_time": "2024-04-30T08:54:40.176374",
     "status": "completed"
    },
    "tags": []
   },
   "outputs": [],
   "source": [
    "if overwriteData:\n",
    "    adata.write(here(f\"{workDir}/{cellGroup}/results/02_{annotationLevel}_{cellGroup}_HVGsubset_scVI.h5ad\"), compression=\"gzip\")\n",
    "    model.save(here(f\"{workDir}/{cellGroup}/results/02_{annotationLevel}_{cellGroup}_HVGsubset_scVI_MODEL/\"),\n",
    "               overwrite = True, \n",
    "               save_anndata = False )   "
   ]
  },
  {
   "cell_type": "code",
   "execution_count": 18,
   "id": "629ba2bd-f6be-44ef-8fca-bbdf891bf25f",
   "metadata": {
    "execution": {
     "iopub.execute_input": "2024-04-30T08:55:11.531147Z",
     "iopub.status.busy": "2024-04-30T08:55:11.530331Z",
     "iopub.status.idle": "2024-04-30T08:55:11.534321Z",
     "shell.execute_reply": "2024-04-30T08:55:11.533576Z"
    },
    "papermill": {
     "duration": 0.018983,
     "end_time": "2024-04-30T08:55:11.536065",
     "exception": false,
     "start_time": "2024-04-30T08:55:11.517082",
     "status": "completed"
    },
    "tags": []
   },
   "outputs": [],
   "source": [
    "# To load the model do (after loading corresponding adata):\n",
    "# model = scvi.model.SCVI.load(here('{}/results/01_{}_HVGsubset_scVI_MODEL/'.format(workDir, cellGroup)), \n",
    "#                              adata, \n",
    "#                              use_gpu=True)"
   ]
  },
  {
   "cell_type": "raw",
   "id": "975e84d0-f56b-498d-b3a8-c9219cf22e53",
   "metadata": {
    "papermill": {
     "duration": 0.011385,
     "end_time": "2024-04-30T08:55:11.558698",
     "exception": false,
     "start_time": "2024-04-30T08:55:11.547313",
     "status": "completed"
    },
    "tags": []
   },
   "source": [
    "session_info.show()"
   ]
  }
 ],
 "metadata": {
  "kernelspec": {
   "display_name": "Python 3 (ipykernel)",
   "language": "python",
   "name": "python3"
  },
  "language_info": {
   "codemirror_mode": {
    "name": "ipython",
    "version": 3
   },
   "file_extension": ".py",
   "mimetype": "text/x-python",
   "name": "python",
   "nbconvert_exporter": "python",
   "pygments_lexer": "ipython3",
   "version": "3.9.18"
  },
  "papermill": {
   "default_parameters": {},
   "duration": 910.617743,
   "end_time": "2024-04-30T08:55:15.052776",
   "environment_variables": {},
   "exception": null,
   "input_path": "./Doublets_Step1/02_integration_scVI.ipynb",
   "output_path": "./Doublets_Step1/02_integration_scVI_executed.ipynb",
   "parameters": {},
   "start_time": "2024-04-30T08:40:04.435033",
   "version": "2.5.0"
  }
 },
 "nbformat": 4,
 "nbformat_minor": 5
}