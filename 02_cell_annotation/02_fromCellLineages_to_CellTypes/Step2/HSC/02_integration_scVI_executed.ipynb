{
 "cells": [
  {
   "cell_type": "code",
   "execution_count": 1,
   "id": "2dd1425a-0c07-465e-b522-9e3cc5cb93a7",
   "metadata": {
    "execution": {
     "iopub.execute_input": "2024-04-30T08:55:16.859883Z",
     "iopub.status.busy": "2024-04-30T08:55:16.859060Z",
     "iopub.status.idle": "2024-04-30T08:55:22.420365Z",
     "shell.execute_reply": "2024-04-30T08:55:22.419642Z"
    },
    "papermill": {
     "duration": 5.569462,
     "end_time": "2024-04-30T08:55:22.422252",
     "exception": false,
     "start_time": "2024-04-30T08:55:16.852790",
     "status": "completed"
    },
    "tags": []
   },
   "outputs": [
    {
     "data": {
      "text/plain": [
       "True"
      ]
     },
     "execution_count": 1,
     "metadata": {},
     "output_type": "execute_result"
    }
   ],
   "source": [
    "import os\n",
    "import sys\n",
    "\n",
    "import numpy as np\n",
    "import matplotlib.pyplot as plt\n",
    "\n",
    "import scanpy as sc\n",
    "import scvi\n",
    "import torch\n",
    "\n",
    "from pytorch_lightning.loggers import WandbLogger\n",
    "import wandb\n",
    "from dotenv import load_dotenv\n",
    "\n",
    "import session_info\n",
    "import warnings\n",
    "from pyprojroot.here import here\n",
    "\n",
    "warnings.filterwarnings(\"ignore\")\n",
    "sys.path.insert(1, str(here('bin')))\n",
    "\n",
    "torch.set_float32_matmul_precision('high')\n",
    "\n",
    "#plt.style.use(['science','nature','no-latex'])\n",
    "dpi_fig_save = 300\n",
    "sc.set_figure_params(dpi=100, dpi_save=dpi_fig_save, vector_friendly=True)\n",
    "\n",
    "load_dotenv(here('.env'))"
   ]
  },
  {
   "cell_type": "code",
   "execution_count": 2,
   "id": "09c897fc-744b-43de-a681-718fb5d327fa",
   "metadata": {
    "execution": {
     "iopub.execute_input": "2024-04-30T08:55:22.433343Z",
     "iopub.status.busy": "2024-04-30T08:55:22.432730Z",
     "iopub.status.idle": "2024-04-30T08:55:22.436697Z",
     "shell.execute_reply": "2024-04-30T08:55:22.436044Z"
    },
    "papermill": {
     "duration": 0.010376,
     "end_time": "2024-04-30T08:55:22.438332",
     "exception": false,
     "start_time": "2024-04-30T08:55:22.427956",
     "status": "completed"
    },
    "tags": []
   },
   "outputs": [],
   "source": [
    "class CustomWandbLogger(WandbLogger):\n",
    "    @property\n",
    "    def save_dir(self):\n",
    "        return self.experiment.dir"
   ]
  },
  {
   "cell_type": "code",
   "execution_count": 3,
   "id": "8ee6662f-5d45-4137-80a5-bb0b9ae8d71f",
   "metadata": {
    "execution": {
     "iopub.execute_input": "2024-04-30T08:55:22.447038Z",
     "iopub.status.busy": "2024-04-30T08:55:22.446384Z",
     "iopub.status.idle": "2024-04-30T08:55:22.452497Z",
     "shell.execute_reply": "2024-04-30T08:55:22.451915Z"
    },
    "papermill": {
     "duration": 0.012448,
     "end_time": "2024-04-30T08:55:22.454100",
     "exception": false,
     "start_time": "2024-04-30T08:55:22.441652",
     "status": "completed"
    },
    "tags": []
   },
   "outputs": [
    {
     "name": "stderr",
     "output_type": "stream",
     "text": [
      "Seed set to 0\n"
     ]
    },
    {
     "name": "stdout",
     "output_type": "stream",
     "text": [
      "Last run with scvi-tools version: 1.1.2\n"
     ]
    }
   ],
   "source": [
    "scvi.settings.seed = 0\n",
    "print(\"Last run with scvi-tools version:\", scvi.__version__)"
   ]
  },
  {
   "cell_type": "markdown",
   "id": "a81037ff-5998-482a-ba86-520f757311a9",
   "metadata": {
    "papermill": {
     "duration": 0.003599,
     "end_time": "2024-04-30T08:55:22.461316",
     "exception": false,
     "start_time": "2024-04-30T08:55:22.457717",
     "status": "completed"
    },
    "tags": []
   },
   "source": [
    "**Setting parameters** "
   ]
  },
  {
   "cell_type": "code",
   "execution_count": 4,
   "id": "56c27966-8f10-4c93-8b1a-1fa75f005e41",
   "metadata": {
    "execution": {
     "iopub.execute_input": "2024-04-30T08:55:22.470275Z",
     "iopub.status.busy": "2024-04-30T08:55:22.469748Z",
     "iopub.status.idle": "2024-04-30T08:55:22.473161Z",
     "shell.execute_reply": "2024-04-30T08:55:22.472534Z"
    },
    "papermill": {
     "duration": 0.009826,
     "end_time": "2024-04-30T08:55:22.474864",
     "exception": false,
     "start_time": "2024-04-30T08:55:22.465038",
     "status": "completed"
    },
    "tags": []
   },
   "outputs": [],
   "source": [
    "overwriteFigures = True\n",
    "overwriteData = True"
   ]
  },
  {
   "cell_type": "code",
   "execution_count": 5,
   "id": "c86fccd3-a4fe-415b-8f4e-e2ceb3ec128a",
   "metadata": {
    "execution": {
     "iopub.execute_input": "2024-04-30T08:55:22.484360Z",
     "iopub.status.busy": "2024-04-30T08:55:22.483604Z",
     "iopub.status.idle": "2024-04-30T08:55:22.487226Z",
     "shell.execute_reply": "2024-04-30T08:55:22.486590Z"
    },
    "papermill": {
     "duration": 0.010273,
     "end_time": "2024-04-30T08:55:22.488952",
     "exception": false,
     "start_time": "2024-04-30T08:55:22.478679",
     "status": "completed"
    },
    "tags": []
   },
   "outputs": [],
   "source": [
    "cellGroup = 'HSC'\n",
    "workDir = os.getcwd()"
   ]
  },
  {
   "cell_type": "code",
   "execution_count": 6,
   "id": "2dee4d55-d168-467b-b867-a61fed9d6af1",
   "metadata": {
    "execution": {
     "iopub.execute_input": "2024-04-30T08:55:22.497613Z",
     "iopub.status.busy": "2024-04-30T08:55:22.496975Z",
     "iopub.status.idle": "2024-04-30T08:55:22.500741Z",
     "shell.execute_reply": "2024-04-30T08:55:22.500088Z"
    },
    "papermill": {
     "duration": 0.010278,
     "end_time": "2024-04-30T08:55:22.502718",
     "exception": false,
     "start_time": "2024-04-30T08:55:22.492440",
     "status": "completed"
    },
    "tags": []
   },
   "outputs": [],
   "source": [
    "annotationLevel = os.path.basename(os.path.normpath(workDir))"
   ]
  },
  {
   "cell_type": "code",
   "execution_count": 7,
   "id": "11e53cd5-b746-4152-89cb-c2f0c15d90b3",
   "metadata": {
    "execution": {
     "iopub.execute_input": "2024-04-30T08:55:22.511980Z",
     "iopub.status.busy": "2024-04-30T08:55:22.511267Z",
     "iopub.status.idle": "2024-04-30T08:55:22.515887Z",
     "shell.execute_reply": "2024-04-30T08:55:22.515213Z"
    },
    "papermill": {
     "duration": 0.011185,
     "end_time": "2024-04-30T08:55:22.517590",
     "exception": false,
     "start_time": "2024-04-30T08:55:22.506405",
     "status": "completed"
    },
    "tags": []
   },
   "outputs": [
    {
     "data": {
      "text/plain": [
       "'/home/jupyter/Inflammation-PBMCs-Atlas/02_cell_annotation/02_fromCellLineages_to_CellTypes/Step2'"
      ]
     },
     "execution_count": 7,
     "metadata": {},
     "output_type": "execute_result"
    }
   ],
   "source": [
    "workDir"
   ]
  },
  {
   "cell_type": "markdown",
   "id": "171d2f06-9a44-4fcb-b437-35dc546674b6",
   "metadata": {
    "papermill": {
     "duration": 0.003842,
     "end_time": "2024-04-30T08:55:22.525360",
     "exception": false,
     "start_time": "2024-04-30T08:55:22.521518",
     "status": "completed"
    },
    "tags": []
   },
   "source": [
    "**Load data**"
   ]
  },
  {
   "cell_type": "code",
   "execution_count": 8,
   "id": "429f34fe-dde6-4cc9-9f75-7de8f85c5ffe",
   "metadata": {
    "execution": {
     "iopub.execute_input": "2024-04-30T08:55:22.535108Z",
     "iopub.status.busy": "2024-04-30T08:55:22.534495Z",
     "iopub.status.idle": "2024-04-30T08:55:22.926378Z",
     "shell.execute_reply": "2024-04-30T08:55:22.925636Z"
    },
    "papermill": {
     "duration": 0.399042,
     "end_time": "2024-04-30T08:55:22.928341",
     "exception": false,
     "start_time": "2024-04-30T08:55:22.529299",
     "status": "completed"
    },
    "tags": []
   },
   "outputs": [
    {
     "data": {
      "text/plain": [
       "AnnData object with n_obs × n_vars = 7292 × 2065\n",
       "    obs: 'studyID', 'libraryID', 'sampleID', 'chemistry', 'technology', 'patientID', 'disease', 'timepoint_replicate', 'treatmentStatus', 'therapyResponse', 'sex', 'age', 'BMI', 'binned_age', 'diseaseStatus', 'smokingStatus', 'ethnicity', 'institute', 'diseaseGroup', 'n_genes_by_counts', 'log1p_n_genes_by_counts', 'total_counts', 'log1p_total_counts', 'pct_counts_in_top_20_genes', 'total_counts_mt', 'log1p_total_counts_mt', 'pct_counts_mt', 'total_counts_ribo', 'log1p_total_counts_ribo', 'pct_counts_ribo', 'total_counts_hb', 'log1p_total_counts_hb', 'pct_counts_hb', 'total_counts_plt', 'log1p_total_counts_plt', 'pct_counts_plt', 'doublet_score', 'predicted_doublet', 'S_score', 'G2M_score', 'phase'\n",
       "    var: 'hgnc_id', 'symbol', 'locus_group', 'HUGO_status', 'mt', 'ribo', 'hb', 'plt', 'n_cells_by_counts', 'mean_counts', 'log1p_mean_counts', 'pct_dropout_by_counts', 'total_counts', 'log1p_total_counts', 'highly_variable'\n",
       "    uns: 'chemistry_colors', 'log1p'\n",
       "    layers: 'counts', 'log1p_10e4_counts'"
      ]
     },
     "execution_count": 8,
     "metadata": {},
     "output_type": "execute_result"
    }
   ],
   "source": [
    "adata = sc.read_h5ad(here(f\"{workDir}/{cellGroup}/results/01_{cellGroup}_normalized_HVGsubset.h5ad\"))\n",
    "adata"
   ]
  },
  {
   "cell_type": "markdown",
   "id": "8ac79f3b-d5af-41fa-8904-1e9ac1cbe2fb",
   "metadata": {
    "papermill": {
     "duration": 0.00404,
     "end_time": "2024-04-30T08:55:22.936589",
     "exception": false,
     "start_time": "2024-04-30T08:55:22.932549",
     "status": "completed"
    },
    "tags": []
   },
   "source": [
    "## scVI integration"
   ]
  },
  {
   "cell_type": "markdown",
   "id": "9544847d-d17f-4811-b14b-760446d54d32",
   "metadata": {
    "execution": {
     "iopub.execute_input": "2024-03-25T16:49:04.004504Z",
     "iopub.status.busy": "2024-03-25T16:49:04.004143Z",
     "iopub.status.idle": "2024-03-25T16:49:04.010148Z",
     "shell.execute_reply": "2024-03-25T16:49:04.009146Z",
     "shell.execute_reply.started": "2024-03-25T16:49:04.004477Z"
    },
    "papermill": {
     "duration": 0.003985,
     "end_time": "2024-04-30T08:55:22.944682",
     "exception": false,
     "start_time": "2024-04-30T08:55:22.940697",
     "status": "completed"
    },
    "tags": []
   },
   "source": [
    "**scVI parameters**"
   ]
  },
  {
   "cell_type": "code",
   "execution_count": 9,
   "id": "208966eb-545a-4c02-854c-0ed0487ef5b3",
   "metadata": {
    "execution": {
     "iopub.execute_input": "2024-04-30T08:55:22.954606Z",
     "iopub.status.busy": "2024-04-30T08:55:22.953986Z",
     "iopub.status.idle": "2024-04-30T08:55:22.959688Z",
     "shell.execute_reply": "2024-04-30T08:55:22.958986Z"
    },
    "papermill": {
     "duration": 0.01275,
     "end_time": "2024-04-30T08:55:22.961387",
     "exception": false,
     "start_time": "2024-04-30T08:55:22.948637",
     "status": "completed"
    },
    "tags": []
   },
   "outputs": [],
   "source": [
    "# https://docs.scvi-tools.org/en/stable/api/reference/scvi.train.Trainer.html#scvi.train.Trainer\n",
    "setup_kwargs = dict(\n",
    "    layer=\"counts\", \n",
    "    batch_key='libraryID', \n",
    "    categorical_covariate_keys = ['studyID', 'chemistry', 'disease', 'sampleID'],\n",
    "    labels_key = 'chemistry'    \n",
    ")\n",
    "\n",
    "scvi_kwargs = dict(n_hidden=512,\n",
    "                   n_latent=20, # reduceds after step 00 (main)\n",
    "                   n_layers=2,\n",
    "                   gene_likelihood='nb',\n",
    "                   dispersion='gene-label')\n",
    "\n",
    "trainer_kwargs = dict(\n",
    "    checkpointing_monitor = 'elbo_validation',\n",
    "    early_stopping_monitor = 'reconstruction_loss_validation',\n",
    "    early_stopping_patience = 10,\n",
    "    early_stopping_min_delta=0.1,\n",
    "    early_stopping = True,\n",
    "    max_epochs = 1000,\n",
    "\n",
    "    #logger = # wandb\n",
    ")\n",
    "# https://docs.scvi-tools.org/en/stable/api/reference/scvi.train.TrainingPlan.html#scvi.train.TrainingPlan\n",
    "plan_kwargs = dict(\n",
    "    lr = 5e-4,\n",
    "    #reduce_lr_on_plateau = True\n",
    ")\n",
    "\n",
    "# https://docs.scvi-tools.org/en/stable/api/reference/scvi.module.VAE.html#scvi.module.VAE\n",
    "#vae = dict(\n",
    "#    use_layer_norm='both',\n",
    "#    use_batch_norm='none',\n",
    "#    encode_covariates=True,\n",
    "#    deeply_inject_covariates=False\n",
    "#)\n",
    "parameter_dict = setup_kwargs | scvi_kwargs | trainer_kwargs | plan_kwargs"
   ]
  },
  {
   "cell_type": "markdown",
   "id": "1362366a-c16b-4c11-964b-b9c5f82f7b29",
   "metadata": {
    "papermill": {
     "duration": 0.004054,
     "end_time": "2024-04-30T08:55:22.969495",
     "exception": false,
     "start_time": "2024-04-30T08:55:22.965441",
     "status": "completed"
    },
    "tags": []
   },
   "source": [
    "**wandb parameter**"
   ]
  },
  {
   "cell_type": "code",
   "execution_count": 10,
   "id": "0496e33a-8ca5-423f-b42f-34a59760708c",
   "metadata": {
    "execution": {
     "iopub.execute_input": "2024-04-30T08:55:22.979291Z",
     "iopub.status.busy": "2024-04-30T08:55:22.978754Z",
     "iopub.status.idle": "2024-04-30T08:55:22.983656Z",
     "shell.execute_reply": "2024-04-30T08:55:22.982924Z"
    },
    "papermill": {
     "duration": 0.011616,
     "end_time": "2024-04-30T08:55:22.985309",
     "exception": false,
     "start_time": "2024-04-30T08:55:22.973693",
     "status": "completed"
    },
    "tags": []
   },
   "outputs": [
    {
     "data": {
      "text/plain": [
       "'Step2_HSC'"
      ]
     },
     "execution_count": 10,
     "metadata": {},
     "output_type": "execute_result"
    }
   ],
   "source": [
    "run_name = f\"{annotationLevel}_{cellGroup}\"\n",
    "run_name"
   ]
  },
  {
   "cell_type": "code",
   "execution_count": 11,
   "id": "b0021327-95a2-4002-bf32-2c5779a99505",
   "metadata": {
    "execution": {
     "iopub.execute_input": "2024-04-30T08:55:22.995167Z",
     "iopub.status.busy": "2024-04-30T08:55:22.994604Z",
     "iopub.status.idle": "2024-04-30T08:55:23.128212Z",
     "shell.execute_reply": "2024-04-30T08:55:23.127392Z"
    },
    "papermill": {
     "duration": 0.141021,
     "end_time": "2024-04-30T08:55:23.130400",
     "exception": false,
     "start_time": "2024-04-30T08:55:22.989379",
     "status": "completed"
    },
    "tags": []
   },
   "outputs": [],
   "source": [
    "logger = CustomWandbLogger(name = run_name, project='inflammation_atlas_R1', config=parameter_dict)"
   ]
  },
  {
   "cell_type": "markdown",
   "id": "c237eee1-a976-4915-9b7f-b014bf33f47d",
   "metadata": {
    "papermill": {
     "duration": 0.004292,
     "end_time": "2024-04-30T08:55:23.139106",
     "exception": false,
     "start_time": "2024-04-30T08:55:23.134814",
     "status": "completed"
    },
    "tags": []
   },
   "source": [
    "**Running integration**"
   ]
  },
  {
   "cell_type": "code",
   "execution_count": 12,
   "id": "aff97c53-1aba-462e-8a77-f1aec9cf724c",
   "metadata": {
    "execution": {
     "iopub.execute_input": "2024-04-30T08:55:23.148939Z",
     "iopub.status.busy": "2024-04-30T08:55:23.148480Z",
     "iopub.status.idle": "2024-04-30T08:55:23.656399Z",
     "shell.execute_reply": "2024-04-30T08:55:23.655533Z"
    },
    "papermill": {
     "duration": 0.515594,
     "end_time": "2024-04-30T08:55:23.658695",
     "exception": false,
     "start_time": "2024-04-30T08:55:23.143101",
     "status": "completed"
    },
    "tags": []
   },
   "outputs": [],
   "source": [
    "scvi.model.SCVI.setup_anndata(adata, \n",
    "                              **setup_kwargs)"
   ]
  },
  {
   "cell_type": "code",
   "execution_count": 13,
   "id": "1a56f448-cf44-47c1-81a4-a89caa930fec",
   "metadata": {
    "execution": {
     "iopub.execute_input": "2024-04-30T08:55:23.670412Z",
     "iopub.status.busy": "2024-04-30T08:55:23.669628Z",
     "iopub.status.idle": "2024-04-30T08:55:23.885476Z",
     "shell.execute_reply": "2024-04-30T08:55:23.884610Z"
    },
    "papermill": {
     "duration": 0.224173,
     "end_time": "2024-04-30T08:55:23.887821",
     "exception": false,
     "start_time": "2024-04-30T08:55:23.663648",
     "status": "completed"
    },
    "tags": []
   },
   "outputs": [],
   "source": [
    "model = scvi.model.SCVI(adata, **scvi_kwargs)"
   ]
  },
  {
   "cell_type": "code",
   "execution_count": 14,
   "id": "2735f010-4f24-4ae8-9740-a8cfeb335e9a",
   "metadata": {
    "execution": {
     "iopub.execute_input": "2024-04-30T08:55:23.898552Z",
     "iopub.status.busy": "2024-04-30T08:55:23.897880Z",
     "iopub.status.idle": "2024-04-30T08:55:50.041820Z",
     "shell.execute_reply": "2024-04-30T08:55:50.041058Z"
    },
    "papermill": {
     "duration": 26.151386,
     "end_time": "2024-04-30T08:55:50.043625",
     "exception": false,
     "start_time": "2024-04-30T08:55:23.892239",
     "status": "completed"
    },
    "tags": []
   },
   "outputs": [
    {
     "name": "stderr",
     "output_type": "stream",
     "text": [
      "GPU available: True (cuda), used: True\n"
     ]
    },
    {
     "name": "stderr",
     "output_type": "stream",
     "text": [
      "TPU available: False, using: 0 TPU cores\n"
     ]
    },
    {
     "name": "stderr",
     "output_type": "stream",
     "text": [
      "IPU available: False, using: 0 IPUs\n"
     ]
    },
    {
     "name": "stderr",
     "output_type": "stream",
     "text": [
      "HPU available: False, using: 0 HPUs\n"
     ]
    },
    {
     "name": "stderr",
     "output_type": "stream",
     "text": [
      "\u001b[34m\u001b[1mwandb\u001b[0m: Currently logged in as: \u001b[33mdav1989\u001b[0m (\u001b[33minflammation\u001b[0m). Use \u001b[1m`wandb login --relogin`\u001b[0m to force relogin\n"
     ]
    },
    {
     "name": "stderr",
     "output_type": "stream",
     "text": [
      "\u001b[34m\u001b[1mwandb\u001b[0m: wandb version 0.16.6 is available!  To upgrade, please run:\n",
      "\u001b[34m\u001b[1mwandb\u001b[0m:  $ pip install wandb --upgrade\n"
     ]
    },
    {
     "name": "stderr",
     "output_type": "stream",
     "text": [
      "\u001b[34m\u001b[1mwandb\u001b[0m: Tracking run with wandb version 0.16.3\n"
     ]
    },
    {
     "name": "stderr",
     "output_type": "stream",
     "text": [
      "\u001b[34m\u001b[1mwandb\u001b[0m: Run data is saved locally in \u001b[35m\u001b[1m./wandb/run-20240430_085528-f6cqkspx\u001b[0m\n",
      "\u001b[34m\u001b[1mwandb\u001b[0m: Run \u001b[1m`wandb offline`\u001b[0m to turn off syncing.\n"
     ]
    },
    {
     "name": "stderr",
     "output_type": "stream",
     "text": [
      "\u001b[34m\u001b[1mwandb\u001b[0m: Syncing run \u001b[33mStep2_HSC\u001b[0m\n"
     ]
    },
    {
     "name": "stderr",
     "output_type": "stream",
     "text": [
      "\u001b[34m\u001b[1mwandb\u001b[0m: ⭐️ View project at \u001b[34m\u001b[4mhttps://wandb.ai/inflammation/inflammation_atlas_R1\u001b[0m\n"
     ]
    },
    {
     "name": "stderr",
     "output_type": "stream",
     "text": [
      "\u001b[34m\u001b[1mwandb\u001b[0m: 🚀 View run at \u001b[34m\u001b[4mhttps://wandb.ai/inflammation/inflammation_atlas_R1/runs/f6cqkspx\u001b[0m\n"
     ]
    },
    {
     "name": "stderr",
     "output_type": "stream",
     "text": [
      "LOCAL_RANK: 0 - CUDA_VISIBLE_DEVICES: [0]\n"
     ]
    },
    {
     "name": "stdout",
     "output_type": "stream",
     "text": [
      "\r",
      "Training:   0%|          | 0/1000 [00:00<?, ?it/s]"
     ]
    },
    {
     "name": "stdout",
     "output_type": "stream",
     "text": [
      "\r",
      "Epoch 1/1000:   0%|          | 0/1000 [00:00<?, ?it/s]"
     ]
    },
    {
     "name": "stdout",
     "output_type": "stream",
     "text": [
      "\r",
      "Epoch 1/1000:   0%|          | 1/1000 [00:02<36:54,  2.22s/it]"
     ]
    },
    {
     "name": "stdout",
     "output_type": "stream",
     "text": [
      "\r",
      "Epoch 1/1000:   0%|          | 1/1000 [00:02<36:54,  2.22s/it, v_num=kspx, train_loss_step=1.29e+3, train_loss_epoch=1.3e+3]"
     ]
    },
    {
     "name": "stdout",
     "output_type": "stream",
     "text": [
      "\r",
      "Epoch 2/1000:   0%|          | 1/1000 [00:02<36:54,  2.22s/it, v_num=kspx, train_loss_step=1.29e+3, train_loss_epoch=1.3e+3]"
     ]
    },
    {
     "name": "stdout",
     "output_type": "stream",
     "text": [
      "\r",
      "Epoch 2/1000:   0%|          | 2/1000 [00:02<22:39,  1.36s/it, v_num=kspx, train_loss_step=1.29e+3, train_loss_epoch=1.3e+3]"
     ]
    },
    {
     "name": "stdout",
     "output_type": "stream",
     "text": [
      "\r",
      "Epoch 2/1000:   0%|          | 2/1000 [00:02<22:39,  1.36s/it, v_num=kspx, train_loss_step=1.1e+3, train_loss_epoch=1.15e+3]"
     ]
    },
    {
     "name": "stdout",
     "output_type": "stream",
     "text": [
      "\r",
      "Epoch 3/1000:   0%|          | 2/1000 [00:02<22:39,  1.36s/it, v_num=kspx, train_loss_step=1.1e+3, train_loss_epoch=1.15e+3]"
     ]
    },
    {
     "name": "stdout",
     "output_type": "stream",
     "text": [
      "\r",
      "Epoch 3/1000:   0%|          | 3/1000 [00:03<18:18,  1.10s/it, v_num=kspx, train_loss_step=1.1e+3, train_loss_epoch=1.15e+3]"
     ]
    },
    {
     "name": "stdout",
     "output_type": "stream",
     "text": [
      "\r",
      "Epoch 3/1000:   0%|          | 3/1000 [00:03<18:18,  1.10s/it, v_num=kspx, train_loss_step=1.33e+3, train_loss_epoch=1.14e+3]"
     ]
    },
    {
     "name": "stdout",
     "output_type": "stream",
     "text": [
      "\r",
      "Epoch 4/1000:   0%|          | 3/1000 [00:03<18:18,  1.10s/it, v_num=kspx, train_loss_step=1.33e+3, train_loss_epoch=1.14e+3]"
     ]
    },
    {
     "name": "stdout",
     "output_type": "stream",
     "text": [
      "\r",
      "Epoch 4/1000:   0%|          | 4/1000 [00:04<16:06,  1.03it/s, v_num=kspx, train_loss_step=1.33e+3, train_loss_epoch=1.14e+3]"
     ]
    },
    {
     "name": "stdout",
     "output_type": "stream",
     "text": [
      "\r",
      "Epoch 4/1000:   0%|          | 4/1000 [00:04<16:06,  1.03it/s, v_num=kspx, train_loss_step=1.16e+3, train_loss_epoch=1.13e+3]"
     ]
    },
    {
     "name": "stdout",
     "output_type": "stream",
     "text": [
      "\r",
      "Epoch 5/1000:   0%|          | 4/1000 [00:04<16:06,  1.03it/s, v_num=kspx, train_loss_step=1.16e+3, train_loss_epoch=1.13e+3]"
     ]
    },
    {
     "name": "stdout",
     "output_type": "stream",
     "text": [
      "\r",
      "Epoch 5/1000:   0%|          | 5/1000 [00:05<14:46,  1.12it/s, v_num=kspx, train_loss_step=1.16e+3, train_loss_epoch=1.13e+3]"
     ]
    },
    {
     "name": "stdout",
     "output_type": "stream",
     "text": [
      "\r",
      "Epoch 5/1000:   0%|          | 5/1000 [00:05<14:46,  1.12it/s, v_num=kspx, train_loss_step=1.06e+3, train_loss_epoch=1.12e+3]"
     ]
    },
    {
     "name": "stdout",
     "output_type": "stream",
     "text": [
      "\r",
      "Epoch 6/1000:   0%|          | 5/1000 [00:05<14:46,  1.12it/s, v_num=kspx, train_loss_step=1.06e+3, train_loss_epoch=1.12e+3]"
     ]
    },
    {
     "name": "stdout",
     "output_type": "stream",
     "text": [
      "\r",
      "Epoch 6/1000:   1%|          | 6/1000 [00:06<13:58,  1.19it/s, v_num=kspx, train_loss_step=1.06e+3, train_loss_epoch=1.12e+3]"
     ]
    },
    {
     "name": "stdout",
     "output_type": "stream",
     "text": [
      "\r",
      "Epoch 6/1000:   1%|          | 6/1000 [00:06<13:58,  1.19it/s, v_num=kspx, train_loss_step=1.11e+3, train_loss_epoch=1.11e+3]"
     ]
    },
    {
     "name": "stdout",
     "output_type": "stream",
     "text": [
      "\r",
      "Epoch 7/1000:   1%|          | 6/1000 [00:06<13:58,  1.19it/s, v_num=kspx, train_loss_step=1.11e+3, train_loss_epoch=1.11e+3]"
     ]
    },
    {
     "name": "stdout",
     "output_type": "stream",
     "text": [
      "\r",
      "Epoch 7/1000:   1%|          | 7/1000 [00:06<13:26,  1.23it/s, v_num=kspx, train_loss_step=1.11e+3, train_loss_epoch=1.11e+3]"
     ]
    },
    {
     "name": "stdout",
     "output_type": "stream",
     "text": [
      "\r",
      "Epoch 7/1000:   1%|          | 7/1000 [00:06<13:26,  1.23it/s, v_num=kspx, train_loss_step=1.13e+3, train_loss_epoch=1.11e+3]"
     ]
    },
    {
     "name": "stdout",
     "output_type": "stream",
     "text": [
      "\r",
      "Epoch 8/1000:   1%|          | 7/1000 [00:06<13:26,  1.23it/s, v_num=kspx, train_loss_step=1.13e+3, train_loss_epoch=1.11e+3]"
     ]
    },
    {
     "name": "stdout",
     "output_type": "stream",
     "text": [
      "\r",
      "Epoch 8/1000:   1%|          | 8/1000 [00:07<13:14,  1.25it/s, v_num=kspx, train_loss_step=1.13e+3, train_loss_epoch=1.11e+3]"
     ]
    },
    {
     "name": "stdout",
     "output_type": "stream",
     "text": [
      "\r",
      "Epoch 8/1000:   1%|          | 8/1000 [00:07<13:14,  1.25it/s, v_num=kspx, train_loss_step=1.24e+3, train_loss_epoch=1.1e+3] "
     ]
    },
    {
     "name": "stdout",
     "output_type": "stream",
     "text": [
      "\r",
      "Epoch 9/1000:   1%|          | 8/1000 [00:07<13:14,  1.25it/s, v_num=kspx, train_loss_step=1.24e+3, train_loss_epoch=1.1e+3]"
     ]
    },
    {
     "name": "stdout",
     "output_type": "stream",
     "text": [
      "\r",
      "Epoch 9/1000:   1%|          | 9/1000 [00:08<13:04,  1.26it/s, v_num=kspx, train_loss_step=1.24e+3, train_loss_epoch=1.1e+3]"
     ]
    },
    {
     "name": "stdout",
     "output_type": "stream",
     "text": [
      "\r",
      "Epoch 9/1000:   1%|          | 9/1000 [00:08<13:04,  1.26it/s, v_num=kspx, train_loss_step=1.09e+3, train_loss_epoch=1.1e+3]"
     ]
    },
    {
     "name": "stdout",
     "output_type": "stream",
     "text": [
      "\r",
      "Epoch 10/1000:   1%|          | 9/1000 [00:08<13:04,  1.26it/s, v_num=kspx, train_loss_step=1.09e+3, train_loss_epoch=1.1e+3]"
     ]
    },
    {
     "name": "stdout",
     "output_type": "stream",
     "text": [
      "\r",
      "Epoch 10/1000:   1%|          | 10/1000 [00:09<12:57,  1.27it/s, v_num=kspx, train_loss_step=1.09e+3, train_loss_epoch=1.1e+3]"
     ]
    },
    {
     "name": "stdout",
     "output_type": "stream",
     "text": [
      "\r",
      "Epoch 10/1000:   1%|          | 10/1000 [00:09<12:57,  1.27it/s, v_num=kspx, train_loss_step=1.09e+3, train_loss_epoch=1.09e+3]"
     ]
    },
    {
     "name": "stdout",
     "output_type": "stream",
     "text": [
      "\r",
      "Epoch 11/1000:   1%|          | 10/1000 [00:09<12:57,  1.27it/s, v_num=kspx, train_loss_step=1.09e+3, train_loss_epoch=1.09e+3]"
     ]
    },
    {
     "name": "stdout",
     "output_type": "stream",
     "text": [
      "\r",
      "Epoch 11/1000:   1%|          | 11/1000 [00:09<12:51,  1.28it/s, v_num=kspx, train_loss_step=1.09e+3, train_loss_epoch=1.09e+3]"
     ]
    },
    {
     "name": "stdout",
     "output_type": "stream",
     "text": [
      "\r",
      "Epoch 11/1000:   1%|          | 11/1000 [00:09<12:51,  1.28it/s, v_num=kspx, train_loss_step=1.14e+3, train_loss_epoch=1.09e+3]"
     ]
    },
    {
     "name": "stdout",
     "output_type": "stream",
     "text": [
      "\r",
      "Epoch 12/1000:   1%|          | 11/1000 [00:09<12:51,  1.28it/s, v_num=kspx, train_loss_step=1.14e+3, train_loss_epoch=1.09e+3]"
     ]
    },
    {
     "name": "stdout",
     "output_type": "stream",
     "text": [
      "\r",
      "Epoch 12/1000:   1%|          | 12/1000 [00:10<12:51,  1.28it/s, v_num=kspx, train_loss_step=1.14e+3, train_loss_epoch=1.09e+3]"
     ]
    },
    {
     "name": "stdout",
     "output_type": "stream",
     "text": [
      "\r",
      "Epoch 12/1000:   1%|          | 12/1000 [00:10<12:51,  1.28it/s, v_num=kspx, train_loss_step=996, train_loss_epoch=1.09e+3]    "
     ]
    },
    {
     "name": "stdout",
     "output_type": "stream",
     "text": [
      "\r",
      "Epoch 13/1000:   1%|          | 12/1000 [00:10<12:51,  1.28it/s, v_num=kspx, train_loss_step=996, train_loss_epoch=1.09e+3]"
     ]
    },
    {
     "name": "stdout",
     "output_type": "stream",
     "text": [
      "\r",
      "Epoch 13/1000:   1%|▏         | 13/1000 [00:11<12:45,  1.29it/s, v_num=kspx, train_loss_step=996, train_loss_epoch=1.09e+3]"
     ]
    },
    {
     "name": "stdout",
     "output_type": "stream",
     "text": [
      "\r",
      "Epoch 13/1000:   1%|▏         | 13/1000 [00:11<12:45,  1.29it/s, v_num=kspx, train_loss_step=1.05e+3, train_loss_epoch=1.08e+3]"
     ]
    },
    {
     "name": "stdout",
     "output_type": "stream",
     "text": [
      "\r",
      "Epoch 14/1000:   1%|▏         | 13/1000 [00:11<12:45,  1.29it/s, v_num=kspx, train_loss_step=1.05e+3, train_loss_epoch=1.08e+3]"
     ]
    },
    {
     "name": "stdout",
     "output_type": "stream",
     "text": [
      "\r",
      "Epoch 14/1000:   1%|▏         | 14/1000 [00:12<12:34,  1.31it/s, v_num=kspx, train_loss_step=1.05e+3, train_loss_epoch=1.08e+3]"
     ]
    },
    {
     "name": "stdout",
     "output_type": "stream",
     "text": [
      "\r",
      "Epoch 14/1000:   1%|▏         | 14/1000 [00:12<12:34,  1.31it/s, v_num=kspx, train_loss_step=1.08e+3, train_loss_epoch=1.08e+3]"
     ]
    },
    {
     "name": "stdout",
     "output_type": "stream",
     "text": [
      "\r",
      "Epoch 15/1000:   1%|▏         | 14/1000 [00:12<12:34,  1.31it/s, v_num=kspx, train_loss_step=1.08e+3, train_loss_epoch=1.08e+3]"
     ]
    },
    {
     "name": "stdout",
     "output_type": "stream",
     "text": [
      "\r",
      "Epoch 15/1000:   2%|▏         | 15/1000 [00:12<12:37,  1.30it/s, v_num=kspx, train_loss_step=1.08e+3, train_loss_epoch=1.08e+3]"
     ]
    },
    {
     "name": "stdout",
     "output_type": "stream",
     "text": [
      "\r",
      "Epoch 15/1000:   2%|▏         | 15/1000 [00:12<12:37,  1.30it/s, v_num=kspx, train_loss_step=986, train_loss_epoch=1.08e+3]    "
     ]
    },
    {
     "name": "stdout",
     "output_type": "stream",
     "text": [
      "\r",
      "Epoch 16/1000:   2%|▏         | 15/1000 [00:12<12:37,  1.30it/s, v_num=kspx, train_loss_step=986, train_loss_epoch=1.08e+3]"
     ]
    },
    {
     "name": "stdout",
     "output_type": "stream",
     "text": [
      "\r",
      "Epoch 16/1000:   2%|▏         | 16/1000 [00:13<12:34,  1.30it/s, v_num=kspx, train_loss_step=986, train_loss_epoch=1.08e+3]"
     ]
    },
    {
     "name": "stdout",
     "output_type": "stream",
     "text": [
      "\r",
      "Epoch 16/1000:   2%|▏         | 16/1000 [00:13<12:34,  1.30it/s, v_num=kspx, train_loss_step=1.04e+3, train_loss_epoch=1.07e+3]"
     ]
    },
    {
     "name": "stdout",
     "output_type": "stream",
     "text": [
      "\r",
      "Epoch 17/1000:   2%|▏         | 16/1000 [00:13<12:34,  1.30it/s, v_num=kspx, train_loss_step=1.04e+3, train_loss_epoch=1.07e+3]"
     ]
    },
    {
     "name": "stdout",
     "output_type": "stream",
     "text": [
      "\r",
      "Epoch 17/1000:   2%|▏         | 17/1000 [00:14<12:39,  1.29it/s, v_num=kspx, train_loss_step=1.04e+3, train_loss_epoch=1.07e+3]"
     ]
    },
    {
     "name": "stdout",
     "output_type": "stream",
     "text": [
      "\r",
      "Epoch 17/1000:   2%|▏         | 17/1000 [00:14<12:39,  1.29it/s, v_num=kspx, train_loss_step=1.08e+3, train_loss_epoch=1.07e+3]"
     ]
    },
    {
     "name": "stdout",
     "output_type": "stream",
     "text": [
      "\r",
      "Epoch 18/1000:   2%|▏         | 17/1000 [00:14<12:39,  1.29it/s, v_num=kspx, train_loss_step=1.08e+3, train_loss_epoch=1.07e+3]"
     ]
    },
    {
     "name": "stdout",
     "output_type": "stream",
     "text": [
      "\r",
      "Epoch 18/1000:   2%|▏         | 18/1000 [00:15<12:39,  1.29it/s, v_num=kspx, train_loss_step=1.08e+3, train_loss_epoch=1.07e+3]"
     ]
    },
    {
     "name": "stdout",
     "output_type": "stream",
     "text": [
      "\r",
      "Epoch 18/1000:   2%|▏         | 18/1000 [00:15<12:39,  1.29it/s, v_num=kspx, train_loss_step=1.01e+3, train_loss_epoch=1.07e+3]"
     ]
    },
    {
     "name": "stdout",
     "output_type": "stream",
     "text": [
      "\r",
      "Epoch 19/1000:   2%|▏         | 18/1000 [00:15<12:39,  1.29it/s, v_num=kspx, train_loss_step=1.01e+3, train_loss_epoch=1.07e+3]"
     ]
    },
    {
     "name": "stdout",
     "output_type": "stream",
     "text": [
      "\r",
      "Epoch 19/1000:   2%|▏         | 19/1000 [00:16<12:36,  1.30it/s, v_num=kspx, train_loss_step=1.01e+3, train_loss_epoch=1.07e+3]"
     ]
    },
    {
     "name": "stdout",
     "output_type": "stream",
     "text": [
      "\r",
      "Epoch 19/1000:   2%|▏         | 19/1000 [00:16<12:36,  1.30it/s, v_num=kspx, train_loss_step=1.02e+3, train_loss_epoch=1.06e+3]"
     ]
    },
    {
     "name": "stdout",
     "output_type": "stream",
     "text": [
      "\r",
      "Epoch 20/1000:   2%|▏         | 19/1000 [00:16<12:36,  1.30it/s, v_num=kspx, train_loss_step=1.02e+3, train_loss_epoch=1.06e+3]"
     ]
    },
    {
     "name": "stdout",
     "output_type": "stream",
     "text": [
      "\r",
      "Epoch 20/1000:   2%|▏         | 20/1000 [00:16<12:29,  1.31it/s, v_num=kspx, train_loss_step=1.02e+3, train_loss_epoch=1.06e+3]"
     ]
    },
    {
     "name": "stdout",
     "output_type": "stream",
     "text": [
      "\r",
      "Epoch 20/1000:   2%|▏         | 20/1000 [00:16<12:29,  1.31it/s, v_num=kspx, train_loss_step=1.07e+3, train_loss_epoch=1.06e+3]"
     ]
    },
    {
     "name": "stdout",
     "output_type": "stream",
     "text": [
      "\r",
      "Epoch 21/1000:   2%|▏         | 20/1000 [00:16<12:29,  1.31it/s, v_num=kspx, train_loss_step=1.07e+3, train_loss_epoch=1.06e+3]"
     ]
    },
    {
     "name": "stdout",
     "output_type": "stream",
     "text": [
      "\r",
      "Epoch 21/1000:   2%|▏         | 21/1000 [00:17<12:24,  1.31it/s, v_num=kspx, train_loss_step=1.07e+3, train_loss_epoch=1.06e+3]"
     ]
    },
    {
     "name": "stdout",
     "output_type": "stream",
     "text": [
      "\r",
      "Epoch 21/1000:   2%|▏         | 21/1000 [00:17<12:24,  1.31it/s, v_num=kspx, train_loss_step=1.14e+3, train_loss_epoch=1.06e+3]"
     ]
    },
    {
     "name": "stdout",
     "output_type": "stream",
     "text": [
      "\r",
      "Epoch 22/1000:   2%|▏         | 21/1000 [00:17<12:24,  1.31it/s, v_num=kspx, train_loss_step=1.14e+3, train_loss_epoch=1.06e+3]"
     ]
    },
    {
     "name": "stdout",
     "output_type": "stream",
     "text": [
      "\r",
      "Epoch 22/1000:   2%|▏         | 22/1000 [00:18<12:23,  1.31it/s, v_num=kspx, train_loss_step=1.14e+3, train_loss_epoch=1.06e+3]"
     ]
    },
    {
     "name": "stdout",
     "output_type": "stream",
     "text": [
      "\r",
      "Epoch 22/1000:   2%|▏         | 22/1000 [00:18<12:23,  1.31it/s, v_num=kspx, train_loss_step=1.07e+3, train_loss_epoch=1.05e+3]"
     ]
    },
    {
     "name": "stdout",
     "output_type": "stream",
     "text": [
      "\r",
      "Epoch 23/1000:   2%|▏         | 22/1000 [00:18<12:23,  1.31it/s, v_num=kspx, train_loss_step=1.07e+3, train_loss_epoch=1.05e+3]"
     ]
    },
    {
     "name": "stdout",
     "output_type": "stream",
     "text": [
      "\r",
      "Epoch 23/1000:   2%|▏         | 23/1000 [00:19<12:20,  1.32it/s, v_num=kspx, train_loss_step=1.07e+3, train_loss_epoch=1.05e+3]"
     ]
    },
    {
     "name": "stdout",
     "output_type": "stream",
     "text": [
      "\r",
      "Epoch 23/1000:   2%|▏         | 23/1000 [00:19<12:20,  1.32it/s, v_num=kspx, train_loss_step=930, train_loss_epoch=1.05e+3]    "
     ]
    },
    {
     "name": "stdout",
     "output_type": "stream",
     "text": [
      "\r",
      "Epoch 24/1000:   2%|▏         | 23/1000 [00:19<12:20,  1.32it/s, v_num=kspx, train_loss_step=930, train_loss_epoch=1.05e+3]"
     ]
    },
    {
     "name": "stdout",
     "output_type": "stream",
     "text": [
      "\r",
      "Epoch 24/1000:   2%|▏         | 24/1000 [00:19<12:22,  1.31it/s, v_num=kspx, train_loss_step=930, train_loss_epoch=1.05e+3]"
     ]
    },
    {
     "name": "stdout",
     "output_type": "stream",
     "text": [
      "\r",
      "Epoch 24/1000:   2%|▏         | 24/1000 [00:19<12:22,  1.31it/s, v_num=kspx, train_loss_step=1.16e+3, train_loss_epoch=1.05e+3]"
     ]
    },
    {
     "name": "stdout",
     "output_type": "stream",
     "text": [
      "\r",
      "Epoch 25/1000:   2%|▏         | 24/1000 [00:19<12:22,  1.31it/s, v_num=kspx, train_loss_step=1.16e+3, train_loss_epoch=1.05e+3]"
     ]
    },
    {
     "name": "stdout",
     "output_type": "stream",
     "text": [
      "\r",
      "Epoch 25/1000:   2%|▎         | 25/1000 [00:20<12:24,  1.31it/s, v_num=kspx, train_loss_step=1.16e+3, train_loss_epoch=1.05e+3]"
     ]
    },
    {
     "name": "stdout",
     "output_type": "stream",
     "text": [
      "\r",
      "Epoch 25/1000:   2%|▎         | 25/1000 [00:20<12:24,  1.31it/s, v_num=kspx, train_loss_step=1.01e+3, train_loss_epoch=1.04e+3]"
     ]
    },
    {
     "name": "stdout",
     "output_type": "stream",
     "text": [
      "\r",
      "Epoch 25/1000:   2%|▎         | 25/1000 [00:20<13:22,  1.21it/s, v_num=kspx, train_loss_step=1.01e+3, train_loss_epoch=1.04e+3]"
     ]
    },
    {
     "name": "stdout",
     "output_type": "stream",
     "text": [
      "\n",
      "Monitored metric reconstruction_loss_validation did not improve in the last 10 records. Best score: 1085.651. Signaling Trainer to stop.\n"
     ]
    }
   ],
   "source": [
    "model.train(logger=logger, plan_kwargs = plan_kwargs, **trainer_kwargs)"
   ]
  },
  {
   "cell_type": "code",
   "execution_count": 15,
   "id": "c282f6eb-0ad1-40a5-81e6-1acda1545dad",
   "metadata": {
    "execution": {
     "iopub.execute_input": "2024-04-30T08:55:50.063791Z",
     "iopub.status.busy": "2024-04-30T08:55:50.063044Z",
     "iopub.status.idle": "2024-04-30T08:55:54.118217Z",
     "shell.execute_reply": "2024-04-30T08:55:54.117573Z"
    },
    "papermill": {
     "duration": 4.067288,
     "end_time": "2024-04-30T08:55:54.120202",
     "exception": false,
     "start_time": "2024-04-30T08:55:50.052914",
     "status": "completed"
    },
    "tags": []
   },
   "outputs": [
    {
     "name": "stderr",
     "output_type": "stream",
     "text": [
      "\u001b[34m\u001b[1mwandb\u001b[0m: - 0.003 MB of 0.003 MB uploaded\r"
     ]
    },
    {
     "name": "stderr",
     "output_type": "stream",
     "text": [
      "\u001b[34m\u001b[1mwandb\u001b[0m: \\ 0.003 MB of 0.003 MB uploaded\r"
     ]
    },
    {
     "name": "stderr",
     "output_type": "stream",
     "text": [
      "\u001b[34m\u001b[1mwandb\u001b[0m: | 0.009 MB of 0.009 MB uploaded\r"
     ]
    },
    {
     "name": "stderr",
     "output_type": "stream",
     "text": [
      "\u001b[34m\u001b[1mwandb\u001b[0m:                                                                                \n"
     ]
    },
    {
     "name": "stderr",
     "output_type": "stream",
     "text": [
      "\u001b[34m\u001b[1mwandb\u001b[0m: \n",
      "\u001b[34m\u001b[1mwandb\u001b[0m: Run history:\n",
      "\u001b[34m\u001b[1mwandb\u001b[0m:                     elbo_train █▄▄▄▃▃▃▃▃▃▃▃▂▂▂▂▂▂▂▂▁▁▁▁▁\n",
      "\u001b[34m\u001b[1mwandb\u001b[0m:                elbo_validation █▄▃▂▂▁▁▁▁▁▁▁▁▁▁▁▁▁▁▁▁▁▁▁▁\n",
      "\u001b[34m\u001b[1mwandb\u001b[0m:                          epoch ▁▁▁▁▂▂▂▂▂▂▃▃▃▃▃▄▄▄▄▅▅▅▅▅▅▆▆▆▆▆▇▇▇▇▇▇████\n",
      "\u001b[34m\u001b[1mwandb\u001b[0m:                kl_global_train ▁▁▁▁▁▁▁▁▁▁▁▁▁▁▁▁▁▁▁▁▁▁▁▁▁\n",
      "\u001b[34m\u001b[1mwandb\u001b[0m:           kl_global_validation ▁▁▁▁▁▁▁▁▁▁▁▁▁▁▁▁▁▁▁▁▁▁▁▁▁\n",
      "\u001b[34m\u001b[1mwandb\u001b[0m:                 kl_local_train ▁▅▆▇████████████▇▇▇▇▇▇▇▇▇\n",
      "\u001b[34m\u001b[1mwandb\u001b[0m:            kl_local_validation ▁▂▃▄▅▆▇▇██████▇▇▇▇▇▇▇▇▇▇▇\n",
      "\u001b[34m\u001b[1mwandb\u001b[0m:                      kl_weight ▁▁▁▁▂▂▂▂▂▂▃▃▃▃▃▄▄▄▄▅▅▅▅▅▅▆▆▆▆▆▇▇▇▇▇▇████\n",
      "\u001b[34m\u001b[1mwandb\u001b[0m:      reconstruction_loss_train █▄▄▃▃▃▃▃▃▂▂▂▂▂▂▂▂▂▂▁▁▁▁▁▁\n",
      "\u001b[34m\u001b[1mwandb\u001b[0m: reconstruction_loss_validation █▅▃▂▂▂▁▁▁▁▁▁▁▁▁▁▁▁▁▁▁▁▁▁▁\n",
      "\u001b[34m\u001b[1mwandb\u001b[0m:               train_loss_epoch █▄▄▃▃▃▃▃▃▂▂▂▂▂▂▂▂▂▂▁▁▁▁▁▁\n",
      "\u001b[34m\u001b[1mwandb\u001b[0m:                train_loss_step █▇▇▇▄▄▅▆▅▃▃▄▆▃▃▃▃▅▅▂▁▅▁▅▄▃▃▃▃▄▃▂▂▃▂▂▄▁▂▂\n",
      "\u001b[34m\u001b[1mwandb\u001b[0m:            trainer/global_step ▁▁▁▁▂▂▂▂▂▃▃▃▃▃▃▄▄▄▄▄▅▅▅▅▅▅▆▆▆▆▆▇▇▇▇▇▇███\n",
      "\u001b[34m\u001b[1mwandb\u001b[0m:                validation_loss █▅▃▂▂▂▁▁▁▁▁▁▁▁▁▁▁▁▁▁▁▁▁▁▁\n",
      "\u001b[34m\u001b[1mwandb\u001b[0m: \n",
      "\u001b[34m\u001b[1mwandb\u001b[0m: Run summary:\n",
      "\u001b[34m\u001b[1mwandb\u001b[0m:                     elbo_train 1089.01904\n",
      "\u001b[34m\u001b[1mwandb\u001b[0m:                elbo_validation 1136.83044\n",
      "\u001b[34m\u001b[1mwandb\u001b[0m:                          epoch 24\n",
      "\u001b[34m\u001b[1mwandb\u001b[0m:                kl_global_train 0.0\n",
      "\u001b[34m\u001b[1mwandb\u001b[0m:           kl_global_validation 0.0\n",
      "\u001b[34m\u001b[1mwandb\u001b[0m:                 kl_local_train 49.81354\n",
      "\u001b[34m\u001b[1mwandb\u001b[0m:            kl_local_validation 44.57459\n",
      "\u001b[34m\u001b[1mwandb\u001b[0m:                      kl_weight 0.06\n",
      "\u001b[34m\u001b[1mwandb\u001b[0m:      reconstruction_loss_train 1039.20557\n",
      "\u001b[34m\u001b[1mwandb\u001b[0m: reconstruction_loss_validation 1092.25586\n",
      "\u001b[34m\u001b[1mwandb\u001b[0m:               train_loss_epoch 1042.19409\n",
      "\u001b[34m\u001b[1mwandb\u001b[0m:                train_loss_step 1009.6922\n",
      "\u001b[34m\u001b[1mwandb\u001b[0m:            trainer/global_step 1299\n",
      "\u001b[34m\u001b[1mwandb\u001b[0m:                validation_loss 1094.93042\n",
      "\u001b[34m\u001b[1mwandb\u001b[0m: \n"
     ]
    },
    {
     "name": "stderr",
     "output_type": "stream",
     "text": [
      "\u001b[34m\u001b[1mwandb\u001b[0m: 🚀 View run \u001b[33mStep2_HSC\u001b[0m at: \u001b[34m\u001b[4mhttps://wandb.ai/inflammation/inflammation_atlas_R1/runs/f6cqkspx\u001b[0m\n",
      "\u001b[34m\u001b[1mwandb\u001b[0m: Synced 5 W&B file(s), 0 media file(s), 0 artifact file(s) and 0 other file(s)\n"
     ]
    },
    {
     "name": "stderr",
     "output_type": "stream",
     "text": [
      "\u001b[34m\u001b[1mwandb\u001b[0m: Find logs at: \u001b[35m\u001b[1m./wandb/run-20240430_085528-f6cqkspx/logs\u001b[0m\n"
     ]
    }
   ],
   "source": [
    "wandb.finish()"
   ]
  },
  {
   "cell_type": "markdown",
   "id": "d9fb1179-83c7-4ac6-b4aa-92dc7a349801",
   "metadata": {
    "papermill": {
     "duration": 0.008476,
     "end_time": "2024-04-30T08:55:54.137810",
     "exception": false,
     "start_time": "2024-04-30T08:55:54.129334",
     "status": "completed"
    },
    "tags": []
   },
   "source": [
    "### Extracting embedding space"
   ]
  },
  {
   "cell_type": "code",
   "execution_count": 16,
   "id": "caaa5832-0123-4c59-8ec6-f46a75f7a14e",
   "metadata": {
    "execution": {
     "iopub.execute_input": "2024-04-30T08:55:54.156418Z",
     "iopub.status.busy": "2024-04-30T08:55:54.155843Z",
     "iopub.status.idle": "2024-04-30T08:55:54.475323Z",
     "shell.execute_reply": "2024-04-30T08:55:54.474559Z"
    },
    "papermill": {
     "duration": 0.33117,
     "end_time": "2024-04-30T08:55:54.477445",
     "exception": false,
     "start_time": "2024-04-30T08:55:54.146275",
     "status": "completed"
    },
    "tags": []
   },
   "outputs": [],
   "source": [
    "adata.obsm['X_scVI'] = model.get_latent_representation()"
   ]
  },
  {
   "cell_type": "markdown",
   "id": "2f03e70b-839c-40a6-9fbb-d76bbd787419",
   "metadata": {
    "papermill": {
     "duration": 0.008661,
     "end_time": "2024-04-30T08:55:54.495176",
     "exception": false,
     "start_time": "2024-04-30T08:55:54.486515",
     "status": "completed"
    },
    "tags": []
   },
   "source": [
    "## Save the results"
   ]
  },
  {
   "cell_type": "code",
   "execution_count": 17,
   "id": "7b04049b-47fd-4b62-a1c0-c43dcc086d34",
   "metadata": {
    "execution": {
     "iopub.execute_input": "2024-04-30T08:55:54.515122Z",
     "iopub.status.busy": "2024-04-30T08:55:54.514332Z",
     "iopub.status.idle": "2024-04-30T08:55:55.939275Z",
     "shell.execute_reply": "2024-04-30T08:55:55.938417Z"
    },
    "papermill": {
     "duration": 1.438012,
     "end_time": "2024-04-30T08:55:55.942025",
     "exception": false,
     "start_time": "2024-04-30T08:55:54.504013",
     "status": "completed"
    },
    "tags": []
   },
   "outputs": [],
   "source": [
    "if overwriteData:\n",
    "    adata.write(here(f\"{workDir}/{cellGroup}/results/02_{annotationLevel}_{cellGroup}_HVGsubset_scVI.h5ad\"), compression=\"gzip\")\n",
    "    model.save(here(f\"{workDir}/{cellGroup}/results/02_{annotationLevel}_{cellGroup}_HVGsubset_scVI_MODEL/\"),\n",
    "               overwrite = True, \n",
    "               save_anndata = False )   "
   ]
  },
  {
   "cell_type": "code",
   "execution_count": 18,
   "id": "629ba2bd-f6be-44ef-8fca-bbdf891bf25f",
   "metadata": {
    "execution": {
     "iopub.execute_input": "2024-04-30T08:55:55.961128Z",
     "iopub.status.busy": "2024-04-30T08:55:55.960803Z",
     "iopub.status.idle": "2024-04-30T08:55:55.964203Z",
     "shell.execute_reply": "2024-04-30T08:55:55.963564Z"
    },
    "papermill": {
     "duration": 0.014523,
     "end_time": "2024-04-30T08:55:55.965667",
     "exception": false,
     "start_time": "2024-04-30T08:55:55.951144",
     "status": "completed"
    },
    "tags": []
   },
   "outputs": [],
   "source": [
    "# To load the model do (after loading corresponding adata):\n",
    "# model = scvi.model.SCVI.load(here('{}/results/01_{}_HVGsubset_scVI_MODEL/'.format(workDir, cellGroup)), \n",
    "#                              adata, \n",
    "#                              use_gpu=True)"
   ]
  },
  {
   "cell_type": "raw",
   "id": "975e84d0-f56b-498d-b3a8-c9219cf22e53",
   "metadata": {
    "papermill": {
     "duration": 0.008829,
     "end_time": "2024-04-30T08:55:55.983234",
     "exception": false,
     "start_time": "2024-04-30T08:55:55.974405",
     "status": "completed"
    },
    "tags": []
   },
   "source": [
    "session_info.show()"
   ]
  }
 ],
 "metadata": {
  "kernelspec": {
   "display_name": "Python 3 (ipykernel)",
   "language": "python",
   "name": "python3"
  },
  "language_info": {
   "codemirror_mode": {
    "name": "ipython",
    "version": 3
   },
   "file_extension": ".py",
   "mimetype": "text/x-python",
   "name": "python",
   "nbconvert_exporter": "python",
   "pygments_lexer": "ipython3",
   "version": "3.9.18"
  },
  "papermill": {
   "default_parameters": {},
   "duration": 43.269038,
   "end_time": "2024-04-30T08:55:59.039330",
   "environment_variables": {},
   "exception": null,
   "input_path": "./HSC/02_integration_scVI.ipynb",
   "output_path": "./HSC/02_integration_scVI_executed.ipynb",
   "parameters": {},
   "start_time": "2024-04-30T08:55:15.770292",
   "version": "2.5.0"
  }
 },
 "nbformat": 4,
 "nbformat_minor": 5
}