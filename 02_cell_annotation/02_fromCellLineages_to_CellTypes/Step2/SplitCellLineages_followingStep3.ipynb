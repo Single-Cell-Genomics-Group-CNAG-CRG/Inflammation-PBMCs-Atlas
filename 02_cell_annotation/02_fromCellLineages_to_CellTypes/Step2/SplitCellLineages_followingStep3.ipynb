{
 "cells": [
  {
   "cell_type": "code",
   "execution_count": 1,
   "metadata": {
    "execution": {
     "iopub.execute_input": "2024-05-22T12:54:55.237622Z",
     "iopub.status.busy": "2024-05-22T12:54:55.237462Z",
     "iopub.status.idle": "2024-05-22T12:54:55.616287Z",
     "shell.execute_reply": "2024-05-22T12:54:55.615764Z",
     "shell.execute_reply.started": "2024-05-22T12:54:55.237600Z"
    }
   },
   "outputs": [],
   "source": [
    "# General modules\n",
    "import sys\n",
    "import os\n",
    "import session_info\n",
    "import warnings\n",
    "from pyprojroot.here import here\n",
    "import glob\n",
    "import pandas as pd\n",
    "import numpy as np\n",
    "import pickle\n",
    "\n",
    "# Setting some parameters\n",
    "warnings.filterwarnings(\"ignore\")\n",
    "sys.path.insert(1, str(here('bin')))\n",
    "\n",
    "# Import custom functions\n",
    "from customPythonFunctions import generate_split_dir\n",
    "\n",
    "\n",
    "#plt.style.use(['science','nature','no-latex'])\n",
    "dpi_fig_save = 300\n",
    "\n",
    "overwriteFigures = True\n",
    "overwriteData = True"
   ]
  },
  {
   "cell_type": "markdown",
   "metadata": {},
   "source": [
    "**Loading annotation pkl**"
   ]
  },
  {
   "cell_type": "code",
   "execution_count": 2,
   "metadata": {
    "execution": {
     "iopub.execute_input": "2024-05-22T12:54:55.617229Z",
     "iopub.status.busy": "2024-05-22T12:54:55.616951Z",
     "iopub.status.idle": "2024-05-22T12:54:55.619629Z",
     "shell.execute_reply": "2024-05-22T12:54:55.619262Z",
     "shell.execute_reply.started": "2024-05-22T12:54:55.617207Z"
    }
   },
   "outputs": [],
   "source": [
    "step = \"Step2\"\n",
    "next_step = \"Step3new\""
   ]
  },
  {
   "cell_type": "code",
   "execution_count": 3,
   "metadata": {
    "execution": {
     "iopub.execute_input": "2024-05-22T12:54:55.621196Z",
     "iopub.status.busy": "2024-05-22T12:54:55.620967Z",
     "iopub.status.idle": "2024-05-22T12:54:55.628754Z",
     "shell.execute_reply": "2024-05-22T12:54:55.628360Z",
     "shell.execute_reply.started": "2024-05-22T12:54:55.621179Z"
    }
   },
   "outputs": [],
   "source": [
    "annotation_col_name = 'annotation_step_2'"
   ]
  },
  {
   "cell_type": "code",
   "execution_count": 4,
   "metadata": {
    "execution": {
     "iopub.execute_input": "2024-05-22T12:54:55.629569Z",
     "iopub.status.busy": "2024-05-22T12:54:55.629284Z",
     "iopub.status.idle": "2024-05-22T12:54:55.667379Z",
     "shell.execute_reply": "2024-05-22T12:54:55.667018Z",
     "shell.execute_reply.started": "2024-05-22T12:54:55.629549Z"
    }
   },
   "outputs": [],
   "source": [
    "file_paths = glob.glob(str(here(f\"02_fromCellLineages_to_CellTypes/{step}/*/results/INFLAMMATION_cluster_res*_annotated.pkl\")))\n",
    "# Load and concatenate all files into a single column DataFrame"
   ]
  },
  {
   "cell_type": "code",
   "execution_count": 5,
   "metadata": {
    "execution": {
     "iopub.execute_input": "2024-05-22T12:54:55.668078Z",
     "iopub.status.busy": "2024-05-22T12:54:55.667859Z",
     "iopub.status.idle": "2024-05-22T12:54:57.346839Z",
     "shell.execute_reply": "2024-05-22T12:54:57.346372Z",
     "shell.execute_reply.started": "2024-05-22T12:54:55.668062Z"
    }
   },
   "outputs": [
    {
     "name": "stdout",
     "output_type": "stream",
     "text": [
      "/scratch_isilon/groups/singlecell/shared/projects/Inflammation-PBMCs-Atlas/02_cell_annotation/02_fromCellLineages_to_CellTypes/Step2/pDC/results/INFLAMMATION_cluster_res0.75_annotated.pkl\n",
      "{'pDC', 'Platelets'}\n",
      "/scratch_isilon/groups/singlecell/shared/projects/Inflammation-PBMCs-Atlas/02_cell_annotation/02_fromCellLineages_to_CellTypes/Step2/NK/results/INFLAMMATION_cluster_res0.25_annotated.pkl\n",
      "{'T_NonNaive', 'RBC', 'NK'}\n",
      "/scratch_isilon/groups/singlecell/shared/projects/Inflammation-PBMCs-Atlas/02_cell_annotation/02_fromCellLineages_to_CellTypes/Step2/T_NK_Proliferative/results/INFLAMMATION_cluster_res0.25_annotated.pkl\n",
      "{'T_NonNaive', 'Doublets_Step2', 'NK'}\n",
      "/scratch_isilon/groups/singlecell/shared/projects/Inflammation-PBMCs-Atlas/02_cell_annotation/02_fromCellLineages_to_CellTypes/Step2/DC/results/INFLAMMATION_cluster_res0.75_annotated.pkl\n",
      "{'DC', 'Doublets_Step2', 'LowQuality_cells'}\n",
      "/scratch_isilon/groups/singlecell/shared/projects/Inflammation-PBMCs-Atlas/02_cell_annotation/02_fromCellLineages_to_CellTypes/Step2/HSC/results/INFLAMMATION_cluster_res0.5_annotated.pkl\n",
      "{'LowQuality_cells', 'B', 'T_Naive', 'HSC'}\n",
      "/scratch_isilon/groups/singlecell/shared/projects/Inflammation-PBMCs-Atlas/02_cell_annotation/02_fromCellLineages_to_CellTypes/Step2/Plasma/results/INFLAMMATION_cluster_res0.1_annotated.pkl\n",
      "{'Plasma', 'LowQuality_cells'}\n",
      "/scratch_isilon/groups/singlecell/shared/projects/Inflammation-PBMCs-Atlas/02_cell_annotation/02_fromCellLineages_to_CellTypes/Step2/Mono/results/INFLAMMATION_cluster_res0.5_annotated.pkl\n",
      "{'Platelets', 'LowQuality_cells', 'Mono'}\n",
      "/scratch_isilon/groups/singlecell/shared/projects/Inflammation-PBMCs-Atlas/02_cell_annotation/02_fromCellLineages_to_CellTypes/Step2/T/results/INFLAMMATION_cluster_res0.5_annotated.pkl\n",
      "{'T_NonNaive', 'T_Naive', 'Doublets_Step2'}\n",
      "/scratch_isilon/groups/singlecell/shared/projects/Inflammation-PBMCs-Atlas/02_cell_annotation/02_fromCellLineages_to_CellTypes/Step2/Doublets_Step1/results/INFLAMMATION_cluster_res0.1_annotated.pkl\n",
      "{'RBC', 'Doublets'}\n",
      "/scratch_isilon/groups/singlecell/shared/projects/Inflammation-PBMCs-Atlas/02_cell_annotation/02_fromCellLineages_to_CellTypes/Step2/B/results/INFLAMMATION_cluster_res0.25_annotated.pkl\n",
      "{'B', 'RBC', 'Plasma', 'LowQuality_cells'}\n"
     ]
    }
   ],
   "source": [
    "for file_path in file_paths: \n",
    "    print(file_path)\n",
    "    clusterAnnotDF = pd.read_pickle(file_path)\n",
    "    print(set(clusterAnnotDF[annotation_col_name]))"
   ]
  },
  {
   "cell_type": "code",
   "execution_count": 6,
   "metadata": {
    "execution": {
     "iopub.execute_input": "2024-05-22T12:54:57.347818Z",
     "iopub.status.busy": "2024-05-22T12:54:57.347564Z",
     "iopub.status.idle": "2024-05-22T12:54:57.954128Z",
     "shell.execute_reply": "2024-05-22T12:54:57.953665Z",
     "shell.execute_reply.started": "2024-05-22T12:54:57.347799Z"
    }
   },
   "outputs": [],
   "source": [
    "clusterAnnotDF = pd.concat([pd.read_pickle(file_path) for file_path in file_paths], axis=0)"
   ]
  },
  {
   "cell_type": "code",
   "execution_count": 7,
   "metadata": {
    "execution": {
     "iopub.execute_input": "2024-05-22T12:54:57.954945Z",
     "iopub.status.busy": "2024-05-22T12:54:57.954767Z",
     "iopub.status.idle": "2024-05-22T12:54:57.959468Z",
     "shell.execute_reply": "2024-05-22T12:54:57.959087Z",
     "shell.execute_reply.started": "2024-05-22T12:54:57.954925Z"
    }
   },
   "outputs": [
    {
     "name": "stdout",
     "output_type": "stream",
     "text": [
      "                                       annotation_step_2\n",
      "cellID                                                  \n",
      "SCGT00_L051_I53.3P_T0_AACCAACGTGGGATTG               pDC\n",
      "SCGT00_L051_I58.3P_T0_ACCTGAAAGTGCCAGA               pDC\n",
      "SCGT00_L051_I53.3P_T0_ACTATGGAGGCGCTCT               pDC\n",
      "SCGT00_L051_I55.3P_T0_ACTTTCACATGGGTTT               pDC\n",
      "SCGT00_L051_I52.3P_T0_ATCACAGTCATCGGGC               pDC\n"
     ]
    }
   ],
   "source": [
    "print(clusterAnnotDF.head())"
   ]
  },
  {
   "cell_type": "code",
   "execution_count": 8,
   "metadata": {
    "execution": {
     "iopub.execute_input": "2024-05-22T12:54:57.960172Z",
     "iopub.status.busy": "2024-05-22T12:54:57.960004Z",
     "iopub.status.idle": "2024-05-22T12:54:58.314206Z",
     "shell.execute_reply": "2024-05-22T12:54:58.313610Z",
     "shell.execute_reply.started": "2024-05-22T12:54:57.960147Z"
    }
   },
   "outputs": [
    {
     "data": {
      "text/plain": [
       "{'B',\n",
       " 'DC',\n",
       " 'Doublets',\n",
       " 'Doublets_Step2',\n",
       " 'HSC',\n",
       " 'LowQuality_cells',\n",
       " 'Mono',\n",
       " 'NK',\n",
       " 'Plasma',\n",
       " 'Platelets',\n",
       " 'RBC',\n",
       " 'T_Naive',\n",
       " 'T_NonNaive',\n",
       " 'pDC'}"
      ]
     },
     "execution_count": 8,
     "metadata": {},
     "output_type": "execute_result"
    }
   ],
   "source": [
    "set(clusterAnnotDF[annotation_col_name])"
   ]
  },
  {
   "cell_type": "code",
   "execution_count": 9,
   "metadata": {
    "execution": {
     "iopub.execute_input": "2024-05-22T12:54:58.315400Z",
     "iopub.status.busy": "2024-05-22T12:54:58.314985Z",
     "iopub.status.idle": "2024-05-22T12:54:58.321698Z",
     "shell.execute_reply": "2024-05-22T12:54:58.321206Z",
     "shell.execute_reply.started": "2024-05-22T12:54:58.315377Z"
    }
   },
   "outputs": [
    {
     "name": "stdout",
     "output_type": "stream",
     "text": [
      "(4900655, 1)\n"
     ]
    }
   ],
   "source": [
    "print(clusterAnnotDF.shape)"
   ]
  },
  {
   "cell_type": "code",
   "execution_count": 10,
   "metadata": {
    "execution": {
     "iopub.execute_input": "2024-05-22T12:54:58.322680Z",
     "iopub.status.busy": "2024-05-22T12:54:58.322318Z",
     "iopub.status.idle": "2024-05-22T12:55:00.473519Z",
     "shell.execute_reply": "2024-05-22T12:55:00.472872Z",
     "shell.execute_reply.started": "2024-05-22T12:54:58.322662Z"
    }
   },
   "outputs": [],
   "source": [
    "clusterAnnotDF.to_pickle(here(f\"02_fromCellLineages_to_CellTypes/{step}/{step}_clusterAnnotDF.pkl\"))"
   ]
  },
  {
   "cell_type": "markdown",
   "metadata": {},
   "source": [
    "**Updating master annotation DF**"
   ]
  },
  {
   "cell_type": "code",
   "execution_count": 11,
   "metadata": {
    "execution": {
     "iopub.execute_input": "2024-05-22T12:55:00.474512Z",
     "iopub.status.busy": "2024-05-22T12:55:00.474343Z",
     "iopub.status.idle": "2024-05-22T12:55:01.036387Z",
     "shell.execute_reply": "2024-05-22T12:55:01.035904Z",
     "shell.execute_reply.started": "2024-05-22T12:55:00.474495Z"
    }
   },
   "outputs": [],
   "source": [
    "master_AnnotDFpath = str(here(\"02_fromCellLineages_to_CellTypes/master_clusterAnnotDF.pkl\"))\n",
    "master_AnnotDF = pd.read_pickle(master_AnnotDFpath)"
   ]
  },
  {
   "cell_type": "code",
   "execution_count": 12,
   "metadata": {
    "execution": {
     "iopub.execute_input": "2024-05-22T12:55:01.038689Z",
     "iopub.status.busy": "2024-05-22T12:55:01.038511Z",
     "iopub.status.idle": "2024-05-22T12:55:05.409700Z",
     "shell.execute_reply": "2024-05-22T12:55:05.409048Z",
     "shell.execute_reply.started": "2024-05-22T12:55:01.038668Z"
    }
   },
   "outputs": [],
   "source": [
    "last_column_name = master_AnnotDF.columns[-1]\n",
    "master_AnnotDF[annotation_col_name] = master_AnnotDF[last_column_name]\n",
    "master_AnnotDF[annotation_col_name].update(clusterAnnotDF[annotation_col_name])"
   ]
  },
  {
   "cell_type": "code",
   "execution_count": 13,
   "metadata": {
    "execution": {
     "iopub.execute_input": "2024-05-22T12:55:05.410644Z",
     "iopub.status.busy": "2024-05-22T12:55:05.410484Z",
     "iopub.status.idle": "2024-05-22T12:55:05.414549Z",
     "shell.execute_reply": "2024-05-22T12:55:05.414079Z",
     "shell.execute_reply.started": "2024-05-22T12:55:05.410627Z"
    }
   },
   "outputs": [
    {
     "name": "stdout",
     "output_type": "stream",
     "text": [
      "                                       annotation_step_1 annotation_step_2\n",
      "cellID                                                                    \n",
      "SCGT00_L051_I53.3P_T0_AACCAACGTGGGATTG               pDC               pDC\n",
      "SCGT00_L051_I58.3P_T0_ACCTGAAAGTGCCAGA               pDC               pDC\n",
      "SCGT00_L051_I53.3P_T0_ACTATGGAGGCGCTCT               pDC               pDC\n",
      "SCGT00_L051_I55.3P_T0_ACTTTCACATGGGTTT               pDC               pDC\n",
      "SCGT00_L051_I52.3P_T0_ATCACAGTCATCGGGC               pDC               pDC\n"
     ]
    }
   ],
   "source": [
    "print(master_AnnotDF.head())"
   ]
  },
  {
   "cell_type": "code",
   "execution_count": 14,
   "metadata": {
    "execution": {
     "iopub.execute_input": "2024-05-22T12:55:05.415484Z",
     "iopub.status.busy": "2024-05-22T12:55:05.415327Z",
     "iopub.status.idle": "2024-05-22T12:55:05.426709Z",
     "shell.execute_reply": "2024-05-22T12:55:05.426218Z",
     "shell.execute_reply.started": "2024-05-22T12:55:05.415467Z"
    }
   },
   "outputs": [
    {
     "name": "stdout",
     "output_type": "stream",
     "text": [
      "(4918140, 2)\n"
     ]
    }
   ],
   "source": [
    "print(master_AnnotDF.shape)"
   ]
  },
  {
   "cell_type": "code",
   "execution_count": 15,
   "metadata": {
    "execution": {
     "iopub.execute_input": "2024-05-22T12:55:05.427600Z",
     "iopub.status.busy": "2024-05-22T12:55:05.427441Z",
     "iopub.status.idle": "2024-05-22T12:55:05.762985Z",
     "shell.execute_reply": "2024-05-22T12:55:05.762559Z",
     "shell.execute_reply.started": "2024-05-22T12:55:05.427584Z"
    }
   },
   "outputs": [
    {
     "data": {
      "text/plain": [
       "{'B',\n",
       " 'DC',\n",
       " 'Doublets',\n",
       " 'Doublets_Step2',\n",
       " 'HSC',\n",
       " 'LowQuality_cells',\n",
       " 'Mono',\n",
       " 'NK',\n",
       " 'Plasma',\n",
       " 'Platelets',\n",
       " 'RBC',\n",
       " 'T_Naive',\n",
       " 'T_NonNaive',\n",
       " 'pDC'}"
      ]
     },
     "execution_count": 15,
     "metadata": {},
     "output_type": "execute_result"
    }
   ],
   "source": [
    "set(master_AnnotDF[annotation_col_name])"
   ]
  },
  {
   "cell_type": "code",
   "execution_count": 16,
   "metadata": {
    "execution": {
     "iopub.execute_input": "2024-05-22T12:55:05.763829Z",
     "iopub.status.busy": "2024-05-22T12:55:05.763660Z",
     "iopub.status.idle": "2024-05-22T12:55:07.954920Z",
     "shell.execute_reply": "2024-05-22T12:55:07.954403Z",
     "shell.execute_reply.started": "2024-05-22T12:55:05.763811Z"
    }
   },
   "outputs": [],
   "source": [
    "master_AnnotDF.to_pickle(here(f\"02_fromCellLineages_to_CellTypes/master_clusterAnnotDF.pkl\"))"
   ]
  },
  {
   "cell_type": "markdown",
   "metadata": {},
   "source": [
    "# Split Lineages"
   ]
  },
  {
   "cell_type": "code",
   "execution_count": 17,
   "metadata": {
    "execution": {
     "iopub.execute_input": "2024-05-22T12:55:07.955791Z",
     "iopub.status.busy": "2024-05-22T12:55:07.955623Z",
     "iopub.status.idle": "2024-05-22T12:55:07.958525Z",
     "shell.execute_reply": "2024-05-22T12:55:07.958142Z",
     "shell.execute_reply.started": "2024-05-22T12:55:07.955772Z"
    }
   },
   "outputs": [],
   "source": [
    "annotation_col_name = 'annotation_step_2'\n",
    "not_interesting_categories = [\"LowQuality_cells\", \"RBC\", \"Platelets\", \"Doublets\"]\n",
    "finished_categories = []"
   ]
  },
  {
   "cell_type": "code",
   "execution_count": 18,
   "metadata": {
    "execution": {
     "iopub.execute_input": "2024-05-22T12:55:07.959182Z",
     "iopub.status.busy": "2024-05-22T12:55:07.959026Z",
     "iopub.status.idle": "2024-05-22T12:55:08.188720Z",
     "shell.execute_reply": "2024-05-22T12:55:08.188281Z",
     "shell.execute_reply.started": "2024-05-22T12:55:07.959166Z"
    }
   },
   "outputs": [
    {
     "name": "stdout",
     "output_type": "stream",
     "text": [
      "annotation_step_2\n",
      "T_NonNaive          1594678\n",
      "T_Naive             1084369\n",
      "Mono                1063880\n",
      "NK                   390379\n",
      "B                    357861\n",
      "Doublets             206502\n",
      "Platelets             66737\n",
      "DC                    47276\n",
      "Doublets_Step2        44943\n",
      "pDC                   22902\n",
      "Plasma                20628\n",
      "LowQuality_cells      10322\n",
      "HSC                    5178\n",
      "RBC                    2485\n",
      "dtype: int64\n"
     ]
    }
   ],
   "source": [
    "cell_counts = master_AnnotDF.groupby(annotation_col_name).size().sort_values(ascending=False)\n",
    "print(cell_counts)"
   ]
  },
  {
   "cell_type": "code",
   "execution_count": 19,
   "metadata": {
    "execution": {
     "iopub.execute_input": "2024-05-22T12:55:08.189530Z",
     "iopub.status.busy": "2024-05-22T12:55:08.189368Z",
     "iopub.status.idle": "2024-05-22T12:55:08.193404Z",
     "shell.execute_reply": "2024-05-22T12:55:08.193030Z",
     "shell.execute_reply.started": "2024-05-22T12:55:08.189511Z"
    }
   },
   "outputs": [
    {
     "name": "stdout",
     "output_type": "stream",
     "text": [
      "We are removing a total of 286046 cells\n",
      "LowQuality_cells: 10322 cells removed\n",
      "RBC: 2485 cells removed\n",
      "Platelets: 66737 cells removed\n",
      "Doublets: 206502 cells removed\n"
     ]
    }
   ],
   "source": [
    "total_cells_to_remove = cell_counts.loc[not_interesting_categories].sum()\n",
    "print(f\"We are removing a total of {total_cells_to_remove} cells\")\n",
    "for category in not_interesting_categories:\n",
    "    cells_removed = cell_counts.loc[category]\n",
    "    print(f\"{category}: {cells_removed} cells removed\")"
   ]
  },
  {
   "cell_type": "code",
   "execution_count": 20,
   "metadata": {
    "execution": {
     "iopub.execute_input": "2024-05-22T12:55:08.194204Z",
     "iopub.status.busy": "2024-05-22T12:55:08.193889Z",
     "iopub.status.idle": "2024-05-22T12:55:08.204801Z",
     "shell.execute_reply": "2024-05-22T12:55:08.204446Z",
     "shell.execute_reply.started": "2024-05-22T12:55:08.194186Z"
    }
   },
   "outputs": [
    {
     "name": "stdout",
     "output_type": "stream",
     "text": [
      "We have finished a total of 0 cells\n"
     ]
    }
   ],
   "source": [
    "total_cells_finished = cell_counts.loc[finished_categories].sum()\n",
    "print(f\"We have finished a total of {total_cells_finished} cells\")\n",
    "for category in finished_categories:\n",
    "    cells_finished = cell_counts.loc[category]\n",
    "    print(f\"{category}: {cells_finished} cells finished\")"
   ]
  },
  {
   "cell_type": "code",
   "execution_count": 21,
   "metadata": {
    "execution": {
     "iopub.execute_input": "2024-05-22T12:55:08.205433Z",
     "iopub.status.busy": "2024-05-22T12:55:08.205290Z",
     "iopub.status.idle": "2024-05-22T12:55:08.214513Z",
     "shell.execute_reply": "2024-05-22T12:55:08.214167Z",
     "shell.execute_reply.started": "2024-05-22T12:55:08.205418Z"
    }
   },
   "outputs": [
    {
     "name": "stdout",
     "output_type": "stream",
     "text": [
      "We are still missing a total of 4632094 cells\n",
      "B: 357861 cells missing\n",
      "DC: 47276 cells missing\n",
      "Doublets_Step2: 44943 cells missing\n",
      "HSC: 5178 cells missing\n",
      "Mono: 1063880 cells missing\n",
      "NK: 390379 cells missing\n",
      "Plasma: 20628 cells missing\n",
      "T_Naive: 1084369 cells missing\n",
      "T_NonNaive: 1594678 cells missing\n",
      "pDC: 22902 cells missing\n"
     ]
    }
   ],
   "source": [
    "next_step_categories = cell_counts.index.difference(set(finished_categories).union(set(not_interesting_categories)))\n",
    "total_cells_of_interest = cell_counts.loc[next_step_categories].sum()\n",
    "print(f\"We are still missing a total of {total_cells_of_interest} cells\")\n",
    "for category in next_step_categories:\n",
    "    cells_missing = cell_counts.loc[category]\n",
    "    print(f\"{category}: {cells_missing} cells missing\")"
   ]
  },
  {
   "cell_type": "code",
   "execution_count": 22,
   "metadata": {
    "execution": {
     "iopub.execute_input": "2024-05-22T12:55:08.215123Z",
     "iopub.status.busy": "2024-05-22T12:55:08.214980Z",
     "iopub.status.idle": "2024-05-22T12:55:08.400380Z",
     "shell.execute_reply": "2024-05-22T12:55:08.399933Z",
     "shell.execute_reply.started": "2024-05-22T12:55:08.215108Z"
    }
   },
   "outputs": [
    {
     "data": {
      "text/plain": [
       "array(['pDC', 'Doublets_Step2', 'LowQuality_cells', 'Doublets',\n",
       "       'Platelets', 'DC', 'Mono', 'RBC', 'T_NonNaive', 'T_Naive', 'NK',\n",
       "       'Plasma', 'B', 'HSC'], dtype=object)"
      ]
     },
     "execution_count": 22,
     "metadata": {},
     "output_type": "execute_result"
    }
   ],
   "source": [
    "master_AnnotDF[annotation_col_name].unique()"
   ]
  },
  {
   "cell_type": "raw",
   "metadata": {
    "execution": {
     "iopub.execute_input": "2024-05-03T06:09:11.981819Z",
     "iopub.status.busy": "2024-05-03T06:09:11.981656Z",
     "iopub.status.idle": "2024-05-03T06:09:12.440317Z",
     "shell.execute_reply": "2024-05-03T06:09:12.439901Z",
     "shell.execute_reply.started": "2024-05-03T06:09:11.981800Z"
    }
   },
   "source": [
    "template_path = here('01_fromDatasets_to_CellLineages/template')\n",
    "template_notebook_list = [str(template_path) + '/' + f for f in os.listdir(template_path) if f.endswith('.ipynb')]\n",
    "\n",
    "annotation_path = str(here(f\"02_fromCellLineages_to_CellTypes/{step}/{step}_clusterAnnotDF.pkl\"))\n",
    "targetdir = str(here(f'02_fromCellLineages_to_CellTypes/{next_step}'))\n",
    "os.makedirs(targetdir)\n",
    "\n",
    "for cellGroup in master_AnnotDF[annotation_col_name].unique():\n",
    "    if cellGroup in next_step_categories: \n",
    "        print(cellGroup)\n",
    "        # Generate the directory tree\n",
    "        os.makedirs(here('{}/{}/results/figures'.format(targetdir, cellGroup)), exist_ok=False)\n",
    "        for template_notebook in template_notebook_list:\n",
    "            generate_split_dir(cellGroup = cellGroup, \n",
    "                               annotationPath = annotation_path, \n",
    "                               targetDir = targetdir, \n",
    "                               annotation_col_name = annotation_col_name,\n",
    "                               templateNotebook = template_notebook)\n",
    "    else: \n",
    "        print(f\"Skipping {cellGroup}\")"
   ]
  },
  {
   "cell_type": "code",
   "execution_count": 23,
   "metadata": {
    "execution": {
     "iopub.execute_input": "2024-05-22T12:55:08.401173Z",
     "iopub.status.busy": "2024-05-22T12:55:08.401012Z",
     "iopub.status.idle": "2024-05-22T12:55:08.902584Z",
     "shell.execute_reply": "2024-05-22T12:55:08.902174Z",
     "shell.execute_reply.started": "2024-05-22T12:55:08.401150Z"
    }
   },
   "outputs": [
    {
     "data": {
      "text/html": [
       "<details>\n",
       "<summary>Click to view session information</summary>\n",
       "<pre>\n",
       "-----\n",
       "customPythonFunctions       NA\n",
       "numpy                       1.26.4\n",
       "pandas                      2.2.0\n",
       "pyprojroot                  NA\n",
       "session_info                1.0.0\n",
       "-----\n",
       "</pre>\n",
       "<details>\n",
       "<summary>Click to view modules imported as dependencies</summary>\n",
       "<pre>\n",
       "anyio                       NA\n",
       "argcomplete                 NA\n",
       "arrow                       1.3.0\n",
       "asttokens                   NA\n",
       "attr                        23.2.0\n",
       "attrs                       23.2.0\n",
       "babel                       2.14.0\n",
       "brotli                      1.1.0\n",
       "certifi                     2024.02.02\n",
       "charset_normalizer          3.3.2\n",
       "colorama                    0.4.6\n",
       "comm                        0.2.1\n",
       "cython_runtime              NA\n",
       "dateutil                    2.8.2\n",
       "debugpy                     1.8.1\n",
       "decorator                   5.1.1\n",
       "exceptiongroup              1.2.0\n",
       "executing                   2.0.1\n",
       "fastjsonschema              NA\n",
       "fqdn                        NA\n",
       "idna                        3.6\n",
       "ipykernel                   6.29.2\n",
       "isoduration                 NA\n",
       "jedi                        0.19.1\n",
       "jinja2                      3.1.3\n",
       "json5                       NA\n",
       "jsonpointer                 2.4\n",
       "jsonschema                  4.21.1\n",
       "jsonschema_specifications   NA\n",
       "jupyter_events              0.9.0\n",
       "jupyter_server              2.12.5\n",
       "jupyterlab_server           2.25.3\n",
       "markupsafe                  2.1.5\n",
       "nbformat                    5.9.2\n",
       "overrides                   NA\n",
       "packaging                   23.2\n",
       "parso                       0.8.3\n",
       "pickleshare                 0.7.5\n",
       "platformdirs                4.2.0\n",
       "prometheus_client           NA\n",
       "prompt_toolkit              3.0.42\n",
       "psutil                      5.9.8\n",
       "pure_eval                   0.2.2\n",
       "pyarrow                     15.0.0\n",
       "pydev_ipython               NA\n",
       "pydevconsole                NA\n",
       "pydevd                      2.9.5\n",
       "pydevd_file_utils           NA\n",
       "pydevd_plugins              NA\n",
       "pydevd_tracing              NA\n",
       "pygments                    2.17.2\n",
       "pythonjsonlogger            NA\n",
       "pytz                        2024.1\n",
       "referencing                 NA\n",
       "requests                    2.31.0\n",
       "rfc3339_validator           0.1.4\n",
       "rfc3986_validator           0.1.1\n",
       "rpds                        NA\n",
       "send2trash                  NA\n",
       "simplejson                  3.19.2\n",
       "six                         1.16.0\n",
       "sniffio                     1.3.0\n",
       "socks                       1.7.1\n",
       "stack_data                  0.6.2\n",
       "tornado                     6.4\n",
       "traitlets                   5.14.1\n",
       "typing_extensions           NA\n",
       "uri_template                NA\n",
       "urllib3                     2.2.1\n",
       "wcwidth                     0.2.13\n",
       "webcolors                   1.13\n",
       "websocket                   1.7.0\n",
       "yaml                        6.0.1\n",
       "zmq                         25.1.2\n",
       "zoneinfo                    NA\n",
       "zstandard                   0.22.0\n",
       "</pre>\n",
       "</details> <!-- seems like this ends pre, so might as well be explicit -->\n",
       "<pre>\n",
       "-----\n",
       "IPython             8.21.0\n",
       "jupyter_client      8.6.0\n",
       "jupyter_core        5.7.1\n",
       "jupyterlab          4.1.2\n",
       "-----\n",
       "Python 3.10.13 | packaged by conda-forge | (main, Dec 23 2023, 15:36:39) [GCC 12.3.0]\n",
       "Linux-3.10.0-1160.88.1.el7.x86_64-x86_64-with-glibc2.17\n",
       "-----\n",
       "Session information updated at 2024-05-22 14:55\n",
       "</pre>\n",
       "</details>"
      ],
      "text/plain": [
       "<IPython.core.display.HTML object>"
      ]
     },
     "execution_count": 23,
     "metadata": {},
     "output_type": "execute_result"
    }
   ],
   "source": [
    "session_info.show()"
   ]
  },
  {
   "cell_type": "code",
   "execution_count": null,
   "metadata": {},
   "outputs": [],
   "source": []
  }
 ],
 "metadata": {
  "kernelspec": {
   "display_name": "Python 3 (ipykernel)",
   "language": "python",
   "name": "python3"
  },
  "language_info": {
   "codemirror_mode": {
    "name": "ipython",
    "version": 3
   },
   "file_extension": ".py",
   "mimetype": "text/x-python",
   "name": "python",
   "nbconvert_exporter": "python",
   "pygments_lexer": "ipython3",
   "version": "3.10.13"
  },
  "toc": {
   "base_numbering": 1,
   "nav_menu": {},
   "number_sections": true,
   "sideBar": true,
   "skip_h1_title": false,
   "title_cell": "Table of Contents",
   "title_sidebar": "Contents",
   "toc_cell": false,
   "toc_position": {},
   "toc_section_display": true,
   "toc_window_display": false
  }
 },
 "nbformat": 4,
 "nbformat_minor": 4
}
