{
 "cells": [
  {
   "cell_type": "code",
   "execution_count": 1,
   "metadata": {
    "execution": {
     "iopub.execute_input": "2024-05-22T12:55:43.025208Z",
     "iopub.status.busy": "2024-05-22T12:55:43.025044Z",
     "iopub.status.idle": "2024-05-22T12:55:43.472656Z",
     "shell.execute_reply": "2024-05-22T12:55:43.472065Z",
     "shell.execute_reply.started": "2024-05-22T12:55:43.025187Z"
    }
   },
   "outputs": [],
   "source": [
    "# General modules\n",
    "import sys\n",
    "import os\n",
    "import session_info\n",
    "import warnings\n",
    "from pyprojroot.here import here\n",
    "import glob\n",
    "import pandas as pd\n",
    "import numpy as np\n",
    "import pickle\n",
    "\n",
    "# Setting some parameters\n",
    "warnings.filterwarnings(\"ignore\")\n",
    "sys.path.insert(1, str(here('bin')))\n",
    "\n",
    "# Import custom functions\n",
    "from customPythonFunctions import generate_split_dir\n",
    "\n",
    "\n",
    "#plt.style.use(['science','nature','no-latex'])\n",
    "dpi_fig_save = 300\n",
    "\n",
    "overwriteFigures = True\n",
    "overwriteData = True"
   ]
  },
  {
   "cell_type": "markdown",
   "metadata": {},
   "source": [
    "**Loading annotation pkl**"
   ]
  },
  {
   "cell_type": "code",
   "execution_count": 2,
   "metadata": {
    "execution": {
     "iopub.execute_input": "2024-05-22T12:55:43.473642Z",
     "iopub.status.busy": "2024-05-22T12:55:43.473372Z",
     "iopub.status.idle": "2024-05-22T12:55:43.475882Z",
     "shell.execute_reply": "2024-05-22T12:55:43.475512Z",
     "shell.execute_reply.started": "2024-05-22T12:55:43.473623Z"
    }
   },
   "outputs": [],
   "source": [
    "step = \"Step3\"\n",
    "next_step = \"Step4\""
   ]
  },
  {
   "cell_type": "code",
   "execution_count": 3,
   "metadata": {
    "execution": {
     "iopub.execute_input": "2024-05-22T12:55:43.477448Z",
     "iopub.status.busy": "2024-05-22T12:55:43.477210Z",
     "iopub.status.idle": "2024-05-22T12:55:43.486099Z",
     "shell.execute_reply": "2024-05-22T12:55:43.485711Z",
     "shell.execute_reply.started": "2024-05-22T12:55:43.477432Z"
    }
   },
   "outputs": [],
   "source": [
    "annotation_col_name = 'annotation_step_3'"
   ]
  },
  {
   "cell_type": "code",
   "execution_count": 4,
   "metadata": {
    "execution": {
     "iopub.execute_input": "2024-05-22T12:55:43.486963Z",
     "iopub.status.busy": "2024-05-22T12:55:43.486669Z",
     "iopub.status.idle": "2024-05-22T12:55:43.525492Z",
     "shell.execute_reply": "2024-05-22T12:55:43.525138Z",
     "shell.execute_reply.started": "2024-05-22T12:55:43.486946Z"
    }
   },
   "outputs": [],
   "source": [
    "file_paths = glob.glob(str(here(f\"02_fromCellLineages_to_CellTypes/{step}/*/results/INFLAMMATION_cluster_res*_annotated.pkl\")))\n",
    "# Load and concatenate all files into a single column DataFrame"
   ]
  },
  {
   "cell_type": "code",
   "execution_count": 5,
   "metadata": {
    "execution": {
     "iopub.execute_input": "2024-05-22T12:55:43.526237Z",
     "iopub.status.busy": "2024-05-22T12:55:43.525971Z",
     "iopub.status.idle": "2024-05-22T12:55:45.360177Z",
     "shell.execute_reply": "2024-05-22T12:55:45.359508Z",
     "shell.execute_reply.started": "2024-05-22T12:55:43.526222Z"
    }
   },
   "outputs": [
    {
     "name": "stdout",
     "output_type": "stream",
     "text": [
      "/scratch_isilon/groups/singlecell/shared/projects/Inflammation-PBMCs-Atlas/02_cell_annotation/02_fromCellLineages_to_CellTypes/Step3/T_NonNaive/results/INFLAMMATION_cluster_res0.25_annotated.pkl\n",
      "{'T_CD4_NonNaive', 'T_Proliferative', 'LowQuality_cells', 'T_CD8_NonNaive'}\n",
      "/scratch_isilon/groups/singlecell/shared/projects/Inflammation-PBMCs-Atlas/02_cell_annotation/02_fromCellLineages_to_CellTypes/Step3/pDC/results/INFLAMMATION_cluster_res0.1_annotated.pkl\n",
      "{'pDC'}\n",
      "/scratch_isilon/groups/singlecell/shared/projects/Inflammation-PBMCs-Atlas/02_cell_annotation/02_fromCellLineages_to_CellTypes/Step3/NK/results/INFLAMMATION_cluster_res0.25_annotated.pkl\n",
      "{'NK_Proliferative', 'NK'}\n",
      "/scratch_isilon/groups/singlecell/shared/projects/Inflammation-PBMCs-Atlas/02_cell_annotation/02_fromCellLineages_to_CellTypes/Step3/DC/results/INFLAMMATION_cluster_res0.1_annotated.pkl\n",
      "{'DC'}\n",
      "/scratch_isilon/groups/singlecell/shared/projects/Inflammation-PBMCs-Atlas/02_cell_annotation/02_fromCellLineages_to_CellTypes/Step3/HSC/results/INFLAMMATION_cluster_res0.25_annotated.pkl\n",
      "{'HSC_MEMP', 'HSC_LMP', 'HSC_MMP'}\n",
      "/scratch_isilon/groups/singlecell/shared/projects/Inflammation-PBMCs-Atlas/02_cell_annotation/02_fromCellLineages_to_CellTypes/Step3/Plasma/results/INFLAMMATION_cluster_res0.1_annotated.pkl\n",
      "{'Doublets', 'Plasma'}\n",
      "/scratch_isilon/groups/singlecell/shared/projects/Inflammation-PBMCs-Atlas/02_cell_annotation/02_fromCellLineages_to_CellTypes/Step3/Mono/results/INFLAMMATION_cluster_res0.1_annotated.pkl\n",
      "{'Mono'}\n",
      "/scratch_isilon/groups/singlecell/shared/projects/Inflammation-PBMCs-Atlas/02_cell_annotation/02_fromCellLineages_to_CellTypes/Step3/Doublets_Step2/results/INFLAMMATION_cluster_res0.25_annotated.pkl\n",
      "{'Doublets', 'Platelets', 'LowQuality_cells'}\n",
      "/scratch_isilon/groups/singlecell/shared/projects/Inflammation-PBMCs-Atlas/02_cell_annotation/02_fromCellLineages_to_CellTypes/Step3/T_Naive/results/INFLAMMATION_cluster_res0.75_annotated.pkl\n",
      "{'T_Naive', 'Platelets', 'T_Progenitors'}\n",
      "/scratch_isilon/groups/singlecell/shared/projects/Inflammation-PBMCs-Atlas/02_cell_annotation/02_fromCellLineages_to_CellTypes/Step3/B/results/INFLAMMATION_cluster_res0.1_annotated.pkl\n",
      "{'B', 'B_Progenitors'}\n"
     ]
    }
   ],
   "source": [
    "for file_path in file_paths: \n",
    "    print(file_path)\n",
    "    clusterAnnotDF = pd.read_pickle(file_path)\n",
    "    print(set(clusterAnnotDF[annotation_col_name]))"
   ]
  },
  {
   "cell_type": "code",
   "execution_count": 6,
   "metadata": {
    "execution": {
     "iopub.execute_input": "2024-05-22T12:55:45.361050Z",
     "iopub.status.busy": "2024-05-22T12:55:45.360882Z",
     "iopub.status.idle": "2024-05-22T12:55:45.938586Z",
     "shell.execute_reply": "2024-05-22T12:55:45.938034Z",
     "shell.execute_reply.started": "2024-05-22T12:55:45.361032Z"
    }
   },
   "outputs": [],
   "source": [
    "clusterAnnotDF = pd.concat([pd.read_pickle(file_path) for file_path in file_paths], axis=0)"
   ]
  },
  {
   "cell_type": "code",
   "execution_count": 7,
   "metadata": {
    "execution": {
     "iopub.execute_input": "2024-05-22T12:55:45.939467Z",
     "iopub.status.busy": "2024-05-22T12:55:45.939252Z",
     "iopub.status.idle": "2024-05-22T12:55:45.943953Z",
     "shell.execute_reply": "2024-05-22T12:55:45.943583Z",
     "shell.execute_reply.started": "2024-05-22T12:55:45.939447Z"
    }
   },
   "outputs": [
    {
     "name": "stdout",
     "output_type": "stream",
     "text": [
      "                                       annotation_step_3\n",
      "cellID                                                  \n",
      "SCGT00_L051_I56.3P_T0_AACGGGAGTTAAGGAT    T_CD8_NonNaive\n",
      "SCGT00_L051_I52.3P_T0_AACGTCAAGCCGAATG    T_CD8_NonNaive\n",
      "SCGT00_L051_I52.3P_T0_ACAACCAAGCTGGTGA    T_CD8_NonNaive\n",
      "SCGT00_L051_I53.3P_T0_ACATGCAGTGGACTGA    T_CD8_NonNaive\n",
      "SCGT00_L051_I52.3P_T0_ACGATCACAGAGCTAG    T_CD8_NonNaive\n"
     ]
    }
   ],
   "source": [
    "print(clusterAnnotDF.head())"
   ]
  },
  {
   "cell_type": "code",
   "execution_count": 8,
   "metadata": {
    "execution": {
     "iopub.execute_input": "2024-05-22T12:55:45.944780Z",
     "iopub.status.busy": "2024-05-22T12:55:45.944455Z",
     "iopub.status.idle": "2024-05-22T12:55:46.250064Z",
     "shell.execute_reply": "2024-05-22T12:55:46.249531Z",
     "shell.execute_reply.started": "2024-05-22T12:55:45.944762Z"
    }
   },
   "outputs": [
    {
     "data": {
      "text/plain": [
       "{'B',\n",
       " 'B_Progenitors',\n",
       " 'DC',\n",
       " 'Doublets',\n",
       " 'HSC_LMP',\n",
       " 'HSC_MEMP',\n",
       " 'HSC_MMP',\n",
       " 'LowQuality_cells',\n",
       " 'Mono',\n",
       " 'NK',\n",
       " 'NK_Proliferative',\n",
       " 'Plasma',\n",
       " 'Platelets',\n",
       " 'T_CD4_NonNaive',\n",
       " 'T_CD8_NonNaive',\n",
       " 'T_Naive',\n",
       " 'T_Progenitors',\n",
       " 'T_Proliferative',\n",
       " 'pDC'}"
      ]
     },
     "execution_count": 8,
     "metadata": {},
     "output_type": "execute_result"
    }
   ],
   "source": [
    "set(clusterAnnotDF[annotation_col_name])"
   ]
  },
  {
   "cell_type": "code",
   "execution_count": 9,
   "metadata": {
    "execution": {
     "iopub.execute_input": "2024-05-22T12:55:46.250987Z",
     "iopub.status.busy": "2024-05-22T12:55:46.250804Z",
     "iopub.status.idle": "2024-05-22T12:55:46.257698Z",
     "shell.execute_reply": "2024-05-22T12:55:46.257215Z",
     "shell.execute_reply.started": "2024-05-22T12:55:46.250966Z"
    }
   },
   "outputs": [
    {
     "name": "stdout",
     "output_type": "stream",
     "text": [
      "(4632094, 1)\n"
     ]
    }
   ],
   "source": [
    "print(clusterAnnotDF.shape)"
   ]
  },
  {
   "cell_type": "code",
   "execution_count": 10,
   "metadata": {
    "execution": {
     "iopub.execute_input": "2024-05-22T12:55:46.258484Z",
     "iopub.status.busy": "2024-05-22T12:55:46.258332Z",
     "iopub.status.idle": "2024-05-22T12:55:48.121121Z",
     "shell.execute_reply": "2024-05-22T12:55:48.120603Z",
     "shell.execute_reply.started": "2024-05-22T12:55:46.258468Z"
    }
   },
   "outputs": [],
   "source": [
    "clusterAnnotDF.to_pickle(here(f\"02_fromCellLineages_to_CellTypes/{step}/{step}_clusterAnnotDF.pkl\"))"
   ]
  },
  {
   "cell_type": "markdown",
   "metadata": {},
   "source": [
    "**Updating master annotation DF**"
   ]
  },
  {
   "cell_type": "code",
   "execution_count": 11,
   "metadata": {
    "execution": {
     "iopub.execute_input": "2024-05-22T12:55:48.122182Z",
     "iopub.status.busy": "2024-05-22T12:55:48.121806Z",
     "iopub.status.idle": "2024-05-22T12:55:48.801175Z",
     "shell.execute_reply": "2024-05-22T12:55:48.800614Z",
     "shell.execute_reply.started": "2024-05-22T12:55:48.122162Z"
    }
   },
   "outputs": [],
   "source": [
    "master_AnnotDFpath = str(here(\"02_fromCellLineages_to_CellTypes/master_clusterAnnotDF.pkl\"))\n",
    "master_AnnotDF = pd.read_pickle(master_AnnotDFpath)"
   ]
  },
  {
   "cell_type": "code",
   "execution_count": 12,
   "metadata": {
    "execution": {
     "iopub.execute_input": "2024-05-22T12:55:48.803293Z",
     "iopub.status.busy": "2024-05-22T12:55:48.803081Z",
     "iopub.status.idle": "2024-05-22T12:55:53.114031Z",
     "shell.execute_reply": "2024-05-22T12:55:53.113532Z",
     "shell.execute_reply.started": "2024-05-22T12:55:48.803275Z"
    }
   },
   "outputs": [],
   "source": [
    "last_column_name = master_AnnotDF.columns[-1]\n",
    "master_AnnotDF[annotation_col_name] = master_AnnotDF[last_column_name]\n",
    "master_AnnotDF[annotation_col_name].update(clusterAnnotDF[annotation_col_name])"
   ]
  },
  {
   "cell_type": "code",
   "execution_count": 13,
   "metadata": {
    "execution": {
     "iopub.execute_input": "2024-05-22T12:55:53.114945Z",
     "iopub.status.busy": "2024-05-22T12:55:53.114725Z",
     "iopub.status.idle": "2024-05-22T12:55:53.119097Z",
     "shell.execute_reply": "2024-05-22T12:55:53.118717Z",
     "shell.execute_reply.started": "2024-05-22T12:55:53.114921Z"
    }
   },
   "outputs": [
    {
     "name": "stdout",
     "output_type": "stream",
     "text": [
      "                                       annotation_step_1 annotation_step_2  \\\n",
      "cellID                                                                       \n",
      "SCGT00_L051_I53.3P_T0_AACCAACGTGGGATTG               pDC               pDC   \n",
      "SCGT00_L051_I58.3P_T0_ACCTGAAAGTGCCAGA               pDC               pDC   \n",
      "SCGT00_L051_I53.3P_T0_ACTATGGAGGCGCTCT               pDC               pDC   \n",
      "SCGT00_L051_I55.3P_T0_ACTTTCACATGGGTTT               pDC               pDC   \n",
      "SCGT00_L051_I52.3P_T0_ATCACAGTCATCGGGC               pDC               pDC   \n",
      "\n",
      "                                       annotation_step_3  \n",
      "cellID                                                    \n",
      "SCGT00_L051_I53.3P_T0_AACCAACGTGGGATTG               pDC  \n",
      "SCGT00_L051_I58.3P_T0_ACCTGAAAGTGCCAGA               pDC  \n",
      "SCGT00_L051_I53.3P_T0_ACTATGGAGGCGCTCT               pDC  \n",
      "SCGT00_L051_I55.3P_T0_ACTTTCACATGGGTTT               pDC  \n",
      "SCGT00_L051_I52.3P_T0_ATCACAGTCATCGGGC               pDC  \n"
     ]
    }
   ],
   "source": [
    "print(master_AnnotDF.head())"
   ]
  },
  {
   "cell_type": "code",
   "execution_count": 14,
   "metadata": {
    "execution": {
     "iopub.execute_input": "2024-05-22T12:55:53.119802Z",
     "iopub.status.busy": "2024-05-22T12:55:53.119644Z",
     "iopub.status.idle": "2024-05-22T12:55:53.130706Z",
     "shell.execute_reply": "2024-05-22T12:55:53.130326Z",
     "shell.execute_reply.started": "2024-05-22T12:55:53.119785Z"
    }
   },
   "outputs": [
    {
     "name": "stdout",
     "output_type": "stream",
     "text": [
      "(4918140, 3)\n"
     ]
    }
   ],
   "source": [
    "print(master_AnnotDF.shape)"
   ]
  },
  {
   "cell_type": "code",
   "execution_count": 15,
   "metadata": {
    "execution": {
     "iopub.execute_input": "2024-05-22T12:55:53.131564Z",
     "iopub.status.busy": "2024-05-22T12:55:53.131274Z",
     "iopub.status.idle": "2024-05-22T12:55:53.451867Z",
     "shell.execute_reply": "2024-05-22T12:55:53.451374Z",
     "shell.execute_reply.started": "2024-05-22T12:55:53.131548Z"
    }
   },
   "outputs": [
    {
     "data": {
      "text/plain": [
       "{'B',\n",
       " 'B_Progenitors',\n",
       " 'DC',\n",
       " 'Doublets',\n",
       " 'HSC_LMP',\n",
       " 'HSC_MEMP',\n",
       " 'HSC_MMP',\n",
       " 'LowQuality_cells',\n",
       " 'Mono',\n",
       " 'NK',\n",
       " 'NK_Proliferative',\n",
       " 'Plasma',\n",
       " 'Platelets',\n",
       " 'RBC',\n",
       " 'T_CD4_NonNaive',\n",
       " 'T_CD8_NonNaive',\n",
       " 'T_Naive',\n",
       " 'T_Progenitors',\n",
       " 'T_Proliferative',\n",
       " 'pDC'}"
      ]
     },
     "execution_count": 15,
     "metadata": {},
     "output_type": "execute_result"
    }
   ],
   "source": [
    "set(master_AnnotDF[annotation_col_name])"
   ]
  },
  {
   "cell_type": "code",
   "execution_count": 16,
   "metadata": {
    "execution": {
     "iopub.execute_input": "2024-05-22T12:55:53.452813Z",
     "iopub.status.busy": "2024-05-22T12:55:53.452519Z",
     "iopub.status.idle": "2024-05-22T12:55:55.789924Z",
     "shell.execute_reply": "2024-05-22T12:55:55.789362Z",
     "shell.execute_reply.started": "2024-05-22T12:55:53.452793Z"
    }
   },
   "outputs": [],
   "source": [
    "master_AnnotDF.to_pickle(here(f\"02_fromCellLineages_to_CellTypes/master_clusterAnnotDF.pkl\"))"
   ]
  },
  {
   "cell_type": "markdown",
   "metadata": {},
   "source": [
    "# Split Lineages"
   ]
  },
  {
   "cell_type": "code",
   "execution_count": 17,
   "metadata": {
    "execution": {
     "iopub.execute_input": "2024-05-22T12:55:55.790951Z",
     "iopub.status.busy": "2024-05-22T12:55:55.790621Z",
     "iopub.status.idle": "2024-05-22T12:55:55.793604Z",
     "shell.execute_reply": "2024-05-22T12:55:55.793240Z",
     "shell.execute_reply.started": "2024-05-22T12:55:55.790932Z"
    }
   },
   "outputs": [],
   "source": [
    "annotation_col_name = 'annotation_step_3'\n",
    "not_interesting_categories = [\"LowQuality_cells\", \"RBC\", \"Platelets\", \"Doublets\"]\n",
    "finished_categories = ['HSC_LMP', 'HSC_MEMP', 'HSC_MMP', 'pDC',\n",
    "                       'T_Progenitors', 'B_Progenitors', 'T_Proliferative', 'NK_Proliferative']"
   ]
  },
  {
   "cell_type": "code",
   "execution_count": 18,
   "metadata": {
    "execution": {
     "iopub.execute_input": "2024-05-22T12:55:55.794382Z",
     "iopub.status.busy": "2024-05-22T12:55:55.794108Z",
     "iopub.status.idle": "2024-05-22T12:55:56.029583Z",
     "shell.execute_reply": "2024-05-22T12:55:56.029008Z",
     "shell.execute_reply.started": "2024-05-22T12:55:55.794365Z"
    }
   },
   "outputs": [
    {
     "name": "stdout",
     "output_type": "stream",
     "text": [
      "annotation_step_3\n",
      "Mono                1063880\n",
      "T_Naive             1006731\n",
      "T_CD8_NonNaive       824758\n",
      "T_CD4_NonNaive       740761\n",
      "NK                   376885\n",
      "B                    356874\n",
      "Doublets             240680\n",
      "Platelets            154085\n",
      "DC                    47276\n",
      "T_Proliferative       27907\n",
      "pDC                   22902\n",
      "Plasma                20520\n",
      "NK_Proliferative      13494\n",
      "LowQuality_cells      11869\n",
      "HSC_LMP                2784\n",
      "RBC                    2485\n",
      "HSC_MMP                2002\n",
      "B_Progenitors           987\n",
      "T_Progenitors           868\n",
      "HSC_MEMP                392\n",
      "dtype: int64\n"
     ]
    }
   ],
   "source": [
    "cell_counts = master_AnnotDF.groupby(annotation_col_name).size().sort_values(ascending=False)\n",
    "print(cell_counts)"
   ]
  },
  {
   "cell_type": "code",
   "execution_count": 19,
   "metadata": {
    "execution": {
     "iopub.execute_input": "2024-05-22T12:55:56.030671Z",
     "iopub.status.busy": "2024-05-22T12:55:56.030334Z",
     "iopub.status.idle": "2024-05-22T12:55:56.035268Z",
     "shell.execute_reply": "2024-05-22T12:55:56.034805Z",
     "shell.execute_reply.started": "2024-05-22T12:55:56.030652Z"
    }
   },
   "outputs": [
    {
     "name": "stdout",
     "output_type": "stream",
     "text": [
      "We are removing a total of 409119 cells\n",
      "LowQuality_cells: 11869 cells removed\n",
      "RBC: 2485 cells removed\n",
      "Platelets: 154085 cells removed\n",
      "Doublets: 240680 cells removed\n"
     ]
    }
   ],
   "source": [
    "total_cells_to_remove = cell_counts.loc[not_interesting_categories].sum()\n",
    "print(f\"We are removing a total of {total_cells_to_remove} cells\")\n",
    "for category in not_interesting_categories:\n",
    "    cells_removed = cell_counts.loc[category]\n",
    "    print(f\"{category}: {cells_removed} cells removed\")"
   ]
  },
  {
   "cell_type": "code",
   "execution_count": 20,
   "metadata": {
    "execution": {
     "iopub.execute_input": "2024-05-22T12:55:56.036003Z",
     "iopub.status.busy": "2024-05-22T12:55:56.035849Z",
     "iopub.status.idle": "2024-05-22T12:55:56.046584Z",
     "shell.execute_reply": "2024-05-22T12:55:56.046080Z",
     "shell.execute_reply.started": "2024-05-22T12:55:56.035987Z"
    }
   },
   "outputs": [
    {
     "name": "stdout",
     "output_type": "stream",
     "text": [
      "We have finished a total of 71336 cells\n",
      "HSC_LMP: 2784 cells finished\n",
      "HSC_MEMP: 392 cells finished\n",
      "HSC_MMP: 2002 cells finished\n",
      "pDC: 22902 cells finished\n",
      "T_Progenitors: 868 cells finished\n",
      "B_Progenitors: 987 cells finished\n",
      "T_Proliferative: 27907 cells finished\n",
      "NK_Proliferative: 13494 cells finished\n"
     ]
    }
   ],
   "source": [
    "total_cells_finished = cell_counts.loc[finished_categories].sum()\n",
    "print(f\"We have finished a total of {total_cells_finished} cells\")\n",
    "for category in finished_categories:\n",
    "    cells_finished = cell_counts.loc[category]\n",
    "    print(f\"{category}: {cells_finished} cells finished\")"
   ]
  },
  {
   "cell_type": "code",
   "execution_count": 21,
   "metadata": {
    "execution": {
     "iopub.execute_input": "2024-05-22T12:55:56.047293Z",
     "iopub.status.busy": "2024-05-22T12:55:56.047137Z",
     "iopub.status.idle": "2024-05-22T12:55:56.056811Z",
     "shell.execute_reply": "2024-05-22T12:55:56.056369Z",
     "shell.execute_reply.started": "2024-05-22T12:55:56.047277Z"
    }
   },
   "outputs": [
    {
     "name": "stdout",
     "output_type": "stream",
     "text": [
      "We are still missing a total of 4437685 cells\n",
      "B: 356874 cells missing\n",
      "DC: 47276 cells missing\n",
      "Mono: 1063880 cells missing\n",
      "NK: 376885 cells missing\n",
      "Plasma: 20520 cells missing\n",
      "T_CD4_NonNaive: 740761 cells missing\n",
      "T_CD8_NonNaive: 824758 cells missing\n",
      "T_Naive: 1006731 cells missing\n"
     ]
    }
   ],
   "source": [
    "next_step_categories = cell_counts.index.difference(set(finished_categories).union(set(not_interesting_categories)))\n",
    "total_cells_of_interest = cell_counts.loc[next_step_categories].sum()\n",
    "print(f\"We are still missing a total of {total_cells_of_interest} cells\")\n",
    "for category in next_step_categories:\n",
    "    cells_missing = cell_counts.loc[category]\n",
    "    print(f\"{category}: {cells_missing} cells missing\")"
   ]
  },
  {
   "cell_type": "code",
   "execution_count": 22,
   "metadata": {
    "execution": {
     "iopub.execute_input": "2024-05-22T12:55:56.057559Z",
     "iopub.status.busy": "2024-05-22T12:55:56.057399Z",
     "iopub.status.idle": "2024-05-22T12:55:56.255904Z",
     "shell.execute_reply": "2024-05-22T12:55:56.255463Z",
     "shell.execute_reply.started": "2024-05-22T12:55:56.057541Z"
    }
   },
   "outputs": [
    {
     "data": {
      "text/plain": [
       "array(['pDC', 'Doublets', 'LowQuality_cells', 'Platelets', 'DC', 'Mono',\n",
       "       'RBC', 'T_CD8_NonNaive', 'T_Naive', 'T_CD4_NonNaive', 'NK',\n",
       "       'NK_Proliferative', 'T_Proliferative', 'T_Progenitors', 'Plasma',\n",
       "       'B', 'HSC_LMP', 'HSC_MMP', 'B_Progenitors', 'HSC_MEMP'],\n",
       "      dtype=object)"
      ]
     },
     "execution_count": 22,
     "metadata": {},
     "output_type": "execute_result"
    }
   ],
   "source": [
    "master_AnnotDF[annotation_col_name].unique()"
   ]
  },
  {
   "cell_type": "raw",
   "metadata": {
    "execution": {
     "iopub.execute_input": "2024-05-06T15:45:04.304872Z",
     "iopub.status.busy": "2024-05-06T15:45:04.304368Z",
     "iopub.status.idle": "2024-05-06T15:45:04.717809Z",
     "shell.execute_reply": "2024-05-06T15:45:04.717333Z",
     "shell.execute_reply.started": "2024-05-06T15:45:04.304852Z"
    }
   },
   "source": [
    "template_path = here('01_fromDatasets_to_CellLineages/template')\n",
    "template_notebook_list = [str(template_path) + '/' + f for f in os.listdir(template_path) if f.endswith('.ipynb')]\n",
    "\n",
    "annotation_path = str(here(f\"02_fromCellLineages_to_CellTypes/{step}/{step}_clusterAnnotDF.pkl\"))\n",
    "targetdir = str(here(f'02_fromCellLineages_to_CellTypes/{next_step}'))\n",
    "os.makedirs(targetdir)\n",
    "\n",
    "for cellGroup in master_AnnotDF[annotation_col_name].unique():\n",
    "    if cellGroup in next_step_categories: \n",
    "        print(cellGroup)\n",
    "        # Generate the directory tree\n",
    "        os.makedirs(here('{}/{}/results/figures'.format(targetdir, cellGroup)), exist_ok=False)\n",
    "        for template_notebook in template_notebook_list:\n",
    "            generate_split_dir(cellGroup = cellGroup, \n",
    "                               annotationPath = annotation_path, \n",
    "                               targetDir = targetdir, \n",
    "                               annotation_col_name = annotation_col_name,\n",
    "                               templateNotebook = template_notebook)\n",
    "    else: \n",
    "        print(f\"Skipping {cellGroup}\")"
   ]
  },
  {
   "cell_type": "code",
   "execution_count": 23,
   "metadata": {
    "execution": {
     "iopub.execute_input": "2024-05-22T12:55:56.256670Z",
     "iopub.status.busy": "2024-05-22T12:55:56.256511Z",
     "iopub.status.idle": "2024-05-22T12:55:56.925333Z",
     "shell.execute_reply": "2024-05-22T12:55:56.924903Z",
     "shell.execute_reply.started": "2024-05-22T12:55:56.256652Z"
    }
   },
   "outputs": [
    {
     "data": {
      "text/html": [
       "<details>\n",
       "<summary>Click to view session information</summary>\n",
       "<pre>\n",
       "-----\n",
       "customPythonFunctions       NA\n",
       "numpy                       1.26.4\n",
       "pandas                      2.2.0\n",
       "pyprojroot                  NA\n",
       "session_info                1.0.0\n",
       "-----\n",
       "</pre>\n",
       "<details>\n",
       "<summary>Click to view modules imported as dependencies</summary>\n",
       "<pre>\n",
       "anyio                       NA\n",
       "argcomplete                 NA\n",
       "arrow                       1.3.0\n",
       "asttokens                   NA\n",
       "attr                        23.2.0\n",
       "attrs                       23.2.0\n",
       "babel                       2.14.0\n",
       "brotli                      1.1.0\n",
       "certifi                     2024.02.02\n",
       "charset_normalizer          3.3.2\n",
       "colorama                    0.4.6\n",
       "comm                        0.2.1\n",
       "cython_runtime              NA\n",
       "dateutil                    2.8.2\n",
       "debugpy                     1.8.1\n",
       "decorator                   5.1.1\n",
       "exceptiongroup              1.2.0\n",
       "executing                   2.0.1\n",
       "fastjsonschema              NA\n",
       "fqdn                        NA\n",
       "idna                        3.6\n",
       "ipykernel                   6.29.2\n",
       "isoduration                 NA\n",
       "jedi                        0.19.1\n",
       "jinja2                      3.1.3\n",
       "json5                       NA\n",
       "jsonpointer                 2.4\n",
       "jsonschema                  4.21.1\n",
       "jsonschema_specifications   NA\n",
       "jupyter_events              0.9.0\n",
       "jupyter_server              2.12.5\n",
       "jupyterlab_server           2.25.3\n",
       "markupsafe                  2.1.5\n",
       "nbformat                    5.9.2\n",
       "overrides                   NA\n",
       "packaging                   23.2\n",
       "parso                       0.8.3\n",
       "pickleshare                 0.7.5\n",
       "platformdirs                4.2.0\n",
       "prometheus_client           NA\n",
       "prompt_toolkit              3.0.42\n",
       "psutil                      5.9.8\n",
       "pure_eval                   0.2.2\n",
       "pyarrow                     15.0.0\n",
       "pydev_ipython               NA\n",
       "pydevconsole                NA\n",
       "pydevd                      2.9.5\n",
       "pydevd_file_utils           NA\n",
       "pydevd_plugins              NA\n",
       "pydevd_tracing              NA\n",
       "pygments                    2.17.2\n",
       "pythonjsonlogger            NA\n",
       "pytz                        2024.1\n",
       "referencing                 NA\n",
       "requests                    2.31.0\n",
       "rfc3339_validator           0.1.4\n",
       "rfc3986_validator           0.1.1\n",
       "rpds                        NA\n",
       "send2trash                  NA\n",
       "simplejson                  3.19.2\n",
       "six                         1.16.0\n",
       "sniffio                     1.3.0\n",
       "socks                       1.7.1\n",
       "stack_data                  0.6.2\n",
       "tornado                     6.4\n",
       "traitlets                   5.14.1\n",
       "typing_extensions           NA\n",
       "uri_template                NA\n",
       "urllib3                     2.2.1\n",
       "wcwidth                     0.2.13\n",
       "webcolors                   1.13\n",
       "websocket                   1.7.0\n",
       "yaml                        6.0.1\n",
       "zmq                         25.1.2\n",
       "zoneinfo                    NA\n",
       "zstandard                   0.22.0\n",
       "</pre>\n",
       "</details> <!-- seems like this ends pre, so might as well be explicit -->\n",
       "<pre>\n",
       "-----\n",
       "IPython             8.21.0\n",
       "jupyter_client      8.6.0\n",
       "jupyter_core        5.7.1\n",
       "jupyterlab          4.1.2\n",
       "-----\n",
       "Python 3.10.13 | packaged by conda-forge | (main, Dec 23 2023, 15:36:39) [GCC 12.3.0]\n",
       "Linux-3.10.0-1160.88.1.el7.x86_64-x86_64-with-glibc2.17\n",
       "-----\n",
       "Session information updated at 2024-05-22 14:55\n",
       "</pre>\n",
       "</details>"
      ],
      "text/plain": [
       "<IPython.core.display.HTML object>"
      ]
     },
     "execution_count": 23,
     "metadata": {},
     "output_type": "execute_result"
    }
   ],
   "source": [
    "session_info.show()"
   ]
  },
  {
   "cell_type": "code",
   "execution_count": null,
   "metadata": {},
   "outputs": [],
   "source": []
  }
 ],
 "metadata": {
  "kernelspec": {
   "display_name": "Python 3 (ipykernel)",
   "language": "python",
   "name": "python3"
  },
  "language_info": {
   "codemirror_mode": {
    "name": "ipython",
    "version": 3
   },
   "file_extension": ".py",
   "mimetype": "text/x-python",
   "name": "python",
   "nbconvert_exporter": "python",
   "pygments_lexer": "ipython3",
   "version": "3.10.13"
  },
  "toc": {
   "base_numbering": 1,
   "nav_menu": {},
   "number_sections": true,
   "sideBar": true,
   "skip_h1_title": false,
   "title_cell": "Table of Contents",
   "title_sidebar": "Contents",
   "toc_cell": false,
   "toc_position": {},
   "toc_section_display": true,
   "toc_window_display": false
  }
 },
 "nbformat": 4,
 "nbformat_minor": 4
}
