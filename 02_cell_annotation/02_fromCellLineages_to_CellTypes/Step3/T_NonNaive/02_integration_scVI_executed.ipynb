{
 "cells": [
  {
   "cell_type": "code",
   "execution_count": 1,
   "id": "2dd1425a-0c07-465e-b522-9e3cc5cb93a7",
   "metadata": {
    "execution": {
     "iopub.execute_input": "2024-05-03T19:05:47.389612Z",
     "iopub.status.busy": "2024-05-03T19:05:47.389300Z",
     "iopub.status.idle": "2024-05-03T19:05:58.232640Z",
     "shell.execute_reply": "2024-05-03T19:05:58.231929Z"
    },
    "papermill": {
     "duration": 10.851445,
     "end_time": "2024-05-03T19:05:58.235216",
     "exception": false,
     "start_time": "2024-05-03T19:05:47.383771",
     "status": "completed"
    },
    "tags": []
   },
   "outputs": [
    {
     "data": {
      "text/plain": [
       "True"
      ]
     },
     "execution_count": 1,
     "metadata": {},
     "output_type": "execute_result"
    }
   ],
   "source": [
    "import os\n",
    "import sys\n",
    "\n",
    "import numpy as np\n",
    "import matplotlib.pyplot as plt\n",
    "\n",
    "import scanpy as sc\n",
    "import scvi\n",
    "import torch\n",
    "\n",
    "from pytorch_lightning.loggers import WandbLogger\n",
    "import wandb\n",
    "from dotenv import load_dotenv\n",
    "\n",
    "import session_info\n",
    "import warnings\n",
    "from pyprojroot.here import here\n",
    "\n",
    "warnings.filterwarnings(\"ignore\")\n",
    "sys.path.insert(1, str(here('bin')))\n",
    "\n",
    "torch.set_float32_matmul_precision('high')\n",
    "\n",
    "#plt.style.use(['science','nature','no-latex'])\n",
    "dpi_fig_save = 300\n",
    "sc.set_figure_params(dpi=100, dpi_save=dpi_fig_save, vector_friendly=True)\n",
    "\n",
    "load_dotenv(here('.env'))"
   ]
  },
  {
   "cell_type": "code",
   "execution_count": 2,
   "id": "09c897fc-744b-43de-a681-718fb5d327fa",
   "metadata": {
    "execution": {
     "iopub.execute_input": "2024-05-03T19:05:58.252078Z",
     "iopub.status.busy": "2024-05-03T19:05:58.251663Z",
     "iopub.status.idle": "2024-05-03T19:05:58.255394Z",
     "shell.execute_reply": "2024-05-03T19:05:58.254826Z"
    },
    "papermill": {
     "duration": 0.013219,
     "end_time": "2024-05-03T19:05:58.257269",
     "exception": false,
     "start_time": "2024-05-03T19:05:58.244050",
     "status": "completed"
    },
    "tags": []
   },
   "outputs": [],
   "source": [
    "class CustomWandbLogger(WandbLogger):\n",
    "    @property\n",
    "    def save_dir(self):\n",
    "        return self.experiment.dir"
   ]
  },
  {
   "cell_type": "code",
   "execution_count": 3,
   "id": "8ee6662f-5d45-4137-80a5-bb0b9ae8d71f",
   "metadata": {
    "execution": {
     "iopub.execute_input": "2024-05-03T19:05:58.271221Z",
     "iopub.status.busy": "2024-05-03T19:05:58.270550Z",
     "iopub.status.idle": "2024-05-03T19:05:58.278597Z",
     "shell.execute_reply": "2024-05-03T19:05:58.278005Z"
    },
    "papermill": {
     "duration": 0.017271,
     "end_time": "2024-05-03T19:05:58.280526",
     "exception": false,
     "start_time": "2024-05-03T19:05:58.263255",
     "status": "completed"
    },
    "tags": []
   },
   "outputs": [
    {
     "name": "stderr",
     "output_type": "stream",
     "text": [
      "Seed set to 0\n"
     ]
    },
    {
     "name": "stdout",
     "output_type": "stream",
     "text": [
      "Last run with scvi-tools version: 1.1.2\n"
     ]
    }
   ],
   "source": [
    "scvi.settings.seed = 0\n",
    "print(\"Last run with scvi-tools version:\", scvi.__version__)"
   ]
  },
  {
   "cell_type": "markdown",
   "id": "a81037ff-5998-482a-ba86-520f757311a9",
   "metadata": {
    "papermill": {
     "duration": 0.006345,
     "end_time": "2024-05-03T19:05:58.292989",
     "exception": false,
     "start_time": "2024-05-03T19:05:58.286644",
     "status": "completed"
    },
    "tags": []
   },
   "source": [
    "**Setting parameters** "
   ]
  },
  {
   "cell_type": "code",
   "execution_count": 4,
   "id": "56c27966-8f10-4c93-8b1a-1fa75f005e41",
   "metadata": {
    "execution": {
     "iopub.execute_input": "2024-05-03T19:05:58.307440Z",
     "iopub.status.busy": "2024-05-03T19:05:58.307155Z",
     "iopub.status.idle": "2024-05-03T19:05:58.310277Z",
     "shell.execute_reply": "2024-05-03T19:05:58.309734Z"
    },
    "papermill": {
     "duration": 0.012174,
     "end_time": "2024-05-03T19:05:58.311833",
     "exception": false,
     "start_time": "2024-05-03T19:05:58.299659",
     "status": "completed"
    },
    "tags": []
   },
   "outputs": [],
   "source": [
    "overwriteFigures = True\n",
    "overwriteData = True"
   ]
  },
  {
   "cell_type": "code",
   "execution_count": 5,
   "id": "c86fccd3-a4fe-415b-8f4e-e2ceb3ec128a",
   "metadata": {
    "execution": {
     "iopub.execute_input": "2024-05-03T19:05:58.323823Z",
     "iopub.status.busy": "2024-05-03T19:05:58.323544Z",
     "iopub.status.idle": "2024-05-03T19:05:58.327054Z",
     "shell.execute_reply": "2024-05-03T19:05:58.326313Z"
    },
    "papermill": {
     "duration": 0.010648,
     "end_time": "2024-05-03T19:05:58.328728",
     "exception": false,
     "start_time": "2024-05-03T19:05:58.318080",
     "status": "completed"
    },
    "tags": []
   },
   "outputs": [],
   "source": [
    "cellGroup = 'T_NonNaive'\n",
    "workDir = os.getcwd()"
   ]
  },
  {
   "cell_type": "code",
   "execution_count": 6,
   "id": "2dee4d55-d168-467b-b867-a61fed9d6af1",
   "metadata": {
    "execution": {
     "iopub.execute_input": "2024-05-03T19:05:58.337422Z",
     "iopub.status.busy": "2024-05-03T19:05:58.336752Z",
     "iopub.status.idle": "2024-05-03T19:05:58.340490Z",
     "shell.execute_reply": "2024-05-03T19:05:58.339712Z"
    },
    "papermill": {
     "duration": 0.009783,
     "end_time": "2024-05-03T19:05:58.342006",
     "exception": false,
     "start_time": "2024-05-03T19:05:58.332223",
     "status": "completed"
    },
    "tags": []
   },
   "outputs": [],
   "source": [
    "annotationLevel = os.path.basename(os.path.normpath(workDir))"
   ]
  },
  {
   "cell_type": "code",
   "execution_count": 7,
   "id": "11e53cd5-b746-4152-89cb-c2f0c15d90b3",
   "metadata": {
    "execution": {
     "iopub.execute_input": "2024-05-03T19:05:58.350801Z",
     "iopub.status.busy": "2024-05-03T19:05:58.350202Z",
     "iopub.status.idle": "2024-05-03T19:05:58.354874Z",
     "shell.execute_reply": "2024-05-03T19:05:58.354099Z"
    },
    "papermill": {
     "duration": 0.011045,
     "end_time": "2024-05-03T19:05:58.356589",
     "exception": false,
     "start_time": "2024-05-03T19:05:58.345544",
     "status": "completed"
    },
    "tags": []
   },
   "outputs": [
    {
     "data": {
      "text/plain": [
       "'/home/jupyter/Inflammation-PBMCs-Atlas/02_cell_annotation/02_fromCellLineages_to_CellTypes/Step3'"
      ]
     },
     "execution_count": 7,
     "metadata": {},
     "output_type": "execute_result"
    }
   ],
   "source": [
    "workDir"
   ]
  },
  {
   "cell_type": "markdown",
   "id": "171d2f06-9a44-4fcb-b437-35dc546674b6",
   "metadata": {
    "papermill": {
     "duration": 0.003613,
     "end_time": "2024-05-03T19:05:58.363836",
     "exception": false,
     "start_time": "2024-05-03T19:05:58.360223",
     "status": "completed"
    },
    "tags": []
   },
   "source": [
    "**Load data**"
   ]
  },
  {
   "cell_type": "code",
   "execution_count": 8,
   "id": "429f34fe-dde6-4cc9-9f75-7de8f85c5ffe",
   "metadata": {
    "execution": {
     "iopub.execute_input": "2024-05-03T19:05:58.372588Z",
     "iopub.status.busy": "2024-05-03T19:05:58.371969Z",
     "iopub.status.idle": "2024-05-03T19:06:30.597064Z",
     "shell.execute_reply": "2024-05-03T19:06:30.596237Z"
    },
    "papermill": {
     "duration": 32.23573,
     "end_time": "2024-05-03T19:06:30.603152",
     "exception": false,
     "start_time": "2024-05-03T19:05:58.367422",
     "status": "completed"
    },
    "tags": []
   },
   "outputs": [
    {
     "data": {
      "text/plain": [
       "AnnData object with n_obs × n_vars = 1594678 × 2196\n",
       "    obs: 'studyID', 'libraryID', 'sampleID', 'chemistry', 'technology', 'patientID', 'disease', 'timepoint_replicate', 'treatmentStatus', 'therapyResponse', 'sex', 'age', 'BMI', 'binned_age', 'diseaseStatus', 'smokingStatus', 'ethnicity', 'institute', 'diseaseGroup', 'n_genes_by_counts', 'log1p_n_genes_by_counts', 'total_counts', 'log1p_total_counts', 'pct_counts_in_top_20_genes', 'total_counts_mt', 'log1p_total_counts_mt', 'pct_counts_mt', 'total_counts_ribo', 'log1p_total_counts_ribo', 'pct_counts_ribo', 'total_counts_hb', 'log1p_total_counts_hb', 'pct_counts_hb', 'total_counts_plt', 'log1p_total_counts_plt', 'pct_counts_plt', 'doublet_score', 'predicted_doublet', 'S_score', 'G2M_score', 'phase'\n",
       "    var: 'hgnc_id', 'symbol', 'locus_group', 'HUGO_status', 'mt', 'ribo', 'hb', 'plt', 'n_cells_by_counts', 'mean_counts', 'log1p_mean_counts', 'pct_dropout_by_counts', 'total_counts', 'log1p_total_counts', 'highly_variable'\n",
       "    uns: 'chemistry_colors', 'log1p'\n",
       "    layers: 'counts', 'log1p_10e4_counts'"
      ]
     },
     "execution_count": 8,
     "metadata": {},
     "output_type": "execute_result"
    }
   ],
   "source": [
    "adata = sc.read_h5ad(here(f\"{workDir}/{cellGroup}/results/01_{cellGroup}_normalized_HVGsubset.h5ad\"))\n",
    "adata"
   ]
  },
  {
   "cell_type": "markdown",
   "id": "8ac79f3b-d5af-41fa-8904-1e9ac1cbe2fb",
   "metadata": {
    "papermill": {
     "duration": 0.003663,
     "end_time": "2024-05-03T19:06:30.610754",
     "exception": false,
     "start_time": "2024-05-03T19:06:30.607091",
     "status": "completed"
    },
    "tags": []
   },
   "source": [
    "## scVI integration"
   ]
  },
  {
   "cell_type": "markdown",
   "id": "9544847d-d17f-4811-b14b-760446d54d32",
   "metadata": {
    "execution": {
     "iopub.execute_input": "2024-03-25T16:49:04.004504Z",
     "iopub.status.busy": "2024-03-25T16:49:04.004143Z",
     "iopub.status.idle": "2024-03-25T16:49:04.010148Z",
     "shell.execute_reply": "2024-03-25T16:49:04.009146Z",
     "shell.execute_reply.started": "2024-03-25T16:49:04.004477Z"
    },
    "papermill": {
     "duration": 0.003708,
     "end_time": "2024-05-03T19:06:30.618338",
     "exception": false,
     "start_time": "2024-05-03T19:06:30.614630",
     "status": "completed"
    },
    "tags": []
   },
   "source": [
    "**scVI parameters**"
   ]
  },
  {
   "cell_type": "code",
   "execution_count": 9,
   "id": "208966eb-545a-4c02-854c-0ed0487ef5b3",
   "metadata": {
    "execution": {
     "iopub.execute_input": "2024-05-03T19:06:30.627511Z",
     "iopub.status.busy": "2024-05-03T19:06:30.626836Z",
     "iopub.status.idle": "2024-05-03T19:06:30.632536Z",
     "shell.execute_reply": "2024-05-03T19:06:30.631743Z"
    },
    "papermill": {
     "duration": 0.012046,
     "end_time": "2024-05-03T19:06:30.634156",
     "exception": false,
     "start_time": "2024-05-03T19:06:30.622110",
     "status": "completed"
    },
    "tags": []
   },
   "outputs": [],
   "source": [
    "# https://docs.scvi-tools.org/en/stable/api/reference/scvi.train.Trainer.html#scvi.train.Trainer\n",
    "setup_kwargs = dict(\n",
    "    layer=\"counts\", \n",
    "    batch_key='libraryID', \n",
    "    categorical_covariate_keys = ['studyID', 'chemistry', 'disease', 'sampleID'],\n",
    "    labels_key = 'chemistry'    \n",
    ")\n",
    "\n",
    "scvi_kwargs = dict(n_hidden=512,\n",
    "                   n_latent=10, # reduceds after step 02\n",
    "                   n_layers=2,\n",
    "                   gene_likelihood='nb',\n",
    "                   dispersion='gene-label')\n",
    "\n",
    "trainer_kwargs = dict(\n",
    "    checkpointing_monitor = 'elbo_validation',\n",
    "    early_stopping_monitor = 'reconstruction_loss_validation',\n",
    "    early_stopping_patience = 10,\n",
    "    early_stopping_min_delta=0.1,\n",
    "    early_stopping = True,\n",
    "    max_epochs = 1000,\n",
    "\n",
    "    #logger = # wandb\n",
    ")\n",
    "# https://docs.scvi-tools.org/en/stable/api/reference/scvi.train.TrainingPlan.html#scvi.train.TrainingPlan\n",
    "plan_kwargs = dict(\n",
    "    lr = 5e-4,\n",
    "    #reduce_lr_on_plateau = True\n",
    ")\n",
    "\n",
    "# https://docs.scvi-tools.org/en/stable/api/reference/scvi.module.VAE.html#scvi.module.VAE\n",
    "#vae = dict(\n",
    "#    use_layer_norm='both',\n",
    "#    use_batch_norm='none',\n",
    "#    encode_covariates=True,\n",
    "#    deeply_inject_covariates=False\n",
    "#)\n",
    "parameter_dict = setup_kwargs | scvi_kwargs | trainer_kwargs | plan_kwargs"
   ]
  },
  {
   "cell_type": "markdown",
   "id": "1362366a-c16b-4c11-964b-b9c5f82f7b29",
   "metadata": {
    "papermill": {
     "duration": 0.003698,
     "end_time": "2024-05-03T19:06:30.641648",
     "exception": false,
     "start_time": "2024-05-03T19:06:30.637950",
     "status": "completed"
    },
    "tags": []
   },
   "source": [
    "**wandb parameter**"
   ]
  },
  {
   "cell_type": "code",
   "execution_count": 10,
   "id": "0496e33a-8ca5-423f-b42f-34a59760708c",
   "metadata": {
    "execution": {
     "iopub.execute_input": "2024-05-03T19:06:30.650331Z",
     "iopub.status.busy": "2024-05-03T19:06:30.649895Z",
     "iopub.status.idle": "2024-05-03T19:06:30.654404Z",
     "shell.execute_reply": "2024-05-03T19:06:30.653671Z"
    },
    "papermill": {
     "duration": 0.010826,
     "end_time": "2024-05-03T19:06:30.656108",
     "exception": false,
     "start_time": "2024-05-03T19:06:30.645282",
     "status": "completed"
    },
    "tags": []
   },
   "outputs": [
    {
     "data": {
      "text/plain": [
       "'Step3_T_NonNaive'"
      ]
     },
     "execution_count": 10,
     "metadata": {},
     "output_type": "execute_result"
    }
   ],
   "source": [
    "run_name = f\"{annotationLevel}_{cellGroup}\"\n",
    "run_name"
   ]
  },
  {
   "cell_type": "code",
   "execution_count": 11,
   "id": "b0021327-95a2-4002-bf32-2c5779a99505",
   "metadata": {
    "execution": {
     "iopub.execute_input": "2024-05-03T19:06:30.664879Z",
     "iopub.status.busy": "2024-05-03T19:06:30.664638Z",
     "iopub.status.idle": "2024-05-03T19:06:30.791528Z",
     "shell.execute_reply": "2024-05-03T19:06:30.790770Z"
    },
    "papermill": {
     "duration": 0.133656,
     "end_time": "2024-05-03T19:06:30.793503",
     "exception": false,
     "start_time": "2024-05-03T19:06:30.659847",
     "status": "completed"
    },
    "tags": []
   },
   "outputs": [],
   "source": [
    "logger = CustomWandbLogger(name = run_name, project='inflammation_atlas_R1', config=parameter_dict)"
   ]
  },
  {
   "cell_type": "markdown",
   "id": "c237eee1-a976-4915-9b7f-b014bf33f47d",
   "metadata": {
    "papermill": {
     "duration": 0.004036,
     "end_time": "2024-05-03T19:06:30.801775",
     "exception": false,
     "start_time": "2024-05-03T19:06:30.797739",
     "status": "completed"
    },
    "tags": []
   },
   "source": [
    "**Running integration**"
   ]
  },
  {
   "cell_type": "code",
   "execution_count": 12,
   "id": "aff97c53-1aba-462e-8a77-f1aec9cf724c",
   "metadata": {
    "execution": {
     "iopub.execute_input": "2024-05-03T19:06:30.811192Z",
     "iopub.status.busy": "2024-05-03T19:06:30.810526Z",
     "iopub.status.idle": "2024-05-03T19:06:31.481962Z",
     "shell.execute_reply": "2024-05-03T19:06:31.481198Z"
    },
    "papermill": {
     "duration": 0.678441,
     "end_time": "2024-05-03T19:06:31.484084",
     "exception": false,
     "start_time": "2024-05-03T19:06:30.805643",
     "status": "completed"
    },
    "tags": []
   },
   "outputs": [],
   "source": [
    "scvi.model.SCVI.setup_anndata(adata, \n",
    "                              **setup_kwargs)"
   ]
  },
  {
   "cell_type": "code",
   "execution_count": 13,
   "id": "1a56f448-cf44-47c1-81a4-a89caa930fec",
   "metadata": {
    "execution": {
     "iopub.execute_input": "2024-05-03T19:06:31.494176Z",
     "iopub.status.busy": "2024-05-03T19:06:31.493464Z",
     "iopub.status.idle": "2024-05-03T19:06:32.946368Z",
     "shell.execute_reply": "2024-05-03T19:06:32.945689Z"
    },
    "papermill": {
     "duration": 1.46045,
     "end_time": "2024-05-03T19:06:32.948534",
     "exception": false,
     "start_time": "2024-05-03T19:06:31.488084",
     "status": "completed"
    },
    "tags": []
   },
   "outputs": [],
   "source": [
    "model = scvi.model.SCVI(adata, **scvi_kwargs)"
   ]
  },
  {
   "cell_type": "code",
   "execution_count": 14,
   "id": "2735f010-4f24-4ae8-9740-a8cfeb335e9a",
   "metadata": {
    "execution": {
     "iopub.execute_input": "2024-05-03T19:06:32.958609Z",
     "iopub.status.busy": "2024-05-03T19:06:32.957938Z",
     "iopub.status.idle": "2024-05-03T20:48:27.618336Z",
     "shell.execute_reply": "2024-05-03T20:48:27.617643Z"
    },
    "papermill": {
     "duration": 6114.667358,
     "end_time": "2024-05-03T20:48:27.620145",
     "exception": false,
     "start_time": "2024-05-03T19:06:32.952787",
     "status": "completed"
    },
    "tags": []
   },
   "outputs": [
    {
     "name": "stderr",
     "output_type": "stream",
     "text": [
      "GPU available: True (cuda), used: True\n"
     ]
    },
    {
     "name": "stderr",
     "output_type": "stream",
     "text": [
      "TPU available: False, using: 0 TPU cores\n"
     ]
    },
    {
     "name": "stderr",
     "output_type": "stream",
     "text": [
      "IPU available: False, using: 0 IPUs\n"
     ]
    },
    {
     "name": "stderr",
     "output_type": "stream",
     "text": [
      "HPU available: False, using: 0 HPUs\n"
     ]
    },
    {
     "name": "stderr",
     "output_type": "stream",
     "text": [
      "\u001b[34m\u001b[1mwandb\u001b[0m: Currently logged in as: \u001b[33mdav1989\u001b[0m (\u001b[33minflammation\u001b[0m). Use \u001b[1m`wandb login --relogin`\u001b[0m to force relogin\n"
     ]
    },
    {
     "name": "stderr",
     "output_type": "stream",
     "text": [
      "\u001b[34m\u001b[1mwandb\u001b[0m: wandb version 0.16.6 is available!  To upgrade, please run:\n",
      "\u001b[34m\u001b[1mwandb\u001b[0m:  $ pip install wandb --upgrade\n"
     ]
    },
    {
     "name": "stderr",
     "output_type": "stream",
     "text": [
      "\u001b[34m\u001b[1mwandb\u001b[0m: Tracking run with wandb version 0.16.3\n"
     ]
    },
    {
     "name": "stderr",
     "output_type": "stream",
     "text": [
      "\u001b[34m\u001b[1mwandb\u001b[0m: Run data is saved locally in \u001b[35m\u001b[1m./wandb/run-20240503_190637-vx29o79v\u001b[0m\n",
      "\u001b[34m\u001b[1mwandb\u001b[0m: Run \u001b[1m`wandb offline`\u001b[0m to turn off syncing.\n"
     ]
    },
    {
     "name": "stderr",
     "output_type": "stream",
     "text": [
      "\u001b[34m\u001b[1mwandb\u001b[0m: Syncing run \u001b[33mStep3_T_NonNaive\u001b[0m\n"
     ]
    },
    {
     "name": "stderr",
     "output_type": "stream",
     "text": [
      "\u001b[34m\u001b[1mwandb\u001b[0m: ⭐️ View project at \u001b[34m\u001b[4mhttps://wandb.ai/inflammation/inflammation_atlas_R1\u001b[0m\n"
     ]
    },
    {
     "name": "stderr",
     "output_type": "stream",
     "text": [
      "\u001b[34m\u001b[1mwandb\u001b[0m: 🚀 View run at \u001b[34m\u001b[4mhttps://wandb.ai/inflammation/inflammation_atlas_R1/runs/vx29o79v\u001b[0m\n"
     ]
    },
    {
     "name": "stderr",
     "output_type": "stream",
     "text": [
      "LOCAL_RANK: 0 - CUDA_VISIBLE_DEVICES: [0]\n"
     ]
    },
    {
     "name": "stdout",
     "output_type": "stream",
     "text": [
      "\r",
      "Training:   0%|          | 0/1000 [00:00<?, ?it/s]"
     ]
    },
    {
     "name": "stdout",
     "output_type": "stream",
     "text": [
      "\r",
      "Epoch 1/1000:   0%|          | 0/1000 [00:00<?, ?it/s]"
     ]
    },
    {
     "name": "stdout",
     "output_type": "stream",
     "text": [
      "\r",
      "Epoch 1/1000:   0%|          | 1/1000 [02:26<40:43:15, 146.74s/it]"
     ]
    },
    {
     "name": "stdout",
     "output_type": "stream",
     "text": [
      "\r",
      "Epoch 1/1000:   0%|          | 1/1000 [02:26<40:43:15, 146.74s/it, v_num=o79v, train_loss_step=697, train_loss_epoch=666]"
     ]
    },
    {
     "name": "stdout",
     "output_type": "stream",
     "text": [
      "\r",
      "Epoch 2/1000:   0%|          | 1/1000 [02:26<40:43:15, 146.74s/it, v_num=o79v, train_loss_step=697, train_loss_epoch=666]"
     ]
    },
    {
     "name": "stdout",
     "output_type": "stream",
     "text": [
      "\r",
      "Epoch 2/1000:   0%|          | 2/1000 [04:57<41:21:02, 149.16s/it, v_num=o79v, train_loss_step=697, train_loss_epoch=666]"
     ]
    },
    {
     "name": "stdout",
     "output_type": "stream",
     "text": [
      "\r",
      "Epoch 2/1000:   0%|          | 2/1000 [04:57<41:21:02, 149.16s/it, v_num=o79v, train_loss_step=643, train_loss_epoch=656]"
     ]
    },
    {
     "name": "stdout",
     "output_type": "stream",
     "text": [
      "\r",
      "Epoch 3/1000:   0%|          | 2/1000 [04:57<41:21:02, 149.16s/it, v_num=o79v, train_loss_step=643, train_loss_epoch=656]"
     ]
    },
    {
     "name": "stdout",
     "output_type": "stream",
     "text": [
      "\r",
      "Epoch 3/1000:   0%|          | 3/1000 [07:28<41:31:01, 149.91s/it, v_num=o79v, train_loss_step=643, train_loss_epoch=656]"
     ]
    },
    {
     "name": "stdout",
     "output_type": "stream",
     "text": [
      "\r",
      "Epoch 3/1000:   0%|          | 3/1000 [07:28<41:31:01, 149.91s/it, v_num=o79v, train_loss_step=689, train_loss_epoch=654]"
     ]
    },
    {
     "name": "stdout",
     "output_type": "stream",
     "text": [
      "\r",
      "Epoch 4/1000:   0%|          | 3/1000 [07:28<41:31:01, 149.91s/it, v_num=o79v, train_loss_step=689, train_loss_epoch=654]"
     ]
    },
    {
     "name": "stdout",
     "output_type": "stream",
     "text": [
      "\r",
      "Epoch 4/1000:   0%|          | 4/1000 [09:59<41:33:15, 150.20s/it, v_num=o79v, train_loss_step=689, train_loss_epoch=654]"
     ]
    },
    {
     "name": "stdout",
     "output_type": "stream",
     "text": [
      "\r",
      "Epoch 4/1000:   0%|          | 4/1000 [09:59<41:33:15, 150.20s/it, v_num=o79v, train_loss_step=681, train_loss_epoch=654]"
     ]
    },
    {
     "name": "stdout",
     "output_type": "stream",
     "text": [
      "\r",
      "Epoch 5/1000:   0%|          | 4/1000 [09:59<41:33:15, 150.20s/it, v_num=o79v, train_loss_step=681, train_loss_epoch=654]"
     ]
    },
    {
     "name": "stdout",
     "output_type": "stream",
     "text": [
      "\r",
      "Epoch 5/1000:   0%|          | 5/1000 [12:29<41:30:49, 150.20s/it, v_num=o79v, train_loss_step=681, train_loss_epoch=654]"
     ]
    },
    {
     "name": "stdout",
     "output_type": "stream",
     "text": [
      "\r",
      "Epoch 5/1000:   0%|          | 5/1000 [12:29<41:30:49, 150.20s/it, v_num=o79v, train_loss_step=699, train_loss_epoch=653]"
     ]
    },
    {
     "name": "stdout",
     "output_type": "stream",
     "text": [
      "\r",
      "Epoch 6/1000:   0%|          | 5/1000 [12:29<41:30:49, 150.20s/it, v_num=o79v, train_loss_step=699, train_loss_epoch=653]"
     ]
    },
    {
     "name": "stdout",
     "output_type": "stream",
     "text": [
      "\r",
      "Epoch 6/1000:   1%|          | 6/1000 [14:59<41:27:20, 150.14s/it, v_num=o79v, train_loss_step=699, train_loss_epoch=653]"
     ]
    },
    {
     "name": "stdout",
     "output_type": "stream",
     "text": [
      "\r",
      "Epoch 6/1000:   1%|          | 6/1000 [14:59<41:27:20, 150.14s/it, v_num=o79v, train_loss_step=654, train_loss_epoch=653]"
     ]
    },
    {
     "name": "stdout",
     "output_type": "stream",
     "text": [
      "\r",
      "Epoch 7/1000:   1%|          | 6/1000 [14:59<41:27:20, 150.14s/it, v_num=o79v, train_loss_step=654, train_loss_epoch=653]"
     ]
    },
    {
     "name": "stdout",
     "output_type": "stream",
     "text": [
      "\r",
      "Epoch 7/1000:   1%|          | 7/1000 [17:29<41:25:17, 150.17s/it, v_num=o79v, train_loss_step=654, train_loss_epoch=653]"
     ]
    },
    {
     "name": "stdout",
     "output_type": "stream",
     "text": [
      "\r",
      "Epoch 7/1000:   1%|          | 7/1000 [17:29<41:25:17, 150.17s/it, v_num=o79v, train_loss_step=679, train_loss_epoch=653]"
     ]
    },
    {
     "name": "stdout",
     "output_type": "stream",
     "text": [
      "\r",
      "Epoch 8/1000:   1%|          | 7/1000 [17:29<41:25:17, 150.17s/it, v_num=o79v, train_loss_step=679, train_loss_epoch=653]"
     ]
    },
    {
     "name": "stdout",
     "output_type": "stream",
     "text": [
      "\r",
      "Epoch 8/1000:   1%|          | 8/1000 [19:52<40:43:41, 147.80s/it, v_num=o79v, train_loss_step=679, train_loss_epoch=653]"
     ]
    },
    {
     "name": "stdout",
     "output_type": "stream",
     "text": [
      "\r",
      "Epoch 8/1000:   1%|          | 8/1000 [19:52<40:43:41, 147.80s/it, v_num=o79v, train_loss_step=657, train_loss_epoch=653]"
     ]
    },
    {
     "name": "stdout",
     "output_type": "stream",
     "text": [
      "\r",
      "Epoch 9/1000:   1%|          | 8/1000 [19:52<40:43:41, 147.80s/it, v_num=o79v, train_loss_step=657, train_loss_epoch=653]"
     ]
    },
    {
     "name": "stdout",
     "output_type": "stream",
     "text": [
      "\r",
      "Epoch 9/1000:   1%|          | 9/1000 [22:07<39:38:20, 144.00s/it, v_num=o79v, train_loss_step=657, train_loss_epoch=653]"
     ]
    },
    {
     "name": "stdout",
     "output_type": "stream",
     "text": [
      "\r",
      "Epoch 9/1000:   1%|          | 9/1000 [22:07<39:38:20, 144.00s/it, v_num=o79v, train_loss_step=665, train_loss_epoch=652]"
     ]
    },
    {
     "name": "stdout",
     "output_type": "stream",
     "text": [
      "\r",
      "Epoch 10/1000:   1%|          | 9/1000 [22:07<39:38:20, 144.00s/it, v_num=o79v, train_loss_step=665, train_loss_epoch=652]"
     ]
    },
    {
     "name": "stdout",
     "output_type": "stream",
     "text": [
      "\r",
      "Epoch 10/1000:   1%|          | 10/1000 [24:24<38:57:49, 141.69s/it, v_num=o79v, train_loss_step=665, train_loss_epoch=652]"
     ]
    },
    {
     "name": "stdout",
     "output_type": "stream",
     "text": [
      "\r",
      "Epoch 10/1000:   1%|          | 10/1000 [24:24<38:57:49, 141.69s/it, v_num=o79v, train_loss_step=646, train_loss_epoch=652]"
     ]
    },
    {
     "name": "stdout",
     "output_type": "stream",
     "text": [
      "\r",
      "Epoch 11/1000:   1%|          | 10/1000 [24:24<38:57:49, 141.69s/it, v_num=o79v, train_loss_step=646, train_loss_epoch=652]"
     ]
    },
    {
     "name": "stdout",
     "output_type": "stream",
     "text": [
      "\r",
      "Epoch 11/1000:   1%|          | 11/1000 [26:45<38:53:25, 141.56s/it, v_num=o79v, train_loss_step=646, train_loss_epoch=652]"
     ]
    },
    {
     "name": "stdout",
     "output_type": "stream",
     "text": [
      "\r",
      "Epoch 11/1000:   1%|          | 11/1000 [26:45<38:53:25, 141.56s/it, v_num=o79v, train_loss_step=607, train_loss_epoch=652]"
     ]
    },
    {
     "name": "stdout",
     "output_type": "stream",
     "text": [
      "\r",
      "Epoch 12/1000:   1%|          | 11/1000 [26:45<38:53:25, 141.56s/it, v_num=o79v, train_loss_step=607, train_loss_epoch=652]"
     ]
    },
    {
     "name": "stdout",
     "output_type": "stream",
     "text": [
      "\r",
      "Epoch 12/1000:   1%|          | 12/1000 [29:14<39:26:09, 143.69s/it, v_num=o79v, train_loss_step=607, train_loss_epoch=652]"
     ]
    },
    {
     "name": "stdout",
     "output_type": "stream",
     "text": [
      "\r",
      "Epoch 12/1000:   1%|          | 12/1000 [29:14<39:26:09, 143.69s/it, v_num=o79v, train_loss_step=604, train_loss_epoch=652]"
     ]
    },
    {
     "name": "stdout",
     "output_type": "stream",
     "text": [
      "\r",
      "Epoch 13/1000:   1%|          | 12/1000 [29:14<39:26:09, 143.69s/it, v_num=o79v, train_loss_step=604, train_loss_epoch=652]"
     ]
    },
    {
     "name": "stdout",
     "output_type": "stream",
     "text": [
      "\r",
      "Epoch 13/1000:   1%|▏         | 13/1000 [31:42<39:45:04, 144.99s/it, v_num=o79v, train_loss_step=604, train_loss_epoch=652]"
     ]
    },
    {
     "name": "stdout",
     "output_type": "stream",
     "text": [
      "\r",
      "Epoch 13/1000:   1%|▏         | 13/1000 [31:42<39:45:04, 144.99s/it, v_num=o79v, train_loss_step=636, train_loss_epoch=652]"
     ]
    },
    {
     "name": "stdout",
     "output_type": "stream",
     "text": [
      "\r",
      "Epoch 14/1000:   1%|▏         | 13/1000 [31:42<39:45:04, 144.99s/it, v_num=o79v, train_loss_step=636, train_loss_epoch=652]"
     ]
    },
    {
     "name": "stdout",
     "output_type": "stream",
     "text": [
      "\r",
      "Epoch 14/1000:   1%|▏         | 14/1000 [34:10<39:58:13, 145.94s/it, v_num=o79v, train_loss_step=636, train_loss_epoch=652]"
     ]
    },
    {
     "name": "stdout",
     "output_type": "stream",
     "text": [
      "\r",
      "Epoch 14/1000:   1%|▏         | 14/1000 [34:10<39:58:13, 145.94s/it, v_num=o79v, train_loss_step=636, train_loss_epoch=652]"
     ]
    },
    {
     "name": "stdout",
     "output_type": "stream",
     "text": [
      "\r",
      "Epoch 15/1000:   1%|▏         | 14/1000 [34:10<39:58:13, 145.94s/it, v_num=o79v, train_loss_step=636, train_loss_epoch=652]"
     ]
    },
    {
     "name": "stdout",
     "output_type": "stream",
     "text": [
      "\r",
      "Epoch 15/1000:   2%|▏         | 15/1000 [36:39<40:12:44, 146.97s/it, v_num=o79v, train_loss_step=636, train_loss_epoch=652]"
     ]
    },
    {
     "name": "stdout",
     "output_type": "stream",
     "text": [
      "\r",
      "Epoch 15/1000:   2%|▏         | 15/1000 [36:39<40:12:44, 146.97s/it, v_num=o79v, train_loss_step=632, train_loss_epoch=652]"
     ]
    },
    {
     "name": "stdout",
     "output_type": "stream",
     "text": [
      "\r",
      "Epoch 16/1000:   2%|▏         | 15/1000 [36:39<40:12:44, 146.97s/it, v_num=o79v, train_loss_step=632, train_loss_epoch=652]"
     ]
    },
    {
     "name": "stdout",
     "output_type": "stream",
     "text": [
      "\r",
      "Epoch 16/1000:   2%|▏         | 16/1000 [39:06<40:10:47, 147.00s/it, v_num=o79v, train_loss_step=632, train_loss_epoch=652]"
     ]
    },
    {
     "name": "stdout",
     "output_type": "stream",
     "text": [
      "\r",
      "Epoch 16/1000:   2%|▏         | 16/1000 [39:06<40:10:47, 147.00s/it, v_num=o79v, train_loss_step=608, train_loss_epoch=652]"
     ]
    },
    {
     "name": "stdout",
     "output_type": "stream",
     "text": [
      "\r",
      "Epoch 17/1000:   2%|▏         | 16/1000 [39:06<40:10:47, 147.00s/it, v_num=o79v, train_loss_step=608, train_loss_epoch=652]"
     ]
    },
    {
     "name": "stdout",
     "output_type": "stream",
     "text": [
      "\r",
      "Epoch 17/1000:   2%|▏         | 17/1000 [41:34<40:11:20, 147.18s/it, v_num=o79v, train_loss_step=608, train_loss_epoch=652]"
     ]
    },
    {
     "name": "stdout",
     "output_type": "stream",
     "text": [
      "\r",
      "Epoch 17/1000:   2%|▏         | 17/1000 [41:34<40:11:20, 147.18s/it, v_num=o79v, train_loss_step=692, train_loss_epoch=652]"
     ]
    },
    {
     "name": "stdout",
     "output_type": "stream",
     "text": [
      "\r",
      "Epoch 18/1000:   2%|▏         | 17/1000 [41:34<40:11:20, 147.18s/it, v_num=o79v, train_loss_step=692, train_loss_epoch=652]"
     ]
    },
    {
     "name": "stdout",
     "output_type": "stream",
     "text": [
      "\r",
      "Epoch 18/1000:   2%|▏         | 18/1000 [44:01<40:06:44, 147.05s/it, v_num=o79v, train_loss_step=692, train_loss_epoch=652]"
     ]
    },
    {
     "name": "stdout",
     "output_type": "stream",
     "text": [
      "\r",
      "Epoch 18/1000:   2%|▏         | 18/1000 [44:01<40:06:44, 147.05s/it, v_num=o79v, train_loss_step=646, train_loss_epoch=652]"
     ]
    },
    {
     "name": "stdout",
     "output_type": "stream",
     "text": [
      "\r",
      "Epoch 19/1000:   2%|▏         | 18/1000 [44:01<40:06:44, 147.05s/it, v_num=o79v, train_loss_step=646, train_loss_epoch=652]"
     ]
    },
    {
     "name": "stdout",
     "output_type": "stream",
     "text": [
      "\r",
      "Epoch 19/1000:   2%|▏         | 19/1000 [46:30<40:18:03, 147.89s/it, v_num=o79v, train_loss_step=646, train_loss_epoch=652]"
     ]
    },
    {
     "name": "stdout",
     "output_type": "stream",
     "text": [
      "\r",
      "Epoch 19/1000:   2%|▏         | 19/1000 [46:30<40:18:03, 147.89s/it, v_num=o79v, train_loss_step=643, train_loss_epoch=652]"
     ]
    },
    {
     "name": "stdout",
     "output_type": "stream",
     "text": [
      "\r",
      "Epoch 20/1000:   2%|▏         | 19/1000 [46:30<40:18:03, 147.89s/it, v_num=o79v, train_loss_step=643, train_loss_epoch=652]"
     ]
    },
    {
     "name": "stdout",
     "output_type": "stream",
     "text": [
      "\r",
      "Epoch 20/1000:   2%|▏         | 20/1000 [48:58<40:14:19, 147.82s/it, v_num=o79v, train_loss_step=643, train_loss_epoch=652]"
     ]
    },
    {
     "name": "stdout",
     "output_type": "stream",
     "text": [
      "\r",
      "Epoch 20/1000:   2%|▏         | 20/1000 [48:58<40:14:19, 147.82s/it, v_num=o79v, train_loss_step=669, train_loss_epoch=652]"
     ]
    },
    {
     "name": "stdout",
     "output_type": "stream",
     "text": [
      "\r",
      "Epoch 21/1000:   2%|▏         | 20/1000 [48:58<40:14:19, 147.82s/it, v_num=o79v, train_loss_step=669, train_loss_epoch=652]"
     ]
    },
    {
     "name": "stdout",
     "output_type": "stream",
     "text": [
      "\r",
      "Epoch 21/1000:   2%|▏         | 21/1000 [51:29<40:27:20, 148.76s/it, v_num=o79v, train_loss_step=669, train_loss_epoch=652]"
     ]
    },
    {
     "name": "stdout",
     "output_type": "stream",
     "text": [
      "\r",
      "Epoch 21/1000:   2%|▏         | 21/1000 [51:29<40:27:20, 148.76s/it, v_num=o79v, train_loss_step=707, train_loss_epoch=652]"
     ]
    },
    {
     "name": "stdout",
     "output_type": "stream",
     "text": [
      "\r",
      "Epoch 22/1000:   2%|▏         | 21/1000 [51:29<40:27:20, 148.76s/it, v_num=o79v, train_loss_step=707, train_loss_epoch=652]"
     ]
    },
    {
     "name": "stdout",
     "output_type": "stream",
     "text": [
      "\r",
      "Epoch 22/1000:   2%|▏         | 22/1000 [53:54<40:08:24, 147.75s/it, v_num=o79v, train_loss_step=707, train_loss_epoch=652]"
     ]
    },
    {
     "name": "stdout",
     "output_type": "stream",
     "text": [
      "\r",
      "Epoch 22/1000:   2%|▏         | 22/1000 [53:54<40:08:24, 147.75s/it, v_num=o79v, train_loss_step=599, train_loss_epoch=652]"
     ]
    },
    {
     "name": "stdout",
     "output_type": "stream",
     "text": [
      "\r",
      "Epoch 23/1000:   2%|▏         | 22/1000 [53:54<40:08:24, 147.75s/it, v_num=o79v, train_loss_step=599, train_loss_epoch=652]"
     ]
    },
    {
     "name": "stdout",
     "output_type": "stream",
     "text": [
      "\r",
      "Epoch 23/1000:   2%|▏         | 23/1000 [56:20<39:54:12, 147.03s/it, v_num=o79v, train_loss_step=599, train_loss_epoch=652]"
     ]
    },
    {
     "name": "stdout",
     "output_type": "stream",
     "text": [
      "\r",
      "Epoch 23/1000:   2%|▏         | 23/1000 [56:20<39:54:12, 147.03s/it, v_num=o79v, train_loss_step=683, train_loss_epoch=652]"
     ]
    },
    {
     "name": "stdout",
     "output_type": "stream",
     "text": [
      "\r",
      "Epoch 24/1000:   2%|▏         | 23/1000 [56:20<39:54:12, 147.03s/it, v_num=o79v, train_loss_step=683, train_loss_epoch=652]"
     ]
    },
    {
     "name": "stdout",
     "output_type": "stream",
     "text": [
      "\r",
      "Epoch 24/1000:   2%|▏         | 24/1000 [58:46<39:48:05, 146.81s/it, v_num=o79v, train_loss_step=683, train_loss_epoch=652]"
     ]
    },
    {
     "name": "stdout",
     "output_type": "stream",
     "text": [
      "\r",
      "Epoch 24/1000:   2%|▏         | 24/1000 [58:46<39:48:05, 146.81s/it, v_num=o79v, train_loss_step=648, train_loss_epoch=652]"
     ]
    },
    {
     "name": "stdout",
     "output_type": "stream",
     "text": [
      "\r",
      "Epoch 25/1000:   2%|▏         | 24/1000 [58:46<39:48:05, 146.81s/it, v_num=o79v, train_loss_step=648, train_loss_epoch=652]"
     ]
    },
    {
     "name": "stdout",
     "output_type": "stream",
     "text": [
      "\r",
      "Epoch 25/1000:   2%|▎         | 25/1000 [1:01:12<39:39:18, 146.42s/it, v_num=o79v, train_loss_step=648, train_loss_epoch=652]"
     ]
    },
    {
     "name": "stdout",
     "output_type": "stream",
     "text": [
      "\r",
      "Epoch 25/1000:   2%|▎         | 25/1000 [1:01:12<39:39:18, 146.42s/it, v_num=o79v, train_loss_step=671, train_loss_epoch=652]"
     ]
    },
    {
     "name": "stdout",
     "output_type": "stream",
     "text": [
      "\r",
      "Epoch 26/1000:   2%|▎         | 25/1000 [1:01:12<39:39:18, 146.42s/it, v_num=o79v, train_loss_step=671, train_loss_epoch=652]"
     ]
    },
    {
     "name": "stdout",
     "output_type": "stream",
     "text": [
      "\r",
      "Epoch 26/1000:   3%|▎         | 26/1000 [1:03:38<39:34:44, 146.29s/it, v_num=o79v, train_loss_step=671, train_loss_epoch=652]"
     ]
    },
    {
     "name": "stdout",
     "output_type": "stream",
     "text": [
      "\r",
      "Epoch 26/1000:   3%|▎         | 26/1000 [1:03:38<39:34:44, 146.29s/it, v_num=o79v, train_loss_step=658, train_loss_epoch=652]"
     ]
    },
    {
     "name": "stdout",
     "output_type": "stream",
     "text": [
      "\r",
      "Epoch 27/1000:   3%|▎         | 26/1000 [1:03:38<39:34:44, 146.29s/it, v_num=o79v, train_loss_step=658, train_loss_epoch=652]"
     ]
    },
    {
     "name": "stdout",
     "output_type": "stream",
     "text": [
      "\r",
      "Epoch 27/1000:   3%|▎         | 27/1000 [1:06:05<39:35:28, 146.48s/it, v_num=o79v, train_loss_step=658, train_loss_epoch=652]"
     ]
    },
    {
     "name": "stdout",
     "output_type": "stream",
     "text": [
      "\r",
      "Epoch 27/1000:   3%|▎         | 27/1000 [1:06:05<39:35:28, 146.48s/it, v_num=o79v, train_loss_step=642, train_loss_epoch=652]"
     ]
    },
    {
     "name": "stdout",
     "output_type": "stream",
     "text": [
      "\r",
      "Epoch 28/1000:   3%|▎         | 27/1000 [1:06:05<39:35:28, 146.48s/it, v_num=o79v, train_loss_step=642, train_loss_epoch=652]"
     ]
    },
    {
     "name": "stdout",
     "output_type": "stream",
     "text": [
      "\r",
      "Epoch 28/1000:   3%|▎         | 28/1000 [1:08:29<39:25:02, 145.99s/it, v_num=o79v, train_loss_step=642, train_loss_epoch=652]"
     ]
    },
    {
     "name": "stdout",
     "output_type": "stream",
     "text": [
      "\r",
      "Epoch 28/1000:   3%|▎         | 28/1000 [1:08:29<39:25:02, 145.99s/it, v_num=o79v, train_loss_step=639, train_loss_epoch=652]"
     ]
    },
    {
     "name": "stdout",
     "output_type": "stream",
     "text": [
      "\r",
      "Epoch 29/1000:   3%|▎         | 28/1000 [1:08:29<39:25:02, 145.99s/it, v_num=o79v, train_loss_step=639, train_loss_epoch=652]"
     ]
    },
    {
     "name": "stdout",
     "output_type": "stream",
     "text": [
      "\r",
      "Epoch 29/1000:   3%|▎         | 29/1000 [1:10:56<39:26:37, 146.24s/it, v_num=o79v, train_loss_step=639, train_loss_epoch=652]"
     ]
    },
    {
     "name": "stdout",
     "output_type": "stream",
     "text": [
      "\r",
      "Epoch 29/1000:   3%|▎         | 29/1000 [1:10:56<39:26:37, 146.24s/it, v_num=o79v, train_loss_step=679, train_loss_epoch=652]"
     ]
    },
    {
     "name": "stdout",
     "output_type": "stream",
     "text": [
      "\r",
      "Epoch 30/1000:   3%|▎         | 29/1000 [1:10:56<39:26:37, 146.24s/it, v_num=o79v, train_loss_step=679, train_loss_epoch=652]"
     ]
    },
    {
     "name": "stdout",
     "output_type": "stream",
     "text": [
      "\r",
      "Epoch 30/1000:   3%|▎         | 30/1000 [1:13:21<39:16:11, 145.74s/it, v_num=o79v, train_loss_step=679, train_loss_epoch=652]"
     ]
    },
    {
     "name": "stdout",
     "output_type": "stream",
     "text": [
      "\r",
      "Epoch 30/1000:   3%|▎         | 30/1000 [1:13:21<39:16:11, 145.74s/it, v_num=o79v, train_loss_step=679, train_loss_epoch=652]"
     ]
    },
    {
     "name": "stdout",
     "output_type": "stream",
     "text": [
      "\r",
      "Epoch 31/1000:   3%|▎         | 30/1000 [1:13:21<39:16:11, 145.74s/it, v_num=o79v, train_loss_step=679, train_loss_epoch=652]"
     ]
    },
    {
     "name": "stdout",
     "output_type": "stream",
     "text": [
      "\r",
      "Epoch 31/1000:   3%|▎         | 31/1000 [1:15:46<39:12:15, 145.65s/it, v_num=o79v, train_loss_step=679, train_loss_epoch=652]"
     ]
    },
    {
     "name": "stdout",
     "output_type": "stream",
     "text": [
      "\r",
      "Epoch 31/1000:   3%|▎         | 31/1000 [1:15:46<39:12:15, 145.65s/it, v_num=o79v, train_loss_step=625, train_loss_epoch=652]"
     ]
    },
    {
     "name": "stdout",
     "output_type": "stream",
     "text": [
      "\r",
      "Epoch 32/1000:   3%|▎         | 31/1000 [1:15:46<39:12:15, 145.65s/it, v_num=o79v, train_loss_step=625, train_loss_epoch=652]"
     ]
    },
    {
     "name": "stdout",
     "output_type": "stream",
     "text": [
      "\r",
      "Epoch 32/1000:   3%|▎         | 32/1000 [1:18:14<39:22:30, 146.44s/it, v_num=o79v, train_loss_step=625, train_loss_epoch=652]"
     ]
    },
    {
     "name": "stdout",
     "output_type": "stream",
     "text": [
      "\r",
      "Epoch 32/1000:   3%|▎         | 32/1000 [1:18:14<39:22:30, 146.44s/it, v_num=o79v, train_loss_step=604, train_loss_epoch=652]"
     ]
    },
    {
     "name": "stdout",
     "output_type": "stream",
     "text": [
      "\r",
      "Epoch 33/1000:   3%|▎         | 32/1000 [1:18:14<39:22:30, 146.44s/it, v_num=o79v, train_loss_step=604, train_loss_epoch=652]"
     ]
    },
    {
     "name": "stdout",
     "output_type": "stream",
     "text": [
      "\r",
      "Epoch 33/1000:   3%|▎         | 33/1000 [1:20:41<39:19:00, 146.37s/it, v_num=o79v, train_loss_step=604, train_loss_epoch=652]"
     ]
    },
    {
     "name": "stdout",
     "output_type": "stream",
     "text": [
      "\r",
      "Epoch 33/1000:   3%|▎         | 33/1000 [1:20:41<39:19:00, 146.37s/it, v_num=o79v, train_loss_step=627, train_loss_epoch=652]"
     ]
    },
    {
     "name": "stdout",
     "output_type": "stream",
     "text": [
      "\r",
      "Epoch 34/1000:   3%|▎         | 33/1000 [1:20:41<39:19:00, 146.37s/it, v_num=o79v, train_loss_step=627, train_loss_epoch=652]"
     ]
    },
    {
     "name": "stdout",
     "output_type": "stream",
     "text": [
      "\r",
      "Epoch 34/1000:   3%|▎         | 34/1000 [1:23:07<39:15:05, 146.28s/it, v_num=o79v, train_loss_step=627, train_loss_epoch=652]"
     ]
    },
    {
     "name": "stdout",
     "output_type": "stream",
     "text": [
      "\r",
      "Epoch 34/1000:   3%|▎         | 34/1000 [1:23:07<39:15:05, 146.28s/it, v_num=o79v, train_loss_step=611, train_loss_epoch=652]"
     ]
    },
    {
     "name": "stdout",
     "output_type": "stream",
     "text": [
      "\r",
      "Epoch 35/1000:   3%|▎         | 34/1000 [1:23:07<39:15:05, 146.28s/it, v_num=o79v, train_loss_step=611, train_loss_epoch=652]"
     ]
    },
    {
     "name": "stdout",
     "output_type": "stream",
     "text": [
      "\r",
      "Epoch 35/1000:   4%|▎         | 35/1000 [1:25:32<39:08:50, 146.04s/it, v_num=o79v, train_loss_step=611, train_loss_epoch=652]"
     ]
    },
    {
     "name": "stdout",
     "output_type": "stream",
     "text": [
      "\r",
      "Epoch 35/1000:   4%|▎         | 35/1000 [1:25:32<39:08:50, 146.04s/it, v_num=o79v, train_loss_step=700, train_loss_epoch=652]"
     ]
    },
    {
     "name": "stdout",
     "output_type": "stream",
     "text": [
      "\r",
      "Epoch 36/1000:   4%|▎         | 35/1000 [1:25:32<39:08:50, 146.04s/it, v_num=o79v, train_loss_step=700, train_loss_epoch=652]"
     ]
    },
    {
     "name": "stdout",
     "output_type": "stream",
     "text": [
      "\r",
      "Epoch 36/1000:   4%|▎         | 36/1000 [1:27:58<39:05:54, 146.01s/it, v_num=o79v, train_loss_step=700, train_loss_epoch=652]"
     ]
    },
    {
     "name": "stdout",
     "output_type": "stream",
     "text": [
      "\r",
      "Epoch 36/1000:   4%|▎         | 36/1000 [1:27:58<39:05:54, 146.01s/it, v_num=o79v, train_loss_step=624, train_loss_epoch=652]"
     ]
    },
    {
     "name": "stdout",
     "output_type": "stream",
     "text": [
      "\r",
      "Epoch 37/1000:   4%|▎         | 36/1000 [1:27:58<39:05:54, 146.01s/it, v_num=o79v, train_loss_step=624, train_loss_epoch=652]"
     ]
    },
    {
     "name": "stdout",
     "output_type": "stream",
     "text": [
      "\r",
      "Epoch 37/1000:   4%|▎         | 37/1000 [1:30:25<39:05:43, 146.15s/it, v_num=o79v, train_loss_step=624, train_loss_epoch=652]"
     ]
    },
    {
     "name": "stdout",
     "output_type": "stream",
     "text": [
      "\r",
      "Epoch 37/1000:   4%|▎         | 37/1000 [1:30:25<39:05:43, 146.15s/it, v_num=o79v, train_loss_step=657, train_loss_epoch=652]"
     ]
    },
    {
     "name": "stdout",
     "output_type": "stream",
     "text": [
      "\r",
      "Epoch 38/1000:   4%|▎         | 37/1000 [1:30:25<39:05:43, 146.15s/it, v_num=o79v, train_loss_step=657, train_loss_epoch=652]"
     ]
    },
    {
     "name": "stdout",
     "output_type": "stream",
     "text": [
      "\r",
      "Epoch 38/1000:   4%|▍         | 38/1000 [1:32:42<38:22:52, 143.63s/it, v_num=o79v, train_loss_step=657, train_loss_epoch=652]"
     ]
    },
    {
     "name": "stdout",
     "output_type": "stream",
     "text": [
      "\r",
      "Epoch 38/1000:   4%|▍         | 38/1000 [1:32:42<38:22:52, 143.63s/it, v_num=o79v, train_loss_step=635, train_loss_epoch=652]"
     ]
    },
    {
     "name": "stdout",
     "output_type": "stream",
     "text": [
      "\r",
      "Epoch 39/1000:   4%|▍         | 38/1000 [1:32:42<38:22:52, 143.63s/it, v_num=o79v, train_loss_step=635, train_loss_epoch=652]"
     ]
    },
    {
     "name": "stdout",
     "output_type": "stream",
     "text": [
      "\r",
      "Epoch 39/1000:   4%|▍         | 39/1000 [1:34:47<36:48:30, 137.89s/it, v_num=o79v, train_loss_step=635, train_loss_epoch=652]"
     ]
    },
    {
     "name": "stdout",
     "output_type": "stream",
     "text": [
      "\r",
      "Epoch 39/1000:   4%|▍         | 39/1000 [1:34:47<36:48:30, 137.89s/it, v_num=o79v, train_loss_step=694, train_loss_epoch=652]"
     ]
    },
    {
     "name": "stdout",
     "output_type": "stream",
     "text": [
      "\r",
      "Epoch 40/1000:   4%|▍         | 39/1000 [1:34:47<36:48:30, 137.89s/it, v_num=o79v, train_loss_step=694, train_loss_epoch=652]"
     ]
    },
    {
     "name": "stdout",
     "output_type": "stream",
     "text": [
      "\r",
      "Epoch 40/1000:   4%|▍         | 40/1000 [1:37:05<36:45:19, 137.83s/it, v_num=o79v, train_loss_step=694, train_loss_epoch=652]"
     ]
    },
    {
     "name": "stdout",
     "output_type": "stream",
     "text": [
      "\r",
      "Epoch 40/1000:   4%|▍         | 40/1000 [1:37:05<36:45:19, 137.83s/it, v_num=o79v, train_loss_step=610, train_loss_epoch=652]"
     ]
    },
    {
     "name": "stdout",
     "output_type": "stream",
     "text": [
      "\r",
      "Epoch 41/1000:   4%|▍         | 40/1000 [1:37:05<36:45:19, 137.83s/it, v_num=o79v, train_loss_step=610, train_loss_epoch=652]"
     ]
    },
    {
     "name": "stdout",
     "output_type": "stream",
     "text": [
      "\r",
      "Epoch 41/1000:   4%|▍         | 41/1000 [1:39:28<37:09:14, 139.47s/it, v_num=o79v, train_loss_step=610, train_loss_epoch=652]"
     ]
    },
    {
     "name": "stdout",
     "output_type": "stream",
     "text": [
      "\r",
      "Epoch 41/1000:   4%|▍         | 41/1000 [1:39:28<37:09:14, 139.47s/it, v_num=o79v, train_loss_step=681, train_loss_epoch=653]"
     ]
    },
    {
     "name": "stdout",
     "output_type": "stream",
     "text": [
      "\r",
      "Epoch 42/1000:   4%|▍         | 41/1000 [1:39:28<37:09:14, 139.47s/it, v_num=o79v, train_loss_step=681, train_loss_epoch=653]"
     ]
    },
    {
     "name": "stdout",
     "output_type": "stream",
     "text": [
      "\r",
      "Epoch 42/1000:   4%|▍         | 42/1000 [1:41:49<37:13:18, 139.87s/it, v_num=o79v, train_loss_step=681, train_loss_epoch=653]"
     ]
    },
    {
     "name": "stdout",
     "output_type": "stream",
     "text": [
      "\r",
      "Epoch 42/1000:   4%|▍         | 42/1000 [1:41:49<37:13:18, 139.87s/it, v_num=o79v, train_loss_step=635, train_loss_epoch=653]"
     ]
    },
    {
     "name": "stdout",
     "output_type": "stream",
     "text": [
      "\r",
      "Epoch 42/1000:   4%|▍         | 42/1000 [1:41:49<38:42:28, 145.46s/it, v_num=o79v, train_loss_step=635, train_loss_epoch=653]"
     ]
    },
    {
     "name": "stdout",
     "output_type": "stream",
     "text": [
      "\n",
      "Monitored metric reconstruction_loss_validation did not improve in the last 10 records. Best score: 650.144. Signaling Trainer to stop.\n"
     ]
    }
   ],
   "source": [
    "model.train(logger=logger, plan_kwargs = plan_kwargs, **trainer_kwargs)"
   ]
  },
  {
   "cell_type": "code",
   "execution_count": 15,
   "id": "c282f6eb-0ad1-40a5-81e6-1acda1545dad",
   "metadata": {
    "execution": {
     "iopub.execute_input": "2024-05-03T20:48:27.641623Z",
     "iopub.status.busy": "2024-05-03T20:48:27.641334Z",
     "iopub.status.idle": "2024-05-03T20:48:32.969467Z",
     "shell.execute_reply": "2024-05-03T20:48:32.968848Z"
    },
    "papermill": {
     "duration": 5.340962,
     "end_time": "2024-05-03T20:48:32.971210",
     "exception": false,
     "start_time": "2024-05-03T20:48:27.630248",
     "status": "completed"
    },
    "tags": []
   },
   "outputs": [
    {
     "name": "stderr",
     "output_type": "stream",
     "text": [
      "\u001b[34m\u001b[1mwandb\u001b[0m: - 0.003 MB of 0.003 MB uploaded\r"
     ]
    },
    {
     "name": "stderr",
     "output_type": "stream",
     "text": [
      "\u001b[34m\u001b[1mwandb\u001b[0m: \\ 0.003 MB of 0.009 MB uploaded\r"
     ]
    },
    {
     "name": "stderr",
     "output_type": "stream",
     "text": [
      "\u001b[34m\u001b[1mwandb\u001b[0m: | 0.009 MB of 0.009 MB uploaded\r"
     ]
    },
    {
     "name": "stderr",
     "output_type": "stream",
     "text": [
      "\u001b[34m\u001b[1mwandb\u001b[0m: / 0.009 MB of 0.009 MB uploaded\r"
     ]
    },
    {
     "name": "stderr",
     "output_type": "stream",
     "text": [
      "\u001b[34m\u001b[1mwandb\u001b[0m: - 0.009 MB of 0.009 MB uploaded\r"
     ]
    },
    {
     "name": "stderr",
     "output_type": "stream",
     "text": [
      "\u001b[34m\u001b[1mwandb\u001b[0m:                                                                                \n"
     ]
    },
    {
     "name": "stderr",
     "output_type": "stream",
     "text": [
      "\u001b[34m\u001b[1mwandb\u001b[0m: \n",
      "\u001b[34m\u001b[1mwandb\u001b[0m: Run history:\n",
      "\u001b[34m\u001b[1mwandb\u001b[0m:                     elbo_train █▆▅▄▃▃▃▃▃▃▂▂▂▂▂▂▂▂▂▂▂▂▂▂▁▁▁▁▁▁▁▁▁▁▁▁▁▁▁▁\n",
      "\u001b[34m\u001b[1mwandb\u001b[0m:                elbo_validation █▆▅▄▄▃▃▃▃▃▃▂▂▂▂▂▂▂▂▂▂▂▂▂▂▁▁▁▁▁▁▁▁▁▁▁▁▁▁▁\n",
      "\u001b[34m\u001b[1mwandb\u001b[0m:                          epoch ▁▁▁▂▂▂▂▂▂▃▃▃▃▃▄▄▄▄▄▄▅▅▅▅▅▅▆▆▆▆▆▇▇▇▇▇▇███\n",
      "\u001b[34m\u001b[1mwandb\u001b[0m:                kl_global_train ▁▁▁▁▁▁▁▁▁▁▁▁▁▁▁▁▁▁▁▁▁▁▁▁▁▁▁▁▁▁▁▁▁▁▁▁▁▁▁▁\n",
      "\u001b[34m\u001b[1mwandb\u001b[0m:           kl_global_validation ▁▁▁▁▁▁▁▁▁▁▁▁▁▁▁▁▁▁▁▁▁▁▁▁▁▁▁▁▁▁▁▁▁▁▁▁▁▁▁▁\n",
      "\u001b[34m\u001b[1mwandb\u001b[0m:                 kl_local_train █▇▆▅▄▄▄▃▃▃▃▃▃▃▂▂▂▂▂▂▂▂▂▂▂▂▂▂▁▁▁▁▁▁▁▁▁▁▁▁\n",
      "\u001b[34m\u001b[1mwandb\u001b[0m:            kl_local_validation █▇▅▄▄▄▃▃▃▃▃▃▃▂▂▂▂▂▂▂▂▂▂▂▂▂▂▁▁▁▁▁▁▁▁▁▁▁▁▁\n",
      "\u001b[34m\u001b[1mwandb\u001b[0m:                      kl_weight ▁▁▁▂▂▂▂▂▂▃▃▃▃▃▄▄▄▄▄▄▅▅▅▅▅▅▆▆▆▆▆▆▇▇▇▇▇███\n",
      "\u001b[34m\u001b[1mwandb\u001b[0m:      reconstruction_loss_train █▄▃▂▂▂▂▂▂▂▂▂▁▁▁▁▁▁▁▁▁▁▁▁▁▁▁▁▁▁▁▁▁▁▁▁▁▁▁▁\n",
      "\u001b[34m\u001b[1mwandb\u001b[0m: reconstruction_loss_validation █▅▄▃▃▃▂▂▂▂▂▂▂▂▁▁▁▁▁▁▁▁▁▁▁▁▁▁▁▁▁▁▁▁▁▁▁▁▁▁\n",
      "\u001b[34m\u001b[1mwandb\u001b[0m:               train_loss_epoch █▃▂▂▂▁▁▁▁▁▁▁▁▁▁▁▁▁▁▁▁▁▁▁▁▁▁▁▁▁▁▁▁▁▁▁▁▁▁▁\n",
      "\u001b[34m\u001b[1mwandb\u001b[0m:                train_loss_step █▄▄▅▂▃▄▄▂▁▄▂▄▅▂▄▄▆▅▅▄▃▄▅▅▅▅▄▄▅▆▆▆▆▄▄▅▅▅▆\n",
      "\u001b[34m\u001b[1mwandb\u001b[0m:            trainer/global_step ▁▁▁▂▂▂▂▂▂▃▃▃▃▃▃▄▄▄▄▄▅▅▅▅▅▅▆▆▆▆▆▇▇▇▇▇▇███\n",
      "\u001b[34m\u001b[1mwandb\u001b[0m:                validation_loss █▄▃▂▂▂▁▁▁▁▁▁▁▁▁▁▁▁▁▁▂▁▂▂▂▂▂▂▂▂▂▂▂▂▂▂▂▂▃▃\n",
      "\u001b[34m\u001b[1mwandb\u001b[0m: \n",
      "\u001b[34m\u001b[1mwandb\u001b[0m: Run summary:\n",
      "\u001b[34m\u001b[1mwandb\u001b[0m:                     elbo_train 673.46613\n",
      "\u001b[34m\u001b[1mwandb\u001b[0m:                elbo_validation 673.31244\n",
      "\u001b[34m\u001b[1mwandb\u001b[0m:                          epoch 41\n",
      "\u001b[34m\u001b[1mwandb\u001b[0m:                kl_global_train 0.0\n",
      "\u001b[34m\u001b[1mwandb\u001b[0m:           kl_global_validation 0.0\n",
      "\u001b[34m\u001b[1mwandb\u001b[0m:                 kl_local_train 23.29996\n",
      "\u001b[34m\u001b[1mwandb\u001b[0m:            kl_local_validation 23.12806\n",
      "\u001b[34m\u001b[1mwandb\u001b[0m:                      kl_weight 0.1025\n",
      "\u001b[34m\u001b[1mwandb\u001b[0m:      reconstruction_loss_train 650.16614\n",
      "\u001b[34m\u001b[1mwandb\u001b[0m: reconstruction_loss_validation 650.18439\n",
      "\u001b[34m\u001b[1mwandb\u001b[0m:               train_loss_epoch 652.55371\n",
      "\u001b[34m\u001b[1mwandb\u001b[0m:                train_loss_step 691.31488\n",
      "\u001b[34m\u001b[1mwandb\u001b[0m:            trainer/global_step 470945\n",
      "\u001b[34m\u001b[1mwandb\u001b[0m:                validation_loss 652.55402\n",
      "\u001b[34m\u001b[1mwandb\u001b[0m: \n"
     ]
    },
    {
     "name": "stderr",
     "output_type": "stream",
     "text": [
      "\u001b[34m\u001b[1mwandb\u001b[0m: 🚀 View run \u001b[33mStep3_T_NonNaive\u001b[0m at: \u001b[34m\u001b[4mhttps://wandb.ai/inflammation/inflammation_atlas_R1/runs/vx29o79v\u001b[0m\n",
      "\u001b[34m\u001b[1mwandb\u001b[0m: Synced 5 W&B file(s), 0 media file(s), 0 artifact file(s) and 0 other file(s)\n"
     ]
    },
    {
     "name": "stderr",
     "output_type": "stream",
     "text": [
      "\u001b[34m\u001b[1mwandb\u001b[0m: Find logs at: \u001b[35m\u001b[1m./wandb/run-20240503_190637-vx29o79v/logs\u001b[0m\n"
     ]
    }
   ],
   "source": [
    "wandb.finish()"
   ]
  },
  {
   "cell_type": "markdown",
   "id": "d9fb1179-83c7-4ac6-b4aa-92dc7a349801",
   "metadata": {
    "papermill": {
     "duration": 0.010998,
     "end_time": "2024-05-03T20:48:32.993154",
     "exception": false,
     "start_time": "2024-05-03T20:48:32.982156",
     "status": "completed"
    },
    "tags": []
   },
   "source": [
    "### Extracting embedding space"
   ]
  },
  {
   "cell_type": "code",
   "execution_count": 16,
   "id": "caaa5832-0123-4c59-8ec6-f46a75f7a14e",
   "metadata": {
    "execution": {
     "iopub.execute_input": "2024-05-03T20:48:33.015902Z",
     "iopub.status.busy": "2024-05-03T20:48:33.015215Z",
     "iopub.status.idle": "2024-05-03T20:49:19.608869Z",
     "shell.execute_reply": "2024-05-03T20:49:19.608054Z"
    },
    "papermill": {
     "duration": 46.607501,
     "end_time": "2024-05-03T20:49:19.610937",
     "exception": false,
     "start_time": "2024-05-03T20:48:33.003436",
     "status": "completed"
    },
    "tags": []
   },
   "outputs": [],
   "source": [
    "adata.obsm['X_scVI'] = model.get_latent_representation()"
   ]
  },
  {
   "cell_type": "markdown",
   "id": "2f03e70b-839c-40a6-9fbb-d76bbd787419",
   "metadata": {
    "papermill": {
     "duration": 0.010996,
     "end_time": "2024-05-03T20:49:19.633187",
     "exception": false,
     "start_time": "2024-05-03T20:49:19.622191",
     "status": "completed"
    },
    "tags": []
   },
   "source": [
    "## Save the results"
   ]
  },
  {
   "cell_type": "code",
   "execution_count": 17,
   "id": "7b04049b-47fd-4b62-a1c0-c43dcc086d34",
   "metadata": {
    "execution": {
     "iopub.execute_input": "2024-05-03T20:49:19.655987Z",
     "iopub.status.busy": "2024-05-03T20:49:19.655199Z",
     "iopub.status.idle": "2024-05-03T20:51:52.291537Z",
     "shell.execute_reply": "2024-05-03T20:51:52.290775Z"
    },
    "papermill": {
     "duration": 152.65018,
     "end_time": "2024-05-03T20:51:52.293678",
     "exception": false,
     "start_time": "2024-05-03T20:49:19.643498",
     "status": "completed"
    },
    "tags": []
   },
   "outputs": [],
   "source": [
    "if overwriteData:\n",
    "    adata.write(here(f\"{workDir}/{cellGroup}/results/02_{annotationLevel}_{cellGroup}_HVGsubset_scVI.h5ad\"), compression=\"gzip\")\n",
    "    model.save(here(f\"{workDir}/{cellGroup}/results/02_{annotationLevel}_{cellGroup}_HVGsubset_scVI_MODEL/\"),\n",
    "               overwrite = True, \n",
    "               save_anndata = False )   "
   ]
  },
  {
   "cell_type": "code",
   "execution_count": 18,
   "id": "629ba2bd-f6be-44ef-8fca-bbdf891bf25f",
   "metadata": {
    "execution": {
     "iopub.execute_input": "2024-05-03T20:51:52.317547Z",
     "iopub.status.busy": "2024-05-03T20:51:52.316818Z",
     "iopub.status.idle": "2024-05-03T20:51:52.320180Z",
     "shell.execute_reply": "2024-05-03T20:51:52.319572Z"
    },
    "papermill": {
     "duration": 0.016692,
     "end_time": "2024-05-03T20:51:52.321621",
     "exception": false,
     "start_time": "2024-05-03T20:51:52.304929",
     "status": "completed"
    },
    "tags": []
   },
   "outputs": [],
   "source": [
    "# To load the model do (after loading corresponding adata):\n",
    "# model = scvi.model.SCVI.load(here('{}/results/01_{}_HVGsubset_scVI_MODEL/'.format(workDir, cellGroup)), \n",
    "#                              adata, \n",
    "#                              use_gpu=True)"
   ]
  },
  {
   "cell_type": "raw",
   "id": "975e84d0-f56b-498d-b3a8-c9219cf22e53",
   "metadata": {
    "papermill": {
     "duration": 0.010704,
     "end_time": "2024-05-03T20:51:52.343084",
     "exception": false,
     "start_time": "2024-05-03T20:51:52.332380",
     "status": "completed"
    },
    "tags": []
   },
   "source": [
    "session_info.show()"
   ]
  }
 ],
 "metadata": {
  "kernelspec": {
   "display_name": "Python 3 (ipykernel)",
   "language": "python",
   "name": "python3"
  },
  "language_info": {
   "codemirror_mode": {
    "name": "ipython",
    "version": 3
   },
   "file_extension": ".py",
   "mimetype": "text/x-python",
   "name": "python",
   "nbconvert_exporter": "python",
   "pygments_lexer": "ipython3",
   "version": "3.9.18"
  },
  "papermill": {
   "default_parameters": {},
   "duration": 6368.488167,
   "end_time": "2024-05-03T20:51:54.786203",
   "environment_variables": {},
   "exception": null,
   "input_path": "./T_NonNaive/02_integration_scVI.ipynb",
   "output_path": "./T_NonNaive/02_integration_scVI_executed.ipynb",
   "parameters": {},
   "start_time": "2024-05-03T19:05:46.298036",
   "version": "2.5.0"
  }
 },
 "nbformat": 4,
 "nbformat_minor": 5
}