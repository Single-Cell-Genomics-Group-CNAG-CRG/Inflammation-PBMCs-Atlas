{
 "cells": [
  {
   "cell_type": "code",
   "execution_count": 1,
   "id": "2dd1425a-0c07-465e-b522-9e3cc5cb93a7",
   "metadata": {
    "execution": {
     "iopub.execute_input": "2024-05-03T19:31:02.350560Z",
     "iopub.status.busy": "2024-05-03T19:31:02.350007Z",
     "iopub.status.idle": "2024-05-03T19:31:07.659222Z",
     "shell.execute_reply": "2024-05-03T19:31:07.658352Z"
    },
    "papermill": {
     "duration": 5.316774,
     "end_time": "2024-05-03T19:31:07.661023",
     "exception": false,
     "start_time": "2024-05-03T19:31:02.344249",
     "status": "completed"
    },
    "tags": []
   },
   "outputs": [
    {
     "data": {
      "text/plain": [
       "True"
      ]
     },
     "execution_count": 1,
     "metadata": {},
     "output_type": "execute_result"
    }
   ],
   "source": [
    "import os\n",
    "import sys\n",
    "\n",
    "import numpy as np\n",
    "import matplotlib.pyplot as plt\n",
    "\n",
    "import scanpy as sc\n",
    "import scvi\n",
    "import torch\n",
    "\n",
    "from pytorch_lightning.loggers import WandbLogger\n",
    "import wandb\n",
    "from dotenv import load_dotenv\n",
    "\n",
    "import session_info\n",
    "import warnings\n",
    "from pyprojroot.here import here\n",
    "\n",
    "warnings.filterwarnings(\"ignore\")\n",
    "sys.path.insert(1, str(here('bin')))\n",
    "\n",
    "torch.set_float32_matmul_precision('high')\n",
    "\n",
    "#plt.style.use(['science','nature','no-latex'])\n",
    "dpi_fig_save = 300\n",
    "sc.set_figure_params(dpi=100, dpi_save=dpi_fig_save, vector_friendly=True)\n",
    "\n",
    "load_dotenv(here('.env'))"
   ]
  },
  {
   "cell_type": "code",
   "execution_count": 2,
   "id": "09c897fc-744b-43de-a681-718fb5d327fa",
   "metadata": {
    "execution": {
     "iopub.execute_input": "2024-05-03T19:31:07.671383Z",
     "iopub.status.busy": "2024-05-03T19:31:07.671103Z",
     "iopub.status.idle": "2024-05-03T19:31:07.675166Z",
     "shell.execute_reply": "2024-05-03T19:31:07.674332Z"
    },
    "papermill": {
     "duration": 0.010199,
     "end_time": "2024-05-03T19:31:07.676659",
     "exception": false,
     "start_time": "2024-05-03T19:31:07.666460",
     "status": "completed"
    },
    "tags": []
   },
   "outputs": [],
   "source": [
    "class CustomWandbLogger(WandbLogger):\n",
    "    @property\n",
    "    def save_dir(self):\n",
    "        return self.experiment.dir"
   ]
  },
  {
   "cell_type": "code",
   "execution_count": 3,
   "id": "8ee6662f-5d45-4137-80a5-bb0b9ae8d71f",
   "metadata": {
    "execution": {
     "iopub.execute_input": "2024-05-03T19:31:07.684920Z",
     "iopub.status.busy": "2024-05-03T19:31:07.684419Z",
     "iopub.status.idle": "2024-05-03T19:31:07.691521Z",
     "shell.execute_reply": "2024-05-03T19:31:07.690723Z"
    },
    "papermill": {
     "duration": 0.013125,
     "end_time": "2024-05-03T19:31:07.693097",
     "exception": false,
     "start_time": "2024-05-03T19:31:07.679972",
     "status": "completed"
    },
    "tags": []
   },
   "outputs": [
    {
     "name": "stderr",
     "output_type": "stream",
     "text": [
      "Seed set to 0\n"
     ]
    },
    {
     "name": "stdout",
     "output_type": "stream",
     "text": [
      "Last run with scvi-tools version: 1.1.2\n"
     ]
    }
   ],
   "source": [
    "scvi.settings.seed = 0\n",
    "print(\"Last run with scvi-tools version:\", scvi.__version__)"
   ]
  },
  {
   "cell_type": "markdown",
   "id": "a81037ff-5998-482a-ba86-520f757311a9",
   "metadata": {
    "papermill": {
     "duration": 0.003421,
     "end_time": "2024-05-03T19:31:07.699948",
     "exception": false,
     "start_time": "2024-05-03T19:31:07.696527",
     "status": "completed"
    },
    "tags": []
   },
   "source": [
    "**Setting parameters** "
   ]
  },
  {
   "cell_type": "code",
   "execution_count": 4,
   "id": "56c27966-8f10-4c93-8b1a-1fa75f005e41",
   "metadata": {
    "execution": {
     "iopub.execute_input": "2024-05-03T19:31:07.708395Z",
     "iopub.status.busy": "2024-05-03T19:31:07.708153Z",
     "iopub.status.idle": "2024-05-03T19:31:07.711768Z",
     "shell.execute_reply": "2024-05-03T19:31:07.710970Z"
    },
    "papermill": {
     "duration": 0.009918,
     "end_time": "2024-05-03T19:31:07.713330",
     "exception": false,
     "start_time": "2024-05-03T19:31:07.703412",
     "status": "completed"
    },
    "tags": []
   },
   "outputs": [],
   "source": [
    "overwriteFigures = True\n",
    "overwriteData = True"
   ]
  },
  {
   "cell_type": "code",
   "execution_count": 5,
   "id": "c86fccd3-a4fe-415b-8f4e-e2ceb3ec128a",
   "metadata": {
    "execution": {
     "iopub.execute_input": "2024-05-03T19:31:07.721711Z",
     "iopub.status.busy": "2024-05-03T19:31:07.721254Z",
     "iopub.status.idle": "2024-05-03T19:31:07.724900Z",
     "shell.execute_reply": "2024-05-03T19:31:07.724062Z"
    },
    "papermill": {
     "duration": 0.009693,
     "end_time": "2024-05-03T19:31:07.726568",
     "exception": false,
     "start_time": "2024-05-03T19:31:07.716875",
     "status": "completed"
    },
    "tags": []
   },
   "outputs": [],
   "source": [
    "cellGroup = 'Mono'\n",
    "workDir = os.getcwd()"
   ]
  },
  {
   "cell_type": "code",
   "execution_count": 6,
   "id": "2dee4d55-d168-467b-b867-a61fed9d6af1",
   "metadata": {
    "execution": {
     "iopub.execute_input": "2024-05-03T19:31:07.734985Z",
     "iopub.status.busy": "2024-05-03T19:31:07.734483Z",
     "iopub.status.idle": "2024-05-03T19:31:07.738427Z",
     "shell.execute_reply": "2024-05-03T19:31:07.737685Z"
    },
    "papermill": {
     "duration": 0.010248,
     "end_time": "2024-05-03T19:31:07.740281",
     "exception": false,
     "start_time": "2024-05-03T19:31:07.730033",
     "status": "completed"
    },
    "tags": []
   },
   "outputs": [],
   "source": [
    "annotationLevel = os.path.basename(os.path.normpath(workDir))"
   ]
  },
  {
   "cell_type": "code",
   "execution_count": 7,
   "id": "11e53cd5-b746-4152-89cb-c2f0c15d90b3",
   "metadata": {
    "execution": {
     "iopub.execute_input": "2024-05-03T19:31:07.748735Z",
     "iopub.status.busy": "2024-05-03T19:31:07.748271Z",
     "iopub.status.idle": "2024-05-03T19:31:07.752592Z",
     "shell.execute_reply": "2024-05-03T19:31:07.751801Z"
    },
    "papermill": {
     "duration": 0.010277,
     "end_time": "2024-05-03T19:31:07.753953",
     "exception": false,
     "start_time": "2024-05-03T19:31:07.743676",
     "status": "completed"
    },
    "tags": []
   },
   "outputs": [
    {
     "data": {
      "text/plain": [
       "'/home/jupyter/Inflammation-PBMCs-Atlas/02_cell_annotation/02_fromCellLineages_to_CellTypes/Step3'"
      ]
     },
     "execution_count": 7,
     "metadata": {},
     "output_type": "execute_result"
    }
   ],
   "source": [
    "workDir"
   ]
  },
  {
   "cell_type": "markdown",
   "id": "171d2f06-9a44-4fcb-b437-35dc546674b6",
   "metadata": {
    "papermill": {
     "duration": 0.00362,
     "end_time": "2024-05-03T19:31:07.761237",
     "exception": false,
     "start_time": "2024-05-03T19:31:07.757617",
     "status": "completed"
    },
    "tags": []
   },
   "source": [
    "**Load data**"
   ]
  },
  {
   "cell_type": "code",
   "execution_count": 8,
   "id": "429f34fe-dde6-4cc9-9f75-7de8f85c5ffe",
   "metadata": {
    "execution": {
     "iopub.execute_input": "2024-05-03T19:31:07.769755Z",
     "iopub.status.busy": "2024-05-03T19:31:07.769489Z",
     "iopub.status.idle": "2024-05-03T19:31:34.940671Z",
     "shell.execute_reply": "2024-05-03T19:31:34.939749Z"
    },
    "papermill": {
     "duration": 27.177616,
     "end_time": "2024-05-03T19:31:34.942397",
     "exception": false,
     "start_time": "2024-05-03T19:31:07.764781",
     "status": "completed"
    },
    "tags": []
   },
   "outputs": [
    {
     "data": {
      "text/plain": [
       "AnnData object with n_obs × n_vars = 1063880 × 2421\n",
       "    obs: 'studyID', 'libraryID', 'sampleID', 'chemistry', 'technology', 'patientID', 'disease', 'timepoint_replicate', 'treatmentStatus', 'therapyResponse', 'sex', 'age', 'BMI', 'binned_age', 'diseaseStatus', 'smokingStatus', 'ethnicity', 'institute', 'diseaseGroup', 'n_genes_by_counts', 'log1p_n_genes_by_counts', 'total_counts', 'log1p_total_counts', 'pct_counts_in_top_20_genes', 'total_counts_mt', 'log1p_total_counts_mt', 'pct_counts_mt', 'total_counts_ribo', 'log1p_total_counts_ribo', 'pct_counts_ribo', 'total_counts_hb', 'log1p_total_counts_hb', 'pct_counts_hb', 'total_counts_plt', 'log1p_total_counts_plt', 'pct_counts_plt', 'doublet_score', 'predicted_doublet', 'S_score', 'G2M_score', 'phase'\n",
       "    var: 'hgnc_id', 'symbol', 'locus_group', 'HUGO_status', 'mt', 'ribo', 'hb', 'plt', 'n_cells_by_counts', 'mean_counts', 'log1p_mean_counts', 'pct_dropout_by_counts', 'total_counts', 'log1p_total_counts', 'highly_variable'\n",
       "    uns: 'chemistry_colors', 'log1p'\n",
       "    layers: 'counts', 'log1p_10e4_counts'"
      ]
     },
     "execution_count": 8,
     "metadata": {},
     "output_type": "execute_result"
    }
   ],
   "source": [
    "adata = sc.read_h5ad(here(f\"{workDir}/{cellGroup}/results/01_{cellGroup}_normalized_HVGsubset.h5ad\"))\n",
    "adata"
   ]
  },
  {
   "cell_type": "markdown",
   "id": "8ac79f3b-d5af-41fa-8904-1e9ac1cbe2fb",
   "metadata": {
    "papermill": {
     "duration": 0.003961,
     "end_time": "2024-05-03T19:31:34.950515",
     "exception": false,
     "start_time": "2024-05-03T19:31:34.946554",
     "status": "completed"
    },
    "tags": []
   },
   "source": [
    "## scVI integration"
   ]
  },
  {
   "cell_type": "markdown",
   "id": "9544847d-d17f-4811-b14b-760446d54d32",
   "metadata": {
    "execution": {
     "iopub.execute_input": "2024-03-25T16:49:04.004504Z",
     "iopub.status.busy": "2024-03-25T16:49:04.004143Z",
     "iopub.status.idle": "2024-03-25T16:49:04.010148Z",
     "shell.execute_reply": "2024-03-25T16:49:04.009146Z",
     "shell.execute_reply.started": "2024-03-25T16:49:04.004477Z"
    },
    "papermill": {
     "duration": 0.003717,
     "end_time": "2024-05-03T19:31:34.957930",
     "exception": false,
     "start_time": "2024-05-03T19:31:34.954213",
     "status": "completed"
    },
    "tags": []
   },
   "source": [
    "**scVI parameters**"
   ]
  },
  {
   "cell_type": "code",
   "execution_count": 9,
   "id": "208966eb-545a-4c02-854c-0ed0487ef5b3",
   "metadata": {
    "execution": {
     "iopub.execute_input": "2024-05-03T19:31:34.966760Z",
     "iopub.status.busy": "2024-05-03T19:31:34.966467Z",
     "iopub.status.idle": "2024-05-03T19:31:34.972484Z",
     "shell.execute_reply": "2024-05-03T19:31:34.971664Z"
    },
    "papermill": {
     "duration": 0.012436,
     "end_time": "2024-05-03T19:31:34.974080",
     "exception": false,
     "start_time": "2024-05-03T19:31:34.961644",
     "status": "completed"
    },
    "tags": []
   },
   "outputs": [],
   "source": [
    "# https://docs.scvi-tools.org/en/stable/api/reference/scvi.train.Trainer.html#scvi.train.Trainer\n",
    "setup_kwargs = dict(\n",
    "    layer=\"counts\", \n",
    "    batch_key='libraryID', \n",
    "    categorical_covariate_keys = ['studyID', 'chemistry', 'disease', 'sampleID'],\n",
    "    labels_key = 'chemistry'    \n",
    ")\n",
    "\n",
    "scvi_kwargs = dict(n_hidden=512,\n",
    "                   n_latent=10, # reduceds after step 00 (main)\n",
    "                   n_layers=2,\n",
    "                   gene_likelihood='nb',\n",
    "                   dispersion='gene-label')\n",
    "\n",
    "trainer_kwargs = dict(\n",
    "    checkpointing_monitor = 'elbo_validation',\n",
    "    early_stopping_monitor = 'reconstruction_loss_validation',\n",
    "    early_stopping_patience = 10,\n",
    "    early_stopping_min_delta=0.1,\n",
    "    early_stopping = True,\n",
    "    max_epochs = 1000,\n",
    "\n",
    "    #logger = # wandb\n",
    ")\n",
    "# https://docs.scvi-tools.org/en/stable/api/reference/scvi.train.TrainingPlan.html#scvi.train.TrainingPlan\n",
    "plan_kwargs = dict(\n",
    "    lr = 5e-4,\n",
    "    #reduce_lr_on_plateau = True\n",
    ")\n",
    "\n",
    "# https://docs.scvi-tools.org/en/stable/api/reference/scvi.module.VAE.html#scvi.module.VAE\n",
    "#vae = dict(\n",
    "#    use_layer_norm='both',\n",
    "#    use_batch_norm='none',\n",
    "#    encode_covariates=True,\n",
    "#    deeply_inject_covariates=False\n",
    "#)\n",
    "parameter_dict = setup_kwargs | scvi_kwargs | trainer_kwargs | plan_kwargs"
   ]
  },
  {
   "cell_type": "markdown",
   "id": "1362366a-c16b-4c11-964b-b9c5f82f7b29",
   "metadata": {
    "papermill": {
     "duration": 0.003647,
     "end_time": "2024-05-03T19:31:34.981551",
     "exception": false,
     "start_time": "2024-05-03T19:31:34.977904",
     "status": "completed"
    },
    "tags": []
   },
   "source": [
    "**wandb parameter**"
   ]
  },
  {
   "cell_type": "code",
   "execution_count": 10,
   "id": "0496e33a-8ca5-423f-b42f-34a59760708c",
   "metadata": {
    "execution": {
     "iopub.execute_input": "2024-05-03T19:31:34.990796Z",
     "iopub.status.busy": "2024-05-03T19:31:34.990115Z",
     "iopub.status.idle": "2024-05-03T19:31:34.995054Z",
     "shell.execute_reply": "2024-05-03T19:31:34.994228Z"
    },
    "papermill": {
     "duration": 0.011219,
     "end_time": "2024-05-03T19:31:34.996539",
     "exception": false,
     "start_time": "2024-05-03T19:31:34.985320",
     "status": "completed"
    },
    "tags": []
   },
   "outputs": [
    {
     "data": {
      "text/plain": [
       "'Step3_Mono'"
      ]
     },
     "execution_count": 10,
     "metadata": {},
     "output_type": "execute_result"
    }
   ],
   "source": [
    "run_name = f\"{annotationLevel}_{cellGroup}\"\n",
    "run_name"
   ]
  },
  {
   "cell_type": "code",
   "execution_count": 11,
   "id": "b0021327-95a2-4002-bf32-2c5779a99505",
   "metadata": {
    "execution": {
     "iopub.execute_input": "2024-05-03T19:31:35.005726Z",
     "iopub.status.busy": "2024-05-03T19:31:35.005278Z",
     "iopub.status.idle": "2024-05-03T19:31:35.130975Z",
     "shell.execute_reply": "2024-05-03T19:31:35.130092Z"
    },
    "papermill": {
     "duration": 0.132635,
     "end_time": "2024-05-03T19:31:35.133024",
     "exception": false,
     "start_time": "2024-05-03T19:31:35.000389",
     "status": "completed"
    },
    "tags": []
   },
   "outputs": [],
   "source": [
    "logger = CustomWandbLogger(name = run_name, project='inflammation_atlas_R1', config=parameter_dict)"
   ]
  },
  {
   "cell_type": "markdown",
   "id": "c237eee1-a976-4915-9b7f-b014bf33f47d",
   "metadata": {
    "papermill": {
     "duration": 0.004061,
     "end_time": "2024-05-03T19:31:35.141368",
     "exception": false,
     "start_time": "2024-05-03T19:31:35.137307",
     "status": "completed"
    },
    "tags": []
   },
   "source": [
    "**Running integration**"
   ]
  },
  {
   "cell_type": "code",
   "execution_count": 12,
   "id": "aff97c53-1aba-462e-8a77-f1aec9cf724c",
   "metadata": {
    "execution": {
     "iopub.execute_input": "2024-05-03T19:31:35.150685Z",
     "iopub.status.busy": "2024-05-03T19:31:35.150162Z",
     "iopub.status.idle": "2024-05-03T19:31:35.772750Z",
     "shell.execute_reply": "2024-05-03T19:31:35.771678Z"
    },
    "papermill": {
     "duration": 0.629901,
     "end_time": "2024-05-03T19:31:35.775047",
     "exception": false,
     "start_time": "2024-05-03T19:31:35.145146",
     "status": "completed"
    },
    "tags": []
   },
   "outputs": [],
   "source": [
    "scvi.model.SCVI.setup_anndata(adata, \n",
    "                              **setup_kwargs)"
   ]
  },
  {
   "cell_type": "code",
   "execution_count": 13,
   "id": "1a56f448-cf44-47c1-81a4-a89caa930fec",
   "metadata": {
    "execution": {
     "iopub.execute_input": "2024-05-03T19:31:35.786163Z",
     "iopub.status.busy": "2024-05-03T19:31:35.785857Z",
     "iopub.status.idle": "2024-05-03T19:31:37.013154Z",
     "shell.execute_reply": "2024-05-03T19:31:37.012136Z"
    },
    "papermill": {
     "duration": 1.235235,
     "end_time": "2024-05-03T19:31:37.015325",
     "exception": false,
     "start_time": "2024-05-03T19:31:35.780090",
     "status": "completed"
    },
    "tags": []
   },
   "outputs": [],
   "source": [
    "model = scvi.model.SCVI(adata, **scvi_kwargs)"
   ]
  },
  {
   "cell_type": "code",
   "execution_count": 14,
   "id": "2735f010-4f24-4ae8-9740-a8cfeb335e9a",
   "metadata": {
    "execution": {
     "iopub.execute_input": "2024-05-03T19:31:37.025422Z",
     "iopub.status.busy": "2024-05-03T19:31:37.024722Z",
     "iopub.status.idle": "2024-05-03T20:38:18.893124Z",
     "shell.execute_reply": "2024-05-03T20:38:18.892291Z"
    },
    "papermill": {
     "duration": 4001.875343,
     "end_time": "2024-05-03T20:38:18.894818",
     "exception": false,
     "start_time": "2024-05-03T19:31:37.019475",
     "status": "completed"
    },
    "tags": []
   },
   "outputs": [
    {
     "name": "stderr",
     "output_type": "stream",
     "text": [
      "GPU available: True (cuda), used: True\n"
     ]
    },
    {
     "name": "stderr",
     "output_type": "stream",
     "text": [
      "TPU available: False, using: 0 TPU cores\n"
     ]
    },
    {
     "name": "stderr",
     "output_type": "stream",
     "text": [
      "IPU available: False, using: 0 IPUs\n"
     ]
    },
    {
     "name": "stderr",
     "output_type": "stream",
     "text": [
      "HPU available: False, using: 0 HPUs\n"
     ]
    },
    {
     "name": "stderr",
     "output_type": "stream",
     "text": [
      "\u001b[34m\u001b[1mwandb\u001b[0m: Currently logged in as: \u001b[33mdav1989\u001b[0m (\u001b[33minflammation\u001b[0m). Use \u001b[1m`wandb login --relogin`\u001b[0m to force relogin\n"
     ]
    },
    {
     "name": "stderr",
     "output_type": "stream",
     "text": [
      "\u001b[34m\u001b[1mwandb\u001b[0m: wandb version 0.16.6 is available!  To upgrade, please run:\n",
      "\u001b[34m\u001b[1mwandb\u001b[0m:  $ pip install wandb --upgrade\n"
     ]
    },
    {
     "name": "stderr",
     "output_type": "stream",
     "text": [
      "\u001b[34m\u001b[1mwandb\u001b[0m: Tracking run with wandb version 0.16.3\n"
     ]
    },
    {
     "name": "stderr",
     "output_type": "stream",
     "text": [
      "\u001b[34m\u001b[1mwandb\u001b[0m: Run data is saved locally in \u001b[35m\u001b[1m./wandb/run-20240503_193141-8cc60kfe\u001b[0m\n",
      "\u001b[34m\u001b[1mwandb\u001b[0m: Run \u001b[1m`wandb offline`\u001b[0m to turn off syncing.\n"
     ]
    },
    {
     "name": "stderr",
     "output_type": "stream",
     "text": [
      "\u001b[34m\u001b[1mwandb\u001b[0m: Syncing run \u001b[33mStep3_Mono\u001b[0m\n"
     ]
    },
    {
     "name": "stderr",
     "output_type": "stream",
     "text": [
      "\u001b[34m\u001b[1mwandb\u001b[0m: ⭐️ View project at \u001b[34m\u001b[4mhttps://wandb.ai/inflammation/inflammation_atlas_R1\u001b[0m\n"
     ]
    },
    {
     "name": "stderr",
     "output_type": "stream",
     "text": [
      "\u001b[34m\u001b[1mwandb\u001b[0m: 🚀 View run at \u001b[34m\u001b[4mhttps://wandb.ai/inflammation/inflammation_atlas_R1/runs/8cc60kfe\u001b[0m\n"
     ]
    },
    {
     "name": "stderr",
     "output_type": "stream",
     "text": [
      "LOCAL_RANK: 0 - CUDA_VISIBLE_DEVICES: [0]\n"
     ]
    },
    {
     "name": "stdout",
     "output_type": "stream",
     "text": [
      "\r",
      "Training:   0%|          | 0/1000 [00:00<?, ?it/s]"
     ]
    },
    {
     "name": "stdout",
     "output_type": "stream",
     "text": [
      "\r",
      "Epoch 1/1000:   0%|          | 0/1000 [00:00<?, ?it/s]"
     ]
    },
    {
     "name": "stdout",
     "output_type": "stream",
     "text": [
      "\r",
      "Epoch 1/1000:   0%|          | 1/1000 [01:41<28:09:44, 101.49s/it]"
     ]
    },
    {
     "name": "stdout",
     "output_type": "stream",
     "text": [
      "\r",
      "Epoch 1/1000:   0%|          | 1/1000 [01:41<28:09:44, 101.49s/it, v_num=0kfe, train_loss_step=846, train_loss_epoch=821]"
     ]
    },
    {
     "name": "stdout",
     "output_type": "stream",
     "text": [
      "\r",
      "Epoch 2/1000:   0%|          | 1/1000 [01:41<28:09:44, 101.49s/it, v_num=0kfe, train_loss_step=846, train_loss_epoch=821]"
     ]
    },
    {
     "name": "stdout",
     "output_type": "stream",
     "text": [
      "\r",
      "Epoch 2/1000:   0%|          | 2/1000 [03:22<28:03:39, 101.22s/it, v_num=0kfe, train_loss_step=846, train_loss_epoch=821]"
     ]
    },
    {
     "name": "stdout",
     "output_type": "stream",
     "text": [
      "\r",
      "Epoch 2/1000:   0%|          | 2/1000 [03:22<28:03:39, 101.22s/it, v_num=0kfe, train_loss_step=851, train_loss_epoch=805]"
     ]
    },
    {
     "name": "stdout",
     "output_type": "stream",
     "text": [
      "\r",
      "Epoch 3/1000:   0%|          | 2/1000 [03:22<28:03:39, 101.22s/it, v_num=0kfe, train_loss_step=851, train_loss_epoch=805]"
     ]
    },
    {
     "name": "stdout",
     "output_type": "stream",
     "text": [
      "\r",
      "Epoch 3/1000:   0%|          | 3/1000 [05:02<27:53:56, 100.74s/it, v_num=0kfe, train_loss_step=851, train_loss_epoch=805]"
     ]
    },
    {
     "name": "stdout",
     "output_type": "stream",
     "text": [
      "\r",
      "Epoch 3/1000:   0%|          | 3/1000 [05:02<27:53:56, 100.74s/it, v_num=0kfe, train_loss_step=717, train_loss_epoch=802]"
     ]
    },
    {
     "name": "stdout",
     "output_type": "stream",
     "text": [
      "\r",
      "Epoch 4/1000:   0%|          | 3/1000 [05:02<27:53:56, 100.74s/it, v_num=0kfe, train_loss_step=717, train_loss_epoch=802]"
     ]
    },
    {
     "name": "stdout",
     "output_type": "stream",
     "text": [
      "\r",
      "Epoch 4/1000:   0%|          | 4/1000 [06:42<27:45:21, 100.32s/it, v_num=0kfe, train_loss_step=717, train_loss_epoch=802]"
     ]
    },
    {
     "name": "stdout",
     "output_type": "stream",
     "text": [
      "\r",
      "Epoch 4/1000:   0%|          | 4/1000 [06:42<27:45:21, 100.32s/it, v_num=0kfe, train_loss_step=857, train_loss_epoch=801]"
     ]
    },
    {
     "name": "stdout",
     "output_type": "stream",
     "text": [
      "\r",
      "Epoch 5/1000:   0%|          | 4/1000 [06:42<27:45:21, 100.32s/it, v_num=0kfe, train_loss_step=857, train_loss_epoch=801]"
     ]
    },
    {
     "name": "stdout",
     "output_type": "stream",
     "text": [
      "\r",
      "Epoch 5/1000:   0%|          | 5/1000 [08:23<27:48:29, 100.61s/it, v_num=0kfe, train_loss_step=857, train_loss_epoch=801]"
     ]
    },
    {
     "name": "stdout",
     "output_type": "stream",
     "text": [
      "\r",
      "Epoch 5/1000:   0%|          | 5/1000 [08:23<27:48:29, 100.61s/it, v_num=0kfe, train_loss_step=850, train_loss_epoch=801]"
     ]
    },
    {
     "name": "stdout",
     "output_type": "stream",
     "text": [
      "\r",
      "Epoch 6/1000:   0%|          | 5/1000 [08:23<27:48:29, 100.61s/it, v_num=0kfe, train_loss_step=850, train_loss_epoch=801]"
     ]
    },
    {
     "name": "stdout",
     "output_type": "stream",
     "text": [
      "\r",
      "Epoch 6/1000:   1%|          | 6/1000 [10:03<27:43:49, 100.43s/it, v_num=0kfe, train_loss_step=850, train_loss_epoch=801]"
     ]
    },
    {
     "name": "stdout",
     "output_type": "stream",
     "text": [
      "\r",
      "Epoch 6/1000:   1%|          | 6/1000 [10:03<27:43:49, 100.43s/it, v_num=0kfe, train_loss_step=912, train_loss_epoch=800]"
     ]
    },
    {
     "name": "stdout",
     "output_type": "stream",
     "text": [
      "\r",
      "Epoch 7/1000:   1%|          | 6/1000 [10:03<27:43:49, 100.43s/it, v_num=0kfe, train_loss_step=912, train_loss_epoch=800]"
     ]
    },
    {
     "name": "stdout",
     "output_type": "stream",
     "text": [
      "\r",
      "Epoch 7/1000:   1%|          | 7/1000 [11:45<27:47:55, 100.78s/it, v_num=0kfe, train_loss_step=912, train_loss_epoch=800]"
     ]
    },
    {
     "name": "stdout",
     "output_type": "stream",
     "text": [
      "\r",
      "Epoch 7/1000:   1%|          | 7/1000 [11:45<27:47:55, 100.78s/it, v_num=0kfe, train_loss_step=821, train_loss_epoch=800]"
     ]
    },
    {
     "name": "stdout",
     "output_type": "stream",
     "text": [
      "\r",
      "Epoch 8/1000:   1%|          | 7/1000 [11:45<27:47:55, 100.78s/it, v_num=0kfe, train_loss_step=821, train_loss_epoch=800]"
     ]
    },
    {
     "name": "stdout",
     "output_type": "stream",
     "text": [
      "\r",
      "Epoch 8/1000:   1%|          | 8/1000 [13:25<27:42:37, 100.56s/it, v_num=0kfe, train_loss_step=821, train_loss_epoch=800]"
     ]
    },
    {
     "name": "stdout",
     "output_type": "stream",
     "text": [
      "\r",
      "Epoch 8/1000:   1%|          | 8/1000 [13:25<27:42:37, 100.56s/it, v_num=0kfe, train_loss_step=770, train_loss_epoch=800]"
     ]
    },
    {
     "name": "stdout",
     "output_type": "stream",
     "text": [
      "\r",
      "Epoch 9/1000:   1%|          | 8/1000 [13:25<27:42:37, 100.56s/it, v_num=0kfe, train_loss_step=770, train_loss_epoch=800]"
     ]
    },
    {
     "name": "stdout",
     "output_type": "stream",
     "text": [
      "\r",
      "Epoch 9/1000:   1%|          | 9/1000 [15:05<27:37:15, 100.34s/it, v_num=0kfe, train_loss_step=770, train_loss_epoch=800]"
     ]
    },
    {
     "name": "stdout",
     "output_type": "stream",
     "text": [
      "\r",
      "Epoch 9/1000:   1%|          | 9/1000 [15:05<27:37:15, 100.34s/it, v_num=0kfe, train_loss_step=875, train_loss_epoch=799]"
     ]
    },
    {
     "name": "stdout",
     "output_type": "stream",
     "text": [
      "\r",
      "Epoch 10/1000:   1%|          | 9/1000 [15:05<27:37:15, 100.34s/it, v_num=0kfe, train_loss_step=875, train_loss_epoch=799]"
     ]
    },
    {
     "name": "stdout",
     "output_type": "stream",
     "text": [
      "\r",
      "Epoch 10/1000:   1%|          | 10/1000 [16:44<27:31:45, 100.11s/it, v_num=0kfe, train_loss_step=875, train_loss_epoch=799]"
     ]
    },
    {
     "name": "stdout",
     "output_type": "stream",
     "text": [
      "\r",
      "Epoch 10/1000:   1%|          | 10/1000 [16:44<27:31:45, 100.11s/it, v_num=0kfe, train_loss_step=815, train_loss_epoch=799]"
     ]
    },
    {
     "name": "stdout",
     "output_type": "stream",
     "text": [
      "\r",
      "Epoch 11/1000:   1%|          | 10/1000 [16:44<27:31:45, 100.11s/it, v_num=0kfe, train_loss_step=815, train_loss_epoch=799]"
     ]
    },
    {
     "name": "stdout",
     "output_type": "stream",
     "text": [
      "\r",
      "Epoch 11/1000:   1%|          | 11/1000 [18:25<27:32:02, 100.23s/it, v_num=0kfe, train_loss_step=815, train_loss_epoch=799]"
     ]
    },
    {
     "name": "stdout",
     "output_type": "stream",
     "text": [
      "\r",
      "Epoch 11/1000:   1%|          | 11/1000 [18:25<27:32:02, 100.23s/it, v_num=0kfe, train_loss_step=820, train_loss_epoch=799]"
     ]
    },
    {
     "name": "stdout",
     "output_type": "stream",
     "text": [
      "\r",
      "Epoch 12/1000:   1%|          | 11/1000 [18:25<27:32:02, 100.23s/it, v_num=0kfe, train_loss_step=820, train_loss_epoch=799]"
     ]
    },
    {
     "name": "stdout",
     "output_type": "stream",
     "text": [
      "\r",
      "Epoch 12/1000:   1%|          | 12/1000 [20:06<27:36:07, 100.57s/it, v_num=0kfe, train_loss_step=820, train_loss_epoch=799]"
     ]
    },
    {
     "name": "stdout",
     "output_type": "stream",
     "text": [
      "\r",
      "Epoch 12/1000:   1%|          | 12/1000 [20:06<27:36:07, 100.57s/it, v_num=0kfe, train_loss_step=869, train_loss_epoch=799]"
     ]
    },
    {
     "name": "stdout",
     "output_type": "stream",
     "text": [
      "\r",
      "Epoch 13/1000:   1%|          | 12/1000 [20:06<27:36:07, 100.57s/it, v_num=0kfe, train_loss_step=869, train_loss_epoch=799]"
     ]
    },
    {
     "name": "stdout",
     "output_type": "stream",
     "text": [
      "\r",
      "Epoch 13/1000:   1%|▏         | 13/1000 [21:46<27:30:24, 100.33s/it, v_num=0kfe, train_loss_step=869, train_loss_epoch=799]"
     ]
    },
    {
     "name": "stdout",
     "output_type": "stream",
     "text": [
      "\r",
      "Epoch 13/1000:   1%|▏         | 13/1000 [21:46<27:30:24, 100.33s/it, v_num=0kfe, train_loss_step=739, train_loss_epoch=799]"
     ]
    },
    {
     "name": "stdout",
     "output_type": "stream",
     "text": [
      "\r",
      "Epoch 14/1000:   1%|▏         | 13/1000 [21:46<27:30:24, 100.33s/it, v_num=0kfe, train_loss_step=739, train_loss_epoch=799]"
     ]
    },
    {
     "name": "stdout",
     "output_type": "stream",
     "text": [
      "\r",
      "Epoch 14/1000:   1%|▏         | 14/1000 [23:26<27:29:53, 100.40s/it, v_num=0kfe, train_loss_step=739, train_loss_epoch=799]"
     ]
    },
    {
     "name": "stdout",
     "output_type": "stream",
     "text": [
      "\r",
      "Epoch 14/1000:   1%|▏         | 14/1000 [23:26<27:29:53, 100.40s/it, v_num=0kfe, train_loss_step=727, train_loss_epoch=799]"
     ]
    },
    {
     "name": "stdout",
     "output_type": "stream",
     "text": [
      "\r",
      "Epoch 15/1000:   1%|▏         | 14/1000 [23:26<27:29:53, 100.40s/it, v_num=0kfe, train_loss_step=727, train_loss_epoch=799]"
     ]
    },
    {
     "name": "stdout",
     "output_type": "stream",
     "text": [
      "\r",
      "Epoch 15/1000:   2%|▏         | 15/1000 [25:09<27:37:23, 100.96s/it, v_num=0kfe, train_loss_step=727, train_loss_epoch=799]"
     ]
    },
    {
     "name": "stdout",
     "output_type": "stream",
     "text": [
      "\r",
      "Epoch 15/1000:   2%|▏         | 15/1000 [25:09<27:37:23, 100.96s/it, v_num=0kfe, train_loss_step=758, train_loss_epoch=799]"
     ]
    },
    {
     "name": "stdout",
     "output_type": "stream",
     "text": [
      "\r",
      "Epoch 16/1000:   2%|▏         | 15/1000 [25:09<27:37:23, 100.96s/it, v_num=0kfe, train_loss_step=758, train_loss_epoch=799]"
     ]
    },
    {
     "name": "stdout",
     "output_type": "stream",
     "text": [
      "\r",
      "Epoch 16/1000:   2%|▏         | 16/1000 [26:49<27:35:18, 100.93s/it, v_num=0kfe, train_loss_step=758, train_loss_epoch=799]"
     ]
    },
    {
     "name": "stdout",
     "output_type": "stream",
     "text": [
      "\r",
      "Epoch 16/1000:   2%|▏         | 16/1000 [26:49<27:35:18, 100.93s/it, v_num=0kfe, train_loss_step=816, train_loss_epoch=799]"
     ]
    },
    {
     "name": "stdout",
     "output_type": "stream",
     "text": [
      "\r",
      "Epoch 17/1000:   2%|▏         | 16/1000 [26:49<27:35:18, 100.93s/it, v_num=0kfe, train_loss_step=816, train_loss_epoch=799]"
     ]
    },
    {
     "name": "stdout",
     "output_type": "stream",
     "text": [
      "\r",
      "Epoch 17/1000:   2%|▏         | 17/1000 [28:29<27:26:11, 100.48s/it, v_num=0kfe, train_loss_step=816, train_loss_epoch=799]"
     ]
    },
    {
     "name": "stdout",
     "output_type": "stream",
     "text": [
      "\r",
      "Epoch 17/1000:   2%|▏         | 17/1000 [28:29<27:26:11, 100.48s/it, v_num=0kfe, train_loss_step=816, train_loss_epoch=799]"
     ]
    },
    {
     "name": "stdout",
     "output_type": "stream",
     "text": [
      "\r",
      "Epoch 18/1000:   2%|▏         | 17/1000 [28:29<27:26:11, 100.48s/it, v_num=0kfe, train_loss_step=816, train_loss_epoch=799]"
     ]
    },
    {
     "name": "stdout",
     "output_type": "stream",
     "text": [
      "\r",
      "Epoch 18/1000:   2%|▏         | 18/1000 [30:08<27:18:33, 100.12s/it, v_num=0kfe, train_loss_step=816, train_loss_epoch=799]"
     ]
    },
    {
     "name": "stdout",
     "output_type": "stream",
     "text": [
      "\r",
      "Epoch 18/1000:   2%|▏         | 18/1000 [30:08<27:18:33, 100.12s/it, v_num=0kfe, train_loss_step=697, train_loss_epoch=799]"
     ]
    },
    {
     "name": "stdout",
     "output_type": "stream",
     "text": [
      "\r",
      "Epoch 19/1000:   2%|▏         | 18/1000 [30:08<27:18:33, 100.12s/it, v_num=0kfe, train_loss_step=697, train_loss_epoch=799]"
     ]
    },
    {
     "name": "stdout",
     "output_type": "stream",
     "text": [
      "\r",
      "Epoch 19/1000:   2%|▏         | 19/1000 [31:46<27:06:55, 99.51s/it, v_num=0kfe, train_loss_step=697, train_loss_epoch=799] "
     ]
    },
    {
     "name": "stdout",
     "output_type": "stream",
     "text": [
      "\r",
      "Epoch 19/1000:   2%|▏         | 19/1000 [31:46<27:06:55, 99.51s/it, v_num=0kfe, train_loss_step=850, train_loss_epoch=799]"
     ]
    },
    {
     "name": "stdout",
     "output_type": "stream",
     "text": [
      "\r",
      "Epoch 20/1000:   2%|▏         | 19/1000 [31:46<27:06:55, 99.51s/it, v_num=0kfe, train_loss_step=850, train_loss_epoch=799]"
     ]
    },
    {
     "name": "stdout",
     "output_type": "stream",
     "text": [
      "\r",
      "Epoch 20/1000:   2%|▏         | 20/1000 [33:26<27:08:10, 99.68s/it, v_num=0kfe, train_loss_step=850, train_loss_epoch=799]"
     ]
    },
    {
     "name": "stdout",
     "output_type": "stream",
     "text": [
      "\r",
      "Epoch 20/1000:   2%|▏         | 20/1000 [33:26<27:08:10, 99.68s/it, v_num=0kfe, train_loss_step=843, train_loss_epoch=799]"
     ]
    },
    {
     "name": "stdout",
     "output_type": "stream",
     "text": [
      "\r",
      "Epoch 21/1000:   2%|▏         | 20/1000 [33:26<27:08:10, 99.68s/it, v_num=0kfe, train_loss_step=843, train_loss_epoch=799]"
     ]
    },
    {
     "name": "stdout",
     "output_type": "stream",
     "text": [
      "\r",
      "Epoch 21/1000:   2%|▏         | 21/1000 [35:06<27:05:12, 99.60s/it, v_num=0kfe, train_loss_step=843, train_loss_epoch=799]"
     ]
    },
    {
     "name": "stdout",
     "output_type": "stream",
     "text": [
      "\r",
      "Epoch 21/1000:   2%|▏         | 21/1000 [35:06<27:05:12, 99.60s/it, v_num=0kfe, train_loss_step=764, train_loss_epoch=799]"
     ]
    },
    {
     "name": "stdout",
     "output_type": "stream",
     "text": [
      "\r",
      "Epoch 22/1000:   2%|▏         | 21/1000 [35:06<27:05:12, 99.60s/it, v_num=0kfe, train_loss_step=764, train_loss_epoch=799]"
     ]
    },
    {
     "name": "stdout",
     "output_type": "stream",
     "text": [
      "\r",
      "Epoch 22/1000:   2%|▏         | 22/1000 [36:45<27:01:26, 99.47s/it, v_num=0kfe, train_loss_step=764, train_loss_epoch=799]"
     ]
    },
    {
     "name": "stdout",
     "output_type": "stream",
     "text": [
      "\r",
      "Epoch 22/1000:   2%|▏         | 22/1000 [36:45<27:01:26, 99.47s/it, v_num=0kfe, train_loss_step=844, train_loss_epoch=799]"
     ]
    },
    {
     "name": "stdout",
     "output_type": "stream",
     "text": [
      "\r",
      "Epoch 23/1000:   2%|▏         | 22/1000 [36:45<27:01:26, 99.47s/it, v_num=0kfe, train_loss_step=844, train_loss_epoch=799]"
     ]
    },
    {
     "name": "stdout",
     "output_type": "stream",
     "text": [
      "\r",
      "Epoch 23/1000:   2%|▏         | 23/1000 [38:25<27:01:34, 99.59s/it, v_num=0kfe, train_loss_step=844, train_loss_epoch=799]"
     ]
    },
    {
     "name": "stdout",
     "output_type": "stream",
     "text": [
      "\r",
      "Epoch 23/1000:   2%|▏         | 23/1000 [38:25<27:01:34, 99.59s/it, v_num=0kfe, train_loss_step=855, train_loss_epoch=799]"
     ]
    },
    {
     "name": "stdout",
     "output_type": "stream",
     "text": [
      "\r",
      "Epoch 24/1000:   2%|▏         | 23/1000 [38:25<27:01:34, 99.59s/it, v_num=0kfe, train_loss_step=855, train_loss_epoch=799]"
     ]
    },
    {
     "name": "stdout",
     "output_type": "stream",
     "text": [
      "\r",
      "Epoch 24/1000:   2%|▏         | 24/1000 [40:05<27:01:42, 99.70s/it, v_num=0kfe, train_loss_step=855, train_loss_epoch=799]"
     ]
    },
    {
     "name": "stdout",
     "output_type": "stream",
     "text": [
      "\r",
      "Epoch 24/1000:   2%|▏         | 24/1000 [40:05<27:01:42, 99.70s/it, v_num=0kfe, train_loss_step=884, train_loss_epoch=799]"
     ]
    },
    {
     "name": "stdout",
     "output_type": "stream",
     "text": [
      "\r",
      "Epoch 25/1000:   2%|▏         | 24/1000 [40:05<27:01:42, 99.70s/it, v_num=0kfe, train_loss_step=884, train_loss_epoch=799]"
     ]
    },
    {
     "name": "stdout",
     "output_type": "stream",
     "text": [
      "\r",
      "Epoch 25/1000:   2%|▎         | 25/1000 [41:43<26:54:18, 99.34s/it, v_num=0kfe, train_loss_step=884, train_loss_epoch=799]"
     ]
    },
    {
     "name": "stdout",
     "output_type": "stream",
     "text": [
      "\r",
      "Epoch 25/1000:   2%|▎         | 25/1000 [41:43<26:54:18, 99.34s/it, v_num=0kfe, train_loss_step=692, train_loss_epoch=799]"
     ]
    },
    {
     "name": "stdout",
     "output_type": "stream",
     "text": [
      "\r",
      "Epoch 26/1000:   2%|▎         | 25/1000 [41:43<26:54:18, 99.34s/it, v_num=0kfe, train_loss_step=692, train_loss_epoch=799]"
     ]
    },
    {
     "name": "stdout",
     "output_type": "stream",
     "text": [
      "\r",
      "Epoch 26/1000:   3%|▎         | 26/1000 [43:22<26:51:02, 99.24s/it, v_num=0kfe, train_loss_step=692, train_loss_epoch=799]"
     ]
    },
    {
     "name": "stdout",
     "output_type": "stream",
     "text": [
      "\r",
      "Epoch 26/1000:   3%|▎         | 26/1000 [43:22<26:51:02, 99.24s/it, v_num=0kfe, train_loss_step=803, train_loss_epoch=799]"
     ]
    },
    {
     "name": "stdout",
     "output_type": "stream",
     "text": [
      "\r",
      "Epoch 27/1000:   3%|▎         | 26/1000 [43:22<26:51:02, 99.24s/it, v_num=0kfe, train_loss_step=803, train_loss_epoch=799]"
     ]
    },
    {
     "name": "stdout",
     "output_type": "stream",
     "text": [
      "\r",
      "Epoch 27/1000:   3%|▎         | 27/1000 [45:03<26:55:03, 99.59s/it, v_num=0kfe, train_loss_step=803, train_loss_epoch=799]"
     ]
    },
    {
     "name": "stdout",
     "output_type": "stream",
     "text": [
      "\r",
      "Epoch 27/1000:   3%|▎         | 27/1000 [45:03<26:55:03, 99.59s/it, v_num=0kfe, train_loss_step=869, train_loss_epoch=799]"
     ]
    },
    {
     "name": "stdout",
     "output_type": "stream",
     "text": [
      "\r",
      "Epoch 28/1000:   3%|▎         | 27/1000 [45:03<26:55:03, 99.59s/it, v_num=0kfe, train_loss_step=869, train_loss_epoch=799]"
     ]
    },
    {
     "name": "stdout",
     "output_type": "stream",
     "text": [
      "\r",
      "Epoch 28/1000:   3%|▎         | 28/1000 [46:41<26:49:44, 99.37s/it, v_num=0kfe, train_loss_step=869, train_loss_epoch=799]"
     ]
    },
    {
     "name": "stdout",
     "output_type": "stream",
     "text": [
      "\r",
      "Epoch 28/1000:   3%|▎         | 28/1000 [46:41<26:49:44, 99.37s/it, v_num=0kfe, train_loss_step=833, train_loss_epoch=799]"
     ]
    },
    {
     "name": "stdout",
     "output_type": "stream",
     "text": [
      "\r",
      "Epoch 29/1000:   3%|▎         | 28/1000 [46:41<26:49:44, 99.37s/it, v_num=0kfe, train_loss_step=833, train_loss_epoch=799]"
     ]
    },
    {
     "name": "stdout",
     "output_type": "stream",
     "text": [
      "\r",
      "Epoch 29/1000:   3%|▎         | 29/1000 [48:19<26:38:54, 98.80s/it, v_num=0kfe, train_loss_step=833, train_loss_epoch=799]"
     ]
    },
    {
     "name": "stdout",
     "output_type": "stream",
     "text": [
      "\r",
      "Epoch 29/1000:   3%|▎         | 29/1000 [48:19<26:38:54, 98.80s/it, v_num=0kfe, train_loss_step=826, train_loss_epoch=799]"
     ]
    },
    {
     "name": "stdout",
     "output_type": "stream",
     "text": [
      "\r",
      "Epoch 30/1000:   3%|▎         | 29/1000 [48:19<26:38:54, 98.80s/it, v_num=0kfe, train_loss_step=826, train_loss_epoch=799]"
     ]
    },
    {
     "name": "stdout",
     "output_type": "stream",
     "text": [
      "\r",
      "Epoch 30/1000:   3%|▎         | 30/1000 [49:58<26:39:30, 98.94s/it, v_num=0kfe, train_loss_step=826, train_loss_epoch=799]"
     ]
    },
    {
     "name": "stdout",
     "output_type": "stream",
     "text": [
      "\r",
      "Epoch 30/1000:   3%|▎         | 30/1000 [49:58<26:39:30, 98.94s/it, v_num=0kfe, train_loss_step=776, train_loss_epoch=799]"
     ]
    },
    {
     "name": "stdout",
     "output_type": "stream",
     "text": [
      "\r",
      "Epoch 31/1000:   3%|▎         | 30/1000 [49:58<26:39:30, 98.94s/it, v_num=0kfe, train_loss_step=776, train_loss_epoch=799]"
     ]
    },
    {
     "name": "stdout",
     "output_type": "stream",
     "text": [
      "\r",
      "Epoch 31/1000:   3%|▎         | 31/1000 [51:37<26:39:20, 99.03s/it, v_num=0kfe, train_loss_step=776, train_loss_epoch=799]"
     ]
    },
    {
     "name": "stdout",
     "output_type": "stream",
     "text": [
      "\r",
      "Epoch 31/1000:   3%|▎         | 31/1000 [51:37<26:39:20, 99.03s/it, v_num=0kfe, train_loss_step=868, train_loss_epoch=799]"
     ]
    },
    {
     "name": "stdout",
     "output_type": "stream",
     "text": [
      "\r",
      "Epoch 32/1000:   3%|▎         | 31/1000 [51:37<26:39:20, 99.03s/it, v_num=0kfe, train_loss_step=868, train_loss_epoch=799]"
     ]
    },
    {
     "name": "stdout",
     "output_type": "stream",
     "text": [
      "\r",
      "Epoch 32/1000:   3%|▎         | 32/1000 [53:18<26:46:42, 99.59s/it, v_num=0kfe, train_loss_step=868, train_loss_epoch=799]"
     ]
    },
    {
     "name": "stdout",
     "output_type": "stream",
     "text": [
      "\r",
      "Epoch 32/1000:   3%|▎         | 32/1000 [53:18<26:46:42, 99.59s/it, v_num=0kfe, train_loss_step=709, train_loss_epoch=799]"
     ]
    },
    {
     "name": "stdout",
     "output_type": "stream",
     "text": [
      "\r",
      "Epoch 33/1000:   3%|▎         | 32/1000 [53:18<26:46:42, 99.59s/it, v_num=0kfe, train_loss_step=709, train_loss_epoch=799]"
     ]
    },
    {
     "name": "stdout",
     "output_type": "stream",
     "text": [
      "\r",
      "Epoch 33/1000:   3%|▎         | 33/1000 [54:59<26:48:35, 99.81s/it, v_num=0kfe, train_loss_step=709, train_loss_epoch=799]"
     ]
    },
    {
     "name": "stdout",
     "output_type": "stream",
     "text": [
      "\r",
      "Epoch 33/1000:   3%|▎         | 33/1000 [54:59<26:48:35, 99.81s/it, v_num=0kfe, train_loss_step=784, train_loss_epoch=799]"
     ]
    },
    {
     "name": "stdout",
     "output_type": "stream",
     "text": [
      "\r",
      "Epoch 34/1000:   3%|▎         | 33/1000 [54:59<26:48:35, 99.81s/it, v_num=0kfe, train_loss_step=784, train_loss_epoch=799]"
     ]
    },
    {
     "name": "stdout",
     "output_type": "stream",
     "text": [
      "\r",
      "Epoch 34/1000:   3%|▎         | 34/1000 [56:39<26:47:24, 99.84s/it, v_num=0kfe, train_loss_step=784, train_loss_epoch=799]"
     ]
    },
    {
     "name": "stdout",
     "output_type": "stream",
     "text": [
      "\r",
      "Epoch 34/1000:   3%|▎         | 34/1000 [56:39<26:47:24, 99.84s/it, v_num=0kfe, train_loss_step=844, train_loss_epoch=799]"
     ]
    },
    {
     "name": "stdout",
     "output_type": "stream",
     "text": [
      "\r",
      "Epoch 35/1000:   3%|▎         | 34/1000 [56:39<26:47:24, 99.84s/it, v_num=0kfe, train_loss_step=844, train_loss_epoch=799]"
     ]
    },
    {
     "name": "stdout",
     "output_type": "stream",
     "text": [
      "\r",
      "Epoch 35/1000:   4%|▎         | 35/1000 [58:18<26:41:30, 99.58s/it, v_num=0kfe, train_loss_step=844, train_loss_epoch=799]"
     ]
    },
    {
     "name": "stdout",
     "output_type": "stream",
     "text": [
      "\r",
      "Epoch 35/1000:   4%|▎         | 35/1000 [58:18<26:41:30, 99.58s/it, v_num=0kfe, train_loss_step=815, train_loss_epoch=799]"
     ]
    },
    {
     "name": "stdout",
     "output_type": "stream",
     "text": [
      "\r",
      "Epoch 36/1000:   4%|▎         | 35/1000 [58:18<26:41:30, 99.58s/it, v_num=0kfe, train_loss_step=815, train_loss_epoch=799]"
     ]
    },
    {
     "name": "stdout",
     "output_type": "stream",
     "text": [
      "\r",
      "Epoch 36/1000:   4%|▎         | 36/1000 [59:57<26:40:56, 99.64s/it, v_num=0kfe, train_loss_step=815, train_loss_epoch=799]"
     ]
    },
    {
     "name": "stdout",
     "output_type": "stream",
     "text": [
      "\r",
      "Epoch 36/1000:   4%|▎         | 36/1000 [59:57<26:40:56, 99.64s/it, v_num=0kfe, train_loss_step=784, train_loss_epoch=799]"
     ]
    },
    {
     "name": "stdout",
     "output_type": "stream",
     "text": [
      "\r",
      "Epoch 37/1000:   4%|▎         | 36/1000 [59:57<26:40:56, 99.64s/it, v_num=0kfe, train_loss_step=784, train_loss_epoch=799]"
     ]
    },
    {
     "name": "stdout",
     "output_type": "stream",
     "text": [
      "\r",
      "Epoch 37/1000:   4%|▎         | 37/1000 [1:01:36<26:35:11, 99.39s/it, v_num=0kfe, train_loss_step=784, train_loss_epoch=799]"
     ]
    },
    {
     "name": "stdout",
     "output_type": "stream",
     "text": [
      "\r",
      "Epoch 37/1000:   4%|▎         | 37/1000 [1:01:36<26:35:11, 99.39s/it, v_num=0kfe, train_loss_step=784, train_loss_epoch=799]"
     ]
    },
    {
     "name": "stdout",
     "output_type": "stream",
     "text": [
      "\r",
      "Epoch 38/1000:   4%|▎         | 37/1000 [1:01:36<26:35:11, 99.39s/it, v_num=0kfe, train_loss_step=784, train_loss_epoch=799]"
     ]
    },
    {
     "name": "stdout",
     "output_type": "stream",
     "text": [
      "\r",
      "Epoch 38/1000:   4%|▍         | 38/1000 [1:03:16<26:37:18, 99.62s/it, v_num=0kfe, train_loss_step=784, train_loss_epoch=799]"
     ]
    },
    {
     "name": "stdout",
     "output_type": "stream",
     "text": [
      "\r",
      "Epoch 38/1000:   4%|▍         | 38/1000 [1:03:16<26:37:18, 99.62s/it, v_num=0kfe, train_loss_step=816, train_loss_epoch=799]"
     ]
    },
    {
     "name": "stdout",
     "output_type": "stream",
     "text": [
      "\r",
      "Epoch 39/1000:   4%|▍         | 38/1000 [1:03:16<26:37:18, 99.62s/it, v_num=0kfe, train_loss_step=816, train_loss_epoch=799]"
     ]
    },
    {
     "name": "stdout",
     "output_type": "stream",
     "text": [
      "\r",
      "Epoch 39/1000:   4%|▍         | 39/1000 [1:04:57<26:39:03, 99.84s/it, v_num=0kfe, train_loss_step=816, train_loss_epoch=799]"
     ]
    },
    {
     "name": "stdout",
     "output_type": "stream",
     "text": [
      "\r",
      "Epoch 39/1000:   4%|▍         | 39/1000 [1:04:57<26:39:03, 99.84s/it, v_num=0kfe, train_loss_step=802, train_loss_epoch=799]"
     ]
    },
    {
     "name": "stdout",
     "output_type": "stream",
     "text": [
      "\r",
      "Epoch 40/1000:   4%|▍         | 39/1000 [1:04:57<26:39:03, 99.84s/it, v_num=0kfe, train_loss_step=802, train_loss_epoch=799]"
     ]
    },
    {
     "name": "stdout",
     "output_type": "stream",
     "text": [
      "\r",
      "Epoch 40/1000:   4%|▍         | 40/1000 [1:06:36<26:34:38, 99.67s/it, v_num=0kfe, train_loss_step=802, train_loss_epoch=799]"
     ]
    },
    {
     "name": "stdout",
     "output_type": "stream",
     "text": [
      "\r",
      "Epoch 40/1000:   4%|▍         | 40/1000 [1:06:36<26:34:38, 99.67s/it, v_num=0kfe, train_loss_step=824, train_loss_epoch=799]"
     ]
    },
    {
     "name": "stdout",
     "output_type": "stream",
     "text": [
      "\r",
      "Epoch 40/1000:   4%|▍         | 40/1000 [1:06:36<26:38:33, 99.91s/it, v_num=0kfe, train_loss_step=824, train_loss_epoch=799]"
     ]
    },
    {
     "name": "stdout",
     "output_type": "stream",
     "text": [
      "\n",
      "Monitored metric reconstruction_loss_validation did not improve in the last 10 records. Best score: 797.831. Signaling Trainer to stop.\n"
     ]
    }
   ],
   "source": [
    "model.train(logger=logger, plan_kwargs = plan_kwargs, **trainer_kwargs)"
   ]
  },
  {
   "cell_type": "code",
   "execution_count": 15,
   "id": "c282f6eb-0ad1-40a5-81e6-1acda1545dad",
   "metadata": {
    "execution": {
     "iopub.execute_input": "2024-05-03T20:38:18.929437Z",
     "iopub.status.busy": "2024-05-03T20:38:18.929110Z",
     "iopub.status.idle": "2024-05-03T20:38:24.638273Z",
     "shell.execute_reply": "2024-05-03T20:38:24.637625Z"
    },
    "papermill": {
     "duration": 5.729496,
     "end_time": "2024-05-03T20:38:24.640856",
     "exception": false,
     "start_time": "2024-05-03T20:38:18.911360",
     "status": "completed"
    },
    "tags": []
   },
   "outputs": [
    {
     "name": "stderr",
     "output_type": "stream",
     "text": [
      "\u001b[34m\u001b[1mwandb\u001b[0m: - 0.003 MB of 0.003 MB uploaded\r"
     ]
    },
    {
     "name": "stderr",
     "output_type": "stream",
     "text": [
      "\u001b[34m\u001b[1mwandb\u001b[0m: \\ 0.003 MB of 0.003 MB uploaded\r"
     ]
    },
    {
     "name": "stderr",
     "output_type": "stream",
     "text": [
      "\u001b[34m\u001b[1mwandb\u001b[0m: | 0.006 MB of 0.009 MB uploaded\r"
     ]
    },
    {
     "name": "stderr",
     "output_type": "stream",
     "text": [
      "\u001b[34m\u001b[1mwandb\u001b[0m: / 0.006 MB of 0.009 MB uploaded\r"
     ]
    },
    {
     "name": "stderr",
     "output_type": "stream",
     "text": [
      "\u001b[34m\u001b[1mwandb\u001b[0m: - 0.009 MB of 0.009 MB uploaded\r"
     ]
    },
    {
     "name": "stderr",
     "output_type": "stream",
     "text": [
      "\u001b[34m\u001b[1mwandb\u001b[0m:                                                                                \n"
     ]
    },
    {
     "name": "stderr",
     "output_type": "stream",
     "text": [
      "\u001b[34m\u001b[1mwandb\u001b[0m: \n",
      "\u001b[34m\u001b[1mwandb\u001b[0m: Run history:\n",
      "\u001b[34m\u001b[1mwandb\u001b[0m:                     elbo_train █▆▅▄▃▃▃▃▃▂▂▂▂▂▂▂▂▂▂▂▂▂▂▂▁▁▁▁▁▁▁▁▁▁▁▁▁▁▁▁\n",
      "\u001b[34m\u001b[1mwandb\u001b[0m:                elbo_validation █▇▆▅▄▄▄▃▃▃▃▃▂▂▂▂▂▂▂▂▂▂▂▂▂▂▁▁▁▁▁▁▁▁▁▁▁▁▁▁\n",
      "\u001b[34m\u001b[1mwandb\u001b[0m:                          epoch ▁▁▁▂▂▂▂▂▂▃▃▃▃▃▄▄▄▄▄▄▅▅▅▅▅▅▆▆▆▆▆▇▇▇▇▇▇███\n",
      "\u001b[34m\u001b[1mwandb\u001b[0m:                kl_global_train ▁▁▁▁▁▁▁▁▁▁▁▁▁▁▁▁▁▁▁▁▁▁▁▁▁▁▁▁▁▁▁▁▁▁▁▁▁▁▁▁\n",
      "\u001b[34m\u001b[1mwandb\u001b[0m:           kl_global_validation ▁▁▁▁▁▁▁▁▁▁▁▁▁▁▁▁▁▁▁▁▁▁▁▁▁▁▁▁▁▁▁▁▁▁▁▁▁▁▁▁\n",
      "\u001b[34m\u001b[1mwandb\u001b[0m:                 kl_local_train ██▇▆▅▅▄▄▄▄▃▃▃▃▃▃▃▂▂▂▂▂▂▂▂▂▂▂▂▂▁▁▁▁▁▁▁▁▁▁\n",
      "\u001b[34m\u001b[1mwandb\u001b[0m:            kl_local_validation █▇▇▅▅▄▄▄▄▃▃▃▃▃▃▃▂▂▂▂▂▂▂▂▂▂▂▂▂▁▁▁▁▁▁▁▁▁▁▁\n",
      "\u001b[34m\u001b[1mwandb\u001b[0m:                      kl_weight ▁▁▁▂▂▂▂▂▂▃▃▃▃▃▄▄▄▄▄▄▅▅▅▅▅▅▆▆▆▆▆▇▇▇▇▇▇███\n",
      "\u001b[34m\u001b[1mwandb\u001b[0m:      reconstruction_loss_train █▃▃▂▂▂▂▂▂▂▁▁▁▁▁▁▁▁▁▁▁▁▁▁▁▁▁▁▁▁▁▁▁▁▁▁▁▁▁▁\n",
      "\u001b[34m\u001b[1mwandb\u001b[0m: reconstruction_loss_validation █▅▄▃▃▂▂▂▂▂▂▁▁▁▁▁▁▁▁▁▁▁▁▁▁▁▁▁▁▁▁▁▁▁▁▁▁▁▁▁\n",
      "\u001b[34m\u001b[1mwandb\u001b[0m:               train_loss_epoch █▃▂▂▂▁▁▁▁▁▁▁▁▁▁▁▁▁▁▁▁▁▁▁▁▁▁▁▁▁▁▁▁▁▁▁▁▁▁▁\n",
      "\u001b[34m\u001b[1mwandb\u001b[0m:                train_loss_step ▅██▅▃▄▄▅▅▅▂▄▆▇▂▆▅▅▃▄▄▆▅▄▂▂▄▃▆▄▃▁▄▃▇▆▃▆▆▁\n",
      "\u001b[34m\u001b[1mwandb\u001b[0m:            trainer/global_step ▁▁▁▁▂▂▂▂▂▃▃▃▃▃▃▄▄▄▄▄▅▅▅▅▅▅▆▆▆▆▆▇▇▇▇▇▇███\n",
      "\u001b[34m\u001b[1mwandb\u001b[0m:                validation_loss █▄▃▂▂▂▂▁▁▁▁▁▁▁▁▁▁▁▁▁▁▁▁▁▁▁▁▁▁▁▁▂▂▂▂▂▂▂▂▂\n",
      "\u001b[34m\u001b[1mwandb\u001b[0m: \n",
      "\u001b[34m\u001b[1mwandb\u001b[0m: Run summary:\n",
      "\u001b[34m\u001b[1mwandb\u001b[0m:                     elbo_train 819.63074\n",
      "\u001b[34m\u001b[1mwandb\u001b[0m:                elbo_validation 820.37054\n",
      "\u001b[34m\u001b[1mwandb\u001b[0m:                          epoch 39\n",
      "\u001b[34m\u001b[1mwandb\u001b[0m:                kl_global_train 0.0\n",
      "\u001b[34m\u001b[1mwandb\u001b[0m:           kl_global_validation 0.0\n",
      "\u001b[34m\u001b[1mwandb\u001b[0m:                 kl_local_train 22.78395\n",
      "\u001b[34m\u001b[1mwandb\u001b[0m:            kl_local_validation 22.47341\n",
      "\u001b[34m\u001b[1mwandb\u001b[0m:                      kl_weight 0.0975\n",
      "\u001b[34m\u001b[1mwandb\u001b[0m:      reconstruction_loss_train 796.8468\n",
      "\u001b[34m\u001b[1mwandb\u001b[0m: reconstruction_loss_validation 797.89716\n",
      "\u001b[34m\u001b[1mwandb\u001b[0m:               train_loss_epoch 799.06738\n",
      "\u001b[34m\u001b[1mwandb\u001b[0m:                train_loss_step 823.75616\n",
      "\u001b[34m\u001b[1mwandb\u001b[0m:            trainer/global_step 299239\n",
      "\u001b[34m\u001b[1mwandb\u001b[0m:                validation_loss 800.08844\n",
      "\u001b[34m\u001b[1mwandb\u001b[0m: \n"
     ]
    },
    {
     "name": "stderr",
     "output_type": "stream",
     "text": [
      "\u001b[34m\u001b[1mwandb\u001b[0m: 🚀 View run \u001b[33mStep3_Mono\u001b[0m at: \u001b[34m\u001b[4mhttps://wandb.ai/inflammation/inflammation_atlas_R1/runs/8cc60kfe\u001b[0m\n",
      "\u001b[34m\u001b[1mwandb\u001b[0m: Synced 5 W&B file(s), 0 media file(s), 0 artifact file(s) and 0 other file(s)\n"
     ]
    },
    {
     "name": "stderr",
     "output_type": "stream",
     "text": [
      "\u001b[34m\u001b[1mwandb\u001b[0m: Find logs at: \u001b[35m\u001b[1m./wandb/run-20240503_193141-8cc60kfe/logs\u001b[0m\n"
     ]
    }
   ],
   "source": [
    "wandb.finish()"
   ]
  },
  {
   "cell_type": "markdown",
   "id": "d9fb1179-83c7-4ac6-b4aa-92dc7a349801",
   "metadata": {
    "papermill": {
     "duration": 0.017075,
     "end_time": "2024-05-03T20:38:24.676341",
     "exception": false,
     "start_time": "2024-05-03T20:38:24.659266",
     "status": "completed"
    },
    "tags": []
   },
   "source": [
    "### Extracting embedding space"
   ]
  },
  {
   "cell_type": "code",
   "execution_count": 16,
   "id": "caaa5832-0123-4c59-8ec6-f46a75f7a14e",
   "metadata": {
    "execution": {
     "iopub.execute_input": "2024-05-03T20:38:24.702989Z",
     "iopub.status.busy": "2024-05-03T20:38:24.702687Z",
     "iopub.status.idle": "2024-05-03T20:39:01.114059Z",
     "shell.execute_reply": "2024-05-03T20:39:01.113309Z"
    },
    "papermill": {
     "duration": 36.425246,
     "end_time": "2024-05-03T20:39:01.116356",
     "exception": false,
     "start_time": "2024-05-03T20:38:24.691110",
     "status": "completed"
    },
    "tags": []
   },
   "outputs": [],
   "source": [
    "adata.obsm['X_scVI'] = model.get_latent_representation()"
   ]
  },
  {
   "cell_type": "markdown",
   "id": "2f03e70b-839c-40a6-9fbb-d76bbd787419",
   "metadata": {
    "papermill": {
     "duration": 0.010392,
     "end_time": "2024-05-03T20:39:01.137556",
     "exception": false,
     "start_time": "2024-05-03T20:39:01.127164",
     "status": "completed"
    },
    "tags": []
   },
   "source": [
    "## Save the results"
   ]
  },
  {
   "cell_type": "code",
   "execution_count": 17,
   "id": "7b04049b-47fd-4b62-a1c0-c43dcc086d34",
   "metadata": {
    "execution": {
     "iopub.execute_input": "2024-05-03T20:39:01.159888Z",
     "iopub.status.busy": "2024-05-03T20:39:01.159257Z",
     "iopub.status.idle": "2024-05-03T20:41:10.196197Z",
     "shell.execute_reply": "2024-05-03T20:41:10.195347Z"
    },
    "papermill": {
     "duration": 129.050796,
     "end_time": "2024-05-03T20:41:10.198446",
     "exception": false,
     "start_time": "2024-05-03T20:39:01.147650",
     "status": "completed"
    },
    "tags": []
   },
   "outputs": [],
   "source": [
    "if overwriteData:\n",
    "    adata.write(here(f\"{workDir}/{cellGroup}/results/02_{annotationLevel}_{cellGroup}_HVGsubset_scVI.h5ad\"), compression=\"gzip\")\n",
    "    model.save(here(f\"{workDir}/{cellGroup}/results/02_{annotationLevel}_{cellGroup}_HVGsubset_scVI_MODEL/\"),\n",
    "               overwrite = True, \n",
    "               save_anndata = False )   "
   ]
  },
  {
   "cell_type": "code",
   "execution_count": 18,
   "id": "629ba2bd-f6be-44ef-8fca-bbdf891bf25f",
   "metadata": {
    "execution": {
     "iopub.execute_input": "2024-05-03T20:41:10.222989Z",
     "iopub.status.busy": "2024-05-03T20:41:10.222227Z",
     "iopub.status.idle": "2024-05-03T20:41:10.225718Z",
     "shell.execute_reply": "2024-05-03T20:41:10.225064Z"
    },
    "papermill": {
     "duration": 0.017229,
     "end_time": "2024-05-03T20:41:10.227386",
     "exception": false,
     "start_time": "2024-05-03T20:41:10.210157",
     "status": "completed"
    },
    "tags": []
   },
   "outputs": [],
   "source": [
    "# To load the model do (after loading corresponding adata):\n",
    "# model = scvi.model.SCVI.load(here('{}/results/01_{}_HVGsubset_scVI_MODEL/'.format(workDir, cellGroup)), \n",
    "#                              adata, \n",
    "#                              use_gpu=True)"
   ]
  },
  {
   "cell_type": "raw",
   "id": "975e84d0-f56b-498d-b3a8-c9219cf22e53",
   "metadata": {
    "papermill": {
     "duration": 0.010639,
     "end_time": "2024-05-03T20:41:10.248807",
     "exception": false,
     "start_time": "2024-05-03T20:41:10.238168",
     "status": "completed"
    },
    "tags": []
   },
   "source": [
    "session_info.show()"
   ]
  }
 ],
 "metadata": {
  "kernelspec": {
   "display_name": "Python 3 (ipykernel)",
   "language": "python",
   "name": "python3"
  },
  "language_info": {
   "codemirror_mode": {
    "name": "ipython",
    "version": 3
   },
   "file_extension": ".py",
   "mimetype": "text/x-python",
   "name": "python",
   "nbconvert_exporter": "python",
   "pygments_lexer": "ipython3",
   "version": "3.9.18"
  },
  "papermill": {
   "default_parameters": {},
   "duration": 4212.011086,
   "end_time": "2024-05-03T20:41:13.478587",
   "environment_variables": {},
   "exception": null,
   "input_path": "./Mono/02_integration_scVI.ipynb",
   "output_path": "./Mono/02_integration_scVI_executed.ipynb",
   "parameters": {},
   "start_time": "2024-05-03T19:31:01.467501",
   "version": "2.5.0"
  }
 },
 "nbformat": 4,
 "nbformat_minor": 5
}