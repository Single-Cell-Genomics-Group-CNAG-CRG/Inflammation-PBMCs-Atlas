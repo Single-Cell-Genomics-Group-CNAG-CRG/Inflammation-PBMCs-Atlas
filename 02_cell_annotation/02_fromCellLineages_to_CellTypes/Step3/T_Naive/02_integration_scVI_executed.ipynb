{
 "cells": [
  {
   "cell_type": "code",
   "execution_count": 1,
   "id": "2dd1425a-0c07-465e-b522-9e3cc5cb93a7",
   "metadata": {
    "execution": {
     "iopub.execute_input": "2024-05-03T20:46:00.116549Z",
     "iopub.status.busy": "2024-05-03T20:46:00.115721Z",
     "iopub.status.idle": "2024-05-03T20:46:05.379524Z",
     "shell.execute_reply": "2024-05-03T20:46:05.378609Z"
    },
    "papermill": {
     "duration": 5.271559,
     "end_time": "2024-05-03T20:46:05.381580",
     "exception": false,
     "start_time": "2024-05-03T20:46:00.110021",
     "status": "completed"
    },
    "tags": []
   },
   "outputs": [
    {
     "data": {
      "text/plain": [
       "True"
      ]
     },
     "execution_count": 1,
     "metadata": {},
     "output_type": "execute_result"
    }
   ],
   "source": [
    "import os\n",
    "import sys\n",
    "\n",
    "import numpy as np\n",
    "import matplotlib.pyplot as plt\n",
    "\n",
    "import scanpy as sc\n",
    "import scvi\n",
    "import torch\n",
    "\n",
    "from pytorch_lightning.loggers import WandbLogger\n",
    "import wandb\n",
    "from dotenv import load_dotenv\n",
    "\n",
    "import session_info\n",
    "import warnings\n",
    "from pyprojroot.here import here\n",
    "\n",
    "warnings.filterwarnings(\"ignore\")\n",
    "sys.path.insert(1, str(here('bin')))\n",
    "\n",
    "torch.set_float32_matmul_precision('high')\n",
    "\n",
    "#plt.style.use(['science','nature','no-latex'])\n",
    "dpi_fig_save = 300\n",
    "sc.set_figure_params(dpi=100, dpi_save=dpi_fig_save, vector_friendly=True)\n",
    "\n",
    "load_dotenv(here('.env'))"
   ]
  },
  {
   "cell_type": "code",
   "execution_count": 2,
   "id": "09c897fc-744b-43de-a681-718fb5d327fa",
   "metadata": {
    "execution": {
     "iopub.execute_input": "2024-05-03T20:46:05.392236Z",
     "iopub.status.busy": "2024-05-03T20:46:05.391834Z",
     "iopub.status.idle": "2024-05-03T20:46:05.396150Z",
     "shell.execute_reply": "2024-05-03T20:46:05.395295Z"
    },
    "papermill": {
     "duration": 0.010763,
     "end_time": "2024-05-03T20:46:05.397821",
     "exception": false,
     "start_time": "2024-05-03T20:46:05.387058",
     "status": "completed"
    },
    "tags": []
   },
   "outputs": [],
   "source": [
    "class CustomWandbLogger(WandbLogger):\n",
    "    @property\n",
    "    def save_dir(self):\n",
    "        return self.experiment.dir"
   ]
  },
  {
   "cell_type": "code",
   "execution_count": 3,
   "id": "8ee6662f-5d45-4137-80a5-bb0b9ae8d71f",
   "metadata": {
    "execution": {
     "iopub.execute_input": "2024-05-03T20:46:05.406143Z",
     "iopub.status.busy": "2024-05-03T20:46:05.405662Z",
     "iopub.status.idle": "2024-05-03T20:46:05.412623Z",
     "shell.execute_reply": "2024-05-03T20:46:05.411764Z"
    },
    "papermill": {
     "duration": 0.013429,
     "end_time": "2024-05-03T20:46:05.414419",
     "exception": false,
     "start_time": "2024-05-03T20:46:05.400990",
     "status": "completed"
    },
    "tags": []
   },
   "outputs": [
    {
     "name": "stderr",
     "output_type": "stream",
     "text": [
      "Seed set to 0\n"
     ]
    },
    {
     "name": "stdout",
     "output_type": "stream",
     "text": [
      "Last run with scvi-tools version: 1.1.2\n"
     ]
    }
   ],
   "source": [
    "scvi.settings.seed = 0\n",
    "print(\"Last run with scvi-tools version:\", scvi.__version__)"
   ]
  },
  {
   "cell_type": "markdown",
   "id": "a81037ff-5998-482a-ba86-520f757311a9",
   "metadata": {
    "papermill": {
     "duration": 0.003465,
     "end_time": "2024-05-03T20:46:05.421370",
     "exception": false,
     "start_time": "2024-05-03T20:46:05.417905",
     "status": "completed"
    },
    "tags": []
   },
   "source": [
    "**Setting parameters** "
   ]
  },
  {
   "cell_type": "code",
   "execution_count": 4,
   "id": "56c27966-8f10-4c93-8b1a-1fa75f005e41",
   "metadata": {
    "execution": {
     "iopub.execute_input": "2024-05-03T20:46:05.429806Z",
     "iopub.status.busy": "2024-05-03T20:46:05.429285Z",
     "iopub.status.idle": "2024-05-03T20:46:05.433007Z",
     "shell.execute_reply": "2024-05-03T20:46:05.432219Z"
    },
    "papermill": {
     "duration": 0.01018,
     "end_time": "2024-05-03T20:46:05.434879",
     "exception": false,
     "start_time": "2024-05-03T20:46:05.424699",
     "status": "completed"
    },
    "tags": []
   },
   "outputs": [],
   "source": [
    "overwriteFigures = True\n",
    "overwriteData = True"
   ]
  },
  {
   "cell_type": "code",
   "execution_count": 5,
   "id": "c86fccd3-a4fe-415b-8f4e-e2ceb3ec128a",
   "metadata": {
    "execution": {
     "iopub.execute_input": "2024-05-03T20:46:05.443420Z",
     "iopub.status.busy": "2024-05-03T20:46:05.442900Z",
     "iopub.status.idle": "2024-05-03T20:46:05.446804Z",
     "shell.execute_reply": "2024-05-03T20:46:05.445939Z"
    },
    "papermill": {
     "duration": 0.010221,
     "end_time": "2024-05-03T20:46:05.448539",
     "exception": false,
     "start_time": "2024-05-03T20:46:05.438318",
     "status": "completed"
    },
    "tags": []
   },
   "outputs": [],
   "source": [
    "cellGroup = 'T_Naive'\n",
    "workDir = os.getcwd()"
   ]
  },
  {
   "cell_type": "code",
   "execution_count": 6,
   "id": "2dee4d55-d168-467b-b867-a61fed9d6af1",
   "metadata": {
    "execution": {
     "iopub.execute_input": "2024-05-03T20:46:05.457096Z",
     "iopub.status.busy": "2024-05-03T20:46:05.456615Z",
     "iopub.status.idle": "2024-05-03T20:46:05.460589Z",
     "shell.execute_reply": "2024-05-03T20:46:05.459741Z"
    },
    "papermill": {
     "duration": 0.010145,
     "end_time": "2024-05-03T20:46:05.462107",
     "exception": false,
     "start_time": "2024-05-03T20:46:05.451962",
     "status": "completed"
    },
    "tags": []
   },
   "outputs": [],
   "source": [
    "annotationLevel = os.path.basename(os.path.normpath(workDir))"
   ]
  },
  {
   "cell_type": "code",
   "execution_count": 7,
   "id": "11e53cd5-b746-4152-89cb-c2f0c15d90b3",
   "metadata": {
    "execution": {
     "iopub.execute_input": "2024-05-03T20:46:05.470764Z",
     "iopub.status.busy": "2024-05-03T20:46:05.470483Z",
     "iopub.status.idle": "2024-05-03T20:46:05.475965Z",
     "shell.execute_reply": "2024-05-03T20:46:05.474924Z"
    },
    "papermill": {
     "duration": 0.012039,
     "end_time": "2024-05-03T20:46:05.477738",
     "exception": false,
     "start_time": "2024-05-03T20:46:05.465699",
     "status": "completed"
    },
    "tags": []
   },
   "outputs": [
    {
     "data": {
      "text/plain": [
       "'/home/jupyter/Inflammation-PBMCs-Atlas/02_cell_annotation/02_fromCellLineages_to_CellTypes/Step3'"
      ]
     },
     "execution_count": 7,
     "metadata": {},
     "output_type": "execute_result"
    }
   ],
   "source": [
    "workDir"
   ]
  },
  {
   "cell_type": "markdown",
   "id": "171d2f06-9a44-4fcb-b437-35dc546674b6",
   "metadata": {
    "papermill": {
     "duration": 0.003944,
     "end_time": "2024-05-03T20:46:05.485470",
     "exception": false,
     "start_time": "2024-05-03T20:46:05.481526",
     "status": "completed"
    },
    "tags": []
   },
   "source": [
    "**Load data**"
   ]
  },
  {
   "cell_type": "code",
   "execution_count": 8,
   "id": "429f34fe-dde6-4cc9-9f75-7de8f85c5ffe",
   "metadata": {
    "execution": {
     "iopub.execute_input": "2024-05-03T20:46:05.494901Z",
     "iopub.status.busy": "2024-05-03T20:46:05.494529Z",
     "iopub.status.idle": "2024-05-03T20:46:24.553235Z",
     "shell.execute_reply": "2024-05-03T20:46:24.552536Z"
    },
    "papermill": {
     "duration": 19.065589,
     "end_time": "2024-05-03T20:46:24.554985",
     "exception": false,
     "start_time": "2024-05-03T20:46:05.489396",
     "status": "completed"
    },
    "tags": []
   },
   "outputs": [
    {
     "data": {
      "text/plain": [
       "AnnData object with n_obs × n_vars = 1084369 × 2045\n",
       "    obs: 'studyID', 'libraryID', 'sampleID', 'chemistry', 'technology', 'patientID', 'disease', 'timepoint_replicate', 'treatmentStatus', 'therapyResponse', 'sex', 'age', 'BMI', 'binned_age', 'diseaseStatus', 'smokingStatus', 'ethnicity', 'institute', 'diseaseGroup', 'n_genes_by_counts', 'log1p_n_genes_by_counts', 'total_counts', 'log1p_total_counts', 'pct_counts_in_top_20_genes', 'total_counts_mt', 'log1p_total_counts_mt', 'pct_counts_mt', 'total_counts_ribo', 'log1p_total_counts_ribo', 'pct_counts_ribo', 'total_counts_hb', 'log1p_total_counts_hb', 'pct_counts_hb', 'total_counts_plt', 'log1p_total_counts_plt', 'pct_counts_plt', 'doublet_score', 'predicted_doublet', 'S_score', 'G2M_score', 'phase'\n",
       "    var: 'hgnc_id', 'symbol', 'locus_group', 'HUGO_status', 'mt', 'ribo', 'hb', 'plt', 'n_cells_by_counts', 'mean_counts', 'log1p_mean_counts', 'pct_dropout_by_counts', 'total_counts', 'log1p_total_counts', 'highly_variable'\n",
       "    uns: 'chemistry_colors', 'log1p'\n",
       "    layers: 'counts', 'log1p_10e4_counts'"
      ]
     },
     "execution_count": 8,
     "metadata": {},
     "output_type": "execute_result"
    }
   ],
   "source": [
    "adata = sc.read_h5ad(here(f\"{workDir}/{cellGroup}/results/01_{cellGroup}_normalized_HVGsubset.h5ad\"))\n",
    "adata"
   ]
  },
  {
   "cell_type": "markdown",
   "id": "8ac79f3b-d5af-41fa-8904-1e9ac1cbe2fb",
   "metadata": {
    "papermill": {
     "duration": 0.003792,
     "end_time": "2024-05-03T20:46:24.563159",
     "exception": false,
     "start_time": "2024-05-03T20:46:24.559367",
     "status": "completed"
    },
    "tags": []
   },
   "source": [
    "## scVI integration"
   ]
  },
  {
   "cell_type": "markdown",
   "id": "9544847d-d17f-4811-b14b-760446d54d32",
   "metadata": {
    "execution": {
     "iopub.execute_input": "2024-03-25T16:49:04.004504Z",
     "iopub.status.busy": "2024-03-25T16:49:04.004143Z",
     "iopub.status.idle": "2024-03-25T16:49:04.010148Z",
     "shell.execute_reply": "2024-03-25T16:49:04.009146Z",
     "shell.execute_reply.started": "2024-03-25T16:49:04.004477Z"
    },
    "papermill": {
     "duration": 0.003656,
     "end_time": "2024-05-03T20:46:24.570492",
     "exception": false,
     "start_time": "2024-05-03T20:46:24.566836",
     "status": "completed"
    },
    "tags": []
   },
   "source": [
    "**scVI parameters**"
   ]
  },
  {
   "cell_type": "code",
   "execution_count": 9,
   "id": "208966eb-545a-4c02-854c-0ed0487ef5b3",
   "metadata": {
    "execution": {
     "iopub.execute_input": "2024-05-03T20:46:24.579938Z",
     "iopub.status.busy": "2024-05-03T20:46:24.579220Z",
     "iopub.status.idle": "2024-05-03T20:46:24.584492Z",
     "shell.execute_reply": "2024-05-03T20:46:24.583903Z"
    },
    "papermill": {
     "duration": 0.011876,
     "end_time": "2024-05-03T20:46:24.586005",
     "exception": false,
     "start_time": "2024-05-03T20:46:24.574129",
     "status": "completed"
    },
    "tags": []
   },
   "outputs": [],
   "source": [
    "# https://docs.scvi-tools.org/en/stable/api/reference/scvi.train.Trainer.html#scvi.train.Trainer\n",
    "setup_kwargs = dict(\n",
    "    layer=\"counts\", \n",
    "    batch_key='libraryID', \n",
    "    categorical_covariate_keys = ['studyID', 'chemistry', 'disease', 'sampleID'],\n",
    "    labels_key = 'chemistry'    \n",
    ")\n",
    "\n",
    "scvi_kwargs = dict(n_hidden=512,\n",
    "                   n_latent=10, # reduceds after step 00 (main)\n",
    "                   n_layers=2,\n",
    "                   gene_likelihood='nb',\n",
    "                   dispersion='gene-label')\n",
    "\n",
    "trainer_kwargs = dict(\n",
    "    checkpointing_monitor = 'elbo_validation',\n",
    "    early_stopping_monitor = 'reconstruction_loss_validation',\n",
    "    early_stopping_patience = 10,\n",
    "    early_stopping_min_delta=0.1,\n",
    "    early_stopping = True,\n",
    "    max_epochs = 1000,\n",
    "\n",
    "    #logger = # wandb\n",
    ")\n",
    "# https://docs.scvi-tools.org/en/stable/api/reference/scvi.train.TrainingPlan.html#scvi.train.TrainingPlan\n",
    "plan_kwargs = dict(\n",
    "    lr = 5e-4,\n",
    "    #reduce_lr_on_plateau = True\n",
    ")\n",
    "\n",
    "# https://docs.scvi-tools.org/en/stable/api/reference/scvi.module.VAE.html#scvi.module.VAE\n",
    "#vae = dict(\n",
    "#    use_layer_norm='both',\n",
    "#    use_batch_norm='none',\n",
    "#    encode_covariates=True,\n",
    "#    deeply_inject_covariates=False\n",
    "#)\n",
    "parameter_dict = setup_kwargs | scvi_kwargs | trainer_kwargs | plan_kwargs"
   ]
  },
  {
   "cell_type": "markdown",
   "id": "1362366a-c16b-4c11-964b-b9c5f82f7b29",
   "metadata": {
    "papermill": {
     "duration": 0.003607,
     "end_time": "2024-05-03T20:46:24.593488",
     "exception": false,
     "start_time": "2024-05-03T20:46:24.589881",
     "status": "completed"
    },
    "tags": []
   },
   "source": [
    "**wandb parameter**"
   ]
  },
  {
   "cell_type": "code",
   "execution_count": 10,
   "id": "0496e33a-8ca5-423f-b42f-34a59760708c",
   "metadata": {
    "execution": {
     "iopub.execute_input": "2024-05-03T20:46:24.602530Z",
     "iopub.status.busy": "2024-05-03T20:46:24.602096Z",
     "iopub.status.idle": "2024-05-03T20:46:24.606340Z",
     "shell.execute_reply": "2024-05-03T20:46:24.605775Z"
    },
    "papermill": {
     "duration": 0.010621,
     "end_time": "2024-05-03T20:46:24.607969",
     "exception": false,
     "start_time": "2024-05-03T20:46:24.597348",
     "status": "completed"
    },
    "tags": []
   },
   "outputs": [
    {
     "data": {
      "text/plain": [
       "'Step3_T_Naive'"
      ]
     },
     "execution_count": 10,
     "metadata": {},
     "output_type": "execute_result"
    }
   ],
   "source": [
    "run_name = f\"{annotationLevel}_{cellGroup}\"\n",
    "run_name"
   ]
  },
  {
   "cell_type": "code",
   "execution_count": 11,
   "id": "b0021327-95a2-4002-bf32-2c5779a99505",
   "metadata": {
    "execution": {
     "iopub.execute_input": "2024-05-03T20:46:24.617220Z",
     "iopub.status.busy": "2024-05-03T20:46:24.616678Z",
     "iopub.status.idle": "2024-05-03T20:46:24.744262Z",
     "shell.execute_reply": "2024-05-03T20:46:24.743295Z"
    },
    "papermill": {
     "duration": 0.134619,
     "end_time": "2024-05-03T20:46:24.746420",
     "exception": false,
     "start_time": "2024-05-03T20:46:24.611801",
     "status": "completed"
    },
    "tags": []
   },
   "outputs": [],
   "source": [
    "logger = CustomWandbLogger(name = run_name, project='inflammation_atlas_R1', config=parameter_dict)"
   ]
  },
  {
   "cell_type": "markdown",
   "id": "c237eee1-a976-4915-9b7f-b014bf33f47d",
   "metadata": {
    "papermill": {
     "duration": 0.004102,
     "end_time": "2024-05-03T20:46:24.755357",
     "exception": false,
     "start_time": "2024-05-03T20:46:24.751255",
     "status": "completed"
    },
    "tags": []
   },
   "source": [
    "**Running integration**"
   ]
  },
  {
   "cell_type": "code",
   "execution_count": 12,
   "id": "aff97c53-1aba-462e-8a77-f1aec9cf724c",
   "metadata": {
    "execution": {
     "iopub.execute_input": "2024-05-03T20:46:24.765263Z",
     "iopub.status.busy": "2024-05-03T20:46:24.764656Z",
     "iopub.status.idle": "2024-05-03T20:46:25.353440Z",
     "shell.execute_reply": "2024-05-03T20:46:25.352707Z"
    },
    "papermill": {
     "duration": 0.596064,
     "end_time": "2024-05-03T20:46:25.355585",
     "exception": false,
     "start_time": "2024-05-03T20:46:24.759521",
     "status": "completed"
    },
    "tags": []
   },
   "outputs": [],
   "source": [
    "scvi.model.SCVI.setup_anndata(adata, \n",
    "                              **setup_kwargs)"
   ]
  },
  {
   "cell_type": "code",
   "execution_count": 13,
   "id": "1a56f448-cf44-47c1-81a4-a89caa930fec",
   "metadata": {
    "execution": {
     "iopub.execute_input": "2024-05-03T20:46:25.365665Z",
     "iopub.status.busy": "2024-05-03T20:46:25.365163Z",
     "iopub.status.idle": "2024-05-03T20:46:26.338651Z",
     "shell.execute_reply": "2024-05-03T20:46:26.337943Z"
    },
    "papermill": {
     "duration": 0.981186,
     "end_time": "2024-05-03T20:46:26.341134",
     "exception": false,
     "start_time": "2024-05-03T20:46:25.359948",
     "status": "completed"
    },
    "tags": []
   },
   "outputs": [],
   "source": [
    "model = scvi.model.SCVI(adata, **scvi_kwargs)"
   ]
  },
  {
   "cell_type": "code",
   "execution_count": 14,
   "id": "2735f010-4f24-4ae8-9740-a8cfeb335e9a",
   "metadata": {
    "execution": {
     "iopub.execute_input": "2024-05-03T20:46:26.351166Z",
     "iopub.status.busy": "2024-05-03T20:46:26.350892Z",
     "iopub.status.idle": "2024-05-03T21:34:03.058649Z",
     "shell.execute_reply": "2024-05-03T21:34:03.057952Z"
    },
    "papermill": {
     "duration": 2856.714914,
     "end_time": "2024-05-03T21:34:03.060352",
     "exception": false,
     "start_time": "2024-05-03T20:46:26.345438",
     "status": "completed"
    },
    "tags": []
   },
   "outputs": [
    {
     "name": "stderr",
     "output_type": "stream",
     "text": [
      "GPU available: True (cuda), used: True\n"
     ]
    },
    {
     "name": "stderr",
     "output_type": "stream",
     "text": [
      "TPU available: False, using: 0 TPU cores\n"
     ]
    },
    {
     "name": "stderr",
     "output_type": "stream",
     "text": [
      "IPU available: False, using: 0 IPUs\n"
     ]
    },
    {
     "name": "stderr",
     "output_type": "stream",
     "text": [
      "HPU available: False, using: 0 HPUs\n"
     ]
    },
    {
     "name": "stderr",
     "output_type": "stream",
     "text": [
      "\u001b[34m\u001b[1mwandb\u001b[0m: Currently logged in as: \u001b[33mdav1989\u001b[0m (\u001b[33minflammation\u001b[0m). Use \u001b[1m`wandb login --relogin`\u001b[0m to force relogin\n"
     ]
    },
    {
     "name": "stderr",
     "output_type": "stream",
     "text": [
      "\u001b[34m\u001b[1mwandb\u001b[0m: wandb version 0.16.6 is available!  To upgrade, please run:\n",
      "\u001b[34m\u001b[1mwandb\u001b[0m:  $ pip install wandb --upgrade\n"
     ]
    },
    {
     "name": "stderr",
     "output_type": "stream",
     "text": [
      "\u001b[34m\u001b[1mwandb\u001b[0m: Tracking run with wandb version 0.16.3\n"
     ]
    },
    {
     "name": "stderr",
     "output_type": "stream",
     "text": [
      "\u001b[34m\u001b[1mwandb\u001b[0m: Run data is saved locally in \u001b[35m\u001b[1m./wandb/run-20240503_204630-tw5r2aw8\u001b[0m\n",
      "\u001b[34m\u001b[1mwandb\u001b[0m: Run \u001b[1m`wandb offline`\u001b[0m to turn off syncing.\n"
     ]
    },
    {
     "name": "stderr",
     "output_type": "stream",
     "text": [
      "\u001b[34m\u001b[1mwandb\u001b[0m: Syncing run \u001b[33mStep3_T_Naive\u001b[0m\n"
     ]
    },
    {
     "name": "stderr",
     "output_type": "stream",
     "text": [
      "\u001b[34m\u001b[1mwandb\u001b[0m: ⭐️ View project at \u001b[34m\u001b[4mhttps://wandb.ai/inflammation/inflammation_atlas_R1\u001b[0m\n"
     ]
    },
    {
     "name": "stderr",
     "output_type": "stream",
     "text": [
      "\u001b[34m\u001b[1mwandb\u001b[0m: 🚀 View run at \u001b[34m\u001b[4mhttps://wandb.ai/inflammation/inflammation_atlas_R1/runs/tw5r2aw8\u001b[0m\n"
     ]
    },
    {
     "name": "stderr",
     "output_type": "stream",
     "text": [
      "LOCAL_RANK: 0 - CUDA_VISIBLE_DEVICES: [0]\n"
     ]
    },
    {
     "name": "stdout",
     "output_type": "stream",
     "text": [
      "\r",
      "Training:   0%|          | 0/1000 [00:00<?, ?it/s]"
     ]
    },
    {
     "name": "stdout",
     "output_type": "stream",
     "text": [
      "\r",
      "Epoch 1/1000:   0%|          | 0/1000 [00:00<?, ?it/s]"
     ]
    },
    {
     "name": "stdout",
     "output_type": "stream",
     "text": [
      "\r",
      "Epoch 1/1000:   0%|          | 1/1000 [01:40<27:59:48, 100.89s/it]"
     ]
    },
    {
     "name": "stdout",
     "output_type": "stream",
     "text": [
      "\r",
      "Epoch 1/1000:   0%|          | 1/1000 [01:40<27:59:48, 100.89s/it, v_num=2aw8, train_loss_step=534, train_loss_epoch=564]"
     ]
    },
    {
     "name": "stdout",
     "output_type": "stream",
     "text": [
      "\r",
      "Epoch 2/1000:   0%|          | 1/1000 [01:40<27:59:48, 100.89s/it, v_num=2aw8, train_loss_step=534, train_loss_epoch=564]"
     ]
    },
    {
     "name": "stdout",
     "output_type": "stream",
     "text": [
      "\r",
      "Epoch 2/1000:   0%|          | 2/1000 [03:09<26:01:07, 93.85s/it, v_num=2aw8, train_loss_step=534, train_loss_epoch=564] "
     ]
    },
    {
     "name": "stdout",
     "output_type": "stream",
     "text": [
      "\r",
      "Epoch 2/1000:   0%|          | 2/1000 [03:09<26:01:07, 93.85s/it, v_num=2aw8, train_loss_step=559, train_loss_epoch=556]"
     ]
    },
    {
     "name": "stdout",
     "output_type": "stream",
     "text": [
      "\r",
      "Epoch 3/1000:   0%|          | 2/1000 [03:09<26:01:07, 93.85s/it, v_num=2aw8, train_loss_step=559, train_loss_epoch=556]"
     ]
    },
    {
     "name": "stdout",
     "output_type": "stream",
     "text": [
      "\r",
      "Epoch 3/1000:   0%|          | 3/1000 [04:36<25:03:10, 90.46s/it, v_num=2aw8, train_loss_step=559, train_loss_epoch=556]"
     ]
    },
    {
     "name": "stdout",
     "output_type": "stream",
     "text": [
      "\r",
      "Epoch 3/1000:   0%|          | 3/1000 [04:36<25:03:10, 90.46s/it, v_num=2aw8, train_loss_step=549, train_loss_epoch=555]"
     ]
    },
    {
     "name": "stdout",
     "output_type": "stream",
     "text": [
      "\r",
      "Epoch 4/1000:   0%|          | 3/1000 [04:36<25:03:10, 90.46s/it, v_num=2aw8, train_loss_step=549, train_loss_epoch=555]"
     ]
    },
    {
     "name": "stdout",
     "output_type": "stream",
     "text": [
      "\r",
      "Epoch 4/1000:   0%|          | 4/1000 [06:05<24:53:56, 90.00s/it, v_num=2aw8, train_loss_step=549, train_loss_epoch=555]"
     ]
    },
    {
     "name": "stdout",
     "output_type": "stream",
     "text": [
      "\r",
      "Epoch 4/1000:   0%|          | 4/1000 [06:05<24:53:56, 90.00s/it, v_num=2aw8, train_loss_step=524, train_loss_epoch=554]"
     ]
    },
    {
     "name": "stdout",
     "output_type": "stream",
     "text": [
      "\r",
      "Epoch 5/1000:   0%|          | 4/1000 [06:05<24:53:56, 90.00s/it, v_num=2aw8, train_loss_step=524, train_loss_epoch=554]"
     ]
    },
    {
     "name": "stdout",
     "output_type": "stream",
     "text": [
      "\r",
      "Epoch 5/1000:   0%|          | 5/1000 [07:44<25:44:23, 93.13s/it, v_num=2aw8, train_loss_step=524, train_loss_epoch=554]"
     ]
    },
    {
     "name": "stdout",
     "output_type": "stream",
     "text": [
      "\r",
      "Epoch 5/1000:   0%|          | 5/1000 [07:44<25:44:23, 93.13s/it, v_num=2aw8, train_loss_step=541, train_loss_epoch=554]"
     ]
    },
    {
     "name": "stdout",
     "output_type": "stream",
     "text": [
      "\r",
      "Epoch 6/1000:   0%|          | 5/1000 [07:44<25:44:23, 93.13s/it, v_num=2aw8, train_loss_step=541, train_loss_epoch=554]"
     ]
    },
    {
     "name": "stdout",
     "output_type": "stream",
     "text": [
      "\r",
      "Epoch 6/1000:   1%|          | 6/1000 [09:21<26:08:35, 94.68s/it, v_num=2aw8, train_loss_step=541, train_loss_epoch=554]"
     ]
    },
    {
     "name": "stdout",
     "output_type": "stream",
     "text": [
      "\r",
      "Epoch 6/1000:   1%|          | 6/1000 [09:21<26:08:35, 94.68s/it, v_num=2aw8, train_loss_step=523, train_loss_epoch=554]"
     ]
    },
    {
     "name": "stdout",
     "output_type": "stream",
     "text": [
      "\r",
      "Epoch 7/1000:   1%|          | 6/1000 [09:21<26:08:35, 94.68s/it, v_num=2aw8, train_loss_step=523, train_loss_epoch=554]"
     ]
    },
    {
     "name": "stdout",
     "output_type": "stream",
     "text": [
      "\r",
      "Epoch 7/1000:   1%|          | 7/1000 [11:00<26:26:24, 95.86s/it, v_num=2aw8, train_loss_step=523, train_loss_epoch=554]"
     ]
    },
    {
     "name": "stdout",
     "output_type": "stream",
     "text": [
      "\r",
      "Epoch 7/1000:   1%|          | 7/1000 [11:00<26:26:24, 95.86s/it, v_num=2aw8, train_loss_step=567, train_loss_epoch=553]"
     ]
    },
    {
     "name": "stdout",
     "output_type": "stream",
     "text": [
      "\r",
      "Epoch 8/1000:   1%|          | 7/1000 [11:00<26:26:24, 95.86s/it, v_num=2aw8, train_loss_step=567, train_loss_epoch=553]"
     ]
    },
    {
     "name": "stdout",
     "output_type": "stream",
     "text": [
      "\r",
      "Epoch 8/1000:   1%|          | 8/1000 [12:39<26:41:44, 96.88s/it, v_num=2aw8, train_loss_step=567, train_loss_epoch=553]"
     ]
    },
    {
     "name": "stdout",
     "output_type": "stream",
     "text": [
      "\r",
      "Epoch 8/1000:   1%|          | 8/1000 [12:39<26:41:44, 96.88s/it, v_num=2aw8, train_loss_step=541, train_loss_epoch=553]"
     ]
    },
    {
     "name": "stdout",
     "output_type": "stream",
     "text": [
      "\r",
      "Epoch 9/1000:   1%|          | 8/1000 [12:39<26:41:44, 96.88s/it, v_num=2aw8, train_loss_step=541, train_loss_epoch=553]"
     ]
    },
    {
     "name": "stdout",
     "output_type": "stream",
     "text": [
      "\r",
      "Epoch 9/1000:   1%|          | 9/1000 [14:17<26:47:41, 97.34s/it, v_num=2aw8, train_loss_step=541, train_loss_epoch=553]"
     ]
    },
    {
     "name": "stdout",
     "output_type": "stream",
     "text": [
      "\r",
      "Epoch 9/1000:   1%|          | 9/1000 [14:17<26:47:41, 97.34s/it, v_num=2aw8, train_loss_step=582, train_loss_epoch=553]"
     ]
    },
    {
     "name": "stdout",
     "output_type": "stream",
     "text": [
      "\r",
      "Epoch 10/1000:   1%|          | 9/1000 [14:17<26:47:41, 97.34s/it, v_num=2aw8, train_loss_step=582, train_loss_epoch=553]"
     ]
    },
    {
     "name": "stdout",
     "output_type": "stream",
     "text": [
      "\r",
      "Epoch 10/1000:   1%|          | 10/1000 [15:53<26:41:14, 97.04s/it, v_num=2aw8, train_loss_step=582, train_loss_epoch=553]"
     ]
    },
    {
     "name": "stdout",
     "output_type": "stream",
     "text": [
      "\r",
      "Epoch 10/1000:   1%|          | 10/1000 [15:53<26:41:14, 97.04s/it, v_num=2aw8, train_loss_step=538, train_loss_epoch=553]"
     ]
    },
    {
     "name": "stdout",
     "output_type": "stream",
     "text": [
      "\r",
      "Epoch 11/1000:   1%|          | 10/1000 [15:53<26:41:14, 97.04s/it, v_num=2aw8, train_loss_step=538, train_loss_epoch=553]"
     ]
    },
    {
     "name": "stdout",
     "output_type": "stream",
     "text": [
      "\r",
      "Epoch 11/1000:   1%|          | 11/1000 [17:32<26:46:11, 97.44s/it, v_num=2aw8, train_loss_step=538, train_loss_epoch=553]"
     ]
    },
    {
     "name": "stdout",
     "output_type": "stream",
     "text": [
      "\r",
      "Epoch 11/1000:   1%|          | 11/1000 [17:32<26:46:11, 97.44s/it, v_num=2aw8, train_loss_step=550, train_loss_epoch=553]"
     ]
    },
    {
     "name": "stdout",
     "output_type": "stream",
     "text": [
      "\r",
      "Epoch 12/1000:   1%|          | 11/1000 [17:32<26:46:11, 97.44s/it, v_num=2aw8, train_loss_step=550, train_loss_epoch=553]"
     ]
    },
    {
     "name": "stdout",
     "output_type": "stream",
     "text": [
      "\r",
      "Epoch 12/1000:   1%|          | 12/1000 [19:11<26:52:51, 97.95s/it, v_num=2aw8, train_loss_step=550, train_loss_epoch=553]"
     ]
    },
    {
     "name": "stdout",
     "output_type": "stream",
     "text": [
      "\r",
      "Epoch 12/1000:   1%|          | 12/1000 [19:11<26:52:51, 97.95s/it, v_num=2aw8, train_loss_step=543, train_loss_epoch=553]"
     ]
    },
    {
     "name": "stdout",
     "output_type": "stream",
     "text": [
      "\r",
      "Epoch 13/1000:   1%|          | 12/1000 [19:11<26:52:51, 97.95s/it, v_num=2aw8, train_loss_step=543, train_loss_epoch=553]"
     ]
    },
    {
     "name": "stdout",
     "output_type": "stream",
     "text": [
      "\r",
      "Epoch 13/1000:   1%|▏         | 13/1000 [20:50<26:57:03, 98.30s/it, v_num=2aw8, train_loss_step=543, train_loss_epoch=553]"
     ]
    },
    {
     "name": "stdout",
     "output_type": "stream",
     "text": [
      "\r",
      "Epoch 13/1000:   1%|▏         | 13/1000 [20:50<26:57:03, 98.30s/it, v_num=2aw8, train_loss_step=607, train_loss_epoch=553]"
     ]
    },
    {
     "name": "stdout",
     "output_type": "stream",
     "text": [
      "\r",
      "Epoch 14/1000:   1%|▏         | 13/1000 [20:50<26:57:03, 98.30s/it, v_num=2aw8, train_loss_step=607, train_loss_epoch=553]"
     ]
    },
    {
     "name": "stdout",
     "output_type": "stream",
     "text": [
      "\r",
      "Epoch 14/1000:   1%|▏         | 14/1000 [22:20<26:15:30, 95.87s/it, v_num=2aw8, train_loss_step=607, train_loss_epoch=553]"
     ]
    },
    {
     "name": "stdout",
     "output_type": "stream",
     "text": [
      "\r",
      "Epoch 14/1000:   1%|▏         | 14/1000 [22:20<26:15:30, 95.87s/it, v_num=2aw8, train_loss_step=513, train_loss_epoch=553]"
     ]
    },
    {
     "name": "stdout",
     "output_type": "stream",
     "text": [
      "\r",
      "Epoch 15/1000:   1%|▏         | 14/1000 [22:20<26:15:30, 95.87s/it, v_num=2aw8, train_loss_step=513, train_loss_epoch=553]"
     ]
    },
    {
     "name": "stdout",
     "output_type": "stream",
     "text": [
      "\r",
      "Epoch 15/1000:   2%|▏         | 15/1000 [23:45<25:17:27, 92.43s/it, v_num=2aw8, train_loss_step=513, train_loss_epoch=553]"
     ]
    },
    {
     "name": "stdout",
     "output_type": "stream",
     "text": [
      "\r",
      "Epoch 15/1000:   2%|▏         | 15/1000 [23:45<25:17:27, 92.43s/it, v_num=2aw8, train_loss_step=561, train_loss_epoch=553]"
     ]
    },
    {
     "name": "stdout",
     "output_type": "stream",
     "text": [
      "\r",
      "Epoch 16/1000:   2%|▏         | 15/1000 [23:45<25:17:27, 92.43s/it, v_num=2aw8, train_loss_step=561, train_loss_epoch=553]"
     ]
    },
    {
     "name": "stdout",
     "output_type": "stream",
     "text": [
      "\r",
      "Epoch 16/1000:   2%|▏         | 16/1000 [25:09<24:35:27, 89.97s/it, v_num=2aw8, train_loss_step=561, train_loss_epoch=553]"
     ]
    },
    {
     "name": "stdout",
     "output_type": "stream",
     "text": [
      "\r",
      "Epoch 16/1000:   2%|▏         | 16/1000 [25:09<24:35:27, 89.97s/it, v_num=2aw8, train_loss_step=599, train_loss_epoch=553]"
     ]
    },
    {
     "name": "stdout",
     "output_type": "stream",
     "text": [
      "\r",
      "Epoch 17/1000:   2%|▏         | 16/1000 [25:09<24:35:27, 89.97s/it, v_num=2aw8, train_loss_step=599, train_loss_epoch=553]"
     ]
    },
    {
     "name": "stdout",
     "output_type": "stream",
     "text": [
      "\r",
      "Epoch 17/1000:   2%|▏         | 17/1000 [26:34<24:07:51, 88.37s/it, v_num=2aw8, train_loss_step=599, train_loss_epoch=553]"
     ]
    },
    {
     "name": "stdout",
     "output_type": "stream",
     "text": [
      "\r",
      "Epoch 17/1000:   2%|▏         | 17/1000 [26:34<24:07:51, 88.37s/it, v_num=2aw8, train_loss_step=530, train_loss_epoch=553]"
     ]
    },
    {
     "name": "stdout",
     "output_type": "stream",
     "text": [
      "\r",
      "Epoch 18/1000:   2%|▏         | 17/1000 [26:34<24:07:51, 88.37s/it, v_num=2aw8, train_loss_step=530, train_loss_epoch=553]"
     ]
    },
    {
     "name": "stdout",
     "output_type": "stream",
     "text": [
      "\r",
      "Epoch 18/1000:   2%|▏         | 18/1000 [27:58<23:47:06, 87.20s/it, v_num=2aw8, train_loss_step=530, train_loss_epoch=553]"
     ]
    },
    {
     "name": "stdout",
     "output_type": "stream",
     "text": [
      "\r",
      "Epoch 18/1000:   2%|▏         | 18/1000 [27:58<23:47:06, 87.20s/it, v_num=2aw8, train_loss_step=559, train_loss_epoch=553]"
     ]
    },
    {
     "name": "stdout",
     "output_type": "stream",
     "text": [
      "\r",
      "Epoch 19/1000:   2%|▏         | 18/1000 [27:58<23:47:06, 87.20s/it, v_num=2aw8, train_loss_step=559, train_loss_epoch=553]"
     ]
    },
    {
     "name": "stdout",
     "output_type": "stream",
     "text": [
      "\r",
      "Epoch 19/1000:   2%|▏         | 19/1000 [29:23<23:33:21, 86.44s/it, v_num=2aw8, train_loss_step=559, train_loss_epoch=553]"
     ]
    },
    {
     "name": "stdout",
     "output_type": "stream",
     "text": [
      "\r",
      "Epoch 19/1000:   2%|▏         | 19/1000 [29:23<23:33:21, 86.44s/it, v_num=2aw8, train_loss_step=541, train_loss_epoch=553]"
     ]
    },
    {
     "name": "stdout",
     "output_type": "stream",
     "text": [
      "\r",
      "Epoch 20/1000:   2%|▏         | 19/1000 [29:23<23:33:21, 86.44s/it, v_num=2aw8, train_loss_step=541, train_loss_epoch=553]"
     ]
    },
    {
     "name": "stdout",
     "output_type": "stream",
     "text": [
      "\r",
      "Epoch 20/1000:   2%|▏         | 20/1000 [30:47<23:21:26, 85.80s/it, v_num=2aw8, train_loss_step=541, train_loss_epoch=553]"
     ]
    },
    {
     "name": "stdout",
     "output_type": "stream",
     "text": [
      "\r",
      "Epoch 20/1000:   2%|▏         | 20/1000 [30:47<23:21:26, 85.80s/it, v_num=2aw8, train_loss_step=553, train_loss_epoch=553]"
     ]
    },
    {
     "name": "stdout",
     "output_type": "stream",
     "text": [
      "\r",
      "Epoch 21/1000:   2%|▏         | 20/1000 [30:47<23:21:26, 85.80s/it, v_num=2aw8, train_loss_step=553, train_loss_epoch=553]"
     ]
    },
    {
     "name": "stdout",
     "output_type": "stream",
     "text": [
      "\r",
      "Epoch 21/1000:   2%|▏         | 21/1000 [32:12<23:14:37, 85.47s/it, v_num=2aw8, train_loss_step=553, train_loss_epoch=553]"
     ]
    },
    {
     "name": "stdout",
     "output_type": "stream",
     "text": [
      "\r",
      "Epoch 21/1000:   2%|▏         | 21/1000 [32:12<23:14:37, 85.47s/it, v_num=2aw8, train_loss_step=562, train_loss_epoch=553]"
     ]
    },
    {
     "name": "stdout",
     "output_type": "stream",
     "text": [
      "\r",
      "Epoch 22/1000:   2%|▏         | 21/1000 [32:12<23:14:37, 85.47s/it, v_num=2aw8, train_loss_step=562, train_loss_epoch=553]"
     ]
    },
    {
     "name": "stdout",
     "output_type": "stream",
     "text": [
      "\r",
      "Epoch 22/1000:   2%|▏         | 22/1000 [33:36<23:08:26, 85.18s/it, v_num=2aw8, train_loss_step=562, train_loss_epoch=553]"
     ]
    },
    {
     "name": "stdout",
     "output_type": "stream",
     "text": [
      "\r",
      "Epoch 22/1000:   2%|▏         | 22/1000 [33:36<23:08:26, 85.18s/it, v_num=2aw8, train_loss_step=584, train_loss_epoch=553]"
     ]
    },
    {
     "name": "stdout",
     "output_type": "stream",
     "text": [
      "\r",
      "Epoch 23/1000:   2%|▏         | 22/1000 [33:36<23:08:26, 85.18s/it, v_num=2aw8, train_loss_step=584, train_loss_epoch=553]"
     ]
    },
    {
     "name": "stdout",
     "output_type": "stream",
     "text": [
      "\r",
      "Epoch 23/1000:   2%|▏         | 23/1000 [35:01<23:03:25, 84.96s/it, v_num=2aw8, train_loss_step=584, train_loss_epoch=553]"
     ]
    },
    {
     "name": "stdout",
     "output_type": "stream",
     "text": [
      "\r",
      "Epoch 23/1000:   2%|▏         | 23/1000 [35:01<23:03:25, 84.96s/it, v_num=2aw8, train_loss_step=537, train_loss_epoch=553]"
     ]
    },
    {
     "name": "stdout",
     "output_type": "stream",
     "text": [
      "\r",
      "Epoch 24/1000:   2%|▏         | 23/1000 [35:01<23:03:25, 84.96s/it, v_num=2aw8, train_loss_step=537, train_loss_epoch=553]"
     ]
    },
    {
     "name": "stdout",
     "output_type": "stream",
     "text": [
      "\r",
      "Epoch 24/1000:   2%|▏         | 24/1000 [36:24<22:55:37, 84.57s/it, v_num=2aw8, train_loss_step=537, train_loss_epoch=553]"
     ]
    },
    {
     "name": "stdout",
     "output_type": "stream",
     "text": [
      "\r",
      "Epoch 24/1000:   2%|▏         | 24/1000 [36:24<22:55:37, 84.57s/it, v_num=2aw8, train_loss_step=554, train_loss_epoch=553]"
     ]
    },
    {
     "name": "stdout",
     "output_type": "stream",
     "text": [
      "\r",
      "Epoch 25/1000:   2%|▏         | 24/1000 [36:24<22:55:37, 84.57s/it, v_num=2aw8, train_loss_step=554, train_loss_epoch=553]"
     ]
    },
    {
     "name": "stdout",
     "output_type": "stream",
     "text": [
      "\r",
      "Epoch 25/1000:   2%|▎         | 25/1000 [37:48<22:49:45, 84.29s/it, v_num=2aw8, train_loss_step=554, train_loss_epoch=553]"
     ]
    },
    {
     "name": "stdout",
     "output_type": "stream",
     "text": [
      "\r",
      "Epoch 25/1000:   2%|▎         | 25/1000 [37:48<22:49:45, 84.29s/it, v_num=2aw8, train_loss_step=601, train_loss_epoch=553]"
     ]
    },
    {
     "name": "stdout",
     "output_type": "stream",
     "text": [
      "\r",
      "Epoch 26/1000:   2%|▎         | 25/1000 [37:48<22:49:45, 84.29s/it, v_num=2aw8, train_loss_step=601, train_loss_epoch=553]"
     ]
    },
    {
     "name": "stdout",
     "output_type": "stream",
     "text": [
      "\r",
      "Epoch 26/1000:   3%|▎         | 26/1000 [39:12<22:44:46, 84.07s/it, v_num=2aw8, train_loss_step=601, train_loss_epoch=553]"
     ]
    },
    {
     "name": "stdout",
     "output_type": "stream",
     "text": [
      "\r",
      "Epoch 26/1000:   3%|▎         | 26/1000 [39:12<22:44:46, 84.07s/it, v_num=2aw8, train_loss_step=506, train_loss_epoch=553]"
     ]
    },
    {
     "name": "stdout",
     "output_type": "stream",
     "text": [
      "\r",
      "Epoch 27/1000:   3%|▎         | 26/1000 [39:12<22:44:46, 84.07s/it, v_num=2aw8, train_loss_step=506, train_loss_epoch=553]"
     ]
    },
    {
     "name": "stdout",
     "output_type": "stream",
     "text": [
      "\r",
      "Epoch 27/1000:   3%|▎         | 27/1000 [40:35<22:40:29, 83.89s/it, v_num=2aw8, train_loss_step=506, train_loss_epoch=553]"
     ]
    },
    {
     "name": "stdout",
     "output_type": "stream",
     "text": [
      "\r",
      "Epoch 27/1000:   3%|▎         | 27/1000 [40:35<22:40:29, 83.89s/it, v_num=2aw8, train_loss_step=590, train_loss_epoch=553]"
     ]
    },
    {
     "name": "stdout",
     "output_type": "stream",
     "text": [
      "\r",
      "Epoch 28/1000:   3%|▎         | 27/1000 [40:35<22:40:29, 83.89s/it, v_num=2aw8, train_loss_step=590, train_loss_epoch=553]"
     ]
    },
    {
     "name": "stdout",
     "output_type": "stream",
     "text": [
      "\r",
      "Epoch 28/1000:   3%|▎         | 28/1000 [41:58<22:36:14, 83.72s/it, v_num=2aw8, train_loss_step=590, train_loss_epoch=553]"
     ]
    },
    {
     "name": "stdout",
     "output_type": "stream",
     "text": [
      "\r",
      "Epoch 28/1000:   3%|▎         | 28/1000 [41:58<22:36:14, 83.72s/it, v_num=2aw8, train_loss_step=542, train_loss_epoch=553]"
     ]
    },
    {
     "name": "stdout",
     "output_type": "stream",
     "text": [
      "\r",
      "Epoch 29/1000:   3%|▎         | 28/1000 [41:58<22:36:14, 83.72s/it, v_num=2aw8, train_loss_step=542, train_loss_epoch=553]"
     ]
    },
    {
     "name": "stdout",
     "output_type": "stream",
     "text": [
      "\r",
      "Epoch 29/1000:   3%|▎         | 29/1000 [43:21<22:31:38, 83.52s/it, v_num=2aw8, train_loss_step=542, train_loss_epoch=553]"
     ]
    },
    {
     "name": "stdout",
     "output_type": "stream",
     "text": [
      "\r",
      "Epoch 29/1000:   3%|▎         | 29/1000 [43:21<22:31:38, 83.52s/it, v_num=2aw8, train_loss_step=552, train_loss_epoch=553]"
     ]
    },
    {
     "name": "stdout",
     "output_type": "stream",
     "text": [
      "\r",
      "Epoch 30/1000:   3%|▎         | 29/1000 [43:21<22:31:38, 83.52s/it, v_num=2aw8, train_loss_step=552, train_loss_epoch=553]"
     ]
    },
    {
     "name": "stdout",
     "output_type": "stream",
     "text": [
      "\r",
      "Epoch 30/1000:   3%|▎         | 30/1000 [44:44<22:26:43, 83.30s/it, v_num=2aw8, train_loss_step=552, train_loss_epoch=553]"
     ]
    },
    {
     "name": "stdout",
     "output_type": "stream",
     "text": [
      "\r",
      "Epoch 30/1000:   3%|▎         | 30/1000 [44:44<22:26:43, 83.30s/it, v_num=2aw8, train_loss_step=578, train_loss_epoch=553]"
     ]
    },
    {
     "name": "stdout",
     "output_type": "stream",
     "text": [
      "\r",
      "Epoch 31/1000:   3%|▎         | 30/1000 [44:44<22:26:43, 83.30s/it, v_num=2aw8, train_loss_step=578, train_loss_epoch=553]"
     ]
    },
    {
     "name": "stdout",
     "output_type": "stream",
     "text": [
      "\r",
      "Epoch 31/1000:   3%|▎         | 31/1000 [46:07<22:24:42, 83.26s/it, v_num=2aw8, train_loss_step=578, train_loss_epoch=553]"
     ]
    },
    {
     "name": "stdout",
     "output_type": "stream",
     "text": [
      "\r",
      "Epoch 31/1000:   3%|▎         | 31/1000 [46:07<22:24:42, 83.26s/it, v_num=2aw8, train_loss_step=539, train_loss_epoch=553]"
     ]
    },
    {
     "name": "stdout",
     "output_type": "stream",
     "text": [
      "\r",
      "Epoch 32/1000:   3%|▎         | 31/1000 [46:07<22:24:42, 83.26s/it, v_num=2aw8, train_loss_step=539, train_loss_epoch=553]"
     ]
    },
    {
     "name": "stdout",
     "output_type": "stream",
     "text": [
      "\r",
      "Epoch 32/1000:   3%|▎         | 32/1000 [47:31<22:23:51, 83.30s/it, v_num=2aw8, train_loss_step=539, train_loss_epoch=553]"
     ]
    },
    {
     "name": "stdout",
     "output_type": "stream",
     "text": [
      "\r",
      "Epoch 32/1000:   3%|▎         | 32/1000 [47:31<22:23:51, 83.30s/it, v_num=2aw8, train_loss_step=547, train_loss_epoch=553]"
     ]
    },
    {
     "name": "stdout",
     "output_type": "stream",
     "text": [
      "\r",
      "Epoch 32/1000:   3%|▎         | 32/1000 [47:31<23:57:32, 89.10s/it, v_num=2aw8, train_loss_step=547, train_loss_epoch=553]"
     ]
    },
    {
     "name": "stdout",
     "output_type": "stream",
     "text": [
      "\n",
      "Monitored metric reconstruction_loss_validation did not improve in the last 10 records. Best score: 551.289. Signaling Trainer to stop.\n"
     ]
    }
   ],
   "source": [
    "model.train(logger=logger, plan_kwargs = plan_kwargs, **trainer_kwargs)"
   ]
  },
  {
   "cell_type": "code",
   "execution_count": 15,
   "id": "c282f6eb-0ad1-40a5-81e6-1acda1545dad",
   "metadata": {
    "execution": {
     "iopub.execute_input": "2024-05-03T21:34:03.080793Z",
     "iopub.status.busy": "2024-05-03T21:34:03.080482Z",
     "iopub.status.idle": "2024-05-03T21:34:08.687453Z",
     "shell.execute_reply": "2024-05-03T21:34:08.686831Z"
    },
    "papermill": {
     "duration": 5.61975,
     "end_time": "2024-05-03T21:34:08.689246",
     "exception": false,
     "start_time": "2024-05-03T21:34:03.069496",
     "status": "completed"
    },
    "tags": []
   },
   "outputs": [
    {
     "name": "stderr",
     "output_type": "stream",
     "text": [
      "\u001b[34m\u001b[1mwandb\u001b[0m: - 0.003 MB of 0.003 MB uploaded\r"
     ]
    },
    {
     "name": "stderr",
     "output_type": "stream",
     "text": [
      "\u001b[34m\u001b[1mwandb\u001b[0m: \\ 0.009 MB of 0.009 MB uploaded\r"
     ]
    },
    {
     "name": "stderr",
     "output_type": "stream",
     "text": [
      "\u001b[34m\u001b[1mwandb\u001b[0m: | 0.009 MB of 0.009 MB uploaded\r"
     ]
    },
    {
     "name": "stderr",
     "output_type": "stream",
     "text": [
      "\u001b[34m\u001b[1mwandb\u001b[0m: / 0.009 MB of 0.009 MB uploaded\r"
     ]
    },
    {
     "name": "stderr",
     "output_type": "stream",
     "text": [
      "\u001b[34m\u001b[1mwandb\u001b[0m:                                                                                \n"
     ]
    },
    {
     "name": "stderr",
     "output_type": "stream",
     "text": [
      "\u001b[34m\u001b[1mwandb\u001b[0m: \n",
      "\u001b[34m\u001b[1mwandb\u001b[0m: Run history:\n",
      "\u001b[34m\u001b[1mwandb\u001b[0m:                     elbo_train █▆▅▄▃▃▃▃▃▂▂▂▂▂▂▂▂▂▂▂▂▁▁▁▁▁▁▁▁▁▁▁\n",
      "\u001b[34m\u001b[1mwandb\u001b[0m:                elbo_validation █▆▅▄▄▃▃▃▃▃▂▂▂▂▂▂▂▂▂▂▂▁▁▁▁▁▁▁▁▁▁▁\n",
      "\u001b[34m\u001b[1mwandb\u001b[0m:                          epoch ▁▁▁▁▂▂▂▂▂▃▃▃▃▃▃▄▄▄▄▄▅▅▅▅▅▆▆▆▆▆▆▇▇▇▇▇████\n",
      "\u001b[34m\u001b[1mwandb\u001b[0m:                kl_global_train ▁▁▁▁▁▁▁▁▁▁▁▁▁▁▁▁▁▁▁▁▁▁▁▁▁▁▁▁▁▁▁▁\n",
      "\u001b[34m\u001b[1mwandb\u001b[0m:           kl_global_validation ▁▁▁▁▁▁▁▁▁▁▁▁▁▁▁▁▁▁▁▁▁▁▁▁▁▁▁▁▁▁▁▁\n",
      "\u001b[34m\u001b[1mwandb\u001b[0m:                 kl_local_train ██▆▄▄▄▃▃▃▃▃▃▂▂▂▂▂▂▂▂▂▂▂▁▁▁▁▁▁▁▁▁\n",
      "\u001b[34m\u001b[1mwandb\u001b[0m:            kl_local_validation █▇▅▄▄▃▃▃▃▃▂▂▂▂▂▂▂▂▂▂▂▂▂▁▁▁▁▁▁▁▁▁\n",
      "\u001b[34m\u001b[1mwandb\u001b[0m:                      kl_weight ▁▁▁▁▂▂▂▂▂▃▃▃▃▃▃▄▄▄▄▄▅▅▅▅▅▆▆▆▆▆▆▇▇▇▇▇████\n",
      "\u001b[34m\u001b[1mwandb\u001b[0m:      reconstruction_loss_train █▄▃▃▂▂▂▂▂▂▂▂▂▁▁▁▁▁▁▁▁▁▁▁▁▁▁▁▁▁▁▁\n",
      "\u001b[34m\u001b[1mwandb\u001b[0m: reconstruction_loss_validation █▅▄▃▃▃▃▂▂▂▂▂▂▂▂▁▁▁▁▁▁▁▁▁▁▁▁▁▁▁▁▁\n",
      "\u001b[34m\u001b[1mwandb\u001b[0m:               train_loss_epoch █▃▂▂▂▂▁▁▁▁▁▁▁▁▁▁▁▁▁▁▁▁▁▁▁▁▁▁▁▁▁▁\n",
      "\u001b[34m\u001b[1mwandb\u001b[0m:                train_loss_step ▄█▅█▂▆▇▆▁▃▇▆▃▄▄▇▄▄▁▇▂▃▆▄▇▅▅█▃▄▄▄▃▆▃▆▅█▆▅\n",
      "\u001b[34m\u001b[1mwandb\u001b[0m:            trainer/global_step ▁▁▁▂▂▂▂▂▂▃▃▃▃▃▃▄▄▄▄▄▅▅▅▅▅▅▆▆▆▆▆▇▇▇▇▇▇███\n",
      "\u001b[34m\u001b[1mwandb\u001b[0m:                validation_loss █▄▃▂▂▂▂▁▁▁▁▁▁▁▁▁▁▁▁▁▁▁▁▁▁▁▁▁▁▂▂▂\n",
      "\u001b[34m\u001b[1mwandb\u001b[0m: \n",
      "\u001b[34m\u001b[1mwandb\u001b[0m: Run summary:\n",
      "\u001b[34m\u001b[1mwandb\u001b[0m:                     elbo_train 574.08124\n",
      "\u001b[34m\u001b[1mwandb\u001b[0m:                elbo_validation 573.83826\n",
      "\u001b[34m\u001b[1mwandb\u001b[0m:                          epoch 31\n",
      "\u001b[34m\u001b[1mwandb\u001b[0m:                kl_global_train 0.0\n",
      "\u001b[34m\u001b[1mwandb\u001b[0m:           kl_global_validation 0.0\n",
      "\u001b[34m\u001b[1mwandb\u001b[0m:                 kl_local_train 23.14467\n",
      "\u001b[34m\u001b[1mwandb\u001b[0m:            kl_local_validation 22.64423\n",
      "\u001b[34m\u001b[1mwandb\u001b[0m:                      kl_weight 0.0775\n",
      "\u001b[34m\u001b[1mwandb\u001b[0m:      reconstruction_loss_train 550.93658\n",
      "\u001b[34m\u001b[1mwandb\u001b[0m: reconstruction_loss_validation 551.19403\n",
      "\u001b[34m\u001b[1mwandb\u001b[0m:               train_loss_epoch 552.73138\n",
      "\u001b[34m\u001b[1mwandb\u001b[0m:                train_loss_step 546.80139\n",
      "\u001b[34m\u001b[1mwandb\u001b[0m:            trainer/global_step 243999\n",
      "\u001b[34m\u001b[1mwandb\u001b[0m:                validation_loss 552.9494\n",
      "\u001b[34m\u001b[1mwandb\u001b[0m: \n"
     ]
    },
    {
     "name": "stderr",
     "output_type": "stream",
     "text": [
      "\u001b[34m\u001b[1mwandb\u001b[0m: 🚀 View run \u001b[33mStep3_T_Naive\u001b[0m at: \u001b[34m\u001b[4mhttps://wandb.ai/inflammation/inflammation_atlas_R1/runs/tw5r2aw8\u001b[0m\n",
      "\u001b[34m\u001b[1mwandb\u001b[0m: Synced 5 W&B file(s), 0 media file(s), 0 artifact file(s) and 0 other file(s)\n"
     ]
    },
    {
     "name": "stderr",
     "output_type": "stream",
     "text": [
      "\u001b[34m\u001b[1mwandb\u001b[0m: Find logs at: \u001b[35m\u001b[1m./wandb/run-20240503_204630-tw5r2aw8/logs\u001b[0m\n"
     ]
    }
   ],
   "source": [
    "wandb.finish()"
   ]
  },
  {
   "cell_type": "markdown",
   "id": "d9fb1179-83c7-4ac6-b4aa-92dc7a349801",
   "metadata": {
    "papermill": {
     "duration": 0.009007,
     "end_time": "2024-05-03T21:34:08.707830",
     "exception": false,
     "start_time": "2024-05-03T21:34:08.698823",
     "status": "completed"
    },
    "tags": []
   },
   "source": [
    "### Extracting embedding space"
   ]
  },
  {
   "cell_type": "code",
   "execution_count": 16,
   "id": "caaa5832-0123-4c59-8ec6-f46a75f7a14e",
   "metadata": {
    "execution": {
     "iopub.execute_input": "2024-05-03T21:34:08.727378Z",
     "iopub.status.busy": "2024-05-03T21:34:08.727122Z",
     "iopub.status.idle": "2024-05-03T21:34:35.122644Z",
     "shell.execute_reply": "2024-05-03T21:34:35.121858Z"
    },
    "papermill": {
     "duration": 26.407823,
     "end_time": "2024-05-03T21:34:35.124793",
     "exception": false,
     "start_time": "2024-05-03T21:34:08.716970",
     "status": "completed"
    },
    "tags": []
   },
   "outputs": [],
   "source": [
    "adata.obsm['X_scVI'] = model.get_latent_representation()"
   ]
  },
  {
   "cell_type": "markdown",
   "id": "2f03e70b-839c-40a6-9fbb-d76bbd787419",
   "metadata": {
    "papermill": {
     "duration": 0.009023,
     "end_time": "2024-05-03T21:34:35.143336",
     "exception": false,
     "start_time": "2024-05-03T21:34:35.134313",
     "status": "completed"
    },
    "tags": []
   },
   "source": [
    "## Save the results"
   ]
  },
  {
   "cell_type": "code",
   "execution_count": 17,
   "id": "7b04049b-47fd-4b62-a1c0-c43dcc086d34",
   "metadata": {
    "execution": {
     "iopub.execute_input": "2024-05-03T21:34:35.163123Z",
     "iopub.status.busy": "2024-05-03T21:34:35.162413Z",
     "iopub.status.idle": "2024-05-03T21:36:00.356720Z",
     "shell.execute_reply": "2024-05-03T21:36:00.355936Z"
    },
    "papermill": {
     "duration": 85.206864,
     "end_time": "2024-05-03T21:36:00.359016",
     "exception": false,
     "start_time": "2024-05-03T21:34:35.152152",
     "status": "completed"
    },
    "tags": []
   },
   "outputs": [],
   "source": [
    "if overwriteData:\n",
    "    adata.write(here(f\"{workDir}/{cellGroup}/results/02_{annotationLevel}_{cellGroup}_HVGsubset_scVI.h5ad\"), compression=\"gzip\")\n",
    "    model.save(here(f\"{workDir}/{cellGroup}/results/02_{annotationLevel}_{cellGroup}_HVGsubset_scVI_MODEL/\"),\n",
    "               overwrite = True, \n",
    "               save_anndata = False )   "
   ]
  },
  {
   "cell_type": "code",
   "execution_count": 18,
   "id": "629ba2bd-f6be-44ef-8fca-bbdf891bf25f",
   "metadata": {
    "execution": {
     "iopub.execute_input": "2024-05-03T21:36:00.379734Z",
     "iopub.status.busy": "2024-05-03T21:36:00.379467Z",
     "iopub.status.idle": "2024-05-03T21:36:00.382627Z",
     "shell.execute_reply": "2024-05-03T21:36:00.382059Z"
    },
    "papermill": {
     "duration": 0.015177,
     "end_time": "2024-05-03T21:36:00.384180",
     "exception": false,
     "start_time": "2024-05-03T21:36:00.369003",
     "status": "completed"
    },
    "tags": []
   },
   "outputs": [],
   "source": [
    "# To load the model do (after loading corresponding adata):\n",
    "# model = scvi.model.SCVI.load(here('{}/results/01_{}_HVGsubset_scVI_MODEL/'.format(workDir, cellGroup)), \n",
    "#                              adata, \n",
    "#                              use_gpu=True)"
   ]
  },
  {
   "cell_type": "raw",
   "id": "975e84d0-f56b-498d-b3a8-c9219cf22e53",
   "metadata": {
    "papermill": {
     "duration": 0.009205,
     "end_time": "2024-05-03T21:36:00.402723",
     "exception": false,
     "start_time": "2024-05-03T21:36:00.393518",
     "status": "completed"
    },
    "tags": []
   },
   "source": [
    "session_info.show()"
   ]
  }
 ],
 "metadata": {
  "kernelspec": {
   "display_name": "Python 3 (ipykernel)",
   "language": "python",
   "name": "python3"
  },
  "language_info": {
   "codemirror_mode": {
    "name": "ipython",
    "version": 3
   },
   "file_extension": ".py",
   "mimetype": "text/x-python",
   "name": "python",
   "nbconvert_exporter": "python",
   "pygments_lexer": "ipython3",
   "version": "3.9.18"
  },
  "papermill": {
   "default_parameters": {},
   "duration": 3003.371286,
   "end_time": "2024-05-03T21:36:02.538994",
   "environment_variables": {},
   "exception": null,
   "input_path": "./T_Naive/02_integration_scVI.ipynb",
   "output_path": "./T_Naive/02_integration_scVI_executed.ipynb",
   "parameters": {},
   "start_time": "2024-05-03T20:45:59.167708",
   "version": "2.5.0"
  }
 },
 "nbformat": 4,
 "nbformat_minor": 5
}