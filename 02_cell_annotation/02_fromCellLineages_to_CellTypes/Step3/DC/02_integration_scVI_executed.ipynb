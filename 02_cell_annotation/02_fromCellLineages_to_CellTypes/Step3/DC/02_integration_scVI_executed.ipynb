{
 "cells": [
  {
   "cell_type": "code",
   "execution_count": 1,
   "id": "2dd1425a-0c07-465e-b522-9e3cc5cb93a7",
   "metadata": {
    "execution": {
     "iopub.execute_input": "2024-05-03T19:26:56.646839Z",
     "iopub.status.busy": "2024-05-03T19:26:56.646317Z",
     "iopub.status.idle": "2024-05-03T19:27:01.935538Z",
     "shell.execute_reply": "2024-05-03T19:27:01.934819Z"
    },
    "papermill": {
     "duration": 5.296649,
     "end_time": "2024-05-03T19:27:01.937278",
     "exception": false,
     "start_time": "2024-05-03T19:26:56.640629",
     "status": "completed"
    },
    "tags": []
   },
   "outputs": [
    {
     "data": {
      "text/plain": [
       "True"
      ]
     },
     "execution_count": 1,
     "metadata": {},
     "output_type": "execute_result"
    }
   ],
   "source": [
    "import os\n",
    "import sys\n",
    "\n",
    "import numpy as np\n",
    "import matplotlib.pyplot as plt\n",
    "\n",
    "import scanpy as sc\n",
    "import scvi\n",
    "import torch\n",
    "\n",
    "from pytorch_lightning.loggers import WandbLogger\n",
    "import wandb\n",
    "from dotenv import load_dotenv\n",
    "\n",
    "import session_info\n",
    "import warnings\n",
    "from pyprojroot.here import here\n",
    "\n",
    "warnings.filterwarnings(\"ignore\")\n",
    "sys.path.insert(1, str(here('bin')))\n",
    "\n",
    "torch.set_float32_matmul_precision('high')\n",
    "\n",
    "#plt.style.use(['science','nature','no-latex'])\n",
    "dpi_fig_save = 300\n",
    "sc.set_figure_params(dpi=100, dpi_save=dpi_fig_save, vector_friendly=True)\n",
    "\n",
    "load_dotenv(here('.env'))"
   ]
  },
  {
   "cell_type": "code",
   "execution_count": 2,
   "id": "09c897fc-744b-43de-a681-718fb5d327fa",
   "metadata": {
    "execution": {
     "iopub.execute_input": "2024-05-03T19:27:01.947716Z",
     "iopub.status.busy": "2024-05-03T19:27:01.947427Z",
     "iopub.status.idle": "2024-05-03T19:27:01.951390Z",
     "shell.execute_reply": "2024-05-03T19:27:01.950776Z"
    },
    "papermill": {
     "duration": 0.010148,
     "end_time": "2024-05-03T19:27:01.952954",
     "exception": false,
     "start_time": "2024-05-03T19:27:01.942806",
     "status": "completed"
    },
    "tags": []
   },
   "outputs": [],
   "source": [
    "class CustomWandbLogger(WandbLogger):\n",
    "    @property\n",
    "    def save_dir(self):\n",
    "        return self.experiment.dir"
   ]
  },
  {
   "cell_type": "code",
   "execution_count": 3,
   "id": "8ee6662f-5d45-4137-80a5-bb0b9ae8d71f",
   "metadata": {
    "execution": {
     "iopub.execute_input": "2024-05-03T19:27:01.960800Z",
     "iopub.status.busy": "2024-05-03T19:27:01.960567Z",
     "iopub.status.idle": "2024-05-03T19:27:01.966535Z",
     "shell.execute_reply": "2024-05-03T19:27:01.965906Z"
    },
    "papermill": {
     "duration": 0.011747,
     "end_time": "2024-05-03T19:27:01.968046",
     "exception": false,
     "start_time": "2024-05-03T19:27:01.956299",
     "status": "completed"
    },
    "tags": []
   },
   "outputs": [
    {
     "name": "stderr",
     "output_type": "stream",
     "text": [
      "Seed set to 0\n"
     ]
    },
    {
     "name": "stdout",
     "output_type": "stream",
     "text": [
      "Last run with scvi-tools version: 1.1.2\n"
     ]
    }
   ],
   "source": [
    "scvi.settings.seed = 0\n",
    "print(\"Last run with scvi-tools version:\", scvi.__version__)"
   ]
  },
  {
   "cell_type": "markdown",
   "id": "a81037ff-5998-482a-ba86-520f757311a9",
   "metadata": {
    "papermill": {
     "duration": 0.003585,
     "end_time": "2024-05-03T19:27:01.975020",
     "exception": false,
     "start_time": "2024-05-03T19:27:01.971435",
     "status": "completed"
    },
    "tags": []
   },
   "source": [
    "**Setting parameters** "
   ]
  },
  {
   "cell_type": "code",
   "execution_count": 4,
   "id": "56c27966-8f10-4c93-8b1a-1fa75f005e41",
   "metadata": {
    "execution": {
     "iopub.execute_input": "2024-05-03T19:27:01.983246Z",
     "iopub.status.busy": "2024-05-03T19:27:01.982989Z",
     "iopub.status.idle": "2024-05-03T19:27:01.986210Z",
     "shell.execute_reply": "2024-05-03T19:27:01.985619Z"
    },
    "papermill": {
     "duration": 0.009059,
     "end_time": "2024-05-03T19:27:01.987621",
     "exception": false,
     "start_time": "2024-05-03T19:27:01.978562",
     "status": "completed"
    },
    "tags": []
   },
   "outputs": [],
   "source": [
    "overwriteFigures = True\n",
    "overwriteData = True"
   ]
  },
  {
   "cell_type": "code",
   "execution_count": 5,
   "id": "c86fccd3-a4fe-415b-8f4e-e2ceb3ec128a",
   "metadata": {
    "execution": {
     "iopub.execute_input": "2024-05-03T19:27:01.996042Z",
     "iopub.status.busy": "2024-05-03T19:27:01.995605Z",
     "iopub.status.idle": "2024-05-03T19:27:01.999280Z",
     "shell.execute_reply": "2024-05-03T19:27:01.998385Z"
    },
    "papermill": {
     "duration": 0.009851,
     "end_time": "2024-05-03T19:27:02.000952",
     "exception": false,
     "start_time": "2024-05-03T19:27:01.991101",
     "status": "completed"
    },
    "tags": []
   },
   "outputs": [],
   "source": [
    "cellGroup = 'DC'\n",
    "workDir = os.getcwd()"
   ]
  },
  {
   "cell_type": "code",
   "execution_count": 6,
   "id": "2dee4d55-d168-467b-b867-a61fed9d6af1",
   "metadata": {
    "execution": {
     "iopub.execute_input": "2024-05-03T19:27:02.009945Z",
     "iopub.status.busy": "2024-05-03T19:27:02.009388Z",
     "iopub.status.idle": "2024-05-03T19:27:02.014029Z",
     "shell.execute_reply": "2024-05-03T19:27:02.013291Z"
    },
    "papermill": {
     "duration": 0.010994,
     "end_time": "2024-05-03T19:27:02.015658",
     "exception": false,
     "start_time": "2024-05-03T19:27:02.004664",
     "status": "completed"
    },
    "tags": []
   },
   "outputs": [],
   "source": [
    "annotationLevel = os.path.basename(os.path.normpath(workDir))"
   ]
  },
  {
   "cell_type": "code",
   "execution_count": 7,
   "id": "11e53cd5-b746-4152-89cb-c2f0c15d90b3",
   "metadata": {
    "execution": {
     "iopub.execute_input": "2024-05-03T19:27:02.025002Z",
     "iopub.status.busy": "2024-05-03T19:27:02.024175Z",
     "iopub.status.idle": "2024-05-03T19:27:02.030061Z",
     "shell.execute_reply": "2024-05-03T19:27:02.029245Z"
    },
    "papermill": {
     "duration": 0.012483,
     "end_time": "2024-05-03T19:27:02.031786",
     "exception": false,
     "start_time": "2024-05-03T19:27:02.019303",
     "status": "completed"
    },
    "tags": []
   },
   "outputs": [
    {
     "data": {
      "text/plain": [
       "'/home/jupyter/Inflammation-PBMCs-Atlas/02_cell_annotation/02_fromCellLineages_to_CellTypes/Step3'"
      ]
     },
     "execution_count": 7,
     "metadata": {},
     "output_type": "execute_result"
    }
   ],
   "source": [
    "workDir"
   ]
  },
  {
   "cell_type": "markdown",
   "id": "171d2f06-9a44-4fcb-b437-35dc546674b6",
   "metadata": {
    "papermill": {
     "duration": 0.003866,
     "end_time": "2024-05-03T19:27:02.039647",
     "exception": false,
     "start_time": "2024-05-03T19:27:02.035781",
     "status": "completed"
    },
    "tags": []
   },
   "source": [
    "**Load data**"
   ]
  },
  {
   "cell_type": "code",
   "execution_count": 8,
   "id": "429f34fe-dde6-4cc9-9f75-7de8f85c5ffe",
   "metadata": {
    "execution": {
     "iopub.execute_input": "2024-05-03T19:27:02.049148Z",
     "iopub.status.busy": "2024-05-03T19:27:02.048468Z",
     "iopub.status.idle": "2024-05-03T19:27:04.178619Z",
     "shell.execute_reply": "2024-05-03T19:27:04.177942Z"
    },
    "papermill": {
     "duration": 2.136841,
     "end_time": "2024-05-03T19:27:04.180198",
     "exception": false,
     "start_time": "2024-05-03T19:27:02.043357",
     "status": "completed"
    },
    "tags": []
   },
   "outputs": [
    {
     "data": {
      "text/plain": [
       "AnnData object with n_obs × n_vars = 47276 × 2343\n",
       "    obs: 'studyID', 'libraryID', 'sampleID', 'chemistry', 'technology', 'patientID', 'disease', 'timepoint_replicate', 'treatmentStatus', 'therapyResponse', 'sex', 'age', 'BMI', 'binned_age', 'diseaseStatus', 'smokingStatus', 'ethnicity', 'institute', 'diseaseGroup', 'n_genes_by_counts', 'log1p_n_genes_by_counts', 'total_counts', 'log1p_total_counts', 'pct_counts_in_top_20_genes', 'total_counts_mt', 'log1p_total_counts_mt', 'pct_counts_mt', 'total_counts_ribo', 'log1p_total_counts_ribo', 'pct_counts_ribo', 'total_counts_hb', 'log1p_total_counts_hb', 'pct_counts_hb', 'total_counts_plt', 'log1p_total_counts_plt', 'pct_counts_plt', 'doublet_score', 'predicted_doublet', 'S_score', 'G2M_score', 'phase'\n",
       "    var: 'hgnc_id', 'symbol', 'locus_group', 'HUGO_status', 'mt', 'ribo', 'hb', 'plt', 'n_cells_by_counts', 'mean_counts', 'log1p_mean_counts', 'pct_dropout_by_counts', 'total_counts', 'log1p_total_counts', 'highly_variable'\n",
       "    uns: 'chemistry_colors', 'log1p'\n",
       "    layers: 'counts', 'log1p_10e4_counts'"
      ]
     },
     "execution_count": 8,
     "metadata": {},
     "output_type": "execute_result"
    }
   ],
   "source": [
    "adata = sc.read_h5ad(here(f\"{workDir}/{cellGroup}/results/01_{cellGroup}_normalized_HVGsubset.h5ad\"))\n",
    "adata"
   ]
  },
  {
   "cell_type": "markdown",
   "id": "8ac79f3b-d5af-41fa-8904-1e9ac1cbe2fb",
   "metadata": {
    "papermill": {
     "duration": 0.003665,
     "end_time": "2024-05-03T19:27:04.187815",
     "exception": false,
     "start_time": "2024-05-03T19:27:04.184150",
     "status": "completed"
    },
    "tags": []
   },
   "source": [
    "## scVI integration"
   ]
  },
  {
   "cell_type": "markdown",
   "id": "9544847d-d17f-4811-b14b-760446d54d32",
   "metadata": {
    "execution": {
     "iopub.execute_input": "2024-03-25T16:49:04.004504Z",
     "iopub.status.busy": "2024-03-25T16:49:04.004143Z",
     "iopub.status.idle": "2024-03-25T16:49:04.010148Z",
     "shell.execute_reply": "2024-03-25T16:49:04.009146Z",
     "shell.execute_reply.started": "2024-03-25T16:49:04.004477Z"
    },
    "papermill": {
     "duration": 0.003717,
     "end_time": "2024-05-03T19:27:04.195292",
     "exception": false,
     "start_time": "2024-05-03T19:27:04.191575",
     "status": "completed"
    },
    "tags": []
   },
   "source": [
    "**scVI parameters**"
   ]
  },
  {
   "cell_type": "code",
   "execution_count": 9,
   "id": "208966eb-545a-4c02-854c-0ed0487ef5b3",
   "metadata": {
    "execution": {
     "iopub.execute_input": "2024-05-03T19:27:04.204330Z",
     "iopub.status.busy": "2024-05-03T19:27:04.204019Z",
     "iopub.status.idle": "2024-05-03T19:27:04.209347Z",
     "shell.execute_reply": "2024-05-03T19:27:04.208745Z"
    },
    "papermill": {
     "duration": 0.011791,
     "end_time": "2024-05-03T19:27:04.210862",
     "exception": false,
     "start_time": "2024-05-03T19:27:04.199071",
     "status": "completed"
    },
    "tags": []
   },
   "outputs": [],
   "source": [
    "# https://docs.scvi-tools.org/en/stable/api/reference/scvi.train.Trainer.html#scvi.train.Trainer\n",
    "setup_kwargs = dict(\n",
    "    layer=\"counts\", \n",
    "    batch_key='libraryID', \n",
    "    categorical_covariate_keys = ['studyID', 'chemistry', 'disease', 'sampleID'],\n",
    "    labels_key = 'chemistry'    \n",
    ")\n",
    "\n",
    "scvi_kwargs = dict(n_hidden=512,\n",
    "                   n_latent=10, # reduceds after step 02\n",
    "                   n_layers=2,\n",
    "                   gene_likelihood='nb',\n",
    "                   dispersion='gene-label')\n",
    "\n",
    "trainer_kwargs = dict(\n",
    "    checkpointing_monitor = 'elbo_validation',\n",
    "    early_stopping_monitor = 'reconstruction_loss_validation',\n",
    "    early_stopping_patience = 10,\n",
    "    early_stopping_min_delta=0.1,\n",
    "    early_stopping = True,\n",
    "    max_epochs = 1000,\n",
    "\n",
    "    #logger = # wandb\n",
    ")\n",
    "# https://docs.scvi-tools.org/en/stable/api/reference/scvi.train.TrainingPlan.html#scvi.train.TrainingPlan\n",
    "plan_kwargs = dict(\n",
    "    lr = 5e-4,\n",
    "    #reduce_lr_on_plateau = True\n",
    ")\n",
    "\n",
    "# https://docs.scvi-tools.org/en/stable/api/reference/scvi.module.VAE.html#scvi.module.VAE\n",
    "#vae = dict(\n",
    "#    use_layer_norm='both',\n",
    "#    use_batch_norm='none',\n",
    "#    encode_covariates=True,\n",
    "#    deeply_inject_covariates=False\n",
    "#)\n",
    "parameter_dict = setup_kwargs | scvi_kwargs | trainer_kwargs | plan_kwargs"
   ]
  },
  {
   "cell_type": "markdown",
   "id": "1362366a-c16b-4c11-964b-b9c5f82f7b29",
   "metadata": {
    "papermill": {
     "duration": 0.003736,
     "end_time": "2024-05-03T19:27:04.218238",
     "exception": false,
     "start_time": "2024-05-03T19:27:04.214502",
     "status": "completed"
    },
    "tags": []
   },
   "source": [
    "**wandb parameter**"
   ]
  },
  {
   "cell_type": "code",
   "execution_count": 10,
   "id": "0496e33a-8ca5-423f-b42f-34a59760708c",
   "metadata": {
    "execution": {
     "iopub.execute_input": "2024-05-03T19:27:04.227512Z",
     "iopub.status.busy": "2024-05-03T19:27:04.227004Z",
     "iopub.status.idle": "2024-05-03T19:27:04.231388Z",
     "shell.execute_reply": "2024-05-03T19:27:04.230838Z"
    },
    "papermill": {
     "duration": 0.010592,
     "end_time": "2024-05-03T19:27:04.232877",
     "exception": false,
     "start_time": "2024-05-03T19:27:04.222285",
     "status": "completed"
    },
    "tags": []
   },
   "outputs": [
    {
     "data": {
      "text/plain": [
       "'Step3_DC'"
      ]
     },
     "execution_count": 10,
     "metadata": {},
     "output_type": "execute_result"
    }
   ],
   "source": [
    "run_name = f\"{annotationLevel}_{cellGroup}\"\n",
    "run_name"
   ]
  },
  {
   "cell_type": "code",
   "execution_count": 11,
   "id": "b0021327-95a2-4002-bf32-2c5779a99505",
   "metadata": {
    "execution": {
     "iopub.execute_input": "2024-05-03T19:27:04.242521Z",
     "iopub.status.busy": "2024-05-03T19:27:04.241871Z",
     "iopub.status.idle": "2024-05-03T19:27:04.367061Z",
     "shell.execute_reply": "2024-05-03T19:27:04.366421Z"
    },
    "papermill": {
     "duration": 0.1322,
     "end_time": "2024-05-03T19:27:04.369036",
     "exception": false,
     "start_time": "2024-05-03T19:27:04.236836",
     "status": "completed"
    },
    "tags": []
   },
   "outputs": [],
   "source": [
    "logger = CustomWandbLogger(name = run_name, project='inflammation_atlas_R1', config=parameter_dict)"
   ]
  },
  {
   "cell_type": "markdown",
   "id": "c237eee1-a976-4915-9b7f-b014bf33f47d",
   "metadata": {
    "papermill": {
     "duration": 0.003922,
     "end_time": "2024-05-03T19:27:04.377019",
     "exception": false,
     "start_time": "2024-05-03T19:27:04.373097",
     "status": "completed"
    },
    "tags": []
   },
   "source": [
    "**Running integration**"
   ]
  },
  {
   "cell_type": "code",
   "execution_count": 12,
   "id": "aff97c53-1aba-462e-8a77-f1aec9cf724c",
   "metadata": {
    "execution": {
     "iopub.execute_input": "2024-05-03T19:27:04.386497Z",
     "iopub.status.busy": "2024-05-03T19:27:04.385891Z",
     "iopub.status.idle": "2024-05-03T19:27:04.867270Z",
     "shell.execute_reply": "2024-05-03T19:27:04.866512Z"
    },
    "papermill": {
     "duration": 0.48844,
     "end_time": "2024-05-03T19:27:04.869449",
     "exception": false,
     "start_time": "2024-05-03T19:27:04.381009",
     "status": "completed"
    },
    "tags": []
   },
   "outputs": [],
   "source": [
    "scvi.model.SCVI.setup_anndata(adata, \n",
    "                              **setup_kwargs)"
   ]
  },
  {
   "cell_type": "code",
   "execution_count": 13,
   "id": "1a56f448-cf44-47c1-81a4-a89caa930fec",
   "metadata": {
    "execution": {
     "iopub.execute_input": "2024-05-03T19:27:04.880086Z",
     "iopub.status.busy": "2024-05-03T19:27:04.879362Z",
     "iopub.status.idle": "2024-05-03T19:27:05.175969Z",
     "shell.execute_reply": "2024-05-03T19:27:05.175226Z"
    },
    "papermill": {
     "duration": 0.304192,
     "end_time": "2024-05-03T19:27:05.178099",
     "exception": false,
     "start_time": "2024-05-03T19:27:04.873907",
     "status": "completed"
    },
    "tags": []
   },
   "outputs": [],
   "source": [
    "model = scvi.model.SCVI(adata, **scvi_kwargs)"
   ]
  },
  {
   "cell_type": "code",
   "execution_count": 14,
   "id": "2735f010-4f24-4ae8-9740-a8cfeb335e9a",
   "metadata": {
    "execution": {
     "iopub.execute_input": "2024-05-03T19:27:05.188368Z",
     "iopub.status.busy": "2024-05-03T19:27:05.187591Z",
     "iopub.status.idle": "2024-05-03T19:30:03.270680Z",
     "shell.execute_reply": "2024-05-03T19:30:03.269799Z"
    },
    "papermill": {
     "duration": 178.09026,
     "end_time": "2024-05-03T19:30:03.272583",
     "exception": false,
     "start_time": "2024-05-03T19:27:05.182323",
     "status": "completed"
    },
    "tags": []
   },
   "outputs": [
    {
     "name": "stderr",
     "output_type": "stream",
     "text": [
      "GPU available: True (cuda), used: True\n"
     ]
    },
    {
     "name": "stderr",
     "output_type": "stream",
     "text": [
      "TPU available: False, using: 0 TPU cores\n"
     ]
    },
    {
     "name": "stderr",
     "output_type": "stream",
     "text": [
      "IPU available: False, using: 0 IPUs\n"
     ]
    },
    {
     "name": "stderr",
     "output_type": "stream",
     "text": [
      "HPU available: False, using: 0 HPUs\n"
     ]
    },
    {
     "name": "stderr",
     "output_type": "stream",
     "text": [
      "\u001b[34m\u001b[1mwandb\u001b[0m: Currently logged in as: \u001b[33mdav1989\u001b[0m (\u001b[33minflammation\u001b[0m). Use \u001b[1m`wandb login --relogin`\u001b[0m to force relogin\n"
     ]
    },
    {
     "name": "stderr",
     "output_type": "stream",
     "text": [
      "\u001b[34m\u001b[1mwandb\u001b[0m: wandb version 0.16.6 is available!  To upgrade, please run:\n",
      "\u001b[34m\u001b[1mwandb\u001b[0m:  $ pip install wandb --upgrade\n"
     ]
    },
    {
     "name": "stderr",
     "output_type": "stream",
     "text": [
      "\u001b[34m\u001b[1mwandb\u001b[0m: Tracking run with wandb version 0.16.3\n"
     ]
    },
    {
     "name": "stderr",
     "output_type": "stream",
     "text": [
      "\u001b[34m\u001b[1mwandb\u001b[0m: Run data is saved locally in \u001b[35m\u001b[1m./wandb/run-20240503_192709-zx8w0hgo\u001b[0m\n",
      "\u001b[34m\u001b[1mwandb\u001b[0m: Run \u001b[1m`wandb offline`\u001b[0m to turn off syncing.\n"
     ]
    },
    {
     "name": "stderr",
     "output_type": "stream",
     "text": [
      "\u001b[34m\u001b[1mwandb\u001b[0m: Syncing run \u001b[33mStep3_DC\u001b[0m\n"
     ]
    },
    {
     "name": "stderr",
     "output_type": "stream",
     "text": [
      "\u001b[34m\u001b[1mwandb\u001b[0m: ⭐️ View project at \u001b[34m\u001b[4mhttps://wandb.ai/inflammation/inflammation_atlas_R1\u001b[0m\n"
     ]
    },
    {
     "name": "stderr",
     "output_type": "stream",
     "text": [
      "\u001b[34m\u001b[1mwandb\u001b[0m: 🚀 View run at \u001b[34m\u001b[4mhttps://wandb.ai/inflammation/inflammation_atlas_R1/runs/zx8w0hgo\u001b[0m\n"
     ]
    },
    {
     "name": "stderr",
     "output_type": "stream",
     "text": [
      "LOCAL_RANK: 0 - CUDA_VISIBLE_DEVICES: [0]\n"
     ]
    },
    {
     "name": "stdout",
     "output_type": "stream",
     "text": [
      "\r",
      "Training:   0%|          | 0/1000 [00:00<?, ?it/s]"
     ]
    },
    {
     "name": "stdout",
     "output_type": "stream",
     "text": [
      "\r",
      "Epoch 1/1000:   0%|          | 0/1000 [00:00<?, ?it/s]"
     ]
    },
    {
     "name": "stdout",
     "output_type": "stream",
     "text": [
      "\r",
      "Epoch 1/1000:   0%|          | 1/1000 [00:06<1:44:43,  6.29s/it]"
     ]
    },
    {
     "name": "stdout",
     "output_type": "stream",
     "text": [
      "\r",
      "Epoch 1/1000:   0%|          | 1/1000 [00:06<1:44:43,  6.29s/it, v_num=0hgo, train_loss_step=1.23e+3, train_loss_epoch=1.33e+3]"
     ]
    },
    {
     "name": "stdout",
     "output_type": "stream",
     "text": [
      "\r",
      "Epoch 2/1000:   0%|          | 1/1000 [00:06<1:44:43,  6.29s/it, v_num=0hgo, train_loss_step=1.23e+3, train_loss_epoch=1.33e+3]"
     ]
    },
    {
     "name": "stdout",
     "output_type": "stream",
     "text": [
      "\r",
      "Epoch 2/1000:   0%|          | 2/1000 [00:11<1:31:46,  5.52s/it, v_num=0hgo, train_loss_step=1.23e+3, train_loss_epoch=1.33e+3]"
     ]
    },
    {
     "name": "stdout",
     "output_type": "stream",
     "text": [
      "\r",
      "Epoch 2/1000:   0%|          | 2/1000 [00:11<1:31:46,  5.52s/it, v_num=0hgo, train_loss_step=1.37e+3, train_loss_epoch=1.28e+3]"
     ]
    },
    {
     "name": "stdout",
     "output_type": "stream",
     "text": [
      "\r",
      "Epoch 3/1000:   0%|          | 2/1000 [00:11<1:31:46,  5.52s/it, v_num=0hgo, train_loss_step=1.37e+3, train_loss_epoch=1.28e+3]"
     ]
    },
    {
     "name": "stdout",
     "output_type": "stream",
     "text": [
      "\r",
      "Epoch 3/1000:   0%|          | 3/1000 [00:16<1:27:36,  5.27s/it, v_num=0hgo, train_loss_step=1.37e+3, train_loss_epoch=1.28e+3]"
     ]
    },
    {
     "name": "stdout",
     "output_type": "stream",
     "text": [
      "\r",
      "Epoch 3/1000:   0%|          | 3/1000 [00:16<1:27:36,  5.27s/it, v_num=0hgo, train_loss_step=1.33e+3, train_loss_epoch=1.27e+3]"
     ]
    },
    {
     "name": "stdout",
     "output_type": "stream",
     "text": [
      "\r",
      "Epoch 4/1000:   0%|          | 3/1000 [00:16<1:27:36,  5.27s/it, v_num=0hgo, train_loss_step=1.33e+3, train_loss_epoch=1.27e+3]"
     ]
    },
    {
     "name": "stdout",
     "output_type": "stream",
     "text": [
      "\r",
      "Epoch 4/1000:   0%|          | 4/1000 [00:21<1:25:21,  5.14s/it, v_num=0hgo, train_loss_step=1.33e+3, train_loss_epoch=1.27e+3]"
     ]
    },
    {
     "name": "stdout",
     "output_type": "stream",
     "text": [
      "\r",
      "Epoch 4/1000:   0%|          | 4/1000 [00:21<1:25:21,  5.14s/it, v_num=0hgo, train_loss_step=1.3e+3, train_loss_epoch=1.26e+3] "
     ]
    },
    {
     "name": "stdout",
     "output_type": "stream",
     "text": [
      "\r",
      "Epoch 5/1000:   0%|          | 4/1000 [00:21<1:25:21,  5.14s/it, v_num=0hgo, train_loss_step=1.3e+3, train_loss_epoch=1.26e+3]"
     ]
    },
    {
     "name": "stdout",
     "output_type": "stream",
     "text": [
      "\r",
      "Epoch 5/1000:   0%|          | 5/1000 [00:26<1:23:43,  5.05s/it, v_num=0hgo, train_loss_step=1.3e+3, train_loss_epoch=1.26e+3]"
     ]
    },
    {
     "name": "stdout",
     "output_type": "stream",
     "text": [
      "\r",
      "Epoch 5/1000:   0%|          | 5/1000 [00:26<1:23:43,  5.05s/it, v_num=0hgo, train_loss_step=1.27e+3, train_loss_epoch=1.25e+3]"
     ]
    },
    {
     "name": "stdout",
     "output_type": "stream",
     "text": [
      "\r",
      "Epoch 6/1000:   0%|          | 5/1000 [00:26<1:23:43,  5.05s/it, v_num=0hgo, train_loss_step=1.27e+3, train_loss_epoch=1.25e+3]"
     ]
    },
    {
     "name": "stdout",
     "output_type": "stream",
     "text": [
      "\r",
      "Epoch 6/1000:   1%|          | 6/1000 [00:30<1:22:29,  4.98s/it, v_num=0hgo, train_loss_step=1.27e+3, train_loss_epoch=1.25e+3]"
     ]
    },
    {
     "name": "stdout",
     "output_type": "stream",
     "text": [
      "\r",
      "Epoch 6/1000:   1%|          | 6/1000 [00:30<1:22:29,  4.98s/it, v_num=0hgo, train_loss_step=1.15e+3, train_loss_epoch=1.25e+3]"
     ]
    },
    {
     "name": "stdout",
     "output_type": "stream",
     "text": [
      "\r",
      "Epoch 7/1000:   1%|          | 6/1000 [00:30<1:22:29,  4.98s/it, v_num=0hgo, train_loss_step=1.15e+3, train_loss_epoch=1.25e+3]"
     ]
    },
    {
     "name": "stdout",
     "output_type": "stream",
     "text": [
      "\r",
      "Epoch 7/1000:   1%|          | 7/1000 [00:35<1:21:50,  4.95s/it, v_num=0hgo, train_loss_step=1.15e+3, train_loss_epoch=1.25e+3]"
     ]
    },
    {
     "name": "stdout",
     "output_type": "stream",
     "text": [
      "\r",
      "Epoch 7/1000:   1%|          | 7/1000 [00:35<1:21:50,  4.95s/it, v_num=0hgo, train_loss_step=1.23e+3, train_loss_epoch=1.24e+3]"
     ]
    },
    {
     "name": "stdout",
     "output_type": "stream",
     "text": [
      "\r",
      "Epoch 8/1000:   1%|          | 7/1000 [00:35<1:21:50,  4.95s/it, v_num=0hgo, train_loss_step=1.23e+3, train_loss_epoch=1.24e+3]"
     ]
    },
    {
     "name": "stdout",
     "output_type": "stream",
     "text": [
      "\r",
      "Epoch 8/1000:   1%|          | 8/1000 [00:40<1:21:25,  4.93s/it, v_num=0hgo, train_loss_step=1.23e+3, train_loss_epoch=1.24e+3]"
     ]
    },
    {
     "name": "stdout",
     "output_type": "stream",
     "text": [
      "\r",
      "Epoch 8/1000:   1%|          | 8/1000 [00:40<1:21:25,  4.93s/it, v_num=0hgo, train_loss_step=1.25e+3, train_loss_epoch=1.24e+3]"
     ]
    },
    {
     "name": "stdout",
     "output_type": "stream",
     "text": [
      "\r",
      "Epoch 9/1000:   1%|          | 8/1000 [00:40<1:21:25,  4.93s/it, v_num=0hgo, train_loss_step=1.25e+3, train_loss_epoch=1.24e+3]"
     ]
    },
    {
     "name": "stdout",
     "output_type": "stream",
     "text": [
      "\r",
      "Epoch 9/1000:   1%|          | 9/1000 [00:45<1:21:01,  4.91s/it, v_num=0hgo, train_loss_step=1.25e+3, train_loss_epoch=1.24e+3]"
     ]
    },
    {
     "name": "stdout",
     "output_type": "stream",
     "text": [
      "\r",
      "Epoch 9/1000:   1%|          | 9/1000 [00:45<1:21:01,  4.91s/it, v_num=0hgo, train_loss_step=1.22e+3, train_loss_epoch=1.23e+3]"
     ]
    },
    {
     "name": "stdout",
     "output_type": "stream",
     "text": [
      "\r",
      "Epoch 10/1000:   1%|          | 9/1000 [00:45<1:21:01,  4.91s/it, v_num=0hgo, train_loss_step=1.22e+3, train_loss_epoch=1.23e+3]"
     ]
    },
    {
     "name": "stdout",
     "output_type": "stream",
     "text": [
      "\r",
      "Epoch 10/1000:   1%|          | 10/1000 [00:50<1:21:04,  4.91s/it, v_num=0hgo, train_loss_step=1.22e+3, train_loss_epoch=1.23e+3]"
     ]
    },
    {
     "name": "stdout",
     "output_type": "stream",
     "text": [
      "\r",
      "Epoch 10/1000:   1%|          | 10/1000 [00:50<1:21:04,  4.91s/it, v_num=0hgo, train_loss_step=1.2e+3, train_loss_epoch=1.23e+3] "
     ]
    },
    {
     "name": "stdout",
     "output_type": "stream",
     "text": [
      "\r",
      "Epoch 11/1000:   1%|          | 10/1000 [00:50<1:21:04,  4.91s/it, v_num=0hgo, train_loss_step=1.2e+3, train_loss_epoch=1.23e+3]"
     ]
    },
    {
     "name": "stdout",
     "output_type": "stream",
     "text": [
      "\r",
      "Epoch 11/1000:   1%|          | 11/1000 [00:55<1:21:19,  4.93s/it, v_num=0hgo, train_loss_step=1.2e+3, train_loss_epoch=1.23e+3]"
     ]
    },
    {
     "name": "stdout",
     "output_type": "stream",
     "text": [
      "\r",
      "Epoch 11/1000:   1%|          | 11/1000 [00:55<1:21:19,  4.93s/it, v_num=0hgo, train_loss_step=1.11e+3, train_loss_epoch=1.22e+3]"
     ]
    },
    {
     "name": "stdout",
     "output_type": "stream",
     "text": [
      "\r",
      "Epoch 12/1000:   1%|          | 11/1000 [00:55<1:21:19,  4.93s/it, v_num=0hgo, train_loss_step=1.11e+3, train_loss_epoch=1.22e+3]"
     ]
    },
    {
     "name": "stdout",
     "output_type": "stream",
     "text": [
      "\r",
      "Epoch 12/1000:   1%|          | 12/1000 [01:00<1:21:09,  4.93s/it, v_num=0hgo, train_loss_step=1.11e+3, train_loss_epoch=1.22e+3]"
     ]
    },
    {
     "name": "stdout",
     "output_type": "stream",
     "text": [
      "\r",
      "Epoch 12/1000:   1%|          | 12/1000 [01:00<1:21:09,  4.93s/it, v_num=0hgo, train_loss_step=1.22e+3, train_loss_epoch=1.22e+3]"
     ]
    },
    {
     "name": "stdout",
     "output_type": "stream",
     "text": [
      "\r",
      "Epoch 13/1000:   1%|          | 12/1000 [01:00<1:21:09,  4.93s/it, v_num=0hgo, train_loss_step=1.22e+3, train_loss_epoch=1.22e+3]"
     ]
    },
    {
     "name": "stdout",
     "output_type": "stream",
     "text": [
      "\r",
      "Epoch 13/1000:   1%|▏         | 13/1000 [01:05<1:20:54,  4.92s/it, v_num=0hgo, train_loss_step=1.22e+3, train_loss_epoch=1.22e+3]"
     ]
    },
    {
     "name": "stdout",
     "output_type": "stream",
     "text": [
      "\r",
      "Epoch 13/1000:   1%|▏         | 13/1000 [01:05<1:20:54,  4.92s/it, v_num=0hgo, train_loss_step=1.23e+3, train_loss_epoch=1.22e+3]"
     ]
    },
    {
     "name": "stdout",
     "output_type": "stream",
     "text": [
      "\r",
      "Epoch 14/1000:   1%|▏         | 13/1000 [01:05<1:20:54,  4.92s/it, v_num=0hgo, train_loss_step=1.23e+3, train_loss_epoch=1.22e+3]"
     ]
    },
    {
     "name": "stdout",
     "output_type": "stream",
     "text": [
      "\r",
      "Epoch 14/1000:   1%|▏         | 14/1000 [01:10<1:20:43,  4.91s/it, v_num=0hgo, train_loss_step=1.23e+3, train_loss_epoch=1.22e+3]"
     ]
    },
    {
     "name": "stdout",
     "output_type": "stream",
     "text": [
      "\r",
      "Epoch 14/1000:   1%|▏         | 14/1000 [01:10<1:20:43,  4.91s/it, v_num=0hgo, train_loss_step=1.27e+3, train_loss_epoch=1.21e+3]"
     ]
    },
    {
     "name": "stdout",
     "output_type": "stream",
     "text": [
      "\r",
      "Epoch 15/1000:   1%|▏         | 14/1000 [01:10<1:20:43,  4.91s/it, v_num=0hgo, train_loss_step=1.27e+3, train_loss_epoch=1.21e+3]"
     ]
    },
    {
     "name": "stdout",
     "output_type": "stream",
     "text": [
      "\r",
      "Epoch 15/1000:   2%|▏         | 15/1000 [01:15<1:20:36,  4.91s/it, v_num=0hgo, train_loss_step=1.27e+3, train_loss_epoch=1.21e+3]"
     ]
    },
    {
     "name": "stdout",
     "output_type": "stream",
     "text": [
      "\r",
      "Epoch 15/1000:   2%|▏         | 15/1000 [01:15<1:20:36,  4.91s/it, v_num=0hgo, train_loss_step=1.2e+3, train_loss_epoch=1.21e+3] "
     ]
    },
    {
     "name": "stdout",
     "output_type": "stream",
     "text": [
      "\r",
      "Epoch 16/1000:   2%|▏         | 15/1000 [01:15<1:20:36,  4.91s/it, v_num=0hgo, train_loss_step=1.2e+3, train_loss_epoch=1.21e+3]"
     ]
    },
    {
     "name": "stdout",
     "output_type": "stream",
     "text": [
      "\r",
      "Epoch 16/1000:   2%|▏         | 16/1000 [01:19<1:20:17,  4.90s/it, v_num=0hgo, train_loss_step=1.2e+3, train_loss_epoch=1.21e+3]"
     ]
    },
    {
     "name": "stdout",
     "output_type": "stream",
     "text": [
      "\r",
      "Epoch 16/1000:   2%|▏         | 16/1000 [01:19<1:20:17,  4.90s/it, v_num=0hgo, train_loss_step=1.25e+3, train_loss_epoch=1.21e+3]"
     ]
    },
    {
     "name": "stdout",
     "output_type": "stream",
     "text": [
      "\r",
      "Epoch 17/1000:   2%|▏         | 16/1000 [01:19<1:20:17,  4.90s/it, v_num=0hgo, train_loss_step=1.25e+3, train_loss_epoch=1.21e+3]"
     ]
    },
    {
     "name": "stdout",
     "output_type": "stream",
     "text": [
      "\r",
      "Epoch 17/1000:   2%|▏         | 17/1000 [01:24<1:20:12,  4.90s/it, v_num=0hgo, train_loss_step=1.25e+3, train_loss_epoch=1.21e+3]"
     ]
    },
    {
     "name": "stdout",
     "output_type": "stream",
     "text": [
      "\r",
      "Epoch 17/1000:   2%|▏         | 17/1000 [01:24<1:20:12,  4.90s/it, v_num=0hgo, train_loss_step=1.23e+3, train_loss_epoch=1.21e+3]"
     ]
    },
    {
     "name": "stdout",
     "output_type": "stream",
     "text": [
      "\r",
      "Epoch 18/1000:   2%|▏         | 17/1000 [01:24<1:20:12,  4.90s/it, v_num=0hgo, train_loss_step=1.23e+3, train_loss_epoch=1.21e+3]"
     ]
    },
    {
     "name": "stdout",
     "output_type": "stream",
     "text": [
      "\r",
      "Epoch 18/1000:   2%|▏         | 18/1000 [01:29<1:19:07,  4.84s/it, v_num=0hgo, train_loss_step=1.23e+3, train_loss_epoch=1.21e+3]"
     ]
    },
    {
     "name": "stdout",
     "output_type": "stream",
     "text": [
      "\r",
      "Epoch 18/1000:   2%|▏         | 18/1000 [01:29<1:19:07,  4.84s/it, v_num=0hgo, train_loss_step=1.23e+3, train_loss_epoch=1.21e+3]"
     ]
    },
    {
     "name": "stdout",
     "output_type": "stream",
     "text": [
      "\r",
      "Epoch 19/1000:   2%|▏         | 18/1000 [01:29<1:19:07,  4.84s/it, v_num=0hgo, train_loss_step=1.23e+3, train_loss_epoch=1.21e+3]"
     ]
    },
    {
     "name": "stdout",
     "output_type": "stream",
     "text": [
      "\r",
      "Epoch 19/1000:   2%|▏         | 19/1000 [01:33<1:17:19,  4.73s/it, v_num=0hgo, train_loss_step=1.23e+3, train_loss_epoch=1.21e+3]"
     ]
    },
    {
     "name": "stdout",
     "output_type": "stream",
     "text": [
      "\r",
      "Epoch 19/1000:   2%|▏         | 19/1000 [01:34<1:17:19,  4.73s/it, v_num=0hgo, train_loss_step=1.14e+3, train_loss_epoch=1.2e+3] "
     ]
    },
    {
     "name": "stdout",
     "output_type": "stream",
     "text": [
      "\r",
      "Epoch 20/1000:   2%|▏         | 19/1000 [01:34<1:17:19,  4.73s/it, v_num=0hgo, train_loss_step=1.14e+3, train_loss_epoch=1.2e+3]"
     ]
    },
    {
     "name": "stdout",
     "output_type": "stream",
     "text": [
      "\r",
      "Epoch 20/1000:   2%|▏         | 20/1000 [01:38<1:17:22,  4.74s/it, v_num=0hgo, train_loss_step=1.14e+3, train_loss_epoch=1.2e+3]"
     ]
    },
    {
     "name": "stdout",
     "output_type": "stream",
     "text": [
      "\r",
      "Epoch 20/1000:   2%|▏         | 20/1000 [01:38<1:17:22,  4.74s/it, v_num=0hgo, train_loss_step=1.23e+3, train_loss_epoch=1.2e+3]"
     ]
    },
    {
     "name": "stdout",
     "output_type": "stream",
     "text": [
      "\r",
      "Epoch 21/1000:   2%|▏         | 20/1000 [01:38<1:17:22,  4.74s/it, v_num=0hgo, train_loss_step=1.23e+3, train_loss_epoch=1.2e+3]"
     ]
    },
    {
     "name": "stdout",
     "output_type": "stream",
     "text": [
      "\r",
      "Epoch 21/1000:   2%|▏         | 21/1000 [01:43<1:18:22,  4.80s/it, v_num=0hgo, train_loss_step=1.23e+3, train_loss_epoch=1.2e+3]"
     ]
    },
    {
     "name": "stdout",
     "output_type": "stream",
     "text": [
      "\r",
      "Epoch 21/1000:   2%|▏         | 21/1000 [01:43<1:18:22,  4.80s/it, v_num=0hgo, train_loss_step=1.14e+3, train_loss_epoch=1.2e+3]"
     ]
    },
    {
     "name": "stdout",
     "output_type": "stream",
     "text": [
      "\r",
      "Epoch 22/1000:   2%|▏         | 21/1000 [01:43<1:18:22,  4.80s/it, v_num=0hgo, train_loss_step=1.14e+3, train_loss_epoch=1.2e+3]"
     ]
    },
    {
     "name": "stdout",
     "output_type": "stream",
     "text": [
      "\r",
      "Epoch 22/1000:   2%|▏         | 22/1000 [01:48<1:19:03,  4.85s/it, v_num=0hgo, train_loss_step=1.14e+3, train_loss_epoch=1.2e+3]"
     ]
    },
    {
     "name": "stdout",
     "output_type": "stream",
     "text": [
      "\r",
      "Epoch 22/1000:   2%|▏         | 22/1000 [01:48<1:19:03,  4.85s/it, v_num=0hgo, train_loss_step=1.2e+3, train_loss_epoch=1.2e+3] "
     ]
    },
    {
     "name": "stdout",
     "output_type": "stream",
     "text": [
      "\r",
      "Epoch 23/1000:   2%|▏         | 22/1000 [01:48<1:19:03,  4.85s/it, v_num=0hgo, train_loss_step=1.2e+3, train_loss_epoch=1.2e+3]"
     ]
    },
    {
     "name": "stdout",
     "output_type": "stream",
     "text": [
      "\r",
      "Epoch 23/1000:   2%|▏         | 23/1000 [01:53<1:20:04,  4.92s/it, v_num=0hgo, train_loss_step=1.2e+3, train_loss_epoch=1.2e+3]"
     ]
    },
    {
     "name": "stdout",
     "output_type": "stream",
     "text": [
      "\r",
      "Epoch 23/1000:   2%|▏         | 23/1000 [01:53<1:20:04,  4.92s/it, v_num=0hgo, train_loss_step=1.18e+3, train_loss_epoch=1.2e+3]"
     ]
    },
    {
     "name": "stdout",
     "output_type": "stream",
     "text": [
      "\r",
      "Epoch 24/1000:   2%|▏         | 23/1000 [01:53<1:20:04,  4.92s/it, v_num=0hgo, train_loss_step=1.18e+3, train_loss_epoch=1.2e+3]"
     ]
    },
    {
     "name": "stdout",
     "output_type": "stream",
     "text": [
      "\r",
      "Epoch 24/1000:   2%|▏         | 24/1000 [01:58<1:19:52,  4.91s/it, v_num=0hgo, train_loss_step=1.18e+3, train_loss_epoch=1.2e+3]"
     ]
    },
    {
     "name": "stdout",
     "output_type": "stream",
     "text": [
      "\r",
      "Epoch 24/1000:   2%|▏         | 24/1000 [01:58<1:19:52,  4.91s/it, v_num=0hgo, train_loss_step=1.21e+3, train_loss_epoch=1.2e+3]"
     ]
    },
    {
     "name": "stdout",
     "output_type": "stream",
     "text": [
      "\r",
      "Epoch 25/1000:   2%|▏         | 24/1000 [01:58<1:19:52,  4.91s/it, v_num=0hgo, train_loss_step=1.21e+3, train_loss_epoch=1.2e+3]"
     ]
    },
    {
     "name": "stdout",
     "output_type": "stream",
     "text": [
      "\r",
      "Epoch 25/1000:   2%|▎         | 25/1000 [02:03<1:19:38,  4.90s/it, v_num=0hgo, train_loss_step=1.21e+3, train_loss_epoch=1.2e+3]"
     ]
    },
    {
     "name": "stdout",
     "output_type": "stream",
     "text": [
      "\r",
      "Epoch 25/1000:   2%|▎         | 25/1000 [02:03<1:19:38,  4.90s/it, v_num=0hgo, train_loss_step=1.23e+3, train_loss_epoch=1.2e+3]"
     ]
    },
    {
     "name": "stdout",
     "output_type": "stream",
     "text": [
      "\r",
      "Epoch 26/1000:   2%|▎         | 25/1000 [02:03<1:19:38,  4.90s/it, v_num=0hgo, train_loss_step=1.23e+3, train_loss_epoch=1.2e+3]"
     ]
    },
    {
     "name": "stdout",
     "output_type": "stream",
     "text": [
      "\r",
      "Epoch 26/1000:   3%|▎         | 26/1000 [02:08<1:19:34,  4.90s/it, v_num=0hgo, train_loss_step=1.23e+3, train_loss_epoch=1.2e+3]"
     ]
    },
    {
     "name": "stdout",
     "output_type": "stream",
     "text": [
      "\r",
      "Epoch 26/1000:   3%|▎         | 26/1000 [02:08<1:19:34,  4.90s/it, v_num=0hgo, train_loss_step=1.16e+3, train_loss_epoch=1.2e+3]"
     ]
    },
    {
     "name": "stdout",
     "output_type": "stream",
     "text": [
      "\r",
      "Epoch 27/1000:   3%|▎         | 26/1000 [02:08<1:19:34,  4.90s/it, v_num=0hgo, train_loss_step=1.16e+3, train_loss_epoch=1.2e+3]"
     ]
    },
    {
     "name": "stdout",
     "output_type": "stream",
     "text": [
      "\r",
      "Epoch 27/1000:   3%|▎         | 27/1000 [02:13<1:19:27,  4.90s/it, v_num=0hgo, train_loss_step=1.16e+3, train_loss_epoch=1.2e+3]"
     ]
    },
    {
     "name": "stdout",
     "output_type": "stream",
     "text": [
      "\r",
      "Epoch 27/1000:   3%|▎         | 27/1000 [02:13<1:19:27,  4.90s/it, v_num=0hgo, train_loss_step=1.21e+3, train_loss_epoch=1.19e+3]"
     ]
    },
    {
     "name": "stdout",
     "output_type": "stream",
     "text": [
      "\r",
      "Epoch 28/1000:   3%|▎         | 27/1000 [02:13<1:19:27,  4.90s/it, v_num=0hgo, train_loss_step=1.21e+3, train_loss_epoch=1.19e+3]"
     ]
    },
    {
     "name": "stdout",
     "output_type": "stream",
     "text": [
      "\r",
      "Epoch 28/1000:   3%|▎         | 28/1000 [02:18<1:19:26,  4.90s/it, v_num=0hgo, train_loss_step=1.21e+3, train_loss_epoch=1.19e+3]"
     ]
    },
    {
     "name": "stdout",
     "output_type": "stream",
     "text": [
      "\r",
      "Epoch 28/1000:   3%|▎         | 28/1000 [02:18<1:19:26,  4.90s/it, v_num=0hgo, train_loss_step=1.18e+3, train_loss_epoch=1.19e+3]"
     ]
    },
    {
     "name": "stdout",
     "output_type": "stream",
     "text": [
      "\r",
      "Epoch 29/1000:   3%|▎         | 28/1000 [02:18<1:19:26,  4.90s/it, v_num=0hgo, train_loss_step=1.18e+3, train_loss_epoch=1.19e+3]"
     ]
    },
    {
     "name": "stdout",
     "output_type": "stream",
     "text": [
      "\r",
      "Epoch 29/1000:   3%|▎         | 29/1000 [02:23<1:19:32,  4.92s/it, v_num=0hgo, train_loss_step=1.18e+3, train_loss_epoch=1.19e+3]"
     ]
    },
    {
     "name": "stdout",
     "output_type": "stream",
     "text": [
      "\r",
      "Epoch 29/1000:   3%|▎         | 29/1000 [02:23<1:19:32,  4.92s/it, v_num=0hgo, train_loss_step=1.16e+3, train_loss_epoch=1.19e+3]"
     ]
    },
    {
     "name": "stdout",
     "output_type": "stream",
     "text": [
      "\r",
      "Epoch 30/1000:   3%|▎         | 29/1000 [02:23<1:19:32,  4.92s/it, v_num=0hgo, train_loss_step=1.16e+3, train_loss_epoch=1.19e+3]"
     ]
    },
    {
     "name": "stdout",
     "output_type": "stream",
     "text": [
      "\r",
      "Epoch 30/1000:   3%|▎         | 30/1000 [02:28<1:19:34,  4.92s/it, v_num=0hgo, train_loss_step=1.16e+3, train_loss_epoch=1.19e+3]"
     ]
    },
    {
     "name": "stdout",
     "output_type": "stream",
     "text": [
      "\r",
      "Epoch 30/1000:   3%|▎         | 30/1000 [02:28<1:19:34,  4.92s/it, v_num=0hgo, train_loss_step=1.11e+3, train_loss_epoch=1.19e+3]"
     ]
    },
    {
     "name": "stdout",
     "output_type": "stream",
     "text": [
      "\r",
      "Epoch 31/1000:   3%|▎         | 30/1000 [02:28<1:19:34,  4.92s/it, v_num=0hgo, train_loss_step=1.11e+3, train_loss_epoch=1.19e+3]"
     ]
    },
    {
     "name": "stdout",
     "output_type": "stream",
     "text": [
      "\r",
      "Epoch 31/1000:   3%|▎         | 31/1000 [02:33<1:19:30,  4.92s/it, v_num=0hgo, train_loss_step=1.11e+3, train_loss_epoch=1.19e+3]"
     ]
    },
    {
     "name": "stdout",
     "output_type": "stream",
     "text": [
      "\r",
      "Epoch 31/1000:   3%|▎         | 31/1000 [02:33<1:19:30,  4.92s/it, v_num=0hgo, train_loss_step=1.24e+3, train_loss_epoch=1.19e+3]"
     ]
    },
    {
     "name": "stdout",
     "output_type": "stream",
     "text": [
      "\r",
      "Epoch 32/1000:   3%|▎         | 31/1000 [02:33<1:19:30,  4.92s/it, v_num=0hgo, train_loss_step=1.24e+3, train_loss_epoch=1.19e+3]"
     ]
    },
    {
     "name": "stdout",
     "output_type": "stream",
     "text": [
      "\r",
      "Epoch 32/1000:   3%|▎         | 32/1000 [02:37<1:19:05,  4.90s/it, v_num=0hgo, train_loss_step=1.24e+3, train_loss_epoch=1.19e+3]"
     ]
    },
    {
     "name": "stdout",
     "output_type": "stream",
     "text": [
      "\r",
      "Epoch 32/1000:   3%|▎         | 32/1000 [02:37<1:19:05,  4.90s/it, v_num=0hgo, train_loss_step=1.18e+3, train_loss_epoch=1.19e+3]"
     ]
    },
    {
     "name": "stdout",
     "output_type": "stream",
     "text": [
      "\r",
      "Epoch 33/1000:   3%|▎         | 32/1000 [02:37<1:19:05,  4.90s/it, v_num=0hgo, train_loss_step=1.18e+3, train_loss_epoch=1.19e+3]"
     ]
    },
    {
     "name": "stdout",
     "output_type": "stream",
     "text": [
      "\r",
      "Epoch 33/1000:   3%|▎         | 33/1000 [02:42<1:18:41,  4.88s/it, v_num=0hgo, train_loss_step=1.18e+3, train_loss_epoch=1.19e+3]"
     ]
    },
    {
     "name": "stdout",
     "output_type": "stream",
     "text": [
      "\r",
      "Epoch 33/1000:   3%|▎         | 33/1000 [02:42<1:18:41,  4.88s/it, v_num=0hgo, train_loss_step=1.21e+3, train_loss_epoch=1.19e+3]"
     ]
    },
    {
     "name": "stdout",
     "output_type": "stream",
     "text": [
      "\r",
      "Epoch 34/1000:   3%|▎         | 33/1000 [02:42<1:18:41,  4.88s/it, v_num=0hgo, train_loss_step=1.21e+3, train_loss_epoch=1.19e+3]"
     ]
    },
    {
     "name": "stdout",
     "output_type": "stream",
     "text": [
      "\r",
      "Epoch 34/1000:   3%|▎         | 34/1000 [02:47<1:18:40,  4.89s/it, v_num=0hgo, train_loss_step=1.21e+3, train_loss_epoch=1.19e+3]"
     ]
    },
    {
     "name": "stdout",
     "output_type": "stream",
     "text": [
      "\r",
      "Epoch 34/1000:   3%|▎         | 34/1000 [02:47<1:18:40,  4.89s/it, v_num=0hgo, train_loss_step=1.28e+3, train_loss_epoch=1.19e+3]"
     ]
    },
    {
     "name": "stdout",
     "output_type": "stream",
     "text": [
      "\r",
      "Epoch 35/1000:   3%|▎         | 34/1000 [02:47<1:18:40,  4.89s/it, v_num=0hgo, train_loss_step=1.28e+3, train_loss_epoch=1.19e+3]"
     ]
    },
    {
     "name": "stdout",
     "output_type": "stream",
     "text": [
      "\r",
      "Epoch 35/1000:   4%|▎         | 35/1000 [02:52<1:19:12,  4.93s/it, v_num=0hgo, train_loss_step=1.28e+3, train_loss_epoch=1.19e+3]"
     ]
    },
    {
     "name": "stdout",
     "output_type": "stream",
     "text": [
      "\r",
      "Epoch 35/1000:   4%|▎         | 35/1000 [02:52<1:19:12,  4.93s/it, v_num=0hgo, train_loss_step=1.15e+3, train_loss_epoch=1.19e+3]"
     ]
    },
    {
     "name": "stdout",
     "output_type": "stream",
     "text": [
      "\r",
      "Epoch 35/1000:   4%|▎         | 35/1000 [02:52<1:19:20,  4.93s/it, v_num=0hgo, train_loss_step=1.15e+3, train_loss_epoch=1.19e+3]"
     ]
    },
    {
     "name": "stdout",
     "output_type": "stream",
     "text": [
      "\n",
      "Monitored metric reconstruction_loss_validation did not improve in the last 10 records. Best score: 1234.813. Signaling Trainer to stop.\n"
     ]
    }
   ],
   "source": [
    "model.train(logger=logger, plan_kwargs = plan_kwargs, **trainer_kwargs)"
   ]
  },
  {
   "cell_type": "code",
   "execution_count": 15,
   "id": "c282f6eb-0ad1-40a5-81e6-1acda1545dad",
   "metadata": {
    "execution": {
     "iopub.execute_input": "2024-05-03T19:30:03.293279Z",
     "iopub.status.busy": "2024-05-03T19:30:03.292971Z",
     "iopub.status.idle": "2024-05-03T19:30:07.782636Z",
     "shell.execute_reply": "2024-05-03T19:30:07.781956Z"
    },
    "papermill": {
     "duration": 4.502197,
     "end_time": "2024-05-03T19:30:07.784500",
     "exception": false,
     "start_time": "2024-05-03T19:30:03.282303",
     "status": "completed"
    },
    "tags": []
   },
   "outputs": [
    {
     "name": "stderr",
     "output_type": "stream",
     "text": [
      "\u001b[34m\u001b[1mwandb\u001b[0m: - 0.003 MB of 0.003 MB uploaded\r"
     ]
    },
    {
     "name": "stderr",
     "output_type": "stream",
     "text": [
      "\u001b[34m\u001b[1mwandb\u001b[0m: \\ 0.003 MB of 0.009 MB uploaded\r"
     ]
    },
    {
     "name": "stderr",
     "output_type": "stream",
     "text": [
      "\u001b[34m\u001b[1mwandb\u001b[0m: | 0.003 MB of 0.009 MB uploaded\r"
     ]
    },
    {
     "name": "stderr",
     "output_type": "stream",
     "text": [
      "\u001b[34m\u001b[1mwandb\u001b[0m: / 0.009 MB of 0.009 MB uploaded\r"
     ]
    },
    {
     "name": "stderr",
     "output_type": "stream",
     "text": [
      "\u001b[34m\u001b[1mwandb\u001b[0m:                                                                                \n"
     ]
    },
    {
     "name": "stderr",
     "output_type": "stream",
     "text": [
      "\u001b[34m\u001b[1mwandb\u001b[0m: \n",
      "\u001b[34m\u001b[1mwandb\u001b[0m: Run history:\n",
      "\u001b[34m\u001b[1mwandb\u001b[0m:                     elbo_train █▆▆▅▅▄▄▄▃▃▃▃▃▂▂▂▂▂▂▂▂▂▂▁▁▁▁▁▁▁▁▁▁▁▁\n",
      "\u001b[34m\u001b[1mwandb\u001b[0m:                elbo_validation █▆▅▅▄▄▃▃▂▂▂▂▂▂▁▁▁▁▁▁▁▁▁▁▁▁▁▁▁▁▁▁▁▁▁\n",
      "\u001b[34m\u001b[1mwandb\u001b[0m:                          epoch ▁▁▁▁▂▂▂▂▂▃▃▃▃▃▃▄▄▄▄▅▅▅▅▅▅▆▆▆▆▆▆▇▇▇▇▇████\n",
      "\u001b[34m\u001b[1mwandb\u001b[0m:                kl_global_train ▁▁▁▁▁▁▁▁▁▁▁▁▁▁▁▁▁▁▁▁▁▁▁▁▁▁▁▁▁▁▁▁▁▁▁\n",
      "\u001b[34m\u001b[1mwandb\u001b[0m:           kl_global_validation ▁▁▁▁▁▁▁▁▁▁▁▁▁▁▁▁▁▁▁▁▁▁▁▁▁▁▁▁▁▁▁▁▁▁▁\n",
      "\u001b[34m\u001b[1mwandb\u001b[0m:                 kl_local_train ▂██▇▆▅▅▄▄▃▃▃▃▃▂▂▂▂▂▂▂▂▂▂▂▂▁▁▁▁▁▁▁▁▁\n",
      "\u001b[34m\u001b[1mwandb\u001b[0m:            kl_local_validation ▄█▆▆▅▄▄▃▃▃▃▂▂▂▂▂▂▂▂▂▂▂▂▁▂▁▁▁▁▁▁▁▁▁▁\n",
      "\u001b[34m\u001b[1mwandb\u001b[0m:                      kl_weight ▁▁▁▁▂▂▂▂▂▃▃▃▃▃▃▄▄▄▄▄▅▅▅▅▅▆▆▆▆▆▆▇▇▇▇▇▇███\n",
      "\u001b[34m\u001b[1mwandb\u001b[0m:      reconstruction_loss_train █▅▅▄▄▄▄▃▃▃▃▃▂▂▂▂▂▂▂▂▂▂▁▁▁▁▁▁▁▁▁▁▁▁▁\n",
      "\u001b[34m\u001b[1mwandb\u001b[0m: reconstruction_loss_validation █▅▅▄▃▃▃▃▂▂▂▂▂▁▁▁▁▁▁▁▁▁▁▁▁▁▁▁▁▁▁▁▁▁▁\n",
      "\u001b[34m\u001b[1mwandb\u001b[0m:               train_loss_epoch █▅▅▄▄▄▃▃▃▃▃▃▂▂▂▂▂▂▂▂▂▂▁▁▁▁▁▁▁▁▁▁▁▁▁\n",
      "\u001b[34m\u001b[1mwandb\u001b[0m:                train_loss_step █▅▅▇▇▆▅▅▆▄▄▇▂▂█▅▄▄▁▄▃▃▄▄▃▄▂▅▂▃▄▂▁▅▆▂▂▃▂▅\n",
      "\u001b[34m\u001b[1mwandb\u001b[0m:            trainer/global_step ▁▁▁▁▂▂▂▂▂▃▃▃▃▃▃▄▄▄▄▄▅▅▅▅▅▅▆▆▆▆▆▇▇▇▇▇▇███\n",
      "\u001b[34m\u001b[1mwandb\u001b[0m:                validation_loss █▅▅▄▃▃▃▂▂▂▂▂▂▁▁▁▁▁▁▁▁▁▁▁▁▁▁▁▁▁▁▁▁▁▁\n",
      "\u001b[34m\u001b[1mwandb\u001b[0m: \n",
      "\u001b[34m\u001b[1mwandb\u001b[0m: Run summary:\n",
      "\u001b[34m\u001b[1mwandb\u001b[0m:                     elbo_train 1214.84229\n",
      "\u001b[34m\u001b[1mwandb\u001b[0m:                elbo_validation 1264.00854\n",
      "\u001b[34m\u001b[1mwandb\u001b[0m:                          epoch 34\n",
      "\u001b[34m\u001b[1mwandb\u001b[0m:                kl_global_train 0.0\n",
      "\u001b[34m\u001b[1mwandb\u001b[0m:           kl_global_validation 0.0\n",
      "\u001b[34m\u001b[1mwandb\u001b[0m:                 kl_local_train 27.73663\n",
      "\u001b[34m\u001b[1mwandb\u001b[0m:            kl_local_validation 27.21101\n",
      "\u001b[34m\u001b[1mwandb\u001b[0m:                      kl_weight 0.085\n",
      "\u001b[34m\u001b[1mwandb\u001b[0m:      reconstruction_loss_train 1187.10571\n",
      "\u001b[34m\u001b[1mwandb\u001b[0m: reconstruction_loss_validation 1236.79749\n",
      "\u001b[34m\u001b[1mwandb\u001b[0m:               train_loss_epoch 1189.46411\n",
      "\u001b[34m\u001b[1mwandb\u001b[0m:                train_loss_step 1200.47729\n",
      "\u001b[34m\u001b[1mwandb\u001b[0m:            trainer/global_step 11654\n",
      "\u001b[34m\u001b[1mwandb\u001b[0m:                validation_loss 1239.11035\n",
      "\u001b[34m\u001b[1mwandb\u001b[0m: \n"
     ]
    },
    {
     "name": "stderr",
     "output_type": "stream",
     "text": [
      "\u001b[34m\u001b[1mwandb\u001b[0m: 🚀 View run \u001b[33mStep3_DC\u001b[0m at: \u001b[34m\u001b[4mhttps://wandb.ai/inflammation/inflammation_atlas_R1/runs/zx8w0hgo\u001b[0m\n",
      "\u001b[34m\u001b[1mwandb\u001b[0m: Synced 5 W&B file(s), 0 media file(s), 0 artifact file(s) and 0 other file(s)\n"
     ]
    },
    {
     "name": "stderr",
     "output_type": "stream",
     "text": [
      "\u001b[34m\u001b[1mwandb\u001b[0m: Find logs at: \u001b[35m\u001b[1m./wandb/run-20240503_192709-zx8w0hgo/logs\u001b[0m\n"
     ]
    }
   ],
   "source": [
    "wandb.finish()"
   ]
  },
  {
   "cell_type": "markdown",
   "id": "d9fb1179-83c7-4ac6-b4aa-92dc7a349801",
   "metadata": {
    "papermill": {
     "duration": 0.009805,
     "end_time": "2024-05-03T19:30:07.804252",
     "exception": false,
     "start_time": "2024-05-03T19:30:07.794447",
     "status": "completed"
    },
    "tags": []
   },
   "source": [
    "### Extracting embedding space"
   ]
  },
  {
   "cell_type": "code",
   "execution_count": 16,
   "id": "caaa5832-0123-4c59-8ec6-f46a75f7a14e",
   "metadata": {
    "execution": {
     "iopub.execute_input": "2024-05-03T19:30:07.825301Z",
     "iopub.status.busy": "2024-05-03T19:30:07.824676Z",
     "iopub.status.idle": "2024-05-03T19:30:09.762884Z",
     "shell.execute_reply": "2024-05-03T19:30:09.762127Z"
    },
    "papermill": {
     "duration": 1.951424,
     "end_time": "2024-05-03T19:30:09.765162",
     "exception": false,
     "start_time": "2024-05-03T19:30:07.813738",
     "status": "completed"
    },
    "tags": []
   },
   "outputs": [],
   "source": [
    "adata.obsm['X_scVI'] = model.get_latent_representation()"
   ]
  },
  {
   "cell_type": "markdown",
   "id": "2f03e70b-839c-40a6-9fbb-d76bbd787419",
   "metadata": {
    "papermill": {
     "duration": 0.00973,
     "end_time": "2024-05-03T19:30:09.785043",
     "exception": false,
     "start_time": "2024-05-03T19:30:09.775313",
     "status": "completed"
    },
    "tags": []
   },
   "source": [
    "## Save the results"
   ]
  },
  {
   "cell_type": "code",
   "execution_count": 17,
   "id": "7b04049b-47fd-4b62-a1c0-c43dcc086d34",
   "metadata": {
    "execution": {
     "iopub.execute_input": "2024-05-03T19:30:09.806265Z",
     "iopub.status.busy": "2024-05-03T19:30:09.805504Z",
     "iopub.status.idle": "2024-05-03T19:30:18.878575Z",
     "shell.execute_reply": "2024-05-03T19:30:18.877834Z"
    },
    "papermill": {
     "duration": 9.085957,
     "end_time": "2024-05-03T19:30:18.880693",
     "exception": false,
     "start_time": "2024-05-03T19:30:09.794736",
     "status": "completed"
    },
    "tags": []
   },
   "outputs": [],
   "source": [
    "if overwriteData:\n",
    "    adata.write(here(f\"{workDir}/{cellGroup}/results/02_{annotationLevel}_{cellGroup}_HVGsubset_scVI.h5ad\"), compression=\"gzip\")\n",
    "    model.save(here(f\"{workDir}/{cellGroup}/results/02_{annotationLevel}_{cellGroup}_HVGsubset_scVI_MODEL/\"),\n",
    "               overwrite = True, \n",
    "               save_anndata = False )   "
   ]
  },
  {
   "cell_type": "code",
   "execution_count": 18,
   "id": "629ba2bd-f6be-44ef-8fca-bbdf891bf25f",
   "metadata": {
    "execution": {
     "iopub.execute_input": "2024-05-03T19:30:18.902256Z",
     "iopub.status.busy": "2024-05-03T19:30:18.901663Z",
     "iopub.status.idle": "2024-05-03T19:30:18.904918Z",
     "shell.execute_reply": "2024-05-03T19:30:18.904317Z"
    },
    "papermill": {
     "duration": 0.015751,
     "end_time": "2024-05-03T19:30:18.906435",
     "exception": false,
     "start_time": "2024-05-03T19:30:18.890684",
     "status": "completed"
    },
    "tags": []
   },
   "outputs": [],
   "source": [
    "# To load the model do (after loading corresponding adata):\n",
    "# model = scvi.model.SCVI.load(here('{}/results/01_{}_HVGsubset_scVI_MODEL/'.format(workDir, cellGroup)), \n",
    "#                              adata, \n",
    "#                              use_gpu=True)"
   ]
  },
  {
   "cell_type": "raw",
   "id": "975e84d0-f56b-498d-b3a8-c9219cf22e53",
   "metadata": {
    "papermill": {
     "duration": 0.009904,
     "end_time": "2024-05-03T19:30:18.925949",
     "exception": false,
     "start_time": "2024-05-03T19:30:18.916045",
     "status": "completed"
    },
    "tags": []
   },
   "source": [
    "session_info.show()"
   ]
  }
 ],
 "metadata": {
  "kernelspec": {
   "display_name": "Python 3 (ipykernel)",
   "language": "python",
   "name": "python3"
  },
  "language_info": {
   "codemirror_mode": {
    "name": "ipython",
    "version": 3
   },
   "file_extension": ".py",
   "mimetype": "text/x-python",
   "name": "python",
   "nbconvert_exporter": "python",
   "pygments_lexer": "ipython3",
   "version": "3.9.18"
  },
  "papermill": {
   "default_parameters": {},
   "duration": 206.309109,
   "end_time": "2024-05-03T19:30:21.855074",
   "environment_variables": {},
   "exception": null,
   "input_path": "./DC/02_integration_scVI.ipynb",
   "output_path": "./DC/02_integration_scVI_executed.ipynb",
   "parameters": {},
   "start_time": "2024-05-03T19:26:55.545965",
   "version": "2.5.0"
  }
 },
 "nbformat": 4,
 "nbformat_minor": 5
}