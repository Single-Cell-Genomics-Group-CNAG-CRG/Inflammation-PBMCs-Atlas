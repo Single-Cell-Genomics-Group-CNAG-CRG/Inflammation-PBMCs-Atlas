{
 "cells": [
  {
   "cell_type": "code",
   "execution_count": 1,
   "id": "2dd1425a-0c07-465e-b522-9e3cc5cb93a7",
   "metadata": {
    "execution": {
     "iopub.execute_input": "2024-05-03T20:43:51.076824Z",
     "iopub.status.busy": "2024-05-03T20:43:51.076504Z",
     "iopub.status.idle": "2024-05-03T20:43:56.287969Z",
     "shell.execute_reply": "2024-05-03T20:43:56.287226Z"
    },
    "papermill": {
     "duration": 5.218944,
     "end_time": "2024-05-03T20:43:56.289846",
     "exception": false,
     "start_time": "2024-05-03T20:43:51.070902",
     "status": "completed"
    },
    "tags": []
   },
   "outputs": [
    {
     "data": {
      "text/plain": [
       "True"
      ]
     },
     "execution_count": 1,
     "metadata": {},
     "output_type": "execute_result"
    }
   ],
   "source": [
    "import os\n",
    "import sys\n",
    "\n",
    "import numpy as np\n",
    "import matplotlib.pyplot as plt\n",
    "\n",
    "import scanpy as sc\n",
    "import scvi\n",
    "import torch\n",
    "\n",
    "from pytorch_lightning.loggers import WandbLogger\n",
    "import wandb\n",
    "from dotenv import load_dotenv\n",
    "\n",
    "import session_info\n",
    "import warnings\n",
    "from pyprojroot.here import here\n",
    "\n",
    "warnings.filterwarnings(\"ignore\")\n",
    "sys.path.insert(1, str(here('bin')))\n",
    "\n",
    "torch.set_float32_matmul_precision('high')\n",
    "\n",
    "#plt.style.use(['science','nature','no-latex'])\n",
    "dpi_fig_save = 300\n",
    "sc.set_figure_params(dpi=100, dpi_save=dpi_fig_save, vector_friendly=True)\n",
    "\n",
    "load_dotenv(here('.env'))"
   ]
  },
  {
   "cell_type": "code",
   "execution_count": 2,
   "id": "09c897fc-744b-43de-a681-718fb5d327fa",
   "metadata": {
    "execution": {
     "iopub.execute_input": "2024-05-03T20:43:56.300159Z",
     "iopub.status.busy": "2024-05-03T20:43:56.299846Z",
     "iopub.status.idle": "2024-05-03T20:43:56.303528Z",
     "shell.execute_reply": "2024-05-03T20:43:56.302993Z"
    },
    "papermill": {
     "duration": 0.009999,
     "end_time": "2024-05-03T20:43:56.305165",
     "exception": false,
     "start_time": "2024-05-03T20:43:56.295166",
     "status": "completed"
    },
    "tags": []
   },
   "outputs": [],
   "source": [
    "class CustomWandbLogger(WandbLogger):\n",
    "    @property\n",
    "    def save_dir(self):\n",
    "        return self.experiment.dir"
   ]
  },
  {
   "cell_type": "code",
   "execution_count": 3,
   "id": "8ee6662f-5d45-4137-80a5-bb0b9ae8d71f",
   "metadata": {
    "execution": {
     "iopub.execute_input": "2024-05-03T20:43:56.313164Z",
     "iopub.status.busy": "2024-05-03T20:43:56.312680Z",
     "iopub.status.idle": "2024-05-03T20:43:56.318530Z",
     "shell.execute_reply": "2024-05-03T20:43:56.317899Z"
    },
    "papermill": {
     "duration": 0.011839,
     "end_time": "2024-05-03T20:43:56.320240",
     "exception": false,
     "start_time": "2024-05-03T20:43:56.308401",
     "status": "completed"
    },
    "tags": []
   },
   "outputs": [
    {
     "name": "stderr",
     "output_type": "stream",
     "text": [
      "Seed set to 0\n"
     ]
    },
    {
     "name": "stdout",
     "output_type": "stream",
     "text": [
      "Last run with scvi-tools version: 1.1.2\n"
     ]
    }
   ],
   "source": [
    "scvi.settings.seed = 0\n",
    "print(\"Last run with scvi-tools version:\", scvi.__version__)"
   ]
  },
  {
   "cell_type": "markdown",
   "id": "a81037ff-5998-482a-ba86-520f757311a9",
   "metadata": {
    "papermill": {
     "duration": 0.003401,
     "end_time": "2024-05-03T20:43:56.326895",
     "exception": false,
     "start_time": "2024-05-03T20:43:56.323494",
     "status": "completed"
    },
    "tags": []
   },
   "source": [
    "**Setting parameters** "
   ]
  },
  {
   "cell_type": "code",
   "execution_count": 4,
   "id": "56c27966-8f10-4c93-8b1a-1fa75f005e41",
   "metadata": {
    "execution": {
     "iopub.execute_input": "2024-05-03T20:43:56.335378Z",
     "iopub.status.busy": "2024-05-03T20:43:56.334836Z",
     "iopub.status.idle": "2024-05-03T20:43:56.338060Z",
     "shell.execute_reply": "2024-05-03T20:43:56.337479Z"
    },
    "papermill": {
     "duration": 0.009352,
     "end_time": "2024-05-03T20:43:56.339663",
     "exception": false,
     "start_time": "2024-05-03T20:43:56.330311",
     "status": "completed"
    },
    "tags": []
   },
   "outputs": [],
   "source": [
    "overwriteFigures = True\n",
    "overwriteData = True"
   ]
  },
  {
   "cell_type": "code",
   "execution_count": 5,
   "id": "c86fccd3-a4fe-415b-8f4e-e2ceb3ec128a",
   "metadata": {
    "execution": {
     "iopub.execute_input": "2024-05-03T20:43:56.347750Z",
     "iopub.status.busy": "2024-05-03T20:43:56.347502Z",
     "iopub.status.idle": "2024-05-03T20:43:56.350599Z",
     "shell.execute_reply": "2024-05-03T20:43:56.350070Z"
    },
    "papermill": {
     "duration": 0.009162,
     "end_time": "2024-05-03T20:43:56.352211",
     "exception": false,
     "start_time": "2024-05-03T20:43:56.343049",
     "status": "completed"
    },
    "tags": []
   },
   "outputs": [],
   "source": [
    "cellGroup = 'Doublets_Step2'\n",
    "workDir = os.getcwd()"
   ]
  },
  {
   "cell_type": "code",
   "execution_count": 6,
   "id": "2dee4d55-d168-467b-b867-a61fed9d6af1",
   "metadata": {
    "execution": {
     "iopub.execute_input": "2024-05-03T20:43:56.360699Z",
     "iopub.status.busy": "2024-05-03T20:43:56.360453Z",
     "iopub.status.idle": "2024-05-03T20:43:56.363773Z",
     "shell.execute_reply": "2024-05-03T20:43:56.363200Z"
    },
    "papermill": {
     "duration": 0.009772,
     "end_time": "2024-05-03T20:43:56.365444",
     "exception": false,
     "start_time": "2024-05-03T20:43:56.355672",
     "status": "completed"
    },
    "tags": []
   },
   "outputs": [],
   "source": [
    "annotationLevel = os.path.basename(os.path.normpath(workDir))"
   ]
  },
  {
   "cell_type": "code",
   "execution_count": 7,
   "id": "11e53cd5-b746-4152-89cb-c2f0c15d90b3",
   "metadata": {
    "execution": {
     "iopub.execute_input": "2024-05-03T20:43:56.373949Z",
     "iopub.status.busy": "2024-05-03T20:43:56.373685Z",
     "iopub.status.idle": "2024-05-03T20:43:56.378222Z",
     "shell.execute_reply": "2024-05-03T20:43:56.377669Z"
    },
    "papermill": {
     "duration": 0.010811,
     "end_time": "2024-05-03T20:43:56.379890",
     "exception": false,
     "start_time": "2024-05-03T20:43:56.369079",
     "status": "completed"
    },
    "tags": []
   },
   "outputs": [
    {
     "data": {
      "text/plain": [
       "'/home/jupyter/Inflammation-PBMCs-Atlas/02_cell_annotation/02_fromCellLineages_to_CellTypes/Step3'"
      ]
     },
     "execution_count": 7,
     "metadata": {},
     "output_type": "execute_result"
    }
   ],
   "source": [
    "workDir"
   ]
  },
  {
   "cell_type": "markdown",
   "id": "171d2f06-9a44-4fcb-b437-35dc546674b6",
   "metadata": {
    "papermill": {
     "duration": 0.003863,
     "end_time": "2024-05-03T20:43:56.387357",
     "exception": false,
     "start_time": "2024-05-03T20:43:56.383494",
     "status": "completed"
    },
    "tags": []
   },
   "source": [
    "**Load data**"
   ]
  },
  {
   "cell_type": "code",
   "execution_count": 8,
   "id": "429f34fe-dde6-4cc9-9f75-7de8f85c5ffe",
   "metadata": {
    "execution": {
     "iopub.execute_input": "2024-05-03T20:43:56.398679Z",
     "iopub.status.busy": "2024-05-03T20:43:56.398385Z",
     "iopub.status.idle": "2024-05-03T20:43:57.659200Z",
     "shell.execute_reply": "2024-05-03T20:43:57.658537Z"
    },
    "papermill": {
     "duration": 1.269876,
     "end_time": "2024-05-03T20:43:57.660891",
     "exception": false,
     "start_time": "2024-05-03T20:43:56.391015",
     "status": "completed"
    },
    "tags": []
   },
   "outputs": [
    {
     "data": {
      "text/plain": [
       "AnnData object with n_obs × n_vars = 44943 × 2752\n",
       "    obs: 'studyID', 'libraryID', 'sampleID', 'chemistry', 'technology', 'patientID', 'disease', 'timepoint_replicate', 'treatmentStatus', 'therapyResponse', 'sex', 'age', 'BMI', 'binned_age', 'diseaseStatus', 'smokingStatus', 'ethnicity', 'institute', 'diseaseGroup', 'n_genes_by_counts', 'log1p_n_genes_by_counts', 'total_counts', 'log1p_total_counts', 'pct_counts_in_top_20_genes', 'total_counts_mt', 'log1p_total_counts_mt', 'pct_counts_mt', 'total_counts_ribo', 'log1p_total_counts_ribo', 'pct_counts_ribo', 'total_counts_hb', 'log1p_total_counts_hb', 'pct_counts_hb', 'total_counts_plt', 'log1p_total_counts_plt', 'pct_counts_plt', 'doublet_score', 'predicted_doublet', 'S_score', 'G2M_score', 'phase'\n",
       "    var: 'hgnc_id', 'symbol', 'locus_group', 'HUGO_status', 'mt', 'ribo', 'hb', 'plt', 'n_cells_by_counts', 'mean_counts', 'log1p_mean_counts', 'pct_dropout_by_counts', 'total_counts', 'log1p_total_counts', 'highly_variable'\n",
       "    uns: 'chemistry_colors', 'log1p'\n",
       "    layers: 'counts', 'log1p_10e4_counts'"
      ]
     },
     "execution_count": 8,
     "metadata": {},
     "output_type": "execute_result"
    }
   ],
   "source": [
    "adata = sc.read_h5ad(here(f\"{workDir}/{cellGroup}/results/01_{cellGroup}_normalized_HVGsubset.h5ad\"))\n",
    "adata"
   ]
  },
  {
   "cell_type": "markdown",
   "id": "8ac79f3b-d5af-41fa-8904-1e9ac1cbe2fb",
   "metadata": {
    "papermill": {
     "duration": 0.003763,
     "end_time": "2024-05-03T20:43:57.668736",
     "exception": false,
     "start_time": "2024-05-03T20:43:57.664973",
     "status": "completed"
    },
    "tags": []
   },
   "source": [
    "## scVI integration"
   ]
  },
  {
   "cell_type": "markdown",
   "id": "9544847d-d17f-4811-b14b-760446d54d32",
   "metadata": {
    "execution": {
     "iopub.execute_input": "2024-03-25T16:49:04.004504Z",
     "iopub.status.busy": "2024-03-25T16:49:04.004143Z",
     "iopub.status.idle": "2024-03-25T16:49:04.010148Z",
     "shell.execute_reply": "2024-03-25T16:49:04.009146Z",
     "shell.execute_reply.started": "2024-03-25T16:49:04.004477Z"
    },
    "papermill": {
     "duration": 0.003829,
     "end_time": "2024-05-03T20:43:57.676261",
     "exception": false,
     "start_time": "2024-05-03T20:43:57.672432",
     "status": "completed"
    },
    "tags": []
   },
   "source": [
    "**scVI parameters**"
   ]
  },
  {
   "cell_type": "code",
   "execution_count": 9,
   "id": "208966eb-545a-4c02-854c-0ed0487ef5b3",
   "metadata": {
    "execution": {
     "iopub.execute_input": "2024-05-03T20:43:57.685161Z",
     "iopub.status.busy": "2024-05-03T20:43:57.684872Z",
     "iopub.status.idle": "2024-05-03T20:43:57.690447Z",
     "shell.execute_reply": "2024-05-03T20:43:57.689802Z"
    },
    "papermill": {
     "duration": 0.012071,
     "end_time": "2024-05-03T20:43:57.692107",
     "exception": false,
     "start_time": "2024-05-03T20:43:57.680036",
     "status": "completed"
    },
    "tags": []
   },
   "outputs": [],
   "source": [
    "# https://docs.scvi-tools.org/en/stable/api/reference/scvi.train.Trainer.html#scvi.train.Trainer\n",
    "setup_kwargs = dict(\n",
    "    layer=\"counts\", \n",
    "    batch_key='libraryID', \n",
    "    categorical_covariate_keys = ['studyID', 'chemistry', 'disease', 'sampleID'],\n",
    "    labels_key = 'chemistry'    \n",
    ")\n",
    "\n",
    "scvi_kwargs = dict(n_hidden=512,\n",
    "                   n_latent=10, # reduceds after step 00 (main)\n",
    "                   n_layers=2,\n",
    "                   gene_likelihood='nb',\n",
    "                   dispersion='gene-label')\n",
    "\n",
    "trainer_kwargs = dict(\n",
    "    checkpointing_monitor = 'elbo_validation',\n",
    "    early_stopping_monitor = 'reconstruction_loss_validation',\n",
    "    early_stopping_patience = 10,\n",
    "    early_stopping_min_delta=0.1,\n",
    "    early_stopping = True,\n",
    "    max_epochs = 1000,\n",
    "    batch_size = 130 #this prevent an error that happens only with this integration\n",
    "\n",
    "    #logger = # wandb\n",
    ")\n",
    "# https://docs.scvi-tools.org/en/stable/api/reference/scvi.train.TrainingPlan.html#scvi.train.TrainingPlan\n",
    "plan_kwargs = dict(\n",
    "    lr = 5e-4,\n",
    "    #reduce_lr_on_plateau = True\n",
    ")\n",
    "\n",
    "# https://docs.scvi-tools.org/en/stable/api/reference/scvi.module.VAE.html#scvi.module.VAE\n",
    "#vae = dict(\n",
    "#    use_layer_norm='both',\n",
    "#    use_batch_norm='none',\n",
    "#    encode_covariates=True,\n",
    "#    deeply_inject_covariates=False\n",
    "#)\n",
    "parameter_dict = setup_kwargs | scvi_kwargs | trainer_kwargs | plan_kwargs"
   ]
  },
  {
   "cell_type": "markdown",
   "id": "1362366a-c16b-4c11-964b-b9c5f82f7b29",
   "metadata": {
    "papermill": {
     "duration": 0.003798,
     "end_time": "2024-05-03T20:43:57.699689",
     "exception": false,
     "start_time": "2024-05-03T20:43:57.695891",
     "status": "completed"
    },
    "tags": []
   },
   "source": [
    "**wandb parameter**"
   ]
  },
  {
   "cell_type": "code",
   "execution_count": 10,
   "id": "0496e33a-8ca5-423f-b42f-34a59760708c",
   "metadata": {
    "execution": {
     "iopub.execute_input": "2024-05-03T20:43:57.708722Z",
     "iopub.status.busy": "2024-05-03T20:43:57.708452Z",
     "iopub.status.idle": "2024-05-03T20:43:57.713037Z",
     "shell.execute_reply": "2024-05-03T20:43:57.712451Z"
    },
    "papermill": {
     "duration": 0.011153,
     "end_time": "2024-05-03T20:43:57.714609",
     "exception": false,
     "start_time": "2024-05-03T20:43:57.703456",
     "status": "completed"
    },
    "tags": []
   },
   "outputs": [
    {
     "data": {
      "text/plain": [
       "'Step3_Doublets_Step2'"
      ]
     },
     "execution_count": 10,
     "metadata": {},
     "output_type": "execute_result"
    }
   ],
   "source": [
    "run_name = f\"{annotationLevel}_{cellGroup}\"\n",
    "run_name"
   ]
  },
  {
   "cell_type": "code",
   "execution_count": 11,
   "id": "b0021327-95a2-4002-bf32-2c5779a99505",
   "metadata": {
    "execution": {
     "iopub.execute_input": "2024-05-03T20:43:57.723803Z",
     "iopub.status.busy": "2024-05-03T20:43:57.723512Z",
     "iopub.status.idle": "2024-05-03T20:43:57.849229Z",
     "shell.execute_reply": "2024-05-03T20:43:57.848566Z"
    },
    "papermill": {
     "duration": 0.132866,
     "end_time": "2024-05-03T20:43:57.851391",
     "exception": false,
     "start_time": "2024-05-03T20:43:57.718525",
     "status": "completed"
    },
    "tags": []
   },
   "outputs": [],
   "source": [
    "logger = CustomWandbLogger(name = run_name, project='inflammation_atlas_R1', config=parameter_dict)"
   ]
  },
  {
   "cell_type": "markdown",
   "id": "c237eee1-a976-4915-9b7f-b014bf33f47d",
   "metadata": {
    "papermill": {
     "duration": 0.004126,
     "end_time": "2024-05-03T20:43:57.859786",
     "exception": false,
     "start_time": "2024-05-03T20:43:57.855660",
     "status": "completed"
    },
    "tags": []
   },
   "source": [
    "**Running integration**"
   ]
  },
  {
   "cell_type": "code",
   "execution_count": 12,
   "id": "aff97c53-1aba-462e-8a77-f1aec9cf724c",
   "metadata": {
    "execution": {
     "iopub.execute_input": "2024-05-03T20:43:57.869302Z",
     "iopub.status.busy": "2024-05-03T20:43:57.868803Z",
     "iopub.status.idle": "2024-05-03T20:43:58.348578Z",
     "shell.execute_reply": "2024-05-03T20:43:58.347771Z"
    },
    "papermill": {
     "duration": 0.487301,
     "end_time": "2024-05-03T20:43:58.350870",
     "exception": false,
     "start_time": "2024-05-03T20:43:57.863569",
     "status": "completed"
    },
    "tags": []
   },
   "outputs": [],
   "source": [
    "scvi.model.SCVI.setup_anndata(adata, \n",
    "                              **setup_kwargs)"
   ]
  },
  {
   "cell_type": "code",
   "execution_count": 13,
   "id": "1a56f448-cf44-47c1-81a4-a89caa930fec",
   "metadata": {
    "execution": {
     "iopub.execute_input": "2024-05-03T20:43:58.361473Z",
     "iopub.status.busy": "2024-05-03T20:43:58.360925Z",
     "iopub.status.idle": "2024-05-03T20:43:58.628202Z",
     "shell.execute_reply": "2024-05-03T20:43:58.627414Z"
    },
    "papermill": {
     "duration": 0.274687,
     "end_time": "2024-05-03T20:43:58.630323",
     "exception": false,
     "start_time": "2024-05-03T20:43:58.355636",
     "status": "completed"
    },
    "tags": []
   },
   "outputs": [],
   "source": [
    "model = scvi.model.SCVI(adata, **scvi_kwargs)"
   ]
  },
  {
   "cell_type": "code",
   "execution_count": 14,
   "id": "2735f010-4f24-4ae8-9740-a8cfeb335e9a",
   "metadata": {
    "execution": {
     "iopub.execute_input": "2024-05-03T20:43:58.640583Z",
     "iopub.status.busy": "2024-05-03T20:43:58.639994Z",
     "iopub.status.idle": "2024-05-03T20:45:44.187615Z",
     "shell.execute_reply": "2024-05-03T20:45:44.186829Z"
    },
    "papermill": {
     "duration": 105.555062,
     "end_time": "2024-05-03T20:45:44.189527",
     "exception": false,
     "start_time": "2024-05-03T20:43:58.634465",
     "status": "completed"
    },
    "tags": []
   },
   "outputs": [
    {
     "name": "stderr",
     "output_type": "stream",
     "text": [
      "GPU available: True (cuda), used: True\n"
     ]
    },
    {
     "name": "stderr",
     "output_type": "stream",
     "text": [
      "TPU available: False, using: 0 TPU cores\n"
     ]
    },
    {
     "name": "stderr",
     "output_type": "stream",
     "text": [
      "IPU available: False, using: 0 IPUs\n"
     ]
    },
    {
     "name": "stderr",
     "output_type": "stream",
     "text": [
      "HPU available: False, using: 0 HPUs\n"
     ]
    },
    {
     "name": "stderr",
     "output_type": "stream",
     "text": [
      "\u001b[34m\u001b[1mwandb\u001b[0m: Currently logged in as: \u001b[33mdav1989\u001b[0m (\u001b[33minflammation\u001b[0m). Use \u001b[1m`wandb login --relogin`\u001b[0m to force relogin\n"
     ]
    },
    {
     "name": "stderr",
     "output_type": "stream",
     "text": [
      "\u001b[34m\u001b[1mwandb\u001b[0m: wandb version 0.16.6 is available!  To upgrade, please run:\n",
      "\u001b[34m\u001b[1mwandb\u001b[0m:  $ pip install wandb --upgrade\n"
     ]
    },
    {
     "name": "stderr",
     "output_type": "stream",
     "text": [
      "\u001b[34m\u001b[1mwandb\u001b[0m: Tracking run with wandb version 0.16.3\n"
     ]
    },
    {
     "name": "stderr",
     "output_type": "stream",
     "text": [
      "\u001b[34m\u001b[1mwandb\u001b[0m: Run data is saved locally in \u001b[35m\u001b[1m./wandb/run-20240503_204403-j9bkpxwn\u001b[0m\n",
      "\u001b[34m\u001b[1mwandb\u001b[0m: Run \u001b[1m`wandb offline`\u001b[0m to turn off syncing.\n"
     ]
    },
    {
     "name": "stderr",
     "output_type": "stream",
     "text": [
      "\u001b[34m\u001b[1mwandb\u001b[0m: Syncing run \u001b[33mStep3_Doublets_Step2\u001b[0m\n"
     ]
    },
    {
     "name": "stderr",
     "output_type": "stream",
     "text": [
      "\u001b[34m\u001b[1mwandb\u001b[0m: ⭐️ View project at \u001b[34m\u001b[4mhttps://wandb.ai/inflammation/inflammation_atlas_R1\u001b[0m\n"
     ]
    },
    {
     "name": "stderr",
     "output_type": "stream",
     "text": [
      "\u001b[34m\u001b[1mwandb\u001b[0m: 🚀 View run at \u001b[34m\u001b[4mhttps://wandb.ai/inflammation/inflammation_atlas_R1/runs/j9bkpxwn\u001b[0m\n"
     ]
    },
    {
     "name": "stderr",
     "output_type": "stream",
     "text": [
      "LOCAL_RANK: 0 - CUDA_VISIBLE_DEVICES: [0]\n"
     ]
    },
    {
     "name": "stdout",
     "output_type": "stream",
     "text": [
      "\r",
      "Training:   0%|          | 0/1000 [00:00<?, ?it/s]"
     ]
    },
    {
     "name": "stdout",
     "output_type": "stream",
     "text": [
      "\r",
      "Epoch 1/1000:   0%|          | 0/1000 [00:00<?, ?it/s]"
     ]
    },
    {
     "name": "stdout",
     "output_type": "stream",
     "text": [
      "\r",
      "Epoch 1/1000:   0%|          | 1/1000 [00:05<1:35:26,  5.73s/it]"
     ]
    },
    {
     "name": "stdout",
     "output_type": "stream",
     "text": [
      "\r",
      "Epoch 1/1000:   0%|          | 1/1000 [00:05<1:35:26,  5.73s/it, v_num=pxwn, train_loss_step=815, train_loss_epoch=816]"
     ]
    },
    {
     "name": "stdout",
     "output_type": "stream",
     "text": [
      "\r",
      "Epoch 2/1000:   0%|          | 1/1000 [00:05<1:35:26,  5.73s/it, v_num=pxwn, train_loss_step=815, train_loss_epoch=816]"
     ]
    },
    {
     "name": "stdout",
     "output_type": "stream",
     "text": [
      "\r",
      "Epoch 2/1000:   0%|          | 2/1000 [00:10<1:21:24,  4.89s/it, v_num=pxwn, train_loss_step=815, train_loss_epoch=816]"
     ]
    },
    {
     "name": "stdout",
     "output_type": "stream",
     "text": [
      "\r",
      "Epoch 2/1000:   0%|          | 2/1000 [00:10<1:21:24,  4.89s/it, v_num=pxwn, train_loss_step=875, train_loss_epoch=784]"
     ]
    },
    {
     "name": "stdout",
     "output_type": "stream",
     "text": [
      "\r",
      "Epoch 3/1000:   0%|          | 2/1000 [00:10<1:21:24,  4.89s/it, v_num=pxwn, train_loss_step=875, train_loss_epoch=784]"
     ]
    },
    {
     "name": "stdout",
     "output_type": "stream",
     "text": [
      "\r",
      "Epoch 3/1000:   0%|          | 3/1000 [00:14<1:16:59,  4.63s/it, v_num=pxwn, train_loss_step=875, train_loss_epoch=784]"
     ]
    },
    {
     "name": "stdout",
     "output_type": "stream",
     "text": [
      "\r",
      "Epoch 3/1000:   0%|          | 3/1000 [00:14<1:16:59,  4.63s/it, v_num=pxwn, train_loss_step=936, train_loss_epoch=777]"
     ]
    },
    {
     "name": "stdout",
     "output_type": "stream",
     "text": [
      "\r",
      "Epoch 4/1000:   0%|          | 3/1000 [00:14<1:16:59,  4.63s/it, v_num=pxwn, train_loss_step=936, train_loss_epoch=777]"
     ]
    },
    {
     "name": "stdout",
     "output_type": "stream",
     "text": [
      "\r",
      "Epoch 4/1000:   0%|          | 4/1000 [00:18<1:15:03,  4.52s/it, v_num=pxwn, train_loss_step=936, train_loss_epoch=777]"
     ]
    },
    {
     "name": "stdout",
     "output_type": "stream",
     "text": [
      "\r",
      "Epoch 4/1000:   0%|          | 4/1000 [00:18<1:15:03,  4.52s/it, v_num=pxwn, train_loss_step=728, train_loss_epoch=773]"
     ]
    },
    {
     "name": "stdout",
     "output_type": "stream",
     "text": [
      "\r",
      "Epoch 5/1000:   0%|          | 4/1000 [00:18<1:15:03,  4.52s/it, v_num=pxwn, train_loss_step=728, train_loss_epoch=773]"
     ]
    },
    {
     "name": "stdout",
     "output_type": "stream",
     "text": [
      "\r",
      "Epoch 5/1000:   0%|          | 5/1000 [00:22<1:13:11,  4.41s/it, v_num=pxwn, train_loss_step=728, train_loss_epoch=773]"
     ]
    },
    {
     "name": "stdout",
     "output_type": "stream",
     "text": [
      "\r",
      "Epoch 5/1000:   0%|          | 5/1000 [00:22<1:13:11,  4.41s/it, v_num=pxwn, train_loss_step=859, train_loss_epoch=770]"
     ]
    },
    {
     "name": "stdout",
     "output_type": "stream",
     "text": [
      "\r",
      "Epoch 6/1000:   0%|          | 5/1000 [00:22<1:13:11,  4.41s/it, v_num=pxwn, train_loss_step=859, train_loss_epoch=770]"
     ]
    },
    {
     "name": "stdout",
     "output_type": "stream",
     "text": [
      "\r",
      "Epoch 6/1000:   1%|          | 6/1000 [00:27<1:12:14,  4.36s/it, v_num=pxwn, train_loss_step=859, train_loss_epoch=770]"
     ]
    },
    {
     "name": "stdout",
     "output_type": "stream",
     "text": [
      "\r",
      "Epoch 6/1000:   1%|          | 6/1000 [00:27<1:12:14,  4.36s/it, v_num=pxwn, train_loss_step=769, train_loss_epoch=767]"
     ]
    },
    {
     "name": "stdout",
     "output_type": "stream",
     "text": [
      "\r",
      "Epoch 7/1000:   1%|          | 6/1000 [00:27<1:12:14,  4.36s/it, v_num=pxwn, train_loss_step=769, train_loss_epoch=767]"
     ]
    },
    {
     "name": "stdout",
     "output_type": "stream",
     "text": [
      "\r",
      "Epoch 7/1000:   1%|          | 7/1000 [00:31<1:11:57,  4.35s/it, v_num=pxwn, train_loss_step=769, train_loss_epoch=767]"
     ]
    },
    {
     "name": "stdout",
     "output_type": "stream",
     "text": [
      "\r",
      "Epoch 7/1000:   1%|          | 7/1000 [00:31<1:11:57,  4.35s/it, v_num=pxwn, train_loss_step=873, train_loss_epoch=764]"
     ]
    },
    {
     "name": "stdout",
     "output_type": "stream",
     "text": [
      "\r",
      "Epoch 8/1000:   1%|          | 7/1000 [00:31<1:11:57,  4.35s/it, v_num=pxwn, train_loss_step=873, train_loss_epoch=764]"
     ]
    },
    {
     "name": "stdout",
     "output_type": "stream",
     "text": [
      "\r",
      "Epoch 8/1000:   1%|          | 8/1000 [00:35<1:11:53,  4.35s/it, v_num=pxwn, train_loss_step=873, train_loss_epoch=764]"
     ]
    },
    {
     "name": "stdout",
     "output_type": "stream",
     "text": [
      "\r",
      "Epoch 8/1000:   1%|          | 8/1000 [00:35<1:11:53,  4.35s/it, v_num=pxwn, train_loss_step=769, train_loss_epoch=762]"
     ]
    },
    {
     "name": "stdout",
     "output_type": "stream",
     "text": [
      "\r",
      "Epoch 9/1000:   1%|          | 8/1000 [00:35<1:11:53,  4.35s/it, v_num=pxwn, train_loss_step=769, train_loss_epoch=762]"
     ]
    },
    {
     "name": "stdout",
     "output_type": "stream",
     "text": [
      "\r",
      "Epoch 9/1000:   1%|          | 9/1000 [00:40<1:11:44,  4.34s/it, v_num=pxwn, train_loss_step=769, train_loss_epoch=762]"
     ]
    },
    {
     "name": "stdout",
     "output_type": "stream",
     "text": [
      "\r",
      "Epoch 9/1000:   1%|          | 9/1000 [00:40<1:11:44,  4.34s/it, v_num=pxwn, train_loss_step=793, train_loss_epoch=760]"
     ]
    },
    {
     "name": "stdout",
     "output_type": "stream",
     "text": [
      "\r",
      "Epoch 10/1000:   1%|          | 9/1000 [00:40<1:11:44,  4.34s/it, v_num=pxwn, train_loss_step=793, train_loss_epoch=760]"
     ]
    },
    {
     "name": "stdout",
     "output_type": "stream",
     "text": [
      "\r",
      "Epoch 10/1000:   1%|          | 10/1000 [00:44<1:11:26,  4.33s/it, v_num=pxwn, train_loss_step=793, train_loss_epoch=760]"
     ]
    },
    {
     "name": "stdout",
     "output_type": "stream",
     "text": [
      "\r",
      "Epoch 10/1000:   1%|          | 10/1000 [00:44<1:11:26,  4.33s/it, v_num=pxwn, train_loss_step=855, train_loss_epoch=758]"
     ]
    },
    {
     "name": "stdout",
     "output_type": "stream",
     "text": [
      "\r",
      "Epoch 11/1000:   1%|          | 10/1000 [00:44<1:11:26,  4.33s/it, v_num=pxwn, train_loss_step=855, train_loss_epoch=758]"
     ]
    },
    {
     "name": "stdout",
     "output_type": "stream",
     "text": [
      "\r",
      "Epoch 11/1000:   1%|          | 11/1000 [00:48<1:11:11,  4.32s/it, v_num=pxwn, train_loss_step=855, train_loss_epoch=758]"
     ]
    },
    {
     "name": "stdout",
     "output_type": "stream",
     "text": [
      "\r",
      "Epoch 11/1000:   1%|          | 11/1000 [00:48<1:11:11,  4.32s/it, v_num=pxwn, train_loss_step=903, train_loss_epoch=756]"
     ]
    },
    {
     "name": "stdout",
     "output_type": "stream",
     "text": [
      "\r",
      "Epoch 12/1000:   1%|          | 11/1000 [00:48<1:11:11,  4.32s/it, v_num=pxwn, train_loss_step=903, train_loss_epoch=756]"
     ]
    },
    {
     "name": "stdout",
     "output_type": "stream",
     "text": [
      "\r",
      "Epoch 12/1000:   1%|          | 12/1000 [00:52<1:10:31,  4.28s/it, v_num=pxwn, train_loss_step=903, train_loss_epoch=756]"
     ]
    },
    {
     "name": "stdout",
     "output_type": "stream",
     "text": [
      "\r",
      "Epoch 12/1000:   1%|          | 12/1000 [00:52<1:10:31,  4.28s/it, v_num=pxwn, train_loss_step=908, train_loss_epoch=754]"
     ]
    },
    {
     "name": "stdout",
     "output_type": "stream",
     "text": [
      "\r",
      "Epoch 13/1000:   1%|          | 12/1000 [00:52<1:10:31,  4.28s/it, v_num=pxwn, train_loss_step=908, train_loss_epoch=754]"
     ]
    },
    {
     "name": "stdout",
     "output_type": "stream",
     "text": [
      "\r",
      "Epoch 13/1000:   1%|▏         | 13/1000 [00:57<1:10:11,  4.27s/it, v_num=pxwn, train_loss_step=908, train_loss_epoch=754]"
     ]
    },
    {
     "name": "stdout",
     "output_type": "stream",
     "text": [
      "\r",
      "Epoch 13/1000:   1%|▏         | 13/1000 [00:57<1:10:11,  4.27s/it, v_num=pxwn, train_loss_step=919, train_loss_epoch=753]"
     ]
    },
    {
     "name": "stdout",
     "output_type": "stream",
     "text": [
      "\r",
      "Epoch 14/1000:   1%|▏         | 13/1000 [00:57<1:10:11,  4.27s/it, v_num=pxwn, train_loss_step=919, train_loss_epoch=753]"
     ]
    },
    {
     "name": "stdout",
     "output_type": "stream",
     "text": [
      "\r",
      "Epoch 14/1000:   1%|▏         | 14/1000 [01:01<1:10:03,  4.26s/it, v_num=pxwn, train_loss_step=919, train_loss_epoch=753]"
     ]
    },
    {
     "name": "stdout",
     "output_type": "stream",
     "text": [
      "\r",
      "Epoch 14/1000:   1%|▏         | 14/1000 [01:01<1:10:03,  4.26s/it, v_num=pxwn, train_loss_step=821, train_loss_epoch=751]"
     ]
    },
    {
     "name": "stdout",
     "output_type": "stream",
     "text": [
      "\r",
      "Epoch 15/1000:   1%|▏         | 14/1000 [01:01<1:10:03,  4.26s/it, v_num=pxwn, train_loss_step=821, train_loss_epoch=751]"
     ]
    },
    {
     "name": "stdout",
     "output_type": "stream",
     "text": [
      "\r",
      "Epoch 15/1000:   2%|▏         | 15/1000 [01:05<1:09:48,  4.25s/it, v_num=pxwn, train_loss_step=821, train_loss_epoch=751]"
     ]
    },
    {
     "name": "stdout",
     "output_type": "stream",
     "text": [
      "\r",
      "Epoch 15/1000:   2%|▏         | 15/1000 [01:05<1:09:48,  4.25s/it, v_num=pxwn, train_loss_step=674, train_loss_epoch=750]"
     ]
    },
    {
     "name": "stdout",
     "output_type": "stream",
     "text": [
      "\r",
      "Epoch 16/1000:   2%|▏         | 15/1000 [01:05<1:09:48,  4.25s/it, v_num=pxwn, train_loss_step=674, train_loss_epoch=750]"
     ]
    },
    {
     "name": "stdout",
     "output_type": "stream",
     "text": [
      "\r",
      "Epoch 16/1000:   2%|▏         | 16/1000 [01:10<1:10:09,  4.28s/it, v_num=pxwn, train_loss_step=674, train_loss_epoch=750]"
     ]
    },
    {
     "name": "stdout",
     "output_type": "stream",
     "text": [
      "\r",
      "Epoch 16/1000:   2%|▏         | 16/1000 [01:10<1:10:09,  4.28s/it, v_num=pxwn, train_loss_step=677, train_loss_epoch=748]"
     ]
    },
    {
     "name": "stdout",
     "output_type": "stream",
     "text": [
      "\r",
      "Epoch 17/1000:   2%|▏         | 16/1000 [01:10<1:10:09,  4.28s/it, v_num=pxwn, train_loss_step=677, train_loss_epoch=748]"
     ]
    },
    {
     "name": "stdout",
     "output_type": "stream",
     "text": [
      "\r",
      "Epoch 17/1000:   2%|▏         | 17/1000 [01:14<1:10:23,  4.30s/it, v_num=pxwn, train_loss_step=677, train_loss_epoch=748]"
     ]
    },
    {
     "name": "stdout",
     "output_type": "stream",
     "text": [
      "\r",
      "Epoch 17/1000:   2%|▏         | 17/1000 [01:14<1:10:23,  4.30s/it, v_num=pxwn, train_loss_step=725, train_loss_epoch=747]"
     ]
    },
    {
     "name": "stdout",
     "output_type": "stream",
     "text": [
      "\r",
      "Epoch 18/1000:   2%|▏         | 17/1000 [01:14<1:10:23,  4.30s/it, v_num=pxwn, train_loss_step=725, train_loss_epoch=747]"
     ]
    },
    {
     "name": "stdout",
     "output_type": "stream",
     "text": [
      "\r",
      "Epoch 18/1000:   2%|▏         | 18/1000 [01:18<1:10:21,  4.30s/it, v_num=pxwn, train_loss_step=725, train_loss_epoch=747]"
     ]
    },
    {
     "name": "stdout",
     "output_type": "stream",
     "text": [
      "\r",
      "Epoch 18/1000:   2%|▏         | 18/1000 [01:18<1:10:21,  4.30s/it, v_num=pxwn, train_loss_step=787, train_loss_epoch=746]"
     ]
    },
    {
     "name": "stdout",
     "output_type": "stream",
     "text": [
      "\r",
      "Epoch 19/1000:   2%|▏         | 18/1000 [01:18<1:10:21,  4.30s/it, v_num=pxwn, train_loss_step=787, train_loss_epoch=746]"
     ]
    },
    {
     "name": "stdout",
     "output_type": "stream",
     "text": [
      "\r",
      "Epoch 19/1000:   2%|▏         | 19/1000 [01:23<1:10:47,  4.33s/it, v_num=pxwn, train_loss_step=787, train_loss_epoch=746]"
     ]
    },
    {
     "name": "stdout",
     "output_type": "stream",
     "text": [
      "\r",
      "Epoch 19/1000:   2%|▏         | 19/1000 [01:23<1:10:47,  4.33s/it, v_num=pxwn, train_loss_step=706, train_loss_epoch=745]"
     ]
    },
    {
     "name": "stdout",
     "output_type": "stream",
     "text": [
      "\r",
      "Epoch 20/1000:   2%|▏         | 19/1000 [01:23<1:10:47,  4.33s/it, v_num=pxwn, train_loss_step=706, train_loss_epoch=745]"
     ]
    },
    {
     "name": "stdout",
     "output_type": "stream",
     "text": [
      "\r",
      "Epoch 20/1000:   2%|▏         | 20/1000 [01:27<1:10:19,  4.31s/it, v_num=pxwn, train_loss_step=706, train_loss_epoch=745]"
     ]
    },
    {
     "name": "stdout",
     "output_type": "stream",
     "text": [
      "\r",
      "Epoch 20/1000:   2%|▏         | 20/1000 [01:27<1:10:19,  4.31s/it, v_num=pxwn, train_loss_step=648, train_loss_epoch=743]"
     ]
    },
    {
     "name": "stdout",
     "output_type": "stream",
     "text": [
      "\r",
      "Epoch 21/1000:   2%|▏         | 20/1000 [01:27<1:10:19,  4.31s/it, v_num=pxwn, train_loss_step=648, train_loss_epoch=743]"
     ]
    },
    {
     "name": "stdout",
     "output_type": "stream",
     "text": [
      "\r",
      "Epoch 21/1000:   2%|▏         | 21/1000 [01:31<1:10:06,  4.30s/it, v_num=pxwn, train_loss_step=648, train_loss_epoch=743]"
     ]
    },
    {
     "name": "stdout",
     "output_type": "stream",
     "text": [
      "\r",
      "Epoch 21/1000:   2%|▏         | 21/1000 [01:31<1:10:06,  4.30s/it, v_num=pxwn, train_loss_step=848, train_loss_epoch=742]"
     ]
    },
    {
     "name": "stdout",
     "output_type": "stream",
     "text": [
      "\r",
      "Epoch 22/1000:   2%|▏         | 21/1000 [01:31<1:10:06,  4.30s/it, v_num=pxwn, train_loss_step=848, train_loss_epoch=742]"
     ]
    },
    {
     "name": "stdout",
     "output_type": "stream",
     "text": [
      "\r",
      "Epoch 22/1000:   2%|▏         | 22/1000 [01:35<1:09:46,  4.28s/it, v_num=pxwn, train_loss_step=848, train_loss_epoch=742]"
     ]
    },
    {
     "name": "stdout",
     "output_type": "stream",
     "text": [
      "\r",
      "Epoch 22/1000:   2%|▏         | 22/1000 [01:35<1:09:46,  4.28s/it, v_num=pxwn, train_loss_step=806, train_loss_epoch=741]"
     ]
    },
    {
     "name": "stdout",
     "output_type": "stream",
     "text": [
      "\r",
      "Epoch 23/1000:   2%|▏         | 22/1000 [01:35<1:09:46,  4.28s/it, v_num=pxwn, train_loss_step=806, train_loss_epoch=741]"
     ]
    },
    {
     "name": "stdout",
     "output_type": "stream",
     "text": [
      "\r",
      "Epoch 23/1000:   2%|▏         | 23/1000 [01:40<1:09:41,  4.28s/it, v_num=pxwn, train_loss_step=806, train_loss_epoch=741]"
     ]
    },
    {
     "name": "stdout",
     "output_type": "stream",
     "text": [
      "\r",
      "Epoch 23/1000:   2%|▏         | 23/1000 [01:40<1:09:41,  4.28s/it, v_num=pxwn, train_loss_step=631, train_loss_epoch=741]"
     ]
    },
    {
     "name": "stdout",
     "output_type": "stream",
     "text": [
      "\r",
      "Epoch 23/1000:   2%|▏         | 23/1000 [01:40<1:10:53,  4.35s/it, v_num=pxwn, train_loss_step=631, train_loss_epoch=741]"
     ]
    },
    {
     "name": "stdout",
     "output_type": "stream",
     "text": [
      "\n",
      "Monitored metric reconstruction_loss_validation did not improve in the last 10 records. Best score: 756.627. Signaling Trainer to stop.\n"
     ]
    }
   ],
   "source": [
    "model.train(logger=logger, plan_kwargs = plan_kwargs, **trainer_kwargs)"
   ]
  },
  {
   "cell_type": "code",
   "execution_count": 15,
   "id": "c282f6eb-0ad1-40a5-81e6-1acda1545dad",
   "metadata": {
    "execution": {
     "iopub.execute_input": "2024-05-03T20:45:44.208688Z",
     "iopub.status.busy": "2024-05-03T20:45:44.208353Z",
     "iopub.status.idle": "2024-05-03T20:45:49.055776Z",
     "shell.execute_reply": "2024-05-03T20:45:49.055103Z"
    },
    "papermill": {
     "duration": 4.859154,
     "end_time": "2024-05-03T20:45:49.057648",
     "exception": false,
     "start_time": "2024-05-03T20:45:44.198494",
     "status": "completed"
    },
    "tags": []
   },
   "outputs": [
    {
     "name": "stderr",
     "output_type": "stream",
     "text": [
      "\u001b[34m\u001b[1mwandb\u001b[0m: - 0.003 MB of 0.003 MB uploaded\r"
     ]
    },
    {
     "name": "stderr",
     "output_type": "stream",
     "text": [
      "\u001b[34m\u001b[1mwandb\u001b[0m: \\ 0.003 MB of 0.003 MB uploaded\r"
     ]
    },
    {
     "name": "stderr",
     "output_type": "stream",
     "text": [
      "\u001b[34m\u001b[1mwandb\u001b[0m: | 0.009 MB of 0.009 MB uploaded\r"
     ]
    },
    {
     "name": "stderr",
     "output_type": "stream",
     "text": [
      "\u001b[34m\u001b[1mwandb\u001b[0m:                                                                                \n"
     ]
    },
    {
     "name": "stderr",
     "output_type": "stream",
     "text": [
      "\u001b[34m\u001b[1mwandb\u001b[0m: \n",
      "\u001b[34m\u001b[1mwandb\u001b[0m: Run history:\n",
      "\u001b[34m\u001b[1mwandb\u001b[0m:                     elbo_train █▆▆▅▅▄▄▄▃▃▃▃▂▂▂▂▂▂▁▁▁▁▁\n",
      "\u001b[34m\u001b[1mwandb\u001b[0m:                elbo_validation █▆▅▄▃▃▂▂▂▂▁▁▁▁▁▁▁▁▁▁▁▁▁\n",
      "\u001b[34m\u001b[1mwandb\u001b[0m:                          epoch ▁▁▁▁▂▂▂▂▂▃▃▃▃▃▄▄▄▄▄▅▅▅▅▅▅▅▆▆▆▆▆▇▇▇▇▇▇███\n",
      "\u001b[34m\u001b[1mwandb\u001b[0m:                kl_global_train ▁▁▁▁▁▁▁▁▁▁▁▁▁▁▁▁▁▁▁▁▁▁▁\n",
      "\u001b[34m\u001b[1mwandb\u001b[0m:           kl_global_validation ▁▁▁▁▁▁▁▁▁▁▁▁▁▁▁▁▁▁▁▁▁▁▁\n",
      "\u001b[34m\u001b[1mwandb\u001b[0m:                 kl_local_train ▁▇█▇▇▆▅▄▄▃▃▃▃▃▃▂▂▂▂▂▂▂▂\n",
      "\u001b[34m\u001b[1mwandb\u001b[0m:            kl_local_validation ▁██▇▅▄▃▃▂▃▂▂▂▂▂▂▂▂▁▁▁▁▁\n",
      "\u001b[34m\u001b[1mwandb\u001b[0m:                      kl_weight ▁▁▁▁▂▂▂▂▂▃▃▃▃▃▄▄▄▄▄▅▅▅▅▅▅▅▆▆▆▆▆▆▇▇▇▇████\n",
      "\u001b[34m\u001b[1mwandb\u001b[0m:      reconstruction_loss_train █▅▄▄▄▃▃▃▃▃▂▂▂▂▂▂▂▂▁▁▁▁▁\n",
      "\u001b[34m\u001b[1mwandb\u001b[0m: reconstruction_loss_validation █▄▃▂▂▂▂▂▁▁▁▁▁▁▁▁▁▁▁▁▁▁▁\n",
      "\u001b[34m\u001b[1mwandb\u001b[0m:               train_loss_epoch █▅▄▄▄▃▃▃▃▃▂▂▂▂▂▂▂▁▁▁▁▁▁\n",
      "\u001b[34m\u001b[1mwandb\u001b[0m:                train_loss_step ▇▇▆▄▃▃▆█▄▅▅▄▃▄▃▆▄█▅▆▆▅▅▄▃▄▃▂▂▁▅▄▄▁▃▅▄▃▅▂\n",
      "\u001b[34m\u001b[1mwandb\u001b[0m:            trainer/global_step ▁▁▁▂▂▂▂▂▂▃▃▃▃▃▃▄▄▄▄▄▅▅▅▅▅▅▆▆▆▆▆▆▇▇▇▇▇███\n",
      "\u001b[34m\u001b[1mwandb\u001b[0m:                validation_loss █▄▃▂▂▂▂▁▁▁▁▁▁▁▁▁▁▁▁▁▁▁▁\n",
      "\u001b[34m\u001b[1mwandb\u001b[0m: \n",
      "\u001b[34m\u001b[1mwandb\u001b[0m: Run summary:\n",
      "\u001b[34m\u001b[1mwandb\u001b[0m:                     elbo_train 767.02844\n",
      "\u001b[34m\u001b[1mwandb\u001b[0m:                elbo_validation 785.81982\n",
      "\u001b[34m\u001b[1mwandb\u001b[0m:                          epoch 22\n",
      "\u001b[34m\u001b[1mwandb\u001b[0m:                kl_global_train 0.0\n",
      "\u001b[34m\u001b[1mwandb\u001b[0m:           kl_global_validation 0.0\n",
      "\u001b[34m\u001b[1mwandb\u001b[0m:                 kl_local_train 27.95484\n",
      "\u001b[34m\u001b[1mwandb\u001b[0m:            kl_local_validation 27.23853\n",
      "\u001b[34m\u001b[1mwandb\u001b[0m:                      kl_weight 0.055\n",
      "\u001b[34m\u001b[1mwandb\u001b[0m:      reconstruction_loss_train 739.07361\n",
      "\u001b[34m\u001b[1mwandb\u001b[0m: reconstruction_loss_validation 758.5813\n",
      "\u001b[34m\u001b[1mwandb\u001b[0m:               train_loss_epoch 740.61041\n",
      "\u001b[34m\u001b[1mwandb\u001b[0m:                train_loss_step 712.06445\n",
      "\u001b[34m\u001b[1mwandb\u001b[0m:            trainer/global_step 7175\n",
      "\u001b[34m\u001b[1mwandb\u001b[0m:                validation_loss 760.07953\n",
      "\u001b[34m\u001b[1mwandb\u001b[0m: \n"
     ]
    },
    {
     "name": "stderr",
     "output_type": "stream",
     "text": [
      "\u001b[34m\u001b[1mwandb\u001b[0m: 🚀 View run \u001b[33mStep3_Doublets_Step2\u001b[0m at: \u001b[34m\u001b[4mhttps://wandb.ai/inflammation/inflammation_atlas_R1/runs/j9bkpxwn\u001b[0m\n",
      "\u001b[34m\u001b[1mwandb\u001b[0m: Synced 5 W&B file(s), 0 media file(s), 0 artifact file(s) and 0 other file(s)\n"
     ]
    },
    {
     "name": "stderr",
     "output_type": "stream",
     "text": [
      "\u001b[34m\u001b[1mwandb\u001b[0m: Find logs at: \u001b[35m\u001b[1m./wandb/run-20240503_204403-j9bkpxwn/logs\u001b[0m\n"
     ]
    }
   ],
   "source": [
    "wandb.finish()"
   ]
  },
  {
   "cell_type": "markdown",
   "id": "d9fb1179-83c7-4ac6-b4aa-92dc7a349801",
   "metadata": {
    "papermill": {
     "duration": 0.00783,
     "end_time": "2024-05-03T20:45:49.073948",
     "exception": false,
     "start_time": "2024-05-03T20:45:49.066118",
     "status": "completed"
    },
    "tags": []
   },
   "source": [
    "### Extracting embedding space"
   ]
  },
  {
   "cell_type": "code",
   "execution_count": 16,
   "id": "caaa5832-0123-4c59-8ec6-f46a75f7a14e",
   "metadata": {
    "execution": {
     "iopub.execute_input": "2024-05-03T20:45:49.091573Z",
     "iopub.status.busy": "2024-05-03T20:45:49.091022Z",
     "iopub.status.idle": "2024-05-03T20:45:50.561164Z",
     "shell.execute_reply": "2024-05-03T20:45:50.560389Z"
    },
    "papermill": {
     "duration": 1.481393,
     "end_time": "2024-05-03T20:45:50.563361",
     "exception": false,
     "start_time": "2024-05-03T20:45:49.081968",
     "status": "completed"
    },
    "tags": []
   },
   "outputs": [],
   "source": [
    "adata.obsm['X_scVI'] = model.get_latent_representation()"
   ]
  },
  {
   "cell_type": "markdown",
   "id": "2f03e70b-839c-40a6-9fbb-d76bbd787419",
   "metadata": {
    "papermill": {
     "duration": 0.008128,
     "end_time": "2024-05-03T20:45:50.579815",
     "exception": false,
     "start_time": "2024-05-03T20:45:50.571687",
     "status": "completed"
    },
    "tags": []
   },
   "source": [
    "## Save the results"
   ]
  },
  {
   "cell_type": "code",
   "execution_count": 17,
   "id": "7b04049b-47fd-4b62-a1c0-c43dcc086d34",
   "metadata": {
    "execution": {
     "iopub.execute_input": "2024-05-03T20:45:50.597647Z",
     "iopub.status.busy": "2024-05-03T20:45:50.596931Z",
     "iopub.status.idle": "2024-05-03T20:45:55.527748Z",
     "shell.execute_reply": "2024-05-03T20:45:55.527008Z"
    },
    "papermill": {
     "duration": 4.942152,
     "end_time": "2024-05-03T20:45:55.529906",
     "exception": false,
     "start_time": "2024-05-03T20:45:50.587754",
     "status": "completed"
    },
    "tags": []
   },
   "outputs": [],
   "source": [
    "if overwriteData:\n",
    "    adata.write(here(f\"{workDir}/{cellGroup}/results/02_{annotationLevel}_{cellGroup}_HVGsubset_scVI.h5ad\"), compression=\"gzip\")\n",
    "    model.save(here(f\"{workDir}/{cellGroup}/results/02_{annotationLevel}_{cellGroup}_HVGsubset_scVI_MODEL/\"),\n",
    "               overwrite = True, \n",
    "               save_anndata = False )   "
   ]
  },
  {
   "cell_type": "code",
   "execution_count": 18,
   "id": "629ba2bd-f6be-44ef-8fca-bbdf891bf25f",
   "metadata": {
    "execution": {
     "iopub.execute_input": "2024-05-03T20:45:55.548545Z",
     "iopub.status.busy": "2024-05-03T20:45:55.547832Z",
     "iopub.status.idle": "2024-05-03T20:45:55.551084Z",
     "shell.execute_reply": "2024-05-03T20:45:55.550407Z"
    },
    "papermill": {
     "duration": 0.014233,
     "end_time": "2024-05-03T20:45:55.552533",
     "exception": false,
     "start_time": "2024-05-03T20:45:55.538300",
     "status": "completed"
    },
    "tags": []
   },
   "outputs": [],
   "source": [
    "# To load the model do (after loading corresponding adata):\n",
    "# model = scvi.model.SCVI.load(here('{}/results/01_{}_HVGsubset_scVI_MODEL/'.format(workDir, cellGroup)), \n",
    "#                              adata, \n",
    "#                              use_gpu=True)"
   ]
  },
  {
   "cell_type": "raw",
   "id": "975e84d0-f56b-498d-b3a8-c9219cf22e53",
   "metadata": {
    "papermill": {
     "duration": 0.008035,
     "end_time": "2024-05-03T20:45:55.568504",
     "exception": false,
     "start_time": "2024-05-03T20:45:55.560469",
     "status": "completed"
    },
    "tags": []
   },
   "source": [
    "session_info.show()"
   ]
  }
 ],
 "metadata": {
  "kernelspec": {
   "display_name": "Python 3 (ipykernel)",
   "language": "python",
   "name": "python3"
  },
  "language_info": {
   "codemirror_mode": {
    "name": "ipython",
    "version": 3
   },
   "file_extension": ".py",
   "mimetype": "text/x-python",
   "name": "python",
   "nbconvert_exporter": "python",
   "pygments_lexer": "ipython3",
   "version": "3.9.18"
  },
  "papermill": {
   "default_parameters": {},
   "duration": 128.287603,
   "end_time": "2024-05-03T20:45:58.474840",
   "environment_variables": {},
   "exception": null,
   "input_path": "./Doublets_Step2/02_integration_scVI.ipynb",
   "output_path": "./Doublets_Step2/02_integration_scVI_executed.ipynb",
   "parameters": {},
   "start_time": "2024-05-03T20:43:50.187237",
   "version": "2.5.0"
  }
 },
 "nbformat": 4,
 "nbformat_minor": 5
}
