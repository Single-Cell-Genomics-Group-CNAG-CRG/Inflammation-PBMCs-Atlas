{
 "cells": [
  {
   "cell_type": "code",
   "execution_count": 1,
   "id": "2dd1425a-0c07-465e-b522-9e3cc5cb93a7",
   "metadata": {
    "execution": {
     "iopub.execute_input": "2024-05-03T19:05:47.390767Z",
     "iopub.status.busy": "2024-05-03T19:05:47.390178Z",
     "iopub.status.idle": "2024-05-03T19:05:58.232914Z",
     "shell.execute_reply": "2024-05-03T19:05:58.232016Z"
    },
    "papermill": {
     "duration": 10.85081,
     "end_time": "2024-05-03T19:05:58.235430",
     "exception": false,
     "start_time": "2024-05-03T19:05:47.384620",
     "status": "completed"
    },
    "tags": []
   },
   "outputs": [
    {
     "data": {
      "text/plain": [
       "True"
      ]
     },
     "execution_count": 1,
     "metadata": {},
     "output_type": "execute_result"
    }
   ],
   "source": [
    "import os\n",
    "import sys\n",
    "\n",
    "import numpy as np\n",
    "import matplotlib.pyplot as plt\n",
    "\n",
    "import scanpy as sc\n",
    "import scvi\n",
    "import torch\n",
    "\n",
    "from pytorch_lightning.loggers import WandbLogger\n",
    "import wandb\n",
    "from dotenv import load_dotenv\n",
    "\n",
    "import session_info\n",
    "import warnings\n",
    "from pyprojroot.here import here\n",
    "\n",
    "warnings.filterwarnings(\"ignore\")\n",
    "sys.path.insert(1, str(here('bin')))\n",
    "\n",
    "torch.set_float32_matmul_precision('high')\n",
    "\n",
    "#plt.style.use(['science','nature','no-latex'])\n",
    "dpi_fig_save = 300\n",
    "sc.set_figure_params(dpi=100, dpi_save=dpi_fig_save, vector_friendly=True)\n",
    "\n",
    "load_dotenv(here('.env'))"
   ]
  },
  {
   "cell_type": "code",
   "execution_count": 2,
   "id": "09c897fc-744b-43de-a681-718fb5d327fa",
   "metadata": {
    "execution": {
     "iopub.execute_input": "2024-05-03T19:05:58.252582Z",
     "iopub.status.busy": "2024-05-03T19:05:58.251812Z",
     "iopub.status.idle": "2024-05-03T19:05:58.255981Z",
     "shell.execute_reply": "2024-05-03T19:05:58.255195Z"
    },
    "papermill": {
     "duration": 0.013863,
     "end_time": "2024-05-03T19:05:58.258200",
     "exception": false,
     "start_time": "2024-05-03T19:05:58.244337",
     "status": "completed"
    },
    "tags": []
   },
   "outputs": [],
   "source": [
    "class CustomWandbLogger(WandbLogger):\n",
    "    @property\n",
    "    def save_dir(self):\n",
    "        return self.experiment.dir"
   ]
  },
  {
   "cell_type": "code",
   "execution_count": 3,
   "id": "8ee6662f-5d45-4137-80a5-bb0b9ae8d71f",
   "metadata": {
    "execution": {
     "iopub.execute_input": "2024-05-03T19:05:58.271570Z",
     "iopub.status.busy": "2024-05-03T19:05:58.271326Z",
     "iopub.status.idle": "2024-05-03T19:05:58.279064Z",
     "shell.execute_reply": "2024-05-03T19:05:58.278268Z"
    },
    "papermill": {
     "duration": 0.017135,
     "end_time": "2024-05-03T19:05:58.281411",
     "exception": false,
     "start_time": "2024-05-03T19:05:58.264276",
     "status": "completed"
    },
    "tags": []
   },
   "outputs": [
    {
     "name": "stderr",
     "output_type": "stream",
     "text": [
      "Seed set to 0\n"
     ]
    },
    {
     "name": "stdout",
     "output_type": "stream",
     "text": [
      "Last run with scvi-tools version: 1.1.2\n"
     ]
    }
   ],
   "source": [
    "scvi.settings.seed = 0\n",
    "print(\"Last run with scvi-tools version:\", scvi.__version__)"
   ]
  },
  {
   "cell_type": "markdown",
   "id": "a81037ff-5998-482a-ba86-520f757311a9",
   "metadata": {
    "papermill": {
     "duration": 0.006439,
     "end_time": "2024-05-03T19:05:58.294030",
     "exception": false,
     "start_time": "2024-05-03T19:05:58.287591",
     "status": "completed"
    },
    "tags": []
   },
   "source": [
    "**Setting parameters** "
   ]
  },
  {
   "cell_type": "code",
   "execution_count": 4,
   "id": "56c27966-8f10-4c93-8b1a-1fa75f005e41",
   "metadata": {
    "execution": {
     "iopub.execute_input": "2024-05-03T19:05:58.308572Z",
     "iopub.status.busy": "2024-05-03T19:05:58.307903Z",
     "iopub.status.idle": "2024-05-03T19:05:58.311442Z",
     "shell.execute_reply": "2024-05-03T19:05:58.310686Z"
    },
    "papermill": {
     "duration": 0.012837,
     "end_time": "2024-05-03T19:05:58.313597",
     "exception": false,
     "start_time": "2024-05-03T19:05:58.300760",
     "status": "completed"
    },
    "tags": []
   },
   "outputs": [],
   "source": [
    "overwriteFigures = True\n",
    "overwriteData = True"
   ]
  },
  {
   "cell_type": "code",
   "execution_count": 5,
   "id": "c86fccd3-a4fe-415b-8f4e-e2ceb3ec128a",
   "metadata": {
    "execution": {
     "iopub.execute_input": "2024-05-03T19:05:58.324817Z",
     "iopub.status.busy": "2024-05-03T19:05:58.324329Z",
     "iopub.status.idle": "2024-05-03T19:05:58.327978Z",
     "shell.execute_reply": "2024-05-03T19:05:58.327204Z"
    },
    "papermill": {
     "duration": 0.009615,
     "end_time": "2024-05-03T19:05:58.329662",
     "exception": false,
     "start_time": "2024-05-03T19:05:58.320047",
     "status": "completed"
    },
    "tags": []
   },
   "outputs": [],
   "source": [
    "cellGroup = 'pDC'\n",
    "workDir = os.getcwd()"
   ]
  },
  {
   "cell_type": "code",
   "execution_count": 6,
   "id": "2dee4d55-d168-467b-b867-a61fed9d6af1",
   "metadata": {
    "execution": {
     "iopub.execute_input": "2024-05-03T19:05:58.338018Z",
     "iopub.status.busy": "2024-05-03T19:05:58.337750Z",
     "iopub.status.idle": "2024-05-03T19:05:58.341539Z",
     "shell.execute_reply": "2024-05-03T19:05:58.340788Z"
    },
    "papermill": {
     "duration": 0.009894,
     "end_time": "2024-05-03T19:05:58.343029",
     "exception": false,
     "start_time": "2024-05-03T19:05:58.333135",
     "status": "completed"
    },
    "tags": []
   },
   "outputs": [],
   "source": [
    "annotationLevel = os.path.basename(os.path.normpath(workDir))"
   ]
  },
  {
   "cell_type": "code",
   "execution_count": 7,
   "id": "11e53cd5-b746-4152-89cb-c2f0c15d90b3",
   "metadata": {
    "execution": {
     "iopub.execute_input": "2024-05-03T19:05:58.351958Z",
     "iopub.status.busy": "2024-05-03T19:05:58.351205Z",
     "iopub.status.idle": "2024-05-03T19:05:58.356357Z",
     "shell.execute_reply": "2024-05-03T19:05:58.355539Z"
    },
    "papermill": {
     "duration": 0.011274,
     "end_time": "2024-05-03T19:05:58.357972",
     "exception": false,
     "start_time": "2024-05-03T19:05:58.346698",
     "status": "completed"
    },
    "tags": []
   },
   "outputs": [
    {
     "data": {
      "text/plain": [
       "'/home/jupyter/Inflammation-PBMCs-Atlas/02_cell_annotation/02_fromCellLineages_to_CellTypes/Step3'"
      ]
     },
     "execution_count": 7,
     "metadata": {},
     "output_type": "execute_result"
    }
   ],
   "source": [
    "workDir"
   ]
  },
  {
   "cell_type": "markdown",
   "id": "171d2f06-9a44-4fcb-b437-35dc546674b6",
   "metadata": {
    "papermill": {
     "duration": 0.003726,
     "end_time": "2024-05-03T19:05:58.365368",
     "exception": false,
     "start_time": "2024-05-03T19:05:58.361642",
     "status": "completed"
    },
    "tags": []
   },
   "source": [
    "**Load data**"
   ]
  },
  {
   "cell_type": "code",
   "execution_count": 8,
   "id": "429f34fe-dde6-4cc9-9f75-7de8f85c5ffe",
   "metadata": {
    "execution": {
     "iopub.execute_input": "2024-05-03T19:05:58.374083Z",
     "iopub.status.busy": "2024-05-03T19:05:58.373411Z",
     "iopub.status.idle": "2024-05-03T19:05:59.359197Z",
     "shell.execute_reply": "2024-05-03T19:05:59.358272Z"
    },
    "papermill": {
     "duration": 0.992146,
     "end_time": "2024-05-03T19:05:59.361059",
     "exception": false,
     "start_time": "2024-05-03T19:05:58.368913",
     "status": "completed"
    },
    "tags": []
   },
   "outputs": [
    {
     "data": {
      "text/plain": [
       "AnnData object with n_obs × n_vars = 22902 × 3110\n",
       "    obs: 'studyID', 'libraryID', 'sampleID', 'chemistry', 'technology', 'patientID', 'disease', 'timepoint_replicate', 'treatmentStatus', 'therapyResponse', 'sex', 'age', 'BMI', 'binned_age', 'diseaseStatus', 'smokingStatus', 'ethnicity', 'institute', 'diseaseGroup', 'n_genes_by_counts', 'log1p_n_genes_by_counts', 'total_counts', 'log1p_total_counts', 'pct_counts_in_top_20_genes', 'total_counts_mt', 'log1p_total_counts_mt', 'pct_counts_mt', 'total_counts_ribo', 'log1p_total_counts_ribo', 'pct_counts_ribo', 'total_counts_hb', 'log1p_total_counts_hb', 'pct_counts_hb', 'total_counts_plt', 'log1p_total_counts_plt', 'pct_counts_plt', 'doublet_score', 'predicted_doublet', 'S_score', 'G2M_score', 'phase'\n",
       "    var: 'hgnc_id', 'symbol', 'locus_group', 'HUGO_status', 'mt', 'ribo', 'hb', 'plt', 'n_cells_by_counts', 'mean_counts', 'log1p_mean_counts', 'pct_dropout_by_counts', 'total_counts', 'log1p_total_counts', 'highly_variable'\n",
       "    uns: 'chemistry_colors', 'log1p'\n",
       "    layers: 'counts', 'log1p_10e4_counts'"
      ]
     },
     "execution_count": 8,
     "metadata": {},
     "output_type": "execute_result"
    }
   ],
   "source": [
    "adata = sc.read_h5ad(here(f\"{workDir}/{cellGroup}/results/01_{cellGroup}_normalized_HVGsubset.h5ad\"))\n",
    "adata"
   ]
  },
  {
   "cell_type": "markdown",
   "id": "8ac79f3b-d5af-41fa-8904-1e9ac1cbe2fb",
   "metadata": {
    "papermill": {
     "duration": 0.003789,
     "end_time": "2024-05-03T19:05:59.368724",
     "exception": false,
     "start_time": "2024-05-03T19:05:59.364935",
     "status": "completed"
    },
    "tags": []
   },
   "source": [
    "## scVI integration"
   ]
  },
  {
   "cell_type": "markdown",
   "id": "9544847d-d17f-4811-b14b-760446d54d32",
   "metadata": {
    "execution": {
     "iopub.execute_input": "2024-03-25T16:49:04.004504Z",
     "iopub.status.busy": "2024-03-25T16:49:04.004143Z",
     "iopub.status.idle": "2024-03-25T16:49:04.010148Z",
     "shell.execute_reply": "2024-03-25T16:49:04.009146Z",
     "shell.execute_reply.started": "2024-03-25T16:49:04.004477Z"
    },
    "papermill": {
     "duration": 0.003685,
     "end_time": "2024-05-03T19:05:59.376178",
     "exception": false,
     "start_time": "2024-05-03T19:05:59.372493",
     "status": "completed"
    },
    "tags": []
   },
   "source": [
    "**scVI parameters**"
   ]
  },
  {
   "cell_type": "code",
   "execution_count": 9,
   "id": "208966eb-545a-4c02-854c-0ed0487ef5b3",
   "metadata": {
    "execution": {
     "iopub.execute_input": "2024-05-03T19:05:59.385251Z",
     "iopub.status.busy": "2024-05-03T19:05:59.384717Z",
     "iopub.status.idle": "2024-05-03T19:05:59.390438Z",
     "shell.execute_reply": "2024-05-03T19:05:59.389644Z"
    },
    "papermill": {
     "duration": 0.012282,
     "end_time": "2024-05-03T19:05:59.392239",
     "exception": false,
     "start_time": "2024-05-03T19:05:59.379957",
     "status": "completed"
    },
    "tags": []
   },
   "outputs": [],
   "source": [
    "# https://docs.scvi-tools.org/en/stable/api/reference/scvi.train.Trainer.html#scvi.train.Trainer\n",
    "setup_kwargs = dict(\n",
    "    layer=\"counts\", \n",
    "    batch_key='libraryID', \n",
    "    categorical_covariate_keys = ['studyID', 'chemistry', 'disease', 'sampleID'],\n",
    "    labels_key = 'chemistry'    \n",
    ")\n",
    "\n",
    "scvi_kwargs = dict(n_hidden=512,\n",
    "                   n_latent=10, # reduceds after step 02\n",
    "                   n_layers=2,\n",
    "                   gene_likelihood='nb',\n",
    "                   dispersion='gene-label')\n",
    "\n",
    "trainer_kwargs = dict(\n",
    "    checkpointing_monitor = 'elbo_validation',\n",
    "    early_stopping_monitor = 'reconstruction_loss_validation',\n",
    "    early_stopping_patience = 10,\n",
    "    early_stopping_min_delta=0.1,\n",
    "    early_stopping = True,\n",
    "    max_epochs = 1000,\n",
    "\n",
    "    #logger = # wandb\n",
    ")\n",
    "# https://docs.scvi-tools.org/en/stable/api/reference/scvi.train.TrainingPlan.html#scvi.train.TrainingPlan\n",
    "plan_kwargs = dict(\n",
    "    lr = 5e-4,\n",
    "    #reduce_lr_on_plateau = True\n",
    ")\n",
    "\n",
    "# https://docs.scvi-tools.org/en/stable/api/reference/scvi.module.VAE.html#scvi.module.VAE\n",
    "#vae = dict(\n",
    "#    use_layer_norm='both',\n",
    "#    use_batch_norm='none',\n",
    "#    encode_covariates=True,\n",
    "#    deeply_inject_covariates=False\n",
    "#)\n",
    "parameter_dict = setup_kwargs | scvi_kwargs | trainer_kwargs | plan_kwargs"
   ]
  },
  {
   "cell_type": "markdown",
   "id": "1362366a-c16b-4c11-964b-b9c5f82f7b29",
   "metadata": {
    "papermill": {
     "duration": 0.003686,
     "end_time": "2024-05-03T19:05:59.399628",
     "exception": false,
     "start_time": "2024-05-03T19:05:59.395942",
     "status": "completed"
    },
    "tags": []
   },
   "source": [
    "**wandb parameter**"
   ]
  },
  {
   "cell_type": "code",
   "execution_count": 10,
   "id": "0496e33a-8ca5-423f-b42f-34a59760708c",
   "metadata": {
    "execution": {
     "iopub.execute_input": "2024-05-03T19:05:59.408568Z",
     "iopub.status.busy": "2024-05-03T19:05:59.407896Z",
     "iopub.status.idle": "2024-05-03T19:05:59.413086Z",
     "shell.execute_reply": "2024-05-03T19:05:59.412240Z"
    },
    "papermill": {
     "duration": 0.011587,
     "end_time": "2024-05-03T19:05:59.414870",
     "exception": false,
     "start_time": "2024-05-03T19:05:59.403283",
     "status": "completed"
    },
    "tags": []
   },
   "outputs": [
    {
     "data": {
      "text/plain": [
       "'Step3_pDC'"
      ]
     },
     "execution_count": 10,
     "metadata": {},
     "output_type": "execute_result"
    }
   ],
   "source": [
    "run_name = f\"{annotationLevel}_{cellGroup}\"\n",
    "run_name"
   ]
  },
  {
   "cell_type": "code",
   "execution_count": 11,
   "id": "b0021327-95a2-4002-bf32-2c5779a99505",
   "metadata": {
    "execution": {
     "iopub.execute_input": "2024-05-03T19:05:59.423831Z",
     "iopub.status.busy": "2024-05-03T19:05:59.423402Z",
     "iopub.status.idle": "2024-05-03T19:05:59.556640Z",
     "shell.execute_reply": "2024-05-03T19:05:59.555729Z"
    },
    "papermill": {
     "duration": 0.140256,
     "end_time": "2024-05-03T19:05:59.558854",
     "exception": false,
     "start_time": "2024-05-03T19:05:59.418598",
     "status": "completed"
    },
    "tags": []
   },
   "outputs": [],
   "source": [
    "logger = CustomWandbLogger(name = run_name, project='inflammation_atlas_R1', config=parameter_dict)"
   ]
  },
  {
   "cell_type": "markdown",
   "id": "c237eee1-a976-4915-9b7f-b014bf33f47d",
   "metadata": {
    "papermill": {
     "duration": 0.003879,
     "end_time": "2024-05-03T19:05:59.566973",
     "exception": false,
     "start_time": "2024-05-03T19:05:59.563094",
     "status": "completed"
    },
    "tags": []
   },
   "source": [
    "**Running integration**"
   ]
  },
  {
   "cell_type": "code",
   "execution_count": 12,
   "id": "aff97c53-1aba-462e-8a77-f1aec9cf724c",
   "metadata": {
    "execution": {
     "iopub.execute_input": "2024-05-03T19:05:59.576612Z",
     "iopub.status.busy": "2024-05-03T19:05:59.575795Z",
     "iopub.status.idle": "2024-05-03T19:06:01.213685Z",
     "shell.execute_reply": "2024-05-03T19:06:01.212787Z"
    },
    "papermill": {
     "duration": 1.644878,
     "end_time": "2024-05-03T19:06:01.215764",
     "exception": false,
     "start_time": "2024-05-03T19:05:59.570886",
     "status": "completed"
    },
    "tags": []
   },
   "outputs": [],
   "source": [
    "scvi.model.SCVI.setup_anndata(adata, \n",
    "                              **setup_kwargs)"
   ]
  },
  {
   "cell_type": "code",
   "execution_count": 13,
   "id": "1a56f448-cf44-47c1-81a4-a89caa930fec",
   "metadata": {
    "execution": {
     "iopub.execute_input": "2024-05-03T19:06:01.225436Z",
     "iopub.status.busy": "2024-05-03T19:06:01.225119Z",
     "iopub.status.idle": "2024-05-03T19:06:01.517903Z",
     "shell.execute_reply": "2024-05-03T19:06:01.517180Z"
    },
    "papermill": {
     "duration": 0.300033,
     "end_time": "2024-05-03T19:06:01.519987",
     "exception": false,
     "start_time": "2024-05-03T19:06:01.219954",
     "status": "completed"
    },
    "tags": []
   },
   "outputs": [],
   "source": [
    "model = scvi.model.SCVI(adata, **scvi_kwargs)"
   ]
  },
  {
   "cell_type": "code",
   "execution_count": 14,
   "id": "2735f010-4f24-4ae8-9740-a8cfeb335e9a",
   "metadata": {
    "execution": {
     "iopub.execute_input": "2024-05-03T19:06:01.530141Z",
     "iopub.status.busy": "2024-05-03T19:06:01.529367Z",
     "iopub.status.idle": "2024-05-03T19:07:16.930705Z",
     "shell.execute_reply": "2024-05-03T19:07:16.929942Z"
    },
    "papermill": {
     "duration": 75.408256,
     "end_time": "2024-05-03T19:07:16.932501",
     "exception": false,
     "start_time": "2024-05-03T19:06:01.524245",
     "status": "completed"
    },
    "tags": []
   },
   "outputs": [
    {
     "name": "stderr",
     "output_type": "stream",
     "text": [
      "GPU available: True (cuda), used: True\n"
     ]
    },
    {
     "name": "stderr",
     "output_type": "stream",
     "text": [
      "TPU available: False, using: 0 TPU cores\n"
     ]
    },
    {
     "name": "stderr",
     "output_type": "stream",
     "text": [
      "IPU available: False, using: 0 IPUs\n"
     ]
    },
    {
     "name": "stderr",
     "output_type": "stream",
     "text": [
      "HPU available: False, using: 0 HPUs\n"
     ]
    },
    {
     "name": "stderr",
     "output_type": "stream",
     "text": [
      "\u001b[34m\u001b[1mwandb\u001b[0m: Currently logged in as: \u001b[33mdav1989\u001b[0m (\u001b[33minflammation\u001b[0m). Use \u001b[1m`wandb login --relogin`\u001b[0m to force relogin\n"
     ]
    },
    {
     "name": "stderr",
     "output_type": "stream",
     "text": [
      "\u001b[34m\u001b[1mwandb\u001b[0m: wandb version 0.16.6 is available!  To upgrade, please run:\n",
      "\u001b[34m\u001b[1mwandb\u001b[0m:  $ pip install wandb --upgrade\n"
     ]
    },
    {
     "name": "stderr",
     "output_type": "stream",
     "text": [
      "\u001b[34m\u001b[1mwandb\u001b[0m: Tracking run with wandb version 0.16.3\n"
     ]
    },
    {
     "name": "stderr",
     "output_type": "stream",
     "text": [
      "\u001b[34m\u001b[1mwandb\u001b[0m: Run data is saved locally in \u001b[35m\u001b[1m./wandb/run-20240503_190608-g7fyaf3g\u001b[0m\n",
      "\u001b[34m\u001b[1mwandb\u001b[0m: Run \u001b[1m`wandb offline`\u001b[0m to turn off syncing.\n"
     ]
    },
    {
     "name": "stderr",
     "output_type": "stream",
     "text": [
      "\u001b[34m\u001b[1mwandb\u001b[0m: Syncing run \u001b[33mStep3_pDC\u001b[0m\n"
     ]
    },
    {
     "name": "stderr",
     "output_type": "stream",
     "text": [
      "\u001b[34m\u001b[1mwandb\u001b[0m: ⭐️ View project at \u001b[34m\u001b[4mhttps://wandb.ai/inflammation/inflammation_atlas_R1\u001b[0m\n"
     ]
    },
    {
     "name": "stderr",
     "output_type": "stream",
     "text": [
      "\u001b[34m\u001b[1mwandb\u001b[0m: 🚀 View run at \u001b[34m\u001b[4mhttps://wandb.ai/inflammation/inflammation_atlas_R1/runs/g7fyaf3g\u001b[0m\n"
     ]
    },
    {
     "name": "stderr",
     "output_type": "stream",
     "text": [
      "LOCAL_RANK: 0 - CUDA_VISIBLE_DEVICES: [0]\n"
     ]
    },
    {
     "name": "stdout",
     "output_type": "stream",
     "text": [
      "\r",
      "Training:   0%|          | 0/1000 [00:00<?, ?it/s]"
     ]
    },
    {
     "name": "stdout",
     "output_type": "stream",
     "text": [
      "\r",
      "Epoch 1/1000:   0%|          | 0/1000 [00:00<?, ?it/s]"
     ]
    },
    {
     "name": "stdout",
     "output_type": "stream",
     "text": [
      "\r",
      "Epoch 1/1000:   0%|          | 1/1000 [00:05<1:26:55,  5.22s/it]"
     ]
    },
    {
     "name": "stdout",
     "output_type": "stream",
     "text": [
      "\r",
      "Epoch 1/1000:   0%|          | 1/1000 [00:05<1:26:55,  5.22s/it, v_num=af3g, train_loss_step=1.44e+3, train_loss_epoch=1.29e+3]"
     ]
    },
    {
     "name": "stdout",
     "output_type": "stream",
     "text": [
      "\r",
      "Epoch 2/1000:   0%|          | 1/1000 [00:05<1:26:55,  5.22s/it, v_num=af3g, train_loss_step=1.44e+3, train_loss_epoch=1.29e+3]"
     ]
    },
    {
     "name": "stdout",
     "output_type": "stream",
     "text": [
      "\r",
      "Epoch 2/1000:   0%|          | 2/1000 [00:07<56:43,  3.41s/it, v_num=af3g, train_loss_step=1.44e+3, train_loss_epoch=1.29e+3]  "
     ]
    },
    {
     "name": "stdout",
     "output_type": "stream",
     "text": [
      "\r",
      "Epoch 2/1000:   0%|          | 2/1000 [00:07<56:43,  3.41s/it, v_num=af3g, train_loss_step=1.91e+3, train_loss_epoch=1.24e+3]"
     ]
    },
    {
     "name": "stdout",
     "output_type": "stream",
     "text": [
      "\r",
      "Epoch 3/1000:   0%|          | 2/1000 [00:07<56:43,  3.41s/it, v_num=af3g, train_loss_step=1.91e+3, train_loss_epoch=1.24e+3]"
     ]
    },
    {
     "name": "stdout",
     "output_type": "stream",
     "text": [
      "\r",
      "Epoch 3/1000:   0%|          | 3/1000 [00:09<47:10,  2.84s/it, v_num=af3g, train_loss_step=1.91e+3, train_loss_epoch=1.24e+3]"
     ]
    },
    {
     "name": "stdout",
     "output_type": "stream",
     "text": [
      "\r",
      "Epoch 3/1000:   0%|          | 3/1000 [00:09<47:10,  2.84s/it, v_num=af3g, train_loss_step=1.3e+3, train_loss_epoch=1.24e+3] "
     ]
    },
    {
     "name": "stdout",
     "output_type": "stream",
     "text": [
      "\r",
      "Epoch 4/1000:   0%|          | 3/1000 [00:09<47:10,  2.84s/it, v_num=af3g, train_loss_step=1.3e+3, train_loss_epoch=1.24e+3]"
     ]
    },
    {
     "name": "stdout",
     "output_type": "stream",
     "text": [
      "\r",
      "Epoch 4/1000:   0%|          | 4/1000 [00:11<42:34,  2.56s/it, v_num=af3g, train_loss_step=1.3e+3, train_loss_epoch=1.24e+3]"
     ]
    },
    {
     "name": "stdout",
     "output_type": "stream",
     "text": [
      "\r",
      "Epoch 4/1000:   0%|          | 4/1000 [00:11<42:34,  2.56s/it, v_num=af3g, train_loss_step=1.38e+3, train_loss_epoch=1.23e+3]"
     ]
    },
    {
     "name": "stdout",
     "output_type": "stream",
     "text": [
      "\r",
      "Epoch 5/1000:   0%|          | 4/1000 [00:11<42:34,  2.56s/it, v_num=af3g, train_loss_step=1.38e+3, train_loss_epoch=1.23e+3]"
     ]
    },
    {
     "name": "stdout",
     "output_type": "stream",
     "text": [
      "\r",
      "Epoch 5/1000:   0%|          | 5/1000 [00:13<40:30,  2.44s/it, v_num=af3g, train_loss_step=1.38e+3, train_loss_epoch=1.23e+3]"
     ]
    },
    {
     "name": "stdout",
     "output_type": "stream",
     "text": [
      "\r",
      "Epoch 5/1000:   0%|          | 5/1000 [00:13<40:30,  2.44s/it, v_num=af3g, train_loss_step=1.71e+3, train_loss_epoch=1.22e+3]"
     ]
    },
    {
     "name": "stdout",
     "output_type": "stream",
     "text": [
      "\r",
      "Epoch 6/1000:   0%|          | 5/1000 [00:13<40:30,  2.44s/it, v_num=af3g, train_loss_step=1.71e+3, train_loss_epoch=1.22e+3]"
     ]
    },
    {
     "name": "stdout",
     "output_type": "stream",
     "text": [
      "\r",
      "Epoch 6/1000:   1%|          | 6/1000 [00:16<38:53,  2.35s/it, v_num=af3g, train_loss_step=1.71e+3, train_loss_epoch=1.22e+3]"
     ]
    },
    {
     "name": "stdout",
     "output_type": "stream",
     "text": [
      "\r",
      "Epoch 6/1000:   1%|          | 6/1000 [00:16<38:53,  2.35s/it, v_num=af3g, train_loss_step=913, train_loss_epoch=1.22e+3]    "
     ]
    },
    {
     "name": "stdout",
     "output_type": "stream",
     "text": [
      "\r",
      "Epoch 7/1000:   1%|          | 6/1000 [00:16<38:53,  2.35s/it, v_num=af3g, train_loss_step=913, train_loss_epoch=1.22e+3]"
     ]
    },
    {
     "name": "stdout",
     "output_type": "stream",
     "text": [
      "\r",
      "Epoch 7/1000:   1%|          | 7/1000 [00:18<37:42,  2.28s/it, v_num=af3g, train_loss_step=913, train_loss_epoch=1.22e+3]"
     ]
    },
    {
     "name": "stdout",
     "output_type": "stream",
     "text": [
      "\r",
      "Epoch 7/1000:   1%|          | 7/1000 [00:18<37:42,  2.28s/it, v_num=af3g, train_loss_step=1.37e+3, train_loss_epoch=1.22e+3]"
     ]
    },
    {
     "name": "stdout",
     "output_type": "stream",
     "text": [
      "\r",
      "Epoch 8/1000:   1%|          | 7/1000 [00:18<37:42,  2.28s/it, v_num=af3g, train_loss_step=1.37e+3, train_loss_epoch=1.22e+3]"
     ]
    },
    {
     "name": "stdout",
     "output_type": "stream",
     "text": [
      "\r",
      "Epoch 8/1000:   1%|          | 8/1000 [00:20<37:07,  2.25s/it, v_num=af3g, train_loss_step=1.37e+3, train_loss_epoch=1.22e+3]"
     ]
    },
    {
     "name": "stdout",
     "output_type": "stream",
     "text": [
      "\r",
      "Epoch 8/1000:   1%|          | 8/1000 [00:20<37:07,  2.25s/it, v_num=af3g, train_loss_step=1.67e+3, train_loss_epoch=1.21e+3]"
     ]
    },
    {
     "name": "stdout",
     "output_type": "stream",
     "text": [
      "\r",
      "Epoch 9/1000:   1%|          | 8/1000 [00:20<37:07,  2.25s/it, v_num=af3g, train_loss_step=1.67e+3, train_loss_epoch=1.21e+3]"
     ]
    },
    {
     "name": "stdout",
     "output_type": "stream",
     "text": [
      "\r",
      "Epoch 9/1000:   1%|          | 9/1000 [00:22<36:49,  2.23s/it, v_num=af3g, train_loss_step=1.67e+3, train_loss_epoch=1.21e+3]"
     ]
    },
    {
     "name": "stdout",
     "output_type": "stream",
     "text": [
      "\r",
      "Epoch 9/1000:   1%|          | 9/1000 [00:22<36:49,  2.23s/it, v_num=af3g, train_loss_step=1.14e+3, train_loss_epoch=1.21e+3]"
     ]
    },
    {
     "name": "stdout",
     "output_type": "stream",
     "text": [
      "\r",
      "Epoch 10/1000:   1%|          | 9/1000 [00:22<36:49,  2.23s/it, v_num=af3g, train_loss_step=1.14e+3, train_loss_epoch=1.21e+3]"
     ]
    },
    {
     "name": "stdout",
     "output_type": "stream",
     "text": [
      "\r",
      "Epoch 10/1000:   1%|          | 10/1000 [00:24<36:55,  2.24s/it, v_num=af3g, train_loss_step=1.14e+3, train_loss_epoch=1.21e+3]"
     ]
    },
    {
     "name": "stdout",
     "output_type": "stream",
     "text": [
      "\r",
      "Epoch 10/1000:   1%|          | 10/1000 [00:24<36:55,  2.24s/it, v_num=af3g, train_loss_step=1.74e+3, train_loss_epoch=1.21e+3]"
     ]
    },
    {
     "name": "stdout",
     "output_type": "stream",
     "text": [
      "\r",
      "Epoch 11/1000:   1%|          | 10/1000 [00:24<36:55,  2.24s/it, v_num=af3g, train_loss_step=1.74e+3, train_loss_epoch=1.21e+3]"
     ]
    },
    {
     "name": "stdout",
     "output_type": "stream",
     "text": [
      "\r",
      "Epoch 11/1000:   1%|          | 11/1000 [00:26<36:31,  2.22s/it, v_num=af3g, train_loss_step=1.74e+3, train_loss_epoch=1.21e+3]"
     ]
    },
    {
     "name": "stdout",
     "output_type": "stream",
     "text": [
      "\r",
      "Epoch 11/1000:   1%|          | 11/1000 [00:26<36:31,  2.22s/it, v_num=af3g, train_loss_step=1.64e+3, train_loss_epoch=1.2e+3] "
     ]
    },
    {
     "name": "stdout",
     "output_type": "stream",
     "text": [
      "\r",
      "Epoch 12/1000:   1%|          | 11/1000 [00:26<36:31,  2.22s/it, v_num=af3g, train_loss_step=1.64e+3, train_loss_epoch=1.2e+3]"
     ]
    },
    {
     "name": "stdout",
     "output_type": "stream",
     "text": [
      "\r",
      "Epoch 12/1000:   1%|          | 12/1000 [00:29<36:30,  2.22s/it, v_num=af3g, train_loss_step=1.64e+3, train_loss_epoch=1.2e+3]"
     ]
    },
    {
     "name": "stdout",
     "output_type": "stream",
     "text": [
      "\r",
      "Epoch 12/1000:   1%|          | 12/1000 [00:29<36:30,  2.22s/it, v_num=af3g, train_loss_step=1.32e+3, train_loss_epoch=1.2e+3]"
     ]
    },
    {
     "name": "stdout",
     "output_type": "stream",
     "text": [
      "\r",
      "Epoch 13/1000:   1%|          | 12/1000 [00:29<36:30,  2.22s/it, v_num=af3g, train_loss_step=1.32e+3, train_loss_epoch=1.2e+3]"
     ]
    },
    {
     "name": "stdout",
     "output_type": "stream",
     "text": [
      "\r",
      "Epoch 13/1000:   1%|▏         | 13/1000 [00:31<36:53,  2.24s/it, v_num=af3g, train_loss_step=1.32e+3, train_loss_epoch=1.2e+3]"
     ]
    },
    {
     "name": "stdout",
     "output_type": "stream",
     "text": [
      "\r",
      "Epoch 13/1000:   1%|▏         | 13/1000 [00:31<36:53,  2.24s/it, v_num=af3g, train_loss_step=1.29e+3, train_loss_epoch=1.2e+3]"
     ]
    },
    {
     "name": "stdout",
     "output_type": "stream",
     "text": [
      "\r",
      "Epoch 14/1000:   1%|▏         | 13/1000 [00:31<36:53,  2.24s/it, v_num=af3g, train_loss_step=1.29e+3, train_loss_epoch=1.2e+3]"
     ]
    },
    {
     "name": "stdout",
     "output_type": "stream",
     "text": [
      "\r",
      "Epoch 14/1000:   1%|▏         | 14/1000 [00:33<37:36,  2.29s/it, v_num=af3g, train_loss_step=1.29e+3, train_loss_epoch=1.2e+3]"
     ]
    },
    {
     "name": "stdout",
     "output_type": "stream",
     "text": [
      "\r",
      "Epoch 14/1000:   1%|▏         | 14/1000 [00:33<37:36,  2.29s/it, v_num=af3g, train_loss_step=1.33e+3, train_loss_epoch=1.19e+3]"
     ]
    },
    {
     "name": "stdout",
     "output_type": "stream",
     "text": [
      "\r",
      "Epoch 15/1000:   1%|▏         | 14/1000 [00:33<37:36,  2.29s/it, v_num=af3g, train_loss_step=1.33e+3, train_loss_epoch=1.19e+3]"
     ]
    },
    {
     "name": "stdout",
     "output_type": "stream",
     "text": [
      "\r",
      "Epoch 15/1000:   2%|▏         | 15/1000 [00:36<37:53,  2.31s/it, v_num=af3g, train_loss_step=1.33e+3, train_loss_epoch=1.19e+3]"
     ]
    },
    {
     "name": "stdout",
     "output_type": "stream",
     "text": [
      "\r",
      "Epoch 15/1000:   2%|▏         | 15/1000 [00:36<37:53,  2.31s/it, v_num=af3g, train_loss_step=1.54e+3, train_loss_epoch=1.19e+3]"
     ]
    },
    {
     "name": "stdout",
     "output_type": "stream",
     "text": [
      "\r",
      "Epoch 16/1000:   2%|▏         | 15/1000 [00:36<37:53,  2.31s/it, v_num=af3g, train_loss_step=1.54e+3, train_loss_epoch=1.19e+3]"
     ]
    },
    {
     "name": "stdout",
     "output_type": "stream",
     "text": [
      "\r",
      "Epoch 16/1000:   2%|▏         | 16/1000 [00:38<38:17,  2.33s/it, v_num=af3g, train_loss_step=1.54e+3, train_loss_epoch=1.19e+3]"
     ]
    },
    {
     "name": "stdout",
     "output_type": "stream",
     "text": [
      "\r",
      "Epoch 16/1000:   2%|▏         | 16/1000 [00:38<38:17,  2.33s/it, v_num=af3g, train_loss_step=1.29e+3, train_loss_epoch=1.19e+3]"
     ]
    },
    {
     "name": "stdout",
     "output_type": "stream",
     "text": [
      "\r",
      "Epoch 17/1000:   2%|▏         | 16/1000 [00:38<38:17,  2.33s/it, v_num=af3g, train_loss_step=1.29e+3, train_loss_epoch=1.19e+3]"
     ]
    },
    {
     "name": "stdout",
     "output_type": "stream",
     "text": [
      "\r",
      "Epoch 17/1000:   2%|▏         | 17/1000 [00:41<38:34,  2.35s/it, v_num=af3g, train_loss_step=1.29e+3, train_loss_epoch=1.19e+3]"
     ]
    },
    {
     "name": "stdout",
     "output_type": "stream",
     "text": [
      "\r",
      "Epoch 17/1000:   2%|▏         | 17/1000 [00:41<38:34,  2.35s/it, v_num=af3g, train_loss_step=1.11e+3, train_loss_epoch=1.19e+3]"
     ]
    },
    {
     "name": "stdout",
     "output_type": "stream",
     "text": [
      "\r",
      "Epoch 18/1000:   2%|▏         | 17/1000 [00:41<38:34,  2.35s/it, v_num=af3g, train_loss_step=1.11e+3, train_loss_epoch=1.19e+3]"
     ]
    },
    {
     "name": "stdout",
     "output_type": "stream",
     "text": [
      "\r",
      "Epoch 18/1000:   2%|▏         | 18/1000 [00:43<38:35,  2.36s/it, v_num=af3g, train_loss_step=1.11e+3, train_loss_epoch=1.19e+3]"
     ]
    },
    {
     "name": "stdout",
     "output_type": "stream",
     "text": [
      "\r",
      "Epoch 18/1000:   2%|▏         | 18/1000 [00:43<38:35,  2.36s/it, v_num=af3g, train_loss_step=892, train_loss_epoch=1.18e+3]    "
     ]
    },
    {
     "name": "stdout",
     "output_type": "stream",
     "text": [
      "\r",
      "Epoch 19/1000:   2%|▏         | 18/1000 [00:43<38:35,  2.36s/it, v_num=af3g, train_loss_step=892, train_loss_epoch=1.18e+3]"
     ]
    },
    {
     "name": "stdout",
     "output_type": "stream",
     "text": [
      "\r",
      "Epoch 19/1000:   2%|▏         | 19/1000 [00:45<38:33,  2.36s/it, v_num=af3g, train_loss_step=892, train_loss_epoch=1.18e+3]"
     ]
    },
    {
     "name": "stdout",
     "output_type": "stream",
     "text": [
      "\r",
      "Epoch 19/1000:   2%|▏         | 19/1000 [00:45<38:33,  2.36s/it, v_num=af3g, train_loss_step=1.14e+3, train_loss_epoch=1.18e+3]"
     ]
    },
    {
     "name": "stdout",
     "output_type": "stream",
     "text": [
      "\r",
      "Epoch 20/1000:   2%|▏         | 19/1000 [00:45<38:33,  2.36s/it, v_num=af3g, train_loss_step=1.14e+3, train_loss_epoch=1.18e+3]"
     ]
    },
    {
     "name": "stdout",
     "output_type": "stream",
     "text": [
      "\r",
      "Epoch 20/1000:   2%|▏         | 20/1000 [00:48<38:38,  2.37s/it, v_num=af3g, train_loss_step=1.14e+3, train_loss_epoch=1.18e+3]"
     ]
    },
    {
     "name": "stdout",
     "output_type": "stream",
     "text": [
      "\r",
      "Epoch 20/1000:   2%|▏         | 20/1000 [00:48<38:38,  2.37s/it, v_num=af3g, train_loss_step=1.02e+3, train_loss_epoch=1.18e+3]"
     ]
    },
    {
     "name": "stdout",
     "output_type": "stream",
     "text": [
      "\r",
      "Epoch 21/1000:   2%|▏         | 20/1000 [00:48<38:38,  2.37s/it, v_num=af3g, train_loss_step=1.02e+3, train_loss_epoch=1.18e+3]"
     ]
    },
    {
     "name": "stdout",
     "output_type": "stream",
     "text": [
      "\r",
      "Epoch 21/1000:   2%|▏         | 21/1000 [00:50<38:40,  2.37s/it, v_num=af3g, train_loss_step=1.02e+3, train_loss_epoch=1.18e+3]"
     ]
    },
    {
     "name": "stdout",
     "output_type": "stream",
     "text": [
      "\r",
      "Epoch 21/1000:   2%|▏         | 21/1000 [00:50<38:40,  2.37s/it, v_num=af3g, train_loss_step=1.27e+3, train_loss_epoch=1.18e+3]"
     ]
    },
    {
     "name": "stdout",
     "output_type": "stream",
     "text": [
      "\r",
      "Epoch 22/1000:   2%|▏         | 21/1000 [00:50<38:40,  2.37s/it, v_num=af3g, train_loss_step=1.27e+3, train_loss_epoch=1.18e+3]"
     ]
    },
    {
     "name": "stdout",
     "output_type": "stream",
     "text": [
      "\r",
      "Epoch 22/1000:   2%|▏         | 22/1000 [00:52<38:47,  2.38s/it, v_num=af3g, train_loss_step=1.27e+3, train_loss_epoch=1.18e+3]"
     ]
    },
    {
     "name": "stdout",
     "output_type": "stream",
     "text": [
      "\r",
      "Epoch 22/1000:   2%|▏         | 22/1000 [00:52<38:47,  2.38s/it, v_num=af3g, train_loss_step=1.17e+3, train_loss_epoch=1.17e+3]"
     ]
    },
    {
     "name": "stdout",
     "output_type": "stream",
     "text": [
      "\r",
      "Epoch 23/1000:   2%|▏         | 22/1000 [00:52<38:47,  2.38s/it, v_num=af3g, train_loss_step=1.17e+3, train_loss_epoch=1.17e+3]"
     ]
    },
    {
     "name": "stdout",
     "output_type": "stream",
     "text": [
      "\r",
      "Epoch 23/1000:   2%|▏         | 23/1000 [00:55<38:52,  2.39s/it, v_num=af3g, train_loss_step=1.17e+3, train_loss_epoch=1.17e+3]"
     ]
    },
    {
     "name": "stdout",
     "output_type": "stream",
     "text": [
      "\r",
      "Epoch 23/1000:   2%|▏         | 23/1000 [00:55<38:52,  2.39s/it, v_num=af3g, train_loss_step=801, train_loss_epoch=1.17e+3]    "
     ]
    },
    {
     "name": "stdout",
     "output_type": "stream",
     "text": [
      "\r",
      "Epoch 24/1000:   2%|▏         | 23/1000 [00:55<38:52,  2.39s/it, v_num=af3g, train_loss_step=801, train_loss_epoch=1.17e+3]"
     ]
    },
    {
     "name": "stdout",
     "output_type": "stream",
     "text": [
      "\r",
      "Epoch 24/1000:   2%|▏         | 24/1000 [00:57<38:44,  2.38s/it, v_num=af3g, train_loss_step=801, train_loss_epoch=1.17e+3]"
     ]
    },
    {
     "name": "stdout",
     "output_type": "stream",
     "text": [
      "\r",
      "Epoch 24/1000:   2%|▏         | 24/1000 [00:57<38:44,  2.38s/it, v_num=af3g, train_loss_step=1.23e+3, train_loss_epoch=1.17e+3]"
     ]
    },
    {
     "name": "stdout",
     "output_type": "stream",
     "text": [
      "\r",
      "Epoch 25/1000:   2%|▏         | 24/1000 [00:57<38:44,  2.38s/it, v_num=af3g, train_loss_step=1.23e+3, train_loss_epoch=1.17e+3]"
     ]
    },
    {
     "name": "stdout",
     "output_type": "stream",
     "text": [
      "\r",
      "Epoch 25/1000:   2%|▎         | 25/1000 [01:00<38:41,  2.38s/it, v_num=af3g, train_loss_step=1.23e+3, train_loss_epoch=1.17e+3]"
     ]
    },
    {
     "name": "stdout",
     "output_type": "stream",
     "text": [
      "\r",
      "Epoch 25/1000:   2%|▎         | 25/1000 [01:00<38:41,  2.38s/it, v_num=af3g, train_loss_step=887, train_loss_epoch=1.17e+3]    "
     ]
    },
    {
     "name": "stdout",
     "output_type": "stream",
     "text": [
      "\r",
      "Epoch 26/1000:   2%|▎         | 25/1000 [01:00<38:41,  2.38s/it, v_num=af3g, train_loss_step=887, train_loss_epoch=1.17e+3]"
     ]
    },
    {
     "name": "stdout",
     "output_type": "stream",
     "text": [
      "\r",
      "Epoch 26/1000:   3%|▎         | 26/1000 [01:02<38:55,  2.40s/it, v_num=af3g, train_loss_step=887, train_loss_epoch=1.17e+3]"
     ]
    },
    {
     "name": "stdout",
     "output_type": "stream",
     "text": [
      "\r",
      "Epoch 26/1000:   3%|▎         | 26/1000 [01:02<38:55,  2.40s/it, v_num=af3g, train_loss_step=1.2e+3, train_loss_epoch=1.17e+3]"
     ]
    },
    {
     "name": "stdout",
     "output_type": "stream",
     "text": [
      "\r",
      "Epoch 27/1000:   3%|▎         | 26/1000 [01:02<38:55,  2.40s/it, v_num=af3g, train_loss_step=1.2e+3, train_loss_epoch=1.17e+3]"
     ]
    },
    {
     "name": "stdout",
     "output_type": "stream",
     "text": [
      "\r",
      "Epoch 27/1000:   3%|▎         | 27/1000 [01:04<38:48,  2.39s/it, v_num=af3g, train_loss_step=1.2e+3, train_loss_epoch=1.17e+3]"
     ]
    },
    {
     "name": "stdout",
     "output_type": "stream",
     "text": [
      "\r",
      "Epoch 27/1000:   3%|▎         | 27/1000 [01:04<38:48,  2.39s/it, v_num=af3g, train_loss_step=2.09e+3, train_loss_epoch=1.16e+3]"
     ]
    },
    {
     "name": "stdout",
     "output_type": "stream",
     "text": [
      "\r",
      "Epoch 28/1000:   3%|▎         | 27/1000 [01:04<38:48,  2.39s/it, v_num=af3g, train_loss_step=2.09e+3, train_loss_epoch=1.16e+3]"
     ]
    },
    {
     "name": "stdout",
     "output_type": "stream",
     "text": [
      "\r",
      "Epoch 28/1000:   3%|▎         | 28/1000 [01:07<38:40,  2.39s/it, v_num=af3g, train_loss_step=2.09e+3, train_loss_epoch=1.16e+3]"
     ]
    },
    {
     "name": "stdout",
     "output_type": "stream",
     "text": [
      "\r",
      "Epoch 28/1000:   3%|▎         | 28/1000 [01:07<38:40,  2.39s/it, v_num=af3g, train_loss_step=1.41e+3, train_loss_epoch=1.17e+3]"
     ]
    },
    {
     "name": "stdout",
     "output_type": "stream",
     "text": [
      "\r",
      "Epoch 28/1000:   3%|▎         | 28/1000 [01:07<38:56,  2.40s/it, v_num=af3g, train_loss_step=1.41e+3, train_loss_epoch=1.17e+3]"
     ]
    },
    {
     "name": "stdout",
     "output_type": "stream",
     "text": [
      "\n",
      "Monitored metric reconstruction_loss_validation did not improve in the last 10 records. Best score: 1209.200. Signaling Trainer to stop.\n"
     ]
    }
   ],
   "source": [
    "model.train(logger=logger, plan_kwargs = plan_kwargs, **trainer_kwargs)"
   ]
  },
  {
   "cell_type": "code",
   "execution_count": 15,
   "id": "c282f6eb-0ad1-40a5-81e6-1acda1545dad",
   "metadata": {
    "execution": {
     "iopub.execute_input": "2024-05-03T19:07:16.951852Z",
     "iopub.status.busy": "2024-05-03T19:07:16.951556Z",
     "iopub.status.idle": "2024-05-03T19:07:22.421333Z",
     "shell.execute_reply": "2024-05-03T19:07:22.420629Z"
    },
    "papermill": {
     "duration": 5.481762,
     "end_time": "2024-05-03T19:07:22.423329",
     "exception": false,
     "start_time": "2024-05-03T19:07:16.941567",
     "status": "completed"
    },
    "tags": []
   },
   "outputs": [
    {
     "name": "stderr",
     "output_type": "stream",
     "text": [
      "\u001b[34m\u001b[1mwandb\u001b[0m: - 0.003 MB of 0.003 MB uploaded\r"
     ]
    },
    {
     "name": "stderr",
     "output_type": "stream",
     "text": [
      "\u001b[34m\u001b[1mwandb\u001b[0m: \\ 0.003 MB of 0.003 MB uploaded\r"
     ]
    },
    {
     "name": "stderr",
     "output_type": "stream",
     "text": [
      "\u001b[34m\u001b[1mwandb\u001b[0m: | 0.003 MB of 0.007 MB uploaded\r"
     ]
    },
    {
     "name": "stderr",
     "output_type": "stream",
     "text": [
      "\u001b[34m\u001b[1mwandb\u001b[0m: / 0.003 MB of 0.007 MB uploaded\r"
     ]
    },
    {
     "name": "stderr",
     "output_type": "stream",
     "text": [
      "\u001b[34m\u001b[1mwandb\u001b[0m: - 0.009 MB of 0.009 MB uploaded\r"
     ]
    },
    {
     "name": "stderr",
     "output_type": "stream",
     "text": [
      "\u001b[34m\u001b[1mwandb\u001b[0m:                                                                                \n"
     ]
    },
    {
     "name": "stderr",
     "output_type": "stream",
     "text": [
      "\u001b[34m\u001b[1mwandb\u001b[0m: \n",
      "\u001b[34m\u001b[1mwandb\u001b[0m: Run history:\n",
      "\u001b[34m\u001b[1mwandb\u001b[0m:                     elbo_train █▆▅▅▅▅▄▄▄▄▃▃▃▃▃▂▂▂▂▂▂▂▁▁▁▁▁▁\n",
      "\u001b[34m\u001b[1mwandb\u001b[0m:                elbo_validation █▄▄▃▃▃▂▂▂▂▂▁▁▁▁▁▁▁▁▁▁▁▁▁▁▁▁▁\n",
      "\u001b[34m\u001b[1mwandb\u001b[0m:                          epoch ▁▁▁▂▂▂▂▂▂▃▃▃▃▃▄▄▄▄▄▄▅▅▅▅▅▅▆▆▆▆▆▇▇▇▇▇▇███\n",
      "\u001b[34m\u001b[1mwandb\u001b[0m:                kl_global_train ▁▁▁▁▁▁▁▁▁▁▁▁▁▁▁▁▁▁▁▁▁▁▁▁▁▁▁▁\n",
      "\u001b[34m\u001b[1mwandb\u001b[0m:           kl_global_validation ▁▁▁▁▁▁▁▁▁▁▁▁▁▁▁▁▁▁▁▁▁▁▁▁▁▁▁▁\n",
      "\u001b[34m\u001b[1mwandb\u001b[0m:                 kl_local_train ▁▇▇██▇▇▆▆▆▅▅▅▅▅▄▄▄▄▄▄▄▄▄▄▄▄▄\n",
      "\u001b[34m\u001b[1mwandb\u001b[0m:            kl_local_validation ▁▅▇█▇▇▇▆▆▆▆▆▆▆▆▆▆▆▆▆▆▅▅▆▅▅▅▆\n",
      "\u001b[34m\u001b[1mwandb\u001b[0m:                      kl_weight ▁▁▁▂▂▂▂▂▂▃▃▃▃▃▄▄▄▄▄▄▅▅▅▅▅▅▆▆▆▆▆▇▇▇▇▇▇███\n",
      "\u001b[34m\u001b[1mwandb\u001b[0m:      reconstruction_loss_train █▅▅▅▄▄▄▄▄▃▃▃▃▃▂▂▂▂▂▂▂▂▁▁▁▁▁▁\n",
      "\u001b[34m\u001b[1mwandb\u001b[0m: reconstruction_loss_validation █▄▃▂▂▂▂▂▁▁▁▁▁▁▁▁▁▁▁▁▁▁▁▁▁▁▁▁\n",
      "\u001b[34m\u001b[1mwandb\u001b[0m:               train_loss_epoch █▅▅▅▄▄▄▄▄▃▃▃▃▃▂▂▂▂▂▂▂▂▁▁▁▁▁▁\n",
      "\u001b[34m\u001b[1mwandb\u001b[0m:                train_loss_step █▆█▆▇▄▆▆▇▆▆▇▅▅▆▅▆▅▆▄▆▆▅▅▆▅▅▆▁▅▅▅▅▅▅▄▅▄▄▅\n",
      "\u001b[34m\u001b[1mwandb\u001b[0m:            trainer/global_step ▁▁▁▁▂▂▂▂▂▃▃▃▃▃▃▄▄▄▄▄▅▅▅▅▅▅▆▆▆▆▆▇▇▇▇▇▇███\n",
      "\u001b[34m\u001b[1mwandb\u001b[0m:                validation_loss █▄▃▂▂▂▂▂▁▁▁▁▁▁▁▁▁▁▁▁▁▁▁▁▁▁▁▁\n",
      "\u001b[34m\u001b[1mwandb\u001b[0m: \n",
      "\u001b[34m\u001b[1mwandb\u001b[0m: Run summary:\n",
      "\u001b[34m\u001b[1mwandb\u001b[0m:                     elbo_train 1189.96704\n",
      "\u001b[34m\u001b[1mwandb\u001b[0m:                elbo_validation 1236.04089\n",
      "\u001b[34m\u001b[1mwandb\u001b[0m:                          epoch 27\n",
      "\u001b[34m\u001b[1mwandb\u001b[0m:                kl_global_train 0.0\n",
      "\u001b[34m\u001b[1mwandb\u001b[0m:           kl_global_validation 0.0\n",
      "\u001b[34m\u001b[1mwandb\u001b[0m:                 kl_local_train 25.80283\n",
      "\u001b[34m\u001b[1mwandb\u001b[0m:            kl_local_validation 24.6237\n",
      "\u001b[34m\u001b[1mwandb\u001b[0m:                      kl_weight 0.0675\n",
      "\u001b[34m\u001b[1mwandb\u001b[0m:      reconstruction_loss_train 1164.16418\n",
      "\u001b[34m\u001b[1mwandb\u001b[0m: reconstruction_loss_validation 1211.41724\n",
      "\u001b[34m\u001b[1mwandb\u001b[0m:               train_loss_epoch 1165.90625\n",
      "\u001b[34m\u001b[1mwandb\u001b[0m:                train_loss_step 1128.67749\n",
      "\u001b[34m\u001b[1mwandb\u001b[0m:            trainer/global_step 4535\n",
      "\u001b[34m\u001b[1mwandb\u001b[0m:                validation_loss 1213.07935\n",
      "\u001b[34m\u001b[1mwandb\u001b[0m: \n"
     ]
    },
    {
     "name": "stderr",
     "output_type": "stream",
     "text": [
      "\u001b[34m\u001b[1mwandb\u001b[0m: 🚀 View run \u001b[33mStep3_pDC\u001b[0m at: \u001b[34m\u001b[4mhttps://wandb.ai/inflammation/inflammation_atlas_R1/runs/g7fyaf3g\u001b[0m\n",
      "\u001b[34m\u001b[1mwandb\u001b[0m: Synced 5 W&B file(s), 0 media file(s), 0 artifact file(s) and 0 other file(s)\n"
     ]
    },
    {
     "name": "stderr",
     "output_type": "stream",
     "text": [
      "\u001b[34m\u001b[1mwandb\u001b[0m: Find logs at: \u001b[35m\u001b[1m./wandb/run-20240503_190608-g7fyaf3g/logs\u001b[0m\n"
     ]
    }
   ],
   "source": [
    "wandb.finish()"
   ]
  },
  {
   "cell_type": "markdown",
   "id": "d9fb1179-83c7-4ac6-b4aa-92dc7a349801",
   "metadata": {
    "papermill": {
     "duration": 0.009039,
     "end_time": "2024-05-03T19:07:22.441934",
     "exception": false,
     "start_time": "2024-05-03T19:07:22.432895",
     "status": "completed"
    },
    "tags": []
   },
   "source": [
    "### Extracting embedding space"
   ]
  },
  {
   "cell_type": "code",
   "execution_count": 16,
   "id": "caaa5832-0123-4c59-8ec6-f46a75f7a14e",
   "metadata": {
    "execution": {
     "iopub.execute_input": "2024-05-03T19:07:22.461745Z",
     "iopub.status.busy": "2024-05-03T19:07:22.461053Z",
     "iopub.status.idle": "2024-05-03T19:07:23.389829Z",
     "shell.execute_reply": "2024-05-03T19:07:23.389145Z"
    },
    "papermill": {
     "duration": 0.940994,
     "end_time": "2024-05-03T19:07:23.392002",
     "exception": false,
     "start_time": "2024-05-03T19:07:22.451008",
     "status": "completed"
    },
    "tags": []
   },
   "outputs": [],
   "source": [
    "adata.obsm['X_scVI'] = model.get_latent_representation()"
   ]
  },
  {
   "cell_type": "markdown",
   "id": "2f03e70b-839c-40a6-9fbb-d76bbd787419",
   "metadata": {
    "papermill": {
     "duration": 0.008901,
     "end_time": "2024-05-03T19:07:23.410175",
     "exception": false,
     "start_time": "2024-05-03T19:07:23.401274",
     "status": "completed"
    },
    "tags": []
   },
   "source": [
    "## Save the results"
   ]
  },
  {
   "cell_type": "code",
   "execution_count": 17,
   "id": "7b04049b-47fd-4b62-a1c0-c43dcc086d34",
   "metadata": {
    "execution": {
     "iopub.execute_input": "2024-05-03T19:07:23.429978Z",
     "iopub.status.busy": "2024-05-03T19:07:23.429076Z",
     "iopub.status.idle": "2024-05-03T19:07:27.591933Z",
     "shell.execute_reply": "2024-05-03T19:07:27.591206Z"
    },
    "papermill": {
     "duration": 4.174908,
     "end_time": "2024-05-03T19:07:27.593949",
     "exception": false,
     "start_time": "2024-05-03T19:07:23.419041",
     "status": "completed"
    },
    "tags": []
   },
   "outputs": [],
   "source": [
    "if overwriteData:\n",
    "    adata.write(here(f\"{workDir}/{cellGroup}/results/02_{annotationLevel}_{cellGroup}_HVGsubset_scVI.h5ad\"), compression=\"gzip\")\n",
    "    model.save(here(f\"{workDir}/{cellGroup}/results/02_{annotationLevel}_{cellGroup}_HVGsubset_scVI_MODEL/\"),\n",
    "               overwrite = True, \n",
    "               save_anndata = False )   "
   ]
  },
  {
   "cell_type": "code",
   "execution_count": 18,
   "id": "629ba2bd-f6be-44ef-8fca-bbdf891bf25f",
   "metadata": {
    "execution": {
     "iopub.execute_input": "2024-05-03T19:07:27.613563Z",
     "iopub.status.busy": "2024-05-03T19:07:27.613024Z",
     "iopub.status.idle": "2024-05-03T19:07:27.616466Z",
     "shell.execute_reply": "2024-05-03T19:07:27.615676Z"
    },
    "papermill": {
     "duration": 0.014933,
     "end_time": "2024-05-03T19:07:27.618029",
     "exception": false,
     "start_time": "2024-05-03T19:07:27.603096",
     "status": "completed"
    },
    "tags": []
   },
   "outputs": [],
   "source": [
    "# To load the model do (after loading corresponding adata):\n",
    "# model = scvi.model.SCVI.load(here('{}/results/01_{}_HVGsubset_scVI_MODEL/'.format(workDir, cellGroup)), \n",
    "#                              adata, \n",
    "#                              use_gpu=True)"
   ]
  },
  {
   "cell_type": "raw",
   "id": "975e84d0-f56b-498d-b3a8-c9219cf22e53",
   "metadata": {
    "papermill": {
     "duration": 0.00867,
     "end_time": "2024-05-03T19:07:27.635364",
     "exception": false,
     "start_time": "2024-05-03T19:07:27.626694",
     "status": "completed"
    },
    "tags": []
   },
   "source": [
    "session_info.show()"
   ]
  }
 ],
 "metadata": {
  "kernelspec": {
   "display_name": "Python 3 (ipykernel)",
   "language": "python",
   "name": "python3"
  },
  "language_info": {
   "codemirror_mode": {
    "name": "ipython",
    "version": 3
   },
   "file_extension": ".py",
   "mimetype": "text/x-python",
   "name": "python",
   "nbconvert_exporter": "python",
   "pygments_lexer": "ipython3",
   "version": "3.9.18"
  },
  "papermill": {
   "default_parameters": {},
   "duration": 104.165142,
   "end_time": "2024-05-03T19:07:30.463138",
   "environment_variables": {},
   "exception": null,
   "input_path": "./pDC/02_integration_scVI.ipynb",
   "output_path": "./pDC/02_integration_scVI_executed.ipynb",
   "parameters": {},
   "start_time": "2024-05-03T19:05:46.297996",
   "version": "2.5.0"
  }
 },
 "nbformat": 4,
 "nbformat_minor": 5
}