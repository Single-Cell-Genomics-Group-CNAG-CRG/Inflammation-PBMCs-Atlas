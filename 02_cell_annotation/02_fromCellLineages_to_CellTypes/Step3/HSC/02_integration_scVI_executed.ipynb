{
 "cells": [
  {
   "cell_type": "code",
   "execution_count": 1,
   "id": "2dd1425a-0c07-465e-b522-9e3cc5cb93a7",
   "metadata": {
    "execution": {
     "iopub.execute_input": "2024-05-03T19:30:23.417977Z",
     "iopub.status.busy": "2024-05-03T19:30:23.417624Z",
     "iopub.status.idle": "2024-05-03T19:30:28.599073Z",
     "shell.execute_reply": "2024-05-03T19:30:28.598418Z"
    },
    "papermill": {
     "duration": 5.189285,
     "end_time": "2024-05-03T19:30:28.600921",
     "exception": false,
     "start_time": "2024-05-03T19:30:23.411636",
     "status": "completed"
    },
    "tags": []
   },
   "outputs": [
    {
     "data": {
      "text/plain": [
       "True"
      ]
     },
     "execution_count": 1,
     "metadata": {},
     "output_type": "execute_result"
    }
   ],
   "source": [
    "import os\n",
    "import sys\n",
    "\n",
    "import numpy as np\n",
    "import matplotlib.pyplot as plt\n",
    "\n",
    "import scanpy as sc\n",
    "import scvi\n",
    "import torch\n",
    "\n",
    "from pytorch_lightning.loggers import WandbLogger\n",
    "import wandb\n",
    "from dotenv import load_dotenv\n",
    "\n",
    "import session_info\n",
    "import warnings\n",
    "from pyprojroot.here import here\n",
    "\n",
    "warnings.filterwarnings(\"ignore\")\n",
    "sys.path.insert(1, str(here('bin')))\n",
    "\n",
    "torch.set_float32_matmul_precision('high')\n",
    "\n",
    "#plt.style.use(['science','nature','no-latex'])\n",
    "dpi_fig_save = 300\n",
    "sc.set_figure_params(dpi=100, dpi_save=dpi_fig_save, vector_friendly=True)\n",
    "\n",
    "load_dotenv(here('.env'))"
   ]
  },
  {
   "cell_type": "code",
   "execution_count": 2,
   "id": "09c897fc-744b-43de-a681-718fb5d327fa",
   "metadata": {
    "execution": {
     "iopub.execute_input": "2024-05-03T19:30:28.611390Z",
     "iopub.status.busy": "2024-05-03T19:30:28.611096Z",
     "iopub.status.idle": "2024-05-03T19:30:28.615231Z",
     "shell.execute_reply": "2024-05-03T19:30:28.614536Z"
    },
    "papermill": {
     "duration": 0.010555,
     "end_time": "2024-05-03T19:30:28.616886",
     "exception": false,
     "start_time": "2024-05-03T19:30:28.606331",
     "status": "completed"
    },
    "tags": []
   },
   "outputs": [],
   "source": [
    "class CustomWandbLogger(WandbLogger):\n",
    "    @property\n",
    "    def save_dir(self):\n",
    "        return self.experiment.dir"
   ]
  },
  {
   "cell_type": "code",
   "execution_count": 3,
   "id": "8ee6662f-5d45-4137-80a5-bb0b9ae8d71f",
   "metadata": {
    "execution": {
     "iopub.execute_input": "2024-05-03T19:30:28.625120Z",
     "iopub.status.busy": "2024-05-03T19:30:28.624634Z",
     "iopub.status.idle": "2024-05-03T19:30:28.630368Z",
     "shell.execute_reply": "2024-05-03T19:30:28.629799Z"
    },
    "papermill": {
     "duration": 0.011657,
     "end_time": "2024-05-03T19:30:28.631851",
     "exception": false,
     "start_time": "2024-05-03T19:30:28.620194",
     "status": "completed"
    },
    "tags": []
   },
   "outputs": [
    {
     "name": "stderr",
     "output_type": "stream",
     "text": [
      "Seed set to 0\n"
     ]
    },
    {
     "name": "stdout",
     "output_type": "stream",
     "text": [
      "Last run with scvi-tools version: 1.1.2\n"
     ]
    }
   ],
   "source": [
    "scvi.settings.seed = 0\n",
    "print(\"Last run with scvi-tools version:\", scvi.__version__)"
   ]
  },
  {
   "cell_type": "markdown",
   "id": "a81037ff-5998-482a-ba86-520f757311a9",
   "metadata": {
    "papermill": {
     "duration": 0.003374,
     "end_time": "2024-05-03T19:30:28.638724",
     "exception": false,
     "start_time": "2024-05-03T19:30:28.635350",
     "status": "completed"
    },
    "tags": []
   },
   "source": [
    "**Setting parameters** "
   ]
  },
  {
   "cell_type": "code",
   "execution_count": 4,
   "id": "56c27966-8f10-4c93-8b1a-1fa75f005e41",
   "metadata": {
    "execution": {
     "iopub.execute_input": "2024-05-03T19:30:28.647028Z",
     "iopub.status.busy": "2024-05-03T19:30:28.646788Z",
     "iopub.status.idle": "2024-05-03T19:30:28.649984Z",
     "shell.execute_reply": "2024-05-03T19:30:28.649418Z"
    },
    "papermill": {
     "duration": 0.00935,
     "end_time": "2024-05-03T19:30:28.651465",
     "exception": false,
     "start_time": "2024-05-03T19:30:28.642115",
     "status": "completed"
    },
    "tags": []
   },
   "outputs": [],
   "source": [
    "overwriteFigures = True\n",
    "overwriteData = True"
   ]
  },
  {
   "cell_type": "code",
   "execution_count": 5,
   "id": "c86fccd3-a4fe-415b-8f4e-e2ceb3ec128a",
   "metadata": {
    "execution": {
     "iopub.execute_input": "2024-05-03T19:30:28.659591Z",
     "iopub.status.busy": "2024-05-03T19:30:28.659347Z",
     "iopub.status.idle": "2024-05-03T19:30:28.662535Z",
     "shell.execute_reply": "2024-05-03T19:30:28.661992Z"
    },
    "papermill": {
     "duration": 0.009117,
     "end_time": "2024-05-03T19:30:28.663989",
     "exception": false,
     "start_time": "2024-05-03T19:30:28.654872",
     "status": "completed"
    },
    "tags": []
   },
   "outputs": [],
   "source": [
    "cellGroup = 'HSC'\n",
    "workDir = os.getcwd()"
   ]
  },
  {
   "cell_type": "code",
   "execution_count": 6,
   "id": "2dee4d55-d168-467b-b867-a61fed9d6af1",
   "metadata": {
    "execution": {
     "iopub.execute_input": "2024-05-03T19:30:28.672119Z",
     "iopub.status.busy": "2024-05-03T19:30:28.671886Z",
     "iopub.status.idle": "2024-05-03T19:30:28.675401Z",
     "shell.execute_reply": "2024-05-03T19:30:28.674682Z"
    },
    "papermill": {
     "duration": 0.009808,
     "end_time": "2024-05-03T19:30:28.677073",
     "exception": false,
     "start_time": "2024-05-03T19:30:28.667265",
     "status": "completed"
    },
    "tags": []
   },
   "outputs": [],
   "source": [
    "annotationLevel = os.path.basename(os.path.normpath(workDir))"
   ]
  },
  {
   "cell_type": "code",
   "execution_count": 7,
   "id": "11e53cd5-b746-4152-89cb-c2f0c15d90b3",
   "metadata": {
    "execution": {
     "iopub.execute_input": "2024-05-03T19:30:28.769115Z",
     "iopub.status.busy": "2024-05-03T19:30:28.768234Z",
     "iopub.status.idle": "2024-05-03T19:30:28.773377Z",
     "shell.execute_reply": "2024-05-03T19:30:28.772690Z"
    },
    "papermill": {
     "duration": 0.088893,
     "end_time": "2024-05-03T19:30:28.775678",
     "exception": false,
     "start_time": "2024-05-03T19:30:28.686785",
     "status": "completed"
    },
    "tags": []
   },
   "outputs": [
    {
     "data": {
      "text/plain": [
       "'/home/jupyter/Inflammation-PBMCs-Atlas/02_cell_annotation/02_fromCellLineages_to_CellTypes/Step3'"
      ]
     },
     "execution_count": 7,
     "metadata": {},
     "output_type": "execute_result"
    }
   ],
   "source": [
    "workDir"
   ]
  },
  {
   "cell_type": "markdown",
   "id": "171d2f06-9a44-4fcb-b437-35dc546674b6",
   "metadata": {
    "papermill": {
     "duration": 0.005438,
     "end_time": "2024-05-03T19:30:28.847688",
     "exception": false,
     "start_time": "2024-05-03T19:30:28.842250",
     "status": "completed"
    },
    "tags": []
   },
   "source": [
    "**Load data**"
   ]
  },
  {
   "cell_type": "code",
   "execution_count": 8,
   "id": "429f34fe-dde6-4cc9-9f75-7de8f85c5ffe",
   "metadata": {
    "execution": {
     "iopub.execute_input": "2024-05-03T19:30:28.908808Z",
     "iopub.status.busy": "2024-05-03T19:30:28.908256Z",
     "iopub.status.idle": "2024-05-03T19:30:29.218153Z",
     "shell.execute_reply": "2024-05-03T19:30:29.217456Z"
    },
    "papermill": {
     "duration": 0.318068,
     "end_time": "2024-05-03T19:30:29.219914",
     "exception": false,
     "start_time": "2024-05-03T19:30:28.901846",
     "status": "completed"
    },
    "tags": []
   },
   "outputs": [
    {
     "data": {
      "text/plain": [
       "AnnData object with n_obs × n_vars = 5178 × 2068\n",
       "    obs: 'studyID', 'libraryID', 'sampleID', 'chemistry', 'technology', 'patientID', 'disease', 'timepoint_replicate', 'treatmentStatus', 'therapyResponse', 'sex', 'age', 'BMI', 'binned_age', 'diseaseStatus', 'smokingStatus', 'ethnicity', 'institute', 'diseaseGroup', 'n_genes_by_counts', 'log1p_n_genes_by_counts', 'total_counts', 'log1p_total_counts', 'pct_counts_in_top_20_genes', 'total_counts_mt', 'log1p_total_counts_mt', 'pct_counts_mt', 'total_counts_ribo', 'log1p_total_counts_ribo', 'pct_counts_ribo', 'total_counts_hb', 'log1p_total_counts_hb', 'pct_counts_hb', 'total_counts_plt', 'log1p_total_counts_plt', 'pct_counts_plt', 'doublet_score', 'predicted_doublet', 'S_score', 'G2M_score', 'phase'\n",
       "    var: 'hgnc_id', 'symbol', 'locus_group', 'HUGO_status', 'mt', 'ribo', 'hb', 'plt', 'n_cells_by_counts', 'mean_counts', 'log1p_mean_counts', 'pct_dropout_by_counts', 'total_counts', 'log1p_total_counts', 'highly_variable'\n",
       "    uns: 'chemistry_colors', 'log1p'\n",
       "    layers: 'counts', 'log1p_10e4_counts'"
      ]
     },
     "execution_count": 8,
     "metadata": {},
     "output_type": "execute_result"
    }
   ],
   "source": [
    "adata = sc.read_h5ad(here(f\"{workDir}/{cellGroup}/results/01_{cellGroup}_normalized_HVGsubset.h5ad\"))\n",
    "adata"
   ]
  },
  {
   "cell_type": "markdown",
   "id": "8ac79f3b-d5af-41fa-8904-1e9ac1cbe2fb",
   "metadata": {
    "papermill": {
     "duration": 0.004891,
     "end_time": "2024-05-03T19:30:29.228805",
     "exception": false,
     "start_time": "2024-05-03T19:30:29.223914",
     "status": "completed"
    },
    "tags": []
   },
   "source": [
    "## scVI integration"
   ]
  },
  {
   "cell_type": "markdown",
   "id": "9544847d-d17f-4811-b14b-760446d54d32",
   "metadata": {
    "execution": {
     "iopub.execute_input": "2024-03-25T16:49:04.004504Z",
     "iopub.status.busy": "2024-03-25T16:49:04.004143Z",
     "iopub.status.idle": "2024-03-25T16:49:04.010148Z",
     "shell.execute_reply": "2024-03-25T16:49:04.009146Z",
     "shell.execute_reply.started": "2024-03-25T16:49:04.004477Z"
    },
    "papermill": {
     "duration": 0.00385,
     "end_time": "2024-05-03T19:30:29.236356",
     "exception": false,
     "start_time": "2024-05-03T19:30:29.232506",
     "status": "completed"
    },
    "tags": []
   },
   "source": [
    "**scVI parameters**"
   ]
  },
  {
   "cell_type": "code",
   "execution_count": 9,
   "id": "208966eb-545a-4c02-854c-0ed0487ef5b3",
   "metadata": {
    "execution": {
     "iopub.execute_input": "2024-05-03T19:30:29.246793Z",
     "iopub.status.busy": "2024-05-03T19:30:29.246217Z",
     "iopub.status.idle": "2024-05-03T19:30:29.251431Z",
     "shell.execute_reply": "2024-05-03T19:30:29.250859Z"
    },
    "papermill": {
     "duration": 0.01182,
     "end_time": "2024-05-03T19:30:29.253081",
     "exception": false,
     "start_time": "2024-05-03T19:30:29.241261",
     "status": "completed"
    },
    "tags": []
   },
   "outputs": [],
   "source": [
    "# https://docs.scvi-tools.org/en/stable/api/reference/scvi.train.Trainer.html#scvi.train.Trainer\n",
    "setup_kwargs = dict(\n",
    "    layer=\"counts\", \n",
    "    batch_key='libraryID', \n",
    "    categorical_covariate_keys = ['studyID', 'chemistry', 'disease', 'sampleID'],\n",
    "    labels_key = 'chemistry'    \n",
    ")\n",
    "\n",
    "scvi_kwargs = dict(n_hidden=512,\n",
    "                   n_latent=10, # reduceds after step 02\n",
    "                   n_layers=2,\n",
    "                   gene_likelihood='nb',\n",
    "                   dispersion='gene-label')\n",
    "\n",
    "trainer_kwargs = dict(\n",
    "    checkpointing_monitor = 'elbo_validation',\n",
    "    early_stopping_monitor = 'reconstruction_loss_validation',\n",
    "    early_stopping_patience = 10,\n",
    "    early_stopping_min_delta=0.1,\n",
    "    early_stopping = True,\n",
    "    max_epochs = 1000,\n",
    "\n",
    "    #logger = # wandb\n",
    ")\n",
    "# https://docs.scvi-tools.org/en/stable/api/reference/scvi.train.TrainingPlan.html#scvi.train.TrainingPlan\n",
    "plan_kwargs = dict(\n",
    "    lr = 5e-4,\n",
    "    #reduce_lr_on_plateau = True\n",
    ")\n",
    "\n",
    "# https://docs.scvi-tools.org/en/stable/api/reference/scvi.module.VAE.html#scvi.module.VAE\n",
    "#vae = dict(\n",
    "#    use_layer_norm='both',\n",
    "#    use_batch_norm='none',\n",
    "#    encode_covariates=True,\n",
    "#    deeply_inject_covariates=False\n",
    "#)\n",
    "parameter_dict = setup_kwargs | scvi_kwargs | trainer_kwargs | plan_kwargs"
   ]
  },
  {
   "cell_type": "markdown",
   "id": "1362366a-c16b-4c11-964b-b9c5f82f7b29",
   "metadata": {
    "papermill": {
     "duration": 0.004945,
     "end_time": "2024-05-03T19:30:29.261806",
     "exception": false,
     "start_time": "2024-05-03T19:30:29.256861",
     "status": "completed"
    },
    "tags": []
   },
   "source": [
    "**wandb parameter**"
   ]
  },
  {
   "cell_type": "code",
   "execution_count": 10,
   "id": "0496e33a-8ca5-423f-b42f-34a59760708c",
   "metadata": {
    "execution": {
     "iopub.execute_input": "2024-05-03T19:30:29.271196Z",
     "iopub.status.busy": "2024-05-03T19:30:29.270690Z",
     "iopub.status.idle": "2024-05-03T19:30:29.274905Z",
     "shell.execute_reply": "2024-05-03T19:30:29.274321Z"
    },
    "papermill": {
     "duration": 0.010667,
     "end_time": "2024-05-03T19:30:29.276376",
     "exception": false,
     "start_time": "2024-05-03T19:30:29.265709",
     "status": "completed"
    },
    "tags": []
   },
   "outputs": [
    {
     "data": {
      "text/plain": [
       "'Step3_HSC'"
      ]
     },
     "execution_count": 10,
     "metadata": {},
     "output_type": "execute_result"
    }
   ],
   "source": [
    "run_name = f\"{annotationLevel}_{cellGroup}\"\n",
    "run_name"
   ]
  },
  {
   "cell_type": "code",
   "execution_count": 11,
   "id": "b0021327-95a2-4002-bf32-2c5779a99505",
   "metadata": {
    "execution": {
     "iopub.execute_input": "2024-05-03T19:30:29.286921Z",
     "iopub.status.busy": "2024-05-03T19:30:29.286685Z",
     "iopub.status.idle": "2024-05-03T19:30:29.410817Z",
     "shell.execute_reply": "2024-05-03T19:30:29.410135Z"
    },
    "papermill": {
     "duration": 0.13281,
     "end_time": "2024-05-03T19:30:29.412935",
     "exception": false,
     "start_time": "2024-05-03T19:30:29.280125",
     "status": "completed"
    },
    "tags": []
   },
   "outputs": [],
   "source": [
    "logger = CustomWandbLogger(name = run_name, project='inflammation_atlas_R1', config=parameter_dict)"
   ]
  },
  {
   "cell_type": "markdown",
   "id": "c237eee1-a976-4915-9b7f-b014bf33f47d",
   "metadata": {
    "papermill": {
     "duration": 0.005358,
     "end_time": "2024-05-03T19:30:29.422582",
     "exception": false,
     "start_time": "2024-05-03T19:30:29.417224",
     "status": "completed"
    },
    "tags": []
   },
   "source": [
    "**Running integration**"
   ]
  },
  {
   "cell_type": "code",
   "execution_count": 12,
   "id": "aff97c53-1aba-462e-8a77-f1aec9cf724c",
   "metadata": {
    "execution": {
     "iopub.execute_input": "2024-05-03T19:30:29.433130Z",
     "iopub.status.busy": "2024-05-03T19:30:29.432388Z",
     "iopub.status.idle": "2024-05-03T19:30:29.911616Z",
     "shell.execute_reply": "2024-05-03T19:30:29.910929Z"
    },
    "papermill": {
     "duration": 0.487058,
     "end_time": "2024-05-03T19:30:29.913581",
     "exception": false,
     "start_time": "2024-05-03T19:30:29.426523",
     "status": "completed"
    },
    "tags": []
   },
   "outputs": [],
   "source": [
    "scvi.model.SCVI.setup_anndata(adata, \n",
    "                              **setup_kwargs)"
   ]
  },
  {
   "cell_type": "code",
   "execution_count": 13,
   "id": "1a56f448-cf44-47c1-81a4-a89caa930fec",
   "metadata": {
    "execution": {
     "iopub.execute_input": "2024-05-03T19:30:29.924813Z",
     "iopub.status.busy": "2024-05-03T19:30:29.924218Z",
     "iopub.status.idle": "2024-05-03T19:30:30.117593Z",
     "shell.execute_reply": "2024-05-03T19:30:30.116897Z"
    },
    "papermill": {
     "duration": 0.202236,
     "end_time": "2024-05-03T19:30:30.120458",
     "exception": false,
     "start_time": "2024-05-03T19:30:29.918222",
     "status": "completed"
    },
    "tags": []
   },
   "outputs": [],
   "source": [
    "model = scvi.model.SCVI(adata, **scvi_kwargs)"
   ]
  },
  {
   "cell_type": "code",
   "execution_count": 14,
   "id": "2735f010-4f24-4ae8-9740-a8cfeb335e9a",
   "metadata": {
    "execution": {
     "iopub.execute_input": "2024-05-03T19:30:30.130497Z",
     "iopub.status.busy": "2024-05-03T19:30:30.129867Z",
     "iopub.status.idle": "2024-05-03T19:30:52.918600Z",
     "shell.execute_reply": "2024-05-03T19:30:52.917652Z"
    },
    "papermill": {
     "duration": 22.795674,
     "end_time": "2024-05-03T19:30:52.920448",
     "exception": false,
     "start_time": "2024-05-03T19:30:30.124774",
     "status": "completed"
    },
    "tags": []
   },
   "outputs": [
    {
     "name": "stderr",
     "output_type": "stream",
     "text": [
      "GPU available: True (cuda), used: True\n"
     ]
    },
    {
     "name": "stderr",
     "output_type": "stream",
     "text": [
      "TPU available: False, using: 0 TPU cores\n"
     ]
    },
    {
     "name": "stderr",
     "output_type": "stream",
     "text": [
      "IPU available: False, using: 0 IPUs\n"
     ]
    },
    {
     "name": "stderr",
     "output_type": "stream",
     "text": [
      "HPU available: False, using: 0 HPUs\n"
     ]
    },
    {
     "name": "stderr",
     "output_type": "stream",
     "text": [
      "\u001b[34m\u001b[1mwandb\u001b[0m: Currently logged in as: \u001b[33mdav1989\u001b[0m (\u001b[33minflammation\u001b[0m). Use \u001b[1m`wandb login --relogin`\u001b[0m to force relogin\n"
     ]
    },
    {
     "name": "stderr",
     "output_type": "stream",
     "text": [
      "\u001b[34m\u001b[1mwandb\u001b[0m: wandb version 0.16.6 is available!  To upgrade, please run:\n",
      "\u001b[34m\u001b[1mwandb\u001b[0m:  $ pip install wandb --upgrade\n"
     ]
    },
    {
     "name": "stderr",
     "output_type": "stream",
     "text": [
      "\u001b[34m\u001b[1mwandb\u001b[0m: Tracking run with wandb version 0.16.3\n"
     ]
    },
    {
     "name": "stderr",
     "output_type": "stream",
     "text": [
      "\u001b[34m\u001b[1mwandb\u001b[0m: Run data is saved locally in \u001b[35m\u001b[1m./wandb/run-20240503_193034-mcf6b1jc\u001b[0m\n",
      "\u001b[34m\u001b[1mwandb\u001b[0m: Run \u001b[1m`wandb offline`\u001b[0m to turn off syncing.\n"
     ]
    },
    {
     "name": "stderr",
     "output_type": "stream",
     "text": [
      "\u001b[34m\u001b[1mwandb\u001b[0m: Syncing run \u001b[33mStep3_HSC\u001b[0m\n"
     ]
    },
    {
     "name": "stderr",
     "output_type": "stream",
     "text": [
      "\u001b[34m\u001b[1mwandb\u001b[0m: ⭐️ View project at \u001b[34m\u001b[4mhttps://wandb.ai/inflammation/inflammation_atlas_R1\u001b[0m\n"
     ]
    },
    {
     "name": "stderr",
     "output_type": "stream",
     "text": [
      "\u001b[34m\u001b[1mwandb\u001b[0m: 🚀 View run at \u001b[34m\u001b[4mhttps://wandb.ai/inflammation/inflammation_atlas_R1/runs/mcf6b1jc\u001b[0m\n"
     ]
    },
    {
     "name": "stderr",
     "output_type": "stream",
     "text": [
      "LOCAL_RANK: 0 - CUDA_VISIBLE_DEVICES: [0]\n"
     ]
    },
    {
     "name": "stdout",
     "output_type": "stream",
     "text": [
      "\r",
      "Training:   0%|          | 0/1000 [00:00<?, ?it/s]"
     ]
    },
    {
     "name": "stdout",
     "output_type": "stream",
     "text": [
      "\r",
      "Epoch 1/1000:   0%|          | 0/1000 [00:00<?, ?it/s]"
     ]
    },
    {
     "name": "stdout",
     "output_type": "stream",
     "text": [
      "\r",
      "Epoch 1/1000:   0%|          | 1/1000 [00:01<31:31,  1.89s/it]"
     ]
    },
    {
     "name": "stdout",
     "output_type": "stream",
     "text": [
      "\r",
      "Epoch 1/1000:   0%|          | 1/1000 [00:01<31:31,  1.89s/it, v_num=b1jc, train_loss_step=1.22e+3, train_loss_epoch=1.46e+3]"
     ]
    },
    {
     "name": "stdout",
     "output_type": "stream",
     "text": [
      "\r",
      "Epoch 2/1000:   0%|          | 1/1000 [00:01<31:31,  1.89s/it, v_num=b1jc, train_loss_step=1.22e+3, train_loss_epoch=1.46e+3]"
     ]
    },
    {
     "name": "stdout",
     "output_type": "stream",
     "text": [
      "\r",
      "Epoch 2/1000:   0%|          | 2/1000 [00:02<18:11,  1.09s/it, v_num=b1jc, train_loss_step=1.22e+3, train_loss_epoch=1.46e+3]"
     ]
    },
    {
     "name": "stdout",
     "output_type": "stream",
     "text": [
      "\r",
      "Epoch 2/1000:   0%|          | 2/1000 [00:02<18:11,  1.09s/it, v_num=b1jc, train_loss_step=1.32e+3, train_loss_epoch=1.27e+3]"
     ]
    },
    {
     "name": "stdout",
     "output_type": "stream",
     "text": [
      "\r",
      "Epoch 3/1000:   0%|          | 2/1000 [00:02<18:11,  1.09s/it, v_num=b1jc, train_loss_step=1.32e+3, train_loss_epoch=1.27e+3]"
     ]
    },
    {
     "name": "stdout",
     "output_type": "stream",
     "text": [
      "\r",
      "Epoch 3/1000:   0%|          | 3/1000 [00:02<13:57,  1.19it/s, v_num=b1jc, train_loss_step=1.32e+3, train_loss_epoch=1.27e+3]"
     ]
    },
    {
     "name": "stdout",
     "output_type": "stream",
     "text": [
      "\r",
      "Epoch 3/1000:   0%|          | 3/1000 [00:02<13:57,  1.19it/s, v_num=b1jc, train_loss_step=1.26e+3, train_loss_epoch=1.25e+3]"
     ]
    },
    {
     "name": "stdout",
     "output_type": "stream",
     "text": [
      "\r",
      "Epoch 4/1000:   0%|          | 3/1000 [00:02<13:57,  1.19it/s, v_num=b1jc, train_loss_step=1.26e+3, train_loss_epoch=1.25e+3]"
     ]
    },
    {
     "name": "stdout",
     "output_type": "stream",
     "text": [
      "\r",
      "Epoch 4/1000:   0%|          | 4/1000 [00:03<11:58,  1.39it/s, v_num=b1jc, train_loss_step=1.26e+3, train_loss_epoch=1.25e+3]"
     ]
    },
    {
     "name": "stdout",
     "output_type": "stream",
     "text": [
      "\r",
      "Epoch 4/1000:   0%|          | 4/1000 [00:03<11:58,  1.39it/s, v_num=b1jc, train_loss_step=1.25e+3, train_loss_epoch=1.24e+3]"
     ]
    },
    {
     "name": "stdout",
     "output_type": "stream",
     "text": [
      "\r",
      "Epoch 5/1000:   0%|          | 4/1000 [00:03<11:58,  1.39it/s, v_num=b1jc, train_loss_step=1.25e+3, train_loss_epoch=1.24e+3]"
     ]
    },
    {
     "name": "stdout",
     "output_type": "stream",
     "text": [
      "\r",
      "Epoch 5/1000:   0%|          | 5/1000 [00:04<10:52,  1.53it/s, v_num=b1jc, train_loss_step=1.25e+3, train_loss_epoch=1.24e+3]"
     ]
    },
    {
     "name": "stdout",
     "output_type": "stream",
     "text": [
      "\r",
      "Epoch 5/1000:   0%|          | 5/1000 [00:04<10:52,  1.53it/s, v_num=b1jc, train_loss_step=1.21e+3, train_loss_epoch=1.23e+3]"
     ]
    },
    {
     "name": "stdout",
     "output_type": "stream",
     "text": [
      "\r",
      "Epoch 6/1000:   0%|          | 5/1000 [00:04<10:52,  1.53it/s, v_num=b1jc, train_loss_step=1.21e+3, train_loss_epoch=1.23e+3]"
     ]
    },
    {
     "name": "stdout",
     "output_type": "stream",
     "text": [
      "\r",
      "Epoch 6/1000:   1%|          | 6/1000 [00:04<10:15,  1.62it/s, v_num=b1jc, train_loss_step=1.21e+3, train_loss_epoch=1.23e+3]"
     ]
    },
    {
     "name": "stdout",
     "output_type": "stream",
     "text": [
      "\r",
      "Epoch 6/1000:   1%|          | 6/1000 [00:04<10:15,  1.62it/s, v_num=b1jc, train_loss_step=1.17e+3, train_loss_epoch=1.22e+3]"
     ]
    },
    {
     "name": "stdout",
     "output_type": "stream",
     "text": [
      "\r",
      "Epoch 7/1000:   1%|          | 6/1000 [00:04<10:15,  1.62it/s, v_num=b1jc, train_loss_step=1.17e+3, train_loss_epoch=1.22e+3]"
     ]
    },
    {
     "name": "stdout",
     "output_type": "stream",
     "text": [
      "\r",
      "Epoch 7/1000:   1%|          | 7/1000 [00:05<09:50,  1.68it/s, v_num=b1jc, train_loss_step=1.17e+3, train_loss_epoch=1.22e+3]"
     ]
    },
    {
     "name": "stdout",
     "output_type": "stream",
     "text": [
      "\r",
      "Epoch 7/1000:   1%|          | 7/1000 [00:05<09:50,  1.68it/s, v_num=b1jc, train_loss_step=1.21e+3, train_loss_epoch=1.22e+3]"
     ]
    },
    {
     "name": "stdout",
     "output_type": "stream",
     "text": [
      "\r",
      "Epoch 8/1000:   1%|          | 7/1000 [00:05<09:50,  1.68it/s, v_num=b1jc, train_loss_step=1.21e+3, train_loss_epoch=1.22e+3]"
     ]
    },
    {
     "name": "stdout",
     "output_type": "stream",
     "text": [
      "\r",
      "Epoch 8/1000:   1%|          | 8/1000 [00:05<09:33,  1.73it/s, v_num=b1jc, train_loss_step=1.21e+3, train_loss_epoch=1.22e+3]"
     ]
    },
    {
     "name": "stdout",
     "output_type": "stream",
     "text": [
      "\r",
      "Epoch 8/1000:   1%|          | 8/1000 [00:05<09:33,  1.73it/s, v_num=b1jc, train_loss_step=1.15e+3, train_loss_epoch=1.21e+3]"
     ]
    },
    {
     "name": "stdout",
     "output_type": "stream",
     "text": [
      "\r",
      "Epoch 9/1000:   1%|          | 8/1000 [00:05<09:33,  1.73it/s, v_num=b1jc, train_loss_step=1.15e+3, train_loss_epoch=1.21e+3]"
     ]
    },
    {
     "name": "stdout",
     "output_type": "stream",
     "text": [
      "\r",
      "Epoch 9/1000:   1%|          | 9/1000 [00:06<09:22,  1.76it/s, v_num=b1jc, train_loss_step=1.15e+3, train_loss_epoch=1.21e+3]"
     ]
    },
    {
     "name": "stdout",
     "output_type": "stream",
     "text": [
      "\r",
      "Epoch 9/1000:   1%|          | 9/1000 [00:06<09:22,  1.76it/s, v_num=b1jc, train_loss_step=1.21e+3, train_loss_epoch=1.21e+3]"
     ]
    },
    {
     "name": "stdout",
     "output_type": "stream",
     "text": [
      "\r",
      "Epoch 10/1000:   1%|          | 9/1000 [00:06<09:22,  1.76it/s, v_num=b1jc, train_loss_step=1.21e+3, train_loss_epoch=1.21e+3]"
     ]
    },
    {
     "name": "stdout",
     "output_type": "stream",
     "text": [
      "\r",
      "Epoch 10/1000:   1%|          | 10/1000 [00:06<09:13,  1.79it/s, v_num=b1jc, train_loss_step=1.21e+3, train_loss_epoch=1.21e+3]"
     ]
    },
    {
     "name": "stdout",
     "output_type": "stream",
     "text": [
      "\r",
      "Epoch 10/1000:   1%|          | 10/1000 [00:06<09:13,  1.79it/s, v_num=b1jc, train_loss_step=1.19e+3, train_loss_epoch=1.2e+3] "
     ]
    },
    {
     "name": "stdout",
     "output_type": "stream",
     "text": [
      "\r",
      "Epoch 11/1000:   1%|          | 10/1000 [00:06<09:13,  1.79it/s, v_num=b1jc, train_loss_step=1.19e+3, train_loss_epoch=1.2e+3]"
     ]
    },
    {
     "name": "stdout",
     "output_type": "stream",
     "text": [
      "\r",
      "Epoch 11/1000:   1%|          | 11/1000 [00:07<09:06,  1.81it/s, v_num=b1jc, train_loss_step=1.19e+3, train_loss_epoch=1.2e+3]"
     ]
    },
    {
     "name": "stdout",
     "output_type": "stream",
     "text": [
      "\r",
      "Epoch 11/1000:   1%|          | 11/1000 [00:07<09:06,  1.81it/s, v_num=b1jc, train_loss_step=1.13e+3, train_loss_epoch=1.2e+3]"
     ]
    },
    {
     "name": "stdout",
     "output_type": "stream",
     "text": [
      "\r",
      "Epoch 12/1000:   1%|          | 11/1000 [00:07<09:06,  1.81it/s, v_num=b1jc, train_loss_step=1.13e+3, train_loss_epoch=1.2e+3]"
     ]
    },
    {
     "name": "stdout",
     "output_type": "stream",
     "text": [
      "\r",
      "Epoch 12/1000:   1%|          | 12/1000 [00:07<09:02,  1.82it/s, v_num=b1jc, train_loss_step=1.13e+3, train_loss_epoch=1.2e+3]"
     ]
    },
    {
     "name": "stdout",
     "output_type": "stream",
     "text": [
      "\r",
      "Epoch 12/1000:   1%|          | 12/1000 [00:07<09:02,  1.82it/s, v_num=b1jc, train_loss_step=1.23e+3, train_loss_epoch=1.2e+3]"
     ]
    },
    {
     "name": "stdout",
     "output_type": "stream",
     "text": [
      "\r",
      "Epoch 13/1000:   1%|          | 12/1000 [00:07<09:02,  1.82it/s, v_num=b1jc, train_loss_step=1.23e+3, train_loss_epoch=1.2e+3]"
     ]
    },
    {
     "name": "stdout",
     "output_type": "stream",
     "text": [
      "\r",
      "Epoch 13/1000:   1%|▏         | 13/1000 [00:08<08:59,  1.83it/s, v_num=b1jc, train_loss_step=1.23e+3, train_loss_epoch=1.2e+3]"
     ]
    },
    {
     "name": "stdout",
     "output_type": "stream",
     "text": [
      "\r",
      "Epoch 13/1000:   1%|▏         | 13/1000 [00:08<08:59,  1.83it/s, v_num=b1jc, train_loss_step=1.2e+3, train_loss_epoch=1.19e+3]"
     ]
    },
    {
     "name": "stdout",
     "output_type": "stream",
     "text": [
      "\r",
      "Epoch 14/1000:   1%|▏         | 13/1000 [00:08<08:59,  1.83it/s, v_num=b1jc, train_loss_step=1.2e+3, train_loss_epoch=1.19e+3]"
     ]
    },
    {
     "name": "stdout",
     "output_type": "stream",
     "text": [
      "\r",
      "Epoch 14/1000:   1%|▏         | 14/1000 [00:08<08:58,  1.83it/s, v_num=b1jc, train_loss_step=1.2e+3, train_loss_epoch=1.19e+3]"
     ]
    },
    {
     "name": "stdout",
     "output_type": "stream",
     "text": [
      "\r",
      "Epoch 14/1000:   1%|▏         | 14/1000 [00:08<08:58,  1.83it/s, v_num=b1jc, train_loss_step=1.22e+3, train_loss_epoch=1.19e+3]"
     ]
    },
    {
     "name": "stdout",
     "output_type": "stream",
     "text": [
      "\r",
      "Epoch 15/1000:   1%|▏         | 14/1000 [00:08<08:58,  1.83it/s, v_num=b1jc, train_loss_step=1.22e+3, train_loss_epoch=1.19e+3]"
     ]
    },
    {
     "name": "stdout",
     "output_type": "stream",
     "text": [
      "\r",
      "Epoch 15/1000:   2%|▏         | 15/1000 [00:09<08:54,  1.84it/s, v_num=b1jc, train_loss_step=1.22e+3, train_loss_epoch=1.19e+3]"
     ]
    },
    {
     "name": "stdout",
     "output_type": "stream",
     "text": [
      "\r",
      "Epoch 15/1000:   2%|▏         | 15/1000 [00:09<08:54,  1.84it/s, v_num=b1jc, train_loss_step=1.23e+3, train_loss_epoch=1.18e+3]"
     ]
    },
    {
     "name": "stdout",
     "output_type": "stream",
     "text": [
      "\r",
      "Epoch 16/1000:   2%|▏         | 15/1000 [00:09<08:54,  1.84it/s, v_num=b1jc, train_loss_step=1.23e+3, train_loss_epoch=1.18e+3]"
     ]
    },
    {
     "name": "stdout",
     "output_type": "stream",
     "text": [
      "\r",
      "Epoch 16/1000:   2%|▏         | 16/1000 [00:09<08:52,  1.85it/s, v_num=b1jc, train_loss_step=1.23e+3, train_loss_epoch=1.18e+3]"
     ]
    },
    {
     "name": "stdout",
     "output_type": "stream",
     "text": [
      "\r",
      "Epoch 16/1000:   2%|▏         | 16/1000 [00:10<08:52,  1.85it/s, v_num=b1jc, train_loss_step=1.06e+3, train_loss_epoch=1.18e+3]"
     ]
    },
    {
     "name": "stdout",
     "output_type": "stream",
     "text": [
      "\r",
      "Epoch 17/1000:   2%|▏         | 16/1000 [00:10<08:52,  1.85it/s, v_num=b1jc, train_loss_step=1.06e+3, train_loss_epoch=1.18e+3]"
     ]
    },
    {
     "name": "stdout",
     "output_type": "stream",
     "text": [
      "\r",
      "Epoch 17/1000:   2%|▏         | 17/1000 [00:10<08:51,  1.85it/s, v_num=b1jc, train_loss_step=1.06e+3, train_loss_epoch=1.18e+3]"
     ]
    },
    {
     "name": "stdout",
     "output_type": "stream",
     "text": [
      "\r",
      "Epoch 17/1000:   2%|▏         | 17/1000 [00:10<08:51,  1.85it/s, v_num=b1jc, train_loss_step=1.14e+3, train_loss_epoch=1.17e+3]"
     ]
    },
    {
     "name": "stdout",
     "output_type": "stream",
     "text": [
      "\r",
      "Epoch 18/1000:   2%|▏         | 17/1000 [00:10<08:51,  1.85it/s, v_num=b1jc, train_loss_step=1.14e+3, train_loss_epoch=1.17e+3]"
     ]
    },
    {
     "name": "stdout",
     "output_type": "stream",
     "text": [
      "\r",
      "Epoch 18/1000:   2%|▏         | 18/1000 [00:11<08:50,  1.85it/s, v_num=b1jc, train_loss_step=1.14e+3, train_loss_epoch=1.17e+3]"
     ]
    },
    {
     "name": "stdout",
     "output_type": "stream",
     "text": [
      "\r",
      "Epoch 18/1000:   2%|▏         | 18/1000 [00:11<08:50,  1.85it/s, v_num=b1jc, train_loss_step=1.11e+3, train_loss_epoch=1.17e+3]"
     ]
    },
    {
     "name": "stdout",
     "output_type": "stream",
     "text": [
      "\r",
      "Epoch 19/1000:   2%|▏         | 18/1000 [00:11<08:50,  1.85it/s, v_num=b1jc, train_loss_step=1.11e+3, train_loss_epoch=1.17e+3]"
     ]
    },
    {
     "name": "stdout",
     "output_type": "stream",
     "text": [
      "\r",
      "Epoch 19/1000:   2%|▏         | 19/1000 [00:11<08:49,  1.85it/s, v_num=b1jc, train_loss_step=1.11e+3, train_loss_epoch=1.17e+3]"
     ]
    },
    {
     "name": "stdout",
     "output_type": "stream",
     "text": [
      "\r",
      "Epoch 19/1000:   2%|▏         | 19/1000 [00:11<08:49,  1.85it/s, v_num=b1jc, train_loss_step=1.13e+3, train_loss_epoch=1.17e+3]"
     ]
    },
    {
     "name": "stdout",
     "output_type": "stream",
     "text": [
      "\r",
      "Epoch 20/1000:   2%|▏         | 19/1000 [00:11<08:49,  1.85it/s, v_num=b1jc, train_loss_step=1.13e+3, train_loss_epoch=1.17e+3]"
     ]
    },
    {
     "name": "stdout",
     "output_type": "stream",
     "text": [
      "\r",
      "Epoch 20/1000:   2%|▏         | 20/1000 [00:12<08:45,  1.86it/s, v_num=b1jc, train_loss_step=1.13e+3, train_loss_epoch=1.17e+3]"
     ]
    },
    {
     "name": "stdout",
     "output_type": "stream",
     "text": [
      "\r",
      "Epoch 20/1000:   2%|▏         | 20/1000 [00:12<08:45,  1.86it/s, v_num=b1jc, train_loss_step=1.17e+3, train_loss_epoch=1.16e+3]"
     ]
    },
    {
     "name": "stdout",
     "output_type": "stream",
     "text": [
      "\r",
      "Epoch 21/1000:   2%|▏         | 20/1000 [00:12<08:45,  1.86it/s, v_num=b1jc, train_loss_step=1.17e+3, train_loss_epoch=1.16e+3]"
     ]
    },
    {
     "name": "stdout",
     "output_type": "stream",
     "text": [
      "\r",
      "Epoch 21/1000:   2%|▏         | 21/1000 [00:12<08:44,  1.87it/s, v_num=b1jc, train_loss_step=1.17e+3, train_loss_epoch=1.16e+3]"
     ]
    },
    {
     "name": "stdout",
     "output_type": "stream",
     "text": [
      "\r",
      "Epoch 21/1000:   2%|▏         | 21/1000 [00:12<08:44,  1.87it/s, v_num=b1jc, train_loss_step=1.13e+3, train_loss_epoch=1.16e+3]"
     ]
    },
    {
     "name": "stdout",
     "output_type": "stream",
     "text": [
      "\r",
      "Epoch 22/1000:   2%|▏         | 21/1000 [00:12<08:44,  1.87it/s, v_num=b1jc, train_loss_step=1.13e+3, train_loss_epoch=1.16e+3]"
     ]
    },
    {
     "name": "stdout",
     "output_type": "stream",
     "text": [
      "\r",
      "Epoch 22/1000:   2%|▏         | 22/1000 [00:13<08:49,  1.85it/s, v_num=b1jc, train_loss_step=1.13e+3, train_loss_epoch=1.16e+3]"
     ]
    },
    {
     "name": "stdout",
     "output_type": "stream",
     "text": [
      "\r",
      "Epoch 22/1000:   2%|▏         | 22/1000 [00:13<08:49,  1.85it/s, v_num=b1jc, train_loss_step=1.11e+3, train_loss_epoch=1.16e+3]"
     ]
    },
    {
     "name": "stdout",
     "output_type": "stream",
     "text": [
      "\r",
      "Epoch 23/1000:   2%|▏         | 22/1000 [00:13<08:49,  1.85it/s, v_num=b1jc, train_loss_step=1.11e+3, train_loss_epoch=1.16e+3]"
     ]
    },
    {
     "name": "stdout",
     "output_type": "stream",
     "text": [
      "\r",
      "Epoch 23/1000:   2%|▏         | 23/1000 [00:13<08:44,  1.86it/s, v_num=b1jc, train_loss_step=1.11e+3, train_loss_epoch=1.16e+3]"
     ]
    },
    {
     "name": "stdout",
     "output_type": "stream",
     "text": [
      "\r",
      "Epoch 23/1000:   2%|▏         | 23/1000 [00:13<08:44,  1.86it/s, v_num=b1jc, train_loss_step=1.1e+3, train_loss_epoch=1.15e+3] "
     ]
    },
    {
     "name": "stdout",
     "output_type": "stream",
     "text": [
      "\r",
      "Epoch 24/1000:   2%|▏         | 23/1000 [00:13<08:44,  1.86it/s, v_num=b1jc, train_loss_step=1.1e+3, train_loss_epoch=1.15e+3]"
     ]
    },
    {
     "name": "stdout",
     "output_type": "stream",
     "text": [
      "\r",
      "Epoch 24/1000:   2%|▏         | 24/1000 [00:14<08:42,  1.87it/s, v_num=b1jc, train_loss_step=1.1e+3, train_loss_epoch=1.15e+3]"
     ]
    },
    {
     "name": "stdout",
     "output_type": "stream",
     "text": [
      "\r",
      "Epoch 24/1000:   2%|▏         | 24/1000 [00:14<08:42,  1.87it/s, v_num=b1jc, train_loss_step=1.22e+3, train_loss_epoch=1.15e+3]"
     ]
    },
    {
     "name": "stdout",
     "output_type": "stream",
     "text": [
      "\r",
      "Epoch 25/1000:   2%|▏         | 24/1000 [00:14<08:42,  1.87it/s, v_num=b1jc, train_loss_step=1.22e+3, train_loss_epoch=1.15e+3]"
     ]
    },
    {
     "name": "stdout",
     "output_type": "stream",
     "text": [
      "\r",
      "Epoch 25/1000:   2%|▎         | 25/1000 [00:14<08:47,  1.85it/s, v_num=b1jc, train_loss_step=1.22e+3, train_loss_epoch=1.15e+3]"
     ]
    },
    {
     "name": "stdout",
     "output_type": "stream",
     "text": [
      "\r",
      "Epoch 25/1000:   2%|▎         | 25/1000 [00:14<08:47,  1.85it/s, v_num=b1jc, train_loss_step=1.16e+3, train_loss_epoch=1.14e+3]"
     ]
    },
    {
     "name": "stdout",
     "output_type": "stream",
     "text": [
      "\r",
      "Epoch 26/1000:   2%|▎         | 25/1000 [00:14<08:47,  1.85it/s, v_num=b1jc, train_loss_step=1.16e+3, train_loss_epoch=1.14e+3]"
     ]
    },
    {
     "name": "stdout",
     "output_type": "stream",
     "text": [
      "\r",
      "Epoch 26/1000:   3%|▎         | 26/1000 [00:15<08:44,  1.86it/s, v_num=b1jc, train_loss_step=1.16e+3, train_loss_epoch=1.14e+3]"
     ]
    },
    {
     "name": "stdout",
     "output_type": "stream",
     "text": [
      "\r",
      "Epoch 26/1000:   3%|▎         | 26/1000 [00:15<08:44,  1.86it/s, v_num=b1jc, train_loss_step=1.21e+3, train_loss_epoch=1.14e+3]"
     ]
    },
    {
     "name": "stdout",
     "output_type": "stream",
     "text": [
      "\r",
      "Epoch 27/1000:   3%|▎         | 26/1000 [00:15<08:44,  1.86it/s, v_num=b1jc, train_loss_step=1.21e+3, train_loss_epoch=1.14e+3]"
     ]
    },
    {
     "name": "stdout",
     "output_type": "stream",
     "text": [
      "\r",
      "Epoch 27/1000:   3%|▎         | 27/1000 [00:15<08:43,  1.86it/s, v_num=b1jc, train_loss_step=1.21e+3, train_loss_epoch=1.14e+3]"
     ]
    },
    {
     "name": "stdout",
     "output_type": "stream",
     "text": [
      "\r",
      "Epoch 27/1000:   3%|▎         | 27/1000 [00:15<08:43,  1.86it/s, v_num=b1jc, train_loss_step=1.07e+3, train_loss_epoch=1.14e+3]"
     ]
    },
    {
     "name": "stdout",
     "output_type": "stream",
     "text": [
      "\r",
      "Epoch 28/1000:   3%|▎         | 27/1000 [00:15<08:43,  1.86it/s, v_num=b1jc, train_loss_step=1.07e+3, train_loss_epoch=1.14e+3]"
     ]
    },
    {
     "name": "stdout",
     "output_type": "stream",
     "text": [
      "\r",
      "Epoch 28/1000:   3%|▎         | 28/1000 [00:16<08:41,  1.87it/s, v_num=b1jc, train_loss_step=1.07e+3, train_loss_epoch=1.14e+3]"
     ]
    },
    {
     "name": "stdout",
     "output_type": "stream",
     "text": [
      "\r",
      "Epoch 28/1000:   3%|▎         | 28/1000 [00:16<08:41,  1.87it/s, v_num=b1jc, train_loss_step=1.11e+3, train_loss_epoch=1.14e+3]"
     ]
    },
    {
     "name": "stdout",
     "output_type": "stream",
     "text": [
      "\r",
      "Epoch 29/1000:   3%|▎         | 28/1000 [00:16<08:41,  1.87it/s, v_num=b1jc, train_loss_step=1.11e+3, train_loss_epoch=1.14e+3]"
     ]
    },
    {
     "name": "stdout",
     "output_type": "stream",
     "text": [
      "\r",
      "Epoch 29/1000:   3%|▎         | 29/1000 [00:16<08:40,  1.87it/s, v_num=b1jc, train_loss_step=1.11e+3, train_loss_epoch=1.14e+3]"
     ]
    },
    {
     "name": "stdout",
     "output_type": "stream",
     "text": [
      "\r",
      "Epoch 29/1000:   3%|▎         | 29/1000 [00:16<08:40,  1.87it/s, v_num=b1jc, train_loss_step=1.13e+3, train_loss_epoch=1.13e+3]"
     ]
    },
    {
     "name": "stdout",
     "output_type": "stream",
     "text": [
      "\r",
      "Epoch 30/1000:   3%|▎         | 29/1000 [00:16<08:40,  1.87it/s, v_num=b1jc, train_loss_step=1.13e+3, train_loss_epoch=1.13e+3]"
     ]
    },
    {
     "name": "stdout",
     "output_type": "stream",
     "text": [
      "\r",
      "Epoch 30/1000:   3%|▎         | 30/1000 [00:17<08:39,  1.87it/s, v_num=b1jc, train_loss_step=1.13e+3, train_loss_epoch=1.13e+3]"
     ]
    },
    {
     "name": "stdout",
     "output_type": "stream",
     "text": [
      "\r",
      "Epoch 30/1000:   3%|▎         | 30/1000 [00:17<08:39,  1.87it/s, v_num=b1jc, train_loss_step=1.07e+3, train_loss_epoch=1.13e+3]"
     ]
    },
    {
     "name": "stdout",
     "output_type": "stream",
     "text": [
      "\r",
      "Epoch 30/1000:   3%|▎         | 30/1000 [00:17<09:26,  1.71it/s, v_num=b1jc, train_loss_step=1.07e+3, train_loss_epoch=1.13e+3]"
     ]
    },
    {
     "name": "stdout",
     "output_type": "stream",
     "text": [
      "\n",
      "Monitored metric reconstruction_loss_validation did not improve in the last 10 records. Best score: 1248.169. Signaling Trainer to stop.\n"
     ]
    }
   ],
   "source": [
    "model.train(logger=logger, plan_kwargs = plan_kwargs, **trainer_kwargs)"
   ]
  },
  {
   "cell_type": "code",
   "execution_count": 15,
   "id": "c282f6eb-0ad1-40a5-81e6-1acda1545dad",
   "metadata": {
    "execution": {
     "iopub.execute_input": "2024-05-03T19:30:52.939547Z",
     "iopub.status.busy": "2024-05-03T19:30:52.939279Z",
     "iopub.status.idle": "2024-05-03T19:30:56.072550Z",
     "shell.execute_reply": "2024-05-03T19:30:56.071809Z"
    },
    "papermill": {
     "duration": 3.144816,
     "end_time": "2024-05-03T19:30:56.074362",
     "exception": false,
     "start_time": "2024-05-03T19:30:52.929546",
     "status": "completed"
    },
    "tags": []
   },
   "outputs": [
    {
     "name": "stderr",
     "output_type": "stream",
     "text": [
      "\u001b[34m\u001b[1mwandb\u001b[0m: - 0.009 MB of 0.009 MB uploaded\r"
     ]
    },
    {
     "name": "stderr",
     "output_type": "stream",
     "text": [
      "\u001b[34m\u001b[1mwandb\u001b[0m:                                                                                \n"
     ]
    },
    {
     "name": "stderr",
     "output_type": "stream",
     "text": [
      "\u001b[34m\u001b[1mwandb\u001b[0m: \n",
      "\u001b[34m\u001b[1mwandb\u001b[0m: Run history:\n",
      "\u001b[34m\u001b[1mwandb\u001b[0m:                     elbo_train █▄▄▄▃▃▃▃▃▃▃▃▃▂▂▂▂▂▂▂▂▂▂▁▁▁▁▁▁▁\n",
      "\u001b[34m\u001b[1mwandb\u001b[0m:                elbo_validation █▅▄▃▂▂▂▂▂▂▁▁▁▁▁▁▁▁▁▁▁▁▁▁▁▁▁▁▁▁\n",
      "\u001b[34m\u001b[1mwandb\u001b[0m:                          epoch ▁▁▁▁▂▂▂▂▂▃▃▃▃▃▃▄▄▄▄▄▅▅▅▅▅▅▆▆▆▆▆▇▇▇▇▇████\n",
      "\u001b[34m\u001b[1mwandb\u001b[0m:                kl_global_train ▁▁▁▁▁▁▁▁▁▁▁▁▁▁▁▁▁▁▁▁▁▁▁▁▁▁▁▁▁▁\n",
      "\u001b[34m\u001b[1mwandb\u001b[0m:           kl_global_validation ▁▁▁▁▁▁▁▁▁▁▁▁▁▁▁▁▁▁▁▁▁▁▁▁▁▁▁▁▁▁\n",
      "\u001b[34m\u001b[1mwandb\u001b[0m:                 kl_local_train ▁▅▆▇▇███████████▇▇▇▇▇▇▇▇▇▇▇▇▇▇\n",
      "\u001b[34m\u001b[1mwandb\u001b[0m:            kl_local_validation ▁▁▂▃▄▄▆▆▇▇█████▇▇██████▇▇▇▇█▇▇\n",
      "\u001b[34m\u001b[1mwandb\u001b[0m:                      kl_weight ▁▁▁▁▂▂▂▂▂▃▃▃▃▃▃▄▄▄▄▄▅▅▅▅▅▆▆▆▆▆▆▇▇▇▇▇████\n",
      "\u001b[34m\u001b[1mwandb\u001b[0m:      reconstruction_loss_train █▄▄▃▃▃▃▃▃▃▃▂▂▂▂▂▂▂▂▂▂▂▂▁▁▁▁▁▁▁\n",
      "\u001b[34m\u001b[1mwandb\u001b[0m: reconstruction_loss_validation █▅▄▃▂▂▂▂▂▂▁▁▁▁▁▁▁▁▁▁▁▁▁▁▁▁▁▁▁▁\n",
      "\u001b[34m\u001b[1mwandb\u001b[0m:               train_loss_epoch █▄▄▃▃▃▃▃▃▃▃▂▂▂▂▂▂▂▂▂▂▂▂▁▁▁▁▁▁▁\n",
      "\u001b[34m\u001b[1mwandb\u001b[0m:                train_loss_step █▄▄▃▃▃▃▄▄▃▃▃▄▃▃▂▃▄▃▃▃▃▂▂▃▂▃▁▃▂▂▂▂▂▂▂▁▃▂▁\n",
      "\u001b[34m\u001b[1mwandb\u001b[0m:            trainer/global_step ▁▁▁▂▂▂▂▂▂▃▃▃▃▃▃▄▄▄▄▄▅▅▅▅▅▅▆▆▆▆▆▇▇▇▇▇▇███\n",
      "\u001b[34m\u001b[1mwandb\u001b[0m:                validation_loss █▅▄▃▂▂▂▂▂▂▁▁▁▁▁▁▁▁▁▁▁▁▁▁▁▁▁▁▁▁\n",
      "\u001b[34m\u001b[1mwandb\u001b[0m: \n",
      "\u001b[34m\u001b[1mwandb\u001b[0m: Run summary:\n",
      "\u001b[34m\u001b[1mwandb\u001b[0m:                     elbo_train 1152.40088\n",
      "\u001b[34m\u001b[1mwandb\u001b[0m:                elbo_validation 1290.245\n",
      "\u001b[34m\u001b[1mwandb\u001b[0m:                          epoch 29\n",
      "\u001b[34m\u001b[1mwandb\u001b[0m:                kl_global_train 0.0\n",
      "\u001b[34m\u001b[1mwandb\u001b[0m:           kl_global_validation 0.0\n",
      "\u001b[34m\u001b[1mwandb\u001b[0m:                 kl_local_train 27.95618\n",
      "\u001b[34m\u001b[1mwandb\u001b[0m:            kl_local_validation 25.33874\n",
      "\u001b[34m\u001b[1mwandb\u001b[0m:                      kl_weight 0.0725\n",
      "\u001b[34m\u001b[1mwandb\u001b[0m:      reconstruction_loss_train 1124.4447\n",
      "\u001b[34m\u001b[1mwandb\u001b[0m: reconstruction_loss_validation 1264.90625\n",
      "\u001b[34m\u001b[1mwandb\u001b[0m:               train_loss_epoch 1126.47156\n",
      "\u001b[34m\u001b[1mwandb\u001b[0m:                train_loss_step 1066.97729\n",
      "\u001b[34m\u001b[1mwandb\u001b[0m:            trainer/global_step 1109\n",
      "\u001b[34m\u001b[1mwandb\u001b[0m:                validation_loss 1266.74329\n",
      "\u001b[34m\u001b[1mwandb\u001b[0m: \n"
     ]
    },
    {
     "name": "stderr",
     "output_type": "stream",
     "text": [
      "\u001b[34m\u001b[1mwandb\u001b[0m: 🚀 View run \u001b[33mStep3_HSC\u001b[0m at: \u001b[34m\u001b[4mhttps://wandb.ai/inflammation/inflammation_atlas_R1/runs/mcf6b1jc\u001b[0m\n",
      "\u001b[34m\u001b[1mwandb\u001b[0m: Synced 5 W&B file(s), 0 media file(s), 0 artifact file(s) and 0 other file(s)\n"
     ]
    },
    {
     "name": "stderr",
     "output_type": "stream",
     "text": [
      "\u001b[34m\u001b[1mwandb\u001b[0m: Find logs at: \u001b[35m\u001b[1m./wandb/run-20240503_193034-mcf6b1jc/logs\u001b[0m\n"
     ]
    }
   ],
   "source": [
    "wandb.finish()"
   ]
  },
  {
   "cell_type": "markdown",
   "id": "d9fb1179-83c7-4ac6-b4aa-92dc7a349801",
   "metadata": {
    "papermill": {
     "duration": 0.008811,
     "end_time": "2024-05-03T19:30:56.092465",
     "exception": false,
     "start_time": "2024-05-03T19:30:56.083654",
     "status": "completed"
    },
    "tags": []
   },
   "source": [
    "### Extracting embedding space"
   ]
  },
  {
   "cell_type": "code",
   "execution_count": 16,
   "id": "caaa5832-0123-4c59-8ec6-f46a75f7a14e",
   "metadata": {
    "execution": {
     "iopub.execute_input": "2024-05-03T19:30:56.112157Z",
     "iopub.status.busy": "2024-05-03T19:30:56.111482Z",
     "iopub.status.idle": "2024-05-03T19:30:56.325256Z",
     "shell.execute_reply": "2024-05-03T19:30:56.324518Z"
    },
    "papermill": {
     "duration": 0.22573,
     "end_time": "2024-05-03T19:30:56.327248",
     "exception": false,
     "start_time": "2024-05-03T19:30:56.101518",
     "status": "completed"
    },
    "tags": []
   },
   "outputs": [],
   "source": [
    "adata.obsm['X_scVI'] = model.get_latent_representation()"
   ]
  },
  {
   "cell_type": "markdown",
   "id": "2f03e70b-839c-40a6-9fbb-d76bbd787419",
   "metadata": {
    "papermill": {
     "duration": 0.008738,
     "end_time": "2024-05-03T19:30:56.345463",
     "exception": false,
     "start_time": "2024-05-03T19:30:56.336725",
     "status": "completed"
    },
    "tags": []
   },
   "source": [
    "## Save the results"
   ]
  },
  {
   "cell_type": "code",
   "execution_count": 17,
   "id": "7b04049b-47fd-4b62-a1c0-c43dcc086d34",
   "metadata": {
    "execution": {
     "iopub.execute_input": "2024-05-03T19:30:56.364815Z",
     "iopub.status.busy": "2024-05-03T19:30:56.364106Z",
     "iopub.status.idle": "2024-05-03T19:30:57.496281Z",
     "shell.execute_reply": "2024-05-03T19:30:57.495463Z"
    },
    "papermill": {
     "duration": 1.144291,
     "end_time": "2024-05-03T19:30:57.498380",
     "exception": false,
     "start_time": "2024-05-03T19:30:56.354089",
     "status": "completed"
    },
    "tags": []
   },
   "outputs": [],
   "source": [
    "if overwriteData:\n",
    "    adata.write(here(f\"{workDir}/{cellGroup}/results/02_{annotationLevel}_{cellGroup}_HVGsubset_scVI.h5ad\"), compression=\"gzip\")\n",
    "    model.save(here(f\"{workDir}/{cellGroup}/results/02_{annotationLevel}_{cellGroup}_HVGsubset_scVI_MODEL/\"),\n",
    "               overwrite = True, \n",
    "               save_anndata = False )   "
   ]
  },
  {
   "cell_type": "code",
   "execution_count": 18,
   "id": "629ba2bd-f6be-44ef-8fca-bbdf891bf25f",
   "metadata": {
    "execution": {
     "iopub.execute_input": "2024-05-03T19:30:57.518606Z",
     "iopub.status.busy": "2024-05-03T19:30:57.518067Z",
     "iopub.status.idle": "2024-05-03T19:30:57.521218Z",
     "shell.execute_reply": "2024-05-03T19:30:57.520641Z"
    },
    "papermill": {
     "duration": 0.015418,
     "end_time": "2024-05-03T19:30:57.523235",
     "exception": false,
     "start_time": "2024-05-03T19:30:57.507817",
     "status": "completed"
    },
    "tags": []
   },
   "outputs": [],
   "source": [
    "# To load the model do (after loading corresponding adata):\n",
    "# model = scvi.model.SCVI.load(here('{}/results/01_{}_HVGsubset_scVI_MODEL/'.format(workDir, cellGroup)), \n",
    "#                              adata, \n",
    "#                              use_gpu=True)"
   ]
  },
  {
   "cell_type": "raw",
   "id": "975e84d0-f56b-498d-b3a8-c9219cf22e53",
   "metadata": {
    "papermill": {
     "duration": 0.008659,
     "end_time": "2024-05-03T19:30:57.540551",
     "exception": false,
     "start_time": "2024-05-03T19:30:57.531892",
     "status": "completed"
    },
    "tags": []
   },
   "source": [
    "session_info.show()"
   ]
  }
 ],
 "metadata": {
  "kernelspec": {
   "display_name": "Python 3 (ipykernel)",
   "language": "python",
   "name": "python3"
  },
  "language_info": {
   "codemirror_mode": {
    "name": "ipython",
    "version": 3
   },
   "file_extension": ".py",
   "mimetype": "text/x-python",
   "name": "python",
   "nbconvert_exporter": "python",
   "pygments_lexer": "ipython3",
   "version": "3.9.18"
  },
  "papermill": {
   "default_parameters": {},
   "duration": 38.247788,
   "end_time": "2024-05-03T19:31:00.780498",
   "environment_variables": {},
   "exception": null,
   "input_path": "./HSC/02_integration_scVI.ipynb",
   "output_path": "./HSC/02_integration_scVI_executed.ipynb",
   "parameters": {},
   "start_time": "2024-05-03T19:30:22.532710",
   "version": "2.5.0"
  }
 },
 "nbformat": 4,
 "nbformat_minor": 5
}