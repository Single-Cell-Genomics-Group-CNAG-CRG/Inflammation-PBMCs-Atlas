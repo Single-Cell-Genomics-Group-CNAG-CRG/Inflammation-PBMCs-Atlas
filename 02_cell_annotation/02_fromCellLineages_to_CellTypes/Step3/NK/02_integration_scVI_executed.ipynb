{
 "cells": [
  {
   "cell_type": "code",
   "execution_count": 1,
   "id": "2dd1425a-0c07-465e-b522-9e3cc5cb93a7",
   "metadata": {
    "execution": {
     "iopub.execute_input": "2024-05-03T19:07:32.038081Z",
     "iopub.status.busy": "2024-05-03T19:07:32.037499Z",
     "iopub.status.idle": "2024-05-03T19:07:37.194201Z",
     "shell.execute_reply": "2024-05-03T19:07:37.193537Z"
    },
    "papermill": {
     "duration": 5.164288,
     "end_time": "2024-05-03T19:07:37.195968",
     "exception": false,
     "start_time": "2024-05-03T19:07:32.031680",
     "status": "completed"
    },
    "tags": []
   },
   "outputs": [
    {
     "data": {
      "text/plain": [
       "True"
      ]
     },
     "execution_count": 1,
     "metadata": {},
     "output_type": "execute_result"
    }
   ],
   "source": [
    "import os\n",
    "import sys\n",
    "\n",
    "import numpy as np\n",
    "import matplotlib.pyplot as plt\n",
    "\n",
    "import scanpy as sc\n",
    "import scvi\n",
    "import torch\n",
    "\n",
    "from pytorch_lightning.loggers import WandbLogger\n",
    "import wandb\n",
    "from dotenv import load_dotenv\n",
    "\n",
    "import session_info\n",
    "import warnings\n",
    "from pyprojroot.here import here\n",
    "\n",
    "warnings.filterwarnings(\"ignore\")\n",
    "sys.path.insert(1, str(here('bin')))\n",
    "\n",
    "torch.set_float32_matmul_precision('high')\n",
    "\n",
    "#plt.style.use(['science','nature','no-latex'])\n",
    "dpi_fig_save = 300\n",
    "sc.set_figure_params(dpi=100, dpi_save=dpi_fig_save, vector_friendly=True)\n",
    "\n",
    "load_dotenv(here('.env'))"
   ]
  },
  {
   "cell_type": "code",
   "execution_count": 2,
   "id": "09c897fc-744b-43de-a681-718fb5d327fa",
   "metadata": {
    "execution": {
     "iopub.execute_input": "2024-05-03T19:07:37.206862Z",
     "iopub.status.busy": "2024-05-03T19:07:37.206134Z",
     "iopub.status.idle": "2024-05-03T19:07:37.209799Z",
     "shell.execute_reply": "2024-05-03T19:07:37.209250Z"
    },
    "papermill": {
     "duration": 0.009872,
     "end_time": "2024-05-03T19:07:37.211336",
     "exception": false,
     "start_time": "2024-05-03T19:07:37.201464",
     "status": "completed"
    },
    "tags": []
   },
   "outputs": [],
   "source": [
    "class CustomWandbLogger(WandbLogger):\n",
    "    @property\n",
    "    def save_dir(self):\n",
    "        return self.experiment.dir"
   ]
  },
  {
   "cell_type": "code",
   "execution_count": 3,
   "id": "8ee6662f-5d45-4137-80a5-bb0b9ae8d71f",
   "metadata": {
    "execution": {
     "iopub.execute_input": "2024-05-03T19:07:37.219513Z",
     "iopub.status.busy": "2024-05-03T19:07:37.218975Z",
     "iopub.status.idle": "2024-05-03T19:07:37.224803Z",
     "shell.execute_reply": "2024-05-03T19:07:37.224217Z"
    },
    "papermill": {
     "duration": 0.011831,
     "end_time": "2024-05-03T19:07:37.226341",
     "exception": false,
     "start_time": "2024-05-03T19:07:37.214510",
     "status": "completed"
    },
    "tags": []
   },
   "outputs": [
    {
     "name": "stderr",
     "output_type": "stream",
     "text": [
      "Seed set to 0\n"
     ]
    },
    {
     "name": "stdout",
     "output_type": "stream",
     "text": [
      "Last run with scvi-tools version: 1.1.2\n"
     ]
    }
   ],
   "source": [
    "scvi.settings.seed = 0\n",
    "print(\"Last run with scvi-tools version:\", scvi.__version__)"
   ]
  },
  {
   "cell_type": "markdown",
   "id": "a81037ff-5998-482a-ba86-520f757311a9",
   "metadata": {
    "papermill": {
     "duration": 0.003347,
     "end_time": "2024-05-03T19:07:37.232991",
     "exception": false,
     "start_time": "2024-05-03T19:07:37.229644",
     "status": "completed"
    },
    "tags": []
   },
   "source": [
    "**Setting parameters** "
   ]
  },
  {
   "cell_type": "code",
   "execution_count": 4,
   "id": "56c27966-8f10-4c93-8b1a-1fa75f005e41",
   "metadata": {
    "execution": {
     "iopub.execute_input": "2024-05-03T19:07:37.241316Z",
     "iopub.status.busy": "2024-05-03T19:07:37.240831Z",
     "iopub.status.idle": "2024-05-03T19:07:37.243876Z",
     "shell.execute_reply": "2024-05-03T19:07:37.243297Z"
    },
    "papermill": {
     "duration": 0.009115,
     "end_time": "2024-05-03T19:07:37.245629",
     "exception": false,
     "start_time": "2024-05-03T19:07:37.236514",
     "status": "completed"
    },
    "tags": []
   },
   "outputs": [],
   "source": [
    "overwriteFigures = True\n",
    "overwriteData = True"
   ]
  },
  {
   "cell_type": "code",
   "execution_count": 5,
   "id": "c86fccd3-a4fe-415b-8f4e-e2ceb3ec128a",
   "metadata": {
    "execution": {
     "iopub.execute_input": "2024-05-03T19:07:37.253908Z",
     "iopub.status.busy": "2024-05-03T19:07:37.253418Z",
     "iopub.status.idle": "2024-05-03T19:07:37.256578Z",
     "shell.execute_reply": "2024-05-03T19:07:37.255995Z"
    },
    "papermill": {
     "duration": 0.009082,
     "end_time": "2024-05-03T19:07:37.258108",
     "exception": false,
     "start_time": "2024-05-03T19:07:37.249026",
     "status": "completed"
    },
    "tags": []
   },
   "outputs": [],
   "source": [
    "cellGroup = 'NK'\n",
    "workDir = os.getcwd()"
   ]
  },
  {
   "cell_type": "code",
   "execution_count": 6,
   "id": "2dee4d55-d168-467b-b867-a61fed9d6af1",
   "metadata": {
    "execution": {
     "iopub.execute_input": "2024-05-03T19:07:37.266554Z",
     "iopub.status.busy": "2024-05-03T19:07:37.265927Z",
     "iopub.status.idle": "2024-05-03T19:07:37.269283Z",
     "shell.execute_reply": "2024-05-03T19:07:37.268692Z"
    },
    "papermill": {
     "duration": 0.009224,
     "end_time": "2024-05-03T19:07:37.270833",
     "exception": false,
     "start_time": "2024-05-03T19:07:37.261609",
     "status": "completed"
    },
    "tags": []
   },
   "outputs": [],
   "source": [
    "annotationLevel = os.path.basename(os.path.normpath(workDir))"
   ]
  },
  {
   "cell_type": "code",
   "execution_count": 7,
   "id": "11e53cd5-b746-4152-89cb-c2f0c15d90b3",
   "metadata": {
    "execution": {
     "iopub.execute_input": "2024-05-03T19:07:37.279369Z",
     "iopub.status.busy": "2024-05-03T19:07:37.278960Z",
     "iopub.status.idle": "2024-05-03T19:07:37.283074Z",
     "shell.execute_reply": "2024-05-03T19:07:37.282523Z"
    },
    "papermill": {
     "duration": 0.010353,
     "end_time": "2024-05-03T19:07:37.284661",
     "exception": false,
     "start_time": "2024-05-03T19:07:37.274308",
     "status": "completed"
    },
    "tags": []
   },
   "outputs": [
    {
     "data": {
      "text/plain": [
       "'/home/jupyter/Inflammation-PBMCs-Atlas/02_cell_annotation/02_fromCellLineages_to_CellTypes/Step3'"
      ]
     },
     "execution_count": 7,
     "metadata": {},
     "output_type": "execute_result"
    }
   ],
   "source": [
    "workDir"
   ]
  },
  {
   "cell_type": "markdown",
   "id": "171d2f06-9a44-4fcb-b437-35dc546674b6",
   "metadata": {
    "papermill": {
     "duration": 0.00358,
     "end_time": "2024-05-03T19:07:37.291785",
     "exception": false,
     "start_time": "2024-05-03T19:07:37.288205",
     "status": "completed"
    },
    "tags": []
   },
   "source": [
    "**Load data**"
   ]
  },
  {
   "cell_type": "code",
   "execution_count": 8,
   "id": "429f34fe-dde6-4cc9-9f75-7de8f85c5ffe",
   "metadata": {
    "execution": {
     "iopub.execute_input": "2024-05-03T19:07:37.300736Z",
     "iopub.status.busy": "2024-05-03T19:07:37.300205Z",
     "iopub.status.idle": "2024-05-03T19:07:46.538441Z",
     "shell.execute_reply": "2024-05-03T19:07:46.537829Z"
    },
    "papermill": {
     "duration": 9.244753,
     "end_time": "2024-05-03T19:07:46.540136",
     "exception": false,
     "start_time": "2024-05-03T19:07:37.295383",
     "status": "completed"
    },
    "tags": []
   },
   "outputs": [
    {
     "data": {
      "text/plain": [
       "AnnData object with n_obs × n_vars = 390379 × 2545\n",
       "    obs: 'studyID', 'libraryID', 'sampleID', 'chemistry', 'technology', 'patientID', 'disease', 'timepoint_replicate', 'treatmentStatus', 'therapyResponse', 'sex', 'age', 'BMI', 'binned_age', 'diseaseStatus', 'smokingStatus', 'ethnicity', 'institute', 'diseaseGroup', 'n_genes_by_counts', 'log1p_n_genes_by_counts', 'total_counts', 'log1p_total_counts', 'pct_counts_in_top_20_genes', 'total_counts_mt', 'log1p_total_counts_mt', 'pct_counts_mt', 'total_counts_ribo', 'log1p_total_counts_ribo', 'pct_counts_ribo', 'total_counts_hb', 'log1p_total_counts_hb', 'pct_counts_hb', 'total_counts_plt', 'log1p_total_counts_plt', 'pct_counts_plt', 'doublet_score', 'predicted_doublet', 'S_score', 'G2M_score', 'phase'\n",
       "    var: 'hgnc_id', 'symbol', 'locus_group', 'HUGO_status', 'mt', 'ribo', 'hb', 'plt', 'n_cells_by_counts', 'mean_counts', 'log1p_mean_counts', 'pct_dropout_by_counts', 'total_counts', 'log1p_total_counts', 'highly_variable'\n",
       "    uns: 'chemistry_colors', 'log1p'\n",
       "    layers: 'counts', 'log1p_10e4_counts'"
      ]
     },
     "execution_count": 8,
     "metadata": {},
     "output_type": "execute_result"
    }
   ],
   "source": [
    "adata = sc.read_h5ad(here(f\"{workDir}/{cellGroup}/results/01_{cellGroup}_normalized_HVGsubset.h5ad\"))\n",
    "adata"
   ]
  },
  {
   "cell_type": "markdown",
   "id": "8ac79f3b-d5af-41fa-8904-1e9ac1cbe2fb",
   "metadata": {
    "papermill": {
     "duration": 0.003772,
     "end_time": "2024-05-03T19:07:46.547958",
     "exception": false,
     "start_time": "2024-05-03T19:07:46.544186",
     "status": "completed"
    },
    "tags": []
   },
   "source": [
    "## scVI integration"
   ]
  },
  {
   "cell_type": "markdown",
   "id": "9544847d-d17f-4811-b14b-760446d54d32",
   "metadata": {
    "execution": {
     "iopub.execute_input": "2024-03-25T16:49:04.004504Z",
     "iopub.status.busy": "2024-03-25T16:49:04.004143Z",
     "iopub.status.idle": "2024-03-25T16:49:04.010148Z",
     "shell.execute_reply": "2024-03-25T16:49:04.009146Z",
     "shell.execute_reply.started": "2024-03-25T16:49:04.004477Z"
    },
    "papermill": {
     "duration": 0.003638,
     "end_time": "2024-05-03T19:07:46.555184",
     "exception": false,
     "start_time": "2024-05-03T19:07:46.551546",
     "status": "completed"
    },
    "tags": []
   },
   "source": [
    "**scVI parameters**"
   ]
  },
  {
   "cell_type": "code",
   "execution_count": 9,
   "id": "208966eb-545a-4c02-854c-0ed0487ef5b3",
   "metadata": {
    "execution": {
     "iopub.execute_input": "2024-05-03T19:07:46.564469Z",
     "iopub.status.busy": "2024-05-03T19:07:46.563717Z",
     "iopub.status.idle": "2024-05-03T19:07:46.569164Z",
     "shell.execute_reply": "2024-05-03T19:07:46.568567Z"
    },
    "papermill": {
     "duration": 0.011804,
     "end_time": "2024-05-03T19:07:46.570772",
     "exception": false,
     "start_time": "2024-05-03T19:07:46.558968",
     "status": "completed"
    },
    "tags": []
   },
   "outputs": [],
   "source": [
    "# https://docs.scvi-tools.org/en/stable/api/reference/scvi.train.Trainer.html#scvi.train.Trainer\n",
    "setup_kwargs = dict(\n",
    "    layer=\"counts\", \n",
    "    batch_key='libraryID', \n",
    "    categorical_covariate_keys = ['studyID', 'chemistry', 'disease', 'sampleID'],\n",
    "    labels_key = 'chemistry'    \n",
    ")\n",
    "\n",
    "scvi_kwargs = dict(n_hidden=512,\n",
    "                   n_latent=10, # reduceds after step 02\n",
    "                   n_layers=2,\n",
    "                   gene_likelihood='nb',\n",
    "                   dispersion='gene-label')\n",
    "\n",
    "trainer_kwargs = dict(\n",
    "    checkpointing_monitor = 'elbo_validation',\n",
    "    early_stopping_monitor = 'reconstruction_loss_validation',\n",
    "    early_stopping_patience = 10,\n",
    "    early_stopping_min_delta=0.1,\n",
    "    early_stopping = True,\n",
    "    max_epochs = 1000,\n",
    "\n",
    "    #logger = # wandb\n",
    ")\n",
    "# https://docs.scvi-tools.org/en/stable/api/reference/scvi.train.TrainingPlan.html#scvi.train.TrainingPlan\n",
    "plan_kwargs = dict(\n",
    "    lr = 5e-4,\n",
    "    #reduce_lr_on_plateau = True\n",
    ")\n",
    "\n",
    "# https://docs.scvi-tools.org/en/stable/api/reference/scvi.module.VAE.html#scvi.module.VAE\n",
    "#vae = dict(\n",
    "#    use_layer_norm='both',\n",
    "#    use_batch_norm='none',\n",
    "#    encode_covariates=True,\n",
    "#    deeply_inject_covariates=False\n",
    "#)\n",
    "parameter_dict = setup_kwargs | scvi_kwargs | trainer_kwargs | plan_kwargs"
   ]
  },
  {
   "cell_type": "markdown",
   "id": "1362366a-c16b-4c11-964b-b9c5f82f7b29",
   "metadata": {
    "papermill": {
     "duration": 0.003804,
     "end_time": "2024-05-03T19:07:46.578206",
     "exception": false,
     "start_time": "2024-05-03T19:07:46.574402",
     "status": "completed"
    },
    "tags": []
   },
   "source": [
    "**wandb parameter**"
   ]
  },
  {
   "cell_type": "code",
   "execution_count": 10,
   "id": "0496e33a-8ca5-423f-b42f-34a59760708c",
   "metadata": {
    "execution": {
     "iopub.execute_input": "2024-05-03T19:07:46.587558Z",
     "iopub.status.busy": "2024-05-03T19:07:46.586924Z",
     "iopub.status.idle": "2024-05-03T19:07:46.591250Z",
     "shell.execute_reply": "2024-05-03T19:07:46.590707Z"
    },
    "papermill": {
     "duration": 0.010562,
     "end_time": "2024-05-03T19:07:46.592811",
     "exception": false,
     "start_time": "2024-05-03T19:07:46.582249",
     "status": "completed"
    },
    "tags": []
   },
   "outputs": [
    {
     "data": {
      "text/plain": [
       "'Step3_NK'"
      ]
     },
     "execution_count": 10,
     "metadata": {},
     "output_type": "execute_result"
    }
   ],
   "source": [
    "run_name = f\"{annotationLevel}_{cellGroup}\"\n",
    "run_name"
   ]
  },
  {
   "cell_type": "code",
   "execution_count": 11,
   "id": "b0021327-95a2-4002-bf32-2c5779a99505",
   "metadata": {
    "execution": {
     "iopub.execute_input": "2024-05-03T19:07:46.601881Z",
     "iopub.status.busy": "2024-05-03T19:07:46.601393Z",
     "iopub.status.idle": "2024-05-03T19:07:46.725999Z",
     "shell.execute_reply": "2024-05-03T19:07:46.725369Z"
    },
    "papermill": {
     "duration": 0.131044,
     "end_time": "2024-05-03T19:07:46.727742",
     "exception": false,
     "start_time": "2024-05-03T19:07:46.596698",
     "status": "completed"
    },
    "tags": []
   },
   "outputs": [],
   "source": [
    "logger = CustomWandbLogger(name = run_name, project='inflammation_atlas_R1', config=parameter_dict)"
   ]
  },
  {
   "cell_type": "markdown",
   "id": "c237eee1-a976-4915-9b7f-b014bf33f47d",
   "metadata": {
    "papermill": {
     "duration": 0.004211,
     "end_time": "2024-05-03T19:07:46.736362",
     "exception": false,
     "start_time": "2024-05-03T19:07:46.732151",
     "status": "completed"
    },
    "tags": []
   },
   "source": [
    "**Running integration**"
   ]
  },
  {
   "cell_type": "code",
   "execution_count": 12,
   "id": "aff97c53-1aba-462e-8a77-f1aec9cf724c",
   "metadata": {
    "execution": {
     "iopub.execute_input": "2024-05-03T19:07:46.745748Z",
     "iopub.status.busy": "2024-05-03T19:07:46.745445Z",
     "iopub.status.idle": "2024-05-03T19:07:47.262973Z",
     "shell.execute_reply": "2024-05-03T19:07:47.262283Z"
    },
    "papermill": {
     "duration": 0.524697,
     "end_time": "2024-05-03T19:07:47.265047",
     "exception": false,
     "start_time": "2024-05-03T19:07:46.740350",
     "status": "completed"
    },
    "tags": []
   },
   "outputs": [],
   "source": [
    "scvi.model.SCVI.setup_anndata(adata, \n",
    "                              **setup_kwargs)"
   ]
  },
  {
   "cell_type": "code",
   "execution_count": 13,
   "id": "1a56f448-cf44-47c1-81a4-a89caa930fec",
   "metadata": {
    "execution": {
     "iopub.execute_input": "2024-05-03T19:07:47.274982Z",
     "iopub.status.busy": "2024-05-03T19:07:47.274711Z",
     "iopub.status.idle": "2024-05-03T19:07:47.819320Z",
     "shell.execute_reply": "2024-05-03T19:07:47.818556Z"
    },
    "papermill": {
     "duration": 0.552044,
     "end_time": "2024-05-03T19:07:47.821508",
     "exception": false,
     "start_time": "2024-05-03T19:07:47.269464",
     "status": "completed"
    },
    "tags": []
   },
   "outputs": [],
   "source": [
    "model = scvi.model.SCVI(adata, **scvi_kwargs)"
   ]
  },
  {
   "cell_type": "code",
   "execution_count": 14,
   "id": "2735f010-4f24-4ae8-9740-a8cfeb335e9a",
   "metadata": {
    "execution": {
     "iopub.execute_input": "2024-05-03T19:07:47.832109Z",
     "iopub.status.busy": "2024-05-03T19:07:47.831417Z",
     "iopub.status.idle": "2024-05-03T19:25:50.677067Z",
     "shell.execute_reply": "2024-05-03T19:25:50.676366Z"
    },
    "papermill": {
     "duration": 1082.853068,
     "end_time": "2024-05-03T19:25:50.678882",
     "exception": false,
     "start_time": "2024-05-03T19:07:47.825814",
     "status": "completed"
    },
    "tags": []
   },
   "outputs": [
    {
     "name": "stderr",
     "output_type": "stream",
     "text": [
      "GPU available: True (cuda), used: True\n"
     ]
    },
    {
     "name": "stderr",
     "output_type": "stream",
     "text": [
      "TPU available: False, using: 0 TPU cores\n"
     ]
    },
    {
     "name": "stderr",
     "output_type": "stream",
     "text": [
      "IPU available: False, using: 0 IPUs\n"
     ]
    },
    {
     "name": "stderr",
     "output_type": "stream",
     "text": [
      "HPU available: False, using: 0 HPUs\n"
     ]
    },
    {
     "name": "stderr",
     "output_type": "stream",
     "text": [
      "\u001b[34m\u001b[1mwandb\u001b[0m: Currently logged in as: \u001b[33mdav1989\u001b[0m (\u001b[33minflammation\u001b[0m). Use \u001b[1m`wandb login --relogin`\u001b[0m to force relogin\n"
     ]
    },
    {
     "name": "stderr",
     "output_type": "stream",
     "text": [
      "\u001b[34m\u001b[1mwandb\u001b[0m: wandb version 0.16.6 is available!  To upgrade, please run:\n",
      "\u001b[34m\u001b[1mwandb\u001b[0m:  $ pip install wandb --upgrade\n"
     ]
    },
    {
     "name": "stderr",
     "output_type": "stream",
     "text": [
      "\u001b[34m\u001b[1mwandb\u001b[0m: Tracking run with wandb version 0.16.3\n"
     ]
    },
    {
     "name": "stderr",
     "output_type": "stream",
     "text": [
      "\u001b[34m\u001b[1mwandb\u001b[0m: Run data is saved locally in \u001b[35m\u001b[1m./wandb/run-20240503_190752-f8hhi2f7\u001b[0m\n",
      "\u001b[34m\u001b[1mwandb\u001b[0m: Run \u001b[1m`wandb offline`\u001b[0m to turn off syncing.\n"
     ]
    },
    {
     "name": "stderr",
     "output_type": "stream",
     "text": [
      "\u001b[34m\u001b[1mwandb\u001b[0m: Syncing run \u001b[33mStep3_NK\u001b[0m\n"
     ]
    },
    {
     "name": "stderr",
     "output_type": "stream",
     "text": [
      "\u001b[34m\u001b[1mwandb\u001b[0m: ⭐️ View project at \u001b[34m\u001b[4mhttps://wandb.ai/inflammation/inflammation_atlas_R1\u001b[0m\n"
     ]
    },
    {
     "name": "stderr",
     "output_type": "stream",
     "text": [
      "\u001b[34m\u001b[1mwandb\u001b[0m: 🚀 View run at \u001b[34m\u001b[4mhttps://wandb.ai/inflammation/inflammation_atlas_R1/runs/f8hhi2f7\u001b[0m\n"
     ]
    },
    {
     "name": "stderr",
     "output_type": "stream",
     "text": [
      "LOCAL_RANK: 0 - CUDA_VISIBLE_DEVICES: [0]\n"
     ]
    },
    {
     "name": "stdout",
     "output_type": "stream",
     "text": [
      "\r",
      "Training:   0%|          | 0/1000 [00:00<?, ?it/s]"
     ]
    },
    {
     "name": "stdout",
     "output_type": "stream",
     "text": [
      "\r",
      "Epoch 1/1000:   0%|          | 0/1000 [00:00<?, ?it/s]"
     ]
    },
    {
     "name": "stdout",
     "output_type": "stream",
     "text": [
      "\r",
      "Epoch 1/1000:   0%|          | 1/1000 [00:39<10:52:31, 39.19s/it]"
     ]
    },
    {
     "name": "stdout",
     "output_type": "stream",
     "text": [
      "\r",
      "Epoch 1/1000:   0%|          | 1/1000 [00:39<10:52:31, 39.19s/it, v_num=i2f7, train_loss_step=792, train_loss_epoch=778]"
     ]
    },
    {
     "name": "stdout",
     "output_type": "stream",
     "text": [
      "\r",
      "Epoch 2/1000:   0%|          | 1/1000 [00:39<10:52:31, 39.19s/it, v_num=i2f7, train_loss_step=792, train_loss_epoch=778]"
     ]
    },
    {
     "name": "stdout",
     "output_type": "stream",
     "text": [
      "\r",
      "Epoch 2/1000:   0%|          | 2/1000 [01:16<10:29:24, 37.84s/it, v_num=i2f7, train_loss_step=792, train_loss_epoch=778]"
     ]
    },
    {
     "name": "stdout",
     "output_type": "stream",
     "text": [
      "\r",
      "Epoch 2/1000:   0%|          | 2/1000 [01:16<10:29:24, 37.84s/it, v_num=i2f7, train_loss_step=777, train_loss_epoch=762]"
     ]
    },
    {
     "name": "stdout",
     "output_type": "stream",
     "text": [
      "\r",
      "Epoch 3/1000:   0%|          | 2/1000 [01:16<10:29:24, 37.84s/it, v_num=i2f7, train_loss_step=777, train_loss_epoch=762]"
     ]
    },
    {
     "name": "stdout",
     "output_type": "stream",
     "text": [
      "\r",
      "Epoch 3/1000:   0%|          | 3/1000 [01:53<10:24:50, 37.60s/it, v_num=i2f7, train_loss_step=777, train_loss_epoch=762]"
     ]
    },
    {
     "name": "stdout",
     "output_type": "stream",
     "text": [
      "\r",
      "Epoch 3/1000:   0%|          | 3/1000 [01:53<10:24:50, 37.60s/it, v_num=i2f7, train_loss_step=740, train_loss_epoch=758]"
     ]
    },
    {
     "name": "stdout",
     "output_type": "stream",
     "text": [
      "\r",
      "Epoch 4/1000:   0%|          | 3/1000 [01:53<10:24:50, 37.60s/it, v_num=i2f7, train_loss_step=740, train_loss_epoch=758]"
     ]
    },
    {
     "name": "stdout",
     "output_type": "stream",
     "text": [
      "\r",
      "Epoch 4/1000:   0%|          | 4/1000 [02:30<10:23:11, 37.54s/it, v_num=i2f7, train_loss_step=740, train_loss_epoch=758]"
     ]
    },
    {
     "name": "stdout",
     "output_type": "stream",
     "text": [
      "\r",
      "Epoch 4/1000:   0%|          | 4/1000 [02:30<10:23:11, 37.54s/it, v_num=i2f7, train_loss_step=730, train_loss_epoch=755]"
     ]
    },
    {
     "name": "stdout",
     "output_type": "stream",
     "text": [
      "\r",
      "Epoch 5/1000:   0%|          | 4/1000 [02:30<10:23:11, 37.54s/it, v_num=i2f7, train_loss_step=730, train_loss_epoch=755]"
     ]
    },
    {
     "name": "stdout",
     "output_type": "stream",
     "text": [
      "\r",
      "Epoch 5/1000:   0%|          | 5/1000 [03:08<10:21:29, 37.48s/it, v_num=i2f7, train_loss_step=730, train_loss_epoch=755]"
     ]
    },
    {
     "name": "stdout",
     "output_type": "stream",
     "text": [
      "\r",
      "Epoch 5/1000:   0%|          | 5/1000 [03:08<10:21:29, 37.48s/it, v_num=i2f7, train_loss_step=762, train_loss_epoch=754]"
     ]
    },
    {
     "name": "stdout",
     "output_type": "stream",
     "text": [
      "\r",
      "Epoch 6/1000:   0%|          | 5/1000 [03:08<10:21:29, 37.48s/it, v_num=i2f7, train_loss_step=762, train_loss_epoch=754]"
     ]
    },
    {
     "name": "stdout",
     "output_type": "stream",
     "text": [
      "\r",
      "Epoch 6/1000:   1%|          | 6/1000 [03:44<10:14:36, 37.10s/it, v_num=i2f7, train_loss_step=762, train_loss_epoch=754]"
     ]
    },
    {
     "name": "stdout",
     "output_type": "stream",
     "text": [
      "\r",
      "Epoch 6/1000:   1%|          | 6/1000 [03:44<10:14:36, 37.10s/it, v_num=i2f7, train_loss_step=785, train_loss_epoch=753]"
     ]
    },
    {
     "name": "stdout",
     "output_type": "stream",
     "text": [
      "\r",
      "Epoch 7/1000:   1%|          | 6/1000 [03:44<10:14:36, 37.10s/it, v_num=i2f7, train_loss_step=785, train_loss_epoch=753]"
     ]
    },
    {
     "name": "stdout",
     "output_type": "stream",
     "text": [
      "\r",
      "Epoch 7/1000:   1%|          | 7/1000 [04:21<10:15:13, 37.17s/it, v_num=i2f7, train_loss_step=785, train_loss_epoch=753]"
     ]
    },
    {
     "name": "stdout",
     "output_type": "stream",
     "text": [
      "\r",
      "Epoch 7/1000:   1%|          | 7/1000 [04:21<10:15:13, 37.17s/it, v_num=i2f7, train_loss_step=735, train_loss_epoch=753]"
     ]
    },
    {
     "name": "stdout",
     "output_type": "stream",
     "text": [
      "\r",
      "Epoch 8/1000:   1%|          | 7/1000 [04:21<10:15:13, 37.17s/it, v_num=i2f7, train_loss_step=735, train_loss_epoch=753]"
     ]
    },
    {
     "name": "stdout",
     "output_type": "stream",
     "text": [
      "\r",
      "Epoch 8/1000:   1%|          | 8/1000 [04:59<10:15:33, 37.23s/it, v_num=i2f7, train_loss_step=735, train_loss_epoch=753]"
     ]
    },
    {
     "name": "stdout",
     "output_type": "stream",
     "text": [
      "\r",
      "Epoch 8/1000:   1%|          | 8/1000 [04:59<10:15:33, 37.23s/it, v_num=i2f7, train_loss_step=759, train_loss_epoch=752]"
     ]
    },
    {
     "name": "stdout",
     "output_type": "stream",
     "text": [
      "\r",
      "Epoch 9/1000:   1%|          | 8/1000 [04:59<10:15:33, 37.23s/it, v_num=i2f7, train_loss_step=759, train_loss_epoch=752]"
     ]
    },
    {
     "name": "stdout",
     "output_type": "stream",
     "text": [
      "\r",
      "Epoch 9/1000:   1%|          | 9/1000 [05:36<10:15:23, 37.26s/it, v_num=i2f7, train_loss_step=759, train_loss_epoch=752]"
     ]
    },
    {
     "name": "stdout",
     "output_type": "stream",
     "text": [
      "\r",
      "Epoch 9/1000:   1%|          | 9/1000 [05:36<10:15:23, 37.26s/it, v_num=i2f7, train_loss_step=744, train_loss_epoch=752]"
     ]
    },
    {
     "name": "stdout",
     "output_type": "stream",
     "text": [
      "\r",
      "Epoch 10/1000:   1%|          | 9/1000 [05:36<10:15:23, 37.26s/it, v_num=i2f7, train_loss_step=744, train_loss_epoch=752]"
     ]
    },
    {
     "name": "stdout",
     "output_type": "stream",
     "text": [
      "\r",
      "Epoch 10/1000:   1%|          | 10/1000 [06:13<10:11:47, 37.08s/it, v_num=i2f7, train_loss_step=744, train_loss_epoch=752]"
     ]
    },
    {
     "name": "stdout",
     "output_type": "stream",
     "text": [
      "\r",
      "Epoch 10/1000:   1%|          | 10/1000 [06:13<10:11:47, 37.08s/it, v_num=i2f7, train_loss_step=748, train_loss_epoch=751]"
     ]
    },
    {
     "name": "stdout",
     "output_type": "stream",
     "text": [
      "\r",
      "Epoch 11/1000:   1%|          | 10/1000 [06:13<10:11:47, 37.08s/it, v_num=i2f7, train_loss_step=748, train_loss_epoch=751]"
     ]
    },
    {
     "name": "stdout",
     "output_type": "stream",
     "text": [
      "\r",
      "Epoch 11/1000:   1%|          | 11/1000 [06:50<10:12:04, 37.13s/it, v_num=i2f7, train_loss_step=748, train_loss_epoch=751]"
     ]
    },
    {
     "name": "stdout",
     "output_type": "stream",
     "text": [
      "\r",
      "Epoch 11/1000:   1%|          | 11/1000 [06:50<10:12:04, 37.13s/it, v_num=i2f7, train_loss_step=745, train_loss_epoch=751]"
     ]
    },
    {
     "name": "stdout",
     "output_type": "stream",
     "text": [
      "\r",
      "Epoch 12/1000:   1%|          | 11/1000 [06:50<10:12:04, 37.13s/it, v_num=i2f7, train_loss_step=745, train_loss_epoch=751]"
     ]
    },
    {
     "name": "stdout",
     "output_type": "stream",
     "text": [
      "\r",
      "Epoch 12/1000:   1%|          | 12/1000 [07:28<10:13:35, 37.26s/it, v_num=i2f7, train_loss_step=745, train_loss_epoch=751]"
     ]
    },
    {
     "name": "stdout",
     "output_type": "stream",
     "text": [
      "\r",
      "Epoch 12/1000:   1%|          | 12/1000 [07:28<10:13:35, 37.26s/it, v_num=i2f7, train_loss_step=786, train_loss_epoch=751]"
     ]
    },
    {
     "name": "stdout",
     "output_type": "stream",
     "text": [
      "\r",
      "Epoch 13/1000:   1%|          | 12/1000 [07:28<10:13:35, 37.26s/it, v_num=i2f7, train_loss_step=786, train_loss_epoch=751]"
     ]
    },
    {
     "name": "stdout",
     "output_type": "stream",
     "text": [
      "\r",
      "Epoch 13/1000:   1%|▏         | 13/1000 [08:05<10:11:35, 37.18s/it, v_num=i2f7, train_loss_step=786, train_loss_epoch=751]"
     ]
    },
    {
     "name": "stdout",
     "output_type": "stream",
     "text": [
      "\r",
      "Epoch 13/1000:   1%|▏         | 13/1000 [08:05<10:11:35, 37.18s/it, v_num=i2f7, train_loss_step=714, train_loss_epoch=751]"
     ]
    },
    {
     "name": "stdout",
     "output_type": "stream",
     "text": [
      "\r",
      "Epoch 14/1000:   1%|▏         | 13/1000 [08:05<10:11:35, 37.18s/it, v_num=i2f7, train_loss_step=714, train_loss_epoch=751]"
     ]
    },
    {
     "name": "stdout",
     "output_type": "stream",
     "text": [
      "\r",
      "Epoch 14/1000:   1%|▏         | 14/1000 [08:41<10:09:39, 37.10s/it, v_num=i2f7, train_loss_step=714, train_loss_epoch=751]"
     ]
    },
    {
     "name": "stdout",
     "output_type": "stream",
     "text": [
      "\r",
      "Epoch 14/1000:   1%|▏         | 14/1000 [08:41<10:09:39, 37.10s/it, v_num=i2f7, train_loss_step=739, train_loss_epoch=751]"
     ]
    },
    {
     "name": "stdout",
     "output_type": "stream",
     "text": [
      "\r",
      "Epoch 15/1000:   1%|▏         | 14/1000 [08:41<10:09:39, 37.10s/it, v_num=i2f7, train_loss_step=739, train_loss_epoch=751]"
     ]
    },
    {
     "name": "stdout",
     "output_type": "stream",
     "text": [
      "\r",
      "Epoch 15/1000:   2%|▏         | 15/1000 [09:19<10:09:15, 37.11s/it, v_num=i2f7, train_loss_step=739, train_loss_epoch=751]"
     ]
    },
    {
     "name": "stdout",
     "output_type": "stream",
     "text": [
      "\r",
      "Epoch 15/1000:   2%|▏         | 15/1000 [09:19<10:09:15, 37.11s/it, v_num=i2f7, train_loss_step=740, train_loss_epoch=751]"
     ]
    },
    {
     "name": "stdout",
     "output_type": "stream",
     "text": [
      "\r",
      "Epoch 16/1000:   2%|▏         | 15/1000 [09:19<10:09:15, 37.11s/it, v_num=i2f7, train_loss_step=740, train_loss_epoch=751]"
     ]
    },
    {
     "name": "stdout",
     "output_type": "stream",
     "text": [
      "\r",
      "Epoch 16/1000:   2%|▏         | 16/1000 [09:56<10:08:54, 37.13s/it, v_num=i2f7, train_loss_step=740, train_loss_epoch=751]"
     ]
    },
    {
     "name": "stdout",
     "output_type": "stream",
     "text": [
      "\r",
      "Epoch 16/1000:   2%|▏         | 16/1000 [09:56<10:08:54, 37.13s/it, v_num=i2f7, train_loss_step=792, train_loss_epoch=750]"
     ]
    },
    {
     "name": "stdout",
     "output_type": "stream",
     "text": [
      "\r",
      "Epoch 17/1000:   2%|▏         | 16/1000 [09:56<10:08:54, 37.13s/it, v_num=i2f7, train_loss_step=792, train_loss_epoch=750]"
     ]
    },
    {
     "name": "stdout",
     "output_type": "stream",
     "text": [
      "\r",
      "Epoch 17/1000:   2%|▏         | 17/1000 [10:33<10:08:57, 37.17s/it, v_num=i2f7, train_loss_step=792, train_loss_epoch=750]"
     ]
    },
    {
     "name": "stdout",
     "output_type": "stream",
     "text": [
      "\r",
      "Epoch 17/1000:   2%|▏         | 17/1000 [10:33<10:08:57, 37.17s/it, v_num=i2f7, train_loss_step=769, train_loss_epoch=750]"
     ]
    },
    {
     "name": "stdout",
     "output_type": "stream",
     "text": [
      "\r",
      "Epoch 18/1000:   2%|▏         | 17/1000 [10:33<10:08:57, 37.17s/it, v_num=i2f7, train_loss_step=769, train_loss_epoch=750]"
     ]
    },
    {
     "name": "stdout",
     "output_type": "stream",
     "text": [
      "\r",
      "Epoch 18/1000:   2%|▏         | 18/1000 [11:10<10:06:11, 37.04s/it, v_num=i2f7, train_loss_step=769, train_loss_epoch=750]"
     ]
    },
    {
     "name": "stdout",
     "output_type": "stream",
     "text": [
      "\r",
      "Epoch 18/1000:   2%|▏         | 18/1000 [11:10<10:06:11, 37.04s/it, v_num=i2f7, train_loss_step=757, train_loss_epoch=750]"
     ]
    },
    {
     "name": "stdout",
     "output_type": "stream",
     "text": [
      "\r",
      "Epoch 19/1000:   2%|▏         | 18/1000 [11:10<10:06:11, 37.04s/it, v_num=i2f7, train_loss_step=757, train_loss_epoch=750]"
     ]
    },
    {
     "name": "stdout",
     "output_type": "stream",
     "text": [
      "\r",
      "Epoch 19/1000:   2%|▏         | 19/1000 [11:46<10:03:37, 36.92s/it, v_num=i2f7, train_loss_step=757, train_loss_epoch=750]"
     ]
    },
    {
     "name": "stdout",
     "output_type": "stream",
     "text": [
      "\r",
      "Epoch 19/1000:   2%|▏         | 19/1000 [11:46<10:03:37, 36.92s/it, v_num=i2f7, train_loss_step=778, train_loss_epoch=750]"
     ]
    },
    {
     "name": "stdout",
     "output_type": "stream",
     "text": [
      "\r",
      "Epoch 20/1000:   2%|▏         | 19/1000 [11:46<10:03:37, 36.92s/it, v_num=i2f7, train_loss_step=778, train_loss_epoch=750]"
     ]
    },
    {
     "name": "stdout",
     "output_type": "stream",
     "text": [
      "\r",
      "Epoch 20/1000:   2%|▏         | 20/1000 [12:24<10:04:57, 37.04s/it, v_num=i2f7, train_loss_step=778, train_loss_epoch=750]"
     ]
    },
    {
     "name": "stdout",
     "output_type": "stream",
     "text": [
      "\r",
      "Epoch 20/1000:   2%|▏         | 20/1000 [12:24<10:04:57, 37.04s/it, v_num=i2f7, train_loss_step=768, train_loss_epoch=750]"
     ]
    },
    {
     "name": "stdout",
     "output_type": "stream",
     "text": [
      "\r",
      "Epoch 21/1000:   2%|▏         | 20/1000 [12:24<10:04:57, 37.04s/it, v_num=i2f7, train_loss_step=768, train_loss_epoch=750]"
     ]
    },
    {
     "name": "stdout",
     "output_type": "stream",
     "text": [
      "\r",
      "Epoch 21/1000:   2%|▏         | 21/1000 [13:01<10:05:37, 37.12s/it, v_num=i2f7, train_loss_step=768, train_loss_epoch=750]"
     ]
    },
    {
     "name": "stdout",
     "output_type": "stream",
     "text": [
      "\r",
      "Epoch 21/1000:   2%|▏         | 21/1000 [13:01<10:05:37, 37.12s/it, v_num=i2f7, train_loss_step=824, train_loss_epoch=750]"
     ]
    },
    {
     "name": "stdout",
     "output_type": "stream",
     "text": [
      "\r",
      "Epoch 22/1000:   2%|▏         | 21/1000 [13:01<10:05:37, 37.12s/it, v_num=i2f7, train_loss_step=824, train_loss_epoch=750]"
     ]
    },
    {
     "name": "stdout",
     "output_type": "stream",
     "text": [
      "\r",
      "Epoch 22/1000:   2%|▏         | 22/1000 [13:38<10:03:54, 37.05s/it, v_num=i2f7, train_loss_step=824, train_loss_epoch=750]"
     ]
    },
    {
     "name": "stdout",
     "output_type": "stream",
     "text": [
      "\r",
      "Epoch 22/1000:   2%|▏         | 22/1000 [13:38<10:03:54, 37.05s/it, v_num=i2f7, train_loss_step=756, train_loss_epoch=750]"
     ]
    },
    {
     "name": "stdout",
     "output_type": "stream",
     "text": [
      "\r",
      "Epoch 23/1000:   2%|▏         | 22/1000 [13:38<10:03:54, 37.05s/it, v_num=i2f7, train_loss_step=756, train_loss_epoch=750]"
     ]
    },
    {
     "name": "stdout",
     "output_type": "stream",
     "text": [
      "\r",
      "Epoch 23/1000:   2%|▏         | 23/1000 [14:14<9:59:48, 36.84s/it, v_num=i2f7, train_loss_step=756, train_loss_epoch=750] "
     ]
    },
    {
     "name": "stdout",
     "output_type": "stream",
     "text": [
      "\r",
      "Epoch 23/1000:   2%|▏         | 23/1000 [14:14<9:59:48, 36.84s/it, v_num=i2f7, train_loss_step=750, train_loss_epoch=750]"
     ]
    },
    {
     "name": "stdout",
     "output_type": "stream",
     "text": [
      "\r",
      "Epoch 24/1000:   2%|▏         | 23/1000 [14:14<9:59:48, 36.84s/it, v_num=i2f7, train_loss_step=750, train_loss_epoch=750]"
     ]
    },
    {
     "name": "stdout",
     "output_type": "stream",
     "text": [
      "\r",
      "Epoch 24/1000:   2%|▏         | 24/1000 [14:51<10:01:02, 36.95s/it, v_num=i2f7, train_loss_step=750, train_loss_epoch=750]"
     ]
    },
    {
     "name": "stdout",
     "output_type": "stream",
     "text": [
      "\r",
      "Epoch 24/1000:   2%|▏         | 24/1000 [14:51<10:01:02, 36.95s/it, v_num=i2f7, train_loss_step=765, train_loss_epoch=750]"
     ]
    },
    {
     "name": "stdout",
     "output_type": "stream",
     "text": [
      "\r",
      "Epoch 25/1000:   2%|▏         | 24/1000 [14:51<10:01:02, 36.95s/it, v_num=i2f7, train_loss_step=765, train_loss_epoch=750]"
     ]
    },
    {
     "name": "stdout",
     "output_type": "stream",
     "text": [
      "\r",
      "Epoch 25/1000:   2%|▎         | 25/1000 [15:29<10:03:52, 37.16s/it, v_num=i2f7, train_loss_step=765, train_loss_epoch=750]"
     ]
    },
    {
     "name": "stdout",
     "output_type": "stream",
     "text": [
      "\r",
      "Epoch 25/1000:   2%|▎         | 25/1000 [15:29<10:03:52, 37.16s/it, v_num=i2f7, train_loss_step=754, train_loss_epoch=750]"
     ]
    },
    {
     "name": "stdout",
     "output_type": "stream",
     "text": [
      "\r",
      "Epoch 26/1000:   2%|▎         | 25/1000 [15:29<10:03:52, 37.16s/it, v_num=i2f7, train_loss_step=754, train_loss_epoch=750]"
     ]
    },
    {
     "name": "stdout",
     "output_type": "stream",
     "text": [
      "\r",
      "Epoch 26/1000:   3%|▎         | 26/1000 [16:06<10:03:03, 37.15s/it, v_num=i2f7, train_loss_step=754, train_loss_epoch=750]"
     ]
    },
    {
     "name": "stdout",
     "output_type": "stream",
     "text": [
      "\r",
      "Epoch 26/1000:   3%|▎         | 26/1000 [16:06<10:03:03, 37.15s/it, v_num=i2f7, train_loss_step=774, train_loss_epoch=750]"
     ]
    },
    {
     "name": "stdout",
     "output_type": "stream",
     "text": [
      "\r",
      "Epoch 27/1000:   3%|▎         | 26/1000 [16:06<10:03:03, 37.15s/it, v_num=i2f7, train_loss_step=774, train_loss_epoch=750]"
     ]
    },
    {
     "name": "stdout",
     "output_type": "stream",
     "text": [
      "\r",
      "Epoch 27/1000:   3%|▎         | 27/1000 [16:43<9:58:27, 36.90s/it, v_num=i2f7, train_loss_step=774, train_loss_epoch=750] "
     ]
    },
    {
     "name": "stdout",
     "output_type": "stream",
     "text": [
      "\r",
      "Epoch 27/1000:   3%|▎         | 27/1000 [16:43<9:58:27, 36.90s/it, v_num=i2f7, train_loss_step=720, train_loss_epoch=750]"
     ]
    },
    {
     "name": "stdout",
     "output_type": "stream",
     "text": [
      "\r",
      "Epoch 28/1000:   3%|▎         | 27/1000 [16:43<9:58:27, 36.90s/it, v_num=i2f7, train_loss_step=720, train_loss_epoch=750]"
     ]
    },
    {
     "name": "stdout",
     "output_type": "stream",
     "text": [
      "\r",
      "Epoch 28/1000:   3%|▎         | 28/1000 [17:20<9:59:22, 37.00s/it, v_num=i2f7, train_loss_step=720, train_loss_epoch=750]"
     ]
    },
    {
     "name": "stdout",
     "output_type": "stream",
     "text": [
      "\r",
      "Epoch 28/1000:   3%|▎         | 28/1000 [17:20<9:59:22, 37.00s/it, v_num=i2f7, train_loss_step=793, train_loss_epoch=750]"
     ]
    },
    {
     "name": "stdout",
     "output_type": "stream",
     "text": [
      "\r",
      "Epoch 29/1000:   3%|▎         | 28/1000 [17:20<9:59:22, 37.00s/it, v_num=i2f7, train_loss_step=793, train_loss_epoch=750]"
     ]
    },
    {
     "name": "stdout",
     "output_type": "stream",
     "text": [
      "\r",
      "Epoch 29/1000:   3%|▎         | 29/1000 [17:57<9:58:33, 36.99s/it, v_num=i2f7, train_loss_step=793, train_loss_epoch=750]"
     ]
    },
    {
     "name": "stdout",
     "output_type": "stream",
     "text": [
      "\r",
      "Epoch 29/1000:   3%|▎         | 29/1000 [17:57<9:58:33, 36.99s/it, v_num=i2f7, train_loss_step=749, train_loss_epoch=750]"
     ]
    },
    {
     "name": "stdout",
     "output_type": "stream",
     "text": [
      "\r",
      "Epoch 29/1000:   3%|▎         | 29/1000 [17:57<10:01:10, 37.15s/it, v_num=i2f7, train_loss_step=749, train_loss_epoch=750]"
     ]
    },
    {
     "name": "stdout",
     "output_type": "stream",
     "text": [
      "\n",
      "Monitored metric reconstruction_loss_validation did not improve in the last 10 records. Best score: 754.189. Signaling Trainer to stop.\n"
     ]
    }
   ],
   "source": [
    "model.train(logger=logger, plan_kwargs = plan_kwargs, **trainer_kwargs)"
   ]
  },
  {
   "cell_type": "code",
   "execution_count": 15,
   "id": "c282f6eb-0ad1-40a5-81e6-1acda1545dad",
   "metadata": {
    "execution": {
     "iopub.execute_input": "2024-05-03T19:25:50.709439Z",
     "iopub.status.busy": "2024-05-03T19:25:50.708744Z",
     "iopub.status.idle": "2024-05-03T19:25:56.935931Z",
     "shell.execute_reply": "2024-05-03T19:25:56.935052Z"
    },
    "papermill": {
     "duration": 6.244481,
     "end_time": "2024-05-03T19:25:56.937935",
     "exception": false,
     "start_time": "2024-05-03T19:25:50.693454",
     "status": "completed"
    },
    "tags": []
   },
   "outputs": [
    {
     "name": "stderr",
     "output_type": "stream",
     "text": [
      "\u001b[34m\u001b[1mwandb\u001b[0m: - 0.003 MB of 0.003 MB uploaded\r"
     ]
    },
    {
     "name": "stderr",
     "output_type": "stream",
     "text": [
      "\u001b[34m\u001b[1mwandb\u001b[0m: \\ 0.003 MB of 0.009 MB uploaded\r"
     ]
    },
    {
     "name": "stderr",
     "output_type": "stream",
     "text": [
      "\u001b[34m\u001b[1mwandb\u001b[0m: | 0.009 MB of 0.009 MB uploaded\r"
     ]
    },
    {
     "name": "stderr",
     "output_type": "stream",
     "text": [
      "\u001b[34m\u001b[1mwandb\u001b[0m: / 0.009 MB of 0.009 MB uploaded\r"
     ]
    },
    {
     "name": "stderr",
     "output_type": "stream",
     "text": [
      "\u001b[34m\u001b[1mwandb\u001b[0m: - 0.009 MB of 0.009 MB uploaded\r"
     ]
    },
    {
     "name": "stderr",
     "output_type": "stream",
     "text": [
      "\u001b[34m\u001b[1mwandb\u001b[0m:                                                                                \n"
     ]
    },
    {
     "name": "stderr",
     "output_type": "stream",
     "text": [
      "\u001b[34m\u001b[1mwandb\u001b[0m: \n",
      "\u001b[34m\u001b[1mwandb\u001b[0m: Run history:\n",
      "\u001b[34m\u001b[1mwandb\u001b[0m:                     elbo_train █▆▅▄▃▃▃▃▂▂▂▂▂▂▂▂▂▂▁▁▁▁▁▁▁▁▁▁▁\n",
      "\u001b[34m\u001b[1mwandb\u001b[0m:                elbo_validation █▆▅▄▃▃▃▂▂▂▂▂▂▂▂▂▂▁▁▁▁▁▁▁▁▁▁▁▁\n",
      "\u001b[34m\u001b[1mwandb\u001b[0m:                          epoch ▁▁▁▁▂▂▂▂▃▃▃▃▃▃▃▄▄▄▄▅▅▅▅▅▅▅▆▆▆▆▇▇▇▇▇▇▇███\n",
      "\u001b[34m\u001b[1mwandb\u001b[0m:                kl_global_train ▁▁▁▁▁▁▁▁▁▁▁▁▁▁▁▁▁▁▁▁▁▁▁▁▁▁▁▁▁\n",
      "\u001b[34m\u001b[1mwandb\u001b[0m:           kl_global_validation ▁▁▁▁▁▁▁▁▁▁▁▁▁▁▁▁▁▁▁▁▁▁▁▁▁▁▁▁▁\n",
      "\u001b[34m\u001b[1mwandb\u001b[0m:                 kl_local_train ██▇▅▄▄▄▃▃▃▃▃▃▂▂▂▂▂▂▂▂▂▁▁▁▁▁▁▁\n",
      "\u001b[34m\u001b[1mwandb\u001b[0m:            kl_local_validation █▇▆▅▄▄▃▃▃▃▃▂▂▂▂▂▂▂▂▂▁▁▁▁▁▁▁▁▁\n",
      "\u001b[34m\u001b[1mwandb\u001b[0m:                      kl_weight ▁▁▁▁▂▂▂▂▂▂▃▃▃▃▄▄▄▄▄▄▅▅▅▅▅▆▆▆▆▆▆▆▇▇▇▇▇███\n",
      "\u001b[34m\u001b[1mwandb\u001b[0m:      reconstruction_loss_train █▄▃▃▂▂▂▂▂▂▂▂▁▁▁▁▁▁▁▁▁▁▁▁▁▁▁▁▁\n",
      "\u001b[34m\u001b[1mwandb\u001b[0m: reconstruction_loss_validation █▅▃▃▂▂▂▂▁▁▁▁▁▁▁▁▁▁▁▁▁▁▁▁▁▁▁▁▁\n",
      "\u001b[34m\u001b[1mwandb\u001b[0m:               train_loss_epoch █▄▃▂▂▂▂▂▂▁▁▁▁▁▁▁▁▁▁▁▁▁▁▁▁▁▁▁▁\n",
      "\u001b[34m\u001b[1mwandb\u001b[0m:                train_loss_step ▄▅█▁▆▄▅▅▆▄▂▄▅▅▃▂▅▄▄▃▂▂▄▄▂▃▄▅▁▄▆▆▇▄▆▃▂▄▅▂\n",
      "\u001b[34m\u001b[1mwandb\u001b[0m:            trainer/global_step ▁▁▁▂▂▂▂▂▂▃▃▃▃▃▄▄▄▄▄▄▅▅▅▅▅▅▆▆▆▆▆▇▇▇▇▇▇███\n",
      "\u001b[34m\u001b[1mwandb\u001b[0m:                validation_loss █▄▃▂▂▁▁▁▁▁▁▁▁▁▁▁▁▁▁▁▁▁▁▁▁▁▁▁▁\n",
      "\u001b[34m\u001b[1mwandb\u001b[0m: \n",
      "\u001b[34m\u001b[1mwandb\u001b[0m: Run summary:\n",
      "\u001b[34m\u001b[1mwandb\u001b[0m:                     elbo_train 772.20087\n",
      "\u001b[34m\u001b[1mwandb\u001b[0m:                elbo_validation 778.13\n",
      "\u001b[34m\u001b[1mwandb\u001b[0m:                          epoch 28\n",
      "\u001b[34m\u001b[1mwandb\u001b[0m:                kl_global_train 0.0\n",
      "\u001b[34m\u001b[1mwandb\u001b[0m:           kl_global_validation 0.0\n",
      "\u001b[34m\u001b[1mwandb\u001b[0m:                 kl_local_train 24.2149\n",
      "\u001b[34m\u001b[1mwandb\u001b[0m:            kl_local_validation 23.72619\n",
      "\u001b[34m\u001b[1mwandb\u001b[0m:                      kl_weight 0.07\n",
      "\u001b[34m\u001b[1mwandb\u001b[0m:      reconstruction_loss_train 747.98596\n",
      "\u001b[34m\u001b[1mwandb\u001b[0m: reconstruction_loss_validation 754.40381\n",
      "\u001b[34m\u001b[1mwandb\u001b[0m:               train_loss_epoch 749.68225\n",
      "\u001b[34m\u001b[1mwandb\u001b[0m:                train_loss_step 731.81195\n",
      "\u001b[34m\u001b[1mwandb\u001b[0m:            trainer/global_step 79604\n",
      "\u001b[34m\u001b[1mwandb\u001b[0m:                validation_loss 756.06476\n",
      "\u001b[34m\u001b[1mwandb\u001b[0m: \n"
     ]
    },
    {
     "name": "stderr",
     "output_type": "stream",
     "text": [
      "\u001b[34m\u001b[1mwandb\u001b[0m: 🚀 View run \u001b[33mStep3_NK\u001b[0m at: \u001b[34m\u001b[4mhttps://wandb.ai/inflammation/inflammation_atlas_R1/runs/f8hhi2f7\u001b[0m\n",
      "\u001b[34m\u001b[1mwandb\u001b[0m: Synced 5 W&B file(s), 0 media file(s), 0 artifact file(s) and 0 other file(s)\n"
     ]
    },
    {
     "name": "stderr",
     "output_type": "stream",
     "text": [
      "\u001b[34m\u001b[1mwandb\u001b[0m: Find logs at: \u001b[35m\u001b[1m./wandb/run-20240503_190752-f8hhi2f7/logs\u001b[0m\n"
     ]
    }
   ],
   "source": [
    "wandb.finish()"
   ]
  },
  {
   "cell_type": "markdown",
   "id": "d9fb1179-83c7-4ac6-b4aa-92dc7a349801",
   "metadata": {
    "papermill": {
     "duration": 0.014651,
     "end_time": "2024-05-03T19:25:56.967798",
     "exception": false,
     "start_time": "2024-05-03T19:25:56.953147",
     "status": "completed"
    },
    "tags": []
   },
   "source": [
    "### Extracting embedding space"
   ]
  },
  {
   "cell_type": "code",
   "execution_count": 16,
   "id": "caaa5832-0123-4c59-8ec6-f46a75f7a14e",
   "metadata": {
    "execution": {
     "iopub.execute_input": "2024-05-03T19:25:56.998276Z",
     "iopub.status.busy": "2024-05-03T19:25:56.997998Z",
     "iopub.status.idle": "2024-05-03T19:26:09.297312Z",
     "shell.execute_reply": "2024-05-03T19:26:09.296578Z"
    },
    "papermill": {
     "duration": 12.318321,
     "end_time": "2024-05-03T19:26:09.300461",
     "exception": false,
     "start_time": "2024-05-03T19:25:56.982140",
     "status": "completed"
    },
    "tags": []
   },
   "outputs": [],
   "source": [
    "adata.obsm['X_scVI'] = model.get_latent_representation()"
   ]
  },
  {
   "cell_type": "markdown",
   "id": "2f03e70b-839c-40a6-9fbb-d76bbd787419",
   "metadata": {
    "papermill": {
     "duration": 0.014573,
     "end_time": "2024-05-03T19:26:09.331066",
     "exception": false,
     "start_time": "2024-05-03T19:26:09.316493",
     "status": "completed"
    },
    "tags": []
   },
   "source": [
    "## Save the results"
   ]
  },
  {
   "cell_type": "code",
   "execution_count": 17,
   "id": "7b04049b-47fd-4b62-a1c0-c43dcc086d34",
   "metadata": {
    "execution": {
     "iopub.execute_input": "2024-05-03T19:26:09.360077Z",
     "iopub.status.busy": "2024-05-03T19:26:09.359632Z",
     "iopub.status.idle": "2024-05-03T19:26:50.956079Z",
     "shell.execute_reply": "2024-05-03T19:26:50.955287Z"
    },
    "papermill": {
     "duration": 41.612832,
     "end_time": "2024-05-03T19:26:50.958266",
     "exception": false,
     "start_time": "2024-05-03T19:26:09.345434",
     "status": "completed"
    },
    "tags": []
   },
   "outputs": [],
   "source": [
    "if overwriteData:\n",
    "    adata.write(here(f\"{workDir}/{cellGroup}/results/02_{annotationLevel}_{cellGroup}_HVGsubset_scVI.h5ad\"), compression=\"gzip\")\n",
    "    model.save(here(f\"{workDir}/{cellGroup}/results/02_{annotationLevel}_{cellGroup}_HVGsubset_scVI_MODEL/\"),\n",
    "               overwrite = True, \n",
    "               save_anndata = False )   "
   ]
  },
  {
   "cell_type": "code",
   "execution_count": 18,
   "id": "629ba2bd-f6be-44ef-8fca-bbdf891bf25f",
   "metadata": {
    "execution": {
     "iopub.execute_input": "2024-05-03T19:26:50.978193Z",
     "iopub.status.busy": "2024-05-03T19:26:50.977910Z",
     "iopub.status.idle": "2024-05-03T19:26:50.981473Z",
     "shell.execute_reply": "2024-05-03T19:26:50.980749Z"
    },
    "papermill": {
     "duration": 0.015481,
     "end_time": "2024-05-03T19:26:50.983095",
     "exception": false,
     "start_time": "2024-05-03T19:26:50.967614",
     "status": "completed"
    },
    "tags": []
   },
   "outputs": [],
   "source": [
    "# To load the model do (after loading corresponding adata):\n",
    "# model = scvi.model.SCVI.load(here('{}/results/01_{}_HVGsubset_scVI_MODEL/'.format(workDir, cellGroup)), \n",
    "#                              adata, \n",
    "#                              use_gpu=True)"
   ]
  },
  {
   "cell_type": "raw",
   "id": "975e84d0-f56b-498d-b3a8-c9219cf22e53",
   "metadata": {
    "papermill": {
     "duration": 0.008935,
     "end_time": "2024-05-03T19:26:51.000877",
     "exception": false,
     "start_time": "2024-05-03T19:26:50.991942",
     "status": "completed"
    },
    "tags": []
   },
   "source": [
    "session_info.show()"
   ]
  }
 ],
 "metadata": {
  "kernelspec": {
   "display_name": "Python 3 (ipykernel)",
   "language": "python",
   "name": "python3"
  },
  "language_info": {
   "codemirror_mode": {
    "name": "ipython",
    "version": 3
   },
   "file_extension": ".py",
   "mimetype": "text/x-python",
   "name": "python",
   "nbconvert_exporter": "python",
   "pygments_lexer": "ipython3",
   "version": "3.9.18"
  },
  "papermill": {
   "default_parameters": {},
   "duration": 1163.722167,
   "end_time": "2024-05-03T19:26:54.874079",
   "environment_variables": {},
   "exception": null,
   "input_path": "./NK/02_integration_scVI.ipynb",
   "output_path": "./NK/02_integration_scVI_executed.ipynb",
   "parameters": {},
   "start_time": "2024-05-03T19:07:31.151912",
   "version": "2.5.0"
  }
 },
 "nbformat": 4,
 "nbformat_minor": 5
}