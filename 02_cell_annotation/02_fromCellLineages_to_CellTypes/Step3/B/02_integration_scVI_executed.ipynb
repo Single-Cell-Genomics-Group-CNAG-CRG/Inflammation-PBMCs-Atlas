{
 "cells": [
  {
   "cell_type": "code",
   "execution_count": 1,
   "id": "2dd1425a-0c07-465e-b522-9e3cc5cb93a7",
   "metadata": {
    "execution": {
     "iopub.execute_input": "2024-05-03T20:51:56.331701Z",
     "iopub.status.busy": "2024-05-03T20:51:56.330877Z",
     "iopub.status.idle": "2024-05-03T20:52:01.529023Z",
     "shell.execute_reply": "2024-05-03T20:52:01.528079Z"
    },
    "papermill": {
     "duration": 5.206212,
     "end_time": "2024-05-03T20:52:01.531062",
     "exception": false,
     "start_time": "2024-05-03T20:51:56.324850",
     "status": "completed"
    },
    "tags": []
   },
   "outputs": [
    {
     "data": {
      "text/plain": [
       "True"
      ]
     },
     "execution_count": 1,
     "metadata": {},
     "output_type": "execute_result"
    }
   ],
   "source": [
    "import os\n",
    "import sys\n",
    "\n",
    "import numpy as np\n",
    "import matplotlib.pyplot as plt\n",
    "\n",
    "import scanpy as sc\n",
    "import scvi\n",
    "import torch\n",
    "\n",
    "from pytorch_lightning.loggers import WandbLogger\n",
    "import wandb\n",
    "from dotenv import load_dotenv\n",
    "\n",
    "import session_info\n",
    "import warnings\n",
    "from pyprojroot.here import here\n",
    "\n",
    "warnings.filterwarnings(\"ignore\")\n",
    "sys.path.insert(1, str(here('bin')))\n",
    "\n",
    "torch.set_float32_matmul_precision('high')\n",
    "\n",
    "#plt.style.use(['science','nature','no-latex'])\n",
    "dpi_fig_save = 300\n",
    "sc.set_figure_params(dpi=100, dpi_save=dpi_fig_save, vector_friendly=True)\n",
    "\n",
    "load_dotenv(here('.env'))"
   ]
  },
  {
   "cell_type": "code",
   "execution_count": 2,
   "id": "09c897fc-744b-43de-a681-718fb5d327fa",
   "metadata": {
    "execution": {
     "iopub.execute_input": "2024-05-03T20:52:01.541094Z",
     "iopub.status.busy": "2024-05-03T20:52:01.540818Z",
     "iopub.status.idle": "2024-05-03T20:52:01.544743Z",
     "shell.execute_reply": "2024-05-03T20:52:01.544156Z"
    },
    "papermill": {
     "duration": 0.01002,
     "end_time": "2024-05-03T20:52:01.546303",
     "exception": false,
     "start_time": "2024-05-03T20:52:01.536283",
     "status": "completed"
    },
    "tags": []
   },
   "outputs": [],
   "source": [
    "class CustomWandbLogger(WandbLogger):\n",
    "    @property\n",
    "    def save_dir(self):\n",
    "        return self.experiment.dir"
   ]
  },
  {
   "cell_type": "code",
   "execution_count": 3,
   "id": "8ee6662f-5d45-4137-80a5-bb0b9ae8d71f",
   "metadata": {
    "execution": {
     "iopub.execute_input": "2024-05-03T20:52:01.554554Z",
     "iopub.status.busy": "2024-05-03T20:52:01.553902Z",
     "iopub.status.idle": "2024-05-03T20:52:01.560115Z",
     "shell.execute_reply": "2024-05-03T20:52:01.559305Z"
    },
    "papermill": {
     "duration": 0.012236,
     "end_time": "2024-05-03T20:52:01.561649",
     "exception": false,
     "start_time": "2024-05-03T20:52:01.549413",
     "status": "completed"
    },
    "tags": []
   },
   "outputs": [
    {
     "name": "stderr",
     "output_type": "stream",
     "text": [
      "Seed set to 0\n"
     ]
    },
    {
     "name": "stdout",
     "output_type": "stream",
     "text": [
      "Last run with scvi-tools version: 1.1.2\n"
     ]
    }
   ],
   "source": [
    "scvi.settings.seed = 0\n",
    "print(\"Last run with scvi-tools version:\", scvi.__version__)"
   ]
  },
  {
   "cell_type": "markdown",
   "id": "a81037ff-5998-482a-ba86-520f757311a9",
   "metadata": {
    "papermill": {
     "duration": 0.003251,
     "end_time": "2024-05-03T20:52:01.568083",
     "exception": false,
     "start_time": "2024-05-03T20:52:01.564832",
     "status": "completed"
    },
    "tags": []
   },
   "source": [
    "**Setting parameters** "
   ]
  },
  {
   "cell_type": "code",
   "execution_count": 4,
   "id": "56c27966-8f10-4c93-8b1a-1fa75f005e41",
   "metadata": {
    "execution": {
     "iopub.execute_input": "2024-05-03T20:52:01.577998Z",
     "iopub.status.busy": "2024-05-03T20:52:01.577222Z",
     "iopub.status.idle": "2024-05-03T20:52:01.581210Z",
     "shell.execute_reply": "2024-05-03T20:52:01.580370Z"
    },
    "papermill": {
     "duration": 0.011182,
     "end_time": "2024-05-03T20:52:01.582864",
     "exception": false,
     "start_time": "2024-05-03T20:52:01.571682",
     "status": "completed"
    },
    "tags": []
   },
   "outputs": [],
   "source": [
    "overwriteFigures = True\n",
    "overwriteData = True"
   ]
  },
  {
   "cell_type": "code",
   "execution_count": 5,
   "id": "c86fccd3-a4fe-415b-8f4e-e2ceb3ec128a",
   "metadata": {
    "execution": {
     "iopub.execute_input": "2024-05-03T20:52:01.591189Z",
     "iopub.status.busy": "2024-05-03T20:52:01.590913Z",
     "iopub.status.idle": "2024-05-03T20:52:01.594750Z",
     "shell.execute_reply": "2024-05-03T20:52:01.593925Z"
    },
    "papermill": {
     "duration": 0.010338,
     "end_time": "2024-05-03T20:52:01.596611",
     "exception": false,
     "start_time": "2024-05-03T20:52:01.586273",
     "status": "completed"
    },
    "tags": []
   },
   "outputs": [],
   "source": [
    "cellGroup = 'B'\n",
    "workDir = os.getcwd()\n",
    "workDir = '/home/jupyter/Inflammation-PBMCs-Atlas/02_cell_annotation/02_fromCellLineages_to_CellTypes/Step3/'"
   ]
  },
  {
   "cell_type": "code",
   "execution_count": 6,
   "id": "2dee4d55-d168-467b-b867-a61fed9d6af1",
   "metadata": {
    "execution": {
     "iopub.execute_input": "2024-05-03T20:52:01.605088Z",
     "iopub.status.busy": "2024-05-03T20:52:01.604408Z",
     "iopub.status.idle": "2024-05-03T20:52:01.608421Z",
     "shell.execute_reply": "2024-05-03T20:52:01.607578Z"
    },
    "papermill": {
     "duration": 0.010048,
     "end_time": "2024-05-03T20:52:01.609933",
     "exception": false,
     "start_time": "2024-05-03T20:52:01.599885",
     "status": "completed"
    },
    "tags": []
   },
   "outputs": [],
   "source": [
    "annotationLevel = os.path.basename(os.path.normpath(workDir))"
   ]
  },
  {
   "cell_type": "markdown",
   "id": "171d2f06-9a44-4fcb-b437-35dc546674b6",
   "metadata": {
    "papermill": {
     "duration": 0.004609,
     "end_time": "2024-05-03T20:52:01.618018",
     "exception": false,
     "start_time": "2024-05-03T20:52:01.613409",
     "status": "completed"
    },
    "tags": []
   },
   "source": [
    "**Load data**"
   ]
  },
  {
   "cell_type": "code",
   "execution_count": 7,
   "id": "429f34fe-dde6-4cc9-9f75-7de8f85c5ffe",
   "metadata": {
    "execution": {
     "iopub.execute_input": "2024-05-03T20:52:01.626266Z",
     "iopub.status.busy": "2024-05-03T20:52:01.625970Z",
     "iopub.status.idle": "2024-05-03T20:52:07.115389Z",
     "shell.execute_reply": "2024-05-03T20:52:07.114470Z"
    },
    "papermill": {
     "duration": 5.495717,
     "end_time": "2024-05-03T20:52:07.117261",
     "exception": false,
     "start_time": "2024-05-03T20:52:01.621544",
     "status": "completed"
    },
    "tags": []
   },
   "outputs": [
    {
     "data": {
      "text/plain": [
       "AnnData object with n_obs × n_vars = 357861 × 2048\n",
       "    obs: 'studyID', 'libraryID', 'sampleID', 'chemistry', 'technology', 'patientID', 'disease', 'timepoint_replicate', 'treatmentStatus', 'therapyResponse', 'sex', 'age', 'BMI', 'binned_age', 'diseaseStatus', 'smokingStatus', 'ethnicity', 'institute', 'diseaseGroup', 'n_genes_by_counts', 'log1p_n_genes_by_counts', 'total_counts', 'log1p_total_counts', 'pct_counts_in_top_20_genes', 'total_counts_mt', 'log1p_total_counts_mt', 'pct_counts_mt', 'total_counts_ribo', 'log1p_total_counts_ribo', 'pct_counts_ribo', 'total_counts_hb', 'log1p_total_counts_hb', 'pct_counts_hb', 'total_counts_plt', 'log1p_total_counts_plt', 'pct_counts_plt', 'doublet_score', 'predicted_doublet', 'S_score', 'G2M_score', 'phase'\n",
       "    var: 'hgnc_id', 'symbol', 'locus_group', 'HUGO_status', 'mt', 'ribo', 'hb', 'plt', 'n_cells_by_counts', 'mean_counts', 'log1p_mean_counts', 'pct_dropout_by_counts', 'total_counts', 'log1p_total_counts', 'highly_variable'\n",
       "    uns: 'chemistry_colors', 'log1p'\n",
       "    layers: 'counts', 'log1p_10e4_counts'"
      ]
     },
     "execution_count": 7,
     "metadata": {},
     "output_type": "execute_result"
    }
   ],
   "source": [
    "adata = sc.read_h5ad(here(f\"{workDir}/{cellGroup}/results/01_{cellGroup}_normalized_HVGsubset.h5ad\"))\n",
    "adata"
   ]
  },
  {
   "cell_type": "markdown",
   "id": "8ac79f3b-d5af-41fa-8904-1e9ac1cbe2fb",
   "metadata": {
    "papermill": {
     "duration": 0.004227,
     "end_time": "2024-05-03T20:52:07.125957",
     "exception": false,
     "start_time": "2024-05-03T20:52:07.121730",
     "status": "completed"
    },
    "tags": []
   },
   "source": [
    "## scVI integration"
   ]
  },
  {
   "cell_type": "markdown",
   "id": "9544847d-d17f-4811-b14b-760446d54d32",
   "metadata": {
    "execution": {
     "iopub.execute_input": "2024-03-25T16:49:04.004504Z",
     "iopub.status.busy": "2024-03-25T16:49:04.004143Z",
     "iopub.status.idle": "2024-03-25T16:49:04.010148Z",
     "shell.execute_reply": "2024-03-25T16:49:04.009146Z",
     "shell.execute_reply.started": "2024-03-25T16:49:04.004477Z"
    },
    "papermill": {
     "duration": 0.003968,
     "end_time": "2024-05-03T20:52:07.133552",
     "exception": false,
     "start_time": "2024-05-03T20:52:07.129584",
     "status": "completed"
    },
    "tags": []
   },
   "source": [
    "**scVI parameters**"
   ]
  },
  {
   "cell_type": "code",
   "execution_count": 8,
   "id": "208966eb-545a-4c02-854c-0ed0487ef5b3",
   "metadata": {
    "execution": {
     "iopub.execute_input": "2024-05-03T20:52:07.142544Z",
     "iopub.status.busy": "2024-05-03T20:52:07.142261Z",
     "iopub.status.idle": "2024-05-03T20:52:07.147995Z",
     "shell.execute_reply": "2024-05-03T20:52:07.147148Z"
    },
    "papermill": {
     "duration": 0.011854,
     "end_time": "2024-05-03T20:52:07.149573",
     "exception": false,
     "start_time": "2024-05-03T20:52:07.137719",
     "status": "completed"
    },
    "tags": []
   },
   "outputs": [],
   "source": [
    "# https://docs.scvi-tools.org/en/stable/api/reference/scvi.train.Trainer.html#scvi.train.Trainer\n",
    "setup_kwargs = dict(\n",
    "    layer=\"counts\", \n",
    "    batch_key='libraryID', \n",
    "    categorical_covariate_keys = ['studyID', 'chemistry', 'disease', 'sampleID'],\n",
    "    labels_key = 'chemistry'    \n",
    ")\n",
    "\n",
    "scvi_kwargs = dict(n_hidden=512,\n",
    "                   n_latent=10, # reduceds after step 00 (main)\n",
    "                   n_layers=2,\n",
    "                   gene_likelihood='nb',\n",
    "                   dispersion='gene-label')\n",
    "\n",
    "trainer_kwargs = dict(\n",
    "    checkpointing_monitor = 'elbo_validation',\n",
    "    early_stopping_monitor = 'reconstruction_loss_validation',\n",
    "    early_stopping_patience = 10,\n",
    "    early_stopping_min_delta=0.1,\n",
    "    early_stopping = True,\n",
    "    max_epochs = 1000,\n",
    "\n",
    "    #logger = # wandb\n",
    ")\n",
    "# https://docs.scvi-tools.org/en/stable/api/reference/scvi.train.TrainingPlan.html#scvi.train.TrainingPlan\n",
    "plan_kwargs = dict(\n",
    "    lr = 5e-4,\n",
    "    #reduce_lr_on_plateau = True\n",
    ")\n",
    "\n",
    "# https://docs.scvi-tools.org/en/stable/api/reference/scvi.module.VAE.html#scvi.module.VAE\n",
    "#vae = dict(\n",
    "#    use_layer_norm='both',\n",
    "#    use_batch_norm='none',\n",
    "#    encode_covariates=True,\n",
    "#    deeply_inject_covariates=False\n",
    "#)\n",
    "parameter_dict = setup_kwargs | scvi_kwargs | trainer_kwargs | plan_kwargs"
   ]
  },
  {
   "cell_type": "markdown",
   "id": "1362366a-c16b-4c11-964b-b9c5f82f7b29",
   "metadata": {
    "papermill": {
     "duration": 0.004672,
     "end_time": "2024-05-03T20:52:07.157844",
     "exception": false,
     "start_time": "2024-05-03T20:52:07.153172",
     "status": "completed"
    },
    "tags": []
   },
   "source": [
    "**wandb parameter**"
   ]
  },
  {
   "cell_type": "code",
   "execution_count": 9,
   "id": "0496e33a-8ca5-423f-b42f-34a59760708c",
   "metadata": {
    "execution": {
     "iopub.execute_input": "2024-05-03T20:52:07.166424Z",
     "iopub.status.busy": "2024-05-03T20:52:07.165947Z",
     "iopub.status.idle": "2024-05-03T20:52:07.170964Z",
     "shell.execute_reply": "2024-05-03T20:52:07.170186Z"
    },
    "papermill": {
     "duration": 0.011378,
     "end_time": "2024-05-03T20:52:07.172689",
     "exception": false,
     "start_time": "2024-05-03T20:52:07.161311",
     "status": "completed"
    },
    "tags": []
   },
   "outputs": [
    {
     "data": {
      "text/plain": [
       "'Step3_B'"
      ]
     },
     "execution_count": 9,
     "metadata": {},
     "output_type": "execute_result"
    }
   ],
   "source": [
    "run_name = f\"{annotationLevel}_{cellGroup}\"\n",
    "run_name"
   ]
  },
  {
   "cell_type": "code",
   "execution_count": 10,
   "id": "b0021327-95a2-4002-bf32-2c5779a99505",
   "metadata": {
    "execution": {
     "iopub.execute_input": "2024-05-03T20:52:07.182760Z",
     "iopub.status.busy": "2024-05-03T20:52:07.182300Z",
     "iopub.status.idle": "2024-05-03T20:52:07.310439Z",
     "shell.execute_reply": "2024-05-03T20:52:07.309403Z"
    },
    "papermill": {
     "duration": 0.136101,
     "end_time": "2024-05-03T20:52:07.312527",
     "exception": false,
     "start_time": "2024-05-03T20:52:07.176426",
     "status": "completed"
    },
    "tags": []
   },
   "outputs": [],
   "source": [
    "logger = CustomWandbLogger(name = run_name, project='inflammation_atlas_R1', config=parameter_dict)"
   ]
  },
  {
   "cell_type": "markdown",
   "id": "c237eee1-a976-4915-9b7f-b014bf33f47d",
   "metadata": {
    "papermill": {
     "duration": 0.004196,
     "end_time": "2024-05-03T20:52:07.321246",
     "exception": false,
     "start_time": "2024-05-03T20:52:07.317050",
     "status": "completed"
    },
    "tags": []
   },
   "source": [
    "**Running integration**"
   ]
  },
  {
   "cell_type": "code",
   "execution_count": 11,
   "id": "aff97c53-1aba-462e-8a77-f1aec9cf724c",
   "metadata": {
    "execution": {
     "iopub.execute_input": "2024-05-03T20:52:07.331356Z",
     "iopub.status.busy": "2024-05-03T20:52:07.330641Z",
     "iopub.status.idle": "2024-05-03T20:52:07.872912Z",
     "shell.execute_reply": "2024-05-03T20:52:07.872191Z"
    },
    "papermill": {
     "duration": 0.550056,
     "end_time": "2024-05-03T20:52:07.874949",
     "exception": false,
     "start_time": "2024-05-03T20:52:07.324893",
     "status": "completed"
    },
    "tags": []
   },
   "outputs": [],
   "source": [
    "scvi.model.SCVI.setup_anndata(adata, \n",
    "                              **setup_kwargs)"
   ]
  },
  {
   "cell_type": "code",
   "execution_count": 12,
   "id": "1a56f448-cf44-47c1-81a4-a89caa930fec",
   "metadata": {
    "execution": {
     "iopub.execute_input": "2024-05-03T20:52:07.885458Z",
     "iopub.status.busy": "2024-05-03T20:52:07.885145Z",
     "iopub.status.idle": "2024-05-03T20:52:08.319894Z",
     "shell.execute_reply": "2024-05-03T20:52:08.319174Z"
    },
    "papermill": {
     "duration": 0.443422,
     "end_time": "2024-05-03T20:52:08.322599",
     "exception": false,
     "start_time": "2024-05-03T20:52:07.879177",
     "status": "completed"
    },
    "tags": []
   },
   "outputs": [],
   "source": [
    "model = scvi.model.SCVI(adata, **scvi_kwargs)"
   ]
  },
  {
   "cell_type": "code",
   "execution_count": 13,
   "id": "2735f010-4f24-4ae8-9740-a8cfeb335e9a",
   "metadata": {
    "execution": {
     "iopub.execute_input": "2024-05-03T20:52:08.331811Z",
     "iopub.status.busy": "2024-05-03T20:52:08.331538Z",
     "iopub.status.idle": "2024-05-03T21:07:55.693808Z",
     "shell.execute_reply": "2024-05-03T21:07:55.692939Z"
    },
    "papermill": {
     "duration": 947.369154,
     "end_time": "2024-05-03T21:07:55.695678",
     "exception": false,
     "start_time": "2024-05-03T20:52:08.326524",
     "status": "completed"
    },
    "tags": []
   },
   "outputs": [
    {
     "name": "stderr",
     "output_type": "stream",
     "text": [
      "GPU available: True (cuda), used: True\n"
     ]
    },
    {
     "name": "stderr",
     "output_type": "stream",
     "text": [
      "TPU available: False, using: 0 TPU cores\n"
     ]
    },
    {
     "name": "stderr",
     "output_type": "stream",
     "text": [
      "IPU available: False, using: 0 IPUs\n"
     ]
    },
    {
     "name": "stderr",
     "output_type": "stream",
     "text": [
      "HPU available: False, using: 0 HPUs\n"
     ]
    },
    {
     "name": "stderr",
     "output_type": "stream",
     "text": [
      "\u001b[34m\u001b[1mwandb\u001b[0m: Currently logged in as: \u001b[33mdav1989\u001b[0m (\u001b[33minflammation\u001b[0m). Use \u001b[1m`wandb login --relogin`\u001b[0m to force relogin\n"
     ]
    },
    {
     "name": "stderr",
     "output_type": "stream",
     "text": [
      "\u001b[34m\u001b[1mwandb\u001b[0m: wandb version 0.16.6 is available!  To upgrade, please run:\n",
      "\u001b[34m\u001b[1mwandb\u001b[0m:  $ pip install wandb --upgrade\n"
     ]
    },
    {
     "name": "stderr",
     "output_type": "stream",
     "text": [
      "\u001b[34m\u001b[1mwandb\u001b[0m: Tracking run with wandb version 0.16.3\n"
     ]
    },
    {
     "name": "stderr",
     "output_type": "stream",
     "text": [
      "\u001b[34m\u001b[1mwandb\u001b[0m: Run data is saved locally in \u001b[35m\u001b[1m./wandb/run-20240503_205213-p4otysig\u001b[0m\n",
      "\u001b[34m\u001b[1mwandb\u001b[0m: Run \u001b[1m`wandb offline`\u001b[0m to turn off syncing.\n"
     ]
    },
    {
     "name": "stderr",
     "output_type": "stream",
     "text": [
      "\u001b[34m\u001b[1mwandb\u001b[0m: Syncing run \u001b[33mStep3_B\u001b[0m\n"
     ]
    },
    {
     "name": "stderr",
     "output_type": "stream",
     "text": [
      "\u001b[34m\u001b[1mwandb\u001b[0m: ⭐️ View project at \u001b[34m\u001b[4mhttps://wandb.ai/inflammation/inflammation_atlas_R1\u001b[0m\n"
     ]
    },
    {
     "name": "stderr",
     "output_type": "stream",
     "text": [
      "\u001b[34m\u001b[1mwandb\u001b[0m: 🚀 View run at \u001b[34m\u001b[4mhttps://wandb.ai/inflammation/inflammation_atlas_R1/runs/p4otysig\u001b[0m\n"
     ]
    },
    {
     "name": "stderr",
     "output_type": "stream",
     "text": [
      "LOCAL_RANK: 0 - CUDA_VISIBLE_DEVICES: [0]\n"
     ]
    },
    {
     "name": "stdout",
     "output_type": "stream",
     "text": [
      "\r",
      "Training:   0%|          | 0/1000 [00:00<?, ?it/s]"
     ]
    },
    {
     "name": "stdout",
     "output_type": "stream",
     "text": [
      "\r",
      "Epoch 1/1000:   0%|          | 0/1000 [00:00<?, ?it/s]"
     ]
    },
    {
     "name": "stdout",
     "output_type": "stream",
     "text": [
      "\r",
      "Epoch 1/1000:   0%|          | 1/1000 [00:32<9:05:45, 32.78s/it]"
     ]
    },
    {
     "name": "stdout",
     "output_type": "stream",
     "text": [
      "\r",
      "Epoch 1/1000:   0%|          | 1/1000 [00:32<9:05:45, 32.78s/it, v_num=ysig, train_loss_step=467, train_loss_epoch=502]"
     ]
    },
    {
     "name": "stdout",
     "output_type": "stream",
     "text": [
      "\r",
      "Epoch 2/1000:   0%|          | 1/1000 [00:32<9:05:45, 32.78s/it, v_num=ysig, train_loss_step=467, train_loss_epoch=502]"
     ]
    },
    {
     "name": "stdout",
     "output_type": "stream",
     "text": [
      "\r",
      "Epoch 2/1000:   0%|          | 2/1000 [01:05<9:05:00, 32.77s/it, v_num=ysig, train_loss_step=467, train_loss_epoch=502]"
     ]
    },
    {
     "name": "stdout",
     "output_type": "stream",
     "text": [
      "\r",
      "Epoch 2/1000:   0%|          | 2/1000 [01:05<9:05:00, 32.77s/it, v_num=ysig, train_loss_step=570, train_loss_epoch=489]"
     ]
    },
    {
     "name": "stdout",
     "output_type": "stream",
     "text": [
      "\r",
      "Epoch 3/1000:   0%|          | 2/1000 [01:05<9:05:00, 32.77s/it, v_num=ysig, train_loss_step=570, train_loss_epoch=489]"
     ]
    },
    {
     "name": "stdout",
     "output_type": "stream",
     "text": [
      "\r",
      "Epoch 3/1000:   0%|          | 3/1000 [01:38<9:07:56, 32.98s/it, v_num=ysig, train_loss_step=570, train_loss_epoch=489]"
     ]
    },
    {
     "name": "stdout",
     "output_type": "stream",
     "text": [
      "\r",
      "Epoch 3/1000:   0%|          | 3/1000 [01:38<9:07:56, 32.98s/it, v_num=ysig, train_loss_step=523, train_loss_epoch=486]"
     ]
    },
    {
     "name": "stdout",
     "output_type": "stream",
     "text": [
      "\r",
      "Epoch 4/1000:   0%|          | 3/1000 [01:38<9:07:56, 32.98s/it, v_num=ysig, train_loss_step=523, train_loss_epoch=486]"
     ]
    },
    {
     "name": "stdout",
     "output_type": "stream",
     "text": [
      "\r",
      "Epoch 4/1000:   0%|          | 4/1000 [02:10<8:59:08, 32.48s/it, v_num=ysig, train_loss_step=523, train_loss_epoch=486]"
     ]
    },
    {
     "name": "stdout",
     "output_type": "stream",
     "text": [
      "\r",
      "Epoch 4/1000:   0%|          | 4/1000 [02:10<8:59:08, 32.48s/it, v_num=ysig, train_loss_step=539, train_loss_epoch=484]"
     ]
    },
    {
     "name": "stdout",
     "output_type": "stream",
     "text": [
      "\r",
      "Epoch 5/1000:   0%|          | 4/1000 [02:10<8:59:08, 32.48s/it, v_num=ysig, train_loss_step=539, train_loss_epoch=484]"
     ]
    },
    {
     "name": "stdout",
     "output_type": "stream",
     "text": [
      "\r",
      "Epoch 5/1000:   0%|          | 5/1000 [02:42<8:55:29, 32.29s/it, v_num=ysig, train_loss_step=539, train_loss_epoch=484]"
     ]
    },
    {
     "name": "stdout",
     "output_type": "stream",
     "text": [
      "\r",
      "Epoch 5/1000:   0%|          | 5/1000 [02:42<8:55:29, 32.29s/it, v_num=ysig, train_loss_step=472, train_loss_epoch=483]"
     ]
    },
    {
     "name": "stdout",
     "output_type": "stream",
     "text": [
      "\r",
      "Epoch 6/1000:   0%|          | 5/1000 [02:42<8:55:29, 32.29s/it, v_num=ysig, train_loss_step=472, train_loss_epoch=483]"
     ]
    },
    {
     "name": "stdout",
     "output_type": "stream",
     "text": [
      "\r",
      "Epoch 6/1000:   1%|          | 6/1000 [03:15<8:57:21, 32.44s/it, v_num=ysig, train_loss_step=472, train_loss_epoch=483]"
     ]
    },
    {
     "name": "stdout",
     "output_type": "stream",
     "text": [
      "\r",
      "Epoch 6/1000:   1%|          | 6/1000 [03:15<8:57:21, 32.44s/it, v_num=ysig, train_loss_step=489, train_loss_epoch=482]"
     ]
    },
    {
     "name": "stdout",
     "output_type": "stream",
     "text": [
      "\r",
      "Epoch 7/1000:   1%|          | 6/1000 [03:15<8:57:21, 32.44s/it, v_num=ysig, train_loss_step=489, train_loss_epoch=482]"
     ]
    },
    {
     "name": "stdout",
     "output_type": "stream",
     "text": [
      "\r",
      "Epoch 7/1000:   1%|          | 7/1000 [03:47<8:54:14, 32.28s/it, v_num=ysig, train_loss_step=489, train_loss_epoch=482]"
     ]
    },
    {
     "name": "stdout",
     "output_type": "stream",
     "text": [
      "\r",
      "Epoch 7/1000:   1%|          | 7/1000 [03:47<8:54:14, 32.28s/it, v_num=ysig, train_loss_step=427, train_loss_epoch=482]"
     ]
    },
    {
     "name": "stdout",
     "output_type": "stream",
     "text": [
      "\r",
      "Epoch 8/1000:   1%|          | 7/1000 [03:47<8:54:14, 32.28s/it, v_num=ysig, train_loss_step=427, train_loss_epoch=482]"
     ]
    },
    {
     "name": "stdout",
     "output_type": "stream",
     "text": [
      "\r",
      "Epoch 8/1000:   1%|          | 8/1000 [04:19<8:54:23, 32.32s/it, v_num=ysig, train_loss_step=427, train_loss_epoch=482]"
     ]
    },
    {
     "name": "stdout",
     "output_type": "stream",
     "text": [
      "\r",
      "Epoch 8/1000:   1%|          | 8/1000 [04:19<8:54:23, 32.32s/it, v_num=ysig, train_loss_step=500, train_loss_epoch=481]"
     ]
    },
    {
     "name": "stdout",
     "output_type": "stream",
     "text": [
      "\r",
      "Epoch 9/1000:   1%|          | 8/1000 [04:19<8:54:23, 32.32s/it, v_num=ysig, train_loss_step=500, train_loss_epoch=481]"
     ]
    },
    {
     "name": "stdout",
     "output_type": "stream",
     "text": [
      "\r",
      "Epoch 9/1000:   1%|          | 9/1000 [04:52<8:56:07, 32.46s/it, v_num=ysig, train_loss_step=500, train_loss_epoch=481]"
     ]
    },
    {
     "name": "stdout",
     "output_type": "stream",
     "text": [
      "\r",
      "Epoch 9/1000:   1%|          | 9/1000 [04:52<8:56:07, 32.46s/it, v_num=ysig, train_loss_step=508, train_loss_epoch=481]"
     ]
    },
    {
     "name": "stdout",
     "output_type": "stream",
     "text": [
      "\r",
      "Epoch 10/1000:   1%|          | 9/1000 [04:52<8:56:07, 32.46s/it, v_num=ysig, train_loss_step=508, train_loss_epoch=481]"
     ]
    },
    {
     "name": "stdout",
     "output_type": "stream",
     "text": [
      "\r",
      "Epoch 10/1000:   1%|          | 10/1000 [05:24<8:53:17, 32.32s/it, v_num=ysig, train_loss_step=508, train_loss_epoch=481]"
     ]
    },
    {
     "name": "stdout",
     "output_type": "stream",
     "text": [
      "\r",
      "Epoch 10/1000:   1%|          | 10/1000 [05:24<8:53:17, 32.32s/it, v_num=ysig, train_loss_step=454, train_loss_epoch=481]"
     ]
    },
    {
     "name": "stdout",
     "output_type": "stream",
     "text": [
      "\r",
      "Epoch 11/1000:   1%|          | 10/1000 [05:24<8:53:17, 32.32s/it, v_num=ysig, train_loss_step=454, train_loss_epoch=481]"
     ]
    },
    {
     "name": "stdout",
     "output_type": "stream",
     "text": [
      "\r",
      "Epoch 11/1000:   1%|          | 11/1000 [05:57<8:56:20, 32.54s/it, v_num=ysig, train_loss_step=454, train_loss_epoch=481]"
     ]
    },
    {
     "name": "stdout",
     "output_type": "stream",
     "text": [
      "\r",
      "Epoch 11/1000:   1%|          | 11/1000 [05:57<8:56:20, 32.54s/it, v_num=ysig, train_loss_step=524, train_loss_epoch=480]"
     ]
    },
    {
     "name": "stdout",
     "output_type": "stream",
     "text": [
      "\r",
      "Epoch 12/1000:   1%|          | 11/1000 [05:57<8:56:20, 32.54s/it, v_num=ysig, train_loss_step=524, train_loss_epoch=480]"
     ]
    },
    {
     "name": "stdout",
     "output_type": "stream",
     "text": [
      "\r",
      "Epoch 12/1000:   1%|          | 12/1000 [06:30<8:58:30, 32.70s/it, v_num=ysig, train_loss_step=524, train_loss_epoch=480]"
     ]
    },
    {
     "name": "stdout",
     "output_type": "stream",
     "text": [
      "\r",
      "Epoch 12/1000:   1%|          | 12/1000 [06:30<8:58:30, 32.70s/it, v_num=ysig, train_loss_step=505, train_loss_epoch=480]"
     ]
    },
    {
     "name": "stdout",
     "output_type": "stream",
     "text": [
      "\r",
      "Epoch 13/1000:   1%|          | 12/1000 [06:30<8:58:30, 32.70s/it, v_num=ysig, train_loss_step=505, train_loss_epoch=480]"
     ]
    },
    {
     "name": "stdout",
     "output_type": "stream",
     "text": [
      "\r",
      "Epoch 13/1000:   1%|▏         | 13/1000 [07:02<8:54:36, 32.50s/it, v_num=ysig, train_loss_step=505, train_loss_epoch=480]"
     ]
    },
    {
     "name": "stdout",
     "output_type": "stream",
     "text": [
      "\r",
      "Epoch 13/1000:   1%|▏         | 13/1000 [07:02<8:54:36, 32.50s/it, v_num=ysig, train_loss_step=461, train_loss_epoch=480]"
     ]
    },
    {
     "name": "stdout",
     "output_type": "stream",
     "text": [
      "\r",
      "Epoch 14/1000:   1%|▏         | 13/1000 [07:02<8:54:36, 32.50s/it, v_num=ysig, train_loss_step=461, train_loss_epoch=480]"
     ]
    },
    {
     "name": "stdout",
     "output_type": "stream",
     "text": [
      "\r",
      "Epoch 14/1000:   1%|▏         | 14/1000 [07:35<8:56:26, 32.64s/it, v_num=ysig, train_loss_step=461, train_loss_epoch=480]"
     ]
    },
    {
     "name": "stdout",
     "output_type": "stream",
     "text": [
      "\r",
      "Epoch 14/1000:   1%|▏         | 14/1000 [07:35<8:56:26, 32.64s/it, v_num=ysig, train_loss_step=477, train_loss_epoch=480]"
     ]
    },
    {
     "name": "stdout",
     "output_type": "stream",
     "text": [
      "\r",
      "Epoch 15/1000:   1%|▏         | 14/1000 [07:35<8:56:26, 32.64s/it, v_num=ysig, train_loss_step=477, train_loss_epoch=480]"
     ]
    },
    {
     "name": "stdout",
     "output_type": "stream",
     "text": [
      "\r",
      "Epoch 15/1000:   2%|▏         | 15/1000 [08:07<8:55:15, 32.60s/it, v_num=ysig, train_loss_step=477, train_loss_epoch=480]"
     ]
    },
    {
     "name": "stdout",
     "output_type": "stream",
     "text": [
      "\r",
      "Epoch 15/1000:   2%|▏         | 15/1000 [08:07<8:55:15, 32.60s/it, v_num=ysig, train_loss_step=465, train_loss_epoch=480]"
     ]
    },
    {
     "name": "stdout",
     "output_type": "stream",
     "text": [
      "\r",
      "Epoch 16/1000:   2%|▏         | 15/1000 [08:07<8:55:15, 32.60s/it, v_num=ysig, train_loss_step=465, train_loss_epoch=480]"
     ]
    },
    {
     "name": "stdout",
     "output_type": "stream",
     "text": [
      "\r",
      "Epoch 16/1000:   2%|▏         | 16/1000 [08:39<8:50:21, 32.34s/it, v_num=ysig, train_loss_step=465, train_loss_epoch=480]"
     ]
    },
    {
     "name": "stdout",
     "output_type": "stream",
     "text": [
      "\r",
      "Epoch 16/1000:   2%|▏         | 16/1000 [08:39<8:50:21, 32.34s/it, v_num=ysig, train_loss_step=395, train_loss_epoch=480]"
     ]
    },
    {
     "name": "stdout",
     "output_type": "stream",
     "text": [
      "\r",
      "Epoch 17/1000:   2%|▏         | 16/1000 [08:39<8:50:21, 32.34s/it, v_num=ysig, train_loss_step=395, train_loss_epoch=480]"
     ]
    },
    {
     "name": "stdout",
     "output_type": "stream",
     "text": [
      "\r",
      "Epoch 17/1000:   2%|▏         | 17/1000 [09:11<8:46:11, 32.12s/it, v_num=ysig, train_loss_step=395, train_loss_epoch=480]"
     ]
    },
    {
     "name": "stdout",
     "output_type": "stream",
     "text": [
      "\r",
      "Epoch 17/1000:   2%|▏         | 17/1000 [09:11<8:46:11, 32.12s/it, v_num=ysig, train_loss_step=448, train_loss_epoch=479]"
     ]
    },
    {
     "name": "stdout",
     "output_type": "stream",
     "text": [
      "\r",
      "Epoch 18/1000:   2%|▏         | 17/1000 [09:11<8:46:11, 32.12s/it, v_num=ysig, train_loss_step=448, train_loss_epoch=479]"
     ]
    },
    {
     "name": "stdout",
     "output_type": "stream",
     "text": [
      "\r",
      "Epoch 18/1000:   2%|▏         | 18/1000 [09:42<8:43:47, 32.00s/it, v_num=ysig, train_loss_step=448, train_loss_epoch=479]"
     ]
    },
    {
     "name": "stdout",
     "output_type": "stream",
     "text": [
      "\r",
      "Epoch 18/1000:   2%|▏         | 18/1000 [09:42<8:43:47, 32.00s/it, v_num=ysig, train_loss_step=495, train_loss_epoch=479]"
     ]
    },
    {
     "name": "stdout",
     "output_type": "stream",
     "text": [
      "\r",
      "Epoch 19/1000:   2%|▏         | 18/1000 [09:42<8:43:47, 32.00s/it, v_num=ysig, train_loss_step=495, train_loss_epoch=479]"
     ]
    },
    {
     "name": "stdout",
     "output_type": "stream",
     "text": [
      "\r",
      "Epoch 19/1000:   2%|▏         | 19/1000 [10:15<8:43:58, 32.05s/it, v_num=ysig, train_loss_step=495, train_loss_epoch=479]"
     ]
    },
    {
     "name": "stdout",
     "output_type": "stream",
     "text": [
      "\r",
      "Epoch 19/1000:   2%|▏         | 19/1000 [10:15<8:43:58, 32.05s/it, v_num=ysig, train_loss_step=460, train_loss_epoch=479]"
     ]
    },
    {
     "name": "stdout",
     "output_type": "stream",
     "text": [
      "\r",
      "Epoch 20/1000:   2%|▏         | 19/1000 [10:15<8:43:58, 32.05s/it, v_num=ysig, train_loss_step=460, train_loss_epoch=479]"
     ]
    },
    {
     "name": "stdout",
     "output_type": "stream",
     "text": [
      "\r",
      "Epoch 20/1000:   2%|▏         | 20/1000 [10:48<8:49:02, 32.39s/it, v_num=ysig, train_loss_step=460, train_loss_epoch=479]"
     ]
    },
    {
     "name": "stdout",
     "output_type": "stream",
     "text": [
      "\r",
      "Epoch 20/1000:   2%|▏         | 20/1000 [10:48<8:49:02, 32.39s/it, v_num=ysig, train_loss_step=549, train_loss_epoch=479]"
     ]
    },
    {
     "name": "stdout",
     "output_type": "stream",
     "text": [
      "\r",
      "Epoch 21/1000:   2%|▏         | 20/1000 [10:48<8:49:02, 32.39s/it, v_num=ysig, train_loss_step=549, train_loss_epoch=479]"
     ]
    },
    {
     "name": "stdout",
     "output_type": "stream",
     "text": [
      "\r",
      "Epoch 21/1000:   2%|▏         | 21/1000 [11:20<8:48:24, 32.38s/it, v_num=ysig, train_loss_step=549, train_loss_epoch=479]"
     ]
    },
    {
     "name": "stdout",
     "output_type": "stream",
     "text": [
      "\r",
      "Epoch 21/1000:   2%|▏         | 21/1000 [11:20<8:48:24, 32.38s/it, v_num=ysig, train_loss_step=475, train_loss_epoch=479]"
     ]
    },
    {
     "name": "stdout",
     "output_type": "stream",
     "text": [
      "\r",
      "Epoch 22/1000:   2%|▏         | 21/1000 [11:20<8:48:24, 32.38s/it, v_num=ysig, train_loss_step=475, train_loss_epoch=479]"
     ]
    },
    {
     "name": "stdout",
     "output_type": "stream",
     "text": [
      "\r",
      "Epoch 22/1000:   2%|▏         | 22/1000 [11:52<8:45:08, 32.22s/it, v_num=ysig, train_loss_step=475, train_loss_epoch=479]"
     ]
    },
    {
     "name": "stdout",
     "output_type": "stream",
     "text": [
      "\r",
      "Epoch 22/1000:   2%|▏         | 22/1000 [11:52<8:45:08, 32.22s/it, v_num=ysig, train_loss_step=472, train_loss_epoch=479]"
     ]
    },
    {
     "name": "stdout",
     "output_type": "stream",
     "text": [
      "\r",
      "Epoch 23/1000:   2%|▏         | 22/1000 [11:52<8:45:08, 32.22s/it, v_num=ysig, train_loss_step=472, train_loss_epoch=479]"
     ]
    },
    {
     "name": "stdout",
     "output_type": "stream",
     "text": [
      "\r",
      "Epoch 23/1000:   2%|▏         | 23/1000 [12:25<8:46:35, 32.34s/it, v_num=ysig, train_loss_step=472, train_loss_epoch=479]"
     ]
    },
    {
     "name": "stdout",
     "output_type": "stream",
     "text": [
      "\r",
      "Epoch 23/1000:   2%|▏         | 23/1000 [12:25<8:46:35, 32.34s/it, v_num=ysig, train_loss_step=444, train_loss_epoch=479]"
     ]
    },
    {
     "name": "stdout",
     "output_type": "stream",
     "text": [
      "\r",
      "Epoch 24/1000:   2%|▏         | 23/1000 [12:25<8:46:35, 32.34s/it, v_num=ysig, train_loss_step=444, train_loss_epoch=479]"
     ]
    },
    {
     "name": "stdout",
     "output_type": "stream",
     "text": [
      "\r",
      "Epoch 24/1000:   2%|▏         | 24/1000 [12:58<8:50:04, 32.59s/it, v_num=ysig, train_loss_step=444, train_loss_epoch=479]"
     ]
    },
    {
     "name": "stdout",
     "output_type": "stream",
     "text": [
      "\r",
      "Epoch 24/1000:   2%|▏         | 24/1000 [12:58<8:50:04, 32.59s/it, v_num=ysig, train_loss_step=538, train_loss_epoch=479]"
     ]
    },
    {
     "name": "stdout",
     "output_type": "stream",
     "text": [
      "\r",
      "Epoch 25/1000:   2%|▏         | 24/1000 [12:58<8:50:04, 32.59s/it, v_num=ysig, train_loss_step=538, train_loss_epoch=479]"
     ]
    },
    {
     "name": "stdout",
     "output_type": "stream",
     "text": [
      "\r",
      "Epoch 25/1000:   2%|▎         | 25/1000 [13:30<8:48:35, 32.53s/it, v_num=ysig, train_loss_step=538, train_loss_epoch=479]"
     ]
    },
    {
     "name": "stdout",
     "output_type": "stream",
     "text": [
      "\r",
      "Epoch 25/1000:   2%|▎         | 25/1000 [13:30<8:48:35, 32.53s/it, v_num=ysig, train_loss_step=447, train_loss_epoch=479]"
     ]
    },
    {
     "name": "stdout",
     "output_type": "stream",
     "text": [
      "\r",
      "Epoch 26/1000:   2%|▎         | 25/1000 [13:30<8:48:35, 32.53s/it, v_num=ysig, train_loss_step=447, train_loss_epoch=479]"
     ]
    },
    {
     "name": "stdout",
     "output_type": "stream",
     "text": [
      "\r",
      "Epoch 26/1000:   3%|▎         | 26/1000 [14:03<8:51:41, 32.75s/it, v_num=ysig, train_loss_step=447, train_loss_epoch=479]"
     ]
    },
    {
     "name": "stdout",
     "output_type": "stream",
     "text": [
      "\r",
      "Epoch 26/1000:   3%|▎         | 26/1000 [14:03<8:51:41, 32.75s/it, v_num=ysig, train_loss_step=538, train_loss_epoch=479]"
     ]
    },
    {
     "name": "stdout",
     "output_type": "stream",
     "text": [
      "\r",
      "Epoch 27/1000:   3%|▎         | 26/1000 [14:03<8:51:41, 32.75s/it, v_num=ysig, train_loss_step=538, train_loss_epoch=479]"
     ]
    },
    {
     "name": "stdout",
     "output_type": "stream",
     "text": [
      "\r",
      "Epoch 27/1000:   3%|▎         | 27/1000 [14:36<8:49:00, 32.62s/it, v_num=ysig, train_loss_step=538, train_loss_epoch=479]"
     ]
    },
    {
     "name": "stdout",
     "output_type": "stream",
     "text": [
      "\r",
      "Epoch 27/1000:   3%|▎         | 27/1000 [14:36<8:49:00, 32.62s/it, v_num=ysig, train_loss_step=561, train_loss_epoch=479]"
     ]
    },
    {
     "name": "stdout",
     "output_type": "stream",
     "text": [
      "\r",
      "Epoch 28/1000:   3%|▎         | 27/1000 [14:36<8:49:00, 32.62s/it, v_num=ysig, train_loss_step=561, train_loss_epoch=479]"
     ]
    },
    {
     "name": "stdout",
     "output_type": "stream",
     "text": [
      "\r",
      "Epoch 28/1000:   3%|▎         | 28/1000 [15:08<8:48:38, 32.63s/it, v_num=ysig, train_loss_step=561, train_loss_epoch=479]"
     ]
    },
    {
     "name": "stdout",
     "output_type": "stream",
     "text": [
      "\r",
      "Epoch 28/1000:   3%|▎         | 28/1000 [15:08<8:48:38, 32.63s/it, v_num=ysig, train_loss_step=488, train_loss_epoch=479]"
     ]
    },
    {
     "name": "stdout",
     "output_type": "stream",
     "text": [
      "\r",
      "Epoch 29/1000:   3%|▎         | 28/1000 [15:08<8:48:38, 32.63s/it, v_num=ysig, train_loss_step=488, train_loss_epoch=479]"
     ]
    },
    {
     "name": "stdout",
     "output_type": "stream",
     "text": [
      "\r",
      "Epoch 29/1000:   3%|▎         | 29/1000 [15:41<8:48:04, 32.63s/it, v_num=ysig, train_loss_step=488, train_loss_epoch=479]"
     ]
    },
    {
     "name": "stdout",
     "output_type": "stream",
     "text": [
      "\r",
      "Epoch 29/1000:   3%|▎         | 29/1000 [15:41<8:48:04, 32.63s/it, v_num=ysig, train_loss_step=536, train_loss_epoch=479]"
     ]
    },
    {
     "name": "stdout",
     "output_type": "stream",
     "text": [
      "\r",
      "Epoch 29/1000:   3%|▎         | 29/1000 [15:41<8:45:27, 32.47s/it, v_num=ysig, train_loss_step=536, train_loss_epoch=479]"
     ]
    },
    {
     "name": "stdout",
     "output_type": "stream",
     "text": [
      "\n",
      "Monitored metric reconstruction_loss_validation did not improve in the last 10 records. Best score: 479.990. Signaling Trainer to stop.\n"
     ]
    }
   ],
   "source": [
    "model.train(logger=logger, plan_kwargs = plan_kwargs, **trainer_kwargs)"
   ]
  },
  {
   "cell_type": "code",
   "execution_count": 14,
   "id": "c282f6eb-0ad1-40a5-81e6-1acda1545dad",
   "metadata": {
    "execution": {
     "iopub.execute_input": "2024-05-03T21:07:55.714514Z",
     "iopub.status.busy": "2024-05-03T21:07:55.713935Z",
     "iopub.status.idle": "2024-05-03T21:08:00.599922Z",
     "shell.execute_reply": "2024-05-03T21:08:00.599011Z"
    },
    "papermill": {
     "duration": 4.897605,
     "end_time": "2024-05-03T21:08:00.601944",
     "exception": false,
     "start_time": "2024-05-03T21:07:55.704339",
     "status": "completed"
    },
    "tags": []
   },
   "outputs": [
    {
     "name": "stderr",
     "output_type": "stream",
     "text": [
      "\u001b[34m\u001b[1mwandb\u001b[0m: - 0.003 MB of 0.003 MB uploaded\r"
     ]
    },
    {
     "name": "stderr",
     "output_type": "stream",
     "text": [
      "\u001b[34m\u001b[1mwandb\u001b[0m: \\ 0.003 MB of 0.009 MB uploaded\r"
     ]
    },
    {
     "name": "stderr",
     "output_type": "stream",
     "text": [
      "\u001b[34m\u001b[1mwandb\u001b[0m: | 0.003 MB of 0.009 MB uploaded\r"
     ]
    },
    {
     "name": "stderr",
     "output_type": "stream",
     "text": [
      "\u001b[34m\u001b[1mwandb\u001b[0m: / 0.009 MB of 0.009 MB uploaded\r"
     ]
    },
    {
     "name": "stderr",
     "output_type": "stream",
     "text": [
      "\u001b[34m\u001b[1mwandb\u001b[0m:                                                                                \n"
     ]
    },
    {
     "name": "stderr",
     "output_type": "stream",
     "text": [
      "\u001b[34m\u001b[1mwandb\u001b[0m: \n",
      "\u001b[34m\u001b[1mwandb\u001b[0m: Run history:\n",
      "\u001b[34m\u001b[1mwandb\u001b[0m:                     elbo_train █▆▅▄▃▃▃▃▂▂▂▂▂▂▂▂▂▂▂▁▁▁▁▁▁▁▁▁▁\n",
      "\u001b[34m\u001b[1mwandb\u001b[0m:                elbo_validation █▆▅▄▃▃▃▂▂▂▂▂▂▂▂▂▂▂▁▁▁▁▁▁▁▁▁▁▁\n",
      "\u001b[34m\u001b[1mwandb\u001b[0m:                          epoch ▁▁▁▁▂▂▂▂▃▃▃▃▃▃▃▄▄▄▄▅▅▅▅▅▅▅▆▆▆▆▆▇▇▇▇▇▇███\n",
      "\u001b[34m\u001b[1mwandb\u001b[0m:                kl_global_train ▁▁▁▁▁▁▁▁▁▁▁▁▁▁▁▁▁▁▁▁▁▁▁▁▁▁▁▁▁\n",
      "\u001b[34m\u001b[1mwandb\u001b[0m:           kl_global_validation ▁▁▁▁▁▁▁▁▁▁▁▁▁▁▁▁▁▁▁▁▁▁▁▁▁▁▁▁▁\n",
      "\u001b[34m\u001b[1mwandb\u001b[0m:                 kl_local_train ▇█▆▅▄▄▄▃▃▃▃▃▂▂▂▂▂▂▂▂▂▁▁▁▁▁▁▁▁\n",
      "\u001b[34m\u001b[1mwandb\u001b[0m:            kl_local_validation █▇▅▄▄▄▃▃▃▃▃▂▂▂▂▂▂▂▂▂▂▁▁▁▁▁▁▁▁\n",
      "\u001b[34m\u001b[1mwandb\u001b[0m:                      kl_weight ▁▁▁▁▂▂▂▂▂▂▃▃▃▃▄▄▄▄▄▅▅▅▅▅▅▆▆▆▆▆▆▆▇▇▇▇▇███\n",
      "\u001b[34m\u001b[1mwandb\u001b[0m:      reconstruction_loss_train █▄▃▃▃▂▂▂▂▂▂▂▂▁▁▁▁▁▁▁▁▁▁▁▁▁▁▁▁\n",
      "\u001b[34m\u001b[1mwandb\u001b[0m: reconstruction_loss_validation █▅▃▃▂▂▂▂▁▁▁▁▁▁▁▁▁▁▁▁▁▁▁▁▁▁▁▁▁\n",
      "\u001b[34m\u001b[1mwandb\u001b[0m:               train_loss_epoch █▄▃▃▂▂▂▂▂▂▁▁▁▁▁▁▁▁▁▁▁▁▁▁▁▁▁▁▁\n",
      "\u001b[34m\u001b[1mwandb\u001b[0m:                train_loss_step ▅█▆▃▃▂▄▄▄▄▆▆▅▁▅▃▃▆▅█▆▃█▅▃▆▅▄▇▄▆▅▃▄▄▆▁▅▃▃\n",
      "\u001b[34m\u001b[1mwandb\u001b[0m:            trainer/global_step ▁▁▁▁▂▂▂▂▂▃▃▃▃▃▃▄▄▄▄▄▅▅▅▅▅▅▆▆▆▆▆▇▇▇▇▇▇███\n",
      "\u001b[34m\u001b[1mwandb\u001b[0m:                validation_loss █▅▃▂▂▂▁▁▁▁▁▁▁▁▁▁▁▁▁▁▁▁▁▁▁▁▁▁▁\n",
      "\u001b[34m\u001b[1mwandb\u001b[0m: \n",
      "\u001b[34m\u001b[1mwandb\u001b[0m: Run summary:\n",
      "\u001b[34m\u001b[1mwandb\u001b[0m:                     elbo_train 501.35175\n",
      "\u001b[34m\u001b[1mwandb\u001b[0m:                elbo_validation 503.66891\n",
      "\u001b[34m\u001b[1mwandb\u001b[0m:                          epoch 28\n",
      "\u001b[34m\u001b[1mwandb\u001b[0m:                kl_global_train 0.0\n",
      "\u001b[34m\u001b[1mwandb\u001b[0m:           kl_global_validation 0.0\n",
      "\u001b[34m\u001b[1mwandb\u001b[0m:                 kl_local_train 24.21851\n",
      "\u001b[34m\u001b[1mwandb\u001b[0m:            kl_local_validation 23.54293\n",
      "\u001b[34m\u001b[1mwandb\u001b[0m:                      kl_weight 0.07\n",
      "\u001b[34m\u001b[1mwandb\u001b[0m:      reconstruction_loss_train 477.13324\n",
      "\u001b[34m\u001b[1mwandb\u001b[0m: reconstruction_loss_validation 480.12598\n",
      "\u001b[34m\u001b[1mwandb\u001b[0m:               train_loss_epoch 478.8288\n",
      "\u001b[34m\u001b[1mwandb\u001b[0m:                train_loss_step 490.27747\n",
      "\u001b[34m\u001b[1mwandb\u001b[0m:            trainer/global_step 72992\n",
      "\u001b[34m\u001b[1mwandb\u001b[0m:                validation_loss 481.77417\n",
      "\u001b[34m\u001b[1mwandb\u001b[0m: \n"
     ]
    },
    {
     "name": "stderr",
     "output_type": "stream",
     "text": [
      "\u001b[34m\u001b[1mwandb\u001b[0m: 🚀 View run \u001b[33mStep3_B\u001b[0m at: \u001b[34m\u001b[4mhttps://wandb.ai/inflammation/inflammation_atlas_R1/runs/p4otysig\u001b[0m\n",
      "\u001b[34m\u001b[1mwandb\u001b[0m: Synced 5 W&B file(s), 0 media file(s), 0 artifact file(s) and 0 other file(s)\n"
     ]
    },
    {
     "name": "stderr",
     "output_type": "stream",
     "text": [
      "\u001b[34m\u001b[1mwandb\u001b[0m: Find logs at: \u001b[35m\u001b[1m./wandb/run-20240503_205213-p4otysig/logs\u001b[0m\n"
     ]
    }
   ],
   "source": [
    "wandb.finish()"
   ]
  },
  {
   "cell_type": "markdown",
   "id": "d9fb1179-83c7-4ac6-b4aa-92dc7a349801",
   "metadata": {
    "papermill": {
     "duration": 0.009246,
     "end_time": "2024-05-03T21:08:00.621105",
     "exception": false,
     "start_time": "2024-05-03T21:08:00.611859",
     "status": "completed"
    },
    "tags": []
   },
   "source": [
    "### Extracting embedding space"
   ]
  },
  {
   "cell_type": "code",
   "execution_count": 15,
   "id": "caaa5832-0123-4c59-8ec6-f46a75f7a14e",
   "metadata": {
    "execution": {
     "iopub.execute_input": "2024-05-03T21:08:00.641871Z",
     "iopub.status.busy": "2024-05-03T21:08:00.641044Z",
     "iopub.status.idle": "2024-05-03T21:08:10.447578Z",
     "shell.execute_reply": "2024-05-03T21:08:10.446781Z"
    },
    "papermill": {
     "duration": 9.819482,
     "end_time": "2024-05-03T21:08:10.449827",
     "exception": false,
     "start_time": "2024-05-03T21:08:00.630345",
     "status": "completed"
    },
    "tags": []
   },
   "outputs": [],
   "source": [
    "adata.obsm['X_scVI'] = model.get_latent_representation()"
   ]
  },
  {
   "cell_type": "markdown",
   "id": "2f03e70b-839c-40a6-9fbb-d76bbd787419",
   "metadata": {
    "papermill": {
     "duration": 0.008908,
     "end_time": "2024-05-03T21:08:10.468185",
     "exception": false,
     "start_time": "2024-05-03T21:08:10.459277",
     "status": "completed"
    },
    "tags": []
   },
   "source": [
    "## Save the results"
   ]
  },
  {
   "cell_type": "code",
   "execution_count": 16,
   "id": "7b04049b-47fd-4b62-a1c0-c43dcc086d34",
   "metadata": {
    "execution": {
     "iopub.execute_input": "2024-05-03T21:08:10.488493Z",
     "iopub.status.busy": "2024-05-03T21:08:10.487743Z",
     "iopub.status.idle": "2024-05-03T21:08:35.791905Z",
     "shell.execute_reply": "2024-05-03T21:08:35.791057Z"
    },
    "papermill": {
     "duration": 25.316479,
     "end_time": "2024-05-03T21:08:35.794168",
     "exception": false,
     "start_time": "2024-05-03T21:08:10.477689",
     "status": "completed"
    },
    "tags": []
   },
   "outputs": [],
   "source": [
    "if overwriteData:\n",
    "    adata.write(here(f\"{workDir}/{cellGroup}/results/02_{annotationLevel}_{cellGroup}_HVGsubset_scVI.h5ad\"), compression=\"gzip\")\n",
    "    model.save(here(f\"{workDir}/{cellGroup}/results/02_{annotationLevel}_{cellGroup}_HVGsubset_scVI_MODEL/\"),\n",
    "               overwrite = True, \n",
    "               save_anndata = False )   "
   ]
  },
  {
   "cell_type": "code",
   "execution_count": 17,
   "id": "629ba2bd-f6be-44ef-8fca-bbdf891bf25f",
   "metadata": {
    "execution": {
     "iopub.execute_input": "2024-05-03T21:08:35.814515Z",
     "iopub.status.busy": "2024-05-03T21:08:35.814231Z",
     "iopub.status.idle": "2024-05-03T21:08:35.817623Z",
     "shell.execute_reply": "2024-05-03T21:08:35.816969Z"
    },
    "papermill": {
     "duration": 0.015216,
     "end_time": "2024-05-03T21:08:35.819118",
     "exception": false,
     "start_time": "2024-05-03T21:08:35.803902",
     "status": "completed"
    },
    "tags": []
   },
   "outputs": [],
   "source": [
    "# To load the model do (after loading corresponding adata):\n",
    "# model = scvi.model.SCVI.load(here('{}/results/01_{}_HVGsubset_scVI_MODEL/'.format(workDir, cellGroup)), \n",
    "#                              adata, \n",
    "#                              use_gpu=True)"
   ]
  },
  {
   "cell_type": "raw",
   "id": "975e84d0-f56b-498d-b3a8-c9219cf22e53",
   "metadata": {
    "papermill": {
     "duration": 0.009186,
     "end_time": "2024-05-03T21:08:35.837013",
     "exception": false,
     "start_time": "2024-05-03T21:08:35.827827",
     "status": "completed"
    },
    "tags": []
   },
   "source": [
    "session_info.show()"
   ]
  }
 ],
 "metadata": {
  "kernelspec": {
   "display_name": "Python 3 (ipykernel)",
   "language": "python",
   "name": "python3"
  },
  "language_info": {
   "codemirror_mode": {
    "name": "ipython",
    "version": 3
   },
   "file_extension": ".py",
   "mimetype": "text/x-python",
   "name": "python",
   "nbconvert_exporter": "python",
   "pygments_lexer": "ipython3",
   "version": "3.9.18"
  },
  "papermill": {
   "default_parameters": {},
   "duration": 1003.648529,
   "end_time": "2024-05-03T21:08:39.095862",
   "environment_variables": {},
   "exception": null,
   "input_path": "./B/02_integration_scVI.ipynb",
   "output_path": "./B/02_integration_scVI_executed.ipynb",
   "parameters": {},
   "start_time": "2024-05-03T20:51:55.447333",
   "version": "2.5.0"
  }
 },
 "nbformat": 4,
 "nbformat_minor": 5
}