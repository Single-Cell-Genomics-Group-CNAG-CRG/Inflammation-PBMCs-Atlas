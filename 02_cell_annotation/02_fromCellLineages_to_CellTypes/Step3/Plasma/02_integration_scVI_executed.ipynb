{
 "cells": [
  {
   "cell_type": "code",
   "execution_count": 1,
   "id": "2dd1425a-0c07-465e-b522-9e3cc5cb93a7",
   "metadata": {
    "execution": {
     "iopub.execute_input": "2024-05-03T20:41:15.067203Z",
     "iopub.status.busy": "2024-05-03T20:41:15.066446Z",
     "iopub.status.idle": "2024-05-03T20:41:20.284798Z",
     "shell.execute_reply": "2024-05-03T20:41:20.283859Z"
    },
    "papermill": {
     "duration": 5.225836,
     "end_time": "2024-05-03T20:41:20.286670",
     "exception": false,
     "start_time": "2024-05-03T20:41:15.060834",
     "status": "completed"
    },
    "tags": []
   },
   "outputs": [
    {
     "data": {
      "text/plain": [
       "True"
      ]
     },
     "execution_count": 1,
     "metadata": {},
     "output_type": "execute_result"
    }
   ],
   "source": [
    "import os\n",
    "import sys\n",
    "\n",
    "import numpy as np\n",
    "import matplotlib.pyplot as plt\n",
    "\n",
    "import scanpy as sc\n",
    "import scvi\n",
    "import torch\n",
    "\n",
    "from pytorch_lightning.loggers import WandbLogger\n",
    "import wandb\n",
    "from dotenv import load_dotenv\n",
    "\n",
    "import session_info\n",
    "import warnings\n",
    "from pyprojroot.here import here\n",
    "\n",
    "warnings.filterwarnings(\"ignore\")\n",
    "sys.path.insert(1, str(here('bin')))\n",
    "\n",
    "torch.set_float32_matmul_precision('high')\n",
    "\n",
    "#plt.style.use(['science','nature','no-latex'])\n",
    "dpi_fig_save = 300\n",
    "sc.set_figure_params(dpi=100, dpi_save=dpi_fig_save, vector_friendly=True)\n",
    "\n",
    "load_dotenv(here('.env'))"
   ]
  },
  {
   "cell_type": "code",
   "execution_count": 2,
   "id": "09c897fc-744b-43de-a681-718fb5d327fa",
   "metadata": {
    "execution": {
     "iopub.execute_input": "2024-05-03T20:41:20.297966Z",
     "iopub.status.busy": "2024-05-03T20:41:20.297185Z",
     "iopub.status.idle": "2024-05-03T20:41:20.301559Z",
     "shell.execute_reply": "2024-05-03T20:41:20.300737Z"
    },
    "papermill": {
     "duration": 0.010793,
     "end_time": "2024-05-03T20:41:20.303214",
     "exception": false,
     "start_time": "2024-05-03T20:41:20.292421",
     "status": "completed"
    },
    "tags": []
   },
   "outputs": [],
   "source": [
    "class CustomWandbLogger(WandbLogger):\n",
    "    @property\n",
    "    def save_dir(self):\n",
    "        return self.experiment.dir"
   ]
  },
  {
   "cell_type": "code",
   "execution_count": 3,
   "id": "8ee6662f-5d45-4137-80a5-bb0b9ae8d71f",
   "metadata": {
    "execution": {
     "iopub.execute_input": "2024-05-03T20:41:20.311214Z",
     "iopub.status.busy": "2024-05-03T20:41:20.310946Z",
     "iopub.status.idle": "2024-05-03T20:41:20.317745Z",
     "shell.execute_reply": "2024-05-03T20:41:20.316967Z"
    },
    "papermill": {
     "duration": 0.012923,
     "end_time": "2024-05-03T20:41:20.319450",
     "exception": false,
     "start_time": "2024-05-03T20:41:20.306527",
     "status": "completed"
    },
    "tags": []
   },
   "outputs": [
    {
     "name": "stderr",
     "output_type": "stream",
     "text": [
      "Seed set to 0\n"
     ]
    },
    {
     "name": "stdout",
     "output_type": "stream",
     "text": [
      "Last run with scvi-tools version: 1.1.2\n"
     ]
    }
   ],
   "source": [
    "scvi.settings.seed = 0\n",
    "print(\"Last run with scvi-tools version:\", scvi.__version__)"
   ]
  },
  {
   "cell_type": "markdown",
   "id": "a81037ff-5998-482a-ba86-520f757311a9",
   "metadata": {
    "papermill": {
     "duration": 0.003525,
     "end_time": "2024-05-03T20:41:20.326294",
     "exception": false,
     "start_time": "2024-05-03T20:41:20.322769",
     "status": "completed"
    },
    "tags": []
   },
   "source": [
    "**Setting parameters** "
   ]
  },
  {
   "cell_type": "code",
   "execution_count": 4,
   "id": "56c27966-8f10-4c93-8b1a-1fa75f005e41",
   "metadata": {
    "execution": {
     "iopub.execute_input": "2024-05-03T20:41:20.334698Z",
     "iopub.status.busy": "2024-05-03T20:41:20.334214Z",
     "iopub.status.idle": "2024-05-03T20:41:20.338016Z",
     "shell.execute_reply": "2024-05-03T20:41:20.337206Z"
    },
    "papermill": {
     "duration": 0.010024,
     "end_time": "2024-05-03T20:41:20.339773",
     "exception": false,
     "start_time": "2024-05-03T20:41:20.329749",
     "status": "completed"
    },
    "tags": []
   },
   "outputs": [],
   "source": [
    "overwriteFigures = True\n",
    "overwriteData = True"
   ]
  },
  {
   "cell_type": "code",
   "execution_count": 5,
   "id": "c86fccd3-a4fe-415b-8f4e-e2ceb3ec128a",
   "metadata": {
    "execution": {
     "iopub.execute_input": "2024-05-03T20:41:20.348650Z",
     "iopub.status.busy": "2024-05-03T20:41:20.347982Z",
     "iopub.status.idle": "2024-05-03T20:41:20.351654Z",
     "shell.execute_reply": "2024-05-03T20:41:20.350886Z"
    },
    "papermill": {
     "duration": 0.010162,
     "end_time": "2024-05-03T20:41:20.353265",
     "exception": false,
     "start_time": "2024-05-03T20:41:20.343103",
     "status": "completed"
    },
    "tags": []
   },
   "outputs": [],
   "source": [
    "cellGroup = 'Plasma'\n",
    "workDir = os.getcwd()"
   ]
  },
  {
   "cell_type": "code",
   "execution_count": 6,
   "id": "2dee4d55-d168-467b-b867-a61fed9d6af1",
   "metadata": {
    "execution": {
     "iopub.execute_input": "2024-05-03T20:41:20.361624Z",
     "iopub.status.busy": "2024-05-03T20:41:20.361155Z",
     "iopub.status.idle": "2024-05-03T20:41:20.365073Z",
     "shell.execute_reply": "2024-05-03T20:41:20.364247Z"
    },
    "papermill": {
     "duration": 0.009959,
     "end_time": "2024-05-03T20:41:20.366794",
     "exception": false,
     "start_time": "2024-05-03T20:41:20.356835",
     "status": "completed"
    },
    "tags": []
   },
   "outputs": [],
   "source": [
    "annotationLevel = os.path.basename(os.path.normpath(workDir))"
   ]
  },
  {
   "cell_type": "code",
   "execution_count": 7,
   "id": "11e53cd5-b746-4152-89cb-c2f0c15d90b3",
   "metadata": {
    "execution": {
     "iopub.execute_input": "2024-05-03T20:41:20.375326Z",
     "iopub.status.busy": "2024-05-03T20:41:20.374823Z",
     "iopub.status.idle": "2024-05-03T20:41:20.380042Z",
     "shell.execute_reply": "2024-05-03T20:41:20.379224Z"
    },
    "papermill": {
     "duration": 0.011183,
     "end_time": "2024-05-03T20:41:20.381564",
     "exception": false,
     "start_time": "2024-05-03T20:41:20.370381",
     "status": "completed"
    },
    "tags": []
   },
   "outputs": [
    {
     "data": {
      "text/plain": [
       "'/home/jupyter/Inflammation-PBMCs-Atlas/02_cell_annotation/02_fromCellLineages_to_CellTypes/Step3'"
      ]
     },
     "execution_count": 7,
     "metadata": {},
     "output_type": "execute_result"
    }
   ],
   "source": [
    "workDir"
   ]
  },
  {
   "cell_type": "markdown",
   "id": "171d2f06-9a44-4fcb-b437-35dc546674b6",
   "metadata": {
    "papermill": {
     "duration": 0.003759,
     "end_time": "2024-05-03T20:41:20.389020",
     "exception": false,
     "start_time": "2024-05-03T20:41:20.385261",
     "status": "completed"
    },
    "tags": []
   },
   "source": [
    "**Load data**"
   ]
  },
  {
   "cell_type": "code",
   "execution_count": 8,
   "id": "429f34fe-dde6-4cc9-9f75-7de8f85c5ffe",
   "metadata": {
    "execution": {
     "iopub.execute_input": "2024-05-03T20:41:20.397812Z",
     "iopub.status.busy": "2024-05-03T20:41:20.397315Z",
     "iopub.status.idle": "2024-05-03T20:41:21.476209Z",
     "shell.execute_reply": "2024-05-03T20:41:21.475232Z"
    },
    "papermill": {
     "duration": 1.085202,
     "end_time": "2024-05-03T20:41:21.477905",
     "exception": false,
     "start_time": "2024-05-03T20:41:20.392703",
     "status": "completed"
    },
    "tags": []
   },
   "outputs": [
    {
     "data": {
      "text/plain": [
       "AnnData object with n_obs × n_vars = 20628 × 2337\n",
       "    obs: 'studyID', 'libraryID', 'sampleID', 'chemistry', 'technology', 'patientID', 'disease', 'timepoint_replicate', 'treatmentStatus', 'therapyResponse', 'sex', 'age', 'BMI', 'binned_age', 'diseaseStatus', 'smokingStatus', 'ethnicity', 'institute', 'diseaseGroup', 'n_genes_by_counts', 'log1p_n_genes_by_counts', 'total_counts', 'log1p_total_counts', 'pct_counts_in_top_20_genes', 'total_counts_mt', 'log1p_total_counts_mt', 'pct_counts_mt', 'total_counts_ribo', 'log1p_total_counts_ribo', 'pct_counts_ribo', 'total_counts_hb', 'log1p_total_counts_hb', 'pct_counts_hb', 'total_counts_plt', 'log1p_total_counts_plt', 'pct_counts_plt', 'doublet_score', 'predicted_doublet', 'S_score', 'G2M_score', 'phase'\n",
       "    var: 'hgnc_id', 'symbol', 'locus_group', 'HUGO_status', 'mt', 'ribo', 'hb', 'plt', 'n_cells_by_counts', 'mean_counts', 'log1p_mean_counts', 'pct_dropout_by_counts', 'total_counts', 'log1p_total_counts', 'highly_variable'\n",
       "    uns: 'chemistry_colors', 'log1p'\n",
       "    layers: 'counts', 'log1p_10e4_counts'"
      ]
     },
     "execution_count": 8,
     "metadata": {},
     "output_type": "execute_result"
    }
   ],
   "source": [
    "adata = sc.read_h5ad(here(f\"{workDir}/{cellGroup}/results/01_{cellGroup}_normalized_HVGsubset.h5ad\"))\n",
    "adata"
   ]
  },
  {
   "cell_type": "markdown",
   "id": "8ac79f3b-d5af-41fa-8904-1e9ac1cbe2fb",
   "metadata": {
    "papermill": {
     "duration": 0.003682,
     "end_time": "2024-05-03T20:41:21.485461",
     "exception": false,
     "start_time": "2024-05-03T20:41:21.481779",
     "status": "completed"
    },
    "tags": []
   },
   "source": [
    "## scVI integration"
   ]
  },
  {
   "cell_type": "markdown",
   "id": "9544847d-d17f-4811-b14b-760446d54d32",
   "metadata": {
    "execution": {
     "iopub.execute_input": "2024-03-25T16:49:04.004504Z",
     "iopub.status.busy": "2024-03-25T16:49:04.004143Z",
     "iopub.status.idle": "2024-03-25T16:49:04.010148Z",
     "shell.execute_reply": "2024-03-25T16:49:04.009146Z",
     "shell.execute_reply.started": "2024-03-25T16:49:04.004477Z"
    },
    "papermill": {
     "duration": 0.003734,
     "end_time": "2024-05-03T20:41:21.492919",
     "exception": false,
     "start_time": "2024-05-03T20:41:21.489185",
     "status": "completed"
    },
    "tags": []
   },
   "source": [
    "**scVI parameters**"
   ]
  },
  {
   "cell_type": "code",
   "execution_count": 9,
   "id": "208966eb-545a-4c02-854c-0ed0487ef5b3",
   "metadata": {
    "execution": {
     "iopub.execute_input": "2024-05-03T20:41:21.502187Z",
     "iopub.status.busy": "2024-05-03T20:41:21.501646Z",
     "iopub.status.idle": "2024-05-03T20:41:21.507605Z",
     "shell.execute_reply": "2024-05-03T20:41:21.506739Z"
    },
    "papermill": {
     "duration": 0.012435,
     "end_time": "2024-05-03T20:41:21.509262",
     "exception": false,
     "start_time": "2024-05-03T20:41:21.496827",
     "status": "completed"
    },
    "tags": []
   },
   "outputs": [],
   "source": [
    "# https://docs.scvi-tools.org/en/stable/api/reference/scvi.train.Trainer.html#scvi.train.Trainer\n",
    "setup_kwargs = dict(\n",
    "    layer=\"counts\", \n",
    "    batch_key='libraryID', \n",
    "    categorical_covariate_keys = ['studyID', 'chemistry', 'disease', 'sampleID'],\n",
    "    labels_key = 'chemistry'    \n",
    ")\n",
    "\n",
    "scvi_kwargs = dict(n_hidden=512,\n",
    "                   n_latent=10, # reduceds after step 02\n",
    "                   n_layers=2,\n",
    "                   gene_likelihood='nb',\n",
    "                   dispersion='gene-label')\n",
    "\n",
    "trainer_kwargs = dict(\n",
    "    checkpointing_monitor = 'elbo_validation',\n",
    "    early_stopping_monitor = 'reconstruction_loss_validation',\n",
    "    early_stopping_patience = 10,\n",
    "    early_stopping_min_delta=0.1,\n",
    "    early_stopping = True,\n",
    "    max_epochs = 1000,\n",
    "\n",
    "    #logger = # wandb\n",
    ")\n",
    "# https://docs.scvi-tools.org/en/stable/api/reference/scvi.train.TrainingPlan.html#scvi.train.TrainingPlan\n",
    "plan_kwargs = dict(\n",
    "    lr = 5e-4,\n",
    "    #reduce_lr_on_plateau = True\n",
    ")\n",
    "\n",
    "# https://docs.scvi-tools.org/en/stable/api/reference/scvi.module.VAE.html#scvi.module.VAE\n",
    "#vae = dict(\n",
    "#    use_layer_norm='both',\n",
    "#    use_batch_norm='none',\n",
    "#    encode_covariates=True,\n",
    "#    deeply_inject_covariates=False\n",
    "#)\n",
    "parameter_dict = setup_kwargs | scvi_kwargs | trainer_kwargs | plan_kwargs"
   ]
  },
  {
   "cell_type": "markdown",
   "id": "1362366a-c16b-4c11-964b-b9c5f82f7b29",
   "metadata": {
    "papermill": {
     "duration": 0.003862,
     "end_time": "2024-05-03T20:41:21.516754",
     "exception": false,
     "start_time": "2024-05-03T20:41:21.512892",
     "status": "completed"
    },
    "tags": []
   },
   "source": [
    "**wandb parameter**"
   ]
  },
  {
   "cell_type": "code",
   "execution_count": 10,
   "id": "0496e33a-8ca5-423f-b42f-34a59760708c",
   "metadata": {
    "execution": {
     "iopub.execute_input": "2024-05-03T20:41:21.525919Z",
     "iopub.status.busy": "2024-05-03T20:41:21.525407Z",
     "iopub.status.idle": "2024-05-03T20:41:21.530818Z",
     "shell.execute_reply": "2024-05-03T20:41:21.530023Z"
    },
    "papermill": {
     "duration": 0.01209,
     "end_time": "2024-05-03T20:41:21.532731",
     "exception": false,
     "start_time": "2024-05-03T20:41:21.520641",
     "status": "completed"
    },
    "tags": []
   },
   "outputs": [
    {
     "data": {
      "text/plain": [
       "'Step3_Plasma'"
      ]
     },
     "execution_count": 10,
     "metadata": {},
     "output_type": "execute_result"
    }
   ],
   "source": [
    "run_name = f\"{annotationLevel}_{cellGroup}\"\n",
    "run_name"
   ]
  },
  {
   "cell_type": "code",
   "execution_count": 11,
   "id": "b0021327-95a2-4002-bf32-2c5779a99505",
   "metadata": {
    "execution": {
     "iopub.execute_input": "2024-05-03T20:41:21.541866Z",
     "iopub.status.busy": "2024-05-03T20:41:21.541335Z",
     "iopub.status.idle": "2024-05-03T20:41:21.669001Z",
     "shell.execute_reply": "2024-05-03T20:41:21.668048Z"
    },
    "papermill": {
     "duration": 0.134708,
     "end_time": "2024-05-03T20:41:21.671244",
     "exception": false,
     "start_time": "2024-05-03T20:41:21.536536",
     "status": "completed"
    },
    "tags": []
   },
   "outputs": [],
   "source": [
    "logger = CustomWandbLogger(name = run_name, project='inflammation_atlas_R1', config=parameter_dict)"
   ]
  },
  {
   "cell_type": "markdown",
   "id": "c237eee1-a976-4915-9b7f-b014bf33f47d",
   "metadata": {
    "papermill": {
     "duration": 0.003941,
     "end_time": "2024-05-03T20:41:21.679399",
     "exception": false,
     "start_time": "2024-05-03T20:41:21.675458",
     "status": "completed"
    },
    "tags": []
   },
   "source": [
    "**Running integration**"
   ]
  },
  {
   "cell_type": "code",
   "execution_count": 12,
   "id": "aff97c53-1aba-462e-8a77-f1aec9cf724c",
   "metadata": {
    "execution": {
     "iopub.execute_input": "2024-05-03T20:41:21.689064Z",
     "iopub.status.busy": "2024-05-03T20:41:21.688531Z",
     "iopub.status.idle": "2024-05-03T20:41:22.165045Z",
     "shell.execute_reply": "2024-05-03T20:41:22.164040Z"
    },
    "papermill": {
     "duration": 0.483777,
     "end_time": "2024-05-03T20:41:22.167149",
     "exception": false,
     "start_time": "2024-05-03T20:41:21.683372",
     "status": "completed"
    },
    "tags": []
   },
   "outputs": [],
   "source": [
    "scvi.model.SCVI.setup_anndata(adata, \n",
    "                              **setup_kwargs)"
   ]
  },
  {
   "cell_type": "code",
   "execution_count": 13,
   "id": "1a56f448-cf44-47c1-81a4-a89caa930fec",
   "metadata": {
    "execution": {
     "iopub.execute_input": "2024-05-03T20:41:22.177352Z",
     "iopub.status.busy": "2024-05-03T20:41:22.176508Z",
     "iopub.status.idle": "2024-05-03T20:41:22.423861Z",
     "shell.execute_reply": "2024-05-03T20:41:22.422835Z"
    },
    "papermill": {
     "duration": 0.254622,
     "end_time": "2024-05-03T20:41:22.425922",
     "exception": false,
     "start_time": "2024-05-03T20:41:22.171300",
     "status": "completed"
    },
    "tags": []
   },
   "outputs": [],
   "source": [
    "model = scvi.model.SCVI(adata, **scvi_kwargs)"
   ]
  },
  {
   "cell_type": "code",
   "execution_count": 14,
   "id": "2735f010-4f24-4ae8-9740-a8cfeb335e9a",
   "metadata": {
    "execution": {
     "iopub.execute_input": "2024-05-03T20:41:22.436310Z",
     "iopub.status.busy": "2024-05-03T20:41:22.435481Z",
     "iopub.status.idle": "2024-05-03T20:43:36.615987Z",
     "shell.execute_reply": "2024-05-03T20:43:36.615219Z"
    },
    "papermill": {
     "duration": 134.187663,
     "end_time": "2024-05-03T20:43:36.617698",
     "exception": false,
     "start_time": "2024-05-03T20:41:22.430035",
     "status": "completed"
    },
    "tags": []
   },
   "outputs": [
    {
     "name": "stderr",
     "output_type": "stream",
     "text": [
      "GPU available: True (cuda), used: True\n"
     ]
    },
    {
     "name": "stderr",
     "output_type": "stream",
     "text": [
      "TPU available: False, using: 0 TPU cores\n"
     ]
    },
    {
     "name": "stderr",
     "output_type": "stream",
     "text": [
      "IPU available: False, using: 0 IPUs\n"
     ]
    },
    {
     "name": "stderr",
     "output_type": "stream",
     "text": [
      "HPU available: False, using: 0 HPUs\n"
     ]
    },
    {
     "name": "stderr",
     "output_type": "stream",
     "text": [
      "\u001b[34m\u001b[1mwandb\u001b[0m: Currently logged in as: \u001b[33mdav1989\u001b[0m (\u001b[33minflammation\u001b[0m). Use \u001b[1m`wandb login --relogin`\u001b[0m to force relogin\n"
     ]
    },
    {
     "name": "stderr",
     "output_type": "stream",
     "text": [
      "\u001b[34m\u001b[1mwandb\u001b[0m: wandb version 0.16.6 is available!  To upgrade, please run:\n",
      "\u001b[34m\u001b[1mwandb\u001b[0m:  $ pip install wandb --upgrade\n"
     ]
    },
    {
     "name": "stderr",
     "output_type": "stream",
     "text": [
      "\u001b[34m\u001b[1mwandb\u001b[0m: Tracking run with wandb version 0.16.3\n"
     ]
    },
    {
     "name": "stderr",
     "output_type": "stream",
     "text": [
      "\u001b[34m\u001b[1mwandb\u001b[0m: Run data is saved locally in \u001b[35m\u001b[1m./wandb/run-20240503_204126-jxepe65c\u001b[0m\n",
      "\u001b[34m\u001b[1mwandb\u001b[0m: Run \u001b[1m`wandb offline`\u001b[0m to turn off syncing.\n"
     ]
    },
    {
     "name": "stderr",
     "output_type": "stream",
     "text": [
      "\u001b[34m\u001b[1mwandb\u001b[0m: Syncing run \u001b[33mStep3_Plasma\u001b[0m\n"
     ]
    },
    {
     "name": "stderr",
     "output_type": "stream",
     "text": [
      "\u001b[34m\u001b[1mwandb\u001b[0m: ⭐️ View project at \u001b[34m\u001b[4mhttps://wandb.ai/inflammation/inflammation_atlas_R1\u001b[0m\n"
     ]
    },
    {
     "name": "stderr",
     "output_type": "stream",
     "text": [
      "\u001b[34m\u001b[1mwandb\u001b[0m: 🚀 View run at \u001b[34m\u001b[4mhttps://wandb.ai/inflammation/inflammation_atlas_R1/runs/jxepe65c\u001b[0m\n"
     ]
    },
    {
     "name": "stderr",
     "output_type": "stream",
     "text": [
      "LOCAL_RANK: 0 - CUDA_VISIBLE_DEVICES: [0]\n"
     ]
    },
    {
     "name": "stdout",
     "output_type": "stream",
     "text": [
      "\r",
      "Training:   0%|          | 0/1000 [00:00<?, ?it/s]"
     ]
    },
    {
     "name": "stdout",
     "output_type": "stream",
     "text": [
      "\r",
      "Epoch 1/1000:   0%|          | 0/1000 [00:00<?, ?it/s]"
     ]
    },
    {
     "name": "stdout",
     "output_type": "stream",
     "text": [
      "\r",
      "Epoch 1/1000:   0%|          | 1/1000 [00:03<59:46,  3.59s/it]"
     ]
    },
    {
     "name": "stdout",
     "output_type": "stream",
     "text": [
      "\r",
      "Epoch 1/1000:   0%|          | 1/1000 [00:03<59:46,  3.59s/it, v_num=e65c, train_loss_step=1.52e+3, train_loss_epoch=1.89e+3]"
     ]
    },
    {
     "name": "stdout",
     "output_type": "stream",
     "text": [
      "\r",
      "Epoch 2/1000:   0%|          | 1/1000 [00:03<59:46,  3.59s/it, v_num=e65c, train_loss_step=1.52e+3, train_loss_epoch=1.89e+3]"
     ]
    },
    {
     "name": "stdout",
     "output_type": "stream",
     "text": [
      "\r",
      "Epoch 2/1000:   0%|          | 2/1000 [00:05<46:17,  2.78s/it, v_num=e65c, train_loss_step=1.52e+3, train_loss_epoch=1.89e+3]"
     ]
    },
    {
     "name": "stdout",
     "output_type": "stream",
     "text": [
      "\r",
      "Epoch 2/1000:   0%|          | 2/1000 [00:05<46:17,  2.78s/it, v_num=e65c, train_loss_step=1.7e+3, train_loss_epoch=1.55e+3] "
     ]
    },
    {
     "name": "stdout",
     "output_type": "stream",
     "text": [
      "\r",
      "Epoch 3/1000:   0%|          | 2/1000 [00:05<46:17,  2.78s/it, v_num=e65c, train_loss_step=1.7e+3, train_loss_epoch=1.55e+3]"
     ]
    },
    {
     "name": "stdout",
     "output_type": "stream",
     "text": [
      "\r",
      "Epoch 3/1000:   0%|          | 3/1000 [00:08<42:01,  2.53s/it, v_num=e65c, train_loss_step=1.7e+3, train_loss_epoch=1.55e+3]"
     ]
    },
    {
     "name": "stdout",
     "output_type": "stream",
     "text": [
      "\r",
      "Epoch 3/1000:   0%|          | 3/1000 [00:08<42:01,  2.53s/it, v_num=e65c, train_loss_step=1.52e+3, train_loss_epoch=1.5e+3]"
     ]
    },
    {
     "name": "stdout",
     "output_type": "stream",
     "text": [
      "\r",
      "Epoch 4/1000:   0%|          | 3/1000 [00:08<42:01,  2.53s/it, v_num=e65c, train_loss_step=1.52e+3, train_loss_epoch=1.5e+3]"
     ]
    },
    {
     "name": "stdout",
     "output_type": "stream",
     "text": [
      "\r",
      "Epoch 4/1000:   0%|          | 4/1000 [00:10<40:03,  2.41s/it, v_num=e65c, train_loss_step=1.52e+3, train_loss_epoch=1.5e+3]"
     ]
    },
    {
     "name": "stdout",
     "output_type": "stream",
     "text": [
      "\r",
      "Epoch 4/1000:   0%|          | 4/1000 [00:10<40:03,  2.41s/it, v_num=e65c, train_loss_step=1.18e+3, train_loss_epoch=1.47e+3]"
     ]
    },
    {
     "name": "stdout",
     "output_type": "stream",
     "text": [
      "\r",
      "Epoch 5/1000:   0%|          | 4/1000 [00:10<40:03,  2.41s/it, v_num=e65c, train_loss_step=1.18e+3, train_loss_epoch=1.47e+3]"
     ]
    },
    {
     "name": "stdout",
     "output_type": "stream",
     "text": [
      "\r",
      "Epoch 5/1000:   0%|          | 5/1000 [00:12<38:56,  2.35s/it, v_num=e65c, train_loss_step=1.18e+3, train_loss_epoch=1.47e+3]"
     ]
    },
    {
     "name": "stdout",
     "output_type": "stream",
     "text": [
      "\r",
      "Epoch 5/1000:   0%|          | 5/1000 [00:12<38:56,  2.35s/it, v_num=e65c, train_loss_step=1.57e+3, train_loss_epoch=1.45e+3]"
     ]
    },
    {
     "name": "stdout",
     "output_type": "stream",
     "text": [
      "\r",
      "Epoch 6/1000:   0%|          | 5/1000 [00:12<38:56,  2.35s/it, v_num=e65c, train_loss_step=1.57e+3, train_loss_epoch=1.45e+3]"
     ]
    },
    {
     "name": "stdout",
     "output_type": "stream",
     "text": [
      "\r",
      "Epoch 6/1000:   1%|          | 6/1000 [00:14<38:31,  2.33s/it, v_num=e65c, train_loss_step=1.57e+3, train_loss_epoch=1.45e+3]"
     ]
    },
    {
     "name": "stdout",
     "output_type": "stream",
     "text": [
      "\r",
      "Epoch 6/1000:   1%|          | 6/1000 [00:14<38:31,  2.33s/it, v_num=e65c, train_loss_step=1.64e+3, train_loss_epoch=1.44e+3]"
     ]
    },
    {
     "name": "stdout",
     "output_type": "stream",
     "text": [
      "\r",
      "Epoch 7/1000:   1%|          | 6/1000 [00:14<38:31,  2.33s/it, v_num=e65c, train_loss_step=1.64e+3, train_loss_epoch=1.44e+3]"
     ]
    },
    {
     "name": "stdout",
     "output_type": "stream",
     "text": [
      "\r",
      "Epoch 7/1000:   1%|          | 7/1000 [00:17<38:00,  2.30s/it, v_num=e65c, train_loss_step=1.64e+3, train_loss_epoch=1.44e+3]"
     ]
    },
    {
     "name": "stdout",
     "output_type": "stream",
     "text": [
      "\r",
      "Epoch 7/1000:   1%|          | 7/1000 [00:17<38:00,  2.30s/it, v_num=e65c, train_loss_step=1.62e+3, train_loss_epoch=1.43e+3]"
     ]
    },
    {
     "name": "stdout",
     "output_type": "stream",
     "text": [
      "\r",
      "Epoch 8/1000:   1%|          | 7/1000 [00:17<38:00,  2.30s/it, v_num=e65c, train_loss_step=1.62e+3, train_loss_epoch=1.43e+3]"
     ]
    },
    {
     "name": "stdout",
     "output_type": "stream",
     "text": [
      "\r",
      "Epoch 8/1000:   1%|          | 8/1000 [00:19<37:40,  2.28s/it, v_num=e65c, train_loss_step=1.62e+3, train_loss_epoch=1.43e+3]"
     ]
    },
    {
     "name": "stdout",
     "output_type": "stream",
     "text": [
      "\r",
      "Epoch 8/1000:   1%|          | 8/1000 [00:19<37:40,  2.28s/it, v_num=e65c, train_loss_step=1.62e+3, train_loss_epoch=1.42e+3]"
     ]
    },
    {
     "name": "stdout",
     "output_type": "stream",
     "text": [
      "\r",
      "Epoch 9/1000:   1%|          | 8/1000 [00:19<37:40,  2.28s/it, v_num=e65c, train_loss_step=1.62e+3, train_loss_epoch=1.42e+3]"
     ]
    },
    {
     "name": "stdout",
     "output_type": "stream",
     "text": [
      "\r",
      "Epoch 9/1000:   1%|          | 9/1000 [00:21<37:38,  2.28s/it, v_num=e65c, train_loss_step=1.62e+3, train_loss_epoch=1.42e+3]"
     ]
    },
    {
     "name": "stdout",
     "output_type": "stream",
     "text": [
      "\r",
      "Epoch 9/1000:   1%|          | 9/1000 [00:21<37:38,  2.28s/it, v_num=e65c, train_loss_step=2.43e+3, train_loss_epoch=1.42e+3]"
     ]
    },
    {
     "name": "stdout",
     "output_type": "stream",
     "text": [
      "\r",
      "Epoch 10/1000:   1%|          | 9/1000 [00:21<37:38,  2.28s/it, v_num=e65c, train_loss_step=2.43e+3, train_loss_epoch=1.42e+3]"
     ]
    },
    {
     "name": "stdout",
     "output_type": "stream",
     "text": [
      "\r",
      "Epoch 10/1000:   1%|          | 10/1000 [00:23<37:42,  2.29s/it, v_num=e65c, train_loss_step=2.43e+3, train_loss_epoch=1.42e+3]"
     ]
    },
    {
     "name": "stdout",
     "output_type": "stream",
     "text": [
      "\r",
      "Epoch 10/1000:   1%|          | 10/1000 [00:23<37:42,  2.29s/it, v_num=e65c, train_loss_step=1.91e+3, train_loss_epoch=1.41e+3]"
     ]
    },
    {
     "name": "stdout",
     "output_type": "stream",
     "text": [
      "\r",
      "Epoch 11/1000:   1%|          | 10/1000 [00:23<37:42,  2.29s/it, v_num=e65c, train_loss_step=1.91e+3, train_loss_epoch=1.41e+3]"
     ]
    },
    {
     "name": "stdout",
     "output_type": "stream",
     "text": [
      "\r",
      "Epoch 11/1000:   1%|          | 11/1000 [00:26<37:36,  2.28s/it, v_num=e65c, train_loss_step=1.91e+3, train_loss_epoch=1.41e+3]"
     ]
    },
    {
     "name": "stdout",
     "output_type": "stream",
     "text": [
      "\r",
      "Epoch 11/1000:   1%|          | 11/1000 [00:26<37:36,  2.28s/it, v_num=e65c, train_loss_step=947, train_loss_epoch=1.41e+3]    "
     ]
    },
    {
     "name": "stdout",
     "output_type": "stream",
     "text": [
      "\r",
      "Epoch 12/1000:   1%|          | 11/1000 [00:26<37:36,  2.28s/it, v_num=e65c, train_loss_step=947, train_loss_epoch=1.41e+3]"
     ]
    },
    {
     "name": "stdout",
     "output_type": "stream",
     "text": [
      "\r",
      "Epoch 12/1000:   1%|          | 12/1000 [00:28<37:22,  2.27s/it, v_num=e65c, train_loss_step=947, train_loss_epoch=1.41e+3]"
     ]
    },
    {
     "name": "stdout",
     "output_type": "stream",
     "text": [
      "\r",
      "Epoch 12/1000:   1%|          | 12/1000 [00:28<37:22,  2.27s/it, v_num=e65c, train_loss_step=1.87e+3, train_loss_epoch=1.4e+3]"
     ]
    },
    {
     "name": "stdout",
     "output_type": "stream",
     "text": [
      "\r",
      "Epoch 13/1000:   1%|          | 12/1000 [00:28<37:22,  2.27s/it, v_num=e65c, train_loss_step=1.87e+3, train_loss_epoch=1.4e+3]"
     ]
    },
    {
     "name": "stdout",
     "output_type": "stream",
     "text": [
      "\r",
      "Epoch 13/1000:   1%|▏         | 13/1000 [00:30<37:14,  2.26s/it, v_num=e65c, train_loss_step=1.87e+3, train_loss_epoch=1.4e+3]"
     ]
    },
    {
     "name": "stdout",
     "output_type": "stream",
     "text": [
      "\r",
      "Epoch 13/1000:   1%|▏         | 13/1000 [00:30<37:14,  2.26s/it, v_num=e65c, train_loss_step=1.6e+3, train_loss_epoch=1.39e+3]"
     ]
    },
    {
     "name": "stdout",
     "output_type": "stream",
     "text": [
      "\r",
      "Epoch 14/1000:   1%|▏         | 13/1000 [00:30<37:14,  2.26s/it, v_num=e65c, train_loss_step=1.6e+3, train_loss_epoch=1.39e+3]"
     ]
    },
    {
     "name": "stdout",
     "output_type": "stream",
     "text": [
      "\r",
      "Epoch 14/1000:   1%|▏         | 14/1000 [00:32<37:01,  2.25s/it, v_num=e65c, train_loss_step=1.6e+3, train_loss_epoch=1.39e+3]"
     ]
    },
    {
     "name": "stdout",
     "output_type": "stream",
     "text": [
      "\r",
      "Epoch 14/1000:   1%|▏         | 14/1000 [00:32<37:01,  2.25s/it, v_num=e65c, train_loss_step=1.54e+3, train_loss_epoch=1.39e+3]"
     ]
    },
    {
     "name": "stdout",
     "output_type": "stream",
     "text": [
      "\r",
      "Epoch 15/1000:   1%|▏         | 14/1000 [00:32<37:01,  2.25s/it, v_num=e65c, train_loss_step=1.54e+3, train_loss_epoch=1.39e+3]"
     ]
    },
    {
     "name": "stdout",
     "output_type": "stream",
     "text": [
      "\r",
      "Epoch 15/1000:   2%|▏         | 15/1000 [00:35<36:52,  2.25s/it, v_num=e65c, train_loss_step=1.54e+3, train_loss_epoch=1.39e+3]"
     ]
    },
    {
     "name": "stdout",
     "output_type": "stream",
     "text": [
      "\r",
      "Epoch 15/1000:   2%|▏         | 15/1000 [00:35<36:52,  2.25s/it, v_num=e65c, train_loss_step=1.66e+3, train_loss_epoch=1.38e+3]"
     ]
    },
    {
     "name": "stdout",
     "output_type": "stream",
     "text": [
      "\r",
      "Epoch 16/1000:   2%|▏         | 15/1000 [00:35<36:52,  2.25s/it, v_num=e65c, train_loss_step=1.66e+3, train_loss_epoch=1.38e+3]"
     ]
    },
    {
     "name": "stdout",
     "output_type": "stream",
     "text": [
      "\r",
      "Epoch 16/1000:   2%|▏         | 16/1000 [00:37<36:48,  2.24s/it, v_num=e65c, train_loss_step=1.66e+3, train_loss_epoch=1.38e+3]"
     ]
    },
    {
     "name": "stdout",
     "output_type": "stream",
     "text": [
      "\r",
      "Epoch 16/1000:   2%|▏         | 16/1000 [00:37<36:48,  2.24s/it, v_num=e65c, train_loss_step=1.79e+3, train_loss_epoch=1.38e+3]"
     ]
    },
    {
     "name": "stdout",
     "output_type": "stream",
     "text": [
      "\r",
      "Epoch 17/1000:   2%|▏         | 16/1000 [00:37<36:48,  2.24s/it, v_num=e65c, train_loss_step=1.79e+3, train_loss_epoch=1.38e+3]"
     ]
    },
    {
     "name": "stdout",
     "output_type": "stream",
     "text": [
      "\r",
      "Epoch 17/1000:   2%|▏         | 17/1000 [00:39<36:41,  2.24s/it, v_num=e65c, train_loss_step=1.79e+3, train_loss_epoch=1.38e+3]"
     ]
    },
    {
     "name": "stdout",
     "output_type": "stream",
     "text": [
      "\r",
      "Epoch 17/1000:   2%|▏         | 17/1000 [00:39<36:41,  2.24s/it, v_num=e65c, train_loss_step=1.31e+3, train_loss_epoch=1.42e+3]"
     ]
    },
    {
     "name": "stdout",
     "output_type": "stream",
     "text": [
      "\r",
      "Epoch 18/1000:   2%|▏         | 17/1000 [00:39<36:41,  2.24s/it, v_num=e65c, train_loss_step=1.31e+3, train_loss_epoch=1.42e+3]"
     ]
    },
    {
     "name": "stdout",
     "output_type": "stream",
     "text": [
      "\r",
      "Epoch 18/1000:   2%|▏         | 18/1000 [00:41<36:37,  2.24s/it, v_num=e65c, train_loss_step=1.31e+3, train_loss_epoch=1.42e+3]"
     ]
    },
    {
     "name": "stdout",
     "output_type": "stream",
     "text": [
      "\r",
      "Epoch 18/1000:   2%|▏         | 18/1000 [00:41<36:37,  2.24s/it, v_num=e65c, train_loss_step=1.55e+3, train_loss_epoch=1.39e+3]"
     ]
    },
    {
     "name": "stdout",
     "output_type": "stream",
     "text": [
      "\r",
      "Epoch 19/1000:   2%|▏         | 18/1000 [00:41<36:37,  2.24s/it, v_num=e65c, train_loss_step=1.55e+3, train_loss_epoch=1.39e+3]"
     ]
    },
    {
     "name": "stdout",
     "output_type": "stream",
     "text": [
      "\r",
      "Epoch 19/1000:   2%|▏         | 19/1000 [00:44<36:42,  2.24s/it, v_num=e65c, train_loss_step=1.55e+3, train_loss_epoch=1.39e+3]"
     ]
    },
    {
     "name": "stdout",
     "output_type": "stream",
     "text": [
      "\r",
      "Epoch 19/1000:   2%|▏         | 19/1000 [00:44<36:42,  2.24s/it, v_num=e65c, train_loss_step=1.38e+3, train_loss_epoch=1.38e+3]"
     ]
    },
    {
     "name": "stdout",
     "output_type": "stream",
     "text": [
      "\r",
      "Epoch 20/1000:   2%|▏         | 19/1000 [00:44<36:42,  2.24s/it, v_num=e65c, train_loss_step=1.38e+3, train_loss_epoch=1.38e+3]"
     ]
    },
    {
     "name": "stdout",
     "output_type": "stream",
     "text": [
      "\r",
      "Epoch 20/1000:   2%|▏         | 20/1000 [00:46<36:40,  2.25s/it, v_num=e65c, train_loss_step=1.38e+3, train_loss_epoch=1.38e+3]"
     ]
    },
    {
     "name": "stdout",
     "output_type": "stream",
     "text": [
      "\r",
      "Epoch 20/1000:   2%|▏         | 20/1000 [00:46<36:40,  2.25s/it, v_num=e65c, train_loss_step=1.07e+3, train_loss_epoch=1.37e+3]"
     ]
    },
    {
     "name": "stdout",
     "output_type": "stream",
     "text": [
      "\r",
      "Epoch 21/1000:   2%|▏         | 20/1000 [00:46<36:40,  2.25s/it, v_num=e65c, train_loss_step=1.07e+3, train_loss_epoch=1.37e+3]"
     ]
    },
    {
     "name": "stdout",
     "output_type": "stream",
     "text": [
      "\r",
      "Epoch 21/1000:   2%|▏         | 21/1000 [00:48<36:31,  2.24s/it, v_num=e65c, train_loss_step=1.07e+3, train_loss_epoch=1.37e+3]"
     ]
    },
    {
     "name": "stdout",
     "output_type": "stream",
     "text": [
      "\r",
      "Epoch 21/1000:   2%|▏         | 21/1000 [00:48<36:31,  2.24s/it, v_num=e65c, train_loss_step=1.79e+3, train_loss_epoch=1.37e+3]"
     ]
    },
    {
     "name": "stdout",
     "output_type": "stream",
     "text": [
      "\r",
      "Epoch 22/1000:   2%|▏         | 21/1000 [00:48<36:31,  2.24s/it, v_num=e65c, train_loss_step=1.79e+3, train_loss_epoch=1.37e+3]"
     ]
    },
    {
     "name": "stdout",
     "output_type": "stream",
     "text": [
      "\r",
      "Epoch 22/1000:   2%|▏         | 22/1000 [00:50<36:33,  2.24s/it, v_num=e65c, train_loss_step=1.79e+3, train_loss_epoch=1.37e+3]"
     ]
    },
    {
     "name": "stdout",
     "output_type": "stream",
     "text": [
      "\r",
      "Epoch 22/1000:   2%|▏         | 22/1000 [00:50<36:33,  2.24s/it, v_num=e65c, train_loss_step=1.39e+3, train_loss_epoch=1.38e+3]"
     ]
    },
    {
     "name": "stdout",
     "output_type": "stream",
     "text": [
      "\r",
      "Epoch 23/1000:   2%|▏         | 22/1000 [00:50<36:33,  2.24s/it, v_num=e65c, train_loss_step=1.39e+3, train_loss_epoch=1.38e+3]"
     ]
    },
    {
     "name": "stdout",
     "output_type": "stream",
     "text": [
      "\r",
      "Epoch 23/1000:   2%|▏         | 23/1000 [00:52<36:32,  2.24s/it, v_num=e65c, train_loss_step=1.39e+3, train_loss_epoch=1.38e+3]"
     ]
    },
    {
     "name": "stdout",
     "output_type": "stream",
     "text": [
      "\r",
      "Epoch 23/1000:   2%|▏         | 23/1000 [00:53<36:32,  2.24s/it, v_num=e65c, train_loss_step=1.49e+3, train_loss_epoch=1.37e+3]"
     ]
    },
    {
     "name": "stdout",
     "output_type": "stream",
     "text": [
      "\r",
      "Epoch 24/1000:   2%|▏         | 23/1000 [00:53<36:32,  2.24s/it, v_num=e65c, train_loss_step=1.49e+3, train_loss_epoch=1.37e+3]"
     ]
    },
    {
     "name": "stdout",
     "output_type": "stream",
     "text": [
      "\r",
      "Epoch 24/1000:   2%|▏         | 24/1000 [00:55<36:24,  2.24s/it, v_num=e65c, train_loss_step=1.49e+3, train_loss_epoch=1.37e+3]"
     ]
    },
    {
     "name": "stdout",
     "output_type": "stream",
     "text": [
      "\r",
      "Epoch 24/1000:   2%|▏         | 24/1000 [00:55<36:24,  2.24s/it, v_num=e65c, train_loss_step=1.65e+3, train_loss_epoch=1.36e+3]"
     ]
    },
    {
     "name": "stdout",
     "output_type": "stream",
     "text": [
      "\r",
      "Epoch 25/1000:   2%|▏         | 24/1000 [00:55<36:24,  2.24s/it, v_num=e65c, train_loss_step=1.65e+3, train_loss_epoch=1.36e+3]"
     ]
    },
    {
     "name": "stdout",
     "output_type": "stream",
     "text": [
      "\r",
      "Epoch 25/1000:   2%|▎         | 25/1000 [00:57<36:13,  2.23s/it, v_num=e65c, train_loss_step=1.65e+3, train_loss_epoch=1.36e+3]"
     ]
    },
    {
     "name": "stdout",
     "output_type": "stream",
     "text": [
      "\r",
      "Epoch 25/1000:   2%|▎         | 25/1000 [00:57<36:13,  2.23s/it, v_num=e65c, train_loss_step=1.35e+3, train_loss_epoch=1.36e+3]"
     ]
    },
    {
     "name": "stdout",
     "output_type": "stream",
     "text": [
      "\r",
      "Epoch 26/1000:   2%|▎         | 25/1000 [00:57<36:13,  2.23s/it, v_num=e65c, train_loss_step=1.35e+3, train_loss_epoch=1.36e+3]"
     ]
    },
    {
     "name": "stdout",
     "output_type": "stream",
     "text": [
      "\r",
      "Epoch 26/1000:   3%|▎         | 26/1000 [00:59<36:04,  2.22s/it, v_num=e65c, train_loss_step=1.35e+3, train_loss_epoch=1.36e+3]"
     ]
    },
    {
     "name": "stdout",
     "output_type": "stream",
     "text": [
      "\r",
      "Epoch 26/1000:   3%|▎         | 26/1000 [00:59<36:04,  2.22s/it, v_num=e65c, train_loss_step=1.32e+3, train_loss_epoch=1.36e+3]"
     ]
    },
    {
     "name": "stdout",
     "output_type": "stream",
     "text": [
      "\r",
      "Epoch 27/1000:   3%|▎         | 26/1000 [00:59<36:04,  2.22s/it, v_num=e65c, train_loss_step=1.32e+3, train_loss_epoch=1.36e+3]"
     ]
    },
    {
     "name": "stdout",
     "output_type": "stream",
     "text": [
      "\r",
      "Epoch 27/1000:   3%|▎         | 27/1000 [01:01<36:00,  2.22s/it, v_num=e65c, train_loss_step=1.32e+3, train_loss_epoch=1.36e+3]"
     ]
    },
    {
     "name": "stdout",
     "output_type": "stream",
     "text": [
      "\r",
      "Epoch 27/1000:   3%|▎         | 27/1000 [01:01<36:00,  2.22s/it, v_num=e65c, train_loss_step=1.3e+3, train_loss_epoch=1.37e+3] "
     ]
    },
    {
     "name": "stdout",
     "output_type": "stream",
     "text": [
      "\r",
      "Epoch 28/1000:   3%|▎         | 27/1000 [01:01<36:00,  2.22s/it, v_num=e65c, train_loss_step=1.3e+3, train_loss_epoch=1.37e+3]"
     ]
    },
    {
     "name": "stdout",
     "output_type": "stream",
     "text": [
      "\r",
      "Epoch 28/1000:   3%|▎         | 28/1000 [01:04<36:02,  2.22s/it, v_num=e65c, train_loss_step=1.3e+3, train_loss_epoch=1.37e+3]"
     ]
    },
    {
     "name": "stdout",
     "output_type": "stream",
     "text": [
      "\r",
      "Epoch 28/1000:   3%|▎         | 28/1000 [01:04<36:02,  2.22s/it, v_num=e65c, train_loss_step=1.21e+3, train_loss_epoch=1.36e+3]"
     ]
    },
    {
     "name": "stdout",
     "output_type": "stream",
     "text": [
      "\r",
      "Epoch 29/1000:   3%|▎         | 28/1000 [01:04<36:02,  2.22s/it, v_num=e65c, train_loss_step=1.21e+3, train_loss_epoch=1.36e+3]"
     ]
    },
    {
     "name": "stdout",
     "output_type": "stream",
     "text": [
      "\r",
      "Epoch 29/1000:   3%|▎         | 29/1000 [01:06<35:56,  2.22s/it, v_num=e65c, train_loss_step=1.21e+3, train_loss_epoch=1.36e+3]"
     ]
    },
    {
     "name": "stdout",
     "output_type": "stream",
     "text": [
      "\r",
      "Epoch 29/1000:   3%|▎         | 29/1000 [01:06<35:56,  2.22s/it, v_num=e65c, train_loss_step=1.29e+3, train_loss_epoch=1.35e+3]"
     ]
    },
    {
     "name": "stdout",
     "output_type": "stream",
     "text": [
      "\r",
      "Epoch 30/1000:   3%|▎         | 29/1000 [01:06<35:56,  2.22s/it, v_num=e65c, train_loss_step=1.29e+3, train_loss_epoch=1.35e+3]"
     ]
    },
    {
     "name": "stdout",
     "output_type": "stream",
     "text": [
      "\r",
      "Epoch 30/1000:   3%|▎         | 30/1000 [01:08<35:48,  2.22s/it, v_num=e65c, train_loss_step=1.29e+3, train_loss_epoch=1.35e+3]"
     ]
    },
    {
     "name": "stdout",
     "output_type": "stream",
     "text": [
      "\r",
      "Epoch 30/1000:   3%|▎         | 30/1000 [01:08<35:48,  2.22s/it, v_num=e65c, train_loss_step=1.16e+3, train_loss_epoch=1.35e+3]"
     ]
    },
    {
     "name": "stdout",
     "output_type": "stream",
     "text": [
      "\r",
      "Epoch 31/1000:   3%|▎         | 30/1000 [01:08<35:48,  2.22s/it, v_num=e65c, train_loss_step=1.16e+3, train_loss_epoch=1.35e+3]"
     ]
    },
    {
     "name": "stdout",
     "output_type": "stream",
     "text": [
      "\r",
      "Epoch 31/1000:   3%|▎         | 31/1000 [01:10<35:43,  2.21s/it, v_num=e65c, train_loss_step=1.16e+3, train_loss_epoch=1.35e+3]"
     ]
    },
    {
     "name": "stdout",
     "output_type": "stream",
     "text": [
      "\r",
      "Epoch 31/1000:   3%|▎         | 31/1000 [01:10<35:43,  2.21s/it, v_num=e65c, train_loss_step=1.65e+3, train_loss_epoch=1.35e+3]"
     ]
    },
    {
     "name": "stdout",
     "output_type": "stream",
     "text": [
      "\r",
      "Epoch 32/1000:   3%|▎         | 31/1000 [01:10<35:43,  2.21s/it, v_num=e65c, train_loss_step=1.65e+3, train_loss_epoch=1.35e+3]"
     ]
    },
    {
     "name": "stdout",
     "output_type": "stream",
     "text": [
      "\r",
      "Epoch 32/1000:   3%|▎         | 32/1000 [01:12<35:47,  2.22s/it, v_num=e65c, train_loss_step=1.65e+3, train_loss_epoch=1.35e+3]"
     ]
    },
    {
     "name": "stdout",
     "output_type": "stream",
     "text": [
      "\r",
      "Epoch 32/1000:   3%|▎         | 32/1000 [01:12<35:47,  2.22s/it, v_num=e65c, train_loss_step=1.62e+3, train_loss_epoch=1.35e+3]"
     ]
    },
    {
     "name": "stdout",
     "output_type": "stream",
     "text": [
      "\r",
      "Epoch 33/1000:   3%|▎         | 32/1000 [01:12<35:47,  2.22s/it, v_num=e65c, train_loss_step=1.62e+3, train_loss_epoch=1.35e+3]"
     ]
    },
    {
     "name": "stdout",
     "output_type": "stream",
     "text": [
      "\r",
      "Epoch 33/1000:   3%|▎         | 33/1000 [01:15<36:11,  2.25s/it, v_num=e65c, train_loss_step=1.62e+3, train_loss_epoch=1.35e+3]"
     ]
    },
    {
     "name": "stdout",
     "output_type": "stream",
     "text": [
      "\r",
      "Epoch 33/1000:   3%|▎         | 33/1000 [01:15<36:11,  2.25s/it, v_num=e65c, train_loss_step=1.33e+3, train_loss_epoch=1.35e+3]"
     ]
    },
    {
     "name": "stdout",
     "output_type": "stream",
     "text": [
      "\r",
      "Epoch 34/1000:   3%|▎         | 33/1000 [01:15<36:11,  2.25s/it, v_num=e65c, train_loss_step=1.33e+3, train_loss_epoch=1.35e+3]"
     ]
    },
    {
     "name": "stdout",
     "output_type": "stream",
     "text": [
      "\r",
      "Epoch 34/1000:   3%|▎         | 34/1000 [01:17<36:14,  2.25s/it, v_num=e65c, train_loss_step=1.33e+3, train_loss_epoch=1.35e+3]"
     ]
    },
    {
     "name": "stdout",
     "output_type": "stream",
     "text": [
      "\r",
      "Epoch 34/1000:   3%|▎         | 34/1000 [01:17<36:14,  2.25s/it, v_num=e65c, train_loss_step=915, train_loss_epoch=1.34e+3]    "
     ]
    },
    {
     "name": "stdout",
     "output_type": "stream",
     "text": [
      "\r",
      "Epoch 35/1000:   3%|▎         | 34/1000 [01:17<36:14,  2.25s/it, v_num=e65c, train_loss_step=915, train_loss_epoch=1.34e+3]"
     ]
    },
    {
     "name": "stdout",
     "output_type": "stream",
     "text": [
      "\r",
      "Epoch 35/1000:   4%|▎         | 35/1000 [01:19<36:19,  2.26s/it, v_num=e65c, train_loss_step=915, train_loss_epoch=1.34e+3]"
     ]
    },
    {
     "name": "stdout",
     "output_type": "stream",
     "text": [
      "\r",
      "Epoch 35/1000:   4%|▎         | 35/1000 [01:19<36:19,  2.26s/it, v_num=e65c, train_loss_step=1.38e+3, train_loss_epoch=1.34e+3]"
     ]
    },
    {
     "name": "stdout",
     "output_type": "stream",
     "text": [
      "\r",
      "Epoch 36/1000:   4%|▎         | 35/1000 [01:19<36:19,  2.26s/it, v_num=e65c, train_loss_step=1.38e+3, train_loss_epoch=1.34e+3]"
     ]
    },
    {
     "name": "stdout",
     "output_type": "stream",
     "text": [
      "\r",
      "Epoch 36/1000:   4%|▎         | 36/1000 [01:22<36:27,  2.27s/it, v_num=e65c, train_loss_step=1.38e+3, train_loss_epoch=1.34e+3]"
     ]
    },
    {
     "name": "stdout",
     "output_type": "stream",
     "text": [
      "\r",
      "Epoch 36/1000:   4%|▎         | 36/1000 [01:22<36:27,  2.27s/it, v_num=e65c, train_loss_step=1.16e+3, train_loss_epoch=1.34e+3]"
     ]
    },
    {
     "name": "stdout",
     "output_type": "stream",
     "text": [
      "\r",
      "Epoch 37/1000:   4%|▎         | 36/1000 [01:22<36:27,  2.27s/it, v_num=e65c, train_loss_step=1.16e+3, train_loss_epoch=1.34e+3]"
     ]
    },
    {
     "name": "stdout",
     "output_type": "stream",
     "text": [
      "\r",
      "Epoch 37/1000:   4%|▎         | 37/1000 [01:24<36:30,  2.27s/it, v_num=e65c, train_loss_step=1.16e+3, train_loss_epoch=1.34e+3]"
     ]
    },
    {
     "name": "stdout",
     "output_type": "stream",
     "text": [
      "\r",
      "Epoch 37/1000:   4%|▎         | 37/1000 [01:24<36:30,  2.27s/it, v_num=e65c, train_loss_step=1.49e+3, train_loss_epoch=1.34e+3]"
     ]
    },
    {
     "name": "stdout",
     "output_type": "stream",
     "text": [
      "\r",
      "Epoch 38/1000:   4%|▎         | 37/1000 [01:24<36:30,  2.27s/it, v_num=e65c, train_loss_step=1.49e+3, train_loss_epoch=1.34e+3]"
     ]
    },
    {
     "name": "stdout",
     "output_type": "stream",
     "text": [
      "\r",
      "Epoch 38/1000:   4%|▍         | 38/1000 [01:26<36:28,  2.28s/it, v_num=e65c, train_loss_step=1.49e+3, train_loss_epoch=1.34e+3]"
     ]
    },
    {
     "name": "stdout",
     "output_type": "stream",
     "text": [
      "\r",
      "Epoch 38/1000:   4%|▍         | 38/1000 [01:26<36:28,  2.28s/it, v_num=e65c, train_loss_step=1.62e+3, train_loss_epoch=1.34e+3]"
     ]
    },
    {
     "name": "stdout",
     "output_type": "stream",
     "text": [
      "\r",
      "Epoch 39/1000:   4%|▍         | 38/1000 [01:26<36:28,  2.28s/it, v_num=e65c, train_loss_step=1.62e+3, train_loss_epoch=1.34e+3]"
     ]
    },
    {
     "name": "stdout",
     "output_type": "stream",
     "text": [
      "\r",
      "Epoch 39/1000:   4%|▍         | 39/1000 [01:28<36:23,  2.27s/it, v_num=e65c, train_loss_step=1.62e+3, train_loss_epoch=1.34e+3]"
     ]
    },
    {
     "name": "stdout",
     "output_type": "stream",
     "text": [
      "\r",
      "Epoch 39/1000:   4%|▍         | 39/1000 [01:28<36:23,  2.27s/it, v_num=e65c, train_loss_step=1.26e+3, train_loss_epoch=1.34e+3]"
     ]
    },
    {
     "name": "stdout",
     "output_type": "stream",
     "text": [
      "\r",
      "Epoch 40/1000:   4%|▍         | 39/1000 [01:28<36:23,  2.27s/it, v_num=e65c, train_loss_step=1.26e+3, train_loss_epoch=1.34e+3]"
     ]
    },
    {
     "name": "stdout",
     "output_type": "stream",
     "text": [
      "\r",
      "Epoch 40/1000:   4%|▍         | 40/1000 [01:31<36:15,  2.27s/it, v_num=e65c, train_loss_step=1.26e+3, train_loss_epoch=1.34e+3]"
     ]
    },
    {
     "name": "stdout",
     "output_type": "stream",
     "text": [
      "\r",
      "Epoch 40/1000:   4%|▍         | 40/1000 [01:31<36:15,  2.27s/it, v_num=e65c, train_loss_step=1.51e+3, train_loss_epoch=1.33e+3]"
     ]
    },
    {
     "name": "stdout",
     "output_type": "stream",
     "text": [
      "\r",
      "Epoch 41/1000:   4%|▍         | 40/1000 [01:31<36:15,  2.27s/it, v_num=e65c, train_loss_step=1.51e+3, train_loss_epoch=1.33e+3]"
     ]
    },
    {
     "name": "stdout",
     "output_type": "stream",
     "text": [
      "\r",
      "Epoch 41/1000:   4%|▍         | 41/1000 [01:33<35:57,  2.25s/it, v_num=e65c, train_loss_step=1.51e+3, train_loss_epoch=1.33e+3]"
     ]
    },
    {
     "name": "stdout",
     "output_type": "stream",
     "text": [
      "\r",
      "Epoch 41/1000:   4%|▍         | 41/1000 [01:33<35:57,  2.25s/it, v_num=e65c, train_loss_step=1.24e+3, train_loss_epoch=1.34e+3]"
     ]
    },
    {
     "name": "stdout",
     "output_type": "stream",
     "text": [
      "\r",
      "Epoch 42/1000:   4%|▍         | 41/1000 [01:33<35:57,  2.25s/it, v_num=e65c, train_loss_step=1.24e+3, train_loss_epoch=1.34e+3]"
     ]
    },
    {
     "name": "stdout",
     "output_type": "stream",
     "text": [
      "\r",
      "Epoch 42/1000:   4%|▍         | 42/1000 [01:35<35:56,  2.25s/it, v_num=e65c, train_loss_step=1.24e+3, train_loss_epoch=1.34e+3]"
     ]
    },
    {
     "name": "stdout",
     "output_type": "stream",
     "text": [
      "\r",
      "Epoch 42/1000:   4%|▍         | 42/1000 [01:35<35:56,  2.25s/it, v_num=e65c, train_loss_step=1.64e+3, train_loss_epoch=1.33e+3]"
     ]
    },
    {
     "name": "stdout",
     "output_type": "stream",
     "text": [
      "\r",
      "Epoch 43/1000:   4%|▍         | 42/1000 [01:35<35:56,  2.25s/it, v_num=e65c, train_loss_step=1.64e+3, train_loss_epoch=1.33e+3]"
     ]
    },
    {
     "name": "stdout",
     "output_type": "stream",
     "text": [
      "\r",
      "Epoch 43/1000:   4%|▍         | 43/1000 [01:37<35:49,  2.25s/it, v_num=e65c, train_loss_step=1.64e+3, train_loss_epoch=1.33e+3]"
     ]
    },
    {
     "name": "stdout",
     "output_type": "stream",
     "text": [
      "\r",
      "Epoch 43/1000:   4%|▍         | 43/1000 [01:37<35:49,  2.25s/it, v_num=e65c, train_loss_step=1.28e+3, train_loss_epoch=1.33e+3]"
     ]
    },
    {
     "name": "stdout",
     "output_type": "stream",
     "text": [
      "\r",
      "Epoch 44/1000:   4%|▍         | 43/1000 [01:37<35:49,  2.25s/it, v_num=e65c, train_loss_step=1.28e+3, train_loss_epoch=1.33e+3]"
     ]
    },
    {
     "name": "stdout",
     "output_type": "stream",
     "text": [
      "\r",
      "Epoch 44/1000:   4%|▍         | 44/1000 [01:40<35:33,  2.23s/it, v_num=e65c, train_loss_step=1.28e+3, train_loss_epoch=1.33e+3]"
     ]
    },
    {
     "name": "stdout",
     "output_type": "stream",
     "text": [
      "\r",
      "Epoch 44/1000:   4%|▍         | 44/1000 [01:40<35:33,  2.23s/it, v_num=e65c, train_loss_step=1.45e+3, train_loss_epoch=1.33e+3]"
     ]
    },
    {
     "name": "stdout",
     "output_type": "stream",
     "text": [
      "\r",
      "Epoch 45/1000:   4%|▍         | 44/1000 [01:40<35:33,  2.23s/it, v_num=e65c, train_loss_step=1.45e+3, train_loss_epoch=1.33e+3]"
     ]
    },
    {
     "name": "stdout",
     "output_type": "stream",
     "text": [
      "\r",
      "Epoch 45/1000:   4%|▍         | 45/1000 [01:42<35:20,  2.22s/it, v_num=e65c, train_loss_step=1.45e+3, train_loss_epoch=1.33e+3]"
     ]
    },
    {
     "name": "stdout",
     "output_type": "stream",
     "text": [
      "\r",
      "Epoch 45/1000:   4%|▍         | 45/1000 [01:42<35:20,  2.22s/it, v_num=e65c, train_loss_step=1.56e+3, train_loss_epoch=1.33e+3]"
     ]
    },
    {
     "name": "stdout",
     "output_type": "stream",
     "text": [
      "\r",
      "Epoch 46/1000:   4%|▍         | 45/1000 [01:42<35:20,  2.22s/it, v_num=e65c, train_loss_step=1.56e+3, train_loss_epoch=1.33e+3]"
     ]
    },
    {
     "name": "stdout",
     "output_type": "stream",
     "text": [
      "\r",
      "Epoch 46/1000:   5%|▍         | 46/1000 [01:44<35:22,  2.23s/it, v_num=e65c, train_loss_step=1.56e+3, train_loss_epoch=1.33e+3]"
     ]
    },
    {
     "name": "stdout",
     "output_type": "stream",
     "text": [
      "\r",
      "Epoch 46/1000:   5%|▍         | 46/1000 [01:44<35:22,  2.23s/it, v_num=e65c, train_loss_step=1.31e+3, train_loss_epoch=1.33e+3]"
     ]
    },
    {
     "name": "stdout",
     "output_type": "stream",
     "text": [
      "\r",
      "Epoch 47/1000:   5%|▍         | 46/1000 [01:44<35:22,  2.23s/it, v_num=e65c, train_loss_step=1.31e+3, train_loss_epoch=1.33e+3]"
     ]
    },
    {
     "name": "stdout",
     "output_type": "stream",
     "text": [
      "\r",
      "Epoch 47/1000:   5%|▍         | 47/1000 [01:46<35:24,  2.23s/it, v_num=e65c, train_loss_step=1.31e+3, train_loss_epoch=1.33e+3]"
     ]
    },
    {
     "name": "stdout",
     "output_type": "stream",
     "text": [
      "\r",
      "Epoch 47/1000:   5%|▍         | 47/1000 [01:46<35:24,  2.23s/it, v_num=e65c, train_loss_step=1.22e+3, train_loss_epoch=1.33e+3]"
     ]
    },
    {
     "name": "stdout",
     "output_type": "stream",
     "text": [
      "\r",
      "Epoch 48/1000:   5%|▍         | 47/1000 [01:46<35:24,  2.23s/it, v_num=e65c, train_loss_step=1.22e+3, train_loss_epoch=1.33e+3]"
     ]
    },
    {
     "name": "stdout",
     "output_type": "stream",
     "text": [
      "\r",
      "Epoch 48/1000:   5%|▍         | 48/1000 [01:48<35:21,  2.23s/it, v_num=e65c, train_loss_step=1.22e+3, train_loss_epoch=1.33e+3]"
     ]
    },
    {
     "name": "stdout",
     "output_type": "stream",
     "text": [
      "\r",
      "Epoch 48/1000:   5%|▍         | 48/1000 [01:48<35:21,  2.23s/it, v_num=e65c, train_loss_step=1.61e+3, train_loss_epoch=1.32e+3]"
     ]
    },
    {
     "name": "stdout",
     "output_type": "stream",
     "text": [
      "\r",
      "Epoch 49/1000:   5%|▍         | 48/1000 [01:48<35:21,  2.23s/it, v_num=e65c, train_loss_step=1.61e+3, train_loss_epoch=1.32e+3]"
     ]
    },
    {
     "name": "stdout",
     "output_type": "stream",
     "text": [
      "\r",
      "Epoch 49/1000:   5%|▍         | 49/1000 [01:51<35:14,  2.22s/it, v_num=e65c, train_loss_step=1.61e+3, train_loss_epoch=1.32e+3]"
     ]
    },
    {
     "name": "stdout",
     "output_type": "stream",
     "text": [
      "\r",
      "Epoch 49/1000:   5%|▍         | 49/1000 [01:51<35:14,  2.22s/it, v_num=e65c, train_loss_step=1.09e+3, train_loss_epoch=1.32e+3]"
     ]
    },
    {
     "name": "stdout",
     "output_type": "stream",
     "text": [
      "\r",
      "Epoch 50/1000:   5%|▍         | 49/1000 [01:51<35:14,  2.22s/it, v_num=e65c, train_loss_step=1.09e+3, train_loss_epoch=1.32e+3]"
     ]
    },
    {
     "name": "stdout",
     "output_type": "stream",
     "text": [
      "\r",
      "Epoch 50/1000:   5%|▌         | 50/1000 [01:53<35:07,  2.22s/it, v_num=e65c, train_loss_step=1.09e+3, train_loss_epoch=1.32e+3]"
     ]
    },
    {
     "name": "stdout",
     "output_type": "stream",
     "text": [
      "\r",
      "Epoch 50/1000:   5%|▌         | 50/1000 [01:53<35:07,  2.22s/it, v_num=e65c, train_loss_step=1.17e+3, train_loss_epoch=1.32e+3]"
     ]
    },
    {
     "name": "stdout",
     "output_type": "stream",
     "text": [
      "\r",
      "Epoch 51/1000:   5%|▌         | 50/1000 [01:53<35:07,  2.22s/it, v_num=e65c, train_loss_step=1.17e+3, train_loss_epoch=1.32e+3]"
     ]
    },
    {
     "name": "stdout",
     "output_type": "stream",
     "text": [
      "\r",
      "Epoch 51/1000:   5%|▌         | 51/1000 [01:55<35:01,  2.21s/it, v_num=e65c, train_loss_step=1.17e+3, train_loss_epoch=1.32e+3]"
     ]
    },
    {
     "name": "stdout",
     "output_type": "stream",
     "text": [
      "\r",
      "Epoch 51/1000:   5%|▌         | 51/1000 [01:55<35:01,  2.21s/it, v_num=e65c, train_loss_step=1.44e+3, train_loss_epoch=1.32e+3]"
     ]
    },
    {
     "name": "stdout",
     "output_type": "stream",
     "text": [
      "\r",
      "Epoch 52/1000:   5%|▌         | 51/1000 [01:55<35:01,  2.21s/it, v_num=e65c, train_loss_step=1.44e+3, train_loss_epoch=1.32e+3]"
     ]
    },
    {
     "name": "stdout",
     "output_type": "stream",
     "text": [
      "\r",
      "Epoch 52/1000:   5%|▌         | 52/1000 [01:57<34:53,  2.21s/it, v_num=e65c, train_loss_step=1.44e+3, train_loss_epoch=1.32e+3]"
     ]
    },
    {
     "name": "stdout",
     "output_type": "stream",
     "text": [
      "\r",
      "Epoch 52/1000:   5%|▌         | 52/1000 [01:57<34:53,  2.21s/it, v_num=e65c, train_loss_step=1.37e+3, train_loss_epoch=1.32e+3]"
     ]
    },
    {
     "name": "stdout",
     "output_type": "stream",
     "text": [
      "\r",
      "Epoch 53/1000:   5%|▌         | 52/1000 [01:57<34:53,  2.21s/it, v_num=e65c, train_loss_step=1.37e+3, train_loss_epoch=1.32e+3]"
     ]
    },
    {
     "name": "stdout",
     "output_type": "stream",
     "text": [
      "\r",
      "Epoch 53/1000:   5%|▌         | 53/1000 [01:59<34:55,  2.21s/it, v_num=e65c, train_loss_step=1.37e+3, train_loss_epoch=1.32e+3]"
     ]
    },
    {
     "name": "stdout",
     "output_type": "stream",
     "text": [
      "\r",
      "Epoch 53/1000:   5%|▌         | 53/1000 [02:00<34:55,  2.21s/it, v_num=e65c, train_loss_step=1.98e+3, train_loss_epoch=1.32e+3]"
     ]
    },
    {
     "name": "stdout",
     "output_type": "stream",
     "text": [
      "\r",
      "Epoch 54/1000:   5%|▌         | 53/1000 [02:00<34:55,  2.21s/it, v_num=e65c, train_loss_step=1.98e+3, train_loss_epoch=1.32e+3]"
     ]
    },
    {
     "name": "stdout",
     "output_type": "stream",
     "text": [
      "\r",
      "Epoch 54/1000:   5%|▌         | 54/1000 [02:02<34:45,  2.20s/it, v_num=e65c, train_loss_step=1.98e+3, train_loss_epoch=1.32e+3]"
     ]
    },
    {
     "name": "stdout",
     "output_type": "stream",
     "text": [
      "\r",
      "Epoch 54/1000:   5%|▌         | 54/1000 [02:02<34:45,  2.20s/it, v_num=e65c, train_loss_step=1.43e+3, train_loss_epoch=1.33e+3]"
     ]
    },
    {
     "name": "stdout",
     "output_type": "stream",
     "text": [
      "\r",
      "Epoch 55/1000:   5%|▌         | 54/1000 [02:02<34:45,  2.20s/it, v_num=e65c, train_loss_step=1.43e+3, train_loss_epoch=1.33e+3]"
     ]
    },
    {
     "name": "stdout",
     "output_type": "stream",
     "text": [
      "\r",
      "Epoch 55/1000:   6%|▌         | 55/1000 [02:04<34:49,  2.21s/it, v_num=e65c, train_loss_step=1.43e+3, train_loss_epoch=1.33e+3]"
     ]
    },
    {
     "name": "stdout",
     "output_type": "stream",
     "text": [
      "\r",
      "Epoch 55/1000:   6%|▌         | 55/1000 [02:04<34:49,  2.21s/it, v_num=e65c, train_loss_step=1.12e+3, train_loss_epoch=1.32e+3]"
     ]
    },
    {
     "name": "stdout",
     "output_type": "stream",
     "text": [
      "\r",
      "Epoch 56/1000:   6%|▌         | 55/1000 [02:04<34:49,  2.21s/it, v_num=e65c, train_loss_step=1.12e+3, train_loss_epoch=1.32e+3]"
     ]
    },
    {
     "name": "stdout",
     "output_type": "stream",
     "text": [
      "\r",
      "Epoch 56/1000:   6%|▌         | 56/1000 [02:06<34:49,  2.21s/it, v_num=e65c, train_loss_step=1.12e+3, train_loss_epoch=1.32e+3]"
     ]
    },
    {
     "name": "stdout",
     "output_type": "stream",
     "text": [
      "\r",
      "Epoch 56/1000:   6%|▌         | 56/1000 [02:06<34:49,  2.21s/it, v_num=e65c, train_loss_step=987, train_loss_epoch=1.32e+3]    "
     ]
    },
    {
     "name": "stdout",
     "output_type": "stream",
     "text": [
      "\r",
      "Epoch 57/1000:   6%|▌         | 56/1000 [02:06<34:49,  2.21s/it, v_num=e65c, train_loss_step=987, train_loss_epoch=1.32e+3]"
     ]
    },
    {
     "name": "stdout",
     "output_type": "stream",
     "text": [
      "\r",
      "Epoch 57/1000:   6%|▌         | 57/1000 [02:08<34:32,  2.20s/it, v_num=e65c, train_loss_step=987, train_loss_epoch=1.32e+3]"
     ]
    },
    {
     "name": "stdout",
     "output_type": "stream",
     "text": [
      "\r",
      "Epoch 57/1000:   6%|▌         | 57/1000 [02:08<34:32,  2.20s/it, v_num=e65c, train_loss_step=1.28e+3, train_loss_epoch=1.31e+3]"
     ]
    },
    {
     "name": "stdout",
     "output_type": "stream",
     "text": [
      "\r",
      "Epoch 57/1000:   6%|▌         | 57/1000 [02:08<35:30,  2.26s/it, v_num=e65c, train_loss_step=1.28e+3, train_loss_epoch=1.31e+3]"
     ]
    },
    {
     "name": "stdout",
     "output_type": "stream",
     "text": [
      "\n",
      "Monitored metric reconstruction_loss_validation did not improve in the last 10 records. Best score: 1406.400. Signaling Trainer to stop.\n"
     ]
    }
   ],
   "source": [
    "model.train(logger=logger, plan_kwargs = plan_kwargs, **trainer_kwargs)"
   ]
  },
  {
   "cell_type": "code",
   "execution_count": 15,
   "id": "c282f6eb-0ad1-40a5-81e6-1acda1545dad",
   "metadata": {
    "execution": {
     "iopub.execute_input": "2024-05-03T20:43:36.644642Z",
     "iopub.status.busy": "2024-05-03T20:43:36.643909Z",
     "iopub.status.idle": "2024-05-03T20:43:40.894704Z",
     "shell.execute_reply": "2024-05-03T20:43:40.893783Z"
    },
    "papermill": {
     "duration": 4.266579,
     "end_time": "2024-05-03T20:43:40.896702",
     "exception": false,
     "start_time": "2024-05-03T20:43:36.630123",
     "status": "completed"
    },
    "tags": []
   },
   "outputs": [
    {
     "name": "stderr",
     "output_type": "stream",
     "text": [
      "\u001b[34m\u001b[1mwandb\u001b[0m: - 0.003 MB of 0.003 MB uploaded\r"
     ]
    },
    {
     "name": "stderr",
     "output_type": "stream",
     "text": [
      "\u001b[34m\u001b[1mwandb\u001b[0m: \\ 0.003 MB of 0.009 MB uploaded\r"
     ]
    },
    {
     "name": "stderr",
     "output_type": "stream",
     "text": [
      "\u001b[34m\u001b[1mwandb\u001b[0m: | 0.003 MB of 0.009 MB uploaded\r"
     ]
    },
    {
     "name": "stderr",
     "output_type": "stream",
     "text": [
      "\u001b[34m\u001b[1mwandb\u001b[0m: / 0.009 MB of 0.009 MB uploaded\r"
     ]
    },
    {
     "name": "stderr",
     "output_type": "stream",
     "text": [
      "\u001b[34m\u001b[1mwandb\u001b[0m:                                                                                \n"
     ]
    },
    {
     "name": "stderr",
     "output_type": "stream",
     "text": [
      "\u001b[34m\u001b[1mwandb\u001b[0m: \n",
      "\u001b[34m\u001b[1mwandb\u001b[0m: Run history:\n",
      "\u001b[34m\u001b[1mwandb\u001b[0m:                     elbo_train █▄▃▃▃▂▃▂▂▂▂▂▂▂▂▂▂▂▂▂▂▂▁▁▁▁▁▁▁▁▁▁▁▁▁▁▁▁▁▁\n",
      "\u001b[34m\u001b[1mwandb\u001b[0m:                elbo_validation █▃▂▂▁▂▁▁▁▁▁▁▁▁▁▁▁▁▁▁▁▁▁▁▁▁▁▁▁▁▁▁▁▁▁▁▁▁▁▁\n",
      "\u001b[34m\u001b[1mwandb\u001b[0m:                          epoch ▁▁▁▁▂▂▂▂▃▃▃▃▃▃▃▄▄▄▄▄▅▅▅▅▅▅▆▆▆▆▆▇▇▇▇▇▇███\n",
      "\u001b[34m\u001b[1mwandb\u001b[0m:                kl_global_train ▁▁▁▁▁▁▁▁▁▁▁▁▁▁▁▁▁▁▁▁▁▁▁▁▁▁▁▁▁▁▁▁▁▁▁▁▁▁▁▁\n",
      "\u001b[34m\u001b[1mwandb\u001b[0m:           kl_global_validation ▁▁▁▁▁▁▁▁▁▁▁▁▁▁▁▁▁▁▁▁▁▁▁▁▁▁▁▁▁▁▁▁▁▁▁▁▁▁▁▁\n",
      "\u001b[34m\u001b[1mwandb\u001b[0m:                 kl_local_train ▁▄▅▇▇█████████▇▇▇▇▇▆▆▆▆▆▆▆▆▆▆▅▅▅▅▅▅▅▅▅▅▅\n",
      "\u001b[34m\u001b[1mwandb\u001b[0m:            kl_local_validation ▁▃▆▇▇█████▇██▇▇▇▇▇▇▆▆▆▆▆▆▆▆▆▆▆▆▆▆▆▅▆▆▅▆▅\n",
      "\u001b[34m\u001b[1mwandb\u001b[0m:                      kl_weight ▁▁▁▁▂▂▂▂▂▃▃▃▃▃▄▄▄▄▄▄▅▅▅▅▅▆▆▆▆▆▆▆▇▇▇▇▇███\n",
      "\u001b[34m\u001b[1mwandb\u001b[0m:      reconstruction_loss_train █▄▃▃▃▂▂▂▂▂▂▂▂▂▂▂▂▂▂▂▁▁▁▁▁▁▁▁▁▁▁▁▁▁▁▁▁▁▁▁\n",
      "\u001b[34m\u001b[1mwandb\u001b[0m: reconstruction_loss_validation █▃▂▂▁▁▁▁▁▁▁▁▁▁▁▁▁▁▁▁▁▁▁▁▁▁▁▁▁▁▁▁▁▁▁▁▁▁▁▁\n",
      "\u001b[34m\u001b[1mwandb\u001b[0m:               train_loss_epoch █▄▃▃▃▂▂▂▂▂▂▂▂▂▂▂▂▂▂▁▁▁▁▁▁▁▁▁▁▁▁▁▁▁▁▁▁▁▁▁\n",
      "\u001b[34m\u001b[1mwandb\u001b[0m:                train_loss_step █▇▅▅▇▄▄▂▂▄▄▆▅▂▄▂▁▃▅▃▄▂▁▄▂▃▃▂▂▁▂▂▂▂▂▄▂▂▂▁\n",
      "\u001b[34m\u001b[1mwandb\u001b[0m:            trainer/global_step ▁▁▁▂▂▂▂▂▂▃▃▃▃▃▄▄▄▄▄▄▅▅▅▅▅▅▆▆▆▆▆▇▇▇▇▇▇███\n",
      "\u001b[34m\u001b[1mwandb\u001b[0m:                validation_loss █▃▂▂▁▁▁▁▁▁▁▁▁▁▁▁▁▁▁▁▁▁▁▁▁▁▁▁▁▁▁▁▁▁▁▁▁▁▁▁\n",
      "\u001b[34m\u001b[1mwandb\u001b[0m: \n",
      "\u001b[34m\u001b[1mwandb\u001b[0m: Run summary:\n",
      "\u001b[34m\u001b[1mwandb\u001b[0m:                     elbo_train 1339.20776\n",
      "\u001b[34m\u001b[1mwandb\u001b[0m:                elbo_validation 1435.95093\n",
      "\u001b[34m\u001b[1mwandb\u001b[0m:                          epoch 56\n",
      "\u001b[34m\u001b[1mwandb\u001b[0m:                kl_global_train 0.0\n",
      "\u001b[34m\u001b[1mwandb\u001b[0m:           kl_global_validation 0.0\n",
      "\u001b[34m\u001b[1mwandb\u001b[0m:                 kl_local_train 28.95204\n",
      "\u001b[34m\u001b[1mwandb\u001b[0m:            kl_local_validation 27.72133\n",
      "\u001b[34m\u001b[1mwandb\u001b[0m:                      kl_weight 0.14\n",
      "\u001b[34m\u001b[1mwandb\u001b[0m:      reconstruction_loss_train 1310.25574\n",
      "\u001b[34m\u001b[1mwandb\u001b[0m: reconstruction_loss_validation 1408.22961\n",
      "\u001b[34m\u001b[1mwandb\u001b[0m:               train_loss_epoch 1314.3092\n",
      "\u001b[34m\u001b[1mwandb\u001b[0m:                train_loss_step 1293.38672\n",
      "\u001b[34m\u001b[1mwandb\u001b[0m:            trainer/global_step 8321\n",
      "\u001b[34m\u001b[1mwandb\u001b[0m:                validation_loss 1412.1106\n",
      "\u001b[34m\u001b[1mwandb\u001b[0m: \n"
     ]
    },
    {
     "name": "stderr",
     "output_type": "stream",
     "text": [
      "\u001b[34m\u001b[1mwandb\u001b[0m: 🚀 View run \u001b[33mStep3_Plasma\u001b[0m at: \u001b[34m\u001b[4mhttps://wandb.ai/inflammation/inflammation_atlas_R1/runs/jxepe65c\u001b[0m\n",
      "\u001b[34m\u001b[1mwandb\u001b[0m: Synced 5 W&B file(s), 0 media file(s), 0 artifact file(s) and 0 other file(s)\n"
     ]
    },
    {
     "name": "stderr",
     "output_type": "stream",
     "text": [
      "\u001b[34m\u001b[1mwandb\u001b[0m: Find logs at: \u001b[35m\u001b[1m./wandb/run-20240503_204126-jxepe65c/logs\u001b[0m\n"
     ]
    }
   ],
   "source": [
    "wandb.finish()"
   ]
  },
  {
   "cell_type": "markdown",
   "id": "d9fb1179-83c7-4ac6-b4aa-92dc7a349801",
   "metadata": {
    "papermill": {
     "duration": 0.012726,
     "end_time": "2024-05-03T20:43:40.922633",
     "exception": false,
     "start_time": "2024-05-03T20:43:40.909907",
     "status": "completed"
    },
    "tags": []
   },
   "source": [
    "### Extracting embedding space"
   ]
  },
  {
   "cell_type": "code",
   "execution_count": 16,
   "id": "caaa5832-0123-4c59-8ec6-f46a75f7a14e",
   "metadata": {
    "execution": {
     "iopub.execute_input": "2024-05-03T20:43:40.950438Z",
     "iopub.status.busy": "2024-05-03T20:43:40.949624Z",
     "iopub.status.idle": "2024-05-03T20:43:41.871706Z",
     "shell.execute_reply": "2024-05-03T20:43:41.870763Z"
    },
    "papermill": {
     "duration": 0.938062,
     "end_time": "2024-05-03T20:43:41.873855",
     "exception": false,
     "start_time": "2024-05-03T20:43:40.935793",
     "status": "completed"
    },
    "tags": []
   },
   "outputs": [],
   "source": [
    "adata.obsm['X_scVI'] = model.get_latent_representation()"
   ]
  },
  {
   "cell_type": "markdown",
   "id": "2f03e70b-839c-40a6-9fbb-d76bbd787419",
   "metadata": {
    "papermill": {
     "duration": 0.012796,
     "end_time": "2024-05-03T20:43:41.900462",
     "exception": false,
     "start_time": "2024-05-03T20:43:41.887666",
     "status": "completed"
    },
    "tags": []
   },
   "source": [
    "## Save the results"
   ]
  },
  {
   "cell_type": "code",
   "execution_count": 17,
   "id": "7b04049b-47fd-4b62-a1c0-c43dcc086d34",
   "metadata": {
    "execution": {
     "iopub.execute_input": "2024-05-03T20:43:41.926881Z",
     "iopub.status.busy": "2024-05-03T20:43:41.926524Z",
     "iopub.status.idle": "2024-05-03T20:43:46.614051Z",
     "shell.execute_reply": "2024-05-03T20:43:46.613320Z"
    },
    "papermill": {
     "duration": 4.703546,
     "end_time": "2024-05-03T20:43:46.616335",
     "exception": false,
     "start_time": "2024-05-03T20:43:41.912789",
     "status": "completed"
    },
    "tags": []
   },
   "outputs": [],
   "source": [
    "if overwriteData:\n",
    "    adata.write(here(f\"{workDir}/{cellGroup}/results/02_{annotationLevel}_{cellGroup}_HVGsubset_scVI.h5ad\"), compression=\"gzip\")\n",
    "    model.save(here(f\"{workDir}/{cellGroup}/results/02_{annotationLevel}_{cellGroup}_HVGsubset_scVI_MODEL/\"),\n",
    "               overwrite = True, \n",
    "               save_anndata = False )   "
   ]
  },
  {
   "cell_type": "code",
   "execution_count": 18,
   "id": "629ba2bd-f6be-44ef-8fca-bbdf891bf25f",
   "metadata": {
    "execution": {
     "iopub.execute_input": "2024-05-03T20:43:46.642980Z",
     "iopub.status.busy": "2024-05-03T20:43:46.642670Z",
     "iopub.status.idle": "2024-05-03T20:43:46.646256Z",
     "shell.execute_reply": "2024-05-03T20:43:46.645621Z"
    },
    "papermill": {
     "duration": 0.018819,
     "end_time": "2024-05-03T20:43:46.647851",
     "exception": false,
     "start_time": "2024-05-03T20:43:46.629032",
     "status": "completed"
    },
    "tags": []
   },
   "outputs": [],
   "source": [
    "# To load the model do (after loading corresponding adata):\n",
    "# model = scvi.model.SCVI.load(here('{}/results/01_{}_HVGsubset_scVI_MODEL/'.format(workDir, cellGroup)), \n",
    "#                              adata, \n",
    "#                              use_gpu=True)"
   ]
  },
  {
   "cell_type": "raw",
   "id": "975e84d0-f56b-498d-b3a8-c9219cf22e53",
   "metadata": {
    "papermill": {
     "duration": 0.012062,
     "end_time": "2024-05-03T20:43:46.672212",
     "exception": false,
     "start_time": "2024-05-03T20:43:46.660150",
     "status": "completed"
    },
    "tags": []
   },
   "source": [
    "session_info.show()"
   ]
  }
 ],
 "metadata": {
  "kernelspec": {
   "display_name": "Python 3 (ipykernel)",
   "language": "python",
   "name": "python3"
  },
  "language_info": {
   "codemirror_mode": {
    "name": "ipython",
    "version": 3
   },
   "file_extension": ".py",
   "mimetype": "text/x-python",
   "name": "python",
   "nbconvert_exporter": "python",
   "pygments_lexer": "ipython3",
   "version": "3.9.18"
  },
  "papermill": {
   "default_parameters": {},
   "duration": 155.319684,
   "end_time": "2024-05-03T20:43:49.484478",
   "environment_variables": {},
   "exception": null,
   "input_path": "./Plasma/02_integration_scVI.ipynb",
   "output_path": "./Plasma/02_integration_scVI_executed.ipynb",
   "parameters": {},
   "start_time": "2024-05-03T20:41:14.164794",
   "version": "2.5.0"
  }
 },
 "nbformat": 4,
 "nbformat_minor": 5
}