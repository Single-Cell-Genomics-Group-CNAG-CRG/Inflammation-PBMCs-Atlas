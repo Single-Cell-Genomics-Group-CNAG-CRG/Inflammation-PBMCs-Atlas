{
 "cells": [
  {
   "cell_type": "code",
   "execution_count": null,
   "id": "4014b81b-0a88-4d1b-9346-dd9db1daf91b",
   "metadata": {},
   "outputs": [],
   "source": [
    "import sys\n",
    "import os\n",
    "\n",
    "import numpy as np\n",
    "import matplotlib.pyplot as plt\n",
    "import glob\n",
    "import pandas as pd\n",
    "import seaborn as sns\n",
    "import pickle\n",
    "\n",
    "import scanpy as sc\n",
    "import scanpy.external as sce\n",
    "import anndata as ad\n",
    "\n",
    "import session_info\n",
    "import warnings\n",
    "from pyprojroot.here import here\n",
    "\n",
    "import scienceplots\n",
    "from sklearn.neighbors import NearestNeighbors\n",
    "from typing import Iterable\n",
    "\n",
    "warnings.filterwarnings(\"ignore\")\n",
    "sys.path.insert(1, str(here('bin')))\n",
    "\n",
    "# Import custom functions\n",
    "from customPythonFunctions import cumulative_explained_variance, balanced_sample, generateID2SymbolDF\n",
    "\n",
    "print(\"Main directory path: {}\".format(here()))\n",
    "\n",
    "plt.style.use(['nature'])\n",
    "dpi_fig_save = 300\n",
    "sc.set_figure_params(dpi=100, dpi_save=dpi_fig_save, vector_friendly=True)"
   ]
  },
  {
   "cell_type": "markdown",
   "id": "62077692-f6f3-4a26-95ac-0e65a2a3fa94",
   "metadata": {},
   "source": [
    "**Setting parameters** "
   ]
  },
  {
   "cell_type": "code",
   "execution_count": null,
   "id": "ac043eea-7033-42db-a088-7b098038eb7a",
   "metadata": {},
   "outputs": [],
   "source": [
    "overwriteFigures = True\n",
    "overwriteData = True"
   ]
  },
  {
   "cell_type": "code",
   "execution_count": null,
   "id": "715248a4-9653-4f7a-9915-685f541e2658",
   "metadata": {},
   "outputs": [],
   "source": [
    "cellGroup = 'B'\n",
    "annotationDFpath = '/scratch_isilon/groups/singlecell/shared/projects/Inflammation-PBMCs-Atlas/02_cell_annotation/01_fromDatasets_to_CellLineages/results/INFLAMMATION_cluster_res0.1_annotated.pkl'\n",
    "annotationColumns = 'cell_lineages'\n",
    "workDir = os.getcwd()\n",
    "level = workDir.split(os.path.sep)[-2]"
   ]
  },
  {
   "cell_type": "markdown",
   "id": "47eb896f-41a7-4e18-940a-b4fd51393f08",
   "metadata": {
    "execution": {
     "iopub.execute_input": "2023-08-20T20:33:34.702283Z",
     "iopub.status.busy": "2023-08-20T20:33:34.702014Z",
     "iopub.status.idle": "2023-08-20T20:33:35.072534Z",
     "shell.execute_reply": "2023-08-20T20:33:35.071932Z",
     "shell.execute_reply.started": "2023-08-20T20:33:34.702266Z"
    }
   },
   "source": [
    "**Loading the integrated object**"
   ]
  },
  {
   "cell_type": "code",
   "execution_count": null,
   "id": "1f3a6953-dc69-421d-ad75-c92095541264",
   "metadata": {},
   "outputs": [],
   "source": [
    "adataHVGint = sc.read_h5ad(here('{}/results/02_{}_{}_HVGsubset_scVI.h5ad'.format(workDir, level, cellGroup)))\n",
    "adataHVGint"
   ]
  },
  {
   "cell_type": "markdown",
   "id": "654bf55d-6099-49f4-897d-a8b61d209d83",
   "metadata": {},
   "source": [
    "# Computing the projections of the embedded space"
   ]
  },
  {
   "cell_type": "markdown",
   "id": "ab70224b-248b-4cd8-85d0-84f3b3794795",
   "metadata": {},
   "source": [
    "## Computing KNN graph and UMAP from the integrated embedded space"
   ]
  },
  {
   "cell_type": "code",
   "execution_count": null,
   "id": "54396e29-c5aa-4b37-a67b-ca7c70f60414",
   "metadata": {},
   "outputs": [],
   "source": [
    "n_latent = adataHVGint.obsm['X_scVI'].shape[1]\n",
    "sc.pp.neighbors(adataHVGint, n_neighbors=10, n_pcs=n_latent, use_rep = 'X_scVI', key_added = 'scVI')"
   ]
  },
  {
   "cell_type": "code",
   "execution_count": null,
   "id": "45a3abd1-5bc0-49b0-8b76-a22ee137b023",
   "metadata": {},
   "outputs": [],
   "source": [
    "sc.tl.umap(adataHVGint, neighbors_key='scVI')"
   ]
  },
  {
   "cell_type": "code",
   "execution_count": null,
   "id": "089d8787-581f-4989-ad00-52265b2e509e",
   "metadata": {},
   "outputs": [],
   "source": [
    "# Saving the umap computed on the scVI latent component\n",
    "adataHVGint.obsm['X_umap_scVI'] = adataHVGint.obsm['X_umap'].copy()\n",
    "adataHVGint.uns['umap_scVI'] = adataHVGint.uns['umap']"
   ]
  },
  {
   "cell_type": "code",
   "execution_count": null,
   "id": "3a231aa8-4547-4e91-9108-f37d6c4330b3",
   "metadata": {},
   "outputs": [],
   "source": [
    "adataHVGint"
   ]
  },
  {
   "cell_type": "markdown",
   "id": "1dcbace0-f329-4068-9500-7e5cfa73e520",
   "metadata": {},
   "source": [
    "**Plotting parameters** "
   ]
  },
  {
   "cell_type": "code",
   "execution_count": null,
   "id": "ce82513f-e19b-4543-a871-6f03a865d147",
   "metadata": {},
   "outputs": [],
   "source": [
    "max_cells_plot = 200000\n",
    "fraction = min(1, (max_cells_plot/adataHVGint.shape[0]))"
   ]
  },
  {
   "cell_type": "markdown",
   "id": "61789634-a176-4858-83a4-b14f28e7d318",
   "metadata": {},
   "source": [
    "### Feature scaling and centering"
   ]
  },
  {
   "cell_type": "code",
   "execution_count": null,
   "id": "f6c68c60-4820-4c8a-be72-fcc3e4c9451b",
   "metadata": {},
   "outputs": [],
   "source": [
    "adataHVGint.X = adataHVGint.layers['log1p_10e4_counts']\n",
    "sc.pp.scale(adataHVGint, zero_center = True)"
   ]
  },
  {
   "cell_type": "markdown",
   "id": "c9f4c660-c85a-4d47-92ca-c0c83592a909",
   "metadata": {},
   "source": [
    "**Loading the full object before HVG subsetting**\n",
    "\n",
    "This will allows us to inspect genes that are not included in the HV set"
   ]
  },
  {
   "cell_type": "code",
   "execution_count": null,
   "id": "f162695b-2ba8-4c1c-8a61-a61b902971e9",
   "metadata": {
    "execution": {
     "iopub.execute_input": "2024-03-27T12:25:49.921267Z",
     "iopub.status.busy": "2024-03-27T12:25:49.920932Z"
    }
   },
   "outputs": [],
   "source": [
    "adata_stepAll = ad.read_h5ad(here('{}/results/01_{}_normalized.h5ad'.format(workDir, cellGroup)))\n",
    "adata_stepAll"
   ]
  },
  {
   "cell_type": "code",
   "execution_count": null,
   "id": "3163bc12-0e89-412f-b8ab-8096a39126d6",
   "metadata": {},
   "outputs": [],
   "source": [
    "# Load the corresponding annotation\n",
    "annotationDF = pd.read_pickle(here(annotationDFpath))\n",
    "idxSelCells = annotationDF.index[annotationDF[annotationColumns] == cellGroup].tolist()\n",
    "adata = adata_stepAll[idxSelCells,:]\n",
    "adata"
   ]
  },
  {
   "cell_type": "code",
   "execution_count": null,
   "id": "ac68fb40-3c8c-45f6-8d56-e3d7aa1b4ce0",
   "metadata": {},
   "outputs": [],
   "source": [
    "del adata_stepAll"
   ]
  },
  {
   "cell_type": "markdown",
   "id": "ffea176b-c4a9-4008-80e9-f0e195167abe",
   "metadata": {},
   "source": [
    "**Merging the objects**\n",
    "\n",
    "We will transfer the following field to the fullObject: uns, obsm, and obsp. We will also transfer the HVG set"
   ]
  },
  {
   "cell_type": "code",
   "execution_count": null,
   "id": "c5edbd66-732c-4f0d-b73a-1140713f99cb",
   "metadata": {},
   "outputs": [],
   "source": [
    "adata.uns = adataHVGint.uns.copy()\n",
    "adata.obsm = adataHVGint.obsm.copy()\n",
    "adata.obsp = adataHVGint.obsp.copy()\n",
    "adata.var['highly_variable'] = False\n",
    "adata.var['highly_variable'][adata.var_names.isin(adataHVGint.var_names)] = True"
   ]
  },
  {
   "cell_type": "code",
   "execution_count": null,
   "id": "229abfef-c3bf-4df7-8805-e4dcca99dcaf",
   "metadata": {},
   "outputs": [],
   "source": [
    "# Now we can remove from memory the subsetted adata object\n",
    "del adataHVGint"
   ]
  },
  {
   "cell_type": "markdown",
   "id": "b168dae8-0072-45e5-a1e4-6371cfda6bb8",
   "metadata": {},
   "source": [
    "# Save object"
   ]
  },
  {
   "cell_type": "code",
   "execution_count": null,
   "id": "754818af-3a2e-413d-b007-8bd1c00bd696",
   "metadata": {},
   "outputs": [],
   "source": [
    "if overwriteData:\n",
    "    adata.write(here(\"{}/results/03_{}_scVI_UMAP_clinical_allGenes.h5ad\".format(workDir, cellGroup)), compression=\"gzip\")"
   ]
  },
  {
   "cell_type": "markdown",
   "id": "fd09ccf8-079d-4cd3-9da5-dbd8e198eadd",
   "metadata": {},
   "source": [
    "# Evaluate integration\n",
    "\n",
    "At this point, it is important to evaluate the integration step to ensure the batch-effect have been removed, and the biological variance has been preserved. Here, we visually inspect some quality control metrics."
   ]
  },
  {
   "cell_type": "code",
   "execution_count": null,
   "id": "0520d58d-6d91-44f4-82f8-e740d3c2a2be",
   "metadata": {},
   "outputs": [],
   "source": [
    "### To reduce the computational time, we are plotting only 10% of cells\n",
    "SScells = balanced_sample(adata.obs, cols = ['sampleID'], n = None, frac = fraction, shuffle = True, random_state = 42)['cellID']\n",
    "adataSS = adata[SScells].copy()\n",
    "del adata\n",
    "adataSS"
   ]
  },
  {
   "cell_type": "markdown",
   "id": "528c70d1-b77d-47fe-8201-88bad457da3d",
   "metadata": {},
   "source": [
    "## Technical confounding factors"
   ]
  },
  {
   "cell_type": "code",
   "execution_count": null,
   "id": "a2f2c0c4-c613-4b8c-9a10-750fa7482fc2",
   "metadata": {},
   "outputs": [],
   "source": [
    "fig = sc.pl.embedding(adataSS, basis = 'X_umap_scVI', vmin='p1', vmax='p99', \n",
    "                 color=['studyID', 'chemistry', 'technology',\n",
    "                        'total_counts', 'n_genes_by_counts', \n",
    "                        'pct_counts_mt', 'pct_counts_ribo', 'pct_counts_hb', 'pct_counts_plt', \n",
    "                       'doublet_score'], \n",
    "                 wspace = 0.4, ncols = 4, return_fig=True)\n",
    "\n",
    "if overwriteFigures:\n",
    "    plt.savefig(here('{}/results/figures/03_UMAP_technicalFactors_scVI.pdf'.format(workDir)), \n",
    "                bbox_inches='tight', pad_inches=0, dpi=dpi_fig_save)"
   ]
  },
  {
   "cell_type": "markdown",
   "id": "95842ad3-bec9-4af4-93b9-a8805ea266f2",
   "metadata": {
    "execution": {
     "iopub.execute_input": "2024-03-26T14:55:19.791421Z",
     "iopub.status.busy": "2024-03-26T14:55:19.790814Z",
     "iopub.status.idle": "2024-03-26T14:55:19.793957Z",
     "shell.execute_reply": "2024-03-26T14:55:19.793485Z",
     "shell.execute_reply.started": "2024-03-26T14:55:19.791400Z"
    }
   },
   "source": [
    "## Clinical covariates"
   ]
  },
  {
   "cell_type": "code",
   "execution_count": null,
   "id": "13d27328-9221-4807-a79a-7b20795a2599",
   "metadata": {},
   "outputs": [],
   "source": [
    "fig = sc.pl.embedding(adataSS, basis = 'X_umap_scVI', vmin='p1', vmax='p99',\n",
    "                 color=['sex','binned_age', 'disease',\n",
    "                       \"smokingStatus\", \"ethnicity\", \"therapyResponse\"], \n",
    "                 wspace = 0.4, ncols = 3, return_fig=True)\n",
    "\n",
    "if overwriteFigures:\n",
    "    plt.savefig(here('{}/results/figures/03_UMAP_clinicalFactors_scVI.pdf'.format(workDir)), \n",
    "                bbox_inches='tight', pad_inches=0, dpi=dpi_fig_save)"
   ]
  },
  {
   "cell_type": "markdown",
   "id": "6b4208ec-9f39-4b47-b6ea-3209bd8f6b8f",
   "metadata": {},
   "source": [
    "## Cell cycling score"
   ]
  },
  {
   "cell_type": "code",
   "execution_count": null,
   "id": "9b425acd-a3d8-4ef2-a868-4dc5d145686e",
   "metadata": {},
   "outputs": [],
   "source": [
    "fig = sc.pl.embedding(adataSS, basis = 'X_umap', vmin='p1', vmax='p99',\n",
    "                 ncols=3, color=['S_score', 'G2M_score', 'phase'], wspace = 0.4, return_fig=True)\n",
    "\n",
    "if overwriteFigures:\n",
    "    plt.savefig(here('{}/results/figures/03_UMAP_cellcyclingScore_scVI.pdf'.format(workDir)), \n",
    "                bbox_inches='tight', pad_inches=0, dpi=dpi_fig_save)"
   ]
  },
  {
   "cell_type": "code",
   "execution_count": null,
   "id": "4f2929db-b19a-4ccf-96df-a217b41b83b0",
   "metadata": {},
   "outputs": [],
   "source": [
    "session_info.show()"
   ]
  }
 ],
 "metadata": {
  "kernelspec": {
   "display_name": "Python 3 (ipykernel)",
   "language": "python",
   "name": "python3"
  },
  "language_info": {
   "codemirror_mode": {
    "name": "ipython",
    "version": 3
   },
   "file_extension": ".py",
   "mimetype": "text/x-python",
   "name": "python",
   "nbconvert_exporter": "python",
   "pygments_lexer": "ipython3",
   "version": "3.10.13"
  }
 },
 "nbformat": 4,
 "nbformat_minor": 5
}
