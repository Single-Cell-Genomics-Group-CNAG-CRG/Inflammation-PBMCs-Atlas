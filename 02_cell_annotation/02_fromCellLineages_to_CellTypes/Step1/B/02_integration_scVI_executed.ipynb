{
 "cells": [
  {
   "cell_type": "code",
   "execution_count": 1,
   "id": "2dd1425a-0c07-465e-b522-9e3cc5cb93a7",
   "metadata": {
    "execution": {
     "iopub.execute_input": "2024-04-28T19:18:25.444722Z",
     "iopub.status.busy": "2024-04-28T19:18:25.443779Z",
     "iopub.status.idle": "2024-04-28T19:18:31.545913Z",
     "shell.execute_reply": "2024-04-28T19:18:31.545061Z"
    },
    "papermill": {
     "duration": 6.122228,
     "end_time": "2024-04-28T19:18:31.547771",
     "exception": false,
     "start_time": "2024-04-28T19:18:25.425543",
     "status": "completed"
    },
    "tags": []
   },
   "outputs": [
    {
     "data": {
      "text/plain": [
       "True"
      ]
     },
     "execution_count": 1,
     "metadata": {},
     "output_type": "execute_result"
    }
   ],
   "source": [
    "import os\n",
    "import sys\n",
    "\n",
    "import numpy as np\n",
    "import matplotlib.pyplot as plt\n",
    "\n",
    "import scanpy as sc\n",
    "import scvi\n",
    "import torch\n",
    "\n",
    "from pytorch_lightning.loggers import WandbLogger\n",
    "import wandb\n",
    "from dotenv import load_dotenv\n",
    "\n",
    "import session_info\n",
    "import warnings\n",
    "from pyprojroot.here import here\n",
    "\n",
    "warnings.filterwarnings(\"ignore\")\n",
    "sys.path.insert(1, str(here('bin')))\n",
    "\n",
    "torch.set_float32_matmul_precision('high')\n",
    "\n",
    "#plt.style.use(['science','nature','no-latex'])\n",
    "dpi_fig_save = 300\n",
    "sc.set_figure_params(dpi=100, dpi_save=dpi_fig_save, vector_friendly=True)\n",
    "\n",
    "load_dotenv(here('.env'))"
   ]
  },
  {
   "cell_type": "code",
   "execution_count": 2,
   "id": "09c897fc-744b-43de-a681-718fb5d327fa",
   "metadata": {
    "execution": {
     "iopub.execute_input": "2024-04-28T19:18:31.559673Z",
     "iopub.status.busy": "2024-04-28T19:18:31.558921Z",
     "iopub.status.idle": "2024-04-28T19:18:31.563150Z",
     "shell.execute_reply": "2024-04-28T19:18:31.562455Z"
    },
    "papermill": {
     "duration": 0.011136,
     "end_time": "2024-04-28T19:18:31.565051",
     "exception": false,
     "start_time": "2024-04-28T19:18:31.553915",
     "status": "completed"
    },
    "tags": []
   },
   "outputs": [],
   "source": [
    "class CustomWandbLogger(WandbLogger):\n",
    "    @property\n",
    "    def save_dir(self):\n",
    "        return self.experiment.dir"
   ]
  },
  {
   "cell_type": "code",
   "execution_count": 3,
   "id": "8ee6662f-5d45-4137-80a5-bb0b9ae8d71f",
   "metadata": {
    "execution": {
     "iopub.execute_input": "2024-04-28T19:18:31.573593Z",
     "iopub.status.busy": "2024-04-28T19:18:31.573285Z",
     "iopub.status.idle": "2024-04-28T19:18:31.580039Z",
     "shell.execute_reply": "2024-04-28T19:18:31.579332Z"
    },
    "papermill": {
     "duration": 0.013489,
     "end_time": "2024-04-28T19:18:31.582179",
     "exception": false,
     "start_time": "2024-04-28T19:18:31.568690",
     "status": "completed"
    },
    "tags": []
   },
   "outputs": [
    {
     "name": "stderr",
     "output_type": "stream",
     "text": [
      "Seed set to 0\n"
     ]
    },
    {
     "name": "stdout",
     "output_type": "stream",
     "text": [
      "Last run with scvi-tools version: 1.1.2\n"
     ]
    }
   ],
   "source": [
    "scvi.settings.seed = 0\n",
    "print(\"Last run with scvi-tools version:\", scvi.__version__)"
   ]
  },
  {
   "cell_type": "markdown",
   "id": "a81037ff-5998-482a-ba86-520f757311a9",
   "metadata": {
    "papermill": {
     "duration": 0.003739,
     "end_time": "2024-04-28T19:18:31.589652",
     "exception": false,
     "start_time": "2024-04-28T19:18:31.585913",
     "status": "completed"
    },
    "tags": []
   },
   "source": [
    "**Setting parameters** "
   ]
  },
  {
   "cell_type": "code",
   "execution_count": 4,
   "id": "56c27966-8f10-4c93-8b1a-1fa75f005e41",
   "metadata": {
    "execution": {
     "iopub.execute_input": "2024-04-28T19:18:31.598774Z",
     "iopub.status.busy": "2024-04-28T19:18:31.598035Z",
     "iopub.status.idle": "2024-04-28T19:18:31.601462Z",
     "shell.execute_reply": "2024-04-28T19:18:31.600844Z"
    },
    "papermill": {
     "duration": 0.010013,
     "end_time": "2024-04-28T19:18:31.603442",
     "exception": false,
     "start_time": "2024-04-28T19:18:31.593429",
     "status": "completed"
    },
    "tags": []
   },
   "outputs": [],
   "source": [
    "overwriteFigures = True\n",
    "overwriteData = True"
   ]
  },
  {
   "cell_type": "code",
   "execution_count": 5,
   "id": "c86fccd3-a4fe-415b-8f4e-e2ceb3ec128a",
   "metadata": {
    "execution": {
     "iopub.execute_input": "2024-04-28T19:18:31.611756Z",
     "iopub.status.busy": "2024-04-28T19:18:31.611516Z",
     "iopub.status.idle": "2024-04-28T19:18:31.614940Z",
     "shell.execute_reply": "2024-04-28T19:18:31.614152Z"
    },
    "papermill": {
     "duration": 0.009878,
     "end_time": "2024-04-28T19:18:31.616736",
     "exception": false,
     "start_time": "2024-04-28T19:18:31.606858",
     "status": "completed"
    },
    "tags": []
   },
   "outputs": [],
   "source": [
    "cellGroup = 'B'\n",
    "workDir = os.getcwd()"
   ]
  },
  {
   "cell_type": "code",
   "execution_count": 6,
   "id": "2dee4d55-d168-467b-b867-a61fed9d6af1",
   "metadata": {
    "execution": {
     "iopub.execute_input": "2024-04-28T19:18:31.625191Z",
     "iopub.status.busy": "2024-04-28T19:18:31.624946Z",
     "iopub.status.idle": "2024-04-28T19:18:31.628551Z",
     "shell.execute_reply": "2024-04-28T19:18:31.627872Z"
    },
    "papermill": {
     "duration": 0.010115,
     "end_time": "2024-04-28T19:18:31.630538",
     "exception": false,
     "start_time": "2024-04-28T19:18:31.620423",
     "status": "completed"
    },
    "tags": []
   },
   "outputs": [],
   "source": [
    "annotationLevel = os.path.basename(os.path.normpath(workDir))"
   ]
  },
  {
   "cell_type": "code",
   "execution_count": 7,
   "id": "11e53cd5-b746-4152-89cb-c2f0c15d90b3",
   "metadata": {
    "execution": {
     "iopub.execute_input": "2024-04-28T19:18:31.639810Z",
     "iopub.status.busy": "2024-04-28T19:18:31.639183Z",
     "iopub.status.idle": "2024-04-28T19:18:31.643658Z",
     "shell.execute_reply": "2024-04-28T19:18:31.643030Z"
    },
    "papermill": {
     "duration": 0.011395,
     "end_time": "2024-04-28T19:18:31.645795",
     "exception": false,
     "start_time": "2024-04-28T19:18:31.634400",
     "status": "completed"
    },
    "tags": []
   },
   "outputs": [
    {
     "data": {
      "text/plain": [
       "'/home/jupyter/Inflammation-PBMCs-Atlas/02_cell_annotation/02_fromCellLineages_to_CellTypes/Step1'"
      ]
     },
     "execution_count": 7,
     "metadata": {},
     "output_type": "execute_result"
    }
   ],
   "source": [
    "workDir"
   ]
  },
  {
   "cell_type": "markdown",
   "id": "171d2f06-9a44-4fcb-b437-35dc546674b6",
   "metadata": {
    "papermill": {
     "duration": 0.004004,
     "end_time": "2024-04-28T19:18:31.653818",
     "exception": false,
     "start_time": "2024-04-28T19:18:31.649814",
     "status": "completed"
    },
    "tags": []
   },
   "source": [
    "**Load data**"
   ]
  },
  {
   "cell_type": "code",
   "execution_count": 8,
   "id": "429f34fe-dde6-4cc9-9f75-7de8f85c5ffe",
   "metadata": {
    "execution": {
     "iopub.execute_input": "2024-04-28T19:18:31.663238Z",
     "iopub.status.busy": "2024-04-28T19:18:31.662988Z",
     "iopub.status.idle": "2024-04-28T19:18:39.828612Z",
     "shell.execute_reply": "2024-04-28T19:18:39.827834Z"
    },
    "papermill": {
     "duration": 8.172427,
     "end_time": "2024-04-28T19:18:39.830426",
     "exception": false,
     "start_time": "2024-04-28T19:18:31.657999",
     "status": "completed"
    },
    "tags": []
   },
   "outputs": [
    {
     "data": {
      "text/plain": [
       "AnnData object with n_obs × n_vars = 393091 × 2600\n",
       "    obs: 'studyID', 'libraryID', 'sampleID', 'chemistry', 'technology', 'patientID', 'disease', 'timepoint_replicate', 'treatmentStatus', 'therapyResponse', 'sex', 'age', 'BMI', 'binned_age', 'diseaseStatus', 'smokingStatus', 'ethnicity', 'institute', 'diseaseGroup', 'n_genes_by_counts', 'log1p_n_genes_by_counts', 'total_counts', 'log1p_total_counts', 'pct_counts_in_top_20_genes', 'total_counts_mt', 'log1p_total_counts_mt', 'pct_counts_mt', 'total_counts_ribo', 'log1p_total_counts_ribo', 'pct_counts_ribo', 'total_counts_hb', 'log1p_total_counts_hb', 'pct_counts_hb', 'total_counts_plt', 'log1p_total_counts_plt', 'pct_counts_plt', 'doublet_score', 'predicted_doublet', 'S_score', 'G2M_score', 'phase'\n",
       "    var: 'hgnc_id', 'symbol', 'locus_group', 'HUGO_status', 'mt', 'ribo', 'hb', 'plt', 'n_cells_by_counts', 'mean_counts', 'log1p_mean_counts', 'pct_dropout_by_counts', 'total_counts', 'log1p_total_counts', 'highly_variable'\n",
       "    uns: 'chemistry_colors', 'log1p'\n",
       "    layers: 'counts', 'log1p_10e4_counts'"
      ]
     },
     "execution_count": 8,
     "metadata": {},
     "output_type": "execute_result"
    }
   ],
   "source": [
    "adata = sc.read_h5ad(here(f\"{workDir}/{cellGroup}/results/01_{cellGroup}_normalized_HVGsubset.h5ad\"))\n",
    "adata"
   ]
  },
  {
   "cell_type": "markdown",
   "id": "8ac79f3b-d5af-41fa-8904-1e9ac1cbe2fb",
   "metadata": {
    "papermill": {
     "duration": 0.004302,
     "end_time": "2024-04-28T19:18:39.839473",
     "exception": false,
     "start_time": "2024-04-28T19:18:39.835171",
     "status": "completed"
    },
    "tags": []
   },
   "source": [
    "## scVI integration"
   ]
  },
  {
   "cell_type": "markdown",
   "id": "9544847d-d17f-4811-b14b-760446d54d32",
   "metadata": {
    "execution": {
     "iopub.execute_input": "2024-03-25T16:49:04.004504Z",
     "iopub.status.busy": "2024-03-25T16:49:04.004143Z",
     "iopub.status.idle": "2024-03-25T16:49:04.010148Z",
     "shell.execute_reply": "2024-03-25T16:49:04.009146Z",
     "shell.execute_reply.started": "2024-03-25T16:49:04.004477Z"
    },
    "papermill": {
     "duration": 0.004203,
     "end_time": "2024-04-28T19:18:39.847934",
     "exception": false,
     "start_time": "2024-04-28T19:18:39.843731",
     "status": "completed"
    },
    "tags": []
   },
   "source": [
    "**scVI parameters**"
   ]
  },
  {
   "cell_type": "code",
   "execution_count": 9,
   "id": "208966eb-545a-4c02-854c-0ed0487ef5b3",
   "metadata": {
    "execution": {
     "iopub.execute_input": "2024-04-28T19:18:39.858874Z",
     "iopub.status.busy": "2024-04-28T19:18:39.857836Z",
     "iopub.status.idle": "2024-04-28T19:18:39.864377Z",
     "shell.execute_reply": "2024-04-28T19:18:39.863625Z"
    },
    "papermill": {
     "duration": 0.013774,
     "end_time": "2024-04-28T19:18:39.865995",
     "exception": false,
     "start_time": "2024-04-28T19:18:39.852221",
     "status": "completed"
    },
    "tags": []
   },
   "outputs": [],
   "source": [
    "# https://docs.scvi-tools.org/en/stable/api/reference/scvi.train.Trainer.html#scvi.train.Trainer\n",
    "setup_kwargs = dict(\n",
    "    layer=\"counts\", \n",
    "    batch_key='libraryID', \n",
    "    categorical_covariate_keys = ['studyID', 'chemistry', 'disease', 'sampleID'],\n",
    "    labels_key = 'chemistry'    \n",
    ")\n",
    "\n",
    "scvi_kwargs = dict(n_hidden=512,\n",
    "                   n_latent=20, # reduceds after step 00 (main)\n",
    "                   n_layers=2,\n",
    "                   gene_likelihood='nb',\n",
    "                   dispersion='gene-label')\n",
    "\n",
    "trainer_kwargs = dict(\n",
    "    checkpointing_monitor = 'elbo_validation',\n",
    "    early_stopping_monitor = 'reconstruction_loss_validation',\n",
    "    early_stopping_patience = 10,\n",
    "    early_stopping_min_delta=0.1,\n",
    "    early_stopping = True,\n",
    "    max_epochs = 1000,\n",
    "\n",
    "    #logger = # wandb\n",
    ")\n",
    "# https://docs.scvi-tools.org/en/stable/api/reference/scvi.train.TrainingPlan.html#scvi.train.TrainingPlan\n",
    "plan_kwargs = dict(\n",
    "    lr = 5e-4,\n",
    "    #reduce_lr_on_plateau = True\n",
    ")\n",
    "\n",
    "# https://docs.scvi-tools.org/en/stable/api/reference/scvi.module.VAE.html#scvi.module.VAE\n",
    "#vae = dict(\n",
    "#    use_layer_norm='both',\n",
    "#    use_batch_norm='none',\n",
    "#    encode_covariates=True,\n",
    "#    deeply_inject_covariates=False\n",
    "#)\n",
    "parameter_dict = setup_kwargs | scvi_kwargs | trainer_kwargs | plan_kwargs"
   ]
  },
  {
   "cell_type": "markdown",
   "id": "1362366a-c16b-4c11-964b-b9c5f82f7b29",
   "metadata": {
    "papermill": {
     "duration": 0.004224,
     "end_time": "2024-04-28T19:18:39.874524",
     "exception": false,
     "start_time": "2024-04-28T19:18:39.870300",
     "status": "completed"
    },
    "tags": []
   },
   "source": [
    "**wandb parameter**"
   ]
  },
  {
   "cell_type": "code",
   "execution_count": 10,
   "id": "0496e33a-8ca5-423f-b42f-34a59760708c",
   "metadata": {
    "execution": {
     "iopub.execute_input": "2024-04-28T19:18:39.885448Z",
     "iopub.status.busy": "2024-04-28T19:18:39.884877Z",
     "iopub.status.idle": "2024-04-28T19:18:39.889841Z",
     "shell.execute_reply": "2024-04-28T19:18:39.889176Z"
    },
    "papermill": {
     "duration": 0.011936,
     "end_time": "2024-04-28T19:18:39.891423",
     "exception": false,
     "start_time": "2024-04-28T19:18:39.879487",
     "status": "completed"
    },
    "tags": []
   },
   "outputs": [
    {
     "data": {
      "text/plain": [
       "'Step1_B'"
      ]
     },
     "execution_count": 10,
     "metadata": {},
     "output_type": "execute_result"
    }
   ],
   "source": [
    "run_name = f\"{annotationLevel}_{cellGroup}\"\n",
    "run_name"
   ]
  },
  {
   "cell_type": "code",
   "execution_count": 11,
   "id": "b0021327-95a2-4002-bf32-2c5779a99505",
   "metadata": {
    "execution": {
     "iopub.execute_input": "2024-04-28T19:18:39.902023Z",
     "iopub.status.busy": "2024-04-28T19:18:39.901245Z",
     "iopub.status.idle": "2024-04-28T19:18:40.047987Z",
     "shell.execute_reply": "2024-04-28T19:18:40.047190Z"
    },
    "papermill": {
     "duration": 0.154388,
     "end_time": "2024-04-28T19:18:40.050217",
     "exception": false,
     "start_time": "2024-04-28T19:18:39.895829",
     "status": "completed"
    },
    "tags": []
   },
   "outputs": [],
   "source": [
    "logger = CustomWandbLogger(name = run_name, project='inflammation_atlas_R1', config=parameter_dict)"
   ]
  },
  {
   "cell_type": "markdown",
   "id": "c237eee1-a976-4915-9b7f-b014bf33f47d",
   "metadata": {
    "papermill": {
     "duration": 0.004529,
     "end_time": "2024-04-28T19:18:40.059643",
     "exception": false,
     "start_time": "2024-04-28T19:18:40.055114",
     "status": "completed"
    },
    "tags": []
   },
   "source": [
    "**Running integration**"
   ]
  },
  {
   "cell_type": "code",
   "execution_count": 12,
   "id": "aff97c53-1aba-462e-8a77-f1aec9cf724c",
   "metadata": {
    "execution": {
     "iopub.execute_input": "2024-04-28T19:18:40.070176Z",
     "iopub.status.busy": "2024-04-28T19:18:40.069866Z",
     "iopub.status.idle": "2024-04-28T19:18:40.803164Z",
     "shell.execute_reply": "2024-04-28T19:18:40.801918Z"
    },
    "papermill": {
     "duration": 0.74156,
     "end_time": "2024-04-28T19:18:40.805830",
     "exception": false,
     "start_time": "2024-04-28T19:18:40.064270",
     "status": "completed"
    },
    "tags": []
   },
   "outputs": [],
   "source": [
    "scvi.model.SCVI.setup_anndata(adata, \n",
    "                              **setup_kwargs)"
   ]
  },
  {
   "cell_type": "code",
   "execution_count": 13,
   "id": "1a56f448-cf44-47c1-81a4-a89caa930fec",
   "metadata": {
    "execution": {
     "iopub.execute_input": "2024-04-28T19:18:40.819082Z",
     "iopub.status.busy": "2024-04-28T19:18:40.817991Z",
     "iopub.status.idle": "2024-04-28T19:18:41.552429Z",
     "shell.execute_reply": "2024-04-28T19:18:41.551408Z"
    },
    "papermill": {
     "duration": 0.743812,
     "end_time": "2024-04-28T19:18:41.554931",
     "exception": false,
     "start_time": "2024-04-28T19:18:40.811119",
     "status": "completed"
    },
    "tags": []
   },
   "outputs": [],
   "source": [
    "model = scvi.model.SCVI(adata, **scvi_kwargs)"
   ]
  },
  {
   "cell_type": "code",
   "execution_count": 14,
   "id": "2735f010-4f24-4ae8-9740-a8cfeb335e9a",
   "metadata": {
    "execution": {
     "iopub.execute_input": "2024-04-28T19:18:41.567610Z",
     "iopub.status.busy": "2024-04-28T19:18:41.566706Z",
     "iopub.status.idle": "2024-04-28T19:40:14.654194Z",
     "shell.execute_reply": "2024-04-28T19:40:14.653017Z"
    },
    "papermill": {
     "duration": 1293.096382,
     "end_time": "2024-04-28T19:40:14.656361",
     "exception": false,
     "start_time": "2024-04-28T19:18:41.559979",
     "status": "completed"
    },
    "tags": []
   },
   "outputs": [
    {
     "name": "stderr",
     "output_type": "stream",
     "text": [
      "GPU available: True (cuda), used: True\n"
     ]
    },
    {
     "name": "stderr",
     "output_type": "stream",
     "text": [
      "TPU available: False, using: 0 TPU cores\n"
     ]
    },
    {
     "name": "stderr",
     "output_type": "stream",
     "text": [
      "IPU available: False, using: 0 IPUs\n"
     ]
    },
    {
     "name": "stderr",
     "output_type": "stream",
     "text": [
      "HPU available: False, using: 0 HPUs\n"
     ]
    },
    {
     "name": "stderr",
     "output_type": "stream",
     "text": [
      "\u001b[34m\u001b[1mwandb\u001b[0m: Currently logged in as: \u001b[33mdav1989\u001b[0m (\u001b[33minflammation\u001b[0m). Use \u001b[1m`wandb login --relogin`\u001b[0m to force relogin\n"
     ]
    },
    {
     "name": "stderr",
     "output_type": "stream",
     "text": [
      "\u001b[34m\u001b[1mwandb\u001b[0m: wandb version 0.16.6 is available!  To upgrade, please run:\n",
      "\u001b[34m\u001b[1mwandb\u001b[0m:  $ pip install wandb --upgrade\n"
     ]
    },
    {
     "name": "stderr",
     "output_type": "stream",
     "text": [
      "\u001b[34m\u001b[1mwandb\u001b[0m: Tracking run with wandb version 0.16.3\n"
     ]
    },
    {
     "name": "stderr",
     "output_type": "stream",
     "text": [
      "\u001b[34m\u001b[1mwandb\u001b[0m: Run data is saved locally in \u001b[35m\u001b[1m./wandb/run-20240428_191846-jqsxfo5m\u001b[0m\n",
      "\u001b[34m\u001b[1mwandb\u001b[0m: Run \u001b[1m`wandb offline`\u001b[0m to turn off syncing.\n"
     ]
    },
    {
     "name": "stderr",
     "output_type": "stream",
     "text": [
      "\u001b[34m\u001b[1mwandb\u001b[0m: Syncing run \u001b[33mStep1_B\u001b[0m\n"
     ]
    },
    {
     "name": "stderr",
     "output_type": "stream",
     "text": [
      "\u001b[34m\u001b[1mwandb\u001b[0m: ⭐️ View project at \u001b[34m\u001b[4mhttps://wandb.ai/inflammation/inflammation_atlas_R1\u001b[0m\n"
     ]
    },
    {
     "name": "stderr",
     "output_type": "stream",
     "text": [
      "\u001b[34m\u001b[1mwandb\u001b[0m: 🚀 View run at \u001b[34m\u001b[4mhttps://wandb.ai/inflammation/inflammation_atlas_R1/runs/jqsxfo5m\u001b[0m\n"
     ]
    },
    {
     "name": "stderr",
     "output_type": "stream",
     "text": [
      "LOCAL_RANK: 0 - CUDA_VISIBLE_DEVICES: [0]\n"
     ]
    },
    {
     "name": "stdout",
     "output_type": "stream",
     "text": [
      "\r",
      "Training:   0%|          | 0/1000 [00:00<?, ?it/s]"
     ]
    },
    {
     "name": "stdout",
     "output_type": "stream",
     "text": [
      "\r",
      "Epoch 1/1000:   0%|          | 0/1000 [00:00<?, ?it/s]"
     ]
    },
    {
     "name": "stdout",
     "output_type": "stream",
     "text": [
      "\r",
      "Epoch 1/1000:   0%|          | 1/1000 [00:39<10:56:02, 39.40s/it]"
     ]
    },
    {
     "name": "stdout",
     "output_type": "stream",
     "text": [
      "\r",
      "Epoch 1/1000:   0%|          | 1/1000 [00:39<10:56:02, 39.40s/it, v_num=fo5m, train_loss_step=582, train_loss_epoch=601]"
     ]
    },
    {
     "name": "stdout",
     "output_type": "stream",
     "text": [
      "\r",
      "Epoch 2/1000:   0%|          | 1/1000 [00:39<10:56:02, 39.40s/it, v_num=fo5m, train_loss_step=582, train_loss_epoch=601]"
     ]
    },
    {
     "name": "stdout",
     "output_type": "stream",
     "text": [
      "\r",
      "Epoch 2/1000:   0%|          | 2/1000 [01:18<10:54:21, 39.34s/it, v_num=fo5m, train_loss_step=582, train_loss_epoch=601]"
     ]
    },
    {
     "name": "stdout",
     "output_type": "stream",
     "text": [
      "\r",
      "Epoch 2/1000:   0%|          | 2/1000 [01:18<10:54:21, 39.34s/it, v_num=fo5m, train_loss_step=556, train_loss_epoch=586]"
     ]
    },
    {
     "name": "stdout",
     "output_type": "stream",
     "text": [
      "\r",
      "Epoch 3/1000:   0%|          | 2/1000 [01:18<10:54:21, 39.34s/it, v_num=fo5m, train_loss_step=556, train_loss_epoch=586]"
     ]
    },
    {
     "name": "stdout",
     "output_type": "stream",
     "text": [
      "\r",
      "Epoch 3/1000:   0%|          | 3/1000 [02:00<11:12:54, 40.50s/it, v_num=fo5m, train_loss_step=556, train_loss_epoch=586]"
     ]
    },
    {
     "name": "stdout",
     "output_type": "stream",
     "text": [
      "\r",
      "Epoch 3/1000:   0%|          | 3/1000 [02:00<11:12:54, 40.50s/it, v_num=fo5m, train_loss_step=610, train_loss_epoch=581]"
     ]
    },
    {
     "name": "stdout",
     "output_type": "stream",
     "text": [
      "\r",
      "Epoch 4/1000:   0%|          | 3/1000 [02:00<11:12:54, 40.50s/it, v_num=fo5m, train_loss_step=610, train_loss_epoch=581]"
     ]
    },
    {
     "name": "stdout",
     "output_type": "stream",
     "text": [
      "\r",
      "Epoch 4/1000:   0%|          | 4/1000 [02:42<11:20:20, 40.98s/it, v_num=fo5m, train_loss_step=610, train_loss_epoch=581]"
     ]
    },
    {
     "name": "stdout",
     "output_type": "stream",
     "text": [
      "\r",
      "Epoch 4/1000:   0%|          | 4/1000 [02:42<11:20:20, 40.98s/it, v_num=fo5m, train_loss_step=549, train_loss_epoch=579]"
     ]
    },
    {
     "name": "stdout",
     "output_type": "stream",
     "text": [
      "\r",
      "Epoch 5/1000:   0%|          | 4/1000 [02:42<11:20:20, 40.98s/it, v_num=fo5m, train_loss_step=549, train_loss_epoch=579]"
     ]
    },
    {
     "name": "stdout",
     "output_type": "stream",
     "text": [
      "\r",
      "Epoch 5/1000:   0%|          | 5/1000 [03:25<11:34:20, 41.87s/it, v_num=fo5m, train_loss_step=549, train_loss_epoch=579]"
     ]
    },
    {
     "name": "stdout",
     "output_type": "stream",
     "text": [
      "\r",
      "Epoch 5/1000:   0%|          | 5/1000 [03:25<11:34:20, 41.87s/it, v_num=fo5m, train_loss_step=643, train_loss_epoch=578]"
     ]
    },
    {
     "name": "stdout",
     "output_type": "stream",
     "text": [
      "\r",
      "Epoch 6/1000:   0%|          | 5/1000 [03:25<11:34:20, 41.87s/it, v_num=fo5m, train_loss_step=643, train_loss_epoch=578]"
     ]
    },
    {
     "name": "stdout",
     "output_type": "stream",
     "text": [
      "\r",
      "Epoch 6/1000:   1%|          | 6/1000 [04:07<11:34:14, 41.91s/it, v_num=fo5m, train_loss_step=643, train_loss_epoch=578]"
     ]
    },
    {
     "name": "stdout",
     "output_type": "stream",
     "text": [
      "\r",
      "Epoch 6/1000:   1%|          | 6/1000 [04:07<11:34:14, 41.91s/it, v_num=fo5m, train_loss_step=571, train_loss_epoch=577]"
     ]
    },
    {
     "name": "stdout",
     "output_type": "stream",
     "text": [
      "\r",
      "Epoch 7/1000:   1%|          | 6/1000 [04:07<11:34:14, 41.91s/it, v_num=fo5m, train_loss_step=571, train_loss_epoch=577]"
     ]
    },
    {
     "name": "stdout",
     "output_type": "stream",
     "text": [
      "\r",
      "Epoch 7/1000:   1%|          | 7/1000 [04:49<11:33:21, 41.89s/it, v_num=fo5m, train_loss_step=571, train_loss_epoch=577]"
     ]
    },
    {
     "name": "stdout",
     "output_type": "stream",
     "text": [
      "\r",
      "Epoch 7/1000:   1%|          | 7/1000 [04:49<11:33:21, 41.89s/it, v_num=fo5m, train_loss_step=586, train_loss_epoch=576]"
     ]
    },
    {
     "name": "stdout",
     "output_type": "stream",
     "text": [
      "\r",
      "Epoch 8/1000:   1%|          | 7/1000 [04:49<11:33:21, 41.89s/it, v_num=fo5m, train_loss_step=586, train_loss_epoch=576]"
     ]
    },
    {
     "name": "stdout",
     "output_type": "stream",
     "text": [
      "\r",
      "Epoch 8/1000:   1%|          | 8/1000 [05:31<11:32:25, 41.88s/it, v_num=fo5m, train_loss_step=586, train_loss_epoch=576]"
     ]
    },
    {
     "name": "stdout",
     "output_type": "stream",
     "text": [
      "\r",
      "Epoch 8/1000:   1%|          | 8/1000 [05:31<11:32:25, 41.88s/it, v_num=fo5m, train_loss_step=592, train_loss_epoch=576]"
     ]
    },
    {
     "name": "stdout",
     "output_type": "stream",
     "text": [
      "\r",
      "Epoch 9/1000:   1%|          | 8/1000 [05:31<11:32:25, 41.88s/it, v_num=fo5m, train_loss_step=592, train_loss_epoch=576]"
     ]
    },
    {
     "name": "stdout",
     "output_type": "stream",
     "text": [
      "\r",
      "Epoch 9/1000:   1%|          | 9/1000 [06:13<11:31:58, 41.90s/it, v_num=fo5m, train_loss_step=592, train_loss_epoch=576]"
     ]
    },
    {
     "name": "stdout",
     "output_type": "stream",
     "text": [
      "\r",
      "Epoch 9/1000:   1%|          | 9/1000 [06:13<11:31:58, 41.90s/it, v_num=fo5m, train_loss_step=570, train_loss_epoch=575]"
     ]
    },
    {
     "name": "stdout",
     "output_type": "stream",
     "text": [
      "\r",
      "Epoch 10/1000:   1%|          | 9/1000 [06:13<11:31:58, 41.90s/it, v_num=fo5m, train_loss_step=570, train_loss_epoch=575]"
     ]
    },
    {
     "name": "stdout",
     "output_type": "stream",
     "text": [
      "\r",
      "Epoch 10/1000:   1%|          | 10/1000 [06:53<11:23:16, 41.41s/it, v_num=fo5m, train_loss_step=570, train_loss_epoch=575]"
     ]
    },
    {
     "name": "stdout",
     "output_type": "stream",
     "text": [
      "\r",
      "Epoch 10/1000:   1%|          | 10/1000 [06:53<11:23:16, 41.41s/it, v_num=fo5m, train_loss_step=621, train_loss_epoch=575]"
     ]
    },
    {
     "name": "stdout",
     "output_type": "stream",
     "text": [
      "\r",
      "Epoch 11/1000:   1%|          | 10/1000 [06:53<11:23:16, 41.41s/it, v_num=fo5m, train_loss_step=621, train_loss_epoch=575]"
     ]
    },
    {
     "name": "stdout",
     "output_type": "stream",
     "text": [
      "\r",
      "Epoch 11/1000:   1%|          | 11/1000 [07:35<11:25:58, 41.62s/it, v_num=fo5m, train_loss_step=621, train_loss_epoch=575]"
     ]
    },
    {
     "name": "stdout",
     "output_type": "stream",
     "text": [
      "\r",
      "Epoch 11/1000:   1%|          | 11/1000 [07:35<11:25:58, 41.62s/it, v_num=fo5m, train_loss_step=601, train_loss_epoch=575]"
     ]
    },
    {
     "name": "stdout",
     "output_type": "stream",
     "text": [
      "\r",
      "Epoch 12/1000:   1%|          | 11/1000 [07:35<11:25:58, 41.62s/it, v_num=fo5m, train_loss_step=601, train_loss_epoch=575]"
     ]
    },
    {
     "name": "stdout",
     "output_type": "stream",
     "text": [
      "\r",
      "Epoch 12/1000:   1%|          | 12/1000 [08:18<11:31:41, 42.01s/it, v_num=fo5m, train_loss_step=601, train_loss_epoch=575]"
     ]
    },
    {
     "name": "stdout",
     "output_type": "stream",
     "text": [
      "\r",
      "Epoch 12/1000:   1%|          | 12/1000 [08:18<11:31:41, 42.01s/it, v_num=fo5m, train_loss_step=571, train_loss_epoch=575]"
     ]
    },
    {
     "name": "stdout",
     "output_type": "stream",
     "text": [
      "\r",
      "Epoch 13/1000:   1%|          | 12/1000 [08:18<11:31:41, 42.01s/it, v_num=fo5m, train_loss_step=571, train_loss_epoch=575]"
     ]
    },
    {
     "name": "stdout",
     "output_type": "stream",
     "text": [
      "\r",
      "Epoch 13/1000:   1%|▏         | 13/1000 [09:01<11:34:09, 42.20s/it, v_num=fo5m, train_loss_step=571, train_loss_epoch=575]"
     ]
    },
    {
     "name": "stdout",
     "output_type": "stream",
     "text": [
      "\r",
      "Epoch 13/1000:   1%|▏         | 13/1000 [09:01<11:34:09, 42.20s/it, v_num=fo5m, train_loss_step=556, train_loss_epoch=574]"
     ]
    },
    {
     "name": "stdout",
     "output_type": "stream",
     "text": [
      "\r",
      "Epoch 14/1000:   1%|▏         | 13/1000 [09:01<11:34:09, 42.20s/it, v_num=fo5m, train_loss_step=556, train_loss_epoch=574]"
     ]
    },
    {
     "name": "stdout",
     "output_type": "stream",
     "text": [
      "\r",
      "Epoch 14/1000:   1%|▏         | 14/1000 [09:42<11:29:42, 41.97s/it, v_num=fo5m, train_loss_step=556, train_loss_epoch=574]"
     ]
    },
    {
     "name": "stdout",
     "output_type": "stream",
     "text": [
      "\r",
      "Epoch 14/1000:   1%|▏         | 14/1000 [09:42<11:29:42, 41.97s/it, v_num=fo5m, train_loss_step=595, train_loss_epoch=574]"
     ]
    },
    {
     "name": "stdout",
     "output_type": "stream",
     "text": [
      "\r",
      "Epoch 15/1000:   1%|▏         | 14/1000 [09:42<11:29:42, 41.97s/it, v_num=fo5m, train_loss_step=595, train_loss_epoch=574]"
     ]
    },
    {
     "name": "stdout",
     "output_type": "stream",
     "text": [
      "\r",
      "Epoch 15/1000:   2%|▏         | 15/1000 [10:24<11:29:40, 42.01s/it, v_num=fo5m, train_loss_step=595, train_loss_epoch=574]"
     ]
    },
    {
     "name": "stdout",
     "output_type": "stream",
     "text": [
      "\r",
      "Epoch 15/1000:   2%|▏         | 15/1000 [10:24<11:29:40, 42.01s/it, v_num=fo5m, train_loss_step=570, train_loss_epoch=574]"
     ]
    },
    {
     "name": "stdout",
     "output_type": "stream",
     "text": [
      "\r",
      "Epoch 16/1000:   2%|▏         | 15/1000 [10:24<11:29:40, 42.01s/it, v_num=fo5m, train_loss_step=570, train_loss_epoch=574]"
     ]
    },
    {
     "name": "stdout",
     "output_type": "stream",
     "text": [
      "\r",
      "Epoch 16/1000:   2%|▏         | 16/1000 [11:06<11:29:26, 42.04s/it, v_num=fo5m, train_loss_step=570, train_loss_epoch=574]"
     ]
    },
    {
     "name": "stdout",
     "output_type": "stream",
     "text": [
      "\r",
      "Epoch 16/1000:   2%|▏         | 16/1000 [11:06<11:29:26, 42.04s/it, v_num=fo5m, train_loss_step=589, train_loss_epoch=574]"
     ]
    },
    {
     "name": "stdout",
     "output_type": "stream",
     "text": [
      "\r",
      "Epoch 17/1000:   2%|▏         | 16/1000 [11:06<11:29:26, 42.04s/it, v_num=fo5m, train_loss_step=589, train_loss_epoch=574]"
     ]
    },
    {
     "name": "stdout",
     "output_type": "stream",
     "text": [
      "\r",
      "Epoch 17/1000:   2%|▏         | 17/1000 [11:48<11:28:26, 42.02s/it, v_num=fo5m, train_loss_step=589, train_loss_epoch=574]"
     ]
    },
    {
     "name": "stdout",
     "output_type": "stream",
     "text": [
      "\r",
      "Epoch 17/1000:   2%|▏         | 17/1000 [11:48<11:28:26, 42.02s/it, v_num=fo5m, train_loss_step=561, train_loss_epoch=574]"
     ]
    },
    {
     "name": "stdout",
     "output_type": "stream",
     "text": [
      "\r",
      "Epoch 18/1000:   2%|▏         | 17/1000 [11:48<11:28:26, 42.02s/it, v_num=fo5m, train_loss_step=561, train_loss_epoch=574]"
     ]
    },
    {
     "name": "stdout",
     "output_type": "stream",
     "text": [
      "\r",
      "Epoch 18/1000:   2%|▏         | 18/1000 [12:29<11:22:11, 41.68s/it, v_num=fo5m, train_loss_step=561, train_loss_epoch=574]"
     ]
    },
    {
     "name": "stdout",
     "output_type": "stream",
     "text": [
      "\r",
      "Epoch 18/1000:   2%|▏         | 18/1000 [12:29<11:22:11, 41.68s/it, v_num=fo5m, train_loss_step=615, train_loss_epoch=574]"
     ]
    },
    {
     "name": "stdout",
     "output_type": "stream",
     "text": [
      "\r",
      "Epoch 19/1000:   2%|▏         | 18/1000 [12:29<11:22:11, 41.68s/it, v_num=fo5m, train_loss_step=615, train_loss_epoch=574]"
     ]
    },
    {
     "name": "stdout",
     "output_type": "stream",
     "text": [
      "\r",
      "Epoch 19/1000:   2%|▏         | 19/1000 [13:12<11:27:04, 42.02s/it, v_num=fo5m, train_loss_step=615, train_loss_epoch=574]"
     ]
    },
    {
     "name": "stdout",
     "output_type": "stream",
     "text": [
      "\r",
      "Epoch 19/1000:   2%|▏         | 19/1000 [13:12<11:27:04, 42.02s/it, v_num=fo5m, train_loss_step=572, train_loss_epoch=574]"
     ]
    },
    {
     "name": "stdout",
     "output_type": "stream",
     "text": [
      "\r",
      "Epoch 20/1000:   2%|▏         | 19/1000 [13:12<11:27:04, 42.02s/it, v_num=fo5m, train_loss_step=572, train_loss_epoch=574]"
     ]
    },
    {
     "name": "stdout",
     "output_type": "stream",
     "text": [
      "\r",
      "Epoch 20/1000:   2%|▏         | 20/1000 [13:54<11:25:35, 41.97s/it, v_num=fo5m, train_loss_step=572, train_loss_epoch=574]"
     ]
    },
    {
     "name": "stdout",
     "output_type": "stream",
     "text": [
      "\r",
      "Epoch 20/1000:   2%|▏         | 20/1000 [13:54<11:25:35, 41.97s/it, v_num=fo5m, train_loss_step=631, train_loss_epoch=574]"
     ]
    },
    {
     "name": "stdout",
     "output_type": "stream",
     "text": [
      "\r",
      "Epoch 21/1000:   2%|▏         | 20/1000 [13:54<11:25:35, 41.97s/it, v_num=fo5m, train_loss_step=631, train_loss_epoch=574]"
     ]
    },
    {
     "name": "stdout",
     "output_type": "stream",
     "text": [
      "\r",
      "Epoch 21/1000:   2%|▏         | 21/1000 [14:36<11:24:02, 41.92s/it, v_num=fo5m, train_loss_step=631, train_loss_epoch=574]"
     ]
    },
    {
     "name": "stdout",
     "output_type": "stream",
     "text": [
      "\r",
      "Epoch 21/1000:   2%|▏         | 21/1000 [14:36<11:24:02, 41.92s/it, v_num=fo5m, train_loss_step=606, train_loss_epoch=574]"
     ]
    },
    {
     "name": "stdout",
     "output_type": "stream",
     "text": [
      "\r",
      "Epoch 22/1000:   2%|▏         | 21/1000 [14:36<11:24:02, 41.92s/it, v_num=fo5m, train_loss_step=606, train_loss_epoch=574]"
     ]
    },
    {
     "name": "stdout",
     "output_type": "stream",
     "text": [
      "\r",
      "Epoch 22/1000:   2%|▏         | 22/1000 [15:18<11:22:43, 41.88s/it, v_num=fo5m, train_loss_step=606, train_loss_epoch=574]"
     ]
    },
    {
     "name": "stdout",
     "output_type": "stream",
     "text": [
      "\r",
      "Epoch 22/1000:   2%|▏         | 22/1000 [15:18<11:22:43, 41.88s/it, v_num=fo5m, train_loss_step=611, train_loss_epoch=574]"
     ]
    },
    {
     "name": "stdout",
     "output_type": "stream",
     "text": [
      "\r",
      "Epoch 23/1000:   2%|▏         | 22/1000 [15:18<11:22:43, 41.88s/it, v_num=fo5m, train_loss_step=611, train_loss_epoch=574]"
     ]
    },
    {
     "name": "stdout",
     "output_type": "stream",
     "text": [
      "\r",
      "Epoch 23/1000:   2%|▏         | 23/1000 [15:58<11:17:07, 41.58s/it, v_num=fo5m, train_loss_step=611, train_loss_epoch=574]"
     ]
    },
    {
     "name": "stdout",
     "output_type": "stream",
     "text": [
      "\r",
      "Epoch 23/1000:   2%|▏         | 23/1000 [15:58<11:17:07, 41.58s/it, v_num=fo5m, train_loss_step=624, train_loss_epoch=574]"
     ]
    },
    {
     "name": "stdout",
     "output_type": "stream",
     "text": [
      "\r",
      "Epoch 24/1000:   2%|▏         | 23/1000 [15:59<11:17:07, 41.58s/it, v_num=fo5m, train_loss_step=624, train_loss_epoch=574]"
     ]
    },
    {
     "name": "stdout",
     "output_type": "stream",
     "text": [
      "\r",
      "Epoch 24/1000:   2%|▏         | 24/1000 [16:41<11:18:34, 41.72s/it, v_num=fo5m, train_loss_step=624, train_loss_epoch=574]"
     ]
    },
    {
     "name": "stdout",
     "output_type": "stream",
     "text": [
      "\r",
      "Epoch 24/1000:   2%|▏         | 24/1000 [16:41<11:18:34, 41.72s/it, v_num=fo5m, train_loss_step=577, train_loss_epoch=574]"
     ]
    },
    {
     "name": "stdout",
     "output_type": "stream",
     "text": [
      "\r",
      "Epoch 25/1000:   2%|▏         | 24/1000 [16:41<11:18:34, 41.72s/it, v_num=fo5m, train_loss_step=577, train_loss_epoch=574]"
     ]
    },
    {
     "name": "stdout",
     "output_type": "stream",
     "text": [
      "\r",
      "Epoch 25/1000:   2%|▎         | 25/1000 [17:22<11:15:51, 41.59s/it, v_num=fo5m, train_loss_step=577, train_loss_epoch=574]"
     ]
    },
    {
     "name": "stdout",
     "output_type": "stream",
     "text": [
      "\r",
      "Epoch 25/1000:   2%|▎         | 25/1000 [17:22<11:15:51, 41.59s/it, v_num=fo5m, train_loss_step=553, train_loss_epoch=574]"
     ]
    },
    {
     "name": "stdout",
     "output_type": "stream",
     "text": [
      "\r",
      "Epoch 26/1000:   2%|▎         | 25/1000 [17:22<11:15:51, 41.59s/it, v_num=fo5m, train_loss_step=553, train_loss_epoch=574]"
     ]
    },
    {
     "name": "stdout",
     "output_type": "stream",
     "text": [
      "\r",
      "Epoch 26/1000:   3%|▎         | 26/1000 [18:02<11:06:16, 41.04s/it, v_num=fo5m, train_loss_step=553, train_loss_epoch=574]"
     ]
    },
    {
     "name": "stdout",
     "output_type": "stream",
     "text": [
      "\r",
      "Epoch 26/1000:   3%|▎         | 26/1000 [18:02<11:06:16, 41.04s/it, v_num=fo5m, train_loss_step=553, train_loss_epoch=574]"
     ]
    },
    {
     "name": "stdout",
     "output_type": "stream",
     "text": [
      "\r",
      "Epoch 27/1000:   3%|▎         | 26/1000 [18:02<11:06:16, 41.04s/it, v_num=fo5m, train_loss_step=553, train_loss_epoch=574]"
     ]
    },
    {
     "name": "stdout",
     "output_type": "stream",
     "text": [
      "\r",
      "Epoch 27/1000:   3%|▎         | 27/1000 [18:42<11:00:52, 40.75s/it, v_num=fo5m, train_loss_step=553, train_loss_epoch=574]"
     ]
    },
    {
     "name": "stdout",
     "output_type": "stream",
     "text": [
      "\r",
      "Epoch 27/1000:   3%|▎         | 27/1000 [18:42<11:00:52, 40.75s/it, v_num=fo5m, train_loss_step=537, train_loss_epoch=574]"
     ]
    },
    {
     "name": "stdout",
     "output_type": "stream",
     "text": [
      "\r",
      "Epoch 28/1000:   3%|▎         | 27/1000 [18:42<11:00:52, 40.75s/it, v_num=fo5m, train_loss_step=537, train_loss_epoch=574]"
     ]
    },
    {
     "name": "stdout",
     "output_type": "stream",
     "text": [
      "\r",
      "Epoch 28/1000:   3%|▎         | 28/1000 [19:22<10:56:36, 40.53s/it, v_num=fo5m, train_loss_step=537, train_loss_epoch=574]"
     ]
    },
    {
     "name": "stdout",
     "output_type": "stream",
     "text": [
      "\r",
      "Epoch 28/1000:   3%|▎         | 28/1000 [19:22<10:56:36, 40.53s/it, v_num=fo5m, train_loss_step=586, train_loss_epoch=574]"
     ]
    },
    {
     "name": "stdout",
     "output_type": "stream",
     "text": [
      "\r",
      "Epoch 29/1000:   3%|▎         | 28/1000 [19:22<10:56:36, 40.53s/it, v_num=fo5m, train_loss_step=586, train_loss_epoch=574]"
     ]
    },
    {
     "name": "stdout",
     "output_type": "stream",
     "text": [
      "\r",
      "Epoch 29/1000:   3%|▎         | 29/1000 [20:03<10:59:42, 40.76s/it, v_num=fo5m, train_loss_step=586, train_loss_epoch=574]"
     ]
    },
    {
     "name": "stdout",
     "output_type": "stream",
     "text": [
      "\r",
      "Epoch 29/1000:   3%|▎         | 29/1000 [20:03<10:59:42, 40.76s/it, v_num=fo5m, train_loss_step=566, train_loss_epoch=574]"
     ]
    },
    {
     "name": "stdout",
     "output_type": "stream",
     "text": [
      "\r",
      "Epoch 30/1000:   3%|▎         | 29/1000 [20:03<10:59:42, 40.76s/it, v_num=fo5m, train_loss_step=566, train_loss_epoch=574]"
     ]
    },
    {
     "name": "stdout",
     "output_type": "stream",
     "text": [
      "\r",
      "Epoch 30/1000:   3%|▎         | 30/1000 [20:44<11:02:24, 40.97s/it, v_num=fo5m, train_loss_step=566, train_loss_epoch=574]"
     ]
    },
    {
     "name": "stdout",
     "output_type": "stream",
     "text": [
      "\r",
      "Epoch 30/1000:   3%|▎         | 30/1000 [20:44<11:02:24, 40.97s/it, v_num=fo5m, train_loss_step=565, train_loss_epoch=574]"
     ]
    },
    {
     "name": "stdout",
     "output_type": "stream",
     "text": [
      "\r",
      "Epoch 31/1000:   3%|▎         | 30/1000 [20:44<11:02:24, 40.97s/it, v_num=fo5m, train_loss_step=565, train_loss_epoch=574]"
     ]
    },
    {
     "name": "stdout",
     "output_type": "stream",
     "text": [
      "\r",
      "Epoch 31/1000:   3%|▎         | 31/1000 [21:26<11:06:44, 41.28s/it, v_num=fo5m, train_loss_step=565, train_loss_epoch=574]"
     ]
    },
    {
     "name": "stdout",
     "output_type": "stream",
     "text": [
      "\r",
      "Epoch 31/1000:   3%|▎         | 31/1000 [21:26<11:06:44, 41.28s/it, v_num=fo5m, train_loss_step=588, train_loss_epoch=574]"
     ]
    },
    {
     "name": "stdout",
     "output_type": "stream",
     "text": [
      "\r",
      "Epoch 31/1000:   3%|▎         | 31/1000 [21:26<11:10:27, 41.51s/it, v_num=fo5m, train_loss_step=588, train_loss_epoch=574]"
     ]
    },
    {
     "name": "stdout",
     "output_type": "stream",
     "text": [
      "\n",
      "Monitored metric reconstruction_loss_validation did not improve in the last 10 records. Best score: 572.989. Signaling Trainer to stop.\n"
     ]
    }
   ],
   "source": [
    "model.train(logger=logger, plan_kwargs = plan_kwargs, **trainer_kwargs)"
   ]
  },
  {
   "cell_type": "code",
   "execution_count": 15,
   "id": "c282f6eb-0ad1-40a5-81e6-1acda1545dad",
   "metadata": {
    "execution": {
     "iopub.execute_input": "2024-04-28T19:40:14.682092Z",
     "iopub.status.busy": "2024-04-28T19:40:14.681245Z",
     "iopub.status.idle": "2024-04-28T19:40:20.583885Z",
     "shell.execute_reply": "2024-04-28T19:40:20.582958Z"
    },
    "papermill": {
     "duration": 5.917801,
     "end_time": "2024-04-28T19:40:20.585967",
     "exception": false,
     "start_time": "2024-04-28T19:40:14.668166",
     "status": "completed"
    },
    "tags": []
   },
   "outputs": [
    {
     "name": "stderr",
     "output_type": "stream",
     "text": [
      "\u001b[34m\u001b[1mwandb\u001b[0m: - 0.003 MB of 0.003 MB uploaded\r"
     ]
    },
    {
     "name": "stderr",
     "output_type": "stream",
     "text": [
      "\u001b[34m\u001b[1mwandb\u001b[0m: \\ 0.003 MB of 0.009 MB uploaded\r"
     ]
    },
    {
     "name": "stderr",
     "output_type": "stream",
     "text": [
      "\u001b[34m\u001b[1mwandb\u001b[0m: | 0.003 MB of 0.009 MB uploaded\r"
     ]
    },
    {
     "name": "stderr",
     "output_type": "stream",
     "text": [
      "\u001b[34m\u001b[1mwandb\u001b[0m: / 0.009 MB of 0.009 MB uploaded\r"
     ]
    },
    {
     "name": "stderr",
     "output_type": "stream",
     "text": [
      "\u001b[34m\u001b[1mwandb\u001b[0m:                                                                                \n"
     ]
    },
    {
     "name": "stderr",
     "output_type": "stream",
     "text": [
      "\u001b[34m\u001b[1mwandb\u001b[0m: \n",
      "\u001b[34m\u001b[1mwandb\u001b[0m: Run history:\n",
      "\u001b[34m\u001b[1mwandb\u001b[0m:                     elbo_train █▇▅▄▄▃▃▃▃▃▂▂▂▂▂▂▂▂▂▂▂▁▁▁▁▁▁▁▁▁▁\n",
      "\u001b[34m\u001b[1mwandb\u001b[0m:                elbo_validation █▆▅▄▃▃▃▃▂▂▂▂▂▂▂▂▂▂▂▁▁▁▁▁▁▁▁▁▁▁▁\n",
      "\u001b[34m\u001b[1mwandb\u001b[0m:                          epoch ▁▁▁▁▂▂▂▂▂▃▃▃▃▃▄▄▄▄▄▅▅▅▅▅▅▅▆▆▆▆▆▇▇▇▇▇████\n",
      "\u001b[34m\u001b[1mwandb\u001b[0m:                kl_global_train ▁▁▁▁▁▁▁▁▁▁▁▁▁▁▁▁▁▁▁▁▁▁▁▁▁▁▁▁▁▁▁\n",
      "\u001b[34m\u001b[1mwandb\u001b[0m:           kl_global_validation ▁▁▁▁▁▁▁▁▁▁▁▁▁▁▁▁▁▁▁▁▁▁▁▁▁▁▁▁▁▁▁\n",
      "\u001b[34m\u001b[1mwandb\u001b[0m:                 kl_local_train ▇█▆▅▄▄▃▃▃▃▃▃▂▂▂▂▂▂▂▂▂▂▂▁▁▁▁▁▁▁▁\n",
      "\u001b[34m\u001b[1mwandb\u001b[0m:            kl_local_validation █▆▅▄▃▃▃▃▃▂▂▂▂▂▂▂▂▂▂▂▂▁▁▁▁▁▁▁▁▁▁\n",
      "\u001b[34m\u001b[1mwandb\u001b[0m:                      kl_weight ▁▁▁▁▂▂▂▂▂▃▃▃▃▃▄▄▄▄▄▄▅▅▅▅▅▅▆▆▆▆▆▇▇▇▇▇████\n",
      "\u001b[34m\u001b[1mwandb\u001b[0m:      reconstruction_loss_train █▄▃▃▂▂▂▂▂▂▂▂▂▁▁▁▁▁▁▁▁▁▁▁▁▁▁▁▁▁▁\n",
      "\u001b[34m\u001b[1mwandb\u001b[0m: reconstruction_loss_validation █▅▄▃▃▂▂▂▂▁▁▁▁▁▁▁▁▁▁▁▁▁▁▁▁▁▁▁▁▁▁\n",
      "\u001b[34m\u001b[1mwandb\u001b[0m:               train_loss_epoch █▄▃▂▂▂▂▂▁▁▁▁▁▁▁▁▁▁▁▁▁▁▁▁▁▁▁▁▁▁▁\n",
      "\u001b[34m\u001b[1mwandb\u001b[0m:                train_loss_step ▅▅▃▄▇▄▂▂█▄▄▇▆▄▄▆▄▄▃▃▃▃▄▅▇▆▅▂▇▄▅▁█▃▅▂▄▃▅▆\n",
      "\u001b[34m\u001b[1mwandb\u001b[0m:            trainer/global_step ▁▁▁▂▂▂▂▂▂▃▃▃▃▃▃▄▄▄▄▄▅▅▅▅▅▅▆▆▆▆▆▇▇▇▇▇▇███\n",
      "\u001b[34m\u001b[1mwandb\u001b[0m:                validation_loss █▅▃▂▂▂▁▁▁▁▁▁▁▁▁▁▁▁▁▁▁▁▁▁▁▁▁▂▂▂▂\n",
      "\u001b[34m\u001b[1mwandb\u001b[0m: \n",
      "\u001b[34m\u001b[1mwandb\u001b[0m: Run summary:\n",
      "\u001b[34m\u001b[1mwandb\u001b[0m:                     elbo_train 613.27911\n",
      "\u001b[34m\u001b[1mwandb\u001b[0m:                elbo_validation 614.58319\n",
      "\u001b[34m\u001b[1mwandb\u001b[0m:                          epoch 30\n",
      "\u001b[34m\u001b[1mwandb\u001b[0m:                kl_global_train 0.0\n",
      "\u001b[34m\u001b[1mwandb\u001b[0m:           kl_global_validation 0.0\n",
      "\u001b[34m\u001b[1mwandb\u001b[0m:                 kl_local_train 42.68555\n",
      "\u001b[34m\u001b[1mwandb\u001b[0m:            kl_local_validation 41.63004\n",
      "\u001b[34m\u001b[1mwandb\u001b[0m:                      kl_weight 0.075\n",
      "\u001b[34m\u001b[1mwandb\u001b[0m:      reconstruction_loss_train 570.59357\n",
      "\u001b[34m\u001b[1mwandb\u001b[0m: reconstruction_loss_validation 572.95312\n",
      "\u001b[34m\u001b[1mwandb\u001b[0m:               train_loss_epoch 573.79541\n",
      "\u001b[34m\u001b[1mwandb\u001b[0m:                train_loss_step 579.30603\n",
      "\u001b[34m\u001b[1mwandb\u001b[0m:            trainer/global_step 85683\n",
      "\u001b[34m\u001b[1mwandb\u001b[0m:                validation_loss 576.07501\n",
      "\u001b[34m\u001b[1mwandb\u001b[0m: \n"
     ]
    },
    {
     "name": "stderr",
     "output_type": "stream",
     "text": [
      "\u001b[34m\u001b[1mwandb\u001b[0m: 🚀 View run \u001b[33mStep1_B\u001b[0m at: \u001b[34m\u001b[4mhttps://wandb.ai/inflammation/inflammation_atlas_R1/runs/jqsxfo5m\u001b[0m\n",
      "\u001b[34m\u001b[1mwandb\u001b[0m: Synced 5 W&B file(s), 0 media file(s), 0 artifact file(s) and 0 other file(s)\n"
     ]
    },
    {
     "name": "stderr",
     "output_type": "stream",
     "text": [
      "\u001b[34m\u001b[1mwandb\u001b[0m: Find logs at: \u001b[35m\u001b[1m./wandb/run-20240428_191846-jqsxfo5m/logs\u001b[0m\n"
     ]
    }
   ],
   "source": [
    "wandb.finish()"
   ]
  },
  {
   "cell_type": "markdown",
   "id": "d9fb1179-83c7-4ac6-b4aa-92dc7a349801",
   "metadata": {
    "papermill": {
     "duration": 0.009971,
     "end_time": "2024-04-28T19:40:20.606318",
     "exception": false,
     "start_time": "2024-04-28T19:40:20.596347",
     "status": "completed"
    },
    "tags": []
   },
   "source": [
    "### Extracting embedding space"
   ]
  },
  {
   "cell_type": "code",
   "execution_count": 16,
   "id": "caaa5832-0123-4c59-8ec6-f46a75f7a14e",
   "metadata": {
    "execution": {
     "iopub.execute_input": "2024-04-28T19:40:20.628001Z",
     "iopub.status.busy": "2024-04-28T19:40:20.627325Z",
     "iopub.status.idle": "2024-04-28T19:40:33.343253Z",
     "shell.execute_reply": "2024-04-28T19:40:33.341886Z"
    },
    "papermill": {
     "duration": 12.729377,
     "end_time": "2024-04-28T19:40:33.345638",
     "exception": false,
     "start_time": "2024-04-28T19:40:20.616261",
     "status": "completed"
    },
    "tags": []
   },
   "outputs": [],
   "source": [
    "adata.obsm['X_scVI'] = model.get_latent_representation()"
   ]
  },
  {
   "cell_type": "markdown",
   "id": "2f03e70b-839c-40a6-9fbb-d76bbd787419",
   "metadata": {
    "papermill": {
     "duration": 0.011953,
     "end_time": "2024-04-28T19:40:33.369610",
     "exception": false,
     "start_time": "2024-04-28T19:40:33.357657",
     "status": "completed"
    },
    "tags": []
   },
   "source": [
    "## Save the results"
   ]
  },
  {
   "cell_type": "code",
   "execution_count": 17,
   "id": "7b04049b-47fd-4b62-a1c0-c43dcc086d34",
   "metadata": {
    "execution": {
     "iopub.execute_input": "2024-04-28T19:40:33.395753Z",
     "iopub.status.busy": "2024-04-28T19:40:33.394563Z",
     "iopub.status.idle": "2024-04-28T19:41:10.677854Z",
     "shell.execute_reply": "2024-04-28T19:41:10.676772Z"
    },
    "papermill": {
     "duration": 37.29924,
     "end_time": "2024-04-28T19:41:10.680585",
     "exception": false,
     "start_time": "2024-04-28T19:40:33.381345",
     "status": "completed"
    },
    "tags": []
   },
   "outputs": [],
   "source": [
    "if overwriteData:\n",
    "    adata.write(here(f\"{workDir}/{cellGroup}/results/02_{annotationLevel}_{cellGroup}_HVGsubset_scVI.h5ad\"), compression=\"gzip\")\n",
    "    model.save(here(f\"{workDir}/{cellGroup}/results/02_{annotationLevel}_{cellGroup}_HVGsubset_scVI_MODEL/\"),\n",
    "               overwrite = True, \n",
    "               save_anndata = False )   "
   ]
  },
  {
   "cell_type": "code",
   "execution_count": 18,
   "id": "629ba2bd-f6be-44ef-8fca-bbdf891bf25f",
   "metadata": {
    "execution": {
     "iopub.execute_input": "2024-04-28T19:41:10.706834Z",
     "iopub.status.busy": "2024-04-28T19:41:10.706356Z",
     "iopub.status.idle": "2024-04-28T19:41:10.711054Z",
     "shell.execute_reply": "2024-04-28T19:41:10.709972Z"
    },
    "papermill": {
     "duration": 0.020592,
     "end_time": "2024-04-28T19:41:10.713396",
     "exception": false,
     "start_time": "2024-04-28T19:41:10.692804",
     "status": "completed"
    },
    "tags": []
   },
   "outputs": [],
   "source": [
    "# To load the model do (after loading corresponding adata):\n",
    "# model = scvi.model.SCVI.load(here('{}/results/01_{}_HVGsubset_scVI_MODEL/'.format(workDir, cellGroup)), \n",
    "#                              adata, \n",
    "#                              use_gpu=True)"
   ]
  },
  {
   "cell_type": "raw",
   "id": "975e84d0-f56b-498d-b3a8-c9219cf22e53",
   "metadata": {
    "papermill": {
     "duration": 0.012174,
     "end_time": "2024-04-28T19:41:10.737644",
     "exception": false,
     "start_time": "2024-04-28T19:41:10.725470",
     "status": "completed"
    },
    "tags": []
   },
   "source": [
    "session_info.show()"
   ]
  }
 ],
 "metadata": {
  "kernelspec": {
   "display_name": "Python 3 (ipykernel)",
   "language": "python",
   "name": "python3"
  },
  "language_info": {
   "codemirror_mode": {
    "name": "ipython",
    "version": 3
   },
   "file_extension": ".py",
   "mimetype": "text/x-python",
   "name": "python",
   "nbconvert_exporter": "python",
   "pygments_lexer": "ipython3",
   "version": "3.10.13"
  },
  "papermill": {
   "default_parameters": {},
   "duration": 1369.917625,
   "end_time": "2024-04-28T19:41:13.925080",
   "environment_variables": {},
   "exception": null,
   "input_path": "./B/02_integration_scVI.ipynb",
   "output_path": "./B/02_integration_scVI_executed.ipynb",
   "parameters": {},
   "start_time": "2024-04-28T19:18:24.007455",
   "version": "2.5.0"
  }
 },
 "nbformat": 4,
 "nbformat_minor": 5
}
