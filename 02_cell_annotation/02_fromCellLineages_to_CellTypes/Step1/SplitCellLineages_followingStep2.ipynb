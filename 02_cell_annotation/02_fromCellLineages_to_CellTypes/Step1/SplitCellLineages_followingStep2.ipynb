{
 "cells": [
  {
   "cell_type": "code",
   "execution_count": 1,
   "metadata": {
    "execution": {
     "iopub.execute_input": "2024-10-21T09:00:14.351634Z",
     "iopub.status.busy": "2024-10-21T09:00:14.351394Z",
     "iopub.status.idle": "2024-10-21T09:00:14.816268Z",
     "shell.execute_reply": "2024-10-21T09:00:14.815808Z",
     "shell.execute_reply.started": "2024-10-21T09:00:14.351614Z"
    }
   },
   "outputs": [],
   "source": [
    "# General modules\n",
    "import sys\n",
    "import os\n",
    "import session_info\n",
    "import warnings\n",
    "from pyprojroot.here import here\n",
    "import glob\n",
    "import pandas as pd\n",
    "import numpy as np\n",
    "import pickle\n",
    "\n",
    "# Setting some parameters\n",
    "warnings.filterwarnings(\"ignore\")\n",
    "sys.path.insert(1, str(here('bin')))\n",
    "\n",
    "# Import custom functions\n",
    "from customPythonFunctions import generate_split_dir\n",
    "\n",
    "\n",
    "#plt.style.use(['science','nature','no-latex'])\n",
    "dpi_fig_save = 300\n",
    "\n",
    "overwriteFigures = True\n",
    "overwriteData = True"
   ]
  },
  {
   "cell_type": "markdown",
   "metadata": {},
   "source": [
    "**Loading annotation pkl**"
   ]
  },
  {
   "cell_type": "code",
   "execution_count": 2,
   "metadata": {
    "execution": {
     "iopub.execute_input": "2024-10-21T09:00:14.926374Z",
     "iopub.status.busy": "2024-10-21T09:00:14.926127Z",
     "iopub.status.idle": "2024-10-21T09:00:14.929625Z",
     "shell.execute_reply": "2024-10-21T09:00:14.929252Z",
     "shell.execute_reply.started": "2024-10-21T09:00:14.926356Z"
    }
   },
   "outputs": [],
   "source": [
    "step = \"Step1\"\n",
    "next_step = \"Step2\""
   ]
  },
  {
   "cell_type": "code",
   "execution_count": 3,
   "metadata": {
    "execution": {
     "iopub.execute_input": "2024-10-21T09:00:15.248967Z",
     "iopub.status.busy": "2024-10-21T09:00:15.248809Z",
     "iopub.status.idle": "2024-10-21T09:00:15.251573Z",
     "shell.execute_reply": "2024-10-21T09:00:15.251019Z",
     "shell.execute_reply.started": "2024-10-21T09:00:15.248952Z"
    }
   },
   "outputs": [],
   "source": [
    "annotation_col_name = 'annotation_step_1'"
   ]
  },
  {
   "cell_type": "code",
   "execution_count": 4,
   "metadata": {
    "execution": {
     "iopub.execute_input": "2024-10-21T09:00:15.795889Z",
     "iopub.status.busy": "2024-10-21T09:00:15.795656Z",
     "iopub.status.idle": "2024-10-21T09:00:15.817447Z",
     "shell.execute_reply": "2024-10-21T09:00:15.817081Z",
     "shell.execute_reply.started": "2024-10-21T09:00:15.795869Z"
    }
   },
   "outputs": [],
   "source": [
    "file_paths = glob.glob(str(here(f\"02_fromCellLineages_to_CellTypes/{step}/*/results/INFLAMMATION_cluster_res*_annotated.pkl\")))\n",
    "# Load and concatenate all files into a single column DataFrame"
   ]
  },
  {
   "cell_type": "code",
   "execution_count": 5,
   "metadata": {
    "execution": {
     "iopub.execute_input": "2024-10-21T09:00:16.067821Z",
     "iopub.status.busy": "2024-10-21T09:00:16.067573Z",
     "iopub.status.idle": "2024-10-21T09:00:17.700868Z",
     "shell.execute_reply": "2024-10-21T09:00:17.700400Z",
     "shell.execute_reply.started": "2024-10-21T09:00:16.067804Z"
    }
   },
   "outputs": [
    {
     "name": "stdout",
     "output_type": "stream",
     "text": [
      "{'Doublets_Step1', 'pDC', 'DC', 'LowQuality_cells'}\n",
      "{'LowQuality_cells', 'Platelets'}\n",
      "{'Mono', 'DC', 'Doublets_Step1'}\n",
      "{'T_NK_Proliferative', 'T', 'LowQuality_cells', 'NK'}\n",
      "{'B', 'Plasma', 'Doublets_Step1'}\n",
      "{'HSC', 'Mono', 'RBC', 'LowQuality_cells', 'Doublets_Step1'}\n",
      "{'B', 'Doublets_Step1'}\n"
     ]
    }
   ],
   "source": [
    "for file_path in file_paths: \n",
    "    clusterAnnotDF = pd.read_pickle(file_path)\n",
    "    print(set(clusterAnnotDF[annotation_col_name]))"
   ]
  },
  {
   "cell_type": "code",
   "execution_count": 6,
   "metadata": {
    "execution": {
     "iopub.execute_input": "2024-10-21T09:00:18.489401Z",
     "iopub.status.busy": "2024-10-21T09:00:18.488954Z",
     "iopub.status.idle": "2024-10-21T09:00:19.054676Z",
     "shell.execute_reply": "2024-10-21T09:00:19.054113Z",
     "shell.execute_reply.started": "2024-10-21T09:00:18.489380Z"
    }
   },
   "outputs": [],
   "source": [
    "clusterAnnotDF = pd.concat([pd.read_pickle(file_path) for file_path in file_paths], axis=0)"
   ]
  },
  {
   "cell_type": "code",
   "execution_count": 7,
   "metadata": {
    "execution": {
     "iopub.execute_input": "2024-10-21T09:00:19.055810Z",
     "iopub.status.busy": "2024-10-21T09:00:19.055606Z",
     "iopub.status.idle": "2024-10-21T09:00:19.061578Z",
     "shell.execute_reply": "2024-10-21T09:00:19.061144Z",
     "shell.execute_reply.started": "2024-10-21T09:00:19.055792Z"
    }
   },
   "outputs": [
    {
     "name": "stdout",
     "output_type": "stream",
     "text": [
      "                                       annotation_step_1\n",
      "cellID                                                  \n",
      "SCGT00_L051_I53.3P_T0_AACCAACGTGGGATTG               pDC\n",
      "SCGT00_L051_I58.3P_T0_ACCTGAAAGTGCCAGA               pDC\n",
      "SCGT00_L051_I53.3P_T0_ACTATGGAGGCGCTCT               pDC\n",
      "SCGT00_L051_I55.3P_T0_ACTTTCACATGGGTTT               pDC\n",
      "SCGT00_L051_I52.3P_T0_ATCACAGTCATCGGGC               pDC\n"
     ]
    }
   ],
   "source": [
    "print(clusterAnnotDF.head())"
   ]
  },
  {
   "cell_type": "code",
   "execution_count": 8,
   "metadata": {
    "execution": {
     "iopub.execute_input": "2024-10-21T09:00:21.057620Z",
     "iopub.status.busy": "2024-10-21T09:00:21.057295Z",
     "iopub.status.idle": "2024-10-21T09:00:21.379901Z",
     "shell.execute_reply": "2024-10-21T09:00:21.379413Z",
     "shell.execute_reply.started": "2024-10-21T09:00:21.057599Z"
    }
   },
   "outputs": [
    {
     "data": {
      "text/plain": [
       "{'B',\n",
       " 'DC',\n",
       " 'Doublets_Step1',\n",
       " 'HSC',\n",
       " 'LowQuality_cells',\n",
       " 'Mono',\n",
       " 'NK',\n",
       " 'Plasma',\n",
       " 'Platelets',\n",
       " 'RBC',\n",
       " 'T',\n",
       " 'T_NK_Proliferative',\n",
       " 'pDC'}"
      ]
     },
     "execution_count": 8,
     "metadata": {},
     "output_type": "execute_result"
    }
   ],
   "source": [
    "set(clusterAnnotDF[annotation_col_name])"
   ]
  },
  {
   "cell_type": "code",
   "execution_count": 9,
   "metadata": {
    "execution": {
     "iopub.execute_input": "2024-10-21T09:00:22.219949Z",
     "iopub.status.busy": "2024-10-21T09:00:22.219654Z",
     "iopub.status.idle": "2024-10-21T09:00:22.222746Z",
     "shell.execute_reply": "2024-10-21T09:00:22.222284Z",
     "shell.execute_reply.started": "2024-10-21T09:00:22.219929Z"
    }
   },
   "outputs": [
    {
     "name": "stdout",
     "output_type": "stream",
     "text": [
      "(4918140, 1)\n"
     ]
    }
   ],
   "source": [
    "print(clusterAnnotDF.shape)"
   ]
  },
  {
   "cell_type": "code",
   "execution_count": 10,
   "metadata": {
    "execution": {
     "iopub.execute_input": "2024-10-21T09:00:23.536614Z",
     "iopub.status.busy": "2024-10-21T09:00:23.536307Z",
     "iopub.status.idle": "2024-10-21T09:00:25.799007Z",
     "shell.execute_reply": "2024-10-21T09:00:25.798469Z",
     "shell.execute_reply.started": "2024-10-21T09:00:23.536594Z"
    }
   },
   "outputs": [],
   "source": [
    "clusterAnnotDF.to_pickle(here(f\"02_fromCellLineages_to_CellTypes/{step}/{step}_clusterAnnotDF.pkl\"))"
   ]
  },
  {
   "cell_type": "markdown",
   "metadata": {},
   "source": [
    "**Updating master annotation DF**"
   ]
  },
  {
   "cell_type": "raw",
   "metadata": {
    "execution": {
     "iopub.execute_input": "2024-04-30T06:18:23.657409Z",
     "iopub.status.busy": "2024-04-30T06:18:23.657206Z"
    }
   },
   "source": [
    "master_AnnotDFpath = str(here(\"02_fromCellLineages_to_CellTypes/master_clusterAnnotDF.pkl\"))\n",
    "master_AnnotDF = pd.read_pickle(master_AnnotDFpath)"
   ]
  },
  {
   "cell_type": "raw",
   "metadata": {
    "execution": {
     "iopub.execute_input": "2024-04-30T06:12:55.877223Z",
     "iopub.status.busy": "2024-04-30T06:12:55.877027Z",
     "iopub.status.idle": "2024-04-30T06:13:00.509041Z",
     "shell.execute_reply": "2024-04-30T06:13:00.508562Z",
     "shell.execute_reply.started": "2024-04-30T06:12:55.877206Z"
    }
   },
   "source": [
    "last_column_name = master_AnnotDF.columns[-1]\n",
    "master_AnnotDF[annotation_col_name] = master_AnnotDF[last_column_name]\n",
    "master_AnnotDF[annotation_col_name].update(clusterAnnotDF[annotation_col_name])"
   ]
  },
  {
   "cell_type": "raw",
   "metadata": {
    "execution": {
     "iopub.execute_input": "2024-04-30T06:13:00.509843Z",
     "iopub.status.busy": "2024-04-30T06:13:00.509652Z",
     "iopub.status.idle": "2024-04-30T06:13:00.513325Z",
     "shell.execute_reply": "2024-04-30T06:13:00.512966Z",
     "shell.execute_reply.started": "2024-04-30T06:13:00.509827Z"
    }
   },
   "source": [
    "print(master_AnnotDF.head())"
   ]
  },
  {
   "cell_type": "raw",
   "metadata": {
    "execution": {
     "iopub.execute_input": "2024-04-30T06:13:00.514069Z",
     "iopub.status.busy": "2024-04-30T06:13:00.513838Z",
     "iopub.status.idle": "2024-04-30T06:13:00.527497Z",
     "shell.execute_reply": "2024-04-30T06:13:00.527146Z",
     "shell.execute_reply.started": "2024-04-30T06:13:00.514052Z"
    }
   },
   "source": [
    "print(master_AnnotDF.shape)"
   ]
  },
  {
   "cell_type": "raw",
   "metadata": {
    "execution": {
     "iopub.execute_input": "2024-04-30T06:14:41.352923Z",
     "iopub.status.busy": "2024-04-30T06:14:41.352466Z",
     "iopub.status.idle": "2024-04-30T06:14:41.670799Z",
     "shell.execute_reply": "2024-04-30T06:14:41.670404Z",
     "shell.execute_reply.started": "2024-04-30T06:14:41.352904Z"
    }
   },
   "source": [
    "set(master_AnnotDF[annotation_col_name])"
   ]
  },
  {
   "cell_type": "raw",
   "metadata": {},
   "source": [
    "master_AnnotDF.to_pickle(here(f\"02_fromCellLineages_to_CellTypes/master_clusterAnnotDF.pkl\"))"
   ]
  },
  {
   "cell_type": "code",
   "execution_count": 11,
   "metadata": {
    "execution": {
     "iopub.execute_input": "2024-05-22T12:54:23.432017Z",
     "iopub.status.busy": "2024-05-22T12:54:23.431813Z",
     "iopub.status.idle": "2024-05-22T12:54:25.439415Z",
     "shell.execute_reply": "2024-05-22T12:54:25.438899Z",
     "shell.execute_reply.started": "2024-05-22T12:54:23.431998Z"
    }
   },
   "outputs": [],
   "source": [
    "# For step 1, save clusterAnnotDF as master_AnnotDF\n",
    "master_AnnotDF = clusterAnnotDF\n",
    "clusterAnnotDF.to_pickle(here(f\"02_fromCellLineages_to_CellTypes/master_clusterAnnotDF.pkl\"))"
   ]
  },
  {
   "cell_type": "markdown",
   "metadata": {},
   "source": [
    "# Split Lineages"
   ]
  },
  {
   "cell_type": "code",
   "execution_count": 12,
   "metadata": {
    "execution": {
     "iopub.execute_input": "2024-05-22T12:54:25.441411Z",
     "iopub.status.busy": "2024-05-22T12:54:25.441213Z",
     "iopub.status.idle": "2024-05-22T12:54:25.443831Z",
     "shell.execute_reply": "2024-05-22T12:54:25.443420Z",
     "shell.execute_reply.started": "2024-05-22T12:54:25.441394Z"
    }
   },
   "outputs": [],
   "source": [
    "annotation_col_name = 'annotation_step_1'\n",
    "not_interesting_categories = [\"LowQuality_cells\", \"RBC\", \"Platelets\"]\n",
    "finished_categories = []"
   ]
  },
  {
   "cell_type": "code",
   "execution_count": 13,
   "metadata": {
    "execution": {
     "iopub.execute_input": "2024-05-22T12:54:25.444435Z",
     "iopub.status.busy": "2024-05-22T12:54:25.444285Z",
     "iopub.status.idle": "2024-05-22T12:54:25.650738Z",
     "shell.execute_reply": "2024-05-22T12:54:25.650302Z",
     "shell.execute_reply.started": "2024-05-22T12:54:25.444419Z"
    }
   },
   "outputs": [
    {
     "name": "stdout",
     "output_type": "stream",
     "text": [
      "annotation_step_1\n",
      "T                     2592743\n",
      "Mono                  1118573\n",
      "NK                     480196\n",
      "B                      358113\n",
      "Doublets_Step1         207963\n",
      "DC                      57358\n",
      "T_NK_Proliferative      35481\n",
      "pDC                     23188\n",
      "Plasma                  19748\n",
      "Platelets               14824\n",
      "HSC                      7292\n",
      "LowQuality_cells         1999\n",
      "RBC                       662\n",
      "dtype: int64\n"
     ]
    }
   ],
   "source": [
    "cell_counts = master_AnnotDF.groupby(annotation_col_name).size().sort_values(ascending=False)\n",
    "print(cell_counts)"
   ]
  },
  {
   "cell_type": "code",
   "execution_count": 14,
   "metadata": {
    "execution": {
     "iopub.execute_input": "2024-05-22T12:54:25.651474Z",
     "iopub.status.busy": "2024-05-22T12:54:25.651305Z",
     "iopub.status.idle": "2024-05-22T12:54:25.654938Z",
     "shell.execute_reply": "2024-05-22T12:54:25.654554Z",
     "shell.execute_reply.started": "2024-05-22T12:54:25.651457Z"
    }
   },
   "outputs": [
    {
     "name": "stdout",
     "output_type": "stream",
     "text": [
      "We are removing a total of 17485 cells\n",
      "LowQuality_cells: 1999 cells removed\n",
      "RBC: 662 cells removed\n",
      "Platelets: 14824 cells removed\n"
     ]
    }
   ],
   "source": [
    "total_cells_to_remove = cell_counts.loc[not_interesting_categories].sum()\n",
    "print(f\"We are removing a total of {total_cells_to_remove} cells\")\n",
    "for category in not_interesting_categories:\n",
    "    cells_removed = cell_counts.loc[category]\n",
    "    print(f\"{category}: {cells_removed} cells removed\")"
   ]
  },
  {
   "cell_type": "code",
   "execution_count": 15,
   "metadata": {
    "execution": {
     "iopub.execute_input": "2024-05-22T12:54:25.655588Z",
     "iopub.status.busy": "2024-05-22T12:54:25.655438Z",
     "iopub.status.idle": "2024-05-22T12:54:25.664455Z",
     "shell.execute_reply": "2024-05-22T12:54:25.664046Z",
     "shell.execute_reply.started": "2024-05-22T12:54:25.655571Z"
    }
   },
   "outputs": [
    {
     "name": "stdout",
     "output_type": "stream",
     "text": [
      "We have finished a total of 0 cells\n"
     ]
    }
   ],
   "source": [
    "total_cells_finished = cell_counts.loc[finished_categories].sum()\n",
    "print(f\"We have finished a total of {total_cells_finished} cells\")\n",
    "for category in finished_categories:\n",
    "    cells_finished = cell_counts.loc[category]\n",
    "    print(f\"{category}: {cells_finished} cells finished\")"
   ]
  },
  {
   "cell_type": "code",
   "execution_count": 16,
   "metadata": {
    "execution": {
     "iopub.execute_input": "2024-05-22T12:54:25.665232Z",
     "iopub.status.busy": "2024-05-22T12:54:25.664946Z",
     "iopub.status.idle": "2024-05-22T12:54:25.673877Z",
     "shell.execute_reply": "2024-05-22T12:54:25.673450Z",
     "shell.execute_reply.started": "2024-05-22T12:54:25.665217Z"
    }
   },
   "outputs": [
    {
     "name": "stdout",
     "output_type": "stream",
     "text": [
      "We are still missing a total of 4900655 cells\n",
      "B: 358113 cells missing\n",
      "DC: 57358 cells missing\n",
      "Doublets_Step1: 207963 cells missing\n",
      "HSC: 7292 cells missing\n",
      "Mono: 1118573 cells missing\n",
      "NK: 480196 cells missing\n",
      "Plasma: 19748 cells missing\n",
      "T: 2592743 cells missing\n",
      "T_NK_Proliferative: 35481 cells missing\n",
      "pDC: 23188 cells missing\n"
     ]
    }
   ],
   "source": [
    "next_step_categories = cell_counts.index.difference(set(finished_categories).union(set(not_interesting_categories)))\n",
    "total_cells_of_interest = cell_counts.loc[next_step_categories].sum()\n",
    "print(f\"We are still missing a total of {total_cells_of_interest} cells\")\n",
    "for category in next_step_categories:\n",
    "    cells_missing = cell_counts.loc[category]\n",
    "    print(f\"{category}: {cells_missing} cells missing\")"
   ]
  },
  {
   "cell_type": "code",
   "execution_count": 17,
   "metadata": {
    "execution": {
     "iopub.execute_input": "2024-05-22T12:54:25.674634Z",
     "iopub.status.busy": "2024-05-22T12:54:25.674373Z",
     "iopub.status.idle": "2024-05-22T12:54:25.842420Z",
     "shell.execute_reply": "2024-05-22T12:54:25.842013Z",
     "shell.execute_reply.started": "2024-05-22T12:54:25.674618Z"
    }
   },
   "outputs": [
    {
     "data": {
      "text/plain": [
       "array(['pDC', 'DC', 'LowQuality_cells', 'Doublets_Step1', 'Platelets',\n",
       "       'Mono', 'T', 'NK', 'T_NK_Proliferative', 'Plasma', 'B', 'HSC',\n",
       "       'RBC'], dtype=object)"
      ]
     },
     "execution_count": 17,
     "metadata": {},
     "output_type": "execute_result"
    }
   ],
   "source": [
    "master_AnnotDF[annotation_col_name].unique()"
   ]
  },
  {
   "cell_type": "raw",
   "metadata": {
    "execution": {
     "iopub.execute_input": "2024-04-30T06:22:34.460709Z",
     "iopub.status.busy": "2024-04-30T06:22:34.460424Z",
     "iopub.status.idle": "2024-04-30T06:22:34.918574Z",
     "shell.execute_reply": "2024-04-30T06:22:34.918135Z",
     "shell.execute_reply.started": "2024-04-30T06:22:34.460689Z"
    }
   },
   "source": [
    "template_path = here('01_fromDatasets_to_CellLineages/template')\n",
    "template_notebook_list = [str(template_path) + '/' + f for f in os.listdir(template_path) if f.endswith('.ipynb')]\n",
    "\n",
    "annotation_path = str(here(f\"02_fromCellLineages_to_CellTypes/{step}/{step}_clusterAnnotDF.pkl\"))\n",
    "targetdir = str(here(f'02_fromCellLineages_to_CellTypes/{next_step}'))\n",
    "os.makedirs(targetdir)\n",
    "\n",
    "for cellGroup in master_AnnotDF[annotation_col_name].unique():\n",
    "    if cellGroup in next_step_categories: \n",
    "        print(cellGroup)\n",
    "        # Generate the directory tree\n",
    "        os.makedirs(here('{}/{}/results/figures'.format(targetdir, cellGroup)), exist_ok=False)\n",
    "        for template_notebook in template_notebook_list:\n",
    "            generate_split_dir(cellGroup = cellGroup, \n",
    "                               annotationPath = annotation_path, \n",
    "                               targetDir = targetdir, \n",
    "                               annotation_col_name = annotation_col_name, # Davide changed this line after editing the function. Check if still works\n",
    "                               templateNotebook = template_notebook)\n",
    "    else: \n",
    "        print(f\"Skipping {cellGroup}\")"
   ]
  },
  {
   "cell_type": "code",
   "execution_count": 18,
   "metadata": {
    "execution": {
     "iopub.execute_input": "2024-05-22T12:54:25.843169Z",
     "iopub.status.busy": "2024-05-22T12:54:25.843007Z",
     "iopub.status.idle": "2024-05-22T12:54:26.456329Z",
     "shell.execute_reply": "2024-05-22T12:54:26.455760Z",
     "shell.execute_reply.started": "2024-05-22T12:54:25.843145Z"
    }
   },
   "outputs": [
    {
     "data": {
      "text/html": [
       "<details>\n",
       "<summary>Click to view session information</summary>\n",
       "<pre>\n",
       "-----\n",
       "customPythonFunctions       NA\n",
       "numpy                       1.26.4\n",
       "pandas                      2.2.0\n",
       "pyprojroot                  NA\n",
       "session_info                1.0.0\n",
       "-----\n",
       "</pre>\n",
       "<details>\n",
       "<summary>Click to view modules imported as dependencies</summary>\n",
       "<pre>\n",
       "anyio                       NA\n",
       "argcomplete                 NA\n",
       "arrow                       1.3.0\n",
       "asttokens                   NA\n",
       "attr                        23.2.0\n",
       "attrs                       23.2.0\n",
       "babel                       2.14.0\n",
       "brotli                      1.1.0\n",
       "certifi                     2024.02.02\n",
       "charset_normalizer          3.3.2\n",
       "colorama                    0.4.6\n",
       "comm                        0.2.1\n",
       "cython_runtime              NA\n",
       "dateutil                    2.8.2\n",
       "debugpy                     1.8.1\n",
       "decorator                   5.1.1\n",
       "exceptiongroup              1.2.0\n",
       "executing                   2.0.1\n",
       "fastjsonschema              NA\n",
       "fqdn                        NA\n",
       "idna                        3.6\n",
       "ipykernel                   6.29.2\n",
       "isoduration                 NA\n",
       "jedi                        0.19.1\n",
       "jinja2                      3.1.3\n",
       "json5                       NA\n",
       "jsonpointer                 2.4\n",
       "jsonschema                  4.21.1\n",
       "jsonschema_specifications   NA\n",
       "jupyter_events              0.9.0\n",
       "jupyter_server              2.12.5\n",
       "jupyterlab_server           2.25.3\n",
       "markupsafe                  2.1.5\n",
       "nbformat                    5.9.2\n",
       "overrides                   NA\n",
       "packaging                   23.2\n",
       "parso                       0.8.3\n",
       "pickleshare                 0.7.5\n",
       "platformdirs                4.2.0\n",
       "prometheus_client           NA\n",
       "prompt_toolkit              3.0.42\n",
       "psutil                      5.9.8\n",
       "pure_eval                   0.2.2\n",
       "pyarrow                     15.0.0\n",
       "pydev_ipython               NA\n",
       "pydevconsole                NA\n",
       "pydevd                      2.9.5\n",
       "pydevd_file_utils           NA\n",
       "pydevd_plugins              NA\n",
       "pydevd_tracing              NA\n",
       "pygments                    2.17.2\n",
       "pythonjsonlogger            NA\n",
       "pytz                        2024.1\n",
       "referencing                 NA\n",
       "requests                    2.31.0\n",
       "rfc3339_validator           0.1.4\n",
       "rfc3986_validator           0.1.1\n",
       "rpds                        NA\n",
       "send2trash                  NA\n",
       "simplejson                  3.19.2\n",
       "six                         1.16.0\n",
       "sniffio                     1.3.0\n",
       "socks                       1.7.1\n",
       "stack_data                  0.6.2\n",
       "tornado                     6.4\n",
       "traitlets                   5.14.1\n",
       "typing_extensions           NA\n",
       "uri_template                NA\n",
       "urllib3                     2.2.1\n",
       "wcwidth                     0.2.13\n",
       "webcolors                   1.13\n",
       "websocket                   1.7.0\n",
       "yaml                        6.0.1\n",
       "zmq                         25.1.2\n",
       "zoneinfo                    NA\n",
       "zstandard                   0.22.0\n",
       "</pre>\n",
       "</details> <!-- seems like this ends pre, so might as well be explicit -->\n",
       "<pre>\n",
       "-----\n",
       "IPython             8.21.0\n",
       "jupyter_client      8.6.0\n",
       "jupyter_core        5.7.1\n",
       "jupyterlab          4.1.2\n",
       "-----\n",
       "Python 3.10.13 | packaged by conda-forge | (main, Dec 23 2023, 15:36:39) [GCC 12.3.0]\n",
       "Linux-3.10.0-1160.88.1.el7.x86_64-x86_64-with-glibc2.17\n",
       "-----\n",
       "Session information updated at 2024-05-22 14:54\n",
       "</pre>\n",
       "</details>"
      ],
      "text/plain": [
       "<IPython.core.display.HTML object>"
      ]
     },
     "execution_count": 18,
     "metadata": {},
     "output_type": "execute_result"
    }
   ],
   "source": [
    "session_info.show()"
   ]
  },
  {
   "cell_type": "code",
   "execution_count": null,
   "metadata": {},
   "outputs": [],
   "source": []
  }
 ],
 "metadata": {
  "kernelspec": {
   "display_name": "Python 3 (ipykernel)",
   "language": "python",
   "name": "python3"
  },
  "language_info": {
   "codemirror_mode": {
    "name": "ipython",
    "version": 3
   },
   "file_extension": ".py",
   "mimetype": "text/x-python",
   "name": "python",
   "nbconvert_exporter": "python",
   "pygments_lexer": "ipython3",
   "version": "3.10.13"
  },
  "toc": {
   "base_numbering": 1,
   "nav_menu": {},
   "number_sections": true,
   "sideBar": true,
   "skip_h1_title": false,
   "title_cell": "Table of Contents",
   "title_sidebar": "Contents",
   "toc_cell": false,
   "toc_position": {},
   "toc_section_display": true,
   "toc_window_display": false
  }
 },
 "nbformat": 4,
 "nbformat_minor": 4
}
