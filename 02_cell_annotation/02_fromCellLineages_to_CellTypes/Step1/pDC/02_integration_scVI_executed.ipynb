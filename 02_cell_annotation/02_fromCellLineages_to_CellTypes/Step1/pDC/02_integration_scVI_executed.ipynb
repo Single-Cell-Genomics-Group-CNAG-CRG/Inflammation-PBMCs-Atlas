{
 "cells": [
  {
   "cell_type": "code",
   "execution_count": 1,
   "id": "2dd1425a-0c07-465e-b522-9e3cc5cb93a7",
   "metadata": {
    "execution": {
     "iopub.execute_input": "2024-04-28T21:17:07.323024Z",
     "iopub.status.busy": "2024-04-28T21:17:07.322431Z",
     "iopub.status.idle": "2024-04-28T21:17:13.147084Z",
     "shell.execute_reply": "2024-04-28T21:17:13.146287Z"
    },
    "papermill": {
     "duration": 5.832723,
     "end_time": "2024-04-28T21:17:13.148920",
     "exception": false,
     "start_time": "2024-04-28T21:17:07.316197",
     "status": "completed"
    },
    "tags": []
   },
   "outputs": [
    {
     "data": {
      "text/plain": [
       "True"
      ]
     },
     "execution_count": 1,
     "metadata": {},
     "output_type": "execute_result"
    }
   ],
   "source": [
    "import os\n",
    "import sys\n",
    "\n",
    "import numpy as np\n",
    "import matplotlib.pyplot as plt\n",
    "\n",
    "import scanpy as sc\n",
    "import scvi\n",
    "import torch\n",
    "\n",
    "from pytorch_lightning.loggers import WandbLogger\n",
    "import wandb\n",
    "from dotenv import load_dotenv\n",
    "\n",
    "import session_info\n",
    "import warnings\n",
    "from pyprojroot.here import here\n",
    "\n",
    "warnings.filterwarnings(\"ignore\")\n",
    "sys.path.insert(1, str(here('bin')))\n",
    "\n",
    "torch.set_float32_matmul_precision('high')\n",
    "\n",
    "#plt.style.use(['science','nature','no-latex'])\n",
    "dpi_fig_save = 300\n",
    "sc.set_figure_params(dpi=100, dpi_save=dpi_fig_save, vector_friendly=True)\n",
    "\n",
    "load_dotenv(here('.env'))"
   ]
  },
  {
   "cell_type": "code",
   "execution_count": 2,
   "id": "09c897fc-744b-43de-a681-718fb5d327fa",
   "metadata": {
    "execution": {
     "iopub.execute_input": "2024-04-28T21:17:13.159897Z",
     "iopub.status.busy": "2024-04-28T21:17:13.159613Z",
     "iopub.status.idle": "2024-04-28T21:17:13.163513Z",
     "shell.execute_reply": "2024-04-28T21:17:13.162847Z"
    },
    "papermill": {
     "duration": 0.01025,
     "end_time": "2024-04-28T21:17:13.165110",
     "exception": false,
     "start_time": "2024-04-28T21:17:13.154860",
     "status": "completed"
    },
    "tags": []
   },
   "outputs": [],
   "source": [
    "class CustomWandbLogger(WandbLogger):\n",
    "    @property\n",
    "    def save_dir(self):\n",
    "        return self.experiment.dir"
   ]
  },
  {
   "cell_type": "code",
   "execution_count": 3,
   "id": "8ee6662f-5d45-4137-80a5-bb0b9ae8d71f",
   "metadata": {
    "execution": {
     "iopub.execute_input": "2024-04-28T21:17:13.173977Z",
     "iopub.status.busy": "2024-04-28T21:17:13.173707Z",
     "iopub.status.idle": "2024-04-28T21:17:13.180300Z",
     "shell.execute_reply": "2024-04-28T21:17:13.179633Z"
    },
    "papermill": {
     "duration": 0.013157,
     "end_time": "2024-04-28T21:17:13.181825",
     "exception": false,
     "start_time": "2024-04-28T21:17:13.168668",
     "status": "completed"
    },
    "tags": []
   },
   "outputs": [
    {
     "name": "stderr",
     "output_type": "stream",
     "text": [
      "Seed set to 0\n"
     ]
    },
    {
     "name": "stdout",
     "output_type": "stream",
     "text": [
      "Last run with scvi-tools version: 1.1.2\n"
     ]
    }
   ],
   "source": [
    "scvi.settings.seed = 0\n",
    "print(\"Last run with scvi-tools version:\", scvi.__version__)"
   ]
  },
  {
   "cell_type": "markdown",
   "id": "a81037ff-5998-482a-ba86-520f757311a9",
   "metadata": {
    "papermill": {
     "duration": 0.003578,
     "end_time": "2024-04-28T21:17:13.189164",
     "exception": false,
     "start_time": "2024-04-28T21:17:13.185586",
     "status": "completed"
    },
    "tags": []
   },
   "source": [
    "**Setting parameters** "
   ]
  },
  {
   "cell_type": "code",
   "execution_count": 4,
   "id": "56c27966-8f10-4c93-8b1a-1fa75f005e41",
   "metadata": {
    "execution": {
     "iopub.execute_input": "2024-04-28T21:17:13.197838Z",
     "iopub.status.busy": "2024-04-28T21:17:13.197585Z",
     "iopub.status.idle": "2024-04-28T21:17:13.200932Z",
     "shell.execute_reply": "2024-04-28T21:17:13.200344Z"
    },
    "papermill": {
     "duration": 0.009613,
     "end_time": "2024-04-28T21:17:13.202492",
     "exception": false,
     "start_time": "2024-04-28T21:17:13.192879",
     "status": "completed"
    },
    "tags": []
   },
   "outputs": [],
   "source": [
    "overwriteFigures = True\n",
    "overwriteData = True"
   ]
  },
  {
   "cell_type": "code",
   "execution_count": 5,
   "id": "c86fccd3-a4fe-415b-8f4e-e2ceb3ec128a",
   "metadata": {
    "execution": {
     "iopub.execute_input": "2024-04-28T21:17:13.211495Z",
     "iopub.status.busy": "2024-04-28T21:17:13.210861Z",
     "iopub.status.idle": "2024-04-28T21:17:13.214647Z",
     "shell.execute_reply": "2024-04-28T21:17:13.213767Z"
    },
    "papermill": {
     "duration": 0.010109,
     "end_time": "2024-04-28T21:17:13.216234",
     "exception": false,
     "start_time": "2024-04-28T21:17:13.206125",
     "status": "completed"
    },
    "tags": []
   },
   "outputs": [],
   "source": [
    "cellGroup = 'pDC'\n",
    "workDir = os.getcwd()"
   ]
  },
  {
   "cell_type": "code",
   "execution_count": 6,
   "id": "2dee4d55-d168-467b-b867-a61fed9d6af1",
   "metadata": {
    "execution": {
     "iopub.execute_input": "2024-04-28T21:17:13.225480Z",
     "iopub.status.busy": "2024-04-28T21:17:13.224876Z",
     "iopub.status.idle": "2024-04-28T21:17:13.229361Z",
     "shell.execute_reply": "2024-04-28T21:17:13.228696Z"
    },
    "papermill": {
     "duration": 0.011065,
     "end_time": "2024-04-28T21:17:13.230972",
     "exception": false,
     "start_time": "2024-04-28T21:17:13.219907",
     "status": "completed"
    },
    "tags": []
   },
   "outputs": [],
   "source": [
    "annotationLevel = os.path.basename(os.path.normpath(workDir))"
   ]
  },
  {
   "cell_type": "code",
   "execution_count": 7,
   "id": "11e53cd5-b746-4152-89cb-c2f0c15d90b3",
   "metadata": {
    "execution": {
     "iopub.execute_input": "2024-04-28T21:17:13.239785Z",
     "iopub.status.busy": "2024-04-28T21:17:13.239532Z",
     "iopub.status.idle": "2024-04-28T21:17:13.243917Z",
     "shell.execute_reply": "2024-04-28T21:17:13.243303Z"
    },
    "papermill": {
     "duration": 0.010474,
     "end_time": "2024-04-28T21:17:13.245433",
     "exception": false,
     "start_time": "2024-04-28T21:17:13.234959",
     "status": "completed"
    },
    "tags": []
   },
   "outputs": [
    {
     "data": {
      "text/plain": [
       "'/home/jupyter/Inflammation-PBMCs-Atlas/02_cell_annotation/02_fromCellLineages_to_CellTypes/Step1'"
      ]
     },
     "execution_count": 7,
     "metadata": {},
     "output_type": "execute_result"
    }
   ],
   "source": [
    "workDir"
   ]
  },
  {
   "cell_type": "markdown",
   "id": "171d2f06-9a44-4fcb-b437-35dc546674b6",
   "metadata": {
    "papermill": {
     "duration": 0.00392,
     "end_time": "2024-04-28T21:17:13.253146",
     "exception": false,
     "start_time": "2024-04-28T21:17:13.249226",
     "status": "completed"
    },
    "tags": []
   },
   "source": [
    "**Load data**"
   ]
  },
  {
   "cell_type": "code",
   "execution_count": 8,
   "id": "429f34fe-dde6-4cc9-9f75-7de8f85c5ffe",
   "metadata": {
    "execution": {
     "iopub.execute_input": "2024-04-28T21:17:13.262791Z",
     "iopub.status.busy": "2024-04-28T21:17:13.262111Z",
     "iopub.status.idle": "2024-04-28T21:17:14.676972Z",
     "shell.execute_reply": "2024-04-28T21:17:14.676188Z"
    },
    "papermill": {
     "duration": 1.422433,
     "end_time": "2024-04-28T21:17:14.679704",
     "exception": false,
     "start_time": "2024-04-28T21:17:13.257271",
     "status": "completed"
    },
    "tags": []
   },
   "outputs": [
    {
     "data": {
      "text/plain": [
       "AnnData object with n_obs × n_vars = 30406 × 2858\n",
       "    obs: 'studyID', 'libraryID', 'sampleID', 'chemistry', 'technology', 'patientID', 'disease', 'timepoint_replicate', 'treatmentStatus', 'therapyResponse', 'sex', 'age', 'BMI', 'binned_age', 'diseaseStatus', 'smokingStatus', 'ethnicity', 'institute', 'diseaseGroup', 'n_genes_by_counts', 'log1p_n_genes_by_counts', 'total_counts', 'log1p_total_counts', 'pct_counts_in_top_20_genes', 'total_counts_mt', 'log1p_total_counts_mt', 'pct_counts_mt', 'total_counts_ribo', 'log1p_total_counts_ribo', 'pct_counts_ribo', 'total_counts_hb', 'log1p_total_counts_hb', 'pct_counts_hb', 'total_counts_plt', 'log1p_total_counts_plt', 'pct_counts_plt', 'doublet_score', 'predicted_doublet', 'S_score', 'G2M_score', 'phase'\n",
       "    var: 'hgnc_id', 'symbol', 'locus_group', 'HUGO_status', 'mt', 'ribo', 'hb', 'plt', 'n_cells_by_counts', 'mean_counts', 'log1p_mean_counts', 'pct_dropout_by_counts', 'total_counts', 'log1p_total_counts', 'highly_variable'\n",
       "    uns: 'chemistry_colors', 'log1p'\n",
       "    layers: 'counts', 'log1p_10e4_counts'"
      ]
     },
     "execution_count": 8,
     "metadata": {},
     "output_type": "execute_result"
    }
   ],
   "source": [
    "adata = sc.read_h5ad(here(f\"{workDir}/{cellGroup}/results/01_{cellGroup}_normalized_HVGsubset.h5ad\"))\n",
    "adata"
   ]
  },
  {
   "cell_type": "markdown",
   "id": "8ac79f3b-d5af-41fa-8904-1e9ac1cbe2fb",
   "metadata": {
    "papermill": {
     "duration": 0.005466,
     "end_time": "2024-04-28T21:17:14.692424",
     "exception": false,
     "start_time": "2024-04-28T21:17:14.686958",
     "status": "completed"
    },
    "tags": []
   },
   "source": [
    "## scVI integration"
   ]
  },
  {
   "cell_type": "markdown",
   "id": "9544847d-d17f-4811-b14b-760446d54d32",
   "metadata": {
    "execution": {
     "iopub.execute_input": "2024-03-25T16:49:04.004504Z",
     "iopub.status.busy": "2024-03-25T16:49:04.004143Z",
     "iopub.status.idle": "2024-03-25T16:49:04.010148Z",
     "shell.execute_reply": "2024-03-25T16:49:04.009146Z",
     "shell.execute_reply.started": "2024-03-25T16:49:04.004477Z"
    },
    "papermill": {
     "duration": 0.005758,
     "end_time": "2024-04-28T21:17:14.704954",
     "exception": false,
     "start_time": "2024-04-28T21:17:14.699196",
     "status": "completed"
    },
    "tags": []
   },
   "source": [
    "**scVI parameters**"
   ]
  },
  {
   "cell_type": "code",
   "execution_count": 9,
   "id": "208966eb-545a-4c02-854c-0ed0487ef5b3",
   "metadata": {
    "execution": {
     "iopub.execute_input": "2024-04-28T21:17:14.719186Z",
     "iopub.status.busy": "2024-04-28T21:17:14.718887Z",
     "iopub.status.idle": "2024-04-28T21:17:14.724704Z",
     "shell.execute_reply": "2024-04-28T21:17:14.723964Z"
    },
    "papermill": {
     "duration": 0.014551,
     "end_time": "2024-04-28T21:17:14.726320",
     "exception": false,
     "start_time": "2024-04-28T21:17:14.711769",
     "status": "completed"
    },
    "tags": []
   },
   "outputs": [],
   "source": [
    "# https://docs.scvi-tools.org/en/stable/api/reference/scvi.train.Trainer.html#scvi.train.Trainer\n",
    "setup_kwargs = dict(\n",
    "    layer=\"counts\", \n",
    "    batch_key='libraryID', \n",
    "    categorical_covariate_keys = ['studyID', 'chemistry', 'disease', 'sampleID'],\n",
    "    labels_key = 'chemistry'    \n",
    ")\n",
    "\n",
    "scvi_kwargs = dict(n_hidden=512,\n",
    "                   n_latent=20, # reduceds after step 00 (main)\n",
    "                   n_layers=2,\n",
    "                   gene_likelihood='nb',\n",
    "                   dispersion='gene-label')\n",
    "\n",
    "trainer_kwargs = dict(\n",
    "    checkpointing_monitor = 'elbo_validation',\n",
    "    early_stopping_monitor = 'reconstruction_loss_validation',\n",
    "    early_stopping_patience = 10,\n",
    "    early_stopping_min_delta=0.1,\n",
    "    early_stopping = True,\n",
    "    max_epochs = 1000,\n",
    "\n",
    "    #logger = # wandb\n",
    ")\n",
    "# https://docs.scvi-tools.org/en/stable/api/reference/scvi.train.TrainingPlan.html#scvi.train.TrainingPlan\n",
    "plan_kwargs = dict(\n",
    "    lr = 5e-4,\n",
    "    #reduce_lr_on_plateau = True\n",
    ")\n",
    "\n",
    "# https://docs.scvi-tools.org/en/stable/api/reference/scvi.module.VAE.html#scvi.module.VAE\n",
    "#vae = dict(\n",
    "#    use_layer_norm='both',\n",
    "#    use_batch_norm='none',\n",
    "#    encode_covariates=True,\n",
    "#    deeply_inject_covariates=False\n",
    "#)\n",
    "parameter_dict = setup_kwargs | scvi_kwargs | trainer_kwargs | plan_kwargs"
   ]
  },
  {
   "cell_type": "markdown",
   "id": "1362366a-c16b-4c11-964b-b9c5f82f7b29",
   "metadata": {
    "papermill": {
     "duration": 0.004314,
     "end_time": "2024-04-28T21:17:14.734306",
     "exception": false,
     "start_time": "2024-04-28T21:17:14.729992",
     "status": "completed"
    },
    "tags": []
   },
   "source": [
    "**wandb parameter**"
   ]
  },
  {
   "cell_type": "code",
   "execution_count": 10,
   "id": "0496e33a-8ca5-423f-b42f-34a59760708c",
   "metadata": {
    "execution": {
     "iopub.execute_input": "2024-04-28T21:17:14.744020Z",
     "iopub.status.busy": "2024-04-28T21:17:14.743741Z",
     "iopub.status.idle": "2024-04-28T21:17:14.748708Z",
     "shell.execute_reply": "2024-04-28T21:17:14.747937Z"
    },
    "papermill": {
     "duration": 0.011682,
     "end_time": "2024-04-28T21:17:14.750324",
     "exception": false,
     "start_time": "2024-04-28T21:17:14.738642",
     "status": "completed"
    },
    "tags": []
   },
   "outputs": [
    {
     "data": {
      "text/plain": [
       "'Step1_pDC'"
      ]
     },
     "execution_count": 10,
     "metadata": {},
     "output_type": "execute_result"
    }
   ],
   "source": [
    "run_name = f\"{annotationLevel}_{cellGroup}\"\n",
    "run_name"
   ]
  },
  {
   "cell_type": "code",
   "execution_count": 11,
   "id": "b0021327-95a2-4002-bf32-2c5779a99505",
   "metadata": {
    "execution": {
     "iopub.execute_input": "2024-04-28T21:17:14.759758Z",
     "iopub.status.busy": "2024-04-28T21:17:14.759511Z",
     "iopub.status.idle": "2024-04-28T21:17:14.893021Z",
     "shell.execute_reply": "2024-04-28T21:17:14.892333Z"
    },
    "papermill": {
     "duration": 0.140563,
     "end_time": "2024-04-28T21:17:14.895278",
     "exception": false,
     "start_time": "2024-04-28T21:17:14.754715",
     "status": "completed"
    },
    "tags": []
   },
   "outputs": [],
   "source": [
    "logger = CustomWandbLogger(name = run_name, project='inflammation_atlas_R1', config=parameter_dict)"
   ]
  },
  {
   "cell_type": "markdown",
   "id": "c237eee1-a976-4915-9b7f-b014bf33f47d",
   "metadata": {
    "papermill": {
     "duration": 0.004301,
     "end_time": "2024-04-28T21:17:14.903990",
     "exception": false,
     "start_time": "2024-04-28T21:17:14.899689",
     "status": "completed"
    },
    "tags": []
   },
   "source": [
    "**Running integration**"
   ]
  },
  {
   "cell_type": "code",
   "execution_count": 12,
   "id": "aff97c53-1aba-462e-8a77-f1aec9cf724c",
   "metadata": {
    "execution": {
     "iopub.execute_input": "2024-04-28T21:17:14.913632Z",
     "iopub.status.busy": "2024-04-28T21:17:14.913318Z",
     "iopub.status.idle": "2024-04-28T21:17:15.477396Z",
     "shell.execute_reply": "2024-04-28T21:17:15.476544Z"
    },
    "papermill": {
     "duration": 0.571472,
     "end_time": "2024-04-28T21:17:15.479662",
     "exception": false,
     "start_time": "2024-04-28T21:17:14.908190",
     "status": "completed"
    },
    "tags": []
   },
   "outputs": [],
   "source": [
    "scvi.model.SCVI.setup_anndata(adata, \n",
    "                              **setup_kwargs)"
   ]
  },
  {
   "cell_type": "code",
   "execution_count": 13,
   "id": "1a56f448-cf44-47c1-81a4-a89caa930fec",
   "metadata": {
    "execution": {
     "iopub.execute_input": "2024-04-28T21:17:15.492675Z",
     "iopub.status.busy": "2024-04-28T21:17:15.492321Z",
     "iopub.status.idle": "2024-04-28T21:17:15.823185Z",
     "shell.execute_reply": "2024-04-28T21:17:15.821996Z"
    },
    "papermill": {
     "duration": 0.341297,
     "end_time": "2024-04-28T21:17:15.825855",
     "exception": false,
     "start_time": "2024-04-28T21:17:15.484558",
     "status": "completed"
    },
    "tags": []
   },
   "outputs": [],
   "source": [
    "model = scvi.model.SCVI(adata, **scvi_kwargs)"
   ]
  },
  {
   "cell_type": "code",
   "execution_count": 14,
   "id": "2735f010-4f24-4ae8-9740-a8cfeb335e9a",
   "metadata": {
    "execution": {
     "iopub.execute_input": "2024-04-28T21:17:15.840212Z",
     "iopub.status.busy": "2024-04-28T21:17:15.839769Z",
     "iopub.status.idle": "2024-04-28T21:19:09.920515Z",
     "shell.execute_reply": "2024-04-28T21:19:09.919766Z"
    },
    "papermill": {
     "duration": 114.08943,
     "end_time": "2024-04-28T21:19:09.922277",
     "exception": false,
     "start_time": "2024-04-28T21:17:15.832847",
     "status": "completed"
    },
    "tags": []
   },
   "outputs": [
    {
     "name": "stderr",
     "output_type": "stream",
     "text": [
      "GPU available: True (cuda), used: True\n"
     ]
    },
    {
     "name": "stderr",
     "output_type": "stream",
     "text": [
      "TPU available: False, using: 0 TPU cores\n"
     ]
    },
    {
     "name": "stderr",
     "output_type": "stream",
     "text": [
      "IPU available: False, using: 0 IPUs\n"
     ]
    },
    {
     "name": "stderr",
     "output_type": "stream",
     "text": [
      "HPU available: False, using: 0 HPUs\n"
     ]
    },
    {
     "name": "stderr",
     "output_type": "stream",
     "text": [
      "\u001b[34m\u001b[1mwandb\u001b[0m: Currently logged in as: \u001b[33mdav1989\u001b[0m (\u001b[33minflammation\u001b[0m). Use \u001b[1m`wandb login --relogin`\u001b[0m to force relogin\n"
     ]
    },
    {
     "name": "stderr",
     "output_type": "stream",
     "text": [
      "\u001b[34m\u001b[1mwandb\u001b[0m: wandb version 0.16.6 is available!  To upgrade, please run:\n",
      "\u001b[34m\u001b[1mwandb\u001b[0m:  $ pip install wandb --upgrade\n"
     ]
    },
    {
     "name": "stderr",
     "output_type": "stream",
     "text": [
      "\u001b[34m\u001b[1mwandb\u001b[0m: Tracking run with wandb version 0.16.3\n"
     ]
    },
    {
     "name": "stderr",
     "output_type": "stream",
     "text": [
      "\u001b[34m\u001b[1mwandb\u001b[0m: Run data is saved locally in \u001b[35m\u001b[1m./wandb/run-20240428_211721-w24io059\u001b[0m\n",
      "\u001b[34m\u001b[1mwandb\u001b[0m: Run \u001b[1m`wandb offline`\u001b[0m to turn off syncing.\n"
     ]
    },
    {
     "name": "stderr",
     "output_type": "stream",
     "text": [
      "\u001b[34m\u001b[1mwandb\u001b[0m: Syncing run \u001b[33mStep1_pDC\u001b[0m\n"
     ]
    },
    {
     "name": "stderr",
     "output_type": "stream",
     "text": [
      "\u001b[34m\u001b[1mwandb\u001b[0m: ⭐️ View project at \u001b[34m\u001b[4mhttps://wandb.ai/inflammation/inflammation_atlas_R1\u001b[0m\n"
     ]
    },
    {
     "name": "stderr",
     "output_type": "stream",
     "text": [
      "\u001b[34m\u001b[1mwandb\u001b[0m: 🚀 View run at \u001b[34m\u001b[4mhttps://wandb.ai/inflammation/inflammation_atlas_R1/runs/w24io059\u001b[0m\n"
     ]
    },
    {
     "name": "stderr",
     "output_type": "stream",
     "text": [
      "LOCAL_RANK: 0 - CUDA_VISIBLE_DEVICES: [0]\n"
     ]
    },
    {
     "name": "stdout",
     "output_type": "stream",
     "text": [
      "\r",
      "Training:   0%|          | 0/1000 [00:00<?, ?it/s]"
     ]
    },
    {
     "name": "stdout",
     "output_type": "stream",
     "text": [
      "\r",
      "Epoch 1/1000:   0%|          | 0/1000 [00:00<?, ?it/s]"
     ]
    },
    {
     "name": "stdout",
     "output_type": "stream",
     "text": [
      "\r",
      "Epoch 1/1000:   0%|          | 1/1000 [00:04<1:17:20,  4.65s/it]"
     ]
    },
    {
     "name": "stdout",
     "output_type": "stream",
     "text": [
      "\r",
      "Epoch 1/1000:   0%|          | 1/1000 [00:04<1:17:20,  4.65s/it, v_num=o059, train_loss_step=1.16e+3, train_loss_epoch=1.21e+3]"
     ]
    },
    {
     "name": "stdout",
     "output_type": "stream",
     "text": [
      "\r",
      "Epoch 2/1000:   0%|          | 1/1000 [00:04<1:17:20,  4.65s/it, v_num=o059, train_loss_step=1.16e+3, train_loss_epoch=1.21e+3]"
     ]
    },
    {
     "name": "stdout",
     "output_type": "stream",
     "text": [
      "\r",
      "Epoch 2/1000:   0%|          | 2/1000 [00:07<1:02:02,  3.73s/it, v_num=o059, train_loss_step=1.16e+3, train_loss_epoch=1.21e+3]"
     ]
    },
    {
     "name": "stdout",
     "output_type": "stream",
     "text": [
      "\r",
      "Epoch 2/1000:   0%|          | 2/1000 [00:07<1:02:02,  3.73s/it, v_num=o059, train_loss_step=1.22e+3, train_loss_epoch=1.16e+3]"
     ]
    },
    {
     "name": "stdout",
     "output_type": "stream",
     "text": [
      "\r",
      "Epoch 3/1000:   0%|          | 2/1000 [00:07<1:02:02,  3.73s/it, v_num=o059, train_loss_step=1.22e+3, train_loss_epoch=1.16e+3]"
     ]
    },
    {
     "name": "stdout",
     "output_type": "stream",
     "text": [
      "\r",
      "Epoch 3/1000:   0%|          | 3/1000 [00:11<1:04:16,  3.87s/it, v_num=o059, train_loss_step=1.22e+3, train_loss_epoch=1.16e+3]"
     ]
    },
    {
     "name": "stdout",
     "output_type": "stream",
     "text": [
      "\r",
      "Epoch 3/1000:   0%|          | 3/1000 [00:11<1:04:16,  3.87s/it, v_num=o059, train_loss_step=1.13e+3, train_loss_epoch=1.15e+3]"
     ]
    },
    {
     "name": "stdout",
     "output_type": "stream",
     "text": [
      "\r",
      "Epoch 4/1000:   0%|          | 3/1000 [00:11<1:04:16,  3.87s/it, v_num=o059, train_loss_step=1.13e+3, train_loss_epoch=1.15e+3]"
     ]
    },
    {
     "name": "stdout",
     "output_type": "stream",
     "text": [
      "\r",
      "Epoch 4/1000:   0%|          | 4/1000 [00:15<1:04:12,  3.87s/it, v_num=o059, train_loss_step=1.13e+3, train_loss_epoch=1.15e+3]"
     ]
    },
    {
     "name": "stdout",
     "output_type": "stream",
     "text": [
      "\r",
      "Epoch 4/1000:   0%|          | 4/1000 [00:15<1:04:12,  3.87s/it, v_num=o059, train_loss_step=1.09e+3, train_loss_epoch=1.14e+3]"
     ]
    },
    {
     "name": "stdout",
     "output_type": "stream",
     "text": [
      "\r",
      "Epoch 5/1000:   0%|          | 4/1000 [00:15<1:04:12,  3.87s/it, v_num=o059, train_loss_step=1.09e+3, train_loss_epoch=1.14e+3]"
     ]
    },
    {
     "name": "stdout",
     "output_type": "stream",
     "text": [
      "\r",
      "Epoch 5/1000:   0%|          | 5/1000 [00:18<59:35,  3.59s/it, v_num=o059, train_loss_step=1.09e+3, train_loss_epoch=1.14e+3]  "
     ]
    },
    {
     "name": "stdout",
     "output_type": "stream",
     "text": [
      "\r",
      "Epoch 5/1000:   0%|          | 5/1000 [00:18<59:35,  3.59s/it, v_num=o059, train_loss_step=1.1e+3, train_loss_epoch=1.14e+3] "
     ]
    },
    {
     "name": "stdout",
     "output_type": "stream",
     "text": [
      "\r",
      "Epoch 6/1000:   0%|          | 5/1000 [00:18<59:35,  3.59s/it, v_num=o059, train_loss_step=1.1e+3, train_loss_epoch=1.14e+3]"
     ]
    },
    {
     "name": "stdout",
     "output_type": "stream",
     "text": [
      "\r",
      "Epoch 6/1000:   1%|          | 6/1000 [00:22<57:59,  3.50s/it, v_num=o059, train_loss_step=1.1e+3, train_loss_epoch=1.14e+3]"
     ]
    },
    {
     "name": "stdout",
     "output_type": "stream",
     "text": [
      "\r",
      "Epoch 6/1000:   1%|          | 6/1000 [00:22<57:59,  3.50s/it, v_num=o059, train_loss_step=1.23e+3, train_loss_epoch=1.13e+3]"
     ]
    },
    {
     "name": "stdout",
     "output_type": "stream",
     "text": [
      "\r",
      "Epoch 7/1000:   1%|          | 6/1000 [00:22<57:59,  3.50s/it, v_num=o059, train_loss_step=1.23e+3, train_loss_epoch=1.13e+3]"
     ]
    },
    {
     "name": "stdout",
     "output_type": "stream",
     "text": [
      "\r",
      "Epoch 7/1000:   1%|          | 7/1000 [00:25<59:20,  3.59s/it, v_num=o059, train_loss_step=1.23e+3, train_loss_epoch=1.13e+3]"
     ]
    },
    {
     "name": "stdout",
     "output_type": "stream",
     "text": [
      "\r",
      "Epoch 7/1000:   1%|          | 7/1000 [00:25<59:20,  3.59s/it, v_num=o059, train_loss_step=1.17e+3, train_loss_epoch=1.13e+3]"
     ]
    },
    {
     "name": "stdout",
     "output_type": "stream",
     "text": [
      "\r",
      "Epoch 8/1000:   1%|          | 7/1000 [00:25<59:20,  3.59s/it, v_num=o059, train_loss_step=1.17e+3, train_loss_epoch=1.13e+3]"
     ]
    },
    {
     "name": "stdout",
     "output_type": "stream",
     "text": [
      "\r",
      "Epoch 8/1000:   1%|          | 8/1000 [00:30<1:03:24,  3.84s/it, v_num=o059, train_loss_step=1.17e+3, train_loss_epoch=1.13e+3]"
     ]
    },
    {
     "name": "stdout",
     "output_type": "stream",
     "text": [
      "\r",
      "Epoch 8/1000:   1%|          | 8/1000 [00:30<1:03:24,  3.84s/it, v_num=o059, train_loss_step=1.2e+3, train_loss_epoch=1.13e+3] "
     ]
    },
    {
     "name": "stdout",
     "output_type": "stream",
     "text": [
      "\r",
      "Epoch 9/1000:   1%|          | 8/1000 [00:30<1:03:24,  3.84s/it, v_num=o059, train_loss_step=1.2e+3, train_loss_epoch=1.13e+3]"
     ]
    },
    {
     "name": "stdout",
     "output_type": "stream",
     "text": [
      "\r",
      "Epoch 9/1000:   1%|          | 9/1000 [00:33<1:01:02,  3.70s/it, v_num=o059, train_loss_step=1.2e+3, train_loss_epoch=1.13e+3]"
     ]
    },
    {
     "name": "stdout",
     "output_type": "stream",
     "text": [
      "\r",
      "Epoch 9/1000:   1%|          | 9/1000 [00:33<1:01:02,  3.70s/it, v_num=o059, train_loss_step=1.15e+3, train_loss_epoch=1.12e+3]"
     ]
    },
    {
     "name": "stdout",
     "output_type": "stream",
     "text": [
      "\r",
      "Epoch 10/1000:   1%|          | 9/1000 [00:33<1:01:02,  3.70s/it, v_num=o059, train_loss_step=1.15e+3, train_loss_epoch=1.12e+3]"
     ]
    },
    {
     "name": "stdout",
     "output_type": "stream",
     "text": [
      "\r",
      "Epoch 10/1000:   1%|          | 10/1000 [00:36<58:59,  3.58s/it, v_num=o059, train_loss_step=1.15e+3, train_loss_epoch=1.12e+3] "
     ]
    },
    {
     "name": "stdout",
     "output_type": "stream",
     "text": [
      "\r",
      "Epoch 10/1000:   1%|          | 10/1000 [00:36<58:59,  3.58s/it, v_num=o059, train_loss_step=1.11e+3, train_loss_epoch=1.12e+3]"
     ]
    },
    {
     "name": "stdout",
     "output_type": "stream",
     "text": [
      "\r",
      "Epoch 11/1000:   1%|          | 10/1000 [00:36<58:59,  3.58s/it, v_num=o059, train_loss_step=1.11e+3, train_loss_epoch=1.12e+3]"
     ]
    },
    {
     "name": "stdout",
     "output_type": "stream",
     "text": [
      "\r",
      "Epoch 11/1000:   1%|          | 11/1000 [00:40<59:11,  3.59s/it, v_num=o059, train_loss_step=1.11e+3, train_loss_epoch=1.12e+3]"
     ]
    },
    {
     "name": "stdout",
     "output_type": "stream",
     "text": [
      "\r",
      "Epoch 11/1000:   1%|          | 11/1000 [00:40<59:11,  3.59s/it, v_num=o059, train_loss_step=1.11e+3, train_loss_epoch=1.12e+3]"
     ]
    },
    {
     "name": "stdout",
     "output_type": "stream",
     "text": [
      "\r",
      "Epoch 12/1000:   1%|          | 11/1000 [00:40<59:11,  3.59s/it, v_num=o059, train_loss_step=1.11e+3, train_loss_epoch=1.12e+3]"
     ]
    },
    {
     "name": "stdout",
     "output_type": "stream",
     "text": [
      "\r",
      "Epoch 12/1000:   1%|          | 12/1000 [00:45<1:03:49,  3.88s/it, v_num=o059, train_loss_step=1.11e+3, train_loss_epoch=1.12e+3]"
     ]
    },
    {
     "name": "stdout",
     "output_type": "stream",
     "text": [
      "\r",
      "Epoch 12/1000:   1%|          | 12/1000 [00:45<1:03:49,  3.88s/it, v_num=o059, train_loss_step=1.16e+3, train_loss_epoch=1.11e+3]"
     ]
    },
    {
     "name": "stdout",
     "output_type": "stream",
     "text": [
      "\r",
      "Epoch 13/1000:   1%|          | 12/1000 [00:45<1:03:49,  3.88s/it, v_num=o059, train_loss_step=1.16e+3, train_loss_epoch=1.11e+3]"
     ]
    },
    {
     "name": "stdout",
     "output_type": "stream",
     "text": [
      "\r",
      "Epoch 13/1000:   1%|▏         | 13/1000 [00:48<1:02:02,  3.77s/it, v_num=o059, train_loss_step=1.16e+3, train_loss_epoch=1.11e+3]"
     ]
    },
    {
     "name": "stdout",
     "output_type": "stream",
     "text": [
      "\r",
      "Epoch 13/1000:   1%|▏         | 13/1000 [00:48<1:02:02,  3.77s/it, v_num=o059, train_loss_step=1.19e+3, train_loss_epoch=1.11e+3]"
     ]
    },
    {
     "name": "stdout",
     "output_type": "stream",
     "text": [
      "\r",
      "Epoch 14/1000:   1%|▏         | 13/1000 [00:48<1:02:02,  3.77s/it, v_num=o059, train_loss_step=1.19e+3, train_loss_epoch=1.11e+3]"
     ]
    },
    {
     "name": "stdout",
     "output_type": "stream",
     "text": [
      "\r",
      "Epoch 14/1000:   1%|▏         | 14/1000 [00:51<59:48,  3.64s/it, v_num=o059, train_loss_step=1.19e+3, train_loss_epoch=1.11e+3]  "
     ]
    },
    {
     "name": "stdout",
     "output_type": "stream",
     "text": [
      "\r",
      "Epoch 14/1000:   1%|▏         | 14/1000 [00:51<59:48,  3.64s/it, v_num=o059, train_loss_step=1.25e+3, train_loss_epoch=1.11e+3]"
     ]
    },
    {
     "name": "stdout",
     "output_type": "stream",
     "text": [
      "\r",
      "Epoch 15/1000:   1%|▏         | 14/1000 [00:51<59:48,  3.64s/it, v_num=o059, train_loss_step=1.25e+3, train_loss_epoch=1.11e+3]"
     ]
    },
    {
     "name": "stdout",
     "output_type": "stream",
     "text": [
      "\r",
      "Epoch 15/1000:   2%|▏         | 15/1000 [00:55<58:13,  3.55s/it, v_num=o059, train_loss_step=1.25e+3, train_loss_epoch=1.11e+3]"
     ]
    },
    {
     "name": "stdout",
     "output_type": "stream",
     "text": [
      "\r",
      "Epoch 15/1000:   2%|▏         | 15/1000 [00:55<58:13,  3.55s/it, v_num=o059, train_loss_step=1.1e+3, train_loss_epoch=1.11e+3] "
     ]
    },
    {
     "name": "stdout",
     "output_type": "stream",
     "text": [
      "\r",
      "Epoch 16/1000:   2%|▏         | 15/1000 [00:55<58:13,  3.55s/it, v_num=o059, train_loss_step=1.1e+3, train_loss_epoch=1.11e+3]"
     ]
    },
    {
     "name": "stdout",
     "output_type": "stream",
     "text": [
      "\r",
      "Epoch 16/1000:   2%|▏         | 16/1000 [00:59<1:02:56,  3.84s/it, v_num=o059, train_loss_step=1.1e+3, train_loss_epoch=1.11e+3]"
     ]
    },
    {
     "name": "stdout",
     "output_type": "stream",
     "text": [
      "\r",
      "Epoch 16/1000:   2%|▏         | 16/1000 [00:59<1:02:56,  3.84s/it, v_num=o059, train_loss_step=1.16e+3, train_loss_epoch=1.1e+3]"
     ]
    },
    {
     "name": "stdout",
     "output_type": "stream",
     "text": [
      "\r",
      "Epoch 17/1000:   2%|▏         | 16/1000 [00:59<1:02:56,  3.84s/it, v_num=o059, train_loss_step=1.16e+3, train_loss_epoch=1.1e+3]"
     ]
    },
    {
     "name": "stdout",
     "output_type": "stream",
     "text": [
      "\r",
      "Epoch 17/1000:   2%|▏         | 17/1000 [01:03<1:01:59,  3.78s/it, v_num=o059, train_loss_step=1.16e+3, train_loss_epoch=1.1e+3]"
     ]
    },
    {
     "name": "stdout",
     "output_type": "stream",
     "text": [
      "\r",
      "Epoch 17/1000:   2%|▏         | 17/1000 [01:03<1:01:59,  3.78s/it, v_num=o059, train_loss_step=1.08e+3, train_loss_epoch=1.1e+3]"
     ]
    },
    {
     "name": "stdout",
     "output_type": "stream",
     "text": [
      "\r",
      "Epoch 18/1000:   2%|▏         | 17/1000 [01:03<1:01:59,  3.78s/it, v_num=o059, train_loss_step=1.08e+3, train_loss_epoch=1.1e+3]"
     ]
    },
    {
     "name": "stdout",
     "output_type": "stream",
     "text": [
      "\r",
      "Epoch 18/1000:   2%|▏         | 18/1000 [01:06<59:41,  3.65s/it, v_num=o059, train_loss_step=1.08e+3, train_loss_epoch=1.1e+3]  "
     ]
    },
    {
     "name": "stdout",
     "output_type": "stream",
     "text": [
      "\r",
      "Epoch 18/1000:   2%|▏         | 18/1000 [01:06<59:41,  3.65s/it, v_num=o059, train_loss_step=1.09e+3, train_loss_epoch=1.1e+3]"
     ]
    },
    {
     "name": "stdout",
     "output_type": "stream",
     "text": [
      "\r",
      "Epoch 19/1000:   2%|▏         | 18/1000 [01:06<59:41,  3.65s/it, v_num=o059, train_loss_step=1.09e+3, train_loss_epoch=1.1e+3]"
     ]
    },
    {
     "name": "stdout",
     "output_type": "stream",
     "text": [
      "\r",
      "Epoch 19/1000:   2%|▏         | 19/1000 [01:10<58:00,  3.55s/it, v_num=o059, train_loss_step=1.09e+3, train_loss_epoch=1.1e+3]"
     ]
    },
    {
     "name": "stdout",
     "output_type": "stream",
     "text": [
      "\r",
      "Epoch 19/1000:   2%|▏         | 19/1000 [01:10<58:00,  3.55s/it, v_num=o059, train_loss_step=1.12e+3, train_loss_epoch=1.1e+3]"
     ]
    },
    {
     "name": "stdout",
     "output_type": "stream",
     "text": [
      "\r",
      "Epoch 20/1000:   2%|▏         | 19/1000 [01:10<58:00,  3.55s/it, v_num=o059, train_loss_step=1.12e+3, train_loss_epoch=1.1e+3]"
     ]
    },
    {
     "name": "stdout",
     "output_type": "stream",
     "text": [
      "\r",
      "Epoch 20/1000:   2%|▏         | 20/1000 [01:14<1:01:35,  3.77s/it, v_num=o059, train_loss_step=1.12e+3, train_loss_epoch=1.1e+3]"
     ]
    },
    {
     "name": "stdout",
     "output_type": "stream",
     "text": [
      "\r",
      "Epoch 20/1000:   2%|▏         | 20/1000 [01:14<1:01:35,  3.77s/it, v_num=o059, train_loss_step=1.08e+3, train_loss_epoch=1.09e+3]"
     ]
    },
    {
     "name": "stdout",
     "output_type": "stream",
     "text": [
      "\r",
      "Epoch 21/1000:   2%|▏         | 20/1000 [01:14<1:01:35,  3.77s/it, v_num=o059, train_loss_step=1.08e+3, train_loss_epoch=1.09e+3]"
     ]
    },
    {
     "name": "stdout",
     "output_type": "stream",
     "text": [
      "\r",
      "Epoch 21/1000:   2%|▏         | 21/1000 [01:18<1:01:55,  3.79s/it, v_num=o059, train_loss_step=1.08e+3, train_loss_epoch=1.09e+3]"
     ]
    },
    {
     "name": "stdout",
     "output_type": "stream",
     "text": [
      "\r",
      "Epoch 21/1000:   2%|▏         | 21/1000 [01:18<1:01:55,  3.79s/it, v_num=o059, train_loss_step=1.04e+3, train_loss_epoch=1.09e+3]"
     ]
    },
    {
     "name": "stdout",
     "output_type": "stream",
     "text": [
      "\r",
      "Epoch 22/1000:   2%|▏         | 21/1000 [01:18<1:01:55,  3.79s/it, v_num=o059, train_loss_step=1.04e+3, train_loss_epoch=1.09e+3]"
     ]
    },
    {
     "name": "stdout",
     "output_type": "stream",
     "text": [
      "\r",
      "Epoch 22/1000:   2%|▏         | 22/1000 [01:21<59:31,  3.65s/it, v_num=o059, train_loss_step=1.04e+3, train_loss_epoch=1.09e+3]  "
     ]
    },
    {
     "name": "stdout",
     "output_type": "stream",
     "text": [
      "\r",
      "Epoch 22/1000:   2%|▏         | 22/1000 [01:21<59:31,  3.65s/it, v_num=o059, train_loss_step=1.08e+3, train_loss_epoch=1.09e+3]"
     ]
    },
    {
     "name": "stdout",
     "output_type": "stream",
     "text": [
      "\r",
      "Epoch 23/1000:   2%|▏         | 22/1000 [01:21<59:31,  3.65s/it, v_num=o059, train_loss_step=1.08e+3, train_loss_epoch=1.09e+3]"
     ]
    },
    {
     "name": "stdout",
     "output_type": "stream",
     "text": [
      "\r",
      "Epoch 23/1000:   2%|▏         | 23/1000 [01:24<57:46,  3.55s/it, v_num=o059, train_loss_step=1.08e+3, train_loss_epoch=1.09e+3]"
     ]
    },
    {
     "name": "stdout",
     "output_type": "stream",
     "text": [
      "\r",
      "Epoch 23/1000:   2%|▏         | 23/1000 [01:24<57:46,  3.55s/it, v_num=o059, train_loss_step=1.03e+3, train_loss_epoch=1.09e+3]"
     ]
    },
    {
     "name": "stdout",
     "output_type": "stream",
     "text": [
      "\r",
      "Epoch 24/1000:   2%|▏         | 23/1000 [01:24<57:46,  3.55s/it, v_num=o059, train_loss_step=1.03e+3, train_loss_epoch=1.09e+3]"
     ]
    },
    {
     "name": "stdout",
     "output_type": "stream",
     "text": [
      "\r",
      "Epoch 24/1000:   2%|▏         | 24/1000 [01:28<1:00:41,  3.73s/it, v_num=o059, train_loss_step=1.03e+3, train_loss_epoch=1.09e+3]"
     ]
    },
    {
     "name": "stdout",
     "output_type": "stream",
     "text": [
      "\r",
      "Epoch 24/1000:   2%|▏         | 24/1000 [01:28<1:00:41,  3.73s/it, v_num=o059, train_loss_step=1.11e+3, train_loss_epoch=1.09e+3]"
     ]
    },
    {
     "name": "stdout",
     "output_type": "stream",
     "text": [
      "\r",
      "Epoch 25/1000:   2%|▏         | 24/1000 [01:28<1:00:41,  3.73s/it, v_num=o059, train_loss_step=1.11e+3, train_loss_epoch=1.09e+3]"
     ]
    },
    {
     "name": "stdout",
     "output_type": "stream",
     "text": [
      "\r",
      "Epoch 25/1000:   2%|▎         | 25/1000 [01:32<1:01:55,  3.81s/it, v_num=o059, train_loss_step=1.11e+3, train_loss_epoch=1.09e+3]"
     ]
    },
    {
     "name": "stdout",
     "output_type": "stream",
     "text": [
      "\r",
      "Epoch 25/1000:   2%|▎         | 25/1000 [01:32<1:01:55,  3.81s/it, v_num=o059, train_loss_step=1.13e+3, train_loss_epoch=1.09e+3]"
     ]
    },
    {
     "name": "stdout",
     "output_type": "stream",
     "text": [
      "\r",
      "Epoch 26/1000:   2%|▎         | 25/1000 [01:32<1:01:55,  3.81s/it, v_num=o059, train_loss_step=1.13e+3, train_loss_epoch=1.09e+3]"
     ]
    },
    {
     "name": "stdout",
     "output_type": "stream",
     "text": [
      "\r",
      "Epoch 26/1000:   3%|▎         | 26/1000 [01:36<59:18,  3.65s/it, v_num=o059, train_loss_step=1.13e+3, train_loss_epoch=1.09e+3]  "
     ]
    },
    {
     "name": "stdout",
     "output_type": "stream",
     "text": [
      "\r",
      "Epoch 26/1000:   3%|▎         | 26/1000 [01:36<59:18,  3.65s/it, v_num=o059, train_loss_step=1.05e+3, train_loss_epoch=1.09e+3]"
     ]
    },
    {
     "name": "stdout",
     "output_type": "stream",
     "text": [
      "\r",
      "Epoch 27/1000:   3%|▎         | 26/1000 [01:36<59:18,  3.65s/it, v_num=o059, train_loss_step=1.05e+3, train_loss_epoch=1.09e+3]"
     ]
    },
    {
     "name": "stdout",
     "output_type": "stream",
     "text": [
      "\r",
      "Epoch 27/1000:   3%|▎         | 27/1000 [01:39<57:24,  3.54s/it, v_num=o059, train_loss_step=1.05e+3, train_loss_epoch=1.09e+3]"
     ]
    },
    {
     "name": "stdout",
     "output_type": "stream",
     "text": [
      "\r",
      "Epoch 27/1000:   3%|▎         | 27/1000 [01:39<57:24,  3.54s/it, v_num=o059, train_loss_step=1.15e+3, train_loss_epoch=1.09e+3]"
     ]
    },
    {
     "name": "stdout",
     "output_type": "stream",
     "text": [
      "\r",
      "Epoch 28/1000:   3%|▎         | 27/1000 [01:39<57:24,  3.54s/it, v_num=o059, train_loss_step=1.15e+3, train_loss_epoch=1.09e+3]"
     ]
    },
    {
     "name": "stdout",
     "output_type": "stream",
     "text": [
      "\r",
      "Epoch 28/1000:   3%|▎         | 28/1000 [01:43<59:45,  3.69s/it, v_num=o059, train_loss_step=1.15e+3, train_loss_epoch=1.09e+3]"
     ]
    },
    {
     "name": "stdout",
     "output_type": "stream",
     "text": [
      "\r",
      "Epoch 28/1000:   3%|▎         | 28/1000 [01:43<59:45,  3.69s/it, v_num=o059, train_loss_step=1.14e+3, train_loss_epoch=1.08e+3]"
     ]
    },
    {
     "name": "stdout",
     "output_type": "stream",
     "text": [
      "\r",
      "Epoch 29/1000:   3%|▎         | 28/1000 [01:43<59:45,  3.69s/it, v_num=o059, train_loss_step=1.14e+3, train_loss_epoch=1.08e+3]"
     ]
    },
    {
     "name": "stdout",
     "output_type": "stream",
     "text": [
      "\r",
      "Epoch 29/1000:   3%|▎         | 29/1000 [01:47<1:02:20,  3.85s/it, v_num=o059, train_loss_step=1.14e+3, train_loss_epoch=1.08e+3]"
     ]
    },
    {
     "name": "stdout",
     "output_type": "stream",
     "text": [
      "\r",
      "Epoch 29/1000:   3%|▎         | 29/1000 [01:47<1:02:20,  3.85s/it, v_num=o059, train_loss_step=1.11e+3, train_loss_epoch=1.08e+3]"
     ]
    },
    {
     "name": "stdout",
     "output_type": "stream",
     "text": [
      "\r",
      "Epoch 29/1000:   3%|▎         | 29/1000 [01:47<1:00:09,  3.72s/it, v_num=o059, train_loss_step=1.11e+3, train_loss_epoch=1.08e+3]"
     ]
    },
    {
     "name": "stdout",
     "output_type": "stream",
     "text": [
      "\n",
      "Monitored metric reconstruction_loss_validation did not improve in the last 10 records. Best score: 1119.508. Signaling Trainer to stop.\n"
     ]
    }
   ],
   "source": [
    "model.train(logger=logger, plan_kwargs = plan_kwargs, **trainer_kwargs)"
   ]
  },
  {
   "cell_type": "code",
   "execution_count": 15,
   "id": "c282f6eb-0ad1-40a5-81e6-1acda1545dad",
   "metadata": {
    "execution": {
     "iopub.execute_input": "2024-04-28T21:19:09.946957Z",
     "iopub.status.busy": "2024-04-28T21:19:09.946272Z",
     "iopub.status.idle": "2024-04-28T21:19:12.990389Z",
     "shell.execute_reply": "2024-04-28T21:19:12.989340Z"
    },
    "papermill": {
     "duration": 3.058896,
     "end_time": "2024-04-28T21:19:12.992549",
     "exception": false,
     "start_time": "2024-04-28T21:19:09.933653",
     "status": "completed"
    },
    "tags": []
   },
   "outputs": [
    {
     "name": "stderr",
     "output_type": "stream",
     "text": [
      "\u001b[34m\u001b[1mwandb\u001b[0m: - 0.009 MB of 0.009 MB uploaded\r"
     ]
    },
    {
     "name": "stderr",
     "output_type": "stream",
     "text": [
      "\u001b[34m\u001b[1mwandb\u001b[0m:                                                                                \n"
     ]
    },
    {
     "name": "stderr",
     "output_type": "stream",
     "text": [
      "\u001b[34m\u001b[1mwandb\u001b[0m: \n",
      "\u001b[34m\u001b[1mwandb\u001b[0m: Run history:\n",
      "\u001b[34m\u001b[1mwandb\u001b[0m:                     elbo_train █▆▆▆▅▅▅▄▄▄▄▃▃▃▃▃▂▂▂▂▂▂▂▁▁▁▁▁▁\n",
      "\u001b[34m\u001b[1mwandb\u001b[0m:                elbo_validation █▆▆▅▄▄▄▃▂▂▂▂▂▂▁▁▁▁▁▁▁▁▁▁▁▁▁▁▁\n",
      "\u001b[34m\u001b[1mwandb\u001b[0m:                          epoch ▁▁▁▁▂▂▂▂▃▃▃▃▃▃▃▃▄▄▄▅▅▅▅▅▅▅▆▆▆▆▆▇▇▇▇▇▇███\n",
      "\u001b[34m\u001b[1mwandb\u001b[0m:                kl_global_train ▁▁▁▁▁▁▁▁▁▁▁▁▁▁▁▁▁▁▁▁▁▁▁▁▁▁▁▁▁\n",
      "\u001b[34m\u001b[1mwandb\u001b[0m:           kl_global_validation ▁▁▁▁▁▁▁▁▁▁▁▁▁▁▁▁▁▁▁▁▁▁▁▁▁▁▁▁▁\n",
      "\u001b[34m\u001b[1mwandb\u001b[0m:                 kl_local_train ▁▆████▇▇▆▆▆▆▆▅▅▅▅▅▅▅▅▅▅▅▅▅▅▅▄\n",
      "\u001b[34m\u001b[1mwandb\u001b[0m:            kl_local_validation ▁▇██▇█▇▆▆▆▆▆▆▆▆▆▅▅▅▅▅▆▅▅▅▅▅▅▅\n",
      "\u001b[34m\u001b[1mwandb\u001b[0m:                      kl_weight ▁▁▁▁▁▂▂▂▂▂▃▃▃▃▄▄▄▄▄▅▅▅▅▅▅▆▆▆▆▆▆▆▇▇▇▇▇███\n",
      "\u001b[34m\u001b[1mwandb\u001b[0m:      reconstruction_loss_train █▅▅▄▄▄▄▄▃▃▃▃▃▂▂▂▂▂▂▂▂▂▁▁▁▁▁▁▁\n",
      "\u001b[34m\u001b[1mwandb\u001b[0m: reconstruction_loss_validation █▄▃▂▂▂▂▂▁▁▁▁▁▁▁▁▁▁▁▁▁▁▁▁▁▁▁▁▁\n",
      "\u001b[34m\u001b[1mwandb\u001b[0m:               train_loss_epoch █▅▅▄▄▄▄▃▃▃▃▃▃▂▂▂▂▂▂▂▂▂▁▁▁▁▁▁▁\n",
      "\u001b[34m\u001b[1mwandb\u001b[0m:                train_loss_step ▆▃▅▅▁▅▂▄▆▃▅█▃▆▃▃▄▄▃▃▄▃▃▄▄▃▃▄▄▃▄▃▄▄▂▂▃▂▄▂\n",
      "\u001b[34m\u001b[1mwandb\u001b[0m:            trainer/global_step ▁▁▁▂▂▂▂▂▂▃▃▃▃▃▃▄▄▄▄▄▅▅▅▅▅▅▆▆▆▆▆▆▇▇▇▇▇███\n",
      "\u001b[34m\u001b[1mwandb\u001b[0m:                validation_loss █▄▃▂▂▂▂▂▁▁▁▁▁▁▁▁▁▁▁▁▁▁▁▁▁▁▁▁▁\n",
      "\u001b[34m\u001b[1mwandb\u001b[0m: \n",
      "\u001b[34m\u001b[1mwandb\u001b[0m: Run summary:\n",
      "\u001b[34m\u001b[1mwandb\u001b[0m:                     elbo_train 1126.4115\n",
      "\u001b[34m\u001b[1mwandb\u001b[0m:                elbo_validation 1165.96924\n",
      "\u001b[34m\u001b[1mwandb\u001b[0m:                          epoch 28\n",
      "\u001b[34m\u001b[1mwandb\u001b[0m:                kl_global_train 0.0\n",
      "\u001b[34m\u001b[1mwandb\u001b[0m:           kl_global_validation 0.0\n",
      "\u001b[34m\u001b[1mwandb\u001b[0m:                 kl_local_train 47.45078\n",
      "\u001b[34m\u001b[1mwandb\u001b[0m:            kl_local_validation 44.26151\n",
      "\u001b[34m\u001b[1mwandb\u001b[0m:                      kl_weight 0.07\n",
      "\u001b[34m\u001b[1mwandb\u001b[0m:      reconstruction_loss_train 1078.96069\n",
      "\u001b[34m\u001b[1mwandb\u001b[0m: reconstruction_loss_validation 1121.70776\n",
      "\u001b[34m\u001b[1mwandb\u001b[0m:               train_loss_epoch 1082.28235\n",
      "\u001b[34m\u001b[1mwandb\u001b[0m:                train_loss_step 1025.00781\n",
      "\u001b[34m\u001b[1mwandb\u001b[0m:            trainer/global_step 6205\n",
      "\u001b[34m\u001b[1mwandb\u001b[0m:                validation_loss 1124.80615\n",
      "\u001b[34m\u001b[1mwandb\u001b[0m: \n"
     ]
    },
    {
     "name": "stderr",
     "output_type": "stream",
     "text": [
      "\u001b[34m\u001b[1mwandb\u001b[0m: 🚀 View run \u001b[33mStep1_pDC\u001b[0m at: \u001b[34m\u001b[4mhttps://wandb.ai/inflammation/inflammation_atlas_R1/runs/w24io059\u001b[0m\n",
      "\u001b[34m\u001b[1mwandb\u001b[0m: Synced 5 W&B file(s), 0 media file(s), 0 artifact file(s) and 0 other file(s)\n"
     ]
    },
    {
     "name": "stderr",
     "output_type": "stream",
     "text": [
      "\u001b[34m\u001b[1mwandb\u001b[0m: Find logs at: \u001b[35m\u001b[1m./wandb/run-20240428_211721-w24io059/logs\u001b[0m\n"
     ]
    }
   ],
   "source": [
    "wandb.finish()"
   ]
  },
  {
   "cell_type": "markdown",
   "id": "d9fb1179-83c7-4ac6-b4aa-92dc7a349801",
   "metadata": {
    "papermill": {
     "duration": 0.009971,
     "end_time": "2024-04-28T21:19:13.013037",
     "exception": false,
     "start_time": "2024-04-28T21:19:13.003066",
     "status": "completed"
    },
    "tags": []
   },
   "source": [
    "### Extracting embedding space"
   ]
  },
  {
   "cell_type": "code",
   "execution_count": 16,
   "id": "caaa5832-0123-4c59-8ec6-f46a75f7a14e",
   "metadata": {
    "execution": {
     "iopub.execute_input": "2024-04-28T21:19:13.034759Z",
     "iopub.status.busy": "2024-04-28T21:19:13.034390Z",
     "iopub.status.idle": "2024-04-28T21:19:14.338032Z",
     "shell.execute_reply": "2024-04-28T21:19:14.336919Z"
    },
    "papermill": {
     "duration": 1.317136,
     "end_time": "2024-04-28T21:19:14.340315",
     "exception": false,
     "start_time": "2024-04-28T21:19:13.023179",
     "status": "completed"
    },
    "tags": []
   },
   "outputs": [],
   "source": [
    "adata.obsm['X_scVI'] = model.get_latent_representation()"
   ]
  },
  {
   "cell_type": "markdown",
   "id": "2f03e70b-839c-40a6-9fbb-d76bbd787419",
   "metadata": {
    "papermill": {
     "duration": 0.009828,
     "end_time": "2024-04-28T21:19:14.360352",
     "exception": false,
     "start_time": "2024-04-28T21:19:14.350524",
     "status": "completed"
    },
    "tags": []
   },
   "source": [
    "## Save the results"
   ]
  },
  {
   "cell_type": "code",
   "execution_count": 17,
   "id": "7b04049b-47fd-4b62-a1c0-c43dcc086d34",
   "metadata": {
    "execution": {
     "iopub.execute_input": "2024-04-28T21:19:14.382014Z",
     "iopub.status.busy": "2024-04-28T21:19:14.381328Z",
     "iopub.status.idle": "2024-04-28T21:19:20.137327Z",
     "shell.execute_reply": "2024-04-28T21:19:20.136200Z"
    },
    "papermill": {
     "duration": 5.769967,
     "end_time": "2024-04-28T21:19:20.140169",
     "exception": false,
     "start_time": "2024-04-28T21:19:14.370202",
     "status": "completed"
    },
    "tags": []
   },
   "outputs": [],
   "source": [
    "if overwriteData:\n",
    "    adata.write(here(f\"{workDir}/{cellGroup}/results/02_{annotationLevel}_{cellGroup}_HVGsubset_scVI.h5ad\"), compression=\"gzip\")\n",
    "    model.save(here(f\"{workDir}/{cellGroup}/results/02_{annotationLevel}_{cellGroup}_HVGsubset_scVI_MODEL/\"),\n",
    "               overwrite = True, \n",
    "               save_anndata = False )   "
   ]
  },
  {
   "cell_type": "code",
   "execution_count": 18,
   "id": "629ba2bd-f6be-44ef-8fca-bbdf891bf25f",
   "metadata": {
    "execution": {
     "iopub.execute_input": "2024-04-28T21:19:20.165677Z",
     "iopub.status.busy": "2024-04-28T21:19:20.164410Z",
     "iopub.status.idle": "2024-04-28T21:19:20.169460Z",
     "shell.execute_reply": "2024-04-28T21:19:20.168403Z"
    },
    "papermill": {
     "duration": 0.020279,
     "end_time": "2024-04-28T21:19:20.171785",
     "exception": false,
     "start_time": "2024-04-28T21:19:20.151506",
     "status": "completed"
    },
    "tags": []
   },
   "outputs": [],
   "source": [
    "# To load the model do (after loading corresponding adata):\n",
    "# model = scvi.model.SCVI.load(here('{}/results/01_{}_HVGsubset_scVI_MODEL/'.format(workDir, cellGroup)), \n",
    "#                              adata, \n",
    "#                              use_gpu=True)"
   ]
  },
  {
   "cell_type": "raw",
   "id": "975e84d0-f56b-498d-b3a8-c9219cf22e53",
   "metadata": {
    "papermill": {
     "duration": 0.011356,
     "end_time": "2024-04-28T21:19:20.194165",
     "exception": false,
     "start_time": "2024-04-28T21:19:20.182809",
     "status": "completed"
    },
    "tags": []
   },
   "source": [
    "session_info.show()"
   ]
  }
 ],
 "metadata": {
  "kernelspec": {
   "display_name": "Python 3 (ipykernel)",
   "language": "python",
   "name": "python3"
  },
  "language_info": {
   "codemirror_mode": {
    "name": "ipython",
    "version": 3
   },
   "file_extension": ".py",
   "mimetype": "text/x-python",
   "name": "python",
   "nbconvert_exporter": "python",
   "pygments_lexer": "ipython3",
   "version": "3.9.18"
  },
  "papermill": {
   "default_parameters": {},
   "duration": 137.331362,
   "end_time": "2024-04-28T21:19:23.547092",
   "environment_variables": {},
   "exception": null,
   "input_path": "./pDC/02_integration_scVI.ipynb",
   "output_path": "./pDC/02_integration_scVI_executed.ipynb",
   "parameters": {},
   "start_time": "2024-04-28T21:17:06.215730",
   "version": "2.5.0"
  }
 },
 "nbformat": 4,
 "nbformat_minor": 5
}