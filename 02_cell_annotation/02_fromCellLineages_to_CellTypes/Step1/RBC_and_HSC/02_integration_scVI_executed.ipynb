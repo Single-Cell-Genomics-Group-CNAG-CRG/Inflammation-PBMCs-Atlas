{
 "cells": [
  {
   "cell_type": "code",
   "execution_count": 1,
   "id": "2dd1425a-0c07-465e-b522-9e3cc5cb93a7",
   "metadata": {
    "execution": {
     "iopub.execute_input": "2024-04-28T19:06:27.597937Z",
     "iopub.status.busy": "2024-04-28T19:06:27.597560Z",
     "iopub.status.idle": "2024-04-28T19:06:34.350640Z",
     "shell.execute_reply": "2024-04-28T19:06:34.349824Z"
    },
    "papermill": {
     "duration": 6.787721,
     "end_time": "2024-04-28T19:06:34.352594",
     "exception": false,
     "start_time": "2024-04-28T19:06:27.564873",
     "status": "completed"
    },
    "tags": []
   },
   "outputs": [
    {
     "data": {
      "text/plain": [
       "True"
      ]
     },
     "execution_count": 1,
     "metadata": {},
     "output_type": "execute_result"
    }
   ],
   "source": [
    "import os\n",
    "import sys\n",
    "\n",
    "import numpy as np\n",
    "import matplotlib.pyplot as plt\n",
    "\n",
    "import scanpy as sc\n",
    "import scvi\n",
    "import torch\n",
    "\n",
    "from pytorch_lightning.loggers import WandbLogger\n",
    "import wandb\n",
    "from dotenv import load_dotenv\n",
    "\n",
    "import session_info\n",
    "import warnings\n",
    "from pyprojroot.here import here\n",
    "\n",
    "warnings.filterwarnings(\"ignore\")\n",
    "sys.path.insert(1, str(here('bin')))\n",
    "\n",
    "torch.set_float32_matmul_precision('high')\n",
    "\n",
    "#plt.style.use(['science','nature','no-latex'])\n",
    "dpi_fig_save = 300\n",
    "sc.set_figure_params(dpi=100, dpi_save=dpi_fig_save, vector_friendly=True)\n",
    "\n",
    "load_dotenv(here('.env'))"
   ]
  },
  {
   "cell_type": "code",
   "execution_count": 2,
   "id": "09c897fc-744b-43de-a681-718fb5d327fa",
   "metadata": {
    "execution": {
     "iopub.execute_input": "2024-04-28T19:06:34.364229Z",
     "iopub.status.busy": "2024-04-28T19:06:34.363933Z",
     "iopub.status.idle": "2024-04-28T19:06:34.368038Z",
     "shell.execute_reply": "2024-04-28T19:06:34.367286Z"
    },
    "papermill": {
     "duration": 0.010913,
     "end_time": "2024-04-28T19:06:34.369623",
     "exception": false,
     "start_time": "2024-04-28T19:06:34.358710",
     "status": "completed"
    },
    "tags": []
   },
   "outputs": [],
   "source": [
    "class CustomWandbLogger(WandbLogger):\n",
    "    @property\n",
    "    def save_dir(self):\n",
    "        return self.experiment.dir"
   ]
  },
  {
   "cell_type": "code",
   "execution_count": 3,
   "id": "8ee6662f-5d45-4137-80a5-bb0b9ae8d71f",
   "metadata": {
    "execution": {
     "iopub.execute_input": "2024-04-28T19:06:34.378169Z",
     "iopub.status.busy": "2024-04-28T19:06:34.377921Z",
     "iopub.status.idle": "2024-04-28T19:06:34.384303Z",
     "shell.execute_reply": "2024-04-28T19:06:34.383551Z"
    },
    "papermill": {
     "duration": 0.012655,
     "end_time": "2024-04-28T19:06:34.385898",
     "exception": false,
     "start_time": "2024-04-28T19:06:34.373243",
     "status": "completed"
    },
    "tags": []
   },
   "outputs": [
    {
     "name": "stderr",
     "output_type": "stream",
     "text": [
      "Seed set to 0\n"
     ]
    },
    {
     "name": "stdout",
     "output_type": "stream",
     "text": [
      "Last run with scvi-tools version: 1.1.2\n"
     ]
    }
   ],
   "source": [
    "scvi.settings.seed = 0\n",
    "print(\"Last run with scvi-tools version:\", scvi.__version__)"
   ]
  },
  {
   "cell_type": "markdown",
   "id": "a81037ff-5998-482a-ba86-520f757311a9",
   "metadata": {
    "papermill": {
     "duration": 0.003913,
     "end_time": "2024-04-28T19:06:34.393656",
     "exception": false,
     "start_time": "2024-04-28T19:06:34.389743",
     "status": "completed"
    },
    "tags": []
   },
   "source": [
    "**Setting parameters** "
   ]
  },
  {
   "cell_type": "code",
   "execution_count": 4,
   "id": "56c27966-8f10-4c93-8b1a-1fa75f005e41",
   "metadata": {
    "execution": {
     "iopub.execute_input": "2024-04-28T19:06:34.403764Z",
     "iopub.status.busy": "2024-04-28T19:06:34.403502Z",
     "iopub.status.idle": "2024-04-28T19:06:34.407026Z",
     "shell.execute_reply": "2024-04-28T19:06:34.406308Z"
    },
    "papermill": {
     "duration": 0.011112,
     "end_time": "2024-04-28T19:06:34.408657",
     "exception": false,
     "start_time": "2024-04-28T19:06:34.397545",
     "status": "completed"
    },
    "tags": []
   },
   "outputs": [],
   "source": [
    "overwriteFigures = True\n",
    "overwriteData = True"
   ]
  },
  {
   "cell_type": "code",
   "execution_count": 5,
   "id": "c86fccd3-a4fe-415b-8f4e-e2ceb3ec128a",
   "metadata": {
    "execution": {
     "iopub.execute_input": "2024-04-28T19:06:34.417672Z",
     "iopub.status.busy": "2024-04-28T19:06:34.417411Z",
     "iopub.status.idle": "2024-04-28T19:06:34.420929Z",
     "shell.execute_reply": "2024-04-28T19:06:34.420176Z"
    },
    "papermill": {
     "duration": 0.009966,
     "end_time": "2024-04-28T19:06:34.422523",
     "exception": false,
     "start_time": "2024-04-28T19:06:34.412557",
     "status": "completed"
    },
    "tags": []
   },
   "outputs": [],
   "source": [
    "cellGroup = 'RBC_and_HSC'\n",
    "workDir = os.getcwd()"
   ]
  },
  {
   "cell_type": "code",
   "execution_count": 6,
   "id": "2dee4d55-d168-467b-b867-a61fed9d6af1",
   "metadata": {
    "execution": {
     "iopub.execute_input": "2024-04-28T19:06:34.431934Z",
     "iopub.status.busy": "2024-04-28T19:06:34.431201Z",
     "iopub.status.idle": "2024-04-28T19:06:34.435066Z",
     "shell.execute_reply": "2024-04-28T19:06:34.434397Z"
    },
    "papermill": {
     "duration": 0.010399,
     "end_time": "2024-04-28T19:06:34.436689",
     "exception": false,
     "start_time": "2024-04-28T19:06:34.426290",
     "status": "completed"
    },
    "tags": []
   },
   "outputs": [],
   "source": [
    "annotationLevel = os.path.basename(os.path.normpath(workDir))"
   ]
  },
  {
   "cell_type": "code",
   "execution_count": 7,
   "id": "11e53cd5-b746-4152-89cb-c2f0c15d90b3",
   "metadata": {
    "execution": {
     "iopub.execute_input": "2024-04-28T19:06:34.445524Z",
     "iopub.status.busy": "2024-04-28T19:06:34.445280Z",
     "iopub.status.idle": "2024-04-28T19:06:34.449905Z",
     "shell.execute_reply": "2024-04-28T19:06:34.449183Z"
    },
    "papermill": {
     "duration": 0.011116,
     "end_time": "2024-04-28T19:06:34.451554",
     "exception": false,
     "start_time": "2024-04-28T19:06:34.440438",
     "status": "completed"
    },
    "tags": []
   },
   "outputs": [
    {
     "data": {
      "text/plain": [
       "'/home/jupyter/Inflammation-PBMCs-Atlas/02_cell_annotation/02_fromCellLineages_to_CellTypes/Step1'"
      ]
     },
     "execution_count": 7,
     "metadata": {},
     "output_type": "execute_result"
    }
   ],
   "source": [
    "workDir"
   ]
  },
  {
   "cell_type": "markdown",
   "id": "171d2f06-9a44-4fcb-b437-35dc546674b6",
   "metadata": {
    "papermill": {
     "duration": 0.004004,
     "end_time": "2024-04-28T19:06:34.459685",
     "exception": false,
     "start_time": "2024-04-28T19:06:34.455681",
     "status": "completed"
    },
    "tags": []
   },
   "source": [
    "**Load data**"
   ]
  },
  {
   "cell_type": "code",
   "execution_count": 8,
   "id": "429f34fe-dde6-4cc9-9f75-7de8f85c5ffe",
   "metadata": {
    "execution": {
     "iopub.execute_input": "2024-04-28T19:06:34.469087Z",
     "iopub.status.busy": "2024-04-28T19:06:34.468812Z",
     "iopub.status.idle": "2024-04-28T19:06:35.123968Z",
     "shell.execute_reply": "2024-04-28T19:06:35.123240Z"
    },
    "papermill": {
     "duration": 0.661787,
     "end_time": "2024-04-28T19:06:35.125655",
     "exception": false,
     "start_time": "2024-04-28T19:06:34.463868",
     "status": "completed"
    },
    "tags": []
   },
   "outputs": [
    {
     "data": {
      "text/plain": [
       "AnnData object with n_obs × n_vars = 12028 × 2339\n",
       "    obs: 'studyID', 'libraryID', 'sampleID', 'chemistry', 'technology', 'patientID', 'disease', 'timepoint_replicate', 'treatmentStatus', 'therapyResponse', 'sex', 'age', 'BMI', 'binned_age', 'diseaseStatus', 'smokingStatus', 'ethnicity', 'institute', 'diseaseGroup', 'n_genes_by_counts', 'log1p_n_genes_by_counts', 'total_counts', 'log1p_total_counts', 'pct_counts_in_top_20_genes', 'total_counts_mt', 'log1p_total_counts_mt', 'pct_counts_mt', 'total_counts_ribo', 'log1p_total_counts_ribo', 'pct_counts_ribo', 'total_counts_hb', 'log1p_total_counts_hb', 'pct_counts_hb', 'total_counts_plt', 'log1p_total_counts_plt', 'pct_counts_plt', 'doublet_score', 'predicted_doublet', 'S_score', 'G2M_score', 'phase'\n",
       "    var: 'hgnc_id', 'symbol', 'locus_group', 'HUGO_status', 'mt', 'ribo', 'hb', 'plt', 'n_cells_by_counts', 'mean_counts', 'log1p_mean_counts', 'pct_dropout_by_counts', 'total_counts', 'log1p_total_counts', 'highly_variable'\n",
       "    uns: 'chemistry_colors', 'log1p'\n",
       "    layers: 'counts', 'log1p_10e4_counts'"
      ]
     },
     "execution_count": 8,
     "metadata": {},
     "output_type": "execute_result"
    }
   ],
   "source": [
    "adata = sc.read_h5ad(here(f\"{workDir}/{cellGroup}/results/01_{cellGroup}_normalized_HVGsubset.h5ad\"))\n",
    "adata"
   ]
  },
  {
   "cell_type": "markdown",
   "id": "8ac79f3b-d5af-41fa-8904-1e9ac1cbe2fb",
   "metadata": {
    "papermill": {
     "duration": 0.004244,
     "end_time": "2024-04-28T19:06:35.134386",
     "exception": false,
     "start_time": "2024-04-28T19:06:35.130142",
     "status": "completed"
    },
    "tags": []
   },
   "source": [
    "## scVI integration"
   ]
  },
  {
   "cell_type": "markdown",
   "id": "9544847d-d17f-4811-b14b-760446d54d32",
   "metadata": {
    "execution": {
     "iopub.execute_input": "2024-03-25T16:49:04.004504Z",
     "iopub.status.busy": "2024-03-25T16:49:04.004143Z",
     "iopub.status.idle": "2024-03-25T16:49:04.010148Z",
     "shell.execute_reply": "2024-03-25T16:49:04.009146Z",
     "shell.execute_reply.started": "2024-03-25T16:49:04.004477Z"
    },
    "papermill": {
     "duration": 0.004403,
     "end_time": "2024-04-28T19:06:35.142911",
     "exception": false,
     "start_time": "2024-04-28T19:06:35.138508",
     "status": "completed"
    },
    "tags": []
   },
   "source": [
    "**scVI parameters**"
   ]
  },
  {
   "cell_type": "code",
   "execution_count": 9,
   "id": "208966eb-545a-4c02-854c-0ed0487ef5b3",
   "metadata": {
    "execution": {
     "iopub.execute_input": "2024-04-28T19:06:35.153082Z",
     "iopub.status.busy": "2024-04-28T19:06:35.152491Z",
     "iopub.status.idle": "2024-04-28T19:06:35.158306Z",
     "shell.execute_reply": "2024-04-28T19:06:35.157660Z"
    },
    "papermill": {
     "duration": 0.012737,
     "end_time": "2024-04-28T19:06:35.159853",
     "exception": false,
     "start_time": "2024-04-28T19:06:35.147116",
     "status": "completed"
    },
    "tags": []
   },
   "outputs": [],
   "source": [
    "# https://docs.scvi-tools.org/en/stable/api/reference/scvi.train.Trainer.html#scvi.train.Trainer\n",
    "setup_kwargs = dict(\n",
    "    layer=\"counts\", \n",
    "    batch_key='libraryID', \n",
    "    categorical_covariate_keys = ['studyID', 'chemistry', 'disease', 'sampleID'],\n",
    "    labels_key = 'chemistry'    \n",
    ")\n",
    "\n",
    "scvi_kwargs = dict(n_hidden=512,\n",
    "                   n_latent=20, # reduceds after step 00 (main)\n",
    "                   n_layers=2,\n",
    "                   gene_likelihood='nb',\n",
    "                   dispersion='gene-label')\n",
    "\n",
    "trainer_kwargs = dict(\n",
    "    checkpointing_monitor = 'elbo_validation',\n",
    "    early_stopping_monitor = 'reconstruction_loss_validation',\n",
    "    early_stopping_patience = 10,\n",
    "    early_stopping_min_delta=0.1,\n",
    "    early_stopping = True,\n",
    "    max_epochs = 1000,\n",
    "\n",
    "    #logger = # wandb\n",
    ")\n",
    "# https://docs.scvi-tools.org/en/stable/api/reference/scvi.train.TrainingPlan.html#scvi.train.TrainingPlan\n",
    "plan_kwargs = dict(\n",
    "    lr = 5e-4,\n",
    "    #reduce_lr_on_plateau = True\n",
    ")\n",
    "\n",
    "# https://docs.scvi-tools.org/en/stable/api/reference/scvi.module.VAE.html#scvi.module.VAE\n",
    "#vae = dict(\n",
    "#    use_layer_norm='both',\n",
    "#    use_batch_norm='none',\n",
    "#    encode_covariates=True,\n",
    "#    deeply_inject_covariates=False\n",
    "#)\n",
    "parameter_dict = setup_kwargs | scvi_kwargs | trainer_kwargs | plan_kwargs"
   ]
  },
  {
   "cell_type": "markdown",
   "id": "1362366a-c16b-4c11-964b-b9c5f82f7b29",
   "metadata": {
    "papermill": {
     "duration": 0.003987,
     "end_time": "2024-04-28T19:06:35.167873",
     "exception": false,
     "start_time": "2024-04-28T19:06:35.163886",
     "status": "completed"
    },
    "tags": []
   },
   "source": [
    "**wandb parameter**"
   ]
  },
  {
   "cell_type": "code",
   "execution_count": 10,
   "id": "0496e33a-8ca5-423f-b42f-34a59760708c",
   "metadata": {
    "execution": {
     "iopub.execute_input": "2024-04-28T19:06:35.177645Z",
     "iopub.status.busy": "2024-04-28T19:06:35.177367Z",
     "iopub.status.idle": "2024-04-28T19:06:35.182460Z",
     "shell.execute_reply": "2024-04-28T19:06:35.181775Z"
    },
    "papermill": {
     "duration": 0.012017,
     "end_time": "2024-04-28T19:06:35.184180",
     "exception": false,
     "start_time": "2024-04-28T19:06:35.172163",
     "status": "completed"
    },
    "tags": []
   },
   "outputs": [
    {
     "data": {
      "text/plain": [
       "'Step1_RBC_and_HSC'"
      ]
     },
     "execution_count": 10,
     "metadata": {},
     "output_type": "execute_result"
    }
   ],
   "source": [
    "run_name = f\"{annotationLevel}_{cellGroup}\"\n",
    "run_name"
   ]
  },
  {
   "cell_type": "code",
   "execution_count": 11,
   "id": "b0021327-95a2-4002-bf32-2c5779a99505",
   "metadata": {
    "execution": {
     "iopub.execute_input": "2024-04-28T19:06:35.194168Z",
     "iopub.status.busy": "2024-04-28T19:06:35.193909Z",
     "iopub.status.idle": "2024-04-28T19:06:35.343041Z",
     "shell.execute_reply": "2024-04-28T19:06:35.342257Z"
    },
    "papermill": {
     "duration": 0.156555,
     "end_time": "2024-04-28T19:06:35.344998",
     "exception": false,
     "start_time": "2024-04-28T19:06:35.188443",
     "status": "completed"
    },
    "tags": []
   },
   "outputs": [],
   "source": [
    "logger = CustomWandbLogger(name = run_name, project='inflammation_atlas_R1', config=parameter_dict)"
   ]
  },
  {
   "cell_type": "markdown",
   "id": "c237eee1-a976-4915-9b7f-b014bf33f47d",
   "metadata": {
    "papermill": {
     "duration": 0.00449,
     "end_time": "2024-04-28T19:06:35.353990",
     "exception": false,
     "start_time": "2024-04-28T19:06:35.349500",
     "status": "completed"
    },
    "tags": []
   },
   "source": [
    "**Running integration**"
   ]
  },
  {
   "cell_type": "code",
   "execution_count": 12,
   "id": "aff97c53-1aba-462e-8a77-f1aec9cf724c",
   "metadata": {
    "execution": {
     "iopub.execute_input": "2024-04-28T19:06:35.364062Z",
     "iopub.status.busy": "2024-04-28T19:06:35.363768Z",
     "iopub.status.idle": "2024-04-28T19:06:37.339212Z",
     "shell.execute_reply": "2024-04-28T19:06:37.338099Z"
    },
    "papermill": {
     "duration": 1.983652,
     "end_time": "2024-04-28T19:06:37.341929",
     "exception": false,
     "start_time": "2024-04-28T19:06:35.358277",
     "status": "completed"
    },
    "tags": []
   },
   "outputs": [],
   "source": [
    "scvi.model.SCVI.setup_anndata(adata, \n",
    "                              **setup_kwargs)"
   ]
  },
  {
   "cell_type": "code",
   "execution_count": 13,
   "id": "1a56f448-cf44-47c1-81a4-a89caa930fec",
   "metadata": {
    "execution": {
     "iopub.execute_input": "2024-04-28T19:06:37.352998Z",
     "iopub.status.busy": "2024-04-28T19:06:37.352689Z",
     "iopub.status.idle": "2024-04-28T19:06:37.635152Z",
     "shell.execute_reply": "2024-04-28T19:06:37.634271Z"
    },
    "papermill": {
     "duration": 0.290665,
     "end_time": "2024-04-28T19:06:37.637426",
     "exception": false,
     "start_time": "2024-04-28T19:06:37.346761",
     "status": "completed"
    },
    "tags": []
   },
   "outputs": [],
   "source": [
    "model = scvi.model.SCVI(adata, **scvi_kwargs)"
   ]
  },
  {
   "cell_type": "code",
   "execution_count": 14,
   "id": "2735f010-4f24-4ae8-9740-a8cfeb335e9a",
   "metadata": {
    "execution": {
     "iopub.execute_input": "2024-04-28T19:06:37.648755Z",
     "iopub.status.busy": "2024-04-28T19:06:37.648164Z",
     "iopub.status.idle": "2024-04-28T19:07:34.744268Z",
     "shell.execute_reply": "2024-04-28T19:07:34.743261Z"
    },
    "papermill": {
     "duration": 57.10363,
     "end_time": "2024-04-28T19:07:34.745953",
     "exception": false,
     "start_time": "2024-04-28T19:06:37.642323",
     "status": "completed"
    },
    "tags": []
   },
   "outputs": [
    {
     "name": "stderr",
     "output_type": "stream",
     "text": [
      "GPU available: True (cuda), used: True\n"
     ]
    },
    {
     "name": "stderr",
     "output_type": "stream",
     "text": [
      "TPU available: False, using: 0 TPU cores\n"
     ]
    },
    {
     "name": "stderr",
     "output_type": "stream",
     "text": [
      "IPU available: False, using: 0 IPUs\n"
     ]
    },
    {
     "name": "stderr",
     "output_type": "stream",
     "text": [
      "HPU available: False, using: 0 HPUs\n"
     ]
    },
    {
     "name": "stderr",
     "output_type": "stream",
     "text": [
      "\u001b[34m\u001b[1mwandb\u001b[0m: Currently logged in as: \u001b[33mdav1989\u001b[0m (\u001b[33minflammation\u001b[0m). Use \u001b[1m`wandb login --relogin`\u001b[0m to force relogin\n"
     ]
    },
    {
     "name": "stderr",
     "output_type": "stream",
     "text": [
      "\u001b[34m\u001b[1mwandb\u001b[0m: wandb version 0.16.6 is available!  To upgrade, please run:\n",
      "\u001b[34m\u001b[1mwandb\u001b[0m:  $ pip install wandb --upgrade\n"
     ]
    },
    {
     "name": "stderr",
     "output_type": "stream",
     "text": [
      "\u001b[34m\u001b[1mwandb\u001b[0m: Tracking run with wandb version 0.16.3\n"
     ]
    },
    {
     "name": "stderr",
     "output_type": "stream",
     "text": [
      "\u001b[34m\u001b[1mwandb\u001b[0m: Run data is saved locally in \u001b[35m\u001b[1m./wandb/run-20240428_190644-vduwagqx\u001b[0m\n",
      "\u001b[34m\u001b[1mwandb\u001b[0m: Run \u001b[1m`wandb offline`\u001b[0m to turn off syncing.\n"
     ]
    },
    {
     "name": "stderr",
     "output_type": "stream",
     "text": [
      "\u001b[34m\u001b[1mwandb\u001b[0m: Syncing run \u001b[33mStep1_RBC_and_HSC\u001b[0m\n"
     ]
    },
    {
     "name": "stderr",
     "output_type": "stream",
     "text": [
      "\u001b[34m\u001b[1mwandb\u001b[0m: ⭐️ View project at \u001b[34m\u001b[4mhttps://wandb.ai/inflammation/inflammation_atlas_R1\u001b[0m\n"
     ]
    },
    {
     "name": "stderr",
     "output_type": "stream",
     "text": [
      "\u001b[34m\u001b[1mwandb\u001b[0m: 🚀 View run at \u001b[34m\u001b[4mhttps://wandb.ai/inflammation/inflammation_atlas_R1/runs/vduwagqx\u001b[0m\n"
     ]
    },
    {
     "name": "stderr",
     "output_type": "stream",
     "text": [
      "LOCAL_RANK: 0 - CUDA_VISIBLE_DEVICES: [0]\n"
     ]
    },
    {
     "name": "stdout",
     "output_type": "stream",
     "text": [
      "\r",
      "Training:   0%|          | 0/1000 [00:00<?, ?it/s]"
     ]
    },
    {
     "name": "stdout",
     "output_type": "stream",
     "text": [
      "\r",
      "Epoch 1/1000:   0%|          | 0/1000 [00:00<?, ?it/s]"
     ]
    },
    {
     "name": "stdout",
     "output_type": "stream",
     "text": [
      "\r",
      "Epoch 1/1000:   0%|          | 1/1000 [00:03<1:05:38,  3.94s/it]"
     ]
    },
    {
     "name": "stdout",
     "output_type": "stream",
     "text": [
      "\r",
      "Epoch 1/1000:   0%|          | 1/1000 [00:03<1:05:38,  3.94s/it, v_num=agqx, train_loss_step=1.11e+3, train_loss_epoch=1.3e+3]"
     ]
    },
    {
     "name": "stdout",
     "output_type": "stream",
     "text": [
      "\r",
      "Epoch 2/1000:   0%|          | 1/1000 [00:03<1:05:38,  3.94s/it, v_num=agqx, train_loss_step=1.11e+3, train_loss_epoch=1.3e+3]"
     ]
    },
    {
     "name": "stdout",
     "output_type": "stream",
     "text": [
      "\r",
      "Epoch 2/1000:   0%|          | 2/1000 [00:05<40:09,  2.41s/it, v_num=agqx, train_loss_step=1.11e+3, train_loss_epoch=1.3e+3]  "
     ]
    },
    {
     "name": "stdout",
     "output_type": "stream",
     "text": [
      "\r",
      "Epoch 2/1000:   0%|          | 2/1000 [00:05<40:09,  2.41s/it, v_num=agqx, train_loss_step=1.22e+3, train_loss_epoch=1.18e+3]"
     ]
    },
    {
     "name": "stdout",
     "output_type": "stream",
     "text": [
      "\r",
      "Epoch 3/1000:   0%|          | 2/1000 [00:05<40:09,  2.41s/it, v_num=agqx, train_loss_step=1.22e+3, train_loss_epoch=1.18e+3]"
     ]
    },
    {
     "name": "stdout",
     "output_type": "stream",
     "text": [
      "\r",
      "Epoch 3/1000:   0%|          | 3/1000 [00:06<32:03,  1.93s/it, v_num=agqx, train_loss_step=1.22e+3, train_loss_epoch=1.18e+3]"
     ]
    },
    {
     "name": "stdout",
     "output_type": "stream",
     "text": [
      "\r",
      "Epoch 3/1000:   0%|          | 3/1000 [00:06<32:03,  1.93s/it, v_num=agqx, train_loss_step=1.13e+3, train_loss_epoch=1.16e+3]"
     ]
    },
    {
     "name": "stdout",
     "output_type": "stream",
     "text": [
      "\r",
      "Epoch 4/1000:   0%|          | 3/1000 [00:06<32:03,  1.93s/it, v_num=agqx, train_loss_step=1.13e+3, train_loss_epoch=1.16e+3]"
     ]
    },
    {
     "name": "stdout",
     "output_type": "stream",
     "text": [
      "\r",
      "Epoch 4/1000:   0%|          | 4/1000 [00:07<28:11,  1.70s/it, v_num=agqx, train_loss_step=1.13e+3, train_loss_epoch=1.16e+3]"
     ]
    },
    {
     "name": "stdout",
     "output_type": "stream",
     "text": [
      "\r",
      "Epoch 4/1000:   0%|          | 4/1000 [00:07<28:11,  1.70s/it, v_num=agqx, train_loss_step=1.18e+3, train_loss_epoch=1.15e+3]"
     ]
    },
    {
     "name": "stdout",
     "output_type": "stream",
     "text": [
      "\r",
      "Epoch 5/1000:   0%|          | 4/1000 [00:07<28:11,  1.70s/it, v_num=agqx, train_loss_step=1.18e+3, train_loss_epoch=1.15e+3]"
     ]
    },
    {
     "name": "stdout",
     "output_type": "stream",
     "text": [
      "\r",
      "Epoch 5/1000:   0%|          | 5/1000 [00:09<27:13,  1.64s/it, v_num=agqx, train_loss_step=1.18e+3, train_loss_epoch=1.15e+3]"
     ]
    },
    {
     "name": "stdout",
     "output_type": "stream",
     "text": [
      "\r",
      "Epoch 5/1000:   0%|          | 5/1000 [00:09<27:13,  1.64s/it, v_num=agqx, train_loss_step=1.16e+3, train_loss_epoch=1.14e+3]"
     ]
    },
    {
     "name": "stdout",
     "output_type": "stream",
     "text": [
      "\r",
      "Epoch 6/1000:   0%|          | 5/1000 [00:09<27:13,  1.64s/it, v_num=agqx, train_loss_step=1.16e+3, train_loss_epoch=1.14e+3]"
     ]
    },
    {
     "name": "stdout",
     "output_type": "stream",
     "text": [
      "\r",
      "Epoch 6/1000:   1%|          | 6/1000 [00:11<29:02,  1.75s/it, v_num=agqx, train_loss_step=1.16e+3, train_loss_epoch=1.14e+3]"
     ]
    },
    {
     "name": "stdout",
     "output_type": "stream",
     "text": [
      "\r",
      "Epoch 6/1000:   1%|          | 6/1000 [00:11<29:02,  1.75s/it, v_num=agqx, train_loss_step=1.12e+3, train_loss_epoch=1.14e+3]"
     ]
    },
    {
     "name": "stdout",
     "output_type": "stream",
     "text": [
      "\r",
      "Epoch 7/1000:   1%|          | 6/1000 [00:11<29:02,  1.75s/it, v_num=agqx, train_loss_step=1.12e+3, train_loss_epoch=1.14e+3]"
     ]
    },
    {
     "name": "stdout",
     "output_type": "stream",
     "text": [
      "\r",
      "Epoch 7/1000:   1%|          | 7/1000 [00:13<29:47,  1.80s/it, v_num=agqx, train_loss_step=1.12e+3, train_loss_epoch=1.14e+3]"
     ]
    },
    {
     "name": "stdout",
     "output_type": "stream",
     "text": [
      "\r",
      "Epoch 7/1000:   1%|          | 7/1000 [00:13<29:47,  1.80s/it, v_num=agqx, train_loss_step=1.18e+3, train_loss_epoch=1.13e+3]"
     ]
    },
    {
     "name": "stdout",
     "output_type": "stream",
     "text": [
      "\r",
      "Epoch 8/1000:   1%|          | 7/1000 [00:13<29:47,  1.80s/it, v_num=agqx, train_loss_step=1.18e+3, train_loss_epoch=1.13e+3]"
     ]
    },
    {
     "name": "stdout",
     "output_type": "stream",
     "text": [
      "\r",
      "Epoch 8/1000:   1%|          | 8/1000 [00:15<28:54,  1.75s/it, v_num=agqx, train_loss_step=1.18e+3, train_loss_epoch=1.13e+3]"
     ]
    },
    {
     "name": "stdout",
     "output_type": "stream",
     "text": [
      "\r",
      "Epoch 8/1000:   1%|          | 8/1000 [00:15<28:54,  1.75s/it, v_num=agqx, train_loss_step=1.1e+3, train_loss_epoch=1.13e+3] "
     ]
    },
    {
     "name": "stdout",
     "output_type": "stream",
     "text": [
      "\r",
      "Epoch 9/1000:   1%|          | 8/1000 [00:15<28:54,  1.75s/it, v_num=agqx, train_loss_step=1.1e+3, train_loss_epoch=1.13e+3]"
     ]
    },
    {
     "name": "stdout",
     "output_type": "stream",
     "text": [
      "\r",
      "Epoch 9/1000:   1%|          | 9/1000 [00:16<27:17,  1.65s/it, v_num=agqx, train_loss_step=1.1e+3, train_loss_epoch=1.13e+3]"
     ]
    },
    {
     "name": "stdout",
     "output_type": "stream",
     "text": [
      "\r",
      "Epoch 9/1000:   1%|          | 9/1000 [00:16<27:17,  1.65s/it, v_num=agqx, train_loss_step=1.14e+3, train_loss_epoch=1.12e+3]"
     ]
    },
    {
     "name": "stdout",
     "output_type": "stream",
     "text": [
      "\r",
      "Epoch 10/1000:   1%|          | 9/1000 [00:16<27:17,  1.65s/it, v_num=agqx, train_loss_step=1.14e+3, train_loss_epoch=1.12e+3]"
     ]
    },
    {
     "name": "stdout",
     "output_type": "stream",
     "text": [
      "\r",
      "Epoch 10/1000:   1%|          | 10/1000 [00:17<26:19,  1.60s/it, v_num=agqx, train_loss_step=1.14e+3, train_loss_epoch=1.12e+3]"
     ]
    },
    {
     "name": "stdout",
     "output_type": "stream",
     "text": [
      "\r",
      "Epoch 10/1000:   1%|          | 10/1000 [00:17<26:19,  1.60s/it, v_num=agqx, train_loss_step=1.15e+3, train_loss_epoch=1.12e+3]"
     ]
    },
    {
     "name": "stdout",
     "output_type": "stream",
     "text": [
      "\r",
      "Epoch 11/1000:   1%|          | 10/1000 [00:17<26:19,  1.60s/it, v_num=agqx, train_loss_step=1.15e+3, train_loss_epoch=1.12e+3]"
     ]
    },
    {
     "name": "stdout",
     "output_type": "stream",
     "text": [
      "\r",
      "Epoch 11/1000:   1%|          | 11/1000 [00:19<25:01,  1.52s/it, v_num=agqx, train_loss_step=1.15e+3, train_loss_epoch=1.12e+3]"
     ]
    },
    {
     "name": "stdout",
     "output_type": "stream",
     "text": [
      "\r",
      "Epoch 11/1000:   1%|          | 11/1000 [00:19<25:01,  1.52s/it, v_num=agqx, train_loss_step=1.14e+3, train_loss_epoch=1.12e+3]"
     ]
    },
    {
     "name": "stdout",
     "output_type": "stream",
     "text": [
      "\r",
      "Epoch 12/1000:   1%|          | 11/1000 [00:19<25:01,  1.52s/it, v_num=agqx, train_loss_step=1.14e+3, train_loss_epoch=1.12e+3]"
     ]
    },
    {
     "name": "stdout",
     "output_type": "stream",
     "text": [
      "\r",
      "Epoch 12/1000:   1%|          | 12/1000 [00:20<24:08,  1.47s/it, v_num=agqx, train_loss_step=1.14e+3, train_loss_epoch=1.12e+3]"
     ]
    },
    {
     "name": "stdout",
     "output_type": "stream",
     "text": [
      "\r",
      "Epoch 12/1000:   1%|          | 12/1000 [00:20<24:08,  1.47s/it, v_num=agqx, train_loss_step=1.09e+3, train_loss_epoch=1.11e+3]"
     ]
    },
    {
     "name": "stdout",
     "output_type": "stream",
     "text": [
      "\r",
      "Epoch 13/1000:   1%|          | 12/1000 [00:20<24:08,  1.47s/it, v_num=agqx, train_loss_step=1.09e+3, train_loss_epoch=1.11e+3]"
     ]
    },
    {
     "name": "stdout",
     "output_type": "stream",
     "text": [
      "\r",
      "Epoch 13/1000:   1%|▏         | 13/1000 [00:21<23:35,  1.43s/it, v_num=agqx, train_loss_step=1.09e+3, train_loss_epoch=1.11e+3]"
     ]
    },
    {
     "name": "stdout",
     "output_type": "stream",
     "text": [
      "\r",
      "Epoch 13/1000:   1%|▏         | 13/1000 [00:21<23:35,  1.43s/it, v_num=agqx, train_loss_step=1.05e+3, train_loss_epoch=1.11e+3]"
     ]
    },
    {
     "name": "stdout",
     "output_type": "stream",
     "text": [
      "\r",
      "Epoch 14/1000:   1%|▏         | 13/1000 [00:21<23:35,  1.43s/it, v_num=agqx, train_loss_step=1.05e+3, train_loss_epoch=1.11e+3]"
     ]
    },
    {
     "name": "stdout",
     "output_type": "stream",
     "text": [
      "\r",
      "Epoch 14/1000:   1%|▏         | 14/1000 [00:23<24:48,  1.51s/it, v_num=agqx, train_loss_step=1.05e+3, train_loss_epoch=1.11e+3]"
     ]
    },
    {
     "name": "stdout",
     "output_type": "stream",
     "text": [
      "\r",
      "Epoch 14/1000:   1%|▏         | 14/1000 [00:23<24:48,  1.51s/it, v_num=agqx, train_loss_step=1.16e+3, train_loss_epoch=1.1e+3] "
     ]
    },
    {
     "name": "stdout",
     "output_type": "stream",
     "text": [
      "\r",
      "Epoch 15/1000:   1%|▏         | 14/1000 [00:23<24:48,  1.51s/it, v_num=agqx, train_loss_step=1.16e+3, train_loss_epoch=1.1e+3]"
     ]
    },
    {
     "name": "stdout",
     "output_type": "stream",
     "text": [
      "\r",
      "Epoch 15/1000:   2%|▏         | 15/1000 [00:25<26:15,  1.60s/it, v_num=agqx, train_loss_step=1.16e+3, train_loss_epoch=1.1e+3]"
     ]
    },
    {
     "name": "stdout",
     "output_type": "stream",
     "text": [
      "\r",
      "Epoch 15/1000:   2%|▏         | 15/1000 [00:25<26:15,  1.60s/it, v_num=agqx, train_loss_step=1.08e+3, train_loss_epoch=1.1e+3]"
     ]
    },
    {
     "name": "stdout",
     "output_type": "stream",
     "text": [
      "\r",
      "Epoch 16/1000:   2%|▏         | 15/1000 [00:25<26:15,  1.60s/it, v_num=agqx, train_loss_step=1.08e+3, train_loss_epoch=1.1e+3]"
     ]
    },
    {
     "name": "stdout",
     "output_type": "stream",
     "text": [
      "\r",
      "Epoch 16/1000:   2%|▏         | 16/1000 [00:27<27:06,  1.65s/it, v_num=agqx, train_loss_step=1.08e+3, train_loss_epoch=1.1e+3]"
     ]
    },
    {
     "name": "stdout",
     "output_type": "stream",
     "text": [
      "\r",
      "Epoch 16/1000:   2%|▏         | 16/1000 [00:27<27:06,  1.65s/it, v_num=agqx, train_loss_step=1.08e+3, train_loss_epoch=1.1e+3]"
     ]
    },
    {
     "name": "stdout",
     "output_type": "stream",
     "text": [
      "\r",
      "Epoch 17/1000:   2%|▏         | 16/1000 [00:27<27:06,  1.65s/it, v_num=agqx, train_loss_step=1.08e+3, train_loss_epoch=1.1e+3]"
     ]
    },
    {
     "name": "stdout",
     "output_type": "stream",
     "text": [
      "\r",
      "Epoch 17/1000:   2%|▏         | 17/1000 [00:28<26:04,  1.59s/it, v_num=agqx, train_loss_step=1.08e+3, train_loss_epoch=1.1e+3]"
     ]
    },
    {
     "name": "stdout",
     "output_type": "stream",
     "text": [
      "\r",
      "Epoch 17/1000:   2%|▏         | 17/1000 [00:28<26:04,  1.59s/it, v_num=agqx, train_loss_step=1.05e+3, train_loss_epoch=1.1e+3]"
     ]
    },
    {
     "name": "stdout",
     "output_type": "stream",
     "text": [
      "\r",
      "Epoch 18/1000:   2%|▏         | 17/1000 [00:28<26:04,  1.59s/it, v_num=agqx, train_loss_step=1.05e+3, train_loss_epoch=1.1e+3]"
     ]
    },
    {
     "name": "stdout",
     "output_type": "stream",
     "text": [
      "\r",
      "Epoch 18/1000:   2%|▏         | 18/1000 [00:30<24:45,  1.51s/it, v_num=agqx, train_loss_step=1.05e+3, train_loss_epoch=1.1e+3]"
     ]
    },
    {
     "name": "stdout",
     "output_type": "stream",
     "text": [
      "\r",
      "Epoch 18/1000:   2%|▏         | 18/1000 [00:30<24:45,  1.51s/it, v_num=agqx, train_loss_step=1.07e+3, train_loss_epoch=1.09e+3]"
     ]
    },
    {
     "name": "stdout",
     "output_type": "stream",
     "text": [
      "\r",
      "Epoch 19/1000:   2%|▏         | 18/1000 [00:30<24:45,  1.51s/it, v_num=agqx, train_loss_step=1.07e+3, train_loss_epoch=1.09e+3]"
     ]
    },
    {
     "name": "stdout",
     "output_type": "stream",
     "text": [
      "\r",
      "Epoch 19/1000:   2%|▏         | 19/1000 [00:31<23:57,  1.47s/it, v_num=agqx, train_loss_step=1.07e+3, train_loss_epoch=1.09e+3]"
     ]
    },
    {
     "name": "stdout",
     "output_type": "stream",
     "text": [
      "\r",
      "Epoch 19/1000:   2%|▏         | 19/1000 [00:31<23:57,  1.47s/it, v_num=agqx, train_loss_step=1.1e+3, train_loss_epoch=1.09e+3] "
     ]
    },
    {
     "name": "stdout",
     "output_type": "stream",
     "text": [
      "\r",
      "Epoch 20/1000:   2%|▏         | 19/1000 [00:31<23:57,  1.47s/it, v_num=agqx, train_loss_step=1.1e+3, train_loss_epoch=1.09e+3]"
     ]
    },
    {
     "name": "stdout",
     "output_type": "stream",
     "text": [
      "\r",
      "Epoch 20/1000:   2%|▏         | 20/1000 [00:32<23:17,  1.43s/it, v_num=agqx, train_loss_step=1.1e+3, train_loss_epoch=1.09e+3]"
     ]
    },
    {
     "name": "stdout",
     "output_type": "stream",
     "text": [
      "\r",
      "Epoch 20/1000:   2%|▏         | 20/1000 [00:32<23:17,  1.43s/it, v_num=agqx, train_loss_step=1.11e+3, train_loss_epoch=1.09e+3]"
     ]
    },
    {
     "name": "stdout",
     "output_type": "stream",
     "text": [
      "\r",
      "Epoch 21/1000:   2%|▏         | 20/1000 [00:32<23:17,  1.43s/it, v_num=agqx, train_loss_step=1.11e+3, train_loss_epoch=1.09e+3]"
     ]
    },
    {
     "name": "stdout",
     "output_type": "stream",
     "text": [
      "\r",
      "Epoch 21/1000:   2%|▏         | 21/1000 [00:34<22:55,  1.41s/it, v_num=agqx, train_loss_step=1.11e+3, train_loss_epoch=1.09e+3]"
     ]
    },
    {
     "name": "stdout",
     "output_type": "stream",
     "text": [
      "\r",
      "Epoch 21/1000:   2%|▏         | 21/1000 [00:34<22:55,  1.41s/it, v_num=agqx, train_loss_step=1.1e+3, train_loss_epoch=1.08e+3] "
     ]
    },
    {
     "name": "stdout",
     "output_type": "stream",
     "text": [
      "\r",
      "Epoch 22/1000:   2%|▏         | 21/1000 [00:34<22:55,  1.41s/it, v_num=agqx, train_loss_step=1.1e+3, train_loss_epoch=1.08e+3]"
     ]
    },
    {
     "name": "stdout",
     "output_type": "stream",
     "text": [
      "\r",
      "Epoch 22/1000:   2%|▏         | 22/1000 [00:35<22:32,  1.38s/it, v_num=agqx, train_loss_step=1.1e+3, train_loss_epoch=1.08e+3]"
     ]
    },
    {
     "name": "stdout",
     "output_type": "stream",
     "text": [
      "\r",
      "Epoch 22/1000:   2%|▏         | 22/1000 [00:35<22:32,  1.38s/it, v_num=agqx, train_loss_step=1.12e+3, train_loss_epoch=1.08e+3]"
     ]
    },
    {
     "name": "stdout",
     "output_type": "stream",
     "text": [
      "\r",
      "Epoch 23/1000:   2%|▏         | 22/1000 [00:35<22:32,  1.38s/it, v_num=agqx, train_loss_step=1.12e+3, train_loss_epoch=1.08e+3]"
     ]
    },
    {
     "name": "stdout",
     "output_type": "stream",
     "text": [
      "\r",
      "Epoch 23/1000:   2%|▏         | 23/1000 [00:36<23:14,  1.43s/it, v_num=agqx, train_loss_step=1.12e+3, train_loss_epoch=1.08e+3]"
     ]
    },
    {
     "name": "stdout",
     "output_type": "stream",
     "text": [
      "\r",
      "Epoch 23/1000:   2%|▏         | 23/1000 [00:36<23:14,  1.43s/it, v_num=agqx, train_loss_step=1e+3, train_loss_epoch=1.08e+3]   "
     ]
    },
    {
     "name": "stdout",
     "output_type": "stream",
     "text": [
      "\r",
      "Epoch 24/1000:   2%|▏         | 23/1000 [00:36<23:14,  1.43s/it, v_num=agqx, train_loss_step=1e+3, train_loss_epoch=1.08e+3]"
     ]
    },
    {
     "name": "stdout",
     "output_type": "stream",
     "text": [
      "\r",
      "Epoch 24/1000:   2%|▏         | 24/1000 [00:38<24:59,  1.54s/it, v_num=agqx, train_loss_step=1e+3, train_loss_epoch=1.08e+3]"
     ]
    },
    {
     "name": "stdout",
     "output_type": "stream",
     "text": [
      "\r",
      "Epoch 24/1000:   2%|▏         | 24/1000 [00:38<24:59,  1.54s/it, v_num=agqx, train_loss_step=1.08e+3, train_loss_epoch=1.08e+3]"
     ]
    },
    {
     "name": "stdout",
     "output_type": "stream",
     "text": [
      "\r",
      "Epoch 25/1000:   2%|▏         | 24/1000 [00:38<24:59,  1.54s/it, v_num=agqx, train_loss_step=1.08e+3, train_loss_epoch=1.08e+3]"
     ]
    },
    {
     "name": "stdout",
     "output_type": "stream",
     "text": [
      "\r",
      "Epoch 25/1000:   2%|▎         | 25/1000 [00:40<26:03,  1.60s/it, v_num=agqx, train_loss_step=1.08e+3, train_loss_epoch=1.08e+3]"
     ]
    },
    {
     "name": "stdout",
     "output_type": "stream",
     "text": [
      "\r",
      "Epoch 25/1000:   2%|▎         | 25/1000 [00:40<26:03,  1.60s/it, v_num=agqx, train_loss_step=1.06e+3, train_loss_epoch=1.07e+3]"
     ]
    },
    {
     "name": "stdout",
     "output_type": "stream",
     "text": [
      "\r",
      "Epoch 26/1000:   2%|▎         | 25/1000 [00:40<26:03,  1.60s/it, v_num=agqx, train_loss_step=1.06e+3, train_loss_epoch=1.07e+3]"
     ]
    },
    {
     "name": "stdout",
     "output_type": "stream",
     "text": [
      "\r",
      "Epoch 26/1000:   3%|▎         | 26/1000 [00:42<25:55,  1.60s/it, v_num=agqx, train_loss_step=1.06e+3, train_loss_epoch=1.07e+3]"
     ]
    },
    {
     "name": "stdout",
     "output_type": "stream",
     "text": [
      "\r",
      "Epoch 26/1000:   3%|▎         | 26/1000 [00:42<25:55,  1.60s/it, v_num=agqx, train_loss_step=1.17e+3, train_loss_epoch=1.07e+3]"
     ]
    },
    {
     "name": "stdout",
     "output_type": "stream",
     "text": [
      "\r",
      "Epoch 27/1000:   3%|▎         | 26/1000 [00:42<25:55,  1.60s/it, v_num=agqx, train_loss_step=1.17e+3, train_loss_epoch=1.07e+3]"
     ]
    },
    {
     "name": "stdout",
     "output_type": "stream",
     "text": [
      "\r",
      "Epoch 27/1000:   3%|▎         | 27/1000 [00:43<24:44,  1.53s/it, v_num=agqx, train_loss_step=1.17e+3, train_loss_epoch=1.07e+3]"
     ]
    },
    {
     "name": "stdout",
     "output_type": "stream",
     "text": [
      "\r",
      "Epoch 27/1000:   3%|▎         | 27/1000 [00:43<24:44,  1.53s/it, v_num=agqx, train_loss_step=1.06e+3, train_loss_epoch=1.07e+3]"
     ]
    },
    {
     "name": "stdout",
     "output_type": "stream",
     "text": [
      "\r",
      "Epoch 28/1000:   3%|▎         | 27/1000 [00:43<24:44,  1.53s/it, v_num=agqx, train_loss_step=1.06e+3, train_loss_epoch=1.07e+3]"
     ]
    },
    {
     "name": "stdout",
     "output_type": "stream",
     "text": [
      "\r",
      "Epoch 28/1000:   3%|▎         | 28/1000 [00:44<23:48,  1.47s/it, v_num=agqx, train_loss_step=1.06e+3, train_loss_epoch=1.07e+3]"
     ]
    },
    {
     "name": "stdout",
     "output_type": "stream",
     "text": [
      "\r",
      "Epoch 28/1000:   3%|▎         | 28/1000 [00:44<23:48,  1.47s/it, v_num=agqx, train_loss_step=988, train_loss_epoch=1.07e+3]    "
     ]
    },
    {
     "name": "stdout",
     "output_type": "stream",
     "text": [
      "\r",
      "Epoch 29/1000:   3%|▎         | 28/1000 [00:44<23:48,  1.47s/it, v_num=agqx, train_loss_step=988, train_loss_epoch=1.07e+3]"
     ]
    },
    {
     "name": "stdout",
     "output_type": "stream",
     "text": [
      "\r",
      "Epoch 29/1000:   3%|▎         | 29/1000 [00:46<23:04,  1.43s/it, v_num=agqx, train_loss_step=988, train_loss_epoch=1.07e+3]"
     ]
    },
    {
     "name": "stdout",
     "output_type": "stream",
     "text": [
      "\r",
      "Epoch 29/1000:   3%|▎         | 29/1000 [00:46<23:04,  1.43s/it, v_num=agqx, train_loss_step=1.06e+3, train_loss_epoch=1.06e+3]"
     ]
    },
    {
     "name": "stdout",
     "output_type": "stream",
     "text": [
      "\r",
      "Epoch 30/1000:   3%|▎         | 29/1000 [00:46<23:04,  1.43s/it, v_num=agqx, train_loss_step=1.06e+3, train_loss_epoch=1.06e+3]"
     ]
    },
    {
     "name": "stdout",
     "output_type": "stream",
     "text": [
      "\r",
      "Epoch 30/1000:   3%|▎         | 30/1000 [00:47<22:46,  1.41s/it, v_num=agqx, train_loss_step=1.06e+3, train_loss_epoch=1.06e+3]"
     ]
    },
    {
     "name": "stdout",
     "output_type": "stream",
     "text": [
      "\r",
      "Epoch 30/1000:   3%|▎         | 30/1000 [00:47<22:46,  1.41s/it, v_num=agqx, train_loss_step=1.07e+3, train_loss_epoch=1.06e+3]"
     ]
    },
    {
     "name": "stdout",
     "output_type": "stream",
     "text": [
      "\r",
      "Epoch 31/1000:   3%|▎         | 30/1000 [00:47<22:46,  1.41s/it, v_num=agqx, train_loss_step=1.07e+3, train_loss_epoch=1.06e+3]"
     ]
    },
    {
     "name": "stdout",
     "output_type": "stream",
     "text": [
      "\r",
      "Epoch 31/1000:   3%|▎         | 31/1000 [00:48<22:34,  1.40s/it, v_num=agqx, train_loss_step=1.07e+3, train_loss_epoch=1.06e+3]"
     ]
    },
    {
     "name": "stdout",
     "output_type": "stream",
     "text": [
      "\r",
      "Epoch 31/1000:   3%|▎         | 31/1000 [00:48<22:34,  1.40s/it, v_num=agqx, train_loss_step=1.09e+3, train_loss_epoch=1.06e+3]"
     ]
    },
    {
     "name": "stdout",
     "output_type": "stream",
     "text": [
      "\r",
      "Epoch 31/1000:   3%|▎         | 31/1000 [00:48<25:26,  1.58s/it, v_num=agqx, train_loss_step=1.09e+3, train_loss_epoch=1.06e+3]"
     ]
    },
    {
     "name": "stdout",
     "output_type": "stream",
     "text": [
      "\n",
      "Monitored metric reconstruction_loss_validation did not improve in the last 10 records. Best score: 1134.460. Signaling Trainer to stop.\n"
     ]
    }
   ],
   "source": [
    "model.train(logger=logger, plan_kwargs = plan_kwargs, **trainer_kwargs)"
   ]
  },
  {
   "cell_type": "code",
   "execution_count": 15,
   "id": "c282f6eb-0ad1-40a5-81e6-1acda1545dad",
   "metadata": {
    "execution": {
     "iopub.execute_input": "2024-04-28T19:07:34.842459Z",
     "iopub.status.busy": "2024-04-28T19:07:34.841448Z",
     "iopub.status.idle": "2024-04-28T19:07:38.662932Z",
     "shell.execute_reply": "2024-04-28T19:07:38.661817Z"
    },
    "papermill": {
     "duration": 3.903213,
     "end_time": "2024-04-28T19:07:38.665452",
     "exception": false,
     "start_time": "2024-04-28T19:07:34.762239",
     "status": "completed"
    },
    "tags": []
   },
   "outputs": [
    {
     "name": "stderr",
     "output_type": "stream",
     "text": [
      "\u001b[34m\u001b[1mwandb\u001b[0m: - 0.003 MB of 0.003 MB uploaded\r"
     ]
    },
    {
     "name": "stderr",
     "output_type": "stream",
     "text": [
      "\u001b[34m\u001b[1mwandb\u001b[0m: \\ 0.003 MB of 0.003 MB uploaded\r"
     ]
    },
    {
     "name": "stderr",
     "output_type": "stream",
     "text": [
      "\u001b[34m\u001b[1mwandb\u001b[0m: | 0.009 MB of 0.009 MB uploaded\r"
     ]
    },
    {
     "name": "stderr",
     "output_type": "stream",
     "text": [
      "\u001b[34m\u001b[1mwandb\u001b[0m:                                                                                \n"
     ]
    },
    {
     "name": "stderr",
     "output_type": "stream",
     "text": [
      "\u001b[34m\u001b[1mwandb\u001b[0m: \n",
      "\u001b[34m\u001b[1mwandb\u001b[0m: Run history:\n",
      "\u001b[34m\u001b[1mwandb\u001b[0m:                     elbo_train █▅▄▄▄▄▄▄▃▃▃▃▃▃▂▂▂▂▂▂▂▂▂▂▁▁▁▁▁▁▁\n",
      "\u001b[34m\u001b[1mwandb\u001b[0m:                elbo_validation █▄▃▂▂▂▁▁▁▁▁▁▁▁▁▁▁▁▁▁▁▁▁▁▁▁▁▁▁▁▁\n",
      "\u001b[34m\u001b[1mwandb\u001b[0m:                          epoch ▁▁▁▁▂▂▂▂▂▃▃▃▃▃▄▄▄▄▄▄▅▅▅▅▅▅▆▆▆▆▆▇▇▇▇▇████\n",
      "\u001b[34m\u001b[1mwandb\u001b[0m:                kl_global_train ▁▁▁▁▁▁▁▁▁▁▁▁▁▁▁▁▁▁▁▁▁▁▁▁▁▁▁▁▁▁▁\n",
      "\u001b[34m\u001b[1mwandb\u001b[0m:           kl_global_validation ▁▁▁▁▁▁▁▁▁▁▁▁▁▁▁▁▁▁▁▁▁▁▁▁▁▁▁▁▁▁▁\n",
      "\u001b[34m\u001b[1mwandb\u001b[0m:                 kl_local_train ▁▅▇▇█████▇▇▇▇▇▆▆▆▆▆▆▆▆▆▆▆▆▆▆▆▆▆\n",
      "\u001b[34m\u001b[1mwandb\u001b[0m:            kl_local_validation ▁▃▅▇██████▇▇▇▇▇▇▇▇▇▇▇▇▇▇▇▇▇▇▆▇▇\n",
      "\u001b[34m\u001b[1mwandb\u001b[0m:                      kl_weight ▁▁▁▁▂▂▂▂▂▃▃▃▃▃▃▄▄▄▄▅▅▅▅▅▅▅▆▆▆▆▆▆▇▇▇▇████\n",
      "\u001b[34m\u001b[1mwandb\u001b[0m:      reconstruction_loss_train █▅▄▄▃▃▃▃▃▃▃▃▂▂▂▂▂▂▂▂▂▂▂▁▁▁▁▁▁▁▁\n",
      "\u001b[34m\u001b[1mwandb\u001b[0m: reconstruction_loss_validation █▄▃▂▂▁▁▁▁▁▁▁▁▁▁▁▁▁▁▁▁▁▁▁▁▁▁▁▁▁▁\n",
      "\u001b[34m\u001b[1mwandb\u001b[0m:               train_loss_epoch █▅▄▄▃▃▃▃▃▃▃▂▂▂▂▂▂▂▂▂▂▂▂▁▁▁▁▁▁▁▁\n",
      "\u001b[34m\u001b[1mwandb\u001b[0m:                train_loss_step ▇█▅██▆▅▄▅▄▄▄▆▅▃▄▄▅▄▂▆▅▆▅▆▂▅▃▂▃▅▄▅▃▄▃▄▅▁▄\n",
      "\u001b[34m\u001b[1mwandb\u001b[0m:            trainer/global_step ▁▁▁▂▂▂▂▂▂▃▃▃▃▃▃▄▄▄▄▄▅▅▅▅▅▅▆▆▆▆▆▇▇▇▇▇▇███\n",
      "\u001b[34m\u001b[1mwandb\u001b[0m:                validation_loss █▄▃▂▂▁▁▁▁▁▁▁▁▁▁▁▁▁▁▁▁▁▁▁▁▁▁▁▁▁▁\n",
      "\u001b[34m\u001b[1mwandb\u001b[0m: \n",
      "\u001b[34m\u001b[1mwandb\u001b[0m: Run summary:\n",
      "\u001b[34m\u001b[1mwandb\u001b[0m:                     elbo_train 1105.78882\n",
      "\u001b[34m\u001b[1mwandb\u001b[0m:                elbo_validation 1185.00793\n",
      "\u001b[34m\u001b[1mwandb\u001b[0m:                          epoch 30\n",
      "\u001b[34m\u001b[1mwandb\u001b[0m:                kl_global_train 0.0\n",
      "\u001b[34m\u001b[1mwandb\u001b[0m:           kl_global_validation 0.0\n",
      "\u001b[34m\u001b[1mwandb\u001b[0m:                 kl_local_train 49.3659\n",
      "\u001b[34m\u001b[1mwandb\u001b[0m:            kl_local_validation 46.67251\n",
      "\u001b[34m\u001b[1mwandb\u001b[0m:                      kl_weight 0.075\n",
      "\u001b[34m\u001b[1mwandb\u001b[0m:      reconstruction_loss_train 1056.42297\n",
      "\u001b[34m\u001b[1mwandb\u001b[0m: reconstruction_loss_validation 1138.33545\n",
      "\u001b[34m\u001b[1mwandb\u001b[0m:               train_loss_epoch 1060.12524\n",
      "\u001b[34m\u001b[1mwandb\u001b[0m:                train_loss_step 1053.43054\n",
      "\u001b[34m\u001b[1mwandb\u001b[0m:            trainer/global_step 2634\n",
      "\u001b[34m\u001b[1mwandb\u001b[0m:                validation_loss 1141.83582\n",
      "\u001b[34m\u001b[1mwandb\u001b[0m: \n"
     ]
    },
    {
     "name": "stderr",
     "output_type": "stream",
     "text": [
      "\u001b[34m\u001b[1mwandb\u001b[0m: 🚀 View run \u001b[33mStep1_RBC_and_HSC\u001b[0m at: \u001b[34m\u001b[4mhttps://wandb.ai/inflammation/inflammation_atlas_R1/runs/vduwagqx\u001b[0m\n",
      "\u001b[34m\u001b[1mwandb\u001b[0m: Synced 5 W&B file(s), 0 media file(s), 0 artifact file(s) and 0 other file(s)\n"
     ]
    },
    {
     "name": "stderr",
     "output_type": "stream",
     "text": [
      "\u001b[34m\u001b[1mwandb\u001b[0m: Find logs at: \u001b[35m\u001b[1m./wandb/run-20240428_190644-vduwagqx/logs\u001b[0m\n"
     ]
    }
   ],
   "source": [
    "wandb.finish()"
   ]
  },
  {
   "cell_type": "markdown",
   "id": "d9fb1179-83c7-4ac6-b4aa-92dc7a349801",
   "metadata": {
    "papermill": {
     "duration": 0.011414,
     "end_time": "2024-04-28T19:07:38.688498",
     "exception": false,
     "start_time": "2024-04-28T19:07:38.677084",
     "status": "completed"
    },
    "tags": []
   },
   "source": [
    "### Extracting embedding space"
   ]
  },
  {
   "cell_type": "code",
   "execution_count": 16,
   "id": "caaa5832-0123-4c59-8ec6-f46a75f7a14e",
   "metadata": {
    "execution": {
     "iopub.execute_input": "2024-04-28T19:07:38.713348Z",
     "iopub.status.busy": "2024-04-28T19:07:38.712950Z",
     "iopub.status.idle": "2024-04-28T19:07:39.457710Z",
     "shell.execute_reply": "2024-04-28T19:07:39.456370Z"
    },
    "papermill": {
     "duration": 0.760473,
     "end_time": "2024-04-28T19:07:39.460320",
     "exception": false,
     "start_time": "2024-04-28T19:07:38.699847",
     "status": "completed"
    },
    "tags": []
   },
   "outputs": [],
   "source": [
    "adata.obsm['X_scVI'] = model.get_latent_representation()"
   ]
  },
  {
   "cell_type": "markdown",
   "id": "2f03e70b-839c-40a6-9fbb-d76bbd787419",
   "metadata": {
    "papermill": {
     "duration": 0.011327,
     "end_time": "2024-04-28T19:07:39.483282",
     "exception": false,
     "start_time": "2024-04-28T19:07:39.471955",
     "status": "completed"
    },
    "tags": []
   },
   "source": [
    "## Save the results"
   ]
  },
  {
   "cell_type": "code",
   "execution_count": 17,
   "id": "7b04049b-47fd-4b62-a1c0-c43dcc086d34",
   "metadata": {
    "execution": {
     "iopub.execute_input": "2024-04-28T19:07:39.509110Z",
     "iopub.status.busy": "2024-04-28T19:07:39.507842Z",
     "iopub.status.idle": "2024-04-28T19:07:42.157338Z",
     "shell.execute_reply": "2024-04-28T19:07:42.156060Z"
    },
    "papermill": {
     "duration": 2.664807,
     "end_time": "2024-04-28T19:07:42.159564",
     "exception": false,
     "start_time": "2024-04-28T19:07:39.494757",
     "status": "completed"
    },
    "tags": []
   },
   "outputs": [],
   "source": [
    "if overwriteData:\n",
    "    adata.write(here(f\"{workDir}/{cellGroup}/results/02_{annotationLevel}_{cellGroup}_HVGsubset_scVI.h5ad\"), compression=\"gzip\")\n",
    "    model.save(here(f\"{workDir}/{cellGroup}/results/02_{annotationLevel}_{cellGroup}_HVGsubset_scVI_MODEL/\"),\n",
    "               overwrite = True, \n",
    "               save_anndata = False )   "
   ]
  },
  {
   "cell_type": "code",
   "execution_count": 18,
   "id": "629ba2bd-f6be-44ef-8fca-bbdf891bf25f",
   "metadata": {
    "execution": {
     "iopub.execute_input": "2024-04-28T19:07:42.181555Z",
     "iopub.status.busy": "2024-04-28T19:07:42.180882Z",
     "iopub.status.idle": "2024-04-28T19:07:42.184577Z",
     "shell.execute_reply": "2024-04-28T19:07:42.183760Z"
    },
    "papermill": {
     "duration": 0.016307,
     "end_time": "2024-04-28T19:07:42.186197",
     "exception": false,
     "start_time": "2024-04-28T19:07:42.169890",
     "status": "completed"
    },
    "tags": []
   },
   "outputs": [],
   "source": [
    "# To load the model do (after loading corresponding adata):\n",
    "# model = scvi.model.SCVI.load(here('{}/results/01_{}_HVGsubset_scVI_MODEL/'.format(workDir, cellGroup)), \n",
    "#                              adata, \n",
    "#                              use_gpu=True)"
   ]
  },
  {
   "cell_type": "raw",
   "id": "975e84d0-f56b-498d-b3a8-c9219cf22e53",
   "metadata": {
    "papermill": {
     "duration": 0.009645,
     "end_time": "2024-04-28T19:07:42.205538",
     "exception": false,
     "start_time": "2024-04-28T19:07:42.195893",
     "status": "completed"
    },
    "tags": []
   },
   "source": [
    "session_info.show()"
   ]
  }
 ],
 "metadata": {
  "kernelspec": {
   "display_name": "Python 3 (ipykernel)",
   "language": "python",
   "name": "python3"
  },
  "language_info": {
   "codemirror_mode": {
    "name": "ipython",
    "version": 3
   },
   "file_extension": ".py",
   "mimetype": "text/x-python",
   "name": "python",
   "nbconvert_exporter": "python",
   "pygments_lexer": "ipython3",
   "version": "3.9.18"
  },
  "papermill": {
   "default_parameters": {},
   "duration": 79.338673,
   "end_time": "2024-04-28T19:07:45.608238",
   "environment_variables": {},
   "exception": null,
   "input_path": "./RBC_and_HSC/02_integration_scVI.ipynb",
   "output_path": "./RBC_and_HSC/02_integration_scVI_executed.ipynb",
   "parameters": {},
   "start_time": "2024-04-28T19:06:26.269565",
   "version": "2.5.0"
  }
 },
 "nbformat": 4,
 "nbformat_minor": 5
}