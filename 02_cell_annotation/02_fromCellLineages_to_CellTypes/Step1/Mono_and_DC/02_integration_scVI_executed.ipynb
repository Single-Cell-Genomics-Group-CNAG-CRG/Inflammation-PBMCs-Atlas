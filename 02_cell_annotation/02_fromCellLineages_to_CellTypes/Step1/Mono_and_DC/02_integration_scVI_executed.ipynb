{
 "cells": [
  {
   "cell_type": "code",
   "execution_count": 1,
   "id": "2dd1425a-0c07-465e-b522-9e3cc5cb93a7",
   "metadata": {
    "execution": {
     "iopub.execute_input": "2024-04-29T10:26:13.154941Z",
     "iopub.status.busy": "2024-04-29T10:26:13.154213Z",
     "iopub.status.idle": "2024-04-29T10:26:23.671941Z",
     "shell.execute_reply": "2024-04-29T10:26:23.671178Z"
    },
    "papermill": {
     "duration": 10.525285,
     "end_time": "2024-04-29T10:26:23.673854",
     "exception": false,
     "start_time": "2024-04-29T10:26:13.148569",
     "status": "completed"
    },
    "tags": []
   },
   "outputs": [
    {
     "data": {
      "text/plain": [
       "True"
      ]
     },
     "execution_count": 1,
     "metadata": {},
     "output_type": "execute_result"
    }
   ],
   "source": [
    "import os\n",
    "import sys\n",
    "\n",
    "import numpy as np\n",
    "import matplotlib.pyplot as plt\n",
    "\n",
    "import scanpy as sc\n",
    "import scvi\n",
    "import torch\n",
    "\n",
    "from pytorch_lightning.loggers import WandbLogger\n",
    "import wandb\n",
    "from dotenv import load_dotenv\n",
    "\n",
    "import session_info\n",
    "import warnings\n",
    "from pyprojroot.here import here\n",
    "\n",
    "warnings.filterwarnings(\"ignore\")\n",
    "sys.path.insert(1, str(here('bin')))\n",
    "\n",
    "torch.set_float32_matmul_precision('high')\n",
    "\n",
    "#plt.style.use(['science','nature','no-latex'])\n",
    "dpi_fig_save = 300\n",
    "sc.set_figure_params(dpi=100, dpi_save=dpi_fig_save, vector_friendly=True)\n",
    "\n",
    "load_dotenv(here('.env'))"
   ]
  },
  {
   "cell_type": "code",
   "execution_count": 2,
   "id": "09c897fc-744b-43de-a681-718fb5d327fa",
   "metadata": {
    "execution": {
     "iopub.execute_input": "2024-04-29T10:26:23.685524Z",
     "iopub.status.busy": "2024-04-29T10:26:23.684823Z",
     "iopub.status.idle": "2024-04-29T10:26:23.688550Z",
     "shell.execute_reply": "2024-04-29T10:26:23.687971Z"
    },
    "papermill": {
     "duration": 0.010114,
     "end_time": "2024-04-29T10:26:23.690209",
     "exception": false,
     "start_time": "2024-04-29T10:26:23.680095",
     "status": "completed"
    },
    "tags": []
   },
   "outputs": [],
   "source": [
    "class CustomWandbLogger(WandbLogger):\n",
    "    @property\n",
    "    def save_dir(self):\n",
    "        return self.experiment.dir"
   ]
  },
  {
   "cell_type": "code",
   "execution_count": 3,
   "id": "8ee6662f-5d45-4137-80a5-bb0b9ae8d71f",
   "metadata": {
    "execution": {
     "iopub.execute_input": "2024-04-29T10:26:23.698312Z",
     "iopub.status.busy": "2024-04-29T10:26:23.697816Z",
     "iopub.status.idle": "2024-04-29T10:26:23.706058Z",
     "shell.execute_reply": "2024-04-29T10:26:23.705443Z"
    },
    "papermill": {
     "duration": 0.013969,
     "end_time": "2024-04-29T10:26:23.707615",
     "exception": false,
     "start_time": "2024-04-29T10:26:23.693646",
     "status": "completed"
    },
    "tags": []
   },
   "outputs": [
    {
     "name": "stderr",
     "output_type": "stream",
     "text": [
      "Seed set to 0\n"
     ]
    },
    {
     "name": "stdout",
     "output_type": "stream",
     "text": [
      "Last run with scvi-tools version: 1.1.2\n"
     ]
    }
   ],
   "source": [
    "scvi.settings.seed = 0\n",
    "print(\"Last run with scvi-tools version:\", scvi.__version__)"
   ]
  },
  {
   "cell_type": "markdown",
   "id": "a81037ff-5998-482a-ba86-520f757311a9",
   "metadata": {
    "papermill": {
     "duration": 0.003451,
     "end_time": "2024-04-29T10:26:23.714517",
     "exception": false,
     "start_time": "2024-04-29T10:26:23.711066",
     "status": "completed"
    },
    "tags": []
   },
   "source": [
    "**Setting parameters** "
   ]
  },
  {
   "cell_type": "code",
   "execution_count": 4,
   "id": "56c27966-8f10-4c93-8b1a-1fa75f005e41",
   "metadata": {
    "execution": {
     "iopub.execute_input": "2024-04-29T10:26:23.722970Z",
     "iopub.status.busy": "2024-04-29T10:26:23.722478Z",
     "iopub.status.idle": "2024-04-29T10:26:23.725608Z",
     "shell.execute_reply": "2024-04-29T10:26:23.725046Z"
    },
    "papermill": {
     "duration": 0.008994,
     "end_time": "2024-04-29T10:26:23.727091",
     "exception": false,
     "start_time": "2024-04-29T10:26:23.718097",
     "status": "completed"
    },
    "tags": []
   },
   "outputs": [],
   "source": [
    "overwriteFigures = True\n",
    "overwriteData = True"
   ]
  },
  {
   "cell_type": "code",
   "execution_count": 5,
   "id": "c86fccd3-a4fe-415b-8f4e-e2ceb3ec128a",
   "metadata": {
    "execution": {
     "iopub.execute_input": "2024-04-29T10:26:23.735376Z",
     "iopub.status.busy": "2024-04-29T10:26:23.735084Z",
     "iopub.status.idle": "2024-04-29T10:26:23.738257Z",
     "shell.execute_reply": "2024-04-29T10:26:23.737702Z"
    },
    "papermill": {
     "duration": 0.009152,
     "end_time": "2024-04-29T10:26:23.739729",
     "exception": false,
     "start_time": "2024-04-29T10:26:23.730577",
     "status": "completed"
    },
    "tags": []
   },
   "outputs": [],
   "source": [
    "cellGroup = 'Mono_and_DC'\n",
    "workDir = os.getcwd()"
   ]
  },
  {
   "cell_type": "code",
   "execution_count": 6,
   "id": "2dee4d55-d168-467b-b867-a61fed9d6af1",
   "metadata": {
    "execution": {
     "iopub.execute_input": "2024-04-29T10:26:23.748249Z",
     "iopub.status.busy": "2024-04-29T10:26:23.747613Z",
     "iopub.status.idle": "2024-04-29T10:26:23.750978Z",
     "shell.execute_reply": "2024-04-29T10:26:23.750382Z"
    },
    "papermill": {
     "duration": 0.00943,
     "end_time": "2024-04-29T10:26:23.752642",
     "exception": false,
     "start_time": "2024-04-29T10:26:23.743212",
     "status": "completed"
    },
    "tags": []
   },
   "outputs": [],
   "source": [
    "annotationLevel = os.path.basename(os.path.normpath(workDir))"
   ]
  },
  {
   "cell_type": "code",
   "execution_count": 7,
   "id": "11e53cd5-b746-4152-89cb-c2f0c15d90b3",
   "metadata": {
    "execution": {
     "iopub.execute_input": "2024-04-29T10:26:23.761181Z",
     "iopub.status.busy": "2024-04-29T10:26:23.760684Z",
     "iopub.status.idle": "2024-04-29T10:26:23.764869Z",
     "shell.execute_reply": "2024-04-29T10:26:23.764281Z"
    },
    "papermill": {
     "duration": 0.010128,
     "end_time": "2024-04-29T10:26:23.766416",
     "exception": false,
     "start_time": "2024-04-29T10:26:23.756288",
     "status": "completed"
    },
    "tags": []
   },
   "outputs": [
    {
     "data": {
      "text/plain": [
       "'/home/jupyter/Inflammation-PBMCs-Atlas/02_cell_annotation/02_fromCellLineages_to_CellTypes/Step1'"
      ]
     },
     "execution_count": 7,
     "metadata": {},
     "output_type": "execute_result"
    }
   ],
   "source": [
    "workDir"
   ]
  },
  {
   "cell_type": "markdown",
   "id": "171d2f06-9a44-4fcb-b437-35dc546674b6",
   "metadata": {
    "papermill": {
     "duration": 0.003749,
     "end_time": "2024-04-29T10:26:23.773911",
     "exception": false,
     "start_time": "2024-04-29T10:26:23.770162",
     "status": "completed"
    },
    "tags": []
   },
   "source": [
    "**Load data**"
   ]
  },
  {
   "cell_type": "code",
   "execution_count": 8,
   "id": "429f34fe-dde6-4cc9-9f75-7de8f85c5ffe",
   "metadata": {
    "execution": {
     "iopub.execute_input": "2024-04-29T10:26:23.782980Z",
     "iopub.status.busy": "2024-04-29T10:26:23.782392Z",
     "iopub.status.idle": "2024-04-29T10:27:01.799960Z",
     "shell.execute_reply": "2024-04-29T10:27:01.799183Z"
    },
    "papermill": {
     "duration": 38.027789,
     "end_time": "2024-04-29T10:27:01.805426",
     "exception": false,
     "start_time": "2024-04-29T10:26:23.777637",
     "status": "completed"
    },
    "tags": []
   },
   "outputs": [
    {
     "data": {
      "text/plain": [
       "AnnData object with n_obs × n_vars = 1336912 × 2417\n",
       "    obs: 'studyID', 'libraryID', 'sampleID', 'chemistry', 'technology', 'patientID', 'disease', 'timepoint_replicate', 'treatmentStatus', 'therapyResponse', 'sex', 'age', 'BMI', 'binned_age', 'diseaseStatus', 'smokingStatus', 'ethnicity', 'institute', 'diseaseGroup', 'n_genes_by_counts', 'log1p_n_genes_by_counts', 'total_counts', 'log1p_total_counts', 'pct_counts_in_top_20_genes', 'total_counts_mt', 'log1p_total_counts_mt', 'pct_counts_mt', 'total_counts_ribo', 'log1p_total_counts_ribo', 'pct_counts_ribo', 'total_counts_hb', 'log1p_total_counts_hb', 'pct_counts_hb', 'total_counts_plt', 'log1p_total_counts_plt', 'pct_counts_plt', 'doublet_score', 'predicted_doublet', 'S_score', 'G2M_score', 'phase'\n",
       "    var: 'hgnc_id', 'symbol', 'locus_group', 'HUGO_status', 'mt', 'ribo', 'hb', 'plt', 'n_cells_by_counts', 'mean_counts', 'log1p_mean_counts', 'pct_dropout_by_counts', 'total_counts', 'log1p_total_counts', 'highly_variable'\n",
       "    uns: 'chemistry_colors', 'log1p'\n",
       "    layers: 'counts', 'log1p_10e4_counts'"
      ]
     },
     "execution_count": 8,
     "metadata": {},
     "output_type": "execute_result"
    }
   ],
   "source": [
    "adata = sc.read_h5ad(here(f\"{workDir}/{cellGroup}/results/01_{cellGroup}_normalized_HVGsubset.h5ad\"))\n",
    "adata"
   ]
  },
  {
   "cell_type": "markdown",
   "id": "8ac79f3b-d5af-41fa-8904-1e9ac1cbe2fb",
   "metadata": {
    "papermill": {
     "duration": 0.00437,
     "end_time": "2024-04-29T10:27:01.814107",
     "exception": false,
     "start_time": "2024-04-29T10:27:01.809737",
     "status": "completed"
    },
    "tags": []
   },
   "source": [
    "## scVI integration"
   ]
  },
  {
   "cell_type": "markdown",
   "id": "9544847d-d17f-4811-b14b-760446d54d32",
   "metadata": {
    "execution": {
     "iopub.execute_input": "2024-03-25T16:49:04.004504Z",
     "iopub.status.busy": "2024-03-25T16:49:04.004143Z",
     "iopub.status.idle": "2024-03-25T16:49:04.010148Z",
     "shell.execute_reply": "2024-03-25T16:49:04.009146Z",
     "shell.execute_reply.started": "2024-03-25T16:49:04.004477Z"
    },
    "papermill": {
     "duration": 0.00397,
     "end_time": "2024-04-29T10:27:01.822025",
     "exception": false,
     "start_time": "2024-04-29T10:27:01.818055",
     "status": "completed"
    },
    "tags": []
   },
   "source": [
    "**scVI parameters**"
   ]
  },
  {
   "cell_type": "code",
   "execution_count": 9,
   "id": "208966eb-545a-4c02-854c-0ed0487ef5b3",
   "metadata": {
    "execution": {
     "iopub.execute_input": "2024-04-29T10:27:01.832037Z",
     "iopub.status.busy": "2024-04-29T10:27:01.831358Z",
     "iopub.status.idle": "2024-04-29T10:27:01.837190Z",
     "shell.execute_reply": "2024-04-29T10:27:01.836541Z"
    },
    "papermill": {
     "duration": 0.012937,
     "end_time": "2024-04-29T10:27:01.838930",
     "exception": false,
     "start_time": "2024-04-29T10:27:01.825993",
     "status": "completed"
    },
    "tags": []
   },
   "outputs": [],
   "source": [
    "# https://docs.scvi-tools.org/en/stable/api/reference/scvi.train.Trainer.html#scvi.train.Trainer\n",
    "setup_kwargs = dict(\n",
    "    layer=\"counts\", \n",
    "    batch_key='libraryID', \n",
    "    categorical_covariate_keys = ['studyID', 'chemistry', 'disease', 'sampleID'],\n",
    "    labels_key = 'chemistry'    \n",
    ")\n",
    "\n",
    "scvi_kwargs = dict(n_hidden=512,\n",
    "                   n_latent=20, # reduceds after step 00 (main)\n",
    "                   n_layers=2,\n",
    "                   gene_likelihood='nb',\n",
    "                   dispersion='gene-label')\n",
    "\n",
    "trainer_kwargs = dict(\n",
    "    checkpointing_monitor = 'elbo_validation',\n",
    "    early_stopping_monitor = 'reconstruction_loss_validation',\n",
    "    early_stopping_patience = 10,\n",
    "    early_stopping_min_delta=0.1,\n",
    "    early_stopping = True,\n",
    "    max_epochs = 1000,\n",
    "\n",
    "    #logger = # wandb\n",
    ")\n",
    "# https://docs.scvi-tools.org/en/stable/api/reference/scvi.train.TrainingPlan.html#scvi.train.TrainingPlan\n",
    "plan_kwargs = dict(\n",
    "    lr = 5e-4,\n",
    "    #reduce_lr_on_plateau = True\n",
    ")\n",
    "\n",
    "# https://docs.scvi-tools.org/en/stable/api/reference/scvi.module.VAE.html#scvi.module.VAE\n",
    "#vae = dict(\n",
    "#    use_layer_norm='both',\n",
    "#    use_batch_norm='none',\n",
    "#    encode_covariates=True,\n",
    "#    deeply_inject_covariates=False\n",
    "#)\n",
    "parameter_dict = setup_kwargs | scvi_kwargs | trainer_kwargs | plan_kwargs"
   ]
  },
  {
   "cell_type": "markdown",
   "id": "1362366a-c16b-4c11-964b-b9c5f82f7b29",
   "metadata": {
    "papermill": {
     "duration": 0.004054,
     "end_time": "2024-04-29T10:27:01.847277",
     "exception": false,
     "start_time": "2024-04-29T10:27:01.843223",
     "status": "completed"
    },
    "tags": []
   },
   "source": [
    "**wandb parameter**"
   ]
  },
  {
   "cell_type": "code",
   "execution_count": 10,
   "id": "0496e33a-8ca5-423f-b42f-34a59760708c",
   "metadata": {
    "execution": {
     "iopub.execute_input": "2024-04-29T10:27:01.857562Z",
     "iopub.status.busy": "2024-04-29T10:27:01.857205Z",
     "iopub.status.idle": "2024-04-29T10:27:01.862027Z",
     "shell.execute_reply": "2024-04-29T10:27:01.861401Z"
    },
    "papermill": {
     "duration": 0.012155,
     "end_time": "2024-04-29T10:27:01.863691",
     "exception": false,
     "start_time": "2024-04-29T10:27:01.851536",
     "status": "completed"
    },
    "tags": []
   },
   "outputs": [
    {
     "data": {
      "text/plain": [
       "'Step1_Mono_and_DC'"
      ]
     },
     "execution_count": 10,
     "metadata": {},
     "output_type": "execute_result"
    }
   ],
   "source": [
    "run_name = f\"{annotationLevel}_{cellGroup}\"\n",
    "run_name"
   ]
  },
  {
   "cell_type": "code",
   "execution_count": 11,
   "id": "b0021327-95a2-4002-bf32-2c5779a99505",
   "metadata": {
    "execution": {
     "iopub.execute_input": "2024-04-29T10:27:01.874166Z",
     "iopub.status.busy": "2024-04-29T10:27:01.873565Z",
     "iopub.status.idle": "2024-04-29T10:27:02.021286Z",
     "shell.execute_reply": "2024-04-29T10:27:02.020571Z"
    },
    "papermill": {
     "duration": 0.155423,
     "end_time": "2024-04-29T10:27:02.023449",
     "exception": false,
     "start_time": "2024-04-29T10:27:01.868026",
     "status": "completed"
    },
    "tags": []
   },
   "outputs": [],
   "source": [
    "logger = CustomWandbLogger(name = run_name, project='inflammation_atlas_R1', config=parameter_dict)"
   ]
  },
  {
   "cell_type": "markdown",
   "id": "c237eee1-a976-4915-9b7f-b014bf33f47d",
   "metadata": {
    "papermill": {
     "duration": 0.004394,
     "end_time": "2024-04-29T10:27:02.032311",
     "exception": false,
     "start_time": "2024-04-29T10:27:02.027917",
     "status": "completed"
    },
    "tags": []
   },
   "source": [
    "**Running integration**"
   ]
  },
  {
   "cell_type": "code",
   "execution_count": 12,
   "id": "aff97c53-1aba-462e-8a77-f1aec9cf724c",
   "metadata": {
    "execution": {
     "iopub.execute_input": "2024-04-29T10:27:02.042916Z",
     "iopub.status.busy": "2024-04-29T10:27:02.042255Z",
     "iopub.status.idle": "2024-04-29T10:27:03.902390Z",
     "shell.execute_reply": "2024-04-29T10:27:03.901303Z"
    },
    "papermill": {
     "duration": 1.868092,
     "end_time": "2024-04-29T10:27:03.904703",
     "exception": false,
     "start_time": "2024-04-29T10:27:02.036611",
     "status": "completed"
    },
    "tags": []
   },
   "outputs": [],
   "source": [
    "scvi.model.SCVI.setup_anndata(adata, \n",
    "                              **setup_kwargs)"
   ]
  },
  {
   "cell_type": "code",
   "execution_count": 13,
   "id": "1a56f448-cf44-47c1-81a4-a89caa930fec",
   "metadata": {
    "execution": {
     "iopub.execute_input": "2024-04-29T10:27:03.916555Z",
     "iopub.status.busy": "2024-04-29T10:27:03.915801Z",
     "iopub.status.idle": "2024-04-29T10:27:05.716894Z",
     "shell.execute_reply": "2024-04-29T10:27:05.716186Z"
    },
    "papermill": {
     "duration": 1.809984,
     "end_time": "2024-04-29T10:27:05.719100",
     "exception": false,
     "start_time": "2024-04-29T10:27:03.909116",
     "status": "completed"
    },
    "tags": []
   },
   "outputs": [],
   "source": [
    "model = scvi.model.SCVI(adata, **scvi_kwargs)"
   ]
  },
  {
   "cell_type": "code",
   "execution_count": 14,
   "id": "2735f010-4f24-4ae8-9740-a8cfeb335e9a",
   "metadata": {
    "execution": {
     "iopub.execute_input": "2024-04-29T10:27:05.729646Z",
     "iopub.status.busy": "2024-04-29T10:27:05.729130Z",
     "iopub.status.idle": "2024-04-29T12:04:57.410959Z",
     "shell.execute_reply": "2024-04-29T12:04:57.410190Z"
    },
    "papermill": {
     "duration": 5871.688937,
     "end_time": "2024-04-29T12:04:57.412648",
     "exception": false,
     "start_time": "2024-04-29T10:27:05.723711",
     "status": "completed"
    },
    "tags": []
   },
   "outputs": [
    {
     "name": "stderr",
     "output_type": "stream",
     "text": [
      "GPU available: True (cuda), used: True\n"
     ]
    },
    {
     "name": "stderr",
     "output_type": "stream",
     "text": [
      "TPU available: False, using: 0 TPU cores\n"
     ]
    },
    {
     "name": "stderr",
     "output_type": "stream",
     "text": [
      "IPU available: False, using: 0 IPUs\n"
     ]
    },
    {
     "name": "stderr",
     "output_type": "stream",
     "text": [
      "HPU available: False, using: 0 HPUs\n"
     ]
    },
    {
     "name": "stderr",
     "output_type": "stream",
     "text": [
      "\u001b[34m\u001b[1mwandb\u001b[0m: Currently logged in as: \u001b[33mdav1989\u001b[0m (\u001b[33minflammation\u001b[0m). Use \u001b[1m`wandb login --relogin`\u001b[0m to force relogin\n"
     ]
    },
    {
     "name": "stderr",
     "output_type": "stream",
     "text": [
      "\u001b[34m\u001b[1mwandb\u001b[0m: wandb version 0.16.6 is available!  To upgrade, please run:\n",
      "\u001b[34m\u001b[1mwandb\u001b[0m:  $ pip install wandb --upgrade\n"
     ]
    },
    {
     "name": "stderr",
     "output_type": "stream",
     "text": [
      "\u001b[34m\u001b[1mwandb\u001b[0m: Tracking run with wandb version 0.16.3\n"
     ]
    },
    {
     "name": "stderr",
     "output_type": "stream",
     "text": [
      "\u001b[34m\u001b[1mwandb\u001b[0m: Run data is saved locally in \u001b[35m\u001b[1m./wandb/run-20240429_102713-2u10twjq\u001b[0m\n",
      "\u001b[34m\u001b[1mwandb\u001b[0m: Run \u001b[1m`wandb offline`\u001b[0m to turn off syncing.\n"
     ]
    },
    {
     "name": "stderr",
     "output_type": "stream",
     "text": [
      "\u001b[34m\u001b[1mwandb\u001b[0m: Syncing run \u001b[33mStep1_Mono_and_DC\u001b[0m\n"
     ]
    },
    {
     "name": "stderr",
     "output_type": "stream",
     "text": [
      "\u001b[34m\u001b[1mwandb\u001b[0m: ⭐️ View project at \u001b[34m\u001b[4mhttps://wandb.ai/inflammation/inflammation_atlas_R1\u001b[0m\n"
     ]
    },
    {
     "name": "stderr",
     "output_type": "stream",
     "text": [
      "\u001b[34m\u001b[1mwandb\u001b[0m: 🚀 View run at \u001b[34m\u001b[4mhttps://wandb.ai/inflammation/inflammation_atlas_R1/runs/2u10twjq\u001b[0m\n"
     ]
    },
    {
     "name": "stderr",
     "output_type": "stream",
     "text": [
      "LOCAL_RANK: 0 - CUDA_VISIBLE_DEVICES: [0]\n"
     ]
    },
    {
     "name": "stdout",
     "output_type": "stream",
     "text": [
      "\r",
      "Training:   0%|          | 0/1000 [00:00<?, ?it/s]"
     ]
    },
    {
     "name": "stdout",
     "output_type": "stream",
     "text": [
      "\r",
      "Epoch 1/1000:   0%|          | 0/1000 [00:00<?, ?it/s]"
     ]
    },
    {
     "name": "stdout",
     "output_type": "stream",
     "text": [
      "\r",
      "Epoch 1/1000:   0%|          | 1/1000 [02:10<36:15:39, 130.67s/it]"
     ]
    },
    {
     "name": "stdout",
     "output_type": "stream",
     "text": [
      "\r",
      "Epoch 1/1000:   0%|          | 1/1000 [02:10<36:15:39, 130.67s/it, v_num=twjq, train_loss_step=1.01e+3, train_loss_epoch=913]"
     ]
    },
    {
     "name": "stdout",
     "output_type": "stream",
     "text": [
      "\r",
      "Epoch 2/1000:   0%|          | 1/1000 [02:10<36:15:39, 130.67s/it, v_num=twjq, train_loss_step=1.01e+3, train_loss_epoch=913]"
     ]
    },
    {
     "name": "stdout",
     "output_type": "stream",
     "text": [
      "\r",
      "Epoch 2/1000:   0%|          | 2/1000 [04:20<36:02:16, 130.00s/it, v_num=twjq, train_loss_step=1.01e+3, train_loss_epoch=913]"
     ]
    },
    {
     "name": "stdout",
     "output_type": "stream",
     "text": [
      "\r",
      "Epoch 2/1000:   0%|          | 2/1000 [04:20<36:02:16, 130.00s/it, v_num=twjq, train_loss_step=882, train_loss_epoch=895]    "
     ]
    },
    {
     "name": "stdout",
     "output_type": "stream",
     "text": [
      "\r",
      "Epoch 3/1000:   0%|          | 2/1000 [04:20<36:02:16, 130.00s/it, v_num=twjq, train_loss_step=882, train_loss_epoch=895]"
     ]
    },
    {
     "name": "stdout",
     "output_type": "stream",
     "text": [
      "\r",
      "Epoch 3/1000:   0%|          | 3/1000 [06:28<35:48:18, 129.29s/it, v_num=twjq, train_loss_step=882, train_loss_epoch=895]"
     ]
    },
    {
     "name": "stdout",
     "output_type": "stream",
     "text": [
      "\r",
      "Epoch 3/1000:   0%|          | 3/1000 [06:28<35:48:18, 129.29s/it, v_num=twjq, train_loss_step=910, train_loss_epoch=893]"
     ]
    },
    {
     "name": "stdout",
     "output_type": "stream",
     "text": [
      "\r",
      "Epoch 4/1000:   0%|          | 3/1000 [06:28<35:48:18, 129.29s/it, v_num=twjq, train_loss_step=910, train_loss_epoch=893]"
     ]
    },
    {
     "name": "stdout",
     "output_type": "stream",
     "text": [
      "\r",
      "Epoch 4/1000:   0%|          | 4/1000 [08:39<35:56:28, 129.91s/it, v_num=twjq, train_loss_step=910, train_loss_epoch=893]"
     ]
    },
    {
     "name": "stdout",
     "output_type": "stream",
     "text": [
      "\r",
      "Epoch 4/1000:   0%|          | 4/1000 [08:39<35:56:28, 129.91s/it, v_num=twjq, train_loss_step=1.07e+3, train_loss_epoch=892]"
     ]
    },
    {
     "name": "stdout",
     "output_type": "stream",
     "text": [
      "\r",
      "Epoch 5/1000:   0%|          | 4/1000 [08:39<35:56:28, 129.91s/it, v_num=twjq, train_loss_step=1.07e+3, train_loss_epoch=892]"
     ]
    },
    {
     "name": "stdout",
     "output_type": "stream",
     "text": [
      "\r",
      "Epoch 5/1000:   0%|          | 5/1000 [10:48<35:49:14, 129.60s/it, v_num=twjq, train_loss_step=1.07e+3, train_loss_epoch=892]"
     ]
    },
    {
     "name": "stdout",
     "output_type": "stream",
     "text": [
      "\r",
      "Epoch 5/1000:   0%|          | 5/1000 [10:48<35:49:14, 129.60s/it, v_num=twjq, train_loss_step=931, train_loss_epoch=891]    "
     ]
    },
    {
     "name": "stdout",
     "output_type": "stream",
     "text": [
      "\r",
      "Epoch 6/1000:   0%|          | 5/1000 [10:48<35:49:14, 129.60s/it, v_num=twjq, train_loss_step=931, train_loss_epoch=891]"
     ]
    },
    {
     "name": "stdout",
     "output_type": "stream",
     "text": [
      "\r",
      "Epoch 6/1000:   1%|          | 6/1000 [12:58<35:50:00, 129.78s/it, v_num=twjq, train_loss_step=931, train_loss_epoch=891]"
     ]
    },
    {
     "name": "stdout",
     "output_type": "stream",
     "text": [
      "\r",
      "Epoch 6/1000:   1%|          | 6/1000 [12:58<35:50:00, 129.78s/it, v_num=twjq, train_loss_step=776, train_loss_epoch=891]"
     ]
    },
    {
     "name": "stdout",
     "output_type": "stream",
     "text": [
      "\r",
      "Epoch 7/1000:   1%|          | 6/1000 [12:58<35:50:00, 129.78s/it, v_num=twjq, train_loss_step=776, train_loss_epoch=891]"
     ]
    },
    {
     "name": "stdout",
     "output_type": "stream",
     "text": [
      "\r",
      "Epoch 7/1000:   1%|          | 7/1000 [15:08<35:49:02, 129.85s/it, v_num=twjq, train_loss_step=776, train_loss_epoch=891]"
     ]
    },
    {
     "name": "stdout",
     "output_type": "stream",
     "text": [
      "\r",
      "Epoch 7/1000:   1%|          | 7/1000 [15:08<35:49:02, 129.85s/it, v_num=twjq, train_loss_step=934, train_loss_epoch=890]"
     ]
    },
    {
     "name": "stdout",
     "output_type": "stream",
     "text": [
      "\r",
      "Epoch 8/1000:   1%|          | 7/1000 [15:08<35:49:02, 129.85s/it, v_num=twjq, train_loss_step=934, train_loss_epoch=890]"
     ]
    },
    {
     "name": "stdout",
     "output_type": "stream",
     "text": [
      "\r",
      "Epoch 8/1000:   1%|          | 8/1000 [17:19<35:51:12, 130.11s/it, v_num=twjq, train_loss_step=934, train_loss_epoch=890]"
     ]
    },
    {
     "name": "stdout",
     "output_type": "stream",
     "text": [
      "\r",
      "Epoch 8/1000:   1%|          | 8/1000 [17:19<35:51:12, 130.11s/it, v_num=twjq, train_loss_step=870, train_loss_epoch=890]"
     ]
    },
    {
     "name": "stdout",
     "output_type": "stream",
     "text": [
      "\r",
      "Epoch 9/1000:   1%|          | 8/1000 [17:19<35:51:12, 130.11s/it, v_num=twjq, train_loss_step=870, train_loss_epoch=890]"
     ]
    },
    {
     "name": "stdout",
     "output_type": "stream",
     "text": [
      "\r",
      "Epoch 9/1000:   1%|          | 9/1000 [19:31<36:00:31, 130.81s/it, v_num=twjq, train_loss_step=870, train_loss_epoch=890]"
     ]
    },
    {
     "name": "stdout",
     "output_type": "stream",
     "text": [
      "\r",
      "Epoch 9/1000:   1%|          | 9/1000 [19:31<36:00:31, 130.81s/it, v_num=twjq, train_loss_step=940, train_loss_epoch=890]"
     ]
    },
    {
     "name": "stdout",
     "output_type": "stream",
     "text": [
      "\r",
      "Epoch 10/1000:   1%|          | 9/1000 [19:31<36:00:31, 130.81s/it, v_num=twjq, train_loss_step=940, train_loss_epoch=890]"
     ]
    },
    {
     "name": "stdout",
     "output_type": "stream",
     "text": [
      "\r",
      "Epoch 10/1000:   1%|          | 10/1000 [21:41<35:54:18, 130.56s/it, v_num=twjq, train_loss_step=940, train_loss_epoch=890]"
     ]
    },
    {
     "name": "stdout",
     "output_type": "stream",
     "text": [
      "\r",
      "Epoch 10/1000:   1%|          | 10/1000 [21:41<35:54:18, 130.56s/it, v_num=twjq, train_loss_step=927, train_loss_epoch=890]"
     ]
    },
    {
     "name": "stdout",
     "output_type": "stream",
     "text": [
      "\r",
      "Epoch 11/1000:   1%|          | 10/1000 [21:41<35:54:18, 130.56s/it, v_num=twjq, train_loss_step=927, train_loss_epoch=890]"
     ]
    },
    {
     "name": "stdout",
     "output_type": "stream",
     "text": [
      "\r",
      "Epoch 11/1000:   1%|          | 11/1000 [23:53<35:58:37, 130.96s/it, v_num=twjq, train_loss_step=927, train_loss_epoch=890]"
     ]
    },
    {
     "name": "stdout",
     "output_type": "stream",
     "text": [
      "\r",
      "Epoch 11/1000:   1%|          | 11/1000 [23:53<35:58:37, 130.96s/it, v_num=twjq, train_loss_step=745, train_loss_epoch=890]"
     ]
    },
    {
     "name": "stdout",
     "output_type": "stream",
     "text": [
      "\r",
      "Epoch 12/1000:   1%|          | 11/1000 [23:53<35:58:37, 130.96s/it, v_num=twjq, train_loss_step=745, train_loss_epoch=890]"
     ]
    },
    {
     "name": "stdout",
     "output_type": "stream",
     "text": [
      "\r",
      "Epoch 12/1000:   1%|          | 12/1000 [26:02<35:46:48, 130.37s/it, v_num=twjq, train_loss_step=745, train_loss_epoch=890]"
     ]
    },
    {
     "name": "stdout",
     "output_type": "stream",
     "text": [
      "\r",
      "Epoch 12/1000:   1%|          | 12/1000 [26:02<35:46:48, 130.37s/it, v_num=twjq, train_loss_step=871, train_loss_epoch=890]"
     ]
    },
    {
     "name": "stdout",
     "output_type": "stream",
     "text": [
      "\r",
      "Epoch 13/1000:   1%|          | 12/1000 [26:02<35:46:48, 130.37s/it, v_num=twjq, train_loss_step=871, train_loss_epoch=890]"
     ]
    },
    {
     "name": "stdout",
     "output_type": "stream",
     "text": [
      "\r",
      "Epoch 13/1000:   1%|▏         | 13/1000 [28:13<35:46:18, 130.48s/it, v_num=twjq, train_loss_step=871, train_loss_epoch=890]"
     ]
    },
    {
     "name": "stdout",
     "output_type": "stream",
     "text": [
      "\r",
      "Epoch 13/1000:   1%|▏         | 13/1000 [28:13<35:46:18, 130.48s/it, v_num=twjq, train_loss_step=931, train_loss_epoch=890]"
     ]
    },
    {
     "name": "stdout",
     "output_type": "stream",
     "text": [
      "\r",
      "Epoch 14/1000:   1%|▏         | 13/1000 [28:13<35:46:18, 130.48s/it, v_num=twjq, train_loss_step=931, train_loss_epoch=890]"
     ]
    },
    {
     "name": "stdout",
     "output_type": "stream",
     "text": [
      "\r",
      "Epoch 14/1000:   1%|▏         | 14/1000 [30:23<35:40:56, 130.28s/it, v_num=twjq, train_loss_step=931, train_loss_epoch=890]"
     ]
    },
    {
     "name": "stdout",
     "output_type": "stream",
     "text": [
      "\r",
      "Epoch 14/1000:   1%|▏         | 14/1000 [30:23<35:40:56, 130.28s/it, v_num=twjq, train_loss_step=880, train_loss_epoch=890]"
     ]
    },
    {
     "name": "stdout",
     "output_type": "stream",
     "text": [
      "\r",
      "Epoch 15/1000:   1%|▏         | 14/1000 [30:23<35:40:56, 130.28s/it, v_num=twjq, train_loss_step=880, train_loss_epoch=890]"
     ]
    },
    {
     "name": "stdout",
     "output_type": "stream",
     "text": [
      "\r",
      "Epoch 15/1000:   2%|▏         | 15/1000 [32:34<35:44:30, 130.63s/it, v_num=twjq, train_loss_step=880, train_loss_epoch=890]"
     ]
    },
    {
     "name": "stdout",
     "output_type": "stream",
     "text": [
      "\r",
      "Epoch 15/1000:   2%|▏         | 15/1000 [32:34<35:44:30, 130.63s/it, v_num=twjq, train_loss_step=847, train_loss_epoch=890]"
     ]
    },
    {
     "name": "stdout",
     "output_type": "stream",
     "text": [
      "\r",
      "Epoch 16/1000:   2%|▏         | 15/1000 [32:34<35:44:30, 130.63s/it, v_num=twjq, train_loss_step=847, train_loss_epoch=890]"
     ]
    },
    {
     "name": "stdout",
     "output_type": "stream",
     "text": [
      "\r",
      "Epoch 16/1000:   2%|▏         | 16/1000 [34:44<35:40:44, 130.53s/it, v_num=twjq, train_loss_step=847, train_loss_epoch=890]"
     ]
    },
    {
     "name": "stdout",
     "output_type": "stream",
     "text": [
      "\r",
      "Epoch 16/1000:   2%|▏         | 16/1000 [34:44<35:40:44, 130.53s/it, v_num=twjq, train_loss_step=890, train_loss_epoch=890]"
     ]
    },
    {
     "name": "stdout",
     "output_type": "stream",
     "text": [
      "\r",
      "Epoch 17/1000:   2%|▏         | 16/1000 [34:44<35:40:44, 130.53s/it, v_num=twjq, train_loss_step=890, train_loss_epoch=890]"
     ]
    },
    {
     "name": "stdout",
     "output_type": "stream",
     "text": [
      "\r",
      "Epoch 17/1000:   2%|▏         | 17/1000 [36:54<35:35:22, 130.34s/it, v_num=twjq, train_loss_step=890, train_loss_epoch=890]"
     ]
    },
    {
     "name": "stdout",
     "output_type": "stream",
     "text": [
      "\r",
      "Epoch 17/1000:   2%|▏         | 17/1000 [36:54<35:35:22, 130.34s/it, v_num=twjq, train_loss_step=931, train_loss_epoch=890]"
     ]
    },
    {
     "name": "stdout",
     "output_type": "stream",
     "text": [
      "\r",
      "Epoch 18/1000:   2%|▏         | 17/1000 [36:54<35:35:22, 130.34s/it, v_num=twjq, train_loss_step=931, train_loss_epoch=890]"
     ]
    },
    {
     "name": "stdout",
     "output_type": "stream",
     "text": [
      "\r",
      "Epoch 18/1000:   2%|▏         | 18/1000 [39:06<35:38:54, 130.69s/it, v_num=twjq, train_loss_step=931, train_loss_epoch=890]"
     ]
    },
    {
     "name": "stdout",
     "output_type": "stream",
     "text": [
      "\r",
      "Epoch 18/1000:   2%|▏         | 18/1000 [39:06<35:38:54, 130.69s/it, v_num=twjq, train_loss_step=896, train_loss_epoch=890]"
     ]
    },
    {
     "name": "stdout",
     "output_type": "stream",
     "text": [
      "\r",
      "Epoch 19/1000:   2%|▏         | 18/1000 [39:06<35:38:54, 130.69s/it, v_num=twjq, train_loss_step=896, train_loss_epoch=890]"
     ]
    },
    {
     "name": "stdout",
     "output_type": "stream",
     "text": [
      "\r",
      "Epoch 19/1000:   2%|▏         | 19/1000 [41:16<35:35:57, 130.64s/it, v_num=twjq, train_loss_step=896, train_loss_epoch=890]"
     ]
    },
    {
     "name": "stdout",
     "output_type": "stream",
     "text": [
      "\r",
      "Epoch 19/1000:   2%|▏         | 19/1000 [41:16<35:35:57, 130.64s/it, v_num=twjq, train_loss_step=873, train_loss_epoch=890]"
     ]
    },
    {
     "name": "stdout",
     "output_type": "stream",
     "text": [
      "\r",
      "Epoch 20/1000:   2%|▏         | 19/1000 [41:16<35:35:57, 130.64s/it, v_num=twjq, train_loss_step=873, train_loss_epoch=890]"
     ]
    },
    {
     "name": "stdout",
     "output_type": "stream",
     "text": [
      "\r",
      "Epoch 20/1000:   2%|▏         | 20/1000 [43:27<35:32:01, 130.53s/it, v_num=twjq, train_loss_step=873, train_loss_epoch=890]"
     ]
    },
    {
     "name": "stdout",
     "output_type": "stream",
     "text": [
      "\r",
      "Epoch 20/1000:   2%|▏         | 20/1000 [43:27<35:32:01, 130.53s/it, v_num=twjq, train_loss_step=996, train_loss_epoch=890]"
     ]
    },
    {
     "name": "stdout",
     "output_type": "stream",
     "text": [
      "\r",
      "Epoch 21/1000:   2%|▏         | 20/1000 [43:27<35:32:01, 130.53s/it, v_num=twjq, train_loss_step=996, train_loss_epoch=890]"
     ]
    },
    {
     "name": "stdout",
     "output_type": "stream",
     "text": [
      "\r",
      "Epoch 21/1000:   2%|▏         | 21/1000 [45:35<35:20:33, 129.96s/it, v_num=twjq, train_loss_step=996, train_loss_epoch=890]"
     ]
    },
    {
     "name": "stdout",
     "output_type": "stream",
     "text": [
      "\r",
      "Epoch 21/1000:   2%|▏         | 21/1000 [45:35<35:20:33, 129.96s/it, v_num=twjq, train_loss_step=756, train_loss_epoch=890]"
     ]
    },
    {
     "name": "stdout",
     "output_type": "stream",
     "text": [
      "\r",
      "Epoch 22/1000:   2%|▏         | 21/1000 [45:35<35:20:33, 129.96s/it, v_num=twjq, train_loss_step=756, train_loss_epoch=890]"
     ]
    },
    {
     "name": "stdout",
     "output_type": "stream",
     "text": [
      "\r",
      "Epoch 22/1000:   2%|▏         | 22/1000 [47:47<35:27:10, 130.50s/it, v_num=twjq, train_loss_step=756, train_loss_epoch=890]"
     ]
    },
    {
     "name": "stdout",
     "output_type": "stream",
     "text": [
      "\r",
      "Epoch 22/1000:   2%|▏         | 22/1000 [47:47<35:27:10, 130.50s/it, v_num=twjq, train_loss_step=804, train_loss_epoch=890]"
     ]
    },
    {
     "name": "stdout",
     "output_type": "stream",
     "text": [
      "\r",
      "Epoch 23/1000:   2%|▏         | 22/1000 [47:47<35:27:10, 130.50s/it, v_num=twjq, train_loss_step=804, train_loss_epoch=890]"
     ]
    },
    {
     "name": "stdout",
     "output_type": "stream",
     "text": [
      "\r",
      "Epoch 23/1000:   2%|▏         | 23/1000 [49:57<35:24:01, 130.44s/it, v_num=twjq, train_loss_step=804, train_loss_epoch=890]"
     ]
    },
    {
     "name": "stdout",
     "output_type": "stream",
     "text": [
      "\r",
      "Epoch 23/1000:   2%|▏         | 23/1000 [49:57<35:24:01, 130.44s/it, v_num=twjq, train_loss_step=878, train_loss_epoch=890]"
     ]
    },
    {
     "name": "stdout",
     "output_type": "stream",
     "text": [
      "\r",
      "Epoch 24/1000:   2%|▏         | 23/1000 [49:57<35:24:01, 130.44s/it, v_num=twjq, train_loss_step=878, train_loss_epoch=890]"
     ]
    },
    {
     "name": "stdout",
     "output_type": "stream",
     "text": [
      "\r",
      "Epoch 24/1000:   2%|▏         | 24/1000 [52:07<35:20:37, 130.37s/it, v_num=twjq, train_loss_step=878, train_loss_epoch=890]"
     ]
    },
    {
     "name": "stdout",
     "output_type": "stream",
     "text": [
      "\r",
      "Epoch 24/1000:   2%|▏         | 24/1000 [52:07<35:20:37, 130.37s/it, v_num=twjq, train_loss_step=860, train_loss_epoch=890]"
     ]
    },
    {
     "name": "stdout",
     "output_type": "stream",
     "text": [
      "\r",
      "Epoch 25/1000:   2%|▏         | 24/1000 [52:07<35:20:37, 130.37s/it, v_num=twjq, train_loss_step=860, train_loss_epoch=890]"
     ]
    },
    {
     "name": "stdout",
     "output_type": "stream",
     "text": [
      "\r",
      "Epoch 25/1000:   2%|▎         | 25/1000 [54:16<35:11:09, 129.92s/it, v_num=twjq, train_loss_step=860, train_loss_epoch=890]"
     ]
    },
    {
     "name": "stdout",
     "output_type": "stream",
     "text": [
      "\r",
      "Epoch 25/1000:   2%|▎         | 25/1000 [54:16<35:11:09, 129.92s/it, v_num=twjq, train_loss_step=908, train_loss_epoch=890]"
     ]
    },
    {
     "name": "stdout",
     "output_type": "stream",
     "text": [
      "\r",
      "Epoch 26/1000:   2%|▎         | 25/1000 [54:16<35:11:09, 129.92s/it, v_num=twjq, train_loss_step=908, train_loss_epoch=890]"
     ]
    },
    {
     "name": "stdout",
     "output_type": "stream",
     "text": [
      "\r",
      "Epoch 26/1000:   3%|▎         | 26/1000 [56:26<35:08:14, 129.87s/it, v_num=twjq, train_loss_step=908, train_loss_epoch=890]"
     ]
    },
    {
     "name": "stdout",
     "output_type": "stream",
     "text": [
      "\r",
      "Epoch 26/1000:   3%|▎         | 26/1000 [56:26<35:08:14, 129.87s/it, v_num=twjq, train_loss_step=969, train_loss_epoch=890]"
     ]
    },
    {
     "name": "stdout",
     "output_type": "stream",
     "text": [
      "\r",
      "Epoch 27/1000:   3%|▎         | 26/1000 [56:26<35:08:14, 129.87s/it, v_num=twjq, train_loss_step=969, train_loss_epoch=890]"
     ]
    },
    {
     "name": "stdout",
     "output_type": "stream",
     "text": [
      "\r",
      "Epoch 27/1000:   3%|▎         | 27/1000 [58:37<35:13:18, 130.32s/it, v_num=twjq, train_loss_step=969, train_loss_epoch=890]"
     ]
    },
    {
     "name": "stdout",
     "output_type": "stream",
     "text": [
      "\r",
      "Epoch 27/1000:   3%|▎         | 27/1000 [58:37<35:13:18, 130.32s/it, v_num=twjq, train_loss_step=844, train_loss_epoch=890]"
     ]
    },
    {
     "name": "stdout",
     "output_type": "stream",
     "text": [
      "\r",
      "Epoch 28/1000:   3%|▎         | 27/1000 [58:37<35:13:18, 130.32s/it, v_num=twjq, train_loss_step=844, train_loss_epoch=890]"
     ]
    },
    {
     "name": "stdout",
     "output_type": "stream",
     "text": [
      "\r",
      "Epoch 28/1000:   3%|▎         | 28/1000 [1:00:47<35:05:03, 129.94s/it, v_num=twjq, train_loss_step=844, train_loss_epoch=890]"
     ]
    },
    {
     "name": "stdout",
     "output_type": "stream",
     "text": [
      "\r",
      "Epoch 28/1000:   3%|▎         | 28/1000 [1:00:47<35:05:03, 129.94s/it, v_num=twjq, train_loss_step=759, train_loss_epoch=890]"
     ]
    },
    {
     "name": "stdout",
     "output_type": "stream",
     "text": [
      "\r",
      "Epoch 29/1000:   3%|▎         | 28/1000 [1:00:47<35:05:03, 129.94s/it, v_num=twjq, train_loss_step=759, train_loss_epoch=890]"
     ]
    },
    {
     "name": "stdout",
     "output_type": "stream",
     "text": [
      "\r",
      "Epoch 29/1000:   3%|▎         | 29/1000 [1:02:58<35:10:06, 130.39s/it, v_num=twjq, train_loss_step=759, train_loss_epoch=890]"
     ]
    },
    {
     "name": "stdout",
     "output_type": "stream",
     "text": [
      "\r",
      "Epoch 29/1000:   3%|▎         | 29/1000 [1:02:58<35:10:06, 130.39s/it, v_num=twjq, train_loss_step=869, train_loss_epoch=890]"
     ]
    },
    {
     "name": "stdout",
     "output_type": "stream",
     "text": [
      "\r",
      "Epoch 30/1000:   3%|▎         | 29/1000 [1:02:58<35:10:06, 130.39s/it, v_num=twjq, train_loss_step=869, train_loss_epoch=890]"
     ]
    },
    {
     "name": "stdout",
     "output_type": "stream",
     "text": [
      "\r",
      "Epoch 30/1000:   3%|▎         | 30/1000 [1:05:08<35:07:05, 130.34s/it, v_num=twjq, train_loss_step=869, train_loss_epoch=890]"
     ]
    },
    {
     "name": "stdout",
     "output_type": "stream",
     "text": [
      "\r",
      "Epoch 30/1000:   3%|▎         | 30/1000 [1:05:08<35:07:05, 130.34s/it, v_num=twjq, train_loss_step=826, train_loss_epoch=890]"
     ]
    },
    {
     "name": "stdout",
     "output_type": "stream",
     "text": [
      "\r",
      "Epoch 31/1000:   3%|▎         | 30/1000 [1:05:08<35:07:05, 130.34s/it, v_num=twjq, train_loss_step=826, train_loss_epoch=890]"
     ]
    },
    {
     "name": "stdout",
     "output_type": "stream",
     "text": [
      "\r",
      "Epoch 31/1000:   3%|▎         | 31/1000 [1:07:19<35:08:22, 130.55s/it, v_num=twjq, train_loss_step=826, train_loss_epoch=890]"
     ]
    },
    {
     "name": "stdout",
     "output_type": "stream",
     "text": [
      "\r",
      "Epoch 31/1000:   3%|▎         | 31/1000 [1:07:19<35:08:22, 130.55s/it, v_num=twjq, train_loss_step=877, train_loss_epoch=890]"
     ]
    },
    {
     "name": "stdout",
     "output_type": "stream",
     "text": [
      "\r",
      "Epoch 32/1000:   3%|▎         | 31/1000 [1:07:19<35:08:22, 130.55s/it, v_num=twjq, train_loss_step=877, train_loss_epoch=890]"
     ]
    },
    {
     "name": "stdout",
     "output_type": "stream",
     "text": [
      "\r",
      "Epoch 32/1000:   3%|▎         | 32/1000 [1:09:29<35:03:39, 130.39s/it, v_num=twjq, train_loss_step=877, train_loss_epoch=890]"
     ]
    },
    {
     "name": "stdout",
     "output_type": "stream",
     "text": [
      "\r",
      "Epoch 32/1000:   3%|▎         | 32/1000 [1:09:29<35:03:39, 130.39s/it, v_num=twjq, train_loss_step=867, train_loss_epoch=890]"
     ]
    },
    {
     "name": "stdout",
     "output_type": "stream",
     "text": [
      "\r",
      "Epoch 33/1000:   3%|▎         | 32/1000 [1:09:29<35:03:39, 130.39s/it, v_num=twjq, train_loss_step=867, train_loss_epoch=890]"
     ]
    },
    {
     "name": "stdout",
     "output_type": "stream",
     "text": [
      "\r",
      "Epoch 33/1000:   3%|▎         | 33/1000 [1:11:40<35:03:01, 130.49s/it, v_num=twjq, train_loss_step=867, train_loss_epoch=890]"
     ]
    },
    {
     "name": "stdout",
     "output_type": "stream",
     "text": [
      "\r",
      "Epoch 33/1000:   3%|▎         | 33/1000 [1:11:40<35:03:01, 130.49s/it, v_num=twjq, train_loss_step=895, train_loss_epoch=890]"
     ]
    },
    {
     "name": "stdout",
     "output_type": "stream",
     "text": [
      "\r",
      "Epoch 34/1000:   3%|▎         | 33/1000 [1:11:40<35:03:01, 130.49s/it, v_num=twjq, train_loss_step=895, train_loss_epoch=890]"
     ]
    },
    {
     "name": "stdout",
     "output_type": "stream",
     "text": [
      "\r",
      "Epoch 34/1000:   3%|▎         | 34/1000 [1:13:50<35:01:02, 130.50s/it, v_num=twjq, train_loss_step=895, train_loss_epoch=890]"
     ]
    },
    {
     "name": "stdout",
     "output_type": "stream",
     "text": [
      "\r",
      "Epoch 34/1000:   3%|▎         | 34/1000 [1:13:50<35:01:02, 130.50s/it, v_num=twjq, train_loss_step=973, train_loss_epoch=890]"
     ]
    },
    {
     "name": "stdout",
     "output_type": "stream",
     "text": [
      "\r",
      "Epoch 35/1000:   3%|▎         | 34/1000 [1:13:50<35:01:02, 130.50s/it, v_num=twjq, train_loss_step=973, train_loss_epoch=890]"
     ]
    },
    {
     "name": "stdout",
     "output_type": "stream",
     "text": [
      "\r",
      "Epoch 35/1000:   4%|▎         | 35/1000 [1:16:01<34:57:39, 130.42s/it, v_num=twjq, train_loss_step=973, train_loss_epoch=890]"
     ]
    },
    {
     "name": "stdout",
     "output_type": "stream",
     "text": [
      "\r",
      "Epoch 35/1000:   4%|▎         | 35/1000 [1:16:01<34:57:39, 130.42s/it, v_num=twjq, train_loss_step=836, train_loss_epoch=890]"
     ]
    },
    {
     "name": "stdout",
     "output_type": "stream",
     "text": [
      "\r",
      "Epoch 36/1000:   4%|▎         | 35/1000 [1:16:01<34:57:39, 130.42s/it, v_num=twjq, train_loss_step=836, train_loss_epoch=890]"
     ]
    },
    {
     "name": "stdout",
     "output_type": "stream",
     "text": [
      "\r",
      "Epoch 36/1000:   4%|▎         | 36/1000 [1:18:12<35:00:25, 130.73s/it, v_num=twjq, train_loss_step=836, train_loss_epoch=890]"
     ]
    },
    {
     "name": "stdout",
     "output_type": "stream",
     "text": [
      "\r",
      "Epoch 36/1000:   4%|▎         | 36/1000 [1:18:12<35:00:25, 130.73s/it, v_num=twjq, train_loss_step=907, train_loss_epoch=890]"
     ]
    },
    {
     "name": "stdout",
     "output_type": "stream",
     "text": [
      "\r",
      "Epoch 37/1000:   4%|▎         | 36/1000 [1:18:12<35:00:25, 130.73s/it, v_num=twjq, train_loss_step=907, train_loss_epoch=890]"
     ]
    },
    {
     "name": "stdout",
     "output_type": "stream",
     "text": [
      "\r",
      "Epoch 37/1000:   4%|▎         | 37/1000 [1:20:21<34:51:22, 130.30s/it, v_num=twjq, train_loss_step=907, train_loss_epoch=890]"
     ]
    },
    {
     "name": "stdout",
     "output_type": "stream",
     "text": [
      "\r",
      "Epoch 37/1000:   4%|▎         | 37/1000 [1:20:21<34:51:22, 130.30s/it, v_num=twjq, train_loss_step=923, train_loss_epoch=890]"
     ]
    },
    {
     "name": "stdout",
     "output_type": "stream",
     "text": [
      "\r",
      "Epoch 38/1000:   4%|▎         | 37/1000 [1:20:21<34:51:22, 130.30s/it, v_num=twjq, train_loss_step=923, train_loss_epoch=890]"
     ]
    },
    {
     "name": "stdout",
     "output_type": "stream",
     "text": [
      "\r",
      "Epoch 38/1000:   4%|▍         | 38/1000 [1:22:32<34:51:16, 130.43s/it, v_num=twjq, train_loss_step=923, train_loss_epoch=890]"
     ]
    },
    {
     "name": "stdout",
     "output_type": "stream",
     "text": [
      "\r",
      "Epoch 38/1000:   4%|▍         | 38/1000 [1:22:32<34:51:16, 130.43s/it, v_num=twjq, train_loss_step=895, train_loss_epoch=891]"
     ]
    },
    {
     "name": "stdout",
     "output_type": "stream",
     "text": [
      "\r",
      "Epoch 39/1000:   4%|▍         | 38/1000 [1:22:32<34:51:16, 130.43s/it, v_num=twjq, train_loss_step=895, train_loss_epoch=891]"
     ]
    },
    {
     "name": "stdout",
     "output_type": "stream",
     "text": [
      "\r",
      "Epoch 39/1000:   4%|▍         | 39/1000 [1:24:43<34:51:24, 130.58s/it, v_num=twjq, train_loss_step=895, train_loss_epoch=891]"
     ]
    },
    {
     "name": "stdout",
     "output_type": "stream",
     "text": [
      "\r",
      "Epoch 39/1000:   4%|▍         | 39/1000 [1:24:43<34:51:24, 130.58s/it, v_num=twjq, train_loss_step=923, train_loss_epoch=891]"
     ]
    },
    {
     "name": "stdout",
     "output_type": "stream",
     "text": [
      "\r",
      "Epoch 40/1000:   4%|▍         | 39/1000 [1:24:43<34:51:24, 130.58s/it, v_num=twjq, train_loss_step=923, train_loss_epoch=891]"
     ]
    },
    {
     "name": "stdout",
     "output_type": "stream",
     "text": [
      "\r",
      "Epoch 40/1000:   4%|▍         | 40/1000 [1:26:53<34:43:51, 130.24s/it, v_num=twjq, train_loss_step=923, train_loss_epoch=891]"
     ]
    },
    {
     "name": "stdout",
     "output_type": "stream",
     "text": [
      "\r",
      "Epoch 40/1000:   4%|▍         | 40/1000 [1:26:53<34:43:51, 130.24s/it, v_num=twjq, train_loss_step=874, train_loss_epoch=891]"
     ]
    },
    {
     "name": "stdout",
     "output_type": "stream",
     "text": [
      "\r",
      "Epoch 41/1000:   4%|▍         | 40/1000 [1:26:53<34:43:51, 130.24s/it, v_num=twjq, train_loss_step=874, train_loss_epoch=891]"
     ]
    },
    {
     "name": "stdout",
     "output_type": "stream",
     "text": [
      "\r",
      "Epoch 41/1000:   4%|▍         | 41/1000 [1:29:03<34:44:15, 130.40s/it, v_num=twjq, train_loss_step=874, train_loss_epoch=891]"
     ]
    },
    {
     "name": "stdout",
     "output_type": "stream",
     "text": [
      "\r",
      "Epoch 41/1000:   4%|▍         | 41/1000 [1:29:03<34:44:15, 130.40s/it, v_num=twjq, train_loss_step=984, train_loss_epoch=891]"
     ]
    },
    {
     "name": "stdout",
     "output_type": "stream",
     "text": [
      "\r",
      "Epoch 42/1000:   4%|▍         | 41/1000 [1:29:03<34:44:15, 130.40s/it, v_num=twjq, train_loss_step=984, train_loss_epoch=891]"
     ]
    },
    {
     "name": "stdout",
     "output_type": "stream",
     "text": [
      "\r",
      "Epoch 42/1000:   4%|▍         | 42/1000 [1:31:12<34:35:20, 129.98s/it, v_num=twjq, train_loss_step=984, train_loss_epoch=891]"
     ]
    },
    {
     "name": "stdout",
     "output_type": "stream",
     "text": [
      "\r",
      "Epoch 42/1000:   4%|▍         | 42/1000 [1:31:12<34:35:20, 129.98s/it, v_num=twjq, train_loss_step=899, train_loss_epoch=891]"
     ]
    },
    {
     "name": "stdout",
     "output_type": "stream",
     "text": [
      "\r",
      "Epoch 43/1000:   4%|▍         | 42/1000 [1:31:12<34:35:20, 129.98s/it, v_num=twjq, train_loss_step=899, train_loss_epoch=891]"
     ]
    },
    {
     "name": "stdout",
     "output_type": "stream",
     "text": [
      "\r",
      "Epoch 43/1000:   4%|▍         | 43/1000 [1:33:24<34:38:51, 130.34s/it, v_num=twjq, train_loss_step=899, train_loss_epoch=891]"
     ]
    },
    {
     "name": "stdout",
     "output_type": "stream",
     "text": [
      "\r",
      "Epoch 43/1000:   4%|▍         | 43/1000 [1:33:24<34:38:51, 130.34s/it, v_num=twjq, train_loss_step=1.07e+3, train_loss_epoch=891]"
     ]
    },
    {
     "name": "stdout",
     "output_type": "stream",
     "text": [
      "\r",
      "Epoch 44/1000:   4%|▍         | 43/1000 [1:33:24<34:38:51, 130.34s/it, v_num=twjq, train_loss_step=1.07e+3, train_loss_epoch=891]"
     ]
    },
    {
     "name": "stdout",
     "output_type": "stream",
     "text": [
      "\r",
      "Epoch 44/1000:   4%|▍         | 44/1000 [1:35:32<34:27:44, 129.77s/it, v_num=twjq, train_loss_step=1.07e+3, train_loss_epoch=891]"
     ]
    },
    {
     "name": "stdout",
     "output_type": "stream",
     "text": [
      "\r",
      "Epoch 44/1000:   4%|▍         | 44/1000 [1:35:32<34:27:44, 129.77s/it, v_num=twjq, train_loss_step=1.04e+3, train_loss_epoch=891]"
     ]
    },
    {
     "name": "stdout",
     "output_type": "stream",
     "text": [
      "\r",
      "Epoch 45/1000:   4%|▍         | 44/1000 [1:35:32<34:27:44, 129.77s/it, v_num=twjq, train_loss_step=1.04e+3, train_loss_epoch=891]"
     ]
    },
    {
     "name": "stdout",
     "output_type": "stream",
     "text": [
      "\r",
      "Epoch 45/1000:   4%|▍         | 45/1000 [1:37:43<34:30:39, 130.09s/it, v_num=twjq, train_loss_step=1.04e+3, train_loss_epoch=891]"
     ]
    },
    {
     "name": "stdout",
     "output_type": "stream",
     "text": [
      "\r",
      "Epoch 45/1000:   4%|▍         | 45/1000 [1:37:43<34:30:39, 130.09s/it, v_num=twjq, train_loss_step=934, train_loss_epoch=891]    "
     ]
    },
    {
     "name": "stdout",
     "output_type": "stream",
     "text": [
      "\r",
      "Epoch 45/1000:   4%|▍         | 45/1000 [1:37:43<34:33:52, 130.30s/it, v_num=twjq, train_loss_step=934, train_loss_epoch=891]"
     ]
    },
    {
     "name": "stdout",
     "output_type": "stream",
     "text": [
      "\n",
      "Monitored metric reconstruction_loss_validation did not improve in the last 10 records. Best score: 884.904. Signaling Trainer to stop.\n"
     ]
    }
   ],
   "source": [
    "model.train(logger=logger, plan_kwargs = plan_kwargs, **trainer_kwargs)"
   ]
  },
  {
   "cell_type": "code",
   "execution_count": 15,
   "id": "c282f6eb-0ad1-40a5-81e6-1acda1545dad",
   "metadata": {
    "execution": {
     "iopub.execute_input": "2024-04-29T12:04:57.448157Z",
     "iopub.status.busy": "2024-04-29T12:04:57.447461Z",
     "iopub.status.idle": "2024-04-29T12:05:01.377097Z",
     "shell.execute_reply": "2024-04-29T12:05:01.376385Z"
    },
    "papermill": {
     "duration": 3.950631,
     "end_time": "2024-04-29T12:05:01.379980",
     "exception": false,
     "start_time": "2024-04-29T12:04:57.429349",
     "status": "completed"
    },
    "tags": []
   },
   "outputs": [
    {
     "name": "stderr",
     "output_type": "stream",
     "text": [
      "\u001b[34m\u001b[1mwandb\u001b[0m: - 0.003 MB of 0.003 MB uploaded\r"
     ]
    },
    {
     "name": "stderr",
     "output_type": "stream",
     "text": [
      "\u001b[34m\u001b[1mwandb\u001b[0m: \\ 0.003 MB of 0.003 MB uploaded\r"
     ]
    },
    {
     "name": "stderr",
     "output_type": "stream",
     "text": [
      "\u001b[34m\u001b[1mwandb\u001b[0m: | 0.009 MB of 0.009 MB uploaded\r"
     ]
    },
    {
     "name": "stderr",
     "output_type": "stream",
     "text": [
      "\u001b[34m\u001b[1mwandb\u001b[0m:                                                                                \n"
     ]
    },
    {
     "name": "stderr",
     "output_type": "stream",
     "text": [
      "\u001b[34m\u001b[1mwandb\u001b[0m: \n",
      "\u001b[34m\u001b[1mwandb\u001b[0m: Run history:\n",
      "\u001b[34m\u001b[1mwandb\u001b[0m:                     elbo_train █▆▅▄▄▃▃▃▃▃▂▂▂▂▂▂▂▂▂▂▂▂▂▂▁▁▁▁▁▁▁▁▁▁▁▁▁▁▁▁\n",
      "\u001b[34m\u001b[1mwandb\u001b[0m:                elbo_validation █▇▆▅▄▄▄▃▃▃▃▃▂▂▂▂▂▂▂▂▂▂▂▂▂▁▁▁▁▁▁▁▁▁▁▁▁▁▁▁\n",
      "\u001b[34m\u001b[1mwandb\u001b[0m:                          epoch ▁▁▁▁▂▂▂▂▂▃▃▃▃▃▄▄▄▄▄▄▅▅▅▅▅▅▆▆▆▆▆▇▇▇▇▇▇███\n",
      "\u001b[34m\u001b[1mwandb\u001b[0m:                kl_global_train ▁▁▁▁▁▁▁▁▁▁▁▁▁▁▁▁▁▁▁▁▁▁▁▁▁▁▁▁▁▁▁▁▁▁▁▁▁▁▁▁\n",
      "\u001b[34m\u001b[1mwandb\u001b[0m:           kl_global_validation ▁▁▁▁▁▁▁▁▁▁▁▁▁▁▁▁▁▁▁▁▁▁▁▁▁▁▁▁▁▁▁▁▁▁▁▁▁▁▁▁\n",
      "\u001b[34m\u001b[1mwandb\u001b[0m:                 kl_local_train ██▇▅▅▄▄▄▃▃▃▃▃▃▃▂▂▂▂▂▂▂▂▂▂▂▂▂▂▁▁▁▁▁▁▁▁▁▁▁\n",
      "\u001b[34m\u001b[1mwandb\u001b[0m:            kl_local_validation █▇▆▅▄▄▄▄▃▃▃▃▃▃▂▂▂▂▂▂▂▂▂▂▂▂▂▂▁▁▁▁▁▁▁▁▁▁▁▁\n",
      "\u001b[34m\u001b[1mwandb\u001b[0m:                      kl_weight ▁▁▁▁▂▂▂▂▂▃▃▃▃▃▄▄▄▄▄▄▅▅▅▅▅▅▆▆▆▆▆▇▇▇▇▇▇███\n",
      "\u001b[34m\u001b[1mwandb\u001b[0m:      reconstruction_loss_train █▃▃▂▂▂▂▂▂▁▁▁▁▁▁▁▁▁▁▁▁▁▁▁▁▁▁▁▁▁▁▁▁▁▁▁▁▁▁▁\n",
      "\u001b[34m\u001b[1mwandb\u001b[0m: reconstruction_loss_validation █▅▄▃▃▃▂▂▂▂▂▂▂▁▁▁▁▁▁▁▁▁▁▁▁▁▁▁▁▁▁▁▁▁▁▁▁▁▁▁\n",
      "\u001b[34m\u001b[1mwandb\u001b[0m:               train_loss_epoch █▃▂▂▁▁▁▁▁▁▁▁▁▁▁▁▁▁▁▁▁▁▁▁▁▁▁▁▁▁▁▁▁▁▁▁▁▁▁▁\n",
      "\u001b[34m\u001b[1mwandb\u001b[0m:                train_loss_step █▅▆▃▅▄▅▆▃▆▇▇▅▄▆▅▆▆▅▅▇▁▆▆▅▆▆▅▆▄▄▄▇▇▆▅▇▅█▄\n",
      "\u001b[34m\u001b[1mwandb\u001b[0m:            trainer/global_step ▁▁▁▂▂▂▂▂▂▃▃▃▃▃▄▄▄▄▄▄▅▅▅▅▅▅▆▆▆▆▆▇▇▇▇▇▇███\n",
      "\u001b[34m\u001b[1mwandb\u001b[0m:                validation_loss █▄▃▂▂▂▁▁▁▁▁▁▁▁▁▁▁▁▁▁▁▁▂▂▂▂▂▂▂▂▂▂▃▂▃▃▃▃▃▃\n",
      "\u001b[34m\u001b[1mwandb\u001b[0m: \n",
      "\u001b[34m\u001b[1mwandb\u001b[0m: Run summary:\n",
      "\u001b[34m\u001b[1mwandb\u001b[0m:                     elbo_train 927.18518\n",
      "\u001b[34m\u001b[1mwandb\u001b[0m:                elbo_validation 925.11743\n",
      "\u001b[34m\u001b[1mwandb\u001b[0m:                          epoch 44\n",
      "\u001b[34m\u001b[1mwandb\u001b[0m:                kl_global_train 0.0\n",
      "\u001b[34m\u001b[1mwandb\u001b[0m:           kl_global_validation 0.0\n",
      "\u001b[34m\u001b[1mwandb\u001b[0m:                 kl_local_train 40.63315\n",
      "\u001b[34m\u001b[1mwandb\u001b[0m:            kl_local_validation 40.01995\n",
      "\u001b[34m\u001b[1mwandb\u001b[0m:                      kl_weight 0.11\n",
      "\u001b[34m\u001b[1mwandb\u001b[0m:      reconstruction_loss_train 886.552\n",
      "\u001b[34m\u001b[1mwandb\u001b[0m: reconstruction_loss_validation 885.09747\n",
      "\u001b[34m\u001b[1mwandb\u001b[0m:               train_loss_epoch 891.02197\n",
      "\u001b[34m\u001b[1mwandb\u001b[0m:                train_loss_step 972.00653\n",
      "\u001b[34m\u001b[1mwandb\u001b[0m:            trainer/global_step 423044\n",
      "\u001b[34m\u001b[1mwandb\u001b[0m:                validation_loss 889.4989\n",
      "\u001b[34m\u001b[1mwandb\u001b[0m: \n"
     ]
    },
    {
     "name": "stderr",
     "output_type": "stream",
     "text": [
      "\u001b[34m\u001b[1mwandb\u001b[0m: 🚀 View run \u001b[33mStep1_Mono_and_DC\u001b[0m at: \u001b[34m\u001b[4mhttps://wandb.ai/inflammation/inflammation_atlas_R1/runs/2u10twjq\u001b[0m\n",
      "\u001b[34m\u001b[1mwandb\u001b[0m: Synced 5 W&B file(s), 0 media file(s), 0 artifact file(s) and 0 other file(s)\n"
     ]
    },
    {
     "name": "stderr",
     "output_type": "stream",
     "text": [
      "\u001b[34m\u001b[1mwandb\u001b[0m: Find logs at: \u001b[35m\u001b[1m./wandb/run-20240429_102713-2u10twjq/logs\u001b[0m\n"
     ]
    }
   ],
   "source": [
    "wandb.finish()"
   ]
  },
  {
   "cell_type": "markdown",
   "id": "d9fb1179-83c7-4ac6-b4aa-92dc7a349801",
   "metadata": {
    "papermill": {
     "duration": 0.018841,
     "end_time": "2024-04-29T12:05:01.417019",
     "exception": false,
     "start_time": "2024-04-29T12:05:01.398178",
     "status": "completed"
    },
    "tags": []
   },
   "source": [
    "### Extracting embedding space"
   ]
  },
  {
   "cell_type": "code",
   "execution_count": 16,
   "id": "caaa5832-0123-4c59-8ec6-f46a75f7a14e",
   "metadata": {
    "execution": {
     "iopub.execute_input": "2024-04-29T12:05:01.446461Z",
     "iopub.status.busy": "2024-04-29T12:05:01.446135Z",
     "iopub.status.idle": "2024-04-29T12:05:48.518119Z",
     "shell.execute_reply": "2024-04-29T12:05:48.517341Z"
    },
    "papermill": {
     "duration": 47.086681,
     "end_time": "2024-04-29T12:05:48.520290",
     "exception": false,
     "start_time": "2024-04-29T12:05:01.433609",
     "status": "completed"
    },
    "tags": []
   },
   "outputs": [],
   "source": [
    "adata.obsm['X_scVI'] = model.get_latent_representation()"
   ]
  },
  {
   "cell_type": "markdown",
   "id": "2f03e70b-839c-40a6-9fbb-d76bbd787419",
   "metadata": {
    "papermill": {
     "duration": 0.011291,
     "end_time": "2024-04-29T12:05:48.543426",
     "exception": false,
     "start_time": "2024-04-29T12:05:48.532135",
     "status": "completed"
    },
    "tags": []
   },
   "source": [
    "## Save the results"
   ]
  },
  {
   "cell_type": "code",
   "execution_count": 17,
   "id": "7b04049b-47fd-4b62-a1c0-c43dcc086d34",
   "metadata": {
    "execution": {
     "iopub.execute_input": "2024-04-29T12:05:48.567974Z",
     "iopub.status.busy": "2024-04-29T12:05:48.567659Z",
     "iopub.status.idle": "2024-04-29T12:08:56.860452Z",
     "shell.execute_reply": "2024-04-29T12:08:56.859672Z"
    },
    "papermill": {
     "duration": 188.307719,
     "end_time": "2024-04-29T12:08:56.862574",
     "exception": false,
     "start_time": "2024-04-29T12:05:48.554855",
     "status": "completed"
    },
    "tags": []
   },
   "outputs": [],
   "source": [
    "if overwriteData:\n",
    "    adata.write(here(f\"{workDir}/{cellGroup}/results/02_{annotationLevel}_{cellGroup}_HVGsubset_scVI.h5ad\"), compression=\"gzip\")\n",
    "    model.save(here(f\"{workDir}/{cellGroup}/results/02_{annotationLevel}_{cellGroup}_HVGsubset_scVI_MODEL/\"),\n",
    "               overwrite = True, \n",
    "               save_anndata = False )   "
   ]
  },
  {
   "cell_type": "code",
   "execution_count": 18,
   "id": "629ba2bd-f6be-44ef-8fca-bbdf891bf25f",
   "metadata": {
    "execution": {
     "iopub.execute_input": "2024-04-29T12:08:56.996147Z",
     "iopub.status.busy": "2024-04-29T12:08:56.995490Z",
     "iopub.status.idle": "2024-04-29T12:08:56.999029Z",
     "shell.execute_reply": "2024-04-29T12:08:56.998361Z"
    },
    "papermill": {
     "duration": 0.084125,
     "end_time": "2024-04-29T12:08:57.000708",
     "exception": false,
     "start_time": "2024-04-29T12:08:56.916583",
     "status": "completed"
    },
    "tags": []
   },
   "outputs": [],
   "source": [
    "# To load the model do (after loading corresponding adata):\n",
    "# model = scvi.model.SCVI.load(here('{}/results/01_{}_HVGsubset_scVI_MODEL/'.format(workDir, cellGroup)), \n",
    "#                              adata, \n",
    "#                              use_gpu=True)"
   ]
  },
  {
   "cell_type": "raw",
   "id": "975e84d0-f56b-498d-b3a8-c9219cf22e53",
   "metadata": {
    "papermill": {
     "duration": 0.08074,
     "end_time": "2024-04-29T12:08:57.155501",
     "exception": false,
     "start_time": "2024-04-29T12:08:57.074761",
     "status": "completed"
    },
    "tags": []
   },
   "source": [
    "session_info.show()"
   ]
  }
 ],
 "metadata": {
  "kernelspec": {
   "display_name": "Python 3 (ipykernel)",
   "language": "python",
   "name": "python3"
  },
  "language_info": {
   "codemirror_mode": {
    "name": "ipython",
    "version": 3
   },
   "file_extension": ".py",
   "mimetype": "text/x-python",
   "name": "python",
   "nbconvert_exporter": "python",
   "pygments_lexer": "ipython3",
   "version": "3.9.18"
  },
  "papermill": {
   "default_parameters": {},
   "duration": 6169.016441,
   "end_time": "2024-04-29T12:09:00.852928",
   "environment_variables": {},
   "exception": null,
   "input_path": "/home/jupyter/Inflammation-PBMCs-Atlas/02_cell_annotation/02_fromCellLineages_to_CellTypes/Step1/Mono_and_DC/02_integration_scVI.ipynb",
   "output_path": "/home/jupyter/Inflammation-PBMCs-Atlas/02_cell_annotation/02_fromCellLineages_to_CellTypes/Step1/Mono_and_DC/02_integration_scVI_executed.ipynb",
   "parameters": {},
   "start_time": "2024-04-29T10:26:11.836487",
   "version": "2.5.0"
  }
 },
 "nbformat": 4,
 "nbformat_minor": 5
}