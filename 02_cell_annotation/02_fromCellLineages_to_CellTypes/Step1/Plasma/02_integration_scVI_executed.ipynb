{
 "cells": [
  {
   "cell_type": "code",
   "execution_count": 1,
   "id": "2dd1425a-0c07-465e-b522-9e3cc5cb93a7",
   "metadata": {
    "execution": {
     "iopub.execute_input": "2024-04-28T19:06:27.598114Z",
     "iopub.status.busy": "2024-04-28T19:06:27.597345Z",
     "iopub.status.idle": "2024-04-28T19:06:34.108507Z",
     "shell.execute_reply": "2024-04-28T19:06:34.107321Z"
    },
    "papermill": {
     "duration": 6.535318,
     "end_time": "2024-04-28T19:06:34.110726",
     "exception": false,
     "start_time": "2024-04-28T19:06:27.575408",
     "status": "completed"
    },
    "tags": []
   },
   "outputs": [
    {
     "data": {
      "text/plain": [
       "True"
      ]
     },
     "execution_count": 1,
     "metadata": {},
     "output_type": "execute_result"
    }
   ],
   "source": [
    "import os\n",
    "import sys\n",
    "\n",
    "import numpy as np\n",
    "import matplotlib.pyplot as plt\n",
    "\n",
    "import scanpy as sc\n",
    "import scvi\n",
    "import torch\n",
    "\n",
    "from pytorch_lightning.loggers import WandbLogger\n",
    "import wandb\n",
    "from dotenv import load_dotenv\n",
    "\n",
    "import session_info\n",
    "import warnings\n",
    "from pyprojroot.here import here\n",
    "\n",
    "warnings.filterwarnings(\"ignore\")\n",
    "sys.path.insert(1, str(here('bin')))\n",
    "\n",
    "torch.set_float32_matmul_precision('high')\n",
    "\n",
    "#plt.style.use(['science','nature','no-latex'])\n",
    "dpi_fig_save = 300\n",
    "sc.set_figure_params(dpi=100, dpi_save=dpi_fig_save, vector_friendly=True)\n",
    "\n",
    "load_dotenv(here('.env'))"
   ]
  },
  {
   "cell_type": "code",
   "execution_count": 2,
   "id": "09c897fc-744b-43de-a681-718fb5d327fa",
   "metadata": {
    "execution": {
     "iopub.execute_input": "2024-04-28T19:06:34.122420Z",
     "iopub.status.busy": "2024-04-28T19:06:34.122115Z",
     "iopub.status.idle": "2024-04-28T19:06:34.126432Z",
     "shell.execute_reply": "2024-04-28T19:06:34.125697Z"
    },
    "papermill": {
     "duration": 0.011192,
     "end_time": "2024-04-28T19:06:34.128137",
     "exception": false,
     "start_time": "2024-04-28T19:06:34.116945",
     "status": "completed"
    },
    "tags": []
   },
   "outputs": [],
   "source": [
    "class CustomWandbLogger(WandbLogger):\n",
    "    @property\n",
    "    def save_dir(self):\n",
    "        return self.experiment.dir"
   ]
  },
  {
   "cell_type": "code",
   "execution_count": 3,
   "id": "8ee6662f-5d45-4137-80a5-bb0b9ae8d71f",
   "metadata": {
    "execution": {
     "iopub.execute_input": "2024-04-28T19:06:34.136929Z",
     "iopub.status.busy": "2024-04-28T19:06:34.136669Z",
     "iopub.status.idle": "2024-04-28T19:06:34.144052Z",
     "shell.execute_reply": "2024-04-28T19:06:34.143270Z"
    },
    "papermill": {
     "duration": 0.014058,
     "end_time": "2024-04-28T19:06:34.145819",
     "exception": false,
     "start_time": "2024-04-28T19:06:34.131761",
     "status": "completed"
    },
    "tags": []
   },
   "outputs": [
    {
     "name": "stderr",
     "output_type": "stream",
     "text": [
      "Seed set to 0\n"
     ]
    },
    {
     "name": "stdout",
     "output_type": "stream",
     "text": [
      "Last run with scvi-tools version: 1.1.2\n"
     ]
    }
   ],
   "source": [
    "scvi.settings.seed = 0\n",
    "print(\"Last run with scvi-tools version:\", scvi.__version__)"
   ]
  },
  {
   "cell_type": "markdown",
   "id": "a81037ff-5998-482a-ba86-520f757311a9",
   "metadata": {
    "papermill": {
     "duration": 0.003818,
     "end_time": "2024-04-28T19:06:34.153389",
     "exception": false,
     "start_time": "2024-04-28T19:06:34.149571",
     "status": "completed"
    },
    "tags": []
   },
   "source": [
    "**Setting parameters** "
   ]
  },
  {
   "cell_type": "code",
   "execution_count": 4,
   "id": "56c27966-8f10-4c93-8b1a-1fa75f005e41",
   "metadata": {
    "execution": {
     "iopub.execute_input": "2024-04-28T19:06:34.162539Z",
     "iopub.status.busy": "2024-04-28T19:06:34.162261Z",
     "iopub.status.idle": "2024-04-28T19:06:34.165951Z",
     "shell.execute_reply": "2024-04-28T19:06:34.165154Z"
    },
    "papermill": {
     "duration": 0.010355,
     "end_time": "2024-04-28T19:06:34.167753",
     "exception": false,
     "start_time": "2024-04-28T19:06:34.157398",
     "status": "completed"
    },
    "tags": []
   },
   "outputs": [],
   "source": [
    "overwriteFigures = True\n",
    "overwriteData = True"
   ]
  },
  {
   "cell_type": "code",
   "execution_count": 5,
   "id": "c86fccd3-a4fe-415b-8f4e-e2ceb3ec128a",
   "metadata": {
    "execution": {
     "iopub.execute_input": "2024-04-28T19:06:34.176822Z",
     "iopub.status.busy": "2024-04-28T19:06:34.176569Z",
     "iopub.status.idle": "2024-04-28T19:06:34.180171Z",
     "shell.execute_reply": "2024-04-28T19:06:34.179387Z"
    },
    "papermill": {
     "duration": 0.01037,
     "end_time": "2024-04-28T19:06:34.181924",
     "exception": false,
     "start_time": "2024-04-28T19:06:34.171554",
     "status": "completed"
    },
    "tags": []
   },
   "outputs": [],
   "source": [
    "cellGroup = 'Plasma'\n",
    "workDir = os.getcwd()"
   ]
  },
  {
   "cell_type": "code",
   "execution_count": 6,
   "id": "2dee4d55-d168-467b-b867-a61fed9d6af1",
   "metadata": {
    "execution": {
     "iopub.execute_input": "2024-04-28T19:06:34.190971Z",
     "iopub.status.busy": "2024-04-28T19:06:34.190447Z",
     "iopub.status.idle": "2024-04-28T19:06:34.194276Z",
     "shell.execute_reply": "2024-04-28T19:06:34.193456Z"
    },
    "papermill": {
     "duration": 0.01036,
     "end_time": "2024-04-28T19:06:34.196054",
     "exception": false,
     "start_time": "2024-04-28T19:06:34.185694",
     "status": "completed"
    },
    "tags": []
   },
   "outputs": [],
   "source": [
    "annotationLevel = os.path.basename(os.path.normpath(workDir))"
   ]
  },
  {
   "cell_type": "code",
   "execution_count": 7,
   "id": "11e53cd5-b746-4152-89cb-c2f0c15d90b3",
   "metadata": {
    "execution": {
     "iopub.execute_input": "2024-04-28T19:06:34.204908Z",
     "iopub.status.busy": "2024-04-28T19:06:34.204665Z",
     "iopub.status.idle": "2024-04-28T19:06:34.209595Z",
     "shell.execute_reply": "2024-04-28T19:06:34.208750Z"
    },
    "papermill": {
     "duration": 0.011631,
     "end_time": "2024-04-28T19:06:34.211505",
     "exception": false,
     "start_time": "2024-04-28T19:06:34.199874",
     "status": "completed"
    },
    "tags": []
   },
   "outputs": [
    {
     "data": {
      "text/plain": [
       "'/home/jupyter/Inflammation-PBMCs-Atlas/02_cell_annotation/02_fromCellLineages_to_CellTypes/Step1'"
      ]
     },
     "execution_count": 7,
     "metadata": {},
     "output_type": "execute_result"
    }
   ],
   "source": [
    "workDir"
   ]
  },
  {
   "cell_type": "markdown",
   "id": "171d2f06-9a44-4fcb-b437-35dc546674b6",
   "metadata": {
    "papermill": {
     "duration": 0.004026,
     "end_time": "2024-04-28T19:06:34.219571",
     "exception": false,
     "start_time": "2024-04-28T19:06:34.215545",
     "status": "completed"
    },
    "tags": []
   },
   "source": [
    "**Load data**"
   ]
  },
  {
   "cell_type": "code",
   "execution_count": 8,
   "id": "429f34fe-dde6-4cc9-9f75-7de8f85c5ffe",
   "metadata": {
    "execution": {
     "iopub.execute_input": "2024-04-28T19:06:34.229186Z",
     "iopub.status.busy": "2024-04-28T19:06:34.228903Z",
     "iopub.status.idle": "2024-04-28T19:06:35.513217Z",
     "shell.execute_reply": "2024-04-28T19:06:35.512368Z"
    },
    "papermill": {
     "duration": 1.291576,
     "end_time": "2024-04-28T19:06:35.515303",
     "exception": false,
     "start_time": "2024-04-28T19:06:34.223727",
     "status": "completed"
    },
    "tags": []
   },
   "outputs": [
    {
     "data": {
      "text/plain": [
       "AnnData object with n_obs × n_vars = 21848 × 2404\n",
       "    obs: 'studyID', 'libraryID', 'sampleID', 'chemistry', 'technology', 'patientID', 'disease', 'timepoint_replicate', 'treatmentStatus', 'therapyResponse', 'sex', 'age', 'BMI', 'binned_age', 'diseaseStatus', 'smokingStatus', 'ethnicity', 'institute', 'diseaseGroup', 'n_genes_by_counts', 'log1p_n_genes_by_counts', 'total_counts', 'log1p_total_counts', 'pct_counts_in_top_20_genes', 'total_counts_mt', 'log1p_total_counts_mt', 'pct_counts_mt', 'total_counts_ribo', 'log1p_total_counts_ribo', 'pct_counts_ribo', 'total_counts_hb', 'log1p_total_counts_hb', 'pct_counts_hb', 'total_counts_plt', 'log1p_total_counts_plt', 'pct_counts_plt', 'doublet_score', 'predicted_doublet', 'S_score', 'G2M_score', 'phase'\n",
       "    var: 'hgnc_id', 'symbol', 'locus_group', 'HUGO_status', 'mt', 'ribo', 'hb', 'plt', 'n_cells_by_counts', 'mean_counts', 'log1p_mean_counts', 'pct_dropout_by_counts', 'total_counts', 'log1p_total_counts', 'highly_variable'\n",
       "    uns: 'chemistry_colors', 'log1p'\n",
       "    layers: 'counts', 'log1p_10e4_counts'"
      ]
     },
     "execution_count": 8,
     "metadata": {},
     "output_type": "execute_result"
    }
   ],
   "source": [
    "adata = sc.read_h5ad(here(f\"{workDir}/{cellGroup}/results/01_{cellGroup}_normalized_HVGsubset.h5ad\"))\n",
    "adata"
   ]
  },
  {
   "cell_type": "markdown",
   "id": "8ac79f3b-d5af-41fa-8904-1e9ac1cbe2fb",
   "metadata": {
    "papermill": {
     "duration": 0.004369,
     "end_time": "2024-04-28T19:06:35.524211",
     "exception": false,
     "start_time": "2024-04-28T19:06:35.519842",
     "status": "completed"
    },
    "tags": []
   },
   "source": [
    "## scVI integration"
   ]
  },
  {
   "cell_type": "markdown",
   "id": "9544847d-d17f-4811-b14b-760446d54d32",
   "metadata": {
    "execution": {
     "iopub.execute_input": "2024-03-25T16:49:04.004504Z",
     "iopub.status.busy": "2024-03-25T16:49:04.004143Z",
     "iopub.status.idle": "2024-03-25T16:49:04.010148Z",
     "shell.execute_reply": "2024-03-25T16:49:04.009146Z",
     "shell.execute_reply.started": "2024-03-25T16:49:04.004477Z"
    },
    "papermill": {
     "duration": 0.004032,
     "end_time": "2024-04-28T19:06:35.532173",
     "exception": false,
     "start_time": "2024-04-28T19:06:35.528141",
     "status": "completed"
    },
    "tags": []
   },
   "source": [
    "**scVI parameters**"
   ]
  },
  {
   "cell_type": "code",
   "execution_count": 9,
   "id": "208966eb-545a-4c02-854c-0ed0487ef5b3",
   "metadata": {
    "execution": {
     "iopub.execute_input": "2024-04-28T19:06:35.542560Z",
     "iopub.status.busy": "2024-04-28T19:06:35.541762Z",
     "iopub.status.idle": "2024-04-28T19:06:35.548143Z",
     "shell.execute_reply": "2024-04-28T19:06:35.547249Z"
    },
    "papermill": {
     "duration": 0.013618,
     "end_time": "2024-04-28T19:06:35.549964",
     "exception": false,
     "start_time": "2024-04-28T19:06:35.536346",
     "status": "completed"
    },
    "tags": []
   },
   "outputs": [],
   "source": [
    "# https://docs.scvi-tools.org/en/stable/api/reference/scvi.train.Trainer.html#scvi.train.Trainer\n",
    "setup_kwargs = dict(\n",
    "    layer=\"counts\", \n",
    "    batch_key='libraryID', \n",
    "    categorical_covariate_keys = ['studyID', 'chemistry', 'disease', 'sampleID'],\n",
    "    labels_key = 'chemistry'    \n",
    ")\n",
    "\n",
    "scvi_kwargs = dict(n_hidden=512,\n",
    "                   n_latent=20, # reduceds after step 00 (main)\n",
    "                   n_layers=2,\n",
    "                   gene_likelihood='nb',\n",
    "                   dispersion='gene-label')\n",
    "\n",
    "trainer_kwargs = dict(\n",
    "    checkpointing_monitor = 'elbo_validation',\n",
    "    early_stopping_monitor = 'reconstruction_loss_validation',\n",
    "    early_stopping_patience = 10,\n",
    "    early_stopping_min_delta=0.1,\n",
    "    early_stopping = True,\n",
    "    max_epochs = 1000,\n",
    "\n",
    "    #logger = # wandb\n",
    ")\n",
    "# https://docs.scvi-tools.org/en/stable/api/reference/scvi.train.TrainingPlan.html#scvi.train.TrainingPlan\n",
    "plan_kwargs = dict(\n",
    "    lr = 5e-4,\n",
    "    #reduce_lr_on_plateau = True\n",
    ")\n",
    "\n",
    "# https://docs.scvi-tools.org/en/stable/api/reference/scvi.module.VAE.html#scvi.module.VAE\n",
    "#vae = dict(\n",
    "#    use_layer_norm='both',\n",
    "#    use_batch_norm='none',\n",
    "#    encode_covariates=True,\n",
    "#    deeply_inject_covariates=False\n",
    "#)\n",
    "parameter_dict = setup_kwargs | scvi_kwargs | trainer_kwargs | plan_kwargs"
   ]
  },
  {
   "cell_type": "markdown",
   "id": "1362366a-c16b-4c11-964b-b9c5f82f7b29",
   "metadata": {
    "papermill": {
     "duration": 0.00422,
     "end_time": "2024-04-28T19:06:35.558489",
     "exception": false,
     "start_time": "2024-04-28T19:06:35.554269",
     "status": "completed"
    },
    "tags": []
   },
   "source": [
    "**wandb parameter**"
   ]
  },
  {
   "cell_type": "code",
   "execution_count": 10,
   "id": "0496e33a-8ca5-423f-b42f-34a59760708c",
   "metadata": {
    "execution": {
     "iopub.execute_input": "2024-04-28T19:06:35.568387Z",
     "iopub.status.busy": "2024-04-28T19:06:35.568110Z",
     "iopub.status.idle": "2024-04-28T19:06:35.573787Z",
     "shell.execute_reply": "2024-04-28T19:06:35.572754Z"
    },
    "papermill": {
     "duration": 0.012769,
     "end_time": "2024-04-28T19:06:35.575683",
     "exception": false,
     "start_time": "2024-04-28T19:06:35.562914",
     "status": "completed"
    },
    "tags": []
   },
   "outputs": [
    {
     "data": {
      "text/plain": [
       "'Step1_Plasma'"
      ]
     },
     "execution_count": 10,
     "metadata": {},
     "output_type": "execute_result"
    }
   ],
   "source": [
    "run_name = f\"{annotationLevel}_{cellGroup}\"\n",
    "run_name"
   ]
  },
  {
   "cell_type": "code",
   "execution_count": 11,
   "id": "b0021327-95a2-4002-bf32-2c5779a99505",
   "metadata": {
    "execution": {
     "iopub.execute_input": "2024-04-28T19:06:35.585791Z",
     "iopub.status.busy": "2024-04-28T19:06:35.585377Z",
     "iopub.status.idle": "2024-04-28T19:06:35.732776Z",
     "shell.execute_reply": "2024-04-28T19:06:35.731808Z"
    },
    "papermill": {
     "duration": 0.155075,
     "end_time": "2024-04-28T19:06:35.735017",
     "exception": false,
     "start_time": "2024-04-28T19:06:35.579942",
     "status": "completed"
    },
    "tags": []
   },
   "outputs": [],
   "source": [
    "logger = CustomWandbLogger(name = run_name, project='inflammation_atlas_R1', config=parameter_dict)"
   ]
  },
  {
   "cell_type": "markdown",
   "id": "c237eee1-a976-4915-9b7f-b014bf33f47d",
   "metadata": {
    "papermill": {
     "duration": 0.004484,
     "end_time": "2024-04-28T19:06:35.744198",
     "exception": false,
     "start_time": "2024-04-28T19:06:35.739714",
     "status": "completed"
    },
    "tags": []
   },
   "source": [
    "**Running integration**"
   ]
  },
  {
   "cell_type": "code",
   "execution_count": 12,
   "id": "aff97c53-1aba-462e-8a77-f1aec9cf724c",
   "metadata": {
    "execution": {
     "iopub.execute_input": "2024-04-28T19:06:35.755034Z",
     "iopub.status.busy": "2024-04-28T19:06:35.754426Z",
     "iopub.status.idle": "2024-04-28T19:06:37.338032Z",
     "shell.execute_reply": "2024-04-28T19:06:37.337082Z"
    },
    "papermill": {
     "duration": 1.591651,
     "end_time": "2024-04-28T19:06:37.340329",
     "exception": false,
     "start_time": "2024-04-28T19:06:35.748678",
     "status": "completed"
    },
    "tags": []
   },
   "outputs": [],
   "source": [
    "scvi.model.SCVI.setup_anndata(adata, \n",
    "                              **setup_kwargs)"
   ]
  },
  {
   "cell_type": "code",
   "execution_count": 13,
   "id": "1a56f448-cf44-47c1-81a4-a89caa930fec",
   "metadata": {
    "execution": {
     "iopub.execute_input": "2024-04-28T19:06:37.351548Z",
     "iopub.status.busy": "2024-04-28T19:06:37.350950Z",
     "iopub.status.idle": "2024-04-28T19:06:37.637216Z",
     "shell.execute_reply": "2024-04-28T19:06:37.636252Z"
    },
    "papermill": {
     "duration": 0.294235,
     "end_time": "2024-04-28T19:06:37.639392",
     "exception": false,
     "start_time": "2024-04-28T19:06:37.345157",
     "status": "completed"
    },
    "tags": []
   },
   "outputs": [],
   "source": [
    "model = scvi.model.SCVI(adata, **scvi_kwargs)"
   ]
  },
  {
   "cell_type": "code",
   "execution_count": 14,
   "id": "2735f010-4f24-4ae8-9740-a8cfeb335e9a",
   "metadata": {
    "execution": {
     "iopub.execute_input": "2024-04-28T19:06:37.650407Z",
     "iopub.status.busy": "2024-04-28T19:06:37.649806Z",
     "iopub.status.idle": "2024-04-28T19:08:52.055431Z",
     "shell.execute_reply": "2024-04-28T19:08:52.054653Z"
    },
    "papermill": {
     "duration": 134.413185,
     "end_time": "2024-04-28T19:08:52.057273",
     "exception": false,
     "start_time": "2024-04-28T19:06:37.644088",
     "status": "completed"
    },
    "tags": []
   },
   "outputs": [
    {
     "name": "stderr",
     "output_type": "stream",
     "text": [
      "GPU available: True (cuda), used: True\n"
     ]
    },
    {
     "name": "stderr",
     "output_type": "stream",
     "text": [
      "TPU available: False, using: 0 TPU cores\n"
     ]
    },
    {
     "name": "stderr",
     "output_type": "stream",
     "text": [
      "IPU available: False, using: 0 IPUs\n"
     ]
    },
    {
     "name": "stderr",
     "output_type": "stream",
     "text": [
      "HPU available: False, using: 0 HPUs\n"
     ]
    },
    {
     "name": "stderr",
     "output_type": "stream",
     "text": [
      "\u001b[34m\u001b[1mwandb\u001b[0m: Currently logged in as: \u001b[33mdav1989\u001b[0m (\u001b[33minflammation\u001b[0m). Use \u001b[1m`wandb login --relogin`\u001b[0m to force relogin\n"
     ]
    },
    {
     "name": "stderr",
     "output_type": "stream",
     "text": [
      "\u001b[34m\u001b[1mwandb\u001b[0m: wandb version 0.16.6 is available!  To upgrade, please run:\n",
      "\u001b[34m\u001b[1mwandb\u001b[0m:  $ pip install wandb --upgrade\n"
     ]
    },
    {
     "name": "stderr",
     "output_type": "stream",
     "text": [
      "\u001b[34m\u001b[1mwandb\u001b[0m: Tracking run with wandb version 0.16.3\n"
     ]
    },
    {
     "name": "stderr",
     "output_type": "stream",
     "text": [
      "\u001b[34m\u001b[1mwandb\u001b[0m: Run data is saved locally in \u001b[35m\u001b[1m./wandb/run-20240428_190645-nww0mr0f\u001b[0m\n",
      "\u001b[34m\u001b[1mwandb\u001b[0m: Run \u001b[1m`wandb offline`\u001b[0m to turn off syncing.\n"
     ]
    },
    {
     "name": "stderr",
     "output_type": "stream",
     "text": [
      "\u001b[34m\u001b[1mwandb\u001b[0m: Syncing run \u001b[33mStep1_Plasma\u001b[0m\n"
     ]
    },
    {
     "name": "stderr",
     "output_type": "stream",
     "text": [
      "\u001b[34m\u001b[1mwandb\u001b[0m: ⭐️ View project at \u001b[34m\u001b[4mhttps://wandb.ai/inflammation/inflammation_atlas_R1\u001b[0m\n"
     ]
    },
    {
     "name": "stderr",
     "output_type": "stream",
     "text": [
      "\u001b[34m\u001b[1mwandb\u001b[0m: 🚀 View run at \u001b[34m\u001b[4mhttps://wandb.ai/inflammation/inflammation_atlas_R1/runs/nww0mr0f\u001b[0m\n"
     ]
    },
    {
     "name": "stderr",
     "output_type": "stream",
     "text": [
      "LOCAL_RANK: 0 - CUDA_VISIBLE_DEVICES: [0]\n"
     ]
    },
    {
     "name": "stdout",
     "output_type": "stream",
     "text": [
      "\r",
      "Training:   0%|          | 0/1000 [00:00<?, ?it/s]"
     ]
    },
    {
     "name": "stdout",
     "output_type": "stream",
     "text": [
      "\r",
      "Epoch 1/1000:   0%|          | 0/1000 [00:00<?, ?it/s]"
     ]
    },
    {
     "name": "stdout",
     "output_type": "stream",
     "text": [
      "\r",
      "Epoch 1/1000:   0%|          | 1/1000 [00:04<1:22:19,  4.94s/it]"
     ]
    },
    {
     "name": "stdout",
     "output_type": "stream",
     "text": [
      "\r",
      "Epoch 1/1000:   0%|          | 1/1000 [00:04<1:22:19,  4.94s/it, v_num=mr0f, train_loss_step=1.72e+3, train_loss_epoch=1.89e+3]"
     ]
    },
    {
     "name": "stdout",
     "output_type": "stream",
     "text": [
      "\r",
      "Epoch 2/1000:   0%|          | 1/1000 [00:04<1:22:19,  4.94s/it, v_num=mr0f, train_loss_step=1.72e+3, train_loss_epoch=1.89e+3]"
     ]
    },
    {
     "name": "stdout",
     "output_type": "stream",
     "text": [
      "\r",
      "Epoch 2/1000:   0%|          | 2/1000 [00:07<58:17,  3.50s/it, v_num=mr0f, train_loss_step=1.72e+3, train_loss_epoch=1.89e+3]  "
     ]
    },
    {
     "name": "stdout",
     "output_type": "stream",
     "text": [
      "\r",
      "Epoch 2/1000:   0%|          | 2/1000 [00:07<58:17,  3.50s/it, v_num=mr0f, train_loss_step=1.61e+3, train_loss_epoch=1.54e+3]"
     ]
    },
    {
     "name": "stdout",
     "output_type": "stream",
     "text": [
      "\r",
      "Epoch 3/1000:   0%|          | 2/1000 [00:07<58:17,  3.50s/it, v_num=mr0f, train_loss_step=1.61e+3, train_loss_epoch=1.54e+3]"
     ]
    },
    {
     "name": "stdout",
     "output_type": "stream",
     "text": [
      "\r",
      "Epoch 3/1000:   0%|          | 3/1000 [00:10<53:21,  3.21s/it, v_num=mr0f, train_loss_step=1.61e+3, train_loss_epoch=1.54e+3]"
     ]
    },
    {
     "name": "stdout",
     "output_type": "stream",
     "text": [
      "\r",
      "Epoch 3/1000:   0%|          | 3/1000 [00:10<53:21,  3.21s/it, v_num=mr0f, train_loss_step=1.44e+3, train_loss_epoch=1.48e+3]"
     ]
    },
    {
     "name": "stdout",
     "output_type": "stream",
     "text": [
      "\r",
      "Epoch 4/1000:   0%|          | 3/1000 [00:10<53:21,  3.21s/it, v_num=mr0f, train_loss_step=1.44e+3, train_loss_epoch=1.48e+3]"
     ]
    },
    {
     "name": "stdout",
     "output_type": "stream",
     "text": [
      "\r",
      "Epoch 4/1000:   0%|          | 4/1000 [00:13<53:29,  3.22s/it, v_num=mr0f, train_loss_step=1.44e+3, train_loss_epoch=1.48e+3]"
     ]
    },
    {
     "name": "stdout",
     "output_type": "stream",
     "text": [
      "\r",
      "Epoch 4/1000:   0%|          | 4/1000 [00:13<53:29,  3.22s/it, v_num=mr0f, train_loss_step=1.57e+3, train_loss_epoch=1.45e+3]"
     ]
    },
    {
     "name": "stdout",
     "output_type": "stream",
     "text": [
      "\r",
      "Epoch 5/1000:   0%|          | 4/1000 [00:13<53:29,  3.22s/it, v_num=mr0f, train_loss_step=1.57e+3, train_loss_epoch=1.45e+3]"
     ]
    },
    {
     "name": "stdout",
     "output_type": "stream",
     "text": [
      "\r",
      "Epoch 5/1000:   0%|          | 5/1000 [00:16<49:34,  2.99s/it, v_num=mr0f, train_loss_step=1.57e+3, train_loss_epoch=1.45e+3]"
     ]
    },
    {
     "name": "stdout",
     "output_type": "stream",
     "text": [
      "\r",
      "Epoch 5/1000:   0%|          | 5/1000 [00:16<49:34,  2.99s/it, v_num=mr0f, train_loss_step=1.32e+3, train_loss_epoch=1.43e+3]"
     ]
    },
    {
     "name": "stdout",
     "output_type": "stream",
     "text": [
      "\r",
      "Epoch 6/1000:   0%|          | 5/1000 [00:16<49:34,  2.99s/it, v_num=mr0f, train_loss_step=1.32e+3, train_loss_epoch=1.43e+3]"
     ]
    },
    {
     "name": "stdout",
     "output_type": "stream",
     "text": [
      "\r",
      "Epoch 6/1000:   1%|          | 6/1000 [00:18<47:28,  2.87s/it, v_num=mr0f, train_loss_step=1.32e+3, train_loss_epoch=1.43e+3]"
     ]
    },
    {
     "name": "stdout",
     "output_type": "stream",
     "text": [
      "\r",
      "Epoch 6/1000:   1%|          | 6/1000 [00:18<47:28,  2.87s/it, v_num=mr0f, train_loss_step=1.43e+3, train_loss_epoch=1.41e+3]"
     ]
    },
    {
     "name": "stdout",
     "output_type": "stream",
     "text": [
      "\r",
      "Epoch 7/1000:   1%|          | 6/1000 [00:18<47:28,  2.87s/it, v_num=mr0f, train_loss_step=1.43e+3, train_loss_epoch=1.41e+3]"
     ]
    },
    {
     "name": "stdout",
     "output_type": "stream",
     "text": [
      "\r",
      "Epoch 7/1000:   1%|          | 7/1000 [00:21<45:09,  2.73s/it, v_num=mr0f, train_loss_step=1.43e+3, train_loss_epoch=1.41e+3]"
     ]
    },
    {
     "name": "stdout",
     "output_type": "stream",
     "text": [
      "\r",
      "Epoch 7/1000:   1%|          | 7/1000 [00:21<45:09,  2.73s/it, v_num=mr0f, train_loss_step=1.46e+3, train_loss_epoch=1.4e+3] "
     ]
    },
    {
     "name": "stdout",
     "output_type": "stream",
     "text": [
      "\r",
      "Epoch 8/1000:   1%|          | 7/1000 [00:21<45:09,  2.73s/it, v_num=mr0f, train_loss_step=1.46e+3, train_loss_epoch=1.4e+3]"
     ]
    },
    {
     "name": "stdout",
     "output_type": "stream",
     "text": [
      "\r",
      "Epoch 8/1000:   1%|          | 8/1000 [00:24<46:09,  2.79s/it, v_num=mr0f, train_loss_step=1.46e+3, train_loss_epoch=1.4e+3]"
     ]
    },
    {
     "name": "stdout",
     "output_type": "stream",
     "text": [
      "\r",
      "Epoch 8/1000:   1%|          | 8/1000 [00:24<46:09,  2.79s/it, v_num=mr0f, train_loss_step=1.35e+3, train_loss_epoch=1.39e+3]"
     ]
    },
    {
     "name": "stdout",
     "output_type": "stream",
     "text": [
      "\r",
      "Epoch 9/1000:   1%|          | 8/1000 [00:24<46:09,  2.79s/it, v_num=mr0f, train_loss_step=1.35e+3, train_loss_epoch=1.39e+3]"
     ]
    },
    {
     "name": "stdout",
     "output_type": "stream",
     "text": [
      "\r",
      "Epoch 9/1000:   1%|          | 9/1000 [00:27<48:39,  2.95s/it, v_num=mr0f, train_loss_step=1.35e+3, train_loss_epoch=1.39e+3]"
     ]
    },
    {
     "name": "stdout",
     "output_type": "stream",
     "text": [
      "\r",
      "Epoch 9/1000:   1%|          | 9/1000 [00:27<48:39,  2.95s/it, v_num=mr0f, train_loss_step=1.39e+3, train_loss_epoch=1.38e+3]"
     ]
    },
    {
     "name": "stdout",
     "output_type": "stream",
     "text": [
      "\r",
      "Epoch 10/1000:   1%|          | 9/1000 [00:27<48:39,  2.95s/it, v_num=mr0f, train_loss_step=1.39e+3, train_loss_epoch=1.38e+3]"
     ]
    },
    {
     "name": "stdout",
     "output_type": "stream",
     "text": [
      "\r",
      "Epoch 10/1000:   1%|          | 10/1000 [00:29<46:17,  2.81s/it, v_num=mr0f, train_loss_step=1.39e+3, train_loss_epoch=1.38e+3]"
     ]
    },
    {
     "name": "stdout",
     "output_type": "stream",
     "text": [
      "\r",
      "Epoch 10/1000:   1%|          | 10/1000 [00:29<46:17,  2.81s/it, v_num=mr0f, train_loss_step=1.36e+3, train_loss_epoch=1.38e+3]"
     ]
    },
    {
     "name": "stdout",
     "output_type": "stream",
     "text": [
      "\r",
      "Epoch 11/1000:   1%|          | 10/1000 [00:29<46:17,  2.81s/it, v_num=mr0f, train_loss_step=1.36e+3, train_loss_epoch=1.38e+3]"
     ]
    },
    {
     "name": "stdout",
     "output_type": "stream",
     "text": [
      "\r",
      "Epoch 11/1000:   1%|          | 11/1000 [00:32<44:24,  2.69s/it, v_num=mr0f, train_loss_step=1.36e+3, train_loss_epoch=1.38e+3]"
     ]
    },
    {
     "name": "stdout",
     "output_type": "stream",
     "text": [
      "\r",
      "Epoch 11/1000:   1%|          | 11/1000 [00:32<44:24,  2.69s/it, v_num=mr0f, train_loss_step=1.32e+3, train_loss_epoch=1.37e+3]"
     ]
    },
    {
     "name": "stdout",
     "output_type": "stream",
     "text": [
      "\r",
      "Epoch 12/1000:   1%|          | 11/1000 [00:32<44:24,  2.69s/it, v_num=mr0f, train_loss_step=1.32e+3, train_loss_epoch=1.37e+3]"
     ]
    },
    {
     "name": "stdout",
     "output_type": "stream",
     "text": [
      "\r",
      "Epoch 12/1000:   1%|          | 12/1000 [00:34<43:03,  2.61s/it, v_num=mr0f, train_loss_step=1.32e+3, train_loss_epoch=1.37e+3]"
     ]
    },
    {
     "name": "stdout",
     "output_type": "stream",
     "text": [
      "\r",
      "Epoch 12/1000:   1%|          | 12/1000 [00:34<43:03,  2.61s/it, v_num=mr0f, train_loss_step=1.4e+3, train_loss_epoch=1.37e+3] "
     ]
    },
    {
     "name": "stdout",
     "output_type": "stream",
     "text": [
      "\r",
      "Epoch 13/1000:   1%|          | 12/1000 [00:34<43:03,  2.61s/it, v_num=mr0f, train_loss_step=1.4e+3, train_loss_epoch=1.37e+3]"
     ]
    },
    {
     "name": "stdout",
     "output_type": "stream",
     "text": [
      "\r",
      "Epoch 13/1000:   1%|▏         | 13/1000 [00:37<44:08,  2.68s/it, v_num=mr0f, train_loss_step=1.4e+3, train_loss_epoch=1.37e+3]"
     ]
    },
    {
     "name": "stdout",
     "output_type": "stream",
     "text": [
      "\r",
      "Epoch 13/1000:   1%|▏         | 13/1000 [00:37<44:08,  2.68s/it, v_num=mr0f, train_loss_step=1.4e+3, train_loss_epoch=1.36e+3]"
     ]
    },
    {
     "name": "stdout",
     "output_type": "stream",
     "text": [
      "\r",
      "Epoch 14/1000:   1%|▏         | 13/1000 [00:37<44:08,  2.68s/it, v_num=mr0f, train_loss_step=1.4e+3, train_loss_epoch=1.36e+3]"
     ]
    },
    {
     "name": "stdout",
     "output_type": "stream",
     "text": [
      "\r",
      "Epoch 14/1000:   1%|▏         | 14/1000 [00:40<47:03,  2.86s/it, v_num=mr0f, train_loss_step=1.4e+3, train_loss_epoch=1.36e+3]"
     ]
    },
    {
     "name": "stdout",
     "output_type": "stream",
     "text": [
      "\r",
      "Epoch 14/1000:   1%|▏         | 14/1000 [00:40<47:03,  2.86s/it, v_num=mr0f, train_loss_step=1.25e+3, train_loss_epoch=1.36e+3]"
     ]
    },
    {
     "name": "stdout",
     "output_type": "stream",
     "text": [
      "\r",
      "Epoch 15/1000:   1%|▏         | 14/1000 [00:40<47:03,  2.86s/it, v_num=mr0f, train_loss_step=1.25e+3, train_loss_epoch=1.36e+3]"
     ]
    },
    {
     "name": "stdout",
     "output_type": "stream",
     "text": [
      "\r",
      "Epoch 15/1000:   2%|▏         | 15/1000 [00:43<45:29,  2.77s/it, v_num=mr0f, train_loss_step=1.25e+3, train_loss_epoch=1.36e+3]"
     ]
    },
    {
     "name": "stdout",
     "output_type": "stream",
     "text": [
      "\r",
      "Epoch 15/1000:   2%|▏         | 15/1000 [00:43<45:29,  2.77s/it, v_num=mr0f, train_loss_step=1.35e+3, train_loss_epoch=1.36e+3]"
     ]
    },
    {
     "name": "stdout",
     "output_type": "stream",
     "text": [
      "\r",
      "Epoch 16/1000:   2%|▏         | 15/1000 [00:43<45:29,  2.77s/it, v_num=mr0f, train_loss_step=1.35e+3, train_loss_epoch=1.36e+3]"
     ]
    },
    {
     "name": "stdout",
     "output_type": "stream",
     "text": [
      "\r",
      "Epoch 16/1000:   2%|▏         | 16/1000 [00:45<43:45,  2.67s/it, v_num=mr0f, train_loss_step=1.35e+3, train_loss_epoch=1.36e+3]"
     ]
    },
    {
     "name": "stdout",
     "output_type": "stream",
     "text": [
      "\r",
      "Epoch 16/1000:   2%|▏         | 16/1000 [00:45<43:45,  2.67s/it, v_num=mr0f, train_loss_step=1.35e+3, train_loss_epoch=1.35e+3]"
     ]
    },
    {
     "name": "stdout",
     "output_type": "stream",
     "text": [
      "\r",
      "Epoch 17/1000:   2%|▏         | 16/1000 [00:45<43:45,  2.67s/it, v_num=mr0f, train_loss_step=1.35e+3, train_loss_epoch=1.35e+3]"
     ]
    },
    {
     "name": "stdout",
     "output_type": "stream",
     "text": [
      "\r",
      "Epoch 17/1000:   2%|▏         | 17/1000 [00:48<42:45,  2.61s/it, v_num=mr0f, train_loss_step=1.35e+3, train_loss_epoch=1.35e+3]"
     ]
    },
    {
     "name": "stdout",
     "output_type": "stream",
     "text": [
      "\r",
      "Epoch 17/1000:   2%|▏         | 17/1000 [00:48<42:45,  2.61s/it, v_num=mr0f, train_loss_step=1.33e+3, train_loss_epoch=1.35e+3]"
     ]
    },
    {
     "name": "stdout",
     "output_type": "stream",
     "text": [
      "\r",
      "Epoch 18/1000:   2%|▏         | 17/1000 [00:48<42:45,  2.61s/it, v_num=mr0f, train_loss_step=1.33e+3, train_loss_epoch=1.35e+3]"
     ]
    },
    {
     "name": "stdout",
     "output_type": "stream",
     "text": [
      "\r",
      "Epoch 18/1000:   2%|▏         | 18/1000 [00:51<43:15,  2.64s/it, v_num=mr0f, train_loss_step=1.33e+3, train_loss_epoch=1.35e+3]"
     ]
    },
    {
     "name": "stdout",
     "output_type": "stream",
     "text": [
      "\r",
      "Epoch 18/1000:   2%|▏         | 18/1000 [00:51<43:15,  2.64s/it, v_num=mr0f, train_loss_step=1.33e+3, train_loss_epoch=1.34e+3]"
     ]
    },
    {
     "name": "stdout",
     "output_type": "stream",
     "text": [
      "\r",
      "Epoch 19/1000:   2%|▏         | 18/1000 [00:51<43:15,  2.64s/it, v_num=mr0f, train_loss_step=1.33e+3, train_loss_epoch=1.34e+3]"
     ]
    },
    {
     "name": "stdout",
     "output_type": "stream",
     "text": [
      "\r",
      "Epoch 19/1000:   2%|▏         | 19/1000 [00:54<45:51,  2.80s/it, v_num=mr0f, train_loss_step=1.33e+3, train_loss_epoch=1.34e+3]"
     ]
    },
    {
     "name": "stdout",
     "output_type": "stream",
     "text": [
      "\r",
      "Epoch 19/1000:   2%|▏         | 19/1000 [00:54<45:51,  2.80s/it, v_num=mr0f, train_loss_step=1.41e+3, train_loss_epoch=1.35e+3]"
     ]
    },
    {
     "name": "stdout",
     "output_type": "stream",
     "text": [
      "\r",
      "Epoch 20/1000:   2%|▏         | 19/1000 [00:54<45:51,  2.80s/it, v_num=mr0f, train_loss_step=1.41e+3, train_loss_epoch=1.35e+3]"
     ]
    },
    {
     "name": "stdout",
     "output_type": "stream",
     "text": [
      "\r",
      "Epoch 20/1000:   2%|▏         | 20/1000 [00:56<43:48,  2.68s/it, v_num=mr0f, train_loss_step=1.41e+3, train_loss_epoch=1.35e+3]"
     ]
    },
    {
     "name": "stdout",
     "output_type": "stream",
     "text": [
      "\r",
      "Epoch 20/1000:   2%|▏         | 20/1000 [00:56<43:48,  2.68s/it, v_num=mr0f, train_loss_step=1.3e+3, train_loss_epoch=1.34e+3] "
     ]
    },
    {
     "name": "stdout",
     "output_type": "stream",
     "text": [
      "\r",
      "Epoch 21/1000:   2%|▏         | 20/1000 [00:56<43:48,  2.68s/it, v_num=mr0f, train_loss_step=1.3e+3, train_loss_epoch=1.34e+3]"
     ]
    },
    {
     "name": "stdout",
     "output_type": "stream",
     "text": [
      "\r",
      "Epoch 21/1000:   2%|▏         | 21/1000 [00:58<41:40,  2.55s/it, v_num=mr0f, train_loss_step=1.3e+3, train_loss_epoch=1.34e+3]"
     ]
    },
    {
     "name": "stdout",
     "output_type": "stream",
     "text": [
      "\r",
      "Epoch 21/1000:   2%|▏         | 21/1000 [00:58<41:40,  2.55s/it, v_num=mr0f, train_loss_step=1.3e+3, train_loss_epoch=1.34e+3]"
     ]
    },
    {
     "name": "stdout",
     "output_type": "stream",
     "text": [
      "\r",
      "Epoch 22/1000:   2%|▏         | 21/1000 [00:58<41:40,  2.55s/it, v_num=mr0f, train_loss_step=1.3e+3, train_loss_epoch=1.34e+3]"
     ]
    },
    {
     "name": "stdout",
     "output_type": "stream",
     "text": [
      "\r",
      "Epoch 22/1000:   2%|▏         | 22/1000 [01:01<40:04,  2.46s/it, v_num=mr0f, train_loss_step=1.3e+3, train_loss_epoch=1.34e+3]"
     ]
    },
    {
     "name": "stdout",
     "output_type": "stream",
     "text": [
      "\r",
      "Epoch 22/1000:   2%|▏         | 22/1000 [01:01<40:04,  2.46s/it, v_num=mr0f, train_loss_step=1.3e+3, train_loss_epoch=1.34e+3]"
     ]
    },
    {
     "name": "stdout",
     "output_type": "stream",
     "text": [
      "\r",
      "Epoch 23/1000:   2%|▏         | 22/1000 [01:01<40:04,  2.46s/it, v_num=mr0f, train_loss_step=1.3e+3, train_loss_epoch=1.34e+3]"
     ]
    },
    {
     "name": "stdout",
     "output_type": "stream",
     "text": [
      "\r",
      "Epoch 23/1000:   2%|▏         | 23/1000 [01:03<40:28,  2.49s/it, v_num=mr0f, train_loss_step=1.3e+3, train_loss_epoch=1.34e+3]"
     ]
    },
    {
     "name": "stdout",
     "output_type": "stream",
     "text": [
      "\r",
      "Epoch 23/1000:   2%|▏         | 23/1000 [01:03<40:28,  2.49s/it, v_num=mr0f, train_loss_step=1.36e+3, train_loss_epoch=1.33e+3]"
     ]
    },
    {
     "name": "stdout",
     "output_type": "stream",
     "text": [
      "\r",
      "Epoch 24/1000:   2%|▏         | 23/1000 [01:03<40:28,  2.49s/it, v_num=mr0f, train_loss_step=1.36e+3, train_loss_epoch=1.33e+3]"
     ]
    },
    {
     "name": "stdout",
     "output_type": "stream",
     "text": [
      "\r",
      "Epoch 24/1000:   2%|▏         | 24/1000 [01:07<45:07,  2.77s/it, v_num=mr0f, train_loss_step=1.36e+3, train_loss_epoch=1.33e+3]"
     ]
    },
    {
     "name": "stdout",
     "output_type": "stream",
     "text": [
      "\r",
      "Epoch 24/1000:   2%|▏         | 24/1000 [01:07<45:07,  2.77s/it, v_num=mr0f, train_loss_step=1.37e+3, train_loss_epoch=1.33e+3]"
     ]
    },
    {
     "name": "stdout",
     "output_type": "stream",
     "text": [
      "\r",
      "Epoch 25/1000:   2%|▏         | 24/1000 [01:07<45:07,  2.77s/it, v_num=mr0f, train_loss_step=1.37e+3, train_loss_epoch=1.33e+3]"
     ]
    },
    {
     "name": "stdout",
     "output_type": "stream",
     "text": [
      "\r",
      "Epoch 25/1000:   2%|▎         | 25/1000 [01:09<45:19,  2.79s/it, v_num=mr0f, train_loss_step=1.37e+3, train_loss_epoch=1.33e+3]"
     ]
    },
    {
     "name": "stdout",
     "output_type": "stream",
     "text": [
      "\r",
      "Epoch 25/1000:   2%|▎         | 25/1000 [01:09<45:19,  2.79s/it, v_num=mr0f, train_loss_step=1.36e+3, train_loss_epoch=1.33e+3]"
     ]
    },
    {
     "name": "stdout",
     "output_type": "stream",
     "text": [
      "\r",
      "Epoch 26/1000:   2%|▎         | 25/1000 [01:09<45:19,  2.79s/it, v_num=mr0f, train_loss_step=1.36e+3, train_loss_epoch=1.33e+3]"
     ]
    },
    {
     "name": "stdout",
     "output_type": "stream",
     "text": [
      "\r",
      "Epoch 26/1000:   3%|▎         | 26/1000 [01:12<43:44,  2.69s/it, v_num=mr0f, train_loss_step=1.36e+3, train_loss_epoch=1.33e+3]"
     ]
    },
    {
     "name": "stdout",
     "output_type": "stream",
     "text": [
      "\r",
      "Epoch 26/1000:   3%|▎         | 26/1000 [01:12<43:44,  2.69s/it, v_num=mr0f, train_loss_step=1.31e+3, train_loss_epoch=1.33e+3]"
     ]
    },
    {
     "name": "stdout",
     "output_type": "stream",
     "text": [
      "\r",
      "Epoch 27/1000:   3%|▎         | 26/1000 [01:12<43:44,  2.69s/it, v_num=mr0f, train_loss_step=1.31e+3, train_loss_epoch=1.33e+3]"
     ]
    },
    {
     "name": "stdout",
     "output_type": "stream",
     "text": [
      "\r",
      "Epoch 27/1000:   3%|▎         | 27/1000 [01:14<41:22,  2.55s/it, v_num=mr0f, train_loss_step=1.31e+3, train_loss_epoch=1.33e+3]"
     ]
    },
    {
     "name": "stdout",
     "output_type": "stream",
     "text": [
      "\r",
      "Epoch 27/1000:   3%|▎         | 27/1000 [01:14<41:22,  2.55s/it, v_num=mr0f, train_loss_step=1.4e+3, train_loss_epoch=1.33e+3] "
     ]
    },
    {
     "name": "stdout",
     "output_type": "stream",
     "text": [
      "\r",
      "Epoch 28/1000:   3%|▎         | 27/1000 [01:14<41:22,  2.55s/it, v_num=mr0f, train_loss_step=1.4e+3, train_loss_epoch=1.33e+3]"
     ]
    },
    {
     "name": "stdout",
     "output_type": "stream",
     "text": [
      "\r",
      "Epoch 28/1000:   3%|▎         | 28/1000 [01:17<40:26,  2.50s/it, v_num=mr0f, train_loss_step=1.4e+3, train_loss_epoch=1.33e+3]"
     ]
    },
    {
     "name": "stdout",
     "output_type": "stream",
     "text": [
      "\r",
      "Epoch 28/1000:   3%|▎         | 28/1000 [01:17<40:26,  2.50s/it, v_num=mr0f, train_loss_step=1.37e+3, train_loss_epoch=1.32e+3]"
     ]
    },
    {
     "name": "stdout",
     "output_type": "stream",
     "text": [
      "\r",
      "Epoch 29/1000:   3%|▎         | 28/1000 [01:17<40:26,  2.50s/it, v_num=mr0f, train_loss_step=1.37e+3, train_loss_epoch=1.32e+3]"
     ]
    },
    {
     "name": "stdout",
     "output_type": "stream",
     "text": [
      "\r",
      "Epoch 29/1000:   3%|▎         | 29/1000 [01:20<43:19,  2.68s/it, v_num=mr0f, train_loss_step=1.37e+3, train_loss_epoch=1.32e+3]"
     ]
    },
    {
     "name": "stdout",
     "output_type": "stream",
     "text": [
      "\r",
      "Epoch 29/1000:   3%|▎         | 29/1000 [01:20<43:19,  2.68s/it, v_num=mr0f, train_loss_step=1.4e+3, train_loss_epoch=1.32e+3] "
     ]
    },
    {
     "name": "stdout",
     "output_type": "stream",
     "text": [
      "\r",
      "Epoch 30/1000:   3%|▎         | 29/1000 [01:20<43:19,  2.68s/it, v_num=mr0f, train_loss_step=1.4e+3, train_loss_epoch=1.32e+3]"
     ]
    },
    {
     "name": "stdout",
     "output_type": "stream",
     "text": [
      "\r",
      "Epoch 30/1000:   3%|▎         | 30/1000 [01:23<44:29,  2.75s/it, v_num=mr0f, train_loss_step=1.4e+3, train_loss_epoch=1.32e+3]"
     ]
    },
    {
     "name": "stdout",
     "output_type": "stream",
     "text": [
      "\r",
      "Epoch 30/1000:   3%|▎         | 30/1000 [01:23<44:29,  2.75s/it, v_num=mr0f, train_loss_step=1.37e+3, train_loss_epoch=1.32e+3]"
     ]
    },
    {
     "name": "stdout",
     "output_type": "stream",
     "text": [
      "\r",
      "Epoch 31/1000:   3%|▎         | 30/1000 [01:23<44:29,  2.75s/it, v_num=mr0f, train_loss_step=1.37e+3, train_loss_epoch=1.32e+3]"
     ]
    },
    {
     "name": "stdout",
     "output_type": "stream",
     "text": [
      "\r",
      "Epoch 31/1000:   3%|▎         | 31/1000 [01:25<41:45,  2.59s/it, v_num=mr0f, train_loss_step=1.37e+3, train_loss_epoch=1.32e+3]"
     ]
    },
    {
     "name": "stdout",
     "output_type": "stream",
     "text": [
      "\r",
      "Epoch 31/1000:   3%|▎         | 31/1000 [01:25<41:45,  2.59s/it, v_num=mr0f, train_loss_step=1.33e+3, train_loss_epoch=1.32e+3]"
     ]
    },
    {
     "name": "stdout",
     "output_type": "stream",
     "text": [
      "\r",
      "Epoch 32/1000:   3%|▎         | 31/1000 [01:25<41:45,  2.59s/it, v_num=mr0f, train_loss_step=1.33e+3, train_loss_epoch=1.32e+3]"
     ]
    },
    {
     "name": "stdout",
     "output_type": "stream",
     "text": [
      "\r",
      "Epoch 32/1000:   3%|▎         | 32/1000 [01:27<39:41,  2.46s/it, v_num=mr0f, train_loss_step=1.33e+3, train_loss_epoch=1.32e+3]"
     ]
    },
    {
     "name": "stdout",
     "output_type": "stream",
     "text": [
      "\r",
      "Epoch 32/1000:   3%|▎         | 32/1000 [01:27<39:41,  2.46s/it, v_num=mr0f, train_loss_step=1.2e+3, train_loss_epoch=1.32e+3] "
     ]
    },
    {
     "name": "stdout",
     "output_type": "stream",
     "text": [
      "\r",
      "Epoch 33/1000:   3%|▎         | 32/1000 [01:27<39:41,  2.46s/it, v_num=mr0f, train_loss_step=1.2e+3, train_loss_epoch=1.32e+3]"
     ]
    },
    {
     "name": "stdout",
     "output_type": "stream",
     "text": [
      "\r",
      "Epoch 33/1000:   3%|▎         | 33/1000 [01:29<38:18,  2.38s/it, v_num=mr0f, train_loss_step=1.2e+3, train_loss_epoch=1.32e+3]"
     ]
    },
    {
     "name": "stdout",
     "output_type": "stream",
     "text": [
      "\r",
      "Epoch 33/1000:   3%|▎         | 33/1000 [01:29<38:18,  2.38s/it, v_num=mr0f, train_loss_step=1.36e+3, train_loss_epoch=1.32e+3]"
     ]
    },
    {
     "name": "stdout",
     "output_type": "stream",
     "text": [
      "\r",
      "Epoch 34/1000:   3%|▎         | 33/1000 [01:29<38:18,  2.38s/it, v_num=mr0f, train_loss_step=1.36e+3, train_loss_epoch=1.32e+3]"
     ]
    },
    {
     "name": "stdout",
     "output_type": "stream",
     "text": [
      "\r",
      "Epoch 34/1000:   3%|▎         | 34/1000 [01:31<37:23,  2.32s/it, v_num=mr0f, train_loss_step=1.36e+3, train_loss_epoch=1.32e+3]"
     ]
    },
    {
     "name": "stdout",
     "output_type": "stream",
     "text": [
      "\r",
      "Epoch 34/1000:   3%|▎         | 34/1000 [01:31<37:23,  2.32s/it, v_num=mr0f, train_loss_step=1.23e+3, train_loss_epoch=1.32e+3]"
     ]
    },
    {
     "name": "stdout",
     "output_type": "stream",
     "text": [
      "\r",
      "Epoch 35/1000:   3%|▎         | 34/1000 [01:31<37:23,  2.32s/it, v_num=mr0f, train_loss_step=1.23e+3, train_loss_epoch=1.32e+3]"
     ]
    },
    {
     "name": "stdout",
     "output_type": "stream",
     "text": [
      "\r",
      "Epoch 35/1000:   4%|▎         | 35/1000 [01:34<36:51,  2.29s/it, v_num=mr0f, train_loss_step=1.23e+3, train_loss_epoch=1.32e+3]"
     ]
    },
    {
     "name": "stdout",
     "output_type": "stream",
     "text": [
      "\r",
      "Epoch 35/1000:   4%|▎         | 35/1000 [01:34<36:51,  2.29s/it, v_num=mr0f, train_loss_step=1.32e+3, train_loss_epoch=1.33e+3]"
     ]
    },
    {
     "name": "stdout",
     "output_type": "stream",
     "text": [
      "\r",
      "Epoch 36/1000:   4%|▎         | 35/1000 [01:34<36:51,  2.29s/it, v_num=mr0f, train_loss_step=1.32e+3, train_loss_epoch=1.33e+3]"
     ]
    },
    {
     "name": "stdout",
     "output_type": "stream",
     "text": [
      "\r",
      "Epoch 36/1000:   4%|▎         | 36/1000 [01:36<39:04,  2.43s/it, v_num=mr0f, train_loss_step=1.32e+3, train_loss_epoch=1.33e+3]"
     ]
    },
    {
     "name": "stdout",
     "output_type": "stream",
     "text": [
      "\r",
      "Epoch 36/1000:   4%|▎         | 36/1000 [01:36<39:04,  2.43s/it, v_num=mr0f, train_loss_step=1.38e+3, train_loss_epoch=1.32e+3]"
     ]
    },
    {
     "name": "stdout",
     "output_type": "stream",
     "text": [
      "\r",
      "Epoch 37/1000:   4%|▎         | 36/1000 [01:36<39:04,  2.43s/it, v_num=mr0f, train_loss_step=1.38e+3, train_loss_epoch=1.32e+3]"
     ]
    },
    {
     "name": "stdout",
     "output_type": "stream",
     "text": [
      "\r",
      "Epoch 37/1000:   4%|▎         | 37/1000 [01:39<42:10,  2.63s/it, v_num=mr0f, train_loss_step=1.38e+3, train_loss_epoch=1.32e+3]"
     ]
    },
    {
     "name": "stdout",
     "output_type": "stream",
     "text": [
      "\r",
      "Epoch 37/1000:   4%|▎         | 37/1000 [01:39<42:10,  2.63s/it, v_num=mr0f, train_loss_step=1.36e+3, train_loss_epoch=1.31e+3]"
     ]
    },
    {
     "name": "stdout",
     "output_type": "stream",
     "text": [
      "\r",
      "Epoch 38/1000:   4%|▎         | 37/1000 [01:39<42:10,  2.63s/it, v_num=mr0f, train_loss_step=1.36e+3, train_loss_epoch=1.31e+3]"
     ]
    },
    {
     "name": "stdout",
     "output_type": "stream",
     "text": [
      "\r",
      "Epoch 38/1000:   4%|▍         | 38/1000 [01:42<40:57,  2.55s/it, v_num=mr0f, train_loss_step=1.36e+3, train_loss_epoch=1.31e+3]"
     ]
    },
    {
     "name": "stdout",
     "output_type": "stream",
     "text": [
      "\r",
      "Epoch 38/1000:   4%|▍         | 38/1000 [01:42<40:57,  2.55s/it, v_num=mr0f, train_loss_step=1.37e+3, train_loss_epoch=1.31e+3]"
     ]
    },
    {
     "name": "stdout",
     "output_type": "stream",
     "text": [
      "\r",
      "Epoch 39/1000:   4%|▍         | 38/1000 [01:42<40:57,  2.55s/it, v_num=mr0f, train_loss_step=1.37e+3, train_loss_epoch=1.31e+3]"
     ]
    },
    {
     "name": "stdout",
     "output_type": "stream",
     "text": [
      "\r",
      "Epoch 39/1000:   4%|▍         | 39/1000 [01:44<39:20,  2.46s/it, v_num=mr0f, train_loss_step=1.37e+3, train_loss_epoch=1.31e+3]"
     ]
    },
    {
     "name": "stdout",
     "output_type": "stream",
     "text": [
      "\r",
      "Epoch 39/1000:   4%|▍         | 39/1000 [01:44<39:20,  2.46s/it, v_num=mr0f, train_loss_step=1.27e+3, train_loss_epoch=1.31e+3]"
     ]
    },
    {
     "name": "stdout",
     "output_type": "stream",
     "text": [
      "\r",
      "Epoch 40/1000:   4%|▍         | 39/1000 [01:44<39:20,  2.46s/it, v_num=mr0f, train_loss_step=1.27e+3, train_loss_epoch=1.31e+3]"
     ]
    },
    {
     "name": "stdout",
     "output_type": "stream",
     "text": [
      "\r",
      "Epoch 40/1000:   4%|▍         | 40/1000 [01:46<38:17,  2.39s/it, v_num=mr0f, train_loss_step=1.27e+3, train_loss_epoch=1.31e+3]"
     ]
    },
    {
     "name": "stdout",
     "output_type": "stream",
     "text": [
      "\r",
      "Epoch 40/1000:   4%|▍         | 40/1000 [01:46<38:17,  2.39s/it, v_num=mr0f, train_loss_step=1.37e+3, train_loss_epoch=1.31e+3]"
     ]
    },
    {
     "name": "stdout",
     "output_type": "stream",
     "text": [
      "\r",
      "Epoch 41/1000:   4%|▍         | 40/1000 [01:46<38:17,  2.39s/it, v_num=mr0f, train_loss_step=1.37e+3, train_loss_epoch=1.31e+3]"
     ]
    },
    {
     "name": "stdout",
     "output_type": "stream",
     "text": [
      "\r",
      "Epoch 41/1000:   4%|▍         | 41/1000 [01:48<37:26,  2.34s/it, v_num=mr0f, train_loss_step=1.37e+3, train_loss_epoch=1.31e+3]"
     ]
    },
    {
     "name": "stdout",
     "output_type": "stream",
     "text": [
      "\r",
      "Epoch 41/1000:   4%|▍         | 41/1000 [01:48<37:26,  2.34s/it, v_num=mr0f, train_loss_step=1.24e+3, train_loss_epoch=1.31e+3]"
     ]
    },
    {
     "name": "stdout",
     "output_type": "stream",
     "text": [
      "\r",
      "Epoch 42/1000:   4%|▍         | 41/1000 [01:48<37:26,  2.34s/it, v_num=mr0f, train_loss_step=1.24e+3, train_loss_epoch=1.31e+3]"
     ]
    },
    {
     "name": "stdout",
     "output_type": "stream",
     "text": [
      "\r",
      "Epoch 42/1000:   4%|▍         | 42/1000 [01:51<36:46,  2.30s/it, v_num=mr0f, train_loss_step=1.24e+3, train_loss_epoch=1.31e+3]"
     ]
    },
    {
     "name": "stdout",
     "output_type": "stream",
     "text": [
      "\r",
      "Epoch 42/1000:   4%|▍         | 42/1000 [01:51<36:46,  2.30s/it, v_num=mr0f, train_loss_step=1.13e+3, train_loss_epoch=1.3e+3] "
     ]
    },
    {
     "name": "stdout",
     "output_type": "stream",
     "text": [
      "\r",
      "Epoch 43/1000:   4%|▍         | 42/1000 [01:51<36:46,  2.30s/it, v_num=mr0f, train_loss_step=1.13e+3, train_loss_epoch=1.3e+3]"
     ]
    },
    {
     "name": "stdout",
     "output_type": "stream",
     "text": [
      "\r",
      "Epoch 43/1000:   4%|▍         | 43/1000 [01:53<36:24,  2.28s/it, v_num=mr0f, train_loss_step=1.13e+3, train_loss_epoch=1.3e+3]"
     ]
    },
    {
     "name": "stdout",
     "output_type": "stream",
     "text": [
      "\r",
      "Epoch 43/1000:   4%|▍         | 43/1000 [01:53<36:24,  2.28s/it, v_num=mr0f, train_loss_step=1.39e+3, train_loss_epoch=1.3e+3]"
     ]
    },
    {
     "name": "stdout",
     "output_type": "stream",
     "text": [
      "\r",
      "Epoch 44/1000:   4%|▍         | 43/1000 [01:53<36:24,  2.28s/it, v_num=mr0f, train_loss_step=1.39e+3, train_loss_epoch=1.3e+3]"
     ]
    },
    {
     "name": "stdout",
     "output_type": "stream",
     "text": [
      "\r",
      "Epoch 44/1000:   4%|▍         | 44/1000 [01:56<40:10,  2.52s/it, v_num=mr0f, train_loss_step=1.39e+3, train_loss_epoch=1.3e+3]"
     ]
    },
    {
     "name": "stdout",
     "output_type": "stream",
     "text": [
      "\r",
      "Epoch 44/1000:   4%|▍         | 44/1000 [01:56<40:10,  2.52s/it, v_num=mr0f, train_loss_step=1.32e+3, train_loss_epoch=1.3e+3]"
     ]
    },
    {
     "name": "stdout",
     "output_type": "stream",
     "text": [
      "\r",
      "Epoch 45/1000:   4%|▍         | 44/1000 [01:56<40:10,  2.52s/it, v_num=mr0f, train_loss_step=1.32e+3, train_loss_epoch=1.3e+3]"
     ]
    },
    {
     "name": "stdout",
     "output_type": "stream",
     "text": [
      "\r",
      "Epoch 45/1000:   4%|▍         | 45/1000 [01:59<42:02,  2.64s/it, v_num=mr0f, train_loss_step=1.32e+3, train_loss_epoch=1.3e+3]"
     ]
    },
    {
     "name": "stdout",
     "output_type": "stream",
     "text": [
      "\r",
      "Epoch 45/1000:   4%|▍         | 45/1000 [01:59<42:02,  2.64s/it, v_num=mr0f, train_loss_step=1.28e+3, train_loss_epoch=1.3e+3]"
     ]
    },
    {
     "name": "stdout",
     "output_type": "stream",
     "text": [
      "\r",
      "Epoch 46/1000:   4%|▍         | 45/1000 [01:59<42:02,  2.64s/it, v_num=mr0f, train_loss_step=1.28e+3, train_loss_epoch=1.3e+3]"
     ]
    },
    {
     "name": "stdout",
     "output_type": "stream",
     "text": [
      "\r",
      "Epoch 46/1000:   5%|▍         | 46/1000 [02:01<40:00,  2.52s/it, v_num=mr0f, train_loss_step=1.28e+3, train_loss_epoch=1.3e+3]"
     ]
    },
    {
     "name": "stdout",
     "output_type": "stream",
     "text": [
      "\r",
      "Epoch 46/1000:   5%|▍         | 46/1000 [02:01<40:00,  2.52s/it, v_num=mr0f, train_loss_step=1.21e+3, train_loss_epoch=1.3e+3]"
     ]
    },
    {
     "name": "stdout",
     "output_type": "stream",
     "text": [
      "\r",
      "Epoch 47/1000:   5%|▍         | 46/1000 [02:01<40:00,  2.52s/it, v_num=mr0f, train_loss_step=1.21e+3, train_loss_epoch=1.3e+3]"
     ]
    },
    {
     "name": "stdout",
     "output_type": "stream",
     "text": [
      "\r",
      "Epoch 47/1000:   5%|▍         | 47/1000 [02:03<38:38,  2.43s/it, v_num=mr0f, train_loss_step=1.21e+3, train_loss_epoch=1.3e+3]"
     ]
    },
    {
     "name": "stdout",
     "output_type": "stream",
     "text": [
      "\r",
      "Epoch 47/1000:   5%|▍         | 47/1000 [02:03<38:38,  2.43s/it, v_num=mr0f, train_loss_step=1.33e+3, train_loss_epoch=1.3e+3]"
     ]
    },
    {
     "name": "stdout",
     "output_type": "stream",
     "text": [
      "\r",
      "Epoch 48/1000:   5%|▍         | 47/1000 [02:03<38:38,  2.43s/it, v_num=mr0f, train_loss_step=1.33e+3, train_loss_epoch=1.3e+3]"
     ]
    },
    {
     "name": "stdout",
     "output_type": "stream",
     "text": [
      "\r",
      "Epoch 48/1000:   5%|▍         | 48/1000 [02:06<37:35,  2.37s/it, v_num=mr0f, train_loss_step=1.33e+3, train_loss_epoch=1.3e+3]"
     ]
    },
    {
     "name": "stdout",
     "output_type": "stream",
     "text": [
      "\r",
      "Epoch 48/1000:   5%|▍         | 48/1000 [02:06<37:35,  2.37s/it, v_num=mr0f, train_loss_step=1.28e+3, train_loss_epoch=1.3e+3]"
     ]
    },
    {
     "name": "stdout",
     "output_type": "stream",
     "text": [
      "\r",
      "Epoch 48/1000:   5%|▍         | 48/1000 [02:06<41:40,  2.63s/it, v_num=mr0f, train_loss_step=1.28e+3, train_loss_epoch=1.3e+3]"
     ]
    },
    {
     "name": "stdout",
     "output_type": "stream",
     "text": [
      "\n",
      "Monitored metric reconstruction_loss_validation did not improve in the last 10 records. Best score: 1370.138. Signaling Trainer to stop.\n"
     ]
    }
   ],
   "source": [
    "model.train(logger=logger, plan_kwargs = plan_kwargs, **trainer_kwargs)"
   ]
  },
  {
   "cell_type": "code",
   "execution_count": 15,
   "id": "c282f6eb-0ad1-40a5-81e6-1acda1545dad",
   "metadata": {
    "execution": {
     "iopub.execute_input": "2024-04-28T19:08:52.083509Z",
     "iopub.status.busy": "2024-04-28T19:08:52.082961Z",
     "iopub.status.idle": "2024-04-28T19:08:57.141871Z",
     "shell.execute_reply": "2024-04-28T19:08:57.141047Z"
    },
    "papermill": {
     "duration": 5.074392,
     "end_time": "2024-04-28T19:08:57.143997",
     "exception": false,
     "start_time": "2024-04-28T19:08:52.069605",
     "status": "completed"
    },
    "tags": []
   },
   "outputs": [
    {
     "name": "stderr",
     "output_type": "stream",
     "text": [
      "\u001b[34m\u001b[1mwandb\u001b[0m: - 0.003 MB of 0.003 MB uploaded\r"
     ]
    },
    {
     "name": "stderr",
     "output_type": "stream",
     "text": [
      "\u001b[34m\u001b[1mwandb\u001b[0m: \\ 0.003 MB of 0.003 MB uploaded\r"
     ]
    },
    {
     "name": "stderr",
     "output_type": "stream",
     "text": [
      "\u001b[34m\u001b[1mwandb\u001b[0m: | 0.009 MB of 0.009 MB uploaded\r"
     ]
    },
    {
     "name": "stderr",
     "output_type": "stream",
     "text": [
      "\u001b[34m\u001b[1mwandb\u001b[0m:                                                                                \n"
     ]
    },
    {
     "name": "stderr",
     "output_type": "stream",
     "text": [
      "\u001b[34m\u001b[1mwandb\u001b[0m: \n",
      "\u001b[34m\u001b[1mwandb\u001b[0m: Run history:\n",
      "\u001b[34m\u001b[1mwandb\u001b[0m:                     elbo_train █▄▃▃▃▃▂▂▂▂▂▂▂▂▂▂▂▂▂▂▂▁▁▁▁▁▁▁▁▁▁▁▁▁▁▁▁▁▁▁\n",
      "\u001b[34m\u001b[1mwandb\u001b[0m:                elbo_validation █▃▂▂▂▁▁▁▁▁▁▁▁▁▁▁▁▁▁▁▁▁▁▁▁▁▁▁▁▁▁▁▁▁▁▁▁▁▁▁\n",
      "\u001b[34m\u001b[1mwandb\u001b[0m:                          epoch ▁▁▁▁▂▂▂▂▂▃▃▃▃▃▄▄▄▄▄▄▅▅▅▅▅▅▆▆▆▆▆▇▇▇▇▇████\n",
      "\u001b[34m\u001b[1mwandb\u001b[0m:                kl_global_train ▁▁▁▁▁▁▁▁▁▁▁▁▁▁▁▁▁▁▁▁▁▁▁▁▁▁▁▁▁▁▁▁▁▁▁▁▁▁▁▁\n",
      "\u001b[34m\u001b[1mwandb\u001b[0m:           kl_global_validation ▁▁▁▁▁▁▁▁▁▁▁▁▁▁▁▁▁▁▁▁▁▁▁▁▁▁▁▁▁▁▁▁▁▁▁▁▁▁▁▁\n",
      "\u001b[34m\u001b[1mwandb\u001b[0m:                 kl_local_train ▁▄▅▆▇████████▇▇▇▇▇▇▇▇▆▆▆▆▆▆▆▆▆▆▆▆▆▆▅▅▅▅▅\n",
      "\u001b[34m\u001b[1mwandb\u001b[0m:            kl_local_validation ▁▄▅▇▇▇████▇█▇▇▇▇▇▇▇▇▆▆▆▆▆▆▆▆▆▆▆▆▆▆▆▆▆▆▆▆\n",
      "\u001b[34m\u001b[1mwandb\u001b[0m:                      kl_weight ▁▁▁▂▂▂▂▂▂▃▃▃▃▃▄▄▄▄▄▄▅▅▅▅▅▅▆▆▆▆▆▇▇▇▇▇████\n",
      "\u001b[34m\u001b[1mwandb\u001b[0m:      reconstruction_loss_train █▄▃▃▃▂▂▂▂▂▂▂▂▂▂▂▂▁▁▁▁▁▁▁▁▁▁▁▁▁▁▁▁▁▁▁▁▁▁▁\n",
      "\u001b[34m\u001b[1mwandb\u001b[0m: reconstruction_loss_validation █▃▂▂▁▁▁▁▁▁▁▁▁▁▁▁▁▁▁▁▁▁▁▁▁▁▁▁▁▁▁▁▁▁▁▁▁▁▁▁\n",
      "\u001b[34m\u001b[1mwandb\u001b[0m:               train_loss_epoch █▄▃▃▃▂▂▂▂▂▂▂▂▂▂▂▂▁▁▁▁▁▁▁▁▁▁▁▁▁▁▁▁▁▁▁▁▁▁▁\n",
      "\u001b[34m\u001b[1mwandb\u001b[0m:                train_loss_step █▅▄▄▄▃▃▂▄▂▄▃▂▃▃▃▃▁▃▃▂▂▂▃▂▁▃▃▂▃▃▂▃▃▁▂▂▂▁▂\n",
      "\u001b[34m\u001b[1mwandb\u001b[0m:            trainer/global_step ▁▁▁▁▂▂▂▂▂▃▃▃▃▃▃▄▄▄▄▄▅▅▅▅▅▅▆▆▆▆▆▇▇▇▇▇▇███\n",
      "\u001b[34m\u001b[1mwandb\u001b[0m:                validation_loss █▃▂▂▁▁▁▁▁▁▁▁▁▁▁▁▁▁▁▁▁▁▁▁▁▁▁▁▁▁▁▁▁▁▁▁▁▁▁▁\n",
      "\u001b[34m\u001b[1mwandb\u001b[0m: \n",
      "\u001b[34m\u001b[1mwandb\u001b[0m: Run summary:\n",
      "\u001b[34m\u001b[1mwandb\u001b[0m:                     elbo_train 1346.5\n",
      "\u001b[34m\u001b[1mwandb\u001b[0m:                elbo_validation 1422.92944\n",
      "\u001b[34m\u001b[1mwandb\u001b[0m:                          epoch 47\n",
      "\u001b[34m\u001b[1mwandb\u001b[0m:                kl_global_train 0.0\n",
      "\u001b[34m\u001b[1mwandb\u001b[0m:           kl_global_validation 0.0\n",
      "\u001b[34m\u001b[1mwandb\u001b[0m:                 kl_local_train 50.42103\n",
      "\u001b[34m\u001b[1mwandb\u001b[0m:            kl_local_validation 48.35864\n",
      "\u001b[34m\u001b[1mwandb\u001b[0m:                      kl_weight 0.1175\n",
      "\u001b[34m\u001b[1mwandb\u001b[0m:      reconstruction_loss_train 1296.07898\n",
      "\u001b[34m\u001b[1mwandb\u001b[0m: reconstruction_loss_validation 1374.5708\n",
      "\u001b[34m\u001b[1mwandb\u001b[0m:               train_loss_epoch 1302.00366\n",
      "\u001b[34m\u001b[1mwandb\u001b[0m:                train_loss_step 1377.54871\n",
      "\u001b[34m\u001b[1mwandb\u001b[0m:            trainer/global_step 7391\n",
      "\u001b[34m\u001b[1mwandb\u001b[0m:                validation_loss 1380.25305\n",
      "\u001b[34m\u001b[1mwandb\u001b[0m: \n"
     ]
    },
    {
     "name": "stderr",
     "output_type": "stream",
     "text": [
      "\u001b[34m\u001b[1mwandb\u001b[0m: 🚀 View run \u001b[33mStep1_Plasma\u001b[0m at: \u001b[34m\u001b[4mhttps://wandb.ai/inflammation/inflammation_atlas_R1/runs/nww0mr0f\u001b[0m\n",
      "\u001b[34m\u001b[1mwandb\u001b[0m: Synced 5 W&B file(s), 0 media file(s), 0 artifact file(s) and 0 other file(s)\n"
     ]
    },
    {
     "name": "stderr",
     "output_type": "stream",
     "text": [
      "\u001b[34m\u001b[1mwandb\u001b[0m: Find logs at: \u001b[35m\u001b[1m./wandb/run-20240428_190645-nww0mr0f/logs\u001b[0m\n"
     ]
    }
   ],
   "source": [
    "wandb.finish()"
   ]
  },
  {
   "cell_type": "markdown",
   "id": "d9fb1179-83c7-4ac6-b4aa-92dc7a349801",
   "metadata": {
    "papermill": {
     "duration": 0.012773,
     "end_time": "2024-04-28T19:08:57.170455",
     "exception": false,
     "start_time": "2024-04-28T19:08:57.157682",
     "status": "completed"
    },
    "tags": []
   },
   "source": [
    "### Extracting embedding space"
   ]
  },
  {
   "cell_type": "code",
   "execution_count": 16,
   "id": "caaa5832-0123-4c59-8ec6-f46a75f7a14e",
   "metadata": {
    "execution": {
     "iopub.execute_input": "2024-04-28T19:08:57.197389Z",
     "iopub.status.busy": "2024-04-28T19:08:57.197061Z",
     "iopub.status.idle": "2024-04-28T19:08:58.358378Z",
     "shell.execute_reply": "2024-04-28T19:08:58.357211Z"
    },
    "papermill": {
     "duration": 1.177871,
     "end_time": "2024-04-28T19:08:58.361013",
     "exception": false,
     "start_time": "2024-04-28T19:08:57.183142",
     "status": "completed"
    },
    "tags": []
   },
   "outputs": [],
   "source": [
    "adata.obsm['X_scVI'] = model.get_latent_representation()"
   ]
  },
  {
   "cell_type": "markdown",
   "id": "2f03e70b-839c-40a6-9fbb-d76bbd787419",
   "metadata": {
    "papermill": {
     "duration": 0.014115,
     "end_time": "2024-04-28T19:08:58.388956",
     "exception": false,
     "start_time": "2024-04-28T19:08:58.374841",
     "status": "completed"
    },
    "tags": []
   },
   "source": [
    "## Save the results"
   ]
  },
  {
   "cell_type": "code",
   "execution_count": 17,
   "id": "7b04049b-47fd-4b62-a1c0-c43dcc086d34",
   "metadata": {
    "execution": {
     "iopub.execute_input": "2024-04-28T19:08:58.419818Z",
     "iopub.status.busy": "2024-04-28T19:08:58.418989Z",
     "iopub.status.idle": "2024-04-28T19:09:03.908171Z",
     "shell.execute_reply": "2024-04-28T19:09:03.907305Z"
    },
    "papermill": {
     "duration": 5.5079,
     "end_time": "2024-04-28T19:09:03.910407",
     "exception": false,
     "start_time": "2024-04-28T19:08:58.402507",
     "status": "completed"
    },
    "tags": []
   },
   "outputs": [],
   "source": [
    "if overwriteData:\n",
    "    adata.write(here(f\"{workDir}/{cellGroup}/results/02_{annotationLevel}_{cellGroup}_HVGsubset_scVI.h5ad\"), compression=\"gzip\")\n",
    "    model.save(here(f\"{workDir}/{cellGroup}/results/02_{annotationLevel}_{cellGroup}_HVGsubset_scVI_MODEL/\"),\n",
    "               overwrite = True, \n",
    "               save_anndata = False )   "
   ]
  },
  {
   "cell_type": "code",
   "execution_count": 18,
   "id": "629ba2bd-f6be-44ef-8fca-bbdf891bf25f",
   "metadata": {
    "execution": {
     "iopub.execute_input": "2024-04-28T19:09:03.938926Z",
     "iopub.status.busy": "2024-04-28T19:09:03.938174Z",
     "iopub.status.idle": "2024-04-28T19:09:03.941828Z",
     "shell.execute_reply": "2024-04-28T19:09:03.941168Z"
    },
    "papermill": {
     "duration": 0.020029,
     "end_time": "2024-04-28T19:09:03.943737",
     "exception": false,
     "start_time": "2024-04-28T19:09:03.923708",
     "status": "completed"
    },
    "tags": []
   },
   "outputs": [],
   "source": [
    "# To load the model do (after loading corresponding adata):\n",
    "# model = scvi.model.SCVI.load(here('{}/results/01_{}_HVGsubset_scVI_MODEL/'.format(workDir, cellGroup)), \n",
    "#                              adata, \n",
    "#                              use_gpu=True)"
   ]
  },
  {
   "cell_type": "raw",
   "id": "975e84d0-f56b-498d-b3a8-c9219cf22e53",
   "metadata": {
    "papermill": {
     "duration": 0.013967,
     "end_time": "2024-04-28T19:09:03.971553",
     "exception": false,
     "start_time": "2024-04-28T19:09:03.957586",
     "status": "completed"
    },
    "tags": []
   },
   "source": [
    "session_info.show()"
   ]
  }
 ],
 "metadata": {
  "kernelspec": {
   "display_name": "Python 3 (ipykernel)",
   "language": "python",
   "name": "python3"
  },
  "language_info": {
   "codemirror_mode": {
    "name": "ipython",
    "version": 3
   },
   "file_extension": ".py",
   "mimetype": "text/x-python",
   "name": "python",
   "nbconvert_exporter": "python",
   "pygments_lexer": "ipython3",
   "version": "3.9.18"
  },
  "papermill": {
   "default_parameters": {},
   "duration": 160.355499,
   "end_time": "2024-04-28T19:09:06.590039",
   "environment_variables": {},
   "exception": null,
   "input_path": "./Plasma/02_integration_scVI.ipynb",
   "output_path": "./Plasma/02_integration_scVI_executed.ipynb",
   "parameters": {},
   "start_time": "2024-04-28T19:06:26.234540",
   "version": "2.5.0"
  }
 },
 "nbformat": 4,
 "nbformat_minor": 5
}