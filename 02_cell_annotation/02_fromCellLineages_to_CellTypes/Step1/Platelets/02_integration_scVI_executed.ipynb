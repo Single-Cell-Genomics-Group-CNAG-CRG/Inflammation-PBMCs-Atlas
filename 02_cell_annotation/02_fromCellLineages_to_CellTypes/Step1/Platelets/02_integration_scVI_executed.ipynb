{
 "cells": [
  {
   "cell_type": "code",
   "execution_count": 1,
   "id": "2dd1425a-0c07-465e-b522-9e3cc5cb93a7",
   "metadata": {
    "execution": {
     "iopub.execute_input": "2024-04-28T21:16:01.459254Z",
     "iopub.status.busy": "2024-04-28T21:16:01.458418Z",
     "iopub.status.idle": "2024-04-28T21:16:07.607205Z",
     "shell.execute_reply": "2024-04-28T21:16:07.606396Z"
    },
    "papermill": {
     "duration": 6.157934,
     "end_time": "2024-04-28T21:16:07.609164",
     "exception": false,
     "start_time": "2024-04-28T21:16:01.451230",
     "status": "completed"
    },
    "tags": []
   },
   "outputs": [
    {
     "data": {
      "text/plain": [
       "True"
      ]
     },
     "execution_count": 1,
     "metadata": {},
     "output_type": "execute_result"
    }
   ],
   "source": [
    "import os\n",
    "import sys\n",
    "\n",
    "import numpy as np\n",
    "import matplotlib.pyplot as plt\n",
    "\n",
    "import scanpy as sc\n",
    "import scvi\n",
    "import torch\n",
    "\n",
    "from pytorch_lightning.loggers import WandbLogger\n",
    "import wandb\n",
    "from dotenv import load_dotenv\n",
    "\n",
    "import session_info\n",
    "import warnings\n",
    "from pyprojroot.here import here\n",
    "\n",
    "warnings.filterwarnings(\"ignore\")\n",
    "sys.path.insert(1, str(here('bin')))\n",
    "\n",
    "torch.set_float32_matmul_precision('high')\n",
    "\n",
    "#plt.style.use(['science','nature','no-latex'])\n",
    "dpi_fig_save = 300\n",
    "sc.set_figure_params(dpi=100, dpi_save=dpi_fig_save, vector_friendly=True)\n",
    "\n",
    "load_dotenv(here('.env'))"
   ]
  },
  {
   "cell_type": "code",
   "execution_count": 2,
   "id": "09c897fc-744b-43de-a681-718fb5d327fa",
   "metadata": {
    "execution": {
     "iopub.execute_input": "2024-04-28T21:16:07.620866Z",
     "iopub.status.busy": "2024-04-28T21:16:07.620513Z",
     "iopub.status.idle": "2024-04-28T21:16:07.624699Z",
     "shell.execute_reply": "2024-04-28T21:16:07.624056Z"
    },
    "papermill": {
     "duration": 0.010979,
     "end_time": "2024-04-28T21:16:07.626303",
     "exception": false,
     "start_time": "2024-04-28T21:16:07.615324",
     "status": "completed"
    },
    "tags": []
   },
   "outputs": [],
   "source": [
    "class CustomWandbLogger(WandbLogger):\n",
    "    @property\n",
    "    def save_dir(self):\n",
    "        return self.experiment.dir"
   ]
  },
  {
   "cell_type": "code",
   "execution_count": 3,
   "id": "8ee6662f-5d45-4137-80a5-bb0b9ae8d71f",
   "metadata": {
    "execution": {
     "iopub.execute_input": "2024-04-28T21:16:07.635768Z",
     "iopub.status.busy": "2024-04-28T21:16:07.635105Z",
     "iopub.status.idle": "2024-04-28T21:16:07.641557Z",
     "shell.execute_reply": "2024-04-28T21:16:07.640941Z"
    },
    "papermill": {
     "duration": 0.012934,
     "end_time": "2024-04-28T21:16:07.643191",
     "exception": false,
     "start_time": "2024-04-28T21:16:07.630257",
     "status": "completed"
    },
    "tags": []
   },
   "outputs": [
    {
     "name": "stderr",
     "output_type": "stream",
     "text": [
      "Seed set to 0\n"
     ]
    },
    {
     "name": "stdout",
     "output_type": "stream",
     "text": [
      "Last run with scvi-tools version: 1.1.2\n"
     ]
    }
   ],
   "source": [
    "scvi.settings.seed = 0\n",
    "print(\"Last run with scvi-tools version:\", scvi.__version__)"
   ]
  },
  {
   "cell_type": "markdown",
   "id": "a81037ff-5998-482a-ba86-520f757311a9",
   "metadata": {
    "papermill": {
     "duration": 0.003848,
     "end_time": "2024-04-28T21:16:07.651007",
     "exception": false,
     "start_time": "2024-04-28T21:16:07.647159",
     "status": "completed"
    },
    "tags": []
   },
   "source": [
    "**Setting parameters** "
   ]
  },
  {
   "cell_type": "code",
   "execution_count": 4,
   "id": "56c27966-8f10-4c93-8b1a-1fa75f005e41",
   "metadata": {
    "execution": {
     "iopub.execute_input": "2024-04-28T21:16:07.660514Z",
     "iopub.status.busy": "2024-04-28T21:16:07.659835Z",
     "iopub.status.idle": "2024-04-28T21:16:07.663201Z",
     "shell.execute_reply": "2024-04-28T21:16:07.662559Z"
    },
    "papermill": {
     "duration": 0.009822,
     "end_time": "2024-04-28T21:16:07.664775",
     "exception": false,
     "start_time": "2024-04-28T21:16:07.654953",
     "status": "completed"
    },
    "tags": []
   },
   "outputs": [],
   "source": [
    "overwriteFigures = True\n",
    "overwriteData = True"
   ]
  },
  {
   "cell_type": "code",
   "execution_count": 5,
   "id": "c86fccd3-a4fe-415b-8f4e-e2ceb3ec128a",
   "metadata": {
    "execution": {
     "iopub.execute_input": "2024-04-28T21:16:07.674053Z",
     "iopub.status.busy": "2024-04-28T21:16:07.673397Z",
     "iopub.status.idle": "2024-04-28T21:16:07.676839Z",
     "shell.execute_reply": "2024-04-28T21:16:07.676198Z"
    },
    "papermill": {
     "duration": 0.009825,
     "end_time": "2024-04-28T21:16:07.678338",
     "exception": false,
     "start_time": "2024-04-28T21:16:07.668513",
     "status": "completed"
    },
    "tags": []
   },
   "outputs": [],
   "source": [
    "cellGroup = 'Platelets'\n",
    "workDir = os.getcwd()"
   ]
  },
  {
   "cell_type": "code",
   "execution_count": 6,
   "id": "2dee4d55-d168-467b-b867-a61fed9d6af1",
   "metadata": {
    "execution": {
     "iopub.execute_input": "2024-04-28T21:16:07.687332Z",
     "iopub.status.busy": "2024-04-28T21:16:07.686887Z",
     "iopub.status.idle": "2024-04-28T21:16:07.690327Z",
     "shell.execute_reply": "2024-04-28T21:16:07.689723Z"
    },
    "papermill": {
     "duration": 0.009623,
     "end_time": "2024-04-28T21:16:07.691807",
     "exception": false,
     "start_time": "2024-04-28T21:16:07.682184",
     "status": "completed"
    },
    "tags": []
   },
   "outputs": [],
   "source": [
    "annotationLevel = os.path.basename(os.path.normpath(workDir))"
   ]
  },
  {
   "cell_type": "code",
   "execution_count": 7,
   "id": "11e53cd5-b746-4152-89cb-c2f0c15d90b3",
   "metadata": {
    "execution": {
     "iopub.execute_input": "2024-04-28T21:16:07.701055Z",
     "iopub.status.busy": "2024-04-28T21:16:07.700618Z",
     "iopub.status.idle": "2024-04-28T21:16:07.704877Z",
     "shell.execute_reply": "2024-04-28T21:16:07.704281Z"
    },
    "papermill": {
     "duration": 0.01072,
     "end_time": "2024-04-28T21:16:07.706429",
     "exception": false,
     "start_time": "2024-04-28T21:16:07.695709",
     "status": "completed"
    },
    "tags": []
   },
   "outputs": [
    {
     "data": {
      "text/plain": [
       "'/home/jupyter/Inflammation-PBMCs-Atlas/02_cell_annotation/02_fromCellLineages_to_CellTypes/Step1'"
      ]
     },
     "execution_count": 7,
     "metadata": {},
     "output_type": "execute_result"
    }
   ],
   "source": [
    "workDir"
   ]
  },
  {
   "cell_type": "markdown",
   "id": "171d2f06-9a44-4fcb-b437-35dc546674b6",
   "metadata": {
    "papermill": {
     "duration": 0.003998,
     "end_time": "2024-04-28T21:16:07.714435",
     "exception": false,
     "start_time": "2024-04-28T21:16:07.710437",
     "status": "completed"
    },
    "tags": []
   },
   "source": [
    "**Load data**"
   ]
  },
  {
   "cell_type": "code",
   "execution_count": 8,
   "id": "429f34fe-dde6-4cc9-9f75-7de8f85c5ffe",
   "metadata": {
    "execution": {
     "iopub.execute_input": "2024-04-28T21:16:07.724221Z",
     "iopub.status.busy": "2024-04-28T21:16:07.723527Z",
     "iopub.status.idle": "2024-04-28T21:16:08.095737Z",
     "shell.execute_reply": "2024-04-28T21:16:08.095038Z"
    },
    "papermill": {
     "duration": 0.378863,
     "end_time": "2024-04-28T21:16:08.097487",
     "exception": false,
     "start_time": "2024-04-28T21:16:07.718624",
     "status": "completed"
    },
    "tags": []
   },
   "outputs": [
    {
     "data": {
      "text/plain": [
       "AnnData object with n_obs × n_vars = 14852 × 2911\n",
       "    obs: 'studyID', 'libraryID', 'sampleID', 'chemistry', 'technology', 'patientID', 'disease', 'timepoint_replicate', 'treatmentStatus', 'therapyResponse', 'sex', 'age', 'BMI', 'binned_age', 'diseaseStatus', 'smokingStatus', 'ethnicity', 'institute', 'diseaseGroup', 'n_genes_by_counts', 'log1p_n_genes_by_counts', 'total_counts', 'log1p_total_counts', 'pct_counts_in_top_20_genes', 'total_counts_mt', 'log1p_total_counts_mt', 'pct_counts_mt', 'total_counts_ribo', 'log1p_total_counts_ribo', 'pct_counts_ribo', 'total_counts_hb', 'log1p_total_counts_hb', 'pct_counts_hb', 'total_counts_plt', 'log1p_total_counts_plt', 'pct_counts_plt', 'doublet_score', 'predicted_doublet', 'S_score', 'G2M_score', 'phase'\n",
       "    var: 'hgnc_id', 'symbol', 'locus_group', 'HUGO_status', 'mt', 'ribo', 'hb', 'plt', 'n_cells_by_counts', 'mean_counts', 'log1p_mean_counts', 'pct_dropout_by_counts', 'total_counts', 'log1p_total_counts', 'highly_variable'\n",
       "    uns: 'chemistry_colors', 'log1p'\n",
       "    layers: 'counts', 'log1p_10e4_counts'"
      ]
     },
     "execution_count": 8,
     "metadata": {},
     "output_type": "execute_result"
    }
   ],
   "source": [
    "adata = sc.read_h5ad(here(f\"{workDir}/{cellGroup}/results/01_{cellGroup}_normalized_HVGsubset.h5ad\"))\n",
    "adata"
   ]
  },
  {
   "cell_type": "markdown",
   "id": "8ac79f3b-d5af-41fa-8904-1e9ac1cbe2fb",
   "metadata": {
    "papermill": {
     "duration": 0.004111,
     "end_time": "2024-04-28T21:16:08.105943",
     "exception": false,
     "start_time": "2024-04-28T21:16:08.101832",
     "status": "completed"
    },
    "tags": []
   },
   "source": [
    "## scVI integration"
   ]
  },
  {
   "cell_type": "markdown",
   "id": "9544847d-d17f-4811-b14b-760446d54d32",
   "metadata": {
    "execution": {
     "iopub.execute_input": "2024-03-25T16:49:04.004504Z",
     "iopub.status.busy": "2024-03-25T16:49:04.004143Z",
     "iopub.status.idle": "2024-03-25T16:49:04.010148Z",
     "shell.execute_reply": "2024-03-25T16:49:04.009146Z",
     "shell.execute_reply.started": "2024-03-25T16:49:04.004477Z"
    },
    "papermill": {
     "duration": 0.004291,
     "end_time": "2024-04-28T21:16:08.114307",
     "exception": false,
     "start_time": "2024-04-28T21:16:08.110016",
     "status": "completed"
    },
    "tags": []
   },
   "source": [
    "**scVI parameters**"
   ]
  },
  {
   "cell_type": "code",
   "execution_count": 9,
   "id": "208966eb-545a-4c02-854c-0ed0487ef5b3",
   "metadata": {
    "execution": {
     "iopub.execute_input": "2024-04-28T21:16:08.124495Z",
     "iopub.status.busy": "2024-04-28T21:16:08.123882Z",
     "iopub.status.idle": "2024-04-28T21:16:08.129649Z",
     "shell.execute_reply": "2024-04-28T21:16:08.129015Z"
    },
    "papermill": {
     "duration": 0.012768,
     "end_time": "2024-04-28T21:16:08.131331",
     "exception": false,
     "start_time": "2024-04-28T21:16:08.118563",
     "status": "completed"
    },
    "tags": []
   },
   "outputs": [],
   "source": [
    "# https://docs.scvi-tools.org/en/stable/api/reference/scvi.train.Trainer.html#scvi.train.Trainer\n",
    "setup_kwargs = dict(\n",
    "    layer=\"counts\", \n",
    "    batch_key='libraryID', \n",
    "    categorical_covariate_keys = ['studyID', 'chemistry', 'disease', 'sampleID'],\n",
    "    labels_key = 'chemistry'    \n",
    ")\n",
    "\n",
    "scvi_kwargs = dict(n_hidden=512,\n",
    "                   n_latent=20, # reduceds after step 00 (main)\n",
    "                   n_layers=2,\n",
    "                   gene_likelihood='nb',\n",
    "                   dispersion='gene-label')\n",
    "\n",
    "trainer_kwargs = dict(\n",
    "    checkpointing_monitor = 'elbo_validation',\n",
    "    early_stopping_monitor = 'reconstruction_loss_validation',\n",
    "    early_stopping_patience = 10,\n",
    "    early_stopping_min_delta=0.1,\n",
    "    early_stopping = True,\n",
    "    max_epochs = 1000,\n",
    "\n",
    "    #logger = # wandb\n",
    ")\n",
    "# https://docs.scvi-tools.org/en/stable/api/reference/scvi.train.TrainingPlan.html#scvi.train.TrainingPlan\n",
    "plan_kwargs = dict(\n",
    "    lr = 5e-4,\n",
    "    #reduce_lr_on_plateau = True\n",
    ")\n",
    "\n",
    "# https://docs.scvi-tools.org/en/stable/api/reference/scvi.module.VAE.html#scvi.module.VAE\n",
    "#vae = dict(\n",
    "#    use_layer_norm='both',\n",
    "#    use_batch_norm='none',\n",
    "#    encode_covariates=True,\n",
    "#    deeply_inject_covariates=False\n",
    "#)\n",
    "parameter_dict = setup_kwargs | scvi_kwargs | trainer_kwargs | plan_kwargs"
   ]
  },
  {
   "cell_type": "markdown",
   "id": "1362366a-c16b-4c11-964b-b9c5f82f7b29",
   "metadata": {
    "papermill": {
     "duration": 0.003955,
     "end_time": "2024-04-28T21:16:08.139651",
     "exception": false,
     "start_time": "2024-04-28T21:16:08.135696",
     "status": "completed"
    },
    "tags": []
   },
   "source": [
    "**wandb parameter**"
   ]
  },
  {
   "cell_type": "code",
   "execution_count": 10,
   "id": "0496e33a-8ca5-423f-b42f-34a59760708c",
   "metadata": {
    "execution": {
     "iopub.execute_input": "2024-04-28T21:16:08.149627Z",
     "iopub.status.busy": "2024-04-28T21:16:08.149093Z",
     "iopub.status.idle": "2024-04-28T21:16:08.153396Z",
     "shell.execute_reply": "2024-04-28T21:16:08.152840Z"
    },
    "papermill": {
     "duration": 0.011211,
     "end_time": "2024-04-28T21:16:08.155035",
     "exception": false,
     "start_time": "2024-04-28T21:16:08.143824",
     "status": "completed"
    },
    "tags": []
   },
   "outputs": [
    {
     "data": {
      "text/plain": [
       "'Step1_Platelets'"
      ]
     },
     "execution_count": 10,
     "metadata": {},
     "output_type": "execute_result"
    }
   ],
   "source": [
    "run_name = f\"{annotationLevel}_{cellGroup}\"\n",
    "run_name"
   ]
  },
  {
   "cell_type": "code",
   "execution_count": 11,
   "id": "b0021327-95a2-4002-bf32-2c5779a99505",
   "metadata": {
    "execution": {
     "iopub.execute_input": "2024-04-28T21:16:08.164773Z",
     "iopub.status.busy": "2024-04-28T21:16:08.164114Z",
     "iopub.status.idle": "2024-04-28T21:16:08.301697Z",
     "shell.execute_reply": "2024-04-28T21:16:08.300802Z"
    },
    "papermill": {
     "duration": 0.144986,
     "end_time": "2024-04-28T21:16:08.304037",
     "exception": false,
     "start_time": "2024-04-28T21:16:08.159051",
     "status": "completed"
    },
    "tags": []
   },
   "outputs": [],
   "source": [
    "logger = CustomWandbLogger(name = run_name, project='inflammation_atlas_R1', config=parameter_dict)"
   ]
  },
  {
   "cell_type": "markdown",
   "id": "c237eee1-a976-4915-9b7f-b014bf33f47d",
   "metadata": {
    "papermill": {
     "duration": 0.004334,
     "end_time": "2024-04-28T21:16:08.313016",
     "exception": false,
     "start_time": "2024-04-28T21:16:08.308682",
     "status": "completed"
    },
    "tags": []
   },
   "source": [
    "**Running integration**"
   ]
  },
  {
   "cell_type": "code",
   "execution_count": 12,
   "id": "aff97c53-1aba-462e-8a77-f1aec9cf724c",
   "metadata": {
    "execution": {
     "iopub.execute_input": "2024-04-28T21:16:08.323938Z",
     "iopub.status.busy": "2024-04-28T21:16:08.323131Z",
     "iopub.status.idle": "2024-04-28T21:16:08.896692Z",
     "shell.execute_reply": "2024-04-28T21:16:08.895898Z"
    },
    "papermill": {
     "duration": 0.581497,
     "end_time": "2024-04-28T21:16:08.898912",
     "exception": false,
     "start_time": "2024-04-28T21:16:08.317415",
     "status": "completed"
    },
    "tags": []
   },
   "outputs": [],
   "source": [
    "scvi.model.SCVI.setup_anndata(adata, \n",
    "                              **setup_kwargs)"
   ]
  },
  {
   "cell_type": "code",
   "execution_count": 13,
   "id": "1a56f448-cf44-47c1-81a4-a89caa930fec",
   "metadata": {
    "execution": {
     "iopub.execute_input": "2024-04-28T21:16:08.910117Z",
     "iopub.status.busy": "2024-04-28T21:16:08.909421Z",
     "iopub.status.idle": "2024-04-28T21:16:09.134347Z",
     "shell.execute_reply": "2024-04-28T21:16:09.133538Z"
    },
    "papermill": {
     "duration": 0.232935,
     "end_time": "2024-04-28T21:16:09.136671",
     "exception": false,
     "start_time": "2024-04-28T21:16:08.903736",
     "status": "completed"
    },
    "tags": []
   },
   "outputs": [],
   "source": [
    "model = scvi.model.SCVI(adata, **scvi_kwargs)"
   ]
  },
  {
   "cell_type": "code",
   "execution_count": 14,
   "id": "2735f010-4f24-4ae8-9740-a8cfeb335e9a",
   "metadata": {
    "execution": {
     "iopub.execute_input": "2024-04-28T21:16:09.147588Z",
     "iopub.status.busy": "2024-04-28T21:16:09.146943Z",
     "iopub.status.idle": "2024-04-28T21:16:55.309673Z",
     "shell.execute_reply": "2024-04-28T21:16:55.308898Z"
    },
    "papermill": {
     "duration": 46.17011,
     "end_time": "2024-04-28T21:16:55.311496",
     "exception": false,
     "start_time": "2024-04-28T21:16:09.141386",
     "status": "completed"
    },
    "tags": []
   },
   "outputs": [
    {
     "name": "stderr",
     "output_type": "stream",
     "text": [
      "GPU available: True (cuda), used: True\n"
     ]
    },
    {
     "name": "stderr",
     "output_type": "stream",
     "text": [
      "TPU available: False, using: 0 TPU cores\n"
     ]
    },
    {
     "name": "stderr",
     "output_type": "stream",
     "text": [
      "IPU available: False, using: 0 IPUs\n"
     ]
    },
    {
     "name": "stderr",
     "output_type": "stream",
     "text": [
      "HPU available: False, using: 0 HPUs\n"
     ]
    },
    {
     "name": "stderr",
     "output_type": "stream",
     "text": [
      "\u001b[34m\u001b[1mwandb\u001b[0m: Currently logged in as: \u001b[33mdav1989\u001b[0m (\u001b[33minflammation\u001b[0m). Use \u001b[1m`wandb login --relogin`\u001b[0m to force relogin\n"
     ]
    },
    {
     "name": "stderr",
     "output_type": "stream",
     "text": [
      "\u001b[34m\u001b[1mwandb\u001b[0m: wandb version 0.16.6 is available!  To upgrade, please run:\n",
      "\u001b[34m\u001b[1mwandb\u001b[0m:  $ pip install wandb --upgrade\n"
     ]
    },
    {
     "name": "stderr",
     "output_type": "stream",
     "text": [
      "\u001b[34m\u001b[1mwandb\u001b[0m: Tracking run with wandb version 0.16.3\n"
     ]
    },
    {
     "name": "stderr",
     "output_type": "stream",
     "text": [
      "\u001b[34m\u001b[1mwandb\u001b[0m: Run data is saved locally in \u001b[35m\u001b[1m./wandb/run-20240428_211614-120mzecz\u001b[0m\n",
      "\u001b[34m\u001b[1mwandb\u001b[0m: Run \u001b[1m`wandb offline`\u001b[0m to turn off syncing.\n"
     ]
    },
    {
     "name": "stderr",
     "output_type": "stream",
     "text": [
      "\u001b[34m\u001b[1mwandb\u001b[0m: Syncing run \u001b[33mStep1_Platelets\u001b[0m\n"
     ]
    },
    {
     "name": "stderr",
     "output_type": "stream",
     "text": [
      "\u001b[34m\u001b[1mwandb\u001b[0m: ⭐️ View project at \u001b[34m\u001b[4mhttps://wandb.ai/inflammation/inflammation_atlas_R1\u001b[0m\n"
     ]
    },
    {
     "name": "stderr",
     "output_type": "stream",
     "text": [
      "\u001b[34m\u001b[1mwandb\u001b[0m: 🚀 View run at \u001b[34m\u001b[4mhttps://wandb.ai/inflammation/inflammation_atlas_R1/runs/120mzecz\u001b[0m\n"
     ]
    },
    {
     "name": "stderr",
     "output_type": "stream",
     "text": [
      "LOCAL_RANK: 0 - CUDA_VISIBLE_DEVICES: [0]\n"
     ]
    },
    {
     "name": "stdout",
     "output_type": "stream",
     "text": [
      "\r",
      "Training:   0%|          | 0/1000 [00:00<?, ?it/s]"
     ]
    },
    {
     "name": "stdout",
     "output_type": "stream",
     "text": [
      "\r",
      "Epoch 1/1000:   0%|          | 0/1000 [00:00<?, ?it/s]"
     ]
    },
    {
     "name": "stdout",
     "output_type": "stream",
     "text": [
      "\r",
      "Epoch 1/1000:   0%|          | 1/1000 [00:03<59:33,  3.58s/it]"
     ]
    },
    {
     "name": "stdout",
     "output_type": "stream",
     "text": [
      "\r",
      "Epoch 1/1000:   0%|          | 1/1000 [00:03<59:33,  3.58s/it, v_num=zecz, train_loss_step=498, train_loss_epoch=557]"
     ]
    },
    {
     "name": "stdout",
     "output_type": "stream",
     "text": [
      "\r",
      "Epoch 2/1000:   0%|          | 1/1000 [00:03<59:33,  3.58s/it, v_num=zecz, train_loss_step=498, train_loss_epoch=557]"
     ]
    },
    {
     "name": "stdout",
     "output_type": "stream",
     "text": [
      "\r",
      "Epoch 2/1000:   0%|          | 2/1000 [00:05<39:38,  2.38s/it, v_num=zecz, train_loss_step=498, train_loss_epoch=557]"
     ]
    },
    {
     "name": "stdout",
     "output_type": "stream",
     "text": [
      "\r",
      "Epoch 2/1000:   0%|          | 2/1000 [00:05<39:38,  2.38s/it, v_num=zecz, train_loss_step=540, train_loss_epoch=507]"
     ]
    },
    {
     "name": "stdout",
     "output_type": "stream",
     "text": [
      "\r",
      "Epoch 3/1000:   0%|          | 2/1000 [00:05<39:38,  2.38s/it, v_num=zecz, train_loss_step=540, train_loss_epoch=507]"
     ]
    },
    {
     "name": "stdout",
     "output_type": "stream",
     "text": [
      "\r",
      "Epoch 3/1000:   0%|          | 3/1000 [00:06<32:51,  1.98s/it, v_num=zecz, train_loss_step=540, train_loss_epoch=507]"
     ]
    },
    {
     "name": "stdout",
     "output_type": "stream",
     "text": [
      "\r",
      "Epoch 3/1000:   0%|          | 3/1000 [00:06<32:51,  1.98s/it, v_num=zecz, train_loss_step=483, train_loss_epoch=499]"
     ]
    },
    {
     "name": "stdout",
     "output_type": "stream",
     "text": [
      "\r",
      "Epoch 4/1000:   0%|          | 3/1000 [00:06<32:51,  1.98s/it, v_num=zecz, train_loss_step=483, train_loss_epoch=499]"
     ]
    },
    {
     "name": "stdout",
     "output_type": "stream",
     "text": [
      "\r",
      "Epoch 4/1000:   0%|          | 4/1000 [00:08<29:20,  1.77s/it, v_num=zecz, train_loss_step=483, train_loss_epoch=499]"
     ]
    },
    {
     "name": "stdout",
     "output_type": "stream",
     "text": [
      "\r",
      "Epoch 4/1000:   0%|          | 4/1000 [00:08<29:20,  1.77s/it, v_num=zecz, train_loss_step=420, train_loss_epoch=494]"
     ]
    },
    {
     "name": "stdout",
     "output_type": "stream",
     "text": [
      "\r",
      "Epoch 5/1000:   0%|          | 4/1000 [00:08<29:20,  1.77s/it, v_num=zecz, train_loss_step=420, train_loss_epoch=494]"
     ]
    },
    {
     "name": "stdout",
     "output_type": "stream",
     "text": [
      "\r",
      "Epoch 5/1000:   0%|          | 5/1000 [00:09<27:32,  1.66s/it, v_num=zecz, train_loss_step=420, train_loss_epoch=494]"
     ]
    },
    {
     "name": "stdout",
     "output_type": "stream",
     "text": [
      "\r",
      "Epoch 5/1000:   0%|          | 5/1000 [00:09<27:32,  1.66s/it, v_num=zecz, train_loss_step=472, train_loss_epoch=490]"
     ]
    },
    {
     "name": "stdout",
     "output_type": "stream",
     "text": [
      "\r",
      "Epoch 6/1000:   0%|          | 5/1000 [00:09<27:32,  1.66s/it, v_num=zecz, train_loss_step=472, train_loss_epoch=490]"
     ]
    },
    {
     "name": "stdout",
     "output_type": "stream",
     "text": [
      "\r",
      "Epoch 6/1000:   1%|          | 6/1000 [00:11<26:26,  1.60s/it, v_num=zecz, train_loss_step=472, train_loss_epoch=490]"
     ]
    },
    {
     "name": "stdout",
     "output_type": "stream",
     "text": [
      "\r",
      "Epoch 6/1000:   1%|          | 6/1000 [00:11<26:26,  1.60s/it, v_num=zecz, train_loss_step=458, train_loss_epoch=487]"
     ]
    },
    {
     "name": "stdout",
     "output_type": "stream",
     "text": [
      "\r",
      "Epoch 7/1000:   1%|          | 6/1000 [00:11<26:26,  1.60s/it, v_num=zecz, train_loss_step=458, train_loss_epoch=487]"
     ]
    },
    {
     "name": "stdout",
     "output_type": "stream",
     "text": [
      "\r",
      "Epoch 7/1000:   1%|          | 7/1000 [00:12<25:43,  1.55s/it, v_num=zecz, train_loss_step=458, train_loss_epoch=487]"
     ]
    },
    {
     "name": "stdout",
     "output_type": "stream",
     "text": [
      "\r",
      "Epoch 7/1000:   1%|          | 7/1000 [00:12<25:43,  1.55s/it, v_num=zecz, train_loss_step=505, train_loss_epoch=484]"
     ]
    },
    {
     "name": "stdout",
     "output_type": "stream",
     "text": [
      "\r",
      "Epoch 8/1000:   1%|          | 7/1000 [00:12<25:43,  1.55s/it, v_num=zecz, train_loss_step=505, train_loss_epoch=484]"
     ]
    },
    {
     "name": "stdout",
     "output_type": "stream",
     "text": [
      "\r",
      "Epoch 8/1000:   1%|          | 8/1000 [00:14<26:39,  1.61s/it, v_num=zecz, train_loss_step=505, train_loss_epoch=484]"
     ]
    },
    {
     "name": "stdout",
     "output_type": "stream",
     "text": [
      "\r",
      "Epoch 8/1000:   1%|          | 8/1000 [00:14<26:39,  1.61s/it, v_num=zecz, train_loss_step=507, train_loss_epoch=481]"
     ]
    },
    {
     "name": "stdout",
     "output_type": "stream",
     "text": [
      "\r",
      "Epoch 9/1000:   1%|          | 8/1000 [00:14<26:39,  1.61s/it, v_num=zecz, train_loss_step=507, train_loss_epoch=481]"
     ]
    },
    {
     "name": "stdout",
     "output_type": "stream",
     "text": [
      "\r",
      "Epoch 9/1000:   1%|          | 9/1000 [00:16<28:56,  1.75s/it, v_num=zecz, train_loss_step=507, train_loss_epoch=481]"
     ]
    },
    {
     "name": "stdout",
     "output_type": "stream",
     "text": [
      "\r",
      "Epoch 9/1000:   1%|          | 9/1000 [00:16<28:56,  1.75s/it, v_num=zecz, train_loss_step=494, train_loss_epoch=478]"
     ]
    },
    {
     "name": "stdout",
     "output_type": "stream",
     "text": [
      "\r",
      "Epoch 10/1000:   1%|          | 9/1000 [00:16<28:56,  1.75s/it, v_num=zecz, train_loss_step=494, train_loss_epoch=478]"
     ]
    },
    {
     "name": "stdout",
     "output_type": "stream",
     "text": [
      "\r",
      "Epoch 10/1000:   1%|          | 10/1000 [00:18<29:56,  1.82s/it, v_num=zecz, train_loss_step=494, train_loss_epoch=478]"
     ]
    },
    {
     "name": "stdout",
     "output_type": "stream",
     "text": [
      "\r",
      "Epoch 10/1000:   1%|          | 10/1000 [00:18<29:56,  1.82s/it, v_num=zecz, train_loss_step=413, train_loss_epoch=476]"
     ]
    },
    {
     "name": "stdout",
     "output_type": "stream",
     "text": [
      "\r",
      "Epoch 11/1000:   1%|          | 10/1000 [00:18<29:56,  1.82s/it, v_num=zecz, train_loss_step=413, train_loss_epoch=476]"
     ]
    },
    {
     "name": "stdout",
     "output_type": "stream",
     "text": [
      "\r",
      "Epoch 11/1000:   1%|          | 11/1000 [00:19<28:13,  1.71s/it, v_num=zecz, train_loss_step=413, train_loss_epoch=476]"
     ]
    },
    {
     "name": "stdout",
     "output_type": "stream",
     "text": [
      "\r",
      "Epoch 11/1000:   1%|          | 11/1000 [00:19<28:13,  1.71s/it, v_num=zecz, train_loss_step=466, train_loss_epoch=474]"
     ]
    },
    {
     "name": "stdout",
     "output_type": "stream",
     "text": [
      "\r",
      "Epoch 12/1000:   1%|          | 11/1000 [00:19<28:13,  1.71s/it, v_num=zecz, train_loss_step=466, train_loss_epoch=474]"
     ]
    },
    {
     "name": "stdout",
     "output_type": "stream",
     "text": [
      "\r",
      "Epoch 12/1000:   1%|          | 12/1000 [00:21<26:38,  1.62s/it, v_num=zecz, train_loss_step=466, train_loss_epoch=474]"
     ]
    },
    {
     "name": "stdout",
     "output_type": "stream",
     "text": [
      "\r",
      "Epoch 12/1000:   1%|          | 12/1000 [00:21<26:38,  1.62s/it, v_num=zecz, train_loss_step=499, train_loss_epoch=472]"
     ]
    },
    {
     "name": "stdout",
     "output_type": "stream",
     "text": [
      "\r",
      "Epoch 13/1000:   1%|          | 12/1000 [00:21<26:38,  1.62s/it, v_num=zecz, train_loss_step=499, train_loss_epoch=472]"
     ]
    },
    {
     "name": "stdout",
     "output_type": "stream",
     "text": [
      "\r",
      "Epoch 13/1000:   1%|▏         | 13/1000 [00:22<26:00,  1.58s/it, v_num=zecz, train_loss_step=499, train_loss_epoch=472]"
     ]
    },
    {
     "name": "stdout",
     "output_type": "stream",
     "text": [
      "\r",
      "Epoch 13/1000:   1%|▏         | 13/1000 [00:22<26:00,  1.58s/it, v_num=zecz, train_loss_step=482, train_loss_epoch=470]"
     ]
    },
    {
     "name": "stdout",
     "output_type": "stream",
     "text": [
      "\r",
      "Epoch 14/1000:   1%|▏         | 13/1000 [00:22<26:00,  1.58s/it, v_num=zecz, train_loss_step=482, train_loss_epoch=470]"
     ]
    },
    {
     "name": "stdout",
     "output_type": "stream",
     "text": [
      "\r",
      "Epoch 14/1000:   1%|▏         | 14/1000 [00:24<25:17,  1.54s/it, v_num=zecz, train_loss_step=482, train_loss_epoch=470]"
     ]
    },
    {
     "name": "stdout",
     "output_type": "stream",
     "text": [
      "\r",
      "Epoch 14/1000:   1%|▏         | 14/1000 [00:24<25:17,  1.54s/it, v_num=zecz, train_loss_step=454, train_loss_epoch=468]"
     ]
    },
    {
     "name": "stdout",
     "output_type": "stream",
     "text": [
      "\r",
      "Epoch 15/1000:   1%|▏         | 14/1000 [00:24<25:17,  1.54s/it, v_num=zecz, train_loss_step=454, train_loss_epoch=468]"
     ]
    },
    {
     "name": "stdout",
     "output_type": "stream",
     "text": [
      "\r",
      "Epoch 15/1000:   2%|▏         | 15/1000 [00:25<24:50,  1.51s/it, v_num=zecz, train_loss_step=454, train_loss_epoch=468]"
     ]
    },
    {
     "name": "stdout",
     "output_type": "stream",
     "text": [
      "\r",
      "Epoch 15/1000:   2%|▏         | 15/1000 [00:25<24:50,  1.51s/it, v_num=zecz, train_loss_step=493, train_loss_epoch=466]"
     ]
    },
    {
     "name": "stdout",
     "output_type": "stream",
     "text": [
      "\r",
      "Epoch 16/1000:   2%|▏         | 15/1000 [00:25<24:50,  1.51s/it, v_num=zecz, train_loss_step=493, train_loss_epoch=466]"
     ]
    },
    {
     "name": "stdout",
     "output_type": "stream",
     "text": [
      "\r",
      "Epoch 16/1000:   2%|▏         | 16/1000 [00:26<24:42,  1.51s/it, v_num=zecz, train_loss_step=493, train_loss_epoch=466]"
     ]
    },
    {
     "name": "stdout",
     "output_type": "stream",
     "text": [
      "\r",
      "Epoch 16/1000:   2%|▏         | 16/1000 [00:26<24:42,  1.51s/it, v_num=zecz, train_loss_step=439, train_loss_epoch=465]"
     ]
    },
    {
     "name": "stdout",
     "output_type": "stream",
     "text": [
      "\r",
      "Epoch 17/1000:   2%|▏         | 16/1000 [00:26<24:42,  1.51s/it, v_num=zecz, train_loss_step=439, train_loss_epoch=465]"
     ]
    },
    {
     "name": "stdout",
     "output_type": "stream",
     "text": [
      "\r",
      "Epoch 17/1000:   2%|▏         | 17/1000 [00:28<24:13,  1.48s/it, v_num=zecz, train_loss_step=439, train_loss_epoch=465]"
     ]
    },
    {
     "name": "stdout",
     "output_type": "stream",
     "text": [
      "\r",
      "Epoch 17/1000:   2%|▏         | 17/1000 [00:28<24:13,  1.48s/it, v_num=zecz, train_loss_step=487, train_loss_epoch=463]"
     ]
    },
    {
     "name": "stdout",
     "output_type": "stream",
     "text": [
      "\r",
      "Epoch 18/1000:   2%|▏         | 17/1000 [00:28<24:13,  1.48s/it, v_num=zecz, train_loss_step=487, train_loss_epoch=463]"
     ]
    },
    {
     "name": "stdout",
     "output_type": "stream",
     "text": [
      "\r",
      "Epoch 18/1000:   2%|▏         | 18/1000 [00:30<25:54,  1.58s/it, v_num=zecz, train_loss_step=487, train_loss_epoch=463]"
     ]
    },
    {
     "name": "stdout",
     "output_type": "stream",
     "text": [
      "\r",
      "Epoch 18/1000:   2%|▏         | 18/1000 [00:30<25:54,  1.58s/it, v_num=zecz, train_loss_step=493, train_loss_epoch=461]"
     ]
    },
    {
     "name": "stdout",
     "output_type": "stream",
     "text": [
      "\r",
      "Epoch 19/1000:   2%|▏         | 18/1000 [00:30<25:54,  1.58s/it, v_num=zecz, train_loss_step=493, train_loss_epoch=461]"
     ]
    },
    {
     "name": "stdout",
     "output_type": "stream",
     "text": [
      "\r",
      "Epoch 19/1000:   2%|▏         | 19/1000 [00:32<27:55,  1.71s/it, v_num=zecz, train_loss_step=493, train_loss_epoch=461]"
     ]
    },
    {
     "name": "stdout",
     "output_type": "stream",
     "text": [
      "\r",
      "Epoch 19/1000:   2%|▏         | 19/1000 [00:32<27:55,  1.71s/it, v_num=zecz, train_loss_step=447, train_loss_epoch=459]"
     ]
    },
    {
     "name": "stdout",
     "output_type": "stream",
     "text": [
      "\r",
      "Epoch 20/1000:   2%|▏         | 19/1000 [00:32<27:55,  1.71s/it, v_num=zecz, train_loss_step=447, train_loss_epoch=459]"
     ]
    },
    {
     "name": "stdout",
     "output_type": "stream",
     "text": [
      "\r",
      "Epoch 20/1000:   2%|▏         | 20/1000 [00:34<28:54,  1.77s/it, v_num=zecz, train_loss_step=447, train_loss_epoch=459]"
     ]
    },
    {
     "name": "stdout",
     "output_type": "stream",
     "text": [
      "\r",
      "Epoch 20/1000:   2%|▏         | 20/1000 [00:34<28:54,  1.77s/it, v_num=zecz, train_loss_step=447, train_loss_epoch=458]"
     ]
    },
    {
     "name": "stdout",
     "output_type": "stream",
     "text": [
      "\r",
      "Epoch 21/1000:   2%|▏         | 20/1000 [00:34<28:54,  1.77s/it, v_num=zecz, train_loss_step=447, train_loss_epoch=458]"
     ]
    },
    {
     "name": "stdout",
     "output_type": "stream",
     "text": [
      "\r",
      "Epoch 21/1000:   2%|▏         | 21/1000 [00:35<27:44,  1.70s/it, v_num=zecz, train_loss_step=447, train_loss_epoch=458]"
     ]
    },
    {
     "name": "stdout",
     "output_type": "stream",
     "text": [
      "\r",
      "Epoch 21/1000:   2%|▏         | 21/1000 [00:35<27:44,  1.70s/it, v_num=zecz, train_loss_step=460, train_loss_epoch=456]"
     ]
    },
    {
     "name": "stdout",
     "output_type": "stream",
     "text": [
      "\r",
      "Epoch 22/1000:   2%|▏         | 21/1000 [00:35<27:44,  1.70s/it, v_num=zecz, train_loss_step=460, train_loss_epoch=456]"
     ]
    },
    {
     "name": "stdout",
     "output_type": "stream",
     "text": [
      "\r",
      "Epoch 22/1000:   2%|▏         | 22/1000 [00:37<26:24,  1.62s/it, v_num=zecz, train_loss_step=460, train_loss_epoch=456]"
     ]
    },
    {
     "name": "stdout",
     "output_type": "stream",
     "text": [
      "\r",
      "Epoch 22/1000:   2%|▏         | 22/1000 [00:37<26:24,  1.62s/it, v_num=zecz, train_loss_step=465, train_loss_epoch=454]"
     ]
    },
    {
     "name": "stdout",
     "output_type": "stream",
     "text": [
      "\r",
      "Epoch 23/1000:   2%|▏         | 22/1000 [00:37<26:24,  1.62s/it, v_num=zecz, train_loss_step=465, train_loss_epoch=454]"
     ]
    },
    {
     "name": "stdout",
     "output_type": "stream",
     "text": [
      "\r",
      "Epoch 23/1000:   2%|▏         | 23/1000 [00:38<25:17,  1.55s/it, v_num=zecz, train_loss_step=465, train_loss_epoch=454]"
     ]
    },
    {
     "name": "stdout",
     "output_type": "stream",
     "text": [
      "\r",
      "Epoch 23/1000:   2%|▏         | 23/1000 [00:38<25:17,  1.55s/it, v_num=zecz, train_loss_step=440, train_loss_epoch=453]"
     ]
    },
    {
     "name": "stdout",
     "output_type": "stream",
     "text": [
      "\r",
      "Epoch 24/1000:   2%|▏         | 23/1000 [00:38<25:17,  1.55s/it, v_num=zecz, train_loss_step=440, train_loss_epoch=453]"
     ]
    },
    {
     "name": "stdout",
     "output_type": "stream",
     "text": [
      "\r",
      "Epoch 24/1000:   2%|▏         | 24/1000 [00:39<24:53,  1.53s/it, v_num=zecz, train_loss_step=440, train_loss_epoch=453]"
     ]
    },
    {
     "name": "stdout",
     "output_type": "stream",
     "text": [
      "\r",
      "Epoch 24/1000:   2%|▏         | 24/1000 [00:39<24:53,  1.53s/it, v_num=zecz, train_loss_step=456, train_loss_epoch=451]"
     ]
    },
    {
     "name": "stdout",
     "output_type": "stream",
     "text": [
      "\r",
      "Epoch 24/1000:   2%|▏         | 24/1000 [00:39<27:06,  1.67s/it, v_num=zecz, train_loss_step=456, train_loss_epoch=451]"
     ]
    },
    {
     "name": "stdout",
     "output_type": "stream",
     "text": [
      "\n",
      "Monitored metric reconstruction_loss_validation did not improve in the last 10 records. Best score: 481.930. Signaling Trainer to stop.\n"
     ]
    }
   ],
   "source": [
    "model.train(logger=logger, plan_kwargs = plan_kwargs, **trainer_kwargs)"
   ]
  },
  {
   "cell_type": "code",
   "execution_count": 15,
   "id": "c282f6eb-0ad1-40a5-81e6-1acda1545dad",
   "metadata": {
    "execution": {
     "iopub.execute_input": "2024-04-28T21:16:55.331148Z",
     "iopub.status.busy": "2024-04-28T21:16:55.330485Z",
     "iopub.status.idle": "2024-04-28T21:16:59.971284Z",
     "shell.execute_reply": "2024-04-28T21:16:59.970045Z"
    },
    "papermill": {
     "duration": 4.653737,
     "end_time": "2024-04-28T21:16:59.974259",
     "exception": false,
     "start_time": "2024-04-28T21:16:55.320522",
     "status": "completed"
    },
    "tags": []
   },
   "outputs": [
    {
     "name": "stderr",
     "output_type": "stream",
     "text": [
      "\u001b[34m\u001b[1mwandb\u001b[0m: - 0.003 MB of 0.003 MB uploaded\r"
     ]
    },
    {
     "name": "stderr",
     "output_type": "stream",
     "text": [
      "\u001b[34m\u001b[1mwandb\u001b[0m: \\ 0.003 MB of 0.003 MB uploaded\r"
     ]
    },
    {
     "name": "stderr",
     "output_type": "stream",
     "text": [
      "\u001b[34m\u001b[1mwandb\u001b[0m: | 0.009 MB of 0.009 MB uploaded\r"
     ]
    },
    {
     "name": "stderr",
     "output_type": "stream",
     "text": [
      "\u001b[34m\u001b[1mwandb\u001b[0m:                                                                                \n"
     ]
    },
    {
     "name": "stderr",
     "output_type": "stream",
     "text": [
      "\u001b[34m\u001b[1mwandb\u001b[0m: \n",
      "\u001b[34m\u001b[1mwandb\u001b[0m: Run history:\n",
      "\u001b[34m\u001b[1mwandb\u001b[0m:                     elbo_train █▅▅▅▅▄▄▄▄▄▃▃▃▃▂▂▂▂▂▂▁▁▁▁\n",
      "\u001b[34m\u001b[1mwandb\u001b[0m:                elbo_validation █▂▂▂▂▂▂▂▁▁▁▁▁▁▁▁▁▁▁▁▁▁▁▁\n",
      "\u001b[34m\u001b[1mwandb\u001b[0m:                          epoch ▁▁▁▁▂▂▂▂▃▃▃▃▃▃▃▄▄▄▄▄▅▅▅▅▅▆▆▆▆▆▆▆▇▇▇▇████\n",
      "\u001b[34m\u001b[1mwandb\u001b[0m:                kl_global_train ▁▁▁▁▁▁▁▁▁▁▁▁▁▁▁▁▁▁▁▁▁▁▁▁\n",
      "\u001b[34m\u001b[1mwandb\u001b[0m:           kl_global_validation ▁▁▁▁▁▁▁▁▁▁▁▁▁▁▁▁▁▁▁▁▁▁▁▁\n",
      "\u001b[34m\u001b[1mwandb\u001b[0m:                 kl_local_train ▁▄▆▇▇███████▇▇▇▇▇▇▇▇▇▇▇▇\n",
      "\u001b[34m\u001b[1mwandb\u001b[0m:            kl_local_validation ▁▃▅▆█████████▇▇▇▇▇▇▇▇▇▇▇\n",
      "\u001b[34m\u001b[1mwandb\u001b[0m:                      kl_weight ▁▁▁▁▂▂▂▂▂▃▃▃▃▃▃▄▄▄▄▄▅▅▅▅▅▆▆▆▆▆▆▇▇▇▇▇████\n",
      "\u001b[34m\u001b[1mwandb\u001b[0m:      reconstruction_loss_train █▅▄▄▄▃▃▃▃▃▃▂▂▂▂▂▂▂▂▁▁▁▁▁\n",
      "\u001b[34m\u001b[1mwandb\u001b[0m: reconstruction_loss_validation █▃▂▂▂▁▁▁▁▁▁▁▁▁▁▁▁▁▁▁▁▁▁▁\n",
      "\u001b[34m\u001b[1mwandb\u001b[0m:               train_loss_epoch █▅▄▄▄▃▃▃▃▃▂▂▂▂▂▂▂▂▂▁▁▁▁▁\n",
      "\u001b[34m\u001b[1mwandb\u001b[0m:                train_loss_step ██▅▅▆▅▅▄▅▂▄▆▃▅▄▅▃▅▂▆▃▆▄▄▂▁▃▃▅▄▂▄▄▁▄▂▂▄▃▃\n",
      "\u001b[34m\u001b[1mwandb\u001b[0m:            trainer/global_step ▁▁▁▁▂▂▂▂▂▃▃▃▃▃▃▄▄▄▄▄▅▅▅▅▅▅▆▆▆▆▆▇▇▇▇▇▇███\n",
      "\u001b[34m\u001b[1mwandb\u001b[0m:                validation_loss █▃▂▂▁▁▁▁▁▁▁▁▁▁▁▁▁▁▁▁▁▁▁▁\n",
      "\u001b[34m\u001b[1mwandb\u001b[0m: \n",
      "\u001b[34m\u001b[1mwandb\u001b[0m: Run summary:\n",
      "\u001b[34m\u001b[1mwandb\u001b[0m:                     elbo_train 493.28024\n",
      "\u001b[34m\u001b[1mwandb\u001b[0m:                elbo_validation 524.5274\n",
      "\u001b[34m\u001b[1mwandb\u001b[0m:                          epoch 23\n",
      "\u001b[34m\u001b[1mwandb\u001b[0m:                kl_global_train 0.0\n",
      "\u001b[34m\u001b[1mwandb\u001b[0m:           kl_global_validation 0.0\n",
      "\u001b[34m\u001b[1mwandb\u001b[0m:                 kl_local_train 44.37988\n",
      "\u001b[34m\u001b[1mwandb\u001b[0m:            kl_local_validation 40.23477\n",
      "\u001b[34m\u001b[1mwandb\u001b[0m:                      kl_weight 0.0575\n",
      "\u001b[34m\u001b[1mwandb\u001b[0m:      reconstruction_loss_train 448.90036\n",
      "\u001b[34m\u001b[1mwandb\u001b[0m: reconstruction_loss_validation 484.29266\n",
      "\u001b[34m\u001b[1mwandb\u001b[0m:               train_loss_epoch 451.45209\n",
      "\u001b[34m\u001b[1mwandb\u001b[0m:                train_loss_step 455.97803\n",
      "\u001b[34m\u001b[1mwandb\u001b[0m:            trainer/global_step 2519\n",
      "\u001b[34m\u001b[1mwandb\u001b[0m:                validation_loss 486.6062\n",
      "\u001b[34m\u001b[1mwandb\u001b[0m: \n"
     ]
    },
    {
     "name": "stderr",
     "output_type": "stream",
     "text": [
      "\u001b[34m\u001b[1mwandb\u001b[0m: 🚀 View run \u001b[33mStep1_Platelets\u001b[0m at: \u001b[34m\u001b[4mhttps://wandb.ai/inflammation/inflammation_atlas_R1/runs/120mzecz\u001b[0m\n",
      "\u001b[34m\u001b[1mwandb\u001b[0m: Synced 5 W&B file(s), 0 media file(s), 0 artifact file(s) and 0 other file(s)\n"
     ]
    },
    {
     "name": "stderr",
     "output_type": "stream",
     "text": [
      "\u001b[34m\u001b[1mwandb\u001b[0m: Find logs at: \u001b[35m\u001b[1m./wandb/run-20240428_211614-120mzecz/logs\u001b[0m\n"
     ]
    }
   ],
   "source": [
    "wandb.finish()"
   ]
  },
  {
   "cell_type": "markdown",
   "id": "d9fb1179-83c7-4ac6-b4aa-92dc7a349801",
   "metadata": {
    "papermill": {
     "duration": 0.011331,
     "end_time": "2024-04-28T21:16:59.997346",
     "exception": false,
     "start_time": "2024-04-28T21:16:59.986015",
     "status": "completed"
    },
    "tags": []
   },
   "source": [
    "### Extracting embedding space"
   ]
  },
  {
   "cell_type": "code",
   "execution_count": 16,
   "id": "caaa5832-0123-4c59-8ec6-f46a75f7a14e",
   "metadata": {
    "execution": {
     "iopub.execute_input": "2024-04-28T21:17:00.021834Z",
     "iopub.status.busy": "2024-04-28T21:17:00.020851Z",
     "iopub.status.idle": "2024-04-28T21:17:00.708989Z",
     "shell.execute_reply": "2024-04-28T21:17:00.707601Z"
    },
    "papermill": {
     "duration": 0.703149,
     "end_time": "2024-04-28T21:17:00.711439",
     "exception": false,
     "start_time": "2024-04-28T21:17:00.008290",
     "status": "completed"
    },
    "tags": []
   },
   "outputs": [],
   "source": [
    "adata.obsm['X_scVI'] = model.get_latent_representation()"
   ]
  },
  {
   "cell_type": "markdown",
   "id": "2f03e70b-839c-40a6-9fbb-d76bbd787419",
   "metadata": {
    "papermill": {
     "duration": 0.010444,
     "end_time": "2024-04-28T21:17:00.733211",
     "exception": false,
     "start_time": "2024-04-28T21:17:00.722767",
     "status": "completed"
    },
    "tags": []
   },
   "source": [
    "## Save the results"
   ]
  },
  {
   "cell_type": "code",
   "execution_count": 17,
   "id": "7b04049b-47fd-4b62-a1c0-c43dcc086d34",
   "metadata": {
    "execution": {
     "iopub.execute_input": "2024-04-28T21:17:00.757597Z",
     "iopub.status.busy": "2024-04-28T21:17:00.756753Z",
     "iopub.status.idle": "2024-04-28T21:17:02.234944Z",
     "shell.execute_reply": "2024-04-28T21:17:02.233404Z"
    },
    "papermill": {
     "duration": 1.493944,
     "end_time": "2024-04-28T21:17:02.237671",
     "exception": false,
     "start_time": "2024-04-28T21:17:00.743727",
     "status": "completed"
    },
    "tags": []
   },
   "outputs": [],
   "source": [
    "if overwriteData:\n",
    "    adata.write(here(f\"{workDir}/{cellGroup}/results/02_{annotationLevel}_{cellGroup}_HVGsubset_scVI.h5ad\"), compression=\"gzip\")\n",
    "    model.save(here(f\"{workDir}/{cellGroup}/results/02_{annotationLevel}_{cellGroup}_HVGsubset_scVI_MODEL/\"),\n",
    "               overwrite = True, \n",
    "               save_anndata = False )   "
   ]
  },
  {
   "cell_type": "code",
   "execution_count": 18,
   "id": "629ba2bd-f6be-44ef-8fca-bbdf891bf25f",
   "metadata": {
    "execution": {
     "iopub.execute_input": "2024-04-28T21:17:02.261444Z",
     "iopub.status.busy": "2024-04-28T21:17:02.260650Z",
     "iopub.status.idle": "2024-04-28T21:17:02.264814Z",
     "shell.execute_reply": "2024-04-28T21:17:02.264030Z"
    },
    "papermill": {
     "duration": 0.018398,
     "end_time": "2024-04-28T21:17:02.266775",
     "exception": false,
     "start_time": "2024-04-28T21:17:02.248377",
     "status": "completed"
    },
    "tags": []
   },
   "outputs": [],
   "source": [
    "# To load the model do (after loading corresponding adata):\n",
    "# model = scvi.model.SCVI.load(here('{}/results/01_{}_HVGsubset_scVI_MODEL/'.format(workDir, cellGroup)), \n",
    "#                              adata, \n",
    "#                              use_gpu=True)"
   ]
  },
  {
   "cell_type": "raw",
   "id": "975e84d0-f56b-498d-b3a8-c9219cf22e53",
   "metadata": {
    "papermill": {
     "duration": 0.010424,
     "end_time": "2024-04-28T21:17:02.287689",
     "exception": false,
     "start_time": "2024-04-28T21:17:02.277265",
     "status": "completed"
    },
    "tags": []
   },
   "source": [
    "session_info.show()"
   ]
  }
 ],
 "metadata": {
  "kernelspec": {
   "display_name": "Python 3 (ipykernel)",
   "language": "python",
   "name": "python3"
  },
  "language_info": {
   "codemirror_mode": {
    "name": "ipython",
    "version": 3
   },
   "file_extension": ".py",
   "mimetype": "text/x-python",
   "name": "python",
   "nbconvert_exporter": "python",
   "pygments_lexer": "ipython3",
   "version": "3.9.18"
  },
  "papermill": {
   "default_parameters": {},
   "duration": 65.353085,
   "end_time": "2024-04-28T21:17:05.438407",
   "environment_variables": {},
   "exception": null,
   "input_path": "./Platelets/02_integration_scVI.ipynb",
   "output_path": "./Platelets/02_integration_scVI_executed.ipynb",
   "parameters": {},
   "start_time": "2024-04-28T21:16:00.085322",
   "version": "2.5.0"
  }
 },
 "nbformat": 4,
 "nbformat_minor": 5
}