{
 "cells": [
  {
   "cell_type": "code",
   "execution_count": null,
   "id": "f2145ff1-d784-47ac-b7f1-be2788f6285d",
   "metadata": {},
   "outputs": [],
   "source": [
    "for v in ['celltype']:\n",
    "    if (v in locals()) or (v in globals()):\n",
    "        print(f\"{v} = {eval(v)}\")\n",
    "    else:\n",
    "        raise ValueError(f\"{v} not provided\")"
   ]
  },
  {
   "cell_type": "code",
   "execution_count": 1,
   "id": "73772de2-54a6-4b52-90f3-086cb05e5aff",
   "metadata": {
    "execution": {
     "iopub.execute_input": "2024-05-23T16:02:44.294724Z",
     "iopub.status.busy": "2024-05-23T16:02:44.294579Z",
     "iopub.status.idle": "2024-05-23T16:02:54.057075Z",
     "shell.execute_reply": "2024-05-23T16:02:54.056639Z",
     "shell.execute_reply.started": "2024-05-23T16:02:44.294699Z"
    }
   },
   "outputs": [
    {
     "name": "stdout",
     "output_type": "stream",
     "text": [
      "Main directory path: /scratch_isilon/groups/singlecell/shared/projects/Inflammation-PBMCs-Atlas\n"
     ]
    }
   ],
   "source": [
    "# General modules\n",
    "import sys\n",
    "import os\n",
    "import session_info\n",
    "import warnings\n",
    "from pyprojroot.here import here\n",
    "import glob\n",
    "import pandas as pd\n",
    "import numpy as np\n",
    "import session_info\n",
    "import seaborn as sns\n",
    "import matplotlib.pyplot as plt\n",
    "import scienceplots\n",
    "import pickle\n",
    "\n",
    "# Specific modules\n",
    "import scanpy as sc\n",
    "import anndata as an\n",
    "from matplotlib.backends.backend_pdf import PdfPages\n",
    "\n",
    "\n",
    "# Setting some parameters\n",
    "warnings.filterwarnings(\"ignore\")\n",
    "sys.path.insert(1, str(here('bin')))\n",
    "\n",
    "# Import custom functions\n",
    "from customPythonFunctions import *\n",
    "\n",
    "print(\"Main directory path: {}\".format(here()))\n",
    "\n",
    "#plt.style.use(['science','nature','no-latex'])\n",
    "dpi_fig_save = 300\n",
    "sc.set_figure_params(dpi=100, dpi_save=dpi_fig_save, vector_friendly=True)"
   ]
  },
  {
   "cell_type": "markdown",
   "id": "5d9263d4-3aa7-4d23-9a3b-67bb3e6562b9",
   "metadata": {},
   "source": [
    "**Setting parameters** "
   ]
  },
  {
   "cell_type": "code",
   "execution_count": 2,
   "id": "becaf7de-9e3a-4678-8ef4-1b55e256f2a6",
   "metadata": {
    "execution": {
     "iopub.execute_input": "2024-05-23T16:02:54.059246Z",
     "iopub.status.busy": "2024-05-23T16:02:54.059097Z",
     "iopub.status.idle": "2024-05-23T16:02:54.061297Z",
     "shell.execute_reply": "2024-05-23T16:02:54.060949Z",
     "shell.execute_reply.started": "2024-05-23T16:02:54.059230Z"
    }
   },
   "outputs": [],
   "source": [
    "overwriteFigures = True\n",
    "overwriteData = True"
   ]
  },
  {
   "cell_type": "markdown",
   "id": "8e476925-66e4-4d90-89c7-9e93430c156a",
   "metadata": {},
   "source": [
    "**Load data**"
   ]
  },
  {
   "cell_type": "code",
   "execution_count": 4,
   "id": "2614c71a-05b3-401c-a6ef-a3df94e56e34",
   "metadata": {
    "execution": {
     "iopub.execute_input": "2024-05-23T16:03:49.575476Z",
     "iopub.status.busy": "2024-05-23T16:03:49.574896Z",
     "iopub.status.idle": "2024-05-23T16:06:37.539834Z",
     "shell.execute_reply": "2024-05-23T16:06:37.539351Z",
     "shell.execute_reply.started": "2024-05-23T16:03:49.575449Z"
    }
   },
   "outputs": [
    {
     "data": {
      "text/plain": [
       "AnnData object with n_obs × n_vars = 4435922 × 22838\n",
       "    obs: 'studyID', 'libraryID', 'sampleID', 'chemistry', 'disease', 'sex', 'binned_age', 'Level1', 'Level2'\n",
       "    var: 'hgnc_id', 'symbol', 'locus_group', 'HUGO_status'\n",
       "    uns: 'log1p'"
      ]
     },
     "execution_count": 4,
     "metadata": {},
     "output_type": "execute_result"
    }
   ],
   "source": [
    "# Load the scvi h5ad file\n",
    "adata = sc.read_h5ad(here(\"02_fromCellLineages_to_CellTypes/INFLAMMATION_main_annotated_LowQFilt.h5ad\"))\n",
    "adata"
   ]
  },
  {
   "cell_type": "code",
   "execution_count": null,
   "id": "f9de5fff-8fe2-44a7-8369-0513665088d5",
   "metadata": {},
   "outputs": [],
   "source": [
    "# Subset by celltype\n",
    "\n",
    "# Parameters\n",
    "adata_sub = adata[adata.obs['Level1'] == celltype, :].copy()\n",
    "adata_sub"
   ]
  },
  {
   "cell_type": "markdown",
   "id": "fdfcad46-7dd6-406f-816a-8a6a49b1f7b8",
   "metadata": {},
   "source": [
    "## Compute marker genes"
   ]
  },
  {
   "cell_type": "code",
   "execution_count": 12,
   "id": "d61525f5-fe2c-47ea-83b2-c286cf0da25e",
   "metadata": {
    "execution": {
     "iopub.execute_input": "2024-05-23T16:12:01.144257Z",
     "iopub.status.busy": "2024-05-23T16:12:01.143806Z",
     "iopub.status.idle": "2024-05-23T16:20:03.324865Z",
     "shell.execute_reply": "2024-05-23T16:20:03.324319Z",
     "shell.execute_reply.started": "2024-05-23T16:12:01.144237Z"
    }
   },
   "outputs": [
    {
     "name": "stdout",
     "output_type": "stream",
     "text": [
      "WARNING: adata.X seems to be already log-transformed.\n"
     ]
    },
    {
     "data": {
      "text/plain": [
       "AnnData object with n_obs × n_vars = 4234171 × 22838\n",
       "    obs: 'studyID', 'libraryID', 'sampleID', 'chemistry', 'disease', 'sex', 'binned_age', 'Level1', 'Level2'\n",
       "    var: 'hgnc_id', 'symbol', 'locus_group', 'HUGO_status'\n",
       "    uns: 'log1p', 'DE_Level1'\n",
       "    layers: 'log1p_10e4_counts'"
      ]
     },
     "execution_count": 12,
     "metadata": {},
     "output_type": "execute_result"
    }
   ],
   "source": [
    "# Normalization, replace adata.X and storing\n",
    "sc.pp.normalize_total(adata_sub, target_sum=1e4)\n",
    "sc.pp.log1p(adata_sub)\n",
    "adata_sub.layers[\"log1p_10e4_counts\"] = adata_sub.X.copy()\n",
    "adata_sub"
   ]
  },
  {
   "cell_type": "code",
   "execution_count": null,
   "id": "e9d1a176-3311-45f2-b113-5dbf29c165ce",
   "metadata": {},
   "outputs": [],
   "source": [
    "# Compute markers\n",
    "sc.tl.rank_genes_groups(adata_sub, \n",
    "                        groupby=\"Level2\", \n",
    "                        layer='log1p_10e4_counts', \n",
    "                        method='wilcoxon',\n",
    "                        pts=True,\n",
    "                        key_added=\"DE_Level2\", \n",
    "                        use_raw = False)\n",
    "\n",
    "## Save markers\n",
    "rank_genesDF = sc.get.rank_genes_groups_df(adata_sub, group=None, key = \"DE_Level2\", gene_symbols=\"symbol\")\n",
    "rank_genesDF.to_csv(here('02_cell_annotation/03_characterizing_CellTypes/results/DEgenes_INFLAMMATION_main_annotated_Level2_{}.csv'.format(celltype)))\n",
    "\n",
    "rank_genes_excel_path = here('02_cell_annotation/03_characterizing_CellTypes/results/DEgenes_INFLAMMATION_main_annotated_Level2_{}.xlsx'.format(celltype))\n",
    "unique_groups = rank_genesDF[\"group\"].unique()\n",
    "with pd.ExcelWriter(rank_genes_excel_path, engine=\"openpyxl\") as writer:\n",
    "    for group in unique_groups:\n",
    "        group_rank_genesDF = rank_genesDF[rank_genesDF[\"group\"] == group]\n",
    "        group_rank_genesDF = group_rank_genesDF[group_rank_genesDF[\"logfoldchanges\"] > 0.25]\n",
    "        group_rank_genesDF = group_rank_genesDF[group_rank_genesDF[\"pvals_adj\"] < 0.05]\n",
    "        group_rank_genesDF = group_rank_genesDF[group_rank_genesDF[\"pct_nz_group\"] > 0.25]\n",
    "        group_rank_genesDF = group_rank_genesDF.groupby(\"group\", group_keys=False).apply(lambda x: x.sort_values(by=\"logfoldchanges\", ascending=False))\n",
    "        group_rank_genesDF.to_excel(writer, sheet_name=group, index=False)"
   ]
  },
  {
   "cell_type": "code",
   "execution_count": null,
   "id": "0d03c8c3-bc74-48df-b9f8-9f06244d92cf",
   "metadata": {},
   "outputs": [],
   "source": [
    "session_info.show()"
   ]
  }
 ],
 "metadata": {
  "kernelspec": {
   "display_name": "Python 3 (ipykernel)",
   "language": "python",
   "name": "python3"
  },
  "language_info": {
   "codemirror_mode": {
    "name": "ipython",
    "version": 3
   },
   "file_extension": ".py",
   "mimetype": "text/x-python",
   "name": "python",
   "nbconvert_exporter": "python",
   "pygments_lexer": "ipython3",
   "version": "3.10.14"
  }
 },
 "nbformat": 4,
 "nbformat_minor": 5
}
