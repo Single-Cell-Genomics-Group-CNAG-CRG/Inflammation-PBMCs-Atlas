{
 "cells": [
  {
   "cell_type": "code",
   "execution_count": 1,
   "id": "9f55f1f5",
   "metadata": {
    "execution": {
     "iopub.execute_input": "2024-06-10T08:15:25.659135Z",
     "iopub.status.busy": "2024-06-10T08:15:25.658814Z",
     "iopub.status.idle": "2024-06-10T08:15:25.664542Z",
     "shell.execute_reply": "2024-06-10T08:15:25.664158Z",
     "shell.execute_reply.started": "2024-06-10T08:15:25.659109Z"
    },
    "papermill": {
     "duration": 0.011511,
     "end_time": "2024-05-24T08:17:14.841592",
     "exception": false,
     "start_time": "2024-05-24T08:17:14.830081",
     "status": "completed"
    },
    "tags": [
     "injected-parameters"
    ]
   },
   "outputs": [],
   "source": [
    "# Parameters\n",
    "celltype = \"Plasma\"\n"
   ]
  },
  {
   "cell_type": "code",
   "execution_count": 2,
   "id": "f2145ff1-d784-47ac-b7f1-be2788f6285d",
   "metadata": {
    "execution": {
     "iopub.execute_input": "2024-06-10T08:15:25.848257Z",
     "iopub.status.busy": "2024-06-10T08:15:25.847899Z",
     "iopub.status.idle": "2024-06-10T08:15:25.851492Z",
     "shell.execute_reply": "2024-06-10T08:15:25.851124Z",
     "shell.execute_reply.started": "2024-06-10T08:15:25.848225Z"
    },
    "papermill": {
     "duration": 0.008474,
     "end_time": "2024-05-24T08:17:14.854111",
     "exception": false,
     "start_time": "2024-05-24T08:17:14.845637",
     "status": "completed"
    },
    "tags": []
   },
   "outputs": [
    {
     "name": "stdout",
     "output_type": "stream",
     "text": [
      "celltype = Plasma\n"
     ]
    }
   ],
   "source": [
    "for v in ['celltype']:\n",
    "    if (v in locals()) or (v in globals()):\n",
    "        print(f\"{v} = {eval(v)}\")\n",
    "    else:\n",
    "        raise ValueError(f\"{v} not provided\")"
   ]
  },
  {
   "cell_type": "code",
   "execution_count": 3,
   "id": "73772de2-54a6-4b52-90f3-086cb05e5aff",
   "metadata": {
    "execution": {
     "iopub.execute_input": "2024-06-10T08:15:26.016631Z",
     "iopub.status.busy": "2024-06-10T08:15:26.016366Z",
     "iopub.status.idle": "2024-06-10T08:15:28.404562Z",
     "shell.execute_reply": "2024-06-10T08:15:28.404089Z",
     "shell.execute_reply.started": "2024-06-10T08:15:26.016610Z"
    },
    "papermill": {
     "duration": 2.059775,
     "end_time": "2024-05-24T08:17:16.917857",
     "exception": false,
     "start_time": "2024-05-24T08:17:14.858082",
     "status": "completed"
    },
    "tags": []
   },
   "outputs": [
    {
     "name": "stdout",
     "output_type": "stream",
     "text": [
      "Main directory path: /scratch_isilon/groups/singlecell/shared/projects/Inflammation-PBMCs-Atlas\n"
     ]
    }
   ],
   "source": [
    "# General modules\n",
    "import sys\n",
    "import os\n",
    "import session_info\n",
    "import warnings\n",
    "from pyprojroot.here import here\n",
    "import glob\n",
    "import pandas as pd\n",
    "import numpy as np\n",
    "import session_info\n",
    "import seaborn as sns\n",
    "import matplotlib.pyplot as plt\n",
    "import scienceplots\n",
    "import pickle\n",
    "\n",
    "# Specific modules\n",
    "import scanpy as sc\n",
    "import anndata as an\n",
    "from matplotlib.backends.backend_pdf import PdfPages\n",
    "\n",
    "\n",
    "# Setting some parameters\n",
    "warnings.filterwarnings(\"ignore\")\n",
    "sys.path.insert(1, str(here('bin')))\n",
    "\n",
    "# Import custom functions\n",
    "from customPythonFunctions import *\n",
    "\n",
    "print(\"Main directory path: {}\".format(here()))\n",
    "\n",
    "#plt.style.use(['science','nature','no-latex'])\n",
    "dpi_fig_save = 300\n",
    "sc.set_figure_params(dpi=100, dpi_save=dpi_fig_save, vector_friendly=True)"
   ]
  },
  {
   "cell_type": "markdown",
   "id": "5d9263d4-3aa7-4d23-9a3b-67bb3e6562b9",
   "metadata": {
    "papermill": {
     "duration": 0.003773,
     "end_time": "2024-05-24T08:17:16.926212",
     "exception": false,
     "start_time": "2024-05-24T08:17:16.922439",
     "status": "completed"
    },
    "tags": []
   },
   "source": [
    "**Setting parameters** "
   ]
  },
  {
   "cell_type": "code",
   "execution_count": 4,
   "id": "becaf7de-9e3a-4678-8ef4-1b55e256f2a6",
   "metadata": {
    "execution": {
     "iopub.execute_input": "2024-05-24T08:17:16.934625Z",
     "iopub.status.busy": "2024-05-24T08:17:16.934194Z",
     "iopub.status.idle": "2024-05-24T08:17:16.936716Z",
     "shell.execute_reply": "2024-05-24T08:17:16.936363Z"
    },
    "papermill": {
     "duration": 0.007673,
     "end_time": "2024-05-24T08:17:16.937637",
     "exception": false,
     "start_time": "2024-05-24T08:17:16.929964",
     "status": "completed"
    },
    "tags": []
   },
   "outputs": [],
   "source": [
    "overwriteFigures = True\n",
    "overwriteData = True"
   ]
  },
  {
   "cell_type": "markdown",
   "id": "8e476925-66e4-4d90-89c7-9e93430c156a",
   "metadata": {
    "papermill": {
     "duration": 0.00364,
     "end_time": "2024-05-24T08:17:16.945144",
     "exception": false,
     "start_time": "2024-05-24T08:17:16.941504",
     "status": "completed"
    },
    "tags": []
   },
   "source": [
    "**Load data**"
   ]
  },
  {
   "cell_type": "code",
   "execution_count": 5,
   "id": "2614c71a-05b3-401c-a6ef-a3df94e56e34",
   "metadata": {
    "execution": {
     "iopub.execute_input": "2024-05-24T08:17:16.953372Z",
     "iopub.status.busy": "2024-05-24T08:17:16.953156Z",
     "iopub.status.idle": "2024-05-24T08:20:02.889086Z",
     "shell.execute_reply": "2024-05-24T08:20:02.888551Z"
    },
    "papermill": {
     "duration": 165.945948,
     "end_time": "2024-05-24T08:20:02.895061",
     "exception": false,
     "start_time": "2024-05-24T08:17:16.949113",
     "status": "completed"
    },
    "tags": []
   },
   "outputs": [
    {
     "data": {
      "text/plain": [
       "AnnData object with n_obs × n_vars = 4435922 × 22838\n",
       "    obs: 'studyID', 'libraryID', 'sampleID', 'chemistry', 'disease', 'sex', 'binned_age', 'Level1', 'Level2'\n",
       "    var: 'hgnc_id', 'symbol', 'locus_group', 'HUGO_status'"
      ]
     },
     "execution_count": 5,
     "metadata": {},
     "output_type": "execute_result"
    }
   ],
   "source": [
    "# Load the scvi h5ad file\n",
    "adata = sc.read_h5ad(here(\"02_fromCellLineages_to_CellTypes/INFLAMMATION_main_annotated_LowQFilt.h5ad\"))\n",
    "adata"
   ]
  },
  {
   "cell_type": "code",
   "execution_count": 6,
   "id": "f9de5fff-8fe2-44a7-8369-0513665088d5",
   "metadata": {
    "execution": {
     "iopub.execute_input": "2024-05-24T08:20:02.904632Z",
     "iopub.status.busy": "2024-05-24T08:20:02.904119Z",
     "iopub.status.idle": "2024-05-24T08:20:03.070161Z",
     "shell.execute_reply": "2024-05-24T08:20:03.069754Z"
    },
    "papermill": {
     "duration": 0.171796,
     "end_time": "2024-05-24T08:20:03.071119",
     "exception": false,
     "start_time": "2024-05-24T08:20:02.899323",
     "status": "completed"
    },
    "tags": []
   },
   "outputs": [
    {
     "data": {
      "text/plain": [
       "AnnData object with n_obs × n_vars = 16854 × 22838\n",
       "    obs: 'studyID', 'libraryID', 'sampleID', 'chemistry', 'disease', 'sex', 'binned_age', 'Level1', 'Level2'\n",
       "    var: 'hgnc_id', 'symbol', 'locus_group', 'HUGO_status'"
      ]
     },
     "execution_count": 6,
     "metadata": {},
     "output_type": "execute_result"
    }
   ],
   "source": [
    "# Subset by celltype\n",
    "\n",
    "# Parameters\n",
    "adata_sub = adata[adata.obs['Level1'] == celltype, :].copy()\n",
    "adata_sub"
   ]
  },
  {
   "cell_type": "markdown",
   "id": "fdfcad46-7dd6-406f-816a-8a6a49b1f7b8",
   "metadata": {
    "papermill": {
     "duration": 0.004057,
     "end_time": "2024-05-24T08:20:03.079672",
     "exception": false,
     "start_time": "2024-05-24T08:20:03.075615",
     "status": "completed"
    },
    "tags": []
   },
   "source": [
    "## Compute marker genes"
   ]
  },
  {
   "cell_type": "code",
   "execution_count": 7,
   "id": "d61525f5-fe2c-47ea-83b2-c286cf0da25e",
   "metadata": {
    "execution": {
     "iopub.execute_input": "2024-05-24T08:20:03.088728Z",
     "iopub.status.busy": "2024-05-24T08:20:03.088565Z",
     "iopub.status.idle": "2024-05-24T08:20:06.246235Z",
     "shell.execute_reply": "2024-05-24T08:20:06.245827Z"
    },
    "papermill": {
     "duration": 3.163258,
     "end_time": "2024-05-24T08:20:06.247160",
     "exception": false,
     "start_time": "2024-05-24T08:20:03.083902",
     "status": "completed"
    },
    "tags": []
   },
   "outputs": [
    {
     "data": {
      "text/plain": [
       "AnnData object with n_obs × n_vars = 16854 × 22838\n",
       "    obs: 'studyID', 'libraryID', 'sampleID', 'chemistry', 'disease', 'sex', 'binned_age', 'Level1', 'Level2'\n",
       "    var: 'hgnc_id', 'symbol', 'locus_group', 'HUGO_status'\n",
       "    uns: 'log1p'\n",
       "    layers: 'log1p_10e4_counts'"
      ]
     },
     "execution_count": 7,
     "metadata": {},
     "output_type": "execute_result"
    }
   ],
   "source": [
    "# Normalization, replace adata.X and storing\n",
    "sc.pp.normalize_total(adata_sub, target_sum=1e4)\n",
    "sc.pp.log1p(adata_sub)\n",
    "adata_sub.layers[\"log1p_10e4_counts\"] = adata_sub.X.copy()\n",
    "adata_sub"
   ]
  },
  {
   "cell_type": "code",
   "execution_count": 8,
   "id": "e9d1a176-3311-45f2-b113-5dbf29c165ce",
   "metadata": {
    "execution": {
     "iopub.execute_input": "2024-05-24T08:20:06.257428Z",
     "iopub.status.busy": "2024-05-24T08:20:06.257269Z",
     "iopub.status.idle": "2024-05-24T08:20:26.166187Z",
     "shell.execute_reply": "2024-05-24T08:20:26.165590Z"
    },
    "papermill": {
     "duration": 19.915285,
     "end_time": "2024-05-24T08:20:26.167393",
     "exception": false,
     "start_time": "2024-05-24T08:20:06.252108",
     "status": "completed"
    },
    "tags": []
   },
   "outputs": [],
   "source": [
    "# Compute markers\n",
    "sc.tl.rank_genes_groups(adata_sub, \n",
    "                        groupby=\"Level2\", \n",
    "                        layer='log1p_10e4_counts', \n",
    "                        method='wilcoxon',\n",
    "                        pts=True,\n",
    "                        key_added=\"DE_Level2\", \n",
    "                        use_raw = False)\n",
    "\n",
    "## Save markers\n",
    "rank_genesDF = sc.get.rank_genes_groups_df(adata_sub, group=None, key = \"DE_Level2\", gene_symbols=\"symbol\")\n",
    "rank_genesDF.to_csv(here('02_fromCellLineages_to_CellTypes/DE_markerGenes/DEgenes_INFLAMMATION_main_annotated_Level2_{}.csv'.format(celltype)))\n",
    "\n",
    "rank_genes_excel_path = here('02_fromCellLineages_to_CellTypes/DE_markerGenes/DEgenes_INFLAMMATION_main_annotated_Level2_{}.xlsx'.format(celltype))\n",
    "unique_groups = rank_genesDF[\"group\"].unique()\n",
    "with pd.ExcelWriter(rank_genes_excel_path, engine=\"openpyxl\") as writer:\n",
    "    for group in unique_groups:\n",
    "        group_rank_genesDF = rank_genesDF[rank_genesDF[\"group\"] == group]\n",
    "        group_rank_genesDF = group_rank_genesDF[group_rank_genesDF[\"logfoldchanges\"] > 0.25]\n",
    "        group_rank_genesDF = group_rank_genesDF[group_rank_genesDF[\"pvals_adj\"] < 0.05]\n",
    "        group_rank_genesDF = group_rank_genesDF[group_rank_genesDF[\"pct_nz_group\"] > 0.25]\n",
    "        group_rank_genesDF = group_rank_genesDF.groupby(\"group\", group_keys=False).apply(lambda x: x.sort_values(by=\"logfoldchanges\", ascending=False))\n",
    "        group_rank_genesDF.to_excel(writer, sheet_name=group, index=False)"
   ]
  },
  {
   "cell_type": "code",
   "execution_count": 4,
   "id": "3a30c3a4-d14f-47a0-a9e8-784546ac34c0",
   "metadata": {
    "execution": {
     "iopub.execute_input": "2024-06-10T08:15:31.094585Z",
     "iopub.status.busy": "2024-06-10T08:15:31.094185Z",
     "iopub.status.idle": "2024-06-10T08:15:31.640064Z",
     "shell.execute_reply": "2024-06-10T08:15:31.639486Z",
     "shell.execute_reply.started": "2024-06-10T08:15:31.094564Z"
    }
   },
   "outputs": [],
   "source": [
    "# Generate for manuscript\n",
    "\n",
    "rank_genesDF = pd.read_csv(here('02_cell_annotation/03_characterizing_CellTypes/results/DEgenes_INFLAMMATION_main_annotated_Level2_{}.csv'.format(celltype)), index_col=\"Unnamed: 0\")\n",
    "\n",
    "rank_genesDF = rank_genesDF[rank_genesDF[\"logfoldchanges\"] > 0.25]\n",
    "rank_genesDF = rank_genesDF[rank_genesDF[\"pvals_adj\"] < 0.05]\n",
    "rank_genesDF = rank_genesDF[rank_genesDF[\"pct_nz_group\"] > 0.25]\n",
    "rank_genesDF = rank_genesDF.groupby(\"group\", group_keys=False).apply(lambda x: x.sort_values(by=\"logfoldchanges\", ascending=False))\n",
    "\n",
    "rank_genesDF.to_csv(here('02_cell_annotation/03_characterizing_CellTypes/results/DEgenes_INFLAMMATION_main_annotated_Level2_{}_unique.csv'.format(celltype)), index=None)\n",
    "rank_genesDF.to_excel(here('02_cell_annotation/03_characterizing_CellTypes/results/DEgenes_INFLAMMATION_main_annotated_Level2_{}_unique.xlsx'.format(celltype)), index=None)"
   ]
  },
  {
   "cell_type": "code",
   "execution_count": 9,
   "id": "0d03c8c3-bc74-48df-b9f8-9f06244d92cf",
   "metadata": {
    "execution": {
     "iopub.execute_input": "2024-05-24T08:20:26.177355Z",
     "iopub.status.busy": "2024-05-24T08:20:26.177185Z",
     "iopub.status.idle": "2024-05-24T08:20:27.236490Z",
     "shell.execute_reply": "2024-05-24T08:20:27.236086Z"
    },
    "papermill": {
     "duration": 1.065384,
     "end_time": "2024-05-24T08:20:27.237397",
     "exception": false,
     "start_time": "2024-05-24T08:20:26.172013",
     "status": "completed"
    },
    "tags": []
   },
   "outputs": [
    {
     "data": {
      "text/html": [
       "<details>\n",
       "<summary>Click to view session information</summary>\n",
       "<pre>\n",
       "-----\n",
       "anndata                     0.10.5.post1\n",
       "customPythonFunctions       NA\n",
       "matplotlib                  3.8.3\n",
       "numpy                       1.26.4\n",
       "pandas                      2.2.0\n",
       "pyprojroot                  NA\n",
       "scanpy                      1.9.8\n",
       "scienceplots                NA\n",
       "seaborn                     0.13.2\n",
       "session_info                1.0.0\n",
       "-----\n",
       "</pre>\n",
       "<details>\n",
       "<summary>Click to view modules imported as dependencies</summary>\n",
       "<pre>\n",
       "PIL                         10.2.0\n",
       "anyio                       NA\n",
       "argcomplete                 NA\n",
       "arrow                       1.3.0\n",
       "asttokens                   NA\n",
       "attr                        23.2.0\n",
       "attrs                       23.2.0\n",
       "babel                       2.14.0\n",
       "brotli                      1.1.0\n",
       "certifi                     2024.02.02\n",
       "cffi                        1.16.0\n",
       "charset_normalizer          3.3.2\n",
       "colorama                    0.4.6\n",
       "comm                        0.2.1\n",
       "cycler                      0.12.1\n",
       "cython_runtime              NA\n",
       "dateutil                    2.8.2\n",
       "debugpy                     1.8.1\n",
       "decorator                   5.1.1\n",
       "defusedxml                  0.7.1\n",
       "exceptiongroup              1.2.0\n",
       "executing                   2.0.1\n",
       "fastjsonschema              NA\n",
       "fontTools                   4.49.0\n",
       "fqdn                        NA\n",
       "h5py                        3.10.0\n",
       "idna                        3.6\n",
       "igraph                      0.11.4\n",
       "ipykernel                   6.29.2\n",
       "isoduration                 NA\n",
       "jedi                        0.19.1\n",
       "jinja2                      3.1.3\n",
       "joblib                      1.3.2\n",
       "json5                       NA\n",
       "jsonpointer                 2.4\n",
       "jsonschema                  4.21.1\n",
       "jsonschema_specifications   NA\n",
       "jupyter_events              0.9.0\n",
       "jupyter_server              2.12.5\n",
       "jupyterlab_server           2.25.3\n",
       "kiwisolver                  1.4.5\n",
       "leidenalg                   0.10.2\n",
       "llvmlite                    0.42.0\n",
       "lxml                        5.1.0\n",
       "markupsafe                  2.1.5\n",
       "matplotlib_inline           0.1.6\n",
       "mpl_toolkits                NA\n",
       "natsort                     8.4.0\n",
       "nbformat                    5.9.2\n",
       "numba                       0.59.0\n",
       "openpyxl                    3.0.10\n",
       "overrides                   NA\n",
       "packaging                   23.2\n",
       "parso                       0.8.3\n",
       "patsy                       0.5.6\n",
       "pickleshare                 0.7.5\n",
       "platformdirs                4.2.0\n",
       "plotly                      5.20.0\n",
       "prometheus_client           NA\n",
       "prompt_toolkit              3.0.42\n",
       "psutil                      5.9.8\n",
       "pure_eval                   0.2.2\n",
       "pyarrow                     15.0.0\n",
       "pycparser                   2.21\n",
       "pydev_ipython               NA\n",
       "pydevconsole                NA\n",
       "pydevd                      2.9.5\n",
       "pydevd_file_utils           NA\n",
       "pydevd_plugins              NA\n",
       "pydevd_tracing              NA\n",
       "pygments                    2.17.2\n",
       "pyparsing                   3.1.1\n",
       "pythonjsonlogger            NA\n",
       "pytz                        2024.1\n",
       "referencing                 NA\n",
       "requests                    2.31.0\n",
       "rfc3339_validator           0.1.4\n",
       "rfc3986_validator           0.1.1\n",
       "rpds                        NA\n",
       "scipy                       1.12.0\n",
       "send2trash                  NA\n",
       "simplejson                  3.19.2\n",
       "six                         1.16.0\n",
       "sklearn                     1.4.1.post1\n",
       "sniffio                     1.3.0\n",
       "socks                       1.7.1\n",
       "stack_data                  0.6.2\n",
       "statsmodels                 0.14.1\n",
       "texttable                   1.7.0\n",
       "threadpoolctl               3.3.0\n",
       "tornado                     6.4\n",
       "traitlets                   5.14.1\n",
       "typing_extensions           NA\n",
       "uri_template                NA\n",
       "urllib3                     2.2.1\n",
       "wcwidth                     0.2.13\n",
       "webcolors                   1.13\n",
       "websocket                   1.7.0\n",
       "yaml                        6.0.1\n",
       "zmq                         25.1.2\n",
       "zoneinfo                    NA\n",
       "zstandard                   0.22.0\n",
       "</pre>\n",
       "</details> <!-- seems like this ends pre, so might as well be explicit -->\n",
       "<pre>\n",
       "-----\n",
       "IPython             8.21.0\n",
       "jupyter_client      8.6.0\n",
       "jupyter_core        5.7.1\n",
       "jupyterlab          4.1.2\n",
       "-----\n",
       "Python 3.10.13 | packaged by conda-forge | (main, Dec 23 2023, 15:36:39) [GCC 12.3.0]\n",
       "Linux-3.10.0-1160.88.1.el7.x86_64-x86_64-with-glibc2.17\n",
       "-----\n",
       "Session information updated at 2024-05-24 10:20\n",
       "</pre>\n",
       "</details>"
      ],
      "text/plain": [
       "<IPython.core.display.HTML object>"
      ]
     },
     "execution_count": 9,
     "metadata": {},
     "output_type": "execute_result"
    }
   ],
   "source": [
    "session_info.show()"
   ]
  }
 ],
 "metadata": {
  "kernelspec": {
   "display_name": "Python 3 (ipykernel)",
   "language": "python",
   "name": "python3"
  },
  "language_info": {
   "codemirror_mode": {
    "name": "ipython",
    "version": 3
   },
   "file_extension": ".py",
   "mimetype": "text/x-python",
   "name": "python",
   "nbconvert_exporter": "python",
   "pygments_lexer": "ipython3",
   "version": "3.10.13"
  },
  "papermill": {
   "default_parameters": {},
   "duration": 194.604718,
   "end_time": "2024-05-24T08:20:28.159793",
   "environment_variables": {},
   "exception": null,
   "input_path": "/scratch_isilon/groups/singlecell/shared/projects/Inflammation-PBMCs-Atlas/02_fromCellLineages_to_CellTypes/03_compute_markers_Level2.ipynb",
   "output_path": "/scratch_isilon/groups/singlecell/shared/projects/Inflammation-PBMCs-Atlas/02_fromCellLineages_to_CellTypes/03_compute_markers_Level2__Plasma.ipynb",
   "parameters": {
    "celltype": "Plasma"
   },
   "start_time": "2024-05-24T08:17:13.555075",
   "version": "2.5.0"
  }
 },
 "nbformat": 4,
 "nbformat_minor": 5
}
