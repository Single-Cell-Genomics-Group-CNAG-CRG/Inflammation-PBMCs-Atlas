{
 "cells": [
  {
   "cell_type": "code",
   "execution_count": null,
   "id": "73772de2-54a6-4b52-90f3-086cb05e5aff",
   "metadata": {},
   "outputs": [],
   "source": [
    "import sys\n",
    "import os\n",
    "\n",
    "import numpy as np\n",
    "import matplotlib.pyplot as plt\n",
    "import glob\n",
    "import pandas as pd\n",
    "import seaborn as sns\n",
    "\n",
    "import scanpy as sc\n",
    "import scanpy.external as sce\n",
    "import anndata as ad\n",
    "\n",
    "import session_info\n",
    "import warnings\n",
    "from pyprojroot.here import here\n",
    "\n",
    "import scienceplots\n",
    "from sklearn.neighbors import NearestNeighbors\n",
    "from typing import Iterable\n",
    "import pickle\n",
    "from matplotlib.backends.backend_pdf import PdfPages\n",
    "\n",
    "\n",
    "# Setting some parameters\n",
    "warnings.filterwarnings(\"ignore\")\n",
    "sys.path.insert(1, str(here('bin')))\n",
    "\n",
    "# Import custom functions\n",
    "from customPythonFunctions import *\n",
    "\n",
    "print(\"Main directory path: {}\".format(here()))\n",
    "\n",
    "plt.style.use(['nature'])\n",
    "dpi_fig_save = 300\n",
    "sc.set_figure_params(dpi=100, dpi_save=dpi_fig_save, vector_friendly=True)"
   ]
  },
  {
   "cell_type": "markdown",
   "id": "5d9263d4-3aa7-4d23-9a3b-67bb3e6562b9",
   "metadata": {},
   "source": [
    "**Setting parameters** "
   ]
  },
  {
   "cell_type": "code",
   "execution_count": null,
   "id": "becaf7de-9e3a-4678-8ef4-1b55e256f2a6",
   "metadata": {},
   "outputs": [],
   "source": [
    "overwriteFigures = True\n",
    "overwriteData = True"
   ]
  },
  {
   "cell_type": "code",
   "execution_count": null,
   "id": "e86c97d1-de28-4037-a3e1-34f730aadbf8",
   "metadata": {},
   "outputs": [],
   "source": [
    "cellGroup = 'template'\n",
    "workDir = os.getcwd()"
   ]
  },
  {
   "cell_type": "markdown",
   "id": "8e476925-66e4-4d90-89c7-9e93430c156a",
   "metadata": {},
   "source": [
    "**Load data**"
   ]
  },
  {
   "cell_type": "code",
   "execution_count": null,
   "id": "2614c71a-05b3-401c-a6ef-a3df94e56e34",
   "metadata": {},
   "outputs": [],
   "source": [
    "# Load the scvi h5ad file\n",
    "adata = sc.read_h5ad(here(\"{}/results/03_{}_scVI_UMAP_clinical_allGenes.h5ad\".format(workDir, cellGroup)))\n",
    "adata.uns['log1p'] = dict()\n",
    "adata.uns['log1p']['base'] = None # only if logscale is computed\n",
    "adata"
   ]
  },
  {
   "cell_type": "markdown",
   "id": "8ab85938-4fb4-43bd-a31a-0bc1a468b88f",
   "metadata": {},
   "source": [
    "**Loading gene dictionary**"
   ]
  },
  {
   "cell_type": "code",
   "execution_count": null,
   "id": "86f250b8-63ce-4025-8f92-423d4e946079",
   "metadata": {},
   "outputs": [],
   "source": [
    "with open(here('external_reference_data/markerGenes_dictionary.pkl'), 'rb') as f:\n",
    "    marker_genes_dict = pickle.load(f)"
   ]
  },
  {
   "cell_type": "code",
   "execution_count": null,
   "id": "899f73c0-8b29-4245-98cf-b821fed32f3c",
   "metadata": {},
   "outputs": [],
   "source": [
    "canonical_marker_gene_list = [g for g in marker_genes_dict['lineages'].values() for g in g if g in adata.var.symbol.values]\n",
    "\n",
    "if cellGroup in marker_genes_dict:\n",
    "    lineage_marker_gene_list = set([g for g in marker_genes_dict[cellGroup].values() for g in g if g in adata.var.symbol.values])\n",
    "else: \n",
    "    lineage_marker_gene_list = None"
   ]
  },
  {
   "cell_type": "markdown",
   "id": "d72e2277-f00b-4b0f-b711-456c522f81d7",
   "metadata": {},
   "source": [
    "**Plotting parameters** "
   ]
  },
  {
   "cell_type": "code",
   "execution_count": null,
   "id": "59ad6016-6866-48c6-b434-2fd21139e18f",
   "metadata": {},
   "outputs": [],
   "source": [
    "max_cells_plot = 200000\n",
    "fraction = min(1, (max_cells_plot/adata.shape[0]))"
   ]
  },
  {
   "cell_type": "markdown",
   "id": "bdb7d94c-0e5b-46b3-a499-60b81868a31b",
   "metadata": {},
   "source": [
    "**Loading clustering resolutions** "
   ]
  },
  {
   "cell_type": "code",
   "execution_count": null,
   "id": "7661226d-0fec-4938-9838-48ec5f68fd86",
   "metadata": {},
   "outputs": [],
   "source": [
    "clusterDF_path = here('{}/results/INFLAMMATION_clustering_resolutions_to_explore.pkl'.format(workDir))\n",
    "clusterDF = pd.read_pickle(clusterDF_path)\n",
    "clusterDF.head()"
   ]
  },
  {
   "cell_type": "code",
   "execution_count": null,
   "id": "3a34da8a-9d3f-4178-becf-b9aa36de11ea",
   "metadata": {},
   "outputs": [],
   "source": [
    "# Merging cluster resolutions with adata object\n",
    "\n",
    "adata_obs_df = adata.obs.merge(clusterDF, left_index=True, right_index=True, how='left')\n",
    "adata.obs = adata_obs_df\n",
    "adata.obs.head()"
   ]
  },
  {
   "cell_type": "markdown",
   "id": "c92eaf42-a860-4f6f-979a-fd611f481fd9",
   "metadata": {},
   "source": [
    "# Cluster annotation"
   ]
  },
  {
   "cell_type": "code",
   "execution_count": null,
   "id": "d7716b98-dc60-4577-8d0f-a60a52bd05e3",
   "metadata": {},
   "outputs": [],
   "source": [
    "# Establishing the resolution of choice\n",
    "resolution_of_choice = 0.1\n",
    "leiden_cluster = \"leiden_res_\" + str(resolution_of_choice)\n",
    "de_key = \"de_res_\" + str(resolution_of_choice)"
   ]
  },
  {
   "cell_type": "code",
   "execution_count": null,
   "id": "2341c6fb-c797-4637-b66d-7e44b07ea043",
   "metadata": {},
   "outputs": [],
   "source": [
    "annotation_column_name = \"annotation_step_1\""
   ]
  },
  {
   "cell_type": "code",
   "execution_count": null,
   "id": "2dcb224d-5c30-4a6c-81bd-8d8785cfb0d1",
   "metadata": {},
   "outputs": [],
   "source": [
    "# Dictionary to map cluster to annotation label\n",
    "cluster2annotation_lineages = {\n",
    "     '0': 'TBD',\n",
    "     '1': 'TBD',\n",
    "     '2': 'TBD',\n",
    "     '3': 'TBD',\n",
    "     '4': 'TBD',\n",
    "     '5': 'TBD',\n",
    "     '6': 'TBD',\n",
    "     '7': 'TBD',\n",
    "     '8': 'TBD',\n",
    "     '9': 'TBD',\n",
    "     '10': 'TBD'\n",
    "     # (...)\n",
    "}\n",
    "\n",
    "# Add a new `.obs` column called `annotation_column_name` by mapping clusters to annotation using pandas `map` function\n",
    "adata.obs[annotation_column_name] = adata.obs[leiden_cluster].map(cluster2annotation_lineages).astype('category')"
   ]
  },
  {
   "cell_type": "markdown",
   "id": "6c022d91-67fe-47dd-b8ff-4dc6545b90f0",
   "metadata": {},
   "source": [
    "**Checking clustering annotation**"
   ]
  },
  {
   "cell_type": "code",
   "execution_count": null,
   "id": "bf6cd2a8-cd6a-4551-8847-2dd47f7e4298",
   "metadata": {},
   "outputs": [],
   "source": [
    "# List of all annotated cell types\n",
    "print(set(adata.obs[annotation_column_name]))\n",
    "\n",
    "# Confirm all cells got their assigment\n",
    "if (\"\" in set(adata.obs[annotation_column_name])):\n",
    "    print(\"Error: not all cells were assigned a lineage\")\n",
    "else:\n",
    "    print(\"All cells were assigned a lineage!\")"
   ]
  },
  {
   "cell_type": "markdown",
   "id": "0830e447-b808-4354-a91b-e22a95b16799",
   "metadata": {},
   "source": [
    "## Visualize annotation results"
   ]
  },
  {
   "cell_type": "code",
   "execution_count": null,
   "id": "4adfbaf8-15e8-4183-8288-497a9d41b446",
   "metadata": {},
   "outputs": [],
   "source": [
    "# Subsetting and randomizing for optimal plotting\n",
    "random_indices = balanced_sample(adata.obs, cols = annotation_column_name, frac = fraction, shuffle = True, random_state = 42).cellID\n",
    "\n",
    "sc.set_figure_params(figsize=(7, 5))\n",
    "fig = sc.pl.embedding(adata[random_indices, :], basis=\"X_umap_scVI\", color=annotation_column_name, \n",
    "                      use_raw=False, show=True, return_fig=True, size=10, legend_loc=\"on data\")\n",
    "\n",
    "if overwriteFigures:\n",
    "    plt.savefig(here('{}/results/figures/UMAP_clusters_res{}_annotated.pdf'.format(workDir, resolution_of_choice)), \n",
    "                bbox_inches='tight', pad_inches=0, dpi=dpi_fig_save)"
   ]
  },
  {
   "cell_type": "markdown",
   "id": "b6e303a0-d512-4471-afbc-1b909a825bae",
   "metadata": {},
   "source": [
    "## Export cluster annotation"
   ]
  },
  {
   "cell_type": "code",
   "execution_count": null,
   "id": "85f6ac3c-70a0-408f-9c40-9149f30d13bb",
   "metadata": {},
   "outputs": [],
   "source": [
    "clusterAnnotDF = pd.DataFrame(adata.obs[annotation_column_name])\n",
    "# Save annotation as DF\n",
    "clusterAnnotDF.to_pickle(path=here('{}/results/INFLAMMATION_cluster_res{}_annotated.pkl'.format(workDir, resolution_of_choice)))"
   ]
  },
  {
   "cell_type": "code",
   "execution_count": null,
   "id": "a5ff7d3b-2d6f-4af6-bd47-9205545455f0",
   "metadata": {},
   "outputs": [],
   "source": [
    "session_info.show()"
   ]
  }
 ],
 "metadata": {
  "kernelspec": {
   "display_name": "Python 3 (ipykernel)",
   "language": "python",
   "name": "python3"
  },
  "language_info": {
   "codemirror_mode": {
    "name": "ipython",
    "version": 3
   },
   "file_extension": ".py",
   "mimetype": "text/x-python",
   "name": "python",
   "nbconvert_exporter": "python",
   "pygments_lexer": "ipython3",
   "version": "3.10.13"
  }
 },
 "nbformat": 4,
 "nbformat_minor": 5
}
