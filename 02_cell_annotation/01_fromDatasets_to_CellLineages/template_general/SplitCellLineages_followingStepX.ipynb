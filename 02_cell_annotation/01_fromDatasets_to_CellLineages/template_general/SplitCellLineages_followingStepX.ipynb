{
 "cells": [
  {
   "cell_type": "code",
   "execution_count": 1,
   "metadata": {
    "execution": {
     "iopub.execute_input": "2024-04-15T18:46:40.187468Z",
     "iopub.status.busy": "2024-04-15T18:46:40.187097Z",
     "iopub.status.idle": "2024-04-15T18:46:46.508134Z",
     "shell.execute_reply": "2024-04-15T18:46:46.507562Z",
     "shell.execute_reply.started": "2024-04-15T18:46:40.187448Z"
    }
   },
   "outputs": [],
   "source": [
    "# General modules\n",
    "import sys\n",
    "import os\n",
    "import session_info\n",
    "import warnings\n",
    "from pyprojroot.here import here\n",
    "import glob\n",
    "import pandas as pd\n",
    "import numpy as np\n",
    "import pickle\n",
    "\n",
    "# Setting some parameters\n",
    "warnings.filterwarnings(\"ignore\")\n",
    "sys.path.insert(1, str(here('bin')))\n",
    "\n",
    "# Import custom functions\n",
    "from customPythonFunctions import generate_split_dir\n",
    "\n",
    "\n",
    "#plt.style.use(['science','nature','no-latex'])\n",
    "dpi_fig_save = 300\n",
    "\n",
    "overwriteFigures = True\n",
    "overwriteData = True"
   ]
  },
  {
   "cell_type": "markdown",
   "metadata": {},
   "source": [
    "**Loading annotation pkl**"
   ]
  },
  {
   "cell_type": "code",
   "execution_count": 2,
   "metadata": {
    "execution": {
     "iopub.execute_input": "2024-04-15T18:46:48.461367Z",
     "iopub.status.busy": "2024-04-15T18:46:48.460845Z",
     "iopub.status.idle": "2024-04-15T18:46:48.463866Z",
     "shell.execute_reply": "2024-04-15T18:46:48.463379Z",
     "shell.execute_reply.started": "2024-04-15T18:46:48.461346Z"
    }
   },
   "outputs": [],
   "source": [
    "step = \"Step3\"\n",
    "next_step = \"Step4\""
   ]
  },
  {
   "cell_type": "code",
   "execution_count": 3,
   "metadata": {
    "execution": {
     "iopub.execute_input": "2024-04-15T18:46:49.674680Z",
     "iopub.status.busy": "2024-04-15T18:46:49.674367Z",
     "iopub.status.idle": "2024-04-15T18:46:49.677083Z",
     "shell.execute_reply": "2024-04-15T18:46:49.676717Z",
     "shell.execute_reply.started": "2024-04-15T18:46:49.674660Z"
    }
   },
   "outputs": [],
   "source": [
    "annotation_col_name = 'annotation_step_3'"
   ]
  },
  {
   "cell_type": "code",
   "execution_count": 4,
   "metadata": {
    "execution": {
     "iopub.execute_input": "2024-04-15T18:46:53.127314Z",
     "iopub.status.busy": "2024-04-15T18:46:53.127039Z",
     "iopub.status.idle": "2024-04-15T18:46:53.149527Z",
     "shell.execute_reply": "2024-04-15T18:46:53.149179Z",
     "shell.execute_reply.started": "2024-04-15T18:46:53.127296Z"
    }
   },
   "outputs": [],
   "source": [
    "file_paths = glob.glob(str(here(f\"02_fromCellLineages_to_CellTypes/{step}/*/results/INFLAMMATION_cluster_res*_annotated.pkl\")))\n",
    "# Load and concatenate all files into a single column DataFrame"
   ]
  },
  {
   "cell_type": "code",
   "execution_count": 5,
   "metadata": {
    "execution": {
     "iopub.execute_input": "2024-04-15T18:46:55.141254Z",
     "iopub.status.busy": "2024-04-15T18:46:55.140919Z",
     "iopub.status.idle": "2024-04-15T18:46:55.986502Z",
     "shell.execute_reply": "2024-04-15T18:46:55.986045Z",
     "shell.execute_reply.started": "2024-04-15T18:46:55.141237Z"
    }
   },
   "outputs": [
    {
     "name": "stdout",
     "output_type": "stream",
     "text": [
      "{'Doublets_Step3', 'DC'}\n",
      "{'Plasma', 'LowQuality_cells'}\n",
      "{'T_NonNaive', 'T_Naive'}\n",
      "{'LowQuality_cells', 'B'}\n"
     ]
    }
   ],
   "source": [
    "for file_path in file_paths: \n",
    "    clusterAnnotDF = pd.read_pickle(file_path)\n",
    "    print(set(clusterAnnotDF[annotation_col_name]))"
   ]
  },
  {
   "cell_type": "code",
   "execution_count": 6,
   "metadata": {
    "execution": {
     "iopub.execute_input": "2024-04-15T18:47:10.412568Z",
     "iopub.status.busy": "2024-04-15T18:47:10.412224Z",
     "iopub.status.idle": "2024-04-15T18:47:10.793702Z",
     "shell.execute_reply": "2024-04-15T18:47:10.793211Z",
     "shell.execute_reply.started": "2024-04-15T18:47:10.412535Z"
    }
   },
   "outputs": [],
   "source": [
    "clusterAnnotDF = pd.concat([pd.read_pickle(file_path) for file_path in file_paths], axis=0)"
   ]
  },
  {
   "cell_type": "code",
   "execution_count": 7,
   "metadata": {
    "execution": {
     "iopub.execute_input": "2024-04-15T18:47:11.702407Z",
     "iopub.status.busy": "2024-04-15T18:47:11.701914Z",
     "iopub.status.idle": "2024-04-15T18:47:11.708127Z",
     "shell.execute_reply": "2024-04-15T18:47:11.707748Z",
     "shell.execute_reply.started": "2024-04-15T18:47:11.702386Z"
    }
   },
   "outputs": [
    {
     "name": "stdout",
     "output_type": "stream",
     "text": [
      "                                       annotation_step_3\n",
      "cellID                                                  \n",
      "SCGT00_L051_I52.3P_T0_GAGCTGCTCTGTTGGA                DC\n",
      "SCGT00_L051_I55.3P_T0_TTGCTGCGTATGTCTG                DC\n",
      "SCGT00_L035_I55.3P_T0_GTGAGGATCCCATAGA                DC\n",
      "SCGT00_L035_I52.3P_T0_GTTGCGGCAACTCCAA                DC\n",
      "SCGT00_L029_I58.3P_T0_GAGTTTGGTCCGCAGT                DC\n"
     ]
    }
   ],
   "source": [
    "print(clusterAnnotDF.head())"
   ]
  },
  {
   "cell_type": "code",
   "execution_count": 8,
   "metadata": {
    "execution": {
     "iopub.execute_input": "2024-04-15T18:47:13.720265Z",
     "iopub.status.busy": "2024-04-15T18:47:13.719856Z",
     "iopub.status.idle": "2024-04-15T18:47:13.908048Z",
     "shell.execute_reply": "2024-04-15T18:47:13.907645Z",
     "shell.execute_reply.started": "2024-04-15T18:47:13.720243Z"
    }
   },
   "outputs": [
    {
     "data": {
      "text/plain": [
       "{'B',\n",
       " 'DC',\n",
       " 'Doublets_Step3',\n",
       " 'LowQuality_cells',\n",
       " 'Plasma',\n",
       " 'T_Naive',\n",
       " 'T_NonNaive'}"
      ]
     },
     "execution_count": 8,
     "metadata": {},
     "output_type": "execute_result"
    }
   ],
   "source": [
    "set(clusterAnnotDF[annotation_col_name])"
   ]
  },
  {
   "cell_type": "code",
   "execution_count": 9,
   "metadata": {
    "execution": {
     "iopub.execute_input": "2024-04-15T18:47:19.409823Z",
     "iopub.status.busy": "2024-04-15T18:47:19.409351Z",
     "iopub.status.idle": "2024-04-15T18:47:19.412352Z",
     "shell.execute_reply": "2024-04-15T18:47:19.411989Z",
     "shell.execute_reply.started": "2024-04-15T18:47:19.409804Z"
    }
   },
   "outputs": [
    {
     "name": "stdout",
     "output_type": "stream",
     "text": [
      "(2930553, 1)\n"
     ]
    }
   ],
   "source": [
    "print(clusterAnnotDF.shape)"
   ]
  },
  {
   "cell_type": "code",
   "execution_count": 10,
   "metadata": {
    "execution": {
     "iopub.execute_input": "2024-04-15T18:47:21.388138Z",
     "iopub.status.busy": "2024-04-15T18:47:21.387792Z",
     "iopub.status.idle": "2024-04-15T18:47:22.497723Z",
     "shell.execute_reply": "2024-04-15T18:47:22.497204Z",
     "shell.execute_reply.started": "2024-04-15T18:47:21.388120Z"
    }
   },
   "outputs": [],
   "source": [
    "clusterAnnotDF.to_pickle(here(f\"02_fromCellLineages_to_CellTypes/{step}/{step}_clusterAnnotDF.pkl\"))"
   ]
  },
  {
   "cell_type": "markdown",
   "metadata": {},
   "source": [
    "**Updating master annotation DF**"
   ]
  },
  {
   "cell_type": "code",
   "execution_count": 11,
   "metadata": {
    "execution": {
     "iopub.execute_input": "2024-04-15T18:47:50.184114Z",
     "iopub.status.busy": "2024-04-15T18:47:50.183832Z",
     "iopub.status.idle": "2024-04-15T18:47:51.254224Z",
     "shell.execute_reply": "2024-04-15T18:47:51.253565Z",
     "shell.execute_reply.started": "2024-04-15T18:47:50.184094Z"
    }
   },
   "outputs": [],
   "source": [
    "master_AnnotDFpath = str(here(\"02_fromCellLineages_to_CellTypes/master_clusterAnnotDF.pkl\"))\n",
    "master_AnnotDF = pd.read_pickle(master_AnnotDFpath)"
   ]
  },
  {
   "cell_type": "code",
   "execution_count": 12,
   "metadata": {
    "execution": {
     "iopub.execute_input": "2024-04-15T18:47:55.395691Z",
     "iopub.status.busy": "2024-04-15T18:47:55.395255Z",
     "iopub.status.idle": "2024-04-15T18:47:59.022212Z",
     "shell.execute_reply": "2024-04-15T18:47:59.021721Z",
     "shell.execute_reply.started": "2024-04-15T18:47:55.395672Z"
    }
   },
   "outputs": [],
   "source": [
    "last_column_name = master_AnnotDF.columns[-1]\n",
    "master_AnnotDF[annotation_col_name] = master_AnnotDF[last_column_name]\n",
    "master_AnnotDF[annotation_col_name].update(clusterAnnotDF[annotation_col_name])"
   ]
  },
  {
   "cell_type": "code",
   "execution_count": 14,
   "metadata": {
    "execution": {
     "iopub.execute_input": "2024-04-15T18:48:04.184475Z",
     "iopub.status.busy": "2024-04-15T18:48:04.184088Z",
     "iopub.status.idle": "2024-04-15T18:48:04.188422Z",
     "shell.execute_reply": "2024-04-15T18:48:04.188067Z",
     "shell.execute_reply.started": "2024-04-15T18:48:04.184440Z"
    }
   },
   "outputs": [
    {
     "name": "stdout",
     "output_type": "stream",
     "text": [
      "                                       annotation_step_1 annotation_step_2  \\\n",
      "cellID                                                                       \n",
      "SCGT00_L051_I53.3P_T0_AACCAACGTGGGATTG               pDC               pDC   \n",
      "SCGT00_L051_I58.3P_T0_ACCTGAAAGTGCCAGA               pDC               pDC   \n",
      "SCGT00_L051_I53.3P_T0_ACTATGGAGGCGCTCT               pDC               pDC   \n",
      "SCGT00_L051_I55.3P_T0_ACTTTCACATGGGTTT               pDC               pDC   \n",
      "SCGT00_L051_I52.3P_T0_ATCACAGTCATCGGGC               pDC               pDC   \n",
      "\n",
      "                                       annotation_step_3  \n",
      "cellID                                                    \n",
      "SCGT00_L051_I53.3P_T0_AACCAACGTGGGATTG               pDC  \n",
      "SCGT00_L051_I58.3P_T0_ACCTGAAAGTGCCAGA               pDC  \n",
      "SCGT00_L051_I53.3P_T0_ACTATGGAGGCGCTCT               pDC  \n",
      "SCGT00_L051_I55.3P_T0_ACTTTCACATGGGTTT               pDC  \n",
      "SCGT00_L051_I52.3P_T0_ATCACAGTCATCGGGC               pDC  \n"
     ]
    }
   ],
   "source": [
    "print(master_AnnotDF.head())"
   ]
  },
  {
   "cell_type": "code",
   "execution_count": 15,
   "metadata": {
    "execution": {
     "iopub.execute_input": "2024-04-15T18:48:26.977585Z",
     "iopub.status.busy": "2024-04-15T18:48:26.977297Z",
     "iopub.status.idle": "2024-04-15T18:48:26.980303Z",
     "shell.execute_reply": "2024-04-15T18:48:26.979827Z",
     "shell.execute_reply.started": "2024-04-15T18:48:26.977567Z"
    }
   },
   "outputs": [
    {
     "name": "stdout",
     "output_type": "stream",
     "text": [
      "(4919089, 3)\n"
     ]
    }
   ],
   "source": [
    "print(master_AnnotDF.shape)"
   ]
  },
  {
   "cell_type": "code",
   "execution_count": 16,
   "metadata": {
    "execution": {
     "iopub.execute_input": "2024-04-15T18:48:28.016313Z",
     "iopub.status.busy": "2024-04-15T18:48:28.015807Z",
     "iopub.status.idle": "2024-04-15T18:48:28.340880Z",
     "shell.execute_reply": "2024-04-15T18:48:28.340467Z",
     "shell.execute_reply.started": "2024-04-15T18:48:28.016287Z"
    }
   },
   "outputs": [
    {
     "data": {
      "text/plain": [
       "{'B',\n",
       " 'DC',\n",
       " 'Doublets',\n",
       " 'Doublets_Step2',\n",
       " 'Doublets_Step3',\n",
       " 'HSC',\n",
       " 'LowQuality_cells',\n",
       " 'Mono',\n",
       " 'NK',\n",
       " 'Plasma',\n",
       " 'Platelets',\n",
       " 'RBC',\n",
       " 'T_Naive',\n",
       " 'T_NonNaive',\n",
       " 'pDC'}"
      ]
     },
     "execution_count": 16,
     "metadata": {},
     "output_type": "execute_result"
    }
   ],
   "source": [
    "set(master_AnnotDF[annotation_col_name])"
   ]
  },
  {
   "cell_type": "code",
   "execution_count": 18,
   "metadata": {
    "execution": {
     "iopub.execute_input": "2024-04-15T18:48:38.697369Z",
     "iopub.status.busy": "2024-04-15T18:48:38.696947Z",
     "iopub.status.idle": "2024-04-15T18:48:40.658983Z",
     "shell.execute_reply": "2024-04-15T18:48:40.658425Z",
     "shell.execute_reply.started": "2024-04-15T18:48:38.697348Z"
    }
   },
   "outputs": [],
   "source": [
    "master_AnnotDF.to_pickle(here(f\"02_fromCellLineages_to_CellTypes/master_clusterAnnotDF.pkl\"))"
   ]
  },
  {
   "cell_type": "markdown",
   "metadata": {},
   "source": [
    "# Split Lineages"
   ]
  },
  {
   "cell_type": "code",
   "execution_count": 19,
   "metadata": {
    "execution": {
     "iopub.execute_input": "2024-04-15T18:50:01.982147Z",
     "iopub.status.busy": "2024-04-15T18:50:01.981893Z",
     "iopub.status.idle": "2024-04-15T18:50:01.985359Z",
     "shell.execute_reply": "2024-04-15T18:50:01.984901Z",
     "shell.execute_reply.started": "2024-04-15T18:50:01.982128Z"
    }
   },
   "outputs": [],
   "source": [
    "annotation_col_name = 'annotation_step_3'\n",
    "not_interesting_categories = [\"LowQuality_cells\", \"Doublets\", \"RBC\", \"Platelets\", \"Doublets_Step2\"]\n",
    "finished_categories = [\"HSC\", \"Mono\", \"NK\", \"pDC\"]"
   ]
  },
  {
   "cell_type": "code",
   "execution_count": 21,
   "metadata": {
    "execution": {
     "iopub.execute_input": "2024-04-15T18:50:07.380905Z",
     "iopub.status.busy": "2024-04-15T18:50:07.380379Z",
     "iopub.status.idle": "2024-04-15T18:50:07.608913Z",
     "shell.execute_reply": "2024-04-15T18:50:07.608496Z",
     "shell.execute_reply.started": "2024-04-15T18:50:07.380884Z"
    }
   },
   "outputs": [
    {
     "name": "stdout",
     "output_type": "stream",
     "text": [
      "annotation_step_3\n",
      "T_NonNaive          1422966\n",
      "T_Naive             1086752\n",
      "Mono                1022749\n",
      "NK                   455612\n",
      "B                    343182\n",
      "Doublets             207450\n",
      "LowQuality_cells     101976\n",
      "Doublets_Step2        92874\n",
      "Platelets             76922\n",
      "DC                    55084\n",
      "pDC                   22059\n",
      "Plasma                19917\n",
      "HSC                    7554\n",
      "RBC                    2642\n",
      "Doublets_Step3         1350\n",
      "dtype: int64\n"
     ]
    }
   ],
   "source": [
    "cell_counts = master_AnnotDF.groupby(annotation_col_name).size().sort_values(ascending=False)\n",
    "print(cell_counts)"
   ]
  },
  {
   "cell_type": "code",
   "execution_count": 22,
   "metadata": {
    "execution": {
     "iopub.execute_input": "2024-04-15T18:50:36.054158Z",
     "iopub.status.busy": "2024-04-15T18:50:36.053699Z",
     "iopub.status.idle": "2024-04-15T18:50:36.057876Z",
     "shell.execute_reply": "2024-04-15T18:50:36.057498Z",
     "shell.execute_reply.started": "2024-04-15T18:50:36.054136Z"
    }
   },
   "outputs": [
    {
     "name": "stdout",
     "output_type": "stream",
     "text": [
      "We are removing a total of 481864 cells\n",
      "LowQuality_cells: 101976 cells removed\n",
      "Doublets: 207450 cells removed\n",
      "RBC: 2642 cells removed\n",
      "Platelets: 76922 cells removed\n",
      "Doublets_Step2: 92874 cells removed\n"
     ]
    }
   ],
   "source": [
    "total_cells_to_remove = cell_counts.loc[not_interesting_categories].sum()\n",
    "print(f\"We are removing a total of {total_cells_to_remove} cells\")\n",
    "for category in not_interesting_categories:\n",
    "    cells_removed = cell_counts.loc[category]\n",
    "    print(f\"{category}: {cells_removed} cells removed\")"
   ]
  },
  {
   "cell_type": "code",
   "execution_count": 24,
   "metadata": {
    "execution": {
     "iopub.execute_input": "2024-04-15T18:51:03.346647Z",
     "iopub.status.busy": "2024-04-15T18:51:03.346374Z",
     "iopub.status.idle": "2024-04-15T18:51:03.349721Z",
     "shell.execute_reply": "2024-04-15T18:51:03.349352Z",
     "shell.execute_reply.started": "2024-04-15T18:51:03.346630Z"
    }
   },
   "outputs": [
    {
     "name": "stdout",
     "output_type": "stream",
     "text": [
      "We have finished a total of 1507974 cells\n",
      "HSC: 7554 cells finished\n",
      "Mono: 1022749 cells finished\n",
      "NK: 455612 cells finished\n",
      "pDC: 22059 cells finished\n"
     ]
    }
   ],
   "source": [
    "total_cells_finished = cell_counts.loc[finished_categories].sum()\n",
    "print(f\"We have finished a total of {total_cells_finished} cells\")\n",
    "for category in finished_categories:\n",
    "    cells_finished = cell_counts.loc[category]\n",
    "    print(f\"{category}: {cells_finished} cells finished\")"
   ]
  },
  {
   "cell_type": "code",
   "execution_count": 26,
   "metadata": {
    "execution": {
     "iopub.execute_input": "2024-04-15T18:54:24.460414Z",
     "iopub.status.busy": "2024-04-15T18:54:24.459864Z",
     "iopub.status.idle": "2024-04-15T18:54:24.464138Z",
     "shell.execute_reply": "2024-04-15T18:54:24.463764Z",
     "shell.execute_reply.started": "2024-04-15T18:54:24.460395Z"
    }
   },
   "outputs": [
    {
     "name": "stdout",
     "output_type": "stream",
     "text": [
      "We are still missing a total of 2929251 cells\n",
      "B: 343182 cells missing\n",
      "DC: 55084 cells missing\n",
      "Doublets_Step3: 1350 cells missing\n",
      "Plasma: 19917 cells missing\n",
      "T_Naive: 1086752 cells missing\n",
      "T_NonNaive: 1422966 cells missing\n"
     ]
    }
   ],
   "source": [
    "next_step_categories = cell_counts.index.difference(set(finished_categories).union(set(not_interesting_categories)))\n",
    "total_cells_of_interest = cell_counts.loc[next_step_categories].sum()\n",
    "print(f\"We are still missing a total of {total_cells_of_interest} cells\")\n",
    "for category in next_step_categories:\n",
    "    cells_missing = cell_counts.loc[category]\n",
    "    print(f\"{category}: {cells_missing} cells missing\")"
   ]
  },
  {
   "cell_type": "code",
   "execution_count": 27,
   "metadata": {
    "execution": {
     "iopub.execute_input": "2024-04-15T18:54:42.929310Z",
     "iopub.status.busy": "2024-04-15T18:54:42.928754Z",
     "iopub.status.idle": "2024-04-15T18:54:43.112254Z",
     "shell.execute_reply": "2024-04-15T18:54:43.111859Z",
     "shell.execute_reply.started": "2024-04-15T18:54:42.929270Z"
    }
   },
   "outputs": [
    {
     "data": {
      "text/plain": [
       "array(['pDC', 'DC', 'LowQuality_cells', 'Doublets', 'Platelets',\n",
       "       'Doublets_Step3', 'Doublets_Step2', 'Mono', 'B', 'NK', 'T_Naive',\n",
       "       'T_NonNaive', 'Plasma', 'RBC', 'HSC'], dtype=object)"
      ]
     },
     "execution_count": 27,
     "metadata": {},
     "output_type": "execute_result"
    }
   ],
   "source": [
    "master_AnnotDF[annotation_col_name].unique()"
   ]
  },
  {
   "cell_type": "code",
   "execution_count": 28,
   "metadata": {
    "execution": {
     "iopub.execute_input": "2024-04-15T18:55:30.615212Z",
     "iopub.status.busy": "2024-04-15T18:55:30.614569Z",
     "iopub.status.idle": "2024-04-15T18:55:31.069889Z",
     "shell.execute_reply": "2024-04-15T18:55:31.069459Z",
     "shell.execute_reply.started": "2024-04-15T18:55:30.615164Z"
    }
   },
   "outputs": [
    {
     "name": "stdout",
     "output_type": "stream",
     "text": [
      "Skipping pDC\n",
      "DC\n",
      "01_qualityControl_HVGselection.ipynb: cellGroup changed!\n",
      "01_qualityControl_HVGselection.ipynb: annotationDFpath changed!\n",
      "01_qualityControl_HVGselection.ipynb: annotation column changed!\n",
      "03_compute_neighborsUMAP_QCmetrics.ipynb: cellGroup changed!\n",
      "03_compute_neighborsUMAP_QCmetrics.ipynb: annotationDFpath changed!\n",
      "03_compute_neighborsUMAP_QCmetrics.ipynb: annotation column changed!\n",
      "04a_clustering.ipynb: cellGroup changed!\n",
      "05_compute_markers_for_specific_resolution.ipynb: cellGroup changed!\n",
      "04b_annotation.ipynb: cellGroup changed!\n",
      "following_split_step_to_step2.ipynb: cellGroup changed!\n",
      "following_split_step_to_step2.ipynb: annotationDFpath changed!\n",
      "following_split_step_to_step2.ipynb: annotation column changed!\n",
      "__05b_compute_markers_for_annotated_celltypes.ipynb: cellGroup changed!\n",
      "02_scVI_integration.ipynb: cellGroup changed!\n",
      "Skipping LowQuality_cells\n",
      "Skipping Doublets\n",
      "Skipping Platelets\n",
      "Doublets_Step3\n",
      "01_qualityControl_HVGselection.ipynb: cellGroup changed!\n",
      "01_qualityControl_HVGselection.ipynb: annotationDFpath changed!\n",
      "01_qualityControl_HVGselection.ipynb: annotation column changed!\n",
      "03_compute_neighborsUMAP_QCmetrics.ipynb: cellGroup changed!\n",
      "03_compute_neighborsUMAP_QCmetrics.ipynb: annotationDFpath changed!\n",
      "03_compute_neighborsUMAP_QCmetrics.ipynb: annotation column changed!\n",
      "04a_clustering.ipynb: cellGroup changed!\n",
      "05_compute_markers_for_specific_resolution.ipynb: cellGroup changed!\n",
      "04b_annotation.ipynb: cellGroup changed!\n",
      "following_split_step_to_step2.ipynb: cellGroup changed!\n",
      "following_split_step_to_step2.ipynb: annotationDFpath changed!\n",
      "following_split_step_to_step2.ipynb: annotation column changed!\n",
      "__05b_compute_markers_for_annotated_celltypes.ipynb: cellGroup changed!\n",
      "02_scVI_integration.ipynb: cellGroup changed!\n",
      "Skipping Doublets_Step2\n",
      "Skipping Mono\n",
      "B\n",
      "01_qualityControl_HVGselection.ipynb: cellGroup changed!\n",
      "01_qualityControl_HVGselection.ipynb: annotationDFpath changed!\n",
      "01_qualityControl_HVGselection.ipynb: annotation column changed!\n",
      "03_compute_neighborsUMAP_QCmetrics.ipynb: cellGroup changed!\n",
      "03_compute_neighborsUMAP_QCmetrics.ipynb: annotationDFpath changed!\n",
      "03_compute_neighborsUMAP_QCmetrics.ipynb: annotation column changed!\n",
      "04a_clustering.ipynb: cellGroup changed!\n",
      "05_compute_markers_for_specific_resolution.ipynb: cellGroup changed!\n",
      "04b_annotation.ipynb: cellGroup changed!\n",
      "following_split_step_to_step2.ipynb: cellGroup changed!\n",
      "following_split_step_to_step2.ipynb: annotationDFpath changed!\n",
      "following_split_step_to_step2.ipynb: annotation column changed!\n",
      "__05b_compute_markers_for_annotated_celltypes.ipynb: cellGroup changed!\n",
      "02_scVI_integration.ipynb: cellGroup changed!\n",
      "Skipping NK\n",
      "T_Naive\n",
      "01_qualityControl_HVGselection.ipynb: cellGroup changed!\n",
      "01_qualityControl_HVGselection.ipynb: annotationDFpath changed!\n",
      "01_qualityControl_HVGselection.ipynb: annotation column changed!\n",
      "03_compute_neighborsUMAP_QCmetrics.ipynb: cellGroup changed!\n",
      "03_compute_neighborsUMAP_QCmetrics.ipynb: annotationDFpath changed!\n",
      "03_compute_neighborsUMAP_QCmetrics.ipynb: annotation column changed!\n",
      "04a_clustering.ipynb: cellGroup changed!\n",
      "05_compute_markers_for_specific_resolution.ipynb: cellGroup changed!\n",
      "04b_annotation.ipynb: cellGroup changed!\n",
      "following_split_step_to_step2.ipynb: cellGroup changed!\n",
      "following_split_step_to_step2.ipynb: annotationDFpath changed!\n",
      "following_split_step_to_step2.ipynb: annotation column changed!\n",
      "__05b_compute_markers_for_annotated_celltypes.ipynb: cellGroup changed!\n",
      "02_scVI_integration.ipynb: cellGroup changed!\n",
      "T_NonNaive\n",
      "01_qualityControl_HVGselection.ipynb: cellGroup changed!\n",
      "01_qualityControl_HVGselection.ipynb: annotationDFpath changed!\n",
      "01_qualityControl_HVGselection.ipynb: annotation column changed!\n",
      "03_compute_neighborsUMAP_QCmetrics.ipynb: cellGroup changed!\n",
      "03_compute_neighborsUMAP_QCmetrics.ipynb: annotationDFpath changed!\n",
      "03_compute_neighborsUMAP_QCmetrics.ipynb: annotation column changed!\n",
      "04a_clustering.ipynb: cellGroup changed!\n",
      "05_compute_markers_for_specific_resolution.ipynb: cellGroup changed!\n",
      "04b_annotation.ipynb: cellGroup changed!\n",
      "following_split_step_to_step2.ipynb: cellGroup changed!\n",
      "following_split_step_to_step2.ipynb: annotationDFpath changed!\n",
      "following_split_step_to_step2.ipynb: annotation column changed!\n",
      "__05b_compute_markers_for_annotated_celltypes.ipynb: cellGroup changed!\n",
      "02_scVI_integration.ipynb: cellGroup changed!\n",
      "Plasma\n",
      "01_qualityControl_HVGselection.ipynb: cellGroup changed!\n",
      "01_qualityControl_HVGselection.ipynb: annotationDFpath changed!\n",
      "01_qualityControl_HVGselection.ipynb: annotation column changed!\n",
      "03_compute_neighborsUMAP_QCmetrics.ipynb: cellGroup changed!\n",
      "03_compute_neighborsUMAP_QCmetrics.ipynb: annotationDFpath changed!\n",
      "03_compute_neighborsUMAP_QCmetrics.ipynb: annotation column changed!\n",
      "04a_clustering.ipynb: cellGroup changed!\n",
      "05_compute_markers_for_specific_resolution.ipynb: cellGroup changed!\n",
      "04b_annotation.ipynb: cellGroup changed!\n",
      "following_split_step_to_step2.ipynb: cellGroup changed!\n",
      "following_split_step_to_step2.ipynb: annotationDFpath changed!\n",
      "following_split_step_to_step2.ipynb: annotation column changed!\n",
      "__05b_compute_markers_for_annotated_celltypes.ipynb: cellGroup changed!\n",
      "02_scVI_integration.ipynb: cellGroup changed!\n",
      "Skipping RBC\n",
      "Skipping HSC\n"
     ]
    }
   ],
   "source": [
    "template_path = here('01_fromDatasets_to_CellLineages/template')\n",
    "template_notebook_list = [str(template_path) + '/' + f for f in os.listdir(template_path) if f.endswith('.ipynb')]\n",
    "\n",
    "annotation_path = str(here(f\"02_fromCellLineages_to_CellTypes/{step}/{step}_clusterAnnotDF.pkl\"))\n",
    "targetdir = str(here(f'02_fromCellLineages_to_CellTypes/{next_step}'))\n",
    "os.makedirs(targetdir)\n",
    "\n",
    "for cellGroup in master_AnnotDF[annotation_col_name].unique():\n",
    "    if cellGroup in next_step_categories: \n",
    "        print(cellGroup)\n",
    "        # Generate the directory tree\n",
    "        os.makedirs(here('{}/{}/results/figures'.format(targetdir, cellGroup)), exist_ok=False)\n",
    "        for template_notebook in template_notebook_list:\n",
    "            generate_split_dir(cellGroup = cellGroup, \n",
    "                               annotationPath = annotation_path, \n",
    "                               targetDir = targetdir, \n",
    "                               annotation_col_name = annotation_col_name, # Davide changed this line after editing the function. Check if still works\n",
    "                               templateNotebook = template_notebook)\n",
    "    else: \n",
    "        print(f\"Skipping {cellGroup}\")"
   ]
  },
  {
   "cell_type": "code",
   "execution_count": null,
   "metadata": {},
   "outputs": [],
   "source": [
    "session_info.show()"
   ]
  },
  {
   "cell_type": "code",
   "execution_count": null,
   "metadata": {},
   "outputs": [],
   "source": []
  }
 ],
 "metadata": {
  "kernelspec": {
   "display_name": "Python 3 (ipykernel)",
   "language": "python",
   "name": "python3"
  },
  "language_info": {
   "codemirror_mode": {
    "name": "ipython",
    "version": 3
   },
   "file_extension": ".py",
   "mimetype": "text/x-python",
   "name": "python",
   "nbconvert_exporter": "python",
   "pygments_lexer": "ipython3",
   "version": "3.10.13"
  },
  "toc": {
   "base_numbering": 1,
   "nav_menu": {},
   "number_sections": true,
   "sideBar": true,
   "skip_h1_title": false,
   "title_cell": "Table of Contents",
   "title_sidebar": "Contents",
   "toc_cell": false,
   "toc_position": {},
   "toc_section_display": true,
   "toc_window_display": false
  }
 },
 "nbformat": 4,
 "nbformat_minor": 4
}
