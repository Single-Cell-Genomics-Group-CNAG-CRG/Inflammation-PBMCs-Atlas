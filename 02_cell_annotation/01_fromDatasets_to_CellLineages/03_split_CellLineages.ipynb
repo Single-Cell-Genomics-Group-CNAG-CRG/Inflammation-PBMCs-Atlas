{
 "cells": [
  {
   "cell_type": "code",
   "execution_count": 1,
   "metadata": {
    "execution": {
     "iopub.execute_input": "2024-04-28T15:16:46.518025Z",
     "iopub.status.busy": "2024-04-28T15:16:46.517711Z",
     "iopub.status.idle": "2024-04-28T15:16:47.017947Z",
     "shell.execute_reply": "2024-04-28T15:16:47.017352Z",
     "shell.execute_reply.started": "2024-04-28T15:16:46.518003Z"
    }
   },
   "outputs": [],
   "source": [
    "# General modules\n",
    "import sys\n",
    "import os\n",
    "import session_info\n",
    "import warnings\n",
    "from pyprojroot.here import here\n",
    "import glob\n",
    "import pandas as pd\n",
    "import numpy as np\n",
    "import pickle\n",
    "\n",
    "# Setting some parameters\n",
    "warnings.filterwarnings(\"ignore\")\n",
    "sys.path.insert(1, str(here('bin')))\n",
    "\n",
    "# Import custom functions\n",
    "from customPythonFunctions import generate_split_dir\n",
    "\n",
    "\n",
    "#plt.style.use(['science','nature','no-latex'])\n",
    "dpi_fig_save = 300\n",
    "\n",
    "overwriteFigures = True\n",
    "overwriteData = True"
   ]
  },
  {
   "cell_type": "markdown",
   "metadata": {},
   "source": [
    "**Load data**"
   ]
  },
  {
   "cell_type": "raw",
   "metadata": {
    "execution": {
     "execution_failed": "2024-03-26T18:38:55.185Z",
     "iopub.execute_input": "2024-03-26T18:38:34.349226Z",
     "iopub.status.busy": "2024-03-26T18:38:34.348726Z"
    }
   },
   "source": [
    "adata = sc.read_h5ad(here(\"01_data_processing/results/05_INFLAMMATION_main_HVGsubset_scVI_UMAP_clinical_allGenes.h5ad\"))\n",
    "adata.uns['log1p']['base'] = None # only if logscale is computed\n",
    "adata"
   ]
  },
  {
   "cell_type": "raw",
   "metadata": {
    "scrolled": true
   },
   "source": [
    "adata.obs.head()"
   ]
  },
  {
   "cell_type": "markdown",
   "metadata": {},
   "source": [
    "**Loading annotation pkl**"
   ]
  },
  {
   "cell_type": "code",
   "execution_count": 2,
   "metadata": {
    "execution": {
     "iopub.execute_input": "2024-04-28T15:16:47.019270Z",
     "iopub.status.busy": "2024-04-28T15:16:47.019030Z",
     "iopub.status.idle": "2024-04-28T15:16:47.530614Z",
     "shell.execute_reply": "2024-04-28T15:16:47.530169Z",
     "shell.execute_reply.started": "2024-04-28T15:16:47.019244Z"
    }
   },
   "outputs": [
    {
     "data": {
      "text/html": [
       "<div>\n",
       "<style scoped>\n",
       "    .dataframe tbody tr th:only-of-type {\n",
       "        vertical-align: middle;\n",
       "    }\n",
       "\n",
       "    .dataframe tbody tr th {\n",
       "        vertical-align: top;\n",
       "    }\n",
       "\n",
       "    .dataframe thead th {\n",
       "        text-align: right;\n",
       "    }\n",
       "</style>\n",
       "<table border=\"1\" class=\"dataframe\">\n",
       "  <thead>\n",
       "    <tr style=\"text-align: right;\">\n",
       "      <th></th>\n",
       "      <th>cell_lineages</th>\n",
       "    </tr>\n",
       "    <tr>\n",
       "      <th>cellID</th>\n",
       "      <th></th>\n",
       "    </tr>\n",
       "  </thead>\n",
       "  <tbody>\n",
       "    <tr>\n",
       "      <th>SCGT00_L051_I57.3P_T0_AAACCCAAGGTGAGAA</th>\n",
       "      <td>T_and_NK</td>\n",
       "    </tr>\n",
       "    <tr>\n",
       "      <th>SCGT00_L051_I56.3P_T0_AAACCCAAGTCCGTCG</th>\n",
       "      <td>T_and_NK</td>\n",
       "    </tr>\n",
       "    <tr>\n",
       "      <th>SCGT00_L051_I53.3P_T0_AAACCCAAGTGCACTT</th>\n",
       "      <td>Mono_and_DC</td>\n",
       "    </tr>\n",
       "    <tr>\n",
       "      <th>SCGT00_L051_I52.3P_T0_AAACCCACAACTGTGT</th>\n",
       "      <td>T_and_NK</td>\n",
       "    </tr>\n",
       "    <tr>\n",
       "      <th>SCGT00_L051_I56.3P_T0_AAACCCACAAGAATGT</th>\n",
       "      <td>T_and_NK</td>\n",
       "    </tr>\n",
       "    <tr>\n",
       "      <th>...</th>\n",
       "      <td>...</td>\n",
       "    </tr>\n",
       "    <tr>\n",
       "      <th>Ren2021_L066_PS053_T0_TTTGTCATCCACGCAG</th>\n",
       "      <td>Plasma</td>\n",
       "    </tr>\n",
       "    <tr>\n",
       "      <th>Ren2021_L066_PS053_T0_TTTGTCATCCGCTGTT</th>\n",
       "      <td>Plasma</td>\n",
       "    </tr>\n",
       "    <tr>\n",
       "      <th>Ren2021_L066_PS053_T0_TTTGTCATCGTCGTTC</th>\n",
       "      <td>T_and_NK</td>\n",
       "    </tr>\n",
       "    <tr>\n",
       "      <th>Ren2021_L066_PS053_T0_TTTGTCATCTGTACGA</th>\n",
       "      <td>T_and_NK</td>\n",
       "    </tr>\n",
       "    <tr>\n",
       "      <th>Ren2021_L066_PS053_T0_TTTGTCATCTTGCCGT</th>\n",
       "      <td>T_and_NK</td>\n",
       "    </tr>\n",
       "  </tbody>\n",
       "</table>\n",
       "<p>4918140 rows × 1 columns</p>\n",
       "</div>"
      ],
      "text/plain": [
       "                                       cell_lineages\n",
       "cellID                                              \n",
       "SCGT00_L051_I57.3P_T0_AAACCCAAGGTGAGAA      T_and_NK\n",
       "SCGT00_L051_I56.3P_T0_AAACCCAAGTCCGTCG      T_and_NK\n",
       "SCGT00_L051_I53.3P_T0_AAACCCAAGTGCACTT   Mono_and_DC\n",
       "SCGT00_L051_I52.3P_T0_AAACCCACAACTGTGT      T_and_NK\n",
       "SCGT00_L051_I56.3P_T0_AAACCCACAAGAATGT      T_and_NK\n",
       "...                                              ...\n",
       "Ren2021_L066_PS053_T0_TTTGTCATCCACGCAG        Plasma\n",
       "Ren2021_L066_PS053_T0_TTTGTCATCCGCTGTT        Plasma\n",
       "Ren2021_L066_PS053_T0_TTTGTCATCGTCGTTC      T_and_NK\n",
       "Ren2021_L066_PS053_T0_TTTGTCATCTGTACGA      T_and_NK\n",
       "Ren2021_L066_PS053_T0_TTTGTCATCTTGCCGT      T_and_NK\n",
       "\n",
       "[4918140 rows x 1 columns]"
      ]
     },
     "execution_count": 2,
     "metadata": {},
     "output_type": "execute_result"
    }
   ],
   "source": [
    "clusterAnnotDF_path = glob.glob(str(here('01_fromDatasets_to_CellLineages/results/INFLAMMATION_cluster_res*_annotated.pkl')))[0]\n",
    "clusterAnnotDF = pd.read_pickle(clusterAnnotDF_path)\n",
    "clusterAnnotDF"
   ]
  },
  {
   "cell_type": "markdown",
   "metadata": {},
   "source": [
    "# Split Lineages"
   ]
  },
  {
   "cell_type": "code",
   "execution_count": 3,
   "metadata": {
    "execution": {
     "iopub.execute_input": "2024-04-28T15:16:47.532314Z",
     "iopub.status.busy": "2024-04-28T15:16:47.532095Z",
     "iopub.status.idle": "2024-04-28T15:16:47.554196Z",
     "shell.execute_reply": "2024-04-28T15:16:47.553684Z",
     "shell.execute_reply.started": "2024-04-28T15:16:47.532296Z"
    }
   },
   "outputs": [
    {
     "name": "stdout",
     "output_type": "stream",
     "text": [
      "T_and_NK\n",
      "Mono_and_DC\n",
      "B\n",
      "Platelets\n",
      "pDC\n",
      "RBC_and_HSC\n",
      "Plasma\n"
     ]
    }
   ],
   "source": [
    "for cellGroup in clusterAnnotDF.cell_lineages.unique():\n",
    "    print(cellGroup)"
   ]
  },
  {
   "cell_type": "code",
   "execution_count": 4,
   "metadata": {
    "execution": {
     "iopub.execute_input": "2024-04-28T15:16:47.555331Z",
     "iopub.status.busy": "2024-04-28T15:16:47.555133Z",
     "iopub.status.idle": "2024-04-28T15:16:47.762092Z",
     "shell.execute_reply": "2024-04-28T15:16:47.761659Z",
     "shell.execute_reply.started": "2024-04-28T15:16:47.555313Z"
    }
   },
   "outputs": [
    {
     "name": "stdout",
     "output_type": "stream",
     "text": [
      "T_and_NK\n",
      "01_qualityControl_HVGselection.ipynb: cellGroup changed!\n",
      "01_qualityControl_HVGselection.ipynb: annotationDFpath changed!\n",
      "01_qualityControl_HVGselection.ipynb: annotation column changed!\n",
      "03_compute_neighborsUMAP_QCmetrics.ipynb: cellGroup changed!\n",
      "03_compute_neighborsUMAP_QCmetrics.ipynb: annotationDFpath changed!\n",
      "03_compute_neighborsUMAP_QCmetrics.ipynb: annotation column changed!\n",
      "05_annotation.ipynb: cellGroup changed!\n",
      "02_integration_scVI.ipynb: cellGroup changed!\n",
      "06_computeMarkers_specificResolution.ipynb: cellGroup changed!\n",
      "04_clustering.ipynb: cellGroup changed!\n",
      "splitClusters_followingStep.ipynb: cellGroup changed!\n",
      "splitClusters_followingStep.ipynb: annotationDFpath changed!\n",
      "splitClusters_followingStep.ipynb: annotation column changed!\n",
      "Mono_and_DC\n",
      "01_qualityControl_HVGselection.ipynb: cellGroup changed!\n",
      "01_qualityControl_HVGselection.ipynb: annotationDFpath changed!\n",
      "01_qualityControl_HVGselection.ipynb: annotation column changed!\n",
      "03_compute_neighborsUMAP_QCmetrics.ipynb: cellGroup changed!\n",
      "03_compute_neighborsUMAP_QCmetrics.ipynb: annotationDFpath changed!\n",
      "03_compute_neighborsUMAP_QCmetrics.ipynb: annotation column changed!\n",
      "05_annotation.ipynb: cellGroup changed!\n",
      "02_integration_scVI.ipynb: cellGroup changed!\n",
      "06_computeMarkers_specificResolution.ipynb: cellGroup changed!\n",
      "04_clustering.ipynb: cellGroup changed!\n",
      "splitClusters_followingStep.ipynb: cellGroup changed!\n",
      "splitClusters_followingStep.ipynb: annotationDFpath changed!\n",
      "splitClusters_followingStep.ipynb: annotation column changed!\n",
      "B\n",
      "01_qualityControl_HVGselection.ipynb: cellGroup changed!\n",
      "01_qualityControl_HVGselection.ipynb: annotationDFpath changed!\n",
      "01_qualityControl_HVGselection.ipynb: annotation column changed!\n",
      "03_compute_neighborsUMAP_QCmetrics.ipynb: cellGroup changed!\n",
      "03_compute_neighborsUMAP_QCmetrics.ipynb: annotationDFpath changed!\n",
      "03_compute_neighborsUMAP_QCmetrics.ipynb: annotation column changed!\n",
      "05_annotation.ipynb: cellGroup changed!\n",
      "02_integration_scVI.ipynb: cellGroup changed!\n",
      "06_computeMarkers_specificResolution.ipynb: cellGroup changed!\n",
      "04_clustering.ipynb: cellGroup changed!\n",
      "splitClusters_followingStep.ipynb: cellGroup changed!\n",
      "splitClusters_followingStep.ipynb: annotationDFpath changed!\n",
      "splitClusters_followingStep.ipynb: annotation column changed!\n",
      "Platelets\n",
      "01_qualityControl_HVGselection.ipynb: cellGroup changed!\n",
      "01_qualityControl_HVGselection.ipynb: annotationDFpath changed!\n",
      "01_qualityControl_HVGselection.ipynb: annotation column changed!\n",
      "03_compute_neighborsUMAP_QCmetrics.ipynb: cellGroup changed!\n",
      "03_compute_neighborsUMAP_QCmetrics.ipynb: annotationDFpath changed!\n",
      "03_compute_neighborsUMAP_QCmetrics.ipynb: annotation column changed!\n",
      "05_annotation.ipynb: cellGroup changed!\n",
      "02_integration_scVI.ipynb: cellGroup changed!\n",
      "06_computeMarkers_specificResolution.ipynb: cellGroup changed!\n",
      "04_clustering.ipynb: cellGroup changed!\n",
      "splitClusters_followingStep.ipynb: cellGroup changed!\n",
      "splitClusters_followingStep.ipynb: annotationDFpath changed!\n",
      "splitClusters_followingStep.ipynb: annotation column changed!\n",
      "pDC\n",
      "01_qualityControl_HVGselection.ipynb: cellGroup changed!\n",
      "01_qualityControl_HVGselection.ipynb: annotationDFpath changed!\n",
      "01_qualityControl_HVGselection.ipynb: annotation column changed!\n",
      "03_compute_neighborsUMAP_QCmetrics.ipynb: cellGroup changed!\n",
      "03_compute_neighborsUMAP_QCmetrics.ipynb: annotationDFpath changed!\n",
      "03_compute_neighborsUMAP_QCmetrics.ipynb: annotation column changed!\n",
      "05_annotation.ipynb: cellGroup changed!\n",
      "02_integration_scVI.ipynb: cellGroup changed!\n",
      "06_computeMarkers_specificResolution.ipynb: cellGroup changed!\n",
      "04_clustering.ipynb: cellGroup changed!\n",
      "splitClusters_followingStep.ipynb: cellGroup changed!\n",
      "splitClusters_followingStep.ipynb: annotationDFpath changed!\n",
      "splitClusters_followingStep.ipynb: annotation column changed!\n",
      "RBC_and_HSC\n",
      "01_qualityControl_HVGselection.ipynb: cellGroup changed!\n",
      "01_qualityControl_HVGselection.ipynb: annotationDFpath changed!\n",
      "01_qualityControl_HVGselection.ipynb: annotation column changed!\n",
      "03_compute_neighborsUMAP_QCmetrics.ipynb: cellGroup changed!\n",
      "03_compute_neighborsUMAP_QCmetrics.ipynb: annotationDFpath changed!\n",
      "03_compute_neighborsUMAP_QCmetrics.ipynb: annotation column changed!\n",
      "05_annotation.ipynb: cellGroup changed!\n",
      "02_integration_scVI.ipynb: cellGroup changed!\n",
      "06_computeMarkers_specificResolution.ipynb: cellGroup changed!\n",
      "04_clustering.ipynb: cellGroup changed!\n",
      "splitClusters_followingStep.ipynb: cellGroup changed!\n",
      "splitClusters_followingStep.ipynb: annotationDFpath changed!\n",
      "splitClusters_followingStep.ipynb: annotation column changed!\n",
      "Plasma\n",
      "01_qualityControl_HVGselection.ipynb: cellGroup changed!\n",
      "01_qualityControl_HVGselection.ipynb: annotationDFpath changed!\n",
      "01_qualityControl_HVGselection.ipynb: annotation column changed!\n",
      "03_compute_neighborsUMAP_QCmetrics.ipynb: cellGroup changed!\n",
      "03_compute_neighborsUMAP_QCmetrics.ipynb: annotationDFpath changed!\n",
      "03_compute_neighborsUMAP_QCmetrics.ipynb: annotation column changed!\n",
      "05_annotation.ipynb: cellGroup changed!\n",
      "02_integration_scVI.ipynb: cellGroup changed!\n",
      "06_computeMarkers_specificResolution.ipynb: cellGroup changed!\n",
      "04_clustering.ipynb: cellGroup changed!\n",
      "splitClusters_followingStep.ipynb: cellGroup changed!\n",
      "splitClusters_followingStep.ipynb: annotationDFpath changed!\n",
      "splitClusters_followingStep.ipynb: annotation column changed!\n"
     ]
    }
   ],
   "source": [
    "template_path = here('01_fromDatasets_to_CellLineages/template')\n",
    "template_notebook_list = [str(template_path) + '/' + f for f in os.listdir(template_path) if f.endswith('.ipynb')]\n",
    "\n",
    "annotation_path = clusterAnnotDF_path\n",
    "targetdir = str(here('02_fromCellLineages_to_CellTypes/Step1'))\n",
    "os.makedirs(targetdir)\n",
    "\n",
    "for cellGroup in clusterAnnotDF.cell_lineages.unique():\n",
    "    print(cellGroup)\n",
    "    # Generate the directory tree\n",
    "    os.makedirs(here('{}/{}/results/figures'.format(targetdir, cellGroup)), exist_ok=False)\n",
    "\n",
    "    for template_notebook in template_notebook_list:\n",
    "        generate_split_dir(cellGroup = cellGroup, \n",
    "                           annotationPath = annotation_path, \n",
    "                           targetDir = targetdir, \n",
    "                           annotation_col_name = 'cell_lineages', # Davide changed this line after editing the function. Check if still works\n",
    "                           templateNotebook = template_notebook)"
   ]
  },
  {
   "cell_type": "code",
   "execution_count": 5,
   "metadata": {
    "execution": {
     "iopub.execute_input": "2024-04-28T15:16:47.763623Z",
     "iopub.status.busy": "2024-04-28T15:16:47.763429Z",
     "iopub.status.idle": "2024-04-28T15:16:48.418752Z",
     "shell.execute_reply": "2024-04-28T15:16:48.418341Z",
     "shell.execute_reply.started": "2024-04-28T15:16:47.763605Z"
    }
   },
   "outputs": [
    {
     "data": {
      "text/html": [
       "<details>\n",
       "<summary>Click to view session information</summary>\n",
       "<pre>\n",
       "-----\n",
       "customPythonFunctions       NA\n",
       "numpy                       1.26.4\n",
       "pandas                      2.2.0\n",
       "pyprojroot                  NA\n",
       "session_info                1.0.0\n",
       "-----\n",
       "</pre>\n",
       "<details>\n",
       "<summary>Click to view modules imported as dependencies</summary>\n",
       "<pre>\n",
       "anyio                       NA\n",
       "arrow                       1.3.0\n",
       "asttokens                   NA\n",
       "attr                        23.2.0\n",
       "attrs                       23.2.0\n",
       "babel                       2.14.0\n",
       "brotli                      1.1.0\n",
       "certifi                     2024.02.02\n",
       "charset_normalizer          3.3.2\n",
       "colorama                    0.4.6\n",
       "comm                        0.2.1\n",
       "cython_runtime              NA\n",
       "dateutil                    2.8.2\n",
       "debugpy                     1.8.1\n",
       "decorator                   5.1.1\n",
       "exceptiongroup              1.2.0\n",
       "executing                   2.0.1\n",
       "fastjsonschema              NA\n",
       "fqdn                        NA\n",
       "idna                        3.6\n",
       "ipykernel                   6.29.2\n",
       "isoduration                 NA\n",
       "jedi                        0.19.1\n",
       "jinja2                      3.1.3\n",
       "json5                       NA\n",
       "jsonpointer                 2.4\n",
       "jsonschema                  4.21.1\n",
       "jsonschema_specifications   NA\n",
       "jupyter_events              0.9.0\n",
       "jupyter_server              2.12.5\n",
       "jupyterlab_server           2.25.3\n",
       "markupsafe                  2.1.5\n",
       "nbformat                    5.9.2\n",
       "overrides                   NA\n",
       "packaging                   23.2\n",
       "parso                       0.8.3\n",
       "pickleshare                 0.7.5\n",
       "platformdirs                4.2.0\n",
       "prometheus_client           NA\n",
       "prompt_toolkit              3.0.42\n",
       "psutil                      5.9.8\n",
       "pure_eval                   0.2.2\n",
       "pyarrow                     15.0.0\n",
       "pydev_ipython               NA\n",
       "pydevconsole                NA\n",
       "pydevd                      2.9.5\n",
       "pydevd_file_utils           NA\n",
       "pydevd_plugins              NA\n",
       "pydevd_tracing              NA\n",
       "pygments                    2.17.2\n",
       "pythonjsonlogger            NA\n",
       "pytz                        2024.1\n",
       "referencing                 NA\n",
       "requests                    2.31.0\n",
       "rfc3339_validator           0.1.4\n",
       "rfc3986_validator           0.1.1\n",
       "rpds                        NA\n",
       "send2trash                  NA\n",
       "simplejson                  3.19.2\n",
       "six                         1.16.0\n",
       "sniffio                     1.3.0\n",
       "socks                       1.7.1\n",
       "stack_data                  0.6.2\n",
       "tornado                     6.4\n",
       "traitlets                   5.14.1\n",
       "typing_extensions           NA\n",
       "uri_template                NA\n",
       "urllib3                     2.2.1\n",
       "wcwidth                     0.2.13\n",
       "webcolors                   1.13\n",
       "websocket                   1.7.0\n",
       "yaml                        6.0.1\n",
       "zmq                         25.1.2\n",
       "zoneinfo                    NA\n",
       "zstandard                   0.22.0\n",
       "</pre>\n",
       "</details> <!-- seems like this ends pre, so might as well be explicit -->\n",
       "<pre>\n",
       "-----\n",
       "IPython             8.21.0\n",
       "jupyter_client      8.6.0\n",
       "jupyter_core        5.7.1\n",
       "jupyterlab          4.1.2\n",
       "-----\n",
       "Python 3.10.13 | packaged by conda-forge | (main, Dec 23 2023, 15:36:39) [GCC 12.3.0]\n",
       "Linux-3.10.0-1160.88.1.el7.x86_64-x86_64-with-glibc2.17\n",
       "-----\n",
       "Session information updated at 2024-04-28 17:16\n",
       "</pre>\n",
       "</details>"
      ],
      "text/plain": [
       "<IPython.core.display.HTML object>"
      ]
     },
     "execution_count": 5,
     "metadata": {},
     "output_type": "execute_result"
    }
   ],
   "source": [
    "session_info.show()"
   ]
  }
 ],
 "metadata": {
  "kernelspec": {
   "display_name": "Python 3 (ipykernel)",
   "language": "python",
   "name": "python3"
  },
  "language_info": {
   "codemirror_mode": {
    "name": "ipython",
    "version": 3
   },
   "file_extension": ".py",
   "mimetype": "text/x-python",
   "name": "python",
   "nbconvert_exporter": "python",
   "pygments_lexer": "ipython3",
   "version": "3.10.13"
  },
  "toc": {
   "base_numbering": 1,
   "nav_menu": {},
   "number_sections": true,
   "sideBar": true,
   "skip_h1_title": false,
   "title_cell": "Table of Contents",
   "title_sidebar": "Contents",
   "toc_cell": false,
   "toc_position": {},
   "toc_section_display": true,
   "toc_window_display": false
  }
 },
 "nbformat": 4,
 "nbformat_minor": 4
}
