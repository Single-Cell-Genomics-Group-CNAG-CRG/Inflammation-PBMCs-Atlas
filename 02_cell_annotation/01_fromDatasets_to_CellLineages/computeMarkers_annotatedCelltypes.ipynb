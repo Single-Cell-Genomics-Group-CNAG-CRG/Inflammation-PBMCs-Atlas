{
 "cells": [
  {
   "cell_type": "code",
   "execution_count": 1,
   "id": "73772de2-54a6-4b52-90f3-086cb05e5aff",
   "metadata": {
    "execution": {
     "iopub.execute_input": "2023-08-31T07:28:54.142988Z",
     "iopub.status.busy": "2023-08-31T07:28:54.142653Z",
     "iopub.status.idle": "2023-08-31T07:28:56.444717Z",
     "shell.execute_reply": "2023-08-31T07:28:56.444139Z",
     "shell.execute_reply.started": "2023-08-31T07:28:54.142946Z"
    }
   },
   "outputs": [
    {
     "name": "stdout",
     "output_type": "stream",
     "text": [
      "Main directory path: /scratch_isilon/groups/singlecell/shared/projects/Inflammation-PBMCs-Atlas\n"
     ]
    }
   ],
   "source": [
    "# General modules\n",
    "import sys\n",
    "import os\n",
    "import session_info\n",
    "import warnings\n",
    "from pyprojroot.here import here\n",
    "import glob\n",
    "import pandas as pd\n",
    "import numpy as np\n",
    "import session_info\n",
    "import seaborn as sns\n",
    "import matplotlib.pyplot as plt\n",
    "import scienceplots\n",
    "import pickle\n",
    "\n",
    "# Specific modules\n",
    "import scanpy as sc\n",
    "import anndata as an\n",
    "from matplotlib.backends.backend_pdf import PdfPages\n",
    "\n",
    "\n",
    "# Setting some parameters\n",
    "warnings.filterwarnings(\"ignore\")\n",
    "sys.path.insert(1, str(here('bin')))\n",
    "\n",
    "# Import custom functions\n",
    "from customPythonFunctions import generate_split_dir, composition_barplot\n",
    "\n",
    "print(\"Main directory path: {}\".format(here()))\n",
    "\n",
    "#plt.style.use(['science','nature','no-latex'])\n",
    "dpi_fig_save = 300\n",
    "sc.set_figure_params(dpi=100, dpi_save=dpi_fig_save, vector_friendly=True)"
   ]
  },
  {
   "cell_type": "markdown",
   "id": "5d9263d4-3aa7-4d23-9a3b-67bb3e6562b9",
   "metadata": {},
   "source": [
    "**Setting parameters** "
   ]
  },
  {
   "cell_type": "code",
   "execution_count": 3,
   "id": "becaf7de-9e3a-4678-8ef4-1b55e256f2a6",
   "metadata": {
    "execution": {
     "iopub.execute_input": "2023-08-31T07:29:00.732050Z",
     "iopub.status.busy": "2023-08-31T07:29:00.731681Z",
     "iopub.status.idle": "2023-08-31T07:29:00.734622Z",
     "shell.execute_reply": "2023-08-31T07:29:00.734156Z",
     "shell.execute_reply.started": "2023-08-31T07:29:00.732032Z"
    }
   },
   "outputs": [],
   "source": [
    "overwriteFigures = True\n",
    "overwriteData = True"
   ]
  },
  {
   "cell_type": "code",
   "execution_count": 4,
   "id": "e86c97d1-de28-4037-a3e1-34f730aadbf8",
   "metadata": {
    "execution": {
     "iopub.execute_input": "2023-08-31T07:29:01.781145Z",
     "iopub.status.busy": "2023-08-31T07:29:01.780838Z",
     "iopub.status.idle": "2023-08-31T07:29:01.783625Z",
     "shell.execute_reply": "2023-08-31T07:29:01.783173Z",
     "shell.execute_reply.started": "2023-08-31T07:29:01.781127Z"
    }
   },
   "outputs": [],
   "source": [
    "cellGroup = 'template'\n",
    "celltype_variable = ''\n",
    "workDir = os.getcwd()"
   ]
  },
  {
   "cell_type": "markdown",
   "id": "8e476925-66e4-4d90-89c7-9e93430c156a",
   "metadata": {},
   "source": [
    "**Load data**"
   ]
  },
  {
   "cell_type": "code",
   "execution_count": null,
   "id": "2614c71a-05b3-401c-a6ef-a3df94e56e34",
   "metadata": {},
   "outputs": [],
   "source": [
    "# Load the scvi h5ad file\n",
    "adata = sc.read_h5ad(here(\"{}/results/03_{}_HVGsubset_scVI_UMAP_clinical_allGenes_with_markers.h5ad\".format(workDir, cellGroup)))\n",
    "#adataHVGint = sc.read_h5ad(here('{}/results/01_{}_HVGsubset_scVI.h5ad'.format(workDir, cellGroup)))\n",
    "adata.uns['log1p'] = dict()\n",
    "adata.uns['log1p']['base'] = None # only if logscale is computed\n",
    "adata"
   ]
  },
  {
   "cell_type": "code",
   "execution_count": null,
   "id": "886d2224-0bb4-483d-9db8-eb11cac986b1",
   "metadata": {},
   "outputs": [],
   "source": [
    "with open(here('{}/results/05_{}_clustering_resolutions_to_explore.pkl'.format(workDir, cellGroup)), 'rb') as f:\n",
    "    clusterDF = pickle.load(f)\n",
    "for column_name in clusterDF.columns:\n",
    "    adata.obs[column_name] = clusterDF[column_name]\n",
    "adata"
   ]
  },
  {
   "cell_type": "code",
   "execution_count": null,
   "id": "e9d1a176-3311-45f2-b113-5dbf29c165ce",
   "metadata": {},
   "outputs": [],
   "source": [
    "print(\"Computing markers for the defined celltypes\")\n",
    "# (0) Generate resolution subfolder \n",
    "folder_for_immunologist = here('{}/results/figures/folder_for_immunologist/'.format(workDir))\n",
    "resolution_folder = here('{}/defined_celltypes/'.format(folder_for_immunologist, res))\n",
    "os.makedirs(resolution_folder, exist_ok=True)\n",
    "# (4) Markers: CellGroup markers\n",
    "de_key = \"de_res_{}\".format(celltype_variable)\n",
    "## (4.1) Compute markers\n",
    "sc.tl.rank_genes_groups(adata, \n",
    "                        groupby=celltype_variable, \n",
    "                        layer='log1p_10e4_counts', \n",
    "                        method='wilcoxon', \n",
    "                        key_added=de_key, \n",
    "                        use_raw = False)\n",
    "## (4.2) Save markers\n",
    "rank_genesDF = sc.get.rank_genes_groups_df(adata, group=None, key = de_key)\n",
    "rank_genesDF.to_csv(here('{}/04_1_{}_marker_genes_{}.csv'.format(resolution_folder, cellGroup, celltype_variable)))\n",
    "rank_genes_excel_path = here('{}/04_1_{}_marker_genes_{}.xlsx'.format(resolution_folder, cellGroup, celltype_variable))\n",
    "unique_groups = rank_genesDF[\"group\"].unique()\n",
    "with pd.ExcelWriter(rank_genes_excel_path, engine=\"openpyxl\") as writer:\n",
    "    for group in unique_groups:\n",
    "        group_rank_genesDF = rank_genesDF[rank_genesDF[\"group\"] == group]\n",
    "        group_rank_genesDF = group_rank_genesDF[group_rank_genesDF[\"logfoldchanges\"] > 0.2]\n",
    "        group_rank_genesDF.to_excel(writer, sheet_name=group, index=False)"
   ]
  },
  {
   "cell_type": "code",
   "execution_count": null,
   "id": "e0308e9f-dd66-43b4-b3a2-1358db9da092",
   "metadata": {},
   "outputs": [],
   "source": [
    "adata"
   ]
  },
  {
   "cell_type": "code",
   "execution_count": null,
   "id": "5c6cbc6b-7b16-4038-b1ac-3fcc97d98c64",
   "metadata": {},
   "outputs": [],
   "source": [
    "adata.write(here(\"{}/results/03_{}_HVGsubset_scVI_UMAP_clinical_allGenes_with_markers.h5ad\".format(workDir, cellGroup)), compression=\"gzip\")"
   ]
  }
 ],
 "metadata": {
  "kernelspec": {
   "display_name": "Python 3 (ipykernel)",
   "language": "python",
   "name": "python3"
  },
  "language_info": {
   "codemirror_mode": {
    "name": "ipython",
    "version": 3
   },
   "file_extension": ".py",
   "mimetype": "text/x-python",
   "name": "python",
   "nbconvert_exporter": "python",
   "pygments_lexer": "ipython3",
   "version": "3.10.13"
  }
 },
 "nbformat": 4,
 "nbformat_minor": 5
}
