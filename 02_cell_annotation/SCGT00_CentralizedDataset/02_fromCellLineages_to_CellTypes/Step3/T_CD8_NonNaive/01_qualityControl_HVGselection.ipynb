{
 "cells": [
  {
   "cell_type": "code",
   "execution_count": null,
   "id": "b00b8e3d-0639-43a8-b4cd-92196f7504ac",
   "metadata": {},
   "outputs": [],
   "source": [
    "import sys\n",
    "import os\n",
    "\n",
    "import numpy as np\n",
    "import matplotlib.pyplot as plt\n",
    "import glob\n",
    "import pandas as pd\n",
    "import seaborn as sns\n",
    "\n",
    "import scanpy as sc\n",
    "import anndata as ad\n",
    "\n",
    "import session_info\n",
    "import warnings\n",
    "from pyprojroot.here import here\n",
    "\n",
    "from IPython.display import display\n",
    "import scienceplots\n",
    "\n",
    "warnings.filterwarnings(\"ignore\")\n",
    "sys.path.insert(1, str(here('bin')))\n",
    "\n",
    "# Import functions\n",
    "from customPythonFunctions import qc_gex_projectlibrary, get_HVG\n",
    "\n",
    "plt.style.use(['nature'])\n",
    "dpi_fig_save = 300\n",
    "sc.set_figure_params(dpi=100, dpi_save=dpi_fig_save, vector_friendly=True)\n",
    "\n",
    "pd.options.display.max_columns=300\n",
    "pd.options.display.max_rows = 1000"
   ]
  },
  {
   "cell_type": "markdown",
   "id": "6f820470-d728-4189-92fc-946d08deecc6",
   "metadata": {},
   "source": [
    "### Setting parameters"
   ]
  },
  {
   "cell_type": "code",
   "execution_count": null,
   "id": "a9dfb808-8773-4cc4-baad-80958d0cd686",
   "metadata": {},
   "outputs": [],
   "source": [
    "overwriteFigures = True\n",
    "overwriteData = True"
   ]
  },
  {
   "cell_type": "code",
   "execution_count": null,
   "id": "7196b15b-6561-4c30-a051-2105ecb61f36",
   "metadata": {},
   "outputs": [],
   "source": [
    "cellGroup = 'T_CD8_NonNaive'\n",
    "annotationDFpath = '/scratch_isilon/groups/singlecell/shared/projects/Inflammation-PBMCs-Atlas/02_cell_annotation/SCGT00_CentralizedDataset/02_fromCellLineages_to_CellTypes/Step2/Step2_clusterAnnotDF.pkl'\n",
    "annotationColumns = 'annotation_step_2'\n",
    "annColToInclude = None"
   ]
  },
  {
   "cell_type": "code",
   "execution_count": null,
   "id": "df77b4a4-0077-41f5-9886-60101881a5e5",
   "metadata": {},
   "outputs": [],
   "source": [
    "workDir = os.getcwd()"
   ]
  },
  {
   "cell_type": "markdown",
   "id": "807e081d-5a4d-4231-a945-0f6417b881ea",
   "metadata": {},
   "source": [
    "# Preparing dataset"
   ]
  },
  {
   "cell_type": "code",
   "execution_count": null,
   "id": "0488d65b-d5d5-4f42-a771-d09dcdb5115b",
   "metadata": {},
   "outputs": [],
   "source": [
    "adataAll = ad.read_h5ad(here(\"01_data_processing/SCGT00_CentralizedDataset/results/2_SCGT00_MAIN_normalized.h5ad\"))\n",
    "adataAll"
   ]
  },
  {
   "cell_type": "markdown",
   "id": "af0615d3-e9b5-47a3-84fe-f2ca29d0aa6e",
   "metadata": {
    "execution": {
     "iopub.execute_input": "2023-08-22T15:24:24.715075Z",
     "iopub.status.busy": "2023-08-22T15:24:24.714675Z",
     "iopub.status.idle": "2023-08-22T15:24:24.717331Z",
     "shell.execute_reply": "2023-08-22T15:24:24.716976Z",
     "shell.execute_reply.started": "2023-08-22T15:24:24.715056Z"
    }
   },
   "source": [
    "### Subsetting dataset"
   ]
  },
  {
   "cell_type": "code",
   "execution_count": null,
   "id": "b5d21546-1dbf-42ef-a668-8d8f97177e14",
   "metadata": {},
   "outputs": [],
   "source": [
    "# Load the corresponding annotation\n",
    "annotationDF = pd.read_pickle(here(annotationDFpath))\n",
    "idxSelCells = annotationDF.index[annotationDF[annotationColumns] == cellGroup].tolist()\n",
    "adata = adataAll[idxSelCells,:]\n",
    "adata"
   ]
  },
  {
   "cell_type": "code",
   "execution_count": null,
   "id": "01ed0ef0-ef67-492b-aafb-aa329534903d",
   "metadata": {},
   "outputs": [],
   "source": [
    "adata.obs"
   ]
  },
  {
   "cell_type": "code",
   "execution_count": null,
   "id": "8f4d5bdb-d4ee-4e81-82b0-a38ca55142fb",
   "metadata": {},
   "outputs": [],
   "source": [
    "# Free some memory\n",
    "del adataAll"
   ]
  },
  {
   "cell_type": "markdown",
   "id": "e185b522-83ed-4009-aff2-89c8c09b494b",
   "metadata": {},
   "source": [
    "### (Optional) Including annotation column"
   ]
  },
  {
   "cell_type": "code",
   "execution_count": null,
   "id": "56a72bff-dc6c-4380-80be-19bd2ba43113",
   "metadata": {},
   "outputs": [],
   "source": [
    "if annColToInclude is not None:\n",
    "    adata.obs = adata.obs.merge(annotationDF[[annColToInclude]], left_index=True, right_index=True, how='left')\n",
    "    adata.obs[annColToInclude].unique()"
   ]
  },
  {
   "cell_type": "markdown",
   "id": "06def5d7-09e0-42c6-a9a7-c09a0b2b8a8d",
   "metadata": {},
   "source": [
    "# Plotting Quality Control metrics\n",
    "\n",
    "## Library quality control at CELL level"
   ]
  },
  {
   "cell_type": "code",
   "execution_count": null,
   "id": "da072853-c439-491a-a75f-1f98d9f6f942",
   "metadata": {},
   "outputs": [],
   "source": [
    "fig = sc.pl.violin(adata, \n",
    "                   [\n",
    "                       'total_counts', \n",
    "                       'n_genes_by_counts', \n",
    "                       'pct_counts_mt',\n",
    "                       'pct_counts_ribo',\n",
    "                       'pct_counts_hb',\n",
    "                       'pct_counts_plt'\n",
    "                   ], \n",
    "                   groupby=\"disease\",\n",
    "                   stripplot=False, rotation=90, show=False)\n",
    "\n",
    "if overwriteFigures:\n",
    "    plt.savefig(here(workDir + '/results/figures/01_QC_totalCount_by_chemistry.pdf'), bbox_inches='tight', pad_inches=0, dpi=dpi_fig_save)"
   ]
  },
  {
   "cell_type": "code",
   "execution_count": null,
   "id": "dff9afa8-ef9d-4516-b581-c22a84daa99f",
   "metadata": {},
   "outputs": [],
   "source": [
    "# save the HUGO status information \n",
    "varDF = adata.var[['HUGO_status']]"
   ]
  },
  {
   "cell_type": "markdown",
   "id": "6d7d79c0-a004-402d-b1e6-3591016dbb10",
   "metadata": {},
   "source": [
    "**General QC statistics**"
   ]
  },
  {
   "cell_type": "code",
   "execution_count": null,
   "id": "38c85120-1013-431c-81fb-d68cd3bd58d5",
   "metadata": {
    "scrolled": true
   },
   "outputs": [],
   "source": [
    "pd.set_option('display.max_rows', None)\n",
    "qc_gex_df = qc_gex_projectlibrary(adata)\n",
    "display(qc_gex_df)\n",
    "\n",
    "pd.reset_option('display.max_rows')"
   ]
  },
  {
   "cell_type": "code",
   "execution_count": null,
   "id": "41f3e5a0-91c5-45f5-aff1-d4105805765b",
   "metadata": {},
   "outputs": [],
   "source": [
    "# Now, the whole dataset\n",
    "fig = sc.pl.scatter(adata, \"total_counts\", \"n_genes_by_counts\", color=\"pct_counts_mt\",\n",
    "                   show=False)\n",
    "\n",
    "if overwriteFigures:\n",
    "    plt.savefig(here(workDir + '/results/figures/01_QC_joinmetrics_allDatasets.pdf'), bbox_inches='tight', pad_inches=0, dpi=dpi_fig_save)"
   ]
  },
  {
   "cell_type": "markdown",
   "id": "d97f9016-3c03-40e4-ba95-8a3558ae9327",
   "metadata": {},
   "source": [
    "# HVG selection"
   ]
  },
  {
   "cell_type": "markdown",
   "id": "7641593f-3007-4dd7-aac8-8fef316157a0",
   "metadata": {},
   "source": [
    "**Excluding specific genes from HVG selection**\n",
    "\n",
    "We have reasoned that T- and B- cell receptors genes, including VDJ joining and variable regions, are not useful to describe cell identities but rather to capture (generally) patient specific cell populations that are suffering clonal expansion within a specific pathological / inflammatory condition. Thus, we decided to exclude TCR and BCR genes as well as genes related with the Major Histocompatibility Complex (MHC) from the list of HVG selection that we will use to perform data integration. Additionally, we also decided to drop genes related to the mitochondrial and ribosomal organules since these might be largely biased due to different technical effects.\n",
    "\n",
    "Although we are not really interested in studying neither to genes exclusive from to Red Blood Cells (such as hemoglobin) or Platelets (such as PPBP), we will keep them in order to be able to identify specific cell subsets we are not interested in (RBC or Platelets) and to better delineate the inflammation cell identity profile, such as these ones being very transcriptionally active. Then, once RBC and Platelets removed from our dataset, we will also exclude them."
   ]
  },
  {
   "cell_type": "code",
   "execution_count": null,
   "id": "8c233a80-f6b2-4402-9c3e-68fbd5f7ae7c",
   "metadata": {},
   "outputs": [],
   "source": [
    "# Retrieve MT and RB genes present in the dataset\n",
    "MT_gene_idx = adata.var[\"symbol\"].str.startswith(\"MT-\")\n",
    "print(f\"{np.sum(MT_gene_idx)} mitochondrial genes\")\n",
    "\n",
    "RB_gene_idx = adata.var[\"symbol\"].str.startswith((\"RPS\", \"RPL\"))\n",
    "print(f\"{np.sum(RB_gene_idx)} ribosomal genes\")\n",
    "\n",
    "# Retrieve TCR and BCR present in the dataset\n",
    "TCR_gene_idx = adata.var[\"symbol\"].str.contains(\"^TRA(J|V)|^TRB(J|V|D)\")\n",
    "print(f\"{np.sum(TCR_gene_idx)} TCR genes\")\n",
    "\n",
    "BCR_gene_idx = adata.var[\"symbol\"].str.contains(\"^IGH(J|V)\")\n",
    "print(f\"{np.sum(BCR_gene_idx)} BCR genes\")\n",
    "\n",
    "MHC_gene_idx = adata.var[\"symbol\"].str.contains(\"^HLA-\")\n",
    "print(f\"{np.sum(MHC_gene_idx)} MHC genes\")\n",
    "\n",
    "# ### TO MODIFY & RUN when RBC and Platelets will be filtered out\n",
    "HB_gene_idx = adata.var[\"symbol\"].str.contains(\"^HB[^(P)]\")\n",
    "print(f\"{np.sum(HB_gene_idx)} HB genes\")\n",
    "\n",
    "PLT_gene_idx = adata.var[\"symbol\"].isin([\"PPBP\", \"PDGF\", \"ANG1\", \"LAPTM4B\", \"WASF3\", \"TPM3\", \"PF4\", \"TAC1\"])\n",
    "print(f\"{np.sum(PLT_gene_idx)} PLT genes\")\n",
    "\n",
    "exclude_gene_idx = (MT_gene_idx | RB_gene_idx | TCR_gene_idx | BCR_gene_idx | MHC_gene_idx )# | HB_gene_idx | PLT_gene_idx )\n",
    "\n",
    "adata_forHVG = adata[:, ~exclude_gene_idx]\n",
    "adata_forHVG"
   ]
  },
  {
   "cell_type": "code",
   "execution_count": null,
   "id": "a32bf29c-2ed7-4466-89f5-ee6cb2cd99cb",
   "metadata": {},
   "outputs": [],
   "source": [
    "try:\n",
    "    sc.pp.highly_variable_genes(adata_forHVG, \n",
    "                                layer='log1p_10e4_counts', \n",
    "                                batch_key='libraryID', \n",
    "                                n_top_genes=None, \n",
    "                                min_disp=0.4, \n",
    "                                min_mean=0.015, \n",
    "                                max_mean=4, \n",
    "                                span=0.3, \n",
    "                                n_bins=20, \n",
    "                                flavor='seurat', \n",
    "                                inplace=True, \n",
    "                                check_values=True)\n",
    "\n",
    "except Exception as e:\n",
    "    print(f\"An error occurred: {e}\")\n",
    "    print(\"Executing without library correction...\")\n",
    "    sc.pp.highly_variable_genes(adata_forHVG, \n",
    "                                layer='log1p_10e4_counts', \n",
    "                                batch_key=None, \n",
    "                                n_top_genes=None, \n",
    "                                min_disp=0.4, \n",
    "                                min_mean=0.015, \n",
    "                                max_mean=4, \n",
    "                                span=0.3, \n",
    "                                n_bins=20, \n",
    "                                flavor='seurat', \n",
    "                                inplace=True, \n",
    "                                check_values=True)\n",
    "\n",
    "adata_forHVG.var.highly_variable.sum()"
   ]
  },
  {
   "cell_type": "code",
   "execution_count": null,
   "id": "6a1f75e7-0d65-4a91-a952-528441978a85",
   "metadata": {
    "papermill": {
     "duration": 0.034359,
     "end_time": "2024-04-26T21:32:32.517859",
     "exception": false,
     "start_time": "2024-04-26T21:32:32.483500",
     "status": "completed"
    },
    "tags": []
   },
   "outputs": [],
   "source": [
    "print(f'The total number of selected HVG is {adata_forHVG.var.highly_variable.sum()}')"
   ]
  },
  {
   "cell_type": "code",
   "execution_count": null,
   "id": "93acf48a-8b88-4dd0-a973-51e833f8c389",
   "metadata": {
    "papermill": {
     "duration": 2.231899,
     "end_time": "2024-04-26T21:32:34.907261",
     "exception": false,
     "start_time": "2024-04-26T21:32:32.675362",
     "status": "completed"
    },
    "tags": []
   },
   "outputs": [],
   "source": [
    "adata_HVG = adata_forHVG[:, adata_forHVG.var.highly_variable]\n",
    "adata_HVG"
   ]
  },
  {
   "cell_type": "markdown",
   "id": "7fdff658-33e1-42f1-a8a5-6e75da007a13",
   "metadata": {},
   "source": [
    "# Saving objects"
   ]
  },
  {
   "cell_type": "code",
   "execution_count": null,
   "id": "a50d782a-7b5f-4e4a-8841-384b393fa8cf",
   "metadata": {},
   "outputs": [],
   "source": [
    "# Save Anndata object (.h5ad file) \n",
    "if overwriteData:\n",
    "    adata.write(here('{}/results/01_{}_normalized.h5ad'.format(workDir, cellGroup)), compression=\"gzip\")"
   ]
  },
  {
   "cell_type": "code",
   "execution_count": null,
   "id": "14e8aed0-f5a9-4d1a-b603-a9afcf2e9129",
   "metadata": {},
   "outputs": [],
   "source": [
    "# Save Anndata object (.h5ad file) \n",
    "if overwriteData:\n",
    "    adata_HVG.write(here('{}/results/01_{}_normalized_HVGsubset.h5ad'.format(workDir, cellGroup)), compression=\"gzip\")"
   ]
  },
  {
   "cell_type": "code",
   "execution_count": null,
   "id": "054389b9-5614-4ea0-bbbd-3f32b783888e",
   "metadata": {},
   "outputs": [],
   "source": [
    "session_info.show()"
   ]
  }
 ],
 "metadata": {
  "kernelspec": {
   "display_name": "Python 3 (ipykernel)",
   "language": "python",
   "name": "python3"
  },
  "language_info": {
   "codemirror_mode": {
    "name": "ipython",
    "version": 3
   },
   "file_extension": ".py",
   "mimetype": "text/x-python",
   "name": "python",
   "nbconvert_exporter": "python",
   "pygments_lexer": "ipython3",
   "version": "3.10.13"
  }
 },
 "nbformat": 4,
 "nbformat_minor": 5
}
