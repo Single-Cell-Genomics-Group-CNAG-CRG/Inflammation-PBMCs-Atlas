{
 "cells": [
  {
   "cell_type": "code",
   "execution_count": 1,
   "id": "2dd1425a-0c07-465e-b522-9e3cc5cb93a7",
   "metadata": {
    "execution": {
     "iopub.execute_input": "2024-10-21T15:05:39.295580Z",
     "iopub.status.busy": "2024-10-21T15:05:39.294458Z",
     "iopub.status.idle": "2024-10-21T15:05:42.862508Z",
     "shell.execute_reply": "2024-10-21T15:05:42.861141Z"
    },
    "papermill": {
     "duration": 3.589514,
     "end_time": "2024-10-21T15:05:42.864104",
     "exception": false,
     "start_time": "2024-10-21T15:05:39.274590",
     "status": "completed"
    },
    "tags": []
   },
   "outputs": [
    {
     "name": "stderr",
     "output_type": "stream",
     "text": [
      "/home/dmaspero/miniconda3/envs/scarches/lib/python3.9/site-packages/tqdm/auto.py:21: TqdmWarning: IProgress not found. Please update jupyter and ipywidgets. See https://ipywidgets.readthedocs.io/en/stable/user_install.html\n",
      "  from .autonotebook import tqdm as notebook_tqdm\n"
     ]
    },
    {
     "data": {
      "text/plain": [
       "True"
      ]
     },
     "execution_count": 1,
     "metadata": {},
     "output_type": "execute_result"
    }
   ],
   "source": [
    "import os\n",
    "import sys\n",
    "\n",
    "import numpy as np\n",
    "import matplotlib.pyplot as plt\n",
    "\n",
    "import scanpy as sc\n",
    "import scvi\n",
    "import torch\n",
    "\n",
    "from pytorch_lightning.loggers import WandbLogger\n",
    "import wandb\n",
    "from dotenv import load_dotenv\n",
    "\n",
    "import session_info\n",
    "import warnings\n",
    "from pyprojroot.here import here\n",
    "\n",
    "warnings.filterwarnings(\"ignore\")\n",
    "sys.path.insert(1, str(here('bin')))\n",
    "\n",
    "torch.set_float32_matmul_precision('high')\n",
    "\n",
    "#plt.style.use(['science','nature','no-latex'])\n",
    "dpi_fig_save = 300\n",
    "sc.set_figure_params(dpi=100, dpi_save=dpi_fig_save, vector_friendly=True)\n",
    "\n",
    "load_dotenv(here('.env'))"
   ]
  },
  {
   "cell_type": "code",
   "execution_count": 2,
   "id": "09c897fc-744b-43de-a681-718fb5d327fa",
   "metadata": {
    "execution": {
     "iopub.execute_input": "2024-10-21T15:05:42.880568Z",
     "iopub.status.busy": "2024-10-21T15:05:42.879151Z",
     "iopub.status.idle": "2024-10-21T15:05:42.885362Z",
     "shell.execute_reply": "2024-10-21T15:05:42.884527Z"
    },
    "papermill": {
     "duration": 0.017767,
     "end_time": "2024-10-21T15:05:42.888260",
     "exception": false,
     "start_time": "2024-10-21T15:05:42.870493",
     "status": "completed"
    },
    "tags": []
   },
   "outputs": [],
   "source": [
    "class CustomWandbLogger(WandbLogger):\n",
    "    @property\n",
    "    def save_dir(self):\n",
    "        return self.experiment.dir"
   ]
  },
  {
   "cell_type": "code",
   "execution_count": 3,
   "id": "8ee6662f-5d45-4137-80a5-bb0b9ae8d71f",
   "metadata": {
    "execution": {
     "iopub.execute_input": "2024-10-21T15:05:42.914160Z",
     "iopub.status.busy": "2024-10-21T15:05:42.913674Z",
     "iopub.status.idle": "2024-10-21T15:05:42.924723Z",
     "shell.execute_reply": "2024-10-21T15:05:42.923444Z"
    },
    "papermill": {
     "duration": 0.027747,
     "end_time": "2024-10-21T15:05:42.927846",
     "exception": false,
     "start_time": "2024-10-21T15:05:42.900099",
     "status": "completed"
    },
    "tags": []
   },
   "outputs": [
    {
     "name": "stderr",
     "output_type": "stream",
     "text": [
      "Seed set to 0\n"
     ]
    },
    {
     "name": "stdout",
     "output_type": "stream",
     "text": [
      "Last run with scvi-tools version: 1.1.2\n"
     ]
    }
   ],
   "source": [
    "scvi.settings.seed = 0\n",
    "print(\"Last run with scvi-tools version:\", scvi.__version__)"
   ]
  },
  {
   "cell_type": "markdown",
   "id": "a81037ff-5998-482a-ba86-520f757311a9",
   "metadata": {
    "papermill": {
     "duration": 0.01143,
     "end_time": "2024-10-21T15:05:42.951752",
     "exception": false,
     "start_time": "2024-10-21T15:05:42.940322",
     "status": "completed"
    },
    "tags": []
   },
   "source": [
    "**Setting parameters** "
   ]
  },
  {
   "cell_type": "code",
   "execution_count": 4,
   "id": "56c27966-8f10-4c93-8b1a-1fa75f005e41",
   "metadata": {
    "execution": {
     "iopub.execute_input": "2024-10-21T15:05:42.975866Z",
     "iopub.status.busy": "2024-10-21T15:05:42.975364Z",
     "iopub.status.idle": "2024-10-21T15:05:42.980505Z",
     "shell.execute_reply": "2024-10-21T15:05:42.979493Z"
    },
    "papermill": {
     "duration": 0.020635,
     "end_time": "2024-10-21T15:05:42.983503",
     "exception": false,
     "start_time": "2024-10-21T15:05:42.962868",
     "status": "completed"
    },
    "tags": []
   },
   "outputs": [],
   "source": [
    "overwriteFigures = True\n",
    "overwriteData = True"
   ]
  },
  {
   "cell_type": "code",
   "execution_count": 5,
   "id": "c86fccd3-a4fe-415b-8f4e-e2ceb3ec128a",
   "metadata": {
    "execution": {
     "iopub.execute_input": "2024-10-21T15:05:43.009738Z",
     "iopub.status.busy": "2024-10-21T15:05:43.009239Z",
     "iopub.status.idle": "2024-10-21T15:05:43.014707Z",
     "shell.execute_reply": "2024-10-21T15:05:43.013646Z"
    },
    "papermill": {
     "duration": 0.022082,
     "end_time": "2024-10-21T15:05:43.017983",
     "exception": false,
     "start_time": "2024-10-21T15:05:42.995901",
     "status": "completed"
    },
    "tags": []
   },
   "outputs": [],
   "source": [
    "cellGroup = 'T_CD8_NonNaive'\n",
    "workDir = os.getcwd()"
   ]
  },
  {
   "cell_type": "code",
   "execution_count": 6,
   "id": "2dee4d55-d168-467b-b867-a61fed9d6af1",
   "metadata": {
    "execution": {
     "iopub.execute_input": "2024-10-21T15:05:43.042139Z",
     "iopub.status.busy": "2024-10-21T15:05:43.041646Z",
     "iopub.status.idle": "2024-10-21T15:05:43.047730Z",
     "shell.execute_reply": "2024-10-21T15:05:43.046578Z"
    },
    "papermill": {
     "duration": 0.020775,
     "end_time": "2024-10-21T15:05:43.050886",
     "exception": false,
     "start_time": "2024-10-21T15:05:43.030111",
     "status": "completed"
    },
    "tags": []
   },
   "outputs": [],
   "source": [
    "annotationLevel = os.path.basename(os.path.normpath(workDir))"
   ]
  },
  {
   "cell_type": "code",
   "execution_count": 7,
   "id": "11e53cd5-b746-4152-89cb-c2f0c15d90b3",
   "metadata": {
    "execution": {
     "iopub.execute_input": "2024-10-21T15:05:43.083917Z",
     "iopub.status.busy": "2024-10-21T15:05:43.083412Z",
     "iopub.status.idle": "2024-10-21T15:05:43.091019Z",
     "shell.execute_reply": "2024-10-21T15:05:43.089931Z"
    },
    "papermill": {
     "duration": 0.032423,
     "end_time": "2024-10-21T15:05:43.094373",
     "exception": false,
     "start_time": "2024-10-21T15:05:43.061950",
     "status": "completed"
    },
    "tags": []
   },
   "outputs": [
    {
     "data": {
      "text/plain": [
       "'/scratch_isilon/groups/singlecell/shared/projects/Inflammation-PBMCs-Atlas/02_cell_annotation/SCGT00_CentralizedDataset/02_fromCellLineages_to_CellTypes/Step3'"
      ]
     },
     "execution_count": 7,
     "metadata": {},
     "output_type": "execute_result"
    }
   ],
   "source": [
    "workDir"
   ]
  },
  {
   "cell_type": "markdown",
   "id": "171d2f06-9a44-4fcb-b437-35dc546674b6",
   "metadata": {
    "papermill": {
     "duration": 0.011626,
     "end_time": "2024-10-21T15:05:43.117782",
     "exception": false,
     "start_time": "2024-10-21T15:05:43.106156",
     "status": "completed"
    },
    "tags": []
   },
   "source": [
    "**Load data**"
   ]
  },
  {
   "cell_type": "code",
   "execution_count": 8,
   "id": "429f34fe-dde6-4cc9-9f75-7de8f85c5ffe",
   "metadata": {
    "execution": {
     "iopub.execute_input": "2024-10-21T15:05:43.140345Z",
     "iopub.status.busy": "2024-10-21T15:05:43.139827Z",
     "iopub.status.idle": "2024-10-21T15:05:48.036113Z",
     "shell.execute_reply": "2024-10-21T15:05:48.035008Z"
    },
    "papermill": {
     "duration": 4.910914,
     "end_time": "2024-10-21T15:05:48.039465",
     "exception": false,
     "start_time": "2024-10-21T15:05:43.128551",
     "status": "completed"
    },
    "tags": []
   },
   "outputs": [
    {
     "data": {
      "text/plain": [
       "AnnData object with n_obs × n_vars = 130019 × 3401\n",
       "    obs: 'studyID', 'libraryID', 'sampleID', 'chemistry', 'technology', 'patientID', 'disease', 'timepoint_replicate', 'treatmentStatus', 'therapyResponse', 'sex', 'age', 'BMI', 'binned_age', 'diseaseStatus', 'smokingStatus', 'ethnicity', 'institute', 'diseaseGroup', 'batches', 'n_genes_by_counts', 'log1p_n_genes_by_counts', 'total_counts', 'log1p_total_counts', 'pct_counts_in_top_20_genes', 'total_counts_mt', 'log1p_total_counts_mt', 'pct_counts_mt', 'total_counts_ribo', 'log1p_total_counts_ribo', 'pct_counts_ribo', 'total_counts_hb', 'log1p_total_counts_hb', 'pct_counts_hb', 'total_counts_plt', 'log1p_total_counts_plt', 'pct_counts_plt', 'S_score', 'G2M_score', 'phase'\n",
       "    var: 'hgnc_id', 'symbol', 'locus_group', 'HUGO_status', 'mt', 'ribo', 'hb', 'plt', 'n_cells_by_counts', 'mean_counts', 'log1p_mean_counts', 'pct_dropout_by_counts', 'total_counts', 'log1p_total_counts', 'highly_variable', 'means', 'dispersions', 'dispersions_norm', 'highly_variable_nbatches', 'highly_variable_intersection'\n",
       "    uns: 'disease_colors', 'hvg', 'log1p'\n",
       "    layers: 'counts', 'log1p_10e4_counts'"
      ]
     },
     "execution_count": 8,
     "metadata": {},
     "output_type": "execute_result"
    }
   ],
   "source": [
    "adata = sc.read_h5ad(here(f\"{workDir}/{cellGroup}/results/01_{cellGroup}_normalized_HVGsubset.h5ad\"))\n",
    "adata"
   ]
  },
  {
   "cell_type": "markdown",
   "id": "8ac79f3b-d5af-41fa-8904-1e9ac1cbe2fb",
   "metadata": {
    "papermill": {
     "duration": 0.054116,
     "end_time": "2024-10-21T15:05:48.107126",
     "exception": false,
     "start_time": "2024-10-21T15:05:48.053010",
     "status": "completed"
    },
    "tags": []
   },
   "source": [
    "## scVI integration"
   ]
  },
  {
   "cell_type": "markdown",
   "id": "9544847d-d17f-4811-b14b-760446d54d32",
   "metadata": {
    "execution": {
     "iopub.execute_input": "2024-03-25T16:49:04.004504Z",
     "iopub.status.busy": "2024-03-25T16:49:04.004143Z",
     "iopub.status.idle": "2024-03-25T16:49:04.010148Z",
     "shell.execute_reply": "2024-03-25T16:49:04.009146Z",
     "shell.execute_reply.started": "2024-03-25T16:49:04.004477Z"
    },
    "papermill": {
     "duration": 0.012881,
     "end_time": "2024-10-21T15:05:48.136177",
     "exception": false,
     "start_time": "2024-10-21T15:05:48.123296",
     "status": "completed"
    },
    "tags": []
   },
   "source": [
    "**scVI parameters**"
   ]
  },
  {
   "cell_type": "code",
   "execution_count": 9,
   "id": "208966eb-545a-4c02-854c-0ed0487ef5b3",
   "metadata": {
    "execution": {
     "iopub.execute_input": "2024-10-21T15:05:48.171910Z",
     "iopub.status.busy": "2024-10-21T15:05:48.171155Z",
     "iopub.status.idle": "2024-10-21T15:05:48.181875Z",
     "shell.execute_reply": "2024-10-21T15:05:48.180562Z"
    },
    "papermill": {
     "duration": 0.029645,
     "end_time": "2024-10-21T15:05:48.185073",
     "exception": false,
     "start_time": "2024-10-21T15:05:48.155428",
     "status": "completed"
    },
    "tags": []
   },
   "outputs": [],
   "source": [
    "# https://docs.scvi-tools.org/en/stable/api/reference/scvi.train.Trainer.html#scvi.train.Trainer\n",
    "setup_kwargs = dict(\n",
    "    layer=\"counts\", \n",
    "    batch_key='libraryID', \n",
    "    categorical_covariate_keys = ['disease', 'sampleID'],\n",
    ")\n",
    "\n",
    "scvi_kwargs = dict(n_hidden=512,\n",
    "                   n_latent=10, # reduced to 20 after step 00 (main) and to 10 after step 03\n",
    "                   n_layers=2,\n",
    "                   gene_likelihood='nb')\n",
    "\n",
    "trainer_kwargs = dict(\n",
    "    checkpointing_monitor = 'elbo_validation',\n",
    "    early_stopping_monitor = 'reconstruction_loss_validation',\n",
    "    early_stopping_patience = 10,\n",
    "    early_stopping_min_delta=0.1,\n",
    "    early_stopping = True,\n",
    "    max_epochs = 1000,\n",
    "\n",
    "    #logger = # wandb\n",
    ")\n",
    "# https://docs.scvi-tools.org/en/stable/api/reference/scvi.train.TrainingPlan.html#scvi.train.TrainingPlan\n",
    "plan_kwargs = dict(\n",
    "    lr = 5e-4,\n",
    "    #reduce_lr_on_plateau = True\n",
    ")\n",
    "\n",
    "# https://docs.scvi-tools.org/en/stable/api/reference/scvi.module.VAE.html#scvi.module.VAE\n",
    "#vae = dict(\n",
    "#    use_layer_norm='both',\n",
    "#    use_batch_norm='none',\n",
    "#    encode_covariates=True,\n",
    "#    deeply_inject_covariates=False\n",
    "#)\n",
    "parameter_dict = setup_kwargs | scvi_kwargs | trainer_kwargs | plan_kwargs"
   ]
  },
  {
   "cell_type": "markdown",
   "id": "1362366a-c16b-4c11-964b-b9c5f82f7b29",
   "metadata": {
    "papermill": {
     "duration": 0.012223,
     "end_time": "2024-10-21T15:05:48.215003",
     "exception": false,
     "start_time": "2024-10-21T15:05:48.202780",
     "status": "completed"
    },
    "tags": []
   },
   "source": [
    "**wandb parameter**"
   ]
  },
  {
   "cell_type": "code",
   "execution_count": 10,
   "id": "0496e33a-8ca5-423f-b42f-34a59760708c",
   "metadata": {
    "execution": {
     "iopub.execute_input": "2024-10-21T15:05:48.241360Z",
     "iopub.status.busy": "2024-10-21T15:05:48.240825Z",
     "iopub.status.idle": "2024-10-21T15:05:48.249120Z",
     "shell.execute_reply": "2024-10-21T15:05:48.248011Z"
    },
    "papermill": {
     "duration": 0.024633,
     "end_time": "2024-10-21T15:05:48.252179",
     "exception": false,
     "start_time": "2024-10-21T15:05:48.227546",
     "status": "completed"
    },
    "tags": []
   },
   "outputs": [
    {
     "data": {
      "text/plain": [
       "'Step3_T_CD8_NonNaive'"
      ]
     },
     "execution_count": 10,
     "metadata": {},
     "output_type": "execute_result"
    }
   ],
   "source": [
    "run_name = f\"{annotationLevel}_{cellGroup}\"\n",
    "run_name"
   ]
  },
  {
   "cell_type": "code",
   "execution_count": 11,
   "id": "b0021327-95a2-4002-bf32-2c5779a99505",
   "metadata": {
    "execution": {
     "iopub.execute_input": "2024-10-21T15:05:48.288305Z",
     "iopub.status.busy": "2024-10-21T15:05:48.287794Z",
     "iopub.status.idle": "2024-10-21T15:05:48.338652Z",
     "shell.execute_reply": "2024-10-21T15:05:48.337529Z"
    },
    "papermill": {
     "duration": 0.077091,
     "end_time": "2024-10-21T15:05:48.341631",
     "exception": false,
     "start_time": "2024-10-21T15:05:48.264540",
     "status": "completed"
    },
    "tags": []
   },
   "outputs": [],
   "source": [
    "logger = CustomWandbLogger(name = run_name, project='inflammation_atlas_R1', config=parameter_dict)"
   ]
  },
  {
   "cell_type": "markdown",
   "id": "c237eee1-a976-4915-9b7f-b014bf33f47d",
   "metadata": {
    "papermill": {
     "duration": 0.010135,
     "end_time": "2024-10-21T15:05:48.365699",
     "exception": false,
     "start_time": "2024-10-21T15:05:48.355564",
     "status": "completed"
    },
    "tags": []
   },
   "source": [
    "**Running integration**"
   ]
  },
  {
   "cell_type": "code",
   "execution_count": 12,
   "id": "aff97c53-1aba-462e-8a77-f1aec9cf724c",
   "metadata": {
    "execution": {
     "iopub.execute_input": "2024-10-21T15:05:48.386381Z",
     "iopub.status.busy": "2024-10-21T15:05:48.385867Z",
     "iopub.status.idle": "2024-10-21T15:05:48.533590Z",
     "shell.execute_reply": "2024-10-21T15:05:48.532153Z"
    },
    "papermill": {
     "duration": 0.162414,
     "end_time": "2024-10-21T15:05:48.537098",
     "exception": false,
     "start_time": "2024-10-21T15:05:48.374684",
     "status": "completed"
    },
    "tags": []
   },
   "outputs": [
    {
     "name": "stderr",
     "output_type": "stream",
     "text": [
      "CUDA backend failed to initialize: Unable to use CUDA because of the following issues with CUDA components:\n",
      "Outdated cuSPARSE installation found.\n",
      "Version JAX was built against: 12200\n",
      "Minimum supported: 12100\n",
      "Installed version: 12002\n",
      "The local installation version must be no lower than 12100. (Set TF_CPP_MIN_LOG_LEVEL=0 and rerun for more info.)\n"
     ]
    }
   ],
   "source": [
    "scvi.model.SCVI.setup_anndata(adata, \n",
    "                              **setup_kwargs)"
   ]
  },
  {
   "cell_type": "code",
   "execution_count": 13,
   "id": "1a56f448-cf44-47c1-81a4-a89caa930fec",
   "metadata": {
    "execution": {
     "iopub.execute_input": "2024-10-21T15:05:48.564952Z",
     "iopub.status.busy": "2024-10-21T15:05:48.564650Z",
     "iopub.status.idle": "2024-10-21T15:05:48.722071Z",
     "shell.execute_reply": "2024-10-21T15:05:48.721101Z"
    },
    "papermill": {
     "duration": 0.173393,
     "end_time": "2024-10-21T15:05:48.725508",
     "exception": false,
     "start_time": "2024-10-21T15:05:48.552115",
     "status": "completed"
    },
    "tags": []
   },
   "outputs": [],
   "source": [
    "model = scvi.model.SCVI(adata, **scvi_kwargs)"
   ]
  },
  {
   "cell_type": "code",
   "execution_count": 14,
   "id": "2735f010-4f24-4ae8-9740-a8cfeb335e9a",
   "metadata": {
    "execution": {
     "iopub.execute_input": "2024-10-21T15:05:48.750645Z",
     "iopub.status.busy": "2024-10-21T15:05:48.749835Z",
     "iopub.status.idle": "2024-10-21T15:09:31.663985Z",
     "shell.execute_reply": "2024-10-21T15:09:31.663249Z"
    },
    "papermill": {
     "duration": 222.927611,
     "end_time": "2024-10-21T15:09:31.666699",
     "exception": false,
     "start_time": "2024-10-21T15:05:48.739088",
     "status": "completed"
    },
    "tags": []
   },
   "outputs": [
    {
     "name": "stderr",
     "output_type": "stream",
     "text": [
      "GPU available: True (cuda), used: True\n"
     ]
    },
    {
     "name": "stderr",
     "output_type": "stream",
     "text": [
      "TPU available: False, using: 0 TPU cores\n"
     ]
    },
    {
     "name": "stderr",
     "output_type": "stream",
     "text": [
      "IPU available: False, using: 0 IPUs\n"
     ]
    },
    {
     "name": "stderr",
     "output_type": "stream",
     "text": [
      "HPU available: False, using: 0 HPUs\n"
     ]
    },
    {
     "name": "stderr",
     "output_type": "stream",
     "text": [
      "\u001b[34m\u001b[1mwandb\u001b[0m: Currently logged in as: \u001b[33mdav1989\u001b[0m (\u001b[33minflammation\u001b[0m). Use \u001b[1m`wandb login --relogin`\u001b[0m to force relogin\n"
     ]
    },
    {
     "name": "stderr",
     "output_type": "stream",
     "text": [
      "\u001b[34m\u001b[1mwandb\u001b[0m: wandb version 0.18.5 is available!  To upgrade, please run:\n",
      "\u001b[34m\u001b[1mwandb\u001b[0m:  $ pip install wandb --upgrade\n"
     ]
    },
    {
     "name": "stderr",
     "output_type": "stream",
     "text": [
      "\u001b[34m\u001b[1mwandb\u001b[0m: Tracking run with wandb version 0.16.5\n"
     ]
    },
    {
     "name": "stderr",
     "output_type": "stream",
     "text": [
      "\u001b[34m\u001b[1mwandb\u001b[0m: Run data is saved locally in \u001b[35m\u001b[1m./wandb/run-20241021_150551-qm1wktwd\u001b[0m\n",
      "\u001b[34m\u001b[1mwandb\u001b[0m: Run \u001b[1m`wandb offline`\u001b[0m to turn off syncing.\n"
     ]
    },
    {
     "name": "stderr",
     "output_type": "stream",
     "text": [
      "\u001b[34m\u001b[1mwandb\u001b[0m: Syncing run \u001b[33mStep3_T_CD8_NonNaive\u001b[0m\n"
     ]
    },
    {
     "name": "stderr",
     "output_type": "stream",
     "text": [
      "\u001b[34m\u001b[1mwandb\u001b[0m: ⭐️ View project at \u001b[34m\u001b[4mhttps://wandb.ai/inflammation/inflammation_atlas_R1\u001b[0m\n"
     ]
    },
    {
     "name": "stderr",
     "output_type": "stream",
     "text": [
      "\u001b[34m\u001b[1mwandb\u001b[0m: 🚀 View run at \u001b[34m\u001b[4mhttps://wandb.ai/inflammation/inflammation_atlas_R1/runs/qm1wktwd/workspace\u001b[0m\n"
     ]
    },
    {
     "name": "stderr",
     "output_type": "stream",
     "text": [
      "LOCAL_RANK: 0 - CUDA_VISIBLE_DEVICES: [0]\n"
     ]
    },
    {
     "name": "stdout",
     "output_type": "stream",
     "text": [
      "\r",
      "Training:   0%|          | 0/1000 [00:00<?, ?it/s]"
     ]
    },
    {
     "name": "stdout",
     "output_type": "stream",
     "text": [
      "\r",
      "Epoch 1/1000:   0%|          | 0/1000 [00:00<?, ?it/s]"
     ]
    },
    {
     "name": "stdout",
     "output_type": "stream",
     "text": [
      "\r",
      "Epoch 1/1000:   0%|          | 1/1000 [00:08<2:17:30,  8.26s/it]"
     ]
    },
    {
     "name": "stdout",
     "output_type": "stream",
     "text": [
      "\r",
      "Epoch 1/1000:   0%|          | 1/1000 [00:08<2:17:30,  8.26s/it, v_num=ktwd, train_loss_step=873, train_loss_epoch=925]"
     ]
    },
    {
     "name": "stdout",
     "output_type": "stream",
     "text": [
      "\r",
      "Epoch 2/1000:   0%|          | 1/1000 [00:08<2:17:30,  8.26s/it, v_num=ktwd, train_loss_step=873, train_loss_epoch=925]"
     ]
    },
    {
     "name": "stdout",
     "output_type": "stream",
     "text": [
      "\r",
      "Epoch 2/1000:   0%|          | 2/1000 [00:18<2:37:43,  9.48s/it, v_num=ktwd, train_loss_step=873, train_loss_epoch=925]"
     ]
    },
    {
     "name": "stdout",
     "output_type": "stream",
     "text": [
      "\r",
      "Epoch 2/1000:   0%|          | 2/1000 [00:18<2:37:43,  9.48s/it, v_num=ktwd, train_loss_step=942, train_loss_epoch=906]"
     ]
    },
    {
     "name": "stdout",
     "output_type": "stream",
     "text": [
      "\r",
      "Epoch 3/1000:   0%|          | 2/1000 [00:18<2:37:43,  9.48s/it, v_num=ktwd, train_loss_step=942, train_loss_epoch=906]"
     ]
    },
    {
     "name": "stdout",
     "output_type": "stream",
     "text": [
      "\r",
      "Epoch 3/1000:   0%|          | 3/1000 [00:27<2:31:42,  9.13s/it, v_num=ktwd, train_loss_step=942, train_loss_epoch=906]"
     ]
    },
    {
     "name": "stdout",
     "output_type": "stream",
     "text": [
      "\r",
      "Epoch 3/1000:   0%|          | 3/1000 [00:27<2:31:42,  9.13s/it, v_num=ktwd, train_loss_step=889, train_loss_epoch=900]"
     ]
    },
    {
     "name": "stdout",
     "output_type": "stream",
     "text": [
      "\r",
      "Epoch 4/1000:   0%|          | 3/1000 [00:27<2:31:42,  9.13s/it, v_num=ktwd, train_loss_step=889, train_loss_epoch=900]"
     ]
    },
    {
     "name": "stdout",
     "output_type": "stream",
     "text": [
      "\r",
      "Epoch 4/1000:   0%|          | 4/1000 [00:37<2:38:58,  9.58s/it, v_num=ktwd, train_loss_step=889, train_loss_epoch=900]"
     ]
    },
    {
     "name": "stdout",
     "output_type": "stream",
     "text": [
      "\r",
      "Epoch 4/1000:   0%|          | 4/1000 [00:37<2:38:58,  9.58s/it, v_num=ktwd, train_loss_step=894, train_loss_epoch=896]"
     ]
    },
    {
     "name": "stdout",
     "output_type": "stream",
     "text": [
      "\r",
      "Epoch 5/1000:   0%|          | 4/1000 [00:37<2:38:58,  9.58s/it, v_num=ktwd, train_loss_step=894, train_loss_epoch=896]"
     ]
    },
    {
     "name": "stdout",
     "output_type": "stream",
     "text": [
      "\r",
      "Epoch 5/1000:   0%|          | 5/1000 [00:46<2:37:54,  9.52s/it, v_num=ktwd, train_loss_step=894, train_loss_epoch=896]"
     ]
    },
    {
     "name": "stdout",
     "output_type": "stream",
     "text": [
      "\r",
      "Epoch 5/1000:   0%|          | 5/1000 [00:46<2:37:54,  9.52s/it, v_num=ktwd, train_loss_step=822, train_loss_epoch=893]"
     ]
    },
    {
     "name": "stdout",
     "output_type": "stream",
     "text": [
      "\r",
      "Epoch 6/1000:   0%|          | 5/1000 [00:46<2:37:54,  9.52s/it, v_num=ktwd, train_loss_step=822, train_loss_epoch=893]"
     ]
    },
    {
     "name": "stdout",
     "output_type": "stream",
     "text": [
      "\r",
      "Epoch 6/1000:   1%|          | 6/1000 [00:58<2:47:48, 10.13s/it, v_num=ktwd, train_loss_step=822, train_loss_epoch=893]"
     ]
    },
    {
     "name": "stdout",
     "output_type": "stream",
     "text": [
      "\r",
      "Epoch 6/1000:   1%|          | 6/1000 [00:58<2:47:48, 10.13s/it, v_num=ktwd, train_loss_step=834, train_loss_epoch=891]"
     ]
    },
    {
     "name": "stdout",
     "output_type": "stream",
     "text": [
      "\r",
      "Epoch 7/1000:   1%|          | 6/1000 [00:58<2:47:48, 10.13s/it, v_num=ktwd, train_loss_step=834, train_loss_epoch=891]"
     ]
    },
    {
     "name": "stdout",
     "output_type": "stream",
     "text": [
      "\r",
      "Epoch 7/1000:   1%|          | 7/1000 [01:09<2:52:59, 10.45s/it, v_num=ktwd, train_loss_step=834, train_loss_epoch=891]"
     ]
    },
    {
     "name": "stdout",
     "output_type": "stream",
     "text": [
      "\r",
      "Epoch 7/1000:   1%|          | 7/1000 [01:09<2:52:59, 10.45s/it, v_num=ktwd, train_loss_step=994, train_loss_epoch=890]"
     ]
    },
    {
     "name": "stdout",
     "output_type": "stream",
     "text": [
      "\r",
      "Epoch 8/1000:   1%|          | 7/1000 [01:09<2:52:59, 10.45s/it, v_num=ktwd, train_loss_step=994, train_loss_epoch=890]"
     ]
    },
    {
     "name": "stdout",
     "output_type": "stream",
     "text": [
      "\r",
      "Epoch 8/1000:   1%|          | 8/1000 [01:17<2:42:46,  9.85s/it, v_num=ktwd, train_loss_step=994, train_loss_epoch=890]"
     ]
    },
    {
     "name": "stdout",
     "output_type": "stream",
     "text": [
      "\r",
      "Epoch 8/1000:   1%|          | 8/1000 [01:17<2:42:46,  9.85s/it, v_num=ktwd, train_loss_step=875, train_loss_epoch=889]"
     ]
    },
    {
     "name": "stdout",
     "output_type": "stream",
     "text": [
      "\r",
      "Epoch 9/1000:   1%|          | 8/1000 [01:17<2:42:46,  9.85s/it, v_num=ktwd, train_loss_step=875, train_loss_epoch=889]"
     ]
    },
    {
     "name": "stdout",
     "output_type": "stream",
     "text": [
      "\r",
      "Epoch 9/1000:   1%|          | 9/1000 [01:25<2:28:53,  9.02s/it, v_num=ktwd, train_loss_step=875, train_loss_epoch=889]"
     ]
    },
    {
     "name": "stdout",
     "output_type": "stream",
     "text": [
      "\r",
      "Epoch 9/1000:   1%|          | 9/1000 [01:25<2:28:53,  9.02s/it, v_num=ktwd, train_loss_step=900, train_loss_epoch=888]"
     ]
    },
    {
     "name": "stdout",
     "output_type": "stream",
     "text": [
      "\r",
      "Epoch 10/1000:   1%|          | 9/1000 [01:25<2:28:53,  9.02s/it, v_num=ktwd, train_loss_step=900, train_loss_epoch=888]"
     ]
    },
    {
     "name": "stdout",
     "output_type": "stream",
     "text": [
      "\r",
      "Epoch 10/1000:   1%|          | 10/1000 [01:32<2:19:24,  8.45s/it, v_num=ktwd, train_loss_step=900, train_loss_epoch=888]"
     ]
    },
    {
     "name": "stdout",
     "output_type": "stream",
     "text": [
      "\r",
      "Epoch 10/1000:   1%|          | 10/1000 [01:32<2:19:24,  8.45s/it, v_num=ktwd, train_loss_step=871, train_loss_epoch=887]"
     ]
    },
    {
     "name": "stdout",
     "output_type": "stream",
     "text": [
      "\r",
      "Epoch 11/1000:   1%|          | 10/1000 [01:32<2:19:24,  8.45s/it, v_num=ktwd, train_loss_step=871, train_loss_epoch=887]"
     ]
    },
    {
     "name": "stdout",
     "output_type": "stream",
     "text": [
      "\r",
      "Epoch 11/1000:   1%|          | 11/1000 [01:42<2:25:54,  8.85s/it, v_num=ktwd, train_loss_step=871, train_loss_epoch=887]"
     ]
    },
    {
     "name": "stdout",
     "output_type": "stream",
     "text": [
      "\r",
      "Epoch 11/1000:   1%|          | 11/1000 [01:42<2:25:54,  8.85s/it, v_num=ktwd, train_loss_step=925, train_loss_epoch=886]"
     ]
    },
    {
     "name": "stdout",
     "output_type": "stream",
     "text": [
      "\r",
      "Epoch 12/1000:   1%|          | 11/1000 [01:42<2:25:54,  8.85s/it, v_num=ktwd, train_loss_step=925, train_loss_epoch=886]"
     ]
    },
    {
     "name": "stdout",
     "output_type": "stream",
     "text": [
      "\r",
      "Epoch 12/1000:   1%|          | 12/1000 [01:50<2:22:12,  8.64s/it, v_num=ktwd, train_loss_step=925, train_loss_epoch=886]"
     ]
    },
    {
     "name": "stdout",
     "output_type": "stream",
     "text": [
      "\r",
      "Epoch 12/1000:   1%|          | 12/1000 [01:50<2:22:12,  8.64s/it, v_num=ktwd, train_loss_step=909, train_loss_epoch=886]"
     ]
    },
    {
     "name": "stdout",
     "output_type": "stream",
     "text": [
      "\r",
      "Epoch 13/1000:   1%|          | 12/1000 [01:50<2:22:12,  8.64s/it, v_num=ktwd, train_loss_step=909, train_loss_epoch=886]"
     ]
    },
    {
     "name": "stdout",
     "output_type": "stream",
     "text": [
      "\r",
      "Epoch 13/1000:   1%|▏         | 13/1000 [01:57<2:14:46,  8.19s/it, v_num=ktwd, train_loss_step=909, train_loss_epoch=886]"
     ]
    },
    {
     "name": "stdout",
     "output_type": "stream",
     "text": [
      "\r",
      "Epoch 13/1000:   1%|▏         | 13/1000 [01:57<2:14:46,  8.19s/it, v_num=ktwd, train_loss_step=927, train_loss_epoch=885]"
     ]
    },
    {
     "name": "stdout",
     "output_type": "stream",
     "text": [
      "\r",
      "Epoch 14/1000:   1%|▏         | 13/1000 [01:57<2:14:46,  8.19s/it, v_num=ktwd, train_loss_step=927, train_loss_epoch=885]"
     ]
    },
    {
     "name": "stdout",
     "output_type": "stream",
     "text": [
      "\r",
      "Epoch 14/1000:   1%|▏         | 14/1000 [02:06<2:17:46,  8.38s/it, v_num=ktwd, train_loss_step=927, train_loss_epoch=885]"
     ]
    },
    {
     "name": "stdout",
     "output_type": "stream",
     "text": [
      "\r",
      "Epoch 14/1000:   1%|▏         | 14/1000 [02:06<2:17:46,  8.38s/it, v_num=ktwd, train_loss_step=833, train_loss_epoch=885]"
     ]
    },
    {
     "name": "stdout",
     "output_type": "stream",
     "text": [
      "\r",
      "Epoch 15/1000:   1%|▏         | 14/1000 [02:06<2:17:46,  8.38s/it, v_num=ktwd, train_loss_step=833, train_loss_epoch=885]"
     ]
    },
    {
     "name": "stdout",
     "output_type": "stream",
     "text": [
      "\r",
      "Epoch 15/1000:   2%|▏         | 15/1000 [02:13<2:11:46,  8.03s/it, v_num=ktwd, train_loss_step=833, train_loss_epoch=885]"
     ]
    },
    {
     "name": "stdout",
     "output_type": "stream",
     "text": [
      "\r",
      "Epoch 15/1000:   2%|▏         | 15/1000 [02:13<2:11:46,  8.03s/it, v_num=ktwd, train_loss_step=899, train_loss_epoch=885]"
     ]
    },
    {
     "name": "stdout",
     "output_type": "stream",
     "text": [
      "\r",
      "Epoch 16/1000:   2%|▏         | 15/1000 [02:13<2:11:46,  8.03s/it, v_num=ktwd, train_loss_step=899, train_loss_epoch=885]"
     ]
    },
    {
     "name": "stdout",
     "output_type": "stream",
     "text": [
      "\r",
      "Epoch 16/1000:   2%|▏         | 16/1000 [02:22<2:15:41,  8.27s/it, v_num=ktwd, train_loss_step=899, train_loss_epoch=885]"
     ]
    },
    {
     "name": "stdout",
     "output_type": "stream",
     "text": [
      "\r",
      "Epoch 16/1000:   2%|▏         | 16/1000 [02:22<2:15:41,  8.27s/it, v_num=ktwd, train_loss_step=874, train_loss_epoch=884]"
     ]
    },
    {
     "name": "stdout",
     "output_type": "stream",
     "text": [
      "\r",
      "Epoch 17/1000:   2%|▏         | 16/1000 [02:22<2:15:41,  8.27s/it, v_num=ktwd, train_loss_step=874, train_loss_epoch=884]"
     ]
    },
    {
     "name": "stdout",
     "output_type": "stream",
     "text": [
      "\r",
      "Epoch 17/1000:   2%|▏         | 17/1000 [02:33<2:30:26,  9.18s/it, v_num=ktwd, train_loss_step=874, train_loss_epoch=884]"
     ]
    },
    {
     "name": "stdout",
     "output_type": "stream",
     "text": [
      "\r",
      "Epoch 17/1000:   2%|▏         | 17/1000 [02:33<2:30:26,  9.18s/it, v_num=ktwd, train_loss_step=888, train_loss_epoch=884]"
     ]
    },
    {
     "name": "stdout",
     "output_type": "stream",
     "text": [
      "\r",
      "Epoch 18/1000:   2%|▏         | 17/1000 [02:33<2:30:26,  9.18s/it, v_num=ktwd, train_loss_step=888, train_loss_epoch=884]"
     ]
    },
    {
     "name": "stdout",
     "output_type": "stream",
     "text": [
      "\r",
      "Epoch 18/1000:   2%|▏         | 18/1000 [02:40<2:20:53,  8.61s/it, v_num=ktwd, train_loss_step=888, train_loss_epoch=884]"
     ]
    },
    {
     "name": "stdout",
     "output_type": "stream",
     "text": [
      "\r",
      "Epoch 18/1000:   2%|▏         | 18/1000 [02:40<2:20:53,  8.61s/it, v_num=ktwd, train_loss_step=905, train_loss_epoch=884]"
     ]
    },
    {
     "name": "stdout",
     "output_type": "stream",
     "text": [
      "\r",
      "Epoch 19/1000:   2%|▏         | 18/1000 [02:40<2:20:53,  8.61s/it, v_num=ktwd, train_loss_step=905, train_loss_epoch=884]"
     ]
    },
    {
     "name": "stdout",
     "output_type": "stream",
     "text": [
      "\r",
      "Epoch 19/1000:   2%|▏         | 19/1000 [02:52<2:35:50,  9.53s/it, v_num=ktwd, train_loss_step=905, train_loss_epoch=884]"
     ]
    },
    {
     "name": "stdout",
     "output_type": "stream",
     "text": [
      "\r",
      "Epoch 19/1000:   2%|▏         | 19/1000 [02:52<2:35:50,  9.53s/it, v_num=ktwd, train_loss_step=830, train_loss_epoch=884]"
     ]
    },
    {
     "name": "stdout",
     "output_type": "stream",
     "text": [
      "\r",
      "Epoch 20/1000:   2%|▏         | 19/1000 [02:52<2:35:50,  9.53s/it, v_num=ktwd, train_loss_step=830, train_loss_epoch=884]"
     ]
    },
    {
     "name": "stdout",
     "output_type": "stream",
     "text": [
      "\r",
      "Epoch 20/1000:   2%|▏         | 20/1000 [03:04<2:46:23, 10.19s/it, v_num=ktwd, train_loss_step=830, train_loss_epoch=884]"
     ]
    },
    {
     "name": "stdout",
     "output_type": "stream",
     "text": [
      "\r",
      "Epoch 20/1000:   2%|▏         | 20/1000 [03:04<2:46:23, 10.19s/it, v_num=ktwd, train_loss_step=880, train_loss_epoch=883]"
     ]
    },
    {
     "name": "stdout",
     "output_type": "stream",
     "text": [
      "\r",
      "Epoch 21/1000:   2%|▏         | 20/1000 [03:04<2:46:23, 10.19s/it, v_num=ktwd, train_loss_step=880, train_loss_epoch=883]"
     ]
    },
    {
     "name": "stdout",
     "output_type": "stream",
     "text": [
      "\r",
      "Epoch 21/1000:   2%|▏         | 21/1000 [03:15<2:53:16, 10.62s/it, v_num=ktwd, train_loss_step=880, train_loss_epoch=883]"
     ]
    },
    {
     "name": "stdout",
     "output_type": "stream",
     "text": [
      "\r",
      "Epoch 21/1000:   2%|▏         | 21/1000 [03:15<2:53:16, 10.62s/it, v_num=ktwd, train_loss_step=943, train_loss_epoch=883]"
     ]
    },
    {
     "name": "stdout",
     "output_type": "stream",
     "text": [
      "\r",
      "Epoch 22/1000:   2%|▏         | 21/1000 [03:15<2:53:16, 10.62s/it, v_num=ktwd, train_loss_step=943, train_loss_epoch=883]"
     ]
    },
    {
     "name": "stdout",
     "output_type": "stream",
     "text": [
      "\r",
      "Epoch 22/1000:   2%|▏         | 22/1000 [03:23<2:38:24,  9.72s/it, v_num=ktwd, train_loss_step=943, train_loss_epoch=883]"
     ]
    },
    {
     "name": "stdout",
     "output_type": "stream",
     "text": [
      "\r",
      "Epoch 22/1000:   2%|▏         | 22/1000 [03:23<2:38:24,  9.72s/it, v_num=ktwd, train_loss_step=849, train_loss_epoch=883]"
     ]
    },
    {
     "name": "stdout",
     "output_type": "stream",
     "text": [
      "\r",
      "Epoch 23/1000:   2%|▏         | 22/1000 [03:23<2:38:24,  9.72s/it, v_num=ktwd, train_loss_step=849, train_loss_epoch=883]"
     ]
    },
    {
     "name": "stdout",
     "output_type": "stream",
     "text": [
      "\r",
      "Epoch 23/1000:   2%|▏         | 23/1000 [03:35<2:48:53, 10.37s/it, v_num=ktwd, train_loss_step=849, train_loss_epoch=883]"
     ]
    },
    {
     "name": "stdout",
     "output_type": "stream",
     "text": [
      "\r",
      "Epoch 23/1000:   2%|▏         | 23/1000 [03:35<2:48:53, 10.37s/it, v_num=ktwd, train_loss_step=892, train_loss_epoch=883]"
     ]
    },
    {
     "name": "stdout",
     "output_type": "stream",
     "text": [
      "\r",
      "Epoch 23/1000:   2%|▏         | 23/1000 [03:35<2:32:29,  9.37s/it, v_num=ktwd, train_loss_step=892, train_loss_epoch=883]"
     ]
    },
    {
     "name": "stdout",
     "output_type": "stream",
     "text": [
      "\n",
      "Monitored metric reconstruction_loss_validation did not improve in the last 10 records. Best score: 887.026. Signaling Trainer to stop.\n"
     ]
    }
   ],
   "source": [
    "model.train(logger=logger, plan_kwargs = plan_kwargs, **trainer_kwargs)"
   ]
  },
  {
   "cell_type": "code",
   "execution_count": 15,
   "id": "c282f6eb-0ad1-40a5-81e6-1acda1545dad",
   "metadata": {
    "execution": {
     "iopub.execute_input": "2024-10-21T15:09:31.708014Z",
     "iopub.status.busy": "2024-10-21T15:09:31.707719Z",
     "iopub.status.idle": "2024-10-21T15:09:35.709803Z",
     "shell.execute_reply": "2024-10-21T15:09:35.708292Z"
    },
    "papermill": {
     "duration": 4.025509,
     "end_time": "2024-10-21T15:09:35.713213",
     "exception": false,
     "start_time": "2024-10-21T15:09:31.687704",
     "status": "completed"
    },
    "tags": []
   },
   "outputs": [
    {
     "name": "stderr",
     "output_type": "stream",
     "text": [
      "\u001b[34m\u001b[1mwandb\u001b[0m: - 0.005 MB of 0.024 MB uploaded\r"
     ]
    },
    {
     "name": "stderr",
     "output_type": "stream",
     "text": [
      "\u001b[34m\u001b[1mwandb\u001b[0m: \\ 0.005 MB of 0.024 MB uploaded\r"
     ]
    },
    {
     "name": "stderr",
     "output_type": "stream",
     "text": [
      "\u001b[34m\u001b[1mwandb\u001b[0m: | 0.025 MB of 0.025 MB uploaded\r"
     ]
    },
    {
     "name": "stderr",
     "output_type": "stream",
     "text": [
      "\u001b[34m\u001b[1mwandb\u001b[0m:                                                                                \n"
     ]
    },
    {
     "name": "stderr",
     "output_type": "stream",
     "text": [
      "\u001b[34m\u001b[1mwandb\u001b[0m: \n",
      "\u001b[34m\u001b[1mwandb\u001b[0m: Run history:\n",
      "\u001b[34m\u001b[1mwandb\u001b[0m:                     elbo_train █▆▅▄▃▃▃▂▂▂▂▂▂▂▁▁▁▁▁▁▁▁▁\n",
      "\u001b[34m\u001b[1mwandb\u001b[0m:                elbo_validation █▆▄▃▂▂▂▂▂▁▁▁▁▁▁▁▁▁▁▁▁▁▁\n",
      "\u001b[34m\u001b[1mwandb\u001b[0m:                          epoch ▁▁▁▂▂▂▂▂▂▃▃▃▃▃▄▄▄▄▄▅▅▅▅▅▅▅▆▆▆▆▆▇▇▇▇▇▇███\n",
      "\u001b[34m\u001b[1mwandb\u001b[0m:                kl_global_train ▁▁▁▁▁▁▁▁▁▁▁▁▁▁▁▁▁▁▁▁▁▁▁\n",
      "\u001b[34m\u001b[1mwandb\u001b[0m:           kl_global_validation ▁▁▁▁▁▁▁▁▁▁▁▁▁▁▁▁▁▁▁▁▁▁▁\n",
      "\u001b[34m\u001b[1mwandb\u001b[0m:                 kl_local_train ▆█▆▄▃▃▃▃▂▂▂▂▂▂▂▂▁▁▁▁▁▁▁\n",
      "\u001b[34m\u001b[1mwandb\u001b[0m:            kl_local_validation █▆▄▄▃▃▂▂▂▂▂▂▂▂▂▁▁▁▁▁▁▁▁\n",
      "\u001b[34m\u001b[1mwandb\u001b[0m:                      kl_weight ▁▁▁▁▂▂▂▂▂▃▃▃▃▃▄▄▄▄▄▅▅▅▅▅▅▅▆▆▆▆▆▆▇▇▇▇▇███\n",
      "\u001b[34m\u001b[1mwandb\u001b[0m:      reconstruction_loss_train █▅▄▃▃▂▂▂▂▂▂▂▂▁▁▁▁▁▁▁▁▁▁\n",
      "\u001b[34m\u001b[1mwandb\u001b[0m: reconstruction_loss_validation █▅▄▃▂▂▁▁▁▁▁▁▁▁▁▁▁▁▁▁▁▁▁\n",
      "\u001b[34m\u001b[1mwandb\u001b[0m:               train_loss_epoch █▅▄▃▃▂▂▂▂▂▂▁▁▁▁▁▁▁▁▁▁▁▁\n",
      "\u001b[34m\u001b[1mwandb\u001b[0m:                train_loss_step ▅▆▅▆▆▃▄▃▄▅▃▁▅▅▄▂▆▆▅▄█▅▅▂▃▄▃▄▃▃▅▄▂▃▃▅▃▅▄▄\n",
      "\u001b[34m\u001b[1mwandb\u001b[0m:            trainer/global_step ▁▁▁▂▂▂▂▂▂▃▃▃▃▃▃▄▄▄▄▄▅▅▅▅▅▅▆▆▆▆▆▇▇▇▇▇▇███\n",
      "\u001b[34m\u001b[1mwandb\u001b[0m:                validation_loss █▅▄▃▂▂▁▁▁▁▁▁▁▁▁▁▁▁▁▁▁▂▂\n",
      "\u001b[34m\u001b[1mwandb\u001b[0m: \n",
      "\u001b[34m\u001b[1mwandb\u001b[0m: Run summary:\n",
      "\u001b[34m\u001b[1mwandb\u001b[0m:                     elbo_train 907.99542\n",
      "\u001b[34m\u001b[1mwandb\u001b[0m:                elbo_validation 913.44049\n",
      "\u001b[34m\u001b[1mwandb\u001b[0m:                          epoch 22\n",
      "\u001b[34m\u001b[1mwandb\u001b[0m:                kl_global_train 0.0\n",
      "\u001b[34m\u001b[1mwandb\u001b[0m:           kl_global_validation 0.0\n",
      "\u001b[34m\u001b[1mwandb\u001b[0m:                 kl_local_train 26.56422\n",
      "\u001b[34m\u001b[1mwandb\u001b[0m:            kl_local_validation 25.61378\n",
      "\u001b[34m\u001b[1mwandb\u001b[0m:                      kl_weight 0.055\n",
      "\u001b[34m\u001b[1mwandb\u001b[0m:      reconstruction_loss_train 881.43121\n",
      "\u001b[34m\u001b[1mwandb\u001b[0m: reconstruction_loss_validation 887.82672\n",
      "\u001b[34m\u001b[1mwandb\u001b[0m:               train_loss_epoch 882.89209\n",
      "\u001b[34m\u001b[1mwandb\u001b[0m:                train_loss_step 906.10803\n",
      "\u001b[34m\u001b[1mwandb\u001b[0m:            trainer/global_step 21044\n",
      "\u001b[34m\u001b[1mwandb\u001b[0m:                validation_loss 889.23578\n",
      "\u001b[34m\u001b[1mwandb\u001b[0m: \n"
     ]
    },
    {
     "name": "stderr",
     "output_type": "stream",
     "text": [
      "\u001b[34m\u001b[1mwandb\u001b[0m: 🚀 View run \u001b[33mStep3_T_CD8_NonNaive\u001b[0m at: \u001b[34m\u001b[4mhttps://wandb.ai/inflammation/inflammation_atlas_R1/runs/qm1wktwd/workspace\u001b[0m\n",
      "\u001b[34m\u001b[1mwandb\u001b[0m: Synced 6 W&B file(s), 0 media file(s), 0 artifact file(s) and 0 other file(s)\n"
     ]
    },
    {
     "name": "stderr",
     "output_type": "stream",
     "text": [
      "\u001b[34m\u001b[1mwandb\u001b[0m: Find logs at: \u001b[35m\u001b[1m./wandb/run-20241021_150551-qm1wktwd/logs\u001b[0m\n"
     ]
    }
   ],
   "source": [
    "wandb.finish()"
   ]
  },
  {
   "cell_type": "markdown",
   "id": "d9fb1179-83c7-4ac6-b4aa-92dc7a349801",
   "metadata": {
    "papermill": {
     "duration": 0.025577,
     "end_time": "2024-10-21T15:09:35.761870",
     "exception": false,
     "start_time": "2024-10-21T15:09:35.736293",
     "status": "completed"
    },
    "tags": []
   },
   "source": [
    "### Extracting embedding space"
   ]
  },
  {
   "cell_type": "code",
   "execution_count": 16,
   "id": "caaa5832-0123-4c59-8ec6-f46a75f7a14e",
   "metadata": {
    "execution": {
     "iopub.execute_input": "2024-10-21T15:09:35.791785Z",
     "iopub.status.busy": "2024-10-21T15:09:35.790845Z",
     "iopub.status.idle": "2024-10-21T15:09:38.757866Z",
     "shell.execute_reply": "2024-10-21T15:09:38.756600Z"
    },
    "papermill": {
     "duration": 2.984009,
     "end_time": "2024-10-21T15:09:38.761073",
     "exception": false,
     "start_time": "2024-10-21T15:09:35.777064",
     "status": "completed"
    },
    "tags": []
   },
   "outputs": [],
   "source": [
    "adata.obsm['X_scVI'] = model.get_latent_representation()"
   ]
  },
  {
   "cell_type": "markdown",
   "id": "2f03e70b-839c-40a6-9fbb-d76bbd787419",
   "metadata": {
    "papermill": {
     "duration": 0.012517,
     "end_time": "2024-10-21T15:09:38.795100",
     "exception": false,
     "start_time": "2024-10-21T15:09:38.782583",
     "status": "completed"
    },
    "tags": []
   },
   "source": [
    "## Save the results"
   ]
  },
  {
   "cell_type": "code",
   "execution_count": 17,
   "id": "7b04049b-47fd-4b62-a1c0-c43dcc086d34",
   "metadata": {
    "execution": {
     "iopub.execute_input": "2024-10-21T15:09:38.821459Z",
     "iopub.status.busy": "2024-10-21T15:09:38.821212Z",
     "iopub.status.idle": "2024-10-21T15:09:51.030838Z",
     "shell.execute_reply": "2024-10-21T15:09:51.029339Z"
    },
    "papermill": {
     "duration": 12.226339,
     "end_time": "2024-10-21T15:09:51.034405",
     "exception": false,
     "start_time": "2024-10-21T15:09:38.808066",
     "status": "completed"
    },
    "tags": []
   },
   "outputs": [],
   "source": [
    "if overwriteData:\n",
    "    adata.write(here(f\"{workDir}/{cellGroup}/results/02_{annotationLevel}_{cellGroup}_HVGsubset_scVI.h5ad\"), compression=\"gzip\")\n",
    "    model.save(here(f\"{workDir}/{cellGroup}/results/02_{annotationLevel}_{cellGroup}_HVGsubset_scVI_MODEL/\"),\n",
    "               overwrite = True, \n",
    "               save_anndata = False )   "
   ]
  },
  {
   "cell_type": "code",
   "execution_count": 18,
   "id": "629ba2bd-f6be-44ef-8fca-bbdf891bf25f",
   "metadata": {
    "execution": {
     "iopub.execute_input": "2024-10-21T15:09:51.074059Z",
     "iopub.status.busy": "2024-10-21T15:09:51.072898Z",
     "iopub.status.idle": "2024-10-21T15:09:51.078833Z",
     "shell.execute_reply": "2024-10-21T15:09:51.077527Z"
    },
    "papermill": {
     "duration": 0.024161,
     "end_time": "2024-10-21T15:09:51.080741",
     "exception": false,
     "start_time": "2024-10-21T15:09:51.056580",
     "status": "completed"
    },
    "tags": []
   },
   "outputs": [],
   "source": [
    "# To load the model do (after loading corresponding adata):\n",
    "# model = scvi.model.SCVI.load(here('{}/results/01_{}_HVGsubset_scVI_MODEL/'.format(workDir, cellGroup)), \n",
    "#                              adata, \n",
    "#                              use_gpu=True)"
   ]
  },
  {
   "cell_type": "raw",
   "id": "975e84d0-f56b-498d-b3a8-c9219cf22e53",
   "metadata": {
    "papermill": {
     "duration": 0.013213,
     "end_time": "2024-10-21T15:09:51.107243",
     "exception": false,
     "start_time": "2024-10-21T15:09:51.094030",
     "status": "completed"
    },
    "tags": []
   },
   "source": [
    "session_info.show()"
   ]
  }
 ],
 "metadata": {
  "kernelspec": {
   "display_name": "Python 3 (ipykernel)",
   "language": "python",
   "name": "python3"
  },
  "language_info": {
   "codemirror_mode": {
    "name": "ipython",
    "version": 3
   },
   "file_extension": ".py",
   "mimetype": "text/x-python",
   "name": "python",
   "nbconvert_exporter": "python",
   "pygments_lexer": "ipython3",
   "version": "3.9.19"
  },
  "papermill": {
   "default_parameters": {},
   "duration": 255.054186,
   "end_time": "2024-10-21T15:09:53.351440",
   "environment_variables": {},
   "exception": null,
   "input_path": "T_CD8_NonNaive/02_integration_scVI.ipynb",
   "output_path": "T_CD8_NonNaive/02_integration_scVI.executed.ipynb",
   "parameters": {},
   "start_time": "2024-10-21T15:05:38.297254",
   "version": "2.5.0"
  }
 },
 "nbformat": 4,
 "nbformat_minor": 5
}