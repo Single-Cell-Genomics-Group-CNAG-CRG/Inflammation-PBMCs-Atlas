{
 "cells": [
  {
   "cell_type": "code",
   "execution_count": 1,
   "id": "2dd1425a-0c07-465e-b522-9e3cc5cb93a7",
   "metadata": {
    "execution": {
     "iopub.execute_input": "2024-10-21T14:52:39.179149Z",
     "iopub.status.busy": "2024-10-21T14:52:39.178664Z",
     "iopub.status.idle": "2024-10-21T14:52:42.777805Z",
     "shell.execute_reply": "2024-10-21T14:52:42.776657Z"
    },
    "papermill": {
     "duration": 3.6193,
     "end_time": "2024-10-21T14:52:42.780842",
     "exception": false,
     "start_time": "2024-10-21T14:52:39.161542",
     "status": "completed"
    },
    "tags": []
   },
   "outputs": [
    {
     "name": "stderr",
     "output_type": "stream",
     "text": [
      "/home/dmaspero/miniconda3/envs/scarches/lib/python3.9/site-packages/tqdm/auto.py:21: TqdmWarning: IProgress not found. Please update jupyter and ipywidgets. See https://ipywidgets.readthedocs.io/en/stable/user_install.html\n",
      "  from .autonotebook import tqdm as notebook_tqdm\n"
     ]
    },
    {
     "data": {
      "text/plain": [
       "True"
      ]
     },
     "execution_count": 1,
     "metadata": {},
     "output_type": "execute_result"
    }
   ],
   "source": [
    "import os\n",
    "import sys\n",
    "\n",
    "import numpy as np\n",
    "import matplotlib.pyplot as plt\n",
    "\n",
    "import scanpy as sc\n",
    "import scvi\n",
    "import torch\n",
    "\n",
    "from pytorch_lightning.loggers import WandbLogger\n",
    "import wandb\n",
    "from dotenv import load_dotenv\n",
    "\n",
    "import session_info\n",
    "import warnings\n",
    "from pyprojroot.here import here\n",
    "\n",
    "warnings.filterwarnings(\"ignore\")\n",
    "sys.path.insert(1, str(here('bin')))\n",
    "\n",
    "torch.set_float32_matmul_precision('high')\n",
    "\n",
    "#plt.style.use(['science','nature','no-latex'])\n",
    "dpi_fig_save = 300\n",
    "sc.set_figure_params(dpi=100, dpi_save=dpi_fig_save, vector_friendly=True)\n",
    "\n",
    "load_dotenv(here('.env'))"
   ]
  },
  {
   "cell_type": "code",
   "execution_count": 2,
   "id": "09c897fc-744b-43de-a681-718fb5d327fa",
   "metadata": {
    "execution": {
     "iopub.execute_input": "2024-10-21T14:52:42.807943Z",
     "iopub.status.busy": "2024-10-21T14:52:42.807050Z",
     "iopub.status.idle": "2024-10-21T14:52:42.813851Z",
     "shell.execute_reply": "2024-10-21T14:52:42.812791Z"
    },
    "papermill": {
     "duration": 0.023231,
     "end_time": "2024-10-21T14:52:42.816428",
     "exception": false,
     "start_time": "2024-10-21T14:52:42.793197",
     "status": "completed"
    },
    "tags": []
   },
   "outputs": [],
   "source": [
    "class CustomWandbLogger(WandbLogger):\n",
    "    @property\n",
    "    def save_dir(self):\n",
    "        return self.experiment.dir"
   ]
  },
  {
   "cell_type": "code",
   "execution_count": 3,
   "id": "8ee6662f-5d45-4137-80a5-bb0b9ae8d71f",
   "metadata": {
    "execution": {
     "iopub.execute_input": "2024-10-21T14:52:42.838186Z",
     "iopub.status.busy": "2024-10-21T14:52:42.837206Z",
     "iopub.status.idle": "2024-10-21T14:52:42.849020Z",
     "shell.execute_reply": "2024-10-21T14:52:42.847826Z"
    },
    "papermill": {
     "duration": 0.026072,
     "end_time": "2024-10-21T14:52:42.852172",
     "exception": false,
     "start_time": "2024-10-21T14:52:42.826100",
     "status": "completed"
    },
    "tags": []
   },
   "outputs": [
    {
     "name": "stderr",
     "output_type": "stream",
     "text": [
      "Seed set to 0\n"
     ]
    },
    {
     "name": "stdout",
     "output_type": "stream",
     "text": [
      "Last run with scvi-tools version: 1.1.2\n"
     ]
    }
   ],
   "source": [
    "scvi.settings.seed = 0\n",
    "print(\"Last run with scvi-tools version:\", scvi.__version__)"
   ]
  },
  {
   "cell_type": "markdown",
   "id": "a81037ff-5998-482a-ba86-520f757311a9",
   "metadata": {
    "papermill": {
     "duration": 0.009715,
     "end_time": "2024-10-21T14:52:42.874245",
     "exception": false,
     "start_time": "2024-10-21T14:52:42.864530",
     "status": "completed"
    },
    "tags": []
   },
   "source": [
    "**Setting parameters** "
   ]
  },
  {
   "cell_type": "code",
   "execution_count": 4,
   "id": "56c27966-8f10-4c93-8b1a-1fa75f005e41",
   "metadata": {
    "execution": {
     "iopub.execute_input": "2024-10-21T14:52:42.898035Z",
     "iopub.status.busy": "2024-10-21T14:52:42.897548Z",
     "iopub.status.idle": "2024-10-21T14:52:42.903818Z",
     "shell.execute_reply": "2024-10-21T14:52:42.902434Z"
    },
    "papermill": {
     "duration": 0.022106,
     "end_time": "2024-10-21T14:52:42.907123",
     "exception": false,
     "start_time": "2024-10-21T14:52:42.885017",
     "status": "completed"
    },
    "tags": []
   },
   "outputs": [],
   "source": [
    "overwriteFigures = True\n",
    "overwriteData = True"
   ]
  },
  {
   "cell_type": "code",
   "execution_count": 5,
   "id": "c86fccd3-a4fe-415b-8f4e-e2ceb3ec128a",
   "metadata": {
    "execution": {
     "iopub.execute_input": "2024-10-21T14:52:42.930434Z",
     "iopub.status.busy": "2024-10-21T14:52:42.929198Z",
     "iopub.status.idle": "2024-10-21T14:52:42.935794Z",
     "shell.execute_reply": "2024-10-21T14:52:42.934173Z"
    },
    "papermill": {
     "duration": 0.0206,
     "end_time": "2024-10-21T14:52:42.939163",
     "exception": false,
     "start_time": "2024-10-21T14:52:42.918563",
     "status": "completed"
    },
    "tags": []
   },
   "outputs": [],
   "source": [
    "cellGroup = 'ILC'\n",
    "workDir = os.getcwd()"
   ]
  },
  {
   "cell_type": "code",
   "execution_count": 6,
   "id": "2dee4d55-d168-467b-b867-a61fed9d6af1",
   "metadata": {
    "execution": {
     "iopub.execute_input": "2024-10-21T14:52:42.965396Z",
     "iopub.status.busy": "2024-10-21T14:52:42.964875Z",
     "iopub.status.idle": "2024-10-21T14:52:42.971322Z",
     "shell.execute_reply": "2024-10-21T14:52:42.970151Z"
    },
    "papermill": {
     "duration": 0.023463,
     "end_time": "2024-10-21T14:52:42.974543",
     "exception": false,
     "start_time": "2024-10-21T14:52:42.951080",
     "status": "completed"
    },
    "tags": []
   },
   "outputs": [],
   "source": [
    "annotationLevel = os.path.basename(os.path.normpath(workDir))"
   ]
  },
  {
   "cell_type": "code",
   "execution_count": 7,
   "id": "11e53cd5-b746-4152-89cb-c2f0c15d90b3",
   "metadata": {
    "execution": {
     "iopub.execute_input": "2024-10-21T14:52:43.000088Z",
     "iopub.status.busy": "2024-10-21T14:52:42.998922Z",
     "iopub.status.idle": "2024-10-21T14:52:43.006962Z",
     "shell.execute_reply": "2024-10-21T14:52:43.005646Z"
    },
    "papermill": {
     "duration": 0.024192,
     "end_time": "2024-10-21T14:52:43.010199",
     "exception": false,
     "start_time": "2024-10-21T14:52:42.986007",
     "status": "completed"
    },
    "tags": []
   },
   "outputs": [
    {
     "data": {
      "text/plain": [
       "'/scratch_isilon/groups/singlecell/shared/projects/Inflammation-PBMCs-Atlas/02_cell_annotation/SCGT00_CentralizedDataset/02_fromCellLineages_to_CellTypes/Step3'"
      ]
     },
     "execution_count": 7,
     "metadata": {},
     "output_type": "execute_result"
    }
   ],
   "source": [
    "workDir"
   ]
  },
  {
   "cell_type": "markdown",
   "id": "171d2f06-9a44-4fcb-b437-35dc546674b6",
   "metadata": {
    "papermill": {
     "duration": 0.017275,
     "end_time": "2024-10-21T14:52:43.039742",
     "exception": false,
     "start_time": "2024-10-21T14:52:43.022467",
     "status": "completed"
    },
    "tags": []
   },
   "source": [
    "**Load data**"
   ]
  },
  {
   "cell_type": "code",
   "execution_count": 8,
   "id": "429f34fe-dde6-4cc9-9f75-7de8f85c5ffe",
   "metadata": {
    "execution": {
     "iopub.execute_input": "2024-10-21T14:52:43.065953Z",
     "iopub.status.busy": "2024-10-21T14:52:43.065465Z",
     "iopub.status.idle": "2024-10-21T14:52:43.965104Z",
     "shell.execute_reply": "2024-10-21T14:52:43.964297Z"
    },
    "papermill": {
     "duration": 0.91536,
     "end_time": "2024-10-21T14:52:43.968163",
     "exception": false,
     "start_time": "2024-10-21T14:52:43.052803",
     "status": "completed"
    },
    "tags": []
   },
   "outputs": [
    {
     "data": {
      "text/plain": [
       "AnnData object with n_obs × n_vars = 57046 × 1651\n",
       "    obs: 'studyID', 'libraryID', 'sampleID', 'chemistry', 'technology', 'patientID', 'disease', 'timepoint_replicate', 'treatmentStatus', 'therapyResponse', 'sex', 'age', 'BMI', 'binned_age', 'diseaseStatus', 'smokingStatus', 'ethnicity', 'institute', 'diseaseGroup', 'batches', 'n_genes_by_counts', 'log1p_n_genes_by_counts', 'total_counts', 'log1p_total_counts', 'pct_counts_in_top_20_genes', 'total_counts_mt', 'log1p_total_counts_mt', 'pct_counts_mt', 'total_counts_ribo', 'log1p_total_counts_ribo', 'pct_counts_ribo', 'total_counts_hb', 'log1p_total_counts_hb', 'pct_counts_hb', 'total_counts_plt', 'log1p_total_counts_plt', 'pct_counts_plt', 'S_score', 'G2M_score', 'phase'\n",
       "    var: 'hgnc_id', 'symbol', 'locus_group', 'HUGO_status', 'mt', 'ribo', 'hb', 'plt', 'n_cells_by_counts', 'mean_counts', 'log1p_mean_counts', 'pct_dropout_by_counts', 'total_counts', 'log1p_total_counts', 'highly_variable', 'means', 'dispersions', 'dispersions_norm', 'highly_variable_nbatches', 'highly_variable_intersection'\n",
       "    uns: 'disease_colors', 'hvg', 'log1p'\n",
       "    layers: 'counts', 'log1p_10e4_counts'"
      ]
     },
     "execution_count": 8,
     "metadata": {},
     "output_type": "execute_result"
    }
   ],
   "source": [
    "adata = sc.read_h5ad(here(f\"{workDir}/{cellGroup}/results/01_{cellGroup}_normalized_HVGsubset.h5ad\"))\n",
    "adata"
   ]
  },
  {
   "cell_type": "markdown",
   "id": "8ac79f3b-d5af-41fa-8904-1e9ac1cbe2fb",
   "metadata": {
    "papermill": {
     "duration": 0.012999,
     "end_time": "2024-10-21T14:52:43.994426",
     "exception": false,
     "start_time": "2024-10-21T14:52:43.981427",
     "status": "completed"
    },
    "tags": []
   },
   "source": [
    "## scVI integration"
   ]
  },
  {
   "cell_type": "markdown",
   "id": "9544847d-d17f-4811-b14b-760446d54d32",
   "metadata": {
    "execution": {
     "iopub.execute_input": "2024-03-25T16:49:04.004504Z",
     "iopub.status.busy": "2024-03-25T16:49:04.004143Z",
     "iopub.status.idle": "2024-03-25T16:49:04.010148Z",
     "shell.execute_reply": "2024-03-25T16:49:04.009146Z",
     "shell.execute_reply.started": "2024-03-25T16:49:04.004477Z"
    },
    "papermill": {
     "duration": 0.010621,
     "end_time": "2024-10-21T14:52:44.017878",
     "exception": false,
     "start_time": "2024-10-21T14:52:44.007257",
     "status": "completed"
    },
    "tags": []
   },
   "source": [
    "**scVI parameters**"
   ]
  },
  {
   "cell_type": "code",
   "execution_count": 9,
   "id": "208966eb-545a-4c02-854c-0ed0487ef5b3",
   "metadata": {
    "execution": {
     "iopub.execute_input": "2024-10-21T14:52:44.033778Z",
     "iopub.status.busy": "2024-10-21T14:52:44.033505Z",
     "iopub.status.idle": "2024-10-21T14:52:44.040164Z",
     "shell.execute_reply": "2024-10-21T14:52:44.039196Z"
    },
    "papermill": {
     "duration": 0.017982,
     "end_time": "2024-10-21T14:52:44.042294",
     "exception": false,
     "start_time": "2024-10-21T14:52:44.024312",
     "status": "completed"
    },
    "tags": []
   },
   "outputs": [],
   "source": [
    "# https://docs.scvi-tools.org/en/stable/api/reference/scvi.train.Trainer.html#scvi.train.Trainer\n",
    "setup_kwargs = dict(\n",
    "    layer=\"counts\", \n",
    "    batch_key='libraryID', \n",
    "    categorical_covariate_keys = ['disease', 'sampleID'],\n",
    ")\n",
    "\n",
    "scvi_kwargs = dict(n_hidden=512,\n",
    "                   n_latent=10, # reduced to 20 after step 00 (main) and to 10 after step 03\n",
    "                   n_layers=2,\n",
    "                   gene_likelihood='nb')\n",
    "\n",
    "trainer_kwargs = dict(\n",
    "    checkpointing_monitor = 'elbo_validation',\n",
    "    early_stopping_monitor = 'reconstruction_loss_validation',\n",
    "    early_stopping_patience = 10,\n",
    "    early_stopping_min_delta=0.1,\n",
    "    early_stopping = True,\n",
    "    max_epochs = 1000,\n",
    "\n",
    "    #logger = # wandb\n",
    ")\n",
    "# https://docs.scvi-tools.org/en/stable/api/reference/scvi.train.TrainingPlan.html#scvi.train.TrainingPlan\n",
    "plan_kwargs = dict(\n",
    "    lr = 5e-4,\n",
    "    #reduce_lr_on_plateau = True\n",
    ")\n",
    "\n",
    "# https://docs.scvi-tools.org/en/stable/api/reference/scvi.module.VAE.html#scvi.module.VAE\n",
    "#vae = dict(\n",
    "#    use_layer_norm='both',\n",
    "#    use_batch_norm='none',\n",
    "#    encode_covariates=True,\n",
    "#    deeply_inject_covariates=False\n",
    "#)\n",
    "parameter_dict = setup_kwargs | scvi_kwargs | trainer_kwargs | plan_kwargs"
   ]
  },
  {
   "cell_type": "markdown",
   "id": "1362366a-c16b-4c11-964b-b9c5f82f7b29",
   "metadata": {
    "papermill": {
     "duration": 0.025252,
     "end_time": "2024-10-21T14:52:44.076318",
     "exception": false,
     "start_time": "2024-10-21T14:52:44.051066",
     "status": "completed"
    },
    "tags": []
   },
   "source": [
    "**wandb parameter**"
   ]
  },
  {
   "cell_type": "code",
   "execution_count": 10,
   "id": "0496e33a-8ca5-423f-b42f-34a59760708c",
   "metadata": {
    "execution": {
     "iopub.execute_input": "2024-10-21T14:52:44.102460Z",
     "iopub.status.busy": "2024-10-21T14:52:44.101445Z",
     "iopub.status.idle": "2024-10-21T14:52:44.109935Z",
     "shell.execute_reply": "2024-10-21T14:52:44.108410Z"
    },
    "papermill": {
     "duration": 0.024526,
     "end_time": "2024-10-21T14:52:44.113199",
     "exception": false,
     "start_time": "2024-10-21T14:52:44.088673",
     "status": "completed"
    },
    "tags": []
   },
   "outputs": [
    {
     "data": {
      "text/plain": [
       "'Step3_ILC'"
      ]
     },
     "execution_count": 10,
     "metadata": {},
     "output_type": "execute_result"
    }
   ],
   "source": [
    "run_name = f\"{annotationLevel}_{cellGroup}\"\n",
    "run_name"
   ]
  },
  {
   "cell_type": "code",
   "execution_count": 11,
   "id": "b0021327-95a2-4002-bf32-2c5779a99505",
   "metadata": {
    "execution": {
     "iopub.execute_input": "2024-10-21T14:52:44.135423Z",
     "iopub.status.busy": "2024-10-21T14:52:44.135113Z",
     "iopub.status.idle": "2024-10-21T14:52:44.178561Z",
     "shell.execute_reply": "2024-10-21T14:52:44.177789Z"
    },
    "papermill": {
     "duration": 0.054925,
     "end_time": "2024-10-21T14:52:44.179693",
     "exception": false,
     "start_time": "2024-10-21T14:52:44.124768",
     "status": "completed"
    },
    "tags": []
   },
   "outputs": [],
   "source": [
    "logger = CustomWandbLogger(name = run_name, project='inflammation_atlas_R1', config=parameter_dict)"
   ]
  },
  {
   "cell_type": "markdown",
   "id": "c237eee1-a976-4915-9b7f-b014bf33f47d",
   "metadata": {
    "papermill": {
     "duration": 0.006047,
     "end_time": "2024-10-21T14:52:44.191756",
     "exception": false,
     "start_time": "2024-10-21T14:52:44.185709",
     "status": "completed"
    },
    "tags": []
   },
   "source": [
    "**Running integration**"
   ]
  },
  {
   "cell_type": "code",
   "execution_count": 12,
   "id": "aff97c53-1aba-462e-8a77-f1aec9cf724c",
   "metadata": {
    "execution": {
     "iopub.execute_input": "2024-10-21T14:52:44.217150Z",
     "iopub.status.busy": "2024-10-21T14:52:44.216783Z",
     "iopub.status.idle": "2024-10-21T14:52:44.314304Z",
     "shell.execute_reply": "2024-10-21T14:52:44.312993Z"
    },
    "papermill": {
     "duration": 0.111174,
     "end_time": "2024-10-21T14:52:44.315852",
     "exception": false,
     "start_time": "2024-10-21T14:52:44.204678",
     "status": "completed"
    },
    "tags": []
   },
   "outputs": [
    {
     "name": "stderr",
     "output_type": "stream",
     "text": [
      "CUDA backend failed to initialize: Unable to use CUDA because of the following issues with CUDA components:\n",
      "Outdated cuSPARSE installation found.\n",
      "Version JAX was built against: 12200\n",
      "Minimum supported: 12100\n",
      "Installed version: 12002\n",
      "The local installation version must be no lower than 12100. (Set TF_CPP_MIN_LOG_LEVEL=0 and rerun for more info.)\n"
     ]
    }
   ],
   "source": [
    "scvi.model.SCVI.setup_anndata(adata, \n",
    "                              **setup_kwargs)"
   ]
  },
  {
   "cell_type": "code",
   "execution_count": 13,
   "id": "1a56f448-cf44-47c1-81a4-a89caa930fec",
   "metadata": {
    "execution": {
     "iopub.execute_input": "2024-10-21T14:52:44.336773Z",
     "iopub.status.busy": "2024-10-21T14:52:44.336428Z",
     "iopub.status.idle": "2024-10-21T14:52:44.407416Z",
     "shell.execute_reply": "2024-10-21T14:52:44.406457Z"
    },
    "papermill": {
     "duration": 0.086474,
     "end_time": "2024-10-21T14:52:44.408931",
     "exception": false,
     "start_time": "2024-10-21T14:52:44.322457",
     "status": "completed"
    },
    "tags": []
   },
   "outputs": [],
   "source": [
    "model = scvi.model.SCVI(adata, **scvi_kwargs)"
   ]
  },
  {
   "cell_type": "code",
   "execution_count": 14,
   "id": "2735f010-4f24-4ae8-9740-a8cfeb335e9a",
   "metadata": {
    "execution": {
     "iopub.execute_input": "2024-10-21T14:52:44.426580Z",
     "iopub.status.busy": "2024-10-21T14:52:44.426121Z",
     "iopub.status.idle": "2024-10-21T14:54:11.178730Z",
     "shell.execute_reply": "2024-10-21T14:54:11.178254Z"
    },
    "papermill": {
     "duration": 86.76537,
     "end_time": "2024-10-21T14:54:11.180746",
     "exception": false,
     "start_time": "2024-10-21T14:52:44.415376",
     "status": "completed"
    },
    "tags": []
   },
   "outputs": [
    {
     "name": "stderr",
     "output_type": "stream",
     "text": [
      "GPU available: True (cuda), used: True\n"
     ]
    },
    {
     "name": "stderr",
     "output_type": "stream",
     "text": [
      "TPU available: False, using: 0 TPU cores\n"
     ]
    },
    {
     "name": "stderr",
     "output_type": "stream",
     "text": [
      "IPU available: False, using: 0 IPUs\n"
     ]
    },
    {
     "name": "stderr",
     "output_type": "stream",
     "text": [
      "HPU available: False, using: 0 HPUs\n"
     ]
    },
    {
     "name": "stderr",
     "output_type": "stream",
     "text": [
      "\u001b[34m\u001b[1mwandb\u001b[0m: Currently logged in as: \u001b[33mdav1989\u001b[0m (\u001b[33minflammation\u001b[0m). Use \u001b[1m`wandb login --relogin`\u001b[0m to force relogin\n"
     ]
    },
    {
     "name": "stderr",
     "output_type": "stream",
     "text": [
      "\u001b[34m\u001b[1mwandb\u001b[0m: - Waiting for wandb.init()...\r"
     ]
    },
    {
     "name": "stderr",
     "output_type": "stream",
     "text": [
      "\u001b[34m\u001b[1mwandb\u001b[0m: \\ Waiting for wandb.init()...\r"
     ]
    },
    {
     "name": "stderr",
     "output_type": "stream",
     "text": [
      "\u001b[34m\u001b[1mwandb\u001b[0m: wandb version 0.18.5 is available!  To upgrade, please run:\n",
      "\u001b[34m\u001b[1mwandb\u001b[0m:  $ pip install wandb --upgrade\n"
     ]
    },
    {
     "name": "stderr",
     "output_type": "stream",
     "text": [
      "\u001b[34m\u001b[1mwandb\u001b[0m: Tracking run with wandb version 0.16.5\n"
     ]
    },
    {
     "name": "stderr",
     "output_type": "stream",
     "text": [
      "\u001b[34m\u001b[1mwandb\u001b[0m: Run data is saved locally in \u001b[35m\u001b[1m./wandb/run-20241021_145246-3zotjoqq\u001b[0m\n",
      "\u001b[34m\u001b[1mwandb\u001b[0m: Run \u001b[1m`wandb offline`\u001b[0m to turn off syncing.\n"
     ]
    },
    {
     "name": "stderr",
     "output_type": "stream",
     "text": [
      "\u001b[34m\u001b[1mwandb\u001b[0m: Syncing run \u001b[33mStep3_ILC\u001b[0m\n"
     ]
    },
    {
     "name": "stderr",
     "output_type": "stream",
     "text": [
      "\u001b[34m\u001b[1mwandb\u001b[0m: ⭐️ View project at \u001b[34m\u001b[4mhttps://wandb.ai/inflammation/inflammation_atlas_R1\u001b[0m\n"
     ]
    },
    {
     "name": "stderr",
     "output_type": "stream",
     "text": [
      "\u001b[34m\u001b[1mwandb\u001b[0m: 🚀 View run at \u001b[34m\u001b[4mhttps://wandb.ai/inflammation/inflammation_atlas_R1/runs/3zotjoqq/workspace\u001b[0m\n"
     ]
    },
    {
     "name": "stderr",
     "output_type": "stream",
     "text": [
      "LOCAL_RANK: 0 - CUDA_VISIBLE_DEVICES: [0]\n"
     ]
    },
    {
     "name": "stdout",
     "output_type": "stream",
     "text": [
      "\r",
      "Training:   0%|          | 0/1000 [00:00<?, ?it/s]"
     ]
    },
    {
     "name": "stdout",
     "output_type": "stream",
     "text": [
      "\r",
      "Epoch 1/1000:   0%|          | 0/1000 [00:00<?, ?it/s]"
     ]
    },
    {
     "name": "stdout",
     "output_type": "stream",
     "text": [
      "\r",
      "Epoch 1/1000:   0%|          | 1/1000 [00:03<50:28,  3.03s/it]"
     ]
    },
    {
     "name": "stdout",
     "output_type": "stream",
     "text": [
      "\r",
      "Epoch 1/1000:   0%|          | 1/1000 [00:03<50:28,  3.03s/it, v_num=joqq, train_loss_step=551, train_loss_epoch=543]"
     ]
    },
    {
     "name": "stdout",
     "output_type": "stream",
     "text": [
      "\r",
      "Epoch 2/1000:   0%|          | 1/1000 [00:03<50:28,  3.03s/it, v_num=joqq, train_loss_step=551, train_loss_epoch=543]"
     ]
    },
    {
     "name": "stdout",
     "output_type": "stream",
     "text": [
      "\r",
      "Epoch 2/1000:   0%|          | 2/1000 [00:07<1:07:12,  4.04s/it, v_num=joqq, train_loss_step=551, train_loss_epoch=543]"
     ]
    },
    {
     "name": "stdout",
     "output_type": "stream",
     "text": [
      "\r",
      "Epoch 2/1000:   0%|          | 2/1000 [00:07<1:07:12,  4.04s/it, v_num=joqq, train_loss_step=501, train_loss_epoch=526]"
     ]
    },
    {
     "name": "stdout",
     "output_type": "stream",
     "text": [
      "\r",
      "Epoch 3/1000:   0%|          | 2/1000 [00:07<1:07:12,  4.04s/it, v_num=joqq, train_loss_step=501, train_loss_epoch=526]"
     ]
    },
    {
     "name": "stdout",
     "output_type": "stream",
     "text": [
      "\r",
      "Epoch 3/1000:   0%|          | 3/1000 [00:10<57:34,  3.47s/it, v_num=joqq, train_loss_step=501, train_loss_epoch=526]  "
     ]
    },
    {
     "name": "stdout",
     "output_type": "stream",
     "text": [
      "\r",
      "Epoch 3/1000:   0%|          | 3/1000 [00:10<57:34,  3.47s/it, v_num=joqq, train_loss_step=501, train_loss_epoch=522]"
     ]
    },
    {
     "name": "stdout",
     "output_type": "stream",
     "text": [
      "\r",
      "Epoch 4/1000:   0%|          | 3/1000 [00:10<57:34,  3.47s/it, v_num=joqq, train_loss_step=501, train_loss_epoch=522]"
     ]
    },
    {
     "name": "stdout",
     "output_type": "stream",
     "text": [
      "\r",
      "Epoch 4/1000:   0%|          | 4/1000 [00:13<52:58,  3.19s/it, v_num=joqq, train_loss_step=501, train_loss_epoch=522]"
     ]
    },
    {
     "name": "stdout",
     "output_type": "stream",
     "text": [
      "\r",
      "Epoch 4/1000:   0%|          | 4/1000 [00:13<52:58,  3.19s/it, v_num=joqq, train_loss_step=531, train_loss_epoch=519]"
     ]
    },
    {
     "name": "stdout",
     "output_type": "stream",
     "text": [
      "\r",
      "Epoch 5/1000:   0%|          | 4/1000 [00:13<52:58,  3.19s/it, v_num=joqq, train_loss_step=531, train_loss_epoch=519]"
     ]
    },
    {
     "name": "stdout",
     "output_type": "stream",
     "text": [
      "\r",
      "Epoch 5/1000:   0%|          | 5/1000 [00:16<50:27,  3.04s/it, v_num=joqq, train_loss_step=531, train_loss_epoch=519]"
     ]
    },
    {
     "name": "stdout",
     "output_type": "stream",
     "text": [
      "\r",
      "Epoch 5/1000:   0%|          | 5/1000 [00:16<50:27,  3.04s/it, v_num=joqq, train_loss_step=493, train_loss_epoch=517]"
     ]
    },
    {
     "name": "stdout",
     "output_type": "stream",
     "text": [
      "\r",
      "Epoch 6/1000:   0%|          | 5/1000 [00:16<50:27,  3.04s/it, v_num=joqq, train_loss_step=493, train_loss_epoch=517]"
     ]
    },
    {
     "name": "stdout",
     "output_type": "stream",
     "text": [
      "\r",
      "Epoch 6/1000:   1%|          | 6/1000 [00:18<48:55,  2.95s/it, v_num=joqq, train_loss_step=493, train_loss_epoch=517]"
     ]
    },
    {
     "name": "stdout",
     "output_type": "stream",
     "text": [
      "\r",
      "Epoch 6/1000:   1%|          | 6/1000 [00:18<48:55,  2.95s/it, v_num=joqq, train_loss_step=566, train_loss_epoch=515]"
     ]
    },
    {
     "name": "stdout",
     "output_type": "stream",
     "text": [
      "\r",
      "Epoch 7/1000:   1%|          | 6/1000 [00:18<48:55,  2.95s/it, v_num=joqq, train_loss_step=566, train_loss_epoch=515]"
     ]
    },
    {
     "name": "stdout",
     "output_type": "stream",
     "text": [
      "\r",
      "Epoch 7/1000:   1%|          | 7/1000 [00:21<47:56,  2.90s/it, v_num=joqq, train_loss_step=566, train_loss_epoch=515]"
     ]
    },
    {
     "name": "stdout",
     "output_type": "stream",
     "text": [
      "\r",
      "Epoch 7/1000:   1%|          | 7/1000 [00:21<47:56,  2.90s/it, v_num=joqq, train_loss_step=550, train_loss_epoch=513]"
     ]
    },
    {
     "name": "stdout",
     "output_type": "stream",
     "text": [
      "\r",
      "Epoch 8/1000:   1%|          | 7/1000 [00:21<47:56,  2.90s/it, v_num=joqq, train_loss_step=550, train_loss_epoch=513]"
     ]
    },
    {
     "name": "stdout",
     "output_type": "stream",
     "text": [
      "\r",
      "Epoch 8/1000:   1%|          | 8/1000 [00:25<55:06,  3.33s/it, v_num=joqq, train_loss_step=550, train_loss_epoch=513]"
     ]
    },
    {
     "name": "stdout",
     "output_type": "stream",
     "text": [
      "\r",
      "Epoch 8/1000:   1%|          | 8/1000 [00:25<55:06,  3.33s/it, v_num=joqq, train_loss_step=493, train_loss_epoch=512]"
     ]
    },
    {
     "name": "stdout",
     "output_type": "stream",
     "text": [
      "\r",
      "Epoch 9/1000:   1%|          | 8/1000 [00:25<55:06,  3.33s/it, v_num=joqq, train_loss_step=493, train_loss_epoch=512]"
     ]
    },
    {
     "name": "stdout",
     "output_type": "stream",
     "text": [
      "\r",
      "Epoch 9/1000:   1%|          | 9/1000 [00:29<56:30,  3.42s/it, v_num=joqq, train_loss_step=493, train_loss_epoch=512]"
     ]
    },
    {
     "name": "stdout",
     "output_type": "stream",
     "text": [
      "\r",
      "Epoch 9/1000:   1%|          | 9/1000 [00:29<56:30,  3.42s/it, v_num=joqq, train_loss_step=445, train_loss_epoch=511]"
     ]
    },
    {
     "name": "stdout",
     "output_type": "stream",
     "text": [
      "\r",
      "Epoch 10/1000:   1%|          | 9/1000 [00:29<56:30,  3.42s/it, v_num=joqq, train_loss_step=445, train_loss_epoch=511]"
     ]
    },
    {
     "name": "stdout",
     "output_type": "stream",
     "text": [
      "\r",
      "Epoch 10/1000:   1%|          | 10/1000 [00:32<53:12,  3.22s/it, v_num=joqq, train_loss_step=445, train_loss_epoch=511]"
     ]
    },
    {
     "name": "stdout",
     "output_type": "stream",
     "text": [
      "\r",
      "Epoch 10/1000:   1%|          | 10/1000 [00:32<53:12,  3.22s/it, v_num=joqq, train_loss_step=606, train_loss_epoch=510]"
     ]
    },
    {
     "name": "stdout",
     "output_type": "stream",
     "text": [
      "\r",
      "Epoch 11/1000:   1%|          | 10/1000 [00:32<53:12,  3.22s/it, v_num=joqq, train_loss_step=606, train_loss_epoch=510]"
     ]
    },
    {
     "name": "stdout",
     "output_type": "stream",
     "text": [
      "\r",
      "Epoch 11/1000:   1%|          | 11/1000 [00:35<52:19,  3.17s/it, v_num=joqq, train_loss_step=606, train_loss_epoch=510]"
     ]
    },
    {
     "name": "stdout",
     "output_type": "stream",
     "text": [
      "\r",
      "Epoch 11/1000:   1%|          | 11/1000 [00:35<52:19,  3.17s/it, v_num=joqq, train_loss_step=589, train_loss_epoch=509]"
     ]
    },
    {
     "name": "stdout",
     "output_type": "stream",
     "text": [
      "\r",
      "Epoch 12/1000:   1%|          | 11/1000 [00:35<52:19,  3.17s/it, v_num=joqq, train_loss_step=589, train_loss_epoch=509]"
     ]
    },
    {
     "name": "stdout",
     "output_type": "stream",
     "text": [
      "\r",
      "Epoch 12/1000:   1%|          | 12/1000 [00:38<50:18,  3.06s/it, v_num=joqq, train_loss_step=589, train_loss_epoch=509]"
     ]
    },
    {
     "name": "stdout",
     "output_type": "stream",
     "text": [
      "\r",
      "Epoch 12/1000:   1%|          | 12/1000 [00:38<50:18,  3.06s/it, v_num=joqq, train_loss_step=503, train_loss_epoch=508]"
     ]
    },
    {
     "name": "stdout",
     "output_type": "stream",
     "text": [
      "\r",
      "Epoch 13/1000:   1%|          | 12/1000 [00:38<50:18,  3.06s/it, v_num=joqq, train_loss_step=503, train_loss_epoch=508]"
     ]
    },
    {
     "name": "stdout",
     "output_type": "stream",
     "text": [
      "\r",
      "Epoch 13/1000:   1%|▏         | 13/1000 [00:43<59:25,  3.61s/it, v_num=joqq, train_loss_step=503, train_loss_epoch=508]"
     ]
    },
    {
     "name": "stdout",
     "output_type": "stream",
     "text": [
      "\r",
      "Epoch 13/1000:   1%|▏         | 13/1000 [00:43<59:25,  3.61s/it, v_num=joqq, train_loss_step=526, train_loss_epoch=508]"
     ]
    },
    {
     "name": "stdout",
     "output_type": "stream",
     "text": [
      "\r",
      "Epoch 14/1000:   1%|▏         | 13/1000 [00:43<59:25,  3.61s/it, v_num=joqq, train_loss_step=526, train_loss_epoch=508]"
     ]
    },
    {
     "name": "stdout",
     "output_type": "stream",
     "text": [
      "\r",
      "Epoch 14/1000:   1%|▏         | 14/1000 [00:48<1:07:10,  4.09s/it, v_num=joqq, train_loss_step=526, train_loss_epoch=508]"
     ]
    },
    {
     "name": "stdout",
     "output_type": "stream",
     "text": [
      "\r",
      "Epoch 14/1000:   1%|▏         | 14/1000 [00:48<1:07:10,  4.09s/it, v_num=joqq, train_loss_step=514, train_loss_epoch=507]"
     ]
    },
    {
     "name": "stdout",
     "output_type": "stream",
     "text": [
      "\r",
      "Epoch 15/1000:   1%|▏         | 14/1000 [00:48<1:07:10,  4.09s/it, v_num=joqq, train_loss_step=514, train_loss_epoch=507]"
     ]
    },
    {
     "name": "stdout",
     "output_type": "stream",
     "text": [
      "\r",
      "Epoch 15/1000:   2%|▏         | 15/1000 [00:53<1:13:14,  4.46s/it, v_num=joqq, train_loss_step=514, train_loss_epoch=507]"
     ]
    },
    {
     "name": "stdout",
     "output_type": "stream",
     "text": [
      "\r",
      "Epoch 15/1000:   2%|▏         | 15/1000 [00:53<1:13:14,  4.46s/it, v_num=joqq, train_loss_step=517, train_loss_epoch=507]"
     ]
    },
    {
     "name": "stdout",
     "output_type": "stream",
     "text": [
      "\r",
      "Epoch 16/1000:   2%|▏         | 15/1000 [00:53<1:13:14,  4.46s/it, v_num=joqq, train_loss_step=517, train_loss_epoch=507]"
     ]
    },
    {
     "name": "stdout",
     "output_type": "stream",
     "text": [
      "\r",
      "Epoch 16/1000:   2%|▏         | 16/1000 [00:57<1:11:27,  4.36s/it, v_num=joqq, train_loss_step=517, train_loss_epoch=507]"
     ]
    },
    {
     "name": "stdout",
     "output_type": "stream",
     "text": [
      "\r",
      "Epoch 16/1000:   2%|▏         | 16/1000 [00:57<1:11:27,  4.36s/it, v_num=joqq, train_loss_step=552, train_loss_epoch=506]"
     ]
    },
    {
     "name": "stdout",
     "output_type": "stream",
     "text": [
      "\r",
      "Epoch 17/1000:   2%|▏         | 16/1000 [00:57<1:11:27,  4.36s/it, v_num=joqq, train_loss_step=552, train_loss_epoch=506]"
     ]
    },
    {
     "name": "stdout",
     "output_type": "stream",
     "text": [
      "\r",
      "Epoch 17/1000:   2%|▏         | 17/1000 [01:00<1:03:37,  3.88s/it, v_num=joqq, train_loss_step=552, train_loss_epoch=506]"
     ]
    },
    {
     "name": "stdout",
     "output_type": "stream",
     "text": [
      "\r",
      "Epoch 17/1000:   2%|▏         | 17/1000 [01:00<1:03:37,  3.88s/it, v_num=joqq, train_loss_step=463, train_loss_epoch=506]"
     ]
    },
    {
     "name": "stdout",
     "output_type": "stream",
     "text": [
      "\r",
      "Epoch 18/1000:   2%|▏         | 17/1000 [01:00<1:03:37,  3.88s/it, v_num=joqq, train_loss_step=463, train_loss_epoch=506]"
     ]
    },
    {
     "name": "stdout",
     "output_type": "stream",
     "text": [
      "\r",
      "Epoch 18/1000:   2%|▏         | 18/1000 [01:04<1:02:46,  3.84s/it, v_num=joqq, train_loss_step=463, train_loss_epoch=506]"
     ]
    },
    {
     "name": "stdout",
     "output_type": "stream",
     "text": [
      "\r",
      "Epoch 18/1000:   2%|▏         | 18/1000 [01:04<1:02:46,  3.84s/it, v_num=joqq, train_loss_step=519, train_loss_epoch=505]"
     ]
    },
    {
     "name": "stdout",
     "output_type": "stream",
     "text": [
      "\r",
      "Epoch 19/1000:   2%|▏         | 18/1000 [01:04<1:02:46,  3.84s/it, v_num=joqq, train_loss_step=519, train_loss_epoch=505]"
     ]
    },
    {
     "name": "stdout",
     "output_type": "stream",
     "text": [
      "\r",
      "Epoch 19/1000:   2%|▏         | 19/1000 [01:06<57:30,  3.52s/it, v_num=joqq, train_loss_step=519, train_loss_epoch=505]  "
     ]
    },
    {
     "name": "stdout",
     "output_type": "stream",
     "text": [
      "\r",
      "Epoch 19/1000:   2%|▏         | 19/1000 [01:06<57:30,  3.52s/it, v_num=joqq, train_loss_step=436, train_loss_epoch=505]"
     ]
    },
    {
     "name": "stdout",
     "output_type": "stream",
     "text": [
      "\r",
      "Epoch 20/1000:   2%|▏         | 19/1000 [01:06<57:30,  3.52s/it, v_num=joqq, train_loss_step=436, train_loss_epoch=505]"
     ]
    },
    {
     "name": "stdout",
     "output_type": "stream",
     "text": [
      "\r",
      "Epoch 20/1000:   2%|▏         | 20/1000 [01:09<53:48,  3.29s/it, v_num=joqq, train_loss_step=436, train_loss_epoch=505]"
     ]
    },
    {
     "name": "stdout",
     "output_type": "stream",
     "text": [
      "\r",
      "Epoch 20/1000:   2%|▏         | 20/1000 [01:09<53:48,  3.29s/it, v_num=joqq, train_loss_step=493, train_loss_epoch=505]"
     ]
    },
    {
     "name": "stdout",
     "output_type": "stream",
     "text": [
      "\r",
      "Epoch 21/1000:   2%|▏         | 20/1000 [01:09<53:48,  3.29s/it, v_num=joqq, train_loss_step=493, train_loss_epoch=505]"
     ]
    },
    {
     "name": "stdout",
     "output_type": "stream",
     "text": [
      "\r",
      "Epoch 21/1000:   2%|▏         | 21/1000 [01:12<51:14,  3.14s/it, v_num=joqq, train_loss_step=493, train_loss_epoch=505]"
     ]
    },
    {
     "name": "stdout",
     "output_type": "stream",
     "text": [
      "\r",
      "Epoch 21/1000:   2%|▏         | 21/1000 [01:12<51:14,  3.14s/it, v_num=joqq, train_loss_step=509, train_loss_epoch=504]"
     ]
    },
    {
     "name": "stdout",
     "output_type": "stream",
     "text": [
      "\r",
      "Epoch 22/1000:   2%|▏         | 21/1000 [01:12<51:14,  3.14s/it, v_num=joqq, train_loss_step=509, train_loss_epoch=504]"
     ]
    },
    {
     "name": "stdout",
     "output_type": "stream",
     "text": [
      "\r",
      "Epoch 22/1000:   2%|▏         | 22/1000 [01:15<50:29,  3.10s/it, v_num=joqq, train_loss_step=509, train_loss_epoch=504]"
     ]
    },
    {
     "name": "stdout",
     "output_type": "stream",
     "text": [
      "\r",
      "Epoch 22/1000:   2%|▏         | 22/1000 [01:15<50:29,  3.10s/it, v_num=joqq, train_loss_step=468, train_loss_epoch=504]"
     ]
    },
    {
     "name": "stdout",
     "output_type": "stream",
     "text": [
      "\r",
      "Epoch 23/1000:   2%|▏         | 22/1000 [01:15<50:29,  3.10s/it, v_num=joqq, train_loss_step=468, train_loss_epoch=504]"
     ]
    },
    {
     "name": "stdout",
     "output_type": "stream",
     "text": [
      "\r",
      "Epoch 23/1000:   2%|▏         | 23/1000 [01:18<51:32,  3.17s/it, v_num=joqq, train_loss_step=468, train_loss_epoch=504]"
     ]
    },
    {
     "name": "stdout",
     "output_type": "stream",
     "text": [
      "\r",
      "Epoch 23/1000:   2%|▏         | 23/1000 [01:18<51:32,  3.17s/it, v_num=joqq, train_loss_step=489, train_loss_epoch=504]"
     ]
    },
    {
     "name": "stdout",
     "output_type": "stream",
     "text": [
      "\r",
      "Epoch 23/1000:   2%|▏         | 23/1000 [01:18<55:50,  3.43s/it, v_num=joqq, train_loss_step=489, train_loss_epoch=504]"
     ]
    },
    {
     "name": "stdout",
     "output_type": "stream",
     "text": [
      "\n",
      "Monitored metric reconstruction_loss_validation did not improve in the last 10 records. Best score: 513.046. Signaling Trainer to stop.\n"
     ]
    }
   ],
   "source": [
    "model.train(logger=logger, plan_kwargs = plan_kwargs, **trainer_kwargs)"
   ]
  },
  {
   "cell_type": "code",
   "execution_count": 15,
   "id": "c282f6eb-0ad1-40a5-81e6-1acda1545dad",
   "metadata": {
    "execution": {
     "iopub.execute_input": "2024-10-21T14:54:11.218432Z",
     "iopub.status.busy": "2024-10-21T14:54:11.218055Z",
     "iopub.status.idle": "2024-10-21T14:54:15.678429Z",
     "shell.execute_reply": "2024-10-21T14:54:15.676946Z"
    },
    "papermill": {
     "duration": 4.480224,
     "end_time": "2024-10-21T14:54:15.681965",
     "exception": false,
     "start_time": "2024-10-21T14:54:11.201741",
     "status": "completed"
    },
    "tags": []
   },
   "outputs": [
    {
     "name": "stderr",
     "output_type": "stream",
     "text": [
      "\u001b[34m\u001b[1mwandb\u001b[0m: - 0.005 MB of 0.005 MB uploaded\r"
     ]
    },
    {
     "name": "stderr",
     "output_type": "stream",
     "text": [
      "\u001b[34m\u001b[1mwandb\u001b[0m: \\ 0.005 MB of 0.025 MB uploaded\r"
     ]
    },
    {
     "name": "stderr",
     "output_type": "stream",
     "text": [
      "\u001b[34m\u001b[1mwandb\u001b[0m: | 0.005 MB of 0.025 MB uploaded\r"
     ]
    },
    {
     "name": "stderr",
     "output_type": "stream",
     "text": [
      "\u001b[34m\u001b[1mwandb\u001b[0m: / 0.025 MB of 0.025 MB uploaded\r"
     ]
    },
    {
     "name": "stderr",
     "output_type": "stream",
     "text": [
      "\u001b[34m\u001b[1mwandb\u001b[0m:                                                                                \n"
     ]
    },
    {
     "name": "stderr",
     "output_type": "stream",
     "text": [
      "\u001b[34m\u001b[1mwandb\u001b[0m: \n",
      "\u001b[34m\u001b[1mwandb\u001b[0m: Run history:\n",
      "\u001b[34m\u001b[1mwandb\u001b[0m:                     elbo_train █▇▆▅▅▄▃▃▃▃▂▂▂▂▂▂▂▁▁▁▁▁▁\n",
      "\u001b[34m\u001b[1mwandb\u001b[0m:                elbo_validation ▇█▆▅▄▃▃▃▂▂▂▁▁▁▁▁▁▁▁▁▁▁▁\n",
      "\u001b[34m\u001b[1mwandb\u001b[0m:                          epoch ▁▁▁▁▂▂▂▂▂▃▃▃▃▃▄▄▄▄▄▅▅▅▅▅▅▅▆▆▆▆▆▇▇▇▇▇████\n",
      "\u001b[34m\u001b[1mwandb\u001b[0m:                kl_global_train ▁▁▁▁▁▁▁▁▁▁▁▁▁▁▁▁▁▁▁▁▁▁▁\n",
      "\u001b[34m\u001b[1mwandb\u001b[0m:           kl_global_validation ▁▁▁▁▁▁▁▁▁▁▁▁▁▁▁▁▁▁▁▁▁▁▁\n",
      "\u001b[34m\u001b[1mwandb\u001b[0m:                 kl_local_train ▂█▇▆▅▄▃▃▃▂▂▂▂▂▂▂▂▁▁▁▁▁▁\n",
      "\u001b[34m\u001b[1mwandb\u001b[0m:            kl_local_validation ▅█▆▅▄▄▃▃▃▃▂▂▂▂▂▂▂▂▁▁▁▁▁\n",
      "\u001b[34m\u001b[1mwandb\u001b[0m:                      kl_weight ▁▁▁▁▂▂▂▂▂▃▃▃▃▃▄▄▄▄▄▅▅▅▅▅▅▅▆▆▆▆▆▇▇▇▇▇████\n",
      "\u001b[34m\u001b[1mwandb\u001b[0m:      reconstruction_loss_train █▅▄▄▃▃▃▃▂▂▂▂▂▂▂▁▁▁▁▁▁▁▁\n",
      "\u001b[34m\u001b[1mwandb\u001b[0m: reconstruction_loss_validation █▅▄▃▃▂▂▂▁▁▁▁▁▁▁▁▁▁▁▁▁▁▁\n",
      "\u001b[34m\u001b[1mwandb\u001b[0m:               train_loss_epoch █▅▄▄▃▃▃▂▂▂▂▂▂▂▁▁▁▁▁▁▁▁▁\n",
      "\u001b[34m\u001b[1mwandb\u001b[0m:                train_loss_step █▇▅▆▆▆▆▆▅▆▆▇▇▄▄▃▃▄▄▃▃▂▄▄▃▅▄▅▄▄▅▄▁▃▄▄▅▄▄▁\n",
      "\u001b[34m\u001b[1mwandb\u001b[0m:            trainer/global_step ▁▁▁▂▂▂▂▂▂▃▃▃▃▃▄▄▄▄▄▄▅▅▅▅▅▅▆▆▆▆▆▇▇▇▇▇▇███\n",
      "\u001b[34m\u001b[1mwandb\u001b[0m:                validation_loss █▅▄▃▃▂▂▂▁▁▁▁▁▁▁▁▁▁▁▁▁▂▂\n",
      "\u001b[34m\u001b[1mwandb\u001b[0m: \n",
      "\u001b[34m\u001b[1mwandb\u001b[0m: Run summary:\n",
      "\u001b[34m\u001b[1mwandb\u001b[0m:                     elbo_train 528.48987\n",
      "\u001b[34m\u001b[1mwandb\u001b[0m:                elbo_validation 538.90204\n",
      "\u001b[34m\u001b[1mwandb\u001b[0m:                          epoch 22\n",
      "\u001b[34m\u001b[1mwandb\u001b[0m:                kl_global_train 0.0\n",
      "\u001b[34m\u001b[1mwandb\u001b[0m:           kl_global_validation 0.0\n",
      "\u001b[34m\u001b[1mwandb\u001b[0m:                 kl_local_train 26.17708\n",
      "\u001b[34m\u001b[1mwandb\u001b[0m:            kl_local_validation 25.03736\n",
      "\u001b[34m\u001b[1mwandb\u001b[0m:                      kl_weight 0.055\n",
      "\u001b[34m\u001b[1mwandb\u001b[0m:      reconstruction_loss_train 502.31277\n",
      "\u001b[34m\u001b[1mwandb\u001b[0m: reconstruction_loss_validation 513.86469\n",
      "\u001b[34m\u001b[1mwandb\u001b[0m:               train_loss_epoch 503.75238\n",
      "\u001b[34m\u001b[1mwandb\u001b[0m:                train_loss_step 505.24329\n",
      "\u001b[34m\u001b[1mwandb\u001b[0m:            trainer/global_step 9245\n",
      "\u001b[34m\u001b[1mwandb\u001b[0m:                validation_loss 515.24182\n",
      "\u001b[34m\u001b[1mwandb\u001b[0m: \n"
     ]
    },
    {
     "name": "stderr",
     "output_type": "stream",
     "text": [
      "\u001b[34m\u001b[1mwandb\u001b[0m: 🚀 View run \u001b[33mStep3_ILC\u001b[0m at: \u001b[34m\u001b[4mhttps://wandb.ai/inflammation/inflammation_atlas_R1/runs/3zotjoqq/workspace\u001b[0m\n",
      "\u001b[34m\u001b[1mwandb\u001b[0m: Synced 6 W&B file(s), 0 media file(s), 0 artifact file(s) and 0 other file(s)\n"
     ]
    },
    {
     "name": "stderr",
     "output_type": "stream",
     "text": [
      "\u001b[34m\u001b[1mwandb\u001b[0m: Find logs at: \u001b[35m\u001b[1m./wandb/run-20241021_145246-3zotjoqq/logs\u001b[0m\n"
     ]
    }
   ],
   "source": [
    "wandb.finish()"
   ]
  },
  {
   "cell_type": "markdown",
   "id": "d9fb1179-83c7-4ac6-b4aa-92dc7a349801",
   "metadata": {
    "papermill": {
     "duration": 0.012868,
     "end_time": "2024-10-21T14:54:15.718600",
     "exception": false,
     "start_time": "2024-10-21T14:54:15.705732",
     "status": "completed"
    },
    "tags": []
   },
   "source": [
    "### Extracting embedding space"
   ]
  },
  {
   "cell_type": "code",
   "execution_count": 16,
   "id": "caaa5832-0123-4c59-8ec6-f46a75f7a14e",
   "metadata": {
    "execution": {
     "iopub.execute_input": "2024-10-21T14:54:15.750553Z",
     "iopub.status.busy": "2024-10-21T14:54:15.750014Z",
     "iopub.status.idle": "2024-10-21T14:54:16.786626Z",
     "shell.execute_reply": "2024-10-21T14:54:16.785622Z"
    },
    "papermill": {
     "duration": 1.061488,
     "end_time": "2024-10-21T14:54:16.789745",
     "exception": false,
     "start_time": "2024-10-21T14:54:15.728257",
     "status": "completed"
    },
    "tags": []
   },
   "outputs": [],
   "source": [
    "adata.obsm['X_scVI'] = model.get_latent_representation()"
   ]
  },
  {
   "cell_type": "markdown",
   "id": "2f03e70b-839c-40a6-9fbb-d76bbd787419",
   "metadata": {
    "papermill": {
     "duration": 0.026658,
     "end_time": "2024-10-21T14:54:16.840740",
     "exception": false,
     "start_time": "2024-10-21T14:54:16.814082",
     "status": "completed"
    },
    "tags": []
   },
   "source": [
    "## Save the results"
   ]
  },
  {
   "cell_type": "code",
   "execution_count": 17,
   "id": "7b04049b-47fd-4b62-a1c0-c43dcc086d34",
   "metadata": {
    "execution": {
     "iopub.execute_input": "2024-10-21T14:54:16.868850Z",
     "iopub.status.busy": "2024-10-21T14:54:16.868629Z",
     "iopub.status.idle": "2024-10-21T14:54:20.623415Z",
     "shell.execute_reply": "2024-10-21T14:54:20.621748Z"
    },
    "papermill": {
     "duration": 3.769206,
     "end_time": "2024-10-21T14:54:20.627544",
     "exception": false,
     "start_time": "2024-10-21T14:54:16.858338",
     "status": "completed"
    },
    "tags": []
   },
   "outputs": [],
   "source": [
    "if overwriteData:\n",
    "    adata.write(here(f\"{workDir}/{cellGroup}/results/02_{annotationLevel}_{cellGroup}_HVGsubset_scVI.h5ad\"), compression=\"gzip\")\n",
    "    model.save(here(f\"{workDir}/{cellGroup}/results/02_{annotationLevel}_{cellGroup}_HVGsubset_scVI_MODEL/\"),\n",
    "               overwrite = True, \n",
    "               save_anndata = False )   "
   ]
  },
  {
   "cell_type": "code",
   "execution_count": 18,
   "id": "629ba2bd-f6be-44ef-8fca-bbdf891bf25f",
   "metadata": {
    "execution": {
     "iopub.execute_input": "2024-10-21T14:54:20.664264Z",
     "iopub.status.busy": "2024-10-21T14:54:20.663683Z",
     "iopub.status.idle": "2024-10-21T14:54:20.669757Z",
     "shell.execute_reply": "2024-10-21T14:54:20.668535Z"
    },
    "papermill": {
     "duration": 0.023339,
     "end_time": "2024-10-21T14:54:20.672893",
     "exception": false,
     "start_time": "2024-10-21T14:54:20.649554",
     "status": "completed"
    },
    "tags": []
   },
   "outputs": [],
   "source": [
    "# To load the model do (after loading corresponding adata):\n",
    "# model = scvi.model.SCVI.load(here('{}/results/01_{}_HVGsubset_scVI_MODEL/'.format(workDir, cellGroup)), \n",
    "#                              adata, \n",
    "#                              use_gpu=True)"
   ]
  },
  {
   "cell_type": "raw",
   "id": "975e84d0-f56b-498d-b3a8-c9219cf22e53",
   "metadata": {
    "papermill": {
     "duration": 0.014063,
     "end_time": "2024-10-21T14:54:20.707841",
     "exception": false,
     "start_time": "2024-10-21T14:54:20.693778",
     "status": "completed"
    },
    "tags": []
   },
   "source": [
    "session_info.show()"
   ]
  }
 ],
 "metadata": {
  "kernelspec": {
   "display_name": "Python 3 (ipykernel)",
   "language": "python",
   "name": "python3"
  },
  "language_info": {
   "codemirror_mode": {
    "name": "ipython",
    "version": 3
   },
   "file_extension": ".py",
   "mimetype": "text/x-python",
   "name": "python",
   "nbconvert_exporter": "python",
   "pygments_lexer": "ipython3",
   "version": "3.9.19"
  },
  "papermill": {
   "default_parameters": {},
   "duration": 106.233923,
   "end_time": "2024-10-21T14:54:24.406209",
   "environment_variables": {},
   "exception": null,
   "input_path": "ILC/02_integration_scVI.ipynb",
   "output_path": "ILC/02_integration_scVI.executed.ipynb",
   "parameters": {},
   "start_time": "2024-10-21T14:52:38.172286",
   "version": "2.5.0"
  }
 },
 "nbformat": 4,
 "nbformat_minor": 5
}