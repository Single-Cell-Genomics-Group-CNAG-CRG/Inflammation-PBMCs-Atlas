{
 "cells": [
  {
   "cell_type": "code",
   "execution_count": 1,
   "id": "2dd1425a-0c07-465e-b522-9e3cc5cb93a7",
   "metadata": {
    "execution": {
     "iopub.execute_input": "2024-10-21T14:54:26.529581Z",
     "iopub.status.busy": "2024-10-21T14:54:26.529090Z",
     "iopub.status.idle": "2024-10-21T14:54:30.167128Z",
     "shell.execute_reply": "2024-10-21T14:54:30.166350Z"
    },
    "papermill": {
     "duration": 3.658154,
     "end_time": "2024-10-21T14:54:30.170621",
     "exception": false,
     "start_time": "2024-10-21T14:54:26.512467",
     "status": "completed"
    },
    "tags": []
   },
   "outputs": [
    {
     "name": "stderr",
     "output_type": "stream",
     "text": [
      "/home/dmaspero/miniconda3/envs/scarches/lib/python3.9/site-packages/tqdm/auto.py:21: TqdmWarning: IProgress not found. Please update jupyter and ipywidgets. See https://ipywidgets.readthedocs.io/en/stable/user_install.html\n",
      "  from .autonotebook import tqdm as notebook_tqdm\n"
     ]
    },
    {
     "data": {
      "text/plain": [
       "True"
      ]
     },
     "execution_count": 1,
     "metadata": {},
     "output_type": "execute_result"
    }
   ],
   "source": [
    "import os\n",
    "import sys\n",
    "\n",
    "import numpy as np\n",
    "import matplotlib.pyplot as plt\n",
    "\n",
    "import scanpy as sc\n",
    "import scvi\n",
    "import torch\n",
    "\n",
    "from pytorch_lightning.loggers import WandbLogger\n",
    "import wandb\n",
    "from dotenv import load_dotenv\n",
    "\n",
    "import session_info\n",
    "import warnings\n",
    "from pyprojroot.here import here\n",
    "\n",
    "warnings.filterwarnings(\"ignore\")\n",
    "sys.path.insert(1, str(here('bin')))\n",
    "\n",
    "torch.set_float32_matmul_precision('high')\n",
    "\n",
    "#plt.style.use(['science','nature','no-latex'])\n",
    "dpi_fig_save = 300\n",
    "sc.set_figure_params(dpi=100, dpi_save=dpi_fig_save, vector_friendly=True)\n",
    "\n",
    "load_dotenv(here('.env'))"
   ]
  },
  {
   "cell_type": "code",
   "execution_count": 2,
   "id": "09c897fc-744b-43de-a681-718fb5d327fa",
   "metadata": {
    "execution": {
     "iopub.execute_input": "2024-10-21T14:54:30.200706Z",
     "iopub.status.busy": "2024-10-21T14:54:30.199740Z",
     "iopub.status.idle": "2024-10-21T14:54:30.206973Z",
     "shell.execute_reply": "2024-10-21T14:54:30.205675Z"
    },
    "papermill": {
     "duration": 0.026336,
     "end_time": "2024-10-21T14:54:30.209838",
     "exception": false,
     "start_time": "2024-10-21T14:54:30.183502",
     "status": "completed"
    },
    "tags": []
   },
   "outputs": [],
   "source": [
    "class CustomWandbLogger(WandbLogger):\n",
    "    @property\n",
    "    def save_dir(self):\n",
    "        return self.experiment.dir"
   ]
  },
  {
   "cell_type": "code",
   "execution_count": 3,
   "id": "8ee6662f-5d45-4137-80a5-bb0b9ae8d71f",
   "metadata": {
    "execution": {
     "iopub.execute_input": "2024-10-21T14:54:30.235545Z",
     "iopub.status.busy": "2024-10-21T14:54:30.234525Z",
     "iopub.status.idle": "2024-10-21T14:54:30.246032Z",
     "shell.execute_reply": "2024-10-21T14:54:30.244770Z"
    },
    "papermill": {
     "duration": 0.026886,
     "end_time": "2024-10-21T14:54:30.249189",
     "exception": false,
     "start_time": "2024-10-21T14:54:30.222303",
     "status": "completed"
    },
    "tags": []
   },
   "outputs": [
    {
     "name": "stderr",
     "output_type": "stream",
     "text": [
      "Seed set to 0\n"
     ]
    },
    {
     "name": "stdout",
     "output_type": "stream",
     "text": [
      "Last run with scvi-tools version: 1.1.2\n"
     ]
    }
   ],
   "source": [
    "scvi.settings.seed = 0\n",
    "print(\"Last run with scvi-tools version:\", scvi.__version__)"
   ]
  },
  {
   "cell_type": "markdown",
   "id": "a81037ff-5998-482a-ba86-520f757311a9",
   "metadata": {
    "papermill": {
     "duration": 0.009843,
     "end_time": "2024-10-21T14:54:30.271695",
     "exception": false,
     "start_time": "2024-10-21T14:54:30.261852",
     "status": "completed"
    },
    "tags": []
   },
   "source": [
    "**Setting parameters** "
   ]
  },
  {
   "cell_type": "code",
   "execution_count": 4,
   "id": "56c27966-8f10-4c93-8b1a-1fa75f005e41",
   "metadata": {
    "execution": {
     "iopub.execute_input": "2024-10-21T14:54:30.324535Z",
     "iopub.status.busy": "2024-10-21T14:54:30.323454Z",
     "iopub.status.idle": "2024-10-21T14:54:30.329696Z",
     "shell.execute_reply": "2024-10-21T14:54:30.328326Z"
    },
    "papermill": {
     "duration": 0.051249,
     "end_time": "2024-10-21T14:54:30.332949",
     "exception": false,
     "start_time": "2024-10-21T14:54:30.281700",
     "status": "completed"
    },
    "tags": []
   },
   "outputs": [],
   "source": [
    "overwriteFigures = True\n",
    "overwriteData = True"
   ]
  },
  {
   "cell_type": "code",
   "execution_count": 5,
   "id": "c86fccd3-a4fe-415b-8f4e-e2ceb3ec128a",
   "metadata": {
    "execution": {
     "iopub.execute_input": "2024-10-21T14:54:30.357589Z",
     "iopub.status.busy": "2024-10-21T14:54:30.357083Z",
     "iopub.status.idle": "2024-10-21T14:54:30.362588Z",
     "shell.execute_reply": "2024-10-21T14:54:30.361544Z"
    },
    "papermill": {
     "duration": 0.020985,
     "end_time": "2024-10-21T14:54:30.365719",
     "exception": false,
     "start_time": "2024-10-21T14:54:30.344734",
     "status": "completed"
    },
    "tags": []
   },
   "outputs": [],
   "source": [
    "cellGroup = 'T_CD4_Naive'\n",
    "workDir = os.getcwd()"
   ]
  },
  {
   "cell_type": "code",
   "execution_count": 6,
   "id": "2dee4d55-d168-467b-b867-a61fed9d6af1",
   "metadata": {
    "execution": {
     "iopub.execute_input": "2024-10-21T14:54:30.392305Z",
     "iopub.status.busy": "2024-10-21T14:54:30.391791Z",
     "iopub.status.idle": "2024-10-21T14:54:30.397907Z",
     "shell.execute_reply": "2024-10-21T14:54:30.396777Z"
    },
    "papermill": {
     "duration": 0.023174,
     "end_time": "2024-10-21T14:54:30.401129",
     "exception": false,
     "start_time": "2024-10-21T14:54:30.377955",
     "status": "completed"
    },
    "tags": []
   },
   "outputs": [],
   "source": [
    "annotationLevel = os.path.basename(os.path.normpath(workDir))"
   ]
  },
  {
   "cell_type": "code",
   "execution_count": 7,
   "id": "11e53cd5-b746-4152-89cb-c2f0c15d90b3",
   "metadata": {
    "execution": {
     "iopub.execute_input": "2024-10-21T14:54:30.427477Z",
     "iopub.status.busy": "2024-10-21T14:54:30.426968Z",
     "iopub.status.idle": "2024-10-21T14:54:30.434943Z",
     "shell.execute_reply": "2024-10-21T14:54:30.433842Z"
    },
    "papermill": {
     "duration": 0.024944,
     "end_time": "2024-10-21T14:54:30.438209",
     "exception": false,
     "start_time": "2024-10-21T14:54:30.413265",
     "status": "completed"
    },
    "tags": []
   },
   "outputs": [
    {
     "data": {
      "text/plain": [
       "'/scratch_isilon/groups/singlecell/shared/projects/Inflammation-PBMCs-Atlas/02_cell_annotation/SCGT00_CentralizedDataset/02_fromCellLineages_to_CellTypes/Step3'"
      ]
     },
     "execution_count": 7,
     "metadata": {},
     "output_type": "execute_result"
    }
   ],
   "source": [
    "workDir"
   ]
  },
  {
   "cell_type": "markdown",
   "id": "171d2f06-9a44-4fcb-b437-35dc546674b6",
   "metadata": {
    "papermill": {
     "duration": 0.012407,
     "end_time": "2024-10-21T14:54:30.462660",
     "exception": false,
     "start_time": "2024-10-21T14:54:30.450253",
     "status": "completed"
    },
    "tags": []
   },
   "source": [
    "**Load data**"
   ]
  },
  {
   "cell_type": "code",
   "execution_count": 8,
   "id": "429f34fe-dde6-4cc9-9f75-7de8f85c5ffe",
   "metadata": {
    "execution": {
     "iopub.execute_input": "2024-10-21T14:54:30.485183Z",
     "iopub.status.busy": "2024-10-21T14:54:30.484691Z",
     "iopub.status.idle": "2024-10-21T14:54:35.096433Z",
     "shell.execute_reply": "2024-10-21T14:54:35.095720Z"
    },
    "papermill": {
     "duration": 4.62647,
     "end_time": "2024-10-21T14:54:35.099794",
     "exception": false,
     "start_time": "2024-10-21T14:54:30.473324",
     "status": "completed"
    },
    "tags": []
   },
   "outputs": [
    {
     "data": {
      "text/plain": [
       "AnnData object with n_obs × n_vars = 126306 × 1968\n",
       "    obs: 'studyID', 'libraryID', 'sampleID', 'chemistry', 'technology', 'patientID', 'disease', 'timepoint_replicate', 'treatmentStatus', 'therapyResponse', 'sex', 'age', 'BMI', 'binned_age', 'diseaseStatus', 'smokingStatus', 'ethnicity', 'institute', 'diseaseGroup', 'batches', 'n_genes_by_counts', 'log1p_n_genes_by_counts', 'total_counts', 'log1p_total_counts', 'pct_counts_in_top_20_genes', 'total_counts_mt', 'log1p_total_counts_mt', 'pct_counts_mt', 'total_counts_ribo', 'log1p_total_counts_ribo', 'pct_counts_ribo', 'total_counts_hb', 'log1p_total_counts_hb', 'pct_counts_hb', 'total_counts_plt', 'log1p_total_counts_plt', 'pct_counts_plt', 'S_score', 'G2M_score', 'phase'\n",
       "    var: 'hgnc_id', 'symbol', 'locus_group', 'HUGO_status', 'mt', 'ribo', 'hb', 'plt', 'n_cells_by_counts', 'mean_counts', 'log1p_mean_counts', 'pct_dropout_by_counts', 'total_counts', 'log1p_total_counts', 'highly_variable', 'means', 'dispersions', 'dispersions_norm', 'highly_variable_nbatches', 'highly_variable_intersection'\n",
       "    uns: 'disease_colors', 'hvg', 'log1p'\n",
       "    layers: 'counts', 'log1p_10e4_counts'"
      ]
     },
     "execution_count": 8,
     "metadata": {},
     "output_type": "execute_result"
    }
   ],
   "source": [
    "adata = sc.read_h5ad(here(f\"{workDir}/{cellGroup}/results/01_{cellGroup}_normalized_HVGsubset.h5ad\"))\n",
    "adata"
   ]
  },
  {
   "cell_type": "markdown",
   "id": "8ac79f3b-d5af-41fa-8904-1e9ac1cbe2fb",
   "metadata": {
    "papermill": {
     "duration": 0.010507,
     "end_time": "2024-10-21T14:54:35.123339",
     "exception": false,
     "start_time": "2024-10-21T14:54:35.112832",
     "status": "completed"
    },
    "tags": []
   },
   "source": [
    "## scVI integration"
   ]
  },
  {
   "cell_type": "markdown",
   "id": "9544847d-d17f-4811-b14b-760446d54d32",
   "metadata": {
    "execution": {
     "iopub.execute_input": "2024-03-25T16:49:04.004504Z",
     "iopub.status.busy": "2024-03-25T16:49:04.004143Z",
     "iopub.status.idle": "2024-03-25T16:49:04.010148Z",
     "shell.execute_reply": "2024-03-25T16:49:04.009146Z",
     "shell.execute_reply.started": "2024-03-25T16:49:04.004477Z"
    },
    "papermill": {
     "duration": 0.010068,
     "end_time": "2024-10-21T14:54:35.145396",
     "exception": false,
     "start_time": "2024-10-21T14:54:35.135328",
     "status": "completed"
    },
    "tags": []
   },
   "source": [
    "**scVI parameters**"
   ]
  },
  {
   "cell_type": "code",
   "execution_count": 9,
   "id": "208966eb-545a-4c02-854c-0ed0487ef5b3",
   "metadata": {
    "execution": {
     "iopub.execute_input": "2024-10-21T14:54:35.166224Z",
     "iopub.status.busy": "2024-10-21T14:54:35.165697Z",
     "iopub.status.idle": "2024-10-21T14:54:35.175810Z",
     "shell.execute_reply": "2024-10-21T14:54:35.174694Z"
    },
    "papermill": {
     "duration": 0.02494,
     "end_time": "2024-10-21T14:54:35.178879",
     "exception": false,
     "start_time": "2024-10-21T14:54:35.153939",
     "status": "completed"
    },
    "tags": []
   },
   "outputs": [],
   "source": [
    "# https://docs.scvi-tools.org/en/stable/api/reference/scvi.train.Trainer.html#scvi.train.Trainer\n",
    "setup_kwargs = dict(\n",
    "    layer=\"counts\", \n",
    "    batch_key='libraryID', \n",
    "    categorical_covariate_keys = ['disease', 'sampleID'],\n",
    ")\n",
    "\n",
    "scvi_kwargs = dict(n_hidden=512,\n",
    "                   n_latent=10, # reduced to 20 after step 00 (main) and to 10 after step 03\n",
    "                   n_layers=2,\n",
    "                   gene_likelihood='nb')\n",
    "\n",
    "trainer_kwargs = dict(\n",
    "    checkpointing_monitor = 'elbo_validation',\n",
    "    early_stopping_monitor = 'reconstruction_loss_validation',\n",
    "    early_stopping_patience = 10,\n",
    "    early_stopping_min_delta=0.1,\n",
    "    early_stopping = True,\n",
    "    max_epochs = 1000,\n",
    "\n",
    "    #logger = # wandb\n",
    ")\n",
    "# https://docs.scvi-tools.org/en/stable/api/reference/scvi.train.TrainingPlan.html#scvi.train.TrainingPlan\n",
    "plan_kwargs = dict(\n",
    "    lr = 5e-4,\n",
    "    #reduce_lr_on_plateau = True\n",
    ")\n",
    "\n",
    "# https://docs.scvi-tools.org/en/stable/api/reference/scvi.module.VAE.html#scvi.module.VAE\n",
    "#vae = dict(\n",
    "#    use_layer_norm='both',\n",
    "#    use_batch_norm='none',\n",
    "#    encode_covariates=True,\n",
    "#    deeply_inject_covariates=False\n",
    "#)\n",
    "parameter_dict = setup_kwargs | scvi_kwargs | trainer_kwargs | plan_kwargs"
   ]
  },
  {
   "cell_type": "markdown",
   "id": "1362366a-c16b-4c11-964b-b9c5f82f7b29",
   "metadata": {
    "papermill": {
     "duration": 0.01229,
     "end_time": "2024-10-21T14:54:35.203845",
     "exception": false,
     "start_time": "2024-10-21T14:54:35.191555",
     "status": "completed"
    },
    "tags": []
   },
   "source": [
    "**wandb parameter**"
   ]
  },
  {
   "cell_type": "code",
   "execution_count": 10,
   "id": "0496e33a-8ca5-423f-b42f-34a59760708c",
   "metadata": {
    "execution": {
     "iopub.execute_input": "2024-10-21T14:54:35.228953Z",
     "iopub.status.busy": "2024-10-21T14:54:35.228465Z",
     "iopub.status.idle": "2024-10-21T14:54:35.236777Z",
     "shell.execute_reply": "2024-10-21T14:54:35.235485Z"
    },
    "papermill": {
     "duration": 0.024007,
     "end_time": "2024-10-21T14:54:35.239858",
     "exception": false,
     "start_time": "2024-10-21T14:54:35.215851",
     "status": "completed"
    },
    "tags": []
   },
   "outputs": [
    {
     "data": {
      "text/plain": [
       "'Step3_T_CD4_Naive'"
      ]
     },
     "execution_count": 10,
     "metadata": {},
     "output_type": "execute_result"
    }
   ],
   "source": [
    "run_name = f\"{annotationLevel}_{cellGroup}\"\n",
    "run_name"
   ]
  },
  {
   "cell_type": "code",
   "execution_count": 11,
   "id": "b0021327-95a2-4002-bf32-2c5779a99505",
   "metadata": {
    "execution": {
     "iopub.execute_input": "2024-10-21T14:54:35.264173Z",
     "iopub.status.busy": "2024-10-21T14:54:35.263688Z",
     "iopub.status.idle": "2024-10-21T14:54:35.326020Z",
     "shell.execute_reply": "2024-10-21T14:54:35.324860Z"
    },
    "papermill": {
     "duration": 0.077157,
     "end_time": "2024-10-21T14:54:35.329040",
     "exception": false,
     "start_time": "2024-10-21T14:54:35.251883",
     "status": "completed"
    },
    "tags": []
   },
   "outputs": [],
   "source": [
    "logger = CustomWandbLogger(name = run_name, project='inflammation_atlas_R1', config=parameter_dict)"
   ]
  },
  {
   "cell_type": "markdown",
   "id": "c237eee1-a976-4915-9b7f-b014bf33f47d",
   "metadata": {
    "papermill": {
     "duration": 0.011243,
     "end_time": "2024-10-21T14:54:35.353388",
     "exception": false,
     "start_time": "2024-10-21T14:54:35.342145",
     "status": "completed"
    },
    "tags": []
   },
   "source": [
    "**Running integration**"
   ]
  },
  {
   "cell_type": "code",
   "execution_count": 12,
   "id": "aff97c53-1aba-462e-8a77-f1aec9cf724c",
   "metadata": {
    "execution": {
     "iopub.execute_input": "2024-10-21T14:54:35.376129Z",
     "iopub.status.busy": "2024-10-21T14:54:35.375622Z",
     "iopub.status.idle": "2024-10-21T14:54:35.518408Z",
     "shell.execute_reply": "2024-10-21T14:54:35.516978Z"
    },
    "papermill": {
     "duration": 0.157748,
     "end_time": "2024-10-21T14:54:35.521830",
     "exception": false,
     "start_time": "2024-10-21T14:54:35.364082",
     "status": "completed"
    },
    "tags": []
   },
   "outputs": [
    {
     "name": "stderr",
     "output_type": "stream",
     "text": [
      "CUDA backend failed to initialize: Unable to use CUDA because of the following issues with CUDA components:\n",
      "Outdated cuSPARSE installation found.\n",
      "Version JAX was built against: 12200\n",
      "Minimum supported: 12100\n",
      "Installed version: 12002\n",
      "The local installation version must be no lower than 12100. (Set TF_CPP_MIN_LOG_LEVEL=0 and rerun for more info.)\n"
     ]
    }
   ],
   "source": [
    "scvi.model.SCVI.setup_anndata(adata, \n",
    "                              **setup_kwargs)"
   ]
  },
  {
   "cell_type": "code",
   "execution_count": 13,
   "id": "1a56f448-cf44-47c1-81a4-a89caa930fec",
   "metadata": {
    "execution": {
     "iopub.execute_input": "2024-10-21T14:54:35.546440Z",
     "iopub.status.busy": "2024-10-21T14:54:35.545900Z",
     "iopub.status.idle": "2024-10-21T14:54:35.682681Z",
     "shell.execute_reply": "2024-10-21T14:54:35.681692Z"
    },
    "papermill": {
     "duration": 0.150632,
     "end_time": "2024-10-21T14:54:35.685985",
     "exception": false,
     "start_time": "2024-10-21T14:54:35.535353",
     "status": "completed"
    },
    "tags": []
   },
   "outputs": [],
   "source": [
    "model = scvi.model.SCVI(adata, **scvi_kwargs)"
   ]
  },
  {
   "cell_type": "code",
   "execution_count": 14,
   "id": "2735f010-4f24-4ae8-9740-a8cfeb335e9a",
   "metadata": {
    "execution": {
     "iopub.execute_input": "2024-10-21T14:54:35.715156Z",
     "iopub.status.busy": "2024-10-21T14:54:35.714638Z",
     "iopub.status.idle": "2024-10-21T14:58:16.722755Z",
     "shell.execute_reply": "2024-10-21T14:58:16.721908Z"
    },
    "papermill": {
     "duration": 221.026341,
     "end_time": "2024-10-21T14:58:16.725592",
     "exception": false,
     "start_time": "2024-10-21T14:54:35.699251",
     "status": "completed"
    },
    "tags": []
   },
   "outputs": [
    {
     "name": "stderr",
     "output_type": "stream",
     "text": [
      "GPU available: True (cuda), used: True\n"
     ]
    },
    {
     "name": "stderr",
     "output_type": "stream",
     "text": [
      "TPU available: False, using: 0 TPU cores\n"
     ]
    },
    {
     "name": "stderr",
     "output_type": "stream",
     "text": [
      "IPU available: False, using: 0 IPUs\n"
     ]
    },
    {
     "name": "stderr",
     "output_type": "stream",
     "text": [
      "HPU available: False, using: 0 HPUs\n"
     ]
    },
    {
     "name": "stderr",
     "output_type": "stream",
     "text": [
      "\u001b[34m\u001b[1mwandb\u001b[0m: Currently logged in as: \u001b[33mdav1989\u001b[0m (\u001b[33minflammation\u001b[0m). Use \u001b[1m`wandb login --relogin`\u001b[0m to force relogin\n"
     ]
    },
    {
     "name": "stderr",
     "output_type": "stream",
     "text": [
      "\u001b[34m\u001b[1mwandb\u001b[0m: wandb version 0.18.5 is available!  To upgrade, please run:\n",
      "\u001b[34m\u001b[1mwandb\u001b[0m:  $ pip install wandb --upgrade\n"
     ]
    },
    {
     "name": "stderr",
     "output_type": "stream",
     "text": [
      "\u001b[34m\u001b[1mwandb\u001b[0m: Tracking run with wandb version 0.16.5\n"
     ]
    },
    {
     "name": "stderr",
     "output_type": "stream",
     "text": [
      "\u001b[34m\u001b[1mwandb\u001b[0m: Run data is saved locally in \u001b[35m\u001b[1m./wandb/run-20241021_145438-3izltzzu\u001b[0m\n",
      "\u001b[34m\u001b[1mwandb\u001b[0m: Run \u001b[1m`wandb offline`\u001b[0m to turn off syncing.\n"
     ]
    },
    {
     "name": "stderr",
     "output_type": "stream",
     "text": [
      "\u001b[34m\u001b[1mwandb\u001b[0m: Syncing run \u001b[33mStep3_T_CD4_Naive\u001b[0m\n"
     ]
    },
    {
     "name": "stderr",
     "output_type": "stream",
     "text": [
      "\u001b[34m\u001b[1mwandb\u001b[0m: ⭐️ View project at \u001b[34m\u001b[4mhttps://wandb.ai/inflammation/inflammation_atlas_R1\u001b[0m\n"
     ]
    },
    {
     "name": "stderr",
     "output_type": "stream",
     "text": [
      "\u001b[34m\u001b[1mwandb\u001b[0m: 🚀 View run at \u001b[34m\u001b[4mhttps://wandb.ai/inflammation/inflammation_atlas_R1/runs/3izltzzu/workspace\u001b[0m\n"
     ]
    },
    {
     "name": "stderr",
     "output_type": "stream",
     "text": [
      "LOCAL_RANK: 0 - CUDA_VISIBLE_DEVICES: [0]\n"
     ]
    },
    {
     "name": "stdout",
     "output_type": "stream",
     "text": [
      "\r",
      "Training:   0%|          | 0/1000 [00:00<?, ?it/s]"
     ]
    },
    {
     "name": "stdout",
     "output_type": "stream",
     "text": [
      "\r",
      "Epoch 1/1000:   0%|          | 0/1000 [00:00<?, ?it/s]"
     ]
    },
    {
     "name": "stdout",
     "output_type": "stream",
     "text": [
      "\r",
      "Epoch 1/1000:   0%|          | 1/1000 [00:11<3:19:10, 11.96s/it]"
     ]
    },
    {
     "name": "stdout",
     "output_type": "stream",
     "text": [
      "\r",
      "Epoch 1/1000:   0%|          | 1/1000 [00:11<3:19:10, 11.96s/it, v_num=tzzu, train_loss_step=702, train_loss_epoch=672]"
     ]
    },
    {
     "name": "stdout",
     "output_type": "stream",
     "text": [
      "\r",
      "Epoch 2/1000:   0%|          | 1/1000 [00:11<3:19:10, 11.96s/it, v_num=tzzu, train_loss_step=702, train_loss_epoch=672]"
     ]
    },
    {
     "name": "stdout",
     "output_type": "stream",
     "text": [
      "\r",
      "Epoch 2/1000:   0%|          | 2/1000 [00:21<2:54:40, 10.50s/it, v_num=tzzu, train_loss_step=702, train_loss_epoch=672]"
     ]
    },
    {
     "name": "stdout",
     "output_type": "stream",
     "text": [
      "\r",
      "Epoch 2/1000:   0%|          | 2/1000 [00:21<2:54:40, 10.50s/it, v_num=tzzu, train_loss_step=718, train_loss_epoch=658]"
     ]
    },
    {
     "name": "stdout",
     "output_type": "stream",
     "text": [
      "\r",
      "Epoch 3/1000:   0%|          | 2/1000 [00:21<2:54:40, 10.50s/it, v_num=tzzu, train_loss_step=718, train_loss_epoch=658]"
     ]
    },
    {
     "name": "stdout",
     "output_type": "stream",
     "text": [
      "\r",
      "Epoch 3/1000:   0%|          | 3/1000 [00:32<2:57:31, 10.68s/it, v_num=tzzu, train_loss_step=718, train_loss_epoch=658]"
     ]
    },
    {
     "name": "stdout",
     "output_type": "stream",
     "text": [
      "\r",
      "Epoch 3/1000:   0%|          | 3/1000 [00:32<2:57:31, 10.68s/it, v_num=tzzu, train_loss_step=682, train_loss_epoch=654]"
     ]
    },
    {
     "name": "stdout",
     "output_type": "stream",
     "text": [
      "\r",
      "Epoch 4/1000:   0%|          | 3/1000 [00:32<2:57:31, 10.68s/it, v_num=tzzu, train_loss_step=682, train_loss_epoch=654]"
     ]
    },
    {
     "name": "stdout",
     "output_type": "stream",
     "text": [
      "\r",
      "Epoch 4/1000:   0%|          | 4/1000 [00:44<3:03:54, 11.08s/it, v_num=tzzu, train_loss_step=682, train_loss_epoch=654]"
     ]
    },
    {
     "name": "stdout",
     "output_type": "stream",
     "text": [
      "\r",
      "Epoch 4/1000:   0%|          | 4/1000 [00:44<3:03:54, 11.08s/it, v_num=tzzu, train_loss_step=690, train_loss_epoch=651]"
     ]
    },
    {
     "name": "stdout",
     "output_type": "stream",
     "text": [
      "\r",
      "Epoch 5/1000:   0%|          | 4/1000 [00:44<3:03:54, 11.08s/it, v_num=tzzu, train_loss_step=690, train_loss_epoch=651]"
     ]
    },
    {
     "name": "stdout",
     "output_type": "stream",
     "text": [
      "\r",
      "Epoch 5/1000:   0%|          | 5/1000 [00:50<2:35:59,  9.41s/it, v_num=tzzu, train_loss_step=690, train_loss_epoch=651]"
     ]
    },
    {
     "name": "stdout",
     "output_type": "stream",
     "text": [
      "\r",
      "Epoch 5/1000:   0%|          | 5/1000 [00:50<2:35:59,  9.41s/it, v_num=tzzu, train_loss_step=651, train_loss_epoch=649]"
     ]
    },
    {
     "name": "stdout",
     "output_type": "stream",
     "text": [
      "\r",
      "Epoch 6/1000:   0%|          | 5/1000 [00:50<2:35:59,  9.41s/it, v_num=tzzu, train_loss_step=651, train_loss_epoch=649]"
     ]
    },
    {
     "name": "stdout",
     "output_type": "stream",
     "text": [
      "\r",
      "Epoch 6/1000:   1%|          | 6/1000 [01:02<2:48:24, 10.17s/it, v_num=tzzu, train_loss_step=651, train_loss_epoch=649]"
     ]
    },
    {
     "name": "stdout",
     "output_type": "stream",
     "text": [
      "\r",
      "Epoch 6/1000:   1%|          | 6/1000 [01:02<2:48:24, 10.17s/it, v_num=tzzu, train_loss_step=651, train_loss_epoch=648]"
     ]
    },
    {
     "name": "stdout",
     "output_type": "stream",
     "text": [
      "\r",
      "Epoch 7/1000:   1%|          | 6/1000 [01:02<2:48:24, 10.17s/it, v_num=tzzu, train_loss_step=651, train_loss_epoch=648]"
     ]
    },
    {
     "name": "stdout",
     "output_type": "stream",
     "text": [
      "\r",
      "Epoch 7/1000:   1%|          | 7/1000 [01:12<2:49:17, 10.23s/it, v_num=tzzu, train_loss_step=651, train_loss_epoch=648]"
     ]
    },
    {
     "name": "stdout",
     "output_type": "stream",
     "text": [
      "\r",
      "Epoch 7/1000:   1%|          | 7/1000 [01:12<2:49:17, 10.23s/it, v_num=tzzu, train_loss_step=677, train_loss_epoch=647]"
     ]
    },
    {
     "name": "stdout",
     "output_type": "stream",
     "text": [
      "\r",
      "Epoch 8/1000:   1%|          | 7/1000 [01:12<2:49:17, 10.23s/it, v_num=tzzu, train_loss_step=677, train_loss_epoch=647]"
     ]
    },
    {
     "name": "stdout",
     "output_type": "stream",
     "text": [
      "\r",
      "Epoch 8/1000:   1%|          | 8/1000 [01:19<2:31:52,  9.19s/it, v_num=tzzu, train_loss_step=677, train_loss_epoch=647]"
     ]
    },
    {
     "name": "stdout",
     "output_type": "stream",
     "text": [
      "\r",
      "Epoch 8/1000:   1%|          | 8/1000 [01:19<2:31:52,  9.19s/it, v_num=tzzu, train_loss_step=645, train_loss_epoch=646]"
     ]
    },
    {
     "name": "stdout",
     "output_type": "stream",
     "text": [
      "\r",
      "Epoch 9/1000:   1%|          | 8/1000 [01:19<2:31:52,  9.19s/it, v_num=tzzu, train_loss_step=645, train_loss_epoch=646]"
     ]
    },
    {
     "name": "stdout",
     "output_type": "stream",
     "text": [
      "\r",
      "Epoch 9/1000:   1%|          | 9/1000 [01:25<2:17:30,  8.33s/it, v_num=tzzu, train_loss_step=645, train_loss_epoch=646]"
     ]
    },
    {
     "name": "stdout",
     "output_type": "stream",
     "text": [
      "\r",
      "Epoch 9/1000:   1%|          | 9/1000 [01:25<2:17:30,  8.33s/it, v_num=tzzu, train_loss_step=656, train_loss_epoch=645]"
     ]
    },
    {
     "name": "stdout",
     "output_type": "stream",
     "text": [
      "\r",
      "Epoch 10/1000:   1%|          | 9/1000 [01:25<2:17:30,  8.33s/it, v_num=tzzu, train_loss_step=656, train_loss_epoch=645]"
     ]
    },
    {
     "name": "stdout",
     "output_type": "stream",
     "text": [
      "\r",
      "Epoch 10/1000:   1%|          | 10/1000 [01:37<2:34:46,  9.38s/it, v_num=tzzu, train_loss_step=656, train_loss_epoch=645]"
     ]
    },
    {
     "name": "stdout",
     "output_type": "stream",
     "text": [
      "\r",
      "Epoch 10/1000:   1%|          | 10/1000 [01:37<2:34:46,  9.38s/it, v_num=tzzu, train_loss_step=685, train_loss_epoch=645]"
     ]
    },
    {
     "name": "stdout",
     "output_type": "stream",
     "text": [
      "\r",
      "Epoch 11/1000:   1%|          | 10/1000 [01:37<2:34:46,  9.38s/it, v_num=tzzu, train_loss_step=685, train_loss_epoch=645]"
     ]
    },
    {
     "name": "stdout",
     "output_type": "stream",
     "text": [
      "\r",
      "Epoch 11/1000:   1%|          | 11/1000 [01:49<2:46:54, 10.13s/it, v_num=tzzu, train_loss_step=685, train_loss_epoch=645]"
     ]
    },
    {
     "name": "stdout",
     "output_type": "stream",
     "text": [
      "\r",
      "Epoch 11/1000:   1%|          | 11/1000 [01:49<2:46:54, 10.13s/it, v_num=tzzu, train_loss_step=707, train_loss_epoch=644]"
     ]
    },
    {
     "name": "stdout",
     "output_type": "stream",
     "text": [
      "\r",
      "Epoch 12/1000:   1%|          | 11/1000 [01:49<2:46:54, 10.13s/it, v_num=tzzu, train_loss_step=707, train_loss_epoch=644]"
     ]
    },
    {
     "name": "stdout",
     "output_type": "stream",
     "text": [
      "\r",
      "Epoch 12/1000:   1%|          | 12/1000 [02:01<2:55:40, 10.67s/it, v_num=tzzu, train_loss_step=707, train_loss_epoch=644]"
     ]
    },
    {
     "name": "stdout",
     "output_type": "stream",
     "text": [
      "\r",
      "Epoch 12/1000:   1%|          | 12/1000 [02:01<2:55:40, 10.67s/it, v_num=tzzu, train_loss_step=577, train_loss_epoch=644]"
     ]
    },
    {
     "name": "stdout",
     "output_type": "stream",
     "text": [
      "\r",
      "Epoch 13/1000:   1%|          | 12/1000 [02:01<2:55:40, 10.67s/it, v_num=tzzu, train_loss_step=577, train_loss_epoch=644]"
     ]
    },
    {
     "name": "stdout",
     "output_type": "stream",
     "text": [
      "\r",
      "Epoch 13/1000:   1%|▏         | 13/1000 [02:13<3:00:33, 10.98s/it, v_num=tzzu, train_loss_step=577, train_loss_epoch=644]"
     ]
    },
    {
     "name": "stdout",
     "output_type": "stream",
     "text": [
      "\r",
      "Epoch 13/1000:   1%|▏         | 13/1000 [02:13<3:00:33, 10.98s/it, v_num=tzzu, train_loss_step=584, train_loss_epoch=644]"
     ]
    },
    {
     "name": "stdout",
     "output_type": "stream",
     "text": [
      "\r",
      "Epoch 14/1000:   1%|▏         | 13/1000 [02:13<3:00:33, 10.98s/it, v_num=tzzu, train_loss_step=584, train_loss_epoch=644]"
     ]
    },
    {
     "name": "stdout",
     "output_type": "stream",
     "text": [
      "\r",
      "Epoch 14/1000:   1%|▏         | 14/1000 [02:24<3:02:43, 11.12s/it, v_num=tzzu, train_loss_step=584, train_loss_epoch=644]"
     ]
    },
    {
     "name": "stdout",
     "output_type": "stream",
     "text": [
      "\r",
      "Epoch 14/1000:   1%|▏         | 14/1000 [02:24<3:02:43, 11.12s/it, v_num=tzzu, train_loss_step=726, train_loss_epoch=644]"
     ]
    },
    {
     "name": "stdout",
     "output_type": "stream",
     "text": [
      "\r",
      "Epoch 15/1000:   1%|▏         | 14/1000 [02:24<3:02:43, 11.12s/it, v_num=tzzu, train_loss_step=726, train_loss_epoch=644]"
     ]
    },
    {
     "name": "stdout",
     "output_type": "stream",
     "text": [
      "\r",
      "Epoch 15/1000:   2%|▏         | 15/1000 [02:32<2:46:58, 10.17s/it, v_num=tzzu, train_loss_step=726, train_loss_epoch=644]"
     ]
    },
    {
     "name": "stdout",
     "output_type": "stream",
     "text": [
      "\r",
      "Epoch 15/1000:   2%|▏         | 15/1000 [02:32<2:46:58, 10.17s/it, v_num=tzzu, train_loss_step=622, train_loss_epoch=643]"
     ]
    },
    {
     "name": "stdout",
     "output_type": "stream",
     "text": [
      "\r",
      "Epoch 16/1000:   2%|▏         | 15/1000 [02:32<2:46:58, 10.17s/it, v_num=tzzu, train_loss_step=622, train_loss_epoch=643]"
     ]
    },
    {
     "name": "stdout",
     "output_type": "stream",
     "text": [
      "\r",
      "Epoch 16/1000:   2%|▏         | 16/1000 [02:39<2:30:00,  9.15s/it, v_num=tzzu, train_loss_step=622, train_loss_epoch=643]"
     ]
    },
    {
     "name": "stdout",
     "output_type": "stream",
     "text": [
      "\r",
      "Epoch 16/1000:   2%|▏         | 16/1000 [02:39<2:30:00,  9.15s/it, v_num=tzzu, train_loss_step=569, train_loss_epoch=643]"
     ]
    },
    {
     "name": "stdout",
     "output_type": "stream",
     "text": [
      "\r",
      "Epoch 17/1000:   2%|▏         | 16/1000 [02:39<2:30:00,  9.15s/it, v_num=tzzu, train_loss_step=569, train_loss_epoch=643]"
     ]
    },
    {
     "name": "stdout",
     "output_type": "stream",
     "text": [
      "\r",
      "Epoch 17/1000:   2%|▏         | 17/1000 [02:45<2:16:41,  8.34s/it, v_num=tzzu, train_loss_step=569, train_loss_epoch=643]"
     ]
    },
    {
     "name": "stdout",
     "output_type": "stream",
     "text": [
      "\r",
      "Epoch 17/1000:   2%|▏         | 17/1000 [02:45<2:16:41,  8.34s/it, v_num=tzzu, train_loss_step=644, train_loss_epoch=643]"
     ]
    },
    {
     "name": "stdout",
     "output_type": "stream",
     "text": [
      "\r",
      "Epoch 18/1000:   2%|▏         | 17/1000 [02:45<2:16:41,  8.34s/it, v_num=tzzu, train_loss_step=644, train_loss_epoch=643]"
     ]
    },
    {
     "name": "stdout",
     "output_type": "stream",
     "text": [
      "\r",
      "Epoch 18/1000:   2%|▏         | 18/1000 [02:52<2:07:02,  7.76s/it, v_num=tzzu, train_loss_step=644, train_loss_epoch=643]"
     ]
    },
    {
     "name": "stdout",
     "output_type": "stream",
     "text": [
      "\r",
      "Epoch 18/1000:   2%|▏         | 18/1000 [02:52<2:07:02,  7.76s/it, v_num=tzzu, train_loss_step=704, train_loss_epoch=643]"
     ]
    },
    {
     "name": "stdout",
     "output_type": "stream",
     "text": [
      "\r",
      "Epoch 19/1000:   2%|▏         | 18/1000 [02:52<2:07:02,  7.76s/it, v_num=tzzu, train_loss_step=704, train_loss_epoch=643]"
     ]
    },
    {
     "name": "stdout",
     "output_type": "stream",
     "text": [
      "\r",
      "Epoch 19/1000:   2%|▏         | 19/1000 [02:59<2:03:22,  7.55s/it, v_num=tzzu, train_loss_step=704, train_loss_epoch=643]"
     ]
    },
    {
     "name": "stdout",
     "output_type": "stream",
     "text": [
      "\r",
      "Epoch 19/1000:   2%|▏         | 19/1000 [02:59<2:03:22,  7.55s/it, v_num=tzzu, train_loss_step=591, train_loss_epoch=643]"
     ]
    },
    {
     "name": "stdout",
     "output_type": "stream",
     "text": [
      "\r",
      "Epoch 20/1000:   2%|▏         | 19/1000 [02:59<2:03:22,  7.55s/it, v_num=tzzu, train_loss_step=591, train_loss_epoch=643]"
     ]
    },
    {
     "name": "stdout",
     "output_type": "stream",
     "text": [
      "\r",
      "Epoch 20/1000:   2%|▏         | 20/1000 [03:06<2:02:04,  7.47s/it, v_num=tzzu, train_loss_step=591, train_loss_epoch=643]"
     ]
    },
    {
     "name": "stdout",
     "output_type": "stream",
     "text": [
      "\r",
      "Epoch 20/1000:   2%|▏         | 20/1000 [03:06<2:02:04,  7.47s/it, v_num=tzzu, train_loss_step=654, train_loss_epoch=643]"
     ]
    },
    {
     "name": "stdout",
     "output_type": "stream",
     "text": [
      "\r",
      "Epoch 21/1000:   2%|▏         | 20/1000 [03:06<2:02:04,  7.47s/it, v_num=tzzu, train_loss_step=654, train_loss_epoch=643]"
     ]
    },
    {
     "name": "stdout",
     "output_type": "stream",
     "text": [
      "\r",
      "Epoch 21/1000:   2%|▏         | 21/1000 [03:12<1:56:42,  7.15s/it, v_num=tzzu, train_loss_step=654, train_loss_epoch=643]"
     ]
    },
    {
     "name": "stdout",
     "output_type": "stream",
     "text": [
      "\r",
      "Epoch 21/1000:   2%|▏         | 21/1000 [03:12<1:56:42,  7.15s/it, v_num=tzzu, train_loss_step=600, train_loss_epoch=642]"
     ]
    },
    {
     "name": "stdout",
     "output_type": "stream",
     "text": [
      "\r",
      "Epoch 22/1000:   2%|▏         | 21/1000 [03:12<1:56:42,  7.15s/it, v_num=tzzu, train_loss_step=600, train_loss_epoch=642]"
     ]
    },
    {
     "name": "stdout",
     "output_type": "stream",
     "text": [
      "\r",
      "Epoch 22/1000:   2%|▏         | 22/1000 [03:22<2:10:58,  8.04s/it, v_num=tzzu, train_loss_step=600, train_loss_epoch=642]"
     ]
    },
    {
     "name": "stdout",
     "output_type": "stream",
     "text": [
      "\r",
      "Epoch 22/1000:   2%|▏         | 22/1000 [03:22<2:10:58,  8.04s/it, v_num=tzzu, train_loss_step=641, train_loss_epoch=642]"
     ]
    },
    {
     "name": "stdout",
     "output_type": "stream",
     "text": [
      "\r",
      "Epoch 23/1000:   2%|▏         | 22/1000 [03:22<2:10:58,  8.04s/it, v_num=tzzu, train_loss_step=641, train_loss_epoch=642]"
     ]
    },
    {
     "name": "stdout",
     "output_type": "stream",
     "text": [
      "\r",
      "Epoch 23/1000:   2%|▏         | 23/1000 [03:33<2:22:54,  8.78s/it, v_num=tzzu, train_loss_step=641, train_loss_epoch=642]"
     ]
    },
    {
     "name": "stdout",
     "output_type": "stream",
     "text": [
      "\r",
      "Epoch 23/1000:   2%|▏         | 23/1000 [03:33<2:22:54,  8.78s/it, v_num=tzzu, train_loss_step=634, train_loss_epoch=642]"
     ]
    },
    {
     "name": "stdout",
     "output_type": "stream",
     "text": [
      "\r",
      "Epoch 23/1000:   2%|▏         | 23/1000 [03:33<2:31:06,  9.28s/it, v_num=tzzu, train_loss_step=634, train_loss_epoch=642]"
     ]
    },
    {
     "name": "stdout",
     "output_type": "stream",
     "text": [
      "\n",
      "Monitored metric reconstruction_loss_validation did not improve in the last 10 records. Best score: 645.825. Signaling Trainer to stop.\n"
     ]
    }
   ],
   "source": [
    "model.train(logger=logger, plan_kwargs = plan_kwargs, **trainer_kwargs)"
   ]
  },
  {
   "cell_type": "code",
   "execution_count": 15,
   "id": "c282f6eb-0ad1-40a5-81e6-1acda1545dad",
   "metadata": {
    "execution": {
     "iopub.execute_input": "2024-10-21T14:58:16.778034Z",
     "iopub.status.busy": "2024-10-21T14:58:16.776767Z",
     "iopub.status.idle": "2024-10-21T14:58:20.536377Z",
     "shell.execute_reply": "2024-10-21T14:58:20.534990Z"
    },
    "papermill": {
     "duration": 3.780149,
     "end_time": "2024-10-21T14:58:20.540130",
     "exception": false,
     "start_time": "2024-10-21T14:58:16.759981",
     "status": "completed"
    },
    "tags": []
   },
   "outputs": [
    {
     "name": "stderr",
     "output_type": "stream",
     "text": [
      "\u001b[34m\u001b[1mwandb\u001b[0m: - 0.005 MB of 0.025 MB uploaded\r"
     ]
    },
    {
     "name": "stderr",
     "output_type": "stream",
     "text": [
      "\u001b[34m\u001b[1mwandb\u001b[0m: \\ 0.005 MB of 0.025 MB uploaded\r"
     ]
    },
    {
     "name": "stderr",
     "output_type": "stream",
     "text": [
      "\u001b[34m\u001b[1mwandb\u001b[0m: | 0.025 MB of 0.025 MB uploaded\r"
     ]
    },
    {
     "name": "stderr",
     "output_type": "stream",
     "text": [
      "\u001b[34m\u001b[1mwandb\u001b[0m:                                                                                \n"
     ]
    },
    {
     "name": "stderr",
     "output_type": "stream",
     "text": [
      "\u001b[34m\u001b[1mwandb\u001b[0m: \n",
      "\u001b[34m\u001b[1mwandb\u001b[0m: Run history:\n",
      "\u001b[34m\u001b[1mwandb\u001b[0m:                     elbo_train █▇▅▄▄▃▃▃▂▂▂▂▂▂▂▁▁▁▁▁▁▁▁\n",
      "\u001b[34m\u001b[1mwandb\u001b[0m:                elbo_validation █▅▄▃▃▂▂▂▂▂▂▁▁▁▁▁▁▁▁▁▁▁▁\n",
      "\u001b[34m\u001b[1mwandb\u001b[0m:                          epoch ▁▁▁▁▂▂▂▂▂▃▃▃▃▃▄▄▄▄▄▅▅▅▅▅▅▅▆▆▆▆▆▆▇▇▇▇████\n",
      "\u001b[34m\u001b[1mwandb\u001b[0m:                kl_global_train ▁▁▁▁▁▁▁▁▁▁▁▁▁▁▁▁▁▁▁▁▁▁▁\n",
      "\u001b[34m\u001b[1mwandb\u001b[0m:           kl_global_validation ▁▁▁▁▁▁▁▁▁▁▁▁▁▁▁▁▁▁▁▁▁▁▁\n",
      "\u001b[34m\u001b[1mwandb\u001b[0m:                 kl_local_train ▆█▆▅▄▄▃▃▃▃▂▂▂▂▂▂▂▁▁▁▁▁▁\n",
      "\u001b[34m\u001b[1mwandb\u001b[0m:            kl_local_validation █▅▄▃▃▃▂▂▂▂▂▂▂▁▂▁▁▁▁▁▁▁▁\n",
      "\u001b[34m\u001b[1mwandb\u001b[0m:                      kl_weight ▁▁▁▁▂▂▂▂▂▃▃▃▃▃▄▄▄▄▄▅▅▅▅▅▅▅▆▆▆▆▆▇▇▇▇▇████\n",
      "\u001b[34m\u001b[1mwandb\u001b[0m:      reconstruction_loss_train █▅▄▃▃▂▂▂▂▂▂▂▁▁▁▁▁▁▁▁▁▁▁\n",
      "\u001b[34m\u001b[1mwandb\u001b[0m: reconstruction_loss_validation █▅▄▃▂▂▁▁▁▁▁▁▁▁▁▁▁▁▁▁▁▁▁\n",
      "\u001b[34m\u001b[1mwandb\u001b[0m:               train_loss_epoch █▅▄▃▃▂▂▂▂▂▁▁▁▁▁▁▁▁▁▁▁▁▁\n",
      "\u001b[34m\u001b[1mwandb\u001b[0m:                train_loss_step █▄▄▅▅▄▆▆█▄▃▁▅▄▄▅▄▃▄▅▅▃▄▂▃▆▅▅▂▅▆▄▄▃▃▄▄▅▄▂\n",
      "\u001b[34m\u001b[1mwandb\u001b[0m:            trainer/global_step ▁▁▁▁▂▂▂▂▂▃▃▃▃▃▃▄▄▄▄▄▅▅▅▅▅▅▆▆▆▆▆▆▇▇▇▇▇███\n",
      "\u001b[34m\u001b[1mwandb\u001b[0m:                validation_loss █▅▄▃▂▂▁▁▁▁▁▁▁▁▁▁▁▁▁▁▁▂▂\n",
      "\u001b[34m\u001b[1mwandb\u001b[0m: \n",
      "\u001b[34m\u001b[1mwandb\u001b[0m: Run summary:\n",
      "\u001b[34m\u001b[1mwandb\u001b[0m:                     elbo_train 664.18689\n",
      "\u001b[34m\u001b[1mwandb\u001b[0m:                elbo_validation 668.63666\n",
      "\u001b[34m\u001b[1mwandb\u001b[0m:                          epoch 22\n",
      "\u001b[34m\u001b[1mwandb\u001b[0m:                kl_global_train 0.0\n",
      "\u001b[34m\u001b[1mwandb\u001b[0m:           kl_global_validation 0.0\n",
      "\u001b[34m\u001b[1mwandb\u001b[0m:                 kl_local_train 23.17313\n",
      "\u001b[34m\u001b[1mwandb\u001b[0m:            kl_local_validation 22.08004\n",
      "\u001b[34m\u001b[1mwandb\u001b[0m:                      kl_weight 0.055\n",
      "\u001b[34m\u001b[1mwandb\u001b[0m:      reconstruction_loss_train 641.01373\n",
      "\u001b[34m\u001b[1mwandb\u001b[0m: reconstruction_loss_validation 646.55664\n",
      "\u001b[34m\u001b[1mwandb\u001b[0m:               train_loss_epoch 642.28864\n",
      "\u001b[34m\u001b[1mwandb\u001b[0m:                train_loss_step 649.0636\n",
      "\u001b[34m\u001b[1mwandb\u001b[0m:            trainer/global_step 20446\n",
      "\u001b[34m\u001b[1mwandb\u001b[0m:                validation_loss 647.77112\n",
      "\u001b[34m\u001b[1mwandb\u001b[0m: \n"
     ]
    },
    {
     "name": "stderr",
     "output_type": "stream",
     "text": [
      "\u001b[34m\u001b[1mwandb\u001b[0m: 🚀 View run \u001b[33mStep3_T_CD4_Naive\u001b[0m at: \u001b[34m\u001b[4mhttps://wandb.ai/inflammation/inflammation_atlas_R1/runs/3izltzzu/workspace\u001b[0m\n",
      "\u001b[34m\u001b[1mwandb\u001b[0m: Synced 6 W&B file(s), 0 media file(s), 0 artifact file(s) and 0 other file(s)\n"
     ]
    },
    {
     "name": "stderr",
     "output_type": "stream",
     "text": [
      "\u001b[34m\u001b[1mwandb\u001b[0m: Find logs at: \u001b[35m\u001b[1m./wandb/run-20241021_145438-3izltzzu/logs\u001b[0m\n"
     ]
    }
   ],
   "source": [
    "wandb.finish()"
   ]
  },
  {
   "cell_type": "markdown",
   "id": "d9fb1179-83c7-4ac6-b4aa-92dc7a349801",
   "metadata": {
    "papermill": {
     "duration": 0.015046,
     "end_time": "2024-10-21T14:58:20.577585",
     "exception": false,
     "start_time": "2024-10-21T14:58:20.562539",
     "status": "completed"
    },
    "tags": []
   },
   "source": [
    "### Extracting embedding space"
   ]
  },
  {
   "cell_type": "code",
   "execution_count": 16,
   "id": "caaa5832-0123-4c59-8ec6-f46a75f7a14e",
   "metadata": {
    "execution": {
     "iopub.execute_input": "2024-10-21T14:58:20.600739Z",
     "iopub.status.busy": "2024-10-21T14:58:20.599576Z",
     "iopub.status.idle": "2024-10-21T14:58:23.084089Z",
     "shell.execute_reply": "2024-10-21T14:58:23.083117Z"
    },
    "papermill": {
     "duration": 2.498936,
     "end_time": "2024-10-21T14:58:23.087536",
     "exception": false,
     "start_time": "2024-10-21T14:58:20.588600",
     "status": "completed"
    },
    "tags": []
   },
   "outputs": [],
   "source": [
    "adata.obsm['X_scVI'] = model.get_latent_representation()"
   ]
  },
  {
   "cell_type": "markdown",
   "id": "2f03e70b-839c-40a6-9fbb-d76bbd787419",
   "metadata": {
    "papermill": {
     "duration": 0.021684,
     "end_time": "2024-10-21T14:58:23.133281",
     "exception": false,
     "start_time": "2024-10-21T14:58:23.111597",
     "status": "completed"
    },
    "tags": []
   },
   "source": [
    "## Save the results"
   ]
  },
  {
   "cell_type": "code",
   "execution_count": 17,
   "id": "7b04049b-47fd-4b62-a1c0-c43dcc086d34",
   "metadata": {
    "execution": {
     "iopub.execute_input": "2024-10-21T14:58:23.167149Z",
     "iopub.status.busy": "2024-10-21T14:58:23.166917Z",
     "iopub.status.idle": "2024-10-21T14:58:32.145203Z",
     "shell.execute_reply": "2024-10-21T14:58:32.143767Z"
    },
    "papermill": {
     "duration": 9.000572,
     "end_time": "2024-10-21T14:58:32.148680",
     "exception": false,
     "start_time": "2024-10-21T14:58:23.148108",
     "status": "completed"
    },
    "tags": []
   },
   "outputs": [],
   "source": [
    "if overwriteData:\n",
    "    adata.write(here(f\"{workDir}/{cellGroup}/results/02_{annotationLevel}_{cellGroup}_HVGsubset_scVI.h5ad\"), compression=\"gzip\")\n",
    "    model.save(here(f\"{workDir}/{cellGroup}/results/02_{annotationLevel}_{cellGroup}_HVGsubset_scVI_MODEL/\"),\n",
    "               overwrite = True, \n",
    "               save_anndata = False )   "
   ]
  },
  {
   "cell_type": "code",
   "execution_count": 18,
   "id": "629ba2bd-f6be-44ef-8fca-bbdf891bf25f",
   "metadata": {
    "execution": {
     "iopub.execute_input": "2024-10-21T14:58:32.184541Z",
     "iopub.status.busy": "2024-10-21T14:58:32.183467Z",
     "iopub.status.idle": "2024-10-21T14:58:32.189151Z",
     "shell.execute_reply": "2024-10-21T14:58:32.187897Z"
    },
    "papermill": {
     "duration": 0.020875,
     "end_time": "2024-10-21T14:58:32.191474",
     "exception": false,
     "start_time": "2024-10-21T14:58:32.170599",
     "status": "completed"
    },
    "tags": []
   },
   "outputs": [],
   "source": [
    "# To load the model do (after loading corresponding adata):\n",
    "# model = scvi.model.SCVI.load(here('{}/results/01_{}_HVGsubset_scVI_MODEL/'.format(workDir, cellGroup)), \n",
    "#                              adata, \n",
    "#                              use_gpu=True)"
   ]
  },
  {
   "cell_type": "raw",
   "id": "975e84d0-f56b-498d-b3a8-c9219cf22e53",
   "metadata": {
    "papermill": {
     "duration": 0.022334,
     "end_time": "2024-10-21T14:58:32.233457",
     "exception": false,
     "start_time": "2024-10-21T14:58:32.211123",
     "status": "completed"
    },
    "tags": []
   },
   "source": [
    "session_info.show()"
   ]
  }
 ],
 "metadata": {
  "kernelspec": {
   "display_name": "Python 3 (ipykernel)",
   "language": "python",
   "name": "python3"
  },
  "language_info": {
   "codemirror_mode": {
    "name": "ipython",
    "version": 3
   },
   "file_extension": ".py",
   "mimetype": "text/x-python",
   "name": "python",
   "nbconvert_exporter": "python",
   "pygments_lexer": "ipython3",
   "version": "3.9.19"
  },
  "papermill": {
   "default_parameters": {},
   "duration": 248.93893,
   "end_time": "2024-10-21T14:58:34.477323",
   "environment_variables": {},
   "exception": null,
   "input_path": "T_CD4_Naive/02_integration_scVI.ipynb",
   "output_path": "T_CD4_Naive/02_integration_scVI.executed.ipynb",
   "parameters": {},
   "start_time": "2024-10-21T14:54:25.538393",
   "version": "2.5.0"
  }
 },
 "nbformat": 4,
 "nbformat_minor": 5
}