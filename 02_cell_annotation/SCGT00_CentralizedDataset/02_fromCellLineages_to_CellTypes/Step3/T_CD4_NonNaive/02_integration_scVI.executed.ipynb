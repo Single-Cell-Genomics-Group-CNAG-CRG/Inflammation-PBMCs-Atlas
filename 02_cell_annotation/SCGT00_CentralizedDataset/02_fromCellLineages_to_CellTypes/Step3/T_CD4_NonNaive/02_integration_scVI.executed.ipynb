{
 "cells": [
  {
   "cell_type": "code",
   "execution_count": 1,
   "id": "2dd1425a-0c07-465e-b522-9e3cc5cb93a7",
   "metadata": {
    "execution": {
     "iopub.execute_input": "2024-10-21T14:58:36.559135Z",
     "iopub.status.busy": "2024-10-21T14:58:36.557937Z",
     "iopub.status.idle": "2024-10-21T14:58:40.151857Z",
     "shell.execute_reply": "2024-10-21T14:58:40.151164Z"
    },
    "papermill": {
     "duration": 3.614178,
     "end_time": "2024-10-21T14:58:40.155324",
     "exception": false,
     "start_time": "2024-10-21T14:58:36.541146",
     "status": "completed"
    },
    "tags": []
   },
   "outputs": [
    {
     "name": "stderr",
     "output_type": "stream",
     "text": [
      "/home/dmaspero/miniconda3/envs/scarches/lib/python3.9/site-packages/tqdm/auto.py:21: TqdmWarning: IProgress not found. Please update jupyter and ipywidgets. See https://ipywidgets.readthedocs.io/en/stable/user_install.html\n",
      "  from .autonotebook import tqdm as notebook_tqdm\n"
     ]
    },
    {
     "data": {
      "text/plain": [
       "True"
      ]
     },
     "execution_count": 1,
     "metadata": {},
     "output_type": "execute_result"
    }
   ],
   "source": [
    "import os\n",
    "import sys\n",
    "\n",
    "import numpy as np\n",
    "import matplotlib.pyplot as plt\n",
    "\n",
    "import scanpy as sc\n",
    "import scvi\n",
    "import torch\n",
    "\n",
    "from pytorch_lightning.loggers import WandbLogger\n",
    "import wandb\n",
    "from dotenv import load_dotenv\n",
    "\n",
    "import session_info\n",
    "import warnings\n",
    "from pyprojroot.here import here\n",
    "\n",
    "warnings.filterwarnings(\"ignore\")\n",
    "sys.path.insert(1, str(here('bin')))\n",
    "\n",
    "torch.set_float32_matmul_precision('high')\n",
    "\n",
    "#plt.style.use(['science','nature','no-latex'])\n",
    "dpi_fig_save = 300\n",
    "sc.set_figure_params(dpi=100, dpi_save=dpi_fig_save, vector_friendly=True)\n",
    "\n",
    "load_dotenv(here('.env'))"
   ]
  },
  {
   "cell_type": "code",
   "execution_count": 2,
   "id": "09c897fc-744b-43de-a681-718fb5d327fa",
   "metadata": {
    "execution": {
     "iopub.execute_input": "2024-10-21T14:58:40.180328Z",
     "iopub.status.busy": "2024-10-21T14:58:40.179845Z",
     "iopub.status.idle": "2024-10-21T14:58:40.184734Z",
     "shell.execute_reply": "2024-10-21T14:58:40.183871Z"
    },
    "papermill": {
     "duration": 0.018853,
     "end_time": "2024-10-21T14:58:40.187102",
     "exception": false,
     "start_time": "2024-10-21T14:58:40.168249",
     "status": "completed"
    },
    "tags": []
   },
   "outputs": [],
   "source": [
    "class CustomWandbLogger(WandbLogger):\n",
    "    @property\n",
    "    def save_dir(self):\n",
    "        return self.experiment.dir"
   ]
  },
  {
   "cell_type": "code",
   "execution_count": 3,
   "id": "8ee6662f-5d45-4137-80a5-bb0b9ae8d71f",
   "metadata": {
    "execution": {
     "iopub.execute_input": "2024-10-21T14:58:40.206622Z",
     "iopub.status.busy": "2024-10-21T14:58:40.206187Z",
     "iopub.status.idle": "2024-10-21T14:58:40.216839Z",
     "shell.execute_reply": "2024-10-21T14:58:40.215618Z"
    },
    "papermill": {
     "duration": 0.022926,
     "end_time": "2024-10-21T14:58:40.219375",
     "exception": false,
     "start_time": "2024-10-21T14:58:40.196449",
     "status": "completed"
    },
    "tags": []
   },
   "outputs": [
    {
     "name": "stderr",
     "output_type": "stream",
     "text": [
      "Seed set to 0\n"
     ]
    },
    {
     "name": "stdout",
     "output_type": "stream",
     "text": [
      "Last run with scvi-tools version: 1.1.2\n"
     ]
    }
   ],
   "source": [
    "scvi.settings.seed = 0\n",
    "print(\"Last run with scvi-tools version:\", scvi.__version__)"
   ]
  },
  {
   "cell_type": "markdown",
   "id": "a81037ff-5998-482a-ba86-520f757311a9",
   "metadata": {
    "papermill": {
     "duration": 0.009775,
     "end_time": "2024-10-21T14:58:40.239530",
     "exception": false,
     "start_time": "2024-10-21T14:58:40.229755",
     "status": "completed"
    },
    "tags": []
   },
   "source": [
    "**Setting parameters** "
   ]
  },
  {
   "cell_type": "code",
   "execution_count": 4,
   "id": "56c27966-8f10-4c93-8b1a-1fa75f005e41",
   "metadata": {
    "execution": {
     "iopub.execute_input": "2024-10-21T14:58:40.259483Z",
     "iopub.status.busy": "2024-10-21T14:58:40.259012Z",
     "iopub.status.idle": "2024-10-21T14:58:40.264578Z",
     "shell.execute_reply": "2024-10-21T14:58:40.263317Z"
    },
    "papermill": {
     "duration": 0.018492,
     "end_time": "2024-10-21T14:58:40.267183",
     "exception": false,
     "start_time": "2024-10-21T14:58:40.248691",
     "status": "completed"
    },
    "tags": []
   },
   "outputs": [],
   "source": [
    "overwriteFigures = True\n",
    "overwriteData = True"
   ]
  },
  {
   "cell_type": "code",
   "execution_count": 5,
   "id": "c86fccd3-a4fe-415b-8f4e-e2ceb3ec128a",
   "metadata": {
    "execution": {
     "iopub.execute_input": "2024-10-21T14:58:40.288453Z",
     "iopub.status.busy": "2024-10-21T14:58:40.287511Z",
     "iopub.status.idle": "2024-10-21T14:58:40.293108Z",
     "shell.execute_reply": "2024-10-21T14:58:40.292052Z"
    },
    "papermill": {
     "duration": 0.019098,
     "end_time": "2024-10-21T14:58:40.296060",
     "exception": false,
     "start_time": "2024-10-21T14:58:40.276962",
     "status": "completed"
    },
    "tags": []
   },
   "outputs": [],
   "source": [
    "cellGroup = 'T_CD4_NonNaive'\n",
    "workDir = os.getcwd()"
   ]
  },
  {
   "cell_type": "code",
   "execution_count": 6,
   "id": "2dee4d55-d168-467b-b867-a61fed9d6af1",
   "metadata": {
    "execution": {
     "iopub.execute_input": "2024-10-21T14:58:40.318017Z",
     "iopub.status.busy": "2024-10-21T14:58:40.317538Z",
     "iopub.status.idle": "2024-10-21T14:58:40.323612Z",
     "shell.execute_reply": "2024-10-21T14:58:40.322522Z"
    },
    "papermill": {
     "duration": 0.019026,
     "end_time": "2024-10-21T14:58:40.326468",
     "exception": false,
     "start_time": "2024-10-21T14:58:40.307442",
     "status": "completed"
    },
    "tags": []
   },
   "outputs": [],
   "source": [
    "annotationLevel = os.path.basename(os.path.normpath(workDir))"
   ]
  },
  {
   "cell_type": "code",
   "execution_count": 7,
   "id": "11e53cd5-b746-4152-89cb-c2f0c15d90b3",
   "metadata": {
    "execution": {
     "iopub.execute_input": "2024-10-21T14:58:40.348119Z",
     "iopub.status.busy": "2024-10-21T14:58:40.347628Z",
     "iopub.status.idle": "2024-10-21T14:58:40.355898Z",
     "shell.execute_reply": "2024-10-21T14:58:40.354461Z"
    },
    "papermill": {
     "duration": 0.021712,
     "end_time": "2024-10-21T14:58:40.359094",
     "exception": false,
     "start_time": "2024-10-21T14:58:40.337382",
     "status": "completed"
    },
    "tags": []
   },
   "outputs": [
    {
     "data": {
      "text/plain": [
       "'/scratch_isilon/groups/singlecell/shared/projects/Inflammation-PBMCs-Atlas/02_cell_annotation/SCGT00_CentralizedDataset/02_fromCellLineages_to_CellTypes/Step3'"
      ]
     },
     "execution_count": 7,
     "metadata": {},
     "output_type": "execute_result"
    }
   ],
   "source": [
    "workDir"
   ]
  },
  {
   "cell_type": "markdown",
   "id": "171d2f06-9a44-4fcb-b437-35dc546674b6",
   "metadata": {
    "papermill": {
     "duration": 0.008932,
     "end_time": "2024-10-21T14:58:40.379387",
     "exception": false,
     "start_time": "2024-10-21T14:58:40.370455",
     "status": "completed"
    },
    "tags": []
   },
   "source": [
    "**Load data**"
   ]
  },
  {
   "cell_type": "code",
   "execution_count": 8,
   "id": "429f34fe-dde6-4cc9-9f75-7de8f85c5ffe",
   "metadata": {
    "execution": {
     "iopub.execute_input": "2024-10-21T14:58:40.401990Z",
     "iopub.status.busy": "2024-10-21T14:58:40.401497Z",
     "iopub.status.idle": "2024-10-21T14:58:45.611393Z",
     "shell.execute_reply": "2024-10-21T14:58:45.610457Z"
    },
    "papermill": {
     "duration": 5.227054,
     "end_time": "2024-10-21T14:58:45.614889",
     "exception": false,
     "start_time": "2024-10-21T14:58:40.387835",
     "status": "completed"
    },
    "tags": []
   },
   "outputs": [
    {
     "data": {
      "text/plain": [
       "AnnData object with n_obs × n_vars = 160017 × 2130\n",
       "    obs: 'studyID', 'libraryID', 'sampleID', 'chemistry', 'technology', 'patientID', 'disease', 'timepoint_replicate', 'treatmentStatus', 'therapyResponse', 'sex', 'age', 'BMI', 'binned_age', 'diseaseStatus', 'smokingStatus', 'ethnicity', 'institute', 'diseaseGroup', 'batches', 'n_genes_by_counts', 'log1p_n_genes_by_counts', 'total_counts', 'log1p_total_counts', 'pct_counts_in_top_20_genes', 'total_counts_mt', 'log1p_total_counts_mt', 'pct_counts_mt', 'total_counts_ribo', 'log1p_total_counts_ribo', 'pct_counts_ribo', 'total_counts_hb', 'log1p_total_counts_hb', 'pct_counts_hb', 'total_counts_plt', 'log1p_total_counts_plt', 'pct_counts_plt', 'S_score', 'G2M_score', 'phase'\n",
       "    var: 'hgnc_id', 'symbol', 'locus_group', 'HUGO_status', 'mt', 'ribo', 'hb', 'plt', 'n_cells_by_counts', 'mean_counts', 'log1p_mean_counts', 'pct_dropout_by_counts', 'total_counts', 'log1p_total_counts', 'highly_variable', 'means', 'dispersions', 'dispersions_norm', 'highly_variable_nbatches', 'highly_variable_intersection'\n",
       "    uns: 'disease_colors', 'hvg', 'log1p'\n",
       "    layers: 'counts', 'log1p_10e4_counts'"
      ]
     },
     "execution_count": 8,
     "metadata": {},
     "output_type": "execute_result"
    }
   ],
   "source": [
    "adata = sc.read_h5ad(here(f\"{workDir}/{cellGroup}/results/01_{cellGroup}_normalized_HVGsubset.h5ad\"))\n",
    "adata"
   ]
  },
  {
   "cell_type": "markdown",
   "id": "8ac79f3b-d5af-41fa-8904-1e9ac1cbe2fb",
   "metadata": {
    "papermill": {
     "duration": 0.008397,
     "end_time": "2024-10-21T14:58:45.636111",
     "exception": false,
     "start_time": "2024-10-21T14:58:45.627714",
     "status": "completed"
    },
    "tags": []
   },
   "source": [
    "## scVI integration"
   ]
  },
  {
   "cell_type": "markdown",
   "id": "9544847d-d17f-4811-b14b-760446d54d32",
   "metadata": {
    "execution": {
     "iopub.execute_input": "2024-03-25T16:49:04.004504Z",
     "iopub.status.busy": "2024-03-25T16:49:04.004143Z",
     "iopub.status.idle": "2024-03-25T16:49:04.010148Z",
     "shell.execute_reply": "2024-03-25T16:49:04.009146Z",
     "shell.execute_reply.started": "2024-03-25T16:49:04.004477Z"
    },
    "papermill": {
     "duration": 0.008377,
     "end_time": "2024-10-21T14:58:45.652400",
     "exception": false,
     "start_time": "2024-10-21T14:58:45.644023",
     "status": "completed"
    },
    "tags": []
   },
   "source": [
    "**scVI parameters**"
   ]
  },
  {
   "cell_type": "code",
   "execution_count": 9,
   "id": "208966eb-545a-4c02-854c-0ed0487ef5b3",
   "metadata": {
    "execution": {
     "iopub.execute_input": "2024-10-21T14:58:45.668621Z",
     "iopub.status.busy": "2024-10-21T14:58:45.668329Z",
     "iopub.status.idle": "2024-10-21T14:58:45.674756Z",
     "shell.execute_reply": "2024-10-21T14:58:45.673768Z"
    },
    "papermill": {
     "duration": 0.017714,
     "end_time": "2024-10-21T14:58:45.677517",
     "exception": false,
     "start_time": "2024-10-21T14:58:45.659803",
     "status": "completed"
    },
    "tags": []
   },
   "outputs": [],
   "source": [
    "# https://docs.scvi-tools.org/en/stable/api/reference/scvi.train.Trainer.html#scvi.train.Trainer\n",
    "setup_kwargs = dict(\n",
    "    layer=\"counts\", \n",
    "    batch_key='libraryID', \n",
    "    categorical_covariate_keys = ['disease', 'sampleID'],\n",
    ")\n",
    "\n",
    "scvi_kwargs = dict(n_hidden=512,\n",
    "                   n_latent=10, # reduced to 20 after step 00 (main) and to 10 after step 03\n",
    "                   n_layers=2,\n",
    "                   gene_likelihood='nb')\n",
    "\n",
    "trainer_kwargs = dict(\n",
    "    checkpointing_monitor = 'elbo_validation',\n",
    "    early_stopping_monitor = 'reconstruction_loss_validation',\n",
    "    early_stopping_patience = 10,\n",
    "    early_stopping_min_delta=0.1,\n",
    "    early_stopping = True,\n",
    "    max_epochs = 1000,\n",
    "\n",
    "    #logger = # wandb\n",
    ")\n",
    "# https://docs.scvi-tools.org/en/stable/api/reference/scvi.train.TrainingPlan.html#scvi.train.TrainingPlan\n",
    "plan_kwargs = dict(\n",
    "    lr = 5e-4,\n",
    "    #reduce_lr_on_plateau = True\n",
    ")\n",
    "\n",
    "# https://docs.scvi-tools.org/en/stable/api/reference/scvi.module.VAE.html#scvi.module.VAE\n",
    "#vae = dict(\n",
    "#    use_layer_norm='both',\n",
    "#    use_batch_norm='none',\n",
    "#    encode_covariates=True,\n",
    "#    deeply_inject_covariates=False\n",
    "#)\n",
    "parameter_dict = setup_kwargs | scvi_kwargs | trainer_kwargs | plan_kwargs"
   ]
  },
  {
   "cell_type": "markdown",
   "id": "1362366a-c16b-4c11-964b-b9c5f82f7b29",
   "metadata": {
    "papermill": {
     "duration": 0.010038,
     "end_time": "2024-10-21T14:58:45.699745",
     "exception": false,
     "start_time": "2024-10-21T14:58:45.689707",
     "status": "completed"
    },
    "tags": []
   },
   "source": [
    "**wandb parameter**"
   ]
  },
  {
   "cell_type": "code",
   "execution_count": 10,
   "id": "0496e33a-8ca5-423f-b42f-34a59760708c",
   "metadata": {
    "execution": {
     "iopub.execute_input": "2024-10-21T14:58:45.723064Z",
     "iopub.status.busy": "2024-10-21T14:58:45.722639Z",
     "iopub.status.idle": "2024-10-21T14:58:45.729957Z",
     "shell.execute_reply": "2024-10-21T14:58:45.728697Z"
    },
    "papermill": {
     "duration": 0.022066,
     "end_time": "2024-10-21T14:58:45.732992",
     "exception": false,
     "start_time": "2024-10-21T14:58:45.710926",
     "status": "completed"
    },
    "tags": []
   },
   "outputs": [
    {
     "data": {
      "text/plain": [
       "'Step3_T_CD4_NonNaive'"
      ]
     },
     "execution_count": 10,
     "metadata": {},
     "output_type": "execute_result"
    }
   ],
   "source": [
    "run_name = f\"{annotationLevel}_{cellGroup}\"\n",
    "run_name"
   ]
  },
  {
   "cell_type": "code",
   "execution_count": 11,
   "id": "b0021327-95a2-4002-bf32-2c5779a99505",
   "metadata": {
    "execution": {
     "iopub.execute_input": "2024-10-21T14:58:45.756794Z",
     "iopub.status.busy": "2024-10-21T14:58:45.756089Z",
     "iopub.status.idle": "2024-10-21T14:58:45.819475Z",
     "shell.execute_reply": "2024-10-21T14:58:45.818676Z"
    },
    "papermill": {
     "duration": 0.077297,
     "end_time": "2024-10-21T14:58:45.821912",
     "exception": false,
     "start_time": "2024-10-21T14:58:45.744615",
     "status": "completed"
    },
    "tags": []
   },
   "outputs": [],
   "source": [
    "logger = CustomWandbLogger(name = run_name, project='inflammation_atlas_R1', config=parameter_dict)"
   ]
  },
  {
   "cell_type": "markdown",
   "id": "c237eee1-a976-4915-9b7f-b014bf33f47d",
   "metadata": {
    "papermill": {
     "duration": 0.010794,
     "end_time": "2024-10-21T14:58:45.844670",
     "exception": false,
     "start_time": "2024-10-21T14:58:45.833876",
     "status": "completed"
    },
    "tags": []
   },
   "source": [
    "**Running integration**"
   ]
  },
  {
   "cell_type": "code",
   "execution_count": 12,
   "id": "aff97c53-1aba-462e-8a77-f1aec9cf724c",
   "metadata": {
    "execution": {
     "iopub.execute_input": "2024-10-21T14:58:45.864550Z",
     "iopub.status.busy": "2024-10-21T14:58:45.864144Z",
     "iopub.status.idle": "2024-10-21T14:58:46.003082Z",
     "shell.execute_reply": "2024-10-21T14:58:46.001985Z"
    },
    "papermill": {
     "duration": 0.152168,
     "end_time": "2024-10-21T14:58:46.005639",
     "exception": false,
     "start_time": "2024-10-21T14:58:45.853471",
     "status": "completed"
    },
    "tags": []
   },
   "outputs": [
    {
     "name": "stderr",
     "output_type": "stream",
     "text": [
      "CUDA backend failed to initialize: Unable to use CUDA because of the following issues with CUDA components:\n",
      "Outdated cuSPARSE installation found.\n",
      "Version JAX was built against: 12200\n",
      "Minimum supported: 12100\n",
      "Installed version: 12002\n",
      "The local installation version must be no lower than 12100. (Set TF_CPP_MIN_LOG_LEVEL=0 and rerun for more info.)\n"
     ]
    }
   ],
   "source": [
    "scvi.model.SCVI.setup_anndata(adata, \n",
    "                              **setup_kwargs)"
   ]
  },
  {
   "cell_type": "code",
   "execution_count": 13,
   "id": "1a56f448-cf44-47c1-81a4-a89caa930fec",
   "metadata": {
    "execution": {
     "iopub.execute_input": "2024-10-21T14:58:46.021839Z",
     "iopub.status.busy": "2024-10-21T14:58:46.020937Z",
     "iopub.status.idle": "2024-10-21T14:58:46.166738Z",
     "shell.execute_reply": "2024-10-21T14:58:46.165747Z"
    },
    "papermill": {
     "duration": 0.157181,
     "end_time": "2024-10-21T14:58:46.169837",
     "exception": false,
     "start_time": "2024-10-21T14:58:46.012656",
     "status": "completed"
    },
    "tags": []
   },
   "outputs": [],
   "source": [
    "model = scvi.model.SCVI(adata, **scvi_kwargs)"
   ]
  },
  {
   "cell_type": "code",
   "execution_count": 14,
   "id": "2735f010-4f24-4ae8-9740-a8cfeb335e9a",
   "metadata": {
    "execution": {
     "iopub.execute_input": "2024-10-21T14:58:46.194868Z",
     "iopub.status.busy": "2024-10-21T14:58:46.194635Z",
     "iopub.status.idle": "2024-10-21T15:03:16.309247Z",
     "shell.execute_reply": "2024-10-21T15:03:16.308330Z"
    },
    "papermill": {
     "duration": 270.129509,
     "end_time": "2024-10-21T15:03:16.312158",
     "exception": false,
     "start_time": "2024-10-21T14:58:46.182649",
     "status": "completed"
    },
    "tags": []
   },
   "outputs": [
    {
     "name": "stderr",
     "output_type": "stream",
     "text": [
      "GPU available: True (cuda), used: True\n"
     ]
    },
    {
     "name": "stderr",
     "output_type": "stream",
     "text": [
      "TPU available: False, using: 0 TPU cores\n"
     ]
    },
    {
     "name": "stderr",
     "output_type": "stream",
     "text": [
      "IPU available: False, using: 0 IPUs\n"
     ]
    },
    {
     "name": "stderr",
     "output_type": "stream",
     "text": [
      "HPU available: False, using: 0 HPUs\n"
     ]
    },
    {
     "name": "stderr",
     "output_type": "stream",
     "text": [
      "\u001b[34m\u001b[1mwandb\u001b[0m: Currently logged in as: \u001b[33mdav1989\u001b[0m (\u001b[33minflammation\u001b[0m). Use \u001b[1m`wandb login --relogin`\u001b[0m to force relogin\n"
     ]
    },
    {
     "name": "stderr",
     "output_type": "stream",
     "text": [
      "\u001b[34m\u001b[1mwandb\u001b[0m: wandb version 0.18.5 is available!  To upgrade, please run:\n",
      "\u001b[34m\u001b[1mwandb\u001b[0m:  $ pip install wandb --upgrade\n"
     ]
    },
    {
     "name": "stderr",
     "output_type": "stream",
     "text": [
      "\u001b[34m\u001b[1mwandb\u001b[0m: Tracking run with wandb version 0.16.5\n"
     ]
    },
    {
     "name": "stderr",
     "output_type": "stream",
     "text": [
      "\u001b[34m\u001b[1mwandb\u001b[0m: Run data is saved locally in \u001b[35m\u001b[1m./wandb/run-20241021_145848-1vfy9pfm\u001b[0m\n",
      "\u001b[34m\u001b[1mwandb\u001b[0m: Run \u001b[1m`wandb offline`\u001b[0m to turn off syncing.\n"
     ]
    },
    {
     "name": "stderr",
     "output_type": "stream",
     "text": [
      "\u001b[34m\u001b[1mwandb\u001b[0m: Syncing run \u001b[33mStep3_T_CD4_NonNaive\u001b[0m\n"
     ]
    },
    {
     "name": "stderr",
     "output_type": "stream",
     "text": [
      "\u001b[34m\u001b[1mwandb\u001b[0m: ⭐️ View project at \u001b[34m\u001b[4mhttps://wandb.ai/inflammation/inflammation_atlas_R1\u001b[0m\n"
     ]
    },
    {
     "name": "stderr",
     "output_type": "stream",
     "text": [
      "\u001b[34m\u001b[1mwandb\u001b[0m: 🚀 View run at \u001b[34m\u001b[4mhttps://wandb.ai/inflammation/inflammation_atlas_R1/runs/1vfy9pfm/workspace\u001b[0m\n"
     ]
    },
    {
     "name": "stderr",
     "output_type": "stream",
     "text": [
      "LOCAL_RANK: 0 - CUDA_VISIBLE_DEVICES: [0]\n"
     ]
    },
    {
     "name": "stdout",
     "output_type": "stream",
     "text": [
      "\r",
      "Training:   0%|          | 0/1000 [00:00<?, ?it/s]"
     ]
    },
    {
     "name": "stdout",
     "output_type": "stream",
     "text": [
      "\r",
      "Epoch 1/1000:   0%|          | 0/1000 [00:00<?, ?it/s]"
     ]
    },
    {
     "name": "stdout",
     "output_type": "stream",
     "text": [
      "\r",
      "Epoch 1/1000:   0%|          | 1/1000 [00:10<2:47:50, 10.08s/it]"
     ]
    },
    {
     "name": "stdout",
     "output_type": "stream",
     "text": [
      "\r",
      "Epoch 1/1000:   0%|          | 1/1000 [00:10<2:47:50, 10.08s/it, v_num=9pfm, train_loss_step=654, train_loss_epoch=727]"
     ]
    },
    {
     "name": "stdout",
     "output_type": "stream",
     "text": [
      "\r",
      "Epoch 2/1000:   0%|          | 1/1000 [00:10<2:47:50, 10.08s/it, v_num=9pfm, train_loss_step=654, train_loss_epoch=727]"
     ]
    },
    {
     "name": "stdout",
     "output_type": "stream",
     "text": [
      "\r",
      "Epoch 2/1000:   0%|          | 2/1000 [00:23<3:16:01, 11.78s/it, v_num=9pfm, train_loss_step=654, train_loss_epoch=727]"
     ]
    },
    {
     "name": "stdout",
     "output_type": "stream",
     "text": [
      "\r",
      "Epoch 2/1000:   0%|          | 2/1000 [00:23<3:16:01, 11.78s/it, v_num=9pfm, train_loss_step=747, train_loss_epoch=710]"
     ]
    },
    {
     "name": "stdout",
     "output_type": "stream",
     "text": [
      "\r",
      "Epoch 3/1000:   0%|          | 2/1000 [00:23<3:16:01, 11.78s/it, v_num=9pfm, train_loss_step=747, train_loss_epoch=710]"
     ]
    },
    {
     "name": "stdout",
     "output_type": "stream",
     "text": [
      "\r",
      "Epoch 3/1000:   0%|          | 3/1000 [00:31<2:48:56, 10.17s/it, v_num=9pfm, train_loss_step=747, train_loss_epoch=710]"
     ]
    },
    {
     "name": "stdout",
     "output_type": "stream",
     "text": [
      "\r",
      "Epoch 3/1000:   0%|          | 3/1000 [00:31<2:48:56, 10.17s/it, v_num=9pfm, train_loss_step=770, train_loss_epoch=704]"
     ]
    },
    {
     "name": "stdout",
     "output_type": "stream",
     "text": [
      "\r",
      "Epoch 4/1000:   0%|          | 3/1000 [00:31<2:48:56, 10.17s/it, v_num=9pfm, train_loss_step=770, train_loss_epoch=704]"
     ]
    },
    {
     "name": "stdout",
     "output_type": "stream",
     "text": [
      "\r",
      "Epoch 4/1000:   0%|          | 4/1000 [00:39<2:36:03,  9.40s/it, v_num=9pfm, train_loss_step=770, train_loss_epoch=704]"
     ]
    },
    {
     "name": "stdout",
     "output_type": "stream",
     "text": [
      "\r",
      "Epoch 4/1000:   0%|          | 4/1000 [00:39<2:36:03,  9.40s/it, v_num=9pfm, train_loss_step=667, train_loss_epoch=700]"
     ]
    },
    {
     "name": "stdout",
     "output_type": "stream",
     "text": [
      "\r",
      "Epoch 5/1000:   0%|          | 4/1000 [00:39<2:36:03,  9.40s/it, v_num=9pfm, train_loss_step=667, train_loss_epoch=700]"
     ]
    },
    {
     "name": "stdout",
     "output_type": "stream",
     "text": [
      "\r",
      "Epoch 5/1000:   0%|          | 5/1000 [00:50<2:45:16,  9.97s/it, v_num=9pfm, train_loss_step=667, train_loss_epoch=700]"
     ]
    },
    {
     "name": "stdout",
     "output_type": "stream",
     "text": [
      "\r",
      "Epoch 5/1000:   0%|          | 5/1000 [00:50<2:45:16,  9.97s/it, v_num=9pfm, train_loss_step=689, train_loss_epoch=698]"
     ]
    },
    {
     "name": "stdout",
     "output_type": "stream",
     "text": [
      "\r",
      "Epoch 6/1000:   0%|          | 5/1000 [00:50<2:45:16,  9.97s/it, v_num=9pfm, train_loss_step=689, train_loss_epoch=698]"
     ]
    },
    {
     "name": "stdout",
     "output_type": "stream",
     "text": [
      "\r",
      "Epoch 6/1000:   1%|          | 6/1000 [01:01<2:51:59, 10.38s/it, v_num=9pfm, train_loss_step=689, train_loss_epoch=698]"
     ]
    },
    {
     "name": "stdout",
     "output_type": "stream",
     "text": [
      "\r",
      "Epoch 6/1000:   1%|          | 6/1000 [01:01<2:51:59, 10.38s/it, v_num=9pfm, train_loss_step=653, train_loss_epoch=696]"
     ]
    },
    {
     "name": "stdout",
     "output_type": "stream",
     "text": [
      "\r",
      "Epoch 7/1000:   1%|          | 6/1000 [01:01<2:51:59, 10.38s/it, v_num=9pfm, train_loss_step=653, train_loss_epoch=696]"
     ]
    },
    {
     "name": "stdout",
     "output_type": "stream",
     "text": [
      "\r",
      "Epoch 7/1000:   1%|          | 7/1000 [01:16<3:13:21, 11.68s/it, v_num=9pfm, train_loss_step=653, train_loss_epoch=696]"
     ]
    },
    {
     "name": "stdout",
     "output_type": "stream",
     "text": [
      "\r",
      "Epoch 7/1000:   1%|          | 7/1000 [01:16<3:13:21, 11.68s/it, v_num=9pfm, train_loss_step=702, train_loss_epoch=695]"
     ]
    },
    {
     "name": "stdout",
     "output_type": "stream",
     "text": [
      "\r",
      "Epoch 8/1000:   1%|          | 7/1000 [01:16<3:13:21, 11.68s/it, v_num=9pfm, train_loss_step=702, train_loss_epoch=695]"
     ]
    },
    {
     "name": "stdout",
     "output_type": "stream",
     "text": [
      "\r",
      "Epoch 8/1000:   1%|          | 8/1000 [01:30<3:26:25, 12.49s/it, v_num=9pfm, train_loss_step=702, train_loss_epoch=695]"
     ]
    },
    {
     "name": "stdout",
     "output_type": "stream",
     "text": [
      "\r",
      "Epoch 8/1000:   1%|          | 8/1000 [01:30<3:26:25, 12.49s/it, v_num=9pfm, train_loss_step=670, train_loss_epoch=694]"
     ]
    },
    {
     "name": "stdout",
     "output_type": "stream",
     "text": [
      "\r",
      "Epoch 9/1000:   1%|          | 8/1000 [01:30<3:26:25, 12.49s/it, v_num=9pfm, train_loss_step=670, train_loss_epoch=694]"
     ]
    },
    {
     "name": "stdout",
     "output_type": "stream",
     "text": [
      "\r",
      "Epoch 9/1000:   1%|          | 9/1000 [01:44<3:34:40, 13.00s/it, v_num=9pfm, train_loss_step=670, train_loss_epoch=694]"
     ]
    },
    {
     "name": "stdout",
     "output_type": "stream",
     "text": [
      "\r",
      "Epoch 9/1000:   1%|          | 9/1000 [01:44<3:34:40, 13.00s/it, v_num=9pfm, train_loss_step=742, train_loss_epoch=694]"
     ]
    },
    {
     "name": "stdout",
     "output_type": "stream",
     "text": [
      "\r",
      "Epoch 10/1000:   1%|          | 9/1000 [01:44<3:34:40, 13.00s/it, v_num=9pfm, train_loss_step=742, train_loss_epoch=694]"
     ]
    },
    {
     "name": "stdout",
     "output_type": "stream",
     "text": [
      "\r",
      "Epoch 10/1000:   1%|          | 10/1000 [01:58<3:42:02, 13.46s/it, v_num=9pfm, train_loss_step=742, train_loss_epoch=694]"
     ]
    },
    {
     "name": "stdout",
     "output_type": "stream",
     "text": [
      "\r",
      "Epoch 10/1000:   1%|          | 10/1000 [01:58<3:42:02, 13.46s/it, v_num=9pfm, train_loss_step=711, train_loss_epoch=693]"
     ]
    },
    {
     "name": "stdout",
     "output_type": "stream",
     "text": [
      "\r",
      "Epoch 11/1000:   1%|          | 10/1000 [01:58<3:42:02, 13.46s/it, v_num=9pfm, train_loss_step=711, train_loss_epoch=693]"
     ]
    },
    {
     "name": "stdout",
     "output_type": "stream",
     "text": [
      "\r",
      "Epoch 11/1000:   1%|          | 11/1000 [02:11<3:37:12, 13.18s/it, v_num=9pfm, train_loss_step=711, train_loss_epoch=693]"
     ]
    },
    {
     "name": "stdout",
     "output_type": "stream",
     "text": [
      "\r",
      "Epoch 11/1000:   1%|          | 11/1000 [02:11<3:37:12, 13.18s/it, v_num=9pfm, train_loss_step=731, train_loss_epoch=693]"
     ]
    },
    {
     "name": "stdout",
     "output_type": "stream",
     "text": [
      "\r",
      "Epoch 12/1000:   1%|          | 11/1000 [02:11<3:37:12, 13.18s/it, v_num=9pfm, train_loss_step=731, train_loss_epoch=693]"
     ]
    },
    {
     "name": "stdout",
     "output_type": "stream",
     "text": [
      "\r",
      "Epoch 12/1000:   1%|          | 12/1000 [02:25<3:42:05, 13.49s/it, v_num=9pfm, train_loss_step=731, train_loss_epoch=693]"
     ]
    },
    {
     "name": "stdout",
     "output_type": "stream",
     "text": [
      "\r",
      "Epoch 12/1000:   1%|          | 12/1000 [02:25<3:42:05, 13.49s/it, v_num=9pfm, train_loss_step=729, train_loss_epoch=693]"
     ]
    },
    {
     "name": "stdout",
     "output_type": "stream",
     "text": [
      "\r",
      "Epoch 13/1000:   1%|          | 12/1000 [02:25<3:42:05, 13.49s/it, v_num=9pfm, train_loss_step=729, train_loss_epoch=693]"
     ]
    },
    {
     "name": "stdout",
     "output_type": "stream",
     "text": [
      "\r",
      "Epoch 13/1000:   1%|▏         | 13/1000 [02:40<3:46:48, 13.79s/it, v_num=9pfm, train_loss_step=729, train_loss_epoch=693]"
     ]
    },
    {
     "name": "stdout",
     "output_type": "stream",
     "text": [
      "\r",
      "Epoch 13/1000:   1%|▏         | 13/1000 [02:40<3:46:48, 13.79s/it, v_num=9pfm, train_loss_step=699, train_loss_epoch=692]"
     ]
    },
    {
     "name": "stdout",
     "output_type": "stream",
     "text": [
      "\r",
      "Epoch 14/1000:   1%|▏         | 13/1000 [02:40<3:46:48, 13.79s/it, v_num=9pfm, train_loss_step=699, train_loss_epoch=692]"
     ]
    },
    {
     "name": "stdout",
     "output_type": "stream",
     "text": [
      "\r",
      "Epoch 14/1000:   1%|▏         | 14/1000 [02:52<3:40:13, 13.40s/it, v_num=9pfm, train_loss_step=699, train_loss_epoch=692]"
     ]
    },
    {
     "name": "stdout",
     "output_type": "stream",
     "text": [
      "\r",
      "Epoch 14/1000:   1%|▏         | 14/1000 [02:52<3:40:13, 13.40s/it, v_num=9pfm, train_loss_step=657, train_loss_epoch=692]"
     ]
    },
    {
     "name": "stdout",
     "output_type": "stream",
     "text": [
      "\r",
      "Epoch 15/1000:   1%|▏         | 14/1000 [02:52<3:40:13, 13.40s/it, v_num=9pfm, train_loss_step=657, train_loss_epoch=692]"
     ]
    },
    {
     "name": "stdout",
     "output_type": "stream",
     "text": [
      "\r",
      "Epoch 15/1000:   2%|▏         | 15/1000 [03:00<3:14:24, 11.84s/it, v_num=9pfm, train_loss_step=657, train_loss_epoch=692]"
     ]
    },
    {
     "name": "stdout",
     "output_type": "stream",
     "text": [
      "\r",
      "Epoch 15/1000:   2%|▏         | 15/1000 [03:00<3:14:24, 11.84s/it, v_num=9pfm, train_loss_step=655, train_loss_epoch=692]"
     ]
    },
    {
     "name": "stdout",
     "output_type": "stream",
     "text": [
      "\r",
      "Epoch 16/1000:   2%|▏         | 15/1000 [03:00<3:14:24, 11.84s/it, v_num=9pfm, train_loss_step=655, train_loss_epoch=692]"
     ]
    },
    {
     "name": "stdout",
     "output_type": "stream",
     "text": [
      "\r",
      "Epoch 16/1000:   2%|▏         | 16/1000 [03:15<3:26:33, 12.59s/it, v_num=9pfm, train_loss_step=655, train_loss_epoch=692]"
     ]
    },
    {
     "name": "stdout",
     "output_type": "stream",
     "text": [
      "\r",
      "Epoch 16/1000:   2%|▏         | 16/1000 [03:15<3:26:33, 12.59s/it, v_num=9pfm, train_loss_step=714, train_loss_epoch=692]"
     ]
    },
    {
     "name": "stdout",
     "output_type": "stream",
     "text": [
      "\r",
      "Epoch 17/1000:   2%|▏         | 16/1000 [03:15<3:26:33, 12.59s/it, v_num=9pfm, train_loss_step=714, train_loss_epoch=692]"
     ]
    },
    {
     "name": "stdout",
     "output_type": "stream",
     "text": [
      "\r",
      "Epoch 17/1000:   2%|▏         | 17/1000 [03:27<3:25:18, 12.53s/it, v_num=9pfm, train_loss_step=714, train_loss_epoch=692]"
     ]
    },
    {
     "name": "stdout",
     "output_type": "stream",
     "text": [
      "\r",
      "Epoch 17/1000:   2%|▏         | 17/1000 [03:27<3:25:18, 12.53s/it, v_num=9pfm, train_loss_step=653, train_loss_epoch=692]"
     ]
    },
    {
     "name": "stdout",
     "output_type": "stream",
     "text": [
      "\r",
      "Epoch 18/1000:   2%|▏         | 17/1000 [03:27<3:25:18, 12.53s/it, v_num=9pfm, train_loss_step=653, train_loss_epoch=692]"
     ]
    },
    {
     "name": "stdout",
     "output_type": "stream",
     "text": [
      "\r",
      "Epoch 18/1000:   2%|▏         | 18/1000 [03:35<3:03:47, 11.23s/it, v_num=9pfm, train_loss_step=653, train_loss_epoch=692]"
     ]
    },
    {
     "name": "stdout",
     "output_type": "stream",
     "text": [
      "\r",
      "Epoch 18/1000:   2%|▏         | 18/1000 [03:35<3:03:47, 11.23s/it, v_num=9pfm, train_loss_step=656, train_loss_epoch=692]"
     ]
    },
    {
     "name": "stdout",
     "output_type": "stream",
     "text": [
      "\r",
      "Epoch 19/1000:   2%|▏         | 18/1000 [03:35<3:03:47, 11.23s/it, v_num=9pfm, train_loss_step=656, train_loss_epoch=692]"
     ]
    },
    {
     "name": "stdout",
     "output_type": "stream",
     "text": [
      "\r",
      "Epoch 19/1000:   2%|▏         | 19/1000 [03:43<2:48:41, 10.32s/it, v_num=9pfm, train_loss_step=656, train_loss_epoch=692]"
     ]
    },
    {
     "name": "stdout",
     "output_type": "stream",
     "text": [
      "\r",
      "Epoch 19/1000:   2%|▏         | 19/1000 [03:43<2:48:41, 10.32s/it, v_num=9pfm, train_loss_step=672, train_loss_epoch=691]"
     ]
    },
    {
     "name": "stdout",
     "output_type": "stream",
     "text": [
      "\r",
      "Epoch 20/1000:   2%|▏         | 19/1000 [03:43<2:48:41, 10.32s/it, v_num=9pfm, train_loss_step=672, train_loss_epoch=691]"
     ]
    },
    {
     "name": "stdout",
     "output_type": "stream",
     "text": [
      "\r",
      "Epoch 20/1000:   2%|▏         | 20/1000 [03:52<2:38:13,  9.69s/it, v_num=9pfm, train_loss_step=672, train_loss_epoch=691]"
     ]
    },
    {
     "name": "stdout",
     "output_type": "stream",
     "text": [
      "\r",
      "Epoch 20/1000:   2%|▏         | 20/1000 [03:52<2:38:13,  9.69s/it, v_num=9pfm, train_loss_step=742, train_loss_epoch=691]"
     ]
    },
    {
     "name": "stdout",
     "output_type": "stream",
     "text": [
      "\r",
      "Epoch 21/1000:   2%|▏         | 20/1000 [03:52<2:38:13,  9.69s/it, v_num=9pfm, train_loss_step=742, train_loss_epoch=691]"
     ]
    },
    {
     "name": "stdout",
     "output_type": "stream",
     "text": [
      "\r",
      "Epoch 21/1000:   2%|▏         | 21/1000 [04:00<2:30:48,  9.24s/it, v_num=9pfm, train_loss_step=742, train_loss_epoch=691]"
     ]
    },
    {
     "name": "stdout",
     "output_type": "stream",
     "text": [
      "\r",
      "Epoch 21/1000:   2%|▏         | 21/1000 [04:00<2:30:48,  9.24s/it, v_num=9pfm, train_loss_step=666, train_loss_epoch=691]"
     ]
    },
    {
     "name": "stdout",
     "output_type": "stream",
     "text": [
      "\r",
      "Epoch 22/1000:   2%|▏         | 21/1000 [04:00<2:30:48,  9.24s/it, v_num=9pfm, train_loss_step=666, train_loss_epoch=691]"
     ]
    },
    {
     "name": "stdout",
     "output_type": "stream",
     "text": [
      "\r",
      "Epoch 22/1000:   2%|▏         | 22/1000 [04:08<2:25:34,  8.93s/it, v_num=9pfm, train_loss_step=666, train_loss_epoch=691]"
     ]
    },
    {
     "name": "stdout",
     "output_type": "stream",
     "text": [
      "\r",
      "Epoch 22/1000:   2%|▏         | 22/1000 [04:08<2:25:34,  8.93s/it, v_num=9pfm, train_loss_step=646, train_loss_epoch=691]"
     ]
    },
    {
     "name": "stdout",
     "output_type": "stream",
     "text": [
      "\r",
      "Epoch 23/1000:   2%|▏         | 22/1000 [04:08<2:25:34,  8.93s/it, v_num=9pfm, train_loss_step=646, train_loss_epoch=691]"
     ]
    },
    {
     "name": "stdout",
     "output_type": "stream",
     "text": [
      "\r",
      "Epoch 23/1000:   2%|▏         | 23/1000 [04:22<2:50:47, 10.49s/it, v_num=9pfm, train_loss_step=646, train_loss_epoch=691]"
     ]
    },
    {
     "name": "stdout",
     "output_type": "stream",
     "text": [
      "\r",
      "Epoch 23/1000:   2%|▏         | 23/1000 [04:22<2:50:47, 10.49s/it, v_num=9pfm, train_loss_step=652, train_loss_epoch=691]"
     ]
    },
    {
     "name": "stdout",
     "output_type": "stream",
     "text": [
      "\r",
      "Epoch 23/1000:   2%|▏         | 23/1000 [04:22<3:05:58, 11.42s/it, v_num=9pfm, train_loss_step=652, train_loss_epoch=691]"
     ]
    },
    {
     "name": "stdout",
     "output_type": "stream",
     "text": [
      "\n",
      "Monitored metric reconstruction_loss_validation did not improve in the last 10 records. Best score: 693.980. Signaling Trainer to stop.\n"
     ]
    }
   ],
   "source": [
    "model.train(logger=logger, plan_kwargs = plan_kwargs, **trainer_kwargs)"
   ]
  },
  {
   "cell_type": "code",
   "execution_count": 15,
   "id": "c282f6eb-0ad1-40a5-81e6-1acda1545dad",
   "metadata": {
    "execution": {
     "iopub.execute_input": "2024-10-21T15:03:16.349376Z",
     "iopub.status.busy": "2024-10-21T15:03:16.348526Z",
     "iopub.status.idle": "2024-10-21T15:03:21.164320Z",
     "shell.execute_reply": "2024-10-21T15:03:21.162863Z"
    },
    "papermill": {
     "duration": 4.836495,
     "end_time": "2024-10-21T15:03:21.167809",
     "exception": false,
     "start_time": "2024-10-21T15:03:16.331314",
     "status": "completed"
    },
    "tags": []
   },
   "outputs": [
    {
     "name": "stderr",
     "output_type": "stream",
     "text": [
      "\u001b[34m\u001b[1mwandb\u001b[0m: - 0.005 MB of 0.005 MB uploaded\r"
     ]
    },
    {
     "name": "stderr",
     "output_type": "stream",
     "text": [
      "\u001b[34m\u001b[1mwandb\u001b[0m: \\ 0.005 MB of 0.019 MB uploaded\r"
     ]
    },
    {
     "name": "stderr",
     "output_type": "stream",
     "text": [
      "\u001b[34m\u001b[1mwandb\u001b[0m: | 0.005 MB of 0.019 MB uploaded\r"
     ]
    },
    {
     "name": "stderr",
     "output_type": "stream",
     "text": [
      "\u001b[34m\u001b[1mwandb\u001b[0m: / 0.025 MB of 0.025 MB uploaded\r"
     ]
    },
    {
     "name": "stderr",
     "output_type": "stream",
     "text": [
      "\u001b[34m\u001b[1mwandb\u001b[0m:                                                                                \n"
     ]
    },
    {
     "name": "stderr",
     "output_type": "stream",
     "text": [
      "\u001b[34m\u001b[1mwandb\u001b[0m: \n",
      "\u001b[34m\u001b[1mwandb\u001b[0m: Run history:\n",
      "\u001b[34m\u001b[1mwandb\u001b[0m:                     elbo_train █▆▅▄▃▃▂▂▂▂▂▂▂▂▁▁▁▁▁▁▁▁▁\n",
      "\u001b[34m\u001b[1mwandb\u001b[0m:                elbo_validation █▅▄▃▃▂▂▂▂▂▂▂▁▁▁▁▁▁▁▁▁▁▁\n",
      "\u001b[34m\u001b[1mwandb\u001b[0m:                          epoch ▁▁▁▁▂▂▂▂▂▃▃▃▃▃▄▄▄▄▄▅▅▅▅▅▅▅▆▆▆▆▆▇▇▇▇▇▇███\n",
      "\u001b[34m\u001b[1mwandb\u001b[0m:                kl_global_train ▁▁▁▁▁▁▁▁▁▁▁▁▁▁▁▁▁▁▁▁▁▁▁\n",
      "\u001b[34m\u001b[1mwandb\u001b[0m:           kl_global_validation ▁▁▁▁▁▁▁▁▁▁▁▁▁▁▁▁▁▁▁▁▁▁▁\n",
      "\u001b[34m\u001b[1mwandb\u001b[0m:                 kl_local_train ▇█▇▅▄▄▃▃▃▃▂▂▂▂▂▂▂▁▁▁▁▁▁\n",
      "\u001b[34m\u001b[1mwandb\u001b[0m:            kl_local_validation █▆▅▃▃▃▃▂▂▂▂▂▂▂▁▁▁▁▁▁▁▁▁\n",
      "\u001b[34m\u001b[1mwandb\u001b[0m:                      kl_weight ▁▁▁▁▂▂▂▂▂▃▃▃▃▃▄▄▄▄▄▅▅▅▅▅▅▅▆▆▆▆▆▆▇▇▇▇▇███\n",
      "\u001b[34m\u001b[1mwandb\u001b[0m:      reconstruction_loss_train █▅▄▃▂▂▂▂▂▂▁▁▁▁▁▁▁▁▁▁▁▁▁\n",
      "\u001b[34m\u001b[1mwandb\u001b[0m: reconstruction_loss_validation █▅▄▃▂▂▁▁▁▁▁▁▁▁▁▁▁▁▁▁▁▁▁\n",
      "\u001b[34m\u001b[1mwandb\u001b[0m:               train_loss_epoch █▅▄▃▂▂▂▂▂▁▁▁▁▁▁▁▁▁▁▁▁▁▁\n",
      "\u001b[34m\u001b[1mwandb\u001b[0m:                train_loss_step █▂▆▄▄▃▂▃▄▆▄▇▂▄▄▅▂▄▃▅▃▅▂▂▄▃▃▃▁▃▂▃▅▄▄▄▅▂▃▃\n",
      "\u001b[34m\u001b[1mwandb\u001b[0m:            trainer/global_step ▁▁▁▂▂▂▂▂▂▃▃▃▃▃▄▄▄▄▄▄▅▅▅▅▅▅▆▆▆▆▆▇▇▇▇▇▇███\n",
      "\u001b[34m\u001b[1mwandb\u001b[0m:                validation_loss █▅▄▃▂▂▁▁▁▁▁▁▁▁▁▁▁▁▁▁▁▁▁\n",
      "\u001b[34m\u001b[1mwandb\u001b[0m: \n",
      "\u001b[34m\u001b[1mwandb\u001b[0m: Run summary:\n",
      "\u001b[34m\u001b[1mwandb\u001b[0m:                     elbo_train 715.34235\n",
      "\u001b[34m\u001b[1mwandb\u001b[0m:                elbo_validation 719.3844\n",
      "\u001b[34m\u001b[1mwandb\u001b[0m:                          epoch 22\n",
      "\u001b[34m\u001b[1mwandb\u001b[0m:                kl_global_train 0.0\n",
      "\u001b[34m\u001b[1mwandb\u001b[0m:           kl_global_validation 0.0\n",
      "\u001b[34m\u001b[1mwandb\u001b[0m:                 kl_local_train 25.68192\n",
      "\u001b[34m\u001b[1mwandb\u001b[0m:            kl_local_validation 25.02114\n",
      "\u001b[34m\u001b[1mwandb\u001b[0m:                      kl_weight 0.055\n",
      "\u001b[34m\u001b[1mwandb\u001b[0m:      reconstruction_loss_train 689.6604\n",
      "\u001b[34m\u001b[1mwandb\u001b[0m: reconstruction_loss_validation 694.36328\n",
      "\u001b[34m\u001b[1mwandb\u001b[0m:               train_loss_epoch 691.07281\n",
      "\u001b[34m\u001b[1mwandb\u001b[0m:                train_loss_step 664.79871\n",
      "\u001b[34m\u001b[1mwandb\u001b[0m:            trainer/global_step 25897\n",
      "\u001b[34m\u001b[1mwandb\u001b[0m:                validation_loss 695.73932\n",
      "\u001b[34m\u001b[1mwandb\u001b[0m: \n"
     ]
    },
    {
     "name": "stderr",
     "output_type": "stream",
     "text": [
      "\u001b[34m\u001b[1mwandb\u001b[0m: 🚀 View run \u001b[33mStep3_T_CD4_NonNaive\u001b[0m at: \u001b[34m\u001b[4mhttps://wandb.ai/inflammation/inflammation_atlas_R1/runs/1vfy9pfm/workspace\u001b[0m\n",
      "\u001b[34m\u001b[1mwandb\u001b[0m: Synced 6 W&B file(s), 0 media file(s), 0 artifact file(s) and 0 other file(s)\n"
     ]
    },
    {
     "name": "stderr",
     "output_type": "stream",
     "text": [
      "\u001b[34m\u001b[1mwandb\u001b[0m: Find logs at: \u001b[35m\u001b[1m./wandb/run-20241021_145848-1vfy9pfm/logs\u001b[0m\n"
     ]
    }
   ],
   "source": [
    "wandb.finish()"
   ]
  },
  {
   "cell_type": "markdown",
   "id": "d9fb1179-83c7-4ac6-b4aa-92dc7a349801",
   "metadata": {
    "papermill": {
     "duration": 0.012633,
     "end_time": "2024-10-21T15:03:21.202487",
     "exception": false,
     "start_time": "2024-10-21T15:03:21.189854",
     "status": "completed"
    },
    "tags": []
   },
   "source": [
    "### Extracting embedding space"
   ]
  },
  {
   "cell_type": "code",
   "execution_count": 16,
   "id": "caaa5832-0123-4c59-8ec6-f46a75f7a14e",
   "metadata": {
    "execution": {
     "iopub.execute_input": "2024-10-21T15:03:21.233669Z",
     "iopub.status.busy": "2024-10-21T15:03:21.233138Z",
     "iopub.status.idle": "2024-10-21T15:03:24.498414Z",
     "shell.execute_reply": "2024-10-21T15:03:24.497467Z"
    },
    "papermill": {
     "duration": 3.282641,
     "end_time": "2024-10-21T15:03:24.501603",
     "exception": false,
     "start_time": "2024-10-21T15:03:21.218962",
     "status": "completed"
    },
    "tags": []
   },
   "outputs": [],
   "source": [
    "adata.obsm['X_scVI'] = model.get_latent_representation()"
   ]
  },
  {
   "cell_type": "markdown",
   "id": "2f03e70b-839c-40a6-9fbb-d76bbd787419",
   "metadata": {
    "papermill": {
     "duration": 0.014074,
     "end_time": "2024-10-21T15:03:24.537787",
     "exception": false,
     "start_time": "2024-10-21T15:03:24.523713",
     "status": "completed"
    },
    "tags": []
   },
   "source": [
    "## Save the results"
   ]
  },
  {
   "cell_type": "code",
   "execution_count": 17,
   "id": "7b04049b-47fd-4b62-a1c0-c43dcc086d34",
   "metadata": {
    "execution": {
     "iopub.execute_input": "2024-10-21T15:03:24.559214Z",
     "iopub.status.busy": "2024-10-21T15:03:24.558867Z",
     "iopub.status.idle": "2024-10-21T15:03:37.072791Z",
     "shell.execute_reply": "2024-10-21T15:03:37.071316Z"
    },
    "papermill": {
     "duration": 12.528054,
     "end_time": "2024-10-21T15:03:37.076542",
     "exception": false,
     "start_time": "2024-10-21T15:03:24.548488",
     "status": "completed"
    },
    "tags": []
   },
   "outputs": [],
   "source": [
    "if overwriteData:\n",
    "    adata.write(here(f\"{workDir}/{cellGroup}/results/02_{annotationLevel}_{cellGroup}_HVGsubset_scVI.h5ad\"), compression=\"gzip\")\n",
    "    model.save(here(f\"{workDir}/{cellGroup}/results/02_{annotationLevel}_{cellGroup}_HVGsubset_scVI_MODEL/\"),\n",
    "               overwrite = True, \n",
    "               save_anndata = False )   "
   ]
  },
  {
   "cell_type": "code",
   "execution_count": 18,
   "id": "629ba2bd-f6be-44ef-8fca-bbdf891bf25f",
   "metadata": {
    "execution": {
     "iopub.execute_input": "2024-10-21T15:03:37.131375Z",
     "iopub.status.busy": "2024-10-21T15:03:37.130081Z",
     "iopub.status.idle": "2024-10-21T15:03:37.136145Z",
     "shell.execute_reply": "2024-10-21T15:03:37.134793Z"
    },
    "papermill": {
     "duration": 0.028267,
     "end_time": "2024-10-21T15:03:37.138175",
     "exception": false,
     "start_time": "2024-10-21T15:03:37.109908",
     "status": "completed"
    },
    "tags": []
   },
   "outputs": [],
   "source": [
    "# To load the model do (after loading corresponding adata):\n",
    "# model = scvi.model.SCVI.load(here('{}/results/01_{}_HVGsubset_scVI_MODEL/'.format(workDir, cellGroup)), \n",
    "#                              adata, \n",
    "#                              use_gpu=True)"
   ]
  },
  {
   "cell_type": "raw",
   "id": "975e84d0-f56b-498d-b3a8-c9219cf22e53",
   "metadata": {
    "papermill": {
     "duration": 0.009702,
     "end_time": "2024-10-21T15:03:37.162964",
     "exception": false,
     "start_time": "2024-10-21T15:03:37.153262",
     "status": "completed"
    },
    "tags": []
   },
   "source": [
    "session_info.show()"
   ]
  }
 ],
 "metadata": {
  "kernelspec": {
   "display_name": "Python 3 (ipykernel)",
   "language": "python",
   "name": "python3"
  },
  "language_info": {
   "codemirror_mode": {
    "name": "ipython",
    "version": 3
   },
   "file_extension": ".py",
   "mimetype": "text/x-python",
   "name": "python",
   "nbconvert_exporter": "python",
   "pygments_lexer": "ipython3",
   "version": "3.9.19"
  },
  "papermill": {
   "default_parameters": {},
   "duration": 305.349622,
   "end_time": "2024-10-21T15:03:40.937977",
   "environment_variables": {},
   "exception": null,
   "input_path": "T_CD4_NonNaive/02_integration_scVI.ipynb",
   "output_path": "T_CD4_NonNaive/02_integration_scVI.executed.ipynb",
   "parameters": {},
   "start_time": "2024-10-21T14:58:35.588355",
   "version": "2.5.0"
  }
 },
 "nbformat": 4,
 "nbformat_minor": 5
}