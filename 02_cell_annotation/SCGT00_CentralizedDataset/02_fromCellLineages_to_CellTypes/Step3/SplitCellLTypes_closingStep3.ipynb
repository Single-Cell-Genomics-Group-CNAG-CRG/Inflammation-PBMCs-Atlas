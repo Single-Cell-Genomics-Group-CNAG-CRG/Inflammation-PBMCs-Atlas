{
 "cells": [
  {
   "cell_type": "code",
   "execution_count": 12,
   "metadata": {
    "execution": {
     "iopub.execute_input": "2024-10-22T11:18:58.523349Z",
     "iopub.status.busy": "2024-10-22T11:18:58.522912Z",
     "iopub.status.idle": "2024-10-22T11:18:58.527530Z",
     "shell.execute_reply": "2024-10-22T11:18:58.527162Z",
     "shell.execute_reply.started": "2024-10-22T11:18:58.523320Z"
    }
   },
   "outputs": [],
   "source": [
    "# General modules\n",
    "import sys\n",
    "import os\n",
    "import session_info\n",
    "import warnings\n",
    "from pyprojroot.here import here\n",
    "import glob\n",
    "import pandas as pd\n",
    "import numpy as np\n",
    "import pickle\n",
    "\n",
    "# Setting some parameters\n",
    "warnings.filterwarnings(\"ignore\")\n",
    "sys.path.insert(1, str(here('bin')))\n",
    "\n",
    "# Import custom functions\n",
    "from customPythonFunctions import generate_split_dir\n",
    "\n",
    "\n",
    "#plt.style.use(['science','nature','no-latex'])\n",
    "dpi_fig_save = 300\n",
    "\n",
    "overwriteFigures = True\n",
    "overwriteData = True"
   ]
  },
  {
   "cell_type": "markdown",
   "metadata": {},
   "source": [
    "**Loading annotation pkl**"
   ]
  },
  {
   "cell_type": "code",
   "execution_count": 13,
   "metadata": {
    "execution": {
     "iopub.execute_input": "2024-10-22T11:18:58.892767Z",
     "iopub.status.busy": "2024-10-22T11:18:58.892477Z",
     "iopub.status.idle": "2024-10-22T11:18:58.894627Z",
     "shell.execute_reply": "2024-10-22T11:18:58.894265Z",
     "shell.execute_reply.started": "2024-10-22T11:18:58.892749Z"
    }
   },
   "outputs": [],
   "source": [
    "step = \"Step3\""
   ]
  },
  {
   "cell_type": "code",
   "execution_count": 14,
   "metadata": {
    "execution": {
     "iopub.execute_input": "2024-10-22T11:18:59.083848Z",
     "iopub.status.busy": "2024-10-22T11:18:59.083566Z",
     "iopub.status.idle": "2024-10-22T11:18:59.085623Z",
     "shell.execute_reply": "2024-10-22T11:18:59.085277Z",
     "shell.execute_reply.started": "2024-10-22T11:18:59.083832Z"
    }
   },
   "outputs": [],
   "source": [
    "annotation_col_name = 'annotation_step_3'"
   ]
  },
  {
   "cell_type": "code",
   "execution_count": 15,
   "metadata": {
    "execution": {
     "iopub.execute_input": "2024-10-22T11:18:59.265997Z",
     "iopub.status.busy": "2024-10-22T11:18:59.265501Z",
     "iopub.status.idle": "2024-10-22T11:18:59.271629Z",
     "shell.execute_reply": "2024-10-22T11:18:59.271284Z",
     "shell.execute_reply.started": "2024-10-22T11:18:59.265966Z"
    }
   },
   "outputs": [],
   "source": [
    "file_paths = glob.glob(str(here(f\"02_cell_annotation/SCGT00_CentralizedDataset/02_fromCellLineages_to_CellTypes/{step}/*/results/SCGT00_cluster_res*_annotated.pkl\")))\n",
    "# Load and concatenate all files into a single column DataFrame"
   ]
  },
  {
   "cell_type": "code",
   "execution_count": 16,
   "metadata": {
    "execution": {
     "iopub.execute_input": "2024-10-22T11:18:59.484480Z",
     "iopub.status.busy": "2024-10-22T11:18:59.484143Z",
     "iopub.status.idle": "2024-10-22T11:18:59.553910Z",
     "shell.execute_reply": "2024-10-22T11:18:59.553494Z",
     "shell.execute_reply.started": "2024-10-22T11:18:59.484463Z"
    }
   },
   "outputs": [
    {
     "name": "stdout",
     "output_type": "stream",
     "text": [
      "/scratch_isilon/groups/singlecell/shared/projects/Inflammation-PBMCs-Atlas/02_cell_annotation/SCGT00_CentralizedDataset/02_fromCellLineages_to_CellTypes/Step3/T_CD4_NonNaive/results/SCGT00_cluster_res0.75_annotated.pkl\n",
      "{'T_CD4_NonNaive', 'T_CD4_Naive', 'T_CD8_NonNaive'}\n",
      "/scratch_isilon/groups/singlecell/shared/projects/Inflammation-PBMCs-Atlas/02_cell_annotation/SCGT00_CentralizedDataset/02_fromCellLineages_to_CellTypes/Step3/T_CD8_Naive/results/SCGT00_cluster_res0.1_annotated.pkl\n",
      "{'T_CD8_Naive'}\n",
      "/scratch_isilon/groups/singlecell/shared/projects/Inflammation-PBMCs-Atlas/02_cell_annotation/SCGT00_CentralizedDataset/02_fromCellLineages_to_CellTypes/Step3/T_CD4_Naive/results/SCGT00_cluster_res0.25_annotated.pkl\n",
      "{'T_CD4_NonNaive', 'T_CD4_Naive'}\n",
      "/scratch_isilon/groups/singlecell/shared/projects/Inflammation-PBMCs-Atlas/02_cell_annotation/SCGT00_CentralizedDataset/02_fromCellLineages_to_CellTypes/Step3/ILC/results/SCGT00_cluster_res0.1_annotated.pkl\n",
      "{'ILC'}\n",
      "/scratch_isilon/groups/singlecell/shared/projects/Inflammation-PBMCs-Atlas/02_cell_annotation/SCGT00_CentralizedDataset/02_fromCellLineages_to_CellTypes/Step3/T_CD8_NonNaive/results/SCGT00_cluster_res0.5_annotated.pkl\n",
      "{'LowQuality_cells', 'Platelets', 'UTC', 'T_CD8_NonNaive'}\n"
     ]
    }
   ],
   "source": [
    "for file_path in file_paths: \n",
    "    print(file_path)\n",
    "    clusterAnnotDF = pd.read_pickle(file_path)\n",
    "    print(set(clusterAnnotDF[annotation_col_name]))"
   ]
  },
  {
   "cell_type": "code",
   "execution_count": 17,
   "metadata": {
    "execution": {
     "iopub.execute_input": "2024-10-22T11:18:59.718609Z",
     "iopub.status.busy": "2024-10-22T11:18:59.718260Z",
     "iopub.status.idle": "2024-10-22T11:18:59.783430Z",
     "shell.execute_reply": "2024-10-22T11:18:59.782917Z",
     "shell.execute_reply.started": "2024-10-22T11:18:59.718591Z"
    }
   },
   "outputs": [],
   "source": [
    "clusterAnnotDF = pd.concat([pd.read_pickle(file_path) for file_path in file_paths], axis=0)"
   ]
  },
  {
   "cell_type": "code",
   "execution_count": 18,
   "metadata": {
    "execution": {
     "iopub.execute_input": "2024-10-22T11:18:59.974075Z",
     "iopub.status.busy": "2024-10-22T11:18:59.973868Z",
     "iopub.status.idle": "2024-10-22T11:18:59.977614Z",
     "shell.execute_reply": "2024-10-22T11:18:59.977250Z",
     "shell.execute_reply.started": "2024-10-22T11:18:59.974056Z"
    }
   },
   "outputs": [
    {
     "name": "stdout",
     "output_type": "stream",
     "text": [
      "                                       annotation_step_3\n",
      "cellID                                                  \n",
      "SCGT00_L051_I57.3P_T0_AAACCCAGTCAAAGAT    T_CD4_NonNaive\n",
      "SCGT00_L051_I52.3P_T0_AAACGAAAGGCTAACG    T_CD4_NonNaive\n",
      "SCGT00_L051_I51.3P_T0_AAACGAAGTTCTAACG    T_CD8_NonNaive\n",
      "SCGT00_L051_I52.3P_T0_AAACGAATCTACGCAA    T_CD4_NonNaive\n",
      "SCGT00_L051_I55.3P_T0_AAACGCTGTCTTTCTA    T_CD4_NonNaive\n"
     ]
    }
   ],
   "source": [
    "print(clusterAnnotDF.head())"
   ]
  },
  {
   "cell_type": "code",
   "execution_count": 19,
   "metadata": {
    "execution": {
     "iopub.execute_input": "2024-10-22T11:19:00.436965Z",
     "iopub.status.busy": "2024-10-22T11:19:00.436645Z",
     "iopub.status.idle": "2024-10-22T11:19:00.474303Z",
     "shell.execute_reply": "2024-10-22T11:19:00.473928Z",
     "shell.execute_reply.started": "2024-10-22T11:19:00.436944Z"
    }
   },
   "outputs": [
    {
     "data": {
      "text/plain": [
       "{'ILC',\n",
       " 'LowQuality_cells',\n",
       " 'Platelets',\n",
       " 'T_CD4_Naive',\n",
       " 'T_CD4_NonNaive',\n",
       " 'T_CD8_Naive',\n",
       " 'T_CD8_NonNaive',\n",
       " 'UTC'}"
      ]
     },
     "execution_count": 19,
     "metadata": {},
     "output_type": "execute_result"
    }
   ],
   "source": [
    "set(clusterAnnotDF[annotation_col_name])"
   ]
  },
  {
   "cell_type": "code",
   "execution_count": 20,
   "metadata": {
    "execution": {
     "iopub.execute_input": "2024-10-22T11:19:02.505953Z",
     "iopub.status.busy": "2024-10-22T11:19:02.505653Z",
     "iopub.status.idle": "2024-10-22T11:19:02.508811Z",
     "shell.execute_reply": "2024-10-22T11:19:02.508324Z",
     "shell.execute_reply.started": "2024-10-22T11:19:02.505932Z"
    }
   },
   "outputs": [
    {
     "name": "stdout",
     "output_type": "stream",
     "text": [
      "(514133, 1)\n"
     ]
    }
   ],
   "source": [
    "print(clusterAnnotDF.shape)"
   ]
  },
  {
   "cell_type": "code",
   "execution_count": 21,
   "metadata": {
    "execution": {
     "iopub.execute_input": "2024-10-22T11:19:04.409756Z",
     "iopub.status.busy": "2024-10-22T11:19:04.409476Z",
     "iopub.status.idle": "2024-10-22T11:19:04.605734Z",
     "shell.execute_reply": "2024-10-22T11:19:04.605317Z",
     "shell.execute_reply.started": "2024-10-22T11:19:04.409736Z"
    }
   },
   "outputs": [],
   "source": [
    "clusterAnnotDF.to_pickle(here(f\"02_cell_annotation/SCGT00_CentralizedDataset/02_fromCellLineages_to_CellTypes/{step}/{step}_clusterAnnotDF.pkl\"))"
   ]
  },
  {
   "cell_type": "markdown",
   "metadata": {},
   "source": [
    "**Updating master annotation DF**"
   ]
  },
  {
   "cell_type": "code",
   "execution_count": 22,
   "metadata": {
    "execution": {
     "iopub.execute_input": "2024-10-22T11:19:06.765085Z",
     "iopub.status.busy": "2024-10-22T11:19:06.764804Z",
     "iopub.status.idle": "2024-10-22T11:19:06.993283Z",
     "shell.execute_reply": "2024-10-22T11:19:06.992917Z",
     "shell.execute_reply.started": "2024-10-22T11:19:06.765067Z"
    }
   },
   "outputs": [],
   "source": [
    "master_AnnotDFpath = str(here(\"02_cell_annotation/SCGT00_CentralizedDataset/02_fromCellLineages_to_CellTypes/master_clusterAnnotDF.pkl\"))\n",
    "master_AnnotDF = pd.read_pickle(master_AnnotDFpath)"
   ]
  },
  {
   "cell_type": "code",
   "execution_count": 23,
   "metadata": {
    "execution": {
     "iopub.execute_input": "2024-10-22T11:19:07.447335Z",
     "iopub.status.busy": "2024-10-22T11:19:07.446883Z",
     "iopub.status.idle": "2024-10-22T11:19:07.799138Z",
     "shell.execute_reply": "2024-10-22T11:19:07.798677Z",
     "shell.execute_reply.started": "2024-10-22T11:19:07.447318Z"
    }
   },
   "outputs": [],
   "source": [
    "last_column_name = master_AnnotDF.columns[-1]\n",
    "master_AnnotDF[annotation_col_name] = master_AnnotDF[last_column_name]\n",
    "master_AnnotDF[annotation_col_name].update(clusterAnnotDF[annotation_col_name])"
   ]
  },
  {
   "cell_type": "code",
   "execution_count": 24,
   "metadata": {
    "execution": {
     "iopub.execute_input": "2024-10-22T11:19:08.004412Z",
     "iopub.status.busy": "2024-10-22T11:19:08.004185Z",
     "iopub.status.idle": "2024-10-22T11:19:08.008008Z",
     "shell.execute_reply": "2024-10-22T11:19:08.007654Z",
     "shell.execute_reply.started": "2024-10-22T11:19:08.004395Z"
    }
   },
   "outputs": [
    {
     "name": "stdout",
     "output_type": "stream",
     "text": [
      "                                       annotation_step_1 annotation_step_2  \\\n",
      "cellID                                                                       \n",
      "SCGT00_L051_I53.3P_T0_AACCAACGTGGGATTG               pDC               pDC   \n",
      "SCGT00_L051_I51.3P_T0_AAGGTAATCTTCCCGA               pDC               pDC   \n",
      "SCGT00_L051_I58.3P_T0_ACCTGAAAGTGCCAGA               pDC               pDC   \n",
      "SCGT00_L051_I51.3P_T0_ACGGGTCTCTTGGTGA               pDC               pDC   \n",
      "SCGT00_L051_I53.3P_T0_ACTATGGAGGCGCTCT               pDC               pDC   \n",
      "\n",
      "                                       annotation_step_3  \n",
      "cellID                                                    \n",
      "SCGT00_L051_I53.3P_T0_AACCAACGTGGGATTG               pDC  \n",
      "SCGT00_L051_I51.3P_T0_AAGGTAATCTTCCCGA               pDC  \n",
      "SCGT00_L051_I58.3P_T0_ACCTGAAAGTGCCAGA               pDC  \n",
      "SCGT00_L051_I51.3P_T0_ACGGGTCTCTTGGTGA               pDC  \n",
      "SCGT00_L051_I53.3P_T0_ACTATGGAGGCGCTCT               pDC  \n"
     ]
    }
   ],
   "source": [
    "print(master_AnnotDF.head())"
   ]
  },
  {
   "cell_type": "code",
   "execution_count": 25,
   "metadata": {
    "execution": {
     "iopub.execute_input": "2024-10-22T11:19:10.264946Z",
     "iopub.status.busy": "2024-10-22T11:19:10.264645Z",
     "iopub.status.idle": "2024-10-22T11:19:10.267640Z",
     "shell.execute_reply": "2024-10-22T11:19:10.267246Z",
     "shell.execute_reply.started": "2024-10-22T11:19:10.264926Z"
    }
   },
   "outputs": [
    {
     "name": "stdout",
     "output_type": "stream",
     "text": [
      "(855417, 3)\n"
     ]
    }
   ],
   "source": [
    "print(master_AnnotDF.shape)"
   ]
  },
  {
   "cell_type": "code",
   "execution_count": 26,
   "metadata": {
    "execution": {
     "iopub.execute_input": "2024-10-22T11:19:11.033979Z",
     "iopub.status.busy": "2024-10-22T11:19:11.033724Z",
     "iopub.status.idle": "2024-10-22T11:19:11.097841Z",
     "shell.execute_reply": "2024-10-22T11:19:11.097473Z",
     "shell.execute_reply.started": "2024-10-22T11:19:11.033960Z"
    }
   },
   "outputs": [
    {
     "data": {
      "text/plain": [
       "{'B',\n",
       " 'Cycling',\n",
       " 'DC',\n",
       " 'Doublets_Step1',\n",
       " 'Doublets_Step2',\n",
       " 'ILC',\n",
       " 'LowQuality_cells',\n",
       " 'Mono',\n",
       " 'Plasma',\n",
       " 'Platelets',\n",
       " 'Progenitors',\n",
       " 'RBC',\n",
       " 'T_CD4_Naive',\n",
       " 'T_CD4_NonNaive',\n",
       " 'T_CD8_Naive',\n",
       " 'T_CD8_NonNaive',\n",
       " 'UTC',\n",
       " 'pDC'}"
      ]
     },
     "execution_count": 26,
     "metadata": {},
     "output_type": "execute_result"
    }
   ],
   "source": [
    "set(master_AnnotDF[annotation_col_name])"
   ]
  },
  {
   "cell_type": "markdown",
   "metadata": {},
   "source": [
    "# Split Lineages"
   ]
  },
  {
   "cell_type": "code",
   "execution_count": 27,
   "metadata": {
    "execution": {
     "iopub.execute_input": "2024-10-22T11:20:16.995982Z",
     "iopub.status.busy": "2024-10-22T11:20:16.995714Z",
     "iopub.status.idle": "2024-10-22T11:20:16.998762Z",
     "shell.execute_reply": "2024-10-22T11:20:16.998388Z",
     "shell.execute_reply.started": "2024-10-22T11:20:16.995963Z"
    }
   },
   "outputs": [],
   "source": [
    "annotation_col_name = 'annotation_step_3'\n",
    "not_interesting_categories = [\"LowQuality_cells\", \"Doublets_Step1\", \"Doublets_Step2\"]\n",
    "finished_categories = [\"Progenitors\", \"pDC\", \"Plasma\", \"RBC\", \"Platelets\", \"Cycling\", \"B\", \"DC\", \"Mono\", \"UTC\", \"ILC\",  'T_CD4_Naive', 'T_CD4_NonNaive', 'T_CD8_Naive', 'T_CD8_NonNaive']"
   ]
  },
  {
   "cell_type": "code",
   "execution_count": 28,
   "metadata": {
    "execution": {
     "iopub.execute_input": "2024-10-22T11:20:17.353412Z",
     "iopub.status.busy": "2024-10-22T11:20:17.353199Z",
     "iopub.status.idle": "2024-10-22T11:20:17.399041Z",
     "shell.execute_reply": "2024-10-22T11:20:17.398633Z",
     "shell.execute_reply.started": "2024-10-22T11:20:17.353393Z"
    }
   },
   "outputs": [
    {
     "name": "stdout",
     "output_type": "stream",
     "text": [
      "annotation_step_3\n",
      "T_CD4_NonNaive      159203\n",
      "Mono                131392\n",
      "T_CD4_Naive         123116\n",
      "T_CD8_NonNaive       93256\n",
      "LowQuality_cells     61139\n",
      "ILC                  57046\n",
      "B                    55869\n",
      "Platelets            52472\n",
      "T_CD8_Naive          40745\n",
      "Doublets_Step1       34797\n",
      "UTC                  23420\n",
      "DC                   10440\n",
      "Doublets_Step2        3361\n",
      "pDC                   3125\n",
      "Cycling               2741\n",
      "Progenitors           1716\n",
      "Plasma                1383\n",
      "RBC                    196\n",
      "dtype: int64\n"
     ]
    }
   ],
   "source": [
    "cell_counts = master_AnnotDF.groupby(annotation_col_name).size().sort_values(ascending=False)\n",
    "print(cell_counts)"
   ]
  },
  {
   "cell_type": "code",
   "execution_count": 29,
   "metadata": {
    "execution": {
     "iopub.execute_input": "2024-10-22T11:20:29.187022Z",
     "iopub.status.busy": "2024-10-22T11:20:29.186611Z",
     "iopub.status.idle": "2024-10-22T11:20:29.191144Z",
     "shell.execute_reply": "2024-10-22T11:20:29.190684Z",
     "shell.execute_reply.started": "2024-10-22T11:20:29.187002Z"
    }
   },
   "outputs": [
    {
     "name": "stdout",
     "output_type": "stream",
     "text": [
      "We are removing a total of 99297 cells\n",
      "LowQuality_cells: 61139 cells removed\n",
      "Doublets_Step1: 34797 cells removed\n",
      "Doublets_Step2: 3361 cells removed\n"
     ]
    }
   ],
   "source": [
    "total_cells_to_remove = cell_counts.loc[not_interesting_categories].sum()\n",
    "print(f\"We are removing a total of {total_cells_to_remove} cells\")\n",
    "for category in not_interesting_categories:\n",
    "    cells_removed = cell_counts.loc[category]\n",
    "    print(f\"{category}: {cells_removed} cells removed\")"
   ]
  },
  {
   "cell_type": "code",
   "execution_count": 30,
   "metadata": {
    "execution": {
     "iopub.execute_input": "2024-10-22T11:20:38.186019Z",
     "iopub.status.busy": "2024-10-22T11:20:38.185726Z",
     "iopub.status.idle": "2024-10-22T11:20:38.190238Z",
     "shell.execute_reply": "2024-10-22T11:20:38.189756Z",
     "shell.execute_reply.started": "2024-10-22T11:20:38.186000Z"
    }
   },
   "outputs": [
    {
     "name": "stdout",
     "output_type": "stream",
     "text": [
      "We have finished a total of 756120 cells\n",
      "Progenitors: 1716 cells finished\n",
      "pDC: 3125 cells finished\n",
      "Plasma: 1383 cells finished\n",
      "RBC: 196 cells finished\n",
      "Platelets: 52472 cells finished\n",
      "Cycling: 2741 cells finished\n",
      "B: 55869 cells finished\n",
      "DC: 10440 cells finished\n",
      "Mono: 131392 cells finished\n",
      "UTC: 23420 cells finished\n",
      "ILC: 57046 cells finished\n",
      "T_CD4_Naive: 123116 cells finished\n",
      "T_CD4_NonNaive: 159203 cells finished\n",
      "T_CD8_Naive: 40745 cells finished\n",
      "T_CD8_NonNaive: 93256 cells finished\n"
     ]
    }
   ],
   "source": [
    "total_cells_finished = cell_counts.loc[finished_categories].sum()\n",
    "print(f\"We have finished a total of {total_cells_finished} cells\")\n",
    "for category in finished_categories:\n",
    "    cells_finished = cell_counts.loc[category]\n",
    "    print(f\"{category}: {cells_finished} cells finished\")"
   ]
  },
  {
   "cell_type": "code",
   "execution_count": 31,
   "metadata": {
    "execution": {
     "iopub.execute_input": "2024-10-22T11:21:10.802395Z",
     "iopub.status.busy": "2024-10-22T11:21:10.801984Z",
     "iopub.status.idle": "2024-10-22T11:21:10.806635Z",
     "shell.execute_reply": "2024-10-22T11:21:10.806143Z",
     "shell.execute_reply.started": "2024-10-22T11:21:10.802375Z"
    }
   },
   "outputs": [
    {
     "name": "stdout",
     "output_type": "stream",
     "text": [
      "We are still missing a total of 0 cells\n"
     ]
    }
   ],
   "source": [
    "next_step_categories = cell_counts.index.difference(set(finished_categories).union(set(not_interesting_categories)))\n",
    "total_cells_of_interest = cell_counts.loc[next_step_categories].sum()\n",
    "print(f\"We are still missing a total of {total_cells_of_interest} cells\")\n",
    "for category in next_step_categories:\n",
    "    cells_missing = cell_counts.loc[category]\n",
    "    print(f\"{category}: {cells_missing} cells missing\")"
   ]
  },
  {
   "cell_type": "code",
   "execution_count": 32,
   "metadata": {
    "execution": {
     "iopub.execute_input": "2024-10-22T11:21:12.445025Z",
     "iopub.status.busy": "2024-10-22T11:21:12.444716Z",
     "iopub.status.idle": "2024-10-22T11:21:12.482625Z",
     "shell.execute_reply": "2024-10-22T11:21:12.482163Z",
     "shell.execute_reply.started": "2024-10-22T11:21:12.445004Z"
    }
   },
   "outputs": [
    {
     "data": {
      "text/plain": [
       "array(['pDC', 'LowQuality_cells', 'Doublets_Step1', 'Platelets', 'Mono',\n",
       "       'DC', 'Doublets_Step2', 'ILC', 'T_CD4_Naive', 'T_CD4_NonNaive',\n",
       "       'T_CD8_Naive', 'T_CD8_NonNaive', 'UTC', 'Cycling', 'Plasma',\n",
       "       'Progenitors', 'RBC', 'B'], dtype=object)"
      ]
     },
     "execution_count": 32,
     "metadata": {},
     "output_type": "execute_result"
    }
   ],
   "source": [
    "master_AnnotDF[annotation_col_name].unique()"
   ]
  },
  {
   "cell_type": "code",
   "execution_count": 33,
   "metadata": {
    "execution": {
     "iopub.execute_input": "2024-10-22T11:21:15.623484Z",
     "iopub.status.busy": "2024-10-22T11:21:15.623016Z",
     "iopub.status.idle": "2024-10-22T11:21:16.133665Z",
     "shell.execute_reply": "2024-10-22T11:21:16.133179Z",
     "shell.execute_reply.started": "2024-10-22T11:21:15.623463Z"
    }
   },
   "outputs": [],
   "source": [
    "master_AnnotDF.to_pickle(here(f\"02_cell_annotation/SCGT00_CentralizedDataset/02_fromCellLineages_to_CellTypes/master_clusterAnnotDF.pkl\"))"
   ]
  },
  {
   "cell_type": "markdown",
   "metadata": {},
   "source": [
    "## Add Level1 annotation"
   ]
  },
  {
   "cell_type": "code",
   "execution_count": 34,
   "metadata": {
    "execution": {
     "iopub.execute_input": "2024-10-22T11:21:21.809815Z",
     "iopub.status.busy": "2024-10-22T11:21:21.809521Z",
     "iopub.status.idle": "2024-10-22T11:21:21.858763Z",
     "shell.execute_reply": "2024-10-22T11:21:21.858350Z",
     "shell.execute_reply.started": "2024-10-22T11:21:21.809795Z"
    }
   },
   "outputs": [
    {
     "data": {
      "text/plain": [
       "array(['pDC', 'LowQuality_cells', 'Doublets_Step1', 'Platelets', 'Mono',\n",
       "       'DC', 'Doublets_Step2', 'ILC', 'T_CD4_Naive', 'T_CD4_NonNaive',\n",
       "       'T_CD8_Naive', 'T_CD8_NonNaive', 'UTC', 'Cycling', 'Plasma',\n",
       "       'Progenitors', 'RBC', 'B'], dtype=object)"
      ]
     },
     "execution_count": 34,
     "metadata": {},
     "output_type": "execute_result"
    }
   ],
   "source": [
    "master_AnnotDF[\"Level1\"] = master_AnnotDF[\"annotation_step_3\"].astype('str')\n",
    "master_AnnotDF[\"Level1\"].unique()"
   ]
  },
  {
   "cell_type": "code",
   "execution_count": 35,
   "metadata": {
    "execution": {
     "iopub.execute_input": "2024-10-22T11:21:38.732836Z",
     "iopub.status.busy": "2024-10-22T11:21:38.732522Z",
     "iopub.status.idle": "2024-10-22T11:21:38.779676Z",
     "shell.execute_reply": "2024-10-22T11:21:38.779261Z",
     "shell.execute_reply.started": "2024-10-22T11:21:38.732816Z"
    }
   },
   "outputs": [
    {
     "data": {
      "text/plain": [
       "Level1\n",
       "T_CD4_NonNaive      159203\n",
       "Mono                131392\n",
       "T_CD4_Naive         123116\n",
       "T_CD8_NonNaive       93256\n",
       "LowQuality_cells     61139\n",
       "ILC                  57046\n",
       "B                    55869\n",
       "Platelets            52472\n",
       "T_CD8_Naive          40745\n",
       "Doublets_Step1       34797\n",
       "UTC                  23420\n",
       "DC                   10440\n",
       "Doublets_Step2        3361\n",
       "pDC                   3125\n",
       "Cycling               2741\n",
       "Progenitors           1716\n",
       "Plasma                1383\n",
       "RBC                    196\n",
       "dtype: int64"
      ]
     },
     "execution_count": 35,
     "metadata": {},
     "output_type": "execute_result"
    }
   ],
   "source": [
    "master_AnnotDF.groupby(\"Level1\").size().sort_values(ascending=False)"
   ]
  },
  {
   "cell_type": "code",
   "execution_count": 36,
   "metadata": {
    "execution": {
     "iopub.execute_input": "2024-10-22T11:21:43.242560Z",
     "iopub.status.busy": "2024-10-22T11:21:43.241946Z",
     "iopub.status.idle": "2024-10-22T11:21:43.288329Z",
     "shell.execute_reply": "2024-10-22T11:21:43.287925Z",
     "shell.execute_reply.started": "2024-10-22T11:21:43.242528Z"
    }
   },
   "outputs": [
    {
     "data": {
      "text/plain": [
       "855417"
      ]
     },
     "execution_count": 36,
     "metadata": {},
     "output_type": "execute_result"
    }
   ],
   "source": [
    "master_AnnotDF.groupby(\"Level1\").size().sum()"
   ]
  },
  {
   "cell_type": "code",
   "execution_count": 37,
   "metadata": {
    "execution": {
     "iopub.execute_input": "2024-10-22T11:21:50.082711Z",
     "iopub.status.busy": "2024-10-22T11:21:50.082494Z",
     "iopub.status.idle": "2024-10-22T11:21:50.581793Z",
     "shell.execute_reply": "2024-10-22T11:21:50.581305Z",
     "shell.execute_reply.started": "2024-10-22T11:21:50.082694Z"
    }
   },
   "outputs": [],
   "source": [
    "# Save\n",
    "master_AnnotDF.to_pickle(here(f\"02_cell_annotation/SCGT00_CentralizedDataset/02_fromCellLineages_to_CellTypes/master_clusterAnnotDF_final.pkl\"))"
   ]
  },
  {
   "cell_type": "code",
   "execution_count": 38,
   "metadata": {
    "execution": {
     "iopub.execute_input": "2024-10-22T11:21:51.734224Z",
     "iopub.status.busy": "2024-10-22T11:21:51.733862Z",
     "iopub.status.idle": "2024-10-22T11:21:52.541572Z",
     "shell.execute_reply": "2024-10-22T11:21:52.541175Z",
     "shell.execute_reply.started": "2024-10-22T11:21:51.734205Z"
    }
   },
   "outputs": [
    {
     "data": {
      "text/html": [
       "<details>\n",
       "<summary>Click to view session information</summary>\n",
       "<pre>\n",
       "-----\n",
       "customPythonFunctions       NA\n",
       "numpy                       1.26.4\n",
       "pandas                      2.2.0\n",
       "pyprojroot                  NA\n",
       "session_info                1.0.0\n",
       "-----\n",
       "</pre>\n",
       "<details>\n",
       "<summary>Click to view modules imported as dependencies</summary>\n",
       "<pre>\n",
       "anyio                       NA\n",
       "argcomplete                 NA\n",
       "arrow                       1.3.0\n",
       "asttokens                   NA\n",
       "attr                        23.2.0\n",
       "attrs                       23.2.0\n",
       "babel                       2.14.0\n",
       "brotli                      1.1.0\n",
       "certifi                     2024.02.02\n",
       "charset_normalizer          3.3.2\n",
       "cloudpickle                 3.0.0\n",
       "colorama                    0.4.6\n",
       "comm                        0.2.1\n",
       "cython_runtime              NA\n",
       "dateutil                    2.8.2\n",
       "debugpy                     1.8.1\n",
       "decorator                   5.1.1\n",
       "exceptiongroup              1.2.0\n",
       "executing                   2.0.1\n",
       "fastjsonschema              NA\n",
       "fqdn                        NA\n",
       "idna                        3.6\n",
       "ipykernel                   6.29.2\n",
       "isoduration                 NA\n",
       "jedi                        0.19.1\n",
       "jinja2                      3.1.3\n",
       "json5                       NA\n",
       "jsonpointer                 2.4\n",
       "jsonschema                  4.21.1\n",
       "jsonschema_specifications   NA\n",
       "jupyter_events              0.9.0\n",
       "jupyter_server              2.12.5\n",
       "jupyterlab_server           2.25.3\n",
       "markupsafe                  2.1.5\n",
       "nbformat                    5.9.2\n",
       "overrides                   NA\n",
       "packaging                   23.2\n",
       "parso                       0.8.3\n",
       "pickleshare                 0.7.5\n",
       "platformdirs                4.2.0\n",
       "prometheus_client           NA\n",
       "prompt_toolkit              3.0.42\n",
       "psutil                      5.9.8\n",
       "pure_eval                   0.2.2\n",
       "pyarrow                     15.0.0\n",
       "pydev_ipython               NA\n",
       "pydevconsole                NA\n",
       "pydevd                      2.9.5\n",
       "pydevd_file_utils           NA\n",
       "pydevd_plugins              NA\n",
       "pydevd_tracing              NA\n",
       "pygments                    2.17.2\n",
       "pythonjsonlogger            NA\n",
       "pytz                        2024.1\n",
       "referencing                 NA\n",
       "requests                    2.31.0\n",
       "rfc3339_validator           0.1.4\n",
       "rfc3986_validator           0.1.1\n",
       "rpds                        NA\n",
       "send2trash                  NA\n",
       "simplejson                  3.19.2\n",
       "six                         1.16.0\n",
       "sniffio                     1.3.0\n",
       "socks                       1.7.1\n",
       "stack_data                  0.6.2\n",
       "tornado                     6.4\n",
       "traitlets                   5.14.1\n",
       "typing_extensions           NA\n",
       "uri_template                NA\n",
       "urllib3                     2.2.1\n",
       "wcwidth                     0.2.13\n",
       "webcolors                   1.13\n",
       "websocket                   1.7.0\n",
       "yaml                        6.0.1\n",
       "zmq                         25.1.2\n",
       "zoneinfo                    NA\n",
       "zstandard                   0.22.0\n",
       "</pre>\n",
       "</details> <!-- seems like this ends pre, so might as well be explicit -->\n",
       "<pre>\n",
       "-----\n",
       "IPython             8.21.0\n",
       "jupyter_client      8.6.0\n",
       "jupyter_core        5.7.1\n",
       "jupyterlab          4.1.2\n",
       "-----\n",
       "Python 3.10.13 | packaged by conda-forge | (main, Dec 23 2023, 15:36:39) [GCC 12.3.0]\n",
       "Linux-3.10.0-1160.88.1.el7.x86_64-x86_64-with-glibc2.17\n",
       "-----\n",
       "Session information updated at 2024-10-22 13:21\n",
       "</pre>\n",
       "</details>"
      ],
      "text/plain": [
       "<IPython.core.display.HTML object>"
      ]
     },
     "execution_count": 38,
     "metadata": {},
     "output_type": "execute_result"
    }
   ],
   "source": [
    "session_info.show()"
   ]
  },
  {
   "cell_type": "code",
   "execution_count": null,
   "metadata": {},
   "outputs": [],
   "source": []
  }
 ],
 "metadata": {
  "kernelspec": {
   "display_name": "Python 3 (ipykernel)",
   "language": "python",
   "name": "python3"
  },
  "language_info": {
   "codemirror_mode": {
    "name": "ipython",
    "version": 3
   },
   "file_extension": ".py",
   "mimetype": "text/x-python",
   "name": "python",
   "nbconvert_exporter": "python",
   "pygments_lexer": "ipython3",
   "version": "3.10.13"
  },
  "toc": {
   "base_numbering": 1,
   "nav_menu": {},
   "number_sections": true,
   "sideBar": true,
   "skip_h1_title": false,
   "title_cell": "Table of Contents",
   "title_sidebar": "Contents",
   "toc_cell": false,
   "toc_position": {},
   "toc_section_display": true,
   "toc_window_display": false
  }
 },
 "nbformat": 4,
 "nbformat_minor": 4
}
