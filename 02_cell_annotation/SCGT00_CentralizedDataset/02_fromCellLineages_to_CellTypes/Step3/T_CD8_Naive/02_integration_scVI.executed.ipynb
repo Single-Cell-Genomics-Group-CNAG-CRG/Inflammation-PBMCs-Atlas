{
 "cells": [
  {
   "cell_type": "code",
   "execution_count": 1,
   "id": "2dd1425a-0c07-465e-b522-9e3cc5cb93a7",
   "metadata": {
    "execution": {
     "iopub.execute_input": "2024-10-21T15:03:43.049718Z",
     "iopub.status.busy": "2024-10-21T15:03:43.049204Z",
     "iopub.status.idle": "2024-10-21T15:03:46.717130Z",
     "shell.execute_reply": "2024-10-21T15:03:46.716457Z"
    },
    "papermill": {
     "duration": 3.688377,
     "end_time": "2024-10-21T15:03:46.721012",
     "exception": false,
     "start_time": "2024-10-21T15:03:43.032635",
     "status": "completed"
    },
    "tags": []
   },
   "outputs": [
    {
     "name": "stderr",
     "output_type": "stream",
     "text": [
      "/home/dmaspero/miniconda3/envs/scarches/lib/python3.9/site-packages/tqdm/auto.py:21: TqdmWarning: IProgress not found. Please update jupyter and ipywidgets. See https://ipywidgets.readthedocs.io/en/stable/user_install.html\n",
      "  from .autonotebook import tqdm as notebook_tqdm\n"
     ]
    },
    {
     "data": {
      "text/plain": [
       "True"
      ]
     },
     "execution_count": 1,
     "metadata": {},
     "output_type": "execute_result"
    }
   ],
   "source": [
    "import os\n",
    "import sys\n",
    "\n",
    "import numpy as np\n",
    "import matplotlib.pyplot as plt\n",
    "\n",
    "import scanpy as sc\n",
    "import scvi\n",
    "import torch\n",
    "\n",
    "from pytorch_lightning.loggers import WandbLogger\n",
    "import wandb\n",
    "from dotenv import load_dotenv\n",
    "\n",
    "import session_info\n",
    "import warnings\n",
    "from pyprojroot.here import here\n",
    "\n",
    "warnings.filterwarnings(\"ignore\")\n",
    "sys.path.insert(1, str(here('bin')))\n",
    "\n",
    "torch.set_float32_matmul_precision('high')\n",
    "\n",
    "#plt.style.use(['science','nature','no-latex'])\n",
    "dpi_fig_save = 300\n",
    "sc.set_figure_params(dpi=100, dpi_save=dpi_fig_save, vector_friendly=True)\n",
    "\n",
    "load_dotenv(here('.env'))"
   ]
  },
  {
   "cell_type": "code",
   "execution_count": 2,
   "id": "09c897fc-744b-43de-a681-718fb5d327fa",
   "metadata": {
    "execution": {
     "iopub.execute_input": "2024-10-21T15:03:46.746214Z",
     "iopub.status.busy": "2024-10-21T15:03:46.745369Z",
     "iopub.status.idle": "2024-10-21T15:03:46.752032Z",
     "shell.execute_reply": "2024-10-21T15:03:46.750764Z"
    },
    "papermill": {
     "duration": 0.020986,
     "end_time": "2024-10-21T15:03:46.753812",
     "exception": false,
     "start_time": "2024-10-21T15:03:46.732826",
     "status": "completed"
    },
    "tags": []
   },
   "outputs": [],
   "source": [
    "class CustomWandbLogger(WandbLogger):\n",
    "    @property\n",
    "    def save_dir(self):\n",
    "        return self.experiment.dir"
   ]
  },
  {
   "cell_type": "code",
   "execution_count": 3,
   "id": "8ee6662f-5d45-4137-80a5-bb0b9ae8d71f",
   "metadata": {
    "execution": {
     "iopub.execute_input": "2024-10-21T15:03:46.774384Z",
     "iopub.status.busy": "2024-10-21T15:03:46.773912Z",
     "iopub.status.idle": "2024-10-21T15:03:46.784804Z",
     "shell.execute_reply": "2024-10-21T15:03:46.783575Z"
    },
    "papermill": {
     "duration": 0.026863,
     "end_time": "2024-10-21T15:03:46.787919",
     "exception": false,
     "start_time": "2024-10-21T15:03:46.761056",
     "status": "completed"
    },
    "tags": []
   },
   "outputs": [
    {
     "name": "stderr",
     "output_type": "stream",
     "text": [
      "Seed set to 0\n"
     ]
    },
    {
     "name": "stdout",
     "output_type": "stream",
     "text": [
      "Last run with scvi-tools version: 1.1.2\n"
     ]
    }
   ],
   "source": [
    "scvi.settings.seed = 0\n",
    "print(\"Last run with scvi-tools version:\", scvi.__version__)"
   ]
  },
  {
   "cell_type": "markdown",
   "id": "a81037ff-5998-482a-ba86-520f757311a9",
   "metadata": {
    "papermill": {
     "duration": 0.011282,
     "end_time": "2024-10-21T15:03:46.811178",
     "exception": false,
     "start_time": "2024-10-21T15:03:46.799896",
     "status": "completed"
    },
    "tags": []
   },
   "source": [
    "**Setting parameters** "
   ]
  },
  {
   "cell_type": "code",
   "execution_count": 4,
   "id": "56c27966-8f10-4c93-8b1a-1fa75f005e41",
   "metadata": {
    "execution": {
     "iopub.execute_input": "2024-10-21T15:03:46.835159Z",
     "iopub.status.busy": "2024-10-21T15:03:46.834214Z",
     "iopub.status.idle": "2024-10-21T15:03:46.839697Z",
     "shell.execute_reply": "2024-10-21T15:03:46.838607Z"
    },
    "papermill": {
     "duration": 0.020912,
     "end_time": "2024-10-21T15:03:46.842728",
     "exception": false,
     "start_time": "2024-10-21T15:03:46.821816",
     "status": "completed"
    },
    "tags": []
   },
   "outputs": [],
   "source": [
    "overwriteFigures = True\n",
    "overwriteData = True"
   ]
  },
  {
   "cell_type": "code",
   "execution_count": 5,
   "id": "c86fccd3-a4fe-415b-8f4e-e2ceb3ec128a",
   "metadata": {
    "execution": {
     "iopub.execute_input": "2024-10-21T15:03:46.867537Z",
     "iopub.status.busy": "2024-10-21T15:03:46.866557Z",
     "iopub.status.idle": "2024-10-21T15:03:46.872416Z",
     "shell.execute_reply": "2024-10-21T15:03:46.871252Z"
    },
    "papermill": {
     "duration": 0.020615,
     "end_time": "2024-10-21T15:03:46.875512",
     "exception": false,
     "start_time": "2024-10-21T15:03:46.854897",
     "status": "completed"
    },
    "tags": []
   },
   "outputs": [],
   "source": [
    "cellGroup = 'T_CD8_Naive'\n",
    "workDir = os.getcwd()"
   ]
  },
  {
   "cell_type": "code",
   "execution_count": 6,
   "id": "2dee4d55-d168-467b-b867-a61fed9d6af1",
   "metadata": {
    "execution": {
     "iopub.execute_input": "2024-10-21T15:03:46.898738Z",
     "iopub.status.busy": "2024-10-21T15:03:46.897897Z",
     "iopub.status.idle": "2024-10-21T15:03:46.904268Z",
     "shell.execute_reply": "2024-10-21T15:03:46.902902Z"
    },
    "papermill": {
     "duration": 0.020266,
     "end_time": "2024-10-21T15:03:46.907466",
     "exception": false,
     "start_time": "2024-10-21T15:03:46.887200",
     "status": "completed"
    },
    "tags": []
   },
   "outputs": [],
   "source": [
    "annotationLevel = os.path.basename(os.path.normpath(workDir))"
   ]
  },
  {
   "cell_type": "code",
   "execution_count": 7,
   "id": "11e53cd5-b746-4152-89cb-c2f0c15d90b3",
   "metadata": {
    "execution": {
     "iopub.execute_input": "2024-10-21T15:03:46.932810Z",
     "iopub.status.busy": "2024-10-21T15:03:46.932321Z",
     "iopub.status.idle": "2024-10-21T15:03:46.940580Z",
     "shell.execute_reply": "2024-10-21T15:03:46.939214Z"
    },
    "papermill": {
     "duration": 0.023597,
     "end_time": "2024-10-21T15:03:46.943732",
     "exception": false,
     "start_time": "2024-10-21T15:03:46.920135",
     "status": "completed"
    },
    "tags": []
   },
   "outputs": [
    {
     "data": {
      "text/plain": [
       "'/scratch_isilon/groups/singlecell/shared/projects/Inflammation-PBMCs-Atlas/02_cell_annotation/SCGT00_CentralizedDataset/02_fromCellLineages_to_CellTypes/Step3'"
      ]
     },
     "execution_count": 7,
     "metadata": {},
     "output_type": "execute_result"
    }
   ],
   "source": [
    "workDir"
   ]
  },
  {
   "cell_type": "markdown",
   "id": "171d2f06-9a44-4fcb-b437-35dc546674b6",
   "metadata": {
    "papermill": {
     "duration": 0.010848,
     "end_time": "2024-10-21T15:03:46.965885",
     "exception": false,
     "start_time": "2024-10-21T15:03:46.955037",
     "status": "completed"
    },
    "tags": []
   },
   "source": [
    "**Load data**"
   ]
  },
  {
   "cell_type": "code",
   "execution_count": 8,
   "id": "429f34fe-dde6-4cc9-9f75-7de8f85c5ffe",
   "metadata": {
    "execution": {
     "iopub.execute_input": "2024-10-21T15:03:46.990266Z",
     "iopub.status.busy": "2024-10-21T15:03:46.989772Z",
     "iopub.status.idle": "2024-10-21T15:03:48.907010Z",
     "shell.execute_reply": "2024-10-21T15:03:48.905702Z"
    },
    "papermill": {
     "duration": 1.931971,
     "end_time": "2024-10-21T15:03:48.908611",
     "exception": false,
     "start_time": "2024-10-21T15:03:46.976640",
     "status": "completed"
    },
    "tags": []
   },
   "outputs": [
    {
     "data": {
      "text/plain": [
       "AnnData object with n_obs × n_vars = 40745 × 1574\n",
       "    obs: 'studyID', 'libraryID', 'sampleID', 'chemistry', 'technology', 'patientID', 'disease', 'timepoint_replicate', 'treatmentStatus', 'therapyResponse', 'sex', 'age', 'BMI', 'binned_age', 'diseaseStatus', 'smokingStatus', 'ethnicity', 'institute', 'diseaseGroup', 'batches', 'n_genes_by_counts', 'log1p_n_genes_by_counts', 'total_counts', 'log1p_total_counts', 'pct_counts_in_top_20_genes', 'total_counts_mt', 'log1p_total_counts_mt', 'pct_counts_mt', 'total_counts_ribo', 'log1p_total_counts_ribo', 'pct_counts_ribo', 'total_counts_hb', 'log1p_total_counts_hb', 'pct_counts_hb', 'total_counts_plt', 'log1p_total_counts_plt', 'pct_counts_plt', 'S_score', 'G2M_score', 'phase'\n",
       "    var: 'hgnc_id', 'symbol', 'locus_group', 'HUGO_status', 'mt', 'ribo', 'hb', 'plt', 'n_cells_by_counts', 'mean_counts', 'log1p_mean_counts', 'pct_dropout_by_counts', 'total_counts', 'log1p_total_counts', 'highly_variable', 'means', 'dispersions', 'dispersions_norm', 'highly_variable_nbatches', 'highly_variable_intersection'\n",
       "    uns: 'disease_colors', 'hvg', 'log1p'\n",
       "    layers: 'counts', 'log1p_10e4_counts'"
      ]
     },
     "execution_count": 8,
     "metadata": {},
     "output_type": "execute_result"
    }
   ],
   "source": [
    "adata = sc.read_h5ad(here(f\"{workDir}/{cellGroup}/results/01_{cellGroup}_normalized_HVGsubset.h5ad\"))\n",
    "adata"
   ]
  },
  {
   "cell_type": "markdown",
   "id": "8ac79f3b-d5af-41fa-8904-1e9ac1cbe2fb",
   "metadata": {
    "papermill": {
     "duration": 0.007866,
     "end_time": "2024-10-21T15:03:48.922707",
     "exception": false,
     "start_time": "2024-10-21T15:03:48.914841",
     "status": "completed"
    },
    "tags": []
   },
   "source": [
    "## scVI integration"
   ]
  },
  {
   "cell_type": "markdown",
   "id": "9544847d-d17f-4811-b14b-760446d54d32",
   "metadata": {
    "execution": {
     "iopub.execute_input": "2024-03-25T16:49:04.004504Z",
     "iopub.status.busy": "2024-03-25T16:49:04.004143Z",
     "iopub.status.idle": "2024-03-25T16:49:04.010148Z",
     "shell.execute_reply": "2024-03-25T16:49:04.009146Z",
     "shell.execute_reply.started": "2024-03-25T16:49:04.004477Z"
    },
    "papermill": {
     "duration": 0.011594,
     "end_time": "2024-10-21T15:03:48.947261",
     "exception": false,
     "start_time": "2024-10-21T15:03:48.935667",
     "status": "completed"
    },
    "tags": []
   },
   "source": [
    "**scVI parameters**"
   ]
  },
  {
   "cell_type": "code",
   "execution_count": 9,
   "id": "208966eb-545a-4c02-854c-0ed0487ef5b3",
   "metadata": {
    "execution": {
     "iopub.execute_input": "2024-10-21T15:03:48.972012Z",
     "iopub.status.busy": "2024-10-21T15:03:48.971505Z",
     "iopub.status.idle": "2024-10-21T15:03:48.981715Z",
     "shell.execute_reply": "2024-10-21T15:03:48.980599Z"
    },
    "papermill": {
     "duration": 0.026276,
     "end_time": "2024-10-21T15:03:48.984746",
     "exception": false,
     "start_time": "2024-10-21T15:03:48.958470",
     "status": "completed"
    },
    "tags": []
   },
   "outputs": [],
   "source": [
    "# https://docs.scvi-tools.org/en/stable/api/reference/scvi.train.Trainer.html#scvi.train.Trainer\n",
    "setup_kwargs = dict(\n",
    "    layer=\"counts\", \n",
    "    batch_key='libraryID', \n",
    "    categorical_covariate_keys = ['disease', 'sampleID'],\n",
    ")\n",
    "\n",
    "scvi_kwargs = dict(n_hidden=512,\n",
    "                   n_latent=10, # reduced to 20 after step 00 (main) and to 10 after step 03\n",
    "                   n_layers=2,\n",
    "                   gene_likelihood='nb')\n",
    "\n",
    "trainer_kwargs = dict(\n",
    "    checkpointing_monitor = 'elbo_validation',\n",
    "    early_stopping_monitor = 'reconstruction_loss_validation',\n",
    "    early_stopping_patience = 10,\n",
    "    early_stopping_min_delta=0.1,\n",
    "    early_stopping = True,\n",
    "    max_epochs = 1000,\n",
    "\n",
    "    #logger = # wandb\n",
    ")\n",
    "# https://docs.scvi-tools.org/en/stable/api/reference/scvi.train.TrainingPlan.html#scvi.train.TrainingPlan\n",
    "plan_kwargs = dict(\n",
    "    lr = 5e-4,\n",
    "    #reduce_lr_on_plateau = True\n",
    ")\n",
    "\n",
    "# https://docs.scvi-tools.org/en/stable/api/reference/scvi.module.VAE.html#scvi.module.VAE\n",
    "#vae = dict(\n",
    "#    use_layer_norm='both',\n",
    "#    use_batch_norm='none',\n",
    "#    encode_covariates=True,\n",
    "#    deeply_inject_covariates=False\n",
    "#)\n",
    "parameter_dict = setup_kwargs | scvi_kwargs | trainer_kwargs | plan_kwargs"
   ]
  },
  {
   "cell_type": "markdown",
   "id": "1362366a-c16b-4c11-964b-b9c5f82f7b29",
   "metadata": {
    "papermill": {
     "duration": 0.01149,
     "end_time": "2024-10-21T15:03:49.008543",
     "exception": false,
     "start_time": "2024-10-21T15:03:48.997053",
     "status": "completed"
    },
    "tags": []
   },
   "source": [
    "**wandb parameter**"
   ]
  },
  {
   "cell_type": "code",
   "execution_count": 10,
   "id": "0496e33a-8ca5-423f-b42f-34a59760708c",
   "metadata": {
    "execution": {
     "iopub.execute_input": "2024-10-21T15:03:49.033713Z",
     "iopub.status.busy": "2024-10-21T15:03:49.033232Z",
     "iopub.status.idle": "2024-10-21T15:03:49.040960Z",
     "shell.execute_reply": "2024-10-21T15:03:49.039929Z"
    },
    "papermill": {
     "duration": 0.023657,
     "end_time": "2024-10-21T15:03:49.044082",
     "exception": false,
     "start_time": "2024-10-21T15:03:49.020425",
     "status": "completed"
    },
    "tags": []
   },
   "outputs": [
    {
     "data": {
      "text/plain": [
       "'Step3_T_CD8_Naive'"
      ]
     },
     "execution_count": 10,
     "metadata": {},
     "output_type": "execute_result"
    }
   ],
   "source": [
    "run_name = f\"{annotationLevel}_{cellGroup}\"\n",
    "run_name"
   ]
  },
  {
   "cell_type": "code",
   "execution_count": 11,
   "id": "b0021327-95a2-4002-bf32-2c5779a99505",
   "metadata": {
    "execution": {
     "iopub.execute_input": "2024-10-21T15:03:49.068336Z",
     "iopub.status.busy": "2024-10-21T15:03:49.067848Z",
     "iopub.status.idle": "2024-10-21T15:03:49.137186Z",
     "shell.execute_reply": "2024-10-21T15:03:49.135856Z"
    },
    "papermill": {
     "duration": 0.084584,
     "end_time": "2024-10-21T15:03:49.140601",
     "exception": false,
     "start_time": "2024-10-21T15:03:49.056017",
     "status": "completed"
    },
    "tags": []
   },
   "outputs": [],
   "source": [
    "logger = CustomWandbLogger(name = run_name, project='inflammation_atlas_R1', config=parameter_dict)"
   ]
  },
  {
   "cell_type": "markdown",
   "id": "c237eee1-a976-4915-9b7f-b014bf33f47d",
   "metadata": {
    "papermill": {
     "duration": 0.010002,
     "end_time": "2024-10-21T15:03:49.164320",
     "exception": false,
     "start_time": "2024-10-21T15:03:49.154318",
     "status": "completed"
    },
    "tags": []
   },
   "source": [
    "**Running integration**"
   ]
  },
  {
   "cell_type": "code",
   "execution_count": 12,
   "id": "aff97c53-1aba-462e-8a77-f1aec9cf724c",
   "metadata": {
    "execution": {
     "iopub.execute_input": "2024-10-21T15:03:49.186104Z",
     "iopub.status.busy": "2024-10-21T15:03:49.185622Z",
     "iopub.status.idle": "2024-10-21T15:03:49.306141Z",
     "shell.execute_reply": "2024-10-21T15:03:49.305148Z"
    },
    "papermill": {
     "duration": 0.134812,
     "end_time": "2024-10-21T15:03:49.309528",
     "exception": false,
     "start_time": "2024-10-21T15:03:49.174716",
     "status": "completed"
    },
    "tags": []
   },
   "outputs": [
    {
     "name": "stderr",
     "output_type": "stream",
     "text": [
      "CUDA backend failed to initialize: Unable to use CUDA because of the following issues with CUDA components:\n",
      "Outdated cuSPARSE installation found.\n",
      "Version JAX was built against: 12200\n",
      "Minimum supported: 12100\n",
      "Installed version: 12002\n",
      "The local installation version must be no lower than 12100. (Set TF_CPP_MIN_LOG_LEVEL=0 and rerun for more info.)\n"
     ]
    }
   ],
   "source": [
    "scvi.model.SCVI.setup_anndata(adata, \n",
    "                              **setup_kwargs)"
   ]
  },
  {
   "cell_type": "code",
   "execution_count": 13,
   "id": "1a56f448-cf44-47c1-81a4-a89caa930fec",
   "metadata": {
    "execution": {
     "iopub.execute_input": "2024-10-21T15:03:49.341364Z",
     "iopub.status.busy": "2024-10-21T15:03:49.340836Z",
     "iopub.status.idle": "2024-10-21T15:03:49.430199Z",
     "shell.execute_reply": "2024-10-21T15:03:49.429243Z"
    },
    "papermill": {
     "duration": 0.108346,
     "end_time": "2024-10-21T15:03:49.433533",
     "exception": false,
     "start_time": "2024-10-21T15:03:49.325187",
     "status": "completed"
    },
    "tags": []
   },
   "outputs": [],
   "source": [
    "model = scvi.model.SCVI(adata, **scvi_kwargs)"
   ]
  },
  {
   "cell_type": "code",
   "execution_count": 14,
   "id": "2735f010-4f24-4ae8-9740-a8cfeb335e9a",
   "metadata": {
    "execution": {
     "iopub.execute_input": "2024-10-21T15:03:49.460720Z",
     "iopub.status.busy": "2024-10-21T15:03:49.460293Z",
     "iopub.status.idle": "2024-10-21T15:05:26.194718Z",
     "shell.execute_reply": "2024-10-21T15:05:26.194228Z"
    },
    "papermill": {
     "duration": 96.748363,
     "end_time": "2024-10-21T15:05:26.196017",
     "exception": false,
     "start_time": "2024-10-21T15:03:49.447654",
     "status": "completed"
    },
    "tags": []
   },
   "outputs": [
    {
     "name": "stderr",
     "output_type": "stream",
     "text": [
      "GPU available: True (cuda), used: True\n"
     ]
    },
    {
     "name": "stderr",
     "output_type": "stream",
     "text": [
      "TPU available: False, using: 0 TPU cores\n"
     ]
    },
    {
     "name": "stderr",
     "output_type": "stream",
     "text": [
      "IPU available: False, using: 0 IPUs\n"
     ]
    },
    {
     "name": "stderr",
     "output_type": "stream",
     "text": [
      "HPU available: False, using: 0 HPUs\n"
     ]
    },
    {
     "name": "stderr",
     "output_type": "stream",
     "text": [
      "\u001b[34m\u001b[1mwandb\u001b[0m: Currently logged in as: \u001b[33mdav1989\u001b[0m (\u001b[33minflammation\u001b[0m). Use \u001b[1m`wandb login --relogin`\u001b[0m to force relogin\n"
     ]
    },
    {
     "name": "stderr",
     "output_type": "stream",
     "text": [
      "\u001b[34m\u001b[1mwandb\u001b[0m: wandb version 0.18.5 is available!  To upgrade, please run:\n",
      "\u001b[34m\u001b[1mwandb\u001b[0m:  $ pip install wandb --upgrade\n"
     ]
    },
    {
     "name": "stderr",
     "output_type": "stream",
     "text": [
      "\u001b[34m\u001b[1mwandb\u001b[0m: Tracking run with wandb version 0.16.5\n"
     ]
    },
    {
     "name": "stderr",
     "output_type": "stream",
     "text": [
      "\u001b[34m\u001b[1mwandb\u001b[0m: Run data is saved locally in \u001b[35m\u001b[1m./wandb/run-20241021_150351-z2mdahn5\u001b[0m\n",
      "\u001b[34m\u001b[1mwandb\u001b[0m: Run \u001b[1m`wandb offline`\u001b[0m to turn off syncing.\n"
     ]
    },
    {
     "name": "stderr",
     "output_type": "stream",
     "text": [
      "\u001b[34m\u001b[1mwandb\u001b[0m: Syncing run \u001b[33mStep3_T_CD8_Naive\u001b[0m\n"
     ]
    },
    {
     "name": "stderr",
     "output_type": "stream",
     "text": [
      "\u001b[34m\u001b[1mwandb\u001b[0m: ⭐️ View project at \u001b[34m\u001b[4mhttps://wandb.ai/inflammation/inflammation_atlas_R1\u001b[0m\n"
     ]
    },
    {
     "name": "stderr",
     "output_type": "stream",
     "text": [
      "\u001b[34m\u001b[1mwandb\u001b[0m: 🚀 View run at \u001b[34m\u001b[4mhttps://wandb.ai/inflammation/inflammation_atlas_R1/runs/z2mdahn5/workspace\u001b[0m\n"
     ]
    },
    {
     "name": "stderr",
     "output_type": "stream",
     "text": [
      "LOCAL_RANK: 0 - CUDA_VISIBLE_DEVICES: [0]\n"
     ]
    },
    {
     "name": "stdout",
     "output_type": "stream",
     "text": [
      "\r",
      "Training:   0%|          | 0/1000 [00:00<?, ?it/s]"
     ]
    },
    {
     "name": "stdout",
     "output_type": "stream",
     "text": [
      "\r",
      "Epoch 1/1000:   0%|          | 0/1000 [00:00<?, ?it/s]"
     ]
    },
    {
     "name": "stdout",
     "output_type": "stream",
     "text": [
      "\r",
      "Epoch 1/1000:   0%|          | 1/1000 [00:02<38:25,  2.31s/it]"
     ]
    },
    {
     "name": "stdout",
     "output_type": "stream",
     "text": [
      "\r",
      "Epoch 1/1000:   0%|          | 1/1000 [00:02<38:25,  2.31s/it, v_num=ahn5, train_loss_step=639, train_loss_epoch=655]"
     ]
    },
    {
     "name": "stdout",
     "output_type": "stream",
     "text": [
      "\r",
      "Epoch 2/1000:   0%|          | 1/1000 [00:02<38:25,  2.31s/it, v_num=ahn5, train_loss_step=639, train_loss_epoch=655]"
     ]
    },
    {
     "name": "stdout",
     "output_type": "stream",
     "text": [
      "\r",
      "Epoch 2/1000:   0%|          | 2/1000 [00:04<36:16,  2.18s/it, v_num=ahn5, train_loss_step=639, train_loss_epoch=655]"
     ]
    },
    {
     "name": "stdout",
     "output_type": "stream",
     "text": [
      "\r",
      "Epoch 2/1000:   0%|          | 2/1000 [00:04<36:16,  2.18s/it, v_num=ahn5, train_loss_step=638, train_loss_epoch=636]"
     ]
    },
    {
     "name": "stdout",
     "output_type": "stream",
     "text": [
      "\r",
      "Epoch 3/1000:   0%|          | 2/1000 [00:04<36:16,  2.18s/it, v_num=ahn5, train_loss_step=638, train_loss_epoch=636]"
     ]
    },
    {
     "name": "stdout",
     "output_type": "stream",
     "text": [
      "\r",
      "Epoch 3/1000:   0%|          | 3/1000 [00:08<47:29,  2.86s/it, v_num=ahn5, train_loss_step=638, train_loss_epoch=636]"
     ]
    },
    {
     "name": "stdout",
     "output_type": "stream",
     "text": [
      "\r",
      "Epoch 3/1000:   0%|          | 3/1000 [00:08<47:29,  2.86s/it, v_num=ahn5, train_loss_step=602, train_loss_epoch=632]"
     ]
    },
    {
     "name": "stdout",
     "output_type": "stream",
     "text": [
      "\r",
      "Epoch 4/1000:   0%|          | 3/1000 [00:08<47:29,  2.86s/it, v_num=ahn5, train_loss_step=602, train_loss_epoch=632]"
     ]
    },
    {
     "name": "stdout",
     "output_type": "stream",
     "text": [
      "\r",
      "Epoch 4/1000:   0%|          | 4/1000 [00:10<42:24,  2.55s/it, v_num=ahn5, train_loss_step=602, train_loss_epoch=632]"
     ]
    },
    {
     "name": "stdout",
     "output_type": "stream",
     "text": [
      "\r",
      "Epoch 4/1000:   0%|          | 4/1000 [00:10<42:24,  2.55s/it, v_num=ahn5, train_loss_step=615, train_loss_epoch=629]"
     ]
    },
    {
     "name": "stdout",
     "output_type": "stream",
     "text": [
      "\r",
      "Epoch 5/1000:   0%|          | 4/1000 [00:10<42:24,  2.55s/it, v_num=ahn5, train_loss_step=615, train_loss_epoch=629]"
     ]
    },
    {
     "name": "stdout",
     "output_type": "stream",
     "text": [
      "\r",
      "Epoch 5/1000:   0%|          | 5/1000 [00:12<39:37,  2.39s/it, v_num=ahn5, train_loss_step=615, train_loss_epoch=629]"
     ]
    },
    {
     "name": "stdout",
     "output_type": "stream",
     "text": [
      "\r",
      "Epoch 5/1000:   0%|          | 5/1000 [00:12<39:37,  2.39s/it, v_num=ahn5, train_loss_step=623, train_loss_epoch=626]"
     ]
    },
    {
     "name": "stdout",
     "output_type": "stream",
     "text": [
      "\r",
      "Epoch 6/1000:   0%|          | 5/1000 [00:12<39:37,  2.39s/it, v_num=ahn5, train_loss_step=623, train_loss_epoch=626]"
     ]
    },
    {
     "name": "stdout",
     "output_type": "stream",
     "text": [
      "\r",
      "Epoch 6/1000:   1%|          | 6/1000 [00:14<37:47,  2.28s/it, v_num=ahn5, train_loss_step=623, train_loss_epoch=626]"
     ]
    },
    {
     "name": "stdout",
     "output_type": "stream",
     "text": [
      "\r",
      "Epoch 6/1000:   1%|          | 6/1000 [00:14<37:47,  2.28s/it, v_num=ahn5, train_loss_step=603, train_loss_epoch=624]"
     ]
    },
    {
     "name": "stdout",
     "output_type": "stream",
     "text": [
      "\r",
      "Epoch 7/1000:   1%|          | 6/1000 [00:14<37:47,  2.28s/it, v_num=ahn5, train_loss_step=603, train_loss_epoch=624]"
     ]
    },
    {
     "name": "stdout",
     "output_type": "stream",
     "text": [
      "\r",
      "Epoch 7/1000:   1%|          | 7/1000 [00:16<37:02,  2.24s/it, v_num=ahn5, train_loss_step=603, train_loss_epoch=624]"
     ]
    },
    {
     "name": "stdout",
     "output_type": "stream",
     "text": [
      "\r",
      "Epoch 7/1000:   1%|          | 7/1000 [00:16<37:02,  2.24s/it, v_num=ahn5, train_loss_step=628, train_loss_epoch=622]"
     ]
    },
    {
     "name": "stdout",
     "output_type": "stream",
     "text": [
      "\r",
      "Epoch 8/1000:   1%|          | 7/1000 [00:16<37:02,  2.24s/it, v_num=ahn5, train_loss_step=628, train_loss_epoch=622]"
     ]
    },
    {
     "name": "stdout",
     "output_type": "stream",
     "text": [
      "\r",
      "Epoch 8/1000:   1%|          | 8/1000 [00:20<44:49,  2.71s/it, v_num=ahn5, train_loss_step=628, train_loss_epoch=622]"
     ]
    },
    {
     "name": "stdout",
     "output_type": "stream",
     "text": [
      "\r",
      "Epoch 8/1000:   1%|          | 8/1000 [00:20<44:49,  2.71s/it, v_num=ahn5, train_loss_step=656, train_loss_epoch=620]"
     ]
    },
    {
     "name": "stdout",
     "output_type": "stream",
     "text": [
      "\r",
      "Epoch 9/1000:   1%|          | 8/1000 [00:20<44:49,  2.71s/it, v_num=ahn5, train_loss_step=656, train_loss_epoch=620]"
     ]
    },
    {
     "name": "stdout",
     "output_type": "stream",
     "text": [
      "\r",
      "Epoch 9/1000:   1%|          | 9/1000 [00:23<49:43,  3.01s/it, v_num=ahn5, train_loss_step=656, train_loss_epoch=620]"
     ]
    },
    {
     "name": "stdout",
     "output_type": "stream",
     "text": [
      "\r",
      "Epoch 9/1000:   1%|          | 9/1000 [00:23<49:43,  3.01s/it, v_num=ahn5, train_loss_step=632, train_loss_epoch=619]"
     ]
    },
    {
     "name": "stdout",
     "output_type": "stream",
     "text": [
      "\r",
      "Epoch 10/1000:   1%|          | 9/1000 [00:23<49:43,  3.01s/it, v_num=ahn5, train_loss_step=632, train_loss_epoch=619]"
     ]
    },
    {
     "name": "stdout",
     "output_type": "stream",
     "text": [
      "\r",
      "Epoch 10/1000:   1%|          | 10/1000 [00:27<53:33,  3.25s/it, v_num=ahn5, train_loss_step=632, train_loss_epoch=619]"
     ]
    },
    {
     "name": "stdout",
     "output_type": "stream",
     "text": [
      "\r",
      "Epoch 10/1000:   1%|          | 10/1000 [00:27<53:33,  3.25s/it, v_num=ahn5, train_loss_step=629, train_loss_epoch=617]"
     ]
    },
    {
     "name": "stdout",
     "output_type": "stream",
     "text": [
      "\r",
      "Epoch 11/1000:   1%|          | 10/1000 [00:27<53:33,  3.25s/it, v_num=ahn5, train_loss_step=629, train_loss_epoch=617]"
     ]
    },
    {
     "name": "stdout",
     "output_type": "stream",
     "text": [
      "\r",
      "Epoch 11/1000:   1%|          | 11/1000 [00:31<56:56,  3.45s/it, v_num=ahn5, train_loss_step=629, train_loss_epoch=617]"
     ]
    },
    {
     "name": "stdout",
     "output_type": "stream",
     "text": [
      "\r",
      "Epoch 11/1000:   1%|          | 11/1000 [00:31<56:56,  3.45s/it, v_num=ahn5, train_loss_step=613, train_loss_epoch=616]"
     ]
    },
    {
     "name": "stdout",
     "output_type": "stream",
     "text": [
      "\r",
      "Epoch 12/1000:   1%|          | 11/1000 [00:31<56:56,  3.45s/it, v_num=ahn5, train_loss_step=613, train_loss_epoch=616]"
     ]
    },
    {
     "name": "stdout",
     "output_type": "stream",
     "text": [
      "\r",
      "Epoch 12/1000:   1%|          | 12/1000 [00:35<58:26,  3.55s/it, v_num=ahn5, train_loss_step=613, train_loss_epoch=616]"
     ]
    },
    {
     "name": "stdout",
     "output_type": "stream",
     "text": [
      "\r",
      "Epoch 12/1000:   1%|          | 12/1000 [00:35<58:26,  3.55s/it, v_num=ahn5, train_loss_step=606, train_loss_epoch=615]"
     ]
    },
    {
     "name": "stdout",
     "output_type": "stream",
     "text": [
      "\r",
      "Epoch 13/1000:   1%|          | 12/1000 [00:35<58:26,  3.55s/it, v_num=ahn5, train_loss_step=606, train_loss_epoch=615]"
     ]
    },
    {
     "name": "stdout",
     "output_type": "stream",
     "text": [
      "\r",
      "Epoch 13/1000:   1%|▏         | 13/1000 [00:39<1:02:39,  3.81s/it, v_num=ahn5, train_loss_step=606, train_loss_epoch=615]"
     ]
    },
    {
     "name": "stdout",
     "output_type": "stream",
     "text": [
      "\r",
      "Epoch 13/1000:   1%|▏         | 13/1000 [00:39<1:02:39,  3.81s/it, v_num=ahn5, train_loss_step=614, train_loss_epoch=614]"
     ]
    },
    {
     "name": "stdout",
     "output_type": "stream",
     "text": [
      "\r",
      "Epoch 14/1000:   1%|▏         | 13/1000 [00:39<1:02:39,  3.81s/it, v_num=ahn5, train_loss_step=614, train_loss_epoch=614]"
     ]
    },
    {
     "name": "stdout",
     "output_type": "stream",
     "text": [
      "\r",
      "Epoch 14/1000:   1%|▏         | 14/1000 [00:43<1:02:03,  3.78s/it, v_num=ahn5, train_loss_step=614, train_loss_epoch=614]"
     ]
    },
    {
     "name": "stdout",
     "output_type": "stream",
     "text": [
      "\r",
      "Epoch 14/1000:   1%|▏         | 14/1000 [00:43<1:02:03,  3.78s/it, v_num=ahn5, train_loss_step=636, train_loss_epoch=613]"
     ]
    },
    {
     "name": "stdout",
     "output_type": "stream",
     "text": [
      "\r",
      "Epoch 15/1000:   1%|▏         | 14/1000 [00:43<1:02:03,  3.78s/it, v_num=ahn5, train_loss_step=636, train_loss_epoch=613]"
     ]
    },
    {
     "name": "stdout",
     "output_type": "stream",
     "text": [
      "\r",
      "Epoch 15/1000:   2%|▏         | 15/1000 [00:47<1:01:39,  3.76s/it, v_num=ahn5, train_loss_step=636, train_loss_epoch=613]"
     ]
    },
    {
     "name": "stdout",
     "output_type": "stream",
     "text": [
      "\r",
      "Epoch 15/1000:   2%|▏         | 15/1000 [00:47<1:01:39,  3.76s/it, v_num=ahn5, train_loss_step=635, train_loss_epoch=612]"
     ]
    },
    {
     "name": "stdout",
     "output_type": "stream",
     "text": [
      "\r",
      "Epoch 16/1000:   2%|▏         | 15/1000 [00:47<1:01:39,  3.76s/it, v_num=ahn5, train_loss_step=635, train_loss_epoch=612]"
     ]
    },
    {
     "name": "stdout",
     "output_type": "stream",
     "text": [
      "\r",
      "Epoch 16/1000:   2%|▏         | 16/1000 [00:50<1:00:42,  3.70s/it, v_num=ahn5, train_loss_step=635, train_loss_epoch=612]"
     ]
    },
    {
     "name": "stdout",
     "output_type": "stream",
     "text": [
      "\r",
      "Epoch 16/1000:   2%|▏         | 16/1000 [00:50<1:00:42,  3.70s/it, v_num=ahn5, train_loss_step=620, train_loss_epoch=611]"
     ]
    },
    {
     "name": "stdout",
     "output_type": "stream",
     "text": [
      "\r",
      "Epoch 17/1000:   2%|▏         | 16/1000 [00:50<1:00:42,  3.70s/it, v_num=ahn5, train_loss_step=620, train_loss_epoch=611]"
     ]
    },
    {
     "name": "stdout",
     "output_type": "stream",
     "text": [
      "\r",
      "Epoch 17/1000:   2%|▏         | 17/1000 [00:53<54:16,  3.31s/it, v_num=ahn5, train_loss_step=620, train_loss_epoch=611]  "
     ]
    },
    {
     "name": "stdout",
     "output_type": "stream",
     "text": [
      "\r",
      "Epoch 17/1000:   2%|▏         | 17/1000 [00:53<54:16,  3.31s/it, v_num=ahn5, train_loss_step=624, train_loss_epoch=610]"
     ]
    },
    {
     "name": "stdout",
     "output_type": "stream",
     "text": [
      "\r",
      "Epoch 18/1000:   2%|▏         | 17/1000 [00:53<54:16,  3.31s/it, v_num=ahn5, train_loss_step=624, train_loss_epoch=610]"
     ]
    },
    {
     "name": "stdout",
     "output_type": "stream",
     "text": [
      "\r",
      "Epoch 18/1000:   2%|▏         | 18/1000 [00:56<55:31,  3.39s/it, v_num=ahn5, train_loss_step=624, train_loss_epoch=610]"
     ]
    },
    {
     "name": "stdout",
     "output_type": "stream",
     "text": [
      "\r",
      "Epoch 18/1000:   2%|▏         | 18/1000 [00:56<55:31,  3.39s/it, v_num=ahn5, train_loss_step=666, train_loss_epoch=609]"
     ]
    },
    {
     "name": "stdout",
     "output_type": "stream",
     "text": [
      "\r",
      "Epoch 19/1000:   2%|▏         | 18/1000 [00:56<55:31,  3.39s/it, v_num=ahn5, train_loss_step=666, train_loss_epoch=609]"
     ]
    },
    {
     "name": "stdout",
     "output_type": "stream",
     "text": [
      "\r",
      "Epoch 19/1000:   2%|▏         | 19/1000 [01:00<56:55,  3.48s/it, v_num=ahn5, train_loss_step=666, train_loss_epoch=609]"
     ]
    },
    {
     "name": "stdout",
     "output_type": "stream",
     "text": [
      "\r",
      "Epoch 19/1000:   2%|▏         | 19/1000 [01:00<56:55,  3.48s/it, v_num=ahn5, train_loss_step=603, train_loss_epoch=609]"
     ]
    },
    {
     "name": "stdout",
     "output_type": "stream",
     "text": [
      "\r",
      "Epoch 20/1000:   2%|▏         | 19/1000 [01:00<56:55,  3.48s/it, v_num=ahn5, train_loss_step=603, train_loss_epoch=609]"
     ]
    },
    {
     "name": "stdout",
     "output_type": "stream",
     "text": [
      "\r",
      "Epoch 20/1000:   2%|▏         | 20/1000 [01:04<59:04,  3.62s/it, v_num=ahn5, train_loss_step=603, train_loss_epoch=609]"
     ]
    },
    {
     "name": "stdout",
     "output_type": "stream",
     "text": [
      "\r",
      "Epoch 20/1000:   2%|▏         | 20/1000 [01:04<59:04,  3.62s/it, v_num=ahn5, train_loss_step=635, train_loss_epoch=608]"
     ]
    },
    {
     "name": "stdout",
     "output_type": "stream",
     "text": [
      "\r",
      "Epoch 21/1000:   2%|▏         | 20/1000 [01:04<59:04,  3.62s/it, v_num=ahn5, train_loss_step=635, train_loss_epoch=608]"
     ]
    },
    {
     "name": "stdout",
     "output_type": "stream",
     "text": [
      "\r",
      "Epoch 21/1000:   2%|▏         | 21/1000 [01:08<1:00:17,  3.70s/it, v_num=ahn5, train_loss_step=635, train_loss_epoch=608]"
     ]
    },
    {
     "name": "stdout",
     "output_type": "stream",
     "text": [
      "\r",
      "Epoch 21/1000:   2%|▏         | 21/1000 [01:08<1:00:17,  3.70s/it, v_num=ahn5, train_loss_step=639, train_loss_epoch=607]"
     ]
    },
    {
     "name": "stdout",
     "output_type": "stream",
     "text": [
      "\r",
      "Epoch 22/1000:   2%|▏         | 21/1000 [01:08<1:00:17,  3.70s/it, v_num=ahn5, train_loss_step=639, train_loss_epoch=607]"
     ]
    },
    {
     "name": "stdout",
     "output_type": "stream",
     "text": [
      "\r",
      "Epoch 22/1000:   2%|▏         | 22/1000 [01:11<1:00:01,  3.68s/it, v_num=ahn5, train_loss_step=639, train_loss_epoch=607]"
     ]
    },
    {
     "name": "stdout",
     "output_type": "stream",
     "text": [
      "\r",
      "Epoch 22/1000:   2%|▏         | 22/1000 [01:11<1:00:01,  3.68s/it, v_num=ahn5, train_loss_step=619, train_loss_epoch=607]"
     ]
    },
    {
     "name": "stdout",
     "output_type": "stream",
     "text": [
      "\r",
      "Epoch 23/1000:   2%|▏         | 22/1000 [01:11<1:00:01,  3.68s/it, v_num=ahn5, train_loss_step=619, train_loss_epoch=607]"
     ]
    },
    {
     "name": "stdout",
     "output_type": "stream",
     "text": [
      "\r",
      "Epoch 23/1000:   2%|▏         | 23/1000 [01:15<1:00:16,  3.70s/it, v_num=ahn5, train_loss_step=619, train_loss_epoch=607]"
     ]
    },
    {
     "name": "stdout",
     "output_type": "stream",
     "text": [
      "\r",
      "Epoch 23/1000:   2%|▏         | 23/1000 [01:15<1:00:16,  3.70s/it, v_num=ahn5, train_loss_step=590, train_loss_epoch=606]"
     ]
    },
    {
     "name": "stdout",
     "output_type": "stream",
     "text": [
      "\r",
      "Epoch 24/1000:   2%|▏         | 23/1000 [01:15<1:00:16,  3.70s/it, v_num=ahn5, train_loss_step=590, train_loss_epoch=606]"
     ]
    },
    {
     "name": "stdout",
     "output_type": "stream",
     "text": [
      "\r",
      "Epoch 24/1000:   2%|▏         | 24/1000 [01:19<59:38,  3.67s/it, v_num=ahn5, train_loss_step=590, train_loss_epoch=606]  "
     ]
    },
    {
     "name": "stdout",
     "output_type": "stream",
     "text": [
      "\r",
      "Epoch 24/1000:   2%|▏         | 24/1000 [01:19<59:38,  3.67s/it, v_num=ahn5, train_loss_step=602, train_loss_epoch=606]"
     ]
    },
    {
     "name": "stdout",
     "output_type": "stream",
     "text": [
      "\r",
      "Epoch 25/1000:   2%|▏         | 24/1000 [01:19<59:38,  3.67s/it, v_num=ahn5, train_loss_step=602, train_loss_epoch=606]"
     ]
    },
    {
     "name": "stdout",
     "output_type": "stream",
     "text": [
      "\r",
      "Epoch 25/1000:   2%|▎         | 25/1000 [01:22<59:20,  3.65s/it, v_num=ahn5, train_loss_step=602, train_loss_epoch=606]"
     ]
    },
    {
     "name": "stdout",
     "output_type": "stream",
     "text": [
      "\r",
      "Epoch 25/1000:   2%|▎         | 25/1000 [01:22<59:20,  3.65s/it, v_num=ahn5, train_loss_step=600, train_loss_epoch=605]"
     ]
    },
    {
     "name": "stdout",
     "output_type": "stream",
     "text": [
      "\r",
      "Epoch 26/1000:   2%|▎         | 25/1000 [01:22<59:20,  3.65s/it, v_num=ahn5, train_loss_step=600, train_loss_epoch=605]"
     ]
    },
    {
     "name": "stdout",
     "output_type": "stream",
     "text": [
      "\r",
      "Epoch 26/1000:   3%|▎         | 26/1000 [01:24<51:42,  3.19s/it, v_num=ahn5, train_loss_step=600, train_loss_epoch=605]"
     ]
    },
    {
     "name": "stdout",
     "output_type": "stream",
     "text": [
      "\r",
      "Epoch 26/1000:   3%|▎         | 26/1000 [01:24<51:42,  3.19s/it, v_num=ahn5, train_loss_step=601, train_loss_epoch=605]"
     ]
    },
    {
     "name": "stdout",
     "output_type": "stream",
     "text": [
      "\r",
      "Epoch 27/1000:   3%|▎         | 26/1000 [01:24<51:42,  3.19s/it, v_num=ahn5, train_loss_step=601, train_loss_epoch=605]"
     ]
    },
    {
     "name": "stdout",
     "output_type": "stream",
     "text": [
      "\r",
      "Epoch 27/1000:   3%|▎         | 27/1000 [01:27<46:58,  2.90s/it, v_num=ahn5, train_loss_step=601, train_loss_epoch=605]"
     ]
    },
    {
     "name": "stdout",
     "output_type": "stream",
     "text": [
      "\r",
      "Epoch 27/1000:   3%|▎         | 27/1000 [01:27<46:58,  2.90s/it, v_num=ahn5, train_loss_step=610, train_loss_epoch=605]"
     ]
    },
    {
     "name": "stdout",
     "output_type": "stream",
     "text": [
      "\r",
      "Epoch 28/1000:   3%|▎         | 27/1000 [01:27<46:58,  2.90s/it, v_num=ahn5, train_loss_step=610, train_loss_epoch=605]"
     ]
    },
    {
     "name": "stdout",
     "output_type": "stream",
     "text": [
      "\r",
      "Epoch 28/1000:   3%|▎         | 28/1000 [01:29<42:54,  2.65s/it, v_num=ahn5, train_loss_step=610, train_loss_epoch=605]"
     ]
    },
    {
     "name": "stdout",
     "output_type": "stream",
     "text": [
      "\r",
      "Epoch 28/1000:   3%|▎         | 28/1000 [01:29<42:54,  2.65s/it, v_num=ahn5, train_loss_step=631, train_loss_epoch=604]"
     ]
    },
    {
     "name": "stdout",
     "output_type": "stream",
     "text": [
      "\r",
      "Epoch 28/1000:   3%|▎         | 28/1000 [01:29<51:36,  3.19s/it, v_num=ahn5, train_loss_step=631, train_loss_epoch=604]"
     ]
    },
    {
     "name": "stdout",
     "output_type": "stream",
     "text": [
      "\n",
      "Monitored metric reconstruction_loss_validation did not improve in the last 10 records. Best score: 620.594. Signaling Trainer to stop.\n"
     ]
    }
   ],
   "source": [
    "model.train(logger=logger, plan_kwargs = plan_kwargs, **trainer_kwargs)"
   ]
  },
  {
   "cell_type": "code",
   "execution_count": 15,
   "id": "c282f6eb-0ad1-40a5-81e6-1acda1545dad",
   "metadata": {
    "execution": {
     "iopub.execute_input": "2024-10-21T15:05:26.222054Z",
     "iopub.status.busy": "2024-10-21T15:05:26.221786Z",
     "iopub.status.idle": "2024-10-21T15:05:30.321556Z",
     "shell.execute_reply": "2024-10-21T15:05:30.320068Z"
    },
    "papermill": {
     "duration": 4.117591,
     "end_time": "2024-10-21T15:05:30.325140",
     "exception": false,
     "start_time": "2024-10-21T15:05:26.207549",
     "status": "completed"
    },
    "tags": []
   },
   "outputs": [
    {
     "name": "stderr",
     "output_type": "stream",
     "text": [
      "\u001b[34m\u001b[1mwandb\u001b[0m: - 0.005 MB of 0.025 MB uploaded\r"
     ]
    },
    {
     "name": "stderr",
     "output_type": "stream",
     "text": [
      "\u001b[34m\u001b[1mwandb\u001b[0m: \\ 0.005 MB of 0.025 MB uploaded\r"
     ]
    },
    {
     "name": "stderr",
     "output_type": "stream",
     "text": [
      "\u001b[34m\u001b[1mwandb\u001b[0m: | 0.025 MB of 0.025 MB uploaded\r"
     ]
    },
    {
     "name": "stderr",
     "output_type": "stream",
     "text": [
      "\u001b[34m\u001b[1mwandb\u001b[0m:                                                                                \n"
     ]
    },
    {
     "name": "stderr",
     "output_type": "stream",
     "text": [
      "\u001b[34m\u001b[1mwandb\u001b[0m: \n",
      "\u001b[34m\u001b[1mwandb\u001b[0m: Run history:\n",
      "\u001b[34m\u001b[1mwandb\u001b[0m:                     elbo_train █▇▇▆▅▅▄▄▄▃▃▃▃▃▂▂▂▂▂▂▂▂▁▁▁▁▁▁\n",
      "\u001b[34m\u001b[1mwandb\u001b[0m:                elbo_validation ▅█▇▅▄▄▃▃▂▂▂▂▂▁▁▁▁▁▁▁▁▁▁▁▁▁▁▁\n",
      "\u001b[34m\u001b[1mwandb\u001b[0m:                          epoch ▁▁▁▂▂▂▂▂▂▃▃▃▃▃▄▄▄▄▄▄▅▅▅▅▅▅▆▆▆▆▆▇▇▇▇▇▇███\n",
      "\u001b[34m\u001b[1mwandb\u001b[0m:                kl_global_train ▁▁▁▁▁▁▁▁▁▁▁▁▁▁▁▁▁▁▁▁▁▁▁▁▁▁▁▁\n",
      "\u001b[34m\u001b[1mwandb\u001b[0m:           kl_global_validation ▁▁▁▁▁▁▁▁▁▁▁▁▁▁▁▁▁▁▁▁▁▁▁▁▁▁▁▁\n",
      "\u001b[34m\u001b[1mwandb\u001b[0m:                 kl_local_train ▁██▇▆▅▅▄▄▄▄▄▃▃▃▃▃▃▃▃▃▃▃▃▃▃▂▂\n",
      "\u001b[34m\u001b[1mwandb\u001b[0m:            kl_local_validation ▁█▇▆▅▅▅▄▄▄▄▄▄▄▄▄▃▄▃▃▃▃▃▃▃▃▃▃\n",
      "\u001b[34m\u001b[1mwandb\u001b[0m:                      kl_weight ▁▁▁▂▂▂▂▂▂▃▃▃▃▃▄▄▄▄▄▄▅▅▅▅▅▅▆▆▆▆▆▇▇▇▇▇▇███\n",
      "\u001b[34m\u001b[1mwandb\u001b[0m:      reconstruction_loss_train █▅▅▄▄▄▄▃▃▃▃▃▂▂▂▂▂▂▂▂▁▁▁▁▁▁▁▁\n",
      "\u001b[34m\u001b[1mwandb\u001b[0m: reconstruction_loss_validation █▅▄▄▃▃▂▂▂▂▁▁▁▁▁▁▁▁▁▁▁▁▁▁▁▁▁▁\n",
      "\u001b[34m\u001b[1mwandb\u001b[0m:               train_loss_epoch █▅▅▄▄▄▃▃▃▃▃▂▂▂▂▂▂▂▂▂▁▁▁▁▁▁▁▁\n",
      "\u001b[34m\u001b[1mwandb\u001b[0m:                train_loss_step ▆█▆▆▆▅▄▅▅▆▃▆▁▅▄▄▅▇▃▄▃▅▃▃▃▆▂▂▆▃▄▂▂▅▄▃▆▃▄▆\n",
      "\u001b[34m\u001b[1mwandb\u001b[0m:            trainer/global_step ▁▁▁▂▂▂▂▂▂▃▃▃▃▃▄▄▄▄▄▄▅▅▅▅▅▅▆▆▆▆▆▇▇▇▇▇▇███\n",
      "\u001b[34m\u001b[1mwandb\u001b[0m:                validation_loss █▅▄▄▃▃▂▂▂▁▁▁▁▁▁▁▁▁▁▁▁▁▁▁▁▁▁▂\n",
      "\u001b[34m\u001b[1mwandb\u001b[0m: \n",
      "\u001b[34m\u001b[1mwandb\u001b[0m: Run summary:\n",
      "\u001b[34m\u001b[1mwandb\u001b[0m:                     elbo_train 626.5647\n",
      "\u001b[34m\u001b[1mwandb\u001b[0m:                elbo_validation 643.64325\n",
      "\u001b[34m\u001b[1mwandb\u001b[0m:                          epoch 27\n",
      "\u001b[34m\u001b[1mwandb\u001b[0m:                kl_global_train 0.0\n",
      "\u001b[34m\u001b[1mwandb\u001b[0m:           kl_global_validation 0.0\n",
      "\u001b[34m\u001b[1mwandb\u001b[0m:                 kl_local_train 23.98505\n",
      "\u001b[34m\u001b[1mwandb\u001b[0m:            kl_local_validation 21.72403\n",
      "\u001b[34m\u001b[1mwandb\u001b[0m:                      kl_weight 0.0675\n",
      "\u001b[34m\u001b[1mwandb\u001b[0m:      reconstruction_loss_train 602.57965\n",
      "\u001b[34m\u001b[1mwandb\u001b[0m: reconstruction_loss_validation 621.91925\n",
      "\u001b[34m\u001b[1mwandb\u001b[0m:               train_loss_epoch 604.19885\n",
      "\u001b[34m\u001b[1mwandb\u001b[0m:                train_loss_step 615.92181\n",
      "\u001b[34m\u001b[1mwandb\u001b[0m:            trainer/global_step 8035\n",
      "\u001b[34m\u001b[1mwandb\u001b[0m:                validation_loss 623.38562\n",
      "\u001b[34m\u001b[1mwandb\u001b[0m: \n"
     ]
    },
    {
     "name": "stderr",
     "output_type": "stream",
     "text": [
      "\u001b[34m\u001b[1mwandb\u001b[0m: 🚀 View run \u001b[33mStep3_T_CD8_Naive\u001b[0m at: \u001b[34m\u001b[4mhttps://wandb.ai/inflammation/inflammation_atlas_R1/runs/z2mdahn5/workspace\u001b[0m\n",
      "\u001b[34m\u001b[1mwandb\u001b[0m: Synced 6 W&B file(s), 0 media file(s), 0 artifact file(s) and 0 other file(s)\n"
     ]
    },
    {
     "name": "stderr",
     "output_type": "stream",
     "text": [
      "\u001b[34m\u001b[1mwandb\u001b[0m: Find logs at: \u001b[35m\u001b[1m./wandb/run-20241021_150351-z2mdahn5/logs\u001b[0m\n"
     ]
    }
   ],
   "source": [
    "wandb.finish()"
   ]
  },
  {
   "cell_type": "markdown",
   "id": "d9fb1179-83c7-4ac6-b4aa-92dc7a349801",
   "metadata": {
    "papermill": {
     "duration": 0.012697,
     "end_time": "2024-10-21T15:05:30.369526",
     "exception": false,
     "start_time": "2024-10-21T15:05:30.356829",
     "status": "completed"
    },
    "tags": []
   },
   "source": [
    "### Extracting embedding space"
   ]
  },
  {
   "cell_type": "code",
   "execution_count": 16,
   "id": "caaa5832-0123-4c59-8ec6-f46a75f7a14e",
   "metadata": {
    "execution": {
     "iopub.execute_input": "2024-10-21T15:05:30.390321Z",
     "iopub.status.busy": "2024-10-21T15:05:30.390090Z",
     "iopub.status.idle": "2024-10-21T15:05:31.187871Z",
     "shell.execute_reply": "2024-10-21T15:05:31.186603Z"
    },
    "papermill": {
     "duration": 0.810746,
     "end_time": "2024-10-21T15:05:31.190053",
     "exception": false,
     "start_time": "2024-10-21T15:05:30.379307",
     "status": "completed"
    },
    "tags": []
   },
   "outputs": [],
   "source": [
    "adata.obsm['X_scVI'] = model.get_latent_representation()"
   ]
  },
  {
   "cell_type": "markdown",
   "id": "2f03e70b-839c-40a6-9fbb-d76bbd787419",
   "metadata": {
    "papermill": {
     "duration": 0.00968,
     "end_time": "2024-10-21T15:05:31.209732",
     "exception": false,
     "start_time": "2024-10-21T15:05:31.200052",
     "status": "completed"
    },
    "tags": []
   },
   "source": [
    "## Save the results"
   ]
  },
  {
   "cell_type": "code",
   "execution_count": 17,
   "id": "7b04049b-47fd-4b62-a1c0-c43dcc086d34",
   "metadata": {
    "execution": {
     "iopub.execute_input": "2024-10-21T15:05:31.231105Z",
     "iopub.status.busy": "2024-10-21T15:05:31.230924Z",
     "iopub.status.idle": "2024-10-21T15:05:34.227547Z",
     "shell.execute_reply": "2024-10-21T15:05:34.226024Z"
    },
    "papermill": {
     "duration": 3.011074,
     "end_time": "2024-10-21T15:05:34.231356",
     "exception": false,
     "start_time": "2024-10-21T15:05:31.220282",
     "status": "completed"
    },
    "tags": []
   },
   "outputs": [],
   "source": [
    "if overwriteData:\n",
    "    adata.write(here(f\"{workDir}/{cellGroup}/results/02_{annotationLevel}_{cellGroup}_HVGsubset_scVI.h5ad\"), compression=\"gzip\")\n",
    "    model.save(here(f\"{workDir}/{cellGroup}/results/02_{annotationLevel}_{cellGroup}_HVGsubset_scVI_MODEL/\"),\n",
    "               overwrite = True, \n",
    "               save_anndata = False )   "
   ]
  },
  {
   "cell_type": "code",
   "execution_count": 18,
   "id": "629ba2bd-f6be-44ef-8fca-bbdf891bf25f",
   "metadata": {
    "execution": {
     "iopub.execute_input": "2024-10-21T15:05:34.271571Z",
     "iopub.status.busy": "2024-10-21T15:05:34.271017Z",
     "iopub.status.idle": "2024-10-21T15:05:34.276987Z",
     "shell.execute_reply": "2024-10-21T15:05:34.275800Z"
    },
    "papermill": {
     "duration": 0.024112,
     "end_time": "2024-10-21T15:05:34.280085",
     "exception": false,
     "start_time": "2024-10-21T15:05:34.255973",
     "status": "completed"
    },
    "tags": []
   },
   "outputs": [],
   "source": [
    "# To load the model do (after loading corresponding adata):\n",
    "# model = scvi.model.SCVI.load(here('{}/results/01_{}_HVGsubset_scVI_MODEL/'.format(workDir, cellGroup)), \n",
    "#                              adata, \n",
    "#                              use_gpu=True)"
   ]
  },
  {
   "cell_type": "raw",
   "id": "975e84d0-f56b-498d-b3a8-c9219cf22e53",
   "metadata": {
    "papermill": {
     "duration": 0.028488,
     "end_time": "2024-10-21T15:05:34.330180",
     "exception": false,
     "start_time": "2024-10-21T15:05:34.301692",
     "status": "completed"
    },
    "tags": []
   },
   "source": [
    "session_info.show()"
   ]
  }
 ],
 "metadata": {
  "kernelspec": {
   "display_name": "Python 3 (ipykernel)",
   "language": "python",
   "name": "python3"
  },
  "language_info": {
   "codemirror_mode": {
    "name": "ipython",
    "version": 3
   },
   "file_extension": ".py",
   "mimetype": "text/x-python",
   "name": "python",
   "nbconvert_exporter": "python",
   "pygments_lexer": "ipython3",
   "version": "3.9.19"
  },
  "papermill": {
   "default_parameters": {},
   "duration": 115.130147,
   "end_time": "2024-10-21T15:05:37.164662",
   "environment_variables": {},
   "exception": null,
   "input_path": "T_CD8_Naive/02_integration_scVI.ipynb",
   "output_path": "T_CD8_Naive/02_integration_scVI.executed.ipynb",
   "parameters": {},
   "start_time": "2024-10-21T15:03:42.034515",
   "version": "2.5.0"
  }
 },
 "nbformat": 4,
 "nbformat_minor": 5
}