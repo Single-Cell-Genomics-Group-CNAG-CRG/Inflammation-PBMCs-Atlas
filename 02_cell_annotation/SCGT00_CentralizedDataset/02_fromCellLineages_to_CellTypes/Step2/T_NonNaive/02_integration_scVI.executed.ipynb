{
 "cells": [
  {
   "cell_type": "code",
   "execution_count": 1,
   "id": "2dd1425a-0c07-465e-b522-9e3cc5cb93a7",
   "metadata": {
    "execution": {
     "iopub.execute_input": "2024-10-21T09:46:30.885302Z",
     "iopub.status.busy": "2024-10-21T09:46:30.884800Z",
     "iopub.status.idle": "2024-10-21T09:46:34.449648Z",
     "shell.execute_reply": "2024-10-21T09:46:34.449167Z"
    },
    "papermill": {
     "duration": 3.584207,
     "end_time": "2024-10-21T09:46:34.453705",
     "exception": false,
     "start_time": "2024-10-21T09:46:30.869498",
     "status": "completed"
    },
    "tags": []
   },
   "outputs": [
    {
     "name": "stderr",
     "output_type": "stream",
     "text": [
      "/home/dmaspero/miniconda3/envs/scarches/lib/python3.9/site-packages/tqdm/auto.py:21: TqdmWarning: IProgress not found. Please update jupyter and ipywidgets. See https://ipywidgets.readthedocs.io/en/stable/user_install.html\n",
      "  from .autonotebook import tqdm as notebook_tqdm\n"
     ]
    },
    {
     "data": {
      "text/plain": [
       "True"
      ]
     },
     "execution_count": 1,
     "metadata": {},
     "output_type": "execute_result"
    }
   ],
   "source": [
    "import os\n",
    "import sys\n",
    "\n",
    "import numpy as np\n",
    "import matplotlib.pyplot as plt\n",
    "\n",
    "import scanpy as sc\n",
    "import scvi\n",
    "import torch\n",
    "\n",
    "from pytorch_lightning.loggers import WandbLogger\n",
    "import wandb\n",
    "from dotenv import load_dotenv\n",
    "\n",
    "import session_info\n",
    "import warnings\n",
    "from pyprojroot.here import here\n",
    "\n",
    "warnings.filterwarnings(\"ignore\")\n",
    "sys.path.insert(1, str(here('bin')))\n",
    "\n",
    "torch.set_float32_matmul_precision('high')\n",
    "\n",
    "#plt.style.use(['science','nature','no-latex'])\n",
    "dpi_fig_save = 300\n",
    "sc.set_figure_params(dpi=100, dpi_save=dpi_fig_save, vector_friendly=True)\n",
    "\n",
    "load_dotenv(here('.env'))"
   ]
  },
  {
   "cell_type": "code",
   "execution_count": 2,
   "id": "09c897fc-744b-43de-a681-718fb5d327fa",
   "metadata": {
    "execution": {
     "iopub.execute_input": "2024-10-21T09:46:34.476812Z",
     "iopub.status.busy": "2024-10-21T09:46:34.476396Z",
     "iopub.status.idle": "2024-10-21T09:46:34.479896Z",
     "shell.execute_reply": "2024-10-21T09:46:34.479413Z"
    },
    "papermill": {
     "duration": 0.016964,
     "end_time": "2024-10-21T09:46:34.481993",
     "exception": false,
     "start_time": "2024-10-21T09:46:34.465029",
     "status": "completed"
    },
    "tags": []
   },
   "outputs": [],
   "source": [
    "class CustomWandbLogger(WandbLogger):\n",
    "    @property\n",
    "    def save_dir(self):\n",
    "        return self.experiment.dir"
   ]
  },
  {
   "cell_type": "code",
   "execution_count": 3,
   "id": "8ee6662f-5d45-4137-80a5-bb0b9ae8d71f",
   "metadata": {
    "execution": {
     "iopub.execute_input": "2024-10-21T09:46:34.502822Z",
     "iopub.status.busy": "2024-10-21T09:46:34.502491Z",
     "iopub.status.idle": "2024-10-21T09:46:34.510472Z",
     "shell.execute_reply": "2024-10-21T09:46:34.509665Z"
    },
    "papermill": {
     "duration": 0.021721,
     "end_time": "2024-10-21T09:46:34.513322",
     "exception": false,
     "start_time": "2024-10-21T09:46:34.491601",
     "status": "completed"
    },
    "tags": []
   },
   "outputs": [
    {
     "name": "stderr",
     "output_type": "stream",
     "text": [
      "Seed set to 0\n"
     ]
    },
    {
     "name": "stdout",
     "output_type": "stream",
     "text": [
      "Last run with scvi-tools version: 1.1.2\n"
     ]
    }
   ],
   "source": [
    "scvi.settings.seed = 0\n",
    "print(\"Last run with scvi-tools version:\", scvi.__version__)"
   ]
  },
  {
   "cell_type": "markdown",
   "id": "a81037ff-5998-482a-ba86-520f757311a9",
   "metadata": {
    "papermill": {
     "duration": 0.008563,
     "end_time": "2024-10-21T09:46:34.532876",
     "exception": false,
     "start_time": "2024-10-21T09:46:34.524313",
     "status": "completed"
    },
    "tags": []
   },
   "source": [
    "**Setting parameters** "
   ]
  },
  {
   "cell_type": "code",
   "execution_count": 4,
   "id": "56c27966-8f10-4c93-8b1a-1fa75f005e41",
   "metadata": {
    "execution": {
     "iopub.execute_input": "2024-10-21T09:46:34.556128Z",
     "iopub.status.busy": "2024-10-21T09:46:34.555648Z",
     "iopub.status.idle": "2024-10-21T09:46:34.561147Z",
     "shell.execute_reply": "2024-10-21T09:46:34.559928Z"
    },
    "papermill": {
     "duration": 0.019638,
     "end_time": "2024-10-21T09:46:34.564038",
     "exception": false,
     "start_time": "2024-10-21T09:46:34.544400",
     "status": "completed"
    },
    "tags": []
   },
   "outputs": [],
   "source": [
    "overwriteFigures = True\n",
    "overwriteData = True"
   ]
  },
  {
   "cell_type": "code",
   "execution_count": 5,
   "id": "c86fccd3-a4fe-415b-8f4e-e2ceb3ec128a",
   "metadata": {
    "execution": {
     "iopub.execute_input": "2024-10-21T09:46:34.587014Z",
     "iopub.status.busy": "2024-10-21T09:46:34.586527Z",
     "iopub.status.idle": "2024-10-21T09:46:34.592234Z",
     "shell.execute_reply": "2024-10-21T09:46:34.590999Z"
    },
    "papermill": {
     "duration": 0.019935,
     "end_time": "2024-10-21T09:46:34.595725",
     "exception": false,
     "start_time": "2024-10-21T09:46:34.575790",
     "status": "completed"
    },
    "tags": []
   },
   "outputs": [],
   "source": [
    "cellGroup = 'T_NonNaive'\n",
    "workDir = os.getcwd()"
   ]
  },
  {
   "cell_type": "code",
   "execution_count": 6,
   "id": "2dee4d55-d168-467b-b867-a61fed9d6af1",
   "metadata": {
    "execution": {
     "iopub.execute_input": "2024-10-21T09:46:34.621269Z",
     "iopub.status.busy": "2024-10-21T09:46:34.620056Z",
     "iopub.status.idle": "2024-10-21T09:46:34.626557Z",
     "shell.execute_reply": "2024-10-21T09:46:34.625295Z"
    },
    "papermill": {
     "duration": 0.021672,
     "end_time": "2024-10-21T09:46:34.629850",
     "exception": false,
     "start_time": "2024-10-21T09:46:34.608178",
     "status": "completed"
    },
    "tags": []
   },
   "outputs": [],
   "source": [
    "annotationLevel = os.path.basename(os.path.normpath(workDir))"
   ]
  },
  {
   "cell_type": "code",
   "execution_count": 7,
   "id": "11e53cd5-b746-4152-89cb-c2f0c15d90b3",
   "metadata": {
    "execution": {
     "iopub.execute_input": "2024-10-21T09:46:34.654092Z",
     "iopub.status.busy": "2024-10-21T09:46:34.653440Z",
     "iopub.status.idle": "2024-10-21T09:46:34.661709Z",
     "shell.execute_reply": "2024-10-21T09:46:34.660435Z"
    },
    "papermill": {
     "duration": 0.023914,
     "end_time": "2024-10-21T09:46:34.664882",
     "exception": false,
     "start_time": "2024-10-21T09:46:34.640968",
     "status": "completed"
    },
    "tags": []
   },
   "outputs": [
    {
     "data": {
      "text/plain": [
       "'/scratch_isilon/groups/singlecell/shared/projects/Inflammation-PBMCs-Atlas/02_cell_annotation/SCGT00_CentralizedDataset/02_fromCellLineages_to_CellTypes/Step2'"
      ]
     },
     "execution_count": 7,
     "metadata": {},
     "output_type": "execute_result"
    }
   ],
   "source": [
    "workDir"
   ]
  },
  {
   "cell_type": "markdown",
   "id": "171d2f06-9a44-4fcb-b437-35dc546674b6",
   "metadata": {
    "papermill": {
     "duration": 0.010308,
     "end_time": "2024-10-21T09:46:34.686797",
     "exception": false,
     "start_time": "2024-10-21T09:46:34.676489",
     "status": "completed"
    },
    "tags": []
   },
   "source": [
    "**Load data**"
   ]
  },
  {
   "cell_type": "code",
   "execution_count": 8,
   "id": "429f34fe-dde6-4cc9-9f75-7de8f85c5ffe",
   "metadata": {
    "execution": {
     "iopub.execute_input": "2024-10-21T09:46:34.708200Z",
     "iopub.status.busy": "2024-10-21T09:46:34.707689Z",
     "iopub.status.idle": "2024-10-21T09:46:43.091210Z",
     "shell.execute_reply": "2024-10-21T09:46:43.090297Z"
    },
    "papermill": {
     "duration": 8.397751,
     "end_time": "2024-10-21T09:46:43.094418",
     "exception": false,
     "start_time": "2024-10-21T09:46:34.696667",
     "status": "completed"
    },
    "tags": []
   },
   "outputs": [
    {
     "data": {
      "text/plain": [
       "AnnData object with n_obs × n_vars = 241341 × 4257\n",
       "    obs: 'studyID', 'libraryID', 'sampleID', 'chemistry', 'technology', 'patientID', 'disease', 'timepoint_replicate', 'treatmentStatus', 'therapyResponse', 'sex', 'age', 'BMI', 'binned_age', 'diseaseStatus', 'smokingStatus', 'ethnicity', 'institute', 'diseaseGroup', 'batches', 'n_genes_by_counts', 'log1p_n_genes_by_counts', 'total_counts', 'log1p_total_counts', 'pct_counts_in_top_20_genes', 'total_counts_mt', 'log1p_total_counts_mt', 'pct_counts_mt', 'total_counts_ribo', 'log1p_total_counts_ribo', 'pct_counts_ribo', 'total_counts_hb', 'log1p_total_counts_hb', 'pct_counts_hb', 'total_counts_plt', 'log1p_total_counts_plt', 'pct_counts_plt', 'S_score', 'G2M_score', 'phase'\n",
       "    var: 'hgnc_id', 'symbol', 'locus_group', 'HUGO_status', 'mt', 'ribo', 'hb', 'plt', 'n_cells_by_counts', 'mean_counts', 'log1p_mean_counts', 'pct_dropout_by_counts', 'total_counts', 'log1p_total_counts', 'highly_variable', 'means', 'dispersions', 'dispersions_norm', 'highly_variable_nbatches', 'highly_variable_intersection'\n",
       "    uns: 'disease_colors', 'hvg', 'log1p'\n",
       "    layers: 'counts', 'log1p_10e4_counts'"
      ]
     },
     "execution_count": 8,
     "metadata": {},
     "output_type": "execute_result"
    }
   ],
   "source": [
    "adata = sc.read_h5ad(here(f\"{workDir}/{cellGroup}/results/01_{cellGroup}_normalized_HVGsubset.h5ad\"))\n",
    "adata"
   ]
  },
  {
   "cell_type": "markdown",
   "id": "8ac79f3b-d5af-41fa-8904-1e9ac1cbe2fb",
   "metadata": {
    "papermill": {
     "duration": 0.008105,
     "end_time": "2024-10-21T09:46:43.114820",
     "exception": false,
     "start_time": "2024-10-21T09:46:43.106715",
     "status": "completed"
    },
    "tags": []
   },
   "source": [
    "## scVI integration"
   ]
  },
  {
   "cell_type": "markdown",
   "id": "9544847d-d17f-4811-b14b-760446d54d32",
   "metadata": {
    "execution": {
     "iopub.execute_input": "2024-03-25T16:49:04.004504Z",
     "iopub.status.busy": "2024-03-25T16:49:04.004143Z",
     "iopub.status.idle": "2024-03-25T16:49:04.010148Z",
     "shell.execute_reply": "2024-03-25T16:49:04.009146Z",
     "shell.execute_reply.started": "2024-03-25T16:49:04.004477Z"
    },
    "papermill": {
     "duration": 0.007309,
     "end_time": "2024-10-21T09:46:43.130394",
     "exception": false,
     "start_time": "2024-10-21T09:46:43.123085",
     "status": "completed"
    },
    "tags": []
   },
   "source": [
    "**scVI parameters**"
   ]
  },
  {
   "cell_type": "code",
   "execution_count": 9,
   "id": "208966eb-545a-4c02-854c-0ed0487ef5b3",
   "metadata": {
    "execution": {
     "iopub.execute_input": "2024-10-21T09:46:43.161391Z",
     "iopub.status.busy": "2024-10-21T09:46:43.160863Z",
     "iopub.status.idle": "2024-10-21T09:46:43.171256Z",
     "shell.execute_reply": "2024-10-21T09:46:43.169950Z"
    },
    "papermill": {
     "duration": 0.036675,
     "end_time": "2024-10-21T09:46:43.174259",
     "exception": false,
     "start_time": "2024-10-21T09:46:43.137584",
     "status": "completed"
    },
    "tags": []
   },
   "outputs": [],
   "source": [
    "# https://docs.scvi-tools.org/en/stable/api/reference/scvi.train.Trainer.html#scvi.train.Trainer\n",
    "setup_kwargs = dict(\n",
    "    layer=\"counts\", \n",
    "    batch_key='libraryID', \n",
    "    categorical_covariate_keys = ['disease', 'sampleID'],\n",
    ")\n",
    "\n",
    "scvi_kwargs = dict(n_hidden=512,\n",
    "                   n_latent=10, # reduced to 20 after step 00 (main) and to 10 after step 03\n",
    "                   n_layers=2,\n",
    "                   gene_likelihood='nb')\n",
    "\n",
    "trainer_kwargs = dict(\n",
    "    checkpointing_monitor = 'elbo_validation',\n",
    "    early_stopping_monitor = 'reconstruction_loss_validation',\n",
    "    early_stopping_patience = 10,\n",
    "    early_stopping_min_delta=0.1,\n",
    "    early_stopping = True,\n",
    "    max_epochs = 1000,\n",
    "\n",
    "    #logger = # wandb\n",
    ")\n",
    "# https://docs.scvi-tools.org/en/stable/api/reference/scvi.train.TrainingPlan.html#scvi.train.TrainingPlan\n",
    "plan_kwargs = dict(\n",
    "    lr = 5e-4,\n",
    "    #reduce_lr_on_plateau = True\n",
    ")\n",
    "\n",
    "# https://docs.scvi-tools.org/en/stable/api/reference/scvi.module.VAE.html#scvi.module.VAE\n",
    "#vae = dict(\n",
    "#    use_layer_norm='both',\n",
    "#    use_batch_norm='none',\n",
    "#    encode_covariates=True,\n",
    "#    deeply_inject_covariates=False\n",
    "#)\n",
    "parameter_dict = setup_kwargs | scvi_kwargs | trainer_kwargs | plan_kwargs"
   ]
  },
  {
   "cell_type": "markdown",
   "id": "1362366a-c16b-4c11-964b-b9c5f82f7b29",
   "metadata": {
    "papermill": {
     "duration": 0.011576,
     "end_time": "2024-10-21T09:46:43.199152",
     "exception": false,
     "start_time": "2024-10-21T09:46:43.187576",
     "status": "completed"
    },
    "tags": []
   },
   "source": [
    "**wandb parameter**"
   ]
  },
  {
   "cell_type": "code",
   "execution_count": 10,
   "id": "0496e33a-8ca5-423f-b42f-34a59760708c",
   "metadata": {
    "execution": {
     "iopub.execute_input": "2024-10-21T09:46:43.241446Z",
     "iopub.status.busy": "2024-10-21T09:46:43.240928Z",
     "iopub.status.idle": "2024-10-21T09:46:43.249200Z",
     "shell.execute_reply": "2024-10-21T09:46:43.247856Z"
    },
    "papermill": {
     "duration": 0.042083,
     "end_time": "2024-10-21T09:46:43.252158",
     "exception": false,
     "start_time": "2024-10-21T09:46:43.210075",
     "status": "completed"
    },
    "tags": []
   },
   "outputs": [
    {
     "data": {
      "text/plain": [
       "'Step2_T_NonNaive'"
      ]
     },
     "execution_count": 10,
     "metadata": {},
     "output_type": "execute_result"
    }
   ],
   "source": [
    "run_name = f\"{annotationLevel}_{cellGroup}\"\n",
    "run_name"
   ]
  },
  {
   "cell_type": "code",
   "execution_count": 11,
   "id": "b0021327-95a2-4002-bf32-2c5779a99505",
   "metadata": {
    "execution": {
     "iopub.execute_input": "2024-10-21T09:46:43.277294Z",
     "iopub.status.busy": "2024-10-21T09:46:43.276794Z",
     "iopub.status.idle": "2024-10-21T09:46:43.327582Z",
     "shell.execute_reply": "2024-10-21T09:46:43.326525Z"
    },
    "papermill": {
     "duration": 0.065108,
     "end_time": "2024-10-21T09:46:43.330458",
     "exception": false,
     "start_time": "2024-10-21T09:46:43.265350",
     "status": "completed"
    },
    "tags": []
   },
   "outputs": [],
   "source": [
    "logger = CustomWandbLogger(name = run_name, project='inflammation_atlas_R1', config=parameter_dict)"
   ]
  },
  {
   "cell_type": "markdown",
   "id": "c237eee1-a976-4915-9b7f-b014bf33f47d",
   "metadata": {
    "papermill": {
     "duration": 0.012245,
     "end_time": "2024-10-21T09:46:43.355810",
     "exception": false,
     "start_time": "2024-10-21T09:46:43.343565",
     "status": "completed"
    },
    "tags": []
   },
   "source": [
    "**Running integration**"
   ]
  },
  {
   "cell_type": "code",
   "execution_count": 12,
   "id": "aff97c53-1aba-462e-8a77-f1aec9cf724c",
   "metadata": {
    "execution": {
     "iopub.execute_input": "2024-10-21T09:46:43.377614Z",
     "iopub.status.busy": "2024-10-21T09:46:43.377336Z",
     "iopub.status.idle": "2024-10-21T09:46:43.502649Z",
     "shell.execute_reply": "2024-10-21T09:46:43.501734Z"
    },
    "papermill": {
     "duration": 0.137659,
     "end_time": "2024-10-21T09:46:43.504372",
     "exception": false,
     "start_time": "2024-10-21T09:46:43.366713",
     "status": "completed"
    },
    "tags": []
   },
   "outputs": [
    {
     "name": "stderr",
     "output_type": "stream",
     "text": [
      "CUDA backend failed to initialize: Unable to use CUDA because of the following issues with CUDA components:\n",
      "Outdated cuSPARSE installation found.\n",
      "Version JAX was built against: 12200\n",
      "Minimum supported: 12100\n",
      "Installed version: 12002\n",
      "The local installation version must be no lower than 12100. (Set TF_CPP_MIN_LOG_LEVEL=0 and rerun for more info.)\n"
     ]
    }
   ],
   "source": [
    "scvi.model.SCVI.setup_anndata(adata, \n",
    "                              **setup_kwargs)"
   ]
  },
  {
   "cell_type": "code",
   "execution_count": 13,
   "id": "1a56f448-cf44-47c1-81a4-a89caa930fec",
   "metadata": {
    "execution": {
     "iopub.execute_input": "2024-10-21T09:46:43.527153Z",
     "iopub.status.busy": "2024-10-21T09:46:43.526654Z",
     "iopub.status.idle": "2024-10-21T09:46:43.818427Z",
     "shell.execute_reply": "2024-10-21T09:46:43.817083Z"
    },
    "papermill": {
     "duration": 0.308836,
     "end_time": "2024-10-21T09:46:43.820064",
     "exception": false,
     "start_time": "2024-10-21T09:46:43.511228",
     "status": "completed"
    },
    "tags": []
   },
   "outputs": [],
   "source": [
    "model = scvi.model.SCVI(adata, **scvi_kwargs)"
   ]
  },
  {
   "cell_type": "code",
   "execution_count": 14,
   "id": "2735f010-4f24-4ae8-9740-a8cfeb335e9a",
   "metadata": {
    "execution": {
     "iopub.execute_input": "2024-10-21T09:46:43.836360Z",
     "iopub.status.busy": "2024-10-21T09:46:43.835810Z",
     "iopub.status.idle": "2024-10-21T09:53:01.276764Z",
     "shell.execute_reply": "2024-10-21T09:53:01.276284Z"
    },
    "papermill": {
     "duration": 377.453422,
     "end_time": "2024-10-21T09:53:01.279979",
     "exception": false,
     "start_time": "2024-10-21T09:46:43.826557",
     "status": "completed"
    },
    "tags": []
   },
   "outputs": [
    {
     "name": "stderr",
     "output_type": "stream",
     "text": [
      "GPU available: True (cuda), used: True\n"
     ]
    },
    {
     "name": "stderr",
     "output_type": "stream",
     "text": [
      "TPU available: False, using: 0 TPU cores\n"
     ]
    },
    {
     "name": "stderr",
     "output_type": "stream",
     "text": [
      "IPU available: False, using: 0 IPUs\n"
     ]
    },
    {
     "name": "stderr",
     "output_type": "stream",
     "text": [
      "HPU available: False, using: 0 HPUs\n"
     ]
    },
    {
     "name": "stderr",
     "output_type": "stream",
     "text": [
      "\u001b[34m\u001b[1mwandb\u001b[0m: Currently logged in as: \u001b[33mdav1989\u001b[0m (\u001b[33minflammation\u001b[0m). Use \u001b[1m`wandb login --relogin`\u001b[0m to force relogin\n"
     ]
    },
    {
     "name": "stderr",
     "output_type": "stream",
     "text": [
      "\u001b[34m\u001b[1mwandb\u001b[0m: - Waiting for wandb.init()...\r"
     ]
    },
    {
     "name": "stderr",
     "output_type": "stream",
     "text": [
      "\u001b[34m\u001b[1mwandb\u001b[0m: \\ Waiting for wandb.init()...\r"
     ]
    },
    {
     "name": "stderr",
     "output_type": "stream",
     "text": [
      "\u001b[34m\u001b[1mwandb\u001b[0m: wandb version 0.18.5 is available!  To upgrade, please run:\n",
      "\u001b[34m\u001b[1mwandb\u001b[0m:  $ pip install wandb --upgrade\n"
     ]
    },
    {
     "name": "stderr",
     "output_type": "stream",
     "text": [
      "\u001b[34m\u001b[1mwandb\u001b[0m: Tracking run with wandb version 0.16.5\n"
     ]
    },
    {
     "name": "stderr",
     "output_type": "stream",
     "text": [
      "\u001b[34m\u001b[1mwandb\u001b[0m: Run data is saved locally in \u001b[35m\u001b[1m./wandb/run-20241021_094646-s58o4yez\u001b[0m\n",
      "\u001b[34m\u001b[1mwandb\u001b[0m: Run \u001b[1m`wandb offline`\u001b[0m to turn off syncing.\n"
     ]
    },
    {
     "name": "stderr",
     "output_type": "stream",
     "text": [
      "\u001b[34m\u001b[1mwandb\u001b[0m: Syncing run \u001b[33mStep2_T_NonNaive\u001b[0m\n"
     ]
    },
    {
     "name": "stderr",
     "output_type": "stream",
     "text": [
      "\u001b[34m\u001b[1mwandb\u001b[0m: ⭐️ View project at \u001b[34m\u001b[4mhttps://wandb.ai/inflammation/inflammation_atlas_R1\u001b[0m\n"
     ]
    },
    {
     "name": "stderr",
     "output_type": "stream",
     "text": [
      "\u001b[34m\u001b[1mwandb\u001b[0m: 🚀 View run at \u001b[34m\u001b[4mhttps://wandb.ai/inflammation/inflammation_atlas_R1/runs/s58o4yez/workspace\u001b[0m\n"
     ]
    },
    {
     "name": "stderr",
     "output_type": "stream",
     "text": [
      "LOCAL_RANK: 0 - CUDA_VISIBLE_DEVICES: [0]\n"
     ]
    },
    {
     "name": "stdout",
     "output_type": "stream",
     "text": [
      "\r",
      "Training:   0%|          | 0/1000 [00:00<?, ?it/s]"
     ]
    },
    {
     "name": "stdout",
     "output_type": "stream",
     "text": [
      "\r",
      "Epoch 1/1000:   0%|          | 0/1000 [00:00<?, ?it/s]"
     ]
    },
    {
     "name": "stdout",
     "output_type": "stream",
     "text": [
      "\r",
      "Epoch 1/1000:   0%|          | 1/1000 [00:14<4:01:34, 14.51s/it]"
     ]
    },
    {
     "name": "stdout",
     "output_type": "stream",
     "text": [
      "\r",
      "Epoch 1/1000:   0%|          | 1/1000 [00:14<4:01:34, 14.51s/it, v_num=4yez, train_loss_step=1.07e+3, train_loss_epoch=1.09e+3]"
     ]
    },
    {
     "name": "stdout",
     "output_type": "stream",
     "text": [
      "\r",
      "Epoch 2/1000:   0%|          | 1/1000 [00:14<4:01:34, 14.51s/it, v_num=4yez, train_loss_step=1.07e+3, train_loss_epoch=1.09e+3]"
     ]
    },
    {
     "name": "stdout",
     "output_type": "stream",
     "text": [
      "\r",
      "Epoch 2/1000:   0%|          | 2/1000 [00:37<5:27:34, 19.69s/it, v_num=4yez, train_loss_step=1.07e+3, train_loss_epoch=1.09e+3]"
     ]
    },
    {
     "name": "stdout",
     "output_type": "stream",
     "text": [
      "\r",
      "Epoch 2/1000:   0%|          | 2/1000 [00:37<5:27:34, 19.69s/it, v_num=4yez, train_loss_step=1.08e+3, train_loss_epoch=1.07e+3]"
     ]
    },
    {
     "name": "stdout",
     "output_type": "stream",
     "text": [
      "\r",
      "Epoch 3/1000:   0%|          | 2/1000 [00:37<5:27:34, 19.69s/it, v_num=4yez, train_loss_step=1.08e+3, train_loss_epoch=1.07e+3]"
     ]
    },
    {
     "name": "stdout",
     "output_type": "stream",
     "text": [
      "\r",
      "Epoch 3/1000:   0%|          | 3/1000 [00:54<5:04:51, 18.35s/it, v_num=4yez, train_loss_step=1.08e+3, train_loss_epoch=1.07e+3]"
     ]
    },
    {
     "name": "stdout",
     "output_type": "stream",
     "text": [
      "\r",
      "Epoch 3/1000:   0%|          | 3/1000 [00:54<5:04:51, 18.35s/it, v_num=4yez, train_loss_step=1.1e+3, train_loss_epoch=1.07e+3] "
     ]
    },
    {
     "name": "stdout",
     "output_type": "stream",
     "text": [
      "\r",
      "Epoch 4/1000:   0%|          | 3/1000 [00:54<5:04:51, 18.35s/it, v_num=4yez, train_loss_step=1.1e+3, train_loss_epoch=1.07e+3]"
     ]
    },
    {
     "name": "stdout",
     "output_type": "stream",
     "text": [
      "\r",
      "Epoch 4/1000:   0%|          | 4/1000 [01:15<5:23:22, 19.48s/it, v_num=4yez, train_loss_step=1.1e+3, train_loss_epoch=1.07e+3]"
     ]
    },
    {
     "name": "stdout",
     "output_type": "stream",
     "text": [
      "\r",
      "Epoch 4/1000:   0%|          | 4/1000 [01:15<5:23:22, 19.48s/it, v_num=4yez, train_loss_step=1.03e+3, train_loss_epoch=1.06e+3]"
     ]
    },
    {
     "name": "stdout",
     "output_type": "stream",
     "text": [
      "\r",
      "Epoch 5/1000:   0%|          | 4/1000 [01:15<5:23:22, 19.48s/it, v_num=4yez, train_loss_step=1.03e+3, train_loss_epoch=1.06e+3]"
     ]
    },
    {
     "name": "stdout",
     "output_type": "stream",
     "text": [
      "\r",
      "Epoch 5/1000:   0%|          | 5/1000 [01:33<5:11:26, 18.78s/it, v_num=4yez, train_loss_step=1.03e+3, train_loss_epoch=1.06e+3]"
     ]
    },
    {
     "name": "stdout",
     "output_type": "stream",
     "text": [
      "\r",
      "Epoch 5/1000:   0%|          | 5/1000 [01:33<5:11:26, 18.78s/it, v_num=4yez, train_loss_step=1.03e+3, train_loss_epoch=1.06e+3]"
     ]
    },
    {
     "name": "stdout",
     "output_type": "stream",
     "text": [
      "\r",
      "Epoch 6/1000:   0%|          | 5/1000 [01:33<5:11:26, 18.78s/it, v_num=4yez, train_loss_step=1.03e+3, train_loss_epoch=1.06e+3]"
     ]
    },
    {
     "name": "stdout",
     "output_type": "stream",
     "text": [
      "\r",
      "Epoch 6/1000:   1%|          | 6/1000 [01:49<4:57:20, 17.95s/it, v_num=4yez, train_loss_step=1.03e+3, train_loss_epoch=1.06e+3]"
     ]
    },
    {
     "name": "stdout",
     "output_type": "stream",
     "text": [
      "\r",
      "Epoch 6/1000:   1%|          | 6/1000 [01:49<4:57:20, 17.95s/it, v_num=4yez, train_loss_step=1.06e+3, train_loss_epoch=1.06e+3]"
     ]
    },
    {
     "name": "stdout",
     "output_type": "stream",
     "text": [
      "\r",
      "Epoch 7/1000:   1%|          | 6/1000 [01:49<4:57:20, 17.95s/it, v_num=4yez, train_loss_step=1.06e+3, train_loss_epoch=1.06e+3]"
     ]
    },
    {
     "name": "stdout",
     "output_type": "stream",
     "text": [
      "\r",
      "Epoch 7/1000:   1%|          | 7/1000 [02:10<5:12:57, 18.91s/it, v_num=4yez, train_loss_step=1.06e+3, train_loss_epoch=1.06e+3]"
     ]
    },
    {
     "name": "stdout",
     "output_type": "stream",
     "text": [
      "\r",
      "Epoch 7/1000:   1%|          | 7/1000 [02:10<5:12:57, 18.91s/it, v_num=4yez, train_loss_step=1.06e+3, train_loss_epoch=1.06e+3]"
     ]
    },
    {
     "name": "stdout",
     "output_type": "stream",
     "text": [
      "\r",
      "Epoch 8/1000:   1%|          | 7/1000 [02:10<5:12:57, 18.91s/it, v_num=4yez, train_loss_step=1.06e+3, train_loss_epoch=1.06e+3]"
     ]
    },
    {
     "name": "stdout",
     "output_type": "stream",
     "text": [
      "\r",
      "Epoch 8/1000:   1%|          | 8/1000 [02:29<5:10:47, 18.80s/it, v_num=4yez, train_loss_step=1.06e+3, train_loss_epoch=1.06e+3]"
     ]
    },
    {
     "name": "stdout",
     "output_type": "stream",
     "text": [
      "\r",
      "Epoch 8/1000:   1%|          | 8/1000 [02:29<5:10:47, 18.80s/it, v_num=4yez, train_loss_step=1.01e+3, train_loss_epoch=1.06e+3]"
     ]
    },
    {
     "name": "stdout",
     "output_type": "stream",
     "text": [
      "\r",
      "Epoch 9/1000:   1%|          | 8/1000 [02:29<5:10:47, 18.80s/it, v_num=4yez, train_loss_step=1.01e+3, train_loss_epoch=1.06e+3]"
     ]
    },
    {
     "name": "stdout",
     "output_type": "stream",
     "text": [
      "\r",
      "Epoch 9/1000:   1%|          | 9/1000 [02:43<4:46:40, 17.36s/it, v_num=4yez, train_loss_step=1.01e+3, train_loss_epoch=1.06e+3]"
     ]
    },
    {
     "name": "stdout",
     "output_type": "stream",
     "text": [
      "\r",
      "Epoch 9/1000:   1%|          | 9/1000 [02:43<4:46:40, 17.36s/it, v_num=4yez, train_loss_step=1.03e+3, train_loss_epoch=1.06e+3]"
     ]
    },
    {
     "name": "stdout",
     "output_type": "stream",
     "text": [
      "\r",
      "Epoch 10/1000:   1%|          | 9/1000 [02:43<4:46:40, 17.36s/it, v_num=4yez, train_loss_step=1.03e+3, train_loss_epoch=1.06e+3]"
     ]
    },
    {
     "name": "stdout",
     "output_type": "stream",
     "text": [
      "\r",
      "Epoch 10/1000:   1%|          | 10/1000 [03:05<5:10:41, 18.83s/it, v_num=4yez, train_loss_step=1.03e+3, train_loss_epoch=1.06e+3]"
     ]
    },
    {
     "name": "stdout",
     "output_type": "stream",
     "text": [
      "\r",
      "Epoch 10/1000:   1%|          | 10/1000 [03:05<5:10:41, 18.83s/it, v_num=4yez, train_loss_step=1.05e+3, train_loss_epoch=1.06e+3]"
     ]
    },
    {
     "name": "stdout",
     "output_type": "stream",
     "text": [
      "\r",
      "Epoch 11/1000:   1%|          | 10/1000 [03:05<5:10:41, 18.83s/it, v_num=4yez, train_loss_step=1.05e+3, train_loss_epoch=1.06e+3]"
     ]
    },
    {
     "name": "stdout",
     "output_type": "stream",
     "text": [
      "\r",
      "Epoch 11/1000:   1%|          | 11/1000 [03:23<5:05:52, 18.56s/it, v_num=4yez, train_loss_step=1.05e+3, train_loss_epoch=1.06e+3]"
     ]
    },
    {
     "name": "stdout",
     "output_type": "stream",
     "text": [
      "\r",
      "Epoch 11/1000:   1%|          | 11/1000 [03:23<5:05:52, 18.56s/it, v_num=4yez, train_loss_step=1.06e+3, train_loss_epoch=1.06e+3]"
     ]
    },
    {
     "name": "stdout",
     "output_type": "stream",
     "text": [
      "\r",
      "Epoch 12/1000:   1%|          | 11/1000 [03:23<5:05:52, 18.56s/it, v_num=4yez, train_loss_step=1.06e+3, train_loss_epoch=1.06e+3]"
     ]
    },
    {
     "name": "stdout",
     "output_type": "stream",
     "text": [
      "\r",
      "Epoch 12/1000:   1%|          | 12/1000 [03:43<5:14:27, 19.10s/it, v_num=4yez, train_loss_step=1.06e+3, train_loss_epoch=1.06e+3]"
     ]
    },
    {
     "name": "stdout",
     "output_type": "stream",
     "text": [
      "\r",
      "Epoch 12/1000:   1%|          | 12/1000 [03:43<5:14:27, 19.10s/it, v_num=4yez, train_loss_step=1.07e+3, train_loss_epoch=1.06e+3]"
     ]
    },
    {
     "name": "stdout",
     "output_type": "stream",
     "text": [
      "\r",
      "Epoch 13/1000:   1%|          | 12/1000 [03:43<5:14:27, 19.10s/it, v_num=4yez, train_loss_step=1.07e+3, train_loss_epoch=1.06e+3]"
     ]
    },
    {
     "name": "stdout",
     "output_type": "stream",
     "text": [
      "\r",
      "Epoch 13/1000:   1%|▏         | 13/1000 [04:04<5:23:32, 19.67s/it, v_num=4yez, train_loss_step=1.07e+3, train_loss_epoch=1.06e+3]"
     ]
    },
    {
     "name": "stdout",
     "output_type": "stream",
     "text": [
      "\r",
      "Epoch 13/1000:   1%|▏         | 13/1000 [04:04<5:23:32, 19.67s/it, v_num=4yez, train_loss_step=1.03e+3, train_loss_epoch=1.06e+3]"
     ]
    },
    {
     "name": "stdout",
     "output_type": "stream",
     "text": [
      "\r",
      "Epoch 14/1000:   1%|▏         | 13/1000 [04:04<5:23:32, 19.67s/it, v_num=4yez, train_loss_step=1.03e+3, train_loss_epoch=1.06e+3]"
     ]
    },
    {
     "name": "stdout",
     "output_type": "stream",
     "text": [
      "\r",
      "Epoch 14/1000:   1%|▏         | 14/1000 [04:23<5:21:14, 19.55s/it, v_num=4yez, train_loss_step=1.03e+3, train_loss_epoch=1.06e+3]"
     ]
    },
    {
     "name": "stdout",
     "output_type": "stream",
     "text": [
      "\r",
      "Epoch 14/1000:   1%|▏         | 14/1000 [04:23<5:21:14, 19.55s/it, v_num=4yez, train_loss_step=1.07e+3, train_loss_epoch=1.06e+3]"
     ]
    },
    {
     "name": "stdout",
     "output_type": "stream",
     "text": [
      "\r",
      "Epoch 15/1000:   1%|▏         | 14/1000 [04:23<5:21:14, 19.55s/it, v_num=4yez, train_loss_step=1.07e+3, train_loss_epoch=1.06e+3]"
     ]
    },
    {
     "name": "stdout",
     "output_type": "stream",
     "text": [
      "\r",
      "Epoch 15/1000:   2%|▏         | 15/1000 [04:38<4:54:57, 17.97s/it, v_num=4yez, train_loss_step=1.07e+3, train_loss_epoch=1.06e+3]"
     ]
    },
    {
     "name": "stdout",
     "output_type": "stream",
     "text": [
      "\r",
      "Epoch 15/1000:   2%|▏         | 15/1000 [04:38<4:54:57, 17.97s/it, v_num=4yez, train_loss_step=1.04e+3, train_loss_epoch=1.06e+3]"
     ]
    },
    {
     "name": "stdout",
     "output_type": "stream",
     "text": [
      "\r",
      "Epoch 16/1000:   2%|▏         | 15/1000 [04:38<4:54:57, 17.97s/it, v_num=4yez, train_loss_step=1.04e+3, train_loss_epoch=1.06e+3]"
     ]
    },
    {
     "name": "stdout",
     "output_type": "stream",
     "text": [
      "\r",
      "Epoch 16/1000:   2%|▏         | 16/1000 [04:57<5:03:17, 18.49s/it, v_num=4yez, train_loss_step=1.04e+3, train_loss_epoch=1.06e+3]"
     ]
    },
    {
     "name": "stdout",
     "output_type": "stream",
     "text": [
      "\r",
      "Epoch 16/1000:   2%|▏         | 16/1000 [04:57<5:03:17, 18.49s/it, v_num=4yez, train_loss_step=1.06e+3, train_loss_epoch=1.06e+3]"
     ]
    },
    {
     "name": "stdout",
     "output_type": "stream",
     "text": [
      "\r",
      "Epoch 17/1000:   2%|▏         | 16/1000 [04:57<5:03:17, 18.49s/it, v_num=4yez, train_loss_step=1.06e+3, train_loss_epoch=1.06e+3]"
     ]
    },
    {
     "name": "stdout",
     "output_type": "stream",
     "text": [
      "\r",
      "Epoch 17/1000:   2%|▏         | 17/1000 [05:12<4:41:49, 17.20s/it, v_num=4yez, train_loss_step=1.06e+3, train_loss_epoch=1.06e+3]"
     ]
    },
    {
     "name": "stdout",
     "output_type": "stream",
     "text": [
      "\r",
      "Epoch 17/1000:   2%|▏         | 17/1000 [05:12<4:41:49, 17.20s/it, v_num=4yez, train_loss_step=1.01e+3, train_loss_epoch=1.06e+3]"
     ]
    },
    {
     "name": "stdout",
     "output_type": "stream",
     "text": [
      "\r",
      "Epoch 18/1000:   2%|▏         | 17/1000 [05:12<4:41:49, 17.20s/it, v_num=4yez, train_loss_step=1.01e+3, train_loss_epoch=1.06e+3]"
     ]
    },
    {
     "name": "stdout",
     "output_type": "stream",
     "text": [
      "\r",
      "Epoch 18/1000:   2%|▏         | 18/1000 [05:26<4:28:05, 16.38s/it, v_num=4yez, train_loss_step=1.01e+3, train_loss_epoch=1.06e+3]"
     ]
    },
    {
     "name": "stdout",
     "output_type": "stream",
     "text": [
      "\r",
      "Epoch 18/1000:   2%|▏         | 18/1000 [05:26<4:28:05, 16.38s/it, v_num=4yez, train_loss_step=1.02e+3, train_loss_epoch=1.06e+3]"
     ]
    },
    {
     "name": "stdout",
     "output_type": "stream",
     "text": [
      "\r",
      "Epoch 19/1000:   2%|▏         | 18/1000 [05:26<4:28:05, 16.38s/it, v_num=4yez, train_loss_step=1.02e+3, train_loss_epoch=1.06e+3]"
     ]
    },
    {
     "name": "stdout",
     "output_type": "stream",
     "text": [
      "\r",
      "Epoch 19/1000:   2%|▏         | 19/1000 [05:40<4:17:03, 15.72s/it, v_num=4yez, train_loss_step=1.02e+3, train_loss_epoch=1.06e+3]"
     ]
    },
    {
     "name": "stdout",
     "output_type": "stream",
     "text": [
      "\r",
      "Epoch 19/1000:   2%|▏         | 19/1000 [05:40<4:17:03, 15.72s/it, v_num=4yez, train_loss_step=1.07e+3, train_loss_epoch=1.06e+3]"
     ]
    },
    {
     "name": "stdout",
     "output_type": "stream",
     "text": [
      "\r",
      "Epoch 20/1000:   2%|▏         | 19/1000 [05:40<4:17:03, 15.72s/it, v_num=4yez, train_loss_step=1.07e+3, train_loss_epoch=1.06e+3]"
     ]
    },
    {
     "name": "stdout",
     "output_type": "stream",
     "text": [
      "\r",
      "Epoch 20/1000:   2%|▏         | 20/1000 [05:55<4:09:15, 15.26s/it, v_num=4yez, train_loss_step=1.07e+3, train_loss_epoch=1.06e+3]"
     ]
    },
    {
     "name": "stdout",
     "output_type": "stream",
     "text": [
      "\r",
      "Epoch 20/1000:   2%|▏         | 20/1000 [05:55<4:09:15, 15.26s/it, v_num=4yez, train_loss_step=1.04e+3, train_loss_epoch=1.06e+3]"
     ]
    },
    {
     "name": "stdout",
     "output_type": "stream",
     "text": [
      "\r",
      "Epoch 21/1000:   2%|▏         | 20/1000 [05:55<4:09:15, 15.26s/it, v_num=4yez, train_loss_step=1.04e+3, train_loss_epoch=1.06e+3]"
     ]
    },
    {
     "name": "stdout",
     "output_type": "stream",
     "text": [
      "\r",
      "Epoch 21/1000:   2%|▏         | 21/1000 [06:09<4:03:48, 14.94s/it, v_num=4yez, train_loss_step=1.04e+3, train_loss_epoch=1.06e+3]"
     ]
    },
    {
     "name": "stdout",
     "output_type": "stream",
     "text": [
      "\r",
      "Epoch 21/1000:   2%|▏         | 21/1000 [06:09<4:03:48, 14.94s/it, v_num=4yez, train_loss_step=1.07e+3, train_loss_epoch=1.06e+3]"
     ]
    },
    {
     "name": "stdout",
     "output_type": "stream",
     "text": [
      "\r",
      "Epoch 21/1000:   2%|▏         | 21/1000 [06:09<4:46:52, 17.58s/it, v_num=4yez, train_loss_step=1.07e+3, train_loss_epoch=1.06e+3]"
     ]
    },
    {
     "name": "stdout",
     "output_type": "stream",
     "text": [
      "\n",
      "Monitored metric reconstruction_loss_validation did not improve in the last 10 records. Best score: 1054.821. Signaling Trainer to stop.\n"
     ]
    }
   ],
   "source": [
    "model.train(logger=logger, plan_kwargs = plan_kwargs, **trainer_kwargs)"
   ]
  },
  {
   "cell_type": "code",
   "execution_count": 15,
   "id": "c282f6eb-0ad1-40a5-81e6-1acda1545dad",
   "metadata": {
    "execution": {
     "iopub.execute_input": "2024-10-21T09:53:01.318135Z",
     "iopub.status.busy": "2024-10-21T09:53:01.317195Z",
     "iopub.status.idle": "2024-10-21T09:53:05.621768Z",
     "shell.execute_reply": "2024-10-21T09:53:05.620387Z"
    },
    "papermill": {
     "duration": 4.326428,
     "end_time": "2024-10-21T09:53:05.625255",
     "exception": false,
     "start_time": "2024-10-21T09:53:01.298827",
     "status": "completed"
    },
    "tags": []
   },
   "outputs": [
    {
     "name": "stderr",
     "output_type": "stream",
     "text": [
      "\u001b[34m\u001b[1mwandb\u001b[0m: - 0.005 MB of 0.005 MB uploaded\r"
     ]
    },
    {
     "name": "stderr",
     "output_type": "stream",
     "text": [
      "\u001b[34m\u001b[1mwandb\u001b[0m: \\ 0.019 MB of 0.025 MB uploaded\r"
     ]
    },
    {
     "name": "stderr",
     "output_type": "stream",
     "text": [
      "\u001b[34m\u001b[1mwandb\u001b[0m: | 0.019 MB of 0.025 MB uploaded\r"
     ]
    },
    {
     "name": "stderr",
     "output_type": "stream",
     "text": [
      "\u001b[34m\u001b[1mwandb\u001b[0m: / 0.025 MB of 0.025 MB uploaded\r"
     ]
    },
    {
     "name": "stderr",
     "output_type": "stream",
     "text": [
      "\u001b[34m\u001b[1mwandb\u001b[0m:                                                                                \n"
     ]
    },
    {
     "name": "stderr",
     "output_type": "stream",
     "text": [
      "\u001b[34m\u001b[1mwandb\u001b[0m: \n",
      "\u001b[34m\u001b[1mwandb\u001b[0m: Run history:\n",
      "\u001b[34m\u001b[1mwandb\u001b[0m:                     elbo_train █▆▄▃▃▂▂▂▂▂▂▂▁▁▁▁▁▁▁▁▁\n",
      "\u001b[34m\u001b[1mwandb\u001b[0m:                elbo_validation █▅▄▃▂▂▂▂▂▂▂▁▁▁▁▁▁▁▁▁▁\n",
      "\u001b[34m\u001b[1mwandb\u001b[0m:                          epoch ▁▁▁▁▂▂▂▂▂▂▃▃▃▃▃▄▄▄▄▅▅▅▅▅▅▆▆▆▆▆▇▇▇▇▇▇████\n",
      "\u001b[34m\u001b[1mwandb\u001b[0m:                kl_global_train ▁▁▁▁▁▁▁▁▁▁▁▁▁▁▁▁▁▁▁▁▁\n",
      "\u001b[34m\u001b[1mwandb\u001b[0m:           kl_global_validation ▁▁▁▁▁▁▁▁▁▁▁▁▁▁▁▁▁▁▁▁▁\n",
      "\u001b[34m\u001b[1mwandb\u001b[0m:                 kl_local_train ██▅▄▃▃▃▂▂▂▂▂▂▂▂▁▁▁▁▁▁\n",
      "\u001b[34m\u001b[1mwandb\u001b[0m:            kl_local_validation █▆▄▃▃▃▂▂▂▂▂▂▂▁▁▁▁▁▁▁▁\n",
      "\u001b[34m\u001b[1mwandb\u001b[0m:                      kl_weight ▁▁▁▁▂▂▂▂▂▂▃▃▃▃▃▄▄▄▄▅▅▅▅▅▅▆▆▆▆▆▇▇▇▇▇▇████\n",
      "\u001b[34m\u001b[1mwandb\u001b[0m:      reconstruction_loss_train █▄▃▃▂▂▂▂▂▂▁▁▁▁▁▁▁▁▁▁▁\n",
      "\u001b[34m\u001b[1mwandb\u001b[0m: reconstruction_loss_validation █▅▃▂▂▂▁▁▁▁▁▁▁▁▁▁▁▁▁▁▁\n",
      "\u001b[34m\u001b[1mwandb\u001b[0m:               train_loss_epoch █▄▃▂▂▂▂▂▂▁▁▁▁▁▁▁▁▁▁▁▁\n",
      "\u001b[34m\u001b[1mwandb\u001b[0m:                train_loss_step ▆▅▇▄▅▃▅▇▃▂▆▅▃▄▅▅█▁▃▆▃▆▅▃▁▁▃▄▅▄▇▃▄▅▄▅▂▆▅▂\n",
      "\u001b[34m\u001b[1mwandb\u001b[0m:            trainer/global_step ▁▁▁▂▂▂▂▂▂▃▃▃▃▃▃▄▄▄▄▄▅▅▅▅▅▅▆▆▆▆▆▇▇▇▇▇▇███\n",
      "\u001b[34m\u001b[1mwandb\u001b[0m:                validation_loss █▄▃▂▂▁▁▁▁▁▁▁▁▁▁▁▁▁▁▁▁\n",
      "\u001b[34m\u001b[1mwandb\u001b[0m: \n",
      "\u001b[34m\u001b[1mwandb\u001b[0m: Run summary:\n",
      "\u001b[34m\u001b[1mwandb\u001b[0m:                     elbo_train 1081.45032\n",
      "\u001b[34m\u001b[1mwandb\u001b[0m:                elbo_validation 1081.06714\n",
      "\u001b[34m\u001b[1mwandb\u001b[0m:                          epoch 20\n",
      "\u001b[34m\u001b[1mwandb\u001b[0m:                kl_global_train 0.0\n",
      "\u001b[34m\u001b[1mwandb\u001b[0m:           kl_global_validation 0.0\n",
      "\u001b[34m\u001b[1mwandb\u001b[0m:                 kl_local_train 26.84265\n",
      "\u001b[34m\u001b[1mwandb\u001b[0m:            kl_local_validation 26.1549\n",
      "\u001b[34m\u001b[1mwandb\u001b[0m:                      kl_weight 0.05\n",
      "\u001b[34m\u001b[1mwandb\u001b[0m:      reconstruction_loss_train 1054.60767\n",
      "\u001b[34m\u001b[1mwandb\u001b[0m: reconstruction_loss_validation 1054.91223\n",
      "\u001b[34m\u001b[1mwandb\u001b[0m:               train_loss_epoch 1055.9491\n",
      "\u001b[34m\u001b[1mwandb\u001b[0m:                train_loss_step 1105.28674\n",
      "\u001b[34m\u001b[1mwandb\u001b[0m:            trainer/global_step 35636\n",
      "\u001b[34m\u001b[1mwandb\u001b[0m:                validation_loss 1056.22046\n",
      "\u001b[34m\u001b[1mwandb\u001b[0m: \n"
     ]
    },
    {
     "name": "stderr",
     "output_type": "stream",
     "text": [
      "\u001b[34m\u001b[1mwandb\u001b[0m: 🚀 View run \u001b[33mStep2_T_NonNaive\u001b[0m at: \u001b[34m\u001b[4mhttps://wandb.ai/inflammation/inflammation_atlas_R1/runs/s58o4yez/workspace\u001b[0m\n",
      "\u001b[34m\u001b[1mwandb\u001b[0m: Synced 6 W&B file(s), 0 media file(s), 0 artifact file(s) and 0 other file(s)\n"
     ]
    },
    {
     "name": "stderr",
     "output_type": "stream",
     "text": [
      "\u001b[34m\u001b[1mwandb\u001b[0m: Find logs at: \u001b[35m\u001b[1m./wandb/run-20241021_094646-s58o4yez/logs\u001b[0m\n"
     ]
    }
   ],
   "source": [
    "wandb.finish()"
   ]
  },
  {
   "cell_type": "markdown",
   "id": "d9fb1179-83c7-4ac6-b4aa-92dc7a349801",
   "metadata": {
    "papermill": {
     "duration": 0.015822,
     "end_time": "2024-10-21T09:53:05.663381",
     "exception": false,
     "start_time": "2024-10-21T09:53:05.647559",
     "status": "completed"
    },
    "tags": []
   },
   "source": [
    "### Extracting embedding space"
   ]
  },
  {
   "cell_type": "code",
   "execution_count": 16,
   "id": "caaa5832-0123-4c59-8ec6-f46a75f7a14e",
   "metadata": {
    "execution": {
     "iopub.execute_input": "2024-10-21T09:53:05.691235Z",
     "iopub.status.busy": "2024-10-21T09:53:05.691001Z",
     "iopub.status.idle": "2024-10-21T09:53:11.806425Z",
     "shell.execute_reply": "2024-10-21T09:53:11.805883Z"
    },
    "papermill": {
     "duration": 6.131439,
     "end_time": "2024-10-21T09:53:11.809672",
     "exception": false,
     "start_time": "2024-10-21T09:53:05.678233",
     "status": "completed"
    },
    "tags": []
   },
   "outputs": [],
   "source": [
    "adata.obsm['X_scVI'] = model.get_latent_representation()"
   ]
  },
  {
   "cell_type": "markdown",
   "id": "2f03e70b-839c-40a6-9fbb-d76bbd787419",
   "metadata": {
    "papermill": {
     "duration": 0.011394,
     "end_time": "2024-10-21T09:53:11.843245",
     "exception": false,
     "start_time": "2024-10-21T09:53:11.831851",
     "status": "completed"
    },
    "tags": []
   },
   "source": [
    "## Save the results"
   ]
  },
  {
   "cell_type": "code",
   "execution_count": 17,
   "id": "7b04049b-47fd-4b62-a1c0-c43dcc086d34",
   "metadata": {
    "execution": {
     "iopub.execute_input": "2024-10-21T09:53:11.863040Z",
     "iopub.status.busy": "2024-10-21T09:53:11.862837Z",
     "iopub.status.idle": "2024-10-21T09:53:37.850403Z",
     "shell.execute_reply": "2024-10-21T09:53:37.848806Z"
    },
    "papermill": {
     "duration": 26.001807,
     "end_time": "2024-10-21T09:53:37.854348",
     "exception": false,
     "start_time": "2024-10-21T09:53:11.852541",
     "status": "completed"
    },
    "tags": []
   },
   "outputs": [],
   "source": [
    "if overwriteData:\n",
    "    adata.write(here(f\"{workDir}/{cellGroup}/results/02_{annotationLevel}_{cellGroup}_HVGsubset_scVI.h5ad\"), compression=\"gzip\")\n",
    "    model.save(here(f\"{workDir}/{cellGroup}/results/02_{annotationLevel}_{cellGroup}_HVGsubset_scVI_MODEL/\"),\n",
    "               overwrite = True, \n",
    "               save_anndata = False )   "
   ]
  },
  {
   "cell_type": "code",
   "execution_count": 18,
   "id": "629ba2bd-f6be-44ef-8fca-bbdf891bf25f",
   "metadata": {
    "execution": {
     "iopub.execute_input": "2024-10-21T09:53:37.908557Z",
     "iopub.status.busy": "2024-10-21T09:53:37.907962Z",
     "iopub.status.idle": "2024-10-21T09:53:37.914113Z",
     "shell.execute_reply": "2024-10-21T09:53:37.912677Z"
    },
    "papermill": {
     "duration": 0.038923,
     "end_time": "2024-10-21T09:53:37.916509",
     "exception": false,
     "start_time": "2024-10-21T09:53:37.877586",
     "status": "completed"
    },
    "tags": []
   },
   "outputs": [],
   "source": [
    "# To load the model do (after loading corresponding adata):\n",
    "# model = scvi.model.SCVI.load(here('{}/results/01_{}_HVGsubset_scVI_MODEL/'.format(workDir, cellGroup)), \n",
    "#                              adata, \n",
    "#                              use_gpu=True)"
   ]
  },
  {
   "cell_type": "raw",
   "id": "975e84d0-f56b-498d-b3a8-c9219cf22e53",
   "metadata": {
    "papermill": {
     "duration": 0.012035,
     "end_time": "2024-10-21T09:53:37.943697",
     "exception": false,
     "start_time": "2024-10-21T09:53:37.931662",
     "status": "completed"
    },
    "tags": []
   },
   "source": [
    "session_info.show()"
   ]
  }
 ],
 "metadata": {
  "kernelspec": {
   "display_name": "Python 3 (ipykernel)",
   "language": "python",
   "name": "python3"
  },
  "language_info": {
   "codemirror_mode": {
    "name": "ipython",
    "version": 3
   },
   "file_extension": ".py",
   "mimetype": "text/x-python",
   "name": "python",
   "nbconvert_exporter": "python",
   "pygments_lexer": "ipython3",
   "version": "3.9.19"
  },
  "papermill": {
   "default_parameters": {},
   "duration": 431.393259,
   "end_time": "2024-10-21T09:53:41.317882",
   "environment_variables": {},
   "exception": null,
   "input_path": "T_NonNaive/02_integration_scVI.ipynb",
   "output_path": "T_NonNaive/02_integration_scVI.executed.ipynb",
   "parameters": {},
   "start_time": "2024-10-21T09:46:29.924623",
   "version": "2.5.0"
  }
 },
 "nbformat": 4,
 "nbformat_minor": 5
}