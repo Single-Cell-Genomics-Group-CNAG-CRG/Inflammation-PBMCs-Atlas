{
 "cells": [
  {
   "cell_type": "code",
   "execution_count": 1,
   "id": "2dd1425a-0c07-465e-b522-9e3cc5cb93a7",
   "metadata": {
    "execution": {
     "iopub.execute_input": "2024-10-21T09:35:35.115460Z",
     "iopub.status.busy": "2024-10-21T09:35:35.114959Z",
     "iopub.status.idle": "2024-10-21T09:35:38.727136Z",
     "shell.execute_reply": "2024-10-21T09:35:38.725765Z"
    },
    "papermill": {
     "duration": 3.628192,
     "end_time": "2024-10-21T09:35:38.728752",
     "exception": false,
     "start_time": "2024-10-21T09:35:35.100560",
     "status": "completed"
    },
    "tags": []
   },
   "outputs": [
    {
     "name": "stderr",
     "output_type": "stream",
     "text": [
      "/home/dmaspero/miniconda3/envs/scarches/lib/python3.9/site-packages/tqdm/auto.py:21: TqdmWarning: IProgress not found. Please update jupyter and ipywidgets. See https://ipywidgets.readthedocs.io/en/stable/user_install.html\n",
      "  from .autonotebook import tqdm as notebook_tqdm\n"
     ]
    },
    {
     "data": {
      "text/plain": [
       "True"
      ]
     },
     "execution_count": 1,
     "metadata": {},
     "output_type": "execute_result"
    }
   ],
   "source": [
    "import os\n",
    "import sys\n",
    "\n",
    "import numpy as np\n",
    "import matplotlib.pyplot as plt\n",
    "\n",
    "import scanpy as sc\n",
    "import scvi\n",
    "import torch\n",
    "\n",
    "from pytorch_lightning.loggers import WandbLogger\n",
    "import wandb\n",
    "from dotenv import load_dotenv\n",
    "\n",
    "import session_info\n",
    "import warnings\n",
    "from pyprojroot.here import here\n",
    "\n",
    "warnings.filterwarnings(\"ignore\")\n",
    "sys.path.insert(1, str(here('bin')))\n",
    "\n",
    "torch.set_float32_matmul_precision('high')\n",
    "\n",
    "#plt.style.use(['science','nature','no-latex'])\n",
    "dpi_fig_save = 300\n",
    "sc.set_figure_params(dpi=100, dpi_save=dpi_fig_save, vector_friendly=True)\n",
    "\n",
    "load_dotenv(here('.env'))"
   ]
  },
  {
   "cell_type": "code",
   "execution_count": 2,
   "id": "09c897fc-744b-43de-a681-718fb5d327fa",
   "metadata": {
    "execution": {
     "iopub.execute_input": "2024-10-21T09:35:38.745781Z",
     "iopub.status.busy": "2024-10-21T09:35:38.744353Z",
     "iopub.status.idle": "2024-10-21T09:35:38.751475Z",
     "shell.execute_reply": "2024-10-21T09:35:38.750244Z"
    },
    "papermill": {
     "duration": 0.017786,
     "end_time": "2024-10-21T09:35:38.753399",
     "exception": false,
     "start_time": "2024-10-21T09:35:38.735613",
     "status": "completed"
    },
    "tags": []
   },
   "outputs": [],
   "source": [
    "class CustomWandbLogger(WandbLogger):\n",
    "    @property\n",
    "    def save_dir(self):\n",
    "        return self.experiment.dir"
   ]
  },
  {
   "cell_type": "code",
   "execution_count": 3,
   "id": "8ee6662f-5d45-4137-80a5-bb0b9ae8d71f",
   "metadata": {
    "execution": {
     "iopub.execute_input": "2024-10-21T09:35:38.770757Z",
     "iopub.status.busy": "2024-10-21T09:35:38.770287Z",
     "iopub.status.idle": "2024-10-21T09:35:38.781328Z",
     "shell.execute_reply": "2024-10-21T09:35:38.780096Z"
    },
    "papermill": {
     "duration": 0.023869,
     "end_time": "2024-10-21T09:35:38.784395",
     "exception": false,
     "start_time": "2024-10-21T09:35:38.760526",
     "status": "completed"
    },
    "tags": []
   },
   "outputs": [
    {
     "name": "stderr",
     "output_type": "stream",
     "text": [
      "Seed set to 0\n"
     ]
    },
    {
     "name": "stdout",
     "output_type": "stream",
     "text": [
      "Last run with scvi-tools version: 1.1.2\n"
     ]
    }
   ],
   "source": [
    "scvi.settings.seed = 0\n",
    "print(\"Last run with scvi-tools version:\", scvi.__version__)"
   ]
  },
  {
   "cell_type": "markdown",
   "id": "a81037ff-5998-482a-ba86-520f757311a9",
   "metadata": {
    "papermill": {
     "duration": 0.008975,
     "end_time": "2024-10-21T09:35:38.803753",
     "exception": false,
     "start_time": "2024-10-21T09:35:38.794778",
     "status": "completed"
    },
    "tags": []
   },
   "source": [
    "**Setting parameters** "
   ]
  },
  {
   "cell_type": "code",
   "execution_count": 4,
   "id": "56c27966-8f10-4c93-8b1a-1fa75f005e41",
   "metadata": {
    "execution": {
     "iopub.execute_input": "2024-10-21T09:35:38.822164Z",
     "iopub.status.busy": "2024-10-21T09:35:38.821128Z",
     "iopub.status.idle": "2024-10-21T09:35:38.826842Z",
     "shell.execute_reply": "2024-10-21T09:35:38.825614Z"
    },
    "papermill": {
     "duration": 0.01735,
     "end_time": "2024-10-21T09:35:38.828967",
     "exception": false,
     "start_time": "2024-10-21T09:35:38.811617",
     "status": "completed"
    },
    "tags": []
   },
   "outputs": [],
   "source": [
    "overwriteFigures = True\n",
    "overwriteData = True"
   ]
  },
  {
   "cell_type": "code",
   "execution_count": 5,
   "id": "c86fccd3-a4fe-415b-8f4e-e2ceb3ec128a",
   "metadata": {
    "execution": {
     "iopub.execute_input": "2024-10-21T09:35:38.850733Z",
     "iopub.status.busy": "2024-10-21T09:35:38.850257Z",
     "iopub.status.idle": "2024-10-21T09:35:38.855713Z",
     "shell.execute_reply": "2024-10-21T09:35:38.854639Z"
    },
    "papermill": {
     "duration": 0.02021,
     "end_time": "2024-10-21T09:35:38.858583",
     "exception": false,
     "start_time": "2024-10-21T09:35:38.838373",
     "status": "completed"
    },
    "tags": []
   },
   "outputs": [],
   "source": [
    "cellGroup = 'NK'\n",
    "workDir = os.getcwd()"
   ]
  },
  {
   "cell_type": "code",
   "execution_count": 6,
   "id": "2dee4d55-d168-467b-b867-a61fed9d6af1",
   "metadata": {
    "execution": {
     "iopub.execute_input": "2024-10-21T09:35:38.881882Z",
     "iopub.status.busy": "2024-10-21T09:35:38.880873Z",
     "iopub.status.idle": "2024-10-21T09:35:38.887177Z",
     "shell.execute_reply": "2024-10-21T09:35:38.886066Z"
    },
    "papermill": {
     "duration": 0.020506,
     "end_time": "2024-10-21T09:35:38.890126",
     "exception": false,
     "start_time": "2024-10-21T09:35:38.869620",
     "status": "completed"
    },
    "tags": []
   },
   "outputs": [],
   "source": [
    "annotationLevel = os.path.basename(os.path.normpath(workDir))"
   ]
  },
  {
   "cell_type": "code",
   "execution_count": 7,
   "id": "11e53cd5-b746-4152-89cb-c2f0c15d90b3",
   "metadata": {
    "execution": {
     "iopub.execute_input": "2024-10-21T09:35:38.913588Z",
     "iopub.status.busy": "2024-10-21T09:35:38.912550Z",
     "iopub.status.idle": "2024-10-21T09:35:38.920736Z",
     "shell.execute_reply": "2024-10-21T09:35:38.919417Z"
    },
    "papermill": {
     "duration": 0.022204,
     "end_time": "2024-10-21T09:35:38.923980",
     "exception": false,
     "start_time": "2024-10-21T09:35:38.901776",
     "status": "completed"
    },
    "tags": []
   },
   "outputs": [
    {
     "data": {
      "text/plain": [
       "'/scratch_isilon/groups/singlecell/shared/projects/Inflammation-PBMCs-Atlas/02_cell_annotation/SCGT00_CentralizedDataset/02_fromCellLineages_to_CellTypes/Step2'"
      ]
     },
     "execution_count": 7,
     "metadata": {},
     "output_type": "execute_result"
    }
   ],
   "source": [
    "workDir"
   ]
  },
  {
   "cell_type": "markdown",
   "id": "171d2f06-9a44-4fcb-b437-35dc546674b6",
   "metadata": {
    "papermill": {
     "duration": 0.00934,
     "end_time": "2024-10-21T09:35:38.944037",
     "exception": false,
     "start_time": "2024-10-21T09:35:38.934697",
     "status": "completed"
    },
    "tags": []
   },
   "source": [
    "**Load data**"
   ]
  },
  {
   "cell_type": "code",
   "execution_count": 8,
   "id": "429f34fe-dde6-4cc9-9f75-7de8f85c5ffe",
   "metadata": {
    "execution": {
     "iopub.execute_input": "2024-10-21T09:35:38.966713Z",
     "iopub.status.busy": "2024-10-21T09:35:38.965423Z",
     "iopub.status.idle": "2024-10-21T09:35:42.498974Z",
     "shell.execute_reply": "2024-10-21T09:35:42.497606Z"
    },
    "papermill": {
     "duration": 3.547689,
     "end_time": "2024-10-21T09:35:42.500312",
     "exception": false,
     "start_time": "2024-10-21T09:35:38.952623",
     "status": "completed"
    },
    "tags": []
   },
   "outputs": [
    {
     "data": {
      "text/plain": [
       "AnnData object with n_obs × n_vars = 75377 × 2557\n",
       "    obs: 'studyID', 'libraryID', 'sampleID', 'chemistry', 'technology', 'patientID', 'disease', 'timepoint_replicate', 'treatmentStatus', 'therapyResponse', 'sex', 'age', 'BMI', 'binned_age', 'diseaseStatus', 'smokingStatus', 'ethnicity', 'institute', 'diseaseGroup', 'batches', 'n_genes_by_counts', 'log1p_n_genes_by_counts', 'total_counts', 'log1p_total_counts', 'pct_counts_in_top_20_genes', 'total_counts_mt', 'log1p_total_counts_mt', 'pct_counts_mt', 'total_counts_ribo', 'log1p_total_counts_ribo', 'pct_counts_ribo', 'total_counts_hb', 'log1p_total_counts_hb', 'pct_counts_hb', 'total_counts_plt', 'log1p_total_counts_plt', 'pct_counts_plt', 'S_score', 'G2M_score', 'phase'\n",
       "    var: 'hgnc_id', 'symbol', 'locus_group', 'HUGO_status', 'mt', 'ribo', 'hb', 'plt', 'n_cells_by_counts', 'mean_counts', 'log1p_mean_counts', 'pct_dropout_by_counts', 'total_counts', 'log1p_total_counts', 'highly_variable', 'means', 'dispersions', 'dispersions_norm', 'highly_variable_nbatches', 'highly_variable_intersection'\n",
       "    uns: 'disease_colors', 'hvg', 'log1p'\n",
       "    layers: 'counts', 'log1p_10e4_counts'"
      ]
     },
     "execution_count": 8,
     "metadata": {},
     "output_type": "execute_result"
    }
   ],
   "source": [
    "adata = sc.read_h5ad(here(f\"{workDir}/{cellGroup}/results/01_{cellGroup}_normalized_HVGsubset.h5ad\"))\n",
    "adata"
   ]
  },
  {
   "cell_type": "markdown",
   "id": "8ac79f3b-d5af-41fa-8904-1e9ac1cbe2fb",
   "metadata": {
    "papermill": {
     "duration": 0.006219,
     "end_time": "2024-10-21T09:35:42.511306",
     "exception": false,
     "start_time": "2024-10-21T09:35:42.505087",
     "status": "completed"
    },
    "tags": []
   },
   "source": [
    "## scVI integration"
   ]
  },
  {
   "cell_type": "markdown",
   "id": "9544847d-d17f-4811-b14b-760446d54d32",
   "metadata": {
    "execution": {
     "iopub.execute_input": "2024-03-25T16:49:04.004504Z",
     "iopub.status.busy": "2024-03-25T16:49:04.004143Z",
     "iopub.status.idle": "2024-03-25T16:49:04.010148Z",
     "shell.execute_reply": "2024-03-25T16:49:04.009146Z",
     "shell.execute_reply.started": "2024-03-25T16:49:04.004477Z"
    },
    "papermill": {
     "duration": 0.012059,
     "end_time": "2024-10-21T09:35:42.528455",
     "exception": false,
     "start_time": "2024-10-21T09:35:42.516396",
     "status": "completed"
    },
    "tags": []
   },
   "source": [
    "**scVI parameters**"
   ]
  },
  {
   "cell_type": "code",
   "execution_count": 9,
   "id": "208966eb-545a-4c02-854c-0ed0487ef5b3",
   "metadata": {
    "execution": {
     "iopub.execute_input": "2024-10-21T09:35:42.549941Z",
     "iopub.status.busy": "2024-10-21T09:35:42.549432Z",
     "iopub.status.idle": "2024-10-21T09:35:42.559336Z",
     "shell.execute_reply": "2024-10-21T09:35:42.558319Z"
    },
    "papermill": {
     "duration": 0.02361,
     "end_time": "2024-10-21T09:35:42.562264",
     "exception": false,
     "start_time": "2024-10-21T09:35:42.538654",
     "status": "completed"
    },
    "tags": []
   },
   "outputs": [],
   "source": [
    "# https://docs.scvi-tools.org/en/stable/api/reference/scvi.train.Trainer.html#scvi.train.Trainer\n",
    "setup_kwargs = dict(\n",
    "    layer=\"counts\", \n",
    "    batch_key='libraryID', \n",
    "    categorical_covariate_keys = ['disease', 'sampleID'],\n",
    ")\n",
    "\n",
    "scvi_kwargs = dict(n_hidden=512,\n",
    "                   n_latent=10, # reduced to 20 after step 00 (main) and to 10 after step 03\n",
    "                   n_layers=2,\n",
    "                   gene_likelihood='nb')\n",
    "\n",
    "trainer_kwargs = dict(\n",
    "    checkpointing_monitor = 'elbo_validation',\n",
    "    early_stopping_monitor = 'reconstruction_loss_validation',\n",
    "    early_stopping_patience = 10,\n",
    "    early_stopping_min_delta=0.1,\n",
    "    early_stopping = True,\n",
    "    max_epochs = 1000,\n",
    "\n",
    "    #logger = # wandb\n",
    ")\n",
    "# https://docs.scvi-tools.org/en/stable/api/reference/scvi.train.TrainingPlan.html#scvi.train.TrainingPlan\n",
    "plan_kwargs = dict(\n",
    "    lr = 5e-4,\n",
    "    #reduce_lr_on_plateau = True\n",
    ")\n",
    "\n",
    "# https://docs.scvi-tools.org/en/stable/api/reference/scvi.module.VAE.html#scvi.module.VAE\n",
    "#vae = dict(\n",
    "#    use_layer_norm='both',\n",
    "#    use_batch_norm='none',\n",
    "#    encode_covariates=True,\n",
    "#    deeply_inject_covariates=False\n",
    "#)\n",
    "parameter_dict = setup_kwargs | scvi_kwargs | trainer_kwargs | plan_kwargs"
   ]
  },
  {
   "cell_type": "markdown",
   "id": "1362366a-c16b-4c11-964b-b9c5f82f7b29",
   "metadata": {
    "papermill": {
     "duration": 0.009907,
     "end_time": "2024-10-21T09:35:42.583376",
     "exception": false,
     "start_time": "2024-10-21T09:35:42.573469",
     "status": "completed"
    },
    "tags": []
   },
   "source": [
    "**wandb parameter**"
   ]
  },
  {
   "cell_type": "code",
   "execution_count": 10,
   "id": "0496e33a-8ca5-423f-b42f-34a59760708c",
   "metadata": {
    "execution": {
     "iopub.execute_input": "2024-10-21T09:35:42.603740Z",
     "iopub.status.busy": "2024-10-21T09:35:42.603260Z",
     "iopub.status.idle": "2024-10-21T09:35:42.610826Z",
     "shell.execute_reply": "2024-10-21T09:35:42.609788Z"
    },
    "papermill": {
     "duration": 0.021631,
     "end_time": "2024-10-21T09:35:42.613918",
     "exception": false,
     "start_time": "2024-10-21T09:35:42.592287",
     "status": "completed"
    },
    "tags": []
   },
   "outputs": [
    {
     "data": {
      "text/plain": [
       "'Step2_NK'"
      ]
     },
     "execution_count": 10,
     "metadata": {},
     "output_type": "execute_result"
    }
   ],
   "source": [
    "run_name = f\"{annotationLevel}_{cellGroup}\"\n",
    "run_name"
   ]
  },
  {
   "cell_type": "code",
   "execution_count": 11,
   "id": "b0021327-95a2-4002-bf32-2c5779a99505",
   "metadata": {
    "execution": {
     "iopub.execute_input": "2024-10-21T09:35:42.641124Z",
     "iopub.status.busy": "2024-10-21T09:35:42.640659Z",
     "iopub.status.idle": "2024-10-21T09:35:42.688716Z",
     "shell.execute_reply": "2024-10-21T09:35:42.687872Z"
    },
    "papermill": {
     "duration": 0.065034,
     "end_time": "2024-10-21T09:35:42.691637",
     "exception": false,
     "start_time": "2024-10-21T09:35:42.626603",
     "status": "completed"
    },
    "tags": []
   },
   "outputs": [],
   "source": [
    "logger = CustomWandbLogger(name = run_name, project='inflammation_atlas_R1', config=parameter_dict)"
   ]
  },
  {
   "cell_type": "markdown",
   "id": "c237eee1-a976-4915-9b7f-b014bf33f47d",
   "metadata": {
    "papermill": {
     "duration": 0.01267,
     "end_time": "2024-10-21T09:35:42.716715",
     "exception": false,
     "start_time": "2024-10-21T09:35:42.704045",
     "status": "completed"
    },
    "tags": []
   },
   "source": [
    "**Running integration**"
   ]
  },
  {
   "cell_type": "code",
   "execution_count": 12,
   "id": "aff97c53-1aba-462e-8a77-f1aec9cf724c",
   "metadata": {
    "execution": {
     "iopub.execute_input": "2024-10-21T09:35:42.743426Z",
     "iopub.status.busy": "2024-10-21T09:35:42.742414Z",
     "iopub.status.idle": "2024-10-21T09:35:42.865566Z",
     "shell.execute_reply": "2024-10-21T09:35:42.864238Z"
    },
    "papermill": {
     "duration": 0.139473,
     "end_time": "2024-10-21T09:35:42.868557",
     "exception": false,
     "start_time": "2024-10-21T09:35:42.729084",
     "status": "completed"
    },
    "tags": []
   },
   "outputs": [
    {
     "name": "stderr",
     "output_type": "stream",
     "text": [
      "CUDA backend failed to initialize: Unable to use CUDA because of the following issues with CUDA components:\n",
      "Outdated cuSPARSE installation found.\n",
      "Version JAX was built against: 12200\n",
      "Minimum supported: 12100\n",
      "Installed version: 12002\n",
      "The local installation version must be no lower than 12100. (Set TF_CPP_MIN_LOG_LEVEL=0 and rerun for more info.)\n"
     ]
    }
   ],
   "source": [
    "scvi.model.SCVI.setup_anndata(adata, \n",
    "                              **setup_kwargs)"
   ]
  },
  {
   "cell_type": "code",
   "execution_count": 13,
   "id": "1a56f448-cf44-47c1-81a4-a89caa930fec",
   "metadata": {
    "execution": {
     "iopub.execute_input": "2024-10-21T09:35:42.891068Z",
     "iopub.status.busy": "2024-10-21T09:35:42.890797Z",
     "iopub.status.idle": "2024-10-21T09:35:42.984029Z",
     "shell.execute_reply": "2024-10-21T09:35:42.983085Z"
    },
    "papermill": {
     "duration": 0.106977,
     "end_time": "2024-10-21T09:35:42.987715",
     "exception": false,
     "start_time": "2024-10-21T09:35:42.880738",
     "status": "completed"
    },
    "tags": []
   },
   "outputs": [],
   "source": [
    "model = scvi.model.SCVI(adata, **scvi_kwargs)"
   ]
  },
  {
   "cell_type": "code",
   "execution_count": 14,
   "id": "2735f010-4f24-4ae8-9740-a8cfeb335e9a",
   "metadata": {
    "execution": {
     "iopub.execute_input": "2024-10-21T09:35:43.011757Z",
     "iopub.status.busy": "2024-10-21T09:35:43.011460Z",
     "iopub.status.idle": "2024-10-21T09:37:54.123940Z",
     "shell.execute_reply": "2024-10-21T09:37:54.123108Z"
    },
    "papermill": {
     "duration": 131.126874,
     "end_time": "2024-10-21T09:37:54.126674",
     "exception": false,
     "start_time": "2024-10-21T09:35:42.999800",
     "status": "completed"
    },
    "tags": []
   },
   "outputs": [
    {
     "name": "stderr",
     "output_type": "stream",
     "text": [
      "GPU available: True (cuda), used: True\n"
     ]
    },
    {
     "name": "stderr",
     "output_type": "stream",
     "text": [
      "TPU available: False, using: 0 TPU cores\n"
     ]
    },
    {
     "name": "stderr",
     "output_type": "stream",
     "text": [
      "IPU available: False, using: 0 IPUs\n"
     ]
    },
    {
     "name": "stderr",
     "output_type": "stream",
     "text": [
      "HPU available: False, using: 0 HPUs\n"
     ]
    },
    {
     "name": "stderr",
     "output_type": "stream",
     "text": [
      "\u001b[34m\u001b[1mwandb\u001b[0m: Currently logged in as: \u001b[33mdav1989\u001b[0m (\u001b[33minflammation\u001b[0m). Use \u001b[1m`wandb login --relogin`\u001b[0m to force relogin\n"
     ]
    },
    {
     "name": "stderr",
     "output_type": "stream",
     "text": [
      "\u001b[34m\u001b[1mwandb\u001b[0m: wandb version 0.18.5 is available!  To upgrade, please run:\n",
      "\u001b[34m\u001b[1mwandb\u001b[0m:  $ pip install wandb --upgrade\n"
     ]
    },
    {
     "name": "stderr",
     "output_type": "stream",
     "text": [
      "\u001b[34m\u001b[1mwandb\u001b[0m: Tracking run with wandb version 0.16.5\n"
     ]
    },
    {
     "name": "stderr",
     "output_type": "stream",
     "text": [
      "\u001b[34m\u001b[1mwandb\u001b[0m: Run data is saved locally in \u001b[35m\u001b[1m./wandb/run-20241021_093545-i50ylmh3\u001b[0m\n",
      "\u001b[34m\u001b[1mwandb\u001b[0m: Run \u001b[1m`wandb offline`\u001b[0m to turn off syncing.\n"
     ]
    },
    {
     "name": "stderr",
     "output_type": "stream",
     "text": [
      "\u001b[34m\u001b[1mwandb\u001b[0m: Syncing run \u001b[33mStep2_NK\u001b[0m\n"
     ]
    },
    {
     "name": "stderr",
     "output_type": "stream",
     "text": [
      "\u001b[34m\u001b[1mwandb\u001b[0m: ⭐️ View project at \u001b[34m\u001b[4mhttps://wandb.ai/inflammation/inflammation_atlas_R1\u001b[0m\n"
     ]
    },
    {
     "name": "stderr",
     "output_type": "stream",
     "text": [
      "\u001b[34m\u001b[1mwandb\u001b[0m: 🚀 View run at \u001b[34m\u001b[4mhttps://wandb.ai/inflammation/inflammation_atlas_R1/runs/i50ylmh3/workspace\u001b[0m\n"
     ]
    },
    {
     "name": "stderr",
     "output_type": "stream",
     "text": [
      "LOCAL_RANK: 0 - CUDA_VISIBLE_DEVICES: [0]\n"
     ]
    },
    {
     "name": "stdout",
     "output_type": "stream",
     "text": [
      "\r",
      "Training:   0%|          | 0/1000 [00:00<?, ?it/s]"
     ]
    },
    {
     "name": "stdout",
     "output_type": "stream",
     "text": [
      "\r",
      "Epoch 1/1000:   0%|          | 0/1000 [00:00<?, ?it/s]"
     ]
    },
    {
     "name": "stdout",
     "output_type": "stream",
     "text": [
      "\r",
      "Epoch 1/1000:   0%|          | 1/1000 [00:05<1:25:59,  5.16s/it]"
     ]
    },
    {
     "name": "stdout",
     "output_type": "stream",
     "text": [
      "\r",
      "Epoch 1/1000:   0%|          | 1/1000 [00:05<1:25:59,  5.16s/it, v_num=lmh3, train_loss_step=715, train_loss_epoch=744]"
     ]
    },
    {
     "name": "stdout",
     "output_type": "stream",
     "text": [
      "\r",
      "Epoch 2/1000:   0%|          | 1/1000 [00:05<1:25:59,  5.16s/it, v_num=lmh3, train_loss_step=715, train_loss_epoch=744]"
     ]
    },
    {
     "name": "stdout",
     "output_type": "stream",
     "text": [
      "\r",
      "Epoch 2/1000:   0%|          | 2/1000 [00:09<1:13:25,  4.41s/it, v_num=lmh3, train_loss_step=715, train_loss_epoch=744]"
     ]
    },
    {
     "name": "stdout",
     "output_type": "stream",
     "text": [
      "\r",
      "Epoch 2/1000:   0%|          | 2/1000 [00:09<1:13:25,  4.41s/it, v_num=lmh3, train_loss_step=720, train_loss_epoch=723]"
     ]
    },
    {
     "name": "stdout",
     "output_type": "stream",
     "text": [
      "\r",
      "Epoch 3/1000:   0%|          | 2/1000 [00:09<1:13:25,  4.41s/it, v_num=lmh3, train_loss_step=720, train_loss_epoch=723]"
     ]
    },
    {
     "name": "stdout",
     "output_type": "stream",
     "text": [
      "\r",
      "Epoch 3/1000:   0%|          | 3/1000 [00:12<1:09:17,  4.17s/it, v_num=lmh3, train_loss_step=720, train_loss_epoch=723]"
     ]
    },
    {
     "name": "stdout",
     "output_type": "stream",
     "text": [
      "\r",
      "Epoch 3/1000:   0%|          | 3/1000 [00:12<1:09:17,  4.17s/it, v_num=lmh3, train_loss_step=701, train_loss_epoch=717]"
     ]
    },
    {
     "name": "stdout",
     "output_type": "stream",
     "text": [
      "\r",
      "Epoch 4/1000:   0%|          | 3/1000 [00:12<1:09:17,  4.17s/it, v_num=lmh3, train_loss_step=701, train_loss_epoch=717]"
     ]
    },
    {
     "name": "stdout",
     "output_type": "stream",
     "text": [
      "\r",
      "Epoch 4/1000:   0%|          | 4/1000 [00:16<1:07:24,  4.06s/it, v_num=lmh3, train_loss_step=701, train_loss_epoch=717]"
     ]
    },
    {
     "name": "stdout",
     "output_type": "stream",
     "text": [
      "\r",
      "Epoch 4/1000:   0%|          | 4/1000 [00:16<1:07:24,  4.06s/it, v_num=lmh3, train_loss_step=746, train_loss_epoch=713]"
     ]
    },
    {
     "name": "stdout",
     "output_type": "stream",
     "text": [
      "\r",
      "Epoch 5/1000:   0%|          | 4/1000 [00:16<1:07:24,  4.06s/it, v_num=lmh3, train_loss_step=746, train_loss_epoch=713]"
     ]
    },
    {
     "name": "stdout",
     "output_type": "stream",
     "text": [
      "\r",
      "Epoch 5/1000:   0%|          | 5/1000 [00:20<1:06:16,  4.00s/it, v_num=lmh3, train_loss_step=746, train_loss_epoch=713]"
     ]
    },
    {
     "name": "stdout",
     "output_type": "stream",
     "text": [
      "\r",
      "Epoch 5/1000:   0%|          | 5/1000 [00:20<1:06:16,  4.00s/it, v_num=lmh3, train_loss_step=687, train_loss_epoch=710]"
     ]
    },
    {
     "name": "stdout",
     "output_type": "stream",
     "text": [
      "\r",
      "Epoch 6/1000:   0%|          | 5/1000 [00:20<1:06:16,  4.00s/it, v_num=lmh3, train_loss_step=687, train_loss_epoch=710]"
     ]
    },
    {
     "name": "stdout",
     "output_type": "stream",
     "text": [
      "\r",
      "Epoch 6/1000:   1%|          | 6/1000 [00:24<1:05:31,  3.96s/it, v_num=lmh3, train_loss_step=687, train_loss_epoch=710]"
     ]
    },
    {
     "name": "stdout",
     "output_type": "stream",
     "text": [
      "\r",
      "Epoch 6/1000:   1%|          | 6/1000 [00:24<1:05:31,  3.96s/it, v_num=lmh3, train_loss_step=702, train_loss_epoch=708]"
     ]
    },
    {
     "name": "stdout",
     "output_type": "stream",
     "text": [
      "\r",
      "Epoch 7/1000:   1%|          | 6/1000 [00:24<1:05:31,  3.96s/it, v_num=lmh3, train_loss_step=702, train_loss_epoch=708]"
     ]
    },
    {
     "name": "stdout",
     "output_type": "stream",
     "text": [
      "\r",
      "Epoch 7/1000:   1%|          | 7/1000 [00:28<1:05:02,  3.93s/it, v_num=lmh3, train_loss_step=702, train_loss_epoch=708]"
     ]
    },
    {
     "name": "stdout",
     "output_type": "stream",
     "text": [
      "\r",
      "Epoch 7/1000:   1%|          | 7/1000 [00:28<1:05:02,  3.93s/it, v_num=lmh3, train_loss_step=716, train_loss_epoch=706]"
     ]
    },
    {
     "name": "stdout",
     "output_type": "stream",
     "text": [
      "\r",
      "Epoch 8/1000:   1%|          | 7/1000 [00:28<1:05:02,  3.93s/it, v_num=lmh3, train_loss_step=716, train_loss_epoch=706]"
     ]
    },
    {
     "name": "stdout",
     "output_type": "stream",
     "text": [
      "\r",
      "Epoch 8/1000:   1%|          | 8/1000 [00:32<1:06:32,  4.02s/it, v_num=lmh3, train_loss_step=716, train_loss_epoch=706]"
     ]
    },
    {
     "name": "stdout",
     "output_type": "stream",
     "text": [
      "\r",
      "Epoch 8/1000:   1%|          | 8/1000 [00:32<1:06:32,  4.02s/it, v_num=lmh3, train_loss_step=707, train_loss_epoch=705]"
     ]
    },
    {
     "name": "stdout",
     "output_type": "stream",
     "text": [
      "\r",
      "Epoch 9/1000:   1%|          | 8/1000 [00:32<1:06:32,  4.02s/it, v_num=lmh3, train_loss_step=707, train_loss_epoch=705]"
     ]
    },
    {
     "name": "stdout",
     "output_type": "stream",
     "text": [
      "\r",
      "Epoch 9/1000:   1%|          | 9/1000 [00:36<1:05:44,  3.98s/it, v_num=lmh3, train_loss_step=707, train_loss_epoch=705]"
     ]
    },
    {
     "name": "stdout",
     "output_type": "stream",
     "text": [
      "\r",
      "Epoch 9/1000:   1%|          | 9/1000 [00:36<1:05:44,  3.98s/it, v_num=lmh3, train_loss_step=721, train_loss_epoch=703]"
     ]
    },
    {
     "name": "stdout",
     "output_type": "stream",
     "text": [
      "\r",
      "Epoch 10/1000:   1%|          | 9/1000 [00:36<1:05:44,  3.98s/it, v_num=lmh3, train_loss_step=721, train_loss_epoch=703]"
     ]
    },
    {
     "name": "stdout",
     "output_type": "stream",
     "text": [
      "\r",
      "Epoch 10/1000:   1%|          | 10/1000 [00:40<1:05:09,  3.95s/it, v_num=lmh3, train_loss_step=721, train_loss_epoch=703]"
     ]
    },
    {
     "name": "stdout",
     "output_type": "stream",
     "text": [
      "\r",
      "Epoch 10/1000:   1%|          | 10/1000 [00:40<1:05:09,  3.95s/it, v_num=lmh3, train_loss_step=702, train_loss_epoch=702]"
     ]
    },
    {
     "name": "stdout",
     "output_type": "stream",
     "text": [
      "\r",
      "Epoch 11/1000:   1%|          | 10/1000 [00:40<1:05:09,  3.95s/it, v_num=lmh3, train_loss_step=702, train_loss_epoch=702]"
     ]
    },
    {
     "name": "stdout",
     "output_type": "stream",
     "text": [
      "\r",
      "Epoch 11/1000:   1%|          | 11/1000 [00:44<1:04:43,  3.93s/it, v_num=lmh3, train_loss_step=702, train_loss_epoch=702]"
     ]
    },
    {
     "name": "stdout",
     "output_type": "stream",
     "text": [
      "\r",
      "Epoch 11/1000:   1%|          | 11/1000 [00:44<1:04:43,  3.93s/it, v_num=lmh3, train_loss_step=678, train_loss_epoch=701]"
     ]
    },
    {
     "name": "stdout",
     "output_type": "stream",
     "text": [
      "\r",
      "Epoch 12/1000:   1%|          | 11/1000 [00:44<1:04:43,  3.93s/it, v_num=lmh3, train_loss_step=678, train_loss_epoch=701]"
     ]
    },
    {
     "name": "stdout",
     "output_type": "stream",
     "text": [
      "\r",
      "Epoch 12/1000:   1%|          | 12/1000 [00:48<1:04:25,  3.91s/it, v_num=lmh3, train_loss_step=678, train_loss_epoch=701]"
     ]
    },
    {
     "name": "stdout",
     "output_type": "stream",
     "text": [
      "\r",
      "Epoch 12/1000:   1%|          | 12/1000 [00:48<1:04:25,  3.91s/it, v_num=lmh3, train_loss_step=729, train_loss_epoch=700]"
     ]
    },
    {
     "name": "stdout",
     "output_type": "stream",
     "text": [
      "\r",
      "Epoch 13/1000:   1%|          | 12/1000 [00:48<1:04:25,  3.91s/it, v_num=lmh3, train_loss_step=729, train_loss_epoch=700]"
     ]
    },
    {
     "name": "stdout",
     "output_type": "stream",
     "text": [
      "\r",
      "Epoch 13/1000:   1%|▏         | 13/1000 [00:52<1:04:12,  3.90s/it, v_num=lmh3, train_loss_step=729, train_loss_epoch=700]"
     ]
    },
    {
     "name": "stdout",
     "output_type": "stream",
     "text": [
      "\r",
      "Epoch 13/1000:   1%|▏         | 13/1000 [00:52<1:04:12,  3.90s/it, v_num=lmh3, train_loss_step=709, train_loss_epoch=700]"
     ]
    },
    {
     "name": "stdout",
     "output_type": "stream",
     "text": [
      "\r",
      "Epoch 14/1000:   1%|▏         | 13/1000 [00:52<1:04:12,  3.90s/it, v_num=lmh3, train_loss_step=709, train_loss_epoch=700]"
     ]
    },
    {
     "name": "stdout",
     "output_type": "stream",
     "text": [
      "\r",
      "Epoch 14/1000:   1%|▏         | 14/1000 [00:55<1:04:01,  3.90s/it, v_num=lmh3, train_loss_step=709, train_loss_epoch=700]"
     ]
    },
    {
     "name": "stdout",
     "output_type": "stream",
     "text": [
      "\r",
      "Epoch 14/1000:   1%|▏         | 14/1000 [00:55<1:04:01,  3.90s/it, v_num=lmh3, train_loss_step=681, train_loss_epoch=699]"
     ]
    },
    {
     "name": "stdout",
     "output_type": "stream",
     "text": [
      "\r",
      "Epoch 15/1000:   1%|▏         | 14/1000 [00:55<1:04:01,  3.90s/it, v_num=lmh3, train_loss_step=681, train_loss_epoch=699]"
     ]
    },
    {
     "name": "stdout",
     "output_type": "stream",
     "text": [
      "\r",
      "Epoch 15/1000:   2%|▏         | 15/1000 [01:02<1:16:01,  4.63s/it, v_num=lmh3, train_loss_step=681, train_loss_epoch=699]"
     ]
    },
    {
     "name": "stdout",
     "output_type": "stream",
     "text": [
      "\r",
      "Epoch 15/1000:   2%|▏         | 15/1000 [01:02<1:16:01,  4.63s/it, v_num=lmh3, train_loss_step=669, train_loss_epoch=698]"
     ]
    },
    {
     "name": "stdout",
     "output_type": "stream",
     "text": [
      "\r",
      "Epoch 16/1000:   2%|▏         | 15/1000 [01:02<1:16:01,  4.63s/it, v_num=lmh3, train_loss_step=669, train_loss_epoch=698]"
     ]
    },
    {
     "name": "stdout",
     "output_type": "stream",
     "text": [
      "\r",
      "Epoch 16/1000:   2%|▏         | 16/1000 [01:09<1:26:47,  5.29s/it, v_num=lmh3, train_loss_step=669, train_loss_epoch=698]"
     ]
    },
    {
     "name": "stdout",
     "output_type": "stream",
     "text": [
      "\r",
      "Epoch 16/1000:   2%|▏         | 16/1000 [01:09<1:26:47,  5.29s/it, v_num=lmh3, train_loss_step=712, train_loss_epoch=698]"
     ]
    },
    {
     "name": "stdout",
     "output_type": "stream",
     "text": [
      "\r",
      "Epoch 17/1000:   2%|▏         | 16/1000 [01:09<1:26:47,  5.29s/it, v_num=lmh3, train_loss_step=712, train_loss_epoch=698]"
     ]
    },
    {
     "name": "stdout",
     "output_type": "stream",
     "text": [
      "\r",
      "Epoch 17/1000:   2%|▏         | 17/1000 [01:15<1:33:41,  5.72s/it, v_num=lmh3, train_loss_step=712, train_loss_epoch=698]"
     ]
    },
    {
     "name": "stdout",
     "output_type": "stream",
     "text": [
      "\r",
      "Epoch 17/1000:   2%|▏         | 17/1000 [01:15<1:33:41,  5.72s/it, v_num=lmh3, train_loss_step=696, train_loss_epoch=697]"
     ]
    },
    {
     "name": "stdout",
     "output_type": "stream",
     "text": [
      "\r",
      "Epoch 18/1000:   2%|▏         | 17/1000 [01:15<1:33:41,  5.72s/it, v_num=lmh3, train_loss_step=696, train_loss_epoch=697]"
     ]
    },
    {
     "name": "stdout",
     "output_type": "stream",
     "text": [
      "\r",
      "Epoch 18/1000:   2%|▏         | 18/1000 [01:23<1:42:49,  6.28s/it, v_num=lmh3, train_loss_step=696, train_loss_epoch=697]"
     ]
    },
    {
     "name": "stdout",
     "output_type": "stream",
     "text": [
      "\r",
      "Epoch 18/1000:   2%|▏         | 18/1000 [01:23<1:42:49,  6.28s/it, v_num=lmh3, train_loss_step=710, train_loss_epoch=697]"
     ]
    },
    {
     "name": "stdout",
     "output_type": "stream",
     "text": [
      "\r",
      "Epoch 19/1000:   2%|▏         | 18/1000 [01:23<1:42:49,  6.28s/it, v_num=lmh3, train_loss_step=710, train_loss_epoch=697]"
     ]
    },
    {
     "name": "stdout",
     "output_type": "stream",
     "text": [
      "\r",
      "Epoch 19/1000:   2%|▏         | 19/1000 [01:30<1:44:42,  6.40s/it, v_num=lmh3, train_loss_step=710, train_loss_epoch=697]"
     ]
    },
    {
     "name": "stdout",
     "output_type": "stream",
     "text": [
      "\r",
      "Epoch 19/1000:   2%|▏         | 19/1000 [01:30<1:44:42,  6.40s/it, v_num=lmh3, train_loss_step=689, train_loss_epoch=697]"
     ]
    },
    {
     "name": "stdout",
     "output_type": "stream",
     "text": [
      "\r",
      "Epoch 20/1000:   2%|▏         | 19/1000 [01:30<1:44:42,  6.40s/it, v_num=lmh3, train_loss_step=689, train_loss_epoch=697]"
     ]
    },
    {
     "name": "stdout",
     "output_type": "stream",
     "text": [
      "\r",
      "Epoch 20/1000:   2%|▏         | 20/1000 [01:36<1:46:07,  6.50s/it, v_num=lmh3, train_loss_step=689, train_loss_epoch=697]"
     ]
    },
    {
     "name": "stdout",
     "output_type": "stream",
     "text": [
      "\r",
      "Epoch 20/1000:   2%|▏         | 20/1000 [01:36<1:46:07,  6.50s/it, v_num=lmh3, train_loss_step=715, train_loss_epoch=696]"
     ]
    },
    {
     "name": "stdout",
     "output_type": "stream",
     "text": [
      "\r",
      "Epoch 21/1000:   2%|▏         | 20/1000 [01:36<1:46:07,  6.50s/it, v_num=lmh3, train_loss_step=715, train_loss_epoch=696]"
     ]
    },
    {
     "name": "stdout",
     "output_type": "stream",
     "text": [
      "\r",
      "Epoch 21/1000:   2%|▏         | 21/1000 [01:43<1:47:28,  6.59s/it, v_num=lmh3, train_loss_step=715, train_loss_epoch=696]"
     ]
    },
    {
     "name": "stdout",
     "output_type": "stream",
     "text": [
      "\r",
      "Epoch 21/1000:   2%|▏         | 21/1000 [01:43<1:47:28,  6.59s/it, v_num=lmh3, train_loss_step=671, train_loss_epoch=696]"
     ]
    },
    {
     "name": "stdout",
     "output_type": "stream",
     "text": [
      "\r",
      "Epoch 22/1000:   2%|▏         | 21/1000 [01:43<1:47:28,  6.59s/it, v_num=lmh3, train_loss_step=671, train_loss_epoch=696]"
     ]
    },
    {
     "name": "stdout",
     "output_type": "stream",
     "text": [
      "\r",
      "Epoch 22/1000:   2%|▏         | 22/1000 [01:50<1:48:25,  6.65s/it, v_num=lmh3, train_loss_step=671, train_loss_epoch=696]"
     ]
    },
    {
     "name": "stdout",
     "output_type": "stream",
     "text": [
      "\r",
      "Epoch 22/1000:   2%|▏         | 22/1000 [01:50<1:48:25,  6.65s/it, v_num=lmh3, train_loss_step=689, train_loss_epoch=696]"
     ]
    },
    {
     "name": "stdout",
     "output_type": "stream",
     "text": [
      "\r",
      "Epoch 23/1000:   2%|▏         | 22/1000 [01:50<1:48:25,  6.65s/it, v_num=lmh3, train_loss_step=689, train_loss_epoch=696]"
     ]
    },
    {
     "name": "stdout",
     "output_type": "stream",
     "text": [
      "\r",
      "Epoch 23/1000:   2%|▏         | 23/1000 [01:57<1:48:31,  6.66s/it, v_num=lmh3, train_loss_step=689, train_loss_epoch=696]"
     ]
    },
    {
     "name": "stdout",
     "output_type": "stream",
     "text": [
      "\r",
      "Epoch 23/1000:   2%|▏         | 23/1000 [01:57<1:48:31,  6.66s/it, v_num=lmh3, train_loss_step=655, train_loss_epoch=695]"
     ]
    },
    {
     "name": "stdout",
     "output_type": "stream",
     "text": [
      "\r",
      "Epoch 24/1000:   2%|▏         | 23/1000 [01:57<1:48:31,  6.66s/it, v_num=lmh3, train_loss_step=655, train_loss_epoch=695]"
     ]
    },
    {
     "name": "stdout",
     "output_type": "stream",
     "text": [
      "\r",
      "Epoch 24/1000:   2%|▏         | 24/1000 [02:03<1:47:37,  6.62s/it, v_num=lmh3, train_loss_step=655, train_loss_epoch=695]"
     ]
    },
    {
     "name": "stdout",
     "output_type": "stream",
     "text": [
      "\r",
      "Epoch 24/1000:   2%|▏         | 24/1000 [02:03<1:47:37,  6.62s/it, v_num=lmh3, train_loss_step=722, train_loss_epoch=695]"
     ]
    },
    {
     "name": "stdout",
     "output_type": "stream",
     "text": [
      "\r",
      "Epoch 24/1000:   2%|▏         | 24/1000 [02:03<1:23:48,  5.15s/it, v_num=lmh3, train_loss_step=722, train_loss_epoch=695]"
     ]
    },
    {
     "name": "stdout",
     "output_type": "stream",
     "text": [
      "\n",
      "Monitored metric reconstruction_loss_validation did not improve in the last 10 records. Best score: 708.546. Signaling Trainer to stop.\n"
     ]
    }
   ],
   "source": [
    "model.train(logger=logger, plan_kwargs = plan_kwargs, **trainer_kwargs)"
   ]
  },
  {
   "cell_type": "code",
   "execution_count": 15,
   "id": "c282f6eb-0ad1-40a5-81e6-1acda1545dad",
   "metadata": {
    "execution": {
     "iopub.execute_input": "2024-10-21T09:37:54.157691Z",
     "iopub.status.busy": "2024-10-21T09:37:54.157428Z",
     "iopub.status.idle": "2024-10-21T09:37:59.941940Z",
     "shell.execute_reply": "2024-10-21T09:37:59.940492Z"
    },
    "papermill": {
     "duration": 5.803368,
     "end_time": "2024-10-21T09:37:59.945464",
     "exception": false,
     "start_time": "2024-10-21T09:37:54.142096",
     "status": "completed"
    },
    "tags": []
   },
   "outputs": [
    {
     "name": "stderr",
     "output_type": "stream",
     "text": [
      "\u001b[34m\u001b[1mwandb\u001b[0m: - 0.005 MB of 0.005 MB uploaded\r"
     ]
    },
    {
     "name": "stderr",
     "output_type": "stream",
     "text": [
      "\u001b[34m\u001b[1mwandb\u001b[0m: \\ 0.005 MB of 0.024 MB uploaded\r"
     ]
    },
    {
     "name": "stderr",
     "output_type": "stream",
     "text": [
      "\u001b[34m\u001b[1mwandb\u001b[0m: | 0.005 MB of 0.024 MB uploaded\r"
     ]
    },
    {
     "name": "stderr",
     "output_type": "stream",
     "text": [
      "\u001b[34m\u001b[1mwandb\u001b[0m: / 0.025 MB of 0.025 MB uploaded\r"
     ]
    },
    {
     "name": "stderr",
     "output_type": "stream",
     "text": [
      "\u001b[34m\u001b[1mwandb\u001b[0m:                                                                                \n"
     ]
    },
    {
     "name": "stderr",
     "output_type": "stream",
     "text": [
      "\u001b[34m\u001b[1mwandb\u001b[0m: \n",
      "\u001b[34m\u001b[1mwandb\u001b[0m: Run history:\n",
      "\u001b[34m\u001b[1mwandb\u001b[0m:                     elbo_train █▇▆▅▄▄▃▃▃▂▂▂▂▂▂▂▁▁▁▁▁▁▁▁\n",
      "\u001b[34m\u001b[1mwandb\u001b[0m:                elbo_validation █▇▅▄▃▃▂▂▂▂▁▂▁▁▁▁▁▁▁▁▁▁▁▁\n",
      "\u001b[34m\u001b[1mwandb\u001b[0m:                          epoch ▁▁▁▂▂▂▂▂▂▃▃▃▃▃▃▄▄▄▄▄▅▅▅▅▅▆▆▆▆▆▆▆▇▇▇▇▇███\n",
      "\u001b[34m\u001b[1mwandb\u001b[0m:                kl_global_train ▁▁▁▁▁▁▁▁▁▁▁▁▁▁▁▁▁▁▁▁▁▁▁▁\n",
      "\u001b[34m\u001b[1mwandb\u001b[0m:           kl_global_validation ▁▁▁▁▁▁▁▁▁▁▁▁▁▁▁▁▁▁▁▁▁▁▁▁\n",
      "\u001b[34m\u001b[1mwandb\u001b[0m:                 kl_local_train ▄█▇▆▄▄▃▃▃▂▂▂▂▂▂▂▂▁▁▁▁▁▁▁\n",
      "\u001b[34m\u001b[1mwandb\u001b[0m:            kl_local_validation ██▆▅▄▄▃▃▃▂▂▂▂▂▂▂▂▂▂▁▁▁▁▁\n",
      "\u001b[34m\u001b[1mwandb\u001b[0m:                      kl_weight ▁▁▁▂▂▂▂▂▃▃▃▃▃▃▃▄▄▄▄▄▅▅▅▅▅▆▆▆▆▆▆▇▇▇▇▇████\n",
      "\u001b[34m\u001b[1mwandb\u001b[0m:      reconstruction_loss_train █▅▄▄▃▃▃▂▂▂▂▂▂▂▂▁▁▁▁▁▁▁▁▁\n",
      "\u001b[34m\u001b[1mwandb\u001b[0m: reconstruction_loss_validation █▆▄▄▃▂▂▂▁▁▁▁▁▁▁▁▁▁▁▁▁▁▁▁\n",
      "\u001b[34m\u001b[1mwandb\u001b[0m:               train_loss_epoch █▅▄▄▃▃▃▂▂▂▂▂▂▂▁▁▁▁▁▁▁▁▁▁\n",
      "\u001b[34m\u001b[1mwandb\u001b[0m:                train_loss_step ▆▇█▇█▇▆▅▃▇▄▅▄▄▄▇▇▄▄▄▃▅▅▄▆▆▆▅▄▁▅▅▆▃▅▅▅▄▄▃\n",
      "\u001b[34m\u001b[1mwandb\u001b[0m:            trainer/global_step ▁▁▁▂▂▂▂▂▂▃▃▃▃▃▄▄▄▄▄▄▅▅▅▅▅▅▆▆▆▆▆▇▇▇▇▇▇███\n",
      "\u001b[34m\u001b[1mwandb\u001b[0m:                validation_loss █▆▄▃▃▂▂▂▁▁▁▁▁▁▁▁▁▁▁▁▁▂▂▂\n",
      "\u001b[34m\u001b[1mwandb\u001b[0m: \n",
      "\u001b[34m\u001b[1mwandb\u001b[0m: Run summary:\n",
      "\u001b[34m\u001b[1mwandb\u001b[0m:                     elbo_train 720.14978\n",
      "\u001b[34m\u001b[1mwandb\u001b[0m:                elbo_validation 734.95337\n",
      "\u001b[34m\u001b[1mwandb\u001b[0m:                          epoch 23\n",
      "\u001b[34m\u001b[1mwandb\u001b[0m:                kl_global_train 0.0\n",
      "\u001b[34m\u001b[1mwandb\u001b[0m:           kl_global_validation 0.0\n",
      "\u001b[34m\u001b[1mwandb\u001b[0m:                 kl_local_train 26.47838\n",
      "\u001b[34m\u001b[1mwandb\u001b[0m:            kl_local_validation 25.00667\n",
      "\u001b[34m\u001b[1mwandb\u001b[0m:                      kl_weight 0.0575\n",
      "\u001b[34m\u001b[1mwandb\u001b[0m:      reconstruction_loss_train 693.67139\n",
      "\u001b[34m\u001b[1mwandb\u001b[0m: reconstruction_loss_validation 709.94672\n",
      "\u001b[34m\u001b[1mwandb\u001b[0m:               train_loss_epoch 695.1936\n",
      "\u001b[34m\u001b[1mwandb\u001b[0m:                train_loss_step 721.83936\n",
      "\u001b[34m\u001b[1mwandb\u001b[0m:            trainer/global_step 12719\n",
      "\u001b[34m\u001b[1mwandb\u001b[0m:                validation_loss 711.38495\n",
      "\u001b[34m\u001b[1mwandb\u001b[0m: \n"
     ]
    },
    {
     "name": "stderr",
     "output_type": "stream",
     "text": [
      "\u001b[34m\u001b[1mwandb\u001b[0m: 🚀 View run \u001b[33mStep2_NK\u001b[0m at: \u001b[34m\u001b[4mhttps://wandb.ai/inflammation/inflammation_atlas_R1/runs/i50ylmh3/workspace\u001b[0m\n",
      "\u001b[34m\u001b[1mwandb\u001b[0m: Synced 6 W&B file(s), 0 media file(s), 0 artifact file(s) and 0 other file(s)\n"
     ]
    },
    {
     "name": "stderr",
     "output_type": "stream",
     "text": [
      "\u001b[34m\u001b[1mwandb\u001b[0m: Find logs at: \u001b[35m\u001b[1m./wandb/run-20241021_093545-i50ylmh3/logs\u001b[0m\n"
     ]
    }
   ],
   "source": [
    "wandb.finish()"
   ]
  },
  {
   "cell_type": "markdown",
   "id": "d9fb1179-83c7-4ac6-b4aa-92dc7a349801",
   "metadata": {
    "papermill": {
     "duration": 0.015258,
     "end_time": "2024-10-21T09:37:59.984146",
     "exception": false,
     "start_time": "2024-10-21T09:37:59.968888",
     "status": "completed"
    },
    "tags": []
   },
   "source": [
    "### Extracting embedding space"
   ]
  },
  {
   "cell_type": "code",
   "execution_count": 16,
   "id": "caaa5832-0123-4c59-8ec6-f46a75f7a14e",
   "metadata": {
    "execution": {
     "iopub.execute_input": "2024-10-21T09:38:00.007574Z",
     "iopub.status.busy": "2024-10-21T09:38:00.006425Z",
     "iopub.status.idle": "2024-10-21T09:38:01.552740Z",
     "shell.execute_reply": "2024-10-21T09:38:01.551435Z"
    },
    "papermill": {
     "duration": 1.560851,
     "end_time": "2024-10-21T09:38:01.555997",
     "exception": false,
     "start_time": "2024-10-21T09:37:59.995146",
     "status": "completed"
    },
    "tags": []
   },
   "outputs": [],
   "source": [
    "adata.obsm['X_scVI'] = model.get_latent_representation()"
   ]
  },
  {
   "cell_type": "markdown",
   "id": "2f03e70b-839c-40a6-9fbb-d76bbd787419",
   "metadata": {
    "papermill": {
     "duration": 0.009462,
     "end_time": "2024-10-21T09:38:01.587154",
     "exception": false,
     "start_time": "2024-10-21T09:38:01.577692",
     "status": "completed"
    },
    "tags": []
   },
   "source": [
    "## Save the results"
   ]
  },
  {
   "cell_type": "code",
   "execution_count": 17,
   "id": "7b04049b-47fd-4b62-a1c0-c43dcc086d34",
   "metadata": {
    "execution": {
     "iopub.execute_input": "2024-10-21T09:38:01.618145Z",
     "iopub.status.busy": "2024-10-21T09:38:01.617641Z",
     "iopub.status.idle": "2024-10-21T09:38:07.774177Z",
     "shell.execute_reply": "2024-10-21T09:38:07.772659Z"
    },
    "papermill": {
     "duration": 6.180844,
     "end_time": "2024-10-21T09:38:07.777903",
     "exception": false,
     "start_time": "2024-10-21T09:38:01.597059",
     "status": "completed"
    },
    "tags": []
   },
   "outputs": [],
   "source": [
    "if overwriteData:\n",
    "    adata.write(here(f\"{workDir}/{cellGroup}/results/02_{annotationLevel}_{cellGroup}_HVGsubset_scVI.h5ad\"), compression=\"gzip\")\n",
    "    model.save(here(f\"{workDir}/{cellGroup}/results/02_{annotationLevel}_{cellGroup}_HVGsubset_scVI_MODEL/\"),\n",
    "               overwrite = True, \n",
    "               save_anndata = False )   "
   ]
  },
  {
   "cell_type": "code",
   "execution_count": 18,
   "id": "629ba2bd-f6be-44ef-8fca-bbdf891bf25f",
   "metadata": {
    "execution": {
     "iopub.execute_input": "2024-10-21T09:38:07.812189Z",
     "iopub.status.busy": "2024-10-21T09:38:07.811104Z",
     "iopub.status.idle": "2024-10-21T09:38:07.816747Z",
     "shell.execute_reply": "2024-10-21T09:38:07.815631Z"
    },
    "papermill": {
     "duration": 0.021,
     "end_time": "2024-10-21T09:38:07.818208",
     "exception": false,
     "start_time": "2024-10-21T09:38:07.797208",
     "status": "completed"
    },
    "tags": []
   },
   "outputs": [],
   "source": [
    "# To load the model do (after loading corresponding adata):\n",
    "# model = scvi.model.SCVI.load(here('{}/results/01_{}_HVGsubset_scVI_MODEL/'.format(workDir, cellGroup)), \n",
    "#                              adata, \n",
    "#                              use_gpu=True)"
   ]
  },
  {
   "cell_type": "raw",
   "id": "975e84d0-f56b-498d-b3a8-c9219cf22e53",
   "metadata": {
    "papermill": {
     "duration": 0.014912,
     "end_time": "2024-10-21T09:38:07.854865",
     "exception": false,
     "start_time": "2024-10-21T09:38:07.839953",
     "status": "completed"
    },
    "tags": []
   },
   "source": [
    "session_info.show()"
   ]
  }
 ],
 "metadata": {
  "kernelspec": {
   "display_name": "Python 3 (ipykernel)",
   "language": "python",
   "name": "python3"
  },
  "language_info": {
   "codemirror_mode": {
    "name": "ipython",
    "version": 3
   },
   "file_extension": ".py",
   "mimetype": "text/x-python",
   "name": "python",
   "nbconvert_exporter": "python",
   "pygments_lexer": "ipython3",
   "version": "3.9.19"
  },
  "papermill": {
   "default_parameters": {},
   "duration": 157.245624,
   "end_time": "2024-10-21T09:38:11.366944",
   "environment_variables": {},
   "exception": null,
   "input_path": "NK/02_integration_scVI.ipynb",
   "output_path": "NK/02_integration_scVI.executed.ipynb",
   "parameters": {},
   "start_time": "2024-10-21T09:35:34.121320",
   "version": "2.5.0"
  }
 },
 "nbformat": 4,
 "nbformat_minor": 5
}