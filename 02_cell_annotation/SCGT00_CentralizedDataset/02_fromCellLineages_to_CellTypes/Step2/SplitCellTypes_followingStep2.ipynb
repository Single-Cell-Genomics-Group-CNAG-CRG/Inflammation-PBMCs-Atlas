{
 "cells": [
  {
   "cell_type": "code",
   "execution_count": 1,
   "metadata": {
    "execution": {
     "iopub.execute_input": "2024-10-21T14:33:28.753820Z",
     "iopub.status.busy": "2024-10-21T14:33:28.753368Z",
     "iopub.status.idle": "2024-10-21T14:33:29.129724Z",
     "shell.execute_reply": "2024-10-21T14:33:29.129114Z",
     "shell.execute_reply.started": "2024-10-21T14:33:28.753797Z"
    }
   },
   "outputs": [],
   "source": [
    "# General modules\n",
    "import sys\n",
    "import os\n",
    "import session_info\n",
    "import warnings\n",
    "from pyprojroot.here import here\n",
    "import glob\n",
    "import pandas as pd\n",
    "import numpy as np\n",
    "import pickle\n",
    "\n",
    "# Setting some parameters\n",
    "warnings.filterwarnings(\"ignore\")\n",
    "sys.path.insert(1, str(here('bin')))\n",
    "\n",
    "# Import custom functions\n",
    "from customPythonFunctions import generate_split_dir\n",
    "\n",
    "\n",
    "#plt.style.use(['science','nature','no-latex'])\n",
    "dpi_fig_save = 300\n",
    "\n",
    "overwriteFigures = True\n",
    "overwriteData = True"
   ]
  },
  {
   "cell_type": "markdown",
   "metadata": {},
   "source": [
    "**Loading annotation pkl**"
   ]
  },
  {
   "cell_type": "code",
   "execution_count": 2,
   "metadata": {
    "execution": {
     "iopub.execute_input": "2024-10-21T14:33:29.656987Z",
     "iopub.status.busy": "2024-10-21T14:33:29.656736Z",
     "iopub.status.idle": "2024-10-21T14:33:29.659409Z",
     "shell.execute_reply": "2024-10-21T14:33:29.658930Z",
     "shell.execute_reply.started": "2024-10-21T14:33:29.656969Z"
    }
   },
   "outputs": [],
   "source": [
    "step = \"Step2\"\n",
    "next_step = \"Step3\""
   ]
  },
  {
   "cell_type": "code",
   "execution_count": 3,
   "metadata": {
    "execution": {
     "iopub.execute_input": "2024-10-21T14:33:30.137068Z",
     "iopub.status.busy": "2024-10-21T14:33:30.136765Z",
     "iopub.status.idle": "2024-10-21T14:33:30.139463Z",
     "shell.execute_reply": "2024-10-21T14:33:30.139087Z",
     "shell.execute_reply.started": "2024-10-21T14:33:30.137049Z"
    }
   },
   "outputs": [],
   "source": [
    "annotation_col_name = 'annotation_step_2'"
   ]
  },
  {
   "cell_type": "code",
   "execution_count": 12,
   "metadata": {
    "execution": {
     "iopub.execute_input": "2024-10-21T14:35:14.647866Z",
     "iopub.status.busy": "2024-10-21T14:35:14.647565Z",
     "iopub.status.idle": "2024-10-21T14:35:14.654474Z",
     "shell.execute_reply": "2024-10-21T14:35:14.654120Z",
     "shell.execute_reply.started": "2024-10-21T14:35:14.647848Z"
    }
   },
   "outputs": [],
   "source": [
    "file_paths = glob.glob(str(here(f\"02_cell_annotation/SCGT00_CentralizedDataset/02_fromCellLineages_to_CellTypes/{step}/*/results/SCGT00_cluster_res*_annotated.pkl\")))\n",
    "# Load and concatenate all files into a single column DataFrame"
   ]
  },
  {
   "cell_type": "code",
   "execution_count": 13,
   "metadata": {
    "execution": {
     "iopub.execute_input": "2024-10-21T14:35:14.878193Z",
     "iopub.status.busy": "2024-10-21T14:35:14.877788Z",
     "iopub.status.idle": "2024-10-21T14:35:14.985107Z",
     "shell.execute_reply": "2024-10-21T14:35:14.984689Z",
     "shell.execute_reply.started": "2024-10-21T14:35:14.878177Z"
    }
   },
   "outputs": [
    {
     "name": "stdout",
     "output_type": "stream",
     "text": [
      "{'T_CD8_NonNaive', 'LowQuality_cells', 'T_CD4_NonNaive'}\n",
      "{'ILC', 'T_CD8_NonNaive', 'Platelets', 'LowQuality_cells'}\n",
      "{'Doublets_Step2', 'DC'}\n",
      "{'Mono', 'LowQuality_cells'}\n",
      "{'T_CD4_Naive', 'T_CD4_NonNaive', 'Platelets', 'T_CD8_Naive', 'LowQuality_cells'}\n",
      "{'Platelets', 'LowQuality_cells', 'B'}\n"
     ]
    }
   ],
   "source": [
    "for file_path in file_paths: \n",
    "    clusterAnnotDF = pd.read_pickle(file_path)\n",
    "    print(set(clusterAnnotDF[annotation_col_name]))"
   ]
  },
  {
   "cell_type": "code",
   "execution_count": 14,
   "metadata": {
    "execution": {
     "iopub.execute_input": "2024-10-21T14:35:15.116471Z",
     "iopub.status.busy": "2024-10-21T14:35:15.116163Z",
     "iopub.status.idle": "2024-10-21T14:35:15.205845Z",
     "shell.execute_reply": "2024-10-21T14:35:15.205363Z",
     "shell.execute_reply.started": "2024-10-21T14:35:15.116454Z"
    }
   },
   "outputs": [],
   "source": [
    "clusterAnnotDF = pd.concat([pd.read_pickle(file_path) for file_path in file_paths], axis=0)"
   ]
  },
  {
   "cell_type": "code",
   "execution_count": 15,
   "metadata": {
    "execution": {
     "iopub.execute_input": "2024-10-21T14:35:15.813633Z",
     "iopub.status.busy": "2024-10-21T14:35:15.813358Z",
     "iopub.status.idle": "2024-10-21T14:35:15.816432Z",
     "shell.execute_reply": "2024-10-21T14:35:15.816082Z",
     "shell.execute_reply.started": "2024-10-21T14:35:15.813616Z"
    }
   },
   "outputs": [
    {
     "data": {
      "text/plain": [
       "['/scratch_isilon/groups/singlecell/shared/projects/Inflammation-PBMCs-Atlas/02_cell_annotation/SCGT00_CentralizedDataset/02_fromCellLineages_to_CellTypes/Step2/T_NonNaive/results/SCGT00_cluster_res0.5_annotated.pkl',\n",
       " '/scratch_isilon/groups/singlecell/shared/projects/Inflammation-PBMCs-Atlas/02_cell_annotation/SCGT00_CentralizedDataset/02_fromCellLineages_to_CellTypes/Step2/NK/results/SCGT00_cluster_res0.5_annotated.pkl',\n",
       " '/scratch_isilon/groups/singlecell/shared/projects/Inflammation-PBMCs-Atlas/02_cell_annotation/SCGT00_CentralizedDataset/02_fromCellLineages_to_CellTypes/Step2/DC/results/SCGT00_cluster_res0.1_annotated.pkl',\n",
       " '/scratch_isilon/groups/singlecell/shared/projects/Inflammation-PBMCs-Atlas/02_cell_annotation/SCGT00_CentralizedDataset/02_fromCellLineages_to_CellTypes/Step2/Mono/results/SCGT00_cluster_res0.5_annotated.pkl',\n",
       " '/scratch_isilon/groups/singlecell/shared/projects/Inflammation-PBMCs-Atlas/02_cell_annotation/SCGT00_CentralizedDataset/02_fromCellLineages_to_CellTypes/Step2/T_Naive/results/SCGT00_cluster_res0.75_annotated.pkl',\n",
       " '/scratch_isilon/groups/singlecell/shared/projects/Inflammation-PBMCs-Atlas/02_cell_annotation/SCGT00_CentralizedDataset/02_fromCellLineages_to_CellTypes/Step2/B/results/SCGT00_cluster_res0.25_annotated.pkl']"
      ]
     },
     "execution_count": 15,
     "metadata": {},
     "output_type": "execute_result"
    }
   ],
   "source": [
    "file_paths"
   ]
  },
  {
   "cell_type": "code",
   "execution_count": 16,
   "metadata": {
    "execution": {
     "iopub.execute_input": "2024-10-21T14:35:17.077669Z",
     "iopub.status.busy": "2024-10-21T14:35:17.077425Z",
     "iopub.status.idle": "2024-10-21T14:35:17.080844Z",
     "shell.execute_reply": "2024-10-21T14:35:17.080471Z",
     "shell.execute_reply.started": "2024-10-21T14:35:17.077654Z"
    }
   },
   "outputs": [
    {
     "name": "stdout",
     "output_type": "stream",
     "text": [
      "                                       annotation_step_2\n",
      "cellID                                                  \n",
      "SCGT00_L051_I52.3P_T0_AAACCCACAACTGTGT  LowQuality_cells\n",
      "SCGT00_L051_I57.3P_T0_AAACCCAGTCAAAGAT    T_CD4_NonNaive\n",
      "SCGT00_L051_I55.3P_T0_AAACCCATCCCAATAG    T_CD8_NonNaive\n",
      "SCGT00_L051_I52.3P_T0_AAACGAAAGGCTAACG    T_CD4_NonNaive\n",
      "SCGT00_L051_I55.3P_T0_AAACGAAAGGTCCAGA    T_CD8_NonNaive\n"
     ]
    }
   ],
   "source": [
    "print(clusterAnnotDF.head())"
   ]
  },
  {
   "cell_type": "code",
   "execution_count": 17,
   "metadata": {
    "execution": {
     "iopub.execute_input": "2024-10-21T14:35:17.733225Z",
     "iopub.status.busy": "2024-10-21T14:35:17.732954Z",
     "iopub.status.idle": "2024-10-21T14:35:17.787817Z",
     "shell.execute_reply": "2024-10-21T14:35:17.787462Z",
     "shell.execute_reply.started": "2024-10-21T14:35:17.733209Z"
    }
   },
   "outputs": [
    {
     "data": {
      "text/plain": [
       "{'B',\n",
       " 'DC',\n",
       " 'Doublets_Step2',\n",
       " 'ILC',\n",
       " 'LowQuality_cells',\n",
       " 'Mono',\n",
       " 'Platelets',\n",
       " 'T_CD4_Naive',\n",
       " 'T_CD4_NonNaive',\n",
       " 'T_CD8_Naive',\n",
       " 'T_CD8_NonNaive'}"
      ]
     },
     "execution_count": 17,
     "metadata": {},
     "output_type": "execute_result"
    }
   ],
   "source": [
    "set(clusterAnnotDF[annotation_col_name])"
   ]
  },
  {
   "cell_type": "code",
   "execution_count": 18,
   "metadata": {
    "execution": {
     "iopub.execute_input": "2024-10-21T14:35:18.277527Z",
     "iopub.status.busy": "2024-10-21T14:35:18.277162Z",
     "iopub.status.idle": "2024-10-21T14:35:18.280389Z",
     "shell.execute_reply": "2024-10-21T14:35:18.279995Z",
     "shell.execute_reply.started": "2024-10-21T14:35:18.277506Z"
    }
   },
   "outputs": [
    {
     "name": "stdout",
     "output_type": "stream",
     "text": [
      "(790342, 1)\n"
     ]
    }
   ],
   "source": [
    "print(clusterAnnotDF.shape)"
   ]
  },
  {
   "cell_type": "code",
   "execution_count": 19,
   "metadata": {
    "execution": {
     "iopub.execute_input": "2024-10-21T14:35:19.395948Z",
     "iopub.status.busy": "2024-10-21T14:35:19.395751Z",
     "iopub.status.idle": "2024-10-21T14:35:20.113450Z",
     "shell.execute_reply": "2024-10-21T14:35:20.112958Z",
     "shell.execute_reply.started": "2024-10-21T14:35:19.395930Z"
    }
   },
   "outputs": [],
   "source": [
    "clusterAnnotDF.to_pickle(here(f\"02_cell_annotation/SCGT00_CentralizedDataset/02_fromCellLineages_to_CellTypes/{step}/{step}_clusterAnnotDF.pkl\"))"
   ]
  },
  {
   "cell_type": "markdown",
   "metadata": {},
   "source": [
    "**Updating master annotation DF**"
   ]
  },
  {
   "cell_type": "code",
   "execution_count": 20,
   "metadata": {
    "execution": {
     "iopub.execute_input": "2024-10-21T14:35:20.343813Z",
     "iopub.status.busy": "2024-10-21T14:35:20.343616Z",
     "iopub.status.idle": "2024-10-21T14:35:20.439897Z",
     "shell.execute_reply": "2024-10-21T14:35:20.439498Z",
     "shell.execute_reply.started": "2024-10-21T14:35:20.343795Z"
    }
   },
   "outputs": [
    {
     "data": {
      "text/html": [
       "<div>\n",
       "<style scoped>\n",
       "    .dataframe tbody tr th:only-of-type {\n",
       "        vertical-align: middle;\n",
       "    }\n",
       "\n",
       "    .dataframe tbody tr th {\n",
       "        vertical-align: top;\n",
       "    }\n",
       "\n",
       "    .dataframe thead th {\n",
       "        text-align: right;\n",
       "    }\n",
       "</style>\n",
       "<table border=\"1\" class=\"dataframe\">\n",
       "  <thead>\n",
       "    <tr style=\"text-align: right;\">\n",
       "      <th></th>\n",
       "      <th>annotation_step_1</th>\n",
       "    </tr>\n",
       "    <tr>\n",
       "      <th>cellID</th>\n",
       "      <th></th>\n",
       "    </tr>\n",
       "  </thead>\n",
       "  <tbody>\n",
       "    <tr>\n",
       "      <th>SCGT00_L051_I53.3P_T0_AACCAACGTGGGATTG</th>\n",
       "      <td>pDC</td>\n",
       "    </tr>\n",
       "    <tr>\n",
       "      <th>SCGT00_L051_I51.3P_T0_AAGGTAATCTTCCCGA</th>\n",
       "      <td>pDC</td>\n",
       "    </tr>\n",
       "    <tr>\n",
       "      <th>SCGT00_L051_I58.3P_T0_ACCTGAAAGTGCCAGA</th>\n",
       "      <td>pDC</td>\n",
       "    </tr>\n",
       "    <tr>\n",
       "      <th>SCGT00_L051_I51.3P_T0_ACGGGTCTCTTGGTGA</th>\n",
       "      <td>pDC</td>\n",
       "    </tr>\n",
       "    <tr>\n",
       "      <th>SCGT00_L051_I53.3P_T0_ACTATGGAGGCGCTCT</th>\n",
       "      <td>pDC</td>\n",
       "    </tr>\n",
       "  </tbody>\n",
       "</table>\n",
       "</div>"
      ],
      "text/plain": [
       "                                       annotation_step_1\n",
       "cellID                                                  \n",
       "SCGT00_L051_I53.3P_T0_AACCAACGTGGGATTG               pDC\n",
       "SCGT00_L051_I51.3P_T0_AAGGTAATCTTCCCGA               pDC\n",
       "SCGT00_L051_I58.3P_T0_ACCTGAAAGTGCCAGA               pDC\n",
       "SCGT00_L051_I51.3P_T0_ACGGGTCTCTTGGTGA               pDC\n",
       "SCGT00_L051_I53.3P_T0_ACTATGGAGGCGCTCT               pDC"
      ]
     },
     "execution_count": 20,
     "metadata": {},
     "output_type": "execute_result"
    }
   ],
   "source": [
    "master_AnnotDFpath = str(here(\"02_cell_annotation/SCGT00_CentralizedDataset/02_fromCellLineages_to_CellTypes/master_clusterAnnotDF.pkl\"))\n",
    "master_AnnotDF = pd.read_pickle(master_AnnotDFpath)\n",
    "master_AnnotDF.head()"
   ]
  },
  {
   "cell_type": "code",
   "execution_count": 21,
   "metadata": {
    "execution": {
     "iopub.execute_input": "2024-10-21T14:35:21.206247Z",
     "iopub.status.busy": "2024-10-21T14:35:21.205823Z",
     "iopub.status.idle": "2024-10-21T14:35:21.764096Z",
     "shell.execute_reply": "2024-10-21T14:35:21.763648Z",
     "shell.execute_reply.started": "2024-10-21T14:35:21.206226Z"
    }
   },
   "outputs": [],
   "source": [
    "last_column_name = master_AnnotDF.columns[-1]\n",
    "master_AnnotDF[annotation_col_name] = master_AnnotDF[last_column_name]\n",
    "master_AnnotDF[annotation_col_name].update(clusterAnnotDF[annotation_col_name])"
   ]
  },
  {
   "cell_type": "code",
   "execution_count": 22,
   "metadata": {
    "execution": {
     "iopub.execute_input": "2024-10-21T14:35:22.854837Z",
     "iopub.status.busy": "2024-10-21T14:35:22.854570Z",
     "iopub.status.idle": "2024-10-21T14:35:22.858434Z",
     "shell.execute_reply": "2024-10-21T14:35:22.858068Z",
     "shell.execute_reply.started": "2024-10-21T14:35:22.854820Z"
    }
   },
   "outputs": [
    {
     "name": "stdout",
     "output_type": "stream",
     "text": [
      "                                       annotation_step_1 annotation_step_2\n",
      "cellID                                                                    \n",
      "SCGT00_L051_I53.3P_T0_AACCAACGTGGGATTG               pDC               pDC\n",
      "SCGT00_L051_I51.3P_T0_AAGGTAATCTTCCCGA               pDC               pDC\n",
      "SCGT00_L051_I58.3P_T0_ACCTGAAAGTGCCAGA               pDC               pDC\n",
      "SCGT00_L051_I51.3P_T0_ACGGGTCTCTTGGTGA               pDC               pDC\n",
      "SCGT00_L051_I53.3P_T0_ACTATGGAGGCGCTCT               pDC               pDC\n"
     ]
    }
   ],
   "source": [
    "print(master_AnnotDF.head())"
   ]
  },
  {
   "cell_type": "code",
   "execution_count": 23,
   "metadata": {
    "execution": {
     "iopub.execute_input": "2024-10-21T14:35:23.207645Z",
     "iopub.status.busy": "2024-10-21T14:35:23.207456Z",
     "iopub.status.idle": "2024-10-21T14:35:23.209881Z",
     "shell.execute_reply": "2024-10-21T14:35:23.209536Z",
     "shell.execute_reply.started": "2024-10-21T14:35:23.207629Z"
    }
   },
   "outputs": [
    {
     "name": "stdout",
     "output_type": "stream",
     "text": [
      "(855417, 2)\n"
     ]
    }
   ],
   "source": [
    "print(master_AnnotDF.shape)"
   ]
  },
  {
   "cell_type": "code",
   "execution_count": 24,
   "metadata": {
    "execution": {
     "iopub.execute_input": "2024-10-21T14:35:23.696076Z",
     "iopub.status.busy": "2024-10-21T14:35:23.695744Z",
     "iopub.status.idle": "2024-10-21T14:35:23.757756Z",
     "shell.execute_reply": "2024-10-21T14:35:23.757393Z",
     "shell.execute_reply.started": "2024-10-21T14:35:23.696058Z"
    }
   },
   "outputs": [
    {
     "data": {
      "text/plain": [
       "{'B',\n",
       " 'Cycling',\n",
       " 'DC',\n",
       " 'Doublets_Step1',\n",
       " 'Doublets_Step2',\n",
       " 'ILC',\n",
       " 'LowQuality_cells',\n",
       " 'Mono',\n",
       " 'Plasma',\n",
       " 'Platelets',\n",
       " 'Progenitors',\n",
       " 'RBC',\n",
       " 'T_CD4_Naive',\n",
       " 'T_CD4_NonNaive',\n",
       " 'T_CD8_Naive',\n",
       " 'T_CD8_NonNaive',\n",
       " 'pDC'}"
      ]
     },
     "execution_count": 24,
     "metadata": {},
     "output_type": "execute_result"
    }
   ],
   "source": [
    "set(master_AnnotDF[annotation_col_name])"
   ]
  },
  {
   "cell_type": "code",
   "execution_count": 25,
   "metadata": {
    "execution": {
     "iopub.execute_input": "2024-10-21T14:35:24.412021Z",
     "iopub.status.busy": "2024-10-21T14:35:24.411759Z",
     "iopub.status.idle": "2024-10-21T14:35:24.467386Z",
     "shell.execute_reply": "2024-10-21T14:35:24.467010Z",
     "shell.execute_reply.started": "2024-10-21T14:35:24.412003Z"
    }
   },
   "outputs": [
    {
     "data": {
      "text/plain": [
       "{'B',\n",
       " 'DC',\n",
       " 'Doublets_Step2',\n",
       " 'ILC',\n",
       " 'LowQuality_cells',\n",
       " 'Mono',\n",
       " 'Platelets',\n",
       " 'T_CD4_Naive',\n",
       " 'T_CD4_NonNaive',\n",
       " 'T_CD8_Naive',\n",
       " 'T_CD8_NonNaive'}"
      ]
     },
     "execution_count": 25,
     "metadata": {},
     "output_type": "execute_result"
    }
   ],
   "source": [
    "set(clusterAnnotDF[annotation_col_name])"
   ]
  },
  {
   "cell_type": "code",
   "execution_count": 26,
   "metadata": {
    "execution": {
     "iopub.execute_input": "2024-10-21T14:35:26.008355Z",
     "iopub.status.busy": "2024-10-21T14:35:26.007900Z",
     "iopub.status.idle": "2024-10-21T14:35:26.455043Z",
     "shell.execute_reply": "2024-10-21T14:35:26.454575Z",
     "shell.execute_reply.started": "2024-10-21T14:35:26.008337Z"
    }
   },
   "outputs": [],
   "source": [
    "# For step1\n",
    "master_AnnotDF.to_pickle(here(f\"02_cell_annotation/SCGT00_CentralizedDataset/02_fromCellLineages_to_CellTypes/master_clusterAnnotDF.pkl\"))"
   ]
  },
  {
   "cell_type": "markdown",
   "metadata": {},
   "source": [
    "# Split Lineages"
   ]
  },
  {
   "cell_type": "code",
   "execution_count": 32,
   "metadata": {
    "execution": {
     "iopub.execute_input": "2024-10-21T14:37:00.173791Z",
     "iopub.status.busy": "2024-10-21T14:37:00.173478Z",
     "iopub.status.idle": "2024-10-21T14:37:00.176071Z",
     "shell.execute_reply": "2024-10-21T14:37:00.175720Z",
     "shell.execute_reply.started": "2024-10-21T14:37:00.173773Z"
    }
   },
   "outputs": [],
   "source": [
    "annotation_col_name = 'annotation_step_2'\n",
    "not_interesting_categories = [\"LowQuality_cells\", \"Doublets_Step1\", \"Doublets_Step2\"]\n",
    "finished_categories = [\"Progenitors\", \"pDC\", \"Plasma\", \"RBC\", \"Platelets\", \"Cycling\", \"B\", \"DC\", \"Mono\"]"
   ]
  },
  {
   "cell_type": "code",
   "execution_count": 33,
   "metadata": {
    "execution": {
     "iopub.execute_input": "2024-10-21T14:37:00.438233Z",
     "iopub.status.busy": "2024-10-21T14:37:00.438055Z",
     "iopub.status.idle": "2024-10-21T14:37:00.483510Z",
     "shell.execute_reply": "2024-10-21T14:37:00.483105Z",
     "shell.execute_reply.started": "2024-10-21T14:37:00.438218Z"
    }
   },
   "outputs": [
    {
     "name": "stdout",
     "output_type": "stream",
     "text": [
      "annotation_step_2\n",
      "T_CD4_NonNaive      160017\n",
      "Mono                131392\n",
      "T_CD8_NonNaive      130019\n",
      "T_CD4_Naive         126306\n",
      "ILC                  57046\n",
      "B                    55869\n",
      "Platelets            49789\n",
      "LowQuality_cells     46475\n",
      "T_CD8_Naive          40745\n",
      "Doublets_Step1       34797\n",
      "DC                   10440\n",
      "Doublets_Step2        3361\n",
      "pDC                   3125\n",
      "Cycling               2741\n",
      "Progenitors           1716\n",
      "Plasma                1383\n",
      "RBC                    196\n",
      "dtype: int64\n"
     ]
    }
   ],
   "source": [
    "cell_counts = master_AnnotDF.groupby(annotation_col_name).size().sort_values(ascending=False)\n",
    "print(cell_counts)"
   ]
  },
  {
   "cell_type": "code",
   "execution_count": 34,
   "metadata": {
    "execution": {
     "iopub.execute_input": "2024-10-21T14:37:00.737847Z",
     "iopub.status.busy": "2024-10-21T14:37:00.737627Z",
     "iopub.status.idle": "2024-10-21T14:37:00.741125Z",
     "shell.execute_reply": "2024-10-21T14:37:00.740771Z",
     "shell.execute_reply.started": "2024-10-21T14:37:00.737830Z"
    }
   },
   "outputs": [
    {
     "name": "stdout",
     "output_type": "stream",
     "text": [
      "We are removing a total of 84633 cells\n",
      "LowQuality_cells: 46475 cells removed\n",
      "Doublets_Step1: 34797 cells removed\n",
      "Doublets_Step2: 3361 cells removed\n"
     ]
    }
   ],
   "source": [
    "total_cells_to_remove = cell_counts.loc[not_interesting_categories].sum()\n",
    "print(f\"We are removing a total of {total_cells_to_remove} cells\")\n",
    "for category in not_interesting_categories:\n",
    "    cells_removed = cell_counts.loc[category]\n",
    "    print(f\"{category}: {cells_removed} cells removed\")"
   ]
  },
  {
   "cell_type": "code",
   "execution_count": 35,
   "metadata": {
    "execution": {
     "iopub.execute_input": "2024-10-21T14:37:01.294056Z",
     "iopub.status.busy": "2024-10-21T14:37:01.293847Z",
     "iopub.status.idle": "2024-10-21T14:37:01.297143Z",
     "shell.execute_reply": "2024-10-21T14:37:01.296787Z",
     "shell.execute_reply.started": "2024-10-21T14:37:01.294040Z"
    }
   },
   "outputs": [
    {
     "name": "stdout",
     "output_type": "stream",
     "text": [
      "We have finished a total of 256651 cells\n",
      "Progenitors: 1716 cells finished\n",
      "pDC: 3125 cells finished\n",
      "Plasma: 1383 cells finished\n",
      "RBC: 196 cells finished\n",
      "Platelets: 49789 cells finished\n",
      "Cycling: 2741 cells finished\n",
      "B: 55869 cells finished\n",
      "DC: 10440 cells finished\n",
      "Mono: 131392 cells finished\n"
     ]
    }
   ],
   "source": [
    "total_cells_finished = cell_counts.loc[finished_categories].sum()\n",
    "print(f\"We have finished a total of {total_cells_finished} cells\")\n",
    "for category in finished_categories:\n",
    "    cells_finished = cell_counts.loc[category]\n",
    "    print(f\"{category}: {cells_finished} cells finished\")"
   ]
  },
  {
   "cell_type": "code",
   "execution_count": 36,
   "metadata": {
    "execution": {
     "iopub.execute_input": "2024-10-21T14:37:02.054733Z",
     "iopub.status.busy": "2024-10-21T14:37:02.054425Z",
     "iopub.status.idle": "2024-10-21T14:37:02.059005Z",
     "shell.execute_reply": "2024-10-21T14:37:02.058602Z",
     "shell.execute_reply.started": "2024-10-21T14:37:02.054714Z"
    }
   },
   "outputs": [
    {
     "name": "stdout",
     "output_type": "stream",
     "text": [
      "We are still missing a total of 514133 cells\n",
      "ILC: 57046 cells missing\n",
      "T_CD4_Naive: 126306 cells missing\n",
      "T_CD4_NonNaive: 160017 cells missing\n",
      "T_CD8_Naive: 40745 cells missing\n",
      "T_CD8_NonNaive: 130019 cells missing\n"
     ]
    }
   ],
   "source": [
    "next_step_categories = cell_counts.index.difference(set(finished_categories).union(set(not_interesting_categories)))\n",
    "total_cells_of_interest = cell_counts.loc[next_step_categories].sum()\n",
    "print(f\"We are still missing a total of {total_cells_of_interest} cells\")\n",
    "for category in next_step_categories:\n",
    "    cells_missing = cell_counts.loc[category]\n",
    "    print(f\"{category}: {cells_missing} cells missing\")"
   ]
  },
  {
   "cell_type": "code",
   "execution_count": 37,
   "metadata": {
    "execution": {
     "iopub.execute_input": "2024-10-21T14:37:05.023447Z",
     "iopub.status.busy": "2024-10-21T14:37:05.022997Z",
     "iopub.status.idle": "2024-10-21T14:37:05.061493Z",
     "shell.execute_reply": "2024-10-21T14:37:05.061088Z",
     "shell.execute_reply.started": "2024-10-21T14:37:05.023426Z"
    }
   },
   "outputs": [
    {
     "data": {
      "text/plain": [
       "array(['pDC', 'LowQuality_cells', 'Doublets_Step1', 'Platelets', 'Mono',\n",
       "       'DC', 'Doublets_Step2', 'ILC', 'T_CD4_Naive', 'T_CD4_NonNaive',\n",
       "       'T_CD8_Naive', 'T_CD8_NonNaive', 'Cycling', 'Plasma',\n",
       "       'Progenitors', 'RBC', 'B'], dtype=object)"
      ]
     },
     "execution_count": 37,
     "metadata": {},
     "output_type": "execute_result"
    }
   ],
   "source": [
    "master_AnnotDF[annotation_col_name].unique()"
   ]
  },
  {
   "cell_type": "code",
   "execution_count": 38,
   "metadata": {
    "execution": {
     "iopub.execute_input": "2024-10-21T14:37:23.865357Z",
     "iopub.status.busy": "2024-10-21T14:37:23.864817Z",
     "iopub.status.idle": "2024-10-21T14:37:24.229296Z",
     "shell.execute_reply": "2024-10-21T14:37:24.228863Z",
     "shell.execute_reply.started": "2024-10-21T14:37:23.865335Z"
    }
   },
   "outputs": [
    {
     "name": "stdout",
     "output_type": "stream",
     "text": [
      "Skipping pDC\n",
      "Skipping LowQuality_cells\n",
      "Skipping Doublets_Step1\n",
      "Skipping Platelets\n",
      "Skipping Mono\n",
      "Skipping DC\n",
      "Skipping Doublets_Step2\n",
      "ILC\n",
      "01_qualityControl_HVGselection.ipynb: cellGroup changed!\n",
      "01_qualityControl_HVGselection.ipynb: annotationDFpath changed!\n",
      "01_qualityControl_HVGselection.ipynb: annotation column changed!\n",
      "03_compute_neighborsUMAP_QCmetrics.ipynb: cellGroup changed!\n",
      "03_compute_neighborsUMAP_QCmetrics.ipynb: annotationDFpath changed!\n",
      "03_compute_neighborsUMAP_QCmetrics.ipynb: annotation column changed!\n",
      "05_annotation.ipynb: cellGroup changed!\n",
      "02_integration_scVI.ipynb: cellGroup changed!\n",
      "06_computeMarkers_specificResolution.ipynb: cellGroup changed!\n",
      "04_clustering.ipynb: cellGroup changed!\n",
      "T_CD4_Naive\n",
      "01_qualityControl_HVGselection.ipynb: cellGroup changed!\n",
      "01_qualityControl_HVGselection.ipynb: annotationDFpath changed!\n",
      "01_qualityControl_HVGselection.ipynb: annotation column changed!\n",
      "03_compute_neighborsUMAP_QCmetrics.ipynb: cellGroup changed!\n",
      "03_compute_neighborsUMAP_QCmetrics.ipynb: annotationDFpath changed!\n",
      "03_compute_neighborsUMAP_QCmetrics.ipynb: annotation column changed!\n",
      "05_annotation.ipynb: cellGroup changed!\n",
      "02_integration_scVI.ipynb: cellGroup changed!\n",
      "06_computeMarkers_specificResolution.ipynb: cellGroup changed!\n",
      "04_clustering.ipynb: cellGroup changed!\n",
      "T_CD4_NonNaive\n",
      "01_qualityControl_HVGselection.ipynb: cellGroup changed!\n",
      "01_qualityControl_HVGselection.ipynb: annotationDFpath changed!\n",
      "01_qualityControl_HVGselection.ipynb: annotation column changed!\n",
      "03_compute_neighborsUMAP_QCmetrics.ipynb: cellGroup changed!\n",
      "03_compute_neighborsUMAP_QCmetrics.ipynb: annotationDFpath changed!\n",
      "03_compute_neighborsUMAP_QCmetrics.ipynb: annotation column changed!\n",
      "05_annotation.ipynb: cellGroup changed!\n",
      "02_integration_scVI.ipynb: cellGroup changed!\n",
      "06_computeMarkers_specificResolution.ipynb: cellGroup changed!\n",
      "04_clustering.ipynb: cellGroup changed!\n",
      "T_CD8_Naive\n",
      "01_qualityControl_HVGselection.ipynb: cellGroup changed!\n",
      "01_qualityControl_HVGselection.ipynb: annotationDFpath changed!\n",
      "01_qualityControl_HVGselection.ipynb: annotation column changed!\n",
      "03_compute_neighborsUMAP_QCmetrics.ipynb: cellGroup changed!\n",
      "03_compute_neighborsUMAP_QCmetrics.ipynb: annotationDFpath changed!\n",
      "03_compute_neighborsUMAP_QCmetrics.ipynb: annotation column changed!\n",
      "05_annotation.ipynb: cellGroup changed!\n",
      "02_integration_scVI.ipynb: cellGroup changed!\n",
      "06_computeMarkers_specificResolution.ipynb: cellGroup changed!\n",
      "04_clustering.ipynb: cellGroup changed!\n",
      "T_CD8_NonNaive\n",
      "01_qualityControl_HVGselection.ipynb: cellGroup changed!\n",
      "01_qualityControl_HVGselection.ipynb: annotationDFpath changed!\n",
      "01_qualityControl_HVGselection.ipynb: annotation column changed!\n",
      "03_compute_neighborsUMAP_QCmetrics.ipynb: cellGroup changed!\n",
      "03_compute_neighborsUMAP_QCmetrics.ipynb: annotationDFpath changed!\n",
      "03_compute_neighborsUMAP_QCmetrics.ipynb: annotation column changed!\n",
      "05_annotation.ipynb: cellGroup changed!\n",
      "02_integration_scVI.ipynb: cellGroup changed!\n",
      "06_computeMarkers_specificResolution.ipynb: cellGroup changed!\n",
      "04_clustering.ipynb: cellGroup changed!\n",
      "Skipping Cycling\n",
      "Skipping Plasma\n",
      "Skipping Progenitors\n",
      "Skipping RBC\n",
      "Skipping B\n"
     ]
    }
   ],
   "source": [
    "template_path = here('02_cell_annotation/SCGT00_CentralizedDataset/01_fromDataset_to_CellLineages/template')\n",
    "template_notebook_list = [str(template_path) + '/' + f for f in os.listdir(template_path) if f.endswith('.ipynb')]\n",
    "\n",
    "annotation_path = str(here(f\"02_cell_annotation/SCGT00_CentralizedDataset/02_fromCellLineages_to_CellTypes/{step}/{step}_clusterAnnotDF.pkl\"))\n",
    "targetdir = str(here(f'02_cell_annotation/SCGT00_CentralizedDataset/02_fromCellLineages_to_CellTypes/{next_step}'))\n",
    "os.makedirs(targetdir)\n",
    "\n",
    "for cellGroup in master_AnnotDF[annotation_col_name].unique():\n",
    "    if cellGroup in next_step_categories: \n",
    "        print(cellGroup)\n",
    "        # Generate the directory tree\n",
    "        os.makedirs(here('{}/{}/results/figures'.format(targetdir, cellGroup)), exist_ok=False)\n",
    "        for template_notebook in template_notebook_list:\n",
    "            generate_split_dir(cellGroup = cellGroup, \n",
    "                               annotationPath = annotation_path, \n",
    "                               targetDir = targetdir, \n",
    "                               annotation_col_name = annotation_col_name, # Davide changed this line after editing the function. Check if still works\n",
    "                               templateNotebook = template_notebook)\n",
    "    else: \n",
    "        print(f\"Skipping {cellGroup}\")"
   ]
  },
  {
   "cell_type": "code",
   "execution_count": 43,
   "metadata": {
    "execution": {
     "iopub.execute_input": "2024-10-21T08:55:12.828058Z",
     "iopub.status.busy": "2024-10-21T08:55:12.827593Z",
     "iopub.status.idle": "2024-10-21T08:55:12.865101Z",
     "shell.execute_reply": "2024-10-21T08:55:12.864731Z",
     "shell.execute_reply.started": "2024-10-21T08:55:12.828039Z"
    }
   },
   "outputs": [
    {
     "data": {
      "text/html": [
       "<details>\n",
       "<summary>Click to view session information</summary>\n",
       "<pre>\n",
       "-----\n",
       "customPythonFunctions       NA\n",
       "numpy                       1.26.4\n",
       "pandas                      2.2.0\n",
       "pyprojroot                  NA\n",
       "session_info                1.0.0\n",
       "-----\n",
       "</pre>\n",
       "<details>\n",
       "<summary>Click to view modules imported as dependencies</summary>\n",
       "<pre>\n",
       "anyio                       NA\n",
       "argcomplete                 NA\n",
       "arrow                       1.3.0\n",
       "asttokens                   NA\n",
       "attr                        23.2.0\n",
       "attrs                       23.2.0\n",
       "babel                       2.14.0\n",
       "brotli                      1.1.0\n",
       "certifi                     2024.02.02\n",
       "charset_normalizer          3.3.2\n",
       "cloudpickle                 3.0.0\n",
       "colorama                    0.4.6\n",
       "comm                        0.2.1\n",
       "cython_runtime              NA\n",
       "dateutil                    2.8.2\n",
       "debugpy                     1.8.1\n",
       "decorator                   5.1.1\n",
       "exceptiongroup              1.2.0\n",
       "executing                   2.0.1\n",
       "fastjsonschema              NA\n",
       "fqdn                        NA\n",
       "idna                        3.6\n",
       "ipykernel                   6.29.2\n",
       "isoduration                 NA\n",
       "jedi                        0.19.1\n",
       "jinja2                      3.1.3\n",
       "json5                       NA\n",
       "jsonpointer                 2.4\n",
       "jsonschema                  4.21.1\n",
       "jsonschema_specifications   NA\n",
       "jupyter_events              0.9.0\n",
       "jupyter_server              2.12.5\n",
       "jupyterlab_server           2.25.3\n",
       "markupsafe                  2.1.5\n",
       "nbformat                    5.9.2\n",
       "overrides                   NA\n",
       "packaging                   23.2\n",
       "parso                       0.8.3\n",
       "pickleshare                 0.7.5\n",
       "platformdirs                4.2.0\n",
       "prometheus_client           NA\n",
       "prompt_toolkit              3.0.42\n",
       "psutil                      5.9.8\n",
       "pure_eval                   0.2.2\n",
       "pyarrow                     15.0.0\n",
       "pydev_ipython               NA\n",
       "pydevconsole                NA\n",
       "pydevd                      2.9.5\n",
       "pydevd_file_utils           NA\n",
       "pydevd_plugins              NA\n",
       "pydevd_tracing              NA\n",
       "pygments                    2.17.2\n",
       "pythonjsonlogger            NA\n",
       "pytz                        2024.1\n",
       "referencing                 NA\n",
       "requests                    2.31.0\n",
       "rfc3339_validator           0.1.4\n",
       "rfc3986_validator           0.1.1\n",
       "rpds                        NA\n",
       "send2trash                  NA\n",
       "simplejson                  3.19.2\n",
       "six                         1.16.0\n",
       "sniffio                     1.3.0\n",
       "socks                       1.7.1\n",
       "stack_data                  0.6.2\n",
       "tornado                     6.4\n",
       "traitlets                   5.14.1\n",
       "typing_extensions           NA\n",
       "uri_template                NA\n",
       "urllib3                     2.2.1\n",
       "wcwidth                     0.2.13\n",
       "webcolors                   1.13\n",
       "websocket                   1.7.0\n",
       "yaml                        6.0.1\n",
       "zmq                         25.1.2\n",
       "zoneinfo                    NA\n",
       "zstandard                   0.22.0\n",
       "</pre>\n",
       "</details> <!-- seems like this ends pre, so might as well be explicit -->\n",
       "<pre>\n",
       "-----\n",
       "IPython             8.21.0\n",
       "jupyter_client      8.6.0\n",
       "jupyter_core        5.7.1\n",
       "jupyterlab          4.1.2\n",
       "-----\n",
       "Python 3.10.13 | packaged by conda-forge | (main, Dec 23 2023, 15:36:39) [GCC 12.3.0]\n",
       "Linux-3.10.0-1160.88.1.el7.x86_64-x86_64-with-glibc2.17\n",
       "-----\n",
       "Session information updated at 2024-10-21 10:55\n",
       "</pre>\n",
       "</details>"
      ],
      "text/plain": [
       "<IPython.core.display.HTML object>"
      ]
     },
     "execution_count": 43,
     "metadata": {},
     "output_type": "execute_result"
    }
   ],
   "source": [
    "session_info.show()"
   ]
  },
  {
   "cell_type": "code",
   "execution_count": null,
   "metadata": {},
   "outputs": [],
   "source": []
  }
 ],
 "metadata": {
  "kernelspec": {
   "display_name": "Python 3 (ipykernel)",
   "language": "python",
   "name": "python3"
  },
  "language_info": {
   "codemirror_mode": {
    "name": "ipython",
    "version": 3
   },
   "file_extension": ".py",
   "mimetype": "text/x-python",
   "name": "python",
   "nbconvert_exporter": "python",
   "pygments_lexer": "ipython3",
   "version": "3.10.13"
  },
  "toc": {
   "base_numbering": 1,
   "nav_menu": {},
   "number_sections": true,
   "sideBar": true,
   "skip_h1_title": false,
   "title_cell": "Table of Contents",
   "title_sidebar": "Contents",
   "toc_cell": false,
   "toc_position": {},
   "toc_section_display": true,
   "toc_window_display": false
  }
 },
 "nbformat": 4,
 "nbformat_minor": 4
}
