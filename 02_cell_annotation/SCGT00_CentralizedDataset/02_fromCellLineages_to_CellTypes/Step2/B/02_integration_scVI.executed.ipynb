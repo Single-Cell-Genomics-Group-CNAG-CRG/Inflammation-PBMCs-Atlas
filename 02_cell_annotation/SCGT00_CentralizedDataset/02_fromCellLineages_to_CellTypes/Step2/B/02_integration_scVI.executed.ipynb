{
 "cells": [
  {
   "cell_type": "code",
   "execution_count": 1,
   "id": "2dd1425a-0c07-465e-b522-9e3cc5cb93a7",
   "metadata": {
    "execution": {
     "iopub.execute_input": "2024-10-21T09:26:14.602879Z",
     "iopub.status.busy": "2024-10-21T09:26:14.602388Z",
     "iopub.status.idle": "2024-10-21T09:26:18.232235Z",
     "shell.execute_reply": "2024-10-21T09:26:18.231461Z"
    },
    "papermill": {
     "duration": 3.658602,
     "end_time": "2024-10-21T09:26:18.235953",
     "exception": false,
     "start_time": "2024-10-21T09:26:14.577351",
     "status": "completed"
    },
    "tags": []
   },
   "outputs": [
    {
     "name": "stderr",
     "output_type": "stream",
     "text": [
      "/home/dmaspero/miniconda3/envs/scarches/lib/python3.9/site-packages/tqdm/auto.py:21: TqdmWarning: IProgress not found. Please update jupyter and ipywidgets. See https://ipywidgets.readthedocs.io/en/stable/user_install.html\n",
      "  from .autonotebook import tqdm as notebook_tqdm\n"
     ]
    },
    {
     "data": {
      "text/plain": [
       "True"
      ]
     },
     "execution_count": 1,
     "metadata": {},
     "output_type": "execute_result"
    }
   ],
   "source": [
    "import os\n",
    "import sys\n",
    "\n",
    "import numpy as np\n",
    "import matplotlib.pyplot as plt\n",
    "\n",
    "import scanpy as sc\n",
    "import scvi\n",
    "import torch\n",
    "\n",
    "from pytorch_lightning.loggers import WandbLogger\n",
    "import wandb\n",
    "from dotenv import load_dotenv\n",
    "\n",
    "import session_info\n",
    "import warnings\n",
    "from pyprojroot.here import here\n",
    "\n",
    "warnings.filterwarnings(\"ignore\")\n",
    "sys.path.insert(1, str(here('bin')))\n",
    "\n",
    "torch.set_float32_matmul_precision('high')\n",
    "\n",
    "#plt.style.use(['science','nature','no-latex'])\n",
    "dpi_fig_save = 300\n",
    "sc.set_figure_params(dpi=100, dpi_save=dpi_fig_save, vector_friendly=True)\n",
    "\n",
    "load_dotenv(here('.env'))"
   ]
  },
  {
   "cell_type": "code",
   "execution_count": 2,
   "id": "09c897fc-744b-43de-a681-718fb5d327fa",
   "metadata": {
    "execution": {
     "iopub.execute_input": "2024-10-21T09:26:18.262250Z",
     "iopub.status.busy": "2024-10-21T09:26:18.261734Z",
     "iopub.status.idle": "2024-10-21T09:26:18.267099Z",
     "shell.execute_reply": "2024-10-21T09:26:18.265944Z"
    },
    "papermill": {
     "duration": 0.021289,
     "end_time": "2024-10-21T09:26:18.269791",
     "exception": false,
     "start_time": "2024-10-21T09:26:18.248502",
     "status": "completed"
    },
    "tags": []
   },
   "outputs": [],
   "source": [
    "class CustomWandbLogger(WandbLogger):\n",
    "    @property\n",
    "    def save_dir(self):\n",
    "        return self.experiment.dir"
   ]
  },
  {
   "cell_type": "code",
   "execution_count": 3,
   "id": "8ee6662f-5d45-4137-80a5-bb0b9ae8d71f",
   "metadata": {
    "execution": {
     "iopub.execute_input": "2024-10-21T09:26:18.295971Z",
     "iopub.status.busy": "2024-10-21T09:26:18.295293Z",
     "iopub.status.idle": "2024-10-21T09:26:18.306117Z",
     "shell.execute_reply": "2024-10-21T09:26:18.305108Z"
    },
    "papermill": {
     "duration": 0.027007,
     "end_time": "2024-10-21T09:26:18.309333",
     "exception": false,
     "start_time": "2024-10-21T09:26:18.282326",
     "status": "completed"
    },
    "tags": []
   },
   "outputs": [
    {
     "name": "stderr",
     "output_type": "stream",
     "text": [
      "Seed set to 0\n"
     ]
    },
    {
     "name": "stdout",
     "output_type": "stream",
     "text": [
      "Last run with scvi-tools version: 1.1.2\n"
     ]
    }
   ],
   "source": [
    "scvi.settings.seed = 0\n",
    "print(\"Last run with scvi-tools version:\", scvi.__version__)"
   ]
  },
  {
   "cell_type": "markdown",
   "id": "a81037ff-5998-482a-ba86-520f757311a9",
   "metadata": {
    "papermill": {
     "duration": 0.0142,
     "end_time": "2024-10-21T09:26:18.335233",
     "exception": false,
     "start_time": "2024-10-21T09:26:18.321033",
     "status": "completed"
    },
    "tags": []
   },
   "source": [
    "**Setting parameters** "
   ]
  },
  {
   "cell_type": "code",
   "execution_count": 4,
   "id": "56c27966-8f10-4c93-8b1a-1fa75f005e41",
   "metadata": {
    "execution": {
     "iopub.execute_input": "2024-10-21T09:26:18.368192Z",
     "iopub.status.busy": "2024-10-21T09:26:18.367717Z",
     "iopub.status.idle": "2024-10-21T09:26:18.373482Z",
     "shell.execute_reply": "2024-10-21T09:26:18.372327Z"
    },
    "papermill": {
     "duration": 0.022035,
     "end_time": "2024-10-21T09:26:18.376707",
     "exception": false,
     "start_time": "2024-10-21T09:26:18.354672",
     "status": "completed"
    },
    "tags": []
   },
   "outputs": [],
   "source": [
    "overwriteFigures = True\n",
    "overwriteData = True"
   ]
  },
  {
   "cell_type": "code",
   "execution_count": 5,
   "id": "c86fccd3-a4fe-415b-8f4e-e2ceb3ec128a",
   "metadata": {
    "execution": {
     "iopub.execute_input": "2024-10-21T09:26:18.403082Z",
     "iopub.status.busy": "2024-10-21T09:26:18.402594Z",
     "iopub.status.idle": "2024-10-21T09:26:18.408394Z",
     "shell.execute_reply": "2024-10-21T09:26:18.407207Z"
    },
    "papermill": {
     "duration": 0.023244,
     "end_time": "2024-10-21T09:26:18.412073",
     "exception": false,
     "start_time": "2024-10-21T09:26:18.388829",
     "status": "completed"
    },
    "tags": []
   },
   "outputs": [],
   "source": [
    "cellGroup = 'B'\n",
    "workDir = os.getcwd()"
   ]
  },
  {
   "cell_type": "code",
   "execution_count": 6,
   "id": "2dee4d55-d168-467b-b867-a61fed9d6af1",
   "metadata": {
    "execution": {
     "iopub.execute_input": "2024-10-21T09:26:18.467302Z",
     "iopub.status.busy": "2024-10-21T09:26:18.466804Z",
     "iopub.status.idle": "2024-10-21T09:26:18.473169Z",
     "shell.execute_reply": "2024-10-21T09:26:18.472002Z"
    },
    "papermill": {
     "duration": 0.025361,
     "end_time": "2024-10-21T09:26:18.476688",
     "exception": false,
     "start_time": "2024-10-21T09:26:18.451327",
     "status": "completed"
    },
    "tags": []
   },
   "outputs": [],
   "source": [
    "annotationLevel = os.path.basename(os.path.normpath(workDir))"
   ]
  },
  {
   "cell_type": "code",
   "execution_count": 7,
   "id": "11e53cd5-b746-4152-89cb-c2f0c15d90b3",
   "metadata": {
    "execution": {
     "iopub.execute_input": "2024-10-21T09:26:18.504491Z",
     "iopub.status.busy": "2024-10-21T09:26:18.503985Z",
     "iopub.status.idle": "2024-10-21T09:26:18.512130Z",
     "shell.execute_reply": "2024-10-21T09:26:18.510785Z"
    },
    "papermill": {
     "duration": 0.025383,
     "end_time": "2024-10-21T09:26:18.515385",
     "exception": false,
     "start_time": "2024-10-21T09:26:18.490002",
     "status": "completed"
    },
    "tags": []
   },
   "outputs": [
    {
     "data": {
      "text/plain": [
       "'/scratch_isilon/groups/singlecell/shared/projects/Inflammation-PBMCs-Atlas/02_cell_annotation/SCGT00_CentralizedDataset/02_fromCellLineages_to_CellTypes/Step2'"
      ]
     },
     "execution_count": 7,
     "metadata": {},
     "output_type": "execute_result"
    }
   ],
   "source": [
    "workDir"
   ]
  },
  {
   "cell_type": "markdown",
   "id": "171d2f06-9a44-4fcb-b437-35dc546674b6",
   "metadata": {
    "papermill": {
     "duration": 0.011867,
     "end_time": "2024-10-21T09:26:18.540791",
     "exception": false,
     "start_time": "2024-10-21T09:26:18.528924",
     "status": "completed"
    },
    "tags": []
   },
   "source": [
    "**Load data**"
   ]
  },
  {
   "cell_type": "code",
   "execution_count": 8,
   "id": "429f34fe-dde6-4cc9-9f75-7de8f85c5ffe",
   "metadata": {
    "execution": {
     "iopub.execute_input": "2024-10-21T09:26:18.567601Z",
     "iopub.status.busy": "2024-10-21T09:26:18.567106Z",
     "iopub.status.idle": "2024-10-21T09:26:21.458232Z",
     "shell.execute_reply": "2024-10-21T09:26:21.457671Z"
    },
    "papermill": {
     "duration": 2.909072,
     "end_time": "2024-10-21T09:26:21.461880",
     "exception": false,
     "start_time": "2024-10-21T09:26:18.552808",
     "status": "completed"
    },
    "tags": []
   },
   "outputs": [
    {
     "data": {
      "text/plain": [
       "AnnData object with n_obs × n_vars = 64308 × 2599\n",
       "    obs: 'studyID', 'libraryID', 'sampleID', 'chemistry', 'technology', 'patientID', 'disease', 'timepoint_replicate', 'treatmentStatus', 'therapyResponse', 'sex', 'age', 'BMI', 'binned_age', 'diseaseStatus', 'smokingStatus', 'ethnicity', 'institute', 'diseaseGroup', 'batches', 'n_genes_by_counts', 'log1p_n_genes_by_counts', 'total_counts', 'log1p_total_counts', 'pct_counts_in_top_20_genes', 'total_counts_mt', 'log1p_total_counts_mt', 'pct_counts_mt', 'total_counts_ribo', 'log1p_total_counts_ribo', 'pct_counts_ribo', 'total_counts_hb', 'log1p_total_counts_hb', 'pct_counts_hb', 'total_counts_plt', 'log1p_total_counts_plt', 'pct_counts_plt', 'S_score', 'G2M_score', 'phase'\n",
       "    var: 'hgnc_id', 'symbol', 'locus_group', 'HUGO_status', 'mt', 'ribo', 'hb', 'plt', 'n_cells_by_counts', 'mean_counts', 'log1p_mean_counts', 'pct_dropout_by_counts', 'total_counts', 'log1p_total_counts', 'highly_variable', 'means', 'dispersions', 'dispersions_norm', 'highly_variable_nbatches', 'highly_variable_intersection'\n",
       "    uns: 'disease_colors', 'hvg', 'log1p'\n",
       "    layers: 'counts', 'log1p_10e4_counts'"
      ]
     },
     "execution_count": 8,
     "metadata": {},
     "output_type": "execute_result"
    }
   ],
   "source": [
    "adata = sc.read_h5ad(here(f\"{workDir}/{cellGroup}/results/01_{cellGroup}_normalized_HVGsubset.h5ad\"))\n",
    "adata"
   ]
  },
  {
   "cell_type": "markdown",
   "id": "8ac79f3b-d5af-41fa-8904-1e9ac1cbe2fb",
   "metadata": {
    "papermill": {
     "duration": 0.020554,
     "end_time": "2024-10-21T09:26:21.495038",
     "exception": false,
     "start_time": "2024-10-21T09:26:21.474484",
     "status": "completed"
    },
    "tags": []
   },
   "source": [
    "## scVI integration"
   ]
  },
  {
   "cell_type": "markdown",
   "id": "9544847d-d17f-4811-b14b-760446d54d32",
   "metadata": {
    "execution": {
     "iopub.execute_input": "2024-03-25T16:49:04.004504Z",
     "iopub.status.busy": "2024-03-25T16:49:04.004143Z",
     "iopub.status.idle": "2024-03-25T16:49:04.010148Z",
     "shell.execute_reply": "2024-03-25T16:49:04.009146Z",
     "shell.execute_reply.started": "2024-03-25T16:49:04.004477Z"
    },
    "papermill": {
     "duration": 0.011968,
     "end_time": "2024-10-21T09:26:21.519403",
     "exception": false,
     "start_time": "2024-10-21T09:26:21.507435",
     "status": "completed"
    },
    "tags": []
   },
   "source": [
    "**scVI parameters**"
   ]
  },
  {
   "cell_type": "code",
   "execution_count": 9,
   "id": "208966eb-545a-4c02-854c-0ed0487ef5b3",
   "metadata": {
    "execution": {
     "iopub.execute_input": "2024-10-21T09:26:21.544881Z",
     "iopub.status.busy": "2024-10-21T09:26:21.544218Z",
     "iopub.status.idle": "2024-10-21T09:26:21.553858Z",
     "shell.execute_reply": "2024-10-21T09:26:21.552573Z"
    },
    "papermill": {
     "duration": 0.026458,
     "end_time": "2024-10-21T09:26:21.556971",
     "exception": false,
     "start_time": "2024-10-21T09:26:21.530513",
     "status": "completed"
    },
    "tags": []
   },
   "outputs": [],
   "source": [
    "# https://docs.scvi-tools.org/en/stable/api/reference/scvi.train.Trainer.html#scvi.train.Trainer\n",
    "setup_kwargs = dict(\n",
    "    layer=\"counts\", \n",
    "    batch_key='libraryID', \n",
    "    categorical_covariate_keys = ['disease', 'sampleID'],\n",
    ")\n",
    "\n",
    "scvi_kwargs = dict(n_hidden=512,\n",
    "                   n_latent=10, # reduced to 20 after step 00 (main) and to 10 after step 03\n",
    "                   n_layers=2,\n",
    "                   gene_likelihood='nb')\n",
    "\n",
    "trainer_kwargs = dict(\n",
    "    checkpointing_monitor = 'elbo_validation',\n",
    "    early_stopping_monitor = 'reconstruction_loss_validation',\n",
    "    early_stopping_patience = 10,\n",
    "    early_stopping_min_delta=0.1,\n",
    "    early_stopping = True,\n",
    "    max_epochs = 1000,\n",
    "\n",
    "    #logger = # wandb\n",
    ")\n",
    "# https://docs.scvi-tools.org/en/stable/api/reference/scvi.train.TrainingPlan.html#scvi.train.TrainingPlan\n",
    "plan_kwargs = dict(\n",
    "    lr = 5e-4,\n",
    "    #reduce_lr_on_plateau = True\n",
    ")\n",
    "\n",
    "# https://docs.scvi-tools.org/en/stable/api/reference/scvi.module.VAE.html#scvi.module.VAE\n",
    "#vae = dict(\n",
    "#    use_layer_norm='both',\n",
    "#    use_batch_norm='none',\n",
    "#    encode_covariates=True,\n",
    "#    deeply_inject_covariates=False\n",
    "#)\n",
    "parameter_dict = setup_kwargs | scvi_kwargs | trainer_kwargs | plan_kwargs"
   ]
  },
  {
   "cell_type": "markdown",
   "id": "1362366a-c16b-4c11-964b-b9c5f82f7b29",
   "metadata": {
    "papermill": {
     "duration": 0.009883,
     "end_time": "2024-10-21T09:26:21.578963",
     "exception": false,
     "start_time": "2024-10-21T09:26:21.569080",
     "status": "completed"
    },
    "tags": []
   },
   "source": [
    "**wandb parameter**"
   ]
  },
  {
   "cell_type": "code",
   "execution_count": 10,
   "id": "0496e33a-8ca5-423f-b42f-34a59760708c",
   "metadata": {
    "execution": {
     "iopub.execute_input": "2024-10-21T09:26:21.601310Z",
     "iopub.status.busy": "2024-10-21T09:26:21.600820Z",
     "iopub.status.idle": "2024-10-21T09:26:21.608984Z",
     "shell.execute_reply": "2024-10-21T09:26:21.607664Z"
    },
    "papermill": {
     "duration": 0.022512,
     "end_time": "2024-10-21T09:26:21.612012",
     "exception": false,
     "start_time": "2024-10-21T09:26:21.589500",
     "status": "completed"
    },
    "tags": []
   },
   "outputs": [
    {
     "data": {
      "text/plain": [
       "'Step2_B'"
      ]
     },
     "execution_count": 10,
     "metadata": {},
     "output_type": "execute_result"
    }
   ],
   "source": [
    "run_name = f\"{annotationLevel}_{cellGroup}\"\n",
    "run_name"
   ]
  },
  {
   "cell_type": "code",
   "execution_count": 11,
   "id": "b0021327-95a2-4002-bf32-2c5779a99505",
   "metadata": {
    "execution": {
     "iopub.execute_input": "2024-10-21T09:26:21.639255Z",
     "iopub.status.busy": "2024-10-21T09:26:21.638767Z",
     "iopub.status.idle": "2024-10-21T09:26:21.705148Z",
     "shell.execute_reply": "2024-10-21T09:26:21.704050Z"
    },
    "papermill": {
     "duration": 0.08377,
     "end_time": "2024-10-21T09:26:21.708386",
     "exception": false,
     "start_time": "2024-10-21T09:26:21.624616",
     "status": "completed"
    },
    "tags": []
   },
   "outputs": [],
   "source": [
    "logger = CustomWandbLogger(name = run_name, project='inflammation_atlas_R1', config=parameter_dict)"
   ]
  },
  {
   "cell_type": "markdown",
   "id": "c237eee1-a976-4915-9b7f-b014bf33f47d",
   "metadata": {
    "papermill": {
     "duration": 0.011925,
     "end_time": "2024-10-21T09:26:21.734060",
     "exception": false,
     "start_time": "2024-10-21T09:26:21.722135",
     "status": "completed"
    },
    "tags": []
   },
   "source": [
    "**Running integration**"
   ]
  },
  {
   "cell_type": "code",
   "execution_count": 12,
   "id": "aff97c53-1aba-462e-8a77-f1aec9cf724c",
   "metadata": {
    "execution": {
     "iopub.execute_input": "2024-10-21T09:26:21.757983Z",
     "iopub.status.busy": "2024-10-21T09:26:21.757435Z",
     "iopub.status.idle": "2024-10-21T09:26:21.874019Z",
     "shell.execute_reply": "2024-10-21T09:26:21.872709Z"
    },
    "papermill": {
     "duration": 0.130052,
     "end_time": "2024-10-21T09:26:21.875555",
     "exception": false,
     "start_time": "2024-10-21T09:26:21.745503",
     "status": "completed"
    },
    "tags": []
   },
   "outputs": [
    {
     "name": "stderr",
     "output_type": "stream",
     "text": [
      "CUDA backend failed to initialize: Unable to use CUDA because of the following issues with CUDA components:\n",
      "Outdated cuSPARSE installation found.\n",
      "Version JAX was built against: 12200\n",
      "Minimum supported: 12100\n",
      "Installed version: 12002\n",
      "The local installation version must be no lower than 12100. (Set TF_CPP_MIN_LOG_LEVEL=0 and rerun for more info.)\n"
     ]
    }
   ],
   "source": [
    "scvi.model.SCVI.setup_anndata(adata, \n",
    "                              **setup_kwargs)"
   ]
  },
  {
   "cell_type": "code",
   "execution_count": 13,
   "id": "1a56f448-cf44-47c1-81a4-a89caa930fec",
   "metadata": {
    "execution": {
     "iopub.execute_input": "2024-10-21T09:26:21.897161Z",
     "iopub.status.busy": "2024-10-21T09:26:21.896257Z",
     "iopub.status.idle": "2024-10-21T09:26:22.015713Z",
     "shell.execute_reply": "2024-10-21T09:26:22.014761Z"
    },
    "papermill": {
     "duration": 0.137035,
     "end_time": "2024-10-21T09:26:22.019075",
     "exception": false,
     "start_time": "2024-10-21T09:26:21.882040",
     "status": "completed"
    },
    "tags": []
   },
   "outputs": [],
   "source": [
    "model = scvi.model.SCVI(adata, **scvi_kwargs)"
   ]
  },
  {
   "cell_type": "code",
   "execution_count": 14,
   "id": "2735f010-4f24-4ae8-9740-a8cfeb335e9a",
   "metadata": {
    "execution": {
     "iopub.execute_input": "2024-10-21T09:26:22.048026Z",
     "iopub.status.busy": "2024-10-21T09:26:22.047739Z",
     "iopub.status.idle": "2024-10-21T09:28:35.031715Z",
     "shell.execute_reply": "2024-10-21T09:28:35.031203Z"
    },
    "papermill": {
     "duration": 132.999898,
     "end_time": "2024-10-21T09:28:35.034053",
     "exception": false,
     "start_time": "2024-10-21T09:26:22.034155",
     "status": "completed"
    },
    "tags": []
   },
   "outputs": [
    {
     "name": "stderr",
     "output_type": "stream",
     "text": [
      "GPU available: True (cuda), used: True\n"
     ]
    },
    {
     "name": "stderr",
     "output_type": "stream",
     "text": [
      "TPU available: False, using: 0 TPU cores\n"
     ]
    },
    {
     "name": "stderr",
     "output_type": "stream",
     "text": [
      "IPU available: False, using: 0 IPUs\n"
     ]
    },
    {
     "name": "stderr",
     "output_type": "stream",
     "text": [
      "HPU available: False, using: 0 HPUs\n"
     ]
    },
    {
     "name": "stderr",
     "output_type": "stream",
     "text": [
      "\u001b[34m\u001b[1mwandb\u001b[0m: Currently logged in as: \u001b[33mdav1989\u001b[0m (\u001b[33minflammation\u001b[0m). Use \u001b[1m`wandb login --relogin`\u001b[0m to force relogin\n"
     ]
    },
    {
     "name": "stderr",
     "output_type": "stream",
     "text": [
      "\u001b[34m\u001b[1mwandb\u001b[0m: wandb version 0.18.5 is available!  To upgrade, please run:\n",
      "\u001b[34m\u001b[1mwandb\u001b[0m:  $ pip install wandb --upgrade\n"
     ]
    },
    {
     "name": "stderr",
     "output_type": "stream",
     "text": [
      "\u001b[34m\u001b[1mwandb\u001b[0m: Tracking run with wandb version 0.16.5\n"
     ]
    },
    {
     "name": "stderr",
     "output_type": "stream",
     "text": [
      "\u001b[34m\u001b[1mwandb\u001b[0m: Run data is saved locally in \u001b[35m\u001b[1m./wandb/run-20241021_092624-zqul0dpl\u001b[0m\n",
      "\u001b[34m\u001b[1mwandb\u001b[0m: Run \u001b[1m`wandb offline`\u001b[0m to turn off syncing.\n"
     ]
    },
    {
     "name": "stderr",
     "output_type": "stream",
     "text": [
      "\u001b[34m\u001b[1mwandb\u001b[0m: Syncing run \u001b[33mStep2_B\u001b[0m\n"
     ]
    },
    {
     "name": "stderr",
     "output_type": "stream",
     "text": [
      "\u001b[34m\u001b[1mwandb\u001b[0m: ⭐️ View project at \u001b[34m\u001b[4mhttps://wandb.ai/inflammation/inflammation_atlas_R1\u001b[0m\n"
     ]
    },
    {
     "name": "stderr",
     "output_type": "stream",
     "text": [
      "\u001b[34m\u001b[1mwandb\u001b[0m: 🚀 View run at \u001b[34m\u001b[4mhttps://wandb.ai/inflammation/inflammation_atlas_R1/runs/zqul0dpl/workspace\u001b[0m\n"
     ]
    },
    {
     "name": "stderr",
     "output_type": "stream",
     "text": [
      "LOCAL_RANK: 0 - CUDA_VISIBLE_DEVICES: [0]\n"
     ]
    },
    {
     "name": "stdout",
     "output_type": "stream",
     "text": [
      "\r",
      "Training:   0%|          | 0/1000 [00:00<?, ?it/s]"
     ]
    },
    {
     "name": "stdout",
     "output_type": "stream",
     "text": [
      "\r",
      "Epoch 1/1000:   0%|          | 0/1000 [00:00<?, ?it/s]"
     ]
    },
    {
     "name": "stdout",
     "output_type": "stream",
     "text": [
      "\r",
      "Epoch 1/1000:   0%|          | 1/1000 [00:06<1:42:44,  6.17s/it]"
     ]
    },
    {
     "name": "stdout",
     "output_type": "stream",
     "text": [
      "\r",
      "Epoch 1/1000:   0%|          | 1/1000 [00:06<1:42:44,  6.17s/it, v_num=0dpl, train_loss_step=842, train_loss_epoch=821]"
     ]
    },
    {
     "name": "stdout",
     "output_type": "stream",
     "text": [
      "\r",
      "Epoch 2/1000:   0%|          | 1/1000 [00:06<1:42:44,  6.17s/it, v_num=0dpl, train_loss_step=842, train_loss_epoch=821]"
     ]
    },
    {
     "name": "stdout",
     "output_type": "stream",
     "text": [
      "\r",
      "Epoch 2/1000:   0%|          | 2/1000 [00:11<1:36:07,  5.78s/it, v_num=0dpl, train_loss_step=842, train_loss_epoch=821]"
     ]
    },
    {
     "name": "stdout",
     "output_type": "stream",
     "text": [
      "\r",
      "Epoch 2/1000:   0%|          | 2/1000 [00:11<1:36:07,  5.78s/it, v_num=0dpl, train_loss_step=798, train_loss_epoch=799]"
     ]
    },
    {
     "name": "stdout",
     "output_type": "stream",
     "text": [
      "\r",
      "Epoch 3/1000:   0%|          | 2/1000 [00:11<1:36:07,  5.78s/it, v_num=0dpl, train_loss_step=798, train_loss_epoch=799]"
     ]
    },
    {
     "name": "stdout",
     "output_type": "stream",
     "text": [
      "\r",
      "Epoch 3/1000:   0%|          | 3/1000 [00:15<1:18:07,  4.70s/it, v_num=0dpl, train_loss_step=798, train_loss_epoch=799]"
     ]
    },
    {
     "name": "stdout",
     "output_type": "stream",
     "text": [
      "\r",
      "Epoch 3/1000:   0%|          | 3/1000 [00:15<1:18:07,  4.70s/it, v_num=0dpl, train_loss_step=749, train_loss_epoch=794]"
     ]
    },
    {
     "name": "stdout",
     "output_type": "stream",
     "text": [
      "\r",
      "Epoch 4/1000:   0%|          | 3/1000 [00:15<1:18:07,  4.70s/it, v_num=0dpl, train_loss_step=749, train_loss_epoch=794]"
     ]
    },
    {
     "name": "stdout",
     "output_type": "stream",
     "text": [
      "\r",
      "Epoch 4/1000:   0%|          | 4/1000 [00:18<1:09:34,  4.19s/it, v_num=0dpl, train_loss_step=749, train_loss_epoch=794]"
     ]
    },
    {
     "name": "stdout",
     "output_type": "stream",
     "text": [
      "\r",
      "Epoch 4/1000:   0%|          | 4/1000 [00:18<1:09:34,  4.19s/it, v_num=0dpl, train_loss_step=751, train_loss_epoch=790]"
     ]
    },
    {
     "name": "stdout",
     "output_type": "stream",
     "text": [
      "\r",
      "Epoch 5/1000:   0%|          | 4/1000 [00:18<1:09:34,  4.19s/it, v_num=0dpl, train_loss_step=751, train_loss_epoch=790]"
     ]
    },
    {
     "name": "stdout",
     "output_type": "stream",
     "text": [
      "\r",
      "Epoch 5/1000:   0%|          | 5/1000 [00:23<1:13:09,  4.41s/it, v_num=0dpl, train_loss_step=751, train_loss_epoch=790]"
     ]
    },
    {
     "name": "stdout",
     "output_type": "stream",
     "text": [
      "\r",
      "Epoch 5/1000:   0%|          | 5/1000 [00:23<1:13:09,  4.41s/it, v_num=0dpl, train_loss_step=890, train_loss_epoch=787]"
     ]
    },
    {
     "name": "stdout",
     "output_type": "stream",
     "text": [
      "\r",
      "Epoch 6/1000:   0%|          | 5/1000 [00:23<1:13:09,  4.41s/it, v_num=0dpl, train_loss_step=890, train_loss_epoch=787]"
     ]
    },
    {
     "name": "stdout",
     "output_type": "stream",
     "text": [
      "\r",
      "Epoch 6/1000:   1%|          | 6/1000 [00:28<1:20:16,  4.85s/it, v_num=0dpl, train_loss_step=890, train_loss_epoch=787]"
     ]
    },
    {
     "name": "stdout",
     "output_type": "stream",
     "text": [
      "\r",
      "Epoch 6/1000:   1%|          | 6/1000 [00:28<1:20:16,  4.85s/it, v_num=0dpl, train_loss_step=723, train_loss_epoch=784]"
     ]
    },
    {
     "name": "stdout",
     "output_type": "stream",
     "text": [
      "\r",
      "Epoch 7/1000:   1%|          | 6/1000 [00:28<1:20:16,  4.85s/it, v_num=0dpl, train_loss_step=723, train_loss_epoch=784]"
     ]
    },
    {
     "name": "stdout",
     "output_type": "stream",
     "text": [
      "\r",
      "Epoch 7/1000:   1%|          | 7/1000 [00:34<1:24:26,  5.10s/it, v_num=0dpl, train_loss_step=723, train_loss_epoch=784]"
     ]
    },
    {
     "name": "stdout",
     "output_type": "stream",
     "text": [
      "\r",
      "Epoch 7/1000:   1%|          | 7/1000 [00:34<1:24:26,  5.10s/it, v_num=0dpl, train_loss_step=799, train_loss_epoch=782]"
     ]
    },
    {
     "name": "stdout",
     "output_type": "stream",
     "text": [
      "\r",
      "Epoch 8/1000:   1%|          | 7/1000 [00:34<1:24:26,  5.10s/it, v_num=0dpl, train_loss_step=799, train_loss_epoch=782]"
     ]
    },
    {
     "name": "stdout",
     "output_type": "stream",
     "text": [
      "\r",
      "Epoch 8/1000:   1%|          | 8/1000 [00:39<1:22:15,  4.98s/it, v_num=0dpl, train_loss_step=799, train_loss_epoch=782]"
     ]
    },
    {
     "name": "stdout",
     "output_type": "stream",
     "text": [
      "\r",
      "Epoch 8/1000:   1%|          | 8/1000 [00:39<1:22:15,  4.98s/it, v_num=0dpl, train_loss_step=781, train_loss_epoch=780]"
     ]
    },
    {
     "name": "stdout",
     "output_type": "stream",
     "text": [
      "\r",
      "Epoch 9/1000:   1%|          | 8/1000 [00:39<1:22:15,  4.98s/it, v_num=0dpl, train_loss_step=781, train_loss_epoch=780]"
     ]
    },
    {
     "name": "stdout",
     "output_type": "stream",
     "text": [
      "\r",
      "Epoch 9/1000:   1%|          | 9/1000 [00:44<1:25:02,  5.15s/it, v_num=0dpl, train_loss_step=781, train_loss_epoch=780]"
     ]
    },
    {
     "name": "stdout",
     "output_type": "stream",
     "text": [
      "\r",
      "Epoch 9/1000:   1%|          | 9/1000 [00:44<1:25:02,  5.15s/it, v_num=0dpl, train_loss_step=714, train_loss_epoch=779]"
     ]
    },
    {
     "name": "stdout",
     "output_type": "stream",
     "text": [
      "\r",
      "Epoch 10/1000:   1%|          | 9/1000 [00:44<1:25:02,  5.15s/it, v_num=0dpl, train_loss_step=714, train_loss_epoch=779]"
     ]
    },
    {
     "name": "stdout",
     "output_type": "stream",
     "text": [
      "\r",
      "Epoch 10/1000:   1%|          | 10/1000 [00:50<1:28:02,  5.34s/it, v_num=0dpl, train_loss_step=714, train_loss_epoch=779]"
     ]
    },
    {
     "name": "stdout",
     "output_type": "stream",
     "text": [
      "\r",
      "Epoch 10/1000:   1%|          | 10/1000 [00:50<1:28:02,  5.34s/it, v_num=0dpl, train_loss_step=849, train_loss_epoch=777]"
     ]
    },
    {
     "name": "stdout",
     "output_type": "stream",
     "text": [
      "\r",
      "Epoch 11/1000:   1%|          | 10/1000 [00:50<1:28:02,  5.34s/it, v_num=0dpl, train_loss_step=849, train_loss_epoch=777]"
     ]
    },
    {
     "name": "stdout",
     "output_type": "stream",
     "text": [
      "\r",
      "Epoch 11/1000:   1%|          | 11/1000 [00:56<1:29:08,  5.41s/it, v_num=0dpl, train_loss_step=849, train_loss_epoch=777]"
     ]
    },
    {
     "name": "stdout",
     "output_type": "stream",
     "text": [
      "\r",
      "Epoch 11/1000:   1%|          | 11/1000 [00:56<1:29:08,  5.41s/it, v_num=0dpl, train_loss_step=785, train_loss_epoch=776]"
     ]
    },
    {
     "name": "stdout",
     "output_type": "stream",
     "text": [
      "\r",
      "Epoch 12/1000:   1%|          | 11/1000 [00:56<1:29:08,  5.41s/it, v_num=0dpl, train_loss_step=785, train_loss_epoch=776]"
     ]
    },
    {
     "name": "stdout",
     "output_type": "stream",
     "text": [
      "\r",
      "Epoch 12/1000:   1%|          | 12/1000 [01:01<1:30:49,  5.52s/it, v_num=0dpl, train_loss_step=785, train_loss_epoch=776]"
     ]
    },
    {
     "name": "stdout",
     "output_type": "stream",
     "text": [
      "\r",
      "Epoch 12/1000:   1%|          | 12/1000 [01:01<1:30:49,  5.52s/it, v_num=0dpl, train_loss_step=762, train_loss_epoch=775]"
     ]
    },
    {
     "name": "stdout",
     "output_type": "stream",
     "text": [
      "\r",
      "Epoch 13/1000:   1%|          | 12/1000 [01:01<1:30:49,  5.52s/it, v_num=0dpl, train_loss_step=762, train_loss_epoch=775]"
     ]
    },
    {
     "name": "stdout",
     "output_type": "stream",
     "text": [
      "\r",
      "Epoch 13/1000:   1%|▏         | 13/1000 [01:07<1:31:56,  5.59s/it, v_num=0dpl, train_loss_step=762, train_loss_epoch=775]"
     ]
    },
    {
     "name": "stdout",
     "output_type": "stream",
     "text": [
      "\r",
      "Epoch 13/1000:   1%|▏         | 13/1000 [01:07<1:31:56,  5.59s/it, v_num=0dpl, train_loss_step=847, train_loss_epoch=774]"
     ]
    },
    {
     "name": "stdout",
     "output_type": "stream",
     "text": [
      "\r",
      "Epoch 14/1000:   1%|▏         | 13/1000 [01:07<1:31:56,  5.59s/it, v_num=0dpl, train_loss_step=847, train_loss_epoch=774]"
     ]
    },
    {
     "name": "stdout",
     "output_type": "stream",
     "text": [
      "\r",
      "Epoch 14/1000:   1%|▏         | 14/1000 [01:13<1:32:08,  5.61s/it, v_num=0dpl, train_loss_step=847, train_loss_epoch=774]"
     ]
    },
    {
     "name": "stdout",
     "output_type": "stream",
     "text": [
      "\r",
      "Epoch 14/1000:   1%|▏         | 14/1000 [01:13<1:32:08,  5.61s/it, v_num=0dpl, train_loss_step=805, train_loss_epoch=773]"
     ]
    },
    {
     "name": "stdout",
     "output_type": "stream",
     "text": [
      "\r",
      "Epoch 15/1000:   1%|▏         | 14/1000 [01:13<1:32:08,  5.61s/it, v_num=0dpl, train_loss_step=805, train_loss_epoch=773]"
     ]
    },
    {
     "name": "stdout",
     "output_type": "stream",
     "text": [
      "\r",
      "Epoch 15/1000:   2%|▏         | 15/1000 [01:19<1:32:47,  5.65s/it, v_num=0dpl, train_loss_step=805, train_loss_epoch=773]"
     ]
    },
    {
     "name": "stdout",
     "output_type": "stream",
     "text": [
      "\r",
      "Epoch 15/1000:   2%|▏         | 15/1000 [01:19<1:32:47,  5.65s/it, v_num=0dpl, train_loss_step=785, train_loss_epoch=773]"
     ]
    },
    {
     "name": "stdout",
     "output_type": "stream",
     "text": [
      "\r",
      "Epoch 16/1000:   2%|▏         | 15/1000 [01:19<1:32:47,  5.65s/it, v_num=0dpl, train_loss_step=785, train_loss_epoch=773]"
     ]
    },
    {
     "name": "stdout",
     "output_type": "stream",
     "text": [
      "\r",
      "Epoch 16/1000:   2%|▏         | 16/1000 [01:24<1:32:24,  5.63s/it, v_num=0dpl, train_loss_step=785, train_loss_epoch=773]"
     ]
    },
    {
     "name": "stdout",
     "output_type": "stream",
     "text": [
      "\r",
      "Epoch 16/1000:   2%|▏         | 16/1000 [01:24<1:32:24,  5.63s/it, v_num=0dpl, train_loss_step=793, train_loss_epoch=772]"
     ]
    },
    {
     "name": "stdout",
     "output_type": "stream",
     "text": [
      "\r",
      "Epoch 17/1000:   2%|▏         | 16/1000 [01:24<1:32:24,  5.63s/it, v_num=0dpl, train_loss_step=793, train_loss_epoch=772]"
     ]
    },
    {
     "name": "stdout",
     "output_type": "stream",
     "text": [
      "\r",
      "Epoch 17/1000:   2%|▏         | 17/1000 [01:30<1:32:24,  5.64s/it, v_num=0dpl, train_loss_step=793, train_loss_epoch=772]"
     ]
    },
    {
     "name": "stdout",
     "output_type": "stream",
     "text": [
      "\r",
      "Epoch 17/1000:   2%|▏         | 17/1000 [01:30<1:32:24,  5.64s/it, v_num=0dpl, train_loss_step=803, train_loss_epoch=771]"
     ]
    },
    {
     "name": "stdout",
     "output_type": "stream",
     "text": [
      "\r",
      "Epoch 18/1000:   2%|▏         | 17/1000 [01:30<1:32:24,  5.64s/it, v_num=0dpl, train_loss_step=803, train_loss_epoch=771]"
     ]
    },
    {
     "name": "stdout",
     "output_type": "stream",
     "text": [
      "\r",
      "Epoch 18/1000:   2%|▏         | 18/1000 [01:35<1:27:51,  5.37s/it, v_num=0dpl, train_loss_step=803, train_loss_epoch=771]"
     ]
    },
    {
     "name": "stdout",
     "output_type": "stream",
     "text": [
      "\r",
      "Epoch 18/1000:   2%|▏         | 18/1000 [01:35<1:27:51,  5.37s/it, v_num=0dpl, train_loss_step=806, train_loss_epoch=771]"
     ]
    },
    {
     "name": "stdout",
     "output_type": "stream",
     "text": [
      "\r",
      "Epoch 19/1000:   2%|▏         | 18/1000 [01:35<1:27:51,  5.37s/it, v_num=0dpl, train_loss_step=806, train_loss_epoch=771]"
     ]
    },
    {
     "name": "stdout",
     "output_type": "stream",
     "text": [
      "\r",
      "Epoch 19/1000:   2%|▏         | 19/1000 [01:40<1:28:38,  5.42s/it, v_num=0dpl, train_loss_step=806, train_loss_epoch=771]"
     ]
    },
    {
     "name": "stdout",
     "output_type": "stream",
     "text": [
      "\r",
      "Epoch 19/1000:   2%|▏         | 19/1000 [01:40<1:28:38,  5.42s/it, v_num=0dpl, train_loss_step=769, train_loss_epoch=770]"
     ]
    },
    {
     "name": "stdout",
     "output_type": "stream",
     "text": [
      "\r",
      "Epoch 20/1000:   2%|▏         | 19/1000 [01:40<1:28:38,  5.42s/it, v_num=0dpl, train_loss_step=769, train_loss_epoch=770]"
     ]
    },
    {
     "name": "stdout",
     "output_type": "stream",
     "text": [
      "\r",
      "Epoch 20/1000:   2%|▏         | 20/1000 [01:44<1:19:44,  4.88s/it, v_num=0dpl, train_loss_step=769, train_loss_epoch=770]"
     ]
    },
    {
     "name": "stdout",
     "output_type": "stream",
     "text": [
      "\r",
      "Epoch 20/1000:   2%|▏         | 20/1000 [01:44<1:19:44,  4.88s/it, v_num=0dpl, train_loss_step=732, train_loss_epoch=770]"
     ]
    },
    {
     "name": "stdout",
     "output_type": "stream",
     "text": [
      "\r",
      "Epoch 21/1000:   2%|▏         | 20/1000 [01:44<1:19:44,  4.88s/it, v_num=0dpl, train_loss_step=732, train_loss_epoch=770]"
     ]
    },
    {
     "name": "stdout",
     "output_type": "stream",
     "text": [
      "\r",
      "Epoch 21/1000:   2%|▏         | 21/1000 [01:49<1:21:29,  4.99s/it, v_num=0dpl, train_loss_step=732, train_loss_epoch=770]"
     ]
    },
    {
     "name": "stdout",
     "output_type": "stream",
     "text": [
      "\r",
      "Epoch 21/1000:   2%|▏         | 21/1000 [01:49<1:21:29,  4.99s/it, v_num=0dpl, train_loss_step=786, train_loss_epoch=770]"
     ]
    },
    {
     "name": "stdout",
     "output_type": "stream",
     "text": [
      "\r",
      "Epoch 22/1000:   2%|▏         | 21/1000 [01:49<1:21:29,  4.99s/it, v_num=0dpl, train_loss_step=786, train_loss_epoch=770]"
     ]
    },
    {
     "name": "stdout",
     "output_type": "stream",
     "text": [
      "\r",
      "Epoch 22/1000:   2%|▏         | 22/1000 [01:55<1:24:50,  5.21s/it, v_num=0dpl, train_loss_step=786, train_loss_epoch=770]"
     ]
    },
    {
     "name": "stdout",
     "output_type": "stream",
     "text": [
      "\r",
      "Epoch 22/1000:   2%|▏         | 22/1000 [01:55<1:24:50,  5.21s/it, v_num=0dpl, train_loss_step=847, train_loss_epoch=769]"
     ]
    },
    {
     "name": "stdout",
     "output_type": "stream",
     "text": [
      "\r",
      "Epoch 23/1000:   2%|▏         | 22/1000 [01:55<1:24:50,  5.21s/it, v_num=0dpl, train_loss_step=847, train_loss_epoch=769]"
     ]
    },
    {
     "name": "stdout",
     "output_type": "stream",
     "text": [
      "\r",
      "Epoch 23/1000:   2%|▏         | 23/1000 [01:58<1:16:11,  4.68s/it, v_num=0dpl, train_loss_step=847, train_loss_epoch=769]"
     ]
    },
    {
     "name": "stdout",
     "output_type": "stream",
     "text": [
      "\r",
      "Epoch 23/1000:   2%|▏         | 23/1000 [01:58<1:16:11,  4.68s/it, v_num=0dpl, train_loss_step=765, train_loss_epoch=769]"
     ]
    },
    {
     "name": "stdout",
     "output_type": "stream",
     "text": [
      "\r",
      "Epoch 24/1000:   2%|▏         | 23/1000 [01:58<1:16:11,  4.68s/it, v_num=0dpl, train_loss_step=765, train_loss_epoch=769]"
     ]
    },
    {
     "name": "stdout",
     "output_type": "stream",
     "text": [
      "\r",
      "Epoch 24/1000:   2%|▏         | 24/1000 [02:02<1:09:57,  4.30s/it, v_num=0dpl, train_loss_step=765, train_loss_epoch=769]"
     ]
    },
    {
     "name": "stdout",
     "output_type": "stream",
     "text": [
      "\r",
      "Epoch 24/1000:   2%|▏         | 24/1000 [02:02<1:09:57,  4.30s/it, v_num=0dpl, train_loss_step=795, train_loss_epoch=769]"
     ]
    },
    {
     "name": "stdout",
     "output_type": "stream",
     "text": [
      "\r",
      "Epoch 25/1000:   2%|▏         | 24/1000 [02:02<1:09:57,  4.30s/it, v_num=0dpl, train_loss_step=795, train_loss_epoch=769]"
     ]
    },
    {
     "name": "stdout",
     "output_type": "stream",
     "text": [
      "\r",
      "Epoch 25/1000:   2%|▎         | 25/1000 [02:05<1:05:29,  4.03s/it, v_num=0dpl, train_loss_step=795, train_loss_epoch=769]"
     ]
    },
    {
     "name": "stdout",
     "output_type": "stream",
     "text": [
      "\r",
      "Epoch 25/1000:   2%|▎         | 25/1000 [02:05<1:05:29,  4.03s/it, v_num=0dpl, train_loss_step=833, train_loss_epoch=768]"
     ]
    },
    {
     "name": "stdout",
     "output_type": "stream",
     "text": [
      "\r",
      "Epoch 25/1000:   2%|▎         | 25/1000 [02:05<1:21:34,  5.02s/it, v_num=0dpl, train_loss_step=833, train_loss_epoch=768]"
     ]
    },
    {
     "name": "stdout",
     "output_type": "stream",
     "text": [
      "\n",
      "Monitored metric reconstruction_loss_validation did not improve in the last 10 records. Best score: 782.808. Signaling Trainer to stop.\n"
     ]
    }
   ],
   "source": [
    "model.train(logger=logger, plan_kwargs = plan_kwargs, **trainer_kwargs)"
   ]
  },
  {
   "cell_type": "code",
   "execution_count": 15,
   "id": "c282f6eb-0ad1-40a5-81e6-1acda1545dad",
   "metadata": {
    "execution": {
     "iopub.execute_input": "2024-10-21T09:28:35.071566Z",
     "iopub.status.busy": "2024-10-21T09:28:35.071087Z",
     "iopub.status.idle": "2024-10-21T09:28:38.950552Z",
     "shell.execute_reply": "2024-10-21T09:28:38.949073Z"
    },
    "papermill": {
     "duration": 3.899167,
     "end_time": "2024-10-21T09:28:38.954171",
     "exception": false,
     "start_time": "2024-10-21T09:28:35.055004",
     "status": "completed"
    },
    "tags": []
   },
   "outputs": [
    {
     "name": "stderr",
     "output_type": "stream",
     "text": [
      "\u001b[34m\u001b[1mwandb\u001b[0m: - 0.005 MB of 0.025 MB uploaded\r"
     ]
    },
    {
     "name": "stderr",
     "output_type": "stream",
     "text": [
      "\u001b[34m\u001b[1mwandb\u001b[0m: \\ 0.005 MB of 0.025 MB uploaded\r"
     ]
    },
    {
     "name": "stderr",
     "output_type": "stream",
     "text": [
      "\u001b[34m\u001b[1mwandb\u001b[0m: | 0.025 MB of 0.025 MB uploaded\r"
     ]
    },
    {
     "name": "stderr",
     "output_type": "stream",
     "text": [
      "\u001b[34m\u001b[1mwandb\u001b[0m:                                                                                \n"
     ]
    },
    {
     "name": "stderr",
     "output_type": "stream",
     "text": [
      "\u001b[34m\u001b[1mwandb\u001b[0m: \n",
      "\u001b[34m\u001b[1mwandb\u001b[0m: Run history:\n",
      "\u001b[34m\u001b[1mwandb\u001b[0m:                     elbo_train █▇▆▅▄▄▃▃▃▃▂▂▂▂▂▂▂▂▁▁▁▁▁▁▁\n",
      "\u001b[34m\u001b[1mwandb\u001b[0m:                elbo_validation █▇▅▄▃▃▂▂▂▂▁▁▁▁▁▁▁▁▁▁▁▁▁▁▁\n",
      "\u001b[34m\u001b[1mwandb\u001b[0m:                          epoch ▁▁▁▂▂▂▂▂▂▂▃▃▃▃▃▄▄▄▄▅▅▅▅▅▅▅▆▆▆▆▆▇▇▇▇▇▇███\n",
      "\u001b[34m\u001b[1mwandb\u001b[0m:                kl_global_train ▁▁▁▁▁▁▁▁▁▁▁▁▁▁▁▁▁▁▁▁▁▁▁▁▁\n",
      "\u001b[34m\u001b[1mwandb\u001b[0m:           kl_global_validation ▁▁▁▁▁▁▁▁▁▁▁▁▁▁▁▁▁▁▁▁▁▁▁▁▁\n",
      "\u001b[34m\u001b[1mwandb\u001b[0m:                 kl_local_train ▃█▇▅▄▄▃▃▃▂▂▂▂▂▂▂▂▁▁▁▁▁▁▁▁\n",
      "\u001b[34m\u001b[1mwandb\u001b[0m:            kl_local_validation ▇█▆▅▄▃▃▃▂▂▂▂▂▂▂▂▂▂▁▁▁▁▁▁▁\n",
      "\u001b[34m\u001b[1mwandb\u001b[0m:                      kl_weight ▁▁▁▂▂▂▂▂▂▂▃▃▃▃▃▄▄▄▄▅▅▅▅▅▅▅▆▆▆▆▇▇▇▇▇▇▇███\n",
      "\u001b[34m\u001b[1mwandb\u001b[0m:      reconstruction_loss_train █▅▄▄▄▃▃▃▂▂▂▂▂▂▂▂▁▁▁▁▁▁▁▁▁\n",
      "\u001b[34m\u001b[1mwandb\u001b[0m: reconstruction_loss_validation █▆▅▄▃▃▂▂▂▁▁▁▁▁▁▁▁▁▁▁▁▁▁▁▂\n",
      "\u001b[34m\u001b[1mwandb\u001b[0m:               train_loss_epoch █▅▄▄▃▃▃▃▂▂▂▂▂▂▂▂▁▁▁▁▁▁▁▁▁\n",
      "\u001b[34m\u001b[1mwandb\u001b[0m:                train_loss_step ▆▇▇▇▅▅▃▇▆▇▅█▃▄▃▅▇▃▆▄▄▅▄▄▆▄▆▄▆▅▄▅▃▁▅▅▅▄▆▇\n",
      "\u001b[34m\u001b[1mwandb\u001b[0m:            trainer/global_step ▁▁▁▁▂▂▂▂▂▃▃▃▃▃▃▄▄▄▄▄▄▅▅▅▅▅▆▆▆▆▆▇▇▇▇▇▇███\n",
      "\u001b[34m\u001b[1mwandb\u001b[0m:                validation_loss █▆▅▄▃▂▂▂▁▁▁▁▁▁▁▁▁▁▁▁▁▂▂▂▂\n",
      "\u001b[34m\u001b[1mwandb\u001b[0m: \n",
      "\u001b[34m\u001b[1mwandb\u001b[0m: Run summary:\n",
      "\u001b[34m\u001b[1mwandb\u001b[0m:                     elbo_train 793.17902\n",
      "\u001b[34m\u001b[1mwandb\u001b[0m:                elbo_validation 809.92017\n",
      "\u001b[34m\u001b[1mwandb\u001b[0m:                          epoch 24\n",
      "\u001b[34m\u001b[1mwandb\u001b[0m:                kl_global_train 0.0\n",
      "\u001b[34m\u001b[1mwandb\u001b[0m:           kl_global_validation 0.0\n",
      "\u001b[34m\u001b[1mwandb\u001b[0m:                 kl_local_train 26.5873\n",
      "\u001b[34m\u001b[1mwandb\u001b[0m:            kl_local_validation 25.55638\n",
      "\u001b[34m\u001b[1mwandb\u001b[0m:                      kl_weight 0.06\n",
      "\u001b[34m\u001b[1mwandb\u001b[0m:      reconstruction_loss_train 766.59174\n",
      "\u001b[34m\u001b[1mwandb\u001b[0m: reconstruction_loss_validation 784.36377\n",
      "\u001b[34m\u001b[1mwandb\u001b[0m:               train_loss_epoch 768.18732\n",
      "\u001b[34m\u001b[1mwandb\u001b[0m:                train_loss_step 754.20245\n",
      "\u001b[34m\u001b[1mwandb\u001b[0m:            trainer/global_step 11324\n",
      "\u001b[34m\u001b[1mwandb\u001b[0m:                validation_loss 785.89709\n",
      "\u001b[34m\u001b[1mwandb\u001b[0m: \n"
     ]
    },
    {
     "name": "stderr",
     "output_type": "stream",
     "text": [
      "\u001b[34m\u001b[1mwandb\u001b[0m: 🚀 View run \u001b[33mStep2_B\u001b[0m at: \u001b[34m\u001b[4mhttps://wandb.ai/inflammation/inflammation_atlas_R1/runs/zqul0dpl/workspace\u001b[0m\n",
      "\u001b[34m\u001b[1mwandb\u001b[0m: Synced 6 W&B file(s), 0 media file(s), 0 artifact file(s) and 0 other file(s)\n"
     ]
    },
    {
     "name": "stderr",
     "output_type": "stream",
     "text": [
      "\u001b[34m\u001b[1mwandb\u001b[0m: Find logs at: \u001b[35m\u001b[1m./wandb/run-20241021_092624-zqul0dpl/logs\u001b[0m\n"
     ]
    }
   ],
   "source": [
    "wandb.finish()"
   ]
  },
  {
   "cell_type": "markdown",
   "id": "d9fb1179-83c7-4ac6-b4aa-92dc7a349801",
   "metadata": {
    "papermill": {
     "duration": 0.015475,
     "end_time": "2024-10-21T09:28:38.993255",
     "exception": false,
     "start_time": "2024-10-21T09:28:38.977780",
     "status": "completed"
    },
    "tags": []
   },
   "source": [
    "### Extracting embedding space"
   ]
  },
  {
   "cell_type": "code",
   "execution_count": 16,
   "id": "caaa5832-0123-4c59-8ec6-f46a75f7a14e",
   "metadata": {
    "execution": {
     "iopub.execute_input": "2024-10-21T09:28:39.027595Z",
     "iopub.status.busy": "2024-10-21T09:28:39.027088Z",
     "iopub.status.idle": "2024-10-21T09:28:40.443612Z",
     "shell.execute_reply": "2024-10-21T09:28:40.442302Z"
    },
    "papermill": {
     "duration": 1.442122,
     "end_time": "2024-10-21T09:28:40.446768",
     "exception": false,
     "start_time": "2024-10-21T09:28:39.004646",
     "status": "completed"
    },
    "tags": []
   },
   "outputs": [],
   "source": [
    "adata.obsm['X_scVI'] = model.get_latent_representation()"
   ]
  },
  {
   "cell_type": "markdown",
   "id": "2f03e70b-839c-40a6-9fbb-d76bbd787419",
   "metadata": {
    "papermill": {
     "duration": 0.024142,
     "end_time": "2024-10-21T09:28:40.516762",
     "exception": false,
     "start_time": "2024-10-21T09:28:40.492620",
     "status": "completed"
    },
    "tags": []
   },
   "source": [
    "## Save the results"
   ]
  },
  {
   "cell_type": "code",
   "execution_count": 17,
   "id": "7b04049b-47fd-4b62-a1c0-c43dcc086d34",
   "metadata": {
    "execution": {
     "iopub.execute_input": "2024-10-21T09:28:40.611351Z",
     "iopub.status.busy": "2024-10-21T09:28:40.610387Z",
     "iopub.status.idle": "2024-10-21T09:28:46.280228Z",
     "shell.execute_reply": "2024-10-21T09:28:46.278793Z"
    },
    "papermill": {
     "duration": 5.737213,
     "end_time": "2024-10-21T09:28:46.284568",
     "exception": false,
     "start_time": "2024-10-21T09:28:40.547355",
     "status": "completed"
    },
    "tags": []
   },
   "outputs": [],
   "source": [
    "if overwriteData:\n",
    "    adata.write(here(f\"{workDir}/{cellGroup}/results/02_{annotationLevel}_{cellGroup}_HVGsubset_scVI.h5ad\"), compression=\"gzip\")\n",
    "    model.save(here(f\"{workDir}/{cellGroup}/results/02_{annotationLevel}_{cellGroup}_HVGsubset_scVI_MODEL/\"),\n",
    "               overwrite = True, \n",
    "               save_anndata = False )   "
   ]
  },
  {
   "cell_type": "code",
   "execution_count": 18,
   "id": "629ba2bd-f6be-44ef-8fca-bbdf891bf25f",
   "metadata": {
    "execution": {
     "iopub.execute_input": "2024-10-21T09:28:46.325675Z",
     "iopub.status.busy": "2024-10-21T09:28:46.324327Z",
     "iopub.status.idle": "2024-10-21T09:28:46.330510Z",
     "shell.execute_reply": "2024-10-21T09:28:46.329111Z"
    },
    "papermill": {
     "duration": 0.024843,
     "end_time": "2024-10-21T09:28:46.332547",
     "exception": false,
     "start_time": "2024-10-21T09:28:46.307704",
     "status": "completed"
    },
    "tags": []
   },
   "outputs": [],
   "source": [
    "# To load the model do (after loading corresponding adata):\n",
    "# model = scvi.model.SCVI.load(here('{}/results/01_{}_HVGsubset_scVI_MODEL/'.format(workDir, cellGroup)), \n",
    "#                              adata, \n",
    "#                              use_gpu=True)"
   ]
  },
  {
   "cell_type": "raw",
   "id": "975e84d0-f56b-498d-b3a8-c9219cf22e53",
   "metadata": {
    "papermill": {
     "duration": 0.009395,
     "end_time": "2024-10-21T09:28:46.353994",
     "exception": false,
     "start_time": "2024-10-21T09:28:46.344599",
     "status": "completed"
    },
    "tags": []
   },
   "source": [
    "session_info.show()"
   ]
  }
 ],
 "metadata": {
  "kernelspec": {
   "display_name": "Python 3 (ipykernel)",
   "language": "python",
   "name": "python3"
  },
  "language_info": {
   "codemirror_mode": {
    "name": "ipython",
    "version": 3
   },
   "file_extension": ".py",
   "mimetype": "text/x-python",
   "name": "python",
   "nbconvert_exporter": "python",
   "pygments_lexer": "ipython3",
   "version": "3.9.19"
  },
  "papermill": {
   "default_parameters": {},
   "duration": 154.93261,
   "end_time": "2024-10-21T09:28:48.694211",
   "environment_variables": {},
   "exception": null,
   "input_path": "B/02_integration_scVI.ipynb",
   "output_path": "B/02_integration_scVI.executed.ipynb",
   "parameters": {},
   "start_time": "2024-10-21T09:26:13.761601",
   "version": "2.5.0"
  }
 },
 "nbformat": 4,
 "nbformat_minor": 5
}