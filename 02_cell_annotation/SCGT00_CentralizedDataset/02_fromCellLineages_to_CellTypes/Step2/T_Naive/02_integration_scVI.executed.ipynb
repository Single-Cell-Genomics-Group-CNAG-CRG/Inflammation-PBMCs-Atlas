{
 "cells": [
  {
   "cell_type": "code",
   "execution_count": 1,
   "id": "2dd1425a-0c07-465e-b522-9e3cc5cb93a7",
   "metadata": {
    "execution": {
     "iopub.execute_input": "2024-10-21T09:38:13.480485Z",
     "iopub.status.busy": "2024-10-21T09:38:13.479982Z",
     "iopub.status.idle": "2024-10-21T09:38:17.133747Z",
     "shell.execute_reply": "2024-10-21T09:38:17.133053Z"
    },
    "papermill": {
     "duration": 3.674622,
     "end_time": "2024-10-21T09:38:17.137310",
     "exception": false,
     "start_time": "2024-10-21T09:38:13.462688",
     "status": "completed"
    },
    "tags": []
   },
   "outputs": [
    {
     "name": "stderr",
     "output_type": "stream",
     "text": [
      "/home/dmaspero/miniconda3/envs/scarches/lib/python3.9/site-packages/tqdm/auto.py:21: TqdmWarning: IProgress not found. Please update jupyter and ipywidgets. See https://ipywidgets.readthedocs.io/en/stable/user_install.html\n",
      "  from .autonotebook import tqdm as notebook_tqdm\n"
     ]
    },
    {
     "data": {
      "text/plain": [
       "True"
      ]
     },
     "execution_count": 1,
     "metadata": {},
     "output_type": "execute_result"
    }
   ],
   "source": [
    "import os\n",
    "import sys\n",
    "\n",
    "import numpy as np\n",
    "import matplotlib.pyplot as plt\n",
    "\n",
    "import scanpy as sc\n",
    "import scvi\n",
    "import torch\n",
    "\n",
    "from pytorch_lightning.loggers import WandbLogger\n",
    "import wandb\n",
    "from dotenv import load_dotenv\n",
    "\n",
    "import session_info\n",
    "import warnings\n",
    "from pyprojroot.here import here\n",
    "\n",
    "warnings.filterwarnings(\"ignore\")\n",
    "sys.path.insert(1, str(here('bin')))\n",
    "\n",
    "torch.set_float32_matmul_precision('high')\n",
    "\n",
    "#plt.style.use(['science','nature','no-latex'])\n",
    "dpi_fig_save = 300\n",
    "sc.set_figure_params(dpi=100, dpi_save=dpi_fig_save, vector_friendly=True)\n",
    "\n",
    "load_dotenv(here('.env'))"
   ]
  },
  {
   "cell_type": "code",
   "execution_count": 2,
   "id": "09c897fc-744b-43de-a681-718fb5d327fa",
   "metadata": {
    "execution": {
     "iopub.execute_input": "2024-10-21T09:38:17.162539Z",
     "iopub.status.busy": "2024-10-21T09:38:17.161960Z",
     "iopub.status.idle": "2024-10-21T09:38:17.167267Z",
     "shell.execute_reply": "2024-10-21T09:38:17.166070Z"
    },
    "papermill": {
     "duration": 0.020614,
     "end_time": "2024-10-21T09:38:17.169659",
     "exception": false,
     "start_time": "2024-10-21T09:38:17.149045",
     "status": "completed"
    },
    "tags": []
   },
   "outputs": [],
   "source": [
    "class CustomWandbLogger(WandbLogger):\n",
    "    @property\n",
    "    def save_dir(self):\n",
    "        return self.experiment.dir"
   ]
  },
  {
   "cell_type": "code",
   "execution_count": 3,
   "id": "8ee6662f-5d45-4137-80a5-bb0b9ae8d71f",
   "metadata": {
    "execution": {
     "iopub.execute_input": "2024-10-21T09:38:17.191445Z",
     "iopub.status.busy": "2024-10-21T09:38:17.190400Z",
     "iopub.status.idle": "2024-10-21T09:38:17.201420Z",
     "shell.execute_reply": "2024-10-21T09:38:17.200315Z"
    },
    "papermill": {
     "duration": 0.025231,
     "end_time": "2024-10-21T09:38:17.204336",
     "exception": false,
     "start_time": "2024-10-21T09:38:17.179105",
     "status": "completed"
    },
    "tags": []
   },
   "outputs": [
    {
     "name": "stderr",
     "output_type": "stream",
     "text": [
      "Seed set to 0\n"
     ]
    },
    {
     "name": "stdout",
     "output_type": "stream",
     "text": [
      "Last run with scvi-tools version: 1.1.2\n"
     ]
    }
   ],
   "source": [
    "scvi.settings.seed = 0\n",
    "print(\"Last run with scvi-tools version:\", scvi.__version__)"
   ]
  },
  {
   "cell_type": "markdown",
   "id": "a81037ff-5998-482a-ba86-520f757311a9",
   "metadata": {
    "papermill": {
     "duration": 0.041267,
     "end_time": "2024-10-21T09:38:17.257732",
     "exception": false,
     "start_time": "2024-10-21T09:38:17.216465",
     "status": "completed"
    },
    "tags": []
   },
   "source": [
    "**Setting parameters** "
   ]
  },
  {
   "cell_type": "code",
   "execution_count": 4,
   "id": "56c27966-8f10-4c93-8b1a-1fa75f005e41",
   "metadata": {
    "execution": {
     "iopub.execute_input": "2024-10-21T09:38:17.284210Z",
     "iopub.status.busy": "2024-10-21T09:38:17.283251Z",
     "iopub.status.idle": "2024-10-21T09:38:17.288695Z",
     "shell.execute_reply": "2024-10-21T09:38:17.287623Z"
    },
    "papermill": {
     "duration": 0.022064,
     "end_time": "2024-10-21T09:38:17.291910",
     "exception": false,
     "start_time": "2024-10-21T09:38:17.269846",
     "status": "completed"
    },
    "tags": []
   },
   "outputs": [],
   "source": [
    "overwriteFigures = True\n",
    "overwriteData = True"
   ]
  },
  {
   "cell_type": "code",
   "execution_count": 5,
   "id": "c86fccd3-a4fe-415b-8f4e-e2ceb3ec128a",
   "metadata": {
    "execution": {
     "iopub.execute_input": "2024-10-21T09:38:17.327293Z",
     "iopub.status.busy": "2024-10-21T09:38:17.326239Z",
     "iopub.status.idle": "2024-10-21T09:38:17.332186Z",
     "shell.execute_reply": "2024-10-21T09:38:17.331058Z"
    },
    "papermill": {
     "duration": 0.023053,
     "end_time": "2024-10-21T09:38:17.335455",
     "exception": false,
     "start_time": "2024-10-21T09:38:17.312402",
     "status": "completed"
    },
    "tags": []
   },
   "outputs": [],
   "source": [
    "cellGroup = 'T_Naive'\n",
    "workDir = os.getcwd()"
   ]
  },
  {
   "cell_type": "code",
   "execution_count": 6,
   "id": "2dee4d55-d168-467b-b867-a61fed9d6af1",
   "metadata": {
    "execution": {
     "iopub.execute_input": "2024-10-21T09:38:17.375350Z",
     "iopub.status.busy": "2024-10-21T09:38:17.374481Z",
     "iopub.status.idle": "2024-10-21T09:38:17.380942Z",
     "shell.execute_reply": "2024-10-21T09:38:17.379534Z"
    },
    "papermill": {
     "duration": 0.036637,
     "end_time": "2024-10-21T09:38:17.384367",
     "exception": false,
     "start_time": "2024-10-21T09:38:17.347730",
     "status": "completed"
    },
    "tags": []
   },
   "outputs": [],
   "source": [
    "annotationLevel = os.path.basename(os.path.normpath(workDir))"
   ]
  },
  {
   "cell_type": "code",
   "execution_count": 7,
   "id": "11e53cd5-b746-4152-89cb-c2f0c15d90b3",
   "metadata": {
    "execution": {
     "iopub.execute_input": "2024-10-21T09:38:17.485440Z",
     "iopub.status.busy": "2024-10-21T09:38:17.484930Z",
     "iopub.status.idle": "2024-10-21T09:38:17.493599Z",
     "shell.execute_reply": "2024-10-21T09:38:17.492233Z"
    },
    "papermill": {
     "duration": 0.100764,
     "end_time": "2024-10-21T09:38:17.497101",
     "exception": false,
     "start_time": "2024-10-21T09:38:17.396337",
     "status": "completed"
    },
    "tags": []
   },
   "outputs": [
    {
     "data": {
      "text/plain": [
       "'/scratch_isilon/groups/singlecell/shared/projects/Inflammation-PBMCs-Atlas/02_cell_annotation/SCGT00_CentralizedDataset/02_fromCellLineages_to_CellTypes/Step2'"
      ]
     },
     "execution_count": 7,
     "metadata": {},
     "output_type": "execute_result"
    }
   ],
   "source": [
    "workDir"
   ]
  },
  {
   "cell_type": "markdown",
   "id": "171d2f06-9a44-4fcb-b437-35dc546674b6",
   "metadata": {
    "papermill": {
     "duration": 0.012357,
     "end_time": "2024-10-21T09:38:17.524052",
     "exception": false,
     "start_time": "2024-10-21T09:38:17.511695",
     "status": "completed"
    },
    "tags": []
   },
   "source": [
    "**Load data**"
   ]
  },
  {
   "cell_type": "code",
   "execution_count": 8,
   "id": "429f34fe-dde6-4cc9-9f75-7de8f85c5ffe",
   "metadata": {
    "execution": {
     "iopub.execute_input": "2024-10-21T09:38:17.549456Z",
     "iopub.status.busy": "2024-10-21T09:38:17.548848Z",
     "iopub.status.idle": "2024-10-21T09:38:26.243379Z",
     "shell.execute_reply": "2024-10-21T09:38:26.242684Z"
    },
    "papermill": {
     "duration": 8.709852,
     "end_time": "2024-10-21T09:38:26.246828",
     "exception": false,
     "start_time": "2024-10-21T09:38:17.536976",
     "status": "completed"
    },
    "tags": []
   },
   "outputs": [
    {
     "data": {
      "text/plain": [
       "AnnData object with n_obs × n_vars = 260868 × 3410\n",
       "    obs: 'studyID', 'libraryID', 'sampleID', 'chemistry', 'technology', 'patientID', 'disease', 'timepoint_replicate', 'treatmentStatus', 'therapyResponse', 'sex', 'age', 'BMI', 'binned_age', 'diseaseStatus', 'smokingStatus', 'ethnicity', 'institute', 'diseaseGroup', 'batches', 'n_genes_by_counts', 'log1p_n_genes_by_counts', 'total_counts', 'log1p_total_counts', 'pct_counts_in_top_20_genes', 'total_counts_mt', 'log1p_total_counts_mt', 'pct_counts_mt', 'total_counts_ribo', 'log1p_total_counts_ribo', 'pct_counts_ribo', 'total_counts_hb', 'log1p_total_counts_hb', 'pct_counts_hb', 'total_counts_plt', 'log1p_total_counts_plt', 'pct_counts_plt', 'S_score', 'G2M_score', 'phase'\n",
       "    var: 'hgnc_id', 'symbol', 'locus_group', 'HUGO_status', 'mt', 'ribo', 'hb', 'plt', 'n_cells_by_counts', 'mean_counts', 'log1p_mean_counts', 'pct_dropout_by_counts', 'total_counts', 'log1p_total_counts', 'highly_variable', 'means', 'dispersions', 'dispersions_norm', 'highly_variable_nbatches', 'highly_variable_intersection'\n",
       "    uns: 'disease_colors', 'hvg', 'log1p'\n",
       "    layers: 'counts', 'log1p_10e4_counts'"
      ]
     },
     "execution_count": 8,
     "metadata": {},
     "output_type": "execute_result"
    }
   ],
   "source": [
    "adata = sc.read_h5ad(here(f\"{workDir}/{cellGroup}/results/01_{cellGroup}_normalized_HVGsubset.h5ad\"))\n",
    "adata"
   ]
  },
  {
   "cell_type": "markdown",
   "id": "8ac79f3b-d5af-41fa-8904-1e9ac1cbe2fb",
   "metadata": {
    "papermill": {
     "duration": 0.012951,
     "end_time": "2024-10-21T09:38:26.289717",
     "exception": false,
     "start_time": "2024-10-21T09:38:26.276766",
     "status": "completed"
    },
    "tags": []
   },
   "source": [
    "## scVI integration"
   ]
  },
  {
   "cell_type": "markdown",
   "id": "9544847d-d17f-4811-b14b-760446d54d32",
   "metadata": {
    "execution": {
     "iopub.execute_input": "2024-03-25T16:49:04.004504Z",
     "iopub.status.busy": "2024-03-25T16:49:04.004143Z",
     "iopub.status.idle": "2024-03-25T16:49:04.010148Z",
     "shell.execute_reply": "2024-03-25T16:49:04.009146Z",
     "shell.execute_reply.started": "2024-03-25T16:49:04.004477Z"
    },
    "papermill": {
     "duration": 0.012308,
     "end_time": "2024-10-21T09:38:26.327381",
     "exception": false,
     "start_time": "2024-10-21T09:38:26.315073",
     "status": "completed"
    },
    "tags": []
   },
   "source": [
    "**scVI parameters**"
   ]
  },
  {
   "cell_type": "code",
   "execution_count": 9,
   "id": "208966eb-545a-4c02-854c-0ed0487ef5b3",
   "metadata": {
    "execution": {
     "iopub.execute_input": "2024-10-21T09:38:26.352433Z",
     "iopub.status.busy": "2024-10-21T09:38:26.352199Z",
     "iopub.status.idle": "2024-10-21T09:38:26.357192Z",
     "shell.execute_reply": "2024-10-21T09:38:26.356516Z"
    },
    "papermill": {
     "duration": 0.019772,
     "end_time": "2024-10-21T09:38:26.359559",
     "exception": false,
     "start_time": "2024-10-21T09:38:26.339787",
     "status": "completed"
    },
    "tags": []
   },
   "outputs": [],
   "source": [
    "# https://docs.scvi-tools.org/en/stable/api/reference/scvi.train.Trainer.html#scvi.train.Trainer\n",
    "setup_kwargs = dict(\n",
    "    layer=\"counts\", \n",
    "    batch_key='libraryID', \n",
    "    categorical_covariate_keys = ['disease', 'sampleID'],\n",
    ")\n",
    "\n",
    "scvi_kwargs = dict(n_hidden=512,\n",
    "                   n_latent=10, # reduced to 20 after step 00 (main) and to 10 after step 03\n",
    "                   n_layers=2,\n",
    "                   gene_likelihood='nb')\n",
    "\n",
    "trainer_kwargs = dict(\n",
    "    checkpointing_monitor = 'elbo_validation',\n",
    "    early_stopping_monitor = 'reconstruction_loss_validation',\n",
    "    early_stopping_patience = 10,\n",
    "    early_stopping_min_delta=0.1,\n",
    "    early_stopping = True,\n",
    "    max_epochs = 1000,\n",
    "\n",
    "    #logger = # wandb\n",
    ")\n",
    "# https://docs.scvi-tools.org/en/stable/api/reference/scvi.train.TrainingPlan.html#scvi.train.TrainingPlan\n",
    "plan_kwargs = dict(\n",
    "    lr = 5e-4,\n",
    "    #reduce_lr_on_plateau = True\n",
    ")\n",
    "\n",
    "# https://docs.scvi-tools.org/en/stable/api/reference/scvi.module.VAE.html#scvi.module.VAE\n",
    "#vae = dict(\n",
    "#    use_layer_norm='both',\n",
    "#    use_batch_norm='none',\n",
    "#    encode_covariates=True,\n",
    "#    deeply_inject_covariates=False\n",
    "#)\n",
    "parameter_dict = setup_kwargs | scvi_kwargs | trainer_kwargs | plan_kwargs"
   ]
  },
  {
   "cell_type": "markdown",
   "id": "1362366a-c16b-4c11-964b-b9c5f82f7b29",
   "metadata": {
    "papermill": {
     "duration": 0.010621,
     "end_time": "2024-10-21T09:38:26.381434",
     "exception": false,
     "start_time": "2024-10-21T09:38:26.370813",
     "status": "completed"
    },
    "tags": []
   },
   "source": [
    "**wandb parameter**"
   ]
  },
  {
   "cell_type": "code",
   "execution_count": 10,
   "id": "0496e33a-8ca5-423f-b42f-34a59760708c",
   "metadata": {
    "execution": {
     "iopub.execute_input": "2024-10-21T09:38:26.402991Z",
     "iopub.status.busy": "2024-10-21T09:38:26.402813Z",
     "iopub.status.idle": "2024-10-21T09:38:26.407478Z",
     "shell.execute_reply": "2024-10-21T09:38:26.406805Z"
    },
    "papermill": {
     "duration": 0.018081,
     "end_time": "2024-10-21T09:38:26.409863",
     "exception": false,
     "start_time": "2024-10-21T09:38:26.391782",
     "status": "completed"
    },
    "tags": []
   },
   "outputs": [
    {
     "data": {
      "text/plain": [
       "'Step2_T_Naive'"
      ]
     },
     "execution_count": 10,
     "metadata": {},
     "output_type": "execute_result"
    }
   ],
   "source": [
    "run_name = f\"{annotationLevel}_{cellGroup}\"\n",
    "run_name"
   ]
  },
  {
   "cell_type": "code",
   "execution_count": 11,
   "id": "b0021327-95a2-4002-bf32-2c5779a99505",
   "metadata": {
    "execution": {
     "iopub.execute_input": "2024-10-21T09:38:26.432438Z",
     "iopub.status.busy": "2024-10-21T09:38:26.432248Z",
     "iopub.status.idle": "2024-10-21T09:38:26.460126Z",
     "shell.execute_reply": "2024-10-21T09:38:26.459176Z"
    },
    "papermill": {
     "duration": 0.040505,
     "end_time": "2024-10-21T09:38:26.462384",
     "exception": false,
     "start_time": "2024-10-21T09:38:26.421879",
     "status": "completed"
    },
    "tags": []
   },
   "outputs": [],
   "source": [
    "logger = CustomWandbLogger(name = run_name, project='inflammation_atlas_R1', config=parameter_dict)"
   ]
  },
  {
   "cell_type": "markdown",
   "id": "c237eee1-a976-4915-9b7f-b014bf33f47d",
   "metadata": {
    "papermill": {
     "duration": 0.013135,
     "end_time": "2024-10-21T09:38:26.489191",
     "exception": false,
     "start_time": "2024-10-21T09:38:26.476056",
     "status": "completed"
    },
    "tags": []
   },
   "source": [
    "**Running integration**"
   ]
  },
  {
   "cell_type": "code",
   "execution_count": 12,
   "id": "aff97c53-1aba-462e-8a77-f1aec9cf724c",
   "metadata": {
    "execution": {
     "iopub.execute_input": "2024-10-21T09:38:26.529167Z",
     "iopub.status.busy": "2024-10-21T09:38:26.528983Z",
     "iopub.status.idle": "2024-10-21T09:38:26.649607Z",
     "shell.execute_reply": "2024-10-21T09:38:26.648713Z"
    },
    "papermill": {
     "duration": 0.136591,
     "end_time": "2024-10-21T09:38:26.651294",
     "exception": false,
     "start_time": "2024-10-21T09:38:26.514703",
     "status": "completed"
    },
    "tags": []
   },
   "outputs": [
    {
     "name": "stderr",
     "output_type": "stream",
     "text": [
      "CUDA backend failed to initialize: Unable to use CUDA because of the following issues with CUDA components:\n",
      "Outdated cuSPARSE installation found.\n",
      "Version JAX was built against: 12200\n",
      "Minimum supported: 12100\n",
      "Installed version: 12002\n",
      "The local installation version must be no lower than 12100. (Set TF_CPP_MIN_LOG_LEVEL=0 and rerun for more info.)\n"
     ]
    }
   ],
   "source": [
    "scvi.model.SCVI.setup_anndata(adata, \n",
    "                              **setup_kwargs)"
   ]
  },
  {
   "cell_type": "code",
   "execution_count": 13,
   "id": "1a56f448-cf44-47c1-81a4-a89caa930fec",
   "metadata": {
    "execution": {
     "iopub.execute_input": "2024-10-21T09:38:26.690117Z",
     "iopub.status.busy": "2024-10-21T09:38:26.689067Z",
     "iopub.status.idle": "2024-10-21T09:38:26.947556Z",
     "shell.execute_reply": "2024-10-21T09:38:26.946673Z"
    },
    "papermill": {
     "duration": 0.291542,
     "end_time": "2024-10-21T09:38:26.949139",
     "exception": false,
     "start_time": "2024-10-21T09:38:26.657597",
     "status": "completed"
    },
    "tags": []
   },
   "outputs": [],
   "source": [
    "model = scvi.model.SCVI(adata, **scvi_kwargs)"
   ]
  },
  {
   "cell_type": "code",
   "execution_count": 14,
   "id": "2735f010-4f24-4ae8-9740-a8cfeb335e9a",
   "metadata": {
    "execution": {
     "iopub.execute_input": "2024-10-21T09:38:26.965060Z",
     "iopub.status.busy": "2024-10-21T09:38:26.964771Z",
     "iopub.status.idle": "2024-10-21T09:45:49.490066Z",
     "shell.execute_reply": "2024-10-21T09:45:49.489455Z"
    },
    "papermill": {
     "duration": 442.536985,
     "end_time": "2024-10-21T09:45:49.493051",
     "exception": false,
     "start_time": "2024-10-21T09:38:26.956066",
     "status": "completed"
    },
    "tags": []
   },
   "outputs": [
    {
     "name": "stderr",
     "output_type": "stream",
     "text": [
      "GPU available: True (cuda), used: True\n"
     ]
    },
    {
     "name": "stderr",
     "output_type": "stream",
     "text": [
      "TPU available: False, using: 0 TPU cores\n"
     ]
    },
    {
     "name": "stderr",
     "output_type": "stream",
     "text": [
      "IPU available: False, using: 0 IPUs\n"
     ]
    },
    {
     "name": "stderr",
     "output_type": "stream",
     "text": [
      "HPU available: False, using: 0 HPUs\n"
     ]
    },
    {
     "name": "stderr",
     "output_type": "stream",
     "text": [
      "\u001b[34m\u001b[1mwandb\u001b[0m: Currently logged in as: \u001b[33mdav1989\u001b[0m (\u001b[33minflammation\u001b[0m). Use \u001b[1m`wandb login --relogin`\u001b[0m to force relogin\n"
     ]
    },
    {
     "name": "stderr",
     "output_type": "stream",
     "text": [
      "\u001b[34m\u001b[1mwandb\u001b[0m: wandb version 0.18.5 is available!  To upgrade, please run:\n",
      "\u001b[34m\u001b[1mwandb\u001b[0m:  $ pip install wandb --upgrade\n"
     ]
    },
    {
     "name": "stderr",
     "output_type": "stream",
     "text": [
      "\u001b[34m\u001b[1mwandb\u001b[0m: Tracking run with wandb version 0.16.5\n"
     ]
    },
    {
     "name": "stderr",
     "output_type": "stream",
     "text": [
      "\u001b[34m\u001b[1mwandb\u001b[0m: Run data is saved locally in \u001b[35m\u001b[1m./wandb/run-20241021_093829-mh9msnv7\u001b[0m\n",
      "\u001b[34m\u001b[1mwandb\u001b[0m: Run \u001b[1m`wandb offline`\u001b[0m to turn off syncing.\n"
     ]
    },
    {
     "name": "stderr",
     "output_type": "stream",
     "text": [
      "\u001b[34m\u001b[1mwandb\u001b[0m: Syncing run \u001b[33mStep2_T_Naive\u001b[0m\n"
     ]
    },
    {
     "name": "stderr",
     "output_type": "stream",
     "text": [
      "\u001b[34m\u001b[1mwandb\u001b[0m: ⭐️ View project at \u001b[34m\u001b[4mhttps://wandb.ai/inflammation/inflammation_atlas_R1\u001b[0m\n"
     ]
    },
    {
     "name": "stderr",
     "output_type": "stream",
     "text": [
      "\u001b[34m\u001b[1mwandb\u001b[0m: 🚀 View run at \u001b[34m\u001b[4mhttps://wandb.ai/inflammation/inflammation_atlas_R1/runs/mh9msnv7/workspace\u001b[0m\n"
     ]
    },
    {
     "name": "stderr",
     "output_type": "stream",
     "text": [
      "LOCAL_RANK: 0 - CUDA_VISIBLE_DEVICES: [0]\n"
     ]
    },
    {
     "name": "stdout",
     "output_type": "stream",
     "text": [
      "\r",
      "Training:   0%|          | 0/1000 [00:00<?, ?it/s]"
     ]
    },
    {
     "name": "stdout",
     "output_type": "stream",
     "text": [
      "\r",
      "Epoch 1/1000:   0%|          | 0/1000 [00:00<?, ?it/s]"
     ]
    },
    {
     "name": "stdout",
     "output_type": "stream",
     "text": [
      "\r",
      "Epoch 1/1000:   0%|          | 1/1000 [00:23<6:24:10, 23.07s/it]"
     ]
    },
    {
     "name": "stdout",
     "output_type": "stream",
     "text": [
      "\r",
      "Epoch 1/1000:   0%|          | 1/1000 [00:23<6:24:10, 23.07s/it, v_num=snv7, train_loss_step=975, train_loss_epoch=927]"
     ]
    },
    {
     "name": "stdout",
     "output_type": "stream",
     "text": [
      "\r",
      "Epoch 2/1000:   0%|          | 1/1000 [00:23<6:24:10, 23.07s/it, v_num=snv7, train_loss_step=975, train_loss_epoch=927]"
     ]
    },
    {
     "name": "stdout",
     "output_type": "stream",
     "text": [
      "\r",
      "Epoch 2/1000:   0%|          | 2/1000 [00:47<6:37:38, 23.91s/it, v_num=snv7, train_loss_step=975, train_loss_epoch=927]"
     ]
    },
    {
     "name": "stdout",
     "output_type": "stream",
     "text": [
      "\r",
      "Epoch 2/1000:   0%|          | 2/1000 [00:47<6:37:38, 23.91s/it, v_num=snv7, train_loss_step=880, train_loss_epoch=910]"
     ]
    },
    {
     "name": "stdout",
     "output_type": "stream",
     "text": [
      "\r",
      "Epoch 3/1000:   0%|          | 2/1000 [00:47<6:37:38, 23.91s/it, v_num=snv7, train_loss_step=880, train_loss_epoch=910]"
     ]
    },
    {
     "name": "stdout",
     "output_type": "stream",
     "text": [
      "\r",
      "Epoch 3/1000:   0%|          | 3/1000 [01:11<6:33:49, 23.70s/it, v_num=snv7, train_loss_step=880, train_loss_epoch=910]"
     ]
    },
    {
     "name": "stdout",
     "output_type": "stream",
     "text": [
      "\r",
      "Epoch 3/1000:   0%|          | 3/1000 [01:11<6:33:49, 23.70s/it, v_num=snv7, train_loss_step=865, train_loss_epoch=905]"
     ]
    },
    {
     "name": "stdout",
     "output_type": "stream",
     "text": [
      "\r",
      "Epoch 4/1000:   0%|          | 3/1000 [01:11<6:33:49, 23.70s/it, v_num=snv7, train_loss_step=865, train_loss_epoch=905]"
     ]
    },
    {
     "name": "stdout",
     "output_type": "stream",
     "text": [
      "\r",
      "Epoch 4/1000:   0%|          | 4/1000 [01:34<6:30:48, 23.54s/it, v_num=snv7, train_loss_step=865, train_loss_epoch=905]"
     ]
    },
    {
     "name": "stdout",
     "output_type": "stream",
     "text": [
      "\r",
      "Epoch 4/1000:   0%|          | 4/1000 [01:34<6:30:48, 23.54s/it, v_num=snv7, train_loss_step=932, train_loss_epoch=902]"
     ]
    },
    {
     "name": "stdout",
     "output_type": "stream",
     "text": [
      "\r",
      "Epoch 5/1000:   0%|          | 4/1000 [01:34<6:30:48, 23.54s/it, v_num=snv7, train_loss_step=932, train_loss_epoch=902]"
     ]
    },
    {
     "name": "stdout",
     "output_type": "stream",
     "text": [
      "\r",
      "Epoch 5/1000:   0%|          | 5/1000 [01:57<6:29:27, 23.49s/it, v_num=snv7, train_loss_step=932, train_loss_epoch=902]"
     ]
    },
    {
     "name": "stdout",
     "output_type": "stream",
     "text": [
      "\r",
      "Epoch 5/1000:   0%|          | 5/1000 [01:57<6:29:27, 23.49s/it, v_num=snv7, train_loss_step=839, train_loss_epoch=900]"
     ]
    },
    {
     "name": "stdout",
     "output_type": "stream",
     "text": [
      "\r",
      "Epoch 6/1000:   0%|          | 5/1000 [01:57<6:29:27, 23.49s/it, v_num=snv7, train_loss_step=839, train_loss_epoch=900]"
     ]
    },
    {
     "name": "stdout",
     "output_type": "stream",
     "text": [
      "\r",
      "Epoch 6/1000:   1%|          | 6/1000 [02:21<6:29:17, 23.50s/it, v_num=snv7, train_loss_step=839, train_loss_epoch=900]"
     ]
    },
    {
     "name": "stdout",
     "output_type": "stream",
     "text": [
      "\r",
      "Epoch 6/1000:   1%|          | 6/1000 [02:21<6:29:17, 23.50s/it, v_num=snv7, train_loss_step=912, train_loss_epoch=899]"
     ]
    },
    {
     "name": "stdout",
     "output_type": "stream",
     "text": [
      "\r",
      "Epoch 7/1000:   1%|          | 6/1000 [02:21<6:29:17, 23.50s/it, v_num=snv7, train_loss_step=912, train_loss_epoch=899]"
     ]
    },
    {
     "name": "stdout",
     "output_type": "stream",
     "text": [
      "\r",
      "Epoch 7/1000:   1%|          | 7/1000 [02:44<6:28:49, 23.49s/it, v_num=snv7, train_loss_step=912, train_loss_epoch=899]"
     ]
    },
    {
     "name": "stdout",
     "output_type": "stream",
     "text": [
      "\r",
      "Epoch 7/1000:   1%|          | 7/1000 [02:44<6:28:49, 23.49s/it, v_num=snv7, train_loss_step=912, train_loss_epoch=899]"
     ]
    },
    {
     "name": "stdout",
     "output_type": "stream",
     "text": [
      "\r",
      "Epoch 8/1000:   1%|          | 7/1000 [02:44<6:28:49, 23.49s/it, v_num=snv7, train_loss_step=912, train_loss_epoch=899]"
     ]
    },
    {
     "name": "stdout",
     "output_type": "stream",
     "text": [
      "\r",
      "Epoch 8/1000:   1%|          | 8/1000 [03:08<6:28:11, 23.48s/it, v_num=snv7, train_loss_step=912, train_loss_epoch=899]"
     ]
    },
    {
     "name": "stdout",
     "output_type": "stream",
     "text": [
      "\r",
      "Epoch 8/1000:   1%|          | 8/1000 [03:08<6:28:11, 23.48s/it, v_num=snv7, train_loss_step=998, train_loss_epoch=898]"
     ]
    },
    {
     "name": "stdout",
     "output_type": "stream",
     "text": [
      "\r",
      "Epoch 9/1000:   1%|          | 8/1000 [03:08<6:28:11, 23.48s/it, v_num=snv7, train_loss_step=998, train_loss_epoch=898]"
     ]
    },
    {
     "name": "stdout",
     "output_type": "stream",
     "text": [
      "\r",
      "Epoch 9/1000:   1%|          | 9/1000 [03:24<5:51:33, 21.29s/it, v_num=snv7, train_loss_step=998, train_loss_epoch=898]"
     ]
    },
    {
     "name": "stdout",
     "output_type": "stream",
     "text": [
      "\r",
      "Epoch 9/1000:   1%|          | 9/1000 [03:24<5:51:33, 21.29s/it, v_num=snv7, train_loss_step=880, train_loss_epoch=898]"
     ]
    },
    {
     "name": "stdout",
     "output_type": "stream",
     "text": [
      "\r",
      "Epoch 10/1000:   1%|          | 9/1000 [03:24<5:51:33, 21.29s/it, v_num=snv7, train_loss_step=880, train_loss_epoch=898]"
     ]
    },
    {
     "name": "stdout",
     "output_type": "stream",
     "text": [
      "\r",
      "Epoch 10/1000:   1%|          | 10/1000 [03:46<5:54:43, 21.50s/it, v_num=snv7, train_loss_step=880, train_loss_epoch=898]"
     ]
    },
    {
     "name": "stdout",
     "output_type": "stream",
     "text": [
      "\r",
      "Epoch 10/1000:   1%|          | 10/1000 [03:46<5:54:43, 21.50s/it, v_num=snv7, train_loss_step=851, train_loss_epoch=898]"
     ]
    },
    {
     "name": "stdout",
     "output_type": "stream",
     "text": [
      "\r",
      "Epoch 11/1000:   1%|          | 10/1000 [03:46<5:54:43, 21.50s/it, v_num=snv7, train_loss_step=851, train_loss_epoch=898]"
     ]
    },
    {
     "name": "stdout",
     "output_type": "stream",
     "text": [
      "\r",
      "Epoch 11/1000:   1%|          | 11/1000 [04:10<6:08:05, 22.33s/it, v_num=snv7, train_loss_step=851, train_loss_epoch=898]"
     ]
    },
    {
     "name": "stdout",
     "output_type": "stream",
     "text": [
      "\r",
      "Epoch 11/1000:   1%|          | 11/1000 [04:10<6:08:05, 22.33s/it, v_num=snv7, train_loss_step=904, train_loss_epoch=897]"
     ]
    },
    {
     "name": "stdout",
     "output_type": "stream",
     "text": [
      "\r",
      "Epoch 12/1000:   1%|          | 11/1000 [04:10<6:08:05, 22.33s/it, v_num=snv7, train_loss_step=904, train_loss_epoch=897]"
     ]
    },
    {
     "name": "stdout",
     "output_type": "stream",
     "text": [
      "\r",
      "Epoch 12/1000:   1%|          | 12/1000 [04:30<5:52:54, 21.43s/it, v_num=snv7, train_loss_step=904, train_loss_epoch=897]"
     ]
    },
    {
     "name": "stdout",
     "output_type": "stream",
     "text": [
      "\r",
      "Epoch 12/1000:   1%|          | 12/1000 [04:30<5:52:54, 21.43s/it, v_num=snv7, train_loss_step=840, train_loss_epoch=897]"
     ]
    },
    {
     "name": "stdout",
     "output_type": "stream",
     "text": [
      "\r",
      "Epoch 13/1000:   1%|          | 12/1000 [04:30<5:52:54, 21.43s/it, v_num=snv7, train_loss_step=840, train_loss_epoch=897]"
     ]
    },
    {
     "name": "stdout",
     "output_type": "stream",
     "text": [
      "\r",
      "Epoch 13/1000:   1%|▏         | 13/1000 [04:47<5:32:11, 20.19s/it, v_num=snv7, train_loss_step=840, train_loss_epoch=897]"
     ]
    },
    {
     "name": "stdout",
     "output_type": "stream",
     "text": [
      "\r",
      "Epoch 13/1000:   1%|▏         | 13/1000 [04:47<5:32:11, 20.19s/it, v_num=snv7, train_loss_step=888, train_loss_epoch=897]"
     ]
    },
    {
     "name": "stdout",
     "output_type": "stream",
     "text": [
      "\r",
      "Epoch 14/1000:   1%|▏         | 13/1000 [04:47<5:32:11, 20.19s/it, v_num=snv7, train_loss_step=888, train_loss_epoch=897]"
     ]
    },
    {
     "name": "stdout",
     "output_type": "stream",
     "text": [
      "\r",
      "Epoch 14/1000:   1%|▏         | 14/1000 [05:02<5:05:03, 18.56s/it, v_num=snv7, train_loss_step=888, train_loss_epoch=897]"
     ]
    },
    {
     "name": "stdout",
     "output_type": "stream",
     "text": [
      "\r",
      "Epoch 14/1000:   1%|▏         | 14/1000 [05:02<5:05:03, 18.56s/it, v_num=snv7, train_loss_step=989, train_loss_epoch=897]"
     ]
    },
    {
     "name": "stdout",
     "output_type": "stream",
     "text": [
      "\r",
      "Epoch 15/1000:   1%|▏         | 14/1000 [05:02<5:05:03, 18.56s/it, v_num=snv7, train_loss_step=989, train_loss_epoch=897]"
     ]
    },
    {
     "name": "stdout",
     "output_type": "stream",
     "text": [
      "\r",
      "Epoch 15/1000:   2%|▏         | 15/1000 [05:23<5:19:24, 19.46s/it, v_num=snv7, train_loss_step=989, train_loss_epoch=897]"
     ]
    },
    {
     "name": "stdout",
     "output_type": "stream",
     "text": [
      "\r",
      "Epoch 15/1000:   2%|▏         | 15/1000 [05:23<5:19:24, 19.46s/it, v_num=snv7, train_loss_step=857, train_loss_epoch=897]"
     ]
    },
    {
     "name": "stdout",
     "output_type": "stream",
     "text": [
      "\r",
      "Epoch 16/1000:   2%|▏         | 15/1000 [05:23<5:19:24, 19.46s/it, v_num=snv7, train_loss_step=857, train_loss_epoch=897]"
     ]
    },
    {
     "name": "stdout",
     "output_type": "stream",
     "text": [
      "\r",
      "Epoch 16/1000:   2%|▏         | 16/1000 [05:47<5:37:57, 20.61s/it, v_num=snv7, train_loss_step=857, train_loss_epoch=897]"
     ]
    },
    {
     "name": "stdout",
     "output_type": "stream",
     "text": [
      "\r",
      "Epoch 16/1000:   2%|▏         | 16/1000 [05:47<5:37:57, 20.61s/it, v_num=snv7, train_loss_step=841, train_loss_epoch=896]"
     ]
    },
    {
     "name": "stdout",
     "output_type": "stream",
     "text": [
      "\r",
      "Epoch 17/1000:   2%|▏         | 16/1000 [05:47<5:37:57, 20.61s/it, v_num=snv7, train_loss_step=841, train_loss_epoch=896]"
     ]
    },
    {
     "name": "stdout",
     "output_type": "stream",
     "text": [
      "\r",
      "Epoch 17/1000:   2%|▏         | 17/1000 [06:04<5:20:44, 19.58s/it, v_num=snv7, train_loss_step=841, train_loss_epoch=896]"
     ]
    },
    {
     "name": "stdout",
     "output_type": "stream",
     "text": [
      "\r",
      "Epoch 17/1000:   2%|▏         | 17/1000 [06:04<5:20:44, 19.58s/it, v_num=snv7, train_loss_step=876, train_loss_epoch=896]"
     ]
    },
    {
     "name": "stdout",
     "output_type": "stream",
     "text": [
      "\r",
      "Epoch 18/1000:   2%|▏         | 17/1000 [06:04<5:20:44, 19.58s/it, v_num=snv7, train_loss_step=876, train_loss_epoch=896]"
     ]
    },
    {
     "name": "stdout",
     "output_type": "stream",
     "text": [
      "\r",
      "Epoch 18/1000:   2%|▏         | 18/1000 [06:27<5:36:52, 20.58s/it, v_num=snv7, train_loss_step=876, train_loss_epoch=896]"
     ]
    },
    {
     "name": "stdout",
     "output_type": "stream",
     "text": [
      "\r",
      "Epoch 18/1000:   2%|▏         | 18/1000 [06:27<5:36:52, 20.58s/it, v_num=snv7, train_loss_step=856, train_loss_epoch=896]"
     ]
    },
    {
     "name": "stdout",
     "output_type": "stream",
     "text": [
      "\r",
      "Epoch 19/1000:   2%|▏         | 18/1000 [06:27<5:36:52, 20.58s/it, v_num=snv7, train_loss_step=856, train_loss_epoch=896]"
     ]
    },
    {
     "name": "stdout",
     "output_type": "stream",
     "text": [
      "\r",
      "Epoch 19/1000:   2%|▏         | 19/1000 [06:51<5:53:11, 21.60s/it, v_num=snv7, train_loss_step=856, train_loss_epoch=896]"
     ]
    },
    {
     "name": "stdout",
     "output_type": "stream",
     "text": [
      "\r",
      "Epoch 19/1000:   2%|▏         | 19/1000 [06:51<5:53:11, 21.60s/it, v_num=snv7, train_loss_step=856, train_loss_epoch=896]"
     ]
    },
    {
     "name": "stdout",
     "output_type": "stream",
     "text": [
      "\r",
      "Epoch 20/1000:   2%|▏         | 19/1000 [06:51<5:53:11, 21.60s/it, v_num=snv7, train_loss_step=856, train_loss_epoch=896]"
     ]
    },
    {
     "name": "stdout",
     "output_type": "stream",
     "text": [
      "\r",
      "Epoch 20/1000:   2%|▏         | 20/1000 [07:14<6:02:33, 22.20s/it, v_num=snv7, train_loss_step=856, train_loss_epoch=896]"
     ]
    },
    {
     "name": "stdout",
     "output_type": "stream",
     "text": [
      "\r",
      "Epoch 20/1000:   2%|▏         | 20/1000 [07:14<6:02:33, 22.20s/it, v_num=snv7, train_loss_step=866, train_loss_epoch=896]"
     ]
    },
    {
     "name": "stdout",
     "output_type": "stream",
     "text": [
      "\r",
      "Epoch 20/1000:   2%|▏         | 20/1000 [07:14<5:55:05, 21.74s/it, v_num=snv7, train_loss_step=866, train_loss_epoch=896]"
     ]
    },
    {
     "name": "stdout",
     "output_type": "stream",
     "text": [
      "\n",
      "Monitored metric reconstruction_loss_validation did not improve in the last 10 records. Best score: 899.938. Signaling Trainer to stop.\n"
     ]
    }
   ],
   "source": [
    "model.train(logger=logger, plan_kwargs = plan_kwargs, **trainer_kwargs)"
   ]
  },
  {
   "cell_type": "code",
   "execution_count": 15,
   "id": "c282f6eb-0ad1-40a5-81e6-1acda1545dad",
   "metadata": {
    "execution": {
     "iopub.execute_input": "2024-10-21T09:45:49.526942Z",
     "iopub.status.busy": "2024-10-21T09:45:49.526656Z",
     "iopub.status.idle": "2024-10-21T09:45:54.017061Z",
     "shell.execute_reply": "2024-10-21T09:45:54.015607Z"
    },
    "papermill": {
     "duration": 4.509768,
     "end_time": "2024-10-21T09:45:54.020621",
     "exception": false,
     "start_time": "2024-10-21T09:45:49.510853",
     "status": "completed"
    },
    "tags": []
   },
   "outputs": [
    {
     "name": "stderr",
     "output_type": "stream",
     "text": [
      "\u001b[34m\u001b[1mwandb\u001b[0m: - 0.005 MB of 0.005 MB uploaded\r"
     ]
    },
    {
     "name": "stderr",
     "output_type": "stream",
     "text": [
      "\u001b[34m\u001b[1mwandb\u001b[0m: \\ 0.005 MB of 0.025 MB uploaded\r"
     ]
    },
    {
     "name": "stderr",
     "output_type": "stream",
     "text": [
      "\u001b[34m\u001b[1mwandb\u001b[0m: | 0.005 MB of 0.025 MB uploaded\r"
     ]
    },
    {
     "name": "stderr",
     "output_type": "stream",
     "text": [
      "\u001b[34m\u001b[1mwandb\u001b[0m: / 0.025 MB of 0.025 MB uploaded\r"
     ]
    },
    {
     "name": "stderr",
     "output_type": "stream",
     "text": [
      "\u001b[34m\u001b[1mwandb\u001b[0m:                                                                                \n"
     ]
    },
    {
     "name": "stderr",
     "output_type": "stream",
     "text": [
      "\u001b[34m\u001b[1mwandb\u001b[0m: \n",
      "\u001b[34m\u001b[1mwandb\u001b[0m: Run history:\n",
      "\u001b[34m\u001b[1mwandb\u001b[0m:                     elbo_train █▆▄▃▃▂▂▂▂▂▂▂▁▁▁▁▁▁▁▁\n",
      "\u001b[34m\u001b[1mwandb\u001b[0m:                elbo_validation █▅▄▃▂▂▂▂▂▂▁▁▁▁▁▁▁▁▁▁\n",
      "\u001b[34m\u001b[1mwandb\u001b[0m:                          epoch ▁▁▁▁▂▂▂▂▂▂▃▃▃▃▄▄▄▄▄▄▅▅▅▅▅▅▆▆▆▆▇▇▇▇▇▇████\n",
      "\u001b[34m\u001b[1mwandb\u001b[0m:                kl_global_train ▁▁▁▁▁▁▁▁▁▁▁▁▁▁▁▁▁▁▁▁\n",
      "\u001b[34m\u001b[1mwandb\u001b[0m:           kl_global_validation ▁▁▁▁▁▁▁▁▁▁▁▁▁▁▁▁▁▁▁▁\n",
      "\u001b[34m\u001b[1mwandb\u001b[0m:                 kl_local_train ██▆▄▄▃▃▃▂▂▂▂▂▂▂▁▁▁▁▁\n",
      "\u001b[34m\u001b[1mwandb\u001b[0m:            kl_local_validation █▅▄▃▃▃▂▂▂▂▂▂▂▁▁▁▁▁▁▁\n",
      "\u001b[34m\u001b[1mwandb\u001b[0m:                      kl_weight ▁▁▁▁▂▂▂▂▂▂▃▃▃▃▄▄▄▄▄▄▅▅▅▅▅▅▆▆▆▆▇▇▇▇▇▇████\n",
      "\u001b[34m\u001b[1mwandb\u001b[0m:      reconstruction_loss_train █▄▃▂▂▂▂▂▂▁▁▁▁▁▁▁▁▁▁▁\n",
      "\u001b[34m\u001b[1mwandb\u001b[0m: reconstruction_loss_validation █▄▃▂▂▁▁▁▁▁▁▁▁▁▁▁▁▁▁▁\n",
      "\u001b[34m\u001b[1mwandb\u001b[0m:               train_loss_epoch █▄▃▂▂▂▂▁▁▁▁▁▁▁▁▁▁▁▁▁\n",
      "\u001b[34m\u001b[1mwandb\u001b[0m:                train_loss_step ▆▄▆▃▃▁▄▃▂▆▃▂▂▇▄▆▅▆▃▇▂▁▅▁▆▂▄▂▂▂▄▃█▅▁▃▃▅▃▁\n",
      "\u001b[34m\u001b[1mwandb\u001b[0m:            trainer/global_step ▁▁▁▁▂▂▂▂▂▃▃▃▃▃▃▄▄▄▄▄▅▅▅▅▅▅▆▆▆▆▆▇▇▇▇▇▇███\n",
      "\u001b[34m\u001b[1mwandb\u001b[0m:                validation_loss █▄▃▂▁▁▁▁▁▁▁▁▁▁▁▁▁▁▁▁\n",
      "\u001b[34m\u001b[1mwandb\u001b[0m: \n",
      "\u001b[34m\u001b[1mwandb\u001b[0m: Run summary:\n",
      "\u001b[34m\u001b[1mwandb\u001b[0m:                     elbo_train 920.19464\n",
      "\u001b[34m\u001b[1mwandb\u001b[0m:                elbo_validation 924.70502\n",
      "\u001b[34m\u001b[1mwandb\u001b[0m:                          epoch 19\n",
      "\u001b[34m\u001b[1mwandb\u001b[0m:                kl_global_train 0.0\n",
      "\u001b[34m\u001b[1mwandb\u001b[0m:           kl_global_validation 0.0\n",
      "\u001b[34m\u001b[1mwandb\u001b[0m:                 kl_local_train 25.31421\n",
      "\u001b[34m\u001b[1mwandb\u001b[0m:            kl_local_validation 24.67501\n",
      "\u001b[34m\u001b[1mwandb\u001b[0m:                      kl_weight 0.0475\n",
      "\u001b[34m\u001b[1mwandb\u001b[0m:      reconstruction_loss_train 894.88043\n",
      "\u001b[34m\u001b[1mwandb\u001b[0m: reconstruction_loss_validation 900.03003\n",
      "\u001b[34m\u001b[1mwandb\u001b[0m:               train_loss_epoch 896.08252\n",
      "\u001b[34m\u001b[1mwandb\u001b[0m:                train_loss_step 866.13513\n",
      "\u001b[34m\u001b[1mwandb\u001b[0m:            trainer/global_step 36699\n",
      "\u001b[34m\u001b[1mwandb\u001b[0m:                validation_loss 901.20258\n",
      "\u001b[34m\u001b[1mwandb\u001b[0m: \n"
     ]
    },
    {
     "name": "stderr",
     "output_type": "stream",
     "text": [
      "\u001b[34m\u001b[1mwandb\u001b[0m: 🚀 View run \u001b[33mStep2_T_Naive\u001b[0m at: \u001b[34m\u001b[4mhttps://wandb.ai/inflammation/inflammation_atlas_R1/runs/mh9msnv7/workspace\u001b[0m\n",
      "\u001b[34m\u001b[1mwandb\u001b[0m: Synced 6 W&B file(s), 0 media file(s), 0 artifact file(s) and 0 other file(s)\n"
     ]
    },
    {
     "name": "stderr",
     "output_type": "stream",
     "text": [
      "\u001b[34m\u001b[1mwandb\u001b[0m: Find logs at: \u001b[35m\u001b[1m./wandb/run-20241021_093829-mh9msnv7/logs\u001b[0m\n"
     ]
    }
   ],
   "source": [
    "wandb.finish()"
   ]
  },
  {
   "cell_type": "markdown",
   "id": "d9fb1179-83c7-4ac6-b4aa-92dc7a349801",
   "metadata": {
    "papermill": {
     "duration": 0.01405,
     "end_time": "2024-10-21T09:45:54.055939",
     "exception": false,
     "start_time": "2024-10-21T09:45:54.041889",
     "status": "completed"
    },
    "tags": []
   },
   "source": [
    "### Extracting embedding space"
   ]
  },
  {
   "cell_type": "code",
   "execution_count": 16,
   "id": "caaa5832-0123-4c59-8ec6-f46a75f7a14e",
   "metadata": {
    "execution": {
     "iopub.execute_input": "2024-10-21T09:45:54.077484Z",
     "iopub.status.busy": "2024-10-21T09:45:54.076965Z",
     "iopub.status.idle": "2024-10-21T09:46:00.144059Z",
     "shell.execute_reply": "2024-10-21T09:46:00.143110Z"
    },
    "papermill": {
     "duration": 6.08135,
     "end_time": "2024-10-21T09:46:00.147456",
     "exception": false,
     "start_time": "2024-10-21T09:45:54.066106",
     "status": "completed"
    },
    "tags": []
   },
   "outputs": [],
   "source": [
    "adata.obsm['X_scVI'] = model.get_latent_representation()"
   ]
  },
  {
   "cell_type": "markdown",
   "id": "2f03e70b-839c-40a6-9fbb-d76bbd787419",
   "metadata": {
    "papermill": {
     "duration": 0.019831,
     "end_time": "2024-10-21T09:46:00.188743",
     "exception": false,
     "start_time": "2024-10-21T09:46:00.168912",
     "status": "completed"
    },
    "tags": []
   },
   "source": [
    "## Save the results"
   ]
  },
  {
   "cell_type": "code",
   "execution_count": 17,
   "id": "7b04049b-47fd-4b62-a1c0-c43dcc086d34",
   "metadata": {
    "execution": {
     "iopub.execute_input": "2024-10-21T09:46:00.233657Z",
     "iopub.status.busy": "2024-10-21T09:46:00.233355Z",
     "iopub.status.idle": "2024-10-21T09:46:26.002892Z",
     "shell.execute_reply": "2024-10-21T09:46:26.001385Z"
    },
    "papermill": {
     "duration": 25.788538,
     "end_time": "2024-10-21T09:46:26.006877",
     "exception": false,
     "start_time": "2024-10-21T09:46:00.218339",
     "status": "completed"
    },
    "tags": []
   },
   "outputs": [],
   "source": [
    "if overwriteData:\n",
    "    adata.write(here(f\"{workDir}/{cellGroup}/results/02_{annotationLevel}_{cellGroup}_HVGsubset_scVI.h5ad\"), compression=\"gzip\")\n",
    "    model.save(here(f\"{workDir}/{cellGroup}/results/02_{annotationLevel}_{cellGroup}_HVGsubset_scVI_MODEL/\"),\n",
    "               overwrite = True, \n",
    "               save_anndata = False )   "
   ]
  },
  {
   "cell_type": "code",
   "execution_count": 18,
   "id": "629ba2bd-f6be-44ef-8fca-bbdf891bf25f",
   "metadata": {
    "execution": {
     "iopub.execute_input": "2024-10-21T09:46:26.044411Z",
     "iopub.status.busy": "2024-10-21T09:46:26.043849Z",
     "iopub.status.idle": "2024-10-21T09:46:26.050054Z",
     "shell.execute_reply": "2024-10-21T09:46:26.048611Z"
    },
    "papermill": {
     "duration": 0.026418,
     "end_time": "2024-10-21T09:46:26.053312",
     "exception": false,
     "start_time": "2024-10-21T09:46:26.026894",
     "status": "completed"
    },
    "tags": []
   },
   "outputs": [],
   "source": [
    "# To load the model do (after loading corresponding adata):\n",
    "# model = scvi.model.SCVI.load(here('{}/results/01_{}_HVGsubset_scVI_MODEL/'.format(workDir, cellGroup)), \n",
    "#                              adata, \n",
    "#                              use_gpu=True)"
   ]
  },
  {
   "cell_type": "raw",
   "id": "975e84d0-f56b-498d-b3a8-c9219cf22e53",
   "metadata": {
    "papermill": {
     "duration": 0.014677,
     "end_time": "2024-10-21T09:46:26.088901",
     "exception": false,
     "start_time": "2024-10-21T09:46:26.074224",
     "status": "completed"
    },
    "tags": []
   },
   "source": [
    "session_info.show()"
   ]
  }
 ],
 "metadata": {
  "kernelspec": {
   "display_name": "Python 3 (ipykernel)",
   "language": "python",
   "name": "python3"
  },
  "language_info": {
   "codemirror_mode": {
    "name": "ipython",
    "version": 3
   },
   "file_extension": ".py",
   "mimetype": "text/x-python",
   "name": "python",
   "nbconvert_exporter": "python",
   "pygments_lexer": "ipython3",
   "version": "3.9.19"
  },
  "papermill": {
   "default_parameters": {},
   "duration": 496.342682,
   "end_time": "2024-10-21T09:46:28.824643",
   "environment_variables": {},
   "exception": null,
   "input_path": "T_Naive/02_integration_scVI.ipynb",
   "output_path": "T_Naive/02_integration_scVI.executed.ipynb",
   "parameters": {},
   "start_time": "2024-10-21T09:38:12.481961",
   "version": "2.5.0"
  }
 },
 "nbformat": 4,
 "nbformat_minor": 5
}