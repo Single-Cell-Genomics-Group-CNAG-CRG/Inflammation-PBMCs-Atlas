{
 "cells": [
  {
   "cell_type": "code",
   "execution_count": 1,
   "id": "0262d435-452f-4ef4-b9e1-d8b0b3fd0b6a",
   "metadata": {
    "execution": {
     "iopub.execute_input": "2024-10-22T11:56:18.280933Z",
     "iopub.status.busy": "2024-10-22T11:56:18.280570Z",
     "iopub.status.idle": "2024-10-22T11:56:21.476850Z",
     "shell.execute_reply": "2024-10-22T11:56:21.476293Z",
     "shell.execute_reply.started": "2024-10-22T11:56:18.280913Z"
    }
   },
   "outputs": [],
   "source": [
    "import os\n",
    "import sys\n",
    "import glob\n",
    "import re\n",
    "\n",
    "import warnings\n",
    "warnings.filterwarnings(\"ignore\")\n",
    "\n",
    "from pyprojroot.here import here\n",
    "\n",
    "sys.path.insert(1, str(here('bin')))\n",
    "from customPythonFunctions import generate_split_dir\n",
    "\n",
    "import matplotlib\n",
    "import pandas as pd\n",
    "import scanpy as sc\n",
    "import anndata as ad\n",
    "\n",
    "overwriteData = True\n",
    "overwriteFigure = True\n",
    "\n",
    "# Directory where the notebook is stored\n",
    "currDir = os.getcwd()"
   ]
  },
  {
   "cell_type": "code",
   "execution_count": 2,
   "id": "e8857570-0fbf-4165-bd05-295adb6daa2a",
   "metadata": {
    "execution": {
     "iopub.execute_input": "2024-10-22T11:56:21.478307Z",
     "iopub.status.busy": "2024-10-22T11:56:21.477827Z",
     "iopub.status.idle": "2024-10-22T11:56:21.487462Z",
     "shell.execute_reply": "2024-10-22T11:56:21.487087Z",
     "shell.execute_reply.started": "2024-10-22T11:56:21.478286Z"
    }
   },
   "outputs": [],
   "source": [
    "# SANKEY DIAGRAM FUNCTION EDIT FROM:\n",
    "# https://medium.com/kenlok/how-to-create-sankey-diagrams-from-dataframes-in-python-e221c1b4d6b0\n",
    "\n",
    "def genSankey(df,cat_cols=[], colors = 'Set1', value_cols='',title='Sankey Diagram', size = 10):\n",
    "    # maximum of 6 value cols -> 6 colors\n",
    "    #colorPalette = ['#4B8BBE','#306998','#FFE873','#FFD43B','#646464']\n",
    "    labelList = []\n",
    "    colorNumList = []\n",
    "    for catCol in cat_cols:\n",
    "        labelListTemp =  list(set(df[catCol].values))\n",
    "        colorNumList.append(len(labelListTemp))\n",
    "        labelList = labelList + labelListTemp\n",
    "        \n",
    "    # remove duplicates from labelList\n",
    "    labelList = list(dict.fromkeys(labelList))\n",
    "\n",
    "    if isinstance(colors, list):\n",
    "        colorPalette = colors\n",
    "    else:\n",
    "        nCol = len(cat_cols)\n",
    "        cmap = matplotlib.colormaps.get_cmap(colors)\n",
    "        colorPalette = ['#{:02x}{:02x}{:02x}'.format(round(cmap(c/nCol)[0]*255), round(cmap(c/nCol)[1]*255), round(cmap(c/nCol)[2]*255)) for c in range(nCol)]\n",
    "\n",
    "    # define colors based on number of levels\n",
    "    colorList = []\n",
    "    for idx, colorNum in enumerate(colorNumList):\n",
    "        colorList = colorList + [colorPalette[idx]]*colorNum\n",
    "        \n",
    "    # transform df into a source-target pair\n",
    "    for i in range(len(cat_cols)-1):\n",
    "        if i==0:\n",
    "            sourceTargetDf = df[[cat_cols[i],cat_cols[i+1],value_cols]]\n",
    "            sourceTargetDf.columns = ['source','target','count']\n",
    "        else:\n",
    "            tempDf = df[[cat_cols[i],cat_cols[i+1],value_cols]]\n",
    "            tempDf.columns = ['source','target','count']\n",
    "            sourceTargetDf = pd.concat([sourceTargetDf,tempDf])\n",
    "        \n",
    "        sourceTargetDf = sourceTargetDf.groupby(['source','target']).agg({'count':'sum'}).reset_index()\n",
    "        \n",
    "    # add index for source-target pair\n",
    "    sourceTargetDf['sourceID'] = sourceTargetDf['source'].apply(lambda x: labelList.index(x))\n",
    "    sourceTargetDf['targetID'] = sourceTargetDf['target'].apply(lambda x: labelList.index(x))\n",
    "\n",
    "    labelList = [re.sub(r'\\([^)]*\\)', '', l) for l in labelList]\n",
    "    labelList = [l.replace('_', ' ') for l in labelList]\n",
    "    \n",
    "    \n",
    "    # creating the sankey diagram\n",
    "    data = dict(\n",
    "        type='sankey',\n",
    "        node = dict(\n",
    "          pad = 15,\n",
    "          thickness = 20,\n",
    "          line = dict(\n",
    "            color = \"black\",\n",
    "            width = 0.5\n",
    "          ),\n",
    "          label = labelList,\n",
    "          color = colorList\n",
    "        ),\n",
    "        link = dict(\n",
    "          source = sourceTargetDf['sourceID'],\n",
    "          target = sourceTargetDf['targetID'],\n",
    "          value = sourceTargetDf['count']\n",
    "        )\n",
    "      )\n",
    "    \n",
    "    layout =  dict(\n",
    "        title = title,\n",
    "        font = dict(\n",
    "          size = size\n",
    "        )\n",
    "    )\n",
    "       \n",
    "    fig = dict(data=[data], layout=layout)\n",
    "    return fig"
   ]
  },
  {
   "cell_type": "markdown",
   "id": "dc00af05-6f76-452d-96fc-140213cfaf42",
   "metadata": {},
   "source": [
    "# Retrieve pandas dataframes with annotations"
   ]
  },
  {
   "cell_type": "markdown",
   "id": "5326903c-9209-4457-8b4d-afed79703066",
   "metadata": {},
   "source": [
    "**Loading pandas dataFrame**"
   ]
  },
  {
   "cell_type": "code",
   "execution_count": 3,
   "id": "4594da50-1d72-4423-a050-43e38e7068b8",
   "metadata": {
    "execution": {
     "iopub.execute_input": "2024-10-22T11:56:21.488141Z",
     "iopub.status.busy": "2024-10-22T11:56:21.488000Z",
     "iopub.status.idle": "2024-10-22T11:56:21.650326Z",
     "shell.execute_reply": "2024-10-22T11:56:21.649928Z",
     "shell.execute_reply.started": "2024-10-22T11:56:21.488125Z"
    }
   },
   "outputs": [
    {
     "data": {
      "text/html": [
       "<div>\n",
       "<style scoped>\n",
       "    .dataframe tbody tr th:only-of-type {\n",
       "        vertical-align: middle;\n",
       "    }\n",
       "\n",
       "    .dataframe tbody tr th {\n",
       "        vertical-align: top;\n",
       "    }\n",
       "\n",
       "    .dataframe thead th {\n",
       "        text-align: right;\n",
       "    }\n",
       "</style>\n",
       "<table border=\"1\" class=\"dataframe\">\n",
       "  <thead>\n",
       "    <tr style=\"text-align: right;\">\n",
       "      <th></th>\n",
       "      <th>annotation_step_1</th>\n",
       "      <th>annotation_step_2</th>\n",
       "      <th>annotation_step_3</th>\n",
       "      <th>Level1</th>\n",
       "    </tr>\n",
       "    <tr>\n",
       "      <th>cellID</th>\n",
       "      <th></th>\n",
       "      <th></th>\n",
       "      <th></th>\n",
       "      <th></th>\n",
       "    </tr>\n",
       "  </thead>\n",
       "  <tbody>\n",
       "    <tr>\n",
       "      <th>SCGT00_L051_I53.3P_T0_AACCAACGTGGGATTG</th>\n",
       "      <td>pDC</td>\n",
       "      <td>pDC</td>\n",
       "      <td>pDC</td>\n",
       "      <td>pDC</td>\n",
       "    </tr>\n",
       "    <tr>\n",
       "      <th>SCGT00_L051_I51.3P_T0_AAGGTAATCTTCCCGA</th>\n",
       "      <td>pDC</td>\n",
       "      <td>pDC</td>\n",
       "      <td>pDC</td>\n",
       "      <td>pDC</td>\n",
       "    </tr>\n",
       "    <tr>\n",
       "      <th>SCGT00_L051_I58.3P_T0_ACCTGAAAGTGCCAGA</th>\n",
       "      <td>pDC</td>\n",
       "      <td>pDC</td>\n",
       "      <td>pDC</td>\n",
       "      <td>pDC</td>\n",
       "    </tr>\n",
       "    <tr>\n",
       "      <th>SCGT00_L051_I51.3P_T0_ACGGGTCTCTTGGTGA</th>\n",
       "      <td>pDC</td>\n",
       "      <td>pDC</td>\n",
       "      <td>pDC</td>\n",
       "      <td>pDC</td>\n",
       "    </tr>\n",
       "    <tr>\n",
       "      <th>SCGT00_L051_I53.3P_T0_ACTATGGAGGCGCTCT</th>\n",
       "      <td>pDC</td>\n",
       "      <td>pDC</td>\n",
       "      <td>pDC</td>\n",
       "      <td>pDC</td>\n",
       "    </tr>\n",
       "  </tbody>\n",
       "</table>\n",
       "</div>"
      ],
      "text/plain": [
       "                                       annotation_step_1 annotation_step_2  \\\n",
       "cellID                                                                       \n",
       "SCGT00_L051_I53.3P_T0_AACCAACGTGGGATTG               pDC               pDC   \n",
       "SCGT00_L051_I51.3P_T0_AAGGTAATCTTCCCGA               pDC               pDC   \n",
       "SCGT00_L051_I58.3P_T0_ACCTGAAAGTGCCAGA               pDC               pDC   \n",
       "SCGT00_L051_I51.3P_T0_ACGGGTCTCTTGGTGA               pDC               pDC   \n",
       "SCGT00_L051_I53.3P_T0_ACTATGGAGGCGCTCT               pDC               pDC   \n",
       "\n",
       "                                       annotation_step_3 Level1  \n",
       "cellID                                                           \n",
       "SCGT00_L051_I53.3P_T0_AACCAACGTGGGATTG               pDC    pDC  \n",
       "SCGT00_L051_I51.3P_T0_AAGGTAATCTTCCCGA               pDC    pDC  \n",
       "SCGT00_L051_I58.3P_T0_ACCTGAAAGTGCCAGA               pDC    pDC  \n",
       "SCGT00_L051_I51.3P_T0_ACGGGTCTCTTGGTGA               pDC    pDC  \n",
       "SCGT00_L051_I53.3P_T0_ACTATGGAGGCGCTCT               pDC    pDC  "
      ]
     },
     "execution_count": 3,
     "metadata": {},
     "output_type": "execute_result"
    }
   ],
   "source": [
    "fullAnnotationDF = pd.read_pickle(here('02_cell_annotation/SCGT00_CentralizedDataset/02_fromCellLineages_to_CellTypes/master_clusterAnnotDF_final.pkl'))\n",
    "fullAnnotationDF.head()"
   ]
  },
  {
   "cell_type": "code",
   "execution_count": 4,
   "id": "7cb976b5-1d8d-46e9-ae02-b1ba950dde0c",
   "metadata": {
    "execution": {
     "iopub.execute_input": "2024-10-22T11:56:21.651414Z",
     "iopub.status.busy": "2024-10-22T11:56:21.651218Z",
     "iopub.status.idle": "2024-10-22T11:56:21.720846Z",
     "shell.execute_reply": "2024-10-22T11:56:21.720450Z",
     "shell.execute_reply.started": "2024-10-22T11:56:21.651397Z"
    }
   },
   "outputs": [
    {
     "data": {
      "text/plain": [
       "Level1          \n",
       "T_CD4_NonNaive      159203\n",
       "Mono                131392\n",
       "T_CD4_Naive         123116\n",
       "T_CD8_NonNaive       93256\n",
       "LowQuality_cells     61139\n",
       "ILC                  57046\n",
       "B                    55869\n",
       "Platelets            52472\n",
       "T_CD8_Naive          40745\n",
       "Doublets_Step1       34797\n",
       "UTC                  23420\n",
       "DC                   10440\n",
       "Doublets_Step2        3361\n",
       "pDC                   3125\n",
       "Cycling               2741\n",
       "Progenitors           1716\n",
       "Plasma                1383\n",
       "RBC                    196\n",
       "Name: count, dtype: int64"
      ]
     },
     "execution_count": 4,
     "metadata": {},
     "output_type": "execute_result"
    }
   ],
   "source": [
    "fullAnnotationDF.value_counts(['Level1'], dropna=False)"
   ]
  },
  {
   "cell_type": "markdown",
   "id": "b307d6eb-e68a-415f-81b9-386a87586a82",
   "metadata": {},
   "source": [
    "# Loading single-cell data"
   ]
  },
  {
   "cell_type": "markdown",
   "id": "324e65e2-5329-40c5-bfd5-e4d856a0d05d",
   "metadata": {},
   "source": [
    "**Scanpy object with count raw and normalized**"
   ]
  },
  {
   "cell_type": "code",
   "execution_count": 8,
   "id": "c559b061-5e30-41a2-8e12-382e4cc2aa84",
   "metadata": {
    "execution": {
     "iopub.execute_input": "2024-10-22T11:56:42.841385Z",
     "iopub.status.busy": "2024-10-22T11:56:42.841092Z",
     "iopub.status.idle": "2024-10-22T11:58:14.280922Z",
     "shell.execute_reply": "2024-10-22T11:58:14.280363Z",
     "shell.execute_reply.started": "2024-10-22T11:56:42.841366Z"
    }
   },
   "outputs": [
    {
     "data": {
      "text/plain": [
       "AnnData object with n_obs × n_vars = 855417 × 37169\n",
       "    obs: 'studyID', 'libraryID', 'sampleID', 'chemistry', 'technology', 'patientID', 'disease', 'timepoint_replicate', 'treatmentStatus', 'therapyResponse', 'sex', 'age', 'BMI', 'binned_age', 'diseaseStatus', 'smokingStatus', 'ethnicity', 'institute', 'diseaseGroup', 'batches', 'n_genes_by_counts', 'log1p_n_genes_by_counts', 'total_counts', 'log1p_total_counts', 'pct_counts_in_top_20_genes', 'total_counts_mt', 'log1p_total_counts_mt', 'pct_counts_mt', 'total_counts_ribo', 'log1p_total_counts_ribo', 'pct_counts_ribo', 'total_counts_hb', 'log1p_total_counts_hb', 'pct_counts_hb', 'total_counts_plt', 'log1p_total_counts_plt', 'pct_counts_plt', 'S_score', 'G2M_score', 'phase'\n",
       "    var: 'hgnc_id', 'symbol', 'locus_group', 'HUGO_status', 'mt', 'ribo', 'hb', 'plt', 'n_cells_by_counts', 'mean_counts', 'log1p_mean_counts', 'pct_dropout_by_counts', 'total_counts', 'log1p_total_counts'\n",
       "    uns: 'disease_colors', 'log1p'\n",
       "    layers: 'counts', 'log1p_10e4_counts'"
      ]
     },
     "execution_count": 8,
     "metadata": {},
     "output_type": "execute_result"
    }
   ],
   "source": [
    "adata = sc.read_h5ad(here(\"01_data_processing/SCGT00_CentralizedDataset/results/2_SCGT00_MAIN_normalized.h5ad\"))\n",
    "adata"
   ]
  },
  {
   "cell_type": "markdown",
   "id": "c560eee6-31e1-4c3b-85aa-9570a34172b2",
   "metadata": {},
   "source": [
    "**Import annotation**"
   ]
  },
  {
   "cell_type": "code",
   "execution_count": 9,
   "id": "8291f397-f8f0-4967-a434-4bcd02b128de",
   "metadata": {
    "execution": {
     "iopub.execute_input": "2024-10-22T11:58:14.282287Z",
     "iopub.status.busy": "2024-10-22T11:58:14.282099Z",
     "iopub.status.idle": "2024-10-22T11:58:14.712179Z",
     "shell.execute_reply": "2024-10-22T11:58:14.711702Z",
     "shell.execute_reply.started": "2024-10-22T11:58:14.282253Z"
    }
   },
   "outputs": [],
   "source": [
    "adata.obs = adata.obs.merge(fullAnnotationDF[['Level1']], left_index=True, right_index=True, how='left')"
   ]
  },
  {
   "cell_type": "markdown",
   "id": "c2304bbb-920a-421d-b07a-b3bc7257ca28",
   "metadata": {},
   "source": [
    "# Remove discarded cells\n",
    "\n",
    "We also check the distribution of the number of cells in each cell-types among patient and disease."
   ]
  },
  {
   "cell_type": "code",
   "execution_count": 10,
   "id": "f54f0ede-98a8-41d9-9aad-8bf5ebd53717",
   "metadata": {
    "execution": {
     "iopub.execute_input": "2024-10-22T11:58:14.713080Z",
     "iopub.status.busy": "2024-10-22T11:58:14.712921Z",
     "iopub.status.idle": "2024-10-22T11:58:20.761589Z",
     "shell.execute_reply": "2024-10-22T11:58:20.761043Z",
     "shell.execute_reply.started": "2024-10-22T11:58:14.713062Z"
    }
   },
   "outputs": [
    {
     "data": {
      "text/plain": [
       "AnnData object with n_obs × n_vars = 756120 × 37169\n",
       "    obs: 'studyID', 'libraryID', 'sampleID', 'chemistry', 'technology', 'patientID', 'disease', 'timepoint_replicate', 'treatmentStatus', 'therapyResponse', 'sex', 'age', 'BMI', 'binned_age', 'diseaseStatus', 'smokingStatus', 'ethnicity', 'institute', 'diseaseGroup', 'batches', 'n_genes_by_counts', 'log1p_n_genes_by_counts', 'total_counts', 'log1p_total_counts', 'pct_counts_in_top_20_genes', 'total_counts_mt', 'log1p_total_counts_mt', 'pct_counts_mt', 'total_counts_ribo', 'log1p_total_counts_ribo', 'pct_counts_ribo', 'total_counts_hb', 'log1p_total_counts_hb', 'pct_counts_hb', 'total_counts_plt', 'log1p_total_counts_plt', 'pct_counts_plt', 'S_score', 'G2M_score', 'phase', 'Level1'\n",
       "    var: 'hgnc_id', 'symbol', 'locus_group', 'HUGO_status', 'mt', 'ribo', 'hb', 'plt', 'n_cells_by_counts', 'mean_counts', 'log1p_mean_counts', 'pct_dropout_by_counts', 'total_counts', 'log1p_total_counts'\n",
       "    uns: 'disease_colors', 'log1p'\n",
       "    layers: 'counts', 'log1p_10e4_counts'"
      ]
     },
     "execution_count": 10,
     "metadata": {},
     "output_type": "execute_result"
    }
   ],
   "source": [
    "adataFilt = adata[~adata.obs['Level1'].isin(['Doublets_Step1', 'Doublets_Step2','LowQuality_cells']),:].copy()\n",
    "adataFilt"
   ]
  },
  {
   "cell_type": "code",
   "execution_count": 11,
   "id": "bbeccfb9-be71-405a-a66b-6289f697494d",
   "metadata": {
    "execution": {
     "iopub.execute_input": "2024-10-22T11:58:24.970551Z",
     "iopub.status.busy": "2024-10-22T11:58:24.970306Z",
     "iopub.status.idle": "2024-10-22T11:58:24.973312Z",
     "shell.execute_reply": "2024-10-22T11:58:24.972821Z",
     "shell.execute_reply.started": "2024-10-22T11:58:24.970533Z"
    }
   },
   "outputs": [],
   "source": [
    "del adata"
   ]
  },
  {
   "cell_type": "code",
   "execution_count": 12,
   "id": "cc7cbb1d-a55a-42ac-9bc3-3c350e903d78",
   "metadata": {
    "execution": {
     "iopub.execute_input": "2024-10-22T11:58:26.148874Z",
     "iopub.status.busy": "2024-10-22T11:58:26.148617Z",
     "iopub.status.idle": "2024-10-22T11:58:26.174643Z",
     "shell.execute_reply": "2024-10-22T11:58:26.174113Z",
     "shell.execute_reply.started": "2024-10-22T11:58:26.148857Z"
    }
   },
   "outputs": [
    {
     "data": {
      "text/html": [
       "<div>\n",
       "<style scoped>\n",
       "    .dataframe tbody tr th:only-of-type {\n",
       "        vertical-align: middle;\n",
       "    }\n",
       "\n",
       "    .dataframe tbody tr th {\n",
       "        vertical-align: top;\n",
       "    }\n",
       "\n",
       "    .dataframe thead th {\n",
       "        text-align: right;\n",
       "    }\n",
       "</style>\n",
       "<table border=\"1\" class=\"dataframe\">\n",
       "  <thead>\n",
       "    <tr style=\"text-align: right;\">\n",
       "      <th></th>\n",
       "      <th>disease</th>\n",
       "      <th>tot_patient</th>\n",
       "    </tr>\n",
       "  </thead>\n",
       "  <tbody>\n",
       "    <tr>\n",
       "      <th>0</th>\n",
       "      <td>RA</td>\n",
       "      <td>64</td>\n",
       "    </tr>\n",
       "    <tr>\n",
       "      <th>1</th>\n",
       "      <td>PS</td>\n",
       "      <td>24</td>\n",
       "    </tr>\n",
       "    <tr>\n",
       "      <th>2</th>\n",
       "      <td>PSA</td>\n",
       "      <td>24</td>\n",
       "    </tr>\n",
       "    <tr>\n",
       "      <th>3</th>\n",
       "      <td>CD</td>\n",
       "      <td>16</td>\n",
       "    </tr>\n",
       "    <tr>\n",
       "      <th>4</th>\n",
       "      <td>UC</td>\n",
       "      <td>16</td>\n",
       "    </tr>\n",
       "    <tr>\n",
       "      <th>5</th>\n",
       "      <td>SLE</td>\n",
       "      <td>8</td>\n",
       "    </tr>\n",
       "  </tbody>\n",
       "</table>\n",
       "</div>"
      ],
      "text/plain": [
       "  disease  tot_patient\n",
       "0      RA           64\n",
       "1      PS           24\n",
       "2     PSA           24\n",
       "3      CD           16\n",
       "4      UC           16\n",
       "5     SLE            8"
      ]
     },
     "execution_count": 12,
     "metadata": {},
     "output_type": "execute_result"
    }
   ],
   "source": [
    "patientXdisease = pd.DataFrame(adataFilt.obs[['sampleID','disease']].drop_duplicates().value_counts('disease')).reset_index()\n",
    "patientXdisease.columns = ['disease','tot_patient']\n",
    "patientXdisease"
   ]
  },
  {
   "cell_type": "code",
   "execution_count": 13,
   "id": "9b2024ef-b6a7-436e-86d1-b9b515dd1d51",
   "metadata": {
    "execution": {
     "iopub.execute_input": "2024-10-22T11:58:33.951249Z",
     "iopub.status.busy": "2024-10-22T11:58:33.951012Z",
     "iopub.status.idle": "2024-10-22T11:58:33.957386Z",
     "shell.execute_reply": "2024-10-22T11:58:33.956911Z",
     "shell.execute_reply.started": "2024-10-22T11:58:33.951230Z"
    }
   },
   "outputs": [
    {
     "data": {
      "text/plain": [
       "(152,)"
      ]
     },
     "execution_count": 13,
     "metadata": {},
     "output_type": "execute_result"
    }
   ],
   "source": [
    "adataFilt.obs['sampleID'].unique().shape"
   ]
  },
  {
   "cell_type": "code",
   "execution_count": 14,
   "id": "2b54e426-16a2-42e7-bdaf-a5b042d1411c",
   "metadata": {
    "execution": {
     "iopub.execute_input": "2024-10-22T11:58:36.039086Z",
     "iopub.status.busy": "2024-10-22T11:58:36.038749Z",
     "iopub.status.idle": "2024-10-22T11:58:36.072858Z",
     "shell.execute_reply": "2024-10-22T11:58:36.072311Z",
     "shell.execute_reply.started": "2024-10-22T11:58:36.039069Z"
    }
   },
   "outputs": [
    {
     "name": "stdout",
     "output_type": "stream",
     "text": [
      "['B', 'Cycling', 'DC', 'ILC', 'Mono', 'Plasma', 'Platelets', 'Progenitors', 'RBC', 'T_CD4_Naive', 'T_CD4_NonNaive', 'T_CD8_Naive', 'T_CD8_NonNaive', 'UTC', 'pDC']\n"
     ]
    }
   ],
   "source": [
    "print(sorted(set(adataFilt.obs.Level1.unique().tolist())))"
   ]
  },
  {
   "cell_type": "code",
   "execution_count": 15,
   "id": "1cce5e9f-9dc2-4127-87b3-4bd5f2fa77ed",
   "metadata": {
    "execution": {
     "iopub.execute_input": "2024-10-22T11:58:55.514396Z",
     "iopub.status.busy": "2024-10-22T11:58:55.514122Z",
     "iopub.status.idle": "2024-10-22T11:58:55.588483Z",
     "shell.execute_reply": "2024-10-22T11:58:55.588085Z",
     "shell.execute_reply.started": "2024-10-22T11:58:55.514378Z"
    },
    "scrolled": true
   },
   "outputs": [
    {
     "data": {
      "text/html": [
       "<div>\n",
       "<style scoped>\n",
       "    .dataframe tbody tr th:only-of-type {\n",
       "        vertical-align: middle;\n",
       "    }\n",
       "\n",
       "    .dataframe tbody tr th {\n",
       "        vertical-align: top;\n",
       "    }\n",
       "\n",
       "    .dataframe thead th {\n",
       "        text-align: right;\n",
       "    }\n",
       "</style>\n",
       "<table border=\"1\" class=\"dataframe\">\n",
       "  <thead>\n",
       "    <tr style=\"text-align: right;\">\n",
       "      <th></th>\n",
       "      <th>Level1</th>\n",
       "      <th>sampleID</th>\n",
       "      <th>Count</th>\n",
       "      <th>disease</th>\n",
       "    </tr>\n",
       "  </thead>\n",
       "  <tbody>\n",
       "    <tr>\n",
       "      <th>0</th>\n",
       "      <td>B</td>\n",
       "      <td>SCGT00_I51.3P_T0</td>\n",
       "      <td>553</td>\n",
       "      <td>RA</td>\n",
       "    </tr>\n",
       "    <tr>\n",
       "      <th>1</th>\n",
       "      <td>B</td>\n",
       "      <td>SCGT00_I52.3P_T0</td>\n",
       "      <td>812</td>\n",
       "      <td>RA</td>\n",
       "    </tr>\n",
       "    <tr>\n",
       "      <th>2</th>\n",
       "      <td>B</td>\n",
       "      <td>SCGT00_I53.3P_T0</td>\n",
       "      <td>116</td>\n",
       "      <td>RA</td>\n",
       "    </tr>\n",
       "    <tr>\n",
       "      <th>3</th>\n",
       "      <td>B</td>\n",
       "      <td>SCGT00_I54.3P_T0</td>\n",
       "      <td>234</td>\n",
       "      <td>RA</td>\n",
       "    </tr>\n",
       "    <tr>\n",
       "      <th>4</th>\n",
       "      <td>B</td>\n",
       "      <td>SCGT00_I55.3P_T0</td>\n",
       "      <td>459</td>\n",
       "      <td>RA</td>\n",
       "    </tr>\n",
       "    <tr>\n",
       "      <th>...</th>\n",
       "      <td>...</td>\n",
       "      <td>...</td>\n",
       "      <td>...</td>\n",
       "      <td>...</td>\n",
       "    </tr>\n",
       "    <tr>\n",
       "      <th>2275</th>\n",
       "      <td>pDC</td>\n",
       "      <td>SCGT00val_I036027_T0</td>\n",
       "      <td>11</td>\n",
       "      <td>RA</td>\n",
       "    </tr>\n",
       "    <tr>\n",
       "      <th>2276</th>\n",
       "      <td>pDC</td>\n",
       "      <td>SCGT00val_I036028_T0</td>\n",
       "      <td>23</td>\n",
       "      <td>RA</td>\n",
       "    </tr>\n",
       "    <tr>\n",
       "      <th>2277</th>\n",
       "      <td>pDC</td>\n",
       "      <td>SCGT00val_I036030_T0</td>\n",
       "      <td>4</td>\n",
       "      <td>RA</td>\n",
       "    </tr>\n",
       "    <tr>\n",
       "      <th>2278</th>\n",
       "      <td>pDC</td>\n",
       "      <td>SCGT00val_I036031_T0</td>\n",
       "      <td>17</td>\n",
       "      <td>RA</td>\n",
       "    </tr>\n",
       "    <tr>\n",
       "      <th>2279</th>\n",
       "      <td>pDC</td>\n",
       "      <td>SCGT00val_I036032_T0</td>\n",
       "      <td>19</td>\n",
       "      <td>RA</td>\n",
       "    </tr>\n",
       "  </tbody>\n",
       "</table>\n",
       "<p>2280 rows × 4 columns</p>\n",
       "</div>"
      ],
      "text/plain": [
       "     Level1              sampleID  Count disease\n",
       "0         B      SCGT00_I51.3P_T0    553      RA\n",
       "1         B      SCGT00_I52.3P_T0    812      RA\n",
       "2         B      SCGT00_I53.3P_T0    116      RA\n",
       "3         B      SCGT00_I54.3P_T0    234      RA\n",
       "4         B      SCGT00_I55.3P_T0    459      RA\n",
       "...     ...                   ...    ...     ...\n",
       "2275    pDC  SCGT00val_I036027_T0     11      RA\n",
       "2276    pDC  SCGT00val_I036028_T0     23      RA\n",
       "2277    pDC  SCGT00val_I036030_T0      4      RA\n",
       "2278    pDC  SCGT00val_I036031_T0     17      RA\n",
       "2279    pDC  SCGT00val_I036032_T0     19      RA\n",
       "\n",
       "[2280 rows x 4 columns]"
      ]
     },
     "execution_count": 15,
     "metadata": {},
     "output_type": "execute_result"
    }
   ],
   "source": [
    "cellTypeXpatient = pd.DataFrame(adataFilt.obs.groupby(['Level1','sampleID'], observed = False).size()).reset_index()\n",
    "cellTypeXpatient.columns = ['Level1','sampleID','Count']\n",
    "cellTypeXpatient.sort_values('Count')\n",
    "cellTypeXpatient = cellTypeXpatient.merge(adataFilt.obs[['sampleID','disease']].drop_duplicates(), on='sampleID', how='left') \n",
    "cellTypeXpatient"
   ]
  },
  {
   "cell_type": "code",
   "execution_count": 16,
   "id": "14a4561a-9290-4a9a-a6aa-e29207d721d0",
   "metadata": {
    "execution": {
     "iopub.execute_input": "2024-10-22T11:59:02.142984Z",
     "iopub.status.busy": "2024-10-22T11:59:02.142720Z",
     "iopub.status.idle": "2024-10-22T11:59:02.157175Z",
     "shell.execute_reply": "2024-10-22T11:59:02.156820Z",
     "shell.execute_reply.started": "2024-10-22T11:59:02.142964Z"
    }
   },
   "outputs": [
    {
     "data": {
      "text/html": [
       "<div>\n",
       "<style scoped>\n",
       "    .dataframe tbody tr th:only-of-type {\n",
       "        vertical-align: middle;\n",
       "    }\n",
       "\n",
       "    .dataframe tbody tr th {\n",
       "        vertical-align: top;\n",
       "    }\n",
       "\n",
       "    .dataframe thead th {\n",
       "        text-align: right;\n",
       "    }\n",
       "</style>\n",
       "<table border=\"1\" class=\"dataframe\">\n",
       "  <thead>\n",
       "    <tr style=\"text-align: right;\">\n",
       "      <th></th>\n",
       "      <th>Level1</th>\n",
       "      <th>disease</th>\n",
       "      <th>sampleID</th>\n",
       "      <th>tot_patient</th>\n",
       "      <th>proportion</th>\n",
       "    </tr>\n",
       "  </thead>\n",
       "  <tbody>\n",
       "    <tr>\n",
       "      <th>28</th>\n",
       "      <td>pDC</td>\n",
       "      <td>SLE</td>\n",
       "      <td>4</td>\n",
       "      <td>8</td>\n",
       "      <td>0.500000</td>\n",
       "    </tr>\n",
       "    <tr>\n",
       "      <th>29</th>\n",
       "      <td>pDC</td>\n",
       "      <td>UC</td>\n",
       "      <td>5</td>\n",
       "      <td>16</td>\n",
       "      <td>0.312500</td>\n",
       "    </tr>\n",
       "    <tr>\n",
       "      <th>4</th>\n",
       "      <td>Cycling</td>\n",
       "      <td>SLE</td>\n",
       "      <td>2</td>\n",
       "      <td>8</td>\n",
       "      <td>0.250000</td>\n",
       "    </tr>\n",
       "    <tr>\n",
       "      <th>2</th>\n",
       "      <td>Cycling</td>\n",
       "      <td>PSA</td>\n",
       "      <td>4</td>\n",
       "      <td>24</td>\n",
       "      <td>0.166667</td>\n",
       "    </tr>\n",
       "    <tr>\n",
       "      <th>27</th>\n",
       "      <td>pDC</td>\n",
       "      <td>RA</td>\n",
       "      <td>9</td>\n",
       "      <td>64</td>\n",
       "      <td>0.140625</td>\n",
       "    </tr>\n",
       "    <tr>\n",
       "      <th>3</th>\n",
       "      <td>Cycling</td>\n",
       "      <td>RA</td>\n",
       "      <td>6</td>\n",
       "      <td>64</td>\n",
       "      <td>0.093750</td>\n",
       "    </tr>\n",
       "    <tr>\n",
       "      <th>25</th>\n",
       "      <td>pDC</td>\n",
       "      <td>PS</td>\n",
       "      <td>2</td>\n",
       "      <td>24</td>\n",
       "      <td>0.083333</td>\n",
       "    </tr>\n",
       "    <tr>\n",
       "      <th>26</th>\n",
       "      <td>pDC</td>\n",
       "      <td>PSA</td>\n",
       "      <td>2</td>\n",
       "      <td>24</td>\n",
       "      <td>0.083333</td>\n",
       "    </tr>\n",
       "    <tr>\n",
       "      <th>0</th>\n",
       "      <td>Cycling</td>\n",
       "      <td>CD</td>\n",
       "      <td>1</td>\n",
       "      <td>16</td>\n",
       "      <td>0.062500</td>\n",
       "    </tr>\n",
       "    <tr>\n",
       "      <th>5</th>\n",
       "      <td>DC</td>\n",
       "      <td>UC</td>\n",
       "      <td>1</td>\n",
       "      <td>16</td>\n",
       "      <td>0.062500</td>\n",
       "    </tr>\n",
       "    <tr>\n",
       "      <th>24</th>\n",
       "      <td>pDC</td>\n",
       "      <td>CD</td>\n",
       "      <td>1</td>\n",
       "      <td>16</td>\n",
       "      <td>0.062500</td>\n",
       "    </tr>\n",
       "    <tr>\n",
       "      <th>1</th>\n",
       "      <td>Cycling</td>\n",
       "      <td>PS</td>\n",
       "      <td>1</td>\n",
       "      <td>24</td>\n",
       "      <td>0.041667</td>\n",
       "    </tr>\n",
       "  </tbody>\n",
       "</table>\n",
       "</div>"
      ],
      "text/plain": [
       "     Level1 disease  sampleID  tot_patient  proportion\n",
       "28      pDC     SLE         4            8    0.500000\n",
       "29      pDC      UC         5           16    0.312500\n",
       "4   Cycling     SLE         2            8    0.250000\n",
       "2   Cycling     PSA         4           24    0.166667\n",
       "27      pDC      RA         9           64    0.140625\n",
       "3   Cycling      RA         6           64    0.093750\n",
       "25      pDC      PS         2           24    0.083333\n",
       "26      pDC     PSA         2           24    0.083333\n",
       "0   Cycling      CD         1           16    0.062500\n",
       "5        DC      UC         1           16    0.062500\n",
       "24      pDC      CD         1           16    0.062500\n",
       "1   Cycling      PS         1           24    0.041667"
      ]
     },
     "execution_count": 16,
     "metadata": {},
     "output_type": "execute_result"
    }
   ],
   "source": [
    "threshold = 5\n",
    "patient_with_no_cellTypes = cellTypeXpatient.query('Count < @threshold')[['Level1','sampleID','disease']].groupby(['Level1','disease'], observed = True).count().reset_index().merge(patientXdisease, on='disease', how='left')\n",
    "patient_with_no_cellTypes['proportion']  = patient_with_no_cellTypes['sampleID'] / patient_with_no_cellTypes['tot_patient']\n",
    "patient_with_no_cellTypes.loc[~patient_with_no_cellTypes['Level1'].isin(['RBC','Progenitors','Platelets','Plasma']),:].sort_values('proportion', ascending=False)"
   ]
  },
  {
   "cell_type": "markdown",
   "id": "932723c3-48e7-4ecf-9f39-c9a105af928e",
   "metadata": {},
   "source": [
    "As you can see, we annotated a very few number of pDC / Cycling cells. Some patients show less than 5 cell."
   ]
  },
  {
   "cell_type": "markdown",
   "id": "cd7309bf-f744-47c6-9c92-44a2dc28ab90",
   "metadata": {},
   "source": [
    "**Cleaning object to keep only relevant fields for the next steps**"
   ]
  },
  {
   "cell_type": "code",
   "execution_count": 19,
   "id": "b3d874cf-e170-4ad2-bb42-f42469b6ced5",
   "metadata": {
    "execution": {
     "iopub.execute_input": "2024-10-22T12:01:25.979673Z",
     "iopub.status.busy": "2024-10-22T12:01:25.979472Z",
     "iopub.status.idle": "2024-10-22T12:01:25.990337Z",
     "shell.execute_reply": "2024-10-22T12:01:25.989871Z",
     "shell.execute_reply.started": "2024-10-22T12:01:25.979655Z"
    }
   },
   "outputs": [],
   "source": [
    "adataFilt.obs.drop(['timepoint_replicate', 'treatmentStatus', 'therapyResponse', 'age', 'BMI', 'technology', 'patientID',\n",
    "                     'diseaseStatus', 'smokingStatus', 'ethnicity', 'institute', 'diseaseGroup', 'n_genes_by_counts', \n",
    "                     'log1p_n_genes_by_counts', 'total_counts', 'log1p_total_counts', 'pct_counts_in_top_20_genes', 'total_counts_mt', \n",
    "                     'log1p_total_counts_mt', 'pct_counts_mt', 'total_counts_ribo', 'log1p_total_counts_ribo', 'pct_counts_ribo', \n",
    "                     'total_counts_hb', 'log1p_total_counts_hb', 'pct_counts_hb', 'total_counts_plt', 'log1p_total_counts_plt', \n",
    "                     'pct_counts_plt', 'S_score', 'G2M_score', 'phase'],\n",
    "                    axis=1,inplace=True)\n",
    "adataFilt.var.drop(['mt', 'ribo', 'hb', 'plt', 'n_cells_by_counts', 'mean_counts', 'log1p_mean_counts', \n",
    "                         'pct_dropout_by_counts', 'total_counts', 'log1p_total_counts'],axis=1, inplace=True)"
   ]
  },
  {
   "cell_type": "code",
   "execution_count": 20,
   "id": "3ee612e9-e1cd-476e-84e5-9d470537e1d7",
   "metadata": {
    "execution": {
     "iopub.execute_input": "2024-10-22T12:01:26.942744Z",
     "iopub.status.busy": "2024-10-22T12:01:26.942375Z",
     "iopub.status.idle": "2024-10-22T12:01:27.673645Z",
     "shell.execute_reply": "2024-10-22T12:01:27.673179Z",
     "shell.execute_reply.started": "2024-10-22T12:01:26.942711Z"
    }
   },
   "outputs": [],
   "source": [
    "adataFilt.X = adataFilt.layers['counts'].copy()"
   ]
  },
  {
   "cell_type": "code",
   "execution_count": 21,
   "id": "d301b4e2-eb2f-44bd-848e-6984c2304d72",
   "metadata": {
    "execution": {
     "iopub.execute_input": "2024-10-22T12:01:28.345538Z",
     "iopub.status.busy": "2024-10-22T12:01:28.344962Z",
     "iopub.status.idle": "2024-10-22T12:01:28.372340Z",
     "shell.execute_reply": "2024-10-22T12:01:28.371872Z",
     "shell.execute_reply.started": "2024-10-22T12:01:28.345511Z"
    }
   },
   "outputs": [],
   "source": [
    "del adataFilt.layers\n",
    "del adataFilt.uns"
   ]
  },
  {
   "cell_type": "code",
   "execution_count": 22,
   "id": "028309f3-5fc2-49a4-94e0-17b11a3529a9",
   "metadata": {
    "execution": {
     "iopub.execute_input": "2024-10-22T12:01:29.433024Z",
     "iopub.status.busy": "2024-10-22T12:01:29.432754Z",
     "iopub.status.idle": "2024-10-22T12:01:29.436204Z",
     "shell.execute_reply": "2024-10-22T12:01:29.435799Z",
     "shell.execute_reply.started": "2024-10-22T12:01:29.433004Z"
    },
    "scrolled": true
   },
   "outputs": [
    {
     "data": {
      "text/plain": [
       "AnnData object with n_obs × n_vars = 756120 × 37169\n",
       "    obs: 'studyID', 'libraryID', 'sampleID', 'chemistry', 'disease', 'sex', 'binned_age', 'batches', 'Level1'\n",
       "    var: 'hgnc_id', 'symbol', 'locus_group', 'HUGO_status'"
      ]
     },
     "execution_count": 22,
     "metadata": {},
     "output_type": "execute_result"
    }
   ],
   "source": [
    "adataFilt"
   ]
  },
  {
   "cell_type": "markdown",
   "id": "b87f15b2-e51f-4115-bb0a-3d7fd34af365",
   "metadata": {},
   "source": [
    "# Saving object"
   ]
  },
  {
   "cell_type": "code",
   "execution_count": 23,
   "id": "c29c5d2f-0d48-4766-8ea0-153d96c2e375",
   "metadata": {
    "execution": {
     "iopub.execute_input": "2024-10-22T12:01:35.973898Z",
     "iopub.status.busy": "2024-10-22T12:01:35.973494Z",
     "iopub.status.idle": "2024-10-22T12:04:16.252486Z",
     "shell.execute_reply": "2024-10-22T12:04:16.251808Z",
     "shell.execute_reply.started": "2024-10-22T12:01:35.973877Z"
    }
   },
   "outputs": [],
   "source": [
    "if overwriteData:\n",
    "    adataFilt.write(here('02_cell_annotation/SCGT00_CentralizedDataset/02_fromCellLineages_to_CellTypes/SCGT00_MAIN_annotated_LowQFilt.h5ad'), compression='gzip')"
   ]
  },
  {
   "cell_type": "markdown",
   "id": "6ba0516e-c8f0-429a-9b0e-d45820060a41",
   "metadata": {},
   "source": [
    "## Data exploring"
   ]
  },
  {
   "cell_type": "code",
   "execution_count": 25,
   "id": "bd2c50fa-c0a2-4320-b325-938f71b69a0e",
   "metadata": {
    "execution": {
     "iopub.execute_input": "2024-10-22T12:15:23.057954Z",
     "iopub.status.busy": "2024-10-22T12:15:23.057714Z",
     "iopub.status.idle": "2024-10-22T12:15:23.295124Z",
     "shell.execute_reply": "2024-10-22T12:15:23.294623Z",
     "shell.execute_reply.started": "2024-10-22T12:15:23.057937Z"
    }
   },
   "outputs": [],
   "source": [
    "import matplotlib.pyplot as plt\n",
    "from matplotlib.backends.backend_pdf import PdfPages\n",
    "from matplotlib.patches import Patch\n",
    "import plotly.io as pio\n",
    "\n",
    "# Import functions\n",
    "sys.path.insert(1, str(here('bin')))\n",
    "from customPalette import *\n",
    "\n",
    "dpi_fig_save = 300\n",
    "sc.set_figure_params(dpi=100, dpi_save=dpi_fig_save, vector_friendly=True)"
   ]
  },
  {
   "cell_type": "code",
   "execution_count": 4,
   "id": "46f3f98c-568c-45bb-bc47-fa3d00c18628",
   "metadata": {
    "execution": {
     "iopub.execute_input": "2024-07-06T13:27:17.032080Z",
     "iopub.status.busy": "2024-07-06T13:27:17.031781Z",
     "iopub.status.idle": "2024-07-06T13:30:13.282086Z",
     "shell.execute_reply": "2024-07-06T13:30:13.281423Z",
     "shell.execute_reply.started": "2024-07-06T13:27:17.032061Z"
    }
   },
   "outputs": [
    {
     "data": {
      "text/plain": [
       "AnnData object with n_obs × n_vars = 4435922 × 22838\n",
       "    obs: 'studyID', 'libraryID', 'sampleID', 'chemistry', 'disease', 'sex', 'binned_age', 'Level1', 'Level2'\n",
       "    var: 'hgnc_id', 'symbol', 'locus_group', 'HUGO_status'"
      ]
     },
     "execution_count": 4,
     "metadata": {},
     "output_type": "execute_result"
    }
   ],
   "source": [
    "adataFilt = ad.read_h5ad(here('02_cell_annotation/SCGT00_CentralizedDataset/02_fromCellLineages_to_CellTypes/SCGT00_MAIN_annotated_LowQFilt.h5ad'))\n",
    "adataFilt"
   ]
  },
  {
   "cell_type": "code",
   "execution_count": 26,
   "id": "c2243b31-cb41-4246-9099-e00e6939ea1b",
   "metadata": {
    "execution": {
     "iopub.execute_input": "2024-10-22T12:15:27.377150Z",
     "iopub.status.busy": "2024-10-22T12:15:27.376533Z",
     "iopub.status.idle": "2024-10-22T12:15:27.381772Z",
     "shell.execute_reply": "2024-10-22T12:15:27.381266Z",
     "shell.execute_reply.started": "2024-10-22T12:15:27.377130Z"
    }
   },
   "outputs": [],
   "source": [
    "obs_df = adataFilt.obs\n",
    "obs_df['Level1'] = pd.Categorical(obs_df['Level1'], categories=annotation_Level1_LowQFilt_sortednames)"
   ]
  },
  {
   "cell_type": "code",
   "execution_count": 27,
   "id": "1fb96c59-23fd-4478-a0a7-1198da7a7bb0",
   "metadata": {
    "execution": {
     "iopub.execute_input": "2024-10-22T12:15:28.539811Z",
     "iopub.status.busy": "2024-10-22T12:15:28.539348Z",
     "iopub.status.idle": "2024-10-22T12:15:28.586411Z",
     "shell.execute_reply": "2024-10-22T12:15:28.585988Z",
     "shell.execute_reply.started": "2024-10-22T12:15:28.539791Z"
    }
   },
   "outputs": [
    {
     "data": {
      "text/html": [
       "<div>\n",
       "<style scoped>\n",
       "    .dataframe tbody tr th:only-of-type {\n",
       "        vertical-align: middle;\n",
       "    }\n",
       "\n",
       "    .dataframe tbody tr th {\n",
       "        vertical-align: top;\n",
       "    }\n",
       "\n",
       "    .dataframe thead th {\n",
       "        text-align: right;\n",
       "    }\n",
       "</style>\n",
       "<table border=\"1\" class=\"dataframe\">\n",
       "  <thead>\n",
       "    <tr style=\"text-align: right;\">\n",
       "      <th>Level1</th>\n",
       "      <th>B</th>\n",
       "      <th>Plasma</th>\n",
       "      <th>pDC</th>\n",
       "      <th>DC</th>\n",
       "      <th>Mono</th>\n",
       "      <th>T_CD4_Naive</th>\n",
       "      <th>T_CD4_NonNaive</th>\n",
       "      <th>T_CD8_Naive</th>\n",
       "      <th>T_CD8_NonNaive</th>\n",
       "      <th>UTC</th>\n",
       "      <th>ILC</th>\n",
       "      <th>Cycling_cells</th>\n",
       "      <th>Progenitors</th>\n",
       "      <th>Platelets</th>\n",
       "      <th>RBC</th>\n",
       "    </tr>\n",
       "    <tr>\n",
       "      <th>disease</th>\n",
       "      <th></th>\n",
       "      <th></th>\n",
       "      <th></th>\n",
       "      <th></th>\n",
       "      <th></th>\n",
       "      <th></th>\n",
       "      <th></th>\n",
       "      <th></th>\n",
       "      <th></th>\n",
       "      <th></th>\n",
       "      <th></th>\n",
       "      <th></th>\n",
       "      <th></th>\n",
       "      <th></th>\n",
       "      <th></th>\n",
       "    </tr>\n",
       "  </thead>\n",
       "  <tbody>\n",
       "    <tr>\n",
       "      <th>RA</th>\n",
       "      <td>6.845165</td>\n",
       "      <td>0.171477</td>\n",
       "      <td>0.323648</td>\n",
       "      <td>1.250873</td>\n",
       "      <td>17.250748</td>\n",
       "      <td>16.477115</td>\n",
       "      <td>21.826683</td>\n",
       "      <td>4.642085</td>\n",
       "      <td>12.258044</td>\n",
       "      <td>3.396038</td>\n",
       "      <td>8.197675</td>\n",
       "      <td>0.0</td>\n",
       "      <td>0.207532</td>\n",
       "      <td>7.123673</td>\n",
       "      <td>0.029242</td>\n",
       "    </tr>\n",
       "    <tr>\n",
       "      <th>PS</th>\n",
       "      <td>8.472204</td>\n",
       "      <td>0.088912</td>\n",
       "      <td>0.427836</td>\n",
       "      <td>1.257098</td>\n",
       "      <td>15.125666</td>\n",
       "      <td>19.556318</td>\n",
       "      <td>23.249263</td>\n",
       "      <td>6.098860</td>\n",
       "      <td>7.949294</td>\n",
       "      <td>3.089044</td>\n",
       "      <td>8.234517</td>\n",
       "      <td>0.0</td>\n",
       "      <td>0.286104</td>\n",
       "      <td>6.158722</td>\n",
       "      <td>0.006162</td>\n",
       "    </tr>\n",
       "    <tr>\n",
       "      <th>PSA</th>\n",
       "      <td>8.874690</td>\n",
       "      <td>0.169227</td>\n",
       "      <td>0.664602</td>\n",
       "      <td>1.682017</td>\n",
       "      <td>21.178027</td>\n",
       "      <td>15.275584</td>\n",
       "      <td>19.905233</td>\n",
       "      <td>5.240918</td>\n",
       "      <td>9.209042</td>\n",
       "      <td>3.103526</td>\n",
       "      <td>8.754692</td>\n",
       "      <td>0.0</td>\n",
       "      <td>0.214355</td>\n",
       "      <td>5.689114</td>\n",
       "      <td>0.038974</td>\n",
       "    </tr>\n",
       "    <tr>\n",
       "      <th>CD</th>\n",
       "      <td>6.276644</td>\n",
       "      <td>0.225064</td>\n",
       "      <td>0.673869</td>\n",
       "      <td>1.877300</td>\n",
       "      <td>16.935420</td>\n",
       "      <td>15.765086</td>\n",
       "      <td>20.913761</td>\n",
       "      <td>5.919189</td>\n",
       "      <td>13.950009</td>\n",
       "      <td>2.815950</td>\n",
       "      <td>5.667646</td>\n",
       "      <td>0.0</td>\n",
       "      <td>0.276697</td>\n",
       "      <td>8.679535</td>\n",
       "      <td>0.023830</td>\n",
       "    </tr>\n",
       "    <tr>\n",
       "      <th>UC</th>\n",
       "      <td>6.817922</td>\n",
       "      <td>0.295736</td>\n",
       "      <td>0.247779</td>\n",
       "      <td>1.442143</td>\n",
       "      <td>14.928407</td>\n",
       "      <td>14.343785</td>\n",
       "      <td>19.321062</td>\n",
       "      <td>6.044897</td>\n",
       "      <td>21.416337</td>\n",
       "      <td>2.964215</td>\n",
       "      <td>5.623558</td>\n",
       "      <td>0.0</td>\n",
       "      <td>0.188403</td>\n",
       "      <td>6.332641</td>\n",
       "      <td>0.033113</td>\n",
       "    </tr>\n",
       "  </tbody>\n",
       "</table>\n",
       "</div>"
      ],
      "text/plain": [
       "Level1          B    Plasma       pDC        DC       Mono  T_CD4_Naive  \\\n",
       "disease                                                                   \n",
       "RA       6.845165  0.171477  0.323648  1.250873  17.250748    16.477115   \n",
       "PS       8.472204  0.088912  0.427836  1.257098  15.125666    19.556318   \n",
       "PSA      8.874690  0.169227  0.664602  1.682017  21.178027    15.275584   \n",
       "CD       6.276644  0.225064  0.673869  1.877300  16.935420    15.765086   \n",
       "UC       6.817922  0.295736  0.247779  1.442143  14.928407    14.343785   \n",
       "\n",
       "Level1   T_CD4_NonNaive  T_CD8_Naive  T_CD8_NonNaive       UTC       ILC  \\\n",
       "disease                                                                    \n",
       "RA            21.826683     4.642085       12.258044  3.396038  8.197675   \n",
       "PS            23.249263     6.098860        7.949294  3.089044  8.234517   \n",
       "PSA           19.905233     5.240918        9.209042  3.103526  8.754692   \n",
       "CD            20.913761     5.919189       13.950009  2.815950  5.667646   \n",
       "UC            19.321062     6.044897       21.416337  2.964215  5.623558   \n",
       "\n",
       "Level1   Cycling_cells  Progenitors  Platelets       RBC  \n",
       "disease                                                   \n",
       "RA                 0.0     0.207532   7.123673  0.029242  \n",
       "PS                 0.0     0.286104   6.158722  0.006162  \n",
       "PSA                0.0     0.214355   5.689114  0.038974  \n",
       "CD                 0.0     0.276697   8.679535  0.023830  \n",
       "UC                 0.0     0.188403   6.332641  0.033113  "
      ]
     },
     "execution_count": 27,
     "metadata": {},
     "output_type": "execute_result"
    }
   ],
   "source": [
    "agg_data = obs_df.groupby(['disease', 'Level1']).size().unstack(fill_value=0)\n",
    "agg_data = agg_data.div(agg_data.sum(axis=1), axis=0) * 100  # Calculate percentages\n",
    "\n",
    "agg_data.index = agg_data.index.astype(str)\n",
    "agg_data = agg_data.reindex(disease_sortednames)\n",
    "agg_data.head()"
   ]
  },
  {
   "cell_type": "code",
   "execution_count": 28,
   "id": "97f7d5ed-fbfc-4792-85a0-a6ac1331d28d",
   "metadata": {
    "execution": {
     "iopub.execute_input": "2024-10-22T12:15:29.664627Z",
     "iopub.status.busy": "2024-10-22T12:15:29.664126Z",
     "iopub.status.idle": "2024-10-22T12:15:31.063472Z",
     "shell.execute_reply": "2024-10-22T12:15:31.063027Z",
     "shell.execute_reply.started": "2024-10-22T12:15:29.664607Z"
    }
   },
   "outputs": [
    {
     "data": {
      "image/png": "[encoded data removed]",
      "text/plain": [
       "<Figure size 800x800 with 1 Axes>"
      ]
     },
     "metadata": {
      "image/png": {
       "height": 777,
       "width": 750
      }
     },
     "output_type": "display_data"
    }
   ],
   "source": [
    "# Plotting the stacked bar plot\n",
    "\n",
    "fig, ax = plt.subplots(figsize=(8, 8))\n",
    "agg_data.plot(kind='bar', stacked=True, color=annotation_Level1_palette, width=0.8, ax=ax)\n",
    "\n",
    "# Adding labels and title\n",
    "ax.xaxis.grid(False)\n",
    "plt.xticks(rotation=90)\n",
    "plt.legend(bbox_to_anchor=(1.3, 0.9), ncol=1, frameon=False)\n",
    "plt.tight_layout()\n",
    "\n",
    "plt.savefig(here(f\"02_cell_annotation/SCGT00_CentralizedDataset/02_fromCellLineages_to_CellTypes/figures/MAINdata_Level1Proportions_overview.pdf\"),\n",
    "dpi=300,\n",
    "bbox_inches='tight',\n",
    "pad_inches=0.1\n",
    ")\n",
    "\n",
    "plt.show()"
   ]
  },
  {
   "cell_type": "code",
   "execution_count": null,
   "id": "02b76b02-dcc5-4384-a89e-18d368343c8a",
   "metadata": {},
   "outputs": [],
   "source": []
  },
  {
   "cell_type": "code",
   "execution_count": null,
   "id": "6d94535f-1b10-43a5-b543-1145a9b9f59f",
   "metadata": {},
   "outputs": [],
   "source": []
  },
  {
   "cell_type": "code",
   "execution_count": null,
   "id": "20b572bc-dff4-4e01-b121-552e33413347",
   "metadata": {},
   "outputs": [],
   "source": []
  },
  {
   "cell_type": "code",
   "execution_count": null,
   "id": "3075e0b8-ed98-4ee0-a130-c06670059514",
   "metadata": {},
   "outputs": [],
   "source": []
  }
 ],
 "metadata": {
  "kernelspec": {
   "display_name": "Python 3 (ipykernel)",
   "language": "python",
   "name": "python3"
  },
  "language_info": {
   "codemirror_mode": {
    "name": "ipython",
    "version": 3
   },
   "file_extension": ".py",
   "mimetype": "text/x-python",
   "name": "python",
   "nbconvert_exporter": "python",
   "pygments_lexer": "ipython3",
   "version": "3.10.13"
  }
 },
 "nbformat": 4,
 "nbformat_minor": 5
}
