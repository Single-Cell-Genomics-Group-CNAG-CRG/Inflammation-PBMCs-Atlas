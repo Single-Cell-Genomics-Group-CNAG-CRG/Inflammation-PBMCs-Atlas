{
 "cells": [
  {
   "cell_type": "code",
   "execution_count": 1,
   "id": "2dd1425a-0c07-465e-b522-9e3cc5cb93a7",
   "metadata": {
    "execution": {
     "iopub.execute_input": "2024-10-17T14:03:34.030095Z",
     "iopub.status.busy": "2024-10-17T14:03:34.029629Z",
     "iopub.status.idle": "2024-10-17T14:03:37.659441Z",
     "shell.execute_reply": "2024-10-17T14:03:37.658661Z"
    },
    "papermill": {
     "duration": 3.647381,
     "end_time": "2024-10-17T14:03:37.661690",
     "exception": false,
     "start_time": "2024-10-17T14:03:34.014309",
     "status": "completed"
    },
    "tags": []
   },
   "outputs": [
    {
     "name": "stderr",
     "output_type": "stream",
     "text": [
      "/home/dmaspero/miniconda3/envs/scarches/lib/python3.9/site-packages/tqdm/auto.py:21: TqdmWarning: IProgress not found. Please update jupyter and ipywidgets. See https://ipywidgets.readthedocs.io/en/stable/user_install.html\n",
      "  from .autonotebook import tqdm as notebook_tqdm\n"
     ]
    },
    {
     "data": {
      "text/plain": [
       "True"
      ]
     },
     "execution_count": 1,
     "metadata": {},
     "output_type": "execute_result"
    }
   ],
   "source": [
    "import os\n",
    "import sys\n",
    "\n",
    "import numpy as np\n",
    "import matplotlib.pyplot as plt\n",
    "\n",
    "import scanpy as sc\n",
    "import scvi\n",
    "import torch\n",
    "\n",
    "from pytorch_lightning.loggers import WandbLogger\n",
    "import wandb\n",
    "from dotenv import load_dotenv\n",
    "\n",
    "import session_info\n",
    "import warnings\n",
    "from pyprojroot.here import here\n",
    "\n",
    "warnings.filterwarnings(\"ignore\")\n",
    "sys.path.insert(1, str(here('bin')))\n",
    "\n",
    "torch.set_float32_matmul_precision('high')\n",
    "\n",
    "#plt.style.use(['science','nature','no-latex'])\n",
    "dpi_fig_save = 300\n",
    "sc.set_figure_params(dpi=100, dpi_save=dpi_fig_save, vector_friendly=True)\n",
    "\n",
    "load_dotenv(here('.env'))"
   ]
  },
  {
   "cell_type": "code",
   "execution_count": 2,
   "id": "09c897fc-744b-43de-a681-718fb5d327fa",
   "metadata": {
    "execution": {
     "iopub.execute_input": "2024-10-17T14:03:37.684784Z",
     "iopub.status.busy": "2024-10-17T14:03:37.684197Z",
     "iopub.status.idle": "2024-10-17T14:03:37.689347Z",
     "shell.execute_reply": "2024-10-17T14:03:37.688485Z"
    },
    "papermill": {
     "duration": 0.019911,
     "end_time": "2024-10-17T14:03:37.691546",
     "exception": false,
     "start_time": "2024-10-17T14:03:37.671635",
     "status": "completed"
    },
    "tags": []
   },
   "outputs": [],
   "source": [
    "class CustomWandbLogger(WandbLogger):\n",
    "    @property\n",
    "    def save_dir(self):\n",
    "        return self.experiment.dir"
   ]
  },
  {
   "cell_type": "code",
   "execution_count": 3,
   "id": "8ee6662f-5d45-4137-80a5-bb0b9ae8d71f",
   "metadata": {
    "execution": {
     "iopub.execute_input": "2024-10-17T14:03:37.716029Z",
     "iopub.status.busy": "2024-10-17T14:03:37.715601Z",
     "iopub.status.idle": "2024-10-17T14:03:37.726157Z",
     "shell.execute_reply": "2024-10-17T14:03:37.725114Z"
    },
    "papermill": {
     "duration": 0.02833,
     "end_time": "2024-10-17T14:03:37.729114",
     "exception": false,
     "start_time": "2024-10-17T14:03:37.700784",
     "status": "completed"
    },
    "tags": []
   },
   "outputs": [
    {
     "name": "stderr",
     "output_type": "stream",
     "text": [
      "Seed set to 0\n"
     ]
    },
    {
     "name": "stdout",
     "output_type": "stream",
     "text": [
      "Last run with scvi-tools version: 1.1.2\n"
     ]
    }
   ],
   "source": [
    "scvi.settings.seed = 0\n",
    "print(\"Last run with scvi-tools version:\", scvi.__version__)"
   ]
  },
  {
   "cell_type": "markdown",
   "id": "a81037ff-5998-482a-ba86-520f757311a9",
   "metadata": {
    "papermill": {
     "duration": 0.069535,
     "end_time": "2024-10-17T14:03:37.810197",
     "exception": false,
     "start_time": "2024-10-17T14:03:37.740662",
     "status": "completed"
    },
    "tags": []
   },
   "source": [
    "**Setting parameters** "
   ]
  },
  {
   "cell_type": "code",
   "execution_count": 4,
   "id": "56c27966-8f10-4c93-8b1a-1fa75f005e41",
   "metadata": {
    "execution": {
     "iopub.execute_input": "2024-10-17T14:03:37.840436Z",
     "iopub.status.busy": "2024-10-17T14:03:37.839946Z",
     "iopub.status.idle": "2024-10-17T14:03:37.845566Z",
     "shell.execute_reply": "2024-10-17T14:03:37.844455Z"
    },
    "papermill": {
     "duration": 0.022572,
     "end_time": "2024-10-17T14:03:37.848541",
     "exception": false,
     "start_time": "2024-10-17T14:03:37.825969",
     "status": "completed"
    },
    "tags": []
   },
   "outputs": [],
   "source": [
    "overwriteFigures = True\n",
    "overwriteData = True"
   ]
  },
  {
   "cell_type": "code",
   "execution_count": 5,
   "id": "c86fccd3-a4fe-415b-8f4e-e2ceb3ec128a",
   "metadata": {
    "execution": {
     "iopub.execute_input": "2024-10-17T14:03:37.874427Z",
     "iopub.status.busy": "2024-10-17T14:03:37.873920Z",
     "iopub.status.idle": "2024-10-17T14:03:37.879813Z",
     "shell.execute_reply": "2024-10-17T14:03:37.878633Z"
    },
    "papermill": {
     "duration": 0.022232,
     "end_time": "2024-10-17T14:03:37.883201",
     "exception": false,
     "start_time": "2024-10-17T14:03:37.860969",
     "status": "completed"
    },
    "tags": []
   },
   "outputs": [],
   "source": [
    "cellGroup = 'pDC'\n",
    "workDir = os.getcwd()"
   ]
  },
  {
   "cell_type": "code",
   "execution_count": 6,
   "id": "2dee4d55-d168-467b-b867-a61fed9d6af1",
   "metadata": {
    "execution": {
     "iopub.execute_input": "2024-10-17T14:03:37.926166Z",
     "iopub.status.busy": "2024-10-17T14:03:37.925673Z",
     "iopub.status.idle": "2024-10-17T14:03:37.932075Z",
     "shell.execute_reply": "2024-10-17T14:03:37.930903Z"
    },
    "papermill": {
     "duration": 0.025128,
     "end_time": "2024-10-17T14:03:37.935171",
     "exception": false,
     "start_time": "2024-10-17T14:03:37.910043",
     "status": "completed"
    },
    "tags": []
   },
   "outputs": [],
   "source": [
    "annotationLevel = os.path.basename(os.path.normpath(workDir))"
   ]
  },
  {
   "cell_type": "code",
   "execution_count": 7,
   "id": "11e53cd5-b746-4152-89cb-c2f0c15d90b3",
   "metadata": {
    "execution": {
     "iopub.execute_input": "2024-10-17T14:03:37.983697Z",
     "iopub.status.busy": "2024-10-17T14:03:37.983190Z",
     "iopub.status.idle": "2024-10-17T14:03:37.991261Z",
     "shell.execute_reply": "2024-10-17T14:03:37.990174Z"
    },
    "papermill": {
     "duration": 0.04747,
     "end_time": "2024-10-17T14:03:37.994499",
     "exception": false,
     "start_time": "2024-10-17T14:03:37.947029",
     "status": "completed"
    },
    "tags": []
   },
   "outputs": [
    {
     "data": {
      "text/plain": [
       "'/scratch_isilon/groups/singlecell/shared/projects/Inflammation-PBMCs-Atlas/02_cell_annotation/SCGT00_CentralizedDataset/02_fromCellLineages_to_CellTypes/Step1'"
      ]
     },
     "execution_count": 7,
     "metadata": {},
     "output_type": "execute_result"
    }
   ],
   "source": [
    "workDir"
   ]
  },
  {
   "cell_type": "markdown",
   "id": "171d2f06-9a44-4fcb-b437-35dc546674b6",
   "metadata": {
    "papermill": {
     "duration": 0.062565,
     "end_time": "2024-10-17T14:03:38.073120",
     "exception": false,
     "start_time": "2024-10-17T14:03:38.010555",
     "status": "completed"
    },
    "tags": []
   },
   "source": [
    "**Load data**"
   ]
  },
  {
   "cell_type": "code",
   "execution_count": 8,
   "id": "429f34fe-dde6-4cc9-9f75-7de8f85c5ffe",
   "metadata": {
    "execution": {
     "iopub.execute_input": "2024-10-17T14:03:38.156208Z",
     "iopub.status.busy": "2024-10-17T14:03:38.155713Z",
     "iopub.status.idle": "2024-10-17T14:03:38.560265Z",
     "shell.execute_reply": "2024-10-17T14:03:38.559595Z"
    },
    "papermill": {
     "duration": 0.43716,
     "end_time": "2024-10-17T14:03:38.563607",
     "exception": false,
     "start_time": "2024-10-17T14:03:38.126447",
     "status": "completed"
    },
    "tags": []
   },
   "outputs": [
    {
     "data": {
      "text/plain": [
       "AnnData object with n_obs × n_vars = 3767 × 1115\n",
       "    obs: 'studyID', 'libraryID', 'sampleID', 'chemistry', 'technology', 'patientID', 'disease', 'timepoint_replicate', 'treatmentStatus', 'therapyResponse', 'sex', 'age', 'BMI', 'binned_age', 'diseaseStatus', 'smokingStatus', 'ethnicity', 'institute', 'diseaseGroup', 'batches', 'n_genes_by_counts', 'log1p_n_genes_by_counts', 'total_counts', 'log1p_total_counts', 'pct_counts_in_top_20_genes', 'total_counts_mt', 'log1p_total_counts_mt', 'pct_counts_mt', 'total_counts_ribo', 'log1p_total_counts_ribo', 'pct_counts_ribo', 'total_counts_hb', 'log1p_total_counts_hb', 'pct_counts_hb', 'total_counts_plt', 'log1p_total_counts_plt', 'pct_counts_plt', 'S_score', 'G2M_score', 'phase'\n",
       "    var: 'hgnc_id', 'symbol', 'locus_group', 'HUGO_status', 'mt', 'ribo', 'hb', 'plt', 'n_cells_by_counts', 'mean_counts', 'log1p_mean_counts', 'pct_dropout_by_counts', 'total_counts', 'log1p_total_counts', 'highly_variable', 'means', 'dispersions', 'dispersions_norm', 'highly_variable_nbatches', 'highly_variable_intersection'\n",
       "    uns: 'disease_colors', 'hvg', 'log1p'\n",
       "    layers: 'counts', 'log1p_10e4_counts'"
      ]
     },
     "execution_count": 8,
     "metadata": {},
     "output_type": "execute_result"
    }
   ],
   "source": [
    "adata = sc.read_h5ad(here(f\"{workDir}/{cellGroup}/results/01_{cellGroup}_normalized_HVGsubset.h5ad\"))\n",
    "adata"
   ]
  },
  {
   "cell_type": "markdown",
   "id": "8ac79f3b-d5af-41fa-8904-1e9ac1cbe2fb",
   "metadata": {
    "papermill": {
     "duration": 0.009225,
     "end_time": "2024-10-17T14:03:38.587028",
     "exception": false,
     "start_time": "2024-10-17T14:03:38.577803",
     "status": "completed"
    },
    "tags": []
   },
   "source": [
    "## scVI integration"
   ]
  },
  {
   "cell_type": "markdown",
   "id": "9544847d-d17f-4811-b14b-760446d54d32",
   "metadata": {
    "execution": {
     "iopub.execute_input": "2024-03-25T16:49:04.004504Z",
     "iopub.status.busy": "2024-03-25T16:49:04.004143Z",
     "iopub.status.idle": "2024-03-25T16:49:04.010148Z",
     "shell.execute_reply": "2024-03-25T16:49:04.009146Z",
     "shell.execute_reply.started": "2024-03-25T16:49:04.004477Z"
    },
    "papermill": {
     "duration": 0.010336,
     "end_time": "2024-10-17T14:03:38.607849",
     "exception": false,
     "start_time": "2024-10-17T14:03:38.597513",
     "status": "completed"
    },
    "tags": []
   },
   "source": [
    "**scVI parameters**"
   ]
  },
  {
   "cell_type": "code",
   "execution_count": 9,
   "id": "208966eb-545a-4c02-854c-0ed0487ef5b3",
   "metadata": {
    "execution": {
     "iopub.execute_input": "2024-10-17T14:03:38.631204Z",
     "iopub.status.busy": "2024-10-17T14:03:38.630913Z",
     "iopub.status.idle": "2024-10-17T14:03:38.637613Z",
     "shell.execute_reply": "2024-10-17T14:03:38.636708Z"
    },
    "papermill": {
     "duration": 0.021533,
     "end_time": "2024-10-17T14:03:38.640521",
     "exception": false,
     "start_time": "2024-10-17T14:03:38.618988",
     "status": "completed"
    },
    "tags": []
   },
   "outputs": [],
   "source": [
    "# https://docs.scvi-tools.org/en/stable/api/reference/scvi.train.Trainer.html#scvi.train.Trainer\n",
    "setup_kwargs = dict(\n",
    "    layer=\"counts\", \n",
    "    batch_key='libraryID', \n",
    "    categorical_covariate_keys = ['disease', 'sampleID'],\n",
    ")\n",
    "\n",
    "scvi_kwargs = dict(n_hidden=512,\n",
    "                   n_latent=10, # reduced to 20 after step 00 (main) and to 10 after step 03\n",
    "                   n_layers=2,\n",
    "                   gene_likelihood='nb')\n",
    "\n",
    "trainer_kwargs = dict(\n",
    "    checkpointing_monitor = 'elbo_validation',\n",
    "    early_stopping_monitor = 'reconstruction_loss_validation',\n",
    "    early_stopping_patience = 10,\n",
    "    early_stopping_min_delta=0.1,\n",
    "    early_stopping = True,\n",
    "    max_epochs = 1000,\n",
    "\n",
    "    #logger = # wandb\n",
    ")\n",
    "# https://docs.scvi-tools.org/en/stable/api/reference/scvi.train.TrainingPlan.html#scvi.train.TrainingPlan\n",
    "plan_kwargs = dict(\n",
    "    lr = 5e-4,\n",
    "    #reduce_lr_on_plateau = True\n",
    ")\n",
    "\n",
    "# https://docs.scvi-tools.org/en/stable/api/reference/scvi.module.VAE.html#scvi.module.VAE\n",
    "#vae = dict(\n",
    "#    use_layer_norm='both',\n",
    "#    use_batch_norm='none',\n",
    "#    encode_covariates=True,\n",
    "#    deeply_inject_covariates=False\n",
    "#)\n",
    "parameter_dict = setup_kwargs | scvi_kwargs | trainer_kwargs | plan_kwargs"
   ]
  },
  {
   "cell_type": "markdown",
   "id": "1362366a-c16b-4c11-964b-b9c5f82f7b29",
   "metadata": {
    "papermill": {
     "duration": 0.012324,
     "end_time": "2024-10-17T14:03:38.665098",
     "exception": false,
     "start_time": "2024-10-17T14:03:38.652774",
     "status": "completed"
    },
    "tags": []
   },
   "source": [
    "**wandb parameter**"
   ]
  },
  {
   "cell_type": "code",
   "execution_count": 10,
   "id": "0496e33a-8ca5-423f-b42f-34a59760708c",
   "metadata": {
    "execution": {
     "iopub.execute_input": "2024-10-17T14:03:38.693659Z",
     "iopub.status.busy": "2024-10-17T14:03:38.692507Z",
     "iopub.status.idle": "2024-10-17T14:03:38.700603Z",
     "shell.execute_reply": "2024-10-17T14:03:38.699282Z"
    },
    "papermill": {
     "duration": 0.02495,
     "end_time": "2024-10-17T14:03:38.703716",
     "exception": false,
     "start_time": "2024-10-17T14:03:38.678766",
     "status": "completed"
    },
    "tags": []
   },
   "outputs": [
    {
     "data": {
      "text/plain": [
       "'Step1_pDC'"
      ]
     },
     "execution_count": 10,
     "metadata": {},
     "output_type": "execute_result"
    }
   ],
   "source": [
    "run_name = f\"{annotationLevel}_{cellGroup}\"\n",
    "run_name"
   ]
  },
  {
   "cell_type": "code",
   "execution_count": 11,
   "id": "b0021327-95a2-4002-bf32-2c5779a99505",
   "metadata": {
    "execution": {
     "iopub.execute_input": "2024-10-17T14:03:38.732620Z",
     "iopub.status.busy": "2024-10-17T14:03:38.732117Z",
     "iopub.status.idle": "2024-10-17T14:03:38.782240Z",
     "shell.execute_reply": "2024-10-17T14:03:38.781471Z"
    },
    "papermill": {
     "duration": 0.067329,
     "end_time": "2024-10-17T14:03:38.785394",
     "exception": false,
     "start_time": "2024-10-17T14:03:38.718065",
     "status": "completed"
    },
    "tags": []
   },
   "outputs": [],
   "source": [
    "logger = CustomWandbLogger(name = run_name, project='inflammation_atlas_R1', config=parameter_dict)"
   ]
  },
  {
   "cell_type": "markdown",
   "id": "c237eee1-a976-4915-9b7f-b014bf33f47d",
   "metadata": {
    "papermill": {
     "duration": 0.011782,
     "end_time": "2024-10-17T14:03:38.811009",
     "exception": false,
     "start_time": "2024-10-17T14:03:38.799227",
     "status": "completed"
    },
    "tags": []
   },
   "source": [
    "**Running integration**"
   ]
  },
  {
   "cell_type": "code",
   "execution_count": 12,
   "id": "aff97c53-1aba-462e-8a77-f1aec9cf724c",
   "metadata": {
    "execution": {
     "iopub.execute_input": "2024-10-17T14:03:38.834716Z",
     "iopub.status.busy": "2024-10-17T14:03:38.834499Z",
     "iopub.status.idle": "2024-10-17T14:03:38.952963Z",
     "shell.execute_reply": "2024-10-17T14:03:38.951590Z"
    },
    "papermill": {
     "duration": 0.134507,
     "end_time": "2024-10-17T14:03:38.956220",
     "exception": false,
     "start_time": "2024-10-17T14:03:38.821713",
     "status": "completed"
    },
    "tags": []
   },
   "outputs": [
    {
     "name": "stderr",
     "output_type": "stream",
     "text": [
      "CUDA backend failed to initialize: Unable to use CUDA because of the following issues with CUDA components:\n",
      "Outdated cuSPARSE installation found.\n",
      "Version JAX was built against: 12200\n",
      "Minimum supported: 12100\n",
      "Installed version: 12002\n",
      "The local installation version must be no lower than 12100. (Set TF_CPP_MIN_LOG_LEVEL=0 and rerun for more info.)\n"
     ]
    }
   ],
   "source": [
    "scvi.model.SCVI.setup_anndata(adata, \n",
    "                              **setup_kwargs)"
   ]
  },
  {
   "cell_type": "code",
   "execution_count": 13,
   "id": "1a56f448-cf44-47c1-81a4-a89caa930fec",
   "metadata": {
    "execution": {
     "iopub.execute_input": "2024-10-17T14:03:39.038354Z",
     "iopub.status.busy": "2024-10-17T14:03:39.037988Z",
     "iopub.status.idle": "2024-10-17T14:03:39.092028Z",
     "shell.execute_reply": "2024-10-17T14:03:39.091083Z"
    },
    "papermill": {
     "duration": 0.072976,
     "end_time": "2024-10-17T14:03:39.095375",
     "exception": false,
     "start_time": "2024-10-17T14:03:39.022399",
     "status": "completed"
    },
    "tags": []
   },
   "outputs": [],
   "source": [
    "model = scvi.model.SCVI(adata, **scvi_kwargs)"
   ]
  },
  {
   "cell_type": "code",
   "execution_count": 14,
   "id": "2735f010-4f24-4ae8-9740-a8cfeb335e9a",
   "metadata": {
    "execution": {
     "iopub.execute_input": "2024-10-17T14:03:39.123021Z",
     "iopub.status.busy": "2024-10-17T14:03:39.122511Z",
     "iopub.status.idle": "2024-10-17T14:03:59.256019Z",
     "shell.execute_reply": "2024-10-17T14:03:59.255521Z"
    },
    "papermill": {
     "duration": 20.14952,
     "end_time": "2024-10-17T14:03:59.259267",
     "exception": false,
     "start_time": "2024-10-17T14:03:39.109747",
     "status": "completed"
    },
    "tags": []
   },
   "outputs": [
    {
     "name": "stderr",
     "output_type": "stream",
     "text": [
      "GPU available: True (cuda), used: True\n"
     ]
    },
    {
     "name": "stderr",
     "output_type": "stream",
     "text": [
      "TPU available: False, using: 0 TPU cores\n"
     ]
    },
    {
     "name": "stderr",
     "output_type": "stream",
     "text": [
      "IPU available: False, using: 0 IPUs\n"
     ]
    },
    {
     "name": "stderr",
     "output_type": "stream",
     "text": [
      "HPU available: False, using: 0 HPUs\n"
     ]
    },
    {
     "name": "stderr",
     "output_type": "stream",
     "text": [
      "\u001b[34m\u001b[1mwandb\u001b[0m: Currently logged in as: \u001b[33mdav1989\u001b[0m (\u001b[33minflammation\u001b[0m). Use \u001b[1m`wandb login --relogin`\u001b[0m to force relogin\n"
     ]
    },
    {
     "name": "stderr",
     "output_type": "stream",
     "text": [
      "\u001b[34m\u001b[1mwandb\u001b[0m: wandb version 0.18.3 is available!  To upgrade, please run:\n",
      "\u001b[34m\u001b[1mwandb\u001b[0m:  $ pip install wandb --upgrade\n"
     ]
    },
    {
     "name": "stderr",
     "output_type": "stream",
     "text": [
      "\u001b[34m\u001b[1mwandb\u001b[0m: Tracking run with wandb version 0.16.5\n"
     ]
    },
    {
     "name": "stderr",
     "output_type": "stream",
     "text": [
      "\u001b[34m\u001b[1mwandb\u001b[0m: Run data is saved locally in \u001b[35m\u001b[1m./wandb/run-20241017_140341-7tja7i1s\u001b[0m\n",
      "\u001b[34m\u001b[1mwandb\u001b[0m: Run \u001b[1m`wandb offline`\u001b[0m to turn off syncing.\n"
     ]
    },
    {
     "name": "stderr",
     "output_type": "stream",
     "text": [
      "\u001b[34m\u001b[1mwandb\u001b[0m: Syncing run \u001b[33mStep1_pDC\u001b[0m\n"
     ]
    },
    {
     "name": "stderr",
     "output_type": "stream",
     "text": [
      "\u001b[34m\u001b[1mwandb\u001b[0m: ⭐️ View project at \u001b[34m\u001b[4mhttps://wandb.ai/inflammation/inflammation_atlas_R1\u001b[0m\n"
     ]
    },
    {
     "name": "stderr",
     "output_type": "stream",
     "text": [
      "\u001b[34m\u001b[1mwandb\u001b[0m: 🚀 View run at \u001b[34m\u001b[4mhttps://wandb.ai/inflammation/inflammation_atlas_R1/runs/7tja7i1s/workspace\u001b[0m\n"
     ]
    },
    {
     "name": "stderr",
     "output_type": "stream",
     "text": [
      "LOCAL_RANK: 0 - CUDA_VISIBLE_DEVICES: [0]\n"
     ]
    },
    {
     "name": "stdout",
     "output_type": "stream",
     "text": [
      "\r",
      "Training:   0%|                                                                                                                     | 0/1000 [00:00<?, ?it/s]"
     ]
    },
    {
     "name": "stdout",
     "output_type": "stream",
     "text": [
      "\r",
      "Epoch 1/1000:   0%|                                                                                                                 | 0/1000 [00:00<?, ?it/s]"
     ]
    },
    {
     "name": "stdout",
     "output_type": "stream",
     "text": [
      "\r",
      "Epoch 1/1000:   0%|                                                                                                         | 1/1000 [00:00<09:27,  1.76it/s]"
     ]
    },
    {
     "name": "stdout",
     "output_type": "stream",
     "text": [
      "\r",
      "Epoch 1/1000:   0%|                                                  | 1/1000 [00:00<09:27,  1.76it/s, v_num=7i1s, train_loss_step=768, train_loss_epoch=811]"
     ]
    },
    {
     "name": "stdout",
     "output_type": "stream",
     "text": [
      "\r",
      "Epoch 2/1000:   0%|                                                  | 1/1000 [00:00<09:27,  1.76it/s, v_num=7i1s, train_loss_step=768, train_loss_epoch=811]"
     ]
    },
    {
     "name": "stdout",
     "output_type": "stream",
     "text": [
      "\r",
      "Epoch 2/1000:   0%|                                                  | 2/1000 [00:00<07:25,  2.24it/s, v_num=7i1s, train_loss_step=768, train_loss_epoch=811]"
     ]
    },
    {
     "name": "stdout",
     "output_type": "stream",
     "text": [
      "\r",
      "Epoch 2/1000:   0%|                                                  | 2/1000 [00:00<07:25,  2.24it/s, v_num=7i1s, train_loss_step=679, train_loss_epoch=702]"
     ]
    },
    {
     "name": "stdout",
     "output_type": "stream",
     "text": [
      "\r",
      "Epoch 3/1000:   0%|                                                  | 2/1000 [00:00<07:25,  2.24it/s, v_num=7i1s, train_loss_step=679, train_loss_epoch=702]"
     ]
    },
    {
     "name": "stdout",
     "output_type": "stream",
     "text": [
      "\r",
      "Epoch 3/1000:   0%|▏                                                 | 3/1000 [00:01<06:34,  2.52it/s, v_num=7i1s, train_loss_step=679, train_loss_epoch=702]"
     ]
    },
    {
     "name": "stdout",
     "output_type": "stream",
     "text": [
      "\r",
      "Epoch 3/1000:   0%|▏                                                 | 3/1000 [00:01<06:34,  2.52it/s, v_num=7i1s, train_loss_step=706, train_loss_epoch=689]"
     ]
    },
    {
     "name": "stdout",
     "output_type": "stream",
     "text": [
      "\r",
      "Epoch 4/1000:   0%|▏                                                 | 3/1000 [00:01<06:34,  2.52it/s, v_num=7i1s, train_loss_step=706, train_loss_epoch=689]"
     ]
    },
    {
     "name": "stdout",
     "output_type": "stream",
     "text": [
      "\r",
      "Epoch 4/1000:   0%|▏                                                 | 4/1000 [00:01<06:14,  2.66it/s, v_num=7i1s, train_loss_step=706, train_loss_epoch=689]"
     ]
    },
    {
     "name": "stdout",
     "output_type": "stream",
     "text": [
      "\r",
      "Epoch 4/1000:   0%|▏                                                 | 4/1000 [00:01<06:14,  2.66it/s, v_num=7i1s, train_loss_step=676, train_loss_epoch=683]"
     ]
    },
    {
     "name": "stdout",
     "output_type": "stream",
     "text": [
      "\r",
      "Epoch 5/1000:   0%|▏                                                 | 4/1000 [00:01<06:14,  2.66it/s, v_num=7i1s, train_loss_step=676, train_loss_epoch=683]"
     ]
    },
    {
     "name": "stdout",
     "output_type": "stream",
     "text": [
      "\r",
      "Epoch 5/1000:   0%|▎                                                 | 5/1000 [00:01<06:08,  2.70it/s, v_num=7i1s, train_loss_step=676, train_loss_epoch=683]"
     ]
    },
    {
     "name": "stdout",
     "output_type": "stream",
     "text": [
      "\r",
      "Epoch 5/1000:   0%|▎                                                 | 5/1000 [00:01<06:08,  2.70it/s, v_num=7i1s, train_loss_step=718, train_loss_epoch=679]"
     ]
    },
    {
     "name": "stdout",
     "output_type": "stream",
     "text": [
      "\r",
      "Epoch 6/1000:   0%|▎                                                 | 5/1000 [00:01<06:08,  2.70it/s, v_num=7i1s, train_loss_step=718, train_loss_epoch=679]"
     ]
    },
    {
     "name": "stdout",
     "output_type": "stream",
     "text": [
      "\r",
      "Epoch 6/1000:   1%|▎                                                 | 6/1000 [00:02<06:14,  2.65it/s, v_num=7i1s, train_loss_step=718, train_loss_epoch=679]"
     ]
    },
    {
     "name": "stdout",
     "output_type": "stream",
     "text": [
      "\r",
      "Epoch 6/1000:   1%|▎                                                 | 6/1000 [00:02<06:14,  2.65it/s, v_num=7i1s, train_loss_step=657, train_loss_epoch=675]"
     ]
    },
    {
     "name": "stdout",
     "output_type": "stream",
     "text": [
      "\r",
      "Epoch 7/1000:   1%|▎                                                 | 6/1000 [00:02<06:14,  2.65it/s, v_num=7i1s, train_loss_step=657, train_loss_epoch=675]"
     ]
    },
    {
     "name": "stdout",
     "output_type": "stream",
     "text": [
      "\r",
      "Epoch 7/1000:   1%|▎                                                 | 7/1000 [00:02<06:07,  2.70it/s, v_num=7i1s, train_loss_step=657, train_loss_epoch=675]"
     ]
    },
    {
     "name": "stdout",
     "output_type": "stream",
     "text": [
      "\r",
      "Epoch 7/1000:   1%|▎                                                 | 7/1000 [00:02<06:07,  2.70it/s, v_num=7i1s, train_loss_step=666, train_loss_epoch=671]"
     ]
    },
    {
     "name": "stdout",
     "output_type": "stream",
     "text": [
      "\r",
      "Epoch 8/1000:   1%|▎                                                 | 7/1000 [00:02<06:07,  2.70it/s, v_num=7i1s, train_loss_step=666, train_loss_epoch=671]"
     ]
    },
    {
     "name": "stdout",
     "output_type": "stream",
     "text": [
      "\r",
      "Epoch 8/1000:   1%|▍                                                 | 8/1000 [00:03<06:17,  2.63it/s, v_num=7i1s, train_loss_step=666, train_loss_epoch=671]"
     ]
    },
    {
     "name": "stdout",
     "output_type": "stream",
     "text": [
      "\r",
      "Epoch 8/1000:   1%|▍                                                 | 8/1000 [00:03<06:17,  2.63it/s, v_num=7i1s, train_loss_step=696, train_loss_epoch=668]"
     ]
    },
    {
     "name": "stdout",
     "output_type": "stream",
     "text": [
      "\r",
      "Epoch 9/1000:   1%|▍                                                 | 8/1000 [00:03<06:17,  2.63it/s, v_num=7i1s, train_loss_step=696, train_loss_epoch=668]"
     ]
    },
    {
     "name": "stdout",
     "output_type": "stream",
     "text": [
      "\r",
      "Epoch 9/1000:   1%|▍                                                 | 9/1000 [00:03<06:26,  2.57it/s, v_num=7i1s, train_loss_step=696, train_loss_epoch=668]"
     ]
    },
    {
     "name": "stdout",
     "output_type": "stream",
     "text": [
      "\r",
      "Epoch 9/1000:   1%|▍                                                 | 9/1000 [00:03<06:26,  2.57it/s, v_num=7i1s, train_loss_step=673, train_loss_epoch=666]"
     ]
    },
    {
     "name": "stdout",
     "output_type": "stream",
     "text": [
      "\r",
      "Epoch 10/1000:   1%|▍                                                | 9/1000 [00:03<06:26,  2.57it/s, v_num=7i1s, train_loss_step=673, train_loss_epoch=666]"
     ]
    },
    {
     "name": "stdout",
     "output_type": "stream",
     "text": [
      "\r",
      "Epoch 10/1000:   1%|▍                                               | 10/1000 [00:03<06:06,  2.70it/s, v_num=7i1s, train_loss_step=673, train_loss_epoch=666]"
     ]
    },
    {
     "name": "stdout",
     "output_type": "stream",
     "text": [
      "\r",
      "Epoch 10/1000:   1%|▍                                               | 10/1000 [00:03<06:06,  2.70it/s, v_num=7i1s, train_loss_step=639, train_loss_epoch=664]"
     ]
    },
    {
     "name": "stdout",
     "output_type": "stream",
     "text": [
      "\r",
      "Epoch 11/1000:   1%|▍                                               | 10/1000 [00:03<06:06,  2.70it/s, v_num=7i1s, train_loss_step=639, train_loss_epoch=664]"
     ]
    },
    {
     "name": "stdout",
     "output_type": "stream",
     "text": [
      "\r",
      "Epoch 11/1000:   1%|▌                                               | 11/1000 [00:04<06:10,  2.67it/s, v_num=7i1s, train_loss_step=639, train_loss_epoch=664]"
     ]
    },
    {
     "name": "stdout",
     "output_type": "stream",
     "text": [
      "\r",
      "Epoch 11/1000:   1%|▌                                               | 11/1000 [00:04<06:10,  2.67it/s, v_num=7i1s, train_loss_step=631, train_loss_epoch=661]"
     ]
    },
    {
     "name": "stdout",
     "output_type": "stream",
     "text": [
      "\r",
      "Epoch 12/1000:   1%|▌                                               | 11/1000 [00:04<06:10,  2.67it/s, v_num=7i1s, train_loss_step=631, train_loss_epoch=661]"
     ]
    },
    {
     "name": "stdout",
     "output_type": "stream",
     "text": [
      "\r",
      "Epoch 12/1000:   1%|▌                                               | 12/1000 [00:04<05:59,  2.75it/s, v_num=7i1s, train_loss_step=631, train_loss_epoch=661]"
     ]
    },
    {
     "name": "stdout",
     "output_type": "stream",
     "text": [
      "\r",
      "Epoch 12/1000:   1%|▌                                               | 12/1000 [00:04<05:59,  2.75it/s, v_num=7i1s, train_loss_step=640, train_loss_epoch=659]"
     ]
    },
    {
     "name": "stdout",
     "output_type": "stream",
     "text": [
      "\r",
      "Epoch 13/1000:   1%|▌                                               | 12/1000 [00:04<05:59,  2.75it/s, v_num=7i1s, train_loss_step=640, train_loss_epoch=659]"
     ]
    },
    {
     "name": "stdout",
     "output_type": "stream",
     "text": [
      "\r",
      "Epoch 13/1000:   1%|▌                                               | 13/1000 [00:04<06:02,  2.72it/s, v_num=7i1s, train_loss_step=640, train_loss_epoch=659]"
     ]
    },
    {
     "name": "stdout",
     "output_type": "stream",
     "text": [
      "\r",
      "Epoch 13/1000:   1%|▌                                               | 13/1000 [00:04<06:02,  2.72it/s, v_num=7i1s, train_loss_step=679, train_loss_epoch=657]"
     ]
    },
    {
     "name": "stdout",
     "output_type": "stream",
     "text": [
      "\r",
      "Epoch 14/1000:   1%|▌                                               | 13/1000 [00:04<06:02,  2.72it/s, v_num=7i1s, train_loss_step=679, train_loss_epoch=657]"
     ]
    },
    {
     "name": "stdout",
     "output_type": "stream",
     "text": [
      "\r",
      "Epoch 14/1000:   1%|▋                                               | 14/1000 [00:05<06:05,  2.70it/s, v_num=7i1s, train_loss_step=679, train_loss_epoch=657]"
     ]
    },
    {
     "name": "stdout",
     "output_type": "stream",
     "text": [
      "\r",
      "Epoch 14/1000:   1%|▋                                               | 14/1000 [00:05<06:05,  2.70it/s, v_num=7i1s, train_loss_step=695, train_loss_epoch=655]"
     ]
    },
    {
     "name": "stdout",
     "output_type": "stream",
     "text": [
      "\r",
      "Epoch 15/1000:   1%|▋                                               | 14/1000 [00:05<06:05,  2.70it/s, v_num=7i1s, train_loss_step=695, train_loss_epoch=655]"
     ]
    },
    {
     "name": "stdout",
     "output_type": "stream",
     "text": [
      "\r",
      "Epoch 15/1000:   2%|▋                                               | 15/1000 [00:05<06:08,  2.67it/s, v_num=7i1s, train_loss_step=695, train_loss_epoch=655]"
     ]
    },
    {
     "name": "stdout",
     "output_type": "stream",
     "text": [
      "\r",
      "Epoch 15/1000:   2%|▋                                               | 15/1000 [00:05<06:08,  2.67it/s, v_num=7i1s, train_loss_step=682, train_loss_epoch=653]"
     ]
    },
    {
     "name": "stdout",
     "output_type": "stream",
     "text": [
      "\r",
      "Epoch 16/1000:   2%|▋                                               | 15/1000 [00:05<06:08,  2.67it/s, v_num=7i1s, train_loss_step=682, train_loss_epoch=653]"
     ]
    },
    {
     "name": "stdout",
     "output_type": "stream",
     "text": [
      "\r",
      "Epoch 16/1000:   2%|▊                                               | 16/1000 [00:06<06:15,  2.62it/s, v_num=7i1s, train_loss_step=682, train_loss_epoch=653]"
     ]
    },
    {
     "name": "stdout",
     "output_type": "stream",
     "text": [
      "\r",
      "Epoch 16/1000:   2%|▊                                               | 16/1000 [00:06<06:15,  2.62it/s, v_num=7i1s, train_loss_step=632, train_loss_epoch=651]"
     ]
    },
    {
     "name": "stdout",
     "output_type": "stream",
     "text": [
      "\r",
      "Epoch 17/1000:   2%|▊                                               | 16/1000 [00:06<06:15,  2.62it/s, v_num=7i1s, train_loss_step=632, train_loss_epoch=651]"
     ]
    },
    {
     "name": "stdout",
     "output_type": "stream",
     "text": [
      "\r",
      "Epoch 17/1000:   2%|▊                                               | 17/1000 [00:06<06:39,  2.46it/s, v_num=7i1s, train_loss_step=632, train_loss_epoch=651]"
     ]
    },
    {
     "name": "stdout",
     "output_type": "stream",
     "text": [
      "\r",
      "Epoch 17/1000:   2%|▊                                               | 17/1000 [00:06<06:39,  2.46it/s, v_num=7i1s, train_loss_step=700, train_loss_epoch=649]"
     ]
    },
    {
     "name": "stdout",
     "output_type": "stream",
     "text": [
      "\r",
      "Epoch 18/1000:   2%|▊                                               | 17/1000 [00:06<06:39,  2.46it/s, v_num=7i1s, train_loss_step=700, train_loss_epoch=649]"
     ]
    },
    {
     "name": "stdout",
     "output_type": "stream",
     "text": [
      "\r",
      "Epoch 18/1000:   2%|▊                                               | 18/1000 [00:06<06:36,  2.48it/s, v_num=7i1s, train_loss_step=700, train_loss_epoch=649]"
     ]
    },
    {
     "name": "stdout",
     "output_type": "stream",
     "text": [
      "\r",
      "Epoch 18/1000:   2%|▊                                               | 18/1000 [00:06<06:36,  2.48it/s, v_num=7i1s, train_loss_step=678, train_loss_epoch=647]"
     ]
    },
    {
     "name": "stdout",
     "output_type": "stream",
     "text": [
      "\r",
      "Epoch 19/1000:   2%|▊                                               | 18/1000 [00:06<06:36,  2.48it/s, v_num=7i1s, train_loss_step=678, train_loss_epoch=647]"
     ]
    },
    {
     "name": "stdout",
     "output_type": "stream",
     "text": [
      "\r",
      "Epoch 19/1000:   2%|▉                                               | 19/1000 [00:07<06:26,  2.54it/s, v_num=7i1s, train_loss_step=678, train_loss_epoch=647]"
     ]
    },
    {
     "name": "stdout",
     "output_type": "stream",
     "text": [
      "\r",
      "Epoch 19/1000:   2%|▉                                               | 19/1000 [00:07<06:26,  2.54it/s, v_num=7i1s, train_loss_step=654, train_loss_epoch=645]"
     ]
    },
    {
     "name": "stdout",
     "output_type": "stream",
     "text": [
      "\r",
      "Epoch 20/1000:   2%|▉                                               | 19/1000 [00:07<06:26,  2.54it/s, v_num=7i1s, train_loss_step=654, train_loss_epoch=645]"
     ]
    },
    {
     "name": "stdout",
     "output_type": "stream",
     "text": [
      "\r",
      "Epoch 20/1000:   2%|▉                                               | 20/1000 [00:07<06:17,  2.59it/s, v_num=7i1s, train_loss_step=654, train_loss_epoch=645]"
     ]
    },
    {
     "name": "stdout",
     "output_type": "stream",
     "text": [
      "\r",
      "Epoch 20/1000:   2%|▉                                               | 20/1000 [00:07<06:17,  2.59it/s, v_num=7i1s, train_loss_step=583, train_loss_epoch=643]"
     ]
    },
    {
     "name": "stdout",
     "output_type": "stream",
     "text": [
      "\r",
      "Epoch 21/1000:   2%|▉                                               | 20/1000 [00:07<06:17,  2.59it/s, v_num=7i1s, train_loss_step=583, train_loss_epoch=643]"
     ]
    },
    {
     "name": "stdout",
     "output_type": "stream",
     "text": [
      "\r",
      "Epoch 21/1000:   2%|█                                               | 21/1000 [00:08<06:25,  2.54it/s, v_num=7i1s, train_loss_step=583, train_loss_epoch=643]"
     ]
    },
    {
     "name": "stdout",
     "output_type": "stream",
     "text": [
      "\r",
      "Epoch 21/1000:   2%|█                                               | 21/1000 [00:08<06:25,  2.54it/s, v_num=7i1s, train_loss_step=628, train_loss_epoch=641]"
     ]
    },
    {
     "name": "stdout",
     "output_type": "stream",
     "text": [
      "\r",
      "Epoch 22/1000:   2%|█                                               | 21/1000 [00:08<06:25,  2.54it/s, v_num=7i1s, train_loss_step=628, train_loss_epoch=641]"
     ]
    },
    {
     "name": "stdout",
     "output_type": "stream",
     "text": [
      "\r",
      "Epoch 22/1000:   2%|█                                               | 22/1000 [00:08<06:29,  2.51it/s, v_num=7i1s, train_loss_step=628, train_loss_epoch=641]"
     ]
    },
    {
     "name": "stdout",
     "output_type": "stream",
     "text": [
      "\r",
      "Epoch 22/1000:   2%|█                                               | 22/1000 [00:08<06:29,  2.51it/s, v_num=7i1s, train_loss_step=630, train_loss_epoch=639]"
     ]
    },
    {
     "name": "stdout",
     "output_type": "stream",
     "text": [
      "\r",
      "Epoch 23/1000:   2%|█                                               | 22/1000 [00:08<06:29,  2.51it/s, v_num=7i1s, train_loss_step=630, train_loss_epoch=639]"
     ]
    },
    {
     "name": "stdout",
     "output_type": "stream",
     "text": [
      "\r",
      "Epoch 23/1000:   2%|█                                               | 23/1000 [00:08<06:30,  2.50it/s, v_num=7i1s, train_loss_step=630, train_loss_epoch=639]"
     ]
    },
    {
     "name": "stdout",
     "output_type": "stream",
     "text": [
      "\r",
      "Epoch 23/1000:   2%|█                                               | 23/1000 [00:08<06:30,  2.50it/s, v_num=7i1s, train_loss_step=656, train_loss_epoch=638]"
     ]
    },
    {
     "name": "stdout",
     "output_type": "stream",
     "text": [
      "\r",
      "Epoch 24/1000:   2%|█                                               | 23/1000 [00:08<06:30,  2.50it/s, v_num=7i1s, train_loss_step=656, train_loss_epoch=638]"
     ]
    },
    {
     "name": "stdout",
     "output_type": "stream",
     "text": [
      "\r",
      "Epoch 24/1000:   2%|█▏                                              | 24/1000 [00:09<06:13,  2.61it/s, v_num=7i1s, train_loss_step=656, train_loss_epoch=638]"
     ]
    },
    {
     "name": "stdout",
     "output_type": "stream",
     "text": [
      "\r",
      "Epoch 24/1000:   2%|█▏                                              | 24/1000 [00:09<06:13,  2.61it/s, v_num=7i1s, train_loss_step=665, train_loss_epoch=636]"
     ]
    },
    {
     "name": "stdout",
     "output_type": "stream",
     "text": [
      "\r",
      "Epoch 25/1000:   2%|█▏                                              | 24/1000 [00:09<06:13,  2.61it/s, v_num=7i1s, train_loss_step=665, train_loss_epoch=636]"
     ]
    },
    {
     "name": "stdout",
     "output_type": "stream",
     "text": [
      "\r",
      "Epoch 25/1000:   2%|█▏                                              | 25/1000 [00:09<06:05,  2.67it/s, v_num=7i1s, train_loss_step=665, train_loss_epoch=636]"
     ]
    },
    {
     "name": "stdout",
     "output_type": "stream",
     "text": [
      "\r",
      "Epoch 25/1000:   2%|█▏                                              | 25/1000 [00:09<06:05,  2.67it/s, v_num=7i1s, train_loss_step=615, train_loss_epoch=634]"
     ]
    },
    {
     "name": "stdout",
     "output_type": "stream",
     "text": [
      "\r",
      "Epoch 26/1000:   2%|█▏                                              | 25/1000 [00:09<06:05,  2.67it/s, v_num=7i1s, train_loss_step=615, train_loss_epoch=634]"
     ]
    },
    {
     "name": "stdout",
     "output_type": "stream",
     "text": [
      "\r",
      "Epoch 26/1000:   3%|█▏                                              | 26/1000 [00:09<05:52,  2.76it/s, v_num=7i1s, train_loss_step=615, train_loss_epoch=634]"
     ]
    },
    {
     "name": "stdout",
     "output_type": "stream",
     "text": [
      "\r",
      "Epoch 26/1000:   3%|█▏                                              | 26/1000 [00:09<05:52,  2.76it/s, v_num=7i1s, train_loss_step=622, train_loss_epoch=632]"
     ]
    },
    {
     "name": "stdout",
     "output_type": "stream",
     "text": [
      "\r",
      "Epoch 27/1000:   3%|█▏                                              | 26/1000 [00:09<05:52,  2.76it/s, v_num=7i1s, train_loss_step=622, train_loss_epoch=632]"
     ]
    },
    {
     "name": "stdout",
     "output_type": "stream",
     "text": [
      "\r",
      "Epoch 27/1000:   3%|█▎                                              | 27/1000 [00:10<05:43,  2.83it/s, v_num=7i1s, train_loss_step=622, train_loss_epoch=632]"
     ]
    },
    {
     "name": "stdout",
     "output_type": "stream",
     "text": [
      "\r",
      "Epoch 27/1000:   3%|█▎                                              | 27/1000 [00:10<05:43,  2.83it/s, v_num=7i1s, train_loss_step=677, train_loss_epoch=630]"
     ]
    },
    {
     "name": "stdout",
     "output_type": "stream",
     "text": [
      "\r",
      "Epoch 28/1000:   3%|█▎                                              | 27/1000 [00:10<05:43,  2.83it/s, v_num=7i1s, train_loss_step=677, train_loss_epoch=630]"
     ]
    },
    {
     "name": "stdout",
     "output_type": "stream",
     "text": [
      "\r",
      "Epoch 28/1000:   3%|█▎                                              | 28/1000 [00:10<05:38,  2.88it/s, v_num=7i1s, train_loss_step=677, train_loss_epoch=630]"
     ]
    },
    {
     "name": "stdout",
     "output_type": "stream",
     "text": [
      "\r",
      "Epoch 28/1000:   3%|█▎                                              | 28/1000 [00:10<05:38,  2.88it/s, v_num=7i1s, train_loss_step=642, train_loss_epoch=629]"
     ]
    },
    {
     "name": "stdout",
     "output_type": "stream",
     "text": [
      "\r",
      "Epoch 29/1000:   3%|█▎                                              | 28/1000 [00:10<05:38,  2.88it/s, v_num=7i1s, train_loss_step=642, train_loss_epoch=629]"
     ]
    },
    {
     "name": "stdout",
     "output_type": "stream",
     "text": [
      "\r",
      "Epoch 29/1000:   3%|█▍                                              | 29/1000 [00:10<05:40,  2.85it/s, v_num=7i1s, train_loss_step=642, train_loss_epoch=629]"
     ]
    },
    {
     "name": "stdout",
     "output_type": "stream",
     "text": [
      "\r",
      "Epoch 29/1000:   3%|█▍                                              | 29/1000 [00:10<05:40,  2.85it/s, v_num=7i1s, train_loss_step=627, train_loss_epoch=627]"
     ]
    },
    {
     "name": "stdout",
     "output_type": "stream",
     "text": [
      "\r",
      "Epoch 30/1000:   3%|█▍                                              | 29/1000 [00:11<05:40,  2.85it/s, v_num=7i1s, train_loss_step=627, train_loss_epoch=627]"
     ]
    },
    {
     "name": "stdout",
     "output_type": "stream",
     "text": [
      "\r",
      "Epoch 30/1000:   3%|█▍                                              | 30/1000 [00:11<05:36,  2.89it/s, v_num=7i1s, train_loss_step=627, train_loss_epoch=627]"
     ]
    },
    {
     "name": "stdout",
     "output_type": "stream",
     "text": [
      "\r",
      "Epoch 30/1000:   3%|█▍                                              | 30/1000 [00:11<05:36,  2.89it/s, v_num=7i1s, train_loss_step=631, train_loss_epoch=625]"
     ]
    },
    {
     "name": "stdout",
     "output_type": "stream",
     "text": [
      "\r",
      "Epoch 31/1000:   3%|█▍                                              | 30/1000 [00:11<05:36,  2.89it/s, v_num=7i1s, train_loss_step=631, train_loss_epoch=625]"
     ]
    },
    {
     "name": "stdout",
     "output_type": "stream",
     "text": [
      "\r",
      "Epoch 31/1000:   3%|█▍                                              | 31/1000 [00:11<05:32,  2.91it/s, v_num=7i1s, train_loss_step=631, train_loss_epoch=625]"
     ]
    },
    {
     "name": "stdout",
     "output_type": "stream",
     "text": [
      "\r",
      "Epoch 31/1000:   3%|█▍                                              | 31/1000 [00:11<05:32,  2.91it/s, v_num=7i1s, train_loss_step=656, train_loss_epoch=623]"
     ]
    },
    {
     "name": "stdout",
     "output_type": "stream",
     "text": [
      "\r",
      "Epoch 32/1000:   3%|█▍                                              | 31/1000 [00:11<05:32,  2.91it/s, v_num=7i1s, train_loss_step=656, train_loss_epoch=623]"
     ]
    },
    {
     "name": "stdout",
     "output_type": "stream",
     "text": [
      "\r",
      "Epoch 32/1000:   3%|█▌                                              | 32/1000 [00:12<05:31,  2.92it/s, v_num=7i1s, train_loss_step=656, train_loss_epoch=623]"
     ]
    },
    {
     "name": "stdout",
     "output_type": "stream",
     "text": [
      "\r",
      "Epoch 32/1000:   3%|█▌                                              | 32/1000 [00:12<05:31,  2.92it/s, v_num=7i1s, train_loss_step=621, train_loss_epoch=622]"
     ]
    },
    {
     "name": "stdout",
     "output_type": "stream",
     "text": [
      "\r",
      "Epoch 32/1000:   3%|█▌                                              | 32/1000 [00:12<06:03,  2.66it/s, v_num=7i1s, train_loss_step=621, train_loss_epoch=622]"
     ]
    },
    {
     "name": "stdout",
     "output_type": "stream",
     "text": [
      "\n",
      "Monitored metric reconstruction_loss_validation did not improve in the last 10 records. Best score: 671.644. Signaling Trainer to stop.\n"
     ]
    }
   ],
   "source": [
    "model.train(logger=logger, plan_kwargs = plan_kwargs, **trainer_kwargs)"
   ]
  },
  {
   "cell_type": "code",
   "execution_count": 15,
   "id": "c282f6eb-0ad1-40a5-81e6-1acda1545dad",
   "metadata": {
    "execution": {
     "iopub.execute_input": "2024-10-17T14:03:59.295992Z",
     "iopub.status.busy": "2024-10-17T14:03:59.295742Z",
     "iopub.status.idle": "2024-10-17T14:04:04.444904Z",
     "shell.execute_reply": "2024-10-17T14:04:04.443537Z"
    },
    "papermill": {
     "duration": 5.166021,
     "end_time": "2024-10-17T14:04:04.448462",
     "exception": false,
     "start_time": "2024-10-17T14:03:59.282441",
     "status": "completed"
    },
    "tags": []
   },
   "outputs": [
    {
     "name": "stderr",
     "output_type": "stream",
     "text": [
      "\u001b[34m\u001b[1mwandb\u001b[0m: - 0.005 MB of 0.005 MB uploaded\r"
     ]
    },
    {
     "name": "stderr",
     "output_type": "stream",
     "text": [
      "\u001b[34m\u001b[1mwandb\u001b[0m: \\ 0.005 MB of 0.005 MB uploaded\r"
     ]
    },
    {
     "name": "stderr",
     "output_type": "stream",
     "text": [
      "\u001b[34m\u001b[1mwandb\u001b[0m: | 0.025 MB of 0.025 MB uploaded\r"
     ]
    },
    {
     "name": "stderr",
     "output_type": "stream",
     "text": [
      "\u001b[34m\u001b[1mwandb\u001b[0m:                                                                                \n"
     ]
    },
    {
     "name": "stderr",
     "output_type": "stream",
     "text": [
      "\u001b[34m\u001b[1mwandb\u001b[0m: \n",
      "\u001b[34m\u001b[1mwandb\u001b[0m: Run history:\n",
      "\u001b[34m\u001b[1mwandb\u001b[0m:                     elbo_train █▄▃▃▃▃▃▃▃▃▃▃▃▂▂▂▂▂▂▂▂▂▂▂▂▁▁▁▁▁▁▁\n",
      "\u001b[34m\u001b[1mwandb\u001b[0m:                elbo_validation █▆▄▃▂▂▁▁▁▁▁▁▁▁▁▁▁▁▁▁▁▁▁▁▁▁▁▁▁▁▁▁\n",
      "\u001b[34m\u001b[1mwandb\u001b[0m:                          epoch ▁▁▁▁▂▂▂▂▂▃▃▃▃▃▃▄▄▄▄▄▅▅▅▅▅▆▆▆▆▆▆▇▇▇▇▇████\n",
      "\u001b[34m\u001b[1mwandb\u001b[0m:                kl_global_train ▁▁▁▁▁▁▁▁▁▁▁▁▁▁▁▁▁▁▁▁▁▁▁▁▁▁▁▁▁▁▁▁\n",
      "\u001b[34m\u001b[1mwandb\u001b[0m:           kl_global_validation ▁▁▁▁▁▁▁▁▁▁▁▁▁▁▁▁▁▁▁▁▁▁▁▁▁▁▁▁▁▁▁▁\n",
      "\u001b[34m\u001b[1mwandb\u001b[0m:                 kl_local_train ▁▃▅▆▆▇▇▇████████████████████████\n",
      "\u001b[34m\u001b[1mwandb\u001b[0m:            kl_local_validation ▁▁▁▁▂▂▃▄▄▅▆▆▇▇▇▇▇███████████████\n",
      "\u001b[34m\u001b[1mwandb\u001b[0m:                      kl_weight ▁▁▁▁▂▂▂▂▂▃▃▃▃▃▃▄▄▄▄▄▅▅▅▅▅▆▆▆▆▆▆▇▇▇▇▇████\n",
      "\u001b[34m\u001b[1mwandb\u001b[0m:      reconstruction_loss_train █▄▄▃▃▃▃▃▃▃▂▂▂▂▂▂▂▂▂▂▂▂▂▂▁▁▁▁▁▁▁▁\n",
      "\u001b[34m\u001b[1mwandb\u001b[0m: reconstruction_loss_validation █▆▄▃▂▂▂▁▁▁▁▁▁▁▁▁▁▁▁▁▁▁▁▁▁▁▁▁▁▁▁▁\n",
      "\u001b[34m\u001b[1mwandb\u001b[0m:               train_loss_epoch █▄▃▃▃▃▃▃▃▃▂▂▂▂▂▂▂▂▂▂▂▂▂▂▁▁▁▁▁▁▁▁\n",
      "\u001b[34m\u001b[1mwandb\u001b[0m:                train_loss_step █▅▄▃▄▄▃▃▄▄▃▃▂▃▂▃▄▂▃▂▂▂▃▂▂▃▂▂▃▂▂▁▃▃▂▂▂▂▂▂\n",
      "\u001b[34m\u001b[1mwandb\u001b[0m:            trainer/global_step ▁▁▁▁▂▂▂▂▂▃▃▃▃▃▃▄▄▄▄▄▄▅▅▅▅▅▆▆▆▆▆▆▇▇▇▇▇███\n",
      "\u001b[34m\u001b[1mwandb\u001b[0m:                validation_loss █▆▄▃▂▂▂▁▁▁▁▁▁▁▁▁▁▁▁▁▁▁▁▁▁▁▁▁▁▁▁▁\n",
      "\u001b[34m\u001b[1mwandb\u001b[0m: \n",
      "\u001b[34m\u001b[1mwandb\u001b[0m: Run summary:\n",
      "\u001b[34m\u001b[1mwandb\u001b[0m:                     elbo_train 645.841\n",
      "\u001b[34m\u001b[1mwandb\u001b[0m:                elbo_validation 697.72687\n",
      "\u001b[34m\u001b[1mwandb\u001b[0m:                          epoch 31\n",
      "\u001b[34m\u001b[1mwandb\u001b[0m:                kl_global_train 0.0\n",
      "\u001b[34m\u001b[1mwandb\u001b[0m:           kl_global_validation 0.0\n",
      "\u001b[34m\u001b[1mwandb\u001b[0m:                 kl_local_train 26.04768\n",
      "\u001b[34m\u001b[1mwandb\u001b[0m:            kl_local_validation 21.17746\n",
      "\u001b[34m\u001b[1mwandb\u001b[0m:                      kl_weight 0.0775\n",
      "\u001b[34m\u001b[1mwandb\u001b[0m:      reconstruction_loss_train 619.79333\n",
      "\u001b[34m\u001b[1mwandb\u001b[0m: reconstruction_loss_validation 676.54938\n",
      "\u001b[34m\u001b[1mwandb\u001b[0m:               train_loss_epoch 621.81207\n",
      "\u001b[34m\u001b[1mwandb\u001b[0m:                train_loss_step 619.5498\n",
      "\u001b[34m\u001b[1mwandb\u001b[0m:            trainer/global_step 863\n",
      "\u001b[34m\u001b[1mwandb\u001b[0m:                validation_loss 678.19061\n",
      "\u001b[34m\u001b[1mwandb\u001b[0m: \n"
     ]
    },
    {
     "name": "stderr",
     "output_type": "stream",
     "text": [
      "\u001b[34m\u001b[1mwandb\u001b[0m: 🚀 View run \u001b[33mStep1_pDC\u001b[0m at: \u001b[34m\u001b[4mhttps://wandb.ai/inflammation/inflammation_atlas_R1/runs/7tja7i1s/workspace\u001b[0m\n",
      "\u001b[34m\u001b[1mwandb\u001b[0m: Synced 6 W&B file(s), 0 media file(s), 0 artifact file(s) and 0 other file(s)\n"
     ]
    },
    {
     "name": "stderr",
     "output_type": "stream",
     "text": [
      "\u001b[34m\u001b[1mwandb\u001b[0m: Find logs at: \u001b[35m\u001b[1m./wandb/run-20241017_140341-7tja7i1s/logs\u001b[0m\n"
     ]
    }
   ],
   "source": [
    "wandb.finish()"
   ]
  },
  {
   "cell_type": "markdown",
   "id": "d9fb1179-83c7-4ac6-b4aa-92dc7a349801",
   "metadata": {
    "papermill": {
     "duration": 0.035093,
     "end_time": "2024-10-17T14:04:04.510023",
     "exception": false,
     "start_time": "2024-10-17T14:04:04.474930",
     "status": "completed"
    },
    "tags": []
   },
   "source": [
    "### Extracting embedding space"
   ]
  },
  {
   "cell_type": "code",
   "execution_count": 16,
   "id": "caaa5832-0123-4c59-8ec6-f46a75f7a14e",
   "metadata": {
    "execution": {
     "iopub.execute_input": "2024-10-17T14:04:04.590102Z",
     "iopub.status.busy": "2024-10-17T14:04:04.589572Z",
     "iopub.status.idle": "2024-10-17T14:04:04.701321Z",
     "shell.execute_reply": "2024-10-17T14:04:04.700919Z"
    },
    "papermill": {
     "duration": 0.181356,
     "end_time": "2024-10-17T14:04:04.704332",
     "exception": false,
     "start_time": "2024-10-17T14:04:04.522976",
     "status": "completed"
    },
    "tags": []
   },
   "outputs": [],
   "source": [
    "adata.obsm['X_scVI'] = model.get_latent_representation()"
   ]
  },
  {
   "cell_type": "markdown",
   "id": "2f03e70b-839c-40a6-9fbb-d76bbd787419",
   "metadata": {
    "papermill": {
     "duration": 0.010443,
     "end_time": "2024-10-17T14:04:04.738257",
     "exception": false,
     "start_time": "2024-10-17T14:04:04.727814",
     "status": "completed"
    },
    "tags": []
   },
   "source": [
    "## Save the results"
   ]
  },
  {
   "cell_type": "code",
   "execution_count": 17,
   "id": "7b04049b-47fd-4b62-a1c0-c43dcc086d34",
   "metadata": {
    "execution": {
     "iopub.execute_input": "2024-10-17T14:04:04.767959Z",
     "iopub.status.busy": "2024-10-17T14:04:04.767621Z",
     "iopub.status.idle": "2024-10-17T14:04:05.616803Z",
     "shell.execute_reply": "2024-10-17T14:04:05.615828Z"
    },
    "papermill": {
     "duration": 0.87198,
     "end_time": "2024-10-17T14:04:05.620652",
     "exception": false,
     "start_time": "2024-10-17T14:04:04.748672",
     "status": "completed"
    },
    "tags": []
   },
   "outputs": [],
   "source": [
    "if overwriteData:\n",
    "    adata.write(here(f\"{workDir}/{cellGroup}/results/02_{annotationLevel}_{cellGroup}_HVGsubset_scVI.h5ad\"), compression=\"gzip\")\n",
    "    model.save(here(f\"{workDir}/{cellGroup}/results/02_{annotationLevel}_{cellGroup}_HVGsubset_scVI_MODEL/\"),\n",
    "               overwrite = True, \n",
    "               save_anndata = False )   "
   ]
  },
  {
   "cell_type": "code",
   "execution_count": 18,
   "id": "629ba2bd-f6be-44ef-8fca-bbdf891bf25f",
   "metadata": {
    "execution": {
     "iopub.execute_input": "2024-10-17T14:04:05.660172Z",
     "iopub.status.busy": "2024-10-17T14:04:05.659615Z",
     "iopub.status.idle": "2024-10-17T14:04:05.664214Z",
     "shell.execute_reply": "2024-10-17T14:04:05.663319Z"
    },
    "papermill": {
     "duration": 0.022151,
     "end_time": "2024-10-17T14:04:05.665665",
     "exception": false,
     "start_time": "2024-10-17T14:04:05.643514",
     "status": "completed"
    },
    "tags": []
   },
   "outputs": [],
   "source": [
    "# To load the model do (after loading corresponding adata):\n",
    "# model = scvi.model.SCVI.load(here('{}/results/01_{}_HVGsubset_scVI_MODEL/'.format(workDir, cellGroup)), \n",
    "#                              adata, \n",
    "#                              use_gpu=True)"
   ]
  },
  {
   "cell_type": "raw",
   "id": "975e84d0-f56b-498d-b3a8-c9219cf22e53",
   "metadata": {
    "papermill": {
     "duration": 0.015455,
     "end_time": "2024-10-17T14:04:05.693172",
     "exception": false,
     "start_time": "2024-10-17T14:04:05.677717",
     "status": "completed"
    },
    "tags": []
   },
   "source": [
    "session_info.show()"
   ]
  }
 ],
 "metadata": {
  "kernelspec": {
   "display_name": "Python 3 (ipykernel)",
   "language": "python",
   "name": "python3"
  },
  "language_info": {
   "codemirror_mode": {
    "name": "ipython",
    "version": 3
   },
   "file_extension": ".py",
   "mimetype": "text/x-python",
   "name": "python",
   "nbconvert_exporter": "python",
   "pygments_lexer": "ipython3",
   "version": "3.9.19"
  },
  "papermill": {
   "default_parameters": {},
   "duration": 34.751672,
   "end_time": "2024-10-17T14:04:08.060734",
   "environment_variables": {},
   "exception": null,
   "input_path": "./pDC/02_integration_scVI_scANVI.ipynb",
   "output_path": "./pDC/02_integration_scVI_scANVI.executed.ipynb",
   "parameters": {},
   "start_time": "2024-10-17T14:03:33.309062",
   "version": "2.5.0"
  }
 },
 "nbformat": 4,
 "nbformat_minor": 5
}