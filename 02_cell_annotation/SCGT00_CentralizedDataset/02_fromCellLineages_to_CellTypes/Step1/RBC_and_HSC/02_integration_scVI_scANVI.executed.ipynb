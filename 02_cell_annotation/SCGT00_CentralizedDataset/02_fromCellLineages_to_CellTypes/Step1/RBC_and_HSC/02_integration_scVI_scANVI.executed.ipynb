{
 "cells": [
  {
   "cell_type": "code",
   "execution_count": 1,
   "id": "2dd1425a-0c07-465e-b522-9e3cc5cb93a7",
   "metadata": {
    "execution": {
     "iopub.execute_input": "2024-10-17T14:38:16.184597Z",
     "iopub.status.busy": "2024-10-17T14:38:16.184107Z",
     "iopub.status.idle": "2024-10-17T14:38:19.814812Z",
     "shell.execute_reply": "2024-10-17T14:38:19.813999Z"
    },
    "papermill": {
     "duration": 3.649345,
     "end_time": "2024-10-17T14:38:19.818430",
     "exception": false,
     "start_time": "2024-10-17T14:38:16.169085",
     "status": "completed"
    },
    "tags": []
   },
   "outputs": [
    {
     "name": "stderr",
     "output_type": "stream",
     "text": [
      "/home/dmaspero/miniconda3/envs/scarches/lib/python3.9/site-packages/tqdm/auto.py:21: TqdmWarning: IProgress not found. Please update jupyter and ipywidgets. See https://ipywidgets.readthedocs.io/en/stable/user_install.html\n",
      "  from .autonotebook import tqdm as notebook_tqdm\n"
     ]
    },
    {
     "data": {
      "text/plain": [
       "True"
      ]
     },
     "execution_count": 1,
     "metadata": {},
     "output_type": "execute_result"
    }
   ],
   "source": [
    "import os\n",
    "import sys\n",
    "\n",
    "import numpy as np\n",
    "import matplotlib.pyplot as plt\n",
    "\n",
    "import scanpy as sc\n",
    "import scvi\n",
    "import torch\n",
    "\n",
    "from pytorch_lightning.loggers import WandbLogger\n",
    "import wandb\n",
    "from dotenv import load_dotenv\n",
    "\n",
    "import session_info\n",
    "import warnings\n",
    "from pyprojroot.here import here\n",
    "\n",
    "warnings.filterwarnings(\"ignore\")\n",
    "sys.path.insert(1, str(here('bin')))\n",
    "\n",
    "torch.set_float32_matmul_precision('high')\n",
    "\n",
    "#plt.style.use(['science','nature','no-latex'])\n",
    "dpi_fig_save = 300\n",
    "sc.set_figure_params(dpi=100, dpi_save=dpi_fig_save, vector_friendly=True)\n",
    "\n",
    "load_dotenv(here('.env'))"
   ]
  },
  {
   "cell_type": "code",
   "execution_count": 2,
   "id": "09c897fc-744b-43de-a681-718fb5d327fa",
   "metadata": {
    "execution": {
     "iopub.execute_input": "2024-10-17T14:38:19.851535Z",
     "iopub.status.busy": "2024-10-17T14:38:19.850666Z",
     "iopub.status.idle": "2024-10-17T14:38:19.856967Z",
     "shell.execute_reply": "2024-10-17T14:38:19.856097Z"
    },
    "papermill": {
     "duration": 0.029536,
     "end_time": "2024-10-17T14:38:19.859820",
     "exception": false,
     "start_time": "2024-10-17T14:38:19.830284",
     "status": "completed"
    },
    "tags": []
   },
   "outputs": [],
   "source": [
    "class CustomWandbLogger(WandbLogger):\n",
    "    @property\n",
    "    def save_dir(self):\n",
    "        return self.experiment.dir"
   ]
  },
  {
   "cell_type": "code",
   "execution_count": 3,
   "id": "8ee6662f-5d45-4137-80a5-bb0b9ae8d71f",
   "metadata": {
    "execution": {
     "iopub.execute_input": "2024-10-17T14:38:19.883061Z",
     "iopub.status.busy": "2024-10-17T14:38:19.882596Z",
     "iopub.status.idle": "2024-10-17T14:38:19.895956Z",
     "shell.execute_reply": "2024-10-17T14:38:19.894445Z"
    },
    "papermill": {
     "duration": 0.0285,
     "end_time": "2024-10-17T14:38:19.899148",
     "exception": false,
     "start_time": "2024-10-17T14:38:19.870648",
     "status": "completed"
    },
    "tags": []
   },
   "outputs": [
    {
     "name": "stderr",
     "output_type": "stream",
     "text": [
      "Seed set to 0\n"
     ]
    },
    {
     "name": "stdout",
     "output_type": "stream",
     "text": [
      "Last run with scvi-tools version: 1.1.2\n"
     ]
    }
   ],
   "source": [
    "scvi.settings.seed = 0\n",
    "print(\"Last run with scvi-tools version:\", scvi.__version__)"
   ]
  },
  {
   "cell_type": "markdown",
   "id": "a81037ff-5998-482a-ba86-520f757311a9",
   "metadata": {
    "papermill": {
     "duration": 0.011575,
     "end_time": "2024-10-17T14:38:19.922350",
     "exception": false,
     "start_time": "2024-10-17T14:38:19.910775",
     "status": "completed"
    },
    "tags": []
   },
   "source": [
    "**Setting parameters** "
   ]
  },
  {
   "cell_type": "code",
   "execution_count": 4,
   "id": "56c27966-8f10-4c93-8b1a-1fa75f005e41",
   "metadata": {
    "execution": {
     "iopub.execute_input": "2024-10-17T14:38:19.968062Z",
     "iopub.status.busy": "2024-10-17T14:38:19.967596Z",
     "iopub.status.idle": "2024-10-17T14:38:19.973334Z",
     "shell.execute_reply": "2024-10-17T14:38:19.971918Z"
    },
    "papermill": {
     "duration": 0.042075,
     "end_time": "2024-10-17T14:38:19.976684",
     "exception": false,
     "start_time": "2024-10-17T14:38:19.934609",
     "status": "completed"
    },
    "tags": []
   },
   "outputs": [],
   "source": [
    "overwriteFigures = True\n",
    "overwriteData = True"
   ]
  },
  {
   "cell_type": "code",
   "execution_count": 5,
   "id": "c86fccd3-a4fe-415b-8f4e-e2ceb3ec128a",
   "metadata": {
    "execution": {
     "iopub.execute_input": "2024-10-17T14:38:20.001377Z",
     "iopub.status.busy": "2024-10-17T14:38:20.000220Z",
     "iopub.status.idle": "2024-10-17T14:38:20.006423Z",
     "shell.execute_reply": "2024-10-17T14:38:20.005038Z"
    },
    "papermill": {
     "duration": 0.022173,
     "end_time": "2024-10-17T14:38:20.009706",
     "exception": false,
     "start_time": "2024-10-17T14:38:19.987533",
     "status": "completed"
    },
    "tags": []
   },
   "outputs": [],
   "source": [
    "cellGroup = 'RBC_and_HSC'\n",
    "workDir = os.getcwd()"
   ]
  },
  {
   "cell_type": "code",
   "execution_count": 6,
   "id": "2dee4d55-d168-467b-b867-a61fed9d6af1",
   "metadata": {
    "execution": {
     "iopub.execute_input": "2024-10-17T14:38:20.035501Z",
     "iopub.status.busy": "2024-10-17T14:38:20.034969Z",
     "iopub.status.idle": "2024-10-17T14:38:20.041710Z",
     "shell.execute_reply": "2024-10-17T14:38:20.040258Z"
    },
    "papermill": {
     "duration": 0.023113,
     "end_time": "2024-10-17T14:38:20.044924",
     "exception": false,
     "start_time": "2024-10-17T14:38:20.021811",
     "status": "completed"
    },
    "tags": []
   },
   "outputs": [],
   "source": [
    "annotationLevel = os.path.basename(os.path.normpath(workDir))"
   ]
  },
  {
   "cell_type": "code",
   "execution_count": 7,
   "id": "11e53cd5-b746-4152-89cb-c2f0c15d90b3",
   "metadata": {
    "execution": {
     "iopub.execute_input": "2024-10-17T14:38:20.068578Z",
     "iopub.status.busy": "2024-10-17T14:38:20.067513Z",
     "iopub.status.idle": "2024-10-17T14:38:20.076254Z",
     "shell.execute_reply": "2024-10-17T14:38:20.074792Z"
    },
    "papermill": {
     "duration": 0.022801,
     "end_time": "2024-10-17T14:38:20.079584",
     "exception": false,
     "start_time": "2024-10-17T14:38:20.056783",
     "status": "completed"
    },
    "tags": []
   },
   "outputs": [
    {
     "data": {
      "text/plain": [
       "'/scratch_isilon/groups/singlecell/shared/projects/Inflammation-PBMCs-Atlas/02_cell_annotation/SCGT00_CentralizedDataset/02_fromCellLineages_to_CellTypes/Step1'"
      ]
     },
     "execution_count": 7,
     "metadata": {},
     "output_type": "execute_result"
    }
   ],
   "source": [
    "workDir"
   ]
  },
  {
   "cell_type": "markdown",
   "id": "171d2f06-9a44-4fcb-b437-35dc546674b6",
   "metadata": {
    "papermill": {
     "duration": 0.009856,
     "end_time": "2024-10-17T14:38:20.100497",
     "exception": false,
     "start_time": "2024-10-17T14:38:20.090641",
     "status": "completed"
    },
    "tags": []
   },
   "source": [
    "**Load data**"
   ]
  },
  {
   "cell_type": "code",
   "execution_count": 8,
   "id": "429f34fe-dde6-4cc9-9f75-7de8f85c5ffe",
   "metadata": {
    "execution": {
     "iopub.execute_input": "2024-10-17T14:38:20.121539Z",
     "iopub.status.busy": "2024-10-17T14:38:20.121036Z",
     "iopub.status.idle": "2024-10-17T14:38:20.340761Z",
     "shell.execute_reply": "2024-10-17T14:38:20.340075Z"
    },
    "papermill": {
     "duration": 0.233782,
     "end_time": "2024-10-17T14:38:20.344110",
     "exception": false,
     "start_time": "2024-10-17T14:38:20.110328",
     "status": "completed"
    },
    "tags": []
   },
   "outputs": [
    {
     "data": {
      "text/plain": [
       "AnnData object with n_obs × n_vars = 1912 × 1341\n",
       "    obs: 'studyID', 'libraryID', 'sampleID', 'chemistry', 'technology', 'patientID', 'disease', 'timepoint_replicate', 'treatmentStatus', 'therapyResponse', 'sex', 'age', 'BMI', 'binned_age', 'diseaseStatus', 'smokingStatus', 'ethnicity', 'institute', 'diseaseGroup', 'batches', 'n_genes_by_counts', 'log1p_n_genes_by_counts', 'total_counts', 'log1p_total_counts', 'pct_counts_in_top_20_genes', 'total_counts_mt', 'log1p_total_counts_mt', 'pct_counts_mt', 'total_counts_ribo', 'log1p_total_counts_ribo', 'pct_counts_ribo', 'total_counts_hb', 'log1p_total_counts_hb', 'pct_counts_hb', 'total_counts_plt', 'log1p_total_counts_plt', 'pct_counts_plt', 'S_score', 'G2M_score', 'phase'\n",
       "    var: 'hgnc_id', 'symbol', 'locus_group', 'HUGO_status', 'mt', 'ribo', 'hb', 'plt', 'n_cells_by_counts', 'mean_counts', 'log1p_mean_counts', 'pct_dropout_by_counts', 'total_counts', 'log1p_total_counts', 'highly_variable', 'means', 'dispersions', 'dispersions_norm', 'highly_variable_nbatches', 'highly_variable_intersection'\n",
       "    uns: 'disease_colors', 'hvg', 'log1p'\n",
       "    layers: 'counts', 'log1p_10e4_counts'"
      ]
     },
     "execution_count": 8,
     "metadata": {},
     "output_type": "execute_result"
    }
   ],
   "source": [
    "adata = sc.read_h5ad(here(f\"{workDir}/{cellGroup}/results/01_{cellGroup}_normalized_HVGsubset.h5ad\"))\n",
    "adata"
   ]
  },
  {
   "cell_type": "markdown",
   "id": "8ac79f3b-d5af-41fa-8904-1e9ac1cbe2fb",
   "metadata": {
    "papermill": {
     "duration": 0.010099,
     "end_time": "2024-10-17T14:38:20.366201",
     "exception": false,
     "start_time": "2024-10-17T14:38:20.356102",
     "status": "completed"
    },
    "tags": []
   },
   "source": [
    "## scVI integration"
   ]
  },
  {
   "cell_type": "markdown",
   "id": "9544847d-d17f-4811-b14b-760446d54d32",
   "metadata": {
    "execution": {
     "iopub.execute_input": "2024-03-25T16:49:04.004504Z",
     "iopub.status.busy": "2024-03-25T16:49:04.004143Z",
     "iopub.status.idle": "2024-03-25T16:49:04.010148Z",
     "shell.execute_reply": "2024-03-25T16:49:04.009146Z",
     "shell.execute_reply.started": "2024-03-25T16:49:04.004477Z"
    },
    "papermill": {
     "duration": 0.008504,
     "end_time": "2024-10-17T14:38:20.383673",
     "exception": false,
     "start_time": "2024-10-17T14:38:20.375169",
     "status": "completed"
    },
    "tags": []
   },
   "source": [
    "**scVI parameters**"
   ]
  },
  {
   "cell_type": "code",
   "execution_count": 9,
   "id": "208966eb-545a-4c02-854c-0ed0487ef5b3",
   "metadata": {
    "execution": {
     "iopub.execute_input": "2024-10-17T14:38:20.405253Z",
     "iopub.status.busy": "2024-10-17T14:38:20.404754Z",
     "iopub.status.idle": "2024-10-17T14:38:20.414932Z",
     "shell.execute_reply": "2024-10-17T14:38:20.413851Z"
    },
    "papermill": {
     "duration": 0.026259,
     "end_time": "2024-10-17T14:38:20.417830",
     "exception": false,
     "start_time": "2024-10-17T14:38:20.391571",
     "status": "completed"
    },
    "tags": []
   },
   "outputs": [],
   "source": [
    "# https://docs.scvi-tools.org/en/stable/api/reference/scvi.train.Trainer.html#scvi.train.Trainer\n",
    "setup_kwargs = dict(\n",
    "    layer=\"counts\", \n",
    "    batch_key='libraryID', \n",
    "    categorical_covariate_keys = ['disease', 'sampleID'],\n",
    ")\n",
    "\n",
    "scvi_kwargs = dict(n_hidden=512,\n",
    "                   n_latent=10, # reduced to 20 after step 00 (main) and to 10 after step 03\n",
    "                   n_layers=2,\n",
    "                   gene_likelihood='nb')\n",
    "\n",
    "trainer_kwargs = dict(\n",
    "    checkpointing_monitor = 'elbo_validation',\n",
    "    early_stopping_monitor = 'reconstruction_loss_validation',\n",
    "    early_stopping_patience = 10,\n",
    "    early_stopping_min_delta=0.1,\n",
    "    early_stopping = True,\n",
    "    max_epochs = 1000,\n",
    "\n",
    "    #logger = # wandb\n",
    ")\n",
    "# https://docs.scvi-tools.org/en/stable/api/reference/scvi.train.TrainingPlan.html#scvi.train.TrainingPlan\n",
    "plan_kwargs = dict(\n",
    "    lr = 5e-4,\n",
    "    #reduce_lr_on_plateau = True\n",
    ")\n",
    "\n",
    "# https://docs.scvi-tools.org/en/stable/api/reference/scvi.module.VAE.html#scvi.module.VAE\n",
    "#vae = dict(\n",
    "#    use_layer_norm='both',\n",
    "#    use_batch_norm='none',\n",
    "#    encode_covariates=True,\n",
    "#    deeply_inject_covariates=False\n",
    "#)\n",
    "parameter_dict = setup_kwargs | scvi_kwargs | trainer_kwargs | plan_kwargs"
   ]
  },
  {
   "cell_type": "markdown",
   "id": "1362366a-c16b-4c11-964b-b9c5f82f7b29",
   "metadata": {
    "papermill": {
     "duration": 0.011255,
     "end_time": "2024-10-17T14:38:20.441107",
     "exception": false,
     "start_time": "2024-10-17T14:38:20.429852",
     "status": "completed"
    },
    "tags": []
   },
   "source": [
    "**wandb parameter**"
   ]
  },
  {
   "cell_type": "code",
   "execution_count": 10,
   "id": "0496e33a-8ca5-423f-b42f-34a59760708c",
   "metadata": {
    "execution": {
     "iopub.execute_input": "2024-10-17T14:38:20.463441Z",
     "iopub.status.busy": "2024-10-17T14:38:20.462952Z",
     "iopub.status.idle": "2024-10-17T14:38:20.471064Z",
     "shell.execute_reply": "2024-10-17T14:38:20.469775Z"
    },
    "papermill": {
     "duration": 0.022209,
     "end_time": "2024-10-17T14:38:20.473410",
     "exception": false,
     "start_time": "2024-10-17T14:38:20.451201",
     "status": "completed"
    },
    "tags": []
   },
   "outputs": [
    {
     "data": {
      "text/plain": [
       "'Step1_RBC_and_HSC'"
      ]
     },
     "execution_count": 10,
     "metadata": {},
     "output_type": "execute_result"
    }
   ],
   "source": [
    "run_name = f\"{annotationLevel}_{cellGroup}\"\n",
    "run_name"
   ]
  },
  {
   "cell_type": "code",
   "execution_count": 11,
   "id": "b0021327-95a2-4002-bf32-2c5779a99505",
   "metadata": {
    "execution": {
     "iopub.execute_input": "2024-10-17T14:38:20.498326Z",
     "iopub.status.busy": "2024-10-17T14:38:20.497829Z",
     "iopub.status.idle": "2024-10-17T14:38:20.548759Z",
     "shell.execute_reply": "2024-10-17T14:38:20.547794Z"
    },
    "papermill": {
     "duration": 0.066283,
     "end_time": "2024-10-17T14:38:20.551737",
     "exception": false,
     "start_time": "2024-10-17T14:38:20.485454",
     "status": "completed"
    },
    "tags": []
   },
   "outputs": [],
   "source": [
    "logger = CustomWandbLogger(name = run_name, project='inflammation_atlas_R1', config=parameter_dict)"
   ]
  },
  {
   "cell_type": "markdown",
   "id": "c237eee1-a976-4915-9b7f-b014bf33f47d",
   "metadata": {
    "papermill": {
     "duration": 0.011815,
     "end_time": "2024-10-17T14:38:20.576059",
     "exception": false,
     "start_time": "2024-10-17T14:38:20.564244",
     "status": "completed"
    },
    "tags": []
   },
   "source": [
    "**Running integration**"
   ]
  },
  {
   "cell_type": "code",
   "execution_count": 12,
   "id": "aff97c53-1aba-462e-8a77-f1aec9cf724c",
   "metadata": {
    "execution": {
     "iopub.execute_input": "2024-10-17T14:38:20.599558Z",
     "iopub.status.busy": "2024-10-17T14:38:20.598505Z",
     "iopub.status.idle": "2024-10-17T14:38:20.697056Z",
     "shell.execute_reply": "2024-10-17T14:38:20.695737Z"
    },
    "papermill": {
     "duration": 0.113368,
     "end_time": "2024-10-17T14:38:20.700366",
     "exception": false,
     "start_time": "2024-10-17T14:38:20.586998",
     "status": "completed"
    },
    "tags": []
   },
   "outputs": [
    {
     "name": "stderr",
     "output_type": "stream",
     "text": [
      "CUDA backend failed to initialize: Unable to use CUDA because of the following issues with CUDA components:\n",
      "Outdated cuSPARSE installation found.\n",
      "Version JAX was built against: 12200\n",
      "Minimum supported: 12100\n",
      "Installed version: 12002\n",
      "The local installation version must be no lower than 12100. (Set TF_CPP_MIN_LOG_LEVEL=0 and rerun for more info.)\n"
     ]
    }
   ],
   "source": [
    "scvi.model.SCVI.setup_anndata(adata, \n",
    "                              **setup_kwargs)"
   ]
  },
  {
   "cell_type": "code",
   "execution_count": 13,
   "id": "1a56f448-cf44-47c1-81a4-a89caa930fec",
   "metadata": {
    "execution": {
     "iopub.execute_input": "2024-10-17T14:38:20.724709Z",
     "iopub.status.busy": "2024-10-17T14:38:20.724268Z",
     "iopub.status.idle": "2024-10-17T14:38:20.778610Z",
     "shell.execute_reply": "2024-10-17T14:38:20.777239Z"
    },
    "papermill": {
     "duration": 0.068776,
     "end_time": "2024-10-17T14:38:20.781943",
     "exception": false,
     "start_time": "2024-10-17T14:38:20.713167",
     "status": "completed"
    },
    "tags": []
   },
   "outputs": [],
   "source": [
    "model = scvi.model.SCVI(adata, **scvi_kwargs)"
   ]
  },
  {
   "cell_type": "code",
   "execution_count": 14,
   "id": "2735f010-4f24-4ae8-9740-a8cfeb335e9a",
   "metadata": {
    "execution": {
     "iopub.execute_input": "2024-10-17T14:38:20.809351Z",
     "iopub.status.busy": "2024-10-17T14:38:20.808851Z",
     "iopub.status.idle": "2024-10-17T14:38:41.175902Z",
     "shell.execute_reply": "2024-10-17T14:38:41.175044Z"
    },
    "papermill": {
     "duration": 20.384688,
     "end_time": "2024-10-17T14:38:41.178838",
     "exception": false,
     "start_time": "2024-10-17T14:38:20.794150",
     "status": "completed"
    },
    "tags": []
   },
   "outputs": [
    {
     "name": "stderr",
     "output_type": "stream",
     "text": [
      "GPU available: True (cuda), used: True\n"
     ]
    },
    {
     "name": "stderr",
     "output_type": "stream",
     "text": [
      "TPU available: False, using: 0 TPU cores\n"
     ]
    },
    {
     "name": "stderr",
     "output_type": "stream",
     "text": [
      "IPU available: False, using: 0 IPUs\n"
     ]
    },
    {
     "name": "stderr",
     "output_type": "stream",
     "text": [
      "HPU available: False, using: 0 HPUs\n"
     ]
    },
    {
     "name": "stderr",
     "output_type": "stream",
     "text": [
      "\u001b[34m\u001b[1mwandb\u001b[0m: Currently logged in as: \u001b[33mdav1989\u001b[0m (\u001b[33minflammation\u001b[0m). Use \u001b[1m`wandb login --relogin`\u001b[0m to force relogin\n"
     ]
    },
    {
     "name": "stderr",
     "output_type": "stream",
     "text": [
      "\u001b[34m\u001b[1mwandb\u001b[0m: - Waiting for wandb.init()...\r"
     ]
    },
    {
     "name": "stderr",
     "output_type": "stream",
     "text": [
      "\u001b[34m\u001b[1mwandb\u001b[0m: \\ Waiting for wandb.init()...\r"
     ]
    },
    {
     "name": "stderr",
     "output_type": "stream",
     "text": [
      "\u001b[34m\u001b[1mwandb\u001b[0m: | Waiting for wandb.init()...\r"
     ]
    },
    {
     "name": "stderr",
     "output_type": "stream",
     "text": [
      "\u001b[34m\u001b[1mwandb\u001b[0m: wandb version 0.18.3 is available!  To upgrade, please run:\n",
      "\u001b[34m\u001b[1mwandb\u001b[0m:  $ pip install wandb --upgrade\n"
     ]
    },
    {
     "name": "stderr",
     "output_type": "stream",
     "text": [
      "\u001b[34m\u001b[1mwandb\u001b[0m: Tracking run with wandb version 0.16.5\n"
     ]
    },
    {
     "name": "stderr",
     "output_type": "stream",
     "text": [
      "\u001b[34m\u001b[1mwandb\u001b[0m: Run data is saved locally in \u001b[35m\u001b[1m./wandb/run-20241017_143823-106uou3r\u001b[0m\n",
      "\u001b[34m\u001b[1mwandb\u001b[0m: Run \u001b[1m`wandb offline`\u001b[0m to turn off syncing.\n"
     ]
    },
    {
     "name": "stderr",
     "output_type": "stream",
     "text": [
      "\u001b[34m\u001b[1mwandb\u001b[0m: Syncing run \u001b[33mStep1_RBC_and_HSC\u001b[0m\n"
     ]
    },
    {
     "name": "stderr",
     "output_type": "stream",
     "text": [
      "\u001b[34m\u001b[1mwandb\u001b[0m: ⭐️ View project at \u001b[34m\u001b[4mhttps://wandb.ai/inflammation/inflammation_atlas_R1\u001b[0m\n"
     ]
    },
    {
     "name": "stderr",
     "output_type": "stream",
     "text": [
      "\u001b[34m\u001b[1mwandb\u001b[0m: 🚀 View run at \u001b[34m\u001b[4mhttps://wandb.ai/inflammation/inflammation_atlas_R1/runs/106uou3r/workspace\u001b[0m\n"
     ]
    },
    {
     "name": "stderr",
     "output_type": "stream",
     "text": [
      "LOCAL_RANK: 0 - CUDA_VISIBLE_DEVICES: [0]\n"
     ]
    },
    {
     "name": "stdout",
     "output_type": "stream",
     "text": [
      "\r",
      "Training:   0%|                                                                                                                     | 0/1000 [00:00<?, ?it/s]"
     ]
    },
    {
     "name": "stdout",
     "output_type": "stream",
     "text": [
      "\r",
      "Epoch 1/1000:   0%|                                                                                                                 | 0/1000 [00:00<?, ?it/s]"
     ]
    },
    {
     "name": "stdout",
     "output_type": "stream",
     "text": [
      "\r",
      "Epoch 1/1000:   0%|                                                                                                         | 1/1000 [00:00<07:49,  2.13it/s]"
     ]
    },
    {
     "name": "stdout",
     "output_type": "stream",
     "text": [
      "\r",
      "Epoch 1/1000:   0%|                                          | 1/1000 [00:00<07:49,  2.13it/s, v_num=ou3r, train_loss_step=1.04e+3, train_loss_epoch=1.16e+3]"
     ]
    },
    {
     "name": "stdout",
     "output_type": "stream",
     "text": [
      "\r",
      "Epoch 2/1000:   0%|                                          | 1/1000 [00:00<07:49,  2.13it/s, v_num=ou3r, train_loss_step=1.04e+3, train_loss_epoch=1.16e+3]"
     ]
    },
    {
     "name": "stdout",
     "output_type": "stream",
     "text": [
      "\r",
      "Epoch 2/1000:   0%|                                          | 2/1000 [00:00<05:26,  3.05it/s, v_num=ou3r, train_loss_step=1.04e+3, train_loss_epoch=1.16e+3]"
     ]
    },
    {
     "name": "stdout",
     "output_type": "stream",
     "text": [
      "\r",
      "Epoch 2/1000:   0%|                                                  | 2/1000 [00:00<05:26,  3.05it/s, v_num=ou3r, train_loss_step=935, train_loss_epoch=955]"
     ]
    },
    {
     "name": "stdout",
     "output_type": "stream",
     "text": [
      "\r",
      "Epoch 3/1000:   0%|                                                  | 2/1000 [00:00<05:26,  3.05it/s, v_num=ou3r, train_loss_step=935, train_loss_epoch=955]"
     ]
    },
    {
     "name": "stdout",
     "output_type": "stream",
     "text": [
      "\r",
      "Epoch 3/1000:   0%|▏                                                 | 3/1000 [00:00<04:57,  3.35it/s, v_num=ou3r, train_loss_step=935, train_loss_epoch=955]"
     ]
    },
    {
     "name": "stdout",
     "output_type": "stream",
     "text": [
      "\r",
      "Epoch 3/1000:   0%|▏                                                 | 3/1000 [00:00<04:57,  3.35it/s, v_num=ou3r, train_loss_step=878, train_loss_epoch=903]"
     ]
    },
    {
     "name": "stdout",
     "output_type": "stream",
     "text": [
      "\r",
      "Epoch 4/1000:   0%|▏                                                 | 3/1000 [00:00<04:57,  3.35it/s, v_num=ou3r, train_loss_step=878, train_loss_epoch=903]"
     ]
    },
    {
     "name": "stdout",
     "output_type": "stream",
     "text": [
      "\r",
      "Epoch 4/1000:   0%|▏                                                 | 4/1000 [00:01<04:09,  3.99it/s, v_num=ou3r, train_loss_step=878, train_loss_epoch=903]"
     ]
    },
    {
     "name": "stdout",
     "output_type": "stream",
     "text": [
      "\r",
      "Epoch 4/1000:   0%|▏                                                 | 4/1000 [00:01<04:09,  3.99it/s, v_num=ou3r, train_loss_step=907, train_loss_epoch=881]"
     ]
    },
    {
     "name": "stdout",
     "output_type": "stream",
     "text": [
      "\r",
      "Epoch 5/1000:   0%|▏                                                 | 4/1000 [00:01<04:09,  3.99it/s, v_num=ou3r, train_loss_step=907, train_loss_epoch=881]"
     ]
    },
    {
     "name": "stdout",
     "output_type": "stream",
     "text": [
      "\r",
      "Epoch 5/1000:   0%|▎                                                 | 5/1000 [00:01<03:41,  4.48it/s, v_num=ou3r, train_loss_step=907, train_loss_epoch=881]"
     ]
    },
    {
     "name": "stdout",
     "output_type": "stream",
     "text": [
      "\r",
      "Epoch 5/1000:   0%|▎                                                 | 5/1000 [00:01<03:41,  4.48it/s, v_num=ou3r, train_loss_step=819, train_loss_epoch=867]"
     ]
    },
    {
     "name": "stdout",
     "output_type": "stream",
     "text": [
      "\r",
      "Epoch 6/1000:   0%|▎                                                 | 5/1000 [00:01<03:41,  4.48it/s, v_num=ou3r, train_loss_step=819, train_loss_epoch=867]"
     ]
    },
    {
     "name": "stdout",
     "output_type": "stream",
     "text": [
      "\r",
      "Epoch 6/1000:   1%|▎                                                 | 6/1000 [00:01<03:25,  4.84it/s, v_num=ou3r, train_loss_step=819, train_loss_epoch=867]"
     ]
    },
    {
     "name": "stdout",
     "output_type": "stream",
     "text": [
      "\r",
      "Epoch 6/1000:   1%|▎                                                 | 6/1000 [00:01<03:25,  4.84it/s, v_num=ou3r, train_loss_step=822, train_loss_epoch=861]"
     ]
    },
    {
     "name": "stdout",
     "output_type": "stream",
     "text": [
      "\r",
      "Epoch 7/1000:   1%|▎                                                 | 6/1000 [00:01<03:25,  4.84it/s, v_num=ou3r, train_loss_step=822, train_loss_epoch=861]"
     ]
    },
    {
     "name": "stdout",
     "output_type": "stream",
     "text": [
      "\r",
      "Epoch 7/1000:   1%|▎                                                 | 7/1000 [00:01<03:15,  5.09it/s, v_num=ou3r, train_loss_step=822, train_loss_epoch=861]"
     ]
    },
    {
     "name": "stdout",
     "output_type": "stream",
     "text": [
      "\r",
      "Epoch 7/1000:   1%|▎                                                 | 7/1000 [00:01<03:15,  5.09it/s, v_num=ou3r, train_loss_step=979, train_loss_epoch=855]"
     ]
    },
    {
     "name": "stdout",
     "output_type": "stream",
     "text": [
      "\r",
      "Epoch 8/1000:   1%|▎                                                 | 7/1000 [00:01<03:15,  5.09it/s, v_num=ou3r, train_loss_step=979, train_loss_epoch=855]"
     ]
    },
    {
     "name": "stdout",
     "output_type": "stream",
     "text": [
      "\r",
      "Epoch 8/1000:   1%|▍                                                 | 8/1000 [00:01<03:08,  5.26it/s, v_num=ou3r, train_loss_step=979, train_loss_epoch=855]"
     ]
    },
    {
     "name": "stdout",
     "output_type": "stream",
     "text": [
      "\r",
      "Epoch 8/1000:   1%|▍                                                 | 8/1000 [00:01<03:08,  5.26it/s, v_num=ou3r, train_loss_step=861, train_loss_epoch=848]"
     ]
    },
    {
     "name": "stdout",
     "output_type": "stream",
     "text": [
      "\r",
      "Epoch 9/1000:   1%|▍                                                 | 8/1000 [00:01<03:08,  5.26it/s, v_num=ou3r, train_loss_step=861, train_loss_epoch=848]"
     ]
    },
    {
     "name": "stdout",
     "output_type": "stream",
     "text": [
      "\r",
      "Epoch 9/1000:   1%|▍                                                 | 9/1000 [00:02<03:02,  5.43it/s, v_num=ou3r, train_loss_step=861, train_loss_epoch=848]"
     ]
    },
    {
     "name": "stdout",
     "output_type": "stream",
     "text": [
      "\r",
      "Epoch 9/1000:   1%|▍                                                 | 9/1000 [00:02<03:02,  5.43it/s, v_num=ou3r, train_loss_step=882, train_loss_epoch=844]"
     ]
    },
    {
     "name": "stdout",
     "output_type": "stream",
     "text": [
      "\r",
      "Epoch 10/1000:   1%|▍                                                | 9/1000 [00:02<03:02,  5.43it/s, v_num=ou3r, train_loss_step=882, train_loss_epoch=844]"
     ]
    },
    {
     "name": "stdout",
     "output_type": "stream",
     "text": [
      "\r",
      "Epoch 10/1000:   1%|▍                                               | 10/1000 [00:02<02:59,  5.53it/s, v_num=ou3r, train_loss_step=882, train_loss_epoch=844]"
     ]
    },
    {
     "name": "stdout",
     "output_type": "stream",
     "text": [
      "\r",
      "Epoch 10/1000:   1%|▍                                               | 10/1000 [00:02<02:59,  5.53it/s, v_num=ou3r, train_loss_step=810, train_loss_epoch=842]"
     ]
    },
    {
     "name": "stdout",
     "output_type": "stream",
     "text": [
      "\r",
      "Epoch 11/1000:   1%|▍                                               | 10/1000 [00:02<02:59,  5.53it/s, v_num=ou3r, train_loss_step=810, train_loss_epoch=842]"
     ]
    },
    {
     "name": "stdout",
     "output_type": "stream",
     "text": [
      "\r",
      "Epoch 11/1000:   1%|▌                                               | 11/1000 [00:02<03:04,  5.36it/s, v_num=ou3r, train_loss_step=810, train_loss_epoch=842]"
     ]
    },
    {
     "name": "stdout",
     "output_type": "stream",
     "text": [
      "\r",
      "Epoch 11/1000:   1%|▌                                               | 11/1000 [00:02<03:04,  5.36it/s, v_num=ou3r, train_loss_step=883, train_loss_epoch=837]"
     ]
    },
    {
     "name": "stdout",
     "output_type": "stream",
     "text": [
      "\r",
      "Epoch 12/1000:   1%|▌                                               | 11/1000 [00:02<03:04,  5.36it/s, v_num=ou3r, train_loss_step=883, train_loss_epoch=837]"
     ]
    },
    {
     "name": "stdout",
     "output_type": "stream",
     "text": [
      "\r",
      "Epoch 12/1000:   1%|▌                                               | 12/1000 [00:02<03:01,  5.45it/s, v_num=ou3r, train_loss_step=883, train_loss_epoch=837]"
     ]
    },
    {
     "name": "stdout",
     "output_type": "stream",
     "text": [
      "\r",
      "Epoch 12/1000:   1%|▌                                               | 12/1000 [00:02<03:01,  5.45it/s, v_num=ou3r, train_loss_step=961, train_loss_epoch=833]"
     ]
    },
    {
     "name": "stdout",
     "output_type": "stream",
     "text": [
      "\r",
      "Epoch 13/1000:   1%|▌                                               | 12/1000 [00:02<03:01,  5.45it/s, v_num=ou3r, train_loss_step=961, train_loss_epoch=833]"
     ]
    },
    {
     "name": "stdout",
     "output_type": "stream",
     "text": [
      "\r",
      "Epoch 13/1000:   1%|▌                                               | 13/1000 [00:02<02:59,  5.51it/s, v_num=ou3r, train_loss_step=961, train_loss_epoch=833]"
     ]
    },
    {
     "name": "stdout",
     "output_type": "stream",
     "text": [
      "\r",
      "Epoch 13/1000:   1%|▌                                               | 13/1000 [00:02<02:59,  5.51it/s, v_num=ou3r, train_loss_step=808, train_loss_epoch=830]"
     ]
    },
    {
     "name": "stdout",
     "output_type": "stream",
     "text": [
      "\r",
      "Epoch 14/1000:   1%|▌                                               | 13/1000 [00:02<02:59,  5.51it/s, v_num=ou3r, train_loss_step=808, train_loss_epoch=830]"
     ]
    },
    {
     "name": "stdout",
     "output_type": "stream",
     "text": [
      "\r",
      "Epoch 14/1000:   1%|▋                                               | 14/1000 [00:02<02:55,  5.61it/s, v_num=ou3r, train_loss_step=808, train_loss_epoch=830]"
     ]
    },
    {
     "name": "stdout",
     "output_type": "stream",
     "text": [
      "\r",
      "Epoch 14/1000:   1%|▋                                               | 14/1000 [00:02<02:55,  5.61it/s, v_num=ou3r, train_loss_step=871, train_loss_epoch=828]"
     ]
    },
    {
     "name": "stdout",
     "output_type": "stream",
     "text": [
      "\r",
      "Epoch 15/1000:   1%|▋                                               | 14/1000 [00:02<02:55,  5.61it/s, v_num=ou3r, train_loss_step=871, train_loss_epoch=828]"
     ]
    },
    {
     "name": "stdout",
     "output_type": "stream",
     "text": [
      "\r",
      "Epoch 15/1000:   2%|▋                                               | 15/1000 [00:03<02:57,  5.54it/s, v_num=ou3r, train_loss_step=871, train_loss_epoch=828]"
     ]
    },
    {
     "name": "stdout",
     "output_type": "stream",
     "text": [
      "\r",
      "Epoch 15/1000:   2%|▋                                               | 15/1000 [00:03<02:57,  5.54it/s, v_num=ou3r, train_loss_step=820, train_loss_epoch=824]"
     ]
    },
    {
     "name": "stdout",
     "output_type": "stream",
     "text": [
      "\r",
      "Epoch 16/1000:   2%|▋                                               | 15/1000 [00:03<02:57,  5.54it/s, v_num=ou3r, train_loss_step=820, train_loss_epoch=824]"
     ]
    },
    {
     "name": "stdout",
     "output_type": "stream",
     "text": [
      "\r",
      "Epoch 16/1000:   2%|▊                                               | 16/1000 [00:03<02:55,  5.60it/s, v_num=ou3r, train_loss_step=820, train_loss_epoch=824]"
     ]
    },
    {
     "name": "stdout",
     "output_type": "stream",
     "text": [
      "\r",
      "Epoch 16/1000:   2%|▊                                               | 16/1000 [00:03<02:55,  5.60it/s, v_num=ou3r, train_loss_step=836, train_loss_epoch=822]"
     ]
    },
    {
     "name": "stdout",
     "output_type": "stream",
     "text": [
      "\r",
      "Epoch 17/1000:   2%|▊                                               | 16/1000 [00:03<02:55,  5.60it/s, v_num=ou3r, train_loss_step=836, train_loss_epoch=822]"
     ]
    },
    {
     "name": "stdout",
     "output_type": "stream",
     "text": [
      "\r",
      "Epoch 17/1000:   2%|▊                                               | 17/1000 [00:03<02:53,  5.66it/s, v_num=ou3r, train_loss_step=836, train_loss_epoch=822]"
     ]
    },
    {
     "name": "stdout",
     "output_type": "stream",
     "text": [
      "\r",
      "Epoch 17/1000:   2%|▊                                               | 17/1000 [00:03<02:53,  5.66it/s, v_num=ou3r, train_loss_step=826, train_loss_epoch=818]"
     ]
    },
    {
     "name": "stdout",
     "output_type": "stream",
     "text": [
      "\r",
      "Epoch 18/1000:   2%|▊                                               | 17/1000 [00:03<02:53,  5.66it/s, v_num=ou3r, train_loss_step=826, train_loss_epoch=818]"
     ]
    },
    {
     "name": "stdout",
     "output_type": "stream",
     "text": [
      "\r",
      "Epoch 18/1000:   2%|▊                                               | 18/1000 [00:03<02:52,  5.70it/s, v_num=ou3r, train_loss_step=826, train_loss_epoch=818]"
     ]
    },
    {
     "name": "stdout",
     "output_type": "stream",
     "text": [
      "\r",
      "Epoch 18/1000:   2%|▊                                               | 18/1000 [00:03<02:52,  5.70it/s, v_num=ou3r, train_loss_step=868, train_loss_epoch=818]"
     ]
    },
    {
     "name": "stdout",
     "output_type": "stream",
     "text": [
      "\r",
      "Epoch 19/1000:   2%|▊                                               | 18/1000 [00:03<02:52,  5.70it/s, v_num=ou3r, train_loss_step=868, train_loss_epoch=818]"
     ]
    },
    {
     "name": "stdout",
     "output_type": "stream",
     "text": [
      "\r",
      "Epoch 19/1000:   2%|▉                                               | 19/1000 [00:03<02:54,  5.61it/s, v_num=ou3r, train_loss_step=868, train_loss_epoch=818]"
     ]
    },
    {
     "name": "stdout",
     "output_type": "stream",
     "text": [
      "\r",
      "Epoch 19/1000:   2%|▉                                               | 19/1000 [00:03<02:54,  5.61it/s, v_num=ou3r, train_loss_step=800, train_loss_epoch=816]"
     ]
    },
    {
     "name": "stdout",
     "output_type": "stream",
     "text": [
      "\r",
      "Epoch 20/1000:   2%|▉                                               | 19/1000 [00:03<02:54,  5.61it/s, v_num=ou3r, train_loss_step=800, train_loss_epoch=816]"
     ]
    },
    {
     "name": "stdout",
     "output_type": "stream",
     "text": [
      "\r",
      "Epoch 20/1000:   2%|▉                                               | 20/1000 [00:03<02:59,  5.47it/s, v_num=ou3r, train_loss_step=800, train_loss_epoch=816]"
     ]
    },
    {
     "name": "stdout",
     "output_type": "stream",
     "text": [
      "\r",
      "Epoch 20/1000:   2%|▉                                               | 20/1000 [00:03<02:59,  5.47it/s, v_num=ou3r, train_loss_step=772, train_loss_epoch=813]"
     ]
    },
    {
     "name": "stdout",
     "output_type": "stream",
     "text": [
      "\r",
      "Epoch 21/1000:   2%|▉                                               | 20/1000 [00:03<02:59,  5.47it/s, v_num=ou3r, train_loss_step=772, train_loss_epoch=813]"
     ]
    },
    {
     "name": "stdout",
     "output_type": "stream",
     "text": [
      "\r",
      "Epoch 21/1000:   2%|█                                               | 21/1000 [00:04<03:25,  4.76it/s, v_num=ou3r, train_loss_step=772, train_loss_epoch=813]"
     ]
    },
    {
     "name": "stdout",
     "output_type": "stream",
     "text": [
      "\r",
      "Epoch 21/1000:   2%|█                                               | 21/1000 [00:04<03:25,  4.76it/s, v_num=ou3r, train_loss_step=781, train_loss_epoch=810]"
     ]
    },
    {
     "name": "stdout",
     "output_type": "stream",
     "text": [
      "\r",
      "Epoch 22/1000:   2%|█                                               | 21/1000 [00:04<03:25,  4.76it/s, v_num=ou3r, train_loss_step=781, train_loss_epoch=810]"
     ]
    },
    {
     "name": "stdout",
     "output_type": "stream",
     "text": [
      "\r",
      "Epoch 22/1000:   2%|█                                               | 22/1000 [00:04<03:37,  4.49it/s, v_num=ou3r, train_loss_step=781, train_loss_epoch=810]"
     ]
    },
    {
     "name": "stdout",
     "output_type": "stream",
     "text": [
      "\r",
      "Epoch 22/1000:   2%|█                                               | 22/1000 [00:04<03:37,  4.49it/s, v_num=ou3r, train_loss_step=820, train_loss_epoch=807]"
     ]
    },
    {
     "name": "stdout",
     "output_type": "stream",
     "text": [
      "\r",
      "Epoch 23/1000:   2%|█                                               | 22/1000 [00:04<03:37,  4.49it/s, v_num=ou3r, train_loss_step=820, train_loss_epoch=807]"
     ]
    },
    {
     "name": "stdout",
     "output_type": "stream",
     "text": [
      "\r",
      "Epoch 23/1000:   2%|█                                               | 23/1000 [00:04<03:51,  4.22it/s, v_num=ou3r, train_loss_step=820, train_loss_epoch=807]"
     ]
    },
    {
     "name": "stdout",
     "output_type": "stream",
     "text": [
      "\r",
      "Epoch 23/1000:   2%|█                                               | 23/1000 [00:04<03:51,  4.22it/s, v_num=ou3r, train_loss_step=776, train_loss_epoch=805]"
     ]
    },
    {
     "name": "stdout",
     "output_type": "stream",
     "text": [
      "\r",
      "Epoch 24/1000:   2%|█                                               | 23/1000 [00:04<03:51,  4.22it/s, v_num=ou3r, train_loss_step=776, train_loss_epoch=805]"
     ]
    },
    {
     "name": "stdout",
     "output_type": "stream",
     "text": [
      "\r",
      "Epoch 24/1000:   2%|█▏                                              | 24/1000 [00:04<03:35,  4.54it/s, v_num=ou3r, train_loss_step=776, train_loss_epoch=805]"
     ]
    },
    {
     "name": "stdout",
     "output_type": "stream",
     "text": [
      "\r",
      "Epoch 24/1000:   2%|█▏                                              | 24/1000 [00:04<03:35,  4.54it/s, v_num=ou3r, train_loss_step=749, train_loss_epoch=804]"
     ]
    },
    {
     "name": "stdout",
     "output_type": "stream",
     "text": [
      "\r",
      "Epoch 25/1000:   2%|█▏                                              | 24/1000 [00:04<03:35,  4.54it/s, v_num=ou3r, train_loss_step=749, train_loss_epoch=804]"
     ]
    },
    {
     "name": "stdout",
     "output_type": "stream",
     "text": [
      "\r",
      "Epoch 25/1000:   2%|█▏                                              | 25/1000 [00:05<03:42,  4.38it/s, v_num=ou3r, train_loss_step=749, train_loss_epoch=804]"
     ]
    },
    {
     "name": "stdout",
     "output_type": "stream",
     "text": [
      "\r",
      "Epoch 25/1000:   2%|█▏                                              | 25/1000 [00:05<03:42,  4.38it/s, v_num=ou3r, train_loss_step=768, train_loss_epoch=801]"
     ]
    },
    {
     "name": "stdout",
     "output_type": "stream",
     "text": [
      "\r",
      "Epoch 26/1000:   2%|█▏                                              | 25/1000 [00:05<03:42,  4.38it/s, v_num=ou3r, train_loss_step=768, train_loss_epoch=801]"
     ]
    },
    {
     "name": "stdout",
     "output_type": "stream",
     "text": [
      "\r",
      "Epoch 26/1000:   3%|█▏                                              | 26/1000 [00:05<03:46,  4.30it/s, v_num=ou3r, train_loss_step=768, train_loss_epoch=801]"
     ]
    },
    {
     "name": "stdout",
     "output_type": "stream",
     "text": [
      "\r",
      "Epoch 26/1000:   3%|█▏                                              | 26/1000 [00:05<03:46,  4.30it/s, v_num=ou3r, train_loss_step=827, train_loss_epoch=798]"
     ]
    },
    {
     "name": "stdout",
     "output_type": "stream",
     "text": [
      "\r",
      "Epoch 27/1000:   3%|█▏                                              | 26/1000 [00:05<03:46,  4.30it/s, v_num=ou3r, train_loss_step=827, train_loss_epoch=798]"
     ]
    },
    {
     "name": "stdout",
     "output_type": "stream",
     "text": [
      "\r",
      "Epoch 27/1000:   3%|█▎                                              | 27/1000 [00:05<03:41,  4.40it/s, v_num=ou3r, train_loss_step=827, train_loss_epoch=798]"
     ]
    },
    {
     "name": "stdout",
     "output_type": "stream",
     "text": [
      "\r",
      "Epoch 27/1000:   3%|█▎                                              | 27/1000 [00:05<03:41,  4.40it/s, v_num=ou3r, train_loss_step=862, train_loss_epoch=796]"
     ]
    },
    {
     "name": "stdout",
     "output_type": "stream",
     "text": [
      "\r",
      "Epoch 28/1000:   3%|█▎                                              | 27/1000 [00:05<03:41,  4.40it/s, v_num=ou3r, train_loss_step=862, train_loss_epoch=796]"
     ]
    },
    {
     "name": "stdout",
     "output_type": "stream",
     "text": [
      "\r",
      "Epoch 28/1000:   3%|█▎                                              | 28/1000 [00:05<03:32,  4.57it/s, v_num=ou3r, train_loss_step=862, train_loss_epoch=796]"
     ]
    },
    {
     "name": "stdout",
     "output_type": "stream",
     "text": [
      "\r",
      "Epoch 28/1000:   3%|█▎                                              | 28/1000 [00:05<03:32,  4.57it/s, v_num=ou3r, train_loss_step=782, train_loss_epoch=795]"
     ]
    },
    {
     "name": "stdout",
     "output_type": "stream",
     "text": [
      "\r",
      "Epoch 29/1000:   3%|█▎                                              | 28/1000 [00:05<03:32,  4.57it/s, v_num=ou3r, train_loss_step=782, train_loss_epoch=795]"
     ]
    },
    {
     "name": "stdout",
     "output_type": "stream",
     "text": [
      "\r",
      "Epoch 29/1000:   3%|█▍                                              | 29/1000 [00:06<03:25,  4.72it/s, v_num=ou3r, train_loss_step=782, train_loss_epoch=795]"
     ]
    },
    {
     "name": "stdout",
     "output_type": "stream",
     "text": [
      "\r",
      "Epoch 29/1000:   3%|█▍                                              | 29/1000 [00:06<03:25,  4.72it/s, v_num=ou3r, train_loss_step=832, train_loss_epoch=792]"
     ]
    },
    {
     "name": "stdout",
     "output_type": "stream",
     "text": [
      "\r",
      "Epoch 30/1000:   3%|█▍                                              | 29/1000 [00:06<03:25,  4.72it/s, v_num=ou3r, train_loss_step=832, train_loss_epoch=792]"
     ]
    },
    {
     "name": "stdout",
     "output_type": "stream",
     "text": [
      "\r",
      "Epoch 30/1000:   3%|█▍                                              | 30/1000 [00:06<03:13,  5.01it/s, v_num=ou3r, train_loss_step=832, train_loss_epoch=792]"
     ]
    },
    {
     "name": "stdout",
     "output_type": "stream",
     "text": [
      "\r",
      "Epoch 30/1000:   3%|█▍                                              | 30/1000 [00:06<03:13,  5.01it/s, v_num=ou3r, train_loss_step=862, train_loss_epoch=790]"
     ]
    },
    {
     "name": "stdout",
     "output_type": "stream",
     "text": [
      "\r",
      "Epoch 31/1000:   3%|█▍                                              | 30/1000 [00:06<03:13,  5.01it/s, v_num=ou3r, train_loss_step=862, train_loss_epoch=790]"
     ]
    },
    {
     "name": "stdout",
     "output_type": "stream",
     "text": [
      "\r",
      "Epoch 31/1000:   3%|█▍                                              | 31/1000 [00:06<03:06,  5.21it/s, v_num=ou3r, train_loss_step=862, train_loss_epoch=790]"
     ]
    },
    {
     "name": "stdout",
     "output_type": "stream",
     "text": [
      "\r",
      "Epoch 31/1000:   3%|█▍                                              | 31/1000 [00:06<03:06,  5.21it/s, v_num=ou3r, train_loss_step=788, train_loss_epoch=787]"
     ]
    },
    {
     "name": "stdout",
     "output_type": "stream",
     "text": [
      "\r",
      "Epoch 32/1000:   3%|█▍                                              | 31/1000 [00:06<03:06,  5.21it/s, v_num=ou3r, train_loss_step=788, train_loss_epoch=787]"
     ]
    },
    {
     "name": "stdout",
     "output_type": "stream",
     "text": [
      "\r",
      "Epoch 32/1000:   3%|█▌                                              | 32/1000 [00:06<03:12,  5.02it/s, v_num=ou3r, train_loss_step=788, train_loss_epoch=787]"
     ]
    },
    {
     "name": "stdout",
     "output_type": "stream",
     "text": [
      "\r",
      "Epoch 32/1000:   3%|█▌                                              | 32/1000 [00:06<03:12,  5.02it/s, v_num=ou3r, train_loss_step=778, train_loss_epoch=785]"
     ]
    },
    {
     "name": "stdout",
     "output_type": "stream",
     "text": [
      "\r",
      "Epoch 33/1000:   3%|█▌                                              | 32/1000 [00:06<03:12,  5.02it/s, v_num=ou3r, train_loss_step=778, train_loss_epoch=785]"
     ]
    },
    {
     "name": "stdout",
     "output_type": "stream",
     "text": [
      "\r",
      "Epoch 33/1000:   3%|█▌                                              | 33/1000 [00:06<03:15,  4.94it/s, v_num=ou3r, train_loss_step=778, train_loss_epoch=785]"
     ]
    },
    {
     "name": "stdout",
     "output_type": "stream",
     "text": [
      "\r",
      "Epoch 33/1000:   3%|█▌                                              | 33/1000 [00:06<03:15,  4.94it/s, v_num=ou3r, train_loss_step=787, train_loss_epoch=783]"
     ]
    },
    {
     "name": "stdout",
     "output_type": "stream",
     "text": [
      "\r",
      "Epoch 34/1000:   3%|█▌                                              | 33/1000 [00:06<03:15,  4.94it/s, v_num=ou3r, train_loss_step=787, train_loss_epoch=783]"
     ]
    },
    {
     "name": "stdout",
     "output_type": "stream",
     "text": [
      "\r",
      "Epoch 34/1000:   3%|█▋                                              | 34/1000 [00:07<03:08,  5.12it/s, v_num=ou3r, train_loss_step=787, train_loss_epoch=783]"
     ]
    },
    {
     "name": "stdout",
     "output_type": "stream",
     "text": [
      "\r",
      "Epoch 34/1000:   3%|█▋                                              | 34/1000 [00:07<03:08,  5.12it/s, v_num=ou3r, train_loss_step=802, train_loss_epoch=781]"
     ]
    },
    {
     "name": "stdout",
     "output_type": "stream",
     "text": [
      "\r",
      "Epoch 35/1000:   3%|█▋                                              | 34/1000 [00:07<03:08,  5.12it/s, v_num=ou3r, train_loss_step=802, train_loss_epoch=781]"
     ]
    },
    {
     "name": "stdout",
     "output_type": "stream",
     "text": [
      "\r",
      "Epoch 35/1000:   4%|█▋                                              | 35/1000 [00:07<03:11,  5.04it/s, v_num=ou3r, train_loss_step=802, train_loss_epoch=781]"
     ]
    },
    {
     "name": "stdout",
     "output_type": "stream",
     "text": [
      "\r",
      "Epoch 35/1000:   4%|█▋                                              | 35/1000 [00:07<03:11,  5.04it/s, v_num=ou3r, train_loss_step=769, train_loss_epoch=779]"
     ]
    },
    {
     "name": "stdout",
     "output_type": "stream",
     "text": [
      "\r",
      "Epoch 36/1000:   4%|█▋                                              | 35/1000 [00:07<03:11,  5.04it/s, v_num=ou3r, train_loss_step=769, train_loss_epoch=779]"
     ]
    },
    {
     "name": "stdout",
     "output_type": "stream",
     "text": [
      "\r",
      "Epoch 36/1000:   4%|█▋                                              | 36/1000 [00:07<03:26,  4.66it/s, v_num=ou3r, train_loss_step=769, train_loss_epoch=779]"
     ]
    },
    {
     "name": "stdout",
     "output_type": "stream",
     "text": [
      "\r",
      "Epoch 36/1000:   4%|█▋                                              | 36/1000 [00:07<03:26,  4.66it/s, v_num=ou3r, train_loss_step=837, train_loss_epoch=777]"
     ]
    },
    {
     "name": "stdout",
     "output_type": "stream",
     "text": [
      "\r",
      "Epoch 37/1000:   4%|█▋                                              | 36/1000 [00:07<03:26,  4.66it/s, v_num=ou3r, train_loss_step=837, train_loss_epoch=777]"
     ]
    },
    {
     "name": "stdout",
     "output_type": "stream",
     "text": [
      "\r",
      "Epoch 37/1000:   4%|█▊                                              | 37/1000 [00:07<03:32,  4.54it/s, v_num=ou3r, train_loss_step=837, train_loss_epoch=777]"
     ]
    },
    {
     "name": "stdout",
     "output_type": "stream",
     "text": [
      "\r",
      "Epoch 37/1000:   4%|█▊                                              | 37/1000 [00:07<03:32,  4.54it/s, v_num=ou3r, train_loss_step=755, train_loss_epoch=775]"
     ]
    },
    {
     "name": "stdout",
     "output_type": "stream",
     "text": [
      "\r",
      "Epoch 38/1000:   4%|█▊                                              | 37/1000 [00:07<03:32,  4.54it/s, v_num=ou3r, train_loss_step=755, train_loss_epoch=775]"
     ]
    },
    {
     "name": "stdout",
     "output_type": "stream",
     "text": [
      "\r",
      "Epoch 38/1000:   4%|█▊                                              | 38/1000 [00:07<03:39,  4.38it/s, v_num=ou3r, train_loss_step=755, train_loss_epoch=775]"
     ]
    },
    {
     "name": "stdout",
     "output_type": "stream",
     "text": [
      "\r",
      "Epoch 38/1000:   4%|█▊                                              | 38/1000 [00:07<03:39,  4.38it/s, v_num=ou3r, train_loss_step=763, train_loss_epoch=773]"
     ]
    },
    {
     "name": "stdout",
     "output_type": "stream",
     "text": [
      "\r",
      "Epoch 39/1000:   4%|█▊                                              | 38/1000 [00:07<03:39,  4.38it/s, v_num=ou3r, train_loss_step=763, train_loss_epoch=773]"
     ]
    },
    {
     "name": "stdout",
     "output_type": "stream",
     "text": [
      "\r",
      "Epoch 39/1000:   4%|█▊                                              | 39/1000 [00:08<03:37,  4.41it/s, v_num=ou3r, train_loss_step=763, train_loss_epoch=773]"
     ]
    },
    {
     "name": "stdout",
     "output_type": "stream",
     "text": [
      "\r",
      "Epoch 39/1000:   4%|█▊                                              | 39/1000 [00:08<03:37,  4.41it/s, v_num=ou3r, train_loss_step=774, train_loss_epoch=771]"
     ]
    },
    {
     "name": "stdout",
     "output_type": "stream",
     "text": [
      "\r",
      "Epoch 40/1000:   4%|█▊                                              | 39/1000 [00:08<03:37,  4.41it/s, v_num=ou3r, train_loss_step=774, train_loss_epoch=771]"
     ]
    },
    {
     "name": "stdout",
     "output_type": "stream",
     "text": [
      "\r",
      "Epoch 40/1000:   4%|█▉                                              | 40/1000 [00:08<03:24,  4.69it/s, v_num=ou3r, train_loss_step=774, train_loss_epoch=771]"
     ]
    },
    {
     "name": "stdout",
     "output_type": "stream",
     "text": [
      "\r",
      "Epoch 40/1000:   4%|█▉                                              | 40/1000 [00:08<03:24,  4.69it/s, v_num=ou3r, train_loss_step=799, train_loss_epoch=769]"
     ]
    },
    {
     "name": "stdout",
     "output_type": "stream",
     "text": [
      "\r",
      "Epoch 41/1000:   4%|█▉                                              | 40/1000 [00:08<03:24,  4.69it/s, v_num=ou3r, train_loss_step=799, train_loss_epoch=769]"
     ]
    },
    {
     "name": "stdout",
     "output_type": "stream",
     "text": [
      "\r",
      "Epoch 41/1000:   4%|█▉                                              | 41/1000 [00:08<03:31,  4.53it/s, v_num=ou3r, train_loss_step=799, train_loss_epoch=769]"
     ]
    },
    {
     "name": "stdout",
     "output_type": "stream",
     "text": [
      "\r",
      "Epoch 41/1000:   4%|█▉                                              | 41/1000 [00:08<03:31,  4.53it/s, v_num=ou3r, train_loss_step=779, train_loss_epoch=767]"
     ]
    },
    {
     "name": "stdout",
     "output_type": "stream",
     "text": [
      "\r",
      "Epoch 42/1000:   4%|█▉                                              | 41/1000 [00:08<03:31,  4.53it/s, v_num=ou3r, train_loss_step=779, train_loss_epoch=767]"
     ]
    },
    {
     "name": "stdout",
     "output_type": "stream",
     "text": [
      "\r",
      "Epoch 42/1000:   4%|██                                              | 42/1000 [00:08<03:23,  4.72it/s, v_num=ou3r, train_loss_step=779, train_loss_epoch=767]"
     ]
    },
    {
     "name": "stdout",
     "output_type": "stream",
     "text": [
      "\r",
      "Epoch 42/1000:   4%|██                                              | 42/1000 [00:08<03:23,  4.72it/s, v_num=ou3r, train_loss_step=760, train_loss_epoch=764]"
     ]
    },
    {
     "name": "stdout",
     "output_type": "stream",
     "text": [
      "\r",
      "Epoch 43/1000:   4%|██                                              | 42/1000 [00:08<03:23,  4.72it/s, v_num=ou3r, train_loss_step=760, train_loss_epoch=764]"
     ]
    },
    {
     "name": "stdout",
     "output_type": "stream",
     "text": [
      "\r",
      "Epoch 43/1000:   4%|██                                              | 43/1000 [00:08<03:19,  4.81it/s, v_num=ou3r, train_loss_step=760, train_loss_epoch=764]"
     ]
    },
    {
     "name": "stdout",
     "output_type": "stream",
     "text": [
      "\r",
      "Epoch 43/1000:   4%|██                                              | 43/1000 [00:08<03:19,  4.81it/s, v_num=ou3r, train_loss_step=786, train_loss_epoch=762]"
     ]
    },
    {
     "name": "stdout",
     "output_type": "stream",
     "text": [
      "\r",
      "Epoch 44/1000:   4%|██                                              | 43/1000 [00:08<03:19,  4.81it/s, v_num=ou3r, train_loss_step=786, train_loss_epoch=762]"
     ]
    },
    {
     "name": "stdout",
     "output_type": "stream",
     "text": [
      "\r",
      "Epoch 44/1000:   4%|██                                              | 44/1000 [00:09<03:08,  5.06it/s, v_num=ou3r, train_loss_step=786, train_loss_epoch=762]"
     ]
    },
    {
     "name": "stdout",
     "output_type": "stream",
     "text": [
      "\r",
      "Epoch 44/1000:   4%|██                                              | 44/1000 [00:09<03:08,  5.06it/s, v_num=ou3r, train_loss_step=835, train_loss_epoch=761]"
     ]
    },
    {
     "name": "stdout",
     "output_type": "stream",
     "text": [
      "\r",
      "Epoch 45/1000:   4%|██                                              | 44/1000 [00:09<03:08,  5.06it/s, v_num=ou3r, train_loss_step=835, train_loss_epoch=761]"
     ]
    },
    {
     "name": "stdout",
     "output_type": "stream",
     "text": [
      "\r",
      "Epoch 45/1000:   4%|██▏                                             | 45/1000 [00:09<03:27,  4.61it/s, v_num=ou3r, train_loss_step=835, train_loss_epoch=761]"
     ]
    },
    {
     "name": "stdout",
     "output_type": "stream",
     "text": [
      "\r",
      "Epoch 45/1000:   4%|██▏                                             | 45/1000 [00:09<03:27,  4.61it/s, v_num=ou3r, train_loss_step=740, train_loss_epoch=759]"
     ]
    },
    {
     "name": "stdout",
     "output_type": "stream",
     "text": [
      "\r",
      "Epoch 46/1000:   4%|██▏                                             | 45/1000 [00:09<03:27,  4.61it/s, v_num=ou3r, train_loss_step=740, train_loss_epoch=759]"
     ]
    },
    {
     "name": "stdout",
     "output_type": "stream",
     "text": [
      "\r",
      "Epoch 46/1000:   5%|██▏                                             | 46/1000 [00:09<03:15,  4.87it/s, v_num=ou3r, train_loss_step=740, train_loss_epoch=759]"
     ]
    },
    {
     "name": "stdout",
     "output_type": "stream",
     "text": [
      "\r",
      "Epoch 46/1000:   5%|██▏                                             | 46/1000 [00:09<03:15,  4.87it/s, v_num=ou3r, train_loss_step=752, train_loss_epoch=756]"
     ]
    },
    {
     "name": "stdout",
     "output_type": "stream",
     "text": [
      "\r",
      "Epoch 47/1000:   5%|██▏                                             | 46/1000 [00:09<03:15,  4.87it/s, v_num=ou3r, train_loss_step=752, train_loss_epoch=756]"
     ]
    },
    {
     "name": "stdout",
     "output_type": "stream",
     "text": [
      "\r",
      "Epoch 47/1000:   5%|██▎                                             | 47/1000 [00:09<03:25,  4.64it/s, v_num=ou3r, train_loss_step=752, train_loss_epoch=756]"
     ]
    },
    {
     "name": "stdout",
     "output_type": "stream",
     "text": [
      "\r",
      "Epoch 47/1000:   5%|██▎                                             | 47/1000 [00:09<03:25,  4.64it/s, v_num=ou3r, train_loss_step=750, train_loss_epoch=755]"
     ]
    },
    {
     "name": "stdout",
     "output_type": "stream",
     "text": [
      "\r",
      "Epoch 48/1000:   5%|██▎                                             | 47/1000 [00:09<03:25,  4.64it/s, v_num=ou3r, train_loss_step=750, train_loss_epoch=755]"
     ]
    },
    {
     "name": "stdout",
     "output_type": "stream",
     "text": [
      "\r",
      "Epoch 48/1000:   5%|██▎                                             | 48/1000 [00:10<03:17,  4.81it/s, v_num=ou3r, train_loss_step=750, train_loss_epoch=755]"
     ]
    },
    {
     "name": "stdout",
     "output_type": "stream",
     "text": [
      "\r",
      "Epoch 48/1000:   5%|██▎                                             | 48/1000 [00:10<03:17,  4.81it/s, v_num=ou3r, train_loss_step=757, train_loss_epoch=753]"
     ]
    },
    {
     "name": "stdout",
     "output_type": "stream",
     "text": [
      "\r",
      "Epoch 49/1000:   5%|██▎                                             | 48/1000 [00:10<03:17,  4.81it/s, v_num=ou3r, train_loss_step=757, train_loss_epoch=753]"
     ]
    },
    {
     "name": "stdout",
     "output_type": "stream",
     "text": [
      "\r",
      "Epoch 49/1000:   5%|██▎                                             | 49/1000 [00:10<03:18,  4.78it/s, v_num=ou3r, train_loss_step=757, train_loss_epoch=753]"
     ]
    },
    {
     "name": "stdout",
     "output_type": "stream",
     "text": [
      "\r",
      "Epoch 49/1000:   5%|██▎                                             | 49/1000 [00:10<03:18,  4.78it/s, v_num=ou3r, train_loss_step=777, train_loss_epoch=750]"
     ]
    },
    {
     "name": "stdout",
     "output_type": "stream",
     "text": [
      "\r",
      "Epoch 50/1000:   5%|██▎                                             | 49/1000 [00:10<03:18,  4.78it/s, v_num=ou3r, train_loss_step=777, train_loss_epoch=750]"
     ]
    },
    {
     "name": "stdout",
     "output_type": "stream",
     "text": [
      "\r",
      "Epoch 50/1000:   5%|██▍                                             | 50/1000 [00:10<03:09,  5.02it/s, v_num=ou3r, train_loss_step=777, train_loss_epoch=750]"
     ]
    },
    {
     "name": "stdout",
     "output_type": "stream",
     "text": [
      "\r",
      "Epoch 50/1000:   5%|██▍                                             | 50/1000 [00:10<03:09,  5.02it/s, v_num=ou3r, train_loss_step=750, train_loss_epoch=748]"
     ]
    },
    {
     "name": "stdout",
     "output_type": "stream",
     "text": [
      "\r",
      "Epoch 51/1000:   5%|██▍                                             | 50/1000 [00:10<03:09,  5.02it/s, v_num=ou3r, train_loss_step=750, train_loss_epoch=748]"
     ]
    },
    {
     "name": "stdout",
     "output_type": "stream",
     "text": [
      "\r",
      "Epoch 51/1000:   5%|██▍                                             | 51/1000 [00:10<03:02,  5.21it/s, v_num=ou3r, train_loss_step=750, train_loss_epoch=748]"
     ]
    },
    {
     "name": "stdout",
     "output_type": "stream",
     "text": [
      "\r",
      "Epoch 51/1000:   5%|██▍                                             | 51/1000 [00:10<03:02,  5.21it/s, v_num=ou3r, train_loss_step=729, train_loss_epoch=747]"
     ]
    },
    {
     "name": "stdout",
     "output_type": "stream",
     "text": [
      "\r",
      "Epoch 52/1000:   5%|██▍                                             | 51/1000 [00:10<03:02,  5.21it/s, v_num=ou3r, train_loss_step=729, train_loss_epoch=747]"
     ]
    },
    {
     "name": "stdout",
     "output_type": "stream",
     "text": [
      "\r",
      "Epoch 52/1000:   5%|██▍                                             | 52/1000 [00:10<03:05,  5.12it/s, v_num=ou3r, train_loss_step=729, train_loss_epoch=747]"
     ]
    },
    {
     "name": "stdout",
     "output_type": "stream",
     "text": [
      "\r",
      "Epoch 52/1000:   5%|██▍                                             | 52/1000 [00:10<03:05,  5.12it/s, v_num=ou3r, train_loss_step=778, train_loss_epoch=747]"
     ]
    },
    {
     "name": "stdout",
     "output_type": "stream",
     "text": [
      "\r",
      "Epoch 53/1000:   5%|██▍                                             | 52/1000 [00:10<03:05,  5.12it/s, v_num=ou3r, train_loss_step=778, train_loss_epoch=747]"
     ]
    },
    {
     "name": "stdout",
     "output_type": "stream",
     "text": [
      "\r",
      "Epoch 53/1000:   5%|██▌                                             | 53/1000 [00:10<02:59,  5.27it/s, v_num=ou3r, train_loss_step=778, train_loss_epoch=747]"
     ]
    },
    {
     "name": "stdout",
     "output_type": "stream",
     "text": [
      "\r",
      "Epoch 53/1000:   5%|██▌                                             | 53/1000 [00:10<02:59,  5.27it/s, v_num=ou3r, train_loss_step=728, train_loss_epoch=744]"
     ]
    },
    {
     "name": "stdout",
     "output_type": "stream",
     "text": [
      "\r",
      "Epoch 53/1000:   5%|██▌                                             | 53/1000 [00:10<03:16,  4.83it/s, v_num=ou3r, train_loss_step=728, train_loss_epoch=744]"
     ]
    },
    {
     "name": "stdout",
     "output_type": "stream",
     "text": [
      "\n"
     ]
    },
    {
     "name": "stdout",
     "output_type": "stream",
     "text": [
      "Monitored metric reconstruction_loss_validation did not improve in the last 10 records. Best score: 876.517. Signaling Trainer to stop.\n"
     ]
    }
   ],
   "source": [
    "model.train(logger=logger, plan_kwargs = plan_kwargs, **trainer_kwargs)"
   ]
  },
  {
   "cell_type": "code",
   "execution_count": 15,
   "id": "c282f6eb-0ad1-40a5-81e6-1acda1545dad",
   "metadata": {
    "execution": {
     "iopub.execute_input": "2024-10-17T14:38:41.244646Z",
     "iopub.status.busy": "2024-10-17T14:38:41.244133Z",
     "iopub.status.idle": "2024-10-17T14:38:45.274257Z",
     "shell.execute_reply": "2024-10-17T14:38:45.272740Z"
    },
    "papermill": {
     "duration": 4.067333,
     "end_time": "2024-10-17T14:38:45.277843",
     "exception": false,
     "start_time": "2024-10-17T14:38:41.210510",
     "status": "completed"
    },
    "tags": []
   },
   "outputs": [
    {
     "name": "stderr",
     "output_type": "stream",
     "text": [
      "\u001b[34m\u001b[1mwandb\u001b[0m: - 0.005 MB of 0.005 MB uploaded\r"
     ]
    },
    {
     "name": "stderr",
     "output_type": "stream",
     "text": [
      "\u001b[34m\u001b[1mwandb\u001b[0m: \\ 0.005 MB of 0.005 MB uploaded\r"
     ]
    },
    {
     "name": "stderr",
     "output_type": "stream",
     "text": [
      "\u001b[34m\u001b[1mwandb\u001b[0m: | 0.025 MB of 0.025 MB uploaded\r"
     ]
    },
    {
     "name": "stderr",
     "output_type": "stream",
     "text": [
      "\u001b[34m\u001b[1mwandb\u001b[0m:                                                                                \n"
     ]
    },
    {
     "name": "stderr",
     "output_type": "stream",
     "text": [
      "\u001b[34m\u001b[1mwandb\u001b[0m: \n",
      "\u001b[34m\u001b[1mwandb\u001b[0m: Run history:\n",
      "\u001b[34m\u001b[1mwandb\u001b[0m:                     elbo_train █▅▄▃▃▃▃▃▃▃▃▂▂▂▂▂▂▂▂▂▂▂▂▂▂▂▂▂▂▁▁▁▁▁▁▁▁▁▁▁\n",
      "\u001b[34m\u001b[1mwandb\u001b[0m:                elbo_validation ██▇▅▅▄▄▃▃▃▂▂▂▂▂▂▂▂▂▁▁▁▁▁▁▁▁▁▁▁▁▁▁▁▁▁▁▁▁▁\n",
      "\u001b[34m\u001b[1mwandb\u001b[0m:                          epoch ▁▁▁▂▂▂▂▂▂▃▃▃▃▃▃▄▄▄▄▄▅▅▅▅▅▆▆▆▆▆▆▇▇▇▇▇▇███\n",
      "\u001b[34m\u001b[1mwandb\u001b[0m:                kl_global_train ▁▁▁▁▁▁▁▁▁▁▁▁▁▁▁▁▁▁▁▁▁▁▁▁▁▁▁▁▁▁▁▁▁▁▁▁▁▁▁▁\n",
      "\u001b[34m\u001b[1mwandb\u001b[0m:           kl_global_validation ▁▁▁▁▁▁▁▁▁▁▁▁▁▁▁▁▁▁▁▁▁▁▁▁▁▁▁▁▁▁▁▁▁▁▁▁▁▁▁▁\n",
      "\u001b[34m\u001b[1mwandb\u001b[0m:                 kl_local_train ▁▃▄▆▇▇▇██████████████████████▇▇▇▇▇▇▇▇▇▇▇\n",
      "\u001b[34m\u001b[1mwandb\u001b[0m:            kl_local_validation ▁▁▁▁▂▂▂▃▃▄▄▅▅▆▆▇▇▇▇█████████████████████\n",
      "\u001b[34m\u001b[1mwandb\u001b[0m:                      kl_weight ▁▁▁▂▂▂▂▂▂▃▃▃▃▃▄▄▄▄▄▄▅▅▅▅▅▅▆▆▆▆▆▇▇▇▇▇▇███\n",
      "\u001b[34m\u001b[1mwandb\u001b[0m:      reconstruction_loss_train █▅▄▃▃▃▃▃▃▂▂▂▂▂▂▂▂▂▂▂▂▂▂▂▂▂▂▂▁▁▁▁▁▁▁▁▁▁▁▁\n",
      "\u001b[34m\u001b[1mwandb\u001b[0m: reconstruction_loss_validation ██▇▅▅▄▄▃▃▃▃▂▂▂▂▂▂▂▂▁▁▁▁▁▁▁▁▁▁▁▁▁▁▁▁▁▁▁▁▁\n",
      "\u001b[34m\u001b[1mwandb\u001b[0m:               train_loss_epoch █▅▄▃▃▃▃▃▃▂▂▂▂▂▂▂▂▂▂▂▂▂▂▂▂▂▂▂▁▁▁▁▁▁▁▁▁▁▁▁\n",
      "\u001b[34m\u001b[1mwandb\u001b[0m:                train_loss_step █▇▄▄▅▄▃▃▃▃▃▃▃▃▃▃▄▂▂▃▃▂▄▂▃▂▂▂▂▁▃▁▂▂▂▁▃▁▁▁\n",
      "\u001b[34m\u001b[1mwandb\u001b[0m:            trainer/global_step ▁▁▁▁▂▂▂▂▂▃▃▃▃▃▃▄▄▄▄▄▅▅▅▅▅▅▆▆▆▆▆▇▇▇▇▇▇███\n",
      "\u001b[34m\u001b[1mwandb\u001b[0m:                validation_loss ██▇▅▅▄▄▃▃▃▃▂▂▂▂▂▂▂▂▁▁▁▁▁▁▁▁▁▁▁▁▁▁▁▁▁▁▁▁▁\n",
      "\u001b[34m\u001b[1mwandb\u001b[0m: \n",
      "\u001b[34m\u001b[1mwandb\u001b[0m: Run summary:\n",
      "\u001b[34m\u001b[1mwandb\u001b[0m:                     elbo_train 767.47266\n",
      "\u001b[34m\u001b[1mwandb\u001b[0m:                elbo_validation 912.1355\n",
      "\u001b[34m\u001b[1mwandb\u001b[0m:                          epoch 52\n",
      "\u001b[34m\u001b[1mwandb\u001b[0m:                kl_global_train 0.0\n",
      "\u001b[34m\u001b[1mwandb\u001b[0m:           kl_global_validation 0.0\n",
      "\u001b[34m\u001b[1mwandb\u001b[0m:                 kl_local_train 26.55783\n",
      "\u001b[34m\u001b[1mwandb\u001b[0m:            kl_local_validation 22.54281\n",
      "\u001b[34m\u001b[1mwandb\u001b[0m:                      kl_weight 0.13\n",
      "\u001b[34m\u001b[1mwandb\u001b[0m:      reconstruction_loss_train 740.91479\n",
      "\u001b[34m\u001b[1mwandb\u001b[0m: reconstruction_loss_validation 889.59271\n",
      "\u001b[34m\u001b[1mwandb\u001b[0m:               train_loss_epoch 744.36737\n",
      "\u001b[34m\u001b[1mwandb\u001b[0m:                train_loss_step 730.85724\n",
      "\u001b[34m\u001b[1mwandb\u001b[0m:            trainer/global_step 741\n",
      "\u001b[34m\u001b[1mwandb\u001b[0m:                validation_loss 892.52325\n",
      "\u001b[34m\u001b[1mwandb\u001b[0m: \n"
     ]
    },
    {
     "name": "stderr",
     "output_type": "stream",
     "text": [
      "\u001b[34m\u001b[1mwandb\u001b[0m: 🚀 View run \u001b[33mStep1_RBC_and_HSC\u001b[0m at: \u001b[34m\u001b[4mhttps://wandb.ai/inflammation/inflammation_atlas_R1/runs/106uou3r/workspace\u001b[0m\n",
      "\u001b[34m\u001b[1mwandb\u001b[0m: Synced 6 W&B file(s), 0 media file(s), 0 artifact file(s) and 0 other file(s)\n"
     ]
    },
    {
     "name": "stderr",
     "output_type": "stream",
     "text": [
      "\u001b[34m\u001b[1mwandb\u001b[0m: Find logs at: \u001b[35m\u001b[1m./wandb/run-20241017_143823-106uou3r/logs\u001b[0m\n"
     ]
    }
   ],
   "source": [
    "wandb.finish()"
   ]
  },
  {
   "cell_type": "markdown",
   "id": "d9fb1179-83c7-4ac6-b4aa-92dc7a349801",
   "metadata": {
    "papermill": {
     "duration": 0.027836,
     "end_time": "2024-10-17T14:38:45.334040",
     "exception": false,
     "start_time": "2024-10-17T14:38:45.306204",
     "status": "completed"
    },
    "tags": []
   },
   "source": [
    "### Extracting embedding space"
   ]
  },
  {
   "cell_type": "code",
   "execution_count": 16,
   "id": "caaa5832-0123-4c59-8ec6-f46a75f7a14e",
   "metadata": {
    "execution": {
     "iopub.execute_input": "2024-10-17T14:38:45.359818Z",
     "iopub.status.busy": "2024-10-17T14:38:45.359598Z",
     "iopub.status.idle": "2024-10-17T14:38:45.447246Z",
     "shell.execute_reply": "2024-10-17T14:38:45.445989Z"
    },
    "papermill": {
     "duration": 0.103732,
     "end_time": "2024-10-17T14:38:45.450431",
     "exception": false,
     "start_time": "2024-10-17T14:38:45.346699",
     "status": "completed"
    },
    "tags": []
   },
   "outputs": [],
   "source": [
    "adata.obsm['X_scVI'] = model.get_latent_representation()"
   ]
  },
  {
   "cell_type": "markdown",
   "id": "2f03e70b-839c-40a6-9fbb-d76bbd787419",
   "metadata": {
    "papermill": {
     "duration": 0.014527,
     "end_time": "2024-10-17T14:38:45.491916",
     "exception": false,
     "start_time": "2024-10-17T14:38:45.477389",
     "status": "completed"
    },
    "tags": []
   },
   "source": [
    "## Save the results"
   ]
  },
  {
   "cell_type": "code",
   "execution_count": 17,
   "id": "7b04049b-47fd-4b62-a1c0-c43dcc086d34",
   "metadata": {
    "execution": {
     "iopub.execute_input": "2024-10-17T14:38:45.523124Z",
     "iopub.status.busy": "2024-10-17T14:38:45.522631Z",
     "iopub.status.idle": "2024-10-17T14:38:45.909740Z",
     "shell.execute_reply": "2024-10-17T14:38:45.908320Z"
    },
    "papermill": {
     "duration": 0.40535,
     "end_time": "2024-10-17T14:38:45.913384",
     "exception": false,
     "start_time": "2024-10-17T14:38:45.508034",
     "status": "completed"
    },
    "tags": []
   },
   "outputs": [],
   "source": [
    "if overwriteData:\n",
    "    adata.write(here(f\"{workDir}/{cellGroup}/results/02_{annotationLevel}_{cellGroup}_HVGsubset_scVI.h5ad\"), compression=\"gzip\")\n",
    "    model.save(here(f\"{workDir}/{cellGroup}/results/02_{annotationLevel}_{cellGroup}_HVGsubset_scVI_MODEL/\"),\n",
    "               overwrite = True, \n",
    "               save_anndata = False )   "
   ]
  },
  {
   "cell_type": "code",
   "execution_count": 18,
   "id": "629ba2bd-f6be-44ef-8fca-bbdf891bf25f",
   "metadata": {
    "execution": {
     "iopub.execute_input": "2024-10-17T14:38:45.958969Z",
     "iopub.status.busy": "2024-10-17T14:38:45.958723Z",
     "iopub.status.idle": "2024-10-17T14:38:45.963342Z",
     "shell.execute_reply": "2024-10-17T14:38:45.962052Z"
    },
    "papermill": {
     "duration": 0.02324,
     "end_time": "2024-10-17T14:38:45.966143",
     "exception": false,
     "start_time": "2024-10-17T14:38:45.942903",
     "status": "completed"
    },
    "tags": []
   },
   "outputs": [],
   "source": [
    "# To load the model do (after loading corresponding adata):\n",
    "# model = scvi.model.SCVI.load(here('{}/results/01_{}_HVGsubset_scVI_MODEL/'.format(workDir, cellGroup)), \n",
    "#                              adata, \n",
    "#                              use_gpu=True)"
   ]
  },
  {
   "cell_type": "raw",
   "id": "975e84d0-f56b-498d-b3a8-c9219cf22e53",
   "metadata": {
    "papermill": {
     "duration": 0.019109,
     "end_time": "2024-10-17T14:38:46.012660",
     "exception": false,
     "start_time": "2024-10-17T14:38:45.993551",
     "status": "completed"
    },
    "tags": []
   },
   "source": [
    "session_info.show()"
   ]
  }
 ],
 "metadata": {
  "kernelspec": {
   "display_name": "Python 3 (ipykernel)",
   "language": "python",
   "name": "python3"
  },
  "language_info": {
   "codemirror_mode": {
    "name": "ipython",
    "version": 3
   },
   "file_extension": ".py",
   "mimetype": "text/x-python",
   "name": "python",
   "nbconvert_exporter": "python",
   "pygments_lexer": "ipython3",
   "version": "3.9.19"
  },
  "papermill": {
   "default_parameters": {},
   "duration": 32.761217,
   "end_time": "2024-10-17T14:38:47.951978",
   "environment_variables": {},
   "exception": null,
   "input_path": "./RBC_and_HSC/02_integration_scVI_scANVI.ipynb",
   "output_path": "./RBC_and_HSC/02_integration_scVI_scANVI.executed.ipynb",
   "parameters": {},
   "start_time": "2024-10-17T14:38:15.190761",
   "version": "2.5.0"
  }
 },
 "nbformat": 4,
 "nbformat_minor": 5
}