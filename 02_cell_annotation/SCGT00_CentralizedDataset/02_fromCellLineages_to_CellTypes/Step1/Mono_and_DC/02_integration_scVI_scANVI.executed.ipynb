{
 "cells": [
  {
   "cell_type": "code",
   "execution_count": 1,
   "id": "2dd1425a-0c07-465e-b522-9e3cc5cb93a7",
   "metadata": {
    "execution": {
     "iopub.execute_input": "2024-10-17T14:04:44.468603Z",
     "iopub.status.busy": "2024-10-17T14:04:44.467543Z",
     "iopub.status.idle": "2024-10-17T14:04:48.085556Z",
     "shell.execute_reply": "2024-10-17T14:04:48.084972Z"
    },
    "papermill": {
     "duration": 3.637597,
     "end_time": "2024-10-17T14:04:48.089118",
     "exception": false,
     "start_time": "2024-10-17T14:04:44.451521",
     "status": "completed"
    },
    "tags": []
   },
   "outputs": [
    {
     "name": "stderr",
     "output_type": "stream",
     "text": [
      "/home/dmaspero/miniconda3/envs/scarches/lib/python3.9/site-packages/tqdm/auto.py:21: TqdmWarning: IProgress not found. Please update jupyter and ipywidgets. See https://ipywidgets.readthedocs.io/en/stable/user_install.html\n",
      "  from .autonotebook import tqdm as notebook_tqdm\n"
     ]
    },
    {
     "data": {
      "text/plain": [
       "True"
      ]
     },
     "execution_count": 1,
     "metadata": {},
     "output_type": "execute_result"
    }
   ],
   "source": [
    "import os\n",
    "import sys\n",
    "\n",
    "import numpy as np\n",
    "import matplotlib.pyplot as plt\n",
    "\n",
    "import scanpy as sc\n",
    "import scvi\n",
    "import torch\n",
    "\n",
    "from pytorch_lightning.loggers import WandbLogger\n",
    "import wandb\n",
    "from dotenv import load_dotenv\n",
    "\n",
    "import session_info\n",
    "import warnings\n",
    "from pyprojroot.here import here\n",
    "\n",
    "warnings.filterwarnings(\"ignore\")\n",
    "sys.path.insert(1, str(here('bin')))\n",
    "\n",
    "torch.set_float32_matmul_precision('high')\n",
    "\n",
    "#plt.style.use(['science','nature','no-latex'])\n",
    "dpi_fig_save = 300\n",
    "sc.set_figure_params(dpi=100, dpi_save=dpi_fig_save, vector_friendly=True)\n",
    "\n",
    "load_dotenv(here('.env'))"
   ]
  },
  {
   "cell_type": "code",
   "execution_count": 2,
   "id": "09c897fc-744b-43de-a681-718fb5d327fa",
   "metadata": {
    "execution": {
     "iopub.execute_input": "2024-10-17T14:04:48.145920Z",
     "iopub.status.busy": "2024-10-17T14:04:48.145064Z",
     "iopub.status.idle": "2024-10-17T14:04:48.151920Z",
     "shell.execute_reply": "2024-10-17T14:04:48.150859Z"
    },
    "papermill": {
     "duration": 0.046176,
     "end_time": "2024-10-17T14:04:48.155042",
     "exception": false,
     "start_time": "2024-10-17T14:04:48.108866",
     "status": "completed"
    },
    "tags": []
   },
   "outputs": [],
   "source": [
    "class CustomWandbLogger(WandbLogger):\n",
    "    @property\n",
    "    def save_dir(self):\n",
    "        return self.experiment.dir"
   ]
  },
  {
   "cell_type": "code",
   "execution_count": 3,
   "id": "8ee6662f-5d45-4137-80a5-bb0b9ae8d71f",
   "metadata": {
    "execution": {
     "iopub.execute_input": "2024-10-17T14:04:48.287927Z",
     "iopub.status.busy": "2024-10-17T14:04:48.286945Z",
     "iopub.status.idle": "2024-10-17T14:04:48.298608Z",
     "shell.execute_reply": "2024-10-17T14:04:48.297311Z"
    },
    "papermill": {
     "duration": 0.095499,
     "end_time": "2024-10-17T14:04:48.301831",
     "exception": false,
     "start_time": "2024-10-17T14:04:48.206332",
     "status": "completed"
    },
    "tags": []
   },
   "outputs": [
    {
     "name": "stderr",
     "output_type": "stream",
     "text": [
      "Seed set to 0\n"
     ]
    },
    {
     "name": "stdout",
     "output_type": "stream",
     "text": [
      "Last run with scvi-tools version: 1.1.2\n"
     ]
    }
   ],
   "source": [
    "scvi.settings.seed = 0\n",
    "print(\"Last run with scvi-tools version:\", scvi.__version__)"
   ]
  },
  {
   "cell_type": "markdown",
   "id": "a81037ff-5998-482a-ba86-520f757311a9",
   "metadata": {
    "papermill": {
     "duration": 0.010596,
     "end_time": "2024-10-17T14:04:48.326585",
     "exception": false,
     "start_time": "2024-10-17T14:04:48.315989",
     "status": "completed"
    },
    "tags": []
   },
   "source": [
    "**Setting parameters** "
   ]
  },
  {
   "cell_type": "code",
   "execution_count": 4,
   "id": "56c27966-8f10-4c93-8b1a-1fa75f005e41",
   "metadata": {
    "execution": {
     "iopub.execute_input": "2024-10-17T14:04:48.351594Z",
     "iopub.status.busy": "2024-10-17T14:04:48.350241Z",
     "iopub.status.idle": "2024-10-17T14:04:48.356773Z",
     "shell.execute_reply": "2024-10-17T14:04:48.355324Z"
    },
    "papermill": {
     "duration": 0.023309,
     "end_time": "2024-10-17T14:04:48.360155",
     "exception": false,
     "start_time": "2024-10-17T14:04:48.336846",
     "status": "completed"
    },
    "tags": []
   },
   "outputs": [],
   "source": [
    "overwriteFigures = True\n",
    "overwriteData = True"
   ]
  },
  {
   "cell_type": "code",
   "execution_count": 5,
   "id": "c86fccd3-a4fe-415b-8f4e-e2ceb3ec128a",
   "metadata": {
    "execution": {
     "iopub.execute_input": "2024-10-17T14:04:48.390727Z",
     "iopub.status.busy": "2024-10-17T14:04:48.389440Z",
     "iopub.status.idle": "2024-10-17T14:04:48.395703Z",
     "shell.execute_reply": "2024-10-17T14:04:48.394290Z"
    },
    "papermill": {
     "duration": 0.024587,
     "end_time": "2024-10-17T14:04:48.398937",
     "exception": false,
     "start_time": "2024-10-17T14:04:48.374350",
     "status": "completed"
    },
    "tags": []
   },
   "outputs": [],
   "source": [
    "cellGroup = 'Mono_and_DC'\n",
    "workDir = os.getcwd()"
   ]
  },
  {
   "cell_type": "code",
   "execution_count": 6,
   "id": "2dee4d55-d168-467b-b867-a61fed9d6af1",
   "metadata": {
    "execution": {
     "iopub.execute_input": "2024-10-17T14:04:48.425135Z",
     "iopub.status.busy": "2024-10-17T14:04:48.424639Z",
     "iopub.status.idle": "2024-10-17T14:04:48.430945Z",
     "shell.execute_reply": "2024-10-17T14:04:48.429773Z"
    },
    "papermill": {
     "duration": 0.022863,
     "end_time": "2024-10-17T14:04:48.433990",
     "exception": false,
     "start_time": "2024-10-17T14:04:48.411127",
     "status": "completed"
    },
    "tags": []
   },
   "outputs": [],
   "source": [
    "annotationLevel = os.path.basename(os.path.normpath(workDir))"
   ]
  },
  {
   "cell_type": "code",
   "execution_count": 7,
   "id": "11e53cd5-b746-4152-89cb-c2f0c15d90b3",
   "metadata": {
    "execution": {
     "iopub.execute_input": "2024-10-17T14:04:48.460735Z",
     "iopub.status.busy": "2024-10-17T14:04:48.459521Z",
     "iopub.status.idle": "2024-10-17T14:04:48.468009Z",
     "shell.execute_reply": "2024-10-17T14:04:48.466868Z"
    },
    "papermill": {
     "duration": 0.023632,
     "end_time": "2024-10-17T14:04:48.471219",
     "exception": false,
     "start_time": "2024-10-17T14:04:48.447587",
     "status": "completed"
    },
    "tags": []
   },
   "outputs": [
    {
     "data": {
      "text/plain": [
       "'/scratch_isilon/groups/singlecell/shared/projects/Inflammation-PBMCs-Atlas/02_cell_annotation/SCGT00_CentralizedDataset/02_fromCellLineages_to_CellTypes/Step1'"
      ]
     },
     "execution_count": 7,
     "metadata": {},
     "output_type": "execute_result"
    }
   ],
   "source": [
    "workDir"
   ]
  },
  {
   "cell_type": "markdown",
   "id": "171d2f06-9a44-4fcb-b437-35dc546674b6",
   "metadata": {
    "papermill": {
     "duration": 0.011889,
     "end_time": "2024-10-17T14:04:48.495315",
     "exception": false,
     "start_time": "2024-10-17T14:04:48.483426",
     "status": "completed"
    },
    "tags": []
   },
   "source": [
    "**Load data**"
   ]
  },
  {
   "cell_type": "code",
   "execution_count": 8,
   "id": "429f34fe-dde6-4cc9-9f75-7de8f85c5ffe",
   "metadata": {
    "execution": {
     "iopub.execute_input": "2024-10-17T14:04:48.524287Z",
     "iopub.status.busy": "2024-10-17T14:04:48.523413Z",
     "iopub.status.idle": "2024-10-17T14:06:12.357172Z",
     "shell.execute_reply": "2024-10-17T14:06:12.355867Z"
    },
    "papermill": {
     "duration": 83.860978,
     "end_time": "2024-10-17T14:06:12.368878",
     "exception": false,
     "start_time": "2024-10-17T14:04:48.507900",
     "status": "completed"
    },
    "tags": []
   },
   "outputs": [
    {
     "data": {
      "text/plain": [
       "AnnData object with n_obs × n_vars = 191338 × 3707\n",
       "    obs: 'studyID', 'libraryID', 'sampleID', 'chemistry', 'technology', 'patientID', 'disease', 'timepoint_replicate', 'treatmentStatus', 'therapyResponse', 'sex', 'age', 'BMI', 'binned_age', 'diseaseStatus', 'smokingStatus', 'ethnicity', 'institute', 'diseaseGroup', 'batches', 'n_genes_by_counts', 'log1p_n_genes_by_counts', 'total_counts', 'log1p_total_counts', 'pct_counts_in_top_20_genes', 'total_counts_mt', 'log1p_total_counts_mt', 'pct_counts_mt', 'total_counts_ribo', 'log1p_total_counts_ribo', 'pct_counts_ribo', 'total_counts_hb', 'log1p_total_counts_hb', 'pct_counts_hb', 'total_counts_plt', 'log1p_total_counts_plt', 'pct_counts_plt', 'S_score', 'G2M_score', 'phase'\n",
       "    var: 'hgnc_id', 'symbol', 'locus_group', 'HUGO_status', 'mt', 'ribo', 'hb', 'plt', 'n_cells_by_counts', 'mean_counts', 'log1p_mean_counts', 'pct_dropout_by_counts', 'total_counts', 'log1p_total_counts', 'highly_variable', 'means', 'dispersions', 'dispersions_norm', 'highly_variable_nbatches', 'highly_variable_intersection'\n",
       "    uns: 'disease_colors', 'hvg', 'log1p'\n",
       "    layers: 'counts', 'log1p_10e4_counts'"
      ]
     },
     "execution_count": 8,
     "metadata": {},
     "output_type": "execute_result"
    }
   ],
   "source": [
    "adata = sc.read_h5ad(here(f\"{workDir}/{cellGroup}/results/01_{cellGroup}_normalized_HVGsubset.h5ad\"))\n",
    "adata"
   ]
  },
  {
   "cell_type": "markdown",
   "id": "8ac79f3b-d5af-41fa-8904-1e9ac1cbe2fb",
   "metadata": {
    "papermill": {
     "duration": 0.075206,
     "end_time": "2024-10-17T14:06:12.458464",
     "exception": false,
     "start_time": "2024-10-17T14:06:12.383258",
     "status": "completed"
    },
    "tags": []
   },
   "source": [
    "## scVI integration"
   ]
  },
  {
   "cell_type": "markdown",
   "id": "9544847d-d17f-4811-b14b-760446d54d32",
   "metadata": {
    "execution": {
     "iopub.execute_input": "2024-03-25T16:49:04.004504Z",
     "iopub.status.busy": "2024-03-25T16:49:04.004143Z",
     "iopub.status.idle": "2024-03-25T16:49:04.010148Z",
     "shell.execute_reply": "2024-03-25T16:49:04.009146Z",
     "shell.execute_reply.started": "2024-03-25T16:49:04.004477Z"
    },
    "papermill": {
     "duration": 0.092908,
     "end_time": "2024-10-17T14:06:12.639935",
     "exception": false,
     "start_time": "2024-10-17T14:06:12.547027",
     "status": "completed"
    },
    "tags": []
   },
   "source": [
    "**scVI parameters**"
   ]
  },
  {
   "cell_type": "code",
   "execution_count": 9,
   "id": "208966eb-545a-4c02-854c-0ed0487ef5b3",
   "metadata": {
    "execution": {
     "iopub.execute_input": "2024-10-17T14:06:12.846065Z",
     "iopub.status.busy": "2024-10-17T14:06:12.845500Z",
     "iopub.status.idle": "2024-10-17T14:06:12.856560Z",
     "shell.execute_reply": "2024-10-17T14:06:12.855326Z"
    },
    "papermill": {
     "duration": 0.129122,
     "end_time": "2024-10-17T14:06:12.859905",
     "exception": false,
     "start_time": "2024-10-17T14:06:12.730783",
     "status": "completed"
    },
    "tags": []
   },
   "outputs": [],
   "source": [
    "# https://docs.scvi-tools.org/en/stable/api/reference/scvi.train.Trainer.html#scvi.train.Trainer\n",
    "setup_kwargs = dict(\n",
    "    layer=\"counts\", \n",
    "    batch_key='libraryID', \n",
    "    categorical_covariate_keys = ['disease', 'sampleID'],\n",
    ")\n",
    "\n",
    "scvi_kwargs = dict(n_hidden=512,\n",
    "                   n_latent=10, # reduced to 20 after step 00 (main) and to 10 after step 03\n",
    "                   n_layers=2,\n",
    "                   gene_likelihood='nb')\n",
    "\n",
    "trainer_kwargs = dict(\n",
    "    checkpointing_monitor = 'elbo_validation',\n",
    "    early_stopping_monitor = 'reconstruction_loss_validation',\n",
    "    early_stopping_patience = 10,\n",
    "    early_stopping_min_delta=0.1,\n",
    "    early_stopping = True,\n",
    "    max_epochs = 1000,\n",
    "\n",
    "    #logger = # wandb\n",
    ")\n",
    "# https://docs.scvi-tools.org/en/stable/api/reference/scvi.train.TrainingPlan.html#scvi.train.TrainingPlan\n",
    "plan_kwargs = dict(\n",
    "    lr = 5e-4,\n",
    "    #reduce_lr_on_plateau = True\n",
    ")\n",
    "\n",
    "# https://docs.scvi-tools.org/en/stable/api/reference/scvi.module.VAE.html#scvi.module.VAE\n",
    "#vae = dict(\n",
    "#    use_layer_norm='both',\n",
    "#    use_batch_norm='none',\n",
    "#    encode_covariates=True,\n",
    "#    deeply_inject_covariates=False\n",
    "#)\n",
    "parameter_dict = setup_kwargs | scvi_kwargs | trainer_kwargs | plan_kwargs"
   ]
  },
  {
   "cell_type": "markdown",
   "id": "1362366a-c16b-4c11-964b-b9c5f82f7b29",
   "metadata": {
    "papermill": {
     "duration": 0.393994,
     "end_time": "2024-10-17T14:06:13.299358",
     "exception": false,
     "start_time": "2024-10-17T14:06:12.905364",
     "status": "completed"
    },
    "tags": []
   },
   "source": [
    "**wandb parameter**"
   ]
  },
  {
   "cell_type": "code",
   "execution_count": 10,
   "id": "0496e33a-8ca5-423f-b42f-34a59760708c",
   "metadata": {
    "execution": {
     "iopub.execute_input": "2024-10-17T14:06:13.396737Z",
     "iopub.status.busy": "2024-10-17T14:06:13.396218Z",
     "iopub.status.idle": "2024-10-17T14:06:13.404423Z",
     "shell.execute_reply": "2024-10-17T14:06:13.403318Z"
    },
    "papermill": {
     "duration": 0.049829,
     "end_time": "2024-10-17T14:06:13.407820",
     "exception": false,
     "start_time": "2024-10-17T14:06:13.357991",
     "status": "completed"
    },
    "tags": []
   },
   "outputs": [
    {
     "data": {
      "text/plain": [
       "'Step1_Mono_and_DC'"
      ]
     },
     "execution_count": 10,
     "metadata": {},
     "output_type": "execute_result"
    }
   ],
   "source": [
    "run_name = f\"{annotationLevel}_{cellGroup}\"\n",
    "run_name"
   ]
  },
  {
   "cell_type": "code",
   "execution_count": 11,
   "id": "b0021327-95a2-4002-bf32-2c5779a99505",
   "metadata": {
    "execution": {
     "iopub.execute_input": "2024-10-17T14:06:13.465440Z",
     "iopub.status.busy": "2024-10-17T14:06:13.464913Z",
     "iopub.status.idle": "2024-10-17T14:06:13.533566Z",
     "shell.execute_reply": "2024-10-17T14:06:13.532425Z"
    },
    "papermill": {
     "duration": 0.116617,
     "end_time": "2024-10-17T14:06:13.536640",
     "exception": false,
     "start_time": "2024-10-17T14:06:13.420023",
     "status": "completed"
    },
    "tags": []
   },
   "outputs": [],
   "source": [
    "logger = CustomWandbLogger(name = run_name, project='inflammation_atlas_R1', config=parameter_dict)"
   ]
  },
  {
   "cell_type": "markdown",
   "id": "c237eee1-a976-4915-9b7f-b014bf33f47d",
   "metadata": {
    "papermill": {
     "duration": 0.096441,
     "end_time": "2024-10-17T14:06:13.694400",
     "exception": false,
     "start_time": "2024-10-17T14:06:13.597959",
     "status": "completed"
    },
    "tags": []
   },
   "source": [
    "**Running integration**"
   ]
  },
  {
   "cell_type": "code",
   "execution_count": 12,
   "id": "aff97c53-1aba-462e-8a77-f1aec9cf724c",
   "metadata": {
    "execution": {
     "iopub.execute_input": "2024-10-17T14:06:13.800127Z",
     "iopub.status.busy": "2024-10-17T14:06:13.799557Z",
     "iopub.status.idle": "2024-10-17T14:06:13.927938Z",
     "shell.execute_reply": "2024-10-17T14:06:13.926941Z"
    },
    "papermill": {
     "duration": 0.193068,
     "end_time": "2024-10-17T14:06:13.931217",
     "exception": false,
     "start_time": "2024-10-17T14:06:13.738149",
     "status": "completed"
    },
    "tags": []
   },
   "outputs": [
    {
     "name": "stderr",
     "output_type": "stream",
     "text": [
      "CUDA backend failed to initialize: Unable to use CUDA because of the following issues with CUDA components:\n",
      "Outdated cuSPARSE installation found.\n",
      "Version JAX was built against: 12200\n",
      "Minimum supported: 12100\n",
      "Installed version: 12002\n",
      "The local installation version must be no lower than 12100. (Set TF_CPP_MIN_LOG_LEVEL=0 and rerun for more info.)\n"
     ]
    }
   ],
   "source": [
    "scvi.model.SCVI.setup_anndata(adata, \n",
    "                              **setup_kwargs)"
   ]
  },
  {
   "cell_type": "code",
   "execution_count": 13,
   "id": "1a56f448-cf44-47c1-81a4-a89caa930fec",
   "metadata": {
    "execution": {
     "iopub.execute_input": "2024-10-17T14:06:14.039495Z",
     "iopub.status.busy": "2024-10-17T14:06:14.038423Z",
     "iopub.status.idle": "2024-10-17T14:06:14.373026Z",
     "shell.execute_reply": "2024-10-17T14:06:14.372069Z"
    },
    "papermill": {
     "duration": 0.412594,
     "end_time": "2024-10-17T14:06:14.376349",
     "exception": false,
     "start_time": "2024-10-17T14:06:13.963755",
     "status": "completed"
    },
    "tags": []
   },
   "outputs": [],
   "source": [
    "model = scvi.model.SCVI(adata, **scvi_kwargs)"
   ]
  },
  {
   "cell_type": "code",
   "execution_count": 14,
   "id": "2735f010-4f24-4ae8-9740-a8cfeb335e9a",
   "metadata": {
    "execution": {
     "iopub.execute_input": "2024-10-17T14:06:14.513334Z",
     "iopub.status.busy": "2024-10-17T14:06:14.512767Z",
     "iopub.status.idle": "2024-10-17T14:13:35.497535Z",
     "shell.execute_reply": "2024-10-17T14:13:35.496611Z"
    },
    "papermill": {
     "duration": 441.028445,
     "end_time": "2024-10-17T14:13:35.498868",
     "exception": false,
     "start_time": "2024-10-17T14:06:14.470423",
     "status": "completed"
    },
    "tags": []
   },
   "outputs": [
    {
     "name": "stderr",
     "output_type": "stream",
     "text": [
      "GPU available: True (cuda), used: True\n"
     ]
    },
    {
     "name": "stderr",
     "output_type": "stream",
     "text": [
      "TPU available: False, using: 0 TPU cores\n"
     ]
    },
    {
     "name": "stderr",
     "output_type": "stream",
     "text": [
      "IPU available: False, using: 0 IPUs\n"
     ]
    },
    {
     "name": "stderr",
     "output_type": "stream",
     "text": [
      "HPU available: False, using: 0 HPUs\n"
     ]
    },
    {
     "name": "stderr",
     "output_type": "stream",
     "text": [
      "\u001b[34m\u001b[1mwandb\u001b[0m: Currently logged in as: \u001b[33mdav1989\u001b[0m (\u001b[33minflammation\u001b[0m). Use \u001b[1m`wandb login --relogin`\u001b[0m to force relogin\n"
     ]
    },
    {
     "name": "stderr",
     "output_type": "stream",
     "text": [
      "\u001b[34m\u001b[1mwandb\u001b[0m: wandb version 0.18.3 is available!  To upgrade, please run:\n",
      "\u001b[34m\u001b[1mwandb\u001b[0m:  $ pip install wandb --upgrade\n"
     ]
    },
    {
     "name": "stderr",
     "output_type": "stream",
     "text": [
      "\u001b[34m\u001b[1mwandb\u001b[0m: Tracking run with wandb version 0.16.5\n"
     ]
    },
    {
     "name": "stderr",
     "output_type": "stream",
     "text": [
      "\u001b[34m\u001b[1mwandb\u001b[0m: Run data is saved locally in \u001b[35m\u001b[1m./wandb/run-20241017_140616-p6ckxn3r\u001b[0m\n",
      "\u001b[34m\u001b[1mwandb\u001b[0m: Run \u001b[1m`wandb offline`\u001b[0m to turn off syncing.\n"
     ]
    },
    {
     "name": "stderr",
     "output_type": "stream",
     "text": [
      "\u001b[34m\u001b[1mwandb\u001b[0m: Syncing run \u001b[33mStep1_Mono_and_DC\u001b[0m\n"
     ]
    },
    {
     "name": "stderr",
     "output_type": "stream",
     "text": [
      "\u001b[34m\u001b[1mwandb\u001b[0m: ⭐️ View project at \u001b[34m\u001b[4mhttps://wandb.ai/inflammation/inflammation_atlas_R1\u001b[0m\n"
     ]
    },
    {
     "name": "stderr",
     "output_type": "stream",
     "text": [
      "\u001b[34m\u001b[1mwandb\u001b[0m: 🚀 View run at \u001b[34m\u001b[4mhttps://wandb.ai/inflammation/inflammation_atlas_R1/runs/p6ckxn3r/workspace\u001b[0m\n"
     ]
    },
    {
     "name": "stderr",
     "output_type": "stream",
     "text": [
      "LOCAL_RANK: 0 - CUDA_VISIBLE_DEVICES: [0]\n"
     ]
    },
    {
     "name": "stdout",
     "output_type": "stream",
     "text": [
      "\r",
      "Training:   0%|                                                                                                                     | 0/1000 [00:00<?, ?it/s]"
     ]
    },
    {
     "name": "stdout",
     "output_type": "stream",
     "text": [
      "\r",
      "Epoch 1/1000:   0%|                                                                                                                 | 0/1000 [00:00<?, ?it/s]"
     ]
    },
    {
     "name": "stdout",
     "output_type": "stream",
     "text": [
      "\r",
      "Epoch 1/1000:   0%|                                                                                                       | 1/1000 [00:12<3:26:01, 12.37s/it]"
     ]
    },
    {
     "name": "stdout",
     "output_type": "stream",
     "text": [
      "\r",
      "Epoch 1/1000:   0%|                                        | 1/1000 [00:12<3:26:01, 12.37s/it, v_num=xn3r, train_loss_step=1.36e+3, train_loss_epoch=1.44e+3]"
     ]
    },
    {
     "name": "stdout",
     "output_type": "stream",
     "text": [
      "\r",
      "Epoch 2/1000:   0%|                                        | 1/1000 [00:12<3:26:01, 12.37s/it, v_num=xn3r, train_loss_step=1.36e+3, train_loss_epoch=1.44e+3]"
     ]
    },
    {
     "name": "stdout",
     "output_type": "stream",
     "text": [
      "\r",
      "Epoch 2/1000:   0%|                                        | 2/1000 [00:24<3:23:14, 12.22s/it, v_num=xn3r, train_loss_step=1.36e+3, train_loss_epoch=1.44e+3]"
     ]
    },
    {
     "name": "stdout",
     "output_type": "stream",
     "text": [
      "\r",
      "Epoch 2/1000:   0%|                                         | 2/1000 [00:24<3:23:14, 12.22s/it, v_num=xn3r, train_loss_step=1.34e+3, train_loss_epoch=1.4e+3]"
     ]
    },
    {
     "name": "stdout",
     "output_type": "stream",
     "text": [
      "\r",
      "Epoch 3/1000:   0%|                                         | 2/1000 [00:24<3:23:14, 12.22s/it, v_num=xn3r, train_loss_step=1.34e+3, train_loss_epoch=1.4e+3]"
     ]
    },
    {
     "name": "stdout",
     "output_type": "stream",
     "text": [
      "\r",
      "Epoch 3/1000:   0%|                                         | 3/1000 [00:36<3:22:16, 12.17s/it, v_num=xn3r, train_loss_step=1.34e+3, train_loss_epoch=1.4e+3]"
     ]
    },
    {
     "name": "stdout",
     "output_type": "stream",
     "text": [
      "\r",
      "Epoch 3/1000:   0%|                                        | 3/1000 [00:36<3:22:16, 12.17s/it, v_num=xn3r, train_loss_step=1.52e+3, train_loss_epoch=1.38e+3]"
     ]
    },
    {
     "name": "stdout",
     "output_type": "stream",
     "text": [
      "\r",
      "Epoch 4/1000:   0%|                                        | 3/1000 [00:36<3:22:16, 12.17s/it, v_num=xn3r, train_loss_step=1.52e+3, train_loss_epoch=1.38e+3]"
     ]
    },
    {
     "name": "stdout",
     "output_type": "stream",
     "text": [
      "\r",
      "Epoch 4/1000:   0%|▏                                       | 4/1000 [00:48<3:21:32, 12.14s/it, v_num=xn3r, train_loss_step=1.52e+3, train_loss_epoch=1.38e+3]"
     ]
    },
    {
     "name": "stdout",
     "output_type": "stream",
     "text": [
      "\r",
      "Epoch 4/1000:   0%|▏                                       | 4/1000 [00:48<3:21:32, 12.14s/it, v_num=xn3r, train_loss_step=1.53e+3, train_loss_epoch=1.38e+3]"
     ]
    },
    {
     "name": "stdout",
     "output_type": "stream",
     "text": [
      "\r",
      "Epoch 5/1000:   0%|▏                                       | 4/1000 [00:48<3:21:32, 12.14s/it, v_num=xn3r, train_loss_step=1.53e+3, train_loss_epoch=1.38e+3]"
     ]
    },
    {
     "name": "stdout",
     "output_type": "stream",
     "text": [
      "\r",
      "Epoch 5/1000:   0%|▏                                       | 5/1000 [01:00<3:20:57, 12.12s/it, v_num=xn3r, train_loss_step=1.53e+3, train_loss_epoch=1.38e+3]"
     ]
    },
    {
     "name": "stdout",
     "output_type": "stream",
     "text": [
      "\r",
      "Epoch 5/1000:   0%|▏                                       | 5/1000 [01:00<3:20:57, 12.12s/it, v_num=xn3r, train_loss_step=1.44e+3, train_loss_epoch=1.37e+3]"
     ]
    },
    {
     "name": "stdout",
     "output_type": "stream",
     "text": [
      "\r",
      "Epoch 6/1000:   0%|▏                                       | 5/1000 [01:00<3:20:57, 12.12s/it, v_num=xn3r, train_loss_step=1.44e+3, train_loss_epoch=1.37e+3]"
     ]
    },
    {
     "name": "stdout",
     "output_type": "stream",
     "text": [
      "\r",
      "Epoch 6/1000:   1%|▏                                       | 6/1000 [01:12<3:20:35, 12.11s/it, v_num=xn3r, train_loss_step=1.44e+3, train_loss_epoch=1.37e+3]"
     ]
    },
    {
     "name": "stdout",
     "output_type": "stream",
     "text": [
      "\r",
      "Epoch 6/1000:   1%|▏                                       | 6/1000 [01:12<3:20:35, 12.11s/it, v_num=xn3r, train_loss_step=1.28e+3, train_loss_epoch=1.37e+3]"
     ]
    },
    {
     "name": "stdout",
     "output_type": "stream",
     "text": [
      "\r",
      "Epoch 7/1000:   1%|▏                                       | 6/1000 [01:12<3:20:35, 12.11s/it, v_num=xn3r, train_loss_step=1.28e+3, train_loss_epoch=1.37e+3]"
     ]
    },
    {
     "name": "stdout",
     "output_type": "stream",
     "text": [
      "\r",
      "Epoch 7/1000:   1%|▎                                       | 7/1000 [01:24<3:20:20, 12.11s/it, v_num=xn3r, train_loss_step=1.28e+3, train_loss_epoch=1.37e+3]"
     ]
    },
    {
     "name": "stdout",
     "output_type": "stream",
     "text": [
      "\r",
      "Epoch 7/1000:   1%|▎                                       | 7/1000 [01:24<3:20:20, 12.11s/it, v_num=xn3r, train_loss_step=1.35e+3, train_loss_epoch=1.37e+3]"
     ]
    },
    {
     "name": "stdout",
     "output_type": "stream",
     "text": [
      "\r",
      "Epoch 8/1000:   1%|▎                                       | 7/1000 [01:24<3:20:20, 12.11s/it, v_num=xn3r, train_loss_step=1.35e+3, train_loss_epoch=1.37e+3]"
     ]
    },
    {
     "name": "stdout",
     "output_type": "stream",
     "text": [
      "\r",
      "Epoch 8/1000:   1%|▎                                       | 8/1000 [01:37<3:19:57, 12.09s/it, v_num=xn3r, train_loss_step=1.35e+3, train_loss_epoch=1.37e+3]"
     ]
    },
    {
     "name": "stdout",
     "output_type": "stream",
     "text": [
      "\r",
      "Epoch 8/1000:   1%|▎                                       | 8/1000 [01:37<3:19:57, 12.09s/it, v_num=xn3r, train_loss_step=1.46e+3, train_loss_epoch=1.37e+3]"
     ]
    },
    {
     "name": "stdout",
     "output_type": "stream",
     "text": [
      "\r",
      "Epoch 9/1000:   1%|▎                                       | 8/1000 [01:37<3:19:57, 12.09s/it, v_num=xn3r, train_loss_step=1.46e+3, train_loss_epoch=1.37e+3]"
     ]
    },
    {
     "name": "stdout",
     "output_type": "stream",
     "text": [
      "\r",
      "Epoch 9/1000:   1%|▎                                       | 9/1000 [01:53<3:43:43, 13.55s/it, v_num=xn3r, train_loss_step=1.46e+3, train_loss_epoch=1.37e+3]"
     ]
    },
    {
     "name": "stdout",
     "output_type": "stream",
     "text": [
      "\r",
      "Epoch 9/1000:   1%|▎                                       | 9/1000 [01:53<3:43:43, 13.55s/it, v_num=xn3r, train_loss_step=1.32e+3, train_loss_epoch=1.37e+3]"
     ]
    },
    {
     "name": "stdout",
     "output_type": "stream",
     "text": [
      "\r",
      "Epoch 10/1000:   1%|▎                                      | 9/1000 [01:53<3:43:43, 13.55s/it, v_num=xn3r, train_loss_step=1.32e+3, train_loss_epoch=1.37e+3]"
     ]
    },
    {
     "name": "stdout",
     "output_type": "stream",
     "text": [
      "\r",
      "Epoch 10/1000:   1%|▍                                     | 10/1000 [02:10<4:01:48, 14.66s/it, v_num=xn3r, train_loss_step=1.32e+3, train_loss_epoch=1.37e+3]"
     ]
    },
    {
     "name": "stdout",
     "output_type": "stream",
     "text": [
      "\r",
      "Epoch 10/1000:   1%|▍                                     | 10/1000 [02:10<4:01:48, 14.66s/it, v_num=xn3r, train_loss_step=1.35e+3, train_loss_epoch=1.37e+3]"
     ]
    },
    {
     "name": "stdout",
     "output_type": "stream",
     "text": [
      "\r",
      "Epoch 11/1000:   1%|▍                                     | 10/1000 [02:10<4:01:48, 14.66s/it, v_num=xn3r, train_loss_step=1.35e+3, train_loss_epoch=1.37e+3]"
     ]
    },
    {
     "name": "stdout",
     "output_type": "stream",
     "text": [
      "\r",
      "Epoch 11/1000:   1%|▍                                     | 11/1000 [02:24<3:56:26, 14.34s/it, v_num=xn3r, train_loss_step=1.35e+3, train_loss_epoch=1.37e+3]"
     ]
    },
    {
     "name": "stdout",
     "output_type": "stream",
     "text": [
      "\r",
      "Epoch 11/1000:   1%|▍                                     | 11/1000 [02:24<3:56:26, 14.34s/it, v_num=xn3r, train_loss_step=1.34e+3, train_loss_epoch=1.37e+3]"
     ]
    },
    {
     "name": "stdout",
     "output_type": "stream",
     "text": [
      "\r",
      "Epoch 12/1000:   1%|▍                                     | 11/1000 [02:24<3:56:26, 14.34s/it, v_num=xn3r, train_loss_step=1.34e+3, train_loss_epoch=1.37e+3]"
     ]
    },
    {
     "name": "stdout",
     "output_type": "stream",
     "text": [
      "\r",
      "Epoch 12/1000:   1%|▍                                     | 12/1000 [02:39<3:59:59, 14.57s/it, v_num=xn3r, train_loss_step=1.34e+3, train_loss_epoch=1.37e+3]"
     ]
    },
    {
     "name": "stdout",
     "output_type": "stream",
     "text": [
      "\r",
      "Epoch 12/1000:   1%|▍                                      | 12/1000 [02:39<3:59:59, 14.57s/it, v_num=xn3r, train_loss_step=1.3e+3, train_loss_epoch=1.36e+3]"
     ]
    },
    {
     "name": "stdout",
     "output_type": "stream",
     "text": [
      "\r",
      "Epoch 13/1000:   1%|▍                                      | 12/1000 [02:39<3:59:59, 14.57s/it, v_num=xn3r, train_loss_step=1.3e+3, train_loss_epoch=1.36e+3]"
     ]
    },
    {
     "name": "stdout",
     "output_type": "stream",
     "text": [
      "\r",
      "Epoch 13/1000:   1%|▌                                      | 13/1000 [02:56<4:11:27, 15.29s/it, v_num=xn3r, train_loss_step=1.3e+3, train_loss_epoch=1.36e+3]"
     ]
    },
    {
     "name": "stdout",
     "output_type": "stream",
     "text": [
      "\r",
      "Epoch 13/1000:   1%|▍                                     | 13/1000 [02:56<4:11:27, 15.29s/it, v_num=xn3r, train_loss_step=1.39e+3, train_loss_epoch=1.36e+3]"
     ]
    },
    {
     "name": "stdout",
     "output_type": "stream",
     "text": [
      "\r",
      "Epoch 14/1000:   1%|▍                                     | 13/1000 [02:56<4:11:27, 15.29s/it, v_num=xn3r, train_loss_step=1.39e+3, train_loss_epoch=1.36e+3]"
     ]
    },
    {
     "name": "stdout",
     "output_type": "stream",
     "text": [
      "\r",
      "Epoch 14/1000:   1%|▌                                     | 14/1000 [03:12<4:15:27, 15.55s/it, v_num=xn3r, train_loss_step=1.39e+3, train_loss_epoch=1.36e+3]"
     ]
    },
    {
     "name": "stdout",
     "output_type": "stream",
     "text": [
      "\r",
      "Epoch 14/1000:   1%|▌                                      | 14/1000 [03:12<4:15:27, 15.55s/it, v_num=xn3r, train_loss_step=1.2e+3, train_loss_epoch=1.36e+3]"
     ]
    },
    {
     "name": "stdout",
     "output_type": "stream",
     "text": [
      "\r",
      "Epoch 15/1000:   1%|▌                                      | 14/1000 [03:12<4:15:27, 15.55s/it, v_num=xn3r, train_loss_step=1.2e+3, train_loss_epoch=1.36e+3]"
     ]
    },
    {
     "name": "stdout",
     "output_type": "stream",
     "text": [
      "\r",
      "Epoch 15/1000:   2%|▌                                      | 15/1000 [03:28<4:17:43, 15.70s/it, v_num=xn3r, train_loss_step=1.2e+3, train_loss_epoch=1.36e+3]"
     ]
    },
    {
     "name": "stdout",
     "output_type": "stream",
     "text": [
      "\r",
      "Epoch 15/1000:   2%|▌                                      | 15/1000 [03:28<4:17:43, 15.70s/it, v_num=xn3r, train_loss_step=1.4e+3, train_loss_epoch=1.36e+3]"
     ]
    },
    {
     "name": "stdout",
     "output_type": "stream",
     "text": [
      "\r",
      "Epoch 16/1000:   2%|▌                                      | 15/1000 [03:28<4:17:43, 15.70s/it, v_num=xn3r, train_loss_step=1.4e+3, train_loss_epoch=1.36e+3]"
     ]
    },
    {
     "name": "stdout",
     "output_type": "stream",
     "text": [
      "\r",
      "Epoch 16/1000:   2%|▌                                      | 16/1000 [03:40<3:59:43, 14.62s/it, v_num=xn3r, train_loss_step=1.4e+3, train_loss_epoch=1.36e+3]"
     ]
    },
    {
     "name": "stdout",
     "output_type": "stream",
     "text": [
      "\r",
      "Epoch 16/1000:   2%|▌                                     | 16/1000 [03:40<3:59:43, 14.62s/it, v_num=xn3r, train_loss_step=1.49e+3, train_loss_epoch=1.36e+3]"
     ]
    },
    {
     "name": "stdout",
     "output_type": "stream",
     "text": [
      "\r",
      "Epoch 17/1000:   2%|▌                                     | 16/1000 [03:40<3:59:43, 14.62s/it, v_num=xn3r, train_loss_step=1.49e+3, train_loss_epoch=1.36e+3]"
     ]
    },
    {
     "name": "stdout",
     "output_type": "stream",
     "text": [
      "\r",
      "Epoch 17/1000:   2%|▋                                     | 17/1000 [03:52<3:47:07, 13.86s/it, v_num=xn3r, train_loss_step=1.49e+3, train_loss_epoch=1.36e+3]"
     ]
    },
    {
     "name": "stdout",
     "output_type": "stream",
     "text": [
      "\r",
      "Epoch 17/1000:   2%|▋                                     | 17/1000 [03:52<3:47:07, 13.86s/it, v_num=xn3r, train_loss_step=1.38e+3, train_loss_epoch=1.36e+3]"
     ]
    },
    {
     "name": "stdout",
     "output_type": "stream",
     "text": [
      "\r",
      "Epoch 18/1000:   2%|▋                                     | 17/1000 [03:52<3:47:07, 13.86s/it, v_num=xn3r, train_loss_step=1.38e+3, train_loss_epoch=1.36e+3]"
     ]
    },
    {
     "name": "stdout",
     "output_type": "stream",
     "text": [
      "\r",
      "Epoch 18/1000:   2%|▋                                     | 18/1000 [04:05<3:38:29, 13.35s/it, v_num=xn3r, train_loss_step=1.38e+3, train_loss_epoch=1.36e+3]"
     ]
    },
    {
     "name": "stdout",
     "output_type": "stream",
     "text": [
      "\r",
      "Epoch 18/1000:   2%|▋                                     | 18/1000 [04:05<3:38:29, 13.35s/it, v_num=xn3r, train_loss_step=1.32e+3, train_loss_epoch=1.36e+3]"
     ]
    },
    {
     "name": "stdout",
     "output_type": "stream",
     "text": [
      "\r",
      "Epoch 19/1000:   2%|▋                                     | 18/1000 [04:05<3:38:29, 13.35s/it, v_num=xn3r, train_loss_step=1.32e+3, train_loss_epoch=1.36e+3]"
     ]
    },
    {
     "name": "stdout",
     "output_type": "stream",
     "text": [
      "\r",
      "Epoch 19/1000:   2%|▋                                     | 19/1000 [04:18<3:40:02, 13.46s/it, v_num=xn3r, train_loss_step=1.32e+3, train_loss_epoch=1.36e+3]"
     ]
    },
    {
     "name": "stdout",
     "output_type": "stream",
     "text": [
      "\r",
      "Epoch 19/1000:   2%|▋                                     | 19/1000 [04:18<3:40:02, 13.46s/it, v_num=xn3r, train_loss_step=1.33e+3, train_loss_epoch=1.36e+3]"
     ]
    },
    {
     "name": "stdout",
     "output_type": "stream",
     "text": [
      "\r",
      "Epoch 20/1000:   2%|▋                                     | 19/1000 [04:18<3:40:02, 13.46s/it, v_num=xn3r, train_loss_step=1.33e+3, train_loss_epoch=1.36e+3]"
     ]
    },
    {
     "name": "stdout",
     "output_type": "stream",
     "text": [
      "\r",
      "Epoch 20/1000:   2%|▊                                     | 20/1000 [04:30<3:33:07, 13.05s/it, v_num=xn3r, train_loss_step=1.33e+3, train_loss_epoch=1.36e+3]"
     ]
    },
    {
     "name": "stdout",
     "output_type": "stream",
     "text": [
      "\r",
      "Epoch 20/1000:   2%|▊                                     | 20/1000 [04:30<3:33:07, 13.05s/it, v_num=xn3r, train_loss_step=1.39e+3, train_loss_epoch=1.36e+3]"
     ]
    },
    {
     "name": "stdout",
     "output_type": "stream",
     "text": [
      "\r",
      "Epoch 21/1000:   2%|▊                                     | 20/1000 [04:30<3:33:07, 13.05s/it, v_num=xn3r, train_loss_step=1.39e+3, train_loss_epoch=1.36e+3]"
     ]
    },
    {
     "name": "stdout",
     "output_type": "stream",
     "text": [
      "\r",
      "Epoch 21/1000:   2%|▊                                     | 21/1000 [04:43<3:28:27, 12.78s/it, v_num=xn3r, train_loss_step=1.39e+3, train_loss_epoch=1.36e+3]"
     ]
    },
    {
     "name": "stdout",
     "output_type": "stream",
     "text": [
      "\r",
      "Epoch 21/1000:   2%|▊                                     | 21/1000 [04:43<3:28:27, 12.78s/it, v_num=xn3r, train_loss_step=1.41e+3, train_loss_epoch=1.36e+3]"
     ]
    },
    {
     "name": "stdout",
     "output_type": "stream",
     "text": [
      "\r",
      "Epoch 22/1000:   2%|▊                                     | 21/1000 [04:43<3:28:27, 12.78s/it, v_num=xn3r, train_loss_step=1.41e+3, train_loss_epoch=1.36e+3]"
     ]
    },
    {
     "name": "stdout",
     "output_type": "stream",
     "text": [
      "\r",
      "Epoch 22/1000:   2%|▊                                     | 22/1000 [04:59<3:47:24, 13.95s/it, v_num=xn3r, train_loss_step=1.41e+3, train_loss_epoch=1.36e+3]"
     ]
    },
    {
     "name": "stdout",
     "output_type": "stream",
     "text": [
      "\r",
      "Epoch 22/1000:   2%|▊                                     | 22/1000 [04:59<3:47:24, 13.95s/it, v_num=xn3r, train_loss_step=1.46e+3, train_loss_epoch=1.36e+3]"
     ]
    },
    {
     "name": "stdout",
     "output_type": "stream",
     "text": [
      "\r",
      "Epoch 23/1000:   2%|▊                                     | 22/1000 [04:59<3:47:24, 13.95s/it, v_num=xn3r, train_loss_step=1.46e+3, train_loss_epoch=1.36e+3]"
     ]
    },
    {
     "name": "stdout",
     "output_type": "stream",
     "text": [
      "\r",
      "Epoch 23/1000:   2%|▊                                     | 23/1000 [05:11<3:38:36, 13.42s/it, v_num=xn3r, train_loss_step=1.46e+3, train_loss_epoch=1.36e+3]"
     ]
    },
    {
     "name": "stdout",
     "output_type": "stream",
     "text": [
      "\r",
      "Epoch 23/1000:   2%|▊                                     | 23/1000 [05:11<3:38:36, 13.42s/it, v_num=xn3r, train_loss_step=1.29e+3, train_loss_epoch=1.36e+3]"
     ]
    },
    {
     "name": "stdout",
     "output_type": "stream",
     "text": [
      "\r",
      "Epoch 24/1000:   2%|▊                                     | 23/1000 [05:11<3:38:36, 13.42s/it, v_num=xn3r, train_loss_step=1.29e+3, train_loss_epoch=1.36e+3]"
     ]
    },
    {
     "name": "stdout",
     "output_type": "stream",
     "text": [
      "\r",
      "Epoch 24/1000:   2%|▉                                     | 24/1000 [05:24<3:31:49, 13.02s/it, v_num=xn3r, train_loss_step=1.29e+3, train_loss_epoch=1.36e+3]"
     ]
    },
    {
     "name": "stdout",
     "output_type": "stream",
     "text": [
      "\r",
      "Epoch 24/1000:   2%|▉                                     | 24/1000 [05:24<3:31:49, 13.02s/it, v_num=xn3r, train_loss_step=1.19e+3, train_loss_epoch=1.36e+3]"
     ]
    },
    {
     "name": "stdout",
     "output_type": "stream",
     "text": [
      "\r",
      "Epoch 25/1000:   2%|▉                                     | 24/1000 [05:24<3:31:49, 13.02s/it, v_num=xn3r, train_loss_step=1.19e+3, train_loss_epoch=1.36e+3]"
     ]
    },
    {
     "name": "stdout",
     "output_type": "stream",
     "text": [
      "\r",
      "Epoch 25/1000:   2%|▉                                     | 25/1000 [05:36<3:27:27, 12.77s/it, v_num=xn3r, train_loss_step=1.19e+3, train_loss_epoch=1.36e+3]"
     ]
    },
    {
     "name": "stdout",
     "output_type": "stream",
     "text": [
      "\r",
      "Epoch 25/1000:   2%|▉                                     | 25/1000 [05:36<3:27:27, 12.77s/it, v_num=xn3r, train_loss_step=1.42e+3, train_loss_epoch=1.36e+3]"
     ]
    },
    {
     "name": "stdout",
     "output_type": "stream",
     "text": [
      "\r",
      "Epoch 26/1000:   2%|▉                                     | 25/1000 [05:36<3:27:27, 12.77s/it, v_num=xn3r, train_loss_step=1.42e+3, train_loss_epoch=1.36e+3]"
     ]
    },
    {
     "name": "stdout",
     "output_type": "stream",
     "text": [
      "\r",
      "Epoch 26/1000:   3%|▉                                     | 26/1000 [05:49<3:30:32, 12.97s/it, v_num=xn3r, train_loss_step=1.42e+3, train_loss_epoch=1.36e+3]"
     ]
    },
    {
     "name": "stdout",
     "output_type": "stream",
     "text": [
      "\r",
      "Epoch 26/1000:   3%|▉                                     | 26/1000 [05:49<3:30:32, 12.97s/it, v_num=xn3r, train_loss_step=1.47e+3, train_loss_epoch=1.36e+3]"
     ]
    },
    {
     "name": "stdout",
     "output_type": "stream",
     "text": [
      "\r",
      "Epoch 27/1000:   3%|▉                                     | 26/1000 [05:49<3:30:32, 12.97s/it, v_num=xn3r, train_loss_step=1.47e+3, train_loss_epoch=1.36e+3]"
     ]
    },
    {
     "name": "stdout",
     "output_type": "stream",
     "text": [
      "\r",
      "Epoch 27/1000:   3%|█                                     | 27/1000 [06:02<3:27:25, 12.79s/it, v_num=xn3r, train_loss_step=1.47e+3, train_loss_epoch=1.36e+3]"
     ]
    },
    {
     "name": "stdout",
     "output_type": "stream",
     "text": [
      "\r",
      "Epoch 27/1000:   3%|█                                     | 27/1000 [06:02<3:27:25, 12.79s/it, v_num=xn3r, train_loss_step=1.27e+3, train_loss_epoch=1.36e+3]"
     ]
    },
    {
     "name": "stdout",
     "output_type": "stream",
     "text": [
      "\r",
      "Epoch 28/1000:   3%|█                                     | 27/1000 [06:02<3:27:25, 12.79s/it, v_num=xn3r, train_loss_step=1.27e+3, train_loss_epoch=1.36e+3]"
     ]
    },
    {
     "name": "stdout",
     "output_type": "stream",
     "text": [
      "\r",
      "Epoch 28/1000:   3%|█                                     | 28/1000 [06:19<3:50:45, 14.24s/it, v_num=xn3r, train_loss_step=1.27e+3, train_loss_epoch=1.36e+3]"
     ]
    },
    {
     "name": "stdout",
     "output_type": "stream",
     "text": [
      "\r",
      "Epoch 28/1000:   3%|█                                     | 28/1000 [06:19<3:50:45, 14.24s/it, v_num=xn3r, train_loss_step=1.33e+3, train_loss_epoch=1.36e+3]"
     ]
    },
    {
     "name": "stdout",
     "output_type": "stream",
     "text": [
      "\r",
      "Epoch 29/1000:   3%|█                                     | 28/1000 [06:19<3:50:45, 14.24s/it, v_num=xn3r, train_loss_step=1.33e+3, train_loss_epoch=1.36e+3]"
     ]
    },
    {
     "name": "stdout",
     "output_type": "stream",
     "text": [
      "\r",
      "Epoch 29/1000:   3%|█                                     | 29/1000 [06:34<3:53:03, 14.40s/it, v_num=xn3r, train_loss_step=1.33e+3, train_loss_epoch=1.36e+3]"
     ]
    },
    {
     "name": "stdout",
     "output_type": "stream",
     "text": [
      "\r",
      "Epoch 29/1000:   3%|█                                     | 29/1000 [06:34<3:53:03, 14.40s/it, v_num=xn3r, train_loss_step=1.36e+3, train_loss_epoch=1.36e+3]"
     ]
    },
    {
     "name": "stdout",
     "output_type": "stream",
     "text": [
      "\r",
      "Epoch 30/1000:   3%|█                                     | 29/1000 [06:34<3:53:03, 14.40s/it, v_num=xn3r, train_loss_step=1.36e+3, train_loss_epoch=1.36e+3]"
     ]
    },
    {
     "name": "stdout",
     "output_type": "stream",
     "text": [
      "\r",
      "Epoch 30/1000:   3%|█▏                                    | 30/1000 [06:47<3:44:18, 13.87s/it, v_num=xn3r, train_loss_step=1.36e+3, train_loss_epoch=1.36e+3]"
     ]
    },
    {
     "name": "stdout",
     "output_type": "stream",
     "text": [
      "\r",
      "Epoch 30/1000:   3%|█▏                                    | 30/1000 [06:47<3:44:18, 13.87s/it, v_num=xn3r, train_loss_step=1.37e+3, train_loss_epoch=1.36e+3]"
     ]
    },
    {
     "name": "stdout",
     "output_type": "stream",
     "text": [
      "\r",
      "Epoch 31/1000:   3%|█▏                                    | 30/1000 [06:47<3:44:18, 13.87s/it, v_num=xn3r, train_loss_step=1.37e+3, train_loss_epoch=1.36e+3]"
     ]
    },
    {
     "name": "stdout",
     "output_type": "stream",
     "text": [
      "\r",
      "Epoch 31/1000:   3%|█▏                                    | 31/1000 [06:59<3:35:52, 13.37s/it, v_num=xn3r, train_loss_step=1.37e+3, train_loss_epoch=1.36e+3]"
     ]
    },
    {
     "name": "stdout",
     "output_type": "stream",
     "text": [
      "\r",
      "Epoch 31/1000:   3%|█▏                                    | 31/1000 [06:59<3:35:52, 13.37s/it, v_num=xn3r, train_loss_step=1.37e+3, train_loss_epoch=1.36e+3]"
     ]
    },
    {
     "name": "stdout",
     "output_type": "stream",
     "text": [
      "\r",
      "Epoch 32/1000:   3%|█▏                                    | 31/1000 [06:59<3:35:52, 13.37s/it, v_num=xn3r, train_loss_step=1.37e+3, train_loss_epoch=1.36e+3]"
     ]
    },
    {
     "name": "stdout",
     "output_type": "stream",
     "text": [
      "\r",
      "Epoch 32/1000:   3%|█▏                                    | 32/1000 [07:11<3:29:23, 12.98s/it, v_num=xn3r, train_loss_step=1.37e+3, train_loss_epoch=1.36e+3]"
     ]
    },
    {
     "name": "stdout",
     "output_type": "stream",
     "text": [
      "\r",
      "Epoch 32/1000:   3%|█▏                                    | 32/1000 [07:11<3:29:23, 12.98s/it, v_num=xn3r, train_loss_step=1.51e+3, train_loss_epoch=1.36e+3]"
     ]
    },
    {
     "name": "stdout",
     "output_type": "stream",
     "text": [
      "\r",
      "Epoch 32/1000:   3%|█▏                                    | 32/1000 [07:11<3:37:28, 13.48s/it, v_num=xn3r, train_loss_step=1.51e+3, train_loss_epoch=1.36e+3]"
     ]
    },
    {
     "name": "stdout",
     "output_type": "stream",
     "text": [
      "\n",
      "Monitored metric reconstruction_loss_validation did not improve in the last 10 records. Best score: 1358.135. Signaling Trainer to stop.\n"
     ]
    }
   ],
   "source": [
    "model.train(logger=logger, plan_kwargs = plan_kwargs, **trainer_kwargs)"
   ]
  },
  {
   "cell_type": "code",
   "execution_count": 15,
   "id": "c282f6eb-0ad1-40a5-81e6-1acda1545dad",
   "metadata": {
    "execution": {
     "iopub.execute_input": "2024-10-17T14:13:35.521864Z",
     "iopub.status.busy": "2024-10-17T14:13:35.521200Z",
     "iopub.status.idle": "2024-10-17T14:13:43.950802Z",
     "shell.execute_reply": "2024-10-17T14:13:43.949298Z"
    },
    "papermill": {
     "duration": 8.444772,
     "end_time": "2024-10-17T14:13:43.954335",
     "exception": false,
     "start_time": "2024-10-17T14:13:35.509563",
     "status": "completed"
    },
    "tags": []
   },
   "outputs": [
    {
     "name": "stderr",
     "output_type": "stream",
     "text": [
      "\u001b[34m\u001b[1mwandb\u001b[0m: - 0.005 MB of 0.005 MB uploaded\r"
     ]
    },
    {
     "name": "stderr",
     "output_type": "stream",
     "text": [
      "\u001b[34m\u001b[1mwandb\u001b[0m: \\ 0.005 MB of 0.025 MB uploaded\r"
     ]
    },
    {
     "name": "stderr",
     "output_type": "stream",
     "text": [
      "\u001b[34m\u001b[1mwandb\u001b[0m: | 0.013 MB of 0.025 MB uploaded\r"
     ]
    },
    {
     "name": "stderr",
     "output_type": "stream",
     "text": [
      "\u001b[34m\u001b[1mwandb\u001b[0m: / 0.013 MB of 0.025 MB uploaded\r"
     ]
    },
    {
     "name": "stderr",
     "output_type": "stream",
     "text": [
      "\u001b[34m\u001b[1mwandb\u001b[0m: - 0.013 MB of 0.025 MB uploaded\r"
     ]
    },
    {
     "name": "stderr",
     "output_type": "stream",
     "text": [
      "\u001b[34m\u001b[1mwandb\u001b[0m: \\ 0.013 MB of 0.025 MB uploaded\r"
     ]
    },
    {
     "name": "stderr",
     "output_type": "stream",
     "text": [
      "\u001b[34m\u001b[1mwandb\u001b[0m: | 0.013 MB of 0.025 MB uploaded\r"
     ]
    },
    {
     "name": "stderr",
     "output_type": "stream",
     "text": [
      "\u001b[34m\u001b[1mwandb\u001b[0m: / 0.025 MB of 0.025 MB uploaded\r"
     ]
    },
    {
     "name": "stderr",
     "output_type": "stream",
     "text": [
      "\u001b[34m\u001b[1mwandb\u001b[0m:                                                                                \n"
     ]
    },
    {
     "name": "stderr",
     "output_type": "stream",
     "text": [
      "\u001b[34m\u001b[1mwandb\u001b[0m: \n",
      "\u001b[34m\u001b[1mwandb\u001b[0m: Run history:\n",
      "\u001b[34m\u001b[1mwandb\u001b[0m:                     elbo_train █▅▄▃▃▂▂▂▂▂▂▂▂▂▂▂▁▁▁▁▁▁▁▁▁▁▁▁▁▁▁▁\n",
      "\u001b[34m\u001b[1mwandb\u001b[0m:                elbo_validation █▅▄▃▃▂▂▂▂▂▂▂▂▂▁▁▁▁▁▁▁▁▁▁▁▁▁▁▁▁▁▁\n",
      "\u001b[34m\u001b[1mwandb\u001b[0m:                          epoch ▁▁▁▁▂▂▂▂▂▃▃▃▃▃▃▄▄▄▄▄▅▅▅▅▅▆▆▆▆▆▆▇▇▇▇▇████\n",
      "\u001b[34m\u001b[1mwandb\u001b[0m:                kl_global_train ▁▁▁▁▁▁▁▁▁▁▁▁▁▁▁▁▁▁▁▁▁▁▁▁▁▁▁▁▁▁▁▁\n",
      "\u001b[34m\u001b[1mwandb\u001b[0m:           kl_global_validation ▁▁▁▁▁▁▁▁▁▁▁▁▁▁▁▁▁▁▁▁▁▁▁▁▁▁▁▁▁▁▁▁\n",
      "\u001b[34m\u001b[1mwandb\u001b[0m:                 kl_local_train ▇█▇▆▅▄▄▄▃▃▃▃▃▃▂▂▂▂▂▂▂▂▂▂▁▁▁▁▁▁▁▁\n",
      "\u001b[34m\u001b[1mwandb\u001b[0m:            kl_local_validation █▆▆▅▄▄▃▃▃▃▃▂▂▂▂▂▂▂▂▂▂▁▁▁▁▁▁▁▁▁▁▁\n",
      "\u001b[34m\u001b[1mwandb\u001b[0m:                      kl_weight ▁▁▁▁▂▂▂▂▂▃▃▃▃▃▃▄▄▄▄▄▅▅▅▅▅▆▆▆▆▆▆▇▇▇▇▇████\n",
      "\u001b[34m\u001b[1mwandb\u001b[0m:      reconstruction_loss_train █▄▃▃▂▂▂▂▂▂▁▁▁▁▁▁▁▁▁▁▁▁▁▁▁▁▁▁▁▁▁▁\n",
      "\u001b[34m\u001b[1mwandb\u001b[0m: reconstruction_loss_validation █▅▃▂▂▂▁▁▁▁▁▁▁▁▁▁▁▁▁▁▁▁▁▁▁▁▁▁▁▁▁▁\n",
      "\u001b[34m\u001b[1mwandb\u001b[0m:               train_loss_epoch █▄▃▂▂▂▂▂▁▁▁▁▁▁▁▁▁▁▁▁▁▁▁▁▁▁▁▁▁▁▁▁\n",
      "\u001b[34m\u001b[1mwandb\u001b[0m:                train_loss_step ▅▇█▄▇▅▁▇▄▅█▂▂▄▆▂▆▆▄▃▃▅▇▃▅▃▃▅▁▅▃▂▆▅▄▄█▄▂▂\n",
      "\u001b[34m\u001b[1mwandb\u001b[0m:            trainer/global_step ▁▁▁▂▂▂▂▂▂▃▃▃▃▃▄▄▄▄▄▄▅▅▅▅▅▅▆▆▆▆▆▇▇▇▇▇▇███\n",
      "\u001b[34m\u001b[1mwandb\u001b[0m:                validation_loss █▅▃▂▂▁▁▁▁▁▁▁▁▁▁▁▁▁▁▁▁▁▁▁▁▁▁▁▁▁▁▁\n",
      "\u001b[34m\u001b[1mwandb\u001b[0m: \n",
      "\u001b[34m\u001b[1mwandb\u001b[0m: Run summary:\n",
      "\u001b[34m\u001b[1mwandb\u001b[0m:                     elbo_train 1386.77698\n",
      "\u001b[34m\u001b[1mwandb\u001b[0m:                elbo_validation 1385.61389\n",
      "\u001b[34m\u001b[1mwandb\u001b[0m:                          epoch 31\n",
      "\u001b[34m\u001b[1mwandb\u001b[0m:                kl_global_train 0.0\n",
      "\u001b[34m\u001b[1mwandb\u001b[0m:           kl_global_validation 0.0\n",
      "\u001b[34m\u001b[1mwandb\u001b[0m:                 kl_local_train 27.71554\n",
      "\u001b[34m\u001b[1mwandb\u001b[0m:            kl_local_validation 27.15477\n",
      "\u001b[34m\u001b[1mwandb\u001b[0m:                      kl_weight 0.0775\n",
      "\u001b[34m\u001b[1mwandb\u001b[0m:      reconstruction_loss_train 1359.0614\n",
      "\u001b[34m\u001b[1mwandb\u001b[0m: reconstruction_loss_validation 1358.45911\n",
      "\u001b[34m\u001b[1mwandb\u001b[0m:               train_loss_epoch 1361.21045\n",
      "\u001b[34m\u001b[1mwandb\u001b[0m:                train_loss_step 1413.29297\n",
      "\u001b[34m\u001b[1mwandb\u001b[0m:            trainer/global_step 43071\n",
      "\u001b[34m\u001b[1mwandb\u001b[0m:                validation_loss 1360.56348\n",
      "\u001b[34m\u001b[1mwandb\u001b[0m: \n"
     ]
    },
    {
     "name": "stderr",
     "output_type": "stream",
     "text": [
      "\u001b[34m\u001b[1mwandb\u001b[0m: 🚀 View run \u001b[33mStep1_Mono_and_DC\u001b[0m at: \u001b[34m\u001b[4mhttps://wandb.ai/inflammation/inflammation_atlas_R1/runs/p6ckxn3r/workspace\u001b[0m\n",
      "\u001b[34m\u001b[1mwandb\u001b[0m: Synced 6 W&B file(s), 0 media file(s), 0 artifact file(s) and 0 other file(s)\n"
     ]
    },
    {
     "name": "stderr",
     "output_type": "stream",
     "text": [
      "\u001b[34m\u001b[1mwandb\u001b[0m: Find logs at: \u001b[35m\u001b[1m./wandb/run-20241017_140616-p6ckxn3r/logs\u001b[0m\n"
     ]
    }
   ],
   "source": [
    "wandb.finish()"
   ]
  },
  {
   "cell_type": "markdown",
   "id": "d9fb1179-83c7-4ac6-b4aa-92dc7a349801",
   "metadata": {
    "papermill": {
     "duration": 0.014567,
     "end_time": "2024-10-17T14:13:44.000281",
     "exception": false,
     "start_time": "2024-10-17T14:13:43.985714",
     "status": "completed"
    },
    "tags": []
   },
   "source": [
    "### Extracting embedding space"
   ]
  },
  {
   "cell_type": "code",
   "execution_count": 16,
   "id": "caaa5832-0123-4c59-8ec6-f46a75f7a14e",
   "metadata": {
    "execution": {
     "iopub.execute_input": "2024-10-17T14:13:44.032477Z",
     "iopub.status.busy": "2024-10-17T14:13:44.031915Z",
     "iopub.status.idle": "2024-10-17T14:13:49.815888Z",
     "shell.execute_reply": "2024-10-17T14:13:49.814577Z"
    },
    "papermill": {
     "duration": 5.804361,
     "end_time": "2024-10-17T14:13:49.818112",
     "exception": false,
     "start_time": "2024-10-17T14:13:44.013751",
     "status": "completed"
    },
    "tags": []
   },
   "outputs": [],
   "source": [
    "adata.obsm['X_scVI'] = model.get_latent_representation()"
   ]
  },
  {
   "cell_type": "markdown",
   "id": "2f03e70b-839c-40a6-9fbb-d76bbd787419",
   "metadata": {
    "papermill": {
     "duration": 0.013533,
     "end_time": "2024-10-17T14:13:49.842957",
     "exception": false,
     "start_time": "2024-10-17T14:13:49.829424",
     "status": "completed"
    },
    "tags": []
   },
   "source": [
    "## Save the results"
   ]
  },
  {
   "cell_type": "code",
   "execution_count": 17,
   "id": "7b04049b-47fd-4b62-a1c0-c43dcc086d34",
   "metadata": {
    "execution": {
     "iopub.execute_input": "2024-10-17T14:13:49.908102Z",
     "iopub.status.busy": "2024-10-17T14:13:49.907569Z",
     "iopub.status.idle": "2024-10-17T14:14:20.780915Z",
     "shell.execute_reply": "2024-10-17T14:14:20.779390Z"
    },
    "papermill": {
     "duration": 30.906423,
     "end_time": "2024-10-17T14:14:20.783557",
     "exception": false,
     "start_time": "2024-10-17T14:13:49.877134",
     "status": "completed"
    },
    "tags": []
   },
   "outputs": [],
   "source": [
    "if overwriteData:\n",
    "    adata.write(here(f\"{workDir}/{cellGroup}/results/02_{annotationLevel}_{cellGroup}_HVGsubset_scVI.h5ad\"), compression=\"gzip\")\n",
    "    model.save(here(f\"{workDir}/{cellGroup}/results/02_{annotationLevel}_{cellGroup}_HVGsubset_scVI_MODEL/\"),\n",
    "               overwrite = True, \n",
    "               save_anndata = False )   "
   ]
  },
  {
   "cell_type": "code",
   "execution_count": 18,
   "id": "629ba2bd-f6be-44ef-8fca-bbdf891bf25f",
   "metadata": {
    "execution": {
     "iopub.execute_input": "2024-10-17T14:14:21.066614Z",
     "iopub.status.busy": "2024-10-17T14:14:21.066054Z",
     "iopub.status.idle": "2024-10-17T14:14:21.072301Z",
     "shell.execute_reply": "2024-10-17T14:14:21.070866Z"
    },
    "papermill": {
     "duration": 0.276714,
     "end_time": "2024-10-17T14:14:21.075706",
     "exception": false,
     "start_time": "2024-10-17T14:14:20.798992",
     "status": "completed"
    },
    "tags": []
   },
   "outputs": [],
   "source": [
    "# To load the model do (after loading corresponding adata):\n",
    "# model = scvi.model.SCVI.load(here('{}/results/01_{}_HVGsubset_scVI_MODEL/'.format(workDir, cellGroup)), \n",
    "#                              adata, \n",
    "#                              use_gpu=True)"
   ]
  },
  {
   "cell_type": "raw",
   "id": "975e84d0-f56b-498d-b3a8-c9219cf22e53",
   "metadata": {
    "papermill": {
     "duration": 0.051274,
     "end_time": "2024-10-17T14:14:21.150142",
     "exception": false,
     "start_time": "2024-10-17T14:14:21.098868",
     "status": "completed"
    },
    "tags": []
   },
   "source": [
    "session_info.show()"
   ]
  }
 ],
 "metadata": {
  "kernelspec": {
   "display_name": "Python 3 (ipykernel)",
   "language": "python",
   "name": "python3"
  },
  "language_info": {
   "codemirror_mode": {
    "name": "ipython",
    "version": 3
   },
   "file_extension": ".py",
   "mimetype": "text/x-python",
   "name": "python",
   "nbconvert_exporter": "python",
   "pygments_lexer": "ipython3",
   "version": "3.9.19"
  },
  "papermill": {
   "default_parameters": {},
   "duration": 580.414523,
   "end_time": "2024-10-17T14:14:23.883633",
   "environment_variables": {},
   "exception": null,
   "input_path": "./Mono_and_DC/02_integration_scVI_scANVI.ipynb",
   "output_path": "./Mono_and_DC/02_integration_scVI_scANVI.executed.ipynb",
   "parameters": {},
   "start_time": "2024-10-17T14:04:43.469110",
   "version": "2.5.0"
  }
 },
 "nbformat": 4,
 "nbformat_minor": 5
}