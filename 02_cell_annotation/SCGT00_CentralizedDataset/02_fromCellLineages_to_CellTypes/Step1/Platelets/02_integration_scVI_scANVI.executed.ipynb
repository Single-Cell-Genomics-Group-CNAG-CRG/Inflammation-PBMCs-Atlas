{
 "cells": [
  {
   "cell_type": "code",
   "execution_count": 1,
   "id": "2dd1425a-0c07-465e-b522-9e3cc5cb93a7",
   "metadata": {
    "execution": {
     "iopub.execute_input": "2024-10-17T14:04:09.528591Z",
     "iopub.status.busy": "2024-10-17T14:04:09.528106Z",
     "iopub.status.idle": "2024-10-17T14:04:13.281066Z",
     "shell.execute_reply": "2024-10-17T14:04:13.280052Z"
    },
    "papermill": {
     "duration": 3.771301,
     "end_time": "2024-10-17T14:04:13.283703",
     "exception": false,
     "start_time": "2024-10-17T14:04:09.512402",
     "status": "completed"
    },
    "tags": []
   },
   "outputs": [
    {
     "name": "stderr",
     "output_type": "stream",
     "text": [
      "/home/dmaspero/miniconda3/envs/scarches/lib/python3.9/site-packages/tqdm/auto.py:21: TqdmWarning: IProgress not found. Please update jupyter and ipywidgets. See https://ipywidgets.readthedocs.io/en/stable/user_install.html\n",
      "  from .autonotebook import tqdm as notebook_tqdm\n"
     ]
    },
    {
     "data": {
      "text/plain": [
       "True"
      ]
     },
     "execution_count": 1,
     "metadata": {},
     "output_type": "execute_result"
    }
   ],
   "source": [
    "import os\n",
    "import sys\n",
    "\n",
    "import numpy as np\n",
    "import matplotlib.pyplot as plt\n",
    "\n",
    "import scanpy as sc\n",
    "import scvi\n",
    "import torch\n",
    "\n",
    "from pytorch_lightning.loggers import WandbLogger\n",
    "import wandb\n",
    "from dotenv import load_dotenv\n",
    "\n",
    "import session_info\n",
    "import warnings\n",
    "from pyprojroot.here import here\n",
    "\n",
    "warnings.filterwarnings(\"ignore\")\n",
    "sys.path.insert(1, str(here('bin')))\n",
    "\n",
    "torch.set_float32_matmul_precision('high')\n",
    "\n",
    "#plt.style.use(['science','nature','no-latex'])\n",
    "dpi_fig_save = 300\n",
    "sc.set_figure_params(dpi=100, dpi_save=dpi_fig_save, vector_friendly=True)\n",
    "\n",
    "load_dotenv(here('.env'))"
   ]
  },
  {
   "cell_type": "code",
   "execution_count": 2,
   "id": "09c897fc-744b-43de-a681-718fb5d327fa",
   "metadata": {
    "execution": {
     "iopub.execute_input": "2024-10-17T14:04:13.307011Z",
     "iopub.status.busy": "2024-10-17T14:04:13.306506Z",
     "iopub.status.idle": "2024-10-17T14:04:13.310915Z",
     "shell.execute_reply": "2024-10-17T14:04:13.310208Z"
    },
    "papermill": {
     "duration": 0.019156,
     "end_time": "2024-10-17T14:04:13.313781",
     "exception": false,
     "start_time": "2024-10-17T14:04:13.294625",
     "status": "completed"
    },
    "tags": []
   },
   "outputs": [],
   "source": [
    "class CustomWandbLogger(WandbLogger):\n",
    "    @property\n",
    "    def save_dir(self):\n",
    "        return self.experiment.dir"
   ]
  },
  {
   "cell_type": "code",
   "execution_count": 3,
   "id": "8ee6662f-5d45-4137-80a5-bb0b9ae8d71f",
   "metadata": {
    "execution": {
     "iopub.execute_input": "2024-10-17T14:04:13.339624Z",
     "iopub.status.busy": "2024-10-17T14:04:13.338892Z",
     "iopub.status.idle": "2024-10-17T14:04:13.349817Z",
     "shell.execute_reply": "2024-10-17T14:04:13.348569Z"
    },
    "papermill": {
     "duration": 0.026361,
     "end_time": "2024-10-17T14:04:13.352626",
     "exception": false,
     "start_time": "2024-10-17T14:04:13.326265",
     "status": "completed"
    },
    "tags": []
   },
   "outputs": [
    {
     "name": "stderr",
     "output_type": "stream",
     "text": [
      "Seed set to 0\n"
     ]
    },
    {
     "name": "stdout",
     "output_type": "stream",
     "text": [
      "Last run with scvi-tools version: 1.1.2\n"
     ]
    }
   ],
   "source": [
    "scvi.settings.seed = 0\n",
    "print(\"Last run with scvi-tools version:\", scvi.__version__)"
   ]
  },
  {
   "cell_type": "markdown",
   "id": "a81037ff-5998-482a-ba86-520f757311a9",
   "metadata": {
    "papermill": {
     "duration": 0.021365,
     "end_time": "2024-10-17T14:04:13.386266",
     "exception": false,
     "start_time": "2024-10-17T14:04:13.364901",
     "status": "completed"
    },
    "tags": []
   },
   "source": [
    "**Setting parameters** "
   ]
  },
  {
   "cell_type": "code",
   "execution_count": 4,
   "id": "56c27966-8f10-4c93-8b1a-1fa75f005e41",
   "metadata": {
    "execution": {
     "iopub.execute_input": "2024-10-17T14:04:13.463111Z",
     "iopub.status.busy": "2024-10-17T14:04:13.462641Z",
     "iopub.status.idle": "2024-10-17T14:04:13.468369Z",
     "shell.execute_reply": "2024-10-17T14:04:13.467099Z"
    },
    "papermill": {
     "duration": 0.028318,
     "end_time": "2024-10-17T14:04:13.471577",
     "exception": false,
     "start_time": "2024-10-17T14:04:13.443259",
     "status": "completed"
    },
    "tags": []
   },
   "outputs": [],
   "source": [
    "overwriteFigures = True\n",
    "overwriteData = True"
   ]
  },
  {
   "cell_type": "code",
   "execution_count": 5,
   "id": "c86fccd3-a4fe-415b-8f4e-e2ceb3ec128a",
   "metadata": {
    "execution": {
     "iopub.execute_input": "2024-10-17T14:04:13.496077Z",
     "iopub.status.busy": "2024-10-17T14:04:13.495592Z",
     "iopub.status.idle": "2024-10-17T14:04:13.501572Z",
     "shell.execute_reply": "2024-10-17T14:04:13.500394Z"
    },
    "papermill": {
     "duration": 0.02162,
     "end_time": "2024-10-17T14:04:13.505023",
     "exception": false,
     "start_time": "2024-10-17T14:04:13.483403",
     "status": "completed"
    },
    "tags": []
   },
   "outputs": [],
   "source": [
    "cellGroup = 'Platelets'\n",
    "workDir = os.getcwd()"
   ]
  },
  {
   "cell_type": "code",
   "execution_count": 6,
   "id": "2dee4d55-d168-467b-b867-a61fed9d6af1",
   "metadata": {
    "execution": {
     "iopub.execute_input": "2024-10-17T14:04:13.719395Z",
     "iopub.status.busy": "2024-10-17T14:04:13.718884Z",
     "iopub.status.idle": "2024-10-17T14:04:13.725133Z",
     "shell.execute_reply": "2024-10-17T14:04:13.723967Z"
    },
    "papermill": {
     "duration": 0.209833,
     "end_time": "2024-10-17T14:04:13.728479",
     "exception": false,
     "start_time": "2024-10-17T14:04:13.518646",
     "status": "completed"
    },
    "tags": []
   },
   "outputs": [],
   "source": [
    "annotationLevel = os.path.basename(os.path.normpath(workDir))"
   ]
  },
  {
   "cell_type": "code",
   "execution_count": 7,
   "id": "11e53cd5-b746-4152-89cb-c2f0c15d90b3",
   "metadata": {
    "execution": {
     "iopub.execute_input": "2024-10-17T14:04:13.757472Z",
     "iopub.status.busy": "2024-10-17T14:04:13.756383Z",
     "iopub.status.idle": "2024-10-17T14:04:13.764733Z",
     "shell.execute_reply": "2024-10-17T14:04:13.763370Z"
    },
    "papermill": {
     "duration": 0.025707,
     "end_time": "2024-10-17T14:04:13.768081",
     "exception": false,
     "start_time": "2024-10-17T14:04:13.742374",
     "status": "completed"
    },
    "tags": []
   },
   "outputs": [
    {
     "data": {
      "text/plain": [
       "'/scratch_isilon/groups/singlecell/shared/projects/Inflammation-PBMCs-Atlas/02_cell_annotation/SCGT00_CentralizedDataset/02_fromCellLineages_to_CellTypes/Step1'"
      ]
     },
     "execution_count": 7,
     "metadata": {},
     "output_type": "execute_result"
    }
   ],
   "source": [
    "workDir"
   ]
  },
  {
   "cell_type": "markdown",
   "id": "171d2f06-9a44-4fcb-b437-35dc546674b6",
   "metadata": {
    "papermill": {
     "duration": 0.012618,
     "end_time": "2024-10-17T14:04:13.794435",
     "exception": false,
     "start_time": "2024-10-17T14:04:13.781817",
     "status": "completed"
    },
    "tags": []
   },
   "source": [
    "**Load data**"
   ]
  },
  {
   "cell_type": "code",
   "execution_count": 8,
   "id": "429f34fe-dde6-4cc9-9f75-7de8f85c5ffe",
   "metadata": {
    "execution": {
     "iopub.execute_input": "2024-10-17T14:04:13.817344Z",
     "iopub.status.busy": "2024-10-17T14:04:13.816264Z",
     "iopub.status.idle": "2024-10-17T14:04:14.097230Z",
     "shell.execute_reply": "2024-10-17T14:04:14.096540Z"
    },
    "papermill": {
     "duration": 0.295761,
     "end_time": "2024-10-17T14:04:14.100462",
     "exception": false,
     "start_time": "2024-10-17T14:04:13.804701",
     "status": "completed"
    },
    "tags": []
   },
   "outputs": [
    {
     "data": {
      "text/plain": [
       "AnnData object with n_obs × n_vars = 3236 × 137\n",
       "    obs: 'studyID', 'libraryID', 'sampleID', 'chemistry', 'technology', 'patientID', 'disease', 'timepoint_replicate', 'treatmentStatus', 'therapyResponse', 'sex', 'age', 'BMI', 'binned_age', 'diseaseStatus', 'smokingStatus', 'ethnicity', 'institute', 'diseaseGroup', 'batches', 'n_genes_by_counts', 'log1p_n_genes_by_counts', 'total_counts', 'log1p_total_counts', 'pct_counts_in_top_20_genes', 'total_counts_mt', 'log1p_total_counts_mt', 'pct_counts_mt', 'total_counts_ribo', 'log1p_total_counts_ribo', 'pct_counts_ribo', 'total_counts_hb', 'log1p_total_counts_hb', 'pct_counts_hb', 'total_counts_plt', 'log1p_total_counts_plt', 'pct_counts_plt', 'S_score', 'G2M_score', 'phase'\n",
       "    var: 'hgnc_id', 'symbol', 'locus_group', 'HUGO_status', 'mt', 'ribo', 'hb', 'plt', 'n_cells_by_counts', 'mean_counts', 'log1p_mean_counts', 'pct_dropout_by_counts', 'total_counts', 'log1p_total_counts', 'highly_variable', 'means', 'dispersions', 'dispersions_norm', 'highly_variable_nbatches', 'highly_variable_intersection'\n",
       "    uns: 'disease_colors', 'hvg', 'log1p'\n",
       "    layers: 'counts', 'log1p_10e4_counts'"
      ]
     },
     "execution_count": 8,
     "metadata": {},
     "output_type": "execute_result"
    }
   ],
   "source": [
    "adata = sc.read_h5ad(here(f\"{workDir}/{cellGroup}/results/01_{cellGroup}_normalized_HVGsubset.h5ad\"))\n",
    "adata"
   ]
  },
  {
   "cell_type": "markdown",
   "id": "8ac79f3b-d5af-41fa-8904-1e9ac1cbe2fb",
   "metadata": {
    "papermill": {
     "duration": 0.01334,
     "end_time": "2024-10-17T14:04:14.241695",
     "exception": false,
     "start_time": "2024-10-17T14:04:14.228355",
     "status": "completed"
    },
    "tags": []
   },
   "source": [
    "## scVI integration"
   ]
  },
  {
   "cell_type": "markdown",
   "id": "9544847d-d17f-4811-b14b-760446d54d32",
   "metadata": {
    "execution": {
     "iopub.execute_input": "2024-03-25T16:49:04.004504Z",
     "iopub.status.busy": "2024-03-25T16:49:04.004143Z",
     "iopub.status.idle": "2024-03-25T16:49:04.010148Z",
     "shell.execute_reply": "2024-03-25T16:49:04.009146Z",
     "shell.execute_reply.started": "2024-03-25T16:49:04.004477Z"
    },
    "papermill": {
     "duration": 0.014318,
     "end_time": "2024-10-17T14:04:14.270145",
     "exception": false,
     "start_time": "2024-10-17T14:04:14.255827",
     "status": "completed"
    },
    "tags": []
   },
   "source": [
    "**scVI parameters**"
   ]
  },
  {
   "cell_type": "code",
   "execution_count": 9,
   "id": "208966eb-545a-4c02-854c-0ed0487ef5b3",
   "metadata": {
    "execution": {
     "iopub.execute_input": "2024-10-17T14:04:14.299132Z",
     "iopub.status.busy": "2024-10-17T14:04:14.298621Z",
     "iopub.status.idle": "2024-10-17T14:04:14.309311Z",
     "shell.execute_reply": "2024-10-17T14:04:14.308121Z"
    },
    "papermill": {
     "duration": 0.028184,
     "end_time": "2024-10-17T14:04:14.312825",
     "exception": false,
     "start_time": "2024-10-17T14:04:14.284641",
     "status": "completed"
    },
    "tags": []
   },
   "outputs": [],
   "source": [
    "# https://docs.scvi-tools.org/en/stable/api/reference/scvi.train.Trainer.html#scvi.train.Trainer\n",
    "setup_kwargs = dict(\n",
    "    layer=\"counts\", \n",
    "    batch_key='libraryID', \n",
    "    categorical_covariate_keys = ['disease', 'sampleID'],\n",
    ")\n",
    "\n",
    "scvi_kwargs = dict(n_hidden=512,\n",
    "                   n_latent=10, # reduced to 20 after step 00 (main) and to 10 after step 03\n",
    "                   n_layers=2,\n",
    "                   gene_likelihood='nb')\n",
    "\n",
    "trainer_kwargs = dict(\n",
    "    checkpointing_monitor = 'elbo_validation',\n",
    "    early_stopping_monitor = 'reconstruction_loss_validation',\n",
    "    early_stopping_patience = 10,\n",
    "    early_stopping_min_delta=0.1,\n",
    "    early_stopping = True,\n",
    "    max_epochs = 1000,\n",
    "\n",
    "    #logger = # wandb\n",
    ")\n",
    "# https://docs.scvi-tools.org/en/stable/api/reference/scvi.train.TrainingPlan.html#scvi.train.TrainingPlan\n",
    "plan_kwargs = dict(\n",
    "    lr = 5e-4,\n",
    "    #reduce_lr_on_plateau = True\n",
    ")\n",
    "\n",
    "# https://docs.scvi-tools.org/en/stable/api/reference/scvi.module.VAE.html#scvi.module.VAE\n",
    "#vae = dict(\n",
    "#    use_layer_norm='both',\n",
    "#    use_batch_norm='none',\n",
    "#    encode_covariates=True,\n",
    "#    deeply_inject_covariates=False\n",
    "#)\n",
    "parameter_dict = setup_kwargs | scvi_kwargs | trainer_kwargs | plan_kwargs"
   ]
  },
  {
   "cell_type": "markdown",
   "id": "1362366a-c16b-4c11-964b-b9c5f82f7b29",
   "metadata": {
    "papermill": {
     "duration": 0.010271,
     "end_time": "2024-10-17T14:04:14.337364",
     "exception": false,
     "start_time": "2024-10-17T14:04:14.327093",
     "status": "completed"
    },
    "tags": []
   },
   "source": [
    "**wandb parameter**"
   ]
  },
  {
   "cell_type": "code",
   "execution_count": 10,
   "id": "0496e33a-8ca5-423f-b42f-34a59760708c",
   "metadata": {
    "execution": {
     "iopub.execute_input": "2024-10-17T14:04:14.367516Z",
     "iopub.status.busy": "2024-10-17T14:04:14.367014Z",
     "iopub.status.idle": "2024-10-17T14:04:14.374886Z",
     "shell.execute_reply": "2024-10-17T14:04:14.373788Z"
    },
    "papermill": {
     "duration": 0.027391,
     "end_time": "2024-10-17T14:04:14.378228",
     "exception": false,
     "start_time": "2024-10-17T14:04:14.350837",
     "status": "completed"
    },
    "tags": []
   },
   "outputs": [
    {
     "data": {
      "text/plain": [
       "'Step1_Platelets'"
      ]
     },
     "execution_count": 10,
     "metadata": {},
     "output_type": "execute_result"
    }
   ],
   "source": [
    "run_name = f\"{annotationLevel}_{cellGroup}\"\n",
    "run_name"
   ]
  },
  {
   "cell_type": "code",
   "execution_count": 11,
   "id": "b0021327-95a2-4002-bf32-2c5779a99505",
   "metadata": {
    "execution": {
     "iopub.execute_input": "2024-10-17T14:04:14.404873Z",
     "iopub.status.busy": "2024-10-17T14:04:14.403565Z",
     "iopub.status.idle": "2024-10-17T14:04:14.452720Z",
     "shell.execute_reply": "2024-10-17T14:04:14.451855Z"
    },
    "papermill": {
     "duration": 0.064742,
     "end_time": "2024-10-17T14:04:14.455746",
     "exception": false,
     "start_time": "2024-10-17T14:04:14.391004",
     "status": "completed"
    },
    "tags": []
   },
   "outputs": [],
   "source": [
    "logger = CustomWandbLogger(name = run_name, project='inflammation_atlas_R1', config=parameter_dict)"
   ]
  },
  {
   "cell_type": "markdown",
   "id": "c237eee1-a976-4915-9b7f-b014bf33f47d",
   "metadata": {
    "papermill": {
     "duration": 0.016573,
     "end_time": "2024-10-17T14:04:14.490666",
     "exception": false,
     "start_time": "2024-10-17T14:04:14.474093",
     "status": "completed"
    },
    "tags": []
   },
   "source": [
    "**Running integration**"
   ]
  },
  {
   "cell_type": "code",
   "execution_count": 12,
   "id": "aff97c53-1aba-462e-8a77-f1aec9cf724c",
   "metadata": {
    "execution": {
     "iopub.execute_input": "2024-10-17T14:04:14.522685Z",
     "iopub.status.busy": "2024-10-17T14:04:14.521499Z",
     "iopub.status.idle": "2024-10-17T14:04:14.629017Z",
     "shell.execute_reply": "2024-10-17T14:04:14.627632Z"
    },
    "papermill": {
     "duration": 0.127495,
     "end_time": "2024-10-17T14:04:14.632467",
     "exception": false,
     "start_time": "2024-10-17T14:04:14.504972",
     "status": "completed"
    },
    "tags": []
   },
   "outputs": [
    {
     "name": "stderr",
     "output_type": "stream",
     "text": [
      "CUDA backend failed to initialize: Unable to use CUDA because of the following issues with CUDA components:\n",
      "Outdated cuSPARSE installation found.\n",
      "Version JAX was built against: 12200\n",
      "Minimum supported: 12100\n",
      "Installed version: 12002\n",
      "The local installation version must be no lower than 12100. (Set TF_CPP_MIN_LOG_LEVEL=0 and rerun for more info.)\n"
     ]
    }
   ],
   "source": [
    "scvi.model.SCVI.setup_anndata(adata, \n",
    "                              **setup_kwargs)"
   ]
  },
  {
   "cell_type": "code",
   "execution_count": 13,
   "id": "1a56f448-cf44-47c1-81a4-a89caa930fec",
   "metadata": {
    "execution": {
     "iopub.execute_input": "2024-10-17T14:04:14.900206Z",
     "iopub.status.busy": "2024-10-17T14:04:14.899677Z",
     "iopub.status.idle": "2024-10-17T14:04:14.951873Z",
     "shell.execute_reply": "2024-10-17T14:04:14.950819Z"
    },
    "papermill": {
     "duration": 0.306202,
     "end_time": "2024-10-17T14:04:14.954867",
     "exception": false,
     "start_time": "2024-10-17T14:04:14.648665",
     "status": "completed"
    },
    "tags": []
   },
   "outputs": [],
   "source": [
    "model = scvi.model.SCVI(adata, **scvi_kwargs)"
   ]
  },
  {
   "cell_type": "code",
   "execution_count": 14,
   "id": "2735f010-4f24-4ae8-9740-a8cfeb335e9a",
   "metadata": {
    "execution": {
     "iopub.execute_input": "2024-10-17T14:04:14.988238Z",
     "iopub.status.busy": "2024-10-17T14:04:14.987316Z",
     "iopub.status.idle": "2024-10-17T14:04:34.422017Z",
     "shell.execute_reply": "2024-10-17T14:04:34.421548Z"
    },
    "papermill": {
     "duration": 19.455317,
     "end_time": "2024-10-17T14:04:34.425233",
     "exception": false,
     "start_time": "2024-10-17T14:04:14.969916",
     "status": "completed"
    },
    "tags": []
   },
   "outputs": [
    {
     "name": "stderr",
     "output_type": "stream",
     "text": [
      "GPU available: True (cuda), used: True\n"
     ]
    },
    {
     "name": "stderr",
     "output_type": "stream",
     "text": [
      "TPU available: False, using: 0 TPU cores\n"
     ]
    },
    {
     "name": "stderr",
     "output_type": "stream",
     "text": [
      "IPU available: False, using: 0 IPUs\n"
     ]
    },
    {
     "name": "stderr",
     "output_type": "stream",
     "text": [
      "HPU available: False, using: 0 HPUs\n"
     ]
    },
    {
     "name": "stderr",
     "output_type": "stream",
     "text": [
      "\u001b[34m\u001b[1mwandb\u001b[0m: Currently logged in as: \u001b[33mdav1989\u001b[0m (\u001b[33minflammation\u001b[0m). Use \u001b[1m`wandb login --relogin`\u001b[0m to force relogin\n"
     ]
    },
    {
     "name": "stderr",
     "output_type": "stream",
     "text": [
      "\u001b[34m\u001b[1mwandb\u001b[0m: wandb version 0.18.3 is available!  To upgrade, please run:\n",
      "\u001b[34m\u001b[1mwandb\u001b[0m:  $ pip install wandb --upgrade\n"
     ]
    },
    {
     "name": "stderr",
     "output_type": "stream",
     "text": [
      "\u001b[34m\u001b[1mwandb\u001b[0m: Tracking run with wandb version 0.16.5\n"
     ]
    },
    {
     "name": "stderr",
     "output_type": "stream",
     "text": [
      "\u001b[34m\u001b[1mwandb\u001b[0m: Run data is saved locally in \u001b[35m\u001b[1m./wandb/run-20241017_140417-t8knk6nr\u001b[0m\n",
      "\u001b[34m\u001b[1mwandb\u001b[0m: Run \u001b[1m`wandb offline`\u001b[0m to turn off syncing.\n"
     ]
    },
    {
     "name": "stderr",
     "output_type": "stream",
     "text": [
      "\u001b[34m\u001b[1mwandb\u001b[0m: Syncing run \u001b[33mStep1_Platelets\u001b[0m\n"
     ]
    },
    {
     "name": "stderr",
     "output_type": "stream",
     "text": [
      "\u001b[34m\u001b[1mwandb\u001b[0m: ⭐️ View project at \u001b[34m\u001b[4mhttps://wandb.ai/inflammation/inflammation_atlas_R1\u001b[0m\n"
     ]
    },
    {
     "name": "stderr",
     "output_type": "stream",
     "text": [
      "\u001b[34m\u001b[1mwandb\u001b[0m: 🚀 View run at \u001b[34m\u001b[4mhttps://wandb.ai/inflammation/inflammation_atlas_R1/runs/t8knk6nr/workspace\u001b[0m\n"
     ]
    },
    {
     "name": "stderr",
     "output_type": "stream",
     "text": [
      "LOCAL_RANK: 0 - CUDA_VISIBLE_DEVICES: [0]\n"
     ]
    },
    {
     "name": "stdout",
     "output_type": "stream",
     "text": [
      "\r",
      "Training:   0%|                                                                                                                     | 0/1000 [00:00<?, ?it/s]"
     ]
    },
    {
     "name": "stdout",
     "output_type": "stream",
     "text": [
      "\r",
      "Epoch 1/1000:   0%|                                                                                                                 | 0/1000 [00:00<?, ?it/s]"
     ]
    },
    {
     "name": "stdout",
     "output_type": "stream",
     "text": [
      "\r",
      "Epoch 1/1000:   0%|                                                                                                         | 1/1000 [00:00<08:26,  1.97it/s]"
     ]
    },
    {
     "name": "stdout",
     "output_type": "stream",
     "text": [
      "\r",
      "Epoch 1/1000:   0%|                                                 | 1/1000 [00:00<08:26,  1.97it/s, v_num=k6nr, train_loss_step=89.6, train_loss_epoch=106]"
     ]
    },
    {
     "name": "stdout",
     "output_type": "stream",
     "text": [
      "\r",
      "Epoch 2/1000:   0%|                                                 | 1/1000 [00:00<08:26,  1.97it/s, v_num=k6nr, train_loss_step=89.6, train_loss_epoch=106]"
     ]
    },
    {
     "name": "stdout",
     "output_type": "stream",
     "text": [
      "\r",
      "Epoch 2/1000:   0%|                                                 | 2/1000 [00:00<06:44,  2.47it/s, v_num=k6nr, train_loss_step=89.6, train_loss_epoch=106]"
     ]
    },
    {
     "name": "stdout",
     "output_type": "stream",
     "text": [
      "\r",
      "Epoch 2/1000:   0%|                                                | 2/1000 [00:00<06:44,  2.47it/s, v_num=k6nr, train_loss_step=85.6, train_loss_epoch=88.5]"
     ]
    },
    {
     "name": "stdout",
     "output_type": "stream",
     "text": [
      "\r",
      "Epoch 3/1000:   0%|                                                | 2/1000 [00:00<06:44,  2.47it/s, v_num=k6nr, train_loss_step=85.6, train_loss_epoch=88.5]"
     ]
    },
    {
     "name": "stdout",
     "output_type": "stream",
     "text": [
      "\r",
      "Epoch 3/1000:   0%|▏                                               | 3/1000 [00:01<05:59,  2.77it/s, v_num=k6nr, train_loss_step=85.6, train_loss_epoch=88.5]"
     ]
    },
    {
     "name": "stdout",
     "output_type": "stream",
     "text": [
      "\r",
      "Epoch 3/1000:   0%|▏                                                 | 3/1000 [00:01<05:59,  2.77it/s, v_num=k6nr, train_loss_step=81, train_loss_epoch=85.9]"
     ]
    },
    {
     "name": "stdout",
     "output_type": "stream",
     "text": [
      "\r",
      "Epoch 4/1000:   0%|▏                                                 | 3/1000 [00:01<05:59,  2.77it/s, v_num=k6nr, train_loss_step=81, train_loss_epoch=85.9]"
     ]
    },
    {
     "name": "stdout",
     "output_type": "stream",
     "text": [
      "\r",
      "Epoch 4/1000:   0%|▏                                                 | 4/1000 [00:01<05:49,  2.85it/s, v_num=k6nr, train_loss_step=81, train_loss_epoch=85.9]"
     ]
    },
    {
     "name": "stdout",
     "output_type": "stream",
     "text": [
      "\r",
      "Epoch 4/1000:   0%|▏                                               | 4/1000 [00:01<05:49,  2.85it/s, v_num=k6nr, train_loss_step=84.9, train_loss_epoch=84.4]"
     ]
    },
    {
     "name": "stdout",
     "output_type": "stream",
     "text": [
      "\r",
      "Epoch 5/1000:   0%|▏                                               | 4/1000 [00:01<05:49,  2.85it/s, v_num=k6nr, train_loss_step=84.9, train_loss_epoch=84.4]"
     ]
    },
    {
     "name": "stdout",
     "output_type": "stream",
     "text": [
      "\r",
      "Epoch 5/1000:   0%|▏                                               | 5/1000 [00:01<06:04,  2.73it/s, v_num=k6nr, train_loss_step=84.9, train_loss_epoch=84.4]"
     ]
    },
    {
     "name": "stdout",
     "output_type": "stream",
     "text": [
      "\r",
      "Epoch 5/1000:   0%|▏                                               | 5/1000 [00:01<06:04,  2.73it/s, v_num=k6nr, train_loss_step=77.7, train_loss_epoch=83.3]"
     ]
    },
    {
     "name": "stdout",
     "output_type": "stream",
     "text": [
      "\r",
      "Epoch 6/1000:   0%|▏                                               | 5/1000 [00:01<06:04,  2.73it/s, v_num=k6nr, train_loss_step=77.7, train_loss_epoch=83.3]"
     ]
    },
    {
     "name": "stdout",
     "output_type": "stream",
     "text": [
      "\r",
      "Epoch 6/1000:   1%|▎                                               | 6/1000 [00:02<05:49,  2.84it/s, v_num=k6nr, train_loss_step=77.7, train_loss_epoch=83.3]"
     ]
    },
    {
     "name": "stdout",
     "output_type": "stream",
     "text": [
      "\r",
      "Epoch 6/1000:   1%|▎                                               | 6/1000 [00:02<05:49,  2.84it/s, v_num=k6nr, train_loss_step=88.1, train_loss_epoch=82.4]"
     ]
    },
    {
     "name": "stdout",
     "output_type": "stream",
     "text": [
      "\r",
      "Epoch 7/1000:   1%|▎                                               | 6/1000 [00:02<05:49,  2.84it/s, v_num=k6nr, train_loss_step=88.1, train_loss_epoch=82.4]"
     ]
    },
    {
     "name": "stdout",
     "output_type": "stream",
     "text": [
      "\r",
      "Epoch 7/1000:   1%|▎                                               | 7/1000 [00:02<05:42,  2.90it/s, v_num=k6nr, train_loss_step=88.1, train_loss_epoch=82.4]"
     ]
    },
    {
     "name": "stdout",
     "output_type": "stream",
     "text": [
      "\r",
      "Epoch 7/1000:   1%|▎                                               | 7/1000 [00:02<05:42,  2.90it/s, v_num=k6nr, train_loss_step=81.9, train_loss_epoch=81.7]"
     ]
    },
    {
     "name": "stdout",
     "output_type": "stream",
     "text": [
      "\r",
      "Epoch 8/1000:   1%|▎                                               | 7/1000 [00:02<05:42,  2.90it/s, v_num=k6nr, train_loss_step=81.9, train_loss_epoch=81.7]"
     ]
    },
    {
     "name": "stdout",
     "output_type": "stream",
     "text": [
      "\r",
      "Epoch 8/1000:   1%|▍                                               | 8/1000 [00:02<05:31,  2.99it/s, v_num=k6nr, train_loss_step=81.9, train_loss_epoch=81.7]"
     ]
    },
    {
     "name": "stdout",
     "output_type": "stream",
     "text": [
      "\r",
      "Epoch 8/1000:   1%|▍                                               | 8/1000 [00:02<05:31,  2.99it/s, v_num=k6nr, train_loss_step=83.9, train_loss_epoch=81.2]"
     ]
    },
    {
     "name": "stdout",
     "output_type": "stream",
     "text": [
      "\r",
      "Epoch 9/1000:   1%|▍                                               | 8/1000 [00:02<05:31,  2.99it/s, v_num=k6nr, train_loss_step=83.9, train_loss_epoch=81.2]"
     ]
    },
    {
     "name": "stdout",
     "output_type": "stream",
     "text": [
      "\r",
      "Epoch 9/1000:   1%|▍                                               | 9/1000 [00:03<05:32,  2.98it/s, v_num=k6nr, train_loss_step=83.9, train_loss_epoch=81.2]"
     ]
    },
    {
     "name": "stdout",
     "output_type": "stream",
     "text": [
      "\r",
      "Epoch 9/1000:   1%|▍                                               | 9/1000 [00:03<05:32,  2.98it/s, v_num=k6nr, train_loss_step=80.1, train_loss_epoch=80.7]"
     ]
    },
    {
     "name": "stdout",
     "output_type": "stream",
     "text": [
      "\r",
      "Epoch 10/1000:   1%|▍                                              | 9/1000 [00:03<05:32,  2.98it/s, v_num=k6nr, train_loss_step=80.1, train_loss_epoch=80.7]"
     ]
    },
    {
     "name": "stdout",
     "output_type": "stream",
     "text": [
      "\r",
      "Epoch 10/1000:   1%|▍                                             | 10/1000 [00:03<05:39,  2.91it/s, v_num=k6nr, train_loss_step=80.1, train_loss_epoch=80.7]"
     ]
    },
    {
     "name": "stdout",
     "output_type": "stream",
     "text": [
      "\r",
      "Epoch 10/1000:   1%|▍                                             | 10/1000 [00:03<05:39,  2.91it/s, v_num=k6nr, train_loss_step=81.4, train_loss_epoch=80.3]"
     ]
    },
    {
     "name": "stdout",
     "output_type": "stream",
     "text": [
      "\r",
      "Epoch 11/1000:   1%|▍                                             | 10/1000 [00:03<05:39,  2.91it/s, v_num=k6nr, train_loss_step=81.4, train_loss_epoch=80.3]"
     ]
    },
    {
     "name": "stdout",
     "output_type": "stream",
     "text": [
      "\r",
      "Epoch 11/1000:   1%|▌                                             | 11/1000 [00:03<05:41,  2.90it/s, v_num=k6nr, train_loss_step=81.4, train_loss_epoch=80.3]"
     ]
    },
    {
     "name": "stdout",
     "output_type": "stream",
     "text": [
      "\r",
      "Epoch 11/1000:   1%|▌                                             | 11/1000 [00:03<05:41,  2.90it/s, v_num=k6nr, train_loss_step=77.5, train_loss_epoch=79.9]"
     ]
    },
    {
     "name": "stdout",
     "output_type": "stream",
     "text": [
      "\r",
      "Epoch 12/1000:   1%|▌                                             | 11/1000 [00:03<05:41,  2.90it/s, v_num=k6nr, train_loss_step=77.5, train_loss_epoch=79.9]"
     ]
    },
    {
     "name": "stdout",
     "output_type": "stream",
     "text": [
      "\r",
      "Epoch 12/1000:   1%|▌                                             | 12/1000 [00:04<05:47,  2.84it/s, v_num=k6nr, train_loss_step=77.5, train_loss_epoch=79.9]"
     ]
    },
    {
     "name": "stdout",
     "output_type": "stream",
     "text": [
      "\r",
      "Epoch 12/1000:   1%|▌                                             | 12/1000 [00:04<05:47,  2.84it/s, v_num=k6nr, train_loss_step=78.6, train_loss_epoch=79.5]"
     ]
    },
    {
     "name": "stdout",
     "output_type": "stream",
     "text": [
      "\r",
      "Epoch 13/1000:   1%|▌                                             | 12/1000 [00:04<05:47,  2.84it/s, v_num=k6nr, train_loss_step=78.6, train_loss_epoch=79.5]"
     ]
    },
    {
     "name": "stdout",
     "output_type": "stream",
     "text": [
      "\r",
      "Epoch 13/1000:   1%|▌                                             | 13/1000 [00:04<05:38,  2.92it/s, v_num=k6nr, train_loss_step=78.6, train_loss_epoch=79.5]"
     ]
    },
    {
     "name": "stdout",
     "output_type": "stream",
     "text": [
      "\r",
      "Epoch 13/1000:   1%|▌                                             | 13/1000 [00:04<05:38,  2.92it/s, v_num=k6nr, train_loss_step=78.5, train_loss_epoch=79.2]"
     ]
    },
    {
     "name": "stdout",
     "output_type": "stream",
     "text": [
      "\r",
      "Epoch 14/1000:   1%|▌                                             | 13/1000 [00:04<05:38,  2.92it/s, v_num=k6nr, train_loss_step=78.5, train_loss_epoch=79.2]"
     ]
    },
    {
     "name": "stdout",
     "output_type": "stream",
     "text": [
      "\r",
      "Epoch 14/1000:   1%|▋                                             | 14/1000 [00:04<05:38,  2.91it/s, v_num=k6nr, train_loss_step=78.5, train_loss_epoch=79.2]"
     ]
    },
    {
     "name": "stdout",
     "output_type": "stream",
     "text": [
      "\r",
      "Epoch 14/1000:   1%|▋                                             | 14/1000 [00:04<05:38,  2.91it/s, v_num=k6nr, train_loss_step=87.1, train_loss_epoch=78.9]"
     ]
    },
    {
     "name": "stdout",
     "output_type": "stream",
     "text": [
      "\r",
      "Epoch 15/1000:   1%|▋                                             | 14/1000 [00:04<05:38,  2.91it/s, v_num=k6nr, train_loss_step=87.1, train_loss_epoch=78.9]"
     ]
    },
    {
     "name": "stdout",
     "output_type": "stream",
     "text": [
      "\r",
      "Epoch 15/1000:   2%|▋                                             | 15/1000 [00:05<05:33,  2.96it/s, v_num=k6nr, train_loss_step=87.1, train_loss_epoch=78.9]"
     ]
    },
    {
     "name": "stdout",
     "output_type": "stream",
     "text": [
      "\r",
      "Epoch 15/1000:   2%|▋                                             | 15/1000 [00:05<05:33,  2.96it/s, v_num=k6nr, train_loss_step=76.6, train_loss_epoch=78.6]"
     ]
    },
    {
     "name": "stdout",
     "output_type": "stream",
     "text": [
      "\r",
      "Epoch 16/1000:   2%|▋                                             | 15/1000 [00:05<05:33,  2.96it/s, v_num=k6nr, train_loss_step=76.6, train_loss_epoch=78.6]"
     ]
    },
    {
     "name": "stdout",
     "output_type": "stream",
     "text": [
      "\r",
      "Epoch 16/1000:   2%|▋                                             | 16/1000 [00:05<05:34,  2.94it/s, v_num=k6nr, train_loss_step=76.6, train_loss_epoch=78.6]"
     ]
    },
    {
     "name": "stdout",
     "output_type": "stream",
     "text": [
      "\r",
      "Epoch 16/1000:   2%|▋                                             | 16/1000 [00:05<05:34,  2.94it/s, v_num=k6nr, train_loss_step=77.2, train_loss_epoch=78.3]"
     ]
    },
    {
     "name": "stdout",
     "output_type": "stream",
     "text": [
      "\r",
      "Epoch 17/1000:   2%|▋                                             | 16/1000 [00:05<05:34,  2.94it/s, v_num=k6nr, train_loss_step=77.2, train_loss_epoch=78.3]"
     ]
    },
    {
     "name": "stdout",
     "output_type": "stream",
     "text": [
      "\r",
      "Epoch 17/1000:   2%|▊                                             | 17/1000 [00:05<05:35,  2.93it/s, v_num=k6nr, train_loss_step=77.2, train_loss_epoch=78.3]"
     ]
    },
    {
     "name": "stdout",
     "output_type": "stream",
     "text": [
      "\r",
      "Epoch 17/1000:   2%|▊                                               | 17/1000 [00:05<05:35,  2.93it/s, v_num=k6nr, train_loss_step=74.3, train_loss_epoch=78]"
     ]
    },
    {
     "name": "stdout",
     "output_type": "stream",
     "text": [
      "\r",
      "Epoch 18/1000:   2%|▊                                               | 17/1000 [00:05<05:35,  2.93it/s, v_num=k6nr, train_loss_step=74.3, train_loss_epoch=78]"
     ]
    },
    {
     "name": "stdout",
     "output_type": "stream",
     "text": [
      "\r",
      "Epoch 18/1000:   2%|▊                                               | 18/1000 [00:06<05:42,  2.87it/s, v_num=k6nr, train_loss_step=74.3, train_loss_epoch=78]"
     ]
    },
    {
     "name": "stdout",
     "output_type": "stream",
     "text": [
      "\r",
      "Epoch 18/1000:   2%|▊                                             | 18/1000 [00:06<05:42,  2.87it/s, v_num=k6nr, train_loss_step=79.9, train_loss_epoch=77.7]"
     ]
    },
    {
     "name": "stdout",
     "output_type": "stream",
     "text": [
      "\r",
      "Epoch 19/1000:   2%|▊                                             | 18/1000 [00:06<05:42,  2.87it/s, v_num=k6nr, train_loss_step=79.9, train_loss_epoch=77.7]"
     ]
    },
    {
     "name": "stdout",
     "output_type": "stream",
     "text": [
      "\r",
      "Epoch 19/1000:   2%|▊                                             | 19/1000 [00:06<05:27,  2.99it/s, v_num=k6nr, train_loss_step=79.9, train_loss_epoch=77.7]"
     ]
    },
    {
     "name": "stdout",
     "output_type": "stream",
     "text": [
      "\r",
      "Epoch 19/1000:   2%|▊                                             | 19/1000 [00:06<05:27,  2.99it/s, v_num=k6nr, train_loss_step=78.5, train_loss_epoch=77.4]"
     ]
    },
    {
     "name": "stdout",
     "output_type": "stream",
     "text": [
      "\r",
      "Epoch 20/1000:   2%|▊                                             | 19/1000 [00:06<05:27,  2.99it/s, v_num=k6nr, train_loss_step=78.5, train_loss_epoch=77.4]"
     ]
    },
    {
     "name": "stdout",
     "output_type": "stream",
     "text": [
      "\r",
      "Epoch 20/1000:   2%|▉                                             | 20/1000 [00:06<05:13,  3.13it/s, v_num=k6nr, train_loss_step=78.5, train_loss_epoch=77.4]"
     ]
    },
    {
     "name": "stdout",
     "output_type": "stream",
     "text": [
      "\r",
      "Epoch 20/1000:   2%|▉                                             | 20/1000 [00:06<05:13,  3.13it/s, v_num=k6nr, train_loss_step=81.6, train_loss_epoch=77.1]"
     ]
    },
    {
     "name": "stdout",
     "output_type": "stream",
     "text": [
      "\r",
      "Epoch 21/1000:   2%|▉                                             | 20/1000 [00:06<05:13,  3.13it/s, v_num=k6nr, train_loss_step=81.6, train_loss_epoch=77.1]"
     ]
    },
    {
     "name": "stdout",
     "output_type": "stream",
     "text": [
      "\r",
      "Epoch 21/1000:   2%|▉                                             | 21/1000 [00:07<05:02,  3.23it/s, v_num=k6nr, train_loss_step=81.6, train_loss_epoch=77.1]"
     ]
    },
    {
     "name": "stdout",
     "output_type": "stream",
     "text": [
      "\r",
      "Epoch 21/1000:   2%|▉                                             | 21/1000 [00:07<05:02,  3.23it/s, v_num=k6nr, train_loss_step=78.2, train_loss_epoch=76.8]"
     ]
    },
    {
     "name": "stdout",
     "output_type": "stream",
     "text": [
      "\r",
      "Epoch 22/1000:   2%|▉                                             | 21/1000 [00:07<05:02,  3.23it/s, v_num=k6nr, train_loss_step=78.2, train_loss_epoch=76.8]"
     ]
    },
    {
     "name": "stdout",
     "output_type": "stream",
     "text": [
      "\r",
      "Epoch 22/1000:   2%|█                                             | 22/1000 [00:07<04:56,  3.30it/s, v_num=k6nr, train_loss_step=78.2, train_loss_epoch=76.8]"
     ]
    },
    {
     "name": "stdout",
     "output_type": "stream",
     "text": [
      "\r",
      "Epoch 22/1000:   2%|█                                               | 22/1000 [00:07<04:56,  3.30it/s, v_num=k6nr, train_loss_step=79, train_loss_epoch=76.6]"
     ]
    },
    {
     "name": "stdout",
     "output_type": "stream",
     "text": [
      "\r",
      "Epoch 23/1000:   2%|█                                               | 22/1000 [00:07<04:56,  3.30it/s, v_num=k6nr, train_loss_step=79, train_loss_epoch=76.6]"
     ]
    },
    {
     "name": "stdout",
     "output_type": "stream",
     "text": [
      "\r",
      "Epoch 23/1000:   2%|█                                               | 23/1000 [00:07<05:10,  3.15it/s, v_num=k6nr, train_loss_step=79, train_loss_epoch=76.6]"
     ]
    },
    {
     "name": "stdout",
     "output_type": "stream",
     "text": [
      "\r",
      "Epoch 23/1000:   2%|█                                             | 23/1000 [00:07<05:10,  3.15it/s, v_num=k6nr, train_loss_step=77.2, train_loss_epoch=76.6]"
     ]
    },
    {
     "name": "stdout",
     "output_type": "stream",
     "text": [
      "\r",
      "Epoch 24/1000:   2%|█                                             | 23/1000 [00:07<05:10,  3.15it/s, v_num=k6nr, train_loss_step=77.2, train_loss_epoch=76.6]"
     ]
    },
    {
     "name": "stdout",
     "output_type": "stream",
     "text": [
      "\r",
      "Epoch 24/1000:   2%|█                                             | 24/1000 [00:08<05:16,  3.08it/s, v_num=k6nr, train_loss_step=77.2, train_loss_epoch=76.6]"
     ]
    },
    {
     "name": "stdout",
     "output_type": "stream",
     "text": [
      "\r",
      "Epoch 24/1000:   2%|█                                             | 24/1000 [00:08<05:16,  3.08it/s, v_num=k6nr, train_loss_step=70.4, train_loss_epoch=76.3]"
     ]
    },
    {
     "name": "stdout",
     "output_type": "stream",
     "text": [
      "\r",
      "Epoch 25/1000:   2%|█                                             | 24/1000 [00:08<05:16,  3.08it/s, v_num=k6nr, train_loss_step=70.4, train_loss_epoch=76.3]"
     ]
    },
    {
     "name": "stdout",
     "output_type": "stream",
     "text": [
      "\r",
      "Epoch 25/1000:   2%|█▏                                            | 25/1000 [00:08<05:23,  3.01it/s, v_num=k6nr, train_loss_step=70.4, train_loss_epoch=76.3]"
     ]
    },
    {
     "name": "stdout",
     "output_type": "stream",
     "text": [
      "\r",
      "Epoch 25/1000:   2%|█▏                                            | 25/1000 [00:08<05:23,  3.01it/s, v_num=k6nr, train_loss_step=87.6, train_loss_epoch=76.1]"
     ]
    },
    {
     "name": "stdout",
     "output_type": "stream",
     "text": [
      "\r",
      "Epoch 26/1000:   2%|█▏                                            | 25/1000 [00:08<05:23,  3.01it/s, v_num=k6nr, train_loss_step=87.6, train_loss_epoch=76.1]"
     ]
    },
    {
     "name": "stdout",
     "output_type": "stream",
     "text": [
      "\r",
      "Epoch 26/1000:   3%|█▏                                            | 26/1000 [00:08<05:12,  3.12it/s, v_num=k6nr, train_loss_step=87.6, train_loss_epoch=76.1]"
     ]
    },
    {
     "name": "stdout",
     "output_type": "stream",
     "text": [
      "\r",
      "Epoch 26/1000:   3%|█▏                                            | 26/1000 [00:08<05:12,  3.12it/s, v_num=k6nr, train_loss_step=66.5, train_loss_epoch=75.7]"
     ]
    },
    {
     "name": "stdout",
     "output_type": "stream",
     "text": [
      "\r",
      "Epoch 27/1000:   3%|█▏                                            | 26/1000 [00:08<05:12,  3.12it/s, v_num=k6nr, train_loss_step=66.5, train_loss_epoch=75.7]"
     ]
    },
    {
     "name": "stdout",
     "output_type": "stream",
     "text": [
      "\r",
      "Epoch 27/1000:   3%|█▏                                            | 27/1000 [00:09<05:04,  3.19it/s, v_num=k6nr, train_loss_step=66.5, train_loss_epoch=75.7]"
     ]
    },
    {
     "name": "stdout",
     "output_type": "stream",
     "text": [
      "\r",
      "Epoch 27/1000:   3%|█▏                                            | 27/1000 [00:09<05:04,  3.19it/s, v_num=k6nr, train_loss_step=82.9, train_loss_epoch=75.3]"
     ]
    },
    {
     "name": "stdout",
     "output_type": "stream",
     "text": [
      "\r",
      "Epoch 28/1000:   3%|█▏                                            | 27/1000 [00:09<05:04,  3.19it/s, v_num=k6nr, train_loss_step=82.9, train_loss_epoch=75.3]"
     ]
    },
    {
     "name": "stdout",
     "output_type": "stream",
     "text": [
      "\r",
      "Epoch 28/1000:   3%|█▎                                            | 28/1000 [00:09<05:00,  3.23it/s, v_num=k6nr, train_loss_step=82.9, train_loss_epoch=75.3]"
     ]
    },
    {
     "name": "stdout",
     "output_type": "stream",
     "text": [
      "\r",
      "Epoch 28/1000:   3%|█▎                                              | 28/1000 [00:09<05:00,  3.23it/s, v_num=k6nr, train_loss_step=70.6, train_loss_epoch=75]"
     ]
    },
    {
     "name": "stdout",
     "output_type": "stream",
     "text": [
      "\r",
      "Epoch 29/1000:   3%|█▎                                              | 28/1000 [00:09<05:00,  3.23it/s, v_num=k6nr, train_loss_step=70.6, train_loss_epoch=75]"
     ]
    },
    {
     "name": "stdout",
     "output_type": "stream",
     "text": [
      "\r",
      "Epoch 29/1000:   3%|█▍                                              | 29/1000 [00:09<04:52,  3.32it/s, v_num=k6nr, train_loss_step=70.6, train_loss_epoch=75]"
     ]
    },
    {
     "name": "stdout",
     "output_type": "stream",
     "text": [
      "\r",
      "Epoch 29/1000:   3%|█▎                                            | 29/1000 [00:09<04:52,  3.32it/s, v_num=k6nr, train_loss_step=78.6, train_loss_epoch=74.7]"
     ]
    },
    {
     "name": "stdout",
     "output_type": "stream",
     "text": [
      "\r",
      "Epoch 30/1000:   3%|█▎                                            | 29/1000 [00:09<04:52,  3.32it/s, v_num=k6nr, train_loss_step=78.6, train_loss_epoch=74.7]"
     ]
    },
    {
     "name": "stdout",
     "output_type": "stream",
     "text": [
      "\r",
      "Epoch 30/1000:   3%|█▍                                            | 30/1000 [00:09<04:46,  3.38it/s, v_num=k6nr, train_loss_step=78.6, train_loss_epoch=74.7]"
     ]
    },
    {
     "name": "stdout",
     "output_type": "stream",
     "text": [
      "\r",
      "Epoch 30/1000:   3%|█▍                                            | 30/1000 [00:09<04:46,  3.38it/s, v_num=k6nr, train_loss_step=74.9, train_loss_epoch=74.4]"
     ]
    },
    {
     "name": "stdout",
     "output_type": "stream",
     "text": [
      "\r",
      "Epoch 31/1000:   3%|█▍                                            | 30/1000 [00:09<04:46,  3.38it/s, v_num=k6nr, train_loss_step=74.9, train_loss_epoch=74.4]"
     ]
    },
    {
     "name": "stdout",
     "output_type": "stream",
     "text": [
      "\r",
      "Epoch 31/1000:   3%|█▍                                            | 31/1000 [00:10<04:43,  3.41it/s, v_num=k6nr, train_loss_step=74.9, train_loss_epoch=74.4]"
     ]
    },
    {
     "name": "stdout",
     "output_type": "stream",
     "text": [
      "\r",
      "Epoch 31/1000:   3%|█▍                                            | 31/1000 [00:10<04:43,  3.41it/s, v_num=k6nr, train_loss_step=76.2, train_loss_epoch=74.2]"
     ]
    },
    {
     "name": "stdout",
     "output_type": "stream",
     "text": [
      "\r",
      "Epoch 32/1000:   3%|█▍                                            | 31/1000 [00:10<04:43,  3.41it/s, v_num=k6nr, train_loss_step=76.2, train_loss_epoch=74.2]"
     ]
    },
    {
     "name": "stdout",
     "output_type": "stream",
     "text": [
      "\r",
      "Epoch 32/1000:   3%|█▍                                            | 32/1000 [00:10<04:47,  3.37it/s, v_num=k6nr, train_loss_step=76.2, train_loss_epoch=74.2]"
     ]
    },
    {
     "name": "stdout",
     "output_type": "stream",
     "text": [
      "\r",
      "Epoch 32/1000:   3%|█▍                                            | 32/1000 [00:10<04:47,  3.37it/s, v_num=k6nr, train_loss_step=76.6, train_loss_epoch=73.9]"
     ]
    },
    {
     "name": "stdout",
     "output_type": "stream",
     "text": [
      "\r",
      "Epoch 33/1000:   3%|█▍                                            | 32/1000 [00:10<04:47,  3.37it/s, v_num=k6nr, train_loss_step=76.6, train_loss_epoch=73.9]"
     ]
    },
    {
     "name": "stdout",
     "output_type": "stream",
     "text": [
      "\r",
      "Epoch 33/1000:   3%|█▌                                            | 33/1000 [00:10<04:46,  3.37it/s, v_num=k6nr, train_loss_step=76.6, train_loss_epoch=73.9]"
     ]
    },
    {
     "name": "stdout",
     "output_type": "stream",
     "text": [
      "\r",
      "Epoch 33/1000:   3%|█▌                                              | 33/1000 [00:10<04:46,  3.37it/s, v_num=k6nr, train_loss_step=75, train_loss_epoch=73.7]"
     ]
    },
    {
     "name": "stdout",
     "output_type": "stream",
     "text": [
      "\r",
      "Epoch 34/1000:   3%|█▌                                              | 33/1000 [00:10<04:46,  3.37it/s, v_num=k6nr, train_loss_step=75, train_loss_epoch=73.7]"
     ]
    },
    {
     "name": "stdout",
     "output_type": "stream",
     "text": [
      "\r",
      "Epoch 34/1000:   3%|█▋                                              | 34/1000 [00:11<04:11,  3.84it/s, v_num=k6nr, train_loss_step=75, train_loss_epoch=73.7]"
     ]
    },
    {
     "name": "stdout",
     "output_type": "stream",
     "text": [
      "\r",
      "Epoch 34/1000:   3%|█▌                                            | 34/1000 [00:11<04:11,  3.84it/s, v_num=k6nr, train_loss_step=72.7, train_loss_epoch=73.4]"
     ]
    },
    {
     "name": "stdout",
     "output_type": "stream",
     "text": [
      "\r",
      "Epoch 35/1000:   3%|█▌                                            | 34/1000 [00:11<04:11,  3.84it/s, v_num=k6nr, train_loss_step=72.7, train_loss_epoch=73.4]"
     ]
    },
    {
     "name": "stdout",
     "output_type": "stream",
     "text": [
      "\r",
      "Epoch 35/1000:   4%|█▌                                            | 35/1000 [00:11<03:37,  4.43it/s, v_num=k6nr, train_loss_step=72.7, train_loss_epoch=73.4]"
     ]
    },
    {
     "name": "stdout",
     "output_type": "stream",
     "text": [
      "\r",
      "Epoch 35/1000:   4%|█▋                                              | 35/1000 [00:11<03:37,  4.43it/s, v_num=k6nr, train_loss_step=73, train_loss_epoch=73.2]"
     ]
    },
    {
     "name": "stdout",
     "output_type": "stream",
     "text": [
      "\r",
      "Epoch 36/1000:   4%|█▋                                              | 35/1000 [00:11<03:37,  4.43it/s, v_num=k6nr, train_loss_step=73, train_loss_epoch=73.2]"
     ]
    },
    {
     "name": "stdout",
     "output_type": "stream",
     "text": [
      "\r",
      "Epoch 36/1000:   4%|█▋                                              | 36/1000 [00:11<03:13,  4.99it/s, v_num=k6nr, train_loss_step=73, train_loss_epoch=73.2]"
     ]
    },
    {
     "name": "stdout",
     "output_type": "stream",
     "text": [
      "\r",
      "Epoch 36/1000:   4%|█▋                                            | 36/1000 [00:11<03:13,  4.99it/s, v_num=k6nr, train_loss_step=73.9, train_loss_epoch=72.9]"
     ]
    },
    {
     "name": "stdout",
     "output_type": "stream",
     "text": [
      "\r",
      "Epoch 36/1000:   4%|█▋                                            | 36/1000 [00:11<05:03,  3.18it/s, v_num=k6nr, train_loss_step=73.9, train_loss_epoch=72.9]"
     ]
    },
    {
     "name": "stdout",
     "output_type": "stream",
     "text": [
      "\n",
      "Monitored metric reconstruction_loss_validation did not improve in the last 10 records. Best score: 85.436. Signaling Trainer to stop.\n"
     ]
    }
   ],
   "source": [
    "model.train(logger=logger, plan_kwargs = plan_kwargs, **trainer_kwargs)"
   ]
  },
  {
   "cell_type": "code",
   "execution_count": 15,
   "id": "c282f6eb-0ad1-40a5-81e6-1acda1545dad",
   "metadata": {
    "execution": {
     "iopub.execute_input": "2024-10-17T14:04:34.463130Z",
     "iopub.status.busy": "2024-10-17T14:04:34.462809Z",
     "iopub.status.idle": "2024-10-17T14:04:38.174652Z",
     "shell.execute_reply": "2024-10-17T14:04:38.173174Z"
    },
    "papermill": {
     "duration": 3.73053,
     "end_time": "2024-10-17T14:04:38.178264",
     "exception": false,
     "start_time": "2024-10-17T14:04:34.447734",
     "status": "completed"
    },
    "tags": []
   },
   "outputs": [
    {
     "name": "stderr",
     "output_type": "stream",
     "text": [
      "\u001b[34m\u001b[1mwandb\u001b[0m: - 0.005 MB of 0.018 MB uploaded\r"
     ]
    },
    {
     "name": "stderr",
     "output_type": "stream",
     "text": [
      "\u001b[34m\u001b[1mwandb\u001b[0m: \\ 0.005 MB of 0.018 MB uploaded\r"
     ]
    },
    {
     "name": "stderr",
     "output_type": "stream",
     "text": [
      "\u001b[34m\u001b[1mwandb\u001b[0m: | 0.025 MB of 0.025 MB uploaded\r"
     ]
    },
    {
     "name": "stderr",
     "output_type": "stream",
     "text": [
      "\u001b[34m\u001b[1mwandb\u001b[0m:                                                                                \n"
     ]
    },
    {
     "name": "stderr",
     "output_type": "stream",
     "text": [
      "\u001b[34m\u001b[1mwandb\u001b[0m: \n",
      "\u001b[34m\u001b[1mwandb\u001b[0m: Run history:\n",
      "\u001b[34m\u001b[1mwandb\u001b[0m:                     elbo_train █▅▅▅▆▆▆▆▆▆▅▅▅▅▄▄▄▄▃▃▃▃▃▃▃▂▂▂▂▂▂▁▁▁▁▁\n",
      "\u001b[34m\u001b[1mwandb\u001b[0m:                elbo_validation █▇▅▃▂▂▁▁▁▁▁▁▁▁▁▁▁▁▁▁▁▁▁▁▁▁▁▁▁▁▁▁▁▁▁▁\n",
      "\u001b[34m\u001b[1mwandb\u001b[0m:                          epoch ▁▁▁▁▂▂▂▂▂▃▃▃▃▃▄▄▄▄▄▄▅▅▅▅▅▅▆▆▆▆▆▇▇▇▇▇████\n",
      "\u001b[34m\u001b[1mwandb\u001b[0m:                kl_global_train ▁▁▁▁▁▁▁▁▁▁▁▁▁▁▁▁▁▁▁▁▁▁▁▁▁▁▁▁▁▁▁▁▁▁▁▁\n",
      "\u001b[34m\u001b[1mwandb\u001b[0m:           kl_global_validation ▁▁▁▁▁▁▁▁▁▁▁▁▁▁▁▁▁▁▁▁▁▁▁▁▁▁▁▁▁▁▁▁▁▁▁▁\n",
      "\u001b[34m\u001b[1mwandb\u001b[0m:                 kl_local_train ▁▄▅▆▇▇████████▇▇▇▇▇▇▇▇▇▇▇▇▆▆▆▆▆▆▆▆▆▆\n",
      "\u001b[34m\u001b[1mwandb\u001b[0m:            kl_local_validation ▁▁▁▁▂▂▃▃▄▅▅▆▆▆▇▇▇▇▇█████████████████\n",
      "\u001b[34m\u001b[1mwandb\u001b[0m:                      kl_weight ▁▁▁▂▂▂▂▂▂▃▃▃▃▃▄▄▄▄▄▄▅▅▅▅▅▅▆▆▆▆▆▇▇▇▇▇▇███\n",
      "\u001b[34m\u001b[1mwandb\u001b[0m:      reconstruction_loss_train █▅▄▄▃▃▃▃▃▃▃▃▂▂▂▂▂▂▂▂▂▂▂▂▂▂▂▁▁▁▁▁▁▁▁▁\n",
      "\u001b[34m\u001b[1mwandb\u001b[0m: reconstruction_loss_validation █▇▆▅▄▃▃▂▂▂▂▂▂▂▁▁▁▁▁▁▁▁▁▁▁▁▁▁▁▁▁▁▁▁▁▁\n",
      "\u001b[34m\u001b[1mwandb\u001b[0m:               train_loss_epoch █▄▄▃▃▃▃▃▃▃▃▂▂▂▂▂▂▂▂▂▂▂▂▂▂▂▂▁▁▁▁▁▁▁▁▁\n",
      "\u001b[34m\u001b[1mwandb\u001b[0m:                train_loss_step █▄▄▄▃▃▄▅▃▄▃▃▃▄▃▂▄▃▃▂▄▂▃▂▃▂▃▂▂▂▁▂▁▂▃▁▂▂▁▂\n",
      "\u001b[34m\u001b[1mwandb\u001b[0m:            trainer/global_step ▁▁▁▁▂▂▂▂▂▃▃▃▃▃▃▄▄▄▄▄▄▅▅▅▅▅▆▆▆▆▆▇▇▇▇▇▇███\n",
      "\u001b[34m\u001b[1mwandb\u001b[0m:                validation_loss █▇▆▅▄▃▃▂▂▂▂▂▂▁▁▁▁▁▁▁▁▁▁▁▁▁▁▁▁▁▁▁▁▁▁▁\n",
      "\u001b[34m\u001b[1mwandb\u001b[0m: \n",
      "\u001b[34m\u001b[1mwandb\u001b[0m: Run summary:\n",
      "\u001b[34m\u001b[1mwandb\u001b[0m:                     elbo_train 90.21274\n",
      "\u001b[34m\u001b[1mwandb\u001b[0m:                elbo_validation 102.87486\n",
      "\u001b[34m\u001b[1mwandb\u001b[0m:                          epoch 35\n",
      "\u001b[34m\u001b[1mwandb\u001b[0m:                kl_global_train 0.0\n",
      "\u001b[34m\u001b[1mwandb\u001b[0m:           kl_global_validation 0.0\n",
      "\u001b[34m\u001b[1mwandb\u001b[0m:                 kl_local_train 18.96069\n",
      "\u001b[34m\u001b[1mwandb\u001b[0m:            kl_local_validation 16.39928\n",
      "\u001b[34m\u001b[1mwandb\u001b[0m:                      kl_weight 0.0875\n",
      "\u001b[34m\u001b[1mwandb\u001b[0m:      reconstruction_loss_train 71.25204\n",
      "\u001b[34m\u001b[1mwandb\u001b[0m: reconstruction_loss_validation 86.47558\n",
      "\u001b[34m\u001b[1mwandb\u001b[0m:               train_loss_epoch 72.91112\n",
      "\u001b[34m\u001b[1mwandb\u001b[0m:                train_loss_step 73.33458\n",
      "\u001b[34m\u001b[1mwandb\u001b[0m:            trainer/global_step 827\n",
      "\u001b[34m\u001b[1mwandb\u001b[0m:                validation_loss 87.91051\n",
      "\u001b[34m\u001b[1mwandb\u001b[0m: \n"
     ]
    },
    {
     "name": "stderr",
     "output_type": "stream",
     "text": [
      "\u001b[34m\u001b[1mwandb\u001b[0m: 🚀 View run \u001b[33mStep1_Platelets\u001b[0m at: \u001b[34m\u001b[4mhttps://wandb.ai/inflammation/inflammation_atlas_R1/runs/t8knk6nr/workspace\u001b[0m\n",
      "\u001b[34m\u001b[1mwandb\u001b[0m: Synced 6 W&B file(s), 0 media file(s), 0 artifact file(s) and 0 other file(s)\n"
     ]
    },
    {
     "name": "stderr",
     "output_type": "stream",
     "text": [
      "\u001b[34m\u001b[1mwandb\u001b[0m: Find logs at: \u001b[35m\u001b[1m./wandb/run-20241017_140417-t8knk6nr/logs\u001b[0m\n"
     ]
    }
   ],
   "source": [
    "wandb.finish()"
   ]
  },
  {
   "cell_type": "markdown",
   "id": "d9fb1179-83c7-4ac6-b4aa-92dc7a349801",
   "metadata": {
    "papermill": {
     "duration": 0.013682,
     "end_time": "2024-10-17T14:04:38.215979",
     "exception": false,
     "start_time": "2024-10-17T14:04:38.202297",
     "status": "completed"
    },
    "tags": []
   },
   "source": [
    "### Extracting embedding space"
   ]
  },
  {
   "cell_type": "code",
   "execution_count": 16,
   "id": "caaa5832-0123-4c59-8ec6-f46a75f7a14e",
   "metadata": {
    "execution": {
     "iopub.execute_input": "2024-10-17T14:04:38.242735Z",
     "iopub.status.busy": "2024-10-17T14:04:38.242486Z",
     "iopub.status.idle": "2024-10-17T14:04:38.314560Z",
     "shell.execute_reply": "2024-10-17T14:04:38.313680Z"
    },
    "papermill": {
     "duration": 0.087966,
     "end_time": "2024-10-17T14:04:38.316351",
     "exception": false,
     "start_time": "2024-10-17T14:04:38.228385",
     "status": "completed"
    },
    "tags": []
   },
   "outputs": [],
   "source": [
    "adata.obsm['X_scVI'] = model.get_latent_representation()"
   ]
  },
  {
   "cell_type": "markdown",
   "id": "2f03e70b-839c-40a6-9fbb-d76bbd787419",
   "metadata": {
    "papermill": {
     "duration": 0.012981,
     "end_time": "2024-10-17T14:04:38.347594",
     "exception": false,
     "start_time": "2024-10-17T14:04:38.334613",
     "status": "completed"
    },
    "tags": []
   },
   "source": [
    "## Save the results"
   ]
  },
  {
   "cell_type": "code",
   "execution_count": 17,
   "id": "7b04049b-47fd-4b62-a1c0-c43dcc086d34",
   "metadata": {
    "execution": {
     "iopub.execute_input": "2024-10-17T14:04:38.430613Z",
     "iopub.status.busy": "2024-10-17T14:04:38.430096Z",
     "iopub.status.idle": "2024-10-17T14:04:39.083894Z",
     "shell.execute_reply": "2024-10-17T14:04:39.082337Z"
    },
    "papermill": {
     "duration": 0.673647,
     "end_time": "2024-10-17T14:04:39.087864",
     "exception": false,
     "start_time": "2024-10-17T14:04:38.414217",
     "status": "completed"
    },
    "tags": []
   },
   "outputs": [],
   "source": [
    "if overwriteData:\n",
    "    adata.write(here(f\"{workDir}/{cellGroup}/results/02_{annotationLevel}_{cellGroup}_HVGsubset_scVI.h5ad\"), compression=\"gzip\")\n",
    "    model.save(here(f\"{workDir}/{cellGroup}/results/02_{annotationLevel}_{cellGroup}_HVGsubset_scVI_MODEL/\"),\n",
    "               overwrite = True, \n",
    "               save_anndata = False )   "
   ]
  },
  {
   "cell_type": "code",
   "execution_count": 18,
   "id": "629ba2bd-f6be-44ef-8fca-bbdf891bf25f",
   "metadata": {
    "execution": {
     "iopub.execute_input": "2024-10-17T14:04:39.202611Z",
     "iopub.status.busy": "2024-10-17T14:04:39.201470Z",
     "iopub.status.idle": "2024-10-17T14:04:39.207494Z",
     "shell.execute_reply": "2024-10-17T14:04:39.206325Z"
    },
    "papermill": {
     "duration": 0.097326,
     "end_time": "2024-10-17T14:04:39.209622",
     "exception": false,
     "start_time": "2024-10-17T14:04:39.112296",
     "status": "completed"
    },
    "tags": []
   },
   "outputs": [],
   "source": [
    "# To load the model do (after loading corresponding adata):\n",
    "# model = scvi.model.SCVI.load(here('{}/results/01_{}_HVGsubset_scVI_MODEL/'.format(workDir, cellGroup)), \n",
    "#                              adata, \n",
    "#                              use_gpu=True)"
   ]
  },
  {
   "cell_type": "raw",
   "id": "975e84d0-f56b-498d-b3a8-c9219cf22e53",
   "metadata": {
    "papermill": {
     "duration": 0.014374,
     "end_time": "2024-10-17T14:04:39.344495",
     "exception": false,
     "start_time": "2024-10-17T14:04:39.330121",
     "status": "completed"
    },
    "tags": []
   },
   "source": [
    "session_info.show()"
   ]
  }
 ],
 "metadata": {
  "kernelspec": {
   "display_name": "Python 3 (ipykernel)",
   "language": "python",
   "name": "python3"
  },
  "language_info": {
   "codemirror_mode": {
    "name": "ipython",
    "version": 3
   },
   "file_extension": ".py",
   "mimetype": "text/x-python",
   "name": "python",
   "nbconvert_exporter": "python",
   "pygments_lexer": "ipython3",
   "version": "3.9.19"
  },
  "papermill": {
   "default_parameters": {},
   "duration": 34.302159,
   "end_time": "2024-10-17T14:04:42.892361",
   "environment_variables": {},
   "exception": null,
   "input_path": "./Platelets/02_integration_scVI_scANVI.ipynb",
   "output_path": "./Platelets/02_integration_scVI_scANVI.executed.ipynb",
   "parameters": {},
   "start_time": "2024-10-17T14:04:08.590202",
   "version": "2.5.0"
  }
 },
 "nbformat": 4,
 "nbformat_minor": 5
}