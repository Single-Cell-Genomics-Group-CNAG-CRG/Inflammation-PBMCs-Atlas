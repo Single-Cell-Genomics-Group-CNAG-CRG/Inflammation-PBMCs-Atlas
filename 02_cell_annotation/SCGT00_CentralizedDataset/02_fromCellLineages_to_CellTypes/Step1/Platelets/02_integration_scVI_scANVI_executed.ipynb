{
 "cells": [
  {
   "cell_type": "code",
   "execution_count": 1,
   "id": "2dd1425a-0c07-465e-b522-9e3cc5cb93a7",
   "metadata": {
    "execution": {
     "iopub.execute_input": "2024-10-17T13:57:06.252510Z",
     "iopub.status.busy": "2024-10-17T13:57:06.251833Z",
     "iopub.status.idle": "2024-10-17T13:57:09.848419Z",
     "shell.execute_reply": "2024-10-17T13:57:09.847582Z"
    },
    "papermill": {
     "duration": 3.61383,
     "end_time": "2024-10-17T13:57:09.849877",
     "exception": false,
     "start_time": "2024-10-17T13:57:06.236047",
     "status": "completed"
    },
    "tags": []
   },
   "outputs": [
    {
     "name": "stderr",
     "output_type": "stream",
     "text": [
      "/home/dmaspero/miniconda3/envs/scarches/lib/python3.9/site-packages/tqdm/auto.py:21: TqdmWarning: IProgress not found. Please update jupyter and ipywidgets. See https://ipywidgets.readthedocs.io/en/stable/user_install.html\n",
      "  from .autonotebook import tqdm as notebook_tqdm\n"
     ]
    },
    {
     "data": {
      "text/plain": [
       "True"
      ]
     },
     "execution_count": 1,
     "metadata": {},
     "output_type": "execute_result"
    }
   ],
   "source": [
    "import os\n",
    "import sys\n",
    "\n",
    "import numpy as np\n",
    "import matplotlib.pyplot as plt\n",
    "\n",
    "import scanpy as sc\n",
    "import scvi\n",
    "import torch\n",
    "\n",
    "from pytorch_lightning.loggers import WandbLogger\n",
    "import wandb\n",
    "from dotenv import load_dotenv\n",
    "\n",
    "import session_info\n",
    "import warnings\n",
    "from pyprojroot.here import here\n",
    "\n",
    "warnings.filterwarnings(\"ignore\")\n",
    "sys.path.insert(1, str(here('bin')))\n",
    "\n",
    "torch.set_float32_matmul_precision('high')\n",
    "\n",
    "#plt.style.use(['science','nature','no-latex'])\n",
    "dpi_fig_save = 300\n",
    "sc.set_figure_params(dpi=100, dpi_save=dpi_fig_save, vector_friendly=True)\n",
    "\n",
    "load_dotenv(here('.env'))"
   ]
  },
  {
   "cell_type": "code",
   "execution_count": 2,
   "id": "09c897fc-744b-43de-a681-718fb5d327fa",
   "metadata": {
    "execution": {
     "iopub.execute_input": "2024-10-17T13:57:09.865289Z",
     "iopub.status.busy": "2024-10-17T13:57:09.864908Z",
     "iopub.status.idle": "2024-10-17T13:57:09.868737Z",
     "shell.execute_reply": "2024-10-17T13:57:09.868064Z"
    },
    "papermill": {
     "duration": 0.013126,
     "end_time": "2024-10-17T13:57:09.869943",
     "exception": false,
     "start_time": "2024-10-17T13:57:09.856817",
     "status": "completed"
    },
    "tags": []
   },
   "outputs": [],
   "source": [
    "class CustomWandbLogger(WandbLogger):\n",
    "    @property\n",
    "    def save_dir(self):\n",
    "        return self.experiment.dir"
   ]
  },
  {
   "cell_type": "code",
   "execution_count": 3,
   "id": "8ee6662f-5d45-4137-80a5-bb0b9ae8d71f",
   "metadata": {
    "execution": {
     "iopub.execute_input": "2024-10-17T13:57:09.884046Z",
     "iopub.status.busy": "2024-10-17T13:57:09.883836Z",
     "iopub.status.idle": "2024-10-17T13:57:09.891122Z",
     "shell.execute_reply": "2024-10-17T13:57:09.890413Z"
    },
    "papermill": {
     "duration": 0.016676,
     "end_time": "2024-10-17T13:57:09.893047",
     "exception": false,
     "start_time": "2024-10-17T13:57:09.876371",
     "status": "completed"
    },
    "tags": []
   },
   "outputs": [
    {
     "name": "stderr",
     "output_type": "stream",
     "text": [
      "Seed set to 0\n"
     ]
    },
    {
     "name": "stdout",
     "output_type": "stream",
     "text": [
      "Last run with scvi-tools version: 1.1.2\n"
     ]
    }
   ],
   "source": [
    "scvi.settings.seed = 0\n",
    "print(\"Last run with scvi-tools version:\", scvi.__version__)"
   ]
  },
  {
   "cell_type": "markdown",
   "id": "a81037ff-5998-482a-ba86-520f757311a9",
   "metadata": {
    "papermill": {
     "duration": 0.007796,
     "end_time": "2024-10-17T13:57:09.908622",
     "exception": false,
     "start_time": "2024-10-17T13:57:09.900826",
     "status": "completed"
    },
    "tags": []
   },
   "source": [
    "**Setting parameters** "
   ]
  },
  {
   "cell_type": "code",
   "execution_count": 4,
   "id": "56c27966-8f10-4c93-8b1a-1fa75f005e41",
   "metadata": {
    "execution": {
     "iopub.execute_input": "2024-10-17T13:57:09.925364Z",
     "iopub.status.busy": "2024-10-17T13:57:09.925071Z",
     "iopub.status.idle": "2024-10-17T13:57:09.929136Z",
     "shell.execute_reply": "2024-10-17T13:57:09.928190Z"
    },
    "papermill": {
     "duration": 0.014746,
     "end_time": "2024-10-17T13:57:09.931002",
     "exception": false,
     "start_time": "2024-10-17T13:57:09.916256",
     "status": "completed"
    },
    "tags": []
   },
   "outputs": [],
   "source": [
    "overwriteFigures = True\n",
    "overwriteData = True"
   ]
  },
  {
   "cell_type": "code",
   "execution_count": 5,
   "id": "c86fccd3-a4fe-415b-8f4e-e2ceb3ec128a",
   "metadata": {
    "execution": {
     "iopub.execute_input": "2024-10-17T13:57:09.948667Z",
     "iopub.status.busy": "2024-10-17T13:57:09.948387Z",
     "iopub.status.idle": "2024-10-17T13:57:09.952557Z",
     "shell.execute_reply": "2024-10-17T13:57:09.951595Z"
    },
    "papermill": {
     "duration": 0.015202,
     "end_time": "2024-10-17T13:57:09.954580",
     "exception": false,
     "start_time": "2024-10-17T13:57:09.939378",
     "status": "completed"
    },
    "tags": []
   },
   "outputs": [],
   "source": [
    "cellGroup = 'Platelets'\n",
    "workDir = os.getcwd()"
   ]
  },
  {
   "cell_type": "code",
   "execution_count": 6,
   "id": "2dee4d55-d168-467b-b867-a61fed9d6af1",
   "metadata": {
    "execution": {
     "iopub.execute_input": "2024-10-17T13:57:09.975364Z",
     "iopub.status.busy": "2024-10-17T13:57:09.974857Z",
     "iopub.status.idle": "2024-10-17T13:57:09.981023Z",
     "shell.execute_reply": "2024-10-17T13:57:09.979665Z"
    },
    "papermill": {
     "duration": 0.020688,
     "end_time": "2024-10-17T13:57:09.984388",
     "exception": false,
     "start_time": "2024-10-17T13:57:09.963700",
     "status": "completed"
    },
    "tags": []
   },
   "outputs": [],
   "source": [
    "annotationLevel = os.path.basename(os.path.normpath(workDir))"
   ]
  },
  {
   "cell_type": "code",
   "execution_count": 7,
   "id": "11e53cd5-b746-4152-89cb-c2f0c15d90b3",
   "metadata": {
    "execution": {
     "iopub.execute_input": "2024-10-17T13:57:10.006305Z",
     "iopub.status.busy": "2024-10-17T13:57:10.005995Z",
     "iopub.status.idle": "2024-10-17T13:57:10.012215Z",
     "shell.execute_reply": "2024-10-17T13:57:10.011001Z"
    },
    "papermill": {
     "duration": 0.018678,
     "end_time": "2024-10-17T13:57:10.015232",
     "exception": false,
     "start_time": "2024-10-17T13:57:09.996554",
     "status": "completed"
    },
    "tags": []
   },
   "outputs": [
    {
     "data": {
      "text/plain": [
       "'/scratch_isilon/groups/singlecell/shared/projects/Inflammation-PBMCs-Atlas/02_cell_annotation/SCGT00_CentralizedDataset/02_fromCellLineages_to_CellTypes/Step1'"
      ]
     },
     "execution_count": 7,
     "metadata": {},
     "output_type": "execute_result"
    }
   ],
   "source": [
    "workDir"
   ]
  },
  {
   "cell_type": "markdown",
   "id": "171d2f06-9a44-4fcb-b437-35dc546674b6",
   "metadata": {
    "papermill": {
     "duration": 0.012366,
     "end_time": "2024-10-17T13:57:10.055531",
     "exception": false,
     "start_time": "2024-10-17T13:57:10.043165",
     "status": "completed"
    },
    "tags": []
   },
   "source": [
    "**Load data**"
   ]
  },
  {
   "cell_type": "code",
   "execution_count": 8,
   "id": "429f34fe-dde6-4cc9-9f75-7de8f85c5ffe",
   "metadata": {
    "execution": {
     "iopub.execute_input": "2024-10-17T13:57:10.080447Z",
     "iopub.status.busy": "2024-10-17T13:57:10.079928Z",
     "iopub.status.idle": "2024-10-17T13:57:10.385248Z",
     "shell.execute_reply": "2024-10-17T13:57:10.384828Z"
    },
    "papermill": {
     "duration": 0.320775,
     "end_time": "2024-10-17T13:57:10.389184",
     "exception": false,
     "start_time": "2024-10-17T13:57:10.068409",
     "status": "completed"
    },
    "tags": []
   },
   "outputs": [
    {
     "data": {
      "text/plain": [
       "AnnData object with n_obs × n_vars = 3236 × 137\n",
       "    obs: 'studyID', 'libraryID', 'sampleID', 'chemistry', 'technology', 'patientID', 'disease', 'timepoint_replicate', 'treatmentStatus', 'therapyResponse', 'sex', 'age', 'BMI', 'binned_age', 'diseaseStatus', 'smokingStatus', 'ethnicity', 'institute', 'diseaseGroup', 'batches', 'n_genes_by_counts', 'log1p_n_genes_by_counts', 'total_counts', 'log1p_total_counts', 'pct_counts_in_top_20_genes', 'total_counts_mt', 'log1p_total_counts_mt', 'pct_counts_mt', 'total_counts_ribo', 'log1p_total_counts_ribo', 'pct_counts_ribo', 'total_counts_hb', 'log1p_total_counts_hb', 'pct_counts_hb', 'total_counts_plt', 'log1p_total_counts_plt', 'pct_counts_plt', 'S_score', 'G2M_score', 'phase'\n",
       "    var: 'hgnc_id', 'symbol', 'locus_group', 'HUGO_status', 'mt', 'ribo', 'hb', 'plt', 'n_cells_by_counts', 'mean_counts', 'log1p_mean_counts', 'pct_dropout_by_counts', 'total_counts', 'log1p_total_counts', 'highly_variable', 'means', 'dispersions', 'dispersions_norm', 'highly_variable_nbatches', 'highly_variable_intersection'\n",
       "    uns: 'disease_colors', 'hvg', 'log1p'\n",
       "    layers: 'counts', 'log1p_10e4_counts'"
      ]
     },
     "execution_count": 8,
     "metadata": {},
     "output_type": "execute_result"
    }
   ],
   "source": [
    "adata = sc.read_h5ad(here(f\"{workDir}/{cellGroup}/results/01_{cellGroup}_normalized_HVGsubset.h5ad\"))\n",
    "adata"
   ]
  },
  {
   "cell_type": "markdown",
   "id": "8ac79f3b-d5af-41fa-8904-1e9ac1cbe2fb",
   "metadata": {
    "papermill": {
     "duration": 0.012908,
     "end_time": "2024-10-17T13:57:10.414980",
     "exception": false,
     "start_time": "2024-10-17T13:57:10.402072",
     "status": "completed"
    },
    "tags": []
   },
   "source": [
    "## scVI integration"
   ]
  },
  {
   "cell_type": "markdown",
   "id": "9544847d-d17f-4811-b14b-760446d54d32",
   "metadata": {
    "execution": {
     "iopub.execute_input": "2024-03-25T16:49:04.004504Z",
     "iopub.status.busy": "2024-03-25T16:49:04.004143Z",
     "iopub.status.idle": "2024-03-25T16:49:04.010148Z",
     "shell.execute_reply": "2024-03-25T16:49:04.009146Z",
     "shell.execute_reply.started": "2024-03-25T16:49:04.004477Z"
    },
    "papermill": {
     "duration": 0.01015,
     "end_time": "2024-10-17T13:57:10.436082",
     "exception": false,
     "start_time": "2024-10-17T13:57:10.425932",
     "status": "completed"
    },
    "tags": []
   },
   "source": [
    "**scVI parameters**"
   ]
  },
  {
   "cell_type": "code",
   "execution_count": 9,
   "id": "208966eb-545a-4c02-854c-0ed0487ef5b3",
   "metadata": {
    "execution": {
     "iopub.execute_input": "2024-10-17T13:57:10.457526Z",
     "iopub.status.busy": "2024-10-17T13:57:10.456995Z",
     "iopub.status.idle": "2024-10-17T13:57:10.467377Z",
     "shell.execute_reply": "2024-10-17T13:57:10.466211Z"
    },
    "papermill": {
     "duration": 0.024381,
     "end_time": "2024-10-17T13:57:10.470495",
     "exception": false,
     "start_time": "2024-10-17T13:57:10.446114",
     "status": "completed"
    },
    "tags": []
   },
   "outputs": [],
   "source": [
    "# https://docs.scvi-tools.org/en/stable/api/reference/scvi.train.Trainer.html#scvi.train.Trainer\n",
    "setup_kwargs = dict(\n",
    "    layer=\"counts\", \n",
    "    batch_key='libraryID', \n",
    "    categorical_covariate_keys = ['disease', 'sampleID'],\n",
    ")\n",
    "\n",
    "scvi_kwargs = dict(n_hidden=512,\n",
    "                   n_latent=10, # reduced to 20 after step 00 (main) and to 10 after step 03\n",
    "                   n_layers=2,\n",
    "                   gene_likelihood='nb')\n",
    "\n",
    "trainer_kwargs = dict(\n",
    "    checkpointing_monitor = 'elbo_validation',\n",
    "    early_stopping_monitor = 'reconstruction_loss_validation',\n",
    "    early_stopping_patience = 10,\n",
    "    early_stopping_min_delta=0.1,\n",
    "    early_stopping = True,\n",
    "    max_epochs = 1000,\n",
    "\n",
    "    #logger = # wandb\n",
    ")\n",
    "# https://docs.scvi-tools.org/en/stable/api/reference/scvi.train.TrainingPlan.html#scvi.train.TrainingPlan\n",
    "plan_kwargs = dict(\n",
    "    lr = 5e-4,\n",
    "    #reduce_lr_on_plateau = True\n",
    ")\n",
    "\n",
    "# https://docs.scvi-tools.org/en/stable/api/reference/scvi.module.VAE.html#scvi.module.VAE\n",
    "#vae = dict(\n",
    "#    use_layer_norm='both',\n",
    "#    use_batch_norm='none',\n",
    "#    encode_covariates=True,\n",
    "#    deeply_inject_covariates=False\n",
    "#)\n",
    "parameter_dict = setup_kwargs | scvi_kwargs | trainer_kwargs | plan_kwargs"
   ]
  },
  {
   "cell_type": "markdown",
   "id": "1362366a-c16b-4c11-964b-b9c5f82f7b29",
   "metadata": {
    "papermill": {
     "duration": 0.01074,
     "end_time": "2024-10-17T13:57:10.492835",
     "exception": false,
     "start_time": "2024-10-17T13:57:10.482095",
     "status": "completed"
    },
    "tags": []
   },
   "source": [
    "**wandb parameter**"
   ]
  },
  {
   "cell_type": "code",
   "execution_count": 10,
   "id": "0496e33a-8ca5-423f-b42f-34a59760708c",
   "metadata": {
    "execution": {
     "iopub.execute_input": "2024-10-17T13:57:10.515266Z",
     "iopub.status.busy": "2024-10-17T13:57:10.514756Z",
     "iopub.status.idle": "2024-10-17T13:57:10.523048Z",
     "shell.execute_reply": "2024-10-17T13:57:10.521608Z"
    },
    "papermill": {
     "duration": 0.022378,
     "end_time": "2024-10-17T13:57:10.525431",
     "exception": false,
     "start_time": "2024-10-17T13:57:10.503053",
     "status": "completed"
    },
    "tags": []
   },
   "outputs": [
    {
     "data": {
      "text/plain": [
       "'Step1_Platelets'"
      ]
     },
     "execution_count": 10,
     "metadata": {},
     "output_type": "execute_result"
    }
   ],
   "source": [
    "run_name = f\"{annotationLevel}_{cellGroup}\"\n",
    "run_name"
   ]
  },
  {
   "cell_type": "code",
   "execution_count": 11,
   "id": "b0021327-95a2-4002-bf32-2c5779a99505",
   "metadata": {
    "execution": {
     "iopub.execute_input": "2024-10-17T13:57:10.550410Z",
     "iopub.status.busy": "2024-10-17T13:57:10.549887Z",
     "iopub.status.idle": "2024-10-17T13:57:10.600659Z",
     "shell.execute_reply": "2024-10-17T13:57:10.599691Z"
    },
    "papermill": {
     "duration": 0.066427,
     "end_time": "2024-10-17T13:57:10.603572",
     "exception": false,
     "start_time": "2024-10-17T13:57:10.537145",
     "status": "completed"
    },
    "tags": []
   },
   "outputs": [],
   "source": [
    "logger = CustomWandbLogger(name = run_name, project='inflammation_atlas_R1', config=parameter_dict)"
   ]
  },
  {
   "cell_type": "markdown",
   "id": "c237eee1-a976-4915-9b7f-b014bf33f47d",
   "metadata": {
    "papermill": {
     "duration": 0.012811,
     "end_time": "2024-10-17T13:57:10.636002",
     "exception": false,
     "start_time": "2024-10-17T13:57:10.623191",
     "status": "completed"
    },
    "tags": []
   },
   "source": [
    "**Running integration**"
   ]
  },
  {
   "cell_type": "code",
   "execution_count": 12,
   "id": "aff97c53-1aba-462e-8a77-f1aec9cf724c",
   "metadata": {
    "execution": {
     "iopub.execute_input": "2024-10-17T13:57:10.661338Z",
     "iopub.status.busy": "2024-10-17T13:57:10.660825Z",
     "iopub.status.idle": "2024-10-17T13:57:10.760601Z",
     "shell.execute_reply": "2024-10-17T13:57:10.759219Z"
    },
    "papermill": {
     "duration": 0.115718,
     "end_time": "2024-10-17T13:57:10.763853",
     "exception": false,
     "start_time": "2024-10-17T13:57:10.648135",
     "status": "completed"
    },
    "tags": []
   },
   "outputs": [
    {
     "name": "stderr",
     "output_type": "stream",
     "text": [
      "CUDA backend failed to initialize: Unable to use CUDA because of the following issues with CUDA components:\n",
      "Outdated cuSPARSE installation found.\n",
      "Version JAX was built against: 12200\n",
      "Minimum supported: 12100\n",
      "Installed version: 12002\n",
      "The local installation version must be no lower than 12100. (Set TF_CPP_MIN_LOG_LEVEL=0 and rerun for more info.)\n"
     ]
    }
   ],
   "source": [
    "scvi.model.SCVI.setup_anndata(adata, \n",
    "                              **setup_kwargs)"
   ]
  },
  {
   "cell_type": "code",
   "execution_count": 13,
   "id": "1a56f448-cf44-47c1-81a4-a89caa930fec",
   "metadata": {
    "execution": {
     "iopub.execute_input": "2024-10-17T13:57:10.793336Z",
     "iopub.status.busy": "2024-10-17T13:57:10.792313Z",
     "iopub.status.idle": "2024-10-17T13:57:10.836792Z",
     "shell.execute_reply": "2024-10-17T13:57:10.835867Z"
    },
    "papermill": {
     "duration": 0.062238,
     "end_time": "2024-10-17T13:57:10.839837",
     "exception": false,
     "start_time": "2024-10-17T13:57:10.777599",
     "status": "completed"
    },
    "tags": []
   },
   "outputs": [],
   "source": [
    "model = scvi.model.SCVI(adata, **scvi_kwargs)"
   ]
  },
  {
   "cell_type": "code",
   "execution_count": 14,
   "id": "2735f010-4f24-4ae8-9740-a8cfeb335e9a",
   "metadata": {
    "execution": {
     "iopub.execute_input": "2024-10-17T13:57:10.869258Z",
     "iopub.status.busy": "2024-10-17T13:57:10.868765Z",
     "iopub.status.idle": "2024-10-17T13:57:26.509735Z",
     "shell.execute_reply": "2024-10-17T13:57:26.509067Z"
    },
    "papermill": {
     "duration": 15.658556,
     "end_time": "2024-10-17T13:57:26.512708",
     "exception": false,
     "start_time": "2024-10-17T13:57:10.854152",
     "status": "completed"
    },
    "tags": []
   },
   "outputs": [
    {
     "name": "stderr",
     "output_type": "stream",
     "text": [
      "GPU available: True (cuda), used: True\n"
     ]
    },
    {
     "name": "stderr",
     "output_type": "stream",
     "text": [
      "TPU available: False, using: 0 TPU cores\n"
     ]
    },
    {
     "name": "stderr",
     "output_type": "stream",
     "text": [
      "IPU available: False, using: 0 IPUs\n"
     ]
    },
    {
     "name": "stderr",
     "output_type": "stream",
     "text": [
      "HPU available: False, using: 0 HPUs\n"
     ]
    },
    {
     "name": "stderr",
     "output_type": "stream",
     "text": [
      "\u001b[34m\u001b[1mwandb\u001b[0m: Currently logged in as: \u001b[33mdav1989\u001b[0m (\u001b[33minflammation\u001b[0m). Use \u001b[1m`wandb login --relogin`\u001b[0m to force relogin\n"
     ]
    },
    {
     "name": "stderr",
     "output_type": "stream",
     "text": [
      "\u001b[34m\u001b[1mwandb\u001b[0m: wandb version 0.18.3 is available!  To upgrade, please run:\n",
      "\u001b[34m\u001b[1mwandb\u001b[0m:  $ pip install wandb --upgrade\n"
     ]
    },
    {
     "name": "stderr",
     "output_type": "stream",
     "text": [
      "\u001b[34m\u001b[1mwandb\u001b[0m: Tracking run with wandb version 0.16.5\n"
     ]
    },
    {
     "name": "stderr",
     "output_type": "stream",
     "text": [
      "\u001b[34m\u001b[1mwandb\u001b[0m: Run data is saved locally in \u001b[35m\u001b[1m./wandb/run-20241017_135713-avklqm5l\u001b[0m\n",
      "\u001b[34m\u001b[1mwandb\u001b[0m: Run \u001b[1m`wandb offline`\u001b[0m to turn off syncing.\n"
     ]
    },
    {
     "name": "stderr",
     "output_type": "stream",
     "text": [
      "\u001b[34m\u001b[1mwandb\u001b[0m: Syncing run \u001b[33mStep1_Platelets\u001b[0m\n"
     ]
    },
    {
     "name": "stderr",
     "output_type": "stream",
     "text": [
      "\u001b[34m\u001b[1mwandb\u001b[0m: ⭐️ View project at \u001b[34m\u001b[4mhttps://wandb.ai/inflammation/inflammation_atlas_R1\u001b[0m\n"
     ]
    },
    {
     "name": "stderr",
     "output_type": "stream",
     "text": [
      "\u001b[34m\u001b[1mwandb\u001b[0m: 🚀 View run at \u001b[34m\u001b[4mhttps://wandb.ai/inflammation/inflammation_atlas_R1/runs/avklqm5l/workspace\u001b[0m\n"
     ]
    },
    {
     "name": "stderr",
     "output_type": "stream",
     "text": [
      "LOCAL_RANK: 0 - CUDA_VISIBLE_DEVICES: [0]\n"
     ]
    },
    {
     "name": "stdout",
     "output_type": "stream",
     "text": [
      "\r",
      "Training:   0%|                                                                                                                     | 0/1000 [00:00<?, ?it/s]"
     ]
    },
    {
     "name": "stdout",
     "output_type": "stream",
     "text": [
      "\r",
      "Epoch 1/1000:   0%|                                                                                                                 | 0/1000 [00:00<?, ?it/s]"
     ]
    },
    {
     "name": "stdout",
     "output_type": "stream",
     "text": [
      "\r",
      "Epoch 1/1000:   0%|                                                                                                         | 1/1000 [00:00<08:33,  1.94it/s]"
     ]
    },
    {
     "name": "stdout",
     "output_type": "stream",
     "text": [
      "\r",
      "Epoch 1/1000:   0%|                                                 | 1/1000 [00:00<08:33,  1.94it/s, v_num=qm5l, train_loss_step=89.6, train_loss_epoch=106]"
     ]
    },
    {
     "name": "stdout",
     "output_type": "stream",
     "text": [
      "\r",
      "Epoch 2/1000:   0%|                                                 | 1/1000 [00:00<08:33,  1.94it/s, v_num=qm5l, train_loss_step=89.6, train_loss_epoch=106]"
     ]
    },
    {
     "name": "stdout",
     "output_type": "stream",
     "text": [
      "\r",
      "Epoch 2/1000:   0%|                                                 | 2/1000 [00:00<06:50,  2.43it/s, v_num=qm5l, train_loss_step=89.6, train_loss_epoch=106]"
     ]
    },
    {
     "name": "stdout",
     "output_type": "stream",
     "text": [
      "\r",
      "Epoch 2/1000:   0%|                                                | 2/1000 [00:00<06:50,  2.43it/s, v_num=qm5l, train_loss_step=85.6, train_loss_epoch=88.5]"
     ]
    },
    {
     "name": "stdout",
     "output_type": "stream",
     "text": [
      "\r",
      "Epoch 3/1000:   0%|                                                | 2/1000 [00:00<06:50,  2.43it/s, v_num=qm5l, train_loss_step=85.6, train_loss_epoch=88.5]"
     ]
    },
    {
     "name": "stdout",
     "output_type": "stream",
     "text": [
      "\r",
      "Epoch 3/1000:   0%|▏                                               | 3/1000 [00:01<06:00,  2.76it/s, v_num=qm5l, train_loss_step=85.6, train_loss_epoch=88.5]"
     ]
    },
    {
     "name": "stdout",
     "output_type": "stream",
     "text": [
      "\r",
      "Epoch 3/1000:   0%|▏                                                 | 3/1000 [00:01<06:00,  2.76it/s, v_num=qm5l, train_loss_step=81, train_loss_epoch=85.9]"
     ]
    },
    {
     "name": "stdout",
     "output_type": "stream",
     "text": [
      "\r",
      "Epoch 4/1000:   0%|▏                                                 | 3/1000 [00:01<06:00,  2.76it/s, v_num=qm5l, train_loss_step=81, train_loss_epoch=85.9]"
     ]
    },
    {
     "name": "stdout",
     "output_type": "stream",
     "text": [
      "\r",
      "Epoch 4/1000:   0%|▏                                                 | 4/1000 [00:01<04:46,  3.48it/s, v_num=qm5l, train_loss_step=81, train_loss_epoch=85.9]"
     ]
    },
    {
     "name": "stdout",
     "output_type": "stream",
     "text": [
      "\r",
      "Epoch 4/1000:   0%|▏                                               | 4/1000 [00:01<04:46,  3.48it/s, v_num=qm5l, train_loss_step=84.9, train_loss_epoch=84.4]"
     ]
    },
    {
     "name": "stdout",
     "output_type": "stream",
     "text": [
      "\r",
      "Epoch 5/1000:   0%|▏                                               | 4/1000 [00:01<04:46,  3.48it/s, v_num=qm5l, train_loss_step=84.9, train_loss_epoch=84.4]"
     ]
    },
    {
     "name": "stdout",
     "output_type": "stream",
     "text": [
      "\r",
      "Epoch 5/1000:   0%|▏                                               | 5/1000 [00:01<03:55,  4.23it/s, v_num=qm5l, train_loss_step=84.9, train_loss_epoch=84.4]"
     ]
    },
    {
     "name": "stdout",
     "output_type": "stream",
     "text": [
      "\r",
      "Epoch 5/1000:   0%|▏                                               | 5/1000 [00:01<03:55,  4.23it/s, v_num=qm5l, train_loss_step=77.7, train_loss_epoch=83.3]"
     ]
    },
    {
     "name": "stdout",
     "output_type": "stream",
     "text": [
      "\r",
      "Epoch 6/1000:   0%|▏                                               | 5/1000 [00:01<03:55,  4.23it/s, v_num=qm5l, train_loss_step=77.7, train_loss_epoch=83.3]"
     ]
    },
    {
     "name": "stdout",
     "output_type": "stream",
     "text": [
      "\r",
      "Epoch 6/1000:   1%|▎                                               | 6/1000 [00:01<03:23,  4.87it/s, v_num=qm5l, train_loss_step=77.7, train_loss_epoch=83.3]"
     ]
    },
    {
     "name": "stdout",
     "output_type": "stream",
     "text": [
      "\r",
      "Epoch 6/1000:   1%|▎                                               | 6/1000 [00:01<03:23,  4.87it/s, v_num=qm5l, train_loss_step=88.1, train_loss_epoch=82.4]"
     ]
    },
    {
     "name": "stdout",
     "output_type": "stream",
     "text": [
      "\r",
      "Epoch 7/1000:   1%|▎                                               | 6/1000 [00:01<03:23,  4.87it/s, v_num=qm5l, train_loss_step=88.1, train_loss_epoch=82.4]"
     ]
    },
    {
     "name": "stdout",
     "output_type": "stream",
     "text": [
      "\r",
      "Epoch 7/1000:   1%|▎                                               | 7/1000 [00:01<03:03,  5.40it/s, v_num=qm5l, train_loss_step=88.1, train_loss_epoch=82.4]"
     ]
    },
    {
     "name": "stdout",
     "output_type": "stream",
     "text": [
      "\r",
      "Epoch 7/1000:   1%|▎                                               | 7/1000 [00:01<03:03,  5.40it/s, v_num=qm5l, train_loss_step=81.9, train_loss_epoch=81.7]"
     ]
    },
    {
     "name": "stdout",
     "output_type": "stream",
     "text": [
      "\r",
      "Epoch 8/1000:   1%|▎                                               | 7/1000 [00:01<03:03,  5.40it/s, v_num=qm5l, train_loss_step=81.9, train_loss_epoch=81.7]"
     ]
    },
    {
     "name": "stdout",
     "output_type": "stream",
     "text": [
      "\r",
      "Epoch 8/1000:   1%|▍                                               | 8/1000 [00:01<02:50,  5.80it/s, v_num=qm5l, train_loss_step=81.9, train_loss_epoch=81.7]"
     ]
    },
    {
     "name": "stdout",
     "output_type": "stream",
     "text": [
      "\r",
      "Epoch 8/1000:   1%|▍                                               | 8/1000 [00:01<02:50,  5.80it/s, v_num=qm5l, train_loss_step=83.9, train_loss_epoch=81.2]"
     ]
    },
    {
     "name": "stdout",
     "output_type": "stream",
     "text": [
      "\r",
      "Epoch 9/1000:   1%|▍                                               | 8/1000 [00:01<02:50,  5.80it/s, v_num=qm5l, train_loss_step=83.9, train_loss_epoch=81.2]"
     ]
    },
    {
     "name": "stdout",
     "output_type": "stream",
     "text": [
      "\r",
      "Epoch 9/1000:   1%|▍                                               | 9/1000 [00:02<02:42,  6.11it/s, v_num=qm5l, train_loss_step=83.9, train_loss_epoch=81.2]"
     ]
    },
    {
     "name": "stdout",
     "output_type": "stream",
     "text": [
      "\r",
      "Epoch 9/1000:   1%|▍                                               | 9/1000 [00:02<02:42,  6.11it/s, v_num=qm5l, train_loss_step=80.1, train_loss_epoch=80.7]"
     ]
    },
    {
     "name": "stdout",
     "output_type": "stream",
     "text": [
      "\r",
      "Epoch 10/1000:   1%|▍                                              | 9/1000 [00:02<02:42,  6.11it/s, v_num=qm5l, train_loss_step=80.1, train_loss_epoch=80.7]"
     ]
    },
    {
     "name": "stdout",
     "output_type": "stream",
     "text": [
      "\r",
      "Epoch 10/1000:   1%|▍                                             | 10/1000 [00:02<02:35,  6.36it/s, v_num=qm5l, train_loss_step=80.1, train_loss_epoch=80.7]"
     ]
    },
    {
     "name": "stdout",
     "output_type": "stream",
     "text": [
      "\r",
      "Epoch 10/1000:   1%|▍                                             | 10/1000 [00:02<02:35,  6.36it/s, v_num=qm5l, train_loss_step=81.4, train_loss_epoch=80.3]"
     ]
    },
    {
     "name": "stdout",
     "output_type": "stream",
     "text": [
      "\r",
      "Epoch 11/1000:   1%|▍                                             | 10/1000 [00:02<02:35,  6.36it/s, v_num=qm5l, train_loss_step=81.4, train_loss_epoch=80.3]"
     ]
    },
    {
     "name": "stdout",
     "output_type": "stream",
     "text": [
      "\r",
      "Epoch 11/1000:   1%|▌                                             | 11/1000 [00:02<02:31,  6.54it/s, v_num=qm5l, train_loss_step=81.4, train_loss_epoch=80.3]"
     ]
    },
    {
     "name": "stdout",
     "output_type": "stream",
     "text": [
      "\r",
      "Epoch 11/1000:   1%|▌                                             | 11/1000 [00:02<02:31,  6.54it/s, v_num=qm5l, train_loss_step=77.5, train_loss_epoch=79.9]"
     ]
    },
    {
     "name": "stdout",
     "output_type": "stream",
     "text": [
      "\r",
      "Epoch 12/1000:   1%|▌                                             | 11/1000 [00:02<02:31,  6.54it/s, v_num=qm5l, train_loss_step=77.5, train_loss_epoch=79.9]"
     ]
    },
    {
     "name": "stdout",
     "output_type": "stream",
     "text": [
      "\r",
      "Epoch 12/1000:   1%|▌                                             | 12/1000 [00:02<02:28,  6.67it/s, v_num=qm5l, train_loss_step=77.5, train_loss_epoch=79.9]"
     ]
    },
    {
     "name": "stdout",
     "output_type": "stream",
     "text": [
      "\r",
      "Epoch 12/1000:   1%|▌                                             | 12/1000 [00:02<02:28,  6.67it/s, v_num=qm5l, train_loss_step=78.6, train_loss_epoch=79.5]"
     ]
    },
    {
     "name": "stdout",
     "output_type": "stream",
     "text": [
      "\r",
      "Epoch 13/1000:   1%|▌                                             | 12/1000 [00:02<02:28,  6.67it/s, v_num=qm5l, train_loss_step=78.6, train_loss_epoch=79.5]"
     ]
    },
    {
     "name": "stdout",
     "output_type": "stream",
     "text": [
      "\r",
      "Epoch 13/1000:   1%|▌                                             | 13/1000 [00:02<02:25,  6.77it/s, v_num=qm5l, train_loss_step=78.6, train_loss_epoch=79.5]"
     ]
    },
    {
     "name": "stdout",
     "output_type": "stream",
     "text": [
      "\r",
      "Epoch 13/1000:   1%|▌                                             | 13/1000 [00:02<02:25,  6.77it/s, v_num=qm5l, train_loss_step=78.5, train_loss_epoch=79.2]"
     ]
    },
    {
     "name": "stdout",
     "output_type": "stream",
     "text": [
      "\r",
      "Epoch 14/1000:   1%|▌                                             | 13/1000 [00:02<02:25,  6.77it/s, v_num=qm5l, train_loss_step=78.5, train_loss_epoch=79.2]"
     ]
    },
    {
     "name": "stdout",
     "output_type": "stream",
     "text": [
      "\r",
      "Epoch 14/1000:   1%|▋                                             | 14/1000 [00:02<02:23,  6.85it/s, v_num=qm5l, train_loss_step=78.5, train_loss_epoch=79.2]"
     ]
    },
    {
     "name": "stdout",
     "output_type": "stream",
     "text": [
      "\r",
      "Epoch 14/1000:   1%|▋                                             | 14/1000 [00:02<02:23,  6.85it/s, v_num=qm5l, train_loss_step=87.1, train_loss_epoch=78.9]"
     ]
    },
    {
     "name": "stdout",
     "output_type": "stream",
     "text": [
      "\r",
      "Epoch 15/1000:   1%|▋                                             | 14/1000 [00:02<02:23,  6.85it/s, v_num=qm5l, train_loss_step=87.1, train_loss_epoch=78.9]"
     ]
    },
    {
     "name": "stdout",
     "output_type": "stream",
     "text": [
      "\r",
      "Epoch 15/1000:   2%|▋                                             | 15/1000 [00:02<02:22,  6.91it/s, v_num=qm5l, train_loss_step=87.1, train_loss_epoch=78.9]"
     ]
    },
    {
     "name": "stdout",
     "output_type": "stream",
     "text": [
      "\r",
      "Epoch 15/1000:   2%|▋                                             | 15/1000 [00:02<02:22,  6.91it/s, v_num=qm5l, train_loss_step=76.6, train_loss_epoch=78.6]"
     ]
    },
    {
     "name": "stdout",
     "output_type": "stream",
     "text": [
      "\r",
      "Epoch 16/1000:   2%|▋                                             | 15/1000 [00:02<02:22,  6.91it/s, v_num=qm5l, train_loss_step=76.6, train_loss_epoch=78.6]"
     ]
    },
    {
     "name": "stdout",
     "output_type": "stream",
     "text": [
      "\r",
      "Epoch 16/1000:   2%|▋                                             | 16/1000 [00:03<02:21,  6.95it/s, v_num=qm5l, train_loss_step=76.6, train_loss_epoch=78.6]"
     ]
    },
    {
     "name": "stdout",
     "output_type": "stream",
     "text": [
      "\r",
      "Epoch 16/1000:   2%|▋                                             | 16/1000 [00:03<02:21,  6.95it/s, v_num=qm5l, train_loss_step=77.2, train_loss_epoch=78.3]"
     ]
    },
    {
     "name": "stdout",
     "output_type": "stream",
     "text": [
      "\r",
      "Epoch 17/1000:   2%|▋                                             | 16/1000 [00:03<02:21,  6.95it/s, v_num=qm5l, train_loss_step=77.2, train_loss_epoch=78.3]"
     ]
    },
    {
     "name": "stdout",
     "output_type": "stream",
     "text": [
      "\r",
      "Epoch 17/1000:   2%|▊                                             | 17/1000 [00:03<03:09,  5.20it/s, v_num=qm5l, train_loss_step=77.2, train_loss_epoch=78.3]"
     ]
    },
    {
     "name": "stdout",
     "output_type": "stream",
     "text": [
      "\r",
      "Epoch 17/1000:   2%|▊                                               | 17/1000 [00:03<03:09,  5.20it/s, v_num=qm5l, train_loss_step=74.3, train_loss_epoch=78]"
     ]
    },
    {
     "name": "stdout",
     "output_type": "stream",
     "text": [
      "\r",
      "Epoch 18/1000:   2%|▊                                               | 17/1000 [00:03<03:09,  5.20it/s, v_num=qm5l, train_loss_step=74.3, train_loss_epoch=78]"
     ]
    },
    {
     "name": "stdout",
     "output_type": "stream",
     "text": [
      "\r",
      "Epoch 18/1000:   2%|▊                                               | 18/1000 [00:03<03:53,  4.21it/s, v_num=qm5l, train_loss_step=74.3, train_loss_epoch=78]"
     ]
    },
    {
     "name": "stdout",
     "output_type": "stream",
     "text": [
      "\r",
      "Epoch 18/1000:   2%|▊                                             | 18/1000 [00:03<03:53,  4.21it/s, v_num=qm5l, train_loss_step=79.9, train_loss_epoch=77.7]"
     ]
    },
    {
     "name": "stdout",
     "output_type": "stream",
     "text": [
      "\r",
      "Epoch 19/1000:   2%|▊                                             | 18/1000 [00:03<03:53,  4.21it/s, v_num=qm5l, train_loss_step=79.9, train_loss_epoch=77.7]"
     ]
    },
    {
     "name": "stdout",
     "output_type": "stream",
     "text": [
      "\r",
      "Epoch 19/1000:   2%|▊                                             | 19/1000 [00:04<04:25,  3.70it/s, v_num=qm5l, train_loss_step=79.9, train_loss_epoch=77.7]"
     ]
    },
    {
     "name": "stdout",
     "output_type": "stream",
     "text": [
      "\r",
      "Epoch 19/1000:   2%|▊                                             | 19/1000 [00:04<04:25,  3.70it/s, v_num=qm5l, train_loss_step=78.5, train_loss_epoch=77.4]"
     ]
    },
    {
     "name": "stdout",
     "output_type": "stream",
     "text": [
      "\r",
      "Epoch 20/1000:   2%|▊                                             | 19/1000 [00:04<04:25,  3.70it/s, v_num=qm5l, train_loss_step=78.5, train_loss_epoch=77.4]"
     ]
    },
    {
     "name": "stdout",
     "output_type": "stream",
     "text": [
      "\r",
      "Epoch 20/1000:   2%|▉                                             | 20/1000 [00:04<03:58,  4.11it/s, v_num=qm5l, train_loss_step=78.5, train_loss_epoch=77.4]"
     ]
    },
    {
     "name": "stdout",
     "output_type": "stream",
     "text": [
      "\r",
      "Epoch 20/1000:   2%|▉                                             | 20/1000 [00:04<03:58,  4.11it/s, v_num=qm5l, train_loss_step=81.6, train_loss_epoch=77.1]"
     ]
    },
    {
     "name": "stdout",
     "output_type": "stream",
     "text": [
      "\r",
      "Epoch 21/1000:   2%|▉                                             | 20/1000 [00:04<03:58,  4.11it/s, v_num=qm5l, train_loss_step=81.6, train_loss_epoch=77.1]"
     ]
    },
    {
     "name": "stdout",
     "output_type": "stream",
     "text": [
      "\r",
      "Epoch 21/1000:   2%|▉                                             | 21/1000 [00:04<03:29,  4.68it/s, v_num=qm5l, train_loss_step=81.6, train_loss_epoch=77.1]"
     ]
    },
    {
     "name": "stdout",
     "output_type": "stream",
     "text": [
      "\r",
      "Epoch 21/1000:   2%|▉                                             | 21/1000 [00:04<03:29,  4.68it/s, v_num=qm5l, train_loss_step=78.2, train_loss_epoch=76.8]"
     ]
    },
    {
     "name": "stdout",
     "output_type": "stream",
     "text": [
      "\r",
      "Epoch 22/1000:   2%|▉                                             | 21/1000 [00:04<03:29,  4.68it/s, v_num=qm5l, train_loss_step=78.2, train_loss_epoch=76.8]"
     ]
    },
    {
     "name": "stdout",
     "output_type": "stream",
     "text": [
      "\r",
      "Epoch 22/1000:   2%|█                                             | 22/1000 [00:04<03:53,  4.19it/s, v_num=qm5l, train_loss_step=78.2, train_loss_epoch=76.8]"
     ]
    },
    {
     "name": "stdout",
     "output_type": "stream",
     "text": [
      "\r",
      "Epoch 22/1000:   2%|█                                               | 22/1000 [00:04<03:53,  4.19it/s, v_num=qm5l, train_loss_step=79, train_loss_epoch=76.6]"
     ]
    },
    {
     "name": "stdout",
     "output_type": "stream",
     "text": [
      "\r",
      "Epoch 23/1000:   2%|█                                               | 22/1000 [00:04<03:53,  4.19it/s, v_num=qm5l, train_loss_step=79, train_loss_epoch=76.6]"
     ]
    },
    {
     "name": "stdout",
     "output_type": "stream",
     "text": [
      "\r",
      "Epoch 23/1000:   2%|█                                               | 23/1000 [00:04<04:09,  3.92it/s, v_num=qm5l, train_loss_step=79, train_loss_epoch=76.6]"
     ]
    },
    {
     "name": "stdout",
     "output_type": "stream",
     "text": [
      "\r",
      "Epoch 23/1000:   2%|█                                             | 23/1000 [00:04<04:09,  3.92it/s, v_num=qm5l, train_loss_step=77.2, train_loss_epoch=76.6]"
     ]
    },
    {
     "name": "stdout",
     "output_type": "stream",
     "text": [
      "\r",
      "Epoch 24/1000:   2%|█                                             | 23/1000 [00:04<04:09,  3.92it/s, v_num=qm5l, train_loss_step=77.2, train_loss_epoch=76.6]"
     ]
    },
    {
     "name": "stdout",
     "output_type": "stream",
     "text": [
      "\r",
      "Epoch 24/1000:   2%|█                                             | 24/1000 [00:05<04:29,  3.62it/s, v_num=qm5l, train_loss_step=77.2, train_loss_epoch=76.6]"
     ]
    },
    {
     "name": "stdout",
     "output_type": "stream",
     "text": [
      "\r",
      "Epoch 24/1000:   2%|█                                             | 24/1000 [00:05<04:29,  3.62it/s, v_num=qm5l, train_loss_step=70.4, train_loss_epoch=76.3]"
     ]
    },
    {
     "name": "stdout",
     "output_type": "stream",
     "text": [
      "\r",
      "Epoch 25/1000:   2%|█                                             | 24/1000 [00:05<04:29,  3.62it/s, v_num=qm5l, train_loss_step=70.4, train_loss_epoch=76.3]"
     ]
    },
    {
     "name": "stdout",
     "output_type": "stream",
     "text": [
      "\r",
      "Epoch 25/1000:   2%|█▏                                            | 25/1000 [00:05<04:13,  3.85it/s, v_num=qm5l, train_loss_step=70.4, train_loss_epoch=76.3]"
     ]
    },
    {
     "name": "stdout",
     "output_type": "stream",
     "text": [
      "\r",
      "Epoch 25/1000:   2%|█▏                                            | 25/1000 [00:05<04:13,  3.85it/s, v_num=qm5l, train_loss_step=87.6, train_loss_epoch=76.1]"
     ]
    },
    {
     "name": "stdout",
     "output_type": "stream",
     "text": [
      "\r",
      "Epoch 26/1000:   2%|█▏                                            | 25/1000 [00:05<04:13,  3.85it/s, v_num=qm5l, train_loss_step=87.6, train_loss_epoch=76.1]"
     ]
    },
    {
     "name": "stdout",
     "output_type": "stream",
     "text": [
      "\r",
      "Epoch 26/1000:   3%|█▏                                            | 26/1000 [00:05<03:58,  4.08it/s, v_num=qm5l, train_loss_step=87.6, train_loss_epoch=76.1]"
     ]
    },
    {
     "name": "stdout",
     "output_type": "stream",
     "text": [
      "\r",
      "Epoch 26/1000:   3%|█▏                                            | 26/1000 [00:05<03:58,  4.08it/s, v_num=qm5l, train_loss_step=66.5, train_loss_epoch=75.7]"
     ]
    },
    {
     "name": "stdout",
     "output_type": "stream",
     "text": [
      "\r",
      "Epoch 27/1000:   3%|█▏                                            | 26/1000 [00:05<03:58,  4.08it/s, v_num=qm5l, train_loss_step=66.5, train_loss_epoch=75.7]"
     ]
    },
    {
     "name": "stdout",
     "output_type": "stream",
     "text": [
      "\r",
      "Epoch 27/1000:   3%|█▏                                            | 27/1000 [00:06<04:24,  3.68it/s, v_num=qm5l, train_loss_step=66.5, train_loss_epoch=75.7]"
     ]
    },
    {
     "name": "stdout",
     "output_type": "stream",
     "text": [
      "\r",
      "Epoch 27/1000:   3%|█▏                                            | 27/1000 [00:06<04:24,  3.68it/s, v_num=qm5l, train_loss_step=82.9, train_loss_epoch=75.3]"
     ]
    },
    {
     "name": "stdout",
     "output_type": "stream",
     "text": [
      "\r",
      "Epoch 28/1000:   3%|█▏                                            | 27/1000 [00:06<04:24,  3.68it/s, v_num=qm5l, train_loss_step=82.9, train_loss_epoch=75.3]"
     ]
    },
    {
     "name": "stdout",
     "output_type": "stream",
     "text": [
      "\r",
      "Epoch 28/1000:   3%|█▎                                            | 28/1000 [00:06<04:41,  3.46it/s, v_num=qm5l, train_loss_step=82.9, train_loss_epoch=75.3]"
     ]
    },
    {
     "name": "stdout",
     "output_type": "stream",
     "text": [
      "\r",
      "Epoch 28/1000:   3%|█▎                                              | 28/1000 [00:06<04:41,  3.46it/s, v_num=qm5l, train_loss_step=70.6, train_loss_epoch=75]"
     ]
    },
    {
     "name": "stdout",
     "output_type": "stream",
     "text": [
      "\r",
      "Epoch 29/1000:   3%|█▎                                              | 28/1000 [00:06<04:41,  3.46it/s, v_num=qm5l, train_loss_step=70.6, train_loss_epoch=75]"
     ]
    },
    {
     "name": "stdout",
     "output_type": "stream",
     "text": [
      "\r",
      "Epoch 29/1000:   3%|█▍                                              | 29/1000 [00:06<04:22,  3.70it/s, v_num=qm5l, train_loss_step=70.6, train_loss_epoch=75]"
     ]
    },
    {
     "name": "stdout",
     "output_type": "stream",
     "text": [
      "\r",
      "Epoch 29/1000:   3%|█▎                                            | 29/1000 [00:06<04:22,  3.70it/s, v_num=qm5l, train_loss_step=78.6, train_loss_epoch=74.7]"
     ]
    },
    {
     "name": "stdout",
     "output_type": "stream",
     "text": [
      "\r",
      "Epoch 30/1000:   3%|█▎                                            | 29/1000 [00:06<04:22,  3.70it/s, v_num=qm5l, train_loss_step=78.6, train_loss_epoch=74.7]"
     ]
    },
    {
     "name": "stdout",
     "output_type": "stream",
     "text": [
      "\r",
      "Epoch 30/1000:   3%|█▍                                            | 30/1000 [00:06<03:45,  4.30it/s, v_num=qm5l, train_loss_step=78.6, train_loss_epoch=74.7]"
     ]
    },
    {
     "name": "stdout",
     "output_type": "stream",
     "text": [
      "\r",
      "Epoch 30/1000:   3%|█▍                                            | 30/1000 [00:06<03:45,  4.30it/s, v_num=qm5l, train_loss_step=74.9, train_loss_epoch=74.4]"
     ]
    },
    {
     "name": "stdout",
     "output_type": "stream",
     "text": [
      "\r",
      "Epoch 31/1000:   3%|█▍                                            | 30/1000 [00:06<03:45,  4.30it/s, v_num=qm5l, train_loss_step=74.9, train_loss_epoch=74.4]"
     ]
    },
    {
     "name": "stdout",
     "output_type": "stream",
     "text": [
      "\r",
      "Epoch 31/1000:   3%|█▍                                            | 31/1000 [00:07<04:04,  3.97it/s, v_num=qm5l, train_loss_step=74.9, train_loss_epoch=74.4]"
     ]
    },
    {
     "name": "stdout",
     "output_type": "stream",
     "text": [
      "\r",
      "Epoch 31/1000:   3%|█▍                                            | 31/1000 [00:07<04:04,  3.97it/s, v_num=qm5l, train_loss_step=76.2, train_loss_epoch=74.2]"
     ]
    },
    {
     "name": "stdout",
     "output_type": "stream",
     "text": [
      "\r",
      "Epoch 32/1000:   3%|█▍                                            | 31/1000 [00:07<04:04,  3.97it/s, v_num=qm5l, train_loss_step=76.2, train_loss_epoch=74.2]"
     ]
    },
    {
     "name": "stdout",
     "output_type": "stream",
     "text": [
      "\r",
      "Epoch 32/1000:   3%|█▍                                            | 32/1000 [00:07<03:42,  4.34it/s, v_num=qm5l, train_loss_step=76.2, train_loss_epoch=74.2]"
     ]
    },
    {
     "name": "stdout",
     "output_type": "stream",
     "text": [
      "\r",
      "Epoch 32/1000:   3%|█▍                                            | 32/1000 [00:07<03:42,  4.34it/s, v_num=qm5l, train_loss_step=76.6, train_loss_epoch=73.9]"
     ]
    },
    {
     "name": "stdout",
     "output_type": "stream",
     "text": [
      "\r",
      "Epoch 33/1000:   3%|█▍                                            | 32/1000 [00:07<03:42,  4.34it/s, v_num=qm5l, train_loss_step=76.6, train_loss_epoch=73.9]"
     ]
    },
    {
     "name": "stdout",
     "output_type": "stream",
     "text": [
      "\r",
      "Epoch 33/1000:   3%|█▌                                            | 33/1000 [00:07<03:27,  4.66it/s, v_num=qm5l, train_loss_step=76.6, train_loss_epoch=73.9]"
     ]
    },
    {
     "name": "stdout",
     "output_type": "stream",
     "text": [
      "\r",
      "Epoch 33/1000:   3%|█▌                                              | 33/1000 [00:07<03:27,  4.66it/s, v_num=qm5l, train_loss_step=75, train_loss_epoch=73.7]"
     ]
    },
    {
     "name": "stdout",
     "output_type": "stream",
     "text": [
      "\r",
      "Epoch 34/1000:   3%|█▌                                              | 33/1000 [00:07<03:27,  4.66it/s, v_num=qm5l, train_loss_step=75, train_loss_epoch=73.7]"
     ]
    },
    {
     "name": "stdout",
     "output_type": "stream",
     "text": [
      "\r",
      "Epoch 34/1000:   3%|█▋                                              | 34/1000 [00:07<03:22,  4.77it/s, v_num=qm5l, train_loss_step=75, train_loss_epoch=73.7]"
     ]
    },
    {
     "name": "stdout",
     "output_type": "stream",
     "text": [
      "\r",
      "Epoch 34/1000:   3%|█▌                                            | 34/1000 [00:07<03:22,  4.77it/s, v_num=qm5l, train_loss_step=72.7, train_loss_epoch=73.4]"
     ]
    },
    {
     "name": "stdout",
     "output_type": "stream",
     "text": [
      "\r",
      "Epoch 35/1000:   3%|█▌                                            | 34/1000 [00:07<03:22,  4.77it/s, v_num=qm5l, train_loss_step=72.7, train_loss_epoch=73.4]"
     ]
    },
    {
     "name": "stdout",
     "output_type": "stream",
     "text": [
      "\r",
      "Epoch 35/1000:   4%|█▌                                            | 35/1000 [00:07<03:57,  4.06it/s, v_num=qm5l, train_loss_step=72.7, train_loss_epoch=73.4]"
     ]
    },
    {
     "name": "stdout",
     "output_type": "stream",
     "text": [
      "\r",
      "Epoch 35/1000:   4%|█▋                                              | 35/1000 [00:07<03:57,  4.06it/s, v_num=qm5l, train_loss_step=73, train_loss_epoch=73.2]"
     ]
    },
    {
     "name": "stdout",
     "output_type": "stream",
     "text": [
      "\r",
      "Epoch 36/1000:   4%|█▋                                              | 35/1000 [00:07<03:57,  4.06it/s, v_num=qm5l, train_loss_step=73, train_loss_epoch=73.2]"
     ]
    },
    {
     "name": "stdout",
     "output_type": "stream",
     "text": [
      "\r",
      "Epoch 36/1000:   4%|█▋                                              | 36/1000 [00:08<04:14,  3.79it/s, v_num=qm5l, train_loss_step=73, train_loss_epoch=73.2]"
     ]
    },
    {
     "name": "stdout",
     "output_type": "stream",
     "text": [
      "\r",
      "Epoch 36/1000:   4%|█▋                                            | 36/1000 [00:08<04:14,  3.79it/s, v_num=qm5l, train_loss_step=73.9, train_loss_epoch=72.9]"
     ]
    },
    {
     "name": "stdout",
     "output_type": "stream",
     "text": [
      "\r",
      "Epoch 36/1000:   4%|█▋                                            | 36/1000 [00:08<03:40,  4.36it/s, v_num=qm5l, train_loss_step=73.9, train_loss_epoch=72.9]"
     ]
    },
    {
     "name": "stdout",
     "output_type": "stream",
     "text": [
      "\n",
      "Monitored metric reconstruction_loss_validation did not improve in the last 10 records. Best score: 85.436. Signaling Trainer to stop.\n"
     ]
    }
   ],
   "source": [
    "model.train(logger=logger, plan_kwargs = plan_kwargs, **trainer_kwargs)"
   ]
  },
  {
   "cell_type": "code",
   "execution_count": 15,
   "id": "c282f6eb-0ad1-40a5-81e6-1acda1545dad",
   "metadata": {
    "execution": {
     "iopub.execute_input": "2024-10-17T13:57:26.566228Z",
     "iopub.status.busy": "2024-10-17T13:57:26.565697Z",
     "iopub.status.idle": "2024-10-17T13:57:31.216617Z",
     "shell.execute_reply": "2024-10-17T13:57:31.215190Z"
    },
    "papermill": {
     "duration": 4.684165,
     "end_time": "2024-10-17T13:57:31.220069",
     "exception": false,
     "start_time": "2024-10-17T13:57:26.535904",
     "status": "completed"
    },
    "tags": []
   },
   "outputs": [
    {
     "name": "stderr",
     "output_type": "stream",
     "text": [
      "\u001b[34m\u001b[1mwandb\u001b[0m: - 0.005 MB of 0.005 MB uploaded\r"
     ]
    },
    {
     "name": "stderr",
     "output_type": "stream",
     "text": [
      "\u001b[34m\u001b[1mwandb\u001b[0m: \\ 0.005 MB of 0.025 MB uploaded\r"
     ]
    },
    {
     "name": "stderr",
     "output_type": "stream",
     "text": [
      "\u001b[34m\u001b[1mwandb\u001b[0m: | 0.005 MB of 0.025 MB uploaded\r"
     ]
    },
    {
     "name": "stderr",
     "output_type": "stream",
     "text": [
      "\u001b[34m\u001b[1mwandb\u001b[0m: / 0.025 MB of 0.025 MB uploaded\r"
     ]
    },
    {
     "name": "stderr",
     "output_type": "stream",
     "text": [
      "\u001b[34m\u001b[1mwandb\u001b[0m:                                                                                \n"
     ]
    },
    {
     "name": "stderr",
     "output_type": "stream",
     "text": [
      "\u001b[34m\u001b[1mwandb\u001b[0m: \n",
      "\u001b[34m\u001b[1mwandb\u001b[0m: Run history:\n",
      "\u001b[34m\u001b[1mwandb\u001b[0m:                     elbo_train █▅▅▅▆▆▆▆▆▆▅▅▅▅▄▄▄▄▃▃▃▃▃▃▃▂▂▂▂▂▂▁▁▁▁▁\n",
      "\u001b[34m\u001b[1mwandb\u001b[0m:                elbo_validation █▇▅▃▂▂▁▁▁▁▁▁▁▁▁▁▁▁▁▁▁▁▁▁▁▁▁▁▁▁▁▁▁▁▁▁\n",
      "\u001b[34m\u001b[1mwandb\u001b[0m:                          epoch ▁▁▁▁▂▂▂▂▂▃▃▃▃▃▄▄▄▄▄▄▅▅▅▅▅▅▆▆▆▆▆▇▇▇▇▇████\n",
      "\u001b[34m\u001b[1mwandb\u001b[0m:                kl_global_train ▁▁▁▁▁▁▁▁▁▁▁▁▁▁▁▁▁▁▁▁▁▁▁▁▁▁▁▁▁▁▁▁▁▁▁▁\n",
      "\u001b[34m\u001b[1mwandb\u001b[0m:           kl_global_validation ▁▁▁▁▁▁▁▁▁▁▁▁▁▁▁▁▁▁▁▁▁▁▁▁▁▁▁▁▁▁▁▁▁▁▁▁\n",
      "\u001b[34m\u001b[1mwandb\u001b[0m:                 kl_local_train ▁▄▅▆▇▇████████▇▇▇▇▇▇▇▇▇▇▇▇▆▆▆▆▆▆▆▆▆▆\n",
      "\u001b[34m\u001b[1mwandb\u001b[0m:            kl_local_validation ▁▁▁▁▂▂▃▃▄▅▅▆▆▆▇▇▇▇▇█████████████████\n",
      "\u001b[34m\u001b[1mwandb\u001b[0m:                      kl_weight ▁▁▁▂▂▂▂▂▂▃▃▃▃▃▄▄▄▄▄▄▅▅▅▅▅▅▆▆▆▆▆▇▇▇▇▇▇███\n",
      "\u001b[34m\u001b[1mwandb\u001b[0m:      reconstruction_loss_train █▅▄▄▃▃▃▃▃▃▃▃▂▂▂▂▂▂▂▂▂▂▂▂▂▂▂▁▁▁▁▁▁▁▁▁\n",
      "\u001b[34m\u001b[1mwandb\u001b[0m: reconstruction_loss_validation █▇▆▅▄▃▃▂▂▂▂▂▂▂▁▁▁▁▁▁▁▁▁▁▁▁▁▁▁▁▁▁▁▁▁▁\n",
      "\u001b[34m\u001b[1mwandb\u001b[0m:               train_loss_epoch █▄▄▃▃▃▃▃▃▃▃▂▂▂▂▂▂▂▂▂▂▂▂▂▂▂▂▁▁▁▁▁▁▁▁▁\n",
      "\u001b[34m\u001b[1mwandb\u001b[0m:                train_loss_step █▄▄▄▃▃▄▅▃▄▃▃▃▄▃▂▄▃▃▂▄▂▃▂▃▂▃▂▂▂▁▂▁▂▃▁▂▂▁▂\n",
      "\u001b[34m\u001b[1mwandb\u001b[0m:            trainer/global_step ▁▁▁▁▂▂▂▂▂▃▃▃▃▃▃▄▄▄▄▄▄▅▅▅▅▅▆▆▆▆▆▇▇▇▇▇▇███\n",
      "\u001b[34m\u001b[1mwandb\u001b[0m:                validation_loss █▇▆▅▄▃▃▂▂▂▂▂▂▁▁▁▁▁▁▁▁▁▁▁▁▁▁▁▁▁▁▁▁▁▁▁\n",
      "\u001b[34m\u001b[1mwandb\u001b[0m: \n",
      "\u001b[34m\u001b[1mwandb\u001b[0m: Run summary:\n",
      "\u001b[34m\u001b[1mwandb\u001b[0m:                     elbo_train 90.21274\n",
      "\u001b[34m\u001b[1mwandb\u001b[0m:                elbo_validation 102.87486\n",
      "\u001b[34m\u001b[1mwandb\u001b[0m:                          epoch 35\n",
      "\u001b[34m\u001b[1mwandb\u001b[0m:                kl_global_train 0.0\n",
      "\u001b[34m\u001b[1mwandb\u001b[0m:           kl_global_validation 0.0\n",
      "\u001b[34m\u001b[1mwandb\u001b[0m:                 kl_local_train 18.96069\n",
      "\u001b[34m\u001b[1mwandb\u001b[0m:            kl_local_validation 16.39928\n",
      "\u001b[34m\u001b[1mwandb\u001b[0m:                      kl_weight 0.0875\n",
      "\u001b[34m\u001b[1mwandb\u001b[0m:      reconstruction_loss_train 71.25204\n",
      "\u001b[34m\u001b[1mwandb\u001b[0m: reconstruction_loss_validation 86.47558\n",
      "\u001b[34m\u001b[1mwandb\u001b[0m:               train_loss_epoch 72.91112\n",
      "\u001b[34m\u001b[1mwandb\u001b[0m:                train_loss_step 73.33458\n",
      "\u001b[34m\u001b[1mwandb\u001b[0m:            trainer/global_step 827\n",
      "\u001b[34m\u001b[1mwandb\u001b[0m:                validation_loss 87.91051\n",
      "\u001b[34m\u001b[1mwandb\u001b[0m: \n"
     ]
    },
    {
     "name": "stderr",
     "output_type": "stream",
     "text": [
      "\u001b[34m\u001b[1mwandb\u001b[0m: 🚀 View run \u001b[33mStep1_Platelets\u001b[0m at: \u001b[34m\u001b[4mhttps://wandb.ai/inflammation/inflammation_atlas_R1/runs/avklqm5l/workspace\u001b[0m\n",
      "\u001b[34m\u001b[1mwandb\u001b[0m: Synced 6 W&B file(s), 0 media file(s), 0 artifact file(s) and 0 other file(s)\n"
     ]
    },
    {
     "name": "stderr",
     "output_type": "stream",
     "text": [
      "\u001b[34m\u001b[1mwandb\u001b[0m: Find logs at: \u001b[35m\u001b[1m./wandb/run-20241017_135713-avklqm5l/logs\u001b[0m\n"
     ]
    }
   ],
   "source": [
    "wandb.finish()"
   ]
  },
  {
   "cell_type": "markdown",
   "id": "d9fb1179-83c7-4ac6-b4aa-92dc7a349801",
   "metadata": {
    "papermill": {
     "duration": 0.014198,
     "end_time": "2024-10-17T13:57:31.264731",
     "exception": false,
     "start_time": "2024-10-17T13:57:31.250533",
     "status": "completed"
    },
    "tags": []
   },
   "source": [
    "### Extracting embedding space"
   ]
  },
  {
   "cell_type": "code",
   "execution_count": 16,
   "id": "caaa5832-0123-4c59-8ec6-f46a75f7a14e",
   "metadata": {
    "execution": {
     "iopub.execute_input": "2024-10-17T13:57:31.296467Z",
     "iopub.status.busy": "2024-10-17T13:57:31.295425Z",
     "iopub.status.idle": "2024-10-17T13:57:31.369263Z",
     "shell.execute_reply": "2024-10-17T13:57:31.368305Z"
    },
    "papermill": {
     "duration": 0.095938,
     "end_time": "2024-10-17T13:57:31.371768",
     "exception": false,
     "start_time": "2024-10-17T13:57:31.275830",
     "status": "completed"
    },
    "tags": []
   },
   "outputs": [],
   "source": [
    "adata.obsm['X_scVI'] = model.get_latent_representation()"
   ]
  },
  {
   "cell_type": "markdown",
   "id": "2f03e70b-839c-40a6-9fbb-d76bbd787419",
   "metadata": {
    "papermill": {
     "duration": 0.034066,
     "end_time": "2024-10-17T13:57:31.424735",
     "exception": false,
     "start_time": "2024-10-17T13:57:31.390669",
     "status": "completed"
    },
    "tags": []
   },
   "source": [
    "## Save the results"
   ]
  },
  {
   "cell_type": "code",
   "execution_count": 17,
   "id": "7b04049b-47fd-4b62-a1c0-c43dcc086d34",
   "metadata": {
    "execution": {
     "iopub.execute_input": "2024-10-17T13:57:31.451764Z",
     "iopub.status.busy": "2024-10-17T13:57:31.450735Z",
     "iopub.status.idle": "2024-10-17T13:57:31.698436Z",
     "shell.execute_reply": "2024-10-17T13:57:31.697049Z"
    },
    "papermill": {
     "duration": 0.263784,
     "end_time": "2024-10-17T13:57:31.701954",
     "exception": false,
     "start_time": "2024-10-17T13:57:31.438170",
     "status": "completed"
    },
    "tags": []
   },
   "outputs": [],
   "source": [
    "if overwriteData:\n",
    "    adata.write(here(f\"{workDir}/{cellGroup}/results/02_{annotationLevel}_{cellGroup}_HVGsubset_scVI.h5ad\"), compression=\"gzip\")\n",
    "    model.save(here(f\"{workDir}/{cellGroup}/results/02_{annotationLevel}_{cellGroup}_HVGsubset_scVI_MODEL/\"),\n",
    "               overwrite = True, \n",
    "               save_anndata = False )   "
   ]
  },
  {
   "cell_type": "code",
   "execution_count": 18,
   "id": "629ba2bd-f6be-44ef-8fca-bbdf891bf25f",
   "metadata": {
    "execution": {
     "iopub.execute_input": "2024-10-17T13:57:31.743192Z",
     "iopub.status.busy": "2024-10-17T13:57:31.742161Z",
     "iopub.status.idle": "2024-10-17T13:57:31.747738Z",
     "shell.execute_reply": "2024-10-17T13:57:31.746652Z"
    },
    "papermill": {
     "duration": 0.022475,
     "end_time": "2024-10-17T13:57:31.748932",
     "exception": false,
     "start_time": "2024-10-17T13:57:31.726457",
     "status": "completed"
    },
    "tags": []
   },
   "outputs": [],
   "source": [
    "# To load the model do (after loading corresponding adata):\n",
    "# model = scvi.model.SCVI.load(here('{}/results/01_{}_HVGsubset_scVI_MODEL/'.format(workDir, cellGroup)), \n",
    "#                              adata, \n",
    "#                              use_gpu=True)"
   ]
  },
  {
   "cell_type": "raw",
   "id": "975e84d0-f56b-498d-b3a8-c9219cf22e53",
   "metadata": {
    "papermill": {
     "duration": 0.010851,
     "end_time": "2024-10-17T13:57:31.770135",
     "exception": false,
     "start_time": "2024-10-17T13:57:31.759284",
     "status": "completed"
    },
    "tags": []
   },
   "source": [
    "session_info.show()"
   ]
  }
 ],
 "metadata": {
  "kernelspec": {
   "display_name": "Python 3 (ipykernel)",
   "language": "python",
   "name": "python3"
  },
  "language_info": {
   "codemirror_mode": {
    "name": "ipython",
    "version": 3
   },
   "file_extension": ".py",
   "mimetype": "text/x-python",
   "name": "python",
   "nbconvert_exporter": "python",
   "pygments_lexer": "ipython3",
   "version": "3.9.19"
  },
  "papermill": {
   "default_parameters": {},
   "duration": 29.349902,
   "end_time": "2024-10-17T13:57:34.601743",
   "environment_variables": {},
   "exception": null,
   "input_path": "./Platelets/02_integration_scVI_scANVI.ipynb",
   "output_path": "./Platelets/02_integration_scVI_scANVI.ipynb.executed",
   "parameters": {},
   "start_time": "2024-10-17T13:57:05.251841",
   "version": "2.5.0"
  }
 },
 "nbformat": 4,
 "nbformat_minor": 5
}