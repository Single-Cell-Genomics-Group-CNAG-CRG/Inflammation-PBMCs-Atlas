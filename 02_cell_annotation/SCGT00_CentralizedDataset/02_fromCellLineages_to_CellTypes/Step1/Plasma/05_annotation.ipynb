{
 "cells": [
  {
   "cell_type": "code",
   "execution_count": 1,
   "id": "73772de2-54a6-4b52-90f3-086cb05e5aff",
   "metadata": {
    "execution": {
     "iopub.execute_input": "2024-10-21T07:37:23.631391Z",
     "iopub.status.busy": "2024-10-21T07:37:23.631102Z",
     "iopub.status.idle": "2024-10-21T07:37:25.934619Z",
     "shell.execute_reply": "2024-10-21T07:37:25.934209Z",
     "shell.execute_reply.started": "2024-10-21T07:37:23.631372Z"
    }
   },
   "outputs": [
    {
     "name": "stdout",
     "output_type": "stream",
     "text": [
      "Main directory path: /scratch_isilon/groups/singlecell/shared/projects/Inflammation-PBMCs-Atlas\n"
     ]
    }
   ],
   "source": [
    "import sys\n",
    "import os\n",
    "\n",
    "import numpy as np\n",
    "import matplotlib.pyplot as plt\n",
    "import glob\n",
    "import pandas as pd\n",
    "import seaborn as sns\n",
    "\n",
    "import scanpy as sc\n",
    "import scanpy.external as sce\n",
    "import anndata as ad\n",
    "\n",
    "import session_info\n",
    "import warnings\n",
    "from pyprojroot.here import here\n",
    "\n",
    "import scienceplots\n",
    "from sklearn.neighbors import NearestNeighbors\n",
    "from typing import Iterable\n",
    "import pickle\n",
    "from matplotlib.backends.backend_pdf import PdfPages\n",
    "\n",
    "\n",
    "# Setting some parameters\n",
    "warnings.filterwarnings(\"ignore\")\n",
    "sys.path.insert(1, str(here('bin')))\n",
    "\n",
    "# Import custom functions\n",
    "from customPythonFunctions import *\n",
    "\n",
    "print(\"Main directory path: {}\".format(here()))\n",
    "\n",
    "plt.style.use(['nature'])\n",
    "dpi_fig_save = 300\n",
    "sc.set_figure_params(dpi=100, dpi_save=dpi_fig_save, vector_friendly=True)"
   ]
  },
  {
   "cell_type": "markdown",
   "id": "5d9263d4-3aa7-4d23-9a3b-67bb3e6562b9",
   "metadata": {},
   "source": [
    "**Setting parameters** "
   ]
  },
  {
   "cell_type": "code",
   "execution_count": 2,
   "id": "becaf7de-9e3a-4678-8ef4-1b55e256f2a6",
   "metadata": {
    "execution": {
     "iopub.execute_input": "2024-10-21T07:37:25.935519Z",
     "iopub.status.busy": "2024-10-21T07:37:25.935208Z",
     "iopub.status.idle": "2024-10-21T07:37:25.937664Z",
     "shell.execute_reply": "2024-10-21T07:37:25.937320Z",
     "shell.execute_reply.started": "2024-10-21T07:37:25.935500Z"
    }
   },
   "outputs": [],
   "source": [
    "overwriteFigures = True\n",
    "overwriteData = True"
   ]
  },
  {
   "cell_type": "code",
   "execution_count": 3,
   "id": "e86c97d1-de28-4037-a3e1-34f730aadbf8",
   "metadata": {
    "execution": {
     "iopub.execute_input": "2024-10-21T07:37:25.938993Z",
     "iopub.status.busy": "2024-10-21T07:37:25.938777Z",
     "iopub.status.idle": "2024-10-21T07:37:25.948834Z",
     "shell.execute_reply": "2024-10-21T07:37:25.948500Z",
     "shell.execute_reply.started": "2024-10-21T07:37:25.938977Z"
    }
   },
   "outputs": [],
   "source": [
    "cellGroup = 'Plasma'\n",
    "workDir = os.getcwd()"
   ]
  },
  {
   "cell_type": "markdown",
   "id": "8e476925-66e4-4d90-89c7-9e93430c156a",
   "metadata": {},
   "source": [
    "**Load data**"
   ]
  },
  {
   "cell_type": "code",
   "execution_count": 4,
   "id": "2614c71a-05b3-401c-a6ef-a3df94e56e34",
   "metadata": {
    "execution": {
     "iopub.execute_input": "2024-10-21T07:37:25.949447Z",
     "iopub.status.busy": "2024-10-21T07:37:25.949306Z",
     "iopub.status.idle": "2024-10-21T07:37:26.551413Z",
     "shell.execute_reply": "2024-10-21T07:37:26.550970Z",
     "shell.execute_reply.started": "2024-10-21T07:37:25.949432Z"
    }
   },
   "outputs": [
    {
     "data": {
      "text/plain": [
       "AnnData object with n_obs × n_vars = 1472 × 37169\n",
       "    obs: 'studyID', 'libraryID', 'sampleID', 'chemistry', 'technology', 'patientID', 'disease', 'timepoint_replicate', 'treatmentStatus', 'therapyResponse', 'sex', 'age', 'BMI', 'binned_age', 'diseaseStatus', 'smokingStatus', 'ethnicity', 'institute', 'diseaseGroup', 'batches', 'n_genes_by_counts', 'log1p_n_genes_by_counts', 'total_counts', 'log1p_total_counts', 'pct_counts_in_top_20_genes', 'total_counts_mt', 'log1p_total_counts_mt', 'pct_counts_mt', 'total_counts_ribo', 'log1p_total_counts_ribo', 'pct_counts_ribo', 'total_counts_hb', 'log1p_total_counts_hb', 'pct_counts_hb', 'total_counts_plt', 'log1p_total_counts_plt', 'pct_counts_plt', 'S_score', 'G2M_score', 'phase'\n",
       "    var: 'hgnc_id', 'symbol', 'locus_group', 'HUGO_status', 'mt', 'ribo', 'hb', 'plt', 'n_cells_by_counts', 'mean_counts', 'log1p_mean_counts', 'pct_dropout_by_counts', 'total_counts', 'log1p_total_counts', 'highly_variable'\n",
       "    uns: '_scvi_manager_uuid', '_scvi_uuid', 'disease_colors', 'hvg', 'log1p', 'scVI', 'umap', 'umap_scVI'\n",
       "    obsm: 'X_scVI', 'X_umap', 'X_umap_scVI', '_scvi_extra_categorical_covs'\n",
       "    layers: 'counts', 'log1p_10e4_counts'\n",
       "    obsp: 'scVI_connectivities', 'scVI_distances'"
      ]
     },
     "execution_count": 4,
     "metadata": {},
     "output_type": "execute_result"
    }
   ],
   "source": [
    "# Load the scvi h5ad file\n",
    "adata = sc.read_h5ad(here(\"{}/results/03_{}_scVI_UMAP_clinical_allGenes.h5ad\".format(workDir, cellGroup)))\n",
    "adata.uns['log1p'] = dict()\n",
    "adata.uns['log1p']['base'] = None # only if logscale is computed\n",
    "adata"
   ]
  },
  {
   "cell_type": "markdown",
   "id": "8ab85938-4fb4-43bd-a31a-0bc1a468b88f",
   "metadata": {},
   "source": [
    "**Loading gene dictionary**"
   ]
  },
  {
   "cell_type": "code",
   "execution_count": 5,
   "id": "86f250b8-63ce-4025-8f92-423d4e946079",
   "metadata": {
    "execution": {
     "iopub.execute_input": "2024-10-21T07:37:26.552220Z",
     "iopub.status.busy": "2024-10-21T07:37:26.552026Z",
     "iopub.status.idle": "2024-10-21T07:37:26.556367Z",
     "shell.execute_reply": "2024-10-21T07:37:26.556010Z",
     "shell.execute_reply.started": "2024-10-21T07:37:26.552202Z"
    }
   },
   "outputs": [],
   "source": [
    "with open(here('external_reference_data/markerGenes_dictionary.pkl'), 'rb') as f:\n",
    "    marker_genes_dict = pickle.load(f)"
   ]
  },
  {
   "cell_type": "code",
   "execution_count": 6,
   "id": "899f73c0-8b29-4245-98cf-b821fed32f3c",
   "metadata": {
    "execution": {
     "iopub.execute_input": "2024-10-21T07:37:26.557081Z",
     "iopub.status.busy": "2024-10-21T07:37:26.556829Z",
     "iopub.status.idle": "2024-10-21T07:37:26.567818Z",
     "shell.execute_reply": "2024-10-21T07:37:26.567468Z",
     "shell.execute_reply.started": "2024-10-21T07:37:26.557065Z"
    }
   },
   "outputs": [],
   "source": [
    "canonical_marker_gene_list = [g for g in marker_genes_dict['lineages'].values() for g in g if g in adata.var.symbol.values]\n",
    "\n",
    "if cellGroup in marker_genes_dict:\n",
    "    lineage_marker_gene_list = set([g for g in marker_genes_dict[cellGroup].values() for g in g if g in adata.var.symbol.values])\n",
    "else: \n",
    "    lineage_marker_gene_list = None"
   ]
  },
  {
   "cell_type": "markdown",
   "id": "d72e2277-f00b-4b0f-b711-456c522f81d7",
   "metadata": {},
   "source": [
    "**Plotting parameters** "
   ]
  },
  {
   "cell_type": "code",
   "execution_count": 7,
   "id": "59ad6016-6866-48c6-b434-2fd21139e18f",
   "metadata": {
    "execution": {
     "iopub.execute_input": "2024-10-21T07:37:26.568560Z",
     "iopub.status.busy": "2024-10-21T07:37:26.568294Z",
     "iopub.status.idle": "2024-10-21T07:37:26.576686Z",
     "shell.execute_reply": "2024-10-21T07:37:26.576347Z",
     "shell.execute_reply.started": "2024-10-21T07:37:26.568545Z"
    }
   },
   "outputs": [],
   "source": [
    "max_cells_plot = 200000\n",
    "fraction = min(1, (max_cells_plot/adata.shape[0]))"
   ]
  },
  {
   "cell_type": "markdown",
   "id": "bdb7d94c-0e5b-46b3-a499-60b81868a31b",
   "metadata": {},
   "source": [
    "**Loading clustering resolutions** "
   ]
  },
  {
   "cell_type": "code",
   "execution_count": 8,
   "id": "7661226d-0fec-4938-9838-48ec5f68fd86",
   "metadata": {
    "execution": {
     "iopub.execute_input": "2024-10-21T07:37:26.577289Z",
     "iopub.status.busy": "2024-10-21T07:37:26.577140Z",
     "iopub.status.idle": "2024-10-21T07:37:26.607398Z",
     "shell.execute_reply": "2024-10-21T07:37:26.607023Z",
     "shell.execute_reply.started": "2024-10-21T07:37:26.577267Z"
    }
   },
   "outputs": [
    {
     "data": {
      "text/html": [
       "<div>\n",
       "<style scoped>\n",
       "    .dataframe tbody tr th:only-of-type {\n",
       "        vertical-align: middle;\n",
       "    }\n",
       "\n",
       "    .dataframe tbody tr th {\n",
       "        vertical-align: top;\n",
       "    }\n",
       "\n",
       "    .dataframe thead th {\n",
       "        text-align: right;\n",
       "    }\n",
       "</style>\n",
       "<table border=\"1\" class=\"dataframe\">\n",
       "  <thead>\n",
       "    <tr style=\"text-align: right;\">\n",
       "      <th></th>\n",
       "      <th>leiden_res_0.1</th>\n",
       "      <th>leiden_res_0.25</th>\n",
       "      <th>leiden_res_0.5</th>\n",
       "      <th>leiden_res_0.75</th>\n",
       "      <th>leiden_res_1</th>\n",
       "    </tr>\n",
       "    <tr>\n",
       "      <th>cellID</th>\n",
       "      <th></th>\n",
       "      <th></th>\n",
       "      <th></th>\n",
       "      <th></th>\n",
       "      <th></th>\n",
       "    </tr>\n",
       "  </thead>\n",
       "  <tbody>\n",
       "    <tr>\n",
       "      <th>SCGT00_L051_I57.3P_T0_AGCCACGCACCCATAA</th>\n",
       "      <td>0</td>\n",
       "      <td>0</td>\n",
       "      <td>0</td>\n",
       "      <td>9</td>\n",
       "      <td>8</td>\n",
       "    </tr>\n",
       "    <tr>\n",
       "      <th>SCGT00_L051_I58.3P_T0_AGGACTTTCAGTGTGT</th>\n",
       "      <td>0</td>\n",
       "      <td>0</td>\n",
       "      <td>4</td>\n",
       "      <td>1</td>\n",
       "      <td>3</td>\n",
       "    </tr>\n",
       "    <tr>\n",
       "      <th>SCGT00_L051_I58.3P_T0_AGTTAGCCAGTTCTAG</th>\n",
       "      <td>0</td>\n",
       "      <td>0</td>\n",
       "      <td>0</td>\n",
       "      <td>4</td>\n",
       "      <td>8</td>\n",
       "    </tr>\n",
       "    <tr>\n",
       "      <th>SCGT00_L051_I51.3P_T0_CACGTTCTCTACGCGG</th>\n",
       "      <td>0</td>\n",
       "      <td>0</td>\n",
       "      <td>2</td>\n",
       "      <td>3</td>\n",
       "      <td>4</td>\n",
       "    </tr>\n",
       "    <tr>\n",
       "      <th>SCGT00_L051_I51.3P_T0_CCCTCTCAGCACACCC</th>\n",
       "      <td>0</td>\n",
       "      <td>0</td>\n",
       "      <td>0</td>\n",
       "      <td>4</td>\n",
       "      <td>2</td>\n",
       "    </tr>\n",
       "  </tbody>\n",
       "</table>\n",
       "</div>"
      ],
      "text/plain": [
       "                                       leiden_res_0.1 leiden_res_0.25  \\\n",
       "cellID                                                                  \n",
       "SCGT00_L051_I57.3P_T0_AGCCACGCACCCATAA              0               0   \n",
       "SCGT00_L051_I58.3P_T0_AGGACTTTCAGTGTGT              0               0   \n",
       "SCGT00_L051_I58.3P_T0_AGTTAGCCAGTTCTAG              0               0   \n",
       "SCGT00_L051_I51.3P_T0_CACGTTCTCTACGCGG              0               0   \n",
       "SCGT00_L051_I51.3P_T0_CCCTCTCAGCACACCC              0               0   \n",
       "\n",
       "                                       leiden_res_0.5 leiden_res_0.75  \\\n",
       "cellID                                                                  \n",
       "SCGT00_L051_I57.3P_T0_AGCCACGCACCCATAA              0               9   \n",
       "SCGT00_L051_I58.3P_T0_AGGACTTTCAGTGTGT              4               1   \n",
       "SCGT00_L051_I58.3P_T0_AGTTAGCCAGTTCTAG              0               4   \n",
       "SCGT00_L051_I51.3P_T0_CACGTTCTCTACGCGG              2               3   \n",
       "SCGT00_L051_I51.3P_T0_CCCTCTCAGCACACCC              0               4   \n",
       "\n",
       "                                       leiden_res_1  \n",
       "cellID                                               \n",
       "SCGT00_L051_I57.3P_T0_AGCCACGCACCCATAA            8  \n",
       "SCGT00_L051_I58.3P_T0_AGGACTTTCAGTGTGT            3  \n",
       "SCGT00_L051_I58.3P_T0_AGTTAGCCAGTTCTAG            8  \n",
       "SCGT00_L051_I51.3P_T0_CACGTTCTCTACGCGG            4  \n",
       "SCGT00_L051_I51.3P_T0_CCCTCTCAGCACACCC            2  "
      ]
     },
     "execution_count": 8,
     "metadata": {},
     "output_type": "execute_result"
    }
   ],
   "source": [
    "clusterDF_path = here('{}/results/SCGT00_clustering_resolutions_to_explore.pkl'.format(workDir))\n",
    "clusterDF = pd.read_pickle(clusterDF_path)\n",
    "clusterDF.head()"
   ]
  },
  {
   "cell_type": "code",
   "execution_count": 9,
   "id": "3a34da8a-9d3f-4178-becf-b9aa36de11ea",
   "metadata": {
    "execution": {
     "iopub.execute_input": "2024-10-21T07:37:26.608142Z",
     "iopub.status.busy": "2024-10-21T07:37:26.607859Z",
     "iopub.status.idle": "2024-10-21T07:37:26.623771Z",
     "shell.execute_reply": "2024-10-21T07:37:26.623430Z",
     "shell.execute_reply.started": "2024-10-21T07:37:26.608126Z"
    }
   },
   "outputs": [
    {
     "data": {
      "text/html": [
       "<div>\n",
       "<style scoped>\n",
       "    .dataframe tbody tr th:only-of-type {\n",
       "        vertical-align: middle;\n",
       "    }\n",
       "\n",
       "    .dataframe tbody tr th {\n",
       "        vertical-align: top;\n",
       "    }\n",
       "\n",
       "    .dataframe thead th {\n",
       "        text-align: right;\n",
       "    }\n",
       "</style>\n",
       "<table border=\"1\" class=\"dataframe\">\n",
       "  <thead>\n",
       "    <tr style=\"text-align: right;\">\n",
       "      <th></th>\n",
       "      <th>studyID</th>\n",
       "      <th>libraryID</th>\n",
       "      <th>sampleID</th>\n",
       "      <th>chemistry</th>\n",
       "      <th>technology</th>\n",
       "      <th>patientID</th>\n",
       "      <th>disease</th>\n",
       "      <th>timepoint_replicate</th>\n",
       "      <th>treatmentStatus</th>\n",
       "      <th>therapyResponse</th>\n",
       "      <th>...</th>\n",
       "      <th>log1p_total_counts_plt</th>\n",
       "      <th>pct_counts_plt</th>\n",
       "      <th>S_score</th>\n",
       "      <th>G2M_score</th>\n",
       "      <th>phase</th>\n",
       "      <th>leiden_res_0.1</th>\n",
       "      <th>leiden_res_0.25</th>\n",
       "      <th>leiden_res_0.5</th>\n",
       "      <th>leiden_res_0.75</th>\n",
       "      <th>leiden_res_1</th>\n",
       "    </tr>\n",
       "    <tr>\n",
       "      <th>cellID</th>\n",
       "      <th></th>\n",
       "      <th></th>\n",
       "      <th></th>\n",
       "      <th></th>\n",
       "      <th></th>\n",
       "      <th></th>\n",
       "      <th></th>\n",
       "      <th></th>\n",
       "      <th></th>\n",
       "      <th></th>\n",
       "      <th></th>\n",
       "      <th></th>\n",
       "      <th></th>\n",
       "      <th></th>\n",
       "      <th></th>\n",
       "      <th></th>\n",
       "      <th></th>\n",
       "      <th></th>\n",
       "      <th></th>\n",
       "      <th></th>\n",
       "      <th></th>\n",
       "    </tr>\n",
       "  </thead>\n",
       "  <tbody>\n",
       "    <tr>\n",
       "      <th>SCGT00_L051_I57.3P_T0_AGCCACGCACCCATAA</th>\n",
       "      <td>SCGT00</td>\n",
       "      <td>SCGT00_L051</td>\n",
       "      <td>SCGT00_I57.3P_T0</td>\n",
       "      <td>3_GEX_V3</td>\n",
       "      <td>3_GEX_V3_GenoHashed</td>\n",
       "      <td>SCGT00_I57</td>\n",
       "      <td>RA</td>\n",
       "      <td>0.0</td>\n",
       "      <td>ongoing</td>\n",
       "      <td>NR</td>\n",
       "      <td>...</td>\n",
       "      <td>0.000000</td>\n",
       "      <td>0.000000</td>\n",
       "      <td>0.005598</td>\n",
       "      <td>-0.024687</td>\n",
       "      <td>S</td>\n",
       "      <td>0</td>\n",
       "      <td>0</td>\n",
       "      <td>0</td>\n",
       "      <td>9</td>\n",
       "      <td>8</td>\n",
       "    </tr>\n",
       "    <tr>\n",
       "      <th>SCGT00_L051_I58.3P_T0_AGGACTTTCAGTGTGT</th>\n",
       "      <td>SCGT00</td>\n",
       "      <td>SCGT00_L051</td>\n",
       "      <td>SCGT00_I58.3P_T0</td>\n",
       "      <td>3_GEX_V3</td>\n",
       "      <td>3_GEX_V3_GenoHashed</td>\n",
       "      <td>SCGT00_I58</td>\n",
       "      <td>RA</td>\n",
       "      <td>0.0</td>\n",
       "      <td>ongoing</td>\n",
       "      <td>NR</td>\n",
       "      <td>...</td>\n",
       "      <td>2.079442</td>\n",
       "      <td>0.021315</td>\n",
       "      <td>-0.002765</td>\n",
       "      <td>-0.009225</td>\n",
       "      <td>G1</td>\n",
       "      <td>0</td>\n",
       "      <td>0</td>\n",
       "      <td>4</td>\n",
       "      <td>1</td>\n",
       "      <td>3</td>\n",
       "    </tr>\n",
       "    <tr>\n",
       "      <th>SCGT00_L051_I58.3P_T0_AGTTAGCCAGTTCTAG</th>\n",
       "      <td>SCGT00</td>\n",
       "      <td>SCGT00_L051</td>\n",
       "      <td>SCGT00_I58.3P_T0</td>\n",
       "      <td>3_GEX_V3</td>\n",
       "      <td>3_GEX_V3_GenoHashed</td>\n",
       "      <td>SCGT00_I58</td>\n",
       "      <td>RA</td>\n",
       "      <td>0.0</td>\n",
       "      <td>ongoing</td>\n",
       "      <td>NR</td>\n",
       "      <td>...</td>\n",
       "      <td>1.791759</td>\n",
       "      <td>0.017941</td>\n",
       "      <td>-0.038138</td>\n",
       "      <td>-0.077320</td>\n",
       "      <td>G1</td>\n",
       "      <td>0</td>\n",
       "      <td>0</td>\n",
       "      <td>0</td>\n",
       "      <td>4</td>\n",
       "      <td>8</td>\n",
       "    </tr>\n",
       "    <tr>\n",
       "      <th>SCGT00_L051_I51.3P_T0_CACGTTCTCTACGCGG</th>\n",
       "      <td>SCGT00</td>\n",
       "      <td>SCGT00_L051</td>\n",
       "      <td>SCGT00_I51.3P_T0</td>\n",
       "      <td>3_GEX_V3</td>\n",
       "      <td>3_GEX_V3_GenoHashed</td>\n",
       "      <td>SCGT00_I51</td>\n",
       "      <td>RA</td>\n",
       "      <td>0.0</td>\n",
       "      <td>ongoing</td>\n",
       "      <td>R</td>\n",
       "      <td>...</td>\n",
       "      <td>1.945910</td>\n",
       "      <td>0.017372</td>\n",
       "      <td>-0.029530</td>\n",
       "      <td>-0.016769</td>\n",
       "      <td>G1</td>\n",
       "      <td>0</td>\n",
       "      <td>0</td>\n",
       "      <td>2</td>\n",
       "      <td>3</td>\n",
       "      <td>4</td>\n",
       "    </tr>\n",
       "    <tr>\n",
       "      <th>SCGT00_L051_I51.3P_T0_CCCTCTCAGCACACCC</th>\n",
       "      <td>SCGT00</td>\n",
       "      <td>SCGT00_L051</td>\n",
       "      <td>SCGT00_I51.3P_T0</td>\n",
       "      <td>3_GEX_V3</td>\n",
       "      <td>3_GEX_V3_GenoHashed</td>\n",
       "      <td>SCGT00_I51</td>\n",
       "      <td>RA</td>\n",
       "      <td>0.0</td>\n",
       "      <td>ongoing</td>\n",
       "      <td>R</td>\n",
       "      <td>...</td>\n",
       "      <td>1.098612</td>\n",
       "      <td>0.018031</td>\n",
       "      <td>0.030403</td>\n",
       "      <td>-0.069712</td>\n",
       "      <td>S</td>\n",
       "      <td>0</td>\n",
       "      <td>0</td>\n",
       "      <td>0</td>\n",
       "      <td>4</td>\n",
       "      <td>2</td>\n",
       "    </tr>\n",
       "  </tbody>\n",
       "</table>\n",
       "<p>5 rows × 45 columns</p>\n",
       "</div>"
      ],
      "text/plain": [
       "                                       studyID    libraryID          sampleID  \\\n",
       "cellID                                                                          \n",
       "SCGT00_L051_I57.3P_T0_AGCCACGCACCCATAA  SCGT00  SCGT00_L051  SCGT00_I57.3P_T0   \n",
       "SCGT00_L051_I58.3P_T0_AGGACTTTCAGTGTGT  SCGT00  SCGT00_L051  SCGT00_I58.3P_T0   \n",
       "SCGT00_L051_I58.3P_T0_AGTTAGCCAGTTCTAG  SCGT00  SCGT00_L051  SCGT00_I58.3P_T0   \n",
       "SCGT00_L051_I51.3P_T0_CACGTTCTCTACGCGG  SCGT00  SCGT00_L051  SCGT00_I51.3P_T0   \n",
       "SCGT00_L051_I51.3P_T0_CCCTCTCAGCACACCC  SCGT00  SCGT00_L051  SCGT00_I51.3P_T0   \n",
       "\n",
       "                                       chemistry           technology  \\\n",
       "cellID                                                                  \n",
       "SCGT00_L051_I57.3P_T0_AGCCACGCACCCATAA  3_GEX_V3  3_GEX_V3_GenoHashed   \n",
       "SCGT00_L051_I58.3P_T0_AGGACTTTCAGTGTGT  3_GEX_V3  3_GEX_V3_GenoHashed   \n",
       "SCGT00_L051_I58.3P_T0_AGTTAGCCAGTTCTAG  3_GEX_V3  3_GEX_V3_GenoHashed   \n",
       "SCGT00_L051_I51.3P_T0_CACGTTCTCTACGCGG  3_GEX_V3  3_GEX_V3_GenoHashed   \n",
       "SCGT00_L051_I51.3P_T0_CCCTCTCAGCACACCC  3_GEX_V3  3_GEX_V3_GenoHashed   \n",
       "\n",
       "                                         patientID disease  \\\n",
       "cellID                                                       \n",
       "SCGT00_L051_I57.3P_T0_AGCCACGCACCCATAA  SCGT00_I57      RA   \n",
       "SCGT00_L051_I58.3P_T0_AGGACTTTCAGTGTGT  SCGT00_I58      RA   \n",
       "SCGT00_L051_I58.3P_T0_AGTTAGCCAGTTCTAG  SCGT00_I58      RA   \n",
       "SCGT00_L051_I51.3P_T0_CACGTTCTCTACGCGG  SCGT00_I51      RA   \n",
       "SCGT00_L051_I51.3P_T0_CCCTCTCAGCACACCC  SCGT00_I51      RA   \n",
       "\n",
       "                                        timepoint_replicate treatmentStatus  \\\n",
       "cellID                                                                        \n",
       "SCGT00_L051_I57.3P_T0_AGCCACGCACCCATAA                  0.0         ongoing   \n",
       "SCGT00_L051_I58.3P_T0_AGGACTTTCAGTGTGT                  0.0         ongoing   \n",
       "SCGT00_L051_I58.3P_T0_AGTTAGCCAGTTCTAG                  0.0         ongoing   \n",
       "SCGT00_L051_I51.3P_T0_CACGTTCTCTACGCGG                  0.0         ongoing   \n",
       "SCGT00_L051_I51.3P_T0_CCCTCTCAGCACACCC                  0.0         ongoing   \n",
       "\n",
       "                                       therapyResponse  ...  \\\n",
       "cellID                                                  ...   \n",
       "SCGT00_L051_I57.3P_T0_AGCCACGCACCCATAA              NR  ...   \n",
       "SCGT00_L051_I58.3P_T0_AGGACTTTCAGTGTGT              NR  ...   \n",
       "SCGT00_L051_I58.3P_T0_AGTTAGCCAGTTCTAG              NR  ...   \n",
       "SCGT00_L051_I51.3P_T0_CACGTTCTCTACGCGG               R  ...   \n",
       "SCGT00_L051_I51.3P_T0_CCCTCTCAGCACACCC               R  ...   \n",
       "\n",
       "                                       log1p_total_counts_plt  pct_counts_plt  \\\n",
       "cellID                                                                          \n",
       "SCGT00_L051_I57.3P_T0_AGCCACGCACCCATAA               0.000000        0.000000   \n",
       "SCGT00_L051_I58.3P_T0_AGGACTTTCAGTGTGT               2.079442        0.021315   \n",
       "SCGT00_L051_I58.3P_T0_AGTTAGCCAGTTCTAG               1.791759        0.017941   \n",
       "SCGT00_L051_I51.3P_T0_CACGTTCTCTACGCGG               1.945910        0.017372   \n",
       "SCGT00_L051_I51.3P_T0_CCCTCTCAGCACACCC               1.098612        0.018031   \n",
       "\n",
       "                                         S_score G2M_score phase  \\\n",
       "cellID                                                             \n",
       "SCGT00_L051_I57.3P_T0_AGCCACGCACCCATAA  0.005598 -0.024687     S   \n",
       "SCGT00_L051_I58.3P_T0_AGGACTTTCAGTGTGT -0.002765 -0.009225    G1   \n",
       "SCGT00_L051_I58.3P_T0_AGTTAGCCAGTTCTAG -0.038138 -0.077320    G1   \n",
       "SCGT00_L051_I51.3P_T0_CACGTTCTCTACGCGG -0.029530 -0.016769    G1   \n",
       "SCGT00_L051_I51.3P_T0_CCCTCTCAGCACACCC  0.030403 -0.069712     S   \n",
       "\n",
       "                                       leiden_res_0.1 leiden_res_0.25  \\\n",
       "cellID                                                                  \n",
       "SCGT00_L051_I57.3P_T0_AGCCACGCACCCATAA              0               0   \n",
       "SCGT00_L051_I58.3P_T0_AGGACTTTCAGTGTGT              0               0   \n",
       "SCGT00_L051_I58.3P_T0_AGTTAGCCAGTTCTAG              0               0   \n",
       "SCGT00_L051_I51.3P_T0_CACGTTCTCTACGCGG              0               0   \n",
       "SCGT00_L051_I51.3P_T0_CCCTCTCAGCACACCC              0               0   \n",
       "\n",
       "                                       leiden_res_0.5 leiden_res_0.75  \\\n",
       "cellID                                                                  \n",
       "SCGT00_L051_I57.3P_T0_AGCCACGCACCCATAA              0               9   \n",
       "SCGT00_L051_I58.3P_T0_AGGACTTTCAGTGTGT              4               1   \n",
       "SCGT00_L051_I58.3P_T0_AGTTAGCCAGTTCTAG              0               4   \n",
       "SCGT00_L051_I51.3P_T0_CACGTTCTCTACGCGG              2               3   \n",
       "SCGT00_L051_I51.3P_T0_CCCTCTCAGCACACCC              0               4   \n",
       "\n",
       "                                       leiden_res_1  \n",
       "cellID                                               \n",
       "SCGT00_L051_I57.3P_T0_AGCCACGCACCCATAA            8  \n",
       "SCGT00_L051_I58.3P_T0_AGGACTTTCAGTGTGT            3  \n",
       "SCGT00_L051_I58.3P_T0_AGTTAGCCAGTTCTAG            8  \n",
       "SCGT00_L051_I51.3P_T0_CACGTTCTCTACGCGG            4  \n",
       "SCGT00_L051_I51.3P_T0_CCCTCTCAGCACACCC            2  \n",
       "\n",
       "[5 rows x 45 columns]"
      ]
     },
     "execution_count": 9,
     "metadata": {},
     "output_type": "execute_result"
    }
   ],
   "source": [
    "# Merging cluster resolutions with adata object\n",
    "\n",
    "adata_obs_df = adata.obs.merge(clusterDF, left_index=True, right_index=True, how='left')\n",
    "adata.obs = adata_obs_df\n",
    "adata.obs.head()"
   ]
  },
  {
   "cell_type": "markdown",
   "id": "c92eaf42-a860-4f6f-979a-fd611f481fd9",
   "metadata": {},
   "source": [
    "# Cluster annotation"
   ]
  },
  {
   "cell_type": "code",
   "execution_count": 10,
   "id": "d7716b98-dc60-4577-8d0f-a60a52bd05e3",
   "metadata": {
    "execution": {
     "iopub.execute_input": "2024-10-21T07:37:26.624370Z",
     "iopub.status.busy": "2024-10-21T07:37:26.624219Z",
     "iopub.status.idle": "2024-10-21T07:37:26.629785Z",
     "shell.execute_reply": "2024-10-21T07:37:26.629443Z",
     "shell.execute_reply.started": "2024-10-21T07:37:26.624355Z"
    }
   },
   "outputs": [],
   "source": [
    "# Establishing the resolution of choice\n",
    "resolution_of_choice = 0.1\n",
    "leiden_cluster = \"leiden_res_\" + str(resolution_of_choice)\n",
    "de_key = \"de_res_\" + str(resolution_of_choice)"
   ]
  },
  {
   "cell_type": "code",
   "execution_count": 11,
   "id": "2341c6fb-c797-4637-b66d-7e44b07ea043",
   "metadata": {
    "execution": {
     "iopub.execute_input": "2024-10-21T07:37:26.630464Z",
     "iopub.status.busy": "2024-10-21T07:37:26.630238Z",
     "iopub.status.idle": "2024-10-21T07:37:26.639296Z",
     "shell.execute_reply": "2024-10-21T07:37:26.638915Z",
     "shell.execute_reply.started": "2024-10-21T07:37:26.630448Z"
    }
   },
   "outputs": [],
   "source": [
    "annotation_column_name = \"annotation_step_1\""
   ]
  },
  {
   "cell_type": "code",
   "execution_count": 12,
   "id": "2dcb224d-5c30-4a6c-81bd-8d8785cfb0d1",
   "metadata": {
    "execution": {
     "iopub.execute_input": "2024-10-21T07:37:26.640998Z",
     "iopub.status.busy": "2024-10-21T07:37:26.640774Z",
     "iopub.status.idle": "2024-10-21T07:37:26.650920Z",
     "shell.execute_reply": "2024-10-21T07:37:26.650569Z",
     "shell.execute_reply.started": "2024-10-21T07:37:26.640981Z"
    }
   },
   "outputs": [],
   "source": [
    "# Dictionary to map cluster to annotation label\n",
    "cluster2annotation_lineages = {\n",
    "     '0': 'Plasma',\n",
    "     '1': 'Plasma',\n",
    "     '2': 'Doublets_Step1'\n",
    "     # (...)\n",
    "}\n",
    "\n",
    "# Add a new `.obs` column called `annotation_column_name` by mapping clusters to annotation using pandas `map` function\n",
    "adata.obs[annotation_column_name] = adata.obs[leiden_cluster].map(cluster2annotation_lineages).astype('category')"
   ]
  },
  {
   "cell_type": "markdown",
   "id": "6c022d91-67fe-47dd-b8ff-4dc6545b90f0",
   "metadata": {},
   "source": [
    "**Checking clustering annotation**"
   ]
  },
  {
   "cell_type": "code",
   "execution_count": 13,
   "id": "bf6cd2a8-cd6a-4551-8847-2dd47f7e4298",
   "metadata": {
    "execution": {
     "iopub.execute_input": "2024-10-21T07:37:26.651664Z",
     "iopub.status.busy": "2024-10-21T07:37:26.651397Z",
     "iopub.status.idle": "2024-10-21T07:37:26.673770Z",
     "shell.execute_reply": "2024-10-21T07:37:26.673421Z",
     "shell.execute_reply.started": "2024-10-21T07:37:26.651649Z"
    }
   },
   "outputs": [
    {
     "name": "stdout",
     "output_type": "stream",
     "text": [
      "{'Plasma', 'Doublets_Step1'}\n",
      "All cells were assigned a lineage!\n"
     ]
    }
   ],
   "source": [
    "# List of all annotated cell types\n",
    "print(set(adata.obs[annotation_column_name]))\n",
    "\n",
    "# Confirm all cells got their assigment\n",
    "if (\"\" in set(adata.obs[annotation_column_name])):\n",
    "    print(\"Error: not all cells were assigned a lineage\")\n",
    "else:\n",
    "    print(\"All cells were assigned a lineage!\")"
   ]
  },
  {
   "cell_type": "markdown",
   "id": "0830e447-b808-4354-a91b-e22a95b16799",
   "metadata": {},
   "source": [
    "## Visualize annotation results"
   ]
  },
  {
   "cell_type": "code",
   "execution_count": 14,
   "id": "4adfbaf8-15e8-4183-8288-497a9d41b446",
   "metadata": {
    "execution": {
     "iopub.execute_input": "2024-10-21T07:37:26.674452Z",
     "iopub.status.busy": "2024-10-21T07:37:26.674231Z",
     "iopub.status.idle": "2024-10-21T07:37:26.980244Z",
     "shell.execute_reply": "2024-10-21T07:37:26.979827Z",
     "shell.execute_reply.started": "2024-10-21T07:37:26.674436Z"
    }
   },
   "outputs": [
    {
     "data": {
      "image/png": "[encoded data removed]",
      "text/plain": [
       "<Figure size 560x400 with 1 Axes>"
      ]
     },
     "metadata": {
      "image/png": {
       "height": 358,
       "width": 472
      }
     },
     "output_type": "display_data"
    }
   ],
   "source": [
    "# Subsetting and randomizing for optimal plotting\n",
    "random_indices = balanced_sample(adata.obs, cols = annotation_column_name, frac = fraction, shuffle = True, random_state = 42).cellID\n",
    "\n",
    "sc.set_figure_params(figsize=(7, 5))\n",
    "fig = sc.pl.embedding(adata[random_indices, :], basis=\"X_umap_scVI\", color=annotation_column_name, \n",
    "                      use_raw=False, show=True, return_fig=True, size=10, legend_loc=\"on data\")\n",
    "\n",
    "if overwriteFigures:\n",
    "    plt.savefig(here('{}/results/figures/UMAP_clusters_res{}_annotated.pdf'.format(workDir, resolution_of_choice)), \n",
    "                bbox_inches='tight', pad_inches=0, dpi=dpi_fig_save)"
   ]
  },
  {
   "cell_type": "markdown",
   "id": "b6e303a0-d512-4471-afbc-1b909a825bae",
   "metadata": {},
   "source": [
    "## Export cluster annotation"
   ]
  },
  {
   "cell_type": "code",
   "execution_count": 15,
   "id": "85f6ac3c-70a0-408f-9c40-9149f30d13bb",
   "metadata": {
    "execution": {
     "iopub.execute_input": "2024-10-21T07:37:26.981038Z",
     "iopub.status.busy": "2024-10-21T07:37:26.980875Z",
     "iopub.status.idle": "2024-10-21T07:37:26.988312Z",
     "shell.execute_reply": "2024-10-21T07:37:26.987946Z",
     "shell.execute_reply.started": "2024-10-21T07:37:26.981020Z"
    }
   },
   "outputs": [],
   "source": [
    "clusterAnnotDF = pd.DataFrame(adata.obs[annotation_column_name])\n",
    "# Save annotation as DF\n",
    "clusterAnnotDF.to_pickle(path=here('{}/results/SCGT00_cluster_res{}_annotated.pkl'.format(workDir, resolution_of_choice)))"
   ]
  },
  {
   "cell_type": "code",
   "execution_count": 16,
   "id": "a5ff7d3b-2d6f-4af6-bd47-9205545455f0",
   "metadata": {
    "execution": {
     "iopub.execute_input": "2024-10-21T07:37:26.989000Z",
     "iopub.status.busy": "2024-10-21T07:37:26.988788Z",
     "iopub.status.idle": "2024-10-21T07:37:27.650762Z",
     "shell.execute_reply": "2024-10-21T07:37:27.650363Z",
     "shell.execute_reply.started": "2024-10-21T07:37:26.988984Z"
    }
   },
   "outputs": [
    {
     "data": {
      "text/html": [
       "<details>\n",
       "<summary>Click to view session information</summary>\n",
       "<pre>\n",
       "-----\n",
       "anndata                     0.10.5.post1\n",
       "customPythonFunctions       NA\n",
       "matplotlib                  3.8.3\n",
       "numpy                       1.26.4\n",
       "pandas                      2.2.0\n",
       "pyprojroot                  NA\n",
       "scanpy                      1.9.8\n",
       "scienceplots                NA\n",
       "seaborn                     0.13.2\n",
       "session_info                1.0.0\n",
       "sklearn                     1.4.1.post1\n",
       "-----\n",
       "</pre>\n",
       "<details>\n",
       "<summary>Click to view modules imported as dependencies</summary>\n",
       "<pre>\n",
       "PIL                         10.2.0\n",
       "anyio                       NA\n",
       "argcomplete                 NA\n",
       "arrow                       1.3.0\n",
       "asttokens                   NA\n",
       "attr                        23.2.0\n",
       "attrs                       23.2.0\n",
       "babel                       2.14.0\n",
       "brotli                      1.1.0\n",
       "certifi                     2024.02.02\n",
       "cffi                        1.16.0\n",
       "charset_normalizer          3.3.2\n",
       "cloudpickle                 3.0.0\n",
       "colorama                    0.4.6\n",
       "comm                        0.2.1\n",
       "cycler                      0.12.1\n",
       "cython_runtime              NA\n",
       "dateutil                    2.8.2\n",
       "debugpy                     1.8.1\n",
       "decorator                   5.1.1\n",
       "defusedxml                  0.7.1\n",
       "exceptiongroup              1.2.0\n",
       "executing                   2.0.1\n",
       "fastjsonschema              NA\n",
       "fontTools                   4.49.0\n",
       "fqdn                        NA\n",
       "h5py                        3.10.0\n",
       "idna                        3.6\n",
       "igraph                      0.11.4\n",
       "ipykernel                   6.29.2\n",
       "isoduration                 NA\n",
       "jedi                        0.19.1\n",
       "jinja2                      3.1.3\n",
       "joblib                      1.3.2\n",
       "json5                       NA\n",
       "jsonpointer                 2.4\n",
       "jsonschema                  4.21.1\n",
       "jsonschema_specifications   NA\n",
       "jupyter_events              0.9.0\n",
       "jupyter_server              2.12.5\n",
       "jupyterlab_server           2.25.3\n",
       "kiwisolver                  1.4.5\n",
       "leidenalg                   0.10.2\n",
       "llvmlite                    0.42.0\n",
       "lxml                        5.1.0\n",
       "markupsafe                  2.1.5\n",
       "matplotlib_inline           0.1.6\n",
       "mpl_toolkits                NA\n",
       "natsort                     8.4.0\n",
       "nbformat                    5.9.2\n",
       "numba                       0.59.0\n",
       "overrides                   NA\n",
       "packaging                   23.2\n",
       "parso                       0.8.3\n",
       "patsy                       0.5.6\n",
       "pickleshare                 0.7.5\n",
       "platformdirs                4.2.0\n",
       "plotly                      5.20.0\n",
       "prometheus_client           NA\n",
       "prompt_toolkit              3.0.42\n",
       "psutil                      5.9.8\n",
       "pure_eval                   0.2.2\n",
       "pyarrow                     15.0.0\n",
       "pydev_ipython               NA\n",
       "pydevconsole                NA\n",
       "pydevd                      2.9.5\n",
       "pydevd_file_utils           NA\n",
       "pydevd_plugins              NA\n",
       "pydevd_tracing              NA\n",
       "pygments                    2.17.2\n",
       "pyparsing                   3.1.1\n",
       "pythonjsonlogger            NA\n",
       "pytz                        2024.1\n",
       "referencing                 NA\n",
       "requests                    2.31.0\n",
       "rfc3339_validator           0.1.4\n",
       "rfc3986_validator           0.1.1\n",
       "rpds                        NA\n",
       "scipy                       1.12.0\n",
       "send2trash                  NA\n",
       "simplejson                  3.19.2\n",
       "six                         1.16.0\n",
       "sniffio                     1.3.0\n",
       "socks                       1.7.1\n",
       "stack_data                  0.6.2\n",
       "statsmodels                 0.14.1\n",
       "texttable                   1.7.0\n",
       "threadpoolctl               3.3.0\n",
       "tornado                     6.4\n",
       "traitlets                   5.14.1\n",
       "typing_extensions           NA\n",
       "uri_template                NA\n",
       "urllib3                     2.2.1\n",
       "wcwidth                     0.2.13\n",
       "webcolors                   1.13\n",
       "websocket                   1.7.0\n",
       "yaml                        6.0.1\n",
       "zmq                         25.1.2\n",
       "zoneinfo                    NA\n",
       "zstandard                   0.22.0\n",
       "</pre>\n",
       "</details> <!-- seems like this ends pre, so might as well be explicit -->\n",
       "<pre>\n",
       "-----\n",
       "IPython             8.21.0\n",
       "jupyter_client      8.6.0\n",
       "jupyter_core        5.7.1\n",
       "jupyterlab          4.1.2\n",
       "-----\n",
       "Python 3.10.13 | packaged by conda-forge | (main, Dec 23 2023, 15:36:39) [GCC 12.3.0]\n",
       "Linux-3.10.0-1160.88.1.el7.x86_64-x86_64-with-glibc2.17\n",
       "-----\n",
       "Session information updated at 2024-10-21 09:37\n",
       "</pre>\n",
       "</details>"
      ],
      "text/plain": [
       "<IPython.core.display.HTML object>"
      ]
     },
     "execution_count": 16,
     "metadata": {},
     "output_type": "execute_result"
    }
   ],
   "source": [
    "session_info.show()"
   ]
  }
 ],
 "metadata": {
  "kernelspec": {
   "display_name": "Python 3 (ipykernel)",
   "language": "python",
   "name": "python3"
  },
  "language_info": {
   "codemirror_mode": {
    "name": "ipython",
    "version": 3
   },
   "file_extension": ".py",
   "mimetype": "text/x-python",
   "name": "python",
   "nbconvert_exporter": "python",
   "pygments_lexer": "ipython3",
   "version": "3.10.13"
  }
 },
 "nbformat": 4,
 "nbformat_minor": 5
}
