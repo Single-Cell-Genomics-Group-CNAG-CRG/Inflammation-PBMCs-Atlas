{
 "cells": [
  {
   "cell_type": "code",
   "execution_count": 1,
   "id": "2dd1425a-0c07-465e-b522-9e3cc5cb93a7",
   "metadata": {
    "execution": {
     "iopub.execute_input": "2024-10-17T14:37:42.788286Z",
     "iopub.status.busy": "2024-10-17T14:37:42.787809Z",
     "iopub.status.idle": "2024-10-17T14:37:46.415547Z",
     "shell.execute_reply": "2024-10-17T14:37:46.414569Z"
    },
    "papermill": {
     "duration": 3.64755,
     "end_time": "2024-10-17T14:37:46.418595",
     "exception": false,
     "start_time": "2024-10-17T14:37:42.771045",
     "status": "completed"
    },
    "tags": []
   },
   "outputs": [
    {
     "name": "stderr",
     "output_type": "stream",
     "text": [
      "/home/dmaspero/miniconda3/envs/scarches/lib/python3.9/site-packages/tqdm/auto.py:21: TqdmWarning: IProgress not found. Please update jupyter and ipywidgets. See https://ipywidgets.readthedocs.io/en/stable/user_install.html\n",
      "  from .autonotebook import tqdm as notebook_tqdm\n"
     ]
    },
    {
     "data": {
      "text/plain": [
       "True"
      ]
     },
     "execution_count": 1,
     "metadata": {},
     "output_type": "execute_result"
    }
   ],
   "source": [
    "import os\n",
    "import sys\n",
    "\n",
    "import numpy as np\n",
    "import matplotlib.pyplot as plt\n",
    "\n",
    "import scanpy as sc\n",
    "import scvi\n",
    "import torch\n",
    "\n",
    "from pytorch_lightning.loggers import WandbLogger\n",
    "import wandb\n",
    "from dotenv import load_dotenv\n",
    "\n",
    "import session_info\n",
    "import warnings\n",
    "from pyprojroot.here import here\n",
    "\n",
    "warnings.filterwarnings(\"ignore\")\n",
    "sys.path.insert(1, str(here('bin')))\n",
    "\n",
    "torch.set_float32_matmul_precision('high')\n",
    "\n",
    "#plt.style.use(['science','nature','no-latex'])\n",
    "dpi_fig_save = 300\n",
    "sc.set_figure_params(dpi=100, dpi_save=dpi_fig_save, vector_friendly=True)\n",
    "\n",
    "load_dotenv(here('.env'))"
   ]
  },
  {
   "cell_type": "code",
   "execution_count": 2,
   "id": "09c897fc-744b-43de-a681-718fb5d327fa",
   "metadata": {
    "execution": {
     "iopub.execute_input": "2024-10-17T14:37:46.444822Z",
     "iopub.status.busy": "2024-10-17T14:37:46.443941Z",
     "iopub.status.idle": "2024-10-17T14:37:46.451075Z",
     "shell.execute_reply": "2024-10-17T14:37:46.449838Z"
    },
    "papermill": {
     "duration": 0.022401,
     "end_time": "2024-10-17T14:37:46.453926",
     "exception": false,
     "start_time": "2024-10-17T14:37:46.431525",
     "status": "completed"
    },
    "tags": []
   },
   "outputs": [],
   "source": [
    "class CustomWandbLogger(WandbLogger):\n",
    "    @property\n",
    "    def save_dir(self):\n",
    "        return self.experiment.dir"
   ]
  },
  {
   "cell_type": "code",
   "execution_count": 3,
   "id": "8ee6662f-5d45-4137-80a5-bb0b9ae8d71f",
   "metadata": {
    "execution": {
     "iopub.execute_input": "2024-10-17T14:37:46.477602Z",
     "iopub.status.busy": "2024-10-17T14:37:46.476553Z",
     "iopub.status.idle": "2024-10-17T14:37:46.488156Z",
     "shell.execute_reply": "2024-10-17T14:37:46.486969Z"
    },
    "papermill": {
     "duration": 0.026704,
     "end_time": "2024-10-17T14:37:46.491241",
     "exception": false,
     "start_time": "2024-10-17T14:37:46.464537",
     "status": "completed"
    },
    "tags": []
   },
   "outputs": [
    {
     "name": "stderr",
     "output_type": "stream",
     "text": [
      "Seed set to 0\n"
     ]
    },
    {
     "name": "stdout",
     "output_type": "stream",
     "text": [
      "Last run with scvi-tools version: 1.1.2\n"
     ]
    }
   ],
   "source": [
    "scvi.settings.seed = 0\n",
    "print(\"Last run with scvi-tools version:\", scvi.__version__)"
   ]
  },
  {
   "cell_type": "markdown",
   "id": "a81037ff-5998-482a-ba86-520f757311a9",
   "metadata": {
    "papermill": {
     "duration": 0.00968,
     "end_time": "2024-10-17T14:37:46.512529",
     "exception": false,
     "start_time": "2024-10-17T14:37:46.502849",
     "status": "completed"
    },
    "tags": []
   },
   "source": [
    "**Setting parameters** "
   ]
  },
  {
   "cell_type": "code",
   "execution_count": 4,
   "id": "56c27966-8f10-4c93-8b1a-1fa75f005e41",
   "metadata": {
    "execution": {
     "iopub.execute_input": "2024-10-17T14:37:46.532343Z",
     "iopub.status.busy": "2024-10-17T14:37:46.531846Z",
     "iopub.status.idle": "2024-10-17T14:37:46.537562Z",
     "shell.execute_reply": "2024-10-17T14:37:46.536321Z"
    },
    "papermill": {
     "duration": 0.018767,
     "end_time": "2024-10-17T14:37:46.540289",
     "exception": false,
     "start_time": "2024-10-17T14:37:46.521522",
     "status": "completed"
    },
    "tags": []
   },
   "outputs": [],
   "source": [
    "overwriteFigures = True\n",
    "overwriteData = True"
   ]
  },
  {
   "cell_type": "code",
   "execution_count": 5,
   "id": "c86fccd3-a4fe-415b-8f4e-e2ceb3ec128a",
   "metadata": {
    "execution": {
     "iopub.execute_input": "2024-10-17T14:37:46.564220Z",
     "iopub.status.busy": "2024-10-17T14:37:46.563728Z",
     "iopub.status.idle": "2024-10-17T14:37:46.569651Z",
     "shell.execute_reply": "2024-10-17T14:37:46.568328Z"
    },
    "papermill": {
     "duration": 0.020731,
     "end_time": "2024-10-17T14:37:46.572929",
     "exception": false,
     "start_time": "2024-10-17T14:37:46.552198",
     "status": "completed"
    },
    "tags": []
   },
   "outputs": [],
   "source": [
    "cellGroup = 'Plasma'\n",
    "workDir = os.getcwd()"
   ]
  },
  {
   "cell_type": "code",
   "execution_count": 6,
   "id": "2dee4d55-d168-467b-b867-a61fed9d6af1",
   "metadata": {
    "execution": {
     "iopub.execute_input": "2024-10-17T14:37:46.596733Z",
     "iopub.status.busy": "2024-10-17T14:37:46.596208Z",
     "iopub.status.idle": "2024-10-17T14:37:46.602755Z",
     "shell.execute_reply": "2024-10-17T14:37:46.601462Z"
    },
    "papermill": {
     "duration": 0.021129,
     "end_time": "2024-10-17T14:37:46.605853",
     "exception": false,
     "start_time": "2024-10-17T14:37:46.584724",
     "status": "completed"
    },
    "tags": []
   },
   "outputs": [],
   "source": [
    "annotationLevel = os.path.basename(os.path.normpath(workDir))"
   ]
  },
  {
   "cell_type": "code",
   "execution_count": 7,
   "id": "11e53cd5-b746-4152-89cb-c2f0c15d90b3",
   "metadata": {
    "execution": {
     "iopub.execute_input": "2024-10-17T14:37:46.629076Z",
     "iopub.status.busy": "2024-10-17T14:37:46.628568Z",
     "iopub.status.idle": "2024-10-17T14:37:46.636850Z",
     "shell.execute_reply": "2024-10-17T14:37:46.635566Z"
    },
    "papermill": {
     "duration": 0.023114,
     "end_time": "2024-10-17T14:37:46.639982",
     "exception": false,
     "start_time": "2024-10-17T14:37:46.616868",
     "status": "completed"
    },
    "tags": []
   },
   "outputs": [
    {
     "data": {
      "text/plain": [
       "'/scratch_isilon/groups/singlecell/shared/projects/Inflammation-PBMCs-Atlas/02_cell_annotation/SCGT00_CentralizedDataset/02_fromCellLineages_to_CellTypes/Step1'"
      ]
     },
     "execution_count": 7,
     "metadata": {},
     "output_type": "execute_result"
    }
   ],
   "source": [
    "workDir"
   ]
  },
  {
   "cell_type": "markdown",
   "id": "171d2f06-9a44-4fcb-b437-35dc546674b6",
   "metadata": {
    "papermill": {
     "duration": 0.013532,
     "end_time": "2024-10-17T14:37:46.664577",
     "exception": false,
     "start_time": "2024-10-17T14:37:46.651045",
     "status": "completed"
    },
    "tags": []
   },
   "source": [
    "**Load data**"
   ]
  },
  {
   "cell_type": "code",
   "execution_count": 8,
   "id": "429f34fe-dde6-4cc9-9f75-7de8f85c5ffe",
   "metadata": {
    "execution": {
     "iopub.execute_input": "2024-10-17T14:37:46.689023Z",
     "iopub.status.busy": "2024-10-17T14:37:46.687971Z",
     "iopub.status.idle": "2024-10-17T14:37:48.062437Z",
     "shell.execute_reply": "2024-10-17T14:37:48.061464Z"
    },
    "papermill": {
     "duration": 1.389985,
     "end_time": "2024-10-17T14:37:48.065981",
     "exception": false,
     "start_time": "2024-10-17T14:37:46.675996",
     "status": "completed"
    },
    "tags": []
   },
   "outputs": [
    {
     "data": {
      "text/plain": [
       "AnnData object with n_obs × n_vars = 1472 × 4885\n",
       "    obs: 'studyID', 'libraryID', 'sampleID', 'chemistry', 'technology', 'patientID', 'disease', 'timepoint_replicate', 'treatmentStatus', 'therapyResponse', 'sex', 'age', 'BMI', 'binned_age', 'diseaseStatus', 'smokingStatus', 'ethnicity', 'institute', 'diseaseGroup', 'batches', 'n_genes_by_counts', 'log1p_n_genes_by_counts', 'total_counts', 'log1p_total_counts', 'pct_counts_in_top_20_genes', 'total_counts_mt', 'log1p_total_counts_mt', 'pct_counts_mt', 'total_counts_ribo', 'log1p_total_counts_ribo', 'pct_counts_ribo', 'total_counts_hb', 'log1p_total_counts_hb', 'pct_counts_hb', 'total_counts_plt', 'log1p_total_counts_plt', 'pct_counts_plt', 'S_score', 'G2M_score', 'phase'\n",
       "    var: 'hgnc_id', 'symbol', 'locus_group', 'HUGO_status', 'mt', 'ribo', 'hb', 'plt', 'n_cells_by_counts', 'mean_counts', 'log1p_mean_counts', 'pct_dropout_by_counts', 'total_counts', 'log1p_total_counts', 'highly_variable', 'means', 'dispersions', 'dispersions_norm'\n",
       "    uns: 'disease_colors', 'hvg', 'log1p'\n",
       "    layers: 'counts', 'log1p_10e4_counts'"
      ]
     },
     "execution_count": 8,
     "metadata": {},
     "output_type": "execute_result"
    }
   ],
   "source": [
    "adata = sc.read_h5ad(here(f\"{workDir}/{cellGroup}/results/01_{cellGroup}_normalized_HVGsubset.h5ad\"))\n",
    "adata"
   ]
  },
  {
   "cell_type": "markdown",
   "id": "8ac79f3b-d5af-41fa-8904-1e9ac1cbe2fb",
   "metadata": {
    "papermill": {
     "duration": 0.010269,
     "end_time": "2024-10-17T14:37:48.088482",
     "exception": false,
     "start_time": "2024-10-17T14:37:48.078213",
     "status": "completed"
    },
    "tags": []
   },
   "source": [
    "## scVI integration"
   ]
  },
  {
   "cell_type": "markdown",
   "id": "9544847d-d17f-4811-b14b-760446d54d32",
   "metadata": {
    "execution": {
     "iopub.execute_input": "2024-03-25T16:49:04.004504Z",
     "iopub.status.busy": "2024-03-25T16:49:04.004143Z",
     "iopub.status.idle": "2024-03-25T16:49:04.010148Z",
     "shell.execute_reply": "2024-03-25T16:49:04.009146Z",
     "shell.execute_reply.started": "2024-03-25T16:49:04.004477Z"
    },
    "papermill": {
     "duration": 0.009755,
     "end_time": "2024-10-17T14:37:48.107424",
     "exception": false,
     "start_time": "2024-10-17T14:37:48.097669",
     "status": "completed"
    },
    "tags": []
   },
   "source": [
    "**scVI parameters**"
   ]
  },
  {
   "cell_type": "code",
   "execution_count": 9,
   "id": "208966eb-545a-4c02-854c-0ed0487ef5b3",
   "metadata": {
    "execution": {
     "iopub.execute_input": "2024-10-17T14:37:48.128702Z",
     "iopub.status.busy": "2024-10-17T14:37:48.128110Z",
     "iopub.status.idle": "2024-10-17T14:37:48.139079Z",
     "shell.execute_reply": "2024-10-17T14:37:48.137769Z"
    },
    "papermill": {
     "duration": 0.025752,
     "end_time": "2024-10-17T14:37:48.142329",
     "exception": false,
     "start_time": "2024-10-17T14:37:48.116577",
     "status": "completed"
    },
    "tags": []
   },
   "outputs": [],
   "source": [
    "# https://docs.scvi-tools.org/en/stable/api/reference/scvi.train.Trainer.html#scvi.train.Trainer\n",
    "setup_kwargs = dict(\n",
    "    layer=\"counts\", \n",
    "    batch_key='libraryID', \n",
    "    categorical_covariate_keys = ['disease', 'sampleID'],\n",
    ")\n",
    "\n",
    "scvi_kwargs = dict(n_hidden=512,\n",
    "                   n_latent=10, # reduced to 20 after step 00 (main) and to 10 after step 03\n",
    "                   n_layers=2,\n",
    "                   gene_likelihood='nb')\n",
    "\n",
    "trainer_kwargs = dict(\n",
    "    checkpointing_monitor = 'elbo_validation',\n",
    "    early_stopping_monitor = 'reconstruction_loss_validation',\n",
    "    early_stopping_patience = 10,\n",
    "    early_stopping_min_delta=0.1,\n",
    "    early_stopping = True,\n",
    "    max_epochs = 1000,\n",
    "\n",
    "    #logger = # wandb\n",
    ")\n",
    "# https://docs.scvi-tools.org/en/stable/api/reference/scvi.train.TrainingPlan.html#scvi.train.TrainingPlan\n",
    "plan_kwargs = dict(\n",
    "    lr = 5e-4,\n",
    "    #reduce_lr_on_plateau = True\n",
    ")\n",
    "\n",
    "# https://docs.scvi-tools.org/en/stable/api/reference/scvi.module.VAE.html#scvi.module.VAE\n",
    "#vae = dict(\n",
    "#    use_layer_norm='both',\n",
    "#    use_batch_norm='none',\n",
    "#    encode_covariates=True,\n",
    "#    deeply_inject_covariates=False\n",
    "#)\n",
    "parameter_dict = setup_kwargs | scvi_kwargs | trainer_kwargs | plan_kwargs"
   ]
  },
  {
   "cell_type": "markdown",
   "id": "1362366a-c16b-4c11-964b-b9c5f82f7b29",
   "metadata": {
    "papermill": {
     "duration": 0.011287,
     "end_time": "2024-10-17T14:37:48.167166",
     "exception": false,
     "start_time": "2024-10-17T14:37:48.155879",
     "status": "completed"
    },
    "tags": []
   },
   "source": [
    "**wandb parameter**"
   ]
  },
  {
   "cell_type": "code",
   "execution_count": 10,
   "id": "0496e33a-8ca5-423f-b42f-34a59760708c",
   "metadata": {
    "execution": {
     "iopub.execute_input": "2024-10-17T14:37:48.191421Z",
     "iopub.status.busy": "2024-10-17T14:37:48.190889Z",
     "iopub.status.idle": "2024-10-17T14:37:48.199523Z",
     "shell.execute_reply": "2024-10-17T14:37:48.198223Z"
    },
    "papermill": {
     "duration": 0.024037,
     "end_time": "2024-10-17T14:37:48.202602",
     "exception": false,
     "start_time": "2024-10-17T14:37:48.178565",
     "status": "completed"
    },
    "tags": []
   },
   "outputs": [
    {
     "data": {
      "text/plain": [
       "'Step1_Plasma'"
      ]
     },
     "execution_count": 10,
     "metadata": {},
     "output_type": "execute_result"
    }
   ],
   "source": [
    "run_name = f\"{annotationLevel}_{cellGroup}\"\n",
    "run_name"
   ]
  },
  {
   "cell_type": "code",
   "execution_count": 11,
   "id": "b0021327-95a2-4002-bf32-2c5779a99505",
   "metadata": {
    "execution": {
     "iopub.execute_input": "2024-10-17T14:37:48.226312Z",
     "iopub.status.busy": "2024-10-17T14:37:48.225786Z",
     "iopub.status.idle": "2024-10-17T14:37:48.272143Z",
     "shell.execute_reply": "2024-10-17T14:37:48.271747Z"
    },
    "papermill": {
     "duration": 0.061394,
     "end_time": "2024-10-17T14:37:48.275022",
     "exception": false,
     "start_time": "2024-10-17T14:37:48.213628",
     "status": "completed"
    },
    "tags": []
   },
   "outputs": [],
   "source": [
    "logger = CustomWandbLogger(name = run_name, project='inflammation_atlas_R1', config=parameter_dict)"
   ]
  },
  {
   "cell_type": "markdown",
   "id": "c237eee1-a976-4915-9b7f-b014bf33f47d",
   "metadata": {
    "papermill": {
     "duration": 0.01172,
     "end_time": "2024-10-17T14:37:48.299900",
     "exception": false,
     "start_time": "2024-10-17T14:37:48.288180",
     "status": "completed"
    },
    "tags": []
   },
   "source": [
    "**Running integration**"
   ]
  },
  {
   "cell_type": "code",
   "execution_count": 12,
   "id": "aff97c53-1aba-462e-8a77-f1aec9cf724c",
   "metadata": {
    "execution": {
     "iopub.execute_input": "2024-10-17T14:37:48.320185Z",
     "iopub.status.busy": "2024-10-17T14:37:48.319694Z",
     "iopub.status.idle": "2024-10-17T14:37:48.443291Z",
     "shell.execute_reply": "2024-10-17T14:37:48.442708Z"
    },
    "papermill": {
     "duration": 0.137799,
     "end_time": "2024-10-17T14:37:48.446506",
     "exception": false,
     "start_time": "2024-10-17T14:37:48.308707",
     "status": "completed"
    },
    "tags": []
   },
   "outputs": [
    {
     "name": "stderr",
     "output_type": "stream",
     "text": [
      "CUDA backend failed to initialize: Unable to use CUDA because of the following issues with CUDA components:\n",
      "Outdated cuSPARSE installation found.\n",
      "Version JAX was built against: 12200\n",
      "Minimum supported: 12100\n",
      "Installed version: 12002\n",
      "The local installation version must be no lower than 12100. (Set TF_CPP_MIN_LOG_LEVEL=0 and rerun for more info.)\n"
     ]
    }
   ],
   "source": [
    "scvi.model.SCVI.setup_anndata(adata, \n",
    "                              **setup_kwargs)"
   ]
  },
  {
   "cell_type": "code",
   "execution_count": 13,
   "id": "1a56f448-cf44-47c1-81a4-a89caa930fec",
   "metadata": {
    "execution": {
     "iopub.execute_input": "2024-10-17T14:37:48.476728Z",
     "iopub.status.busy": "2024-10-17T14:37:48.476427Z",
     "iopub.status.idle": "2024-10-17T14:37:48.572995Z",
     "shell.execute_reply": "2024-10-17T14:37:48.572413Z"
    },
    "papermill": {
     "duration": 0.114592,
     "end_time": "2024-10-17T14:37:48.576318",
     "exception": false,
     "start_time": "2024-10-17T14:37:48.461726",
     "status": "completed"
    },
    "tags": []
   },
   "outputs": [],
   "source": [
    "model = scvi.model.SCVI(adata, **scvi_kwargs)"
   ]
  },
  {
   "cell_type": "code",
   "execution_count": 14,
   "id": "2735f010-4f24-4ae8-9740-a8cfeb335e9a",
   "metadata": {
    "execution": {
     "iopub.execute_input": "2024-10-17T14:37:48.600563Z",
     "iopub.status.busy": "2024-10-17T14:37:48.600321Z",
     "iopub.status.idle": "2024-10-17T14:38:05.309883Z",
     "shell.execute_reply": "2024-10-17T14:38:05.309416Z"
    },
    "papermill": {
     "duration": 16.723089,
     "end_time": "2024-10-17T14:38:05.312927",
     "exception": false,
     "start_time": "2024-10-17T14:37:48.589838",
     "status": "completed"
    },
    "tags": []
   },
   "outputs": [
    {
     "name": "stderr",
     "output_type": "stream",
     "text": [
      "GPU available: True (cuda), used: True\n"
     ]
    },
    {
     "name": "stderr",
     "output_type": "stream",
     "text": [
      "TPU available: False, using: 0 TPU cores\n"
     ]
    },
    {
     "name": "stderr",
     "output_type": "stream",
     "text": [
      "IPU available: False, using: 0 IPUs\n"
     ]
    },
    {
     "name": "stderr",
     "output_type": "stream",
     "text": [
      "HPU available: False, using: 0 HPUs\n"
     ]
    },
    {
     "name": "stderr",
     "output_type": "stream",
     "text": [
      "\u001b[34m\u001b[1mwandb\u001b[0m: Currently logged in as: \u001b[33mdav1989\u001b[0m (\u001b[33minflammation\u001b[0m). Use \u001b[1m`wandb login --relogin`\u001b[0m to force relogin\n"
     ]
    },
    {
     "name": "stderr",
     "output_type": "stream",
     "text": [
      "\u001b[34m\u001b[1mwandb\u001b[0m: wandb version 0.18.3 is available!  To upgrade, please run:\n",
      "\u001b[34m\u001b[1mwandb\u001b[0m:  $ pip install wandb --upgrade\n"
     ]
    },
    {
     "name": "stderr",
     "output_type": "stream",
     "text": [
      "\u001b[34m\u001b[1mwandb\u001b[0m: Tracking run with wandb version 0.16.5\n"
     ]
    },
    {
     "name": "stderr",
     "output_type": "stream",
     "text": [
      "\u001b[34m\u001b[1mwandb\u001b[0m: Run data is saved locally in \u001b[35m\u001b[1m./wandb/run-20241017_143750-5cenj3a5\u001b[0m\n",
      "\u001b[34m\u001b[1mwandb\u001b[0m: Run \u001b[1m`wandb offline`\u001b[0m to turn off syncing.\n"
     ]
    },
    {
     "name": "stderr",
     "output_type": "stream",
     "text": [
      "\u001b[34m\u001b[1mwandb\u001b[0m: Syncing run \u001b[33mStep1_Plasma\u001b[0m\n"
     ]
    },
    {
     "name": "stderr",
     "output_type": "stream",
     "text": [
      "\u001b[34m\u001b[1mwandb\u001b[0m: ⭐️ View project at \u001b[34m\u001b[4mhttps://wandb.ai/inflammation/inflammation_atlas_R1\u001b[0m\n"
     ]
    },
    {
     "name": "stderr",
     "output_type": "stream",
     "text": [
      "\u001b[34m\u001b[1mwandb\u001b[0m: 🚀 View run at \u001b[34m\u001b[4mhttps://wandb.ai/inflammation/inflammation_atlas_R1/runs/5cenj3a5/workspace\u001b[0m\n"
     ]
    },
    {
     "name": "stderr",
     "output_type": "stream",
     "text": [
      "LOCAL_RANK: 0 - CUDA_VISIBLE_DEVICES: [0]\n"
     ]
    },
    {
     "name": "stdout",
     "output_type": "stream",
     "text": [
      "\r",
      "Training:   0%|                                                                                                                     | 0/1000 [00:00<?, ?it/s]"
     ]
    },
    {
     "name": "stdout",
     "output_type": "stream",
     "text": [
      "\r",
      "Epoch 1/1000:   0%|                                                                                                                 | 0/1000 [00:00<?, ?it/s]"
     ]
    },
    {
     "name": "stdout",
     "output_type": "stream",
     "text": [
      "\r",
      "Epoch 1/1000:   0%|                                                                                                         | 1/1000 [00:00<07:08,  2.33it/s]"
     ]
    },
    {
     "name": "stdout",
     "output_type": "stream",
     "text": [
      "\r",
      "Epoch 1/1000:   0%|                                           | 1/1000 [00:00<07:08,  2.33it/s, v_num=j3a5, train_loss_step=3.12e+3, train_loss_epoch=3.5e+3]"
     ]
    },
    {
     "name": "stdout",
     "output_type": "stream",
     "text": [
      "\r",
      "Epoch 2/1000:   0%|                                           | 1/1000 [00:00<07:08,  2.33it/s, v_num=j3a5, train_loss_step=3.12e+3, train_loss_epoch=3.5e+3]"
     ]
    },
    {
     "name": "stdout",
     "output_type": "stream",
     "text": [
      "\r",
      "Epoch 2/1000:   0%|                                           | 2/1000 [00:00<04:42,  3.54it/s, v_num=j3a5, train_loss_step=3.12e+3, train_loss_epoch=3.5e+3]"
     ]
    },
    {
     "name": "stdout",
     "output_type": "stream",
     "text": [
      "\r",
      "Epoch 2/1000:   0%|                                          | 2/1000 [00:00<04:42,  3.54it/s, v_num=j3a5, train_loss_step=2.72e+3, train_loss_epoch=2.94e+3]"
     ]
    },
    {
     "name": "stdout",
     "output_type": "stream",
     "text": [
      "\r",
      "Epoch 3/1000:   0%|                                          | 2/1000 [00:00<04:42,  3.54it/s, v_num=j3a5, train_loss_step=2.72e+3, train_loss_epoch=2.94e+3]"
     ]
    },
    {
     "name": "stdout",
     "output_type": "stream",
     "text": [
      "\r",
      "Epoch 3/1000:   0%|▏                                         | 3/1000 [00:00<04:01,  4.13it/s, v_num=j3a5, train_loss_step=2.72e+3, train_loss_epoch=2.94e+3]"
     ]
    },
    {
     "name": "stdout",
     "output_type": "stream",
     "text": [
      "\r",
      "Epoch 3/1000:   0%|▏                                         | 3/1000 [00:00<04:01,  4.13it/s, v_num=j3a5, train_loss_step=2.81e+3, train_loss_epoch=2.78e+3]"
     ]
    },
    {
     "name": "stdout",
     "output_type": "stream",
     "text": [
      "\r",
      "Epoch 4/1000:   0%|▏                                         | 3/1000 [00:00<04:01,  4.13it/s, v_num=j3a5, train_loss_step=2.81e+3, train_loss_epoch=2.78e+3]"
     ]
    },
    {
     "name": "stdout",
     "output_type": "stream",
     "text": [
      "\r",
      "Epoch 4/1000:   0%|▏                                         | 4/1000 [00:01<03:53,  4.26it/s, v_num=j3a5, train_loss_step=2.81e+3, train_loss_epoch=2.78e+3]"
     ]
    },
    {
     "name": "stdout",
     "output_type": "stream",
     "text": [
      "\r",
      "Epoch 4/1000:   0%|▏                                         | 4/1000 [00:01<03:53,  4.26it/s, v_num=j3a5, train_loss_step=2.82e+3, train_loss_epoch=2.72e+3]"
     ]
    },
    {
     "name": "stdout",
     "output_type": "stream",
     "text": [
      "\r",
      "Epoch 5/1000:   0%|▏                                         | 4/1000 [00:01<03:53,  4.26it/s, v_num=j3a5, train_loss_step=2.82e+3, train_loss_epoch=2.72e+3]"
     ]
    },
    {
     "name": "stdout",
     "output_type": "stream",
     "text": [
      "\r",
      "Epoch 5/1000:   0%|▏                                         | 5/1000 [00:01<03:32,  4.68it/s, v_num=j3a5, train_loss_step=2.82e+3, train_loss_epoch=2.72e+3]"
     ]
    },
    {
     "name": "stdout",
     "output_type": "stream",
     "text": [
      "\r",
      "Epoch 5/1000:   0%|▏                                         | 5/1000 [00:01<03:32,  4.68it/s, v_num=j3a5, train_loss_step=2.46e+3, train_loss_epoch=2.69e+3]"
     ]
    },
    {
     "name": "stdout",
     "output_type": "stream",
     "text": [
      "\r",
      "Epoch 6/1000:   0%|▏                                         | 5/1000 [00:01<03:32,  4.68it/s, v_num=j3a5, train_loss_step=2.46e+3, train_loss_epoch=2.69e+3]"
     ]
    },
    {
     "name": "stdout",
     "output_type": "stream",
     "text": [
      "\r",
      "Epoch 6/1000:   1%|▎                                         | 6/1000 [00:01<03:20,  4.95it/s, v_num=j3a5, train_loss_step=2.46e+3, train_loss_epoch=2.69e+3]"
     ]
    },
    {
     "name": "stdout",
     "output_type": "stream",
     "text": [
      "\r",
      "Epoch 6/1000:   1%|▎                                         | 6/1000 [00:01<03:20,  4.95it/s, v_num=j3a5, train_loss_step=2.69e+3, train_loss_epoch=2.68e+3]"
     ]
    },
    {
     "name": "stdout",
     "output_type": "stream",
     "text": [
      "\r",
      "Epoch 7/1000:   1%|▎                                         | 6/1000 [00:01<03:20,  4.95it/s, v_num=j3a5, train_loss_step=2.69e+3, train_loss_epoch=2.68e+3]"
     ]
    },
    {
     "name": "stdout",
     "output_type": "stream",
     "text": [
      "\r",
      "Epoch 7/1000:   1%|▎                                         | 7/1000 [00:01<03:12,  5.16it/s, v_num=j3a5, train_loss_step=2.69e+3, train_loss_epoch=2.68e+3]"
     ]
    },
    {
     "name": "stdout",
     "output_type": "stream",
     "text": [
      "\r",
      "Epoch 7/1000:   1%|▎                                         | 7/1000 [00:01<03:12,  5.16it/s, v_num=j3a5, train_loss_step=2.85e+3, train_loss_epoch=2.66e+3]"
     ]
    },
    {
     "name": "stdout",
     "output_type": "stream",
     "text": [
      "\r",
      "Epoch 8/1000:   1%|▎                                         | 7/1000 [00:01<03:12,  5.16it/s, v_num=j3a5, train_loss_step=2.85e+3, train_loss_epoch=2.66e+3]"
     ]
    },
    {
     "name": "stdout",
     "output_type": "stream",
     "text": [
      "\r",
      "Epoch 8/1000:   1%|▎                                         | 8/1000 [00:01<03:28,  4.76it/s, v_num=j3a5, train_loss_step=2.85e+3, train_loss_epoch=2.66e+3]"
     ]
    },
    {
     "name": "stdout",
     "output_type": "stream",
     "text": [
      "\r",
      "Epoch 8/1000:   1%|▎                                         | 8/1000 [00:01<03:28,  4.76it/s, v_num=j3a5, train_loss_step=2.51e+3, train_loss_epoch=2.65e+3]"
     ]
    },
    {
     "name": "stdout",
     "output_type": "stream",
     "text": [
      "\r",
      "Epoch 9/1000:   1%|▎                                         | 8/1000 [00:01<03:28,  4.76it/s, v_num=j3a5, train_loss_step=2.51e+3, train_loss_epoch=2.65e+3]"
     ]
    },
    {
     "name": "stdout",
     "output_type": "stream",
     "text": [
      "\r",
      "Epoch 9/1000:   1%|▍                                         | 9/1000 [00:01<03:21,  4.93it/s, v_num=j3a5, train_loss_step=2.51e+3, train_loss_epoch=2.65e+3]"
     ]
    },
    {
     "name": "stdout",
     "output_type": "stream",
     "text": [
      "\r",
      "Epoch 9/1000:   1%|▍                                         | 9/1000 [00:01<03:21,  4.93it/s, v_num=j3a5, train_loss_step=2.33e+3, train_loss_epoch=2.64e+3]"
     ]
    },
    {
     "name": "stdout",
     "output_type": "stream",
     "text": [
      "\r",
      "Epoch 10/1000:   1%|▎                                        | 9/1000 [00:01<03:21,  4.93it/s, v_num=j3a5, train_loss_step=2.33e+3, train_loss_epoch=2.64e+3]"
     ]
    },
    {
     "name": "stdout",
     "output_type": "stream",
     "text": [
      "\r",
      "Epoch 10/1000:   1%|▍                                       | 10/1000 [00:02<03:21,  4.91it/s, v_num=j3a5, train_loss_step=2.33e+3, train_loss_epoch=2.64e+3]"
     ]
    },
    {
     "name": "stdout",
     "output_type": "stream",
     "text": [
      "\r",
      "Epoch 10/1000:   1%|▍                                       | 10/1000 [00:02<03:21,  4.91it/s, v_num=j3a5, train_loss_step=2.45e+3, train_loss_epoch=2.63e+3]"
     ]
    },
    {
     "name": "stdout",
     "output_type": "stream",
     "text": [
      "\r",
      "Epoch 11/1000:   1%|▍                                       | 10/1000 [00:02<03:21,  4.91it/s, v_num=j3a5, train_loss_step=2.45e+3, train_loss_epoch=2.63e+3]"
     ]
    },
    {
     "name": "stdout",
     "output_type": "stream",
     "text": [
      "\r",
      "Epoch 11/1000:   1%|▍                                       | 11/1000 [00:02<03:20,  4.93it/s, v_num=j3a5, train_loss_step=2.45e+3, train_loss_epoch=2.63e+3]"
     ]
    },
    {
     "name": "stdout",
     "output_type": "stream",
     "text": [
      "\r",
      "Epoch 11/1000:   1%|▍                                       | 11/1000 [00:02<03:20,  4.93it/s, v_num=j3a5, train_loss_step=2.76e+3, train_loss_epoch=2.62e+3]"
     ]
    },
    {
     "name": "stdout",
     "output_type": "stream",
     "text": [
      "\r",
      "Epoch 12/1000:   1%|▍                                       | 11/1000 [00:02<03:20,  4.93it/s, v_num=j3a5, train_loss_step=2.76e+3, train_loss_epoch=2.62e+3]"
     ]
    },
    {
     "name": "stdout",
     "output_type": "stream",
     "text": [
      "\r",
      "Epoch 12/1000:   1%|▍                                       | 12/1000 [00:02<03:17,  4.99it/s, v_num=j3a5, train_loss_step=2.76e+3, train_loss_epoch=2.62e+3]"
     ]
    },
    {
     "name": "stdout",
     "output_type": "stream",
     "text": [
      "\r",
      "Epoch 12/1000:   1%|▍                                       | 12/1000 [00:02<03:17,  4.99it/s, v_num=j3a5, train_loss_step=2.64e+3, train_loss_epoch=2.61e+3]"
     ]
    },
    {
     "name": "stdout",
     "output_type": "stream",
     "text": [
      "\r",
      "Epoch 13/1000:   1%|▍                                       | 12/1000 [00:02<03:17,  4.99it/s, v_num=j3a5, train_loss_step=2.64e+3, train_loss_epoch=2.61e+3]"
     ]
    },
    {
     "name": "stdout",
     "output_type": "stream",
     "text": [
      "\r",
      "Epoch 13/1000:   1%|▌                                       | 13/1000 [00:02<03:13,  5.09it/s, v_num=j3a5, train_loss_step=2.64e+3, train_loss_epoch=2.61e+3]"
     ]
    },
    {
     "name": "stdout",
     "output_type": "stream",
     "text": [
      "\r",
      "Epoch 13/1000:   1%|▌                                        | 13/1000 [00:02<03:13,  5.09it/s, v_num=j3a5, train_loss_step=2.56e+3, train_loss_epoch=2.6e+3]"
     ]
    },
    {
     "name": "stdout",
     "output_type": "stream",
     "text": [
      "\r",
      "Epoch 14/1000:   1%|▌                                        | 13/1000 [00:02<03:13,  5.09it/s, v_num=j3a5, train_loss_step=2.56e+3, train_loss_epoch=2.6e+3]"
     ]
    },
    {
     "name": "stdout",
     "output_type": "stream",
     "text": [
      "\r",
      "Epoch 14/1000:   1%|▌                                        | 14/1000 [00:02<03:13,  5.10it/s, v_num=j3a5, train_loss_step=2.56e+3, train_loss_epoch=2.6e+3]"
     ]
    },
    {
     "name": "stdout",
     "output_type": "stream",
     "text": [
      "\r",
      "Epoch 14/1000:   1%|▌                                       | 14/1000 [00:02<03:13,  5.10it/s, v_num=j3a5, train_loss_step=2.72e+3, train_loss_epoch=2.59e+3]"
     ]
    },
    {
     "name": "stdout",
     "output_type": "stream",
     "text": [
      "\r",
      "Epoch 15/1000:   1%|▌                                       | 14/1000 [00:02<03:13,  5.10it/s, v_num=j3a5, train_loss_step=2.72e+3, train_loss_epoch=2.59e+3]"
     ]
    },
    {
     "name": "stdout",
     "output_type": "stream",
     "text": [
      "\r",
      "Epoch 15/1000:   2%|▌                                       | 15/1000 [00:03<03:11,  5.15it/s, v_num=j3a5, train_loss_step=2.72e+3, train_loss_epoch=2.59e+3]"
     ]
    },
    {
     "name": "stdout",
     "output_type": "stream",
     "text": [
      "\r",
      "Epoch 15/1000:   2%|▌                                       | 15/1000 [00:03<03:11,  5.15it/s, v_num=j3a5, train_loss_step=2.73e+3, train_loss_epoch=2.59e+3]"
     ]
    },
    {
     "name": "stdout",
     "output_type": "stream",
     "text": [
      "\r",
      "Epoch 16/1000:   2%|▌                                       | 15/1000 [00:03<03:11,  5.15it/s, v_num=j3a5, train_loss_step=2.73e+3, train_loss_epoch=2.59e+3]"
     ]
    },
    {
     "name": "stdout",
     "output_type": "stream",
     "text": [
      "\r",
      "Epoch 16/1000:   2%|▋                                       | 16/1000 [00:03<03:07,  5.26it/s, v_num=j3a5, train_loss_step=2.73e+3, train_loss_epoch=2.59e+3]"
     ]
    },
    {
     "name": "stdout",
     "output_type": "stream",
     "text": [
      "\r",
      "Epoch 16/1000:   2%|▋                                       | 16/1000 [00:03<03:07,  5.26it/s, v_num=j3a5, train_loss_step=2.57e+3, train_loss_epoch=2.58e+3]"
     ]
    },
    {
     "name": "stdout",
     "output_type": "stream",
     "text": [
      "\r",
      "Epoch 17/1000:   2%|▋                                       | 16/1000 [00:03<03:07,  5.26it/s, v_num=j3a5, train_loss_step=2.57e+3, train_loss_epoch=2.58e+3]"
     ]
    },
    {
     "name": "stdout",
     "output_type": "stream",
     "text": [
      "\r",
      "Epoch 17/1000:   2%|▋                                       | 17/1000 [00:03<03:02,  5.38it/s, v_num=j3a5, train_loss_step=2.57e+3, train_loss_epoch=2.58e+3]"
     ]
    },
    {
     "name": "stdout",
     "output_type": "stream",
     "text": [
      "\r",
      "Epoch 17/1000:   2%|▋                                       | 17/1000 [00:03<03:02,  5.38it/s, v_num=j3a5, train_loss_step=2.47e+3, train_loss_epoch=2.57e+3]"
     ]
    },
    {
     "name": "stdout",
     "output_type": "stream",
     "text": [
      "\r",
      "Epoch 18/1000:   2%|▋                                       | 17/1000 [00:03<03:02,  5.38it/s, v_num=j3a5, train_loss_step=2.47e+3, train_loss_epoch=2.57e+3]"
     ]
    },
    {
     "name": "stdout",
     "output_type": "stream",
     "text": [
      "\r",
      "Epoch 18/1000:   2%|▋                                       | 18/1000 [00:03<03:16,  5.00it/s, v_num=j3a5, train_loss_step=2.47e+3, train_loss_epoch=2.57e+3]"
     ]
    },
    {
     "name": "stdout",
     "output_type": "stream",
     "text": [
      "\r",
      "Epoch 18/1000:   2%|▋                                       | 18/1000 [00:03<03:16,  5.00it/s, v_num=j3a5, train_loss_step=2.59e+3, train_loss_epoch=2.57e+3]"
     ]
    },
    {
     "name": "stdout",
     "output_type": "stream",
     "text": [
      "\r",
      "Epoch 19/1000:   2%|▋                                       | 18/1000 [00:03<03:16,  5.00it/s, v_num=j3a5, train_loss_step=2.59e+3, train_loss_epoch=2.57e+3]"
     ]
    },
    {
     "name": "stdout",
     "output_type": "stream",
     "text": [
      "\r",
      "Epoch 19/1000:   2%|▊                                       | 19/1000 [00:03<03:22,  4.84it/s, v_num=j3a5, train_loss_step=2.59e+3, train_loss_epoch=2.57e+3]"
     ]
    },
    {
     "name": "stdout",
     "output_type": "stream",
     "text": [
      "\r",
      "Epoch 19/1000:   2%|▊                                       | 19/1000 [00:03<03:22,  4.84it/s, v_num=j3a5, train_loss_step=2.34e+3, train_loss_epoch=2.56e+3]"
     ]
    },
    {
     "name": "stdout",
     "output_type": "stream",
     "text": [
      "\r",
      "Epoch 20/1000:   2%|▊                                       | 19/1000 [00:03<03:22,  4.84it/s, v_num=j3a5, train_loss_step=2.34e+3, train_loss_epoch=2.56e+3]"
     ]
    },
    {
     "name": "stdout",
     "output_type": "stream",
     "text": [
      "\r",
      "Epoch 20/1000:   2%|▊                                       | 20/1000 [00:04<03:28,  4.71it/s, v_num=j3a5, train_loss_step=2.34e+3, train_loss_epoch=2.56e+3]"
     ]
    },
    {
     "name": "stdout",
     "output_type": "stream",
     "text": [
      "\r",
      "Epoch 20/1000:   2%|▊                                        | 20/1000 [00:04<03:28,  4.71it/s, v_num=j3a5, train_loss_step=2.4e+3, train_loss_epoch=2.55e+3]"
     ]
    },
    {
     "name": "stdout",
     "output_type": "stream",
     "text": [
      "\r",
      "Epoch 21/1000:   2%|▊                                        | 20/1000 [00:04<03:28,  4.71it/s, v_num=j3a5, train_loss_step=2.4e+3, train_loss_epoch=2.55e+3]"
     ]
    },
    {
     "name": "stdout",
     "output_type": "stream",
     "text": [
      "\r",
      "Epoch 21/1000:   2%|▊                                        | 21/1000 [00:04<03:29,  4.67it/s, v_num=j3a5, train_loss_step=2.4e+3, train_loss_epoch=2.55e+3]"
     ]
    },
    {
     "name": "stdout",
     "output_type": "stream",
     "text": [
      "\r",
      "Epoch 21/1000:   2%|▊                                       | 21/1000 [00:04<03:29,  4.67it/s, v_num=j3a5, train_loss_step=2.55e+3, train_loss_epoch=2.55e+3]"
     ]
    },
    {
     "name": "stdout",
     "output_type": "stream",
     "text": [
      "\r",
      "Epoch 22/1000:   2%|▊                                       | 21/1000 [00:04<03:29,  4.67it/s, v_num=j3a5, train_loss_step=2.55e+3, train_loss_epoch=2.55e+3]"
     ]
    },
    {
     "name": "stdout",
     "output_type": "stream",
     "text": [
      "\r",
      "Epoch 22/1000:   2%|▉                                       | 22/1000 [00:04<03:27,  4.72it/s, v_num=j3a5, train_loss_step=2.55e+3, train_loss_epoch=2.55e+3]"
     ]
    },
    {
     "name": "stdout",
     "output_type": "stream",
     "text": [
      "\r",
      "Epoch 22/1000:   2%|▉                                       | 22/1000 [00:04<03:27,  4.72it/s, v_num=j3a5, train_loss_step=2.69e+3, train_loss_epoch=2.54e+3]"
     ]
    },
    {
     "name": "stdout",
     "output_type": "stream",
     "text": [
      "\r",
      "Epoch 23/1000:   2%|▉                                       | 22/1000 [00:04<03:27,  4.72it/s, v_num=j3a5, train_loss_step=2.69e+3, train_loss_epoch=2.54e+3]"
     ]
    },
    {
     "name": "stdout",
     "output_type": "stream",
     "text": [
      "\r",
      "Epoch 23/1000:   2%|▉                                       | 23/1000 [00:04<03:33,  4.57it/s, v_num=j3a5, train_loss_step=2.69e+3, train_loss_epoch=2.54e+3]"
     ]
    },
    {
     "name": "stdout",
     "output_type": "stream",
     "text": [
      "\r",
      "Epoch 23/1000:   2%|▉                                       | 23/1000 [00:04<03:33,  4.57it/s, v_num=j3a5, train_loss_step=2.66e+3, train_loss_epoch=2.53e+3]"
     ]
    },
    {
     "name": "stdout",
     "output_type": "stream",
     "text": [
      "\r",
      "Epoch 24/1000:   2%|▉                                       | 23/1000 [00:04<03:33,  4.57it/s, v_num=j3a5, train_loss_step=2.66e+3, train_loss_epoch=2.53e+3]"
     ]
    },
    {
     "name": "stdout",
     "output_type": "stream",
     "text": [
      "\r",
      "Epoch 24/1000:   2%|▉                                       | 24/1000 [00:05<03:21,  4.84it/s, v_num=j3a5, train_loss_step=2.66e+3, train_loss_epoch=2.53e+3]"
     ]
    },
    {
     "name": "stdout",
     "output_type": "stream",
     "text": [
      "\r",
      "Epoch 24/1000:   2%|▉                                        | 24/1000 [00:05<03:21,  4.84it/s, v_num=j3a5, train_loss_step=2.7e+3, train_loss_epoch=2.53e+3]"
     ]
    },
    {
     "name": "stdout",
     "output_type": "stream",
     "text": [
      "\r",
      "Epoch 25/1000:   2%|▉                                        | 24/1000 [00:05<03:21,  4.84it/s, v_num=j3a5, train_loss_step=2.7e+3, train_loss_epoch=2.53e+3]"
     ]
    },
    {
     "name": "stdout",
     "output_type": "stream",
     "text": [
      "\r",
      "Epoch 25/1000:   2%|█                                        | 25/1000 [00:05<03:07,  5.21it/s, v_num=j3a5, train_loss_step=2.7e+3, train_loss_epoch=2.53e+3]"
     ]
    },
    {
     "name": "stdout",
     "output_type": "stream",
     "text": [
      "\r",
      "Epoch 25/1000:   2%|█                                       | 25/1000 [00:05<03:07,  5.21it/s, v_num=j3a5, train_loss_step=2.44e+3, train_loss_epoch=2.52e+3]"
     ]
    },
    {
     "name": "stdout",
     "output_type": "stream",
     "text": [
      "\r",
      "Epoch 26/1000:   2%|█                                       | 25/1000 [00:05<03:07,  5.21it/s, v_num=j3a5, train_loss_step=2.44e+3, train_loss_epoch=2.52e+3]"
     ]
    },
    {
     "name": "stdout",
     "output_type": "stream",
     "text": [
      "\r",
      "Epoch 26/1000:   3%|█                                       | 26/1000 [00:05<03:01,  5.35it/s, v_num=j3a5, train_loss_step=2.44e+3, train_loss_epoch=2.52e+3]"
     ]
    },
    {
     "name": "stdout",
     "output_type": "stream",
     "text": [
      "\r",
      "Epoch 26/1000:   3%|█                                        | 26/1000 [00:05<03:01,  5.35it/s, v_num=j3a5, train_loss_step=2.5e+3, train_loss_epoch=2.52e+3]"
     ]
    },
    {
     "name": "stdout",
     "output_type": "stream",
     "text": [
      "\r",
      "Epoch 27/1000:   3%|█                                        | 26/1000 [00:05<03:01,  5.35it/s, v_num=j3a5, train_loss_step=2.5e+3, train_loss_epoch=2.52e+3]"
     ]
    },
    {
     "name": "stdout",
     "output_type": "stream",
     "text": [
      "\r",
      "Epoch 27/1000:   3%|█                                        | 27/1000 [00:05<02:58,  5.46it/s, v_num=j3a5, train_loss_step=2.5e+3, train_loss_epoch=2.52e+3]"
     ]
    },
    {
     "name": "stdout",
     "output_type": "stream",
     "text": [
      "\r",
      "Epoch 27/1000:   3%|█                                       | 27/1000 [00:05<02:58,  5.46it/s, v_num=j3a5, train_loss_step=2.57e+3, train_loss_epoch=2.51e+3]"
     ]
    },
    {
     "name": "stdout",
     "output_type": "stream",
     "text": [
      "\r",
      "Epoch 28/1000:   3%|█                                       | 27/1000 [00:05<02:58,  5.46it/s, v_num=j3a5, train_loss_step=2.57e+3, train_loss_epoch=2.51e+3]"
     ]
    },
    {
     "name": "stdout",
     "output_type": "stream",
     "text": [
      "\r",
      "Epoch 28/1000:   3%|█                                       | 28/1000 [00:05<02:55,  5.55it/s, v_num=j3a5, train_loss_step=2.57e+3, train_loss_epoch=2.51e+3]"
     ]
    },
    {
     "name": "stdout",
     "output_type": "stream",
     "text": [
      "\r",
      "Epoch 28/1000:   3%|█▏                                       | 28/1000 [00:05<02:55,  5.55it/s, v_num=j3a5, train_loss_step=2.44e+3, train_loss_epoch=2.5e+3]"
     ]
    },
    {
     "name": "stdout",
     "output_type": "stream",
     "text": [
      "\r",
      "Epoch 29/1000:   3%|█▏                                       | 28/1000 [00:05<02:55,  5.55it/s, v_num=j3a5, train_loss_step=2.44e+3, train_loss_epoch=2.5e+3]"
     ]
    },
    {
     "name": "stdout",
     "output_type": "stream",
     "text": [
      "\r",
      "Epoch 29/1000:   3%|█▏                                       | 29/1000 [00:05<02:53,  5.59it/s, v_num=j3a5, train_loss_step=2.44e+3, train_loss_epoch=2.5e+3]"
     ]
    },
    {
     "name": "stdout",
     "output_type": "stream",
     "text": [
      "\r",
      "Epoch 29/1000:   3%|█▏                                       | 29/1000 [00:05<02:53,  5.59it/s, v_num=j3a5, train_loss_step=2.37e+3, train_loss_epoch=2.5e+3]"
     ]
    },
    {
     "name": "stdout",
     "output_type": "stream",
     "text": [
      "\r",
      "Epoch 30/1000:   3%|█▏                                       | 29/1000 [00:05<02:53,  5.59it/s, v_num=j3a5, train_loss_step=2.37e+3, train_loss_epoch=2.5e+3]"
     ]
    },
    {
     "name": "stdout",
     "output_type": "stream",
     "text": [
      "\r",
      "Epoch 30/1000:   3%|█▏                                       | 30/1000 [00:06<02:52,  5.62it/s, v_num=j3a5, train_loss_step=2.37e+3, train_loss_epoch=2.5e+3]"
     ]
    },
    {
     "name": "stdout",
     "output_type": "stream",
     "text": [
      "\r",
      "Epoch 30/1000:   3%|█▏                                      | 30/1000 [00:06<02:52,  5.62it/s, v_num=j3a5, train_loss_step=2.49e+3, train_loss_epoch=2.49e+3]"
     ]
    },
    {
     "name": "stdout",
     "output_type": "stream",
     "text": [
      "\r",
      "Epoch 31/1000:   3%|█▏                                      | 30/1000 [00:06<02:52,  5.62it/s, v_num=j3a5, train_loss_step=2.49e+3, train_loss_epoch=2.49e+3]"
     ]
    },
    {
     "name": "stdout",
     "output_type": "stream",
     "text": [
      "\r",
      "Epoch 31/1000:   3%|█▏                                      | 31/1000 [00:06<02:51,  5.64it/s, v_num=j3a5, train_loss_step=2.49e+3, train_loss_epoch=2.49e+3]"
     ]
    },
    {
     "name": "stdout",
     "output_type": "stream",
     "text": [
      "\r",
      "Epoch 31/1000:   3%|█▏                                      | 31/1000 [00:06<02:51,  5.64it/s, v_num=j3a5, train_loss_step=2.54e+3, train_loss_epoch=2.48e+3]"
     ]
    },
    {
     "name": "stdout",
     "output_type": "stream",
     "text": [
      "\r",
      "Epoch 32/1000:   3%|█▏                                      | 31/1000 [00:06<02:51,  5.64it/s, v_num=j3a5, train_loss_step=2.54e+3, train_loss_epoch=2.48e+3]"
     ]
    },
    {
     "name": "stdout",
     "output_type": "stream",
     "text": [
      "\r",
      "Epoch 32/1000:   3%|█▎                                      | 32/1000 [00:06<02:50,  5.68it/s, v_num=j3a5, train_loss_step=2.54e+3, train_loss_epoch=2.48e+3]"
     ]
    },
    {
     "name": "stdout",
     "output_type": "stream",
     "text": [
      "\r",
      "Epoch 32/1000:   3%|█▎                                      | 32/1000 [00:06<02:50,  5.68it/s, v_num=j3a5, train_loss_step=2.27e+3, train_loss_epoch=2.48e+3]"
     ]
    },
    {
     "name": "stdout",
     "output_type": "stream",
     "text": [
      "\r",
      "Epoch 33/1000:   3%|█▎                                      | 32/1000 [00:06<02:50,  5.68it/s, v_num=j3a5, train_loss_step=2.27e+3, train_loss_epoch=2.48e+3]"
     ]
    },
    {
     "name": "stdout",
     "output_type": "stream",
     "text": [
      "\r",
      "Epoch 33/1000:   3%|█▎                                      | 33/1000 [00:06<02:50,  5.67it/s, v_num=j3a5, train_loss_step=2.27e+3, train_loss_epoch=2.48e+3]"
     ]
    },
    {
     "name": "stdout",
     "output_type": "stream",
     "text": [
      "\r",
      "Epoch 33/1000:   3%|█▎                                      | 33/1000 [00:06<02:50,  5.67it/s, v_num=j3a5, train_loss_step=2.55e+3, train_loss_epoch=2.47e+3]"
     ]
    },
    {
     "name": "stdout",
     "output_type": "stream",
     "text": [
      "\r",
      "Epoch 34/1000:   3%|█▎                                      | 33/1000 [00:06<02:50,  5.67it/s, v_num=j3a5, train_loss_step=2.55e+3, train_loss_epoch=2.47e+3]"
     ]
    },
    {
     "name": "stdout",
     "output_type": "stream",
     "text": [
      "\r",
      "Epoch 34/1000:   3%|█▎                                      | 34/1000 [00:06<02:49,  5.69it/s, v_num=j3a5, train_loss_step=2.55e+3, train_loss_epoch=2.47e+3]"
     ]
    },
    {
     "name": "stdout",
     "output_type": "stream",
     "text": [
      "\r",
      "Epoch 34/1000:   3%|█▎                                      | 34/1000 [00:06<02:49,  5.69it/s, v_num=j3a5, train_loss_step=2.59e+3, train_loss_epoch=2.47e+3]"
     ]
    },
    {
     "name": "stdout",
     "output_type": "stream",
     "text": [
      "\r",
      "Epoch 35/1000:   3%|█▎                                      | 34/1000 [00:06<02:49,  5.69it/s, v_num=j3a5, train_loss_step=2.59e+3, train_loss_epoch=2.47e+3]"
     ]
    },
    {
     "name": "stdout",
     "output_type": "stream",
     "text": [
      "\r",
      "Epoch 35/1000:   4%|█▍                                      | 35/1000 [00:06<02:49,  5.71it/s, v_num=j3a5, train_loss_step=2.59e+3, train_loss_epoch=2.47e+3]"
     ]
    },
    {
     "name": "stdout",
     "output_type": "stream",
     "text": [
      "\r",
      "Epoch 35/1000:   4%|█▍                                       | 35/1000 [00:06<02:49,  5.71it/s, v_num=j3a5, train_loss_step=2.4e+3, train_loss_epoch=2.46e+3]"
     ]
    },
    {
     "name": "stdout",
     "output_type": "stream",
     "text": [
      "\r",
      "Epoch 36/1000:   4%|█▍                                       | 35/1000 [00:06<02:49,  5.71it/s, v_num=j3a5, train_loss_step=2.4e+3, train_loss_epoch=2.46e+3]"
     ]
    },
    {
     "name": "stdout",
     "output_type": "stream",
     "text": [
      "\r",
      "Epoch 36/1000:   4%|█▍                                       | 36/1000 [00:07<02:56,  5.46it/s, v_num=j3a5, train_loss_step=2.4e+3, train_loss_epoch=2.46e+3]"
     ]
    },
    {
     "name": "stdout",
     "output_type": "stream",
     "text": [
      "\r",
      "Epoch 36/1000:   4%|█▍                                      | 36/1000 [00:07<02:56,  5.46it/s, v_num=j3a5, train_loss_step=2.57e+3, train_loss_epoch=2.45e+3]"
     ]
    },
    {
     "name": "stdout",
     "output_type": "stream",
     "text": [
      "\r",
      "Epoch 37/1000:   4%|█▍                                      | 36/1000 [00:07<02:56,  5.46it/s, v_num=j3a5, train_loss_step=2.57e+3, train_loss_epoch=2.45e+3]"
     ]
    },
    {
     "name": "stdout",
     "output_type": "stream",
     "text": [
      "\r",
      "Epoch 37/1000:   4%|█▍                                      | 37/1000 [00:07<02:48,  5.72it/s, v_num=j3a5, train_loss_step=2.57e+3, train_loss_epoch=2.45e+3]"
     ]
    },
    {
     "name": "stdout",
     "output_type": "stream",
     "text": [
      "\r",
      "Epoch 37/1000:   4%|█▍                                      | 37/1000 [00:07<02:48,  5.72it/s, v_num=j3a5, train_loss_step=2.52e+3, train_loss_epoch=2.45e+3]"
     ]
    },
    {
     "name": "stdout",
     "output_type": "stream",
     "text": [
      "\r",
      "Epoch 38/1000:   4%|█▍                                      | 37/1000 [00:07<02:48,  5.72it/s, v_num=j3a5, train_loss_step=2.52e+3, train_loss_epoch=2.45e+3]"
     ]
    },
    {
     "name": "stdout",
     "output_type": "stream",
     "text": [
      "\r",
      "Epoch 38/1000:   4%|█▌                                      | 38/1000 [00:07<02:36,  6.13it/s, v_num=j3a5, train_loss_step=2.52e+3, train_loss_epoch=2.45e+3]"
     ]
    },
    {
     "name": "stdout",
     "output_type": "stream",
     "text": [
      "\r",
      "Epoch 38/1000:   4%|█▌                                      | 38/1000 [00:07<02:36,  6.13it/s, v_num=j3a5, train_loss_step=2.39e+3, train_loss_epoch=2.44e+3]"
     ]
    },
    {
     "name": "stdout",
     "output_type": "stream",
     "text": [
      "\r",
      "Epoch 39/1000:   4%|█▌                                      | 38/1000 [00:07<02:36,  6.13it/s, v_num=j3a5, train_loss_step=2.39e+3, train_loss_epoch=2.44e+3]"
     ]
    },
    {
     "name": "stdout",
     "output_type": "stream",
     "text": [
      "\r",
      "Epoch 39/1000:   4%|█▌                                      | 39/1000 [00:07<02:28,  6.45it/s, v_num=j3a5, train_loss_step=2.39e+3, train_loss_epoch=2.44e+3]"
     ]
    },
    {
     "name": "stdout",
     "output_type": "stream",
     "text": [
      "\r",
      "Epoch 39/1000:   4%|█▌                                      | 39/1000 [00:07<02:28,  6.45it/s, v_num=j3a5, train_loss_step=2.44e+3, train_loss_epoch=2.43e+3]"
     ]
    },
    {
     "name": "stdout",
     "output_type": "stream",
     "text": [
      "\r",
      "Epoch 40/1000:   4%|█▌                                      | 39/1000 [00:07<02:28,  6.45it/s, v_num=j3a5, train_loss_step=2.44e+3, train_loss_epoch=2.43e+3]"
     ]
    },
    {
     "name": "stdout",
     "output_type": "stream",
     "text": [
      "\r",
      "Epoch 40/1000:   4%|█▌                                      | 40/1000 [00:07<02:24,  6.67it/s, v_num=j3a5, train_loss_step=2.44e+3, train_loss_epoch=2.43e+3]"
     ]
    },
    {
     "name": "stdout",
     "output_type": "stream",
     "text": [
      "\r",
      "Epoch 40/1000:   4%|█▌                                      | 40/1000 [00:07<02:24,  6.67it/s, v_num=j3a5, train_loss_step=2.56e+3, train_loss_epoch=2.43e+3]"
     ]
    },
    {
     "name": "stdout",
     "output_type": "stream",
     "text": [
      "\r",
      "Epoch 41/1000:   4%|█▌                                      | 40/1000 [00:07<02:24,  6.67it/s, v_num=j3a5, train_loss_step=2.56e+3, train_loss_epoch=2.43e+3]"
     ]
    },
    {
     "name": "stdout",
     "output_type": "stream",
     "text": [
      "\r",
      "Epoch 41/1000:   4%|█▋                                      | 41/1000 [00:07<02:19,  6.86it/s, v_num=j3a5, train_loss_step=2.56e+3, train_loss_epoch=2.43e+3]"
     ]
    },
    {
     "name": "stdout",
     "output_type": "stream",
     "text": [
      "\r",
      "Epoch 41/1000:   4%|█▋                                      | 41/1000 [00:07<02:19,  6.86it/s, v_num=j3a5, train_loss_step=2.59e+3, train_loss_epoch=2.42e+3]"
     ]
    },
    {
     "name": "stdout",
     "output_type": "stream",
     "text": [
      "\r",
      "Epoch 42/1000:   4%|█▋                                      | 41/1000 [00:07<02:19,  6.86it/s, v_num=j3a5, train_loss_step=2.59e+3, train_loss_epoch=2.42e+3]"
     ]
    },
    {
     "name": "stdout",
     "output_type": "stream",
     "text": [
      "\r",
      "Epoch 42/1000:   4%|█▋                                      | 42/1000 [00:07<02:17,  6.98it/s, v_num=j3a5, train_loss_step=2.59e+3, train_loss_epoch=2.42e+3]"
     ]
    },
    {
     "name": "stdout",
     "output_type": "stream",
     "text": [
      "\r",
      "Epoch 42/1000:   4%|█▋                                      | 42/1000 [00:07<02:17,  6.98it/s, v_num=j3a5, train_loss_step=2.51e+3, train_loss_epoch=2.42e+3]"
     ]
    },
    {
     "name": "stdout",
     "output_type": "stream",
     "text": [
      "\r",
      "Epoch 43/1000:   4%|█▋                                      | 42/1000 [00:07<02:17,  6.98it/s, v_num=j3a5, train_loss_step=2.51e+3, train_loss_epoch=2.42e+3]"
     ]
    },
    {
     "name": "stdout",
     "output_type": "stream",
     "text": [
      "\r",
      "Epoch 43/1000:   4%|█▋                                      | 43/1000 [00:08<02:14,  7.09it/s, v_num=j3a5, train_loss_step=2.51e+3, train_loss_epoch=2.42e+3]"
     ]
    },
    {
     "name": "stdout",
     "output_type": "stream",
     "text": [
      "\r",
      "Epoch 43/1000:   4%|█▋                                      | 43/1000 [00:08<02:14,  7.09it/s, v_num=j3a5, train_loss_step=2.31e+3, train_loss_epoch=2.41e+3]"
     ]
    },
    {
     "name": "stdout",
     "output_type": "stream",
     "text": [
      "\r",
      "Epoch 44/1000:   4%|█▋                                      | 43/1000 [00:08<02:14,  7.09it/s, v_num=j3a5, train_loss_step=2.31e+3, train_loss_epoch=2.41e+3]"
     ]
    },
    {
     "name": "stdout",
     "output_type": "stream",
     "text": [
      "\r",
      "Epoch 44/1000:   4%|█▊                                      | 44/1000 [00:08<02:13,  7.16it/s, v_num=j3a5, train_loss_step=2.31e+3, train_loss_epoch=2.41e+3]"
     ]
    },
    {
     "name": "stdout",
     "output_type": "stream",
     "text": [
      "\r",
      "Epoch 44/1000:   4%|█▊                                      | 44/1000 [00:08<02:13,  7.16it/s, v_num=j3a5, train_loss_step=2.52e+3, train_loss_epoch=2.41e+3]"
     ]
    },
    {
     "name": "stdout",
     "output_type": "stream",
     "text": [
      "\r",
      "Epoch 45/1000:   4%|█▊                                      | 44/1000 [00:08<02:13,  7.16it/s, v_num=j3a5, train_loss_step=2.52e+3, train_loss_epoch=2.41e+3]"
     ]
    },
    {
     "name": "stdout",
     "output_type": "stream",
     "text": [
      "\r",
      "Epoch 45/1000:   4%|█▊                                      | 45/1000 [00:08<02:12,  7.22it/s, v_num=j3a5, train_loss_step=2.52e+3, train_loss_epoch=2.41e+3]"
     ]
    },
    {
     "name": "stdout",
     "output_type": "stream",
     "text": [
      "\r",
      "Epoch 45/1000:   4%|█▉                                        | 45/1000 [00:08<02:12,  7.22it/s, v_num=j3a5, train_loss_step=2.6e+3, train_loss_epoch=2.4e+3]"
     ]
    },
    {
     "name": "stdout",
     "output_type": "stream",
     "text": [
      "\r",
      "Epoch 46/1000:   4%|█▉                                        | 45/1000 [00:08<02:12,  7.22it/s, v_num=j3a5, train_loss_step=2.6e+3, train_loss_epoch=2.4e+3]"
     ]
    },
    {
     "name": "stdout",
     "output_type": "stream",
     "text": [
      "\r",
      "Epoch 46/1000:   5%|█▉                                        | 46/1000 [00:08<02:11,  7.27it/s, v_num=j3a5, train_loss_step=2.6e+3, train_loss_epoch=2.4e+3]"
     ]
    },
    {
     "name": "stdout",
     "output_type": "stream",
     "text": [
      "\r",
      "Epoch 46/1000:   5%|█▊                                      | 46/1000 [00:08<02:11,  7.27it/s, v_num=j3a5, train_loss_step=2.46e+3, train_loss_epoch=2.39e+3]"
     ]
    },
    {
     "name": "stdout",
     "output_type": "stream",
     "text": [
      "\r",
      "Epoch 47/1000:   5%|█▊                                      | 46/1000 [00:08<02:11,  7.27it/s, v_num=j3a5, train_loss_step=2.46e+3, train_loss_epoch=2.39e+3]"
     ]
    },
    {
     "name": "stdout",
     "output_type": "stream",
     "text": [
      "\r",
      "Epoch 47/1000:   5%|█▉                                      | 47/1000 [00:08<02:11,  7.26it/s, v_num=j3a5, train_loss_step=2.46e+3, train_loss_epoch=2.39e+3]"
     ]
    },
    {
     "name": "stdout",
     "output_type": "stream",
     "text": [
      "\r",
      "Epoch 47/1000:   5%|█▉                                      | 47/1000 [00:08<02:11,  7.26it/s, v_num=j3a5, train_loss_step=2.37e+3, train_loss_epoch=2.39e+3]"
     ]
    },
    {
     "name": "stdout",
     "output_type": "stream",
     "text": [
      "\r",
      "Epoch 48/1000:   5%|█▉                                      | 47/1000 [00:08<02:11,  7.26it/s, v_num=j3a5, train_loss_step=2.37e+3, train_loss_epoch=2.39e+3]"
     ]
    },
    {
     "name": "stdout",
     "output_type": "stream",
     "text": [
      "\r",
      "Epoch 48/1000:   5%|█▉                                      | 48/1000 [00:08<02:10,  7.27it/s, v_num=j3a5, train_loss_step=2.37e+3, train_loss_epoch=2.39e+3]"
     ]
    },
    {
     "name": "stdout",
     "output_type": "stream",
     "text": [
      "\r",
      "Epoch 48/1000:   5%|█▉                                      | 48/1000 [00:08<02:10,  7.27it/s, v_num=j3a5, train_loss_step=2.24e+3, train_loss_epoch=2.38e+3]"
     ]
    },
    {
     "name": "stdout",
     "output_type": "stream",
     "text": [
      "\r",
      "Epoch 49/1000:   5%|█▉                                      | 48/1000 [00:08<02:10,  7.27it/s, v_num=j3a5, train_loss_step=2.24e+3, train_loss_epoch=2.38e+3]"
     ]
    },
    {
     "name": "stdout",
     "output_type": "stream",
     "text": [
      "\r",
      "Epoch 49/1000:   5%|█▉                                      | 49/1000 [00:08<02:10,  7.28it/s, v_num=j3a5, train_loss_step=2.24e+3, train_loss_epoch=2.38e+3]"
     ]
    },
    {
     "name": "stdout",
     "output_type": "stream",
     "text": [
      "\r",
      "Epoch 49/1000:   5%|█▉                                      | 49/1000 [00:08<02:10,  7.28it/s, v_num=j3a5, train_loss_step=2.29e+3, train_loss_epoch=2.37e+3]"
     ]
    },
    {
     "name": "stdout",
     "output_type": "stream",
     "text": [
      "\r",
      "Epoch 50/1000:   5%|█▉                                      | 49/1000 [00:08<02:10,  7.28it/s, v_num=j3a5, train_loss_step=2.29e+3, train_loss_epoch=2.37e+3]"
     ]
    },
    {
     "name": "stdout",
     "output_type": "stream",
     "text": [
      "\r",
      "Epoch 50/1000:   5%|██                                      | 50/1000 [00:09<02:10,  7.27it/s, v_num=j3a5, train_loss_step=2.29e+3, train_loss_epoch=2.37e+3]"
     ]
    },
    {
     "name": "stdout",
     "output_type": "stream",
     "text": [
      "\r",
      "Epoch 50/1000:   5%|██                                      | 50/1000 [00:09<02:10,  7.27it/s, v_num=j3a5, train_loss_step=2.22e+3, train_loss_epoch=2.37e+3]"
     ]
    },
    {
     "name": "stdout",
     "output_type": "stream",
     "text": [
      "\r",
      "Epoch 51/1000:   5%|██                                      | 50/1000 [00:09<02:10,  7.27it/s, v_num=j3a5, train_loss_step=2.22e+3, train_loss_epoch=2.37e+3]"
     ]
    },
    {
     "name": "stdout",
     "output_type": "stream",
     "text": [
      "\r",
      "Epoch 51/1000:   5%|██                                      | 51/1000 [00:09<02:10,  7.28it/s, v_num=j3a5, train_loss_step=2.22e+3, train_loss_epoch=2.37e+3]"
     ]
    },
    {
     "name": "stdout",
     "output_type": "stream",
     "text": [
      "\r",
      "Epoch 51/1000:   5%|██                                      | 51/1000 [00:09<02:10,  7.28it/s, v_num=j3a5, train_loss_step=2.37e+3, train_loss_epoch=2.36e+3]"
     ]
    },
    {
     "name": "stdout",
     "output_type": "stream",
     "text": [
      "\r",
      "Epoch 51/1000:   5%|██                                      | 51/1000 [00:09<02:51,  5.53it/s, v_num=j3a5, train_loss_step=2.37e+3, train_loss_epoch=2.36e+3]"
     ]
    },
    {
     "name": "stdout",
     "output_type": "stream",
     "text": [
      "\n"
     ]
    },
    {
     "name": "stdout",
     "output_type": "stream",
     "text": [
      "Monitored metric reconstruction_loss_validation did not improve in the last 10 records. Best score: 2874.995. Signaling Trainer to stop."
     ]
    },
    {
     "name": "stdout",
     "output_type": "stream",
     "text": [
      "\n"
     ]
    }
   ],
   "source": [
    "model.train(logger=logger, plan_kwargs = plan_kwargs, **trainer_kwargs)"
   ]
  },
  {
   "cell_type": "code",
   "execution_count": 15,
   "id": "c282f6eb-0ad1-40a5-81e6-1acda1545dad",
   "metadata": {
    "execution": {
     "iopub.execute_input": "2024-10-17T14:38:05.359071Z",
     "iopub.status.busy": "2024-10-17T14:38:05.358494Z",
     "iopub.status.idle": "2024-10-17T14:38:11.010074Z",
     "shell.execute_reply": "2024-10-17T14:38:11.008702Z"
    },
    "papermill": {
     "duration": 5.674414,
     "end_time": "2024-10-17T14:38:11.013545",
     "exception": false,
     "start_time": "2024-10-17T14:38:05.339131",
     "status": "completed"
    },
    "tags": []
   },
   "outputs": [
    {
     "name": "stderr",
     "output_type": "stream",
     "text": [
      "\u001b[34m\u001b[1mwandb\u001b[0m: - 0.005 MB of 0.005 MB uploaded\r"
     ]
    },
    {
     "name": "stderr",
     "output_type": "stream",
     "text": [
      "\u001b[34m\u001b[1mwandb\u001b[0m: \\ 0.005 MB of 0.025 MB uploaded\r"
     ]
    },
    {
     "name": "stderr",
     "output_type": "stream",
     "text": [
      "\u001b[34m\u001b[1mwandb\u001b[0m: | 0.005 MB of 0.025 MB uploaded\r"
     ]
    },
    {
     "name": "stderr",
     "output_type": "stream",
     "text": [
      "\u001b[34m\u001b[1mwandb\u001b[0m: / 0.025 MB of 0.025 MB uploaded\r"
     ]
    },
    {
     "name": "stderr",
     "output_type": "stream",
     "text": [
      "\u001b[34m\u001b[1mwandb\u001b[0m:                                                                                \n"
     ]
    },
    {
     "name": "stderr",
     "output_type": "stream",
     "text": [
      "\u001b[34m\u001b[1mwandb\u001b[0m: \n",
      "\u001b[34m\u001b[1mwandb\u001b[0m: Run history:\n",
      "\u001b[34m\u001b[1mwandb\u001b[0m:                     elbo_train █▄▄▃▃▃▃▃▃▃▂▂▂▂▂▂▂▂▂▂▂▂▂▂▂▂▂▂▂▂▁▁▁▁▁▁▁▁▁▁\n",
      "\u001b[34m\u001b[1mwandb\u001b[0m:                elbo_validation ██▇▆▅▄▄▃▃▂▂▂▂▂▂▁▁▁▁▁▁▁▁▁▁▁▁▁▁▁▁▁▁▁▁▁▁▁▁▁\n",
      "\u001b[34m\u001b[1mwandb\u001b[0m:                          epoch ▁▁▁▂▂▂▂▂▂▃▃▃▃▃▄▄▄▄▄▅▅▅▅▅▅▅▆▆▆▆▆▇▇▇▇▇████\n",
      "\u001b[34m\u001b[1mwandb\u001b[0m:                kl_global_train ▁▁▁▁▁▁▁▁▁▁▁▁▁▁▁▁▁▁▁▁▁▁▁▁▁▁▁▁▁▁▁▁▁▁▁▁▁▁▁▁\n",
      "\u001b[34m\u001b[1mwandb\u001b[0m:           kl_global_validation ▁▁▁▁▁▁▁▁▁▁▁▁▁▁▁▁▁▁▁▁▁▁▁▁▁▁▁▁▁▁▁▁▁▁▁▁▁▁▁▁\n",
      "\u001b[34m\u001b[1mwandb\u001b[0m:                 kl_local_train ▁▂▃▄▅▅▅▆▆▆▆▇▇▇▇▇▇▇▇▇████████████████████\n",
      "\u001b[34m\u001b[1mwandb\u001b[0m:            kl_local_validation ▁▁▁▁▁▁▂▂▂▂▂▃▃▃▄▄▅▅▅▆▆▆▆▆▆▇▇▇▇▇▇▇▇▇▇▇████\n",
      "\u001b[34m\u001b[1mwandb\u001b[0m:                      kl_weight ▁▁▁▂▂▂▂▂▂▃▃▃▃▃▄▄▄▄▄▄▅▅▅▅▅▅▆▆▆▆▆▆▇▇▇▇▇███\n",
      "\u001b[34m\u001b[1mwandb\u001b[0m:      reconstruction_loss_train █▅▄▃▃▃▃▃▃▃▂▂▂▂▂▂▂▂▂▂▂▂▂▂▂▂▂▂▂▁▁▁▁▁▁▁▁▁▁▁\n",
      "\u001b[34m\u001b[1mwandb\u001b[0m: reconstruction_loss_validation ██▇▆▅▄▄▃▃▂▂▂▂▂▂▁▁▁▁▁▁▁▁▁▁▁▁▁▁▁▁▁▁▁▁▁▁▁▁▁\n",
      "\u001b[34m\u001b[1mwandb\u001b[0m:               train_loss_epoch █▅▄▃▃▃▃▃▃▃▂▂▂▂▂▂▂▂▂▂▂▂▂▂▂▂▂▂▂▁▁▁▁▁▁▁▁▁▁▁\n",
      "\u001b[34m\u001b[1mwandb\u001b[0m:                train_loss_step █▆▅▅▄▃▄▄▃▃▃▃▃▄▃▂▃▂▃▃▃▃▃▃▂▃▁▁▁▂▂▃▂▃▃▂▂▁▂▁\n",
      "\u001b[34m\u001b[1mwandb\u001b[0m:            trainer/global_step ▁▁▁▂▂▂▂▂▂▃▃▃▃▃▄▄▄▄▄▄▅▅▅▅▅▅▆▆▆▆▆▇▇▇▇▇▇███\n",
      "\u001b[34m\u001b[1mwandb\u001b[0m:                validation_loss ██▇▆▅▄▄▃▃▂▂▂▂▂▂▁▁▁▁▁▁▁▁▁▁▁▁▁▁▁▁▁▁▁▁▁▁▁▁▁\n",
      "\u001b[34m\u001b[1mwandb\u001b[0m: \n",
      "\u001b[34m\u001b[1mwandb\u001b[0m: Run summary:\n",
      "\u001b[34m\u001b[1mwandb\u001b[0m:                     elbo_train 2386.64014\n",
      "\u001b[34m\u001b[1mwandb\u001b[0m:                elbo_validation 2930.38257\n",
      "\u001b[34m\u001b[1mwandb\u001b[0m:                          epoch 50\n",
      "\u001b[34m\u001b[1mwandb\u001b[0m:                kl_global_train 0.0\n",
      "\u001b[34m\u001b[1mwandb\u001b[0m:           kl_global_validation 0.0\n",
      "\u001b[34m\u001b[1mwandb\u001b[0m:                 kl_local_train 30.05817\n",
      "\u001b[34m\u001b[1mwandb\u001b[0m:            kl_local_validation 24.76239\n",
      "\u001b[34m\u001b[1mwandb\u001b[0m:                      kl_weight 0.125\n",
      "\u001b[34m\u001b[1mwandb\u001b[0m:      reconstruction_loss_train 2356.58203\n",
      "\u001b[34m\u001b[1mwandb\u001b[0m: reconstruction_loss_validation 2905.62012\n",
      "\u001b[34m\u001b[1mwandb\u001b[0m:               train_loss_epoch 2360.33936\n",
      "\u001b[34m\u001b[1mwandb\u001b[0m:                train_loss_step 2321.46826\n",
      "\u001b[34m\u001b[1mwandb\u001b[0m:            trainer/global_step 560\n",
      "\u001b[34m\u001b[1mwandb\u001b[0m:                validation_loss 2908.71558\n",
      "\u001b[34m\u001b[1mwandb\u001b[0m: \n"
     ]
    },
    {
     "name": "stderr",
     "output_type": "stream",
     "text": [
      "\u001b[34m\u001b[1mwandb\u001b[0m: 🚀 View run \u001b[33mStep1_Plasma\u001b[0m at: \u001b[34m\u001b[4mhttps://wandb.ai/inflammation/inflammation_atlas_R1/runs/5cenj3a5/workspace\u001b[0m\n",
      "\u001b[34m\u001b[1mwandb\u001b[0m: Synced 6 W&B file(s), 0 media file(s), 0 artifact file(s) and 0 other file(s)\n"
     ]
    },
    {
     "name": "stderr",
     "output_type": "stream",
     "text": [
      "\u001b[34m\u001b[1mwandb\u001b[0m: Find logs at: \u001b[35m\u001b[1m./wandb/run-20241017_143750-5cenj3a5/logs\u001b[0m\n"
     ]
    }
   ],
   "source": [
    "wandb.finish()"
   ]
  },
  {
   "cell_type": "markdown",
   "id": "d9fb1179-83c7-4ac6-b4aa-92dc7a349801",
   "metadata": {
    "papermill": {
     "duration": 0.015696,
     "end_time": "2024-10-17T14:38:11.062759",
     "exception": false,
     "start_time": "2024-10-17T14:38:11.047063",
     "status": "completed"
    },
    "tags": []
   },
   "source": [
    "### Extracting embedding space"
   ]
  },
  {
   "cell_type": "code",
   "execution_count": 16,
   "id": "caaa5832-0123-4c59-8ec6-f46a75f7a14e",
   "metadata": {
    "execution": {
     "iopub.execute_input": "2024-10-17T14:38:11.090076Z",
     "iopub.status.busy": "2024-10-17T14:38:11.089415Z",
     "iopub.status.idle": "2024-10-17T14:38:11.197709Z",
     "shell.execute_reply": "2024-10-17T14:38:11.197207Z"
    },
    "papermill": {
     "duration": 0.123807,
     "end_time": "2024-10-17T14:38:11.199291",
     "exception": false,
     "start_time": "2024-10-17T14:38:11.075484",
     "status": "completed"
    },
    "tags": []
   },
   "outputs": [],
   "source": [
    "adata.obsm['X_scVI'] = model.get_latent_representation()"
   ]
  },
  {
   "cell_type": "markdown",
   "id": "2f03e70b-839c-40a6-9fbb-d76bbd787419",
   "metadata": {
    "papermill": {
     "duration": 0.012604,
     "end_time": "2024-10-17T14:38:11.225179",
     "exception": false,
     "start_time": "2024-10-17T14:38:11.212575",
     "status": "completed"
    },
    "tags": []
   },
   "source": [
    "## Save the results"
   ]
  },
  {
   "cell_type": "code",
   "execution_count": 17,
   "id": "7b04049b-47fd-4b62-a1c0-c43dcc086d34",
   "metadata": {
    "execution": {
     "iopub.execute_input": "2024-10-17T14:38:11.250663Z",
     "iopub.status.busy": "2024-10-17T14:38:11.250472Z",
     "iopub.status.idle": "2024-10-17T14:38:12.370627Z",
     "shell.execute_reply": "2024-10-17T14:38:12.369116Z"
    },
    "papermill": {
     "duration": 1.137028,
     "end_time": "2024-10-17T14:38:12.374363",
     "exception": false,
     "start_time": "2024-10-17T14:38:11.237335",
     "status": "completed"
    },
    "tags": []
   },
   "outputs": [],
   "source": [
    "if overwriteData:\n",
    "    adata.write(here(f\"{workDir}/{cellGroup}/results/02_{annotationLevel}_{cellGroup}_HVGsubset_scVI.h5ad\"), compression=\"gzip\")\n",
    "    model.save(here(f\"{workDir}/{cellGroup}/results/02_{annotationLevel}_{cellGroup}_HVGsubset_scVI_MODEL/\"),\n",
    "               overwrite = True, \n",
    "               save_anndata = False )   "
   ]
  },
  {
   "cell_type": "code",
   "execution_count": 18,
   "id": "629ba2bd-f6be-44ef-8fca-bbdf891bf25f",
   "metadata": {
    "execution": {
     "iopub.execute_input": "2024-10-17T14:38:12.420847Z",
     "iopub.status.busy": "2024-10-17T14:38:12.420621Z",
     "iopub.status.idle": "2024-10-17T14:38:12.424882Z",
     "shell.execute_reply": "2024-10-17T14:38:12.423745Z"
    },
    "papermill": {
     "duration": 0.022147,
     "end_time": "2024-10-17T14:38:12.426317",
     "exception": false,
     "start_time": "2024-10-17T14:38:12.404170",
     "status": "completed"
    },
    "tags": []
   },
   "outputs": [],
   "source": [
    "# To load the model do (after loading corresponding adata):\n",
    "# model = scvi.model.SCVI.load(here('{}/results/01_{}_HVGsubset_scVI_MODEL/'.format(workDir, cellGroup)), \n",
    "#                              adata, \n",
    "#                              use_gpu=True)"
   ]
  },
  {
   "cell_type": "raw",
   "id": "975e84d0-f56b-498d-b3a8-c9219cf22e53",
   "metadata": {
    "papermill": {
     "duration": 0.012575,
     "end_time": "2024-10-17T14:38:12.450513",
     "exception": false,
     "start_time": "2024-10-17T14:38:12.437938",
     "status": "completed"
    },
    "tags": []
   },
   "source": [
    "session_info.show()"
   ]
  }
 ],
 "metadata": {
  "kernelspec": {
   "display_name": "Python 3 (ipykernel)",
   "language": "python",
   "name": "python3"
  },
  "language_info": {
   "codemirror_mode": {
    "name": "ipython",
    "version": 3
   },
   "file_extension": ".py",
   "mimetype": "text/x-python",
   "name": "python",
   "nbconvert_exporter": "python",
   "pygments_lexer": "ipython3",
   "version": "3.9.19"
  },
  "papermill": {
   "default_parameters": {},
   "duration": 32.913138,
   "end_time": "2024-10-17T14:38:14.694988",
   "environment_variables": {},
   "exception": null,
   "input_path": "./Plasma/02_integration_scVI_scANVI.ipynb",
   "output_path": "./Plasma/02_integration_scVI_scANVI.executed.ipynb",
   "parameters": {},
   "start_time": "2024-10-17T14:37:41.781850",
   "version": "2.5.0"
  }
 },
 "nbformat": 4,
 "nbformat_minor": 5
}