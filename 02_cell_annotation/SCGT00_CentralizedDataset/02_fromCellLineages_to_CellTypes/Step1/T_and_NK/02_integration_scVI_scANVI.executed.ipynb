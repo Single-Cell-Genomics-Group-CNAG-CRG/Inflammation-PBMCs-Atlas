{
 "cells": [
  {
   "cell_type": "code",
   "execution_count": 1,
   "id": "2dd1425a-0c07-465e-b522-9e3cc5cb93a7",
   "metadata": {
    "execution": {
     "iopub.execute_input": "2024-10-17T14:14:25.439093Z",
     "iopub.status.busy": "2024-10-17T14:14:25.438398Z",
     "iopub.status.idle": "2024-10-17T14:14:29.145496Z",
     "shell.execute_reply": "2024-10-17T14:14:29.144807Z"
    },
    "papermill": {
     "duration": 3.727807,
     "end_time": "2024-10-17T14:14:29.149173",
     "exception": false,
     "start_time": "2024-10-17T14:14:25.421366",
     "status": "completed"
    },
    "tags": []
   },
   "outputs": [
    {
     "name": "stderr",
     "output_type": "stream",
     "text": [
      "/home/dmaspero/miniconda3/envs/scarches/lib/python3.9/site-packages/tqdm/auto.py:21: TqdmWarning: IProgress not found. Please update jupyter and ipywidgets. See https://ipywidgets.readthedocs.io/en/stable/user_install.html\n",
      "  from .autonotebook import tqdm as notebook_tqdm\n"
     ]
    },
    {
     "data": {
      "text/plain": [
       "True"
      ]
     },
     "execution_count": 1,
     "metadata": {},
     "output_type": "execute_result"
    }
   ],
   "source": [
    "import os\n",
    "import sys\n",
    "\n",
    "import numpy as np\n",
    "import matplotlib.pyplot as plt\n",
    "\n",
    "import scanpy as sc\n",
    "import scvi\n",
    "import torch\n",
    "\n",
    "from pytorch_lightning.loggers import WandbLogger\n",
    "import wandb\n",
    "from dotenv import load_dotenv\n",
    "\n",
    "import session_info\n",
    "import warnings\n",
    "from pyprojroot.here import here\n",
    "\n",
    "warnings.filterwarnings(\"ignore\")\n",
    "sys.path.insert(1, str(here('bin')))\n",
    "\n",
    "torch.set_float32_matmul_precision('high')\n",
    "\n",
    "#plt.style.use(['science','nature','no-latex'])\n",
    "dpi_fig_save = 300\n",
    "sc.set_figure_params(dpi=100, dpi_save=dpi_fig_save, vector_friendly=True)\n",
    "\n",
    "load_dotenv(here('.env'))"
   ]
  },
  {
   "cell_type": "code",
   "execution_count": 2,
   "id": "09c897fc-744b-43de-a681-718fb5d327fa",
   "metadata": {
    "execution": {
     "iopub.execute_input": "2024-10-17T14:14:29.173982Z",
     "iopub.status.busy": "2024-10-17T14:14:29.173514Z",
     "iopub.status.idle": "2024-10-17T14:14:29.177862Z",
     "shell.execute_reply": "2024-10-17T14:14:29.176986Z"
    },
    "papermill": {
     "duration": 0.01829,
     "end_time": "2024-10-17T14:14:29.179743",
     "exception": false,
     "start_time": "2024-10-17T14:14:29.161453",
     "status": "completed"
    },
    "tags": []
   },
   "outputs": [],
   "source": [
    "class CustomWandbLogger(WandbLogger):\n",
    "    @property\n",
    "    def save_dir(self):\n",
    "        return self.experiment.dir"
   ]
  },
  {
   "cell_type": "code",
   "execution_count": 3,
   "id": "8ee6662f-5d45-4137-80a5-bb0b9ae8d71f",
   "metadata": {
    "execution": {
     "iopub.execute_input": "2024-10-17T14:14:29.197337Z",
     "iopub.status.busy": "2024-10-17T14:14:29.196517Z",
     "iopub.status.idle": "2024-10-17T14:14:29.207546Z",
     "shell.execute_reply": "2024-10-17T14:14:29.206306Z"
    },
    "papermill": {
     "duration": 0.022542,
     "end_time": "2024-10-17T14:14:29.209948",
     "exception": false,
     "start_time": "2024-10-17T14:14:29.187406",
     "status": "completed"
    },
    "tags": []
   },
   "outputs": [
    {
     "name": "stderr",
     "output_type": "stream",
     "text": [
      "Seed set to 0\n"
     ]
    },
    {
     "name": "stdout",
     "output_type": "stream",
     "text": [
      "Last run with scvi-tools version: 1.1.2\n"
     ]
    }
   ],
   "source": [
    "scvi.settings.seed = 0\n",
    "print(\"Last run with scvi-tools version:\", scvi.__version__)"
   ]
  },
  {
   "cell_type": "markdown",
   "id": "a81037ff-5998-482a-ba86-520f757311a9",
   "metadata": {
    "papermill": {
     "duration": 0.008473,
     "end_time": "2024-10-17T14:14:29.229198",
     "exception": false,
     "start_time": "2024-10-17T14:14:29.220725",
     "status": "completed"
    },
    "tags": []
   },
   "source": [
    "**Setting parameters** "
   ]
  },
  {
   "cell_type": "code",
   "execution_count": 4,
   "id": "56c27966-8f10-4c93-8b1a-1fa75f005e41",
   "metadata": {
    "execution": {
     "iopub.execute_input": "2024-10-17T14:14:29.253327Z",
     "iopub.status.busy": "2024-10-17T14:14:29.252292Z",
     "iopub.status.idle": "2024-10-17T14:14:29.257892Z",
     "shell.execute_reply": "2024-10-17T14:14:29.256815Z"
    },
    "papermill": {
     "duration": 0.020506,
     "end_time": "2024-10-17T14:14:29.260683",
     "exception": false,
     "start_time": "2024-10-17T14:14:29.240177",
     "status": "completed"
    },
    "tags": []
   },
   "outputs": [],
   "source": [
    "overwriteFigures = True\n",
    "overwriteData = True"
   ]
  },
  {
   "cell_type": "code",
   "execution_count": 5,
   "id": "c86fccd3-a4fe-415b-8f4e-e2ceb3ec128a",
   "metadata": {
    "execution": {
     "iopub.execute_input": "2024-10-17T14:14:29.283287Z",
     "iopub.status.busy": "2024-10-17T14:14:29.282761Z",
     "iopub.status.idle": "2024-10-17T14:14:29.288434Z",
     "shell.execute_reply": "2024-10-17T14:14:29.287324Z"
    },
    "papermill": {
     "duration": 0.019398,
     "end_time": "2024-10-17T14:14:29.291306",
     "exception": false,
     "start_time": "2024-10-17T14:14:29.271908",
     "status": "completed"
    },
    "tags": []
   },
   "outputs": [],
   "source": [
    "cellGroup = 'T_and_NK'\n",
    "workDir = os.getcwd()"
   ]
  },
  {
   "cell_type": "code",
   "execution_count": 6,
   "id": "2dee4d55-d168-467b-b867-a61fed9d6af1",
   "metadata": {
    "execution": {
     "iopub.execute_input": "2024-10-17T14:14:29.315391Z",
     "iopub.status.busy": "2024-10-17T14:14:29.314439Z",
     "iopub.status.idle": "2024-10-17T14:14:29.321247Z",
     "shell.execute_reply": "2024-10-17T14:14:29.319799Z"
    },
    "papermill": {
     "duration": 0.021284,
     "end_time": "2024-10-17T14:14:29.324615",
     "exception": false,
     "start_time": "2024-10-17T14:14:29.303331",
     "status": "completed"
    },
    "tags": []
   },
   "outputs": [],
   "source": [
    "annotationLevel = os.path.basename(os.path.normpath(workDir))"
   ]
  },
  {
   "cell_type": "code",
   "execution_count": 7,
   "id": "11e53cd5-b746-4152-89cb-c2f0c15d90b3",
   "metadata": {
    "execution": {
     "iopub.execute_input": "2024-10-17T14:14:29.348247Z",
     "iopub.status.busy": "2024-10-17T14:14:29.347751Z",
     "iopub.status.idle": "2024-10-17T14:14:29.356434Z",
     "shell.execute_reply": "2024-10-17T14:14:29.355012Z"
    },
    "papermill": {
     "duration": 0.023656,
     "end_time": "2024-10-17T14:14:29.359622",
     "exception": false,
     "start_time": "2024-10-17T14:14:29.335966",
     "status": "completed"
    },
    "tags": []
   },
   "outputs": [
    {
     "data": {
      "text/plain": [
       "'/scratch_isilon/groups/singlecell/shared/projects/Inflammation-PBMCs-Atlas/02_cell_annotation/SCGT00_CentralizedDataset/02_fromCellLineages_to_CellTypes/Step1'"
      ]
     },
     "execution_count": 7,
     "metadata": {},
     "output_type": "execute_result"
    }
   ],
   "source": [
    "workDir"
   ]
  },
  {
   "cell_type": "markdown",
   "id": "171d2f06-9a44-4fcb-b437-35dc546674b6",
   "metadata": {
    "papermill": {
     "duration": 0.00981,
     "end_time": "2024-10-17T14:14:29.380474",
     "exception": false,
     "start_time": "2024-10-17T14:14:29.370664",
     "status": "completed"
    },
    "tags": []
   },
   "source": [
    "**Load data**"
   ]
  },
  {
   "cell_type": "code",
   "execution_count": 8,
   "id": "429f34fe-dde6-4cc9-9f75-7de8f85c5ffe",
   "metadata": {
    "execution": {
     "iopub.execute_input": "2024-10-17T14:14:29.404681Z",
     "iopub.status.busy": "2024-10-17T14:14:29.403866Z",
     "iopub.status.idle": "2024-10-17T14:14:46.627115Z",
     "shell.execute_reply": "2024-10-17T14:14:46.625756Z"
    },
    "papermill": {
     "duration": 17.238436,
     "end_time": "2024-10-17T14:14:46.628664",
     "exception": false,
     "start_time": "2024-10-17T14:14:29.390228",
     "status": "completed"
    },
    "tags": []
   },
   "outputs": [
    {
     "data": {
      "text/plain": [
       "AnnData object with n_obs × n_vars = 583244 × 3945\n",
       "    obs: 'studyID', 'libraryID', 'sampleID', 'chemistry', 'technology', 'patientID', 'disease', 'timepoint_replicate', 'treatmentStatus', 'therapyResponse', 'sex', 'age', 'BMI', 'binned_age', 'diseaseStatus', 'smokingStatus', 'ethnicity', 'institute', 'diseaseGroup', 'batches', 'n_genes_by_counts', 'log1p_n_genes_by_counts', 'total_counts', 'log1p_total_counts', 'pct_counts_in_top_20_genes', 'total_counts_mt', 'log1p_total_counts_mt', 'pct_counts_mt', 'total_counts_ribo', 'log1p_total_counts_ribo', 'pct_counts_ribo', 'total_counts_hb', 'log1p_total_counts_hb', 'pct_counts_hb', 'total_counts_plt', 'log1p_total_counts_plt', 'pct_counts_plt', 'S_score', 'G2M_score', 'phase'\n",
       "    var: 'hgnc_id', 'symbol', 'locus_group', 'HUGO_status', 'mt', 'ribo', 'hb', 'plt', 'n_cells_by_counts', 'mean_counts', 'log1p_mean_counts', 'pct_dropout_by_counts', 'total_counts', 'log1p_total_counts', 'highly_variable', 'means', 'dispersions', 'dispersions_norm', 'highly_variable_nbatches', 'highly_variable_intersection'\n",
       "    uns: 'disease_colors', 'hvg', 'log1p'\n",
       "    layers: 'counts', 'log1p_10e4_counts'"
      ]
     },
     "execution_count": 8,
     "metadata": {},
     "output_type": "execute_result"
    }
   ],
   "source": [
    "adata = sc.read_h5ad(here(f\"{workDir}/{cellGroup}/results/01_{cellGroup}_normalized_HVGsubset.h5ad\"))\n",
    "adata"
   ]
  },
  {
   "cell_type": "markdown",
   "id": "8ac79f3b-d5af-41fa-8904-1e9ac1cbe2fb",
   "metadata": {
    "papermill": {
     "duration": 0.005592,
     "end_time": "2024-10-17T14:14:46.639892",
     "exception": false,
     "start_time": "2024-10-17T14:14:46.634300",
     "status": "completed"
    },
    "tags": []
   },
   "source": [
    "## scVI integration"
   ]
  },
  {
   "cell_type": "markdown",
   "id": "9544847d-d17f-4811-b14b-760446d54d32",
   "metadata": {
    "execution": {
     "iopub.execute_input": "2024-03-25T16:49:04.004504Z",
     "iopub.status.busy": "2024-03-25T16:49:04.004143Z",
     "iopub.status.idle": "2024-03-25T16:49:04.010148Z",
     "shell.execute_reply": "2024-03-25T16:49:04.009146Z",
     "shell.execute_reply.started": "2024-03-25T16:49:04.004477Z"
    },
    "papermill": {
     "duration": 0.006299,
     "end_time": "2024-10-17T14:14:46.651480",
     "exception": false,
     "start_time": "2024-10-17T14:14:46.645181",
     "status": "completed"
    },
    "tags": []
   },
   "source": [
    "**scVI parameters**"
   ]
  },
  {
   "cell_type": "code",
   "execution_count": 9,
   "id": "208966eb-545a-4c02-854c-0ed0487ef5b3",
   "metadata": {
    "execution": {
     "iopub.execute_input": "2024-10-17T14:14:46.666093Z",
     "iopub.status.busy": "2024-10-17T14:14:46.665417Z",
     "iopub.status.idle": "2024-10-17T14:14:46.675542Z",
     "shell.execute_reply": "2024-10-17T14:14:46.674291Z"
    },
    "papermill": {
     "duration": 0.019701,
     "end_time": "2024-10-17T14:14:46.677158",
     "exception": false,
     "start_time": "2024-10-17T14:14:46.657457",
     "status": "completed"
    },
    "tags": []
   },
   "outputs": [],
   "source": [
    "# https://docs.scvi-tools.org/en/stable/api/reference/scvi.train.Trainer.html#scvi.train.Trainer\n",
    "setup_kwargs = dict(\n",
    "    layer=\"counts\", \n",
    "    batch_key='libraryID', \n",
    "    categorical_covariate_keys = ['disease', 'sampleID'],\n",
    ")\n",
    "\n",
    "scvi_kwargs = dict(n_hidden=512,\n",
    "                   n_latent=10, # reduced to 20 after step 00 (main) and to 10 after step 03\n",
    "                   n_layers=2,\n",
    "                   gene_likelihood='nb')\n",
    "\n",
    "trainer_kwargs = dict(\n",
    "    checkpointing_monitor = 'elbo_validation',\n",
    "    early_stopping_monitor = 'reconstruction_loss_validation',\n",
    "    early_stopping_patience = 10,\n",
    "    early_stopping_min_delta=0.1,\n",
    "    early_stopping = True,\n",
    "    max_epochs = 1000,\n",
    "\n",
    "    #logger = # wandb\n",
    ")\n",
    "# https://docs.scvi-tools.org/en/stable/api/reference/scvi.train.TrainingPlan.html#scvi.train.TrainingPlan\n",
    "plan_kwargs = dict(\n",
    "    lr = 5e-4,\n",
    "    #reduce_lr_on_plateau = True\n",
    ")\n",
    "\n",
    "# https://docs.scvi-tools.org/en/stable/api/reference/scvi.module.VAE.html#scvi.module.VAE\n",
    "#vae = dict(\n",
    "#    use_layer_norm='both',\n",
    "#    use_batch_norm='none',\n",
    "#    encode_covariates=True,\n",
    "#    deeply_inject_covariates=False\n",
    "#)\n",
    "parameter_dict = setup_kwargs | scvi_kwargs | trainer_kwargs | plan_kwargs"
   ]
  },
  {
   "cell_type": "markdown",
   "id": "1362366a-c16b-4c11-964b-b9c5f82f7b29",
   "metadata": {
    "papermill": {
     "duration": 0.007596,
     "end_time": "2024-10-17T14:14:46.691826",
     "exception": false,
     "start_time": "2024-10-17T14:14:46.684230",
     "status": "completed"
    },
    "tags": []
   },
   "source": [
    "**wandb parameter**"
   ]
  },
  {
   "cell_type": "code",
   "execution_count": 10,
   "id": "0496e33a-8ca5-423f-b42f-34a59760708c",
   "metadata": {
    "execution": {
     "iopub.execute_input": "2024-10-17T14:14:46.713154Z",
     "iopub.status.busy": "2024-10-17T14:14:46.712668Z",
     "iopub.status.idle": "2024-10-17T14:14:46.720607Z",
     "shell.execute_reply": "2024-10-17T14:14:46.719402Z"
    },
    "papermill": {
     "duration": 0.024826,
     "end_time": "2024-10-17T14:14:46.723761",
     "exception": false,
     "start_time": "2024-10-17T14:14:46.698935",
     "status": "completed"
    },
    "tags": []
   },
   "outputs": [
    {
     "data": {
      "text/plain": [
       "'Step1_T_and_NK'"
      ]
     },
     "execution_count": 10,
     "metadata": {},
     "output_type": "execute_result"
    }
   ],
   "source": [
    "run_name = f\"{annotationLevel}_{cellGroup}\"\n",
    "run_name"
   ]
  },
  {
   "cell_type": "code",
   "execution_count": 11,
   "id": "b0021327-95a2-4002-bf32-2c5779a99505",
   "metadata": {
    "execution": {
     "iopub.execute_input": "2024-10-17T14:14:46.747095Z",
     "iopub.status.busy": "2024-10-17T14:14:46.746143Z",
     "iopub.status.idle": "2024-10-17T14:14:46.792298Z",
     "shell.execute_reply": "2024-10-17T14:14:46.791936Z"
    },
    "papermill": {
     "duration": 0.060229,
     "end_time": "2024-10-17T14:14:46.795172",
     "exception": false,
     "start_time": "2024-10-17T14:14:46.734943",
     "status": "completed"
    },
    "tags": []
   },
   "outputs": [],
   "source": [
    "logger = CustomWandbLogger(name = run_name, project='inflammation_atlas_R1', config=parameter_dict)"
   ]
  },
  {
   "cell_type": "markdown",
   "id": "c237eee1-a976-4915-9b7f-b014bf33f47d",
   "metadata": {
    "papermill": {
     "duration": 0.011338,
     "end_time": "2024-10-17T14:14:46.819089",
     "exception": false,
     "start_time": "2024-10-17T14:14:46.807751",
     "status": "completed"
    },
    "tags": []
   },
   "source": [
    "**Running integration**"
   ]
  },
  {
   "cell_type": "code",
   "execution_count": 12,
   "id": "aff97c53-1aba-462e-8a77-f1aec9cf724c",
   "metadata": {
    "execution": {
     "iopub.execute_input": "2024-10-17T14:14:46.842941Z",
     "iopub.status.busy": "2024-10-17T14:14:46.842114Z",
     "iopub.status.idle": "2024-10-17T14:14:46.984721Z",
     "shell.execute_reply": "2024-10-17T14:14:46.984143Z"
    },
    "papermill": {
     "duration": 0.157401,
     "end_time": "2024-10-17T14:14:46.988158",
     "exception": false,
     "start_time": "2024-10-17T14:14:46.830757",
     "status": "completed"
    },
    "tags": []
   },
   "outputs": [
    {
     "name": "stderr",
     "output_type": "stream",
     "text": [
      "CUDA backend failed to initialize: Unable to use CUDA because of the following issues with CUDA components:\n",
      "Outdated cuSPARSE installation found.\n",
      "Version JAX was built against: 12200\n",
      "Minimum supported: 12100\n",
      "Installed version: 12002\n",
      "The local installation version must be no lower than 12100. (Set TF_CPP_MIN_LOG_LEVEL=0 and rerun for more info.)\n"
     ]
    }
   ],
   "source": [
    "scvi.model.SCVI.setup_anndata(adata, \n",
    "                              **setup_kwargs)"
   ]
  },
  {
   "cell_type": "code",
   "execution_count": 13,
   "id": "1a56f448-cf44-47c1-81a4-a89caa930fec",
   "metadata": {
    "execution": {
     "iopub.execute_input": "2024-10-17T14:14:47.017009Z",
     "iopub.status.busy": "2024-10-17T14:14:47.016357Z",
     "iopub.status.idle": "2024-10-17T14:14:47.613847Z",
     "shell.execute_reply": "2024-10-17T14:14:47.612855Z"
    },
    "papermill": {
     "duration": 0.615799,
     "end_time": "2024-10-17T14:14:47.617425",
     "exception": false,
     "start_time": "2024-10-17T14:14:47.001626",
     "status": "completed"
    },
    "tags": []
   },
   "outputs": [],
   "source": [
    "model = scvi.model.SCVI(adata, **scvi_kwargs)"
   ]
  },
  {
   "cell_type": "code",
   "execution_count": 14,
   "id": "2735f010-4f24-4ae8-9740-a8cfeb335e9a",
   "metadata": {
    "execution": {
     "iopub.execute_input": "2024-10-17T14:14:47.644143Z",
     "iopub.status.busy": "2024-10-17T14:14:47.643468Z",
     "iopub.status.idle": "2024-10-17T14:36:25.886019Z",
     "shell.execute_reply": "2024-10-17T14:36:25.885255Z"
    },
    "papermill": {
     "duration": 1298.257961,
     "end_time": "2024-10-17T14:36:25.888828",
     "exception": false,
     "start_time": "2024-10-17T14:14:47.630867",
     "status": "completed"
    },
    "tags": []
   },
   "outputs": [
    {
     "name": "stderr",
     "output_type": "stream",
     "text": [
      "GPU available: True (cuda), used: True\n"
     ]
    },
    {
     "name": "stderr",
     "output_type": "stream",
     "text": [
      "TPU available: False, using: 0 TPU cores\n"
     ]
    },
    {
     "name": "stderr",
     "output_type": "stream",
     "text": [
      "IPU available: False, using: 0 IPUs\n"
     ]
    },
    {
     "name": "stderr",
     "output_type": "stream",
     "text": [
      "HPU available: False, using: 0 HPUs\n"
     ]
    },
    {
     "name": "stderr",
     "output_type": "stream",
     "text": [
      "\u001b[34m\u001b[1mwandb\u001b[0m: Currently logged in as: \u001b[33mdav1989\u001b[0m (\u001b[33minflammation\u001b[0m). Use \u001b[1m`wandb login --relogin`\u001b[0m to force relogin\n"
     ]
    },
    {
     "name": "stderr",
     "output_type": "stream",
     "text": [
      "\u001b[34m\u001b[1mwandb\u001b[0m: wandb version 0.18.3 is available!  To upgrade, please run:\n",
      "\u001b[34m\u001b[1mwandb\u001b[0m:  $ pip install wandb --upgrade\n"
     ]
    },
    {
     "name": "stderr",
     "output_type": "stream",
     "text": [
      "\u001b[34m\u001b[1mwandb\u001b[0m: Tracking run with wandb version 0.16.5\n"
     ]
    },
    {
     "name": "stderr",
     "output_type": "stream",
     "text": [
      "\u001b[34m\u001b[1mwandb\u001b[0m: Run data is saved locally in \u001b[35m\u001b[1m./wandb/run-20241017_141449-lmeuum5a\u001b[0m\n",
      "\u001b[34m\u001b[1mwandb\u001b[0m: Run \u001b[1m`wandb offline`\u001b[0m to turn off syncing.\n"
     ]
    },
    {
     "name": "stderr",
     "output_type": "stream",
     "text": [
      "\u001b[34m\u001b[1mwandb\u001b[0m: Syncing run \u001b[33mStep1_T_and_NK\u001b[0m\n"
     ]
    },
    {
     "name": "stderr",
     "output_type": "stream",
     "text": [
      "\u001b[34m\u001b[1mwandb\u001b[0m: ⭐️ View project at \u001b[34m\u001b[4mhttps://wandb.ai/inflammation/inflammation_atlas_R1\u001b[0m\n"
     ]
    },
    {
     "name": "stderr",
     "output_type": "stream",
     "text": [
      "\u001b[34m\u001b[1mwandb\u001b[0m: 🚀 View run at \u001b[34m\u001b[4mhttps://wandb.ai/inflammation/inflammation_atlas_R1/runs/lmeuum5a/workspace\u001b[0m\n"
     ]
    },
    {
     "name": "stderr",
     "output_type": "stream",
     "text": [
      "LOCAL_RANK: 0 - CUDA_VISIBLE_DEVICES: [0]\n"
     ]
    },
    {
     "name": "stdout",
     "output_type": "stream",
     "text": [
      "\r",
      "Training:   0%|                                                                                                                     | 0/1000 [00:00<?, ?it/s]"
     ]
    },
    {
     "name": "stdout",
     "output_type": "stream",
     "text": [
      "\r",
      "Epoch 1/1000:   0%|                                                                                                                 | 0/1000 [00:00<?, ?it/s]"
     ]
    },
    {
     "name": "stdout",
     "output_type": "stream",
     "text": [
      "\r",
      "Epoch 1/1000:   0%|                                                                                                      | 1/1000 [00:49<13:36:30, 49.04s/it]"
     ]
    },
    {
     "name": "stdout",
     "output_type": "stream",
     "text": [
      "\r",
      "Epoch 1/1000:   0%|                                               | 1/1000 [00:49<13:36:30, 49.04s/it, v_num=um5a, train_loss_step=947, train_loss_epoch=935]"
     ]
    },
    {
     "name": "stdout",
     "output_type": "stream",
     "text": [
      "\r",
      "Epoch 2/1000:   0%|                                               | 1/1000 [00:49<13:36:30, 49.04s/it, v_num=um5a, train_loss_step=947, train_loss_epoch=935]"
     ]
    },
    {
     "name": "stdout",
     "output_type": "stream",
     "text": [
      "\r",
      "Epoch 2/1000:   0%|                                               | 2/1000 [01:30<12:22:37, 44.65s/it, v_num=um5a, train_loss_step=947, train_loss_epoch=935]"
     ]
    },
    {
     "name": "stdout",
     "output_type": "stream",
     "text": [
      "\r",
      "Epoch 2/1000:   0%|                                               | 2/1000 [01:30<12:22:37, 44.65s/it, v_num=um5a, train_loss_step=913, train_loss_epoch=920]"
     ]
    },
    {
     "name": "stdout",
     "output_type": "stream",
     "text": [
      "\r",
      "Epoch 3/1000:   0%|                                               | 2/1000 [01:30<12:22:37, 44.65s/it, v_num=um5a, train_loss_step=913, train_loss_epoch=920]"
     ]
    },
    {
     "name": "stdout",
     "output_type": "stream",
     "text": [
      "\r",
      "Epoch 3/1000:   0%|▏                                              | 3/1000 [02:21<13:12:41, 47.70s/it, v_num=um5a, train_loss_step=913, train_loss_epoch=920]"
     ]
    },
    {
     "name": "stdout",
     "output_type": "stream",
     "text": [
      "\r",
      "Epoch 3/1000:   0%|▏                                              | 3/1000 [02:21<13:12:41, 47.70s/it, v_num=um5a, train_loss_step=908, train_loss_epoch=918]"
     ]
    },
    {
     "name": "stdout",
     "output_type": "stream",
     "text": [
      "\r",
      "Epoch 4/1000:   0%|▏                                              | 3/1000 [02:21<13:12:41, 47.70s/it, v_num=um5a, train_loss_step=908, train_loss_epoch=918]"
     ]
    },
    {
     "name": "stdout",
     "output_type": "stream",
     "text": [
      "\r",
      "Epoch 4/1000:   0%|▏                                              | 4/1000 [03:11<13:23:05, 48.38s/it, v_num=um5a, train_loss_step=908, train_loss_epoch=918]"
     ]
    },
    {
     "name": "stdout",
     "output_type": "stream",
     "text": [
      "\r",
      "Epoch 4/1000:   0%|▏                                              | 4/1000 [03:11<13:23:05, 48.38s/it, v_num=um5a, train_loss_step=970, train_loss_epoch=916]"
     ]
    },
    {
     "name": "stdout",
     "output_type": "stream",
     "text": [
      "\r",
      "Epoch 5/1000:   0%|▏                                              | 4/1000 [03:11<13:23:05, 48.38s/it, v_num=um5a, train_loss_step=970, train_loss_epoch=916]"
     ]
    },
    {
     "name": "stdout",
     "output_type": "stream",
     "text": [
      "\r",
      "Epoch 5/1000:   0%|▏                                              | 5/1000 [04:00<13:25:11, 48.55s/it, v_num=um5a, train_loss_step=970, train_loss_epoch=916]"
     ]
    },
    {
     "name": "stdout",
     "output_type": "stream",
     "text": [
      "\r",
      "Epoch 5/1000:   0%|▏                                              | 5/1000 [04:00<13:25:11, 48.55s/it, v_num=um5a, train_loss_step=957, train_loss_epoch=916]"
     ]
    },
    {
     "name": "stdout",
     "output_type": "stream",
     "text": [
      "\r",
      "Epoch 6/1000:   0%|▏                                              | 5/1000 [04:00<13:25:11, 48.55s/it, v_num=um5a, train_loss_step=957, train_loss_epoch=916]"
     ]
    },
    {
     "name": "stdout",
     "output_type": "stream",
     "text": [
      "\r",
      "Epoch 6/1000:   1%|▎                                              | 6/1000 [04:43<12:53:31, 46.69s/it, v_num=um5a, train_loss_step=957, train_loss_epoch=916]"
     ]
    },
    {
     "name": "stdout",
     "output_type": "stream",
     "text": [
      "\r",
      "Epoch 6/1000:   1%|▎                                              | 6/1000 [04:43<12:53:31, 46.69s/it, v_num=um5a, train_loss_step=920, train_loss_epoch=915]"
     ]
    },
    {
     "name": "stdout",
     "output_type": "stream",
     "text": [
      "\r",
      "Epoch 7/1000:   1%|▎                                              | 6/1000 [04:43<12:53:31, 46.69s/it, v_num=um5a, train_loss_step=920, train_loss_epoch=915]"
     ]
    },
    {
     "name": "stdout",
     "output_type": "stream",
     "text": [
      "\r",
      "Epoch 7/1000:   1%|▎                                              | 7/1000 [05:20<11:59:05, 43.45s/it, v_num=um5a, train_loss_step=920, train_loss_epoch=915]"
     ]
    },
    {
     "name": "stdout",
     "output_type": "stream",
     "text": [
      "\r",
      "Epoch 7/1000:   1%|▎                                              | 7/1000 [05:20<11:59:05, 43.45s/it, v_num=um5a, train_loss_step=902, train_loss_epoch=915]"
     ]
    },
    {
     "name": "stdout",
     "output_type": "stream",
     "text": [
      "\r",
      "Epoch 8/1000:   1%|▎                                              | 7/1000 [05:20<11:59:05, 43.45s/it, v_num=um5a, train_loss_step=902, train_loss_epoch=915]"
     ]
    },
    {
     "name": "stdout",
     "output_type": "stream",
     "text": [
      "\r",
      "Epoch 8/1000:   1%|▍                                              | 8/1000 [06:05<12:10:07, 44.16s/it, v_num=um5a, train_loss_step=902, train_loss_epoch=915]"
     ]
    },
    {
     "name": "stdout",
     "output_type": "stream",
     "text": [
      "\r",
      "Epoch 8/1000:   1%|▍                                              | 8/1000 [06:05<12:10:07, 44.16s/it, v_num=um5a, train_loss_step=947, train_loss_epoch=914]"
     ]
    },
    {
     "name": "stdout",
     "output_type": "stream",
     "text": [
      "\r",
      "Epoch 9/1000:   1%|▍                                              | 8/1000 [06:05<12:10:07, 44.16s/it, v_num=um5a, train_loss_step=947, train_loss_epoch=914]"
     ]
    },
    {
     "name": "stdout",
     "output_type": "stream",
     "text": [
      "\r",
      "Epoch 9/1000:   1%|▍                                              | 9/1000 [06:47<11:58:13, 43.48s/it, v_num=um5a, train_loss_step=947, train_loss_epoch=914]"
     ]
    },
    {
     "name": "stdout",
     "output_type": "stream",
     "text": [
      "\r",
      "Epoch 9/1000:   1%|▍                                              | 9/1000 [06:47<11:58:13, 43.48s/it, v_num=um5a, train_loss_step=891, train_loss_epoch=914]"
     ]
    },
    {
     "name": "stdout",
     "output_type": "stream",
     "text": [
      "\r",
      "Epoch 10/1000:   1%|▍                                             | 9/1000 [06:47<11:58:13, 43.48s/it, v_num=um5a, train_loss_step=891, train_loss_epoch=914]"
     ]
    },
    {
     "name": "stdout",
     "output_type": "stream",
     "text": [
      "\r",
      "Epoch 10/1000:   1%|▍                                            | 10/1000 [07:33<12:07:17, 44.08s/it, v_num=um5a, train_loss_step=891, train_loss_epoch=914]"
     ]
    },
    {
     "name": "stdout",
     "output_type": "stream",
     "text": [
      "\r",
      "Epoch 10/1000:   1%|▍                                            | 10/1000 [07:33<12:07:17, 44.08s/it, v_num=um5a, train_loss_step=899, train_loss_epoch=914]"
     ]
    },
    {
     "name": "stdout",
     "output_type": "stream",
     "text": [
      "\r",
      "Epoch 11/1000:   1%|▍                                            | 10/1000 [07:33<12:07:17, 44.08s/it, v_num=um5a, train_loss_step=899, train_loss_epoch=914]"
     ]
    },
    {
     "name": "stdout",
     "output_type": "stream",
     "text": [
      "\r",
      "Epoch 11/1000:   1%|▍                                            | 11/1000 [08:17<12:06:24, 44.07s/it, v_num=um5a, train_loss_step=899, train_loss_epoch=914]"
     ]
    },
    {
     "name": "stdout",
     "output_type": "stream",
     "text": [
      "\r",
      "Epoch 11/1000:   1%|▍                                            | 11/1000 [08:17<12:06:24, 44.07s/it, v_num=um5a, train_loss_step=934, train_loss_epoch=914]"
     ]
    },
    {
     "name": "stdout",
     "output_type": "stream",
     "text": [
      "\r",
      "Epoch 12/1000:   1%|▍                                            | 11/1000 [08:17<12:06:24, 44.07s/it, v_num=um5a, train_loss_step=934, train_loss_epoch=914]"
     ]
    },
    {
     "name": "stdout",
     "output_type": "stream",
     "text": [
      "\r",
      "Epoch 12/1000:   1%|▌                                            | 12/1000 [09:05<12:25:39, 45.28s/it, v_num=um5a, train_loss_step=934, train_loss_epoch=914]"
     ]
    },
    {
     "name": "stdout",
     "output_type": "stream",
     "text": [
      "\r",
      "Epoch 12/1000:   1%|▌                                            | 12/1000 [09:05<12:25:39, 45.28s/it, v_num=um5a, train_loss_step=912, train_loss_epoch=914]"
     ]
    },
    {
     "name": "stdout",
     "output_type": "stream",
     "text": [
      "\r",
      "Epoch 13/1000:   1%|▌                                            | 12/1000 [09:05<12:25:39, 45.28s/it, v_num=um5a, train_loss_step=912, train_loss_epoch=914]"
     ]
    },
    {
     "name": "stdout",
     "output_type": "stream",
     "text": [
      "\r",
      "Epoch 13/1000:   1%|▌                                            | 13/1000 [09:47<12:08:57, 44.31s/it, v_num=um5a, train_loss_step=912, train_loss_epoch=914]"
     ]
    },
    {
     "name": "stdout",
     "output_type": "stream",
     "text": [
      "\r",
      "Epoch 13/1000:   1%|▌                                            | 13/1000 [09:47<12:08:57, 44.31s/it, v_num=um5a, train_loss_step=930, train_loss_epoch=914]"
     ]
    },
    {
     "name": "stdout",
     "output_type": "stream",
     "text": [
      "\r",
      "Epoch 14/1000:   1%|▌                                            | 13/1000 [09:47<12:08:57, 44.31s/it, v_num=um5a, train_loss_step=930, train_loss_epoch=914]"
     ]
    },
    {
     "name": "stdout",
     "output_type": "stream",
     "text": [
      "\r",
      "Epoch 14/1000:   1%|▋                                            | 14/1000 [10:26<11:40:51, 42.65s/it, v_num=um5a, train_loss_step=930, train_loss_epoch=914]"
     ]
    },
    {
     "name": "stdout",
     "output_type": "stream",
     "text": [
      "\r",
      "Epoch 14/1000:   1%|▋                                            | 14/1000 [10:26<11:40:51, 42.65s/it, v_num=um5a, train_loss_step=868, train_loss_epoch=914]"
     ]
    },
    {
     "name": "stdout",
     "output_type": "stream",
     "text": [
      "\r",
      "Epoch 15/1000:   1%|▋                                            | 14/1000 [10:26<11:40:51, 42.65s/it, v_num=um5a, train_loss_step=868, train_loss_epoch=914]"
     ]
    },
    {
     "name": "stdout",
     "output_type": "stream",
     "text": [
      "\r",
      "Epoch 15/1000:   2%|▋                                            | 15/1000 [11:17<12:23:44, 45.30s/it, v_num=um5a, train_loss_step=868, train_loss_epoch=914]"
     ]
    },
    {
     "name": "stdout",
     "output_type": "stream",
     "text": [
      "\r",
      "Epoch 15/1000:   2%|▋                                            | 15/1000 [11:17<12:23:44, 45.30s/it, v_num=um5a, train_loss_step=889, train_loss_epoch=913]"
     ]
    },
    {
     "name": "stdout",
     "output_type": "stream",
     "text": [
      "\r",
      "Epoch 16/1000:   2%|▋                                            | 15/1000 [11:17<12:23:44, 45.30s/it, v_num=um5a, train_loss_step=889, train_loss_epoch=913]"
     ]
    },
    {
     "name": "stdout",
     "output_type": "stream",
     "text": [
      "\r",
      "Epoch 16/1000:   2%|▋                                            | 16/1000 [12:01<12:15:52, 44.87s/it, v_num=um5a, train_loss_step=889, train_loss_epoch=913]"
     ]
    },
    {
     "name": "stdout",
     "output_type": "stream",
     "text": [
      "\r",
      "Epoch 16/1000:   2%|▋                                            | 16/1000 [12:01<12:15:52, 44.87s/it, v_num=um5a, train_loss_step=946, train_loss_epoch=913]"
     ]
    },
    {
     "name": "stdout",
     "output_type": "stream",
     "text": [
      "\r",
      "Epoch 17/1000:   2%|▋                                            | 16/1000 [12:01<12:15:52, 44.87s/it, v_num=um5a, train_loss_step=946, train_loss_epoch=913]"
     ]
    },
    {
     "name": "stdout",
     "output_type": "stream",
     "text": [
      "\r",
      "Epoch 17/1000:   2%|▊                                            | 17/1000 [12:34<11:19:05, 41.45s/it, v_num=um5a, train_loss_step=946, train_loss_epoch=913]"
     ]
    },
    {
     "name": "stdout",
     "output_type": "stream",
     "text": [
      "\r",
      "Epoch 17/1000:   2%|▊                                            | 17/1000 [12:34<11:19:05, 41.45s/it, v_num=um5a, train_loss_step=906, train_loss_epoch=913]"
     ]
    },
    {
     "name": "stdout",
     "output_type": "stream",
     "text": [
      "\r",
      "Epoch 18/1000:   2%|▊                                            | 17/1000 [12:34<11:19:05, 41.45s/it, v_num=um5a, train_loss_step=906, train_loss_epoch=913]"
     ]
    },
    {
     "name": "stdout",
     "output_type": "stream",
     "text": [
      "\r",
      "Epoch 18/1000:   2%|▊                                            | 18/1000 [13:26<12:09:07, 44.55s/it, v_num=um5a, train_loss_step=906, train_loss_epoch=913]"
     ]
    },
    {
     "name": "stdout",
     "output_type": "stream",
     "text": [
      "\r",
      "Epoch 18/1000:   2%|▊                                            | 18/1000 [13:26<12:09:07, 44.55s/it, v_num=um5a, train_loss_step=903, train_loss_epoch=913]"
     ]
    },
    {
     "name": "stdout",
     "output_type": "stream",
     "text": [
      "\r",
      "Epoch 19/1000:   2%|▊                                            | 18/1000 [13:26<12:09:07, 44.55s/it, v_num=um5a, train_loss_step=903, train_loss_epoch=913]"
     ]
    },
    {
     "name": "stdout",
     "output_type": "stream",
     "text": [
      "\r",
      "Epoch 19/1000:   2%|▊                                            | 19/1000 [14:00<11:14:30, 41.25s/it, v_num=um5a, train_loss_step=903, train_loss_epoch=913]"
     ]
    },
    {
     "name": "stdout",
     "output_type": "stream",
     "text": [
      "\r",
      "Epoch 19/1000:   2%|▊                                            | 19/1000 [14:00<11:14:30, 41.25s/it, v_num=um5a, train_loss_step=914, train_loss_epoch=913]"
     ]
    },
    {
     "name": "stdout",
     "output_type": "stream",
     "text": [
      "\r",
      "Epoch 20/1000:   2%|▊                                            | 19/1000 [14:00<11:14:30, 41.25s/it, v_num=um5a, train_loss_step=914, train_loss_epoch=913]"
     ]
    },
    {
     "name": "stdout",
     "output_type": "stream",
     "text": [
      "\r",
      "Epoch 20/1000:   2%|▉                                            | 20/1000 [14:34<10:40:42, 39.23s/it, v_num=um5a, train_loss_step=914, train_loss_epoch=913]"
     ]
    },
    {
     "name": "stdout",
     "output_type": "stream",
     "text": [
      "\r",
      "Epoch 20/1000:   2%|▉                                            | 20/1000 [14:34<10:40:42, 39.23s/it, v_num=um5a, train_loss_step=928, train_loss_epoch=913]"
     ]
    },
    {
     "name": "stdout",
     "output_type": "stream",
     "text": [
      "\r",
      "Epoch 21/1000:   2%|▉                                            | 20/1000 [14:34<10:40:42, 39.23s/it, v_num=um5a, train_loss_step=928, train_loss_epoch=913]"
     ]
    },
    {
     "name": "stdout",
     "output_type": "stream",
     "text": [
      "\r",
      "Epoch 21/1000:   2%|▉                                            | 21/1000 [15:07<10:09:17, 37.34s/it, v_num=um5a, train_loss_step=928, train_loss_epoch=913]"
     ]
    },
    {
     "name": "stdout",
     "output_type": "stream",
     "text": [
      "\r",
      "Epoch 21/1000:   2%|▉                                            | 21/1000 [15:07<10:09:17, 37.34s/it, v_num=um5a, train_loss_step=938, train_loss_epoch=913]"
     ]
    },
    {
     "name": "stdout",
     "output_type": "stream",
     "text": [
      "\r",
      "Epoch 22/1000:   2%|▉                                            | 21/1000 [15:07<10:09:17, 37.34s/it, v_num=um5a, train_loss_step=938, train_loss_epoch=913]"
     ]
    },
    {
     "name": "stdout",
     "output_type": "stream",
     "text": [
      "\r",
      "Epoch 22/1000:   2%|▉                                            | 22/1000 [15:45<10:12:55, 37.60s/it, v_num=um5a, train_loss_step=938, train_loss_epoch=913]"
     ]
    },
    {
     "name": "stdout",
     "output_type": "stream",
     "text": [
      "\r",
      "Epoch 22/1000:   2%|▉                                            | 22/1000 [15:45<10:12:55, 37.60s/it, v_num=um5a, train_loss_step=901, train_loss_epoch=913]"
     ]
    },
    {
     "name": "stdout",
     "output_type": "stream",
     "text": [
      "\r",
      "Epoch 23/1000:   2%|▉                                            | 22/1000 [15:45<10:12:55, 37.60s/it, v_num=um5a, train_loss_step=901, train_loss_epoch=913]"
     ]
    },
    {
     "name": "stdout",
     "output_type": "stream",
     "text": [
      "\r",
      "Epoch 23/1000:   2%|█                                            | 23/1000 [16:35<11:11:07, 41.22s/it, v_num=um5a, train_loss_step=901, train_loss_epoch=913]"
     ]
    },
    {
     "name": "stdout",
     "output_type": "stream",
     "text": [
      "\r",
      "Epoch 23/1000:   2%|█                                            | 23/1000 [16:35<11:11:07, 41.22s/it, v_num=um5a, train_loss_step=891, train_loss_epoch=913]"
     ]
    },
    {
     "name": "stdout",
     "output_type": "stream",
     "text": [
      "\r",
      "Epoch 24/1000:   2%|█                                            | 23/1000 [16:35<11:11:07, 41.22s/it, v_num=um5a, train_loss_step=891, train_loss_epoch=913]"
     ]
    },
    {
     "name": "stdout",
     "output_type": "stream",
     "text": [
      "\r",
      "Epoch 24/1000:   2%|█                                            | 24/1000 [17:21<11:30:49, 42.47s/it, v_num=um5a, train_loss_step=891, train_loss_epoch=913]"
     ]
    },
    {
     "name": "stdout",
     "output_type": "stream",
     "text": [
      "\r",
      "Epoch 24/1000:   2%|█                                            | 24/1000 [17:21<11:30:49, 42.47s/it, v_num=um5a, train_loss_step=916, train_loss_epoch=913]"
     ]
    },
    {
     "name": "stdout",
     "output_type": "stream",
     "text": [
      "\r",
      "Epoch 25/1000:   2%|█                                            | 24/1000 [17:21<11:30:49, 42.47s/it, v_num=um5a, train_loss_step=916, train_loss_epoch=913]"
     ]
    },
    {
     "name": "stdout",
     "output_type": "stream",
     "text": [
      "\r",
      "Epoch 25/1000:   2%|█▏                                           | 25/1000 [18:11<12:07:36, 44.78s/it, v_num=um5a, train_loss_step=916, train_loss_epoch=913]"
     ]
    },
    {
     "name": "stdout",
     "output_type": "stream",
     "text": [
      "\r",
      "Epoch 25/1000:   2%|█▏                                           | 25/1000 [18:11<12:07:36, 44.78s/it, v_num=um5a, train_loss_step=930, train_loss_epoch=913]"
     ]
    },
    {
     "name": "stdout",
     "output_type": "stream",
     "text": [
      "\r",
      "Epoch 26/1000:   2%|█▏                                           | 25/1000 [18:11<12:07:36, 44.78s/it, v_num=um5a, train_loss_step=930, train_loss_epoch=913]"
     ]
    },
    {
     "name": "stdout",
     "output_type": "stream",
     "text": [
      "\r",
      "Epoch 26/1000:   3%|█▏                                           | 26/1000 [18:48<11:28:11, 42.39s/it, v_num=um5a, train_loss_step=930, train_loss_epoch=913]"
     ]
    },
    {
     "name": "stdout",
     "output_type": "stream",
     "text": [
      "\r",
      "Epoch 26/1000:   3%|█▏                                           | 26/1000 [18:48<11:28:11, 42.39s/it, v_num=um5a, train_loss_step=893, train_loss_epoch=913]"
     ]
    },
    {
     "name": "stdout",
     "output_type": "stream",
     "text": [
      "\r",
      "Epoch 27/1000:   3%|█▏                                           | 26/1000 [18:48<11:28:11, 42.39s/it, v_num=um5a, train_loss_step=893, train_loss_epoch=913]"
     ]
    },
    {
     "name": "stdout",
     "output_type": "stream",
     "text": [
      "\r",
      "Epoch 27/1000:   3%|█▏                                           | 27/1000 [19:24<10:58:32, 40.61s/it, v_num=um5a, train_loss_step=893, train_loss_epoch=913]"
     ]
    },
    {
     "name": "stdout",
     "output_type": "stream",
     "text": [
      "\r",
      "Epoch 27/1000:   3%|█▏                                           | 27/1000 [19:24<10:58:32, 40.61s/it, v_num=um5a, train_loss_step=936, train_loss_epoch=913]"
     ]
    },
    {
     "name": "stdout",
     "output_type": "stream",
     "text": [
      "\r",
      "Epoch 28/1000:   3%|█▏                                           | 27/1000 [19:24<10:58:32, 40.61s/it, v_num=um5a, train_loss_step=936, train_loss_epoch=913]"
     ]
    },
    {
     "name": "stdout",
     "output_type": "stream",
     "text": [
      "\r",
      "Epoch 28/1000:   3%|█▎                                           | 28/1000 [20:14<11:42:24, 43.36s/it, v_num=um5a, train_loss_step=936, train_loss_epoch=913]"
     ]
    },
    {
     "name": "stdout",
     "output_type": "stream",
     "text": [
      "\r",
      "Epoch 28/1000:   3%|█▎                                           | 28/1000 [20:14<11:42:24, 43.36s/it, v_num=um5a, train_loss_step=906, train_loss_epoch=913]"
     ]
    },
    {
     "name": "stdout",
     "output_type": "stream",
     "text": [
      "\r",
      "Epoch 29/1000:   3%|█▎                                           | 28/1000 [20:14<11:42:24, 43.36s/it, v_num=um5a, train_loss_step=906, train_loss_epoch=913]"
     ]
    },
    {
     "name": "stdout",
     "output_type": "stream",
     "text": [
      "\r",
      "Epoch 29/1000:   3%|█▎                                           | 29/1000 [20:47<10:50:30, 40.20s/it, v_num=um5a, train_loss_step=906, train_loss_epoch=913]"
     ]
    },
    {
     "name": "stdout",
     "output_type": "stream",
     "text": [
      "\r",
      "Epoch 29/1000:   3%|█▎                                           | 29/1000 [20:47<10:50:30, 40.20s/it, v_num=um5a, train_loss_step=939, train_loss_epoch=913]"
     ]
    },
    {
     "name": "stdout",
     "output_type": "stream",
     "text": [
      "\r",
      "Epoch 30/1000:   3%|█▎                                           | 29/1000 [20:47<10:50:30, 40.20s/it, v_num=um5a, train_loss_step=939, train_loss_epoch=913]"
     ]
    },
    {
     "name": "stdout",
     "output_type": "stream",
     "text": [
      "\r",
      "Epoch 30/1000:   3%|█▎                                           | 30/1000 [21:30<11:03:29, 41.04s/it, v_num=um5a, train_loss_step=939, train_loss_epoch=913]"
     ]
    },
    {
     "name": "stdout",
     "output_type": "stream",
     "text": [
      "\r",
      "Epoch 30/1000:   3%|█▎                                           | 30/1000 [21:30<11:03:29, 41.04s/it, v_num=um5a, train_loss_step=891, train_loss_epoch=913]"
     ]
    },
    {
     "name": "stdout",
     "output_type": "stream",
     "text": [
      "\r",
      "Epoch 30/1000:   3%|█▎                                           | 30/1000 [21:30<11:35:12, 43.00s/it, v_num=um5a, train_loss_step=891, train_loss_epoch=913]"
     ]
    },
    {
     "name": "stdout",
     "output_type": "stream",
     "text": [
      "\n",
      "Monitored metric reconstruction_loss_validation did not improve in the last 10 records. Best score: 915.151. Signaling Trainer to stop.\n"
     ]
    }
   ],
   "source": [
    "model.train(logger=logger, plan_kwargs = plan_kwargs, **trainer_kwargs)"
   ]
  },
  {
   "cell_type": "code",
   "execution_count": 15,
   "id": "c282f6eb-0ad1-40a5-81e6-1acda1545dad",
   "metadata": {
    "execution": {
     "iopub.execute_input": "2024-10-17T14:36:25.922039Z",
     "iopub.status.busy": "2024-10-17T14:36:25.921514Z",
     "iopub.status.idle": "2024-10-17T14:36:30.554055Z",
     "shell.execute_reply": "2024-10-17T14:36:30.552667Z"
    },
    "papermill": {
     "duration": 4.6477,
     "end_time": "2024-10-17T14:36:30.557702",
     "exception": false,
     "start_time": "2024-10-17T14:36:25.910002",
     "status": "completed"
    },
    "tags": []
   },
   "outputs": [
    {
     "name": "stderr",
     "output_type": "stream",
     "text": [
      "\u001b[34m\u001b[1mwandb\u001b[0m: - 0.005 MB of 0.005 MB uploaded\r"
     ]
    },
    {
     "name": "stderr",
     "output_type": "stream",
     "text": [
      "\u001b[34m\u001b[1mwandb\u001b[0m: \\ 0.005 MB of 0.024 MB uploaded\r"
     ]
    },
    {
     "name": "stderr",
     "output_type": "stream",
     "text": [
      "\u001b[34m\u001b[1mwandb\u001b[0m: | 0.005 MB of 0.024 MB uploaded\r"
     ]
    },
    {
     "name": "stderr",
     "output_type": "stream",
     "text": [
      "\u001b[34m\u001b[1mwandb\u001b[0m: / 0.025 MB of 0.025 MB uploaded\r"
     ]
    },
    {
     "name": "stderr",
     "output_type": "stream",
     "text": [
      "\u001b[34m\u001b[1mwandb\u001b[0m:                                                                                \n"
     ]
    },
    {
     "name": "stderr",
     "output_type": "stream",
     "text": [
      "\u001b[34m\u001b[1mwandb\u001b[0m: \n",
      "\u001b[34m\u001b[1mwandb\u001b[0m: Run history:\n",
      "\u001b[34m\u001b[1mwandb\u001b[0m:                     elbo_train █▆▄▃▃▃▃▂▂▂▂▂▂▂▂▂▂▁▁▁▁▁▁▁▁▁▁▁▁▁\n",
      "\u001b[34m\u001b[1mwandb\u001b[0m:                elbo_validation █▆▄▃▃▃▃▂▂▂▂▂▂▂▂▂▂▁▁▁▁▁▁▁▁▁▁▁▁▁\n",
      "\u001b[34m\u001b[1mwandb\u001b[0m:                          epoch ▁▁▁▁▂▂▂▂▂▂▃▃▃▃▃▄▄▄▄▄▅▅▅▅▅▅▆▆▆▆▆▇▇▇▇▇████\n",
      "\u001b[34m\u001b[1mwandb\u001b[0m:                kl_global_train ▁▁▁▁▁▁▁▁▁▁▁▁▁▁▁▁▁▁▁▁▁▁▁▁▁▁▁▁▁▁\n",
      "\u001b[34m\u001b[1mwandb\u001b[0m:           kl_global_validation ▁▁▁▁▁▁▁▁▁▁▁▁▁▁▁▁▁▁▁▁▁▁▁▁▁▁▁▁▁▁\n",
      "\u001b[34m\u001b[1mwandb\u001b[0m:                 kl_local_train █▇▅▄▄▃▃▃▃▃▂▂▂▂▂▂▂▂▂▂▁▁▁▁▁▁▁▁▁▁\n",
      "\u001b[34m\u001b[1mwandb\u001b[0m:            kl_local_validation █▆▅▄▃▃▃▃▂▂▂▂▂▂▂▂▂▂▂▂▁▁▁▁▁▁▁▁▁▁\n",
      "\u001b[34m\u001b[1mwandb\u001b[0m:                      kl_weight ▁▁▁▁▂▂▂▂▂▂▃▃▃▃▃▄▄▄▄▄▅▅▅▅▅▆▆▆▆▆▇▇▇▇▇▇████\n",
      "\u001b[34m\u001b[1mwandb\u001b[0m:      reconstruction_loss_train █▄▃▂▂▂▂▂▂▂▂▁▁▁▁▁▁▁▁▁▁▁▁▁▁▁▁▁▁▁\n",
      "\u001b[34m\u001b[1mwandb\u001b[0m: reconstruction_loss_validation █▄▃▃▂▂▂▂▁▁▁▁▁▁▁▁▁▁▁▁▁▁▁▁▁▁▁▁▁▁\n",
      "\u001b[34m\u001b[1mwandb\u001b[0m:               train_loss_epoch █▃▂▂▂▂▂▁▁▁▁▁▁▁▁▁▁▁▁▁▁▁▁▁▁▁▁▁▁▁\n",
      "\u001b[34m\u001b[1mwandb\u001b[0m:                train_loss_step ▃▆▅▄▃▃▅▄▃▃▅▅▃▄▃▃▃▁▄▂▂▇█▄▂▃▅▅▃▂▄▃▄▅▃▅▅▂▂▁\n",
      "\u001b[34m\u001b[1mwandb\u001b[0m:            trainer/global_step ▁▁▁▂▂▂▂▂▂▃▃▃▃▃▄▄▄▄▄▄▅▅▅▅▅▅▆▆▆▆▆▇▇▇▇▇▇███\n",
      "\u001b[34m\u001b[1mwandb\u001b[0m:                validation_loss █▄▃▂▂▂▁▁▁▁▁▁▁▁▁▁▁▁▁▁▁▁▁▁▁▁▂▂▂▂\n",
      "\u001b[34m\u001b[1mwandb\u001b[0m: \n",
      "\u001b[34m\u001b[1mwandb\u001b[0m: Run summary:\n",
      "\u001b[34m\u001b[1mwandb\u001b[0m:                     elbo_train 936.18219\n",
      "\u001b[34m\u001b[1mwandb\u001b[0m:                elbo_validation 939.38733\n",
      "\u001b[34m\u001b[1mwandb\u001b[0m:                          epoch 29\n",
      "\u001b[34m\u001b[1mwandb\u001b[0m:                kl_global_train 0.0\n",
      "\u001b[34m\u001b[1mwandb\u001b[0m:           kl_global_validation 0.0\n",
      "\u001b[34m\u001b[1mwandb\u001b[0m:                 kl_local_train 24.85458\n",
      "\u001b[34m\u001b[1mwandb\u001b[0m:            kl_local_validation 24.21868\n",
      "\u001b[34m\u001b[1mwandb\u001b[0m:                      kl_weight 0.0725\n",
      "\u001b[34m\u001b[1mwandb\u001b[0m:      reconstruction_loss_train 911.32764\n",
      "\u001b[34m\u001b[1mwandb\u001b[0m: reconstruction_loss_validation 915.16864\n",
      "\u001b[34m\u001b[1mwandb\u001b[0m:               train_loss_epoch 913.13043\n",
      "\u001b[34m\u001b[1mwandb\u001b[0m:                train_loss_step 891.45148\n",
      "\u001b[34m\u001b[1mwandb\u001b[0m:            trainer/global_step 123029\n",
      "\u001b[34m\u001b[1mwandb\u001b[0m:                validation_loss 916.92444\n",
      "\u001b[34m\u001b[1mwandb\u001b[0m: \n"
     ]
    },
    {
     "name": "stderr",
     "output_type": "stream",
     "text": [
      "\u001b[34m\u001b[1mwandb\u001b[0m: 🚀 View run \u001b[33mStep1_T_and_NK\u001b[0m at: \u001b[34m\u001b[4mhttps://wandb.ai/inflammation/inflammation_atlas_R1/runs/lmeuum5a/workspace\u001b[0m\n",
      "\u001b[34m\u001b[1mwandb\u001b[0m: Synced 6 W&B file(s), 0 media file(s), 0 artifact file(s) and 0 other file(s)\n"
     ]
    },
    {
     "name": "stderr",
     "output_type": "stream",
     "text": [
      "\u001b[34m\u001b[1mwandb\u001b[0m: Find logs at: \u001b[35m\u001b[1m./wandb/run-20241017_141449-lmeuum5a/logs\u001b[0m\n"
     ]
    }
   ],
   "source": [
    "wandb.finish()"
   ]
  },
  {
   "cell_type": "markdown",
   "id": "d9fb1179-83c7-4ac6-b4aa-92dc7a349801",
   "metadata": {
    "papermill": {
     "duration": 0.010417,
     "end_time": "2024-10-17T14:36:30.591534",
     "exception": false,
     "start_time": "2024-10-17T14:36:30.581117",
     "status": "completed"
    },
    "tags": []
   },
   "source": [
    "### Extracting embedding space"
   ]
  },
  {
   "cell_type": "code",
   "execution_count": 16,
   "id": "caaa5832-0123-4c59-8ec6-f46a75f7a14e",
   "metadata": {
    "execution": {
     "iopub.execute_input": "2024-10-17T14:36:30.614687Z",
     "iopub.status.busy": "2024-10-17T14:36:30.614119Z",
     "iopub.status.idle": "2024-10-17T14:36:44.227737Z",
     "shell.execute_reply": "2024-10-17T14:36:44.226753Z"
    },
    "papermill": {
     "duration": 13.62914,
     "end_time": "2024-10-17T14:36:44.231002",
     "exception": false,
     "start_time": "2024-10-17T14:36:30.601862",
     "status": "completed"
    },
    "tags": []
   },
   "outputs": [],
   "source": [
    "adata.obsm['X_scVI'] = model.get_latent_representation()"
   ]
  },
  {
   "cell_type": "markdown",
   "id": "2f03e70b-839c-40a6-9fbb-d76bbd787419",
   "metadata": {
    "papermill": {
     "duration": 0.012513,
     "end_time": "2024-10-17T14:36:44.270320",
     "exception": false,
     "start_time": "2024-10-17T14:36:44.257807",
     "status": "completed"
    },
    "tags": []
   },
   "source": [
    "## Save the results"
   ]
  },
  {
   "cell_type": "code",
   "execution_count": 17,
   "id": "7b04049b-47fd-4b62-a1c0-c43dcc086d34",
   "metadata": {
    "execution": {
     "iopub.execute_input": "2024-10-17T14:36:44.292416Z",
     "iopub.status.busy": "2024-10-17T14:36:44.291932Z",
     "iopub.status.idle": "2024-10-17T14:37:37.700111Z",
     "shell.execute_reply": "2024-10-17T14:37:37.698722Z"
    },
    "papermill": {
     "duration": 53.423763,
     "end_time": "2024-10-17T14:37:37.704091",
     "exception": false,
     "start_time": "2024-10-17T14:36:44.280328",
     "status": "completed"
    },
    "tags": []
   },
   "outputs": [],
   "source": [
    "if overwriteData:\n",
    "    adata.write(here(f\"{workDir}/{cellGroup}/results/02_{annotationLevel}_{cellGroup}_HVGsubset_scVI.h5ad\"), compression=\"gzip\")\n",
    "    model.save(here(f\"{workDir}/{cellGroup}/results/02_{annotationLevel}_{cellGroup}_HVGsubset_scVI_MODEL/\"),\n",
    "               overwrite = True, \n",
    "               save_anndata = False )   "
   ]
  },
  {
   "cell_type": "code",
   "execution_count": 18,
   "id": "629ba2bd-f6be-44ef-8fca-bbdf891bf25f",
   "metadata": {
    "execution": {
     "iopub.execute_input": "2024-10-17T14:37:37.739689Z",
     "iopub.status.busy": "2024-10-17T14:37:37.739157Z",
     "iopub.status.idle": "2024-10-17T14:37:37.744899Z",
     "shell.execute_reply": "2024-10-17T14:37:37.743756Z"
    },
    "papermill": {
     "duration": 0.021486,
     "end_time": "2024-10-17T14:37:37.747917",
     "exception": false,
     "start_time": "2024-10-17T14:37:37.726431",
     "status": "completed"
    },
    "tags": []
   },
   "outputs": [],
   "source": [
    "# To load the model do (after loading corresponding adata):\n",
    "# model = scvi.model.SCVI.load(here('{}/results/01_{}_HVGsubset_scVI_MODEL/'.format(workDir, cellGroup)), \n",
    "#                              adata, \n",
    "#                              use_gpu=True)"
   ]
  },
  {
   "cell_type": "raw",
   "id": "975e84d0-f56b-498d-b3a8-c9219cf22e53",
   "metadata": {
    "papermill": {
     "duration": 0.012352,
     "end_time": "2024-10-17T14:37:37.782554",
     "exception": false,
     "start_time": "2024-10-17T14:37:37.770202",
     "status": "completed"
    },
    "tags": []
   },
   "source": [
    "session_info.show()"
   ]
  }
 ],
 "metadata": {
  "kernelspec": {
   "display_name": "Python 3 (ipykernel)",
   "language": "python",
   "name": "python3"
  },
  "language_info": {
   "codemirror_mode": {
    "name": "ipython",
    "version": 3
   },
   "file_extension": ".py",
   "mimetype": "text/x-python",
   "name": "python",
   "nbconvert_exporter": "python",
   "pygments_lexer": "ipython3",
   "version": "3.9.19"
  },
  "papermill": {
   "default_parameters": {},
   "duration": 1396.837051,
   "end_time": "2024-10-17T14:37:41.254929",
   "environment_variables": {},
   "exception": null,
   "input_path": "./T_and_NK/02_integration_scVI_scANVI.ipynb",
   "output_path": "./T_and_NK/02_integration_scVI_scANVI.executed.ipynb",
   "parameters": {},
   "start_time": "2024-10-17T14:14:24.417878",
   "version": "2.5.0"
  }
 },
 "nbformat": 4,
 "nbformat_minor": 5
}