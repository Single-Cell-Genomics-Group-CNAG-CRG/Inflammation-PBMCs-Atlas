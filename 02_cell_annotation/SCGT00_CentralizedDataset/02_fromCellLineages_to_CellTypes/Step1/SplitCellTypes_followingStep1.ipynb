{
 "cells": [
  {
   "cell_type": "code",
   "execution_count": 1,
   "metadata": {
    "execution": {
     "iopub.execute_input": "2024-10-21T14:32:32.983301Z",
     "iopub.status.busy": "2024-10-21T14:32:32.982755Z",
     "iopub.status.idle": "2024-10-21T14:32:33.463556Z",
     "shell.execute_reply": "2024-10-21T14:32:33.463099Z",
     "shell.execute_reply.started": "2024-10-21T14:32:32.983276Z"
    }
   },
   "outputs": [],
   "source": [
    "# General modules\n",
    "import sys\n",
    "import os\n",
    "import session_info\n",
    "import warnings\n",
    "from pyprojroot.here import here\n",
    "import glob\n",
    "import pandas as pd\n",
    "import numpy as np\n",
    "import pickle\n",
    "\n",
    "# Setting some parameters\n",
    "warnings.filterwarnings(\"ignore\")\n",
    "sys.path.insert(1, str(here('bin')))\n",
    "\n",
    "# Import custom functions\n",
    "from customPythonFunctions import generate_split_dir\n",
    "\n",
    "\n",
    "#plt.style.use(['science','nature','no-latex'])\n",
    "dpi_fig_save = 300\n",
    "\n",
    "overwriteFigures = True\n",
    "overwriteData = True"
   ]
  },
  {
   "cell_type": "markdown",
   "metadata": {},
   "source": [
    "**Loading annotation pkl**"
   ]
  },
  {
   "cell_type": "code",
   "execution_count": 2,
   "metadata": {
    "execution": {
     "iopub.execute_input": "2024-10-21T14:32:33.721856Z",
     "iopub.status.busy": "2024-10-21T14:32:33.721312Z",
     "iopub.status.idle": "2024-10-21T14:32:33.724340Z",
     "shell.execute_reply": "2024-10-21T14:32:33.723880Z",
     "shell.execute_reply.started": "2024-10-21T14:32:33.721826Z"
    }
   },
   "outputs": [],
   "source": [
    "step = \"Step1\"\n",
    "next_step = \"Step2\""
   ]
  },
  {
   "cell_type": "code",
   "execution_count": 3,
   "metadata": {
    "execution": {
     "iopub.execute_input": "2024-10-21T14:32:34.033159Z",
     "iopub.status.busy": "2024-10-21T14:32:34.032889Z",
     "iopub.status.idle": "2024-10-21T14:32:34.035110Z",
     "shell.execute_reply": "2024-10-21T14:32:34.034750Z",
     "shell.execute_reply.started": "2024-10-21T14:32:34.033141Z"
    }
   },
   "outputs": [],
   "source": [
    "annotation_col_name = 'annotation_step_1'"
   ]
  },
  {
   "cell_type": "code",
   "execution_count": 4,
   "metadata": {
    "execution": {
     "iopub.execute_input": "2024-10-21T14:32:34.449119Z",
     "iopub.status.busy": "2024-10-21T14:32:34.448850Z",
     "iopub.status.idle": "2024-10-21T14:32:34.467797Z",
     "shell.execute_reply": "2024-10-21T14:32:34.467449Z",
     "shell.execute_reply.started": "2024-10-21T14:32:34.449103Z"
    }
   },
   "outputs": [],
   "source": [
    "file_paths = glob.glob(str(here(f\"02_cell_annotation/SCGT00_CentralizedDataset/02_fromCellLineages_to_CellTypes/{step}/*/results/SCGT00_cluster_res*_annotated.pkl\")))\n",
    "# Load and concatenate all files into a single column DataFrame"
   ]
  },
  {
   "cell_type": "code",
   "execution_count": 5,
   "metadata": {
    "execution": {
     "iopub.execute_input": "2024-10-21T14:32:35.238713Z",
     "iopub.status.busy": "2024-10-21T14:32:35.238419Z",
     "iopub.status.idle": "2024-10-21T14:32:35.944095Z",
     "shell.execute_reply": "2024-10-21T14:32:35.943649Z",
     "shell.execute_reply.started": "2024-10-21T14:32:35.238694Z"
    }
   },
   "outputs": [
    {
     "name": "stdout",
     "output_type": "stream",
     "text": [
      "{'LowQuality_cells', 'Doublets_Step1', 'pDC'}\n",
      "{'Platelets'}\n",
      "{'LowQuality_cells', 'DC', 'Doublets_Step1', 'Platelets', 'Mono'}\n",
      "{'T_Naive', 'NK', 'T_NonNaive', 'Doublets_Step1', 'Cycling'}\n",
      "{'Plasma', 'Doublets_Step1'}\n",
      "{'Progenitors', 'RBC'}\n",
      "{'B', 'Doublets_Step1'}\n"
     ]
    }
   ],
   "source": [
    "for file_path in file_paths: \n",
    "    clusterAnnotDF = pd.read_pickle(file_path)\n",
    "    print(set(clusterAnnotDF[annotation_col_name]))"
   ]
  },
  {
   "cell_type": "code",
   "execution_count": 6,
   "metadata": {
    "execution": {
     "iopub.execute_input": "2024-10-21T14:32:36.537853Z",
     "iopub.status.busy": "2024-10-21T14:32:36.537575Z",
     "iopub.status.idle": "2024-10-21T14:32:36.641291Z",
     "shell.execute_reply": "2024-10-21T14:32:36.640817Z",
     "shell.execute_reply.started": "2024-10-21T14:32:36.537834Z"
    }
   },
   "outputs": [],
   "source": [
    "clusterAnnotDF = pd.concat([pd.read_pickle(file_path) for file_path in file_paths], axis=0)"
   ]
  },
  {
   "cell_type": "code",
   "execution_count": 7,
   "metadata": {
    "execution": {
     "iopub.execute_input": "2024-10-21T14:32:37.158572Z",
     "iopub.status.busy": "2024-10-21T14:32:37.158260Z",
     "iopub.status.idle": "2024-10-21T14:32:37.163002Z",
     "shell.execute_reply": "2024-10-21T14:32:37.162637Z",
     "shell.execute_reply.started": "2024-10-21T14:32:37.158552Z"
    }
   },
   "outputs": [
    {
     "name": "stdout",
     "output_type": "stream",
     "text": [
      "                                       annotation_step_1\n",
      "cellID                                                  \n",
      "SCGT00_L051_I53.3P_T0_AACCAACGTGGGATTG               pDC\n",
      "SCGT00_L051_I51.3P_T0_AAGGTAATCTTCCCGA               pDC\n",
      "SCGT00_L051_I58.3P_T0_ACCTGAAAGTGCCAGA               pDC\n",
      "SCGT00_L051_I51.3P_T0_ACGGGTCTCTTGGTGA               pDC\n",
      "SCGT00_L051_I53.3P_T0_ACTATGGAGGCGCTCT               pDC\n"
     ]
    }
   ],
   "source": [
    "print(clusterAnnotDF.head())"
   ]
  },
  {
   "cell_type": "code",
   "execution_count": 8,
   "metadata": {
    "execution": {
     "iopub.execute_input": "2024-10-21T14:32:38.914178Z",
     "iopub.status.busy": "2024-10-21T14:32:38.913816Z",
     "iopub.status.idle": "2024-10-21T14:32:38.974621Z",
     "shell.execute_reply": "2024-10-21T14:32:38.974194Z",
     "shell.execute_reply.started": "2024-10-21T14:32:38.914159Z"
    }
   },
   "outputs": [
    {
     "data": {
      "text/plain": [
       "{'B',\n",
       " 'Cycling',\n",
       " 'DC',\n",
       " 'Doublets_Step1',\n",
       " 'LowQuality_cells',\n",
       " 'Mono',\n",
       " 'NK',\n",
       " 'Plasma',\n",
       " 'Platelets',\n",
       " 'Progenitors',\n",
       " 'RBC',\n",
       " 'T_Naive',\n",
       " 'T_NonNaive',\n",
       " 'pDC'}"
      ]
     },
     "execution_count": 8,
     "metadata": {},
     "output_type": "execute_result"
    }
   ],
   "source": [
    "set(clusterAnnotDF[annotation_col_name])"
   ]
  },
  {
   "cell_type": "code",
   "execution_count": 9,
   "metadata": {
    "execution": {
     "iopub.execute_input": "2024-10-21T14:32:39.715560Z",
     "iopub.status.busy": "2024-10-21T14:32:39.715261Z",
     "iopub.status.idle": "2024-10-21T14:32:39.718165Z",
     "shell.execute_reply": "2024-10-21T14:32:39.717806Z",
     "shell.execute_reply.started": "2024-10-21T14:32:39.715541Z"
    }
   },
   "outputs": [
    {
     "name": "stdout",
     "output_type": "stream",
     "text": [
      "(855417, 1)\n"
     ]
    }
   ],
   "source": [
    "print(clusterAnnotDF.shape)"
   ]
  },
  {
   "cell_type": "code",
   "execution_count": 10,
   "metadata": {
    "execution": {
     "iopub.execute_input": "2024-10-21T14:32:47.961527Z",
     "iopub.status.busy": "2024-10-21T14:32:47.961103Z",
     "iopub.status.idle": "2024-10-21T14:32:48.298770Z",
     "shell.execute_reply": "2024-10-21T14:32:48.298305Z",
     "shell.execute_reply.started": "2024-10-21T14:32:47.961509Z"
    }
   },
   "outputs": [],
   "source": [
    "clusterAnnotDF.to_pickle(here(f\"02_cell_annotation/SCGT00_CentralizedDataset/02_fromCellLineages_to_CellTypes/{step}/{step}_clusterAnnotDF.pkl\"))"
   ]
  },
  {
   "cell_type": "markdown",
   "metadata": {},
   "source": [
    "**Updating master annotation DF**"
   ]
  },
  {
   "cell_type": "raw",
   "metadata": {
    "execution": {
     "iopub.execute_input": "2024-10-21T08:46:18.724419Z",
     "iopub.status.busy": "2024-10-21T08:46:18.723974Z",
     "iopub.status.idle": "2024-10-21T08:46:19.350448Z",
     "shell.execute_reply": "2024-10-21T08:46:19.349879Z",
     "shell.execute_reply.started": "2024-10-21T08:46:18.724399Z"
    }
   },
   "source": [
    "master_AnnotDFpath = str(here(\"02_cell_annotation/SCGT00_CentralizedDataset/02_fromCellLineages_to_CellTypes/master_clusterAnnotDF.pkl\"))\n",
    "master_AnnotDF = pd.read_pickle(master_AnnotDFpath)"
   ]
  },
  {
   "cell_type": "raw",
   "metadata": {
    "execution": {
     "iopub.execute_input": "2024-04-15T18:47:55.395691Z",
     "iopub.status.busy": "2024-04-15T18:47:55.395255Z",
     "iopub.status.idle": "2024-04-15T18:47:59.022212Z",
     "shell.execute_reply": "2024-04-15T18:47:59.021721Z",
     "shell.execute_reply.started": "2024-04-15T18:47:55.395672Z"
    }
   },
   "source": [
    "last_column_name = master_AnnotDF.columns[-1]\n",
    "master_AnnotDF[annotation_col_name] = master_AnnotDF[last_column_name]\n",
    "master_AnnotDF[annotation_col_name].update(clusterAnnotDF[annotation_col_name])"
   ]
  },
  {
   "cell_type": "raw",
   "metadata": {
    "execution": {
     "iopub.execute_input": "2024-04-15T18:48:04.184475Z",
     "iopub.status.busy": "2024-04-15T18:48:04.184088Z",
     "iopub.status.idle": "2024-04-15T18:48:04.188422Z",
     "shell.execute_reply": "2024-04-15T18:48:04.188067Z",
     "shell.execute_reply.started": "2024-04-15T18:48:04.184440Z"
    }
   },
   "source": [
    "print(master_AnnotDF.head())"
   ]
  },
  {
   "cell_type": "raw",
   "metadata": {
    "execution": {
     "iopub.execute_input": "2024-04-15T18:48:26.977585Z",
     "iopub.status.busy": "2024-04-15T18:48:26.977297Z",
     "iopub.status.idle": "2024-04-15T18:48:26.980303Z",
     "shell.execute_reply": "2024-04-15T18:48:26.979827Z",
     "shell.execute_reply.started": "2024-04-15T18:48:26.977567Z"
    }
   },
   "source": [
    "print(master_AnnotDF.shape)"
   ]
  },
  {
   "cell_type": "raw",
   "metadata": {
    "execution": {
     "iopub.execute_input": "2024-04-15T18:48:28.016313Z",
     "iopub.status.busy": "2024-04-15T18:48:28.015807Z",
     "iopub.status.idle": "2024-04-15T18:48:28.340880Z",
     "shell.execute_reply": "2024-04-15T18:48:28.340467Z",
     "shell.execute_reply.started": "2024-04-15T18:48:28.016287Z"
    }
   },
   "source": [
    "set(master_AnnotDF[annotation_col_name])"
   ]
  },
  {
   "cell_type": "code",
   "execution_count": 11,
   "metadata": {
    "execution": {
     "iopub.execute_input": "2024-10-21T14:32:53.009660Z",
     "iopub.status.busy": "2024-10-21T14:32:53.009302Z",
     "iopub.status.idle": "2024-10-21T14:32:53.067243Z",
     "shell.execute_reply": "2024-10-21T14:32:53.066886Z",
     "shell.execute_reply.started": "2024-10-21T14:32:53.009641Z"
    }
   },
   "outputs": [
    {
     "data": {
      "text/plain": [
       "{'B',\n",
       " 'Cycling',\n",
       " 'DC',\n",
       " 'Doublets_Step1',\n",
       " 'LowQuality_cells',\n",
       " 'Mono',\n",
       " 'NK',\n",
       " 'Plasma',\n",
       " 'Platelets',\n",
       " 'Progenitors',\n",
       " 'RBC',\n",
       " 'T_Naive',\n",
       " 'T_NonNaive',\n",
       " 'pDC'}"
      ]
     },
     "execution_count": 11,
     "metadata": {},
     "output_type": "execute_result"
    }
   ],
   "source": [
    "set(clusterAnnotDF[annotation_col_name])"
   ]
  },
  {
   "cell_type": "code",
   "execution_count": 12,
   "metadata": {
    "execution": {
     "iopub.execute_input": "2024-10-21T14:32:53.713314Z",
     "iopub.status.busy": "2024-10-21T14:32:53.713143Z",
     "iopub.status.idle": "2024-10-21T14:32:54.122587Z",
     "shell.execute_reply": "2024-10-21T14:32:54.122123Z",
     "shell.execute_reply.started": "2024-10-21T14:32:53.713298Z"
    }
   },
   "outputs": [],
   "source": [
    "# For step1\n",
    "master_AnnotDF = clusterAnnotDF\n",
    "master_AnnotDF.to_pickle(here(f\"02_cell_annotation/SCGT00_CentralizedDataset/02_fromCellLineages_to_CellTypes/master_clusterAnnotDF.pkl\"))"
   ]
  },
  {
   "cell_type": "markdown",
   "metadata": {},
   "source": [
    "# Split Lineages"
   ]
  },
  {
   "cell_type": "code",
   "execution_count": 36,
   "metadata": {
    "execution": {
     "iopub.execute_input": "2024-10-21T08:54:59.362958Z",
     "iopub.status.busy": "2024-10-21T08:54:59.362580Z",
     "iopub.status.idle": "2024-10-21T08:54:59.366037Z",
     "shell.execute_reply": "2024-10-21T08:54:59.365423Z",
     "shell.execute_reply.started": "2024-10-21T08:54:59.362937Z"
    }
   },
   "outputs": [],
   "source": [
    "annotation_col_name = 'annotation_step_1'\n",
    "not_interesting_categories = [\"LowQuality_cells\", \"Doublets_Step1\"]\n",
    "finished_categories = [\"Progenitors\", \"pDC\", \"Plasma\", \"RBC\", \"Platelets\", \"Cycling\"]"
   ]
  },
  {
   "cell_type": "code",
   "execution_count": 37,
   "metadata": {
    "execution": {
     "iopub.execute_input": "2024-10-21T08:54:59.776463Z",
     "iopub.status.busy": "2024-10-21T08:54:59.776287Z",
     "iopub.status.idle": "2024-10-21T08:54:59.823809Z",
     "shell.execute_reply": "2024-10-21T08:54:59.823402Z",
     "shell.execute_reply.started": "2024-10-21T08:54:59.776445Z"
    }
   },
   "outputs": [
    {
     "name": "stdout",
     "output_type": "stream",
     "text": [
      "annotation_step_1\n",
      "T_Naive             260868\n",
      "T_NonNaive          241341\n",
      "Mono                134647\n",
      "NK                   75377\n",
      "B                    64308\n",
      "Doublets_Step1       34797\n",
      "Platelets            18962\n",
      "DC                   13801\n",
      "pDC                   3125\n",
      "Cycling               2741\n",
      "LowQuality_cells      2155\n",
      "Progenitors           1716\n",
      "Plasma                1383\n",
      "RBC                    196\n",
      "dtype: int64\n"
     ]
    }
   ],
   "source": [
    "cell_counts = master_AnnotDF.groupby(annotation_col_name).size().sort_values(ascending=False)\n",
    "print(cell_counts)"
   ]
  },
  {
   "cell_type": "code",
   "execution_count": 38,
   "metadata": {
    "execution": {
     "iopub.execute_input": "2024-10-21T08:55:00.163815Z",
     "iopub.status.busy": "2024-10-21T08:55:00.163532Z",
     "iopub.status.idle": "2024-10-21T08:55:00.167895Z",
     "shell.execute_reply": "2024-10-21T08:55:00.167413Z",
     "shell.execute_reply.started": "2024-10-21T08:55:00.163796Z"
    }
   },
   "outputs": [
    {
     "name": "stdout",
     "output_type": "stream",
     "text": [
      "We are removing a total of 36952 cells\n",
      "LowQuality_cells: 2155 cells removed\n",
      "Doublets_Step1: 34797 cells removed\n"
     ]
    }
   ],
   "source": [
    "total_cells_to_remove = cell_counts.loc[not_interesting_categories].sum()\n",
    "print(f\"We are removing a total of {total_cells_to_remove} cells\")\n",
    "for category in not_interesting_categories:\n",
    "    cells_removed = cell_counts.loc[category]\n",
    "    print(f\"{category}: {cells_removed} cells removed\")"
   ]
  },
  {
   "cell_type": "code",
   "execution_count": 39,
   "metadata": {
    "execution": {
     "iopub.execute_input": "2024-10-21T08:55:00.659662Z",
     "iopub.status.busy": "2024-10-21T08:55:00.659395Z",
     "iopub.status.idle": "2024-10-21T08:55:00.663617Z",
     "shell.execute_reply": "2024-10-21T08:55:00.663133Z",
     "shell.execute_reply.started": "2024-10-21T08:55:00.659644Z"
    }
   },
   "outputs": [
    {
     "name": "stdout",
     "output_type": "stream",
     "text": [
      "We have finished a total of 28123 cells\n",
      "Progenitors: 1716 cells finished\n",
      "pDC: 3125 cells finished\n",
      "Plasma: 1383 cells finished\n",
      "RBC: 196 cells finished\n",
      "Platelets: 18962 cells finished\n",
      "Cycling: 2741 cells finished\n"
     ]
    }
   ],
   "source": [
    "total_cells_finished = cell_counts.loc[finished_categories].sum()\n",
    "print(f\"We have finished a total of {total_cells_finished} cells\")\n",
    "for category in finished_categories:\n",
    "    cells_finished = cell_counts.loc[category]\n",
    "    print(f\"{category}: {cells_finished} cells finished\")"
   ]
  },
  {
   "cell_type": "code",
   "execution_count": 40,
   "metadata": {
    "execution": {
     "iopub.execute_input": "2024-10-21T08:55:03.539654Z",
     "iopub.status.busy": "2024-10-21T08:55:03.539351Z",
     "iopub.status.idle": "2024-10-21T08:55:03.544004Z",
     "shell.execute_reply": "2024-10-21T08:55:03.543528Z",
     "shell.execute_reply.started": "2024-10-21T08:55:03.539635Z"
    }
   },
   "outputs": [
    {
     "name": "stdout",
     "output_type": "stream",
     "text": [
      "We are still missing a total of 790342 cells\n",
      "B: 64308 cells missing\n",
      "DC: 13801 cells missing\n",
      "Mono: 134647 cells missing\n",
      "NK: 75377 cells missing\n",
      "T_Naive: 260868 cells missing\n",
      "T_NonNaive: 241341 cells missing\n"
     ]
    }
   ],
   "source": [
    "next_step_categories = cell_counts.index.difference(set(finished_categories).union(set(not_interesting_categories)))\n",
    "total_cells_of_interest = cell_counts.loc[next_step_categories].sum()\n",
    "print(f\"We are still missing a total of {total_cells_of_interest} cells\")\n",
    "for category in next_step_categories:\n",
    "    cells_missing = cell_counts.loc[category]\n",
    "    print(f\"{category}: {cells_missing} cells missing\")"
   ]
  },
  {
   "cell_type": "code",
   "execution_count": 41,
   "metadata": {
    "execution": {
     "iopub.execute_input": "2024-10-21T08:55:10.916762Z",
     "iopub.status.busy": "2024-10-21T08:55:10.916390Z",
     "iopub.status.idle": "2024-10-21T08:55:10.953683Z",
     "shell.execute_reply": "2024-10-21T08:55:10.953260Z",
     "shell.execute_reply.started": "2024-10-21T08:55:10.916743Z"
    }
   },
   "outputs": [
    {
     "data": {
      "text/plain": [
       "array(['pDC', 'LowQuality_cells', 'Doublets_Step1', 'Platelets', 'Mono',\n",
       "       'DC', 'NK', 'T_Naive', 'T_NonNaive', 'Cycling', 'Plasma',\n",
       "       'Progenitors', 'RBC', 'B'], dtype=object)"
      ]
     },
     "execution_count": 41,
     "metadata": {},
     "output_type": "execute_result"
    }
   ],
   "source": [
    "master_AnnotDF[annotation_col_name].unique()"
   ]
  },
  {
   "cell_type": "code",
   "execution_count": 42,
   "metadata": {
    "execution": {
     "iopub.execute_input": "2024-10-21T08:55:11.294543Z",
     "iopub.status.busy": "2024-10-21T08:55:11.294210Z",
     "iopub.status.idle": "2024-10-21T08:55:12.103992Z",
     "shell.execute_reply": "2024-10-21T08:55:12.103563Z",
     "shell.execute_reply.started": "2024-10-21T08:55:11.294525Z"
    }
   },
   "outputs": [
    {
     "name": "stdout",
     "output_type": "stream",
     "text": [
      "Skipping pDC\n",
      "Skipping LowQuality_cells\n",
      "Skipping Doublets_Step1\n",
      "Skipping Platelets\n",
      "Mono\n",
      "01_qualityControl_HVGselection.ipynb: cellGroup changed!\n",
      "01_qualityControl_HVGselection.ipynb: annotationDFpath changed!\n",
      "01_qualityControl_HVGselection.ipynb: annotation column changed!\n",
      "03_compute_neighborsUMAP_QCmetrics.ipynb: cellGroup changed!\n",
      "03_compute_neighborsUMAP_QCmetrics.ipynb: annotationDFpath changed!\n",
      "03_compute_neighborsUMAP_QCmetrics.ipynb: annotation column changed!\n",
      "05_annotation.ipynb: cellGroup changed!\n",
      "02_integration_scVI.ipynb: cellGroup changed!\n",
      "06_computeMarkers_specificResolution.ipynb: cellGroup changed!\n",
      "04_clustering.ipynb: cellGroup changed!\n",
      "DC\n",
      "01_qualityControl_HVGselection.ipynb: cellGroup changed!\n",
      "01_qualityControl_HVGselection.ipynb: annotationDFpath changed!\n",
      "01_qualityControl_HVGselection.ipynb: annotation column changed!\n",
      "03_compute_neighborsUMAP_QCmetrics.ipynb: cellGroup changed!\n",
      "03_compute_neighborsUMAP_QCmetrics.ipynb: annotationDFpath changed!\n",
      "03_compute_neighborsUMAP_QCmetrics.ipynb: annotation column changed!\n",
      "05_annotation.ipynb: cellGroup changed!\n",
      "02_integration_scVI.ipynb: cellGroup changed!\n",
      "06_computeMarkers_specificResolution.ipynb: cellGroup changed!\n",
      "04_clustering.ipynb: cellGroup changed!\n",
      "NK\n",
      "01_qualityControl_HVGselection.ipynb: cellGroup changed!\n",
      "01_qualityControl_HVGselection.ipynb: annotationDFpath changed!\n",
      "01_qualityControl_HVGselection.ipynb: annotation column changed!\n",
      "03_compute_neighborsUMAP_QCmetrics.ipynb: cellGroup changed!\n",
      "03_compute_neighborsUMAP_QCmetrics.ipynb: annotationDFpath changed!\n",
      "03_compute_neighborsUMAP_QCmetrics.ipynb: annotation column changed!\n",
      "05_annotation.ipynb: cellGroup changed!\n",
      "02_integration_scVI.ipynb: cellGroup changed!\n",
      "06_computeMarkers_specificResolution.ipynb: cellGroup changed!\n",
      "04_clustering.ipynb: cellGroup changed!\n",
      "T_Naive\n",
      "01_qualityControl_HVGselection.ipynb: cellGroup changed!\n",
      "01_qualityControl_HVGselection.ipynb: annotationDFpath changed!\n",
      "01_qualityControl_HVGselection.ipynb: annotation column changed!\n",
      "03_compute_neighborsUMAP_QCmetrics.ipynb: cellGroup changed!\n",
      "03_compute_neighborsUMAP_QCmetrics.ipynb: annotationDFpath changed!\n",
      "03_compute_neighborsUMAP_QCmetrics.ipynb: annotation column changed!\n",
      "05_annotation.ipynb: cellGroup changed!\n",
      "02_integration_scVI.ipynb: cellGroup changed!\n",
      "06_computeMarkers_specificResolution.ipynb: cellGroup changed!\n",
      "04_clustering.ipynb: cellGroup changed!\n",
      "T_NonNaive\n",
      "01_qualityControl_HVGselection.ipynb: cellGroup changed!\n",
      "01_qualityControl_HVGselection.ipynb: annotationDFpath changed!\n",
      "01_qualityControl_HVGselection.ipynb: annotation column changed!\n",
      "03_compute_neighborsUMAP_QCmetrics.ipynb: cellGroup changed!\n",
      "03_compute_neighborsUMAP_QCmetrics.ipynb: annotationDFpath changed!\n",
      "03_compute_neighborsUMAP_QCmetrics.ipynb: annotation column changed!\n",
      "05_annotation.ipynb: cellGroup changed!\n",
      "02_integration_scVI.ipynb: cellGroup changed!\n",
      "06_computeMarkers_specificResolution.ipynb: cellGroup changed!\n",
      "04_clustering.ipynb: cellGroup changed!\n",
      "Skipping Cycling\n",
      "Skipping Plasma\n",
      "Skipping Progenitors\n",
      "Skipping RBC\n",
      "B\n",
      "01_qualityControl_HVGselection.ipynb: cellGroup changed!\n",
      "01_qualityControl_HVGselection.ipynb: annotationDFpath changed!\n",
      "01_qualityControl_HVGselection.ipynb: annotation column changed!\n",
      "03_compute_neighborsUMAP_QCmetrics.ipynb: cellGroup changed!\n",
      "03_compute_neighborsUMAP_QCmetrics.ipynb: annotationDFpath changed!\n",
      "03_compute_neighborsUMAP_QCmetrics.ipynb: annotation column changed!\n",
      "05_annotation.ipynb: cellGroup changed!\n",
      "02_integration_scVI.ipynb: cellGroup changed!\n",
      "06_computeMarkers_specificResolution.ipynb: cellGroup changed!\n",
      "04_clustering.ipynb: cellGroup changed!\n"
     ]
    }
   ],
   "source": [
    "template_path = here('02_cell_annotation/SCGT00_CentralizedDataset/01_fromDataset_to_CellLineages/template')\n",
    "template_notebook_list = [str(template_path) + '/' + f for f in os.listdir(template_path) if f.endswith('.ipynb')]\n",
    "\n",
    "annotation_path = str(here(f\"02_cell_annotation/SCGT00_CentralizedDataset/02_fromCellLineages_to_CellTypes/{step}/{step}_clusterAnnotDF.pkl\"))\n",
    "targetdir = str(here(f'02_cell_annotation/SCGT00_CentralizedDataset/02_fromCellLineages_to_CellTypes/{next_step}'))\n",
    "os.makedirs(targetdir)\n",
    "\n",
    "for cellGroup in master_AnnotDF[annotation_col_name].unique():\n",
    "    if cellGroup in next_step_categories: \n",
    "        print(cellGroup)\n",
    "        # Generate the directory tree\n",
    "        os.makedirs(here('{}/{}/results/figures'.format(targetdir, cellGroup)), exist_ok=False)\n",
    "        for template_notebook in template_notebook_list:\n",
    "            generate_split_dir(cellGroup = cellGroup, \n",
    "                               annotationPath = annotation_path, \n",
    "                               targetDir = targetdir, \n",
    "                               annotation_col_name = annotation_col_name, # Davide changed this line after editing the function. Check if still works\n",
    "                               templateNotebook = template_notebook)\n",
    "    else: \n",
    "        print(f\"Skipping {cellGroup}\")"
   ]
  },
  {
   "cell_type": "code",
   "execution_count": 43,
   "metadata": {
    "execution": {
     "iopub.execute_input": "2024-10-21T08:55:12.828058Z",
     "iopub.status.busy": "2024-10-21T08:55:12.827593Z",
     "iopub.status.idle": "2024-10-21T08:55:12.865101Z",
     "shell.execute_reply": "2024-10-21T08:55:12.864731Z",
     "shell.execute_reply.started": "2024-10-21T08:55:12.828039Z"
    }
   },
   "outputs": [
    {
     "data": {
      "text/html": [
       "<details>\n",
       "<summary>Click to view session information</summary>\n",
       "<pre>\n",
       "-----\n",
       "customPythonFunctions       NA\n",
       "numpy                       1.26.4\n",
       "pandas                      2.2.0\n",
       "pyprojroot                  NA\n",
       "session_info                1.0.0\n",
       "-----\n",
       "</pre>\n",
       "<details>\n",
       "<summary>Click to view modules imported as dependencies</summary>\n",
       "<pre>\n",
       "anyio                       NA\n",
       "argcomplete                 NA\n",
       "arrow                       1.3.0\n",
       "asttokens                   NA\n",
       "attr                        23.2.0\n",
       "attrs                       23.2.0\n",
       "babel                       2.14.0\n",
       "brotli                      1.1.0\n",
       "certifi                     2024.02.02\n",
       "charset_normalizer          3.3.2\n",
       "cloudpickle                 3.0.0\n",
       "colorama                    0.4.6\n",
       "comm                        0.2.1\n",
       "cython_runtime              NA\n",
       "dateutil                    2.8.2\n",
       "debugpy                     1.8.1\n",
       "decorator                   5.1.1\n",
       "exceptiongroup              1.2.0\n",
       "executing                   2.0.1\n",
       "fastjsonschema              NA\n",
       "fqdn                        NA\n",
       "idna                        3.6\n",
       "ipykernel                   6.29.2\n",
       "isoduration                 NA\n",
       "jedi                        0.19.1\n",
       "jinja2                      3.1.3\n",
       "json5                       NA\n",
       "jsonpointer                 2.4\n",
       "jsonschema                  4.21.1\n",
       "jsonschema_specifications   NA\n",
       "jupyter_events              0.9.0\n",
       "jupyter_server              2.12.5\n",
       "jupyterlab_server           2.25.3\n",
       "markupsafe                  2.1.5\n",
       "nbformat                    5.9.2\n",
       "overrides                   NA\n",
       "packaging                   23.2\n",
       "parso                       0.8.3\n",
       "pickleshare                 0.7.5\n",
       "platformdirs                4.2.0\n",
       "prometheus_client           NA\n",
       "prompt_toolkit              3.0.42\n",
       "psutil                      5.9.8\n",
       "pure_eval                   0.2.2\n",
       "pyarrow                     15.0.0\n",
       "pydev_ipython               NA\n",
       "pydevconsole                NA\n",
       "pydevd                      2.9.5\n",
       "pydevd_file_utils           NA\n",
       "pydevd_plugins              NA\n",
       "pydevd_tracing              NA\n",
       "pygments                    2.17.2\n",
       "pythonjsonlogger            NA\n",
       "pytz                        2024.1\n",
       "referencing                 NA\n",
       "requests                    2.31.0\n",
       "rfc3339_validator           0.1.4\n",
       "rfc3986_validator           0.1.1\n",
       "rpds                        NA\n",
       "send2trash                  NA\n",
       "simplejson                  3.19.2\n",
       "six                         1.16.0\n",
       "sniffio                     1.3.0\n",
       "socks                       1.7.1\n",
       "stack_data                  0.6.2\n",
       "tornado                     6.4\n",
       "traitlets                   5.14.1\n",
       "typing_extensions           NA\n",
       "uri_template                NA\n",
       "urllib3                     2.2.1\n",
       "wcwidth                     0.2.13\n",
       "webcolors                   1.13\n",
       "websocket                   1.7.0\n",
       "yaml                        6.0.1\n",
       "zmq                         25.1.2\n",
       "zoneinfo                    NA\n",
       "zstandard                   0.22.0\n",
       "</pre>\n",
       "</details> <!-- seems like this ends pre, so might as well be explicit -->\n",
       "<pre>\n",
       "-----\n",
       "IPython             8.21.0\n",
       "jupyter_client      8.6.0\n",
       "jupyter_core        5.7.1\n",
       "jupyterlab          4.1.2\n",
       "-----\n",
       "Python 3.10.13 | packaged by conda-forge | (main, Dec 23 2023, 15:36:39) [GCC 12.3.0]\n",
       "Linux-3.10.0-1160.88.1.el7.x86_64-x86_64-with-glibc2.17\n",
       "-----\n",
       "Session information updated at 2024-10-21 10:55\n",
       "</pre>\n",
       "</details>"
      ],
      "text/plain": [
       "<IPython.core.display.HTML object>"
      ]
     },
     "execution_count": 43,
     "metadata": {},
     "output_type": "execute_result"
    }
   ],
   "source": [
    "session_info.show()"
   ]
  },
  {
   "cell_type": "code",
   "execution_count": null,
   "metadata": {},
   "outputs": [],
   "source": []
  }
 ],
 "metadata": {
  "kernelspec": {
   "display_name": "Python 3 (ipykernel)",
   "language": "python",
   "name": "python3"
  },
  "language_info": {
   "codemirror_mode": {
    "name": "ipython",
    "version": 3
   },
   "file_extension": ".py",
   "mimetype": "text/x-python",
   "name": "python",
   "nbconvert_exporter": "python",
   "pygments_lexer": "ipython3",
   "version": "3.10.13"
  },
  "toc": {
   "base_numbering": 1,
   "nav_menu": {},
   "number_sections": true,
   "sideBar": true,
   "skip_h1_title": false,
   "title_cell": "Table of Contents",
   "title_sidebar": "Contents",
   "toc_cell": false,
   "toc_position": {},
   "toc_section_display": true,
   "toc_window_display": false
  }
 },
 "nbformat": 4,
 "nbformat_minor": 4
}
