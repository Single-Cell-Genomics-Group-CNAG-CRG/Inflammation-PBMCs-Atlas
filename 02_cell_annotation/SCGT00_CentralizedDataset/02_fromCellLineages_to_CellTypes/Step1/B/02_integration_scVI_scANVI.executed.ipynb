{
 "cells": [
  {
   "cell_type": "code",
   "execution_count": 1,
   "id": "2dd1425a-0c07-465e-b522-9e3cc5cb93a7",
   "metadata": {
    "execution": {
     "iopub.execute_input": "2024-10-17T14:38:49.504450Z",
     "iopub.status.busy": "2024-10-17T14:38:49.503254Z",
     "iopub.status.idle": "2024-10-17T14:38:53.030078Z",
     "shell.execute_reply": "2024-10-17T14:38:53.029241Z"
    },
    "papermill": {
     "duration": 3.54351,
     "end_time": "2024-10-17T14:38:53.031557",
     "exception": false,
     "start_time": "2024-10-17T14:38:49.488047",
     "status": "completed"
    },
    "tags": []
   },
   "outputs": [
    {
     "name": "stderr",
     "output_type": "stream",
     "text": [
      "/home/dmaspero/miniconda3/envs/scarches/lib/python3.9/site-packages/tqdm/auto.py:21: TqdmWarning: IProgress not found. Please update jupyter and ipywidgets. See https://ipywidgets.readthedocs.io/en/stable/user_install.html\n",
      "  from .autonotebook import tqdm as notebook_tqdm\n"
     ]
    },
    {
     "data": {
      "text/plain": [
       "True"
      ]
     },
     "execution_count": 1,
     "metadata": {},
     "output_type": "execute_result"
    }
   ],
   "source": [
    "import os\n",
    "import sys\n",
    "\n",
    "import numpy as np\n",
    "import matplotlib.pyplot as plt\n",
    "\n",
    "import scanpy as sc\n",
    "import scvi\n",
    "import torch\n",
    "\n",
    "from pytorch_lightning.loggers import WandbLogger\n",
    "import wandb\n",
    "from dotenv import load_dotenv\n",
    "\n",
    "import session_info\n",
    "import warnings\n",
    "from pyprojroot.here import here\n",
    "\n",
    "warnings.filterwarnings(\"ignore\")\n",
    "sys.path.insert(1, str(here('bin')))\n",
    "\n",
    "torch.set_float32_matmul_precision('high')\n",
    "\n",
    "#plt.style.use(['science','nature','no-latex'])\n",
    "dpi_fig_save = 300\n",
    "sc.set_figure_params(dpi=100, dpi_save=dpi_fig_save, vector_friendly=True)\n",
    "\n",
    "load_dotenv(here('.env'))"
   ]
  },
  {
   "cell_type": "code",
   "execution_count": 2,
   "id": "09c897fc-744b-43de-a681-718fb5d327fa",
   "metadata": {
    "execution": {
     "iopub.execute_input": "2024-10-17T14:38:53.048029Z",
     "iopub.status.busy": "2024-10-17T14:38:53.047209Z",
     "iopub.status.idle": "2024-10-17T14:38:53.054446Z",
     "shell.execute_reply": "2024-10-17T14:38:53.053106Z"
    },
    "papermill": {
     "duration": 0.021014,
     "end_time": "2024-10-17T14:38:53.057734",
     "exception": false,
     "start_time": "2024-10-17T14:38:53.036720",
     "status": "completed"
    },
    "tags": []
   },
   "outputs": [],
   "source": [
    "class CustomWandbLogger(WandbLogger):\n",
    "    @property\n",
    "    def save_dir(self):\n",
    "        return self.experiment.dir"
   ]
  },
  {
   "cell_type": "code",
   "execution_count": 3,
   "id": "8ee6662f-5d45-4137-80a5-bb0b9ae8d71f",
   "metadata": {
    "execution": {
     "iopub.execute_input": "2024-10-17T14:38:53.079924Z",
     "iopub.status.busy": "2024-10-17T14:38:53.079641Z",
     "iopub.status.idle": "2024-10-17T14:38:53.089481Z",
     "shell.execute_reply": "2024-10-17T14:38:53.088335Z"
    },
    "papermill": {
     "duration": 0.023143,
     "end_time": "2024-10-17T14:38:53.092026",
     "exception": false,
     "start_time": "2024-10-17T14:38:53.068883",
     "status": "completed"
    },
    "tags": []
   },
   "outputs": [
    {
     "name": "stderr",
     "output_type": "stream",
     "text": [
      "Seed set to 0\n"
     ]
    },
    {
     "name": "stdout",
     "output_type": "stream",
     "text": [
      "Last run with scvi-tools version: 1.1.2\n"
     ]
    }
   ],
   "source": [
    "scvi.settings.seed = 0\n",
    "print(\"Last run with scvi-tools version:\", scvi.__version__)"
   ]
  },
  {
   "cell_type": "markdown",
   "id": "a81037ff-5998-482a-ba86-520f757311a9",
   "metadata": {
    "papermill": {
     "duration": 0.010363,
     "end_time": "2024-10-17T14:38:53.113968",
     "exception": false,
     "start_time": "2024-10-17T14:38:53.103605",
     "status": "completed"
    },
    "tags": []
   },
   "source": [
    "**Setting parameters** "
   ]
  },
  {
   "cell_type": "code",
   "execution_count": 4,
   "id": "56c27966-8f10-4c93-8b1a-1fa75f005e41",
   "metadata": {
    "execution": {
     "iopub.execute_input": "2024-10-17T14:38:53.141105Z",
     "iopub.status.busy": "2024-10-17T14:38:53.140732Z",
     "iopub.status.idle": "2024-10-17T14:38:53.145719Z",
     "shell.execute_reply": "2024-10-17T14:38:53.144539Z"
    },
    "papermill": {
     "duration": 0.022602,
     "end_time": "2024-10-17T14:38:53.148850",
     "exception": false,
     "start_time": "2024-10-17T14:38:53.126248",
     "status": "completed"
    },
    "tags": []
   },
   "outputs": [],
   "source": [
    "overwriteFigures = True\n",
    "overwriteData = True"
   ]
  },
  {
   "cell_type": "code",
   "execution_count": 5,
   "id": "c86fccd3-a4fe-415b-8f4e-e2ceb3ec128a",
   "metadata": {
    "execution": {
     "iopub.execute_input": "2024-10-17T14:38:53.173552Z",
     "iopub.status.busy": "2024-10-17T14:38:53.173044Z",
     "iopub.status.idle": "2024-10-17T14:38:53.178433Z",
     "shell.execute_reply": "2024-10-17T14:38:53.177054Z"
    },
    "papermill": {
     "duration": 0.018907,
     "end_time": "2024-10-17T14:38:53.181901",
     "exception": false,
     "start_time": "2024-10-17T14:38:53.162994",
     "status": "completed"
    },
    "tags": []
   },
   "outputs": [],
   "source": [
    "cellGroup = 'B'\n",
    "workDir = os.getcwd()"
   ]
  },
  {
   "cell_type": "code",
   "execution_count": 6,
   "id": "2dee4d55-d168-467b-b867-a61fed9d6af1",
   "metadata": {
    "execution": {
     "iopub.execute_input": "2024-10-17T14:38:53.208392Z",
     "iopub.status.busy": "2024-10-17T14:38:53.207898Z",
     "iopub.status.idle": "2024-10-17T14:38:53.214546Z",
     "shell.execute_reply": "2024-10-17T14:38:53.213048Z"
    },
    "papermill": {
     "duration": 0.023883,
     "end_time": "2024-10-17T14:38:53.217712",
     "exception": false,
     "start_time": "2024-10-17T14:38:53.193829",
     "status": "completed"
    },
    "tags": []
   },
   "outputs": [],
   "source": [
    "annotationLevel = os.path.basename(os.path.normpath(workDir))"
   ]
  },
  {
   "cell_type": "markdown",
   "id": "171d2f06-9a44-4fcb-b437-35dc546674b6",
   "metadata": {
    "papermill": {
     "duration": 0.009871,
     "end_time": "2024-10-17T14:38:53.276090",
     "exception": false,
     "start_time": "2024-10-17T14:38:53.266219",
     "status": "completed"
    },
    "tags": []
   },
   "source": [
    "**Load data**"
   ]
  },
  {
   "cell_type": "code",
   "execution_count": 8,
   "id": "429f34fe-dde6-4cc9-9f75-7de8f85c5ffe",
   "metadata": {
    "execution": {
     "iopub.execute_input": "2024-10-17T14:38:53.299514Z",
     "iopub.status.busy": "2024-10-17T14:38:53.298348Z",
     "iopub.status.idle": "2024-10-17T14:38:56.105916Z",
     "shell.execute_reply": "2024-10-17T14:38:56.105212Z"
    },
    "papermill": {
     "duration": 2.822868,
     "end_time": "2024-10-17T14:38:56.109328",
     "exception": false,
     "start_time": "2024-10-17T14:38:53.286460",
     "status": "completed"
    },
    "tags": []
   },
   "outputs": [
    {
     "data": {
      "text/plain": [
       "AnnData object with n_obs × n_vars = 70448 × 2823\n",
       "    obs: 'studyID', 'libraryID', 'sampleID', 'chemistry', 'technology', 'patientID', 'disease', 'timepoint_replicate', 'treatmentStatus', 'therapyResponse', 'sex', 'age', 'BMI', 'binned_age', 'diseaseStatus', 'smokingStatus', 'ethnicity', 'institute', 'diseaseGroup', 'batches', 'n_genes_by_counts', 'log1p_n_genes_by_counts', 'total_counts', 'log1p_total_counts', 'pct_counts_in_top_20_genes', 'total_counts_mt', 'log1p_total_counts_mt', 'pct_counts_mt', 'total_counts_ribo', 'log1p_total_counts_ribo', 'pct_counts_ribo', 'total_counts_hb', 'log1p_total_counts_hb', 'pct_counts_hb', 'total_counts_plt', 'log1p_total_counts_plt', 'pct_counts_plt', 'S_score', 'G2M_score', 'phase'\n",
       "    var: 'hgnc_id', 'symbol', 'locus_group', 'HUGO_status', 'mt', 'ribo', 'hb', 'plt', 'n_cells_by_counts', 'mean_counts', 'log1p_mean_counts', 'pct_dropout_by_counts', 'total_counts', 'log1p_total_counts', 'highly_variable', 'means', 'dispersions', 'dispersions_norm', 'highly_variable_nbatches', 'highly_variable_intersection'\n",
       "    uns: 'disease_colors', 'hvg', 'log1p'\n",
       "    layers: 'counts', 'log1p_10e4_counts'"
      ]
     },
     "execution_count": 8,
     "metadata": {},
     "output_type": "execute_result"
    }
   ],
   "source": [
    "adata = sc.read_h5ad(here(f\"{workDir}/{cellGroup}/results/01_{cellGroup}_normalized_HVGsubset.h5ad\"))\n",
    "adata"
   ]
  },
  {
   "cell_type": "markdown",
   "id": "8ac79f3b-d5af-41fa-8904-1e9ac1cbe2fb",
   "metadata": {
    "papermill": {
     "duration": 0.012663,
     "end_time": "2024-10-17T14:38:56.134152",
     "exception": false,
     "start_time": "2024-10-17T14:38:56.121489",
     "status": "completed"
    },
    "tags": []
   },
   "source": [
    "## scVI integration"
   ]
  },
  {
   "cell_type": "markdown",
   "id": "9544847d-d17f-4811-b14b-760446d54d32",
   "metadata": {
    "execution": {
     "iopub.execute_input": "2024-03-25T16:49:04.004504Z",
     "iopub.status.busy": "2024-03-25T16:49:04.004143Z",
     "iopub.status.idle": "2024-03-25T16:49:04.010148Z",
     "shell.execute_reply": "2024-03-25T16:49:04.009146Z",
     "shell.execute_reply.started": "2024-03-25T16:49:04.004477Z"
    },
    "papermill": {
     "duration": 0.012463,
     "end_time": "2024-10-17T14:38:56.164409",
     "exception": false,
     "start_time": "2024-10-17T14:38:56.151946",
     "status": "completed"
    },
    "tags": []
   },
   "source": [
    "**scVI parameters**"
   ]
  },
  {
   "cell_type": "code",
   "execution_count": 9,
   "id": "208966eb-545a-4c02-854c-0ed0487ef5b3",
   "metadata": {
    "execution": {
     "iopub.execute_input": "2024-10-17T14:38:56.196887Z",
     "iopub.status.busy": "2024-10-17T14:38:56.196377Z",
     "iopub.status.idle": "2024-10-17T14:38:56.206930Z",
     "shell.execute_reply": "2024-10-17T14:38:56.205649Z"
    },
    "papermill": {
     "duration": 0.032795,
     "end_time": "2024-10-17T14:38:56.210045",
     "exception": false,
     "start_time": "2024-10-17T14:38:56.177250",
     "status": "completed"
    },
    "tags": []
   },
   "outputs": [],
   "source": [
    "# https://docs.scvi-tools.org/en/stable/api/reference/scvi.train.Trainer.html#scvi.train.Trainer\n",
    "setup_kwargs = dict(\n",
    "    layer=\"counts\", \n",
    "    batch_key='libraryID', \n",
    "    categorical_covariate_keys = ['disease', 'sampleID'],\n",
    ")\n",
    "\n",
    "scvi_kwargs = dict(n_hidden=512,\n",
    "                   n_latent=10, # reduced to 20 after step 00 (main) and to 10 after step 03\n",
    "                   n_layers=2,\n",
    "                   gene_likelihood='nb')\n",
    "\n",
    "trainer_kwargs = dict(\n",
    "    checkpointing_monitor = 'elbo_validation',\n",
    "    early_stopping_monitor = 'reconstruction_loss_validation',\n",
    "    early_stopping_patience = 10,\n",
    "    early_stopping_min_delta=0.1,\n",
    "    early_stopping = True,\n",
    "    max_epochs = 1000,\n",
    "\n",
    "    #logger = # wandb\n",
    ")\n",
    "# https://docs.scvi-tools.org/en/stable/api/reference/scvi.train.TrainingPlan.html#scvi.train.TrainingPlan\n",
    "plan_kwargs = dict(\n",
    "    lr = 5e-4,\n",
    "    #reduce_lr_on_plateau = True\n",
    ")\n",
    "\n",
    "# https://docs.scvi-tools.org/en/stable/api/reference/scvi.module.VAE.html#scvi.module.VAE\n",
    "#vae = dict(\n",
    "#    use_layer_norm='both',\n",
    "#    use_batch_norm='none',\n",
    "#    encode_covariates=True,\n",
    "#    deeply_inject_covariates=False\n",
    "#)\n",
    "parameter_dict = setup_kwargs | scvi_kwargs | trainer_kwargs | plan_kwargs"
   ]
  },
  {
   "cell_type": "markdown",
   "id": "1362366a-c16b-4c11-964b-b9c5f82f7b29",
   "metadata": {
    "papermill": {
     "duration": 0.010635,
     "end_time": "2024-10-17T14:38:56.233026",
     "exception": false,
     "start_time": "2024-10-17T14:38:56.222391",
     "status": "completed"
    },
    "tags": []
   },
   "source": [
    "**wandb parameter**"
   ]
  },
  {
   "cell_type": "code",
   "execution_count": 10,
   "id": "0496e33a-8ca5-423f-b42f-34a59760708c",
   "metadata": {
    "execution": {
     "iopub.execute_input": "2024-10-17T14:38:56.261334Z",
     "iopub.status.busy": "2024-10-17T14:38:56.260835Z",
     "iopub.status.idle": "2024-10-17T14:38:56.268945Z",
     "shell.execute_reply": "2024-10-17T14:38:56.267647Z"
    },
    "papermill": {
     "duration": 0.026317,
     "end_time": "2024-10-17T14:38:56.272113",
     "exception": false,
     "start_time": "2024-10-17T14:38:56.245796",
     "status": "completed"
    },
    "tags": []
   },
   "outputs": [
    {
     "data": {
      "text/plain": [
       "'Step1_B'"
      ]
     },
     "execution_count": 10,
     "metadata": {},
     "output_type": "execute_result"
    }
   ],
   "source": [
    "run_name = f\"{annotationLevel}_{cellGroup}\"\n",
    "run_name"
   ]
  },
  {
   "cell_type": "code",
   "execution_count": 11,
   "id": "b0021327-95a2-4002-bf32-2c5779a99505",
   "metadata": {
    "execution": {
     "iopub.execute_input": "2024-10-17T14:38:56.303369Z",
     "iopub.status.busy": "2024-10-17T14:38:56.302217Z",
     "iopub.status.idle": "2024-10-17T14:38:56.354349Z",
     "shell.execute_reply": "2024-10-17T14:38:56.353322Z"
    },
    "papermill": {
     "duration": 0.071855,
     "end_time": "2024-10-17T14:38:56.357605",
     "exception": false,
     "start_time": "2024-10-17T14:38:56.285750",
     "status": "completed"
    },
    "tags": []
   },
   "outputs": [],
   "source": [
    "logger = CustomWandbLogger(name = run_name, project='inflammation_atlas_R1', config=parameter_dict)"
   ]
  },
  {
   "cell_type": "markdown",
   "id": "c237eee1-a976-4915-9b7f-b014bf33f47d",
   "metadata": {
    "papermill": {
     "duration": 0.014863,
     "end_time": "2024-10-17T14:38:56.385661",
     "exception": false,
     "start_time": "2024-10-17T14:38:56.370798",
     "status": "completed"
    },
    "tags": []
   },
   "source": [
    "**Running integration**"
   ]
  },
  {
   "cell_type": "code",
   "execution_count": 12,
   "id": "aff97c53-1aba-462e-8a77-f1aec9cf724c",
   "metadata": {
    "execution": {
     "iopub.execute_input": "2024-10-17T14:38:56.415882Z",
     "iopub.status.busy": "2024-10-17T14:38:56.415397Z",
     "iopub.status.idle": "2024-10-17T14:38:56.548811Z",
     "shell.execute_reply": "2024-10-17T14:38:56.547399Z"
    },
    "papermill": {
     "duration": 0.15498,
     "end_time": "2024-10-17T14:38:56.552220",
     "exception": false,
     "start_time": "2024-10-17T14:38:56.397240",
     "status": "completed"
    },
    "tags": []
   },
   "outputs": [
    {
     "name": "stderr",
     "output_type": "stream",
     "text": [
      "CUDA backend failed to initialize: Unable to use CUDA because of the following issues with CUDA components:\n",
      "Outdated cuSPARSE installation found.\n",
      "Version JAX was built against: 12200\n",
      "Minimum supported: 12100\n",
      "Installed version: 12002\n",
      "The local installation version must be no lower than 12100. (Set TF_CPP_MIN_LOG_LEVEL=0 and rerun for more info.)\n"
     ]
    }
   ],
   "source": [
    "scvi.model.SCVI.setup_anndata(adata, \n",
    "                              **setup_kwargs)"
   ]
  },
  {
   "cell_type": "code",
   "execution_count": 13,
   "id": "1a56f448-cf44-47c1-81a4-a89caa930fec",
   "metadata": {
    "execution": {
     "iopub.execute_input": "2024-10-17T14:38:56.582299Z",
     "iopub.status.busy": "2024-10-17T14:38:56.581888Z",
     "iopub.status.idle": "2024-10-17T14:38:56.688631Z",
     "shell.execute_reply": "2024-10-17T14:38:56.687331Z"
    },
    "papermill": {
     "duration": 0.124816,
     "end_time": "2024-10-17T14:38:56.691917",
     "exception": false,
     "start_time": "2024-10-17T14:38:56.567101",
     "status": "completed"
    },
    "tags": []
   },
   "outputs": [],
   "source": [
    "model = scvi.model.SCVI(adata, **scvi_kwargs)"
   ]
  },
  {
   "cell_type": "code",
   "execution_count": 14,
   "id": "2735f010-4f24-4ae8-9740-a8cfeb335e9a",
   "metadata": {
    "execution": {
     "iopub.execute_input": "2024-10-17T14:38:56.717471Z",
     "iopub.status.busy": "2024-10-17T14:38:56.717234Z",
     "iopub.status.idle": "2024-10-17T14:41:01.159516Z",
     "shell.execute_reply": "2024-10-17T14:41:01.158761Z"
    },
    "papermill": {
     "duration": 124.457981,
     "end_time": "2024-10-17T14:41:01.162329",
     "exception": false,
     "start_time": "2024-10-17T14:38:56.704348",
     "status": "completed"
    },
    "tags": []
   },
   "outputs": [
    {
     "name": "stderr",
     "output_type": "stream",
     "text": [
      "GPU available: True (cuda), used: True\n"
     ]
    },
    {
     "name": "stderr",
     "output_type": "stream",
     "text": [
      "TPU available: False, using: 0 TPU cores\n"
     ]
    },
    {
     "name": "stderr",
     "output_type": "stream",
     "text": [
      "IPU available: False, using: 0 IPUs\n"
     ]
    },
    {
     "name": "stderr",
     "output_type": "stream",
     "text": [
      "HPU available: False, using: 0 HPUs\n"
     ]
    },
    {
     "name": "stderr",
     "output_type": "stream",
     "text": [
      "\u001b[34m\u001b[1mwandb\u001b[0m: Currently logged in as: \u001b[33mdav1989\u001b[0m (\u001b[33minflammation\u001b[0m). Use \u001b[1m`wandb login --relogin`\u001b[0m to force relogin\n"
     ]
    },
    {
     "name": "stderr",
     "output_type": "stream",
     "text": [
      "\u001b[34m\u001b[1mwandb\u001b[0m: wandb version 0.18.3 is available!  To upgrade, please run:\n",
      "\u001b[34m\u001b[1mwandb\u001b[0m:  $ pip install wandb --upgrade\n"
     ]
    },
    {
     "name": "stderr",
     "output_type": "stream",
     "text": [
      "\u001b[34m\u001b[1mwandb\u001b[0m: Tracking run with wandb version 0.16.5\n"
     ]
    },
    {
     "name": "stderr",
     "output_type": "stream",
     "text": [
      "\u001b[34m\u001b[1mwandb\u001b[0m: Run data is saved locally in \u001b[35m\u001b[1m./wandb/run-20241017_143859-uc2a6u3h\u001b[0m\n",
      "\u001b[34m\u001b[1mwandb\u001b[0m: Run \u001b[1m`wandb offline`\u001b[0m to turn off syncing.\n"
     ]
    },
    {
     "name": "stderr",
     "output_type": "stream",
     "text": [
      "\u001b[34m\u001b[1mwandb\u001b[0m: Syncing run \u001b[33mStep1_B\u001b[0m\n"
     ]
    },
    {
     "name": "stderr",
     "output_type": "stream",
     "text": [
      "\u001b[34m\u001b[1mwandb\u001b[0m: ⭐️ View project at \u001b[34m\u001b[4mhttps://wandb.ai/inflammation/inflammation_atlas_R1\u001b[0m\n"
     ]
    },
    {
     "name": "stderr",
     "output_type": "stream",
     "text": [
      "\u001b[34m\u001b[1mwandb\u001b[0m: 🚀 View run at \u001b[34m\u001b[4mhttps://wandb.ai/inflammation/inflammation_atlas_R1/runs/uc2a6u3h/workspace\u001b[0m\n"
     ]
    },
    {
     "name": "stderr",
     "output_type": "stream",
     "text": [
      "LOCAL_RANK: 0 - CUDA_VISIBLE_DEVICES: [0]\n"
     ]
    },
    {
     "name": "stdout",
     "output_type": "stream",
     "text": [
      "\r\n",
      "Training:   0%|                                                                                                                     | 0/1000 [00:00<?, ?it/s]"
     ]
    },
    {
     "name": "stdout",
     "output_type": "stream",
     "text": [
      "\r\n",
      "Epoch 1/1000:   0%|                                                                                                                 | 0/1000 [00:00<?, ?it/s]"
     ]
    },
    {
     "name": "stdout",
     "output_type": "stream",
     "text": [
      "\r\n",
      "Epoch 1/1000:   0%|                                                                                                       | 1/1000 [00:04<1:07:54,  4.08s/it]"
     ]
    },
    {
     "name": "stdout",
     "output_type": "stream",
     "text": [
      "\r\n",
      "Epoch 1/1000:   0%|                                                | 1/1000 [00:04<1:07:54,  4.08s/it, v_num=6u3h, train_loss_step=867, train_loss_epoch=883]"
     ]
    },
    {
     "name": "stdout",
     "output_type": "stream",
     "text": [
      "\r\n",
      "Epoch 2/1000:   0%|                                                | 1/1000 [00:04<1:07:54,  4.08s/it, v_num=6u3h, train_loss_step=867, train_loss_epoch=883]"
     ]
    },
    {
     "name": "stdout",
     "output_type": "stream",
     "text": [
      "\r\n",
      "Epoch 2/1000:   0%|                                                | 2/1000 [00:07<1:05:32,  3.94s/it, v_num=6u3h, train_loss_step=867, train_loss_epoch=883]"
     ]
    },
    {
     "name": "stdout",
     "output_type": "stream",
     "text": [
      "\r\n",
      "Epoch 2/1000:   0%|                                                | 2/1000 [00:07<1:05:32,  3.94s/it, v_num=6u3h, train_loss_step=946, train_loss_epoch=860]"
     ]
    },
    {
     "name": "stdout",
     "output_type": "stream",
     "text": [
      "\r\n",
      "Epoch 3/1000:   0%|                                                | 2/1000 [00:07<1:05:32,  3.94s/it, v_num=6u3h, train_loss_step=946, train_loss_epoch=860]"
     ]
    },
    {
     "name": "stdout",
     "output_type": "stream",
     "text": [
      "\r\n",
      "Epoch 3/1000:   0%|▏                                               | 3/1000 [00:11<1:04:40,  3.89s/it, v_num=6u3h, train_loss_step=946, train_loss_epoch=860]"
     ]
    },
    {
     "name": "stdout",
     "output_type": "stream",
     "text": [
      "\r\n",
      "Epoch 3/1000:   0%|▏                                               | 3/1000 [00:11<1:04:40,  3.89s/it, v_num=6u3h, train_loss_step=797, train_loss_epoch=854]"
     ]
    },
    {
     "name": "stdout",
     "output_type": "stream",
     "text": [
      "\r\n",
      "Epoch 4/1000:   0%|▏                                               | 3/1000 [00:11<1:04:40,  3.89s/it, v_num=6u3h, train_loss_step=797, train_loss_epoch=854]"
     ]
    },
    {
     "name": "stdout",
     "output_type": "stream",
     "text": [
      "\r\n",
      "Epoch 4/1000:   0%|▏                                               | 4/1000 [00:17<1:19:45,  4.80s/it, v_num=6u3h, train_loss_step=797, train_loss_epoch=854]"
     ]
    },
    {
     "name": "stdout",
     "output_type": "stream",
     "text": [
      "\r\n",
      "Epoch 4/1000:   0%|▏                                               | 4/1000 [00:17<1:19:45,  4.80s/it, v_num=6u3h, train_loss_step=809, train_loss_epoch=849]"
     ]
    },
    {
     "name": "stdout",
     "output_type": "stream",
     "text": [
      "\r\n",
      "Epoch 5/1000:   0%|▏                                               | 4/1000 [00:17<1:19:45,  4.80s/it, v_num=6u3h, train_loss_step=809, train_loss_epoch=849]"
     ]
    },
    {
     "name": "stdout",
     "output_type": "stream",
     "text": [
      "\r\n",
      "Epoch 5/1000:   0%|▏                                               | 5/1000 [00:22<1:18:44,  4.75s/it, v_num=6u3h, train_loss_step=809, train_loss_epoch=849]"
     ]
    },
    {
     "name": "stdout",
     "output_type": "stream",
     "text": [
      "\r\n",
      "Epoch 5/1000:   0%|▏                                               | 5/1000 [00:22<1:18:44,  4.75s/it, v_num=6u3h, train_loss_step=838, train_loss_epoch=846]"
     ]
    },
    {
     "name": "stdout",
     "output_type": "stream",
     "text": [
      "\r\n",
      "Epoch 6/1000:   0%|▏                                               | 5/1000 [00:22<1:18:44,  4.75s/it, v_num=6u3h, train_loss_step=838, train_loss_epoch=846]"
     ]
    },
    {
     "name": "stdout",
     "output_type": "stream",
     "text": [
      "\r\n",
      "Epoch 6/1000:   1%|▎                                               | 6/1000 [00:27<1:17:14,  4.66s/it, v_num=6u3h, train_loss_step=838, train_loss_epoch=846]"
     ]
    },
    {
     "name": "stdout",
     "output_type": "stream",
     "text": [
      "\r\n",
      "Epoch 6/1000:   1%|▎                                               | 6/1000 [00:27<1:17:14,  4.66s/it, v_num=6u3h, train_loss_step=805, train_loss_epoch=843]"
     ]
    },
    {
     "name": "stdout",
     "output_type": "stream",
     "text": [
      "\r\n",
      "Epoch 7/1000:   1%|▎                                               | 6/1000 [00:27<1:17:14,  4.66s/it, v_num=6u3h, train_loss_step=805, train_loss_epoch=843]"
     ]
    },
    {
     "name": "stdout",
     "output_type": "stream",
     "text": [
      "\r\n",
      "Epoch 7/1000:   1%|▎                                               | 7/1000 [00:32<1:21:01,  4.90s/it, v_num=6u3h, train_loss_step=805, train_loss_epoch=843]"
     ]
    },
    {
     "name": "stdout",
     "output_type": "stream",
     "text": [
      "\r\n",
      "Epoch 7/1000:   1%|▎                                               | 7/1000 [00:32<1:21:01,  4.90s/it, v_num=6u3h, train_loss_step=872, train_loss_epoch=841]"
     ]
    },
    {
     "name": "stdout",
     "output_type": "stream",
     "text": [
      "\r\n",
      "Epoch 8/1000:   1%|▎                                               | 7/1000 [00:32<1:21:01,  4.90s/it, v_num=6u3h, train_loss_step=872, train_loss_epoch=841]"
     ]
    },
    {
     "name": "stdout",
     "output_type": "stream",
     "text": [
      "\r\n",
      "Epoch 8/1000:   1%|▍                                               | 8/1000 [00:38<1:28:12,  5.34s/it, v_num=6u3h, train_loss_step=872, train_loss_epoch=841]"
     ]
    },
    {
     "name": "stdout",
     "output_type": "stream",
     "text": [
      "\r\n",
      "Epoch 8/1000:   1%|▍                                               | 8/1000 [00:38<1:28:12,  5.34s/it, v_num=6u3h, train_loss_step=847, train_loss_epoch=839]"
     ]
    },
    {
     "name": "stdout",
     "output_type": "stream",
     "text": [
      "\r\n",
      "Epoch 9/1000:   1%|▍                                               | 8/1000 [00:38<1:28:12,  5.34s/it, v_num=6u3h, train_loss_step=847, train_loss_epoch=839]"
     ]
    },
    {
     "name": "stdout",
     "output_type": "stream",
     "text": [
      "\r\n",
      "Epoch 9/1000:   1%|▍                                               | 9/1000 [00:42<1:20:53,  4.90s/it, v_num=6u3h, train_loss_step=847, train_loss_epoch=839]"
     ]
    },
    {
     "name": "stdout",
     "output_type": "stream",
     "text": [
      "\r\n",
      "Epoch 9/1000:   1%|▍                                               | 9/1000 [00:42<1:20:53,  4.90s/it, v_num=6u3h, train_loss_step=847, train_loss_epoch=837]"
     ]
    },
    {
     "name": "stdout",
     "output_type": "stream",
     "text": [
      "\r\n",
      "Epoch 10/1000:   1%|▍                                              | 9/1000 [00:42<1:20:53,  4.90s/it, v_num=6u3h, train_loss_step=847, train_loss_epoch=837]"
     ]
    },
    {
     "name": "stdout",
     "output_type": "stream",
     "text": [
      "\r\n",
      "Epoch 10/1000:   1%|▍                                             | 10/1000 [00:46<1:15:19,  4.57s/it, v_num=6u3h, train_loss_step=847, train_loss_epoch=837]"
     ]
    },
    {
     "name": "stdout",
     "output_type": "stream",
     "text": [
      "\r\n",
      "Epoch 10/1000:   1%|▍                                             | 10/1000 [00:46<1:15:19,  4.57s/it, v_num=6u3h, train_loss_step=887, train_loss_epoch=836]"
     ]
    },
    {
     "name": "stdout",
     "output_type": "stream",
     "text": [
      "\r\n",
      "Epoch 11/1000:   1%|▍                                             | 10/1000 [00:46<1:15:19,  4.57s/it, v_num=6u3h, train_loss_step=887, train_loss_epoch=836]"
     ]
    },
    {
     "name": "stdout",
     "output_type": "stream",
     "text": [
      "\r\n",
      "Epoch 11/1000:   1%|▌                                             | 11/1000 [00:50<1:11:28,  4.34s/it, v_num=6u3h, train_loss_step=887, train_loss_epoch=836]"
     ]
    },
    {
     "name": "stdout",
     "output_type": "stream",
     "text": [
      "\r\n",
      "Epoch 11/1000:   1%|▌                                             | 11/1000 [00:50<1:11:28,  4.34s/it, v_num=6u3h, train_loss_step=867, train_loss_epoch=835]"
     ]
    },
    {
     "name": "stdout",
     "output_type": "stream",
     "text": [
      "\r\n",
      "Epoch 12/1000:   1%|▌                                             | 11/1000 [00:50<1:11:28,  4.34s/it, v_num=6u3h, train_loss_step=867, train_loss_epoch=835]"
     ]
    },
    {
     "name": "stdout",
     "output_type": "stream",
     "text": [
      "\r\n",
      "Epoch 12/1000:   1%|▌                                             | 12/1000 [00:54<1:08:48,  4.18s/it, v_num=6u3h, train_loss_step=867, train_loss_epoch=835]"
     ]
    },
    {
     "name": "stdout",
     "output_type": "stream",
     "text": [
      "\r\n",
      "Epoch 12/1000:   1%|▌                                             | 12/1000 [00:54<1:08:48,  4.18s/it, v_num=6u3h, train_loss_step=812, train_loss_epoch=834]"
     ]
    },
    {
     "name": "stdout",
     "output_type": "stream",
     "text": [
      "\r\n",
      "Epoch 13/1000:   1%|▌                                             | 12/1000 [00:54<1:08:48,  4.18s/it, v_num=6u3h, train_loss_step=812, train_loss_epoch=834]"
     ]
    },
    {
     "name": "stdout",
     "output_type": "stream",
     "text": [
      "\r\n",
      "Epoch 13/1000:   1%|▌                                             | 13/1000 [00:57<1:06:55,  4.07s/it, v_num=6u3h, train_loss_step=812, train_loss_epoch=834]"
     ]
    },
    {
     "name": "stdout",
     "output_type": "stream",
     "text": [
      "\r\n",
      "Epoch 13/1000:   1%|▌                                             | 13/1000 [00:57<1:06:55,  4.07s/it, v_num=6u3h, train_loss_step=844, train_loss_epoch=833]"
     ]
    },
    {
     "name": "stdout",
     "output_type": "stream",
     "text": [
      "\r\n",
      "Epoch 14/1000:   1%|▌                                             | 13/1000 [00:57<1:06:55,  4.07s/it, v_num=6u3h, train_loss_step=844, train_loss_epoch=833]"
     ]
    },
    {
     "name": "stdout",
     "output_type": "stream",
     "text": [
      "\r\n",
      "Epoch 14/1000:   1%|▋                                             | 14/1000 [01:01<1:05:51,  4.01s/it, v_num=6u3h, train_loss_step=844, train_loss_epoch=833]"
     ]
    },
    {
     "name": "stdout",
     "output_type": "stream",
     "text": [
      "\r\n",
      "Epoch 14/1000:   1%|▋                                             | 14/1000 [01:01<1:05:51,  4.01s/it, v_num=6u3h, train_loss_step=814, train_loss_epoch=832]"
     ]
    },
    {
     "name": "stdout",
     "output_type": "stream",
     "text": [
      "\r\n",
      "Epoch 15/1000:   1%|▋                                             | 14/1000 [01:01<1:05:51,  4.01s/it, v_num=6u3h, train_loss_step=814, train_loss_epoch=832]"
     ]
    },
    {
     "name": "stdout",
     "output_type": "stream",
     "text": [
      "\r\n",
      "Epoch 15/1000:   2%|▋                                             | 15/1000 [01:08<1:17:14,  4.71s/it, v_num=6u3h, train_loss_step=814, train_loss_epoch=832]"
     ]
    },
    {
     "name": "stdout",
     "output_type": "stream",
     "text": [
      "\r\n",
      "Epoch 15/1000:   2%|▋                                             | 15/1000 [01:08<1:17:14,  4.71s/it, v_num=6u3h, train_loss_step=872, train_loss_epoch=831]"
     ]
    },
    {
     "name": "stdout",
     "output_type": "stream",
     "text": [
      "\r\n",
      "Epoch 16/1000:   2%|▋                                             | 15/1000 [01:08<1:17:14,  4.71s/it, v_num=6u3h, train_loss_step=872, train_loss_epoch=831]"
     ]
    },
    {
     "name": "stdout",
     "output_type": "stream",
     "text": [
      "\r\n",
      "Epoch 16/1000:   2%|▋                                             | 16/1000 [01:14<1:25:46,  5.23s/it, v_num=6u3h, train_loss_step=872, train_loss_epoch=831]"
     ]
    },
    {
     "name": "stdout",
     "output_type": "stream",
     "text": [
      "\r\n",
      "Epoch 16/1000:   2%|▋                                             | 16/1000 [01:14<1:25:46,  5.23s/it, v_num=6u3h, train_loss_step=881, train_loss_epoch=831]"
     ]
    },
    {
     "name": "stdout",
     "output_type": "stream",
     "text": [
      "\r\n",
      "Epoch 17/1000:   2%|▋                                             | 16/1000 [01:14<1:25:46,  5.23s/it, v_num=6u3h, train_loss_step=881, train_loss_epoch=831]"
     ]
    },
    {
     "name": "stdout",
     "output_type": "stream",
     "text": [
      "\r\n",
      "Epoch 17/1000:   2%|▊                                             | 17/1000 [01:20<1:31:08,  5.56s/it, v_num=6u3h, train_loss_step=881, train_loss_epoch=831]"
     ]
    },
    {
     "name": "stdout",
     "output_type": "stream",
     "text": [
      "\r\n",
      "Epoch 17/1000:   2%|▊                                             | 17/1000 [01:20<1:31:08,  5.56s/it, v_num=6u3h, train_loss_step=876, train_loss_epoch=830]"
     ]
    },
    {
     "name": "stdout",
     "output_type": "stream",
     "text": [
      "\r\n",
      "Epoch 18/1000:   2%|▊                                             | 17/1000 [01:20<1:31:08,  5.56s/it, v_num=6u3h, train_loss_step=876, train_loss_epoch=830]"
     ]
    },
    {
     "name": "stdout",
     "output_type": "stream",
     "text": [
      "\r\n",
      "Epoch 18/1000:   2%|▊                                             | 18/1000 [01:27<1:34:56,  5.80s/it, v_num=6u3h, train_loss_step=876, train_loss_epoch=830]"
     ]
    },
    {
     "name": "stdout",
     "output_type": "stream",
     "text": [
      "\r\n",
      "Epoch 18/1000:   2%|▊                                             | 18/1000 [01:27<1:34:56,  5.80s/it, v_num=6u3h, train_loss_step=839, train_loss_epoch=830]"
     ]
    },
    {
     "name": "stdout",
     "output_type": "stream",
     "text": [
      "\r\n",
      "Epoch 19/1000:   2%|▊                                             | 18/1000 [01:27<1:34:56,  5.80s/it, v_num=6u3h, train_loss_step=839, train_loss_epoch=830]"
     ]
    },
    {
     "name": "stdout",
     "output_type": "stream",
     "text": [
      "\r\n",
      "Epoch 19/1000:   2%|▊                                             | 19/1000 [01:33<1:38:10,  6.00s/it, v_num=6u3h, train_loss_step=839, train_loss_epoch=830]"
     ]
    },
    {
     "name": "stdout",
     "output_type": "stream",
     "text": [
      "\r\n",
      "Epoch 19/1000:   2%|▊                                             | 19/1000 [01:33<1:38:10,  6.00s/it, v_num=6u3h, train_loss_step=826, train_loss_epoch=829]"
     ]
    },
    {
     "name": "stdout",
     "output_type": "stream",
     "text": [
      "\r\n",
      "Epoch 20/1000:   2%|▊                                             | 19/1000 [01:33<1:38:10,  6.00s/it, v_num=6u3h, train_loss_step=826, train_loss_epoch=829]"
     ]
    },
    {
     "name": "stdout",
     "output_type": "stream",
     "text": [
      "\r\n",
      "Epoch 20/1000:   2%|▉                                             | 20/1000 [01:40<1:39:37,  6.10s/it, v_num=6u3h, train_loss_step=826, train_loss_epoch=829]"
     ]
    },
    {
     "name": "stdout",
     "output_type": "stream",
     "text": [
      "\r\n",
      "Epoch 20/1000:   2%|▉                                             | 20/1000 [01:40<1:39:37,  6.10s/it, v_num=6u3h, train_loss_step=829, train_loss_epoch=829]"
     ]
    },
    {
     "name": "stdout",
     "output_type": "stream",
     "text": [
      "\r\n",
      "Epoch 21/1000:   2%|▉                                             | 20/1000 [01:40<1:39:37,  6.10s/it, v_num=6u3h, train_loss_step=829, train_loss_epoch=829]"
     ]
    },
    {
     "name": "stdout",
     "output_type": "stream",
     "text": [
      "\r\n",
      "Epoch 21/1000:   2%|▉                                             | 21/1000 [01:43<1:28:29,  5.42s/it, v_num=6u3h, train_loss_step=829, train_loss_epoch=829]"
     ]
    },
    {
     "name": "stdout",
     "output_type": "stream",
     "text": [
      "\r\n",
      "Epoch 21/1000:   2%|▉                                             | 21/1000 [01:43<1:28:29,  5.42s/it, v_num=6u3h, train_loss_step=886, train_loss_epoch=828]"
     ]
    },
    {
     "name": "stdout",
     "output_type": "stream",
     "text": [
      "\r\n",
      "Epoch 22/1000:   2%|▉                                             | 21/1000 [01:43<1:28:29,  5.42s/it, v_num=6u3h, train_loss_step=886, train_loss_epoch=828]"
     ]
    },
    {
     "name": "stdout",
     "output_type": "stream",
     "text": [
      "\r\n",
      "Epoch 22/1000:   2%|█                                             | 22/1000 [01:48<1:26:27,  5.30s/it, v_num=6u3h, train_loss_step=886, train_loss_epoch=828]"
     ]
    },
    {
     "name": "stdout",
     "output_type": "stream",
     "text": [
      "\r\n",
      "Epoch 22/1000:   2%|█                                             | 22/1000 [01:48<1:26:27,  5.30s/it, v_num=6u3h, train_loss_step=803, train_loss_epoch=828]"
     ]
    },
    {
     "name": "stdout",
     "output_type": "stream",
     "text": [
      "\r\n",
      "Epoch 23/1000:   2%|█                                             | 22/1000 [01:48<1:26:27,  5.30s/it, v_num=6u3h, train_loss_step=803, train_loss_epoch=828]"
     ]
    },
    {
     "name": "stdout",
     "output_type": "stream",
     "text": [
      "\r\n",
      "Epoch 23/1000:   2%|█                                             | 23/1000 [01:52<1:19:14,  4.87s/it, v_num=6u3h, train_loss_step=803, train_loss_epoch=828]"
     ]
    },
    {
     "name": "stdout",
     "output_type": "stream",
     "text": [
      "\r\n",
      "Epoch 23/1000:   2%|█                                             | 23/1000 [01:52<1:19:14,  4.87s/it, v_num=6u3h, train_loss_step=819, train_loss_epoch=828]"
     ]
    },
    {
     "name": "stdout",
     "output_type": "stream",
     "text": [
      "\r\n",
      "Epoch 24/1000:   2%|█                                             | 23/1000 [01:52<1:19:14,  4.87s/it, v_num=6u3h, train_loss_step=819, train_loss_epoch=828]"
     ]
    },
    {
     "name": "stdout",
     "output_type": "stream",
     "text": [
      "\r\n",
      "Epoch 24/1000:   2%|█                                             | 24/1000 [01:56<1:14:08,  4.56s/it, v_num=6u3h, train_loss_step=819, train_loss_epoch=828]"
     ]
    },
    {
     "name": "stdout",
     "output_type": "stream",
     "text": [
      "\r\n",
      "Epoch 24/1000:   2%|█                                             | 24/1000 [01:56<1:14:08,  4.56s/it, v_num=6u3h, train_loss_step=779, train_loss_epoch=827]"
     ]
    },
    {
     "name": "stdout",
     "output_type": "stream",
     "text": [
      "\r\n",
      "Epoch 24/1000:   2%|█                                             | 24/1000 [01:56<1:19:03,  4.86s/it, v_num=6u3h, train_loss_step=779, train_loss_epoch=827]"
     ]
    },
    {
     "name": "stdout",
     "output_type": "stream",
     "text": [
      "\n",
      "Monitored metric reconstruction_loss_validation did not improve in the last 10 records. Best score: 834.946. Signaling Trainer to stop.\n"
     ]
    }
   ],
   "source": [
    "model.train(logger=logger, plan_kwargs = plan_kwargs, **trainer_kwargs)"
   ]
  },
  {
   "cell_type": "code",
   "execution_count": 15,
   "id": "c282f6eb-0ad1-40a5-81e6-1acda1545dad",
   "metadata": {
    "execution": {
     "iopub.execute_input": "2024-10-17T14:41:01.237204Z",
     "iopub.status.busy": "2024-10-17T14:41:01.236544Z",
     "iopub.status.idle": "2024-10-17T14:41:05.887078Z",
     "shell.execute_reply": "2024-10-17T14:41:05.885632Z"
    },
    "papermill": {
     "duration": 4.697361,
     "end_time": "2024-10-17T14:41:05.890703",
     "exception": false,
     "start_time": "2024-10-17T14:41:01.193342",
     "status": "completed"
    },
    "tags": []
   },
   "outputs": [
    {
     "name": "stderr",
     "output_type": "stream",
     "text": [
      "\u001b[34m\u001b[1mwandb\u001b[0m: - 0.005 MB of 0.005 MB uploaded\r"
     ]
    },
    {
     "name": "stderr",
     "output_type": "stream",
     "text": [
      "\u001b[34m\u001b[1mwandb\u001b[0m: \\ 0.005 MB of 0.025 MB uploaded\r"
     ]
    },
    {
     "name": "stderr",
     "output_type": "stream",
     "text": [
      "\u001b[34m\u001b[1mwandb\u001b[0m: | 0.005 MB of 0.025 MB uploaded\r"
     ]
    },
    {
     "name": "stderr",
     "output_type": "stream",
     "text": [
      "\u001b[34m\u001b[1mwandb\u001b[0m: / 0.025 MB of 0.025 MB uploaded\r"
     ]
    },
    {
     "name": "stderr",
     "output_type": "stream",
     "text": [
      "\u001b[34m\u001b[1mwandb\u001b[0m:                                                                                \n"
     ]
    },
    {
     "name": "stderr",
     "output_type": "stream",
     "text": [
      "\u001b[34m\u001b[1mwandb\u001b[0m: \n",
      "\u001b[34m\u001b[1mwandb\u001b[0m: Run history:\n",
      "\u001b[34m\u001b[1mwandb\u001b[0m:                     elbo_train █▇▆▅▄▄▃▃▃▂▂▂▂▂▂▂▂▁▁▁▁▁▁▁\n",
      "\u001b[34m\u001b[1mwandb\u001b[0m:                elbo_validation █▆▅▄▃▂▂▂▂▂▂▁▁▁▁▁▁▁▁▁▁▁▁▁\n",
      "\u001b[34m\u001b[1mwandb\u001b[0m:                          epoch ▁▁▁▁▂▂▂▂▂▃▃▃▃▃▃▄▄▄▄▄▅▅▅▅▅▆▆▆▆▆▆▆▇▇▇▇████\n",
      "\u001b[34m\u001b[1mwandb\u001b[0m:                kl_global_train ▁▁▁▁▁▁▁▁▁▁▁▁▁▁▁▁▁▁▁▁▁▁▁▁\n",
      "\u001b[34m\u001b[1mwandb\u001b[0m:           kl_global_validation ▁▁▁▁▁▁▁▁▁▁▁▁▁▁▁▁▁▁▁▁▁▁▁▁\n",
      "\u001b[34m\u001b[1mwandb\u001b[0m:                 kl_local_train ▃█▇▅▄▄▃▃▃▂▂▂▂▂▂▂▂▁▁▁▁▁▁▁\n",
      "\u001b[34m\u001b[1mwandb\u001b[0m:            kl_local_validation █▇▅▄▃▃▃▃▂▂▂▂▂▂▂▂▂▁▁▁▁▁▁▁\n",
      "\u001b[34m\u001b[1mwandb\u001b[0m:                      kl_weight ▁▁▁▁▂▂▂▂▂▃▃▃▃▃▃▄▄▄▄▄▅▅▅▅▅▆▆▆▆▆▆▇▇▇▇▇▇███\n",
      "\u001b[34m\u001b[1mwandb\u001b[0m:      reconstruction_loss_train █▅▄▄▃▃▃▃▂▂▂▂▂▂▂▁▁▁▁▁▁▁▁▁\n",
      "\u001b[34m\u001b[1mwandb\u001b[0m: reconstruction_loss_validation █▆▅▄▃▂▂▂▁▁▁▁▁▁▁▁▁▁▁▁▁▁▁▁\n",
      "\u001b[34m\u001b[1mwandb\u001b[0m:               train_loss_epoch █▅▄▄▃▃▃▂▂▂▂▂▂▂▂▁▁▁▁▁▁▁▁▁\n",
      "\u001b[34m\u001b[1mwandb\u001b[0m:                train_loss_step ▆█▇▅▅▇▅▆▂▄▄▇▄▄▂▄▅▅▆▆▄▄▅▇▅▅▄▇▂▆▆▆▃▅▁▄▃▅▄▆\n",
      "\u001b[34m\u001b[1mwandb\u001b[0m:            trainer/global_step ▁▁▁▁▂▂▂▂▂▃▃▃▃▃▃▄▄▄▄▄▄▅▅▅▅▅▆▆▆▆▆▇▇▇▇▇▇███\n",
      "\u001b[34m\u001b[1mwandb\u001b[0m:                validation_loss █▆▄▃▃▂▂▂▁▁▁▁▁▁▁▁▁▁▁▁▁▁▂▂\n",
      "\u001b[34m\u001b[1mwandb\u001b[0m: \n",
      "\u001b[34m\u001b[1mwandb\u001b[0m: Run summary:\n",
      "\u001b[34m\u001b[1mwandb\u001b[0m:                     elbo_train 852.79071\n",
      "\u001b[34m\u001b[1mwandb\u001b[0m:                elbo_validation 862.20087\n",
      "\u001b[34m\u001b[1mwandb\u001b[0m:                          epoch 23\n",
      "\u001b[34m\u001b[1mwandb\u001b[0m:                kl_global_train 0.0\n",
      "\u001b[34m\u001b[1mwandb\u001b[0m:           kl_global_validation 0.0\n",
      "\u001b[34m\u001b[1mwandb\u001b[0m:                 kl_local_train 27.13483\n",
      "\u001b[34m\u001b[1mwandb\u001b[0m:            kl_local_validation 26.00936\n",
      "\u001b[34m\u001b[1mwandb\u001b[0m:                      kl_weight 0.0575\n",
      "\u001b[34m\u001b[1mwandb\u001b[0m:      reconstruction_loss_train 825.65588\n",
      "\u001b[34m\u001b[1mwandb\u001b[0m: reconstruction_loss_validation 836.19153\n",
      "\u001b[34m\u001b[1mwandb\u001b[0m:               train_loss_epoch 827.21521\n",
      "\u001b[34m\u001b[1mwandb\u001b[0m:                train_loss_step 874.50916\n",
      "\u001b[34m\u001b[1mwandb\u001b[0m:            trainer/global_step 11903\n",
      "\u001b[34m\u001b[1mwandb\u001b[0m:                validation_loss 837.68683\n",
      "\u001b[34m\u001b[1mwandb\u001b[0m: \n"
     ]
    },
    {
     "name": "stderr",
     "output_type": "stream",
     "text": [
      "\u001b[34m\u001b[1mwandb\u001b[0m: 🚀 View run \u001b[33mStep1_B\u001b[0m at: \u001b[34m\u001b[4mhttps://wandb.ai/inflammation/inflammation_atlas_R1/runs/uc2a6u3h/workspace\u001b[0m\n",
      "\u001b[34m\u001b[1mwandb\u001b[0m: Synced 6 W&B file(s), 0 media file(s), 0 artifact file(s) and 0 other file(s)\n"
     ]
    },
    {
     "name": "stderr",
     "output_type": "stream",
     "text": [
      "\u001b[34m\u001b[1mwandb\u001b[0m: Find logs at: \u001b[35m\u001b[1m./wandb/run-20241017_143859-uc2a6u3h/logs\u001b[0m\n"
     ]
    }
   ],
   "source": [
    "wandb.finish()"
   ]
  },
  {
   "cell_type": "markdown",
   "id": "d9fb1179-83c7-4ac6-b4aa-92dc7a349801",
   "metadata": {
    "papermill": {
     "duration": 0.012484,
     "end_time": "2024-10-17T14:41:05.925551",
     "exception": false,
     "start_time": "2024-10-17T14:41:05.913067",
     "status": "completed"
    },
    "tags": []
   },
   "source": [
    "### Extracting embedding space"
   ]
  },
  {
   "cell_type": "code",
   "execution_count": 16,
   "id": "caaa5832-0123-4c59-8ec6-f46a75f7a14e",
   "metadata": {
    "execution": {
     "iopub.execute_input": "2024-10-17T14:41:05.950033Z",
     "iopub.status.busy": "2024-10-17T14:41:05.948971Z",
     "iopub.status.idle": "2024-10-17T14:41:07.523885Z",
     "shell.execute_reply": "2024-10-17T14:41:07.522593Z"
    },
    "papermill": {
     "duration": 1.591769,
     "end_time": "2024-10-17T14:41:07.527170",
     "exception": false,
     "start_time": "2024-10-17T14:41:05.935401",
     "status": "completed"
    },
    "tags": []
   },
   "outputs": [],
   "source": [
    "adata.obsm['X_scVI'] = model.get_latent_representation()"
   ]
  },
  {
   "cell_type": "markdown",
   "id": "2f03e70b-839c-40a6-9fbb-d76bbd787419",
   "metadata": {
    "papermill": {
     "duration": 0.011509,
     "end_time": "2024-10-17T14:41:07.559906",
     "exception": false,
     "start_time": "2024-10-17T14:41:07.548397",
     "status": "completed"
    },
    "tags": []
   },
   "source": [
    "## Save the results"
   ]
  },
  {
   "cell_type": "code",
   "execution_count": 17,
   "id": "7b04049b-47fd-4b62-a1c0-c43dcc086d34",
   "metadata": {
    "execution": {
     "iopub.execute_input": "2024-10-17T14:41:07.577482Z",
     "iopub.status.busy": "2024-10-17T14:41:07.577097Z",
     "iopub.status.idle": "2024-10-17T14:41:14.325410Z",
     "shell.execute_reply": "2024-10-17T14:41:14.323856Z"
    },
    "papermill": {
     "duration": 6.761787,
     "end_time": "2024-10-17T14:41:14.329335",
     "exception": false,
     "start_time": "2024-10-17T14:41:07.567548",
     "status": "completed"
    },
    "tags": []
   },
   "outputs": [],
   "source": [
    "if overwriteData:\n",
    "    adata.write(here(f\"{workDir}/{cellGroup}/results/02_{annotationLevel}_{cellGroup}_HVGsubset_scVI.h5ad\"), compression=\"gzip\")\n",
    "    model.save(here(f\"{workDir}/{cellGroup}/results/02_{annotationLevel}_{cellGroup}_HVGsubset_scVI_MODEL/\"),\n",
    "               overwrite = True, \n",
    "               save_anndata = False )   "
   ]
  },
  {
   "cell_type": "code",
   "execution_count": 18,
   "id": "629ba2bd-f6be-44ef-8fca-bbdf891bf25f",
   "metadata": {
    "execution": {
     "iopub.execute_input": "2024-10-17T14:41:14.375446Z",
     "iopub.status.busy": "2024-10-17T14:41:14.374895Z",
     "iopub.status.idle": "2024-10-17T14:41:14.380797Z",
     "shell.execute_reply": "2024-10-17T14:41:14.379648Z"
    },
    "papermill": {
     "duration": 0.03375,
     "end_time": "2024-10-17T14:41:14.384142",
     "exception": false,
     "start_time": "2024-10-17T14:41:14.350392",
     "status": "completed"
    },
    "tags": []
   },
   "outputs": [],
   "source": [
    "# To load the model do (after loading corresponding adata):\n",
    "# model = scvi.model.SCVI.load(here('{}/results/01_{}_HVGsubset_scVI_MODEL/'.format(workDir, cellGroup)), \n",
    "#                              adata, \n",
    "#                              use_gpu=True)"
   ]
  },
  {
   "cell_type": "raw",
   "id": "975e84d0-f56b-498d-b3a8-c9219cf22e53",
   "metadata": {
    "papermill": {
     "duration": 0.049498,
     "end_time": "2024-10-17T14:41:14.470215",
     "exception": false,
     "start_time": "2024-10-17T14:41:14.420717",
     "status": "completed"
    },
    "tags": []
   },
   "source": [
    "session_info.show()"
   ]
  }
 ],
 "metadata": {
  "kernelspec": {
   "display_name": "Python 3 (ipykernel)",
   "language": "python",
   "name": "python3"
  },
  "language_info": {
   "codemirror_mode": {
    "name": "ipython",
    "version": 3
   },
   "file_extension": ".py",
   "mimetype": "text/x-python",
   "name": "python",
   "nbconvert_exporter": "python",
   "pygments_lexer": "ipython3",
   "version": "3.10.13"
  },
  "papermill": {
   "default_parameters": {},
   "duration": 148.143912,
   "end_time": "2024-10-17T14:41:16.615602",
   "environment_variables": {},
   "exception": null,
   "input_path": "./B/02_integration_scVI_scANVI.ipynb",
   "output_path": "./B/02_integration_scVI_scANVI.executed.ipynb",
   "parameters": {},
   "start_time": "2024-10-17T14:38:48.471690",
   "version": "2.5.0"
  }
 },
 "nbformat": 4,
 "nbformat_minor": 5
}
