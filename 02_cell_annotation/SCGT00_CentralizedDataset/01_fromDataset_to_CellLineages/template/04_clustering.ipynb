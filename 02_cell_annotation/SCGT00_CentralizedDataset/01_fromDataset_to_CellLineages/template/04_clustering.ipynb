{
 "cells": [
  {
   "cell_type": "code",
   "execution_count": 1,
   "id": "73772de2-54a6-4b52-90f3-086cb05e5aff",
   "metadata": {
    "execution": {
     "iopub.execute_input": "2024-10-17T10:39:42.333775Z",
     "iopub.status.busy": "2024-10-17T10:39:42.333400Z",
     "iopub.status.idle": "2024-10-17T10:39:45.936654Z",
     "shell.execute_reply": "2024-10-17T10:39:45.936216Z",
     "shell.execute_reply.started": "2024-10-17T10:39:42.333754Z"
    }
   },
   "outputs": [
    {
     "name": "stdout",
     "output_type": "stream",
     "text": [
      "Main directory path: /scratch_isilon/groups/singlecell/shared/projects/Inflammation-PBMCs-Atlas\n"
     ]
    }
   ],
   "source": [
    "import sys\n",
    "import os\n",
    "\n",
    "import numpy as np\n",
    "import matplotlib.pyplot as plt\n",
    "import glob\n",
    "import pandas as pd\n",
    "import seaborn as sns\n",
    "\n",
    "import scanpy as sc\n",
    "import scanpy.external as sce\n",
    "import anndata as ad\n",
    "\n",
    "import session_info\n",
    "import warnings\n",
    "from pyprojroot.here import here\n",
    "\n",
    "import scienceplots\n",
    "from sklearn.neighbors import NearestNeighbors\n",
    "from typing import Iterable\n",
    "import pickle\n",
    "from matplotlib.backends.backend_pdf import PdfPages\n",
    "\n",
    "\n",
    "# Setting some parameters\n",
    "warnings.filterwarnings(\"ignore\")\n",
    "sys.path.insert(1, str(here('bin')))\n",
    "\n",
    "# Import custom functions\n",
    "from customPythonFunctions import *\n",
    "\n",
    "print(\"Main directory path: {}\".format(here()))\n",
    "\n",
    "plt.style.use(['nature'])\n",
    "dpi_fig_save = 300\n",
    "sc.set_figure_params(dpi=100, dpi_save=dpi_fig_save, vector_friendly=True)"
   ]
  },
  {
   "cell_type": "markdown",
   "id": "5d9263d4-3aa7-4d23-9a3b-67bb3e6562b9",
   "metadata": {},
   "source": [
    "**Setting parameters** "
   ]
  },
  {
   "cell_type": "code",
   "execution_count": null,
   "id": "becaf7de-9e3a-4678-8ef4-1b55e256f2a6",
   "metadata": {},
   "outputs": [],
   "source": [
    "overwriteFigures = True\n",
    "overwriteData = True"
   ]
  },
  {
   "cell_type": "code",
   "execution_count": null,
   "id": "e86c97d1-de28-4037-a3e1-34f730aadbf8",
   "metadata": {},
   "outputs": [],
   "source": [
    "cellGroup = 'template'\n",
    "workDir = os.getcwd()"
   ]
  },
  {
   "cell_type": "markdown",
   "id": "8e476925-66e4-4d90-89c7-9e93430c156a",
   "metadata": {},
   "source": [
    "**Load data**"
   ]
  },
  {
   "cell_type": "code",
   "execution_count": null,
   "id": "2614c71a-05b3-401c-a6ef-a3df94e56e34",
   "metadata": {},
   "outputs": [],
   "source": [
    "# Load the scvi h5ad file\n",
    "adata = sc.read_h5ad(here(\"{}/results/03_{}_scVI_UMAP_clinical_allGenes.h5ad\".format(workDir, cellGroup)))\n",
    "adata.uns['log1p'] = dict()\n",
    "adata.uns['log1p']['base'] = None # only if logscale is computed\n",
    "adata"
   ]
  },
  {
   "cell_type": "markdown",
   "id": "8ab85938-4fb4-43bd-a31a-0bc1a468b88f",
   "metadata": {},
   "source": [
    "**Loading gene dictionary**"
   ]
  },
  {
   "cell_type": "code",
   "execution_count": 2,
   "id": "86f250b8-63ce-4025-8f92-423d4e946079",
   "metadata": {
    "execution": {
     "iopub.execute_input": "2024-10-17T10:39:46.016071Z",
     "iopub.status.busy": "2024-10-17T10:39:46.015698Z",
     "iopub.status.idle": "2024-10-17T10:39:46.019987Z",
     "shell.execute_reply": "2024-10-17T10:39:46.019637Z",
     "shell.execute_reply.started": "2024-10-17T10:39:46.016051Z"
    }
   },
   "outputs": [],
   "source": [
    "with open(here('external_reference_data/markerGenes_dictionary.pkl'), 'rb') as f:\n",
    "    marker_genes_dict = pickle.load(f)"
   ]
  },
  {
   "cell_type": "code",
   "execution_count": null,
   "id": "899f73c0-8b29-4245-98cf-b821fed32f3c",
   "metadata": {},
   "outputs": [],
   "source": [
    "canonical_marker_gene_list = [g for g in marker_genes_dict['lineages'].values() for g in g if g in adata.var.symbol.values]\n",
    "\n",
    "if cellGroup in marker_genes_dict:\n",
    "    lineage_marker_gene_list = set([g for g in marker_genes_dict[cellGroup].values() for g in g if g in adata.var.symbol.values])\n",
    "else: \n",
    "    lineage_marker_gene_list = None"
   ]
  },
  {
   "cell_type": "markdown",
   "id": "d72e2277-f00b-4b0f-b711-456c522f81d7",
   "metadata": {},
   "source": [
    "**Plotting parameters** "
   ]
  },
  {
   "cell_type": "code",
   "execution_count": null,
   "id": "59ad6016-6866-48c6-b434-2fd21139e18f",
   "metadata": {},
   "outputs": [],
   "source": [
    "max_cells_plot = 200000\n",
    "fraction = min(1, (max_cells_plot/adata.shape[0]))"
   ]
  },
  {
   "cell_type": "markdown",
   "id": "e3c9286b-e126-4313-a971-b4bfd6199fe4",
   "metadata": {},
   "source": [
    "# Clustering\n",
    "\n",
    "First, we cluster the cells from the integrated dataset using the Leiden algorithm; this step will allow us to identify cellular structure in the dataset based on the cells' transcriptomic profile. \n",
    "In our case, we will try different low resolution parmeters to control the coarseness of the clustering, and to define the major cellular lineages, which will be further explored and clustered independently.\n",
    "\n",
    "Following best practices: https://www.sc-best-practices.org/cellular_structure/clustering.html\n",
    "\n",
    "Then, we can visualize and explore the different clustering results obtained at different resolutions, as well as evaluate the covariate distribution across the different clusters of interest."
   ]
  },
  {
   "cell_type": "code",
   "execution_count": null,
   "id": "dbcc1af0-92c2-4c1e-a54c-d0001b34470e",
   "metadata": {},
   "outputs": [],
   "source": [
    "# Resolutions of interest\n",
    "resolutions_to_explore = [0.1, 0.25, 0.5, 0.75, 1]\n",
    "# Co-variables of interest\n",
    "list_of_variables = [ \"batches\", \"disease\", \"binned_age\", \"sex\" ]"
   ]
  },
  {
   "cell_type": "code",
   "execution_count": null,
   "id": "9dcf611a-caf2-40c9-934f-c97069ca93cb",
   "metadata": {
    "scrolled": true
   },
   "outputs": [],
   "source": [
    "for res in resolutions_to_explore:\n",
    "    leiden_cluster = \"leiden_res_\" + str(res)\n",
    "    \n",
    "    # Clustering\n",
    "    sc.tl.leiden(adata, resolution=res, key_added=leiden_cluster, neighbors_key='scVI')\n",
    "\n",
    "    if overwriteFigures:\n",
    "        \n",
    "        # Explore clustering\n",
    "        # Subsetting and randomizing for optimal plotting\n",
    "        random_indices = balanced_sample(adata.obs, cols = leiden_cluster, frac = fraction, shuffle = True, random_state = 42).cellID\n",
    "        \n",
    "        sc.set_figure_params(figsize=(7, 5))\n",
    "        fig = sc.pl.embedding(adata[random_indices, :], basis=\"X_umap_scVI\", color=leiden_cluster, show=True, return_fig=True, size=10, legend_loc=\"on data\")\n",
    "        plt.savefig(here('{}/results/figures/UMAP_clusters_res{}.pdf'.format(workDir, res)), bbox_inches='tight', pad_inches=0, dpi=dpi_fig_save)\n",
    "\n",
    "        # Evaluate co-variables distribution across clusters\n",
    "        pdf_pages = PdfPages(here(\"{}/results/figures/Barplots_covariates_across_clusters_{}.pdf\".format(workDir, res)))\n",
    "        for variable in list_of_variables:\n",
    "            sc.set_figure_params(figsize=(10, 5))\n",
    "            composition_barplot(adata, xattr=leiden_cluster, yattr=variable, title=\"Distribution of {}\".format(variable), save_pdf=pdf_pages)\n",
    "        pdf_pages.close()"
   ]
  },
  {
   "cell_type": "code",
   "execution_count": null,
   "id": "119a06d2-d075-4464-b1b5-27cd1bb36bed",
   "metadata": {},
   "outputs": [],
   "source": [
    "adata"
   ]
  },
  {
   "cell_type": "markdown",
   "id": "16c8be23-6756-4321-8265-bd5684b91e03",
   "metadata": {},
   "source": [
    "## Save clustered object"
   ]
  },
  {
   "cell_type": "code",
   "execution_count": null,
   "id": "0e49b141-30c1-469b-aad8-76cdeb9173c9",
   "metadata": {},
   "outputs": [],
   "source": [
    "if overwriteData:\n",
    "    clusterDF = adata.obs[['leiden_res_{}'.format(r) for r in resolutions_to_explore]]\n",
    "    # Save clustering as DF\n",
    "    clusterDF.to_pickle(path=here('{}/results/SCGT00_clustering_resolutions_to_explore.pkl'.format(workDir)))"
   ]
  },
  {
   "cell_type": "markdown",
   "id": "e9dcb628-63f8-4ca1-a401-1b5c0307e6ec",
   "metadata": {},
   "source": [
    "# Known marker genes visualization"
   ]
  },
  {
   "cell_type": "markdown",
   "id": "741a6851-8c4e-4f5c-a6a9-c3a244280dbd",
   "metadata": {},
   "source": [
    "## Explore canonical marker genes"
   ]
  },
  {
   "cell_type": "code",
   "execution_count": null,
   "id": "0940f1b8-86f5-4953-9dca-d11a57d81c54",
   "metadata": {
    "scrolled": true
   },
   "outputs": [],
   "source": [
    "# Subsetting and randomizing for optimal plotting\n",
    "random_indices = balanced_sample(adata.obs, cols = [\"sampleID\"], frac = fraction, shuffle = True, random_state = 42).cellID\n",
    "ID2SymbolDF = generateID2SymbolDF(varDF = adata[random_indices, :].var, symbolList = canonical_marker_gene_list, ID_col = 'index', symbols_col = 'symbol', HUGOstatus_col = 'HUGO_status', behaviour = 'all')\n",
    "\n",
    "# FeaturePlot\n",
    "sc.set_figure_params(figsize=(4, 4))\n",
    "fig = sc.pl.embedding(basis = 'X_umap_scVI', \n",
    "                adata = adata[random_indices, :], \n",
    "                color=ID2SymbolDF[\"gene_id\"], title= ID2SymbolDF[\"symbol\"], s=10, \n",
    "                frameon=False, ncols=6,\n",
    "                use_raw=False, \n",
    "                show=False, return_fig=False)\n",
    "\n",
    "if overwriteFigures:\n",
    "    plt.savefig(here('{}/results/figures/UMAP_CanonicalMarkers.pdf'.format(workDir)), bbox_inches='tight', pad_inches=0, dpi=dpi_fig_save)"
   ]
  },
  {
   "cell_type": "code",
   "execution_count": null,
   "id": "a77402aa-e33a-4d98-85a4-dd1ee797ebd1",
   "metadata": {},
   "outputs": [],
   "source": [
    "for res in resolutions_to_explore:\n",
    "    leiden_cluster = \"leiden_res_\" + str(res)\n",
    "    \n",
    "    # Subsetting and randomizing for optimal plotting\n",
    "    random_indices = balanced_sample(adata.obs, cols = leiden_cluster, frac = fraction, shuffle = True, random_state = 42).cellID\n",
    "    ID2SymbolDF = generateID2SymbolDF(varDF = adata[random_indices, :].var, symbolList = canonical_marker_gene_list, \n",
    "                                      ID_col = 'index', symbols_col = 'symbol', HUGOstatus_col = 'HUGO_status', behaviour = 'all')\n",
    "    \n",
    "    # Dotplot\n",
    "    sc.set_figure_params(figsize=(15, 7))\n",
    "    fig = sc.pl.dotplot(adata[random_indices, :],\n",
    "                        var_names = ID2SymbolDF[\"gene_id\"],\n",
    "                        groupby=leiden_cluster, standard_scale='var', \n",
    "                  use_raw = False, dendrogram=True, show=False, return_fig=False)\n",
    "        # replace ensembls ids by gene symbol in plot\n",
    "    _ = fig['mainplot_ax'].set_xticklabels(ID2SymbolDF[\"symbol\"])\n",
    "    \n",
    "    if overwriteFigures:\n",
    "        plt.savefig(here('{}/results/figures/Dotplot_CanonicalMarkers_res{}.pdf'.format(workDir, res)), bbox_inches='tight', pad_inches=0, dpi=dpi_fig_save)"
   ]
  },
  {
   "cell_type": "markdown",
   "id": "d5fcf177-1c5c-482f-bb6b-a03147bf74b0",
   "metadata": {},
   "source": [
    "## Explore LINEAGE-specific canonical marker genes"
   ]
  },
  {
   "cell_type": "raw",
   "id": "177e7fad-5145-4cf9-a7ff-ac9ac7c986db",
   "metadata": {},
   "source": [
    "if cellGroup in marker_genes_dict:\n",
    "    lineage_marker_genes=marker_genes_dict[cellGroup]\n",
    "    random_indices = balanced_sample(adata.obs, cols = [\"sampleID\"], frac = fraction, shuffle = True, random_state = 42).cellID\n",
    "    ID2SymbolDF = generateID2SymbolDF(varDF = adata[random_indices, :].var, symbolList = lineage_marker_gene_list, ID_col = 'index', symbols_col = 'symbol', HUGOstatus_col = 'HUGO_status', behaviour = 'all')\n",
    "\n",
    "    \n",
    "    if len([k for k in lineage_marker_genes.keys()]) > 1:\n",
    "        plot_UMAPs_lineages(marker_genes=marker_genes_dict[cellGroup], \n",
    "                            path_figure = here(\"{}/results/figures/UMAP_SublineageMarkers.pdf\".format(workDir)),\n",
    "                            saveFig = overwriteFigures,\n",
    "                            dpi_fig_save=dpi_fig_save)\n",
    "    else:\n",
    "        sc.set_figure_params(figsize=(7, 5))\n",
    "        list_mg = [g for g in lineage_marker_genes.values() for g in g if g in adata.var_names]\n",
    "        fig = sc.pl.embedding(adata, \n",
    "                              basis=\"X_umap_scVI\", \n",
    "                              color=ID2SymbolDF[\"gene_id\"], title= ID2SymbolDF[\"symbol\"], s=10, \n",
    "                              show=True, \n",
    "                              return_fig=True, \n",
    "                              size=30, \n",
    "                              legend_loc=\"on data\", \n",
    "                              use_raw=False)\n",
    "\n",
    "        if overwriteFigures:\n",
    "            plt.savefig(here('{}/results/figures/UMAP_SublineageMarkers.pdf'.format(workDir)), bbox_inches='tight', pad_inches=0, dpi=dpi_fig_save)    \n"
   ]
  },
  {
   "cell_type": "code",
   "execution_count": null,
   "id": "aa926107-fbbc-4234-8596-a8264ab8951e",
   "metadata": {},
   "outputs": [],
   "source": [
    "if lineage_marker_gene_list:\n",
    "    random_indices = balanced_sample(adata.obs, cols = [\"sampleID\"], frac = fraction, shuffle = True, random_state = 42).cellID\n",
    "    ID2SymbolDF = generateID2SymbolDF(varDF = adata.var, symbolList = lineage_marker_gene_list, ID_col = 'index', symbols_col = 'symbol', HUGOstatus_col = 'HUGO_status', behaviour = 'all')\n",
    "\n",
    "    sc.set_figure_params(figsize=(7, 5))\n",
    "    fig = sc.pl.embedding(adata = adata[random_indices, :], \n",
    "                          basis=\"X_umap_scVI\", \n",
    "                          color=ID2SymbolDF[\"gene_id\"], title= ID2SymbolDF[\"symbol\"], s=10, \n",
    "                          show=True, \n",
    "                          return_fig=True, \n",
    "                          size=30, \n",
    "                          legend_loc=\"on data\", \n",
    "                          use_raw=False)\n",
    "\n",
    "    if overwriteFigures:\n",
    "        plt.savefig(here('{}/results/figures/UMAP_SublineageMarkers.pdf'.format(workDir)), bbox_inches='tight', pad_inches=0, dpi=dpi_fig_save)   "
   ]
  },
  {
   "cell_type": "code",
   "execution_count": null,
   "id": "677cc071-bff8-4b54-a96c-a317fd294478",
   "metadata": {},
   "outputs": [],
   "source": [
    "if lineage_marker_gene_list:\n",
    "    for res in resolutions_to_explore:\n",
    "        leiden_cluster = \"leiden_res_\" + str(res)\n",
    "        \n",
    "        # Subsetting and randomizing for optimal plotting\n",
    "        random_indices = balanced_sample(adata.obs, cols = leiden_cluster, frac = fraction, shuffle = True, random_state = 42).cellID\n",
    "        ID2SymbolDF = generateID2SymbolDF(varDF = adata[random_indices, :].var, symbolList = lineage_marker_gene_list, \n",
    "                                          ID_col = 'index', symbols_col = 'symbol', HUGOstatus_col = 'HUGO_status', behaviour = 'all')\n",
    "        \n",
    "        # Dotplot\n",
    "        sc.set_figure_params(figsize=(15, 7))\n",
    "        fig = sc.pl.dotplot(adata[random_indices, :],\n",
    "                            var_names = ID2SymbolDF[\"gene_id\"],\n",
    "                            groupby=leiden_cluster, standard_scale='var', \n",
    "                      use_raw = False, dendrogram=True, show=False, return_fig=False)\n",
    "            # replace ensembls ids by gene symbol in plot\n",
    "        _ = fig['mainplot_ax'].set_xticklabels(ID2SymbolDF[\"symbol\"])\n",
    "        \n",
    "        if overwriteFigures:\n",
    "            plt.savefig(here('{}/results/figures/Dotplot_SublineageMarkers_res{}.pdf'.format(workDir, res)), bbox_inches='tight', pad_inches=0, dpi=dpi_fig_save)"
   ]
  },
  {
   "cell_type": "code",
   "execution_count": null,
   "id": "a5ff7d3b-2d6f-4af6-bd47-9205545455f0",
   "metadata": {},
   "outputs": [],
   "source": [
    "session_info.show()"
   ]
  }
 ],
 "metadata": {
  "kernelspec": {
   "display_name": "Python 3 (ipykernel)",
   "language": "python",
   "name": "python3"
  },
  "language_info": {
   "codemirror_mode": {
    "name": "ipython",
    "version": 3
   },
   "file_extension": ".py",
   "mimetype": "text/x-python",
   "name": "python",
   "nbconvert_exporter": "python",
   "pygments_lexer": "ipython3",
   "version": "3.10.13"
  }
 },
 "nbformat": 4,
 "nbformat_minor": 5
}
