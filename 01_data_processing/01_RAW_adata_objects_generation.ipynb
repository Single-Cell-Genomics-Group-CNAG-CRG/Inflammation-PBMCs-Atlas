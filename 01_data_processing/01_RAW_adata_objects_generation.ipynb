{
 "cells": [
  {
   "cell_type": "code",
   "execution_count": 1,
   "id": "2fa729cb-588d-4f3b-878f-4cc784dbd863",
   "metadata": {
    "execution": {
     "iopub.execute_input": "2024-10-15T09:02:15.610573Z",
     "iopub.status.busy": "2024-10-15T09:02:15.610105Z",
     "iopub.status.idle": "2024-10-15T09:03:43.522217Z",
     "shell.execute_reply": "2024-10-15T09:03:43.521633Z",
     "shell.execute_reply.started": "2024-10-15T09:02:15.610552Z"
    },
    "papermill": {
     "duration": 3.046382,
     "end_time": "2024-04-26T14:46:37.379176",
     "exception": false,
     "start_time": "2024-04-26T14:46:34.332794",
     "status": "completed"
    },
    "tags": []
   },
   "outputs": [],
   "source": [
    "# General modules\n",
    "import sys\n",
    "import os\n",
    "import session_info\n",
    "import warnings\n",
    "from pyprojroot.here import here\n",
    "import glob\n",
    "import pandas as pd\n",
    "import numpy as np\n",
    "from sklearn.mixture import GaussianMixture\n",
    "\n",
    "import matplotlib.pyplot as plt\n",
    "from IPython.display import display\n",
    "\n",
    "from tqdm import tqdm\n",
    "# Specific modules\n",
    "import scanpy as sc\n",
    "import anndata as ad\n",
    "import scienceplots\n",
    "\n",
    "# Setting some parameters\n",
    "warnings.filterwarnings(\"ignore\")\n",
    "sys.path.insert(1, str(here('bin')))\n",
    "\n",
    "plt.style.use(['science','nature','no-latex'])\n",
    "dpi_fig_save = 300\n",
    "sc.set_figure_params(dpi=100, dpi_save=dpi_fig_save, vector_friendly=True)\n",
    "\n",
    "\n",
    "# Specific modules\n",
    "import mygene\n",
    "import requests\n",
    "import re\n",
    "\n",
    "sys.path.insert(1, str(here('bin')))\n",
    "\n",
    "# Setting some parameters\n",
    "warnings.filterwarnings(\"ignore\")\n",
    "\n",
    "# Import functions\n",
    "from customPythonFunctions import balanced_sample\n",
    "from customPalette import diseaseCategories\n",
    "\n",
    "pd.options.display.max_columns=300\n",
    "pd.options.display.max_rows=1000\n",
    "\n",
    "overwriteFigure = True"
   ]
  },
  {
   "cell_type": "code",
   "execution_count": 2,
   "id": "01ac1dbc-f4be-4725-9532-e5b64e44c999",
   "metadata": {
    "execution": {
     "iopub.execute_input": "2024-10-15T09:03:43.523808Z",
     "iopub.status.busy": "2024-10-15T09:03:43.523265Z",
     "iopub.status.idle": "2024-10-15T09:03:43.529330Z",
     "shell.execute_reply": "2024-10-15T09:03:43.528907Z",
     "shell.execute_reply.started": "2024-10-15T09:03:43.523788Z"
    },
    "papermill": {
     "duration": 0.024334,
     "end_time": "2024-04-26T14:46:37.418660",
     "exception": false,
     "start_time": "2024-04-26T14:46:37.394326",
     "status": "completed"
    },
    "tags": []
   },
   "outputs": [
    {
     "name": "stdout",
     "output_type": "stream",
     "text": [
      "Main directory path: /scratch_isilon/groups/singlecell/shared/projects/Inflammation-PBMCs-Atlas-R1\n"
     ]
    }
   ],
   "source": [
    "print(\"Main directory path: {}\".format(here()))\n",
    "\n",
    "# create result directories\n",
    "os.makedirs(here('00_data_processing/results/extended_obs'), exist_ok = True)\n",
    "os.makedirs(here('00_data_processing/results/study_metadata'), exist_ok = True)\n",
    "\n",
    "os.makedirs(here('00_data_processing/figures'), exist_ok=True)"
   ]
  },
  {
   "cell_type": "markdown",
   "id": "1ba7eb8c-7e61-46ce-83c1-0415ea0892fe",
   "metadata": {
    "papermill": {
     "duration": 0.046507,
     "end_time": "2024-04-26T14:46:37.481789",
     "exception": false,
     "start_time": "2024-04-26T14:46:37.435282",
     "status": "completed"
    },
    "tags": []
   },
   "source": [
    "# Preparing complementary data\n",
    "\n",
    "HUGO gene-name set\n",
    "\n",
    "Different study may used different version of annotation files. To harmonize gene names we compare all of them with the HUGO complete gene set (version of July, 2023). We searched each gene names among HUGO official symbol, if not found we consider aliases, and finally previus associated symbols.\n",
    "\n",
    "If the gene names was not found in any of these sets we mark the gene as 'non-official', to be removed in the downstream analyses.\n",
    "\n",
    "\n"
   ]
  },
  {
   "cell_type": "code",
   "execution_count": 3,
   "id": "bad588c5-7644-4d00-b7f5-ce3f6c9e0c21",
   "metadata": {
    "execution": {
     "iopub.execute_input": "2024-08-23T15:17:32.855682Z",
     "iopub.status.busy": "2024-08-23T15:17:32.855523Z",
     "iopub.status.idle": "2024-08-23T15:17:33.349117Z",
     "shell.execute_reply": "2024-08-23T15:17:33.348714Z",
     "shell.execute_reply.started": "2024-08-23T15:17:32.855665Z"
    },
    "papermill": {
     "duration": 0.111793,
     "end_time": "2024-04-26T14:46:37.611092",
     "exception": false,
     "start_time": "2024-04-26T14:46:37.499299",
     "status": "completed"
    },
    "tags": []
   },
   "outputs": [
    {
     "name": "stdout",
     "output_type": "stream",
     "text": [
      " HUGO gene name set loaded from disk\n"
     ]
    }
   ],
   "source": [
    "# Download the last gene set catalog\n",
    "extHUGO_DF_fn = here('external_reference_data/hgnc_complete_set_2024-02-01_pandas.csv')\n",
    "HUGOset_fn = here('external_reference_data/hgnc_complete_set_2024-02-01.txt')\n",
    "\n",
    "if not os.path.isfile(extHUGO_DF_fn):\n",
    "\n",
    "    print(\"Downloading HUGO gene name set\")\n",
    "\n",
    "    if not os.path.isfile(HUGOset_fn):\n",
    "        url = 'https://ftp.ebi.ac.uk/pub/databases/genenames/hgnc/archive/monthly/tsv/hgnc_complete_set_2024-02-01.txt'\n",
    "        c = requests.get(url, allow_redirects=True)\n",
    "    \n",
    "        open(HUGOset_fn, 'wb').write(c.content)\n",
    "\n",
    "    HUGO_DF = pd.read_csv(HUGOset_fn, delimiter='\\t', dtype=(str))\n",
    "    HUGO_DF.fillna('', inplace=True)\n",
    "\n",
    "    # extending the dataframe to include also alias and prev gene symbols\n",
    "    pB = tqdm(total=HUGO_DF.shape[0])\n",
    "    extHUGO_DF = pd.DataFrame(columns=['hgnc_id','symbol','alias_or_prev','ensembl_gene_id','locus_group'])\n",
    "    for index, row in HUGO_DF.iterrows():\n",
    "        alias_symbol_list = []\n",
    "        prev_symbol_list = []\n",
    "    \n",
    "        if row['alias_symbol'] != '':\n",
    "            alias_symbol_list = row['alias_symbol'].split('|')\n",
    "    \n",
    "        if row['prev_symbol'] != '':\n",
    "            prev_symbol_list = row['prev_symbol'].split('|')\n",
    "    \n",
    "        alias_prev = list(set(alias_symbol_list + prev_symbol_list))\n",
    "    \n",
    "        if len(alias_prev) > 0:\n",
    "            df_i = pd.DataFrame({'hgnc_id':row['hgnc_id'], 'symbol': row['symbol'], 'alias_or_prev': alias_prev, \n",
    "                                 'ensembl_gene_id':row['ensembl_gene_id'], 'locus_group':row['locus_group']})\n",
    "        else:\n",
    "            df_i = pd.DataFrame({'hgnc_id':row['hgnc_id'], 'symbol': row['symbol'], 'alias_or_prev': [''], \n",
    "                                 'ensembl_gene_id':row['ensembl_gene_id'], 'locus_group':row['locus_group']})\n",
    "    \n",
    "        extHUGO_DF = pd.concat([extHUGO_DF, df_i], axis=0)\n",
    "        pB.update(1)\n",
    "    extHUGO_DF.to_csv(extHUGO_DF_fn, sep= '\\t', index=False)\n",
    "else:\n",
    "\n",
    "    print(\" HUGO gene name set loaded from disk\")\n",
    "    \n",
    "    extHUGO_DF = pd.read_csv(extHUGO_DF_fn, sep= '\\t')"
   ]
  },
  {
   "cell_type": "code",
   "execution_count": 4,
   "id": "643b1d3b-16c1-4238-99f2-a7e35b6544e8",
   "metadata": {
    "execution": {
     "iopub.execute_input": "2024-08-23T15:17:33.349855Z",
     "iopub.status.busy": "2024-08-23T15:17:33.349703Z",
     "iopub.status.idle": "2024-08-23T15:17:33.377004Z",
     "shell.execute_reply": "2024-08-23T15:17:33.376635Z",
     "shell.execute_reply.started": "2024-08-23T15:17:33.349839Z"
    },
    "papermill": {
     "duration": 0.03232,
     "end_time": "2024-04-26T14:46:37.659179",
     "exception": false,
     "start_time": "2024-04-26T14:46:37.626859",
     "status": "completed"
    },
    "tags": []
   },
   "outputs": [
    {
     "data": {
      "text/html": [
       "<div>\n",
       "<style scoped>\n",
       "    .dataframe tbody tr th:only-of-type {\n",
       "        vertical-align: middle;\n",
       "    }\n",
       "\n",
       "    .dataframe tbody tr th {\n",
       "        vertical-align: top;\n",
       "    }\n",
       "\n",
       "    .dataframe thead th {\n",
       "        text-align: right;\n",
       "    }\n",
       "</style>\n",
       "<table border=\"1\" class=\"dataframe\">\n",
       "  <thead>\n",
       "    <tr style=\"text-align: right;\">\n",
       "      <th></th>\n",
       "      <th>hgnc_id</th>\n",
       "      <th>symbol</th>\n",
       "      <th>alias_or_prev</th>\n",
       "      <th>ensembl_gene_id</th>\n",
       "      <th>locus_group</th>\n",
       "    </tr>\n",
       "  </thead>\n",
       "  <tbody>\n",
       "    <tr>\n",
       "      <th>29802</th>\n",
       "      <td>HGNC:31430</td>\n",
       "      <td>LINC00595</td>\n",
       "      <td>C10orf101</td>\n",
       "      <td>ENSG00000230417</td>\n",
       "      <td>non-coding RNA</td>\n",
       "    </tr>\n",
       "  </tbody>\n",
       "</table>\n",
       "</div>"
      ],
      "text/plain": [
       "          hgnc_id     symbol alias_or_prev  ensembl_gene_id     locus_group\n",
       "29802  HGNC:31430  LINC00595     C10orf101  ENSG00000230417  non-coding RNA"
      ]
     },
     "execution_count": 4,
     "metadata": {},
     "output_type": "execute_result"
    }
   ],
   "source": [
    "extHUGO_DF.loc[extHUGO_DF.hgnc_id == 'HGNC:31430',:]"
   ]
  },
  {
   "cell_type": "code",
   "execution_count": 5,
   "id": "2a0ed4c7-59f3-40b4-8616-2e28f3907b2e",
   "metadata": {
    "execution": {
     "iopub.execute_input": "2024-08-23T15:17:33.377805Z",
     "iopub.status.busy": "2024-08-23T15:17:33.377557Z",
     "iopub.status.idle": "2024-08-23T15:17:33.448040Z",
     "shell.execute_reply": "2024-08-23T15:17:33.447678Z",
     "shell.execute_reply.started": "2024-08-23T15:17:33.377788Z"
    },
    "papermill": {
     "duration": 0.029763,
     "end_time": "2024-04-26T14:46:37.707646",
     "exception": false,
     "start_time": "2024-04-26T14:46:37.677883",
     "status": "completed"
    },
    "tags": []
   },
   "outputs": [
    {
     "data": {
      "text/html": [
       "<div>\n",
       "<style scoped>\n",
       "    .dataframe tbody tr th:only-of-type {\n",
       "        vertical-align: middle;\n",
       "    }\n",
       "\n",
       "    .dataframe tbody tr th {\n",
       "        vertical-align: top;\n",
       "    }\n",
       "\n",
       "    .dataframe thead th {\n",
       "        text-align: right;\n",
       "    }\n",
       "</style>\n",
       "<table border=\"1\" class=\"dataframe\">\n",
       "  <thead>\n",
       "    <tr style=\"text-align: right;\">\n",
       "      <th></th>\n",
       "      <th>hgnc_id</th>\n",
       "      <th>symbol</th>\n",
       "      <th>alias_or_prev</th>\n",
       "      <th>ensembl_gene_id</th>\n",
       "      <th>locus_group</th>\n",
       "    </tr>\n",
       "  </thead>\n",
       "  <tbody>\n",
       "    <tr>\n",
       "      <th>29927</th>\n",
       "      <td>HGNC:45111</td>\n",
       "      <td>LINC00856</td>\n",
       "      <td>NaN</td>\n",
       "      <td>ENSG00000230417</td>\n",
       "      <td>non-coding RNA</td>\n",
       "    </tr>\n",
       "  </tbody>\n",
       "</table>\n",
       "</div>"
      ],
      "text/plain": [
       "          hgnc_id     symbol alias_or_prev  ensembl_gene_id     locus_group\n",
       "29927  HGNC:45111  LINC00856           NaN  ENSG00000230417  non-coding RNA"
      ]
     },
     "execution_count": 5,
     "metadata": {},
     "output_type": "execute_result"
    }
   ],
   "source": [
    "extHUGO_DF.loc[extHUGO_DF.hgnc_id == 'HGNC:45111',:]"
   ]
  },
  {
   "cell_type": "markdown",
   "id": "0e5867f5-9a5d-46cd-9cdf-d30c51b71527",
   "metadata": {
    "papermill": {
     "duration": 0.016393,
     "end_time": "2024-04-26T14:46:37.740427",
     "exception": false,
     "start_time": "2024-04-26T14:46:37.724034",
     "status": "completed"
    },
    "tags": []
   },
   "source": [
    "As you can see, there are two different HGNC symbol associated to the same ensemble_id.\n",
    "\n",
    "We decided to keep the first one (*HGNC:31430*) because there is a correspondence between ensemble, symbol and hgnc id [[ref1](https://www.genecards.org/cgi-bin/carddisp.pl?gene=LINC00595),[ref2](https://www.genenames.org/data/gene-symbol-report/#!/hgnc_id/31430)]. \n",
    "\n",
    "While, *HGNC:45111* is associated to LINC00856 [[ref3](https://www.genenames.org/data/gene-symbol-report/#!/hgnc_id/45111)]"
   ]
  },
  {
   "cell_type": "code",
   "execution_count": 6,
   "id": "e36a351e-d867-43e9-95c7-5b98ef062665",
   "metadata": {
    "execution": {
     "iopub.execute_input": "2024-08-23T15:17:33.448761Z",
     "iopub.status.busy": "2024-08-23T15:17:33.448573Z",
     "iopub.status.idle": "2024-08-23T15:17:33.473684Z",
     "shell.execute_reply": "2024-08-23T15:17:33.473249Z",
     "shell.execute_reply.started": "2024-08-23T15:17:33.448744Z"
    },
    "papermill": {
     "duration": 0.027424,
     "end_time": "2024-04-26T14:46:37.784819",
     "exception": false,
     "start_time": "2024-04-26T14:46:37.757395",
     "status": "completed"
    },
    "tags": []
   },
   "outputs": [],
   "source": [
    "extHUGO_DF.loc[extHUGO_DF.hgnc_id == 'HGNC:45111',:] = None"
   ]
  },
  {
   "cell_type": "code",
   "execution_count": 7,
   "id": "84371a08-ca1e-41b4-b3ea-6fc6c5586295",
   "metadata": {
    "execution": {
     "iopub.execute_input": "2024-08-23T15:17:33.474656Z",
     "iopub.status.busy": "2024-08-23T15:17:33.474322Z",
     "iopub.status.idle": "2024-08-23T15:17:33.601017Z",
     "shell.execute_reply": "2024-08-23T15:17:33.600566Z",
     "shell.execute_reply.started": "2024-08-23T15:17:33.474638Z"
    },
    "papermill": {
     "duration": 0.026016,
     "end_time": "2024-04-26T14:46:37.827773",
     "exception": false,
     "start_time": "2024-04-26T14:46:37.801757",
     "status": "completed"
    },
    "tags": []
   },
   "outputs": [],
   "source": [
    "def add_project_ids(adata = None, studyID = None, library_id_col = None, patient_id_col = None, timepointColID = None, pIDpattern = '[^a-zA-Z0-9]+', repWith = '', regex = True):\n",
    "    # generating barcode for each library (gem_id)\n",
    "    gemID_BC = pd.DataFrame({library_id_col: np.unique(adata.obs[library_id_col])})\n",
    "    gemID_BC['INFL_lID'] = [f\"{studyID}_L{l:03d}\" for l in range(gemID_BC.shape[0])]         \n",
    "    adata.obs = adata.obs.reset_index().merge(gemID_BC, on=library_id_col, how = 'left').set_index('index')\n",
    "\n",
    "    # generating barcode for each patient\n",
    "    adata.obs['INFL_pID'] = adata.obs[patient_id_col].str.replace(pIDpattern,repWith,regex=regex) # here we removed 00 to make shorten the ID\n",
    "    assert(adata.obs['INFL_pID'].unique().shape[0] == adata.obs[patient_id_col].unique().shape[0])\n",
    "    if timepointColID is not None:\n",
    "        # if there are multiple timepoints or replicates from the same patient, we add a proper suffix (i.e., T#) after the corresponding pID\n",
    "\n",
    "        # we are adding the information about the timepoint, armonizing the values ...\n",
    "        pID_TP_df = adata.obs[['INFL_pID',timepointColID]].drop_duplicates()\n",
    "        pID_TP_df['timepoint_replicate'] = pID_TP_df.sort_values(['INFL_pID',timepointColID]).groupby(['INFL_pID']).cumcount()\n",
    "        # ... transfering back to the cell metadata timepoint_replicate annotation\n",
    "        adObj_i.obs = adObj_i.obs.merge(pID_TP_df, on = ['INFL_pID',timepointColID])\n",
    "        \n",
    "    else:\n",
    "        # otherwise, we will add T0 for consistency\n",
    "        adObj_i.obs['timepoint_replicate'] = 0\n",
    "    \n",
    "    # # generating barcode for each cell\n",
    "    adata.obs['INFL_lID_pID_TP'] = adata.obs[['INFL_lID', 'INFL_pID']].apply(lambda row: '_'.join(row.values.astype(str)), axis=1) + '_T' + adObj_i.obs['timepoint_replicate'].astype(str)\n",
    "    \n",
    "    adata.obs['cellID'] = adata.obs[['INFL_lID_pID_TP', 'cell_barcode']].apply(lambda row: '_'.join(row.values.astype(str)), axis=1)\n",
    "    adata.obs = adata.obs.reset_index(inplace=False).set_index('cellID', inplace=False)\n",
    "    \n",
    "    # generating patientID and sampleID \n",
    "    adata.obs['INFL_pID'] = studyID+'_'+adata.obs['INFL_pID'].astype(str)\n",
    "    adata.obs['INFL_sID'] = adata.obs['INFL_pID'].astype(str)+'_T'+adObj_i.obs['timepoint_replicate'].astype(str)\n",
    "\n",
    "    return None"
   ]
  },
  {
   "cell_type": "code",
   "execution_count": 8,
   "id": "33ae8a70-ac54-4c1d-8b30-7a56b95b6c6e",
   "metadata": {
    "execution": {
     "iopub.execute_input": "2024-08-23T15:17:33.605889Z",
     "iopub.status.busy": "2024-08-23T15:17:33.605597Z",
     "iopub.status.idle": "2024-08-23T15:17:33.716644Z",
     "shell.execute_reply": "2024-08-23T15:17:33.716217Z",
     "shell.execute_reply.started": "2024-08-23T15:17:33.605871Z"
    },
    "papermill": {
     "duration": 0.033759,
     "end_time": "2024-04-26T14:46:37.878907",
     "exception": false,
     "start_time": "2024-04-26T14:46:37.845148",
     "status": "completed"
    },
    "tags": []
   },
   "outputs": [
    {
     "data": {
      "text/html": [
       "<div>\n",
       "<style scoped>\n",
       "    .dataframe tbody tr th:only-of-type {\n",
       "        vertical-align: middle;\n",
       "    }\n",
       "\n",
       "    .dataframe tbody tr th {\n",
       "        vertical-align: top;\n",
       "    }\n",
       "\n",
       "    .dataframe thead th {\n",
       "        text-align: right;\n",
       "    }\n",
       "</style>\n",
       "<table border=\"1\" class=\"dataframe\">\n",
       "  <thead>\n",
       "    <tr style=\"text-align: right;\">\n",
       "      <th></th>\n",
       "      <th>studyID</th>\n",
       "      <th>diseaseGroup</th>\n",
       "      <th>disease</th>\n",
       "      <th>dataSource</th>\n",
       "      <th>h5ad_FileName</th>\n",
       "      <th>ENSEMBLGeneID</th>\n",
       "      <th>externalValidation</th>\n",
       "      <th>chemistry</th>\n",
       "      <th>technology</th>\n",
       "      <th>cellrangerVersion</th>\n",
       "      <th>genomeVersion</th>\n",
       "      <th>expectedDoubletRate</th>\n",
       "    </tr>\n",
       "  </thead>\n",
       "  <tbody>\n",
       "    <tr>\n",
       "      <th>0</th>\n",
       "      <td>SCGT00</td>\n",
       "      <td>homeostasis;IMID</td>\n",
       "      <td>HC;RA;PsA;IBDs_CD;IBDs_UC;PS;SLE</td>\n",
       "      <td>inhouse</td>\n",
       "      <td>INFLAMMATION_DOCTIS_week0_bothChemistry_merged...</td>\n",
       "      <td>YES</td>\n",
       "      <td>NO</td>\n",
       "      <td>mixed</td>\n",
       "      <td>mixed_GenoHashed</td>\n",
       "      <td>v6.1.1_NoIntrons</td>\n",
       "      <td>GRCh38_v32/Ensembl98</td>\n",
       "      <td>0.02</td>\n",
       "    </tr>\n",
       "    <tr>\n",
       "      <th>1</th>\n",
       "      <td>SCGT00val</td>\n",
       "      <td>IMID</td>\n",
       "      <td>RA</td>\n",
       "      <td>inhouse</td>\n",
       "      <td>INFLAMMATION_DOCTISvalidation_week0_merged.h5ad</td>\n",
       "      <td>YES</td>\n",
       "      <td>YES</td>\n",
       "      <td>3_GEX_V3</td>\n",
       "      <td>3_GEX_V3_GenoHashed</td>\n",
       "      <td>v6.1.1_NoIntrons</td>\n",
       "      <td>GRCh38_v32/Ensembl98</td>\n",
       "      <td>0.02</td>\n",
       "    </tr>\n",
       "    <tr>\n",
       "      <th>2</th>\n",
       "      <td>SCGT01</td>\n",
       "      <td>homeostasis</td>\n",
       "      <td>HC</td>\n",
       "      <td>inhouse</td>\n",
       "      <td>INFLAMMATION_EXERCISEHC_merged.h5ad</td>\n",
       "      <td>YES</td>\n",
       "      <td>NO</td>\n",
       "      <td>3_GEX_V3</td>\n",
       "      <td>3_GEX_V3_CellPlex</td>\n",
       "      <td>v6.1.1_NoIntrons</td>\n",
       "      <td>GRCh38_v32/Ensembl98</td>\n",
       "      <td>0.02</td>\n",
       "    </tr>\n",
       "    <tr>\n",
       "      <th>3</th>\n",
       "      <td>SCGT02</td>\n",
       "      <td>homeostasis;chronic_inflammation</td>\n",
       "      <td>HC;Asthma;COPD</td>\n",
       "      <td>inhouse</td>\n",
       "      <td>INFLAMMATION_ASTHMA-COPD-HC_merged.h5ad</td>\n",
       "      <td>YES</td>\n",
       "      <td>NO</td>\n",
       "      <td>3_GEX_V3</td>\n",
       "      <td>3HT_GEX_V3_GenoHashed</td>\n",
       "      <td>v6.1.1_NoIntrons</td>\n",
       "      <td>GRCh38_v32/Ensembl98</td>\n",
       "      <td>0.01</td>\n",
       "    </tr>\n",
       "    <tr>\n",
       "      <th>4</th>\n",
       "      <td>SCGT03</td>\n",
       "      <td>solid_tumors</td>\n",
       "      <td>BRCA</td>\n",
       "      <td>inhouse</td>\n",
       "      <td>INFLAMMATION_BRCA_time0_merged.h5ad</td>\n",
       "      <td>YES</td>\n",
       "      <td>NO</td>\n",
       "      <td>5_GEX_V2</td>\n",
       "      <td>5_GEX_V2</td>\n",
       "      <td>v6.1.1_NoIntrons</td>\n",
       "      <td>GRCh38_v32/Ensembl98</td>\n",
       "      <td>0.08</td>\n",
       "    </tr>\n",
       "    <tr>\n",
       "      <th>5</th>\n",
       "      <td>SCGT04</td>\n",
       "      <td>chronic_inflammation</td>\n",
       "      <td>cirrhosis</td>\n",
       "      <td>inhouse</td>\n",
       "      <td>INFLAMMATION_CIRRHOSIS_merged.h5ad</td>\n",
       "      <td>YES</td>\n",
       "      <td>NO</td>\n",
       "      <td>3_GEX_V3</td>\n",
       "      <td>3HT_GEX_V3_CellPlex</td>\n",
       "      <td>v6.1.1_NoIntrons</td>\n",
       "      <td>GRCh38_v32/Ensembl98</td>\n",
       "      <td>0.01</td>\n",
       "    </tr>\n",
       "    <tr>\n",
       "      <th>6</th>\n",
       "      <td>SCGT05</td>\n",
       "      <td>solid_tumors</td>\n",
       "      <td>CRC</td>\n",
       "      <td>inhouse</td>\n",
       "      <td>INFLAMMATION_CRC_merged.h5ad</td>\n",
       "      <td>YES</td>\n",
       "      <td>NO</td>\n",
       "      <td>5_GEX_V2</td>\n",
       "      <td>5_GEX_V2</td>\n",
       "      <td>v6.1.2_NoIntrons</td>\n",
       "      <td>GRCh38_v32/Ensembl98</td>\n",
       "      <td>0.08</td>\n",
       "    </tr>\n",
       "    <tr>\n",
       "      <th>7</th>\n",
       "      <td>SCGT06</td>\n",
       "      <td>homeostasis;infection</td>\n",
       "      <td>HC;COVID</td>\n",
       "      <td>inhouse</td>\n",
       "      <td>INFLAMMATION_COVID-HC_merged.h5ad</td>\n",
       "      <td>YES</td>\n",
       "      <td>YES</td>\n",
       "      <td>3_GEX_V3</td>\n",
       "      <td>3HT_GEX_V3_GenoHashed</td>\n",
       "      <td>v6.1.1_NoIntrons</td>\n",
       "      <td>GRCh38_v32/Ensembl98</td>\n",
       "      <td>0.01</td>\n",
       "    </tr>\n",
       "    <tr>\n",
       "      <th>8</th>\n",
       "      <td>Reyes2020</td>\n",
       "      <td>homeostasis;acute_inflammation</td>\n",
       "      <td>HC;sepsis</td>\n",
       "      <td>public</td>\n",
       "      <td>Reyes_NatMed_2020__Sepsis-HC.h5ad</td>\n",
       "      <td>NO</td>\n",
       "      <td>NO</td>\n",
       "      <td>3_GEX_V2</td>\n",
       "      <td>3_GEX_V2_Hashed</td>\n",
       "      <td>v2.1_NoIntrons</td>\n",
       "      <td>GRCh38/Ensembl87</td>\n",
       "      <td>0</td>\n",
       "    </tr>\n",
       "    <tr>\n",
       "      <th>9</th>\n",
       "      <td>Cillo2020</td>\n",
       "      <td>homeostasis;solid_tumors</td>\n",
       "      <td>HC;HNSCC</td>\n",
       "      <td>public</td>\n",
       "      <td>Cillo_Immunity_2020__HNSCC-HC.h5ad</td>\n",
       "      <td>YES</td>\n",
       "      <td>NO</td>\n",
       "      <td>3_GEX_V2</td>\n",
       "      <td>3_GEX_V2</td>\n",
       "      <td>v2.1</td>\n",
       "      <td>GRCh38</td>\n",
       "      <td>0.08</td>\n",
       "    </tr>\n",
       "    <tr>\n",
       "      <th>10</th>\n",
       "      <td>Zhang2023</td>\n",
       "      <td>homeostasis;infection</td>\n",
       "      <td>HC;HBV</td>\n",
       "      <td>public</td>\n",
       "      <td>Zhang_Gut_2023__HBV-HC.h5ad</td>\n",
       "      <td>NO</td>\n",
       "      <td>NO</td>\n",
       "      <td>5_GEX_V1</td>\n",
       "      <td>5_GEX_V1</td>\n",
       "      <td>v3.1</td>\n",
       "      <td>GRCh38</td>\n",
       "      <td>0.08</td>\n",
       "    </tr>\n",
       "    <tr>\n",
       "      <th>11</th>\n",
       "      <td>Schafflick2020</td>\n",
       "      <td>homeostasis;IMID</td>\n",
       "      <td>HC;MS</td>\n",
       "      <td>public</td>\n",
       "      <td>Schafflick_NatCommun_2020__MS-HC.h5ad</td>\n",
       "      <td>YES</td>\n",
       "      <td>NO</td>\n",
       "      <td>3_GEX_V2</td>\n",
       "      <td>3_GEX_V2</td>\n",
       "      <td>v2.0.2</td>\n",
       "      <td>GRCh38</td>\n",
       "      <td>0.08</td>\n",
       "    </tr>\n",
       "    <tr>\n",
       "      <th>12</th>\n",
       "      <td>Liu2021</td>\n",
       "      <td>solid_tumors</td>\n",
       "      <td>NPC</td>\n",
       "      <td>public</td>\n",
       "      <td>Liu_NatCommun_2021__NPC.h5ad</td>\n",
       "      <td>NO</td>\n",
       "      <td>NO</td>\n",
       "      <td>5_GEX_V1</td>\n",
       "      <td>5_GEX_V1</td>\n",
       "      <td>v3.0.1</td>\n",
       "      <td>GRCh38</td>\n",
       "      <td>0.08</td>\n",
       "    </tr>\n",
       "    <tr>\n",
       "      <th>13</th>\n",
       "      <td>Palshikar2022</td>\n",
       "      <td>infection</td>\n",
       "      <td>HIV</td>\n",
       "      <td>public</td>\n",
       "      <td>Palshikar_SytBiolAppl_2022__HIV.h5ad</td>\n",
       "      <td>YES</td>\n",
       "      <td>YES</td>\n",
       "      <td>3_GEX_V2</td>\n",
       "      <td>3_GEX_V2_Hashed</td>\n",
       "      <td>v2.1.1</td>\n",
       "      <td>GRCh38/Ensembl93</td>\n",
       "      <td>0.08</td>\n",
       "    </tr>\n",
       "    <tr>\n",
       "      <th>14</th>\n",
       "      <td>Terekhova2023</td>\n",
       "      <td>homeostasis</td>\n",
       "      <td>HC</td>\n",
       "      <td>public</td>\n",
       "      <td>Terekhova_Immunity_2023__HCaging.h5ad</td>\n",
       "      <td>YES</td>\n",
       "      <td>NO</td>\n",
       "      <td>5_GEX_V2</td>\n",
       "      <td>5_GEX_V2_Hashed</td>\n",
       "      <td>v6.1.2_NoIntrons</td>\n",
       "      <td>GRCh38_v32/Ensembl98</td>\n",
       "      <td>0.02</td>\n",
       "    </tr>\n",
       "    <tr>\n",
       "      <th>15</th>\n",
       "      <td>Perez2022</td>\n",
       "      <td>homeostasis;IMID</td>\n",
       "      <td>HC;SLE</td>\n",
       "      <td>public</td>\n",
       "      <td>Perez_Science_2022__SLE-HC.h5ad</td>\n",
       "      <td>YES</td>\n",
       "      <td>NO</td>\n",
       "      <td>3_GEX_V2</td>\n",
       "      <td>3_GEX_V2_GenoHashed</td>\n",
       "      <td>v6.1.2_NoIntrons</td>\n",
       "      <td>GRCh38_v32/Ensembl98</td>\n",
       "      <td>0</td>\n",
       "    </tr>\n",
       "    <tr>\n",
       "      <th>16</th>\n",
       "      <td>Ramachandran2019</td>\n",
       "      <td>chronic_inflammation</td>\n",
       "      <td>cirrhosis</td>\n",
       "      <td>public</td>\n",
       "      <td>Ramachandran_Nature_2019__cirrhosis.h5ad</td>\n",
       "      <td>YES</td>\n",
       "      <td>YES</td>\n",
       "      <td>3_GEX_V2</td>\n",
       "      <td>3_GEX_V2</td>\n",
       "      <td>v2.1.0</td>\n",
       "      <td>GRCh38</td>\n",
       "      <td>0.08</td>\n",
       "    </tr>\n",
       "    <tr>\n",
       "      <th>17</th>\n",
       "      <td>Martin2019</td>\n",
       "      <td>IMID</td>\n",
       "      <td>IBDs_CD</td>\n",
       "      <td>public</td>\n",
       "      <td>Martin_Cell_2019__CD.h5ad</td>\n",
       "      <td>YES</td>\n",
       "      <td>YES</td>\n",
       "      <td>3_GEX_V2</td>\n",
       "      <td>3_GEX_V2</td>\n",
       "      <td>v2.2.0</td>\n",
       "      <td>GRCh38</td>\n",
       "      <td>0.08</td>\n",
       "    </tr>\n",
       "    <tr>\n",
       "      <th>18</th>\n",
       "      <td>Wang2020</td>\n",
       "      <td>homeostasis;infection</td>\n",
       "      <td>HC;HIV</td>\n",
       "      <td>public</td>\n",
       "      <td>Wang_EmergMicrobesInfect_2020__HIV-HC.h5ad</td>\n",
       "      <td>YES</td>\n",
       "      <td>NO</td>\n",
       "      <td>3_GEX_V2</td>\n",
       "      <td>3_GEX_V2</td>\n",
       "      <td>v6.1.2_NoIntrons</td>\n",
       "      <td>GRCh38_v32/Ensembl98</td>\n",
       "      <td>0.08</td>\n",
       "    </tr>\n",
       "    <tr>\n",
       "      <th>19</th>\n",
       "      <td>Savage2021</td>\n",
       "      <td>homeostasis;IMID</td>\n",
       "      <td>HC;SLE</td>\n",
       "      <td>public</td>\n",
       "      <td>Savage_iScience_2021__SLE-HC.h5ad</td>\n",
       "      <td>YES</td>\n",
       "      <td>YES</td>\n",
       "      <td>3_GEX_V3</td>\n",
       "      <td>3_GEX_V3</td>\n",
       "      <td>v3.1</td>\n",
       "      <td>GRCh38/Ensembl93</td>\n",
       "      <td>0.08</td>\n",
       "    </tr>\n",
       "    <tr>\n",
       "      <th>20</th>\n",
       "      <td>Jiang2020</td>\n",
       "      <td>acute_inflammation</td>\n",
       "      <td>sepsis</td>\n",
       "      <td>public</td>\n",
       "      <td>Jiang_JCIInsight_2020__sepsis.h5ad</td>\n",
       "      <td>YES</td>\n",
       "      <td>YES</td>\n",
       "      <td>3_GEX_V2</td>\n",
       "      <td>3_GEX_V2</td>\n",
       "      <td>v6.1.2_NoIntrons</td>\n",
       "      <td>GRCh38_v32/Ensembl98</td>\n",
       "      <td>0.08</td>\n",
       "    </tr>\n",
       "    <tr>\n",
       "      <th>21</th>\n",
       "      <td>Mistry2019</td>\n",
       "      <td>IMID</td>\n",
       "      <td>SLE</td>\n",
       "      <td>public</td>\n",
       "      <td>Mistry_PNAS_2019__SLE.h5ad</td>\n",
       "      <td>YES</td>\n",
       "      <td>YES</td>\n",
       "      <td>3_GEX_V2</td>\n",
       "      <td>3_GEX_Vpredicted</td>\n",
       "      <td>v2.2.2</td>\n",
       "      <td>GRCh38</td>\n",
       "      <td>0.08</td>\n",
       "    </tr>\n",
       "    <tr>\n",
       "      <th>22</th>\n",
       "      <td>COMBAT2022</td>\n",
       "      <td>homeostasis;infection;acute_inflammation</td>\n",
       "      <td>HC;COVID;Flu;sepsis</td>\n",
       "      <td>public</td>\n",
       "      <td>COMBAT_Cell_2022__COVID-Flu-Sepsis-HC.h5ad</td>\n",
       "      <td>YES</td>\n",
       "      <td>NO</td>\n",
       "      <td>5_GEX_V1</td>\n",
       "      <td>5_GEX_V1_GenoHashed</td>\n",
       "      <td>v3.1.0</td>\n",
       "      <td>GRCh38/Ensembl100</td>\n",
       "      <td>0</td>\n",
       "    </tr>\n",
       "    <tr>\n",
       "      <th>23</th>\n",
       "      <td>Ren2021</td>\n",
       "      <td>homeostasis;infection</td>\n",
       "      <td>HC;COVID</td>\n",
       "      <td>public</td>\n",
       "      <td>Ren_Cell_2021__COVID-HC.h5ad</td>\n",
       "      <td>YES</td>\n",
       "      <td>NO</td>\n",
       "      <td>mixed</td>\n",
       "      <td>mixed</td>\n",
       "      <td>v.3.0.2</td>\n",
       "      <td>GRCh38</td>\n",
       "      <td>0</td>\n",
       "    </tr>\n",
       "    <tr>\n",
       "      <th>24</th>\n",
       "      <td>10XGenomics</td>\n",
       "      <td>homeostasis</td>\n",
       "      <td>HC</td>\n",
       "      <td>public</td>\n",
       "      <td>10XGenomics_PBMC__HC.h5ad</td>\n",
       "      <td>YES</td>\n",
       "      <td>YES</td>\n",
       "      <td>mixed</td>\n",
       "      <td>mixed</td>\n",
       "      <td>mixed</td>\n",
       "      <td>GRCh38_v32/Ensembl98</td>\n",
       "      <td>mixed</td>\n",
       "    </tr>\n",
       "  </tbody>\n",
       "</table>\n",
       "</div>"
      ],
      "text/plain": [
       "             studyID                              diseaseGroup  \\\n",
       "0             SCGT00                          homeostasis;IMID   \n",
       "1          SCGT00val                                      IMID   \n",
       "2             SCGT01                               homeostasis   \n",
       "3             SCGT02          homeostasis;chronic_inflammation   \n",
       "4             SCGT03                              solid_tumors   \n",
       "5             SCGT04                      chronic_inflammation   \n",
       "6             SCGT05                              solid_tumors   \n",
       "7             SCGT06                     homeostasis;infection   \n",
       "8          Reyes2020            homeostasis;acute_inflammation   \n",
       "9          Cillo2020                  homeostasis;solid_tumors   \n",
       "10         Zhang2023                     homeostasis;infection   \n",
       "11    Schafflick2020                          homeostasis;IMID   \n",
       "12           Liu2021                              solid_tumors   \n",
       "13     Palshikar2022                                 infection   \n",
       "14     Terekhova2023                               homeostasis   \n",
       "15         Perez2022                          homeostasis;IMID   \n",
       "16  Ramachandran2019                      chronic_inflammation   \n",
       "17        Martin2019                                      IMID   \n",
       "18          Wang2020                     homeostasis;infection   \n",
       "19        Savage2021                          homeostasis;IMID   \n",
       "20         Jiang2020                        acute_inflammation   \n",
       "21        Mistry2019                                      IMID   \n",
       "22        COMBAT2022  homeostasis;infection;acute_inflammation   \n",
       "23           Ren2021                     homeostasis;infection   \n",
       "24       10XGenomics                               homeostasis   \n",
       "\n",
       "                             disease dataSource  \\\n",
       "0   HC;RA;PsA;IBDs_CD;IBDs_UC;PS;SLE    inhouse   \n",
       "1                                 RA    inhouse   \n",
       "2                                 HC    inhouse   \n",
       "3                     HC;Asthma;COPD    inhouse   \n",
       "4                               BRCA    inhouse   \n",
       "5                          cirrhosis    inhouse   \n",
       "6                                CRC    inhouse   \n",
       "7                           HC;COVID    inhouse   \n",
       "8                          HC;sepsis     public   \n",
       "9                           HC;HNSCC     public   \n",
       "10                            HC;HBV     public   \n",
       "11                             HC;MS     public   \n",
       "12                               NPC     public   \n",
       "13                               HIV     public   \n",
       "14                                HC     public   \n",
       "15                            HC;SLE     public   \n",
       "16                         cirrhosis     public   \n",
       "17                           IBDs_CD     public   \n",
       "18                            HC;HIV     public   \n",
       "19                            HC;SLE     public   \n",
       "20                            sepsis     public   \n",
       "21                               SLE     public   \n",
       "22               HC;COVID;Flu;sepsis     public   \n",
       "23                          HC;COVID     public   \n",
       "24                                HC     public   \n",
       "\n",
       "                                        h5ad_FileName ENSEMBLGeneID  \\\n",
       "0   INFLAMMATION_DOCTIS_week0_bothChemistry_merged...           YES   \n",
       "1     INFLAMMATION_DOCTISvalidation_week0_merged.h5ad           YES   \n",
       "2                 INFLAMMATION_EXERCISEHC_merged.h5ad           YES   \n",
       "3             INFLAMMATION_ASTHMA-COPD-HC_merged.h5ad           YES   \n",
       "4                 INFLAMMATION_BRCA_time0_merged.h5ad           YES   \n",
       "5                  INFLAMMATION_CIRRHOSIS_merged.h5ad           YES   \n",
       "6                        INFLAMMATION_CRC_merged.h5ad           YES   \n",
       "7                   INFLAMMATION_COVID-HC_merged.h5ad           YES   \n",
       "8                   Reyes_NatMed_2020__Sepsis-HC.h5ad            NO   \n",
       "9                  Cillo_Immunity_2020__HNSCC-HC.h5ad           YES   \n",
       "10                        Zhang_Gut_2023__HBV-HC.h5ad            NO   \n",
       "11              Schafflick_NatCommun_2020__MS-HC.h5ad           YES   \n",
       "12                       Liu_NatCommun_2021__NPC.h5ad            NO   \n",
       "13               Palshikar_SytBiolAppl_2022__HIV.h5ad           YES   \n",
       "14              Terekhova_Immunity_2023__HCaging.h5ad           YES   \n",
       "15                    Perez_Science_2022__SLE-HC.h5ad           YES   \n",
       "16           Ramachandran_Nature_2019__cirrhosis.h5ad           YES   \n",
       "17                          Martin_Cell_2019__CD.h5ad           YES   \n",
       "18         Wang_EmergMicrobesInfect_2020__HIV-HC.h5ad           YES   \n",
       "19                  Savage_iScience_2021__SLE-HC.h5ad           YES   \n",
       "20                 Jiang_JCIInsight_2020__sepsis.h5ad           YES   \n",
       "21                         Mistry_PNAS_2019__SLE.h5ad           YES   \n",
       "22         COMBAT_Cell_2022__COVID-Flu-Sepsis-HC.h5ad           YES   \n",
       "23                       Ren_Cell_2021__COVID-HC.h5ad           YES   \n",
       "24                          10XGenomics_PBMC__HC.h5ad           YES   \n",
       "\n",
       "   externalValidation chemistry             technology cellrangerVersion  \\\n",
       "0                  NO     mixed       mixed_GenoHashed  v6.1.1_NoIntrons   \n",
       "1                 YES  3_GEX_V3    3_GEX_V3_GenoHashed  v6.1.1_NoIntrons   \n",
       "2                  NO  3_GEX_V3      3_GEX_V3_CellPlex  v6.1.1_NoIntrons   \n",
       "3                  NO  3_GEX_V3  3HT_GEX_V3_GenoHashed  v6.1.1_NoIntrons   \n",
       "4                  NO  5_GEX_V2               5_GEX_V2  v6.1.1_NoIntrons   \n",
       "5                  NO  3_GEX_V3    3HT_GEX_V3_CellPlex  v6.1.1_NoIntrons   \n",
       "6                  NO  5_GEX_V2               5_GEX_V2  v6.1.2_NoIntrons   \n",
       "7                 YES  3_GEX_V3  3HT_GEX_V3_GenoHashed  v6.1.1_NoIntrons   \n",
       "8                  NO  3_GEX_V2        3_GEX_V2_Hashed    v2.1_NoIntrons   \n",
       "9                  NO  3_GEX_V2               3_GEX_V2              v2.1   \n",
       "10                 NO  5_GEX_V1               5_GEX_V1              v3.1   \n",
       "11                 NO  3_GEX_V2               3_GEX_V2            v2.0.2   \n",
       "12                 NO  5_GEX_V1               5_GEX_V1            v3.0.1   \n",
       "13                YES  3_GEX_V2        3_GEX_V2_Hashed            v2.1.1   \n",
       "14                 NO  5_GEX_V2        5_GEX_V2_Hashed  v6.1.2_NoIntrons   \n",
       "15                 NO  3_GEX_V2    3_GEX_V2_GenoHashed  v6.1.2_NoIntrons   \n",
       "16                YES  3_GEX_V2               3_GEX_V2            v2.1.0   \n",
       "17                YES  3_GEX_V2               3_GEX_V2            v2.2.0   \n",
       "18                 NO  3_GEX_V2               3_GEX_V2  v6.1.2_NoIntrons   \n",
       "19                YES  3_GEX_V3               3_GEX_V3              v3.1   \n",
       "20                YES  3_GEX_V2               3_GEX_V2  v6.1.2_NoIntrons   \n",
       "21                YES  3_GEX_V2       3_GEX_Vpredicted            v2.2.2   \n",
       "22                 NO  5_GEX_V1    5_GEX_V1_GenoHashed            v3.1.0   \n",
       "23                 NO     mixed                  mixed           v.3.0.2   \n",
       "24                YES     mixed                  mixed             mixed   \n",
       "\n",
       "           genomeVersion expectedDoubletRate  \n",
       "0   GRCh38_v32/Ensembl98                0.02  \n",
       "1   GRCh38_v32/Ensembl98                0.02  \n",
       "2   GRCh38_v32/Ensembl98                0.02  \n",
       "3   GRCh38_v32/Ensembl98                0.01  \n",
       "4   GRCh38_v32/Ensembl98                0.08  \n",
       "5   GRCh38_v32/Ensembl98                0.01  \n",
       "6   GRCh38_v32/Ensembl98                0.08  \n",
       "7   GRCh38_v32/Ensembl98                0.01  \n",
       "8       GRCh38/Ensembl87                   0  \n",
       "9                 GRCh38                0.08  \n",
       "10                GRCh38                0.08  \n",
       "11                GRCh38                0.08  \n",
       "12                GRCh38                0.08  \n",
       "13      GRCh38/Ensembl93                0.08  \n",
       "14  GRCh38_v32/Ensembl98                0.02  \n",
       "15  GRCh38_v32/Ensembl98                   0  \n",
       "16                GRCh38                0.08  \n",
       "17                GRCh38                0.08  \n",
       "18  GRCh38_v32/Ensembl98                0.08  \n",
       "19      GRCh38/Ensembl93                0.08  \n",
       "20  GRCh38_v32/Ensembl98                0.08  \n",
       "21                GRCh38                0.08  \n",
       "22     GRCh38/Ensembl100                   0  \n",
       "23                GRCh38                   0  \n",
       "24  GRCh38_v32/Ensembl98               mixed  "
      ]
     },
     "metadata": {},
     "output_type": "display_data"
    }
   ],
   "source": [
    "datasetDF = pd.read_csv(here('00_data_processing/datasets/INFLAMMATION_ATLAS_datasets_curated.csv'))\n",
    "\n",
    "pd.set_option('display.max_rows', None)\n",
    "display(datasetDF)\n",
    "pd.reset_option('display.max_rows')"
   ]
  },
  {
   "cell_type": "markdown",
   "id": "0e6564bf-6eae-4ff8-aaac-ed6049a0f28e",
   "metadata": {
    "papermill": {
     "duration": 0.015233,
     "end_time": "2024-04-26T14:46:37.909500",
     "exception": false,
     "start_time": "2024-04-26T14:46:37.894267",
     "status": "completed"
    },
    "tags": []
   },
   "source": [
    "## Reading each single-cell dataset\n",
    "\n",
    "**INFL_pID** = cleanPatientID, where cleanPatientID = originalPatientID without any non-alphanumeric characters.\n",
    "(this column has to be renamed to *patientID*)\n",
    "\n",
    "**INFL_lID** = LXXX, where XXX is an incremental number from 000 to 999, one for each library in a given study. (this column has to be renamed to *libraryID*)\n",
    "\n",
    "**INFL_cID** = LXXX_cleanPatientID_NNNNNNNNNNNNNNNN, where NNNNNNNNNNNNNNNN is the original cell barcode. (this column has to be renamed to *cellID*)\n",
    "\n",
    "In the mergedObs, we add *studyID_* as prefix for each identifier\n",
    "\n",
    "We are try to harmonize columns name for the followin information, if available:\n",
    "1. institute (where the data are collected),\n",
    "2. age,\n",
    "3. sex,\n",
    "4. ethnicity,\n",
    "5. smokingStatus (current/occasionally/never/former/unknown TO BE CHECKED),\n",
    "6. BMI,\n",
    "7. disease and diseaseStatus,\n",
    "8. treatmentStatus (naive/treated/under/na) and therapyResponse,\n",
    "9. timepoint_replicate (if there are multiple samples from the same individual, we will assign different number here)\n"
   ]
  },
  {
   "cell_type": "raw",
   "id": "85b80024-c0b7-4a3a-968a-0660e78e70f2",
   "metadata": {
    "execution": {
     "iopub.execute_input": "2024-05-06T15:18:46.996414Z",
     "iopub.status.busy": "2024-05-06T15:18:46.995959Z",
     "iopub.status.idle": "2024-05-06T15:18:46.998649Z",
     "shell.execute_reply": "2024-05-06T15:18:46.998202Z",
     "shell.execute_reply.started": "2024-05-06T15:18:46.996392Z"
    },
    "papermill": {
     "duration": 0.018974,
     "end_time": "2024-04-26T14:46:37.943686",
     "exception": false,
     "start_time": "2024-04-26T14:46:37.924712",
     "status": "completed"
    },
    "tags": []
   },
   "source": [
    "dn = 7"
   ]
  },
  {
   "cell_type": "code",
   "execution_count": null,
   "id": "92d23d8b-c848-4243-9304-e16611df3d42",
   "metadata": {
    "papermill": {
     "duration": 658.804448,
     "end_time": "2024-04-26T14:57:36.763066",
     "exception": false,
     "start_time": "2024-04-26T14:46:37.958618",
     "status": "completed"
    },
    "tags": []
   },
   "outputs": [
    {
     "name": "stdout",
     "output_type": "stream",
     "text": [
      "14 samples\n",
      "\n",
      "Reading SCGT06: INFLAMMATION_COVID-HC_merged.h5ad\n",
      "WARNING: skipped INFLAMMATION_COVID-HC_merged.h5ad because it doesn't exist. Please check!\n",
      "\n",
      "Reading Reyes2020: Reyes_NatMed_2020__Sepsis-HC.h5ad\n"
     ]
    },
    {
     "name": "stdout",
     "output_type": "stream",
     "text": [
      "Original object\n",
      "AnnData object with n_obs × n_vars = 80905 × 22790\n",
      "    obs: 'orig.ident', 'nCount_RNA', 'nFeature_RNA', 'Cell_Type', 'Cell_State', 'donor_id', 'Cohort', 'Age', 'binned_age', 'Sex', 'dT_Present.Enroll..hrs.', 'dT_ABX.Enroll..hrs.', 'ED_fever', 'SBP..90', 'WBC', 'X.lymph', 'X.mono', 'SOFA', 'Lact..2', 'Vaso_48', 'ICU_48', 'Pulm', 'Abd', 'UTI', 'Soft.tissue', 'Endocarditis', 'Unclear', 'icu_direct', 'inpt_icu_transfer', 'Uro_Pathogen', 'Bld_cx_pos', 'Bld_Pathogen', 'Active.cancer', 'Immunocomp', 'Debilitated', 'Chronic.severe.lung.disease', 'Cirrhosis', 'Steroid', 'CAD.CHF', 'CKD', 'DM', 'In.Hospital.Mortality', 'One.year.mortality', 'Notes', 'studyID', 'INFL_chemistry', 'INFL_technology', 'cell_barcode'\n",
      "    var: 'gene_name', 'gene_id'\n"
     ]
    },
    {
     "name": "stdout",
     "output_type": "stream",
     "text": [
      "41 samples\n",
      "\n",
      "Reading Cillo2020: Cillo_Immunity_2020__HNSCC-HC.h5ad\n"
     ]
    },
    {
     "name": "stdout",
     "output_type": "stream",
     "text": [
      "Original object\n",
      "AnnData object with n_obs × n_vars = 59434 × 33694\n",
      "    obs: 'orig.ident', 'nCount_RNA', 'nFeature_RNA', 'patient_id', 'disease', 'tumor_p16_status', 'tumor_site', 'pathologic_stage', 'pathological_node', 'sex', 'race', 'age', 'tobacco_use', 'alcohol_use', 'studyID', 'INFL_chemistry', 'INFL_technology', 'cell_barcode'\n",
      "    var: 'features'\n"
     ]
    },
    {
     "name": "stdout",
     "output_type": "stream",
     "text": [
      "32 samples\n",
      "\n",
      "Reading Zhang2023: Zhang_Gut_2023__HBV-HC.h5ad\n"
     ]
    },
    {
     "name": "stdout",
     "output_type": "stream",
     "text": [
      "Original object\n",
      "AnnData object with n_obs × n_vars = 140215 × 36601\n",
      "    obs: 'barcode', 'Accession', 'IndividualName', 'Gender', 'Age', 'ExperimentGroup', 'Disease', 'DiseaseStage', 'DiseaseStageName', 'RunAccession', 'SampleName', 'IndividualAccession', 'Tissue', 'sampleN', 'studyID', 'INFL_chemistry', 'INFL_technology', 'cell_barcode'\n",
      "    var: 'gene_name', 'hgnc_id', 'hgnc_symbol', 'locus_group'\n"
     ]
    },
    {
     "name": "stdout",
     "output_type": "stream",
     "text": [
      "23 samples\n",
      "\n",
      "Reading Schafflick2020: Schafflick_NatCommun_2020__MS-HC.h5ad\n"
     ]
    },
    {
     "name": "stdout",
     "output_type": "stream",
     "text": [
      "Original object\n",
      "AnnData object with n_obs × n_vars = 42969 × 33694\n",
      "    obs: 'orig.ident', 'nCount_RNA', 'nFeature_RNA', 'patient_id', 'disease', 'age', 'sex', 'X.stFLAIR', 'les', 'MRI', 'DIS.', 'Gd.', 'OCB', 'DIT....11', 'clinical', 'DIT....13', 'X.prior', 'rel', 'EDSS...16', 'X.DC', 'latest', 'FU', 'CDMS', 'X.FU...21', 'EDSS...22', 'X.FU...23', 'studyID', 'INFL_chemistry', 'INFL_technology', 'cell_barcode'\n",
      "    var: 'features'\n"
     ]
    },
    {
     "name": "stdout",
     "output_type": "stream",
     "text": [
      "10 samples\n",
      "\n",
      "Reading Liu2021: Liu_NatCommun_2021__NPC.h5ad\n"
     ]
    },
    {
     "name": "stdout",
     "output_type": "stream",
     "text": [
      "Original object\n",
      "AnnData object with n_obs × n_vars = 103791 × 36601\n",
      "    obs: 'barcode', 'sample_id', 'OldSampleID', 'Pathological diagnosis', 'EBERS hybridization', 'TNM stage (UICC/AJCC)', 'Metastasis', 'Collection', 'Last follow-up', 'Follow-up month', 'Prognosis of status', 'age', 'sex', 'Run', 'Age', 'BioProject', 'BioSample', 'disease', 'Experiment', 'Sample Name', 'source_name', 'subject/sample_id', 'tissue', 'studyID', 'INFL_chemistry', 'INFL_technology', 'cell_barcode'\n",
      "    var: 'gene_name', 'hgnc_id', 'hgnc_symbol', 'locus_group'\n"
     ]
    },
    {
     "name": "stdout",
     "output_type": "stream",
     "text": [
      "10 samples\n",
      "\n",
      "Reading Palshikar2022: Palshikar_SytBiolAppl_2022__HIV.h5ad\n"
     ]
    },
    {
     "name": "stdout",
     "output_type": "stream",
     "text": [
      "Original object\n",
      "AnnData object with n_obs × n_vars = 13787 × 33694\n",
      "    obs: 'orig.ident', 'nCount_RNA', 'nFeature_RNA', 'patient_id', 'cholesterol', 'HDL', 'Atherosclerosis.Status', 'sex', 'age', 'disease', 'ClusterName', 'studyID', 'INFL_chemistry', 'INFL_technology', 'cell_barcode'\n",
      "    var: 'features'\n"
     ]
    },
    {
     "name": "stdout",
     "output_type": "stream",
     "text": [
      "8 samples\n",
      "\n",
      "Reading Terekhova2023: Terekhova_Immunity_2023__HCaging.h5ad\n"
     ]
    },
    {
     "name": "stdout",
     "output_type": "stream",
     "text": [
      "Original object\n",
      "AnnData object with n_obs × n_vars = 2621452 × 36601\n",
      "    obs: 'barcode', 'libraryID', 'oldIndex', 'Tube_id', 'Donor_id', 'Sex', 'Age', 'studyID', 'INFL_chemistry', 'INFL_technology', 'cell_barcode'\n",
      "    var: 'gene_name', 'hgnc_id', 'hgnc_symbol', 'locus_group'\n"
     ]
    },
    {
     "name": "stdout",
     "output_type": "stream",
     "text": [
      "317 samples\n",
      "\n",
      "Reading Perez2022: Perez_Science_2022__SLE-HC.h5ad\n"
     ]
    },
    {
     "name": "stdout",
     "output_type": "stream",
     "text": [
      "Original object\n",
      "AnnData object with n_obs × n_vars = 1263670 × 36601\n",
      "    obs: 'library_id', 'oldIndex', 'ind_cov', 'cg_cov', 'ct_cov', 'L3', 'ind_cov_batch_cov', 'Age', 'Sex', 'pop_cov', 'Status', 'SLE_status', 'studyID', 'INFL_chemistry', 'INFL_technology', 'cell_barcode'\n",
      "    var: 'gene_name', 'hgnc_id', 'hgnc_symbol', 'locus_group'\n"
     ]
    },
    {
     "name": "stdout",
     "output_type": "stream",
     "text": [
      "274 samples\n",
      "\n",
      "Reading Ramachandran2019: Ramachandran_Nature_2019__cirrhosis.h5ad\n"
     ]
    },
    {
     "name": "stdout",
     "output_type": "stream",
     "text": [
      "Original object\n",
      "AnnData object with n_obs × n_vars = 30764 × 33694\n",
      "    obs: 'orig.ident', 'nCount_RNA', 'nFeature_RNA', 'patient_id', 'sample_name', 'disease', 'disease_subtype', 'sex', 'binned_age', 'studyID', 'INFL_chemistry', 'INFL_technology', 'cell_barcode'\n",
      "    var: 'features'\n"
     ]
    },
    {
     "name": "stdout",
     "output_type": "stream",
     "text": [
      "4 samples\n",
      "\n",
      "Reading Martin2019: Martin_Cell_2019__CD.h5ad\n"
     ]
    },
    {
     "name": "stdout",
     "output_type": "stream",
     "text": [
      "Original object\n",
      "AnnData object with n_obs × n_vars = 38849 × 33694\n",
      "    obs: 'orig.ident', 'nCount_RNA', 'nFeature_RNA', 'sample_id', 'patient_id', 'disease', 'studyID', 'INFL_chemistry', 'INFL_technology', 'cell_barcode'\n",
      "    var: 'features'\n"
     ]
    },
    {
     "name": "stdout",
     "output_type": "stream",
     "text": [
      "8 samples\n",
      "\n",
      "Reading Wang2020: Wang_EmergMicrobesInfect_2020__HIV-HC.h5ad\n"
     ]
    },
    {
     "name": "stdout",
     "output_type": "stream",
     "text": [
      "Original object\n",
      "AnnData object with n_obs × n_vars = 47037 × 36601\n",
      "    obs: 'barcode', 'PID', 'Age', 'Gender', 'Ethnicity', 'Duration of HIVinfection, years', 'Duration of viralsuppression*', 'ART regimen', 'Plasma HIV RNA(copies/mL)', 'Stage ofinfection', 'CD4+ count(cells/μL)', 'Elitecontrollers', 'studyID', 'INFL_chemistry', 'INFL_technology', 'cell_barcode'\n",
      "    var: 'gene_name', 'hgnc_id', 'hgnc_symbol', 'locus_group'\n"
     ]
    },
    {
     "name": "stdout",
     "output_type": "stream",
     "text": [
      "7 samples\n",
      "\n",
      "Reading Savage2021: Savage_iScience_2021__SLE-HC.h5ad\n"
     ]
    },
    {
     "name": "stdout",
     "output_type": "stream",
     "text": [
      "Original object\n",
      "AnnData object with n_obs × n_vars = 79608 × 33538\n",
      "    obs: 'GEOid', 'SampleID', 'DonorType', 'Age', 'Sex', 'Race', 'Treatment', 'SmokingStatus', 'studyID', 'INFL_chemistry', 'INFL_technology', 'cell_barcode'\n",
      "    var: 'gene_name', 'hgnc_id', 'hgnc_symbol', 'locus_group'\n"
     ]
    },
    {
     "name": "stdout",
     "output_type": "stream",
     "text": [
      "8 samples\n",
      "\n",
      "Reading Jiang2020: Jiang_JCIInsight_2020__sepsis.h5ad\n"
     ]
    },
    {
     "name": "stdout",
     "output_type": "stream",
     "text": [
      "Original object\n",
      "AnnData object with n_obs × n_vars = 26951 × 36601\n",
      "    obs: 'barcode', 'sample_id', 'patient_id', 'age', 'sex', 'sepsis', 'ARDS', 'PNA', 'PNA_pathogen', 'SOFA', 'TidalVolume(cc/kg)', 'PEEP', 'PlateauPressure', 'studyID', 'INFL_chemistry', 'INFL_technology', 'cell_barcode'\n",
      "    var: 'gene_name', 'hgnc_id', 'hgnc_symbol', 'locus_group'\n"
     ]
    },
    {
     "name": "stdout",
     "output_type": "stream",
     "text": [
      "7 samples\n",
      "\n",
      "Reading Mistry2019: Mistry_PNAS_2019__SLE.h5ad\n"
     ]
    },
    {
     "name": "stdout",
     "output_type": "stream",
     "text": [
      "Original object\n",
      "AnnData object with n_obs × n_vars = 24389 × 33694\n",
      "    obs: 'orig.ident', 'nCount_RNA', 'nFeature_RNA', 'disease', 'studyID', 'INFL_chemistry', 'INFL_technology', 'cell_barcode'\n",
      "    var: 'features'\n"
     ]
    },
    {
     "name": "stdout",
     "output_type": "stream",
     "text": [
      "3 samples\n",
      "\n",
      "Reading COMBAT2022: COMBAT_Cell_2022__COVID-Flu-Sepsis-HC.h5ad\n"
     ]
    },
    {
     "name": "stdout",
     "output_type": "stream",
     "text": [
      "Original object\n",
      "AnnData object with n_obs × n_vars = 836148 × 20615\n",
      "    obs: 'author_annotation_level_3', 'author_annotation_level_2', 'author_annotation_level_1', 'Annotation_cell_type', 'COMBAT_ID', 'sample_id', 'COMBAT_participant_timepoint_ID', 'COVID_severity', 'Age', 'Sex', 'Institute', 'batch', 'Channel_ID', 'age_bin', 'studyID', 'INFL_chemistry', 'INFL_technology', 'cell_barcode'\n",
      "    var: 'index', 'feature_types'\n",
      "    uns: 'Institute', 'ObjectCreateDate', 'Source_colors', 'Technology', 'genome_annotation_version'\n",
      "    obsm: 'X_umap', 'X_umap_source'\n",
      "    layers: 'raw'\n"
     ]
    },
    {
     "name": "stdout",
     "output_type": "stream",
     "text": [
      "140 samples\n",
      "\n",
      "Reading Ren2021: Ren_Cell_2021__COVID-HC.h5ad\n"
     ]
    },
    {
     "name": "stdout",
     "output_type": "stream",
     "text": [
      "Original object\n",
      "AnnData object with n_obs × n_vars = 451096 × 27714\n",
      "    obs: 'celltype', 'majorType', 'City', 'sampleID', 'donor_id', 'Sample type', 'CoVID-19 severity', 'Sample time', 'Sampling day (Days after symptom onset)', 'BCR single cell sequencing', 'TCR single cell sequencing', 'Outcome', 'Comorbidities', 'COVID-19-related medication and anti-microbials', 'Leukocytes [G over L]', 'Neutrophils [G over L]', 'Lymphocytes [G over L]', 'Unpublished', 'disease_ontology_term_id', 'cell_type_ontology_term_id', 'tissue_ontology_term_id', 'development_stage_ontology_term_id', 'self_reported_ethnicity_ontology_term_id', 'assay_ontology_term_id', 'sex_ontology_term_id', 'is_primary_data', 'organism_ontology_term_id', 'suspension_type', 'cell_type', 'assay', 'disease', 'organism', 'sex', 'tissue', 'self_reported_ethnicity', 'development_stage', 'Batches', 'Age', 'age_bin', 'COVID_severity_and_time', 'studyID', 'cell_barcode'\n",
      "    var: 'feature_is_filtered', 'feature_name', 'feature_reference', 'feature_biotype'\n",
      "    uns: 'neighbors', 'pca', 'schema_version', 'title'\n",
      "    obsm: 'X_pca', 'X_tsne', 'har_emb'\n",
      "    obsp: 'connectivities', 'distances'\n"
     ]
    },
    {
     "name": "stdout",
     "output_type": "stream",
     "text": [
      "85 samples\n",
      "\n",
      "Reading 10XGenomics: 10XGenomics_PBMC__HC.h5ad\n"
     ]
    },
    {
     "name": "stdout",
     "output_type": "stream",
     "text": [
      "Original object\n",
      "AnnData object with n_obs × n_vars = 91802 × 36601\n",
      "    obs: 'libraryID', 'patientID', 'binned_age', 'sex', 'chemistry', 'technology', 'cellrangerVersion', 'studyID', 'cell_barcode'\n",
      "    var: 'gene_symbol'\n"
     ]
    },
    {
     "name": "stdout",
     "output_type": "stream",
     "text": [
      "8 samples\n",
      "\n",
      "Done!\n"
     ]
    }
   ],
   "source": [
    "geneNameInfoDF = pd.DataFrame()\n",
    "adObjList = []\n",
    "ptMetadataList = []\n",
    "\n",
    "for i, row in datasetDF.iterrows():\n",
    "#for i, row in datasetDF.iloc[[dn]].iterrows():\n",
    "    # ------------------------------------------------------ COMMON ------------------------------------------------------------ #\n",
    "    studyID = row['studyID']\n",
    "\n",
    "    if row['dataSource'] == 'public':\n",
    "        file_path = os.path.join(here('00_data_processing/datasets/public_data/'), row['h5ad_FileName'])\n",
    "    elif row['dataSource'] == 'inhouse':\n",
    "        file_path = os.path.join(here('00_data_processing/datasets/inhouse_data/'), row['h5ad_FileName'])\n",
    "\n",
    "    print(f\"Reading {studyID}: {os.path.basename(file_path)}\")    \n",
    "\n",
    "    if os.path.exists(file_path):\n",
    "        adObj_i = ad.read_h5ad(file_path)\n",
    "    else:\n",
    "        print(f\"WARNING: skipped {os.path.basename(file_path)} because it doesn't exist. Please check!\")\n",
    "        print(\"\")\n",
    "        continue\n",
    "        \n",
    "    adObj_i.obs['studyID'] = studyID\n",
    "\n",
    "    # chemistry\n",
    "    if not row['chemistry'].startswith('mixed'):\n",
    "        adObj_i.obs['INFL_chemistry'] = row['chemistry']\n",
    "    if not row['technology'].startswith('mixed'):\n",
    "        adObj_i.obs['INFL_technology'] = row['technology']\n",
    "\n",
    "    # cell barcode\n",
    "    adObj_i.obs['cell_barcode'] = [re.findall(r'[ATCG]{16}', c)[0] for c in adObj_i.obs.index]\n",
    "\n",
    "    print(\"Original object\")\n",
    "    print(adObj_i)\n",
    "\n",
    "    # delete any of 'obsm', 'obsp', and 'uns' fields if present\n",
    "    del adObj_i.obsm\n",
    "    del adObj_i.obsp\n",
    "    del adObj_i.uns\n",
    "    \n",
    "    # --------------------------------------------- DATASET SPECIFIC ------------------------------------------------------------ #\n",
    "\n",
    "    if row['h5ad_FileName'] in ['INFLAMMATION_DOCTIS_week0_bothChemistry_merged.h5ad']:\n",
    "\n",
    "        # for consistency with other datasets\n",
    "        adObj_i.obs.rename({'chemistry':'INFL_chemistry'}, axis = 1, inplace=True)\n",
    "        adObj_i.obs['INFL_technology'] = adObj_i.obs['INFL_chemistry'].astype(str) + '_GenoHashed'\n",
    "\n",
    "        colLibraryID = 'gem_id'\n",
    "        colNamePatientID = 'demux_donor'\n",
    "        pIDpattern = '[^a-zA-Z0-9]+|00' # here we removed also 00 to make shorten the ID\n",
    "        add_project_ids(adata = adObj_i, studyID = studyID, library_id_col = colLibraryID, patient_id_col = colNamePatientID, pIDpattern = pIDpattern, repWith = '', regex = True) \n",
    "\n",
    "        # Only for this dataset we have to add chemistry info because many samples were sequenced with 3' AND 5' chemistry protocol (same library splitted in two)\n",
    "\n",
    "        # changing the sampleID\n",
    "        sID_chem = adObj_i.obs.INFL_sID.str.split('_T', expand=True)\n",
    "        adObj_i.obs['INFL_sID'] = sID_chem[0] + '.' + [ '3P' if c.startswith('3_') else '5P' for c in adObj_i.obs.INFL_chemistry.astype(str)] + '_T' + sID_chem[1]\n",
    "        \n",
    "        # changing the cellID\n",
    "        sID_chem = adObj_i.obs.reset_index()['cellID'].str.split('_', expand=True)\n",
    "        adObj_i.obs.reset_index(inplace=True)\n",
    "        adObj_i.obs['cellID'] = sID_chem[0] + '_' + sID_chem[1] + '_' + sID_chem[2] + '.' + [ '3P' if c.startswith('3_') else '5P' for c in adObj_i.obs.INFL_chemistry.astype(str)] + '_' + sID_chem[3] + '_' + sID_chem[4]\n",
    "        adObj_i.obs.set_index('cellID', inplace=True)\n",
    "\n",
    "        pMD_DF_i = adObj_i.obs[['INFL_pID', 'INFL_sID','timepoint_replicate', colNamePatientID, 'Disease', 'therapy', \n",
    "                                'Response', 'PersonalInformation.Sex', 'Birth.Donor.PresentAgeDonor','DerivedBMI',\n",
    "                                'TobaccoFrequency.CigarettesFrequency','TobaccoFrequency.CigarsFrequency','TobaccoFrequency.SmokingPipeFrequency'\n",
    "                               ]].drop_duplicates()\n",
    "        \n",
    "        # merging smoking information included in 'TobaccoFrequency.CigarettesFrequency', 'TobaccoFrequency.CigarsFrequency', and 'TobaccoFrequency.SmokingPipeFrequency'\n",
    "        # with the following logic: Daily > Occasionally > Never\n",
    "        # then, for combine this clinical features with other studies we performe the following change 'Daily' = 'yes', 'Never' = 'no'\n",
    "        smokingDF = pMD_DF_i[['TobaccoFrequency.CigarettesFrequency','TobaccoFrequency.CigarsFrequency',\n",
    "                              'TobaccoFrequency.SmokingPipeFrequency']].replace({'Never':0, 'Occasionally':1,'Daily':2, 'nan':np.nan}, inplace=False)\n",
    "        \n",
    "        smokingDF['smokingStatus'] = smokingDF.max(axis = 1)        \n",
    "        smokingDF.replace({0:'non-smoker',1:'occasionally',2:'smoker'}, inplace=True)  \n",
    "        pMD_DF_i['smokingStatus'] = smokingDF['smokingStatus']\n",
    "\n",
    "        pMD_DF_i['smokingStatus'] = pd.Categorical(pMD_DF_i['smokingStatus'], categories=['non-smoker', 'occasionally', 'smoker'], ordered=False)\n",
    "\n",
    "        \n",
    "        # selecting columns with patient metadata\n",
    "        pMD_DF_i.drop(['TobaccoFrequency.CigarettesFrequency','TobaccoFrequency.CigarsFrequency','TobaccoFrequency.SmokingPipeFrequency'], axis = 1, inplace = True)\n",
    "        \n",
    "        pMD_DF_i.rename(columns={'INFL_pID':'patientID', 'INFL_sID':'sampleID', colNamePatientID: 'old_sample_id', 'Disease':'disease', 'therapy':'treatmentStatus', \n",
    "                                'Response':'therapyResponse','PersonalInformation.Sex':'sex', 'Birth.Donor.PresentAgeDonor':'age','DerivedBMI':'BMI'}, inplace=True)\n",
    "\n",
    "    elif row['h5ad_FileName'] in ['INFLAMMATION_DOCTISvalidation_week0_merged.h5ad']:\n",
    "\n",
    "        colLibraryID = 'gem_id'\n",
    "        colNamePatientID = 'demux_donor'\n",
    "        pIDpattern = '[^a-zA-Z0-9]+|00' # here we removed also 00 to make shorten the ID\n",
    "        add_project_ids(adata = adObj_i, studyID = studyID, library_id_col = colLibraryID, patient_id_col = colNamePatientID, pIDpattern = pIDpattern, repWith = '', regex = True) \n",
    "        \n",
    "        pMD_DF_i = adObj_i.obs[['INFL_pID', 'INFL_sID','timepoint_replicate', colNamePatientID, 'Disease', 'therapy', \n",
    "                                'Response', 'Sex', 'Age','DerivedBMI','TobaccoFrequency.CigarettesFrequency','TobaccoFrequency.CigarsFrequency','TobaccoFrequency.SmokingPipeFrequency'\n",
    "                               ]].drop_duplicates()\n",
    "        \n",
    "        # merging smoking information included in 'TobaccoFrequency.CigarettesFrequency', 'TobaccoFrequency.CigarsFrequency', and 'TobaccoFrequency.SmokingPipeFrequency'\n",
    "        # with the following logic: Daily > Occasionally > Never\n",
    "        # then, for combine this clinical features with other studies we performe the following change 'Daily' = 'yes', 'Never' = 'no'\n",
    "        smokingDF = pMD_DF_i[['TobaccoFrequency.CigarettesFrequency','TobaccoFrequency.CigarsFrequency',\n",
    "                              'TobaccoFrequency.SmokingPipeFrequency']].replace({'Never':0, 'Occasionally':1,'Daily':2, 'nan':np.nan}, inplace=False)\n",
    "        \n",
    "        smokingDF['smokingStatus'] = smokingDF.max(axis = 1)        \n",
    "        smokingDF.replace({0:'non-smoker',1:'occasionally',2:'smoker'}, inplace=True)  \n",
    "        pMD_DF_i['smokingStatus'] = smokingDF['smokingStatus']\n",
    "        \n",
    "        pMD_DF_i['smokingStatus'] = pd.Categorical(pMD_DF_i['smokingStatus'], categories=['non-smoker', 'occasionally', 'smoker'], ordered=False)\n",
    "        \n",
    "        \n",
    "        # selecting columns with patient metadata\n",
    "        pMD_DF_i.drop(['TobaccoFrequency.CigarettesFrequency','TobaccoFrequency.CigarsFrequency','TobaccoFrequency.SmokingPipeFrequency'], axis = 1, inplace = True)\n",
    "        \n",
    "        pMD_DF_i.rename(columns={'INFL_pID':'patientID', 'INFL_sID':'sampleID', colNamePatientID: 'old_sample_id', 'Disease':'disease', 'therapy':'treatmentStatus', \n",
    "                                'Response':'therapyResponse','Sex':'sex', 'Age':'age','DerivedBMI':'BMI'}, inplace=True)\n",
    "\n",
    "    elif row['h5ad_FileName'] in ['INFLAMMATION_EXERCISEHC_merged.h5ad']:\n",
    "\n",
    "        colLibraryID = 'gem_id'\n",
    "        colNamePatientID = 'demux_donor'\n",
    "        pIDpattern = '[^a-zA-Z1-9]+' # here we removed also all 0 character to shorten the ID\n",
    "        add_project_ids(adata = adObj_i, studyID = studyID, library_id_col = colLibraryID, patient_id_col = colNamePatientID, pIDpattern = pIDpattern, repWith = '', regex = True) \n",
    "        \n",
    "        # selecting columns with patient metadata\n",
    "        pMD_DF_i = adObj_i.obs[['INFL_pID', 'INFL_sID', 'timepoint_replicate', colNamePatientID, 'age', 'sex', 'exercise_status']].drop_duplicates()\n",
    "        pMD_DF_i.rename(columns={'INFL_pID':'patientID', 'INFL_sID':'sampleID', colNamePatientID: 'old_sample_id', 'age': 'binned_age', 'exercise_status':'diseaseStatus'}, inplace=True)\n",
    "        pMD_DF_i['disease'] = 'Healthy'\n",
    "\n",
    "    elif row['h5ad_FileName'] in ['INFLAMMATION_BRCA_time0_merged.h5ad']:\n",
    "        \n",
    "        colLibraryID = 'gem_id'\n",
    "        colNamePatientID = 'donor_id'\n",
    "        pIDpattern = '[^a-zA-Z0-9]+' \n",
    "        add_project_ids(adata = adObj_i, studyID = studyID, library_id_col = colLibraryID, patient_id_col = colNamePatientID, pIDpattern = pIDpattern, repWith = '', regex = True) \n",
    "        \n",
    "        # selecting columns with patient metadata\n",
    "        pMD_DF_i = adObj_i.obs[['INFL_pID', 'INFL_sID', 'timepoint_replicate', colNamePatientID, 'sex', 'age']].drop_duplicates()\n",
    "        pMD_DF_i.rename(columns={'INFL_pID':'patientID', 'INFL_sID':'sampleID', colNamePatientID: 'old_sample_id'}, inplace=True)\n",
    "        pMD_DF_i['disease'] = 'BRCA'\n",
    "\n",
    "    elif row['h5ad_FileName'] in ['INFLAMMATION_ASTHMA-COPD-HC_merged.h5ad']:\n",
    "\n",
    "        colLibraryID = 'gem_id'\n",
    "        colNamePatientID = 'demux_donor'\n",
    "        pIDpattern = '[^a-zA-Z0-9]+' \n",
    "        add_project_ids(adata = adObj_i, studyID = studyID, library_id_col = colLibraryID, patient_id_col = colNamePatientID, pIDpattern = pIDpattern, repWith = '', regex = True) \n",
    "\n",
    "        # We are generating a new column called 'diseaseStatus' to represent the status of the disease. \n",
    "        # For doing this: we aggregate the values in following columns ['GINA.step', 'GOLD'] adding the prefix to each value\n",
    "        # np.nan -> na\n",
    "        GINA = np.array(['GINA_{}'.format(g) if g != 'NA' else 'NA' for g in adObj_i.obs['GINA.step']])\n",
    "        GOLD = np.array(['GOLD_{}'.format(g) if g != 'NA' else 'NA' for g in adObj_i.obs['GOLD']])\n",
    "        GINA[GINA=='NA'] = GOLD[GINA=='NA']\n",
    "        \n",
    "        adObj_i.obs['diseaseStatus'] = GINA\n",
    "\n",
    "        # we used the height and weight info to compute the BMI as weight[kg] / (height[m] ^ 2)\n",
    "\n",
    "        adObj_i.obs['BMI'] = adObj_i.obs['weight'] / ((adObj_i.obs['height'] / 100)**2)\n",
    "\n",
    "        # selecting columns with patient metadata\n",
    "        pMD_DF_i = adObj_i.obs[['INFL_pID',  'INFL_sID', colNamePatientID, 'Gender', 'age', 'disease', 'therapy', 'smoking', 'height', 'weight','BMI','diseaseStatus',\n",
    "                                'rhinitis', 'hayfever', 'eczema', 'leukocytes_blood','neutrophils_blood', 'lymphocytes_blood', 'monocytes_blood','eosinophils_blood']].drop_duplicates()\n",
    "        pMD_DF_i.rename(columns={'INFL_pID':'patientID', 'INFL_sID':'sampleID', colNamePatientID: 'old_sample_id', 'Gender': 'sex', 'therapy':'treatmentStatus', 'smoking':'smokingStatus'}, inplace=True)\n",
    "        pMD_DF_i = pMD_DF_i.replace('NA', np.nan)\n",
    "\n",
    "\n",
    "    elif row['h5ad_FileName'] in ['INFLAMMATION_CIRRHOSIS_merged.h5ad']:\n",
    "        \n",
    "        colLibraryID = 'gem_id'\n",
    "        colNamePatientID = 'donor_id'\n",
    "        pIDpattern = '[^a-zA-Z0-9]+' \n",
    "        add_project_ids(adata = adObj_i, studyID = studyID, library_id_col = colLibraryID, patient_id_col = colNamePatientID, pIDpattern = pIDpattern, repWith = '', regex = True) \n",
    "\n",
    "        # selecting columns with patient metadata\n",
    "        pMD_DF_i = adObj_i.obs[['INFL_pID', 'INFL_sID', 'timepoint_replicate', colNamePatientID, 'disease', 'sex', 'age', 'disease_subtype']].drop_duplicates()\n",
    "        pMD_DF_i.rename(columns={'INFL_pID':'patientID', 'INFL_sID':'sampleID', colNamePatientID: 'old_sample_id', 'disease_subtype':'diseaseStatus'}, inplace=True)\n",
    "\n",
    "        # The dataset was generated by spanish people. So, sex definitions are M = Mujer and H = Hombre.\n",
    "        # To avoid any problems while merging the metadata we are replacing value here.\n",
    "        pMD_DF_i['sex'].replace({'M':'female','H':'male'}, inplace = True) \n",
    "    \n",
    "    elif row['h5ad_FileName'] in ['INFLAMMATION_CRC_merged.h5ad']:\n",
    "\n",
    "        colLibraryID = 'patient_id' #each patient where sequenced in a specific library. So the same column is used for both\n",
    "        colNamePatientID = 'patient_id'\n",
    "        pIDpattern = '[^a-zA-Z0-9]+' \n",
    "        add_project_ids(adata = adObj_i, studyID = studyID, library_id_col = colLibraryID, patient_id_col = colNamePatientID, pIDpattern = pIDpattern, repWith = '', regex = True) \n",
    "        \n",
    "        # selecting columns with patient metadata\n",
    "        # IMPORTANT: This dataset, has 2 patients sampled at 4 timepoints - then, patient metadata only has general information\n",
    "        pMD_DF_i = adObj_i.obs[['INFL_pID', 'INFL_sID', 'timepoint_replicate', colNamePatientID, 'Age', 'Sex', 'MSI.status', 'disease', 'Additional.info']].drop_duplicates()\n",
    "        pMD_DF_i.rename(columns={'INFL_pID':'patientID', 'INFL_sID':'sampleID', colNamePatientID: 'old_sample_id', 'Age': 'age', 'Sex': 'sex', 'MSI.status':'diseaseStatus'}, inplace=True)\n",
    "\n",
    "    elif row['h5ad_FileName'] in ['INFLAMMATION_COVID-HC_merged.h5ad']:\n",
    "\n",
    "        colLibraryID = 'gem_id' #each patient where sequenced in a specific library. So the same column is used for both\n",
    "        colNamePatientID = 'demux_donor'\n",
    "        pIDpattern = '[^a-zA-Z0-9]+' \n",
    "        add_project_ids(adata = adObj_i, studyID = studyID, library_id_col = colLibraryID, patient_id_col = colNamePatientID, pIDpattern = pIDpattern, repWith = '', regex = True) \n",
    "        \n",
    "        pMD_DF_i = adObj_i.obs[['INFL_pID', 'INFL_sID', 'timepoint_replicate', colNamePatientID, 'age', 'sex', 'disease_status', 'disease']].drop_duplicates()\n",
    "        pMD_DF_i.rename(columns={'INFL_pID':'patientID', 'INFL_sID':'sampleID', colNamePatientID: 'old_sample_id', 'disease_status':'diseaseStatus'}, inplace=True)\n",
    "                                  \n",
    "    elif row['h5ad_FileName'] in ['INFLAMMATION_COVID-HC_merged.h5ad']:\n",
    "        # this dataset doesn't exist yet. \n",
    "        continue\n",
    "    \n",
    "    elif row['h5ad_FileName'] in ['Reyes_NatMed_2020__Sepsis-HC.h5ad']:\n",
    "        # Extracting library information from single-cell barcode\n",
    "        adObj_i.obs['library_suffix'] = adObj_i.obs.reset_index()['index'].str.split('-', expand=True).loc[:,1].tolist()\n",
    "\n",
    "        colLibraryID = 'library_suffix' \n",
    "        colNamePatientID = 'donor_id'\n",
    "        pIDpattern = '[^a-zA-Z0-9]+' \n",
    "        add_project_ids(adata = adObj_i, studyID = studyID, library_id_col = colLibraryID, patient_id_col = colNamePatientID, timepointColID = None, pIDpattern = pIDpattern, repWith = '', regex = True)     \n",
    "        \n",
    "        # selecting columns with patient metadata\n",
    "        pMD_DF_i = adObj_i.obs[['INFL_pID', 'INFL_sID', 'timepoint_replicate', colNamePatientID, 'binned_age', 'Age', 'Sex', 'Cohort']].drop_duplicates()\n",
    "        \n",
    "        pMD_DF_i['disease'] = 'sepsis'\n",
    "        pMD_DF_i.loc[pMD_DF_i.Cohort == 'Control','disease'] = 'healthy'\n",
    "        \n",
    "        pMD_DF_i.rename(columns={'INFL_pID':'patientID', 'INFL_sID':'sampleID', colNamePatientID: 'old_sample_id','Age':'age', 'Sex':'sex','Cohort':'diseaseStatus'}, inplace=True)     \n",
    "    \n",
    "    elif row['h5ad_FileName'] in ['Cillo_Immunity_2020__HNSCC-HC.h5ad']:\n",
    "\n",
    "        colLibraryID = 'patient_id' #each patient where sequenced in a specific library. So the same column is used for both\n",
    "        colNamePatientID = 'patient_id'\n",
    "        pIDpattern = '[^a-zA-Z0-9]+' \n",
    "        add_project_ids(adata = adObj_i, studyID = studyID, library_id_col = colLibraryID, patient_id_col = colNamePatientID, pIDpattern = pIDpattern, repWith = '', regex = True) \n",
    "\n",
    "        # selecting columns with patient metadata\n",
    "        pMD_DF_i = adObj_i.obs[['INFL_pID', 'INFL_sID', 'timepoint_replicate', colNamePatientID, 'disease','tumor_p16_status','pathologic_stage','sex','age','tobacco_use','race']].drop_duplicates()\n",
    "        pMD_DF_i['tobacco_use'] = pMD_DF_i['tobacco_use'].str.lower()\n",
    "        \n",
    "        pMD_DF_i['diseaseStatus'] = pMD_DF_i[['pathologic_stage','tumor_p16_status']].apply(lambda row: '_'.join(row.values.astype(str)), axis=1).replace({'NA_NA':'healthy'})\n",
    "        \n",
    "                \n",
    "        pMD_DF_i = pMD_DF_i.drop(['pathologic_stage','tumor_p16_status'], axis = 1).rename(columns={'INFL_pID':'patientID',\n",
    "                                                                                                    'INFL_sID':'sampleID',\n",
    "                                                                                                    colNamePatientID: 'old_sample_id',\n",
    "                                                                                                    'tobacco_use':'smokingStatus',\n",
    "                                                                                                    'race':'ethnicity'}, inplace=False) \n",
    "\n",
    "        \n",
    "    elif row['h5ad_FileName'] in ['Zhang_Gut_2023__HBV-HC.h5ad']:\n",
    "\n",
    "        colLibraryID = 'SampleName' \n",
    "        colNamePatientID = 'IndividualName'\n",
    "        timepointColID = 'sampleN'\n",
    "        pIDpattern = '[^a-zA-Z0-9]+' \n",
    "        \n",
    "        add_project_ids(adata = adObj_i, studyID = studyID, library_id_col = colLibraryID, patient_id_col = colNamePatientID, timepointColID = timepointColID, pIDpattern = pIDpattern, repWith = '', regex = True) \n",
    "        \n",
    "        # selecting columns with patient metadata\n",
    "        pMD_DF_i = adObj_i.obs[['INFL_pID', 'INFL_sID', 'timepoint_replicate', colNamePatientID, 'Disease', 'Gender', 'ExperimentGroup', 'DiseaseStageName', 'Age', 'sampleN', 'majorCluster', 'subCluster']].drop_duplicates()\n",
    "        pMD_DF_i['diseaseStatus'] = pMD_DF_i[['Disease','DiseaseStageName']].apply(lambda row: '_'.join(row.values.astype(str)), axis=1).replace({'HC_nan':'healthy'})\n",
    "        pMD_DF_i = pMD_DF_i.drop(['ExperimentGroup','DiseaseStageName','sampleN'], axis=1).rename(columns={'INFL_pID':'patientID', 'INFL_sID':'sampleID', colNamePatientID: 'old_sample_id',\n",
    "                                                                                                           'Gender':'sex', 'Age':'age', 'Disease':'disease'}, inplace=False)\n",
    "\n",
    "    elif row['h5ad_FileName'] in ['Schafflick_NatCommun_2020__MS-HC.h5ad']:\n",
    "\n",
    "        colLibraryID = 'orig.ident' \n",
    "        colNamePatientID = 'patient_id'\n",
    "        pIDpattern = '[^a-zA-Z0-9]+' \n",
    "        add_project_ids(adata = adObj_i, studyID = studyID, library_id_col = colLibraryID, patient_id_col = colNamePatientID, pIDpattern = pIDpattern, repWith = '', regex = True) \n",
    "\n",
    "        adObj_i.obs['flair'] = 'flair_' + adObj_i.obs['X.stFLAIR']\n",
    "\n",
    "        # selecting columns with patient metadata\n",
    "        pMD_DF_i = adObj_i.obs[['INFL_pID', 'INFL_sID', 'timepoint_replicate', colNamePatientID,'disease', 'age', 'sex', 'flair']].drop_duplicates()\n",
    "        pMD_DF_i.rename(columns={'INFL_pID':'patientID', 'INFL_sID':'sampleID', colNamePatientID: 'old_sample_id', 'flair':'diseaseStatus'}, inplace=True)         \n",
    "\n",
    "    elif row['h5ad_FileName'] in ['Liu_NatCommun_2021__NPC.h5ad']:\n",
    "\n",
    "        colLibraryID = 'Experiment' \n",
    "        colNamePatientID = 'subject/sample_id'\n",
    "        adObj_i.obs[colNamePatientID] = adObj_i.obs[colNamePatientID].astype(str)\n",
    "        pIDpattern = '[^a-zA-Z0-9]+' \n",
    "        add_project_ids(adata = adObj_i, studyID = studyID, library_id_col = colLibraryID, patient_id_col = colNamePatientID, pIDpattern = pIDpattern, repWith = '', regex = True) \n",
    "\n",
    "        # selecting columns with patient metadata\n",
    "        pMD_DF_i = adObj_i.obs[['INFL_pID', 'INFL_sID', 'timepoint_replicate', colNamePatientID,'disease', 'age', 'sex', 'TNM stage (UICC/AJCC)']].drop_duplicates()\n",
    "        pMD_DF_i.rename(columns={'INFL_pID':'patientID', 'INFL_sID':'sampleID', colNamePatientID: 'old_sample_id', 'TNM stage (UICC/AJCC)':'diseaseStatus'}, inplace=True) \n",
    "\n",
    "    elif row['h5ad_FileName'] in ['Palshikar_SytBiolAppl_2022__HIV.h5ad']:\n",
    "\n",
    "        colLibraryID = 'orig.ident' # The 8 samples were multiplexed into a single library, so same library ID for all (unique orig.ident here)\n",
    "        colNamePatientID = 'patient_id'\n",
    "        # Here we are replacing Participant. with P\n",
    "        pIDpattern = 'Participant.' \n",
    "        repWith = 'P0'\n",
    "        add_project_ids(adata = adObj_i, studyID = studyID, library_id_col = colLibraryID, patient_id_col = colNamePatientID, pIDpattern = pIDpattern, repWith = repWith, regex = False)  \n",
    "\n",
    "        # selecting columns with patient metadata\n",
    "        # IMPORTANT: This dataset, has 2 patients sampled at 4 timepoints - then, patient metadata only has general information\n",
    "        pMD_DF_i = adObj_i.obs[['INFL_pID', 'INFL_sID', 'timepoint_replicate', colNamePatientID, 'age', 'sex', 'disease']].drop_duplicates()\n",
    "        pMD_DF_i.rename(columns={'INFL_pID':'patientID', 'INFL_sID':'sampleID', colNamePatientID: 'old_sample_id', 'age':'binned_age'}, inplace=True)\n",
    "    \n",
    "    elif row['h5ad_FileName'] in ['Terekhova_Immunity_2023__HCaging.h5ad']:\n",
    "\n",
    "        # renaming index\n",
    "        adObj_i.obs = adObj_i.obs.reset_index().rename({'newIndex':'index'}, axis=1).set_index('index')\n",
    "        \n",
    "        colLibraryID = 'libraryID' \n",
    "        colNamePatientID = 'Donor_id'\n",
    "        timepointColID = 'Tube_id'\n",
    "        pIDpattern = '[^a-zA-Z0-9]+' \n",
    "        add_project_ids(adata = adObj_i, studyID = studyID, library_id_col = colLibraryID, patient_id_col = colNamePatientID, timepointColID=timepointColID, pIDpattern = pIDpattern, repWith = '', regex = True) \n",
    "\n",
    "        adObj_i.obs['disease'] = 'healthy'\n",
    "        adObj_i.obs['diseaseStatus'] = 'healthy'\n",
    "        \n",
    "        # selecting columns with patient metadata\n",
    "        pMD_DF_i = adObj_i.obs[['INFL_pID', 'INFL_sID', 'timepoint_replicate', colNamePatientID, 'Age', 'Sex','disease','diseaseStatus', 'Cluster_names']].drop_duplicates()\n",
    "        pMD_DF_i.rename(columns={'INFL_pID':'patientID', 'INFL_sID':'sampleID', colNamePatientID: 'old_sample_id', 'Age':'age', 'Sex':'sex'}, inplace=True)\n",
    "\n",
    "\n",
    "    elif row['h5ad_FileName'] in ['Perez_Science_2022__SLE-HC.h5ad']:\n",
    "        # renaming index\n",
    "        \n",
    "        adObj_i.obs = adObj_i.obs.reset_index().rename({'newIndex':'index'}, axis=1).set_index('index')\n",
    "\n",
    "        adObj_i.obs['age_status'] = adObj_i.obs[['Age', 'Status']].apply(lambda row: '_'.join(row.values.astype(str)), axis=1)\n",
    "        \n",
    "        colLibraryID = 'library_id' \n",
    "        colNamePatientID = 'ind_cov'\n",
    "        timepointColID = 'age_status'\n",
    "        pIDpattern = '[^a-zA-Z0-9]+' \n",
    "        add_project_ids(adata = adObj_i, studyID = studyID, library_id_col = colLibraryID, patient_id_col = colNamePatientID, timepointColID=timepointColID, pIDpattern = pIDpattern, repWith = '', regex = True)       \n",
    "\n",
    "        # selecting columns with patient metadata\n",
    "        pMD_DF_i = adObj_i.obs[['INFL_pID', 'INFL_sID', 'timepoint_replicate', colNamePatientID, 'Age', 'Sex', 'SLE_status', 'Status', 'pop_cov']].drop_duplicates()\n",
    "        pMD_DF_i.rename(columns={'INFL_pID':'patientID', 'INFL_sID':'sampleID', colNamePatientID:'old_sample_id', 'Age':'age', \n",
    "                                 'Sex':'sex', 'SLE_status':'disease', 'Status':'diseaseStatus', 'pop_cov':'ethnicity'}, inplace=True)\n",
    "\n",
    "    elif row['h5ad_FileName'] in ['Ramachandran_Nature_2019__cirrhosis.h5ad']:\n",
    "\n",
    "        colLibraryID = 'patient_id' \n",
    "        colNamePatientID = 'sample_name'\n",
    "        # Replacing Blood with P0 for the patient ID\n",
    "        pIDpattern = '[^a-zA-Z0-9]+|Blood' \n",
    "        repWith = 'P0'\n",
    "        add_project_ids(adata = adObj_i, studyID = studyID, library_id_col = colLibraryID, patient_id_col = colNamePatientID, pIDpattern = pIDpattern, repWith = repWith, regex = True)\n",
    "        \n",
    "        # selecting columns with patient metadata\n",
    "        pMD_DF_i = adObj_i.obs[['INFL_pID', 'INFL_sID', 'timepoint_replicate', colNamePatientID, 'binned_age', 'sex', 'disease', 'disease_subtype']].drop_duplicates()\n",
    "        pMD_DF_i.rename(columns={'INFL_pID':'patientID', 'INFL_sID':'sampleID', colNamePatientID: 'old_sample_id', 'disease_subtype':'diseaseStatus'}, inplace=True)\n",
    "    \n",
    "    elif row['h5ad_FileName'] in ['Martin_Cell_2019__CD.h5ad']:\n",
    "\n",
    "        colLibraryID = 'orig.ident' \n",
    "        colNamePatientID = 'patient_id'\n",
    "        pIDpattern = '[^a-zA-Z0-9]+' \n",
    "        add_project_ids(adata = adObj_i, studyID = studyID, library_id_col = colLibraryID, patient_id_col = colNamePatientID, pIDpattern = pIDpattern, repWith = '', regex = True)     \n",
    "        \n",
    "        # selecting columns with patient metadata\n",
    "        pMD_DF_i = adObj_i.obs[['INFL_pID', 'INFL_sID', 'timepoint_replicate', colNamePatientID, 'disease']].drop_duplicates()\n",
    "        pMD_DF_i['sex'] = 'na'\n",
    "        pMD_DF_i.rename(columns={'INFL_pID':'patientID', 'INFL_sID':'sampleID', colNamePatientID: 'old_sample_id'}, inplace=True)\n",
    "    \n",
    "    elif row['h5ad_FileName'] in ['Wang_EmergMicrobesInfect_2020__HIV-HC.h5ad']:\n",
    "    \t\n",
    "        colLibraryID = 'PID' \n",
    "        colNamePatientID = 'PID'\n",
    "        pIDpattern = '[^a-zA-Z0-9]+' \n",
    "        add_project_ids(adata = adObj_i, studyID = studyID, library_id_col = colLibraryID, patient_id_col = colNamePatientID, pIDpattern = pIDpattern, repWith = '', regex = True)\n",
    "        \n",
    "        # selecting columns with patient metadata\n",
    "        pMD_DF_i = adObj_i.obs[['INFL_pID', 'INFL_sID', 'timepoint_replicate', colNamePatientID, 'Age', 'Gender', 'Ethnicity','ART regimen','Stage ofinfection']].drop_duplicates()\n",
    "        pMD_DF_i.rename(columns={'INFL_pID':'patientID', 'INFL_sID':'sampleID', \n",
    "                                 colNamePatientID:'old_sample_id', 'Age':'age', 'Gender':'sex', \n",
    "                                 'Ethnicity':'ethnicity', 'Stage ofinfection':'diseaseStatus'}, inplace=True)\n",
    "\n",
    "        # adding disease information\n",
    "        pMD_DF_i['disease'] = 'HIV'\n",
    "        pMD_DF_i.loc[pMD_DF_i.old_sample_id.str.startswith('H'),'disease'] = 'Healthy' \n",
    "        pMD_DF_i['diseaseStatus'] = pMD_DF_i['diseaseStatus'].astype(str)\n",
    "        pMD_DF_i.loc[pMD_DF_i.old_sample_id.str.startswith('H'),'diseaseStatus'] = 'Healthy' \n",
    "\n",
    "        # adding treatment status. here we considered as 'under' treatment patient with a therapy specified in 'ART regimen', 'naive' otherwise\n",
    "        pMD_DF_i['treatmentStatus'] = 'under'\n",
    "        pMD_DF_i.loc[pMD_DF_i['ART regimen'] == '–','treatmentStatus'] = 'naive'\n",
    "        pMD_DF_i.drop('ART regimen', axis = 1, inplace = True)\n",
    "\n",
    "    elif row['h5ad_FileName'] in ['Savage_iScience_2021__SLE-HC.h5ad']:\n",
    "\n",
    "        colLibraryID = 'GEOid' \n",
    "        colNamePatientID = 'SampleID'\n",
    "        pIDpattern = '[^a-zA-Z0-9]+' \n",
    "        add_project_ids(adata = adObj_i, studyID = studyID, library_id_col = colLibraryID, patient_id_col = colNamePatientID, pIDpattern = pIDpattern, repWith = '', regex = True)\n",
    "\n",
    "        # selecting columns with patient metadata\n",
    "        pMD_DF_i = adObj_i.obs[['INFL_pID', 'INFL_sID', 'timepoint_replicate', colNamePatientID, 'Age', 'Sex',\n",
    "                                'Race', 'DonorType', 'Treatment', 'SmokingStatus']].drop_duplicates()\n",
    "        \n",
    "        # adding treatment status. here we considered as 'under' treatment patient with 'yes' in 'Treatment' and 'naive' the others (NaN value)     \n",
    "        pMD_DF_i['Treatment'] = pMD_DF_i['Treatment'].astype(str)\n",
    "        pMD_DF_i.Treatment.replace({'yes':'under', 'nan':'naive'}, inplace=True) \n",
    "\n",
    "        # renaming columns for consistency\n",
    "        pMD_DF_i.rename(columns={'INFL_pID':'patientID', 'INFL_sID':'sampleID', colNamePatientID: 'old_sample_id', 'Age':'age', 'Sex':'sex', \n",
    "                                 'Race':'ethnicity', 'DonorType':'disease', 'Treatment':'treatmentStatus', \n",
    "                                 'SmokingStatus':'smokingStatus'}, inplace=True)     \n",
    "        \n",
    "    \n",
    "    elif row['h5ad_FileName'] in ['Jiang_JCIInsight_2020__sepsis.h5ad']:\n",
    "        colLibraryID = 'sample_id' \n",
    "        colNamePatientID = 'patient_id'\n",
    "        pIDpattern = '[^a-zA-Z0-9]+' \n",
    "        add_project_ids(adata = adObj_i, studyID = studyID, library_id_col = colLibraryID, patient_id_col = colNamePatientID, pIDpattern = pIDpattern, repWith = '', regex = True)     \n",
    "        \n",
    "        # selecting columns with patient metadata\n",
    "        pMD_DF_i = adObj_i.obs[['INFL_pID', 'INFL_sID', 'timepoint_replicate', colNamePatientID, 'age', 'sex', 'ARDS']].drop_duplicates()\n",
    "        pMD_DF_i['disease'] = 'sepsis'\n",
    "        pMD_DF_i['diseaseStatus'] = ['ARDS' if s == 'Yes' else 'PNA' for s in pMD_DF_i.ARDS]\n",
    "        \n",
    "        pMD_DF_i = pMD_DF_i.drop('ARDS',axis=1).rename(columns={'INFL_pID':'patientID', 'INFL_sID':'sampleID', colNamePatientID:'old_sample_id'}, inplace=False)\n",
    "    \n",
    "    elif row['h5ad_FileName'] in ['Mistry_PNAS_2019__SLE.h5ad']: # NO SEX OR AGE AVAILABLE FOR THIS DATASET\n",
    "        colLibraryID = 'orig.ident' \n",
    "        colNamePatientID = 'orig.ident'\n",
    "        pIDpattern = '[^a-zA-Z0-9]+' \n",
    "        add_project_ids(adata = adObj_i, studyID = studyID, library_id_col = colLibraryID, patient_id_col = colNamePatientID, pIDpattern = pIDpattern, repWith = '', regex = True)     \n",
    "\n",
    "        # selecting columns with patient metadata\n",
    "        pMD_DF_i = adObj_i.obs[['INFL_pID', 'INFL_sID', 'timepoint_replicate', colNamePatientID, 'disease']].drop_duplicates()\n",
    "        pMD_DF_i.rename(columns={'INFL_pID':'patientID', 'INFL_sID':'sampleID', colNamePatientID: 'old_sample_id'}, inplace=True)    \n",
    "        \n",
    "    elif row['h5ad_FileName'] in ['COMBAT_Cell_2022__COVID-Flu-Sepsis-HC.h5ad']:\n",
    "\n",
    "        # restoring the raw counts and deleting the layer\n",
    "        adObj_i.X = adObj_i.layers[\"raw\"].copy()\n",
    "        adObj_i.layers = None\n",
    "        \n",
    "        colLibraryID = 'Channel_ID' \n",
    "        colNamePatientID = 'COMBAT_ID'\n",
    "        timepointColID = 'COMBAT_participant_timepoint_ID'\n",
    "        pIDpattern = '[^a-zA-Z0-9]+' \n",
    "        add_project_ids(adata = adObj_i, studyID = studyID, library_id_col = colLibraryID, patient_id_col = colNamePatientID, timepointColID = timepointColID, pIDpattern = pIDpattern, repWith = '', regex = True)\n",
    "\n",
    "        # selecting columns with patient metadata\n",
    "        pMD_DF_i = adObj_i.obs[['INFL_pID', 'INFL_sID', 'timepoint_replicate', colNamePatientID, 'age_bin', 'COVID_severity', 'Sex', 'Institute']].drop_duplicates()\n",
    "        pMD_DF_i['disease'] = pMD_DF_i['COVID_severity']\n",
    "        pMD_DF_i['disease'].replace({'COVID_SEV':'COVID', 'COVID_MILD':'COVID', 'COVID_HCW_MILD':'COVID', 'COVID_CRIT':'COVID', 'COVID_LDN':'COVID', 'Sepsis':'sepsis', 'HV':'healthy', 'Flu':'flu'}, inplace=True)\n",
    "\n",
    "        # # we are adding the information about the timepoint, armonizing the values\n",
    "        # pMD_DF_i['timepoint_replicate'] = pMD_DF_i.sort_values(['COMBAT_participant_timepoint_ID', 'COMBAT_ID']).groupby(['COMBAT_ID']).cumcount()\n",
    "        # # ... transfering back to the cell metadata timepoint_replicate annotation\n",
    "        # adObj_i.obs = adObj_i.obs.merge(pMD_DF_i[['donor_id','Sampling day (Days after symptom onset)','timepoint_replicate']], on = ['donor_id','Sampling day (Days after symptom onset)'])\n",
    "        \n",
    "        pMD_DF_i.rename(columns={'INFL_pID':'patientID', 'INFL_sID':'sampleID', colNamePatientID:'old_sample_id','age_bin':'binned_age','Sex':'sex','Institute':'institute','COVID_severity':'diseaseStatus'}, inplace=True)\n",
    "        \n",
    "    \n",
    "    elif row['h5ad_FileName'] in ['Ren_Cell_2021__COVID-HC.h5ad']:\n",
    "\n",
    "        # restoring RAW data\n",
    "        adObj_i.X = adObj_i.raw.X.copy()\n",
    "        del adObj_i.raw\n",
    "        \n",
    "        # recovering the library information\n",
    "        colLibraryID = 'sampleID' \n",
    "        colNamePatientID = 'donor_id'\n",
    "        timepointColID = 'Sampling day (Days after symptom onset)'\n",
    "        pIDpattern = '[^a-zA-Z0-9]+' \n",
    "        add_project_ids(adata = adObj_i, studyID = studyID, library_id_col = colLibraryID, patient_id_col = colNamePatientID, timepointColID = timepointColID, pIDpattern = pIDpattern, repWith = '', regex = True)     \n",
    "\n",
    "        adObj_i.obs['INFL_chemistry'] = adObj_i.obs.assay.replace({\"10x 3' v3\":\"3_GEX_V3\",\"10x 5' v2\":\"5_GEX_V2\"})\n",
    "        adObj_i.obs['INFL_technology'] = adObj_i.obs.assay.replace({\"10x 3' v3\":\"3_GEX_V3\",\"10x 5' v2\":\"5_GEX_V2\"})\n",
    "\n",
    "        # selecting columns with patient metadata\n",
    "        pMD_DF_i = adObj_i.obs[['INFL_pID', 'INFL_sID', 'timepoint_replicate', colNamePatientID, 'City','Age','age_bin','sex','COVID_severity_and_time',\n",
    "                                'COVID-19-related medication and anti-microbials']].drop_duplicates()\n",
    "        pMD_DF_i['disease'] = 'COVID'\n",
    "        pMD_DF_i['COVID_severity_and_time'].replace({'control_control':'healthy'},inplace=True)\n",
    "        pMD_DF_i.loc[pMD_DF_i.COVID_severity_and_time == 'healthy','disease'] = 'healthy'\n",
    "        \n",
    "        # adding treatment status. here we considered as 'under' treatment patient with a therapy specified in 'ART regimen', 'naive' otherwise\n",
    "        pMD_DF_i['treatmentStatus'] = 'under'\n",
    "        pMD_DF_i.loc[pMD_DF_i['COVID-19-related medication and anti-microbials'].isin(['none','control']), 'treatmentStatus'] = 'naive'\n",
    "        pMD_DF_i.drop('COVID-19-related medication and anti-microbials', axis = 1, inplace = True)\n",
    "\n",
    "        # # we are adding the information about the timepoint, armonizing the values ...\n",
    "        # pMD_DF_i['timepoint_replicate'] = pMD_DF_i.sort_values(['donor_id','Sampling day (Days after symptom onset)']).groupby(['donor_id']).cumcount()\n",
    "        # # ... transfering back to the cell metadata timepoint_replicate annotation\n",
    "        # adObj_i.obs = adObj_i.obs.merge(pMD_DF_i[['donor_id','Sampling day (Days after symptom onset)','timepoint_replicate']], on = ['donor_id','Sampling day (Days after symptom onset)'])\n",
    "        # pMD_DF_i.drop('Sampling day (Days after symptom onset)',axis=1,inplace=True)\n",
    "        \n",
    "        pMD_DF_i.rename(columns={'INFL_pID':'patientID', 'INFL_sID':'sampleID', colNamePatientID: 'old_sample_id', 'City':'institute',\n",
    "                                 'Age':'age','age_bin':'binned_age','COVID_severity_and_time':'diseaseStatus'}, inplace=True)\n",
    "\n",
    "    elif row['h5ad_FileName'] in ['10XGenomics_PBMC__HC.h5ad']:\n",
    "\n",
    "        # renaming columns for consistency\n",
    "        adObj_i.obs.rename({'chemistry':'INFL_chemistry','technology':'INFL_technology'}, axis=1, inplace=True)\n",
    "        \n",
    "        colLibraryID = 'libraryID' \n",
    "        colNamePatientID = 'patientID'\n",
    "        pIDpattern = '[^a-zA-Z0-9]+|Genomics' \n",
    "        add_project_ids(adata = adObj_i, studyID = studyID, library_id_col = colLibraryID, patient_id_col = colNamePatientID, pIDpattern = pIDpattern, repWith = '', regex = True)\n",
    "\n",
    "        # selecting columns with patient metadata\n",
    "        pMD_DF_i = adObj_i.obs[['INFL_pID', 'INFL_sID', 'timepoint_replicate', colNamePatientID, 'binned_age', 'sex']].drop_duplicates()\n",
    "        pMD_DF_i['disease'] = 'healthy'\n",
    "        pMD_DF_i.rename(columns={'INFL_pID':'patientID', 'INFL_sID':'sampleID', colNamePatientID:'old_sample_id'}, inplace=True)    \n",
    "\n",
    "        \n",
    "    # ------------------------------------------------------ COMMON ------------------------------------------------------------ #\n",
    "\n",
    "    # Check if adObj_i.X includes only integer values. If so, cast the dtype to int. Otherwise, raise an error\n",
    "    cellSum = np.asarray(np.sum(adObj_i.X, axis = 1)).squeeze()\n",
    "    isInt = (cellSum % cellSum.astype(int)) == 0\n",
    "    assert all(isInt)\n",
    "    adObj_i.X = adObj_i.X.astype('int16')\n",
    "\n",
    "    pMD_DF_i.set_index('sampleID', inplace=True)\n",
    "    \n",
    "    # saving metadata ...\n",
    "    pMD_DF_i.to_pickle(path=here(f\"00_data_processing/results/study_metadata/{studyID}_patient_metadata.pkl\"), protocol=4)\n",
    "    \n",
    "    # ... and adata.obs (including all the coloumns) ... \n",
    "    adObj_i.obs.to_pickle(path=here(f\"00_data_processing/results/extended_obs/{studyID}_obs.pkl\"), protocol=4)\n",
    "    \n",
    "    # then, keeping only specific columns. The other are not needed for generating the final mergedObj.obs\n",
    "    adObj_i.obs = adObj_i.obs[['studyID','INFL_lID','INFL_sID','INFL_chemistry','INFL_technology']] \n",
    "\n",
    "    # Renaming those columns\n",
    "    adObj_i.obs.rename({'INFL_lID':'libraryID','INFL_sID':'sampleID','INFL_chemistry':'chemistry','INFL_technology':'technology'}, axis = 1, inplace=True)\n",
    "\n",
    "    print(f\"{pMD_DF_i.shape[0]} samples\")\n",
    "\n",
    "    # ---------  Appending datasets --------- #\n",
    "    \n",
    "    # We merge the patient metadata ...\n",
    "    ptMetadataList.append(pMD_DF_i)\n",
    "    \n",
    "    # ... and the anndata object \n",
    "    adObjList.append(adObj_i)\n",
    "\n",
    "    # add one empty line\n",
    "    print(\"\")\n",
    "\n",
    "print('Done!')"
   ]
  },
  {
   "cell_type": "code",
   "execution_count": null,
   "id": "2bcd8342-39e8-4d65-bf2f-e847468cf5db",
   "metadata": {},
   "outputs": [],
   "source": []
  },
  {
   "cell_type": "code",
   "execution_count": null,
   "id": "3d068dca-4f09-4f76-bf4e-b588276e69ef",
   "metadata": {},
   "outputs": [],
   "source": []
  },
  {
   "cell_type": "markdown",
   "id": "31244c1d-67b7-461c-9c9f-a2d91ef2ae9b",
   "metadata": {
    "papermill": {
     "duration": 0.018483,
     "end_time": "2024-04-26T14:57:36.801007",
     "exception": false,
     "start_time": "2024-04-26T14:57:36.782524",
     "status": "completed"
    },
    "tags": []
   },
   "source": [
    "## Tasks on merged object"
   ]
  },
  {
   "cell_type": "code",
   "execution_count": 10,
   "id": "912767cf-4359-41f9-813c-1bd658833057",
   "metadata": {
    "execution": {
     "iopub.execute_input": "2024-05-06T16:19:09.080024Z",
     "iopub.status.busy": "2024-05-06T16:19:09.079805Z",
     "iopub.status.idle": "2024-05-06T16:22:37.256304Z",
     "shell.execute_reply": "2024-05-06T16:22:37.255614Z",
     "shell.execute_reply.started": "2024-05-06T16:19:09.080005Z"
    },
    "papermill": {
     "duration": 233.045561,
     "end_time": "2024-04-26T15:01:29.871190",
     "exception": false,
     "start_time": "2024-04-26T14:57:36.825629",
     "status": "completed"
    },
    "tags": []
   },
   "outputs": [],
   "source": [
    "# Concatenating anndata objects and dataframes\n",
    "mergedObj = ad.concat(adObjList, join=\"outer\", fill_value=0)\n",
    "patienteMetadataDF = pd.concat(ptMetadataList, ignore_index=False, verify_integrity=True)\n",
    "\n",
    "# Keep most relevant columns after aggregation. All the other columns are stored in study-specific metadata pickle object in extendedObs directory\n",
    "keepCol = ['patientID', 'disease', 'timepoint_replicate', 'treatmentStatus', 'therapyResponse', 'sex', 'age', 'BMI', 'binned_age', 'diseaseStatus', 'smokingStatus', 'ethnicity', 'institute']\n",
    "patienteMetadataDF = patienteMetadataDF[keepCol]\n",
    "\n",
    "# Try to convert each column to numeric, if it includes non numeric value the convertion is not performed.\n",
    "for column in patienteMetadataDF.columns:\n",
    "    try:\n",
    "        patienteMetadataDF[column] = patienteMetadataDF[column].astype(float)\n",
    "    except ValueError:\n",
    "        # there are some cases where we have number and string in the same column\n",
    "        # so, if is not possible to convert into number we will converti all the values to string\n",
    "        patienteMetadataDF[column] = patienteMetadataDF[column].astype(str)\n",
    "\n",
    "# Replacing all the np.nan value with the string 'na' in non-numeric columns \n",
    "patienteMetadataDF = patienteMetadataDF.apply(lambda x: x.fillna('na') if x.dtype == object else x.fillna(np.nan))\n",
    "patienteMetadataDF.replace('nan','na', inplace=True)\n",
    "patienteMetadataDF.replace('NA','na', inplace=True)"
   ]
  },
  {
   "cell_type": "markdown",
   "id": "32bc883c-80b9-4b58-8d6c-f75fe70ce8a1",
   "metadata": {
    "papermill": {
     "duration": 0.020388,
     "end_time": "2024-04-26T15:01:29.911921",
     "exception": false,
     "start_time": "2024-04-26T15:01:29.891533",
     "status": "completed"
    },
    "tags": []
   },
   "source": [
    "### Checking the gene names and assign official HUGO symbols if possible"
   ]
  },
  {
   "cell_type": "code",
   "execution_count": 11,
   "id": "95ae416a-3901-431d-9f81-a78ef743203b",
   "metadata": {
    "execution": {
     "iopub.execute_input": "2024-05-06T16:22:37.257314Z",
     "iopub.status.busy": "2024-05-06T16:22:37.257095Z",
     "iopub.status.idle": "2024-05-06T16:22:37.330375Z",
     "shell.execute_reply": "2024-05-06T16:22:37.329813Z",
     "shell.execute_reply.started": "2024-05-06T16:22:37.257293Z"
    },
    "papermill": {
     "duration": 0.091689,
     "end_time": "2024-04-26T15:01:30.031443",
     "exception": false,
     "start_time": "2024-04-26T15:01:29.939754",
     "status": "completed"
    },
    "tags": []
   },
   "outputs": [],
   "source": [
    "\n",
    "mergedObj.var = mergedObj.var.merge(extHUGO_DF.drop('alias_or_prev',axis=1).drop_duplicates(), left_index=True, right_on='ensembl_gene_id', how='left')\n",
    "assert(mergedObj.var.ensembl_gene_id.duplicated().sum() == 0)\n",
    "mergedObj.var.set_index('ensembl_gene_id', inplace=True)\n",
    "\n",
    "mergedObj.var['HUGO_status'] = 'official'\n",
    "mergedObj.var.loc[mergedObj.var.symbol.isna(),'HUGO_status']= 'non-official'\n"
   ]
  },
  {
   "cell_type": "markdown",
   "id": "8cdb34a7-74ee-478f-a99f-65d398c269f6",
   "metadata": {
    "papermill": {
     "duration": 0.019111,
     "end_time": "2024-04-26T15:01:30.070641",
     "exception": false,
     "start_time": "2024-04-26T15:01:30.051530",
     "status": "completed"
    },
    "tags": []
   },
   "source": [
    "#### Retrieve symbol for non-official genes\n",
    "\n",
    "We are using a python interface to query https://docs.mygene.info/en/latest/index.html"
   ]
  },
  {
   "cell_type": "code",
   "execution_count": 12,
   "id": "02b78cd3-d8cb-4346-9d9b-0183ab05b0ff",
   "metadata": {
    "execution": {
     "iopub.execute_input": "2024-05-06T16:22:37.331330Z",
     "iopub.status.busy": "2024-05-06T16:22:37.331120Z",
     "iopub.status.idle": "2024-05-06T16:22:37.333660Z",
     "shell.execute_reply": "2024-05-06T16:22:37.333268Z",
     "shell.execute_reply.started": "2024-05-06T16:22:37.331309Z"
    },
    "papermill": {
     "duration": 0.023906,
     "end_time": "2024-04-26T15:01:30.115938",
     "exception": false,
     "start_time": "2024-04-26T15:01:30.092032",
     "status": "completed"
    },
    "tags": []
   },
   "outputs": [],
   "source": [
    "# Inizialize connection to mygene database \n",
    "mg = mygene.MyGeneInfo()"
   ]
  },
  {
   "cell_type": "code",
   "execution_count": 13,
   "id": "6e0c7fc6-b6de-4748-8ffe-2be3e271a9cc",
   "metadata": {
    "execution": {
     "iopub.execute_input": "2024-05-06T16:22:37.334603Z",
     "iopub.status.busy": "2024-05-06T16:22:37.334256Z",
     "iopub.status.idle": "2024-05-06T16:22:37.345655Z",
     "shell.execute_reply": "2024-05-06T16:22:37.345240Z",
     "shell.execute_reply.started": "2024-05-06T16:22:37.334584Z"
    },
    "papermill": {
     "duration": 0.025606,
     "end_time": "2024-04-26T15:01:30.162608",
     "exception": false,
     "start_time": "2024-04-26T15:01:30.137002",
     "status": "completed"
    },
    "tags": []
   },
   "outputs": [],
   "source": [
    "nonOfficialENSG = mergedObj.var.index[mergedObj.var.HUGO_status == 'non-official'].tolist()"
   ]
  },
  {
   "cell_type": "code",
   "execution_count": 14,
   "id": "b6d6fbab-2e9e-476f-b933-3ab2a0df1fa2",
   "metadata": {
    "execution": {
     "iopub.execute_input": "2024-05-06T16:22:37.346303Z",
     "iopub.status.busy": "2024-05-06T16:22:37.346154Z",
     "iopub.status.idle": "2024-05-06T16:23:07.621594Z",
     "shell.execute_reply": "2024-05-06T16:23:07.621052Z",
     "shell.execute_reply.started": "2024-05-06T16:22:37.346286Z"
    },
    "papermill": {
     "duration": 39.060761,
     "end_time": "2024-04-26T15:02:09.242834",
     "exception": false,
     "start_time": "2024-04-26T15:01:30.182073",
     "status": "completed"
    },
    "tags": []
   },
   "outputs": [
    {
     "name": "stdout",
     "output_type": "stream",
     "text": [
      "querying 1-1000...done.\n",
      "querying 1001-2000...done.\n",
      "querying 2001-3000...done.\n",
      "querying 3001-4000...done.\n",
      "querying 4001-5000...done.\n",
      "querying 5001-6000...done.\n",
      "querying 6001-7000...done.\n",
      "querying 7001-8000...done.\n",
      "querying 8001-9000...done.\n",
      "querying 9001-10000...done.\n",
      "querying 10001-11000...done.\n",
      "querying 11001-12000...done.\n",
      "querying 12001-12499...done.\n"
     ]
    },
    {
     "name": "stdout",
     "output_type": "stream",
     "text": [
      "done.\n"
     ]
    },
    {
     "name": "stdout",
     "output_type": "stream",
     "text": [
      "querying 2001-3000..."
     ]
    },
    {
     "name": "stdout",
     "output_type": "stream",
     "text": [
      "done.\n"
     ]
    },
    {
     "name": "stdout",
     "output_type": "stream",
     "text": [
      "querying 3001-4000..."
     ]
    },
    {
     "name": "stdout",
     "output_type": "stream",
     "text": [
      "done.\n"
     ]
    },
    {
     "name": "stdout",
     "output_type": "stream",
     "text": [
      "querying 4001-5000..."
     ]
    },
    {
     "name": "stdout",
     "output_type": "stream",
     "text": [
      "done.\n"
     ]
    },
    {
     "name": "stdout",
     "output_type": "stream",
     "text": [
      "querying 5001-6000..."
     ]
    },
    {
     "name": "stdout",
     "output_type": "stream",
     "text": [
      "done.\n"
     ]
    },
    {
     "name": "stdout",
     "output_type": "stream",
     "text": [
      "querying 6001-7000..."
     ]
    },
    {
     "name": "stdout",
     "output_type": "stream",
     "text": [
      "done.\n"
     ]
    },
    {
     "name": "stdout",
     "output_type": "stream",
     "text": [
      "querying 7001-8000..."
     ]
    },
    {
     "name": "stdout",
     "output_type": "stream",
     "text": [
      "done.\n"
     ]
    },
    {
     "name": "stdout",
     "output_type": "stream",
     "text": [
      "querying 8001-9000..."
     ]
    },
    {
     "name": "stdout",
     "output_type": "stream",
     "text": [
      "done.\n"
     ]
    },
    {
     "name": "stdout",
     "output_type": "stream",
     "text": [
      "querying 9001-10000..."
     ]
    },
    {
     "name": "stdout",
     "output_type": "stream",
     "text": [
      "done.\n"
     ]
    },
    {
     "name": "stdout",
     "output_type": "stream",
     "text": [
      "querying 10001-11000..."
     ]
    },
    {
     "name": "stdout",
     "output_type": "stream",
     "text": [
      "done.\n"
     ]
    },
    {
     "name": "stdout",
     "output_type": "stream",
     "text": [
      "querying 11001-12000..."
     ]
    },
    {
     "name": "stdout",
     "output_type": "stream",
     "text": [
      "done.\n"
     ]
    },
    {
     "name": "stdout",
     "output_type": "stream",
     "text": [
      "querying 12001-12499..."
     ]
    },
    {
     "name": "stdout",
     "output_type": "stream",
     "text": [
      "done.\n"
     ]
    }
   ],
   "source": [
    "geneInfoDict = mg.getgenes(nonOfficialENSG,  fields = ['symbol','ensembl'])"
   ]
  },
  {
   "cell_type": "code",
   "execution_count": 15,
   "id": "a0fa4195-7fb5-4e8e-9791-8fd5bfacab0d",
   "metadata": {
    "execution": {
     "iopub.execute_input": "2024-05-06T16:23:07.622437Z",
     "iopub.status.busy": "2024-05-06T16:23:07.622273Z",
     "iopub.status.idle": "2024-05-06T16:23:08.094580Z",
     "shell.execute_reply": "2024-05-06T16:23:08.094098Z",
     "shell.execute_reply.started": "2024-05-06T16:23:07.622419Z"
    },
    "papermill": {
     "duration": 0.524635,
     "end_time": "2024-04-26T15:02:09.787745",
     "exception": false,
     "start_time": "2024-04-26T15:02:09.263110",
     "status": "completed"
    },
    "tags": []
   },
   "outputs": [],
   "source": [
    "geneInfoDF = pd.DataFrame.from_dict(geneInfoDict, orient='columns')\n",
    "ToGlist = []\n",
    "for i, row in geneInfoDF.iterrows():\n",
    "    try:\n",
    "        ToGlist.append(row['ensembl']['type_of_gene'])\n",
    "    except:\n",
    "        try:\n",
    "            ToGlist.append(row['ensembl'][0]['type_of_gene'])\n",
    "        except:\n",
    "            if pd.isna(row['ensembl']):\n",
    "                ToGlist.append('na')\n",
    "            else:\n",
    "                print(\"ERRROR:\")\n",
    "                print(row['ensembl'])\n",
    "                \n",
    "geneInfoDF['type_of_gene'] = ToGlist\n",
    "geneInfoDF=geneInfoDF.drop(['_id','_version','ensembl'],axis=1,inplace=False).rename({'query':'ensembl_gene_id','symbol':'retrieved_symbol'}, axis=1,inplace=False)"
   ]
  },
  {
   "cell_type": "markdown",
   "id": "a10b3f4b-1b81-44ea-8f3c-5494beaa2724",
   "metadata": {
    "papermill": {
     "duration": 0.020168,
     "end_time": "2024-04-26T15:02:09.828683",
     "exception": false,
     "start_time": "2024-04-26T15:02:09.808515",
     "status": "completed"
    },
    "tags": []
   },
   "source": [
    "We decided to keep only one entry, here is not relavant which gene symbol we are providing, since is just for visualization."
   ]
  },
  {
   "cell_type": "code",
   "execution_count": 16,
   "id": "bde7b0fe-418d-447d-bfb8-1f7c7611e670",
   "metadata": {
    "execution": {
     "iopub.execute_input": "2024-05-06T16:23:08.095405Z",
     "iopub.status.busy": "2024-05-06T16:23:08.095201Z",
     "iopub.status.idle": "2024-05-06T16:23:08.100399Z",
     "shell.execute_reply": "2024-05-06T16:23:08.099995Z",
     "shell.execute_reply.started": "2024-05-06T16:23:08.095387Z"
    },
    "papermill": {
     "duration": 0.030843,
     "end_time": "2024-04-26T15:02:09.880715",
     "exception": false,
     "start_time": "2024-04-26T15:02:09.849872",
     "status": "completed"
    },
    "tags": []
   },
   "outputs": [],
   "source": [
    "geneInfoDFunique = geneInfoDF.loc[~geneInfoDF['ensembl_gene_id'].duplicated(keep='last'),:]"
   ]
  },
  {
   "cell_type": "markdown",
   "id": "d59d7197-3c1b-4647-8612-41598719e993",
   "metadata": {
    "papermill": {
     "duration": 0.021181,
     "end_time": "2024-04-26T15:02:09.922545",
     "exception": false,
     "start_time": "2024-04-26T15:02:09.901364",
     "status": "completed"
    },
    "tags": []
   },
   "source": [
    "**Add symbols to var metadata**"
   ]
  },
  {
   "cell_type": "code",
   "execution_count": 17,
   "id": "dc9b0f3a-2e48-409b-a778-6da18b23dbb1",
   "metadata": {
    "execution": {
     "iopub.execute_input": "2024-05-06T16:23:08.101149Z",
     "iopub.status.busy": "2024-05-06T16:23:08.100957Z",
     "iopub.status.idle": "2024-05-06T16:23:08.138927Z",
     "shell.execute_reply": "2024-05-06T16:23:08.138414Z",
     "shell.execute_reply.started": "2024-05-06T16:23:08.101131Z"
    },
    "papermill": {
     "duration": 0.052007,
     "end_time": "2024-04-26T15:02:09.996105",
     "exception": false,
     "start_time": "2024-04-26T15:02:09.944098",
     "status": "completed"
    },
    "tags": []
   },
   "outputs": [],
   "source": [
    "mergedObj.var = mergedObj.var.merge(geneInfoDFunique, left_index=True, right_on='ensembl_gene_id', how='left').set_index('ensembl_gene_id')"
   ]
  },
  {
   "cell_type": "code",
   "execution_count": 18,
   "id": "add3ebb0-01de-4110-8d11-6824b912e0cb",
   "metadata": {
    "execution": {
     "iopub.execute_input": "2024-05-06T16:23:08.139773Z",
     "iopub.status.busy": "2024-05-06T16:23:08.139560Z",
     "iopub.status.idle": "2024-05-06T16:23:08.146792Z",
     "shell.execute_reply": "2024-05-06T16:23:08.146336Z",
     "shell.execute_reply.started": "2024-05-06T16:23:08.139755Z"
    },
    "papermill": {
     "duration": 0.030283,
     "end_time": "2024-04-26T15:02:10.046822",
     "exception": false,
     "start_time": "2024-04-26T15:02:10.016539",
     "status": "completed"
    },
    "tags": []
   },
   "outputs": [
    {
     "data": {
      "text/html": [
       "<div>\n",
       "<style scoped>\n",
       "    .dataframe tbody tr th:only-of-type {\n",
       "        vertical-align: middle;\n",
       "    }\n",
       "\n",
       "    .dataframe tbody tr th {\n",
       "        vertical-align: top;\n",
       "    }\n",
       "\n",
       "    .dataframe thead th {\n",
       "        text-align: right;\n",
       "    }\n",
       "</style>\n",
       "<table border=\"1\" class=\"dataframe\">\n",
       "  <thead>\n",
       "    <tr style=\"text-align: right;\">\n",
       "      <th></th>\n",
       "      <th>hgnc_id</th>\n",
       "      <th>symbol</th>\n",
       "      <th>locus_group</th>\n",
       "      <th>HUGO_status</th>\n",
       "      <th>notfound</th>\n",
       "      <th>retrieved_symbol</th>\n",
       "      <th>type_of_gene</th>\n",
       "    </tr>\n",
       "    <tr>\n",
       "      <th>ensembl_gene_id</th>\n",
       "      <th></th>\n",
       "      <th></th>\n",
       "      <th></th>\n",
       "      <th></th>\n",
       "      <th></th>\n",
       "      <th></th>\n",
       "      <th></th>\n",
       "    </tr>\n",
       "  </thead>\n",
       "  <tbody>\n",
       "    <tr>\n",
       "      <th>ENSG00000000003</th>\n",
       "      <td>HGNC:11858</td>\n",
       "      <td>TSPAN6</td>\n",
       "      <td>protein-coding gene</td>\n",
       "      <td>official</td>\n",
       "      <td>NaN</td>\n",
       "      <td>NaN</td>\n",
       "      <td>NaN</td>\n",
       "    </tr>\n",
       "    <tr>\n",
       "      <th>ENSG00000000005</th>\n",
       "      <td>HGNC:17757</td>\n",
       "      <td>TNMD</td>\n",
       "      <td>protein-coding gene</td>\n",
       "      <td>official</td>\n",
       "      <td>NaN</td>\n",
       "      <td>NaN</td>\n",
       "      <td>NaN</td>\n",
       "    </tr>\n",
       "    <tr>\n",
       "      <th>ENSG00000000419</th>\n",
       "      <td>HGNC:3005</td>\n",
       "      <td>DPM1</td>\n",
       "      <td>protein-coding gene</td>\n",
       "      <td>official</td>\n",
       "      <td>NaN</td>\n",
       "      <td>NaN</td>\n",
       "      <td>NaN</td>\n",
       "    </tr>\n",
       "    <tr>\n",
       "      <th>ENSG00000000457</th>\n",
       "      <td>HGNC:19285</td>\n",
       "      <td>SCYL3</td>\n",
       "      <td>protein-coding gene</td>\n",
       "      <td>official</td>\n",
       "      <td>NaN</td>\n",
       "      <td>NaN</td>\n",
       "      <td>NaN</td>\n",
       "    </tr>\n",
       "    <tr>\n",
       "      <th>ENSG00000000460</th>\n",
       "      <td>HGNC:25565</td>\n",
       "      <td>FIRRM</td>\n",
       "      <td>protein-coding gene</td>\n",
       "      <td>official</td>\n",
       "      <td>NaN</td>\n",
       "      <td>NaN</td>\n",
       "      <td>NaN</td>\n",
       "    </tr>\n",
       "  </tbody>\n",
       "</table>\n",
       "</div>"
      ],
      "text/plain": [
       "                    hgnc_id  symbol          locus_group HUGO_status notfound  \\\n",
       "ensembl_gene_id                                                                 \n",
       "ENSG00000000003  HGNC:11858  TSPAN6  protein-coding gene    official      NaN   \n",
       "ENSG00000000005  HGNC:17757    TNMD  protein-coding gene    official      NaN   \n",
       "ENSG00000000419   HGNC:3005    DPM1  protein-coding gene    official      NaN   \n",
       "ENSG00000000457  HGNC:19285   SCYL3  protein-coding gene    official      NaN   \n",
       "ENSG00000000460  HGNC:25565   FIRRM  protein-coding gene    official      NaN   \n",
       "\n",
       "                retrieved_symbol type_of_gene  \n",
       "ensembl_gene_id                                \n",
       "ENSG00000000003              NaN          NaN  \n",
       "ENSG00000000005              NaN          NaN  \n",
       "ENSG00000000419              NaN          NaN  \n",
       "ENSG00000000457              NaN          NaN  \n",
       "ENSG00000000460              NaN          NaN  "
      ]
     },
     "execution_count": 18,
     "metadata": {},
     "output_type": "execute_result"
    }
   ],
   "source": [
    "mergedObj.var.head()"
   ]
  },
  {
   "cell_type": "markdown",
   "id": "a02c6a98-3c99-4bce-9ed2-b9c69f91b130",
   "metadata": {
    "papermill": {
     "duration": 0.020315,
     "end_time": "2024-04-26T15:02:10.087997",
     "exception": false,
     "start_time": "2024-04-26T15:02:10.067682",
     "status": "completed"
    },
    "tags": []
   },
   "source": [
    "**Removing genes that were not found**"
   ]
  },
  {
   "cell_type": "code",
   "execution_count": 19,
   "id": "fe75efcf-efb3-4fe4-95e1-4a066b4070b9",
   "metadata": {
    "execution": {
     "iopub.execute_input": "2024-05-06T16:23:08.147544Z",
     "iopub.status.busy": "2024-05-06T16:23:08.147356Z",
     "iopub.status.idle": "2024-05-06T16:25:28.634490Z",
     "shell.execute_reply": "2024-05-06T16:25:28.633795Z",
     "shell.execute_reply.started": "2024-05-06T16:23:08.147526Z"
    },
    "papermill": {
     "duration": 163.129285,
     "end_time": "2024-04-26T15:04:53.246059",
     "exception": false,
     "start_time": "2024-04-26T15:02:10.116774",
     "status": "completed"
    },
    "tags": []
   },
   "outputs": [
    {
     "name": "stdout",
     "output_type": "stream",
     "text": [
      "928 genes removed\n"
     ]
    }
   ],
   "source": [
    "# notfound == NaN means that the query return something\n",
    "print(f\"{geneInfoDFunique.notfound.sum()} genes removed\")\n",
    "mergedObj = mergedObj[:, mergedObj.var.notfound.isna()]\n",
    "mergedObj.var.drop('notfound',axis=1,inplace=True)"
   ]
  },
  {
   "cell_type": "markdown",
   "id": "9ed81ab4-3064-437c-ad30-307eca6b2deb",
   "metadata": {
    "execution": {
     "iopub.execute_input": "2024-03-04T18:38:05.706147Z",
     "iopub.status.busy": "2024-03-04T18:38:05.705841Z",
     "iopub.status.idle": "2024-03-04T18:38:05.708936Z",
     "shell.execute_reply": "2024-03-04T18:38:05.708462Z",
     "shell.execute_reply.started": "2024-03-04T18:38:05.706127Z"
    },
    "papermill": {
     "duration": 0.028866,
     "end_time": "2024-04-26T15:04:53.307068",
     "exception": false,
     "start_time": "2024-04-26T15:04:53.278202",
     "status": "completed"
    },
    "tags": []
   },
   "source": [
    "**Aggregate retrived symbol and type_of_gene with HUGO ones**"
   ]
  },
  {
   "cell_type": "code",
   "execution_count": 20,
   "id": "bb86242e-d6ad-49dd-be8f-89160a164ff9",
   "metadata": {
    "execution": {
     "iopub.execute_input": "2024-05-06T16:25:28.635533Z",
     "iopub.status.busy": "2024-05-06T16:25:28.635309Z",
     "iopub.status.idle": "2024-05-06T16:25:28.697363Z",
     "shell.execute_reply": "2024-05-06T16:25:28.696848Z",
     "shell.execute_reply.started": "2024-05-06T16:25:28.635512Z"
    },
    "papermill": {
     "duration": 0.097318,
     "end_time": "2024-04-26T15:04:53.441821",
     "exception": false,
     "start_time": "2024-04-26T15:04:53.344503",
     "status": "completed"
    },
    "tags": []
   },
   "outputs": [],
   "source": [
    "# transfer the information only for genes without a HUGO_symbol\n",
    "mergedObj.var.symbol = mergedObj.var.symbol.astype(str)\n",
    "mergedObj.var.retrieved_symbol = mergedObj.var.retrieved_symbol.astype(str)\n",
    "mergedObj.var.loc[mergedObj.var.symbol == 'nan', 'symbol'] = mergedObj.var.loc[mergedObj.var.symbol == 'nan', 'retrieved_symbol']\n",
    "\n",
    "# For genes were was not available a symbol, we copied the ENSEMBLE_ID\n",
    "mergedObj.var.loc[mergedObj.var.symbol == 'nan', 'symbol'] = mergedObj.var.loc[mergedObj.var.symbol == 'nan'].index.tolist()\n",
    "\n",
    "# Then, trasnfering also locus_group ...\n",
    "mergedObj.var.locus_group = mergedObj.var.locus_group.astype(str)\n",
    "mergedObj.var.type_of_gene = mergedObj.var.type_of_gene.astype(str)\n",
    "mergedObj.var.loc[mergedObj.var.locus_group == 'nan', 'locus_group'] = mergedObj.var.loc[mergedObj.var.locus_group == 'nan', 'type_of_gene']\n",
    "\n",
    "mergedObj.var.replace('nan','na', inplace=True)\n",
    "\n",
    "# ... and harmonizing the values\n",
    "mergedObj.var.locus_group.replace('protein-coding gene','protein_coding', inplace=True)"
   ]
  },
  {
   "cell_type": "code",
   "execution_count": 21,
   "id": "6b5f6096-14e0-4fca-82be-a7f25b72bf89",
   "metadata": {
    "execution": {
     "iopub.execute_input": "2024-05-06T16:25:28.698293Z",
     "iopub.status.busy": "2024-05-06T16:25:28.698004Z",
     "iopub.status.idle": "2024-05-06T16:25:28.705497Z",
     "shell.execute_reply": "2024-05-06T16:25:28.705052Z",
     "shell.execute_reply.started": "2024-05-06T16:25:28.698275Z"
    },
    "papermill": {
     "duration": 0.036626,
     "end_time": "2024-04-26T15:04:53.499523",
     "exception": false,
     "start_time": "2024-04-26T15:04:53.462897",
     "status": "completed"
    },
    "tags": []
   },
   "outputs": [],
   "source": [
    "mergedObj.var.drop(['retrieved_symbol','type_of_gene'], axis=1, inplace=True)"
   ]
  },
  {
   "cell_type": "code",
   "execution_count": 22,
   "id": "8ca9bdbe-00f1-49a9-b028-57d59e68ccab",
   "metadata": {
    "execution": {
     "iopub.execute_input": "2024-05-06T16:25:28.706331Z",
     "iopub.status.busy": "2024-05-06T16:25:28.706132Z",
     "iopub.status.idle": "2024-05-06T16:25:28.728359Z",
     "shell.execute_reply": "2024-05-06T16:25:28.727853Z",
     "shell.execute_reply.started": "2024-05-06T16:25:28.706311Z"
    },
    "papermill": {
     "duration": 0.034684,
     "end_time": "2024-04-26T15:04:53.563673",
     "exception": false,
     "start_time": "2024-04-26T15:04:53.528989",
     "status": "completed"
    },
    "tags": []
   },
   "outputs": [],
   "source": [
    "mergedObj.var.locus_group = mergedObj.var.locus_group.astype('category')\n",
    "mergedObj.var.HUGO_status = mergedObj.var.HUGO_status.astype('category')"
   ]
  },
  {
   "cell_type": "code",
   "execution_count": 23,
   "id": "c869a71c-618c-4ea8-b3bf-160fbd56c88b",
   "metadata": {
    "execution": {
     "iopub.execute_input": "2024-05-06T16:25:28.729370Z",
     "iopub.status.busy": "2024-05-06T16:25:28.729007Z",
     "iopub.status.idle": "2024-05-06T16:25:28.736268Z",
     "shell.execute_reply": "2024-05-06T16:25:28.735911Z",
     "shell.execute_reply.started": "2024-05-06T16:25:28.729351Z"
    },
    "papermill": {
     "duration": 0.038557,
     "end_time": "2024-04-26T15:04:53.629632",
     "exception": false,
     "start_time": "2024-04-26T15:04:53.591075",
     "status": "completed"
    },
    "tags": []
   },
   "outputs": [
    {
     "data": {
      "text/html": [
       "<div>\n",
       "<style scoped>\n",
       "    .dataframe tbody tr th:only-of-type {\n",
       "        vertical-align: middle;\n",
       "    }\n",
       "\n",
       "    .dataframe tbody tr th {\n",
       "        vertical-align: top;\n",
       "    }\n",
       "\n",
       "    .dataframe thead th {\n",
       "        text-align: right;\n",
       "    }\n",
       "</style>\n",
       "<table border=\"1\" class=\"dataframe\">\n",
       "  <thead>\n",
       "    <tr style=\"text-align: right;\">\n",
       "      <th></th>\n",
       "      <th>hgnc_id</th>\n",
       "      <th>symbol</th>\n",
       "      <th>locus_group</th>\n",
       "      <th>HUGO_status</th>\n",
       "    </tr>\n",
       "    <tr>\n",
       "      <th>ensembl_gene_id</th>\n",
       "      <th></th>\n",
       "      <th></th>\n",
       "      <th></th>\n",
       "      <th></th>\n",
       "    </tr>\n",
       "  </thead>\n",
       "  <tbody>\n",
       "    <tr>\n",
       "      <th>ENSG00000000003</th>\n",
       "      <td>HGNC:11858</td>\n",
       "      <td>TSPAN6</td>\n",
       "      <td>protein_coding</td>\n",
       "      <td>official</td>\n",
       "    </tr>\n",
       "    <tr>\n",
       "      <th>ENSG00000000005</th>\n",
       "      <td>HGNC:17757</td>\n",
       "      <td>TNMD</td>\n",
       "      <td>protein_coding</td>\n",
       "      <td>official</td>\n",
       "    </tr>\n",
       "    <tr>\n",
       "      <th>ENSG00000000419</th>\n",
       "      <td>HGNC:3005</td>\n",
       "      <td>DPM1</td>\n",
       "      <td>protein_coding</td>\n",
       "      <td>official</td>\n",
       "    </tr>\n",
       "    <tr>\n",
       "      <th>ENSG00000000457</th>\n",
       "      <td>HGNC:19285</td>\n",
       "      <td>SCYL3</td>\n",
       "      <td>protein_coding</td>\n",
       "      <td>official</td>\n",
       "    </tr>\n",
       "    <tr>\n",
       "      <th>ENSG00000000460</th>\n",
       "      <td>HGNC:25565</td>\n",
       "      <td>FIRRM</td>\n",
       "      <td>protein_coding</td>\n",
       "      <td>official</td>\n",
       "    </tr>\n",
       "    <tr>\n",
       "      <th>...</th>\n",
       "      <td>...</td>\n",
       "      <td>...</td>\n",
       "      <td>...</td>\n",
       "      <td>...</td>\n",
       "    </tr>\n",
       "    <tr>\n",
       "      <th>ENSG00000288570</th>\n",
       "      <td>NaN</td>\n",
       "      <td>LOC128092248</td>\n",
       "      <td>protein_coding</td>\n",
       "      <td>non-official</td>\n",
       "    </tr>\n",
       "    <tr>\n",
       "      <th>ENSG00000288591</th>\n",
       "      <td>NaN</td>\n",
       "      <td>ENSG00000288591</td>\n",
       "      <td>protein_coding</td>\n",
       "      <td>non-official</td>\n",
       "    </tr>\n",
       "    <tr>\n",
       "      <th>ENSG00000288593</th>\n",
       "      <td>NaN</td>\n",
       "      <td>ENSG00000288593</td>\n",
       "      <td>protein_coding</td>\n",
       "      <td>non-official</td>\n",
       "    </tr>\n",
       "    <tr>\n",
       "      <th>ENSG00000288596</th>\n",
       "      <td>HGNC:25646</td>\n",
       "      <td>C8orf44</td>\n",
       "      <td>other</td>\n",
       "      <td>official</td>\n",
       "    </tr>\n",
       "    <tr>\n",
       "      <th>ENSG00000288602</th>\n",
       "      <td>HGNC:48354</td>\n",
       "      <td>C8orf44-SGK3</td>\n",
       "      <td>other</td>\n",
       "      <td>official</td>\n",
       "    </tr>\n",
       "  </tbody>\n",
       "</table>\n",
       "<p>37205 rows × 4 columns</p>\n",
       "</div>"
      ],
      "text/plain": [
       "                    hgnc_id           symbol     locus_group   HUGO_status\n",
       "ensembl_gene_id                                                           \n",
       "ENSG00000000003  HGNC:11858           TSPAN6  protein_coding      official\n",
       "ENSG00000000005  HGNC:17757             TNMD  protein_coding      official\n",
       "ENSG00000000419   HGNC:3005             DPM1  protein_coding      official\n",
       "ENSG00000000457  HGNC:19285            SCYL3  protein_coding      official\n",
       "ENSG00000000460  HGNC:25565            FIRRM  protein_coding      official\n",
       "...                     ...              ...             ...           ...\n",
       "ENSG00000288570         NaN     LOC128092248  protein_coding  non-official\n",
       "ENSG00000288591         NaN  ENSG00000288591  protein_coding  non-official\n",
       "ENSG00000288593         NaN  ENSG00000288593  protein_coding  non-official\n",
       "ENSG00000288596  HGNC:25646          C8orf44           other      official\n",
       "ENSG00000288602  HGNC:48354     C8orf44-SGK3           other      official\n",
       "\n",
       "[37205 rows x 4 columns]"
      ]
     },
     "execution_count": 23,
     "metadata": {},
     "output_type": "execute_result"
    }
   ],
   "source": [
    "mergedObj.var"
   ]
  },
  {
   "cell_type": "code",
   "execution_count": 24,
   "id": "2a59c172-57c8-44d1-baee-a2fa98f8ebb6",
   "metadata": {
    "execution": {
     "iopub.execute_input": "2024-05-06T16:25:28.736988Z",
     "iopub.status.busy": "2024-05-06T16:25:28.736797Z",
     "iopub.status.idle": "2024-05-06T16:25:28.755715Z",
     "shell.execute_reply": "2024-05-06T16:25:28.755359Z",
     "shell.execute_reply.started": "2024-05-06T16:25:28.736970Z"
    },
    "papermill": {
     "duration": 0.029087,
     "end_time": "2024-04-26T15:04:53.684201",
     "exception": false,
     "start_time": "2024-04-26T15:04:53.655114",
     "status": "completed"
    },
    "tags": []
   },
   "outputs": [
    {
     "data": {
      "text/plain": [
       "locus_group\n",
       "protein_coding                        19652\n",
       "lncRNA                                10944\n",
       "non-coding RNA                         5505\n",
       "other                                   624\n",
       "pseudogene                              379\n",
       "transcribed_unprocessed_pseudogene       27\n",
       "TEC                                      19\n",
       "artifact                                 17\n",
       "transcribed_processed_pseudogene         14\n",
       "transcribed_unitary_pseudogene            8\n",
       "processed_pseudogene                      6\n",
       "IG_V_pseudogene                           3\n",
       "unprocessed_pseudogene                    3\n",
       "IG_V_gene                                 2\n",
       "na                                        1\n",
       "unitary_pseudogene                        1\n",
       "Name: count, dtype: int64"
      ]
     },
     "execution_count": 24,
     "metadata": {},
     "output_type": "execute_result"
    }
   ],
   "source": [
    "mergedObj.var.locus_group.value_counts()"
   ]
  },
  {
   "cell_type": "markdown",
   "id": "8e074f93-ec9d-4480-823e-b998265023c8",
   "metadata": {
    "papermill": {
     "duration": 0.028863,
     "end_time": "2024-04-26T15:04:53.739378",
     "exception": false,
     "start_time": "2024-04-26T15:04:53.710515",
     "status": "completed"
    },
    "tags": []
   },
   "source": [
    "We remove also genes defined as *artifact* and *TEC* (To be Experimentally Confirmed)"
   ]
  },
  {
   "cell_type": "code",
   "execution_count": 25,
   "id": "399b1fae-3dbb-4f31-b118-52cd82ebdd75",
   "metadata": {
    "execution": {
     "iopub.execute_input": "2024-05-06T16:25:28.756528Z",
     "iopub.status.busy": "2024-05-06T16:25:28.756222Z",
     "iopub.status.idle": "2024-05-06T16:25:28.781081Z",
     "shell.execute_reply": "2024-05-06T16:25:28.780621Z",
     "shell.execute_reply.started": "2024-05-06T16:25:28.756511Z"
    },
    "papermill": {
     "duration": 0.041498,
     "end_time": "2024-04-26T15:04:53.800106",
     "exception": false,
     "start_time": "2024-04-26T15:04:53.758608",
     "status": "completed"
    },
    "tags": []
   },
   "outputs": [],
   "source": [
    "mergedObj = mergedObj[:,~mergedObj.var.locus_group.isin(['TEC','artifact'])]"
   ]
  },
  {
   "cell_type": "markdown",
   "id": "8440efc8-eec5-41cf-98ba-12e360ef0cd6",
   "metadata": {
    "papermill": {
     "duration": 0.027919,
     "end_time": "2024-04-26T15:04:53.851539",
     "exception": false,
     "start_time": "2024-04-26T15:04:53.823620",
     "status": "completed"
    },
    "tags": []
   },
   "source": [
    "Finally, we aggregate all pseudogenes labels"
   ]
  },
  {
   "cell_type": "code",
   "execution_count": 26,
   "id": "57883138-a706-45ad-ab77-87827c7d820c",
   "metadata": {
    "execution": {
     "iopub.execute_input": "2024-05-06T16:25:28.781984Z",
     "iopub.status.busy": "2024-05-06T16:25:28.781698Z",
     "iopub.status.idle": "2024-05-06T16:25:28.786250Z",
     "shell.execute_reply": "2024-05-06T16:25:28.785887Z",
     "shell.execute_reply.started": "2024-05-06T16:25:28.781966Z"
    },
    "papermill": {
     "duration": 0.029255,
     "end_time": "2024-04-26T15:04:53.903700",
     "exception": false,
     "start_time": "2024-04-26T15:04:53.874445",
     "status": "completed"
    },
    "tags": []
   },
   "outputs": [],
   "source": [
    "mergedObj.var.locus_group.replace({'transcribed_unprocessed_pseudogene':'pseudogene',\n",
    "                                   'transcribed_processed_pseudogene':'pseudogene',\n",
    "                                   'transcribed_unitary_pseudogene':'pseudogene',\n",
    "                                   'processed_pseudogene':'pseudogene',\n",
    "                                   'unprocessed_pseudogene':'pseudogene',\n",
    "                                   'IG_V_pseudogene':'pseudogene',\n",
    "                                   'unitary_pseudogene':'pseudogene',},inplace=True)"
   ]
  },
  {
   "cell_type": "code",
   "execution_count": 27,
   "id": "0fe10d3b-401a-4389-b25a-52529e0e3c00",
   "metadata": {
    "execution": {
     "iopub.execute_input": "2024-05-06T16:25:28.787073Z",
     "iopub.status.busy": "2024-05-06T16:25:28.786803Z",
     "iopub.status.idle": "2024-05-06T16:25:28.798104Z",
     "shell.execute_reply": "2024-05-06T16:25:28.797727Z",
     "shell.execute_reply.started": "2024-05-06T16:25:28.787056Z"
    },
    "papermill": {
     "duration": 0.030217,
     "end_time": "2024-04-26T15:04:53.956150",
     "exception": false,
     "start_time": "2024-04-26T15:04:53.925933",
     "status": "completed"
    },
    "tags": []
   },
   "outputs": [
    {
     "data": {
      "text/plain": [
       "locus_group\n",
       "protein_coding    19652\n",
       "lncRNA            10944\n",
       "non-coding RNA     5505\n",
       "other               624\n",
       "pseudogene          441\n",
       "IG_V_gene             2\n",
       "na                    1\n",
       "Name: count, dtype: int64"
      ]
     },
     "execution_count": 27,
     "metadata": {},
     "output_type": "execute_result"
    }
   ],
   "source": [
    "mergedObj.var.locus_group.value_counts()"
   ]
  },
  {
   "cell_type": "markdown",
   "id": "e9964063-a95a-4d15-be88-38e47e860b23",
   "metadata": {
    "papermill": {
     "duration": 0.020756,
     "end_time": "2024-04-26T15:04:53.999885",
     "exception": false,
     "start_time": "2024-04-26T15:04:53.979129",
     "status": "completed"
    },
    "tags": []
   },
   "source": [
    "### Harmonizing metadata values"
   ]
  },
  {
   "cell_type": "markdown",
   "id": "11d93009-d2a2-463c-8784-6a816ea184de",
   "metadata": {
    "papermill": {
     "duration": 0.021601,
     "end_time": "2024-04-26T15:04:54.042767",
     "exception": false,
     "start_time": "2024-04-26T15:04:54.021166",
     "status": "completed"
    },
    "tags": []
   },
   "source": [
    "#### Harmonize sex"
   ]
  },
  {
   "cell_type": "code",
   "execution_count": 28,
   "id": "6d23f721-7956-4a68-9f9a-0b7817204281",
   "metadata": {
    "execution": {
     "iopub.execute_input": "2024-05-06T16:25:28.802193Z",
     "iopub.status.busy": "2024-05-06T16:25:28.801950Z",
     "iopub.status.idle": "2024-05-06T16:25:28.809100Z",
     "shell.execute_reply": "2024-05-06T16:25:28.808688Z",
     "shell.execute_reply.started": "2024-05-06T16:25:28.802177Z"
    },
    "papermill": {
     "duration": 0.032662,
     "end_time": "2024-04-26T15:04:54.112136",
     "exception": false,
     "start_time": "2024-04-26T15:04:54.079474",
     "status": "completed"
    },
    "tags": []
   },
   "outputs": [],
   "source": [
    "# Harmonize sex\n",
    "patienteMetadataDF['sex'] = patienteMetadataDF['sex'].replace({'F':'female','Female':'female',\n",
    "                                   'M':'male','Male':'male','Male ':'male'}, \n",
    "                                  inplace=False).astype('category')"
   ]
  },
  {
   "cell_type": "code",
   "execution_count": 29,
   "id": "fbf2968f-1d01-4241-b06c-b3e9cbb41283",
   "metadata": {
    "execution": {
     "iopub.execute_input": "2024-05-06T16:25:28.809851Z",
     "iopub.status.busy": "2024-05-06T16:25:28.809599Z",
     "iopub.status.idle": "2024-05-06T16:25:28.837301Z",
     "shell.execute_reply": "2024-05-06T16:25:28.836904Z",
     "shell.execute_reply.started": "2024-05-06T16:25:28.809833Z"
    },
    "papermill": {
     "duration": 0.029516,
     "end_time": "2024-04-26T15:04:54.166471",
     "exception": false,
     "start_time": "2024-04-26T15:04:54.136955",
     "status": "completed"
    },
    "tags": []
   },
   "outputs": [
    {
     "data": {
      "text/plain": [
       "sex\n",
       "female    675\n",
       "male      617\n",
       "na         16\n",
       "Name: count, dtype: int64"
      ]
     },
     "execution_count": 29,
     "metadata": {},
     "output_type": "execute_result"
    }
   ],
   "source": [
    "patienteMetadataDF['sex'].value_counts(dropna=False)"
   ]
  },
  {
   "cell_type": "markdown",
   "id": "88f369cd-239a-467e-aa94-34ea9659721e",
   "metadata": {
    "papermill": {
     "duration": 0.022775,
     "end_time": "2024-04-26T15:04:54.213590",
     "exception": false,
     "start_time": "2024-04-26T15:04:54.190815",
     "status": "completed"
    },
    "tags": []
   },
   "source": [
    "#### Generating age bins\n",
    "\n",
    "Some datasets report the patient age, some others report only a range of 10 year bins (e.g., 20-30)\n",
    "\n",
    "In order to compare those patient metadata, we generate convert the age in it's corresponding 10-years-range."
   ]
  },
  {
   "cell_type": "code",
   "execution_count": 30,
   "id": "d73ac826-da06-4730-bcb5-cedba4d1dae9",
   "metadata": {
    "execution": {
     "iopub.execute_input": "2024-05-06T16:25:28.838131Z",
     "iopub.status.busy": "2024-05-06T16:25:28.837837Z",
     "iopub.status.idle": "2024-05-06T16:25:28.858165Z",
     "shell.execute_reply": "2024-05-06T16:25:28.857785Z",
     "shell.execute_reply.started": "2024-05-06T16:25:28.838113Z"
    },
    "papermill": {
     "duration": 0.038018,
     "end_time": "2024-04-26T15:04:54.274462",
     "exception": false,
     "start_time": "2024-04-26T15:04:54.236444",
     "status": "completed"
    },
    "tags": []
   },
   "outputs": [],
   "source": [
    "# Each age is converted in the following bins [<18, 18-30, 31-40, 41-50, 51-60, 61-70, 71-80, >80]\n",
    "\n",
    "binned_age = np.array([f\"{(np.ceil(a/10)*10).astype(int)-9}-{(np.ceil(a/10)*10).astype(int)}\" \n",
    "                       if not np.isnan(a) else 'na' for a in patienteMetadataDF['age']])\n",
    "\n",
    "binned_age[patienteMetadataDF['age'] < 18] = \"<18\"\n",
    "binned_age[(patienteMetadataDF['age'] >= 18) & (patienteMetadataDF['age'] < 30)] = \"18-30\"\n",
    "binned_age[patienteMetadataDF['age'] > 80] = '>80'\n",
    "\n",
    "# getting the information from the column 'binned_age' already present in patient metadata if\n",
    "binned_age[binned_age=='na']=patienteMetadataDF.binned_age[binned_age=='na']\n",
    "\n",
    "# replacing 'binned_age' with the updated info\n",
    "patienteMetadataDF['binned_age']=binned_age\n",
    "\n",
    "# manually change some values to harmonize differente datasets\n",
    "patienteMetadataDF['binned_age'].replace({'19-30':'18-30','20-30':'18-30','21-30':'18-30',\n",
    "                                          '50-60':'51-60','60-70':'61-70',\n",
    "                                          '>=91':'>80','91-100':'>80','81-90':'>80'}, inplace=True)\n",
    "# define meaningfull levels\n",
    "binned_age_levels = pd.api.types.CategoricalDtype(categories=['<18', '18-30', '31-40', '41-50', '51-60', '61-70', '71-80', '>80'], ordered=True)\n",
    "patienteMetadataDF['binned_age'] = patienteMetadataDF['binned_age'].astype(binned_age_levels)"
   ]
  },
  {
   "cell_type": "code",
   "execution_count": 31,
   "id": "89309231-0eeb-4327-a8e2-bb9c6be8c5da",
   "metadata": {
    "execution": {
     "iopub.execute_input": "2024-05-06T16:25:28.858971Z",
     "iopub.status.busy": "2024-05-06T16:25:28.858649Z",
     "iopub.status.idle": "2024-05-06T16:25:28.866129Z",
     "shell.execute_reply": "2024-05-06T16:25:28.865778Z",
     "shell.execute_reply.started": "2024-05-06T16:25:28.858954Z"
    },
    "papermill": {
     "duration": 0.030618,
     "end_time": "2024-04-26T15:04:54.325478",
     "exception": false,
     "start_time": "2024-04-26T15:04:54.294860",
     "status": "completed"
    },
    "tags": []
   },
   "outputs": [
    {
     "data": {
      "text/plain": [
       "binned_age\n",
       "51-60    289\n",
       "31-40    236\n",
       "41-50    201\n",
       "18-30    199\n",
       "61-70    197\n",
       "71-80    138\n",
       ">80       26\n",
       "NaN       17\n",
       "<18        5\n",
       "Name: count, dtype: int64"
      ]
     },
     "execution_count": 31,
     "metadata": {},
     "output_type": "execute_result"
    }
   ],
   "source": [
    "patienteMetadataDF['binned_age'].value_counts(dropna=False)"
   ]
  },
  {
   "cell_type": "markdown",
   "id": "33d0b059-503d-497c-a13b-2de39107dc5d",
   "metadata": {
    "papermill": {
     "duration": 0.021862,
     "end_time": "2024-04-26T15:04:54.413489",
     "exception": false,
     "start_time": "2024-04-26T15:04:54.391627",
     "status": "completed"
    },
    "tags": []
   },
   "source": [
    "#### Checking disease values"
   ]
  },
  {
   "cell_type": "code",
   "execution_count": 32,
   "id": "5f321a9c-6601-4ebb-9575-9f90eef7470e",
   "metadata": {
    "execution": {
     "iopub.execute_input": "2024-05-06T16:25:28.866819Z",
     "iopub.status.busy": "2024-05-06T16:25:28.866636Z",
     "iopub.status.idle": "2024-05-06T16:25:28.876805Z",
     "shell.execute_reply": "2024-05-06T16:25:28.876401Z",
     "shell.execute_reply.started": "2024-05-06T16:25:28.866802Z"
    },
    "papermill": {
     "duration": 0.027726,
     "end_time": "2024-04-26T15:04:54.461697",
     "exception": false,
     "start_time": "2024-04-26T15:04:54.433971",
     "status": "completed"
    },
    "tags": []
   },
   "outputs": [],
   "source": [
    "# Harmonize disease\n",
    "patienteMetadataDF['disease'] = patienteMetadataDF['disease'].replace({'CTRL':'healthy',\n",
    "                                       'Control':'healthy',\n",
    "                                       'control':'healthy',\n",
    "                                       'Healthy':'healthy',\n",
    "                                       'HC':'healthy',\n",
    "                                       'nasopharyngeal carcinoma (NPC)':'NPC',\n",
    "                                      'Asthma':'asthma',\n",
    "                                      'Cirrhosis':'cirrhosis'},\n",
    "                                      inplace=False).astype('category')"
   ]
  },
  {
   "cell_type": "code",
   "execution_count": 33,
   "id": "1be9f09e-380f-48e4-9425-85b876e8e5c2",
   "metadata": {
    "execution": {
     "iopub.execute_input": "2024-05-06T16:25:28.877424Z",
     "iopub.status.busy": "2024-05-06T16:25:28.877284Z",
     "iopub.status.idle": "2024-05-06T16:25:28.887193Z",
     "shell.execute_reply": "2024-05-06T16:25:28.886839Z",
     "shell.execute_reply.started": "2024-05-06T16:25:28.877409Z"
    },
    "papermill": {
     "duration": 0.028431,
     "end_time": "2024-04-26T15:04:54.511982",
     "exception": false,
     "start_time": "2024-04-26T15:04:54.483551",
     "status": "completed"
    },
    "tags": []
   },
   "outputs": [
    {
     "data": {
      "text/plain": [
       "disease\n",
       "healthy      507\n",
       "SLE          197\n",
       "COVID        177\n",
       "RA           112\n",
       "sepsis        54\n",
       "CD            34\n",
       "PSA           32\n",
       "PS            32\n",
       "HNSCC         26\n",
       "UC            22\n",
       "HBV           18\n",
       "HIV           14\n",
       "CRC           14\n",
       "asthma        12\n",
       "cirrhosis     12\n",
       "flu           12\n",
       "COPD          12\n",
       "NPC           10\n",
       "BRCA           6\n",
       "MS             5\n",
       "Name: count, dtype: int64"
      ]
     },
     "execution_count": 33,
     "metadata": {},
     "output_type": "execute_result"
    }
   ],
   "source": [
    "patienteMetadataDF['disease'].value_counts(dropna=False)"
   ]
  },
  {
   "cell_type": "code",
   "execution_count": 34,
   "id": "359aadfe-420f-430c-9c64-30d61626764d",
   "metadata": {
    "execution": {
     "iopub.execute_input": "2024-05-06T16:25:28.888747Z",
     "iopub.status.busy": "2024-05-06T16:25:28.888435Z",
     "iopub.status.idle": "2024-05-06T16:25:28.896814Z",
     "shell.execute_reply": "2024-05-06T16:25:28.896453Z",
     "shell.execute_reply.started": "2024-05-06T16:25:28.888724Z"
    },
    "papermill": {
     "duration": 0.03512,
     "end_time": "2024-04-26T15:04:54.567922",
     "exception": false,
     "start_time": "2024-04-26T15:04:54.532802",
     "status": "completed"
    },
    "tags": []
   },
   "outputs": [],
   "source": [
    "patienteMetadataDF['diseaseGroup'] = patienteMetadataDF['disease'].map(diseaseCategories)"
   ]
  },
  {
   "cell_type": "code",
   "execution_count": 35,
   "id": "971391b6-e67a-4c50-bc9a-ce28065dbc68",
   "metadata": {
    "execution": {
     "iopub.execute_input": "2024-05-06T16:25:28.897562Z",
     "iopub.status.busy": "2024-05-06T16:25:28.897292Z",
     "iopub.status.idle": "2024-05-06T16:25:28.922345Z",
     "shell.execute_reply": "2024-05-06T16:25:28.922002Z",
     "shell.execute_reply.started": "2024-05-06T16:25:28.897545Z"
    },
    "papermill": {
     "duration": 0.029335,
     "end_time": "2024-04-26T15:04:54.618238",
     "exception": false,
     "start_time": "2024-04-26T15:04:54.588903",
     "status": "completed"
    },
    "tags": []
   },
   "outputs": [
    {
     "data": {
      "text/plain": [
       "diseaseGroup\n",
       "healthy                 507\n",
       "IMIDs                   434\n",
       "infection               221\n",
       "solid_tumor              56\n",
       "acute_inflammation       54\n",
       "chronic_inflammation     36\n",
       "Name: count, dtype: int64"
      ]
     },
     "execution_count": 35,
     "metadata": {},
     "output_type": "execute_result"
    }
   ],
   "source": [
    "patienteMetadataDF['diseaseGroup'].value_counts(dropna=False)"
   ]
  },
  {
   "cell_type": "markdown",
   "id": "c85f401e-8ddd-4547-b228-d0ca71a1c96a",
   "metadata": {
    "papermill": {
     "duration": 0.024219,
     "end_time": "2024-04-26T15:04:54.665584",
     "exception": false,
     "start_time": "2024-04-26T15:04:54.641365",
     "status": "completed"
    },
    "tags": []
   },
   "source": [
    "#### Checking disease status"
   ]
  },
  {
   "cell_type": "code",
   "execution_count": 36,
   "id": "3d03a32c-95cb-4f10-b603-b136cc1ccc6c",
   "metadata": {
    "execution": {
     "iopub.execute_input": "2024-05-06T16:25:28.923082Z",
     "iopub.status.busy": "2024-05-06T16:25:28.922895Z",
     "iopub.status.idle": "2024-05-06T16:25:28.931981Z",
     "shell.execute_reply": "2024-05-06T16:25:28.931630Z",
     "shell.execute_reply.started": "2024-05-06T16:25:28.923065Z"
    },
    "papermill": {
     "duration": 0.026657,
     "end_time": "2024-04-26T15:04:54.716902",
     "exception": false,
     "start_time": "2024-04-26T15:04:54.690245",
     "status": "completed"
    },
    "tags": []
   },
   "outputs": [
    {
     "data": {
      "text/plain": [
       "array(['na', 'inactive', 'active', 'GINA_4', 'GINA_3', 'GINA_2', 'GINA_1',\n",
       "       'GOLD_3', 'GOLD_4', 'OH', 'NASH', 'OH active', 'MSI-H', 'MSS',\n",
       "       'PNA', 'mild', 'Control', 'URO', 'ICU-SEP', 'BAC-SEP', 'healthy',\n",
       "       'T1_p16-', 'T3_p16-', 'T4A_p16-', 'T2_p16-', 'T2_p16+', 'T4_p16-',\n",
       "       'T1_p16+', 'T4_p16+', 'TX_p16-', 'HBV_ChronicResolved',\n",
       "       'HBV_AcuteRecovery', 'HBV_ImmuneTolerant', 'HBV_ImmuneActivation',\n",
       "       'flair_8', 'flair_6', 'flair_>10', 'flair_5', 'flair_4', 'flair_1',\n",
       "       'flair_2', 'T3N3M1,Ivb', 'T3N2M0,III', 'T4N3M0,Iva', 'T2N2M0,III',\n",
       "       'T4N3M1,Ivb', 'T3N1M0,III', 'T2N1M0,II', 'Managed', 'Healthy',\n",
       "       'Treated', 'Flare', 'NAFLD', 'HH (Hereditary Haemochromatosis)',\n",
       "       'Chronic', 'ARDS', 'COVID_SEV', 'COVID_MILD', 'COVID_HCW_MILD',\n",
       "       'COVID_CRIT', 'COVID_LDN', 'Sepsis', 'HV', 'Flu',\n",
       "       'severe/critical_progression', 'mild/moderate_progression',\n",
       "       'mild/moderate_convalescence', 'severe/critical_convalescence'],\n",
       "      dtype=object)"
      ]
     },
     "execution_count": 36,
     "metadata": {},
     "output_type": "execute_result"
    }
   ],
   "source": [
    "patienteMetadataDF['diseaseStatus'].unique()"
   ]
  },
  {
   "cell_type": "code",
   "execution_count": 37,
   "id": "ac44e12b-3839-453b-a142-a71e51fbd634",
   "metadata": {
    "execution": {
     "iopub.execute_input": "2024-05-06T16:25:28.932709Z",
     "iopub.status.busy": "2024-05-06T16:25:28.932467Z",
     "iopub.status.idle": "2024-05-06T16:25:28.942478Z",
     "shell.execute_reply": "2024-05-06T16:25:28.942110Z",
     "shell.execute_reply.started": "2024-05-06T16:25:28.932692Z"
    },
    "papermill": {
     "duration": 0.026674,
     "end_time": "2024-04-26T15:04:54.766206",
     "exception": false,
     "start_time": "2024-04-26T15:04:54.739532",
     "status": "completed"
    },
    "tags": []
   },
   "outputs": [],
   "source": [
    "patienteMetadataDF.loc[patienteMetadataDF.disease == 'healthy','diseaseStatus'] = 'healthy'"
   ]
  },
  {
   "cell_type": "code",
   "execution_count": 38,
   "id": "c9402d6e-a5ed-4829-a8f0-af67df9ecfa3",
   "metadata": {
    "execution": {
     "iopub.execute_input": "2024-05-06T16:25:28.943281Z",
     "iopub.status.busy": "2024-05-06T16:25:28.942955Z",
     "iopub.status.idle": "2024-05-06T16:25:29.012402Z",
     "shell.execute_reply": "2024-05-06T16:25:29.011978Z",
     "shell.execute_reply.started": "2024-05-06T16:25:28.943264Z"
    },
    "papermill": {
     "duration": 0.02769,
     "end_time": "2024-04-26T15:04:54.814971",
     "exception": false,
     "start_time": "2024-04-26T15:04:54.787281",
     "status": "completed"
    },
    "tags": []
   },
   "outputs": [],
   "source": [
    "patienteMetadataDF['diseaseStatus'] = patienteMetadataDF['diseaseStatus'].astype('category')"
   ]
  },
  {
   "cell_type": "code",
   "execution_count": 39,
   "id": "97188c4b-79bf-4742-8507-17cba43dbc10",
   "metadata": {
    "execution": {
     "iopub.execute_input": "2024-05-06T16:25:29.013011Z",
     "iopub.status.busy": "2024-05-06T16:25:29.012869Z",
     "iopub.status.idle": "2024-05-06T16:25:29.030730Z",
     "shell.execute_reply": "2024-05-06T16:25:29.030328Z",
     "shell.execute_reply.started": "2024-05-06T16:25:29.012995Z"
    },
    "papermill": {
     "duration": 0.033539,
     "end_time": "2024-04-26T15:04:54.869798",
     "exception": false,
     "start_time": "2024-04-26T15:04:54.836259",
     "status": "completed"
    },
    "tags": []
   },
   "outputs": [
    {
     "data": {
      "text/html": [
       "<div>\n",
       "<style scoped>\n",
       "    .dataframe tbody tr th:only-of-type {\n",
       "        vertical-align: middle;\n",
       "    }\n",
       "\n",
       "    .dataframe tbody tr th {\n",
       "        vertical-align: top;\n",
       "    }\n",
       "\n",
       "    .dataframe thead th {\n",
       "        text-align: right;\n",
       "    }\n",
       "</style>\n",
       "<table border=\"1\" class=\"dataframe\">\n",
       "  <thead>\n",
       "    <tr style=\"text-align: right;\">\n",
       "      <th></th>\n",
       "      <th>disease</th>\n",
       "      <th>diseaseStatus</th>\n",
       "      <th>count</th>\n",
       "    </tr>\n",
       "  </thead>\n",
       "  <tbody>\n",
       "    <tr>\n",
       "      <th>0</th>\n",
       "      <td>healthy</td>\n",
       "      <td>healthy</td>\n",
       "      <td>507</td>\n",
       "    </tr>\n",
       "    <tr>\n",
       "      <th>1</th>\n",
       "      <td>SLE</td>\n",
       "      <td>Managed</td>\n",
       "      <td>146</td>\n",
       "    </tr>\n",
       "    <tr>\n",
       "      <th>2</th>\n",
       "      <td>RA</td>\n",
       "      <td>na</td>\n",
       "      <td>112</td>\n",
       "    </tr>\n",
       "    <tr>\n",
       "      <th>3</th>\n",
       "      <td>COVID</td>\n",
       "      <td>COVID_SEV</td>\n",
       "      <td>41</td>\n",
       "    </tr>\n",
       "    <tr>\n",
       "      <th>4</th>\n",
       "      <td>CD</td>\n",
       "      <td>na</td>\n",
       "      <td>34</td>\n",
       "    </tr>\n",
       "    <tr>\n",
       "      <th>5</th>\n",
       "      <td>COVID</td>\n",
       "      <td>severe/critical_progression</td>\n",
       "      <td>34</td>\n",
       "    </tr>\n",
       "    <tr>\n",
       "      <th>6</th>\n",
       "      <td>PS</td>\n",
       "      <td>na</td>\n",
       "      <td>32</td>\n",
       "    </tr>\n",
       "    <tr>\n",
       "      <th>7</th>\n",
       "      <td>PSA</td>\n",
       "      <td>na</td>\n",
       "      <td>32</td>\n",
       "    </tr>\n",
       "    <tr>\n",
       "      <th>8</th>\n",
       "      <td>sepsis</td>\n",
       "      <td>Sepsis</td>\n",
       "      <td>25</td>\n",
       "    </tr>\n",
       "    <tr>\n",
       "      <th>9</th>\n",
       "      <td>UC</td>\n",
       "      <td>na</td>\n",
       "      <td>22</td>\n",
       "    </tr>\n",
       "    <tr>\n",
       "      <th>10</th>\n",
       "      <td>SLE</td>\n",
       "      <td>na</td>\n",
       "      <td>22</td>\n",
       "    </tr>\n",
       "    <tr>\n",
       "      <th>11</th>\n",
       "      <td>COVID</td>\n",
       "      <td>severe/critical_convalescence</td>\n",
       "      <td>22</td>\n",
       "    </tr>\n",
       "    <tr>\n",
       "      <th>12</th>\n",
       "      <td>COVID</td>\n",
       "      <td>mild/moderate_convalescence</td>\n",
       "      <td>20</td>\n",
       "    </tr>\n",
       "    <tr>\n",
       "      <th>13</th>\n",
       "      <td>SLE</td>\n",
       "      <td>Flare</td>\n",
       "      <td>19</td>\n",
       "    </tr>\n",
       "    <tr>\n",
       "      <th>14</th>\n",
       "      <td>COVID</td>\n",
       "      <td>COVID_CRIT</td>\n",
       "      <td>19</td>\n",
       "    </tr>\n",
       "    <tr>\n",
       "      <th>15</th>\n",
       "      <td>COVID</td>\n",
       "      <td>COVID_MILD</td>\n",
       "      <td>18</td>\n",
       "    </tr>\n",
       "    <tr>\n",
       "      <th>16</th>\n",
       "      <td>COVID</td>\n",
       "      <td>COVID_HCW_MILD</td>\n",
       "      <td>13</td>\n",
       "    </tr>\n",
       "    <tr>\n",
       "      <th>17</th>\n",
       "      <td>flu</td>\n",
       "      <td>Flu</td>\n",
       "      <td>12</td>\n",
       "    </tr>\n",
       "    <tr>\n",
       "      <th>18</th>\n",
       "      <td>SLE</td>\n",
       "      <td>Treated</td>\n",
       "      <td>10</td>\n",
       "    </tr>\n",
       "    <tr>\n",
       "      <th>19</th>\n",
       "      <td>sepsis</td>\n",
       "      <td>URO</td>\n",
       "      <td>10</td>\n",
       "    </tr>\n",
       "    <tr>\n",
       "      <th>20</th>\n",
       "      <td>CRC</td>\n",
       "      <td>MSS</td>\n",
       "      <td>9</td>\n",
       "    </tr>\n",
       "    <tr>\n",
       "      <th>21</th>\n",
       "      <td>HNSCC</td>\n",
       "      <td>T3_p16-</td>\n",
       "      <td>8</td>\n",
       "    </tr>\n",
       "    <tr>\n",
       "      <th>22</th>\n",
       "      <td>sepsis</td>\n",
       "      <td>ICU-SEP</td>\n",
       "      <td>8</td>\n",
       "    </tr>\n",
       "    <tr>\n",
       "      <th>23</th>\n",
       "      <td>HIV</td>\n",
       "      <td>na</td>\n",
       "      <td>8</td>\n",
       "    </tr>\n",
       "    <tr>\n",
       "      <th>24</th>\n",
       "      <td>HBV</td>\n",
       "      <td>HBV_ImmuneTolerant</td>\n",
       "      <td>7</td>\n",
       "    </tr>\n",
       "    <tr>\n",
       "      <th>25</th>\n",
       "      <td>COPD</td>\n",
       "      <td>GOLD_4</td>\n",
       "      <td>7</td>\n",
       "    </tr>\n",
       "    <tr>\n",
       "      <th>26</th>\n",
       "      <td>BRCA</td>\n",
       "      <td>na</td>\n",
       "      <td>6</td>\n",
       "    </tr>\n",
       "    <tr>\n",
       "      <th>27</th>\n",
       "      <td>HIV</td>\n",
       "      <td>Chronic</td>\n",
       "      <td>6</td>\n",
       "    </tr>\n",
       "    <tr>\n",
       "      <th>28</th>\n",
       "      <td>COPD</td>\n",
       "      <td>GOLD_3</td>\n",
       "      <td>5</td>\n",
       "    </tr>\n",
       "    <tr>\n",
       "      <th>29</th>\n",
       "      <td>HNSCC</td>\n",
       "      <td>T4_p16-</td>\n",
       "      <td>5</td>\n",
       "    </tr>\n",
       "    <tr>\n",
       "      <th>30</th>\n",
       "      <td>CRC</td>\n",
       "      <td>MSI-H</td>\n",
       "      <td>5</td>\n",
       "    </tr>\n",
       "    <tr>\n",
       "      <th>31</th>\n",
       "      <td>COVID</td>\n",
       "      <td>mild/moderate_progression</td>\n",
       "      <td>4</td>\n",
       "    </tr>\n",
       "    <tr>\n",
       "      <th>32</th>\n",
       "      <td>sepsis</td>\n",
       "      <td>PNA</td>\n",
       "      <td>4</td>\n",
       "    </tr>\n",
       "    <tr>\n",
       "      <th>33</th>\n",
       "      <td>sepsis</td>\n",
       "      <td>BAC-SEP</td>\n",
       "      <td>4</td>\n",
       "    </tr>\n",
       "    <tr>\n",
       "      <th>34</th>\n",
       "      <td>HBV</td>\n",
       "      <td>HBV_AcuteRecovery</td>\n",
       "      <td>4</td>\n",
       "    </tr>\n",
       "    <tr>\n",
       "      <th>35</th>\n",
       "      <td>asthma</td>\n",
       "      <td>GINA_2</td>\n",
       "      <td>4</td>\n",
       "    </tr>\n",
       "    <tr>\n",
       "      <th>36</th>\n",
       "      <td>HBV</td>\n",
       "      <td>HBV_ImmuneActivation</td>\n",
       "      <td>4</td>\n",
       "    </tr>\n",
       "    <tr>\n",
       "      <th>37</th>\n",
       "      <td>cirrhosis</td>\n",
       "      <td>OH</td>\n",
       "      <td>4</td>\n",
       "    </tr>\n",
       "    <tr>\n",
       "      <th>38</th>\n",
       "      <td>HNSCC</td>\n",
       "      <td>T1_p16+</td>\n",
       "      <td>4</td>\n",
       "    </tr>\n",
       "    <tr>\n",
       "      <th>39</th>\n",
       "      <td>asthma</td>\n",
       "      <td>GINA_4</td>\n",
       "      <td>4</td>\n",
       "    </tr>\n",
       "    <tr>\n",
       "      <th>40</th>\n",
       "      <td>cirrhosis</td>\n",
       "      <td>NAFLD</td>\n",
       "      <td>3</td>\n",
       "    </tr>\n",
       "    <tr>\n",
       "      <th>41</th>\n",
       "      <td>HBV</td>\n",
       "      <td>HBV_ChronicResolved</td>\n",
       "      <td>3</td>\n",
       "    </tr>\n",
       "    <tr>\n",
       "      <th>42</th>\n",
       "      <td>COVID</td>\n",
       "      <td>PNA</td>\n",
       "      <td>3</td>\n",
       "    </tr>\n",
       "    <tr>\n",
       "      <th>43</th>\n",
       "      <td>sepsis</td>\n",
       "      <td>ARDS</td>\n",
       "      <td>3</td>\n",
       "    </tr>\n",
       "    <tr>\n",
       "      <th>44</th>\n",
       "      <td>HNSCC</td>\n",
       "      <td>T2_p16+</td>\n",
       "      <td>3</td>\n",
       "    </tr>\n",
       "    <tr>\n",
       "      <th>45</th>\n",
       "      <td>NPC</td>\n",
       "      <td>T3N2M0,III</td>\n",
       "      <td>3</td>\n",
       "    </tr>\n",
       "    <tr>\n",
       "      <th>46</th>\n",
       "      <td>cirrhosis</td>\n",
       "      <td>NASH</td>\n",
       "      <td>2</td>\n",
       "    </tr>\n",
       "    <tr>\n",
       "      <th>47</th>\n",
       "      <td>asthma</td>\n",
       "      <td>GINA_3</td>\n",
       "      <td>2</td>\n",
       "    </tr>\n",
       "    <tr>\n",
       "      <th>48</th>\n",
       "      <td>asthma</td>\n",
       "      <td>GINA_1</td>\n",
       "      <td>2</td>\n",
       "    </tr>\n",
       "    <tr>\n",
       "      <th>49</th>\n",
       "      <td>cirrhosis</td>\n",
       "      <td>OH active</td>\n",
       "      <td>2</td>\n",
       "    </tr>\n",
       "    <tr>\n",
       "      <th>50</th>\n",
       "      <td>COVID</td>\n",
       "      <td>COVID_LDN</td>\n",
       "      <td>2</td>\n",
       "    </tr>\n",
       "    <tr>\n",
       "      <th>51</th>\n",
       "      <td>HNSCC</td>\n",
       "      <td>T2_p16-</td>\n",
       "      <td>2</td>\n",
       "    </tr>\n",
       "    <tr>\n",
       "      <th>52</th>\n",
       "      <td>NPC</td>\n",
       "      <td>T4N3M0,Iva</td>\n",
       "      <td>2</td>\n",
       "    </tr>\n",
       "    <tr>\n",
       "      <th>53</th>\n",
       "      <td>MS</td>\n",
       "      <td>flair_&gt;10</td>\n",
       "      <td>2</td>\n",
       "    </tr>\n",
       "    <tr>\n",
       "      <th>54</th>\n",
       "      <td>HNSCC</td>\n",
       "      <td>T4A_p16-</td>\n",
       "      <td>1</td>\n",
       "    </tr>\n",
       "    <tr>\n",
       "      <th>55</th>\n",
       "      <td>HNSCC</td>\n",
       "      <td>T1_p16-</td>\n",
       "      <td>1</td>\n",
       "    </tr>\n",
       "    <tr>\n",
       "      <th>56</th>\n",
       "      <td>NPC</td>\n",
       "      <td>T4N3M1,Ivb</td>\n",
       "      <td>1</td>\n",
       "    </tr>\n",
       "    <tr>\n",
       "      <th>57</th>\n",
       "      <td>cirrhosis</td>\n",
       "      <td>HH (Hereditary Haemochromatosis)</td>\n",
       "      <td>1</td>\n",
       "    </tr>\n",
       "    <tr>\n",
       "      <th>58</th>\n",
       "      <td>NPC</td>\n",
       "      <td>T3N3M1,Ivb</td>\n",
       "      <td>1</td>\n",
       "    </tr>\n",
       "    <tr>\n",
       "      <th>59</th>\n",
       "      <td>NPC</td>\n",
       "      <td>T3N1M0,III</td>\n",
       "      <td>1</td>\n",
       "    </tr>\n",
       "    <tr>\n",
       "      <th>60</th>\n",
       "      <td>NPC</td>\n",
       "      <td>T2N2M0,III</td>\n",
       "      <td>1</td>\n",
       "    </tr>\n",
       "    <tr>\n",
       "      <th>61</th>\n",
       "      <td>COVID</td>\n",
       "      <td>mild</td>\n",
       "      <td>1</td>\n",
       "    </tr>\n",
       "    <tr>\n",
       "      <th>62</th>\n",
       "      <td>NPC</td>\n",
       "      <td>T2N1M0,II</td>\n",
       "      <td>1</td>\n",
       "    </tr>\n",
       "    <tr>\n",
       "      <th>63</th>\n",
       "      <td>MS</td>\n",
       "      <td>flair_6</td>\n",
       "      <td>1</td>\n",
       "    </tr>\n",
       "    <tr>\n",
       "      <th>64</th>\n",
       "      <td>MS</td>\n",
       "      <td>flair_5</td>\n",
       "      <td>1</td>\n",
       "    </tr>\n",
       "    <tr>\n",
       "      <th>65</th>\n",
       "      <td>HNSCC</td>\n",
       "      <td>TX_p16-</td>\n",
       "      <td>1</td>\n",
       "    </tr>\n",
       "    <tr>\n",
       "      <th>66</th>\n",
       "      <td>HNSCC</td>\n",
       "      <td>T4_p16+</td>\n",
       "      <td>1</td>\n",
       "    </tr>\n",
       "    <tr>\n",
       "      <th>67</th>\n",
       "      <td>MS</td>\n",
       "      <td>flair_8</td>\n",
       "      <td>1</td>\n",
       "    </tr>\n",
       "  </tbody>\n",
       "</table>\n",
       "</div>"
      ],
      "text/plain": [
       "      disease                     diseaseStatus  count\n",
       "0     healthy                           healthy    507\n",
       "1         SLE                           Managed    146\n",
       "2          RA                                na    112\n",
       "3       COVID                         COVID_SEV     41\n",
       "4          CD                                na     34\n",
       "5       COVID       severe/critical_progression     34\n",
       "6          PS                                na     32\n",
       "7         PSA                                na     32\n",
       "8      sepsis                            Sepsis     25\n",
       "9          UC                                na     22\n",
       "10        SLE                                na     22\n",
       "11      COVID     severe/critical_convalescence     22\n",
       "12      COVID       mild/moderate_convalescence     20\n",
       "13        SLE                             Flare     19\n",
       "14      COVID                        COVID_CRIT     19\n",
       "15      COVID                        COVID_MILD     18\n",
       "16      COVID                    COVID_HCW_MILD     13\n",
       "17        flu                               Flu     12\n",
       "18        SLE                           Treated     10\n",
       "19     sepsis                               URO     10\n",
       "20        CRC                               MSS      9\n",
       "21      HNSCC                           T3_p16-      8\n",
       "22     sepsis                           ICU-SEP      8\n",
       "23        HIV                                na      8\n",
       "24        HBV                HBV_ImmuneTolerant      7\n",
       "25       COPD                            GOLD_4      7\n",
       "26       BRCA                                na      6\n",
       "27        HIV                           Chronic      6\n",
       "28       COPD                            GOLD_3      5\n",
       "29      HNSCC                           T4_p16-      5\n",
       "30        CRC                             MSI-H      5\n",
       "31      COVID         mild/moderate_progression      4\n",
       "32     sepsis                               PNA      4\n",
       "33     sepsis                           BAC-SEP      4\n",
       "34        HBV                 HBV_AcuteRecovery      4\n",
       "35     asthma                            GINA_2      4\n",
       "36        HBV              HBV_ImmuneActivation      4\n",
       "37  cirrhosis                                OH      4\n",
       "38      HNSCC                           T1_p16+      4\n",
       "39     asthma                            GINA_4      4\n",
       "40  cirrhosis                             NAFLD      3\n",
       "41        HBV               HBV_ChronicResolved      3\n",
       "42      COVID                               PNA      3\n",
       "43     sepsis                              ARDS      3\n",
       "44      HNSCC                           T2_p16+      3\n",
       "45        NPC                        T3N2M0,III      3\n",
       "46  cirrhosis                              NASH      2\n",
       "47     asthma                            GINA_3      2\n",
       "48     asthma                            GINA_1      2\n",
       "49  cirrhosis                         OH active      2\n",
       "50      COVID                         COVID_LDN      2\n",
       "51      HNSCC                           T2_p16-      2\n",
       "52        NPC                        T4N3M0,Iva      2\n",
       "53         MS                         flair_>10      2\n",
       "54      HNSCC                          T4A_p16-      1\n",
       "55      HNSCC                           T1_p16-      1\n",
       "56        NPC                        T4N3M1,Ivb      1\n",
       "57  cirrhosis  HH (Hereditary Haemochromatosis)      1\n",
       "58        NPC                        T3N3M1,Ivb      1\n",
       "59        NPC                        T3N1M0,III      1\n",
       "60        NPC                        T2N2M0,III      1\n",
       "61      COVID                              mild      1\n",
       "62        NPC                         T2N1M0,II      1\n",
       "63         MS                           flair_6      1\n",
       "64         MS                           flair_5      1\n",
       "65      HNSCC                           TX_p16-      1\n",
       "66      HNSCC                           T4_p16+      1\n",
       "67         MS                           flair_8      1"
      ]
     },
     "execution_count": 39,
     "metadata": {},
     "output_type": "execute_result"
    }
   ],
   "source": [
    "pd.options.display.max_rows=100\n",
    "patienteMetadataDF[['disease','diseaseStatus']].value_counts(dropna=False).reset_index()"
   ]
  },
  {
   "cell_type": "markdown",
   "id": "97c59818-761d-43b4-a677-7096c605cf94",
   "metadata": {
    "papermill": {
     "duration": 0.022588,
     "end_time": "2024-04-26T15:04:54.914672",
     "exception": false,
     "start_time": "2024-04-26T15:04:54.892084",
     "status": "completed"
    },
    "tags": []
   },
   "source": [
    "#### Checking smoking status\n",
    "\n",
    "In order to aggregate information from different datasets we are considering:\n",
    "1. 'current', 'occasionally', and 'yes' = 'smoker'\n",
    "2. 'past' and 'former' = 'former-smoker'\n",
    "3. 'never', and 'no' = 'never-smoker'\n",
    "4. 'unknown' and 'nan' = 'na'"
   ]
  },
  {
   "cell_type": "code",
   "execution_count": 40,
   "id": "dbde98fe-cd6c-440d-bd37-a8368c7a5909",
   "metadata": {
    "execution": {
     "iopub.execute_input": "2024-05-06T16:25:29.031634Z",
     "iopub.status.busy": "2024-05-06T16:25:29.031362Z",
     "iopub.status.idle": "2024-05-06T16:25:29.037052Z",
     "shell.execute_reply": "2024-05-06T16:25:29.036708Z",
     "shell.execute_reply.started": "2024-05-06T16:25:29.031617Z"
    },
    "papermill": {
     "duration": 0.030227,
     "end_time": "2024-04-26T15:04:54.967573",
     "exception": false,
     "start_time": "2024-04-26T15:04:54.937346",
     "status": "completed"
    },
    "tags": []
   },
   "outputs": [
    {
     "data": {
      "text/plain": [
       "array(['non-smoker', 'na', 'smoker', 'occasionally', 'Never', 'Past',\n",
       "       'no', 'former', 'yes', 'No', 'Former'], dtype=object)"
      ]
     },
     "execution_count": 40,
     "metadata": {},
     "output_type": "execute_result"
    }
   ],
   "source": [
    "patienteMetadataDF['smokingStatus'].unique()"
   ]
  },
  {
   "cell_type": "code",
   "execution_count": 41,
   "id": "9ecbbb9d-47d6-43d7-9f3a-648c0a11ec39",
   "metadata": {
    "execution": {
     "iopub.execute_input": "2024-05-06T16:25:29.037704Z",
     "iopub.status.busy": "2024-05-06T16:25:29.037529Z",
     "iopub.status.idle": "2024-05-06T16:25:29.057290Z",
     "shell.execute_reply": "2024-05-06T16:25:29.056920Z",
     "shell.execute_reply.started": "2024-05-06T16:25:29.037688Z"
    },
    "papermill": {
     "duration": 0.030261,
     "end_time": "2024-04-26T15:04:55.020409",
     "exception": false,
     "start_time": "2024-04-26T15:04:54.990148",
     "status": "completed"
    },
    "tags": []
   },
   "outputs": [],
   "source": [
    "# renaiming\n",
    "patienteMetadataDF['smokingStatus'] = patienteMetadataDF['smokingStatus'].replace({'current':'smoker',\n",
    "                                                                                   'occasionally':'smoker',\n",
    "                                                                                   'yes':'smoker',\n",
    "                                                                                   'non-smoker':'never-smoker',\n",
    "                                                                                   'Never':'never-smoker',\n",
    "                                                                                   'never':'never-smoker',\n",
    "                                                                                   'no':'never-smoker',\n",
    "                                                                                   'No': 'never-smoker',\n",
    "                                                                                   'Past':'former-smoker',\n",
    "                                                                                   'former':'former-smoker',\n",
    "                                                                                   'Former':'former-smoker',\n",
    "                                                                                   'nan':'na',\n",
    "                                                                                   'unknown':'na'},\n",
    "                                                                                  inplace=False).astype('category')"
   ]
  },
  {
   "cell_type": "code",
   "execution_count": 42,
   "id": "f7e2ad5e-df75-4da4-87c7-c1261d776ee2",
   "metadata": {
    "execution": {
     "iopub.execute_input": "2024-05-06T16:25:29.058055Z",
     "iopub.status.busy": "2024-05-06T16:25:29.057845Z",
     "iopub.status.idle": "2024-05-06T16:25:29.067676Z",
     "shell.execute_reply": "2024-05-06T16:25:29.067226Z",
     "shell.execute_reply.started": "2024-05-06T16:25:29.058038Z"
    },
    "papermill": {
     "duration": 0.029911,
     "end_time": "2024-04-26T15:04:55.073005",
     "exception": false,
     "start_time": "2024-04-26T15:04:55.043094",
     "status": "completed"
    },
    "tags": []
   },
   "outputs": [
    {
     "data": {
      "text/plain": [
       "smokingStatus\n",
       "na               997\n",
       "never-smoker     218\n",
       "smoker            68\n",
       "former-smoker     25\n",
       "Name: count, dtype: int64"
      ]
     },
     "execution_count": 42,
     "metadata": {},
     "output_type": "execute_result"
    }
   ],
   "source": [
    "patienteMetadataDF['smokingStatus'].value_counts(dropna=False)"
   ]
  },
  {
   "cell_type": "markdown",
   "id": "4f34bc12-09e6-4fd5-8bf9-34b9ab1203c1",
   "metadata": {
    "papermill": {
     "duration": 0.023039,
     "end_time": "2024-04-26T15:04:55.117793",
     "exception": false,
     "start_time": "2024-04-26T15:04:55.094754",
     "status": "completed"
    },
    "tags": []
   },
   "source": [
    "#### Checking ethnicity"
   ]
  },
  {
   "cell_type": "code",
   "execution_count": 43,
   "id": "f03a5f7f-c1d8-4a37-994f-255bf65587e1",
   "metadata": {
    "execution": {
     "iopub.execute_input": "2024-05-06T16:25:29.068307Z",
     "iopub.status.busy": "2024-05-06T16:25:29.068166Z",
     "iopub.status.idle": "2024-05-06T16:25:29.085810Z",
     "shell.execute_reply": "2024-05-06T16:25:29.085452Z",
     "shell.execute_reply.started": "2024-05-06T16:25:29.068291Z"
    },
    "papermill": {
     "duration": 0.029487,
     "end_time": "2024-04-26T15:04:55.169988",
     "exception": false,
     "start_time": "2024-04-26T15:04:55.140501",
     "status": "completed"
    },
    "tags": []
   },
   "outputs": [
    {
     "data": {
      "text/plain": [
       "array(['na', 'Caucasian', 'Unknown', 'European', 'Asian',\n",
       "       'African American', 'Hispanic', 'other race', 'Non-Hispanic',\n",
       "       'White', 'White-Caucasian'], dtype=object)"
      ]
     },
     "execution_count": 43,
     "metadata": {},
     "output_type": "execute_result"
    }
   ],
   "source": [
    "patienteMetadataDF['ethnicity'].unique()"
   ]
  },
  {
   "cell_type": "code",
   "execution_count": 44,
   "id": "b6e945bb-7a7f-4666-9aeb-b62e55488856",
   "metadata": {
    "execution": {
     "iopub.execute_input": "2024-05-06T16:25:29.086449Z",
     "iopub.status.busy": "2024-05-06T16:25:29.086274Z",
     "iopub.status.idle": "2024-05-06T16:25:29.095935Z",
     "shell.execute_reply": "2024-05-06T16:25:29.095559Z",
     "shell.execute_reply.started": "2024-05-06T16:25:29.086432Z"
    },
    "papermill": {
     "duration": 0.030512,
     "end_time": "2024-04-26T15:04:55.222075",
     "exception": false,
     "start_time": "2024-04-26T15:04:55.191563",
     "status": "completed"
    },
    "tags": []
   },
   "outputs": [],
   "source": [
    "# renaiming\n",
    "patienteMetadataDF['ethnicity'] = patienteMetadataDF['ethnicity'].replace({'Unknown':'na',\n",
    "                                         'other race':'na',\n",
    "                                         'White-Caucasian':'Caucasian', \n",
    "                                         'European':'Caucasian', \n",
    "                                         'Hispanic':'Caucasian',\n",
    "                                         'Non-Hispanic':'na',\n",
    "                                         'White':'Caucasian'},\n",
    "                                            inplace=False).astype('category')"
   ]
  },
  {
   "cell_type": "code",
   "execution_count": 45,
   "id": "607b456c-3188-426e-8d91-60f6187f8139",
   "metadata": {
    "execution": {
     "iopub.execute_input": "2024-05-06T16:25:29.096588Z",
     "iopub.status.busy": "2024-05-06T16:25:29.096413Z",
     "iopub.status.idle": "2024-05-06T16:25:29.106674Z",
     "shell.execute_reply": "2024-05-06T16:25:29.106332Z",
     "shell.execute_reply.started": "2024-05-06T16:25:29.096572Z"
    },
    "papermill": {
     "duration": 0.061171,
     "end_time": "2024-04-26T15:04:55.306801",
     "exception": false,
     "start_time": "2024-04-26T15:04:55.245630",
     "status": "completed"
    },
    "tags": []
   },
   "outputs": [
    {
     "data": {
      "text/plain": [
       "ethnicity\n",
       "na                  992\n",
       "Caucasian           195\n",
       "Asian               115\n",
       "African American      6\n",
       "Name: count, dtype: int64"
      ]
     },
     "execution_count": 45,
     "metadata": {},
     "output_type": "execute_result"
    }
   ],
   "source": [
    "patienteMetadataDF['ethnicity'].value_counts(dropna=False)"
   ]
  },
  {
   "cell_type": "markdown",
   "id": "74afc0d8-bb55-47ad-80f3-a57183213c6d",
   "metadata": {
    "papermill": {
     "duration": 0.021845,
     "end_time": "2024-04-26T15:04:55.350993",
     "exception": false,
     "start_time": "2024-04-26T15:04:55.329148",
     "status": "completed"
    },
    "tags": []
   },
   "source": [
    "#### Checking institute"
   ]
  },
  {
   "cell_type": "code",
   "execution_count": 46,
   "id": "6021809e-4617-4213-a038-c71de5840e6c",
   "metadata": {
    "execution": {
     "iopub.execute_input": "2024-05-06T16:25:29.107342Z",
     "iopub.status.busy": "2024-05-06T16:25:29.107169Z",
     "iopub.status.idle": "2024-05-06T16:25:29.127533Z",
     "shell.execute_reply": "2024-05-06T16:25:29.127182Z",
     "shell.execute_reply.started": "2024-05-06T16:25:29.107325Z"
    },
    "papermill": {
     "duration": 0.027287,
     "end_time": "2024-04-26T15:04:55.401149",
     "exception": false,
     "start_time": "2024-04-26T15:04:55.373862",
     "status": "completed"
    },
    "tags": []
   },
   "outputs": [
    {
     "data": {
      "text/plain": [
       "array(['na', 'Oxford', 'St_Georges', 'Zhuhai', 'Wuhan', 'Hefei',\n",
       "       'Chongqing', 'Shandong', 'Shanghai', 'Beijing'], dtype=object)"
      ]
     },
     "execution_count": 46,
     "metadata": {},
     "output_type": "execute_result"
    }
   ],
   "source": [
    "patienteMetadataDF['institute'].unique()"
   ]
  },
  {
   "cell_type": "code",
   "execution_count": 47,
   "id": "0256f01b-3eb4-4962-af0d-aa7f8723f0cf",
   "metadata": {
    "execution": {
     "iopub.execute_input": "2024-05-06T16:25:29.128294Z",
     "iopub.status.busy": "2024-05-06T16:25:29.128054Z",
     "iopub.status.idle": "2024-05-06T16:25:29.136419Z",
     "shell.execute_reply": "2024-05-06T16:25:29.136049Z",
     "shell.execute_reply.started": "2024-05-06T16:25:29.128278Z"
    },
    "papermill": {
     "duration": 0.034086,
     "end_time": "2024-04-26T15:04:55.457352",
     "exception": false,
     "start_time": "2024-04-26T15:04:55.423266",
     "status": "completed"
    },
    "tags": []
   },
   "outputs": [],
   "source": [
    "patienteMetadataDF['institute'] = patienteMetadataDF['institute'].astype('category')"
   ]
  },
  {
   "cell_type": "code",
   "execution_count": 48,
   "id": "003752c8-b55b-41a6-88ae-08b14398a5ba",
   "metadata": {
    "execution": {
     "iopub.execute_input": "2024-05-06T16:25:29.137203Z",
     "iopub.status.busy": "2024-05-06T16:25:29.137020Z",
     "iopub.status.idle": "2024-05-06T16:25:29.173796Z",
     "shell.execute_reply": "2024-05-06T16:25:29.173335Z",
     "shell.execute_reply.started": "2024-05-06T16:25:29.137186Z"
    },
    "papermill": {
     "duration": 0.028974,
     "end_time": "2024-04-26T15:04:55.508430",
     "exception": false,
     "start_time": "2024-04-26T15:04:55.479456",
     "status": "completed"
    },
    "tags": []
   },
   "outputs": [
    {
     "data": {
      "text/plain": [
       "institute\n",
       "na            1083\n",
       "Oxford         126\n",
       "Wuhan           35\n",
       "Beijing         17\n",
       "St_Georges      14\n",
       "Zhuhai          13\n",
       "Chongqing       12\n",
       "Hefei            5\n",
       "Shanghai         2\n",
       "Shandong         1\n",
       "Name: count, dtype: int64"
      ]
     },
     "execution_count": 48,
     "metadata": {},
     "output_type": "execute_result"
    }
   ],
   "source": [
    "patienteMetadataDF['institute'].value_counts(dropna=False)"
   ]
  },
  {
   "cell_type": "markdown",
   "id": "469fdd60-fa8b-4d03-804e-f6b35998517c",
   "metadata": {
    "papermill": {
     "duration": 0.031954,
     "end_time": "2024-04-26T15:04:55.564013",
     "exception": false,
     "start_time": "2024-04-26T15:04:55.532059",
     "status": "completed"
    },
    "tags": []
   },
   "source": [
    "#### Harmonize treatmentStatus"
   ]
  },
  {
   "cell_type": "code",
   "execution_count": 49,
   "id": "82a43fff-d366-4c0f-8450-97f453747ead",
   "metadata": {
    "execution": {
     "iopub.execute_input": "2024-05-06T16:25:29.174586Z",
     "iopub.status.busy": "2024-05-06T16:25:29.174307Z",
     "iopub.status.idle": "2024-05-06T16:25:29.220513Z",
     "shell.execute_reply": "2024-05-06T16:25:29.220165Z",
     "shell.execute_reply.started": "2024-05-06T16:25:29.174570Z"
    },
    "papermill": {
     "duration": 0.028824,
     "end_time": "2024-04-26T15:04:55.617687",
     "exception": false,
     "start_time": "2024-04-26T15:04:55.588863",
     "status": "completed"
    },
    "tags": []
   },
   "outputs": [
    {
     "data": {
      "text/plain": [
       "array(['antiIL6', 'JAKi', 'antiTNF', 'antiIL17A', 'Control', 'IL12/IL23i',\n",
       "       'AntiBlyS/BAFF', 'TNF', 'antiIL6R', 'na', 'None', 'under', 'naive'],\n",
       "      dtype=object)"
      ]
     },
     "execution_count": 49,
     "metadata": {},
     "output_type": "execute_result"
    }
   ],
   "source": [
    "patienteMetadataDF.treatmentStatus.unique()"
   ]
  },
  {
   "cell_type": "code",
   "execution_count": 50,
   "id": "d1c79c1e-d513-4728-a202-8b406bf09450",
   "metadata": {
    "execution": {
     "iopub.execute_input": "2024-05-06T16:25:29.221242Z",
     "iopub.status.busy": "2024-05-06T16:25:29.221008Z",
     "iopub.status.idle": "2024-05-06T16:25:29.248436Z",
     "shell.execute_reply": "2024-05-06T16:25:29.248064Z",
     "shell.execute_reply.started": "2024-05-06T16:25:29.221226Z"
    },
    "papermill": {
     "duration": 0.03089,
     "end_time": "2024-04-26T15:04:55.670580",
     "exception": false,
     "start_time": "2024-04-26T15:04:55.639690",
     "status": "completed"
    },
    "tags": []
   },
   "outputs": [],
   "source": [
    "# I don't know if makes sense to keep the treatment info or convert everithing as 'ongoing'. \n",
    "# If we prefer the former approach we should retrieve which therapy (or family) patients labeled as 'under' were getting\n",
    "\n",
    "# renaiming\n",
    "patienteMetadataDF['treatmentStatus'] = patienteMetadataDF['treatmentStatus'].replace({'None':'naive',\n",
    "                                         'Control':'naive',\n",
    "                                         'antiIL6':'ongoing', 'JAKi':'ongoing', 'antiTNF':'ongoing', 'antiIL17A':'ongoing', 'IL12/IL23i':'ongoing',\n",
    "                                         'AntiBlyS/BAFF':'ongoing'                                         \n",
    "                                        }, inplace=False).astype('category')"
   ]
  },
  {
   "cell_type": "code",
   "execution_count": 51,
   "id": "0a12a56a-bdb9-4fb9-a503-931691c08307",
   "metadata": {
    "execution": {
     "iopub.execute_input": "2024-05-06T16:25:29.249141Z",
     "iopub.status.busy": "2024-05-06T16:25:29.248907Z",
     "iopub.status.idle": "2024-05-06T16:25:29.259750Z",
     "shell.execute_reply": "2024-05-06T16:25:29.259389Z",
     "shell.execute_reply.started": "2024-05-06T16:25:29.249125Z"
    },
    "papermill": {
     "duration": 0.033322,
     "end_time": "2024-04-26T15:04:55.736153",
     "exception": false,
     "start_time": "2024-04-26T15:04:55.702831",
     "status": "completed"
    },
    "tags": []
   },
   "outputs": [
    {
     "data": {
      "text/plain": [
       "treatmentStatus\n",
       "na          948\n",
       "ongoing     208\n",
       "under        85\n",
       "naive        35\n",
       "TNF          16\n",
       "antiIL6R     16\n",
       "Name: count, dtype: int64"
      ]
     },
     "execution_count": 51,
     "metadata": {},
     "output_type": "execute_result"
    }
   ],
   "source": [
    "patienteMetadataDF['treatmentStatus'].value_counts(dropna=False)"
   ]
  },
  {
   "cell_type": "markdown",
   "id": "8df599e1-3ce4-461c-9bc4-bc53dd0a1d25",
   "metadata": {
    "papermill": {
     "duration": 0.021936,
     "end_time": "2024-04-26T15:04:55.781228",
     "exception": false,
     "start_time": "2024-04-26T15:04:55.759292",
     "status": "completed"
    },
    "tags": []
   },
   "source": [
    "#### Checking therapyResponse\n"
   ]
  },
  {
   "cell_type": "code",
   "execution_count": 52,
   "id": "dcc1c455-0418-4626-8da8-261e84a8c4f1",
   "metadata": {
    "execution": {
     "iopub.execute_input": "2024-05-06T16:25:29.260542Z",
     "iopub.status.busy": "2024-05-06T16:25:29.260253Z",
     "iopub.status.idle": "2024-05-06T16:25:29.272294Z",
     "shell.execute_reply": "2024-05-06T16:25:29.271930Z",
     "shell.execute_reply.started": "2024-05-06T16:25:29.260526Z"
    },
    "papermill": {
     "duration": 0.02728,
     "end_time": "2024-04-26T15:04:55.830559",
     "exception": false,
     "start_time": "2024-04-26T15:04:55.803279",
     "status": "completed"
    },
    "tags": []
   },
   "outputs": [
    {
     "data": {
      "text/plain": [
       "array(['NR', 'R', 'na'], dtype=object)"
      ]
     },
     "execution_count": 52,
     "metadata": {},
     "output_type": "execute_result"
    }
   ],
   "source": [
    "patienteMetadataDF.therapyResponse.unique()"
   ]
  },
  {
   "cell_type": "code",
   "execution_count": 53,
   "id": "6a76366b-1104-42e4-bb5f-66ef43150f4b",
   "metadata": {
    "execution": {
     "iopub.execute_input": "2024-05-06T16:25:29.272964Z",
     "iopub.status.busy": "2024-05-06T16:25:29.272817Z",
     "iopub.status.idle": "2024-05-06T16:25:29.282758Z",
     "shell.execute_reply": "2024-05-06T16:25:29.282322Z",
     "shell.execute_reply.started": "2024-05-06T16:25:29.272948Z"
    },
    "papermill": {
     "duration": 0.028489,
     "end_time": "2024-04-26T15:04:55.897801",
     "exception": false,
     "start_time": "2024-04-26T15:04:55.869312",
     "status": "completed"
    },
    "tags": []
   },
   "outputs": [],
   "source": [
    "patienteMetadataDF['therapyResponse'] = patienteMetadataDF['therapyResponse'].astype('category')"
   ]
  },
  {
   "cell_type": "code",
   "execution_count": 54,
   "id": "a98cab75-7093-42c2-a24c-ab71443bea9a",
   "metadata": {
    "execution": {
     "iopub.execute_input": "2024-05-06T16:25:29.283546Z",
     "iopub.status.busy": "2024-05-06T16:25:29.283276Z",
     "iopub.status.idle": "2024-05-06T16:25:29.294249Z",
     "shell.execute_reply": "2024-05-06T16:25:29.293883Z",
     "shell.execute_reply.started": "2024-05-06T16:25:29.283529Z"
    },
    "papermill": {
     "duration": 0.029735,
     "end_time": "2024-04-26T15:04:55.955567",
     "exception": false,
     "start_time": "2024-04-26T15:04:55.925832",
     "status": "completed"
    },
    "tags": []
   },
   "outputs": [
    {
     "data": {
      "text/plain": [
       "therapyResponse\n",
       "na    1068\n",
       "R      122\n",
       "NR     118\n",
       "Name: count, dtype: int64"
      ]
     },
     "execution_count": 54,
     "metadata": {},
     "output_type": "execute_result"
    }
   ],
   "source": [
    "patienteMetadataDF['therapyResponse'].value_counts(dropna=False)"
   ]
  },
  {
   "cell_type": "markdown",
   "id": "758309e8-7cc4-4f1b-b605-d34f0c92f092",
   "metadata": {
    "papermill": {
     "duration": 0.022748,
     "end_time": "2024-04-26T15:04:56.000351",
     "exception": false,
     "start_time": "2024-04-26T15:04:55.977603",
     "status": "completed"
    },
    "tags": []
   },
   "source": [
    "#### Checking BMI"
   ]
  },
  {
   "cell_type": "code",
   "execution_count": 55,
   "id": "dd9f6ad7-f4a9-42a9-8a84-d4fb9dc8839c",
   "metadata": {
    "execution": {
     "iopub.execute_input": "2024-05-06T16:25:29.295172Z",
     "iopub.status.busy": "2024-05-06T16:25:29.294810Z",
     "iopub.status.idle": "2024-05-06T16:25:29.302947Z",
     "shell.execute_reply": "2024-05-06T16:25:29.302575Z",
     "shell.execute_reply.started": "2024-05-06T16:25:29.295152Z"
    },
    "papermill": {
     "duration": 0.02712,
     "end_time": "2024-04-26T15:04:56.049565",
     "exception": false,
     "start_time": "2024-04-26T15:04:56.022445",
     "status": "completed"
    },
    "tags": []
   },
   "outputs": [],
   "source": [
    "# round BMI values\n",
    "patienteMetadataDF['BMI'] = np.round(patienteMetadataDF['BMI'], 2)"
   ]
  },
  {
   "cell_type": "code",
   "execution_count": 56,
   "id": "182f6c78-3a28-495a-970e-423289116fe1",
   "metadata": {
    "execution": {
     "iopub.execute_input": "2024-05-06T16:25:29.303746Z",
     "iopub.status.busy": "2024-05-06T16:25:29.303459Z",
     "iopub.status.idle": "2024-05-06T16:25:29.744797Z",
     "shell.execute_reply": "2024-05-06T16:25:29.744372Z",
     "shell.execute_reply.started": "2024-05-06T16:25:29.303718Z"
    },
    "papermill": {
     "duration": 0.740629,
     "end_time": "2024-04-26T15:04:56.813246",
     "exception": false,
     "start_time": "2024-04-26T15:04:56.072617",
     "status": "completed"
    },
    "tags": []
   },
   "outputs": [
    {
     "data": {
      "image/png": "[encoded data removed]",
      "text/plain": [
       "<Figure size 400x400 with 1 Axes>"
      ]
     },
     "metadata": {
      "image/png": {
       "height": 336,
       "width": 346
      }
     },
     "output_type": "display_data"
    }
   ],
   "source": [
    "patienteMetadataDF['BMI'].hist()\n",
    "plt.show()"
   ]
  },
  {
   "cell_type": "markdown",
   "id": "e2ac1d55-7cb6-4cc2-9a82-023e1311c23a",
   "metadata": {
    "papermill": {
     "duration": 0.045884,
     "end_time": "2024-04-26T15:04:56.881501",
     "exception": false,
     "start_time": "2024-04-26T15:04:56.835617",
     "status": "completed"
    },
    "tags": []
   },
   "source": [
    "## Add metadata to merged anndata object"
   ]
  },
  {
   "cell_type": "code",
   "execution_count": 57,
   "id": "41a82893-e288-4ffb-9077-29e6f900d4f6",
   "metadata": {
    "execution": {
     "iopub.execute_input": "2024-05-06T16:25:29.746476Z",
     "iopub.status.busy": "2024-05-06T16:25:29.746209Z",
     "iopub.status.idle": "2024-05-06T16:27:50.703463Z",
     "shell.execute_reply": "2024-05-06T16:27:50.702721Z",
     "shell.execute_reply.started": "2024-05-06T16:25:29.746458Z"
    },
    "papermill": {
     "duration": 144.709686,
     "end_time": "2024-04-26T15:07:21.614282",
     "exception": false,
     "start_time": "2024-04-26T15:04:56.904596",
     "status": "completed"
    },
    "tags": []
   },
   "outputs": [],
   "source": [
    "mergedObj.obs = mergedObj.obs.merge(patienteMetadataDF, left_on='sampleID', right_index=True, how='left')"
   ]
  },
  {
   "cell_type": "code",
   "execution_count": 58,
   "id": "04a22453-9647-4aae-8eb5-482c61112dbb",
   "metadata": {
    "execution": {
     "iopub.execute_input": "2024-05-06T16:27:50.704545Z",
     "iopub.status.busy": "2024-05-06T16:27:50.704317Z",
     "iopub.status.idle": "2024-05-06T16:27:50.721128Z",
     "shell.execute_reply": "2024-05-06T16:27:50.720752Z",
     "shell.execute_reply.started": "2024-05-06T16:27:50.704525Z"
    },
    "papermill": {
     "duration": 0.042019,
     "end_time": "2024-04-26T15:07:21.680594",
     "exception": false,
     "start_time": "2024-04-26T15:07:21.638575",
     "status": "completed"
    },
    "tags": []
   },
   "outputs": [
    {
     "data": {
      "text/html": [
       "<div>\n",
       "<style scoped>\n",
       "    .dataframe tbody tr th:only-of-type {\n",
       "        vertical-align: middle;\n",
       "    }\n",
       "\n",
       "    .dataframe tbody tr th {\n",
       "        vertical-align: top;\n",
       "    }\n",
       "\n",
       "    .dataframe thead th {\n",
       "        text-align: right;\n",
       "    }\n",
       "</style>\n",
       "<table border=\"1\" class=\"dataframe\">\n",
       "  <thead>\n",
       "    <tr style=\"text-align: right;\">\n",
       "      <th></th>\n",
       "      <th>studyID</th>\n",
       "      <th>libraryID</th>\n",
       "      <th>sampleID</th>\n",
       "      <th>chemistry</th>\n",
       "      <th>technology</th>\n",
       "      <th>patientID</th>\n",
       "      <th>disease</th>\n",
       "      <th>timepoint_replicate</th>\n",
       "      <th>treatmentStatus</th>\n",
       "      <th>therapyResponse</th>\n",
       "      <th>sex</th>\n",
       "      <th>age</th>\n",
       "      <th>BMI</th>\n",
       "      <th>binned_age</th>\n",
       "      <th>diseaseStatus</th>\n",
       "      <th>smokingStatus</th>\n",
       "      <th>ethnicity</th>\n",
       "      <th>institute</th>\n",
       "      <th>diseaseGroup</th>\n",
       "    </tr>\n",
       "    <tr>\n",
       "      <th>cellID</th>\n",
       "      <th></th>\n",
       "      <th></th>\n",
       "      <th></th>\n",
       "      <th></th>\n",
       "      <th></th>\n",
       "      <th></th>\n",
       "      <th></th>\n",
       "      <th></th>\n",
       "      <th></th>\n",
       "      <th></th>\n",
       "      <th></th>\n",
       "      <th></th>\n",
       "      <th></th>\n",
       "      <th></th>\n",
       "      <th></th>\n",
       "      <th></th>\n",
       "      <th></th>\n",
       "      <th></th>\n",
       "      <th></th>\n",
       "    </tr>\n",
       "  </thead>\n",
       "  <tbody>\n",
       "    <tr>\n",
       "      <th>SCGT00_L051_I57.3P_T0_AAACCCAAGGTGAGAA</th>\n",
       "      <td>SCGT00</td>\n",
       "      <td>SCGT00_L051</td>\n",
       "      <td>SCGT00_I57.3P_T0</td>\n",
       "      <td>3_GEX_V3</td>\n",
       "      <td>3_GEX_V3_GenoHashed</td>\n",
       "      <td>SCGT00_I57</td>\n",
       "      <td>RA</td>\n",
       "      <td>0.0</td>\n",
       "      <td>ongoing</td>\n",
       "      <td>NR</td>\n",
       "      <td>female</td>\n",
       "      <td>47.0</td>\n",
       "      <td>25.71</td>\n",
       "      <td>41-50</td>\n",
       "      <td>na</td>\n",
       "      <td>never-smoker</td>\n",
       "      <td>na</td>\n",
       "      <td>na</td>\n",
       "      <td>IMIDs</td>\n",
       "    </tr>\n",
       "    <tr>\n",
       "      <th>SCGT00_L051_I56.3P_T0_AAACCCAAGTCCGTCG</th>\n",
       "      <td>SCGT00</td>\n",
       "      <td>SCGT00_L051</td>\n",
       "      <td>SCGT00_I56.3P_T0</td>\n",
       "      <td>3_GEX_V3</td>\n",
       "      <td>3_GEX_V3_GenoHashed</td>\n",
       "      <td>SCGT00_I56</td>\n",
       "      <td>RA</td>\n",
       "      <td>0.0</td>\n",
       "      <td>ongoing</td>\n",
       "      <td>R</td>\n",
       "      <td>female</td>\n",
       "      <td>56.0</td>\n",
       "      <td>30.11</td>\n",
       "      <td>51-60</td>\n",
       "      <td>na</td>\n",
       "      <td>never-smoker</td>\n",
       "      <td>na</td>\n",
       "      <td>na</td>\n",
       "      <td>IMIDs</td>\n",
       "    </tr>\n",
       "    <tr>\n",
       "      <th>SCGT00_L051_I53.3P_T0_AAACCCAAGTGCACTT</th>\n",
       "      <td>SCGT00</td>\n",
       "      <td>SCGT00_L051</td>\n",
       "      <td>SCGT00_I53.3P_T0</td>\n",
       "      <td>3_GEX_V3</td>\n",
       "      <td>3_GEX_V3_GenoHashed</td>\n",
       "      <td>SCGT00_I53</td>\n",
       "      <td>RA</td>\n",
       "      <td>0.0</td>\n",
       "      <td>ongoing</td>\n",
       "      <td>R</td>\n",
       "      <td>female</td>\n",
       "      <td>69.0</td>\n",
       "      <td>25.00</td>\n",
       "      <td>61-70</td>\n",
       "      <td>na</td>\n",
       "      <td>never-smoker</td>\n",
       "      <td>na</td>\n",
       "      <td>na</td>\n",
       "      <td>IMIDs</td>\n",
       "    </tr>\n",
       "    <tr>\n",
       "      <th>SCGT00_L051_I52.3P_T0_AAACCCACAACTGTGT</th>\n",
       "      <td>SCGT00</td>\n",
       "      <td>SCGT00_L051</td>\n",
       "      <td>SCGT00_I52.3P_T0</td>\n",
       "      <td>3_GEX_V3</td>\n",
       "      <td>3_GEX_V3_GenoHashed</td>\n",
       "      <td>SCGT00_I52</td>\n",
       "      <td>RA</td>\n",
       "      <td>0.0</td>\n",
       "      <td>ongoing</td>\n",
       "      <td>NR</td>\n",
       "      <td>female</td>\n",
       "      <td>33.0</td>\n",
       "      <td>21.37</td>\n",
       "      <td>31-40</td>\n",
       "      <td>na</td>\n",
       "      <td>never-smoker</td>\n",
       "      <td>na</td>\n",
       "      <td>na</td>\n",
       "      <td>IMIDs</td>\n",
       "    </tr>\n",
       "    <tr>\n",
       "      <th>SCGT00_L051_I56.3P_T0_AAACCCACAAGAATGT</th>\n",
       "      <td>SCGT00</td>\n",
       "      <td>SCGT00_L051</td>\n",
       "      <td>SCGT00_I56.3P_T0</td>\n",
       "      <td>3_GEX_V3</td>\n",
       "      <td>3_GEX_V3_GenoHashed</td>\n",
       "      <td>SCGT00_I56</td>\n",
       "      <td>RA</td>\n",
       "      <td>0.0</td>\n",
       "      <td>ongoing</td>\n",
       "      <td>R</td>\n",
       "      <td>female</td>\n",
       "      <td>56.0</td>\n",
       "      <td>30.11</td>\n",
       "      <td>51-60</td>\n",
       "      <td>na</td>\n",
       "      <td>never-smoker</td>\n",
       "      <td>na</td>\n",
       "      <td>na</td>\n",
       "      <td>IMIDs</td>\n",
       "    </tr>\n",
       "    <tr>\n",
       "      <th>...</th>\n",
       "      <td>...</td>\n",
       "      <td>...</td>\n",
       "      <td>...</td>\n",
       "      <td>...</td>\n",
       "      <td>...</td>\n",
       "      <td>...</td>\n",
       "      <td>...</td>\n",
       "      <td>...</td>\n",
       "      <td>...</td>\n",
       "      <td>...</td>\n",
       "      <td>...</td>\n",
       "      <td>...</td>\n",
       "      <td>...</td>\n",
       "      <td>...</td>\n",
       "      <td>...</td>\n",
       "      <td>...</td>\n",
       "      <td>...</td>\n",
       "      <td>...</td>\n",
       "      <td>...</td>\n",
       "    </tr>\n",
       "    <tr>\n",
       "      <th>10XGenomics_L008_10XHC8_T0_TTTGTCATCCACGTTC</th>\n",
       "      <td>10XGenomics</td>\n",
       "      <td>10XGenomics_L008</td>\n",
       "      <td>10XGenomics_10XHC8_T0</td>\n",
       "      <td>5_GEX_V2</td>\n",
       "      <td>5_GEX_V2</td>\n",
       "      <td>10XGenomics_10XHC8</td>\n",
       "      <td>healthy</td>\n",
       "      <td>0.0</td>\n",
       "      <td>na</td>\n",
       "      <td>na</td>\n",
       "      <td>na</td>\n",
       "      <td>NaN</td>\n",
       "      <td>NaN</td>\n",
       "      <td>NaN</td>\n",
       "      <td>healthy</td>\n",
       "      <td>na</td>\n",
       "      <td>na</td>\n",
       "      <td>na</td>\n",
       "      <td>healthy</td>\n",
       "    </tr>\n",
       "    <tr>\n",
       "      <th>10XGenomics_L008_10XHC8_T0_TTTGTCATCCCGACTT</th>\n",
       "      <td>10XGenomics</td>\n",
       "      <td>10XGenomics_L008</td>\n",
       "      <td>10XGenomics_10XHC8_T0</td>\n",
       "      <td>5_GEX_V2</td>\n",
       "      <td>5_GEX_V2</td>\n",
       "      <td>10XGenomics_10XHC8</td>\n",
       "      <td>healthy</td>\n",
       "      <td>0.0</td>\n",
       "      <td>na</td>\n",
       "      <td>na</td>\n",
       "      <td>na</td>\n",
       "      <td>NaN</td>\n",
       "      <td>NaN</td>\n",
       "      <td>NaN</td>\n",
       "      <td>healthy</td>\n",
       "      <td>na</td>\n",
       "      <td>na</td>\n",
       "      <td>na</td>\n",
       "      <td>healthy</td>\n",
       "    </tr>\n",
       "    <tr>\n",
       "      <th>10XGenomics_L008_10XHC8_T0_TTTGTCATCGTGGGAA</th>\n",
       "      <td>10XGenomics</td>\n",
       "      <td>10XGenomics_L008</td>\n",
       "      <td>10XGenomics_10XHC8_T0</td>\n",
       "      <td>5_GEX_V2</td>\n",
       "      <td>5_GEX_V2</td>\n",
       "      <td>10XGenomics_10XHC8</td>\n",
       "      <td>healthy</td>\n",
       "      <td>0.0</td>\n",
       "      <td>na</td>\n",
       "      <td>na</td>\n",
       "      <td>na</td>\n",
       "      <td>NaN</td>\n",
       "      <td>NaN</td>\n",
       "      <td>NaN</td>\n",
       "      <td>healthy</td>\n",
       "      <td>na</td>\n",
       "      <td>na</td>\n",
       "      <td>na</td>\n",
       "      <td>healthy</td>\n",
       "    </tr>\n",
       "    <tr>\n",
       "      <th>10XGenomics_L008_10XHC8_T0_TTTGTCATCTCAAACG</th>\n",
       "      <td>10XGenomics</td>\n",
       "      <td>10XGenomics_L008</td>\n",
       "      <td>10XGenomics_10XHC8_T0</td>\n",
       "      <td>5_GEX_V2</td>\n",
       "      <td>5_GEX_V2</td>\n",
       "      <td>10XGenomics_10XHC8</td>\n",
       "      <td>healthy</td>\n",
       "      <td>0.0</td>\n",
       "      <td>na</td>\n",
       "      <td>na</td>\n",
       "      <td>na</td>\n",
       "      <td>NaN</td>\n",
       "      <td>NaN</td>\n",
       "      <td>NaN</td>\n",
       "      <td>healthy</td>\n",
       "      <td>na</td>\n",
       "      <td>na</td>\n",
       "      <td>na</td>\n",
       "      <td>healthy</td>\n",
       "    </tr>\n",
       "    <tr>\n",
       "      <th>10XGenomics_L008_10XHC8_T0_TTTGTCATCTGTACGA</th>\n",
       "      <td>10XGenomics</td>\n",
       "      <td>10XGenomics_L008</td>\n",
       "      <td>10XGenomics_10XHC8_T0</td>\n",
       "      <td>5_GEX_V2</td>\n",
       "      <td>5_GEX_V2</td>\n",
       "      <td>10XGenomics_10XHC8</td>\n",
       "      <td>healthy</td>\n",
       "      <td>0.0</td>\n",
       "      <td>na</td>\n",
       "      <td>na</td>\n",
       "      <td>na</td>\n",
       "      <td>NaN</td>\n",
       "      <td>NaN</td>\n",
       "      <td>NaN</td>\n",
       "      <td>healthy</td>\n",
       "      <td>na</td>\n",
       "      <td>na</td>\n",
       "      <td>na</td>\n",
       "      <td>healthy</td>\n",
       "    </tr>\n",
       "  </tbody>\n",
       "</table>\n",
       "<p>8005423 rows × 19 columns</p>\n",
       "</div>"
      ],
      "text/plain": [
       "                                                 studyID         libraryID  \\\n",
       "cellID                                                                       \n",
       "SCGT00_L051_I57.3P_T0_AAACCCAAGGTGAGAA            SCGT00       SCGT00_L051   \n",
       "SCGT00_L051_I56.3P_T0_AAACCCAAGTCCGTCG            SCGT00       SCGT00_L051   \n",
       "SCGT00_L051_I53.3P_T0_AAACCCAAGTGCACTT            SCGT00       SCGT00_L051   \n",
       "SCGT00_L051_I52.3P_T0_AAACCCACAACTGTGT            SCGT00       SCGT00_L051   \n",
       "SCGT00_L051_I56.3P_T0_AAACCCACAAGAATGT            SCGT00       SCGT00_L051   \n",
       "...                                                  ...               ...   \n",
       "10XGenomics_L008_10XHC8_T0_TTTGTCATCCACGTTC  10XGenomics  10XGenomics_L008   \n",
       "10XGenomics_L008_10XHC8_T0_TTTGTCATCCCGACTT  10XGenomics  10XGenomics_L008   \n",
       "10XGenomics_L008_10XHC8_T0_TTTGTCATCGTGGGAA  10XGenomics  10XGenomics_L008   \n",
       "10XGenomics_L008_10XHC8_T0_TTTGTCATCTCAAACG  10XGenomics  10XGenomics_L008   \n",
       "10XGenomics_L008_10XHC8_T0_TTTGTCATCTGTACGA  10XGenomics  10XGenomics_L008   \n",
       "\n",
       "                                                          sampleID chemistry  \\\n",
       "cellID                                                                         \n",
       "SCGT00_L051_I57.3P_T0_AAACCCAAGGTGAGAA            SCGT00_I57.3P_T0  3_GEX_V3   \n",
       "SCGT00_L051_I56.3P_T0_AAACCCAAGTCCGTCG            SCGT00_I56.3P_T0  3_GEX_V3   \n",
       "SCGT00_L051_I53.3P_T0_AAACCCAAGTGCACTT            SCGT00_I53.3P_T0  3_GEX_V3   \n",
       "SCGT00_L051_I52.3P_T0_AAACCCACAACTGTGT            SCGT00_I52.3P_T0  3_GEX_V3   \n",
       "SCGT00_L051_I56.3P_T0_AAACCCACAAGAATGT            SCGT00_I56.3P_T0  3_GEX_V3   \n",
       "...                                                            ...       ...   \n",
       "10XGenomics_L008_10XHC8_T0_TTTGTCATCCACGTTC  10XGenomics_10XHC8_T0  5_GEX_V2   \n",
       "10XGenomics_L008_10XHC8_T0_TTTGTCATCCCGACTT  10XGenomics_10XHC8_T0  5_GEX_V2   \n",
       "10XGenomics_L008_10XHC8_T0_TTTGTCATCGTGGGAA  10XGenomics_10XHC8_T0  5_GEX_V2   \n",
       "10XGenomics_L008_10XHC8_T0_TTTGTCATCTCAAACG  10XGenomics_10XHC8_T0  5_GEX_V2   \n",
       "10XGenomics_L008_10XHC8_T0_TTTGTCATCTGTACGA  10XGenomics_10XHC8_T0  5_GEX_V2   \n",
       "\n",
       "                                                      technology  \\\n",
       "cellID                                                             \n",
       "SCGT00_L051_I57.3P_T0_AAACCCAAGGTGAGAA       3_GEX_V3_GenoHashed   \n",
       "SCGT00_L051_I56.3P_T0_AAACCCAAGTCCGTCG       3_GEX_V3_GenoHashed   \n",
       "SCGT00_L051_I53.3P_T0_AAACCCAAGTGCACTT       3_GEX_V3_GenoHashed   \n",
       "SCGT00_L051_I52.3P_T0_AAACCCACAACTGTGT       3_GEX_V3_GenoHashed   \n",
       "SCGT00_L051_I56.3P_T0_AAACCCACAAGAATGT       3_GEX_V3_GenoHashed   \n",
       "...                                                          ...   \n",
       "10XGenomics_L008_10XHC8_T0_TTTGTCATCCACGTTC             5_GEX_V2   \n",
       "10XGenomics_L008_10XHC8_T0_TTTGTCATCCCGACTT             5_GEX_V2   \n",
       "10XGenomics_L008_10XHC8_T0_TTTGTCATCGTGGGAA             5_GEX_V2   \n",
       "10XGenomics_L008_10XHC8_T0_TTTGTCATCTCAAACG             5_GEX_V2   \n",
       "10XGenomics_L008_10XHC8_T0_TTTGTCATCTGTACGA             5_GEX_V2   \n",
       "\n",
       "                                                      patientID  disease  \\\n",
       "cellID                                                                     \n",
       "SCGT00_L051_I57.3P_T0_AAACCCAAGGTGAGAA               SCGT00_I57       RA   \n",
       "SCGT00_L051_I56.3P_T0_AAACCCAAGTCCGTCG               SCGT00_I56       RA   \n",
       "SCGT00_L051_I53.3P_T0_AAACCCAAGTGCACTT               SCGT00_I53       RA   \n",
       "SCGT00_L051_I52.3P_T0_AAACCCACAACTGTGT               SCGT00_I52       RA   \n",
       "SCGT00_L051_I56.3P_T0_AAACCCACAAGAATGT               SCGT00_I56       RA   \n",
       "...                                                         ...      ...   \n",
       "10XGenomics_L008_10XHC8_T0_TTTGTCATCCACGTTC  10XGenomics_10XHC8  healthy   \n",
       "10XGenomics_L008_10XHC8_T0_TTTGTCATCCCGACTT  10XGenomics_10XHC8  healthy   \n",
       "10XGenomics_L008_10XHC8_T0_TTTGTCATCGTGGGAA  10XGenomics_10XHC8  healthy   \n",
       "10XGenomics_L008_10XHC8_T0_TTTGTCATCTCAAACG  10XGenomics_10XHC8  healthy   \n",
       "10XGenomics_L008_10XHC8_T0_TTTGTCATCTGTACGA  10XGenomics_10XHC8  healthy   \n",
       "\n",
       "                                             timepoint_replicate  \\\n",
       "cellID                                                             \n",
       "SCGT00_L051_I57.3P_T0_AAACCCAAGGTGAGAA                       0.0   \n",
       "SCGT00_L051_I56.3P_T0_AAACCCAAGTCCGTCG                       0.0   \n",
       "SCGT00_L051_I53.3P_T0_AAACCCAAGTGCACTT                       0.0   \n",
       "SCGT00_L051_I52.3P_T0_AAACCCACAACTGTGT                       0.0   \n",
       "SCGT00_L051_I56.3P_T0_AAACCCACAAGAATGT                       0.0   \n",
       "...                                                          ...   \n",
       "10XGenomics_L008_10XHC8_T0_TTTGTCATCCACGTTC                  0.0   \n",
       "10XGenomics_L008_10XHC8_T0_TTTGTCATCCCGACTT                  0.0   \n",
       "10XGenomics_L008_10XHC8_T0_TTTGTCATCGTGGGAA                  0.0   \n",
       "10XGenomics_L008_10XHC8_T0_TTTGTCATCTCAAACG                  0.0   \n",
       "10XGenomics_L008_10XHC8_T0_TTTGTCATCTGTACGA                  0.0   \n",
       "\n",
       "                                            treatmentStatus therapyResponse  \\\n",
       "cellID                                                                        \n",
       "SCGT00_L051_I57.3P_T0_AAACCCAAGGTGAGAA              ongoing              NR   \n",
       "SCGT00_L051_I56.3P_T0_AAACCCAAGTCCGTCG              ongoing               R   \n",
       "SCGT00_L051_I53.3P_T0_AAACCCAAGTGCACTT              ongoing               R   \n",
       "SCGT00_L051_I52.3P_T0_AAACCCACAACTGTGT              ongoing              NR   \n",
       "SCGT00_L051_I56.3P_T0_AAACCCACAAGAATGT              ongoing               R   \n",
       "...                                                     ...             ...   \n",
       "10XGenomics_L008_10XHC8_T0_TTTGTCATCCACGTTC              na              na   \n",
       "10XGenomics_L008_10XHC8_T0_TTTGTCATCCCGACTT              na              na   \n",
       "10XGenomics_L008_10XHC8_T0_TTTGTCATCGTGGGAA              na              na   \n",
       "10XGenomics_L008_10XHC8_T0_TTTGTCATCTCAAACG              na              na   \n",
       "10XGenomics_L008_10XHC8_T0_TTTGTCATCTGTACGA              na              na   \n",
       "\n",
       "                                                sex   age    BMI binned_age  \\\n",
       "cellID                                                                        \n",
       "SCGT00_L051_I57.3P_T0_AAACCCAAGGTGAGAA       female  47.0  25.71      41-50   \n",
       "SCGT00_L051_I56.3P_T0_AAACCCAAGTCCGTCG       female  56.0  30.11      51-60   \n",
       "SCGT00_L051_I53.3P_T0_AAACCCAAGTGCACTT       female  69.0  25.00      61-70   \n",
       "SCGT00_L051_I52.3P_T0_AAACCCACAACTGTGT       female  33.0  21.37      31-40   \n",
       "SCGT00_L051_I56.3P_T0_AAACCCACAAGAATGT       female  56.0  30.11      51-60   \n",
       "...                                             ...   ...    ...        ...   \n",
       "10XGenomics_L008_10XHC8_T0_TTTGTCATCCACGTTC      na   NaN    NaN        NaN   \n",
       "10XGenomics_L008_10XHC8_T0_TTTGTCATCCCGACTT      na   NaN    NaN        NaN   \n",
       "10XGenomics_L008_10XHC8_T0_TTTGTCATCGTGGGAA      na   NaN    NaN        NaN   \n",
       "10XGenomics_L008_10XHC8_T0_TTTGTCATCTCAAACG      na   NaN    NaN        NaN   \n",
       "10XGenomics_L008_10XHC8_T0_TTTGTCATCTGTACGA      na   NaN    NaN        NaN   \n",
       "\n",
       "                                            diseaseStatus smokingStatus  \\\n",
       "cellID                                                                    \n",
       "SCGT00_L051_I57.3P_T0_AAACCCAAGGTGAGAA                 na  never-smoker   \n",
       "SCGT00_L051_I56.3P_T0_AAACCCAAGTCCGTCG                 na  never-smoker   \n",
       "SCGT00_L051_I53.3P_T0_AAACCCAAGTGCACTT                 na  never-smoker   \n",
       "SCGT00_L051_I52.3P_T0_AAACCCACAACTGTGT                 na  never-smoker   \n",
       "SCGT00_L051_I56.3P_T0_AAACCCACAAGAATGT                 na  never-smoker   \n",
       "...                                                   ...           ...   \n",
       "10XGenomics_L008_10XHC8_T0_TTTGTCATCCACGTTC       healthy            na   \n",
       "10XGenomics_L008_10XHC8_T0_TTTGTCATCCCGACTT       healthy            na   \n",
       "10XGenomics_L008_10XHC8_T0_TTTGTCATCGTGGGAA       healthy            na   \n",
       "10XGenomics_L008_10XHC8_T0_TTTGTCATCTCAAACG       healthy            na   \n",
       "10XGenomics_L008_10XHC8_T0_TTTGTCATCTGTACGA       healthy            na   \n",
       "\n",
       "                                            ethnicity institute diseaseGroup  \n",
       "cellID                                                                        \n",
       "SCGT00_L051_I57.3P_T0_AAACCCAAGGTGAGAA             na        na        IMIDs  \n",
       "SCGT00_L051_I56.3P_T0_AAACCCAAGTCCGTCG             na        na        IMIDs  \n",
       "SCGT00_L051_I53.3P_T0_AAACCCAAGTGCACTT             na        na        IMIDs  \n",
       "SCGT00_L051_I52.3P_T0_AAACCCACAACTGTGT             na        na        IMIDs  \n",
       "SCGT00_L051_I56.3P_T0_AAACCCACAAGAATGT             na        na        IMIDs  \n",
       "...                                               ...       ...          ...  \n",
       "10XGenomics_L008_10XHC8_T0_TTTGTCATCCACGTTC        na        na      healthy  \n",
       "10XGenomics_L008_10XHC8_T0_TTTGTCATCCCGACTT        na        na      healthy  \n",
       "10XGenomics_L008_10XHC8_T0_TTTGTCATCGTGGGAA        na        na      healthy  \n",
       "10XGenomics_L008_10XHC8_T0_TTTGTCATCTCAAACG        na        na      healthy  \n",
       "10XGenomics_L008_10XHC8_T0_TTTGTCATCTGTACGA        na        na      healthy  \n",
       "\n",
       "[8005423 rows x 19 columns]"
      ]
     },
     "execution_count": 58,
     "metadata": {},
     "output_type": "execute_result"
    }
   ],
   "source": [
    "mergedObj.obs"
   ]
  },
  {
   "cell_type": "markdown",
   "id": "fe5f4a8d-bd53-40bb-9190-ec26c4815b86",
   "metadata": {
    "papermill": {
     "duration": 0.024397,
     "end_time": "2024-04-26T15:07:21.735256",
     "exception": false,
     "start_time": "2024-04-26T15:07:21.710859",
     "status": "completed"
    },
    "tags": []
   },
   "source": [
    "# Split dataset for the downstream analysis\n",
    "\n",
    "At this point, we aim to split the dataset into different pools, according intrinsic data characteristics or due to the implicit needs for the patient classifier.\n",
    "\n",
    "* **External data**: Preselected data used to assess the performance of patient classifier on completelly independet studies (either data generated with the same 10X chemistry protocol as the one included in the inflammation atlas (**Core data**), or using a different chemistry protocol.\n",
    "\n",
    "* **Excluded data**: Multiply observations from the same patient (e.g., multiple timepoints, replicates or same sample sequenced with different chemistry protocols).\n",
    "\n",
    "* **Core data**: Data included in the inflammation atlas"
   ]
  },
  {
   "cell_type": "markdown",
   "id": "39fd8627-456e-4488-b629-10445328c6c1",
   "metadata": {
    "papermill": {
     "duration": 0.024265,
     "end_time": "2024-04-26T15:07:21.783683",
     "exception": false,
     "start_time": "2024-04-26T15:07:21.759418",
     "status": "completed"
    },
    "tags": []
   },
   "source": [
    "## External data"
   ]
  },
  {
   "cell_type": "code",
   "execution_count": 59,
   "id": "1574d506-f814-4dcd-bc02-eb7c122376d6",
   "metadata": {
    "execution": {
     "iopub.execute_input": "2024-05-06T16:27:50.721836Z",
     "iopub.status.busy": "2024-05-06T16:27:50.721641Z",
     "iopub.status.idle": "2024-05-06T16:27:50.730884Z",
     "shell.execute_reply": "2024-05-06T16:27:50.730480Z",
     "shell.execute_reply.started": "2024-05-06T16:27:50.721818Z"
    },
    "papermill": {
     "duration": 0.03011,
     "end_time": "2024-04-26T15:07:21.838086",
     "exception": false,
     "start_time": "2024-04-26T15:07:21.807976",
     "status": "completed"
    },
    "tags": []
   },
   "outputs": [
    {
     "data": {
      "text/html": [
       "<div>\n",
       "<style scoped>\n",
       "    .dataframe tbody tr th:only-of-type {\n",
       "        vertical-align: middle;\n",
       "    }\n",
       "\n",
       "    .dataframe tbody tr th {\n",
       "        vertical-align: top;\n",
       "    }\n",
       "\n",
       "    .dataframe thead th {\n",
       "        text-align: right;\n",
       "    }\n",
       "</style>\n",
       "<table border=\"1\" class=\"dataframe\">\n",
       "  <thead>\n",
       "    <tr style=\"text-align: right;\">\n",
       "      <th></th>\n",
       "      <th>externalValidation</th>\n",
       "    </tr>\n",
       "  </thead>\n",
       "  <tbody>\n",
       "    <tr>\n",
       "      <th>0</th>\n",
       "      <td>NO</td>\n",
       "    </tr>\n",
       "    <tr>\n",
       "      <th>1</th>\n",
       "      <td>YES</td>\n",
       "    </tr>\n",
       "    <tr>\n",
       "      <th>2</th>\n",
       "      <td>NO</td>\n",
       "    </tr>\n",
       "    <tr>\n",
       "      <th>3</th>\n",
       "      <td>NO</td>\n",
       "    </tr>\n",
       "    <tr>\n",
       "      <th>4</th>\n",
       "      <td>NO</td>\n",
       "    </tr>\n",
       "    <tr>\n",
       "      <th>5</th>\n",
       "      <td>NO</td>\n",
       "    </tr>\n",
       "    <tr>\n",
       "      <th>6</th>\n",
       "      <td>NO</td>\n",
       "    </tr>\n",
       "    <tr>\n",
       "      <th>7</th>\n",
       "      <td>YES</td>\n",
       "    </tr>\n",
       "    <tr>\n",
       "      <th>8</th>\n",
       "      <td>NO</td>\n",
       "    </tr>\n",
       "    <tr>\n",
       "      <th>9</th>\n",
       "      <td>NO</td>\n",
       "    </tr>\n",
       "    <tr>\n",
       "      <th>10</th>\n",
       "      <td>NO</td>\n",
       "    </tr>\n",
       "    <tr>\n",
       "      <th>11</th>\n",
       "      <td>NO</td>\n",
       "    </tr>\n",
       "    <tr>\n",
       "      <th>12</th>\n",
       "      <td>NO</td>\n",
       "    </tr>\n",
       "    <tr>\n",
       "      <th>13</th>\n",
       "      <td>YES</td>\n",
       "    </tr>\n",
       "    <tr>\n",
       "      <th>14</th>\n",
       "      <td>NO</td>\n",
       "    </tr>\n",
       "    <tr>\n",
       "      <th>15</th>\n",
       "      <td>NO</td>\n",
       "    </tr>\n",
       "    <tr>\n",
       "      <th>16</th>\n",
       "      <td>YES</td>\n",
       "    </tr>\n",
       "    <tr>\n",
       "      <th>17</th>\n",
       "      <td>YES</td>\n",
       "    </tr>\n",
       "    <tr>\n",
       "      <th>18</th>\n",
       "      <td>NO</td>\n",
       "    </tr>\n",
       "    <tr>\n",
       "      <th>19</th>\n",
       "      <td>YES</td>\n",
       "    </tr>\n",
       "    <tr>\n",
       "      <th>20</th>\n",
       "      <td>YES</td>\n",
       "    </tr>\n",
       "    <tr>\n",
       "      <th>21</th>\n",
       "      <td>YES</td>\n",
       "    </tr>\n",
       "    <tr>\n",
       "      <th>22</th>\n",
       "      <td>NO</td>\n",
       "    </tr>\n",
       "    <tr>\n",
       "      <th>23</th>\n",
       "      <td>NO</td>\n",
       "    </tr>\n",
       "    <tr>\n",
       "      <th>24</th>\n",
       "      <td>YES</td>\n",
       "    </tr>\n",
       "  </tbody>\n",
       "</table>\n",
       "</div>"
      ],
      "text/plain": [
       "   externalValidation\n",
       "0                  NO\n",
       "1                 YES\n",
       "2                  NO\n",
       "3                  NO\n",
       "4                  NO\n",
       "5                  NO\n",
       "6                  NO\n",
       "7                 YES\n",
       "8                  NO\n",
       "9                  NO\n",
       "10                 NO\n",
       "11                 NO\n",
       "12                 NO\n",
       "13                YES\n",
       "14                 NO\n",
       "15                 NO\n",
       "16                YES\n",
       "17                YES\n",
       "18                 NO\n",
       "19                YES\n",
       "20                YES\n",
       "21                YES\n",
       "22                 NO\n",
       "23                 NO\n",
       "24                YES"
      ]
     },
     "execution_count": 59,
     "metadata": {},
     "output_type": "execute_result"
    }
   ],
   "source": [
    "# Assess datasetDF\n",
    "datasetDF[['externalValidation']]"
   ]
  },
  {
   "cell_type": "code",
   "execution_count": 60,
   "id": "69ae16a3-315b-49b0-8b5d-f6905eb16515",
   "metadata": {
    "execution": {
     "iopub.execute_input": "2024-05-06T16:27:50.731709Z",
     "iopub.status.busy": "2024-05-06T16:27:50.731414Z",
     "iopub.status.idle": "2024-05-06T16:27:50.744511Z",
     "shell.execute_reply": "2024-05-06T16:27:50.744148Z",
     "shell.execute_reply.started": "2024-05-06T16:27:50.731690Z"
    },
    "papermill": {
     "duration": 0.029283,
     "end_time": "2024-04-26T15:07:21.891298",
     "exception": false,
     "start_time": "2024-04-26T15:07:21.862015",
     "status": "completed"
    },
    "tags": []
   },
   "outputs": [
    {
     "data": {
      "text/plain": [
       "['SCGT00val',\n",
       " 'SCGT06',\n",
       " 'Palshikar2022',\n",
       " 'Ramachandran2019',\n",
       " 'Martin2019',\n",
       " 'Savage2021',\n",
       " 'Jiang2020',\n",
       " 'Mistry2019',\n",
       " '10XGenomics']"
      ]
     },
     "execution_count": 60,
     "metadata": {},
     "output_type": "execute_result"
    }
   ],
   "source": [
    "# selected dataset with 'YES' and save the object\n",
    "external_studiesIDs = datasetDF.studyID[datasetDF['externalValidation'] == 'YES'].tolist()\n",
    "external_studiesIDs"
   ]
  },
  {
   "cell_type": "code",
   "execution_count": 61,
   "id": "ec578275-00a7-4f0f-9ff0-df870cc7ebe3",
   "metadata": {
    "execution": {
     "iopub.execute_input": "2024-05-06T16:27:50.745334Z",
     "iopub.status.busy": "2024-05-06T16:27:50.745021Z",
     "iopub.status.idle": "2024-05-06T16:27:51.131850Z",
     "shell.execute_reply": "2024-05-06T16:27:51.131390Z",
     "shell.execute_reply.started": "2024-05-06T16:27:50.745315Z"
    },
    "papermill": {
     "duration": 0.427108,
     "end_time": "2024-04-26T15:07:22.342039",
     "exception": false,
     "start_time": "2024-04-26T15:07:21.914931",
     "status": "completed"
    },
    "tags": []
   },
   "outputs": [
    {
     "data": {
      "text/plain": [
       "View of AnnData object with n_obs × n_vars = 600032 × 37169\n",
       "    obs: 'studyID', 'libraryID', 'sampleID', 'chemistry', 'technology', 'patientID', 'disease', 'timepoint_replicate', 'treatmentStatus', 'therapyResponse', 'sex', 'age', 'BMI', 'binned_age', 'diseaseStatus', 'smokingStatus', 'ethnicity', 'institute', 'diseaseGroup'\n",
       "    var: 'hgnc_id', 'symbol', 'locus_group', 'HUGO_status'"
      ]
     },
     "execution_count": 61,
     "metadata": {},
     "output_type": "execute_result"
    }
   ],
   "source": [
    "adata_external = mergedObj[mergedObj.obs.studyID.isin(external_studiesIDs)]\n",
    "adata_external"
   ]
  },
  {
   "cell_type": "code",
   "execution_count": 62,
   "id": "b479faff-98c0-4b1c-aeeb-d394775cf8d8",
   "metadata": {
    "execution": {
     "iopub.execute_input": "2024-05-06T16:27:51.132710Z",
     "iopub.status.busy": "2024-05-06T16:27:51.132503Z",
     "iopub.status.idle": "2024-05-06T16:30:18.432612Z",
     "shell.execute_reply": "2024-05-06T16:30:18.431813Z",
     "shell.execute_reply.started": "2024-05-06T16:27:51.132689Z"
    },
    "papermill": {
     "duration": 105.272467,
     "end_time": "2024-04-26T15:09:07.673594",
     "exception": false,
     "start_time": "2024-04-26T15:07:22.401127",
     "status": "completed"
    },
    "tags": []
   },
   "outputs": [],
   "source": [
    "# Save Anndata object (.h5ad file) \n",
    "adata_external.write(here(\"00_data_processing/results/01_INFLAMMATION_external.h5ad\"), compression=\"gzip\")"
   ]
  },
  {
   "cell_type": "raw",
   "id": "49b20a27-b239-4fa1-9611-174bdbd2ab4b",
   "metadata": {
    "execution": {
     "iopub.execute_input": "2024-05-24T15:02:50.046825Z",
     "iopub.status.busy": "2024-05-24T15:02:50.046451Z",
     "iopub.status.idle": "2024-05-24T15:02:51.301620Z",
     "shell.execute_reply": "2024-05-24T15:02:51.300993Z",
     "shell.execute_reply.started": "2024-05-24T15:02:50.046805Z"
    }
   },
   "source": [
    "adata_external = sc.read_h5ad(here(\"00_data_processing/results/01_INFLAMMATION_external.h5ad\"), backed='r')"
   ]
  },
  {
   "cell_type": "markdown",
   "id": "abcac61e-8f15-4878-ab90-b1f262415f40",
   "metadata": {},
   "source": [
    "**Saving patient metadata**"
   ]
  },
  {
   "cell_type": "code",
   "execution_count": 7,
   "id": "4bf44b56-0310-41e8-bdb8-b7c2c6c13e6f",
   "metadata": {
    "execution": {
     "iopub.execute_input": "2024-05-24T15:07:42.273629Z",
     "iopub.status.busy": "2024-05-24T15:07:42.273268Z",
     "iopub.status.idle": "2024-05-24T15:07:42.376278Z",
     "shell.execute_reply": "2024-05-24T15:07:42.375818Z",
     "shell.execute_reply.started": "2024-05-24T15:07:42.273612Z"
    }
   },
   "outputs": [],
   "source": [
    "external_sample_metadata = adata_external.obs[['studyID','sampleID','chemistry','technology','patientID','disease','timepoint_replicate','treatmentStatus',\n",
    "                    'therapyResponse','sex','age','BMI','binned_age','diseaseStatus','smokingStatus','ethnicity','institute','diseaseGroup']].drop_duplicates()\n",
    "assert external_sample_metadata.shape[0] == external_sample_metadata.sampleID.unique().shape[0]"
   ]
  },
  {
   "cell_type": "code",
   "execution_count": 8,
   "id": "88a8f0a8-645d-4369-97bd-72201b5039db",
   "metadata": {
    "execution": {
     "iopub.execute_input": "2024-05-24T15:08:43.400102Z",
     "iopub.status.busy": "2024-05-24T15:08:43.399494Z",
     "iopub.status.idle": "2024-05-24T15:08:43.406103Z",
     "shell.execute_reply": "2024-05-24T15:08:43.405720Z",
     "shell.execute_reply.started": "2024-05-24T15:08:43.400064Z"
    }
   },
   "outputs": [],
   "source": [
    "external_sample_metadata.to_pickle(here(\"00_data_processing/results/01_INFLAMMATION_external_sampleMetadata.pkl\"))"
   ]
  },
  {
   "cell_type": "code",
   "execution_count": null,
   "id": "6ab0b919-5e62-4ba9-9844-5b3a1724126f",
   "metadata": {},
   "outputs": [],
   "source": []
  },
  {
   "cell_type": "code",
   "execution_count": 63,
   "id": "44d79edd-ef65-4dc8-995e-7dcb17400e92",
   "metadata": {
    "execution": {
     "iopub.execute_input": "2024-05-06T16:30:18.433724Z",
     "iopub.status.busy": "2024-05-06T16:30:18.433505Z",
     "iopub.status.idle": "2024-05-06T16:30:21.027013Z",
     "shell.execute_reply": "2024-05-06T16:30:21.026567Z",
     "shell.execute_reply.started": "2024-05-06T16:30:18.433703Z"
    },
    "papermill": {
     "duration": 3.620327,
     "end_time": "2024-04-26T15:09:11.318161",
     "exception": false,
     "start_time": "2024-04-26T15:09:07.697834",
     "status": "completed"
    },
    "tags": []
   },
   "outputs": [
    {
     "data": {
      "text/plain": [
       "View of AnnData object with n_obs × n_vars = 7405391 × 37169\n",
       "    obs: 'studyID', 'libraryID', 'sampleID', 'chemistry', 'technology', 'patientID', 'disease', 'timepoint_replicate', 'treatmentStatus', 'therapyResponse', 'sex', 'age', 'BMI', 'binned_age', 'diseaseStatus', 'smokingStatus', 'ethnicity', 'institute', 'diseaseGroup'\n",
       "    var: 'hgnc_id', 'symbol', 'locus_group', 'HUGO_status'"
      ]
     },
     "execution_count": 63,
     "metadata": {},
     "output_type": "execute_result"
    }
   ],
   "source": [
    "# Filter out external data from Anndata object\n",
    "adata = mergedObj[~mergedObj.obs.studyID.isin(external_studiesIDs)]\n",
    "adata"
   ]
  },
  {
   "cell_type": "markdown",
   "id": "fe92342d-f3df-470f-bee8-9631cb711686",
   "metadata": {
    "papermill": {
     "duration": 0.024206,
     "end_time": "2024-04-26T15:09:11.374040",
     "exception": false,
     "start_time": "2024-04-26T15:09:11.349834",
     "status": "completed"
    },
    "tags": []
   },
   "source": [
    "## Excluded data"
   ]
  },
  {
   "cell_type": "code",
   "execution_count": 64,
   "id": "17110de3-ce8f-45ad-b4a5-1d740c8c08f8",
   "metadata": {
    "execution": {
     "iopub.execute_input": "2024-05-06T16:30:21.027826Z",
     "iopub.status.busy": "2024-05-06T16:30:21.027640Z",
     "iopub.status.idle": "2024-05-06T16:32:02.460855Z",
     "shell.execute_reply": "2024-05-06T16:32:02.459942Z",
     "shell.execute_reply.started": "2024-05-06T16:30:21.027806Z"
    },
    "papermill": {
     "duration": 105.526261,
     "end_time": "2024-04-26T15:10:56.922967",
     "exception": false,
     "start_time": "2024-04-26T15:09:11.396706",
     "status": "completed"
    },
    "tags": []
   },
   "outputs": [],
   "source": [
    "adata.obs['patientID'] = adata.obs['patientID'].astype('category')"
   ]
  },
  {
   "cell_type": "code",
   "execution_count": 65,
   "id": "0d456c6a-ac4d-429a-a22d-f50eb2ebdcda",
   "metadata": {
    "execution": {
     "iopub.execute_input": "2024-05-06T16:32:02.462082Z",
     "iopub.status.busy": "2024-05-06T16:32:02.461884Z",
     "iopub.status.idle": "2024-05-06T16:32:07.057083Z",
     "shell.execute_reply": "2024-05-06T16:32:07.056536Z",
     "shell.execute_reply.started": "2024-05-06T16:32:02.462062Z"
    },
    "papermill": {
     "duration": 4.679124,
     "end_time": "2024-04-26T15:11:01.627766",
     "exception": false,
     "start_time": "2024-04-26T15:10:56.948642",
     "status": "completed"
    },
    "tags": []
   },
   "outputs": [
    {
     "name": "stdout",
     "output_type": "stream",
     "text": [
      "SCGT00\n",
      "SCGT01\n",
      "SCGT02\n",
      "SCGT03\n",
      "SCGT04\n",
      "SCGT05\n",
      "Reyes2020\n",
      "Cillo2020\n",
      "Zhang2023\n",
      "Schafflick2020\n",
      "Liu2021\n",
      "Terekhova2023\n",
      "Perez2022\n",
      "Wang2020\n",
      "COMBAT2022\n",
      "Ren2021\n"
     ]
    },
    {
     "name": "stdout",
     "output_type": "stream",
     "text": [
      "Ren2021\n"
     ]
    }
   ],
   "source": [
    "excluded_samplesIDs = []\n",
    "\n",
    "for studyID in adata.obs[\"studyID\"].unique():\n",
    "    print(studyID)\n",
    "\n",
    "    if studyID == \"SCGT00\":\n",
    "        # For this dataset, 32 RA samples from the same patient were processed using different chemistry (3' and 5'), but 16 additional only 3'GEX\n",
    "        # Here, we aim to keep a balanced number of 3' and 5' samples (24 per chemistry). \n",
    "        # Then, we will exclude 8 samples from 5'GEX and the 24 samples from 3'GEX belonging to the patients included.\n",
    "        # Since samples are the same, we also need chemistry to decide which ones to keep or remove.\n",
    "        adata_obs_df = adata.obs[[\"patientID\", \"sampleID\"]][(adata.obs[\"studyID\"] == \"SCGT00\") & (adata.obs[\"chemistry\"] == \"5_GEX_V2\")].drop_duplicates()\n",
    "        df = balanced_sample(df = adata_obs_df, n = 8, random_state = 42)\n",
    "        sampleID_5GEX = df[\"sampleID\"].tolist()\n",
    "        sampleID_3GEX = adata_obs_df.loc[~adata_obs_df.sampleID.isin(sampleID_5GEX), \"sampleID\"].tolist()\n",
    "        sampleID_sub = sampleID_5GEX+sampleID_3GEX\n",
    "\n",
    "    elif studyID == \"Zhang2023\":\n",
    "        # For this dataset, duplicated library/sample from the same sample/patient -- REQUESTED INFORMATION\n",
    "        # Here, we want to keep the sample with larger number of cells     \n",
    "        cellCount = adata.obs[(adata.obs[\"studyID\"] == \"Zhang2023\")].groupby(['patientID','sampleID'], observed = True).size().reset_index(name='n_cells')\n",
    "        idxMax = cellCount.groupby('patientID', observed=True)['n_cells'].idxmax()\n",
    "        sampleID_sub = cellCount.drop(idxMax, axis = 0)['sampleID'].tolist()\n",
    "\n",
    "    elif studyID == \"Terekhova2023\":\n",
    "        # For this dataset, duplicated ? from the same sample/patient\n",
    "        cellCount = adata.obs[(adata.obs[\"studyID\"] == \"Terekhova2023\")].groupby(['patientID','sampleID'], observed = True).size().reset_index(name='n_cells')\n",
    "        idxMax = cellCount.groupby('patientID', observed=True)['n_cells'].idxmax()\n",
    "        sampleID_sub = cellCount.drop(idxMax, axis = 0)['sampleID'].tolist()\n",
    "\n",
    "    elif studyID == \"Perez2022\":\n",
    "        # For this dataset, duplicated ? from the same sample/patient\n",
    "        # Here, we will keep the T0 for the 13 longitudinal studies\n",
    "        priority_order = ['Flare', 'Treated', 'Managed']\n",
    "        \n",
    "        adata_obs_df = adata.obs[[\"patientID\", \"sampleID\", \"diseaseStatus\"]][adata.obs[\"studyID\"] == \"Perez2022\"].drop_duplicates()\n",
    "        adata_obs_df[\"patientID\"] = adata_obs_df[\"patientID\"].cat.remove_unused_categories()\n",
    "    \n",
    "        selected_samples = {}\n",
    "        for patient, group in adata_obs_df.groupby('patientID'):\n",
    "            # If all disease statuses are the same\n",
    "            if group['diseaseStatus'].nunique() == 1:\n",
    "                selected_samples[patient] = [group['sampleID'].iloc[0]]\n",
    "            else:\n",
    "                for status in priority_order:\n",
    "                    try:\n",
    "                        # Find the first sample with the highest priority status\n",
    "                        selected_sample = group[group['diseaseStatus'] == status]['sampleID'].iloc[0]\n",
    "                    except IndexError:\n",
    "                        continue\n",
    "                    # Check if this sample's status is not already selected for this patient\n",
    "                    if status not in [group[group['sampleID'] == s]['diseaseStatus'].iloc[0] for s in selected_samples.get(patient, [])]:\n",
    "                        selected_samples.setdefault(patient, []).append(selected_sample)\n",
    "                        break\n",
    "        selected_samples = list(set(value for sublist in selected_samples.values() for value in sublist))\n",
    "        sampleID_sub = adata_obs_df.loc[~adata_obs_df[\"sampleID\"].isin(selected_samples), \"sampleID\"].tolist()\n",
    "\n",
    "\n",
    "    elif studyID == \"COMBAT2022\":\n",
    "        # For this dataset, duplicated samples from the same patient, at different diseaseStatus and/or timePoints\n",
    "        # Here, we aim to keep samples from SEVERE > MILD > CRITICAL , and T0 > T1 == T2 == Tn; thus, excluding the rest\n",
    "        priority_order = ['COVID_SEV', 'COVID_MILD', 'COVID_HCW_MILD', 'COVID_CRIT', 'COVID_LDN']\n",
    "                \n",
    "        adata_obs_df = adata.obs[[\"patientID\", \"sampleID\", \"diseaseStatus\"]][adata.obs[\"studyID\"] == \"COMBAT2022\"].drop_duplicates()\n",
    "        adata_obs_df[\"patientID\"] = adata_obs_df[\"patientID\"].cat.remove_unused_categories()\n",
    "    \n",
    "        selected_samples = {}\n",
    "        for patient, group in adata_obs_df.groupby('patientID'):\n",
    "            # If all disease statuses are the same\n",
    "            if group['diseaseStatus'].nunique() == 1:\n",
    "                selected_samples[patient] = [group['sampleID'].iloc[0]]\n",
    "            else:\n",
    "                for status in priority_order:\n",
    "                    try:\n",
    "                        # Find the first sample with the highest priority status\n",
    "                        selected_sample = group[group['diseaseStatus'] == status]['sampleID'].iloc[0]\n",
    "                    except IndexError:\n",
    "                        continue\n",
    "                    # Check if this sample's status is not already selected for this patient\n",
    "                    if status not in [group[group['sampleID'] == s]['diseaseStatus'].iloc[0] for s in selected_samples.get(patient, [])]:\n",
    "                        selected_samples.setdefault(patient, []).append(selected_sample)\n",
    "                        break\n",
    "        selected_samples = list(set(value for sublist in selected_samples.values() for value in sublist))\n",
    "        sampleID_sub = adata_obs_df.loc[~adata_obs_df[\"sampleID\"].isin(selected_samples), \"sampleID\"].tolist()\n",
    "    \n",
    "    elif studyID == \"Ren2021\":\n",
    "        # For this dataset, duplicated samples from the same sample/patient, at different diseaseStatus / timePoints\n",
    "        priority_order = ['mild/moderate_progression', 'severe/critical_progression', 'mild/moderate_convalescence', 'severe/critical_convalescence', 'healthy']\n",
    "\n",
    "        adata_obs_df = adata.obs[[\"patientID\", \"sampleID\", \"diseaseStatus\"]][adata.obs[\"studyID\"] == \"Ren2021\"].drop_duplicates()\n",
    "        adata_obs_df[\"patientID\"] = adata_obs_df[\"patientID\"].cat.remove_unused_categories()\n",
    "    \n",
    "        selected_samples = {}\n",
    "        for patient, group in adata_obs_df.groupby('patientID'):\n",
    "            # If all disease statuses are the same\n",
    "            if group['diseaseStatus'].nunique() == 1:\n",
    "                selected_samples[patient] = [group['sampleID'].iloc[0]]\n",
    "            else:\n",
    "                for status in priority_order:\n",
    "                    try:\n",
    "                        # Find the first sample with the highest priority status\n",
    "                        selected_sample = group[group['diseaseStatus'] == status]['sampleID'].iloc[0]\n",
    "                    except IndexError:\n",
    "                        continue\n",
    "                    # Check if this sample's status is not already selected for this patient\n",
    "                    if status not in [group[group['sampleID'] == s]['diseaseStatus'].iloc[0] for s in selected_samples.get(patient, [])]:\n",
    "                        selected_samples.setdefault(patient, []).append(selected_sample)\n",
    "                        break\n",
    "        selected_samples = list(set(value for sublist in selected_samples.values() for value in sublist))\n",
    "        sampleID_sub = adata_obs_df.loc[~adata_obs_df[\"sampleID\"].isin(selected_samples), \"sampleID\"].tolist()\n",
    "    \n",
    "    else:\n",
    "        continue\n",
    "\n",
    "    excluded_samplesIDs += sampleID_sub"
   ]
  },
  {
   "cell_type": "code",
   "execution_count": 66,
   "id": "9336c991-773c-497d-9143-499fd771b38c",
   "metadata": {
    "execution": {
     "iopub.execute_input": "2024-05-06T16:32:07.057980Z",
     "iopub.status.busy": "2024-05-06T16:32:07.057803Z",
     "iopub.status.idle": "2024-05-06T16:32:07.061672Z",
     "shell.execute_reply": "2024-05-06T16:32:07.061282Z",
     "shell.execute_reply.started": "2024-05-06T16:32:07.057959Z"
    },
    "papermill": {
     "duration": 0.029801,
     "end_time": "2024-04-26T15:11:01.683763",
     "exception": false,
     "start_time": "2024-04-26T15:11:01.653962",
     "status": "completed"
    },
    "tags": []
   },
   "outputs": [
    {
     "data": {
      "text/plain": [
       "228"
      ]
     },
     "execution_count": 66,
     "metadata": {},
     "output_type": "execute_result"
    }
   ],
   "source": [
    "len(excluded_samplesIDs)"
   ]
  },
  {
   "cell_type": "code",
   "execution_count": 67,
   "id": "f14d1b84-988e-4866-901d-4da48382bf6d",
   "metadata": {
    "execution": {
     "iopub.execute_input": "2024-05-06T16:32:07.062492Z",
     "iopub.status.busy": "2024-05-06T16:32:07.062207Z",
     "iopub.status.idle": "2024-05-06T16:32:07.777963Z",
     "shell.execute_reply": "2024-05-06T16:32:07.777502Z",
     "shell.execute_reply.started": "2024-05-06T16:32:07.062473Z"
    },
    "papermill": {
     "duration": 0.713566,
     "end_time": "2024-04-26T15:11:02.421577",
     "exception": false,
     "start_time": "2024-04-26T15:11:01.708011",
     "status": "completed"
    },
    "tags": []
   },
   "outputs": [
    {
     "data": {
      "text/plain": [
       "View of AnnData object with n_obs × n_vars = 1388686 × 37169\n",
       "    obs: 'studyID', 'libraryID', 'sampleID', 'chemistry', 'technology', 'patientID', 'disease', 'timepoint_replicate', 'treatmentStatus', 'therapyResponse', 'sex', 'age', 'BMI', 'binned_age', 'diseaseStatus', 'smokingStatus', 'ethnicity', 'institute', 'diseaseGroup'\n",
       "    var: 'hgnc_id', 'symbol', 'locus_group', 'HUGO_status'"
      ]
     },
     "execution_count": 67,
     "metadata": {},
     "output_type": "execute_result"
    }
   ],
   "source": [
    "adata_excluded = adata[adata.obs.sampleID.isin(excluded_samplesIDs)]\n",
    "adata_excluded"
   ]
  },
  {
   "cell_type": "code",
   "execution_count": 68,
   "id": "b6633b5d-6160-493b-976e-6652a93baf50",
   "metadata": {
    "execution": {
     "iopub.execute_input": "2024-05-06T16:32:07.778847Z",
     "iopub.status.busy": "2024-05-06T16:32:07.778631Z",
     "iopub.status.idle": "2024-05-06T16:37:20.320714Z",
     "shell.execute_reply": "2024-05-06T16:37:20.319884Z",
     "shell.execute_reply.started": "2024-05-06T16:32:07.778826Z"
    },
    "papermill": {
     "duration": 379.479066,
     "end_time": "2024-04-26T15:17:21.931598",
     "exception": false,
     "start_time": "2024-04-26T15:11:02.452532",
     "status": "completed"
    },
    "tags": []
   },
   "outputs": [],
   "source": [
    "# Save Anndata object (.h5ad file) \n",
    "adata_excluded.write(here(\"00_data_processing/results/01_INFLAMMATION_excluded.h5ad\"), compression=\"gzip\")"
   ]
  },
  {
   "cell_type": "code",
   "execution_count": null,
   "id": "b46a648e-50b3-40f9-8452-2b78f18e75f5",
   "metadata": {},
   "outputs": [],
   "source": []
  },
  {
   "cell_type": "code",
   "execution_count": 12,
   "id": "a3fe6b9e-4295-449e-862d-bee105d6dfe9",
   "metadata": {
    "execution": {
     "iopub.execute_input": "2024-05-24T15:17:16.364880Z",
     "iopub.status.busy": "2024-05-24T15:17:16.364480Z",
     "iopub.status.idle": "2024-05-24T15:17:18.154204Z",
     "shell.execute_reply": "2024-05-24T15:17:18.153733Z",
     "shell.execute_reply.started": "2024-05-24T15:17:16.364862Z"
    }
   },
   "outputs": [],
   "source": [
    "adata_excluded = sc.read_h5ad(here(\"00_data_processing/results/01_INFLAMMATION_excluded.h5ad\"), backed='r')"
   ]
  },
  {
   "cell_type": "markdown",
   "id": "7b9e85c1-cb7b-4a6f-9437-f6f7cb61d2d2",
   "metadata": {},
   "source": [
    "**Saving patient metadata**"
   ]
  },
  {
   "cell_type": "code",
   "execution_count": 13,
   "id": "505c29e9-cb51-400a-94ad-f754a09fa297",
   "metadata": {
    "execution": {
     "iopub.execute_input": "2024-05-24T15:17:27.543751Z",
     "iopub.status.busy": "2024-05-24T15:17:27.543463Z",
     "iopub.status.idle": "2024-05-24T15:17:27.765993Z",
     "shell.execute_reply": "2024-05-24T15:17:27.765537Z",
     "shell.execute_reply.started": "2024-05-24T15:17:27.543732Z"
    }
   },
   "outputs": [],
   "source": [
    "excluded_sample_metadata = adata_excluded.obs[['studyID','sampleID','chemistry','technology','patientID','disease','timepoint_replicate','treatmentStatus',\n",
    "                    'therapyResponse','sex','age','BMI','binned_age','diseaseStatus','smokingStatus','ethnicity','institute','diseaseGroup']].drop_duplicates()\n",
    "assert excluded_sample_metadata.shape[0] == excluded_sample_metadata.sampleID.unique().shape[0]"
   ]
  },
  {
   "cell_type": "code",
   "execution_count": 14,
   "id": "34de4762-8773-495f-91ed-3f37b3bf3f48",
   "metadata": {
    "execution": {
     "iopub.execute_input": "2024-05-24T15:17:34.095866Z",
     "iopub.status.busy": "2024-05-24T15:17:34.095571Z",
     "iopub.status.idle": "2024-05-24T15:17:34.103696Z",
     "shell.execute_reply": "2024-05-24T15:17:34.103331Z",
     "shell.execute_reply.started": "2024-05-24T15:17:34.095847Z"
    }
   },
   "outputs": [],
   "source": [
    "excluded_sample_metadata.to_pickle(here(\"00_data_processing/results/01_INFLAMMATION_excluded_sampleMetadata.pkl\"))"
   ]
  },
  {
   "cell_type": "code",
   "execution_count": null,
   "id": "6db14e89-2840-47f9-9c30-d3fbf4c4efc1",
   "metadata": {},
   "outputs": [],
   "source": []
  },
  {
   "cell_type": "code",
   "execution_count": 69,
   "id": "8ba7701f-dd1a-46c7-b406-e73ff8d0f6f9",
   "metadata": {
    "execution": {
     "iopub.execute_input": "2024-05-06T16:37:20.321952Z",
     "iopub.status.busy": "2024-05-06T16:37:20.321755Z",
     "iopub.status.idle": "2024-05-06T16:37:20.388747Z",
     "shell.execute_reply": "2024-05-06T16:37:20.388238Z",
     "shell.execute_reply.started": "2024-05-06T16:37:20.321931Z"
    },
    "papermill": {
     "duration": 0.104605,
     "end_time": "2024-04-26T15:17:22.063479",
     "exception": false,
     "start_time": "2024-04-26T15:17:21.958874",
     "status": "completed"
    },
    "tags": []
   },
   "outputs": [
    {
     "data": {
      "text/html": [
       "<div>\n",
       "<style scoped>\n",
       "    .dataframe tbody tr th:only-of-type {\n",
       "        vertical-align: middle;\n",
       "    }\n",
       "\n",
       "    .dataframe tbody tr th {\n",
       "        vertical-align: top;\n",
       "    }\n",
       "\n",
       "    .dataframe thead th {\n",
       "        text-align: right;\n",
       "    }\n",
       "</style>\n",
       "<table border=\"1\" class=\"dataframe\">\n",
       "  <thead>\n",
       "    <tr style=\"text-align: right;\">\n",
       "      <th></th>\n",
       "      <th>index</th>\n",
       "      <th>studyID</th>\n",
       "      <th>chemistry</th>\n",
       "      <th>disease</th>\n",
       "      <th>sex</th>\n",
       "      <th>binned_age</th>\n",
       "      <th>patient_count</th>\n",
       "    </tr>\n",
       "  </thead>\n",
       "  <tbody>\n",
       "    <tr>\n",
       "      <th>0</th>\n",
       "      <td>169</td>\n",
       "      <td>COMBAT2022</td>\n",
       "      <td>5_GEX_V1</td>\n",
       "      <td>COVID</td>\n",
       "      <td>female</td>\n",
       "      <td>31-40</td>\n",
       "      <td>2</td>\n",
       "    </tr>\n",
       "    <tr>\n",
       "      <th>1</th>\n",
       "      <td>171</td>\n",
       "      <td>COMBAT2022</td>\n",
       "      <td>5_GEX_V1</td>\n",
       "      <td>COVID</td>\n",
       "      <td>female</td>\n",
       "      <td>51-60</td>\n",
       "      <td>2</td>\n",
       "    </tr>\n",
       "    <tr>\n",
       "      <th>2</th>\n",
       "      <td>172</td>\n",
       "      <td>COMBAT2022</td>\n",
       "      <td>5_GEX_V1</td>\n",
       "      <td>COVID</td>\n",
       "      <td>female</td>\n",
       "      <td>61-70</td>\n",
       "      <td>1</td>\n",
       "    </tr>\n",
       "    <tr>\n",
       "      <th>3</th>\n",
       "      <td>173</td>\n",
       "      <td>COMBAT2022</td>\n",
       "      <td>5_GEX_V1</td>\n",
       "      <td>COVID</td>\n",
       "      <td>female</td>\n",
       "      <td>71-80</td>\n",
       "      <td>2</td>\n",
       "    </tr>\n",
       "    <tr>\n",
       "      <th>4</th>\n",
       "      <td>175</td>\n",
       "      <td>COMBAT2022</td>\n",
       "      <td>5_GEX_V1</td>\n",
       "      <td>COVID</td>\n",
       "      <td>male</td>\n",
       "      <td>18-30</td>\n",
       "      <td>1</td>\n",
       "    </tr>\n",
       "    <tr>\n",
       "      <th>5</th>\n",
       "      <td>176</td>\n",
       "      <td>COMBAT2022</td>\n",
       "      <td>5_GEX_V1</td>\n",
       "      <td>COVID</td>\n",
       "      <td>male</td>\n",
       "      <td>31-40</td>\n",
       "      <td>1</td>\n",
       "    </tr>\n",
       "    <tr>\n",
       "      <th>6</th>\n",
       "      <td>180</td>\n",
       "      <td>COMBAT2022</td>\n",
       "      <td>5_GEX_V1</td>\n",
       "      <td>COVID</td>\n",
       "      <td>male</td>\n",
       "      <td>71-80</td>\n",
       "      <td>2</td>\n",
       "    </tr>\n",
       "    <tr>\n",
       "      <th>7</th>\n",
       "      <td>240</td>\n",
       "      <td>COMBAT2022</td>\n",
       "      <td>5_GEX_V1</td>\n",
       "      <td>sepsis</td>\n",
       "      <td>female</td>\n",
       "      <td>41-50</td>\n",
       "      <td>1</td>\n",
       "    </tr>\n",
       "    <tr>\n",
       "      <th>8</th>\n",
       "      <td>250</td>\n",
       "      <td>COMBAT2022</td>\n",
       "      <td>5_GEX_V1</td>\n",
       "      <td>sepsis</td>\n",
       "      <td>male</td>\n",
       "      <td>71-80</td>\n",
       "      <td>1</td>\n",
       "    </tr>\n",
       "    <tr>\n",
       "      <th>9</th>\n",
       "      <td>378</td>\n",
       "      <td>Perez2022</td>\n",
       "      <td>3_GEX_V2</td>\n",
       "      <td>SLE</td>\n",
       "      <td>female</td>\n",
       "      <td>18-30</td>\n",
       "      <td>8</td>\n",
       "    </tr>\n",
       "    <tr>\n",
       "      <th>10</th>\n",
       "      <td>379</td>\n",
       "      <td>Perez2022</td>\n",
       "      <td>3_GEX_V2</td>\n",
       "      <td>SLE</td>\n",
       "      <td>female</td>\n",
       "      <td>31-40</td>\n",
       "      <td>3</td>\n",
       "    </tr>\n",
       "    <tr>\n",
       "      <th>11</th>\n",
       "      <td>757</td>\n",
       "      <td>Ren2021</td>\n",
       "      <td>3_GEX_V3</td>\n",
       "      <td>COVID</td>\n",
       "      <td>female</td>\n",
       "      <td>31-40</td>\n",
       "      <td>1</td>\n",
       "    </tr>\n",
       "    <tr>\n",
       "      <th>12</th>\n",
       "      <td>760</td>\n",
       "      <td>Ren2021</td>\n",
       "      <td>3_GEX_V3</td>\n",
       "      <td>COVID</td>\n",
       "      <td>female</td>\n",
       "      <td>61-70</td>\n",
       "      <td>1</td>\n",
       "    </tr>\n",
       "    <tr>\n",
       "      <th>13</th>\n",
       "      <td>764</td>\n",
       "      <td>Ren2021</td>\n",
       "      <td>3_GEX_V3</td>\n",
       "      <td>COVID</td>\n",
       "      <td>male</td>\n",
       "      <td>31-40</td>\n",
       "      <td>2</td>\n",
       "    </tr>\n",
       "    <tr>\n",
       "      <th>14</th>\n",
       "      <td>767</td>\n",
       "      <td>Ren2021</td>\n",
       "      <td>3_GEX_V3</td>\n",
       "      <td>COVID</td>\n",
       "      <td>male</td>\n",
       "      <td>61-70</td>\n",
       "      <td>1</td>\n",
       "    </tr>\n",
       "    <tr>\n",
       "      <th>15</th>\n",
       "      <td>768</td>\n",
       "      <td>Ren2021</td>\n",
       "      <td>3_GEX_V3</td>\n",
       "      <td>COVID</td>\n",
       "      <td>male</td>\n",
       "      <td>71-80</td>\n",
       "      <td>1</td>\n",
       "    </tr>\n",
       "    <tr>\n",
       "      <th>16</th>\n",
       "      <td>928</td>\n",
       "      <td>Ren2021</td>\n",
       "      <td>5_GEX_V2</td>\n",
       "      <td>COVID</td>\n",
       "      <td>female</td>\n",
       "      <td>61-70</td>\n",
       "      <td>1</td>\n",
       "    </tr>\n",
       "    <tr>\n",
       "      <th>17</th>\n",
       "      <td>935</td>\n",
       "      <td>Ren2021</td>\n",
       "      <td>5_GEX_V2</td>\n",
       "      <td>COVID</td>\n",
       "      <td>male</td>\n",
       "      <td>61-70</td>\n",
       "      <td>1</td>\n",
       "    </tr>\n",
       "    <tr>\n",
       "      <th>18</th>\n",
       "      <td>1288</td>\n",
       "      <td>SCGT00</td>\n",
       "      <td>5_GEX_V2</td>\n",
       "      <td>RA</td>\n",
       "      <td>female</td>\n",
       "      <td>18-30</td>\n",
       "      <td>3</td>\n",
       "    </tr>\n",
       "    <tr>\n",
       "      <th>19</th>\n",
       "      <td>1289</td>\n",
       "      <td>SCGT00</td>\n",
       "      <td>5_GEX_V2</td>\n",
       "      <td>RA</td>\n",
       "      <td>female</td>\n",
       "      <td>31-40</td>\n",
       "      <td>2</td>\n",
       "    </tr>\n",
       "    <tr>\n",
       "      <th>20</th>\n",
       "      <td>1290</td>\n",
       "      <td>SCGT00</td>\n",
       "      <td>5_GEX_V2</td>\n",
       "      <td>RA</td>\n",
       "      <td>female</td>\n",
       "      <td>41-50</td>\n",
       "      <td>5</td>\n",
       "    </tr>\n",
       "    <tr>\n",
       "      <th>21</th>\n",
       "      <td>1291</td>\n",
       "      <td>SCGT00</td>\n",
       "      <td>5_GEX_V2</td>\n",
       "      <td>RA</td>\n",
       "      <td>female</td>\n",
       "      <td>51-60</td>\n",
       "      <td>12</td>\n",
       "    </tr>\n",
       "    <tr>\n",
       "      <th>22</th>\n",
       "      <td>1292</td>\n",
       "      <td>SCGT00</td>\n",
       "      <td>5_GEX_V2</td>\n",
       "      <td>RA</td>\n",
       "      <td>female</td>\n",
       "      <td>61-70</td>\n",
       "      <td>6</td>\n",
       "    </tr>\n",
       "    <tr>\n",
       "      <th>23</th>\n",
       "      <td>1293</td>\n",
       "      <td>SCGT00</td>\n",
       "      <td>5_GEX_V2</td>\n",
       "      <td>RA</td>\n",
       "      <td>female</td>\n",
       "      <td>71-80</td>\n",
       "      <td>1</td>\n",
       "    </tr>\n",
       "    <tr>\n",
       "      <th>24</th>\n",
       "      <td>1298</td>\n",
       "      <td>SCGT00</td>\n",
       "      <td>5_GEX_V2</td>\n",
       "      <td>RA</td>\n",
       "      <td>male</td>\n",
       "      <td>51-60</td>\n",
       "      <td>2</td>\n",
       "    </tr>\n",
       "    <tr>\n",
       "      <th>25</th>\n",
       "      <td>1299</td>\n",
       "      <td>SCGT00</td>\n",
       "      <td>5_GEX_V2</td>\n",
       "      <td>RA</td>\n",
       "      <td>male</td>\n",
       "      <td>61-70</td>\n",
       "      <td>1</td>\n",
       "    </tr>\n",
       "    <tr>\n",
       "      <th>26</th>\n",
       "      <td>1653</td>\n",
       "      <td>Terekhova2023</td>\n",
       "      <td>5_GEX_V2</td>\n",
       "      <td>healthy</td>\n",
       "      <td>female</td>\n",
       "      <td>31-40</td>\n",
       "      <td>4</td>\n",
       "    </tr>\n",
       "    <tr>\n",
       "      <th>27</th>\n",
       "      <td>1654</td>\n",
       "      <td>Terekhova2023</td>\n",
       "      <td>5_GEX_V2</td>\n",
       "      <td>healthy</td>\n",
       "      <td>female</td>\n",
       "      <td>41-50</td>\n",
       "      <td>1</td>\n",
       "    </tr>\n",
       "    <tr>\n",
       "      <th>28</th>\n",
       "      <td>1655</td>\n",
       "      <td>Terekhova2023</td>\n",
       "      <td>5_GEX_V2</td>\n",
       "      <td>healthy</td>\n",
       "      <td>female</td>\n",
       "      <td>51-60</td>\n",
       "      <td>3</td>\n",
       "    </tr>\n",
       "    <tr>\n",
       "      <th>29</th>\n",
       "      <td>1657</td>\n",
       "      <td>Terekhova2023</td>\n",
       "      <td>5_GEX_V2</td>\n",
       "      <td>healthy</td>\n",
       "      <td>female</td>\n",
       "      <td>71-80</td>\n",
       "      <td>2</td>\n",
       "    </tr>\n",
       "    <tr>\n",
       "      <th>30</th>\n",
       "      <td>1658</td>\n",
       "      <td>Terekhova2023</td>\n",
       "      <td>5_GEX_V2</td>\n",
       "      <td>healthy</td>\n",
       "      <td>female</td>\n",
       "      <td>&gt;80</td>\n",
       "      <td>1</td>\n",
       "    </tr>\n",
       "    <tr>\n",
       "      <th>31</th>\n",
       "      <td>1659</td>\n",
       "      <td>Terekhova2023</td>\n",
       "      <td>5_GEX_V2</td>\n",
       "      <td>healthy</td>\n",
       "      <td>male</td>\n",
       "      <td>18-30</td>\n",
       "      <td>22</td>\n",
       "    </tr>\n",
       "    <tr>\n",
       "      <th>32</th>\n",
       "      <td>1660</td>\n",
       "      <td>Terekhova2023</td>\n",
       "      <td>5_GEX_V2</td>\n",
       "      <td>healthy</td>\n",
       "      <td>male</td>\n",
       "      <td>31-40</td>\n",
       "      <td>21</td>\n",
       "    </tr>\n",
       "    <tr>\n",
       "      <th>33</th>\n",
       "      <td>1661</td>\n",
       "      <td>Terekhova2023</td>\n",
       "      <td>5_GEX_V2</td>\n",
       "      <td>healthy</td>\n",
       "      <td>male</td>\n",
       "      <td>41-50</td>\n",
       "      <td>11</td>\n",
       "    </tr>\n",
       "    <tr>\n",
       "      <th>34</th>\n",
       "      <td>1662</td>\n",
       "      <td>Terekhova2023</td>\n",
       "      <td>5_GEX_V2</td>\n",
       "      <td>healthy</td>\n",
       "      <td>male</td>\n",
       "      <td>51-60</td>\n",
       "      <td>16</td>\n",
       "    </tr>\n",
       "    <tr>\n",
       "      <th>35</th>\n",
       "      <td>1663</td>\n",
       "      <td>Terekhova2023</td>\n",
       "      <td>5_GEX_V2</td>\n",
       "      <td>healthy</td>\n",
       "      <td>male</td>\n",
       "      <td>61-70</td>\n",
       "      <td>16</td>\n",
       "    </tr>\n",
       "    <tr>\n",
       "      <th>36</th>\n",
       "      <td>1664</td>\n",
       "      <td>Terekhova2023</td>\n",
       "      <td>5_GEX_V2</td>\n",
       "      <td>healthy</td>\n",
       "      <td>male</td>\n",
       "      <td>71-80</td>\n",
       "      <td>14</td>\n",
       "    </tr>\n",
       "    <tr>\n",
       "      <th>37</th>\n",
       "      <td>1865</td>\n",
       "      <td>Zhang2023</td>\n",
       "      <td>5_GEX_V1</td>\n",
       "      <td>HBV</td>\n",
       "      <td>female</td>\n",
       "      <td>51-60</td>\n",
       "      <td>1</td>\n",
       "    </tr>\n",
       "    <tr>\n",
       "      <th>38</th>\n",
       "      <td>1870</td>\n",
       "      <td>Zhang2023</td>\n",
       "      <td>5_GEX_V1</td>\n",
       "      <td>HBV</td>\n",
       "      <td>male</td>\n",
       "      <td>31-40</td>\n",
       "      <td>1</td>\n",
       "    </tr>\n",
       "    <tr>\n",
       "      <th>39</th>\n",
       "      <td>1871</td>\n",
       "      <td>Zhang2023</td>\n",
       "      <td>5_GEX_V1</td>\n",
       "      <td>HBV</td>\n",
       "      <td>male</td>\n",
       "      <td>41-50</td>\n",
       "      <td>1</td>\n",
       "    </tr>\n",
       "  </tbody>\n",
       "</table>\n",
       "</div>"
      ],
      "text/plain": [
       "    index        studyID chemistry  disease     sex binned_age  patient_count\n",
       "0     169     COMBAT2022  5_GEX_V1    COVID  female      31-40              2\n",
       "1     171     COMBAT2022  5_GEX_V1    COVID  female      51-60              2\n",
       "2     172     COMBAT2022  5_GEX_V1    COVID  female      61-70              1\n",
       "3     173     COMBAT2022  5_GEX_V1    COVID  female      71-80              2\n",
       "4     175     COMBAT2022  5_GEX_V1    COVID    male      18-30              1\n",
       "5     176     COMBAT2022  5_GEX_V1    COVID    male      31-40              1\n",
       "6     180     COMBAT2022  5_GEX_V1    COVID    male      71-80              2\n",
       "7     240     COMBAT2022  5_GEX_V1   sepsis  female      41-50              1\n",
       "8     250     COMBAT2022  5_GEX_V1   sepsis    male      71-80              1\n",
       "9     378      Perez2022  3_GEX_V2      SLE  female      18-30              8\n",
       "10    379      Perez2022  3_GEX_V2      SLE  female      31-40              3\n",
       "11    757        Ren2021  3_GEX_V3    COVID  female      31-40              1\n",
       "12    760        Ren2021  3_GEX_V3    COVID  female      61-70              1\n",
       "13    764        Ren2021  3_GEX_V3    COVID    male      31-40              2\n",
       "14    767        Ren2021  3_GEX_V3    COVID    male      61-70              1\n",
       "15    768        Ren2021  3_GEX_V3    COVID    male      71-80              1\n",
       "16    928        Ren2021  5_GEX_V2    COVID  female      61-70              1\n",
       "17    935        Ren2021  5_GEX_V2    COVID    male      61-70              1\n",
       "18   1288         SCGT00  5_GEX_V2       RA  female      18-30              3\n",
       "19   1289         SCGT00  5_GEX_V2       RA  female      31-40              2\n",
       "20   1290         SCGT00  5_GEX_V2       RA  female      41-50              5\n",
       "21   1291         SCGT00  5_GEX_V2       RA  female      51-60             12\n",
       "22   1292         SCGT00  5_GEX_V2       RA  female      61-70              6\n",
       "23   1293         SCGT00  5_GEX_V2       RA  female      71-80              1\n",
       "24   1298         SCGT00  5_GEX_V2       RA    male      51-60              2\n",
       "25   1299         SCGT00  5_GEX_V2       RA    male      61-70              1\n",
       "26   1653  Terekhova2023  5_GEX_V2  healthy  female      31-40              4\n",
       "27   1654  Terekhova2023  5_GEX_V2  healthy  female      41-50              1\n",
       "28   1655  Terekhova2023  5_GEX_V2  healthy  female      51-60              3\n",
       "29   1657  Terekhova2023  5_GEX_V2  healthy  female      71-80              2\n",
       "30   1658  Terekhova2023  5_GEX_V2  healthy  female        >80              1\n",
       "31   1659  Terekhova2023  5_GEX_V2  healthy    male      18-30             22\n",
       "32   1660  Terekhova2023  5_GEX_V2  healthy    male      31-40             21\n",
       "33   1661  Terekhova2023  5_GEX_V2  healthy    male      41-50             11\n",
       "34   1662  Terekhova2023  5_GEX_V2  healthy    male      51-60             16\n",
       "35   1663  Terekhova2023  5_GEX_V2  healthy    male      61-70             16\n",
       "36   1664  Terekhova2023  5_GEX_V2  healthy    male      71-80             14\n",
       "37   1865      Zhang2023  5_GEX_V1      HBV  female      51-60              1\n",
       "38   1870      Zhang2023  5_GEX_V1      HBV    male      31-40              1\n",
       "39   1871      Zhang2023  5_GEX_V1      HBV    male      41-50              1"
      ]
     },
     "execution_count": 69,
     "metadata": {},
     "output_type": "execute_result"
    }
   ],
   "source": [
    "grouped = adata_excluded.obs.groupby([\"studyID\", \"chemistry\", \"disease\", \"sex\", \"binned_age\"])\n",
    "results = grouped[\"patientID\"].nunique().reset_index().rename(columns={\"patientID\": \"patient_count\"})\n",
    "results = results[results[\"patient_count\"] > 0].reset_index()\n",
    "results"
   ]
  },
  {
   "cell_type": "markdown",
   "id": "f9496293-bb38-4292-94a9-d9fe3ff466fb",
   "metadata": {
    "papermill": {
     "duration": 0.037342,
     "end_time": "2024-04-26T15:17:22.140391",
     "exception": false,
     "start_time": "2024-04-26T15:17:22.103049",
     "status": "completed"
    },
    "tags": []
   },
   "source": [
    "## Core data"
   ]
  },
  {
   "cell_type": "code",
   "execution_count": 70,
   "id": "2ad7d4c3-7122-4fdd-b309-3e7dd423c3f4",
   "metadata": {
    "execution": {
     "iopub.execute_input": "2024-05-06T16:37:20.389596Z",
     "iopub.status.busy": "2024-05-06T16:37:20.389426Z",
     "iopub.status.idle": "2024-05-06T16:37:22.925175Z",
     "shell.execute_reply": "2024-05-06T16:37:22.924752Z",
     "shell.execute_reply.started": "2024-05-06T16:37:20.389577Z"
    },
    "papermill": {
     "duration": 3.36827,
     "end_time": "2024-04-26T15:17:25.541210",
     "exception": false,
     "start_time": "2024-04-26T15:17:22.172940",
     "status": "completed"
    },
    "tags": []
   },
   "outputs": [
    {
     "data": {
      "text/plain": [
       "View of AnnData object with n_obs × n_vars = 6016705 × 37169\n",
       "    obs: 'studyID', 'libraryID', 'sampleID', 'chemistry', 'technology', 'patientID', 'disease', 'timepoint_replicate', 'treatmentStatus', 'therapyResponse', 'sex', 'age', 'BMI', 'binned_age', 'diseaseStatus', 'smokingStatus', 'ethnicity', 'institute', 'diseaseGroup'\n",
       "    var: 'hgnc_id', 'symbol', 'locus_group', 'HUGO_status'"
      ]
     },
     "execution_count": 70,
     "metadata": {},
     "output_type": "execute_result"
    }
   ],
   "source": [
    "# Filter out external data from Anndata object\n",
    "adata_core = adata[~adata.obs.sampleID.isin(excluded_samplesIDs)]\n",
    "adata_core"
   ]
  },
  {
   "cell_type": "code",
   "execution_count": 71,
   "id": "bb4ec361-ff76-4214-a06a-2d6cbfc812c3",
   "metadata": {
    "execution": {
     "iopub.execute_input": "2024-05-06T16:37:22.925962Z",
     "iopub.status.busy": "2024-05-06T16:37:22.925793Z",
     "iopub.status.idle": "2024-05-06T16:37:22.953522Z",
     "shell.execute_reply": "2024-05-06T16:37:22.953116Z",
     "shell.execute_reply.started": "2024-05-06T16:37:22.925943Z"
    },
    "papermill": {
     "duration": 0.055207,
     "end_time": "2024-04-26T15:17:25.621523",
     "exception": false,
     "start_time": "2024-04-26T15:17:25.566316",
     "status": "completed"
    },
    "tags": []
   },
   "outputs": [
    {
     "data": {
      "text/plain": [
       "['SCGT00_I57', 'SCGT00_I56', 'SCGT00_I53', 'SCGT00_I52', 'SCGT00_I51', ..., 'Ren2021_PS049', 'Ren2021_PS050', 'Ren2021_PS051', 'Ren2021_PS052', 'Ren2021_PS053']\n",
       "Length: 994\n",
       "Categories (994, object): ['COMBAT2022_G05061', 'COMBAT2022_G05064', 'COMBAT2022_G05073', 'COMBAT2022_G05077', ..., 'Zhang2023_P191126', 'Zhang2023_P191127', 'Zhang2023_P191210', 'Zhang2023_P191217']"
      ]
     },
     "execution_count": 71,
     "metadata": {},
     "output_type": "execute_result"
    }
   ],
   "source": [
    "adata_core.obs.patientID.unique()"
   ]
  },
  {
   "cell_type": "code",
   "execution_count": 72,
   "id": "4bd8891d-b9a1-4a79-b245-e04ed049916c",
   "metadata": {
    "execution": {
     "iopub.execute_input": "2024-05-06T16:37:22.954328Z",
     "iopub.status.busy": "2024-05-06T16:37:22.954125Z",
     "iopub.status.idle": "2024-05-06T16:37:23.328005Z",
     "shell.execute_reply": "2024-05-06T16:37:23.327501Z",
     "shell.execute_reply.started": "2024-05-06T16:37:22.954308Z"
    },
    "papermill": {
     "duration": 0.437389,
     "end_time": "2024-04-26T15:17:26.083792",
     "exception": false,
     "start_time": "2024-04-26T15:17:25.646403",
     "status": "completed"
    },
    "tags": []
   },
   "outputs": [],
   "source": [
    "# Ensure data has unique PATIENT samples.\n",
    "assert len(adata_core.obs.patientID.unique()) == len(adata_core.obs.sampleID.unique())"
   ]
  },
  {
   "cell_type": "code",
   "execution_count": null,
   "id": "f98ae1ef-32c9-4b19-ac8f-2044dda466a7",
   "metadata": {
    "execution": {
     "iopub.execute_input": "2024-05-06T16:37:23.329096Z",
     "iopub.status.busy": "2024-05-06T16:37:23.328678Z",
     "iopub.status.idle": "2024-05-06T17:05:13.501933Z",
     "shell.execute_reply": "2024-05-06T17:05:13.501027Z",
     "shell.execute_reply.started": "2024-05-06T16:37:23.329075Z"
    },
    "papermill": {
     "duration": 1669.50293,
     "end_time": "2024-04-26T15:45:15.612462",
     "exception": false,
     "start_time": "2024-04-26T15:17:26.109532",
     "status": "completed"
    },
    "tags": []
   },
   "outputs": [],
   "source": [
    "# Save Anndata object (.h5ad file) \n",
    "adata_core.write(here(\"00_data_processing/results/01_INFLAMMATION_core.h5ad\"), compression=\"gzip\")"
   ]
  },
  {
   "cell_type": "raw",
   "id": "8246e033-e3af-46d3-af41-f4a251564152",
   "metadata": {
    "execution": {
     "iopub.execute_input": "2024-05-24T15:14:24.548732Z",
     "iopub.status.busy": "2024-05-24T15:14:24.548199Z",
     "iopub.status.idle": "2024-05-24T15:14:32.589473Z",
     "shell.execute_reply": "2024-05-24T15:14:32.588953Z",
     "shell.execute_reply.started": "2024-05-24T15:14:24.548713Z"
    }
   },
   "source": [
    "adata_core = sc.read_h5ad(here(\"00_data_processing/results/01_INFLAMMATION_core.h5ad\"), backed='r')"
   ]
  },
  {
   "cell_type": "code",
   "execution_count": 74,
   "id": "fffa46dd-e104-4636-adac-5f00bc62661a",
   "metadata": {
    "execution": {
     "iopub.execute_input": "2024-05-06T17:05:13.503176Z",
     "iopub.status.busy": "2024-05-06T17:05:13.502952Z",
     "iopub.status.idle": "2024-05-06T17:05:16.541898Z",
     "shell.execute_reply": "2024-05-06T17:05:16.541479Z",
     "shell.execute_reply.started": "2024-05-06T17:05:13.503153Z"
    },
    "papermill": {
     "duration": 4.271698,
     "end_time": "2024-04-26T15:45:19.909684",
     "exception": false,
     "start_time": "2024-04-26T15:45:15.637986",
     "status": "completed"
    },
    "tags": []
   },
   "outputs": [
    {
     "data": {
      "text/html": [
       "<details>\n",
       "<summary>Click to view session information</summary>\n",
       "<pre>\n",
       "-----\n",
       "anndata                     0.10.5.post1\n",
       "customPythonFunctions       NA\n",
       "matplotlib                  3.8.3\n",
       "mygene                      3.2.2\n",
       "numpy                       1.26.4\n",
       "pandas                      2.2.0\n",
       "pyprojroot                  NA\n",
       "requests                    2.31.0\n",
       "scanpy                      1.9.8\n",
       "scienceplots                NA\n",
       "session_info                1.0.0\n",
       "sklearn                     1.4.1.post1\n",
       "tqdm                        4.66.2\n",
       "-----\n",
       "</pre>\n",
       "<details>\n",
       "<summary>Click to view modules imported as dependencies</summary>\n",
       "<pre>\n",
       "PIL                         10.2.0\n",
       "anyio                       NA\n",
       "array_api_compat            1.4.1\n",
       "arrow                       1.3.0\n",
       "asttokens                   NA\n",
       "attr                        23.2.0\n",
       "attrs                       23.2.0\n",
       "babel                       2.14.0\n",
       "biothings_client            0.2.6\n",
       "brotli                      1.1.0\n",
       "cattr                       NA\n",
       "cattrs                      NA\n",
       "certifi                     2024.02.02\n",
       "cffi                        1.16.0\n",
       "charset_normalizer          3.3.2\n",
       "colorama                    0.4.6\n",
       "comm                        0.2.1\n",
       "customPalette               NA\n",
       "cycler                      0.12.1\n",
       "cython_runtime              NA\n",
       "dateutil                    2.8.2\n",
       "debugpy                     1.8.1\n",
       "decorator                   5.1.1\n",
       "defusedxml                  0.7.1\n",
       "exceptiongroup              1.2.0\n",
       "executing                   2.0.1\n",
       "fastjsonschema              NA\n",
       "fqdn                        NA\n",
       "h5py                        3.10.0\n",
       "idna                        3.6\n",
       "igraph                      0.11.4\n",
       "ipykernel                   6.29.2\n",
       "isoduration                 NA\n",
       "itsdangerous                2.1.2\n",
       "jedi                        0.19.1\n",
       "jinja2                      3.1.3\n",
       "joblib                      1.3.2\n",
       "json5                       NA\n",
       "jsonpointer                 2.4\n",
       "jsonschema                  4.21.1\n",
       "jsonschema_specifications   NA\n",
       "jupyter_events              0.9.0\n",
       "jupyter_server              2.12.5\n",
       "jupyterlab_server           2.25.3\n",
       "kiwisolver                  1.4.5\n",
       "leidenalg                   0.10.2\n",
       "llvmlite                    0.42.0\n",
       "markupsafe                  2.1.5\n",
       "matplotlib_inline           0.1.6\n",
       "mpl_toolkits                NA\n",
       "natsort                     8.4.0\n",
       "nbformat                    5.9.2\n",
       "numba                       0.59.0\n",
       "overrides                   NA\n",
       "packaging                   23.2\n",
       "parso                       0.8.3\n",
       "pickleshare                 0.7.5\n",
       "platformdirs                4.2.0\n",
       "plotly                      5.20.0\n",
       "prometheus_client           NA\n",
       "prompt_toolkit              3.0.42\n",
       "psutil                      5.9.8\n",
       "pure_eval                   0.2.2\n",
       "pyarrow                     15.0.0\n",
       "pydev_ipython               NA\n",
       "pydevconsole                NA\n",
       "pydevd                      2.9.5\n",
       "pydevd_file_utils           NA\n",
       "pydevd_plugins              NA\n",
       "pydevd_tracing              NA\n",
       "pygments                    2.17.2\n",
       "pyparsing                   3.1.1\n",
       "pythonjsonlogger            NA\n",
       "pytz                        2024.1\n",
       "referencing                 NA\n",
       "requests_cache              1.2.0\n",
       "rfc3339_validator           0.1.4\n",
       "rfc3986_validator           0.1.1\n",
       "rpds                        NA\n",
       "scipy                       1.12.0\n",
       "send2trash                  NA\n",
       "simplejson                  3.19.2\n",
       "six                         1.16.0\n",
       "sniffio                     1.3.0\n",
       "socks                       1.7.1\n",
       "stack_data                  0.6.2\n",
       "texttable                   1.7.0\n",
       "threadpoolctl               3.3.0\n",
       "tornado                     6.4\n",
       "traitlets                   5.14.1\n",
       "typing_extensions           NA\n",
       "ujson                       5.9.0\n",
       "uri_template                NA\n",
       "url_normalize               1.4.3\n",
       "urllib3                     2.2.1\n",
       "wcwidth                     0.2.13\n",
       "webcolors                   1.13\n",
       "websocket                   1.7.0\n",
       "yaml                        6.0.1\n",
       "zmq                         25.1.2\n",
       "zoneinfo                    NA\n",
       "zstandard                   0.22.0\n",
       "</pre>\n",
       "</details> <!-- seems like this ends pre, so might as well be explicit -->\n",
       "<pre>\n",
       "-----\n",
       "IPython             8.21.0\n",
       "jupyter_client      8.6.0\n",
       "jupyter_core        5.7.1\n",
       "jupyterlab          4.1.2\n",
       "-----\n",
       "Python 3.10.13 | packaged by conda-forge | (main, Dec 23 2023, 15:36:39) [GCC 12.3.0]\n",
       "Linux-3.10.0-1160.88.1.el7.x86_64-x86_64-with-glibc2.17\n",
       "-----\n",
       "Session information updated at 2024-05-06 19:05\n",
       "</pre>\n",
       "</details>"
      ],
      "text/plain": [
       "<IPython.core.display.HTML object>"
      ]
     },
     "execution_count": 74,
     "metadata": {},
     "output_type": "execute_result"
    }
   ],
   "source": [
    "# Session info\n",
    "session_info.show()"
   ]
  },
  {
   "cell_type": "code",
   "execution_count": null,
   "id": "8599f648-4dcb-4d7b-a59a-6b1046a748ed",
   "metadata": {},
   "outputs": [],
   "source": []
  },
  {
   "cell_type": "code",
   "execution_count": null,
   "id": "3cb11e80-ab7a-473f-a232-482e86672345",
   "metadata": {},
   "outputs": [],
   "source": []
  },
  {
   "cell_type": "code",
   "execution_count": null,
   "id": "e92b7a6b-581b-40ae-a6c2-69332f769c77",
   "metadata": {},
   "outputs": [],
   "source": []
  },
  {
   "cell_type": "code",
   "execution_count": null,
   "id": "335205ca-84e5-420a-bad7-aef5453b3964",
   "metadata": {},
   "outputs": [],
   "source": [
    "doctis = pd.read_pickle(here(\"00_data_processing/results/extended_obs/SCGT00_obs.pkl\"))"
   ]
  },
  {
   "cell_type": "code",
   "execution_count": null,
   "id": "0f739d81-750d-4681-b08f-089bd5f7326d",
   "metadata": {},
   "outputs": [],
   "source": [
    "doctis.head()"
   ]
  },
  {
   "cell_type": "code",
   "execution_count": null,
   "id": "25dba7ab-1397-4522-86f2-1f592d52d1f5",
   "metadata": {},
   "outputs": [],
   "source": []
  }
 ],
 "metadata": {
  "kernelspec": {
   "display_name": "Python 3 (ipykernel)",
   "language": "python",
   "name": "python3"
  },
  "language_info": {
   "codemirror_mode": {
    "name": "ipython",
    "version": 3
   },
   "file_extension": ".py",
   "mimetype": "text/x-python",
   "name": "python",
   "nbconvert_exporter": "python",
   "pygments_lexer": "ipython3",
   "version": "3.10.13"
  },
  "papermill": {
   "default_parameters": {},
   "duration": 3537.948836,
   "end_time": "2024-04-26T15:45:30.898242",
   "environment_variables": {},
   "exception": null,
   "input_path": "01_RAW_adata_objects_generation.ipynb",
   "output_path": "01_RAW_adata_objects_generation.ipynb",
   "parameters": {},
   "start_time": "2024-04-26T14:46:32.949406",
   "version": "2.5.0"
  }
 },
 "nbformat": 4,
 "nbformat_minor": 5
}
