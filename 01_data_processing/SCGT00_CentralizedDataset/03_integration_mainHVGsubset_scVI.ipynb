{
 "cells": [
  {
   "cell_type": "code",
   "execution_count": 11,
   "id": "1441cd8b-0008-45c5-9858-1c6662d99eae",
   "metadata": {
    "execution": {
     "iopub.execute_input": "2024-10-16T09:32:19.054218Z",
     "iopub.status.busy": "2024-10-16T09:32:19.053194Z",
     "iopub.status.idle": "2024-10-16T09:32:19.073529Z",
     "shell.execute_reply": "2024-10-16T09:32:19.072218Z",
     "shell.execute_reply.started": "2024-10-16T09:32:19.054156Z"
    }
   },
   "outputs": [
    {
     "data": {
      "text/plain": [
       "True"
      ]
     },
     "execution_count": 11,
     "metadata": {},
     "output_type": "execute_result"
    }
   ],
   "source": [
    "import os\n",
    "import sys\n",
    "\n",
    "import numpy as np\n",
    "import matplotlib.pyplot as plt\n",
    "\n",
    "import scanpy as sc\n",
    "import scvi\n",
    "import torch\n",
    "\n",
    "from pytorch_lightning.loggers import WandbLogger\n",
    "\n",
    "import wandb\n",
    "\n",
    "import session_info\n",
    "import warnings\n",
    "from pyprojroot.here import here\n",
    "\n",
    "from dotenv import load_dotenv\n",
    "\n",
    "sys.path.insert(1, str(here('bin')))\n",
    "\n",
    "torch.set_float32_matmul_precision('high')\n",
    "\n",
    "#plt.style.use(['science','nature','no-latex'])\n",
    "dpi_fig_save = 300\n",
    "sc.set_figure_params(dpi=100, dpi_save=dpi_fig_save, vector_friendly=True)\n",
    "\n",
    "# Setting some parameters\n",
    "warnings.filterwarnings(\"ignore\")\n",
    "\n",
    "overwriteData = True\n",
    "overwriteFigures = True\n",
    "\n",
    "load_dotenv(here('.env'))"
   ]
  },
  {
   "cell_type": "code",
   "execution_count": 12,
   "id": "b301f4aa-ed1e-42c9-ac66-6191bad7b9dc",
   "metadata": {
    "execution": {
     "iopub.execute_input": "2024-10-16T09:32:21.228372Z",
     "iopub.status.busy": "2024-10-16T09:32:21.227511Z",
     "iopub.status.idle": "2024-10-16T09:32:21.234916Z",
     "shell.execute_reply": "2024-10-16T09:32:21.233453Z",
     "shell.execute_reply.started": "2024-10-16T09:32:21.228317Z"
    }
   },
   "outputs": [],
   "source": [
    "class CustomWandbLogger(WandbLogger):\n",
    "    @property\n",
    "    def save_dir(self):\n",
    "        \"\"\"Gets the save directory.\n",
    "\n",
    "        Returns:\n",
    "            The path to the save directory.\n",
    "\n",
    "        \"\"\"\n",
    "        return self.experiment.dir"
   ]
  },
  {
   "cell_type": "code",
   "execution_count": 3,
   "id": "a75d1e05-2b66-4dd3-bd4b-c2436f2b5a3b",
   "metadata": {
    "execution": {
     "iopub.execute_input": "2024-10-16T09:23:09.888688Z",
     "iopub.status.busy": "2024-10-16T09:23:09.888161Z",
     "iopub.status.idle": "2024-10-16T09:23:09.907820Z",
     "shell.execute_reply": "2024-10-16T09:23:09.906714Z",
     "shell.execute_reply.started": "2024-10-16T09:23:09.888640Z"
    }
   },
   "outputs": [
    {
     "name": "stderr",
     "output_type": "stream",
     "text": [
      "Seed set to 0\n"
     ]
    },
    {
     "name": "stdout",
     "output_type": "stream",
     "text": [
      "Last run with scvi-tools version: 1.1.2\n"
     ]
    }
   ],
   "source": [
    "scvi.settings.seed = 0\n",
    "print(\"Last run with scvi-tools version:\", scvi.__version__)"
   ]
  },
  {
   "cell_type": "markdown",
   "id": "fdc7d083-ff5e-4620-a2f2-db4df1df7a36",
   "metadata": {},
   "source": [
    "**Load data**"
   ]
  },
  {
   "cell_type": "code",
   "execution_count": 4,
   "id": "941bc7fc-6767-4ac7-91da-4b22b664a133",
   "metadata": {
    "execution": {
     "iopub.execute_input": "2024-10-16T09:23:36.201885Z",
     "iopub.status.busy": "2024-10-16T09:23:36.200410Z",
     "iopub.status.idle": "2024-10-16T09:23:47.662875Z",
     "shell.execute_reply": "2024-10-16T09:23:47.661483Z",
     "shell.execute_reply.started": "2024-10-16T09:23:36.201806Z"
    }
   },
   "outputs": [
    {
     "data": {
      "text/plain": [
       "AnnData object with n_obs × n_vars = 855417 × 3126 backed at '/scratch_isilon/groups/singlecell/shared/projects/Inflammation-PBMCs-Atlas/01_data_processing/SCGT00_CentralizedDataset/results/2_SCGT00_MAIN_normalized_HVGsubset.h5ad'\n",
       "    obs: 'studyID', 'libraryID', 'sampleID', 'chemistry', 'technology', 'patientID', 'disease', 'timepoint_replicate', 'treatmentStatus', 'therapyResponse', 'sex', 'age', 'BMI', 'binned_age', 'diseaseStatus', 'smokingStatus', 'ethnicity', 'institute', 'diseaseGroup', 'batches', 'n_genes_by_counts', 'log1p_n_genes_by_counts', 'total_counts', 'log1p_total_counts', 'pct_counts_in_top_20_genes', 'total_counts_mt', 'log1p_total_counts_mt', 'pct_counts_mt', 'total_counts_ribo', 'log1p_total_counts_ribo', 'pct_counts_ribo', 'total_counts_hb', 'log1p_total_counts_hb', 'pct_counts_hb', 'total_counts_plt', 'log1p_total_counts_plt', 'pct_counts_plt', 'S_score', 'G2M_score', 'phase'\n",
       "    var: 'hgnc_id', 'symbol', 'locus_group', 'HUGO_status', 'mt', 'ribo', 'hb', 'plt', 'n_cells_by_counts', 'mean_counts', 'log1p_mean_counts', 'pct_dropout_by_counts', 'total_counts', 'log1p_total_counts', 'highly_variable', 'means', 'dispersions', 'dispersions_norm', 'highly_variable_nbatches', 'highly_variable_intersection'\n",
       "    uns: 'disease_colors', 'hvg', 'log1p'\n",
       "    layers: 'counts', 'log1p_10e4_counts'"
      ]
     },
     "execution_count": 4,
     "metadata": {},
     "output_type": "execute_result"
    }
   ],
   "source": [
    "# Load the h5ad file\n",
    "adata = sc.read_h5ad(here(\"01_data_processing/SCGT00_CentralizedDataset/results/2_SCGT00_MAIN_normalized_HVGsubset.h5ad\"), backed='r')\n",
    "adata"
   ]
  },
  {
   "cell_type": "code",
   "execution_count": 7,
   "id": "07aedbe8-d8ef-4bee-84b1-c038443a5830",
   "metadata": {
    "execution": {
     "iopub.execute_input": "2024-10-16T09:26:14.846338Z",
     "iopub.status.busy": "2024-10-16T09:26:14.845595Z",
     "iopub.status.idle": "2024-10-16T09:26:14.860236Z",
     "shell.execute_reply": "2024-10-16T09:26:14.858838Z",
     "shell.execute_reply.started": "2024-10-16T09:26:14.846254Z"
    }
   },
   "outputs": [
    {
     "data": {
      "text/plain": [
       "cellID\n",
       "SCGT00_L051_I57.3P_T0_AAACCCAAGGTGAGAA           SCGT00\n",
       "SCGT00_L051_I56.3P_T0_AAACCCAAGTCCGTCG           SCGT00\n",
       "SCGT00_L051_I53.3P_T0_AAACCCAAGTGCACTT           SCGT00\n",
       "SCGT00_L051_I52.3P_T0_AAACCCACAACTGTGT           SCGT00\n",
       "SCGT00_L051_I56.3P_T0_AAACCCACAAGAATGT           SCGT00\n",
       "                                                ...    \n",
       "SCGT00val_L003_I0362_T0_TTTGTTGTCCGTCAAA      SCGT00val\n",
       "SCGT00val_L003_I036018_T0_TTTGTTGTCGGTTGTA    SCGT00val\n",
       "SCGT00val_L003_I0361_T0_TTTGTTGTCTACGCAA      SCGT00val\n",
       "SCGT00val_L003_I036018_T0_TTTGTTGTCTCTGACC    SCGT00val\n",
       "SCGT00val_L003_I036031_T0_TTTGTTGTCTTTGGAG    SCGT00val\n",
       "Name: studyID, Length: 855417, dtype: category\n",
       "Categories (2, object): ['SCGT00', 'SCGT00val']"
      ]
     },
     "execution_count": 7,
     "metadata": {},
     "output_type": "execute_result"
    }
   ],
   "source": [
    "adata.obs.studyID"
   ]
  },
  {
   "cell_type": "markdown",
   "id": "774330d8-5991-4ccd-a6a1-e8b45a8166fa",
   "metadata": {
    "editable": true,
    "slideshow": {
     "slide_type": ""
    },
    "tags": []
   },
   "source": [
    "## scVI integration"
   ]
  },
  {
   "cell_type": "markdown",
   "id": "26d0a39f-671d-4486-af63-e7a2588f11e9",
   "metadata": {},
   "source": [
    "#### Parameters"
   ]
  },
  {
   "cell_type": "code",
   "execution_count": 8,
   "id": "6304d126-e185-4d61-9655-2321e80070f3",
   "metadata": {
    "editable": true,
    "execution": {
     "iopub.execute_input": "2024-10-16T09:30:06.573589Z",
     "iopub.status.busy": "2024-10-16T09:30:06.572711Z",
     "iopub.status.idle": "2024-10-16T09:30:06.585181Z",
     "shell.execute_reply": "2024-10-16T09:30:06.583718Z",
     "shell.execute_reply.started": "2024-10-16T09:30:06.573507Z"
    },
    "slideshow": {
     "slide_type": ""
    },
    "tags": []
   },
   "outputs": [],
   "source": [
    "# https://docs.scvi-tools.org/en/stable/api/reference/scvi.train.Trainer.html#scvi.train.Trainer\n",
    "setup_kwargs = dict(\n",
    "    layer=\"counts\", \n",
    "    batch_key='libraryID', \n",
    "    categorical_covariate_keys = ['disease', 'sampleID'],\n",
    ")\n",
    "\n",
    "scvi_kwargs = dict(n_hidden=512,\n",
    "                   n_latent=30,\n",
    "                   n_layers=2,\n",
    "                   gene_likelihood='nb')\n",
    "\n",
    "trainer_kwargs = dict(\n",
    "    checkpointing_monitor = 'elbo_validation',\n",
    "    early_stopping_monitor = 'reconstruction_loss_validation',\n",
    "    early_stopping_patience = 10,\n",
    "    early_stopping_min_delta=0.1,\n",
    "    early_stopping = True,\n",
    "    max_epochs = 1000,\n",
    "\n",
    "    #logger = # wandb\n",
    ")\n",
    "# https://docs.scvi-tools.org/en/stable/api/reference/scvi.train.TrainingPlan.html#scvi.train.TrainingPlan\n",
    "plan_kwargs = dict(\n",
    "    lr = 5e-4,\n",
    "    #reduce_lr_on_plateau = True\n",
    ")\n",
    "\n",
    "# https://docs.scvi-tools.org/en/stable/api/reference/scvi.module.VAE.html#scvi.module.VAE\n",
    "#vae = dict(\n",
    "#    use_layer_norm='both',\n",
    "#    use_batch_norm='none',\n",
    "#    encode_covariates=True,\n",
    "#    deeply_inject_covariates=False\n",
    "#)\n",
    "parameter_dict = setup_kwargs | scvi_kwargs | trainer_kwargs | plan_kwargs"
   ]
  },
  {
   "cell_type": "code",
   "execution_count": 9,
   "id": "7b786add-86bd-4167-bc44-269f235be420",
   "metadata": {
    "execution": {
     "iopub.execute_input": "2024-10-16T09:30:07.346696Z",
     "iopub.status.busy": "2024-10-16T09:30:07.346169Z",
     "iopub.status.idle": "2024-10-16T09:30:07.355814Z",
     "shell.execute_reply": "2024-10-16T09:30:07.354445Z",
     "shell.execute_reply.started": "2024-10-16T09:30:07.346646Z"
    }
   },
   "outputs": [
    {
     "data": {
      "text/plain": [
       "{'layer': 'counts',\n",
       " 'batch_key': 'libraryID',\n",
       " 'categorical_covariate_keys': ['disease', 'sampleID'],\n",
       " 'n_hidden': 512,\n",
       " 'n_latent': 30,\n",
       " 'n_layers': 2,\n",
       " 'gene_likelihood': 'nb',\n",
       " 'checkpointing_monitor': 'elbo_validation',\n",
       " 'early_stopping_monitor': 'reconstruction_loss_validation',\n",
       " 'early_stopping_patience': 10,\n",
       " 'early_stopping_min_delta': 0.1,\n",
       " 'early_stopping': True,\n",
       " 'max_epochs': 1000,\n",
       " 'lr': 0.0005}"
      ]
     },
     "execution_count": 9,
     "metadata": {},
     "output_type": "execute_result"
    }
   ],
   "source": [
    "parameter_dict"
   ]
  },
  {
   "cell_type": "code",
   "execution_count": 10,
   "id": "212207a2-d8ef-4d9a-b0ef-40f1c483f040",
   "metadata": {
    "execution": {
     "iopub.execute_input": "2024-10-16T09:30:14.036217Z",
     "iopub.status.busy": "2024-10-16T09:30:14.035689Z",
     "iopub.status.idle": "2024-10-16T09:30:14.044760Z",
     "shell.execute_reply": "2024-10-16T09:30:14.043319Z",
     "shell.execute_reply.started": "2024-10-16T09:30:14.036168Z"
    }
   },
   "outputs": [
    {
     "data": {
      "text/plain": [
       "'Step00_COVdisease_sampleID'"
      ]
     },
     "execution_count": 10,
     "metadata": {},
     "output_type": "execute_result"
    }
   ],
   "source": [
    "run_name = f\"Step00_COV{'_'.join(parameter_dict['categorical_covariate_keys'])}\"\n",
    "run_name"
   ]
  },
  {
   "cell_type": "code",
   "execution_count": null,
   "id": "7eea8e07-c5af-429f-af3e-33881b9f4c18",
   "metadata": {
    "editable": true,
    "slideshow": {
     "slide_type": ""
    },
    "tags": []
   },
   "outputs": [],
   "source": [
    "# https://docs.scvi-tools.org/en/stable/api/reference/scvi.model.SCVI.html#scvi.model.SCVI.train\n"
   ]
  },
  {
   "cell_type": "code",
   "execution_count": 14,
   "id": "b7dc9ed7-8f40-48c2-8b3a-f417610f4f9a",
   "metadata": {
    "editable": true,
    "execution": {
     "iopub.execute_input": "2024-10-16T09:33:16.390643Z",
     "iopub.status.busy": "2024-10-16T09:33:16.389999Z",
     "iopub.status.idle": "2024-10-16T09:33:16.483489Z",
     "shell.execute_reply": "2024-10-16T09:33:16.482036Z",
     "shell.execute_reply.started": "2024-10-16T09:33:16.390587Z"
    },
    "slideshow": {
     "slide_type": ""
    },
    "tags": []
   },
   "outputs": [],
   "source": [
    "scvi.model.SCVI.setup_anndata(adata, \n",
    "                              **setup_kwargs)"
   ]
  },
  {
   "cell_type": "code",
   "execution_count": 15,
   "id": "0d61313e-cf92-429e-8bc0-585fbfeff708",
   "metadata": {
    "editable": true,
    "execution": {
     "iopub.execute_input": "2024-10-16T09:33:19.274470Z",
     "iopub.status.busy": "2024-10-16T09:33:19.273479Z",
     "iopub.status.idle": "2024-10-16T09:33:19.333443Z",
     "shell.execute_reply": "2024-10-16T09:33:19.332640Z",
     "shell.execute_reply.started": "2024-10-16T09:33:19.274415Z"
    },
    "slideshow": {
     "slide_type": ""
    },
    "tags": []
   },
   "outputs": [],
   "source": [
    "logger = CustomWandbLogger(name = run_name, project='inflammation_atlas_R1', config = parameter_dict)"
   ]
  },
  {
   "cell_type": "markdown",
   "id": "257f87c8-2d0c-435c-9757-97ceccb6a63d",
   "metadata": {
    "editable": true,
    "slideshow": {
     "slide_type": ""
    },
    "tags": []
   },
   "source": [
    "Wd decided to use gene-label because-...\n",
    "https://discourse.scverse.org/t/what-model-to-use-when-integrating-batches-of-scrna-seq-matrices-containing-150-000-t-and-innate-lymphoid-cell-ilc-sub-populations/454/7"
   ]
  },
  {
   "cell_type": "code",
   "execution_count": 16,
   "id": "86466669-9431-49d2-a052-5421835ad1a6",
   "metadata": {
    "execution": {
     "iopub.execute_input": "2024-10-16T09:33:20.600335Z",
     "iopub.status.busy": "2024-10-16T09:33:20.599812Z",
     "iopub.status.idle": "2024-10-16T09:33:21.546363Z",
     "shell.execute_reply": "2024-10-16T09:33:21.545444Z",
     "shell.execute_reply.started": "2024-10-16T09:33:20.600286Z"
    }
   },
   "outputs": [],
   "source": [
    "model = scvi.model.SCVI(adata, **scvi_kwargs)"
   ]
  },
  {
   "cell_type": "code",
   "execution_count": 17,
   "id": "fbae6b10-3bfe-4cec-9d0d-6734d3ca6c49",
   "metadata": {
    "execution": {
     "iopub.execute_input": "2024-10-16T09:33:23.287691Z",
     "iopub.status.busy": "2024-10-16T09:33:23.287122Z",
     "iopub.status.idle": "2024-10-16T10:13:39.653510Z",
     "shell.execute_reply": "2024-10-16T10:13:39.653035Z",
     "shell.execute_reply.started": "2024-10-16T09:33:23.287641Z"
    }
   },
   "outputs": [
    {
     "name": "stderr",
     "output_type": "stream",
     "text": [
      "GPU available: True (cuda), used: True\n",
      "TPU available: False, using: 0 TPU cores\n",
      "IPU available: False, using: 0 IPUs\n",
      "HPU available: False, using: 0 HPUs\n",
      "\u001b[34m\u001b[1mwandb\u001b[0m: Currently logged in as: \u001b[33mdav1989\u001b[0m (\u001b[33minflammation\u001b[0m). Use \u001b[1m`wandb login --relogin`\u001b[0m to force relogin\n"
     ]
    },
    {
     "data": {
      "text/html": [
       "wandb version 0.18.3 is available!  To upgrade, please run:\n",
       " $ pip install wandb --upgrade"
      ],
      "text/plain": [
       "<IPython.core.display.HTML object>"
      ]
     },
     "metadata": {},
     "output_type": "display_data"
    },
    {
     "data": {
      "text/html": [
       "Tracking run with wandb version 0.16.5"
      ],
      "text/plain": [
       "<IPython.core.display.HTML object>"
      ]
     },
     "metadata": {},
     "output_type": "display_data"
    },
    {
     "data": {
      "text/html": [
       "Run data is saved locally in <code>./wandb/run-20241016_093327-072khumh</code>"
      ],
      "text/plain": [
       "<IPython.core.display.HTML object>"
      ]
     },
     "metadata": {},
     "output_type": "display_data"
    },
    {
     "data": {
      "text/html": [
       "Syncing run <strong><a href='https://wandb.ai/inflammation/inflammation_atlas_R1/runs/072khumh/workspace' target=\"_blank\">Step00_COVdisease_sampleID</a></strong> to <a href='https://wandb.ai/inflammation/inflammation_atlas_R1' target=\"_blank\">Weights & Biases</a> (<a href='https://wandb.me/run' target=\"_blank\">docs</a>)<br/>"
      ],
      "text/plain": [
       "<IPython.core.display.HTML object>"
      ]
     },
     "metadata": {},
     "output_type": "display_data"
    },
    {
     "data": {
      "text/html": [
       " View project at <a href='https://wandb.ai/inflammation/inflammation_atlas_R1' target=\"_blank\">https://wandb.ai/inflammation/inflammation_atlas_R1</a>"
      ],
      "text/plain": [
       "<IPython.core.display.HTML object>"
      ]
     },
     "metadata": {},
     "output_type": "display_data"
    },
    {
     "data": {
      "text/html": [
       " View run at <a href='https://wandb.ai/inflammation/inflammation_atlas_R1/runs/072khumh/workspace' target=\"_blank\">https://wandb.ai/inflammation/inflammation_atlas_R1/runs/072khumh/workspace</a>"
      ],
      "text/plain": [
       "<IPython.core.display.HTML object>"
      ]
     },
     "metadata": {},
     "output_type": "display_data"
    },
    {
     "name": "stderr",
     "output_type": "stream",
     "text": [
      "LOCAL_RANK: 0 - CUDA_VISIBLE_DEVICES: [0]\n"
     ]
    },
    {
     "name": "stdout",
     "output_type": "stream",
     "text": [
      "Epoch 38/1000:   4%|█▊                                              | 38/1000 [40:06<16:55:10, 63.32s/it, v_num=humh, train_loss_step=730, train_loss_epoch=716]\n",
      "Monitored metric reconstruction_loss_validation did not improve in the last 10 records. Best score: 708.102. Signaling Trainer to stop.\n"
     ]
    }
   ],
   "source": [
    "model.train(logger=logger, plan_kwargs = plan_kwargs, **trainer_kwargs)"
   ]
  },
  {
   "cell_type": "code",
   "execution_count": 18,
   "id": "c5baa4f3-a48d-4579-b6c5-9b9e34227271",
   "metadata": {
    "execution": {
     "iopub.execute_input": "2024-10-16T10:13:39.654561Z",
     "iopub.status.busy": "2024-10-16T10:13:39.654389Z",
     "iopub.status.idle": "2024-10-16T10:13:43.450006Z",
     "shell.execute_reply": "2024-10-16T10:13:43.448617Z",
     "shell.execute_reply.started": "2024-10-16T10:13:39.654542Z"
    }
   },
   "outputs": [
    {
     "data": {
      "text/html": [
       "<style>\n",
       "    table.wandb td:nth-child(1) { padding: 0 10px; text-align: left ; width: auto;} td:nth-child(2) {text-align: left ; width: 100%}\n",
       "    .wandb-row { display: flex; flex-direction: row; flex-wrap: wrap; justify-content: flex-start; width: 100% }\n",
       "    .wandb-col { display: flex; flex-direction: column; flex-basis: 100%; flex: 1; padding: 10px; }\n",
       "    </style>\n",
       "<div class=\"wandb-row\"><div class=\"wandb-col\"><h3>Run history:</h3><br/><table class=\"wandb\"><tr><td>elbo_train</td><td>█▇▅▄▃▃▃▃▃▂▂▂▂▂▂▂▂▂▂▂▂▂▁▁▁▁▁▁▁▁▁▁▁▁▁▁▁▁</td></tr><tr><td>elbo_validation</td><td>█▅▄▃▃▃▃▂▂▂▂▂▂▂▂▂▂▂▂▂▂▁▁▁▁▁▁▁▁▁▁▁▁▁▁▁▁▁</td></tr><tr><td>epoch</td><td>▁▁▁▁▂▂▂▂▃▃▃▃▃▃▃▄▄▄▄▄▅▅▅▅▅▆▆▆▆▆▆▆▇▇▇▇▇███</td></tr><tr><td>kl_global_train</td><td>▁▁▁▁▁▁▁▁▁▁▁▁▁▁▁▁▁▁▁▁▁▁▁▁▁▁▁▁▁▁▁▁▁▁▁▁▁▁</td></tr><tr><td>kl_global_validation</td><td>▁▁▁▁▁▁▁▁▁▁▁▁▁▁▁▁▁▁▁▁▁▁▁▁▁▁▁▁▁▁▁▁▁▁▁▁▁▁</td></tr><tr><td>kl_local_train</td><td>██▅▄▄▃▃▃▃▃▃▂▂▂▂▂▂▂▂▂▂▂▂▂▂▁▁▁▁▁▁▁▁▁▁▁▁▁</td></tr><tr><td>kl_local_validation</td><td>█▅▄▃▃▃▃▂▂▂▂▂▂▂▂▂▂▂▂▂▂▂▁▁▁▁▁▁▁▁▁▁▁▁▁▁▁▁</td></tr><tr><td>kl_weight</td><td>▁▁▁▁▂▂▂▂▃▃▃▃▃▃▃▄▄▄▄▄▅▅▅▅▅▆▆▆▆▆▆▆▇▇▇▇▇███</td></tr><tr><td>reconstruction_loss_train</td><td>█▃▃▂▂▂▂▂▂▂▁▁▁▁▁▁▁▁▁▁▁▁▁▁▁▁▁▁▁▁▁▁▁▁▁▁▁▁</td></tr><tr><td>reconstruction_loss_validation</td><td>█▅▄▃▃▂▃▂▂▂▂▂▂▂▁▁▁▁▁▁▁▁▁▁▁▁▁▁▁▁▁▁▁▁▁▁▁▁</td></tr><tr><td>train_loss_epoch</td><td>█▃▂▂▁▁▁▁▁▁▁▁▁▁▁▁▁▁▁▁▁▁▁▁▁▁▁▁▁▁▁▁▁▁▁▁▁▁</td></tr><tr><td>train_loss_step</td><td>█▆▆▅▃▅▅▇▆▅▄▃▆▃▄▅▁▄▄▄▅▅▅▄▃▆▄▃▆▄▃▆▆▄▅▄▆▄▃▄</td></tr><tr><td>trainer/global_step</td><td>▁▁▁▁▂▂▂▂▂▃▃▃▃▃▃▄▄▄▄▄▅▅▅▅▅▅▆▆▆▆▆▆▇▇▇▇▇███</td></tr><tr><td>validation_loss</td><td>█▄▃▂▂▁▂▁▁▁▁▁▁▁▁▁▁▁▁▁▁▁▁▂▂▂▂▂▂▂▂▂▂▂▂▃▃▃</td></tr></table><br/></div><div class=\"wandb-col\"><h3>Run summary:</h3><br/><table class=\"wandb\"><tr><td>elbo_train</td><td>768.26147</td></tr><tr><td>elbo_validation</td><td>764.43066</td></tr><tr><td>epoch</td><td>37</td></tr><tr><td>kl_global_train</td><td>0.0</td></tr><tr><td>kl_global_validation</td><td>0.0</td></tr><tr><td>kl_local_train</td><td>57.95324</td></tr><tr><td>kl_local_validation</td><td>56.35727</td></tr><tr><td>kl_weight</td><td>0.0925</td></tr><tr><td>reconstruction_loss_train</td><td>710.30823</td></tr><tr><td>reconstruction_loss_validation</td><td>708.07336</td></tr><tr><td>train_loss_epoch</td><td>715.66748</td></tr><tr><td>train_loss_step</td><td>730.0719</td></tr><tr><td>trainer/global_step</td><td>228569</td></tr><tr><td>validation_loss</td><td>713.28662</td></tr></table><br/></div></div>"
      ],
      "text/plain": [
       "<IPython.core.display.HTML object>"
      ]
     },
     "metadata": {},
     "output_type": "display_data"
    },
    {
     "data": {
      "text/html": [
       " View run <strong style=\"color:#cdcd00\">Step00_COVdisease_sampleID</strong> at: <a href='https://wandb.ai/inflammation/inflammation_atlas_R1/runs/072khumh/workspace' target=\"_blank\">https://wandb.ai/inflammation/inflammation_atlas_R1/runs/072khumh/workspace</a><br/>Synced 6 W&B file(s), 0 media file(s), 0 artifact file(s) and 0 other file(s)"
      ],
      "text/plain": [
       "<IPython.core.display.HTML object>"
      ]
     },
     "metadata": {},
     "output_type": "display_data"
    },
    {
     "data": {
      "text/html": [
       "Find logs at: <code>./wandb/run-20241016_093327-072khumh/logs</code>"
      ],
      "text/plain": [
       "<IPython.core.display.HTML object>"
      ]
     },
     "metadata": {},
     "output_type": "display_data"
    }
   ],
   "source": [
    "wandb.finish()"
   ]
  },
  {
   "cell_type": "markdown",
   "id": "94eb8579-f8f8-4e4d-b9d4-eaf89ef19ecf",
   "metadata": {},
   "source": [
    "## Save the results"
   ]
  },
  {
   "cell_type": "code",
   "execution_count": 20,
   "id": "dac02f53-ce3d-456a-8fa1-8ad5755ad467",
   "metadata": {
    "execution": {
     "iopub.execute_input": "2024-10-16T10:15:32.462817Z",
     "iopub.status.busy": "2024-10-16T10:15:32.461430Z",
     "iopub.status.idle": "2024-10-16T10:15:33.160733Z",
     "shell.execute_reply": "2024-10-16T10:15:33.159062Z",
     "shell.execute_reply.started": "2024-10-16T10:15:32.462728Z"
    }
   },
   "outputs": [],
   "source": [
    "if overwriteData:\n",
    "    model.save(here(f\"01_data_processing/SCGT00_CentralizedDataset/results/3_SCGT00_MAIN_HVGsubset_scVI_step00/\"), \n",
    "               overwrite = True, \n",
    "               save_anndata = False)"
   ]
  },
  {
   "cell_type": "code",
   "execution_count": 21,
   "id": "acd7b25a-3afc-48d2-a015-6b5261c66b77",
   "metadata": {
    "execution": {
     "iopub.execute_input": "2024-10-16T10:15:34.465226Z",
     "iopub.status.busy": "2024-10-16T10:15:34.464674Z",
     "iopub.status.idle": "2024-10-16T10:15:34.620131Z",
     "shell.execute_reply": "2024-10-16T10:15:34.619485Z",
     "shell.execute_reply.started": "2024-10-16T10:15:34.465175Z"
    }
   },
   "outputs": [
    {
     "data": {
      "text/html": [
       "<details>\n",
       "<summary>Click to view session information</summary>\n",
       "<pre>\n",
       "-----\n",
       "anndata             0.10.5\n",
       "dotenv              NA\n",
       "matplotlib          3.8.0\n",
       "numpy               1.26.4\n",
       "pandas              2.2.0\n",
       "pyprojroot          NA\n",
       "pytorch_lightning   2.2.1\n",
       "scanpy              1.9.8\n",
       "scvi                1.1.2\n",
       "session_info        1.0.0\n",
       "torch               2.3.0\n",
       "wandb               0.16.5\n",
       "-----\n",
       "</pre>\n",
       "<details>\n",
       "<summary>Click to view modules imported as dependencies</summary>\n",
       "<pre>\n",
       "PIL                         10.2.0\n",
       "absl                        NA\n",
       "anyio                       NA\n",
       "appdirs                     1.4.4\n",
       "arrow                       1.3.0\n",
       "asttokens                   NA\n",
       "attr                        23.2.0\n",
       "attrs                       23.2.0\n",
       "babel                       2.14.0\n",
       "brotli                      1.0.9\n",
       "certifi                     2024.02.02\n",
       "cffi                        1.16.0\n",
       "charset_normalizer          2.0.4\n",
       "chex                        0.1.86\n",
       "click                       8.1.7\n",
       "cloudpickle                 2.2.1\n",
       "comm                        0.2.2\n",
       "contextlib2                 NA\n",
       "cycler                      0.12.1\n",
       "cython_runtime              NA\n",
       "cytoolz                     0.12.2\n",
       "dask                        2024.4.1\n",
       "dateutil                    2.9.0\n",
       "debugpy                     1.8.1\n",
       "decorator                   5.1.1\n",
       "defusedxml                  0.7.1\n",
       "dockerpycreds               NA\n",
       "docrep                      0.3.2\n",
       "etils                       1.5.2\n",
       "exceptiongroup              1.2.0\n",
       "executing                   2.0.1\n",
       "fastjsonschema              NA\n",
       "flax                        0.8.2\n",
       "fqdn                        NA\n",
       "fsspec                      2023.10.0\n",
       "git                         3.1.37\n",
       "gitdb                       4.0.7\n",
       "gmpy2                       2.1.2\n",
       "google                      NA\n",
       "h11                         0.14.0\n",
       "h2                          4.1.0\n",
       "h5py                        3.10.0\n",
       "hpack                       4.0.0\n",
       "httpcore                    1.0.5\n",
       "httpx                       0.27.0\n",
       "hyperframe                  6.0.1\n",
       "idna                        3.4\n",
       "igraph                      0.11.4\n",
       "importlib_metadata          NA\n",
       "importlib_resources         NA\n",
       "ipykernel                   6.29.3\n",
       "isoduration                 NA\n",
       "jax                         0.4.26\n",
       "jaxlib                      0.4.26\n",
       "jedi                        0.19.1\n",
       "jinja2                      3.1.3\n",
       "joblib                      1.4.0\n",
       "json5                       0.9.24\n",
       "jsonpointer                 2.1\n",
       "jsonschema                  4.21.1\n",
       "jsonschema_specifications   NA\n",
       "jupyter_events              0.10.0\n",
       "jupyter_server              2.13.0\n",
       "jupyterlab_server           2.26.0\n",
       "kiwisolver                  1.4.5\n",
       "leidenalg                   0.10.2\n",
       "lightning                   2.1.4\n",
       "lightning_fabric            2.2.1\n",
       "lightning_utilities         0.11.2\n",
       "llvmlite                    0.42.0\n",
       "lz4                         4.3.2\n",
       "markupsafe                  2.1.3\n",
       "matplotlib_inline           0.1.6\n",
       "ml_collections              NA\n",
       "ml_dtypes                   0.4.0\n",
       "mpl_toolkits                NA\n",
       "mpmath                      1.3.0\n",
       "msgpack                     1.0.3\n",
       "mudata                      0.2.3\n",
       "multipledispatch            0.6.0\n",
       "natsort                     8.4.0\n",
       "nbformat                    5.10.4\n",
       "numba                       0.59.1\n",
       "numpyro                     0.14.0\n",
       "opt_einsum                  v3.3.0\n",
       "optax                       0.2.2\n",
       "overrides                   NA\n",
       "packaging                   23.2\n",
       "parso                       0.8.4\n",
       "pexpect                     4.9.0\n",
       "pickleshare                 0.7.5\n",
       "pkg_resources               NA\n",
       "platformdirs                3.10.0\n",
       "prometheus_client           NA\n",
       "prompt_toolkit              3.0.42\n",
       "psutil                      5.9.8\n",
       "ptyprocess                  0.7.0\n",
       "pure_eval                   0.2.2\n",
       "pyarrow                     14.0.2\n",
       "pydev_ipython               NA\n",
       "pydevconsole                NA\n",
       "pydevd                      2.9.5\n",
       "pydevd_file_utils           NA\n",
       "pydevd_plugins              NA\n",
       "pydevd_tracing              NA\n",
       "pygments                    2.17.2\n",
       "pyparsing                   3.1.2\n",
       "pyro                        1.9.0\n",
       "pythonjsonlogger            NA\n",
       "pytz                        2024.1\n",
       "referencing                 NA\n",
       "requests                    2.31.0\n",
       "rfc3339_validator           0.1.4\n",
       "rfc3986_validator           0.1.1\n",
       "rich                        NA\n",
       "rpds                        NA\n",
       "ruamel                      NA\n",
       "scipy                       1.12.0\n",
       "send2trash                  NA\n",
       "sentry_sdk                  1.9.0\n",
       "setuptools                  68.2.2\n",
       "six                         1.16.0\n",
       "sklearn                     1.4.1.post1\n",
       "smmap                       4.0.0\n",
       "sniffio                     1.3.1\n",
       "socks                       1.7.1\n",
       "stack_data                  0.6.2\n",
       "stdlib_list                 0.10.0\n",
       "sympy                       1.12\n",
       "tblib                       1.7.0\n",
       "texttable                   1.7.0\n",
       "threadpoolctl               3.4.0\n",
       "tlz                         0.12.2\n",
       "toolz                       0.12.0\n",
       "torchgen                    NA\n",
       "torchmetrics                1.3.2\n",
       "tornado                     6.4\n",
       "tqdm                        4.65.0\n",
       "traitlets                   5.14.2\n",
       "typing_extensions           NA\n",
       "unicodedata2                NA\n",
       "uri_template                NA\n",
       "urllib3                     2.1.0\n",
       "wandb_gql                   NA\n",
       "wandb_graphql               1.1\n",
       "wandb_promise               2.3\n",
       "wandb_watchdog              NA\n",
       "wcwidth                     0.2.13\n",
       "webcolors                   1.13\n",
       "websocket                   1.7.0\n",
       "yaml                        6.0.1\n",
       "zipp                        NA\n",
       "zmq                         25.1.2\n",
       "zoneinfo                    NA\n",
       "zstandard                   0.19.0\n",
       "</pre>\n",
       "</details> <!-- seems like this ends pre, so might as well be explicit -->\n",
       "<pre>\n",
       "-----\n",
       "IPython             8.18.1\n",
       "jupyter_client      8.6.1\n",
       "jupyter_core        5.7.2\n",
       "jupyterlab          4.1.6\n",
       "-----\n",
       "Python 3.9.19 (main, Mar 21 2024, 17:11:28) [GCC 11.2.0]\n",
       "Linux-6.8.0-40-generic-x86_64-with-glibc2.35\n",
       "-----\n",
       "Session information updated at 2024-10-16 10:15\n",
       "</pre>\n",
       "</details>"
      ],
      "text/plain": [
       "<IPython.core.display.HTML object>"
      ]
     },
     "execution_count": 21,
     "metadata": {},
     "output_type": "execute_result"
    }
   ],
   "source": [
    "session_info.show(excludes=['google3'],)"
   ]
  },
  {
   "cell_type": "code",
   "execution_count": null,
   "id": "4f180a9e-30d9-48db-8ea1-a57b19b780b5",
   "metadata": {},
   "outputs": [],
   "source": []
  }
 ],
 "metadata": {
  "kernelspec": {
   "display_name": "Python 3 (ipykernel)",
   "language": "python",
   "name": "python3"
  },
  "language_info": {
   "codemirror_mode": {
    "name": "ipython",
    "version": 3
   },
   "file_extension": ".py",
   "mimetype": "text/x-python",
   "name": "python",
   "nbconvert_exporter": "python",
   "pygments_lexer": "ipython3",
   "version": "3.10.13"
  }
 },
 "nbformat": 4,
 "nbformat_minor": 5
}
