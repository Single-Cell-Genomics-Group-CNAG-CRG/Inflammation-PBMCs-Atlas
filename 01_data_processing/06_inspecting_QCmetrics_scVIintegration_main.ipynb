{
 "cells": [
  {
   "cell_type": "code",
   "execution_count": 1,
   "id": "a777116d-1ed9-445f-8f8a-c135428ae603",
   "metadata": {
    "execution": {
     "iopub.execute_input": "2024-06-21T15:42:48.716648Z",
     "iopub.status.busy": "2024-06-21T15:42:48.716491Z",
     "iopub.status.idle": "2024-06-21T15:42:52.692317Z",
     "shell.execute_reply": "2024-06-21T15:42:52.691798Z",
     "shell.execute_reply.started": "2024-06-21T15:42:48.716628Z"
    },
    "papermill": {
     "duration": 7.843193,
     "end_time": "2024-04-27T13:51:42.773981",
     "exception": false,
     "start_time": "2024-04-27T13:51:34.930788",
     "status": "completed"
    },
    "tags": []
   },
   "outputs": [
    {
     "name": "stdout",
     "output_type": "stream",
     "text": [
      "Main directory path: /scratch_isilon/groups/singlecell/shared/projects/Inflammation-PBMCs-Atlas-R1\n"
     ]
    }
   ],
   "source": [
    "# General modules\n",
    "import sys\n",
    "import os\n",
    "import session_info\n",
    "import warnings\n",
    "from pyprojroot.here import here\n",
    "import glob\n",
    "import pandas as pd\n",
    "import numpy as np\n",
    "import seaborn as sns\n",
    "import matplotlib.pyplot as plt\n",
    "import scienceplots\n",
    "from sklearn.neighbors import NearestNeighbors\n",
    "from typing import Iterable\n",
    "\n",
    "# Specific modules\n",
    "import scanpy as sc\n",
    "import scanpy.external as sce\n",
    "import anndata as ad\n",
    "# from harmonypy import lisi\n",
    "\n",
    "# Setting some parameters\n",
    "warnings.filterwarnings(\"ignore\")\n",
    "sys.path.insert(1, str(here('bin')))\n",
    "\n",
    "# Import custom functions\n",
    "from customPythonFunctions import cumulative_explained_variance, balanced_sample, generateID2SymbolDF\n",
    "\n",
    "print(\"Main directory path: {}\".format(here()))\n",
    "\n",
    "#plt.style.use(['science','nature','no-latex'])\n",
    "dpi_fig_save = 300\n",
    "sc.set_figure_params(dpi=100, dpi_save=dpi_fig_save, vector_friendly=True)\n",
    "\n",
    "overwriteFigures = True\n",
    "overwriteData = True"
   ]
  },
  {
   "cell_type": "raw",
   "id": "a925caf2-4311-404c-b2e2-637880a60bc1",
   "metadata": {
    "execution": {
     "iopub.execute_input": "2024-03-25T16:00:33.491938Z",
     "iopub.status.busy": "2024-03-25T16:00:33.491481Z",
     "iopub.status.idle": "2024-03-25T16:00:33.496621Z",
     "shell.execute_reply": "2024-03-25T16:00:33.496247Z",
     "shell.execute_reply.started": "2024-03-25T16:00:33.491914Z"
    },
    "papermill": {
     "duration": 0.006256,
     "end_time": "2024-04-27T13:51:42.788578",
     "exception": false,
     "start_time": "2024-04-27T13:51:42.782322",
     "status": "completed"
    },
    "tags": []
   },
   "source": [
    "def balanced_sample(df, cols = None, n = None, frac = None, shuffle = False, random_state = 42):\n",
    "\n",
    "    import pandas as pd\n",
    "\n",
    "    if not ((n is None) != (frac is None)): \n",
    "        print(\"Error: please specify n or frac, not both\")\n",
    "        return None\n",
    "        \n",
    "    # Group by the columns and apply the sample function\n",
    "\n",
    "    if cols is None:\n",
    "        df_sampled = df.apply(lambda x: x.sample(n = n, frac=frac, replace = False, random_state=random_state))\n",
    "    else:\n",
    "        df_sampled = df.groupby(cols, observed=True).apply(lambda x: x.sample(n = n, frac=frac, replace = False, random_state=random_state))\n",
    "\n",
    "    df_sampled = df_sampled.drop(cols, axis=1, errors='ignore').reset_index()\n",
    "\n",
    "    if shuffle:\n",
    "        return df_sampled.sample(frac=1, random_state=random_state)\n",
    "    else:\n",
    "        return df_sampled"
   ]
  },
  {
   "cell_type": "markdown",
   "id": "68a0700e-40a3-44b7-be29-66756a5ceb2a",
   "metadata": {
    "execution": {
     "iopub.execute_input": "2023-08-20T20:33:34.702283Z",
     "iopub.status.busy": "2023-08-20T20:33:34.702014Z",
     "iopub.status.idle": "2023-08-20T20:33:35.072534Z",
     "shell.execute_reply": "2023-08-20T20:33:35.071932Z",
     "shell.execute_reply.started": "2023-08-20T20:33:34.702266Z"
    },
    "papermill": {
     "duration": 0.006406,
     "end_time": "2024-04-27T13:51:42.801213",
     "exception": false,
     "start_time": "2024-04-27T13:51:42.794807",
     "status": "completed"
    },
    "tags": []
   },
   "source": [
    "**Loading the restored object**"
   ]
  },
  {
   "cell_type": "code",
   "execution_count": null,
   "id": "dbc06e07-16f7-429c-b160-f134de38842c",
   "metadata": {
    "execution": {
     "execution_failed": "2024-06-21T15:53:14.575Z",
     "iopub.execute_input": "2024-06-21T15:42:52.693314Z",
     "iopub.status.busy": "2024-06-21T15:42:52.692962Z"
    },
    "papermill": {
     "duration": 626.130195,
     "end_time": "2024-04-27T14:02:08.937663",
     "exception": false,
     "start_time": "2024-04-27T13:51:42.807468",
     "status": "completed"
    },
    "tags": []
   },
   "outputs": [],
   "source": [
    "adata = sc.read_h5ad(here(\"01_data_processing/results/05_INFLAMMATION_main_HVGsubset_scVI_UMAP_clinical_allGenes.h5ad\"))\n",
    "adata"
   ]
  },
  {
   "cell_type": "markdown",
   "id": "062c83b3-de44-475d-8bd8-1990b3b905f4",
   "metadata": {
    "papermill": {
     "duration": 0.00625,
     "end_time": "2024-04-27T14:02:08.950431",
     "exception": false,
     "start_time": "2024-04-27T14:02:08.944181",
     "status": "completed"
    },
    "tags": []
   },
   "source": [
    "# Inspecting quality control metrics\n",
    "\n",
    "After running PCA and UMAP dimensionality reduction, it is important to assess some quality control metrics to identify potential batch-effects as well as low-quality cells that have not been removed on the first permissive quality control step.\n",
    "\n",
    "However, working with such a large number of projects, libraries, patients, technologies, sequencing facilities, technitians, there will be a clear batch-effect associated to the data. The idea is to identify the main source of batch-effect, so we can correct it by integrating the data with the gold-standard methods of the field.\n",
    "\n",
    "For this reason, we will need to load and merge the **patient metadata** that we stored in an external file, with the current `adata` object."
   ]
  },
  {
   "cell_type": "markdown",
   "id": "3f43d15c-d687-49b8-92c0-e1511c85ce05",
   "metadata": {
    "papermill": {
     "duration": 0.006136,
     "end_time": "2024-04-27T14:02:08.962888",
     "exception": false,
     "start_time": "2024-04-27T14:02:08.956752",
     "status": "completed"
    },
    "tags": []
   },
   "source": [
    "## Before integration"
   ]
  },
  {
   "cell_type": "code",
   "execution_count": null,
   "id": "8d489cea-ffa9-4b91-8a37-32841325c7b5",
   "metadata": {
    "execution": {
     "execution_failed": "2024-06-21T15:53:14.584Z"
    },
    "papermill": {
     "duration": 0.010381,
     "end_time": "2024-04-27T14:02:08.979502",
     "exception": false,
     "start_time": "2024-04-27T14:02:08.969121",
     "status": "completed"
    },
    "tags": []
   },
   "outputs": [],
   "source": [
    "### To reduce the computational time, we are plotting only 10% of cells"
   ]
  },
  {
   "cell_type": "code",
   "execution_count": null,
   "id": "2c21345c-140b-40d4-99c4-44a1e1f54c6b",
   "metadata": {
    "execution": {
     "execution_failed": "2024-06-21T15:53:14.585Z"
    },
    "papermill": {
     "duration": 3.731074,
     "end_time": "2024-04-27T14:02:12.716887",
     "exception": false,
     "start_time": "2024-04-27T14:02:08.985813",
     "status": "completed"
    },
    "tags": []
   },
   "outputs": [],
   "source": [
    "SScells = balanced_sample(adata.obs, cols = ['sampleID'], n = None, frac = 0.1, shuffle = True, random_state = 42)['cellID']"
   ]
  },
  {
   "cell_type": "code",
   "execution_count": null,
   "id": "470e7447-da7e-4381-9fb2-0a1eedf7a682",
   "metadata": {
    "execution": {
     "execution_failed": "2024-06-21T15:53:14.586Z"
    },
    "papermill": {
     "duration": 11.509485,
     "end_time": "2024-04-27T14:02:24.235307",
     "exception": false,
     "start_time": "2024-04-27T14:02:12.725822",
     "status": "completed"
    },
    "tags": []
   },
   "outputs": [],
   "source": [
    "adataSS = adata[SScells].copy()"
   ]
  },
  {
   "cell_type": "code",
   "execution_count": null,
   "id": "a2fbbe5a-5967-4a33-a028-c916ef1095ac",
   "metadata": {
    "execution": {
     "execution_failed": "2024-06-21T15:53:14.586Z"
    },
    "papermill": {
     "duration": 0.010421,
     "end_time": "2024-04-27T14:02:24.253406",
     "exception": false,
     "start_time": "2024-04-27T14:02:24.242985",
     "status": "completed"
    },
    "tags": []
   },
   "outputs": [],
   "source": [
    "del adata"
   ]
  },
  {
   "cell_type": "markdown",
   "id": "f4f41d28-4bf0-4cd5-a25c-55232c8a0e80",
   "metadata": {
    "papermill": {
     "duration": 0.006197,
     "end_time": "2024-04-27T14:02:24.265958",
     "exception": false,
     "start_time": "2024-04-27T14:02:24.259761",
     "status": "completed"
    },
    "tags": []
   },
   "source": [
    "### Technical confounding factors"
   ]
  },
  {
   "cell_type": "code",
   "execution_count": null,
   "id": "afef2b11-5f2c-40b3-a12a-003d62fce398",
   "metadata": {
    "execution": {
     "execution_failed": "2024-06-21T15:53:14.587Z"
    },
    "papermill": {
     "duration": 62.78529,
     "end_time": "2024-04-27T14:03:27.057403",
     "exception": false,
     "start_time": "2024-04-27T14:02:24.272113",
     "status": "completed"
    },
    "tags": []
   },
   "outputs": [],
   "source": [
    "fig = sc.pl.embedding(adataSS, basis = 'X_umap',  \n",
    "                 color=['studyID', 'chemistry', 'technology',\n",
    "                        'total_counts', 'n_genes_by_counts', \n",
    "                        'pct_counts_mt', 'pct_counts_ribo', 'pct_counts_hb', 'pct_counts_plt',\n",
    "                       'doublet_score'], \n",
    "                 wspace = 0.4, ncols = 4, return_fig=True)\n",
    "\n",
    "if overwriteFigures:\n",
    "    plt.savefig(here('01_data_processing/figures/06_UMAP_technicalFactors_unintegrated.pdf'), bbox_inches='tight', pad_inches=0, dpi=dpi_fig_save)"
   ]
  },
  {
   "cell_type": "markdown",
   "id": "cfb53ea9-9c02-49e4-830f-0994e7d5e028",
   "metadata": {
    "papermill": {
     "duration": 0.060627,
     "end_time": "2024-04-27T14:03:27.178908",
     "exception": false,
     "start_time": "2024-04-27T14:03:27.118281",
     "status": "completed"
    },
    "tags": []
   },
   "source": [
    "### Clinical covariates"
   ]
  },
  {
   "cell_type": "code",
   "execution_count": null,
   "id": "d3e4beb5-ed14-449d-9ddd-3fe1a5cdad8b",
   "metadata": {
    "execution": {
     "execution_failed": "2024-06-21T15:53:14.587Z"
    },
    "papermill": {
     "duration": 39.26194,
     "end_time": "2024-04-27T14:04:06.502752",
     "exception": false,
     "start_time": "2024-04-27T14:03:27.240812",
     "status": "completed"
    },
    "tags": []
   },
   "outputs": [],
   "source": [
    "fig = sc.pl.embedding(adataSS, basis = 'X_umap', \n",
    "                 color=['sex','binned_age', 'disease',\n",
    "                       \"ethnicity\", \"smokingStatus\", \"therapyResponse\"], \n",
    "                 wspace = 0.4, ncols = 3, return_fig=True)\n",
    "\n",
    "if overwriteFigures:\n",
    "    plt.savefig(here('01_data_processing/figures/06_UMAP_clinicalFactors_unintegrated.pdf'), bbox_inches='tight', pad_inches=0, dpi=dpi_fig_save)"
   ]
  },
  {
   "cell_type": "markdown",
   "id": "965923b8-956d-430a-a802-771f68d62abf",
   "metadata": {
    "papermill": {
     "duration": 0.094011,
     "end_time": "2024-04-27T14:04:06.695701",
     "exception": false,
     "start_time": "2024-04-27T14:04:06.601690",
     "status": "completed"
    },
    "tags": []
   },
   "source": [
    "### Cell cycling score"
   ]
  },
  {
   "cell_type": "code",
   "execution_count": null,
   "id": "5bb2ca6a-4125-40e1-af7a-b2fdaa52d478",
   "metadata": {
    "execution": {
     "execution_failed": "2024-06-21T15:53:14.588Z"
    },
    "papermill": {
     "duration": 18.326767,
     "end_time": "2024-04-27T14:04:25.118669",
     "exception": false,
     "start_time": "2024-04-27T14:04:06.791902",
     "status": "completed"
    },
    "tags": []
   },
   "outputs": [],
   "source": [
    "fig = sc.pl.embedding(adataSS, basis = 'X_umap', \n",
    "                 ncols=3, color=['S_score', 'G2M_score', 'phase'], wspace = 0.4, return_fig=True)\n",
    "\n",
    "if overwriteFigures:\n",
    "    plt.savefig(here('01_data_processing/figures/06_UMAP_cellcyclingScore_unintegrated.pdf'), bbox_inches='tight', pad_inches=0, dpi=dpi_fig_save)"
   ]
  },
  {
   "cell_type": "markdown",
   "id": "9d08ff20-8ced-4758-b27b-1ed747650332",
   "metadata": {
    "papermill": {
     "duration": 0.112285,
     "end_time": "2024-04-27T14:04:25.348844",
     "exception": false,
     "start_time": "2024-04-27T14:04:25.236559",
     "status": "completed"
    },
    "tags": []
   },
   "source": [
    "### Expression of main gene markers"
   ]
  },
  {
   "cell_type": "code",
   "execution_count": null,
   "id": "5c3e772d-9a0b-4b27-8e6d-2fbd547c9afe",
   "metadata": {
    "execution": {
     "execution_failed": "2024-06-21T15:53:14.588Z"
    },
    "papermill": {
     "duration": 165.759025,
     "end_time": "2024-04-27T14:07:11.221753",
     "exception": false,
     "start_time": "2024-04-27T14:04:25.462728",
     "status": "completed"
    },
    "tags": []
   },
   "outputs": [],
   "source": [
    "geneList = ['PTPRC', # immune cells\n",
    "                        'CD3D', 'CD4', 'FOXP3', 'SELL', 'IRF7', 'KLRG1','CD8A', 'NKG7', # T cells\n",
    "                        'KLRD1', # NK cells\n",
    "                        'CD79A', 'MS4A1', 'JCHAIN', # B + Plasma cells\n",
    "                        'LYZ', 'CD14', 'FCGR3A', 'PLAC8', # Monocytes + (Macro)\n",
    "                        'CLEC9A', 'FTL', \n",
    "                        'CLEC10A', 'GZMB', # DCs\n",
    "                        'S100A9', # Neutros?\n",
    "                        'CD34', # HSCs\n",
    "                        'PPBP' # Platelets\n",
    "           ]\n",
    "ID2symDF = generateID2SymbolDF(varDF = adataSS.var, symbolList = geneList, behaviour = 'all')\n",
    "fig = sc.pl.embedding(adataSS, basis = 'X_umap', \n",
    "                 color= ID2symDF.gene_id.tolist(), title = ID2symDF.symbol.tolist(),\n",
    "                 wspace = 0.4, sort_order=True, ncols=4, return_fig=True, use_raw=False)\n",
    "\n",
    "if overwriteFigures:\n",
    "    plt.savefig(here('01_data_processing/figures/06_UMAP_immuneMarkergenes_unintegrated.pdf'), bbox_inches='tight', pad_inches=0, dpi=dpi_fig_save)"
   ]
  },
  {
   "cell_type": "markdown",
   "id": "30b7b7ba-10b8-42fe-9816-a61b8df2a57b",
   "metadata": {
    "papermill": {
     "duration": 0.239235,
     "end_time": "2024-04-27T14:07:11.704237",
     "exception": false,
     "start_time": "2024-04-27T14:07:11.465002",
     "status": "completed"
    },
    "tags": []
   },
   "source": [
    "As we have already anticipated, cells do not cluster based on their transcriptomic profile, because of the presence of batch-effect associated to their library of origin / patient (dataset source). For this reason, we will be integrating the datasets considering the main variable carrying the batch-effect."
   ]
  },
  {
   "cell_type": "markdown",
   "id": "1b41916c-1b0d-431d-b111-e84e8227e955",
   "metadata": {
    "papermill": {
     "duration": 0.434015,
     "end_time": "2024-04-27T14:07:12.383359",
     "exception": false,
     "start_time": "2024-04-27T14:07:11.949344",
     "status": "completed"
    },
    "tags": []
   },
   "source": [
    "# After integration\n",
    "\n",
    "After performing data integration with Harmony, it is important to evaluate the integration step to ensure the batch-effect have been removed, and the biological variance has been preserved. Here, we visually inspect again some quality control metrics."
   ]
  },
  {
   "cell_type": "markdown",
   "id": "d821a346-e91c-4151-afde-a5ce9003b3f7",
   "metadata": {
    "papermill": {
     "duration": 0.264026,
     "end_time": "2024-04-27T14:07:13.042016",
     "exception": false,
     "start_time": "2024-04-27T14:07:12.777990",
     "status": "completed"
    },
    "tags": []
   },
   "source": [
    "### Technical confounding factors"
   ]
  },
  {
   "cell_type": "code",
   "execution_count": null,
   "id": "86d540fd-396b-43cd-9776-043f1543788d",
   "metadata": {
    "execution": {
     "execution_failed": "2024-06-21T15:53:14.588Z"
    },
    "papermill": {
     "duration": 62.737584,
     "end_time": "2024-04-27T14:08:16.023619",
     "exception": false,
     "start_time": "2024-04-27T14:07:13.286035",
     "status": "completed"
    },
    "tags": []
   },
   "outputs": [],
   "source": [
    "fig = sc.pl.embedding(adataSS, basis = 'X_umap_scVI',  \n",
    "                 color=['studyID', 'chemistry', 'technology',\n",
    "                        'total_counts', 'n_genes_by_counts', \n",
    "                        'pct_counts_mt', 'pct_counts_ribo', 'pct_counts_hb', 'pct_counts_plt',\n",
    "                       'doublet_score'], \n",
    "                      wspace = 0.4, ncols = 4, return_fig=True)\n",
    "\n",
    "\n",
    "if overwriteFigures:\n",
    "    plt.savefig(here('01_data_processing/figures/06_UMAP_technicalFactors_scVI.pdf'), bbox_inches='tight', pad_inches=0, dpi=dpi_fig_save)"
   ]
  },
  {
   "cell_type": "markdown",
   "id": "95b2e024-f222-4e82-a246-407da38734f5",
   "metadata": {
    "papermill": {
     "duration": 0.291034,
     "end_time": "2024-04-27T14:08:16.600736",
     "exception": false,
     "start_time": "2024-04-27T14:08:16.309702",
     "status": "completed"
    },
    "tags": []
   },
   "source": [
    "### Clinical covariates"
   ]
  },
  {
   "cell_type": "code",
   "execution_count": null,
   "id": "9fbcd9c7-44f9-4c69-a840-8f36a041e8a2",
   "metadata": {
    "execution": {
     "execution_failed": "2024-06-21T15:53:14.589Z"
    },
    "papermill": {
     "duration": 39.864678,
     "end_time": "2024-04-27T14:08:56.754312",
     "exception": false,
     "start_time": "2024-04-27T14:08:16.889634",
     "status": "completed"
    },
    "tags": []
   },
   "outputs": [],
   "source": [
    "fig = sc.pl.embedding(adataSS, basis = 'X_umap_scVI', \n",
    "                 color=['sex','binned_age', 'disease',\n",
    "                       \"ethnicity\", \"smokingStatus\", \"therapyResponse\"], \n",
    "                 wspace = 0.4, ncols = 3, return_fig=True)\n",
    "\n",
    "if overwriteFigures:\n",
    "    plt.savefig(here('01_data_processing/figures/06_UMAP_clinicalFactors_scVI.pdf'), bbox_inches='tight', pad_inches=0, dpi=dpi_fig_save)"
   ]
  },
  {
   "cell_type": "markdown",
   "id": "da4e6305-7f89-4d6d-9bc3-9bd9f3f8d954",
   "metadata": {
    "papermill": {
     "duration": 0.314592,
     "end_time": "2024-04-27T14:08:57.392829",
     "exception": false,
     "start_time": "2024-04-27T14:08:57.078237",
     "status": "completed"
    },
    "tags": []
   },
   "source": [
    "### Cell cycling score"
   ]
  },
  {
   "cell_type": "code",
   "execution_count": null,
   "id": "79e36e19-8114-49f6-8105-344a78bdc5ac",
   "metadata": {
    "execution": {
     "execution_failed": "2024-06-21T15:53:14.589Z"
    },
    "papermill": {
     "duration": 18.600518,
     "end_time": "2024-04-27T14:09:16.311746",
     "exception": false,
     "start_time": "2024-04-27T14:08:57.711228",
     "status": "completed"
    },
    "tags": []
   },
   "outputs": [],
   "source": [
    "fig = sc.pl.embedding(adataSS, basis = 'X_umap_scVI', \n",
    "                 ncols=3, color=['S_score', 'G2M_score', 'phase'], wspace = 0.4, return_fig=True)\n",
    "\n",
    "if overwriteFigures:\n",
    "    plt.savefig(here('01_data_processing/figures/06_UMAP_cellcyclingScore_scVI.pdf'), bbox_inches='tight', pad_inches=0, dpi=dpi_fig_save)"
   ]
  },
  {
   "cell_type": "markdown",
   "id": "8036ccf0-eb8b-4b76-aea7-044aa8dc2669",
   "metadata": {
    "papermill": {
     "duration": 0.328182,
     "end_time": "2024-04-27T14:09:16.981164",
     "exception": false,
     "start_time": "2024-04-27T14:09:16.652982",
     "status": "completed"
    },
    "tags": []
   },
   "source": [
    "### Expression of main gene markers"
   ]
  },
  {
   "cell_type": "code",
   "execution_count": null,
   "id": "314e72e5-96b8-4014-9560-3230a1c2d334",
   "metadata": {
    "execution": {
     "execution_failed": "2024-06-21T15:53:14.589Z"
    },
    "papermill": {
     "duration": 166.192839,
     "end_time": "2024-04-27T14:12:03.510120",
     "exception": false,
     "start_time": "2024-04-27T14:09:17.317281",
     "status": "completed"
    },
    "tags": []
   },
   "outputs": [],
   "source": [
    "geneList = ['PTPRC', # immune cells\n",
    "                        'CD3D', 'CD4', 'FOXP3', 'SELL', 'IRF7', 'KLRG1','CD8A', 'NKG7', # T cells\n",
    "                        'KLRD1', # NK cells\n",
    "                        'CD79A', 'MS4A1', 'JCHAIN', # B + Plasma cells\n",
    "                        'LYZ', 'CD14', 'FCGR3A', 'PLAC8', # Monocytes + (Macro)\n",
    "                        'CLEC9A', 'FTL', \n",
    "                        'CLEC10A', 'GZMB', # DCs\n",
    "                        'S100A9', # Neutros?\n",
    "                        'CD34', # HSCs\n",
    "                        'PPBP'\n",
    "           ]\n",
    "ID2symDF = generateID2SymbolDF(varDF = adataSS.var, symbolList = geneList, behaviour = 'all')\n",
    "\n",
    "fig = sc.pl.embedding(adataSS, basis = 'X_umap_scVI', \n",
    "                color= ID2symDF.gene_id.tolist(), title = ID2symDF.symbol.tolist(),\n",
    "                 wspace = 0.4, sort_order=True, ncols=4, return_fig=True, use_raw=False)\n",
    "\n",
    "if overwriteFigures:\n",
    "    plt.savefig(here('01_data_processing/figures/06_UMAP_immuneMarkergenes_scVI.pdf'), bbox_inches='tight', pad_inches=0, dpi=dpi_fig_save)"
   ]
  },
  {
   "cell_type": "markdown",
   "id": "11db51b4-1489-4d3f-9f2e-f84873eba90b",
   "metadata": {
    "papermill": {
     "duration": 0.480926,
     "end_time": "2024-04-27T14:12:04.422427",
     "exception": false,
     "start_time": "2024-04-27T14:12:03.941501",
     "status": "completed"
    },
    "tags": []
   },
   "source": [
    "Now, after data integration, cells do cluster based on their transcriptomic profile rather than by their library of origin / patient (dataset source). Therefore, data integration worked successfully and allowed us to remove batch-effects associated to unwanted sources of variance. At this point, we can move on with the clustering and cell annotation steps."
   ]
  },
  {
   "cell_type": "code",
   "execution_count": null,
   "id": "d5d14d10-2053-400a-a6d6-4ed89a8350f5",
   "metadata": {
    "execution": {
     "execution_failed": "2024-06-21T15:53:14.590Z"
    },
    "papermill": {
     "duration": 1.049216,
     "end_time": "2024-04-27T14:12:05.949153",
     "exception": false,
     "start_time": "2024-04-27T14:12:04.899937",
     "status": "completed"
    },
    "tags": []
   },
   "outputs": [],
   "source": [
    "session_info.show()"
   ]
  },
  {
   "cell_type": "code",
   "execution_count": null,
   "id": "b869ffe9-c747-44bb-a297-acc3d7895e6e",
   "metadata": {
    "papermill": {
     "duration": 0.443039,
     "end_time": "2024-04-27T14:12:06.831180",
     "exception": false,
     "start_time": "2024-04-27T14:12:06.388141",
     "status": "completed"
    },
    "tags": []
   },
   "outputs": [],
   "source": []
  }
 ],
 "metadata": {
  "kernelspec": {
   "display_name": "Python 3 (ipykernel)",
   "language": "python",
   "name": "python3"
  },
  "language_info": {
   "codemirror_mode": {
    "name": "ipython",
    "version": 3
   },
   "file_extension": ".py",
   "mimetype": "text/x-python",
   "name": "python",
   "nbconvert_exporter": "python",
   "pygments_lexer": "ipython3",
   "version": "3.10.13"
  },
  "papermill": {
   "default_parameters": {},
   "duration": 1237.922277,
   "end_time": "2024-04-27T14:12:10.002462",
   "environment_variables": {},
   "exception": null,
   "input_path": "06_inspecting_QCmetrics_scVIintegration.ipynb",
   "output_path": "06_inspecting_QCmetrics_scVIintegration.ipynb",
   "parameters": {},
   "start_time": "2024-04-27T13:51:32.080185",
   "version": "2.5.0"
  }
 },
 "nbformat": 4,
 "nbformat_minor": 5
}
