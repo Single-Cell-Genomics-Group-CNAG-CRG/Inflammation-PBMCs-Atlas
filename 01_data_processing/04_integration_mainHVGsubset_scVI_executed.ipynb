{
 "cells": [
  {
   "cell_type": "code",
   "execution_count": 1,
   "id": "1441cd8b-0008-45c5-9858-1c6662d99eae",
   "metadata": {
    "execution": {
     "iopub.execute_input": "2024-04-26T22:49:11.948072Z",
     "iopub.status.busy": "2024-04-26T22:49:11.947405Z",
     "iopub.status.idle": "2024-04-26T22:49:17.051601Z",
     "shell.execute_reply": "2024-04-26T22:49:17.050718Z"
    },
    "papermill": {
     "duration": 5.111633,
     "end_time": "2024-04-26T22:49:17.053900",
     "exception": false,
     "start_time": "2024-04-26T22:49:11.942267",
     "status": "completed"
    },
    "tags": []
   },
   "outputs": [],
   "source": [
    "import os\n",
    "import sys\n",
    "\n",
    "import numpy as np\n",
    "import matplotlib.pyplot as plt\n",
    "\n",
    "import scanpy as sc\n",
    "import scvi\n",
    "import torch\n",
    "\n",
    "from pytorch_lightning.loggers import WandbLogger\n",
    "\n",
    "import wandb\n",
    "\n",
    "import session_info\n",
    "import warnings\n",
    "from pyprojroot.here import here\n",
    "\n",
    "from dotenv import load_dotenv\n",
    "\n",
    "sys.path.insert(1, str(here('bin')))\n",
    "\n",
    "torch.set_float32_matmul_precision('high')\n",
    "\n",
    "#plt.style.use(['science','nature','no-latex'])\n",
    "dpi_fig_save = 300\n",
    "sc.set_figure_params(dpi=100, dpi_save=dpi_fig_save, vector_friendly=True)\n",
    "\n",
    "# Setting some parameters\n",
    "warnings.filterwarnings(\"ignore\")\n",
    "\n",
    "overwriteData = True\n",
    "overwriteFigures = True"
   ]
  },
  {
   "cell_type": "code",
   "execution_count": 2,
   "id": "d08dcb90-b54c-42cc-adff-84ffacaa72f7",
   "metadata": {
    "execution": {
     "iopub.execute_input": "2024-04-26T22:49:17.063607Z",
     "iopub.status.busy": "2024-04-26T22:49:17.063308Z",
     "iopub.status.idle": "2024-04-26T22:49:17.072229Z",
     "shell.execute_reply": "2024-04-26T22:49:17.071663Z"
    },
    "papermill": {
     "duration": 0.016441,
     "end_time": "2024-04-26T22:49:17.073789",
     "exception": false,
     "start_time": "2024-04-26T22:49:17.057348",
     "status": "completed"
    },
    "tags": []
   },
   "outputs": [],
   "source": [
    "assert load_dotenv(here('.env'))"
   ]
  },
  {
   "cell_type": "code",
   "execution_count": 3,
   "id": "b301f4aa-ed1e-42c9-ac66-6191bad7b9dc",
   "metadata": {
    "execution": {
     "iopub.execute_input": "2024-04-26T22:49:17.080655Z",
     "iopub.status.busy": "2024-04-26T22:49:17.080362Z",
     "iopub.status.idle": "2024-04-26T22:49:17.084241Z",
     "shell.execute_reply": "2024-04-26T22:49:17.083680Z"
    },
    "papermill": {
     "duration": 0.009086,
     "end_time": "2024-04-26T22:49:17.085659",
     "exception": false,
     "start_time": "2024-04-26T22:49:17.076573",
     "status": "completed"
    },
    "tags": []
   },
   "outputs": [],
   "source": [
    "class CustomWandbLogger(WandbLogger):\n",
    "    @property\n",
    "    def save_dir(self):\n",
    "        \"\"\"Gets the save directory.\n",
    "\n",
    "        Returns:\n",
    "            The path to the save directory.\n",
    "\n",
    "        \"\"\"\n",
    "        return self.experiment.dir"
   ]
  },
  {
   "cell_type": "code",
   "execution_count": 4,
   "id": "a75d1e05-2b66-4dd3-bd4b-c2436f2b5a3b",
   "metadata": {
    "execution": {
     "iopub.execute_input": "2024-04-26T22:49:17.092769Z",
     "iopub.status.busy": "2024-04-26T22:49:17.092518Z",
     "iopub.status.idle": "2024-04-26T22:49:17.098440Z",
     "shell.execute_reply": "2024-04-26T22:49:17.097805Z"
    },
    "papermill": {
     "duration": 0.011517,
     "end_time": "2024-04-26T22:49:17.099974",
     "exception": false,
     "start_time": "2024-04-26T22:49:17.088457",
     "status": "completed"
    },
    "tags": []
   },
   "outputs": [
    {
     "name": "stderr",
     "output_type": "stream",
     "text": [
      "Seed set to 0\n"
     ]
    },
    {
     "name": "stdout",
     "output_type": "stream",
     "text": [
      "Last run with scvi-tools version: 1.1.2\n"
     ]
    }
   ],
   "source": [
    "scvi.settings.seed = 0\n",
    "print(\"Last run with scvi-tools version:\", scvi.__version__)"
   ]
  },
  {
   "cell_type": "markdown",
   "id": "fdc7d083-ff5e-4620-a2f2-db4df1df7a36",
   "metadata": {
    "papermill": {
     "duration": 0.002912,
     "end_time": "2024-04-26T22:49:17.105998",
     "exception": false,
     "start_time": "2024-04-26T22:49:17.103086",
     "status": "completed"
    },
    "tags": []
   },
   "source": [
    "**Load data**"
   ]
  },
  {
   "cell_type": "code",
   "execution_count": 5,
   "id": "941bc7fc-6767-4ac7-91da-4b22b664a133",
   "metadata": {
    "execution": {
     "iopub.execute_input": "2024-04-26T22:49:17.113517Z",
     "iopub.status.busy": "2024-04-26T22:49:17.113245Z",
     "iopub.status.idle": "2024-04-26T22:50:33.140979Z",
     "shell.execute_reply": "2024-04-26T22:50:33.140330Z"
    },
    "papermill": {
     "duration": 76.036945,
     "end_time": "2024-04-26T22:50:33.146034",
     "exception": false,
     "start_time": "2024-04-26T22:49:17.109089",
     "status": "completed"
    },
    "tags": []
   },
   "outputs": [
    {
     "data": {
      "text/plain": [
       "AnnData object with n_obs × n_vars = 4918140 × 3236 backed at '/home/jupyter/Inflammation-PBMCs-Atlas-R1/00_data_processing/04_scVI_integration/03_INFLAMMATION_main_normalized_HVGsubset.h5ad'\n",
       "    obs: 'studyID', 'libraryID', 'sampleID', 'chemistry', 'technology', 'patientID', 'disease', 'timepoint_replicate', 'treatmentStatus', 'therapyResponse', 'sex', 'age', 'BMI', 'binned_age', 'diseaseStatus', 'smokingStatus', 'ethnicity', 'institute', 'diseaseGroup', 'n_genes_by_counts', 'log1p_n_genes_by_counts', 'total_counts', 'log1p_total_counts', 'pct_counts_in_top_20_genes', 'total_counts_mt', 'log1p_total_counts_mt', 'pct_counts_mt', 'total_counts_ribo', 'log1p_total_counts_ribo', 'pct_counts_ribo', 'total_counts_hb', 'log1p_total_counts_hb', 'pct_counts_hb', 'total_counts_plt', 'log1p_total_counts_plt', 'pct_counts_plt', 'doublet_score', 'predicted_doublet', 'S_score', 'G2M_score', 'phase'\n",
       "    var: 'hgnc_id', 'symbol', 'locus_group', 'HUGO_status', 'mt', 'ribo', 'hb', 'plt', 'n_cells_by_counts', 'mean_counts', 'log1p_mean_counts', 'pct_dropout_by_counts', 'total_counts', 'log1p_total_counts', 'highly_variable'\n",
       "    uns: 'chemistry_colors', 'log1p'\n",
       "    layers: 'counts', 'log1p_10e4_counts'"
      ]
     },
     "execution_count": 5,
     "metadata": {},
     "output_type": "execute_result"
    }
   ],
   "source": [
    "# Load the h5ad file\n",
    "adata = sc.read_h5ad(here(\"00_data_processing/results/03_INFLAMMATION_main_normalized_HVGsubset.h5ad\"), backed='r')\n",
    "adata"
   ]
  },
  {
   "cell_type": "markdown",
   "id": "774330d8-5991-4ccd-a6a1-e8b45a8166fa",
   "metadata": {
    "editable": true,
    "papermill": {
     "duration": 0.003378,
     "end_time": "2024-04-26T22:50:33.152921",
     "exception": false,
     "start_time": "2024-04-26T22:50:33.149543",
     "status": "completed"
    },
    "slideshow": {
     "slide_type": ""
    },
    "tags": []
   },
   "source": [
    "## scVI integration"
   ]
  },
  {
   "cell_type": "markdown",
   "id": "26d0a39f-671d-4486-af63-e7a2588f11e9",
   "metadata": {
    "papermill": {
     "duration": 0.003192,
     "end_time": "2024-04-26T22:50:33.159292",
     "exception": false,
     "start_time": "2024-04-26T22:50:33.156100",
     "status": "completed"
    },
    "tags": []
   },
   "source": [
    "#### Parameters"
   ]
  },
  {
   "cell_type": "code",
   "execution_count": 6,
   "id": "6304d126-e185-4d61-9655-2321e80070f3",
   "metadata": {
    "editable": true,
    "execution": {
     "iopub.execute_input": "2024-04-26T22:50:33.166935Z",
     "iopub.status.busy": "2024-04-26T22:50:33.166616Z",
     "iopub.status.idle": "2024-04-26T22:50:33.172284Z",
     "shell.execute_reply": "2024-04-26T22:50:33.171667Z"
    },
    "papermill": {
     "duration": 0.01133,
     "end_time": "2024-04-26T22:50:33.173679",
     "exception": false,
     "start_time": "2024-04-26T22:50:33.162349",
     "status": "completed"
    },
    "slideshow": {
     "slide_type": ""
    },
    "tags": []
   },
   "outputs": [],
   "source": [
    "# https://docs.scvi-tools.org/en/stable/api/reference/scvi.train.Trainer.html#scvi.train.Trainer\n",
    "setup_kwargs = dict(\n",
    "    layer=\"counts\", \n",
    "    batch_key='libraryID', \n",
    "    categorical_covariate_keys = ['chemistry', 'studyID', 'disease', 'sampleID'],\n",
    "    labels_key = 'chemistry'    \n",
    ")\n",
    "\n",
    "scvi_kwargs = dict(n_hidden=512,\n",
    "                   n_latent=30,\n",
    "                   n_layers=2,\n",
    "                   gene_likelihood='nb',\n",
    "                   dispersion='gene-label')\n",
    "\n",
    "trainer_kwargs = dict(\n",
    "    checkpointing_monitor = 'elbo_validation',\n",
    "    early_stopping_monitor = 'reconstruction_loss_validation',\n",
    "    early_stopping_patience = 10,\n",
    "    early_stopping_min_delta=0.1,\n",
    "    early_stopping = True,\n",
    "    max_epochs = 1000,\n",
    "\n",
    "    #logger = # wandb\n",
    ")\n",
    "# https://docs.scvi-tools.org/en/stable/api/reference/scvi.train.TrainingPlan.html#scvi.train.TrainingPlan\n",
    "plan_kwargs = dict(\n",
    "    lr = 5e-4,\n",
    "    #reduce_lr_on_plateau = True\n",
    ")\n",
    "\n",
    "# https://docs.scvi-tools.org/en/stable/api/reference/scvi.module.VAE.html#scvi.module.VAE\n",
    "#vae = dict(\n",
    "#    use_layer_norm='both',\n",
    "#    use_batch_norm='none',\n",
    "#    encode_covariates=True,\n",
    "#    deeply_inject_covariates=False\n",
    "#)\n",
    "parameter_dict = setup_kwargs | scvi_kwargs | trainer_kwargs | plan_kwargs"
   ]
  },
  {
   "cell_type": "code",
   "execution_count": 7,
   "id": "7b786add-86bd-4167-bc44-269f235be420",
   "metadata": {
    "execution": {
     "iopub.execute_input": "2024-04-26T22:50:33.181726Z",
     "iopub.status.busy": "2024-04-26T22:50:33.181053Z",
     "iopub.status.idle": "2024-04-26T22:50:33.186158Z",
     "shell.execute_reply": "2024-04-26T22:50:33.185622Z"
    },
    "papermill": {
     "duration": 0.010981,
     "end_time": "2024-04-26T22:50:33.187761",
     "exception": false,
     "start_time": "2024-04-26T22:50:33.176780",
     "status": "completed"
    },
    "tags": []
   },
   "outputs": [
    {
     "data": {
      "text/plain": [
       "{'layer': 'counts',\n",
       " 'batch_key': 'libraryID',\n",
       " 'categorical_covariate_keys': ['chemistry', 'studyID', 'disease', 'sampleID'],\n",
       " 'labels_key': 'chemistry',\n",
       " 'n_hidden': 512,\n",
       " 'n_latent': 30,\n",
       " 'n_layers': 2,\n",
       " 'gene_likelihood': 'nb',\n",
       " 'dispersion': 'gene-label',\n",
       " 'checkpointing_monitor': 'elbo_validation',\n",
       " 'early_stopping_monitor': 'reconstruction_loss_validation',\n",
       " 'early_stopping_patience': 10,\n",
       " 'early_stopping_min_delta': 0.1,\n",
       " 'early_stopping': True,\n",
       " 'max_epochs': 1000,\n",
       " 'lr': 0.0005}"
      ]
     },
     "execution_count": 7,
     "metadata": {},
     "output_type": "execute_result"
    }
   ],
   "source": [
    "parameter_dict"
   ]
  },
  {
   "cell_type": "code",
   "execution_count": 8,
   "id": "212207a2-d8ef-4d9a-b0ef-40f1c483f040",
   "metadata": {
    "execution": {
     "iopub.execute_input": "2024-04-26T22:50:33.195815Z",
     "iopub.status.busy": "2024-04-26T22:50:33.195562Z",
     "iopub.status.idle": "2024-04-26T22:50:33.200027Z",
     "shell.execute_reply": "2024-04-26T22:50:33.199475Z"
    },
    "papermill": {
     "duration": 0.010194,
     "end_time": "2024-04-26T22:50:33.201521",
     "exception": false,
     "start_time": "2024-04-26T22:50:33.191327",
     "status": "completed"
    },
    "tags": []
   },
   "outputs": [
    {
     "data": {
      "text/plain": [
       "'Step00_COVchemistry_studyID_disease_sampleID'"
      ]
     },
     "execution_count": 8,
     "metadata": {},
     "output_type": "execute_result"
    }
   ],
   "source": [
    "run_name = f\"Step00_COV{'_'.join(parameter_dict['categorical_covariate_keys'])}\"\n",
    "run_name"
   ]
  },
  {
   "cell_type": "code",
   "execution_count": 9,
   "id": "7eea8e07-c5af-429f-af3e-33881b9f4c18",
   "metadata": {
    "editable": true,
    "execution": {
     "iopub.execute_input": "2024-04-26T22:50:33.209681Z",
     "iopub.status.busy": "2024-04-26T22:50:33.209444Z",
     "iopub.status.idle": "2024-04-26T22:50:33.212463Z",
     "shell.execute_reply": "2024-04-26T22:50:33.211934Z"
    },
    "papermill": {
     "duration": 0.009016,
     "end_time": "2024-04-26T22:50:33.213950",
     "exception": false,
     "start_time": "2024-04-26T22:50:33.204934",
     "status": "completed"
    },
    "slideshow": {
     "slide_type": ""
    },
    "tags": []
   },
   "outputs": [],
   "source": [
    "# https://docs.scvi-tools.org/en/stable/api/reference/scvi.model.SCVI.html#scvi.model.SCVI.train\n"
   ]
  },
  {
   "cell_type": "code",
   "execution_count": 10,
   "id": "b7dc9ed7-8f40-48c2-8b3a-f417610f4f9a",
   "metadata": {
    "editable": true,
    "execution": {
     "iopub.execute_input": "2024-04-26T22:50:33.221951Z",
     "iopub.status.busy": "2024-04-26T22:50:33.221706Z",
     "iopub.status.idle": "2024-04-26T22:50:34.382479Z",
     "shell.execute_reply": "2024-04-26T22:50:34.381740Z"
    },
    "papermill": {
     "duration": 1.167119,
     "end_time": "2024-04-26T22:50:34.384598",
     "exception": false,
     "start_time": "2024-04-26T22:50:33.217479",
     "status": "completed"
    },
    "slideshow": {
     "slide_type": ""
    },
    "tags": []
   },
   "outputs": [],
   "source": [
    "scvi.model.SCVI.setup_anndata(adata, \n",
    "                              **setup_kwargs)"
   ]
  },
  {
   "cell_type": "code",
   "execution_count": 11,
   "id": "0d61313e-cf92-429e-8bc0-585fbfeff708",
   "metadata": {
    "editable": true,
    "execution": {
     "iopub.execute_input": "2024-04-26T22:50:34.393528Z",
     "iopub.status.busy": "2024-04-26T22:50:34.393257Z",
     "iopub.status.idle": "2024-04-26T22:50:34.520862Z",
     "shell.execute_reply": "2024-04-26T22:50:34.520212Z"
    },
    "papermill": {
     "duration": 0.13417,
     "end_time": "2024-04-26T22:50:34.522740",
     "exception": false,
     "start_time": "2024-04-26T22:50:34.388570",
     "status": "completed"
    },
    "slideshow": {
     "slide_type": ""
    },
    "tags": []
   },
   "outputs": [],
   "source": [
    "logger = CustomWandbLogger(name = run_name, project='inflammation_atlas_R1', config = parameter_dict)"
   ]
  },
  {
   "cell_type": "markdown",
   "id": "257f87c8-2d0c-435c-9757-97ceccb6a63d",
   "metadata": {
    "editable": true,
    "papermill": {
     "duration": 0.003787,
     "end_time": "2024-04-26T22:50:34.530399",
     "exception": false,
     "start_time": "2024-04-26T22:50:34.526612",
     "status": "completed"
    },
    "slideshow": {
     "slide_type": ""
    },
    "tags": []
   },
   "source": [
    "Wd decided to use gene-label because-...\n",
    "https://discourse.scverse.org/t/what-model-to-use-when-integrating-batches-of-scrna-seq-matrices-containing-150-000-t-and-innate-lymphoid-cell-ilc-sub-populations/454/7"
   ]
  },
  {
   "cell_type": "code",
   "execution_count": 12,
   "id": "86466669-9431-49d2-a052-5421835ad1a6",
   "metadata": {
    "execution": {
     "iopub.execute_input": "2024-04-26T22:50:34.538588Z",
     "iopub.status.busy": "2024-04-26T22:50:34.538319Z",
     "iopub.status.idle": "2024-04-26T22:50:39.736117Z",
     "shell.execute_reply": "2024-04-26T22:50:39.735394Z"
    },
    "papermill": {
     "duration": 5.204601,
     "end_time": "2024-04-26T22:50:39.738461",
     "exception": false,
     "start_time": "2024-04-26T22:50:34.533860",
     "status": "completed"
    },
    "tags": []
   },
   "outputs": [],
   "source": [
    "model = scvi.model.SCVI(adata, **scvi_kwargs)"
   ]
  },
  {
   "cell_type": "code",
   "execution_count": 13,
   "id": "fbae6b10-3bfe-4cec-9d0d-6734d3ca6c49",
   "metadata": {
    "execution": {
     "iopub.execute_input": "2024-04-26T22:50:39.747647Z",
     "iopub.status.busy": "2024-04-26T22:50:39.747331Z",
     "iopub.status.idle": "2024-04-27T03:38:40.388803Z",
     "shell.execute_reply": "2024-04-27T03:38:40.388027Z"
    },
    "papermill": {
     "duration": 17280.648126,
     "end_time": "2024-04-27T03:38:40.390509",
     "exception": false,
     "start_time": "2024-04-26T22:50:39.742383",
     "status": "completed"
    },
    "tags": []
   },
   "outputs": [
    {
     "name": "stderr",
     "output_type": "stream",
     "text": [
      "GPU available: True (cuda), used: True\n"
     ]
    },
    {
     "name": "stderr",
     "output_type": "stream",
     "text": [
      "TPU available: False, using: 0 TPU cores\n"
     ]
    },
    {
     "name": "stderr",
     "output_type": "stream",
     "text": [
      "IPU available: False, using: 0 IPUs\n"
     ]
    },
    {
     "name": "stderr",
     "output_type": "stream",
     "text": [
      "HPU available: False, using: 0 HPUs\n"
     ]
    },
    {
     "name": "stderr",
     "output_type": "stream",
     "text": [
      "\u001b[34m\u001b[1mwandb\u001b[0m: Currently logged in as: \u001b[33mdav1989\u001b[0m (\u001b[33minflammation\u001b[0m). Use \u001b[1m`wandb login --relogin`\u001b[0m to force relogin\n"
     ]
    },
    {
     "name": "stderr",
     "output_type": "stream",
     "text": [
      "\u001b[34m\u001b[1mwandb\u001b[0m: wandb version 0.16.6 is available!  To upgrade, please run:\n",
      "\u001b[34m\u001b[1mwandb\u001b[0m:  $ pip install wandb --upgrade\n"
     ]
    },
    {
     "name": "stderr",
     "output_type": "stream",
     "text": [
      "\u001b[34m\u001b[1mwandb\u001b[0m: Tracking run with wandb version 0.16.3\n"
     ]
    },
    {
     "name": "stderr",
     "output_type": "stream",
     "text": [
      "\u001b[34m\u001b[1mwandb\u001b[0m: Run data is saved locally in \u001b[35m\u001b[1m./wandb/run-20240426_225044-k6oy7nr3\u001b[0m\n",
      "\u001b[34m\u001b[1mwandb\u001b[0m: Run \u001b[1m`wandb offline`\u001b[0m to turn off syncing.\n"
     ]
    },
    {
     "name": "stderr",
     "output_type": "stream",
     "text": [
      "\u001b[34m\u001b[1mwandb\u001b[0m: Syncing run \u001b[33mStep00_COVchemistry_studyID_disease_sampleID\u001b[0m\n"
     ]
    },
    {
     "name": "stderr",
     "output_type": "stream",
     "text": [
      "\u001b[34m\u001b[1mwandb\u001b[0m: ⭐️ View project at \u001b[34m\u001b[4mhttps://wandb.ai/inflammation/inflammation_atlas_R1\u001b[0m\n"
     ]
    },
    {
     "name": "stderr",
     "output_type": "stream",
     "text": [
      "\u001b[34m\u001b[1mwandb\u001b[0m: 🚀 View run at \u001b[34m\u001b[4mhttps://wandb.ai/inflammation/inflammation_atlas_R1/runs/k6oy7nr3\u001b[0m\n"
     ]
    },
    {
     "name": "stderr",
     "output_type": "stream",
     "text": [
      "LOCAL_RANK: 0 - CUDA_VISIBLE_DEVICES: [0]\n"
     ]
    },
    {
     "name": "stdout",
     "output_type": "stream",
     "text": [
      "\r",
      "Training:   0%|                                                                                                                      | 0/1000 [00:00<?, ?it/s]"
     ]
    },
    {
     "name": "stdout",
     "output_type": "stream",
     "text": [
      "\r",
      "Epoch 1/1000:   0%|                                                                                                                  | 0/1000 [00:00<?, ?it/s]"
     ]
    },
    {
     "name": "stdout",
     "output_type": "stream",
     "text": [
      "\r",
      "Epoch 1/1000:   0%|                                                                                                     | 1/1000 [07:09<119:05:43, 429.17s/it]"
     ]
    },
    {
     "name": "stdout",
     "output_type": "stream",
     "text": [
      "\r",
      "Epoch 1/1000:   0%|                                              | 1/1000 [07:09<119:05:43, 429.17s/it, v_num=7nr3, train_loss_step=806, train_loss_epoch=729]"
     ]
    },
    {
     "name": "stdout",
     "output_type": "stream",
     "text": [
      "\r",
      "Epoch 2/1000:   0%|                                              | 1/1000 [07:09<119:05:43, 429.17s/it, v_num=7nr3, train_loss_step=806, train_loss_epoch=729]"
     ]
    },
    {
     "name": "stdout",
     "output_type": "stream",
     "text": [
      "\r",
      "Epoch 2/1000:   0%|                                              | 2/1000 [14:09<117:31:06, 423.91s/it, v_num=7nr3, train_loss_step=806, train_loss_epoch=729]"
     ]
    },
    {
     "name": "stdout",
     "output_type": "stream",
     "text": [
      "\r",
      "Epoch 2/1000:   0%|                                              | 2/1000 [14:09<117:31:06, 423.91s/it, v_num=7nr3, train_loss_step=710, train_loss_epoch=717]"
     ]
    },
    {
     "name": "stdout",
     "output_type": "stream",
     "text": [
      "\r",
      "Epoch 3/1000:   0%|                                              | 2/1000 [14:09<117:31:06, 423.91s/it, v_num=7nr3, train_loss_step=710, train_loss_epoch=717]"
     ]
    },
    {
     "name": "stdout",
     "output_type": "stream",
     "text": [
      "\r",
      "Epoch 3/1000:   0%|▏                                             | 3/1000 [21:07<116:36:06, 421.03s/it, v_num=7nr3, train_loss_step=710, train_loss_epoch=717]"
     ]
    },
    {
     "name": "stdout",
     "output_type": "stream",
     "text": [
      "\r",
      "Epoch 3/1000:   0%|▏                                             | 3/1000 [21:07<116:36:06, 421.03s/it, v_num=7nr3, train_loss_step=672, train_loss_epoch=715]"
     ]
    },
    {
     "name": "stdout",
     "output_type": "stream",
     "text": [
      "\r",
      "Epoch 4/1000:   0%|▏                                             | 3/1000 [21:07<116:36:06, 421.03s/it, v_num=7nr3, train_loss_step=672, train_loss_epoch=715]"
     ]
    },
    {
     "name": "stdout",
     "output_type": "stream",
     "text": [
      "\r",
      "Epoch 4/1000:   0%|▏                                             | 4/1000 [28:03<116:02:00, 419.40s/it, v_num=7nr3, train_loss_step=672, train_loss_epoch=715]"
     ]
    },
    {
     "name": "stdout",
     "output_type": "stream",
     "text": [
      "\r",
      "Epoch 4/1000:   0%|▏                                             | 4/1000 [28:03<116:02:00, 419.40s/it, v_num=7nr3, train_loss_step=679, train_loss_epoch=714]"
     ]
    },
    {
     "name": "stdout",
     "output_type": "stream",
     "text": [
      "\r",
      "Epoch 5/1000:   0%|▏                                             | 4/1000 [28:03<116:02:00, 419.40s/it, v_num=7nr3, train_loss_step=679, train_loss_epoch=714]"
     ]
    },
    {
     "name": "stdout",
     "output_type": "stream",
     "text": [
      "\r",
      "Epoch 5/1000:   0%|▏                                             | 5/1000 [34:58<115:27:52, 417.76s/it, v_num=7nr3, train_loss_step=679, train_loss_epoch=714]"
     ]
    },
    {
     "name": "stdout",
     "output_type": "stream",
     "text": [
      "\r",
      "Epoch 5/1000:   0%|▏                                             | 5/1000 [34:58<115:27:52, 417.76s/it, v_num=7nr3, train_loss_step=695, train_loss_epoch=714]"
     ]
    },
    {
     "name": "stdout",
     "output_type": "stream",
     "text": [
      "\r",
      "Epoch 6/1000:   0%|▏                                             | 5/1000 [34:58<115:27:52, 417.76s/it, v_num=7nr3, train_loss_step=695, train_loss_epoch=714]"
     ]
    },
    {
     "name": "stdout",
     "output_type": "stream",
     "text": [
      "\r",
      "Epoch 6/1000:   1%|▎                                             | 6/1000 [41:51<114:54:50, 416.19s/it, v_num=7nr3, train_loss_step=695, train_loss_epoch=714]"
     ]
    },
    {
     "name": "stdout",
     "output_type": "stream",
     "text": [
      "\r",
      "Epoch 6/1000:   1%|▎                                             | 6/1000 [41:51<114:54:50, 416.19s/it, v_num=7nr3, train_loss_step=678, train_loss_epoch=713]"
     ]
    },
    {
     "name": "stdout",
     "output_type": "stream",
     "text": [
      "\r",
      "Epoch 7/1000:   1%|▎                                             | 6/1000 [41:51<114:54:50, 416.19s/it, v_num=7nr3, train_loss_step=678, train_loss_epoch=713]"
     ]
    },
    {
     "name": "stdout",
     "output_type": "stream",
     "text": [
      "\r",
      "Epoch 7/1000:   1%|▎                                             | 7/1000 [48:44<114:28:36, 415.02s/it, v_num=7nr3, train_loss_step=678, train_loss_epoch=713]"
     ]
    },
    {
     "name": "stdout",
     "output_type": "stream",
     "text": [
      "\r",
      "Epoch 7/1000:   1%|▎                                             | 7/1000 [48:44<114:28:36, 415.02s/it, v_num=7nr3, train_loss_step=689, train_loss_epoch=713]"
     ]
    },
    {
     "name": "stdout",
     "output_type": "stream",
     "text": [
      "\r",
      "Epoch 8/1000:   1%|▎                                             | 7/1000 [48:44<114:28:36, 415.02s/it, v_num=7nr3, train_loss_step=689, train_loss_epoch=713]"
     ]
    },
    {
     "name": "stdout",
     "output_type": "stream",
     "text": [
      "\r",
      "Epoch 8/1000:   1%|▎                                             | 8/1000 [55:36<114:03:39, 413.93s/it, v_num=7nr3, train_loss_step=689, train_loss_epoch=713]"
     ]
    },
    {
     "name": "stdout",
     "output_type": "stream",
     "text": [
      "\r",
      "Epoch 8/1000:   1%|▎                                             | 8/1000 [55:36<114:03:39, 413.93s/it, v_num=7nr3, train_loss_step=726, train_loss_epoch=713]"
     ]
    },
    {
     "name": "stdout",
     "output_type": "stream",
     "text": [
      "\r",
      "Epoch 9/1000:   1%|▎                                             | 8/1000 [55:36<114:03:39, 413.93s/it, v_num=7nr3, train_loss_step=726, train_loss_epoch=713]"
     ]
    },
    {
     "name": "stdout",
     "output_type": "stream",
     "text": [
      "\r",
      "Epoch 9/1000:   1%|▍                                           | 9/1000 [1:02:27<113:41:25, 413.00s/it, v_num=7nr3, train_loss_step=726, train_loss_epoch=713]"
     ]
    },
    {
     "name": "stdout",
     "output_type": "stream",
     "text": [
      "\r",
      "Epoch 9/1000:   1%|▍                                           | 9/1000 [1:02:27<113:41:25, 413.00s/it, v_num=7nr3, train_loss_step=727, train_loss_epoch=713]"
     ]
    },
    {
     "name": "stdout",
     "output_type": "stream",
     "text": [
      "\r",
      "Epoch 10/1000:   1%|▍                                          | 9/1000 [1:02:27<113:41:25, 413.00s/it, v_num=7nr3, train_loss_step=727, train_loss_epoch=713]"
     ]
    },
    {
     "name": "stdout",
     "output_type": "stream",
     "text": [
      "\r",
      "Epoch 10/1000:   1%|▍                                         | 10/1000 [1:09:18<113:26:35, 412.52s/it, v_num=7nr3, train_loss_step=727, train_loss_epoch=713]"
     ]
    },
    {
     "name": "stdout",
     "output_type": "stream",
     "text": [
      "\r",
      "Epoch 10/1000:   1%|▍                                         | 10/1000 [1:09:18<113:26:35, 412.52s/it, v_num=7nr3, train_loss_step=793, train_loss_epoch=713]"
     ]
    },
    {
     "name": "stdout",
     "output_type": "stream",
     "text": [
      "\r",
      "Epoch 11/1000:   1%|▍                                         | 10/1000 [1:09:18<113:26:35, 412.52s/it, v_num=7nr3, train_loss_step=793, train_loss_epoch=713]"
     ]
    },
    {
     "name": "stdout",
     "output_type": "stream",
     "text": [
      "\r",
      "Epoch 11/1000:   1%|▍                                         | 11/1000 [1:16:09<113:10:54, 411.99s/it, v_num=7nr3, train_loss_step=793, train_loss_epoch=713]"
     ]
    },
    {
     "name": "stdout",
     "output_type": "stream",
     "text": [
      "\r",
      "Epoch 11/1000:   1%|▍                                         | 11/1000 [1:16:09<113:10:54, 411.99s/it, v_num=7nr3, train_loss_step=781, train_loss_epoch=713]"
     ]
    },
    {
     "name": "stdout",
     "output_type": "stream",
     "text": [
      "\r",
      "Epoch 12/1000:   1%|▍                                         | 11/1000 [1:16:09<113:10:54, 411.99s/it, v_num=7nr3, train_loss_step=781, train_loss_epoch=713]"
     ]
    },
    {
     "name": "stdout",
     "output_type": "stream",
     "text": [
      "\r",
      "Epoch 12/1000:   1%|▌                                         | 12/1000 [1:23:00<112:58:04, 411.62s/it, v_num=7nr3, train_loss_step=781, train_loss_epoch=713]"
     ]
    },
    {
     "name": "stdout",
     "output_type": "stream",
     "text": [
      "\r",
      "Epoch 12/1000:   1%|▌                                         | 12/1000 [1:23:00<112:58:04, 411.62s/it, v_num=7nr3, train_loss_step=703, train_loss_epoch=713]"
     ]
    },
    {
     "name": "stdout",
     "output_type": "stream",
     "text": [
      "\r",
      "Epoch 13/1000:   1%|▌                                         | 12/1000 [1:23:00<112:58:04, 411.62s/it, v_num=7nr3, train_loss_step=703, train_loss_epoch=713]"
     ]
    },
    {
     "name": "stdout",
     "output_type": "stream",
     "text": [
      "\r",
      "Epoch 13/1000:   1%|▌                                         | 13/1000 [1:29:51<112:49:25, 411.51s/it, v_num=7nr3, train_loss_step=703, train_loss_epoch=713]"
     ]
    },
    {
     "name": "stdout",
     "output_type": "stream",
     "text": [
      "\r",
      "Epoch 13/1000:   1%|▌                                         | 13/1000 [1:29:51<112:49:25, 411.51s/it, v_num=7nr3, train_loss_step=775, train_loss_epoch=713]"
     ]
    },
    {
     "name": "stdout",
     "output_type": "stream",
     "text": [
      "\r",
      "Epoch 14/1000:   1%|▌                                         | 13/1000 [1:29:51<112:49:25, 411.51s/it, v_num=7nr3, train_loss_step=775, train_loss_epoch=713]"
     ]
    },
    {
     "name": "stdout",
     "output_type": "stream",
     "text": [
      "\r",
      "Epoch 14/1000:   1%|▌                                         | 14/1000 [1:36:41<112:33:24, 410.96s/it, v_num=7nr3, train_loss_step=775, train_loss_epoch=713]"
     ]
    },
    {
     "name": "stdout",
     "output_type": "stream",
     "text": [
      "\r",
      "Epoch 14/1000:   1%|▌                                         | 14/1000 [1:36:41<112:33:24, 410.96s/it, v_num=7nr3, train_loss_step=739, train_loss_epoch=713]"
     ]
    },
    {
     "name": "stdout",
     "output_type": "stream",
     "text": [
      "\r",
      "Epoch 15/1000:   1%|▌                                         | 14/1000 [1:36:41<112:33:24, 410.96s/it, v_num=7nr3, train_loss_step=739, train_loss_epoch=713]"
     ]
    },
    {
     "name": "stdout",
     "output_type": "stream",
     "text": [
      "\r",
      "Epoch 15/1000:   2%|▋                                         | 15/1000 [1:43:32<112:27:07, 410.99s/it, v_num=7nr3, train_loss_step=739, train_loss_epoch=713]"
     ]
    },
    {
     "name": "stdout",
     "output_type": "stream",
     "text": [
      "\r",
      "Epoch 15/1000:   2%|▋                                         | 15/1000 [1:43:32<112:27:07, 410.99s/it, v_num=7nr3, train_loss_step=736, train_loss_epoch=713]"
     ]
    },
    {
     "name": "stdout",
     "output_type": "stream",
     "text": [
      "\r",
      "Epoch 16/1000:   2%|▋                                         | 15/1000 [1:43:32<112:27:07, 410.99s/it, v_num=7nr3, train_loss_step=736, train_loss_epoch=713]"
     ]
    },
    {
     "name": "stdout",
     "output_type": "stream",
     "text": [
      "\r",
      "Epoch 16/1000:   2%|▋                                         | 16/1000 [1:50:22<112:19:28, 410.94s/it, v_num=7nr3, train_loss_step=736, train_loss_epoch=713]"
     ]
    },
    {
     "name": "stdout",
     "output_type": "stream",
     "text": [
      "\r",
      "Epoch 16/1000:   2%|▋                                         | 16/1000 [1:50:22<112:19:28, 410.94s/it, v_num=7nr3, train_loss_step=657, train_loss_epoch=713]"
     ]
    },
    {
     "name": "stdout",
     "output_type": "stream",
     "text": [
      "\r",
      "Epoch 17/1000:   2%|▋                                         | 16/1000 [1:50:22<112:19:28, 410.94s/it, v_num=7nr3, train_loss_step=657, train_loss_epoch=713]"
     ]
    },
    {
     "name": "stdout",
     "output_type": "stream",
     "text": [
      "\r",
      "Epoch 17/1000:   2%|▋                                         | 17/1000 [1:57:14<112:14:24, 411.05s/it, v_num=7nr3, train_loss_step=657, train_loss_epoch=713]"
     ]
    },
    {
     "name": "stdout",
     "output_type": "stream",
     "text": [
      "\r",
      "Epoch 17/1000:   2%|▋                                         | 17/1000 [1:57:14<112:14:24, 411.05s/it, v_num=7nr3, train_loss_step=662, train_loss_epoch=713]"
     ]
    },
    {
     "name": "stdout",
     "output_type": "stream",
     "text": [
      "\r",
      "Epoch 18/1000:   2%|▋                                         | 17/1000 [1:57:14<112:14:24, 411.05s/it, v_num=7nr3, train_loss_step=662, train_loss_epoch=713]"
     ]
    },
    {
     "name": "stdout",
     "output_type": "stream",
     "text": [
      "\r",
      "Epoch 18/1000:   2%|▊                                         | 18/1000 [2:04:05<112:06:55, 411.01s/it, v_num=7nr3, train_loss_step=662, train_loss_epoch=713]"
     ]
    },
    {
     "name": "stdout",
     "output_type": "stream",
     "text": [
      "\r",
      "Epoch 18/1000:   2%|▊                                         | 18/1000 [2:04:05<112:06:55, 411.01s/it, v_num=7nr3, train_loss_step=677, train_loss_epoch=713]"
     ]
    },
    {
     "name": "stdout",
     "output_type": "stream",
     "text": [
      "\r",
      "Epoch 19/1000:   2%|▊                                         | 18/1000 [2:04:05<112:06:55, 411.01s/it, v_num=7nr3, train_loss_step=677, train_loss_epoch=713]"
     ]
    },
    {
     "name": "stdout",
     "output_type": "stream",
     "text": [
      "\r",
      "Epoch 19/1000:   2%|▊                                         | 19/1000 [2:10:56<112:01:52, 411.12s/it, v_num=7nr3, train_loss_step=677, train_loss_epoch=713]"
     ]
    },
    {
     "name": "stdout",
     "output_type": "stream",
     "text": [
      "\r",
      "Epoch 19/1000:   2%|▊                                         | 19/1000 [2:10:56<112:01:52, 411.12s/it, v_num=7nr3, train_loss_step=700, train_loss_epoch=713]"
     ]
    },
    {
     "name": "stdout",
     "output_type": "stream",
     "text": [
      "\r",
      "Epoch 20/1000:   2%|▊                                         | 19/1000 [2:10:56<112:01:52, 411.12s/it, v_num=7nr3, train_loss_step=700, train_loss_epoch=713]"
     ]
    },
    {
     "name": "stdout",
     "output_type": "stream",
     "text": [
      "\r",
      "Epoch 20/1000:   2%|▊                                         | 20/1000 [2:17:47<111:55:12, 411.13s/it, v_num=7nr3, train_loss_step=700, train_loss_epoch=713]"
     ]
    },
    {
     "name": "stdout",
     "output_type": "stream",
     "text": [
      "\r",
      "Epoch 20/1000:   2%|▊                                         | 20/1000 [2:17:47<111:55:12, 411.13s/it, v_num=7nr3, train_loss_step=762, train_loss_epoch=713]"
     ]
    },
    {
     "name": "stdout",
     "output_type": "stream",
     "text": [
      "\r",
      "Epoch 21/1000:   2%|▊                                         | 20/1000 [2:17:47<111:55:12, 411.13s/it, v_num=7nr3, train_loss_step=762, train_loss_epoch=713]"
     ]
    },
    {
     "name": "stdout",
     "output_type": "stream",
     "text": [
      "\r",
      "Epoch 21/1000:   2%|▉                                         | 21/1000 [2:24:38<111:48:36, 411.15s/it, v_num=7nr3, train_loss_step=762, train_loss_epoch=713]"
     ]
    },
    {
     "name": "stdout",
     "output_type": "stream",
     "text": [
      "\r",
      "Epoch 21/1000:   2%|▉                                         | 21/1000 [2:24:38<111:48:36, 411.15s/it, v_num=7nr3, train_loss_step=706, train_loss_epoch=713]"
     ]
    },
    {
     "name": "stdout",
     "output_type": "stream",
     "text": [
      "\r",
      "Epoch 22/1000:   2%|▉                                         | 21/1000 [2:24:38<111:48:36, 411.15s/it, v_num=7nr3, train_loss_step=706, train_loss_epoch=713]"
     ]
    },
    {
     "name": "stdout",
     "output_type": "stream",
     "text": [
      "\r",
      "Epoch 22/1000:   2%|▉                                         | 22/1000 [2:31:32<111:52:42, 411.82s/it, v_num=7nr3, train_loss_step=706, train_loss_epoch=713]"
     ]
    },
    {
     "name": "stdout",
     "output_type": "stream",
     "text": [
      "\r",
      "Epoch 22/1000:   2%|▉                                         | 22/1000 [2:31:32<111:52:42, 411.82s/it, v_num=7nr3, train_loss_step=797, train_loss_epoch=713]"
     ]
    },
    {
     "name": "stdout",
     "output_type": "stream",
     "text": [
      "\r",
      "Epoch 23/1000:   2%|▉                                         | 22/1000 [2:31:32<111:52:42, 411.82s/it, v_num=7nr3, train_loss_step=797, train_loss_epoch=713]"
     ]
    },
    {
     "name": "stdout",
     "output_type": "stream",
     "text": [
      "\r",
      "Epoch 23/1000:   2%|▉                                         | 23/1000 [2:38:24<111:46:35, 411.87s/it, v_num=7nr3, train_loss_step=797, train_loss_epoch=713]"
     ]
    },
    {
     "name": "stdout",
     "output_type": "stream",
     "text": [
      "\r",
      "Epoch 23/1000:   2%|▉                                         | 23/1000 [2:38:24<111:46:35, 411.87s/it, v_num=7nr3, train_loss_step=657, train_loss_epoch=713]"
     ]
    },
    {
     "name": "stdout",
     "output_type": "stream",
     "text": [
      "\r",
      "Epoch 24/1000:   2%|▉                                         | 23/1000 [2:38:24<111:46:35, 411.87s/it, v_num=7nr3, train_loss_step=657, train_loss_epoch=713]"
     ]
    },
    {
     "name": "stdout",
     "output_type": "stream",
     "text": [
      "\r",
      "Epoch 24/1000:   2%|█                                         | 24/1000 [2:45:16<111:40:15, 411.90s/it, v_num=7nr3, train_loss_step=657, train_loss_epoch=713]"
     ]
    },
    {
     "name": "stdout",
     "output_type": "stream",
     "text": [
      "\r",
      "Epoch 24/1000:   2%|█                                         | 24/1000 [2:45:16<111:40:15, 411.90s/it, v_num=7nr3, train_loss_step=725, train_loss_epoch=714]"
     ]
    },
    {
     "name": "stdout",
     "output_type": "stream",
     "text": [
      "\r",
      "Epoch 25/1000:   2%|█                                         | 24/1000 [2:45:16<111:40:15, 411.90s/it, v_num=7nr3, train_loss_step=725, train_loss_epoch=714]"
     ]
    },
    {
     "name": "stdout",
     "output_type": "stream",
     "text": [
      "\r",
      "Epoch 25/1000:   2%|█                                         | 25/1000 [2:52:07<111:31:46, 411.80s/it, v_num=7nr3, train_loss_step=725, train_loss_epoch=714]"
     ]
    },
    {
     "name": "stdout",
     "output_type": "stream",
     "text": [
      "\r",
      "Epoch 25/1000:   2%|█                                         | 25/1000 [2:52:07<111:31:46, 411.80s/it, v_num=7nr3, train_loss_step=706, train_loss_epoch=714]"
     ]
    },
    {
     "name": "stdout",
     "output_type": "stream",
     "text": [
      "\r",
      "Epoch 26/1000:   2%|█                                         | 25/1000 [2:52:07<111:31:46, 411.80s/it, v_num=7nr3, train_loss_step=706, train_loss_epoch=714]"
     ]
    },
    {
     "name": "stdout",
     "output_type": "stream",
     "text": [
      "\r",
      "Epoch 26/1000:   3%|█                                         | 26/1000 [2:58:58<111:21:44, 411.61s/it, v_num=7nr3, train_loss_step=706, train_loss_epoch=714]"
     ]
    },
    {
     "name": "stdout",
     "output_type": "stream",
     "text": [
      "\r",
      "Epoch 26/1000:   3%|█                                         | 26/1000 [2:58:58<111:21:44, 411.61s/it, v_num=7nr3, train_loss_step=760, train_loss_epoch=714]"
     ]
    },
    {
     "name": "stdout",
     "output_type": "stream",
     "text": [
      "\r",
      "Epoch 27/1000:   3%|█                                         | 26/1000 [2:58:58<111:21:44, 411.61s/it, v_num=7nr3, train_loss_step=760, train_loss_epoch=714]"
     ]
    },
    {
     "name": "stdout",
     "output_type": "stream",
     "text": [
      "\r",
      "Epoch 27/1000:   3%|█▏                                        | 27/1000 [3:05:50<111:16:35, 411.71s/it, v_num=7nr3, train_loss_step=760, train_loss_epoch=714]"
     ]
    },
    {
     "name": "stdout",
     "output_type": "stream",
     "text": [
      "\r",
      "Epoch 27/1000:   3%|█▏                                        | 27/1000 [3:05:50<111:16:35, 411.71s/it, v_num=7nr3, train_loss_step=753, train_loss_epoch=714]"
     ]
    },
    {
     "name": "stdout",
     "output_type": "stream",
     "text": [
      "\r",
      "Epoch 28/1000:   3%|█▏                                        | 27/1000 [3:05:50<111:16:35, 411.71s/it, v_num=7nr3, train_loss_step=753, train_loss_epoch=714]"
     ]
    },
    {
     "name": "stdout",
     "output_type": "stream",
     "text": [
      "\r",
      "Epoch 28/1000:   3%|█▏                                        | 28/1000 [3:12:43<111:12:44, 411.90s/it, v_num=7nr3, train_loss_step=753, train_loss_epoch=714]"
     ]
    },
    {
     "name": "stdout",
     "output_type": "stream",
     "text": [
      "\r",
      "Epoch 28/1000:   3%|█▏                                        | 28/1000 [3:12:43<111:12:44, 411.90s/it, v_num=7nr3, train_loss_step=651, train_loss_epoch=714]"
     ]
    },
    {
     "name": "stdout",
     "output_type": "stream",
     "text": [
      "\r",
      "Epoch 29/1000:   3%|█▏                                        | 28/1000 [3:12:43<111:12:44, 411.90s/it, v_num=7nr3, train_loss_step=651, train_loss_epoch=714]"
     ]
    },
    {
     "name": "stdout",
     "output_type": "stream",
     "text": [
      "\r",
      "Epoch 29/1000:   3%|█▏                                        | 29/1000 [3:19:35<111:06:18, 411.92s/it, v_num=7nr3, train_loss_step=651, train_loss_epoch=714]"
     ]
    },
    {
     "name": "stdout",
     "output_type": "stream",
     "text": [
      "\r",
      "Epoch 29/1000:   3%|█▏                                        | 29/1000 [3:19:35<111:06:18, 411.92s/it, v_num=7nr3, train_loss_step=759, train_loss_epoch=714]"
     ]
    },
    {
     "name": "stdout",
     "output_type": "stream",
     "text": [
      "\r",
      "Epoch 30/1000:   3%|█▏                                        | 29/1000 [3:19:35<111:06:18, 411.92s/it, v_num=7nr3, train_loss_step=759, train_loss_epoch=714]"
     ]
    },
    {
     "name": "stdout",
     "output_type": "stream",
     "text": [
      "\r",
      "Epoch 30/1000:   3%|█▎                                        | 30/1000 [3:26:27<110:58:48, 411.89s/it, v_num=7nr3, train_loss_step=759, train_loss_epoch=714]"
     ]
    },
    {
     "name": "stdout",
     "output_type": "stream",
     "text": [
      "\r",
      "Epoch 30/1000:   3%|█▎                                        | 30/1000 [3:26:27<110:58:48, 411.89s/it, v_num=7nr3, train_loss_step=748, train_loss_epoch=714]"
     ]
    },
    {
     "name": "stdout",
     "output_type": "stream",
     "text": [
      "\r",
      "Epoch 31/1000:   3%|█▎                                        | 30/1000 [3:26:27<110:58:48, 411.89s/it, v_num=7nr3, train_loss_step=748, train_loss_epoch=714]"
     ]
    },
    {
     "name": "stdout",
     "output_type": "stream",
     "text": [
      "\r",
      "Epoch 31/1000:   3%|█▎                                        | 31/1000 [3:33:18<110:48:46, 411.69s/it, v_num=7nr3, train_loss_step=748, train_loss_epoch=714]"
     ]
    },
    {
     "name": "stdout",
     "output_type": "stream",
     "text": [
      "\r",
      "Epoch 31/1000:   3%|█▎                                        | 31/1000 [3:33:18<110:48:46, 411.69s/it, v_num=7nr3, train_loss_step=668, train_loss_epoch=714]"
     ]
    },
    {
     "name": "stdout",
     "output_type": "stream",
     "text": [
      "\r",
      "Epoch 32/1000:   3%|█▎                                        | 31/1000 [3:33:18<110:48:46, 411.69s/it, v_num=7nr3, train_loss_step=668, train_loss_epoch=714]"
     ]
    },
    {
     "name": "stdout",
     "output_type": "stream",
     "text": [
      "\r",
      "Epoch 32/1000:   3%|█▎                                        | 32/1000 [3:40:10<110:42:50, 411.75s/it, v_num=7nr3, train_loss_step=668, train_loss_epoch=714]"
     ]
    },
    {
     "name": "stdout",
     "output_type": "stream",
     "text": [
      "\r",
      "Epoch 32/1000:   3%|█▎                                        | 32/1000 [3:40:10<110:42:50, 411.75s/it, v_num=7nr3, train_loss_step=718, train_loss_epoch=714]"
     ]
    },
    {
     "name": "stdout",
     "output_type": "stream",
     "text": [
      "\r",
      "Epoch 33/1000:   3%|█▎                                        | 32/1000 [3:40:10<110:42:50, 411.75s/it, v_num=7nr3, train_loss_step=718, train_loss_epoch=714]"
     ]
    },
    {
     "name": "stdout",
     "output_type": "stream",
     "text": [
      "\r",
      "Epoch 33/1000:   3%|█▍                                        | 33/1000 [3:46:57<110:14:00, 410.38s/it, v_num=7nr3, train_loss_step=718, train_loss_epoch=714]"
     ]
    },
    {
     "name": "stdout",
     "output_type": "stream",
     "text": [
      "\r",
      "Epoch 33/1000:   3%|█▍                                        | 33/1000 [3:46:57<110:14:00, 410.38s/it, v_num=7nr3, train_loss_step=676, train_loss_epoch=714]"
     ]
    },
    {
     "name": "stdout",
     "output_type": "stream",
     "text": [
      "\r",
      "Epoch 34/1000:   3%|█▍                                        | 33/1000 [3:46:57<110:14:00, 410.38s/it, v_num=7nr3, train_loss_step=676, train_loss_epoch=714]"
     ]
    },
    {
     "name": "stdout",
     "output_type": "stream",
     "text": [
      "\r",
      "Epoch 34/1000:   3%|█▍                                        | 34/1000 [3:53:44<109:49:51, 409.31s/it, v_num=7nr3, train_loss_step=676, train_loss_epoch=714]"
     ]
    },
    {
     "name": "stdout",
     "output_type": "stream",
     "text": [
      "\r",
      "Epoch 34/1000:   3%|█▍                                        | 34/1000 [3:53:44<109:49:51, 409.31s/it, v_num=7nr3, train_loss_step=699, train_loss_epoch=715]"
     ]
    },
    {
     "name": "stdout",
     "output_type": "stream",
     "text": [
      "\r",
      "Epoch 35/1000:   3%|█▍                                        | 34/1000 [3:53:44<109:49:51, 409.31s/it, v_num=7nr3, train_loss_step=699, train_loss_epoch=715]"
     ]
    },
    {
     "name": "stdout",
     "output_type": "stream",
     "text": [
      "\r",
      "Epoch 35/1000:   4%|█▍                                        | 35/1000 [4:00:31<109:31:59, 408.62s/it, v_num=7nr3, train_loss_step=699, train_loss_epoch=715]"
     ]
    },
    {
     "name": "stdout",
     "output_type": "stream",
     "text": [
      "\r",
      "Epoch 35/1000:   4%|█▍                                        | 35/1000 [4:00:31<109:31:59, 408.62s/it, v_num=7nr3, train_loss_step=712, train_loss_epoch=715]"
     ]
    },
    {
     "name": "stdout",
     "output_type": "stream",
     "text": [
      "\r",
      "Epoch 36/1000:   4%|█▍                                        | 35/1000 [4:00:31<109:31:59, 408.62s/it, v_num=7nr3, train_loss_step=712, train_loss_epoch=715]"
     ]
    },
    {
     "name": "stdout",
     "output_type": "stream",
     "text": [
      "\r",
      "Epoch 36/1000:   4%|█▌                                        | 36/1000 [4:07:18<109:16:46, 408.10s/it, v_num=7nr3, train_loss_step=712, train_loss_epoch=715]"
     ]
    },
    {
     "name": "stdout",
     "output_type": "stream",
     "text": [
      "\r",
      "Epoch 36/1000:   4%|█▌                                        | 36/1000 [4:07:18<109:16:46, 408.10s/it, v_num=7nr3, train_loss_step=716, train_loss_epoch=715]"
     ]
    },
    {
     "name": "stdout",
     "output_type": "stream",
     "text": [
      "\r",
      "Epoch 37/1000:   4%|█▌                                        | 36/1000 [4:07:18<109:16:46, 408.10s/it, v_num=7nr3, train_loss_step=716, train_loss_epoch=715]"
     ]
    },
    {
     "name": "stdout",
     "output_type": "stream",
     "text": [
      "\r",
      "Epoch 37/1000:   4%|█▌                                        | 37/1000 [4:14:04<108:59:59, 407.48s/it, v_num=7nr3, train_loss_step=716, train_loss_epoch=715]"
     ]
    },
    {
     "name": "stdout",
     "output_type": "stream",
     "text": [
      "\r",
      "Epoch 37/1000:   4%|█▌                                        | 37/1000 [4:14:04<108:59:59, 407.48s/it, v_num=7nr3, train_loss_step=679, train_loss_epoch=715]"
     ]
    },
    {
     "name": "stdout",
     "output_type": "stream",
     "text": [
      "\r",
      "Epoch 38/1000:   4%|█▌                                        | 37/1000 [4:14:04<108:59:59, 407.48s/it, v_num=7nr3, train_loss_step=679, train_loss_epoch=715]"
     ]
    },
    {
     "name": "stdout",
     "output_type": "stream",
     "text": [
      "\r",
      "Epoch 38/1000:   4%|█▌                                        | 38/1000 [4:20:50<108:46:42, 407.07s/it, v_num=7nr3, train_loss_step=679, train_loss_epoch=715]"
     ]
    },
    {
     "name": "stdout",
     "output_type": "stream",
     "text": [
      "\r",
      "Epoch 38/1000:   4%|█▌                                        | 38/1000 [4:20:50<108:46:42, 407.07s/it, v_num=7nr3, train_loss_step=727, train_loss_epoch=715]"
     ]
    },
    {
     "name": "stdout",
     "output_type": "stream",
     "text": [
      "\r",
      "Epoch 39/1000:   4%|█▌                                        | 38/1000 [4:20:50<108:46:42, 407.07s/it, v_num=7nr3, train_loss_step=727, train_loss_epoch=715]"
     ]
    },
    {
     "name": "stdout",
     "output_type": "stream",
     "text": [
      "\r",
      "Epoch 39/1000:   4%|█▋                                        | 39/1000 [4:27:36<108:36:42, 406.87s/it, v_num=7nr3, train_loss_step=727, train_loss_epoch=715]"
     ]
    },
    {
     "name": "stdout",
     "output_type": "stream",
     "text": [
      "\r",
      "Epoch 39/1000:   4%|█▋                                        | 39/1000 [4:27:36<108:36:42, 406.87s/it, v_num=7nr3, train_loss_step=708, train_loss_epoch=715]"
     ]
    },
    {
     "name": "stdout",
     "output_type": "stream",
     "text": [
      "\r",
      "Epoch 40/1000:   4%|█▋                                        | 39/1000 [4:27:36<108:36:42, 406.87s/it, v_num=7nr3, train_loss_step=708, train_loss_epoch=715]"
     ]
    },
    {
     "name": "stdout",
     "output_type": "stream",
     "text": [
      "\r",
      "Epoch 40/1000:   4%|█▋                                        | 40/1000 [4:34:23<108:28:19, 406.77s/it, v_num=7nr3, train_loss_step=708, train_loss_epoch=715]"
     ]
    },
    {
     "name": "stdout",
     "output_type": "stream",
     "text": [
      "\r",
      "Epoch 40/1000:   4%|█▋                                        | 40/1000 [4:34:23<108:28:19, 406.77s/it, v_num=7nr3, train_loss_step=718, train_loss_epoch=715]"
     ]
    },
    {
     "name": "stdout",
     "output_type": "stream",
     "text": [
      "\r",
      "Epoch 41/1000:   4%|█▋                                        | 40/1000 [4:34:23<108:28:19, 406.77s/it, v_num=7nr3, train_loss_step=718, train_loss_epoch=715]"
     ]
    },
    {
     "name": "stdout",
     "output_type": "stream",
     "text": [
      "\r",
      "Epoch 41/1000:   4%|█▋                                        | 41/1000 [4:41:08<108:17:19, 406.51s/it, v_num=7nr3, train_loss_step=718, train_loss_epoch=715]"
     ]
    },
    {
     "name": "stdout",
     "output_type": "stream",
     "text": [
      "\r",
      "Epoch 41/1000:   4%|█▋                                        | 41/1000 [4:41:08<108:17:19, 406.51s/it, v_num=7nr3, train_loss_step=712, train_loss_epoch=715]"
     ]
    },
    {
     "name": "stdout",
     "output_type": "stream",
     "text": [
      "\r",
      "Epoch 42/1000:   4%|█▋                                        | 41/1000 [4:41:09<108:17:19, 406.51s/it, v_num=7nr3, train_loss_step=712, train_loss_epoch=715]"
     ]
    },
    {
     "name": "stdout",
     "output_type": "stream",
     "text": [
      "\r",
      "Epoch 42/1000:   4%|█▊                                        | 42/1000 [4:47:55<108:09:13, 406.42s/it, v_num=7nr3, train_loss_step=712, train_loss_epoch=715]"
     ]
    },
    {
     "name": "stdout",
     "output_type": "stream",
     "text": [
      "\r",
      "Epoch 42/1000:   4%|█▊                                        | 42/1000 [4:47:55<108:09:13, 406.42s/it, v_num=7nr3, train_loss_step=782, train_loss_epoch=715]"
     ]
    },
    {
     "name": "stdout",
     "output_type": "stream",
     "text": [
      "\r",
      "Epoch 42/1000:   4%|█▊                                        | 42/1000 [4:47:55<109:27:19, 411.32s/it, v_num=7nr3, train_loss_step=782, train_loss_epoch=715]"
     ]
    },
    {
     "name": "stdout",
     "output_type": "stream",
     "text": [
      "\n",
      "Monitored metric reconstruction_loss_validation did not improve in the last 10 records. Best score: 705.487. Signaling Trainer to stop.\n"
     ]
    }
   ],
   "source": [
    "model.train(logger=logger, plan_kwargs = plan_kwargs, **trainer_kwargs)"
   ]
  },
  {
   "cell_type": "code",
   "execution_count": 14,
   "id": "c5baa4f3-a48d-4579-b6c5-9b9e34227271",
   "metadata": {
    "execution": {
     "iopub.execute_input": "2024-04-27T03:38:40.412354Z",
     "iopub.status.busy": "2024-04-27T03:38:40.411782Z",
     "iopub.status.idle": "2024-04-27T03:38:46.538429Z",
     "shell.execute_reply": "2024-04-27T03:38:46.537807Z"
    },
    "papermill": {
     "duration": 6.139374,
     "end_time": "2024-04-27T03:38:46.539956",
     "exception": false,
     "start_time": "2024-04-27T03:38:40.400582",
     "status": "completed"
    },
    "tags": []
   },
   "outputs": [
    {
     "name": "stderr",
     "output_type": "stream",
     "text": [
      "\u001b[34m\u001b[1mwandb\u001b[0m: - 0.003 MB of 0.003 MB uploaded\r"
     ]
    },
    {
     "name": "stderr",
     "output_type": "stream",
     "text": [
      "\u001b[34m\u001b[1mwandb\u001b[0m: \\ 0.003 MB of 0.003 MB uploaded\r"
     ]
    },
    {
     "name": "stderr",
     "output_type": "stream",
     "text": [
      "\u001b[34m\u001b[1mwandb\u001b[0m: | 0.009 MB of 0.009 MB uploaded\r"
     ]
    },
    {
     "name": "stderr",
     "output_type": "stream",
     "text": [
      "\u001b[34m\u001b[1mwandb\u001b[0m:                                                                                \n"
     ]
    },
    {
     "name": "stderr",
     "output_type": "stream",
     "text": [
      "\u001b[34m\u001b[1mwandb\u001b[0m: \n",
      "\u001b[34m\u001b[1mwandb\u001b[0m: Run history:\n",
      "\u001b[34m\u001b[1mwandb\u001b[0m:                     elbo_train █▅▄▃▃▃▃▂▂▂▂▂▂▂▂▂▂▂▂▂▂▂▁▁▁▁▁▁▁▁▁▁▁▁▁▁▁▁▁▁\n",
      "\u001b[34m\u001b[1mwandb\u001b[0m:                elbo_validation █▅▄▃▃▃▃▃▂▂▂▂▂▂▂▂▂▂▂▂▂▂▂▁▁▁▁▁▁▁▁▁▁▁▁▁▁▁▁▁\n",
      "\u001b[34m\u001b[1mwandb\u001b[0m:                          epoch ▁▁▁▂▂▂▂▂▂▃▃▃▃▃▃▄▄▄▄▄▅▅▅▅▅▅▆▆▆▆▆▆▇▇▇▇▇███\n",
      "\u001b[34m\u001b[1mwandb\u001b[0m:                kl_global_train ▁▁▁▁▁▁▁▁▁▁▁▁▁▁▁▁▁▁▁▁▁▁▁▁▁▁▁▁▁▁▁▁▁▁▁▁▁▁▁▁\n",
      "\u001b[34m\u001b[1mwandb\u001b[0m:           kl_global_validation ▁▁▁▁▁▁▁▁▁▁▁▁▁▁▁▁▁▁▁▁▁▁▁▁▁▁▁▁▁▁▁▁▁▁▁▁▁▁▁▁\n",
      "\u001b[34m\u001b[1mwandb\u001b[0m:                 kl_local_train █▆▄▃▃▃▃▃▂▂▂▂▂▂▂▂▂▂▂▂▂▂▂▂▁▁▁▁▁▁▁▁▁▁▁▁▁▁▁▁\n",
      "\u001b[34m\u001b[1mwandb\u001b[0m:            kl_local_validation █▅▄▃▃▃▃▃▂▂▂▂▂▂▂▂▂▂▂▂▂▂▂▂▁▁▁▁▁▁▁▁▁▁▁▁▁▁▁▁\n",
      "\u001b[34m\u001b[1mwandb\u001b[0m:                      kl_weight ▁▁▁▂▂▂▂▂▂▃▃▃▃▃▃▄▄▄▄▄▅▅▅▅▅▅▆▆▆▆▆▆▇▇▇▇▇███\n",
      "\u001b[34m\u001b[1mwandb\u001b[0m:      reconstruction_loss_train █▄▃▃▂▂▂▂▂▂▂▁▁▁▁▁▁▁▁▁▁▁▁▁▁▁▁▁▁▁▁▁▁▁▁▁▁▁▁▁\n",
      "\u001b[34m\u001b[1mwandb\u001b[0m: reconstruction_loss_validation █▆▄▄▃▃▃▂▂▂▂▂▂▂▂▂▁▁▁▁▁▁▁▁▁▁▁▁▁▁▁▁▁▁▁▁▁▁▁▁\n",
      "\u001b[34m\u001b[1mwandb\u001b[0m:               train_loss_epoch █▃▂▂▁▁▁▁▁▁▁▁▁▁▁▁▁▁▁▁▁▁▁▁▁▁▁▁▂▂▂▂▂▂▂▂▂▂▂▂\n",
      "\u001b[34m\u001b[1mwandb\u001b[0m:                train_loss_step ▆▄▄▅▃▆▂▄▅▅▅▅▆▄▃█▆▆▄▅▄▆▇▆▆▅▅▄▃▆▄▂▅▅▅▅▃▃▅▁\n",
      "\u001b[34m\u001b[1mwandb\u001b[0m:            trainer/global_step ▁▁▁▂▂▂▂▂▂▃▃▃▃▃▃▄▄▄▄▄▅▅▅▅▅▅▆▆▆▆▆▆▇▇▇▇▇███\n",
      "\u001b[34m\u001b[1mwandb\u001b[0m:                validation_loss █▅▃▂▂▂▁▁▁▁▁▁▁▁▁▁▁▁▁▂▂▂▂▂▂▂▃▃▃▃▃▃▃▃▄▄▄▄▄▅\n",
      "\u001b[34m\u001b[1mwandb\u001b[0m: \n",
      "\u001b[34m\u001b[1mwandb\u001b[0m: Run summary:\n",
      "\u001b[34m\u001b[1mwandb\u001b[0m:                     elbo_train 769.63928\n",
      "\u001b[34m\u001b[1mwandb\u001b[0m:                elbo_validation 764.75525\n",
      "\u001b[34m\u001b[1mwandb\u001b[0m:                          epoch 41\n",
      "\u001b[34m\u001b[1mwandb\u001b[0m:                kl_global_train 0.0\n",
      "\u001b[34m\u001b[1mwandb\u001b[0m:           kl_global_validation 0.0\n",
      "\u001b[34m\u001b[1mwandb\u001b[0m:                 kl_local_train 60.37174\n",
      "\u001b[34m\u001b[1mwandb\u001b[0m:            kl_local_validation 59.05502\n",
      "\u001b[34m\u001b[1mwandb\u001b[0m:                      kl_weight 0.1025\n",
      "\u001b[34m\u001b[1mwandb\u001b[0m:      reconstruction_loss_train 709.26752\n",
      "\u001b[34m\u001b[1mwandb\u001b[0m: reconstruction_loss_validation 705.7002\n",
      "\u001b[34m\u001b[1mwandb\u001b[0m:               train_loss_epoch 715.45538\n",
      "\u001b[34m\u001b[1mwandb\u001b[0m:                train_loss_step 678.0802\n",
      "\u001b[34m\u001b[1mwandb\u001b[0m:            trainer/global_step 1452401\n",
      "\u001b[34m\u001b[1mwandb\u001b[0m:                validation_loss 711.75305\n",
      "\u001b[34m\u001b[1mwandb\u001b[0m: \n"
     ]
    },
    {
     "name": "stderr",
     "output_type": "stream",
     "text": [
      "\u001b[34m\u001b[1mwandb\u001b[0m: 🚀 View run \u001b[33mStep00_COVchemistry_studyID_disease_sampleID\u001b[0m at: \u001b[34m\u001b[4mhttps://wandb.ai/inflammation/inflammation_atlas_R1/runs/k6oy7nr3\u001b[0m\n",
      "\u001b[34m\u001b[1mwandb\u001b[0m: Synced 5 W&B file(s), 0 media file(s), 0 artifact file(s) and 0 other file(s)\n"
     ]
    },
    {
     "name": "stderr",
     "output_type": "stream",
     "text": [
      "\u001b[34m\u001b[1mwandb\u001b[0m: Find logs at: \u001b[35m\u001b[1m./wandb/run-20240426_225044-k6oy7nr3/logs\u001b[0m\n"
     ]
    }
   ],
   "source": [
    "wandb.finish()"
   ]
  },
  {
   "cell_type": "markdown",
   "id": "94eb8579-f8f8-4e4d-b9d4-eaf89ef19ecf",
   "metadata": {
    "papermill": {
     "duration": 0.010087,
     "end_time": "2024-04-27T03:38:46.560623",
     "exception": false,
     "start_time": "2024-04-27T03:38:46.550536",
     "status": "completed"
    },
    "tags": []
   },
   "source": [
    "## Save the results"
   ]
  },
  {
   "cell_type": "code",
   "execution_count": 15,
   "id": "dac02f53-ce3d-456a-8fa1-8ad5755ad467",
   "metadata": {
    "execution": {
     "iopub.execute_input": "2024-04-27T03:38:46.581831Z",
     "iopub.status.busy": "2024-04-27T03:38:46.581342Z",
     "iopub.status.idle": "2024-04-27T03:38:46.904778Z",
     "shell.execute_reply": "2024-04-27T03:38:46.904055Z"
    },
    "papermill": {
     "duration": 0.336347,
     "end_time": "2024-04-27T03:38:46.906893",
     "exception": false,
     "start_time": "2024-04-27T03:38:46.570546",
     "status": "completed"
    },
    "tags": []
   },
   "outputs": [],
   "source": [
    "if overwriteData:\n",
    "    model.save(here(f\"00_data_processing/results/04_INFLAMMATION_main_HVGsubset_scVI_step00/\"), \n",
    "               overwrite = True, \n",
    "               save_anndata = False)"
   ]
  },
  {
   "cell_type": "code",
   "execution_count": 16,
   "id": "acd7b25a-3afc-48d2-a015-6b5261c66b77",
   "metadata": {
    "execution": {
     "iopub.execute_input": "2024-04-27T03:38:46.929281Z",
     "iopub.status.busy": "2024-04-27T03:38:46.928799Z",
     "iopub.status.idle": "2024-04-27T03:38:47.582488Z",
     "shell.execute_reply": "2024-04-27T03:38:47.581847Z"
    },
    "papermill": {
     "duration": 0.666492,
     "end_time": "2024-04-27T03:38:47.584101",
     "exception": false,
     "start_time": "2024-04-27T03:38:46.917609",
     "status": "completed"
    },
    "tags": []
   },
   "outputs": [
    {
     "data": {
      "text/html": [
       "<details>\n",
       "<summary>Click to view session information</summary>\n",
       "<pre>\n",
       "-----\n",
       "anndata             0.10.5\n",
       "dotenv              NA\n",
       "matplotlib          3.8.3\n",
       "numpy               1.26.4\n",
       "pyprojroot          NA\n",
       "pytorch_lightning   2.2.1\n",
       "scanpy              1.9.8\n",
       "scvi                1.1.2\n",
       "session_info        1.0.0\n",
       "torch               2.2.1\n",
       "wandb               0.16.3\n",
       "-----\n",
       "</pre>\n",
       "<details>\n",
       "<summary>Click to view modules imported as dependencies</summary>\n",
       "<pre>\n",
       "PIL                         10.2.0\n",
       "absl                        NA\n",
       "anyio                       NA\n",
       "appdirs                     1.4.4\n",
       "arrow                       1.3.0\n",
       "asttokens                   NA\n",
       "attr                        23.2.0\n",
       "attrs                       23.2.0\n",
       "babel                       2.14.0\n",
       "brotli                      1.1.0\n",
       "certifi                     2024.02.02\n",
       "cffi                        1.16.0\n",
       "charset_normalizer          3.3.2\n",
       "chex                        0.1.86\n",
       "click                       8.1.7\n",
       "colorama                    0.4.6\n",
       "comm                        0.2.2\n",
       "contextlib2                 NA\n",
       "cycler                      0.12.1\n",
       "cython_runtime              NA\n",
       "dateutil                    2.9.0.post0\n",
       "debugpy                     1.8.1\n",
       "decorator                   5.1.1\n",
       "defusedxml                  0.7.1\n",
       "dockerpycreds               NA\n",
       "docrep                      0.3.2\n",
       "etils                       1.5.2\n",
       "exceptiongroup              1.2.0\n",
       "executing                   2.0.1\n",
       "fastjsonschema              NA\n",
       "flax                        0.8.2\n",
       "fqdn                        NA\n",
       "fsspec                      2024.3.1\n",
       "git                         3.1.42\n",
       "gitdb                       4.0.11\n",
       "gmpy2                       2.1.2\n",
       "google                      NA\n",
       "h11                         0.14.0\n",
       "h2                          4.1.0\n",
       "h5py                        3.11.0\n",
       "hpack                       4.0.0\n",
       "httpcore                    1.0.4\n",
       "httpx                       0.27.0\n",
       "hyperframe                  6.0.1\n",
       "idna                        3.6\n",
       "importlib_metadata          NA\n",
       "importlib_resources         NA\n",
       "ipykernel                   6.29.3\n",
       "ipywidgets                  8.1.2\n",
       "isoduration                 NA\n",
       "jax                         0.4.25\n",
       "jaxlib                      0.4.23.dev20240317\n",
       "jedi                        0.19.1\n",
       "jinja2                      3.1.3\n",
       "joblib                      1.3.2\n",
       "json5                       0.9.24\n",
       "jsonpointer                 2.4\n",
       "jsonschema                  4.21.1\n",
       "jsonschema_specifications   NA\n",
       "jupyter_events              0.10.0\n",
       "jupyter_server              2.13.0\n",
       "jupyterlab_server           2.25.4\n",
       "kiwisolver                  1.4.5\n",
       "lightning                   2.1.4\n",
       "lightning_fabric            2.2.1\n",
       "lightning_utilities         0.11.0\n",
       "llvmlite                    0.42.0\n",
       "markupsafe                  2.1.5\n",
       "matplotlib_inline           0.1.6\n",
       "ml_collections              NA\n",
       "ml_dtypes                   0.3.2\n",
       "mpl_toolkits                NA\n",
       "mpmath                      1.3.0\n",
       "msgpack                     1.0.8\n",
       "mudata                      0.2.3\n",
       "multipledispatch            0.6.0\n",
       "natsort                     8.4.0\n",
       "nbformat                    5.10.3\n",
       "numba                       0.59.0\n",
       "numpyro                     0.14.0\n",
       "opt_einsum                  v3.3.0\n",
       "optax                       0.2.1\n",
       "overrides                   NA\n",
       "packaging                   24.0\n",
       "pandas                      2.2.0\n",
       "parso                       0.8.3\n",
       "pexpect                     4.9.0\n",
       "pickleshare                 0.7.5\n",
       "pkg_resources               NA\n",
       "platformdirs                4.2.0\n",
       "prometheus_client           NA\n",
       "prompt_toolkit              3.0.42\n",
       "psutil                      5.9.8\n",
       "ptyprocess                  0.7.0\n",
       "pure_eval                   0.2.2\n",
       "pyarrow                     15.0.2\n",
       "pydev_ipython               NA\n",
       "pydevconsole                NA\n",
       "pydevd                      2.9.5\n",
       "pydevd_file_utils           NA\n",
       "pydevd_plugins              NA\n",
       "pydevd_tracing              NA\n",
       "pygments                    2.17.2\n",
       "pyparsing                   3.1.2\n",
       "pyro                        1.9.0\n",
       "pythonjsonlogger            NA\n",
       "pytz                        2024.1\n",
       "referencing                 NA\n",
       "requests                    2.31.0\n",
       "rfc3339_validator           0.1.4\n",
       "rfc3986_validator           0.1.1\n",
       "rich                        NA\n",
       "rpds                        NA\n",
       "scipy                       1.12.0\n",
       "send2trash                  NA\n",
       "sentry_sdk                  1.43.0\n",
       "six                         1.16.0\n",
       "sklearn                     1.4.1.post1\n",
       "smmap                       5.0.0\n",
       "sniffio                     1.3.1\n",
       "socks                       1.7.1\n",
       "stack_data                  0.6.2\n",
       "stdlib_list                 0.10.0\n",
       "sympy                       1.12\n",
       "threadpoolctl               3.3.0\n",
       "toolz                       0.12.1\n",
       "torchgen                    NA\n",
       "torchmetrics                1.3.2\n",
       "tornado                     6.4\n",
       "tqdm                        4.66.2\n",
       "traitlets                   5.14.2\n",
       "typing_extensions           NA\n",
       "uri_template                NA\n",
       "urllib3                     2.2.1\n",
       "wandb_gql                   NA\n",
       "wandb_graphql               1.1\n",
       "wandb_promise               2.3\n",
       "wandb_watchdog              NA\n",
       "wcwidth                     0.2.13\n",
       "webcolors                   1.13\n",
       "websocket                   1.7.0\n",
       "yaml                        5.4.1\n",
       "zipp                        NA\n",
       "zmq                         25.1.1\n",
       "zoneinfo                    NA\n",
       "</pre>\n",
       "</details> <!-- seems like this ends pre, so might as well be explicit -->\n",
       "<pre>\n",
       "-----\n",
       "IPython             8.18.1\n",
       "jupyter_client      8.6.1\n",
       "jupyter_core        5.7.2\n",
       "jupyterlab          4.1.5\n",
       "-----\n",
       "Python 3.9.18 | packaged by conda-forge | (main, Dec 23 2023, 16:33:10) [GCC 12.3.0]\n",
       "Linux-5.10.0-28-cloud-amd64-x86_64-with-glibc2.31\n",
       "-----\n",
       "Session information updated at 2024-04-27 03:38\n",
       "</pre>\n",
       "</details>"
      ],
      "text/plain": [
       "<IPython.core.display.HTML object>"
      ]
     },
     "execution_count": 16,
     "metadata": {},
     "output_type": "execute_result"
    }
   ],
   "source": [
    "session_info.show(excludes=['google3'],)"
   ]
  },
  {
   "cell_type": "code",
   "execution_count": null,
   "id": "4f180a9e-30d9-48db-8ea1-a57b19b780b5",
   "metadata": {
    "papermill": {
     "duration": 0.010193,
     "end_time": "2024-04-27T03:38:47.605182",
     "exception": false,
     "start_time": "2024-04-27T03:38:47.594989",
     "status": "completed"
    },
    "tags": []
   },
   "outputs": [],
   "source": []
  }
 ],
 "metadata": {
  "kernelspec": {
   "display_name": "Python 3 (ipykernel)",
   "language": "python",
   "name": "python3"
  },
  "language_info": {
   "codemirror_mode": {
    "name": "ipython",
    "version": 3
   },
   "file_extension": ".py",
   "mimetype": "text/x-python",
   "name": "python",
   "nbconvert_exporter": "python",
   "pygments_lexer": "ipython3",
   "version": "3.10.13"
  },
  "papermill": {
   "default_parameters": {},
   "duration": 17380.378542,
   "end_time": "2024-04-27T03:38:51.382498",
   "environment_variables": {},
   "exception": null,
   "input_path": "04_integration_mainHVGsubset_scVI.ipynb",
   "output_path": "04_integration_mainHVGsubset_scVI.ipynb",
   "parameters": {},
   "start_time": "2024-04-26T22:49:11.003956",
   "version": "2.5.0"
  }
 },
 "nbformat": 4,
 "nbformat_minor": 5
}
