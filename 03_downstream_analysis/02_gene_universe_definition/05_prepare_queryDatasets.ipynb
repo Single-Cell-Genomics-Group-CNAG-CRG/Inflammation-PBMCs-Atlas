{
 "cells": [
  {
   "cell_type": "code",
   "execution_count": 1,
   "id": "6fd9efd2-a84f-4413-bea0-6d01c9db2342",
   "metadata": {
    "execution": {
     "iopub.execute_input": "2024-07-12T10:26:24.485533Z",
     "iopub.status.busy": "2024-07-12T10:26:24.485192Z",
     "iopub.status.idle": "2024-07-12T10:26:28.290599Z",
     "shell.execute_reply": "2024-07-12T10:26:28.290192Z",
     "shell.execute_reply.started": "2024-07-12T10:26:24.485514Z"
    },
    "papermill": {
     "duration": 3.9006,
     "end_time": "2024-05-28T19:50:09.104687",
     "exception": false,
     "start_time": "2024-05-28T19:50:05.204087",
     "status": "completed"
    },
    "tags": []
   },
   "outputs": [],
   "source": [
    "\n",
    "import numpy as np\n",
    "import scanpy as sc\n",
    "import pandas as pd\n",
    "\n",
    "from pyprojroot.here import here\n"
   ]
  },
  {
   "cell_type": "markdown",
   "id": "ae86f697-c867-45b5-9116-f25faaf2209d",
   "metadata": {
    "papermill": {
     "duration": 0.005403,
     "end_time": "2024-05-28T19:50:09.116335",
     "exception": false,
     "start_time": "2024-05-28T19:50:09.110932",
     "status": "completed"
    },
    "tags": []
   },
   "source": [
    "# Load data"
   ]
  },
  {
   "cell_type": "markdown",
   "id": "ea3a0c34-ff51-4b05-91e0-41966d5472bb",
   "metadata": {
    "papermill": {
     "duration": 0.006076,
     "end_time": "2024-05-28T19:50:09.129190",
     "exception": false,
     "start_time": "2024-05-28T19:50:09.123114",
     "status": "completed"
    },
    "tags": []
   },
   "source": [
    "### Selected gene list"
   ]
  },
  {
   "cell_type": "code",
   "execution_count": 4,
   "id": "7055c4d8-2564-429d-9a69-f8a2322ed087",
   "metadata": {
    "execution": {
     "iopub.execute_input": "2024-07-12T10:27:05.595929Z",
     "iopub.status.busy": "2024-07-12T10:27:05.595656Z",
     "iopub.status.idle": "2024-07-12T10:27:05.630801Z",
     "shell.execute_reply": "2024-07-12T10:27:05.630462Z",
     "shell.execute_reply.started": "2024-07-12T10:27:05.595915Z"
    },
    "papermill": {
     "duration": 0.027662,
     "end_time": "2024-05-28T19:50:09.162275",
     "exception": false,
     "start_time": "2024-05-28T19:50:09.134613",
     "status": "completed"
    },
    "tags": []
   },
   "outputs": [
    {
     "data": {
      "text/html": [
       "<div>\n",
       "<style scoped>\n",
       "    .dataframe tbody tr th:only-of-type {\n",
       "        vertical-align: middle;\n",
       "    }\n",
       "\n",
       "    .dataframe tbody tr th {\n",
       "        vertical-align: top;\n",
       "    }\n",
       "\n",
       "    .dataframe thead th {\n",
       "        text-align: right;\n",
       "    }\n",
       "</style>\n",
       "<table border=\"1\" class=\"dataframe\">\n",
       "  <thead>\n",
       "    <tr style=\"text-align: right;\">\n",
       "      <th></th>\n",
       "      <th>hgnc_id</th>\n",
       "      <th>symbol</th>\n",
       "      <th>locus_group</th>\n",
       "      <th>HUGO_status</th>\n",
       "    </tr>\n",
       "    <tr>\n",
       "      <th>ensembl_gene_id</th>\n",
       "      <th></th>\n",
       "      <th></th>\n",
       "      <th></th>\n",
       "      <th></th>\n",
       "    </tr>\n",
       "  </thead>\n",
       "  <tbody>\n",
       "    <tr>\n",
       "      <th>ENSG00000000003</th>\n",
       "      <td>HGNC:11858</td>\n",
       "      <td>TSPAN6</td>\n",
       "      <td>protein_coding</td>\n",
       "      <td>official</td>\n",
       "    </tr>\n",
       "    <tr>\n",
       "      <th>ENSG00000000457</th>\n",
       "      <td>HGNC:19285</td>\n",
       "      <td>SCYL3</td>\n",
       "      <td>protein_coding</td>\n",
       "      <td>official</td>\n",
       "    </tr>\n",
       "    <tr>\n",
       "      <th>ENSG00000000938</th>\n",
       "      <td>HGNC:3697</td>\n",
       "      <td>FGR</td>\n",
       "      <td>protein_coding</td>\n",
       "      <td>official</td>\n",
       "    </tr>\n",
       "    <tr>\n",
       "      <th>ENSG00000000971</th>\n",
       "      <td>HGNC:4883</td>\n",
       "      <td>CFH</td>\n",
       "      <td>protein_coding</td>\n",
       "      <td>official</td>\n",
       "    </tr>\n",
       "    <tr>\n",
       "      <th>ENSG00000001036</th>\n",
       "      <td>HGNC:4008</td>\n",
       "      <td>FUCA2</td>\n",
       "      <td>protein_coding</td>\n",
       "      <td>official</td>\n",
       "    </tr>\n",
       "    <tr>\n",
       "      <th>...</th>\n",
       "      <td>...</td>\n",
       "      <td>...</td>\n",
       "      <td>...</td>\n",
       "      <td>...</td>\n",
       "    </tr>\n",
       "    <tr>\n",
       "      <th>ENSG00000278817</th>\n",
       "      <td>NaN</td>\n",
       "      <td>ENSG00000278817</td>\n",
       "      <td>protein_coding</td>\n",
       "      <td>non-official</td>\n",
       "    </tr>\n",
       "    <tr>\n",
       "      <th>ENSG00000278828</th>\n",
       "      <td>HGNC:4775</td>\n",
       "      <td>H3C10</td>\n",
       "      <td>protein_coding</td>\n",
       "      <td>official</td>\n",
       "    </tr>\n",
       "    <tr>\n",
       "      <th>ENSG00000280670</th>\n",
       "      <td>HGNC:27003</td>\n",
       "      <td>CCDC163</td>\n",
       "      <td>protein_coding</td>\n",
       "      <td>official</td>\n",
       "    </tr>\n",
       "    <tr>\n",
       "      <th>ENSG00000280789</th>\n",
       "      <td>HGNC:28707</td>\n",
       "      <td>PAGR1</td>\n",
       "      <td>protein_coding</td>\n",
       "      <td>official</td>\n",
       "    </tr>\n",
       "    <tr>\n",
       "      <th>ENSG00000282608</th>\n",
       "      <td>HGNC:268</td>\n",
       "      <td>ADORA3</td>\n",
       "      <td>protein_coding</td>\n",
       "      <td>official</td>\n",
       "    </tr>\n",
       "  </tbody>\n",
       "</table>\n",
       "<p>8253 rows × 4 columns</p>\n",
       "</div>"
      ],
      "text/plain": [
       "                    hgnc_id           symbol     locus_group   HUGO_status\n",
       "ensembl_gene_id                                                           \n",
       "ENSG00000000003  HGNC:11858           TSPAN6  protein_coding      official\n",
       "ENSG00000000457  HGNC:19285            SCYL3  protein_coding      official\n",
       "ENSG00000000938   HGNC:3697              FGR  protein_coding      official\n",
       "ENSG00000000971   HGNC:4883              CFH  protein_coding      official\n",
       "ENSG00000001036   HGNC:4008            FUCA2  protein_coding      official\n",
       "...                     ...              ...             ...           ...\n",
       "ENSG00000278817         NaN  ENSG00000278817  protein_coding  non-official\n",
       "ENSG00000278828   HGNC:4775            H3C10  protein_coding      official\n",
       "ENSG00000280670  HGNC:27003          CCDC163  protein_coding      official\n",
       "ENSG00000280789  HGNC:28707            PAGR1  protein_coding      official\n",
       "ENSG00000282608    HGNC:268           ADORA3  protein_coding      official\n",
       "\n",
       "[8253 rows x 4 columns]"
      ]
     },
     "execution_count": 4,
     "metadata": {},
     "output_type": "execute_result"
    }
   ],
   "source": [
    "SelectedGeneList = pd.read_pickle(here('03_downstream_analysis/02_gene_universe_definition/results/04_selected_gene_list.pkl'))\n",
    "SelectedGeneList"
   ]
  },
  {
   "cell_type": "markdown",
   "id": "91793cdb-edcb-40ef-9d96-d00b538ba35a",
   "metadata": {
    "papermill": {
     "duration": 0.006111,
     "end_time": "2024-05-28T19:50:09.176226",
     "exception": false,
     "start_time": "2024-05-28T19:50:09.170115",
     "status": "completed"
    },
    "tags": []
   },
   "source": [
    "## Datasets\n",
    "\n",
    "Here we will prepare the datasets to run the integration steps by:\n",
    "\n",
    "- Keeping only genes in our defined universe\n",
    "- Removing not necessary observation"
   ]
  },
  {
   "cell_type": "markdown",
   "id": "35384bdd-5c7e-427e-be97-a894741ebdfe",
   "metadata": {
    "papermill": {
     "duration": 0.014254,
     "end_time": "2024-05-28T19:50:09.199233",
     "exception": false,
     "start_time": "2024-05-28T19:50:09.184979",
     "status": "completed"
    },
    "tags": []
   },
   "source": [
    "**Excluded**"
   ]
  },
  {
   "cell_type": "code",
   "execution_count": 3,
   "id": "84653edb-ae43-4600-b9d9-63309b955acc",
   "metadata": {
    "execution": {
     "iopub.execute_input": "2024-06-21T10:31:51.053388Z",
     "iopub.status.busy": "2024-06-21T10:31:51.053064Z",
     "iopub.status.idle": "2024-06-21T10:32:35.706051Z",
     "shell.execute_reply": "2024-06-21T10:32:35.705557Z",
     "shell.execute_reply.started": "2024-06-21T10:31:51.053369Z"
    },
    "papermill": {
     "duration": 48.876794,
     "end_time": "2024-05-28T19:50:58.095433",
     "exception": false,
     "start_time": "2024-05-28T19:50:09.218639",
     "status": "completed"
    },
    "tags": []
   },
   "outputs": [],
   "source": [
    "adataExcluded = sc.read_h5ad(here('00_data_processing/results/02_INFLAMMATION_excluded_afterQC.h5ad'))"
   ]
  },
  {
   "cell_type": "code",
   "execution_count": 4,
   "id": "34d34263-6489-4a84-b3b7-a5eb28914e6e",
   "metadata": {
    "execution": {
     "iopub.execute_input": "2024-06-21T10:32:35.707339Z",
     "iopub.status.busy": "2024-06-21T10:32:35.707134Z",
     "iopub.status.idle": "2024-06-21T10:32:51.764888Z",
     "shell.execute_reply": "2024-06-21T10:32:51.764405Z",
     "shell.execute_reply.started": "2024-06-21T10:32:35.707322Z"
    },
    "papermill": {
     "duration": 16.121076,
     "end_time": "2024-05-28T19:51:14.223255",
     "exception": false,
     "start_time": "2024-05-28T19:50:58.102179",
     "status": "completed"
    },
    "tags": []
   },
   "outputs": [
    {
     "data": {
      "text/plain": [
       "AnnData object with n_obs × n_vars = 1357922 × 8253\n",
       "    obs: 'studyID', 'libraryID', 'sampleID', 'chemistry', 'technology', 'disease', 'sex', 'binned_age'\n",
       "    var: 'hgnc_id', 'symbol', 'locus_group', 'HUGO_status'\n",
       "    uns: 'chemistry_colors'"
      ]
     },
     "execution_count": 4,
     "metadata": {},
     "output_type": "execute_result"
    }
   ],
   "source": [
    "adataExcludedFilt = adataExcluded[:,adataExcluded.var.index.isin(SelectedGeneList.index)]\n",
    "adataExcludedFilt.obs = adataExcludedFilt.obs[['studyID', 'libraryID', 'sampleID', 'chemistry', 'technology', 'disease', 'sex', 'binned_age']]\n",
    "adataExcludedFilt.var = adataExcludedFilt.var[['hgnc_id', 'symbol', 'locus_group', 'HUGO_status']]\n",
    "adataExcludedFilt"
   ]
  },
  {
   "cell_type": "code",
   "execution_count": 5,
   "id": "40fce975-fd8b-46ff-a7cf-43a960ad6f7a",
   "metadata": {
    "execution": {
     "iopub.execute_input": "2024-06-21T10:32:51.765807Z",
     "iopub.status.busy": "2024-06-21T10:32:51.765591Z",
     "iopub.status.idle": "2024-06-21T10:32:51.768244Z",
     "shell.execute_reply": "2024-06-21T10:32:51.767847Z",
     "shell.execute_reply.started": "2024-06-21T10:32:51.765790Z"
    },
    "papermill": {
     "duration": 0.091565,
     "end_time": "2024-05-28T19:51:14.324009",
     "exception": false,
     "start_time": "2024-05-28T19:51:14.232444",
     "status": "completed"
    },
    "tags": []
   },
   "outputs": [],
   "source": [
    "del adataExcludedFilt.uns"
   ]
  },
  {
   "cell_type": "code",
   "execution_count": 6,
   "id": "060ffac8-4791-4b02-8282-bcd9e914620f",
   "metadata": {
    "execution": {
     "iopub.execute_input": "2024-06-21T10:32:51.769119Z",
     "iopub.status.busy": "2024-06-21T10:32:51.768874Z",
     "iopub.status.idle": "2024-06-21T10:32:51.779406Z",
     "shell.execute_reply": "2024-06-21T10:32:51.779000Z",
     "shell.execute_reply.started": "2024-06-21T10:32:51.769103Z"
    },
    "papermill": {
     "duration": 0.018058,
     "end_time": "2024-05-28T19:51:14.347919",
     "exception": false,
     "start_time": "2024-05-28T19:51:14.329861",
     "status": "completed"
    },
    "tags": []
   },
   "outputs": [
    {
     "data": {
      "text/plain": [
       "AnnData object with n_obs × n_vars = 1357922 × 8253\n",
       "    obs: 'studyID', 'libraryID', 'sampleID', 'chemistry', 'technology', 'disease', 'sex', 'binned_age'\n",
       "    var: 'hgnc_id', 'symbol', 'locus_group', 'HUGO_status'"
      ]
     },
     "execution_count": 6,
     "metadata": {},
     "output_type": "execute_result"
    }
   ],
   "source": [
    "adataExcludedFilt"
   ]
  },
  {
   "cell_type": "code",
   "execution_count": 7,
   "id": "c5cf8b42-3106-4b4a-a1bd-054a81f2a07e",
   "metadata": {
    "execution": {
     "iopub.execute_input": "2024-06-03T13:15:42.005160Z",
     "iopub.status.busy": "2024-06-03T13:15:42.004337Z",
     "iopub.status.idle": "2024-06-03T13:17:24.089107Z",
     "shell.execute_reply": "2024-06-03T13:17:24.088158Z",
     "shell.execute_reply.started": "2024-06-03T13:15:42.005114Z"
    },
    "papermill": {
     "duration": 180.705307,
     "end_time": "2024-05-28T19:54:15.059841",
     "exception": false,
     "start_time": "2024-05-28T19:51:14.354534",
     "status": "completed"
    },
    "tags": []
   },
   "outputs": [],
   "source": [
    "adataExcludedFilt.write(here('03_downstream_analysis/02_gene_universe_definition/results/05_EXCLUDED_geneUniverse.h5ad'), compression='gzip')"
   ]
  },
  {
   "cell_type": "markdown",
   "id": "5e37fb52-c112-4304-a005-af0e2e659114",
   "metadata": {},
   "source": [
    "*log1p-normalization*"
   ]
  },
  {
   "cell_type": "code",
   "execution_count": 7,
   "id": "52b06d9a-0f2a-4a06-8904-3063124d4524",
   "metadata": {
    "execution": {
     "iopub.execute_input": "2024-06-21T10:32:51.780168Z",
     "iopub.status.busy": "2024-06-21T10:32:51.779956Z",
     "iopub.status.idle": "2024-06-21T10:33:50.942790Z",
     "shell.execute_reply": "2024-06-21T10:33:50.942324Z",
     "shell.execute_reply.started": "2024-06-21T10:32:51.780151Z"
    }
   },
   "outputs": [],
   "source": [
    "# normalization and log1p scale\n",
    "sc.pp.normalize_total(adataExcludedFilt, target_sum=1e4)\n",
    "sc.pp.log1p(adataExcludedFilt)"
   ]
  },
  {
   "cell_type": "code",
   "execution_count": 8,
   "id": "2ce528cd-a048-42db-9498-b516cbb444cc",
   "metadata": {
    "execution": {
     "iopub.execute_input": "2024-06-21T10:33:50.944666Z",
     "iopub.status.busy": "2024-06-21T10:33:50.944400Z",
     "iopub.status.idle": "2024-06-21T10:35:47.261401Z",
     "shell.execute_reply": "2024-06-21T10:35:47.260752Z",
     "shell.execute_reply.started": "2024-06-21T10:33:50.944649Z"
    }
   },
   "outputs": [],
   "source": [
    "adataExcludedFilt.write(here('03_downstream_analysis/02_gene_universe_definition/results/05_EXCLUDED_geneUniverse.log1p.h5ad'), compression='gzip')"
   ]
  },
  {
   "cell_type": "code",
   "execution_count": 9,
   "id": "4db90156-e970-40a2-bd48-63c726c737da",
   "metadata": {
    "execution": {
     "iopub.execute_input": "2024-06-21T10:35:47.262407Z",
     "iopub.status.busy": "2024-06-21T10:35:47.262187Z",
     "iopub.status.idle": "2024-06-21T10:35:47.264907Z",
     "shell.execute_reply": "2024-06-21T10:35:47.264557Z",
     "shell.execute_reply.started": "2024-06-21T10:35:47.262389Z"
    },
    "papermill": {
     "duration": 0.010475,
     "end_time": "2024-05-28T19:54:15.077893",
     "exception": false,
     "start_time": "2024-05-28T19:54:15.067418",
     "status": "completed"
    },
    "tags": []
   },
   "outputs": [],
   "source": [
    "del adataExcludedFilt"
   ]
  },
  {
   "cell_type": "markdown",
   "id": "4a39dc9f-a3b3-4aaa-8342-bb00479edad6",
   "metadata": {
    "papermill": {
     "duration": 0.005677,
     "end_time": "2024-05-28T19:54:15.089373",
     "exception": false,
     "start_time": "2024-05-28T19:54:15.083696",
     "status": "completed"
    },
    "tags": []
   },
   "source": [
    "**External**"
   ]
  },
  {
   "cell_type": "code",
   "execution_count": 5,
   "id": "50e31caa-ec8d-4d4d-b25b-fbfedc670191",
   "metadata": {
    "execution": {
     "iopub.execute_input": "2024-07-12T10:27:10.412377Z",
     "iopub.status.busy": "2024-07-12T10:27:10.412122Z",
     "iopub.status.idle": "2024-07-12T10:27:11.367647Z",
     "shell.execute_reply": "2024-07-12T10:27:11.367226Z",
     "shell.execute_reply.started": "2024-07-12T10:27:10.412360Z"
    },
    "papermill": {
     "duration": 22.548752,
     "end_time": "2024-05-28T19:54:37.643907",
     "exception": false,
     "start_time": "2024-05-28T19:54:15.095155",
     "status": "completed"
    },
    "tags": []
   },
   "outputs": [],
   "source": [
    "adataExternal = sc.read_h5ad(here('00_data_processing/results/02_INFLAMMATION_external_afterQC.h5ad'))"
   ]
  },
  {
   "cell_type": "code",
   "execution_count": 11,
   "id": "df44bb94-64ad-4efd-b580-b384a78cf69d",
   "metadata": {
    "execution": {
     "iopub.execute_input": "2024-07-12T10:31:43.902004Z",
     "iopub.status.busy": "2024-07-12T10:31:43.901748Z",
     "iopub.status.idle": "2024-07-12T10:31:43.907096Z",
     "shell.execute_reply": "2024-07-12T10:31:43.906789Z",
     "shell.execute_reply.started": "2024-07-12T10:31:43.901989Z"
    }
   },
   "outputs": [
    {
     "data": {
      "text/plain": [
       "['RA', 'healthy', 'COVID', 'HIV', 'cirrhosis', 'CD', 'SLE', 'sepsis']"
      ]
     },
     "execution_count": 11,
     "metadata": {},
     "output_type": "execute_result"
    }
   ],
   "source": [
    "adataExternal.obs.disease.unique().tolist()"
   ]
  },
  {
   "cell_type": "code",
   "execution_count": null,
   "id": "303d4d00-2159-4499-8a6f-50f5798215fd",
   "metadata": {
    "papermill": {
     "duration": 7.743971,
     "end_time": "2024-05-28T19:54:45.395192",
     "exception": false,
     "start_time": "2024-05-28T19:54:37.651221",
     "status": "completed"
    },
    "tags": []
   },
   "outputs": [],
   "source": [
    "adataExternalFilt = adataExternal[:,adataExternal.var.index.isin(SelectedGeneList.index)]\n",
    "adataExternalFilt.obs = adataExternalFilt.obs[['studyID', 'libraryID', 'sampleID', 'chemistry', 'technology', 'disease', 'sex', 'binned_age']]\n",
    "adataExternalFilt.var = adataExternalFilt.var[['hgnc_id', 'symbol', 'locus_group', 'HUGO_status']]\n",
    "adataExternalFilt"
   ]
  },
  {
   "cell_type": "code",
   "execution_count": 12,
   "id": "934c8cd3-52ab-4b7f-afd2-134f87b007e5",
   "metadata": {
    "execution": {
     "iopub.execute_input": "2024-06-21T10:36:16.302869Z",
     "iopub.status.busy": "2024-06-21T10:36:16.302668Z",
     "iopub.status.idle": "2024-06-21T10:36:16.305252Z",
     "shell.execute_reply": "2024-06-21T10:36:16.304887Z",
     "shell.execute_reply.started": "2024-06-21T10:36:16.302852Z"
    },
    "papermill": {
     "duration": 0.013962,
     "end_time": "2024-05-28T19:54:45.416736",
     "exception": false,
     "start_time": "2024-05-28T19:54:45.402774",
     "status": "completed"
    },
    "tags": []
   },
   "outputs": [],
   "source": [
    "del adataExternalFilt.uns"
   ]
  },
  {
   "cell_type": "code",
   "execution_count": 13,
   "id": "9a46b665-67db-48e2-aaeb-1fe19d0d55dd",
   "metadata": {
    "execution": {
     "iopub.execute_input": "2024-06-21T10:36:16.305928Z",
     "iopub.status.busy": "2024-06-21T10:36:16.305745Z",
     "iopub.status.idle": "2024-06-21T10:36:16.315979Z",
     "shell.execute_reply": "2024-06-21T10:36:16.315629Z",
     "shell.execute_reply.started": "2024-06-21T10:36:16.305912Z"
    },
    "papermill": {
     "duration": 0.011417,
     "end_time": "2024-05-28T19:54:45.436548",
     "exception": false,
     "start_time": "2024-05-28T19:54:45.425131",
     "status": "completed"
    },
    "tags": []
   },
   "outputs": [
    {
     "data": {
      "text/plain": [
       "AnnData object with n_obs × n_vars = 572872 × 8253\n",
       "    obs: 'studyID', 'libraryID', 'sampleID', 'chemistry', 'technology', 'disease', 'sex', 'binned_age'\n",
       "    var: 'hgnc_id', 'symbol', 'locus_group', 'HUGO_status'"
      ]
     },
     "execution_count": 13,
     "metadata": {},
     "output_type": "execute_result"
    }
   ],
   "source": [
    "adataExternalFilt"
   ]
  },
  {
   "cell_type": "code",
   "execution_count": null,
   "id": "e48c28e6-13e2-4667-8359-83746d4c747a",
   "metadata": {
    "execution": {
     "iopub.status.busy": "2024-06-21T10:31:17.691506Z",
     "iopub.status.idle": "2024-06-21T10:31:17.691766Z",
     "shell.execute_reply": "2024-06-21T10:31:17.691674Z",
     "shell.execute_reply.started": "2024-06-21T10:31:17.691665Z"
    },
    "papermill": {
     "duration": 66.296055,
     "end_time": "2024-05-28T19:55:51.738428",
     "exception": false,
     "start_time": "2024-05-28T19:54:45.442373",
     "status": "completed"
    },
    "tags": []
   },
   "outputs": [],
   "source": [
    "adataExternalFilt.write(here('03_downstream_analysis/02_gene_universe_definition/results/05_EXTERNAL_geneUniverse.h5ad'), compression='gzip')"
   ]
  },
  {
   "cell_type": "markdown",
   "id": "e7eedc83-ae96-4ad6-994d-47e5338abc0c",
   "metadata": {},
   "source": [
    "*log1p-normalization*"
   ]
  },
  {
   "cell_type": "code",
   "execution_count": 14,
   "id": "2391bc25-dbe6-460f-aba1-8525c78bf20f",
   "metadata": {
    "execution": {
     "iopub.execute_input": "2024-06-21T10:36:16.317549Z",
     "iopub.status.busy": "2024-06-21T10:36:16.317273Z",
     "iopub.status.idle": "2024-06-21T10:36:44.747834Z",
     "shell.execute_reply": "2024-06-21T10:36:44.747154Z",
     "shell.execute_reply.started": "2024-06-21T10:36:16.317531Z"
    }
   },
   "outputs": [],
   "source": [
    "# normalization and log1p scale\n",
    "sc.pp.normalize_total(adataExternalFilt, target_sum=1e4)\n",
    "sc.pp.log1p(adataExternalFilt)"
   ]
  },
  {
   "cell_type": "code",
   "execution_count": 15,
   "id": "3db9994d-bc93-4716-94e3-6e263385e3a7",
   "metadata": {
    "execution": {
     "iopub.execute_input": "2024-06-21T10:36:44.748902Z",
     "iopub.status.busy": "2024-06-21T10:36:44.748678Z",
     "iopub.status.idle": "2024-06-21T10:37:40.902323Z",
     "shell.execute_reply": "2024-06-21T10:37:40.901672Z",
     "shell.execute_reply.started": "2024-06-21T10:36:44.748885Z"
    }
   },
   "outputs": [],
   "source": [
    "adataExternalFilt.write(here('03_downstream_analysis/02_gene_universe_definition/results/05_EXTERNAL_geneUniverse.log1p.h5ad'), compression='gzip')"
   ]
  },
  {
   "cell_type": "code",
   "execution_count": 16,
   "id": "12582570-4ac7-46b4-baa9-dc0a67cd3b66",
   "metadata": {
    "execution": {
     "iopub.execute_input": "2024-06-21T10:37:40.903302Z",
     "iopub.status.busy": "2024-06-21T10:37:40.903127Z",
     "iopub.status.idle": "2024-06-21T10:37:40.905893Z",
     "shell.execute_reply": "2024-06-21T10:37:40.905524Z",
     "shell.execute_reply.started": "2024-06-21T10:37:40.903285Z"
    },
    "papermill": {
     "duration": 0.980527,
     "end_time": "2024-05-28T19:55:52.726404",
     "exception": true,
     "start_time": "2024-05-28T19:55:51.745877",
     "status": "failed"
    },
    "tags": []
   },
   "outputs": [],
   "source": [
    "del adataExternalFilt"
   ]
  },
  {
   "cell_type": "markdown",
   "id": "b157e663-6bfd-4cb4-a4cc-20f0c63b6f40",
   "metadata": {
    "papermill": {
     "duration": null,
     "end_time": null,
     "exception": null,
     "start_time": null,
     "status": "pending"
    },
    "tags": []
   },
   "source": [
    "**Validation**"
   ]
  },
  {
   "cell_type": "code",
   "execution_count": 8,
   "id": "55fdfd0c-1b2d-4502-84d1-2acea623ef8a",
   "metadata": {
    "execution": {
     "iopub.execute_input": "2024-07-12T10:28:11.125012Z",
     "iopub.status.busy": "2024-07-12T10:28:11.124745Z",
     "iopub.status.idle": "2024-07-12T10:28:13.252828Z",
     "shell.execute_reply": "2024-07-12T10:28:13.252444Z",
     "shell.execute_reply.started": "2024-07-12T10:28:11.124997Z"
    },
    "papermill": {
     "duration": null,
     "end_time": null,
     "exception": null,
     "start_time": null,
     "status": "pending"
    },
    "tags": []
   },
   "outputs": [],
   "source": [
    "adataValidation = sc.read_h5ad(here('00_data_processing/results/02_INFLAMMATION_validation_afterQC.h5ad'))"
   ]
  },
  {
   "cell_type": "code",
   "execution_count": 9,
   "id": "c36e2815-3e08-46d2-9754-c48249206026",
   "metadata": {
    "execution": {
     "iopub.execute_input": "2024-07-12T10:28:21.501029Z",
     "iopub.status.busy": "2024-07-12T10:28:21.500767Z",
     "iopub.status.idle": "2024-07-12T10:28:21.507351Z",
     "shell.execute_reply": "2024-07-12T10:28:21.507052Z",
     "shell.execute_reply.started": "2024-07-12T10:28:21.501013Z"
    }
   },
   "outputs": [
    {
     "data": {
      "text/plain": [
       "['RA', 'PSA', 'CD', 'PS', 'HNSCC', 'healthy', 'SLE', 'COVID', 'sepsis']"
      ]
     },
     "execution_count": 9,
     "metadata": {},
     "output_type": "execute_result"
    }
   ],
   "source": [
    "adataValidation.obs.disease.unique().tolist()"
   ]
  },
  {
   "cell_type": "code",
   "execution_count": 18,
   "id": "13b49ab2-dc05-455e-97b4-69677306c693",
   "metadata": {
    "execution": {
     "iopub.execute_input": "2024-06-21T10:38:06.960342Z",
     "iopub.status.busy": "2024-06-21T10:38:06.960132Z",
     "iopub.status.idle": "2024-06-21T10:38:16.291065Z",
     "shell.execute_reply": "2024-06-21T10:38:16.290599Z",
     "shell.execute_reply.started": "2024-06-21T10:38:06.960324Z"
    },
    "papermill": {
     "duration": null,
     "end_time": null,
     "exception": null,
     "start_time": null,
     "status": "pending"
    },
    "tags": []
   },
   "outputs": [],
   "source": [
    "adataValidationFilt = adataValidation[:,adataValidation.var.index.isin(SelectedGeneList.index)]\n",
    "adataValidationFilt.obs = adataValidationFilt.obs[['studyID', 'libraryID', 'sampleID', 'chemistry', 'technology', 'disease', 'sex', 'binned_age']]\n",
    "adataValidationFilt.var = adataValidationFilt.var[['hgnc_id', 'symbol', 'locus_group', 'HUGO_status']]"
   ]
  },
  {
   "cell_type": "code",
   "execution_count": 19,
   "id": "6557b11d-f299-49f9-98b3-c3128cebd290",
   "metadata": {
    "execution": {
     "iopub.execute_input": "2024-06-21T10:38:16.291849Z",
     "iopub.status.busy": "2024-06-21T10:38:16.291652Z",
     "iopub.status.idle": "2024-06-21T10:38:16.294147Z",
     "shell.execute_reply": "2024-06-21T10:38:16.293757Z",
     "shell.execute_reply.started": "2024-06-21T10:38:16.291832Z"
    },
    "papermill": {
     "duration": null,
     "end_time": null,
     "exception": null,
     "start_time": null,
     "status": "pending"
    },
    "tags": []
   },
   "outputs": [],
   "source": [
    "del adataValidationFilt.uns"
   ]
  },
  {
   "cell_type": "code",
   "execution_count": 20,
   "id": "225b75a0-4d31-4f95-afdf-3b2a57089080",
   "metadata": {
    "execution": {
     "iopub.execute_input": "2024-06-21T10:38:16.296250Z",
     "iopub.status.busy": "2024-06-21T10:38:16.296010Z",
     "iopub.status.idle": "2024-06-21T10:38:16.305066Z",
     "shell.execute_reply": "2024-06-21T10:38:16.304695Z",
     "shell.execute_reply.started": "2024-06-21T10:38:16.296234Z"
    },
    "papermill": {
     "duration": null,
     "end_time": null,
     "exception": null,
     "start_time": null,
     "status": "pending"
    },
    "tags": []
   },
   "outputs": [
    {
     "data": {
      "text/plain": [
       "AnnData object with n_obs × n_vars = 849922 × 8253\n",
       "    obs: 'studyID', 'libraryID', 'sampleID', 'chemistry', 'technology', 'disease', 'sex', 'binned_age'\n",
       "    var: 'hgnc_id', 'symbol', 'locus_group', 'HUGO_status'"
      ]
     },
     "execution_count": 20,
     "metadata": {},
     "output_type": "execute_result"
    }
   ],
   "source": [
    "adataValidationFilt"
   ]
  },
  {
   "cell_type": "code",
   "execution_count": 19,
   "id": "f79e4bd9-0568-4941-9fbc-bd8bae75efbe",
   "metadata": {
    "execution": {
     "iopub.execute_input": "2024-06-03T13:21:51.428581Z",
     "iopub.status.busy": "2024-06-03T13:21:51.426943Z",
     "iopub.status.idle": "2024-06-03T13:22:46.834504Z",
     "shell.execute_reply": "2024-06-03T13:22:46.833324Z",
     "shell.execute_reply.started": "2024-06-03T13:21:51.428460Z"
    },
    "papermill": {
     "duration": null,
     "end_time": null,
     "exception": null,
     "start_time": null,
     "status": "pending"
    },
    "tags": []
   },
   "outputs": [],
   "source": [
    "adataValidationFilt.write(here('03_downstream_analysis/02_gene_universe_definition/results/05_VALIDATION_geneUniverse.h5ad'), compression='gzip')"
   ]
  },
  {
   "cell_type": "markdown",
   "id": "431e9c7a-837a-4f27-afe0-c41d6c7ac1a9",
   "metadata": {},
   "source": [
    "*log1p-normalization*"
   ]
  },
  {
   "cell_type": "code",
   "execution_count": 21,
   "id": "baf48491-032c-49b9-98aa-4636a6476fe2",
   "metadata": {
    "execution": {
     "iopub.execute_input": "2024-06-21T10:38:16.305730Z",
     "iopub.status.busy": "2024-06-21T10:38:16.305541Z",
     "iopub.status.idle": "2024-06-21T10:38:50.224411Z",
     "shell.execute_reply": "2024-06-21T10:38:50.223738Z",
     "shell.execute_reply.started": "2024-06-21T10:38:16.305714Z"
    }
   },
   "outputs": [],
   "source": [
    "# normalization and log1p scale\n",
    "sc.pp.normalize_total(adataValidationFilt, target_sum=1e4)\n",
    "sc.pp.log1p(adataValidationFilt)"
   ]
  },
  {
   "cell_type": "code",
   "execution_count": 23,
   "id": "7de3313b-339b-4bd8-9e2d-aac49b5f7d1a",
   "metadata": {
    "execution": {
     "iopub.execute_input": "2024-06-21T10:42:53.561251Z",
     "iopub.status.busy": "2024-06-21T10:42:53.560928Z",
     "iopub.status.idle": "2024-06-21T10:44:34.203654Z",
     "shell.execute_reply": "2024-06-21T10:44:34.202990Z",
     "shell.execute_reply.started": "2024-06-21T10:42:53.561231Z"
    }
   },
   "outputs": [],
   "source": [
    "adataValidationFilt.write(here('03_downstream_analysis/02_gene_universe_definition/results/05_VALIDATION_geneUniverse.log1p.h5ad'), compression='gzip')"
   ]
  },
  {
   "cell_type": "code",
   "execution_count": null,
   "id": "ba98dea9-b6c0-4491-8959-4abc6c6bb81e",
   "metadata": {},
   "outputs": [],
   "source": []
  }
 ],
 "metadata": {
  "kernelspec": {
   "display_name": "Python 3 (ipykernel)",
   "language": "python",
   "name": "python3"
  },
  "language_info": {
   "codemirror_mode": {
    "name": "ipython",
    "version": 3
   },
   "file_extension": ".py",
   "mimetype": "text/x-python",
   "name": "python",
   "nbconvert_exporter": "python",
   "pygments_lexer": "ipython3",
   "version": "3.10.13"
  },
  "papermill": {
   "default_parameters": {},
   "duration": 352.279319,
   "end_time": "2024-05-28T19:55:53.349238",
   "environment_variables": {},
   "exception": true,
   "input_path": "05_prepare_queryDatasets.ipynb",
   "output_path": "05_prepare_queryDatasets.ipynb",
   "parameters": {},
   "start_time": "2024-05-28T19:50:01.069919",
   "version": "2.5.0"
  }
 },
 "nbformat": 4,
 "nbformat_minor": 5
}
