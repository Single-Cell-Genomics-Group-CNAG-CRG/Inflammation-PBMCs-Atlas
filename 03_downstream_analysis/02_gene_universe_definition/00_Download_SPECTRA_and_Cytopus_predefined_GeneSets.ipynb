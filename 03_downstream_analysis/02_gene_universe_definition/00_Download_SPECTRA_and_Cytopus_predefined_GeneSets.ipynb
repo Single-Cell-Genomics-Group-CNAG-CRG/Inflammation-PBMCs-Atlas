{
 "cells": [
  {
   "cell_type": "markdown",
   "metadata": {},
   "source": [
    "# Import relevant packages"
   ]
  },
  {
   "cell_type": "markdown",
   "metadata": {},
   "source": [
    "Run: *conda activate inflamSpectra*"
   ]
  },
  {
   "cell_type": "code",
   "execution_count": 1,
   "metadata": {
    "execution": {
     "iopub.execute_input": "2024-05-22T15:16:17.705088Z",
     "iopub.status.busy": "2024-05-22T15:16:17.704591Z",
     "iopub.status.idle": "2024-05-22T15:16:46.107439Z",
     "shell.execute_reply": "2024-05-22T15:16:46.106963Z",
     "shell.execute_reply.started": "2024-05-22T15:16:17.705067Z"
    },
    "id": "WEf_XV5Vxf-I"
   },
   "outputs": [],
   "source": [
    "#import packages\n",
    "import numpy as np\n",
    "import json \n",
    "import scanpy as sc\n",
    "from collections import OrderedDict\n",
    "import scipy \n",
    "import pandas as pd\n",
    "import matplotlib.pyplot as plt\n",
    "\n",
    "#spectra imports \n",
    "import Spectra as spc\n",
    "from Spectra import Spectra_util as spc_tl\n",
    "from Spectra import K_est as kst\n",
    "from Spectra import default_gene_sets\n",
    "\n",
    "#KnowledgeBase imports\n",
    "import cytopus as cp\n",
    "import session_info"
   ]
  },
  {
   "cell_type": "markdown",
   "metadata": {},
   "source": [
    "# Load a human immunology knowledge base\n",
    "This is an immunology knowledge base with the following criteria:\n",
    "1. Genes within a gene set define a cellular process at the transcript level.\n",
    "2. Gene sets represent cellular processes at the single-cell level.\n",
    "3. Gene sets can be specific to a defined cell type.\n",
    "\n",
    "Within this resource, 150 cellular processes apply to all leukocytes, and 31 apply to individual cell types. Of all 231 gene sets, 97 were gene sets newly curated from the literature, 14 used data from perturbation experiments, 11 were adopted from the literature with modifications, and 123 were taken from the literature and external databases without changes. Gene sets correspond to: \n",
    "\n",
    "A. cellular identities (n = 50) \n",
    "\n",
    "B. cellular processes\n",
    "- homeostasis (n = 9)\n",
    "- stress response (n = 3)\n",
    "- cell death and autophagy (n = 18)\n",
    "- proliferation (n = 6)\n",
    "- signaling (n = 12)\n",
    "- metabolism (n = 90)\n",
    "- immune function (n = 22)\n",
    "- immune cell responses to external stimuli (n = 18)\n",
    "-  hemostasis/coagulation (n = 3).\n",
    "\n",
    "We designed the gene sets for cellular processes to have comparable size (median n = 20 genes per gene sets) and relatively little overlap (median pairwise overlap coefficient of 40%) to enable dissection of a large number of cellular processes and to avoid gene set size-driven effects.\n",
    "\n",
    "\n",
    "To retrieve the information: \n",
    "- ‘celltypes’ method retrieves a list of available cell types\n",
    "- ‘processes’ generates a dictionary of all ‘cellular processes’ gene sets\n",
    "- ‘identities’ gener- ates a dictionary of all ‘cellular identity’ gene sets. \n",
    "\n",
    "The get_celltype_processes method retrieves cell-type-specific ‘cellular processes’ based on a user-provided list of cell types at the desired granularity (generally all cell types contained in the data)."
   ]
  },
  {
   "cell_type": "code",
   "execution_count": 5,
   "metadata": {
    "execution": {
     "iopub.execute_input": "2024-05-22T15:17:22.620418Z",
     "iopub.status.busy": "2024-05-22T15:17:22.620045Z",
     "iopub.status.idle": "2024-05-22T15:17:23.132769Z",
     "shell.execute_reply": "2024-05-22T15:17:23.132266Z",
     "shell.execute_reply.started": "2024-05-22T15:17:22.620399Z"
    }
   },
   "outputs": [
    {
     "name": "stdout",
     "output_type": "stream",
     "text": [
      "KnowledgeBase object containing 92 cell types and 201 cellular processes\n",
      "\n"
     ]
    }
   ],
   "source": [
    "import cytopus as cp\n",
    "G = cp.knowledge_base.KnowledgeBase()"
   ]
  },
  {
   "cell_type": "code",
   "execution_count": null,
   "metadata": {},
   "outputs": [],
   "source": [
    "cp.knowledge_base"
   ]
  },
  {
   "cell_type": "code",
   "execution_count": null,
   "metadata": {
    "execution": {
     "iopub.status.busy": "2024-05-22T09:36:50.913978Z",
     "iopub.status.idle": "2024-05-22T09:36:50.914205Z",
     "shell.execute_reply": "2024-05-22T09:36:50.914097Z",
     "shell.execute_reply.started": "2024-05-22T09:36:50.914087Z"
    }
   },
   "outputs": [],
   "source": [
    "#list of all cell types in KnowledgeBase\n",
    "G.celltypes\n",
    "G.plot_celltypes()"
   ]
  },
  {
   "cell_type": "code",
   "execution_count": null,
   "metadata": {
    "execution": {
     "iopub.status.busy": "2024-05-22T09:36:50.914772Z",
     "iopub.status.idle": "2024-05-22T09:36:50.914965Z",
     "shell.execute_reply": "2024-05-22T09:36:50.914876Z",
     "shell.execute_reply.started": "2024-05-22T09:36:50.914867Z"
    }
   },
   "outputs": [],
   "source": [
    "G.identities"
   ]
  },
  {
   "cell_type": "markdown",
   "metadata": {
    "id": "v4vTEyL6sDR4"
   },
   "source": [
    "# Load gene_set_dictionary"
   ]
  },
  {
   "cell_type": "markdown",
   "metadata": {
    "id": "oqLbpf3qsFWF"
   },
   "source": [
    "First we need to load a nested dictionary containing global and cell type specific gene sets in the following format: Gene set annotation dictionary with the keys being the celltypes (str) and values being dictionaries with gene set names as keys (str) and gene sets as values (lists of gene names/IDs which matches the gene names/IDs in adata.var_names).\n",
    "\n",
    "For example:\n",
    "\n",
    "```\n",
    "gene_set_dictionary = {'celltype_1':{'gene_set_1':['gene_a', 'gene_b', 'gene_c'], 'gene_set_2':['gene_c','gene_a','gene_e','gene_f']},\n",
    "\n",
    "'celltype_2':{'gene_set_1':['gene_a', 'gene_b', 'gene_c'], 'gene_set_3':['gene_a', 'gene_e','gene_f','gene_d']},\n",
    "\n",
    "'celltype_3':{},\n",
    "\n",
    "'global':\"{'gene_set_4':['gene_m','gene_n']} #the global key must be supplied\n",
    "\n",
    "```\n",
    "\n",
    "*Note that one key in the dictionary must be 'global' with the corresponding value being a dictionary of gene sets which apply to all cells*\n",
    "\n",
    "Spectra will use this dictionary to align factors to the input gene sets. Gene sets which apply to only one cell type in the data should be included in the dictionary of that cell type. If a gene sets applies to all cell types in the data, the gene set should be included in the dictionary for 'global'. \n",
    "\n",
    "If a gene set applies to more than one cell type but not all cell types in the data there are two options: \n",
    "1) Include this gene set in each cell type dictionary which will likely result in a separate factor for this gene set in each cell type.\n",
    "2) Include this gene set in the 'global' dictionary which will likely result in one factor for this gene set in all cell types.\n",
    "\n",
    "We give additional guidance on the advantages and disadvantages of either approach in the Supplementary Methods of the Spectra paper: https://doi.org/10.1101/2022.12.20.521311"
   ]
  },
  {
   "cell_type": "markdown",
   "metadata": {
    "id": "oqLbpf3qsFWF"
   },
   "source": [
    "**Loaded vs custom gene set dictionary**\n",
    "\n",
    "We can either create our own gene set dictionary or make use of the human immunology knowledge base selecting the cell types of interest. We can also use external databases but they have to be provided in the format described above. \n",
    "\n",
    "Here we will use the Cytopus KnowledgeBase and expand those with the default gene sets from spectra: spc.default_gene_sets.load()"
   ]
  },
  {
   "cell_type": "code",
   "execution_count": null,
   "metadata": {
    "execution": {
     "iopub.status.busy": "2024-05-22T09:36:50.915703Z",
     "iopub.status.idle": "2024-05-22T09:36:50.916075Z",
     "shell.execute_reply": "2024-05-22T09:36:50.915956Z",
     "shell.execute_reply.started": "2024-05-22T09:36:50.915946Z"
    }
   },
   "outputs": [],
   "source": [
    "celltype_of_interest = ['mono', 'Mac', \n",
    "                        \"p-DC\", \"cDC\", \n",
    "                        \"gdT\", \"MAIT\", \"NK\", \"ILC\",\n",
    "                        \"CD4-T\", \"CD8-T\", \"T-naive\", \"TCM\", \"TEM\", \"TRM\", \"TSCM\",\n",
    "                        'B', ]"
   ]
  },
  {
   "cell_type": "code",
   "execution_count": null,
   "metadata": {
    "execution": {
     "iopub.status.busy": "2024-05-22T09:36:50.916694Z",
     "iopub.status.idle": "2024-05-22T09:36:50.916898Z",
     "shell.execute_reply": "2024-05-22T09:36:50.916795Z",
     "shell.execute_reply.started": "2024-05-22T09:36:50.916786Z"
    }
   },
   "outputs": [],
   "source": [
    "celltype_of_interest = ['Mac',\n",
    "                        \"p-DC\", \"cDC\", \n",
    "                        \"gdT\", \"MAIT\", \"NK\", \"ILC\",\n",
    "                        \"CD4-T\", \"CD8-T\", \"T-naive\", \n",
    "                        'B', ]\n",
    "global_celltypes = ['all-cells','leukocyte']\n",
    "G.get_celltype_processes(celltype_of_interest,global_celltypes = global_celltypes,get_children=True,get_parents =False)"
   ]
  },
  {
   "cell_type": "code",
   "execution_count": null,
   "metadata": {
    "execution": {
     "iopub.status.busy": "2024-05-22T09:36:50.917551Z",
     "iopub.status.idle": "2024-05-22T09:36:50.917751Z",
     "shell.execute_reply": "2024-05-22T09:36:50.917651Z",
     "shell.execute_reply.started": "2024-05-22T09:36:50.917642Z"
    }
   },
   "outputs": [],
   "source": [
    "gene_set_dict = G.celltype_process_dict"
   ]
  },
  {
   "cell_type": "code",
   "execution_count": null,
   "metadata": {
    "execution": {
     "iopub.status.busy": "2024-05-22T09:36:50.918154Z",
     "iopub.status.idle": "2024-05-22T09:36:50.918601Z",
     "shell.execute_reply": "2024-05-22T09:36:50.918493Z",
     "shell.execute_reply.started": "2024-05-22T09:36:50.918483Z"
    }
   },
   "outputs": [],
   "source": [
    "# load the default gene set dictionary from the Spectra paper:\n",
    "default_gs_dict = spc.default_gene_sets.load()"
   ]
  },
  {
   "cell_type": "markdown",
   "metadata": {
    "id": "v4vTEyL6sDR4"
   },
   "source": [
    "## Assess the created dictionary: Compare KnowledgeBase and Default"
   ]
  },
  {
   "cell_type": "markdown",
   "metadata": {
    "id": "oqLbpf3qsFWF"
   },
   "source": [
    "**DEFAULT GENE SET: Number of gene sets per cell type**"
   ]
  },
  {
   "cell_type": "code",
   "execution_count": null,
   "metadata": {
    "execution": {
     "iopub.status.busy": "2024-05-22T09:36:50.919038Z",
     "iopub.status.idle": "2024-05-22T09:36:50.919222Z",
     "shell.execute_reply": "2024-05-22T09:36:50.919135Z",
     "shell.execute_reply.started": "2024-05-22T09:36:50.919126Z"
    }
   },
   "outputs": [],
   "source": [
    "# Initialize a dictionary to store the counts\n",
    "key_counts = {}\n",
    "\n",
    "# Loop through the keys and calculate the number of keys within each key\n",
    "total_count = 0\n",
    "for key, value in default_gs_dict.items():\n",
    "    if isinstance(value, dict):\n",
    "        key_counts[key] = len(value)\n",
    "        total_count += len(value)\n",
    "    else:\n",
    "        key_counts[key] = 0\n",
    "\n",
    "# Print the number of keys within each key\n",
    "for key, count in key_counts.items():\n",
    "    print(f\"{key}: {count}\")\n",
    "\n",
    "print(f\"Total: {total_count}\")"
   ]
  },
  {
   "cell_type": "markdown",
   "metadata": {
    "id": "oqLbpf3qsFWF"
   },
   "source": [
    "**CYTOPUS GENE SET: Number of gene sets per cell type**"
   ]
  },
  {
   "cell_type": "code",
   "execution_count": null,
   "metadata": {
    "execution": {
     "iopub.status.busy": "2024-05-22T09:36:50.919903Z",
     "iopub.status.idle": "2024-05-22T09:36:50.920097Z",
     "shell.execute_reply": "2024-05-22T09:36:50.920000Z",
     "shell.execute_reply.started": "2024-05-22T09:36:50.919992Z"
    }
   },
   "outputs": [],
   "source": [
    "# Initialize a dictionary to store the counts\n",
    "key_counts = {}\n",
    "\n",
    "# Loop through the keys and calculate the number of keys within each key\n",
    "total_count = 0\n",
    "for key, value in gene_set_dict.items():\n",
    "    if isinstance(value, dict):\n",
    "        key_counts[key] = len(value)\n",
    "        total_count += len(value)\n",
    "    else:\n",
    "        key_counts[key] = 0\n",
    "\n",
    "# Print the number of keys within each key\n",
    "for key, count in key_counts.items():\n",
    "    print(f\"{key}: {count}\")\n",
    "\n",
    "print(f\"Total: {total_count}\")"
   ]
  },
  {
   "cell_type": "markdown",
   "metadata": {
    "id": "v4vTEyL6sDR4"
   },
   "source": [
    "## Edit the dictionary to contain as much as gene sets as possible together with the default gene set"
   ]
  },
  {
   "cell_type": "markdown",
   "metadata": {
    "id": "v4vTEyL6sDR4"
   },
   "source": [
    "**Edit CD4 gene sets**"
   ]
  },
  {
   "cell_type": "code",
   "execution_count": null,
   "metadata": {
    "execution": {
     "iopub.status.busy": "2024-05-22T09:36:50.920766Z",
     "iopub.status.idle": "2024-05-22T09:36:50.920952Z",
     "shell.execute_reply": "2024-05-22T09:36:50.920864Z",
     "shell.execute_reply.started": "2024-05-22T09:36:50.920855Z"
    }
   },
   "outputs": [],
   "source": [
    "# Add missing CD4 gene sets\n",
    "cell_type_to_update = 'CD4_T'\n",
    "cell_type_in_gene_set = 'CD4-T'\n",
    "\n",
    "if cell_type_to_update in default_gs_dict:\n",
    "    for gene_set_name, genes in default_gs_dict[cell_type_to_update].items():\n",
    "        if gene_set_name not in gene_set_dict[cell_type_in_gene_set]:\n",
    "            if gene_set_name.startswith('TNK'):\n",
    "                # Create a new cell type 'TNK' and include the gene set\n",
    "                if 'TNK' not in gene_set_dict:\n",
    "                    gene_set_dict['TNK'] = {}\n",
    "                gene_set_dict['TNK'][gene_set_name] = genes\n",
    "                print(f\"Including {gene_set_name} for {cell_type_to_update} in 'TNK' cell type.\")\n",
    "                # Include also this gene set into CD4\n",
    "                gene_set_dict[cell_type_in_gene_set][gene_set_name] = genes\n",
    "                print(f\"Also including {gene_set_name} for {cell_type_to_update}.\")\n",
    "            else:\n",
    "                # Include the new gene set\n",
    "                gene_set_dict[cell_type_in_gene_set][gene_set_name] = genes\n",
    "                print(f\"Including {gene_set_name} for {cell_type_to_update}.\")\n",
    "                \n",
    "        else:\n",
    "            # Check if the gene set already exists with 100% match\n",
    "            if set(genes) == set(gene_set_dict[cell_type_in_gene_set][gene_set_name]):\n",
    "                print(f\"Skipping {gene_set_name} in {cell_type_to_update} - Already exists with a 100% match.\")\n",
    "            else:\n",
    "                # Include missing genes\n",
    "                missing_genes = set(genes) - set(gene_set_dict[cell_type_in_gene_set][gene_set_name])\n",
    "                gene_set_dict[cell_type_in_gene_set][gene_set_name].extend(list(missing_genes))\n",
    "                print(f\"Including missing genes in {gene_set_name} for {cell_type_to_update}: {list(missing_genes)}\")\n",
    "# Modify the gene set name\n",
    "print(\"Modifying gene set names\")\n",
    "old_gene_set_names = list(gene_set_dict[cell_type_in_gene_set].keys())\n",
    "for gene_set_name in old_gene_set_names:\n",
    "    split_name = gene_set_name.split('_')\n",
    "    if len(split_name) > 1:\n",
    "        new_name = 'CD4T_' + '_'.join(split_name[1:]).replace('-', '_')\n",
    "        print(f\"{gene_set_name} --> {new_name}\")\n",
    "        gene_set_dict[cell_type_in_gene_set][new_name] = gene_set_dict[cell_type_in_gene_set][gene_set_name]\n",
    "        del gene_set_dict[cell_type_in_gene_set][gene_set_name]\n",
    "        #gene_set_dict[cell_type_in_gene_set][new_name] = gene_set_dict[cell_type_in_gene_set].pop(gene_set_name)"
   ]
  },
  {
   "cell_type": "markdown",
   "metadata": {
    "id": "v4vTEyL6sDR4"
   },
   "source": [
    "**Edit CD8 gene sets**"
   ]
  },
  {
   "cell_type": "code",
   "execution_count": null,
   "metadata": {
    "execution": {
     "iopub.status.busy": "2024-05-22T09:36:50.921806Z",
     "iopub.status.idle": "2024-05-22T09:36:50.922098Z",
     "shell.execute_reply": "2024-05-22T09:36:50.921998Z",
     "shell.execute_reply.started": "2024-05-22T09:36:50.921989Z"
    }
   },
   "outputs": [],
   "source": [
    "# Add missing CD8 gene sets except those starting with NKT \n",
    "cell_type_to_update = 'CD8_T'\n",
    "cell_type_in_gene_set = 'CD8-T'\n",
    "\n",
    "if cell_type_to_update in default_gs_dict:\n",
    "    for gene_set_name, genes in default_gs_dict[cell_type_to_update].items():\n",
    "        if gene_set_name not in gene_set_dict[cell_type_in_gene_set]:\n",
    "            if gene_set_name.startswith('TNK'):\n",
    "                # Create a new cell type 'TNK' and include the gene set\n",
    "                if 'TNK' not in gene_set_dict:\n",
    "                    gene_set_dict['TNK'] = {}\n",
    "                gene_set_dict['TNK'][gene_set_name] = genes\n",
    "                print(f\"Including {gene_set_name} for {cell_type_to_update} in 'TNK' cell type.\")\n",
    "                # Include also this gene set into CD4\n",
    "                gene_set_dict[cell_type_in_gene_set][gene_set_name] = genes\n",
    "                print(f\"Also including {gene_set_name} for {cell_type_to_update}.\")\n",
    "            else:\n",
    "                # Include the new gene set\n",
    "                gene_set_dict[cell_type_in_gene_set][gene_set_name] = genes\n",
    "                print(f\"Including {gene_set_name} for {cell_type_to_update}.\")\n",
    "                \n",
    "        else:\n",
    "            # Check if the gene set already exists with 100% match\n",
    "            if set(genes) == set(gene_set_dict[cell_type_in_gene_set][gene_set_name]):\n",
    "                print(f\"Skipping {gene_set_name} in {cell_type_to_update} - Already exists with a 100% match.\")\n",
    "            else:\n",
    "                # Include missing genes\n",
    "                missing_genes = set(genes) - set(gene_set_dict[cell_type_in_gene_set][gene_set_name])\n",
    "                gene_set_dict[cell_type_in_gene_set][gene_set_name].extend(list(missing_genes))\n",
    "                print(f\"Including missing genes in {gene_set_name} for {cell_type_to_update}: {list(missing_genes)}\")\n",
    "# Modify the gene set name\n",
    "print(\"Modifying gene set names\")\n",
    "old_gene_set_names = list(gene_set_dict[cell_type_in_gene_set].keys())\n",
    "for gene_set_name in old_gene_set_names:\n",
    "    split_name = gene_set_name.split('_')\n",
    "    if len(split_name) > 1:\n",
    "        new_name = 'CD8T_' + '_'.join(split_name[1:]).replace('-', '_')\n",
    "        print(f\"{gene_set_name} --> {new_name}\")\n",
    "        gene_set_dict[cell_type_in_gene_set][new_name] = gene_set_dict[cell_type_in_gene_set][gene_set_name]\n",
    "        del gene_set_dict[cell_type_in_gene_set][gene_set_name]\n",
    "        #gene_set_dict[cell_type_in_gene_set][new_name] = gene_set_dict[cell_type_in_gene_set].pop(gene_set_name)"
   ]
  },
  {
   "cell_type": "markdown",
   "metadata": {
    "id": "v4vTEyL6sDR4"
   },
   "source": [
    "**Edit DC gene sets**"
   ]
  },
  {
   "cell_type": "code",
   "execution_count": null,
   "metadata": {
    "execution": {
     "iopub.status.busy": "2024-05-22T09:36:50.922840Z",
     "iopub.status.idle": "2024-05-22T09:36:50.923033Z",
     "shell.execute_reply": "2024-05-22T09:36:50.922938Z",
     "shell.execute_reply.started": "2024-05-22T09:36:50.922930Z"
    }
   },
   "outputs": [],
   "source": [
    "# Add missing CD8 gene sets except those starting with NKT \n",
    "cell_type_to_update = 'DC'\n",
    "cell_type_in_gene_set = 'cDC'\n",
    "\n",
    "if cell_type_to_update in default_gs_dict:\n",
    "    for gene_set_name, genes in default_gs_dict[cell_type_to_update].items():\n",
    "        if gene_set_name not in gene_set_dict[cell_type_in_gene_set]:\n",
    "                # Include the new gene set\n",
    "                gene_set_dict[cell_type_in_gene_set][gene_set_name] = genes\n",
    "                print(f\"Including {gene_set_name} for {cell_type_to_update}.\")                \n",
    "        else:\n",
    "            # Check if the gene set already exists with 100% match\n",
    "            if set(genes) == set(gene_set_dict[cell_type_in_gene_set][gene_set_name]):\n",
    "                print(f\"Skipping {gene_set_name} in {cell_type_to_update} - Already exists with a 100% match.\")\n",
    "            else:\n",
    "                # Include missing genes\n",
    "                missing_genes = set(genes) - set(gene_set_dict[cell_type_in_gene_set][gene_set_name])\n",
    "                gene_set_dict[cell_type_in_gene_set][gene_set_name].extend(list(missing_genes))\n",
    "                print(f\"Including missing genes in {gene_set_name} for {cell_type_to_update}: {list(missing_genes)}\")\n"
   ]
  },
  {
   "cell_type": "markdown",
   "metadata": {
    "id": "v4vTEyL6sDR4"
   },
   "source": [
    "**Edit Treg gene sets**"
   ]
  },
  {
   "cell_type": "code",
   "execution_count": null,
   "metadata": {
    "execution": {
     "iopub.status.busy": "2024-05-22T09:36:50.923723Z",
     "iopub.status.idle": "2024-05-22T09:36:50.923910Z",
     "shell.execute_reply": "2024-05-22T09:36:50.923823Z",
     "shell.execute_reply.started": "2024-05-22T09:36:50.923814Z"
    }
   },
   "outputs": [],
   "source": [
    "gene_set_dict['Tregs'] = {}\n",
    "gene_set_dict[\"Tregs\"][\"Tregs_FoxP3_stabilization\"] = gene_set_dict[\"CD4-T\"][\"CD4T_FoxP3_stabilization\"]"
   ]
  },
  {
   "cell_type": "markdown",
   "metadata": {
    "id": "v4vTEyL6sDR4"
   },
   "source": [
    "## Imported dictionary"
   ]
  },
  {
   "cell_type": "markdown",
   "metadata": {
    "id": "oqLbpf3qsFWF"
   },
   "source": [
    "**Imported dictionary: KnowledgeBase + Default**"
   ]
  },
  {
   "cell_type": "code",
   "execution_count": null,
   "metadata": {
    "execution": {
     "iopub.status.busy": "2024-05-22T09:36:50.924684Z",
     "iopub.status.idle": "2024-05-22T09:36:50.924901Z",
     "shell.execute_reply": "2024-05-22T09:36:50.924800Z",
     "shell.execute_reply.started": "2024-05-22T09:36:50.924791Z"
    }
   },
   "outputs": [],
   "source": [
    "# Dictionary to store DataFrames for each cell type\n",
    "dfs_by_cell_type = {}\n",
    "\n",
    "# Iterate through the gene_set_dict for each cell type\n",
    "for cell_type, gene_sets in gene_set_dict.items():\n",
    "    # Check if the cell type has any gene sets\n",
    "    if not gene_sets:\n",
    "        print(f\"No gene sets available for {cell_type}\")\n",
    "        continue\n",
    "\n",
    "    # Create an empty dictionary to store the flattened data for the current cell type\n",
    "    flattened_data = {}\n",
    "    for gene_set, genes in gene_sets.items():\n",
    "        column_name = f\"{cell_type}_{gene_set}\"\n",
    "        for gene in genes:\n",
    "            if column_name not in flattened_data:\n",
    "                flattened_data[column_name] = []\n",
    "            flattened_data[column_name].append(gene)\n",
    "\n",
    "    # Fill missing values with empty strings\n",
    "    max_length = max(len(genes) if genes else 0 for genes in flattened_data.values())\n",
    "    for column_name, genes in flattened_data.items():\n",
    "        if len(genes) < max_length:\n",
    "            flattened_data[column_name] += [''] * (max_length - len(genes))\n",
    "\n",
    "    # Create a DataFrame from the flattened data\n",
    "    df = pd.DataFrame(flattened_data)\n",
    "\n",
    "    # Remove empty columns\n",
    "    df = df.dropna(axis=1, how='all')\n",
    "\n",
    "    # Store the DataFrame in the dictionary with the cell type as the key\n",
    "    dfs_by_cell_type[cell_type] = df"
   ]
  },
  {
   "cell_type": "code",
   "execution_count": null,
   "metadata": {
    "execution": {
     "iopub.status.busy": "2024-05-22T09:36:50.925374Z",
     "iopub.status.idle": "2024-05-22T09:36:50.925556Z",
     "shell.execute_reply": "2024-05-22T09:36:50.925471Z",
     "shell.execute_reply.started": "2024-05-22T09:36:50.925462Z"
    }
   },
   "outputs": [],
   "source": [
    "path = \"/scratch_isilon/groups/singlecell/shared/projects/Inflammation-PBMCs-Atlas/03_downstream_analysis/02_gene_universe_definition/data/CYTOPUS_default_geneSets/\"\n",
    "for key, df in dfs_by_cell_type.items():\n",
    "    # Define the file name\n",
    "    file_name = f\"{path}/{key}_gene_sets.xlsx\"\n",
    "    # Write the DataFrame to an Excel file\n",
    "    df.to_excel(file_name, index=False)"
   ]
  },
  {
   "cell_type": "markdown",
   "metadata": {
    "id": "oqLbpf3qsFWF"
   },
   "source": [
    "**Number of gene sets per cell type**"
   ]
  },
  {
   "cell_type": "code",
   "execution_count": null,
   "metadata": {
    "execution": {
     "iopub.status.busy": "2024-05-22T09:36:50.926324Z",
     "iopub.status.idle": "2024-05-22T09:36:50.926558Z",
     "shell.execute_reply": "2024-05-22T09:36:50.926458Z",
     "shell.execute_reply.started": "2024-05-22T09:36:50.926449Z"
    }
   },
   "outputs": [],
   "source": [
    "# Initialize a dictionary to store the counts\n",
    "key_counts = {}\n",
    "\n",
    "# Loop through the keys and calculate the number of keys within each key\n",
    "total_count = 0\n",
    "for key, value in dfs_by_cell_type.items():\n",
    "    if isinstance(value, dict):\n",
    "        key_counts[key] = len(value)\n",
    "        total_count += len(value)\n",
    "    else:\n",
    "        key_counts[key] = 0\n",
    "\n",
    "# Print the number of keys within each key\n",
    "for key, count in key_counts.items():\n",
    "    print(f\"{key}: {count}\")\n",
    "\n",
    "print(f\"Total: {total_count}\")"
   ]
  },
  {
   "cell_type": "markdown",
   "metadata": {
    "id": "oqLbpf3qsFWF"
   },
   "source": [
    "**Number of genes per cell type**"
   ]
  },
  {
   "cell_type": "code",
   "execution_count": null,
   "metadata": {
    "execution": {
     "iopub.status.busy": "2024-05-22T09:36:50.927194Z",
     "iopub.status.idle": "2024-05-22T09:36:50.927382Z",
     "shell.execute_reply": "2024-05-22T09:36:50.927290Z",
     "shell.execute_reply.started": "2024-05-22T09:36:50.927282Z"
    }
   },
   "outputs": [],
   "source": [
    "# Initialize a dictionary to store the counts\n",
    "element_counts = {}\n",
    "\n",
    "# Loop through the keys and calculate the number of elements\n",
    "total_count = 0\n",
    "for key, value in gene_set_dict.items():\n",
    "    if isinstance(value, list):\n",
    "        element_counts[key] = len(value)\n",
    "        total_count += len(value)\n",
    "    elif isinstance(value, dict):\n",
    "        sub_count = sum(len(sub_value) for sub_value in value.values())\n",
    "        element_counts[key] = sub_count\n",
    "        total_count += sub_count\n",
    "    else:\n",
    "        element_counts[key] = 0\n",
    "\n",
    "# Print the element counts for each key\n",
    "for key, count in element_counts.items():\n",
    "    print(f\"{key}: {count}\")\n",
    "\n",
    "# Print the total count\n",
    "print(f\"Total: {total_count}\")"
   ]
  },
  {
   "cell_type": "markdown",
   "metadata": {
    "id": "ktOGTojasldB"
   },
   "source": [
    "# Save default Gene Set"
   ]
  },
  {
   "cell_type": "code",
   "execution_count": null,
   "metadata": {
    "execution": {
     "iopub.status.busy": "2024-05-22T09:36:50.928160Z",
     "iopub.status.idle": "2024-05-22T09:36:50.928373Z",
     "shell.execute_reply": "2024-05-22T09:36:50.928272Z",
     "shell.execute_reply.started": "2024-05-22T09:36:50.928263Z"
    }
   },
   "outputs": [],
   "source": [
    "import pickle"
   ]
  },
  {
   "cell_type": "code",
   "execution_count": null,
   "metadata": {
    "execution": {
     "iopub.status.busy": "2024-05-22T09:36:50.928984Z",
     "iopub.status.idle": "2024-05-22T09:36:50.929186Z",
     "shell.execute_reply": "2024-05-22T09:36:50.929088Z",
     "shell.execute_reply.started": "2024-05-22T09:36:50.929079Z"
    }
   },
   "outputs": [],
   "source": [
    "with open('/scratch_isilon/groups/singlecell/shared/projects/Inflammation-PBMCs-Atlas/03_downstream_analysis/02_gene_universe_definition/data/CYTOPUS_default_geneSets_dict.pickle', 'wb') as f:\n",
    "    pickle.dump(gene_set_dict, f, pickle.HIGHEST_PROTOCOL)"
   ]
  },
  {
   "cell_type": "code",
   "execution_count": null,
   "metadata": {
    "execution": {
     "iopub.status.busy": "2024-05-22T09:36:50.929650Z",
     "iopub.status.idle": "2024-05-22T09:36:50.930052Z",
     "shell.execute_reply": "2024-05-22T09:36:50.929939Z",
     "shell.execute_reply.started": "2024-05-22T09:36:50.929930Z"
    }
   },
   "outputs": [],
   "source": [
    "session_info.show()"
   ]
  }
 ],
 "metadata": {
  "colab": {
   "authorship_tag": "ABX9TyOp78KuTpVxQFJQD84jrAv/",
   "include_colab_link": true,
   "provenance": []
  },
  "kernelspec": {
   "display_name": "Python 3 (ipykernel)",
   "language": "python",
   "name": "python3"
  },
  "language_info": {
   "codemirror_mode": {
    "name": "ipython",
    "version": 3
   },
   "file_extension": ".py",
   "mimetype": "text/x-python",
   "name": "python",
   "nbconvert_exporter": "python",
   "pygments_lexer": "ipython3",
   "version": "3.10.13"
  }
 },
 "nbformat": 4,
 "nbformat_minor": 4
}
