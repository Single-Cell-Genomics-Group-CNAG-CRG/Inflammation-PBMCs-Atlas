{
 "cells": [
  {
   "cell_type": "code",
   "execution_count": 1,
   "id": "5fd14047-9462-4e5e-9d4e-f1dff35bffb2",
   "metadata": {
    "execution": {
     "iopub.execute_input": "2024-05-28T19:07:17.248740Z",
     "iopub.status.busy": "2024-05-28T19:07:17.246472Z",
     "iopub.status.idle": "2024-05-28T19:07:23.392502Z",
     "shell.execute_reply": "2024-05-28T19:07:23.391018Z"
    },
    "scrolled": true
   },
   "outputs": [
    {
     "name": "stderr",
     "output_type": "stream",
     "text": [
      "Loading required package: SummarizedExperiment\n",
      "\n",
      "Loading required package: MatrixGenerics\n",
      "\n",
      "Loading required package: matrixStats\n",
      "\n",
      "\n",
      "Attaching package: ‘MatrixGenerics’\n",
      "\n",
      "\n",
      "The following objects are masked from ‘package:matrixStats’:\n",
      "\n",
      "    colAlls, colAnyNAs, colAnys, colAvgsPerRowSet, colCollapse,\n",
      "    colCounts, colCummaxs, colCummins, colCumprods, colCumsums,\n",
      "    colDiffs, colIQRDiffs, colIQRs, colLogSumExps, colMadDiffs,\n",
      "    colMads, colMaxs, colMeans2, colMedians, colMins, colOrderStats,\n",
      "    colProds, colQuantiles, colRanges, colRanks, colSdDiffs, colSds,\n",
      "    colSums2, colTabulates, colVarDiffs, colVars, colWeightedMads,\n",
      "    colWeightedMeans, colWeightedMedians, colWeightedSds,\n",
      "    colWeightedVars, rowAlls, rowAnyNAs, rowAnys, rowAvgsPerColSet,\n",
      "    rowCollapse, rowCounts, rowCummaxs, rowCummins, rowCumprods,\n",
      "    rowCumsums, rowDiffs, rowIQRDiffs, rowIQRs, rowLogSumExps,\n",
      "    rowMadDiffs, rowMads, rowMaxs, rowMeans2, rowMedians, rowMins,\n",
      "    rowOrderStats, rowProds, rowQuantiles, rowRanges, rowRanks,\n",
      "    rowSdDiffs, rowSds, rowSums2, rowTabulates, rowVarDiffs, rowVars,\n",
      "    rowWeightedMads, rowWeightedMeans, rowWeightedMedians,\n",
      "    rowWeightedSds, rowWeightedVars\n",
      "\n",
      "\n",
      "Loading required package: GenomicRanges\n",
      "\n",
      "Loading required package: stats4\n",
      "\n",
      "Loading required package: BiocGenerics\n",
      "\n",
      "\n",
      "Attaching package: ‘BiocGenerics’\n",
      "\n",
      "\n",
      "The following objects are masked from ‘package:stats’:\n",
      "\n",
      "    IQR, mad, sd, var, xtabs\n",
      "\n",
      "\n",
      "The following objects are masked from ‘package:base’:\n",
      "\n",
      "    anyDuplicated, aperm, append, as.data.frame, basename, cbind,\n",
      "    colnames, dirname, do.call, duplicated, eval, evalq, Filter, Find,\n",
      "    get, grep, grepl, intersect, is.unsorted, lapply, Map, mapply,\n",
      "    match, mget, order, paste, pmax, pmax.int, pmin, pmin.int,\n",
      "    Position, rank, rbind, Reduce, rownames, sapply, setdiff, sort,\n",
      "    table, tapply, union, unique, unsplit, which.max, which.min\n",
      "\n",
      "\n",
      "Loading required package: S4Vectors\n",
      "\n",
      "\n",
      "Attaching package: ‘S4Vectors’\n",
      "\n",
      "\n",
      "The following objects are masked from ‘package:Matrix’:\n",
      "\n",
      "    expand, unname\n",
      "\n",
      "\n",
      "The following object is masked from ‘package:utils’:\n",
      "\n",
      "    findMatches\n",
      "\n",
      "\n",
      "The following objects are masked from ‘package:base’:\n",
      "\n",
      "    expand.grid, I, unname\n",
      "\n",
      "\n",
      "Loading required package: IRanges\n",
      "\n",
      "Loading required package: GenomeInfoDb\n",
      "\n",
      "Loading required package: Biobase\n",
      "\n",
      "Welcome to Bioconductor\n",
      "\n",
      "    Vignettes contain introductory material; view with\n",
      "    'browseVignettes()'. To cite Bioconductor, see\n",
      "    'citation(\"Biobase\")', and for packages 'citation(\"pkgname\")'.\n",
      "\n",
      "\n",
      "\n",
      "Attaching package: ‘Biobase’\n",
      "\n",
      "\n",
      "The following object is masked from ‘package:MatrixGenerics’:\n",
      "\n",
      "    rowMedians\n",
      "\n",
      "\n",
      "The following objects are masked from ‘package:matrixStats’:\n",
      "\n",
      "    anyMissing, rowMedians\n",
      "\n",
      "\n",
      "here() starts at /scratch_isilon/groups/singlecell/shared/projects/Inflammation-PBMCs-Atlas\n",
      "\n",
      "Loading required package: limma\n",
      "\n",
      "\n",
      "Attaching package: ‘limma’\n",
      "\n",
      "\n",
      "The following object is masked from ‘package:BiocGenerics’:\n",
      "\n",
      "    plotMA\n",
      "\n",
      "\n",
      "\n",
      "Attaching package: ‘edgeR’\n",
      "\n",
      "\n",
      "The following object is masked from ‘package:SingleCellExperiment’:\n",
      "\n",
      "    cpm\n",
      "\n",
      "\n",
      "Loading required package: iterators\n",
      "\n",
      "Loading required package: parallel\n",
      "\n"
     ]
    }
   ],
   "source": [
    "library(anndata)\n",
    "library(Matrix)\n",
    "\n",
    "\n",
    "library(SingleCellExperiment)\n",
    "\n",
    "library(here)\n",
    "\n",
    "library(edgeR)\n",
    "\n",
    "library(foreach)\n",
    "library(doParallel)"
   ]
  },
  {
   "cell_type": "markdown",
   "id": "b4fbac4f-d256-43b2-b71e-296654fb2abf",
   "metadata": {},
   "source": [
    "### Parameters"
   ]
  },
  {
   "cell_type": "code",
   "execution_count": 2,
   "id": "d5a18dac-7260-446d-a184-0d799d43d35c",
   "metadata": {
    "execution": {
     "iopub.execute_input": "2024-05-28T19:07:23.419728Z",
     "iopub.status.busy": "2024-05-28T19:07:23.394509Z",
     "iopub.status.idle": "2024-05-28T19:07:23.429158Z",
     "shell.execute_reply": "2024-05-28T19:07:23.427908Z"
    }
   },
   "outputs": [],
   "source": [
    "adjPvalThr = 0.01\n",
    "FCthr = 1.5"
   ]
  },
  {
   "cell_type": "markdown",
   "id": "f80c519e-7d13-4d49-84c9-8446bc45aed1",
   "metadata": {},
   "source": [
    "## Loading data"
   ]
  },
  {
   "cell_type": "code",
   "execution_count": 3,
   "id": "db846b7a-da31-4cde-8807-0b247a23345b",
   "metadata": {
    "execution": {
     "iopub.execute_input": "2024-05-28T19:07:23.432282Z",
     "iopub.status.busy": "2024-05-28T19:07:23.431221Z",
     "iopub.status.idle": "2024-05-28T19:07:23.440171Z",
     "shell.execute_reply": "2024-05-28T19:07:23.438972Z"
    }
   },
   "outputs": [],
   "source": [
    "adata_path <- here(\"03_downstream_analysis/02_gene_universe_definition/results/01_INFLAMMATION_annotated_pseudobulk.h5ad\")"
   ]
  },
  {
   "cell_type": "code",
   "execution_count": 4,
   "id": "56b208f1-c11c-41c5-b5b6-cf6d43877bb8",
   "metadata": {
    "execution": {
     "iopub.execute_input": "2024-05-28T19:07:23.443213Z",
     "iopub.status.busy": "2024-05-28T19:07:23.442164Z",
     "iopub.status.idle": "2024-05-28T19:07:29.754045Z",
     "shell.execute_reply": "2024-05-28T19:07:29.752756Z"
    }
   },
   "outputs": [
    {
     "data": {
      "text/plain": [
       "AnnData object with n_obs × n_vars = 7357 × 14101\n",
       "    obs: 'studyID', 'sampleID', 'chemistry', 'disease', 'sex', 'binned_age', 'Level1', 'psbulk_n_cells', 'psbulk_counts', 'disease_cat'\n",
       "    var: 'hgnc_id', 'symbol', 'locus_group', 'HUGO_status'"
      ]
     },
     "metadata": {},
     "output_type": "display_data"
    }
   ],
   "source": [
    "psdata <- read_h5ad(adata_path)\n",
    "psdata"
   ]
  },
  {
   "cell_type": "code",
   "execution_count": 5,
   "id": "be1651a4-164b-49bd-8247-f67ed106436a",
   "metadata": {
    "execution": {
     "iopub.execute_input": "2024-05-28T19:07:29.756893Z",
     "iopub.status.busy": "2024-05-28T19:07:29.755931Z",
     "iopub.status.idle": "2024-05-28T19:07:29.800507Z",
     "shell.execute_reply": "2024-05-28T19:07:29.799118Z"
    }
   },
   "outputs": [],
   "source": [
    "# makes sure that clinical covariates are available. Otherwise drop the patients\n",
    "psdata = psdata[!is.na(psdata$obs$binned_age)]\n",
    "psdata = psdata[!is.na(psdata$obs$sex)]"
   ]
  },
  {
   "cell_type": "markdown",
   "id": "fb1a96de-ad75-45db-97d6-63bd895ade46",
   "metadata": {},
   "source": [
    "### Convert anndata to *SingleCellExperiment* format"
   ]
  },
  {
   "cell_type": "code",
   "execution_count": 6,
   "id": "21d91543-a8a7-475c-8dc9-f065bfa192ab",
   "metadata": {
    "execution": {
     "iopub.execute_input": "2024-05-28T19:07:29.808326Z",
     "iopub.status.busy": "2024-05-28T19:07:29.806951Z",
     "iopub.status.idle": "2024-05-28T19:07:31.958931Z",
     "shell.execute_reply": "2024-05-28T19:07:31.957629Z"
    }
   },
   "outputs": [],
   "source": [
    "# Generating the SingleExperimentObject. \n",
    "# Notice that the count matrix has to be transposed because in sce rows include genes, while columns include samples.\n",
    "sce <- SingleCellExperiment(list(counts=t(psdata$X)), \n",
    "                           colData = DataFrame(psdata$obs),\n",
    "                           rowData = DataFrame(psdata$var),\n",
    "                           metadata=list(experiment_info=\"inflammationAtlas\"))"
   ]
  },
  {
   "cell_type": "code",
   "execution_count": 7,
   "id": "01b62261-08ed-4ccd-aa99-e03da7253f56",
   "metadata": {
    "execution": {
     "iopub.execute_input": "2024-05-28T19:07:31.961599Z",
     "iopub.status.busy": "2024-05-28T19:07:31.960688Z",
     "iopub.status.idle": "2024-05-28T19:07:31.977663Z",
     "shell.execute_reply": "2024-05-28T19:07:31.976527Z"
    }
   },
   "outputs": [
    {
     "data": {
      "text/html": [
       "<style>\n",
       ".list-inline {list-style: none; margin:0; padding: 0}\n",
       ".list-inline>li {display: inline-block}\n",
       ".list-inline>li:not(:last-child)::after {content: \"\\00b7\"; padding: 0 .5ex}\n",
       "</style>\n",
       "<ol class=list-inline><li>B</li><li>DC</li><li>ILC</li><li>Mono</li><li>Plasma</li><li>T_CD4_Naive</li><li>T_CD4_NonNaive</li><li>T_CD8_Naive</li><li>T_CD8_NonNaive</li><li>UTC</li><li>pDC</li></ol>\n",
       "\n",
       "<details>\n",
       "\t<summary style=display:list-item;cursor:pointer>\n",
       "\t\t<strong>Levels</strong>:\n",
       "\t</summary>\n",
       "\t<style>\n",
       "\t.list-inline {list-style: none; margin:0; padding: 0}\n",
       "\t.list-inline>li {display: inline-block}\n",
       "\t.list-inline>li:not(:last-child)::after {content: \"\\00b7\"; padding: 0 .5ex}\n",
       "\t</style>\n",
       "\t<ol class=list-inline><li>'B'</li><li>'DC'</li><li>'ILC'</li><li>'Mono'</li><li>'Plasma'</li><li>'T_CD4_Naive'</li><li>'T_CD4_NonNaive'</li><li>'T_CD8_Naive'</li><li>'T_CD8_NonNaive'</li><li>'UTC'</li><li>'pDC'</li></ol>\n",
       "</details>"
      ],
      "text/latex": [
       "\\begin{enumerate*}\n",
       "\\item B\n",
       "\\item DC\n",
       "\\item ILC\n",
       "\\item Mono\n",
       "\\item Plasma\n",
       "\\item T\\_CD4\\_Naive\n",
       "\\item T\\_CD4\\_NonNaive\n",
       "\\item T\\_CD8\\_Naive\n",
       "\\item T\\_CD8\\_NonNaive\n",
       "\\item UTC\n",
       "\\item pDC\n",
       "\\end{enumerate*}\n",
       "\n",
       "\\emph{Levels}: \\begin{enumerate*}\n",
       "\\item 'B'\n",
       "\\item 'DC'\n",
       "\\item 'ILC'\n",
       "\\item 'Mono'\n",
       "\\item 'Plasma'\n",
       "\\item 'T\\_CD4\\_Naive'\n",
       "\\item 'T\\_CD4\\_NonNaive'\n",
       "\\item 'T\\_CD8\\_Naive'\n",
       "\\item 'T\\_CD8\\_NonNaive'\n",
       "\\item 'UTC'\n",
       "\\item 'pDC'\n",
       "\\end{enumerate*}\n"
      ],
      "text/markdown": [
       "1. B\n",
       "2. DC\n",
       "3. ILC\n",
       "4. Mono\n",
       "5. Plasma\n",
       "6. T_CD4_Naive\n",
       "7. T_CD4_NonNaive\n",
       "8. T_CD8_Naive\n",
       "9. T_CD8_NonNaive\n",
       "10. UTC\n",
       "11. pDC\n",
       "\n",
       "\n",
       "\n",
       "**Levels**: 1. 'B'\n",
       "2. 'DC'\n",
       "3. 'ILC'\n",
       "4. 'Mono'\n",
       "5. 'Plasma'\n",
       "6. 'T_CD4_Naive'\n",
       "7. 'T_CD4_NonNaive'\n",
       "8. 'T_CD8_Naive'\n",
       "9. 'T_CD8_NonNaive'\n",
       "10. 'UTC'\n",
       "11. 'pDC'\n",
       "\n",
       "\n"
      ],
      "text/plain": [
       " [1] B              DC             ILC            Mono           Plasma        \n",
       " [6] T_CD4_Naive    T_CD4_NonNaive T_CD8_Naive    T_CD8_NonNaive UTC           \n",
       "[11] pDC           \n",
       "11 Levels: B DC ILC Mono Plasma T_CD4_Naive T_CD4_NonNaive ... pDC"
      ]
     },
     "metadata": {},
     "output_type": "display_data"
    }
   ],
   "source": [
    "unique(sce$Level1)"
   ]
  },
  {
   "cell_type": "code",
   "execution_count": 8,
   "id": "b752b895-2cfc-4956-b828-bf805f2dd480",
   "metadata": {
    "execution": {
     "iopub.execute_input": "2024-05-28T19:07:31.980300Z",
     "iopub.status.busy": "2024-05-28T19:07:31.979386Z",
     "iopub.status.idle": "2024-05-28T19:07:31.986672Z",
     "shell.execute_reply": "2024-05-28T19:07:31.985501Z"
    }
   },
   "outputs": [],
   "source": [
    "# merging togheter the two version of 5' sequencing protocol \n",
    "\n",
    "# colData(sce)$mainChem <- as.character(colData(sce)$ILCIC_chemistry)\n",
    "# colData(sce)$mainChem[startsWith(x = colData(sce)$mainChem, '5_prime')] <- '5_prime'\n",
    "# colData(sce)$mainChem <- as.factor(colData(sce)$mainChem)"
   ]
  },
  {
   "cell_type": "code",
   "execution_count": 9,
   "id": "a1eef056-83a1-49d1-bdc6-bf57321188f2",
   "metadata": {
    "execution": {
     "iopub.execute_input": "2024-05-28T19:07:31.989248Z",
     "iopub.status.busy": "2024-05-28T19:07:31.988350Z",
     "iopub.status.idle": "2024-05-28T19:07:31.997518Z",
     "shell.execute_reply": "2024-05-28T19:07:31.996339Z"
    }
   },
   "outputs": [],
   "source": [
    "diseases <- unique(colData(sce)$disease)"
   ]
  },
  {
   "cell_type": "code",
   "execution_count": 10,
   "id": "ed14faa2-584f-4d67-bb08-2dff4310fb4b",
   "metadata": {
    "execution": {
     "iopub.execute_input": "2024-05-28T19:07:32.000110Z",
     "iopub.status.busy": "2024-05-28T19:07:31.999204Z",
     "iopub.status.idle": "2024-05-28T19:07:32.007436Z",
     "shell.execute_reply": "2024-05-28T19:07:32.006309Z"
    }
   },
   "outputs": [],
   "source": [
    "conditionPairs<- t(combn(as.character(diseases), 2, simplify = TRUE))"
   ]
  },
  {
   "cell_type": "code",
   "execution_count": 11,
   "id": "3b4e13c2-6f77-452d-af46-a53baa1471e7",
   "metadata": {
    "execution": {
     "iopub.execute_input": "2024-05-28T19:07:32.010085Z",
     "iopub.status.busy": "2024-05-28T19:07:32.009182Z",
     "iopub.status.idle": "2024-05-28T19:07:32.017517Z",
     "shell.execute_reply": "2024-05-28T19:07:32.016402Z"
    }
   },
   "outputs": [],
   "source": [
    "conditionPairsFilt <- conditionPairs[(conditionPairs[,1] == 'healthy' | conditionPairs[,2] == 'healthy'),]\n",
    "#conditionPairsFilt <- conditionPairs"
   ]
  },
  {
   "cell_type": "markdown",
   "id": "2fc37676-9659-40b9-8aba-54ec9076a5ac",
   "metadata": {
    "jp-MarkdownHeadingCollapsed": true
   },
   "source": [
    "**For each condition pair and for each cell-type:**\n",
    "\n",
    "subset the sce object to keep only a pair of conditions"
   ]
  },
  {
   "cell_type": "code",
   "execution_count": 12,
   "id": "f0a8b6ae-aec1-4947-91a0-ba4750dc582f",
   "metadata": {
    "execution": {
     "iopub.execute_input": "2024-05-28T19:07:32.020149Z",
     "iopub.status.busy": "2024-05-28T19:07:32.019243Z",
     "iopub.status.idle": "2024-05-28T19:07:32.455452Z",
     "shell.execute_reply": "2024-05-28T19:07:32.454071Z"
    }
   },
   "outputs": [
    {
     "name": "stdout",
     "output_type": "stream",
     "text": [
      "socket cluster with 19 nodes on host ‘localhost’\n"
     ]
    }
   ],
   "source": [
    "n.cores <- 19\n",
    "my.cluster <- parallel::makeCluster(\n",
    "  n.cores, \n",
    "  type = \"PSOCK\"\n",
    "  )\n",
    "\n",
    "#check cluster definition (optional)\n",
    "print(my.cluster)"
   ]
  },
  {
   "cell_type": "code",
   "execution_count": 13,
   "id": "cf317cfc-6f40-4eeb-973e-ebec91685e97",
   "metadata": {
    "execution": {
     "iopub.execute_input": "2024-05-28T19:07:32.458635Z",
     "iopub.status.busy": "2024-05-28T19:07:32.457590Z",
     "iopub.status.idle": "2024-05-28T19:07:32.473066Z",
     "shell.execute_reply": "2024-05-28T19:07:32.471840Z"
    }
   },
   "outputs": [
    {
     "data": {
      "text/html": [
       "TRUE"
      ],
      "text/latex": [
       "TRUE"
      ],
      "text/markdown": [
       "TRUE"
      ],
      "text/plain": [
       "[1] TRUE"
      ]
     },
     "metadata": {},
     "output_type": "display_data"
    }
   ],
   "source": [
    "#register it to be used by %dopar%\n",
    "doParallel::registerDoParallel(cl = my.cluster)\n",
    "#check if it is registered (optional)\n",
    "foreach::getDoParRegistered()"
   ]
  },
  {
   "cell_type": "code",
   "execution_count": 14,
   "id": "cb278086-5621-47aa-a7ae-f1f791982664",
   "metadata": {
    "execution": {
     "iopub.execute_input": "2024-05-28T19:07:32.476097Z",
     "iopub.status.busy": "2024-05-28T19:07:32.475073Z",
     "iopub.status.idle": "2024-05-28T19:07:32.483779Z",
     "shell.execute_reply": "2024-05-28T19:07:32.482556Z"
    }
   },
   "outputs": [],
   "source": [
    "annotationCol = 'Level1'"
   ]
  },
  {
   "cell_type": "code",
   "execution_count": 15,
   "id": "eb773599-5d63-467b-b1a3-28d071888fb6",
   "metadata": {
    "execution": {
     "iopub.execute_input": "2024-05-28T19:07:32.486755Z",
     "iopub.status.busy": "2024-05-28T19:07:32.485733Z",
     "iopub.status.idle": "2024-05-28T19:24:24.846816Z",
     "shell.execute_reply": "2024-05-28T19:24:24.845388Z"
    }
   },
   "outputs": [],
   "source": [
    "logFile <- here(paste0('03_downstream_analysis/02_gene_universe_definition/results/DEGlogFile_', format(Sys.time(), \"%s\"), '.txt'))\n",
    "TTfinal <- DataFrame()\n",
    "TTfinal <- foreach(cP_i = 1:dim(conditionPairsFilt)[1],\n",
    "                   .combine = 'rbind',\n",
    "                   .packages = c('edgeR', 'SingleCellExperiment')) %dopar% {\n",
    "# for(cP_i in 1:dim(conditionPairsFilt)[1]) {\n",
    "    diseaseA <- conditionPairsFilt[cP_i,1]\n",
    "    diseaseB <- conditionPairsFilt[cP_i,2]\n",
    "\n",
    "    # healthy vs. other\n",
    "    if(diseaseB == 'healthy') {\n",
    "        diseaseB = diseaseA\n",
    "        diseaseA = 'healthy'\n",
    "    }\n",
    "\n",
    "    \n",
    "    # subset sce object to keep only selected diseases \n",
    "    sce_conditionsAB <- sce[,(colData(sce)$disease == diseaseA | colData(sce)$disease == diseaseB)]\n",
    "\n",
    "    # remove celltype with less than 2 patients\n",
    "    TctA <- table(colData(sce_conditionsAB)[[annotationCol]][colData(sce_conditionsAB)$disease == diseaseA])\n",
    "    TctB <- table(colData(sce_conditionsAB)[[annotationCol]][colData(sce_conditionsAB)$disease == diseaseB])\n",
    "    \n",
    "    sce_condition_filt <- sce_conditionsAB[,((sce_conditionsAB[[annotationCol]] %in% names(TctA)[TctA >= 3] ) & \n",
    "                                             (sce_conditionsAB[[annotationCol]] %in% names(TctB)[TctB >= 3] ))]\n",
    "\n",
    "\n",
    "\n",
    "    # cat(file = logFile, append = TRUE, 'Cell types included: ', paste0(unique(sce_condition_filt$cell_mainGroup_21Sep23), join = ', '))\n",
    "\n",
    "    cellTypes <- unique(sce_condition_filt[[annotationCol]])\n",
    "\n",
    "    # cat(file = logFile, append = TRUE, sep = '',\n",
    "    #         diseaseA, ' vs. ', diseaseB,' -- Cell-type considered: ',paste0(unique(sce[[annotationCol]]), collapse = ', '),\n",
    "    #         '\\n')\n",
    "        \n",
    "    # for each cell types included\n",
    "    DEGfinal <- data.frame()\n",
    "    \n",
    "    for(cellType_i in cellTypes){\n",
    "        \n",
    "        sce_condition_ct_filt <- sce_condition_filt[,sce_condition_filt[[annotationCol]] == cellType_i]\n",
    "    \n",
    "        # create the edgeR object\n",
    "        y <- DGEList(counts(sce_condition_ct_filt), samples=colData(sce_condition_ct_filt))\n",
    "\n",
    "        # filter genes by expression\n",
    "        keep <- filterByExpr(y, group = sce_condition_ct_filt$disease)\n",
    "        y <- y[keep,]\n",
    "    \n",
    "        # cat(file = logFile, append = TRUE, 'Gene kept (removed): ',summary(keep)[3],' (',summary(keep)[2],')')\n",
    "\n",
    "        # normalize expression\n",
    "        y <- calcNormFactors(y, logratioTrim = 0.3)        \n",
    "        \n",
    "        # defining the design\n",
    "        # The idea is to correct for main sequencing protocol (i.e., 3'v2, 3'v3, and 5') and for sex (m,f)\n",
    "        # Unfortunatelly, not all the condition pair are sequenced with different protocols, \n",
    "        # so here we check if there are at least 2 different factor for each covariate to create an appropriet design      \n",
    "        desFormula <- '~0 + factor(disease) + factor(chemistry)'\n",
    "        # if(length(unique(y$samples$chemistry)) > 1){\n",
    "        #     desFormula <- paste(desFormula, '+ factor(chemistry)')\n",
    "        # }\n",
    "        if(length(unique(y$samples$sex)) > 1){\n",
    "            desFormula <- paste(desFormula, '+ factor(sex)')\n",
    "        }\n",
    "        if(length(unique(y$samples$binned_age)) > 1){\n",
    "            desFormula <- paste(desFormula, '+ factor(binned_age)')\n",
    "        }\n",
    "        \n",
    "        # cat(file = logFile, append = TRUE, 'design: ', desFormula)\n",
    "\n",
    "        cat(file = logFile, append = TRUE, sep = '',\n",
    "            diseaseA, ' vs. ', diseaseB,' ', cP_i,'/',dim(conditionPairsFilt)[1], \n",
    "            '. ', cellType_i,\n",
    "            '. Gene kept(removed): ',summary(keep)[3],' (',summary(keep)[2],')',\n",
    "            '. Design: ', desFormula, \n",
    "            '\\n')\n",
    "        \n",
    "        design <- model.matrix(object = formula(desFormula), y$samples)\n",
    "        \n",
    "        # estimate dispersion\n",
    "        # cat(file = logFile, append = TRUE, 'Estimating dispersion')\n",
    "\n",
    "        y <- tryCatch(y <- estimateDisp(y, design), \n",
    "                      error = function(e) { \n",
    "                        cat(file = logFile, append = TRUE, sep = '',\n",
    "                        diseaseA, ' vs. ', diseaseB,' ', cP_i,'/',dim(conditionPairsFilt)[1], \n",
    "                        '. ', cellType_i, ' FAILED!\\n')\n",
    "                          y <- NULL\n",
    "                      })\n",
    "        \n",
    "        if(is.null(y)) { \n",
    "            next \n",
    "        }     \n",
    "        \n",
    "        # fit a quasi-likelihood model\n",
    "        # cat(file = logFile, append = TRUE, 'Quasi-likelihood fitting')\n",
    "        fit <- tryCatch(fit <- glmQLFit(y, design, robust=TRUE), \n",
    "                      error = function(e) { \n",
    "                        cat(file = logFile, append = TRUE, sep = '',\n",
    "                        diseaseA, ' vs. ', diseaseB,' ', cP_i,'/',dim(conditionPairsFilt)[1], \n",
    "                        '. ', cellType_i, ' FAILED!\\n')\n",
    "                          fit <- NULL\n",
    "                      })\n",
    "        \n",
    "        if(is.null(fit)) { \n",
    "            next \n",
    "        }     \n",
    "\n",
    "        # defining contrasts (first and second column includes the two conditions\n",
    "        contrast <- numeric(length(colnames(fit$coefficients)))\n",
    "        contrast[which(endsWith(colnames(fit$coefficients),paste0(')',diseaseA)))] <- 1\n",
    "        contrast[which(endsWith(colnames(fit$coefficients),paste0(')',diseaseB)))] <- -1\n",
    "\n",
    "        # cat(file = logFile, append = TRUE, 'DEG testing')\n",
    "        res <- glmQLFTest(fit, contrast=contrast)       \n",
    "\n",
    "        # result extraction\n",
    "        DEGres <- summary(decideTests(res))\n",
    "        \n",
    "        nDEGs <- DEGres['Up',] + DEGres['Down',]\n",
    "\n",
    "        # select only DEGs\n",
    "        TT <- topTags(res, n = Inf)\n",
    "\n",
    "        # cat(file = logFile, append = TRUE, '# DEGs: ', nDEGs)\n",
    "        \n",
    "        # Adding comparison information\n",
    "        TT$table['conditions'] <- paste0(diseaseA,'_vs_',diseaseB)\n",
    "        TT$table['cellType'] <- cellType_i\n",
    "        TT$table['genes'] <- rownames(TT$table)\n",
    "        rownames(TT$table) <- NULL\n",
    "    \n",
    "        # merge results with previous data\n",
    "        DEGfinal <- rbind(DEGfinal, TT$table)\n",
    "    }\n",
    "\n",
    "    # TTfinal <- rbind(TTfinal, DEGfinal)\n",
    "    return(DEGfinal)\n",
    "    \n",
    "}\n"
   ]
  },
  {
   "cell_type": "code",
   "execution_count": 16,
   "id": "630acaa6-535f-4751-8c3f-e32fc4b4561a",
   "metadata": {
    "execution": {
     "iopub.execute_input": "2024-05-28T19:24:24.849509Z",
     "iopub.status.busy": "2024-05-28T19:24:24.848583Z",
     "iopub.status.idle": "2024-05-28T19:24:24.871658Z",
     "shell.execute_reply": "2024-05-28T19:24:24.869914Z"
    }
   },
   "outputs": [],
   "source": [
    "parallel::stopCluster(cl = my.cluster)"
   ]
  },
  {
   "cell_type": "code",
   "execution_count": 17,
   "id": "52a70a69-a213-4995-bd92-2bf42c358831",
   "metadata": {
    "execution": {
     "iopub.execute_input": "2024-05-28T19:24:24.874587Z",
     "iopub.status.busy": "2024-05-28T19:24:24.873624Z",
     "iopub.status.idle": "2024-05-28T19:24:25.089686Z",
     "shell.execute_reply": "2024-05-28T19:24:25.088307Z"
    }
   },
   "outputs": [],
   "source": [
    "TTfinal$FDRfinal <- p.adjust(p = TTfinal$PValue, method = 'BH')"
   ]
  },
  {
   "cell_type": "code",
   "execution_count": 18,
   "id": "2ac0c81f-11d4-40fc-9d90-dcf20b4a982f",
   "metadata": {
    "execution": {
     "iopub.execute_input": "2024-05-28T19:24:25.092308Z",
     "iopub.status.busy": "2024-05-28T19:24:25.091406Z",
     "iopub.status.idle": "2024-05-28T19:24:25.147905Z",
     "shell.execute_reply": "2024-05-28T19:24:25.146515Z"
    }
   },
   "outputs": [],
   "source": [
    "DEG <- unique(TTfinal$genes[TTfinal$FDRfinal < adjPvalThr & abs(TTfinal$logFC) > FCthr])\n",
    "disease <- TTfinal$conditions[TTfinal$FDRfinal < adjPvalThr & abs(TTfinal$logFC) > FCthr]"
   ]
  },
  {
   "cell_type": "code",
   "execution_count": 19,
   "id": "a8a8434b-9901-41bb-aa21-8ead65d6681b",
   "metadata": {
    "execution": {
     "iopub.execute_input": "2024-05-28T19:24:25.150529Z",
     "iopub.status.busy": "2024-05-28T19:24:25.149626Z",
     "iopub.status.idle": "2024-05-28T19:24:25.159483Z",
     "shell.execute_reply": "2024-05-28T19:24:25.158406Z"
    }
   },
   "outputs": [
    {
     "data": {
      "text/html": [
       "6868"
      ],
      "text/latex": [
       "6868"
      ],
      "text/markdown": [
       "6868"
      ],
      "text/plain": [
       "[1] 6868"
      ]
     },
     "metadata": {},
     "output_type": "display_data"
    }
   ],
   "source": [
    "length(DEG)"
   ]
  },
  {
   "cell_type": "code",
   "execution_count": 20,
   "id": "e84f23ab-dede-424f-a445-927e11663105",
   "metadata": {
    "execution": {
     "iopub.execute_input": "2024-05-28T19:24:25.162027Z",
     "iopub.status.busy": "2024-05-28T19:24:25.161136Z",
     "iopub.status.idle": "2024-05-28T19:24:25.170980Z",
     "shell.execute_reply": "2024-05-28T19:24:25.169905Z"
    }
   },
   "outputs": [
    {
     "data": {
      "text/html": [
       "19"
      ],
      "text/latex": [
       "19"
      ],
      "text/markdown": [
       "19"
      ],
      "text/plain": [
       "[1] 19"
      ]
     },
     "metadata": {},
     "output_type": "display_data"
    }
   ],
   "source": [
    "length(unique(disease))"
   ]
  },
  {
   "cell_type": "code",
   "execution_count": 21,
   "id": "700f3446-025a-4392-b8f3-f73e2bff9d41",
   "metadata": {
    "execution": {
     "iopub.execute_input": "2024-05-28T19:24:25.173515Z",
     "iopub.status.busy": "2024-05-28T19:24:25.172625Z",
     "iopub.status.idle": "2024-05-28T19:24:25.221685Z",
     "shell.execute_reply": "2024-05-28T19:24:25.220322Z"
    }
   },
   "outputs": [],
   "source": [
    "TTfinal_DEGfilt <- TTfinal[TTfinal$FDRfinal < adjPvalThr & abs(TTfinal$logFC) > FCthr,]"
   ]
  },
  {
   "cell_type": "code",
   "execution_count": 22,
   "id": "b06d0dc8-fc50-40ed-938b-5979b31c698c",
   "metadata": {
    "execution": {
     "iopub.execute_input": "2024-05-28T19:24:25.224288Z",
     "iopub.status.busy": "2024-05-28T19:24:25.223388Z",
     "iopub.status.idle": "2024-05-28T19:24:28.776092Z",
     "shell.execute_reply": "2024-05-28T19:24:28.774720Z"
    }
   },
   "outputs": [],
   "source": [
    "write.table(x = TTfinal_DEGfilt, file = here('03_downstream_analysis/02_gene_universe_definition/results/03_DEhealthyVSothers_DEGsel.csv'), sep = '\\t', col.names = TRUE, row.names = FALSE, quote = FALSE)"
   ]
  },
  {
   "cell_type": "code",
   "execution_count": 65,
   "id": "25de5fc9-f7f4-4375-ae9d-8ebd79226693",
   "metadata": {
    "execution": {
     "iopub.execute_input": "2024-05-28T17:47:23.140396Z",
     "iopub.status.busy": "2024-05-28T17:47:23.139435Z",
     "iopub.status.idle": "2024-05-28T17:47:28.258645Z",
     "shell.execute_reply": "2024-05-28T17:47:28.257127Z"
    }
   },
   "outputs": [],
   "source": [
    "saveRDS(object = TTfinal, file = here('03_downstream_analysis/02_gene_universe_definition/results/03_DEhealthyVSothers_allGene.rds'))"
   ]
  },
  {
   "cell_type": "code",
   "execution_count": 66,
   "id": "7a28036c-995a-4a2f-b405-e2cc45dc82e9",
   "metadata": {
    "execution": {
     "iopub.execute_input": "2024-05-28T17:47:28.261588Z",
     "iopub.status.busy": "2024-05-28T17:47:28.260568Z",
     "iopub.status.idle": "2024-05-28T17:47:42.375928Z",
     "shell.execute_reply": "2024-05-28T17:47:42.374420Z"
    }
   },
   "outputs": [],
   "source": [
    "write.table(x = TTfinal, file = here('03_downstream_analysis/02_gene_universe_definition/results/03_DEhealthyVSothers_allGene.csv'), sep = '\\t', col.names = TRUE, row.names = FALSE, quote = FALSE)"
   ]
  },
  {
   "cell_type": "markdown",
   "id": "01925abe-1f5e-41d6-ac5a-3dd5e0c2d042",
   "metadata": {},
   "source": [
    "### Exploring list of DEG - Healthy vs. each other condition"
   ]
  },
  {
   "cell_type": "code",
   "execution_count": 67,
   "id": "90901d25-e259-49d9-b738-244e61ab9b91",
   "metadata": {
    "execution": {
     "iopub.execute_input": "2024-05-28T17:47:42.378844Z",
     "iopub.status.busy": "2024-05-28T17:47:42.377836Z",
     "iopub.status.idle": "2024-05-28T17:47:44.173047Z",
     "shell.execute_reply": "2024-05-28T17:47:44.171555Z"
    }
   },
   "outputs": [],
   "source": [
    "# Loading the results\n",
    "TTfinal <-  readRDS(here('03_downstream_analysis/02_gene_universe_definition/results/03_DEhealthyVSothers_allGene.rds'))"
   ]
  },
  {
   "cell_type": "code",
   "execution_count": 68,
   "id": "77e3dfe6-b062-4e58-9f0c-aabe83c7c313",
   "metadata": {
    "execution": {
     "iopub.execute_input": "2024-05-28T17:47:44.175992Z",
     "iopub.status.busy": "2024-05-28T17:47:44.174972Z",
     "iopub.status.idle": "2024-05-28T17:47:44.213671Z",
     "shell.execute_reply": "2024-05-28T17:47:44.212444Z"
    }
   },
   "outputs": [
    {
     "data": {
      "text/html": [
       "6868"
      ],
      "text/latex": [
       "6868"
      ],
      "text/markdown": [
       "6868"
      ],
      "text/plain": [
       "[1] 6868"
      ]
     },
     "metadata": {},
     "output_type": "display_data"
    }
   ],
   "source": [
    "DEG <- unique(TTfinal$genes[TTfinal$FDRfinal < adjPvalThr & abs(TTfinal$logFC) > FCthr])\n",
    "length(DEG)"
   ]
  },
  {
   "cell_type": "code",
   "execution_count": 69,
   "id": "3a547eee-f29a-48df-8f70-6e3b16c6001c",
   "metadata": {
    "execution": {
     "iopub.execute_input": "2024-05-28T17:47:44.216428Z",
     "iopub.status.busy": "2024-05-28T17:47:44.215421Z",
     "iopub.status.idle": "2024-05-28T17:47:44.253624Z",
     "shell.execute_reply": "2024-05-28T17:47:44.252344Z"
    }
   },
   "outputs": [
    {
     "data": {
      "text/plain": [
       "\n",
       "   healthy_vs_asthma      healthy_vs_BRCA        healthy_vs_CD \n",
       "                1377                 6592                 1368 \n",
       "healthy_vs_cirrhosis      healthy_vs_COPD     healthy_vs_COVID \n",
       "                 906                  739                 1614 \n",
       "      healthy_vs_CRC       healthy_vs_flu       healthy_vs_HBV \n",
       "                2985                 2041                 7510 \n",
       "      healthy_vs_HIV     healthy_vs_HNSCC        healthy_vs_MS \n",
       "                4394                 1532                 4032 \n",
       "      healthy_vs_NPC        healthy_vs_PS       healthy_vs_PSA \n",
       "                6602                 1624                 1450 \n",
       "       healthy_vs_RA    healthy_vs_sepsis       healthy_vs_SLE \n",
       "                1425                 1208                  210 \n",
       "       healthy_vs_UC \n",
       "                1541 "
      ]
     },
     "metadata": {},
     "output_type": "display_data"
    }
   ],
   "source": [
    "table(TTfinal$conditions[TTfinal$FDRfinal < adjPvalThr & abs(TTfinal$logFC) > FCthr])"
   ]
  },
  {
   "cell_type": "code",
   "execution_count": 70,
   "id": "aef8e7ed-34b1-4ba1-a07a-a299d40f2aeb",
   "metadata": {
    "execution": {
     "iopub.execute_input": "2024-05-28T17:47:44.256485Z",
     "iopub.status.busy": "2024-05-28T17:47:44.255492Z",
     "iopub.status.idle": "2024-05-28T17:47:44.363204Z",
     "shell.execute_reply": "2024-05-28T17:47:44.362104Z"
    }
   },
   "outputs": [
    {
     "data": {
      "image/png": "[encoded data removed]",
      "text/plain": [
       "Plot with title “”"
      ]
     },
     "metadata": {
      "image/png": {
       "height": 420,
       "width": 420
      }
     },
     "output_type": "display_data"
    }
   ],
   "source": [
    "hist(table(TTfinal$genes[TTfinal$FDRfinal < adjPvalThr & abs(TTfinal$logFC) > FCthr]), \n",
    "     breaks = 20, \n",
    "     main = '',\n",
    "     xlab=\"Pairwise comparison (#)\", \n",
    "    ylab = 'DEG (#)')\n"
   ]
  },
  {
   "cell_type": "code",
   "execution_count": 71,
   "id": "e4e2b236-4d8e-4e45-93ca-d74256cf1da0",
   "metadata": {
    "execution": {
     "iopub.execute_input": "2024-05-28T17:47:44.365838Z",
     "iopub.status.busy": "2024-05-28T17:47:44.364936Z",
     "iopub.status.idle": "2024-05-28T17:47:44.380474Z",
     "shell.execute_reply": "2024-05-28T17:47:44.379355Z"
    }
   },
   "outputs": [
    {
     "data": {
      "text/plain": [
       "DataFrame with 6868 rows and 1 column\n",
       "                 DEG\n",
       "         <character>\n",
       "1    ENSG00000229809\n",
       "2    ENSG00000119772\n",
       "3    ENSG00000180011\n",
       "4    ENSG00000196712\n",
       "5    ENSG00000136504\n",
       "...              ...\n",
       "6864 ENSG00000037637\n",
       "6865 ENSG00000198865\n",
       "6866 ENSG00000175854\n",
       "6867 ENSG00000105426\n",
       "6868 ENSG00000198246"
      ]
     },
     "metadata": {},
     "output_type": "display_data"
    }
   ],
   "source": [
    "DEGt <- DataFrame(DEG = DEG)\n",
    "DEGt"
   ]
  },
  {
   "cell_type": "code",
   "execution_count": 72,
   "id": "94b6799b-2af6-4547-b1a1-64fd01af9e20",
   "metadata": {
    "execution": {
     "iopub.execute_input": "2024-05-28T17:47:44.383113Z",
     "iopub.status.busy": "2024-05-28T17:47:44.382206Z",
     "iopub.status.idle": "2024-05-28T17:47:44.416524Z",
     "shell.execute_reply": "2024-05-28T17:47:44.415225Z"
    }
   },
   "outputs": [],
   "source": [
    "write.table(x = DEGt, quote = FALSE, sep = '\\t', row.names = FALSE, col.names = TRUE,\n",
    "            file = here('03_downstream_analysis/02_gene_universe_definition/results/03_DEG_healty_vs_others_list.csv'))"
   ]
  }
 ],
 "metadata": {
  "kernelspec": {
   "display_name": "R",
   "language": "R",
   "name": "ir"
  },
  "language_info": {
   "codemirror_mode": "r",
   "file_extension": ".r",
   "mimetype": "text/x-r-source",
   "name": "R",
   "pygments_lexer": "r",
   "version": "4.3.3"
  }
 },
 "nbformat": 4,
 "nbformat_minor": 5
}
