{
 "cells": [
  {
   "cell_type": "code",
   "execution_count": 1,
   "id": "274713b1-094b-446a-8879-14fde29953ac",
   "metadata": {
    "execution": {
     "iopub.execute_input": "2024-05-27T14:48:58.754246Z",
     "iopub.status.busy": "2024-05-27T14:48:58.753894Z",
     "iopub.status.idle": "2024-05-27T14:49:24.645842Z",
     "shell.execute_reply": "2024-05-27T14:49:24.645375Z",
     "shell.execute_reply.started": "2024-05-27T14:48:58.754226Z"
    }
   },
   "outputs": [],
   "source": [
    "import numpy as np\n",
    "import json \n",
    "import scanpy as sc\n",
    "from collections import OrderedDict\n",
    "import scipy \n",
    "import pandas as pd\n",
    "import matplotlib.pyplot as plt\n",
    "import os\n",
    "\n",
    "import pickle\n",
    "\n",
    "import warnings\n",
    "import sys\n",
    "\n",
    "from pyprojroot import here\n",
    "\n",
    "warnings.filterwarnings(\"ignore\")\n",
    "sys.path.insert(1, str(here('bin')))\n",
    "\n",
    "# Import functions\n",
    "from customPythonFunctions import generateID2SymbolDF"
   ]
  },
  {
   "cell_type": "code",
   "execution_count": 2,
   "id": "31414e27-3ad4-4b27-97cd-9df944e4b17f",
   "metadata": {
    "execution": {
     "iopub.execute_input": "2024-05-27T14:49:24.646995Z",
     "iopub.status.busy": "2024-05-27T14:49:24.646701Z",
     "iopub.status.idle": "2024-05-27T14:49:27.555687Z",
     "shell.execute_reply": "2024-05-27T14:49:27.555165Z",
     "shell.execute_reply.started": "2024-05-27T14:49:24.646972Z"
    }
   },
   "outputs": [],
   "source": [
    "#spectra imports \n",
    "import Spectra as spc\n",
    "from Spectra import Spectra_util as spc_tl\n",
    "from Spectra import K_est as kst\n",
    "from Spectra import default_gene_sets\n",
    "\n",
    "#KnowledgeBase imports\n",
    "import cytopus as cp"
   ]
  },
  {
   "cell_type": "markdown",
   "id": "37f397bb-d830-43ae-b12c-cc84fdb73e2b",
   "metadata": {},
   "source": [
    "# Import GeneSets"
   ]
  },
  {
   "cell_type": "code",
   "execution_count": 3,
   "id": "7faeafeb-40b7-4297-b57e-913a7ecbb1b5",
   "metadata": {
    "execution": {
     "iopub.execute_input": "2024-05-27T14:49:27.556639Z",
     "iopub.status.busy": "2024-05-27T14:49:27.556297Z",
     "iopub.status.idle": "2024-05-27T14:49:27.558896Z",
     "shell.execute_reply": "2024-05-27T14:49:27.558535Z",
     "shell.execute_reply.started": "2024-05-27T14:49:27.556620Z"
    }
   },
   "outputs": [],
   "source": [
    "workDir = \"/scratch_isilon/groups/singlecell/shared/projects/Inflammation-PBMCs-Atlas/\""
   ]
  },
  {
   "cell_type": "markdown",
   "id": "b2c635a7-05a7-4806-a4e7-538cbf887134",
   "metadata": {},
   "source": [
    "## Global"
   ]
  },
  {
   "cell_type": "code",
   "execution_count": 4,
   "id": "294803ca-1831-4c3b-95ff-93e16778810f",
   "metadata": {
    "execution": {
     "iopub.execute_input": "2024-05-27T14:49:27.560096Z",
     "iopub.status.busy": "2024-05-27T14:49:27.559866Z",
     "iopub.status.idle": "2024-05-27T14:49:27.588027Z",
     "shell.execute_reply": "2024-05-27T14:49:27.587678Z",
     "shell.execute_reply.started": "2024-05-27T14:49:27.560079Z"
    }
   },
   "outputs": [
    {
     "name": "stdout",
     "output_type": "stream",
     "text": [
      "/scratch_isilon/groups/singlecell/shared/projects/Inflammation-PBMCs-Atlas/03_downstream_analysis/02_gene_universe_definition/data/CuratedLiterature_geneSets.xlsx\n"
     ]
    }
   ],
   "source": [
    "global_GeneSet_path = workDir + \"03_downstream_analysis/02_gene_universe_definition/data/CuratedLiterature_geneSets.xlsx\"\n",
    "print(global_GeneSet_path)"
   ]
  },
  {
   "cell_type": "code",
   "execution_count": 5,
   "id": "921e5cf1-daa9-4cb3-9ad4-ed6427f890dc",
   "metadata": {
    "execution": {
     "iopub.execute_input": "2024-05-27T14:49:27.588779Z",
     "iopub.status.busy": "2024-05-27T14:49:27.588504Z",
     "iopub.status.idle": "2024-05-27T14:49:28.441868Z",
     "shell.execute_reply": "2024-05-27T14:49:28.441436Z",
     "shell.execute_reply.started": "2024-05-27T14:49:27.588763Z"
    }
   },
   "outputs": [],
   "source": [
    "global_GS = pd.read_excel(global_GeneSet_path)"
   ]
  },
  {
   "cell_type": "code",
   "execution_count": 6,
   "id": "726e6658-3663-42a2-8ce3-f2bc84379c10",
   "metadata": {
    "execution": {
     "iopub.execute_input": "2024-05-27T14:49:28.442617Z",
     "iopub.status.busy": "2024-05-27T14:49:28.442449Z",
     "iopub.status.idle": "2024-05-27T14:49:28.458909Z",
     "shell.execute_reply": "2024-05-27T14:49:28.458557Z",
     "shell.execute_reply.started": "2024-05-27T14:49:28.442599Z"
    }
   },
   "outputs": [
    {
     "data": {
      "text/html": [
       "<div>\n",
       "<style scoped>\n",
       "    .dataframe tbody tr th:only-of-type {\n",
       "        vertical-align: middle;\n",
       "    }\n",
       "\n",
       "    .dataframe tbody tr th {\n",
       "        vertical-align: top;\n",
       "    }\n",
       "\n",
       "    .dataframe thead th {\n",
       "        text-align: right;\n",
       "    }\n",
       "</style>\n",
       "<table border=\"1\" class=\"dataframe\">\n",
       "  <thead>\n",
       "    <tr style=\"text-align: right;\">\n",
       "      <th></th>\n",
       "      <th>chemokines</th>\n",
       "      <th>chemokine_receptors</th>\n",
       "      <th>cytokine_and_receptors_proinflammatory</th>\n",
       "      <th>cytokine_and receptors_ antiinflammatory</th>\n",
       "      <th>global_all_IL6-JAK-STAT3_signaling</th>\n",
       "      <th>global_all_JAK-STAT_signaling</th>\n",
       "      <th>global_all_type-I and II-ifn-response</th>\n",
       "      <th>IFN_Type_1_2_Lambda</th>\n",
       "      <th>IFN_response</th>\n",
       "      <th>global_all_TNF-via-NFkB_signaling</th>\n",
       "      <th>TNF_receptors_ligands</th>\n",
       "      <th>adhesion_molecules</th>\n",
       "      <th>antigen_presentation_molecules</th>\n",
       "      <th>global_all_MHC-II-I presentation</th>\n",
       "      <th>global_all_complement_production</th>\n",
       "    </tr>\n",
       "  </thead>\n",
       "  <tbody>\n",
       "    <tr>\n",
       "      <th>0</th>\n",
       "      <td>XCL1</td>\n",
       "      <td>CCR1</td>\n",
       "      <td>IL1A</td>\n",
       "      <td>CSF1</td>\n",
       "      <td>TYK2</td>\n",
       "      <td>PIK3R2</td>\n",
       "      <td>LY6E</td>\n",
       "      <td>IFNA1</td>\n",
       "      <td>IFIT1</td>\n",
       "      <td>PDE4B</td>\n",
       "      <td>TNFRSF1A</td>\n",
       "      <td>ALCAM</td>\n",
       "      <td>ABCB5</td>\n",
       "      <td>HLA-DQB3</td>\n",
       "      <td>C1S</td>\n",
       "    </tr>\n",
       "    <tr>\n",
       "      <th>1</th>\n",
       "      <td>XCL2</td>\n",
       "      <td>CCR2</td>\n",
       "      <td>IL1B</td>\n",
       "      <td>IL1F10</td>\n",
       "      <td>IL18R1</td>\n",
       "      <td>IL10RB</td>\n",
       "      <td>TREX1</td>\n",
       "      <td>IFNA2</td>\n",
       "      <td>IFIT2</td>\n",
       "      <td>PTGER4</td>\n",
       "      <td>TNFRSF1B</td>\n",
       "      <td>CADM1</td>\n",
       "      <td>B2M</td>\n",
       "      <td>HLA-DQA1</td>\n",
       "      <td>C1QA</td>\n",
       "    </tr>\n",
       "    <tr>\n",
       "      <th>2</th>\n",
       "      <td>CX3CL1</td>\n",
       "      <td>CCR3</td>\n",
       "      <td>IL6</td>\n",
       "      <td>IL10</td>\n",
       "      <td>ITGA4</td>\n",
       "      <td>SPRED2</td>\n",
       "      <td>DDX58</td>\n",
       "      <td>IFNA4</td>\n",
       "      <td>IFIT3</td>\n",
       "      <td>ATP2B1</td>\n",
       "      <td>TNFRSF4</td>\n",
       "      <td>CADM3</td>\n",
       "      <td>CALR</td>\n",
       "      <td>HLA-DPA2</td>\n",
       "      <td>C4A</td>\n",
       "    </tr>\n",
       "    <tr>\n",
       "      <th>3</th>\n",
       "      <td>CCL1</td>\n",
       "      <td>CCR4</td>\n",
       "      <td>LIF</td>\n",
       "      <td>IL12A</td>\n",
       "      <td>CSF2RA</td>\n",
       "      <td>IFNAR1</td>\n",
       "      <td>IFI44L</td>\n",
       "      <td>IFNA5</td>\n",
       "      <td>IFIT5</td>\n",
       "      <td>CCL2</td>\n",
       "      <td>TNFRSF6B</td>\n",
       "      <td>CD22</td>\n",
       "      <td>CANX</td>\n",
       "      <td>HLA-DQA2</td>\n",
       "      <td>CFB</td>\n",
       "    </tr>\n",
       "    <tr>\n",
       "      <th>4</th>\n",
       "      <td>CCL2</td>\n",
       "      <td>CCR5</td>\n",
       "      <td>CSF2</td>\n",
       "      <td>IL12B</td>\n",
       "      <td>SOCS1</td>\n",
       "      <td>LIF</td>\n",
       "      <td>MCOLN2</td>\n",
       "      <td>IFNA6</td>\n",
       "      <td>ISG15</td>\n",
       "      <td>TAP1</td>\n",
       "      <td>TNFRSF8</td>\n",
       "      <td>CD226</td>\n",
       "      <td>ERAP1</td>\n",
       "      <td>HLA-DPB2</td>\n",
       "      <td>C1QB</td>\n",
       "    </tr>\n",
       "    <tr>\n",
       "      <th>...</th>\n",
       "      <td>...</td>\n",
       "      <td>...</td>\n",
       "      <td>...</td>\n",
       "      <td>...</td>\n",
       "      <td>...</td>\n",
       "      <td>...</td>\n",
       "      <td>...</td>\n",
       "      <td>...</td>\n",
       "      <td>...</td>\n",
       "      <td>...</td>\n",
       "      <td>...</td>\n",
       "      <td>...</td>\n",
       "      <td>...</td>\n",
       "      <td>...</td>\n",
       "      <td>...</td>\n",
       "    </tr>\n",
       "    <tr>\n",
       "      <th>197</th>\n",
       "      <td>NaN</td>\n",
       "      <td>NaN</td>\n",
       "      <td>NaN</td>\n",
       "      <td>NaN</td>\n",
       "      <td>NaN</td>\n",
       "      <td>NaN</td>\n",
       "      <td>NaN</td>\n",
       "      <td>NaN</td>\n",
       "      <td>NaN</td>\n",
       "      <td>MXD1</td>\n",
       "      <td>NaN</td>\n",
       "      <td>NaN</td>\n",
       "      <td>NaN</td>\n",
       "      <td>NaN</td>\n",
       "      <td>NaN</td>\n",
       "    </tr>\n",
       "    <tr>\n",
       "      <th>198</th>\n",
       "      <td>NaN</td>\n",
       "      <td>NaN</td>\n",
       "      <td>NaN</td>\n",
       "      <td>NaN</td>\n",
       "      <td>NaN</td>\n",
       "      <td>NaN</td>\n",
       "      <td>NaN</td>\n",
       "      <td>NaN</td>\n",
       "      <td>NaN</td>\n",
       "      <td>PTGS2</td>\n",
       "      <td>NaN</td>\n",
       "      <td>NaN</td>\n",
       "      <td>NaN</td>\n",
       "      <td>NaN</td>\n",
       "      <td>NaN</td>\n",
       "    </tr>\n",
       "    <tr>\n",
       "      <th>199</th>\n",
       "      <td>NaN</td>\n",
       "      <td>NaN</td>\n",
       "      <td>NaN</td>\n",
       "      <td>NaN</td>\n",
       "      <td>NaN</td>\n",
       "      <td>NaN</td>\n",
       "      <td>NaN</td>\n",
       "      <td>NaN</td>\n",
       "      <td>NaN</td>\n",
       "      <td>TUBB2A</td>\n",
       "      <td>NaN</td>\n",
       "      <td>NaN</td>\n",
       "      <td>NaN</td>\n",
       "      <td>NaN</td>\n",
       "      <td>NaN</td>\n",
       "    </tr>\n",
       "    <tr>\n",
       "      <th>200</th>\n",
       "      <td>NaN</td>\n",
       "      <td>NaN</td>\n",
       "      <td>NaN</td>\n",
       "      <td>NaN</td>\n",
       "      <td>NaN</td>\n",
       "      <td>NaN</td>\n",
       "      <td>NaN</td>\n",
       "      <td>NaN</td>\n",
       "      <td>NaN</td>\n",
       "      <td>ACKR3</td>\n",
       "      <td>NaN</td>\n",
       "      <td>NaN</td>\n",
       "      <td>NaN</td>\n",
       "      <td>NaN</td>\n",
       "      <td>NaN</td>\n",
       "    </tr>\n",
       "    <tr>\n",
       "      <th>201</th>\n",
       "      <td>NaN</td>\n",
       "      <td>NaN</td>\n",
       "      <td>NaN</td>\n",
       "      <td>NaN</td>\n",
       "      <td>NaN</td>\n",
       "      <td>NaN</td>\n",
       "      <td>NaN</td>\n",
       "      <td>NaN</td>\n",
       "      <td>NaN</td>\n",
       "      <td>TNFAIP8</td>\n",
       "      <td>NaN</td>\n",
       "      <td>NaN</td>\n",
       "      <td>NaN</td>\n",
       "      <td>NaN</td>\n",
       "      <td>NaN</td>\n",
       "    </tr>\n",
       "  </tbody>\n",
       "</table>\n",
       "<p>202 rows × 15 columns</p>\n",
       "</div>"
      ],
      "text/plain": [
       "    chemokines chemokine_receptors cytokine_and_receptors_proinflammatory  \\\n",
       "0         XCL1                CCR1                                   IL1A   \n",
       "1         XCL2                CCR2                                   IL1B   \n",
       "2       CX3CL1                CCR3                                    IL6   \n",
       "3         CCL1                CCR4                                    LIF   \n",
       "4         CCL2                CCR5                                   CSF2   \n",
       "..         ...                 ...                                    ...   \n",
       "197        NaN                 NaN                                    NaN   \n",
       "198        NaN                 NaN                                    NaN   \n",
       "199        NaN                 NaN                                    NaN   \n",
       "200        NaN                 NaN                                    NaN   \n",
       "201        NaN                 NaN                                    NaN   \n",
       "\n",
       "    cytokine_and receptors_ antiinflammatory  \\\n",
       "0                                       CSF1   \n",
       "1                                     IL1F10   \n",
       "2                                       IL10   \n",
       "3                                      IL12A   \n",
       "4                                      IL12B   \n",
       "..                                       ...   \n",
       "197                                      NaN   \n",
       "198                                      NaN   \n",
       "199                                      NaN   \n",
       "200                                      NaN   \n",
       "201                                      NaN   \n",
       "\n",
       "    global_all_IL6-JAK-STAT3_signaling global_all_JAK-STAT_signaling  \\\n",
       "0                                 TYK2                        PIK3R2   \n",
       "1                               IL18R1                        IL10RB   \n",
       "2                                ITGA4                        SPRED2   \n",
       "3                               CSF2RA                        IFNAR1   \n",
       "4                                SOCS1                           LIF   \n",
       "..                                 ...                           ...   \n",
       "197                                NaN                           NaN   \n",
       "198                                NaN                           NaN   \n",
       "199                                NaN                           NaN   \n",
       "200                                NaN                           NaN   \n",
       "201                                NaN                           NaN   \n",
       "\n",
       "    global_all_type-I and II-ifn-response IFN_Type_1_2_Lambda IFN_response  \\\n",
       "0                                    LY6E               IFNA1        IFIT1   \n",
       "1                                   TREX1               IFNA2        IFIT2   \n",
       "2                                   DDX58               IFNA4        IFIT3   \n",
       "3                                  IFI44L               IFNA5        IFIT5   \n",
       "4                                  MCOLN2               IFNA6        ISG15   \n",
       "..                                    ...                 ...          ...   \n",
       "197                                   NaN                 NaN          NaN   \n",
       "198                                   NaN                 NaN          NaN   \n",
       "199                                   NaN                 NaN          NaN   \n",
       "200                                   NaN                 NaN          NaN   \n",
       "201                                   NaN                 NaN          NaN   \n",
       "\n",
       "    global_all_TNF-via-NFkB_signaling TNF_receptors_ligands  \\\n",
       "0                               PDE4B              TNFRSF1A   \n",
       "1                              PTGER4              TNFRSF1B   \n",
       "2                              ATP2B1               TNFRSF4   \n",
       "3                                CCL2              TNFRSF6B   \n",
       "4                                TAP1               TNFRSF8   \n",
       "..                                ...                   ...   \n",
       "197                              MXD1                   NaN   \n",
       "198                             PTGS2                   NaN   \n",
       "199                            TUBB2A                   NaN   \n",
       "200                             ACKR3                   NaN   \n",
       "201                           TNFAIP8                   NaN   \n",
       "\n",
       "    adhesion_molecules antigen_presentation_molecules  \\\n",
       "0                ALCAM                          ABCB5   \n",
       "1                CADM1                            B2M   \n",
       "2                CADM3                           CALR   \n",
       "3                 CD22                           CANX   \n",
       "4                CD226                          ERAP1   \n",
       "..                 ...                            ...   \n",
       "197                NaN                            NaN   \n",
       "198                NaN                            NaN   \n",
       "199                NaN                            NaN   \n",
       "200                NaN                            NaN   \n",
       "201                NaN                            NaN   \n",
       "\n",
       "    global_all_MHC-II-I presentation global_all_complement_production  \n",
       "0                           HLA-DQB3                              C1S  \n",
       "1                           HLA-DQA1                             C1QA  \n",
       "2                           HLA-DPA2                              C4A  \n",
       "3                           HLA-DQA2                              CFB  \n",
       "4                           HLA-DPB2                             C1QB  \n",
       "..                               ...                              ...  \n",
       "197                              NaN                              NaN  \n",
       "198                              NaN                              NaN  \n",
       "199                              NaN                              NaN  \n",
       "200                              NaN                              NaN  \n",
       "201                              NaN                              NaN  \n",
       "\n",
       "[202 rows x 15 columns]"
      ]
     },
     "execution_count": 6,
     "metadata": {},
     "output_type": "execute_result"
    }
   ],
   "source": [
    "global_GS"
   ]
  },
  {
   "cell_type": "code",
   "execution_count": 7,
   "id": "14f12c3f-2e51-4cda-8a40-40d0ea36dd29",
   "metadata": {
    "execution": {
     "iopub.execute_input": "2024-05-27T14:49:28.459585Z",
     "iopub.status.busy": "2024-05-27T14:49:28.459403Z",
     "iopub.status.idle": "2024-05-27T14:49:28.464612Z",
     "shell.execute_reply": "2024-05-27T14:49:28.464260Z",
     "shell.execute_reply.started": "2024-05-27T14:49:28.459569Z"
    }
   },
   "outputs": [
    {
     "data": {
      "text/plain": [
       "(796,)"
      ]
     },
     "execution_count": 7,
     "metadata": {},
     "output_type": "execute_result"
    }
   ],
   "source": [
    "# Number of UNIQUE genes\n",
    "np.unique(np.array(global_GS.fillna('', )).flatten()).shape"
   ]
  },
  {
   "cell_type": "markdown",
   "id": "5ad92c0c-5e02-4993-a395-ba25fc74ee3c",
   "metadata": {},
   "source": [
    "### Obtain spectra global curated by Juan and Juan gene sets \n",
    "After discussing with the developers of SPECTRA they suggest that: \n",
    "\n",
    "*\"If you just want to quantify the activity of one homogenous program and you want to compare this across cell types you should just add it as Global. Using the same gene set for several cell types also makes sense if you assume that the processes in question exist in different variations in the cell types (you can check how much the marker genes differ between the cell type specific factors). In either case from my standpoint either global or only cell type specific programs (can be in many cell types) makes sense, I’m not sure whether adding this as global and cell type specific make sense I suspect that it might give you weird possibly unstable solutions. We have never tried, let me know if it works empirically.\"*\n",
    "\n",
    "As our assumption is the latter, we will use: \n",
    "- Global Gene Sets: Spectra default global gene sets curated by Juan. He removed those that are not important for our questions (i.e not inflammatory related global gene sets)\n",
    "- Cell type Gene Sets: Spectra default + Juan defined signatures/GeneSets"
   ]
  },
  {
   "cell_type": "raw",
   "id": "fb65cb95-51be-4cfd-9481-bcfaea3ad00d",
   "metadata": {
    "execution": {
     "iopub.execute_input": "2024-05-17T16:57:46.940872Z",
     "iopub.status.busy": "2024-05-17T16:57:46.940539Z",
     "iopub.status.idle": "2024-05-17T16:57:46.944871Z",
     "shell.execute_reply": "2024-05-17T16:57:46.944495Z",
     "shell.execute_reply.started": "2024-05-17T16:57:46.940854Z"
    }
   },
   "source": [
    "global_GS_dict = {}\n",
    "for col in global_GS.columns:\n",
    "    dict_key = col\n",
    "    if not dict_key.startswith(\"global_\"):\n",
    "        dict_key = \"global_\" + dict_key\n",
    "    dict_values = global_GS[col].dropna().tolist()\n",
    "    global_GS_dict[dict_key] = dict_values"
   ]
  },
  {
   "cell_type": "code",
   "execution_count": 8,
   "id": "d95cebb9-efb9-44f7-93a6-cc3e945f3188",
   "metadata": {
    "execution": {
     "iopub.execute_input": "2024-05-27T14:49:28.465238Z",
     "iopub.status.busy": "2024-05-27T14:49:28.465090Z",
     "iopub.status.idle": "2024-05-27T14:49:28.475000Z",
     "shell.execute_reply": "2024-05-27T14:49:28.474648Z",
     "shell.execute_reply.started": "2024-05-27T14:49:28.465223Z"
    }
   },
   "outputs": [],
   "source": [
    "global_GS_dict = {}\n",
    "for col in global_GS.columns:\n",
    "    dict_values = global_GS[col].dropna().tolist()\n",
    "    global_GS_dict[col] = dict_values"
   ]
  },
  {
   "cell_type": "code",
   "execution_count": 9,
   "id": "5d6a840d-da5d-408a-8d34-ee5e2d5144cb",
   "metadata": {
    "execution": {
     "iopub.execute_input": "2024-05-27T14:49:28.475727Z",
     "iopub.status.busy": "2024-05-27T14:49:28.475469Z",
     "iopub.status.idle": "2024-05-27T14:49:28.485107Z",
     "shell.execute_reply": "2024-05-27T14:49:28.484764Z",
     "shell.execute_reply.started": "2024-05-27T14:49:28.475711Z"
    }
   },
   "outputs": [],
   "source": [
    "# Obtain global and signature dictionaries\n",
    "spectra_global_curated_GS_dict = {}\n",
    "immunologist_signatures_GS_dict = {}\n",
    "\n",
    "# Iterate over keys in global_GS_dict\n",
    "for key, value in global_GS_dict.items():\n",
    "    # Check if the key starts with \"global\"\n",
    "    if key.startswith(\"global\"):\n",
    "        spectra_global_curated_GS_dict[key] = value\n",
    "    else:\n",
    "        immunologist_signatures_GS_dict[key] = value"
   ]
  },
  {
   "cell_type": "markdown",
   "id": "19101330-5cc7-48e4-b1b9-27931fe8f392",
   "metadata": {},
   "source": [
    "Now, we need to include *immunologist_signatures_GS_dict* in each of the cell type specific gene sets"
   ]
  },
  {
   "cell_type": "markdown",
   "id": "a5b4e4db-6b3b-402c-b203-452491313bd7",
   "metadata": {},
   "source": [
    "## Cell-type specific"
   ]
  },
  {
   "cell_type": "code",
   "execution_count": 10,
   "id": "e4bb4046-978b-44a7-ac3f-60c62e3deba1",
   "metadata": {
    "execution": {
     "iopub.execute_input": "2024-05-27T14:49:28.487032Z",
     "iopub.status.busy": "2024-05-27T14:49:28.486811Z",
     "iopub.status.idle": "2024-05-27T14:49:28.539414Z",
     "shell.execute_reply": "2024-05-27T14:49:28.539050Z",
     "shell.execute_reply.started": "2024-05-27T14:49:28.487016Z"
    }
   },
   "outputs": [
    {
     "data": {
      "text/html": [
       "<div>\n",
       "<style scoped>\n",
       "    .dataframe tbody tr th:only-of-type {\n",
       "        vertical-align: middle;\n",
       "    }\n",
       "\n",
       "    .dataframe tbody tr th {\n",
       "        vertical-align: top;\n",
       "    }\n",
       "\n",
       "    .dataframe thead th {\n",
       "        text-align: right;\n",
       "    }\n",
       "</style>\n",
       "<table border=\"1\" class=\"dataframe\">\n",
       "  <thead>\n",
       "    <tr style=\"text-align: right;\">\n",
       "      <th></th>\n",
       "      <th>B_effector</th>\n",
       "      <th>CD4-T_CD4T_TH17_UP</th>\n",
       "      <th>CD4-T_CD4T_TH2_UP</th>\n",
       "      <th>CD4-T_CD4T_TFH_UP</th>\n",
       "      <th>CD4-T_CD4T_TH1_UP</th>\n",
       "      <th>Tregs_Tregs_FoxP3_stabilization</th>\n",
       "      <th>CD8-T_CD8T_exhaustion</th>\n",
       "      <th>CD8-T_CD8T_tcr_activation</th>\n",
       "      <th>cDC_DC_antigen-crosspresentation</th>\n",
       "      <th>Mono_IFNG_response</th>\n",
       "      <th>Mono_IL4-IL13_response</th>\n",
       "    </tr>\n",
       "  </thead>\n",
       "  <tbody>\n",
       "    <tr>\n",
       "      <th>0</th>\n",
       "      <td>IL2</td>\n",
       "      <td>CXCL8</td>\n",
       "      <td>IL5</td>\n",
       "      <td>IL6</td>\n",
       "      <td>CXCR3</td>\n",
       "      <td>NFATC1</td>\n",
       "      <td>TOX</td>\n",
       "      <td>ALCAM</td>\n",
       "      <td>MRC1</td>\n",
       "      <td>TNFAIP3</td>\n",
       "      <td>ARG1</td>\n",
       "    </tr>\n",
       "    <tr>\n",
       "      <th>1</th>\n",
       "      <td>IL13</td>\n",
       "      <td>IL17A</td>\n",
       "      <td>IL4</td>\n",
       "      <td>CD84</td>\n",
       "      <td>IFNG</td>\n",
       "      <td>ATF1</td>\n",
       "      <td>LAG3</td>\n",
       "      <td>JAG1</td>\n",
       "      <td>SEC61A2</td>\n",
       "      <td>SOCS3</td>\n",
       "      <td>PPARG</td>\n",
       "    </tr>\n",
       "    <tr>\n",
       "      <th>2</th>\n",
       "      <td>IL4</td>\n",
       "      <td>IL17F</td>\n",
       "      <td>HAVCR1</td>\n",
       "      <td>S1PR1</td>\n",
       "      <td>IL12RB2</td>\n",
       "      <td>CREB1</td>\n",
       "      <td>PDCD1</td>\n",
       "      <td>LTA</td>\n",
       "      <td>SEC61A1</td>\n",
       "      <td>IL23A</td>\n",
       "      <td>SOCS2</td>\n",
       "    </tr>\n",
       "    <tr>\n",
       "      <th>3</th>\n",
       "      <td>CSF2</td>\n",
       "      <td>IL1R1</td>\n",
       "      <td>GATA3</td>\n",
       "      <td>IL21R</td>\n",
       "      <td>TBX21</td>\n",
       "      <td>NFATC2</td>\n",
       "      <td>HAVCR2</td>\n",
       "      <td>CCL3</td>\n",
       "      <td>IFI30</td>\n",
       "      <td>IL1B</td>\n",
       "      <td>RNASE2</td>\n",
       "    </tr>\n",
       "    <tr>\n",
       "      <th>4</th>\n",
       "      <td>IL6</td>\n",
       "      <td>KLRB1</td>\n",
       "      <td>IL13</td>\n",
       "      <td>CXCR5</td>\n",
       "      <td>STAT4</td>\n",
       "      <td>STAT5A</td>\n",
       "      <td>EOMES</td>\n",
       "      <td>CCL4</td>\n",
       "      <td>SEC61G</td>\n",
       "      <td>IL1A</td>\n",
       "      <td>IL4R</td>\n",
       "    </tr>\n",
       "    <tr>\n",
       "      <th>...</th>\n",
       "      <td>...</td>\n",
       "      <td>...</td>\n",
       "      <td>...</td>\n",
       "      <td>...</td>\n",
       "      <td>...</td>\n",
       "      <td>...</td>\n",
       "      <td>...</td>\n",
       "      <td>...</td>\n",
       "      <td>...</td>\n",
       "      <td>...</td>\n",
       "      <td>...</td>\n",
       "    </tr>\n",
       "    <tr>\n",
       "      <th>61</th>\n",
       "      <td>NaN</td>\n",
       "      <td>NaN</td>\n",
       "      <td>NaN</td>\n",
       "      <td>NaN</td>\n",
       "      <td>NaN</td>\n",
       "      <td>NaN</td>\n",
       "      <td>NaN</td>\n",
       "      <td>STAT5A</td>\n",
       "      <td>NaN</td>\n",
       "      <td>NaN</td>\n",
       "      <td>NaN</td>\n",
       "    </tr>\n",
       "    <tr>\n",
       "      <th>62</th>\n",
       "      <td>NaN</td>\n",
       "      <td>NaN</td>\n",
       "      <td>NaN</td>\n",
       "      <td>NaN</td>\n",
       "      <td>NaN</td>\n",
       "      <td>NaN</td>\n",
       "      <td>NaN</td>\n",
       "      <td>ALPL</td>\n",
       "      <td>NaN</td>\n",
       "      <td>NaN</td>\n",
       "      <td>NaN</td>\n",
       "    </tr>\n",
       "    <tr>\n",
       "      <th>63</th>\n",
       "      <td>NaN</td>\n",
       "      <td>NaN</td>\n",
       "      <td>NaN</td>\n",
       "      <td>NaN</td>\n",
       "      <td>NaN</td>\n",
       "      <td>NaN</td>\n",
       "      <td>NaN</td>\n",
       "      <td>IL5</td>\n",
       "      <td>NaN</td>\n",
       "      <td>NaN</td>\n",
       "      <td>NaN</td>\n",
       "    </tr>\n",
       "    <tr>\n",
       "      <th>64</th>\n",
       "      <td>NaN</td>\n",
       "      <td>NaN</td>\n",
       "      <td>NaN</td>\n",
       "      <td>NaN</td>\n",
       "      <td>NaN</td>\n",
       "      <td>NaN</td>\n",
       "      <td>NaN</td>\n",
       "      <td>MAFF</td>\n",
       "      <td>NaN</td>\n",
       "      <td>NaN</td>\n",
       "      <td>NaN</td>\n",
       "    </tr>\n",
       "    <tr>\n",
       "      <th>65</th>\n",
       "      <td>NaN</td>\n",
       "      <td>NaN</td>\n",
       "      <td>NaN</td>\n",
       "      <td>NaN</td>\n",
       "      <td>NaN</td>\n",
       "      <td>NaN</td>\n",
       "      <td>NaN</td>\n",
       "      <td>IL2</td>\n",
       "      <td>NaN</td>\n",
       "      <td>NaN</td>\n",
       "      <td>NaN</td>\n",
       "    </tr>\n",
       "  </tbody>\n",
       "</table>\n",
       "<p>66 rows × 11 columns</p>\n",
       "</div>"
      ],
      "text/plain": [
       "   B_effector CD4-T_CD4T_TH17_UP CD4-T_CD4T_TH2_UP CD4-T_CD4T_TFH_UP  \\\n",
       "0         IL2              CXCL8               IL5               IL6   \n",
       "1        IL13              IL17A               IL4              CD84   \n",
       "2         IL4              IL17F            HAVCR1             S1PR1   \n",
       "3        CSF2              IL1R1             GATA3             IL21R   \n",
       "4         IL6              KLRB1              IL13             CXCR5   \n",
       "..        ...                ...               ...               ...   \n",
       "61        NaN                NaN               NaN               NaN   \n",
       "62        NaN                NaN               NaN               NaN   \n",
       "63        NaN                NaN               NaN               NaN   \n",
       "64        NaN                NaN               NaN               NaN   \n",
       "65        NaN                NaN               NaN               NaN   \n",
       "\n",
       "   CD4-T_CD4T_TH1_UP Tregs_Tregs_FoxP3_stabilization CD8-T_CD8T_exhaustion  \\\n",
       "0              CXCR3                          NFATC1                   TOX   \n",
       "1               IFNG                            ATF1                  LAG3   \n",
       "2            IL12RB2                           CREB1                 PDCD1   \n",
       "3              TBX21                          NFATC2                HAVCR2   \n",
       "4              STAT4                          STAT5A                 EOMES   \n",
       "..               ...                             ...                   ...   \n",
       "61               NaN                             NaN                   NaN   \n",
       "62               NaN                             NaN                   NaN   \n",
       "63               NaN                             NaN                   NaN   \n",
       "64               NaN                             NaN                   NaN   \n",
       "65               NaN                             NaN                   NaN   \n",
       "\n",
       "   CD8-T_CD8T_tcr_activation cDC_DC_antigen-crosspresentation  \\\n",
       "0                      ALCAM                             MRC1   \n",
       "1                       JAG1                          SEC61A2   \n",
       "2                        LTA                          SEC61A1   \n",
       "3                       CCL3                            IFI30   \n",
       "4                       CCL4                           SEC61G   \n",
       "..                       ...                              ...   \n",
       "61                    STAT5A                              NaN   \n",
       "62                      ALPL                              NaN   \n",
       "63                       IL5                              NaN   \n",
       "64                      MAFF                              NaN   \n",
       "65                       IL2                              NaN   \n",
       "\n",
       "   Mono_IFNG_response Mono_IL4-IL13_response  \n",
       "0             TNFAIP3                   ARG1  \n",
       "1               SOCS3                  PPARG  \n",
       "2               IL23A                  SOCS2  \n",
       "3                IL1B                 RNASE2  \n",
       "4                IL1A                   IL4R  \n",
       "..                ...                    ...  \n",
       "61                NaN                    NaN  \n",
       "62                NaN                    NaN  \n",
       "63                NaN                    NaN  \n",
       "64                NaN                    NaN  \n",
       "65                NaN                    NaN  \n",
       "\n",
       "[66 rows x 11 columns]"
      ]
     },
     "execution_count": 10,
     "metadata": {},
     "output_type": "execute_result"
    }
   ],
   "source": [
    "CellTypeDF = pd.read_excel(here('03_downstream_analysis/02_gene_universe_definition/data/Final_gene_sets_per_celltype.xlsx'))\n",
    "CellTypeDF"
   ]
  },
  {
   "cell_type": "code",
   "execution_count": 11,
   "id": "b2f290b3-6198-4fb6-a656-38a3c1e2209b",
   "metadata": {
    "execution": {
     "iopub.execute_input": "2024-05-27T14:49:28.540087Z",
     "iopub.status.busy": "2024-05-27T14:49:28.539935Z",
     "iopub.status.idle": "2024-05-27T14:49:28.543809Z",
     "shell.execute_reply": "2024-05-27T14:49:28.543450Z",
     "shell.execute_reply.started": "2024-05-27T14:49:28.540071Z"
    }
   },
   "outputs": [],
   "source": [
    "all_cell_types_dictionary =  dict()\n",
    "for c in CellTypeDF.columns:\n",
    "    s = c.split(\"_\", maxsplit=1)\n",
    "    ct = s[0]\n",
    "    function = s[1]\n",
    "    if ct not in all_cell_types_dictionary.keys():\n",
    "        all_cell_types_dictionary[ct] = dict()\n",
    "    all_cell_types_dictionary[ct][function] = CellTypeDF[c].dropna().tolist()"
   ]
  },
  {
   "cell_type": "raw",
   "id": "b4de5f54-2828-4de8-97bb-9ea336de666d",
   "metadata": {
    "execution": {
     "iopub.execute_input": "2024-05-22T15:36:40.401351Z",
     "iopub.status.busy": "2024-05-22T15:36:40.400735Z",
     "iopub.status.idle": "2024-05-22T15:36:40.403990Z",
     "shell.execute_reply": "2024-05-22T15:36:40.403475Z",
     "shell.execute_reply.started": "2024-05-22T15:36:40.401330Z"
    }
   },
   "source": [
    "celltype_GeneSet_paths = workDir + \"03_downstream_analysis/02_gene_universe_definition/data/CYTOPUS_default_geneSets/\""
   ]
  },
  {
   "cell_type": "raw",
   "id": "6d0a8d64-f427-4b11-b6ae-2b46569ed034",
   "metadata": {
    "execution": {
     "iopub.execute_input": "2024-05-22T15:36:40.583580Z",
     "iopub.status.busy": "2024-05-22T15:36:40.583003Z",
     "iopub.status.idle": "2024-05-22T15:36:40.706673Z",
     "shell.execute_reply": "2024-05-22T15:36:40.706125Z",
     "shell.execute_reply.started": "2024-05-22T15:36:40.583561Z"
    }
   },
   "source": [
    "files = os.listdir(celltype_GeneSet_paths)\n",
    "files_to_read = [file for file in files if not file.startswith('global') and not file.startswith('.')]\n",
    "all_cell_types_dictionary = {}\n",
    "for file in files_to_read:\n",
    "    key = file.split(\"_\")[0]\n",
    "    path = os.path.join(celltype_GeneSet_paths, file)\n",
    "    df = pd.read_excel(path)\n",
    "    \n",
    "    # Convert the DataFrame to a dictionary\n",
    "    df_dict = {}\n",
    "    for col in df.columns:\n",
    "        dict_key = col\n",
    "        dict_values = df[col].dropna().tolist()\n",
    "        df_dict[dict_key] = dict_values\n",
    "    # Save the dictionary in all_cell_types_dictionary\n",
    "    all_cell_types_dictionary[key] = df_dict"
   ]
  },
  {
   "cell_type": "code",
   "execution_count": 12,
   "id": "dd923f21-4932-4dac-928b-16c56a29899e",
   "metadata": {
    "execution": {
     "iopub.execute_input": "2024-05-27T14:49:28.544506Z",
     "iopub.status.busy": "2024-05-27T14:49:28.544272Z",
     "iopub.status.idle": "2024-05-27T14:49:28.554803Z",
     "shell.execute_reply": "2024-05-27T14:49:28.554453Z",
     "shell.execute_reply.started": "2024-05-27T14:49:28.544490Z"
    }
   },
   "outputs": [
    {
     "data": {
      "text/plain": [
       "dict_keys(['B', 'CD4-T', 'Tregs', 'CD8-T', 'cDC', 'Mono'])"
      ]
     },
     "execution_count": 12,
     "metadata": {},
     "output_type": "execute_result"
    }
   ],
   "source": [
    "all_cell_types_dictionary.keys()"
   ]
  },
  {
   "cell_type": "code",
   "execution_count": 13,
   "id": "d75214d7-75ae-4bbe-a6b9-4651078ae688",
   "metadata": {
    "execution": {
     "iopub.execute_input": "2024-05-27T14:49:28.555518Z",
     "iopub.status.busy": "2024-05-27T14:49:28.555265Z",
     "iopub.status.idle": "2024-05-27T14:49:28.567156Z",
     "shell.execute_reply": "2024-05-27T14:49:28.566811Z",
     "shell.execute_reply.started": "2024-05-27T14:49:28.555502Z"
    }
   },
   "outputs": [
    {
     "name": "stdout",
     "output_type": "stream",
     "text": [
      "B: 1\n",
      "CD4-T: 4\n",
      "Tregs: 1\n",
      "CD8-T: 2\n",
      "cDC: 1\n",
      "Mono: 2\n",
      "Total: 11\n"
     ]
    }
   ],
   "source": [
    "key_counts = {}\n",
    "\n",
    "# Loop through the keys and calculate the number of keys within each key\n",
    "total_count = 0\n",
    "for key, value in all_cell_types_dictionary.items():\n",
    "    if isinstance(value, dict):\n",
    "        key_counts[key] = len(value)\n",
    "        total_count += len(value)\n",
    "    else:\n",
    "        key_counts[key] = 0\n",
    "\n",
    "# Print the number of keys within each key\n",
    "for key, count in key_counts.items():\n",
    "    print(f\"{key}: {count}\")\n",
    "\n",
    "print(f\"Total: {total_count}\")"
   ]
  },
  {
   "cell_type": "markdown",
   "id": "5d1ab480-802c-4ae0-bb7e-9fa28d44024a",
   "metadata": {},
   "source": [
    "Cell type names will be changed afterwards"
   ]
  },
  {
   "cell_type": "markdown",
   "id": "7f31e6cd-ca45-4b39-8931-f9a98e4a7768",
   "metadata": {},
   "source": [
    "### Edit Cell type GeneSets"
   ]
  },
  {
   "cell_type": "markdown",
   "id": "882934f8-5202-4c9c-98cd-c528247a62f9",
   "metadata": {},
   "source": [
    "#### (JUST IN CASE) Merge gene-sets\n",
    "For SPECTRA, we need a 1:1 correspondence between categories and gene_set_dictionary keys (+global). There could be the case in which the current granularity of the dictionary does not match the desired granularity of the annotated cell types. \n",
    "\n",
    "For example: Tregs are included within the CD4-T category and TNK within the CD8. \n",
    "\n",
    "To solve this we: \n",
    "1. Include the gene-sets in the higher annotation level (CD4-T or CD8-T respectively) so that we don't lose those gene sets.\n",
    "2. We remove the lower level (Tregs and TNK) dictionaries.  "
   ]
  },
  {
   "cell_type": "code",
   "execution_count": 14,
   "id": "615a6404-8c67-4a51-b74d-e6265d3984ac",
   "metadata": {
    "execution": {
     "iopub.execute_input": "2024-05-27T14:49:28.567916Z",
     "iopub.status.busy": "2024-05-27T14:49:28.567631Z",
     "iopub.status.idle": "2024-05-27T14:49:28.578419Z",
     "shell.execute_reply": "2024-05-27T14:49:28.578091Z",
     "shell.execute_reply.started": "2024-05-27T14:49:28.567900Z"
    }
   },
   "outputs": [
    {
     "data": {
      "text/plain": [
       "dict_keys(['B', 'CD4-T', 'Tregs', 'CD8-T', 'cDC', 'Mono'])"
      ]
     },
     "execution_count": 14,
     "metadata": {},
     "output_type": "execute_result"
    }
   ],
   "source": [
    "all_cell_types_dictionary.keys()"
   ]
  },
  {
   "cell_type": "code",
   "execution_count": 15,
   "id": "2035b6cf-6ae7-44a9-9843-cd0aeb3dca5a",
   "metadata": {
    "execution": {
     "iopub.execute_input": "2024-05-27T14:49:28.579173Z",
     "iopub.status.busy": "2024-05-27T14:49:28.578897Z",
     "iopub.status.idle": "2024-05-27T14:49:28.588138Z",
     "shell.execute_reply": "2024-05-27T14:49:28.587801Z",
     "shell.execute_reply.started": "2024-05-27T14:49:28.579157Z"
    }
   },
   "outputs": [],
   "source": [
    "if 'Tregs' in all_cell_types_dictionary.keys():\n",
    "    all_cell_types_dictionary['CD4-T'].update(all_cell_types_dictionary.pop('Tregs'))\n",
    "\n",
    "if 'TNK' in all_cell_types_dictionary.keys():\n",
    "    all_cell_types_dictionary['CD8-T'].update(all_cell_types_dictionary.pop('TNK'))\n",
    "    \n",
    "if 'NK' in all_cell_types_dictionary.keys():\n",
    "    all_cell_types_dictionary['ILC'].update(all_cell_types_dictionary.pop('NK'))\n",
    "\n"
   ]
  },
  {
   "cell_type": "code",
   "execution_count": 16,
   "id": "81e27dde-5c2a-4339-99fb-ad5319079448",
   "metadata": {
    "execution": {
     "iopub.execute_input": "2024-05-27T14:49:28.588811Z",
     "iopub.status.busy": "2024-05-27T14:49:28.588599Z",
     "iopub.status.idle": "2024-05-27T14:49:28.598004Z",
     "shell.execute_reply": "2024-05-27T14:49:28.597674Z",
     "shell.execute_reply.started": "2024-05-27T14:49:28.588795Z"
    }
   },
   "outputs": [
    {
     "data": {
      "text/plain": [
       "dict_keys(['B', 'CD4-T', 'CD8-T', 'cDC', 'Mono'])"
      ]
     },
     "execution_count": 16,
     "metadata": {},
     "output_type": "execute_result"
    }
   ],
   "source": [
    "all_cell_types_dictionary.keys()"
   ]
  },
  {
   "cell_type": "markdown",
   "id": "cfe37011-c8e4-4cde-941f-7cea13f2f0fb",
   "metadata": {},
   "source": [
    "#### (JUST IN CASE) Duplicate gene sets in sublineages\n",
    "However, it is also possible to happen the contrary, that the granularity of the gene_set is not granular enough. \n",
    "\n",
    "For example: TCD4 and TCD8 should be divided into Naive and NonNaive. \n",
    "\n",
    "In this case, what we do is: \n",
    "- Generate two new gene_set_dictionary keys with the categories not present (Naive, NonNaive) and include the GeneSets from the higher annotation. Ideally, these genesets should be divided into Naive and NonNaive specific if possible. I had a *quick* discussion with Juan and he said that in this case, all GeneSets applied to both Naive and NonNaive. I would confirm this with Juan; if it is actually the case, there is no problem in tearms of SPECTRA it is just for a better explanation. Ex: *Does it make sense to try to find a TCR_activity factor in a cell type that is Naive?* (similar to other gene sets included)\n",
    "- Remove the high annotation gene sets\n",
    "  - This is not done as at the time of generating this notebook the conclusion regarding the division of Naive and NonNaive is not done yet. It would be as simple as doing: *all_cell_types_dictionary.pop('CD4-T')*"
   ]
  },
  {
   "cell_type": "markdown",
   "id": "f8d0c12e-33ca-4ccd-a81c-2b9d514f3a58",
   "metadata": {},
   "source": [
    "**TCD4 Naive**"
   ]
  },
  {
   "cell_type": "code",
   "execution_count": 17,
   "id": "6f2736cb-379b-41bc-b26c-a7f3a3408426",
   "metadata": {
    "execution": {
     "iopub.execute_input": "2024-05-27T14:49:28.598703Z",
     "iopub.status.busy": "2024-05-27T14:49:28.598466Z",
     "iopub.status.idle": "2024-05-27T14:49:28.607311Z",
     "shell.execute_reply": "2024-05-27T14:49:28.606983Z",
     "shell.execute_reply.started": "2024-05-27T14:49:28.598688Z"
    }
   },
   "outputs": [],
   "source": [
    "subpops = [\"T_CD4_Naive\", \"T_CD4_NonNaive\"]"
   ]
  },
  {
   "cell_type": "code",
   "execution_count": 18,
   "id": "d02b4224-a85f-4a75-a333-2440b40405a0",
   "metadata": {
    "execution": {
     "iopub.execute_input": "2024-05-27T14:49:28.607994Z",
     "iopub.status.busy": "2024-05-27T14:49:28.607773Z",
     "iopub.status.idle": "2024-05-27T14:49:28.618627Z",
     "shell.execute_reply": "2024-05-27T14:49:28.618287Z",
     "shell.execute_reply.started": "2024-05-27T14:49:28.607978Z"
    }
   },
   "outputs": [],
   "source": [
    "for pop in subpops: \n",
    "    all_cell_types_dictionary[pop] = {}\n",
    "    for key, value in all_cell_types_dictionary['CD4-T'].items():\n",
    "        new_key = pop + '_' + key.replace('CD4-T_', '')\n",
    "        all_cell_types_dictionary[pop][new_key] = value"
   ]
  },
  {
   "cell_type": "markdown",
   "id": "da8242d6-ab53-431d-986c-a1404d27d8aa",
   "metadata": {},
   "source": [
    "**TCD8 Naive**"
   ]
  },
  {
   "cell_type": "code",
   "execution_count": 19,
   "id": "4e4df49d-828c-45ef-85d1-9da6d29c675c",
   "metadata": {
    "execution": {
     "iopub.execute_input": "2024-05-27T14:49:28.619289Z",
     "iopub.status.busy": "2024-05-27T14:49:28.619081Z",
     "iopub.status.idle": "2024-05-27T14:49:28.628050Z",
     "shell.execute_reply": "2024-05-27T14:49:28.627716Z",
     "shell.execute_reply.started": "2024-05-27T14:49:28.619273Z"
    }
   },
   "outputs": [],
   "source": [
    "subpops = [\"T_CD8_Naive\", \"T_CD8_NonNaive\"]"
   ]
  },
  {
   "cell_type": "code",
   "execution_count": 20,
   "id": "db60a654-ea72-4c6d-a9dc-e1770f191076",
   "metadata": {
    "execution": {
     "iopub.execute_input": "2024-05-27T14:49:28.628788Z",
     "iopub.status.busy": "2024-05-27T14:49:28.628502Z",
     "iopub.status.idle": "2024-05-27T14:49:28.648879Z",
     "shell.execute_reply": "2024-05-27T14:49:28.648537Z",
     "shell.execute_reply.started": "2024-05-27T14:49:28.628773Z"
    }
   },
   "outputs": [],
   "source": [
    "for pop in subpops: \n",
    "    all_cell_types_dictionary[pop] = {}\n",
    "    for key, value in all_cell_types_dictionary['CD8-T'].items():\n",
    "        new_key = pop + '_' + key.replace('CD8-T_', '')\n",
    "        all_cell_types_dictionary[pop][new_key] = value"
   ]
  },
  {
   "cell_type": "code",
   "execution_count": 21,
   "id": "7b5d2f8d-f3ac-4376-8720-d9bd9d26115e",
   "metadata": {
    "execution": {
     "iopub.execute_input": "2024-05-27T14:49:28.649608Z",
     "iopub.status.busy": "2024-05-27T14:49:28.649333Z",
     "iopub.status.idle": "2024-05-27T14:49:28.660961Z",
     "shell.execute_reply": "2024-05-27T14:49:28.660632Z",
     "shell.execute_reply.started": "2024-05-27T14:49:28.649592Z"
    }
   },
   "outputs": [
    {
     "data": {
      "text/plain": [
       "dict_keys(['B', 'CD4-T', 'CD8-T', 'cDC', 'Mono', 'T_CD4_Naive', 'T_CD4_NonNaive', 'T_CD8_Naive', 'T_CD8_NonNaive'])"
      ]
     },
     "execution_count": 21,
     "metadata": {},
     "output_type": "execute_result"
    }
   ],
   "source": [
    "all_cell_types_dictionary.keys()"
   ]
  },
  {
   "cell_type": "markdown",
   "id": "a5840a43-90f9-450f-931e-491587522acd",
   "metadata": {},
   "source": [
    "#### Include GeneSets for non-present celltypes\n",
    "There could be cell type for which we do not have a gene set defined. SPECTRA requires all categories in the *cell type column* to be present as keys in the dictionaries. As such, we generate an empty dictionary for these cell types (we will fill it afterwards with the Immunologist GeneSets). This will mean that there is no default defined gene set for these cell types, but we will include the Immunologist GeneSets in the next section"
   ]
  },
  {
   "cell_type": "code",
   "execution_count": 22,
   "id": "49096d94-9fa2-4db6-b6c0-d8ee75bc0128",
   "metadata": {
    "execution": {
     "iopub.execute_input": "2024-05-27T14:49:28.661702Z",
     "iopub.status.busy": "2024-05-27T14:49:28.661420Z",
     "iopub.status.idle": "2024-05-27T14:49:28.671094Z",
     "shell.execute_reply": "2024-05-27T14:49:28.670761Z",
     "shell.execute_reply.started": "2024-05-27T14:49:28.661686Z"
    }
   },
   "outputs": [],
   "source": [
    "celltypes_of_interest = [\"Plasma\", \"UTC\", 'pDC', 'ILC']"
   ]
  },
  {
   "cell_type": "code",
   "execution_count": 23,
   "id": "802c9828-a28a-4829-bb1d-ecf8e3cede3e",
   "metadata": {
    "execution": {
     "iopub.execute_input": "2024-05-27T14:49:28.671703Z",
     "iopub.status.busy": "2024-05-27T14:49:28.671558Z",
     "iopub.status.idle": "2024-05-27T14:49:28.680335Z",
     "shell.execute_reply": "2024-05-27T14:49:28.679993Z",
     "shell.execute_reply.started": "2024-05-27T14:49:28.671688Z"
    }
   },
   "outputs": [],
   "source": [
    "for key in celltypes_of_interest:\n",
    "    all_cell_types_dictionary[key] = {}"
   ]
  },
  {
   "cell_type": "raw",
   "id": "8d134489-3bb3-4c70-9616-fec661e8b0c7",
   "metadata": {
    "execution": {
     "iopub.execute_input": "2024-05-26T13:59:55.702053Z",
     "iopub.status.busy": "2024-05-26T13:59:55.701909Z",
     "iopub.status.idle": "2024-05-26T13:59:55.710767Z",
     "shell.execute_reply": "2024-05-26T13:59:55.710332Z",
     "shell.execute_reply.started": "2024-05-26T13:59:55.702038Z"
    }
   },
   "source": [
    "# We are adding the gene set from their parental cell types\n",
    "all_cell_types_dictionary[\"Plasma\"] = all_cell_types_dictionary['B']\n",
    "all_cell_types_dictionary[\"UTC\"] = all_cell_types_dictionary['CD8-T'] | all_cell_types_dictionary['CD4-T']"
   ]
  },
  {
   "cell_type": "code",
   "execution_count": 24,
   "id": "b4b4ca24-339f-4550-82d0-4f1dd8295d93",
   "metadata": {
    "execution": {
     "iopub.execute_input": "2024-05-27T14:49:28.681007Z",
     "iopub.status.busy": "2024-05-27T14:49:28.680791Z",
     "iopub.status.idle": "2024-05-27T14:49:28.689434Z",
     "shell.execute_reply": "2024-05-27T14:49:28.689102Z",
     "shell.execute_reply.started": "2024-05-27T14:49:28.680991Z"
    }
   },
   "outputs": [],
   "source": [
    "del all_cell_types_dictionary['CD8-T']\n",
    "del all_cell_types_dictionary['CD4-T']"
   ]
  },
  {
   "cell_type": "code",
   "execution_count": 25,
   "id": "d2570db8-5e4b-4125-ac9b-dc85e500966b",
   "metadata": {
    "execution": {
     "iopub.execute_input": "2024-05-27T14:49:28.690114Z",
     "iopub.status.busy": "2024-05-27T14:49:28.689906Z",
     "iopub.status.idle": "2024-05-27T14:49:28.699514Z",
     "shell.execute_reply": "2024-05-27T14:49:28.699187Z",
     "shell.execute_reply.started": "2024-05-27T14:49:28.690099Z"
    }
   },
   "outputs": [
    {
     "data": {
      "text/plain": [
       "dict_keys(['B', 'cDC', 'Mono', 'T_CD4_Naive', 'T_CD4_NonNaive', 'T_CD8_Naive', 'T_CD8_NonNaive', 'Plasma', 'UTC', 'pDC', 'ILC'])"
      ]
     },
     "execution_count": 25,
     "metadata": {},
     "output_type": "execute_result"
    }
   ],
   "source": [
    "all_cell_types_dictionary.keys()"
   ]
  },
  {
   "cell_type": "markdown",
   "id": "d2d48e8c-42da-4620-807e-b9c1ba2d32ec",
   "metadata": {},
   "source": [
    "#### Include Immunologist GeneSets in Cell-type GeneSets\n",
    "As we mentioned, Immunologist GeneSets should be present in each cell type and not in global."
   ]
  },
  {
   "cell_type": "code",
   "execution_count": 26,
   "id": "b92dc527-7666-4e83-9f39-1a2c8c0e6741",
   "metadata": {
    "execution": {
     "iopub.execute_input": "2024-05-27T14:49:28.700240Z",
     "iopub.status.busy": "2024-05-27T14:49:28.700031Z",
     "iopub.status.idle": "2024-05-27T14:49:28.710549Z",
     "shell.execute_reply": "2024-05-27T14:49:28.710205Z",
     "shell.execute_reply.started": "2024-05-27T14:49:28.700223Z"
    }
   },
   "outputs": [],
   "source": [
    "for key, value in all_cell_types_dictionary.items():\n",
    "    merged_dict = {}\n",
    "    for signature_key, signature_genes in immunologist_signatures_GS_dict.items():\n",
    "        new_key = key + \"_\" + signature_key\n",
    "        merged_dict[new_key] = signature_genes\n",
    "    all_cell_types_dictionary[key].update(merged_dict)"
   ]
  },
  {
   "cell_type": "code",
   "execution_count": 27,
   "id": "781201f7-e58a-494c-a417-1375245ac12d",
   "metadata": {
    "execution": {
     "iopub.execute_input": "2024-05-27T14:49:28.711273Z",
     "iopub.status.busy": "2024-05-27T14:49:28.711013Z",
     "iopub.status.idle": "2024-05-27T14:49:28.720044Z",
     "shell.execute_reply": "2024-05-27T14:49:28.719706Z",
     "shell.execute_reply.started": "2024-05-27T14:49:28.711257Z"
    }
   },
   "outputs": [
    {
     "name": "stdout",
     "output_type": "stream",
     "text": [
      "B: 10\n",
      "cDC: 10\n",
      "Mono: 11\n",
      "T_CD4_Naive: 14\n",
      "T_CD4_NonNaive: 14\n",
      "T_CD8_Naive: 11\n",
      "T_CD8_NonNaive: 11\n",
      "Plasma: 9\n",
      "UTC: 9\n",
      "pDC: 9\n",
      "ILC: 9\n",
      "Total: 117\n"
     ]
    }
   ],
   "source": [
    "key_counts = {}\n",
    "\n",
    "# Loop through the keys and calculate the number of keys within each key\n",
    "total_count = 0\n",
    "for key, value in all_cell_types_dictionary.items():\n",
    "    if isinstance(value, dict):\n",
    "        key_counts[key] = len(value)\n",
    "        total_count += len(value)\n",
    "    else:\n",
    "        key_counts[key] = 0\n",
    "\n",
    "# Print the number of keys within each key\n",
    "for key, count in key_counts.items():\n",
    "    print(f\"{key}: {count}\")\n",
    "\n",
    "print(f\"Total: {total_count}\")"
   ]
  },
  {
   "cell_type": "markdown",
   "id": "d26feee0-dc32-402a-8460-0a0db72c5106",
   "metadata": {},
   "source": [
    "These will be the total gene sets per cell type that will be composed of: **Default cell type gene sets** (with modifiations depending on merging and splitting) + **immunologist gene sets** "
   ]
  },
  {
   "cell_type": "markdown",
   "id": "73f4b20e-1ae1-4b4a-8ff9-27c2d7a49a40",
   "metadata": {},
   "source": [
    "# Generate final GeneSet\n",
    "Merge Global dictionary and cell type dictionary into a single gene set dictionary"
   ]
  },
  {
   "cell_type": "code",
   "execution_count": 28,
   "id": "c28784ae-c361-4e07-9006-24bcbb700300",
   "metadata": {
    "execution": {
     "iopub.execute_input": "2024-05-27T14:49:28.722668Z",
     "iopub.status.busy": "2024-05-27T14:49:28.722377Z",
     "iopub.status.idle": "2024-05-27T14:49:28.729774Z",
     "shell.execute_reply": "2024-05-27T14:49:28.729383Z",
     "shell.execute_reply.started": "2024-05-27T14:49:28.722652Z"
    }
   },
   "outputs": [],
   "source": [
    "gene_set_dictionary = {}\n",
    "gene_set_dictionary[\"global\"] = spectra_global_curated_GS_dict\n",
    "for key, value in all_cell_types_dictionary.items():\n",
    "    gene_set_dictionary[key] = value"
   ]
  },
  {
   "cell_type": "code",
   "execution_count": null,
   "id": "77469de2-f6fd-4754-a0f2-64f93497bd45",
   "metadata": {},
   "outputs": [],
   "source": []
  },
  {
   "cell_type": "markdown",
   "id": "3f04cda7-fc38-41da-8ab4-5c29100927f0",
   "metadata": {},
   "source": [
    "## Modify cell type names\n",
    "**Important: The cell type labels have to match with the cell type labels in the gene set dictionary (+ global)**"
   ]
  },
  {
   "cell_type": "code",
   "execution_count": 29,
   "id": "21794353-14f0-44c2-b109-7edb0d9c7c4e",
   "metadata": {
    "execution": {
     "iopub.execute_input": "2024-05-27T14:49:28.730499Z",
     "iopub.status.busy": "2024-05-27T14:49:28.730228Z",
     "iopub.status.idle": "2024-05-27T14:49:28.752430Z",
     "shell.execute_reply": "2024-05-27T14:49:28.752098Z",
     "shell.execute_reply.started": "2024-05-27T14:49:28.730483Z"
    }
   },
   "outputs": [
    {
     "data": {
      "text/plain": [
       "dict_keys(['global', 'B', 'cDC', 'Mono', 'T_CD4_Naive', 'T_CD4_NonNaive', 'T_CD8_Naive', 'T_CD8_NonNaive', 'Plasma', 'UTC', 'pDC', 'ILC'])"
      ]
     },
     "execution_count": 29,
     "metadata": {},
     "output_type": "execute_result"
    }
   ],
   "source": [
    "gene_set_dictionary.keys()"
   ]
  },
  {
   "cell_type": "code",
   "execution_count": 30,
   "id": "80742729-0573-4ba2-ab7a-0b0832566744",
   "metadata": {
    "execution": {
     "iopub.execute_input": "2024-05-27T14:49:28.753170Z",
     "iopub.status.busy": "2024-05-27T14:49:28.752902Z",
     "iopub.status.idle": "2024-05-27T14:49:28.761747Z",
     "shell.execute_reply": "2024-05-27T14:49:28.761398Z",
     "shell.execute_reply.started": "2024-05-27T14:49:28.753154Z"
    }
   },
   "outputs": [],
   "source": [
    "# Define a mapping of old keys to new keys\n",
    "key_mapping = {\n",
    "    'Mac': 'Mono',\n",
    "    'p-DC': 'pDC',\n",
    "    'cDC': 'DC'\n",
    "}\n",
    "\n",
    "# Rename the keys in gene_set_dictionary\n",
    "for old_key, new_key in key_mapping.items():\n",
    "    if old_key in gene_set_dictionary:\n",
    "        gene_set_dictionary[new_key] = gene_set_dictionary.pop(old_key)"
   ]
  },
  {
   "cell_type": "code",
   "execution_count": 31,
   "id": "c887c1fe-aca6-477b-867d-19091b8900f5",
   "metadata": {
    "execution": {
     "iopub.execute_input": "2024-05-27T14:49:28.762471Z",
     "iopub.status.busy": "2024-05-27T14:49:28.762202Z",
     "iopub.status.idle": "2024-05-27T14:49:28.771656Z",
     "shell.execute_reply": "2024-05-27T14:49:28.771311Z",
     "shell.execute_reply.started": "2024-05-27T14:49:28.762456Z"
    }
   },
   "outputs": [
    {
     "data": {
      "text/plain": [
       "dict_keys(['global', 'B', 'Mono', 'T_CD4_Naive', 'T_CD4_NonNaive', 'T_CD8_Naive', 'T_CD8_NonNaive', 'Plasma', 'UTC', 'pDC', 'ILC', 'DC'])"
      ]
     },
     "execution_count": 31,
     "metadata": {},
     "output_type": "execute_result"
    }
   ],
   "source": [
    "gene_set_dictionary.keys()"
   ]
  },
  {
   "cell_type": "markdown",
   "id": "6a16274a-86b5-4155-b12b-a3b86add26f5",
   "metadata": {},
   "source": [
    "## Modify gene names to ENSG names"
   ]
  },
  {
   "cell_type": "code",
   "execution_count": 32,
   "id": "c11dee5c-907b-41a6-be24-a6402c9a25cf",
   "metadata": {
    "execution": {
     "iopub.execute_input": "2024-05-27T14:49:28.772376Z",
     "iopub.status.busy": "2024-05-27T14:49:28.772109Z",
     "iopub.status.idle": "2024-05-27T14:49:28.862190Z",
     "shell.execute_reply": "2024-05-27T14:49:28.861796Z",
     "shell.execute_reply.started": "2024-05-27T14:49:28.772360Z"
    }
   },
   "outputs": [
    {
     "data": {
      "text/html": [
       "<div>\n",
       "<style scoped>\n",
       "    .dataframe tbody tr th:only-of-type {\n",
       "        vertical-align: middle;\n",
       "    }\n",
       "\n",
       "    .dataframe tbody tr th {\n",
       "        vertical-align: top;\n",
       "    }\n",
       "\n",
       "    .dataframe thead th {\n",
       "        text-align: right;\n",
       "    }\n",
       "</style>\n",
       "<table border=\"1\" class=\"dataframe\">\n",
       "  <thead>\n",
       "    <tr style=\"text-align: right;\">\n",
       "      <th></th>\n",
       "      <th>hgnc_id</th>\n",
       "      <th>symbol</th>\n",
       "      <th>locus_group</th>\n",
       "      <th>HUGO_status</th>\n",
       "      <th>mt</th>\n",
       "      <th>ribo</th>\n",
       "      <th>hb</th>\n",
       "      <th>plt</th>\n",
       "    </tr>\n",
       "    <tr>\n",
       "      <th>ensembl_gene_id</th>\n",
       "      <th></th>\n",
       "      <th></th>\n",
       "      <th></th>\n",
       "      <th></th>\n",
       "      <th></th>\n",
       "      <th></th>\n",
       "      <th></th>\n",
       "      <th></th>\n",
       "    </tr>\n",
       "  </thead>\n",
       "  <tbody>\n",
       "    <tr>\n",
       "      <th>ENSG00000000003</th>\n",
       "      <td>HGNC:11858</td>\n",
       "      <td>TSPAN6</td>\n",
       "      <td>protein_coding</td>\n",
       "      <td>official</td>\n",
       "      <td>False</td>\n",
       "      <td>False</td>\n",
       "      <td>False</td>\n",
       "      <td>False</td>\n",
       "    </tr>\n",
       "    <tr>\n",
       "      <th>ENSG00000000419</th>\n",
       "      <td>HGNC:3005</td>\n",
       "      <td>DPM1</td>\n",
       "      <td>protein_coding</td>\n",
       "      <td>official</td>\n",
       "      <td>False</td>\n",
       "      <td>False</td>\n",
       "      <td>False</td>\n",
       "      <td>False</td>\n",
       "    </tr>\n",
       "    <tr>\n",
       "      <th>ENSG00000000457</th>\n",
       "      <td>HGNC:19285</td>\n",
       "      <td>SCYL3</td>\n",
       "      <td>protein_coding</td>\n",
       "      <td>official</td>\n",
       "      <td>False</td>\n",
       "      <td>False</td>\n",
       "      <td>False</td>\n",
       "      <td>False</td>\n",
       "    </tr>\n",
       "    <tr>\n",
       "      <th>ENSG00000000460</th>\n",
       "      <td>HGNC:25565</td>\n",
       "      <td>FIRRM</td>\n",
       "      <td>protein_coding</td>\n",
       "      <td>official</td>\n",
       "      <td>False</td>\n",
       "      <td>False</td>\n",
       "      <td>False</td>\n",
       "      <td>False</td>\n",
       "    </tr>\n",
       "    <tr>\n",
       "      <th>ENSG00000000938</th>\n",
       "      <td>HGNC:3697</td>\n",
       "      <td>FGR</td>\n",
       "      <td>protein_coding</td>\n",
       "      <td>official</td>\n",
       "      <td>False</td>\n",
       "      <td>False</td>\n",
       "      <td>False</td>\n",
       "      <td>False</td>\n",
       "    </tr>\n",
       "    <tr>\n",
       "      <th>...</th>\n",
       "      <td>...</td>\n",
       "      <td>...</td>\n",
       "      <td>...</td>\n",
       "      <td>...</td>\n",
       "      <td>...</td>\n",
       "      <td>...</td>\n",
       "      <td>...</td>\n",
       "      <td>...</td>\n",
       "    </tr>\n",
       "    <tr>\n",
       "      <th>ENSG00000288253</th>\n",
       "      <td>NaN</td>\n",
       "      <td>ENSG00000288253</td>\n",
       "      <td>lncRNA</td>\n",
       "      <td>non-official</td>\n",
       "      <td>False</td>\n",
       "      <td>False</td>\n",
       "      <td>False</td>\n",
       "      <td>False</td>\n",
       "    </tr>\n",
       "    <tr>\n",
       "      <th>ENSG00000288302</th>\n",
       "      <td>NaN</td>\n",
       "      <td>LOC124903386</td>\n",
       "      <td>lncRNA</td>\n",
       "      <td>non-official</td>\n",
       "      <td>False</td>\n",
       "      <td>False</td>\n",
       "      <td>False</td>\n",
       "      <td>False</td>\n",
       "    </tr>\n",
       "    <tr>\n",
       "      <th>ENSG00000288398</th>\n",
       "      <td>NaN</td>\n",
       "      <td>ENSG00000288398</td>\n",
       "      <td>lncRNA</td>\n",
       "      <td>non-official</td>\n",
       "      <td>False</td>\n",
       "      <td>False</td>\n",
       "      <td>False</td>\n",
       "      <td>False</td>\n",
       "    </tr>\n",
       "    <tr>\n",
       "      <th>ENSG00000288558</th>\n",
       "      <td>HGNC:54422</td>\n",
       "      <td>DUS4L-BCAP29</td>\n",
       "      <td>other</td>\n",
       "      <td>official</td>\n",
       "      <td>False</td>\n",
       "      <td>False</td>\n",
       "      <td>False</td>\n",
       "      <td>False</td>\n",
       "    </tr>\n",
       "    <tr>\n",
       "      <th>ENSG00000288596</th>\n",
       "      <td>HGNC:25646</td>\n",
       "      <td>C8orf44</td>\n",
       "      <td>other</td>\n",
       "      <td>official</td>\n",
       "      <td>False</td>\n",
       "      <td>False</td>\n",
       "      <td>False</td>\n",
       "      <td>False</td>\n",
       "    </tr>\n",
       "  </tbody>\n",
       "</table>\n",
       "<p>22838 rows × 8 columns</p>\n",
       "</div>"
      ],
      "text/plain": [
       "                    hgnc_id           symbol     locus_group   HUGO_status  \\\n",
       "ensembl_gene_id                                                              \n",
       "ENSG00000000003  HGNC:11858           TSPAN6  protein_coding      official   \n",
       "ENSG00000000419   HGNC:3005             DPM1  protein_coding      official   \n",
       "ENSG00000000457  HGNC:19285            SCYL3  protein_coding      official   \n",
       "ENSG00000000460  HGNC:25565            FIRRM  protein_coding      official   \n",
       "ENSG00000000938   HGNC:3697              FGR  protein_coding      official   \n",
       "...                     ...              ...             ...           ...   \n",
       "ENSG00000288253         NaN  ENSG00000288253          lncRNA  non-official   \n",
       "ENSG00000288302         NaN     LOC124903386          lncRNA  non-official   \n",
       "ENSG00000288398         NaN  ENSG00000288398          lncRNA  non-official   \n",
       "ENSG00000288558  HGNC:54422     DUS4L-BCAP29           other      official   \n",
       "ENSG00000288596  HGNC:25646          C8orf44           other      official   \n",
       "\n",
       "                    mt   ribo     hb    plt  \n",
       "ensembl_gene_id                              \n",
       "ENSG00000000003  False  False  False  False  \n",
       "ENSG00000000419  False  False  False  False  \n",
       "ENSG00000000457  False  False  False  False  \n",
       "ENSG00000000460  False  False  False  False  \n",
       "ENSG00000000938  False  False  False  False  \n",
       "...                ...    ...    ...    ...  \n",
       "ENSG00000288253  False  False  False  False  \n",
       "ENSG00000288302  False  False  False  False  \n",
       "ENSG00000288398  False  False  False  False  \n",
       "ENSG00000288558  False  False  False  False  \n",
       "ENSG00000288596  False  False  False  False  \n",
       "\n",
       "[22838 rows x 8 columns]"
      ]
     },
     "execution_count": 32,
     "metadata": {},
     "output_type": "execute_result"
    }
   ],
   "source": [
    "varDF = pd.read_csv(here('03_downstream_analysis/05_SPECTRA/results/varDF.csv'), index_col=0)\n",
    "varDF"
   ]
  },
  {
   "cell_type": "code",
   "execution_count": 33,
   "id": "7e14724d-ed38-4f25-af8f-18a5b50a0598",
   "metadata": {
    "execution": {
     "iopub.execute_input": "2024-05-27T14:49:28.863054Z",
     "iopub.status.busy": "2024-05-27T14:49:28.862774Z",
     "iopub.status.idle": "2024-05-27T14:49:29.214614Z",
     "shell.execute_reply": "2024-05-27T14:49:29.214215Z",
     "shell.execute_reply.started": "2024-05-27T14:49:28.863037Z"
    }
   },
   "outputs": [],
   "source": [
    "import warnings\n",
    "warnings.filterwarnings(\"ignore\")\n",
    "# Initialize the new gene_set_dictionary_ensg\n",
    "gene_set_dictionary_ensg = {}\n",
    "\n",
    "# Iterate over each key-value pair in gene_set_dictionary\n",
    "for cell_type, gene_sets in gene_set_dictionary.items():\n",
    "    # Initialize a new dictionary for the cell type\n",
    "    cell_type_dict_ensg = {}\n",
    "    \n",
    "    # Iterate over each gene set in the current cell type\n",
    "    for gene_set_name, gene_set_genes in gene_sets.items():\n",
    "        ID2SymbolDF = generateID2SymbolDF(varDF = varDF, \n",
    "                                          symbolList = set(gene_set_genes), \n",
    "                                          ID_col = 'index', \n",
    "                                          symbols_col = 'symbol', \n",
    "                                          HUGOstatus_col = 'HUGO_status', \n",
    "                                          behaviour = 'all')\n",
    "        \n",
    "        # Find genes with multiple ENSG IDs\n",
    "        multiple_ids = ID2SymbolDF[ID2SymbolDF.duplicated(subset='symbol', keep=False)]\n",
    "        if not multiple_ids.empty:\n",
    "            print(f\"Warning: Gene set '{gene_set_name}' in cell type '{cell_type}' contains {len(multiple_ids)} genes with multiple ENSG IDs:\")\n",
    "            print(multiple_ids)\n",
    "        \n",
    "        # Map symbols to ENSG IDs using ID2SymbolDF\n",
    "        gene_set_genes_ensg = ID2SymbolDF['gene_id'].tolist()\n",
    "        \n",
    "        # Add the gene set to the new dictionary\n",
    "        cell_type_dict_ensg[gene_set_name] = gene_set_genes_ensg\n",
    "    \n",
    "    # Add the new dictionary to gene_set_dictionary_ensg\n",
    "    gene_set_dictionary_ensg[cell_type] = cell_type_dict_ensg\n",
    "warnings.filterwarnings(\"default\")"
   ]
  },
  {
   "cell_type": "code",
   "execution_count": 34,
   "id": "c5ba4546-0340-4c1b-afb3-0477b2467b64",
   "metadata": {
    "execution": {
     "iopub.execute_input": "2024-05-27T14:49:29.215317Z",
     "iopub.status.busy": "2024-05-27T14:49:29.215164Z",
     "iopub.status.idle": "2024-05-27T14:49:29.218646Z",
     "shell.execute_reply": "2024-05-27T14:49:29.218278Z",
     "shell.execute_reply.started": "2024-05-27T14:49:29.215301Z"
    }
   },
   "outputs": [
    {
     "name": "stdout",
     "output_type": "stream",
     "text": [
      "global: 6\n",
      "B: 10\n",
      "Mono: 11\n",
      "T_CD4_Naive: 14\n",
      "T_CD4_NonNaive: 14\n",
      "T_CD8_Naive: 11\n",
      "T_CD8_NonNaive: 11\n",
      "Plasma: 9\n",
      "UTC: 9\n",
      "pDC: 9\n",
      "ILC: 9\n",
      "DC: 10\n",
      "Total: 123\n"
     ]
    }
   ],
   "source": [
    "key_counts = {}\n",
    "\n",
    "# Loop through the keys and calculate the number of keys within each key\n",
    "total_count = 0\n",
    "for key, value in gene_set_dictionary_ensg.items():\n",
    "    if isinstance(value, dict):\n",
    "        key_counts[key] = len(value)\n",
    "        total_count += len(value)\n",
    "    else:\n",
    "        key_counts[key] = 0\n",
    "\n",
    "# Print the number of keys within each key\n",
    "for key, count in key_counts.items():\n",
    "    print(f\"{key}: {count}\")\n",
    "\n",
    "print(f\"Total: {total_count}\")"
   ]
  },
  {
   "cell_type": "code",
   "execution_count": null,
   "id": "c75cf52c-7049-45bf-9fc2-1ac744631ee3",
   "metadata": {},
   "outputs": [],
   "source": []
  },
  {
   "cell_type": "code",
   "execution_count": null,
   "id": "e395410b-5a11-456b-b034-dd313d846996",
   "metadata": {},
   "outputs": [],
   "source": []
  },
  {
   "cell_type": "markdown",
   "id": "60e87926-2dd2-4edb-8257-4af30c8999c9",
   "metadata": {},
   "source": [
    "# Save GeneSet"
   ]
  },
  {
   "cell_type": "code",
   "execution_count": 35,
   "id": "16b99da4-1065-4abf-9ad5-0c98cc45d9c3",
   "metadata": {
    "execution": {
     "iopub.execute_input": "2024-05-27T14:49:29.219395Z",
     "iopub.status.busy": "2024-05-27T14:49:29.219109Z",
     "iopub.status.idle": "2024-05-27T14:49:29.231897Z",
     "shell.execute_reply": "2024-05-27T14:49:29.231554Z",
     "shell.execute_reply.started": "2024-05-27T14:49:29.219378Z"
    }
   },
   "outputs": [],
   "source": [
    "with open('{}/03_downstream_analysis/05_SPECTRA/results/SPECTRA_GeneSet_symbol_v2.pickle'.format(workDir), 'wb') as f:\n",
    "    pickle.dump(gene_set_dictionary, f, pickle.HIGHEST_PROTOCOL)"
   ]
  },
  {
   "cell_type": "code",
   "execution_count": 36,
   "id": "a16396dd-994f-4eef-bb2f-4449f9e57a20",
   "metadata": {
    "execution": {
     "iopub.execute_input": "2024-05-27T14:49:29.232582Z",
     "iopub.status.busy": "2024-05-27T14:49:29.232356Z",
     "iopub.status.idle": "2024-05-27T14:49:29.250379Z",
     "shell.execute_reply": "2024-05-27T14:49:29.250030Z",
     "shell.execute_reply.started": "2024-05-27T14:49:29.232566Z"
    }
   },
   "outputs": [],
   "source": [
    "with open('{}/03_downstream_analysis/05_SPECTRA/results/SPECTRA_GeneSet_ensg_v2.pickle'.format(workDir), 'wb') as f:\n",
    "    pickle.dump(gene_set_dictionary_ensg, f, pickle.HIGHEST_PROTOCOL)"
   ]
  },
  {
   "cell_type": "code",
   "execution_count": null,
   "id": "73bf2c40-3622-4478-8f3f-a73e613597e0",
   "metadata": {},
   "outputs": [],
   "source": []
  },
  {
   "cell_type": "code",
   "execution_count": null,
   "id": "c0d59149-71a4-46ba-927c-6b9315753f18",
   "metadata": {},
   "outputs": [],
   "source": []
  },
  {
   "cell_type": "code",
   "execution_count": 37,
   "id": "145636c7-937f-4cf0-b055-17d5322a3e6b",
   "metadata": {
    "execution": {
     "iopub.execute_input": "2024-05-27T14:49:29.251136Z",
     "iopub.status.busy": "2024-05-27T14:49:29.250865Z",
     "iopub.status.idle": "2024-05-27T14:49:29.253262Z",
     "shell.execute_reply": "2024-05-27T14:49:29.252923Z",
     "shell.execute_reply.started": "2024-05-27T14:49:29.251120Z"
    }
   },
   "outputs": [],
   "source": [
    "def extract_genes(dictionary):\n",
    "    for key, value in dictionary.items():\n",
    "        if isinstance(value, dict):\n",
    "            yield from extract_genes(value)\n",
    "        else:\n",
    "            yield value"
   ]
  },
  {
   "cell_type": "code",
   "execution_count": 38,
   "id": "87236641-02c2-473c-aa5f-db79c6aa1144",
   "metadata": {
    "execution": {
     "iopub.execute_input": "2024-05-27T14:49:29.253934Z",
     "iopub.status.busy": "2024-05-27T14:49:29.253723Z",
     "iopub.status.idle": "2024-05-27T14:49:29.265234Z",
     "shell.execute_reply": "2024-05-27T14:49:29.264895Z",
     "shell.execute_reply.started": "2024-05-27T14:49:29.253919Z"
    }
   },
   "outputs": [],
   "source": [
    "import itertools\n",
    "gene_set_dictionary_symbol = list(set(itertools.chain(*extract_genes(gene_set_dictionary))))\n",
    "gene_set_dictionary_ensg = list(set(itertools.chain(*extract_genes(gene_set_dictionary_ensg))))"
   ]
  },
  {
   "cell_type": "code",
   "execution_count": 39,
   "id": "38297473-d031-4120-9319-66e2dd8a3ba8",
   "metadata": {
    "execution": {
     "iopub.execute_input": "2024-05-27T14:49:29.265967Z",
     "iopub.status.busy": "2024-05-27T14:49:29.265698Z",
     "iopub.status.idle": "2024-05-27T14:49:29.275056Z",
     "shell.execute_reply": "2024-05-27T14:49:29.274726Z",
     "shell.execute_reply.started": "2024-05-27T14:49:29.265951Z"
    }
   },
   "outputs": [
    {
     "data": {
      "text/plain": [
       "865"
      ]
     },
     "execution_count": 39,
     "metadata": {},
     "output_type": "execute_result"
    }
   ],
   "source": [
    "len(gene_set_dictionary_symbol)"
   ]
  },
  {
   "cell_type": "code",
   "execution_count": 40,
   "id": "e9f7bc6d-5c2f-48b0-9da8-06d0be9d3675",
   "metadata": {
    "execution": {
     "iopub.execute_input": "2024-05-27T14:49:29.275729Z",
     "iopub.status.busy": "2024-05-27T14:49:29.275505Z",
     "iopub.status.idle": "2024-05-27T14:49:29.302950Z",
     "shell.execute_reply": "2024-05-27T14:49:29.302613Z",
     "shell.execute_reply.started": "2024-05-27T14:49:29.275714Z"
    }
   },
   "outputs": [
    {
     "data": {
      "text/plain": [
       "734"
      ]
     },
     "execution_count": 40,
     "metadata": {},
     "output_type": "execute_result"
    }
   ],
   "source": [
    "len(gene_set_dictionary_ensg)"
   ]
  }
 ],
 "metadata": {
  "kernelspec": {
   "display_name": "Python 3 (ipykernel)",
   "language": "python",
   "name": "python3"
  },
  "language_info": {
   "codemirror_mode": {
    "name": "ipython",
    "version": 3
   },
   "file_extension": ".py",
   "mimetype": "text/x-python",
   "name": "python",
   "nbconvert_exporter": "python",
   "pygments_lexer": "ipython3",
   "version": "3.10.13"
  }
 },
 "nbformat": 4,
 "nbformat_minor": 5
}
