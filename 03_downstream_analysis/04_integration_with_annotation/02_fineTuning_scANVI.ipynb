{
 "cells": [
  {
   "cell_type": "code",
   "execution_count": 1,
   "id": "044a9326-0745-430b-a00f-48663be02989",
   "metadata": {
    "execution": {
     "iopub.execute_input": "2024-05-28T05:32:21.169925Z",
     "iopub.status.busy": "2024-05-28T05:32:21.169273Z",
     "iopub.status.idle": "2024-05-28T05:32:26.093923Z",
     "shell.execute_reply": "2024-05-28T05:32:26.093140Z",
     "shell.execute_reply.started": "2024-05-28T05:32:21.169893Z"
    },
    "papermill": {
     "duration": 4.801442,
     "end_time": "2024-05-24T08:59:13.048825",
     "exception": false,
     "start_time": "2024-05-24T08:59:08.247383",
     "status": "completed"
    },
    "tags": []
   },
   "outputs": [
    {
     "name": "stderr",
     "output_type": "stream",
     "text": [
      "WARNING:root:In order to use the mouse gastrulation seqFISH datsets, please install squidpy (see https://github.com/scverse/squidpy).\n",
      "/home/jupyter/conda_envs/scarches/lib/python3.9/site-packages/tqdm/auto.py:21: TqdmWarning: IProgress not found. Please update jupyter and ipywidgets. See https://ipywidgets.readthedocs.io/en/stable/user_install.html\n",
      "  from .autonotebook import tqdm as notebook_tqdm\n",
      "WARNING:root:In order to use sagenet models, please install pytorch geometric (see https://pytorch-geometric.readthedocs.io) and \n",
      " captum (see https://github.com/pytorch/captum).\n",
      "WARNING:root:mvTCR is not installed. To use mvTCR models, please install it first using \"pip install mvtcr\"\n",
      "WARNING:root:multigrate is not installed. To use multigrate models, please install it first using \"pip install multigrate\".\n",
      "INFO: Seed set to 42\n",
      "INFO:lightning.fabric.utilities.seed:Seed set to 42\n"
     ]
    }
   ],
   "source": [
    "import os\n",
    "import sys\n",
    "\n",
    "import json\n",
    "\n",
    "import numpy as np\n",
    "import scanpy as sc\n",
    "import pandas as pd\n",
    "import matplotlib.pyplot as plt\n",
    "import seaborn as sns\n",
    "from sklearn.metrics import classification_report\n",
    "\n",
    "import scarches as sca\n",
    "from scarches.dataset.trvae.data_handling import remove_sparsity\n",
    "import matplotlib.pyplot as plt\n",
    "\n",
    "from lightning.pytorch.callbacks import ModelCheckpoint\n",
    "\n",
    "import torch\n",
    "\n",
    "from dotenv import load_dotenv\n",
    "\n",
    "from lightning.pytorch.loggers import WandbLogger\n",
    "import wandb\n",
    "\n",
    "import session_info\n",
    "import warnings\n",
    "from pyprojroot.here import here\n",
    "\n",
    "#plt.style.use(['science','nature','no-latex'])\n",
    "dpi_fig_save = 300\n",
    "sc.set_figure_params(dpi=100, dpi_save=dpi_fig_save, vector_friendly=True)\n",
    "\n",
    "# Setting some parameters\n",
    "warnings.filterwarnings(\"ignore\")\n",
    "\n",
    "from sklearn.model_selection import StratifiedKFold\n",
    "\n",
    "overwriteData = True\n",
    "overwriteFigures = True\n",
    "\n",
    "# Set random seed\n",
    "random_seed = 42\n",
    "\n",
    "import warnings\n",
    "warnings.filterwarnings('ignore')\n",
    "\n",
    "import scvi\n",
    "scvi.settings.dl_num_workers = 0\n",
    "scvi.settings.seed = random_seed\n",
    "\n",
    "#torch.set_float32_matmul_precision('high')\n",
    "#torch.set_printoptions(precision=3, sci_mode=False, edgeitems=7)\n",
    "# torch.multiprocessing.set_sharing_strategy('file_system')\n",
    "\n",
    "%load_ext autoreload\n",
    "%autoreload 2"
   ]
  },
  {
   "cell_type": "code",
   "execution_count": null,
   "id": "e9230839-98a4-4ab3-a28a-05e68e858dd0",
   "metadata": {
    "papermill": {
     "duration": 0.05748,
     "end_time": "2024-05-24T08:59:13.482794",
     "exception": false,
     "start_time": "2024-05-24T08:59:13.425314",
     "status": "completed"
    },
    "tags": []
   },
   "outputs": [],
   "source": [
    "assert load_dotenv()"
   ]
  },
  {
   "cell_type": "code",
   "execution_count": null,
   "id": "6af74995-eeba-493d-999c-501287dd809c",
   "metadata": {
    "papermill": {
     "duration": 0.047411,
     "end_time": "2024-05-24T08:59:13.534008",
     "exception": false,
     "start_time": "2024-05-24T08:59:13.486597",
     "status": "completed"
    },
    "tags": []
   },
   "outputs": [],
   "source": [
    "workingDir = here('03_downstream_analysis/04_integration_with_annotation/')\n",
    "workingDir"
   ]
  },
  {
   "cell_type": "code",
   "execution_count": null,
   "id": "1dae1184-00db-4d0c-8e49-42b1df5f9d30",
   "metadata": {
    "papermill": {
     "duration": 0.045444,
     "end_time": "2024-05-24T08:59:13.583448",
     "exception": false,
     "start_time": "2024-05-24T08:59:13.538004",
     "status": "completed"
    },
    "tags": []
   },
   "outputs": [],
   "source": [
    "class CustomWandbLogger(WandbLogger):\n",
    "    @property\n",
    "    def save_dir(self):\n",
    "        \"\"\"Gets the save directory.\n",
    "\n",
    "        Returns:\n",
    "            The path to the save directory.\n",
    "\n",
    "        \"\"\"\n",
    "        return self.experiment.dir"
   ]
  },
  {
   "cell_type": "code",
   "execution_count": null,
   "id": "70cb28c1-38c5-4910-98e5-a4d786f256d7",
   "metadata": {
    "papermill": {
     "duration": 0.045065,
     "end_time": "2024-05-24T08:59:13.632345",
     "exception": false,
     "start_time": "2024-05-24T08:59:13.587280",
     "status": "completed"
    },
    "tags": []
   },
   "outputs": [],
   "source": [
    "scvi.__version__"
   ]
  },
  {
   "cell_type": "markdown",
   "id": "e11bbe22-69a0-40d4-b609-7e108d2bcb46",
   "metadata": {
    "execution": {
     "iopub.execute_input": "2024-04-10T14:14:35.228151Z",
     "iopub.status.busy": "2024-04-10T14:14:35.226856Z",
     "iopub.status.idle": "2024-04-10T14:14:35.273260Z",
     "shell.execute_reply": "2024-04-10T14:14:35.272159Z",
     "shell.execute_reply.started": "2024-04-10T14:14:35.228101Z"
    },
    "papermill": {
     "duration": 0.003906,
     "end_time": "2024-05-24T08:59:13.640213",
     "exception": false,
     "start_time": "2024-05-24T08:59:13.636307",
     "status": "completed"
    },
    "tags": []
   },
   "source": [
    "# Loading data\n"
   ]
  },
  {
   "cell_type": "code",
   "execution_count": null,
   "id": "f93686ba-9680-4b63-97c9-a0bc0a799c29",
   "metadata": {
    "papermill": {
     "duration": 95.906203,
     "end_time": "2024-05-24T09:00:49.550662",
     "exception": false,
     "start_time": "2024-05-24T08:59:13.644459",
     "status": "completed"
    },
    "tags": []
   },
   "outputs": [],
   "source": [
    "# Load the h5ad file\n",
    "adata = sc.read_h5ad(here(\"03_downstream_analysis/04_integration_with_annotation/04_MAIN_geneUniverse_noRBCnPlatelets.h5ad\"))#, \n",
    "                     #backed='r+', chunk_size=50000)\n"
   ]
  },
  {
   "cell_type": "code",
   "execution_count": null,
   "id": "d2c439f5-df7e-4c19-a065-af40583f4b39",
   "metadata": {
    "papermill": {
     "duration": 0.111154,
     "end_time": "2024-05-24T09:00:49.666365",
     "exception": false,
     "start_time": "2024-05-24T09:00:49.555211",
     "status": "completed"
    },
    "tags": []
   },
   "outputs": [],
   "source": [
    "adata.obs['binned_age'] = adata.obs['binned_age'].astype(str)"
   ]
  },
  {
   "cell_type": "raw",
   "id": "3b00d51b-ffb9-4aa3-b875-227755b5fc60",
   "metadata": {
    "execution": {
     "iopub.execute_input": "2024-05-14T18:03:20.489783Z",
     "iopub.status.busy": "2024-05-14T18:03:20.488996Z",
     "iopub.status.idle": "2024-05-14T18:03:21.524929Z",
     "shell.execute_reply": "2024-05-14T18:03:21.523944Z",
     "shell.execute_reply.started": "2024-05-14T18:03:20.489755Z"
    },
    "papermill": {
     "duration": 0.004194,
     "end_time": "2024-05-24T09:00:49.675198",
     "exception": false,
     "start_time": "2024-05-24T09:00:49.671004",
     "status": "completed"
    },
    "tags": []
   },
   "source": [
    "adata.obs['binned_age_cod'] = adata.obs.binned_age.cat.codes\n",
    "adata.obs['chemistry_cod'] = adata.obs.chemistry.cat.codes\n",
    "adata.obs['libraryID_cod'] = adata.obs.libraryID.cat.codes\n",
    "adata.obs['studyID_cod'] = adata.obs.studyID.cat.codes\n",
    "adata.obs['sex_cod'] = adata.obs.sex.cat.codes\n",
    "adata.obs['Level1_cod'] = adata.obs.Level1.cat.codes.astype(str)"
   ]
  },
  {
   "cell_type": "markdown",
   "id": "b0be110e-257c-4c59-8f3a-13b27717eee6",
   "metadata": {
    "papermill": {
     "duration": 0.003953,
     "end_time": "2024-05-24T09:00:49.683286",
     "exception": false,
     "start_time": "2024-05-24T09:00:49.679333",
     "status": "completed"
    },
    "tags": []
   },
   "source": [
    "#### Preparing scANVI training"
   ]
  },
  {
   "cell_type": "code",
   "execution_count": null,
   "id": "f2113194-479e-4d84-b832-e92354d2e69b",
   "metadata": {
    "papermill": {
     "duration": 32.846557,
     "end_time": "2024-05-24T09:01:22.533683",
     "exception": false,
     "start_time": "2024-05-24T09:00:49.687126",
     "status": "completed"
    },
    "tags": []
   },
   "outputs": [],
   "source": [
    "scvi_model = sca.models.SCVI.load(here(f\"{workingDir}/results/scVI_model_pretreined_noRBCnPlat/\"), adata=adata) "
   ]
  },
  {
   "cell_type": "markdown",
   "id": "539a994a-0db7-423e-a6e1-d89b2a47bc2b",
   "metadata": {
    "papermill": {
     "duration": 0.004363,
     "end_time": "2024-05-24T09:01:22.542750",
     "exception": false,
     "start_time": "2024-05-24T09:01:22.538387",
     "status": "completed"
    },
    "tags": []
   },
   "source": [
    "### Fine tuning with scANVI"
   ]
  },
  {
   "cell_type": "markdown",
   "id": "d2d15b0d-ee7d-4e57-a26a-eea547cf6a70",
   "metadata": {
    "papermill": {
     "duration": 0.003992,
     "end_time": "2024-05-24T09:01:22.550797",
     "exception": false,
     "start_time": "2024-05-24T09:01:22.546805",
     "status": "completed"
    },
    "tags": []
   },
   "source": [
    "**Parameters**"
   ]
  },
  {
   "cell_type": "code",
   "execution_count": null,
   "id": "46c3857c-4d48-4326-8255-d0a718813b67",
   "metadata": {
    "papermill": {
     "duration": 0.049794,
     "end_time": "2024-05-24T09:01:22.604900",
     "exception": false,
     "start_time": "2024-05-24T09:01:22.555106",
     "status": "completed"
    },
    "tags": []
   },
   "outputs": [],
   "source": [
    "scANVI_trainer_kwargs = dict(\n",
    "    n_samples_per_label = None,\n",
    "    check_val_every_n_epoch = None,\n",
    "    train_size = 0.8,\n",
    "    validation_size = 0.2,\n",
    "    shuffle_set_split = True,\n",
    "    checkpointing_monitor = 'elbo_validation',\n",
    "    early_stopping_monitor = 'reconstruction_loss_validation',\n",
    "    early_stopping_patience = 2,\n",
    "    early_stopping_min_delta=0.1,\n",
    "    early_stopping = True,\n",
    "    max_epochs = 1000,\n",
    ")\n",
    "# https://docs.scvi-tools.org/en/stable/api/reference/scvi.train.TrainingPlan.html#scvi.train.TrainingPlan\n",
    "plan_kwargs = dict(\n",
    "    lr = 5e-5,\n",
    "    #reduce_lr_on_plateau = True\n",
    ")\n",
    "datasplitter_kwargs = dict(pin_memory=False)\n",
    "scanvi_parameter_dict = scANVI_trainer_kwargs | plan_kwargs | datasplitter_kwargs"
   ]
  },
  {
   "cell_type": "code",
   "execution_count": null,
   "id": "bf6c42eb-cbe2-4fe4-a495-fa1146bc9dbb",
   "metadata": {
    "papermill": {
     "duration": 0.047705,
     "end_time": "2024-05-24T09:01:22.656698",
     "exception": false,
     "start_time": "2024-05-24T09:01:22.608993",
     "status": "completed"
    },
    "tags": []
   },
   "outputs": [],
   "source": [
    "run_name = f\"MAINobj_scANVI_fineTuning_lowLR_noRBCnPlat\"\n",
    "run_name"
   ]
  },
  {
   "cell_type": "code",
   "execution_count": null,
   "id": "37bd7e04-22e9-457e-8090-24373f4b999f",
   "metadata": {
    "papermill": {
     "duration": 27.352332,
     "end_time": "2024-05-24T09:01:50.013574",
     "exception": false,
     "start_time": "2024-05-24T09:01:22.661242",
     "status": "completed"
    },
    "tags": []
   },
   "outputs": [],
   "source": [
    "scanvi_model = sca.models.SCANVI.from_scvi_model(scvi_model, unlabeled_category = \"unknown\")\n",
    "scanvi_model"
   ]
  },
  {
   "cell_type": "code",
   "execution_count": null,
   "id": "68d49d42-ac94-4b26-bf21-f5e836b4d635",
   "metadata": {
    "papermill": {
     "duration": 0.101107,
     "end_time": "2024-05-24T09:01:50.119340",
     "exception": false,
     "start_time": "2024-05-24T09:01:50.018233",
     "status": "completed"
    },
    "tags": []
   },
   "outputs": [],
   "source": [
    "logger = CustomWandbLogger(name = run_name, project='inflammation_atlas_R1_scANVI', config = scanvi_parameter_dict)"
   ]
  },
  {
   "cell_type": "code",
   "execution_count": null,
   "id": "67eb4c1e-6dff-44f6-a903-ffbd52c36de3",
   "metadata": {
    "papermill": {
     "duration": 0.045481,
     "end_time": "2024-05-24T09:01:50.169524",
     "exception": false,
     "start_time": "2024-05-24T09:01:50.124043",
     "status": "completed"
    },
    "tags": []
   },
   "outputs": [],
   "source": [
    "model_checkpoint = ModelCheckpoint(monitor='elbo_validation', every_n_epochs=1, save_last=True, save_top_k = -1, \n",
    "                                   dirpath=f\"{workingDir}/results/scANVI_model_fineTuned_lowLR_noRBCnPlat_checkpoints/\")"
   ]
  },
  {
   "cell_type": "code",
   "execution_count": null,
   "id": "0bc99a87-25c5-4a84-b39d-213c62a45049",
   "metadata": {
    "papermill": {
     "duration": 16856.192275,
     "end_time": "2024-05-24T13:42:46.366200",
     "exception": false,
     "start_time": "2024-05-24T09:01:50.173925",
     "status": "completed"
    },
    "tags": []
   },
   "outputs": [],
   "source": [
    "try:\n",
    "    scanvi_model.train(logger=logger, plan_kwargs = plan_kwargs, datasplitter_kwargs=datasplitter_kwargs, \n",
    "                       enable_checkpointing=True, callbacks=[model_checkpoint], \n",
    "                       **scANVI_trainer_kwargs) #SAME parameter as scVI\n",
    "    scanvi_model.save(here(f\"{workingDir}/results/scANVI_model_fineTuned_lowLR_noRBCnPlat/\"),\n",
    "               overwrite = True, \n",
    "               save_anndata = False)\n",
    "    scanvi_emb = scanvi_model.get_latent_representation(adata=adata)\n",
    "    np.savez_compressed(file = str(here(f\"{workingDir}/results/scANVI_model_fineTuned_lowLR_noRBCnPlat/scANVI_embedding.npz\")), arr=scanvi_emb)\n",
    "    \n",
    "except Exception as e:\n",
    "    print(f\"An error occurred: {e}\")\n",
    "    scanvi_model.save(here(f\"{workingDir}/results/scANVI_model_fineTuned_lowLR_noRBCnPlat_WITHERRORS/\"), \n",
    "                      overwrite=True, \n",
    "                      save_anndata=False)"
   ]
  },
  {
   "cell_type": "code",
   "execution_count": null,
   "id": "86e8d70c-7314-410b-a2ab-e25eb3a4ad7c",
   "metadata": {
    "papermill": {
     "duration": 6.85439,
     "end_time": "2024-05-24T13:42:53.227540",
     "exception": false,
     "start_time": "2024-05-24T13:42:46.373150",
     "status": "completed"
    },
    "scrolled": true,
    "tags": []
   },
   "outputs": [],
   "source": [
    "wandb.finish()"
   ]
  },
  {
   "cell_type": "raw",
   "id": "7e8ba1c8-3040-4356-a1b2-17b4a4fdf667",
   "metadata": {
    "papermill": {
     "duration": 0.00689,
     "end_time": "2024-05-24T13:42:53.242234",
     "exception": false,
     "start_time": "2024-05-24T13:42:53.235344",
     "status": "completed"
    },
    "tags": []
   },
   "source": [
    "if overwriteData:\n",
    "    scanvi_model.save(here(f\"{workingDir}/results/scANVI_model_pretreined_noRBCnPlat/\"),\n",
    "               overwrite = True, \n",
    "               save_anndata = False)"
   ]
  },
  {
   "cell_type": "raw",
   "id": "d7fe03de-261c-4c98-8095-2a136fb74d96",
   "metadata": {
    "papermill": {
     "duration": 0.007056,
     "end_time": "2024-05-24T13:42:53.256366",
     "exception": false,
     "start_time": "2024-05-24T13:42:53.249310",
     "status": "completed"
    },
    "tags": []
   },
   "source": [
    "scanvi_emb = scanvi_model.get_latent_representation(adata=adata)"
   ]
  },
  {
   "cell_type": "raw",
   "id": "e7bb9ade-2fae-4b74-821b-2f9ddcd7fe88",
   "metadata": {
    "papermill": {
     "duration": 0.006972,
     "end_time": "2024-05-24T13:42:53.270417",
     "exception": false,
     "start_time": "2024-05-24T13:42:53.263445",
     "status": "completed"
    },
    "tags": []
   },
   "source": [
    "np.savez_compressed(file = str(here(f\"{workingDir}/results/scANVI_model_pretreined_noRBCnPlat/scANVI_embedding.npz\")), arr=scanvi_emb)"
   ]
  }
 ],
 "metadata": {
  "kernelspec": {
   "display_name": "Python 3 (ipykernel)",
   "language": "python",
   "name": "python3"
  },
  "language_info": {
   "codemirror_mode": {
    "name": "ipython",
    "version": 3
   },
   "file_extension": ".py",
   "mimetype": "text/x-python",
   "name": "python",
   "nbconvert_exporter": "python",
   "pygments_lexer": "ipython3",
   "version": "3.9.19"
  },
  "papermill": {
   "default_parameters": {},
   "duration": 17034.255818,
   "end_time": "2024-05-24T13:43:01.572899",
   "environment_variables": {},
   "exception": null,
   "input_path": "02_fineTuning_scANVI.ipynb",
   "output_path": "02_fineTuning_scANVI_executed.ipynb",
   "parameters": {},
   "start_time": "2024-05-24T08:59:07.317081",
   "version": "2.5.0"
  }
 },
 "nbformat": 4,
 "nbformat_minor": 5
}
