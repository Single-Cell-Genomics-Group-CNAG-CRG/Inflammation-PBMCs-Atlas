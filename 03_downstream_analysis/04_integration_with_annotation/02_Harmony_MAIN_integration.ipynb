{
 "cells": [
  {
   "cell_type": "code",
   "execution_count": 1,
   "id": "efdb80f5-e899-4f33-bef2-150b34859a2d",
   "metadata": {
    "execution": {
     "iopub.execute_input": "2024-06-22T15:34:13.388961Z",
     "iopub.status.busy": "2024-06-22T15:34:13.388654Z",
     "iopub.status.idle": "2024-06-22T15:34:15.281309Z",
     "shell.execute_reply": "2024-06-22T15:34:15.280848Z",
     "shell.execute_reply.started": "2024-06-22T15:34:13.388938Z"
    }
   },
   "outputs": [],
   "source": [
    "import os\n",
    "\n",
    "import scanpy as sc\n",
    "import pandas as pd\n",
    "import numpy as np\n",
    "\n",
    "import symphonypy as sp\n",
    "\n",
    "from pyprojroot import here\n",
    "\n",
    "random_seed = 42"
   ]
  },
  {
   "cell_type": "markdown",
   "id": "4f98ff15-09e0-4f7b-8c65-d8de6867d52e",
   "metadata": {},
   "source": [
    "### Parameters"
   ]
  },
  {
   "cell_type": "code",
   "execution_count": null,
   "id": "0bf7189a-cba7-4d6d-a55b-226a12a20a02",
   "metadata": {},
   "outputs": [],
   "source": [
    "n_PC=30\n",
    "batch_keys = ['chemistry','libraryID','studyID','sex','binned_age']"
   ]
  },
  {
   "cell_type": "markdown",
   "id": "008170b2-f7e2-4c59-b434-b682dacf1110",
   "metadata": {},
   "source": [
    "### Loading reference data"
   ]
  },
  {
   "cell_type": "code",
   "execution_count": null,
   "id": "8e361302-99f5-48fe-989b-f196e18ae0dd",
   "metadata": {},
   "outputs": [],
   "source": [
    "adataR = sc.read_h5ad(here(\"03_downstream_analysis/02_gene_universe_definition/results/04_MAIN_geneUniverse_noRBCnPlatelets.log1p.h5ad\"))\n",
    "adataR"
   ]
  },
  {
   "cell_type": "markdown",
   "id": "0be9f746-fd30-4f97-9ec7-1a1e1f831776",
   "metadata": {},
   "source": [
    "### Preprocessing"
   ]
  },
  {
   "cell_type": "code",
   "execution_count": null,
   "id": "db7e0e86-4cfc-44f7-a6f1-1fa3795ad5a3",
   "metadata": {},
   "outputs": [],
   "source": [
    "## Loading already log-transformed data, thus avoiding the following steps\n",
    "#sc.pp.normalize_total(adataR, target_sum=1e4)\n",
    "#sc.pp.log1p(adataR)"
   ]
  },
  {
   "cell_type": "code",
   "execution_count": null,
   "id": "74e00e88-f97f-457b-928e-ee7c2e91b64a",
   "metadata": {},
   "outputs": [],
   "source": [
    "# We followed the tutorial from the python package (https://symphonypy.readthedocs.io/en/latest/usage.html)\n",
    "sc.pp.scale(adataR)"
   ]
  },
  {
   "cell_type": "code",
   "execution_count": null,
   "id": "07fb0fc9-4a10-47fb-b4d6-3b7d66286cfd",
   "metadata": {},
   "outputs": [],
   "source": [
    "sc.pp.pca(adataR, \n",
    "          n_comps=n_PC, \n",
    "          use_highly_variable = False,\n",
    "          zero_center=False)"
   ]
  },
  {
   "cell_type": "markdown",
   "id": "3109c878-d7d1-4372-9462-0ccdb78070dc",
   "metadata": {},
   "source": [
    "### Integration with Harmony"
   ]
  },
  {
   "cell_type": "code",
   "execution_count": null,
   "id": "d2e7eed3-c2e1-4031-a49f-89e32fe17130",
   "metadata": {},
   "outputs": [],
   "source": [
    "sp.pp.harmony_integrate(adataR,\n",
    "                        key=batch_keys, \n",
    "                        verbose = True, \n",
    "                        random_seed=random_seed,  \n",
    "                        **{'max_iter_harmony':100}, # harmony_kwargs | should reach convergence before\n",
    "                       )"
   ]
  },
  {
   "cell_type": "markdown",
   "id": "293069e9-53ac-4a34-88ef-633da997798d",
   "metadata": {},
   "source": [
    "### Save corrected embedded space"
   ]
  },
  {
   "cell_type": "code",
   "execution_count": 10,
   "id": "6943280d-8c20-4d58-8139-fb9d5ffe4209",
   "metadata": {
    "execution": {
     "iopub.execute_input": "2024-06-22T15:41:47.053076Z",
     "iopub.status.busy": "2024-06-22T15:41:47.052776Z",
     "iopub.status.idle": "2024-06-22T15:41:47.098074Z",
     "shell.execute_reply": "2024-06-22T15:41:47.097558Z",
     "shell.execute_reply.started": "2024-06-22T15:41:47.053057Z"
    }
   },
   "outputs": [
    {
     "data": {
      "text/plain": [
       "AnnData object with n_obs × n_vars = 4435922 × 10"
      ]
     },
     "execution_count": 10,
     "metadata": {},
     "output_type": "execute_result"
    }
   ],
   "source": [
    "adataPC = sc.AnnData(X = adataR.obsm['X_pca_harmony'], obs = adataR.obs[[]])\n",
    "adataPC"
   ]
  },
  {
   "cell_type": "code",
   "execution_count": null,
   "id": "8f1c2d07-2a4b-40c6-9d48-b3d55317870d",
   "metadata": {},
   "outputs": [],
   "source": [
    "adataPC.write(here('03_downstream_analysis/04_integration_with_annotation/results/02_Harmony_correctedPCs_noRBCnPlat.h5ad'), compression='gzip')"
   ]
  }
 ],
 "metadata": {
  "kernelspec": {
   "display_name": "Python 3 (ipykernel)",
   "language": "python",
   "name": "python3"
  },
  "language_info": {
   "codemirror_mode": {
    "name": "ipython",
    "version": 3
   },
   "file_extension": ".py",
   "mimetype": "text/x-python",
   "name": "python",
   "nbconvert_exporter": "python",
   "pygments_lexer": "ipython3",
   "version": "3.9.19"
  }
 },
 "nbformat": 4,
 "nbformat_minor": 5
}
