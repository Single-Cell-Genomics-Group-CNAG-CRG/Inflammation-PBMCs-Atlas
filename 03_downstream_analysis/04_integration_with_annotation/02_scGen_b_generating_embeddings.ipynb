{
 "cells": [
  {
   "cell_type": "code",
   "execution_count": 1,
   "id": "806b5f94-e055-4773-86fa-5b22d1d2b77b",
   "metadata": {
    "execution": {
     "iopub.execute_input": "2024-06-26T14:19:55.510775Z",
     "iopub.status.busy": "2024-06-26T14:19:55.510423Z",
     "iopub.status.idle": "2024-06-26T14:20:46.725557Z",
     "shell.execute_reply": "2024-06-26T14:20:46.725146Z",
     "shell.execute_reply.started": "2024-06-26T14:19:55.510757Z"
    }
   },
   "outputs": [
    {
     "name": "stderr",
     "output_type": "stream",
     "text": [
      "[rank: 0] Seed set to 42\n"
     ]
    },
    {
     "name": "stdout",
     "output_type": "stream",
     "text": [
      "scvi-tools version: 1.1.2\n"
     ]
    }
   ],
   "source": [
    "import os\n",
    "import sys\n",
    "\n",
    "import random \n",
    "import numpy as np\n",
    "import matplotlib.pyplot as plt\n",
    "\n",
    "import scanpy as sc\n",
    "import scvi\n",
    "import scgen\n",
    "\n",
    "import torch\n",
    "from lightning.pytorch.loggers import CSVLogger\n",
    "\n",
    "import pandas as pd\n",
    "\n",
    "import session_info\n",
    "import warnings\n",
    "from pyprojroot.here import here\n",
    "\n",
    "torch.set_float32_matmul_precision('medium')\n",
    "\n",
    "random_seed = 42\n",
    "\n",
    "#scvi.settings.dl_num_workers = 8\n",
    "scvi.settings.seed = random_seed\n",
    "print(\"scvi-tools version:\", scvi.__version__)"
   ]
  },
  {
   "cell_type": "markdown",
   "id": "1926f756-94c2-46cf-b88f-0c799a91f9ce",
   "metadata": {},
   "source": [
    "### Parameters"
   ]
  },
  {
   "cell_type": "code",
   "execution_count": 2,
   "id": "ff042e10-c165-4e81-b56b-269a8f122bbc",
   "metadata": {
    "execution": {
     "iopub.execute_input": "2024-06-26T14:20:46.733143Z",
     "iopub.status.busy": "2024-06-26T14:20:46.732983Z",
     "iopub.status.idle": "2024-06-26T14:20:46.735405Z",
     "shell.execute_reply": "2024-06-26T14:20:46.735043Z",
     "shell.execute_reply.started": "2024-06-26T14:20:46.733127Z"
    }
   },
   "outputs": [],
   "source": [
    "n_latent = 30\n",
    "batch_key = 'chemistry'\n",
    "annotation = 'Level1'"
   ]
  },
  {
   "cell_type": "markdown",
   "id": "d8271196-9d0e-4565-86cb-45641c26195d",
   "metadata": {},
   "source": [
    "## Loading data \n",
    "\n",
    "**MAIN adata**"
   ]
  },
  {
   "cell_type": "code",
   "execution_count": 3,
   "id": "46df101c-3cc7-45bf-80f0-9be3256b5da6",
   "metadata": {
    "execution": {
     "iopub.execute_input": "2024-06-26T14:20:46.737601Z",
     "iopub.status.busy": "2024-06-26T14:20:46.737315Z",
     "iopub.status.idle": "2024-06-26T14:22:10.519397Z",
     "shell.execute_reply": "2024-06-26T14:22:10.518860Z",
     "shell.execute_reply.started": "2024-06-26T14:20:46.737585Z"
    }
   },
   "outputs": [
    {
     "data": {
      "text/plain": [
       "AnnData object with n_obs × n_vars = 4279352 × 8253\n",
       "    obs: 'studyID', 'libraryID', 'sampleID', 'chemistry', 'disease', 'sex', 'binned_age', 'Level1', 'Level2'\n",
       "    var: 'hgnc_id', 'symbol', 'locus_group', 'HUGO_status', 'highly_variable'\n",
       "    uns: 'log1p'"
      ]
     },
     "execution_count": 3,
     "metadata": {},
     "output_type": "execute_result"
    }
   ],
   "source": [
    "adataM = sc.read_h5ad(here(\"03_downstream_analysis/02_gene_universe_definition/results/04_MAIN_geneUniverse_noRBCnPlatelets.log1p.h5ad\"))\n",
    "adataM"
   ]
  },
  {
   "cell_type": "markdown",
   "id": "8beba7fc-ba2f-474d-83ec-a4aa4a7d821c",
   "metadata": {},
   "source": [
    "**scGen preprocessing**"
   ]
  },
  {
   "cell_type": "code",
   "execution_count": 4,
   "id": "d717496f-0414-4d24-ad1c-522370f18e90",
   "metadata": {
    "execution": {
     "iopub.execute_input": "2024-06-26T14:22:10.520264Z",
     "iopub.status.busy": "2024-06-26T14:22:10.520105Z",
     "iopub.status.idle": "2024-06-26T14:22:11.484358Z",
     "shell.execute_reply": "2024-06-26T14:22:11.483863Z",
     "shell.execute_reply.started": "2024-06-26T14:22:10.520247Z"
    }
   },
   "outputs": [],
   "source": [
    "adataM.obs['batch'] = adataM.obs[batch_key].tolist()\n",
    "adataM.obs['cell_type'] = adataM.obs[annotation].tolist()\n",
    "scgen.SCGEN.setup_anndata(adataM, batch_key=\"batch\", labels_key=\"cell_type\")"
   ]
  },
  {
   "cell_type": "markdown",
   "id": "4cb3d137-f649-44df-8319-2a368a1dc940",
   "metadata": {},
   "source": [
    "**Loading trained scGen model**"
   ]
  },
  {
   "cell_type": "code",
   "execution_count": 5,
   "id": "91590a35-d5f9-4ac1-b104-e4e440d3abc5",
   "metadata": {
    "execution": {
     "iopub.execute_input": "2024-06-26T14:22:11.485165Z",
     "iopub.status.busy": "2024-06-26T14:22:11.484999Z",
     "iopub.status.idle": "2024-06-26T14:22:17.317699Z",
     "shell.execute_reply": "2024-06-26T14:22:17.317184Z",
     "shell.execute_reply.started": "2024-06-26T14:22:11.485148Z"
    }
   },
   "outputs": [
    {
     "name": "stdout",
     "output_type": "stream",
     "text": [
      "\u001b[34mINFO    \u001b[0m File                                                                                                      \n",
      "         \u001b[35m/scratch_isilon/groups/singlecell/shared/projects/Inflammation-PBMCs-Atlas/03_downstream_analysis/03_scA\u001b[0m\n",
      "         \u001b[35mNVI_integration_with_annotation/results/scGen_model_noRBCnPlat/\u001b[0m\u001b[95mmodel.pt\u001b[0m already downloaded                \n"
     ]
    },
    {
     "name": "stderr",
     "output_type": "stream",
     "text": [
      "/scratch_isilon/groups/singlecell/shared/conda_env/scvi-v112/lib/python3.9/site-packages/lightning/fabric/plugins/environments/slurm.py:191: The `srun` command is available on your system but is not used. HINT: If your intention is to run Lightning on SLURM, prepend your python command with `srun` like so: srun python3.9 /scratch_isilon/groups/singlecell/shared/conda_en ...\n"
     ]
    }
   ],
   "source": [
    "model_scGen = scgen.SCGEN.load(here('03_downstream_analysis/04_integration_with_annotation/results/scGen_model_noRBCnPlat'), adata = adataM)"
   ]
  },
  {
   "cell_type": "markdown",
   "id": "db34856c-435d-40cc-836b-3af290c25fbb",
   "metadata": {},
   "source": [
    "## Generating embedding spaces"
   ]
  },
  {
   "cell_type": "markdown",
   "id": "360e9396-f0a9-4091-b308-9e73765f3e7b",
   "metadata": {
    "execution": {
     "iopub.execute_input": "2024-06-14T10:32:32.049226Z",
     "iopub.status.busy": "2024-06-14T10:32:32.048899Z",
     "iopub.status.idle": "2024-06-14T10:32:32.104059Z",
     "shell.execute_reply": "2024-06-14T10:32:32.103590Z",
     "shell.execute_reply.started": "2024-06-14T10:32:32.049208Z"
    }
   },
   "source": [
    "### Correcting adata"
   ]
  },
  {
   "cell_type": "code",
   "execution_count": 6,
   "id": "d49a4a2d-c91c-4c48-90fd-e6ab6b355ed6",
   "metadata": {
    "execution": {
     "iopub.execute_input": "2024-06-26T14:22:17.318661Z",
     "iopub.status.busy": "2024-06-26T14:22:17.318362Z",
     "iopub.status.idle": "2024-06-26T14:30:12.572227Z",
     "shell.execute_reply": "2024-06-26T14:30:12.571676Z",
     "shell.execute_reply.started": "2024-06-26T14:22:17.318643Z"
    }
   },
   "outputs": [
    {
     "name": "stderr",
     "output_type": "stream",
     "text": [
      "/scratch_isilon/groups/singlecell/shared/conda_env/scvi-v112/lib/python3.9/site-packages/scgen/_scgen.py:268: FutureWarning: Use anndata.concat instead of AnnData.concatenate, AnnData.concatenate is deprecated and will be removed in the future. See the tutorial for concat at: https://anndata.readthedocs.io/en/latest/concatenation.html\n",
      "  all_shared_ann = AnnData.concatenate(\n",
      "/scratch_isilon/groups/singlecell/shared/conda_env/scvi-v112/lib/python3.9/site-packages/scgen/_scgen.py:287: ImplicitModificationWarning: Setting element `.obsm['latent']` of view, initializing view as actual.\n",
      "  corrected.obsm[\"latent\"] = all_shared_ann[corrected.obs_names,:].X\n"
     ]
    },
    {
     "name": "stdout",
     "output_type": "stream",
     "text": [
      "\u001b[34mINFO    \u001b[0m Input AnnData not setup with scvi-tools. attempting to transfer AnnData setup                             \n"
     ]
    },
    {
     "data": {
      "text/plain": [
       "AnnData object with n_obs × n_vars = 4279352 × 8253\n",
       "    obs: 'studyID', 'libraryID', 'sampleID', 'chemistry', 'disease', 'sex', 'binned_age', 'Level1', 'Level2', 'batch', 'cell_type', '_scvi_batch', '_scvi_labels'\n",
       "    uns: '_scvi_uuid', '_scvi_manager_uuid'\n",
       "    obsm: 'latent', 'corrected_latent'"
      ]
     },
     "execution_count": 6,
     "metadata": {},
     "output_type": "execute_result"
    }
   ],
   "source": [
    "adata_scGen = model_scGen.batch_removal()\n",
    "adata_scGen"
   ]
  },
  {
   "cell_type": "markdown",
   "id": "545bee67-0a7b-4793-8b1d-2b854a2ca466",
   "metadata": {
    "execution": {
     "iopub.execute_input": "2024-06-23T10:13:33.587067Z",
     "iopub.status.busy": "2024-06-23T10:13:33.586690Z",
     "iopub.status.idle": "2024-06-23T10:13:33.590678Z",
     "shell.execute_reply": "2024-06-23T10:13:33.590298Z",
     "shell.execute_reply.started": "2024-06-23T10:13:33.587048Z"
    }
   },
   "source": [
    "### PCA on corrected expression matrix"
   ]
  },
  {
   "cell_type": "code",
   "execution_count": 12,
   "id": "cc6a5f67-bc44-4d8c-a771-0c05c229318e",
   "metadata": {
    "execution": {
     "iopub.execute_input": "2024-06-23T10:18:20.460068Z",
     "iopub.status.busy": "2024-06-23T10:18:20.459755Z",
     "iopub.status.idle": "2024-06-23T10:23:02.095482Z",
     "shell.execute_reply": "2024-06-23T10:23:02.094801Z",
     "shell.execute_reply.started": "2024-06-23T10:18:20.460049Z"
    }
   },
   "outputs": [],
   "source": [
    "sc.pp.pca(adata_scGen, n_comps = n_latent)\n",
    "adata_scGen"
   ]
  },
  {
   "cell_type": "code",
   "execution_count": 18,
   "id": "50f08397-34f7-45b7-afb5-49f93ef36413",
   "metadata": {
    "execution": {
     "iopub.execute_input": "2024-06-23T10:42:56.266012Z",
     "iopub.status.busy": "2024-06-23T10:42:56.265630Z",
     "iopub.status.idle": "2024-06-23T10:42:56.330953Z",
     "shell.execute_reply": "2024-06-23T10:42:56.330518Z",
     "shell.execute_reply.started": "2024-06-23T10:42:56.265992Z"
    }
   },
   "outputs": [
    {
     "data": {
      "text/plain": [
       "AnnData object with n_obs × n_vars = 4279352 × 30\n",
       "    layers: 'scgen_corrected_latent', 'scgen_corrected_expression_pc'"
      ]
     },
     "execution_count": 18,
     "metadata": {},
     "output_type": "execute_result"
    }
   ],
   "source": [
    "adata_scgen_emb = sc.AnnData(X=adata_scGen.obsm['corrected_latent'], \n",
    "                             layers = {'scgen_corrected_latent':adata_scGen.obsm['corrected_latent'],\n",
    "                                       'scgen_corrected_expression_pc':adata_scGen.obsm['X_pca']},\n",
    "                            obs = adata_scGen.obs[[]])\n",
    "adata_scgen_emb"
   ]
  },
  {
   "cell_type": "markdown",
   "id": "8099089b-4f08-4a69-a727-8559ec517ec3",
   "metadata": {},
   "source": [
    "### Save the results"
   ]
  },
  {
   "cell_type": "code",
   "execution_count": 7,
   "id": "85e4e80c-ff3a-45d4-bb5a-b8116dc9edd4",
   "metadata": {
    "execution": {
     "iopub.execute_input": "2024-06-26T14:30:12.580852Z",
     "iopub.status.busy": "2024-06-26T14:30:12.573848Z",
     "iopub.status.idle": "2024-06-26T16:00:53.226872Z",
     "shell.execute_reply": "2024-06-26T16:00:53.226097Z",
     "shell.execute_reply.started": "2024-06-26T14:30:12.580833Z"
    }
   },
   "outputs": [],
   "source": [
    "adata_scGen.write(here('03_downstream_analysis/04_integration_with_annotation/results/02_scGen_batchRemoved_noRBCnPlat.h5ad'), compression='gzip')"
   ]
  },
  {
   "cell_type": "code",
   "execution_count": 12,
   "id": "da32e9e5-bb5f-4362-ab85-87916388f0f7",
   "metadata": {
    "execution": {
     "iopub.execute_input": "2024-06-26T09:23:10.267430Z",
     "iopub.status.busy": "2024-06-26T09:23:10.267149Z",
     "iopub.status.idle": "2024-06-26T09:24:14.243667Z",
     "shell.execute_reply": "2024-06-26T09:24:14.242926Z",
     "shell.execute_reply.started": "2024-06-26T09:23:10.267411Z"
    }
   },
   "outputs": [],
   "source": [
    "adata_scgen_emb.write(here('03_downstream_analysis/04_integration_with_annotation/results/02_scGen_corr_latent_expression_noRBCnPlat.h5ad'), compression='gzip')"
   ]
  }
 ],
 "metadata": {
  "kernelspec": {
   "display_name": "Python 3 (ipykernel)",
   "language": "python",
   "name": "python3"
  },
  "language_info": {
   "codemirror_mode": {
    "name": "ipython",
    "version": 3
   },
   "file_extension": ".py",
   "mimetype": "text/x-python",
   "name": "python",
   "nbconvert_exporter": "python",
   "pygments_lexer": "ipython3",
   "version": "3.9.19"
  }
 },
 "nbformat": 4,
 "nbformat_minor": 5
}
