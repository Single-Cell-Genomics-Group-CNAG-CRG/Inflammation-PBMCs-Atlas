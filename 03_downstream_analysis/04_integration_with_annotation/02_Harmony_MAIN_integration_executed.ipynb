{
 "cells": [
  {
   "cell_type": "code",
   "execution_count": 1,
   "id": "efdb80f5-e899-4f33-bef2-150b34859a2d",
   "metadata": {
    "execution": {
     "iopub.execute_input": "2024-06-23T09:39:22.322830Z",
     "iopub.status.busy": "2024-06-23T09:39:22.322408Z",
     "iopub.status.idle": "2024-06-23T09:39:34.608390Z",
     "shell.execute_reply": "2024-06-23T09:39:34.607824Z"
    },
    "papermill": {
     "duration": 12.293386,
     "end_time": "2024-06-23T09:39:34.609598",
     "exception": false,
     "start_time": "2024-06-23T09:39:22.316212",
     "status": "completed"
    },
    "tags": []
   },
   "outputs": [],
   "source": [
    "import os\n",
    "\n",
    "import scanpy as sc\n",
    "import pandas as pd\n",
    "import numpy as np\n",
    "\n",
    "import symphonypy as sp\n",
    "\n",
    "from pyprojroot import here\n",
    "\n",
    "random_seed = 42"
   ]
  },
  {
   "cell_type": "markdown",
   "id": "4f98ff15-09e0-4f7b-8c65-d8de6867d52e",
   "metadata": {
    "papermill": {
     "duration": 0.00392,
     "end_time": "2024-06-23T09:39:34.619509",
     "exception": false,
     "start_time": "2024-06-23T09:39:34.615589",
     "status": "completed"
    },
    "tags": []
   },
   "source": [
    "### Parameters"
   ]
  },
  {
   "cell_type": "code",
   "execution_count": 2,
   "id": "0bf7189a-cba7-4d6d-a55b-226a12a20a02",
   "metadata": {
    "execution": {
     "iopub.execute_input": "2024-06-23T09:39:34.628391Z",
     "iopub.status.busy": "2024-06-23T09:39:34.628028Z",
     "iopub.status.idle": "2024-06-23T09:39:34.630650Z",
     "shell.execute_reply": "2024-06-23T09:39:34.630294Z"
    },
    "papermill": {
     "duration": 0.00806,
     "end_time": "2024-06-23T09:39:34.631528",
     "exception": false,
     "start_time": "2024-06-23T09:39:34.623468",
     "status": "completed"
    },
    "tags": []
   },
   "outputs": [],
   "source": [
    "n_PC=30\n",
    "batch_keys = ['chemistry','libraryID','studyID','sex','binned_age']"
   ]
  },
  {
   "cell_type": "markdown",
   "id": "008170b2-f7e2-4c59-b434-b682dacf1110",
   "metadata": {
    "papermill": {
     "duration": 0.004443,
     "end_time": "2024-06-23T09:39:34.640495",
     "exception": false,
     "start_time": "2024-06-23T09:39:34.636052",
     "status": "completed"
    },
    "tags": []
   },
   "source": [
    "### Loading reference data"
   ]
  },
  {
   "cell_type": "code",
   "execution_count": 3,
   "id": "8e361302-99f5-48fe-989b-f196e18ae0dd",
   "metadata": {
    "execution": {
     "iopub.execute_input": "2024-06-23T09:39:34.653779Z",
     "iopub.status.busy": "2024-06-23T09:39:34.653481Z",
     "iopub.status.idle": "2024-06-23T09:41:02.966752Z",
     "shell.execute_reply": "2024-06-23T09:41:02.966322Z"
    },
    "papermill": {
     "duration": 88.325527,
     "end_time": "2024-06-23T09:41:02.973860",
     "exception": false,
     "start_time": "2024-06-23T09:39:34.648333",
     "status": "completed"
    },
    "tags": []
   },
   "outputs": [
    {
     "data": {
      "text/plain": [
       "AnnData object with n_obs × n_vars = 4279352 × 8253\n",
       "    obs: 'studyID', 'libraryID', 'sampleID', 'chemistry', 'disease', 'sex', 'binned_age', 'Level1', 'Level2'\n",
       "    var: 'hgnc_id', 'symbol', 'locus_group', 'HUGO_status', 'highly_variable'\n",
       "    uns: 'log1p'"
      ]
     },
     "execution_count": 3,
     "metadata": {},
     "output_type": "execute_result"
    }
   ],
   "source": [
    "adataR = sc.read_h5ad(here(\"03_downstream_analysis/02_gene_universe_definition/results/04_MAIN_geneUniverse_noRBCnPlatelets.log1p.h5ad\"))\n",
    "adataR"
   ]
  },
  {
   "cell_type": "markdown",
   "id": "0be9f746-fd30-4f97-9ec7-1a1e1f831776",
   "metadata": {
    "papermill": {
     "duration": 0.004699,
     "end_time": "2024-06-23T09:41:02.983650",
     "exception": false,
     "start_time": "2024-06-23T09:41:02.978951",
     "status": "completed"
    },
    "tags": []
   },
   "source": [
    "### Preprocessing"
   ]
  },
  {
   "cell_type": "code",
   "execution_count": 4,
   "id": "db7e0e86-4cfc-44f7-a6f1-1fa3795ad5a3",
   "metadata": {
    "execution": {
     "iopub.execute_input": "2024-06-23T09:41:02.993338Z",
     "iopub.status.busy": "2024-06-23T09:41:02.993108Z",
     "iopub.status.idle": "2024-06-23T09:41:02.995416Z",
     "shell.execute_reply": "2024-06-23T09:41:02.995065Z"
    },
    "papermill": {
     "duration": 0.00817,
     "end_time": "2024-06-23T09:41:02.996306",
     "exception": false,
     "start_time": "2024-06-23T09:41:02.988136",
     "status": "completed"
    },
    "tags": []
   },
   "outputs": [],
   "source": [
    "## Loading already log-transformed data, thus avoiding the following steps\n",
    "#sc.pp.normalize_total(adataR, target_sum=1e4)\n",
    "#sc.pp.log1p(adataR)"
   ]
  },
  {
   "cell_type": "code",
   "execution_count": 5,
   "id": "74e00e88-f97f-457b-928e-ee7c2e91b64a",
   "metadata": {
    "execution": {
     "iopub.execute_input": "2024-06-23T09:41:03.006088Z",
     "iopub.status.busy": "2024-06-23T09:41:03.005785Z",
     "iopub.status.idle": "2024-06-23T09:44:44.926450Z",
     "shell.execute_reply": "2024-06-23T09:44:44.925717Z"
    },
    "papermill": {
     "duration": 221.927061,
     "end_time": "2024-06-23T09:44:44.928006",
     "exception": false,
     "start_time": "2024-06-23T09:41:03.000945",
     "status": "completed"
    },
    "tags": []
   },
   "outputs": [],
   "source": [
    "# We followed the tutorial from the python package (https://symphonypy.readthedocs.io/en/latest/usage.html)\n",
    "sc.pp.scale(adataR)"
   ]
  },
  {
   "cell_type": "code",
   "execution_count": 6,
   "id": "07fb0fc9-4a10-47fb-b4d6-3b7d66286cfd",
   "metadata": {
    "execution": {
     "iopub.execute_input": "2024-06-23T09:44:44.940330Z",
     "iopub.status.busy": "2024-06-23T09:44:44.940084Z",
     "iopub.status.idle": "2024-06-23T13:26:38.956285Z",
     "shell.execute_reply": "2024-06-23T13:26:38.955417Z"
    },
    "papermill": {
     "duration": 13314.024006,
     "end_time": "2024-06-23T13:26:38.958596",
     "exception": false,
     "start_time": "2024-06-23T09:44:44.934590",
     "status": "completed"
    },
    "tags": []
   },
   "outputs": [],
   "source": [
    "sc.pp.pca(adataR, \n",
    "          n_comps=n_PC, \n",
    "          use_highly_variable = False,\n",
    "          zero_center=False)"
   ]
  },
  {
   "cell_type": "markdown",
   "id": "3109c878-d7d1-4372-9462-0ccdb78070dc",
   "metadata": {
    "papermill": {
     "duration": 0.110196,
     "end_time": "2024-06-23T13:26:39.406083",
     "exception": false,
     "start_time": "2024-06-23T13:26:39.295887",
     "status": "completed"
    },
    "tags": []
   },
   "source": [
    "### Integration with Harmony"
   ]
  },
  {
   "cell_type": "code",
   "execution_count": 7,
   "id": "d2e7eed3-c2e1-4031-a49f-89e32fe17130",
   "metadata": {
    "execution": {
     "iopub.execute_input": "2024-06-23T13:26:39.622070Z",
     "iopub.status.busy": "2024-06-23T13:26:39.621595Z",
     "iopub.status.idle": "2024-06-24T12:04:01.672936Z",
     "shell.execute_reply": "2024-06-24T12:04:01.672187Z"
    },
    "papermill": {
     "duration": 81442.06773,
     "end_time": "2024-06-24T12:04:01.674496",
     "exception": false,
     "start_time": "2024-06-23T13:26:39.606766",
     "status": "completed"
    },
    "tags": []
   },
   "outputs": [
    {
     "name": "stdout",
     "output_type": "stream",
     "text": [
      "Harmony integration with harmonypy is preforming.\n"
     ]
    },
    {
     "name": "stderr",
     "output_type": "stream",
     "text": [
      "2024-06-23 15:26:49,062 - harmonypy - INFO - Computing initial centroids with sklearn.KMeans...\n"
     ]
    },
    {
     "name": "stderr",
     "output_type": "stream",
     "text": [
      "2024-06-23 15:45:19,178 - harmonypy - INFO - sklearn.KMeans initialization complete.\n"
     ]
    },
    {
     "name": "stderr",
     "output_type": "stream",
     "text": [
      "2024-06-23 15:46:19,997 - harmonypy - INFO - Iteration 1 of 100\n"
     ]
    },
    {
     "name": "stderr",
     "output_type": "stream",
     "text": [
      "2024-06-23 18:07:38,872 - harmonypy - INFO - Iteration 2 of 100\n"
     ]
    },
    {
     "name": "stderr",
     "output_type": "stream",
     "text": [
      "2024-06-23 20:28:54,593 - harmonypy - INFO - Iteration 3 of 100\n"
     ]
    },
    {
     "name": "stderr",
     "output_type": "stream",
     "text": [
      "2024-06-23 22:49:40,704 - harmonypy - INFO - Iteration 4 of 100\n"
     ]
    },
    {
     "name": "stderr",
     "output_type": "stream",
     "text": [
      "2024-06-24 01:14:25,082 - harmonypy - INFO - Iteration 5 of 100\n"
     ]
    },
    {
     "name": "stderr",
     "output_type": "stream",
     "text": [
      "2024-06-24 03:38:01,656 - harmonypy - INFO - Iteration 6 of 100\n"
     ]
    },
    {
     "name": "stderr",
     "output_type": "stream",
     "text": [
      "2024-06-24 05:58:44,823 - harmonypy - INFO - Iteration 7 of 100\n"
     ]
    },
    {
     "name": "stderr",
     "output_type": "stream",
     "text": [
      "2024-06-24 08:18:27,043 - harmonypy - INFO - Iteration 8 of 100\n"
     ]
    },
    {
     "name": "stderr",
     "output_type": "stream",
     "text": [
      "2024-06-24 10:03:52,014 - harmonypy - INFO - Iteration 9 of 100\n"
     ]
    },
    {
     "name": "stderr",
     "output_type": "stream",
     "text": [
      "2024-06-24 11:18:42,896 - harmonypy - INFO - Iteration 10 of 100\n"
     ]
    },
    {
     "name": "stderr",
     "output_type": "stream",
     "text": [
      "2024-06-24 12:49:36,111 - harmonypy - INFO - Iteration 11 of 100\n"
     ]
    },
    {
     "name": "stderr",
     "output_type": "stream",
     "text": [
      "2024-06-24 14:03:58,267 - harmonypy - INFO - Converged after 11 iterations\n"
     ]
    }
   ],
   "source": [
    "sp.pp.harmony_integrate(adataR,\n",
    "                        key=batch_keys, \n",
    "                        verbose = True, \n",
    "                        random_seed=random_seed,  \n",
    "                        **{'max_iter_harmony':100}, # harmony_kwargs | should reach convergence before\n",
    "                       )"
   ]
  },
  {
   "cell_type": "markdown",
   "id": "293069e9-53ac-4a34-88ef-633da997798d",
   "metadata": {
    "papermill": {
     "duration": 0.050658,
     "end_time": "2024-06-24T12:04:01.777510",
     "exception": false,
     "start_time": "2024-06-24T12:04:01.726852",
     "status": "completed"
    },
    "tags": []
   },
   "source": [
    "### Save corrected embedded space"
   ]
  },
  {
   "cell_type": "code",
   "execution_count": 8,
   "id": "6943280d-8c20-4d58-8139-fb9d5ffe4209",
   "metadata": {
    "execution": {
     "iopub.execute_input": "2024-06-24T12:04:01.864913Z",
     "iopub.status.busy": "2024-06-24T12:04:01.864706Z",
     "iopub.status.idle": "2024-06-24T12:04:01.974498Z",
     "shell.execute_reply": "2024-06-24T12:04:01.974040Z"
    },
    "papermill": {
     "duration": 0.170966,
     "end_time": "2024-06-24T12:04:01.975501",
     "exception": false,
     "start_time": "2024-06-24T12:04:01.804535",
     "status": "completed"
    },
    "tags": []
   },
   "outputs": [
    {
     "data": {
      "text/plain": [
       "AnnData object with n_obs × n_vars = 4279352 × 30"
      ]
     },
     "execution_count": 8,
     "metadata": {},
     "output_type": "execute_result"
    }
   ],
   "source": [
    "adataPC = sc.AnnData(X = adataR.obsm['X_pca_harmony'], obs = adataR.obs[[]])\n",
    "adataPC"
   ]
  },
  {
   "cell_type": "code",
   "execution_count": 9,
   "id": "8f1c2d07-2a4b-40c6-9d48-b3d55317870d",
   "metadata": {
    "execution": {
     "iopub.execute_input": "2024-06-24T12:04:02.000867Z",
     "iopub.status.busy": "2024-06-24T12:04:02.000268Z",
     "iopub.status.idle": "2024-06-24T12:04:26.289511Z",
     "shell.execute_reply": "2024-06-24T12:04:26.288672Z"
    },
    "papermill": {
     "duration": 24.303126,
     "end_time": "2024-06-24T12:04:26.291145",
     "exception": false,
     "start_time": "2024-06-24T12:04:01.988019",
     "status": "completed"
    },
    "tags": []
   },
   "outputs": [],
   "source": [
    "adataPC.write(here('03_downstream_analysis/04_integration_with_annotation/results/02_Harmony_correctedPCs_noRBCnPlat.h5ad'), compression='gzip')"
   ]
  }
 ],
 "metadata": {
  "kernelspec": {
   "display_name": "Python 3 (ipykernel)",
   "language": "python",
   "name": "python3"
  },
  "language_info": {
   "codemirror_mode": {
    "name": "ipython",
    "version": 3
   },
   "file_extension": ".py",
   "mimetype": "text/x-python",
   "name": "python",
   "nbconvert_exporter": "python",
   "pygments_lexer": "ipython3",
   "version": "3.10.13"
  },
  "papermill": {
   "default_parameters": {},
   "duration": 95116.010641,
   "end_time": "2024-06-24T12:04:35.106026",
   "environment_variables": {},
   "exception": null,
   "input_path": "02_Harmony_MAIN_integration.ipynb",
   "output_path": "02_Harmony_MAIN_integration_executed.ipynb",
   "parameters": {},
   "start_time": "2024-06-23T09:39:19.095385",
   "version": "2.5.0"
  }
 },
 "nbformat": 4,
 "nbformat_minor": 5
}