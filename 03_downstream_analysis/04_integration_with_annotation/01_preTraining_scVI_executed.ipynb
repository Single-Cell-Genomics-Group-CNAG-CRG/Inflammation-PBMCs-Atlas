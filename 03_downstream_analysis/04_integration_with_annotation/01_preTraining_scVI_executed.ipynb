{
 "cells": [
  {
   "cell_type": "code",
   "execution_count": 1,
   "id": "044a9326-0745-430b-a00f-48663be02989",
   "metadata": {
    "execution": {
     "iopub.execute_input": "2024-05-28T19:43:26.365339Z",
     "iopub.status.busy": "2024-05-28T19:43:26.364762Z",
     "iopub.status.idle": "2024-05-28T19:43:31.145069Z",
     "shell.execute_reply": "2024-05-28T19:43:31.144313Z"
    },
    "papermill": {
     "duration": 4.788003,
     "end_time": "2024-05-28T19:43:31.147237",
     "exception": false,
     "start_time": "2024-05-28T19:43:26.359234",
     "status": "completed"
    },
    "tags": []
   },
   "outputs": [
    {
     "name": "stderr",
     "output_type": "stream",
     "text": [
      "WARNING:root:In order to use the mouse gastrulation seqFISH datsets, please install squidpy (see https://github.com/scverse/squidpy).\n"
     ]
    },
    {
     "name": "stderr",
     "output_type": "stream",
     "text": [
      "/home/jupyter/conda_envs/scarches/lib/python3.9/site-packages/tqdm/auto.py:21: TqdmWarning: IProgress not found. Please update jupyter and ipywidgets. See https://ipywidgets.readthedocs.io/en/stable/user_install.html\n",
      "  from .autonotebook import tqdm as notebook_tqdm\n"
     ]
    },
    {
     "name": "stderr",
     "output_type": "stream",
     "text": [
      "WARNING:root:In order to use sagenet models, please install pytorch geometric (see https://pytorch-geometric.readthedocs.io) and \n",
      " captum (see https://github.com/pytorch/captum).\n"
     ]
    },
    {
     "name": "stderr",
     "output_type": "stream",
     "text": [
      "WARNING:root:mvTCR is not installed. To use mvTCR models, please install it first using \"pip install mvtcr\"\n"
     ]
    },
    {
     "name": "stderr",
     "output_type": "stream",
     "text": [
      "WARNING:root:multigrate is not installed. To use multigrate models, please install it first using \"pip install multigrate\".\n"
     ]
    },
    {
     "name": "stderr",
     "output_type": "stream",
     "text": [
      "INFO: Seed set to 42\n"
     ]
    },
    {
     "name": "stderr",
     "output_type": "stream",
     "text": [
      "INFO:lightning.fabric.utilities.seed:Seed set to 42\n"
     ]
    }
   ],
   "source": [
    "import os\n",
    "import sys\n",
    "\n",
    "import json\n",
    "\n",
    "import numpy as np\n",
    "import scanpy as sc\n",
    "import pandas as pd\n",
    "import matplotlib.pyplot as plt\n",
    "import seaborn as sns\n",
    "from sklearn.metrics import classification_report\n",
    "\n",
    "import scarches as sca\n",
    "from scarches.dataset.trvae.data_handling import remove_sparsity\n",
    "import matplotlib.pyplot as plt\n",
    "\n",
    "import torch\n",
    "\n",
    "from dotenv import load_dotenv\n",
    "\n",
    "from lightning.pytorch.loggers import WandbLogger\n",
    "import wandb\n",
    "\n",
    "import session_info\n",
    "import warnings\n",
    "from pyprojroot.here import here\n",
    "\n",
    "#plt.style.use(['science','nature','no-latex'])\n",
    "dpi_fig_save = 300\n",
    "sc.set_figure_params(dpi=100, dpi_save=dpi_fig_save, vector_friendly=True)\n",
    "\n",
    "# Setting some parameters\n",
    "warnings.filterwarnings(\"ignore\")\n",
    "\n",
    "from sklearn.model_selection import StratifiedKFold\n",
    "\n",
    "overwriteData = True\n",
    "overwriteFigures = True\n",
    "\n",
    "# Set random seed\n",
    "random_seed = 42\n",
    "\n",
    "import scvi\n",
    "scvi.settings.dl_num_workers = 8\n",
    "scvi.settings.seed = random_seed\n",
    "\n",
    "import warnings\n",
    "warnings.filterwarnings('ignore')\n",
    "\n",
    "torch.set_float32_matmul_precision('high')\n",
    "torch.set_printoptions(precision=3, sci_mode=False, edgeitems=7)\n",
    "torch.multiprocessing.set_sharing_strategy('file_system')\n",
    "\n",
    "%load_ext autoreload\n",
    "%autoreload 2"
   ]
  },
  {
   "cell_type": "code",
   "execution_count": 2,
   "id": "e9230839-98a4-4ab3-a28a-05e68e858dd0",
   "metadata": {
    "execution": {
     "iopub.execute_input": "2024-05-28T19:43:31.156349Z",
     "iopub.status.busy": "2024-05-28T19:43:31.156089Z",
     "iopub.status.idle": "2024-05-28T19:43:31.199017Z",
     "shell.execute_reply": "2024-05-28T19:43:31.198449Z"
    },
    "papermill": {
     "duration": 0.049517,
     "end_time": "2024-05-28T19:43:31.200881",
     "exception": false,
     "start_time": "2024-05-28T19:43:31.151364",
     "status": "completed"
    },
    "tags": []
   },
   "outputs": [],
   "source": [
    "assert load_dotenv()"
   ]
  },
  {
   "cell_type": "code",
   "execution_count": 3,
   "id": "6af74995-eeba-493d-999c-501287dd809c",
   "metadata": {
    "execution": {
     "iopub.execute_input": "2024-05-28T19:43:31.209323Z",
     "iopub.status.busy": "2024-05-28T19:43:31.208635Z",
     "iopub.status.idle": "2024-05-28T19:43:31.248094Z",
     "shell.execute_reply": "2024-05-28T19:43:31.247517Z"
    },
    "papermill": {
     "duration": 0.045604,
     "end_time": "2024-05-28T19:43:31.249823",
     "exception": false,
     "start_time": "2024-05-28T19:43:31.204219",
     "status": "completed"
    },
    "tags": []
   },
   "outputs": [],
   "source": [
    "workingDir = here('03_downstream_analysis/04_integration_with_annotation/')"
   ]
  },
  {
   "cell_type": "code",
   "execution_count": 4,
   "id": "1dae1184-00db-4d0c-8e49-42b1df5f9d30",
   "metadata": {
    "execution": {
     "iopub.execute_input": "2024-05-28T19:43:31.260142Z",
     "iopub.status.busy": "2024-05-28T19:43:31.259602Z",
     "iopub.status.idle": "2024-05-28T19:43:31.297758Z",
     "shell.execute_reply": "2024-05-28T19:43:31.297213Z"
    },
    "papermill": {
     "duration": 0.044346,
     "end_time": "2024-05-28T19:43:31.299365",
     "exception": false,
     "start_time": "2024-05-28T19:43:31.255019",
     "status": "completed"
    },
    "tags": []
   },
   "outputs": [],
   "source": [
    "class CustomWandbLogger(WandbLogger):\n",
    "    @property\n",
    "    def save_dir(self):\n",
    "        \"\"\"Gets the save directory.\n",
    "\n",
    "        Returns:\n",
    "            The path to the save directory.\n",
    "\n",
    "        \"\"\"\n",
    "        return self.experiment.dir"
   ]
  },
  {
   "cell_type": "code",
   "execution_count": 5,
   "id": "70cb28c1-38c5-4910-98e5-a4d786f256d7",
   "metadata": {
    "execution": {
     "iopub.execute_input": "2024-05-28T19:43:31.307561Z",
     "iopub.status.busy": "2024-05-28T19:43:31.307334Z",
     "iopub.status.idle": "2024-05-28T19:43:31.345530Z",
     "shell.execute_reply": "2024-05-28T19:43:31.344889Z"
    },
    "papermill": {
     "duration": 0.044236,
     "end_time": "2024-05-28T19:43:31.347070",
     "exception": false,
     "start_time": "2024-05-28T19:43:31.302834",
     "status": "completed"
    },
    "tags": []
   },
   "outputs": [
    {
     "data": {
      "text/plain": [
       "'1.1.2'"
      ]
     },
     "execution_count": 5,
     "metadata": {},
     "output_type": "execute_result"
    }
   ],
   "source": [
    "scvi.__version__"
   ]
  },
  {
   "cell_type": "markdown",
   "id": "e11bbe22-69a0-40d4-b609-7e108d2bcb46",
   "metadata": {
    "execution": {
     "iopub.execute_input": "2024-04-10T14:14:35.228151Z",
     "iopub.status.busy": "2024-04-10T14:14:35.226856Z",
     "iopub.status.idle": "2024-04-10T14:14:35.273260Z",
     "shell.execute_reply": "2024-04-10T14:14:35.272159Z",
     "shell.execute_reply.started": "2024-04-10T14:14:35.228101Z"
    },
    "papermill": {
     "duration": 0.003601,
     "end_time": "2024-05-28T19:43:31.354495",
     "exception": false,
     "start_time": "2024-05-28T19:43:31.350894",
     "status": "completed"
    },
    "tags": []
   },
   "source": [
    "# Loading data\n"
   ]
  },
  {
   "cell_type": "code",
   "execution_count": 6,
   "id": "f93686ba-9680-4b63-97c9-a0bc0a799c29",
   "metadata": {
    "execution": {
     "iopub.execute_input": "2024-05-28T19:43:31.362870Z",
     "iopub.status.busy": "2024-05-28T19:43:31.362640Z",
     "iopub.status.idle": "2024-05-28T19:45:09.513187Z",
     "shell.execute_reply": "2024-05-28T19:45:09.512452Z"
    },
    "papermill": {
     "duration": 98.157124,
     "end_time": "2024-05-28T19:45:09.515327",
     "exception": false,
     "start_time": "2024-05-28T19:43:31.358203",
     "status": "completed"
    },
    "tags": []
   },
   "outputs": [],
   "source": [
    "# Load the h5ad file\n",
    "adata = sc.read_h5ad(here(\"03_downstream_analysis/04_integration_with_annotation/04_MAIN_geneUniverse_noRBCnPlatelets.h5ad\"))#, \n",
    "#                     backed='r+', chunk_size=50000)\n"
   ]
  },
  {
   "cell_type": "code",
   "execution_count": 7,
   "id": "01c8a959-ea75-49a0-ac94-194c693ed114",
   "metadata": {
    "execution": {
     "iopub.execute_input": "2024-05-28T19:45:09.524014Z",
     "iopub.status.busy": "2024-05-28T19:45:09.523734Z",
     "iopub.status.idle": "2024-05-28T19:45:09.627888Z",
     "shell.execute_reply": "2024-05-28T19:45:09.627219Z"
    },
    "papermill": {
     "duration": 0.110839,
     "end_time": "2024-05-28T19:45:09.629937",
     "exception": false,
     "start_time": "2024-05-28T19:45:09.519098",
     "status": "completed"
    },
    "tags": []
   },
   "outputs": [],
   "source": [
    "adata.obs['binned_age'] = adata.obs['binned_age'].astype(str)"
   ]
  },
  {
   "cell_type": "code",
   "execution_count": 8,
   "id": "79a8296c-51f4-47ce-a8a5-59e72e4aab87",
   "metadata": {
    "execution": {
     "iopub.execute_input": "2024-05-28T19:45:09.638599Z",
     "iopub.status.busy": "2024-05-28T19:45:09.638322Z",
     "iopub.status.idle": "2024-05-28T19:45:09.678579Z",
     "shell.execute_reply": "2024-05-28T19:45:09.677995Z"
    },
    "papermill": {
     "duration": 0.046563,
     "end_time": "2024-05-28T19:45:09.680254",
     "exception": false,
     "start_time": "2024-05-28T19:45:09.633691",
     "status": "completed"
    },
    "tags": []
   },
   "outputs": [],
   "source": [
    "genes = adata.var"
   ]
  },
  {
   "cell_type": "code",
   "execution_count": 9,
   "id": "f0ae0256-2079-4a73-b506-fd494b1e9b84",
   "metadata": {
    "execution": {
     "iopub.execute_input": "2024-05-28T19:45:09.688497Z",
     "iopub.status.busy": "2024-05-28T19:45:09.687994Z",
     "iopub.status.idle": "2024-05-28T19:45:09.754699Z",
     "shell.execute_reply": "2024-05-28T19:45:09.754070Z"
    },
    "papermill": {
     "duration": 0.072447,
     "end_time": "2024-05-28T19:45:09.756129",
     "exception": false,
     "start_time": "2024-05-28T19:45:09.683682",
     "status": "completed"
    },
    "tags": []
   },
   "outputs": [
    {
     "name": "stdout",
     "output_type": "stream",
     "text": [
      "0 mitochondrial genes\n",
      "0 ribosomal genes\n",
      "0 TCR genes\n",
      "0 TCR genes\n",
      "1 HB genes\n",
      "20 MHC genes\n",
      "3 PLT genes\n"
     ]
    }
   ],
   "source": [
    "# Retrieve MT and RB genes present in the dataset\n",
    "MT_gene_idx = genes[\"symbol\"].str.startswith(\"MT-\")\n",
    "print(f\"{np.sum(MT_gene_idx)} mitochondrial genes\")\n",
    "\n",
    "RB_gene_idx = genes[\"symbol\"].str.startswith((\"RPS\", \"RPL\"))\n",
    "print(f\"{np.sum(RB_gene_idx)} ribosomal genes\")\n",
    "\n",
    "# Retrieve TCR and BCR present in the dataset\n",
    "TCR_gene_idx = genes[\"symbol\"].str.contains(\"^TRA(J|V)|^TRB(J|V|D)\")\n",
    "print(f\"{np.sum(TCR_gene_idx)} TCR genes\")\n",
    "\n",
    "BCR_gene_idx = genes[\"symbol\"].str.contains(\"^IGH(J|V)\")\n",
    "print(f\"{np.sum(BCR_gene_idx)} TCR genes\")\n",
    "\n",
    "HB_gene_idx = genes[\"symbol\"].str.contains(\"^HB[^(P)]\")\n",
    "print(f\"{np.sum(HB_gene_idx)} HB genes\")\n",
    "\n",
    "# Some of those genes will be included anyway because are part of curated gene sets.\n",
    "MHC_gene_idx = genes[\"symbol\"].str.contains(\"^HLA-\")\n",
    "print(f\"{np.sum(MHC_gene_idx)} MHC genes\")\n",
    "\n",
    "PLT_gene_idx = genes[\"symbol\"].isin([\"PPBP\", \"PDGF\", \"ANG1\", \"LAPTM4B\", \"WASF3\", \"TPM3\", \"PF4\", \"TAC1\"])\n",
    "print(f\"{np.sum(PLT_gene_idx)} PLT genes\")"
   ]
  },
  {
   "cell_type": "markdown",
   "id": "a13cd6e8-6229-4427-b616-441ba5a67b47",
   "metadata": {
    "papermill": {
     "duration": 0.003465,
     "end_time": "2024-05-28T19:45:09.770185",
     "exception": false,
     "start_time": "2024-05-28T19:45:09.766720",
     "status": "completed"
    },
    "tags": []
   },
   "source": [
    "**Parameters**"
   ]
  },
  {
   "cell_type": "code",
   "execution_count": 10,
   "id": "689bf365-5025-4c03-a3af-8a860bb2899a",
   "metadata": {
    "execution": {
     "iopub.execute_input": "2024-05-28T19:45:09.778269Z",
     "iopub.status.busy": "2024-05-28T19:45:09.778037Z",
     "iopub.status.idle": "2024-05-28T19:45:09.818840Z",
     "shell.execute_reply": "2024-05-28T19:45:09.818247Z"
    },
    "papermill": {
     "duration": 0.04691,
     "end_time": "2024-05-28T19:45:09.820472",
     "exception": false,
     "start_time": "2024-05-28T19:45:09.773562",
     "status": "completed"
    },
    "tags": []
   },
   "outputs": [],
   "source": [
    "setup_kwargs = dict(\n",
    "    layer=None, \n",
    "    batch_key='chemistry', # scArches supports only one batch variable. thus, we concatenate the two main sources of batch effect into one colum\n",
    "    categorical_covariate_keys = ['libraryID','studyID','sex','binned_age'],\n",
    "    labels_key = 'Level1' # needed for the following scANVI fine tuning\n",
    ")\n",
    "\n",
    "scvi_kwargs = dict(n_hidden=256,\n",
    "                   n_latent=30,\n",
    "                   n_layers=4, \n",
    "                   gene_likelihood='nb',\n",
    "                   dispersion='gene-batch')\n",
    "\n",
    "trainer_kwargs = dict(\n",
    "    checkpointing_monitor = 'elbo_validation',\n",
    "    early_stopping_monitor = 'reconstruction_loss_validation',\n",
    "    early_stopping_patience = 2,\n",
    "    early_stopping_min_delta=0.1,\n",
    "    early_stopping = True,\n",
    "    max_epochs = 1000,\n",
    "\n",
    "    #logger = # wandb\n",
    ")\n",
    "# https://docs.scvi-tools.org/en/stable/api/reference/scvi.train.TrainingPlan.html#scvi.train.TrainingPlan\n",
    "plan_kwargs = dict(\n",
    "    lr = 5e-4,\n",
    "    #reduce_lr_on_plateau = True\n",
    ")\n",
    "\n",
    "# https://docs.scvi-tools.org/en/stable/api/reference/scvi.module.VAE.html#scvi.module.VAE\n",
    "#vae = dict(\n",
    "#    use_layer_norm='both',\n",
    "#    use_batch_norm='none',\n",
    "#    encode_covariates=True,\n",
    "#    deeply_inject_covariates=False\n",
    "#)\n",
    "datasplitter_kwargs = dict(pin_memory=True)\n",
    "scvi_parameter_dict = setup_kwargs | scvi_kwargs | trainer_kwargs | plan_kwargs| datasplitter_kwargs"
   ]
  },
  {
   "cell_type": "code",
   "execution_count": 11,
   "id": "e78a792d-f9a4-46dd-818b-6b31ae1935a6",
   "metadata": {
    "execution": {
     "iopub.execute_input": "2024-05-28T19:45:09.828435Z",
     "iopub.status.busy": "2024-05-28T19:45:09.828211Z",
     "iopub.status.idle": "2024-05-28T19:45:09.867768Z",
     "shell.execute_reply": "2024-05-28T19:45:09.867209Z"
    },
    "papermill": {
     "duration": 0.045481,
     "end_time": "2024-05-28T19:45:09.869406",
     "exception": false,
     "start_time": "2024-05-28T19:45:09.823925",
     "status": "completed"
    },
    "tags": []
   },
   "outputs": [
    {
     "data": {
      "text/plain": [
       "'MAINobj_scVI_pretraining_noRBCnPlat'"
      ]
     },
     "execution_count": 11,
     "metadata": {},
     "output_type": "execute_result"
    }
   ],
   "source": [
    "run_name = f\"MAINobj_scVI_pretraining_noRBCnPlat\"\n",
    "run_name"
   ]
  },
  {
   "cell_type": "code",
   "execution_count": 12,
   "id": "fec631d0-be43-49c1-96a3-8f8b219aa620",
   "metadata": {
    "execution": {
     "iopub.execute_input": "2024-05-28T19:45:09.878764Z",
     "iopub.status.busy": "2024-05-28T19:45:09.878519Z",
     "iopub.status.idle": "2024-05-28T19:45:11.081439Z",
     "shell.execute_reply": "2024-05-28T19:45:11.080648Z"
    },
    "papermill": {
     "duration": 1.210165,
     "end_time": "2024-05-28T19:45:11.083493",
     "exception": false,
     "start_time": "2024-05-28T19:45:09.873328",
     "status": "completed"
    },
    "tags": []
   },
   "outputs": [
    {
     "name": "stderr",
     "output_type": "stream",
     "text": [
      "WARNING:jax._src.xla_bridge:An NVIDIA GPU may be present on this machine, but a CUDA-enabled jaxlib is not installed. Falling back to cpu.\n"
     ]
    }
   ],
   "source": [
    "sca.models.SCVI.setup_anndata(adata, \n",
    "                              **setup_kwargs)"
   ]
  },
  {
   "cell_type": "code",
   "execution_count": 13,
   "id": "99ba44c8-b551-47bf-9fe8-1e9eba4b0c72",
   "metadata": {
    "execution": {
     "iopub.execute_input": "2024-05-28T19:45:11.092859Z",
     "iopub.status.busy": "2024-05-28T19:45:11.092143Z",
     "iopub.status.idle": "2024-05-28T19:45:11.195338Z",
     "shell.execute_reply": "2024-05-28T19:45:11.194713Z"
    },
    "papermill": {
     "duration": 0.10987,
     "end_time": "2024-05-28T19:45:11.197087",
     "exception": false,
     "start_time": "2024-05-28T19:45:11.087217",
     "status": "completed"
    },
    "tags": []
   },
   "outputs": [],
   "source": [
    "logger = CustomWandbLogger(name = run_name, project='inflammation_atlas_R1_scANVI', config = scvi_parameter_dict)"
   ]
  },
  {
   "cell_type": "code",
   "execution_count": 14,
   "id": "ddc105bb-90d1-4539-bfc2-b7b9600e7353",
   "metadata": {
    "execution": {
     "iopub.execute_input": "2024-05-28T19:45:11.205681Z",
     "iopub.status.busy": "2024-05-28T19:45:11.205442Z",
     "iopub.status.idle": "2024-05-28T19:45:37.611565Z",
     "shell.execute_reply": "2024-05-28T19:45:37.610857Z"
    },
    "papermill": {
     "duration": 26.412817,
     "end_time": "2024-05-28T19:45:37.613696",
     "exception": false,
     "start_time": "2024-05-28T19:45:11.200879",
     "status": "completed"
    },
    "tags": []
   },
   "outputs": [],
   "source": [
    "scvi_model = sca.models.SCVI(adata, **scvi_kwargs)"
   ]
  },
  {
   "cell_type": "code",
   "execution_count": 15,
   "id": "262b5470-c947-44e3-b5ff-4c707a2997fb",
   "metadata": {
    "execution": {
     "iopub.execute_input": "2024-05-28T19:45:37.622644Z",
     "iopub.status.busy": "2024-05-28T19:45:37.622367Z",
     "iopub.status.idle": "2024-05-28T21:49:23.765677Z",
     "shell.execute_reply": "2024-05-28T21:49:23.764834Z"
    },
    "papermill": {
     "duration": 7426.149521,
     "end_time": "2024-05-28T21:49:23.767314",
     "exception": false,
     "start_time": "2024-05-28T19:45:37.617793",
     "status": "completed"
    },
    "tags": []
   },
   "outputs": [
    {
     "name": "stderr",
     "output_type": "stream",
     "text": [
      "INFO: GPU available: True (cuda), used: True\n"
     ]
    },
    {
     "name": "stderr",
     "output_type": "stream",
     "text": [
      "INFO:lightning.pytorch.utilities.rank_zero:GPU available: True (cuda), used: True\n"
     ]
    },
    {
     "name": "stderr",
     "output_type": "stream",
     "text": [
      "INFO: TPU available: False, using: 0 TPU cores\n"
     ]
    },
    {
     "name": "stderr",
     "output_type": "stream",
     "text": [
      "INFO:lightning.pytorch.utilities.rank_zero:TPU available: False, using: 0 TPU cores\n"
     ]
    },
    {
     "name": "stderr",
     "output_type": "stream",
     "text": [
      "INFO: IPU available: False, using: 0 IPUs\n"
     ]
    },
    {
     "name": "stderr",
     "output_type": "stream",
     "text": [
      "INFO:lightning.pytorch.utilities.rank_zero:IPU available: False, using: 0 IPUs\n"
     ]
    },
    {
     "name": "stderr",
     "output_type": "stream",
     "text": [
      "INFO: HPU available: False, using: 0 HPUs\n"
     ]
    },
    {
     "name": "stderr",
     "output_type": "stream",
     "text": [
      "INFO:lightning.pytorch.utilities.rank_zero:HPU available: False, using: 0 HPUs\n"
     ]
    },
    {
     "name": "stderr",
     "output_type": "stream",
     "text": [
      "\u001b[34m\u001b[1mwandb\u001b[0m: Currently logged in as: \u001b[33mdav1989\u001b[0m (\u001b[33minflammation\u001b[0m). Use \u001b[1m`wandb login --relogin`\u001b[0m to force relogin\n"
     ]
    },
    {
     "name": "stderr",
     "output_type": "stream",
     "text": [
      "\u001b[34m\u001b[1mwandb\u001b[0m: wandb version 0.17.0 is available!  To upgrade, please run:\n",
      "\u001b[34m\u001b[1mwandb\u001b[0m:  $ pip install wandb --upgrade\n"
     ]
    },
    {
     "name": "stderr",
     "output_type": "stream",
     "text": [
      "\u001b[34m\u001b[1mwandb\u001b[0m: Tracking run with wandb version 0.16.5\n"
     ]
    },
    {
     "name": "stderr",
     "output_type": "stream",
     "text": [
      "\u001b[34m\u001b[1mwandb\u001b[0m: Run data is saved locally in \u001b[35m\u001b[1m./wandb/run-20240528_194539-istd5g0r\u001b[0m\n",
      "\u001b[34m\u001b[1mwandb\u001b[0m: Run \u001b[1m`wandb offline`\u001b[0m to turn off syncing.\n"
     ]
    },
    {
     "name": "stderr",
     "output_type": "stream",
     "text": [
      "\u001b[34m\u001b[1mwandb\u001b[0m: Syncing run \u001b[33mMAINobj_scVI_pretraining_noRBCnPlat\u001b[0m\n"
     ]
    },
    {
     "name": "stderr",
     "output_type": "stream",
     "text": [
      "\u001b[34m\u001b[1mwandb\u001b[0m: ⭐️ View project at \u001b[34m\u001b[4mhttps://wandb.ai/inflammation/inflammation_atlas_R1_scANVI\u001b[0m\n"
     ]
    },
    {
     "name": "stderr",
     "output_type": "stream",
     "text": [
      "\u001b[34m\u001b[1mwandb\u001b[0m: 🚀 View run at \u001b[34m\u001b[4mhttps://wandb.ai/inflammation/inflammation_atlas_R1_scANVI/runs/istd5g0r/workspace\u001b[0m\n"
     ]
    },
    {
     "name": "stderr",
     "output_type": "stream",
     "text": [
      "INFO: LOCAL_RANK: 0 - CUDA_VISIBLE_DEVICES: [0]\n"
     ]
    },
    {
     "name": "stderr",
     "output_type": "stream",
     "text": [
      "INFO:lightning.pytorch.accelerators.cuda:LOCAL_RANK: 0 - CUDA_VISIBLE_DEVICES: [0]\n"
     ]
    },
    {
     "name": "stdout",
     "output_type": "stream",
     "text": [
      "\r",
      "Training:   0%|                                                                                                                                  | 0/1000 [00:00<?, ?it/s]"
     ]
    },
    {
     "name": "stdout",
     "output_type": "stream",
     "text": [
      "\r",
      "Epoch 1/1000:   0%|                                                                                                                              | 0/1000 [00:00<?, ?it/s]"
     ]
    },
    {
     "name": "stdout",
     "output_type": "stream",
     "text": [
      "\r",
      "Epoch 1/1000:   0%|                                                                                                                 | 1/1000 [06:31<108:40:04, 391.60s/it]"
     ]
    },
    {
     "name": "stdout",
     "output_type": "stream",
     "text": [
      "\r",
      "Epoch 1/1000:   0%|                                                  | 1/1000 [06:31<108:40:04, 391.60s/it, v_num=5g0r, train_loss_step=1.64e+3, train_loss_epoch=1.92e+3]"
     ]
    },
    {
     "name": "stdout",
     "output_type": "stream",
     "text": [
      "\r",
      "Epoch 2/1000:   0%|                                                  | 1/1000 [06:31<108:40:04, 391.60s/it, v_num=5g0r, train_loss_step=1.64e+3, train_loss_epoch=1.92e+3]"
     ]
    },
    {
     "name": "stdout",
     "output_type": "stream",
     "text": [
      "\r",
      "Epoch 2/1000:   0%|                                                  | 2/1000 [13:01<108:13:01, 390.36s/it, v_num=5g0r, train_loss_step=1.64e+3, train_loss_epoch=1.92e+3]"
     ]
    },
    {
     "name": "stdout",
     "output_type": "stream",
     "text": [
      "\r",
      "Epoch 2/1000:   0%|                                                  | 2/1000 [13:01<108:13:01, 390.36s/it, v_num=5g0r, train_loss_step=1.81e+3, train_loss_epoch=1.89e+3]"
     ]
    },
    {
     "name": "stdout",
     "output_type": "stream",
     "text": [
      "\r",
      "Epoch 3/1000:   0%|                                                  | 2/1000 [13:01<108:13:01, 390.36s/it, v_num=5g0r, train_loss_step=1.81e+3, train_loss_epoch=1.89e+3]"
     ]
    },
    {
     "name": "stdout",
     "output_type": "stream",
     "text": [
      "\r",
      "Epoch 3/1000:   0%|▏                                                 | 3/1000 [19:33<108:23:51, 391.41s/it, v_num=5g0r, train_loss_step=1.81e+3, train_loss_epoch=1.89e+3]"
     ]
    },
    {
     "name": "stdout",
     "output_type": "stream",
     "text": [
      "\r",
      "Epoch 3/1000:   0%|▏                                                 | 3/1000 [19:33<108:23:51, 391.41s/it, v_num=5g0r, train_loss_step=1.72e+3, train_loss_epoch=1.89e+3]"
     ]
    },
    {
     "name": "stdout",
     "output_type": "stream",
     "text": [
      "\r",
      "Epoch 4/1000:   0%|▏                                                 | 3/1000 [19:33<108:23:51, 391.41s/it, v_num=5g0r, train_loss_step=1.72e+3, train_loss_epoch=1.89e+3]"
     ]
    },
    {
     "name": "stdout",
     "output_type": "stream",
     "text": [
      "\r",
      "Epoch 4/1000:   0%|▏                                                 | 4/1000 [26:07<108:29:38, 392.15s/it, v_num=5g0r, train_loss_step=1.72e+3, train_loss_epoch=1.89e+3]"
     ]
    },
    {
     "name": "stdout",
     "output_type": "stream",
     "text": [
      "\r",
      "Epoch 4/1000:   0%|▏                                                 | 4/1000 [26:07<108:29:38, 392.15s/it, v_num=5g0r, train_loss_step=1.96e+3, train_loss_epoch=1.88e+3]"
     ]
    },
    {
     "name": "stdout",
     "output_type": "stream",
     "text": [
      "\r",
      "Epoch 5/1000:   0%|▏                                                 | 4/1000 [26:07<108:29:38, 392.15s/it, v_num=5g0r, train_loss_step=1.96e+3, train_loss_epoch=1.88e+3]"
     ]
    },
    {
     "name": "stdout",
     "output_type": "stream",
     "text": [
      "\r",
      "Epoch 5/1000:   0%|▎                                                 | 5/1000 [32:38<108:19:59, 391.96s/it, v_num=5g0r, train_loss_step=1.96e+3, train_loss_epoch=1.88e+3]"
     ]
    },
    {
     "name": "stdout",
     "output_type": "stream",
     "text": [
      "\r",
      "Epoch 5/1000:   0%|▎                                                 | 5/1000 [32:38<108:19:59, 391.96s/it, v_num=5g0r, train_loss_step=2.03e+3, train_loss_epoch=1.88e+3]"
     ]
    },
    {
     "name": "stdout",
     "output_type": "stream",
     "text": [
      "\r",
      "Epoch 6/1000:   0%|▎                                                 | 5/1000 [32:38<108:19:59, 391.96s/it, v_num=5g0r, train_loss_step=2.03e+3, train_loss_epoch=1.88e+3]"
     ]
    },
    {
     "name": "stdout",
     "output_type": "stream",
     "text": [
      "\r",
      "Epoch 6/1000:   1%|▎                                                 | 6/1000 [39:09<108:05:33, 391.48s/it, v_num=5g0r, train_loss_step=2.03e+3, train_loss_epoch=1.88e+3]"
     ]
    },
    {
     "name": "stdout",
     "output_type": "stream",
     "text": [
      "\r",
      "Epoch 6/1000:   1%|▎                                                 | 6/1000 [39:09<108:05:33, 391.48s/it, v_num=5g0r, train_loss_step=2.08e+3, train_loss_epoch=1.88e+3]"
     ]
    },
    {
     "name": "stdout",
     "output_type": "stream",
     "text": [
      "\r",
      "Epoch 7/1000:   1%|▎                                                 | 6/1000 [39:09<108:05:33, 391.48s/it, v_num=5g0r, train_loss_step=2.08e+3, train_loss_epoch=1.88e+3]"
     ]
    },
    {
     "name": "stdout",
     "output_type": "stream",
     "text": [
      "\r",
      "Epoch 7/1000:   1%|▎                                                 | 7/1000 [45:40<107:59:45, 391.53s/it, v_num=5g0r, train_loss_step=2.08e+3, train_loss_epoch=1.88e+3]"
     ]
    },
    {
     "name": "stdout",
     "output_type": "stream",
     "text": [
      "\r",
      "Epoch 7/1000:   1%|▎                                                 | 7/1000 [45:40<107:59:45, 391.53s/it, v_num=5g0r, train_loss_step=1.87e+3, train_loss_epoch=1.88e+3]"
     ]
    },
    {
     "name": "stdout",
     "output_type": "stream",
     "text": [
      "\r",
      "Epoch 8/1000:   1%|▎                                                 | 7/1000 [45:40<107:59:45, 391.53s/it, v_num=5g0r, train_loss_step=1.87e+3, train_loss_epoch=1.88e+3]"
     ]
    },
    {
     "name": "stdout",
     "output_type": "stream",
     "text": [
      "\r",
      "Epoch 8/1000:   1%|▍                                                 | 8/1000 [52:08<107:34:30, 390.39s/it, v_num=5g0r, train_loss_step=1.87e+3, train_loss_epoch=1.88e+3]"
     ]
    },
    {
     "name": "stdout",
     "output_type": "stream",
     "text": [
      "\r",
      "Epoch 8/1000:   1%|▍                                                 | 8/1000 [52:08<107:34:30, 390.39s/it, v_num=5g0r, train_loss_step=1.73e+3, train_loss_epoch=1.88e+3]"
     ]
    },
    {
     "name": "stdout",
     "output_type": "stream",
     "text": [
      "\r",
      "Epoch 9/1000:   1%|▍                                                 | 8/1000 [52:08<107:34:30, 390.39s/it, v_num=5g0r, train_loss_step=1.73e+3, train_loss_epoch=1.88e+3]"
     ]
    },
    {
     "name": "stdout",
     "output_type": "stream",
     "text": [
      "\r",
      "Epoch 9/1000:   1%|▍                                                 | 9/1000 [58:38<107:26:46, 390.32s/it, v_num=5g0r, train_loss_step=1.73e+3, train_loss_epoch=1.88e+3]"
     ]
    },
    {
     "name": "stdout",
     "output_type": "stream",
     "text": [
      "\r",
      "Epoch 9/1000:   1%|▍                                                 | 9/1000 [58:38<107:26:46, 390.32s/it, v_num=5g0r, train_loss_step=2.15e+3, train_loss_epoch=1.88e+3]"
     ]
    },
    {
     "name": "stdout",
     "output_type": "stream",
     "text": [
      "\r",
      "Epoch 10/1000:   1%|▍                                                | 9/1000 [58:38<107:26:46, 390.32s/it, v_num=5g0r, train_loss_step=2.15e+3, train_loss_epoch=1.88e+3]"
     ]
    },
    {
     "name": "stdout",
     "output_type": "stream",
     "text": [
      "\r",
      "Epoch 10/1000:   1%|▍                                             | 10/1000 [1:05:06<107:05:11, 389.41s/it, v_num=5g0r, train_loss_step=2.15e+3, train_loss_epoch=1.88e+3]"
     ]
    },
    {
     "name": "stdout",
     "output_type": "stream",
     "text": [
      "\r",
      "Epoch 10/1000:   1%|▍                                             | 10/1000 [1:05:06<107:05:11, 389.41s/it, v_num=5g0r, train_loss_step=1.82e+3, train_loss_epoch=1.88e+3]"
     ]
    },
    {
     "name": "stdout",
     "output_type": "stream",
     "text": [
      "\r",
      "Epoch 11/1000:   1%|▍                                             | 10/1000 [1:05:06<107:05:11, 389.41s/it, v_num=5g0r, train_loss_step=1.82e+3, train_loss_epoch=1.88e+3]"
     ]
    },
    {
     "name": "stdout",
     "output_type": "stream",
     "text": [
      "\r",
      "Epoch 11/1000:   1%|▌                                             | 11/1000 [1:11:34<106:53:52, 389.11s/it, v_num=5g0r, train_loss_step=1.82e+3, train_loss_epoch=1.88e+3]"
     ]
    },
    {
     "name": "stdout",
     "output_type": "stream",
     "text": [
      "\r",
      "Epoch 11/1000:   1%|▌                                             | 11/1000 [1:11:34<106:53:52, 389.11s/it, v_num=5g0r, train_loss_step=2.02e+3, train_loss_epoch=1.88e+3]"
     ]
    },
    {
     "name": "stdout",
     "output_type": "stream",
     "text": [
      "\r",
      "Epoch 12/1000:   1%|▌                                             | 11/1000 [1:11:34<106:53:52, 389.11s/it, v_num=5g0r, train_loss_step=2.02e+3, train_loss_epoch=1.88e+3]"
     ]
    },
    {
     "name": "stdout",
     "output_type": "stream",
     "text": [
      "\r",
      "Epoch 12/1000:   1%|▌                                             | 12/1000 [1:18:08<107:08:55, 390.42s/it, v_num=5g0r, train_loss_step=2.02e+3, train_loss_epoch=1.88e+3]"
     ]
    },
    {
     "name": "stdout",
     "output_type": "stream",
     "text": [
      "\r",
      "Epoch 12/1000:   1%|▌                                             | 12/1000 [1:18:08<107:08:55, 390.42s/it, v_num=5g0r, train_loss_step=1.83e+3, train_loss_epoch=1.88e+3]"
     ]
    },
    {
     "name": "stdout",
     "output_type": "stream",
     "text": [
      "\r",
      "Epoch 13/1000:   1%|▌                                             | 12/1000 [1:18:08<107:08:55, 390.42s/it, v_num=5g0r, train_loss_step=1.83e+3, train_loss_epoch=1.88e+3]"
     ]
    },
    {
     "name": "stdout",
     "output_type": "stream",
     "text": [
      "\r",
      "Epoch 13/1000:   1%|▌                                             | 13/1000 [1:24:39<107:05:44, 390.62s/it, v_num=5g0r, train_loss_step=1.83e+3, train_loss_epoch=1.88e+3]"
     ]
    },
    {
     "name": "stdout",
     "output_type": "stream",
     "text": [
      "\r",
      "Epoch 13/1000:   1%|▌                                             | 13/1000 [1:24:39<107:05:44, 390.62s/it, v_num=5g0r, train_loss_step=2.03e+3, train_loss_epoch=1.88e+3]"
     ]
    },
    {
     "name": "stdout",
     "output_type": "stream",
     "text": [
      "\r",
      "Epoch 14/1000:   1%|▌                                             | 13/1000 [1:24:39<107:05:44, 390.62s/it, v_num=5g0r, train_loss_step=2.03e+3, train_loss_epoch=1.88e+3]"
     ]
    },
    {
     "name": "stdout",
     "output_type": "stream",
     "text": [
      "\r",
      "Epoch 14/1000:   1%|▋                                             | 14/1000 [1:31:07<106:45:32, 389.79s/it, v_num=5g0r, train_loss_step=2.03e+3, train_loss_epoch=1.88e+3]"
     ]
    },
    {
     "name": "stdout",
     "output_type": "stream",
     "text": [
      "\r",
      "Epoch 14/1000:   1%|▋                                              | 14/1000 [1:31:07<106:45:32, 389.79s/it, v_num=5g0r, train_loss_step=1.8e+3, train_loss_epoch=1.88e+3]"
     ]
    },
    {
     "name": "stdout",
     "output_type": "stream",
     "text": [
      "\r",
      "Epoch 15/1000:   1%|▋                                              | 14/1000 [1:31:07<106:45:32, 389.79s/it, v_num=5g0r, train_loss_step=1.8e+3, train_loss_epoch=1.88e+3]"
     ]
    },
    {
     "name": "stdout",
     "output_type": "stream",
     "text": [
      "\r",
      "Epoch 15/1000:   2%|▋                                              | 15/1000 [1:37:36<106:38:05, 389.73s/it, v_num=5g0r, train_loss_step=1.8e+3, train_loss_epoch=1.88e+3]"
     ]
    },
    {
     "name": "stdout",
     "output_type": "stream",
     "text": [
      "\r",
      "Epoch 15/1000:   2%|▋                                             | 15/1000 [1:37:36<106:38:05, 389.73s/it, v_num=5g0r, train_loss_step=2.06e+3, train_loss_epoch=1.88e+3]"
     ]
    },
    {
     "name": "stdout",
     "output_type": "stream",
     "text": [
      "\r",
      "Epoch 16/1000:   2%|▋                                             | 15/1000 [1:37:36<106:38:05, 389.73s/it, v_num=5g0r, train_loss_step=2.06e+3, train_loss_epoch=1.88e+3]"
     ]
    },
    {
     "name": "stdout",
     "output_type": "stream",
     "text": [
      "\r",
      "Epoch 16/1000:   2%|▋                                             | 16/1000 [1:44:07<106:37:43, 390.11s/it, v_num=5g0r, train_loss_step=2.06e+3, train_loss_epoch=1.88e+3]"
     ]
    },
    {
     "name": "stdout",
     "output_type": "stream",
     "text": [
      "\r",
      "Epoch 16/1000:   2%|▋                                             | 16/1000 [1:44:07<106:37:43, 390.11s/it, v_num=5g0r, train_loss_step=1.86e+3, train_loss_epoch=1.88e+3]"
     ]
    },
    {
     "name": "stdout",
     "output_type": "stream",
     "text": [
      "\r",
      "Epoch 17/1000:   2%|▋                                             | 16/1000 [1:44:07<106:37:43, 390.11s/it, v_num=5g0r, train_loss_step=1.86e+3, train_loss_epoch=1.88e+3]"
     ]
    },
    {
     "name": "stdout",
     "output_type": "stream",
     "text": [
      "\r",
      "Epoch 17/1000:   2%|▊                                             | 17/1000 [1:50:37<106:30:43, 390.07s/it, v_num=5g0r, train_loss_step=1.86e+3, train_loss_epoch=1.88e+3]"
     ]
    },
    {
     "name": "stdout",
     "output_type": "stream",
     "text": [
      "\r",
      "Epoch 17/1000:   2%|▊                                             | 17/1000 [1:50:37<106:30:43, 390.07s/it, v_num=5g0r, train_loss_step=1.91e+3, train_loss_epoch=1.88e+3]"
     ]
    },
    {
     "name": "stdout",
     "output_type": "stream",
     "text": [
      "\r",
      "Epoch 18/1000:   2%|▊                                             | 17/1000 [1:50:37<106:30:43, 390.07s/it, v_num=5g0r, train_loss_step=1.91e+3, train_loss_epoch=1.88e+3]"
     ]
    },
    {
     "name": "stdout",
     "output_type": "stream",
     "text": [
      "\r",
      "Epoch 18/1000:   2%|▊                                             | 18/1000 [1:57:11<106:41:09, 391.11s/it, v_num=5g0r, train_loss_step=1.91e+3, train_loss_epoch=1.88e+3]"
     ]
    },
    {
     "name": "stdout",
     "output_type": "stream",
     "text": [
      "\r",
      "Epoch 18/1000:   2%|▊                                             | 18/1000 [1:57:11<106:41:09, 391.11s/it, v_num=5g0r, train_loss_step=2.08e+3, train_loss_epoch=1.88e+3]"
     ]
    },
    {
     "name": "stdout",
     "output_type": "stream",
     "text": [
      "\r",
      "Epoch 19/1000:   2%|▊                                             | 18/1000 [1:57:11<106:41:09, 391.11s/it, v_num=5g0r, train_loss_step=2.08e+3, train_loss_epoch=1.88e+3]"
     ]
    },
    {
     "name": "stdout",
     "output_type": "stream",
     "text": [
      "\r",
      "Epoch 19/1000:   2%|▊                                             | 19/1000 [2:03:41<106:28:41, 390.75s/it, v_num=5g0r, train_loss_step=2.08e+3, train_loss_epoch=1.88e+3]"
     ]
    },
    {
     "name": "stdout",
     "output_type": "stream",
     "text": [
      "\r",
      "Epoch 19/1000:   2%|▉                                              | 19/1000 [2:03:41<106:28:41, 390.75s/it, v_num=5g0r, train_loss_step=1.9e+3, train_loss_epoch=1.88e+3]"
     ]
    },
    {
     "name": "stdout",
     "output_type": "stream",
     "text": [
      "\r",
      "Epoch 19/1000:   2%|▉                                              | 19/1000 [2:03:41<106:26:04, 390.59s/it, v_num=5g0r, train_loss_step=1.9e+3, train_loss_epoch=1.88e+3]"
     ]
    },
    {
     "name": "stdout",
     "output_type": "stream",
     "text": [
      "\n"
     ]
    },
    {
     "name": "stdout",
     "output_type": "stream",
     "text": [
      "Monitored metric reconstruction_loss_validation did not improve in the last 2 records. Best score: 1866.978. Signaling Trainer to stop.\n"
     ]
    }
   ],
   "source": [
    "scvi_model.train(logger=logger, datasplitter_kwargs=datasplitter_kwargs, plan_kwargs = plan_kwargs, **trainer_kwargs)"
   ]
  },
  {
   "cell_type": "code",
   "execution_count": 16,
   "id": "599af344-d9cc-4893-9f65-40c2c74bc659",
   "metadata": {
    "execution": {
     "iopub.execute_input": "2024-05-28T21:49:23.783412Z",
     "iopub.status.busy": "2024-05-28T21:49:23.783143Z",
     "iopub.status.idle": "2024-05-28T21:49:29.602034Z",
     "shell.execute_reply": "2024-05-28T21:49:29.601434Z"
    },
    "papermill": {
     "duration": 5.829261,
     "end_time": "2024-05-28T21:49:29.603823",
     "exception": false,
     "start_time": "2024-05-28T21:49:23.774562",
     "status": "completed"
    },
    "tags": []
   },
   "outputs": [
    {
     "name": "stderr",
     "output_type": "stream",
     "text": [
      "\u001b[34m\u001b[1mwandb\u001b[0m: - 0.004 MB of 0.004 MB uploaded\r"
     ]
    },
    {
     "name": "stderr",
     "output_type": "stream",
     "text": [
      "\u001b[34m\u001b[1mwandb\u001b[0m: \\ 0.004 MB of 0.004 MB uploaded\r"
     ]
    },
    {
     "name": "stderr",
     "output_type": "stream",
     "text": [
      "\u001b[34m\u001b[1mwandb\u001b[0m: | 0.011 MB of 0.011 MB uploaded\r"
     ]
    },
    {
     "name": "stderr",
     "output_type": "stream",
     "text": [
      "\u001b[34m\u001b[1mwandb\u001b[0m:                                                                                \n"
     ]
    },
    {
     "name": "stderr",
     "output_type": "stream",
     "text": [
      "\u001b[34m\u001b[1mwandb\u001b[0m: \n",
      "\u001b[34m\u001b[1mwandb\u001b[0m: Run history:\n",
      "\u001b[34m\u001b[1mwandb\u001b[0m:                     elbo_train █▄▃▂▂▂▂▂▁▁▁▁▁▁▁▁▁▁▁\n",
      "\u001b[34m\u001b[1mwandb\u001b[0m:                elbo_validation █▃▂▂▂▂▂▁▁▁▁▁▁▁▁▁▁▁▁\n",
      "\u001b[34m\u001b[1mwandb\u001b[0m:                          epoch ▁▁▁▁▂▂▂▂▂▃▃▃▃▃▃▄▄▄▄▅▅▅▅▅▅▆▆▆▆▆▆▆▇▇▇▇████\n",
      "\u001b[34m\u001b[1mwandb\u001b[0m:                kl_global_train ▁▁▁▁▁▁▁▁▁▁▁▁▁▁▁▁▁▁▁\n",
      "\u001b[34m\u001b[1mwandb\u001b[0m:           kl_global_validation ▁▁▁▁▁▁▁▁▁▁▁▁▁▁▁▁▁▁▁\n",
      "\u001b[34m\u001b[1mwandb\u001b[0m:                 kl_local_train █▅▃▂▂▂▂▂▁▁▁▁▁▁▁▁▁▁▁\n",
      "\u001b[34m\u001b[1mwandb\u001b[0m:            kl_local_validation █▃▂▂▂▂▁▁▁▁▁▁▁▁▁▁▁▁▁\n",
      "\u001b[34m\u001b[1mwandb\u001b[0m:                      kl_weight ▁▁▁▁▂▂▂▂▂▃▃▃▃▃▃▄▄▄▄▄▄▅▅▅▅▆▆▆▆▆▆▆▇▇▇▇████\n",
      "\u001b[34m\u001b[1mwandb\u001b[0m:      reconstruction_loss_train █▄▃▂▂▂▂▂▁▁▁▁▁▁▁▁▁▁▁\n",
      "\u001b[34m\u001b[1mwandb\u001b[0m: reconstruction_loss_validation █▆▅▄▃▃▂▂▂▂▁▁▁▁▁▁▁▁▁\n",
      "\u001b[34m\u001b[1mwandb\u001b[0m:               train_loss_epoch █▃▃▂▂▂▂▁▁▁▁▁▁▁▁▁▁▁▁\n",
      "\u001b[34m\u001b[1mwandb\u001b[0m:                train_loss_step ▅▇▄█▂▂▂▅▄▆▅▃█▄▄▅▄▅▃▃▃▂▇▅▆▆▄▃▄▆▁▆▅█▂▁▂▅▅▃\n",
      "\u001b[34m\u001b[1mwandb\u001b[0m:            trainer/global_step ▁▁▁▂▂▂▂▂▂▃▃▃▃▃▃▄▄▄▄▄▅▅▅▅▅▅▆▆▆▆▆▇▇▇▇▇▇███\n",
      "\u001b[34m\u001b[1mwandb\u001b[0m:                validation_loss █▅▄▃▃▂▂▂▂▁▁▁▁▁▁▁▁▁▁\n",
      "\u001b[34m\u001b[1mwandb\u001b[0m: \n",
      "\u001b[34m\u001b[1mwandb\u001b[0m: Run summary:\n",
      "\u001b[34m\u001b[1mwandb\u001b[0m:                     elbo_train 1931.92175\n",
      "\u001b[34m\u001b[1mwandb\u001b[0m:                elbo_validation 1924.03271\n",
      "\u001b[34m\u001b[1mwandb\u001b[0m:                          epoch 18\n",
      "\u001b[34m\u001b[1mwandb\u001b[0m:                kl_global_train 0.0\n",
      "\u001b[34m\u001b[1mwandb\u001b[0m:           kl_global_validation 0.0\n",
      "\u001b[34m\u001b[1mwandb\u001b[0m:                 kl_local_train 58.97603\n",
      "\u001b[34m\u001b[1mwandb\u001b[0m:            kl_local_validation 57.04641\n",
      "\u001b[34m\u001b[1mwandb\u001b[0m:                      kl_weight 0.045\n",
      "\u001b[34m\u001b[1mwandb\u001b[0m:      reconstruction_loss_train 1872.94568\n",
      "\u001b[34m\u001b[1mwandb\u001b[0m: reconstruction_loss_validation 1866.98633\n",
      "\u001b[34m\u001b[1mwandb\u001b[0m:               train_loss_epoch 1875.59082\n",
      "\u001b[34m\u001b[1mwandb\u001b[0m:                train_loss_step 1897.54089\n",
      "\u001b[34m\u001b[1mwandb\u001b[0m:            trainer/global_step 571709\n",
      "\u001b[34m\u001b[1mwandb\u001b[0m:                validation_loss 1869.55212\n",
      "\u001b[34m\u001b[1mwandb\u001b[0m: \n"
     ]
    },
    {
     "name": "stderr",
     "output_type": "stream",
     "text": [
      "\u001b[34m\u001b[1mwandb\u001b[0m: 🚀 View run \u001b[33mMAINobj_scVI_pretraining_noRBCnPlat\u001b[0m at: \u001b[34m\u001b[4mhttps://wandb.ai/inflammation/inflammation_atlas_R1_scANVI/runs/istd5g0r/workspace\u001b[0m\n",
      "\u001b[34m\u001b[1mwandb\u001b[0m: Synced 5 W&B file(s), 0 media file(s), 0 artifact file(s) and 0 other file(s)\n"
     ]
    },
    {
     "name": "stderr",
     "output_type": "stream",
     "text": [
      "\u001b[34m\u001b[1mwandb\u001b[0m: Find logs at: \u001b[35m\u001b[1m./wandb/run-20240528_194539-istd5g0r/logs\u001b[0m\n"
     ]
    }
   ],
   "source": [
    "wandb.finish()"
   ]
  },
  {
   "cell_type": "code",
   "execution_count": 17,
   "id": "21287012-c472-4af7-896e-e3eb055f5f48",
   "metadata": {
    "execution": {
     "iopub.execute_input": "2024-05-28T21:49:29.620691Z",
     "iopub.status.busy": "2024-05-28T21:49:29.620009Z",
     "iopub.status.idle": "2024-05-28T21:49:29.957624Z",
     "shell.execute_reply": "2024-05-28T21:49:29.956861Z"
    },
    "papermill": {
     "duration": 0.34832,
     "end_time": "2024-05-28T21:49:29.959759",
     "exception": false,
     "start_time": "2024-05-28T21:49:29.611439",
     "status": "completed"
    },
    "tags": []
   },
   "outputs": [],
   "source": [
    "if overwriteData:\n",
    "    scvi_model.save(here(f\"{workingDir}/results/scVI_model_pretreined_noRBCnPlat/\"), \n",
    "               overwrite = True, \n",
    "               save_anndata = False)"
   ]
  },
  {
   "cell_type": "code",
   "execution_count": 18,
   "id": "2ff8243e-e753-470a-9ff2-6f34aaa1d706",
   "metadata": {
    "execution": {
     "iopub.execute_input": "2024-05-28T21:49:29.975969Z",
     "iopub.status.busy": "2024-05-28T21:49:29.975678Z",
     "iopub.status.idle": "2024-05-28T21:51:57.824453Z",
     "shell.execute_reply": "2024-05-28T21:51:57.823341Z"
    },
    "papermill": {
     "duration": 147.859382,
     "end_time": "2024-05-28T21:51:57.826584",
     "exception": false,
     "start_time": "2024-05-28T21:49:29.967202",
     "status": "completed"
    },
    "tags": []
   },
   "outputs": [],
   "source": [
    "scvi_emb = scvi_model.get_latent_representation(adata=adata)"
   ]
  },
  {
   "cell_type": "code",
   "execution_count": 19,
   "id": "bc47465b-8ddd-41ae-93eb-3faaa243cbf1",
   "metadata": {
    "execution": {
     "iopub.execute_input": "2024-05-28T21:51:57.844207Z",
     "iopub.status.busy": "2024-05-28T21:51:57.843589Z",
     "iopub.status.idle": "2024-05-28T21:52:21.849868Z",
     "shell.execute_reply": "2024-05-28T21:52:21.849150Z"
    },
    "papermill": {
     "duration": 24.017297,
     "end_time": "2024-05-28T21:52:21.851903",
     "exception": false,
     "start_time": "2024-05-28T21:51:57.834606",
     "status": "completed"
    },
    "tags": []
   },
   "outputs": [],
   "source": [
    "np.savez_compressed(file = str(here(f\"{workingDir}/results/scVI_model_pretreined_noRBCnPlat/scVI_embedding.npz\")), arr=scvi_emb)"
   ]
  },
  {
   "cell_type": "code",
   "execution_count": null,
   "id": "006a60a6-118b-4d50-890a-79b59d75528b",
   "metadata": {
    "papermill": {
     "duration": 0.00732,
     "end_time": "2024-05-28T21:52:21.866964",
     "exception": false,
     "start_time": "2024-05-28T21:52:21.859644",
     "status": "completed"
    },
    "tags": []
   },
   "outputs": [],
   "source": []
  }
 ],
 "metadata": {
  "kernelspec": {
   "display_name": "Python 3 (ipykernel)",
   "language": "python",
   "name": "python3"
  },
  "language_info": {
   "codemirror_mode": {
    "name": "ipython",
    "version": 3
   },
   "file_extension": ".py",
   "mimetype": "text/x-python",
   "name": "python",
   "nbconvert_exporter": "python",
   "pygments_lexer": "ipython3",
   "version": "3.10.13"
  },
  "papermill": {
   "default_parameters": {},
   "duration": 7739.194225,
   "end_time": "2024-05-28T21:52:24.692543",
   "environment_variables": {},
   "exception": null,
   "input_path": "01_preTraining_scVI.ipynb",
   "output_path": "01_preTraining_scVI_executed.ipynb",
   "parameters": {},
   "start_time": "2024-05-28T19:43:25.498318",
   "version": "2.5.0"
  }
 },
 "nbformat": 4,
 "nbformat_minor": 5
}
