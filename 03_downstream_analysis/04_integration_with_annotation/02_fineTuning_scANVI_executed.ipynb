{
 "cells": [
  {
   "cell_type": "code",
   "execution_count": 1,
   "id": "044a9326-0745-430b-a00f-48663be02989",
   "metadata": {
    "execution": {
     "iopub.execute_input": "2024-05-28T21:52:26.018908Z",
     "iopub.status.busy": "2024-05-28T21:52:26.018438Z",
     "iopub.status.idle": "2024-05-28T21:52:30.733951Z",
     "shell.execute_reply": "2024-05-28T21:52:30.733276Z"
    },
    "papermill": {
     "duration": 4.722443,
     "end_time": "2024-05-28T21:52:30.736030",
     "exception": false,
     "start_time": "2024-05-28T21:52:26.013587",
     "status": "completed"
    },
    "tags": []
   },
   "outputs": [
    {
     "name": "stderr",
     "output_type": "stream",
     "text": [
      "WARNING:root:In order to use the mouse gastrulation seqFISH datsets, please install squidpy (see https://github.com/scverse/squidpy).\n"
     ]
    },
    {
     "name": "stderr",
     "output_type": "stream",
     "text": [
      "/home/jupyter/conda_envs/scarches/lib/python3.9/site-packages/tqdm/auto.py:21: TqdmWarning: IProgress not found. Please update jupyter and ipywidgets. See https://ipywidgets.readthedocs.io/en/stable/user_install.html\n",
      "  from .autonotebook import tqdm as notebook_tqdm\n"
     ]
    },
    {
     "name": "stderr",
     "output_type": "stream",
     "text": [
      "WARNING:root:In order to use sagenet models, please install pytorch geometric (see https://pytorch-geometric.readthedocs.io) and \n",
      " captum (see https://github.com/pytorch/captum).\n"
     ]
    },
    {
     "name": "stderr",
     "output_type": "stream",
     "text": [
      "WARNING:root:mvTCR is not installed. To use mvTCR models, please install it first using \"pip install mvtcr\"\n"
     ]
    },
    {
     "name": "stderr",
     "output_type": "stream",
     "text": [
      "WARNING:root:multigrate is not installed. To use multigrate models, please install it first using \"pip install multigrate\".\n"
     ]
    },
    {
     "name": "stderr",
     "output_type": "stream",
     "text": [
      "INFO: Seed set to 42\n"
     ]
    },
    {
     "name": "stderr",
     "output_type": "stream",
     "text": [
      "INFO:lightning.fabric.utilities.seed:Seed set to 42\n"
     ]
    }
   ],
   "source": [
    "import os\n",
    "import sys\n",
    "\n",
    "import json\n",
    "\n",
    "import numpy as np\n",
    "import scanpy as sc\n",
    "import pandas as pd\n",
    "import matplotlib.pyplot as plt\n",
    "import seaborn as sns\n",
    "from sklearn.metrics import classification_report\n",
    "\n",
    "import scarches as sca\n",
    "from scarches.dataset.trvae.data_handling import remove_sparsity\n",
    "import matplotlib.pyplot as plt\n",
    "\n",
    "from lightning.pytorch.callbacks import ModelCheckpoint\n",
    "\n",
    "import torch\n",
    "\n",
    "from dotenv import load_dotenv\n",
    "\n",
    "from lightning.pytorch.loggers import WandbLogger\n",
    "import wandb\n",
    "\n",
    "import session_info\n",
    "import warnings\n",
    "from pyprojroot.here import here\n",
    "\n",
    "#plt.style.use(['science','nature','no-latex'])\n",
    "dpi_fig_save = 300\n",
    "sc.set_figure_params(dpi=100, dpi_save=dpi_fig_save, vector_friendly=True)\n",
    "\n",
    "# Setting some parameters\n",
    "warnings.filterwarnings(\"ignore\")\n",
    "\n",
    "from sklearn.model_selection import StratifiedKFold\n",
    "\n",
    "overwriteData = True\n",
    "overwriteFigures = True\n",
    "\n",
    "# Set random seed\n",
    "random_seed = 42\n",
    "\n",
    "import warnings\n",
    "warnings.filterwarnings('ignore')\n",
    "\n",
    "import scvi\n",
    "scvi.settings.dl_num_workers = 0\n",
    "scvi.settings.seed = random_seed\n",
    "\n",
    "#torch.set_float32_matmul_precision('high')\n",
    "#torch.set_printoptions(precision=3, sci_mode=False, edgeitems=7)\n",
    "# torch.multiprocessing.set_sharing_strategy('file_system')\n",
    "\n",
    "%load_ext autoreload\n",
    "%autoreload 2"
   ]
  },
  {
   "cell_type": "code",
   "execution_count": 2,
   "id": "e9230839-98a4-4ab3-a28a-05e68e858dd0",
   "metadata": {
    "execution": {
     "iopub.execute_input": "2024-05-28T21:52:30.745951Z",
     "iopub.status.busy": "2024-05-28T21:52:30.745694Z",
     "iopub.status.idle": "2024-05-28T21:52:30.787310Z",
     "shell.execute_reply": "2024-05-28T21:52:30.786710Z"
    },
    "papermill": {
     "duration": 0.047658,
     "end_time": "2024-05-28T21:52:30.788943",
     "exception": false,
     "start_time": "2024-05-28T21:52:30.741285",
     "status": "completed"
    },
    "tags": []
   },
   "outputs": [],
   "source": [
    "assert load_dotenv()"
   ]
  },
  {
   "cell_type": "code",
   "execution_count": 3,
   "id": "6af74995-eeba-493d-999c-501287dd809c",
   "metadata": {
    "execution": {
     "iopub.execute_input": "2024-05-28T21:52:30.796528Z",
     "iopub.status.busy": "2024-05-28T21:52:30.796022Z",
     "iopub.status.idle": "2024-05-28T21:52:30.835113Z",
     "shell.execute_reply": "2024-05-28T21:52:30.834570Z"
    },
    "papermill": {
     "duration": 0.044489,
     "end_time": "2024-05-28T21:52:30.836516",
     "exception": false,
     "start_time": "2024-05-28T21:52:30.792027",
     "status": "completed"
    },
    "tags": []
   },
   "outputs": [
    {
     "data": {
      "text/plain": [
       "PosixPath('/home/jupyter/Inflammation-PBMCs-Atlas/03_downstream_analysis/03_scANVI_integration_with_annotation')"
      ]
     },
     "execution_count": 3,
     "metadata": {},
     "output_type": "execute_result"
    }
   ],
   "source": [
    "workingDir = here('03_downstream_analysis/04_integration_with_annotation/')\n",
    "workingDir"
   ]
  },
  {
   "cell_type": "code",
   "execution_count": 4,
   "id": "1dae1184-00db-4d0c-8e49-42b1df5f9d30",
   "metadata": {
    "execution": {
     "iopub.execute_input": "2024-05-28T21:52:30.844167Z",
     "iopub.status.busy": "2024-05-28T21:52:30.843901Z",
     "iopub.status.idle": "2024-05-28T21:52:30.880976Z",
     "shell.execute_reply": "2024-05-28T21:52:30.880437Z"
    },
    "papermill": {
     "duration": 0.042598,
     "end_time": "2024-05-28T21:52:30.882398",
     "exception": false,
     "start_time": "2024-05-28T21:52:30.839800",
     "status": "completed"
    },
    "tags": []
   },
   "outputs": [],
   "source": [
    "class CustomWandbLogger(WandbLogger):\n",
    "    @property\n",
    "    def save_dir(self):\n",
    "        \"\"\"Gets the save directory.\n",
    "\n",
    "        Returns:\n",
    "            The path to the save directory.\n",
    "\n",
    "        \"\"\"\n",
    "        return self.experiment.dir"
   ]
  },
  {
   "cell_type": "code",
   "execution_count": 5,
   "id": "70cb28c1-38c5-4910-98e5-a4d786f256d7",
   "metadata": {
    "execution": {
     "iopub.execute_input": "2024-05-28T21:52:30.891934Z",
     "iopub.status.busy": "2024-05-28T21:52:30.891361Z",
     "iopub.status.idle": "2024-05-28T21:52:30.927960Z",
     "shell.execute_reply": "2024-05-28T21:52:30.927357Z"
    },
    "papermill": {
     "duration": 0.042285,
     "end_time": "2024-05-28T21:52:30.929362",
     "exception": false,
     "start_time": "2024-05-28T21:52:30.887077",
     "status": "completed"
    },
    "tags": []
   },
   "outputs": [
    {
     "data": {
      "text/plain": [
       "'1.1.2'"
      ]
     },
     "execution_count": 5,
     "metadata": {},
     "output_type": "execute_result"
    }
   ],
   "source": [
    "scvi.__version__"
   ]
  },
  {
   "cell_type": "markdown",
   "id": "e11bbe22-69a0-40d4-b609-7e108d2bcb46",
   "metadata": {
    "execution": {
     "iopub.execute_input": "2024-04-10T14:14:35.228151Z",
     "iopub.status.busy": "2024-04-10T14:14:35.226856Z",
     "iopub.status.idle": "2024-04-10T14:14:35.273260Z",
     "shell.execute_reply": "2024-04-10T14:14:35.272159Z",
     "shell.execute_reply.started": "2024-04-10T14:14:35.228101Z"
    },
    "papermill": {
     "duration": 0.00332,
     "end_time": "2024-05-28T21:52:30.936002",
     "exception": false,
     "start_time": "2024-05-28T21:52:30.932682",
     "status": "completed"
    },
    "tags": []
   },
   "source": [
    "# Loading data\n"
   ]
  },
  {
   "cell_type": "code",
   "execution_count": 6,
   "id": "f93686ba-9680-4b63-97c9-a0bc0a799c29",
   "metadata": {
    "execution": {
     "iopub.execute_input": "2024-05-28T21:52:30.943938Z",
     "iopub.status.busy": "2024-05-28T21:52:30.943512Z",
     "iopub.status.idle": "2024-05-28T21:54:07.064810Z",
     "shell.execute_reply": "2024-05-28T21:54:07.064113Z"
    },
    "papermill": {
     "duration": 96.127585,
     "end_time": "2024-05-28T21:54:07.066976",
     "exception": false,
     "start_time": "2024-05-28T21:52:30.939391",
     "status": "completed"
    },
    "tags": []
   },
   "outputs": [],
   "source": [
    "# Load the h5ad file\n",
    "adata = sc.read_h5ad(here(\"03_downstream_analysis/04_integration_with_annotation/04_MAIN_geneUniverse_noRBCnPlatelets.h5ad\"))#, \n",
    "                     #backed='r+', chunk_size=50000)\n"
   ]
  },
  {
   "cell_type": "code",
   "execution_count": 7,
   "id": "d2c439f5-df7e-4c19-a065-af40583f4b39",
   "metadata": {
    "execution": {
     "iopub.execute_input": "2024-05-28T21:54:07.075957Z",
     "iopub.status.busy": "2024-05-28T21:54:07.075668Z",
     "iopub.status.idle": "2024-05-28T21:54:07.177924Z",
     "shell.execute_reply": "2024-05-28T21:54:07.177154Z"
    },
    "papermill": {
     "duration": 0.108979,
     "end_time": "2024-05-28T21:54:07.179980",
     "exception": false,
     "start_time": "2024-05-28T21:54:07.071001",
     "status": "completed"
    },
    "tags": []
   },
   "outputs": [],
   "source": [
    "adata.obs['binned_age'] = adata.obs['binned_age'].astype(str)"
   ]
  },
  {
   "cell_type": "raw",
   "id": "3b00d51b-ffb9-4aa3-b875-227755b5fc60",
   "metadata": {
    "execution": {
     "iopub.execute_input": "2024-05-14T18:03:20.489783Z",
     "iopub.status.busy": "2024-05-14T18:03:20.488996Z",
     "iopub.status.idle": "2024-05-14T18:03:21.524929Z",
     "shell.execute_reply": "2024-05-14T18:03:21.523944Z",
     "shell.execute_reply.started": "2024-05-14T18:03:20.489755Z"
    },
    "papermill": {
     "duration": 0.003598,
     "end_time": "2024-05-28T21:54:07.187498",
     "exception": false,
     "start_time": "2024-05-28T21:54:07.183900",
     "status": "completed"
    },
    "tags": []
   },
   "source": [
    "adata.obs['binned_age_cod'] = adata.obs.binned_age.cat.codes\n",
    "adata.obs['chemistry_cod'] = adata.obs.chemistry.cat.codes\n",
    "adata.obs['libraryID_cod'] = adata.obs.libraryID.cat.codes\n",
    "adata.obs['studyID_cod'] = adata.obs.studyID.cat.codes\n",
    "adata.obs['sex_cod'] = adata.obs.sex.cat.codes\n",
    "adata.obs['Level1_cod'] = adata.obs.Level1.cat.codes.astype(str)"
   ]
  },
  {
   "cell_type": "markdown",
   "id": "b0be110e-257c-4c59-8f3a-13b27717eee6",
   "metadata": {
    "papermill": {
     "duration": 0.003354,
     "end_time": "2024-05-28T21:54:07.194522",
     "exception": false,
     "start_time": "2024-05-28T21:54:07.191168",
     "status": "completed"
    },
    "tags": []
   },
   "source": [
    "#### Preparing scANVI training"
   ]
  },
  {
   "cell_type": "code",
   "execution_count": 8,
   "id": "f2113194-479e-4d84-b832-e92354d2e69b",
   "metadata": {
    "execution": {
     "iopub.execute_input": "2024-05-28T21:54:07.203089Z",
     "iopub.status.busy": "2024-05-28T21:54:07.202632Z",
     "iopub.status.idle": "2024-05-28T21:54:40.034259Z",
     "shell.execute_reply": "2024-05-28T21:54:40.033553Z"
    },
    "papermill": {
     "duration": 32.838475,
     "end_time": "2024-05-28T21:54:40.036507",
     "exception": false,
     "start_time": "2024-05-28T21:54:07.198032",
     "status": "completed"
    },
    "tags": []
   },
   "outputs": [
    {
     "name": "stdout",
     "output_type": "stream",
     "text": [
      "\u001b[34mINFO    \u001b[0m File                                                                                                      \n",
      "         \u001b[35m/home/jupyter/Inflammation-PBMCs-Atlas/03_downstream_analysis/04_integration_with_annotation/resu\u001b[0m\n",
      "         \u001b[35mlts/scVI_model_pretreined_noRBCnPlat/\u001b[0m\u001b[95mmodel.pt\u001b[0m already downloaded                                          \n"
     ]
    },
    {
     "name": "stderr",
     "output_type": "stream",
     "text": [
      "WARNING:jax._src.xla_bridge:An NVIDIA GPU may be present on this machine, but a CUDA-enabled jaxlib is not installed. Falling back to cpu.\n"
     ]
    }
   ],
   "source": [
    "scvi_model = sca.models.SCVI.load(here(f\"{workingDir}/results/scVI_model_pretreined_noRBCnPlat/\"), adata=adata) "
   ]
  },
  {
   "cell_type": "markdown",
   "id": "539a994a-0db7-423e-a6e1-d89b2a47bc2b",
   "metadata": {
    "papermill": {
     "duration": 0.003734,
     "end_time": "2024-05-28T21:54:40.044181",
     "exception": false,
     "start_time": "2024-05-28T21:54:40.040447",
     "status": "completed"
    },
    "tags": []
   },
   "source": [
    "### Fine tuning with scANVI"
   ]
  },
  {
   "cell_type": "markdown",
   "id": "d2d15b0d-ee7d-4e57-a26a-eea547cf6a70",
   "metadata": {
    "papermill": {
     "duration": 0.003497,
     "end_time": "2024-05-28T21:54:40.051203",
     "exception": false,
     "start_time": "2024-05-28T21:54:40.047706",
     "status": "completed"
    },
    "tags": []
   },
   "source": [
    "**Parameters**"
   ]
  },
  {
   "cell_type": "code",
   "execution_count": 9,
   "id": "46c3857c-4d48-4326-8255-d0a718813b67",
   "metadata": {
    "execution": {
     "iopub.execute_input": "2024-05-28T21:54:40.059600Z",
     "iopub.status.busy": "2024-05-28T21:54:40.059349Z",
     "iopub.status.idle": "2024-05-28T21:54:40.099758Z",
     "shell.execute_reply": "2024-05-28T21:54:40.099212Z"
    },
    "papermill": {
     "duration": 0.046653,
     "end_time": "2024-05-28T21:54:40.101408",
     "exception": false,
     "start_time": "2024-05-28T21:54:40.054755",
     "status": "completed"
    },
    "tags": []
   },
   "outputs": [],
   "source": [
    "scANVI_trainer_kwargs = dict(\n",
    "    n_samples_per_label = None,\n",
    "    check_val_every_n_epoch = None,\n",
    "    train_size = 0.8,\n",
    "    validation_size = 0.2,\n",
    "    shuffle_set_split = True,\n",
    "    checkpointing_monitor = 'elbo_validation',\n",
    "    early_stopping_monitor = 'reconstruction_loss_validation',\n",
    "    early_stopping_patience = 2,\n",
    "    early_stopping_min_delta=0.1,\n",
    "    early_stopping = True,\n",
    "    max_epochs = 1000,\n",
    ")\n",
    "# https://docs.scvi-tools.org/en/stable/api/reference/scvi.train.TrainingPlan.html#scvi.train.TrainingPlan\n",
    "plan_kwargs = dict(\n",
    "    lr = 5e-5,\n",
    "    #reduce_lr_on_plateau = True\n",
    ")\n",
    "datasplitter_kwargs = dict(pin_memory=False)\n",
    "scanvi_parameter_dict = scANVI_trainer_kwargs | plan_kwargs | datasplitter_kwargs"
   ]
  },
  {
   "cell_type": "code",
   "execution_count": 10,
   "id": "bf6c42eb-cbe2-4fe4-a495-fa1146bc9dbb",
   "metadata": {
    "execution": {
     "iopub.execute_input": "2024-05-28T21:54:40.109875Z",
     "iopub.status.busy": "2024-05-28T21:54:40.109428Z",
     "iopub.status.idle": "2024-05-28T21:54:40.147981Z",
     "shell.execute_reply": "2024-05-28T21:54:40.147452Z"
    },
    "papermill": {
     "duration": 0.044583,
     "end_time": "2024-05-28T21:54:40.149500",
     "exception": false,
     "start_time": "2024-05-28T21:54:40.104917",
     "status": "completed"
    },
    "tags": []
   },
   "outputs": [
    {
     "data": {
      "text/plain": [
       "'MAINobj_scANVI_fineTuning_lowLR_noRBCnPlat'"
      ]
     },
     "execution_count": 10,
     "metadata": {},
     "output_type": "execute_result"
    }
   ],
   "source": [
    "run_name = f\"MAINobj_scANVI_fineTuning_lowLR_noRBCnPlat\"\n",
    "run_name"
   ]
  },
  {
   "cell_type": "code",
   "execution_count": 11,
   "id": "37bd7e04-22e9-457e-8090-24373f4b999f",
   "metadata": {
    "execution": {
     "iopub.execute_input": "2024-05-28T21:54:40.158477Z",
     "iopub.status.busy": "2024-05-28T21:54:40.158027Z",
     "iopub.status.idle": "2024-05-28T21:55:07.569567Z",
     "shell.execute_reply": "2024-05-28T21:55:07.568878Z"
    },
    "papermill": {
     "duration": 27.41769,
     "end_time": "2024-05-28T21:55:07.571093",
     "exception": false,
     "start_time": "2024-05-28T21:54:40.153403",
     "status": "completed"
    },
    "tags": []
   },
   "outputs": [
    {
     "data": {
      "text/html": [
       "<pre style=\"white-space:pre;overflow-x:auto;line-height:normal;font-family:Menlo,'DejaVu Sans Mono',consolas,'Courier New',monospace\">ScanVI Model with the following params: \n",
       "unlabeled_category: unknown, n_hidden: <span style=\"color: #008080; text-decoration-color: #008080; font-weight: bold\">256</span>, n_latent: <span style=\"color: #008080; text-decoration-color: #008080; font-weight: bold\">30</span>, n_layers: <span style=\"color: #008080; text-decoration-color: #008080; font-weight: bold\">4</span>, dropout_rate: <span style=\"color: #008080; text-decoration-color: #008080; font-weight: bold\">0.1</span>, dispersion: gene-batch, \n",
       "gene_likelihood: nb\n",
       "Training status: Not Trained\n",
       "Model's adata is minified?: <span style=\"color: #ff0000; text-decoration-color: #ff0000; font-style: italic\">False</span>\n",
       "</pre>\n"
      ],
      "text/plain": [
       "ScanVI Model with the following params: \n",
       "unlabeled_category: unknown, n_hidden: \u001b[1;36m256\u001b[0m, n_latent: \u001b[1;36m30\u001b[0m, n_layers: \u001b[1;36m4\u001b[0m, dropout_rate: \u001b[1;36m0.1\u001b[0m, dispersion: gene-batch, \n",
       "gene_likelihood: nb\n",
       "Training status: Not Trained\n",
       "Model's adata is minified?: \u001b[3;91mFalse\u001b[0m\n"
      ]
     },
     "metadata": {},
     "output_type": "display_data"
    },
    {
     "data": {
      "text/plain": []
     },
     "execution_count": 11,
     "metadata": {},
     "output_type": "execute_result"
    }
   ],
   "source": [
    "scanvi_model = sca.models.SCANVI.from_scvi_model(scvi_model, unlabeled_category = \"unknown\")\n",
    "scanvi_model"
   ]
  },
  {
   "cell_type": "code",
   "execution_count": 12,
   "id": "68d49d42-ac94-4b26-bf21-f5e836b4d635",
   "metadata": {
    "execution": {
     "iopub.execute_input": "2024-05-28T21:55:07.580622Z",
     "iopub.status.busy": "2024-05-28T21:55:07.580368Z",
     "iopub.status.idle": "2024-05-28T21:55:07.671521Z",
     "shell.execute_reply": "2024-05-28T21:55:07.670953Z"
    },
    "papermill": {
     "duration": 0.097781,
     "end_time": "2024-05-28T21:55:07.673224",
     "exception": false,
     "start_time": "2024-05-28T21:55:07.575443",
     "status": "completed"
    },
    "tags": []
   },
   "outputs": [],
   "source": [
    "logger = CustomWandbLogger(name = run_name, project='inflammation_atlas_R1_scANVI', config = scanvi_parameter_dict)"
   ]
  },
  {
   "cell_type": "code",
   "execution_count": 13,
   "id": "67eb4c1e-6dff-44f6-a903-ffbd52c36de3",
   "metadata": {
    "execution": {
     "iopub.execute_input": "2024-05-28T21:55:07.682943Z",
     "iopub.status.busy": "2024-05-28T21:55:07.682480Z",
     "iopub.status.idle": "2024-05-28T21:55:07.720933Z",
     "shell.execute_reply": "2024-05-28T21:55:07.720361Z"
    },
    "papermill": {
     "duration": 0.044969,
     "end_time": "2024-05-28T21:55:07.722594",
     "exception": false,
     "start_time": "2024-05-28T21:55:07.677625",
     "status": "completed"
    },
    "tags": []
   },
   "outputs": [],
   "source": [
    "model_checkpoint = ModelCheckpoint(monitor='elbo_validation', every_n_epochs=1, save_last=True, save_top_k = -1, \n",
    "                                   dirpath=f\"{workingDir}/results/scANVI_model_fineTuned_lowLR_noRBCnPlat_checkpoints/\")"
   ]
  },
  {
   "cell_type": "code",
   "execution_count": 14,
   "id": "0bc99a87-25c5-4a84-b39d-213c62a45049",
   "metadata": {
    "execution": {
     "iopub.execute_input": "2024-05-28T21:55:07.732001Z",
     "iopub.status.busy": "2024-05-28T21:55:07.731549Z",
     "iopub.status.idle": "2024-05-29T04:26:11.627496Z",
     "shell.execute_reply": "2024-05-29T04:26:11.626678Z"
    },
    "papermill": {
     "duration": 23463.903164,
     "end_time": "2024-05-29T04:26:11.629774",
     "exception": false,
     "start_time": "2024-05-28T21:55:07.726610",
     "status": "completed"
    },
    "tags": []
   },
   "outputs": [
    {
     "name": "stdout",
     "output_type": "stream",
     "text": [
      "\u001b[34mINFO    \u001b[0m Training for \u001b[1;36m1000\u001b[0m epochs.                                                                                 \n"
     ]
    },
    {
     "name": "stderr",
     "output_type": "stream",
     "text": [
      "INFO: GPU available: True (cuda), used: True\n"
     ]
    },
    {
     "name": "stderr",
     "output_type": "stream",
     "text": [
      "INFO:lightning.pytorch.utilities.rank_zero:GPU available: True (cuda), used: True\n"
     ]
    },
    {
     "name": "stderr",
     "output_type": "stream",
     "text": [
      "INFO: TPU available: False, using: 0 TPU cores\n"
     ]
    },
    {
     "name": "stderr",
     "output_type": "stream",
     "text": [
      "INFO:lightning.pytorch.utilities.rank_zero:TPU available: False, using: 0 TPU cores\n"
     ]
    },
    {
     "name": "stderr",
     "output_type": "stream",
     "text": [
      "INFO: IPU available: False, using: 0 IPUs\n"
     ]
    },
    {
     "name": "stderr",
     "output_type": "stream",
     "text": [
      "INFO:lightning.pytorch.utilities.rank_zero:IPU available: False, using: 0 IPUs\n"
     ]
    },
    {
     "name": "stderr",
     "output_type": "stream",
     "text": [
      "INFO: HPU available: False, using: 0 HPUs\n"
     ]
    },
    {
     "name": "stderr",
     "output_type": "stream",
     "text": [
      "INFO:lightning.pytorch.utilities.rank_zero:HPU available: False, using: 0 HPUs\n"
     ]
    },
    {
     "name": "stderr",
     "output_type": "stream",
     "text": [
      "\u001b[34m\u001b[1mwandb\u001b[0m: Currently logged in as: \u001b[33mdav1989\u001b[0m (\u001b[33minflammation\u001b[0m). Use \u001b[1m`wandb login --relogin`\u001b[0m to force relogin\n"
     ]
    },
    {
     "name": "stderr",
     "output_type": "stream",
     "text": [
      "\u001b[34m\u001b[1mwandb\u001b[0m: wandb version 0.17.0 is available!  To upgrade, please run:\n",
      "\u001b[34m\u001b[1mwandb\u001b[0m:  $ pip install wandb --upgrade\n"
     ]
    },
    {
     "name": "stderr",
     "output_type": "stream",
     "text": [
      "\u001b[34m\u001b[1mwandb\u001b[0m: Tracking run with wandb version 0.16.5\n"
     ]
    },
    {
     "name": "stderr",
     "output_type": "stream",
     "text": [
      "\u001b[34m\u001b[1mwandb\u001b[0m: Run data is saved locally in \u001b[35m\u001b[1m./wandb/run-20240528_215509-ye7pjj32\u001b[0m\n",
      "\u001b[34m\u001b[1mwandb\u001b[0m: Run \u001b[1m`wandb offline`\u001b[0m to turn off syncing.\n"
     ]
    },
    {
     "name": "stderr",
     "output_type": "stream",
     "text": [
      "\u001b[34m\u001b[1mwandb\u001b[0m: Syncing run \u001b[33mMAINobj_scANVI_fineTuning_lowLR_noRBCnPlat\u001b[0m\n"
     ]
    },
    {
     "name": "stderr",
     "output_type": "stream",
     "text": [
      "\u001b[34m\u001b[1mwandb\u001b[0m: ⭐️ View project at \u001b[34m\u001b[4mhttps://wandb.ai/inflammation/inflammation_atlas_R1_scANVI\u001b[0m\n"
     ]
    },
    {
     "name": "stderr",
     "output_type": "stream",
     "text": [
      "\u001b[34m\u001b[1mwandb\u001b[0m: 🚀 View run at \u001b[34m\u001b[4mhttps://wandb.ai/inflammation/inflammation_atlas_R1_scANVI/runs/ye7pjj32/workspace\u001b[0m\n"
     ]
    },
    {
     "name": "stderr",
     "output_type": "stream",
     "text": [
      "INFO: LOCAL_RANK: 0 - CUDA_VISIBLE_DEVICES: [0]\n"
     ]
    },
    {
     "name": "stderr",
     "output_type": "stream",
     "text": [
      "INFO:lightning.pytorch.accelerators.cuda:LOCAL_RANK: 0 - CUDA_VISIBLE_DEVICES: [0]\n"
     ]
    },
    {
     "name": "stdout",
     "output_type": "stream",
     "text": [
      "\r",
      "Training:   0%|                                                                                                                                  | 0/1000 [00:00<?, ?it/s]"
     ]
    },
    {
     "name": "stdout",
     "output_type": "stream",
     "text": [
      "\r",
      "Epoch 1/1000:   0%|                                                                                                                              | 0/1000 [00:00<?, ?it/s]"
     ]
    },
    {
     "name": "stdout",
     "output_type": "stream",
     "text": [
      "\r",
      "Epoch 1/1000:   0%|                                                                                                                | 1/1000 [26:33<442:14:11, 1593.65s/it]"
     ]
    },
    {
     "name": "stdout",
     "output_type": "stream",
     "text": [
      "\r",
      "Epoch 1/1000:   0%|                                                  | 1/1000 [26:33<442:14:11, 1593.65s/it, v_num=jj32, train_loss_step=1.79e+3, train_loss_epoch=1892.5]"
     ]
    },
    {
     "name": "stdout",
     "output_type": "stream",
     "text": [
      "\r",
      "Epoch 2/1000:   0%|                                                  | 1/1000 [26:34<442:14:11, 1593.65s/it, v_num=jj32, train_loss_step=1.79e+3, train_loss_epoch=1892.5]"
     ]
    },
    {
     "name": "stdout",
     "output_type": "stream",
     "text": [
      "\r",
      "Epoch 2/1000:   0%|                                                  | 2/1000 [50:21<414:48:25, 1496.30s/it, v_num=jj32, train_loss_step=1.79e+3, train_loss_epoch=1892.5]"
     ]
    },
    {
     "name": "stdout",
     "output_type": "stream",
     "text": [
      "\r",
      "Epoch 2/1000:   0%|                                                 | 2/1000 [50:21<414:48:25, 1496.30s/it, v_num=jj32, train_loss_step=1.95e+3, train_loss_epoch=1.88e+3]"
     ]
    },
    {
     "name": "stdout",
     "output_type": "stream",
     "text": [
      "\r",
      "Epoch 3/1000:   0%|                                                 | 2/1000 [50:22<414:48:25, 1496.30s/it, v_num=jj32, train_loss_step=1.95e+3, train_loss_epoch=1.88e+3]"
     ]
    },
    {
     "name": "stdout",
     "output_type": "stream",
     "text": [
      "\r",
      "Epoch 3/1000:   0%|▏                                              | 3/1000 [1:14:10<405:50:57, 1465.45s/it, v_num=jj32, train_loss_step=1.95e+3, train_loss_epoch=1.88e+3]"
     ]
    },
    {
     "name": "stdout",
     "output_type": "stream",
     "text": [
      "\r",
      "Epoch 3/1000:   0%|▏                                              | 3/1000 [1:14:10<405:50:57, 1465.45s/it, v_num=jj32, train_loss_step=1.86e+3, train_loss_epoch=1.88e+3]"
     ]
    },
    {
     "name": "stdout",
     "output_type": "stream",
     "text": [
      "\r",
      "Epoch 4/1000:   0%|▏                                              | 3/1000 [1:14:11<405:50:57, 1465.45s/it, v_num=jj32, train_loss_step=1.86e+3, train_loss_epoch=1.88e+3]"
     ]
    },
    {
     "name": "stdout",
     "output_type": "stream",
     "text": [
      "\r",
      "Epoch 4/1000:   0%|▏                                              | 4/1000 [1:37:56<401:05:24, 1449.72s/it, v_num=jj32, train_loss_step=1.86e+3, train_loss_epoch=1.88e+3]"
     ]
    },
    {
     "name": "stdout",
     "output_type": "stream",
     "text": [
      "\r",
      "Epoch 4/1000:   0%|▏                                               | 4/1000 [1:37:56<401:05:24, 1449.72s/it, v_num=jj32, train_loss_step=1.9e+3, train_loss_epoch=1.88e+3]"
     ]
    },
    {
     "name": "stdout",
     "output_type": "stream",
     "text": [
      "\r",
      "Epoch 5/1000:   0%|▏                                               | 4/1000 [1:37:57<401:05:24, 1449.72s/it, v_num=jj32, train_loss_step=1.9e+3, train_loss_epoch=1.88e+3]"
     ]
    },
    {
     "name": "stdout",
     "output_type": "stream",
     "text": [
      "\r",
      "Epoch 5/1000:   0%|▏                                               | 5/1000 [2:01:39<398:04:42, 1440.28s/it, v_num=jj32, train_loss_step=1.9e+3, train_loss_epoch=1.88e+3]"
     ]
    },
    {
     "name": "stdout",
     "output_type": "stream",
     "text": [
      "\r",
      "Epoch 5/1000:   0%|▏                                              | 5/1000 [2:01:39<398:04:42, 1440.28s/it, v_num=jj32, train_loss_step=1.87e+3, train_loss_epoch=1.88e+3]"
     ]
    },
    {
     "name": "stdout",
     "output_type": "stream",
     "text": [
      "\r",
      "Epoch 6/1000:   0%|▏                                              | 5/1000 [2:01:40<398:04:42, 1440.28s/it, v_num=jj32, train_loss_step=1.87e+3, train_loss_epoch=1.88e+3]"
     ]
    },
    {
     "name": "stdout",
     "output_type": "stream",
     "text": [
      "\r",
      "Epoch 6/1000:   1%|▎                                              | 6/1000 [2:25:37<397:25:51, 1439.39s/it, v_num=jj32, train_loss_step=1.87e+3, train_loss_epoch=1.88e+3]"
     ]
    },
    {
     "name": "stdout",
     "output_type": "stream",
     "text": [
      "\r",
      "Epoch 6/1000:   1%|▎                                              | 6/1000 [2:25:37<397:25:51, 1439.39s/it, v_num=jj32, train_loss_step=1.88e+3, train_loss_epoch=1.88e+3]"
     ]
    },
    {
     "name": "stdout",
     "output_type": "stream",
     "text": [
      "\r",
      "Epoch 7/1000:   1%|▎                                              | 6/1000 [2:25:38<397:25:51, 1439.39s/it, v_num=jj32, train_loss_step=1.88e+3, train_loss_epoch=1.88e+3]"
     ]
    },
    {
     "name": "stdout",
     "output_type": "stream",
     "text": [
      "\r",
      "Epoch 7/1000:   1%|▎                                              | 7/1000 [2:49:24<395:56:00, 1435.41s/it, v_num=jj32, train_loss_step=1.88e+3, train_loss_epoch=1.88e+3]"
     ]
    },
    {
     "name": "stdout",
     "output_type": "stream",
     "text": [
      "\r",
      "Epoch 7/1000:   1%|▎                                              | 7/1000 [2:49:24<395:56:00, 1435.41s/it, v_num=jj32, train_loss_step=1.84e+3, train_loss_epoch=1.88e+3]"
     ]
    },
    {
     "name": "stdout",
     "output_type": "stream",
     "text": [
      "\r",
      "Epoch 8/1000:   1%|▎                                              | 7/1000 [2:49:25<395:56:00, 1435.41s/it, v_num=jj32, train_loss_step=1.84e+3, train_loss_epoch=1.88e+3]"
     ]
    },
    {
     "name": "stdout",
     "output_type": "stream",
     "text": [
      "\r",
      "Epoch 8/1000:   1%|▍                                              | 8/1000 [3:13:20<395:36:01, 1435.65s/it, v_num=jj32, train_loss_step=1.84e+3, train_loss_epoch=1.88e+3]"
     ]
    },
    {
     "name": "stdout",
     "output_type": "stream",
     "text": [
      "\r",
      "Epoch 8/1000:   1%|▍                                              | 8/1000 [3:13:20<395:36:01, 1435.65s/it, v_num=jj32, train_loss_step=1.84e+3, train_loss_epoch=1.88e+3]"
     ]
    },
    {
     "name": "stdout",
     "output_type": "stream",
     "text": [
      "\r",
      "Epoch 9/1000:   1%|▍                                              | 8/1000 [3:13:21<395:36:01, 1435.65s/it, v_num=jj32, train_loss_step=1.84e+3, train_loss_epoch=1.88e+3]"
     ]
    },
    {
     "name": "stdout",
     "output_type": "stream",
     "text": [
      "\r",
      "Epoch 9/1000:   1%|▍                                              | 9/1000 [3:37:16<395:13:05, 1435.71s/it, v_num=jj32, train_loss_step=1.84e+3, train_loss_epoch=1.88e+3]"
     ]
    },
    {
     "name": "stdout",
     "output_type": "stream",
     "text": [
      "\r",
      "Epoch 9/1000:   1%|▍                                              | 9/1000 [3:37:16<395:13:05, 1435.71s/it, v_num=jj32, train_loss_step=1.85e+3, train_loss_epoch=1.88e+3]"
     ]
    },
    {
     "name": "stdout",
     "output_type": "stream",
     "text": [
      "\r",
      "Epoch 10/1000:   1%|▍                                             | 9/1000 [3:37:17<395:13:05, 1435.71s/it, v_num=jj32, train_loss_step=1.85e+3, train_loss_epoch=1.88e+3]"
     ]
    },
    {
     "name": "stdout",
     "output_type": "stream",
     "text": [
      "\r",
      "Epoch 10/1000:   1%|▍                                            | 10/1000 [4:01:19<395:24:53, 1437.87s/it, v_num=jj32, train_loss_step=1.85e+3, train_loss_epoch=1.88e+3]"
     ]
    },
    {
     "name": "stdout",
     "output_type": "stream",
     "text": [
      "\r",
      "Epoch 10/1000:   1%|▍                                            | 10/1000 [4:01:19<395:24:53, 1437.87s/it, v_num=jj32, train_loss_step=1.98e+3, train_loss_epoch=1.88e+3]"
     ]
    },
    {
     "name": "stdout",
     "output_type": "stream",
     "text": [
      "\r",
      "Epoch 11/1000:   1%|▍                                            | 10/1000 [4:01:20<395:24:53, 1437.87s/it, v_num=jj32, train_loss_step=1.98e+3, train_loss_epoch=1.88e+3]"
     ]
    },
    {
     "name": "stdout",
     "output_type": "stream",
     "text": [
      "\r",
      "Epoch 11/1000:   1%|▍                                            | 11/1000 [4:25:18<395:05:32, 1438.15s/it, v_num=jj32, train_loss_step=1.98e+3, train_loss_epoch=1.88e+3]"
     ]
    },
    {
     "name": "stdout",
     "output_type": "stream",
     "text": [
      "\r",
      "Epoch 11/1000:   1%|▍                                            | 11/1000 [4:25:18<395:05:32, 1438.15s/it, v_num=jj32, train_loss_step=1.75e+3, train_loss_epoch=1.88e+3]"
     ]
    },
    {
     "name": "stdout",
     "output_type": "stream",
     "text": [
      "\r",
      "Epoch 12/1000:   1%|▍                                            | 11/1000 [4:25:18<395:05:32, 1438.15s/it, v_num=jj32, train_loss_step=1.75e+3, train_loss_epoch=1.88e+3]"
     ]
    },
    {
     "name": "stdout",
     "output_type": "stream",
     "text": [
      "\r",
      "Epoch 12/1000:   1%|▌                                            | 12/1000 [4:49:17<394:48:13, 1438.56s/it, v_num=jj32, train_loss_step=1.75e+3, train_loss_epoch=1.88e+3]"
     ]
    },
    {
     "name": "stdout",
     "output_type": "stream",
     "text": [
      "\r",
      "Epoch 12/1000:   1%|▌                                            | 12/1000 [4:49:17<394:48:13, 1438.56s/it, v_num=jj32, train_loss_step=1.95e+3, train_loss_epoch=1.88e+3]"
     ]
    },
    {
     "name": "stdout",
     "output_type": "stream",
     "text": [
      "\r",
      "Epoch 13/1000:   1%|▌                                            | 12/1000 [4:49:18<394:48:13, 1438.56s/it, v_num=jj32, train_loss_step=1.95e+3, train_loss_epoch=1.88e+3]"
     ]
    },
    {
     "name": "stdout",
     "output_type": "stream",
     "text": [
      "\r",
      "Epoch 13/1000:   1%|▌                                            | 13/1000 [5:13:02<393:16:32, 1434.44s/it, v_num=jj32, train_loss_step=1.95e+3, train_loss_epoch=1.88e+3]"
     ]
    },
    {
     "name": "stdout",
     "output_type": "stream",
     "text": [
      "\r",
      "Epoch 13/1000:   1%|▌                                            | 13/1000 [5:13:02<393:16:32, 1434.44s/it, v_num=jj32, train_loss_step=1.85e+3, train_loss_epoch=1.88e+3]"
     ]
    },
    {
     "name": "stdout",
     "output_type": "stream",
     "text": [
      "\r",
      "Epoch 14/1000:   1%|▌                                            | 13/1000 [5:13:03<393:16:32, 1434.44s/it, v_num=jj32, train_loss_step=1.85e+3, train_loss_epoch=1.88e+3]"
     ]
    },
    {
     "name": "stdout",
     "output_type": "stream",
     "text": [
      "\r",
      "Epoch 14/1000:   1%|▋                                            | 14/1000 [5:37:02<393:18:40, 1436.02s/it, v_num=jj32, train_loss_step=1.85e+3, train_loss_epoch=1.88e+3]"
     ]
    },
    {
     "name": "stdout",
     "output_type": "stream",
     "text": [
      "\r",
      "Epoch 14/1000:   1%|▋                                            | 14/1000 [5:37:02<393:18:40, 1436.02s/it, v_num=jj32, train_loss_step=1.88e+3, train_loss_epoch=1.88e+3]"
     ]
    },
    {
     "name": "stdout",
     "output_type": "stream",
     "text": [
      "\r",
      "Epoch 15/1000:   1%|▋                                            | 14/1000 [5:37:02<393:18:40, 1436.02s/it, v_num=jj32, train_loss_step=1.88e+3, train_loss_epoch=1.88e+3]"
     ]
    },
    {
     "name": "stdout",
     "output_type": "stream",
     "text": [
      "\r",
      "Epoch 15/1000:   2%|▋                                            | 15/1000 [6:01:16<394:23:52, 1441.45s/it, v_num=jj32, train_loss_step=1.88e+3, train_loss_epoch=1.88e+3]"
     ]
    },
    {
     "name": "stdout",
     "output_type": "stream",
     "text": [
      "\r",
      "Epoch 15/1000:   2%|▋                                            | 15/1000 [6:01:16<394:23:52, 1441.45s/it, v_num=jj32, train_loss_step=1.78e+3, train_loss_epoch=1.88e+3]"
     ]
    },
    {
     "name": "stdout",
     "output_type": "stream",
     "text": [
      "\r",
      "Epoch 16/1000:   2%|▋                                            | 15/1000 [6:01:17<394:23:52, 1441.45s/it, v_num=jj32, train_loss_step=1.78e+3, train_loss_epoch=1.88e+3]"
     ]
    },
    {
     "name": "stdout",
     "output_type": "stream",
     "text": [
      "\r",
      "Epoch 16/1000:   2%|▋                                            | 16/1000 [6:25:29<394:56:18, 1444.90s/it, v_num=jj32, train_loss_step=1.78e+3, train_loss_epoch=1.88e+3]"
     ]
    },
    {
     "name": "stdout",
     "output_type": "stream",
     "text": [
      "\r",
      "Epoch 16/1000:   2%|▋                                            | 16/1000 [6:25:29<394:56:18, 1444.90s/it, v_num=jj32, train_loss_step=1.94e+3, train_loss_epoch=1.88e+3]"
     ]
    },
    {
     "name": "stdout",
     "output_type": "stream",
     "text": [
      "\r",
      "Epoch 16/1000:   2%|▋                                            | 16/1000 [6:25:29<395:08:10, 1445.62s/it, v_num=jj32, train_loss_step=1.94e+3, train_loss_epoch=1.88e+3]"
     ]
    },
    {
     "name": "stdout",
     "output_type": "stream",
     "text": [
      "\n"
     ]
    },
    {
     "name": "stdout",
     "output_type": "stream",
     "text": [
      "Monitored metric reconstruction_loss_validation did not improve in the last 2 records. Best score: 1855.179. Signaling Trainer to stop.\n"
     ]
    }
   ],
   "source": [
    "try:\n",
    "    scanvi_model.train(logger=logger, plan_kwargs = plan_kwargs, datasplitter_kwargs=datasplitter_kwargs, \n",
    "                       enable_checkpointing=True, callbacks=[model_checkpoint], \n",
    "                       **scANVI_trainer_kwargs) #SAME parameter as scVI\n",
    "    scanvi_model.save(here(f\"{workingDir}/results/scANVI_model_fineTuned_lowLR_noRBCnPlat/\"),\n",
    "               overwrite = True, \n",
    "               save_anndata = False)\n",
    "    scanvi_emb = scanvi_model.get_latent_representation(adata=adata)\n",
    "    np.savez_compressed(file = str(here(f\"{workingDir}/results/scANVI_model_fineTuned_lowLR_noRBCnPlat/scANVI_embedding.npz\")), arr=scanvi_emb)\n",
    "    \n",
    "except Exception as e:\n",
    "    print(f\"An error occurred: {e}\")\n",
    "    scanvi_model.save(here(f\"{workingDir}/results/scANVI_model_fineTuned_lowLR_noRBCnPlat_WITHERRORS/\"), \n",
    "                      overwrite=True, \n",
    "                      save_anndata=False)"
   ]
  },
  {
   "cell_type": "code",
   "execution_count": 15,
   "id": "86e8d70c-7314-410b-a2ab-e25eb3a4ad7c",
   "metadata": {
    "execution": {
     "iopub.execute_input": "2024-05-29T04:26:11.646083Z",
     "iopub.status.busy": "2024-05-29T04:26:11.645761Z",
     "iopub.status.idle": "2024-05-29T04:26:15.247428Z",
     "shell.execute_reply": "2024-05-29T04:26:15.246833Z"
    },
    "papermill": {
     "duration": 3.611991,
     "end_time": "2024-05-29T04:26:15.249266",
     "exception": false,
     "start_time": "2024-05-29T04:26:11.637275",
     "status": "completed"
    },
    "scrolled": true,
    "tags": []
   },
   "outputs": [
    {
     "name": "stderr",
     "output_type": "stream",
     "text": [
      "\u001b[34m\u001b[1mwandb\u001b[0m: - 0.004 MB of 0.004 MB uploaded\r"
     ]
    },
    {
     "name": "stderr",
     "output_type": "stream",
     "text": [
      "\u001b[34m\u001b[1mwandb\u001b[0m: \\ 0.004 MB of 0.004 MB uploaded\r"
     ]
    },
    {
     "name": "stderr",
     "output_type": "stream",
     "text": [
      "\u001b[34m\u001b[1mwandb\u001b[0m: | 0.012 MB of 0.012 MB uploaded\r"
     ]
    },
    {
     "name": "stderr",
     "output_type": "stream",
     "text": [
      "\u001b[34m\u001b[1mwandb\u001b[0m:                                                                                \n"
     ]
    },
    {
     "name": "stderr",
     "output_type": "stream",
     "text": [
      "\u001b[34m\u001b[1mwandb\u001b[0m: \n",
      "\u001b[34m\u001b[1mwandb\u001b[0m: Run history:\n",
      "\u001b[34m\u001b[1mwandb\u001b[0m:                     elbo_train ██▇▆▅▄▄▃▃▂▂▂▁▁▁▁\n",
      "\u001b[34m\u001b[1mwandb\u001b[0m:                elbo_validation █▇▆▅▄▄▃▃▂▂▂▂▁▁▁▁\n",
      "\u001b[34m\u001b[1mwandb\u001b[0m:                          epoch ▁▁▁▁▁▂▂▂▂▂▃▃▃▃▃▄▄▄▄▄▅▅▅▅▅▆▆▆▆▆▇▇▇▇▇█████\n",
      "\u001b[34m\u001b[1mwandb\u001b[0m:                kl_global_train ▁▁▁▁▁▁▁▁▁▁▁▁▁▁▁▁\n",
      "\u001b[34m\u001b[1mwandb\u001b[0m:           kl_global_validation ▁▁▁▁▁▁▁▁▁▁▁▁▁▁▁▁\n",
      "\u001b[34m\u001b[1mwandb\u001b[0m:                 kl_local_train ▇█▇▆▅▄▄▃▃▂▂▂▁▁▁▁\n",
      "\u001b[34m\u001b[1mwandb\u001b[0m:            kl_local_validation █▇▆▅▄▄▃▃▃▂▂▂▁▁▁▁\n",
      "\u001b[34m\u001b[1mwandb\u001b[0m:      reconstruction_loss_train █▄▃▃▂▂▂▂▂▁▁▁▁▁▁▁\n",
      "\u001b[34m\u001b[1mwandb\u001b[0m: reconstruction_loss_validation █▆▅▄▄▃▂▂▂▂▂▁▁▁▁▁\n",
      "\u001b[34m\u001b[1mwandb\u001b[0m:                 train_accuracy ▁▅▅▆▆▇▇▇▇▇▇█████\n",
      "\u001b[34m\u001b[1mwandb\u001b[0m:        train_calibration_error █▄▃▂▂▂▂▂▂▂▁▁▁▁▁▁\n",
      "\u001b[34m\u001b[1mwandb\u001b[0m:      train_classification_loss █▄▃▃▃▂▂▂▂▂▂▁▁▁▁▁\n",
      "\u001b[34m\u001b[1mwandb\u001b[0m:                 train_f1_score ▁▅▅▆▆▇▇▇▇▇▇█████\n",
      "\u001b[34m\u001b[1mwandb\u001b[0m:               train_loss_epoch █▃▃▂▂▂▁▁▁▁▁▁▁▁▁▁\n",
      "\u001b[34m\u001b[1mwandb\u001b[0m:                train_loss_step ▃▅▅▄▄▂▃██▅▆▄▄▄▃▆▅▃▆▁▂█▁▅▅▅▄▆▆▅█▄▄▅▂▆▃▅▆▆\n",
      "\u001b[34m\u001b[1mwandb\u001b[0m:            trainer/global_step ▁▁▁▂▂▂▂▂▂▃▃▃▃▃▃▄▄▄▄▄▅▅▅▅▅▅▆▆▆▆▆▇▇▇▇▇▇███\n",
      "\u001b[34m\u001b[1mwandb\u001b[0m:            validation_accuracy ▁▅▆▇▇██▇▇▆▄▆▄▄▃▂\n",
      "\u001b[34m\u001b[1mwandb\u001b[0m:   validation_calibration_error █▅▃▃▂▂▄▃▁▄▂▃▄▃▃▆\n",
      "\u001b[34m\u001b[1mwandb\u001b[0m: validation_classification_loss █▄▃▂▂▁▁▂▂▂▅▃▄▄▆▆\n",
      "\u001b[34m\u001b[1mwandb\u001b[0m:            validation_f1_score ▁▅▆▇▇██▇▇▆▄▆▄▄▃▂\n",
      "\u001b[34m\u001b[1mwandb\u001b[0m:                validation_loss █▅▄▃▃▂▁▁▁▁▁▁▁▁▂▂\n",
      "\u001b[34m\u001b[1mwandb\u001b[0m: \n",
      "\u001b[34m\u001b[1mwandb\u001b[0m: Run summary:\n",
      "\u001b[34m\u001b[1mwandb\u001b[0m:                     elbo_train 1937.38098\n",
      "\u001b[34m\u001b[1mwandb\u001b[0m:                elbo_validation 1923.06519\n",
      "\u001b[34m\u001b[1mwandb\u001b[0m:                          epoch 15\n",
      "\u001b[34m\u001b[1mwandb\u001b[0m:                kl_global_train 0.0\n",
      "\u001b[34m\u001b[1mwandb\u001b[0m:           kl_global_validation 0.0\n",
      "\u001b[34m\u001b[1mwandb\u001b[0m:                 kl_local_train 69.36806\n",
      "\u001b[34m\u001b[1mwandb\u001b[0m:            kl_local_validation 67.76058\n",
      "\u001b[34m\u001b[1mwandb\u001b[0m:      reconstruction_loss_train 1868.01294\n",
      "\u001b[34m\u001b[1mwandb\u001b[0m: reconstruction_loss_validation 1855.30457\n",
      "\u001b[34m\u001b[1mwandb\u001b[0m:                 train_accuracy 0.95174\n",
      "\u001b[34m\u001b[1mwandb\u001b[0m:        train_calibration_error 0.03732\n",
      "\u001b[34m\u001b[1mwandb\u001b[0m:      train_classification_loss 0.13424\n",
      "\u001b[34m\u001b[1mwandb\u001b[0m:                 train_f1_score 0.95174\n",
      "\u001b[34m\u001b[1mwandb\u001b[0m:               train_loss_epoch 1877.32739\n",
      "\u001b[34m\u001b[1mwandb\u001b[0m:                train_loss_step 1906.72034\n",
      "\u001b[34m\u001b[1mwandb\u001b[0m:            trainer/global_step 427935\n",
      "\u001b[34m\u001b[1mwandb\u001b[0m:            validation_accuracy 0.94752\n",
      "\u001b[34m\u001b[1mwandb\u001b[0m:   validation_calibration_error 0.03474\n",
      "\u001b[34m\u001b[1mwandb\u001b[0m: validation_classification_loss 0.14496\n",
      "\u001b[34m\u001b[1mwandb\u001b[0m:            validation_f1_score 0.94752\n",
      "\u001b[34m\u001b[1mwandb\u001b[0m:                validation_loss 1865.09192\n",
      "\u001b[34m\u001b[1mwandb\u001b[0m: \n"
     ]
    },
    {
     "name": "stderr",
     "output_type": "stream",
     "text": [
      "\u001b[34m\u001b[1mwandb\u001b[0m: 🚀 View run \u001b[33mMAINobj_scANVI_fineTuning_lowLR_noRBCnPlat\u001b[0m at: \u001b[34m\u001b[4mhttps://wandb.ai/inflammation/inflammation_atlas_R1_scANVI/runs/ye7pjj32/workspace\u001b[0m\n",
      "\u001b[34m\u001b[1mwandb\u001b[0m: Synced 5 W&B file(s), 0 media file(s), 0 artifact file(s) and 0 other file(s)\n"
     ]
    },
    {
     "name": "stderr",
     "output_type": "stream",
     "text": [
      "\u001b[34m\u001b[1mwandb\u001b[0m: Find logs at: \u001b[35m\u001b[1m./wandb/run-20240528_215509-ye7pjj32/logs\u001b[0m\n"
     ]
    }
   ],
   "source": [
    "wandb.finish()"
   ]
  },
  {
   "cell_type": "raw",
   "id": "7e8ba1c8-3040-4356-a1b2-17b4a4fdf667",
   "metadata": {
    "papermill": {
     "duration": 0.007546,
     "end_time": "2024-05-29T04:26:15.264866",
     "exception": false,
     "start_time": "2024-05-29T04:26:15.257320",
     "status": "completed"
    },
    "tags": []
   },
   "source": [
    "if overwriteData:\n",
    "    scanvi_model.save(here(f\"{workingDir}/results/scANVI_model_pretreined_noRBCnPlat/\"),\n",
    "               overwrite = True, \n",
    "               save_anndata = False)"
   ]
  },
  {
   "cell_type": "raw",
   "id": "d7fe03de-261c-4c98-8095-2a136fb74d96",
   "metadata": {
    "papermill": {
     "duration": 0.007361,
     "end_time": "2024-05-29T04:26:15.279787",
     "exception": false,
     "start_time": "2024-05-29T04:26:15.272426",
     "status": "completed"
    },
    "tags": []
   },
   "source": [
    "scanvi_emb = scanvi_model.get_latent_representation(adata=adata)"
   ]
  },
  {
   "cell_type": "raw",
   "id": "e7bb9ade-2fae-4b74-821b-2f9ddcd7fe88",
   "metadata": {
    "papermill": {
     "duration": 0.007463,
     "end_time": "2024-05-29T04:26:15.294750",
     "exception": false,
     "start_time": "2024-05-29T04:26:15.287287",
     "status": "completed"
    },
    "tags": []
   },
   "source": [
    "np.savez_compressed(file = str(here(f\"{workingDir}/results/scANVI_model_pretreined_noRBCnPlat/scANVI_embedding.npz\")), arr=scanvi_emb)"
   ]
  }
 ],
 "metadata": {
  "kernelspec": {
   "display_name": "Python 3 (ipykernel)",
   "language": "python",
   "name": "python3"
  },
  "language_info": {
   "codemirror_mode": {
    "name": "ipython",
    "version": 3
   },
   "file_extension": ".py",
   "mimetype": "text/x-python",
   "name": "python",
   "nbconvert_exporter": "python",
   "pygments_lexer": "ipython3",
   "version": "3.9.19"
  },
  "papermill": {
   "default_parameters": {},
   "duration": 23638.075778,
   "end_time": "2024-05-29T04:26:23.236041",
   "environment_variables": {},
   "exception": null,
   "input_path": "02_fineTuning_scANVI.ipynb",
   "output_path": "02_fineTuning_scANVI_executed.ipynb",
   "parameters": {},
   "start_time": "2024-05-28T21:52:25.160263",
   "version": "2.5.0"
  }
 },
 "nbformat": 4,
 "nbformat_minor": 5
}
