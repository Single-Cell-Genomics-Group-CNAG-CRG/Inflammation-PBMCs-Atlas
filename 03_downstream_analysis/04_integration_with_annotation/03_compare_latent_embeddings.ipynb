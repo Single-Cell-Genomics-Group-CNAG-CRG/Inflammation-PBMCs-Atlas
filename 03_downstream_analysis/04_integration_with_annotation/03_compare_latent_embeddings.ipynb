{
 "cells": [
  {
   "cell_type": "markdown",
   "id": "5bf57524-84a8-401a-9c96-94f3161274c5",
   "metadata": {},
   "source": [
    "### Intro\n",
    "\n",
    "The aim of the this notebook (and the 04_benchmark_integration) is to test the integration comparing non-integrated PC, scANVI embedding and PC obtained from scANVI normalized expression matrix.\n",
    "\n",
    "Here, we will generate an adata object including three embedded space as explained above.\n",
    "\n",
    "For each embedding we will use the same number of dimension (30)"
   ]
  },
  {
   "cell_type": "code",
   "execution_count": 1,
   "id": "22570732-6d93-45a0-aa98-66f75bffbdfd",
   "metadata": {
    "execution": {
     "iopub.execute_input": "2024-06-26T09:33:57.798209Z",
     "iopub.status.busy": "2024-06-26T09:33:57.798032Z",
     "iopub.status.idle": "2024-06-26T09:34:04.271013Z",
     "shell.execute_reply": "2024-06-26T09:34:04.270381Z",
     "shell.execute_reply.started": "2024-06-26T09:33:57.798191Z"
    }
   },
   "outputs": [],
   "source": [
    "import scanpy as sc\n",
    "\n",
    "import pandas as pd\n",
    "import numpy as np\n",
    "\n",
    "import scvi\n",
    "\n",
    "from pyprojroot import here\n",
    "from glob import glob\n",
    "import os"
   ]
  },
  {
   "cell_type": "markdown",
   "id": "f5eab5ac-3e5d-44dc-913c-06fd98d5e419",
   "metadata": {},
   "source": [
    "### Loading raw non-integrated object\n",
    "\n",
    "This object was integrated using scANVI"
   ]
  },
  {
   "cell_type": "code",
   "execution_count": 2,
   "id": "2e0fd097-fa6d-4e7f-8a8b-5d944d6f6b9f",
   "metadata": {
    "execution": {
     "iopub.execute_input": "2024-06-09T16:51:32.117236Z",
     "iopub.status.busy": "2024-06-09T16:51:32.116781Z",
     "iopub.status.idle": "2024-06-09T16:52:59.885897Z",
     "shell.execute_reply": "2024-06-09T16:52:59.885152Z",
     "shell.execute_reply.started": "2024-06-09T16:51:32.117217Z"
    }
   },
   "outputs": [],
   "source": [
    "adata = sc.read_h5ad(here(\"03_downstream_analysis/02_gene_universe_definition/results/04_MAIN_geneUniverse_noRBCnPlatelets.h5ad\"))"
   ]
  },
  {
   "cell_type": "code",
   "execution_count": 3,
   "id": "1c8b35f6-6183-4955-8683-9428e8a3dafb",
   "metadata": {
    "execution": {
     "iopub.execute_input": "2024-06-09T16:52:59.887260Z",
     "iopub.status.busy": "2024-06-09T16:52:59.887077Z",
     "iopub.status.idle": "2024-06-09T16:52:59.951906Z",
     "shell.execute_reply": "2024-06-09T16:52:59.951311Z",
     "shell.execute_reply.started": "2024-06-09T16:52:59.887240Z"
    }
   },
   "outputs": [],
   "source": [
    "adata.obs['binned_age'] = adata.obs['binned_age'].astype(str)"
   ]
  },
  {
   "cell_type": "markdown",
   "id": "bc0611f0-567a-435e-83c7-929df43afde8",
   "metadata": {},
   "source": [
    "### Loading scANVI model"
   ]
  },
  {
   "cell_type": "code",
   "execution_count": 4,
   "id": "68a43a5a-5786-4cf2-a8d3-0edace34036f",
   "metadata": {
    "execution": {
     "iopub.execute_input": "2024-06-09T16:52:59.953431Z",
     "iopub.status.busy": "2024-06-09T16:52:59.953240Z",
     "iopub.status.idle": "2024-06-09T16:53:19.553897Z",
     "shell.execute_reply": "2024-06-09T16:53:19.553247Z",
     "shell.execute_reply.started": "2024-06-09T16:52:59.953414Z"
    }
   },
   "outputs": [
    {
     "name": "stderr",
     "output_type": "stream",
     "text": [
      "/scratch_isilon/groups/singlecell/shared/conda_env/scvi-v112/lib/python3.9/site-packages/lightning/fabric/plugins/environments/slurm.py:191: The `srun` command is available on your system but is not used. HINT: If your intention is to run Lightning on SLURM, prepend your python command with `srun` like so: srun python3.9 /scratch_isilon/groups/singlecell/shared/conda_en ...\n"
     ]
    },
    {
     "name": "stdout",
     "output_type": "stream",
     "text": [
      "\u001b[34mINFO    \u001b[0m File                                                                                                      \n",
      "         \u001b[35m/scratch_isilon/groups/singlecell/shared/projects/Inflammation-PBMCs-Atlas/03_downstream_analysis/03_scA\u001b[0m\n",
      "         \u001b[35mNVI_integration_with_annotation/results/scANVI_model_fineTuned_lowLR_noRBCnPlat/\u001b[0m\u001b[95mmodel.pt\u001b[0m already          \n",
      "         downloaded                                                                                                \n"
     ]
    }
   ],
   "source": [
    "scanvi_model = scvi.model.SCANVI.load(here('03_downstream_analysis/04_integration_with_annotation/results/scANVI_model_fineTuned_lowLR_noRBCnPlat'), \n",
    "                                      adata=adata) "
   ]
  },
  {
   "cell_type": "markdown",
   "id": "c3d7b109-56d3-42c5-9396-0783b35828a3",
   "metadata": {},
   "source": [
    "## Generating embeddings"
   ]
  },
  {
   "cell_type": "markdown",
   "id": "c7dad9e8-5b4c-406a-bf8a-f388a364f66b",
   "metadata": {},
   "source": [
    "### scANVI latent dimension"
   ]
  },
  {
   "cell_type": "code",
   "execution_count": 5,
   "id": "bbcfbcb9-fbe9-40a1-8914-e27fe76c919f",
   "metadata": {
    "execution": {
     "iopub.execute_input": "2024-06-09T16:53:19.555129Z",
     "iopub.status.busy": "2024-06-09T16:53:19.554726Z",
     "iopub.status.idle": "2024-06-09T16:58:45.935656Z",
     "shell.execute_reply": "2024-06-09T16:58:45.934823Z",
     "shell.execute_reply.started": "2024-06-09T16:53:19.555110Z"
    }
   },
   "outputs": [],
   "source": [
    "adata.obsm['X_scANVI_latent'] = scanvi_model.get_latent_representation(adata=adata)"
   ]
  },
  {
   "cell_type": "markdown",
   "id": "6fbe7041-837c-4726-b384-088cb8bfa68d",
   "metadata": {},
   "source": [
    "### PCA from RAW count\n",
    "#### Normalization"
   ]
  },
  {
   "cell_type": "code",
   "execution_count": 6,
   "id": "06a61443-3705-4e05-ad89-1ee80a74e426",
   "metadata": {
    "execution": {
     "iopub.execute_input": "2024-06-09T16:58:45.936756Z",
     "iopub.status.busy": "2024-06-09T16:58:45.936534Z",
     "iopub.status.idle": "2024-06-09T17:01:52.813431Z",
     "shell.execute_reply": "2024-06-09T17:01:52.812605Z",
     "shell.execute_reply.started": "2024-06-09T16:58:45.936737Z"
    }
   },
   "outputs": [],
   "source": [
    "sc.pp.normalize_total(adata, target_sum=1e4)\n",
    "sc.pp.log1p(adata)"
   ]
  },
  {
   "cell_type": "markdown",
   "id": "6ad0ece3-2144-4cde-be7a-655212034538",
   "metadata": {},
   "source": [
    "#### Computing PCA"
   ]
  },
  {
   "cell_type": "code",
   "execution_count": 7,
   "id": "625b36f4-684e-49c6-9de4-4bf82e00cf75",
   "metadata": {
    "execution": {
     "iopub.execute_input": "2024-06-09T17:01:52.814519Z",
     "iopub.status.busy": "2024-06-09T17:01:52.814293Z",
     "iopub.status.idle": "2024-06-09T17:16:12.061103Z",
     "shell.execute_reply": "2024-06-09T17:16:12.060245Z",
     "shell.execute_reply.started": "2024-06-09T17:01:52.814500Z"
    }
   },
   "outputs": [],
   "source": [
    "sc.tl.pca(adata, n_comps = 30, )"
   ]
  },
  {
   "cell_type": "code",
   "execution_count": 8,
   "id": "61e0af29-0c13-4052-bff7-e947a8560cc8",
   "metadata": {
    "execution": {
     "iopub.execute_input": "2024-06-09T17:16:12.062242Z",
     "iopub.status.busy": "2024-06-09T17:16:12.062062Z",
     "iopub.status.idle": "2024-06-09T17:16:12.211092Z",
     "shell.execute_reply": "2024-06-09T17:16:12.210465Z",
     "shell.execute_reply.started": "2024-06-09T17:16:12.062223Z"
    }
   },
   "outputs": [],
   "source": [
    "adata.obsm['X_pca_unintegrated'] = adata.obsm['X_pca'].copy()"
   ]
  },
  {
   "cell_type": "code",
   "execution_count": 9,
   "id": "307e6e42-48d0-4747-b43c-915e78368dbe",
   "metadata": {
    "execution": {
     "iopub.execute_input": "2024-06-09T17:16:12.211979Z",
     "iopub.status.busy": "2024-06-09T17:16:12.211761Z",
     "iopub.status.idle": "2024-06-09T17:16:12.215770Z",
     "shell.execute_reply": "2024-06-09T17:16:12.215397Z",
     "shell.execute_reply.started": "2024-06-09T17:16:12.211960Z"
    }
   },
   "outputs": [],
   "source": [
    "del adata.obsm['X_pca']"
   ]
  },
  {
   "cell_type": "markdown",
   "id": "c46a9446-6ea4-4e7c-bc16-fd04125920f7",
   "metadata": {},
   "source": [
    "### PCA from scANVI normalized expression\n",
    "\n",
    "For the third embedding we have to load the  normalized count data obtained using get_normalized_expression() from scANVI model.\n",
    "\n",
    "We generated the those matrices for each cell-type to make loading easier"
   ]
  },
  {
   "cell_type": "markdown",
   "id": "a5c4de8f-03aa-4fee-baab-4d65d67b3f07",
   "metadata": {},
   "source": [
    "**Generating one adata by merging each cell-types**"
   ]
  },
  {
   "cell_type": "code",
   "execution_count": 10,
   "id": "6552889e-ac58-419b-af39-a463500f5a5d",
   "metadata": {
    "execution": {
     "iopub.execute_input": "2024-06-09T17:16:12.217443Z",
     "iopub.status.busy": "2024-06-09T17:16:12.217249Z",
     "iopub.status.idle": "2024-06-09T17:16:12.265234Z",
     "shell.execute_reply": "2024-06-09T17:16:12.264822Z",
     "shell.execute_reply.started": "2024-06-09T17:16:12.217427Z"
    }
   },
   "outputs": [],
   "source": [
    "ctDATApath_list = glob(str(here('03_downstream_analysis/04_integration_with_annotation/results/normalized_adatas_nextflow/cellType_adata_merged/*.log1p.h5ad')))"
   ]
  },
  {
   "cell_type": "code",
   "execution_count": 11,
   "id": "cedf4177-af98-4e73-b85e-35fbb5e2c449",
   "metadata": {
    "execution": {
     "iopub.execute_input": "2024-06-09T17:16:12.265900Z",
     "iopub.status.busy": "2024-06-09T17:16:12.265717Z",
     "iopub.status.idle": "2024-06-09T17:47:10.952474Z",
     "shell.execute_reply": "2024-06-09T17:47:10.951902Z",
     "shell.execute_reply.started": "2024-06-09T17:16:12.265884Z"
    }
   },
   "outputs": [
    {
     "name": "stdout",
     "output_type": "stream",
     "text": [
      "T_CD4_NonNaive_adataMerged.log1p.h5ad\n",
      "T_CD8_NonNaive_adataMerged.log1p.h5ad\n",
      "Cycling_cells_adataMerged.log1p.h5ad\n",
      "T_CD4_Naive_adataMerged.log1p.h5ad\n",
      "T_CD8_Naive_adataMerged.log1p.h5ad\n",
      "UTC_adataMerged.log1p.h5ad\n",
      "DC_adataMerged.log1p.h5ad\n",
      "Plasma_adataMerged.log1p.h5ad\n",
      "ILC_adataMerged.log1p.h5ad\n",
      "Mono_adataMerged.log1p.h5ad\n",
      "Progenitors_adataMerged.log1p.h5ad\n",
      "B_adataMerged.log1p.h5ad\n",
      "pDC_adataMerged.log1p.h5ad\n"
     ]
    }
   ],
   "source": [
    "ctADATA_list = []\n",
    "for p in ctDATApath_list:\n",
    "    print(os.path.basename(p))\n",
    "    ctADATA_list.append(sc.read_h5ad(p))"
   ]
  },
  {
   "cell_type": "code",
   "execution_count": 12,
   "id": "5b131249-2a18-4b17-9d1a-a3a43041fb96",
   "metadata": {
    "execution": {
     "iopub.execute_input": "2024-06-09T17:47:10.953470Z",
     "iopub.status.busy": "2024-06-09T17:47:10.953251Z",
     "iopub.status.idle": "2024-06-09T17:47:35.050083Z",
     "shell.execute_reply": "2024-06-09T17:47:35.049510Z",
     "shell.execute_reply.started": "2024-06-09T17:47:10.953451Z"
    }
   },
   "outputs": [],
   "source": [
    "adataCTmerged = sc.concat(ctADATA_list)[adata.obs_names,:]"
   ]
  },
  {
   "cell_type": "code",
   "execution_count": 13,
   "id": "e653bfcc-4e8b-4110-a78a-35c52b5ac164",
   "metadata": {
    "execution": {
     "iopub.execute_input": "2024-06-09T17:47:35.050930Z",
     "iopub.status.busy": "2024-06-09T17:47:35.050731Z",
     "iopub.status.idle": "2024-06-09T17:47:35.451219Z",
     "shell.execute_reply": "2024-06-09T17:47:35.450667Z",
     "shell.execute_reply.started": "2024-06-09T17:47:35.050913Z"
    }
   },
   "outputs": [],
   "source": [
    "assert all(adataCTmerged.obs_names == adata.obs_names)"
   ]
  },
  {
   "cell_type": "markdown",
   "id": "1bf1bde2-4672-4582-905f-752af2b3dabc",
   "metadata": {},
   "source": [
    "#### Computing PCA"
   ]
  },
  {
   "cell_type": "code",
   "execution_count": 14,
   "id": "41b9d7c8-e52f-4d6d-bc40-fce486ee6c0b",
   "metadata": {
    "execution": {
     "iopub.execute_input": "2024-06-09T17:47:35.452185Z",
     "iopub.status.busy": "2024-06-09T17:47:35.451861Z",
     "iopub.status.idle": "2024-06-09T17:57:45.559066Z",
     "shell.execute_reply": "2024-06-09T17:57:45.558223Z",
     "shell.execute_reply.started": "2024-06-09T17:47:35.452167Z"
    }
   },
   "outputs": [
    {
     "name": "stderr",
     "output_type": "stream",
     "text": [
      "/scratch_isilon/groups/singlecell/shared/conda_env/scvi-v112/lib/python3.9/site-packages/scanpy/preprocessing/_pca.py:314: ImplicitModificationWarning: Setting element `.obsm['X_pca']` of view, initializing view as actual.\n",
      "  adata.obsm[\"X_pca\"] = X_pca\n"
     ]
    }
   ],
   "source": [
    "sc.tl.pca(adataCTmerged, n_comps = 30)"
   ]
  },
  {
   "cell_type": "code",
   "execution_count": 15,
   "id": "309ff1f6-a401-4959-a480-e49566952722",
   "metadata": {
    "execution": {
     "iopub.execute_input": "2024-06-09T17:57:45.560123Z",
     "iopub.status.busy": "2024-06-09T17:57:45.559887Z",
     "iopub.status.idle": "2024-06-09T17:57:45.704290Z",
     "shell.execute_reply": "2024-06-09T17:57:45.703695Z",
     "shell.execute_reply.started": "2024-06-09T17:57:45.560104Z"
    }
   },
   "outputs": [],
   "source": [
    "adata.obsm['X_pca_scANVI_normalized_exp'] = adataCTmerged.obsm['X_pca'].copy()"
   ]
  },
  {
   "cell_type": "markdown",
   "id": "4768d3e4-4be1-44c2-b909-e780757542e2",
   "metadata": {},
   "source": [
    "### scGen latent dimension"
   ]
  },
  {
   "cell_type": "markdown",
   "id": "0afa1002-16ad-4244-9c35-520a9a705b22",
   "metadata": {},
   "source": [
    "**Load adata with corrected latent and PCs**"
   ]
  },
  {
   "cell_type": "code",
   "execution_count": 3,
   "id": "88a287d9-8e27-40f7-88fa-c85f754bc528",
   "metadata": {
    "execution": {
     "iopub.execute_input": "2024-06-26T09:37:10.922146Z",
     "iopub.status.busy": "2024-06-26T09:37:10.921851Z",
     "iopub.status.idle": "2024-06-26T09:37:24.425650Z",
     "shell.execute_reply": "2024-06-26T09:37:24.425244Z",
     "shell.execute_reply.started": "2024-06-26T09:37:10.922125Z"
    }
   },
   "outputs": [
    {
     "data": {
      "text/plain": [
       "AnnData object with n_obs × n_vars = 4279352 × 30\n",
       "    layers: 'scgen_corrected_expression_pc', 'scgen_corrected_latent'"
      ]
     },
     "execution_count": 3,
     "metadata": {},
     "output_type": "execute_result"
    }
   ],
   "source": [
    "scGen_emb_adata = sc.read_h5ad(here('03_downstream_analysis/04_integration_with_annotation/results/02_scGen_corr_latent_expression_noRBCnPlat.h5ad'))\n",
    "scGen_emb_adata"
   ]
  },
  {
   "cell_type": "code",
   "execution_count": 4,
   "id": "82189a81-7166-486a-9ee6-259530614384",
   "metadata": {
    "execution": {
     "iopub.execute_input": "2024-06-26T09:37:24.426415Z",
     "iopub.status.busy": "2024-06-26T09:37:24.426254Z",
     "iopub.status.idle": "2024-06-26T09:37:24.429630Z",
     "shell.execute_reply": "2024-06-26T09:37:24.429285Z",
     "shell.execute_reply.started": "2024-06-26T09:37:24.426398Z"
    }
   },
   "outputs": [
    {
     "data": {
      "text/plain": [
       "AnnData object with n_obs × n_vars = 4279352 × 30\n",
       "    layers: 'scgen_corrected_expression_pc', 'scgen_corrected_latent'"
      ]
     },
     "execution_count": 4,
     "metadata": {},
     "output_type": "execute_result"
    }
   ],
   "source": [
    "scGen_emb_adata"
   ]
  },
  {
   "cell_type": "code",
   "execution_count": 5,
   "id": "3598a3b6-a1c3-4fc4-99e6-848edc0eadda",
   "metadata": {
    "execution": {
     "iopub.execute_input": "2024-06-26T09:37:24.430720Z",
     "iopub.status.busy": "2024-06-26T09:37:24.430413Z",
     "iopub.status.idle": "2024-06-26T09:37:24.774400Z",
     "shell.execute_reply": "2024-06-26T09:37:24.773920Z",
     "shell.execute_reply.started": "2024-06-26T09:37:24.430703Z"
    }
   },
   "outputs": [],
   "source": [
    "# Check if index of the two adata perfectly match\n",
    "assert(all(scGen_emb_adata.obs_names == adata.obs_names))"
   ]
  },
  {
   "cell_type": "code",
   "execution_count": 9,
   "id": "8cb1b571-fff9-4c63-82c3-14db03175b85",
   "metadata": {
    "execution": {
     "iopub.execute_input": "2024-06-26T09:38:02.001455Z",
     "iopub.status.busy": "2024-06-26T09:38:02.001175Z",
     "iopub.status.idle": "2024-06-26T09:38:02.006285Z",
     "shell.execute_reply": "2024-06-26T09:38:02.005840Z",
     "shell.execute_reply.started": "2024-06-26T09:38:02.001436Z"
    }
   },
   "outputs": [],
   "source": [
    "adata.obsm['scgen_corrected_latent'] = scGen_emb_adata.layers['scgen_corrected_latent']\n",
    "adata.obsm['scgen_corrected_expression_pc'] = scGen_emb_adata.layers['scgen_corrected_expression_pc']"
   ]
  },
  {
   "cell_type": "markdown",
   "id": "52ab8e66-ad3f-4383-ab21-963b82dcbd0d",
   "metadata": {},
   "source": [
    "### Harmony latent dimension"
   ]
  },
  {
   "cell_type": "markdown",
   "id": "7c1eed42-b946-4ca6-8d82-b9a327a6b674",
   "metadata": {},
   "source": [
    "**Load adata with corrected PCs**"
   ]
  },
  {
   "cell_type": "code",
   "execution_count": 3,
   "id": "6371773f-e46f-4a71-a397-e26aaace1d91",
   "metadata": {
    "execution": {
     "iopub.execute_input": "2024-06-24T13:23:27.648066Z",
     "iopub.status.busy": "2024-06-24T13:23:27.647855Z",
     "iopub.status.idle": "2024-06-24T13:23:35.469189Z",
     "shell.execute_reply": "2024-06-24T13:23:35.468767Z",
     "shell.execute_reply.started": "2024-06-24T13:23:27.648048Z"
    }
   },
   "outputs": [
    {
     "data": {
      "text/plain": [
       "AnnData object with n_obs × n_vars = 4279352 × 30"
      ]
     },
     "execution_count": 3,
     "metadata": {},
     "output_type": "execute_result"
    }
   ],
   "source": [
    "harmony_adata = sc.read_h5ad(here('03_downstream_analysis/04_integration_with_annotation/results/02_Harmony_correctedPCs_noRBCnPlat.h5ad'))\n",
    "harmony_adata"
   ]
  },
  {
   "cell_type": "code",
   "execution_count": 4,
   "id": "f8cf19fd-7444-40b5-b599-d001d24646da",
   "metadata": {
    "execution": {
     "iopub.execute_input": "2024-06-24T13:24:59.821318Z",
     "iopub.status.busy": "2024-06-24T13:24:59.820187Z",
     "iopub.status.idle": "2024-06-24T13:25:00.166692Z",
     "shell.execute_reply": "2024-06-24T13:25:00.166120Z",
     "shell.execute_reply.started": "2024-06-24T13:24:59.821260Z"
    }
   },
   "outputs": [],
   "source": [
    "# Check if index of the two adata perfectly match\n",
    "assert(all(harmony_adata.obs_names == adata.obs_names))"
   ]
  },
  {
   "cell_type": "code",
   "execution_count": 7,
   "id": "4375086b-45ad-4670-8ef8-d4229c169215",
   "metadata": {
    "execution": {
     "iopub.execute_input": "2024-06-24T13:25:17.550166Z",
     "iopub.status.busy": "2024-06-24T13:25:17.548755Z",
     "iopub.status.idle": "2024-06-24T13:25:17.554942Z",
     "shell.execute_reply": "2024-06-24T13:25:17.554356Z",
     "shell.execute_reply.started": "2024-06-24T13:25:17.550141Z"
    }
   },
   "outputs": [
    {
     "data": {
      "text/plain": [
       "AnnData object with n_obs × n_vars = 4279352 × 8253\n",
       "    obs: 'studyID', 'libraryID', 'sampleID', 'chemistry', 'disease', 'sex', 'binned_age', 'Level1', 'Level2', '_scvi_batch', '_scvi_labels'\n",
       "    var: 'hgnc_id', 'symbol', 'locus_group', 'HUGO_status', 'highly_variable'\n",
       "    uns: '_scvi_manager_uuid', '_scvi_uuid', 'log1p', 'pca'\n",
       "    obsm: 'X_pca_scANVI_normalized_exp', 'X_pca_unintegrated', 'X_scANVI_latent', '_scvi_extra_categorical_covs', 'scgen_corrected_expression_pc', 'scgen_corrected_latent', 'X_pca_harmony'\n",
       "    varm: 'PCs'"
      ]
     },
     "execution_count": 7,
     "metadata": {},
     "output_type": "execute_result"
    }
   ],
   "source": [
    "adata.obsm['X_pca_harmony'] = harmony_adata.X\n",
    "adata"
   ]
  },
  {
   "cell_type": "markdown",
   "id": "9fdcf8db-62e1-45b3-a8f5-edafd48beb0b",
   "metadata": {},
   "source": [
    "## Saving the obtained object"
   ]
  },
  {
   "cell_type": "code",
   "execution_count": 11,
   "id": "91fecc25-e1e6-4312-ab72-dd0d72e28001",
   "metadata": {
    "execution": {
     "iopub.execute_input": "2024-06-26T09:38:24.411224Z",
     "iopub.status.busy": "2024-06-26T09:38:24.410782Z",
     "iopub.status.idle": "2024-06-26T09:56:49.210085Z",
     "shell.execute_reply": "2024-06-26T09:56:49.209450Z",
     "shell.execute_reply.started": "2024-06-26T09:38:24.411206Z"
    }
   },
   "outputs": [],
   "source": [
    "adata.write(here('03_downstream_analysis/04_integration_with_annotation/results/03_MAIN_geneUniverse_noRBCnPlatelets_embeddings.h5ad'), compression='gzip')"
   ]
  },
  {
   "cell_type": "code",
   "execution_count": null,
   "id": "1b8b9760-0e2c-4584-ba49-e5e0537be49f",
   "metadata": {},
   "outputs": [],
   "source": []
  },
  {
   "cell_type": "raw",
   "id": "9bf59637-0281-435e-858f-0861adc8f60b",
   "metadata": {
    "execution": {
     "iopub.execute_input": "2024-06-26T09:35:12.841457Z",
     "iopub.status.busy": "2024-06-26T09:35:12.840974Z",
     "iopub.status.idle": "2024-06-26T09:37:10.920645Z",
     "shell.execute_reply": "2024-06-26T09:37:10.919960Z",
     "shell.execute_reply.started": "2024-06-26T09:35:12.841436Z"
    }
   },
   "source": [
    "adata = sc.read_h5ad(here('03_downstream_analysis/04_integration_with_annotation/results/03_MAIN_geneUniverse_noRBCnPlatelets_embeddings.h5ad'))"
   ]
  },
  {
   "cell_type": "code",
   "execution_count": null,
   "id": "cdb48342-9b22-43cf-a11e-6813999145e8",
   "metadata": {},
   "outputs": [],
   "source": []
  }
 ],
 "metadata": {
  "kernelspec": {
   "display_name": "Python 3 (ipykernel)",
   "language": "python",
   "name": "python3"
  },
  "language_info": {
   "codemirror_mode": {
    "name": "ipython",
    "version": 3
   },
   "file_extension": ".py",
   "mimetype": "text/x-python",
   "name": "python",
   "nbconvert_exporter": "python",
   "pygments_lexer": "ipython3",
   "version": "3.9.19"
  }
 },
 "nbformat": 4,
 "nbformat_minor": 5
}
