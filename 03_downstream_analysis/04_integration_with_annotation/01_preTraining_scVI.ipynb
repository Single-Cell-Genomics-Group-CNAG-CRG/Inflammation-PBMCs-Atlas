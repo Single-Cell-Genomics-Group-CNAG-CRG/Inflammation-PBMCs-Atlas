{
 "cells": [
  {
   "cell_type": "code",
   "execution_count": 1,
   "id": "044a9326-0745-430b-a00f-48663be02989",
   "metadata": {
    "execution": {
     "iopub.execute_input": "2024-05-28T19:39:34.954561Z",
     "iopub.status.busy": "2024-05-28T19:39:34.954238Z",
     "iopub.status.idle": "2024-05-28T19:39:45.372402Z",
     "shell.execute_reply": "2024-05-28T19:39:45.371575Z",
     "shell.execute_reply.started": "2024-05-28T19:39:34.954535Z"
    },
    "papermill": {
     "duration": 5.301316,
     "end_time": "2024-05-14T19:22:15.484041",
     "exception": false,
     "start_time": "2024-05-14T19:22:10.182725",
     "status": "completed"
    },
    "tags": []
   },
   "outputs": [
    {
     "name": "stderr",
     "output_type": "stream",
     "text": [
      "WARNING:root:In order to use the mouse gastrulation seqFISH datsets, please install squidpy (see https://github.com/scverse/squidpy).\n",
      "/home/jupyter/conda_envs/scarches/lib/python3.9/site-packages/tqdm/auto.py:21: TqdmWarning: IProgress not found. Please update jupyter and ipywidgets. See https://ipywidgets.readthedocs.io/en/stable/user_install.html\n",
      "  from .autonotebook import tqdm as notebook_tqdm\n",
      "WARNING:root:In order to use sagenet models, please install pytorch geometric (see https://pytorch-geometric.readthedocs.io) and \n",
      " captum (see https://github.com/pytorch/captum).\n",
      "WARNING:root:mvTCR is not installed. To use mvTCR models, please install it first using \"pip install mvtcr\"\n",
      "WARNING:root:multigrate is not installed. To use multigrate models, please install it first using \"pip install multigrate\".\n",
      "INFO: Seed set to 42\n",
      "INFO:lightning.fabric.utilities.seed:Seed set to 42\n"
     ]
    }
   ],
   "source": [
    "import os\n",
    "import sys\n",
    "\n",
    "import json\n",
    "\n",
    "import numpy as np\n",
    "import scanpy as sc\n",
    "import pandas as pd\n",
    "import matplotlib.pyplot as plt\n",
    "import seaborn as sns\n",
    "from sklearn.metrics import classification_report\n",
    "\n",
    "import scarches as sca\n",
    "from scarches.dataset.trvae.data_handling import remove_sparsity\n",
    "import matplotlib.pyplot as plt\n",
    "\n",
    "import torch\n",
    "\n",
    "from dotenv import load_dotenv\n",
    "\n",
    "from lightning.pytorch.loggers import WandbLogger\n",
    "import wandb\n",
    "\n",
    "import session_info\n",
    "import warnings\n",
    "from pyprojroot.here import here\n",
    "\n",
    "#plt.style.use(['science','nature','no-latex'])\n",
    "dpi_fig_save = 300\n",
    "sc.set_figure_params(dpi=100, dpi_save=dpi_fig_save, vector_friendly=True)\n",
    "\n",
    "# Setting some parameters\n",
    "warnings.filterwarnings(\"ignore\")\n",
    "\n",
    "from sklearn.model_selection import StratifiedKFold\n",
    "\n",
    "overwriteData = True\n",
    "overwriteFigures = True\n",
    "\n",
    "# Set random seed\n",
    "random_seed = 42\n",
    "\n",
    "import scvi\n",
    "scvi.settings.dl_num_workers = 8\n",
    "scvi.settings.seed = random_seed\n",
    "\n",
    "import warnings\n",
    "warnings.filterwarnings('ignore')\n",
    "\n",
    "torch.set_float32_matmul_precision('high')\n",
    "torch.set_printoptions(precision=3, sci_mode=False, edgeitems=7)\n",
    "torch.multiprocessing.set_sharing_strategy('file_system')\n",
    "\n",
    "%load_ext autoreload\n",
    "%autoreload 2"
   ]
  },
  {
   "cell_type": "code",
   "execution_count": 2,
   "id": "e9230839-98a4-4ab3-a28a-05e68e858dd0",
   "metadata": {
    "execution": {
     "iopub.execute_input": "2024-05-28T19:39:45.374206Z",
     "iopub.status.busy": "2024-05-28T19:39:45.373925Z",
     "iopub.status.idle": "2024-05-28T19:39:45.422045Z",
     "shell.execute_reply": "2024-05-28T19:39:45.421431Z",
     "shell.execute_reply.started": "2024-05-28T19:39:45.374180Z"
    },
    "papermill": {
     "duration": 0.063097,
     "end_time": "2024-05-14T19:22:15.940108",
     "exception": false,
     "start_time": "2024-05-14T19:22:15.877011",
     "status": "completed"
    },
    "tags": []
   },
   "outputs": [],
   "source": [
    "assert load_dotenv()"
   ]
  },
  {
   "cell_type": "code",
   "execution_count": 3,
   "id": "6af74995-eeba-493d-999c-501287dd809c",
   "metadata": {
    "execution": {
     "iopub.execute_input": "2024-05-28T19:39:45.423317Z",
     "iopub.status.busy": "2024-05-28T19:39:45.422909Z",
     "iopub.status.idle": "2024-05-28T19:39:45.463468Z",
     "shell.execute_reply": "2024-05-28T19:39:45.462908Z",
     "shell.execute_reply.started": "2024-05-28T19:39:45.423292Z"
    },
    "papermill": {
     "duration": 0.051481,
     "end_time": "2024-05-14T19:22:15.995866",
     "exception": false,
     "start_time": "2024-05-14T19:22:15.944385",
     "status": "completed"
    },
    "tags": []
   },
   "outputs": [],
   "source": [
    "workingDir = here('03_downstream_analysis/04_integration_with_annotation/')"
   ]
  },
  {
   "cell_type": "code",
   "execution_count": 4,
   "id": "1dae1184-00db-4d0c-8e49-42b1df5f9d30",
   "metadata": {
    "execution": {
     "iopub.execute_input": "2024-05-28T19:39:45.465413Z",
     "iopub.status.busy": "2024-05-28T19:39:45.465111Z",
     "iopub.status.idle": "2024-05-28T19:39:45.505212Z",
     "shell.execute_reply": "2024-05-28T19:39:45.504549Z",
     "shell.execute_reply.started": "2024-05-28T19:39:45.465391Z"
    },
    "papermill": {
     "duration": 0.052315,
     "end_time": "2024-05-14T19:22:16.052521",
     "exception": false,
     "start_time": "2024-05-14T19:22:16.000206",
     "status": "completed"
    },
    "tags": []
   },
   "outputs": [],
   "source": [
    "class CustomWandbLogger(WandbLogger):\n",
    "    @property\n",
    "    def save_dir(self):\n",
    "        \"\"\"Gets the save directory.\n",
    "\n",
    "        Returns:\n",
    "            The path to the save directory.\n",
    "\n",
    "        \"\"\"\n",
    "        return self.experiment.dir"
   ]
  },
  {
   "cell_type": "code",
   "execution_count": 5,
   "id": "70cb28c1-38c5-4910-98e5-a4d786f256d7",
   "metadata": {
    "execution": {
     "iopub.execute_input": "2024-05-28T19:39:45.506231Z",
     "iopub.status.busy": "2024-05-28T19:39:45.505993Z",
     "iopub.status.idle": "2024-05-28T19:39:45.546580Z",
     "shell.execute_reply": "2024-05-28T19:39:45.546000Z",
     "shell.execute_reply.started": "2024-05-28T19:39:45.506209Z"
    },
    "papermill": {
     "duration": 0.055789,
     "end_time": "2024-05-14T19:22:16.112980",
     "exception": false,
     "start_time": "2024-05-14T19:22:16.057191",
     "status": "completed"
    },
    "tags": []
   },
   "outputs": [
    {
     "data": {
      "text/plain": [
       "'1.1.2'"
      ]
     },
     "execution_count": 5,
     "metadata": {},
     "output_type": "execute_result"
    }
   ],
   "source": [
    "scvi.__version__"
   ]
  },
  {
   "cell_type": "markdown",
   "id": "e11bbe22-69a0-40d4-b609-7e108d2bcb46",
   "metadata": {
    "execution": {
     "iopub.execute_input": "2024-04-10T14:14:35.228151Z",
     "iopub.status.busy": "2024-04-10T14:14:35.226856Z",
     "iopub.status.idle": "2024-04-10T14:14:35.273260Z",
     "shell.execute_reply": "2024-04-10T14:14:35.272159Z",
     "shell.execute_reply.started": "2024-04-10T14:14:35.228101Z"
    },
    "papermill": {
     "duration": 0.004043,
     "end_time": "2024-05-14T19:22:16.121463",
     "exception": false,
     "start_time": "2024-05-14T19:22:16.117420",
     "status": "completed"
    },
    "tags": []
   },
   "source": [
    "# Loading data\n"
   ]
  },
  {
   "cell_type": "code",
   "execution_count": 6,
   "id": "f93686ba-9680-4b63-97c9-a0bc0a799c29",
   "metadata": {
    "execution": {
     "iopub.execute_input": "2024-05-28T19:39:45.547606Z",
     "iopub.status.busy": "2024-05-28T19:39:45.547382Z",
     "iopub.status.idle": "2024-05-28T19:41:23.891937Z",
     "shell.execute_reply": "2024-05-28T19:41:23.891252Z",
     "shell.execute_reply.started": "2024-05-28T19:39:45.547585Z"
    },
    "papermill": {
     "duration": 112.697132,
     "end_time": "2024-05-14T19:24:08.823135",
     "exception": false,
     "start_time": "2024-05-14T19:22:16.126003",
     "status": "completed"
    },
    "tags": []
   },
   "outputs": [],
   "source": [
    "# Load the h5ad file\n",
    "adata = sc.read_h5ad(here(\"03_downstream_analysis/04_integration_with_annotation/04_MAIN_geneUniverse_noRBCnPlatelets.h5ad\"))#, \n",
    "#                     backed='r+', chunk_size=50000)\n"
   ]
  },
  {
   "cell_type": "code",
   "execution_count": 7,
   "id": "01c8a959-ea75-49a0-ac94-194c693ed114",
   "metadata": {
    "execution": {
     "iopub.execute_input": "2024-05-28T19:41:23.893221Z",
     "iopub.status.busy": "2024-05-28T19:41:23.892958Z",
     "iopub.status.idle": "2024-05-28T19:41:23.997933Z",
     "shell.execute_reply": "2024-05-28T19:41:23.997137Z",
     "shell.execute_reply.started": "2024-05-28T19:41:23.893199Z"
    },
    "papermill": {
     "duration": 0.12427,
     "end_time": "2024-05-14T19:24:08.952154",
     "exception": false,
     "start_time": "2024-05-14T19:24:08.827884",
     "status": "completed"
    },
    "tags": []
   },
   "outputs": [],
   "source": [
    "adata.obs['binned_age'] = adata.obs['binned_age'].astype(str)"
   ]
  },
  {
   "cell_type": "code",
   "execution_count": 8,
   "id": "79a8296c-51f4-47ce-a8a5-59e72e4aab87",
   "metadata": {
    "execution": {
     "iopub.execute_input": "2024-05-28T19:41:23.999081Z",
     "iopub.status.busy": "2024-05-28T19:41:23.998834Z",
     "iopub.status.idle": "2024-05-28T19:41:24.038673Z",
     "shell.execute_reply": "2024-05-28T19:41:24.038039Z",
     "shell.execute_reply.started": "2024-05-28T19:41:23.999059Z"
    }
   },
   "outputs": [],
   "source": [
    "genes = adata.var"
   ]
  },
  {
   "cell_type": "code",
   "execution_count": 9,
   "id": "f0ae0256-2079-4a73-b506-fd494b1e9b84",
   "metadata": {
    "execution": {
     "iopub.execute_input": "2024-05-28T19:41:24.039789Z",
     "iopub.status.busy": "2024-05-28T19:41:24.039549Z",
     "iopub.status.idle": "2024-05-28T19:41:24.105289Z",
     "shell.execute_reply": "2024-05-28T19:41:24.104740Z",
     "shell.execute_reply.started": "2024-05-28T19:41:24.039768Z"
    }
   },
   "outputs": [
    {
     "name": "stdout",
     "output_type": "stream",
     "text": [
      "0 mitochondrial genes\n",
      "0 ribosomal genes\n",
      "0 TCR genes\n",
      "0 TCR genes\n",
      "1 HB genes\n",
      "20 MHC genes\n",
      "3 PLT genes\n"
     ]
    }
   ],
   "source": [
    "# Retrieve MT and RB genes present in the dataset\n",
    "MT_gene_idx = genes[\"symbol\"].str.startswith(\"MT-\")\n",
    "print(f\"{np.sum(MT_gene_idx)} mitochondrial genes\")\n",
    "\n",
    "RB_gene_idx = genes[\"symbol\"].str.startswith((\"RPS\", \"RPL\"))\n",
    "print(f\"{np.sum(RB_gene_idx)} ribosomal genes\")\n",
    "\n",
    "# Retrieve TCR and BCR present in the dataset\n",
    "TCR_gene_idx = genes[\"symbol\"].str.contains(\"^TRA(J|V)|^TRB(J|V|D)\")\n",
    "print(f\"{np.sum(TCR_gene_idx)} TCR genes\")\n",
    "\n",
    "BCR_gene_idx = genes[\"symbol\"].str.contains(\"^IGH(J|V)\")\n",
    "print(f\"{np.sum(BCR_gene_idx)} TCR genes\")\n",
    "\n",
    "HB_gene_idx = genes[\"symbol\"].str.contains(\"^HB[^(P)]\")\n",
    "print(f\"{np.sum(HB_gene_idx)} HB genes\")\n",
    "\n",
    "# Some of those genes will be included anyway because are part of curated gene sets.\n",
    "MHC_gene_idx = genes[\"symbol\"].str.contains(\"^HLA-\")\n",
    "print(f\"{np.sum(MHC_gene_idx)} MHC genes\")\n",
    "\n",
    "PLT_gene_idx = genes[\"symbol\"].isin([\"PPBP\", \"PDGF\", \"ANG1\", \"LAPTM4B\", \"WASF3\", \"TPM3\", \"PF4\", \"TAC1\"])\n",
    "print(f\"{np.sum(PLT_gene_idx)} PLT genes\")"
   ]
  },
  {
   "cell_type": "markdown",
   "id": "a13cd6e8-6229-4427-b616-441ba5a67b47",
   "metadata": {
    "papermill": {
     "duration": 0.004524,
     "end_time": "2024-05-14T19:24:08.961339",
     "exception": false,
     "start_time": "2024-05-14T19:24:08.956815",
     "status": "completed"
    },
    "tags": []
   },
   "source": [
    "**Parameters**"
   ]
  },
  {
   "cell_type": "code",
   "execution_count": null,
   "id": "689bf365-5025-4c03-a3af-8a860bb2899a",
   "metadata": {
    "papermill": {
     "duration": 0.05804,
     "end_time": "2024-05-14T19:24:09.023930",
     "exception": false,
     "start_time": "2024-05-14T19:24:08.965890",
     "status": "completed"
    },
    "tags": []
   },
   "outputs": [],
   "source": [
    "setup_kwargs = dict(\n",
    "    layer=None, \n",
    "    batch_key='chemistry',\n",
    "    categorical_covariate_keys = ['libraryID','studyID','sex','binned_age'],\n",
    "    labels_key = 'Level1' # needed for the following scANVI fine tuning\n",
    ")\n",
    "\n",
    "scvi_kwargs = dict(n_hidden=256,\n",
    "                   n_latent=30,\n",
    "                   n_layers=4, \n",
    "                   gene_likelihood='nb',\n",
    "                   dispersion='gene-batch')\n",
    "\n",
    "trainer_kwargs = dict(\n",
    "    checkpointing_monitor = 'elbo_validation',\n",
    "    early_stopping_monitor = 'reconstruction_loss_validation',\n",
    "    early_stopping_patience = 2,\n",
    "    early_stopping_min_delta=0.1,\n",
    "    early_stopping = True,\n",
    "    max_epochs = 1000,\n",
    "\n",
    "    #logger = # wandb\n",
    ")\n",
    "# https://docs.scvi-tools.org/en/stable/api/reference/scvi.train.TrainingPlan.html#scvi.train.TrainingPlan\n",
    "plan_kwargs = dict(\n",
    "    lr = 5e-4,\n",
    "    #reduce_lr_on_plateau = True\n",
    ")\n",
    "\n",
    "# https://docs.scvi-tools.org/en/stable/api/reference/scvi.module.VAE.html#scvi.module.VAE\n",
    "#vae = dict(\n",
    "#    use_layer_norm='both',\n",
    "#    use_batch_norm='none',\n",
    "#    encode_covariates=True,\n",
    "#    deeply_inject_covariates=False\n",
    "#)\n",
    "datasplitter_kwargs = dict(pin_memory=True)\n",
    "scvi_parameter_dict = setup_kwargs | scvi_kwargs | trainer_kwargs | plan_kwargs| datasplitter_kwargs"
   ]
  },
  {
   "cell_type": "code",
   "execution_count": null,
   "id": "e78a792d-f9a4-46dd-818b-6b31ae1935a6",
   "metadata": {
    "papermill": {
     "duration": 0.054289,
     "end_time": "2024-05-14T19:24:09.082550",
     "exception": false,
     "start_time": "2024-05-14T19:24:09.028261",
     "status": "completed"
    },
    "tags": []
   },
   "outputs": [],
   "source": [
    "run_name = f\"MAINobj_scVI_pretraining_noRBCnPlat\"\n",
    "run_name"
   ]
  },
  {
   "cell_type": "code",
   "execution_count": null,
   "id": "fec631d0-be43-49c1-96a3-8f8b219aa620",
   "metadata": {
    "papermill": {
     "duration": 1.052538,
     "end_time": "2024-05-14T19:24:10.139668",
     "exception": false,
     "start_time": "2024-05-14T19:24:09.087130",
     "status": "completed"
    },
    "tags": []
   },
   "outputs": [],
   "source": [
    "sca.models.SCVI.setup_anndata(adata, \n",
    "                              **setup_kwargs)"
   ]
  },
  {
   "cell_type": "code",
   "execution_count": null,
   "id": "99ba44c8-b551-47bf-9fe8-1e9eba4b0c72",
   "metadata": {
    "papermill": {
     "duration": 0.124144,
     "end_time": "2024-05-14T19:24:10.268503",
     "exception": false,
     "start_time": "2024-05-14T19:24:10.144359",
     "status": "completed"
    },
    "tags": []
   },
   "outputs": [],
   "source": [
    "logger = CustomWandbLogger(name = run_name, project='inflammation_atlas_R1_scANVI', config = scvi_parameter_dict)"
   ]
  },
  {
   "cell_type": "code",
   "execution_count": null,
   "id": "ddc105bb-90d1-4539-bfc2-b7b9600e7353",
   "metadata": {
    "papermill": {
     "duration": 29.695626,
     "end_time": "2024-05-14T19:24:39.968937",
     "exception": false,
     "start_time": "2024-05-14T19:24:10.273311",
     "status": "completed"
    },
    "tags": []
   },
   "outputs": [],
   "source": [
    "scvi_model = sca.models.SCVI(adata, **scvi_kwargs)"
   ]
  },
  {
   "cell_type": "code",
   "execution_count": null,
   "id": "262b5470-c947-44e3-b5ff-4c707a2997fb",
   "metadata": {
    "papermill": {
     "duration": 471.504148,
     "end_time": "2024-05-14T19:32:31.477850",
     "exception": false,
     "start_time": "2024-05-14T19:24:39.973702",
     "status": "completed"
    },
    "tags": []
   },
   "outputs": [],
   "source": [
    "scvi_model.train(logger=logger, datasplitter_kwargs=datasplitter_kwargs, plan_kwargs = plan_kwargs, **trainer_kwargs)"
   ]
  },
  {
   "cell_type": "code",
   "execution_count": null,
   "id": "599af344-d9cc-4893-9f65-40c2c74bc659",
   "metadata": {
    "papermill": {
     "duration": 5.998303,
     "end_time": "2024-05-14T19:32:37.482252",
     "exception": false,
     "start_time": "2024-05-14T19:32:31.483949",
     "status": "completed"
    },
    "tags": []
   },
   "outputs": [],
   "source": [
    "wandb.finish()"
   ]
  },
  {
   "cell_type": "code",
   "execution_count": null,
   "id": "21287012-c472-4af7-896e-e3eb055f5f48",
   "metadata": {
    "papermill": {
     "duration": 0.54756,
     "end_time": "2024-05-14T19:32:38.035870",
     "exception": false,
     "start_time": "2024-05-14T19:32:37.488310",
     "status": "completed"
    },
    "tags": []
   },
   "outputs": [],
   "source": [
    "if overwriteData:\n",
    "    scvi_model.save(here(f\"{workingDir}/results/scVI_model_pretreined_noRBCnPlat/\"), \n",
    "               overwrite = True, \n",
    "               save_anndata = False)"
   ]
  },
  {
   "cell_type": "code",
   "execution_count": null,
   "id": "2ff8243e-e753-470a-9ff2-6f34aaa1d706",
   "metadata": {
    "papermill": {
     "duration": 173.216521,
     "end_time": "2024-05-14T19:35:31.259113",
     "exception": false,
     "start_time": "2024-05-14T19:32:38.042592",
     "status": "completed"
    },
    "tags": []
   },
   "outputs": [],
   "source": [
    "scvi_emb = scvi_model.get_latent_representation(adata=adata)"
   ]
  },
  {
   "cell_type": "code",
   "execution_count": null,
   "id": "bc47465b-8ddd-41ae-93eb-3faaa243cbf1",
   "metadata": {
    "papermill": {
     "duration": 28.144796,
     "end_time": "2024-05-14T19:35:59.410567",
     "exception": false,
     "start_time": "2024-05-14T19:35:31.265771",
     "status": "completed"
    },
    "tags": []
   },
   "outputs": [],
   "source": [
    "np.savez_compressed(file = str(here(f\"{workingDir}/results/scVI_model_pretreined_noRBCnPlat/scVI_embedding.npz\")), arr=scvi_emb)"
   ]
  },
  {
   "cell_type": "code",
   "execution_count": null,
   "id": "006a60a6-118b-4d50-890a-79b59d75528b",
   "metadata": {
    "papermill": {
     "duration": 0.006153,
     "end_time": "2024-05-14T19:35:59.422734",
     "exception": false,
     "start_time": "2024-05-14T19:35:59.416581",
     "status": "completed"
    },
    "tags": []
   },
   "outputs": [],
   "source": []
  }
 ],
 "metadata": {
  "kernelspec": {
   "display_name": "Python 3 (ipykernel)",
   "language": "python",
   "name": "python3"
  },
  "language_info": {
   "codemirror_mode": {
    "name": "ipython",
    "version": 3
   },
   "file_extension": ".py",
   "mimetype": "text/x-python",
   "name": "python",
   "nbconvert_exporter": "python",
   "pygments_lexer": "ipython3",
   "version": "3.9.19"
  },
  "papermill": {
   "default_parameters": {},
   "duration": 833.614402,
   "end_time": "2024-05-14T19:36:02.706613",
   "environment_variables": {},
   "exception": null,
   "input_path": "01_preTraining_scVI.ipynb",
   "output_path": "01_preTraining_scVI.ipynb",
   "parameters": {},
   "start_time": "2024-05-14T19:22:09.092211",
   "version": "2.5.0"
  }
 },
 "nbformat": 4,
 "nbformat_minor": 5
}
