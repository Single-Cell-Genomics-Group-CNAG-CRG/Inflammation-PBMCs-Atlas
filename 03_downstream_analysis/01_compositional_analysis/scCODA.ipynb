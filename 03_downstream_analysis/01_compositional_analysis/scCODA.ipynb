{
 "cells": [
  {
   "cell_type": "markdown",
   "metadata": {},
   "source": [
    "# scCODA - Compositional analysis of single-cell data\n",
    "\n",
    "The scCODA package ([Büttner, Ostner et al., 2020](https://www.biorxiv.org/content/10.1101/2020.12.14.422688v2)) is intended to be used with cell composition from single-cell RNA-seq experiments, however there are no technical restrictions that prevent the use of data from other sources."
   ]
  },
  {
   "cell_type": "markdown",
   "metadata": {},
   "source": [
    "**Load modules**"
   ]
  },
  {
   "cell_type": "code",
   "execution_count": null,
   "metadata": {},
   "outputs": [],
   "source": [
    "# Setup\n",
    "import sys\n",
    "import os\n",
    "import session_info\n",
    "import warnings\n",
    "#from pyprojroot.here import here\n",
    "\n",
    "import pandas as pd\n",
    "import pickle\n",
    "import matplotlib.pyplot as plt\n",
    "import anndata as an\n",
    "import scanpy as sc\n",
    "import pickle\n",
    "\n",
    "warnings.filterwarnings(\"ignore\")\n",
    "#sys.path.insert(1, str(here('bin')))\n",
    "\n",
    "#from customPalette import *\n",
    "\n",
    "from sccoda.util import comp_ana as mod\n",
    "from sccoda.util import cell_composition_data as dat\n",
    "from sccoda.util import data_visualization as viz\n",
    "\n",
    "import matplotlib.colors as mcolors\n",
    "import matplotlib.colors as mcolors\n"
   ]
  },
  {
   "cell_type": "markdown",
   "metadata": {},
   "source": [
    "**Define palette**"
   ]
  },
  {
   "cell_type": "code",
   "execution_count": null,
   "metadata": {},
   "outputs": [],
   "source": [
    "diseases_palette = {\n",
    "  'healthy': \"#808080\",\n",
    "    \n",
    "  'RA': '#264653',\n",
    "  'PS': '#287271',\n",
    "  'PSA': '#2a9d8f',\n",
    "  'CD': '#e76f51',\n",
    "  'UC': '#e9c46a',\n",
    "  'SLE': '#941c2f', \n",
    "  'MS': '#8ab17d',\n",
    "    \n",
    "  'asthma': '#ea698b',\n",
    "  'COPD': '#c05299',\n",
    "  'cirrhosis': '#973aa8',\n",
    "    \n",
    "  'sepsis': '#ef233c',\n",
    "    \n",
    "  'HIV': '#e7ecef',\n",
    "  'HBV': '#a3cef1',\n",
    "  'COVID': '#6096ba', \n",
    "  'flu': '#274c77', \n",
    "    \n",
    "  'BRCA': '#fff75e',\n",
    "  'NPC': '#fdb833',\n",
    "  'HNSCC': '#d9981a',\n",
    "  'CRC': '#9e7524'\n",
    "}\n",
    "\n",
    "annotation_Level1_palette = {\n",
    "      'B': '#7bc6d6',\n",
    "      'Plasma': '#025566',\n",
    "        \n",
    "      'pDC': '#a7c957',\n",
    "      'DC': '#6a994e',\n",
    "      'Mono': '#386641',\n",
    "        \n",
    "      'T_CD4_Naive': '#fff3b0',\n",
    "      'T_CD4_NonNaive': '#e09f3e',\n",
    "      'T_CD8_Naive': '#9e2a2b',\n",
    "      'T_CD8_NonNaive': '#540b0e',\n",
    "        \n",
    "      'UTC': '#88657f',\n",
    "      'ILC': '#67253a',\n",
    "        \n",
    "      'Cycling_cells': '#d4a373',\n",
    "      'Progenitors': '#ccd5ae',\n",
    "    \n",
    "#    'Platelets': '#808080',  # To remove\n",
    "#    'RBC': '#000000'         # To remove\n",
    "}\n"
   ]
  },
  {
   "cell_type": "code",
   "execution_count": null,
   "metadata": {
    "execution": {
     "iopub.status.busy": "2024-06-12T08:28:51.198491Z",
     "iopub.status.idle": "2024-06-12T08:28:51.198695Z",
     "shell.execute_reply": "2024-06-12T08:28:51.198604Z",
     "shell.execute_reply.started": "2024-06-12T08:28:51.198594Z"
    }
   },
   "outputs": [],
   "source": [
    "ct_colors = [annotation_Level1_palette[key] for key in annotation_Level1_palette]\n",
    "ct_map = ListedColormap(colors)\n",
    "\n",
    "dis_colors = [diseases_palette[key] for key in diseases_palette]\n",
    "dis_cmap = ListedColormap(dis_colors)"
   ]
  },
  {
   "cell_type": "markdown",
   "metadata": {},
   "source": [
    "**Define parameters**"
   ]
  },
  {
   "cell_type": "code",
   "execution_count": null,
   "metadata": {
    "execution": {
     "iopub.execute_input": "2024-07-02T07:39:05.787494Z",
     "iopub.status.busy": "2024-07-02T07:39:05.787318Z",
     "iopub.status.idle": "2024-07-02T07:39:05.792842Z",
     "shell.execute_reply": "2024-07-02T07:39:05.792500Z",
     "shell.execute_reply.started": "2024-07-02T07:39:05.787473Z"
    }
   },
   "outputs": [],
   "source": [
    "# Paths\n",
    "workDir = \"Inflammation-PBMCs-Atlas/\"\n",
    "scCODADir = \"{}/03_downstream_analysis/01_compositional_analysis/scCODA/\".format(workDir)\n",
    "comparisonDir = \"{}/03_downstream_analysis/01_compositional_analysis/scCODA/comparisons\".format(workDir)"
   ]
  },
  {
   "cell_type": "markdown",
   "metadata": {},
   "source": [
    "# Load data"
   ]
  },
  {
   "cell_type": "raw",
   "metadata": {},
   "source": [
    "adata = sc.read_h5ad(\"{}/04_visualizing_final_embedding_space/results/05_INFLAMMATION_DEGedgeR_HVG_immunoExt_allPatient_scGen.h5ad\".format(workDir))\n",
    "adata"
   ]
  },
  {
   "cell_type": "code",
   "execution_count": null,
   "metadata": {},
   "outputs": [],
   "source": [
    "celltype_column = \"Level1\"\n",
    "disease_column = \"disease\"\n",
    "patient_column = \"sampleID\"\n",
    "disease_patient_col = \"sampleID_disease\"\n",
    "level = celltype_column\n",
    "\n",
    "disease_order = list(diseases_palette.keys())\n",
    "celltype_order = list(annotation_Level1_palette.keys())"
   ]
  },
  {
   "cell_type": "code",
   "execution_count": null,
   "metadata": {},
   "outputs": [],
   "source": [
    "adata = sc.read_h5ad(\"{}/03_downstream_analysis/02_gene_universe_definition/results/04_MAIN_geneUniverse.log1p.h5ad\".format(workDir))\n",
    "adata = adata[~adata.obs[celltype_column].isin(['RBC', 'Platelets'])].copy()\n",
    "adata"
   ]
  },
  {
   "cell_type": "markdown",
   "metadata": {},
   "source": [
    "# Differential abundance analysis: Disease vs healthy"
   ]
  },
  {
   "cell_type": "code",
   "execution_count": null,
   "metadata": {},
   "outputs": [],
   "source": [
    "dis_df = {}\n",
    "for disease in disease_order:\n",
    "    if disease != \"healthy\":\n",
    "        print(disease)\n",
    "    # Create folder to store the results\n",
    "        dis_comparisonDir = \"{}/{}/\".format(comparisonDir, disease)\n",
    "        if not os.path.exists(dis_comparisonDir):\n",
    "            os.makedirs(dis_comparisonDir)\n",
    "    # Subset the comparison to healthy + disease\n",
    "        data = adata[adata.obs[disease_column].isin([\"healthy\", disease])].copy()\n",
    "    # Process data for scCODA \n",
    "        data.obs[disease_patient_col] =  data.obs[disease_column].astype(str) + \"_\" + data.obs[patient_column].astype(str)\n",
    "        ## Group the data by 'cell_type' and 'disease', and count the cells in each group\n",
    "        counts_df = data.obs.groupby([disease_patient_col, celltype_column]).size().reset_index(name='cell_count')\n",
    "        counts_pivot = counts_df.pivot(index=disease_patient_col, columns=celltype_column, values='cell_count')\n",
    "        counts_pivot = counts_pivot[celltype_order]\n",
    "        counts_pivot = counts_pivot.fillna(0)\n",
    "        columns_to_convert = [col for col in counts_pivot.columns if col != 'patient_disease']\n",
    "        counts_pivot[columns_to_convert] = counts_pivot[columns_to_convert].astype(int)\n",
    "        counts_pivot.reset_index(inplace=True)\n",
    "        covariate_columns = [disease_patient_col,\n",
    "                             patient_column, \n",
    "                             disease_column, \n",
    "                             \"binned_age\", \n",
    "                             \"sex\"]\n",
    "        patient_info = data.obs[covariate_columns].drop_duplicates()\n",
    "        counts_pivot = pd.merge(counts_pivot, patient_info, on=disease_patient_col, how='left')\n",
    "        counts_pivot['disease'] = pd.Categorical(counts_pivot['disease'], categories=[disease, \"healthy\"], ordered=True)\n",
    "        counts_pivot = counts_pivot.sort_values(by='disease')\n",
    "        ## Save\n",
    "        df_path = \"{}/{}/{}_counts.csv\".format(comparisonDir, disease, disease)\n",
    "        counts_pivot.to_csv(df_path, index=True)\n",
    "        patient_names = counts_pivot.disease\n",
    "        disease_names = counts_pivot.disease.unique()\n",
    "        data_all = dat.from_pandas(\n",
    "            counts_pivot, \n",
    "            covariate_columns=covariate_columns) \n",
    "        dis_df[disease] = data_all"
   ]
  },
  {
   "cell_type": "markdown",
   "metadata": {},
   "source": [
    "## Find reference celltype for each disease"
   ]
  },
  {
   "cell_type": "markdown",
   "metadata": {},
   "source": [
    "**Define reference celltypes**\n"
   ]
  },
  {
   "cell_type": "code",
   "execution_count": null,
   "metadata": {},
   "outputs": [],
   "source": [
    "for disease in disease_order:\n",
    "    dis_comparisonDir = \"{}/{}/\".format(comparisonDir, disease)\n",
    "    if disease == \"healthy\":\n",
    "         print(\"****** Skipping {}\".format(disease))\n",
    "    if disease != \"healthy\":\n",
    "        print(\"****** Computing plots for {}\".format(disease))\n",
    "        data_all = dis_df[disease]\n",
    "        # Compositional analysis\n",
    "        ## ****** BOXPLOTS ******\n",
    "        ### Grouped boxplots. No facets, relative abundance, no dots.\n",
    "        figure_name = \"{}/02_reference_celltype.pdf\".format(dis_comparisonDir)\n",
    "        from matplotlib import cm, rcParams\n",
    "        viz.rel_abundance_dispersion_plot(\n",
    "            data=data_all,\n",
    "            abundant_threshold=0.9\n",
    "        )\n",
    "        figure = plt.gcf()\n",
    "        figure.set_size_inches(25, 15)\n",
    "        figure.savefig(figure_name,\n",
    "                      bbox_inches='tight')"
   ]
  },
  {
   "cell_type": "code",
   "execution_count": null,
   "metadata": {},
   "outputs": [],
   "source": [
    "ref_celltype = \"DC\""
   ]
  },
  {
   "cell_type": "markdown",
   "metadata": {},
   "source": [
    "## Compute scCODA"
   ]
  },
  {
   "cell_type": "markdown",
   "metadata": {},
   "source": [
    "**All diseases**"
   ]
  },
  {
   "cell_type": "code",
   "execution_count": null,
   "metadata": {},
   "outputs": [],
   "source": [
    "formula_parameter = \"C(disease, Treatment('healthy')) + C(sex) + C(binned_age)\"\n",
    "comparisonDir = \"{}/comparisons\".format(scCODADir)\n",
    "for disease in disease_order:\n",
    "    if disease != \"healthy\":\n",
    "        print(\"****** Computing scCODA model for {}\".format(disease))\n",
    "        dis_comparisonDir = \"{}/{}\".format(comparisonDir, disease)\n",
    "        data_all = dis_df[disease]\n",
    "        if disease == \"HBV\": # One patient with binned_age = NA --> ERROR\n",
    "            data_all.obs['binned_age_str'] = data_all.obs['binned_age'].astype(str)\n",
    "            valid_indices = data_all.obs[data_all.obs['binned_age_str'] != 'nan'].index\n",
    "            data_all = data_all[valid_indices].copy()\n",
    "            del data_all.obs['binned_age_str']\n",
    "        model = mod.CompositionalAnalysis(\n",
    "            data_all, \n",
    "            formula = formula_parameter, \n",
    "            reference_cell_type = ref_celltype \n",
    "        )\n",
    "        all_results = model.sample_hmc() \n",
    "        # Save results \n",
    "        path_to_save = \"{}/{}/\".format(comparisonDir, disease)\n",
    "        model_path = \"{}/{}_scCODA_output_{}_{}.pkl\".format(path_to_save, disease, formula_parameter, ref_celltype)\n",
    "        df_path = \"{}/{}_all_results_{}_{}.csv\".format(path_to_save, disease, formula_parameter, ref_celltype)\n",
    "        ## Model\n",
    "        with open(model_path, 'wb') as file:\n",
    "            pickle.dump(all_results, file)\n",
    "        file.close()\n",
    "        ## DF\n",
    "        df = all_results.effect_df\n",
    "        df.to_csv(df_path, index=True)"
   ]
  }
 ],
 "metadata": {
  "kernelspec": {
   "display_name": "Python 3 (ipykernel)",
   "language": "python",
   "name": "python3"
  },
  "language_info": {
   "codemirror_mode": {
    "name": "ipython",
    "version": 3
   },
   "file_extension": ".py",
   "mimetype": "text/x-python",
   "name": "python",
   "nbconvert_exporter": "python",
   "pygments_lexer": "ipython3",
   "version": "3.10.13"
  },
  "toc": {
   "base_numbering": 1,
   "nav_menu": {},
   "number_sections": true,
   "sideBar": true,
   "skip_h1_title": false,
   "title_cell": "Table of Contents",
   "title_sidebar": "Contents",
   "toc_cell": false,
   "toc_position": {},
   "toc_section_display": true,
   "toc_window_display": false
  }
 },
 "nbformat": 4,
 "nbformat_minor": 4
}
