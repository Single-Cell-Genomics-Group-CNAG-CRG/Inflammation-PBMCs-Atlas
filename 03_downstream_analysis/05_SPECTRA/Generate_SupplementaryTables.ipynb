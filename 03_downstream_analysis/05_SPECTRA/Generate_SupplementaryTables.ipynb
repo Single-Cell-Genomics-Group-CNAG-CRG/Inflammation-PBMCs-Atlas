{
 "cells": [
  {
   "cell_type": "code",
   "execution_count": 3,
   "id": "be8330bc-5d4d-4c50-a420-32dbd1656cd7",
   "metadata": {
    "execution": {
     "iopub.execute_input": "2024-06-19T07:47:51.682080Z",
     "iopub.status.busy": "2024-06-19T07:47:51.681735Z",
     "iopub.status.idle": "2024-06-19T07:47:51.695251Z",
     "shell.execute_reply": "2024-06-19T07:47:51.694805Z",
     "shell.execute_reply.started": "2024-06-19T07:47:51.682062Z"
    }
   },
   "outputs": [],
   "source": [
    "import pandas as pd\n",
    "import numpy as np\n",
    "import pickle\n",
    "import os\n",
    "import sys\n",
    "import scanpy as sc\n",
    "import anndata as an\n",
    "from pyprojroot import here\n",
    "\n",
    "import warnings\n",
    "warnings.filterwarnings('ignore')"
   ]
  },
  {
   "cell_type": "markdown",
   "id": "89821665-dd28-41cc-a448-6fe41e1c8745",
   "metadata": {},
   "source": [
    "# Load objects"
   ]
  },
  {
   "cell_type": "markdown",
   "id": "ae6e21c3-50f1-4e60-829d-cc6d5340674d",
   "metadata": {},
   "source": [
    "**Table S3-A: Imput GeneSets**"
   ]
  },
  {
   "cell_type": "code",
   "execution_count": 18,
   "id": "53942b49-9aa3-4c0a-a17d-21818bf0f4d6",
   "metadata": {
    "execution": {
     "iopub.execute_input": "2024-06-19T08:16:26.268533Z",
     "iopub.status.busy": "2024-06-19T08:16:26.268139Z",
     "iopub.status.idle": "2024-06-19T08:16:26.287625Z",
     "shell.execute_reply": "2024-06-19T08:16:26.287167Z",
     "shell.execute_reply.started": "2024-06-19T08:16:26.268512Z"
    }
   },
   "outputs": [],
   "source": [
    "with open(here('03_downstream_analysis/05_SPECTRA/results/SPECTRA_GeneSet_symbol_v2.pickle'), 'rb') as f:\n",
    "    spectra_gene_set_dict = pickle.load(f)"
   ]
  },
  {
   "cell_type": "markdown",
   "id": "bd4a0a69-37d3-4a77-a8cc-a7d0cd4c5f3b",
   "metadata": {},
   "source": [
    "**Table S3-B: Factor Weights**"
   ]
  },
  {
   "cell_type": "code",
   "execution_count": 9,
   "id": "87fcc2e8-42cf-469b-a99d-2b6bdb4592ba",
   "metadata": {
    "execution": {
     "iopub.execute_input": "2024-06-19T07:52:45.424059Z",
     "iopub.status.busy": "2024-06-19T07:52:45.423750Z",
     "iopub.status.idle": "2024-06-19T07:52:45.801911Z",
     "shell.execute_reply": "2024-06-19T07:52:45.801350Z",
     "shell.execute_reply.started": "2024-06-19T07:52:45.424039Z"
    }
   },
   "outputs": [],
   "source": [
    "gene_weights = pd.read_csv(here('03_downstream_analysis/05_SPECTRA/results/SPECTRAFactor_Renamed_Processed_LAM0.001_S0.6_GeneWeights.csv'), index_col=0)"
   ]
  },
  {
   "cell_type": "markdown",
   "id": "6f213855-731e-4549-8860-59b2a9724f49",
   "metadata": {},
   "source": [
    "**Table S3-C: Factor Markers** "
   ]
  },
  {
   "cell_type": "code",
   "execution_count": 10,
   "id": "291c99b0-1ba9-4cfd-8543-6c7de4e32abc",
   "metadata": {
    "execution": {
     "iopub.execute_input": "2024-06-19T07:52:50.432255Z",
     "iopub.status.busy": "2024-06-19T07:52:50.431938Z",
     "iopub.status.idle": "2024-06-19T07:52:50.447568Z",
     "shell.execute_reply": "2024-06-19T07:52:50.447099Z",
     "shell.execute_reply.started": "2024-06-19T07:52:50.432237Z"
    }
   },
   "outputs": [],
   "source": [
    "gene_factor_df = pd.read_csv(here('03_downstream_analysis/05_SPECTRA/results/SPECTRAFactor_Processed_LAM0.001_S0.6_NonCellIdentitymarkersDF.csv'), index_col=0)\n",
    "gene_factor_df.columns = gene_weights.index"
   ]
  },
  {
   "cell_type": "markdown",
   "id": "7b1c2756-b44f-423b-bb96-bce30815b99f",
   "metadata": {},
   "source": [
    "# Generate Tables"
   ]
  },
  {
   "cell_type": "code",
   "execution_count": 29,
   "id": "e6722e77-b129-4354-a793-993040d3f056",
   "metadata": {
    "execution": {
     "iopub.execute_input": "2024-06-19T09:06:55.001329Z",
     "iopub.status.busy": "2024-06-19T09:06:55.000850Z",
     "iopub.status.idle": "2024-06-19T09:06:55.067077Z",
     "shell.execute_reply": "2024-06-19T09:06:55.066544Z",
     "shell.execute_reply.started": "2024-06-19T09:06:55.001311Z"
    }
   },
   "outputs": [],
   "source": [
    "varDF = pd.read_csv(here('03_downstream_analysis/05_SPECTRA/results/varDF.csv'), index_col=0)\n",
    "ensg_to_symbol = varDF['symbol'].to_dict()"
   ]
  },
  {
   "cell_type": "markdown",
   "id": "27ca2c27-38a9-44bf-925e-4e4c865942cb",
   "metadata": {},
   "source": [
    "## Input GeneSets"
   ]
  },
  {
   "cell_type": "code",
   "execution_count": 19,
   "id": "efc3d38c-47cb-43a4-a03f-b559cb4816ce",
   "metadata": {
    "execution": {
     "iopub.execute_input": "2024-06-19T08:16:28.792625Z",
     "iopub.status.busy": "2024-06-19T08:16:28.792165Z",
     "iopub.status.idle": "2024-06-19T08:16:28.796035Z",
     "shell.execute_reply": "2024-06-19T08:16:28.795670Z",
     "shell.execute_reply.started": "2024-06-19T08:16:28.792606Z"
    }
   },
   "outputs": [],
   "source": [
    "def dict_to_dataframe(data_dict):\n",
    "    max_len = max(len(v) for v in data_dict.values())  # Get the maximum length of values\n",
    "\n",
    "    # Create a dictionary with Series that are padded with NaN where necessary\n",
    "    filled_dict = {k: pd.Series(v + [np.nan] * (max_len - len(v))) for k, v in data_dict.items()}\n",
    "\n",
    "    # Convert the filled dictionary to a DataFrame\n",
    "    df = pd.DataFrame(filled_dict)\n",
    "\n",
    "    return df"
   ]
  },
  {
   "cell_type": "code",
   "execution_count": 22,
   "id": "e977b717-5ba9-4d84-a03f-0fca5f7314a4",
   "metadata": {
    "execution": {
     "iopub.execute_input": "2024-06-19T08:19:02.845119Z",
     "iopub.status.busy": "2024-06-19T08:19:02.844571Z",
     "iopub.status.idle": "2024-06-19T08:19:03.166632Z",
     "shell.execute_reply": "2024-06-19T08:19:03.166126Z",
     "shell.execute_reply.started": "2024-06-19T08:19:02.845099Z"
    }
   },
   "outputs": [],
   "source": [
    "excel_file = here('03_downstream_analysis/05_SPECTRA/results/SPECTRA_input_GeneSets.xlsx')\n",
    "with pd.ExcelWriter(excel_file) as writer:\n",
    "    # Iterate over each dictionary and convert to DataFrame and save as sheets\n",
    "    for sheet_name, data_dict in spectra_gene_set_dict.items():\n",
    "        df = dict_to_dataframe(data_dict)\n",
    "        df.to_excel(writer, sheet_name=sheet_name, index=False)"
   ]
  },
  {
   "cell_type": "markdown",
   "id": "9d02076a-1e98-403d-932a-f3cf155aa278",
   "metadata": {},
   "source": [
    "## GeneWeights and GeneFactors"
   ]
  },
  {
   "cell_type": "code",
   "execution_count": 39,
   "id": "5dcef976-fea8-41f8-9c5c-0a688234dd8c",
   "metadata": {
    "execution": {
     "iopub.execute_input": "2024-06-19T09:11:07.910316Z",
     "iopub.status.busy": "2024-06-19T09:11:07.910028Z",
     "iopub.status.idle": "2024-06-19T09:11:07.918863Z",
     "shell.execute_reply": "2024-06-19T09:11:07.918429Z",
     "shell.execute_reply.started": "2024-06-19T09:11:07.910296Z"
    }
   },
   "outputs": [],
   "source": [
    "# GeneWeights\n",
    "gene_weights_symbol = gene_weights.rename(columns=ensg_to_symbol)"
   ]
  },
  {
   "cell_type": "code",
   "execution_count": 40,
   "id": "785b99d6-3463-4773-8803-233b8374e5f6",
   "metadata": {
    "execution": {
     "iopub.execute_input": "2024-06-19T09:11:11.036854Z",
     "iopub.status.busy": "2024-06-19T09:11:11.035567Z",
     "iopub.status.idle": "2024-06-19T09:11:11.044668Z",
     "shell.execute_reply": "2024-06-19T09:11:11.044237Z",
     "shell.execute_reply.started": "2024-06-19T09:11:11.036834Z"
    }
   },
   "outputs": [],
   "source": [
    "# GeneFactors\n",
    "gene_factor_symbol = gene_factor_df.copy()\n",
    "gene_factor_symbol.index = gene_factor_df.index.map(ensg_to_symbol)"
   ]
  },
  {
   "cell_type": "code",
   "execution_count": 42,
   "id": "a23ee2b8-fbde-4d4c-b0be-78cb2a8dde39",
   "metadata": {
    "execution": {
     "iopub.execute_input": "2024-06-19T09:19:59.392077Z",
     "iopub.status.busy": "2024-06-19T09:19:59.391561Z",
     "iopub.status.idle": "2024-06-19T09:20:21.664911Z",
     "shell.execute_reply": "2024-06-19T09:20:21.664075Z",
     "shell.execute_reply.started": "2024-06-19T09:19:59.392059Z"
    }
   },
   "outputs": [],
   "source": [
    "excel_file = here('03_downstream_analysis/05_SPECTRA/results/SPECTRA_output.xlsx')\n",
    "with pd.ExcelWriter(excel_file) as writer:\n",
    "    # Write each DataFrame to a different sheet\n",
    "    gene_weights_symbol.to_excel(writer, sheet_name='GeneWeights')\n",
    "    gene_factor_symbol.to_excel(writer, sheet_name='FactorGenes')"
   ]
  }
 ],
 "metadata": {
  "kernelspec": {
   "display_name": "Python 3 (ipykernel)",
   "language": "python",
   "name": "python3"
  },
  "language_info": {
   "codemirror_mode": {
    "name": "ipython",
    "version": 3
   },
   "file_extension": ".py",
   "mimetype": "text/x-python",
   "name": "python",
   "nbconvert_exporter": "python",
   "pygments_lexer": "ipython3",
   "version": "3.11.5"
  }
 },
 "nbformat": 4,
 "nbformat_minor": 5
}
