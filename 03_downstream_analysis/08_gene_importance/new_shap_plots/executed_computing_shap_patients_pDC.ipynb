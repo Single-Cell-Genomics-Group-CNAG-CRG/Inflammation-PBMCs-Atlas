{
 "cells": [
  {
   "cell_type": "code",
   "execution_count": 1,
   "id": "ecdeab4f",
   "metadata": {
    "execution": {
     "iopub.execute_input": "2024-09-01T11:08:22.237758Z",
     "iopub.status.busy": "2024-09-01T11:08:22.237436Z",
     "iopub.status.idle": "2024-09-01T11:08:22.240235Z",
     "shell.execute_reply": "2024-09-01T11:08:22.239799Z"
    },
    "papermill": {
     "duration": 0.151929,
     "end_time": "2024-09-01T11:08:22.241066",
     "exception": false,
     "start_time": "2024-09-01T11:08:22.089137",
     "status": "completed"
    },
    "tags": [
     "injected-parameters"
    ]
   },
   "outputs": [],
   "source": [
    "# Parameters\n",
    "cell_type = \"pDC\"\n"
   ]
  },
  {
   "cell_type": "code",
   "execution_count": 2,
   "id": "7d9f9d3c-d92d-4087-bf7e-ac2459cb11f2",
   "metadata": {
    "execution": {
     "iopub.execute_input": "2024-09-01T11:08:22.262358Z",
     "iopub.status.busy": "2024-09-01T11:08:22.262045Z",
     "iopub.status.idle": "2024-09-01T11:08:23.831499Z",
     "shell.execute_reply": "2024-09-01T11:08:23.830830Z"
    },
    "papermill": {
     "duration": 1.580435,
     "end_time": "2024-09-01T11:08:23.832522",
     "exception": false,
     "start_time": "2024-09-01T11:08:22.252087",
     "status": "completed"
    },
    "tags": []
   },
   "outputs": [],
   "source": [
    "import sys\n",
    "import os\n",
    "\n",
    "import anndata as ad\n",
    "\n",
    "import pandas as pd\n",
    "import numpy as np\n",
    "\n",
    "from pyprojroot import here\n",
    "\n",
    "import re\n",
    "\n",
    "from tqdm import tqdm"
   ]
  },
  {
   "cell_type": "raw",
   "id": "c0757c2a-16e9-4863-8678-ad408c94695a",
   "metadata": {
    "execution": {
     "iopub.execute_input": "2024-09-01T10:21:08.081976Z",
     "iopub.status.busy": "2024-09-01T10:21:08.081673Z",
     "iopub.status.idle": "2024-09-01T10:21:08.084092Z",
     "shell.execute_reply": "2024-09-01T10:21:08.083792Z",
     "shell.execute_reply.started": "2024-09-01T10:21:08.081957Z"
    },
    "papermill": {
     "duration": 0.003858,
     "end_time": "2024-09-01T11:08:23.846724",
     "exception": false,
     "start_time": "2024-09-01T11:08:23.842866",
     "status": "completed"
    },
    "tags": []
   },
   "source": [
    "cell_type = 'Mono'"
   ]
  },
  {
   "cell_type": "code",
   "execution_count": 3,
   "id": "d2727fc1-e648-4c93-9db2-b52261cc0973",
   "metadata": {
    "execution": {
     "iopub.execute_input": "2024-09-01T11:08:23.856204Z",
     "iopub.status.busy": "2024-09-01T11:08:23.855813Z",
     "iopub.status.idle": "2024-09-01T11:08:23.859930Z",
     "shell.execute_reply": "2024-09-01T11:08:23.859467Z"
    },
    "papermill": {
     "duration": 0.010151,
     "end_time": "2024-09-01T11:08:23.860827",
     "exception": false,
     "start_time": "2024-09-01T11:08:23.850676",
     "status": "completed"
    },
    "tags": []
   },
   "outputs": [],
   "source": [
    "def load_sorted_shap_values_fnames(\n",
    "    cell_type: str = '',\n",
    "    run_name: str = 'run1'):\n",
    "\n",
    "    dirpath = here(f\"inflammabucket_bkp/03_downstream_analysis/05_SHAP/results/04_shap/shap_vals\")\n",
    "    fname_regex = f'^{run_name}_{cell_type}_shap_values_' + r'(\\d+)'\n",
    "    results_batches = [\n",
    "        (fname, int(re.search(fname_regex, fname).group(1)))\n",
    "        for fname in os.listdir(dirpath)\n",
    "        if re.search(fname_regex, fname)]\n",
    "\n",
    "    sorted_files = sorted(results_batches, key=lambda x: x[1])\n",
    "\n",
    "    sorted_filenames = [os.path.join(dirpath, filename) for filename, _ in sorted_files]\n",
    "\n",
    "    return sorted_filenames"
   ]
  },
  {
   "cell_type": "code",
   "execution_count": 4,
   "id": "e10ca0d3-2089-4dca-b377-2e062d331e1a",
   "metadata": {
    "execution": {
     "iopub.execute_input": "2024-09-01T11:08:23.870113Z",
     "iopub.status.busy": "2024-09-01T11:08:23.869742Z",
     "iopub.status.idle": "2024-09-01T11:08:31.517816Z",
     "shell.execute_reply": "2024-09-01T11:08:31.517085Z"
    },
    "papermill": {
     "duration": 7.653996,
     "end_time": "2024-09-01T11:08:31.518842",
     "exception": false,
     "start_time": "2024-09-01T11:08:23.864846",
     "status": "completed"
    },
    "tags": []
   },
   "outputs": [
    {
     "name": "stderr",
     "output_type": "stream",
     "text": [
      "\r",
      "  0%|          | 0/3 [00:00<?, ?it/s]"
     ]
    },
    {
     "name": "stderr",
     "output_type": "stream",
     "text": [
      "\r",
      " 33%|███▎      | 1/3 [00:03<00:07,  3.81s/it]"
     ]
    },
    {
     "name": "stderr",
     "output_type": "stream",
     "text": [
      "\r",
      " 67%|██████▋   | 2/3 [00:06<00:03,  3.19s/it]"
     ]
    },
    {
     "name": "stderr",
     "output_type": "stream",
     "text": [
      "\r",
      "100%|██████████| 3/3 [00:07<00:00,  2.22s/it]"
     ]
    },
    {
     "name": "stderr",
     "output_type": "stream",
     "text": [
      "\r",
      "100%|██████████| 3/3 [00:07<00:00,  2.55s/it]"
     ]
    },
    {
     "name": "stderr",
     "output_type": "stream",
     "text": [
      "\n"
     ]
    }
   ],
   "source": [
    "shap_val_list = [np.load(fname)['shap_values'] for fname in tqdm(load_sorted_shap_values_fnames(cell_type))] \n"
   ]
  },
  {
   "cell_type": "code",
   "execution_count": 5,
   "id": "729012ec-dd58-4fb6-80bd-05ad35695f84",
   "metadata": {
    "execution": {
     "iopub.execute_input": "2024-09-01T11:08:31.527795Z",
     "iopub.status.busy": "2024-09-01T11:08:31.527592Z",
     "iopub.status.idle": "2024-09-01T11:08:32.130683Z",
     "shell.execute_reply": "2024-09-01T11:08:32.129985Z"
    },
    "papermill": {
     "duration": 0.608801,
     "end_time": "2024-09-01T11:08:32.131547",
     "exception": false,
     "start_time": "2024-09-01T11:08:31.522746",
     "status": "completed"
    },
    "tags": []
   },
   "outputs": [],
   "source": [
    "adata = ad.read_h5ad(here(f'inflammabucket_bkp/03_downstream_analysis/05_SHAP/data/{cell_type}_adataMerged_SPECTRAgenes.log1p.h5ad'), backed='r')"
   ]
  },
  {
   "cell_type": "code",
   "execution_count": 6,
   "id": "70e8f69a-71a9-4186-8751-5374deacfe31",
   "metadata": {
    "execution": {
     "iopub.execute_input": "2024-09-01T11:08:32.269827Z",
     "iopub.status.busy": "2024-09-01T11:08:32.269324Z",
     "iopub.status.idle": "2024-09-01T11:08:32.278455Z",
     "shell.execute_reply": "2024-09-01T11:08:32.277991Z"
    },
    "papermill": {
     "duration": 0.140006,
     "end_time": "2024-09-01T11:08:32.279324",
     "exception": false,
     "start_time": "2024-09-01T11:08:32.139318",
     "status": "completed"
    },
    "tags": []
   },
   "outputs": [],
   "source": [
    "## Gene symbols and Disease labels\n",
    "symbols_df = pd.read_pickle(here('inflammabucket_bkp/03_downstream_analysis/04_selected_gene_list.pkl'))\n",
    "symbols_sorted = symbols_df.loc[adata.var_names].symbol.values\n",
    "\n",
    "DISEASES = ['BRCA', 'CD', 'COPD', 'COVID', 'CRC', 'HBV', 'HIV', 'HNSCC', 'MS', 'NPC', 'PS', 'PSA', 'RA', 'SLE', 'UC', 'asthma', 'cirrhosis', 'flu', 'healthy', 'sepsis']\n",
    "\n",
    "diseaseDict = dict()\n",
    "for d in DISEASES:\n",
    "    diseaseDict[d] = []"
   ]
  },
  {
   "cell_type": "code",
   "execution_count": 7,
   "id": "30024bf4-26b9-4f1e-b838-6d5c82e6360c",
   "metadata": {
    "execution": {
     "iopub.execute_input": "2024-09-01T11:08:32.290756Z",
     "iopub.status.busy": "2024-09-01T11:08:32.290614Z",
     "iopub.status.idle": "2024-09-01T11:08:32.490869Z",
     "shell.execute_reply": "2024-09-01T11:08:32.490172Z"
    },
    "papermill": {
     "duration": 0.207123,
     "end_time": "2024-09-01T11:08:32.491700",
     "exception": false,
     "start_time": "2024-09-01T11:08:32.284577",
     "status": "completed"
    },
    "tags": []
   },
   "outputs": [],
   "source": [
    "shape_values_matrix = np.concatenate(shap_val_list)"
   ]
  },
  {
   "cell_type": "code",
   "execution_count": 8,
   "id": "470a80d5-2725-4945-b55c-c87b3704d610",
   "metadata": {
    "execution": {
     "iopub.execute_input": "2024-09-01T11:08:32.557498Z",
     "iopub.status.busy": "2024-09-01T11:08:32.557049Z",
     "iopub.status.idle": "2024-09-01T11:08:34.570126Z",
     "shell.execute_reply": "2024-09-01T11:08:34.569424Z"
    },
    "papermill": {
     "duration": 2.019538,
     "end_time": "2024-09-01T11:08:34.571028",
     "exception": false,
     "start_time": "2024-09-01T11:08:32.551490",
     "status": "completed"
    },
    "tags": []
   },
   "outputs": [
    {
     "name": "stderr",
     "output_type": "stream",
     "text": [
      "\r",
      "  0%|          | 0/775 [00:00<?, ?it/s]"
     ]
    },
    {
     "name": "stderr",
     "output_type": "stream",
     "text": [
      "\r",
      "  6%|▌         | 45/775 [00:00<00:01, 445.29it/s]"
     ]
    },
    {
     "name": "stderr",
     "output_type": "stream",
     "text": [
      "\r",
      " 12%|█▏        | 96/775 [00:00<00:01, 480.07it/s]"
     ]
    },
    {
     "name": "stderr",
     "output_type": "stream",
     "text": [
      "\r",
      " 19%|█▉        | 148/775 [00:00<00:01, 495.07it/s]"
     ]
    },
    {
     "name": "stderr",
     "output_type": "stream",
     "text": [
      "\r",
      " 26%|██▌       | 198/775 [00:00<00:01, 375.13it/s]"
     ]
    },
    {
     "name": "stderr",
     "output_type": "stream",
     "text": [
      "\r",
      " 32%|███▏      | 248/775 [00:00<00:01, 412.00it/s]"
     ]
    },
    {
     "name": "stderr",
     "output_type": "stream",
     "text": [
      "\r",
      " 38%|███▊      | 295/775 [00:00<00:01, 428.85it/s]"
     ]
    },
    {
     "name": "stderr",
     "output_type": "stream",
     "text": [
      "\r",
      " 44%|████▍     | 343/775 [00:00<00:00, 442.63it/s]"
     ]
    },
    {
     "name": "stderr",
     "output_type": "stream",
     "text": [
      "\r",
      " 50%|█████     | 389/775 [00:00<00:00, 391.94it/s]"
     ]
    },
    {
     "name": "stderr",
     "output_type": "stream",
     "text": [
      "\r",
      " 56%|█████▌    | 431/775 [00:01<00:01, 318.42it/s]"
     ]
    },
    {
     "name": "stderr",
     "output_type": "stream",
     "text": [
      "\r",
      " 62%|██████▏   | 480/775 [00:01<00:00, 358.25it/s]"
     ]
    },
    {
     "name": "stderr",
     "output_type": "stream",
     "text": [
      "\r",
      " 68%|██████▊   | 528/775 [00:01<00:00, 387.92it/s]"
     ]
    },
    {
     "name": "stderr",
     "output_type": "stream",
     "text": [
      "\r",
      " 74%|███████▍  | 577/775 [00:01<00:00, 413.19it/s]"
     ]
    },
    {
     "name": "stderr",
     "output_type": "stream",
     "text": [
      "\r",
      " 80%|████████  | 621/775 [00:01<00:00, 412.70it/s]"
     ]
    },
    {
     "name": "stderr",
     "output_type": "stream",
     "text": [
      "\r",
      " 86%|████████▌ | 664/775 [00:01<00:00, 314.69it/s]"
     ]
    },
    {
     "name": "stderr",
     "output_type": "stream",
     "text": [
      "\r",
      " 91%|█████████▏| 709/775 [00:01<00:00, 344.35it/s]"
     ]
    },
    {
     "name": "stderr",
     "output_type": "stream",
     "text": [
      "\r",
      " 97%|█████████▋| 753/775 [00:01<00:00, 366.98it/s]"
     ]
    },
    {
     "name": "stderr",
     "output_type": "stream",
     "text": [
      "\r",
      "100%|██████████| 775/775 [00:02<00:00, 386.44it/s]"
     ]
    },
    {
     "name": "stderr",
     "output_type": "stream",
     "text": [
      "\n"
     ]
    }
   ],
   "source": [
    "for idx, values in tqdm(adata.obs.groupby('sampleID', observed=True).indices.items()):\n",
    "    geneXdisease_sample_i = pd.DataFrame(shape_values_matrix[values].mean(0))\n",
    "    geneXdisease_sample_i.columns = DISEASES\n",
    "    geneXdisease_sample_i.index = symbols_sorted\n",
    "    for d in geneXdisease_sample_i.columns:\n",
    "        diseaseDict[d].append(pd.DataFrame.from_dict({idx:geneXdisease_sample_i[d]}))"
   ]
  },
  {
   "cell_type": "code",
   "execution_count": 9,
   "id": "86ec17e8-ee14-4724-b84a-0a176feb933b",
   "metadata": {
    "execution": {
     "iopub.execute_input": "2024-09-01T11:08:34.605901Z",
     "iopub.status.busy": "2024-09-01T11:08:34.605387Z",
     "iopub.status.idle": "2024-09-01T11:08:57.047290Z",
     "shell.execute_reply": "2024-09-01T11:08:57.046584Z"
    },
    "papermill": {
     "duration": 22.46117,
     "end_time": "2024-09-01T11:08:57.048182",
     "exception": false,
     "start_time": "2024-09-01T11:08:34.587012",
     "status": "completed"
    },
    "tags": []
   },
   "outputs": [
    {
     "name": "stderr",
     "output_type": "stream",
     "text": [
      "\r",
      "  0%|          | 0/20 [00:00<?, ?it/s]"
     ]
    },
    {
     "name": "stderr",
     "output_type": "stream",
     "text": [
      "\r",
      "  5%|▌         | 1/20 [00:00<00:10,  1.78it/s]"
     ]
    },
    {
     "name": "stderr",
     "output_type": "stream",
     "text": [
      "\r",
      " 10%|█         | 2/20 [00:01<00:14,  1.25it/s]"
     ]
    },
    {
     "name": "stderr",
     "output_type": "stream",
     "text": [
      "\r",
      " 15%|█▌        | 3/20 [00:02<00:16,  1.06it/s]"
     ]
    },
    {
     "name": "stderr",
     "output_type": "stream",
     "text": [
      "\r",
      " 20%|██        | 4/20 [00:03<00:16,  1.02s/it]"
     ]
    },
    {
     "name": "stderr",
     "output_type": "stream",
     "text": [
      "\r",
      " 25%|██▌       | 5/20 [00:04<00:16,  1.07s/it]"
     ]
    },
    {
     "name": "stderr",
     "output_type": "stream",
     "text": [
      "\r",
      " 30%|███       | 6/20 [00:05<00:14,  1.00s/it]"
     ]
    },
    {
     "name": "stderr",
     "output_type": "stream",
     "text": [
      "\r",
      " 35%|███▌      | 7/20 [00:06<00:11,  1.18it/s]"
     ]
    },
    {
     "name": "stderr",
     "output_type": "stream",
     "text": [
      "\r",
      " 40%|████      | 8/20 [00:07<00:11,  1.02it/s]"
     ]
    },
    {
     "name": "stderr",
     "output_type": "stream",
     "text": [
      "\r",
      " 45%|████▌     | 9/20 [00:08<00:10,  1.00it/s]"
     ]
    },
    {
     "name": "stderr",
     "output_type": "stream",
     "text": [
      "\r",
      " 50%|█████     | 10/20 [00:09<00:09,  1.08it/s]"
     ]
    },
    {
     "name": "stderr",
     "output_type": "stream",
     "text": [
      "\r",
      " 55%|█████▌    | 11/20 [00:10<00:07,  1.16it/s]"
     ]
    },
    {
     "name": "stderr",
     "output_type": "stream",
     "text": [
      "\r",
      " 60%|██████    | 12/20 [00:11<00:07,  1.10it/s]"
     ]
    },
    {
     "name": "stderr",
     "output_type": "stream",
     "text": [
      "\r",
      " 65%|██████▌   | 13/20 [00:12<00:07,  1.06s/it]"
     ]
    },
    {
     "name": "stderr",
     "output_type": "stream",
     "text": [
      "\r",
      " 70%|███████   | 14/20 [00:13<00:06,  1.13s/it]"
     ]
    },
    {
     "name": "stderr",
     "output_type": "stream",
     "text": [
      "\r",
      " 75%|███████▌  | 15/20 [00:14<00:05,  1.11s/it]"
     ]
    },
    {
     "name": "stderr",
     "output_type": "stream",
     "text": [
      "\r",
      " 80%|████████  | 16/20 [00:16<00:05,  1.25s/it]"
     ]
    },
    {
     "name": "stderr",
     "output_type": "stream",
     "text": [
      "\r",
      " 85%|████████▌ | 17/20 [00:17<00:03,  1.29s/it]"
     ]
    },
    {
     "name": "stderr",
     "output_type": "stream",
     "text": [
      "\r",
      " 90%|█████████ | 18/20 [00:19<00:02,  1.40s/it]"
     ]
    },
    {
     "name": "stderr",
     "output_type": "stream",
     "text": [
      "\r",
      " 95%|█████████▌| 19/20 [00:20<00:01,  1.38s/it]"
     ]
    },
    {
     "name": "stderr",
     "output_type": "stream",
     "text": [
      "\r",
      "100%|██████████| 20/20 [00:22<00:00,  1.44s/it]"
     ]
    },
    {
     "name": "stderr",
     "output_type": "stream",
     "text": [
      "\r",
      "100%|██████████| 20/20 [00:22<00:00,  1.12s/it]"
     ]
    },
    {
     "name": "stderr",
     "output_type": "stream",
     "text": [
      "\n"
     ]
    }
   ],
   "source": [
    "for d in tqdm(DISEASES):\n",
    "    pd.concat(diseaseDict[d], axis=1).to_csv(here(f'03_downstream_analysis/08_gene_importance/new_shap_plots/results/SHAP_AVGsamples/SHAP_AVGsample_{cell_type}_{d}.csv'))"
   ]
  },
  {
   "cell_type": "code",
   "execution_count": null,
   "id": "1ab026ca-2694-4767-8dd7-5cc4d2caa863",
   "metadata": {
    "papermill": {
     "duration": 0.012396,
     "end_time": "2024-09-01T11:08:57.066740",
     "exception": false,
     "start_time": "2024-09-01T11:08:57.054344",
     "status": "completed"
    },
    "tags": []
   },
   "outputs": [],
   "source": []
  }
 ],
 "metadata": {
  "kernelspec": {
   "display_name": "Python 3 (ipykernel)",
   "language": "python",
   "name": "python3"
  },
  "language_info": {
   "codemirror_mode": {
    "name": "ipython",
    "version": 3
   },
   "file_extension": ".py",
   "mimetype": "text/x-python",
   "name": "python",
   "nbconvert_exporter": "python",
   "pygments_lexer": "ipython3",
   "version": "3.12.5"
  },
  "papermill": {
   "default_parameters": {},
   "duration": 40.581664,
   "end_time": "2024-09-01T11:08:57.691160",
   "environment_variables": {},
   "exception": null,
   "input_path": "computing_shap_patients.ipynb",
   "output_path": "executed_computing_shap_patients_pDC.ipynb",
   "parameters": {
    "cell_type": "pDC"
   },
   "start_time": "2024-09-01T11:08:17.109496",
   "version": "2.6.0"
  }
 },
 "nbformat": 4,
 "nbformat_minor": 5
}