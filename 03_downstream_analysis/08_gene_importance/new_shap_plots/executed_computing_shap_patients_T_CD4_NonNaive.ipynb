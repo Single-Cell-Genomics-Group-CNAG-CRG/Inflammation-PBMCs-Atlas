{
 "cells": [
  {
   "cell_type": "code",
   "execution_count": 1,
   "id": "46f63ed6",
   "metadata": {
    "execution": {
     "iopub.execute_input": "2024-09-01T10:59:36.898576Z",
     "iopub.status.busy": "2024-09-01T10:59:36.898238Z",
     "iopub.status.idle": "2024-09-01T10:59:36.900758Z",
     "shell.execute_reply": "2024-09-01T10:59:36.900403Z"
    },
    "papermill": {
     "duration": 0.008876,
     "end_time": "2024-09-01T10:59:36.901628",
     "exception": false,
     "start_time": "2024-09-01T10:59:36.892752",
     "status": "completed"
    },
    "tags": [
     "injected-parameters"
    ]
   },
   "outputs": [],
   "source": [
    "# Parameters\n",
    "cell_type = \"T_CD4_NonNaive\"\n"
   ]
  },
  {
   "cell_type": "code",
   "execution_count": 2,
   "id": "7d9f9d3c-d92d-4087-bf7e-ac2459cb11f2",
   "metadata": {
    "execution": {
     "iopub.execute_input": "2024-09-01T10:59:36.911428Z",
     "iopub.status.busy": "2024-09-01T10:59:36.911155Z",
     "iopub.status.idle": "2024-09-01T10:59:37.549291Z",
     "shell.execute_reply": "2024-09-01T10:59:37.548663Z"
    },
    "papermill": {
     "duration": 0.644556,
     "end_time": "2024-09-01T10:59:37.550352",
     "exception": false,
     "start_time": "2024-09-01T10:59:36.905796",
     "status": "completed"
    },
    "tags": []
   },
   "outputs": [],
   "source": [
    "import sys\n",
    "import os\n",
    "\n",
    "import anndata as ad\n",
    "\n",
    "import pandas as pd\n",
    "import numpy as np\n",
    "\n",
    "from pyprojroot import here\n",
    "\n",
    "import re\n",
    "\n",
    "from tqdm import tqdm"
   ]
  },
  {
   "cell_type": "raw",
   "id": "c0757c2a-16e9-4863-8678-ad408c94695a",
   "metadata": {
    "execution": {
     "iopub.execute_input": "2024-09-01T10:21:08.081976Z",
     "iopub.status.busy": "2024-09-01T10:21:08.081673Z",
     "iopub.status.idle": "2024-09-01T10:21:08.084092Z",
     "shell.execute_reply": "2024-09-01T10:21:08.083792Z",
     "shell.execute_reply.started": "2024-09-01T10:21:08.081957Z"
    },
    "papermill": {
     "duration": 0.003845,
     "end_time": "2024-09-01T10:59:37.558388",
     "exception": false,
     "start_time": "2024-09-01T10:59:37.554543",
     "status": "completed"
    },
    "tags": []
   },
   "source": [
    "cell_type = 'Mono'"
   ]
  },
  {
   "cell_type": "code",
   "execution_count": 3,
   "id": "d2727fc1-e648-4c93-9db2-b52261cc0973",
   "metadata": {
    "execution": {
     "iopub.execute_input": "2024-09-01T10:59:37.567771Z",
     "iopub.status.busy": "2024-09-01T10:59:37.567055Z",
     "iopub.status.idle": "2024-09-01T10:59:37.571252Z",
     "shell.execute_reply": "2024-09-01T10:59:37.570774Z"
    },
    "papermill": {
     "duration": 0.009743,
     "end_time": "2024-09-01T10:59:37.572179",
     "exception": false,
     "start_time": "2024-09-01T10:59:37.562436",
     "status": "completed"
    },
    "tags": []
   },
   "outputs": [],
   "source": [
    "def load_sorted_shap_values_fnames(\n",
    "    cell_type: str = '',\n",
    "    run_name: str = 'run1'):\n",
    "\n",
    "    dirpath = here(f\"inflammabucket_bkp/03_downstream_analysis/05_SHAP/results/04_shap/shap_vals\")\n",
    "    fname_regex = f'^{run_name}_{cell_type}_shap_values_' + r'(\\d+)'\n",
    "    results_batches = [\n",
    "        (fname, int(re.search(fname_regex, fname).group(1)))\n",
    "        for fname in os.listdir(dirpath)\n",
    "        if re.search(fname_regex, fname)]\n",
    "\n",
    "    sorted_files = sorted(results_batches, key=lambda x: x[1])\n",
    "\n",
    "    sorted_filenames = [os.path.join(dirpath, filename) for filename, _ in sorted_files]\n",
    "\n",
    "    return sorted_filenames"
   ]
  },
  {
   "cell_type": "code",
   "execution_count": 4,
   "id": "e10ca0d3-2089-4dca-b377-2e062d331e1a",
   "metadata": {
    "execution": {
     "iopub.execute_input": "2024-09-01T10:59:37.581081Z",
     "iopub.status.busy": "2024-09-01T10:59:37.580668Z",
     "iopub.status.idle": "2024-09-01T11:03:49.179831Z",
     "shell.execute_reply": "2024-09-01T11:03:49.178696Z"
    },
    "papermill": {
     "duration": 251.604734,
     "end_time": "2024-09-01T11:03:49.180941",
     "exception": false,
     "start_time": "2024-09-01T10:59:37.576207",
     "status": "completed"
    },
    "tags": []
   },
   "outputs": [
    {
     "name": "stderr",
     "output_type": "stream",
     "text": [
      "\r",
      "  0%|          | 0/72 [00:00<?, ?it/s]"
     ]
    },
    {
     "name": "stderr",
     "output_type": "stream",
     "text": [
      "\r",
      "  1%|▏         | 1/72 [00:03<04:02,  3.42s/it]"
     ]
    },
    {
     "name": "stderr",
     "output_type": "stream",
     "text": [
      "\r",
      "  3%|▎         | 2/72 [00:07<04:06,  3.52s/it]"
     ]
    },
    {
     "name": "stderr",
     "output_type": "stream",
     "text": [
      "\r",
      "  4%|▍         | 3/72 [00:10<04:05,  3.55s/it]"
     ]
    },
    {
     "name": "stderr",
     "output_type": "stream",
     "text": [
      "\r",
      "  6%|▌         | 4/72 [00:14<04:01,  3.56s/it]"
     ]
    },
    {
     "name": "stderr",
     "output_type": "stream",
     "text": [
      "\r",
      "  7%|▋         | 5/72 [00:17<03:58,  3.55s/it]"
     ]
    },
    {
     "name": "stderr",
     "output_type": "stream",
     "text": [
      "\r",
      "  8%|▊         | 6/72 [00:21<03:54,  3.55s/it]"
     ]
    },
    {
     "name": "stderr",
     "output_type": "stream",
     "text": [
      "\r",
      " 10%|▉         | 7/72 [00:24<03:51,  3.56s/it]"
     ]
    },
    {
     "name": "stderr",
     "output_type": "stream",
     "text": [
      "\r",
      " 11%|█         | 8/72 [00:28<03:47,  3.55s/it]"
     ]
    },
    {
     "name": "stderr",
     "output_type": "stream",
     "text": [
      "\r",
      " 12%|█▎        | 9/72 [00:31<03:43,  3.55s/it]"
     ]
    },
    {
     "name": "stderr",
     "output_type": "stream",
     "text": [
      "\r",
      " 14%|█▍        | 10/72 [00:35<03:39,  3.55s/it]"
     ]
    },
    {
     "name": "stderr",
     "output_type": "stream",
     "text": [
      "\r",
      " 15%|█▌        | 11/72 [00:39<03:37,  3.57s/it]"
     ]
    },
    {
     "name": "stderr",
     "output_type": "stream",
     "text": [
      "\r",
      " 17%|█▋        | 12/72 [00:42<03:33,  3.56s/it]"
     ]
    },
    {
     "name": "stderr",
     "output_type": "stream",
     "text": [
      "\r",
      " 18%|█▊        | 13/72 [00:46<03:29,  3.55s/it]"
     ]
    },
    {
     "name": "stderr",
     "output_type": "stream",
     "text": [
      "\r",
      " 19%|█▉        | 14/72 [00:49<03:25,  3.55s/it]"
     ]
    },
    {
     "name": "stderr",
     "output_type": "stream",
     "text": [
      "\r",
      " 21%|██        | 15/72 [00:53<03:22,  3.54s/it]"
     ]
    },
    {
     "name": "stderr",
     "output_type": "stream",
     "text": [
      "\r",
      " 22%|██▏       | 16/72 [00:56<03:20,  3.57s/it]"
     ]
    },
    {
     "name": "stderr",
     "output_type": "stream",
     "text": [
      "\r",
      " 24%|██▎       | 17/72 [01:00<03:16,  3.57s/it]"
     ]
    },
    {
     "name": "stderr",
     "output_type": "stream",
     "text": [
      "\r",
      " 25%|██▌       | 18/72 [01:04<03:13,  3.58s/it]"
     ]
    },
    {
     "name": "stderr",
     "output_type": "stream",
     "text": [
      "\r",
      " 26%|██▋       | 19/72 [01:07<03:09,  3.58s/it]"
     ]
    },
    {
     "name": "stderr",
     "output_type": "stream",
     "text": [
      "\r",
      " 28%|██▊       | 20/72 [01:11<03:06,  3.59s/it]"
     ]
    },
    {
     "name": "stderr",
     "output_type": "stream",
     "text": [
      "\r",
      " 29%|██▉       | 21/72 [01:14<03:02,  3.57s/it]"
     ]
    },
    {
     "name": "stderr",
     "output_type": "stream",
     "text": [
      "\r",
      " 31%|███       | 22/72 [01:18<02:57,  3.55s/it]"
     ]
    },
    {
     "name": "stderr",
     "output_type": "stream",
     "text": [
      "\r",
      " 32%|███▏      | 23/72 [01:21<02:54,  3.56s/it]"
     ]
    },
    {
     "name": "stderr",
     "output_type": "stream",
     "text": [
      "\r",
      " 33%|███▎      | 24/72 [01:25<02:50,  3.55s/it]"
     ]
    },
    {
     "name": "stderr",
     "output_type": "stream",
     "text": [
      "\r",
      " 35%|███▍      | 25/72 [01:28<02:45,  3.53s/it]"
     ]
    },
    {
     "name": "stderr",
     "output_type": "stream",
     "text": [
      "\r",
      " 36%|███▌      | 26/72 [01:32<02:42,  3.54s/it]"
     ]
    },
    {
     "name": "stderr",
     "output_type": "stream",
     "text": [
      "\r",
      " 38%|███▊      | 27/72 [01:35<02:38,  3.51s/it]"
     ]
    },
    {
     "name": "stderr",
     "output_type": "stream",
     "text": [
      "\r",
      " 39%|███▉      | 28/72 [01:39<02:35,  3.52s/it]"
     ]
    },
    {
     "name": "stderr",
     "output_type": "stream",
     "text": [
      "\r",
      " 40%|████      | 29/72 [01:42<02:31,  3.52s/it]"
     ]
    },
    {
     "name": "stderr",
     "output_type": "stream",
     "text": [
      "\r",
      " 42%|████▏     | 30/72 [01:46<02:27,  3.52s/it]"
     ]
    },
    {
     "name": "stderr",
     "output_type": "stream",
     "text": [
      "\r",
      " 43%|████▎     | 31/72 [01:49<02:24,  3.52s/it]"
     ]
    },
    {
     "name": "stderr",
     "output_type": "stream",
     "text": [
      "\r",
      " 44%|████▍     | 32/72 [01:53<02:21,  3.53s/it]"
     ]
    },
    {
     "name": "stderr",
     "output_type": "stream",
     "text": [
      "\r",
      " 46%|████▌     | 33/72 [01:57<02:17,  3.53s/it]"
     ]
    },
    {
     "name": "stderr",
     "output_type": "stream",
     "text": [
      "\r",
      " 47%|████▋     | 34/72 [02:00<02:14,  3.53s/it]"
     ]
    },
    {
     "name": "stderr",
     "output_type": "stream",
     "text": [
      "\r",
      " 49%|████▊     | 35/72 [02:04<02:10,  3.53s/it]"
     ]
    },
    {
     "name": "stderr",
     "output_type": "stream",
     "text": [
      "\r",
      " 50%|█████     | 36/72 [02:07<02:06,  3.52s/it]"
     ]
    },
    {
     "name": "stderr",
     "output_type": "stream",
     "text": [
      "\r",
      " 51%|█████▏    | 37/72 [02:11<02:03,  3.52s/it]"
     ]
    },
    {
     "name": "stderr",
     "output_type": "stream",
     "text": [
      "\r",
      " 53%|█████▎    | 38/72 [02:14<02:00,  3.55s/it]"
     ]
    },
    {
     "name": "stderr",
     "output_type": "stream",
     "text": [
      "\r",
      " 54%|█████▍    | 39/72 [02:18<01:56,  3.53s/it]"
     ]
    },
    {
     "name": "stderr",
     "output_type": "stream",
     "text": [
      "\r",
      " 56%|█████▌    | 40/72 [02:21<01:52,  3.51s/it]"
     ]
    },
    {
     "name": "stderr",
     "output_type": "stream",
     "text": [
      "\r",
      " 57%|█████▋    | 41/72 [02:25<01:49,  3.53s/it]"
     ]
    },
    {
     "name": "stderr",
     "output_type": "stream",
     "text": [
      "\r",
      " 58%|█████▊    | 42/72 [02:28<01:45,  3.52s/it]"
     ]
    },
    {
     "name": "stderr",
     "output_type": "stream",
     "text": [
      "\r",
      " 60%|█████▉    | 43/72 [02:32<01:41,  3.51s/it]"
     ]
    },
    {
     "name": "stderr",
     "output_type": "stream",
     "text": [
      "\r",
      " 61%|██████    | 44/72 [02:35<01:38,  3.51s/it]"
     ]
    },
    {
     "name": "stderr",
     "output_type": "stream",
     "text": [
      "\r",
      " 62%|██████▎   | 45/72 [02:39<01:34,  3.49s/it]"
     ]
    },
    {
     "name": "stderr",
     "output_type": "stream",
     "text": [
      "\r",
      " 64%|██████▍   | 46/72 [02:42<01:30,  3.50s/it]"
     ]
    },
    {
     "name": "stderr",
     "output_type": "stream",
     "text": [
      "\r",
      " 65%|██████▌   | 47/72 [02:46<01:27,  3.51s/it]"
     ]
    },
    {
     "name": "stderr",
     "output_type": "stream",
     "text": [
      "\r",
      " 67%|██████▋   | 48/72 [02:49<01:24,  3.51s/it]"
     ]
    },
    {
     "name": "stderr",
     "output_type": "stream",
     "text": [
      "\r",
      " 68%|██████▊   | 49/72 [02:53<01:20,  3.52s/it]"
     ]
    },
    {
     "name": "stderr",
     "output_type": "stream",
     "text": [
      "\r",
      " 69%|██████▉   | 50/72 [02:56<01:17,  3.52s/it]"
     ]
    },
    {
     "name": "stderr",
     "output_type": "stream",
     "text": [
      "\r",
      " 71%|███████   | 51/72 [03:00<01:13,  3.52s/it]"
     ]
    },
    {
     "name": "stderr",
     "output_type": "stream",
     "text": [
      "\r",
      " 72%|███████▏  | 52/72 [03:03<01:10,  3.53s/it]"
     ]
    },
    {
     "name": "stderr",
     "output_type": "stream",
     "text": [
      "\r",
      " 74%|███████▎  | 53/72 [03:07<01:07,  3.53s/it]"
     ]
    },
    {
     "name": "stderr",
     "output_type": "stream",
     "text": [
      "\r",
      " 75%|███████▌  | 54/72 [03:10<01:03,  3.54s/it]"
     ]
    },
    {
     "name": "stderr",
     "output_type": "stream",
     "text": [
      "\r",
      " 76%|███████▋  | 55/72 [03:14<01:00,  3.55s/it]"
     ]
    },
    {
     "name": "stderr",
     "output_type": "stream",
     "text": [
      "\r",
      " 78%|███████▊  | 56/72 [03:18<00:56,  3.54s/it]"
     ]
    },
    {
     "name": "stderr",
     "output_type": "stream",
     "text": [
      "\r",
      " 79%|███████▉  | 57/72 [03:21<00:52,  3.53s/it]"
     ]
    },
    {
     "name": "stderr",
     "output_type": "stream",
     "text": [
      "\r",
      " 81%|████████  | 58/72 [03:25<00:49,  3.53s/it]"
     ]
    },
    {
     "name": "stderr",
     "output_type": "stream",
     "text": [
      "\r",
      " 82%|████████▏ | 59/72 [03:28<00:45,  3.53s/it]"
     ]
    },
    {
     "name": "stderr",
     "output_type": "stream",
     "text": [
      "\r",
      " 83%|████████▎ | 60/72 [03:32<00:42,  3.53s/it]"
     ]
    },
    {
     "name": "stderr",
     "output_type": "stream",
     "text": [
      "\r",
      " 85%|████████▍ | 61/72 [03:35<00:38,  3.50s/it]"
     ]
    },
    {
     "name": "stderr",
     "output_type": "stream",
     "text": [
      "\r",
      " 86%|████████▌ | 62/72 [03:39<00:34,  3.50s/it]"
     ]
    },
    {
     "name": "stderr",
     "output_type": "stream",
     "text": [
      "\r",
      " 88%|████████▊ | 63/72 [03:42<00:31,  3.50s/it]"
     ]
    },
    {
     "name": "stderr",
     "output_type": "stream",
     "text": [
      "\r",
      " 89%|████████▉ | 64/72 [03:46<00:27,  3.48s/it]"
     ]
    },
    {
     "name": "stderr",
     "output_type": "stream",
     "text": [
      "\r",
      " 90%|█████████ | 65/72 [03:49<00:24,  3.50s/it]"
     ]
    },
    {
     "name": "stderr",
     "output_type": "stream",
     "text": [
      "\r",
      " 92%|█████████▏| 66/72 [03:53<00:21,  3.51s/it]"
     ]
    },
    {
     "name": "stderr",
     "output_type": "stream",
     "text": [
      "\r",
      " 93%|█████████▎| 67/72 [03:56<00:17,  3.50s/it]"
     ]
    },
    {
     "name": "stderr",
     "output_type": "stream",
     "text": [
      "\r",
      " 94%|█████████▍| 68/72 [04:00<00:14,  3.51s/it]"
     ]
    },
    {
     "name": "stderr",
     "output_type": "stream",
     "text": [
      "\r",
      " 96%|█████████▌| 69/72 [04:03<00:10,  3.52s/it]"
     ]
    },
    {
     "name": "stderr",
     "output_type": "stream",
     "text": [
      "\r",
      " 97%|█████████▋| 70/72 [04:07<00:07,  3.52s/it]"
     ]
    },
    {
     "name": "stderr",
     "output_type": "stream",
     "text": [
      "\r",
      " 99%|█████████▊| 71/72 [04:10<00:03,  3.52s/it]"
     ]
    },
    {
     "name": "stderr",
     "output_type": "stream",
     "text": [
      "\r",
      "100%|██████████| 72/72 [04:11<00:00,  2.72s/it]"
     ]
    },
    {
     "name": "stderr",
     "output_type": "stream",
     "text": [
      "\r",
      "100%|██████████| 72/72 [04:11<00:00,  3.49s/it]"
     ]
    },
    {
     "name": "stderr",
     "output_type": "stream",
     "text": [
      "\n"
     ]
    }
   ],
   "source": [
    "shap_val_list = [np.load(fname)['shap_values'] for fname in tqdm(load_sorted_shap_values_fnames(cell_type))] \n"
   ]
  },
  {
   "cell_type": "code",
   "execution_count": 5,
   "id": "729012ec-dd58-4fb6-80bd-05ad35695f84",
   "metadata": {
    "execution": {
     "iopub.execute_input": "2024-09-01T11:03:49.196464Z",
     "iopub.status.busy": "2024-09-01T11:03:49.196178Z",
     "iopub.status.idle": "2024-09-01T11:03:50.128930Z",
     "shell.execute_reply": "2024-09-01T11:03:50.128236Z"
    },
    "papermill": {
     "duration": 0.942072,
     "end_time": "2024-09-01T11:03:50.130113",
     "exception": false,
     "start_time": "2024-09-01T11:03:49.188041",
     "status": "completed"
    },
    "tags": []
   },
   "outputs": [],
   "source": [
    "adata = ad.read_h5ad(here(f'inflammabucket_bkp/03_downstream_analysis/05_SHAP/data/{cell_type}_adataMerged_SPECTRAgenes.log1p.h5ad'), backed='r')"
   ]
  },
  {
   "cell_type": "code",
   "execution_count": 6,
   "id": "70e8f69a-71a9-4186-8751-5374deacfe31",
   "metadata": {
    "execution": {
     "iopub.execute_input": "2024-09-01T11:03:50.149535Z",
     "iopub.status.busy": "2024-09-01T11:03:50.148947Z",
     "iopub.status.idle": "2024-09-01T11:03:50.159025Z",
     "shell.execute_reply": "2024-09-01T11:03:50.158379Z"
    },
    "papermill": {
     "duration": 0.020449,
     "end_time": "2024-09-01T11:03:50.159931",
     "exception": false,
     "start_time": "2024-09-01T11:03:50.139482",
     "status": "completed"
    },
    "tags": []
   },
   "outputs": [],
   "source": [
    "## Gene symbols and Disease labels\n",
    "symbols_df = pd.read_pickle(here('inflammabucket_bkp/03_downstream_analysis/04_selected_gene_list.pkl'))\n",
    "symbols_sorted = symbols_df.loc[adata.var_names].symbol.values\n",
    "\n",
    "DISEASES = ['BRCA', 'CD', 'COPD', 'COVID', 'CRC', 'HBV', 'HIV', 'HNSCC', 'MS', 'NPC', 'PS', 'PSA', 'RA', 'SLE', 'UC', 'asthma', 'cirrhosis', 'flu', 'healthy', 'sepsis']\n",
    "\n",
    "diseaseDict = dict()\n",
    "for d in DISEASES:\n",
    "    diseaseDict[d] = []"
   ]
  },
  {
   "cell_type": "code",
   "execution_count": 7,
   "id": "30024bf4-26b9-4f1e-b838-6d5c82e6360c",
   "metadata": {
    "execution": {
     "iopub.execute_input": "2024-09-01T11:03:50.175056Z",
     "iopub.status.busy": "2024-09-01T11:03:50.174642Z",
     "iopub.status.idle": "2024-09-01T11:03:58.293604Z",
     "shell.execute_reply": "2024-09-01T11:03:58.292809Z"
    },
    "papermill": {
     "duration": 8.127946,
     "end_time": "2024-09-01T11:03:58.295080",
     "exception": false,
     "start_time": "2024-09-01T11:03:50.167134",
     "status": "completed"
    },
    "tags": []
   },
   "outputs": [],
   "source": [
    "shape_values_matrix = np.concatenate(shap_val_list)"
   ]
  },
  {
   "cell_type": "code",
   "execution_count": 8,
   "id": "470a80d5-2725-4945-b55c-c87b3704d610",
   "metadata": {
    "execution": {
     "iopub.execute_input": "2024-09-01T11:03:58.310304Z",
     "iopub.status.busy": "2024-09-01T11:03:58.310102Z",
     "iopub.status.idle": "2024-09-01T11:04:10.117532Z",
     "shell.execute_reply": "2024-09-01T11:04:10.116953Z"
    },
    "papermill": {
     "duration": 11.815894,
     "end_time": "2024-09-01T11:04:10.118379",
     "exception": false,
     "start_time": "2024-09-01T11:03:58.302485",
     "status": "completed"
    },
    "tags": []
   },
   "outputs": [
    {
     "name": "stderr",
     "output_type": "stream",
     "text": [
      "\r",
      "  0%|          | 0/816 [00:00<?, ?it/s]"
     ]
    },
    {
     "name": "stderr",
     "output_type": "stream",
     "text": [
      "\r",
      "  1%|          | 5/816 [00:00<00:19, 41.91it/s]"
     ]
    },
    {
     "name": "stderr",
     "output_type": "stream",
     "text": [
      "\r",
      "  1%|          | 10/816 [00:00<00:21, 37.71it/s]"
     ]
    },
    {
     "name": "stderr",
     "output_type": "stream",
     "text": [
      "\r",
      "  2%|▏         | 14/816 [00:00<00:21, 37.94it/s]"
     ]
    },
    {
     "name": "stderr",
     "output_type": "stream",
     "text": [
      "\r",
      "  2%|▏         | 19/816 [00:00<00:19, 41.78it/s]"
     ]
    },
    {
     "name": "stderr",
     "output_type": "stream",
     "text": [
      "\r",
      "  3%|▎         | 27/816 [00:00<00:14, 54.34it/s]"
     ]
    },
    {
     "name": "stderr",
     "output_type": "stream",
     "text": [
      "\r",
      "  4%|▍         | 33/816 [00:00<00:14, 54.68it/s]"
     ]
    },
    {
     "name": "stderr",
     "output_type": "stream",
     "text": [
      "\r",
      "  5%|▌         | 41/816 [00:00<00:13, 58.89it/s]"
     ]
    },
    {
     "name": "stderr",
     "output_type": "stream",
     "text": [
      "\r",
      "  6%|▌         | 49/816 [00:00<00:11, 64.27it/s]"
     ]
    },
    {
     "name": "stderr",
     "output_type": "stream",
     "text": [
      "\r",
      "  7%|▋         | 56/816 [00:01<00:12, 60.13it/s]"
     ]
    },
    {
     "name": "stderr",
     "output_type": "stream",
     "text": [
      "\r",
      "  8%|▊         | 63/816 [00:01<00:11, 62.85it/s]"
     ]
    },
    {
     "name": "stderr",
     "output_type": "stream",
     "text": [
      "\r",
      "  9%|▊         | 70/816 [00:01<00:12, 62.06it/s]"
     ]
    },
    {
     "name": "stderr",
     "output_type": "stream",
     "text": [
      "\r",
      "  9%|▉         | 77/816 [00:01<00:12, 61.41it/s]"
     ]
    },
    {
     "name": "stderr",
     "output_type": "stream",
     "text": [
      "\r",
      " 10%|█         | 84/816 [00:01<00:12, 58.99it/s]"
     ]
    },
    {
     "name": "stderr",
     "output_type": "stream",
     "text": [
      "\r",
      " 11%|█▏        | 92/816 [00:01<00:11, 64.30it/s]"
     ]
    },
    {
     "name": "stderr",
     "output_type": "stream",
     "text": [
      "\r",
      " 13%|█▎        | 110/816 [00:01<00:07, 94.46it/s]"
     ]
    },
    {
     "name": "stderr",
     "output_type": "stream",
     "text": [
      "\r",
      " 16%|█▌        | 128/816 [00:01<00:05, 116.75it/s]"
     ]
    },
    {
     "name": "stderr",
     "output_type": "stream",
     "text": [
      "\r",
      " 17%|█▋        | 140/816 [00:02<00:08, 78.59it/s] "
     ]
    },
    {
     "name": "stderr",
     "output_type": "stream",
     "text": [
      "\r",
      " 18%|█▊        | 150/816 [00:02<00:08, 80.64it/s]"
     ]
    },
    {
     "name": "stderr",
     "output_type": "stream",
     "text": [
      "\r",
      " 20%|█▉        | 162/816 [00:02<00:07, 87.17it/s]"
     ]
    },
    {
     "name": "stderr",
     "output_type": "stream",
     "text": [
      "\r",
      " 21%|██        | 172/816 [00:02<00:08, 78.04it/s]"
     ]
    },
    {
     "name": "stderr",
     "output_type": "stream",
     "text": [
      "\r",
      " 22%|██▏       | 183/816 [00:02<00:07, 85.29it/s]"
     ]
    },
    {
     "name": "stderr",
     "output_type": "stream",
     "text": [
      "\r",
      " 24%|██▎       | 193/816 [00:02<00:07, 86.01it/s]"
     ]
    },
    {
     "name": "stderr",
     "output_type": "stream",
     "text": [
      "\r",
      " 25%|██▌       | 207/816 [00:02<00:06, 98.77it/s]"
     ]
    },
    {
     "name": "stderr",
     "output_type": "stream",
     "text": [
      "\r",
      " 27%|██▋       | 218/816 [00:02<00:06, 93.71it/s]"
     ]
    },
    {
     "name": "stderr",
     "output_type": "stream",
     "text": [
      "\r",
      " 28%|██▊       | 231/816 [00:03<00:05, 100.84it/s]"
     ]
    },
    {
     "name": "stderr",
     "output_type": "stream",
     "text": [
      "\r",
      " 30%|██▉       | 242/816 [00:03<00:05, 96.54it/s] "
     ]
    },
    {
     "name": "stderr",
     "output_type": "stream",
     "text": [
      "\r",
      " 31%|███       | 253/816 [00:03<00:05, 98.50it/s]"
     ]
    },
    {
     "name": "stderr",
     "output_type": "stream",
     "text": [
      "\r",
      " 32%|███▏      | 265/816 [00:03<00:05, 102.55it/s]"
     ]
    },
    {
     "name": "stderr",
     "output_type": "stream",
     "text": [
      "\r",
      " 34%|███▍      | 276/816 [00:03<00:05, 92.59it/s] "
     ]
    },
    {
     "name": "stderr",
     "output_type": "stream",
     "text": [
      "\r",
      " 35%|███▌      | 288/816 [00:03<00:05, 99.27it/s]"
     ]
    },
    {
     "name": "stderr",
     "output_type": "stream",
     "text": [
      "\r",
      " 37%|███▋      | 299/816 [00:03<00:05, 100.71it/s]"
     ]
    },
    {
     "name": "stderr",
     "output_type": "stream",
     "text": [
      "\r",
      " 38%|███▊      | 310/816 [00:03<00:05, 88.19it/s] "
     ]
    },
    {
     "name": "stderr",
     "output_type": "stream",
     "text": [
      "\r",
      " 40%|███▉      | 323/816 [00:03<00:05, 98.24it/s]"
     ]
    },
    {
     "name": "stderr",
     "output_type": "stream",
     "text": [
      "\r",
      " 41%|████      | 336/816 [00:04<00:04, 105.03it/s]"
     ]
    },
    {
     "name": "stderr",
     "output_type": "stream",
     "text": [
      "\r",
      " 43%|████▎     | 347/816 [00:04<00:05, 88.93it/s] "
     ]
    },
    {
     "name": "stderr",
     "output_type": "stream",
     "text": [
      "\r",
      " 44%|████▍     | 359/816 [00:04<00:04, 96.42it/s]"
     ]
    },
    {
     "name": "stderr",
     "output_type": "stream",
     "text": [
      "\r",
      " 46%|████▌     | 373/816 [00:04<00:04, 103.80it/s]"
     ]
    },
    {
     "name": "stderr",
     "output_type": "stream",
     "text": [
      "\r",
      " 47%|████▋     | 384/816 [00:04<00:04, 92.91it/s] "
     ]
    },
    {
     "name": "stderr",
     "output_type": "stream",
     "text": [
      "\r",
      " 50%|████▉     | 406/816 [00:04<00:03, 124.20it/s]"
     ]
    },
    {
     "name": "stderr",
     "output_type": "stream",
     "text": [
      "\r",
      " 51%|█████▏    | 420/816 [00:04<00:03, 117.55it/s]"
     ]
    },
    {
     "name": "stderr",
     "output_type": "stream",
     "text": [
      "\r",
      " 53%|█████▎    | 433/816 [00:05<00:03, 113.12it/s]"
     ]
    },
    {
     "name": "stderr",
     "output_type": "stream",
     "text": [
      "\r",
      " 55%|█████▍    | 445/816 [00:05<00:03, 96.77it/s] "
     ]
    },
    {
     "name": "stderr",
     "output_type": "stream",
     "text": [
      "\r",
      " 56%|█████▌    | 456/816 [00:05<00:03, 93.60it/s]"
     ]
    },
    {
     "name": "stderr",
     "output_type": "stream",
     "text": [
      "\r",
      " 57%|█████▋    | 466/816 [00:05<00:04, 85.34it/s]"
     ]
    },
    {
     "name": "stderr",
     "output_type": "stream",
     "text": [
      "\r",
      " 58%|█████▊    | 475/816 [00:05<00:04, 80.78it/s]"
     ]
    },
    {
     "name": "stderr",
     "output_type": "stream",
     "text": [
      "\r",
      " 59%|█████▉    | 484/816 [00:05<00:04, 80.08it/s]"
     ]
    },
    {
     "name": "stderr",
     "output_type": "stream",
     "text": [
      "\r",
      " 60%|██████    | 493/816 [00:05<00:04, 78.11it/s]"
     ]
    },
    {
     "name": "stderr",
     "output_type": "stream",
     "text": [
      "\r",
      " 62%|██████▏   | 502/816 [00:05<00:03, 79.79it/s]"
     ]
    },
    {
     "name": "stderr",
     "output_type": "stream",
     "text": [
      "\r",
      " 63%|██████▎   | 511/816 [00:06<00:03, 82.41it/s]"
     ]
    },
    {
     "name": "stderr",
     "output_type": "stream",
     "text": [
      "\r",
      " 64%|██████▎   | 520/816 [00:06<00:03, 79.93it/s]"
     ]
    },
    {
     "name": "stderr",
     "output_type": "stream",
     "text": [
      "\r",
      " 65%|██████▍   | 529/816 [00:06<00:03, 76.25it/s]"
     ]
    },
    {
     "name": "stderr",
     "output_type": "stream",
     "text": [
      "\r",
      " 66%|██████▌   | 537/816 [00:06<00:03, 73.03it/s]"
     ]
    },
    {
     "name": "stderr",
     "output_type": "stream",
     "text": [
      "\r",
      " 67%|██████▋   | 546/816 [00:06<00:03, 75.86it/s]"
     ]
    },
    {
     "name": "stderr",
     "output_type": "stream",
     "text": [
      "\r",
      " 68%|██████▊   | 554/816 [00:06<00:03, 71.69it/s]"
     ]
    },
    {
     "name": "stderr",
     "output_type": "stream",
     "text": [
      "\r",
      " 69%|██████▉   | 565/816 [00:06<00:03, 78.02it/s]"
     ]
    },
    {
     "name": "stderr",
     "output_type": "stream",
     "text": [
      "\r",
      " 70%|███████   | 573/816 [00:06<00:03, 76.36it/s]"
     ]
    },
    {
     "name": "stderr",
     "output_type": "stream",
     "text": [
      "\r",
      " 71%|███████   | 581/816 [00:06<00:03, 73.75it/s]"
     ]
    },
    {
     "name": "stderr",
     "output_type": "stream",
     "text": [
      "\r",
      " 72%|███████▏  | 591/816 [00:07<00:02, 77.12it/s]"
     ]
    },
    {
     "name": "stderr",
     "output_type": "stream",
     "text": [
      "\r",
      " 73%|███████▎  | 599/816 [00:07<00:02, 77.58it/s]"
     ]
    },
    {
     "name": "stderr",
     "output_type": "stream",
     "text": [
      "\r",
      " 74%|███████▍  | 607/816 [00:07<00:02, 76.92it/s]"
     ]
    },
    {
     "name": "stderr",
     "output_type": "stream",
     "text": [
      "\r",
      " 75%|███████▌  | 615/816 [00:07<00:02, 74.89it/s]"
     ]
    },
    {
     "name": "stderr",
     "output_type": "stream",
     "text": [
      "\r",
      " 76%|███████▋  | 624/816 [00:07<00:02, 76.90it/s]"
     ]
    },
    {
     "name": "stderr",
     "output_type": "stream",
     "text": [
      "\r",
      " 77%|███████▋  | 632/816 [00:07<00:03, 60.40it/s]"
     ]
    },
    {
     "name": "stderr",
     "output_type": "stream",
     "text": [
      "\r",
      " 78%|███████▊  | 639/816 [00:07<00:03, 56.53it/s]"
     ]
    },
    {
     "name": "stderr",
     "output_type": "stream",
     "text": [
      "\r",
      " 79%|███████▉  | 646/816 [00:07<00:02, 57.98it/s]"
     ]
    },
    {
     "name": "stderr",
     "output_type": "stream",
     "text": [
      "\r",
      " 80%|████████  | 653/816 [00:08<00:03, 47.33it/s]"
     ]
    },
    {
     "name": "stderr",
     "output_type": "stream",
     "text": [
      "\r",
      " 81%|████████  | 661/816 [00:08<00:02, 51.84it/s]"
     ]
    },
    {
     "name": "stderr",
     "output_type": "stream",
     "text": [
      "\r",
      " 82%|████████▏ | 667/816 [00:08<00:03, 48.02it/s]"
     ]
    },
    {
     "name": "stderr",
     "output_type": "stream",
     "text": [
      "\r",
      " 82%|████████▏ | 673/816 [00:08<00:03, 47.16it/s]"
     ]
    },
    {
     "name": "stderr",
     "output_type": "stream",
     "text": [
      "\r",
      " 83%|████████▎ | 678/816 [00:08<00:02, 47.75it/s]"
     ]
    },
    {
     "name": "stderr",
     "output_type": "stream",
     "text": [
      "\r",
      " 84%|████████▎ | 683/816 [00:08<00:02, 47.62it/s]"
     ]
    },
    {
     "name": "stderr",
     "output_type": "stream",
     "text": [
      "\r",
      " 84%|████████▍ | 688/816 [00:08<00:02, 48.16it/s]"
     ]
    },
    {
     "name": "stderr",
     "output_type": "stream",
     "text": [
      "\r",
      " 85%|████████▌ | 694/816 [00:09<00:02, 48.02it/s]"
     ]
    },
    {
     "name": "stderr",
     "output_type": "stream",
     "text": [
      "\r",
      " 86%|████████▌ | 700/816 [00:09<00:02, 49.57it/s]"
     ]
    },
    {
     "name": "stderr",
     "output_type": "stream",
     "text": [
      "\r",
      " 87%|████████▋ | 706/816 [00:09<00:02, 46.71it/s]"
     ]
    },
    {
     "name": "stderr",
     "output_type": "stream",
     "text": [
      "\r",
      " 87%|████████▋ | 711/816 [00:09<00:02, 41.45it/s]"
     ]
    },
    {
     "name": "stderr",
     "output_type": "stream",
     "text": [
      "\r",
      " 88%|████████▊ | 716/816 [00:09<00:02, 41.20it/s]"
     ]
    },
    {
     "name": "stderr",
     "output_type": "stream",
     "text": [
      "\r",
      " 88%|████████▊ | 721/816 [00:09<00:02, 39.99it/s]"
     ]
    },
    {
     "name": "stderr",
     "output_type": "stream",
     "text": [
      "\r",
      " 89%|████████▉ | 726/816 [00:09<00:02, 37.41it/s]"
     ]
    },
    {
     "name": "stderr",
     "output_type": "stream",
     "text": [
      "\r",
      " 89%|████████▉ | 730/816 [00:09<00:02, 37.04it/s]"
     ]
    },
    {
     "name": "stderr",
     "output_type": "stream",
     "text": [
      "\r",
      " 90%|█████████ | 735/816 [00:10<00:02, 38.99it/s]"
     ]
    },
    {
     "name": "stderr",
     "output_type": "stream",
     "text": [
      "\r",
      " 91%|█████████ | 741/816 [00:10<00:01, 41.99it/s]"
     ]
    },
    {
     "name": "stderr",
     "output_type": "stream",
     "text": [
      "\r",
      " 91%|█████████▏| 746/816 [00:10<00:01, 41.90it/s]"
     ]
    },
    {
     "name": "stderr",
     "output_type": "stream",
     "text": [
      "\r",
      " 92%|█████████▏| 751/816 [00:10<00:01, 40.18it/s]"
     ]
    },
    {
     "name": "stderr",
     "output_type": "stream",
     "text": [
      "\r",
      " 93%|█████████▎| 756/816 [00:10<00:01, 37.22it/s]"
     ]
    },
    {
     "name": "stderr",
     "output_type": "stream",
     "text": [
      "\r",
      " 93%|█████████▎| 761/816 [00:10<00:01, 38.20it/s]"
     ]
    },
    {
     "name": "stderr",
     "output_type": "stream",
     "text": [
      "\r",
      " 94%|█████████▍| 766/816 [00:10<00:01, 40.77it/s]"
     ]
    },
    {
     "name": "stderr",
     "output_type": "stream",
     "text": [
      "\r",
      " 94%|█████████▍| 771/816 [00:10<00:01, 40.23it/s]"
     ]
    },
    {
     "name": "stderr",
     "output_type": "stream",
     "text": [
      "\r",
      " 95%|█████████▌| 777/816 [00:11<00:00, 42.98it/s]"
     ]
    },
    {
     "name": "stderr",
     "output_type": "stream",
     "text": [
      "\r",
      " 96%|█████████▌| 782/816 [00:11<00:00, 40.36it/s]"
     ]
    },
    {
     "name": "stderr",
     "output_type": "stream",
     "text": [
      "\r",
      " 96%|█████████▋| 787/816 [00:11<00:00, 35.74it/s]"
     ]
    },
    {
     "name": "stderr",
     "output_type": "stream",
     "text": [
      "\r",
      " 97%|█████████▋| 794/816 [00:11<00:00, 42.62it/s]"
     ]
    },
    {
     "name": "stderr",
     "output_type": "stream",
     "text": [
      "\r",
      " 99%|█████████▉| 806/816 [00:11<00:00, 61.09it/s]"
     ]
    },
    {
     "name": "stderr",
     "output_type": "stream",
     "text": [
      "\r",
      "100%|█████████▉| 813/816 [00:11<00:00, 59.86it/s]"
     ]
    },
    {
     "name": "stderr",
     "output_type": "stream",
     "text": [
      "\r",
      "100%|██████████| 816/816 [00:11<00:00, 69.23it/s]"
     ]
    },
    {
     "name": "stderr",
     "output_type": "stream",
     "text": [
      "\n"
     ]
    }
   ],
   "source": [
    "for idx, values in tqdm(adata.obs.groupby('sampleID', observed=True).indices.items()):\n",
    "    geneXdisease_sample_i = pd.DataFrame(shape_values_matrix[values].mean(0))\n",
    "    geneXdisease_sample_i.columns = DISEASES\n",
    "    geneXdisease_sample_i.index = symbols_sorted\n",
    "    for d in geneXdisease_sample_i.columns:\n",
    "        diseaseDict[d].append(pd.DataFrame.from_dict({idx:geneXdisease_sample_i[d]}))"
   ]
  },
  {
   "cell_type": "code",
   "execution_count": 9,
   "id": "86ec17e8-ee14-4724-b84a-0a176feb933b",
   "metadata": {
    "execution": {
     "iopub.execute_input": "2024-09-01T11:04:10.141715Z",
     "iopub.status.busy": "2024-09-01T11:04:10.141225Z",
     "iopub.status.idle": "2024-09-01T11:04:23.892760Z",
     "shell.execute_reply": "2024-09-01T11:04:23.892199Z"
    },
    "papermill": {
     "duration": 13.763718,
     "end_time": "2024-09-01T11:04:23.893640",
     "exception": false,
     "start_time": "2024-09-01T11:04:10.129922",
     "status": "completed"
    },
    "tags": []
   },
   "outputs": [
    {
     "name": "stderr",
     "output_type": "stream",
     "text": [
      "\r",
      "  0%|          | 0/20 [00:00<?, ?it/s]"
     ]
    },
    {
     "name": "stderr",
     "output_type": "stream",
     "text": [
      "\r",
      "  5%|▌         | 1/20 [00:00<00:12,  1.48it/s]"
     ]
    },
    {
     "name": "stderr",
     "output_type": "stream",
     "text": [
      "\r",
      " 10%|█         | 2/20 [00:01<00:12,  1.44it/s]"
     ]
    },
    {
     "name": "stderr",
     "output_type": "stream",
     "text": [
      "\r",
      " 15%|█▌        | 3/20 [00:02<00:11,  1.46it/s]"
     ]
    },
    {
     "name": "stderr",
     "output_type": "stream",
     "text": [
      "\r",
      " 20%|██        | 4/20 [00:02<00:11,  1.35it/s]"
     ]
    },
    {
     "name": "stderr",
     "output_type": "stream",
     "text": [
      "\r",
      " 25%|██▌       | 5/20 [00:03<00:10,  1.45it/s]"
     ]
    },
    {
     "name": "stderr",
     "output_type": "stream",
     "text": [
      "\r",
      " 30%|███       | 6/20 [00:04<00:09,  1.48it/s]"
     ]
    },
    {
     "name": "stderr",
     "output_type": "stream",
     "text": [
      "\r",
      " 35%|███▌      | 7/20 [00:04<00:08,  1.60it/s]"
     ]
    },
    {
     "name": "stderr",
     "output_type": "stream",
     "text": [
      "\r",
      " 40%|████      | 8/20 [00:05<00:07,  1.54it/s]"
     ]
    },
    {
     "name": "stderr",
     "output_type": "stream",
     "text": [
      "\r",
      " 45%|████▌     | 9/20 [00:05<00:06,  1.64it/s]"
     ]
    },
    {
     "name": "stderr",
     "output_type": "stream",
     "text": [
      "\r",
      " 50%|█████     | 10/20 [00:06<00:05,  1.71it/s]"
     ]
    },
    {
     "name": "stderr",
     "output_type": "stream",
     "text": [
      "\r",
      " 55%|█████▌    | 11/20 [00:07<00:05,  1.52it/s]"
     ]
    },
    {
     "name": "stderr",
     "output_type": "stream",
     "text": [
      "\r",
      " 60%|██████    | 12/20 [00:07<00:05,  1.53it/s]"
     ]
    },
    {
     "name": "stderr",
     "output_type": "stream",
     "text": [
      "\r",
      " 65%|██████▌   | 13/20 [00:08<00:04,  1.50it/s]"
     ]
    },
    {
     "name": "stderr",
     "output_type": "stream",
     "text": [
      "\r",
      " 70%|███████   | 14/20 [00:09<00:04,  1.39it/s]"
     ]
    },
    {
     "name": "stderr",
     "output_type": "stream",
     "text": [
      "\r",
      " 75%|███████▌  | 15/20 [00:10<00:03,  1.40it/s]"
     ]
    },
    {
     "name": "stderr",
     "output_type": "stream",
     "text": [
      "\r",
      " 80%|████████  | 16/20 [00:10<00:02,  1.43it/s]"
     ]
    },
    {
     "name": "stderr",
     "output_type": "stream",
     "text": [
      "\r",
      " 85%|████████▌ | 17/20 [00:11<00:02,  1.50it/s]"
     ]
    },
    {
     "name": "stderr",
     "output_type": "stream",
     "text": [
      "\r",
      " 90%|█████████ | 18/20 [00:12<00:01,  1.37it/s]"
     ]
    },
    {
     "name": "stderr",
     "output_type": "stream",
     "text": [
      "\r",
      " 95%|█████████▌| 19/20 [00:12<00:00,  1.37it/s]"
     ]
    },
    {
     "name": "stderr",
     "output_type": "stream",
     "text": [
      "\r",
      "100%|██████████| 20/20 [00:13<00:00,  1.35it/s]"
     ]
    },
    {
     "name": "stderr",
     "output_type": "stream",
     "text": [
      "\r",
      "100%|██████████| 20/20 [00:13<00:00,  1.45it/s]"
     ]
    },
    {
     "name": "stderr",
     "output_type": "stream",
     "text": [
      "\n"
     ]
    }
   ],
   "source": [
    "for d in tqdm(DISEASES):\n",
    "    pd.concat(diseaseDict[d], axis=1).to_csv(here(f'03_downstream_analysis/08_gene_importance/new_shap_plots/results/SHAP_AVGsamples/SHAP_AVGsample_{cell_type}_{d}.csv'))"
   ]
  },
  {
   "cell_type": "code",
   "execution_count": null,
   "id": "1ab026ca-2694-4767-8dd7-5cc4d2caa863",
   "metadata": {
    "papermill": {
     "duration": 0.010918,
     "end_time": "2024-09-01T11:04:23.916681",
     "exception": false,
     "start_time": "2024-09-01T11:04:23.905763",
     "status": "completed"
    },
    "tags": []
   },
   "outputs": [],
   "source": []
  }
 ],
 "metadata": {
  "kernelspec": {
   "display_name": "Python 3 (ipykernel)",
   "language": "python",
   "name": "python3"
  },
  "language_info": {
   "codemirror_mode": {
    "name": "ipython",
    "version": 3
   },
   "file_extension": ".py",
   "mimetype": "text/x-python",
   "name": "python",
   "nbconvert_exporter": "python",
   "pygments_lexer": "ipython3",
   "version": "3.12.5"
  },
  "papermill": {
   "default_parameters": {},
   "duration": 288.897781,
   "end_time": "2024-09-01T11:04:24.643144",
   "environment_variables": {},
   "exception": null,
   "input_path": "computing_shap_patients.ipynb",
   "output_path": "executed_computing_shap_patients_T_CD4_NonNaive.ipynb",
   "parameters": {
    "cell_type": "T_CD4_NonNaive"
   },
   "start_time": "2024-09-01T10:59:35.745363",
   "version": "2.6.0"
  }
 },
 "nbformat": 4,
 "nbformat_minor": 5
}