{
 "cells": [
  {
   "cell_type": "code",
   "execution_count": 1,
   "id": "dc0e6c7e",
   "metadata": {
    "execution": {
     "iopub.execute_input": "2024-09-01T11:04:26.433075Z",
     "iopub.status.busy": "2024-09-01T11:04:26.432710Z",
     "iopub.status.idle": "2024-09-01T11:04:26.435149Z",
     "shell.execute_reply": "2024-09-01T11:04:26.434851Z"
    },
    "papermill": {
     "duration": 0.008334,
     "end_time": "2024-09-01T11:04:26.435968",
     "exception": false,
     "start_time": "2024-09-01T11:04:26.427634",
     "status": "completed"
    },
    "tags": [
     "injected-parameters"
    ]
   },
   "outputs": [],
   "source": [
    "# Parameters\n",
    "cell_type = \"T_CD8_NonNaive\"\n"
   ]
  },
  {
   "cell_type": "code",
   "execution_count": 2,
   "id": "7d9f9d3c-d92d-4087-bf7e-ac2459cb11f2",
   "metadata": {
    "execution": {
     "iopub.execute_input": "2024-09-01T11:04:26.451535Z",
     "iopub.status.busy": "2024-09-01T11:04:26.451184Z",
     "iopub.status.idle": "2024-09-01T11:04:26.948716Z",
     "shell.execute_reply": "2024-09-01T11:04:26.948302Z"
    },
    "papermill": {
     "duration": 0.504474,
     "end_time": "2024-09-01T11:04:26.949615",
     "exception": false,
     "start_time": "2024-09-01T11:04:26.445141",
     "status": "completed"
    },
    "tags": []
   },
   "outputs": [],
   "source": [
    "import sys\n",
    "import os\n",
    "\n",
    "import anndata as ad\n",
    "\n",
    "import pandas as pd\n",
    "import numpy as np\n",
    "\n",
    "from pyprojroot import here\n",
    "\n",
    "import re\n",
    "\n",
    "from tqdm import tqdm"
   ]
  },
  {
   "cell_type": "raw",
   "id": "c0757c2a-16e9-4863-8678-ad408c94695a",
   "metadata": {
    "execution": {
     "iopub.execute_input": "2024-09-01T10:21:08.081976Z",
     "iopub.status.busy": "2024-09-01T10:21:08.081673Z",
     "iopub.status.idle": "2024-09-01T10:21:08.084092Z",
     "shell.execute_reply": "2024-09-01T10:21:08.083792Z",
     "shell.execute_reply.started": "2024-09-01T10:21:08.081957Z"
    },
    "papermill": {
     "duration": 0.003618,
     "end_time": "2024-09-01T11:04:26.957362",
     "exception": false,
     "start_time": "2024-09-01T11:04:26.953744",
     "status": "completed"
    },
    "tags": []
   },
   "source": [
    "cell_type = 'Mono'"
   ]
  },
  {
   "cell_type": "code",
   "execution_count": 3,
   "id": "d2727fc1-e648-4c93-9db2-b52261cc0973",
   "metadata": {
    "execution": {
     "iopub.execute_input": "2024-09-01T11:04:26.966299Z",
     "iopub.status.busy": "2024-09-01T11:04:26.965775Z",
     "iopub.status.idle": "2024-09-01T11:04:26.969271Z",
     "shell.execute_reply": "2024-09-01T11:04:26.968969Z"
    },
    "papermill": {
     "duration": 0.008707,
     "end_time": "2024-09-01T11:04:26.970035",
     "exception": false,
     "start_time": "2024-09-01T11:04:26.961328",
     "status": "completed"
    },
    "tags": []
   },
   "outputs": [],
   "source": [
    "def load_sorted_shap_values_fnames(\n",
    "    cell_type: str = '',\n",
    "    run_name: str = 'run1'):\n",
    "\n",
    "    dirpath = here(f\"inflammabucket_bkp/03_downstream_analysis/05_SHAP/results/04_shap/shap_vals\")\n",
    "    fname_regex = f'^{run_name}_{cell_type}_shap_values_' + r'(\\d+)'\n",
    "    results_batches = [\n",
    "        (fname, int(re.search(fname_regex, fname).group(1)))\n",
    "        for fname in os.listdir(dirpath)\n",
    "        if re.search(fname_regex, fname)]\n",
    "\n",
    "    sorted_files = sorted(results_batches, key=lambda x: x[1])\n",
    "\n",
    "    sorted_filenames = [os.path.join(dirpath, filename) for filename, _ in sorted_files]\n",
    "\n",
    "    return sorted_filenames"
   ]
  },
  {
   "cell_type": "code",
   "execution_count": 4,
   "id": "e10ca0d3-2089-4dca-b377-2e062d331e1a",
   "metadata": {
    "execution": {
     "iopub.execute_input": "2024-09-01T11:04:26.978417Z",
     "iopub.status.busy": "2024-09-01T11:04:26.978128Z",
     "iopub.status.idle": "2024-09-01T11:07:33.162264Z",
     "shell.execute_reply": "2024-09-01T11:07:33.161315Z"
    },
    "papermill": {
     "duration": 186.189252,
     "end_time": "2024-09-01T11:07:33.163276",
     "exception": false,
     "start_time": "2024-09-01T11:04:26.974024",
     "status": "completed"
    },
    "tags": []
   },
   "outputs": [
    {
     "name": "stderr",
     "output_type": "stream",
     "text": [
      "\r",
      "  0%|          | 0/53 [00:00<?, ?it/s]"
     ]
    },
    {
     "name": "stderr",
     "output_type": "stream",
     "text": [
      "\r",
      "  2%|▏         | 1/53 [00:03<03:01,  3.49s/it]"
     ]
    },
    {
     "name": "stderr",
     "output_type": "stream",
     "text": [
      "\r",
      "  4%|▍         | 2/53 [00:06<02:58,  3.49s/it]"
     ]
    },
    {
     "name": "stderr",
     "output_type": "stream",
     "text": [
      "\r",
      "  6%|▌         | 3/53 [00:10<02:52,  3.46s/it]"
     ]
    },
    {
     "name": "stderr",
     "output_type": "stream",
     "text": [
      "\r",
      "  8%|▊         | 4/53 [00:13<02:50,  3.47s/it]"
     ]
    },
    {
     "name": "stderr",
     "output_type": "stream",
     "text": [
      "\r",
      "  9%|▉         | 5/53 [00:17<02:45,  3.45s/it]"
     ]
    },
    {
     "name": "stderr",
     "output_type": "stream",
     "text": [
      "\r",
      " 11%|█▏        | 6/53 [00:20<02:43,  3.47s/it]"
     ]
    },
    {
     "name": "stderr",
     "output_type": "stream",
     "text": [
      "\r",
      " 13%|█▎        | 7/53 [00:24<02:39,  3.46s/it]"
     ]
    },
    {
     "name": "stderr",
     "output_type": "stream",
     "text": [
      "\r",
      " 15%|█▌        | 8/53 [00:27<02:35,  3.45s/it]"
     ]
    },
    {
     "name": "stderr",
     "output_type": "stream",
     "text": [
      "\r",
      " 17%|█▋        | 9/53 [00:31<02:33,  3.49s/it]"
     ]
    },
    {
     "name": "stderr",
     "output_type": "stream",
     "text": [
      "\r",
      " 19%|█▉        | 10/53 [00:34<02:30,  3.51s/it]"
     ]
    },
    {
     "name": "stderr",
     "output_type": "stream",
     "text": [
      "\r",
      " 21%|██        | 11/53 [00:38<02:26,  3.49s/it]"
     ]
    },
    {
     "name": "stderr",
     "output_type": "stream",
     "text": [
      "\r",
      " 23%|██▎       | 12/53 [00:41<02:22,  3.47s/it]"
     ]
    },
    {
     "name": "stderr",
     "output_type": "stream",
     "text": [
      "\r",
      " 25%|██▍       | 13/53 [00:45<02:18,  3.46s/it]"
     ]
    },
    {
     "name": "stderr",
     "output_type": "stream",
     "text": [
      "\r",
      " 26%|██▋       | 14/53 [00:48<02:15,  3.49s/it]"
     ]
    },
    {
     "name": "stderr",
     "output_type": "stream",
     "text": [
      "\r",
      " 28%|██▊       | 15/53 [00:52<02:12,  3.49s/it]"
     ]
    },
    {
     "name": "stderr",
     "output_type": "stream",
     "text": [
      "\r",
      " 30%|███       | 16/53 [00:55<02:09,  3.50s/it]"
     ]
    },
    {
     "name": "stderr",
     "output_type": "stream",
     "text": [
      "\r",
      " 32%|███▏      | 17/53 [00:59<02:05,  3.50s/it]"
     ]
    },
    {
     "name": "stderr",
     "output_type": "stream",
     "text": [
      "\r",
      " 34%|███▍      | 18/53 [01:02<02:03,  3.52s/it]"
     ]
    },
    {
     "name": "stderr",
     "output_type": "stream",
     "text": [
      "\r",
      " 36%|███▌      | 19/53 [01:06<01:59,  3.52s/it]"
     ]
    },
    {
     "name": "stderr",
     "output_type": "stream",
     "text": [
      "\r",
      " 38%|███▊      | 20/53 [01:09<01:55,  3.51s/it]"
     ]
    },
    {
     "name": "stderr",
     "output_type": "stream",
     "text": [
      "\r",
      " 40%|███▉      | 21/53 [01:13<01:51,  3.48s/it]"
     ]
    },
    {
     "name": "stderr",
     "output_type": "stream",
     "text": [
      "\r",
      " 42%|████▏     | 22/53 [01:16<01:47,  3.46s/it]"
     ]
    },
    {
     "name": "stderr",
     "output_type": "stream",
     "text": [
      "\r",
      " 43%|████▎     | 23/53 [01:20<01:44,  3.47s/it]"
     ]
    },
    {
     "name": "stderr",
     "output_type": "stream",
     "text": [
      "\r",
      " 45%|████▌     | 24/53 [01:23<01:41,  3.49s/it]"
     ]
    },
    {
     "name": "stderr",
     "output_type": "stream",
     "text": [
      "\r",
      " 47%|████▋     | 25/53 [01:27<01:42,  3.65s/it]"
     ]
    },
    {
     "name": "stderr",
     "output_type": "stream",
     "text": [
      "\r",
      " 49%|████▉     | 26/53 [01:31<01:37,  3.60s/it]"
     ]
    },
    {
     "name": "stderr",
     "output_type": "stream",
     "text": [
      "\r",
      " 51%|█████     | 27/53 [01:34<01:32,  3.56s/it]"
     ]
    },
    {
     "name": "stderr",
     "output_type": "stream",
     "text": [
      "\r",
      " 53%|█████▎    | 28/53 [01:38<01:29,  3.57s/it]"
     ]
    },
    {
     "name": "stderr",
     "output_type": "stream",
     "text": [
      "\r",
      " 55%|█████▍    | 29/53 [01:41<01:24,  3.54s/it]"
     ]
    },
    {
     "name": "stderr",
     "output_type": "stream",
     "text": [
      "\r",
      " 57%|█████▋    | 30/53 [01:45<01:21,  3.54s/it]"
     ]
    },
    {
     "name": "stderr",
     "output_type": "stream",
     "text": [
      "\r",
      " 58%|█████▊    | 31/53 [01:48<01:17,  3.54s/it]"
     ]
    },
    {
     "name": "stderr",
     "output_type": "stream",
     "text": [
      "\r",
      " 60%|██████    | 32/53 [01:52<01:14,  3.54s/it]"
     ]
    },
    {
     "name": "stderr",
     "output_type": "stream",
     "text": [
      "\r",
      " 62%|██████▏   | 33/53 [01:55<01:10,  3.52s/it]"
     ]
    },
    {
     "name": "stderr",
     "output_type": "stream",
     "text": [
      "\r",
      " 64%|██████▍   | 34/53 [01:59<01:06,  3.52s/it]"
     ]
    },
    {
     "name": "stderr",
     "output_type": "stream",
     "text": [
      "\r",
      " 66%|██████▌   | 35/53 [02:02<01:03,  3.50s/it]"
     ]
    },
    {
     "name": "stderr",
     "output_type": "stream",
     "text": [
      "\r",
      " 68%|██████▊   | 36/53 [02:06<00:59,  3.48s/it]"
     ]
    },
    {
     "name": "stderr",
     "output_type": "stream",
     "text": [
      "\r",
      " 70%|██████▉   | 37/53 [02:09<00:55,  3.48s/it]"
     ]
    },
    {
     "name": "stderr",
     "output_type": "stream",
     "text": [
      "\r",
      " 72%|███████▏  | 38/53 [02:13<00:52,  3.47s/it]"
     ]
    },
    {
     "name": "stderr",
     "output_type": "stream",
     "text": [
      "\r",
      " 74%|███████▎  | 39/53 [02:16<00:48,  3.47s/it]"
     ]
    },
    {
     "name": "stderr",
     "output_type": "stream",
     "text": [
      "\r",
      " 75%|███████▌  | 40/53 [02:20<00:45,  3.48s/it]"
     ]
    },
    {
     "name": "stderr",
     "output_type": "stream",
     "text": [
      "\r",
      " 77%|███████▋  | 41/53 [02:23<00:41,  3.48s/it]"
     ]
    },
    {
     "name": "stderr",
     "output_type": "stream",
     "text": [
      "\r",
      " 79%|███████▉  | 42/53 [02:26<00:38,  3.46s/it]"
     ]
    },
    {
     "name": "stderr",
     "output_type": "stream",
     "text": [
      "\r",
      " 81%|████████  | 43/53 [02:30<00:34,  3.44s/it]"
     ]
    },
    {
     "name": "stderr",
     "output_type": "stream",
     "text": [
      "\r",
      " 83%|████████▎ | 44/53 [02:33<00:31,  3.45s/it]"
     ]
    },
    {
     "name": "stderr",
     "output_type": "stream",
     "text": [
      "\r",
      " 85%|████████▍ | 45/53 [02:37<00:27,  3.46s/it]"
     ]
    },
    {
     "name": "stderr",
     "output_type": "stream",
     "text": [
      "\r",
      " 87%|████████▋ | 46/53 [02:40<00:24,  3.46s/it]"
     ]
    },
    {
     "name": "stderr",
     "output_type": "stream",
     "text": [
      "\r",
      " 89%|████████▊ | 47/53 [02:44<00:20,  3.44s/it]"
     ]
    },
    {
     "name": "stderr",
     "output_type": "stream",
     "text": [
      "\r",
      " 91%|█████████ | 48/53 [02:47<00:17,  3.45s/it]"
     ]
    },
    {
     "name": "stderr",
     "output_type": "stream",
     "text": [
      "\r",
      " 92%|█████████▏| 49/53 [02:51<00:14,  3.56s/it]"
     ]
    },
    {
     "name": "stderr",
     "output_type": "stream",
     "text": [
      "\r",
      " 94%|█████████▍| 50/53 [02:55<00:11,  3.69s/it]"
     ]
    },
    {
     "name": "stderr",
     "output_type": "stream",
     "text": [
      "\r",
      " 96%|█████████▌| 51/53 [02:59<00:07,  3.79s/it]"
     ]
    },
    {
     "name": "stderr",
     "output_type": "stream",
     "text": [
      "\r",
      " 98%|█████████▊| 52/53 [03:04<00:04,  4.12s/it]"
     ]
    },
    {
     "name": "stderr",
     "output_type": "stream",
     "text": [
      "\r",
      "100%|██████████| 53/53 [03:06<00:00,  3.43s/it]"
     ]
    },
    {
     "name": "stderr",
     "output_type": "stream",
     "text": [
      "\r",
      "100%|██████████| 53/53 [03:06<00:00,  3.51s/it]"
     ]
    },
    {
     "name": "stderr",
     "output_type": "stream",
     "text": [
      "\n"
     ]
    }
   ],
   "source": [
    "shap_val_list = [np.load(fname)['shap_values'] for fname in tqdm(load_sorted_shap_values_fnames(cell_type))] \n"
   ]
  },
  {
   "cell_type": "code",
   "execution_count": 5,
   "id": "729012ec-dd58-4fb6-80bd-05ad35695f84",
   "metadata": {
    "execution": {
     "iopub.execute_input": "2024-09-01T11:07:33.298962Z",
     "iopub.status.busy": "2024-09-01T11:07:33.298478Z",
     "iopub.status.idle": "2024-09-01T11:07:34.835341Z",
     "shell.execute_reply": "2024-09-01T11:07:34.834787Z"
    },
    "papermill": {
     "duration": 1.615174,
     "end_time": "2024-09-01T11:07:34.836443",
     "exception": false,
     "start_time": "2024-09-01T11:07:33.221269",
     "status": "completed"
    },
    "tags": []
   },
   "outputs": [],
   "source": [
    "adata = ad.read_h5ad(here(f'inflammabucket_bkp/03_downstream_analysis/05_SHAP/data/{cell_type}_adataMerged_SPECTRAgenes.log1p.h5ad'), backed='r')"
   ]
  },
  {
   "cell_type": "code",
   "execution_count": 6,
   "id": "70e8f69a-71a9-4186-8751-5374deacfe31",
   "metadata": {
    "execution": {
     "iopub.execute_input": "2024-09-01T11:07:34.852519Z",
     "iopub.status.busy": "2024-09-01T11:07:34.852365Z",
     "iopub.status.idle": "2024-09-01T11:07:34.862475Z",
     "shell.execute_reply": "2024-09-01T11:07:34.861757Z"
    },
    "papermill": {
     "duration": 0.018181,
     "end_time": "2024-09-01T11:07:34.863271",
     "exception": false,
     "start_time": "2024-09-01T11:07:34.845090",
     "status": "completed"
    },
    "tags": []
   },
   "outputs": [],
   "source": [
    "## Gene symbols and Disease labels\n",
    "symbols_df = pd.read_pickle(here('inflammabucket_bkp/03_downstream_analysis/04_selected_gene_list.pkl'))\n",
    "symbols_sorted = symbols_df.loc[adata.var_names].symbol.values\n",
    "\n",
    "DISEASES = ['BRCA', 'CD', 'COPD', 'COVID', 'CRC', 'HBV', 'HIV', 'HNSCC', 'MS', 'NPC', 'PS', 'PSA', 'RA', 'SLE', 'UC', 'asthma', 'cirrhosis', 'flu', 'healthy', 'sepsis']\n",
    "\n",
    "diseaseDict = dict()\n",
    "for d in DISEASES:\n",
    "    diseaseDict[d] = []"
   ]
  },
  {
   "cell_type": "code",
   "execution_count": 7,
   "id": "30024bf4-26b9-4f1e-b838-6d5c82e6360c",
   "metadata": {
    "execution": {
     "iopub.execute_input": "2024-09-01T11:07:34.956542Z",
     "iopub.status.busy": "2024-09-01T11:07:34.956164Z",
     "iopub.status.idle": "2024-09-01T11:07:39.908487Z",
     "shell.execute_reply": "2024-09-01T11:07:39.907964Z"
    },
    "papermill": {
     "duration": 4.959834,
     "end_time": "2024-09-01T11:07:39.909665",
     "exception": false,
     "start_time": "2024-09-01T11:07:34.949831",
     "status": "completed"
    },
    "tags": []
   },
   "outputs": [],
   "source": [
    "shape_values_matrix = np.concatenate(shap_val_list)"
   ]
  },
  {
   "cell_type": "code",
   "execution_count": 8,
   "id": "470a80d5-2725-4945-b55c-c87b3704d610",
   "metadata": {
    "execution": {
     "iopub.execute_input": "2024-09-01T11:07:39.984612Z",
     "iopub.status.busy": "2024-09-01T11:07:39.984460Z",
     "iopub.status.idle": "2024-09-01T11:07:48.589105Z",
     "shell.execute_reply": "2024-09-01T11:07:48.588657Z"
    },
    "papermill": {
     "duration": 8.611911,
     "end_time": "2024-09-01T11:07:48.589927",
     "exception": false,
     "start_time": "2024-09-01T11:07:39.978016",
     "status": "completed"
    },
    "tags": []
   },
   "outputs": [
    {
     "name": "stderr",
     "output_type": "stream",
     "text": [
      "\r",
      "  0%|          | 0/817 [00:00<?, ?it/s]"
     ]
    },
    {
     "name": "stderr",
     "output_type": "stream",
     "text": [
      "\r",
      "  1%|          | 7/817 [00:00<00:12, 63.76it/s]"
     ]
    },
    {
     "name": "stderr",
     "output_type": "stream",
     "text": [
      "\r",
      "  2%|▏         | 14/817 [00:00<00:12, 66.52it/s]"
     ]
    },
    {
     "name": "stderr",
     "output_type": "stream",
     "text": [
      "\r",
      "  3%|▎         | 21/817 [00:00<00:14, 55.30it/s]"
     ]
    },
    {
     "name": "stderr",
     "output_type": "stream",
     "text": [
      "\r",
      "  4%|▍         | 31/817 [00:00<00:11, 67.92it/s]"
     ]
    },
    {
     "name": "stderr",
     "output_type": "stream",
     "text": [
      "\r",
      "  5%|▌         | 44/817 [00:00<00:09, 84.14it/s]"
     ]
    },
    {
     "name": "stderr",
     "output_type": "stream",
     "text": [
      "\r",
      "  7%|▋         | 55/817 [00:00<00:08, 88.26it/s]"
     ]
    },
    {
     "name": "stderr",
     "output_type": "stream",
     "text": [
      "\r",
      "  8%|▊         | 68/817 [00:00<00:07, 98.12it/s]"
     ]
    },
    {
     "name": "stderr",
     "output_type": "stream",
     "text": [
      "\r",
      " 10%|▉         | 81/817 [00:00<00:07, 103.93it/s]"
     ]
    },
    {
     "name": "stderr",
     "output_type": "stream",
     "text": [
      "\r",
      " 11%|█▏        | 92/817 [00:01<00:07, 102.79it/s]"
     ]
    },
    {
     "name": "stderr",
     "output_type": "stream",
     "text": [
      "\r",
      " 14%|█▍        | 115/817 [00:01<00:05, 138.43it/s]"
     ]
    },
    {
     "name": "stderr",
     "output_type": "stream",
     "text": [
      "\r",
      " 16%|█▌        | 130/817 [00:01<00:05, 120.04it/s]"
     ]
    },
    {
     "name": "stderr",
     "output_type": "stream",
     "text": [
      "\r",
      " 18%|█▊        | 143/817 [00:01<00:09, 73.20it/s] "
     ]
    },
    {
     "name": "stderr",
     "output_type": "stream",
     "text": [
      "\r",
      " 19%|█▉        | 155/817 [00:01<00:08, 81.45it/s]"
     ]
    },
    {
     "name": "stderr",
     "output_type": "stream",
     "text": [
      "\r",
      " 20%|██        | 167/817 [00:01<00:08, 80.97it/s]"
     ]
    },
    {
     "name": "stderr",
     "output_type": "stream",
     "text": [
      "\r",
      " 22%|██▏       | 177/817 [00:02<00:08, 78.84it/s]"
     ]
    },
    {
     "name": "stderr",
     "output_type": "stream",
     "text": [
      "\r",
      " 23%|██▎       | 189/817 [00:02<00:07, 86.62it/s]"
     ]
    },
    {
     "name": "stderr",
     "output_type": "stream",
     "text": [
      "\r",
      " 25%|██▍       | 202/817 [00:02<00:06, 94.97it/s]"
     ]
    },
    {
     "name": "stderr",
     "output_type": "stream",
     "text": [
      "\r",
      " 26%|██▋       | 215/817 [00:02<00:05, 103.43it/s]"
     ]
    },
    {
     "name": "stderr",
     "output_type": "stream",
     "text": [
      "\r",
      " 28%|██▊       | 229/817 [00:02<00:05, 112.04it/s]"
     ]
    },
    {
     "name": "stderr",
     "output_type": "stream",
     "text": [
      "\r",
      " 29%|██▉       | 241/817 [00:02<00:05, 113.62it/s]"
     ]
    },
    {
     "name": "stderr",
     "output_type": "stream",
     "text": [
      "\r",
      " 31%|███       | 254/817 [00:02<00:04, 117.35it/s]"
     ]
    },
    {
     "name": "stderr",
     "output_type": "stream",
     "text": [
      "\r",
      " 33%|███▎      | 268/817 [00:02<00:04, 122.24it/s]"
     ]
    },
    {
     "name": "stderr",
     "output_type": "stream",
     "text": [
      "\r",
      " 35%|███▌      | 288/817 [00:02<00:03, 142.74it/s]"
     ]
    },
    {
     "name": "stderr",
     "output_type": "stream",
     "text": [
      "\r",
      " 37%|███▋      | 303/817 [00:02<00:03, 142.72it/s]"
     ]
    },
    {
     "name": "stderr",
     "output_type": "stream",
     "text": [
      "\r",
      " 39%|███▉      | 318/817 [00:03<00:03, 144.25it/s]"
     ]
    },
    {
     "name": "stderr",
     "output_type": "stream",
     "text": [
      "\r",
      " 41%|████      | 337/817 [00:03<00:03, 144.87it/s]"
     ]
    },
    {
     "name": "stderr",
     "output_type": "stream",
     "text": [
      "\r",
      " 43%|████▎     | 352/817 [00:03<00:04, 97.52it/s] "
     ]
    },
    {
     "name": "stderr",
     "output_type": "stream",
     "text": [
      "\r",
      " 45%|████▍     | 364/817 [00:03<00:04, 94.20it/s]"
     ]
    },
    {
     "name": "stderr",
     "output_type": "stream",
     "text": [
      "\r",
      " 46%|████▌     | 375/817 [00:03<00:05, 85.26it/s]"
     ]
    },
    {
     "name": "stderr",
     "output_type": "stream",
     "text": [
      "\r",
      " 47%|████▋     | 385/817 [00:03<00:05, 76.75it/s]"
     ]
    },
    {
     "name": "stderr",
     "output_type": "stream",
     "text": [
      "\r",
      " 49%|████▉     | 400/817 [00:04<00:04, 91.57it/s]"
     ]
    },
    {
     "name": "stderr",
     "output_type": "stream",
     "text": [
      "\r",
      " 50%|█████     | 411/817 [00:04<00:04, 91.69it/s]"
     ]
    },
    {
     "name": "stderr",
     "output_type": "stream",
     "text": [
      "\r",
      " 53%|█████▎    | 430/817 [00:04<00:03, 114.66it/s]"
     ]
    },
    {
     "name": "stderr",
     "output_type": "stream",
     "text": [
      "\r",
      " 54%|█████▍    | 443/817 [00:04<00:03, 117.75it/s]"
     ]
    },
    {
     "name": "stderr",
     "output_type": "stream",
     "text": [
      "\r",
      " 56%|█████▌    | 456/817 [00:04<00:03, 117.38it/s]"
     ]
    },
    {
     "name": "stderr",
     "output_type": "stream",
     "text": [
      "\r",
      " 58%|█████▊    | 471/817 [00:04<00:02, 125.73it/s]"
     ]
    },
    {
     "name": "stderr",
     "output_type": "stream",
     "text": [
      "\r",
      " 60%|█████▉    | 490/817 [00:04<00:02, 140.02it/s]"
     ]
    },
    {
     "name": "stderr",
     "output_type": "stream",
     "text": [
      "\r",
      " 62%|██████▏   | 505/817 [00:04<00:02, 136.53it/s]"
     ]
    },
    {
     "name": "stderr",
     "output_type": "stream",
     "text": [
      "\r",
      " 64%|██████▍   | 524/817 [00:04<00:01, 149.23it/s]"
     ]
    },
    {
     "name": "stderr",
     "output_type": "stream",
     "text": [
      "\r",
      " 66%|██████▌   | 540/817 [00:05<00:01, 140.87it/s]"
     ]
    },
    {
     "name": "stderr",
     "output_type": "stream",
     "text": [
      "\r",
      " 68%|██████▊   | 555/817 [00:05<00:01, 142.75it/s]"
     ]
    },
    {
     "name": "stderr",
     "output_type": "stream",
     "text": [
      "\r",
      " 70%|██████▉   | 571/817 [00:05<00:01, 146.78it/s]"
     ]
    },
    {
     "name": "stderr",
     "output_type": "stream",
     "text": [
      "\r",
      " 72%|███████▏  | 586/817 [00:05<00:01, 135.89it/s]"
     ]
    },
    {
     "name": "stderr",
     "output_type": "stream",
     "text": [
      "\r",
      " 73%|███████▎  | 600/817 [00:05<00:01, 110.77it/s]"
     ]
    },
    {
     "name": "stderr",
     "output_type": "stream",
     "text": [
      "\r",
      " 75%|███████▍  | 612/817 [00:05<00:01, 110.00it/s]"
     ]
    },
    {
     "name": "stderr",
     "output_type": "stream",
     "text": [
      "\r",
      " 76%|███████▋  | 624/817 [00:05<00:01, 108.58it/s]"
     ]
    },
    {
     "name": "stderr",
     "output_type": "stream",
     "text": [
      "\r",
      " 78%|███████▊  | 636/817 [00:06<00:02, 89.22it/s] "
     ]
    },
    {
     "name": "stderr",
     "output_type": "stream",
     "text": [
      "\r",
      " 79%|███████▉  | 648/817 [00:06<00:01, 93.35it/s]"
     ]
    },
    {
     "name": "stderr",
     "output_type": "stream",
     "text": [
      "\r",
      " 81%|████████  | 658/817 [00:06<00:01, 79.53it/s]"
     ]
    },
    {
     "name": "stderr",
     "output_type": "stream",
     "text": [
      "\r",
      " 82%|████████▏ | 669/817 [00:06<00:01, 86.15it/s]"
     ]
    },
    {
     "name": "stderr",
     "output_type": "stream",
     "text": [
      "\r",
      " 83%|████████▎ | 679/817 [00:06<00:01, 79.87it/s]"
     ]
    },
    {
     "name": "stderr",
     "output_type": "stream",
     "text": [
      "\r",
      " 84%|████████▍ | 689/817 [00:06<00:01, 83.83it/s]"
     ]
    },
    {
     "name": "stderr",
     "output_type": "stream",
     "text": [
      "\r",
      " 86%|████████▌ | 700/817 [00:06<00:01, 86.29it/s]"
     ]
    },
    {
     "name": "stderr",
     "output_type": "stream",
     "text": [
      "\r",
      " 87%|████████▋ | 709/817 [00:06<00:01, 87.07it/s]"
     ]
    },
    {
     "name": "stderr",
     "output_type": "stream",
     "text": [
      "\r",
      " 88%|████████▊ | 718/817 [00:07<00:01, 79.52it/s]"
     ]
    },
    {
     "name": "stderr",
     "output_type": "stream",
     "text": [
      "\r",
      " 89%|████████▉ | 727/817 [00:07<00:01, 70.07it/s]"
     ]
    },
    {
     "name": "stderr",
     "output_type": "stream",
     "text": [
      "\r",
      " 90%|████████▉ | 735/817 [00:07<00:01, 68.66it/s]"
     ]
    },
    {
     "name": "stderr",
     "output_type": "stream",
     "text": [
      "\r",
      " 91%|█████████ | 743/817 [00:07<00:01, 70.07it/s]"
     ]
    },
    {
     "name": "stderr",
     "output_type": "stream",
     "text": [
      "\r",
      " 92%|█████████▏| 752/817 [00:07<00:00, 72.73it/s]"
     ]
    },
    {
     "name": "stderr",
     "output_type": "stream",
     "text": [
      "\r",
      " 93%|█████████▎| 760/817 [00:07<00:00, 69.63it/s]"
     ]
    },
    {
     "name": "stderr",
     "output_type": "stream",
     "text": [
      "\r",
      " 94%|█████████▍| 768/817 [00:07<00:00, 72.23it/s]"
     ]
    },
    {
     "name": "stderr",
     "output_type": "stream",
     "text": [
      "\r",
      " 95%|█████████▍| 776/817 [00:07<00:00, 73.67it/s]"
     ]
    },
    {
     "name": "stderr",
     "output_type": "stream",
     "text": [
      "\r",
      " 96%|█████████▌| 784/817 [00:07<00:00, 74.09it/s]"
     ]
    },
    {
     "name": "stderr",
     "output_type": "stream",
     "text": [
      "\r",
      " 97%|█████████▋| 792/817 [00:08<00:00, 71.45it/s]"
     ]
    },
    {
     "name": "stderr",
     "output_type": "stream",
     "text": [
      "\r",
      " 98%|█████████▊| 800/817 [00:08<00:00, 66.16it/s]"
     ]
    },
    {
     "name": "stderr",
     "output_type": "stream",
     "text": [
      "\r",
      " 99%|█████████▉| 807/817 [00:08<00:00, 60.49it/s]"
     ]
    },
    {
     "name": "stderr",
     "output_type": "stream",
     "text": [
      "\r",
      "100%|█████████▉| 814/817 [00:08<00:00, 57.45it/s]"
     ]
    },
    {
     "name": "stderr",
     "output_type": "stream",
     "text": [
      "\r",
      "100%|██████████| 817/817 [00:08<00:00, 95.12it/s]"
     ]
    },
    {
     "name": "stderr",
     "output_type": "stream",
     "text": [
      "\n"
     ]
    }
   ],
   "source": [
    "for idx, values in tqdm(adata.obs.groupby('sampleID', observed=True).indices.items()):\n",
    "    geneXdisease_sample_i = pd.DataFrame(shape_values_matrix[values].mean(0))\n",
    "    geneXdisease_sample_i.columns = DISEASES\n",
    "    geneXdisease_sample_i.index = symbols_sorted\n",
    "    for d in geneXdisease_sample_i.columns:\n",
    "        diseaseDict[d].append(pd.DataFrame.from_dict({idx:geneXdisease_sample_i[d]}))"
   ]
  },
  {
   "cell_type": "code",
   "execution_count": 9,
   "id": "86ec17e8-ee14-4724-b84a-0a176feb933b",
   "metadata": {
    "execution": {
     "iopub.execute_input": "2024-09-01T11:07:48.637609Z",
     "iopub.status.busy": "2024-09-01T11:07:48.637162Z",
     "iopub.status.idle": "2024-09-01T11:08:13.766127Z",
     "shell.execute_reply": "2024-09-01T11:08:13.765578Z"
    },
    "papermill": {
     "duration": 25.13918,
     "end_time": "2024-09-01T11:08:13.766990",
     "exception": false,
     "start_time": "2024-09-01T11:07:48.627810",
     "status": "completed"
    },
    "tags": []
   },
   "outputs": [
    {
     "name": "stderr",
     "output_type": "stream",
     "text": [
      "\r",
      "  0%|          | 0/20 [00:00<?, ?it/s]"
     ]
    },
    {
     "name": "stderr",
     "output_type": "stream",
     "text": [
      "\r",
      "  5%|▌         | 1/20 [00:01<00:20,  1.08s/it]"
     ]
    },
    {
     "name": "stderr",
     "output_type": "stream",
     "text": [
      "\r",
      " 10%|█         | 2/20 [00:02<00:23,  1.31s/it]"
     ]
    },
    {
     "name": "stderr",
     "output_type": "stream",
     "text": [
      "\r",
      " 15%|█▌        | 3/20 [00:04<00:24,  1.47s/it]"
     ]
    },
    {
     "name": "stderr",
     "output_type": "stream",
     "text": [
      "\r",
      " 20%|██        | 4/20 [00:06<00:25,  1.62s/it]"
     ]
    },
    {
     "name": "stderr",
     "output_type": "stream",
     "text": [
      "\r",
      " 25%|██▌       | 5/20 [00:07<00:22,  1.51s/it]"
     ]
    },
    {
     "name": "stderr",
     "output_type": "stream",
     "text": [
      "\r",
      " 30%|███       | 6/20 [00:08<00:21,  1.52s/it]"
     ]
    },
    {
     "name": "stderr",
     "output_type": "stream",
     "text": [
      "\r",
      " 35%|███▌      | 7/20 [00:10<00:18,  1.39s/it]"
     ]
    },
    {
     "name": "stderr",
     "output_type": "stream",
     "text": [
      "\r",
      " 40%|████      | 8/20 [00:11<00:15,  1.32s/it]"
     ]
    },
    {
     "name": "stderr",
     "output_type": "stream",
     "text": [
      "\r",
      " 45%|████▌     | 9/20 [00:11<00:12,  1.10s/it]"
     ]
    },
    {
     "name": "stderr",
     "output_type": "stream",
     "text": [
      "\r",
      " 50%|█████     | 10/20 [00:12<00:11,  1.11s/it]"
     ]
    },
    {
     "name": "stderr",
     "output_type": "stream",
     "text": [
      "\r",
      " 55%|█████▌    | 11/20 [00:13<00:09,  1.05s/it]"
     ]
    },
    {
     "name": "stderr",
     "output_type": "stream",
     "text": [
      "\r",
      " 60%|██████    | 12/20 [00:15<00:08,  1.08s/it]"
     ]
    },
    {
     "name": "stderr",
     "output_type": "stream",
     "text": [
      "\r",
      " 65%|██████▌   | 13/20 [00:16<00:07,  1.07s/it]"
     ]
    },
    {
     "name": "stderr",
     "output_type": "stream",
     "text": [
      "\r",
      " 70%|███████   | 14/20 [00:17<00:06,  1.11s/it]"
     ]
    },
    {
     "name": "stderr",
     "output_type": "stream",
     "text": [
      "\r",
      " 75%|███████▌  | 15/20 [00:18<00:05,  1.10s/it]"
     ]
    },
    {
     "name": "stderr",
     "output_type": "stream",
     "text": [
      "\r",
      " 80%|████████  | 16/20 [00:19<00:04,  1.15s/it]"
     ]
    },
    {
     "name": "stderr",
     "output_type": "stream",
     "text": [
      "\r",
      " 85%|████████▌ | 17/20 [00:20<00:03,  1.02s/it]"
     ]
    },
    {
     "name": "stderr",
     "output_type": "stream",
     "text": [
      "\r",
      " 90%|█████████ | 18/20 [00:22<00:02,  1.30s/it]"
     ]
    },
    {
     "name": "stderr",
     "output_type": "stream",
     "text": [
      "\r",
      " 95%|█████████▌| 19/20 [00:24<00:01,  1.45s/it]"
     ]
    },
    {
     "name": "stderr",
     "output_type": "stream",
     "text": [
      "\r",
      "100%|██████████| 20/20 [00:25<00:00,  1.33s/it]"
     ]
    },
    {
     "name": "stderr",
     "output_type": "stream",
     "text": [
      "\r",
      "100%|██████████| 20/20 [00:25<00:00,  1.26s/it]"
     ]
    },
    {
     "name": "stderr",
     "output_type": "stream",
     "text": [
      "\n"
     ]
    }
   ],
   "source": [
    "for d in tqdm(DISEASES):\n",
    "    pd.concat(diseaseDict[d], axis=1).to_csv(here(f'03_downstream_analysis/08_gene_importance/new_shap_plots/results/SHAP_AVGsamples/SHAP_AVGsample_{cell_type}_{d}.csv'))"
   ]
  },
  {
   "cell_type": "code",
   "execution_count": null,
   "id": "1ab026ca-2694-4767-8dd7-5cc4d2caa863",
   "metadata": {
    "papermill": {
     "duration": 0.119193,
     "end_time": "2024-09-01T11:08:13.924531",
     "exception": false,
     "start_time": "2024-09-01T11:08:13.805338",
     "status": "completed"
    },
    "tags": []
   },
   "outputs": [],
   "source": []
  }
 ],
 "metadata": {
  "kernelspec": {
   "display_name": "Python 3 (ipykernel)",
   "language": "python",
   "name": "python3"
  },
  "language_info": {
   "codemirror_mode": {
    "name": "ipython",
    "version": 3
   },
   "file_extension": ".py",
   "mimetype": "text/x-python",
   "name": "python",
   "nbconvert_exporter": "python",
   "pygments_lexer": "ipython3",
   "version": "3.12.5"
  },
  "papermill": {
   "default_parameters": {},
   "duration": 229.236246,
   "end_time": "2024-09-01T11:08:14.561305",
   "environment_variables": {},
   "exception": null,
   "input_path": "computing_shap_patients.ipynb",
   "output_path": "executed_computing_shap_patients_T_CD8_NonNaive.ipynb",
   "parameters": {
    "cell_type": "T_CD8_NonNaive"
   },
   "start_time": "2024-09-01T11:04:25.325059",
   "version": "2.6.0"
  }
 },
 "nbformat": 4,
 "nbformat_minor": 5
}