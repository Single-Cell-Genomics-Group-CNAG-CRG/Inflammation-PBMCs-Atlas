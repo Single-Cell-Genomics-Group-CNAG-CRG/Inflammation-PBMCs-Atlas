{
 "cells": [
  {
   "cell_type": "code",
   "execution_count": 1,
   "id": "ff8f288a",
   "metadata": {
    "execution": {
     "iopub.execute_input": "2024-09-01T11:07:10.934843Z",
     "iopub.status.busy": "2024-09-01T11:07:10.934495Z",
     "iopub.status.idle": "2024-09-01T11:07:10.937008Z",
     "shell.execute_reply": "2024-09-01T11:07:10.936637Z"
    },
    "papermill": {
     "duration": 0.008249,
     "end_time": "2024-09-01T11:07:10.937847",
     "exception": false,
     "start_time": "2024-09-01T11:07:10.929598",
     "status": "completed"
    },
    "tags": [
     "injected-parameters"
    ]
   },
   "outputs": [],
   "source": [
    "# Parameters\n",
    "cell_type = \"Plasma\"\n"
   ]
  },
  {
   "cell_type": "code",
   "execution_count": 2,
   "id": "7d9f9d3c-d92d-4087-bf7e-ac2459cb11f2",
   "metadata": {
    "execution": {
     "iopub.execute_input": "2024-09-01T11:07:10.946526Z",
     "iopub.status.busy": "2024-09-01T11:07:10.946222Z",
     "iopub.status.idle": "2024-09-01T11:07:11.600621Z",
     "shell.execute_reply": "2024-09-01T11:07:11.600136Z"
    },
    "papermill": {
     "duration": 0.660004,
     "end_time": "2024-09-01T11:07:11.601899",
     "exception": false,
     "start_time": "2024-09-01T11:07:10.941895",
     "status": "completed"
    },
    "tags": []
   },
   "outputs": [],
   "source": [
    "import sys\n",
    "import os\n",
    "\n",
    "import anndata as ad\n",
    "\n",
    "import pandas as pd\n",
    "import numpy as np\n",
    "\n",
    "from pyprojroot import here\n",
    "\n",
    "import re\n",
    "\n",
    "from tqdm import tqdm"
   ]
  },
  {
   "cell_type": "raw",
   "id": "c0757c2a-16e9-4863-8678-ad408c94695a",
   "metadata": {
    "execution": {
     "iopub.execute_input": "2024-09-01T10:21:08.081976Z",
     "iopub.status.busy": "2024-09-01T10:21:08.081673Z",
     "iopub.status.idle": "2024-09-01T10:21:08.084092Z",
     "shell.execute_reply": "2024-09-01T10:21:08.083792Z",
     "shell.execute_reply.started": "2024-09-01T10:21:08.081957Z"
    },
    "papermill": {
     "duration": 0.003588,
     "end_time": "2024-09-01T11:07:11.610176",
     "exception": false,
     "start_time": "2024-09-01T11:07:11.606588",
     "status": "completed"
    },
    "tags": []
   },
   "source": [
    "cell_type = 'Mono'"
   ]
  },
  {
   "cell_type": "code",
   "execution_count": 3,
   "id": "d2727fc1-e648-4c93-9db2-b52261cc0973",
   "metadata": {
    "execution": {
     "iopub.execute_input": "2024-09-01T11:07:11.618207Z",
     "iopub.status.busy": "2024-09-01T11:07:11.617767Z",
     "iopub.status.idle": "2024-09-01T11:07:11.621260Z",
     "shell.execute_reply": "2024-09-01T11:07:11.620887Z"
    },
    "papermill": {
     "duration": 0.008345,
     "end_time": "2024-09-01T11:07:11.622039",
     "exception": false,
     "start_time": "2024-09-01T11:07:11.613694",
     "status": "completed"
    },
    "tags": []
   },
   "outputs": [],
   "source": [
    "def load_sorted_shap_values_fnames(\n",
    "    cell_type: str = '',\n",
    "    run_name: str = 'run1'):\n",
    "\n",
    "    dirpath = here(f\"inflammabucket_bkp/03_downstream_analysis/05_SHAP/results/04_shap/shap_vals\")\n",
    "    fname_regex = f'^{run_name}_{cell_type}_shap_values_' + r'(\\d+)'\n",
    "    results_batches = [\n",
    "        (fname, int(re.search(fname_regex, fname).group(1)))\n",
    "        for fname in os.listdir(dirpath)\n",
    "        if re.search(fname_regex, fname)]\n",
    "\n",
    "    sorted_files = sorted(results_batches, key=lambda x: x[1])\n",
    "\n",
    "    sorted_filenames = [os.path.join(dirpath, filename) for filename, _ in sorted_files]\n",
    "\n",
    "    return sorted_filenames"
   ]
  },
  {
   "cell_type": "code",
   "execution_count": 4,
   "id": "e10ca0d3-2089-4dca-b377-2e062d331e1a",
   "metadata": {
    "execution": {
     "iopub.execute_input": "2024-09-01T11:07:11.630858Z",
     "iopub.status.busy": "2024-09-01T11:07:11.630584Z",
     "iopub.status.idle": "2024-09-01T11:07:15.780295Z",
     "shell.execute_reply": "2024-09-01T11:07:15.779741Z"
    },
    "papermill": {
     "duration": 4.154481,
     "end_time": "2024-09-01T11:07:15.781170",
     "exception": false,
     "start_time": "2024-09-01T11:07:11.626689",
     "status": "completed"
    },
    "tags": []
   },
   "outputs": [
    {
     "name": "stderr",
     "output_type": "stream",
     "text": [
      "\r",
      "  0%|          | 0/2 [00:00<?, ?it/s]"
     ]
    },
    {
     "name": "stderr",
     "output_type": "stream",
     "text": [
      "\r",
      " 50%|█████     | 1/2 [00:02<00:02,  2.28s/it]"
     ]
    },
    {
     "name": "stderr",
     "output_type": "stream",
     "text": [
      "\r",
      "100%|██████████| 2/2 [00:04<00:00,  2.03s/it]"
     ]
    },
    {
     "name": "stderr",
     "output_type": "stream",
     "text": [
      "\r",
      "100%|██████████| 2/2 [00:04<00:00,  2.07s/it]"
     ]
    },
    {
     "name": "stderr",
     "output_type": "stream",
     "text": [
      "\n"
     ]
    }
   ],
   "source": [
    "shap_val_list = [np.load(fname)['shap_values'] for fname in tqdm(load_sorted_shap_values_fnames(cell_type))] \n"
   ]
  },
  {
   "cell_type": "code",
   "execution_count": 5,
   "id": "729012ec-dd58-4fb6-80bd-05ad35695f84",
   "metadata": {
    "execution": {
     "iopub.execute_input": "2024-09-01T11:07:15.803008Z",
     "iopub.status.busy": "2024-09-01T11:07:15.802808Z",
     "iopub.status.idle": "2024-09-01T11:07:16.682938Z",
     "shell.execute_reply": "2024-09-01T11:07:16.682338Z"
    },
    "papermill": {
     "duration": 0.885572,
     "end_time": "2024-09-01T11:07:16.683889",
     "exception": false,
     "start_time": "2024-09-01T11:07:15.798317",
     "status": "completed"
    },
    "tags": []
   },
   "outputs": [],
   "source": [
    "adata = ad.read_h5ad(here(f'inflammabucket_bkp/03_downstream_analysis/05_SHAP/data/{cell_type}_adataMerged_SPECTRAgenes.log1p.h5ad'), backed='r')"
   ]
  },
  {
   "cell_type": "code",
   "execution_count": 6,
   "id": "70e8f69a-71a9-4186-8751-5374deacfe31",
   "metadata": {
    "execution": {
     "iopub.execute_input": "2024-09-01T11:07:16.692133Z",
     "iopub.status.busy": "2024-09-01T11:07:16.691935Z",
     "iopub.status.idle": "2024-09-01T11:07:16.698708Z",
     "shell.execute_reply": "2024-09-01T11:07:16.698335Z"
    },
    "papermill": {
     "duration": 0.011642,
     "end_time": "2024-09-01T11:07:16.699531",
     "exception": false,
     "start_time": "2024-09-01T11:07:16.687889",
     "status": "completed"
    },
    "tags": []
   },
   "outputs": [],
   "source": [
    "## Gene symbols and Disease labels\n",
    "symbols_df = pd.read_pickle(here('inflammabucket_bkp/03_downstream_analysis/04_selected_gene_list.pkl'))\n",
    "symbols_sorted = symbols_df.loc[adata.var_names].symbol.values\n",
    "\n",
    "DISEASES = ['BRCA', 'CD', 'COPD', 'COVID', 'CRC', 'HBV', 'HIV', 'HNSCC', 'MS', 'NPC', 'PS', 'PSA', 'RA', 'SLE', 'UC', 'asthma', 'cirrhosis', 'flu', 'healthy', 'sepsis']\n",
    "\n",
    "diseaseDict = dict()\n",
    "for d in DISEASES:\n",
    "    diseaseDict[d] = []"
   ]
  },
  {
   "cell_type": "code",
   "execution_count": 7,
   "id": "30024bf4-26b9-4f1e-b838-6d5c82e6360c",
   "metadata": {
    "execution": {
     "iopub.execute_input": "2024-09-01T11:07:16.707480Z",
     "iopub.status.busy": "2024-09-01T11:07:16.707157Z",
     "iopub.status.idle": "2024-09-01T11:07:16.856450Z",
     "shell.execute_reply": "2024-09-01T11:07:16.855954Z"
    },
    "papermill": {
     "duration": 0.15451,
     "end_time": "2024-09-01T11:07:16.857603",
     "exception": false,
     "start_time": "2024-09-01T11:07:16.703093",
     "status": "completed"
    },
    "tags": []
   },
   "outputs": [],
   "source": [
    "shape_values_matrix = np.concatenate(shap_val_list)"
   ]
  },
  {
   "cell_type": "code",
   "execution_count": 8,
   "id": "470a80d5-2725-4945-b55c-c87b3704d610",
   "metadata": {
    "execution": {
     "iopub.execute_input": "2024-09-01T11:07:16.987361Z",
     "iopub.status.busy": "2024-09-01T11:07:16.987166Z",
     "iopub.status.idle": "2024-09-01T11:07:18.777716Z",
     "shell.execute_reply": "2024-09-01T11:07:18.777212Z"
    },
    "papermill": {
     "duration": 1.84032,
     "end_time": "2024-09-01T11:07:18.778512",
     "exception": false,
     "start_time": "2024-09-01T11:07:16.938192",
     "status": "completed"
    },
    "tags": []
   },
   "outputs": [
    {
     "name": "stderr",
     "output_type": "stream",
     "text": [
      "\r",
      "  0%|          | 0/727 [00:00<?, ?it/s]"
     ]
    },
    {
     "name": "stderr",
     "output_type": "stream",
     "text": [
      "\r",
      "  6%|▌         | 42/727 [00:00<00:01, 416.91it/s]"
     ]
    },
    {
     "name": "stderr",
     "output_type": "stream",
     "text": [
      "\r",
      " 12%|█▏        | 84/727 [00:00<00:01, 386.38it/s]"
     ]
    },
    {
     "name": "stderr",
     "output_type": "stream",
     "text": [
      "\r",
      " 17%|█▋        | 127/727 [00:00<00:01, 404.41it/s]"
     ]
    },
    {
     "name": "stderr",
     "output_type": "stream",
     "text": [
      "\r",
      " 23%|██▎       | 169/727 [00:00<00:01, 355.51it/s]"
     ]
    },
    {
     "name": "stderr",
     "output_type": "stream",
     "text": [
      "\r",
      " 31%|███       | 222/727 [00:00<00:01, 409.34it/s]"
     ]
    },
    {
     "name": "stderr",
     "output_type": "stream",
     "text": [
      "\r",
      " 38%|███▊      | 274/727 [00:00<00:01, 443.90it/s]"
     ]
    },
    {
     "name": "stderr",
     "output_type": "stream",
     "text": [
      "\r",
      " 44%|████▍     | 322/727 [00:00<00:00, 451.52it/s]"
     ]
    },
    {
     "name": "stderr",
     "output_type": "stream",
     "text": [
      "\r",
      " 51%|█████     | 368/727 [00:00<00:00, 437.50it/s]"
     ]
    },
    {
     "name": "stderr",
     "output_type": "stream",
     "text": [
      "\r",
      " 57%|█████▋    | 413/727 [00:01<00:00, 368.27it/s]"
     ]
    },
    {
     "name": "stderr",
     "output_type": "stream",
     "text": [
      "\r",
      " 64%|██████▍   | 465/727 [00:01<00:00, 406.44it/s]"
     ]
    },
    {
     "name": "stderr",
     "output_type": "stream",
     "text": [
      "\r",
      " 71%|███████   | 517/727 [00:01<00:00, 435.56it/s]"
     ]
    },
    {
     "name": "stderr",
     "output_type": "stream",
     "text": [
      "\r",
      " 78%|███████▊  | 566/727 [00:01<00:00, 448.45it/s]"
     ]
    },
    {
     "name": "stderr",
     "output_type": "stream",
     "text": [
      "\r",
      " 85%|████████▍ | 616/727 [00:01<00:00, 462.95it/s]"
     ]
    },
    {
     "name": "stderr",
     "output_type": "stream",
     "text": [
      "\r",
      " 91%|█████████▏| 664/727 [00:01<00:00, 369.15it/s]"
     ]
    },
    {
     "name": "stderr",
     "output_type": "stream",
     "text": [
      "\r",
      " 98%|█████████▊| 709/727 [00:01<00:00, 388.15it/s]"
     ]
    },
    {
     "name": "stderr",
     "output_type": "stream",
     "text": [
      "\r",
      "100%|██████████| 727/727 [00:01<00:00, 407.49it/s]"
     ]
    },
    {
     "name": "stderr",
     "output_type": "stream",
     "text": [
      "\n"
     ]
    }
   ],
   "source": [
    "for idx, values in tqdm(adata.obs.groupby('sampleID', observed=True).indices.items()):\n",
    "    geneXdisease_sample_i = pd.DataFrame(shape_values_matrix[values].mean(0))\n",
    "    geneXdisease_sample_i.columns = DISEASES\n",
    "    geneXdisease_sample_i.index = symbols_sorted\n",
    "    for d in geneXdisease_sample_i.columns:\n",
    "        diseaseDict[d].append(pd.DataFrame.from_dict({idx:geneXdisease_sample_i[d]}))"
   ]
  },
  {
   "cell_type": "code",
   "execution_count": 9,
   "id": "86ec17e8-ee14-4724-b84a-0a176feb933b",
   "metadata": {
    "execution": {
     "iopub.execute_input": "2024-09-01T11:07:18.801283Z",
     "iopub.status.busy": "2024-09-01T11:07:18.801045Z",
     "iopub.status.idle": "2024-09-01T11:07:34.240650Z",
     "shell.execute_reply": "2024-09-01T11:07:34.240282Z"
    },
    "papermill": {
     "duration": 15.445099,
     "end_time": "2024-09-01T11:07:34.241496",
     "exception": false,
     "start_time": "2024-09-01T11:07:18.796397",
     "status": "completed"
    },
    "tags": []
   },
   "outputs": [
    {
     "name": "stderr",
     "output_type": "stream",
     "text": [
      "\r",
      "  0%|          | 0/20 [00:00<?, ?it/s]"
     ]
    },
    {
     "name": "stderr",
     "output_type": "stream",
     "text": [
      "\r",
      "  5%|▌         | 1/20 [00:00<00:14,  1.33it/s]"
     ]
    },
    {
     "name": "stderr",
     "output_type": "stream",
     "text": [
      "\r",
      " 10%|█         | 2/20 [00:01<00:11,  1.57it/s]"
     ]
    },
    {
     "name": "stderr",
     "output_type": "stream",
     "text": [
      "\r",
      " 15%|█▌        | 3/20 [00:01<00:11,  1.53it/s]"
     ]
    },
    {
     "name": "stderr",
     "output_type": "stream",
     "text": [
      "\r",
      " 20%|██        | 4/20 [00:03<00:13,  1.22it/s]"
     ]
    },
    {
     "name": "stderr",
     "output_type": "stream",
     "text": [
      "\r",
      " 25%|██▌       | 5/20 [00:03<00:10,  1.46it/s]"
     ]
    },
    {
     "name": "stderr",
     "output_type": "stream",
     "text": [
      "\r",
      " 30%|███       | 6/20 [00:04<00:09,  1.54it/s]"
     ]
    },
    {
     "name": "stderr",
     "output_type": "stream",
     "text": [
      "\r",
      " 35%|███▌      | 7/20 [00:04<00:07,  1.74it/s]"
     ]
    },
    {
     "name": "stderr",
     "output_type": "stream",
     "text": [
      "\r",
      " 40%|████      | 8/20 [00:04<00:06,  1.91it/s]"
     ]
    },
    {
     "name": "stderr",
     "output_type": "stream",
     "text": [
      "\r",
      " 45%|████▌     | 9/20 [00:05<00:06,  1.70it/s]"
     ]
    },
    {
     "name": "stderr",
     "output_type": "stream",
     "text": [
      "\r",
      " 50%|█████     | 10/20 [00:06<00:06,  1.46it/s]"
     ]
    },
    {
     "name": "stderr",
     "output_type": "stream",
     "text": [
      "\r",
      " 55%|█████▌    | 11/20 [00:07<00:06,  1.47it/s]"
     ]
    },
    {
     "name": "stderr",
     "output_type": "stream",
     "text": [
      "\r",
      " 60%|██████    | 12/20 [00:07<00:05,  1.41it/s]"
     ]
    },
    {
     "name": "stderr",
     "output_type": "stream",
     "text": [
      "\r",
      " 65%|██████▌   | 13/20 [00:08<00:05,  1.31it/s]"
     ]
    },
    {
     "name": "stderr",
     "output_type": "stream",
     "text": [
      "\r",
      " 70%|███████   | 14/20 [00:09<00:05,  1.19it/s]"
     ]
    },
    {
     "name": "stderr",
     "output_type": "stream",
     "text": [
      "\r",
      " 75%|███████▌  | 15/20 [00:10<00:03,  1.25it/s]"
     ]
    },
    {
     "name": "stderr",
     "output_type": "stream",
     "text": [
      "\r",
      " 80%|████████  | 16/20 [00:11<00:03,  1.23it/s]"
     ]
    },
    {
     "name": "stderr",
     "output_type": "stream",
     "text": [
      "\r",
      " 85%|████████▌ | 17/20 [00:12<00:02,  1.22it/s]"
     ]
    },
    {
     "name": "stderr",
     "output_type": "stream",
     "text": [
      "\r",
      " 90%|█████████ | 18/20 [00:13<00:01,  1.13it/s]"
     ]
    },
    {
     "name": "stderr",
     "output_type": "stream",
     "text": [
      "\r",
      " 95%|█████████▌| 19/20 [00:14<00:00,  1.06it/s]"
     ]
    },
    {
     "name": "stderr",
     "output_type": "stream",
     "text": [
      "\r",
      "100%|██████████| 20/20 [00:15<00:00,  1.03it/s]"
     ]
    },
    {
     "name": "stderr",
     "output_type": "stream",
     "text": [
      "\r",
      "100%|██████████| 20/20 [00:15<00:00,  1.30it/s]"
     ]
    },
    {
     "name": "stderr",
     "output_type": "stream",
     "text": [
      "\n"
     ]
    }
   ],
   "source": [
    "for d in tqdm(DISEASES):\n",
    "    pd.concat(diseaseDict[d], axis=1).to_csv(here(f'03_downstream_analysis/08_gene_importance/new_shap_plots/results/SHAP_AVGsamples/SHAP_AVGsample_{cell_type}_{d}.csv'))"
   ]
  },
  {
   "cell_type": "code",
   "execution_count": null,
   "id": "1ab026ca-2694-4767-8dd7-5cc4d2caa863",
   "metadata": {
    "papermill": {
     "duration": 0.004978,
     "end_time": "2024-09-01T11:07:34.251675",
     "exception": false,
     "start_time": "2024-09-01T11:07:34.246697",
     "status": "completed"
    },
    "tags": []
   },
   "outputs": [],
   "source": []
  }
 ],
 "metadata": {
  "kernelspec": {
   "display_name": "Python 3 (ipykernel)",
   "language": "python",
   "name": "python3"
  },
  "language_info": {
   "codemirror_mode": {
    "name": "ipython",
    "version": 3
   },
   "file_extension": ".py",
   "mimetype": "text/x-python",
   "name": "python",
   "nbconvert_exporter": "python",
   "pygments_lexer": "ipython3",
   "version": "3.12.5"
  },
  "papermill": {
   "default_parameters": {},
   "duration": 25.06605,
   "end_time": "2024-09-01T11:07:34.672478",
   "environment_variables": {},
   "exception": null,
   "input_path": "computing_shap_patients.ipynb",
   "output_path": "executed_computing_shap_patients_Plasma.ipynb",
   "parameters": {
    "cell_type": "Plasma"
   },
   "start_time": "2024-09-01T11:07:09.606428",
   "version": "2.6.0"
  }
 },
 "nbformat": 4,
 "nbformat_minor": 5
}