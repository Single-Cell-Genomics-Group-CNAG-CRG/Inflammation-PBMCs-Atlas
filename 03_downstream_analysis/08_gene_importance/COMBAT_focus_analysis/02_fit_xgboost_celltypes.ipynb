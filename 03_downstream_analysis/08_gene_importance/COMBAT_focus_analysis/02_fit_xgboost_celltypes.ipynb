{
 "cells": [
  {
   "cell_type": "code",
   "execution_count": 1,
   "metadata": {
    "editable": true,
    "execution": {
     "iopub.execute_input": "2025-04-04T15:36:28.758721Z",
     "iopub.status.busy": "2025-04-04T15:36:28.758309Z",
     "iopub.status.idle": "2025-04-04T15:36:28.762703Z",
     "shell.execute_reply": "2025-04-04T15:36:28.761712Z",
     "shell.execute_reply.started": "2025-04-04T15:36:28.758696Z"
    },
    "slideshow": {
     "slide_type": ""
    },
    "tags": [
     "parameters"
    ]
   },
   "outputs": [],
   "source": [
    "CELL_TYPE = 'pDC'\n",
    "N_TRIALS: int = 50\n",
    "SPLIT_IDX = 0"
   ]
  },
  {
   "cell_type": "code",
   "execution_count": 2,
   "metadata": {
    "execution": {
     "iopub.execute_input": "2025-04-04T15:36:28.763989Z",
     "iopub.status.busy": "2025-04-04T15:36:28.763577Z",
     "iopub.status.idle": "2025-04-04T15:36:30.899612Z",
     "shell.execute_reply": "2025-04-04T15:36:30.898967Z",
     "shell.execute_reply.started": "2025-04-04T15:36:28.763959Z"
    }
   },
   "outputs": [],
   "source": [
    "import os\n",
    "import sys\n",
    "from pyprojroot.here import here\n",
    "\n",
    "import pandas as pd\n",
    "import anndata as ad\n",
    "import numpy as np\n",
    "import math\n",
    "from sklearn.model_selection import StratifiedGroupKFold\n",
    "from sklearn.preprocessing import LabelEncoder\n",
    "from sklearn.metrics import f1_score\n",
    "import matplotlib.pyplot as plt\n",
    "import seaborn as sns\n",
    "from itertools import product\n",
    "\n",
    "import optuna\n",
    "\n",
    "import joblib\n",
    "import pickle\n",
    "import datetime\n",
    "\n",
    "import collections\n",
    "\n",
    "import xgboost\n",
    "from sklearn.preprocessing import LabelEncoder\n",
    "\n",
    "import scipy.sparse as ssp\n",
    "import joblib\n",
    "\n",
    "from dotenv import load_dotenv"
   ]
  },
  {
   "cell_type": "code",
   "execution_count": 3,
   "metadata": {
    "execution": {
     "iopub.execute_input": "2025-04-04T15:36:30.900454Z",
     "iopub.status.busy": "2025-04-04T15:36:30.900189Z",
     "iopub.status.idle": "2025-04-04T15:36:30.904072Z",
     "shell.execute_reply": "2025-04-04T15:36:30.903531Z",
     "shell.execute_reply.started": "2025-04-04T15:36:30.900440Z"
    }
   },
   "outputs": [],
   "source": [
    "assert load_dotenv()"
   ]
  },
  {
   "cell_type": "markdown",
   "metadata": {},
   "source": [
    "# LOAD DATASET"
   ]
  },
  {
   "cell_type": "code",
   "execution_count": 5,
   "metadata": {
    "execution": {
     "iopub.execute_input": "2025-04-04T15:36:39.878325Z",
     "iopub.status.busy": "2025-04-04T15:36:39.877173Z",
     "iopub.status.idle": "2025-04-04T15:36:39.958713Z",
     "shell.execute_reply": "2025-04-04T15:36:39.958064Z",
     "shell.execute_reply.started": "2025-04-04T15:36:39.878251Z"
    }
   },
   "outputs": [],
   "source": [
    "adata_ct = ad.read_h5ad(here(f'03_downstream_analysis/08_gene_importance/COMBAT_focus_analysis/data/{CELL_TYPE}_COMBAT2022_spectraGenes_log1p.h5ad'))"
   ]
  },
  {
   "cell_type": "code",
   "execution_count": 6,
   "metadata": {
    "execution": {
     "iopub.execute_input": "2025-04-04T15:36:40.035021Z",
     "iopub.status.busy": "2025-04-04T15:36:40.034005Z",
     "iopub.status.idle": "2025-04-04T15:36:40.046662Z",
     "shell.execute_reply": "2025-04-04T15:36:40.045521Z",
     "shell.execute_reply.started": "2025-04-04T15:36:40.034967Z"
    }
   },
   "outputs": [
    {
     "data": {
      "text/plain": [
       "AnnData object with n_obs × n_vars = 1837 × 935\n",
       "    obs: 'studyID', 'libraryID', 'sampleID', 'chemistry', 'disease', 'sex', 'binned_age', 'Level1', 'Level2', 'batch', 'COVID_severity'\n",
       "    var: 'hgnc_id', 'symbol', 'locus_group', 'HUGO_status', 'highly_variable'\n",
       "    uns: 'log1p'"
      ]
     },
     "execution_count": 6,
     "metadata": {},
     "output_type": "execute_result"
    }
   ],
   "source": [
    "adata_ct"
   ]
  },
  {
   "cell_type": "code",
   "execution_count": 7,
   "metadata": {
    "execution": {
     "iopub.execute_input": "2025-04-04T15:36:41.285716Z",
     "iopub.status.busy": "2025-04-04T15:36:41.285202Z",
     "iopub.status.idle": "2025-04-04T15:36:41.296154Z",
     "shell.execute_reply": "2025-04-04T15:36:41.295241Z",
     "shell.execute_reply.started": "2025-04-04T15:36:41.285673Z"
    }
   },
   "outputs": [
    {
     "data": {
      "text/plain": [
       "(['COMBAT2022']\n",
       " Categories (1, object): ['COMBAT2022'],\n",
       " ['pDC']\n",
       " Categories (1, object): ['pDC'])"
      ]
     },
     "execution_count": 7,
     "metadata": {},
     "output_type": "execute_result"
    }
   ],
   "source": [
    "adata_ct.obs.studyID.unique(), adata_ct.obs.Level1.unique()"
   ]
  },
  {
   "cell_type": "markdown",
   "metadata": {},
   "source": [
    "### Generate traint - test - validation splits (5-fold cross validation setting)"
   ]
  },
  {
   "cell_type": "code",
   "execution_count": 8,
   "metadata": {
    "execution": {
     "iopub.execute_input": "2025-04-04T15:36:43.061753Z",
     "iopub.status.busy": "2025-04-04T15:36:43.061078Z",
     "iopub.status.idle": "2025-04-04T15:36:43.066360Z",
     "shell.execute_reply": "2025-04-04T15:36:43.065394Z",
     "shell.execute_reply.started": "2025-04-04T15:36:43.061709Z"
    }
   },
   "outputs": [],
   "source": [
    "N_SPLITS = 5"
   ]
  },
  {
   "cell_type": "code",
   "execution_count": 9,
   "metadata": {
    "execution": {
     "iopub.execute_input": "2025-04-04T15:36:43.445262Z",
     "iopub.status.busy": "2025-04-04T15:36:43.444332Z",
     "iopub.status.idle": "2025-04-04T15:36:43.469587Z",
     "shell.execute_reply": "2025-04-04T15:36:43.468405Z",
     "shell.execute_reply.started": "2025-04-04T15:36:43.445222Z"
    }
   },
   "outputs": [],
   "source": [
    "left_out_splits = [s[1] for s in StratifiedGroupKFold(n_splits=N_SPLITS).split(X = adata_ct.obs.index, y=adata_ct.obs.disease, groups=adata_ct.obs.batch)]"
   ]
  },
  {
   "cell_type": "code",
   "execution_count": 10,
   "metadata": {
    "execution": {
     "iopub.execute_input": "2025-04-04T15:36:43.788176Z",
     "iopub.status.busy": "2025-04-04T15:36:43.787082Z",
     "iopub.status.idle": "2025-04-04T15:36:43.795227Z",
     "shell.execute_reply": "2025-04-04T15:36:43.793991Z",
     "shell.execute_reply.started": "2025-04-04T15:36:43.788135Z"
    }
   },
   "outputs": [],
   "source": [
    "test_split_n = SPLIT_IDX\n",
    "validation_split_n = (SPLIT_IDX + 1) % N_SPLITS\n",
    "\n",
    "test_idxs = left_out_splits[test_split_n]\n",
    "val_idxs = left_out_splits[validation_split_n]\n",
    "\n",
    "train_idxs = list()\n",
    "\n",
    "for idx in np.setdiff1d(range(N_SPLITS), np.array([test_split_n,validation_split_n])):\n",
    "    train_idxs.append(left_out_splits[idx])\n",
    "train_idxs = np.concatenate(train_idxs)"
   ]
  },
  {
   "cell_type": "code",
   "execution_count": 11,
   "metadata": {
    "execution": {
     "iopub.execute_input": "2025-04-04T15:36:44.141114Z",
     "iopub.status.busy": "2025-04-04T15:36:44.140141Z",
     "iopub.status.idle": "2025-04-04T15:36:44.153718Z",
     "shell.execute_reply": "2025-04-04T15:36:44.152519Z",
     "shell.execute_reply.started": "2025-04-04T15:36:44.141072Z"
    }
   },
   "outputs": [
    {
     "data": {
      "text/plain": [
       "((1037,), (424,), (376,), 1837)"
      ]
     },
     "execution_count": 11,
     "metadata": {},
     "output_type": "execute_result"
    }
   ],
   "source": [
    "train_idxs.shape, test_idxs.shape, val_idxs.shape, train_idxs.shape[0]+val_idxs.shape[0]+test_idxs.shape[0]"
   ]
  },
  {
   "cell_type": "code",
   "execution_count": 12,
   "metadata": {
    "execution": {
     "iopub.execute_input": "2025-04-04T15:36:45.708555Z",
     "iopub.status.busy": "2025-04-04T15:36:45.707547Z",
     "iopub.status.idle": "2025-04-04T15:36:45.743618Z",
     "shell.execute_reply": "2025-04-04T15:36:45.742566Z",
     "shell.execute_reply.started": "2025-04-04T15:36:45.708509Z"
    }
   },
   "outputs": [
    {
     "data": {
      "text/plain": [
       "((1037, 935), (424, 935), (376, 935))"
      ]
     },
     "execution_count": 12,
     "metadata": {},
     "output_type": "execute_result"
    }
   ],
   "source": [
    "X_train = adata_ct[train_idxs,:].X\n",
    "X_test = adata_ct[test_idxs, :].X\n",
    "X_val = adata_ct[val_idxs, :].X\n",
    "X_train.shape, X_test.shape, X_val.shape"
   ]
  },
  {
   "cell_type": "code",
   "execution_count": 13,
   "metadata": {
    "execution": {
     "iopub.execute_input": "2025-04-04T15:36:46.595487Z",
     "iopub.status.busy": "2025-04-04T15:36:46.594537Z",
     "iopub.status.idle": "2025-04-04T15:36:46.607973Z",
     "shell.execute_reply": "2025-04-04T15:36:46.606869Z",
     "shell.execute_reply.started": "2025-04-04T15:36:46.595444Z"
    }
   },
   "outputs": [
    {
     "data": {
      "text/plain": [
       "((1037,), (424,), (376,))"
      ]
     },
     "execution_count": 13,
     "metadata": {},
     "output_type": "execute_result"
    }
   ],
   "source": [
    "y_train = adata_ct.obs.iloc[train_idxs].disease.values.astype(str)\n",
    "y_test = adata_ct.obs.iloc[test_idxs].disease.values.astype(str)\n",
    "y_val = adata_ct.obs.iloc[val_idxs].disease.values.astype(str)\n",
    "y_train.shape, y_test.shape, y_val.shape "
   ]
  },
  {
   "cell_type": "code",
   "execution_count": 14,
   "metadata": {
    "execution": {
     "iopub.execute_input": "2025-04-04T15:36:47.404509Z",
     "iopub.status.busy": "2025-04-04T15:36:47.403608Z",
     "iopub.status.idle": "2025-04-04T15:36:47.411878Z",
     "shell.execute_reply": "2025-04-04T15:36:47.410686Z",
     "shell.execute_reply.started": "2025-04-04T15:36:47.404467Z"
    }
   },
   "outputs": [],
   "source": [
    "lenc = LabelEncoder()\n",
    "y_train_enc = lenc.fit_transform(y_train)\n",
    "y_val_enc = lenc.transform(y_val)\n",
    "y_test_enc = lenc.transform(y_test)"
   ]
  },
  {
   "cell_type": "markdown",
   "metadata": {},
   "source": [
    "### GENERATE F1 "
   ]
  },
  {
   "cell_type": "code",
   "execution_count": 15,
   "metadata": {
    "execution": {
     "iopub.execute_input": "2025-04-04T15:36:50.466577Z",
     "iopub.status.busy": "2025-04-04T15:36:50.466104Z",
     "iopub.status.idle": "2025-04-04T15:36:50.471836Z",
     "shell.execute_reply": "2025-04-04T15:36:50.470888Z",
     "shell.execute_reply.started": "2025-04-04T15:36:50.466538Z"
    }
   },
   "outputs": [],
   "source": [
    "def custom_f1_score(y_true, y_pred):\n",
    "    return -f1_score(y_true, y_pred.argmax(1), average='weighted')"
   ]
  },
  {
   "cell_type": "code",
   "execution_count": 16,
   "metadata": {
    "execution": {
     "iopub.execute_input": "2025-04-04T15:36:51.028233Z",
     "iopub.status.busy": "2025-04-04T15:36:51.027261Z",
     "iopub.status.idle": "2025-04-04T15:36:51.037004Z",
     "shell.execute_reply": "2025-04-04T15:36:51.035736Z",
     "shell.execute_reply.started": "2025-04-04T15:36:51.028190Z"
    }
   },
   "outputs": [],
   "source": [
    "eval_metric=custom_f1_score\n",
    "eval_metric_name='custom_f1_score'\n",
    "\n",
    "def objective(trial):\n",
    "    params = {\n",
    "        'sampling_method': 'gradient_based',\n",
    "        'n_estimators': 1500,\n",
    "        'max_depth': trial.suggest_int('max_depth', 3, 20),\n",
    "        'min_child_weight': trial.suggest_int('min_child_weight', 1, 250),\n",
    "        'subsample': trial.suggest_float('subsample', 0.1, 1.0),\n",
    "        'colsample_bynode': trial.suggest_float('colsample_bynode', 0.1, 1.0),\n",
    "        'learning_rate': trial.suggest_float('learning_rate', 1e-3, 5e-1, log=True),\n",
    "    }\n",
    "    pruning_callback = optuna.integration.XGBoostPruningCallback(trial, f'validation_0-{eval_metric_name}')\n",
    "    xgb = xgboost.XGBClassifier(\n",
    "        device='gpu',\n",
    "        eval_metric=eval_metric,\n",
    "        early_stopping_rounds=20,\n",
    "        callbacks=[pruning_callback],\n",
    "        **params\n",
    "    )\n",
    "    xgb.fit(\n",
    "        X_train, \n",
    "        y_train_enc, \n",
    "        verbose=0,\n",
    "        eval_set=[(X_val, y_val_enc)],\n",
    "    )\n",
    "    trial.set_user_attr('best_iteration', xgb.best_iteration)\n",
    "\n",
    "    return xgb.best_score"
   ]
  },
  {
   "cell_type": "code",
   "execution_count": 17,
   "metadata": {
    "execution": {
     "iopub.execute_input": "2025-04-04T15:36:52.660506Z",
     "iopub.status.busy": "2025-04-04T15:36:52.659406Z",
     "iopub.status.idle": "2025-04-04T15:37:06.215178Z",
     "shell.execute_reply": "2025-04-04T15:37:06.214261Z",
     "shell.execute_reply.started": "2025-04-04T15:36:52.660461Z"
    },
    "scrolled": true
   },
   "outputs": [
    {
     "name": "stderr",
     "output_type": "stream",
     "text": [
      "[I 2025-04-04 15:36:52,664] A new study created in memory with name: no-name-a2c3c6f5-c797-4271-99a2-a184fca99852\n",
      "[I 2025-04-04 15:36:53,534] Trial 0 finished with value: -0.531065 and parameters: {'max_depth': 9, 'min_child_weight': 238, 'subsample': 0.7587945476302645, 'colsample_bynode': 0.6387926357773329, 'learning_rate': 0.0026368755339723046}. Best is trial 0 with value: -0.531065.\n",
      "[I 2025-04-04 15:36:54,217] Trial 1 finished with value: -0.690511 and parameters: {'max_depth': 5, 'min_child_weight': 15, 'subsample': 0.8795585311974417, 'colsample_bynode': 0.6410035105688879, 'learning_rate': 0.08148293210105287}. Best is trial 1 with value: -0.690511.\n",
      "[I 2025-04-04 15:36:54,394] Trial 2 finished with value: -0.531065 and parameters: {'max_depth': 3, 'min_child_weight': 243, 'subsample': 0.8491983767203796, 'colsample_bynode': 0.29110519961044856, 'learning_rate': 0.003095566460242371}. Best is trial 1 with value: -0.690511.\n",
      "[I 2025-04-04 15:36:54,688] Trial 3 finished with value: -0.649294 and parameters: {'max_depth': 6, 'min_child_weight': 77, 'subsample': 0.5722807884690141, 'colsample_bynode': 0.48875051677790415, 'learning_rate': 0.006109683510122491}. Best is trial 1 with value: -0.690511.\n",
      "[I 2025-04-04 15:36:55,000] Trial 4 finished with value: -0.654813 and parameters: {'max_depth': 14, 'min_child_weight': 35, 'subsample': 0.3629301836816964, 'colsample_bynode': 0.4297256589643226, 'learning_rate': 0.01701841881702917}. Best is trial 1 with value: -0.690511.\n",
      "[I 2025-04-04 15:36:55,114] Trial 5 pruned. Trial was pruned at iteration 0.\n",
      "[I 2025-04-04 15:36:55,528] Trial 6 finished with value: -0.716402 and parameters: {'max_depth': 13, 'min_child_weight': 43, 'subsample': 0.1585464336867516, 'colsample_bynode': 0.9539969835279999, 'learning_rate': 0.4038423798071558}. Best is trial 6 with value: -0.716402.\n",
      "[I 2025-04-04 15:36:55,660] Trial 7 pruned. Trial was pruned at iteration 0.\n",
      "[I 2025-04-04 15:36:55,797] Trial 8 pruned. Trial was pruned at iteration 3.\n",
      "[I 2025-04-04 15:36:55,910] Trial 9 pruned. Trial was pruned at iteration 0.\n",
      "[I 2025-04-04 15:36:56,034] Trial 10 pruned. Trial was pruned at iteration 0.\n",
      "[I 2025-04-04 15:36:56,734] Trial 11 pruned. Trial was pruned at iteration 34.\n",
      "[I 2025-04-04 15:36:57,431] Trial 12 pruned. Trial was pruned at iteration 34.\n",
      "[I 2025-04-04 15:36:57,559] Trial 13 pruned. Trial was pruned at iteration 0.\n",
      "[I 2025-04-04 15:36:57,855] Trial 14 pruned. Trial was pruned at iteration 29.\n",
      "[I 2025-04-04 15:36:57,982] Trial 15 pruned. Trial was pruned at iteration 0.\n",
      "[I 2025-04-04 15:36:58,399] Trial 16 pruned. Trial was pruned at iteration 35.\n",
      "[I 2025-04-04 15:36:58,528] Trial 17 pruned. Trial was pruned at iteration 0.\n",
      "[I 2025-04-04 15:36:59,021] Trial 18 finished with value: -0.697477 and parameters: {'max_depth': 10, 'min_child_weight': 25, 'subsample': 0.8443813760996333, 'colsample_bynode': 0.7202402406863758, 'learning_rate': 0.33952129304123785}. Best is trial 6 with value: -0.716402.\n",
      "[I 2025-04-04 15:36:59,145] Trial 19 pruned. Trial was pruned at iteration 0.\n",
      "[I 2025-04-04 15:36:59,455] Trial 20 pruned. Trial was pruned at iteration 28.\n",
      "[I 2025-04-04 15:36:59,783] Trial 21 finished with value: -0.662399 and parameters: {'max_depth': 5, 'min_child_weight': 18, 'subsample': 0.8524655332992119, 'colsample_bynode': 0.6945393212456125, 'learning_rate': 0.0603114357057733}. Best is trial 6 with value: -0.716402.\n",
      "[I 2025-04-04 15:37:00,087] Trial 22 pruned. Trial was pruned at iteration 29.\n",
      "[I 2025-04-04 15:37:00,688] Trial 23 finished with value: -0.715013 and parameters: {'max_depth': 8, 'min_child_weight': 57, 'subsample': 0.7908789125708087, 'colsample_bynode': 0.8978668912129957, 'learning_rate': 0.2338918615546328}. Best is trial 6 with value: -0.716402.\n",
      "[I 2025-04-04 15:37:00,817] Trial 24 pruned. Trial was pruned at iteration 0.\n",
      "[I 2025-04-04 15:37:00,948] Trial 25 pruned. Trial was pruned at iteration 0.\n",
      "[I 2025-04-04 15:37:01,076] Trial 26 pruned. Trial was pruned at iteration 0.\n",
      "[I 2025-04-04 15:37:01,508] Trial 27 pruned. Trial was pruned at iteration 50.\n",
      "[I 2025-04-04 15:37:01,657] Trial 28 pruned. Trial was pruned at iteration 3.\n",
      "[I 2025-04-04 15:37:01,785] Trial 29 pruned. Trial was pruned at iteration 0.\n",
      "[I 2025-04-04 15:37:01,911] Trial 30 pruned. Trial was pruned at iteration 0.\n",
      "[I 2025-04-04 15:37:02,191] Trial 31 pruned. Trial was pruned at iteration 16.\n",
      "[I 2025-04-04 15:37:02,561] Trial 32 pruned. Trial was pruned at iteration 21.\n",
      "[I 2025-04-04 15:37:02,710] Trial 33 pruned. Trial was pruned at iteration 3.\n",
      "[I 2025-04-04 15:37:02,841] Trial 34 pruned. Trial was pruned at iteration 0.\n",
      "[I 2025-04-04 15:37:03,248] Trial 35 pruned. Trial was pruned at iteration 21.\n",
      "[I 2025-04-04 15:37:03,393] Trial 36 pruned. Trial was pruned at iteration 0.\n",
      "[I 2025-04-04 15:37:03,555] Trial 37 pruned. Trial was pruned at iteration 0.\n",
      "[I 2025-04-04 15:37:03,687] Trial 38 pruned. Trial was pruned at iteration 0.\n",
      "[I 2025-04-04 15:37:03,848] Trial 39 pruned. Trial was pruned at iteration 3.\n",
      "[I 2025-04-04 15:37:04,480] Trial 40 pruned. Trial was pruned at iteration 24.\n",
      "[I 2025-04-04 15:37:04,690] Trial 41 pruned. Trial was pruned at iteration 5.\n",
      "[I 2025-04-04 15:37:04,853] Trial 42 pruned. Trial was pruned at iteration 3.\n",
      "[I 2025-04-04 15:37:05,040] Trial 43 pruned. Trial was pruned at iteration 5.\n",
      "[I 2025-04-04 15:37:05,224] Trial 44 pruned. Trial was pruned at iteration 5.\n",
      "[I 2025-04-04 15:37:05,571] Trial 45 pruned. Trial was pruned at iteration 16.\n",
      "[I 2025-04-04 15:37:05,723] Trial 46 pruned. Trial was pruned at iteration 0.\n",
      "[I 2025-04-04 15:37:05,858] Trial 47 pruned. Trial was pruned at iteration 0.\n",
      "[I 2025-04-04 15:37:06,006] Trial 48 pruned. Trial was pruned at iteration 0.\n",
      "[I 2025-04-04 15:37:06,139] Trial 49 pruned. Trial was pruned at iteration 0.\n"
     ]
    }
   ],
   "source": [
    "sampler = optuna.samplers.TPESampler(seed=42)\n",
    "study = optuna.create_study(direction='minimize', sampler=sampler)\n",
    "study.optimize(objective, n_trials=N_TRIALS, gc_after_trial=True)"
   ]
  },
  {
   "cell_type": "code",
   "execution_count": 18,
   "metadata": {
    "execution": {
     "iopub.execute_input": "2025-04-04T15:37:06.216123Z",
     "iopub.status.busy": "2025-04-04T15:37:06.215975Z",
     "iopub.status.idle": "2025-04-04T15:37:06.245931Z",
     "shell.execute_reply": "2025-04-04T15:37:06.245225Z",
     "shell.execute_reply.started": "2025-04-04T15:37:06.216111Z"
    }
   },
   "outputs": [
    {
     "data": {
      "text/plain": [
       "['/scratch_isilon/groups/singlecell/shared/projects/Inflammation-PBMCs-Atlas/03_downstream_analysis/08_gene_importance/COMBAT_focus_analysis/results/study/0_pDC_xgboost.pkl']"
      ]
     },
     "execution_count": 18,
     "metadata": {},
     "output_type": "execute_result"
    }
   ],
   "source": [
    "joblib.dump(study, here(f'03_downstream_analysis/08_gene_importance/COMBAT_focus_analysis/results/study/{SPLIT_IDX}_{CELL_TYPE}_xgboost.pkl'))"
   ]
  },
  {
   "cell_type": "code",
   "execution_count": 19,
   "metadata": {
    "execution": {
     "iopub.execute_input": "2025-04-04T15:37:08.624364Z",
     "iopub.status.busy": "2025-04-04T15:37:08.623387Z",
     "iopub.status.idle": "2025-04-04T15:37:08.978391Z",
     "shell.execute_reply": "2025-04-04T15:37:08.977937Z",
     "shell.execute_reply.started": "2025-04-04T15:37:08.624318Z"
    },
    "scrolled": true
   },
   "outputs": [
    {
     "name": "stdout",
     "output_type": "stream",
     "text": [
      "[0]\tvalidation_0-mlogloss:1.26009\tvalidation_0-custom_f1_score:-0.29479\n",
      "[1]\tvalidation_0-mlogloss:1.15357\tvalidation_0-custom_f1_score:-0.29479\n",
      "[2]\tvalidation_0-mlogloss:1.07931\tvalidation_0-custom_f1_score:-0.29479\n",
      "[3]\tvalidation_0-mlogloss:0.99664\tvalidation_0-custom_f1_score:-0.62880\n",
      "[4]\tvalidation_0-mlogloss:0.94824\tvalidation_0-custom_f1_score:-0.60855\n",
      "[5]\tvalidation_0-mlogloss:0.90540\tvalidation_0-custom_f1_score:-0.66008\n",
      "[6]\tvalidation_0-mlogloss:0.88836\tvalidation_0-custom_f1_score:-0.64907\n",
      "[7]\tvalidation_0-mlogloss:0.87025\tvalidation_0-custom_f1_score:-0.70176\n",
      "[8]\tvalidation_0-mlogloss:0.83486\tvalidation_0-custom_f1_score:-0.72685\n",
      "[9]\tvalidation_0-mlogloss:0.83312\tvalidation_0-custom_f1_score:-0.71766\n",
      "[10]\tvalidation_0-mlogloss:0.82193\tvalidation_0-custom_f1_score:-0.72455\n",
      "[11]\tvalidation_0-mlogloss:0.81974\tvalidation_0-custom_f1_score:-0.73102\n",
      "[12]\tvalidation_0-mlogloss:0.80884\tvalidation_0-custom_f1_score:-0.73118\n",
      "[13]\tvalidation_0-mlogloss:0.79736\tvalidation_0-custom_f1_score:-0.73108\n",
      "[14]\tvalidation_0-mlogloss:0.79825\tvalidation_0-custom_f1_score:-0.74238\n",
      "[15]\tvalidation_0-mlogloss:0.79541\tvalidation_0-custom_f1_score:-0.74209\n",
      "[16]\tvalidation_0-mlogloss:0.77155\tvalidation_0-custom_f1_score:-0.73986\n",
      "[17]\tvalidation_0-mlogloss:0.76678\tvalidation_0-custom_f1_score:-0.74445\n",
      "[18]\tvalidation_0-mlogloss:0.76961\tvalidation_0-custom_f1_score:-0.74701\n",
      "[19]\tvalidation_0-mlogloss:0.77062\tvalidation_0-custom_f1_score:-0.74479\n",
      "[20]\tvalidation_0-mlogloss:0.76636\tvalidation_0-custom_f1_score:-0.74446\n",
      "[21]\tvalidation_0-mlogloss:0.75814\tvalidation_0-custom_f1_score:-0.73975\n",
      "[22]\tvalidation_0-mlogloss:0.75559\tvalidation_0-custom_f1_score:-0.74632\n",
      "[23]\tvalidation_0-mlogloss:0.74963\tvalidation_0-custom_f1_score:-0.73957\n",
      "[24]\tvalidation_0-mlogloss:0.75172\tvalidation_0-custom_f1_score:-0.74188\n",
      "[25]\tvalidation_0-mlogloss:0.74768\tvalidation_0-custom_f1_score:-0.74655\n",
      "[26]\tvalidation_0-mlogloss:0.75244\tvalidation_0-custom_f1_score:-0.74655\n",
      "[27]\tvalidation_0-mlogloss:0.75148\tvalidation_0-custom_f1_score:-0.75098\n",
      "[28]\tvalidation_0-mlogloss:0.75117\tvalidation_0-custom_f1_score:-0.75098\n",
      "[29]\tvalidation_0-mlogloss:0.75025\tvalidation_0-custom_f1_score:-0.75098\n",
      "[30]\tvalidation_0-mlogloss:0.74922\tvalidation_0-custom_f1_score:-0.74624\n",
      "[31]\tvalidation_0-mlogloss:0.74947\tvalidation_0-custom_f1_score:-0.75289\n",
      "[32]\tvalidation_0-mlogloss:0.75167\tvalidation_0-custom_f1_score:-0.75298\n",
      "[33]\tvalidation_0-mlogloss:0.75378\tvalidation_0-custom_f1_score:-0.75338\n",
      "[34]\tvalidation_0-mlogloss:0.75214\tvalidation_0-custom_f1_score:-0.75115\n",
      "[35]\tvalidation_0-mlogloss:0.75197\tvalidation_0-custom_f1_score:-0.75115\n",
      "[36]\tvalidation_0-mlogloss:0.75295\tvalidation_0-custom_f1_score:-0.75338\n",
      "[37]\tvalidation_0-mlogloss:0.74428\tvalidation_0-custom_f1_score:-0.75338\n"
     ]
    },
    {
     "data": {
      "text/html": [
       "<style>#sk-container-id-1 {\n",
       "  /* Definition of color scheme common for light and dark mode */\n",
       "  --sklearn-color-text: black;\n",
       "  --sklearn-color-line: gray;\n",
       "  /* Definition of color scheme for unfitted estimators */\n",
       "  --sklearn-color-unfitted-level-0: #fff5e6;\n",
       "  --sklearn-color-unfitted-level-1: #f6e4d2;\n",
       "  --sklearn-color-unfitted-level-2: #ffe0b3;\n",
       "  --sklearn-color-unfitted-level-3: chocolate;\n",
       "  /* Definition of color scheme for fitted estimators */\n",
       "  --sklearn-color-fitted-level-0: #f0f8ff;\n",
       "  --sklearn-color-fitted-level-1: #d4ebff;\n",
       "  --sklearn-color-fitted-level-2: #b3dbfd;\n",
       "  --sklearn-color-fitted-level-3: cornflowerblue;\n",
       "\n",
       "  /* Specific color for light theme */\n",
       "  --sklearn-color-text-on-default-background: var(--sg-text-color, var(--theme-code-foreground, var(--jp-content-font-color1, black)));\n",
       "  --sklearn-color-background: var(--sg-background-color, var(--theme-background, var(--jp-layout-color0, white)));\n",
       "  --sklearn-color-border-box: var(--sg-text-color, var(--theme-code-foreground, var(--jp-content-font-color1, black)));\n",
       "  --sklearn-color-icon: #696969;\n",
       "\n",
       "  @media (prefers-color-scheme: dark) {\n",
       "    /* Redefinition of color scheme for dark theme */\n",
       "    --sklearn-color-text-on-default-background: var(--sg-text-color, var(--theme-code-foreground, var(--jp-content-font-color1, white)));\n",
       "    --sklearn-color-background: var(--sg-background-color, var(--theme-background, var(--jp-layout-color0, #111)));\n",
       "    --sklearn-color-border-box: var(--sg-text-color, var(--theme-code-foreground, var(--jp-content-font-color1, white)));\n",
       "    --sklearn-color-icon: #878787;\n",
       "  }\n",
       "}\n",
       "\n",
       "#sk-container-id-1 {\n",
       "  color: var(--sklearn-color-text);\n",
       "}\n",
       "\n",
       "#sk-container-id-1 pre {\n",
       "  padding: 0;\n",
       "}\n",
       "\n",
       "#sk-container-id-1 input.sk-hidden--visually {\n",
       "  border: 0;\n",
       "  clip: rect(1px 1px 1px 1px);\n",
       "  clip: rect(1px, 1px, 1px, 1px);\n",
       "  height: 1px;\n",
       "  margin: -1px;\n",
       "  overflow: hidden;\n",
       "  padding: 0;\n",
       "  position: absolute;\n",
       "  width: 1px;\n",
       "}\n",
       "\n",
       "#sk-container-id-1 div.sk-dashed-wrapped {\n",
       "  border: 1px dashed var(--sklearn-color-line);\n",
       "  margin: 0 0.4em 0.5em 0.4em;\n",
       "  box-sizing: border-box;\n",
       "  padding-bottom: 0.4em;\n",
       "  background-color: var(--sklearn-color-background);\n",
       "}\n",
       "\n",
       "#sk-container-id-1 div.sk-container {\n",
       "  /* jupyter's `normalize.less` sets `[hidden] { display: none; }`\n",
       "     but bootstrap.min.css set `[hidden] { display: none !important; }`\n",
       "     so we also need the `!important` here to be able to override the\n",
       "     default hidden behavior on the sphinx rendered scikit-learn.org.\n",
       "     See: https://github.com/scikit-learn/scikit-learn/issues/21755 */\n",
       "  display: inline-block !important;\n",
       "  position: relative;\n",
       "}\n",
       "\n",
       "#sk-container-id-1 div.sk-text-repr-fallback {\n",
       "  display: none;\n",
       "}\n",
       "\n",
       "div.sk-parallel-item,\n",
       "div.sk-serial,\n",
       "div.sk-item {\n",
       "  /* draw centered vertical line to link estimators */\n",
       "  background-image: linear-gradient(var(--sklearn-color-text-on-default-background), var(--sklearn-color-text-on-default-background));\n",
       "  background-size: 2px 100%;\n",
       "  background-repeat: no-repeat;\n",
       "  background-position: center center;\n",
       "}\n",
       "\n",
       "/* Parallel-specific style estimator block */\n",
       "\n",
       "#sk-container-id-1 div.sk-parallel-item::after {\n",
       "  content: \"\";\n",
       "  width: 100%;\n",
       "  border-bottom: 2px solid var(--sklearn-color-text-on-default-background);\n",
       "  flex-grow: 1;\n",
       "}\n",
       "\n",
       "#sk-container-id-1 div.sk-parallel {\n",
       "  display: flex;\n",
       "  align-items: stretch;\n",
       "  justify-content: center;\n",
       "  background-color: var(--sklearn-color-background);\n",
       "  position: relative;\n",
       "}\n",
       "\n",
       "#sk-container-id-1 div.sk-parallel-item {\n",
       "  display: flex;\n",
       "  flex-direction: column;\n",
       "}\n",
       "\n",
       "#sk-container-id-1 div.sk-parallel-item:first-child::after {\n",
       "  align-self: flex-end;\n",
       "  width: 50%;\n",
       "}\n",
       "\n",
       "#sk-container-id-1 div.sk-parallel-item:last-child::after {\n",
       "  align-self: flex-start;\n",
       "  width: 50%;\n",
       "}\n",
       "\n",
       "#sk-container-id-1 div.sk-parallel-item:only-child::after {\n",
       "  width: 0;\n",
       "}\n",
       "\n",
       "/* Serial-specific style estimator block */\n",
       "\n",
       "#sk-container-id-1 div.sk-serial {\n",
       "  display: flex;\n",
       "  flex-direction: column;\n",
       "  align-items: center;\n",
       "  background-color: var(--sklearn-color-background);\n",
       "  padding-right: 1em;\n",
       "  padding-left: 1em;\n",
       "}\n",
       "\n",
       "\n",
       "/* Toggleable style: style used for estimator/Pipeline/ColumnTransformer box that is\n",
       "clickable and can be expanded/collapsed.\n",
       "- Pipeline and ColumnTransformer use this feature and define the default style\n",
       "- Estimators will overwrite some part of the style using the `sk-estimator` class\n",
       "*/\n",
       "\n",
       "/* Pipeline and ColumnTransformer style (default) */\n",
       "\n",
       "#sk-container-id-1 div.sk-toggleable {\n",
       "  /* Default theme specific background. It is overwritten whether we have a\n",
       "  specific estimator or a Pipeline/ColumnTransformer */\n",
       "  background-color: var(--sklearn-color-background);\n",
       "}\n",
       "\n",
       "/* Toggleable label */\n",
       "#sk-container-id-1 label.sk-toggleable__label {\n",
       "  cursor: pointer;\n",
       "  display: block;\n",
       "  width: 100%;\n",
       "  margin-bottom: 0;\n",
       "  padding: 0.5em;\n",
       "  box-sizing: border-box;\n",
       "  text-align: center;\n",
       "}\n",
       "\n",
       "#sk-container-id-1 label.sk-toggleable__label-arrow:before {\n",
       "  /* Arrow on the left of the label */\n",
       "  content: \"▸\";\n",
       "  float: left;\n",
       "  margin-right: 0.25em;\n",
       "  color: var(--sklearn-color-icon);\n",
       "}\n",
       "\n",
       "#sk-container-id-1 label.sk-toggleable__label-arrow:hover:before {\n",
       "  color: var(--sklearn-color-text);\n",
       "}\n",
       "\n",
       "/* Toggleable content - dropdown */\n",
       "\n",
       "#sk-container-id-1 div.sk-toggleable__content {\n",
       "  max-height: 0;\n",
       "  max-width: 0;\n",
       "  overflow: hidden;\n",
       "  text-align: left;\n",
       "  /* unfitted */\n",
       "  background-color: var(--sklearn-color-unfitted-level-0);\n",
       "}\n",
       "\n",
       "#sk-container-id-1 div.sk-toggleable__content.fitted {\n",
       "  /* fitted */\n",
       "  background-color: var(--sklearn-color-fitted-level-0);\n",
       "}\n",
       "\n",
       "#sk-container-id-1 div.sk-toggleable__content pre {\n",
       "  margin: 0.2em;\n",
       "  border-radius: 0.25em;\n",
       "  color: var(--sklearn-color-text);\n",
       "  /* unfitted */\n",
       "  background-color: var(--sklearn-color-unfitted-level-0);\n",
       "}\n",
       "\n",
       "#sk-container-id-1 div.sk-toggleable__content.fitted pre {\n",
       "  /* unfitted */\n",
       "  background-color: var(--sklearn-color-fitted-level-0);\n",
       "}\n",
       "\n",
       "#sk-container-id-1 input.sk-toggleable__control:checked~div.sk-toggleable__content {\n",
       "  /* Expand drop-down */\n",
       "  max-height: 200px;\n",
       "  max-width: 100%;\n",
       "  overflow: auto;\n",
       "}\n",
       "\n",
       "#sk-container-id-1 input.sk-toggleable__control:checked~label.sk-toggleable__label-arrow:before {\n",
       "  content: \"▾\";\n",
       "}\n",
       "\n",
       "/* Pipeline/ColumnTransformer-specific style */\n",
       "\n",
       "#sk-container-id-1 div.sk-label input.sk-toggleable__control:checked~label.sk-toggleable__label {\n",
       "  color: var(--sklearn-color-text);\n",
       "  background-color: var(--sklearn-color-unfitted-level-2);\n",
       "}\n",
       "\n",
       "#sk-container-id-1 div.sk-label.fitted input.sk-toggleable__control:checked~label.sk-toggleable__label {\n",
       "  background-color: var(--sklearn-color-fitted-level-2);\n",
       "}\n",
       "\n",
       "/* Estimator-specific style */\n",
       "\n",
       "/* Colorize estimator box */\n",
       "#sk-container-id-1 div.sk-estimator input.sk-toggleable__control:checked~label.sk-toggleable__label {\n",
       "  /* unfitted */\n",
       "  background-color: var(--sklearn-color-unfitted-level-2);\n",
       "}\n",
       "\n",
       "#sk-container-id-1 div.sk-estimator.fitted input.sk-toggleable__control:checked~label.sk-toggleable__label {\n",
       "  /* fitted */\n",
       "  background-color: var(--sklearn-color-fitted-level-2);\n",
       "}\n",
       "\n",
       "#sk-container-id-1 div.sk-label label.sk-toggleable__label,\n",
       "#sk-container-id-1 div.sk-label label {\n",
       "  /* The background is the default theme color */\n",
       "  color: var(--sklearn-color-text-on-default-background);\n",
       "}\n",
       "\n",
       "/* On hover, darken the color of the background */\n",
       "#sk-container-id-1 div.sk-label:hover label.sk-toggleable__label {\n",
       "  color: var(--sklearn-color-text);\n",
       "  background-color: var(--sklearn-color-unfitted-level-2);\n",
       "}\n",
       "\n",
       "/* Label box, darken color on hover, fitted */\n",
       "#sk-container-id-1 div.sk-label.fitted:hover label.sk-toggleable__label.fitted {\n",
       "  color: var(--sklearn-color-text);\n",
       "  background-color: var(--sklearn-color-fitted-level-2);\n",
       "}\n",
       "\n",
       "/* Estimator label */\n",
       "\n",
       "#sk-container-id-1 div.sk-label label {\n",
       "  font-family: monospace;\n",
       "  font-weight: bold;\n",
       "  display: inline-block;\n",
       "  line-height: 1.2em;\n",
       "}\n",
       "\n",
       "#sk-container-id-1 div.sk-label-container {\n",
       "  text-align: center;\n",
       "}\n",
       "\n",
       "/* Estimator-specific */\n",
       "#sk-container-id-1 div.sk-estimator {\n",
       "  font-family: monospace;\n",
       "  border: 1px dotted var(--sklearn-color-border-box);\n",
       "  border-radius: 0.25em;\n",
       "  box-sizing: border-box;\n",
       "  margin-bottom: 0.5em;\n",
       "  /* unfitted */\n",
       "  background-color: var(--sklearn-color-unfitted-level-0);\n",
       "}\n",
       "\n",
       "#sk-container-id-1 div.sk-estimator.fitted {\n",
       "  /* fitted */\n",
       "  background-color: var(--sklearn-color-fitted-level-0);\n",
       "}\n",
       "\n",
       "/* on hover */\n",
       "#sk-container-id-1 div.sk-estimator:hover {\n",
       "  /* unfitted */\n",
       "  background-color: var(--sklearn-color-unfitted-level-2);\n",
       "}\n",
       "\n",
       "#sk-container-id-1 div.sk-estimator.fitted:hover {\n",
       "  /* fitted */\n",
       "  background-color: var(--sklearn-color-fitted-level-2);\n",
       "}\n",
       "\n",
       "/* Specification for estimator info (e.g. \"i\" and \"?\") */\n",
       "\n",
       "/* Common style for \"i\" and \"?\" */\n",
       "\n",
       ".sk-estimator-doc-link,\n",
       "a:link.sk-estimator-doc-link,\n",
       "a:visited.sk-estimator-doc-link {\n",
       "  float: right;\n",
       "  font-size: smaller;\n",
       "  line-height: 1em;\n",
       "  font-family: monospace;\n",
       "  background-color: var(--sklearn-color-background);\n",
       "  border-radius: 1em;\n",
       "  height: 1em;\n",
       "  width: 1em;\n",
       "  text-decoration: none !important;\n",
       "  margin-left: 1ex;\n",
       "  /* unfitted */\n",
       "  border: var(--sklearn-color-unfitted-level-1) 1pt solid;\n",
       "  color: var(--sklearn-color-unfitted-level-1);\n",
       "}\n",
       "\n",
       ".sk-estimator-doc-link.fitted,\n",
       "a:link.sk-estimator-doc-link.fitted,\n",
       "a:visited.sk-estimator-doc-link.fitted {\n",
       "  /* fitted */\n",
       "  border: var(--sklearn-color-fitted-level-1) 1pt solid;\n",
       "  color: var(--sklearn-color-fitted-level-1);\n",
       "}\n",
       "\n",
       "/* On hover */\n",
       "div.sk-estimator:hover .sk-estimator-doc-link:hover,\n",
       ".sk-estimator-doc-link:hover,\n",
       "div.sk-label-container:hover .sk-estimator-doc-link:hover,\n",
       ".sk-estimator-doc-link:hover {\n",
       "  /* unfitted */\n",
       "  background-color: var(--sklearn-color-unfitted-level-3);\n",
       "  color: var(--sklearn-color-background);\n",
       "  text-decoration: none;\n",
       "}\n",
       "\n",
       "div.sk-estimator.fitted:hover .sk-estimator-doc-link.fitted:hover,\n",
       ".sk-estimator-doc-link.fitted:hover,\n",
       "div.sk-label-container:hover .sk-estimator-doc-link.fitted:hover,\n",
       ".sk-estimator-doc-link.fitted:hover {\n",
       "  /* fitted */\n",
       "  background-color: var(--sklearn-color-fitted-level-3);\n",
       "  color: var(--sklearn-color-background);\n",
       "  text-decoration: none;\n",
       "}\n",
       "\n",
       "/* Span, style for the box shown on hovering the info icon */\n",
       ".sk-estimator-doc-link span {\n",
       "  display: none;\n",
       "  z-index: 9999;\n",
       "  position: relative;\n",
       "  font-weight: normal;\n",
       "  right: .2ex;\n",
       "  padding: .5ex;\n",
       "  margin: .5ex;\n",
       "  width: min-content;\n",
       "  min-width: 20ex;\n",
       "  max-width: 50ex;\n",
       "  color: var(--sklearn-color-text);\n",
       "  box-shadow: 2pt 2pt 4pt #999;\n",
       "  /* unfitted */\n",
       "  background: var(--sklearn-color-unfitted-level-0);\n",
       "  border: .5pt solid var(--sklearn-color-unfitted-level-3);\n",
       "}\n",
       "\n",
       ".sk-estimator-doc-link.fitted span {\n",
       "  /* fitted */\n",
       "  background: var(--sklearn-color-fitted-level-0);\n",
       "  border: var(--sklearn-color-fitted-level-3);\n",
       "}\n",
       "\n",
       ".sk-estimator-doc-link:hover span {\n",
       "  display: block;\n",
       "}\n",
       "\n",
       "/* \"?\"-specific style due to the `<a>` HTML tag */\n",
       "\n",
       "#sk-container-id-1 a.estimator_doc_link {\n",
       "  float: right;\n",
       "  font-size: 1rem;\n",
       "  line-height: 1em;\n",
       "  font-family: monospace;\n",
       "  background-color: var(--sklearn-color-background);\n",
       "  border-radius: 1rem;\n",
       "  height: 1rem;\n",
       "  width: 1rem;\n",
       "  text-decoration: none;\n",
       "  /* unfitted */\n",
       "  color: var(--sklearn-color-unfitted-level-1);\n",
       "  border: var(--sklearn-color-unfitted-level-1) 1pt solid;\n",
       "}\n",
       "\n",
       "#sk-container-id-1 a.estimator_doc_link.fitted {\n",
       "  /* fitted */\n",
       "  border: var(--sklearn-color-fitted-level-1) 1pt solid;\n",
       "  color: var(--sklearn-color-fitted-level-1);\n",
       "}\n",
       "\n",
       "/* On hover */\n",
       "#sk-container-id-1 a.estimator_doc_link:hover {\n",
       "  /* unfitted */\n",
       "  background-color: var(--sklearn-color-unfitted-level-3);\n",
       "  color: var(--sklearn-color-background);\n",
       "  text-decoration: none;\n",
       "}\n",
       "\n",
       "#sk-container-id-1 a.estimator_doc_link.fitted:hover {\n",
       "  /* fitted */\n",
       "  background-color: var(--sklearn-color-fitted-level-3);\n",
       "}\n",
       "</style><div id=\"sk-container-id-1\" class=\"sk-top-container\"><div class=\"sk-text-repr-fallback\"><pre>XGBClassifier(base_score=None, booster=None, callbacks=None,\n",
       "              colsample_bylevel=None, colsample_bynode=0.9539969835279999,\n",
       "              colsample_bytree=None, device=&#x27;gpu&#x27;, early_stopping_rounds=None,\n",
       "              enable_categorical=False,\n",
       "              eval_metric=&lt;function custom_f1_score at 0x70f9233ea2a0&gt;,\n",
       "              feature_types=None, gamma=None, grow_policy=None,\n",
       "              importance_type=None, interaction_constraints=None,\n",
       "              learning_rate=0.4038423798071558, max_bin=None,\n",
       "              max_cat_threshold=None, max_cat_to_onehot=None,\n",
       "              max_delta_step=None, max_depth=13, max_leaves=None,\n",
       "              min_child_weight=43, missing=nan, monotone_constraints=None,\n",
       "              multi_strategy=None, n_estimators=38, n_jobs=None,\n",
       "              num_parallel_tree=None, objective=&#x27;multi:softprob&#x27;, ...)</pre><b>In a Jupyter environment, please rerun this cell to show the HTML representation or trust the notebook. <br />On GitHub, the HTML representation is unable to render, please try loading this page with nbviewer.org.</b></div><div class=\"sk-container\" hidden><div class=\"sk-item\"><div class=\"sk-estimator fitted sk-toggleable\"><input class=\"sk-toggleable__control sk-hidden--visually\" id=\"sk-estimator-id-1\" type=\"checkbox\" checked><label for=\"sk-estimator-id-1\" class=\"sk-toggleable__label fitted sk-toggleable__label-arrow fitted\">&nbsp;XGBClassifier<span class=\"sk-estimator-doc-link fitted\">i<span>Fitted</span></span></label><div class=\"sk-toggleable__content fitted\"><pre>XGBClassifier(base_score=None, booster=None, callbacks=None,\n",
       "              colsample_bylevel=None, colsample_bynode=0.9539969835279999,\n",
       "              colsample_bytree=None, device=&#x27;gpu&#x27;, early_stopping_rounds=None,\n",
       "              enable_categorical=False,\n",
       "              eval_metric=&lt;function custom_f1_score at 0x70f9233ea2a0&gt;,\n",
       "              feature_types=None, gamma=None, grow_policy=None,\n",
       "              importance_type=None, interaction_constraints=None,\n",
       "              learning_rate=0.4038423798071558, max_bin=None,\n",
       "              max_cat_threshold=None, max_cat_to_onehot=None,\n",
       "              max_delta_step=None, max_depth=13, max_leaves=None,\n",
       "              min_child_weight=43, missing=nan, monotone_constraints=None,\n",
       "              multi_strategy=None, n_estimators=38, n_jobs=None,\n",
       "              num_parallel_tree=None, objective=&#x27;multi:softprob&#x27;, ...)</pre></div> </div></div></div></div>"
      ],
      "text/plain": [
       "XGBClassifier(base_score=None, booster=None, callbacks=None,\n",
       "              colsample_bylevel=None, colsample_bynode=0.9539969835279999,\n",
       "              colsample_bytree=None, device='gpu', early_stopping_rounds=None,\n",
       "              enable_categorical=False,\n",
       "              eval_metric=<function custom_f1_score at 0x70f9233ea2a0>,\n",
       "              feature_types=None, gamma=None, grow_policy=None,\n",
       "              importance_type=None, interaction_constraints=None,\n",
       "              learning_rate=0.4038423798071558, max_bin=None,\n",
       "              max_cat_threshold=None, max_cat_to_onehot=None,\n",
       "              max_delta_step=None, max_depth=13, max_leaves=None,\n",
       "              min_child_weight=43, missing=nan, monotone_constraints=None,\n",
       "              multi_strategy=None, n_estimators=38, n_jobs=None,\n",
       "              num_parallel_tree=None, objective='multi:softprob', ...)"
      ]
     },
     "execution_count": 19,
     "metadata": {},
     "output_type": "execute_result"
    }
   ],
   "source": [
    "n_estimators = int(study.best_trial.user_attrs['best_iteration']*1.2)\n",
    "xgb = xgboost.XGBClassifier(\n",
    "        device='gpu',\n",
    "        eval_metric=eval_metric,\n",
    "        n_estimators=n_estimators,\n",
    "        **study.best_trial.params\n",
    "    )\n",
    "xgb.fit(\n",
    "    ssp.vstack((X_train, X_val)), \n",
    "    np.concatenate((y_train_enc, y_val_enc)), \n",
    "    eval_set=[(X_test, y_test_enc)],\n",
    "    verbose=1,\n",
    ")"
   ]
  },
  {
   "cell_type": "code",
   "execution_count": 20,
   "metadata": {
    "execution": {
     "iopub.execute_input": "2025-04-04T15:37:12.344600Z",
     "iopub.status.busy": "2025-04-04T15:37:12.343399Z",
     "iopub.status.idle": "2025-04-04T15:37:12.372799Z",
     "shell.execute_reply": "2025-04-04T15:37:12.371941Z",
     "shell.execute_reply.started": "2025-04-04T15:37:12.344552Z"
    }
   },
   "outputs": [
    {
     "data": {
      "text/plain": [
       "['/scratch_isilon/groups/singlecell/shared/projects/Inflammation-PBMCs-Atlas/03_downstream_analysis/08_gene_importance/COMBAT_focus_analysis/results/best_model/0_pDC_xgb.json']"
      ]
     },
     "execution_count": 20,
     "metadata": {},
     "output_type": "execute_result"
    }
   ],
   "source": [
    "joblib.dump(xgb, (here(f'03_downstream_analysis/08_gene_importance/COMBAT_focus_analysis/results/best_model/{SPLIT_IDX}_{CELL_TYPE}_xgb.json')))"
   ]
  },
  {
   "cell_type": "code",
   "execution_count": 21,
   "metadata": {
    "execution": {
     "iopub.execute_input": "2025-04-04T15:37:16.587113Z",
     "iopub.status.busy": "2025-04-04T15:37:16.586253Z",
     "iopub.status.idle": "2025-04-04T15:37:16.672989Z",
     "shell.execute_reply": "2025-04-04T15:37:16.672067Z",
     "shell.execute_reply.started": "2025-04-04T15:37:16.587069Z"
    }
   },
   "outputs": [
    {
     "name": "stderr",
     "output_type": "stream",
     "text": [
      "/scratch_isilon/groups/singlecell/shared/conda_env/xgboostGPU/lib/python3.12/site-packages/xgboost/core.py:160: UserWarning: [15:37:16] WARNING: /home/conda/feedstock_root/build_artifacts/xgboost-split_1703076482591/work/src/common/error_msg.cc:58: Falling back to prediction using DMatrix due to mismatched devices. This might lead to higher memory usage and slower performance. XGBoost is running on: cuda:0, while the input data is on: cpu.\n",
      "Potential solutions:\n",
      "- Use a data structure that matches the device ordinal in the booster.\n",
      "- Set the device for booster before call to inplace_predict.\n",
      "\n",
      "This warning will only be shown once.\n",
      "\n",
      "  warnings.warn(smsg, UserWarning)\n"
     ]
    }
   ],
   "source": [
    "(pd.DataFrame(np.array((y_test, y_test_enc, xgb.predict(X_test))).T, columns=['y_true', 'y_true_code', 'y_pred'])\n",
    " .to_csv(here(f'03_downstream_analysis/08_gene_importance/COMBAT_focus_analysis/results/predictions/{SPLIT_IDX}_{CELL_TYPE}_pred_test.zip')))\n",
    "(pd.DataFrame(np.array((y_train, y_train_enc, xgb.predict(X_train))).T, columns=['y_true', 'y_true_code', 'y_pred'])\n",
    " .to_csv(here(f'03_downstream_analysis/08_gene_importance/COMBAT_focus_analysis/results/predictions/{SPLIT_IDX}_{CELL_TYPE}_pred_train.zip')))"
   ]
  }
 ],
 "metadata": {
  "kernelspec": {
   "display_name": "Python 3 (ipykernel)",
   "language": "python",
   "name": "python3"
  },
  "language_info": {
   "codemirror_mode": {
    "name": "ipython",
    "version": 3
   },
   "file_extension": ".py",
   "mimetype": "text/x-python",
   "name": "python",
   "nbconvert_exporter": "python",
   "pygments_lexer": "ipython3",
   "version": "3.12.9"
  }
 },
 "nbformat": 4,
 "nbformat_minor": 4
}
