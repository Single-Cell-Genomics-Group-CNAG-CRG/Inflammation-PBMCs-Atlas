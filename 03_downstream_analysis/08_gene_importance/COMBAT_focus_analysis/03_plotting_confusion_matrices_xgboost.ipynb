{
 "cells": [
  {
   "cell_type": "code",
   "execution_count": 1,
   "id": "02feb7c6-f368-4c4a-b52d-d0b88c1a9cb9",
   "metadata": {
    "execution": {
     "iopub.execute_input": "2025-06-03T13:32:08.999846Z",
     "iopub.status.busy": "2025-06-03T13:32:08.999498Z",
     "iopub.status.idle": "2025-06-03T13:32:13.138742Z",
     "shell.execute_reply": "2025-06-03T13:32:13.138253Z",
     "shell.execute_reply.started": "2025-06-03T13:32:08.999829Z"
    },
    "papermill": {
     "duration": 2.180264,
     "end_time": "2024-07-11T11:23:51.415510",
     "exception": false,
     "start_time": "2024-07-11T11:23:49.235246",
     "status": "completed"
    },
    "tags": []
   },
   "outputs": [],
   "source": [
    "import sys\n",
    "import os\n",
    "from glob import glob\n",
    "\n",
    "import warnings\n",
    "\n",
    "import matplotlib as mpl\n",
    "\n",
    "import re\n",
    "\n",
    "import seaborn as sns\n",
    "\n",
    "from pyprojroot.here import here\n",
    "\n",
    "import matplotlib.pyplot as plt\n",
    "plt.rcParams['axes.facecolor'] = '#FFFFFF'\n",
    "\n",
    "import pandas as pd\n",
    "import numpy as np\n",
    "\n",
    "from PyComplexHeatmap import *\n",
    "\n",
    "from sklearn.metrics import balanced_accuracy_score, f1_score\n",
    "\n",
    "# Setting some parameters\n",
    "warnings.filterwarnings(\"ignore\")\n",
    "sys.path.insert(1, str(here('bin')))\n",
    "\n",
    "from customPalette import diseases_palette, diseaseCategories, diseasesGroup_palette, COVID_severity_palette\n",
    "\n",
    "dpi_fig_save = 300"
   ]
  },
  {
   "cell_type": "code",
   "execution_count": 2,
   "id": "dfdccebf-e522-4d1c-8da3-0bd0789d1581",
   "metadata": {
    "execution": {
     "iopub.execute_input": "2025-06-03T13:32:13.140066Z",
     "iopub.status.busy": "2025-06-03T13:32:13.139692Z",
     "iopub.status.idle": "2025-06-03T13:32:13.403273Z",
     "shell.execute_reply": "2025-06-03T13:32:13.402863Z",
     "shell.execute_reply.started": "2025-06-03T13:32:13.140049Z"
    }
   },
   "outputs": [
    {
     "name": "stdout",
     "output_type": "stream",
     "text": [
      "/scratch_isilon/groups/singlecell/shared/projects/Inflammation-PBMCs-Atlas/03_downstream_analysis/08_gene_importance/COMBAT_focus_analysis\n"
     ]
    }
   ],
   "source": [
    "!pwd"
   ]
  },
  {
   "cell_type": "markdown",
   "id": "af2ae7ea-73b0-4aac-8885-678e9193f70e",
   "metadata": {
    "papermill": {
     "duration": 0.00697,
     "end_time": "2024-07-11T11:23:51.430011",
     "exception": false,
     "start_time": "2024-07-11T11:23:51.423041",
     "status": "completed"
    },
    "tags": []
   },
   "source": [
    "### Loading dataframes with labels"
   ]
  },
  {
   "cell_type": "code",
   "execution_count": 3,
   "id": "68f94c83-d262-4d1e-80b9-1ff9e7f82e9d",
   "metadata": {
    "execution": {
     "iopub.execute_input": "2025-06-03T13:32:16.837189Z",
     "iopub.status.busy": "2025-06-03T13:32:16.836911Z",
     "iopub.status.idle": "2025-06-03T13:32:16.853158Z",
     "shell.execute_reply": "2025-06-03T13:32:16.852820Z",
     "shell.execute_reply.started": "2025-06-03T13:32:16.837171Z"
    }
   },
   "outputs": [],
   "source": [
    "pred_file_path_list = glob(str(here('03_downstream_analysis/08_gene_importance/COMBAT_focus_analysis/results/predictions/*_pred_test.zip')))"
   ]
  },
  {
   "cell_type": "code",
   "execution_count": 4,
   "id": "888684a7-149b-443b-a302-8683f3d4962c",
   "metadata": {
    "execution": {
     "iopub.execute_input": "2025-06-03T13:32:19.028906Z",
     "iopub.status.busy": "2025-06-03T13:32:19.028627Z",
     "iopub.status.idle": "2025-06-03T13:32:20.311100Z",
     "shell.execute_reply": "2025-06-03T13:32:20.310587Z",
     "shell.execute_reply.started": "2025-06-03T13:32:19.028891Z"
    }
   },
   "outputs": [],
   "source": [
    "predictionDFlist = []\n",
    "for pt in pred_file_path_list: \n",
    "    fn = os.path.basename(pt)\n",
    "    split_id = fn.split('_')[0]\n",
    "    ct = fn.split('_', maxsplit= 1)[1].replace('_pred_test.zip','')\n",
    "    df_i = pd.read_csv(pt, index_col=0)\n",
    "\n",
    "    df_i['Level1'] = ct\n",
    "    df_i['SPLIT_ID'] = split_id\n",
    "\n",
    "    predictionDFlist.append(df_i)\n",
    "\n",
    "predictionDF = pd.concat(predictionDFlist, axis=0)\n",
    "\n",
    "dis_cod_dict = predictionDF[['y_true','y_true_code']].drop_duplicates().set_index('y_true_code').to_dict()['y_true']\n",
    "\n",
    "predictionDF['disease'] = predictionDF.y_true_code.map(dis_cod_dict)\n",
    "predictionDF['disease_pred'] = predictionDF.y_pred.map(dis_cod_dict)\n",
    "predictionDF.drop(['y_true','y_true_code','y_pred'], axis=1,inplace=True)\n",
    "\n",
    "\n",
    "# predictionDF = predictionDF.rename({'y_true':'disease', 'y_pred':'disease_pred'}, axis=1)"
   ]
  },
  {
   "cell_type": "code",
   "execution_count": 5,
   "id": "0f3f8c41-c2de-42db-91f7-15ac1f93647d",
   "metadata": {
    "execution": {
     "iopub.execute_input": "2025-06-03T13:32:20.312037Z",
     "iopub.status.busy": "2025-06-03T13:32:20.311847Z",
     "iopub.status.idle": "2025-06-03T13:32:20.411465Z",
     "shell.execute_reply": "2025-06-03T13:32:20.411097Z",
     "shell.execute_reply.started": "2025-06-03T13:32:20.312021Z"
    },
    "papermill": {
     "duration": 0.021437,
     "end_time": "2024-07-11T11:23:51.638340",
     "exception": false,
     "start_time": "2024-07-11T11:23:51.616903",
     "status": "completed"
    },
    "tags": []
   },
   "outputs": [],
   "source": [
    "predictionDF['disease_cat'] = predictionDF.disease.map(diseaseCategories)"
   ]
  },
  {
   "cell_type": "markdown",
   "id": "f8f1e38a-dde9-40d9-9e78-c5e12dadf1e8",
   "metadata": {
    "papermill": {
     "duration": 0.006719,
     "end_time": "2024-07-11T11:23:51.680199",
     "exception": false,
     "start_time": "2024-07-11T11:23:51.673480",
     "status": "completed"
    },
    "tags": []
   },
   "source": [
    "**Overall BAS and Weighted F1:**"
   ]
  },
  {
   "cell_type": "code",
   "execution_count": 6,
   "id": "b549a08d-3209-42d0-978d-2cb92fc1fa89",
   "metadata": {
    "execution": {
     "iopub.execute_input": "2025-06-03T13:32:22.773939Z",
     "iopub.status.busy": "2025-06-03T13:32:22.773585Z",
     "iopub.status.idle": "2025-06-03T13:32:26.858550Z",
     "shell.execute_reply": "2025-06-03T13:32:26.858195Z",
     "shell.execute_reply.started": "2025-06-03T13:32:22.773924Z"
    },
    "papermill": {
     "duration": 2.160874,
     "end_time": "2024-07-11T11:23:53.847845",
     "exception": false,
     "start_time": "2024-07-11T11:23:51.686971",
     "status": "completed"
    },
    "tags": []
   },
   "outputs": [
    {
     "name": "stdout",
     "output_type": "stream",
     "text": [
      "BAS COMBAT data: 0.5688384471983392\n",
      "W_F1 COMBAT data: 0.7770090481161247\n"
     ]
    }
   ],
   "source": [
    "print(f\"BAS COMBAT data: {balanced_accuracy_score(y_true = predictionDF.disease, y_pred=predictionDF.disease_pred)}\")\n",
    "print(f\"W_F1 COMBAT data: {f1_score(y_true = predictionDF.disease, y_pred=predictionDF.disease_pred, average='weighted')}\")"
   ]
  },
  {
   "cell_type": "markdown",
   "id": "9ec0ac95-a33d-40f8-a9bd-d3a1b4e1fb1a",
   "metadata": {},
   "source": [
    "**BAS for each cell-type**"
   ]
  },
  {
   "cell_type": "code",
   "execution_count": 7,
   "id": "a8921b56-0987-4ed0-954b-7453ac0403a6",
   "metadata": {
    "execution": {
     "iopub.execute_input": "2025-06-03T13:32:28.669916Z",
     "iopub.status.busy": "2025-06-03T13:32:28.669650Z",
     "iopub.status.idle": "2025-06-03T13:32:29.901990Z",
     "shell.execute_reply": "2025-06-03T13:32:29.901642Z",
     "shell.execute_reply.started": "2025-06-03T13:32:28.669897Z"
    }
   },
   "outputs": [
    {
     "data": {
      "text/plain": [
       "Level1\n",
       "B                 0.462546\n",
       "DC                0.560193\n",
       "ILC               0.499521\n",
       "Mono              0.615353\n",
       "Plasma            0.266519\n",
       "T_CD4_Naive       0.589718\n",
       "T_CD4_NonNaive    0.555182\n",
       "T_CD8_Naive       0.542080\n",
       "T_CD8_NonNaive    0.497255\n",
       "UTC               0.464551\n",
       "pDC               0.453141\n",
       "dtype: float64"
      ]
     },
     "execution_count": 7,
     "metadata": {},
     "output_type": "execute_result"
    }
   ],
   "source": [
    "predictionDF.groupby(['Level1'])[['disease','disease_pred']].apply(lambda x: (balanced_accuracy_score(y_true = x.disease.astype(str),\n",
    "                                                                                                       y_pred = x.disease_pred.astype(str))))"
   ]
  },
  {
   "cell_type": "markdown",
   "id": "edc41aee-5270-4fb8-9261-2b2ddc45969f",
   "metadata": {},
   "source": [
    "**Weighted F1, for each cell-type**"
   ]
  },
  {
   "cell_type": "code",
   "execution_count": 8,
   "id": "90dba3ea-de71-425b-b300-285509a3a9df",
   "metadata": {
    "execution": {
     "iopub.execute_input": "2025-06-03T13:32:35.445319Z",
     "iopub.status.busy": "2025-06-03T13:32:35.445063Z",
     "iopub.status.idle": "2025-06-03T13:32:37.991561Z",
     "shell.execute_reply": "2025-06-03T13:32:37.991234Z",
     "shell.execute_reply.started": "2025-06-03T13:32:35.445304Z"
    }
   },
   "outputs": [
    {
     "data": {
      "text/plain": [
       "Level1\n",
       "B                 0.769674\n",
       "DC                0.825686\n",
       "ILC               0.760036\n",
       "Mono              0.769111\n",
       "Plasma            0.661389\n",
       "T_CD4_Naive       0.815074\n",
       "T_CD4_NonNaive    0.805129\n",
       "T_CD8_Naive       0.774824\n",
       "T_CD8_NonNaive    0.722134\n",
       "UTC               0.732579\n",
       "pDC               0.739218\n",
       "dtype: float64"
      ]
     },
     "execution_count": 8,
     "metadata": {},
     "output_type": "execute_result"
    }
   ],
   "source": [
    "predictionDF.groupby(['Level1'])[['disease','disease_pred']].apply(lambda x: (f1_score(y_true = x.disease.astype(str),\n",
    "                                                                                   y_pred = x.disease_pred.astype(str),\n",
    "                                                                                   average='weighted')))"
   ]
  },
  {
   "cell_type": "markdown",
   "id": "9c7b563a-740e-4de8-a3e2-ea52bef661b4",
   "metadata": {
    "papermill": {
     "duration": 0.006997,
     "end_time": "2024-07-11T11:23:56.085461",
     "exception": false,
     "start_time": "2024-07-11T11:23:56.078464",
     "status": "completed"
    },
    "tags": []
   },
   "source": [
    "## Confusion matrix visualization"
   ]
  },
  {
   "cell_type": "markdown",
   "id": "9651f3b2-cbd5-4b58-9ea3-592a933b979b",
   "metadata": {
    "papermill": {
     "duration": 0.007074,
     "end_time": "2024-07-11T11:23:56.099360",
     "exception": false,
     "start_time": "2024-07-11T11:23:56.092286",
     "status": "completed"
    },
    "tags": []
   },
   "source": [
    "#### Functions"
   ]
  },
  {
   "cell_type": "code",
   "execution_count": 9,
   "id": "c14a2b09-2e75-4727-a50f-1c2e7f1c2d72",
   "metadata": {
    "execution": {
     "iopub.execute_input": "2025-06-03T13:39:51.222204Z",
     "iopub.status.busy": "2025-06-03T13:39:51.221964Z",
     "iopub.status.idle": "2025-06-03T13:39:51.225800Z",
     "shell.execute_reply": "2025-06-03T13:39:51.225479Z",
     "shell.execute_reply.started": "2025-06-03T13:39:51.222188Z"
    },
    "papermill": {
     "duration": 0.011784,
     "end_time": "2024-07-11T11:23:56.117974",
     "exception": false,
     "start_time": "2024-07-11T11:23:56.106190",
     "status": "completed"
    },
    "tags": []
   },
   "outputs": [],
   "source": [
    "# Computing the confusion matrix\n",
    "def getConfusionMatrix(predTestDF = None, predCol = 'y_pred', gtCol = 'y_test', normalize='columns'):\n",
    "\n",
    "    # normalize could be False, 'rows', or 'columns' (default).\n",
    "    \n",
    "    import pandas as pd\n",
    "\n",
    "    if normalize == False:\n",
    "        confusionMatrix = pd.crosstab(predTestDF[predCol], predTestDF[gtCol], dropna=False)\n",
    "    else:\n",
    "        confusionMatrix = pd.crosstab(predTestDF[predCol], predTestDF[gtCol], normalize=normalize, dropna=False)\n",
    "\n",
    "    if confusionMatrix.shape[0] < confusionMatrix.shape[1]:\n",
    "        for d in np.setdiff1d(confusionMatrix.columns.tolist(), confusionMatrix.index.tolist()):\n",
    "            confusionMatrix.loc[d,:] = 0\n",
    "    elif confusionMatrix.shape[0] > confusionMatrix.shape[1]:\n",
    "        for d in np.setdiff1d(confusionMatrix.index.tolist(),confusionMatrix.columns.tolist()):\n",
    "            confusionMatrix[d] = 0   \n",
    "\n",
    "    return(confusionMatrix)"
   ]
  },
  {
   "cell_type": "code",
   "execution_count": 10,
   "id": "a028a7cb-f3cc-4447-a3f1-40c35f99c730",
   "metadata": {
    "execution": {
     "iopub.execute_input": "2025-06-03T13:39:51.764029Z",
     "iopub.status.busy": "2025-06-03T13:39:51.763580Z",
     "iopub.status.idle": "2025-06-03T13:39:51.766190Z",
     "shell.execute_reply": "2025-06-03T13:39:51.765883Z",
     "shell.execute_reply.started": "2025-06-03T13:39:51.764013Z"
    },
    "papermill": {
     "duration": 0.010435,
     "end_time": "2024-07-11T11:23:56.135159",
     "exception": false,
     "start_time": "2024-07-11T11:23:56.124724",
     "status": "completed"
    },
    "tags": []
   },
   "outputs": [],
   "source": [
    "def reorder_ConfMatrix(confusionMatrix=None, elementList = None):\n",
    "\n",
    "    confusionMatrix = confusionMatrix.reindex(elementList, axis=0).reindex(elementList, axis=1)\n",
    "\n",
    "    return(confusionMatrix)"
   ]
  },
  {
   "cell_type": "code",
   "execution_count": 11,
   "id": "05087f82-d6e6-4407-87a6-bcbfea2baa26",
   "metadata": {
    "execution": {
     "iopub.execute_input": "2025-06-03T13:39:52.387712Z",
     "iopub.status.busy": "2025-06-03T13:39:52.387413Z",
     "iopub.status.idle": "2025-06-03T13:39:52.389682Z",
     "shell.execute_reply": "2025-06-03T13:39:52.389391Z",
     "shell.execute_reply.started": "2025-06-03T13:39:52.387698Z"
    },
    "papermill": {
     "duration": 0.010146,
     "end_time": "2024-07-11T11:23:56.153366",
     "exception": false,
     "start_time": "2024-07-11T11:23:56.143220",
     "status": "completed"
    },
    "tags": []
   },
   "outputs": [],
   "source": [
    "def mask_entries(confusionMatrix=None, lowerThan = 0, cmap='viridis'):\n",
    "    confusionMatrix_nan = confusionMatrix.copy()\n",
    "    confusionMatrix_nan[confusionMatrix_nan <= lowerThan] = np.nan\n",
    "    return(confusionMatrix_nan)\n",
    "    "
   ]
  },
  {
   "cell_type": "markdown",
   "id": "c4a5f94a-4c89-46c7-b4cb-32b754662116",
   "metadata": {
    "papermill": {
     "duration": 0.006804,
     "end_time": "2024-07-11T11:23:56.166963",
     "exception": false,
     "start_time": "2024-07-11T11:23:56.160159",
     "status": "completed"
    },
    "tags": []
   },
   "source": [
    "#### Changing the PyComplexHeatmap code\n",
    "\n",
    "https://dingwb.github.io/PyComplexHeatmap/build/html/notebooks/composite_heatmaps.html#Composite-two-heatmaps-horizontally-for-mouse-DNA-methylation-array-dataset\n",
    "\n",
    "The following change is required to avoid reordering columns and rows. So, disease in the same category are close to each others"
   ]
  },
  {
   "cell_type": "code",
   "execution_count": 12,
   "id": "fb242d1c-d0df-4d12-82ee-30b57420f211",
   "metadata": {
    "execution": {
     "iopub.execute_input": "2025-06-03T13:39:54.244005Z",
     "iopub.status.busy": "2025-06-03T13:39:54.243665Z",
     "iopub.status.idle": "2025-06-03T13:39:54.258021Z",
     "shell.execute_reply": "2025-06-03T13:39:54.257719Z",
     "shell.execute_reply.started": "2025-06-03T13:39:54.243989Z"
    },
    "papermill": {
     "duration": 0.022979,
     "end_time": "2024-07-11T11:23:56.196773",
     "exception": false,
     "start_time": "2024-07-11T11:23:56.173794",
     "status": "completed"
    },
    "tags": []
   },
   "outputs": [],
   "source": [
    "def _reorder_rows(self):\n",
    "    self.row_split_dendrogram = False\n",
    "    if self.verbose >= 1:\n",
    "        print(\"Reordering rows..\")\n",
    "    if self.row_split is None and self.row_cluster:\n",
    "        self.calculate_row_dendrograms(\n",
    "            self.data2d\n",
    "        )  # xind=self.dendrogram_row.reordered_ind\n",
    "        self.row_order = [\n",
    "            self.dendrogram_row.dendrogram[\"ivl\"]\n",
    "        ]  # self.data2d.iloc[:, xind].columns.tolist()\n",
    "        return None\n",
    "    elif isinstance(self.row_split, int) and self.row_cluster:\n",
    "        self.calculate_row_dendrograms(self.data2d)\n",
    "        self.row_clusters = (\n",
    "            pd.Series(\n",
    "                hierarchy.fcluster(\n",
    "                    self.dendrogram_row.linkage,\n",
    "                    t=self.row_split,\n",
    "                    criterion=\"maxclust\",\n",
    "                ),\n",
    "                index=self.data2d.index.tolist(),\n",
    "            )\n",
    "            .to_frame(name=\"cluster\")\n",
    "            .groupby(\"cluster\")\n",
    "            .apply(lambda x: x.index.tolist())\n",
    "            .to_dict()\n",
    "        )\n",
    "        # index=self.dendrogram_row.dendrogram['ivl']).to_frame(name='cluster')\n",
    "\n",
    "    elif isinstance(self.row_split, (pd.Series, pd.DataFrame)):\n",
    "        if isinstance(self.row_split, pd.Series):\n",
    "            self.row_split = self.row_split.to_frame(name=self.row_split.name)\n",
    "        cols = self.row_split.columns.tolist()\n",
    "        row_clusters = self.row_split.groupby(cols, sort=False).apply(\n",
    "            lambda x: x.index.tolist()\n",
    "        )\n",
    "        if self.row_split_order is None:\n",
    "            self.row_split_order = row_clusters.index.tolist()\n",
    "        elif self.row_split_order == 'cluster_between_groups':\n",
    "            mat=pd.concat([\n",
    "                self.data2d.loc[rows].mean() for rows in row_clusters.tolist()],\n",
    "                          axis=1).T #columns are original columns\n",
    "            mat.index=row_clusters.index.tolist()\n",
    "            sizes=row_clusters.apply(lambda x:len(x)).tolist()\n",
    "            self.calculate_row_dendrograms(mat,sizes=sizes)\n",
    "            self.row_split_order = self.dendrogram_row.dendrogram[\"ivl\"]\n",
    "            self.row_split_dendrogram=self.dendrogram_row\n",
    "        self.row_clusters = row_clusters.loc[self.row_split_order].to_dict()\n",
    "    elif not self.row_cluster:\n",
    "        self.row_order = [self.data2d.index.tolist()]\n",
    "        return None\n",
    "    else:\n",
    "        raise TypeError(\"row_split must be integar or dataframe or series\")\n",
    "\n",
    "    self.row_order = []\n",
    "    self.dendrogram_rows = []\n",
    "    for i, cluster in enumerate(self.row_clusters):\n",
    "        rows = self.row_clusters[cluster]\n",
    "        if len(rows) <= 1:\n",
    "            self.row_order.append(rows)\n",
    "            self.dendrogram_rows.append(None)\n",
    "            continue\n",
    "        if self.row_cluster: #cluster within groups\n",
    "            self.calculate_row_dendrograms(self.data2d.loc[rows])\n",
    "            self.dendrogram_rows.append(self.dendrogram_row)\n",
    "            self.row_order.append(self.dendrogram_row.dendrogram[\"ivl\"])\n",
    "        else:\n",
    "            self.row_order.append(rows)\n",
    "\n",
    "def _reorder_cols(self):\n",
    "    self.col_split_dendrogram=False\n",
    "    if self.verbose >= 1:\n",
    "        print(\"Reordering cols..\")\n",
    "    if self.col_split is None and self.col_cluster:\n",
    "        self.calculate_col_dendrograms(self.data2d)\n",
    "        self.col_order = [\n",
    "            self.dendrogram_col.dendrogram[\"ivl\"]\n",
    "        ]  # self.data2d.iloc[:, xind].columns.tolist()\n",
    "        return None\n",
    "    elif isinstance(self.col_split, int) and self.col_cluster:\n",
    "        self.calculate_col_dendrograms(self.data2d)\n",
    "        self.col_clusters = (\n",
    "            pd.Series(\n",
    "                hierarchy.fcluster(\n",
    "                    self.dendrogram_col.linkage,\n",
    "                    t=self.col_split,\n",
    "                    criterion=\"maxclust\",\n",
    "                ),\n",
    "                index=self.data2d.columns.tolist(),\n",
    "            )\n",
    "            .to_frame(name=\"cluster\")\n",
    "            .groupby(\"cluster\")\n",
    "            .apply(lambda x: x.index.tolist())\n",
    "            .to_dict()\n",
    "        )\n",
    "        # index=self.dendrogram_col.dendrogram['ivl']).to_frame(name='cluster')\n",
    "\n",
    "    elif isinstance(self.col_split, (pd.Series, pd.DataFrame)):\n",
    "        if isinstance(self.col_split, pd.Series):\n",
    "            self.col_split = self.col_split.to_frame(name=self.col_split.name)\n",
    "        cols = self.col_split.columns.tolist()\n",
    "        col_clusters = self.col_split.groupby(cols, sort=False).apply(\n",
    "            lambda x: x.index.tolist()\n",
    "        )\n",
    "        if self.col_split_order is None:\n",
    "            self.col_split_order = col_clusters.index.tolist()\n",
    "        elif self.col_split_order == 'cluster_between_groups':\n",
    "            mat = pd.concat([\n",
    "                self.data2d.loc[:,cols].mean(axis=1) for cols in col_clusters.tolist()],\n",
    "                axis=1)  # index are original rows labels\n",
    "            mat.columns = col_clusters.index.tolist()\n",
    "            sizes = col_clusters.apply(lambda x: len(x)).tolist()\n",
    "            self.calculate_col_dendrograms(mat, sizes=sizes)\n",
    "            self.col_split_order = self.dendrogram_col.dendrogram[\"ivl\"]\n",
    "            self.col_split_dendrogram = self.dendrogram_col\n",
    "        self.col_clusters = col_clusters.loc[self.col_split_order].to_dict()\n",
    "    elif not self.col_cluster:\n",
    "        self.col_order = [self.data2d.columns.tolist()]\n",
    "        return None\n",
    "    else:\n",
    "        raise TypeError(\"row_split must be integar or dataframe or series\")\n",
    "\n",
    "    self.col_order = []\n",
    "    self.dendrogram_cols = []\n",
    "    for i, cluster in enumerate(self.col_clusters):\n",
    "        cols = self.col_clusters[cluster]\n",
    "        if len(cols) <= 1:\n",
    "            self.col_order.append(cols)\n",
    "            self.dendrogram_cols.append(None)\n",
    "            continue\n",
    "        if self.col_cluster:\n",
    "            self.calculate_col_dendrograms(self.data2d.loc[:, cols])\n",
    "            self.dendrogram_cols.append(self.dendrogram_col)\n",
    "            self.col_order.append(self.dendrogram_col.dendrogram[\"ivl\"])\n",
    "        else:\n",
    "            self.col_order.append(cols)\n",
    "\n",
    "def plot_matrix(self, row_order, col_order):\n",
    "    col_order=row_order.copy()\n",
    "    if self.verbose >= 1:\n",
    "        print(\"Plotting matrix..\")\n",
    "    nrows = len(row_order)\n",
    "    ncols = len(col_order)\n",
    "    self.wspace = (\n",
    "        self.col_split_gap\n",
    "        * mm2inch\n",
    "        * self.ax.figure.dpi\n",
    "        / (self.ax_heatmap.get_window_extent().width / ncols)\n",
    "    )  # 1mm=mm2inch inch\n",
    "    self.hspace = (\n",
    "        self.row_split_gap\n",
    "        * mm2inch\n",
    "        * self.ax.figure.dpi\n",
    "        / (self.ax_heatmap.get_window_extent().height / nrows)\n",
    "    )  # height\n",
    "    self.heatmap_gs = matplotlib.gridspec.GridSpecFromSubplotSpec(\n",
    "        nrows,\n",
    "        ncols,\n",
    "        hspace=self.hspace,\n",
    "        wspace=self.wspace,\n",
    "        subplot_spec=self.gs[1, 1],\n",
    "        height_ratios=[len(rows) for rows in row_order],\n",
    "        width_ratios=[len(cols) for cols in col_order],\n",
    "    )\n",
    "\n",
    "    annot = self.kwargs.pop(\"annot\", None)\n",
    "    if annot is None or annot is False:\n",
    "        pass\n",
    "    else:\n",
    "        if isinstance(annot, bool):\n",
    "            annot_data = self.data2d\n",
    "        else:\n",
    "            annot_data = annot.copy()\n",
    "            if annot_data.shape != self.data2d.shape:\n",
    "                err = \"`data` and `annot` must have same shape.\"\n",
    "                raise ValueError(err)\n",
    "\n",
    "    self.heatmap_axes = np.empty(shape=(nrows, ncols), dtype=object)\n",
    "    # if nrows > 1 or ncols > 1:\n",
    "    self.ax_heatmap.set_axis_off()\n",
    "    for i, rows in enumerate(row_order):\n",
    "        for j, cols in enumerate(col_order):\n",
    "            # print(i,j)\n",
    "            ax1 = self.ax_heatmap.figure.add_subplot(\n",
    "                self.heatmap_gs[i, j],\n",
    "                sharex=self.heatmap_axes[0, j],\n",
    "                sharey=self.heatmap_axes[i, 0],\n",
    "            )\n",
    "            ax1.set_xlim([0, len(rows)])\n",
    "            ax1.set_ylim([0, len(cols)])\n",
    "            annot1 = None if annot is None else annot_data.loc[rows, cols]\n",
    "            # heatmap(self.data2d.loc[rows, cols], ax=ax1, cbar=False, cmap=self.cmap,\n",
    "            #         cbar_kws=None, mask=self.mask.loc[rows, cols], rasterized=self.rasterized,\n",
    "            #         xticklabels='auto', yticklabels='auto', annot=annot1, **self.kwargs)\n",
    "            plot_heatmap(\n",
    "                self.data2d.loc[rows, cols],\n",
    "                ax=ax1,\n",
    "                cmap=self.cmap,\n",
    "                mask=self.mask.loc[rows, cols],\n",
    "                rasterized=self.rasterized,\n",
    "                xticklabels=\"auto\",\n",
    "                yticklabels=\"auto\",\n",
    "                annot=annot1,\n",
    "                **self.kwargs\n",
    "            )\n",
    "            self.heatmap_axes[i, j] = ax1\n",
    "            ax1.yaxis.label.set_visible(False)\n",
    "            ax1.xaxis.label.set_visible(False)\n",
    "            ax1.tick_params(\n",
    "                left=False,\n",
    "                right=False,\n",
    "                labelleft=False,\n",
    "                labelright=False,\n",
    "                top=False,\n",
    "                bottom=False,\n",
    "                labeltop=False,\n",
    "                labelbottom=False,\n",
    "            )\n"
   ]
  },
  {
   "cell_type": "code",
   "execution_count": 13,
   "id": "489a6943-b3f5-4018-ae87-a52cf10e659e",
   "metadata": {
    "execution": {
     "iopub.execute_input": "2025-06-03T13:39:55.084651Z",
     "iopub.status.busy": "2025-06-03T13:39:55.084412Z",
     "iopub.status.idle": "2025-06-03T13:39:55.086747Z",
     "shell.execute_reply": "2025-06-03T13:39:55.086440Z",
     "shell.execute_reply.started": "2025-06-03T13:39:55.084635Z"
    },
    "papermill": {
     "duration": 0.010242,
     "end_time": "2024-07-11T11:23:56.213861",
     "exception": false,
     "start_time": "2024-07-11T11:23:56.203619",
     "status": "completed"
    },
    "tags": []
   },
   "outputs": [],
   "source": [
    "ClusterMapPlotter._reorder_rows = _reorder_rows\n",
    "ClusterMapPlotter._reorder_cols = _reorder_cols\n",
    "# ClusterMapPlotter.plot_matrix = plot_matrix"
   ]
  },
  {
   "cell_type": "markdown",
   "id": "e354268b-9b98-4c64-a6de-0f3b6c9b519b",
   "metadata": {
    "papermill": {
     "duration": 0.0067,
     "end_time": "2024-07-11T11:23:56.227345",
     "exception": false,
     "start_time": "2024-07-11T11:23:56.220645",
     "status": "completed"
    },
    "tags": []
   },
   "source": [
    "## Overall confusion matrix\n",
    "Heatmap with accuracy score considering all cell-types and all datasets"
   ]
  },
  {
   "cell_type": "code",
   "execution_count": 14,
   "id": "0c41242b-f342-4aad-9c78-fea069e1ed4f",
   "metadata": {
    "execution": {
     "iopub.execute_input": "2025-06-03T13:39:55.851871Z",
     "iopub.status.busy": "2025-06-03T13:39:55.851501Z",
     "iopub.status.idle": "2025-06-03T13:39:55.979136Z",
     "shell.execute_reply": "2025-06-03T13:39:55.978750Z",
     "shell.execute_reply.started": "2025-06-03T13:39:55.851837Z"
    },
    "papermill": {
     "duration": 0.115719,
     "end_time": "2024-07-11T11:23:56.349877",
     "exception": false,
     "start_time": "2024-07-11T11:23:56.234158",
     "status": "completed"
    },
    "tags": []
   },
   "outputs": [],
   "source": [
    "elementList = ['healthy'] + [d for d in predictionDF[['disease','disease_cat']].drop_duplicates().sort_values(['disease_cat','disease']).disease.tolist() if d != 'healthy']\n",
    "diseaseCatOrd =  ['healthy'] + [d for d in predictionDF[['disease','disease_cat']].drop_duplicates().sort_values(['disease_cat','disease']).disease_cat.tolist() if d != 'healthy']"
   ]
  },
  {
   "cell_type": "code",
   "execution_count": 15,
   "id": "b268d677-7744-4198-92ed-015dd6d58aef",
   "metadata": {
    "execution": {
     "iopub.execute_input": "2025-06-03T13:39:56.734671Z",
     "iopub.status.busy": "2025-06-03T13:39:56.734290Z",
     "iopub.status.idle": "2025-06-03T13:39:56.799990Z",
     "shell.execute_reply": "2025-06-03T13:39:56.799622Z",
     "shell.execute_reply.started": "2025-06-03T13:39:56.734655Z"
    },
    "papermill": {
     "duration": 0.061843,
     "end_time": "2024-07-11T11:23:56.418883",
     "exception": false,
     "start_time": "2024-07-11T11:23:56.357040",
     "status": "completed"
    },
    "tags": []
   },
   "outputs": [],
   "source": [
    "rowAnnDF = predictionDF[['disease','disease_cat']].drop_duplicates().reset_index().set_index('disease')\n",
    "\n",
    "row_ann = HeatmapAnnotation(disease_group=anno_simple(rowAnnDF.disease_cat,colors=diseasesGroup_palette,rasterized=True, legend_kws={'color_text':False, 'labelcolor':'black'}),#, legend_kws  = {'title': 'Disease\\ngroups'}), \n",
    "                            axis=0,verbose=0, label_kws={'text':None}, plot=False, legend=True)"
   ]
  },
  {
   "cell_type": "markdown",
   "id": "9d661b6b-f49d-4368-b99a-c2fa6dba1f2c",
   "metadata": {
    "papermill": {
     "duration": 0.006446,
     "end_time": "2024-07-11T11:23:56.432387",
     "exception": false,
     "start_time": "2024-07-11T11:23:56.425941",
     "status": "completed"
    },
    "tags": []
   },
   "source": [
    "### log-scaled data"
   ]
  },
  {
   "cell_type": "code",
   "execution_count": 16,
   "id": "980fb303-f1ea-4232-8386-14ac83aa6e89",
   "metadata": {
    "execution": {
     "iopub.execute_input": "2025-06-03T13:40:00.660961Z",
     "iopub.status.busy": "2025-06-03T13:40:00.660726Z",
     "iopub.status.idle": "2025-06-03T13:40:00.819633Z",
     "shell.execute_reply": "2025-06-03T13:40:00.819261Z",
     "shell.execute_reply.started": "2025-06-03T13:40:00.660946Z"
    },
    "papermill": {
     "duration": 0.131051,
     "end_time": "2024-07-11T11:23:56.570462",
     "exception": false,
     "start_time": "2024-07-11T11:23:56.439411",
     "status": "completed"
    },
    "tags": []
   },
   "outputs": [],
   "source": [
    "Overall_confusionMatrix = getConfusionMatrix(predTestDF= predictionDF, predCol = 'disease_pred', gtCol = 'disease')\n",
    "Overall_confusionMatrix_ord = reorder_ConfMatrix(mask_entries(Overall_confusionMatrix, lowerThan = -1), elementList=elementList)"
   ]
  },
  {
   "cell_type": "code",
   "execution_count": 17,
   "id": "a480abc3-f271-4697-b12d-8f82e49a8980",
   "metadata": {
    "execution": {
     "iopub.execute_input": "2025-06-03T13:40:00.851541Z",
     "iopub.status.busy": "2025-06-03T13:40:00.851249Z",
     "iopub.status.idle": "2025-06-03T13:40:00.854162Z",
     "shell.execute_reply": "2025-06-03T13:40:00.853891Z",
     "shell.execute_reply.started": "2025-06-03T13:40:00.851527Z"
    }
   },
   "outputs": [
    {
     "data": {
      "text/plain": [
       "0.08576942725776239"
      ]
     },
     "execution_count": 17,
     "metadata": {},
     "output_type": "execute_result"
    }
   ],
   "source": [
    "Overall_confusionMatrix_ord.loc['flu','flu']"
   ]
  },
  {
   "cell_type": "code",
   "execution_count": 18,
   "id": "73088dbd-9ccc-4487-9864-bdcf9e915f99",
   "metadata": {
    "execution": {
     "iopub.execute_input": "2025-06-03T13:40:03.476011Z",
     "iopub.status.busy": "2025-06-03T13:40:03.475805Z",
     "iopub.status.idle": "2025-06-03T13:40:03.479101Z",
     "shell.execute_reply": "2025-06-03T13:40:03.478802Z",
     "shell.execute_reply.started": "2025-06-03T13:40:03.475999Z"
    }
   },
   "outputs": [
    {
     "data": {
      "text/plain": [
       "disease_pred\n",
       "healthy    0.069365\n",
       "sepsis     0.318045\n",
       "COVID      0.526821\n",
       "flu        0.085769\n",
       "Name: flu, dtype: float64"
      ]
     },
     "execution_count": 18,
     "metadata": {},
     "output_type": "execute_result"
    }
   ],
   "source": [
    "Overall_confusionMatrix_ord.loc[:,'flu']"
   ]
  },
  {
   "cell_type": "code",
   "execution_count": 23,
   "id": "4387d0a1-b63c-4a77-b395-68d38296c3bc",
   "metadata": {
    "execution": {
     "iopub.execute_input": "2025-06-03T13:54:59.103057Z",
     "iopub.status.busy": "2025-06-03T13:54:59.102675Z",
     "iopub.status.idle": "2025-06-03T13:54:59.106743Z",
     "shell.execute_reply": "2025-06-03T13:54:59.106447Z",
     "shell.execute_reply.started": "2025-06-03T13:54:59.103042Z"
    }
   },
   "outputs": [
    {
     "data": {
      "text/plain": [
       "disease_pred\n",
       "healthy    0.031744\n",
       "sepsis     0.043890\n",
       "COVID      0.919440\n",
       "flu        0.004926\n",
       "Name: COVID, dtype: float64"
      ]
     },
     "execution_count": 23,
     "metadata": {},
     "output_type": "execute_result"
    }
   ],
   "source": [
    "Overall_confusionMatrix_ord.loc[:,'COVID']"
   ]
  },
  {
   "cell_type": "code",
   "execution_count": 19,
   "id": "5a52957e-61ea-41be-aff0-3aa8a5680543",
   "metadata": {
    "execution": {
     "iopub.execute_input": "2025-06-03T13:40:19.933480Z",
     "iopub.status.busy": "2025-06-03T13:40:19.933083Z",
     "iopub.status.idle": "2025-06-03T13:40:19.936320Z",
     "shell.execute_reply": "2025-06-03T13:40:19.936025Z",
     "shell.execute_reply.started": "2025-06-03T13:40:19.933465Z"
    }
   },
   "outputs": [
    {
     "data": {
      "text/plain": [
       "0.5704434946617986"
      ]
     },
     "execution_count": 19,
     "metadata": {},
     "output_type": "execute_result"
    }
   ],
   "source": [
    "Overall_confusionMatrix_ord.loc['sepsis','sepsis']"
   ]
  },
  {
   "cell_type": "code",
   "execution_count": 20,
   "id": "107e630d-ad69-4eb9-a897-88537d7079e8",
   "metadata": {
    "execution": {
     "iopub.execute_input": "2025-06-03T13:40:20.836326Z",
     "iopub.status.busy": "2025-06-03T13:40:20.836088Z",
     "iopub.status.idle": "2025-06-03T13:40:20.862910Z",
     "shell.execute_reply": "2025-06-03T13:40:20.862594Z",
     "shell.execute_reply.started": "2025-06-03T13:40:20.836311Z"
    }
   },
   "outputs": [
    {
     "data": {
      "text/plain": [
       "disease\n",
       "COVID      345890\n",
       "sepsis     115582\n",
       "healthy     86334\n",
       "flu         17617\n",
       "Name: count, dtype: int64"
      ]
     },
     "execution_count": 20,
     "metadata": {},
     "output_type": "execute_result"
    }
   ],
   "source": [
    "predictionDF.disease.value_counts()"
   ]
  },
  {
   "cell_type": "code",
   "execution_count": 21,
   "id": "c1e9a84e-86f5-4313-8909-fd4b3a237e74",
   "metadata": {
    "execution": {
     "iopub.execute_input": "2025-06-03T13:40:23.124198Z",
     "iopub.status.busy": "2025-06-03T13:40:23.123955Z",
     "iopub.status.idle": "2025-06-03T13:40:23.149686Z",
     "shell.execute_reply": "2025-06-03T13:40:23.149388Z",
     "shell.execute_reply.started": "2025-06-03T13:40:23.124183Z"
    }
   },
   "outputs": [
    {
     "data": {
      "text/plain": [
       "disease\n",
       "COVID      0.611737\n",
       "sepsis     0.204417\n",
       "healthy    0.152689\n",
       "flu        0.031157\n",
       "Name: proportion, dtype: float64"
      ]
     },
     "execution_count": 21,
     "metadata": {},
     "output_type": "execute_result"
    }
   ],
   "source": [
    "predictionDF.disease.value_counts(normalize=True)"
   ]
  },
  {
   "cell_type": "code",
   "execution_count": 30,
   "id": "4bf7330d-09da-426f-a0d6-875d5edcef77",
   "metadata": {
    "execution": {
     "iopub.execute_input": "2025-06-03T14:30:25.773367Z",
     "iopub.status.busy": "2025-06-03T14:30:25.773122Z",
     "iopub.status.idle": "2025-06-03T14:30:26.687299Z",
     "shell.execute_reply": "2025-06-03T14:30:26.686984Z",
     "shell.execute_reply.started": "2025-06-03T14:30:25.773351Z"
    },
    "papermill": {
     "duration": 7.110226,
     "end_time": "2024-07-11T11:24:03.723666",
     "exception": false,
     "start_time": "2024-07-11T11:23:56.613440",
     "status": "completed"
    },
    "tags": []
   },
   "outputs": [
    {
     "data": {
      "image/png": "[encoded data removed]",
      "text/plain": [
       "<Figure size 300x250 with 17 Axes>"
      ]
     },
     "metadata": {},
     "output_type": "display_data"
    }
   ],
   "source": [
    "mpl.rcParams['svg.fonttype'] = 'none'\n",
    "plt.rcParams['font.size'] = '22'\n",
    "\n",
    "plt.figure(figsize=(3,2.5))\n",
    "cm = ClusterMapPlotter(data=Overall_confusionMatrix_ord, \n",
    "                       # right_annotation=row_ann, \n",
    "                       # top_annotation=col_ann, \n",
    "                       row_split=rowAnnDF.disease_cat, row_split_order=diseaseCatOrd,\n",
    "                       col_split=rowAnnDF.disease_cat, col_split_order=diseaseCatOrd,\n",
    "                       show_rownames=True,show_colnames=True, xlabel = 'Real\\nconditions', ylabel = 'True\\nconditions',\n",
    "                       plot=True, fmt=None,\n",
    "                       row_cluster=False, col_cluster=False, standard_scale = None,\n",
    "                       row_dendrogram=False,col_dendrogram=False, verbose=False,\n",
    "                       cmap='coolwarm', rasterized=False, row_split_gap=1, col_split_gap=1, legend=True, label = 'Proportion\\n(col norm)', legend_vpad=5,\n",
    "                       vmax = 1, vmin = 0)  \n",
    "\n",
    "plt.savefig(here(\"03_downstream_analysis/08_gene_importance/COMBAT_focus_analysis/figures/overallConfusionMatrix.svg\"),\n",
    "dpi=300,\n",
    "bbox_inches='tight',\n",
    "pad_inches=0.1\n",
    ")"
   ]
  },
  {
   "cell_type": "code",
   "execution_count": 33,
   "id": "7ca688a7-0cb0-4b00-85fa-44b706ed92b5",
   "metadata": {
    "execution": {
     "iopub.execute_input": "2025-06-03T14:32:36.651381Z",
     "iopub.status.busy": "2025-06-03T14:32:36.651154Z",
     "iopub.status.idle": "2025-06-03T14:32:36.673529Z",
     "shell.execute_reply": "2025-06-03T14:32:36.673158Z",
     "shell.execute_reply.started": "2025-06-03T14:32:36.651367Z"
    },
    "papermill": {
     "duration": 0.044097,
     "end_time": "2024-07-11T11:24:03.777207",
     "exception": false,
     "start_time": "2024-07-11T11:24:03.733110",
     "status": "completed"
    },
    "tags": []
   },
   "outputs": [
    {
     "data": {
      "text/plain": [
       "['B',\n",
       " 'DC',\n",
       " 'ILC',\n",
       " 'Mono',\n",
       " 'Plasma',\n",
       " 'T_CD4_Naive',\n",
       " 'T_CD4_NonNaive',\n",
       " 'T_CD8_Naive',\n",
       " 'T_CD8_NonNaive',\n",
       " 'UTC',\n",
       " 'pDC']"
      ]
     },
     "execution_count": 33,
     "metadata": {},
     "output_type": "execute_result"
    }
   ],
   "source": [
    "cellTypeList = list(np.sort(predictionDF.Level1.unique()))\n",
    "cellTypeList"
   ]
  },
  {
   "cell_type": "markdown",
   "id": "a416645a-082f-4e94-bfe4-76bc63296f82",
   "metadata": {
    "papermill": {
     "duration": 0.008702,
     "end_time": "2024-07-11T11:24:03.794592",
     "exception": false,
     "start_time": "2024-07-11T11:24:03.785890",
     "status": "completed"
    },
    "tags": []
   },
   "source": [
    "### Generating the heatmaps"
   ]
  },
  {
   "cell_type": "code",
   "execution_count": 49,
   "id": "1dcd307f-13bd-4cf4-b349-4b1990e58047",
   "metadata": {
    "execution": {
     "iopub.execute_input": "2025-06-03T14:50:09.902918Z",
     "iopub.status.busy": "2025-06-03T14:50:09.902550Z",
     "iopub.status.idle": "2025-06-03T14:50:43.438146Z",
     "shell.execute_reply": "2025-06-03T14:50:43.437796Z",
     "shell.execute_reply.started": "2025-06-03T14:50:09.902881Z"
    },
    "papermill": {
     "duration": 472.629899,
     "end_time": "2024-07-11T11:31:56.433097",
     "exception": false,
     "start_time": "2024-07-11T11:24:03.803198",
     "status": "completed"
    },
    "tags": []
   },
   "outputs": [
    {
     "name": "stdout",
     "output_type": "stream",
     "text": [
      "B\n",
      "DC\n",
      "ILC\n",
      "Mono\n",
      "Plasma\n",
      "T_CD4_Naive\n",
      "T_CD4_NonNaive\n",
      "T_CD8_Naive\n",
      "T_CD8_NonNaive\n",
      "UTC\n",
      "pDC\n",
      "Plotting ...\n",
      "Estimated legend width: 7.5 mm\n"
     ]
    },
    {
     "data": {
      "image/png": "[encoded data removed]",
      "text/plain": [
       "<Figure size 1500x500 with 168 Axes>"
      ]
     },
     "metadata": {},
     "output_type": "display_data"
    }
   ],
   "source": [
    "nCol = 7 #max(np.ceil((len(cellTypeList)+1) / 2).astype(int),1)\n",
    "nRow = len(cellTypeList) // nCol + (len(cellTypeList) % nCol > 0)\n",
    "\n",
    "mpl.rcParams['svg.fonttype'] = 'none'\n",
    "plt.rcParams['font.size'] = '16'\n",
    "\n",
    "wholeCM = list()\n",
    "wholeCT = list()\n",
    "confusionMatrixXct = dict()\n",
    "for r in range(nRow):\n",
    "    rowCM = list()\n",
    "    rowCT = list()\n",
    "    for c in range(nCol):\n",
    "\n",
    "        idx = ((nCol*r) + c)\n",
    "\n",
    "        if idx >= len(cellTypeList):\n",
    "            continue\n",
    "        \n",
    "        ct_i = cellTypeList[idx]\n",
    "\n",
    "        print(ct_i)\n",
    "        \n",
    "        idxCellType = predictionDF.Level1==ct_i\n",
    "        confusionMatrix_i = getConfusionMatrix(predTestDF= predictionDF.loc[idxCellType,:],  predCol = 'disease_pred', gtCol = 'disease')\n",
    "        confusionMatrix_i.fillna(0, inplace=True)\n",
    "        confusionMatrix_i_ord = reorder_ConfMatrix(mask_entries(confusionMatrix_i, lowerThan = -1), elementList=elementList)\n",
    "        \n",
    "        totCell = np.sum(idxCellType)\n",
    "\n",
    "        ################# Annotations\n",
    "\n",
    "        ################# \n",
    "\n",
    "        showRownames = False\n",
    "        if (c == (nCol-1)) | (((nCol*r) + c+1) >= len(cellTypeList)):\n",
    "            showRownames = True\n",
    "\n",
    "        showColnames = False\n",
    "        if (r == (nRow-1)) | (((nCol*(r+1)) + c) >= len(cellTypeList)):\n",
    "            showColnames = True\n",
    "\n",
    "        leftAnnotation = None\n",
    "        if (c == 0):\n",
    "            leftAnnotation = row_ann\n",
    "\n",
    "        confusionMatrixXct[ct_i] = confusionMatrix_i_ord\n",
    "        cm_i = ClusterMapPlotter(data=confusionMatrix_i_ord, \n",
    "                                 # left_annotation=leftAnnotation, \n",
    "                                 # top_annotation=col_ann, \n",
    "                                 row_split=rowAnnDF.disease_cat, row_split_order=diseaseCatOrd,\n",
    "                                 col_split=rowAnnDF.disease_cat, col_split_order=diseaseCatOrd,\n",
    "                                 show_rownames=showRownames,show_colnames=showColnames, \n",
    "                                 plot=False, fmt=None,\n",
    "                                 row_cluster=False, col_cluster=False, standard_scale = None,\n",
    "                                 row_dendrogram=False,col_dendrogram=False, verbose=False, cmap='coolwarm', rasterized=False, row_split_gap=1, col_split_gap=1,\n",
    "                                 legend=True, label = 'Proportion\\n(col norm)',legend_anchor='ax_heatmap',legend_vpad=5,\n",
    "                                 vmax = 1, vmin = 0)            \n",
    "\n",
    "        rowCM.append(cm_i)\n",
    "        rowCT.append('{}\\n({} cells)'.format(ct_i, totCell))\n",
    "    wholeCM.append(rowCM)\n",
    "    wholeCT.append(rowCT)\n",
    "            \n",
    "\n",
    "print('Plotting ...')\n",
    "\n",
    "mm2inch = 1 / 25.4\n",
    "\n",
    "row_gap = 16\n",
    "col_gap = 12\n",
    "\n",
    "nR = len(wholeCM)\n",
    "nC = len(wholeCM[0])\n",
    "\n",
    "plt.figure(figsize=(15,5))\n",
    "\n",
    "ax = plt.gca()\n",
    "\n",
    "wspace = mm2inch * ax.figure.dpi / (ax.get_window_extent().width / nC)\n",
    "hspace = row_gap * mm2inch * ax.figure.dpi / (ax.get_window_extent().height / nR)\n",
    "\n",
    "\n",
    "gs = ax.figure.add_gridspec(\n",
    "    nR,\n",
    "    nC,\n",
    "    width_ratios=[1 for i in range(nC)],\n",
    "    height_ratios=[1 for i in range(nR)],\n",
    "    wspace=wspace,\n",
    "    hspace=hspace,\n",
    ")\n",
    "\n",
    "for r in range(nR):\n",
    "    for c in range(nC):\n",
    "\n",
    "        idx = ((nCol*r) + c)\n",
    "        \n",
    "        if idx >= len(cellTypeList):\n",
    "            continue\n",
    "        \n",
    "        ax1 = ax.figure.add_subplot(gs[r,c], sharex=None, sharey=None)\n",
    "        wholeCM[r][c].plot(ax =ax1, subplot_spec=gs[r,c])\n",
    "        wholeCM[r][c].ax.set_title(wholeCT[r][c])\n",
    "\n",
    "        if (r==0) and (c==0):\n",
    "            label_max_width = ax.figure.get_window_extent().width * wholeCM[r][c].label_max_width / wholeCM[r][c].ax.figure.get_window_extent().width\n",
    "            legend_list = wholeCM[r][c].legend_list\n",
    "        \n",
    "        ax1.set_axis_off()\n",
    "        \n",
    "space = col_gap * mm2inch * ax.figure.dpi + label_max_width + 20\n",
    "plot_legend_list(legend_list, ax=ax, space=space, legend_side='right', gap=15, y0=0.8, legend_width=None)\n",
    "\n",
    "ax.set_ylabel('Predicted conditions')\n",
    "ax.set_xlabel('True conditions', labelpad = 35)\n",
    "\n",
    "ax.spines['top'].set_visible(False)\n",
    "ax.spines['right'].set_visible(False)\n",
    "ax.spines['bottom'].set_visible(False)\n",
    "ax.spines['left'].set_visible(False)\n",
    "\n",
    "ax.set_yticklabels([])\n",
    "ax.set_xticklabels([])\n",
    "ax.set_xticks([])\n",
    "ax.set_yticks([])\n",
    "\n",
    "plt.savefig(here(\"03_downstream_analysis/08_gene_importance/COMBAT_focus_analysis/figures/confusionMatrix_cellTypes.svg\"),\n",
    "dpi=300,\n",
    "bbox_inches='tight',\n",
    "pad_inches=0.1\n",
    ")"
   ]
  },
  {
   "cell_type": "code",
   "execution_count": null,
   "id": "b27e3879-8f43-4b53-8816-52d4e9f6bacc",
   "metadata": {
    "papermill": {
     "duration": 0.0165,
     "end_time": "2024-07-11T11:40:07.865744",
     "exception": false,
     "start_time": "2024-07-11T11:40:07.849244",
     "status": "completed"
    },
    "tags": []
   },
   "outputs": [],
   "source": []
  }
 ],
 "metadata": {
  "kernelspec": {
   "display_name": "Python 3 (ipykernel)",
   "language": "python",
   "name": "python3"
  },
  "language_info": {
   "codemirror_mode": {
    "name": "ipython",
    "version": 3
   },
   "file_extension": ".py",
   "mimetype": "text/x-python",
   "name": "python",
   "nbconvert_exporter": "python",
   "pygments_lexer": "ipython3",
   "version": "3.12.5"
  },
  "papermill": {
   "default_parameters": {},
   "duration": 982.550292,
   "end_time": "2024-07-11T11:40:10.469367",
   "environment_variables": {},
   "exception": null,
   "input_path": "03_plotting_confusion_matrices_xgboost_corrected.ipynb",
   "output_path": "03_plotting_confusion_matrices_xgboost_corrected.ipynb",
   "parameters": {},
   "start_time": "2024-07-11T11:23:47.919075",
   "version": "2.6.0"
  }
 },
 "nbformat": 4,
 "nbformat_minor": 5
}
