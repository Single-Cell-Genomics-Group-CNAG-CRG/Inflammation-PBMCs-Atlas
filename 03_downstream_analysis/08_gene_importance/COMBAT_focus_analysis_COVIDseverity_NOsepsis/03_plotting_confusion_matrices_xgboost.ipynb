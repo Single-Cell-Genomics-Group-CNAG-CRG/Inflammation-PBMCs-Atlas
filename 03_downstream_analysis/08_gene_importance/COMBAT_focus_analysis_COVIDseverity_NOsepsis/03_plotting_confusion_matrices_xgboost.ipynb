{
 "cells": [
  {
   "cell_type": "code",
   "execution_count": 4,
   "id": "02feb7c6-f368-4c4a-b52d-d0b88c1a9cb9",
   "metadata": {
    "execution": {
     "iopub.execute_input": "2025-06-03T15:32:59.816931Z",
     "iopub.status.busy": "2025-06-03T15:32:59.816509Z",
     "iopub.status.idle": "2025-06-03T15:32:59.834797Z",
     "shell.execute_reply": "2025-06-03T15:32:59.834483Z",
     "shell.execute_reply.started": "2025-06-03T15:32:59.816915Z"
    },
    "papermill": {
     "duration": 2.180264,
     "end_time": "2024-07-11T11:23:51.415510",
     "exception": false,
     "start_time": "2024-07-11T11:23:49.235246",
     "status": "completed"
    },
    "tags": []
   },
   "outputs": [],
   "source": [
    "import sys\n",
    "import os\n",
    "from glob import glob\n",
    "\n",
    "import warnings\n",
    "\n",
    "import matplotlib as mpl\n",
    "\n",
    "import re\n",
    "\n",
    "import seaborn as sns\n",
    "\n",
    "from pyprojroot.here import here\n",
    "\n",
    "import matplotlib.pyplot as plt\n",
    "plt.rcParams['axes.facecolor'] = '#FFFFFF'\n",
    "\n",
    "import pandas as pd\n",
    "import numpy as np\n",
    "\n",
    "from PyComplexHeatmap import *\n",
    "\n",
    "from sklearn.metrics import balanced_accuracy_score, f1_score\n",
    "\n",
    "# Setting some parameters\n",
    "warnings.filterwarnings(\"ignore\")\n",
    "sys.path.insert(1, str(here('bin')))\n",
    "\n",
    "from customPalette import diseases_palette, diseaseCategories, diseasesGroup_palette, COVID_severity_palette\n",
    "\n",
    "dpi_fig_save = 300"
   ]
  },
  {
   "cell_type": "code",
   "execution_count": 5,
   "id": "3e022d2a-b0ad-4aec-b0f3-a525559e7a1a",
   "metadata": {
    "execution": {
     "iopub.execute_input": "2025-06-03T15:33:00.106832Z",
     "iopub.status.busy": "2025-06-03T15:33:00.106508Z",
     "iopub.status.idle": "2025-06-03T15:33:00.350864Z",
     "shell.execute_reply": "2025-06-03T15:33:00.350463Z",
     "shell.execute_reply.started": "2025-06-03T15:33:00.106813Z"
    }
   },
   "outputs": [
    {
     "name": "stdout",
     "output_type": "stream",
     "text": [
      "/scratch_isilon/groups/singlecell/shared/projects/Inflammation-PBMCs-Atlas/03_downstream_analysis/08_gene_importance/COMBAT_focus_analysis_COVIDseverity_NOsepsis\n"
     ]
    }
   ],
   "source": [
    "!pwd"
   ]
  },
  {
   "cell_type": "code",
   "execution_count": 6,
   "id": "f07f9e43-c64c-4918-a643-033ac8d543cf",
   "metadata": {
    "execution": {
     "iopub.execute_input": "2025-06-03T15:33:00.906237Z",
     "iopub.status.busy": "2025-06-03T15:33:00.905956Z",
     "iopub.status.idle": "2025-06-03T15:33:00.909861Z",
     "shell.execute_reply": "2025-06-03T15:33:00.909535Z",
     "shell.execute_reply.started": "2025-06-03T15:33:00.906218Z"
    }
   },
   "outputs": [],
   "source": [
    "diseaseCategories = diseaseCategories | dict({'Flu':'infection', 'COVID_MILD':'infection', 'COVID_SEV':'infection', 'COVID_CRIT':'infection'})"
   ]
  },
  {
   "cell_type": "markdown",
   "id": "af2ae7ea-73b0-4aac-8885-678e9193f70e",
   "metadata": {
    "papermill": {
     "duration": 0.00697,
     "end_time": "2024-07-11T11:23:51.430011",
     "exception": false,
     "start_time": "2024-07-11T11:23:51.423041",
     "status": "completed"
    },
    "tags": []
   },
   "source": [
    "### Loading dataframes with labels"
   ]
  },
  {
   "cell_type": "code",
   "execution_count": 7,
   "id": "68f94c83-d262-4d1e-80b9-1ff9e7f82e9d",
   "metadata": {
    "execution": {
     "iopub.execute_input": "2025-06-03T15:33:02.153807Z",
     "iopub.status.busy": "2025-06-03T15:33:02.153484Z",
     "iopub.status.idle": "2025-06-03T15:33:02.166173Z",
     "shell.execute_reply": "2025-06-03T15:33:02.165866Z",
     "shell.execute_reply.started": "2025-06-03T15:33:02.153792Z"
    }
   },
   "outputs": [],
   "source": [
    "pred_file_path_list = glob(str(here('03_downstream_analysis/08_gene_importance/COMBAT_focus_analysis_COVIDseverity_NOsepsis/results/predictions/*_pred_test.zip')))"
   ]
  },
  {
   "cell_type": "code",
   "execution_count": 8,
   "id": "888684a7-149b-443b-a302-8683f3d4962c",
   "metadata": {
    "execution": {
     "iopub.execute_input": "2025-06-03T15:33:07.521208Z",
     "iopub.status.busy": "2025-06-03T15:33:07.520945Z",
     "iopub.status.idle": "2025-06-03T15:33:08.688445Z",
     "shell.execute_reply": "2025-06-03T15:33:08.688050Z",
     "shell.execute_reply.started": "2025-06-03T15:33:07.521192Z"
    }
   },
   "outputs": [],
   "source": [
    "predictionDFlist = []\n",
    "for pt in pred_file_path_list: \n",
    "    fn = os.path.basename(pt)\n",
    "    split_id = fn.split('_')[0]\n",
    "    ct = fn.split('_', maxsplit= 1)[1].replace('_pred_test.zip','')\n",
    "    df_i = pd.read_csv(pt, index_col=0)\n",
    "\n",
    "    df_i['Level1'] = ct\n",
    "    df_i['SPLIT_ID'] = split_id\n",
    "\n",
    "    predictionDFlist.append(df_i)\n",
    "\n",
    "predictionDF = pd.concat(predictionDFlist, axis=0)\n",
    "\n",
    "dis_cod_dict = predictionDF[['y_true','y_true_code']].drop_duplicates().set_index('y_true_code').to_dict()['y_true']\n",
    "\n",
    "predictionDF['disease'] = predictionDF.y_true_code.map(dis_cod_dict)\n",
    "predictionDF['disease_pred'] = predictionDF.y_pred.map(dis_cod_dict)\n",
    "predictionDF.drop(['y_true','y_true_code','y_pred'], axis=1,inplace=True)\n",
    "\n",
    "\n",
    "# predictionDF = predictionDF.rename({'y_true':'disease', 'y_pred':'disease_pred'}, axis=1)"
   ]
  },
  {
   "cell_type": "code",
   "execution_count": 9,
   "id": "0f3f8c41-c2de-42db-91f7-15ac1f93647d",
   "metadata": {
    "execution": {
     "iopub.execute_input": "2025-06-03T15:33:09.281737Z",
     "iopub.status.busy": "2025-06-03T15:33:09.281456Z",
     "iopub.status.idle": "2025-06-03T15:33:09.311696Z",
     "shell.execute_reply": "2025-06-03T15:33:09.311334Z",
     "shell.execute_reply.started": "2025-06-03T15:33:09.281722Z"
    },
    "papermill": {
     "duration": 0.021437,
     "end_time": "2024-07-11T11:23:51.638340",
     "exception": false,
     "start_time": "2024-07-11T11:23:51.616903",
     "status": "completed"
    },
    "tags": []
   },
   "outputs": [],
   "source": [
    "predictionDF['disease_cat'] = predictionDF.disease.map(diseaseCategories)"
   ]
  },
  {
   "cell_type": "markdown",
   "id": "f8f1e38a-dde9-40d9-9e78-c5e12dadf1e8",
   "metadata": {
    "papermill": {
     "duration": 0.006719,
     "end_time": "2024-07-11T11:23:51.680199",
     "exception": false,
     "start_time": "2024-07-11T11:23:51.673480",
     "status": "completed"
    },
    "tags": []
   },
   "source": [
    "**Overall BAS and Weighted F1:**"
   ]
  },
  {
   "cell_type": "code",
   "execution_count": 10,
   "id": "b549a08d-3209-42d0-978d-2cb92fc1fa89",
   "metadata": {
    "execution": {
     "iopub.execute_input": "2025-06-03T15:33:09.618877Z",
     "iopub.status.busy": "2025-06-03T15:33:09.618609Z",
     "iopub.status.idle": "2025-06-03T15:33:12.888274Z",
     "shell.execute_reply": "2025-06-03T15:33:12.887888Z",
     "shell.execute_reply.started": "2025-06-03T15:33:09.618842Z"
    },
    "papermill": {
     "duration": 2.160874,
     "end_time": "2024-07-11T11:23:53.847845",
     "exception": false,
     "start_time": "2024-07-11T11:23:51.686971",
     "status": "completed"
    },
    "tags": []
   },
   "outputs": [
    {
     "name": "stdout",
     "output_type": "stream",
     "text": [
      "BAS COMBAT data: 0.45353640606913725\n",
      "W_F1 COMBAT data: 0.5265395608029595\n"
     ]
    }
   ],
   "source": [
    "print(f\"BAS COMBAT data: {balanced_accuracy_score(y_true = predictionDF.disease, y_pred=predictionDF.disease_pred)}\")\n",
    "print(f\"W_F1 COMBAT data: {f1_score(y_true = predictionDF.disease, y_pred=predictionDF.disease_pred, average='weighted')}\")"
   ]
  },
  {
   "cell_type": "markdown",
   "id": "9ec0ac95-a33d-40f8-a9bd-d3a1b4e1fb1a",
   "metadata": {},
   "source": [
    "**BAS for each cell-type**"
   ]
  },
  {
   "cell_type": "code",
   "execution_count": 11,
   "id": "a8921b56-0987-4ed0-954b-7453ac0403a6",
   "metadata": {
    "execution": {
     "iopub.execute_input": "2025-06-03T15:33:12.889338Z",
     "iopub.status.busy": "2025-06-03T15:33:12.889072Z",
     "iopub.status.idle": "2025-06-03T15:33:13.876956Z",
     "shell.execute_reply": "2025-06-03T15:33:13.876600Z",
     "shell.execute_reply.started": "2025-06-03T15:33:12.889322Z"
    }
   },
   "outputs": [
    {
     "data": {
      "text/plain": [
       "Level1\n",
       "B                 0.389459\n",
       "DC                0.378812\n",
       "ILC               0.454891\n",
       "Mono              0.478688\n",
       "Plasma            0.190891\n",
       "T_CD4_Naive       0.489027\n",
       "T_CD4_NonNaive    0.424968\n",
       "T_CD8_Naive       0.455327\n",
       "T_CD8_NonNaive    0.396032\n",
       "UTC               0.390599\n",
       "pDC               0.374334\n",
       "dtype: float64"
      ]
     },
     "execution_count": 11,
     "metadata": {},
     "output_type": "execute_result"
    }
   ],
   "source": [
    "predictionDF.groupby(['Level1'])[['disease','disease_pred']].apply(lambda x: (balanced_accuracy_score(y_true = x.disease.astype(str),\n",
    "                                                                                                       y_pred = x.disease_pred.astype(str))))"
   ]
  },
  {
   "cell_type": "markdown",
   "id": "edc41aee-5270-4fb8-9261-2b2ddc45969f",
   "metadata": {},
   "source": [
    "**Weighted F1, for each cell-type**"
   ]
  },
  {
   "cell_type": "code",
   "execution_count": 12,
   "id": "90dba3ea-de71-425b-b300-285509a3a9df",
   "metadata": {
    "execution": {
     "iopub.execute_input": "2025-06-03T15:33:16.086030Z",
     "iopub.status.busy": "2025-06-03T15:33:16.085587Z",
     "iopub.status.idle": "2025-06-03T15:33:18.142722Z",
     "shell.execute_reply": "2025-06-03T15:33:18.142396Z",
     "shell.execute_reply.started": "2025-06-03T15:33:16.086013Z"
    }
   },
   "outputs": [
    {
     "data": {
      "text/plain": [
       "Level1\n",
       "B                 0.458765\n",
       "DC                0.548710\n",
       "ILC               0.586506\n",
       "Mono              0.515763\n",
       "Plasma            0.254606\n",
       "T_CD4_Naive       0.591019\n",
       "T_CD4_NonNaive    0.487256\n",
       "T_CD8_Naive       0.583050\n",
       "T_CD8_NonNaive    0.505718\n",
       "UTC               0.634590\n",
       "pDC               0.543630\n",
       "dtype: float64"
      ]
     },
     "execution_count": 12,
     "metadata": {},
     "output_type": "execute_result"
    }
   ],
   "source": [
    "predictionDF.groupby(['Level1'])[['disease','disease_pred']].apply(lambda x: (f1_score(y_true = x.disease.astype(str),\n",
    "                                                                                   y_pred = x.disease_pred.astype(str),\n",
    "                                                                                   average='weighted')))"
   ]
  },
  {
   "cell_type": "markdown",
   "id": "9c7b563a-740e-4de8-a3e2-ea52bef661b4",
   "metadata": {
    "papermill": {
     "duration": 0.006997,
     "end_time": "2024-07-11T11:23:56.085461",
     "exception": false,
     "start_time": "2024-07-11T11:23:56.078464",
     "status": "completed"
    },
    "tags": []
   },
   "source": [
    "## Confusion matrix visualization"
   ]
  },
  {
   "cell_type": "markdown",
   "id": "9651f3b2-cbd5-4b58-9ea3-592a933b979b",
   "metadata": {
    "papermill": {
     "duration": 0.007074,
     "end_time": "2024-07-11T11:23:56.099360",
     "exception": false,
     "start_time": "2024-07-11T11:23:56.092286",
     "status": "completed"
    },
    "tags": []
   },
   "source": [
    "#### Functions"
   ]
  },
  {
   "cell_type": "code",
   "execution_count": 13,
   "id": "c14a2b09-2e75-4727-a50f-1c2e7f1c2d72",
   "metadata": {
    "execution": {
     "iopub.execute_input": "2025-06-03T15:33:20.361244Z",
     "iopub.status.busy": "2025-06-03T15:33:20.361045Z",
     "iopub.status.idle": "2025-06-03T15:33:20.364623Z",
     "shell.execute_reply": "2025-06-03T15:33:20.364324Z",
     "shell.execute_reply.started": "2025-06-03T15:33:20.361229Z"
    },
    "papermill": {
     "duration": 0.011784,
     "end_time": "2024-07-11T11:23:56.117974",
     "exception": false,
     "start_time": "2024-07-11T11:23:56.106190",
     "status": "completed"
    },
    "tags": []
   },
   "outputs": [],
   "source": [
    "# Computing the confusion matrix\n",
    "def getConfusionMatrix(predTestDF = None, predCol = 'y_pred', gtCol = 'y_test', normalize='columns'):\n",
    "\n",
    "    # normalize could be False, 'rows', or 'columns' (default).\n",
    "    \n",
    "    import pandas as pd\n",
    "\n",
    "    if normalize == False:\n",
    "        confusionMatrix = pd.crosstab(predTestDF[predCol], predTestDF[gtCol], dropna=False)\n",
    "    else:\n",
    "        confusionMatrix = pd.crosstab(predTestDF[predCol], predTestDF[gtCol], normalize=normalize, dropna=False)\n",
    "\n",
    "    if confusionMatrix.shape[0] < confusionMatrix.shape[1]:\n",
    "        for d in np.setdiff1d(confusionMatrix.columns.tolist(), confusionMatrix.index.tolist()):\n",
    "            confusionMatrix.loc[d,:] = 0\n",
    "    elif confusionMatrix.shape[0] > confusionMatrix.shape[1]:\n",
    "        for d in np.setdiff1d(confusionMatrix.index.tolist(),confusionMatrix.columns.tolist()):\n",
    "            confusionMatrix[d] = 0   \n",
    "\n",
    "    return(confusionMatrix)"
   ]
  },
  {
   "cell_type": "code",
   "execution_count": 14,
   "id": "a028a7cb-f3cc-4447-a3f1-40c35f99c730",
   "metadata": {
    "execution": {
     "iopub.execute_input": "2025-06-03T15:33:22.186358Z",
     "iopub.status.busy": "2025-06-03T15:33:22.186100Z",
     "iopub.status.idle": "2025-06-03T15:33:22.188865Z",
     "shell.execute_reply": "2025-06-03T15:33:22.188479Z",
     "shell.execute_reply.started": "2025-06-03T15:33:22.186342Z"
    },
    "papermill": {
     "duration": 0.010435,
     "end_time": "2024-07-11T11:23:56.135159",
     "exception": false,
     "start_time": "2024-07-11T11:23:56.124724",
     "status": "completed"
    },
    "tags": []
   },
   "outputs": [],
   "source": [
    "def reorder_ConfMatrix(confusionMatrix=None, elementList = None):\n",
    "\n",
    "    confusionMatrix = confusionMatrix.reindex(elementList, axis=0).reindex(elementList, axis=1)\n",
    "\n",
    "    return(confusionMatrix)"
   ]
  },
  {
   "cell_type": "code",
   "execution_count": 15,
   "id": "05087f82-d6e6-4407-87a6-bcbfea2baa26",
   "metadata": {
    "execution": {
     "iopub.execute_input": "2025-06-03T15:33:22.337790Z",
     "iopub.status.busy": "2025-06-03T15:33:22.337426Z",
     "iopub.status.idle": "2025-06-03T15:33:22.339900Z",
     "shell.execute_reply": "2025-06-03T15:33:22.339523Z",
     "shell.execute_reply.started": "2025-06-03T15:33:22.337773Z"
    },
    "papermill": {
     "duration": 0.010146,
     "end_time": "2024-07-11T11:23:56.153366",
     "exception": false,
     "start_time": "2024-07-11T11:23:56.143220",
     "status": "completed"
    },
    "tags": []
   },
   "outputs": [],
   "source": [
    "def mask_entries(confusionMatrix=None, lowerThan = 0, cmap='viridis'):\n",
    "    confusionMatrix_nan = confusionMatrix.copy()\n",
    "    confusionMatrix_nan[confusionMatrix_nan <= lowerThan] = np.nan\n",
    "    return(confusionMatrix_nan)\n",
    "    "
   ]
  },
  {
   "cell_type": "markdown",
   "id": "c4a5f94a-4c89-46c7-b4cb-32b754662116",
   "metadata": {
    "papermill": {
     "duration": 0.006804,
     "end_time": "2024-07-11T11:23:56.166963",
     "exception": false,
     "start_time": "2024-07-11T11:23:56.160159",
     "status": "completed"
    },
    "tags": []
   },
   "source": [
    "#### Changing the PyComplexHeatmap code\n",
    "\n",
    "https://dingwb.github.io/PyComplexHeatmap/build/html/notebooks/composite_heatmaps.html#Composite-two-heatmaps-horizontally-for-mouse-DNA-methylation-array-dataset\n",
    "\n",
    "The following change is required to avoid reordering columns and rows. So, disease in the same category are close to each others"
   ]
  },
  {
   "cell_type": "code",
   "execution_count": 16,
   "id": "fb242d1c-d0df-4d12-82ee-30b57420f211",
   "metadata": {
    "execution": {
     "iopub.execute_input": "2025-06-03T15:33:24.267200Z",
     "iopub.status.busy": "2025-06-03T15:33:24.266954Z",
     "iopub.status.idle": "2025-06-03T15:33:24.283243Z",
     "shell.execute_reply": "2025-06-03T15:33:24.282812Z",
     "shell.execute_reply.started": "2025-06-03T15:33:24.267185Z"
    },
    "papermill": {
     "duration": 0.022979,
     "end_time": "2024-07-11T11:23:56.196773",
     "exception": false,
     "start_time": "2024-07-11T11:23:56.173794",
     "status": "completed"
    },
    "tags": []
   },
   "outputs": [],
   "source": [
    "def _reorder_rows(self):\n",
    "    self.row_split_dendrogram = False\n",
    "    if self.verbose >= 1:\n",
    "        print(\"Reordering rows..\")\n",
    "    if self.row_split is None and self.row_cluster:\n",
    "        self.calculate_row_dendrograms(\n",
    "            self.data2d\n",
    "        )  # xind=self.dendrogram_row.reordered_ind\n",
    "        self.row_order = [\n",
    "            self.dendrogram_row.dendrogram[\"ivl\"]\n",
    "        ]  # self.data2d.iloc[:, xind].columns.tolist()\n",
    "        return None\n",
    "    elif isinstance(self.row_split, int) and self.row_cluster:\n",
    "        self.calculate_row_dendrograms(self.data2d)\n",
    "        self.row_clusters = (\n",
    "            pd.Series(\n",
    "                hierarchy.fcluster(\n",
    "                    self.dendrogram_row.linkage,\n",
    "                    t=self.row_split,\n",
    "                    criterion=\"maxclust\",\n",
    "                ),\n",
    "                index=self.data2d.index.tolist(),\n",
    "            )\n",
    "            .to_frame(name=\"cluster\")\n",
    "            .groupby(\"cluster\")\n",
    "            .apply(lambda x: x.index.tolist())\n",
    "            .to_dict()\n",
    "        )\n",
    "        # index=self.dendrogram_row.dendrogram['ivl']).to_frame(name='cluster')\n",
    "\n",
    "    elif isinstance(self.row_split, (pd.Series, pd.DataFrame)):\n",
    "        if isinstance(self.row_split, pd.Series):\n",
    "            self.row_split = self.row_split.to_frame(name=self.row_split.name)\n",
    "            \n",
    "        cols = self.row_split.columns.tolist()\n",
    "        row_clusters = self.row_split.groupby(cols, sort=False).apply(\n",
    "            lambda x: x.index.tolist()\n",
    "        )\n",
    "\n",
    "        if self.row_split_order is None:\n",
    "            self.row_split_order = row_clusters.index.tolist()\n",
    "        elif self.row_split_order == 'cluster_between_groups':\n",
    "            mat=pd.concat([\n",
    "                self.data2d.loc[rows].mean() for rows in row_clusters.tolist()],\n",
    "                          axis=1).T #columns are original columns\n",
    "            mat.index=row_clusters.index.tolist()\n",
    "            sizes=row_clusters.apply(lambda x:len(x)).tolist()\n",
    "            self.calculate_row_dendrograms(mat,sizes=sizes)\n",
    "            self.row_split_order = self.dendrogram_row.dendrogram[\"ivl\"]\n",
    "            self.row_split_dendrogram=self.dendrogram_row\n",
    "            \n",
    "        self.row_clusters = row_clusters.loc[self.row_split_order].to_dict()\n",
    "        \n",
    "    elif not self.row_cluster:\n",
    "        self.row_order = [self.data2d.index.tolist()]\n",
    "        return None\n",
    "    else:\n",
    "        raise TypeError(\"row_split must be integar or dataframe or series\")\n",
    "\n",
    "    self.row_order = []\n",
    "    self.dendrogram_rows = []\n",
    "    for i, cluster in enumerate(self.row_clusters):\n",
    "        rows = self.row_clusters[cluster]\n",
    "        if len(rows) <= 1:\n",
    "            self.row_order.append(rows)\n",
    "            self.dendrogram_rows.append(None)\n",
    "            continue\n",
    "        if self.row_cluster: #cluster within groups\n",
    "            self.calculate_row_dendrograms(self.data2d.loc[rows])\n",
    "            self.dendrogram_rows.append(self.dendrogram_row)\n",
    "            self.row_order.append(self.dendrogram_row.dendrogram[\"ivl\"])\n",
    "        else:\n",
    "            self.row_order.append(rows)\n",
    "\n",
    "def _reorder_cols(self):\n",
    "    self.col_split_dendrogram=False\n",
    "    if self.verbose >= 1:\n",
    "        print(\"Reordering cols..\")\n",
    "    if self.col_split is None and self.col_cluster:\n",
    "        self.calculate_col_dendrograms(self.data2d)\n",
    "        self.col_order = [\n",
    "            self.dendrogram_col.dendrogram[\"ivl\"]\n",
    "        ]  # self.data2d.iloc[:, xind].columns.tolist()\n",
    "        return None\n",
    "    elif isinstance(self.col_split, int) and self.col_cluster:\n",
    "        self.calculate_col_dendrograms(self.data2d)\n",
    "        self.col_clusters = (\n",
    "            pd.Series(\n",
    "                hierarchy.fcluster(\n",
    "                    self.dendrogram_col.linkage,\n",
    "                    t=self.col_split,\n",
    "                    criterion=\"maxclust\",\n",
    "                ),\n",
    "                index=self.data2d.columns.tolist(),\n",
    "            )\n",
    "            .to_frame(name=\"cluster\")\n",
    "            .groupby(\"cluster\")\n",
    "            .apply(lambda x: x.index.tolist())\n",
    "            .to_dict()\n",
    "        )\n",
    "        # index=self.dendrogram_col.dendrogram['ivl']).to_frame(name='cluster')\n",
    "\n",
    "    elif isinstance(self.col_split, (pd.Series, pd.DataFrame)):\n",
    "        if isinstance(self.col_split, pd.Series):\n",
    "            self.col_split = self.col_split.to_frame(name=self.col_split.name)\n",
    "        cols = self.col_split.columns.tolist()\n",
    "        col_clusters = self.col_split.groupby(cols, sort=False).apply(\n",
    "            lambda x: x.index.tolist()\n",
    "        )\n",
    "        if self.col_split_order is None:\n",
    "            self.col_split_order = col_clusters.index.tolist()\n",
    "        elif self.col_split_order == 'cluster_between_groups':\n",
    "            mat = pd.concat([\n",
    "                self.data2d.loc[:,cols].mean(axis=1) for cols in col_clusters.tolist()],\n",
    "                axis=1)  # index are original rows labels\n",
    "            mat.columns = col_clusters.index.tolist()\n",
    "            sizes = col_clusters.apply(lambda x: len(x)).tolist()\n",
    "            self.calculate_col_dendrograms(mat, sizes=sizes)\n",
    "            self.col_split_order = self.dendrogram_col.dendrogram[\"ivl\"]\n",
    "            self.col_split_dendrogram = self.dendrogram_col\n",
    "        self.col_clusters = col_clusters.loc[self.col_split_order].to_dict()\n",
    "    elif not self.col_cluster:\n",
    "        self.col_order = [self.data2d.columns.tolist()]\n",
    "        return None\n",
    "    else:\n",
    "        raise TypeError(\"row_split must be integar or dataframe or series\")\n",
    "\n",
    "    self.col_order = []\n",
    "    self.dendrogram_cols = []\n",
    "    for i, cluster in enumerate(self.col_clusters):\n",
    "        cols = self.col_clusters[cluster]\n",
    "        if len(cols) <= 1:\n",
    "            self.col_order.append(cols)\n",
    "            self.dendrogram_cols.append(None)\n",
    "            continue\n",
    "        if self.col_cluster:\n",
    "            self.calculate_col_dendrograms(self.data2d.loc[:, cols])\n",
    "            self.dendrogram_cols.append(self.dendrogram_col)\n",
    "            self.col_order.append(self.dendrogram_col.dendrogram[\"ivl\"])\n",
    "        else:\n",
    "            self.col_order.append(cols)\n",
    "\n",
    "def plot_matrix(self, row_order, col_order):\n",
    "    col_order=row_order.copy()\n",
    "    if self.verbose >= 1:\n",
    "        print(\"Plotting matrix..\")\n",
    "    nrows = len(row_order)\n",
    "    ncols = len(col_order)\n",
    "    self.wspace = (\n",
    "        self.col_split_gap\n",
    "        * mm2inch\n",
    "        * self.ax.figure.dpi\n",
    "        / (self.ax_heatmap.get_window_extent().width / ncols)\n",
    "    )  # 1mm=mm2inch inch\n",
    "    self.hspace = (\n",
    "        self.row_split_gap\n",
    "        * mm2inch\n",
    "        * self.ax.figure.dpi\n",
    "        / (self.ax_heatmap.get_window_extent().height / nrows)\n",
    "    )  # height\n",
    "    self.heatmap_gs = matplotlib.gridspec.GridSpecFromSubplotSpec(\n",
    "        nrows,\n",
    "        ncols,\n",
    "        hspace=self.hspace,\n",
    "        wspace=self.wspace,\n",
    "        subplot_spec=self.gs[1, 1],\n",
    "        height_ratios=[len(rows) for rows in row_order],\n",
    "        width_ratios=[len(cols) for cols in col_order],\n",
    "    )\n",
    "\n",
    "    annot = self.kwargs.pop(\"annot\", None)\n",
    "    if annot is None or annot is False:\n",
    "        pass\n",
    "    else:\n",
    "        if isinstance(annot, bool):\n",
    "            annot_data = self.data2d\n",
    "        else:\n",
    "            annot_data = annot.copy()\n",
    "            if annot_data.shape != self.data2d.shape:\n",
    "                err = \"`data` and `annot` must have same shape.\"\n",
    "                raise ValueError(err)\n",
    "\n",
    "    self.heatmap_axes = np.empty(shape=(nrows, ncols), dtype=object)\n",
    "    # if nrows > 1 or ncols > 1:\n",
    "    self.ax_heatmap.set_axis_off()\n",
    "    for i, rows in enumerate(row_order):\n",
    "        for j, cols in enumerate(col_order):\n",
    "            # print(i,j)\n",
    "            ax1 = self.ax_heatmap.figure.add_subplot(\n",
    "                self.heatmap_gs[i, j],\n",
    "                sharex=self.heatmap_axes[0, j],\n",
    "                sharey=self.heatmap_axes[i, 0],\n",
    "            )\n",
    "            ax1.set_xlim([0, len(rows)])\n",
    "            ax1.set_ylim([0, len(cols)])\n",
    "            annot1 = None if annot is None else annot_data.loc[rows, cols]\n",
    "            # heatmap(self.data2d.loc[rows, cols], ax=ax1, cbar=False, cmap=self.cmap,\n",
    "            #         cbar_kws=None, mask=self.mask.loc[rows, cols], rasterized=self.rasterized,\n",
    "            #         xticklabels='auto', yticklabels='auto', annot=annot1, **self.kwargs)\n",
    "            plot_heatmap(\n",
    "                self.data2d.loc[rows, cols],\n",
    "                ax=ax1,\n",
    "                cmap=self.cmap,\n",
    "                mask=self.mask.loc[rows, cols],\n",
    "                rasterized=self.rasterized,\n",
    "                xticklabels=\"auto\",\n",
    "                yticklabels=\"auto\",\n",
    "                annot=annot1,\n",
    "                **self.kwargs\n",
    "            )\n",
    "            self.heatmap_axes[i, j] = ax1\n",
    "            ax1.yaxis.label.set_visible(False)\n",
    "            ax1.xaxis.label.set_visible(False)\n",
    "            ax1.tick_params(\n",
    "                left=False,\n",
    "                right=False,\n",
    "                labelleft=False,\n",
    "                labelright=False,\n",
    "                top=False,\n",
    "                bottom=False,\n",
    "                labeltop=False,\n",
    "                labelbottom=False,\n",
    "            )\n"
   ]
  },
  {
   "cell_type": "code",
   "execution_count": 17,
   "id": "489a6943-b3f5-4018-ae87-a52cf10e659e",
   "metadata": {
    "execution": {
     "iopub.execute_input": "2025-06-03T15:33:25.978381Z",
     "iopub.status.busy": "2025-06-03T15:33:25.978013Z",
     "iopub.status.idle": "2025-06-03T15:33:25.980433Z",
     "shell.execute_reply": "2025-06-03T15:33:25.980084Z",
     "shell.execute_reply.started": "2025-06-03T15:33:25.978366Z"
    },
    "papermill": {
     "duration": 0.010242,
     "end_time": "2024-07-11T11:23:56.213861",
     "exception": false,
     "start_time": "2024-07-11T11:23:56.203619",
     "status": "completed"
    },
    "tags": []
   },
   "outputs": [],
   "source": [
    "ClusterMapPlotter._reorder_rows = _reorder_rows\n",
    "ClusterMapPlotter._reorder_cols = _reorder_cols\n",
    "# ClusterMapPlotter.plot_matrix = plot_matrix"
   ]
  },
  {
   "cell_type": "markdown",
   "id": "e354268b-9b98-4c64-a6de-0f3b6c9b519b",
   "metadata": {
    "papermill": {
     "duration": 0.0067,
     "end_time": "2024-07-11T11:23:56.227345",
     "exception": false,
     "start_time": "2024-07-11T11:23:56.220645",
     "status": "completed"
    },
    "tags": []
   },
   "source": [
    "## Overall confusion matrix\n",
    "Heatmap with accuracy score considering all cell-types and all datasets"
   ]
  },
  {
   "cell_type": "code",
   "execution_count": 18,
   "id": "0c41242b-f342-4aad-9c78-fea069e1ed4f",
   "metadata": {
    "execution": {
     "iopub.execute_input": "2025-06-03T15:33:27.841299Z",
     "iopub.status.busy": "2025-06-03T15:33:27.841037Z",
     "iopub.status.idle": "2025-06-03T15:33:27.899014Z",
     "shell.execute_reply": "2025-06-03T15:33:27.898612Z",
     "shell.execute_reply.started": "2025-06-03T15:33:27.841283Z"
    },
    "papermill": {
     "duration": 0.115719,
     "end_time": "2024-07-11T11:23:56.349877",
     "exception": false,
     "start_time": "2024-07-11T11:23:56.234158",
     "status": "completed"
    },
    "tags": []
   },
   "outputs": [],
   "source": [
    "elementList = ['healthy', 'COVID_MILD', 'COVID_SEV', 'COVID_CRIT', 'Flu']\n",
    "diseaseCatOrd =  ['healthy'] + [d for d in predictionDF[['disease','disease_cat']].drop_duplicates().sort_values(['disease_cat','disease']).disease_cat.tolist() if d != 'healthy']"
   ]
  },
  {
   "cell_type": "code",
   "execution_count": 19,
   "id": "4847d18f-6122-4c76-8597-a7eb31812835",
   "metadata": {
    "execution": {
     "iopub.execute_input": "2025-06-03T15:33:28.162311Z",
     "iopub.status.busy": "2025-06-03T15:33:28.162167Z",
     "iopub.status.idle": "2025-06-03T15:33:28.165189Z",
     "shell.execute_reply": "2025-06-03T15:33:28.164843Z",
     "shell.execute_reply.started": "2025-06-03T15:33:28.162297Z"
    }
   },
   "outputs": [
    {
     "data": {
      "text/plain": [
       "['healthy', 'COVID_MILD', 'COVID_SEV', 'COVID_CRIT', 'Flu']"
      ]
     },
     "execution_count": 19,
     "metadata": {},
     "output_type": "execute_result"
    }
   ],
   "source": [
    "elementList"
   ]
  },
  {
   "cell_type": "code",
   "execution_count": 20,
   "id": "b268d677-7744-4198-92ed-015dd6d58aef",
   "metadata": {
    "execution": {
     "iopub.execute_input": "2025-06-03T15:33:29.913636Z",
     "iopub.status.busy": "2025-06-03T15:33:29.913270Z",
     "iopub.status.idle": "2025-06-03T15:33:29.967751Z",
     "shell.execute_reply": "2025-06-03T15:33:29.967363Z",
     "shell.execute_reply.started": "2025-06-03T15:33:29.913620Z"
    },
    "papermill": {
     "duration": 0.061843,
     "end_time": "2024-07-11T11:23:56.418883",
     "exception": false,
     "start_time": "2024-07-11T11:23:56.357040",
     "status": "completed"
    },
    "tags": []
   },
   "outputs": [],
   "source": [
    "rowAnnDF = predictionDF[['disease','disease_cat']].drop_duplicates().reset_index().set_index('disease').loc[elementList,:]\n",
    "\n",
    "row_ann = HeatmapAnnotation(disease_group=anno_simple(rowAnnDF.disease_cat,colors=diseasesGroup_palette,\n",
    "                                                      rasterized=True, legend_kws={'color_text':False, 'labelcolor':'black'}),#, legend_kws  = {'title': 'Disease\\ngroups'}), \n",
    "                            axis=0,verbose=0, label_kws={'text':None}, plot=False, legend=True)"
   ]
  },
  {
   "cell_type": "code",
   "execution_count": 21,
   "id": "f589ffaa-ca8d-4301-9cd0-5dcf201a4fd9",
   "metadata": {
    "execution": {
     "iopub.execute_input": "2025-06-03T15:33:30.083251Z",
     "iopub.status.busy": "2025-06-03T15:33:30.082973Z",
     "iopub.status.idle": "2025-06-03T15:33:30.098895Z",
     "shell.execute_reply": "2025-06-03T15:33:30.098555Z",
     "shell.execute_reply.started": "2025-06-03T15:33:30.083236Z"
    }
   },
   "outputs": [
    {
     "data": {
      "text/html": [
       "<div>\n",
       "<style scoped>\n",
       "    .dataframe tbody tr th:only-of-type {\n",
       "        vertical-align: middle;\n",
       "    }\n",
       "\n",
       "    .dataframe tbody tr th {\n",
       "        vertical-align: top;\n",
       "    }\n",
       "\n",
       "    .dataframe thead th {\n",
       "        text-align: right;\n",
       "    }\n",
       "</style>\n",
       "<table border=\"1\" class=\"dataframe\">\n",
       "  <thead>\n",
       "    <tr style=\"text-align: right;\">\n",
       "      <th></th>\n",
       "      <th>index</th>\n",
       "      <th>disease_cat</th>\n",
       "    </tr>\n",
       "    <tr>\n",
       "      <th>disease</th>\n",
       "      <th></th>\n",
       "      <th></th>\n",
       "    </tr>\n",
       "  </thead>\n",
       "  <tbody>\n",
       "    <tr>\n",
       "      <th>healthy</th>\n",
       "      <td>0</td>\n",
       "      <td>healthy</td>\n",
       "    </tr>\n",
       "    <tr>\n",
       "      <th>COVID_MILD</th>\n",
       "      <td>2</td>\n",
       "      <td>infection</td>\n",
       "    </tr>\n",
       "    <tr>\n",
       "      <th>COVID_SEV</th>\n",
       "      <td>8</td>\n",
       "      <td>infection</td>\n",
       "    </tr>\n",
       "    <tr>\n",
       "      <th>COVID_CRIT</th>\n",
       "      <td>1583</td>\n",
       "      <td>infection</td>\n",
       "    </tr>\n",
       "    <tr>\n",
       "      <th>Flu</th>\n",
       "      <td>49</td>\n",
       "      <td>infection</td>\n",
       "    </tr>\n",
       "  </tbody>\n",
       "</table>\n",
       "</div>"
      ],
      "text/plain": [
       "            index disease_cat\n",
       "disease                      \n",
       "healthy         0     healthy\n",
       "COVID_MILD      2   infection\n",
       "COVID_SEV       8   infection\n",
       "COVID_CRIT   1583   infection\n",
       "Flu            49   infection"
      ]
     },
     "execution_count": 21,
     "metadata": {},
     "output_type": "execute_result"
    }
   ],
   "source": [
    "rowAnnDF"
   ]
  },
  {
   "cell_type": "markdown",
   "id": "9d661b6b-f49d-4368-b99a-c2fa6dba1f2c",
   "metadata": {
    "papermill": {
     "duration": 0.006446,
     "end_time": "2024-07-11T11:23:56.432387",
     "exception": false,
     "start_time": "2024-07-11T11:23:56.425941",
     "status": "completed"
    },
    "tags": []
   },
   "source": [
    "### LOGscaled data"
   ]
  },
  {
   "cell_type": "code",
   "execution_count": 22,
   "id": "980fb303-f1ea-4232-8386-14ac83aa6e89",
   "metadata": {
    "execution": {
     "iopub.execute_input": "2025-06-03T15:33:31.874448Z",
     "iopub.status.busy": "2025-06-03T15:33:31.874188Z",
     "iopub.status.idle": "2025-06-03T15:33:31.972132Z",
     "shell.execute_reply": "2025-06-03T15:33:31.971745Z",
     "shell.execute_reply.started": "2025-06-03T15:33:31.874432Z"
    },
    "papermill": {
     "duration": 0.131051,
     "end_time": "2024-07-11T11:23:56.570462",
     "exception": false,
     "start_time": "2024-07-11T11:23:56.439411",
     "status": "completed"
    },
    "tags": []
   },
   "outputs": [],
   "source": [
    "Overall_confusionMatrix = getConfusionMatrix(predTestDF= predictionDF, predCol = 'disease_pred', gtCol = 'disease')\n",
    "Overall_confusionMatrix_ord = reorder_ConfMatrix(mask_entries(Overall_confusionMatrix, lowerThan = -1), elementList=elementList)"
   ]
  },
  {
   "cell_type": "code",
   "execution_count": 23,
   "id": "a480abc3-f271-4697-b12d-8f82e49a8980",
   "metadata": {
    "execution": {
     "iopub.execute_input": "2025-06-03T15:33:32.073723Z",
     "iopub.status.busy": "2025-06-03T15:33:32.073401Z",
     "iopub.status.idle": "2025-06-03T15:33:32.078429Z",
     "shell.execute_reply": "2025-06-03T15:33:32.078130Z",
     "shell.execute_reply.started": "2025-06-03T15:33:32.073708Z"
    }
   },
   "outputs": [
    {
     "data": {
      "text/plain": [
       "0.17846398365215416"
      ]
     },
     "execution_count": 23,
     "metadata": {},
     "output_type": "execute_result"
    }
   ],
   "source": [
    "Overall_confusionMatrix_ord.loc['Flu','Flu']"
   ]
  },
  {
   "cell_type": "code",
   "execution_count": 24,
   "id": "73088dbd-9ccc-4487-9864-bdcf9e915f99",
   "metadata": {
    "execution": {
     "iopub.execute_input": "2025-06-03T15:33:45.582423Z",
     "iopub.status.busy": "2025-06-03T15:33:45.582078Z",
     "iopub.status.idle": "2025-06-03T15:33:45.585906Z",
     "shell.execute_reply": "2025-06-03T15:33:45.585605Z",
     "shell.execute_reply.started": "2025-06-03T15:33:45.582407Z"
    }
   },
   "outputs": [
    {
     "data": {
      "text/plain": [
       "disease_pred\n",
       "healthy       0.158199\n",
       "COVID_MILD    0.164046\n",
       "COVID_SEV     0.357382\n",
       "COVID_CRIT    0.141908\n",
       "Flu           0.178464\n",
       "Name: Flu, dtype: float64"
      ]
     },
     "execution_count": 24,
     "metadata": {},
     "output_type": "execute_result"
    }
   ],
   "source": [
    "Overall_confusionMatrix_ord.loc[:,'Flu']"
   ]
  },
  {
   "cell_type": "code",
   "execution_count": 25,
   "id": "107e630d-ad69-4eb9-a897-88537d7079e8",
   "metadata": {
    "execution": {
     "iopub.execute_input": "2025-06-03T15:33:51.835396Z",
     "iopub.status.busy": "2025-06-03T15:33:51.835150Z",
     "iopub.status.idle": "2025-06-03T15:33:51.856568Z",
     "shell.execute_reply": "2025-06-03T15:33:51.856255Z",
     "shell.execute_reply.started": "2025-06-03T15:33:51.835380Z"
    }
   },
   "outputs": [
    {
     "data": {
      "text/plain": [
       "disease\n",
       "COVID_MILD    153743\n",
       "COVID_SEV     146042\n",
       "healthy        86334\n",
       "COVID_CRIT     46105\n",
       "Flu            17617\n",
       "Name: count, dtype: int64"
      ]
     },
     "execution_count": 25,
     "metadata": {},
     "output_type": "execute_result"
    }
   ],
   "source": [
    "predictionDF.disease.value_counts()"
   ]
  },
  {
   "cell_type": "code",
   "execution_count": 30,
   "id": "c1e9a84e-86f5-4313-8909-fd4b3a237e74",
   "metadata": {
    "execution": {
     "iopub.execute_input": "2025-04-07T14:59:12.327090Z",
     "iopub.status.busy": "2025-04-07T14:59:12.326493Z",
     "iopub.status.idle": "2025-04-07T14:59:12.351325Z",
     "shell.execute_reply": "2025-04-07T14:59:12.350933Z",
     "shell.execute_reply.started": "2025-04-07T14:59:12.327059Z"
    }
   },
   "outputs": [
    {
     "data": {
      "text/plain": [
       "disease\n",
       "COVID_MILD    0.341772\n",
       "COVID_SEV     0.324652\n",
       "healthy       0.191921\n",
       "COVID_CRIT    0.102492\n",
       "Flu           0.039163\n",
       "Name: proportion, dtype: float64"
      ]
     },
     "execution_count": 30,
     "metadata": {},
     "output_type": "execute_result"
    }
   ],
   "source": [
    "predictionDF.disease.value_counts(normalize=True)"
   ]
  },
  {
   "cell_type": "code",
   "execution_count": 29,
   "id": "4bf7330d-09da-426f-a0d6-875d5edcef77",
   "metadata": {
    "execution": {
     "iopub.execute_input": "2025-06-03T16:43:43.445744Z",
     "iopub.status.busy": "2025-06-03T16:43:43.445483Z",
     "iopub.status.idle": "2025-06-03T16:43:44.075736Z",
     "shell.execute_reply": "2025-06-03T16:43:44.075395Z",
     "shell.execute_reply.started": "2025-06-03T16:43:43.445727Z"
    },
    "papermill": {
     "duration": 7.110226,
     "end_time": "2024-07-11T11:24:03.723666",
     "exception": false,
     "start_time": "2024-07-11T11:23:56.613440",
     "status": "completed"
    },
    "tags": []
   },
   "outputs": [
    {
     "data": {
      "image/png": "[encoded data removed]",
      "text/plain": [
       "<Figure size 300x250 with 12 Axes>"
      ]
     },
     "metadata": {},
     "output_type": "display_data"
    }
   ],
   "source": [
    "mpl.rcParams['svg.fonttype'] = 'none'\n",
    "plt.rcParams['font.size'] = '20'\n",
    "\n",
    "plt.figure(figsize=(3,2.5))\n",
    "cm = ClusterMapPlotter(data=Overall_confusionMatrix_ord, \n",
    "                       # right_annotation=row_ann, \n",
    "                       # top_annotation=col_ann, \n",
    "                       row_split=rowAnnDF.disease_cat, row_split_order=diseaseCatOrd,\n",
    "                       col_split=rowAnnDF.disease_cat, col_split_order=diseaseCatOrd,\n",
    "                       show_rownames=True,show_colnames=True, xlabel = 'Real classes', ylabel = 'Predicted classes',\n",
    "                       plot=True, fmt=None,\n",
    "                       row_cluster=False, col_cluster=False, standard_scale = None,\n",
    "                       row_dendrogram=False,col_dendrogram=False, verbose=False,\n",
    "                       cmap='coolwarm', rasterized=False, row_split_gap=1, col_split_gap=1, legend=True, label = 'Proportion\\n(col norm)', legend_vpad=5,\n",
    "                       vmax = 1, vmin = 0)  \n",
    "\n",
    "plt.savefig(here(\"03_downstream_analysis/08_gene_importance/COMBAT_focus_analysis_COVIDseverity_NOsepsis/figures/overallConfusionMatrix.svg\"),\n",
    "dpi=300,\n",
    "bbox_inches='tight',\n",
    "pad_inches=0.1\n",
    ")"
   ]
  },
  {
   "cell_type": "code",
   "execution_count": 31,
   "id": "7ca688a7-0cb0-4b00-85fa-44b706ed92b5",
   "metadata": {
    "execution": {
     "iopub.execute_input": "2025-06-03T16:53:58.236046Z",
     "iopub.status.busy": "2025-06-03T16:53:58.235794Z",
     "iopub.status.idle": "2025-06-03T16:53:58.240201Z",
     "shell.execute_reply": "2025-06-03T16:53:58.239912Z",
     "shell.execute_reply.started": "2025-06-03T16:53:58.236030Z"
    },
    "papermill": {
     "duration": 0.044097,
     "end_time": "2024-07-11T11:24:03.777207",
     "exception": false,
     "start_time": "2024-07-11T11:24:03.733110",
     "status": "completed"
    },
    "tags": []
   },
   "outputs": [
    {
     "data": {
      "text/plain": [
       "['B',\n",
       " 'Plasma',\n",
       " 'pDC',\n",
       " 'DC',\n",
       " 'Mono',\n",
       " 'T_CD4_Naive',\n",
       " 'T_CD4_NonNaive',\n",
       " 'T_CD8_Naive',\n",
       " 'T_CD8_NonNaive',\n",
       " 'UTC',\n",
       " 'ILC']"
      ]
     },
     "execution_count": 31,
     "metadata": {},
     "output_type": "execute_result"
    }
   ],
   "source": [
    "cellTypeList = ['B','Plasma','pDC','DC','Mono','T_CD4_Naive','T_CD4_NonNaive','T_CD8_Naive','T_CD8_NonNaive','UTC','ILC']\n",
    "cellTypeList"
   ]
  },
  {
   "cell_type": "markdown",
   "id": "a416645a-082f-4e94-bfe4-76bc63296f82",
   "metadata": {
    "papermill": {
     "duration": 0.008702,
     "end_time": "2024-07-11T11:24:03.794592",
     "exception": false,
     "start_time": "2024-07-11T11:24:03.785890",
     "status": "completed"
    },
    "tags": []
   },
   "source": [
    "### Generating the heatmaps"
   ]
  },
  {
   "cell_type": "code",
   "execution_count": 36,
   "id": "1dcd307f-13bd-4cf4-b349-4b1990e58047",
   "metadata": {
    "execution": {
     "iopub.execute_input": "2025-06-03T16:58:35.445496Z",
     "iopub.status.busy": "2025-06-03T16:58:35.445261Z",
     "iopub.status.idle": "2025-06-03T16:58:49.188564Z",
     "shell.execute_reply": "2025-06-03T16:58:49.188190Z",
     "shell.execute_reply.started": "2025-06-03T16:58:35.445479Z"
    },
    "papermill": {
     "duration": 472.629899,
     "end_time": "2024-07-11T11:31:56.433097",
     "exception": false,
     "start_time": "2024-07-11T11:24:03.803198",
     "status": "completed"
    },
    "tags": []
   },
   "outputs": [
    {
     "name": "stdout",
     "output_type": "stream",
     "text": [
      "B\n",
      "Plasma\n",
      "pDC\n",
      "DC\n",
      "Mono\n",
      "T_CD4_Naive\n",
      "T_CD4_NonNaive\n",
      "T_CD8_Naive\n",
      "T_CD8_NonNaive\n",
      "UTC\n",
      "ILC\n",
      "Plotting ...\n",
      "Estimated legend width: 7.5 mm\n"
     ]
    },
    {
     "data": {
      "image/png": "[encoded data removed]",
      "text/plain": [
       "<Figure size 1500x450 with 113 Axes>"
      ]
     },
     "metadata": {},
     "output_type": "display_data"
    }
   ],
   "source": [
    "nCol = 7 #max(np.ceil((len(cellTypeList)+1) / 2).astype(int),1)\n",
    "nRow = len(cellTypeList) // nCol + (len(cellTypeList) % nCol > 0)\n",
    "\n",
    "mpl.rcParams['svg.fonttype'] = 'none'\n",
    "plt.rcParams['font.size'] = '16'\n",
    "\n",
    "wholeCM = list()\n",
    "wholeCT = list()\n",
    "confusionMatrixXct = dict()\n",
    "for r in range(nRow):\n",
    "    rowCM = list()\n",
    "    rowCT = list()\n",
    "    for c in range(nCol):\n",
    "\n",
    "        idx = ((nCol*r) + c)\n",
    "\n",
    "        if idx >= len(cellTypeList):\n",
    "            continue\n",
    "        \n",
    "        ct_i = cellTypeList[idx]\n",
    "\n",
    "        print(ct_i)\n",
    "        \n",
    "        idxCellType = predictionDF.Level1==ct_i\n",
    "        confusionMatrix_i = getConfusionMatrix(predTestDF= predictionDF.loc[idxCellType,:],  predCol = 'disease_pred', gtCol = 'disease')\n",
    "        confusionMatrix_i.fillna(0, inplace=True)\n",
    "        confusionMatrix_i_ord = reorder_ConfMatrix(mask_entries(confusionMatrix_i, lowerThan = -1), elementList=elementList)\n",
    "        \n",
    "        totCell = np.sum(idxCellType)\n",
    "\n",
    "        ################# Annotations\n",
    "\n",
    "        ################# \n",
    "\n",
    "        showRownames = False\n",
    "        if (c == (nCol-1)) | (((nCol*r) + c+1) >= len(cellTypeList)):\n",
    "            showRownames = True\n",
    "\n",
    "        showColnames = False\n",
    "        if (r == (nRow-1)) | (((nCol*(r+1)) + c) >= len(cellTypeList)):\n",
    "            showColnames = True\n",
    "\n",
    "        leftAnnotation = None\n",
    "        if (c == 0):\n",
    "            leftAnnotation = row_ann\n",
    "\n",
    "        confusionMatrixXct[ct_i] = confusionMatrix_i_ord\n",
    "        cm_i = ClusterMapPlotter(data=confusionMatrix_i_ord, \n",
    "                                 # left_annotation=leftAnnotation, \n",
    "                                 # top_annotation=col_ann, \n",
    "                                 row_split=rowAnnDF.disease_cat, row_split_order=diseaseCatOrd,\n",
    "                                 col_split=rowAnnDF.disease_cat, col_split_order=diseaseCatOrd,\n",
    "                                 show_rownames=showRownames,show_colnames=showColnames, \n",
    "                                 plot=False, fmt=None,\n",
    "                                 row_cluster=False, col_cluster=False, standard_scale = None,\n",
    "                                 row_dendrogram=False,col_dendrogram=False, verbose=False, cmap='coolwarm', rasterized=False, row_split_gap=1, col_split_gap=1,\n",
    "                                legend=True, label = 'Proportion\\n(col norm)',legend_anchor='ax_heatmap',legend_vpad=5,\n",
    "                                vmax = 1, vmin = 0)            \n",
    "\n",
    "        rowCM.append(cm_i)\n",
    "        rowCT.append('{}\\n({} cells)'.format(ct_i, totCell))\n",
    "    wholeCM.append(rowCM)\n",
    "    wholeCT.append(rowCT)\n",
    "            \n",
    "\n",
    "print('Plotting ...')\n",
    "\n",
    "mm2inch = 1 / 25.4\n",
    "\n",
    "row_gap = 16\n",
    "col_gap = 12\n",
    "\n",
    "nR = len(wholeCM)\n",
    "nC = len(wholeCM[0])\n",
    "\n",
    "plt.figure(figsize=(15,4.5))\n",
    "\n",
    "ax = plt.gca()\n",
    "\n",
    "wspace = mm2inch * ax.figure.dpi / (ax.get_window_extent().width / nC)\n",
    "hspace = row_gap * mm2inch * ax.figure.dpi / (ax.get_window_extent().height / nR)\n",
    "\n",
    "\n",
    "gs = ax.figure.add_gridspec(\n",
    "    nR,\n",
    "    nC,\n",
    "    width_ratios=[1 for i in range(nC)],\n",
    "    height_ratios=[1 for i in range(nR)],\n",
    "    wspace=wspace,\n",
    "    hspace=hspace,\n",
    ")\n",
    "\n",
    "for r in range(nR):\n",
    "    for c in range(nC):\n",
    "\n",
    "        idx = ((nCol*r) + c)\n",
    "        \n",
    "        if idx >= len(cellTypeList):\n",
    "            continue\n",
    "        \n",
    "        ax1 = ax.figure.add_subplot(gs[r,c], sharex=None, sharey=None)\n",
    "        wholeCM[r][c].plot(ax =ax1, subplot_spec=gs[r,c])\n",
    "        wholeCM[r][c].ax.set_title(wholeCT[r][c])\n",
    "\n",
    "        if (r==0) and (c==0):\n",
    "            label_max_width = ax.figure.get_window_extent().width * wholeCM[r][c].label_max_width / wholeCM[r][c].ax.figure.get_window_extent().width\n",
    "            legend_list = wholeCM[r][c].legend_list\n",
    "        \n",
    "        ax1.set_axis_off()\n",
    "        \n",
    "space = col_gap * mm2inch * ax.figure.dpi + label_max_width + 15\n",
    "plot_legend_list(legend_list, ax=ax, space=space, legend_side='right', gap=15, y0=0.8, legend_width=None)\n",
    "\n",
    "ax.set_ylabel('Predicted conditions')\n",
    "ax.set_xlabel('True classes', labelpad = 35)\n",
    "\n",
    "ax.spines['top'].set_visible(False)\n",
    "ax.spines['right'].set_visible(False)\n",
    "ax.spines['bottom'].set_visible(False)\n",
    "ax.spines['left'].set_visible(False)\n",
    "\n",
    "ax.set_yticklabels([])\n",
    "ax.set_xticklabels([])\n",
    "ax.set_xticks([])\n",
    "ax.set_yticks([])\n",
    "\n",
    "plt.savefig(here(\"03_downstream_analysis/08_gene_importance/COMBAT_focus_analysis_COVIDseverity_NOsepsis/figures/confusionMatrix_cellTypes.svg\"),\n",
    "dpi=300,\n",
    "bbox_inches='tight',\n",
    "pad_inches=0.1\n",
    ")"
   ]
  },
  {
   "cell_type": "code",
   "execution_count": null,
   "id": "b27e3879-8f43-4b53-8816-52d4e9f6bacc",
   "metadata": {
    "papermill": {
     "duration": 0.0165,
     "end_time": "2024-07-11T11:40:07.865744",
     "exception": false,
     "start_time": "2024-07-11T11:40:07.849244",
     "status": "completed"
    },
    "tags": []
   },
   "outputs": [],
   "source": []
  }
 ],
 "metadata": {
  "kernelspec": {
   "display_name": "Python 3 (ipykernel)",
   "language": "python",
   "name": "python3"
  },
  "language_info": {
   "codemirror_mode": {
    "name": "ipython",
    "version": 3
   },
   "file_extension": ".py",
   "mimetype": "text/x-python",
   "name": "python",
   "nbconvert_exporter": "python",
   "pygments_lexer": "ipython3",
   "version": "3.12.3"
  },
  "papermill": {
   "default_parameters": {},
   "duration": 982.550292,
   "end_time": "2024-07-11T11:40:10.469367",
   "environment_variables": {},
   "exception": null,
   "input_path": "03_plotting_confusion_matrices_xgboost_corrected.ipynb",
   "output_path": "03_plotting_confusion_matrices_xgboost_corrected.ipynb",
   "parameters": {},
   "start_time": "2024-07-11T11:23:47.919075",
   "version": "2.6.0"
  }
 },
 "nbformat": 4,
 "nbformat_minor": 5
}
