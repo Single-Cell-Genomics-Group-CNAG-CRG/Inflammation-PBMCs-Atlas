{
 "cells": [
  {
   "cell_type": "code",
   "execution_count": 1,
   "id": "68f29667-ff44-498f-9502-b8c991c70fbc",
   "metadata": {
    "execution": {
     "iopub.execute_input": "2024-10-28T14:27:58.187653Z",
     "iopub.status.busy": "2024-10-28T14:27:58.187479Z",
     "iopub.status.idle": "2024-10-28T14:28:01.239306Z",
     "shell.execute_reply": "2024-10-28T14:28:01.238821Z",
     "shell.execute_reply.started": "2024-10-28T14:27:58.187635Z"
    }
   },
   "outputs": [],
   "source": [
    "import pandas as pd\n",
    "import seaborn as sns\n",
    "import os\n",
    "import numpy as np\n",
    "import matplotlib.pyplot as plt\n",
    "from pyprojroot.here import here\n",
    "import anndata as ad"
   ]
  },
  {
   "cell_type": "code",
   "execution_count": 2,
   "id": "01b0f535-eab6-4f7e-8e3b-a47b59a2e040",
   "metadata": {
    "execution": {
     "iopub.execute_input": "2024-10-28T14:28:02.812121Z",
     "iopub.status.busy": "2024-10-28T14:28:02.811720Z",
     "iopub.status.idle": "2024-10-28T14:28:02.817343Z",
     "shell.execute_reply": "2024-10-28T14:28:02.817014Z",
     "shell.execute_reply.started": "2024-10-28T14:28:02.812104Z"
    }
   },
   "outputs": [],
   "source": [
    "def return_dfs(n_genes):\n",
    "    all_dfs = [pd.read_csv(here(f'03_downstream_analysis/08_gene_importance/xgboost_external_validation/xgboost_TopN_genes/results_{n_genes}/metrics/{fpath}'), index_col=0) for fpath in os.listdir(f'results_{n_genes}/metrics')]\n",
    "    all_dfs = pd.concat(all_dfs)\n",
    "    all_dfs = all_dfs.assign(setting=[s if s in ['shap', 'all'] else 'rand' for s in all_dfs.gene_set_seed])\n",
    "    data = all_dfs.groupby(['gene_set_seed', 'cell_type']).agg({'BAS':'mean', 'WF1':'mean','setting':'first'})\n",
    "    BAS_ms = data.reset_index().groupby(['cell_type', 'setting']).BAS.agg(['mean','std']).fillna(0)\n",
    "    WF1_ms = data.reset_index().groupby(['cell_type', 'setting']).WF1.agg(['mean','std']).fillna(0)\n",
    "    all_ms = BAS_ms.merge(WF1_ms, right_index=True, left_index=True, suffixes=('_BAS', '_WF1')).reset_index()\n",
    "\n",
    "    return data, all_ms"
   ]
  },
  {
   "cell_type": "code",
   "execution_count": 3,
   "id": "c8c53f2c-6c7d-4143-961f-66d1df4fd358",
   "metadata": {
    "execution": {
     "iopub.execute_input": "2024-10-28T14:28:03.387118Z",
     "iopub.status.busy": "2024-10-28T14:28:03.386869Z",
     "iopub.status.idle": "2024-10-28T14:28:10.372205Z",
     "shell.execute_reply": "2024-10-28T14:28:10.371806Z",
     "shell.execute_reply.started": "2024-10-28T14:28:03.387104Z"
    }
   },
   "outputs": [],
   "source": [
    "data_5, all_ms_5 = return_dfs(5)\n",
    "data_10, all_ms_10 = return_dfs(10)"
   ]
  },
  {
   "cell_type": "code",
   "execution_count": 4,
   "id": "3c4ce4a9-5d92-4b8d-8f77-81a701ca3a22",
   "metadata": {
    "execution": {
     "iopub.execute_input": "2024-10-28T14:28:10.373234Z",
     "iopub.status.busy": "2024-10-28T14:28:10.373004Z",
     "iopub.status.idle": "2024-10-28T14:28:10.375478Z",
     "shell.execute_reply": "2024-10-28T14:28:10.375183Z",
     "shell.execute_reply.started": "2024-10-28T14:28:10.373218Z"
    }
   },
   "outputs": [],
   "source": [
    "celltype_renamimg = {\n",
    "    'B': 'B',\n",
    "    'Plasma': 'Plasma',\n",
    "    'pDC': 'pDC',\n",
    "    'DC': 'DC',\n",
    "    'Mono': 'Mono',\n",
    "    'T_CD4_Naive': 'CD4 Naive',\n",
    "    'T_CD4_NonNaive': 'CD4 Non-Naive',\n",
    "    'T_CD8_Naive': 'CD8 Naive',\n",
    "    'T_CD8_NonNaive': 'CD8 Non-Naive',\n",
    "    'UTC': 'UTC',\n",
    "    'ILC': 'ILC',\n",
    "}"
   ]
  },
  {
   "cell_type": "code",
   "execution_count": 5,
   "id": "6d5bb6a0-bbf3-4fe4-9ed3-5b558d7dab91",
   "metadata": {
    "execution": {
     "iopub.execute_input": "2024-10-28T14:28:13.287878Z",
     "iopub.status.busy": "2024-10-28T14:28:13.287639Z",
     "iopub.status.idle": "2024-10-28T14:28:13.297341Z",
     "shell.execute_reply": "2024-10-28T14:28:13.297041Z",
     "shell.execute_reply.started": "2024-10-28T14:28:13.287864Z"
    }
   },
   "outputs": [],
   "source": [
    "stats_5 = pd.read_csv(here('03_downstream_analysis/08_gene_importance/xgboost_external_validation/shap_gene_selection/sel_percent_5.csv'))\n",
    "stats_5.columns = ['cell_type', 'stats']\n",
    "\n",
    "stats_10 = pd.read_csv(here('03_downstream_analysis/08_gene_importance/xgboost_external_validation/shap_gene_selection/sel_percent_10.csv'))\n",
    "stats_10.columns = ['cell_type', 'stats']"
   ]
  },
  {
   "cell_type": "code",
   "execution_count": 6,
   "id": "3758dd52-401b-4c06-b243-028b8671e3fa",
   "metadata": {
    "execution": {
     "iopub.execute_input": "2024-10-28T14:28:14.963490Z",
     "iopub.status.busy": "2024-10-28T14:28:14.963311Z",
     "iopub.status.idle": "2024-10-28T14:28:15.284027Z",
     "shell.execute_reply": "2024-10-28T14:28:15.283726Z",
     "shell.execute_reply.started": "2024-10-28T14:28:14.963476Z"
    }
   },
   "outputs": [
    {
     "data": {
      "text/html": [
       "<div>\n",
       "<style scoped>\n",
       "    .dataframe tbody tr th:only-of-type {\n",
       "        vertical-align: middle;\n",
       "    }\n",
       "\n",
       "    .dataframe tbody tr th {\n",
       "        vertical-align: top;\n",
       "    }\n",
       "\n",
       "    .dataframe thead th {\n",
       "        text-align: right;\n",
       "    }\n",
       "</style>\n",
       "<table border=\"1\" class=\"dataframe\">\n",
       "  <thead>\n",
       "    <tr style=\"text-align: right;\">\n",
       "      <th></th>\n",
       "      <th>cell_type</th>\n",
       "      <th>WF1</th>\n",
       "      <th>selection</th>\n",
       "    </tr>\n",
       "  </thead>\n",
       "  <tbody>\n",
       "    <tr>\n",
       "      <th>0</th>\n",
       "      <td>B</td>\n",
       "      <td>0.633472</td>\n",
       "      <td>top_5</td>\n",
       "    </tr>\n",
       "    <tr>\n",
       "      <th>1</th>\n",
       "      <td>DC</td>\n",
       "      <td>0.705439</td>\n",
       "      <td>top_5</td>\n",
       "    </tr>\n",
       "    <tr>\n",
       "      <th>2</th>\n",
       "      <td>ILC</td>\n",
       "      <td>0.542222</td>\n",
       "      <td>top_5</td>\n",
       "    </tr>\n",
       "    <tr>\n",
       "      <th>3</th>\n",
       "      <td>Mono</td>\n",
       "      <td>0.674577</td>\n",
       "      <td>top_5</td>\n",
       "    </tr>\n",
       "    <tr>\n",
       "      <th>4</th>\n",
       "      <td>Plasma</td>\n",
       "      <td>0.352001</td>\n",
       "      <td>top_5</td>\n",
       "    </tr>\n",
       "    <tr>\n",
       "      <th>...</th>\n",
       "      <td>...</td>\n",
       "      <td>...</td>\n",
       "      <td>...</td>\n",
       "    </tr>\n",
       "    <tr>\n",
       "      <th>215</th>\n",
       "      <td>T_CD4_NonNaive</td>\n",
       "      <td>0.676466</td>\n",
       "      <td>top_5</td>\n",
       "    </tr>\n",
       "    <tr>\n",
       "      <th>216</th>\n",
       "      <td>T_CD8_Naive</td>\n",
       "      <td>0.646187</td>\n",
       "      <td>top_5</td>\n",
       "    </tr>\n",
       "    <tr>\n",
       "      <th>217</th>\n",
       "      <td>T_CD8_NonNaive</td>\n",
       "      <td>0.664054</td>\n",
       "      <td>top_5</td>\n",
       "    </tr>\n",
       "    <tr>\n",
       "      <th>218</th>\n",
       "      <td>UTC</td>\n",
       "      <td>0.619573</td>\n",
       "      <td>top_5</td>\n",
       "    </tr>\n",
       "    <tr>\n",
       "      <th>219</th>\n",
       "      <td>pDC</td>\n",
       "      <td>0.620251</td>\n",
       "      <td>top_5</td>\n",
       "    </tr>\n",
       "  </tbody>\n",
       "</table>\n",
       "<p>220 rows × 3 columns</p>\n",
       "</div>"
      ],
      "text/plain": [
       "          cell_type       WF1 selection\n",
       "0                 B  0.633472     top_5\n",
       "1                DC  0.705439     top_5\n",
       "2               ILC  0.542222     top_5\n",
       "3              Mono  0.674577     top_5\n",
       "4            Plasma  0.352001     top_5\n",
       "..              ...       ...       ...\n",
       "215  T_CD4_NonNaive  0.676466     top_5\n",
       "216     T_CD8_Naive  0.646187     top_5\n",
       "217  T_CD8_NonNaive  0.664054     top_5\n",
       "218             UTC  0.619573     top_5\n",
       "219             pDC  0.620251     top_5\n",
       "\n",
       "[220 rows x 3 columns]"
      ]
     },
     "execution_count": 6,
     "metadata": {},
     "output_type": "execute_result"
    }
   ],
   "source": [
    "data_5.reset_index().query('setting == \"rand\"').assign(selection='top_5').drop(columns=['gene_set_seed', 'BAS', 'setting'])"
   ]
  },
  {
   "cell_type": "code",
   "execution_count": 7,
   "id": "1cadd09b-d949-4dc9-a669-501394d8c60b",
   "metadata": {
    "execution": {
     "iopub.execute_input": "2024-10-28T14:28:16.222720Z",
     "iopub.status.busy": "2024-10-28T14:28:16.222553Z",
     "iopub.status.idle": "2024-10-28T14:28:16.230445Z",
     "shell.execute_reply": "2024-10-28T14:28:16.230143Z",
     "shell.execute_reply.started": "2024-10-28T14:28:16.222706Z"
    }
   },
   "outputs": [
    {
     "data": {
      "text/html": [
       "<div>\n",
       "<style scoped>\n",
       "    .dataframe tbody tr th:only-of-type {\n",
       "        vertical-align: middle;\n",
       "    }\n",
       "\n",
       "    .dataframe tbody tr th {\n",
       "        vertical-align: top;\n",
       "    }\n",
       "\n",
       "    .dataframe thead th {\n",
       "        text-align: right;\n",
       "    }\n",
       "</style>\n",
       "<table border=\"1\" class=\"dataframe\">\n",
       "  <thead>\n",
       "    <tr style=\"text-align: right;\">\n",
       "      <th></th>\n",
       "      <th>cell_type</th>\n",
       "      <th>WF1</th>\n",
       "      <th>selection</th>\n",
       "    </tr>\n",
       "  </thead>\n",
       "  <tbody>\n",
       "    <tr>\n",
       "      <th>0</th>\n",
       "      <td>B</td>\n",
       "      <td>0.633472</td>\n",
       "      <td>top_5</td>\n",
       "    </tr>\n",
       "    <tr>\n",
       "      <th>1</th>\n",
       "      <td>DC</td>\n",
       "      <td>0.705439</td>\n",
       "      <td>top_5</td>\n",
       "    </tr>\n",
       "    <tr>\n",
       "      <th>2</th>\n",
       "      <td>ILC</td>\n",
       "      <td>0.542222</td>\n",
       "      <td>top_5</td>\n",
       "    </tr>\n",
       "    <tr>\n",
       "      <th>3</th>\n",
       "      <td>Mono</td>\n",
       "      <td>0.674577</td>\n",
       "      <td>top_5</td>\n",
       "    </tr>\n",
       "    <tr>\n",
       "      <th>4</th>\n",
       "      <td>Plasma</td>\n",
       "      <td>0.352001</td>\n",
       "      <td>top_5</td>\n",
       "    </tr>\n",
       "    <tr>\n",
       "      <th>...</th>\n",
       "      <td>...</td>\n",
       "      <td>...</td>\n",
       "      <td>...</td>\n",
       "    </tr>\n",
       "    <tr>\n",
       "      <th>215</th>\n",
       "      <td>T_CD4_NonNaive</td>\n",
       "      <td>0.676466</td>\n",
       "      <td>top_5</td>\n",
       "    </tr>\n",
       "    <tr>\n",
       "      <th>216</th>\n",
       "      <td>T_CD8_Naive</td>\n",
       "      <td>0.646187</td>\n",
       "      <td>top_5</td>\n",
       "    </tr>\n",
       "    <tr>\n",
       "      <th>217</th>\n",
       "      <td>T_CD8_NonNaive</td>\n",
       "      <td>0.664054</td>\n",
       "      <td>top_5</td>\n",
       "    </tr>\n",
       "    <tr>\n",
       "      <th>218</th>\n",
       "      <td>UTC</td>\n",
       "      <td>0.619573</td>\n",
       "      <td>top_5</td>\n",
       "    </tr>\n",
       "    <tr>\n",
       "      <th>219</th>\n",
       "      <td>pDC</td>\n",
       "      <td>0.620251</td>\n",
       "      <td>top_5</td>\n",
       "    </tr>\n",
       "  </tbody>\n",
       "</table>\n",
       "<p>220 rows × 3 columns</p>\n",
       "</div>"
      ],
      "text/plain": [
       "          cell_type       WF1 selection\n",
       "0                 B  0.633472     top_5\n",
       "1                DC  0.705439     top_5\n",
       "2               ILC  0.542222     top_5\n",
       "3              Mono  0.674577     top_5\n",
       "4            Plasma  0.352001     top_5\n",
       "..              ...       ...       ...\n",
       "215  T_CD4_NonNaive  0.676466     top_5\n",
       "216     T_CD8_Naive  0.646187     top_5\n",
       "217  T_CD8_NonNaive  0.664054     top_5\n",
       "218             UTC  0.619573     top_5\n",
       "219             pDC  0.620251     top_5\n",
       "\n",
       "[220 rows x 3 columns]"
      ]
     },
     "execution_count": 7,
     "metadata": {},
     "output_type": "execute_result"
    }
   ],
   "source": [
    "data_5.reset_index().query('setting == \"rand\"').assign(selection='top_5').drop(columns=['gene_set_seed', 'BAS', 'setting'])"
   ]
  },
  {
   "cell_type": "code",
   "execution_count": 8,
   "id": "8bb47ba2-19b7-4fe5-bff1-65789b304e8f",
   "metadata": {
    "execution": {
     "iopub.execute_input": "2024-10-28T14:28:16.960842Z",
     "iopub.status.busy": "2024-10-28T14:28:16.960545Z",
     "iopub.status.idle": "2024-10-28T14:28:26.217043Z",
     "shell.execute_reply": "2024-10-28T14:28:26.216665Z",
     "shell.execute_reply.started": "2024-10-28T14:28:16.960828Z"
    }
   },
   "outputs": [],
   "source": [
    "n_genes_ls = []\n",
    "for cell_type in celltype_renamimg.keys():\n",
    "    adata = ad.read_h5ad(here(f'inflammabucket_bkp/03_downstream_analysis/05_SHAP/data/{cell_type}_adataMerged_SPECTRAgenes.log1p.h5ad'), backed='r')\n",
    "    symbols_df = pd.read_pickle(here('inflammabucket_bkp/03_downstream_analysis/04_selected_gene_list.pkl'))\n",
    "    symbols_sorted = symbols_df.loc[adata.var_names].symbol.values\n",
    "    perc_gene_expr = pd.read_csv(here('inflammabucket_bkp/03_downstream_analysis/05_SHAP/data/genes_expressing_cells.csv'))\n",
    "    perc_gene_expr = perc_gene_expr.astype({'symbol': 'str', '% cells': 'float', 'CellType': 'category'})\n",
    "    well_expressed_symbols = perc_gene_expr.query('`% cells` > 5 & CellType == @cell_type').symbol\n",
    "    symbol_mask = symbols_sorted.isin(well_expressed_symbols)\n",
    "    symbols_sorted = symbols_sorted[symbol_mask]\n",
    "\n",
    "    n_genes_5 = len(np.load(here(f'03_downstream_analysis/08_gene_importance/xgboost_external_validation/shap_gene_selection/gene_subsets_5/{cell_type}_shap.npy'), allow_pickle=True))\n",
    "    n_genes_10 = len(np.load(here(f'03_downstream_analysis/08_gene_importance/xgboost_external_validation/shap_gene_selection/gene_subsets_10/{cell_type}_shap.npy'), allow_pickle=True))\n",
    "\n",
    "    n_genes_ls.extend([(\"top_5\", n_genes_5, cell_type), (\"top_10\", n_genes_10, cell_type), (\"all\", len(symbols_sorted), cell_type)])"
   ]
  },
  {
   "cell_type": "code",
   "execution_count": 9,
   "id": "49a2d1fd-7358-4e54-9b6f-6e0b085e49ce",
   "metadata": {
    "execution": {
     "iopub.execute_input": "2024-10-28T14:28:30.039235Z",
     "iopub.status.busy": "2024-10-28T14:28:30.039042Z",
     "iopub.status.idle": "2024-10-28T14:28:30.045984Z",
     "shell.execute_reply": "2024-10-28T14:28:30.045683Z",
     "shell.execute_reply.started": "2024-10-28T14:28:30.039220Z"
    }
   },
   "outputs": [
    {
     "data": {
      "text/html": [
       "<div>\n",
       "<style scoped>\n",
       "    .dataframe tbody tr th:only-of-type {\n",
       "        vertical-align: middle;\n",
       "    }\n",
       "\n",
       "    .dataframe tbody tr th {\n",
       "        vertical-align: top;\n",
       "    }\n",
       "\n",
       "    .dataframe thead th {\n",
       "        text-align: right;\n",
       "    }\n",
       "</style>\n",
       "<table border=\"1\" class=\"dataframe\">\n",
       "  <thead>\n",
       "    <tr style=\"text-align: right;\">\n",
       "      <th></th>\n",
       "      <th>selection</th>\n",
       "      <th>n_genes</th>\n",
       "      <th>cell_type</th>\n",
       "    </tr>\n",
       "  </thead>\n",
       "  <tbody>\n",
       "    <tr>\n",
       "      <th>0</th>\n",
       "      <td>Random Selection [Top 5 genes]</td>\n",
       "      <td>29</td>\n",
       "      <td>B</td>\n",
       "    </tr>\n",
       "    <tr>\n",
       "      <th>1</th>\n",
       "      <td>Random Selection [Top 10 genes]</td>\n",
       "      <td>55</td>\n",
       "      <td>B</td>\n",
       "    </tr>\n",
       "    <tr>\n",
       "      <th>2</th>\n",
       "      <td>No selection</td>\n",
       "      <td>466</td>\n",
       "      <td>B</td>\n",
       "    </tr>\n",
       "    <tr>\n",
       "      <th>3</th>\n",
       "      <td>Random Selection [Top 5 genes]</td>\n",
       "      <td>30</td>\n",
       "      <td>Plasma</td>\n",
       "    </tr>\n",
       "    <tr>\n",
       "      <th>4</th>\n",
       "      <td>Random Selection [Top 10 genes]</td>\n",
       "      <td>54</td>\n",
       "      <td>Plasma</td>\n",
       "    </tr>\n",
       "  </tbody>\n",
       "</table>\n",
       "</div>"
      ],
      "text/plain": [
       "                         selection  n_genes cell_type\n",
       "0   Random Selection [Top 5 genes]       29         B\n",
       "1  Random Selection [Top 10 genes]       55         B\n",
       "2                     No selection      466         B\n",
       "3   Random Selection [Top 5 genes]       30    Plasma\n",
       "4  Random Selection [Top 10 genes]       54    Plasma"
      ]
     },
     "execution_count": 9,
     "metadata": {},
     "output_type": "execute_result"
    }
   ],
   "source": [
    "n_genes_df = pd.DataFrame(n_genes_ls, columns=['selection', 'n_genes', 'cell_type']).replace(celltype_renamimg).replace(dict(top_5='Random Selection [Top 5 genes]', top_10='Random Selection [Top 10 genes]', all='No selection'))\n",
    "n_genes_df.head()"
   ]
  },
  {
   "cell_type": "code",
   "execution_count": 10,
   "id": "e8dae4e5-39cc-4f43-9dcf-aae699ecdb67",
   "metadata": {
    "execution": {
     "iopub.execute_input": "2024-10-28T14:28:30.764822Z",
     "iopub.status.busy": "2024-10-28T14:28:30.764381Z",
     "iopub.status.idle": "2024-10-28T14:28:30.768097Z",
     "shell.execute_reply": "2024-10-28T14:28:30.767799Z",
     "shell.execute_reply.started": "2024-10-28T14:28:30.764808Z"
    }
   },
   "outputs": [
    {
     "data": {
      "text/plain": [
       "array([0, 1, 2, 3, 4, 5, 6, 7, 8, 9, 10, 11, 12, 13, 14, 15, 16, 17, 18,\n",
       "       19, 'all', 'shap'], dtype=object)"
      ]
     },
     "execution_count": 10,
     "metadata": {},
     "output_type": "execute_result"
    }
   ],
   "source": [
    "data_5.reset_index().gene_set_seed.unique()"
   ]
  },
  {
   "cell_type": "code",
   "execution_count": 11,
   "id": "c8a37f3f-27e5-41a9-ab23-1a65378dc9c4",
   "metadata": {
    "execution": {
     "iopub.execute_input": "2024-10-28T14:28:31.383074Z",
     "iopub.status.busy": "2024-10-28T14:28:31.382811Z",
     "iopub.status.idle": "2024-10-28T14:28:31.397730Z",
     "shell.execute_reply": "2024-10-28T14:28:31.397409Z",
     "shell.execute_reply.started": "2024-10-28T14:28:31.383060Z"
    }
   },
   "outputs": [],
   "source": [
    "pdata_WF1 = pd.concat([\n",
    "    data_5.reset_index().query('setting == \"rand\"').assign(selection='top_5',shap=False).drop(columns=['gene_set_seed', 'BAS', 'setting']).rename(columns={'WF1':'value'}),\n",
    "    data_10.reset_index().query('setting == \"rand\"').assign(selection='top_10',shap=False).drop(columns=['gene_set_seed', 'BAS', 'setting']).rename(columns={'WF1':'value'}),\n",
    "    all_ms_5.query('setting == \"all\"').rename(columns={'mean_WF1':'value'}).drop(columns=['setting', 'mean_BAS', 'std_BAS', 'std_WF1']).assign(selection='all',shap=True),\n",
    "    all_ms_5.query('setting == \"shap\"').rename(columns={'mean_WF1':'value'}).drop(columns=['setting', 'mean_BAS', 'std_BAS', 'std_WF1']).assign(selection='top_5',shap=True),\n",
    "    all_ms_10.query('setting == \"shap\"').rename(columns={'mean_WF1':'value'}).drop(columns=['setting', 'mean_BAS', 'std_BAS', 'std_WF1']).assign(selection='top_10',shap=True)\n",
    "]).assign(metric='WF1')"
   ]
  },
  {
   "cell_type": "code",
   "execution_count": 12,
   "id": "5cc09dae-c7a1-44a7-95c9-25ea5c5799ee",
   "metadata": {
    "execution": {
     "iopub.execute_input": "2024-10-28T14:28:33.302211Z",
     "iopub.status.busy": "2024-10-28T14:28:33.301938Z",
     "iopub.status.idle": "2024-10-28T14:28:33.316564Z",
     "shell.execute_reply": "2024-10-28T14:28:33.316267Z",
     "shell.execute_reply.started": "2024-10-28T14:28:33.302196Z"
    }
   },
   "outputs": [],
   "source": [
    "pdata_BAS = pd.concat([\n",
    "    data_5.reset_index().query('setting == \"rand\"').assign(selection='top_5',shap=False).drop(columns=['gene_set_seed', 'WF1', 'setting']).rename(columns={'BAS':'value'}),\n",
    "    data_10.reset_index().query('setting == \"rand\"').assign(selection='top_10',shap=False).drop(columns=['gene_set_seed', 'WF1', 'setting']).rename(columns={'BAS':'value'}),\n",
    "    all_ms_5.query('setting == \"all\"').rename(columns={'mean_BAS':'value'}).drop(columns=['setting', 'mean_WF1', 'std_BAS', 'std_WF1']).assign(selection='all',shap=True),\n",
    "    all_ms_5.query('setting == \"shap\"').rename(columns={'mean_BAS':'value'}).drop(columns=['setting', 'mean_WF1', 'std_BAS', 'std_WF1']).assign(selection='top_5',shap=True),\n",
    "    all_ms_10.query('setting == \"shap\"').rename(columns={'mean_BAS':'value'}).drop(columns=['setting', 'mean_WF1', 'std_BAS', 'std_WF1']).assign(selection='top_10',shap=True)\n",
    "]).assign(metric='BAS')"
   ]
  },
  {
   "cell_type": "code",
   "execution_count": 13,
   "id": "b0fb2847-d139-4e0c-b6da-f42ba66e968a",
   "metadata": {
    "execution": {
     "iopub.execute_input": "2024-10-28T14:28:35.083363Z",
     "iopub.status.busy": "2024-10-28T14:28:35.082763Z",
     "iopub.status.idle": "2024-10-28T14:28:35.092308Z",
     "shell.execute_reply": "2024-10-28T14:28:35.092007Z",
     "shell.execute_reply.started": "2024-10-28T14:28:35.083334Z"
    }
   },
   "outputs": [
    {
     "data": {
      "text/html": [
       "<div>\n",
       "<style scoped>\n",
       "    .dataframe tbody tr th:only-of-type {\n",
       "        vertical-align: middle;\n",
       "    }\n",
       "\n",
       "    .dataframe tbody tr th {\n",
       "        vertical-align: top;\n",
       "    }\n",
       "\n",
       "    .dataframe thead th {\n",
       "        text-align: right;\n",
       "    }\n",
       "</style>\n",
       "<table border=\"1\" class=\"dataframe\">\n",
       "  <thead>\n",
       "    <tr style=\"text-align: right;\">\n",
       "      <th></th>\n",
       "      <th>cell_type</th>\n",
       "      <th>value</th>\n",
       "      <th>selection</th>\n",
       "      <th>shap</th>\n",
       "      <th>metric</th>\n",
       "    </tr>\n",
       "  </thead>\n",
       "  <tbody>\n",
       "    <tr>\n",
       "      <th>0</th>\n",
       "      <td>B</td>\n",
       "      <td>0.633472</td>\n",
       "      <td>Random Selection [Top 5 genes]</td>\n",
       "      <td>False</td>\n",
       "      <td>WF1</td>\n",
       "    </tr>\n",
       "    <tr>\n",
       "      <th>1</th>\n",
       "      <td>DC</td>\n",
       "      <td>0.705439</td>\n",
       "      <td>Random Selection [Top 5 genes]</td>\n",
       "      <td>False</td>\n",
       "      <td>WF1</td>\n",
       "    </tr>\n",
       "    <tr>\n",
       "      <th>2</th>\n",
       "      <td>ILC</td>\n",
       "      <td>0.542222</td>\n",
       "      <td>Random Selection [Top 5 genes]</td>\n",
       "      <td>False</td>\n",
       "      <td>WF1</td>\n",
       "    </tr>\n",
       "    <tr>\n",
       "      <th>3</th>\n",
       "      <td>Mono</td>\n",
       "      <td>0.674577</td>\n",
       "      <td>Random Selection [Top 5 genes]</td>\n",
       "      <td>False</td>\n",
       "      <td>WF1</td>\n",
       "    </tr>\n",
       "    <tr>\n",
       "      <th>4</th>\n",
       "      <td>Plasma</td>\n",
       "      <td>0.352001</td>\n",
       "      <td>Random Selection [Top 5 genes]</td>\n",
       "      <td>False</td>\n",
       "      <td>WF1</td>\n",
       "    </tr>\n",
       "    <tr>\n",
       "      <th>...</th>\n",
       "      <td>...</td>\n",
       "      <td>...</td>\n",
       "      <td>...</td>\n",
       "      <td>...</td>\n",
       "      <td>...</td>\n",
       "    </tr>\n",
       "    <tr>\n",
       "      <th>20</th>\n",
       "      <td>CD4 Non-Naive</td>\n",
       "      <td>0.644711</td>\n",
       "      <td>Random Selection [Top 10 genes]</td>\n",
       "      <td>True</td>\n",
       "      <td>BAS</td>\n",
       "    </tr>\n",
       "    <tr>\n",
       "      <th>23</th>\n",
       "      <td>CD8 Naive</td>\n",
       "      <td>0.641869</td>\n",
       "      <td>Random Selection [Top 10 genes]</td>\n",
       "      <td>True</td>\n",
       "      <td>BAS</td>\n",
       "    </tr>\n",
       "    <tr>\n",
       "      <th>26</th>\n",
       "      <td>CD8 Non-Naive</td>\n",
       "      <td>0.610937</td>\n",
       "      <td>Random Selection [Top 10 genes]</td>\n",
       "      <td>True</td>\n",
       "      <td>BAS</td>\n",
       "    </tr>\n",
       "    <tr>\n",
       "      <th>29</th>\n",
       "      <td>UTC</td>\n",
       "      <td>0.512402</td>\n",
       "      <td>Random Selection [Top 10 genes]</td>\n",
       "      <td>True</td>\n",
       "      <td>BAS</td>\n",
       "    </tr>\n",
       "    <tr>\n",
       "      <th>32</th>\n",
       "      <td>pDC</td>\n",
       "      <td>0.523387</td>\n",
       "      <td>Random Selection [Top 10 genes]</td>\n",
       "      <td>True</td>\n",
       "      <td>BAS</td>\n",
       "    </tr>\n",
       "  </tbody>\n",
       "</table>\n",
       "<p>946 rows × 5 columns</p>\n",
       "</div>"
      ],
      "text/plain": [
       "        cell_type     value                        selection   shap metric\n",
       "0               B  0.633472   Random Selection [Top 5 genes]  False    WF1\n",
       "1              DC  0.705439   Random Selection [Top 5 genes]  False    WF1\n",
       "2             ILC  0.542222   Random Selection [Top 5 genes]  False    WF1\n",
       "3            Mono  0.674577   Random Selection [Top 5 genes]  False    WF1\n",
       "4          Plasma  0.352001   Random Selection [Top 5 genes]  False    WF1\n",
       "..            ...       ...                              ...    ...    ...\n",
       "20  CD4 Non-Naive  0.644711  Random Selection [Top 10 genes]   True    BAS\n",
       "23      CD8 Naive  0.641869  Random Selection [Top 10 genes]   True    BAS\n",
       "26  CD8 Non-Naive  0.610937  Random Selection [Top 10 genes]   True    BAS\n",
       "29            UTC  0.512402  Random Selection [Top 10 genes]   True    BAS\n",
       "32            pDC  0.523387  Random Selection [Top 10 genes]   True    BAS\n",
       "\n",
       "[946 rows x 5 columns]"
      ]
     },
     "execution_count": 13,
     "metadata": {},
     "output_type": "execute_result"
    }
   ],
   "source": [
    "pdata = pd.concat((pdata_WF1, pdata_BAS)).replace(celltype_renamimg).replace(dict(top_5='Random Selection [Top 5 genes]', top_10='Random Selection [Top 10 genes]', all='No selection'))\n",
    "pdata"
   ]
  },
  {
   "cell_type": "code",
   "execution_count": 16,
   "id": "9fc5343e-d47b-4307-99b0-d9c326b8159e",
   "metadata": {
    "execution": {
     "iopub.execute_input": "2024-10-28T14:32:24.431928Z",
     "iopub.status.busy": "2024-10-28T14:32:24.431720Z",
     "iopub.status.idle": "2024-10-28T14:32:28.740991Z",
     "shell.execute_reply": "2024-10-28T14:32:28.740645Z",
     "shell.execute_reply.started": "2024-10-28T14:32:24.431912Z"
    }
   },
   "outputs": [
    {
     "name": "stderr",
     "output_type": "stream",
     "text": [
      "/scratch_isilon/groups/singlecell/shared/conda_env/plotting/lib/python3.12/site-packages/seaborn/axisgrid.py:123: UserWarning: Tight layout not applied. tight_layout cannot make Axes width small enough to accommodate all Axes decorations\n",
      "  self._figure.tight_layout(*args, **kwargs)\n"
     ]
    },
    {
     "data": {
      "image/png": "[encoded data removed]",
      "text/plain": [
       "<Figure size 3098x500 with 22 Axes>"
      ]
     },
     "metadata": {},
     "output_type": "display_data"
    }
   ],
   "source": [
    "g = sns.FacetGrid(pdata, col=\"cell_type\", row=\"metric\", height=2.5, aspect=.8, margin_titles=True)\n",
    "\n",
    "def barplot(data, x, y, hue, **kwargs):\n",
    "    data = data.query('not shap')\n",
    "    ax = sns.boxplot(x=x, y=y, hue=hue, data=data, legend=True, palette='muted', fill=False)\n",
    "    current_celltype = data.cell_type.iloc[0]\n",
    "    if data.metric.iloc[0] == 'BAS':\n",
    "        for index, row in n_genes_df.query('cell_type == @current_celltype').iterrows():\n",
    "            ax.text(row[x], 0.15, row['n_genes'], color='black', ha=\"center\",size=12)\n",
    "g.map_dataframe(barplot, x='selection', y='value', hue='selection')\n",
    "\n",
    "def scatterplot(data, x, y, hue, **kwargs):\n",
    "    data = data.query('shap').assign(nos=lambda df: [\"No Selection\" if x == \"No selection\" else \"Shap Selection\" for x in df.selection])\n",
    "    ax = sns.scatterplot(x=x, y=y, hue='nos', style='nos',palette=[\"green\", \"black\"], markers=[\"x\",\"+\"], linewidth=2, s=75, data=data, legend=True, zorder=100)\n",
    "g.map_dataframe(scatterplot, x='selection', y='value', hue='selection')\n",
    "\n",
    "g.set_titles(col_template='{col_name}',row_template='value={row_name}')\n",
    "g.set(xticks=[],xlabel=None)\n",
    "g.figure.subplots_adjust(wspace=.2, hspace=0.1)\n",
    "g.add_legend(bbox_to_anchor=(0.5, 0), ncols=4)\n",
    "\n",
    "plt.savefig(\"performance_shap_selection.svg\", dpi=400, bbox_inches='tight')"
   ]
  },
  {
   "cell_type": "code",
   "execution_count": null,
   "id": "15504962-7a68-4985-ace5-107ba7d28535",
   "metadata": {},
   "outputs": [],
   "source": []
  }
 ],
 "metadata": {
  "kernelspec": {
   "display_name": "Python 3 (ipykernel)",
   "language": "python",
   "name": "python3"
  },
  "language_info": {
   "codemirror_mode": {
    "name": "ipython",
    "version": 3
   },
   "file_extension": ".py",
   "mimetype": "text/x-python",
   "name": "python",
   "nbconvert_exporter": "python",
   "pygments_lexer": "ipython3",
   "version": "3.12.4"
  }
 },
 "nbformat": 4,
 "nbformat_minor": 5
}
