{
 "cells": [
  {
   "cell_type": "code",
   "execution_count": 26,
   "id": "4cc9bfd7-f15d-4202-9be8-ac192a948d49",
   "metadata": {
    "execution": {
     "iopub.execute_input": "2025-06-13T12:51:26.109714Z",
     "iopub.status.busy": "2025-06-13T12:51:26.109450Z",
     "iopub.status.idle": "2025-06-13T12:51:26.126202Z",
     "shell.execute_reply": "2025-06-13T12:51:26.125758Z",
     "shell.execute_reply.started": "2025-06-13T12:51:26.109698Z"
    }
   },
   "outputs": [],
   "source": [
    "N_GENES: int = 20"
   ]
  },
  {
   "cell_type": "code",
   "execution_count": 27,
   "id": "0ff497df-ce79-4808-8821-06ad48456af4",
   "metadata": {
    "execution": {
     "iopub.execute_input": "2025-06-13T12:51:26.573712Z",
     "iopub.status.busy": "2025-06-13T12:51:26.573479Z",
     "iopub.status.idle": "2025-06-13T12:51:26.590158Z",
     "shell.execute_reply": "2025-06-13T12:51:26.589697Z",
     "shell.execute_reply.started": "2025-06-13T12:51:26.573699Z"
    }
   },
   "outputs": [],
   "source": [
    "import os, sys\n",
    "from pyprojroot.here import here\n",
    "from tqdm.auto import trange, tqdm\n",
    "\n",
    "import pandas as pd\n",
    "import anndata as ad\n",
    "import numpy as np\n",
    "\n",
    "import pickle\n",
    "\n",
    "from collections import defaultdict\n",
    "\n",
    "import re\n",
    "\n",
    "import matplotlib.pyplot as plt\n",
    "\n",
    "# Import functions\n",
    "sys.path.insert(1, str(here('bin')))\n",
    "from customPythonFunctions import generate_shap_data\n",
    "from customPalette import shap_cell_types as CELL_TYPES"
   ]
  },
  {
   "cell_type": "code",
   "execution_count": 28,
   "id": "fee4e7b3-15aa-4847-b889-2ff4660b1fe0",
   "metadata": {
    "execution": {
     "iopub.execute_input": "2025-06-13T12:51:27.252770Z",
     "iopub.status.busy": "2025-06-13T12:51:27.252534Z",
     "iopub.status.idle": "2025-06-13T12:51:27.268126Z",
     "shell.execute_reply": "2025-06-13T12:51:27.267740Z",
     "shell.execute_reply.started": "2025-06-13T12:51:27.252757Z"
    }
   },
   "outputs": [
    {
     "name": "stdout",
     "output_type": "stream",
     "text": [
      "The autoreload extension is already loaded. To reload it, use:\n",
      "  %reload_ext autoreload\n"
     ]
    }
   ],
   "source": [
    "%load_ext autoreload\n",
    "%autoreload 2"
   ]
  },
  {
   "cell_type": "code",
   "execution_count": 29,
   "id": "335557a4-4c9d-4498-9aff-2dd5e20fa5d9",
   "metadata": {
    "execution": {
     "iopub.execute_input": "2025-06-13T12:51:28.668956Z",
     "iopub.status.busy": "2025-06-13T12:51:28.668641Z",
     "iopub.status.idle": "2025-06-13T12:51:28.686112Z",
     "shell.execute_reply": "2025-06-13T12:51:28.685756Z",
     "shell.execute_reply.started": "2025-06-13T12:51:28.668938Z"
    }
   },
   "outputs": [],
   "source": [
    "# CELL_TYPES= [\"Mono\", \"T_CD4_Naive\", \"T_CD4_NonNaive\", \"T_CD8_Naive\", \"T_CD8_NonNaive\", \"B\", \"Plasma\", \"UTC\", \"ILC\", \"pDC\", \"DC\"]\n",
    "EXT_DISEASES = ['healthy', 'sepsis', 'CD', 'SLE', 'HIV', 'cirrhosis', 'RA', 'COVID']\n",
    "# diseases = np.array(['BRCA', 'CD', 'COPD', 'COVID', 'CRC', 'HBV', 'HIV', 'HNSCC', 'MS', 'NPC', 'PS', 'PSA', 'RA', 'SLE', 'UC', 'asthma', 'cirrhosis', 'flu', 'healthy', 'sepsis'])"
   ]
  },
  {
   "cell_type": "markdown",
   "id": "b109916a-4736-44da-9ba4-daa65f7f5d3d",
   "metadata": {},
   "source": [
    "### Top relevant genes per *disease*"
   ]
  },
  {
   "cell_type": "code",
   "execution_count": 30,
   "id": "72602c9c-1349-4a73-bbbf-bde66db8aab1",
   "metadata": {
    "execution": {
     "iopub.execute_input": "2025-06-13T12:51:30.915451Z",
     "iopub.status.busy": "2025-06-13T12:51:30.915080Z",
     "iopub.status.idle": "2025-06-13T12:51:30.933346Z",
     "shell.execute_reply": "2025-06-13T12:51:30.933029Z",
     "shell.execute_reply.started": "2025-06-13T12:51:30.915434Z"
    }
   },
   "outputs": [],
   "source": [
    "shap_disease_per_cell_type = dict()"
   ]
  },
  {
   "cell_type": "code",
   "execution_count": 31,
   "id": "33cd971b-a1ef-431b-ac37-109331295bdf",
   "metadata": {
    "execution": {
     "iopub.execute_input": "2025-06-13T12:51:31.221063Z",
     "iopub.status.busy": "2025-06-13T12:51:31.220769Z",
     "iopub.status.idle": "2025-06-13T12:51:35.410501Z",
     "shell.execute_reply": "2025-06-13T12:51:35.410093Z",
     "shell.execute_reply.started": "2025-06-13T12:51:31.221050Z"
    }
   },
   "outputs": [
    {
     "data": {
      "application/vnd.jupyter.widget-view+json": {
       "model_id": "3c6673c554524d6e938074933b7853cf",
       "version_major": 2,
       "version_minor": 0
      },
      "text/plain": [
       "  0%|          | 0/11 [00:00<?, ?it/s]"
      ]
     },
     "metadata": {},
     "output_type": "display_data"
    }
   ],
   "source": [
    "for cell_type in  tqdm(CELL_TYPES):\n",
    "    shap_ct_df = generate_shap_data(\n",
    "        cell_type = cell_type,\n",
    "        shap_stats_path = here(f'03_downstream_analysis/08_gene_importance/results/targetY_disease/shap/shap_vals/total_run1_{cell_type}_shap_stats.npz'), \n",
    "        adata_path = here(f'03_downstream_analysis/08_gene_importance/data/{cell_type}_adataMerged_SPECTRAgenes.log1p.h5ad'),\n",
    "        gene_symbol_df_path = here('03_downstream_analysis/02_gene_universe_definition/results/04_selected_gene_list.pkl'),\n",
    "        stat = 'mean_abs',\n",
    "        category_col = 'disease',\n",
    "        expressed_gene_cellTypes_path = here('03_downstream_analysis/08_gene_importance/results/genes_expressing_cells.csv')\n",
    "    )    \n",
    "    filtered_shap = shap_ct_df.loc[:,EXT_DISEASES]\n",
    "    shap_disease_per_cell_type[cell_type]= filtered_shap"
   ]
  },
  {
   "cell_type": "code",
   "execution_count": 32,
   "id": "c0c564eb-bfeb-449e-8138-06a9b7609adc",
   "metadata": {
    "execution": {
     "iopub.execute_input": "2025-06-13T12:51:35.411485Z",
     "iopub.status.busy": "2025-06-13T12:51:35.411280Z",
     "iopub.status.idle": "2025-06-13T12:51:35.435730Z",
     "shell.execute_reply": "2025-06-13T12:51:35.435280Z",
     "shell.execute_reply.started": "2025-06-13T12:51:35.411470Z"
    }
   },
   "outputs": [
    {
     "data": {
      "text/html": [
       "<div>\n",
       "<style scoped>\n",
       "    .dataframe tbody tr th:only-of-type {\n",
       "        vertical-align: middle;\n",
       "    }\n",
       "\n",
       "    .dataframe tbody tr th {\n",
       "        vertical-align: top;\n",
       "    }\n",
       "\n",
       "    .dataframe thead th {\n",
       "        text-align: right;\n",
       "    }\n",
       "</style>\n",
       "<table border=\"1\" class=\"dataframe\">\n",
       "  <thead>\n",
       "    <tr style=\"text-align: right;\">\n",
       "      <th></th>\n",
       "      <th>hgnc_id</th>\n",
       "      <th>symbol</th>\n",
       "      <th>locus_group</th>\n",
       "      <th>HUGO_status</th>\n",
       "    </tr>\n",
       "    <tr>\n",
       "      <th>ensembl_gene_id</th>\n",
       "      <th></th>\n",
       "      <th></th>\n",
       "      <th></th>\n",
       "      <th></th>\n",
       "    </tr>\n",
       "  </thead>\n",
       "  <tbody>\n",
       "    <tr>\n",
       "      <th>ENSG00000000003</th>\n",
       "      <td>HGNC:11858</td>\n",
       "      <td>TSPAN6</td>\n",
       "      <td>protein_coding</td>\n",
       "      <td>official</td>\n",
       "    </tr>\n",
       "    <tr>\n",
       "      <th>ENSG00000000457</th>\n",
       "      <td>HGNC:19285</td>\n",
       "      <td>SCYL3</td>\n",
       "      <td>protein_coding</td>\n",
       "      <td>official</td>\n",
       "    </tr>\n",
       "    <tr>\n",
       "      <th>ENSG00000000938</th>\n",
       "      <td>HGNC:3697</td>\n",
       "      <td>FGR</td>\n",
       "      <td>protein_coding</td>\n",
       "      <td>official</td>\n",
       "    </tr>\n",
       "    <tr>\n",
       "      <th>ENSG00000000971</th>\n",
       "      <td>HGNC:4883</td>\n",
       "      <td>CFH</td>\n",
       "      <td>protein_coding</td>\n",
       "      <td>official</td>\n",
       "    </tr>\n",
       "    <tr>\n",
       "      <th>ENSG00000001036</th>\n",
       "      <td>HGNC:4008</td>\n",
       "      <td>FUCA2</td>\n",
       "      <td>protein_coding</td>\n",
       "      <td>official</td>\n",
       "    </tr>\n",
       "  </tbody>\n",
       "</table>\n",
       "</div>"
      ],
      "text/plain": [
       "                    hgnc_id  symbol     locus_group HUGO_status\n",
       "ensembl_gene_id                                                \n",
       "ENSG00000000003  HGNC:11858  TSPAN6  protein_coding    official\n",
       "ENSG00000000457  HGNC:19285   SCYL3  protein_coding    official\n",
       "ENSG00000000938   HGNC:3697     FGR  protein_coding    official\n",
       "ENSG00000000971   HGNC:4883     CFH  protein_coding    official\n",
       "ENSG00000001036   HGNC:4008   FUCA2  protein_coding    official"
      ]
     },
     "execution_count": 32,
     "metadata": {},
     "output_type": "execute_result"
    }
   ],
   "source": [
    "symbol2ENSdf = pd.read_pickle(here('03_downstream_analysis/02_gene_universe_definition/results/04_selected_gene_list.pkl'))\n",
    "symbol2ENSdf.head()"
   ]
  },
  {
   "cell_type": "code",
   "execution_count": 33,
   "id": "3043b7b6-1ecc-4c73-ab55-b2d8999bf3f6",
   "metadata": {
    "execution": {
     "iopub.execute_input": "2025-06-13T12:51:35.436740Z",
     "iopub.status.busy": "2025-06-13T12:51:35.436375Z",
     "iopub.status.idle": "2025-06-13T12:51:35.554673Z",
     "shell.execute_reply": "2025-06-13T12:51:35.554268Z",
     "shell.execute_reply.started": "2025-06-13T12:51:35.436724Z"
    }
   },
   "outputs": [],
   "source": [
    "top_shap_per_cell_type = {}\n",
    "top_shap_values_per_cell_type = {}\n",
    "for cell_type in CELL_TYPES:\n",
    "    tmp = shap_disease_per_cell_type[cell_type]\n",
    "    highest_shap_values = {}\n",
    "    highest_shaps = {}\n",
    "    for disease in EXT_DISEASES:\n",
    "        highest_shap = tmp.loc[:, disease].nlargest(N_GENES).to_frame()\n",
    "        highest_shap_values[disease] = highest_shap\n",
    "        highest_shaps[disease] = highest_shap.index\n",
    "    top_shap_per_cell_type[cell_type] = pd.DataFrame(highest_shaps)\n",
    "    top_shap_values_per_cell_type[cell_type] = highest_shap_values"
   ]
  },
  {
   "cell_type": "code",
   "execution_count": 34,
   "id": "9c825ffb-4073-4bae-8683-697db147b222",
   "metadata": {
    "execution": {
     "iopub.execute_input": "2025-06-13T12:51:35.555692Z",
     "iopub.status.busy": "2025-06-13T12:51:35.555499Z",
     "iopub.status.idle": "2025-06-13T12:51:35.578542Z",
     "shell.execute_reply": "2025-06-13T12:51:35.578160Z",
     "shell.execute_reply.started": "2025-06-13T12:51:35.555678Z"
    }
   },
   "outputs": [],
   "source": [
    "selected_genes_per_cell_type = {}\n",
    "for cell_type in CELL_TYPES:\n",
    "    tmp = top_shap_per_cell_type[cell_type]\n",
    "    tmp = tmp.to_numpy().flatten()\n",
    "    tmp = np.unique(tmp)\n",
    "    selected_genes_per_cell_type[cell_type] = tmp"
   ]
  },
  {
   "cell_type": "code",
   "execution_count": 35,
   "id": "b7a1efb5-c3cf-4f8b-a1af-76442830005c",
   "metadata": {
    "execution": {
     "iopub.execute_input": "2025-06-13T12:51:35.579209Z",
     "iopub.status.busy": "2025-06-13T12:51:35.579041Z",
     "iopub.status.idle": "2025-06-13T12:51:35.598330Z",
     "shell.execute_reply": "2025-06-13T12:51:35.598027Z",
     "shell.execute_reply.started": "2025-06-13T12:51:35.579195Z"
    }
   },
   "outputs": [
    {
     "data": {
      "text/plain": [
       "{'Mono': 114,\n",
       " 'T_CD4_Naive': 101,\n",
       " 'T_CD4_NonNaive': 102,\n",
       " 'T_CD8_Naive': 110,\n",
       " 'T_CD8_NonNaive': 104,\n",
       " 'B': 100,\n",
       " 'Plasma': 107,\n",
       " 'UTC': 115,\n",
       " 'ILC': 100,\n",
       " 'pDC': 112,\n",
       " 'DC': 118}"
      ]
     },
     "execution_count": 35,
     "metadata": {},
     "output_type": "execute_result"
    }
   ],
   "source": [
    "shap_gene_set_sizes = {k: len(v) for k,v in selected_genes_per_cell_type.items()}\n",
    "shap_gene_set_sizes"
   ]
  },
  {
   "cell_type": "code",
   "execution_count": 36,
   "id": "c6f20ebf-b21b-4723-9f05-ef6320c1606e",
   "metadata": {
    "execution": {
     "iopub.execute_input": "2025-06-13T12:51:37.620988Z",
     "iopub.status.busy": "2025-06-13T12:51:37.620687Z",
     "iopub.status.idle": "2025-06-13T12:51:37.714440Z",
     "shell.execute_reply": "2025-06-13T12:51:37.714077Z",
     "shell.execute_reply.started": "2025-06-13T12:51:37.620972Z"
    }
   },
   "outputs": [],
   "source": [
    "for cell_type in CELL_TYPES:\n",
    "    selection = symbol2ENSdf.reset_index().set_index('symbol').loc[selected_genes_per_cell_type[cell_type]].ensembl_gene_id.values\n",
    "    np.save(f'gene_subsets_{N_GENES}/{cell_type}_shap',selection)"
   ]
  },
  {
   "cell_type": "markdown",
   "id": "dde6f087-bcce-47ab-8b17-49ba174928cb",
   "metadata": {},
   "source": [
    "### Top relevant genes per *studies*"
   ]
  },
  {
   "cell_type": "code",
   "execution_count": 37,
   "id": "d2dcc1a2-826a-4444-8e5c-ecd0f75ab581",
   "metadata": {
    "execution": {
     "iopub.execute_input": "2025-06-13T12:51:39.581265Z",
     "iopub.status.busy": "2025-06-13T12:51:39.580917Z",
     "iopub.status.idle": "2025-06-13T12:51:39.603928Z",
     "shell.execute_reply": "2025-06-13T12:51:39.603416Z",
     "shell.execute_reply.started": "2025-06-13T12:51:39.581247Z"
    }
   },
   "outputs": [],
   "source": [
    "disease_studyID_df = pd.read_pickle(here('01_data_processing/results/01_INFLAMMATION_main_sampleMetadata.pkl'))[['disease','studyID']].drop_duplicates()\n",
    "EXT_STUDIES = disease_studyID_df.loc[disease_studyID_df.disease.isin(EXT_DISEASES), 'studyID'].astype(str).unique()"
   ]
  },
  {
   "cell_type": "code",
   "execution_count": 38,
   "id": "dcec262c-17b1-4e2b-90d1-5de456a34524",
   "metadata": {
    "execution": {
     "iopub.execute_input": "2025-06-13T12:51:39.773156Z",
     "iopub.status.busy": "2025-06-13T12:51:39.772951Z",
     "iopub.status.idle": "2025-06-13T12:51:39.787763Z",
     "shell.execute_reply": "2025-06-13T12:51:39.787456Z",
     "shell.execute_reply.started": "2025-06-13T12:51:39.773140Z"
    }
   },
   "outputs": [
    {
     "data": {
      "text/plain": [
       "array(['SCGT00', 'SCGT01', 'SCGT02', 'SCGT04', 'Reyes2020', 'Cillo2020',\n",
       "       'Zhang2023', 'Schafflick2020', 'Terekhova2023', 'Perez2022',\n",
       "       'Wang2020', 'COMBAT2022', 'Ren2021'], dtype=object)"
      ]
     },
     "execution_count": 38,
     "metadata": {},
     "output_type": "execute_result"
    }
   ],
   "source": [
    "EXT_STUDIES"
   ]
  },
  {
   "cell_type": "code",
   "execution_count": 39,
   "id": "45cedab9-4659-47e7-abf9-0ff1ae97533d",
   "metadata": {
    "execution": {
     "iopub.execute_input": "2025-06-13T12:51:43.245899Z",
     "iopub.status.busy": "2025-06-13T12:51:43.245632Z",
     "iopub.status.idle": "2025-06-13T12:51:43.263678Z",
     "shell.execute_reply": "2025-06-13T12:51:43.263278Z",
     "shell.execute_reply.started": "2025-06-13T12:51:43.245882Z"
    }
   },
   "outputs": [],
   "source": [
    "shap_studies_per_cell_type = dict()"
   ]
  },
  {
   "cell_type": "code",
   "execution_count": 40,
   "id": "087b6131-b8b2-4a91-8c38-6781036b3e62",
   "metadata": {
    "execution": {
     "iopub.execute_input": "2025-06-13T12:51:48.405689Z",
     "iopub.status.busy": "2025-06-13T12:51:48.405467Z",
     "iopub.status.idle": "2025-06-13T12:51:52.612339Z",
     "shell.execute_reply": "2025-06-13T12:51:52.612004Z",
     "shell.execute_reply.started": "2025-06-13T12:51:48.405674Z"
    }
   },
   "outputs": [
    {
     "data": {
      "application/vnd.jupyter.widget-view+json": {
       "model_id": "1a40cc95414f4976ac72970dfe1b9a92",
       "version_major": 2,
       "version_minor": 0
      },
      "text/plain": [
       "  0%|          | 0/11 [00:00<?, ?it/s]"
      ]
     },
     "metadata": {},
     "output_type": "display_data"
    }
   ],
   "source": [
    "for cell_type in  tqdm(CELL_TYPES):\n",
    "    shap_ct_df = generate_shap_data(\n",
    "        cell_type = cell_type,\n",
    "        shap_stats_path = here(f'03_downstream_analysis/08_gene_importance/results/targetY_studyID/shap/shap_vals/total_studyID_{cell_type}_shap_stats.npz'), \n",
    "        adata_path = here(f'03_downstream_analysis/08_gene_importance/data/{cell_type}_adataMerged_SPECTRAgenes.log1p.h5ad'),\n",
    "        gene_symbol_df_path = here('03_downstream_analysis/02_gene_universe_definition/results/04_selected_gene_list.pkl'),\n",
    "        stat = 'mean_abs',\n",
    "        category_col = 'studyID',\n",
    "        expressed_gene_cellTypes_path = here('03_downstream_analysis/08_gene_importance/results/genes_expressing_cells.csv')\n",
    "    )    \n",
    "    filtered_shap = shap_ct_df.loc[:,EXT_STUDIES]\n",
    "    shap_studies_per_cell_type[cell_type]= filtered_shap"
   ]
  },
  {
   "cell_type": "code",
   "execution_count": 41,
   "id": "428f22ec-171a-4199-9992-724c2cc558eb",
   "metadata": {
    "execution": {
     "iopub.execute_input": "2025-06-13T12:51:52.613298Z",
     "iopub.status.busy": "2025-06-13T12:51:52.613120Z",
     "iopub.status.idle": "2025-06-13T12:51:52.630314Z",
     "shell.execute_reply": "2025-06-13T12:51:52.629966Z",
     "shell.execute_reply.started": "2025-06-13T12:51:52.613283Z"
    }
   },
   "outputs": [],
   "source": [
    "def get_gene_set(shap_df, gene_set_size, additional_mask=None):\n",
    "\n",
    "    mask = shap_df.values > 0\n",
    "    \n",
    "    if additional_mask is not None:\n",
    "        mask &= (additional_mask.values)\n",
    "        \n",
    "    masked_df = shap_df.values\n",
    "    masked_df = np.where(mask, masked_df, np.nan)\n",
    "    \n",
    "    gene_rank = (-1*masked_df).argsort(axis=0)\n",
    "    \n",
    "    gene_set = set()\n",
    "    r = 0\n",
    "    while len(gene_set) < gene_set_size:\n",
    "    \n",
    "        top_r_genes = gene_rank[r]\n",
    "        \n",
    "        gene_set.update(shap_df.index[top_r_genes])\n",
    "        \n",
    "        r+=1\n",
    "\n",
    "    return gene_set"
   ]
  },
  {
   "cell_type": "code",
   "execution_count": 42,
   "id": "985b4ba5-6294-412e-a4ed-62d1ca2f1ca9",
   "metadata": {
    "execution": {
     "iopub.execute_input": "2025-06-13T12:51:52.630967Z",
     "iopub.status.busy": "2025-06-13T12:51:52.630773Z",
     "iopub.status.idle": "2025-06-13T12:51:52.678831Z",
     "shell.execute_reply": "2025-06-13T12:51:52.678335Z",
     "shell.execute_reply.started": "2025-06-13T12:51:52.630955Z"
    }
   },
   "outputs": [],
   "source": [
    "selected_genes_studyID_per_cell_type = {}\n",
    "for cell_type in CELL_TYPES:\n",
    "    tmp = shap_studies_per_cell_type[cell_type]\n",
    "    selected_genes_studyID_per_cell_type[cell_type] = np.array(get_gene_set(tmp.loc[:, EXT_STUDIES], shap_gene_set_sizes[cell_type]))"
   ]
  },
  {
   "cell_type": "raw",
   "id": "c2c76ca0-184c-433d-a063-d19da8ec043d",
   "metadata": {
    "execution": {
     "iopub.execute_input": "2025-06-13T09:38:21.924659Z",
     "iopub.status.busy": "2025-06-13T09:38:21.924247Z",
     "iopub.status.idle": "2025-06-13T09:38:22.009726Z",
     "shell.execute_reply": "2025-06-13T09:38:22.009262Z",
     "shell.execute_reply.started": "2025-06-13T09:38:21.924642Z"
    }
   },
   "source": [
    "top_shap_studyID_per_cell_type = {}\n",
    "top10_shap_studyID_values_per_cell_type = {}\n",
    "for cell_type in CELL_TYPES:\n",
    "    tmp = shap_studies_per_cell_type[cell_type]\n",
    "    highest_shap_values = {}\n",
    "    highest_shaps = {}\n",
    "    for studyid in EXT_STUDIES:\n",
    "        highest_shap = tmp.loc[:, studyid].nlargest(N_GENES).to_frame()\n",
    "        highest_shap_values[studyid] = highest_shap\n",
    "        highest_shaps[studyid] = highest_shap.index\n",
    "    top_shap_studyID_per_cell_type[cell_type] = pd.DataFrame(highest_shaps)\n",
    "    top10_shap_studyID_values_per_cell_type[cell_type] = highest_shap_values"
   ]
  },
  {
   "cell_type": "raw",
   "id": "88909f95-20ce-4290-bbf0-b56e3a2e64b7",
   "metadata": {
    "execution": {
     "iopub.execute_input": "2025-06-13T09:38:27.074232Z",
     "iopub.status.busy": "2025-06-13T09:38:27.073791Z",
     "iopub.status.idle": "2025-06-13T09:38:27.098745Z",
     "shell.execute_reply": "2025-06-13T09:38:27.098408Z",
     "shell.execute_reply.started": "2025-06-13T09:38:27.074215Z"
    }
   },
   "source": [
    "selected_genes_studyID_per_cell_type = {}\n",
    "for cell_type in CELL_TYPES:\n",
    "    tmp = top_shap_studyID_per_cell_type[cell_type]\n",
    "    tmp = tmp.to_numpy().flatten()\n",
    "    tmp = np.unique(tmp)\n",
    "    selected_genes_studyID_per_cell_type[cell_type] = tmp"
   ]
  },
  {
   "cell_type": "code",
   "execution_count": 43,
   "id": "c9f16496-0465-4220-bee3-9a7b9d2f65f4",
   "metadata": {
    "execution": {
     "iopub.execute_input": "2025-06-13T12:51:53.133145Z",
     "iopub.status.busy": "2025-06-13T12:51:53.132871Z",
     "iopub.status.idle": "2025-06-13T12:51:53.213779Z",
     "shell.execute_reply": "2025-06-13T12:51:53.213312Z",
     "shell.execute_reply.started": "2025-06-13T12:51:53.133129Z"
    }
   },
   "outputs": [],
   "source": [
    "for cell_type in CELL_TYPES:\n",
    "    selection = symbol2ENSdf.reset_index().set_index('symbol').loc[selected_genes_studyID_per_cell_type[cell_type]].ensembl_gene_id.values\n",
    "    np.save(f'gene_subsets_{N_GENES}/{cell_type}_shap_studyID_samesize',selection)"
   ]
  },
  {
   "cell_type": "code",
   "execution_count": 44,
   "id": "801905e9-2c06-4141-9341-9ecb13a07667",
   "metadata": {
    "execution": {
     "iopub.execute_input": "2025-06-13T12:51:54.590820Z",
     "iopub.status.busy": "2025-06-13T12:51:54.590537Z",
     "iopub.status.idle": "2025-06-13T12:51:54.639248Z",
     "shell.execute_reply": "2025-06-13T12:51:54.638866Z",
     "shell.execute_reply.started": "2025-06-13T12:51:54.590802Z"
    }
   },
   "outputs": [
    {
     "name": "stdout",
     "output_type": "stream",
     "text": [
      "117 141 117\n",
      "105 140 105\n",
      "105 159 104\n",
      "111 166 109\n",
      "104 163 96\n",
      "104 150 98\n",
      "108 151 108\n",
      "115 138 115\n",
      "104 150 104\n",
      "115 176 115\n",
      "122 146 122\n"
     ]
    }
   ],
   "source": [
    "for cell_type in CELL_TYPES:\n",
    "    subset = np.load(f'gene_subsets_{N_GENES}/{cell_type}_shap_studyID_samesize.npy', allow_pickle=True)\n",
    "    orig = np.load(f'gene_subsets_{N_GENES}/{cell_type}_shap_studyID.npy', allow_pickle=True)\n",
    "    print(len(subset), len(orig), len(np.intersect1d(subset, orig)))"
   ]
  },
  {
   "cell_type": "markdown",
   "id": "07dfbab4-7ffc-40b9-afbc-e75f8cf3c4a8",
   "metadata": {},
   "source": [
    "### Random gene selection"
   ]
  },
  {
   "cell_type": "code",
   "execution_count": 45,
   "id": "f2032979-eb71-4990-a131-fce4b77376d8",
   "metadata": {
    "execution": {
     "iopub.execute_input": "2025-06-13T12:52:07.605433Z",
     "iopub.status.busy": "2025-06-13T12:52:07.605166Z",
     "iopub.status.idle": "2025-06-13T12:52:19.667256Z",
     "shell.execute_reply": "2025-06-13T12:52:19.666778Z",
     "shell.execute_reply.started": "2025-06-13T12:52:07.605417Z"
    }
   },
   "outputs": [
    {
     "name": "stdout",
     "output_type": "stream",
     "text": [
      "(612,)\n",
      "(498,)\n",
      "(436,)\n",
      "(335,)\n",
      "(492,)\n",
      "(390,)\n",
      "(431,)\n",
      "(321,)\n",
      "(520,)\n",
      "(416,)\n",
      "(466,)\n",
      "(366,)\n",
      "(592,)\n",
      "(485,)\n",
      "(496,)\n",
      "(381,)\n",
      "(506,)\n",
      "(406,)\n",
      "(522,)\n",
      "(410,)\n",
      "(649,)\n",
      "(531,)\n"
     ]
    }
   ],
   "source": [
    "for cell_type in CELL_TYPES:\n",
    "    adata = ad.read_h5ad(here(f'03_downstream_analysis/08_gene_importance/data/{cell_type}_adataMerged_SPECTRAgenes.log1p.h5ad'), backed='r')\n",
    "    symbols_df = pd.read_pickle(here('03_downstream_analysis/02_gene_universe_definition/results/04_selected_gene_list.pkl'))\n",
    "    symbols_sorted = symbols_df.loc[adata.var_names].symbol.values\n",
    "    perc_gene_expr = pd.read_csv(here('03_downstream_analysis/08_gene_importance/results/genes_expressing_cells.csv'))\n",
    "    perc_gene_expr = perc_gene_expr.astype({'symbol': 'str', '% cells': 'float', 'CellType': 'category'})\n",
    "    well_expressed_symbols = perc_gene_expr.query('`% cells` > 5 & CellType == @cell_type').symbol\n",
    "    symbol_mask = symbols_sorted.isin(well_expressed_symbols)\n",
    "    symbols_sorted = symbols_sorted[symbol_mask]\n",
    "\n",
    "    target_sel_size = len(selected_genes_per_cell_type[cell_type])\n",
    "    print(symbols_sorted.shape)\n",
    "    symbols_sorted = symbols_sorted[~symbols_sorted.isin(selected_genes_per_cell_type[cell_type])]\n",
    "    print(symbols_sorted.shape)\n",
    "\n",
    "    for seed in range(100):\n",
    "        rng = np.random.default_rng(seed)\n",
    "        rand_sel = rng.choice(symbols_sorted, size=target_sel_size, replace=False)\n",
    "        rand_sel = symbols_df.reset_index().set_index('symbol').loc[rand_sel].ensembl_gene_id.values\n",
    "        assert len(np.unique(rand_sel)) == target_sel_size\n",
    "        np.save(f'gene_subsets_{N_GENES}/{cell_type}_{seed}', rand_sel)"
   ]
  },
  {
   "cell_type": "markdown",
   "id": "91783c48-1adb-472a-850d-5e3a88dc13e5",
   "metadata": {},
   "source": [
    "### Intersection between most relevant studyID and disease genes\n",
    "\n",
    "Here we are disentangling genes that are relevant to classify a disease from the ones for classifing studies (i.e., batch effect related)"
   ]
  },
  {
   "cell_type": "markdown",
   "id": "38dd0f99-88c4-46eb-b61e-8b2e3a6df065",
   "metadata": {},
   "source": [
    "**First, we removing genes with an absolute shap value (aggregated on each study were a disease is present) from the list of genes relevant to classify diseases**"
   ]
  },
  {
   "cell_type": "code",
   "execution_count": 46,
   "id": "5dbbab45-38a2-4be5-b0b2-0791a2e954c5",
   "metadata": {
    "execution": {
     "iopub.execute_input": "2025-06-13T12:52:28.678222Z",
     "iopub.status.busy": "2025-06-13T12:52:28.677957Z",
     "iopub.status.idle": "2025-06-13T12:52:28.700183Z",
     "shell.execute_reply": "2025-06-13T12:52:28.699702Z",
     "shell.execute_reply.started": "2025-06-13T12:52:28.678205Z"
    }
   },
   "outputs": [],
   "source": [
    "disease_disease_studyID_filt_df = disease_studyID_df.loc[disease_studyID_df.disease.isin(EXT_DISEASES)].groupby('disease', observed=True).agg(lambda x: list(x))"
   ]
  },
  {
   "cell_type": "code",
   "execution_count": 47,
   "id": "e0fd09e3-6e16-421a-b06e-445c7a125ad1",
   "metadata": {
    "execution": {
     "iopub.execute_input": "2025-06-13T12:52:29.084351Z",
     "iopub.status.busy": "2025-06-13T12:52:29.084142Z",
     "iopub.status.idle": "2025-06-13T12:52:29.237548Z",
     "shell.execute_reply": "2025-06-13T12:52:29.237146Z",
     "shell.execute_reply.started": "2025-06-13T12:52:29.084336Z"
    }
   },
   "outputs": [],
   "source": [
    "for cell_type in CELL_TYPES:\n",
    "    \n",
    "    TOP_genes_disease_celltype_postFilter_symbol = list()\n",
    "\n",
    "    relevant_disease_only = dict()\n",
    "    for d, study_list in disease_disease_studyID_filt_df.iterrows():\n",
    "        \n",
    "        shap_relevant_studies = shap_studies_per_cell_type[cell_type][study_list.studyID].sum(axis=1)\n",
    "        relevant_disease_only[d] = shap_relevant_studies <= np.quantile(shap_relevant_studies, 0.25)\n",
    "\n",
    "    relevant_disease_only = pd.DataFrame.from_dict(relevant_disease_only).loc[:, shap_disease_per_cell_type[cell_type].columns]\n",
    "    \n",
    "    geneset = get_gene_set(shap_disease_per_cell_type[cell_type], shap_gene_set_sizes[cell_type], relevant_disease_only)\n",
    "    \n",
    "    TOP_genes_disease_postFilter_ENSid = symbol2ENSdf[symbol2ENSdf.symbol.isin(geneset)].index.to_numpy()\n",
    "    np.save(f'gene_subsets_{N_GENES}/{cell_type}_shap_disease_NOstudy_samesize',TOP_genes_disease_postFilter_ENSid)      "
   ]
  },
  {
   "cell_type": "code",
   "execution_count": 48,
   "id": "15188abb-cccb-41d0-af41-cddd2fe0fdcf",
   "metadata": {
    "execution": {
     "iopub.execute_input": "2025-06-13T12:52:30.685427Z",
     "iopub.status.busy": "2025-06-13T12:52:30.685171Z",
     "iopub.status.idle": "2025-06-13T12:52:30.727766Z",
     "shell.execute_reply": "2025-06-13T12:52:30.727377Z",
     "shell.execute_reply.started": "2025-06-13T12:52:30.685411Z"
    }
   },
   "outputs": [
    {
     "name": "stdout",
     "output_type": "stream",
     "text": [
      "119 126 119\n",
      "101 123 101\n",
      "103 118 103\n",
      "113 116 107\n",
      "109 119 109\n",
      "103 114 103\n",
      "108 136 108\n",
      "119 130 119\n",
      "102 126 102\n",
      "115 120 115\n",
      "121 131 121\n"
     ]
    }
   ],
   "source": [
    "for cell_type in CELL_TYPES:\n",
    "    subset = np.load(f'gene_subsets_{N_GENES}/{cell_type}_shap_disease_NOstudy_samesize.npy', allow_pickle=True)\n",
    "    orig = np.load(f'gene_subsets_{N_GENES}/{cell_type}_shap_disease_NOstudy.npy', allow_pickle=True)\n",
    "    print(len(subset), len(orig), len(np.intersect1d(subset, orig)))"
   ]
  },
  {
   "cell_type": "raw",
   "id": "2942c6d7-1996-4ce7-a623-ccc0e5442666",
   "metadata": {
    "execution": {
     "iopub.execute_input": "2025-06-13T09:40:28.490042Z",
     "iopub.status.busy": "2025-06-13T09:40:28.489612Z",
     "iopub.status.idle": "2025-06-13T09:40:29.256331Z",
     "shell.execute_reply": "2025-06-13T09:40:29.255898Z",
     "shell.execute_reply.started": "2025-06-13T09:40:28.490027Z"
    }
   },
   "source": [
    "for cell_type in CELL_TYPES:\n",
    "    \n",
    "    TOP_genes_disease_celltype_postFilter_symbol = list()\n",
    "    \n",
    "    for d, study_list in disease_disease_studyID_filt_df.iterrows():\n",
    "        \n",
    "        shap_relevant_studies = shap_studies_per_cell_type[cell_type][study_list.studyID].sum(axis=1)\n",
    "    \n",
    "        gene_NOTrelevant_studyID = shap_relevant_studies[shap_relevant_studies <= np.quantile(shap_relevant_studies, 0.25)].index.tolist()\n",
    "\n",
    "        TOP_genes_disease_celltype_postFilter_symbol.extend(shap_disease_per_cell_type[cell_type][d].loc[gene_NOTrelevant_studyID].nlargest(N_GENES).index.tolist())\n",
    "    \n",
    "    TOP_genes_disease_postFilter_ENSid = symbol2ENSdf[symbol2ENSdf.symbol.isin(set(TOP_genes_disease_celltype_postFilter_symbol))].index.to_numpy()\n",
    "    np.save(f'gene_subsets_{N_GENES}/{cell_type}_shap_disease_NOstudy',TOP_genes_disease_postFilter_ENSid)    "
   ]
  },
  {
   "cell_type": "markdown",
   "id": "ad8c711b-7b51-4272-8246-94292d52cc35",
   "metadata": {},
   "source": [
    "**Second, we removing genes with an absolute shap value (aggregated on each disease included in a study) from the list of genes relevant to classify studies**"
   ]
  },
  {
   "cell_type": "code",
   "execution_count": 49,
   "id": "bb93921e-b581-418b-9d1c-b362e801b997",
   "metadata": {
    "execution": {
     "iopub.execute_input": "2025-06-13T12:52:33.165337Z",
     "iopub.status.busy": "2025-06-13T12:52:33.165091Z",
     "iopub.status.idle": "2025-06-13T12:52:33.185209Z",
     "shell.execute_reply": "2025-06-13T12:52:33.184887Z",
     "shell.execute_reply.started": "2025-06-13T12:52:33.165322Z"
    }
   },
   "outputs": [],
   "source": [
    "disease_studyID_disease_filt_df = disease_studyID_df.loc[disease_studyID_df.disease.isin(EXT_DISEASES)].groupby('studyID', observed=True).agg(lambda x: list(x))"
   ]
  },
  {
   "cell_type": "code",
   "execution_count": 50,
   "id": "aacb21dc-55e6-48f9-8d90-4aa2329bf057",
   "metadata": {
    "execution": {
     "iopub.execute_input": "2025-06-13T12:52:33.393894Z",
     "iopub.status.busy": "2025-06-13T12:52:33.393656Z",
     "iopub.status.idle": "2025-06-13T12:52:33.559897Z",
     "shell.execute_reply": "2025-06-13T12:52:33.559536Z",
     "shell.execute_reply.started": "2025-06-13T12:52:33.393878Z"
    }
   },
   "outputs": [],
   "source": [
    "for cell_type in CELL_TYPES:\n",
    "    \n",
    "    TOP_genes_studyID_celltype_postFilter_symbol = list()\n",
    "\n",
    "    relevant_study_only = dict()\n",
    "    for s, disease_list in disease_studyID_disease_filt_df.iterrows():\n",
    "        \n",
    "        shap_relevant_disease = shap_disease_per_cell_type[cell_type][disease_list.disease].sum(axis=1)\n",
    "        relevant_study_only[s] = shap_relevant_disease <= np.quantile(shap_relevant_disease, 0.25)\n",
    "\n",
    "    relevant_study_only = pd.DataFrame.from_dict(relevant_study_only).loc[:, shap_studies_per_cell_type[cell_type].columns]\n",
    "    \n",
    "    geneset = get_gene_set(shap_studies_per_cell_type[cell_type], shap_gene_set_sizes[cell_type], relevant_study_only)\n",
    "    \n",
    "    TOP_genes_studyID_postFilter_ENSid = symbol2ENSdf[symbol2ENSdf.symbol.isin(geneset)].index.to_numpy()\n",
    "    np.save(f'gene_subsets_{N_GENES}/{cell_type}_shap_studyID_NOdisease_samesize',TOP_genes_studyID_postFilter_ENSid)"
   ]
  },
  {
   "cell_type": "code",
   "execution_count": 51,
   "id": "178dc2b4-17b6-4efa-a566-3adb66b065d6",
   "metadata": {
    "execution": {
     "iopub.execute_input": "2025-06-13T12:52:34.332606Z",
     "iopub.status.busy": "2025-06-13T12:52:34.332378Z",
     "iopub.status.idle": "2025-06-13T12:52:34.497303Z",
     "shell.execute_reply": "2025-06-13T12:52:34.496983Z",
     "shell.execute_reply.started": "2025-06-13T12:52:34.332590Z"
    }
   },
   "outputs": [
    {
     "name": "stdout",
     "output_type": "stream",
     "text": [
      "118 162 111\n",
      "102 144 101\n",
      "104 96 81\n",
      "110 80 62\n",
      "104 83 48\n",
      "101 108 83\n",
      "114 142 101\n",
      "118 121 103\n",
      "104 114 91\n",
      "113 122 104\n",
      "123 159 118\n"
     ]
    }
   ],
   "source": [
    "for cell_type in CELL_TYPES:\n",
    "    subset = np.load(f'gene_subsets_{N_GENES}/{cell_type}_shap_studyID_NOdisease_samesize.npy', allow_pickle=True)\n",
    "    orig = np.load(f'gene_subsets_{N_GENES}/{cell_type}_shap_studyID_NOdisease.npy', allow_pickle=True)\n",
    "    print(len(subset), len(orig), len(np.intersect1d(subset, orig)))"
   ]
  },
  {
   "cell_type": "raw",
   "id": "32a343d5-45fb-4039-bdb4-2b442dcb91aa",
   "metadata": {
    "execution": {
     "iopub.execute_input": "2025-06-13T10:19:27.080002Z",
     "iopub.status.busy": "2025-06-13T10:19:27.079712Z",
     "iopub.status.idle": "2025-06-13T10:19:27.687443Z",
     "shell.execute_reply": "2025-06-13T10:19:27.687079Z",
     "shell.execute_reply.started": "2025-06-13T10:19:27.079987Z"
    }
   },
   "source": [
    "for cell_type in CELL_TYPES:\n",
    "    \n",
    "    TOP_genes_studyID_celltype_postFilter_symbol = list()\n",
    "    \n",
    "    for s, disease_list in disease_studyID_disease_filt_df.iterrows():\n",
    "        \n",
    "        shap_relevant_disease = shap_disease_per_cell_type[cell_type][disease_list.disease].sum(axis=1)\n",
    "    \n",
    "        gene_NOTrelevant_disease = shap_relevant_disease[shap_relevant_disease <= np.quantile(shap_relevant_disease, 0.25)].index.tolist()\n",
    "    \n",
    "        TOP_genes_studyID_celltype_postFilter_symbol.extend(shap_studies_per_cell_type[cell_type][s].loc[gene_NOTrelevant_disease].nlargest(N_GENES).index.tolist())\n",
    "    \n",
    "    TOP_genes_studyID_postFilter_ENSid = symbol2ENSdf[symbol2ENSdf.symbol.isin(set(TOP_genes_studyID_celltype_postFilter_symbol))].index.to_numpy()\n",
    "    np.save(f'gene_subsets_{N_GENES}/{cell_type}_shap_studyID_NOdisease',TOP_genes_studyID_postFilter_ENSid)\n",
    "    "
   ]
  },
  {
   "cell_type": "raw",
   "id": "f9e86c60-6b2d-4284-adb5-271bf23c0983",
   "metadata": {
    "execution": {
     "iopub.execute_input": "2025-03-25T11:48:53.281188Z",
     "iopub.status.busy": "2025-03-25T11:48:53.280927Z",
     "iopub.status.idle": "2025-03-25T11:49:03.724945Z",
     "shell.execute_reply": "2025-03-25T11:49:03.724527Z",
     "shell.execute_reply.started": "2025-03-25T11:48:53.281173Z"
    }
   },
   "source": [
    "sel_size = {}\n",
    "for cell_type in CELL_TYPES:\n",
    "    adata = ad.read_h5ad(here(f'03_downstream_analysis/08_gene_importance/data/{cell_type}_adataMerged_SPECTRAgenes.log1p.h5ad'), backed='r')\n",
    "    symbols_df = pd.read_pickle(here('03_downstream_analysis/02_gene_universe_definition/results/04_selected_gene_list.pkl'))\n",
    "    symbols_sorted = symbols_df.loc[adata.var_names].symbol.values\n",
    "    perc_gene_expr = pd.read_csv(here('03_downstream_analysis/08_gene_importance/results/genes_expressing_cells.csv'))\n",
    "    perc_gene_expr = perc_gene_expr.astype({'symbol': 'str', '% cells': 'float', 'CellType': 'category'})\n",
    "    well_expressed_symbols = perc_gene_expr.query('`% cells` > 5 & CellType == @cell_type').symbol\n",
    "    symbol_mask = symbols_sorted.isin(well_expressed_symbols)\n",
    "\n",
    "    sel_size[cell_type] = len(selected_genes_per_cell_type[cell_type]) / np.sum(symbol_mask)"
   ]
  },
  {
   "cell_type": "raw",
   "id": "0d7937d9-6fba-4725-8aef-d4a575db954e",
   "metadata": {},
   "source": [
    "pd.DataFrame.from_dict([sel_size]).T.to_csv(f'sel_percent_{N_GENES}.csv')"
   ]
  },
  {
   "cell_type": "raw",
   "id": "23450c6f-e905-41d4-b93e-091f18649e65",
   "metadata": {
    "execution": {
     "iopub.execute_input": "2025-03-25T11:50:09.954388Z",
     "iopub.status.busy": "2025-03-25T11:50:09.954037Z",
     "iopub.status.idle": "2025-03-25T11:50:20.515184Z",
     "shell.execute_reply": "2025-03-25T11:50:20.514816Z",
     "shell.execute_reply.started": "2025-03-25T11:50:09.954372Z"
    }
   },
   "source": [
    "for cell_type in CELL_TYPES:\n",
    "    for disease in EXT_DISEASES:\n",
    "        array = top_shap_values_per_cell_type[cell_type][disease]\n",
    "        \n",
    "        plt.figure(figsize = (15,10))\n",
    "        array.plot(kind='bar', colormap='tab20')\n",
    "        plt.title(cell_type)\n",
    "        plt.ylabel('Top10 genes ranked by total SHAP')\n",
    "        plt.xlabel('Genes')\n",
    "        plt.show() "
   ]
  },
  {
   "cell_type": "raw",
   "id": "cbc7d55a-7928-441f-9851-f3676700cb59",
   "metadata": {},
   "source": []
  },
  {
   "cell_type": "code",
   "execution_count": null,
   "id": "7796e055-6402-480f-b7e3-aae69a95f094",
   "metadata": {},
   "outputs": [],
   "source": []
  }
 ],
 "metadata": {
  "kernelspec": {
   "display_name": "Python 3 (ipykernel)",
   "language": "python",
   "name": "python3"
  },
  "language_info": {
   "codemirror_mode": {
    "name": "ipython",
    "version": 3
   },
   "file_extension": ".py",
   "mimetype": "text/x-python",
   "name": "python",
   "nbconvert_exporter": "python",
   "pygments_lexer": "ipython3",
   "version": "3.12.5"
  }
 },
 "nbformat": 4,
 "nbformat_minor": 5
}
