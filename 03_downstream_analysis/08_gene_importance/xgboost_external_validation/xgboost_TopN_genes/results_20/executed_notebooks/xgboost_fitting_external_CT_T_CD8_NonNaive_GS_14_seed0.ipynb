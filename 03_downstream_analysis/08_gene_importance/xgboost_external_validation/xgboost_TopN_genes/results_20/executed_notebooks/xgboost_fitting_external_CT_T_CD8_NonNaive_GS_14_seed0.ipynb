{
 "cells": [
  {
   "cell_type": "code",
   "execution_count": 1,
   "id": "f6b73e5a",
   "metadata": {
    "editable": true,
    "execution": {
     "iopub.execute_input": "2025-05-15T16:08:11.078056Z",
     "iopub.status.busy": "2025-05-15T16:08:11.077720Z",
     "iopub.status.idle": "2025-05-15T16:08:11.080587Z",
     "shell.execute_reply": "2025-05-15T16:08:11.080254Z"
    },
    "papermill": {
     "duration": 0.013795,
     "end_time": "2025-05-15T16:08:11.083304",
     "exception": false,
     "start_time": "2025-05-15T16:08:11.069509",
     "status": "completed"
    },
    "slideshow": {
     "slide_type": ""
    },
    "tags": [
     "parameters"
    ]
   },
   "outputs": [],
   "source": [
    "CELL_TYPE = 'pDC'\n",
    "N_GENES: int = 20\n",
    "SEED = 'shap_studyID' #'disease_NOstudy' 'study_NOdisease' or 'int' or 'shap_studyID'\n",
    "TEST_SPLIT_IDX: int = 1 #[0,4]"
   ]
  },
  {
   "cell_type": "code",
   "execution_count": 2,
   "id": "0a28e769",
   "metadata": {
    "execution": {
     "iopub.execute_input": "2025-05-15T16:08:11.098041Z",
     "iopub.status.busy": "2025-05-15T16:08:11.097863Z",
     "iopub.status.idle": "2025-05-15T16:08:11.099900Z",
     "shell.execute_reply": "2025-05-15T16:08:11.099586Z"
    },
    "papermill": {
     "duration": 0.010881,
     "end_time": "2025-05-15T16:08:11.100774",
     "exception": false,
     "start_time": "2025-05-15T16:08:11.089893",
     "status": "completed"
    },
    "tags": [
     "injected-parameters"
    ]
   },
   "outputs": [],
   "source": [
    "# Parameters\n",
    "CELL_TYPE = \"T_CD8_NonNaive\"\n",
    "SEED = 14\n",
    "TEST_SPLIT_IDX = 0\n"
   ]
  },
  {
   "cell_type": "code",
   "execution_count": 3,
   "id": "0aceccb5",
   "metadata": {
    "execution": {
     "iopub.execute_input": "2025-05-15T16:08:11.115036Z",
     "iopub.status.busy": "2025-05-15T16:08:11.114797Z",
     "iopub.status.idle": "2025-05-15T16:08:11.116825Z",
     "shell.execute_reply": "2025-05-15T16:08:11.116509Z"
    },
    "papermill": {
     "duration": 0.010864,
     "end_time": "2025-05-15T16:08:11.117688",
     "exception": false,
     "start_time": "2025-05-15T16:08:11.106824",
     "status": "completed"
    },
    "tags": []
   },
   "outputs": [],
   "source": [
    "N_SPLITS: int = 5\n",
    "N_TRIALS: int = 50"
   ]
  },
  {
   "cell_type": "code",
   "execution_count": 4,
   "id": "f874ba8a",
   "metadata": {
    "execution": {
     "iopub.execute_input": "2025-05-15T16:08:11.133931Z",
     "iopub.status.busy": "2025-05-15T16:08:11.133764Z",
     "iopub.status.idle": "2025-05-15T16:08:12.668470Z",
     "shell.execute_reply": "2025-05-15T16:08:12.667981Z"
    },
    "papermill": {
     "duration": 1.546231,
     "end_time": "2025-05-15T16:08:12.670936",
     "exception": false,
     "start_time": "2025-05-15T16:08:11.124705",
     "status": "completed"
    },
    "tags": []
   },
   "outputs": [],
   "source": [
    "import os\n",
    "import sys\n",
    "from pyprojroot.here import here\n",
    "import pandas as pd\n",
    "import anndata as ad\n",
    "import numpy as np\n",
    "import math\n",
    "from sklearn.model_selection import StratifiedGroupKFold\n",
    "from sklearn.preprocessing import LabelEncoder\n",
    "from sklearn.metrics import f1_score\n",
    "import matplotlib.pyplot as plt\n",
    "import seaborn as sns\n",
    "from itertools import product\n",
    "from sklearn.metrics import balanced_accuracy_score, f1_score\n",
    "import optuna\n",
    "\n",
    "import joblib\n",
    "import pickle\n",
    "import datetime\n",
    "\n",
    "import collections\n",
    "\n",
    "import xgboost\n",
    "from sklearn.preprocessing import LabelEncoder\n",
    "\n",
    "import scipy.sparse as ssp\n",
    "import joblib\n",
    "\n",
    "from dotenv import load_dotenv"
   ]
  },
  {
   "cell_type": "code",
   "execution_count": 5,
   "id": "a0166c30",
   "metadata": {
    "execution": {
     "iopub.execute_input": "2025-05-15T16:08:12.686852Z",
     "iopub.status.busy": "2025-05-15T16:08:12.686254Z",
     "iopub.status.idle": "2025-05-15T16:08:12.692371Z",
     "shell.execute_reply": "2025-05-15T16:08:12.692046Z"
    },
    "papermill": {
     "duration": 0.01676,
     "end_time": "2025-05-15T16:08:12.694318",
     "exception": false,
     "start_time": "2025-05-15T16:08:12.677558",
     "status": "completed"
    },
    "tags": []
   },
   "outputs": [
    {
     "data": {
      "text/plain": [
       "True"
      ]
     },
     "execution_count": 5,
     "metadata": {},
     "output_type": "execute_result"
    }
   ],
   "source": [
    "load_dotenv()"
   ]
  },
  {
   "cell_type": "markdown",
   "id": "8d136bf6",
   "metadata": {
    "papermill": {
     "duration": 0.007097,
     "end_time": "2025-05-15T16:08:12.708411",
     "exception": false,
     "start_time": "2025-05-15T16:08:12.701314",
     "status": "completed"
    },
    "tags": []
   },
   "source": [
    "# LOAD DATASET"
   ]
  },
  {
   "cell_type": "code",
   "execution_count": 6,
   "id": "edd206e8",
   "metadata": {
    "execution": {
     "iopub.execute_input": "2025-05-15T16:08:12.722169Z",
     "iopub.status.busy": "2025-05-15T16:08:12.721837Z",
     "iopub.status.idle": "2025-05-15T16:08:13.203148Z",
     "shell.execute_reply": "2025-05-15T16:08:13.202635Z"
    },
    "papermill": {
     "duration": 0.489983,
     "end_time": "2025-05-15T16:08:13.204738",
     "exception": false,
     "start_time": "2025-05-15T16:08:12.714755",
     "status": "completed"
    },
    "tags": []
   },
   "outputs": [],
   "source": [
    "train_adata = ad.read_h5ad(\n",
    "    here(f'03_downstream_analysis/08_gene_importance/xgboost_external_validation/xgboost_TopN_genes/data_cellTypes/EXTERNAL_{CELL_TYPE}.filtered.log1p.h5ad')\n",
    ")"
   ]
  },
  {
   "cell_type": "code",
   "execution_count": 7,
   "id": "2cafc396",
   "metadata": {
    "execution": {
     "iopub.execute_input": "2025-05-15T16:08:13.217377Z",
     "iopub.status.busy": "2025-05-15T16:08:13.217171Z",
     "iopub.status.idle": "2025-05-15T16:08:13.242942Z",
     "shell.execute_reply": "2025-05-15T16:08:13.242594Z"
    },
    "papermill": {
     "duration": 0.032792,
     "end_time": "2025-05-15T16:08:13.243800",
     "exception": false,
     "start_time": "2025-05-15T16:08:13.211008",
     "status": "completed"
    },
    "tags": []
   },
   "outputs": [
    {
     "name": "stdout",
     "output_type": "stream",
     "text": [
      "['ENSG00000105835' 'ENSG00000164674' 'ENSG00000078043' 'ENSG00000163659'\n",
      " 'ENSG00000066136' 'ENSG00000065978' 'ENSG00000127152' 'ENSG00000125534'\n",
      " 'ENSG00000162704' 'ENSG00000125743' 'ENSG00000166747' 'ENSG00000183508'\n",
      " 'ENSG00000026025' 'ENSG00000165272' 'ENSG00000101695' 'ENSG00000152518'\n",
      " 'ENSG00000137441' 'ENSG00000101347' 'ENSG00000276070' 'ENSG00000116171'\n",
      " 'ENSG00000186810' 'ENSG00000121858' 'ENSG00000158517' 'ENSG00000179295'\n",
      " 'ENSG00000104312' 'ENSG00000111537' 'ENSG00000085265' 'ENSG00000142669'\n",
      " 'ENSG00000131437' 'ENSG00000175482' 'ENSG00000073861' 'ENSG00000172543'\n",
      " 'ENSG00000204287' 'ENSG00000100097' 'ENSG00000240065' 'ENSG00000110324'\n",
      " 'ENSG00000150045' 'ENSG00000164104' 'ENSG00000132002' 'ENSG00000111335'\n",
      " 'ENSG00000106799' 'ENSG00000186395' 'ENSG00000184557' 'ENSG00000197540'\n",
      " 'ENSG00000099204' 'ENSG00000152495' 'ENSG00000019582' 'ENSG00000165280'\n",
      " 'ENSG00000164307' 'ENSG00000231925' 'ENSG00000117281' 'ENSG00000243678'\n",
      " 'ENSG00000002549' 'ENSG00000182287' 'ENSG00000131018' 'ENSG00000179218'\n",
      " 'ENSG00000109321' 'ENSG00000204267' 'ENSG00000100100' 'ENSG00000228474'\n",
      " 'ENSG00000159674' 'ENSG00000113263' 'ENSG00000089280' 'ENSG00000169442'\n",
      " 'ENSG00000175203' 'ENSG00000015475' 'ENSG00000172936' 'ENSG00000141506'\n",
      " 'ENSG00000100300' 'ENSG00000152234' 'ENSG00000122862' 'ENSG00000172005'\n",
      " 'ENSG00000042753' 'ENSG00000271503' 'ENSG00000145247' 'ENSG00000182866'\n",
      " 'ENSG00000204472' 'ENSG00000111640' 'ENSG00000131981' 'ENSG00000157601'\n",
      " 'ENSG00000277632' 'ENSG00000183486' 'ENSG00000231389' 'ENSG00000176986'\n",
      " 'ENSG00000147443' 'ENSG00000168894' 'ENSG00000135821' 'ENSG00000254087'\n",
      " 'ENSG00000163508' 'ENSG00000160213' 'ENSG00000090554' 'ENSG00000143184'\n",
      " 'ENSG00000134954' 'ENSG00000137965' 'ENSG00000100450' 'ENSG00000170581'\n",
      " 'ENSG00000082074' 'ENSG00000100902' 'ENSG00000163131' 'ENSG00000168394'\n",
      " 'ENSG00000057657' 'ENSG00000144802' 'ENSG00000071073' 'ENSG00000139192']\n"
     ]
    }
   ],
   "source": [
    "if SEED != 'all':\n",
    "    gene_subset = np.load(here(f'03_downstream_analysis/08_gene_importance/xgboost_external_validation/shap_gene_selection/gene_subsets_{N_GENES}/{CELL_TYPE}_{SEED}.npy'), allow_pickle=True)\n",
    "    train_adata = train_adata[:,gene_subset]\n",
    "    print(gene_subset)\n",
    "elif SEED == 'all':\n",
    "    print('Using all genes')\n",
    "else:\n",
    "    raise ValueError()"
   ]
  },
  {
   "cell_type": "code",
   "execution_count": 8,
   "id": "ca920d60",
   "metadata": {
    "execution": {
     "iopub.execute_input": "2025-05-15T16:08:13.257125Z",
     "iopub.status.busy": "2025-05-15T16:08:13.256932Z",
     "iopub.status.idle": "2025-05-15T16:08:13.259935Z",
     "shell.execute_reply": "2025-05-15T16:08:13.259615Z"
    },
    "papermill": {
     "duration": 0.011861,
     "end_time": "2025-05-15T16:08:13.261679",
     "exception": false,
     "start_time": "2025-05-15T16:08:13.249818",
     "status": "completed"
    },
    "tags": []
   },
   "outputs": [
    {
     "data": {
      "text/plain": [
       "(72200, 104)"
      ]
     },
     "execution_count": 8,
     "metadata": {},
     "output_type": "execute_result"
    }
   ],
   "source": [
    "train_adata.shape"
   ]
  },
  {
   "cell_type": "code",
   "execution_count": 9,
   "id": "42945de5",
   "metadata": {
    "execution": {
     "iopub.execute_input": "2025-05-15T16:08:13.276736Z",
     "iopub.status.busy": "2025-05-15T16:08:13.276445Z",
     "iopub.status.idle": "2025-05-15T16:08:13.280112Z",
     "shell.execute_reply": "2025-05-15T16:08:13.279801Z"
    },
    "papermill": {
     "duration": 0.01254,
     "end_time": "2025-05-15T16:08:13.281032",
     "exception": false,
     "start_time": "2025-05-15T16:08:13.268492",
     "status": "completed"
    },
    "tags": []
   },
   "outputs": [
    {
     "data": {
      "text/plain": [
       "['RA', 'COVID', 'healthy', 'HIV', 'cirrhosis', 'CD', 'SLE', 'sepsis']\n",
       "Categories (8, object): ['CD', 'COVID', 'HIV', 'RA', 'SLE', 'cirrhosis', 'healthy', 'sepsis']"
      ]
     },
     "execution_count": 9,
     "metadata": {},
     "output_type": "execute_result"
    }
   ],
   "source": [
    "train_adata.obs.disease.unique()"
   ]
  },
  {
   "cell_type": "code",
   "execution_count": 10,
   "id": "9def1b59",
   "metadata": {
    "execution": {
     "iopub.execute_input": "2025-05-15T16:08:13.295855Z",
     "iopub.status.busy": "2025-05-15T16:08:13.295576Z",
     "iopub.status.idle": "2025-05-15T16:08:13.299222Z",
     "shell.execute_reply": "2025-05-15T16:08:13.298907Z"
    },
    "papermill": {
     "duration": 0.012394,
     "end_time": "2025-05-15T16:08:13.300235",
     "exception": false,
     "start_time": "2025-05-15T16:08:13.287841",
     "status": "completed"
    },
    "tags": []
   },
   "outputs": [
    {
     "data": {
      "text/plain": [
       "['SCGT00val_I036016_T0', 'SCGT00val_I036021_T0', 'SCGT00val_I036028_T0', 'SCGT00val_I036015_T0', 'SCGT00val_I0364_T0', ..., '10XGenomics_10XHC2_T0', '10XGenomics_10XHC3_T0', '10XGenomics_10XHC5_T0', '10XGenomics_10XHC7_T0', '10XGenomics_10XHC8_T0']\n",
       "Length: 86\n",
       "Categories (86, object): ['10XGenomics_10XHC1_T0', '10XGenomics_10XHC2_T0', '10XGenomics_10XHC3_T0', '10XGenomics_10XHC4_T0', ..., 'Savage2021_BRISL6_T0', 'Savage2021_BRISL7_T0', 'Savage2021_PIDA_T0', 'Savage2021_PIDB_T0']"
      ]
     },
     "execution_count": 10,
     "metadata": {},
     "output_type": "execute_result"
    }
   ],
   "source": [
    "train_adata.obs.sampleID.unique()"
   ]
  },
  {
   "cell_type": "code",
   "execution_count": 11,
   "id": "a58e9fdd",
   "metadata": {
    "execution": {
     "iopub.execute_input": "2025-05-15T16:08:13.314295Z",
     "iopub.status.busy": "2025-05-15T16:08:13.314022Z",
     "iopub.status.idle": "2025-05-15T16:08:13.508453Z",
     "shell.execute_reply": "2025-05-15T16:08:13.508075Z"
    },
    "papermill": {
     "duration": 0.204783,
     "end_time": "2025-05-15T16:08:13.511351",
     "exception": false,
     "start_time": "2025-05-15T16:08:13.306568",
     "status": "completed"
    },
    "tags": []
   },
   "outputs": [],
   "source": [
    "all_idxs = np.arange(train_adata.obs.shape[0])\n",
    "left_out_splits = [s[1] for s in StratifiedGroupKFold(n_splits=N_SPLITS).split(all_idxs, train_adata.obs.disease, train_adata.obs.sampleID)]"
   ]
  },
  {
   "cell_type": "code",
   "execution_count": 12,
   "id": "6d5d2732",
   "metadata": {
    "execution": {
     "iopub.execute_input": "2025-05-15T16:08:13.527390Z",
     "iopub.status.busy": "2025-05-15T16:08:13.527193Z",
     "iopub.status.idle": "2025-05-15T16:08:13.530582Z",
     "shell.execute_reply": "2025-05-15T16:08:13.530257Z"
    },
    "papermill": {
     "duration": 0.013429,
     "end_time": "2025-05-15T16:08:13.531789",
     "exception": false,
     "start_time": "2025-05-15T16:08:13.518360",
     "status": "completed"
    },
    "tags": []
   },
   "outputs": [
    {
     "data": {
      "text/plain": [
       "([2, 3, 4], 1, 0)"
      ]
     },
     "execution_count": 12,
     "metadata": {},
     "output_type": "execute_result"
    }
   ],
   "source": [
    "TRAIN_SPLIT_IDXS = [0,1,2,3,4]\n",
    "VAL_SPLIT_IDX = (TEST_SPLIT_IDX + 1) % 5\n",
    "TRAIN_SPLIT_IDXS.remove(TEST_SPLIT_IDX)\n",
    "TRAIN_SPLIT_IDXS.remove(VAL_SPLIT_IDX)\n",
    "TRAIN_SPLIT_IDXS, VAL_SPLIT_IDX, TEST_SPLIT_IDX"
   ]
  },
  {
   "cell_type": "code",
   "execution_count": 13,
   "id": "f9a9888c",
   "metadata": {
    "execution": {
     "iopub.execute_input": "2025-05-15T16:08:13.547770Z",
     "iopub.status.busy": "2025-05-15T16:08:13.547475Z",
     "iopub.status.idle": "2025-05-15T16:08:13.549896Z",
     "shell.execute_reply": "2025-05-15T16:08:13.549577Z"
    },
    "papermill": {
     "duration": 0.011567,
     "end_time": "2025-05-15T16:08:13.550821",
     "exception": false,
     "start_time": "2025-05-15T16:08:13.539254",
     "status": "completed"
    },
    "tags": []
   },
   "outputs": [],
   "source": [
    "train_idxs = np.concatenate([left_out_splits[idx] for idx in TRAIN_SPLIT_IDXS])\n",
    "val_idxs = left_out_splits[VAL_SPLIT_IDX]\n",
    "test_idxs = left_out_splits[TEST_SPLIT_IDX]"
   ]
  },
  {
   "cell_type": "markdown",
   "id": "e48cae8e",
   "metadata": {
    "papermill": {
     "duration": 0.006943,
     "end_time": "2025-05-15T16:08:13.564580",
     "exception": false,
     "start_time": "2025-05-15T16:08:13.557637",
     "status": "completed"
    },
    "tags": []
   },
   "source": [
    "### SUBSET DATASET INTO TRAIN/TEST/VAL SPLITS"
   ]
  },
  {
   "cell_type": "code",
   "execution_count": 14,
   "id": "7b66cc24",
   "metadata": {
    "execution": {
     "iopub.execute_input": "2025-05-15T16:08:13.580296Z",
     "iopub.status.busy": "2025-05-15T16:08:13.579992Z",
     "iopub.status.idle": "2025-05-15T16:08:13.760996Z",
     "shell.execute_reply": "2025-05-15T16:08:13.760622Z"
    },
    "papermill": {
     "duration": 0.190026,
     "end_time": "2025-05-15T16:08:13.761939",
     "exception": false,
     "start_time": "2025-05-15T16:08:13.571913",
     "status": "completed"
    },
    "tags": []
   },
   "outputs": [
    {
     "data": {
      "text/plain": [
       "((42569, 104), (15107, 104), (14524, 104))"
      ]
     },
     "execution_count": 14,
     "metadata": {},
     "output_type": "execute_result"
    }
   ],
   "source": [
    "X_train = train_adata.X[train_idxs]\n",
    "X_test = train_adata.X[test_idxs]\n",
    "X_val = train_adata.X[val_idxs]\n",
    "X_train.shape, X_test.shape, X_val.shape"
   ]
  },
  {
   "cell_type": "code",
   "execution_count": 15,
   "id": "c77cb2b6",
   "metadata": {
    "execution": {
     "iopub.execute_input": "2025-05-15T16:08:13.778841Z",
     "iopub.status.busy": "2025-05-15T16:08:13.778619Z",
     "iopub.status.idle": "2025-05-15T16:08:13.790331Z",
     "shell.execute_reply": "2025-05-15T16:08:13.789979Z"
    },
    "papermill": {
     "duration": 0.020901,
     "end_time": "2025-05-15T16:08:13.791279",
     "exception": false,
     "start_time": "2025-05-15T16:08:13.770378",
     "status": "completed"
    },
    "tags": []
   },
   "outputs": [
    {
     "data": {
      "text/plain": [
       "((42569,), (15107,), (14524,))"
      ]
     },
     "execution_count": 15,
     "metadata": {},
     "output_type": "execute_result"
    }
   ],
   "source": [
    "y_train = train_adata.obs.iloc[train_idxs].disease.values.astype(str)\n",
    "y_test = train_adata.obs.iloc[test_idxs].disease.values.astype(str)\n",
    "y_val = train_adata.obs.iloc[val_idxs].disease.values.astype(str)\n",
    "y_train.shape, y_test.shape, y_val.shape"
   ]
  },
  {
   "cell_type": "code",
   "execution_count": 16,
   "id": "191a4887",
   "metadata": {
    "execution": {
     "iopub.execute_input": "2025-05-15T16:08:13.807709Z",
     "iopub.status.busy": "2025-05-15T16:08:13.807412Z",
     "iopub.status.idle": "2025-05-15T16:08:13.825907Z",
     "shell.execute_reply": "2025-05-15T16:08:13.825574Z"
    },
    "papermill": {
     "duration": 0.027568,
     "end_time": "2025-05-15T16:08:13.827210",
     "exception": false,
     "start_time": "2025-05-15T16:08:13.799642",
     "status": "completed"
    },
    "tags": []
   },
   "outputs": [],
   "source": [
    "lenc = LabelEncoder()\n",
    "y_train_enc = lenc.fit_transform(y_train)\n",
    "y_val_enc = lenc.transform(y_val)\n",
    "y_test_enc = lenc.transform(y_test)"
   ]
  },
  {
   "cell_type": "markdown",
   "id": "ffec2311",
   "metadata": {
    "papermill": {
     "duration": 0.006791,
     "end_time": "2025-05-15T16:08:13.841574",
     "exception": false,
     "start_time": "2025-05-15T16:08:13.834783",
     "status": "completed"
    },
    "tags": []
   },
   "source": [
    "### GENERATE F1 "
   ]
  },
  {
   "cell_type": "code",
   "execution_count": 17,
   "id": "d03f0718",
   "metadata": {
    "execution": {
     "iopub.execute_input": "2025-05-15T16:08:13.859351Z",
     "iopub.status.busy": "2025-05-15T16:08:13.859173Z",
     "iopub.status.idle": "2025-05-15T16:08:13.861556Z",
     "shell.execute_reply": "2025-05-15T16:08:13.861169Z"
    },
    "papermill": {
     "duration": 0.013912,
     "end_time": "2025-05-15T16:08:13.862601",
     "exception": false,
     "start_time": "2025-05-15T16:08:13.848689",
     "status": "completed"
    },
    "tags": []
   },
   "outputs": [],
   "source": [
    "def custom_f1_score(y_true, y_pred):\n",
    "    return -f1_score(y_true, y_pred.argmax(1), average='weighted')"
   ]
  },
  {
   "cell_type": "code",
   "execution_count": 18,
   "id": "4d2de909",
   "metadata": {
    "execution": {
     "iopub.execute_input": "2025-05-15T16:08:13.880252Z",
     "iopub.status.busy": "2025-05-15T16:08:13.880039Z",
     "iopub.status.idle": "2025-05-15T16:08:13.883827Z",
     "shell.execute_reply": "2025-05-15T16:08:13.883481Z"
    },
    "papermill": {
     "duration": 0.015082,
     "end_time": "2025-05-15T16:08:13.885936",
     "exception": false,
     "start_time": "2025-05-15T16:08:13.870854",
     "status": "completed"
    },
    "tags": []
   },
   "outputs": [],
   "source": [
    "eval_metric=custom_f1_score\n",
    "eval_metric_name='custom_f1_score'\n",
    "\n",
    "def objective(trial):\n",
    "    params = {\n",
    "        'n_estimators': 1500,\n",
    "        'max_depth': trial.suggest_int('max_depth', 3, 20),\n",
    "        'min_child_weight': trial.suggest_int('min_child_weight', 1, 250),\n",
    "        'subsample': trial.suggest_float('subsample', 0.1, 1.0),\n",
    "        'colsample_bynode': trial.suggest_float('colsample_bynode', 0.1, 1.0),\n",
    "        'learning_rate': trial.suggest_float('learning_rate', 1e-3, 5e-1, log=True),\n",
    "    }\n",
    "    pruning_callback = optuna.integration.XGBoostPruningCallback(trial, f'validation_0-{eval_metric_name}')\n",
    "    es_callback = xgboost.callback.EarlyStopping(20, min_delta=0.001)\n",
    "    xgb = xgboost.XGBClassifier(\n",
    "        eval_metric=eval_metric,\n",
    "        callbacks=[pruning_callback, es_callback],\n",
    "        n_jobs=5,\n",
    "        **params\n",
    "    )\n",
    "    xgb.fit(\n",
    "        X_train, \n",
    "        y_train_enc, \n",
    "        verbose=0,\n",
    "        eval_set=[(X_val, y_val_enc)],\n",
    "    )\n",
    "    trial.set_user_attr('best_iteration', xgb.best_iteration)\n",
    "\n",
    "    return xgb.best_score"
   ]
  },
  {
   "cell_type": "code",
   "execution_count": 19,
   "id": "d5817a46",
   "metadata": {
    "execution": {
     "iopub.execute_input": "2025-05-15T16:08:13.902561Z",
     "iopub.status.busy": "2025-05-15T16:08:13.902255Z",
     "iopub.status.idle": "2025-05-15T16:16:35.266019Z",
     "shell.execute_reply": "2025-05-15T16:16:35.265636Z"
    },
    "papermill": {
     "duration": 501.373053,
     "end_time": "2025-05-15T16:16:35.266920",
     "exception": false,
     "start_time": "2025-05-15T16:08:13.893867",
     "status": "completed"
    },
    "scrolled": true,
    "tags": []
   },
   "outputs": [
    {
     "name": "stderr",
     "output_type": "stream",
     "text": [
      "[I 2025-05-15 18:08:13,904] A new study created in memory with name: no-name-debb4668-3b16-41d5-bb3a-ea9e4062ae3b\n"
     ]
    },
    {
     "name": "stderr",
     "output_type": "stream",
     "text": [
      "[I 2025-05-15 18:08:18,651] Trial 0 finished with value: -0.4978 and parameters: {'max_depth': 9, 'min_child_weight': 238, 'subsample': 0.7587945476302645, 'colsample_bynode': 0.6387926357773329, 'learning_rate': 0.0026368755339723046}. Best is trial 0 with value: -0.4978.\n"
     ]
    },
    {
     "name": "stderr",
     "output_type": "stream",
     "text": [
      "[I 2025-05-15 18:08:58,342] Trial 1 finished with value: -0.624483 and parameters: {'max_depth': 5, 'min_child_weight': 15, 'subsample': 0.8795585311974417, 'colsample_bynode': 0.6410035105688879, 'learning_rate': 0.08148293210105287}. Best is trial 1 with value: -0.624483.\n"
     ]
    },
    {
     "name": "stderr",
     "output_type": "stream",
     "text": [
      "[I 2025-05-15 18:09:01,477] Trial 2 finished with value: -0.461216 and parameters: {'max_depth': 3, 'min_child_weight': 243, 'subsample': 0.8491983767203796, 'colsample_bynode': 0.29110519961044856, 'learning_rate': 0.003095566460242371}. Best is trial 1 with value: -0.624483.\n"
     ]
    },
    {
     "name": "stderr",
     "output_type": "stream",
     "text": [
      "[I 2025-05-15 18:09:48,403] Trial 3 finished with value: -0.54408 and parameters: {'max_depth': 6, 'min_child_weight': 77, 'subsample': 0.5722807884690141, 'colsample_bynode': 0.48875051677790415, 'learning_rate': 0.006109683510122491}. Best is trial 1 with value: -0.624483.\n"
     ]
    },
    {
     "name": "stderr",
     "output_type": "stream",
     "text": [
      "[I 2025-05-15 18:11:15,611] Trial 4 finished with value: -0.614499 and parameters: {'max_depth': 14, 'min_child_weight': 35, 'subsample': 0.3629301836816964, 'colsample_bynode': 0.4297256589643226, 'learning_rate': 0.01701841881702917}. Best is trial 1 with value: -0.624483.\n"
     ]
    },
    {
     "name": "stderr",
     "output_type": "stream",
     "text": [
      "[I 2025-05-15 18:11:21,905] Trial 5 pruned. Trial was pruned at iteration 29.\n"
     ]
    },
    {
     "name": "stderr",
     "output_type": "stream",
     "text": [
      "[I 2025-05-15 18:11:22,292] Trial 6 pruned. Trial was pruned at iteration 0.\n"
     ]
    },
    {
     "name": "stderr",
     "output_type": "stream",
     "text": [
      "[I 2025-05-15 18:11:22,632] Trial 7 pruned. Trial was pruned at iteration 0.\n"
     ]
    },
    {
     "name": "stderr",
     "output_type": "stream",
     "text": [
      "[I 2025-05-15 18:11:22,958] Trial 8 pruned. Trial was pruned at iteration 0.\n"
     ]
    },
    {
     "name": "stderr",
     "output_type": "stream",
     "text": [
      "[I 2025-05-15 18:11:27,358] Trial 9 finished with value: -0.516977 and parameters: {'max_depth': 14, 'min_child_weight': 78, 'subsample': 0.5680612190600297, 'colsample_bynode': 0.5920392514089517, 'learning_rate': 0.0031543990308330965}. Best is trial 1 with value: -0.624483.\n"
     ]
    },
    {
     "name": "stderr",
     "output_type": "stream",
     "text": [
      "[I 2025-05-15 18:11:27,911] Trial 10 pruned. Trial was pruned at iteration 0.\n"
     ]
    },
    {
     "name": "stderr",
     "output_type": "stream",
     "text": [
      "[I 2025-05-15 18:12:25,550] Trial 11 finished with value: -0.627046 and parameters: {'max_depth': 10, 'min_child_weight': 3, 'subsample': 0.34014304150377095, 'colsample_bynode': 0.40131565860091256, 'learning_rate': 0.057899203666416425}. Best is trial 11 with value: -0.627046.\n"
     ]
    },
    {
     "name": "stderr",
     "output_type": "stream",
     "text": [
      "[I 2025-05-15 18:13:18,809] Trial 12 finished with value: -0.631787 and parameters: {'max_depth': 8, 'min_child_weight': 3, 'subsample': 0.3693916175642251, 'colsample_bynode': 0.351751713087183, 'learning_rate': 0.07220195396446884}. Best is trial 12 with value: -0.631787.\n"
     ]
    },
    {
     "name": "stderr",
     "output_type": "stream",
     "text": [
      "[I 2025-05-15 18:13:19,163] Trial 13 pruned. Trial was pruned at iteration 0.\n"
     ]
    },
    {
     "name": "stderr",
     "output_type": "stream",
     "text": [
      "[I 2025-05-15 18:13:19,518] Trial 14 pruned. Trial was pruned at iteration 0.\n"
     ]
    },
    {
     "name": "stderr",
     "output_type": "stream",
     "text": [
      "[I 2025-05-15 18:14:03,184] Trial 15 finished with value: -0.622315 and parameters: {'max_depth': 20, 'min_child_weight': 2, 'subsample': 0.27832770865353873, 'colsample_bynode': 0.17061614647010237, 'learning_rate': 0.10438411522099604}. Best is trial 12 with value: -0.631787.\n"
     ]
    },
    {
     "name": "stderr",
     "output_type": "stream",
     "text": [
      "[I 2025-05-15 18:14:03,574] Trial 16 pruned. Trial was pruned at iteration 0.\n"
     ]
    },
    {
     "name": "stderr",
     "output_type": "stream",
     "text": [
      "[I 2025-05-15 18:14:03,927] Trial 17 pruned. Trial was pruned at iteration 0.\n"
     ]
    },
    {
     "name": "stderr",
     "output_type": "stream",
     "text": [
      "[I 2025-05-15 18:14:10,989] Trial 18 pruned. Trial was pruned at iteration 25.\n"
     ]
    },
    {
     "name": "stderr",
     "output_type": "stream",
     "text": [
      "[I 2025-05-15 18:14:11,318] Trial 19 pruned. Trial was pruned at iteration 0.\n"
     ]
    },
    {
     "name": "stderr",
     "output_type": "stream",
     "text": [
      "[I 2025-05-15 18:14:11,730] Trial 20 pruned. Trial was pruned at iteration 0.\n"
     ]
    },
    {
     "name": "stderr",
     "output_type": "stream",
     "text": [
      "[I 2025-05-15 18:14:12,103] Trial 21 pruned. Trial was pruned at iteration 0.\n"
     ]
    },
    {
     "name": "stderr",
     "output_type": "stream",
     "text": [
      "[I 2025-05-15 18:14:29,214] Trial 22 finished with value: -0.634007 and parameters: {'max_depth': 7, 'min_child_weight': 19, 'subsample': 0.4620279020978522, 'colsample_bynode': 0.7387841439601908, 'learning_rate': 0.3860862204640265}. Best is trial 22 with value: -0.634007.\n"
     ]
    },
    {
     "name": "stderr",
     "output_type": "stream",
     "text": [
      "[I 2025-05-15 18:14:41,307] Trial 23 finished with value: -0.627993 and parameters: {'max_depth': 7, 'min_child_weight': 22, 'subsample': 0.44507300188060367, 'colsample_bynode': 0.7839219041579365, 'learning_rate': 0.4022974771660976}. Best is trial 22 with value: -0.634007.\n"
     ]
    },
    {
     "name": "stderr",
     "output_type": "stream",
     "text": [
      "[I 2025-05-15 18:14:52,978] Trial 24 finished with value: -0.633418 and parameters: {'max_depth': 7, 'min_child_weight': 27, 'subsample': 0.45449552791377246, 'colsample_bynode': 0.8162809857042157, 'learning_rate': 0.45833595746641237}. Best is trial 22 with value: -0.634007.\n"
     ]
    },
    {
     "name": "stderr",
     "output_type": "stream",
     "text": [
      "[I 2025-05-15 18:14:53,527] Trial 25 pruned. Trial was pruned at iteration 1.\n"
     ]
    },
    {
     "name": "stderr",
     "output_type": "stream",
     "text": [
      "[I 2025-05-15 18:14:53,876] Trial 26 pruned. Trial was pruned at iteration 0.\n"
     ]
    },
    {
     "name": "stderr",
     "output_type": "stream",
     "text": [
      "[I 2025-05-15 18:14:54,227] Trial 27 pruned. Trial was pruned at iteration 0.\n"
     ]
    },
    {
     "name": "stderr",
     "output_type": "stream",
     "text": [
      "[I 2025-05-15 18:14:54,621] Trial 28 pruned. Trial was pruned at iteration 0.\n"
     ]
    },
    {
     "name": "stderr",
     "output_type": "stream",
     "text": [
      "[I 2025-05-15 18:14:54,985] Trial 29 pruned. Trial was pruned at iteration 0.\n"
     ]
    },
    {
     "name": "stderr",
     "output_type": "stream",
     "text": [
      "[I 2025-05-15 18:14:55,352] Trial 30 pruned. Trial was pruned at iteration 0.\n"
     ]
    },
    {
     "name": "stderr",
     "output_type": "stream",
     "text": [
      "[I 2025-05-15 18:15:11,576] Trial 31 finished with value: -0.635257 and parameters: {'max_depth': 7, 'min_child_weight': 19, 'subsample': 0.4282875045816373, 'colsample_bynode': 0.7765391701878426, 'learning_rate': 0.39291199689555867}. Best is trial 31 with value: -0.635257.\n"
     ]
    },
    {
     "name": "stderr",
     "output_type": "stream",
     "text": [
      "[I 2025-05-15 18:15:11,955] Trial 32 pruned. Trial was pruned at iteration 0.\n"
     ]
    },
    {
     "name": "stderr",
     "output_type": "stream",
     "text": [
      "[I 2025-05-15 18:15:12,297] Trial 33 pruned. Trial was pruned at iteration 0.\n"
     ]
    },
    {
     "name": "stderr",
     "output_type": "stream",
     "text": [
      "[I 2025-05-15 18:15:24,862] Trial 34 finished with value: -0.633077 and parameters: {'max_depth': 10, 'min_child_weight': 39, 'subsample': 0.475829289661309, 'colsample_bynode': 0.8869662878558744, 'learning_rate': 0.4698523330848485}. Best is trial 31 with value: -0.635257.\n"
     ]
    },
    {
     "name": "stderr",
     "output_type": "stream",
     "text": [
      "[I 2025-05-15 18:15:42,976] Trial 35 finished with value: -0.632092 and parameters: {'max_depth': 12, 'min_child_weight': 38, 'subsample': 0.6036044461526886, 'colsample_bynode': 0.8717610207233715, 'learning_rate': 0.4905118549868846}. Best is trial 31 with value: -0.635257.\n"
     ]
    },
    {
     "name": "stderr",
     "output_type": "stream",
     "text": [
      "[I 2025-05-15 18:15:43,359] Trial 36 pruned. Trial was pruned at iteration 0.\n"
     ]
    },
    {
     "name": "stderr",
     "output_type": "stream",
     "text": [
      "[I 2025-05-15 18:15:43,699] Trial 37 pruned. Trial was pruned at iteration 0.\n"
     ]
    },
    {
     "name": "stderr",
     "output_type": "stream",
     "text": [
      "[I 2025-05-15 18:15:44,063] Trial 38 pruned. Trial was pruned at iteration 0.\n"
     ]
    },
    {
     "name": "stderr",
     "output_type": "stream",
     "text": [
      "[I 2025-05-15 18:15:44,437] Trial 39 pruned. Trial was pruned at iteration 0.\n"
     ]
    },
    {
     "name": "stderr",
     "output_type": "stream",
     "text": [
      "[I 2025-05-15 18:15:44,786] Trial 40 pruned. Trial was pruned at iteration 0.\n"
     ]
    },
    {
     "name": "stderr",
     "output_type": "stream",
     "text": [
      "[I 2025-05-15 18:15:58,030] Trial 41 finished with value: -0.62925 and parameters: {'max_depth': 12, 'min_child_weight': 36, 'subsample': 0.6227380870735546, 'colsample_bynode': 0.9148030316256311, 'learning_rate': 0.4804098494646854}. Best is trial 31 with value: -0.635257.\n"
     ]
    },
    {
     "name": "stderr",
     "output_type": "stream",
     "text": [
      "[I 2025-05-15 18:16:19,115] Trial 42 finished with value: -0.629236 and parameters: {'max_depth': 16, 'min_child_weight': 18, 'subsample': 0.5980215055017721, 'colsample_bynode': 0.832851404099069, 'learning_rate': 0.34519710981137586}. Best is trial 31 with value: -0.635257.\n"
     ]
    },
    {
     "name": "stderr",
     "output_type": "stream",
     "text": [
      "[I 2025-05-15 18:16:19,479] Trial 43 pruned. Trial was pruned at iteration 0.\n"
     ]
    },
    {
     "name": "stderr",
     "output_type": "stream",
     "text": [
      "[I 2025-05-15 18:16:19,857] Trial 44 pruned. Trial was pruned at iteration 0.\n"
     ]
    },
    {
     "name": "stderr",
     "output_type": "stream",
     "text": [
      "[I 2025-05-15 18:16:32,258] Trial 45 pruned. Trial was pruned at iteration 41.\n"
     ]
    },
    {
     "name": "stderr",
     "output_type": "stream",
     "text": [
      "[I 2025-05-15 18:16:32,617] Trial 46 pruned. Trial was pruned at iteration 0.\n"
     ]
    },
    {
     "name": "stderr",
     "output_type": "stream",
     "text": [
      "[I 2025-05-15 18:16:33,214] Trial 47 pruned. Trial was pruned at iteration 1.\n"
     ]
    },
    {
     "name": "stderr",
     "output_type": "stream",
     "text": [
      "[I 2025-05-15 18:16:33,645] Trial 48 pruned. Trial was pruned at iteration 0.\n"
     ]
    },
    {
     "name": "stderr",
     "output_type": "stream",
     "text": [
      "[I 2025-05-15 18:16:35,187] Trial 49 pruned. Trial was pruned at iteration 3.\n"
     ]
    }
   ],
   "source": [
    "sampler = optuna.samplers.TPESampler(seed=42)\n",
    "study = optuna.create_study(direction='minimize', sampler=sampler)\n",
    "study.optimize(objective, n_trials=N_TRIALS, gc_after_trial=True)"
   ]
  },
  {
   "cell_type": "code",
   "execution_count": 20,
   "id": "ce57a2be",
   "metadata": {
    "execution": {
     "iopub.execute_input": "2025-05-15T16:16:35.285536Z",
     "iopub.status.busy": "2025-05-15T16:16:35.285062Z",
     "iopub.status.idle": "2025-05-15T16:16:35.322782Z",
     "shell.execute_reply": "2025-05-15T16:16:35.322462Z"
    },
    "papermill": {
     "duration": 0.047477,
     "end_time": "2025-05-15T16:16:35.323593",
     "exception": false,
     "start_time": "2025-05-15T16:16:35.276116",
     "status": "completed"
    },
    "tags": []
   },
   "outputs": [
    {
     "data": {
      "text/plain": [
       "['/scratch_isilon/groups/singlecell/shared/projects/Inflammation-PBMCs-Atlas/03_downstream_analysis/08_gene_importance/xgboost_external_validation/xgboost_TopN_genes/results_20/study/T_CD8_NonNaive_14_0_xgboost.pkl']"
      ]
     },
     "execution_count": 20,
     "metadata": {},
     "output_type": "execute_result"
    }
   ],
   "source": [
    "out_dir = here(f'03_downstream_analysis/08_gene_importance/xgboost_external_validation/xgboost_TopN_genes/results_{N_GENES}/study')\n",
    "\n",
    "if not os.path.exists(out_dir):\n",
    "    os.makedirs(out_dir)\n",
    "    \n",
    "joblib.dump(study,os.path.join(out_dir, f'{CELL_TYPE}_{SEED}_{TEST_SPLIT_IDX}_xgboost.pkl'))"
   ]
  },
  {
   "cell_type": "code",
   "execution_count": 21,
   "id": "12ae501a",
   "metadata": {
    "execution": {
     "iopub.execute_input": "2025-05-15T16:16:35.340427Z",
     "iopub.status.busy": "2025-05-15T16:16:35.340159Z",
     "iopub.status.idle": "2025-05-15T16:16:42.333397Z",
     "shell.execute_reply": "2025-05-15T16:16:42.333042Z"
    },
    "papermill": {
     "duration": 7.002747,
     "end_time": "2025-05-15T16:16:42.334373",
     "exception": false,
     "start_time": "2025-05-15T16:16:35.331626",
     "status": "completed"
    },
    "tags": []
   },
   "outputs": [
    {
     "data": {
      "text/html": [
       "<style>#sk-container-id-1 {\n",
       "  /* Definition of color scheme common for light and dark mode */\n",
       "  --sklearn-color-text: black;\n",
       "  --sklearn-color-line: gray;\n",
       "  /* Definition of color scheme for unfitted estimators */\n",
       "  --sklearn-color-unfitted-level-0: #fff5e6;\n",
       "  --sklearn-color-unfitted-level-1: #f6e4d2;\n",
       "  --sklearn-color-unfitted-level-2: #ffe0b3;\n",
       "  --sklearn-color-unfitted-level-3: chocolate;\n",
       "  /* Definition of color scheme for fitted estimators */\n",
       "  --sklearn-color-fitted-level-0: #f0f8ff;\n",
       "  --sklearn-color-fitted-level-1: #d4ebff;\n",
       "  --sklearn-color-fitted-level-2: #b3dbfd;\n",
       "  --sklearn-color-fitted-level-3: cornflowerblue;\n",
       "\n",
       "  /* Specific color for light theme */\n",
       "  --sklearn-color-text-on-default-background: var(--sg-text-color, var(--theme-code-foreground, var(--jp-content-font-color1, black)));\n",
       "  --sklearn-color-background: var(--sg-background-color, var(--theme-background, var(--jp-layout-color0, white)));\n",
       "  --sklearn-color-border-box: var(--sg-text-color, var(--theme-code-foreground, var(--jp-content-font-color1, black)));\n",
       "  --sklearn-color-icon: #696969;\n",
       "\n",
       "  @media (prefers-color-scheme: dark) {\n",
       "    /* Redefinition of color scheme for dark theme */\n",
       "    --sklearn-color-text-on-default-background: var(--sg-text-color, var(--theme-code-foreground, var(--jp-content-font-color1, white)));\n",
       "    --sklearn-color-background: var(--sg-background-color, var(--theme-background, var(--jp-layout-color0, #111)));\n",
       "    --sklearn-color-border-box: var(--sg-text-color, var(--theme-code-foreground, var(--jp-content-font-color1, white)));\n",
       "    --sklearn-color-icon: #878787;\n",
       "  }\n",
       "}\n",
       "\n",
       "#sk-container-id-1 {\n",
       "  color: var(--sklearn-color-text);\n",
       "}\n",
       "\n",
       "#sk-container-id-1 pre {\n",
       "  padding: 0;\n",
       "}\n",
       "\n",
       "#sk-container-id-1 input.sk-hidden--visually {\n",
       "  border: 0;\n",
       "  clip: rect(1px 1px 1px 1px);\n",
       "  clip: rect(1px, 1px, 1px, 1px);\n",
       "  height: 1px;\n",
       "  margin: -1px;\n",
       "  overflow: hidden;\n",
       "  padding: 0;\n",
       "  position: absolute;\n",
       "  width: 1px;\n",
       "}\n",
       "\n",
       "#sk-container-id-1 div.sk-dashed-wrapped {\n",
       "  border: 1px dashed var(--sklearn-color-line);\n",
       "  margin: 0 0.4em 0.5em 0.4em;\n",
       "  box-sizing: border-box;\n",
       "  padding-bottom: 0.4em;\n",
       "  background-color: var(--sklearn-color-background);\n",
       "}\n",
       "\n",
       "#sk-container-id-1 div.sk-container {\n",
       "  /* jupyter's `normalize.less` sets `[hidden] { display: none; }`\n",
       "     but bootstrap.min.css set `[hidden] { display: none !important; }`\n",
       "     so we also need the `!important` here to be able to override the\n",
       "     default hidden behavior on the sphinx rendered scikit-learn.org.\n",
       "     See: https://github.com/scikit-learn/scikit-learn/issues/21755 */\n",
       "  display: inline-block !important;\n",
       "  position: relative;\n",
       "}\n",
       "\n",
       "#sk-container-id-1 div.sk-text-repr-fallback {\n",
       "  display: none;\n",
       "}\n",
       "\n",
       "div.sk-parallel-item,\n",
       "div.sk-serial,\n",
       "div.sk-item {\n",
       "  /* draw centered vertical line to link estimators */\n",
       "  background-image: linear-gradient(var(--sklearn-color-text-on-default-background), var(--sklearn-color-text-on-default-background));\n",
       "  background-size: 2px 100%;\n",
       "  background-repeat: no-repeat;\n",
       "  background-position: center center;\n",
       "}\n",
       "\n",
       "/* Parallel-specific style estimator block */\n",
       "\n",
       "#sk-container-id-1 div.sk-parallel-item::after {\n",
       "  content: \"\";\n",
       "  width: 100%;\n",
       "  border-bottom: 2px solid var(--sklearn-color-text-on-default-background);\n",
       "  flex-grow: 1;\n",
       "}\n",
       "\n",
       "#sk-container-id-1 div.sk-parallel {\n",
       "  display: flex;\n",
       "  align-items: stretch;\n",
       "  justify-content: center;\n",
       "  background-color: var(--sklearn-color-background);\n",
       "  position: relative;\n",
       "}\n",
       "\n",
       "#sk-container-id-1 div.sk-parallel-item {\n",
       "  display: flex;\n",
       "  flex-direction: column;\n",
       "}\n",
       "\n",
       "#sk-container-id-1 div.sk-parallel-item:first-child::after {\n",
       "  align-self: flex-end;\n",
       "  width: 50%;\n",
       "}\n",
       "\n",
       "#sk-container-id-1 div.sk-parallel-item:last-child::after {\n",
       "  align-self: flex-start;\n",
       "  width: 50%;\n",
       "}\n",
       "\n",
       "#sk-container-id-1 div.sk-parallel-item:only-child::after {\n",
       "  width: 0;\n",
       "}\n",
       "\n",
       "/* Serial-specific style estimator block */\n",
       "\n",
       "#sk-container-id-1 div.sk-serial {\n",
       "  display: flex;\n",
       "  flex-direction: column;\n",
       "  align-items: center;\n",
       "  background-color: var(--sklearn-color-background);\n",
       "  padding-right: 1em;\n",
       "  padding-left: 1em;\n",
       "}\n",
       "\n",
       "\n",
       "/* Toggleable style: style used for estimator/Pipeline/ColumnTransformer box that is\n",
       "clickable and can be expanded/collapsed.\n",
       "- Pipeline and ColumnTransformer use this feature and define the default style\n",
       "- Estimators will overwrite some part of the style using the `sk-estimator` class\n",
       "*/\n",
       "\n",
       "/* Pipeline and ColumnTransformer style (default) */\n",
       "\n",
       "#sk-container-id-1 div.sk-toggleable {\n",
       "  /* Default theme specific background. It is overwritten whether we have a\n",
       "  specific estimator or a Pipeline/ColumnTransformer */\n",
       "  background-color: var(--sklearn-color-background);\n",
       "}\n",
       "\n",
       "/* Toggleable label */\n",
       "#sk-container-id-1 label.sk-toggleable__label {\n",
       "  cursor: pointer;\n",
       "  display: block;\n",
       "  width: 100%;\n",
       "  margin-bottom: 0;\n",
       "  padding: 0.5em;\n",
       "  box-sizing: border-box;\n",
       "  text-align: center;\n",
       "}\n",
       "\n",
       "#sk-container-id-1 label.sk-toggleable__label-arrow:before {\n",
       "  /* Arrow on the left of the label */\n",
       "  content: \"▸\";\n",
       "  float: left;\n",
       "  margin-right: 0.25em;\n",
       "  color: var(--sklearn-color-icon);\n",
       "}\n",
       "\n",
       "#sk-container-id-1 label.sk-toggleable__label-arrow:hover:before {\n",
       "  color: var(--sklearn-color-text);\n",
       "}\n",
       "\n",
       "/* Toggleable content - dropdown */\n",
       "\n",
       "#sk-container-id-1 div.sk-toggleable__content {\n",
       "  max-height: 0;\n",
       "  max-width: 0;\n",
       "  overflow: hidden;\n",
       "  text-align: left;\n",
       "  /* unfitted */\n",
       "  background-color: var(--sklearn-color-unfitted-level-0);\n",
       "}\n",
       "\n",
       "#sk-container-id-1 div.sk-toggleable__content.fitted {\n",
       "  /* fitted */\n",
       "  background-color: var(--sklearn-color-fitted-level-0);\n",
       "}\n",
       "\n",
       "#sk-container-id-1 div.sk-toggleable__content pre {\n",
       "  margin: 0.2em;\n",
       "  border-radius: 0.25em;\n",
       "  color: var(--sklearn-color-text);\n",
       "  /* unfitted */\n",
       "  background-color: var(--sklearn-color-unfitted-level-0);\n",
       "}\n",
       "\n",
       "#sk-container-id-1 div.sk-toggleable__content.fitted pre {\n",
       "  /* unfitted */\n",
       "  background-color: var(--sklearn-color-fitted-level-0);\n",
       "}\n",
       "\n",
       "#sk-container-id-1 input.sk-toggleable__control:checked~div.sk-toggleable__content {\n",
       "  /* Expand drop-down */\n",
       "  max-height: 200px;\n",
       "  max-width: 100%;\n",
       "  overflow: auto;\n",
       "}\n",
       "\n",
       "#sk-container-id-1 input.sk-toggleable__control:checked~label.sk-toggleable__label-arrow:before {\n",
       "  content: \"▾\";\n",
       "}\n",
       "\n",
       "/* Pipeline/ColumnTransformer-specific style */\n",
       "\n",
       "#sk-container-id-1 div.sk-label input.sk-toggleable__control:checked~label.sk-toggleable__label {\n",
       "  color: var(--sklearn-color-text);\n",
       "  background-color: var(--sklearn-color-unfitted-level-2);\n",
       "}\n",
       "\n",
       "#sk-container-id-1 div.sk-label.fitted input.sk-toggleable__control:checked~label.sk-toggleable__label {\n",
       "  background-color: var(--sklearn-color-fitted-level-2);\n",
       "}\n",
       "\n",
       "/* Estimator-specific style */\n",
       "\n",
       "/* Colorize estimator box */\n",
       "#sk-container-id-1 div.sk-estimator input.sk-toggleable__control:checked~label.sk-toggleable__label {\n",
       "  /* unfitted */\n",
       "  background-color: var(--sklearn-color-unfitted-level-2);\n",
       "}\n",
       "\n",
       "#sk-container-id-1 div.sk-estimator.fitted input.sk-toggleable__control:checked~label.sk-toggleable__label {\n",
       "  /* fitted */\n",
       "  background-color: var(--sklearn-color-fitted-level-2);\n",
       "}\n",
       "\n",
       "#sk-container-id-1 div.sk-label label.sk-toggleable__label,\n",
       "#sk-container-id-1 div.sk-label label {\n",
       "  /* The background is the default theme color */\n",
       "  color: var(--sklearn-color-text-on-default-background);\n",
       "}\n",
       "\n",
       "/* On hover, darken the color of the background */\n",
       "#sk-container-id-1 div.sk-label:hover label.sk-toggleable__label {\n",
       "  color: var(--sklearn-color-text);\n",
       "  background-color: var(--sklearn-color-unfitted-level-2);\n",
       "}\n",
       "\n",
       "/* Label box, darken color on hover, fitted */\n",
       "#sk-container-id-1 div.sk-label.fitted:hover label.sk-toggleable__label.fitted {\n",
       "  color: var(--sklearn-color-text);\n",
       "  background-color: var(--sklearn-color-fitted-level-2);\n",
       "}\n",
       "\n",
       "/* Estimator label */\n",
       "\n",
       "#sk-container-id-1 div.sk-label label {\n",
       "  font-family: monospace;\n",
       "  font-weight: bold;\n",
       "  display: inline-block;\n",
       "  line-height: 1.2em;\n",
       "}\n",
       "\n",
       "#sk-container-id-1 div.sk-label-container {\n",
       "  text-align: center;\n",
       "}\n",
       "\n",
       "/* Estimator-specific */\n",
       "#sk-container-id-1 div.sk-estimator {\n",
       "  font-family: monospace;\n",
       "  border: 1px dotted var(--sklearn-color-border-box);\n",
       "  border-radius: 0.25em;\n",
       "  box-sizing: border-box;\n",
       "  margin-bottom: 0.5em;\n",
       "  /* unfitted */\n",
       "  background-color: var(--sklearn-color-unfitted-level-0);\n",
       "}\n",
       "\n",
       "#sk-container-id-1 div.sk-estimator.fitted {\n",
       "  /* fitted */\n",
       "  background-color: var(--sklearn-color-fitted-level-0);\n",
       "}\n",
       "\n",
       "/* on hover */\n",
       "#sk-container-id-1 div.sk-estimator:hover {\n",
       "  /* unfitted */\n",
       "  background-color: var(--sklearn-color-unfitted-level-2);\n",
       "}\n",
       "\n",
       "#sk-container-id-1 div.sk-estimator.fitted:hover {\n",
       "  /* fitted */\n",
       "  background-color: var(--sklearn-color-fitted-level-2);\n",
       "}\n",
       "\n",
       "/* Specification for estimator info (e.g. \"i\" and \"?\") */\n",
       "\n",
       "/* Common style for \"i\" and \"?\" */\n",
       "\n",
       ".sk-estimator-doc-link,\n",
       "a:link.sk-estimator-doc-link,\n",
       "a:visited.sk-estimator-doc-link {\n",
       "  float: right;\n",
       "  font-size: smaller;\n",
       "  line-height: 1em;\n",
       "  font-family: monospace;\n",
       "  background-color: var(--sklearn-color-background);\n",
       "  border-radius: 1em;\n",
       "  height: 1em;\n",
       "  width: 1em;\n",
       "  text-decoration: none !important;\n",
       "  margin-left: 1ex;\n",
       "  /* unfitted */\n",
       "  border: var(--sklearn-color-unfitted-level-1) 1pt solid;\n",
       "  color: var(--sklearn-color-unfitted-level-1);\n",
       "}\n",
       "\n",
       ".sk-estimator-doc-link.fitted,\n",
       "a:link.sk-estimator-doc-link.fitted,\n",
       "a:visited.sk-estimator-doc-link.fitted {\n",
       "  /* fitted */\n",
       "  border: var(--sklearn-color-fitted-level-1) 1pt solid;\n",
       "  color: var(--sklearn-color-fitted-level-1);\n",
       "}\n",
       "\n",
       "/* On hover */\n",
       "div.sk-estimator:hover .sk-estimator-doc-link:hover,\n",
       ".sk-estimator-doc-link:hover,\n",
       "div.sk-label-container:hover .sk-estimator-doc-link:hover,\n",
       ".sk-estimator-doc-link:hover {\n",
       "  /* unfitted */\n",
       "  background-color: var(--sklearn-color-unfitted-level-3);\n",
       "  color: var(--sklearn-color-background);\n",
       "  text-decoration: none;\n",
       "}\n",
       "\n",
       "div.sk-estimator.fitted:hover .sk-estimator-doc-link.fitted:hover,\n",
       ".sk-estimator-doc-link.fitted:hover,\n",
       "div.sk-label-container:hover .sk-estimator-doc-link.fitted:hover,\n",
       ".sk-estimator-doc-link.fitted:hover {\n",
       "  /* fitted */\n",
       "  background-color: var(--sklearn-color-fitted-level-3);\n",
       "  color: var(--sklearn-color-background);\n",
       "  text-decoration: none;\n",
       "}\n",
       "\n",
       "/* Span, style for the box shown on hovering the info icon */\n",
       ".sk-estimator-doc-link span {\n",
       "  display: none;\n",
       "  z-index: 9999;\n",
       "  position: relative;\n",
       "  font-weight: normal;\n",
       "  right: .2ex;\n",
       "  padding: .5ex;\n",
       "  margin: .5ex;\n",
       "  width: min-content;\n",
       "  min-width: 20ex;\n",
       "  max-width: 50ex;\n",
       "  color: var(--sklearn-color-text);\n",
       "  box-shadow: 2pt 2pt 4pt #999;\n",
       "  /* unfitted */\n",
       "  background: var(--sklearn-color-unfitted-level-0);\n",
       "  border: .5pt solid var(--sklearn-color-unfitted-level-3);\n",
       "}\n",
       "\n",
       ".sk-estimator-doc-link.fitted span {\n",
       "  /* fitted */\n",
       "  background: var(--sklearn-color-fitted-level-0);\n",
       "  border: var(--sklearn-color-fitted-level-3);\n",
       "}\n",
       "\n",
       ".sk-estimator-doc-link:hover span {\n",
       "  display: block;\n",
       "}\n",
       "\n",
       "/* \"?\"-specific style due to the `<a>` HTML tag */\n",
       "\n",
       "#sk-container-id-1 a.estimator_doc_link {\n",
       "  float: right;\n",
       "  font-size: 1rem;\n",
       "  line-height: 1em;\n",
       "  font-family: monospace;\n",
       "  background-color: var(--sklearn-color-background);\n",
       "  border-radius: 1rem;\n",
       "  height: 1rem;\n",
       "  width: 1rem;\n",
       "  text-decoration: none;\n",
       "  /* unfitted */\n",
       "  color: var(--sklearn-color-unfitted-level-1);\n",
       "  border: var(--sklearn-color-unfitted-level-1) 1pt solid;\n",
       "}\n",
       "\n",
       "#sk-container-id-1 a.estimator_doc_link.fitted {\n",
       "  /* fitted */\n",
       "  border: var(--sklearn-color-fitted-level-1) 1pt solid;\n",
       "  color: var(--sklearn-color-fitted-level-1);\n",
       "}\n",
       "\n",
       "/* On hover */\n",
       "#sk-container-id-1 a.estimator_doc_link:hover {\n",
       "  /* unfitted */\n",
       "  background-color: var(--sklearn-color-unfitted-level-3);\n",
       "  color: var(--sklearn-color-background);\n",
       "  text-decoration: none;\n",
       "}\n",
       "\n",
       "#sk-container-id-1 a.estimator_doc_link.fitted:hover {\n",
       "  /* fitted */\n",
       "  background-color: var(--sklearn-color-fitted-level-3);\n",
       "}\n",
       "</style><div id=\"sk-container-id-1\" class=\"sk-top-container\"><div class=\"sk-text-repr-fallback\"><pre>XGBClassifier(base_score=None, booster=None, callbacks=None,\n",
       "              colsample_bylevel=None, colsample_bynode=0.7765391701878426,\n",
       "              colsample_bytree=None, device=None, early_stopping_rounds=None,\n",
       "              enable_categorical=False,\n",
       "              eval_metric=&lt;function custom_f1_score at 0x7f2f552ac540&gt;,\n",
       "              feature_types=None, gamma=None, grow_policy=None,\n",
       "              importance_type=None, interaction_constraints=None,\n",
       "              learning_rate=0.39291199689555867, max_bin=None,\n",
       "              max_cat_threshold=None, max_cat_to_onehot=None,\n",
       "              max_delta_step=None, max_depth=7, max_leaves=None,\n",
       "              min_child_weight=19, missing=nan, monotone_constraints=None,\n",
       "              multi_strategy=None, n_estimators=99, n_jobs=None,\n",
       "              num_parallel_tree=None, objective=&#x27;multi:softprob&#x27;, ...)</pre><b>In a Jupyter environment, please rerun this cell to show the HTML representation or trust the notebook. <br />On GitHub, the HTML representation is unable to render, please try loading this page with nbviewer.org.</b></div><div class=\"sk-container\" hidden><div class=\"sk-item\"><div class=\"sk-estimator fitted sk-toggleable\"><input class=\"sk-toggleable__control sk-hidden--visually\" id=\"sk-estimator-id-1\" type=\"checkbox\" checked><label for=\"sk-estimator-id-1\" class=\"sk-toggleable__label fitted sk-toggleable__label-arrow fitted\">&nbsp;XGBClassifier<span class=\"sk-estimator-doc-link fitted\">i<span>Fitted</span></span></label><div class=\"sk-toggleable__content fitted\"><pre>XGBClassifier(base_score=None, booster=None, callbacks=None,\n",
       "              colsample_bylevel=None, colsample_bynode=0.7765391701878426,\n",
       "              colsample_bytree=None, device=None, early_stopping_rounds=None,\n",
       "              enable_categorical=False,\n",
       "              eval_metric=&lt;function custom_f1_score at 0x7f2f552ac540&gt;,\n",
       "              feature_types=None, gamma=None, grow_policy=None,\n",
       "              importance_type=None, interaction_constraints=None,\n",
       "              learning_rate=0.39291199689555867, max_bin=None,\n",
       "              max_cat_threshold=None, max_cat_to_onehot=None,\n",
       "              max_delta_step=None, max_depth=7, max_leaves=None,\n",
       "              min_child_weight=19, missing=nan, monotone_constraints=None,\n",
       "              multi_strategy=None, n_estimators=99, n_jobs=None,\n",
       "              num_parallel_tree=None, objective=&#x27;multi:softprob&#x27;, ...)</pre></div> </div></div></div></div>"
      ],
      "text/plain": [
       "XGBClassifier(base_score=None, booster=None, callbacks=None,\n",
       "              colsample_bylevel=None, colsample_bynode=0.7765391701878426,\n",
       "              colsample_bytree=None, device=None, early_stopping_rounds=None,\n",
       "              enable_categorical=False,\n",
       "              eval_metric=<function custom_f1_score at 0x7f2f552ac540>,\n",
       "              feature_types=None, gamma=None, grow_policy=None,\n",
       "              importance_type=None, interaction_constraints=None,\n",
       "              learning_rate=0.39291199689555867, max_bin=None,\n",
       "              max_cat_threshold=None, max_cat_to_onehot=None,\n",
       "              max_delta_step=None, max_depth=7, max_leaves=None,\n",
       "              min_child_weight=19, missing=nan, monotone_constraints=None,\n",
       "              multi_strategy=None, n_estimators=99, n_jobs=None,\n",
       "              num_parallel_tree=None, objective='multi:softprob', ...)"
      ]
     },
     "execution_count": 21,
     "metadata": {},
     "output_type": "execute_result"
    }
   ],
   "source": [
    "n_estimators = int(study.best_trial.user_attrs['best_iteration']*1.2)\n",
    "xgb = xgboost.XGBClassifier(\n",
    "        eval_metric=eval_metric,\n",
    "        n_estimators=n_estimators,\n",
    "        **study.best_trial.params\n",
    "    )\n",
    "xgb.fit(\n",
    "    ssp.vstack((X_train, X_val)), \n",
    "    np.concatenate((y_train_enc, y_val_enc)),\n",
    "    verbose=1,\n",
    ")"
   ]
  },
  {
   "cell_type": "code",
   "execution_count": 22,
   "id": "1eeda3e0",
   "metadata": {
    "execution": {
     "iopub.execute_input": "2025-05-15T16:16:42.353709Z",
     "iopub.status.busy": "2025-05-15T16:16:42.353209Z",
     "iopub.status.idle": "2025-05-15T16:16:42.378103Z",
     "shell.execute_reply": "2025-05-15T16:16:42.377744Z"
    },
    "papermill": {
     "duration": 0.035074,
     "end_time": "2025-05-15T16:16:42.378934",
     "exception": false,
     "start_time": "2025-05-15T16:16:42.343860",
     "status": "completed"
    },
    "tags": []
   },
   "outputs": [
    {
     "data": {
      "text/plain": [
       "['/scratch_isilon/groups/singlecell/shared/projects/Inflammation-PBMCs-Atlas/03_downstream_analysis/08_gene_importance/xgboost_external_validation/xgboost_TopN_genes/results_20/best_model/T_CD8_NonNaive_14_0_xgb.json']"
      ]
     },
     "execution_count": 22,
     "metadata": {},
     "output_type": "execute_result"
    }
   ],
   "source": [
    "out_dir = here(f'03_downstream_analysis/08_gene_importance/xgboost_external_validation/xgboost_TopN_genes/results_{N_GENES}/best_model')\n",
    "\n",
    "if not os.path.exists(out_dir):\n",
    "    os.makedirs(out_dir)\n",
    "    \n",
    "joblib.dump(xgb, os.path.join(out_dir, f'{CELL_TYPE}_{SEED}_{TEST_SPLIT_IDX}_xgb.json'))"
   ]
  },
  {
   "cell_type": "code",
   "execution_count": 23,
   "id": "ee181c91",
   "metadata": {
    "execution": {
     "iopub.execute_input": "2025-05-15T16:16:42.396811Z",
     "iopub.status.busy": "2025-05-15T16:16:42.396608Z",
     "iopub.status.idle": "2025-05-15T16:16:42.642817Z",
     "shell.execute_reply": "2025-05-15T16:16:42.642443Z"
    },
    "papermill": {
     "duration": 0.256323,
     "end_time": "2025-05-15T16:16:42.643748",
     "exception": false,
     "start_time": "2025-05-15T16:16:42.387425",
     "status": "completed"
    },
    "tags": []
   },
   "outputs": [],
   "source": [
    "df_pred_test = pd.DataFrame(dict(\n",
    "    cell_id=train_adata.obs.iloc[test_idxs].index.values,\n",
    "    y_true=y_test, \n",
    "    y_true_code=y_test_enc, \n",
    "    y_pred=xgb.predict(X_test))).set_index('cell_id')"
   ]
  },
  {
   "cell_type": "code",
   "execution_count": 24,
   "id": "d31a2ad6",
   "metadata": {
    "execution": {
     "iopub.execute_input": "2025-05-15T16:16:42.683707Z",
     "iopub.status.busy": "2025-05-15T16:16:42.683507Z",
     "iopub.status.idle": "2025-05-15T16:16:42.771482Z",
     "shell.execute_reply": "2025-05-15T16:16:42.771082Z"
    },
    "papermill": {
     "duration": 0.098258,
     "end_time": "2025-05-15T16:16:42.772439",
     "exception": false,
     "start_time": "2025-05-15T16:16:42.674181",
     "status": "completed"
    },
    "tags": []
   },
   "outputs": [],
   "source": [
    "out_dir = here(f'03_downstream_analysis/08_gene_importance/xgboost_external_validation/xgboost_TopN_genes/results_{N_GENES}/predictions')\n",
    "\n",
    "if not os.path.exists(out_dir):\n",
    "    os.makedirs(out_dir)\n",
    "    \n",
    "df_pred_test.to_csv(os.path.join(out_dir, f'{CELL_TYPE}_{SEED}_{TEST_SPLIT_IDX}_pred_test.zip'))"
   ]
  },
  {
   "cell_type": "code",
   "execution_count": 25,
   "id": "a370706c",
   "metadata": {
    "execution": {
     "iopub.execute_input": "2025-05-15T16:16:42.790530Z",
     "iopub.status.busy": "2025-05-15T16:16:42.790247Z",
     "iopub.status.idle": "2025-05-15T16:16:42.800875Z",
     "shell.execute_reply": "2025-05-15T16:16:42.800554Z"
    },
    "papermill": {
     "duration": 0.020585,
     "end_time": "2025-05-15T16:16:42.801677",
     "exception": false,
     "start_time": "2025-05-15T16:16:42.781092",
     "status": "completed"
    },
    "tags": []
   },
   "outputs": [],
   "source": [
    "metrics_dict = dict(\n",
    "    BAS=balanced_accuracy_score(y_true=df_pred_test.y_true_code, y_pred=df_pred_test.y_pred), WF1=f1_score(y_true=df_pred_test.y_true_code, y_pred=df_pred_test.y_pred,average='weighted'))"
   ]
  },
  {
   "cell_type": "code",
   "execution_count": 26,
   "id": "1f852101",
   "metadata": {
    "execution": {
     "iopub.execute_input": "2025-05-15T16:16:42.821144Z",
     "iopub.status.busy": "2025-05-15T16:16:42.820966Z",
     "iopub.status.idle": "2025-05-15T16:16:42.823740Z",
     "shell.execute_reply": "2025-05-15T16:16:42.823387Z"
    },
    "papermill": {
     "duration": 0.012752,
     "end_time": "2025-05-15T16:16:42.824560",
     "exception": false,
     "start_time": "2025-05-15T16:16:42.811808",
     "status": "completed"
    },
    "tags": []
   },
   "outputs": [
    {
     "data": {
      "text/plain": [
       "{'BAS': 0.5219969222358873, 'WF1': 0.7122100190755793}"
      ]
     },
     "execution_count": 26,
     "metadata": {},
     "output_type": "execute_result"
    }
   ],
   "source": [
    "metrics_dict"
   ]
  },
  {
   "cell_type": "code",
   "execution_count": 27,
   "id": "10d72b22",
   "metadata": {
    "execution": {
     "iopub.execute_input": "2025-05-15T16:16:42.844258Z",
     "iopub.status.busy": "2025-05-15T16:16:42.843964Z",
     "iopub.status.idle": "2025-05-15T16:16:42.852105Z",
     "shell.execute_reply": "2025-05-15T16:16:42.851786Z"
    },
    "papermill": {
     "duration": 0.019132,
     "end_time": "2025-05-15T16:16:42.852919",
     "exception": false,
     "start_time": "2025-05-15T16:16:42.833787",
     "status": "completed"
    },
    "tags": []
   },
   "outputs": [
    {
     "data": {
      "text/html": [
       "<div>\n",
       "<style scoped>\n",
       "    .dataframe tbody tr th:only-of-type {\n",
       "        vertical-align: middle;\n",
       "    }\n",
       "\n",
       "    .dataframe tbody tr th {\n",
       "        vertical-align: top;\n",
       "    }\n",
       "\n",
       "    .dataframe thead th {\n",
       "        text-align: right;\n",
       "    }\n",
       "</style>\n",
       "<table border=\"1\" class=\"dataframe\">\n",
       "  <thead>\n",
       "    <tr style=\"text-align: right;\">\n",
       "      <th></th>\n",
       "      <th>BAS</th>\n",
       "      <th>WF1</th>\n",
       "      <th>split_idx</th>\n",
       "      <th>gene_set_seed</th>\n",
       "      <th>cell_type</th>\n",
       "    </tr>\n",
       "  </thead>\n",
       "  <tbody>\n",
       "    <tr>\n",
       "      <th>0</th>\n",
       "      <td>0.521997</td>\n",
       "      <td>0.71221</td>\n",
       "      <td>0</td>\n",
       "      <td>14</td>\n",
       "      <td>T_CD8_NonNaive</td>\n",
       "    </tr>\n",
       "  </tbody>\n",
       "</table>\n",
       "</div>"
      ],
      "text/plain": [
       "        BAS      WF1  split_idx  gene_set_seed       cell_type\n",
       "0  0.521997  0.71221          0             14  T_CD8_NonNaive"
      ]
     },
     "execution_count": 27,
     "metadata": {},
     "output_type": "execute_result"
    }
   ],
   "source": [
    "metrics_df = pd.DataFrame.from_dict([metrics_dict]).assign(split_idx=TEST_SPLIT_IDX, gene_set_seed=SEED, cell_type=CELL_TYPE)\n",
    "metrics_df"
   ]
  },
  {
   "cell_type": "code",
   "execution_count": 28,
   "id": "5b28b86d",
   "metadata": {
    "execution": {
     "iopub.execute_input": "2025-05-15T16:16:42.871415Z",
     "iopub.status.busy": "2025-05-15T16:16:42.871144Z",
     "iopub.status.idle": "2025-05-15T16:16:42.880832Z",
     "shell.execute_reply": "2025-05-15T16:16:42.880526Z"
    },
    "papermill": {
     "duration": 0.019685,
     "end_time": "2025-05-15T16:16:42.881624",
     "exception": false,
     "start_time": "2025-05-15T16:16:42.861939",
     "status": "completed"
    },
    "tags": []
   },
   "outputs": [],
   "source": [
    "out_dir = here(f'03_downstream_analysis/08_gene_importance/xgboost_external_validation/xgboost_TopN_genes/results_{N_GENES}/metrics')\n",
    "\n",
    "if not os.path.exists(out_dir):\n",
    "    os.makedirs(out_dir)\n",
    "    \n",
    "metrics_df.to_csv(os.path.join(out_dir, f'{CELL_TYPE}_{SEED}_{TEST_SPLIT_IDX}_metrics.zip'))"
   ]
  }
 ],
 "metadata": {
  "kernelspec": {
   "display_name": "Python 3 (ipykernel)",
   "language": "python",
   "name": "python3"
  },
  "language_info": {
   "codemirror_mode": {
    "name": "ipython",
    "version": 3
   },
   "file_extension": ".py",
   "mimetype": "text/x-python",
   "name": "python",
   "nbconvert_exporter": "python",
   "pygments_lexer": "ipython3",
   "version": "3.12.5"
  },
  "papermill": {
   "default_parameters": {},
   "duration": 513.713304,
   "end_time": "2025-05-15T16:16:43.408229",
   "environment_variables": {},
   "exception": null,
   "input_path": "02_xgboost_fitting_external_20genes.ipynb",
   "output_path": "results_20/executed_notebooks/xgboost_fitting_external_CT_T_CD8_NonNaive_GS_14_seed0.ipynb",
   "parameters": {
    "CELL_TYPE": "T_CD8_NonNaive",
    "SEED": 14,
    "TEST_SPLIT_IDX": 0
   },
   "start_time": "2025-05-15T16:08:09.694925",
   "version": "2.6.0"
  }
 },
 "nbformat": 4,
 "nbformat_minor": 5
}