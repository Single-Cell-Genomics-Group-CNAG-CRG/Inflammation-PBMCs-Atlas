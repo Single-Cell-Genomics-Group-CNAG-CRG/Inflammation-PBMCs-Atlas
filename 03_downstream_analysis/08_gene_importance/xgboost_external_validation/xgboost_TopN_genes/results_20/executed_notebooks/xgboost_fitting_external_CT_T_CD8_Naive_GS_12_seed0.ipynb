{
 "cells": [
  {
   "cell_type": "code",
   "execution_count": 1,
   "id": "8cde738f",
   "metadata": {
    "editable": true,
    "execution": {
     "iopub.execute_input": "2025-05-15T16:04:34.736632Z",
     "iopub.status.busy": "2025-05-15T16:04:34.736298Z",
     "iopub.status.idle": "2025-05-15T16:04:34.739667Z",
     "shell.execute_reply": "2025-05-15T16:04:34.739278Z"
    },
    "papermill": {
     "duration": 0.012736,
     "end_time": "2025-05-15T16:04:34.740638",
     "exception": false,
     "start_time": "2025-05-15T16:04:34.727902",
     "status": "completed"
    },
    "slideshow": {
     "slide_type": ""
    },
    "tags": [
     "parameters"
    ]
   },
   "outputs": [],
   "source": [
    "CELL_TYPE = 'pDC'\n",
    "N_GENES: int = 20\n",
    "SEED = 'shap_studyID' #'disease_NOstudy' 'study_NOdisease' or 'int' or 'shap_studyID'\n",
    "TEST_SPLIT_IDX: int = 1 #[0,4]"
   ]
  },
  {
   "cell_type": "code",
   "execution_count": 2,
   "id": "f7f3b2a2",
   "metadata": {
    "execution": {
     "iopub.execute_input": "2025-05-15T16:04:34.752787Z",
     "iopub.status.busy": "2025-05-15T16:04:34.752364Z",
     "iopub.status.idle": "2025-05-15T16:04:34.754895Z",
     "shell.execute_reply": "2025-05-15T16:04:34.754506Z"
    },
    "papermill": {
     "duration": 0.009405,
     "end_time": "2025-05-15T16:04:34.755753",
     "exception": false,
     "start_time": "2025-05-15T16:04:34.746348",
     "status": "completed"
    },
    "tags": [
     "injected-parameters"
    ]
   },
   "outputs": [],
   "source": [
    "# Parameters\n",
    "CELL_TYPE = \"T_CD8_Naive\"\n",
    "SEED = 12\n",
    "TEST_SPLIT_IDX = 0\n"
   ]
  },
  {
   "cell_type": "code",
   "execution_count": 3,
   "id": "4d95ff5d",
   "metadata": {
    "execution": {
     "iopub.execute_input": "2025-05-15T16:04:34.778852Z",
     "iopub.status.busy": "2025-05-15T16:04:34.778359Z",
     "iopub.status.idle": "2025-05-15T16:04:34.780812Z",
     "shell.execute_reply": "2025-05-15T16:04:34.780448Z"
    },
    "papermill": {
     "duration": 0.02051,
     "end_time": "2025-05-15T16:04:34.781672",
     "exception": false,
     "start_time": "2025-05-15T16:04:34.761162",
     "status": "completed"
    },
    "tags": []
   },
   "outputs": [],
   "source": [
    "N_SPLITS: int = 5\n",
    "N_TRIALS: int = 50"
   ]
  },
  {
   "cell_type": "code",
   "execution_count": 4,
   "id": "98f86cd4",
   "metadata": {
    "execution": {
     "iopub.execute_input": "2025-05-15T16:04:34.794097Z",
     "iopub.status.busy": "2025-05-15T16:04:34.793741Z",
     "iopub.status.idle": "2025-05-15T16:04:36.404420Z",
     "shell.execute_reply": "2025-05-15T16:04:36.404017Z"
    },
    "papermill": {
     "duration": 1.618694,
     "end_time": "2025-05-15T16:04:36.405747",
     "exception": false,
     "start_time": "2025-05-15T16:04:34.787053",
     "status": "completed"
    },
    "tags": []
   },
   "outputs": [],
   "source": [
    "import os\n",
    "import sys\n",
    "from pyprojroot.here import here\n",
    "import pandas as pd\n",
    "import anndata as ad\n",
    "import numpy as np\n",
    "import math\n",
    "from sklearn.model_selection import StratifiedGroupKFold\n",
    "from sklearn.preprocessing import LabelEncoder\n",
    "from sklearn.metrics import f1_score\n",
    "import matplotlib.pyplot as plt\n",
    "import seaborn as sns\n",
    "from itertools import product\n",
    "from sklearn.metrics import balanced_accuracy_score, f1_score\n",
    "import optuna\n",
    "\n",
    "import joblib\n",
    "import pickle\n",
    "import datetime\n",
    "\n",
    "import collections\n",
    "\n",
    "import xgboost\n",
    "from sklearn.preprocessing import LabelEncoder\n",
    "\n",
    "import scipy.sparse as ssp\n",
    "import joblib\n",
    "\n",
    "from dotenv import load_dotenv"
   ]
  },
  {
   "cell_type": "code",
   "execution_count": 5,
   "id": "76f5b85e",
   "metadata": {
    "execution": {
     "iopub.execute_input": "2025-05-15T16:04:36.417953Z",
     "iopub.status.busy": "2025-05-15T16:04:36.417591Z",
     "iopub.status.idle": "2025-05-15T16:04:36.423208Z",
     "shell.execute_reply": "2025-05-15T16:04:36.422896Z"
    },
    "papermill": {
     "duration": 0.012338,
     "end_time": "2025-05-15T16:04:36.424060",
     "exception": false,
     "start_time": "2025-05-15T16:04:36.411722",
     "status": "completed"
    },
    "tags": []
   },
   "outputs": [
    {
     "data": {
      "text/plain": [
       "True"
      ]
     },
     "execution_count": 5,
     "metadata": {},
     "output_type": "execute_result"
    }
   ],
   "source": [
    "load_dotenv()"
   ]
  },
  {
   "cell_type": "markdown",
   "id": "56852fb2",
   "metadata": {
    "papermill": {
     "duration": 0.005236,
     "end_time": "2025-05-15T16:04:36.434461",
     "exception": false,
     "start_time": "2025-05-15T16:04:36.429225",
     "status": "completed"
    },
    "tags": []
   },
   "source": [
    "# LOAD DATASET"
   ]
  },
  {
   "cell_type": "code",
   "execution_count": 6,
   "id": "40121372",
   "metadata": {
    "execution": {
     "iopub.execute_input": "2025-05-15T16:04:36.446006Z",
     "iopub.status.busy": "2025-05-15T16:04:36.445777Z",
     "iopub.status.idle": "2025-05-15T16:04:36.682937Z",
     "shell.execute_reply": "2025-05-15T16:04:36.682497Z"
    },
    "papermill": {
     "duration": 0.24431,
     "end_time": "2025-05-15T16:04:36.684229",
     "exception": false,
     "start_time": "2025-05-15T16:04:36.439919",
     "status": "completed"
    },
    "tags": []
   },
   "outputs": [],
   "source": [
    "train_adata = ad.read_h5ad(\n",
    "    here(f'03_downstream_analysis/08_gene_importance/xgboost_external_validation/xgboost_TopN_genes/data_cellTypes/EXTERNAL_{CELL_TYPE}.filtered.log1p.h5ad')\n",
    ")"
   ]
  },
  {
   "cell_type": "code",
   "execution_count": 7,
   "id": "0afcc550",
   "metadata": {
    "execution": {
     "iopub.execute_input": "2025-05-15T16:04:36.695598Z",
     "iopub.status.busy": "2025-05-15T16:04:36.695347Z",
     "iopub.status.idle": "2025-05-15T16:04:36.711801Z",
     "shell.execute_reply": "2025-05-15T16:04:36.711380Z"
    },
    "papermill": {
     "duration": 0.022765,
     "end_time": "2025-05-15T16:04:36.712621",
     "exception": false,
     "start_time": "2025-05-15T16:04:36.689856",
     "status": "completed"
    },
    "tags": []
   },
   "outputs": [
    {
     "name": "stdout",
     "output_type": "stream",
     "text": [
      "['ENSG00000165527' 'ENSG00000082074' 'ENSG00000177885' 'ENSG00000205220'\n",
      " 'ENSG00000105835' 'ENSG00000121879' 'ENSG00000128524' 'ENSG00000168894'\n",
      " 'ENSG00000239697' 'ENSG00000167664' 'ENSG00000103187' 'ENSG00000114737'\n",
      " 'ENSG00000015475' 'ENSG00000148908' 'ENSG00000142669' 'ENSG00000125347'\n",
      " 'ENSG00000110876' 'ENSG00000163191' 'ENSG00000005339' 'ENSG00000177606'\n",
      " 'ENSG00000182287' 'ENSG00000146278' 'ENSG00000197471' 'ENSG00000116171'\n",
      " 'ENSG00000122359' 'ENSG00000173812' 'ENSG00000143575' 'ENSG00000092820'\n",
      " 'ENSG00000170296' 'ENSG00000163931' 'ENSG00000157873' 'ENSG00000164674'\n",
      " 'ENSG00000108639' 'ENSG00000155368' 'ENSG00000100393' 'ENSG00000163600'\n",
      " 'ENSG00000075785' 'ENSG00000100664' 'ENSG00000100100' 'ENSG00000117984'\n",
      " 'ENSG00000109321' 'ENSG00000167996' 'ENSG00000143119' 'ENSG00000206503'\n",
      " 'ENSG00000166681' 'ENSG00000115073' 'ENSG00000158050' 'ENSG00000197747'\n",
      " 'ENSG00000141506' 'ENSG00000171700' 'ENSG00000139626' 'ENSG00000166888'\n",
      " 'ENSG00000189283' 'ENSG00000182866' 'ENSG00000143774' 'ENSG00000126561'\n",
      " 'ENSG00000100934' 'ENSG00000127540' 'ENSG00000183486' 'ENSG00000177721'\n",
      " 'ENSG00000189067' 'ENSG00000160213' 'ENSG00000135720' 'ENSG00000271503'\n",
      " 'ENSG00000068831' 'ENSG00000196396' 'ENSG00000172543' 'ENSG00000099204'\n",
      " 'ENSG00000162704' 'ENSG00000110324' 'ENSG00000158517' 'ENSG00000101695'\n",
      " 'ENSG00000122862' 'ENSG00000121858' 'ENSG00000162434' 'ENSG00000105373'\n",
      " 'ENSG00000160712' 'ENSG00000264364' 'ENSG00000170581' 'ENSG00000163513'\n",
      " 'ENSG00000165272' 'ENSG00000235162' 'ENSG00000104763' 'ENSG00000175390'\n",
      " 'ENSG00000184752' 'ENSG00000120742' 'ENSG00000081059' 'ENSG00000100902'\n",
      " 'ENSG00000132432' 'ENSG00000113732' 'ENSG00000179094' 'ENSG00000146457'\n",
      " 'ENSG00000145912' 'ENSG00000204843' 'ENSG00000143543' 'ENSG00000179295'\n",
      " 'ENSG00000111348' 'ENSG00000154814' 'ENSG00000153234' 'ENSG00000163660'\n",
      " 'ENSG00000128340' 'ENSG00000103490' 'ENSG00000141367' 'ENSG00000104904'\n",
      " 'ENSG00000117602' 'ENSG00000277734' 'ENSG00000101608' 'ENSG00000160932'\n",
      " 'ENSG00000171791' 'ENSG00000167283']\n"
     ]
    }
   ],
   "source": [
    "if SEED != 'all':\n",
    "    gene_subset = np.load(here(f'03_downstream_analysis/08_gene_importance/xgboost_external_validation/shap_gene_selection/gene_subsets_{N_GENES}/{CELL_TYPE}_{SEED}.npy'), allow_pickle=True)\n",
    "    train_adata = train_adata[:,gene_subset]\n",
    "    print(gene_subset)\n",
    "elif SEED == 'all':\n",
    "    print('Using all genes')\n",
    "else:\n",
    "    raise ValueError()"
   ]
  },
  {
   "cell_type": "code",
   "execution_count": 8,
   "id": "9b120ae8",
   "metadata": {
    "execution": {
     "iopub.execute_input": "2025-05-15T16:04:36.725335Z",
     "iopub.status.busy": "2025-05-15T16:04:36.724775Z",
     "iopub.status.idle": "2025-05-15T16:04:36.728303Z",
     "shell.execute_reply": "2025-05-15T16:04:36.727980Z"
    },
    "papermill": {
     "duration": 0.010762,
     "end_time": "2025-05-15T16:04:36.729112",
     "exception": false,
     "start_time": "2025-05-15T16:04:36.718350",
     "status": "completed"
    },
    "tags": []
   },
   "outputs": [
    {
     "data": {
      "text/plain": [
       "(37072, 110)"
      ]
     },
     "execution_count": 8,
     "metadata": {},
     "output_type": "execute_result"
    }
   ],
   "source": [
    "train_adata.shape"
   ]
  },
  {
   "cell_type": "code",
   "execution_count": 9,
   "id": "1073ba26",
   "metadata": {
    "execution": {
     "iopub.execute_input": "2025-05-15T16:04:36.741392Z",
     "iopub.status.busy": "2025-05-15T16:04:36.740712Z",
     "iopub.status.idle": "2025-05-15T16:04:36.745253Z",
     "shell.execute_reply": "2025-05-15T16:04:36.744926Z"
    },
    "papermill": {
     "duration": 0.011668,
     "end_time": "2025-05-15T16:04:36.746116",
     "exception": false,
     "start_time": "2025-05-15T16:04:36.734448",
     "status": "completed"
    },
    "tags": []
   },
   "outputs": [
    {
     "data": {
      "text/plain": [
       "['RA', 'COVID', 'healthy', 'HIV', 'cirrhosis', 'CD', 'SLE', 'sepsis']\n",
       "Categories (8, object): ['CD', 'COVID', 'HIV', 'RA', 'SLE', 'cirrhosis', 'healthy', 'sepsis']"
      ]
     },
     "execution_count": 9,
     "metadata": {},
     "output_type": "execute_result"
    }
   ],
   "source": [
    "train_adata.obs.disease.unique()"
   ]
  },
  {
   "cell_type": "code",
   "execution_count": 10,
   "id": "ac13b3da",
   "metadata": {
    "execution": {
     "iopub.execute_input": "2025-05-15T16:04:36.759627Z",
     "iopub.status.busy": "2025-05-15T16:04:36.758995Z",
     "iopub.status.idle": "2025-05-15T16:04:36.763579Z",
     "shell.execute_reply": "2025-05-15T16:04:36.763246Z"
    },
    "papermill": {
     "duration": 0.011743,
     "end_time": "2025-05-15T16:04:36.764383",
     "exception": false,
     "start_time": "2025-05-15T16:04:36.752640",
     "status": "completed"
    },
    "tags": []
   },
   "outputs": [
    {
     "data": {
      "text/plain": [
       "['SCGT00val_I036024_T0', 'SCGT00val_I0364_T0', 'SCGT00val_I036019_T0', 'SCGT00val_I036028_T0', 'SCGT00val_I036021_T0', ..., '10XGenomics_10XHC2_T0', '10XGenomics_10XHC3_T0', '10XGenomics_10XHC5_T0', '10XGenomics_10XHC7_T0', '10XGenomics_10XHC8_T0']\n",
       "Length: 86\n",
       "Categories (86, object): ['10XGenomics_10XHC1_T0', '10XGenomics_10XHC2_T0', '10XGenomics_10XHC3_T0', '10XGenomics_10XHC4_T0', ..., 'Savage2021_BRISL6_T0', 'Savage2021_BRISL7_T0', 'Savage2021_PIDA_T0', 'Savage2021_PIDB_T0']"
      ]
     },
     "execution_count": 10,
     "metadata": {},
     "output_type": "execute_result"
    }
   ],
   "source": [
    "train_adata.obs.sampleID.unique()"
   ]
  },
  {
   "cell_type": "code",
   "execution_count": 11,
   "id": "4a33d08d",
   "metadata": {
    "execution": {
     "iopub.execute_input": "2025-05-15T16:04:36.776885Z",
     "iopub.status.busy": "2025-05-15T16:04:36.776139Z",
     "iopub.status.idle": "2025-05-15T16:04:36.882697Z",
     "shell.execute_reply": "2025-05-15T16:04:36.882291Z"
    },
    "papermill": {
     "duration": 0.113884,
     "end_time": "2025-05-15T16:04:36.883853",
     "exception": false,
     "start_time": "2025-05-15T16:04:36.769969",
     "status": "completed"
    },
    "tags": []
   },
   "outputs": [],
   "source": [
    "all_idxs = np.arange(train_adata.obs.shape[0])\n",
    "left_out_splits = [s[1] for s in StratifiedGroupKFold(n_splits=N_SPLITS).split(all_idxs, train_adata.obs.disease, train_adata.obs.sampleID)]"
   ]
  },
  {
   "cell_type": "code",
   "execution_count": 12,
   "id": "183c1c1e",
   "metadata": {
    "execution": {
     "iopub.execute_input": "2025-05-15T16:04:36.896607Z",
     "iopub.status.busy": "2025-05-15T16:04:36.896373Z",
     "iopub.status.idle": "2025-05-15T16:04:36.899716Z",
     "shell.execute_reply": "2025-05-15T16:04:36.899410Z"
    },
    "papermill": {
     "duration": 0.010314,
     "end_time": "2025-05-15T16:04:36.900508",
     "exception": false,
     "start_time": "2025-05-15T16:04:36.890194",
     "status": "completed"
    },
    "tags": []
   },
   "outputs": [
    {
     "data": {
      "text/plain": [
       "([2, 3, 4], 1, 0)"
      ]
     },
     "execution_count": 12,
     "metadata": {},
     "output_type": "execute_result"
    }
   ],
   "source": [
    "TRAIN_SPLIT_IDXS = [0,1,2,3,4]\n",
    "VAL_SPLIT_IDX = (TEST_SPLIT_IDX + 1) % 5\n",
    "TRAIN_SPLIT_IDXS.remove(TEST_SPLIT_IDX)\n",
    "TRAIN_SPLIT_IDXS.remove(VAL_SPLIT_IDX)\n",
    "TRAIN_SPLIT_IDXS, VAL_SPLIT_IDX, TEST_SPLIT_IDX"
   ]
  },
  {
   "cell_type": "code",
   "execution_count": 13,
   "id": "234b46f6",
   "metadata": {
    "execution": {
     "iopub.execute_input": "2025-05-15T16:04:36.912336Z",
     "iopub.status.busy": "2025-05-15T16:04:36.911945Z",
     "iopub.status.idle": "2025-05-15T16:04:36.914292Z",
     "shell.execute_reply": "2025-05-15T16:04:36.914006Z"
    },
    "papermill": {
     "duration": 0.009143,
     "end_time": "2025-05-15T16:04:36.915083",
     "exception": false,
     "start_time": "2025-05-15T16:04:36.905940",
     "status": "completed"
    },
    "tags": []
   },
   "outputs": [],
   "source": [
    "train_idxs = np.concatenate([left_out_splits[idx] for idx in TRAIN_SPLIT_IDXS])\n",
    "val_idxs = left_out_splits[VAL_SPLIT_IDX]\n",
    "test_idxs = left_out_splits[TEST_SPLIT_IDX]"
   ]
  },
  {
   "cell_type": "markdown",
   "id": "bcef491d",
   "metadata": {
    "papermill": {
     "duration": 0.005152,
     "end_time": "2025-05-15T16:04:36.925726",
     "exception": false,
     "start_time": "2025-05-15T16:04:36.920574",
     "status": "completed"
    },
    "tags": []
   },
   "source": [
    "### SUBSET DATASET INTO TRAIN/TEST/VAL SPLITS"
   ]
  },
  {
   "cell_type": "code",
   "execution_count": 14,
   "id": "9af7de89",
   "metadata": {
    "execution": {
     "iopub.execute_input": "2025-05-15T16:04:36.938331Z",
     "iopub.status.busy": "2025-05-15T16:04:36.937778Z",
     "iopub.status.idle": "2025-05-15T16:04:37.035699Z",
     "shell.execute_reply": "2025-05-15T16:04:37.035340Z"
    },
    "papermill": {
     "duration": 0.105244,
     "end_time": "2025-05-15T16:04:37.036586",
     "exception": false,
     "start_time": "2025-05-15T16:04:36.931342",
     "status": "completed"
    },
    "tags": []
   },
   "outputs": [
    {
     "data": {
      "text/plain": [
       "((21086, 110), (7404, 110), (8582, 110))"
      ]
     },
     "execution_count": 14,
     "metadata": {},
     "output_type": "execute_result"
    }
   ],
   "source": [
    "X_train = train_adata.X[train_idxs]\n",
    "X_test = train_adata.X[test_idxs]\n",
    "X_val = train_adata.X[val_idxs]\n",
    "X_train.shape, X_test.shape, X_val.shape"
   ]
  },
  {
   "cell_type": "code",
   "execution_count": 15,
   "id": "745149f1",
   "metadata": {
    "execution": {
     "iopub.execute_input": "2025-05-15T16:04:37.049650Z",
     "iopub.status.busy": "2025-05-15T16:04:37.049169Z",
     "iopub.status.idle": "2025-05-15T16:04:37.056898Z",
     "shell.execute_reply": "2025-05-15T16:04:37.056577Z"
    },
    "papermill": {
     "duration": 0.015009,
     "end_time": "2025-05-15T16:04:37.057701",
     "exception": false,
     "start_time": "2025-05-15T16:04:37.042692",
     "status": "completed"
    },
    "tags": []
   },
   "outputs": [
    {
     "data": {
      "text/plain": [
       "((21086,), (7404,), (8582,))"
      ]
     },
     "execution_count": 15,
     "metadata": {},
     "output_type": "execute_result"
    }
   ],
   "source": [
    "y_train = train_adata.obs.iloc[train_idxs].disease.values.astype(str)\n",
    "y_test = train_adata.obs.iloc[test_idxs].disease.values.astype(str)\n",
    "y_val = train_adata.obs.iloc[val_idxs].disease.values.astype(str)\n",
    "y_train.shape, y_test.shape, y_val.shape"
   ]
  },
  {
   "cell_type": "code",
   "execution_count": 16,
   "id": "8bef098e",
   "metadata": {
    "execution": {
     "iopub.execute_input": "2025-05-15T16:04:37.070082Z",
     "iopub.status.busy": "2025-05-15T16:04:37.069914Z",
     "iopub.status.idle": "2025-05-15T16:04:37.079830Z",
     "shell.execute_reply": "2025-05-15T16:04:37.079477Z"
    },
    "papermill": {
     "duration": 0.017158,
     "end_time": "2025-05-15T16:04:37.080709",
     "exception": false,
     "start_time": "2025-05-15T16:04:37.063551",
     "status": "completed"
    },
    "tags": []
   },
   "outputs": [],
   "source": [
    "lenc = LabelEncoder()\n",
    "y_train_enc = lenc.fit_transform(y_train)\n",
    "y_val_enc = lenc.transform(y_val)\n",
    "y_test_enc = lenc.transform(y_test)"
   ]
  },
  {
   "cell_type": "markdown",
   "id": "2c757e01",
   "metadata": {
    "papermill": {
     "duration": 0.005515,
     "end_time": "2025-05-15T16:04:37.092328",
     "exception": false,
     "start_time": "2025-05-15T16:04:37.086813",
     "status": "completed"
    },
    "tags": []
   },
   "source": [
    "### GENERATE F1 "
   ]
  },
  {
   "cell_type": "code",
   "execution_count": 17,
   "id": "28ce60f7",
   "metadata": {
    "execution": {
     "iopub.execute_input": "2025-05-15T16:04:37.104691Z",
     "iopub.status.busy": "2025-05-15T16:04:37.104200Z",
     "iopub.status.idle": "2025-05-15T16:04:37.106511Z",
     "shell.execute_reply": "2025-05-15T16:04:37.106223Z"
    },
    "papermill": {
     "duration": 0.009162,
     "end_time": "2025-05-15T16:04:37.107302",
     "exception": false,
     "start_time": "2025-05-15T16:04:37.098140",
     "status": "completed"
    },
    "tags": []
   },
   "outputs": [],
   "source": [
    "def custom_f1_score(y_true, y_pred):\n",
    "    return -f1_score(y_true, y_pred.argmax(1), average='weighted')"
   ]
  },
  {
   "cell_type": "code",
   "execution_count": 18,
   "id": "fab2054b",
   "metadata": {
    "execution": {
     "iopub.execute_input": "2025-05-15T16:04:37.118952Z",
     "iopub.status.busy": "2025-05-15T16:04:37.118580Z",
     "iopub.status.idle": "2025-05-15T16:04:37.122247Z",
     "shell.execute_reply": "2025-05-15T16:04:37.121945Z"
    },
    "papermill": {
     "duration": 0.010435,
     "end_time": "2025-05-15T16:04:37.123044",
     "exception": false,
     "start_time": "2025-05-15T16:04:37.112609",
     "status": "completed"
    },
    "tags": []
   },
   "outputs": [],
   "source": [
    "eval_metric=custom_f1_score\n",
    "eval_metric_name='custom_f1_score'\n",
    "\n",
    "def objective(trial):\n",
    "    params = {\n",
    "        'n_estimators': 1500,\n",
    "        'max_depth': trial.suggest_int('max_depth', 3, 20),\n",
    "        'min_child_weight': trial.suggest_int('min_child_weight', 1, 250),\n",
    "        'subsample': trial.suggest_float('subsample', 0.1, 1.0),\n",
    "        'colsample_bynode': trial.suggest_float('colsample_bynode', 0.1, 1.0),\n",
    "        'learning_rate': trial.suggest_float('learning_rate', 1e-3, 5e-1, log=True),\n",
    "    }\n",
    "    pruning_callback = optuna.integration.XGBoostPruningCallback(trial, f'validation_0-{eval_metric_name}')\n",
    "    es_callback = xgboost.callback.EarlyStopping(20, min_delta=0.001)\n",
    "    xgb = xgboost.XGBClassifier(\n",
    "        eval_metric=eval_metric,\n",
    "        callbacks=[pruning_callback, es_callback],\n",
    "        n_jobs=5,\n",
    "        **params\n",
    "    )\n",
    "    xgb.fit(\n",
    "        X_train, \n",
    "        y_train_enc, \n",
    "        verbose=0,\n",
    "        eval_set=[(X_val, y_val_enc)],\n",
    "    )\n",
    "    trial.set_user_attr('best_iteration', xgb.best_iteration)\n",
    "\n",
    "    return xgb.best_score"
   ]
  },
  {
   "cell_type": "code",
   "execution_count": 19,
   "id": "1ca8df41",
   "metadata": {
    "execution": {
     "iopub.execute_input": "2025-05-15T16:04:37.135601Z",
     "iopub.status.busy": "2025-05-15T16:04:37.135388Z",
     "iopub.status.idle": "2025-05-15T16:07:34.445713Z",
     "shell.execute_reply": "2025-05-15T16:07:34.445237Z"
    },
    "papermill": {
     "duration": 177.318099,
     "end_time": "2025-05-15T16:07:34.446865",
     "exception": false,
     "start_time": "2025-05-15T16:04:37.128766",
     "status": "completed"
    },
    "scrolled": true,
    "tags": []
   },
   "outputs": [
    {
     "name": "stderr",
     "output_type": "stream",
     "text": [
      "[I 2025-05-15 18:04:37,137] A new study created in memory with name: no-name-6ed29c5a-0e7f-4a43-a3cb-ab6f5bba37e8\n"
     ]
    },
    {
     "name": "stderr",
     "output_type": "stream",
     "text": [
      "[I 2025-05-15 18:04:38,456] Trial 0 finished with value: -0.509092 and parameters: {'max_depth': 9, 'min_child_weight': 238, 'subsample': 0.7587945476302645, 'colsample_bynode': 0.6387926357773329, 'learning_rate': 0.0026368755339723046}. Best is trial 0 with value: -0.509092.\n"
     ]
    },
    {
     "name": "stderr",
     "output_type": "stream",
     "text": [
      "[I 2025-05-15 18:04:48,060] Trial 1 finished with value: -0.664717 and parameters: {'max_depth': 5, 'min_child_weight': 15, 'subsample': 0.8795585311974417, 'colsample_bynode': 0.6410035105688879, 'learning_rate': 0.08148293210105287}. Best is trial 1 with value: -0.664717.\n"
     ]
    },
    {
     "name": "stderr",
     "output_type": "stream",
     "text": [
      "[I 2025-05-15 18:04:49,215] Trial 2 finished with value: -0.482988 and parameters: {'max_depth': 3, 'min_child_weight': 243, 'subsample': 0.8491983767203796, 'colsample_bynode': 0.29110519961044856, 'learning_rate': 0.003095566460242371}. Best is trial 1 with value: -0.664717.\n"
     ]
    },
    {
     "name": "stderr",
     "output_type": "stream",
     "text": [
      "[I 2025-05-15 18:04:50,735] Trial 3 finished with value: -0.565145 and parameters: {'max_depth': 6, 'min_child_weight': 77, 'subsample': 0.5722807884690141, 'colsample_bynode': 0.48875051677790415, 'learning_rate': 0.006109683510122491}. Best is trial 1 with value: -0.664717.\n"
     ]
    },
    {
     "name": "stderr",
     "output_type": "stream",
     "text": [
      "[I 2025-05-15 18:05:17,016] Trial 4 finished with value: -0.646628 and parameters: {'max_depth': 14, 'min_child_weight': 35, 'subsample': 0.3629301836816964, 'colsample_bynode': 0.4297256589643226, 'learning_rate': 0.01701841881702917}. Best is trial 1 with value: -0.664717.\n"
     ]
    },
    {
     "name": "stderr",
     "output_type": "stream",
     "text": [
      "[I 2025-05-15 18:05:19,074] Trial 5 finished with value: -0.570447 and parameters: {'max_depth': 17, 'min_child_weight': 50, 'subsample': 0.5628109945722505, 'colsample_bynode': 0.6331731119758383, 'learning_rate': 0.0013346527038305934}. Best is trial 1 with value: -0.664717.\n"
     ]
    },
    {
     "name": "stderr",
     "output_type": "stream",
     "text": [
      "[I 2025-05-15 18:05:19,316] Trial 6 pruned. Trial was pruned at iteration 0.\n"
     ]
    },
    {
     "name": "stderr",
     "output_type": "stream",
     "text": [
      "[I 2025-05-15 18:05:19,548] Trial 7 pruned. Trial was pruned at iteration 0.\n"
     ]
    },
    {
     "name": "stderr",
     "output_type": "stream",
     "text": [
      "[I 2025-05-15 18:05:19,764] Trial 8 pruned. Trial was pruned at iteration 0.\n"
     ]
    },
    {
     "name": "stderr",
     "output_type": "stream",
     "text": [
      "[I 2025-05-15 18:05:21,511] Trial 9 finished with value: -0.552329 and parameters: {'max_depth': 14, 'min_child_weight': 78, 'subsample': 0.5680612190600297, 'colsample_bynode': 0.5920392514089517, 'learning_rate': 0.0031543990308330965}. Best is trial 1 with value: -0.664717.\n"
     ]
    },
    {
     "name": "stderr",
     "output_type": "stream",
     "text": [
      "[I 2025-05-15 18:05:21,848] Trial 10 pruned. Trial was pruned at iteration 0.\n"
     ]
    },
    {
     "name": "stderr",
     "output_type": "stream",
     "text": [
      "[I 2025-05-15 18:05:43,022] Trial 11 finished with value: -0.661599 and parameters: {'max_depth': 10, 'min_child_weight': 3, 'subsample': 0.34014304150377095, 'colsample_bynode': 0.40131565860091256, 'learning_rate': 0.057899203666416425}. Best is trial 1 with value: -0.664717.\n"
     ]
    },
    {
     "name": "stderr",
     "output_type": "stream",
     "text": [
      "[I 2025-05-15 18:05:56,410] Trial 12 finished with value: -0.667945 and parameters: {'max_depth': 8, 'min_child_weight': 3, 'subsample': 0.3693916175642251, 'colsample_bynode': 0.351751713087183, 'learning_rate': 0.07220195396446884}. Best is trial 12 with value: -0.667945.\n"
     ]
    },
    {
     "name": "stderr",
     "output_type": "stream",
     "text": [
      "[I 2025-05-15 18:05:56,642] Trial 13 pruned. Trial was pruned at iteration 0.\n"
     ]
    },
    {
     "name": "stderr",
     "output_type": "stream",
     "text": [
      "[I 2025-05-15 18:05:56,894] Trial 14 pruned. Trial was pruned at iteration 0.\n"
     ]
    },
    {
     "name": "stderr",
     "output_type": "stream",
     "text": [
      "[I 2025-05-15 18:05:57,110] Trial 15 pruned. Trial was pruned at iteration 0.\n"
     ]
    },
    {
     "name": "stderr",
     "output_type": "stream",
     "text": [
      "[I 2025-05-15 18:05:57,367] Trial 16 pruned. Trial was pruned at iteration 0.\n"
     ]
    },
    {
     "name": "stderr",
     "output_type": "stream",
     "text": [
      "[I 2025-05-15 18:05:57,590] Trial 17 pruned. Trial was pruned at iteration 0.\n"
     ]
    },
    {
     "name": "stderr",
     "output_type": "stream",
     "text": [
      "[I 2025-05-15 18:06:04,224] Trial 18 finished with value: -0.66897 and parameters: {'max_depth': 8, 'min_child_weight': 37, 'subsample': 0.47368595472697, 'colsample_bynode': 0.5260950582681523, 'learning_rate': 0.1892056162835139}. Best is trial 18 with value: -0.66897.\n"
     ]
    },
    {
     "name": "stderr",
     "output_type": "stream",
     "text": [
      "[I 2025-05-15 18:06:04,467] Trial 19 pruned. Trial was pruned at iteration 0.\n"
     ]
    },
    {
     "name": "stderr",
     "output_type": "stream",
     "text": [
      "[I 2025-05-15 18:06:04,730] Trial 20 pruned. Trial was pruned at iteration 0.\n"
     ]
    },
    {
     "name": "stderr",
     "output_type": "stream",
     "text": [
      "[I 2025-05-15 18:06:04,986] Trial 21 pruned. Trial was pruned at iteration 0.\n"
     ]
    },
    {
     "name": "stderr",
     "output_type": "stream",
     "text": [
      "[I 2025-05-15 18:06:05,255] Trial 22 pruned. Trial was pruned at iteration 0.\n"
     ]
    },
    {
     "name": "stderr",
     "output_type": "stream",
     "text": [
      "[I 2025-05-15 18:06:05,651] Trial 23 pruned. Trial was pruned at iteration 0.\n"
     ]
    },
    {
     "name": "stderr",
     "output_type": "stream",
     "text": [
      "[I 2025-05-15 18:06:05,906] Trial 24 pruned. Trial was pruned at iteration 0.\n"
     ]
    },
    {
     "name": "stderr",
     "output_type": "stream",
     "text": [
      "[I 2025-05-15 18:06:08,115] Trial 25 pruned. Trial was pruned at iteration 21.\n"
     ]
    },
    {
     "name": "stderr",
     "output_type": "stream",
     "text": [
      "[I 2025-05-15 18:06:08,372] Trial 26 pruned. Trial was pruned at iteration 0.\n"
     ]
    },
    {
     "name": "stderr",
     "output_type": "stream",
     "text": [
      "[I 2025-05-15 18:06:08,625] Trial 27 pruned. Trial was pruned at iteration 0.\n"
     ]
    },
    {
     "name": "stderr",
     "output_type": "stream",
     "text": [
      "[I 2025-05-15 18:06:08,878] Trial 28 pruned. Trial was pruned at iteration 0.\n"
     ]
    },
    {
     "name": "stderr",
     "output_type": "stream",
     "text": [
      "[I 2025-05-15 18:06:09,125] Trial 29 pruned. Trial was pruned at iteration 0.\n"
     ]
    },
    {
     "name": "stderr",
     "output_type": "stream",
     "text": [
      "[I 2025-05-15 18:06:10,624] Trial 30 pruned. Trial was pruned at iteration 20.\n"
     ]
    },
    {
     "name": "stderr",
     "output_type": "stream",
     "text": [
      "[I 2025-05-15 18:06:19,775] Trial 31 pruned. Trial was pruned at iteration 73.\n"
     ]
    },
    {
     "name": "stderr",
     "output_type": "stream",
     "text": [
      "[I 2025-05-15 18:06:21,634] Trial 32 finished with value: -0.592941 and parameters: {'max_depth': 11, 'min_child_weight': 37, 'subsample': 0.4057243771522206, 'colsample_bynode': 0.4534700726613149, 'learning_rate': 0.07009319176425018}. Best is trial 18 with value: -0.66897.\n"
     ]
    },
    {
     "name": "stderr",
     "output_type": "stream",
     "text": [
      "[I 2025-05-15 18:06:21,883] Trial 33 pruned. Trial was pruned at iteration 0.\n"
     ]
    },
    {
     "name": "stderr",
     "output_type": "stream",
     "text": [
      "[I 2025-05-15 18:06:23,897] Trial 34 pruned. Trial was pruned at iteration 21.\n"
     ]
    },
    {
     "name": "stderr",
     "output_type": "stream",
     "text": [
      "[I 2025-05-15 18:06:24,153] Trial 35 pruned. Trial was pruned at iteration 0.\n"
     ]
    },
    {
     "name": "stderr",
     "output_type": "stream",
     "text": [
      "[I 2025-05-15 18:06:31,729] Trial 36 finished with value: -0.672148 and parameters: {'max_depth': 12, 'min_child_weight': 32, 'subsample': 0.5148146468917117, 'colsample_bynode': 0.5023062928442592, 'learning_rate': 0.17166790553762384}. Best is trial 36 with value: -0.672148.\n"
     ]
    },
    {
     "name": "stderr",
     "output_type": "stream",
     "text": [
      "[I 2025-05-15 18:06:32,031] Trial 37 pruned. Trial was pruned at iteration 0.\n"
     ]
    },
    {
     "name": "stderr",
     "output_type": "stream",
     "text": [
      "[I 2025-05-15 18:06:38,910] Trial 38 finished with value: -0.666506 and parameters: {'max_depth': 15, 'min_child_weight': 57, 'subsample': 0.5417602841880361, 'colsample_bynode': 0.6532653824770864, 'learning_rate': 0.17777133904912773}. Best is trial 36 with value: -0.672148.\n"
     ]
    },
    {
     "name": "stderr",
     "output_type": "stream",
     "text": [
      "[I 2025-05-15 18:06:39,169] Trial 39 pruned. Trial was pruned at iteration 0.\n"
     ]
    },
    {
     "name": "stderr",
     "output_type": "stream",
     "text": [
      "[I 2025-05-15 18:06:39,431] Trial 40 pruned. Trial was pruned at iteration 0.\n"
     ]
    },
    {
     "name": "stderr",
     "output_type": "stream",
     "text": [
      "[I 2025-05-15 18:06:47,377] Trial 41 finished with value: -0.665728 and parameters: {'max_depth': 13, 'min_child_weight': 74, 'subsample': 0.6226863360738848, 'colsample_bynode': 0.6570177362924619, 'learning_rate': 0.14818680588243197}. Best is trial 36 with value: -0.672148.\n"
     ]
    },
    {
     "name": "stderr",
     "output_type": "stream",
     "text": [
      "[I 2025-05-15 18:06:47,663] Trial 42 pruned. Trial was pruned at iteration 0.\n"
     ]
    },
    {
     "name": "stderr",
     "output_type": "stream",
     "text": [
      "[I 2025-05-15 18:06:57,531] Trial 43 finished with value: -0.67171 and parameters: {'max_depth': 13, 'min_child_weight': 49, 'subsample': 0.6161922008056813, 'colsample_bynode': 0.7472960208315244, 'learning_rate': 0.15608842385906863}. Best is trial 36 with value: -0.672148.\n"
     ]
    },
    {
     "name": "stderr",
     "output_type": "stream",
     "text": [
      "[I 2025-05-15 18:07:05,742] Trial 44 finished with value: -0.668822 and parameters: {'max_depth': 13, 'min_child_weight': 51, 'subsample': 0.6886881546269645, 'colsample_bynode': 0.7604695856943576, 'learning_rate': 0.20245121438079122}. Best is trial 36 with value: -0.672148.\n"
     ]
    },
    {
     "name": "stderr",
     "output_type": "stream",
     "text": [
      "[I 2025-05-15 18:07:10,673] Trial 45 finished with value: -0.67244 and parameters: {'max_depth': 12, 'min_child_weight': 42, 'subsample': 0.7011865974452429, 'colsample_bynode': 0.8978616849835288, 'learning_rate': 0.490729442853467}. Best is trial 45 with value: -0.67244.\n"
     ]
    },
    {
     "name": "stderr",
     "output_type": "stream",
     "text": [
      "[I 2025-05-15 18:07:19,548] Trial 46 finished with value: -0.676563 and parameters: {'max_depth': 13, 'min_child_weight': 44, 'subsample': 0.7202523114859704, 'colsample_bynode': 0.9898100413846709, 'learning_rate': 0.31525839823521956}. Best is trial 46 with value: -0.676563.\n"
     ]
    },
    {
     "name": "stderr",
     "output_type": "stream",
     "text": [
      "[I 2025-05-15 18:07:24,767] Trial 47 finished with value: -0.671751 and parameters: {'max_depth': 12, 'min_child_weight': 46, 'subsample': 0.7432460771848873, 'colsample_bynode': 0.9915251666213313, 'learning_rate': 0.48778320369357403}. Best is trial 46 with value: -0.676563.\n"
     ]
    },
    {
     "name": "stderr",
     "output_type": "stream",
     "text": [
      "[I 2025-05-15 18:07:28,358] Trial 48 finished with value: -0.667648 and parameters: {'max_depth': 12, 'min_child_weight': 85, 'subsample': 0.7614902227724476, 'colsample_bynode': 0.990398745409487, 'learning_rate': 0.494694924837157}. Best is trial 46 with value: -0.676563.\n"
     ]
    },
    {
     "name": "stderr",
     "output_type": "stream",
     "text": [
      "[I 2025-05-15 18:07:34,363] Trial 49 finished with value: -0.671068 and parameters: {'max_depth': 13, 'min_child_weight': 28, 'subsample': 0.8076730009146045, 'colsample_bynode': 0.896648575847058, 'learning_rate': 0.39382903551390147}. Best is trial 46 with value: -0.676563.\n"
     ]
    }
   ],
   "source": [
    "sampler = optuna.samplers.TPESampler(seed=42)\n",
    "study = optuna.create_study(direction='minimize', sampler=sampler)\n",
    "study.optimize(objective, n_trials=N_TRIALS, gc_after_trial=True)"
   ]
  },
  {
   "cell_type": "code",
   "execution_count": 20,
   "id": "814f7e33",
   "metadata": {
    "execution": {
     "iopub.execute_input": "2025-05-15T16:07:34.468859Z",
     "iopub.status.busy": "2025-05-15T16:07:34.468694Z",
     "iopub.status.idle": "2025-05-15T16:07:34.493740Z",
     "shell.execute_reply": "2025-05-15T16:07:34.493417Z"
    },
    "papermill": {
     "duration": 0.035631,
     "end_time": "2025-05-15T16:07:34.494681",
     "exception": false,
     "start_time": "2025-05-15T16:07:34.459050",
     "status": "completed"
    },
    "tags": []
   },
   "outputs": [
    {
     "data": {
      "text/plain": [
       "['/scratch_isilon/groups/singlecell/shared/projects/Inflammation-PBMCs-Atlas/03_downstream_analysis/08_gene_importance/xgboost_external_validation/xgboost_TopN_genes/results_20/study/T_CD8_Naive_12_0_xgboost.pkl']"
      ]
     },
     "execution_count": 20,
     "metadata": {},
     "output_type": "execute_result"
    }
   ],
   "source": [
    "out_dir = here(f'03_downstream_analysis/08_gene_importance/xgboost_external_validation/xgboost_TopN_genes/results_{N_GENES}/study')\n",
    "\n",
    "if not os.path.exists(out_dir):\n",
    "    os.makedirs(out_dir)\n",
    "    \n",
    "joblib.dump(study,os.path.join(out_dir, f'{CELL_TYPE}_{SEED}_{TEST_SPLIT_IDX}_xgboost.pkl'))"
   ]
  },
  {
   "cell_type": "code",
   "execution_count": 21,
   "id": "0f739cff",
   "metadata": {
    "execution": {
     "iopub.execute_input": "2025-05-15T16:07:34.511506Z",
     "iopub.status.busy": "2025-05-15T16:07:34.511108Z",
     "iopub.status.idle": "2025-05-15T16:07:42.056048Z",
     "shell.execute_reply": "2025-05-15T16:07:42.055700Z"
    },
    "papermill": {
     "duration": 7.554355,
     "end_time": "2025-05-15T16:07:42.057095",
     "exception": false,
     "start_time": "2025-05-15T16:07:34.502740",
     "status": "completed"
    },
    "tags": []
   },
   "outputs": [
    {
     "data": {
      "text/html": [
       "<style>#sk-container-id-1 {\n",
       "  /* Definition of color scheme common for light and dark mode */\n",
       "  --sklearn-color-text: black;\n",
       "  --sklearn-color-line: gray;\n",
       "  /* Definition of color scheme for unfitted estimators */\n",
       "  --sklearn-color-unfitted-level-0: #fff5e6;\n",
       "  --sklearn-color-unfitted-level-1: #f6e4d2;\n",
       "  --sklearn-color-unfitted-level-2: #ffe0b3;\n",
       "  --sklearn-color-unfitted-level-3: chocolate;\n",
       "  /* Definition of color scheme for fitted estimators */\n",
       "  --sklearn-color-fitted-level-0: #f0f8ff;\n",
       "  --sklearn-color-fitted-level-1: #d4ebff;\n",
       "  --sklearn-color-fitted-level-2: #b3dbfd;\n",
       "  --sklearn-color-fitted-level-3: cornflowerblue;\n",
       "\n",
       "  /* Specific color for light theme */\n",
       "  --sklearn-color-text-on-default-background: var(--sg-text-color, var(--theme-code-foreground, var(--jp-content-font-color1, black)));\n",
       "  --sklearn-color-background: var(--sg-background-color, var(--theme-background, var(--jp-layout-color0, white)));\n",
       "  --sklearn-color-border-box: var(--sg-text-color, var(--theme-code-foreground, var(--jp-content-font-color1, black)));\n",
       "  --sklearn-color-icon: #696969;\n",
       "\n",
       "  @media (prefers-color-scheme: dark) {\n",
       "    /* Redefinition of color scheme for dark theme */\n",
       "    --sklearn-color-text-on-default-background: var(--sg-text-color, var(--theme-code-foreground, var(--jp-content-font-color1, white)));\n",
       "    --sklearn-color-background: var(--sg-background-color, var(--theme-background, var(--jp-layout-color0, #111)));\n",
       "    --sklearn-color-border-box: var(--sg-text-color, var(--theme-code-foreground, var(--jp-content-font-color1, white)));\n",
       "    --sklearn-color-icon: #878787;\n",
       "  }\n",
       "}\n",
       "\n",
       "#sk-container-id-1 {\n",
       "  color: var(--sklearn-color-text);\n",
       "}\n",
       "\n",
       "#sk-container-id-1 pre {\n",
       "  padding: 0;\n",
       "}\n",
       "\n",
       "#sk-container-id-1 input.sk-hidden--visually {\n",
       "  border: 0;\n",
       "  clip: rect(1px 1px 1px 1px);\n",
       "  clip: rect(1px, 1px, 1px, 1px);\n",
       "  height: 1px;\n",
       "  margin: -1px;\n",
       "  overflow: hidden;\n",
       "  padding: 0;\n",
       "  position: absolute;\n",
       "  width: 1px;\n",
       "}\n",
       "\n",
       "#sk-container-id-1 div.sk-dashed-wrapped {\n",
       "  border: 1px dashed var(--sklearn-color-line);\n",
       "  margin: 0 0.4em 0.5em 0.4em;\n",
       "  box-sizing: border-box;\n",
       "  padding-bottom: 0.4em;\n",
       "  background-color: var(--sklearn-color-background);\n",
       "}\n",
       "\n",
       "#sk-container-id-1 div.sk-container {\n",
       "  /* jupyter's `normalize.less` sets `[hidden] { display: none; }`\n",
       "     but bootstrap.min.css set `[hidden] { display: none !important; }`\n",
       "     so we also need the `!important` here to be able to override the\n",
       "     default hidden behavior on the sphinx rendered scikit-learn.org.\n",
       "     See: https://github.com/scikit-learn/scikit-learn/issues/21755 */\n",
       "  display: inline-block !important;\n",
       "  position: relative;\n",
       "}\n",
       "\n",
       "#sk-container-id-1 div.sk-text-repr-fallback {\n",
       "  display: none;\n",
       "}\n",
       "\n",
       "div.sk-parallel-item,\n",
       "div.sk-serial,\n",
       "div.sk-item {\n",
       "  /* draw centered vertical line to link estimators */\n",
       "  background-image: linear-gradient(var(--sklearn-color-text-on-default-background), var(--sklearn-color-text-on-default-background));\n",
       "  background-size: 2px 100%;\n",
       "  background-repeat: no-repeat;\n",
       "  background-position: center center;\n",
       "}\n",
       "\n",
       "/* Parallel-specific style estimator block */\n",
       "\n",
       "#sk-container-id-1 div.sk-parallel-item::after {\n",
       "  content: \"\";\n",
       "  width: 100%;\n",
       "  border-bottom: 2px solid var(--sklearn-color-text-on-default-background);\n",
       "  flex-grow: 1;\n",
       "}\n",
       "\n",
       "#sk-container-id-1 div.sk-parallel {\n",
       "  display: flex;\n",
       "  align-items: stretch;\n",
       "  justify-content: center;\n",
       "  background-color: var(--sklearn-color-background);\n",
       "  position: relative;\n",
       "}\n",
       "\n",
       "#sk-container-id-1 div.sk-parallel-item {\n",
       "  display: flex;\n",
       "  flex-direction: column;\n",
       "}\n",
       "\n",
       "#sk-container-id-1 div.sk-parallel-item:first-child::after {\n",
       "  align-self: flex-end;\n",
       "  width: 50%;\n",
       "}\n",
       "\n",
       "#sk-container-id-1 div.sk-parallel-item:last-child::after {\n",
       "  align-self: flex-start;\n",
       "  width: 50%;\n",
       "}\n",
       "\n",
       "#sk-container-id-1 div.sk-parallel-item:only-child::after {\n",
       "  width: 0;\n",
       "}\n",
       "\n",
       "/* Serial-specific style estimator block */\n",
       "\n",
       "#sk-container-id-1 div.sk-serial {\n",
       "  display: flex;\n",
       "  flex-direction: column;\n",
       "  align-items: center;\n",
       "  background-color: var(--sklearn-color-background);\n",
       "  padding-right: 1em;\n",
       "  padding-left: 1em;\n",
       "}\n",
       "\n",
       "\n",
       "/* Toggleable style: style used for estimator/Pipeline/ColumnTransformer box that is\n",
       "clickable and can be expanded/collapsed.\n",
       "- Pipeline and ColumnTransformer use this feature and define the default style\n",
       "- Estimators will overwrite some part of the style using the `sk-estimator` class\n",
       "*/\n",
       "\n",
       "/* Pipeline and ColumnTransformer style (default) */\n",
       "\n",
       "#sk-container-id-1 div.sk-toggleable {\n",
       "  /* Default theme specific background. It is overwritten whether we have a\n",
       "  specific estimator or a Pipeline/ColumnTransformer */\n",
       "  background-color: var(--sklearn-color-background);\n",
       "}\n",
       "\n",
       "/* Toggleable label */\n",
       "#sk-container-id-1 label.sk-toggleable__label {\n",
       "  cursor: pointer;\n",
       "  display: block;\n",
       "  width: 100%;\n",
       "  margin-bottom: 0;\n",
       "  padding: 0.5em;\n",
       "  box-sizing: border-box;\n",
       "  text-align: center;\n",
       "}\n",
       "\n",
       "#sk-container-id-1 label.sk-toggleable__label-arrow:before {\n",
       "  /* Arrow on the left of the label */\n",
       "  content: \"▸\";\n",
       "  float: left;\n",
       "  margin-right: 0.25em;\n",
       "  color: var(--sklearn-color-icon);\n",
       "}\n",
       "\n",
       "#sk-container-id-1 label.sk-toggleable__label-arrow:hover:before {\n",
       "  color: var(--sklearn-color-text);\n",
       "}\n",
       "\n",
       "/* Toggleable content - dropdown */\n",
       "\n",
       "#sk-container-id-1 div.sk-toggleable__content {\n",
       "  max-height: 0;\n",
       "  max-width: 0;\n",
       "  overflow: hidden;\n",
       "  text-align: left;\n",
       "  /* unfitted */\n",
       "  background-color: var(--sklearn-color-unfitted-level-0);\n",
       "}\n",
       "\n",
       "#sk-container-id-1 div.sk-toggleable__content.fitted {\n",
       "  /* fitted */\n",
       "  background-color: var(--sklearn-color-fitted-level-0);\n",
       "}\n",
       "\n",
       "#sk-container-id-1 div.sk-toggleable__content pre {\n",
       "  margin: 0.2em;\n",
       "  border-radius: 0.25em;\n",
       "  color: var(--sklearn-color-text);\n",
       "  /* unfitted */\n",
       "  background-color: var(--sklearn-color-unfitted-level-0);\n",
       "}\n",
       "\n",
       "#sk-container-id-1 div.sk-toggleable__content.fitted pre {\n",
       "  /* unfitted */\n",
       "  background-color: var(--sklearn-color-fitted-level-0);\n",
       "}\n",
       "\n",
       "#sk-container-id-1 input.sk-toggleable__control:checked~div.sk-toggleable__content {\n",
       "  /* Expand drop-down */\n",
       "  max-height: 200px;\n",
       "  max-width: 100%;\n",
       "  overflow: auto;\n",
       "}\n",
       "\n",
       "#sk-container-id-1 input.sk-toggleable__control:checked~label.sk-toggleable__label-arrow:before {\n",
       "  content: \"▾\";\n",
       "}\n",
       "\n",
       "/* Pipeline/ColumnTransformer-specific style */\n",
       "\n",
       "#sk-container-id-1 div.sk-label input.sk-toggleable__control:checked~label.sk-toggleable__label {\n",
       "  color: var(--sklearn-color-text);\n",
       "  background-color: var(--sklearn-color-unfitted-level-2);\n",
       "}\n",
       "\n",
       "#sk-container-id-1 div.sk-label.fitted input.sk-toggleable__control:checked~label.sk-toggleable__label {\n",
       "  background-color: var(--sklearn-color-fitted-level-2);\n",
       "}\n",
       "\n",
       "/* Estimator-specific style */\n",
       "\n",
       "/* Colorize estimator box */\n",
       "#sk-container-id-1 div.sk-estimator input.sk-toggleable__control:checked~label.sk-toggleable__label {\n",
       "  /* unfitted */\n",
       "  background-color: var(--sklearn-color-unfitted-level-2);\n",
       "}\n",
       "\n",
       "#sk-container-id-1 div.sk-estimator.fitted input.sk-toggleable__control:checked~label.sk-toggleable__label {\n",
       "  /* fitted */\n",
       "  background-color: var(--sklearn-color-fitted-level-2);\n",
       "}\n",
       "\n",
       "#sk-container-id-1 div.sk-label label.sk-toggleable__label,\n",
       "#sk-container-id-1 div.sk-label label {\n",
       "  /* The background is the default theme color */\n",
       "  color: var(--sklearn-color-text-on-default-background);\n",
       "}\n",
       "\n",
       "/* On hover, darken the color of the background */\n",
       "#sk-container-id-1 div.sk-label:hover label.sk-toggleable__label {\n",
       "  color: var(--sklearn-color-text);\n",
       "  background-color: var(--sklearn-color-unfitted-level-2);\n",
       "}\n",
       "\n",
       "/* Label box, darken color on hover, fitted */\n",
       "#sk-container-id-1 div.sk-label.fitted:hover label.sk-toggleable__label.fitted {\n",
       "  color: var(--sklearn-color-text);\n",
       "  background-color: var(--sklearn-color-fitted-level-2);\n",
       "}\n",
       "\n",
       "/* Estimator label */\n",
       "\n",
       "#sk-container-id-1 div.sk-label label {\n",
       "  font-family: monospace;\n",
       "  font-weight: bold;\n",
       "  display: inline-block;\n",
       "  line-height: 1.2em;\n",
       "}\n",
       "\n",
       "#sk-container-id-1 div.sk-label-container {\n",
       "  text-align: center;\n",
       "}\n",
       "\n",
       "/* Estimator-specific */\n",
       "#sk-container-id-1 div.sk-estimator {\n",
       "  font-family: monospace;\n",
       "  border: 1px dotted var(--sklearn-color-border-box);\n",
       "  border-radius: 0.25em;\n",
       "  box-sizing: border-box;\n",
       "  margin-bottom: 0.5em;\n",
       "  /* unfitted */\n",
       "  background-color: var(--sklearn-color-unfitted-level-0);\n",
       "}\n",
       "\n",
       "#sk-container-id-1 div.sk-estimator.fitted {\n",
       "  /* fitted */\n",
       "  background-color: var(--sklearn-color-fitted-level-0);\n",
       "}\n",
       "\n",
       "/* on hover */\n",
       "#sk-container-id-1 div.sk-estimator:hover {\n",
       "  /* unfitted */\n",
       "  background-color: var(--sklearn-color-unfitted-level-2);\n",
       "}\n",
       "\n",
       "#sk-container-id-1 div.sk-estimator.fitted:hover {\n",
       "  /* fitted */\n",
       "  background-color: var(--sklearn-color-fitted-level-2);\n",
       "}\n",
       "\n",
       "/* Specification for estimator info (e.g. \"i\" and \"?\") */\n",
       "\n",
       "/* Common style for \"i\" and \"?\" */\n",
       "\n",
       ".sk-estimator-doc-link,\n",
       "a:link.sk-estimator-doc-link,\n",
       "a:visited.sk-estimator-doc-link {\n",
       "  float: right;\n",
       "  font-size: smaller;\n",
       "  line-height: 1em;\n",
       "  font-family: monospace;\n",
       "  background-color: var(--sklearn-color-background);\n",
       "  border-radius: 1em;\n",
       "  height: 1em;\n",
       "  width: 1em;\n",
       "  text-decoration: none !important;\n",
       "  margin-left: 1ex;\n",
       "  /* unfitted */\n",
       "  border: var(--sklearn-color-unfitted-level-1) 1pt solid;\n",
       "  color: var(--sklearn-color-unfitted-level-1);\n",
       "}\n",
       "\n",
       ".sk-estimator-doc-link.fitted,\n",
       "a:link.sk-estimator-doc-link.fitted,\n",
       "a:visited.sk-estimator-doc-link.fitted {\n",
       "  /* fitted */\n",
       "  border: var(--sklearn-color-fitted-level-1) 1pt solid;\n",
       "  color: var(--sklearn-color-fitted-level-1);\n",
       "}\n",
       "\n",
       "/* On hover */\n",
       "div.sk-estimator:hover .sk-estimator-doc-link:hover,\n",
       ".sk-estimator-doc-link:hover,\n",
       "div.sk-label-container:hover .sk-estimator-doc-link:hover,\n",
       ".sk-estimator-doc-link:hover {\n",
       "  /* unfitted */\n",
       "  background-color: var(--sklearn-color-unfitted-level-3);\n",
       "  color: var(--sklearn-color-background);\n",
       "  text-decoration: none;\n",
       "}\n",
       "\n",
       "div.sk-estimator.fitted:hover .sk-estimator-doc-link.fitted:hover,\n",
       ".sk-estimator-doc-link.fitted:hover,\n",
       "div.sk-label-container:hover .sk-estimator-doc-link.fitted:hover,\n",
       ".sk-estimator-doc-link.fitted:hover {\n",
       "  /* fitted */\n",
       "  background-color: var(--sklearn-color-fitted-level-3);\n",
       "  color: var(--sklearn-color-background);\n",
       "  text-decoration: none;\n",
       "}\n",
       "\n",
       "/* Span, style for the box shown on hovering the info icon */\n",
       ".sk-estimator-doc-link span {\n",
       "  display: none;\n",
       "  z-index: 9999;\n",
       "  position: relative;\n",
       "  font-weight: normal;\n",
       "  right: .2ex;\n",
       "  padding: .5ex;\n",
       "  margin: .5ex;\n",
       "  width: min-content;\n",
       "  min-width: 20ex;\n",
       "  max-width: 50ex;\n",
       "  color: var(--sklearn-color-text);\n",
       "  box-shadow: 2pt 2pt 4pt #999;\n",
       "  /* unfitted */\n",
       "  background: var(--sklearn-color-unfitted-level-0);\n",
       "  border: .5pt solid var(--sklearn-color-unfitted-level-3);\n",
       "}\n",
       "\n",
       ".sk-estimator-doc-link.fitted span {\n",
       "  /* fitted */\n",
       "  background: var(--sklearn-color-fitted-level-0);\n",
       "  border: var(--sklearn-color-fitted-level-3);\n",
       "}\n",
       "\n",
       ".sk-estimator-doc-link:hover span {\n",
       "  display: block;\n",
       "}\n",
       "\n",
       "/* \"?\"-specific style due to the `<a>` HTML tag */\n",
       "\n",
       "#sk-container-id-1 a.estimator_doc_link {\n",
       "  float: right;\n",
       "  font-size: 1rem;\n",
       "  line-height: 1em;\n",
       "  font-family: monospace;\n",
       "  background-color: var(--sklearn-color-background);\n",
       "  border-radius: 1rem;\n",
       "  height: 1rem;\n",
       "  width: 1rem;\n",
       "  text-decoration: none;\n",
       "  /* unfitted */\n",
       "  color: var(--sklearn-color-unfitted-level-1);\n",
       "  border: var(--sklearn-color-unfitted-level-1) 1pt solid;\n",
       "}\n",
       "\n",
       "#sk-container-id-1 a.estimator_doc_link.fitted {\n",
       "  /* fitted */\n",
       "  border: var(--sklearn-color-fitted-level-1) 1pt solid;\n",
       "  color: var(--sklearn-color-fitted-level-1);\n",
       "}\n",
       "\n",
       "/* On hover */\n",
       "#sk-container-id-1 a.estimator_doc_link:hover {\n",
       "  /* unfitted */\n",
       "  background-color: var(--sklearn-color-unfitted-level-3);\n",
       "  color: var(--sklearn-color-background);\n",
       "  text-decoration: none;\n",
       "}\n",
       "\n",
       "#sk-container-id-1 a.estimator_doc_link.fitted:hover {\n",
       "  /* fitted */\n",
       "  background-color: var(--sklearn-color-fitted-level-3);\n",
       "}\n",
       "</style><div id=\"sk-container-id-1\" class=\"sk-top-container\"><div class=\"sk-text-repr-fallback\"><pre>XGBClassifier(base_score=None, booster=None, callbacks=None,\n",
       "              colsample_bylevel=None, colsample_bynode=0.9898100413846709,\n",
       "              colsample_bytree=None, device=None, early_stopping_rounds=None,\n",
       "              enable_categorical=False,\n",
       "              eval_metric=&lt;function custom_f1_score at 0x7fafbea5fa60&gt;,\n",
       "              feature_types=None, gamma=None, grow_policy=None,\n",
       "              importance_type=None, interaction_constraints=None,\n",
       "              learning_rate=0.31525839823521956, max_bin=None,\n",
       "              max_cat_threshold=None, max_cat_to_onehot=None,\n",
       "              max_delta_step=None, max_depth=13, max_leaves=None,\n",
       "              min_child_weight=44, missing=nan, monotone_constraints=None,\n",
       "              multi_strategy=None, n_estimators=106, n_jobs=None,\n",
       "              num_parallel_tree=None, objective=&#x27;multi:softprob&#x27;, ...)</pre><b>In a Jupyter environment, please rerun this cell to show the HTML representation or trust the notebook. <br />On GitHub, the HTML representation is unable to render, please try loading this page with nbviewer.org.</b></div><div class=\"sk-container\" hidden><div class=\"sk-item\"><div class=\"sk-estimator fitted sk-toggleable\"><input class=\"sk-toggleable__control sk-hidden--visually\" id=\"sk-estimator-id-1\" type=\"checkbox\" checked><label for=\"sk-estimator-id-1\" class=\"sk-toggleable__label fitted sk-toggleable__label-arrow fitted\">&nbsp;XGBClassifier<span class=\"sk-estimator-doc-link fitted\">i<span>Fitted</span></span></label><div class=\"sk-toggleable__content fitted\"><pre>XGBClassifier(base_score=None, booster=None, callbacks=None,\n",
       "              colsample_bylevel=None, colsample_bynode=0.9898100413846709,\n",
       "              colsample_bytree=None, device=None, early_stopping_rounds=None,\n",
       "              enable_categorical=False,\n",
       "              eval_metric=&lt;function custom_f1_score at 0x7fafbea5fa60&gt;,\n",
       "              feature_types=None, gamma=None, grow_policy=None,\n",
       "              importance_type=None, interaction_constraints=None,\n",
       "              learning_rate=0.31525839823521956, max_bin=None,\n",
       "              max_cat_threshold=None, max_cat_to_onehot=None,\n",
       "              max_delta_step=None, max_depth=13, max_leaves=None,\n",
       "              min_child_weight=44, missing=nan, monotone_constraints=None,\n",
       "              multi_strategy=None, n_estimators=106, n_jobs=None,\n",
       "              num_parallel_tree=None, objective=&#x27;multi:softprob&#x27;, ...)</pre></div> </div></div></div></div>"
      ],
      "text/plain": [
       "XGBClassifier(base_score=None, booster=None, callbacks=None,\n",
       "              colsample_bylevel=None, colsample_bynode=0.9898100413846709,\n",
       "              colsample_bytree=None, device=None, early_stopping_rounds=None,\n",
       "              enable_categorical=False,\n",
       "              eval_metric=<function custom_f1_score at 0x7fafbea5fa60>,\n",
       "              feature_types=None, gamma=None, grow_policy=None,\n",
       "              importance_type=None, interaction_constraints=None,\n",
       "              learning_rate=0.31525839823521956, max_bin=None,\n",
       "              max_cat_threshold=None, max_cat_to_onehot=None,\n",
       "              max_delta_step=None, max_depth=13, max_leaves=None,\n",
       "              min_child_weight=44, missing=nan, monotone_constraints=None,\n",
       "              multi_strategy=None, n_estimators=106, n_jobs=None,\n",
       "              num_parallel_tree=None, objective='multi:softprob', ...)"
      ]
     },
     "execution_count": 21,
     "metadata": {},
     "output_type": "execute_result"
    }
   ],
   "source": [
    "n_estimators = int(study.best_trial.user_attrs['best_iteration']*1.2)\n",
    "xgb = xgboost.XGBClassifier(\n",
    "        eval_metric=eval_metric,\n",
    "        n_estimators=n_estimators,\n",
    "        **study.best_trial.params\n",
    "    )\n",
    "xgb.fit(\n",
    "    ssp.vstack((X_train, X_val)), \n",
    "    np.concatenate((y_train_enc, y_val_enc)),\n",
    "    verbose=1,\n",
    ")"
   ]
  },
  {
   "cell_type": "code",
   "execution_count": 22,
   "id": "ccdac7d5",
   "metadata": {
    "execution": {
     "iopub.execute_input": "2025-05-15T16:07:42.077042Z",
     "iopub.status.busy": "2025-05-15T16:07:42.076576Z",
     "iopub.status.idle": "2025-05-15T16:07:42.104883Z",
     "shell.execute_reply": "2025-05-15T16:07:42.104549Z"
    },
    "papermill": {
     "duration": 0.039119,
     "end_time": "2025-05-15T16:07:42.105728",
     "exception": false,
     "start_time": "2025-05-15T16:07:42.066609",
     "status": "completed"
    },
    "tags": []
   },
   "outputs": [
    {
     "data": {
      "text/plain": [
       "['/scratch_isilon/groups/singlecell/shared/projects/Inflammation-PBMCs-Atlas/03_downstream_analysis/08_gene_importance/xgboost_external_validation/xgboost_TopN_genes/results_20/best_model/T_CD8_Naive_12_0_xgb.json']"
      ]
     },
     "execution_count": 22,
     "metadata": {},
     "output_type": "execute_result"
    }
   ],
   "source": [
    "out_dir = here(f'03_downstream_analysis/08_gene_importance/xgboost_external_validation/xgboost_TopN_genes/results_{N_GENES}/best_model')\n",
    "\n",
    "if not os.path.exists(out_dir):\n",
    "    os.makedirs(out_dir)\n",
    "    \n",
    "joblib.dump(xgb, os.path.join(out_dir, f'{CELL_TYPE}_{SEED}_{TEST_SPLIT_IDX}_xgb.json'))"
   ]
  },
  {
   "cell_type": "code",
   "execution_count": 23,
   "id": "ab55d958",
   "metadata": {
    "execution": {
     "iopub.execute_input": "2025-05-15T16:07:42.125412Z",
     "iopub.status.busy": "2025-05-15T16:07:42.125006Z",
     "iopub.status.idle": "2025-05-15T16:07:42.253830Z",
     "shell.execute_reply": "2025-05-15T16:07:42.253489Z"
    },
    "papermill": {
     "duration": 0.139824,
     "end_time": "2025-05-15T16:07:42.255081",
     "exception": false,
     "start_time": "2025-05-15T16:07:42.115257",
     "status": "completed"
    },
    "tags": []
   },
   "outputs": [],
   "source": [
    "df_pred_test = pd.DataFrame(dict(\n",
    "    cell_id=train_adata.obs.iloc[test_idxs].index.values,\n",
    "    y_true=y_test, \n",
    "    y_true_code=y_test_enc, \n",
    "    y_pred=xgb.predict(X_test))).set_index('cell_id')"
   ]
  },
  {
   "cell_type": "code",
   "execution_count": 24,
   "id": "d1fd9343",
   "metadata": {
    "execution": {
     "iopub.execute_input": "2025-05-15T16:07:42.278243Z",
     "iopub.status.busy": "2025-05-15T16:07:42.277605Z",
     "iopub.status.idle": "2025-05-15T16:07:42.335055Z",
     "shell.execute_reply": "2025-05-15T16:07:42.334554Z"
    },
    "papermill": {
     "duration": 0.068852,
     "end_time": "2025-05-15T16:07:42.336314",
     "exception": false,
     "start_time": "2025-05-15T16:07:42.267462",
     "status": "completed"
    },
    "tags": []
   },
   "outputs": [],
   "source": [
    "out_dir = here(f'03_downstream_analysis/08_gene_importance/xgboost_external_validation/xgboost_TopN_genes/results_{N_GENES}/predictions')\n",
    "\n",
    "if not os.path.exists(out_dir):\n",
    "    os.makedirs(out_dir)\n",
    "    \n",
    "df_pred_test.to_csv(os.path.join(out_dir, f'{CELL_TYPE}_{SEED}_{TEST_SPLIT_IDX}_pred_test.zip'))"
   ]
  },
  {
   "cell_type": "code",
   "execution_count": 25,
   "id": "25062cef",
   "metadata": {
    "execution": {
     "iopub.execute_input": "2025-05-15T16:07:42.357116Z",
     "iopub.status.busy": "2025-05-15T16:07:42.356713Z",
     "iopub.status.idle": "2025-05-15T16:07:42.364784Z",
     "shell.execute_reply": "2025-05-15T16:07:42.364358Z"
    },
    "papermill": {
     "duration": 0.019713,
     "end_time": "2025-05-15T16:07:42.365780",
     "exception": false,
     "start_time": "2025-05-15T16:07:42.346067",
     "status": "completed"
    },
    "tags": []
   },
   "outputs": [],
   "source": [
    "metrics_dict = dict(\n",
    "    BAS=balanced_accuracy_score(y_true=df_pred_test.y_true_code, y_pred=df_pred_test.y_pred), WF1=f1_score(y_true=df_pred_test.y_true_code, y_pred=df_pred_test.y_pred,average='weighted'))"
   ]
  },
  {
   "cell_type": "code",
   "execution_count": 26,
   "id": "66b29bb5",
   "metadata": {
    "execution": {
     "iopub.execute_input": "2025-05-15T16:07:42.384963Z",
     "iopub.status.busy": "2025-05-15T16:07:42.384823Z",
     "iopub.status.idle": "2025-05-15T16:07:42.388043Z",
     "shell.execute_reply": "2025-05-15T16:07:42.387756Z"
    },
    "papermill": {
     "duration": 0.013306,
     "end_time": "2025-05-15T16:07:42.388959",
     "exception": false,
     "start_time": "2025-05-15T16:07:42.375653",
     "status": "completed"
    },
    "tags": []
   },
   "outputs": [
    {
     "data": {
      "text/plain": [
       "{'BAS': 0.45174301675857875, 'WF1': 0.7055771992434235}"
      ]
     },
     "execution_count": 26,
     "metadata": {},
     "output_type": "execute_result"
    }
   ],
   "source": [
    "metrics_dict"
   ]
  },
  {
   "cell_type": "code",
   "execution_count": 27,
   "id": "50862f8e",
   "metadata": {
    "execution": {
     "iopub.execute_input": "2025-05-15T16:07:42.407689Z",
     "iopub.status.busy": "2025-05-15T16:07:42.407282Z",
     "iopub.status.idle": "2025-05-15T16:07:42.415838Z",
     "shell.execute_reply": "2025-05-15T16:07:42.415546Z"
    },
    "papermill": {
     "duration": 0.019052,
     "end_time": "2025-05-15T16:07:42.416650",
     "exception": false,
     "start_time": "2025-05-15T16:07:42.397598",
     "status": "completed"
    },
    "tags": []
   },
   "outputs": [
    {
     "data": {
      "text/html": [
       "<div>\n",
       "<style scoped>\n",
       "    .dataframe tbody tr th:only-of-type {\n",
       "        vertical-align: middle;\n",
       "    }\n",
       "\n",
       "    .dataframe tbody tr th {\n",
       "        vertical-align: top;\n",
       "    }\n",
       "\n",
       "    .dataframe thead th {\n",
       "        text-align: right;\n",
       "    }\n",
       "</style>\n",
       "<table border=\"1\" class=\"dataframe\">\n",
       "  <thead>\n",
       "    <tr style=\"text-align: right;\">\n",
       "      <th></th>\n",
       "      <th>BAS</th>\n",
       "      <th>WF1</th>\n",
       "      <th>split_idx</th>\n",
       "      <th>gene_set_seed</th>\n",
       "      <th>cell_type</th>\n",
       "    </tr>\n",
       "  </thead>\n",
       "  <tbody>\n",
       "    <tr>\n",
       "      <th>0</th>\n",
       "      <td>0.451743</td>\n",
       "      <td>0.705577</td>\n",
       "      <td>0</td>\n",
       "      <td>12</td>\n",
       "      <td>T_CD8_Naive</td>\n",
       "    </tr>\n",
       "  </tbody>\n",
       "</table>\n",
       "</div>"
      ],
      "text/plain": [
       "        BAS       WF1  split_idx  gene_set_seed    cell_type\n",
       "0  0.451743  0.705577          0             12  T_CD8_Naive"
      ]
     },
     "execution_count": 27,
     "metadata": {},
     "output_type": "execute_result"
    }
   ],
   "source": [
    "metrics_df = pd.DataFrame.from_dict([metrics_dict]).assign(split_idx=TEST_SPLIT_IDX, gene_set_seed=SEED, cell_type=CELL_TYPE)\n",
    "metrics_df"
   ]
  },
  {
   "cell_type": "code",
   "execution_count": 28,
   "id": "48b30d22",
   "metadata": {
    "execution": {
     "iopub.execute_input": "2025-05-15T16:07:42.436804Z",
     "iopub.status.busy": "2025-05-15T16:07:42.436402Z",
     "iopub.status.idle": "2025-05-15T16:07:42.444588Z",
     "shell.execute_reply": "2025-05-15T16:07:42.444271Z"
    },
    "papermill": {
     "duration": 0.019273,
     "end_time": "2025-05-15T16:07:42.445392",
     "exception": false,
     "start_time": "2025-05-15T16:07:42.426119",
     "status": "completed"
    },
    "tags": []
   },
   "outputs": [],
   "source": [
    "out_dir = here(f'03_downstream_analysis/08_gene_importance/xgboost_external_validation/xgboost_TopN_genes/results_{N_GENES}/metrics')\n",
    "\n",
    "if not os.path.exists(out_dir):\n",
    "    os.makedirs(out_dir)\n",
    "    \n",
    "metrics_df.to_csv(os.path.join(out_dir, f'{CELL_TYPE}_{SEED}_{TEST_SPLIT_IDX}_metrics.zip'))"
   ]
  }
 ],
 "metadata": {
  "kernelspec": {
   "display_name": "Python 3 (ipykernel)",
   "language": "python",
   "name": "python3"
  },
  "language_info": {
   "codemirror_mode": {
    "name": "ipython",
    "version": 3
   },
   "file_extension": ".py",
   "mimetype": "text/x-python",
   "name": "python",
   "nbconvert_exporter": "python",
   "pygments_lexer": "ipython3",
   "version": "3.12.5"
  },
  "papermill": {
   "default_parameters": {},
   "duration": 189.655327,
   "end_time": "2025-05-15T16:07:42.972248",
   "environment_variables": {},
   "exception": null,
   "input_path": "02_xgboost_fitting_external_20genes.ipynb",
   "output_path": "results_20/executed_notebooks/xgboost_fitting_external_CT_T_CD8_Naive_GS_12_seed0.ipynb",
   "parameters": {
    "CELL_TYPE": "T_CD8_Naive",
    "SEED": 12,
    "TEST_SPLIT_IDX": 0
   },
   "start_time": "2025-05-15T16:04:33.316921",
   "version": "2.6.0"
  }
 },
 "nbformat": 4,
 "nbformat_minor": 5
}