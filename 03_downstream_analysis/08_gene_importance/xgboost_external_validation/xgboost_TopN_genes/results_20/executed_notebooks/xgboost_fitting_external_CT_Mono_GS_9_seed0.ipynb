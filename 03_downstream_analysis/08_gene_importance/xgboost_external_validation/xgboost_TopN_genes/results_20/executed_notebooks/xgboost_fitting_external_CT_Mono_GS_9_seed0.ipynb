{
 "cells": [
  {
   "cell_type": "code",
   "execution_count": 1,
   "id": "71599310",
   "metadata": {
    "editable": true,
    "execution": {
     "iopub.execute_input": "2025-05-15T15:59:56.997718Z",
     "iopub.status.busy": "2025-05-15T15:59:56.997109Z",
     "iopub.status.idle": "2025-05-15T15:59:57.000263Z",
     "shell.execute_reply": "2025-05-15T15:59:56.999878Z"
    },
    "papermill": {
     "duration": 0.01106,
     "end_time": "2025-05-15T15:59:57.001216",
     "exception": false,
     "start_time": "2025-05-15T15:59:56.990156",
     "status": "completed"
    },
    "slideshow": {
     "slide_type": ""
    },
    "tags": [
     "parameters"
    ]
   },
   "outputs": [],
   "source": [
    "CELL_TYPE = 'pDC'\n",
    "N_GENES: int = 20\n",
    "SEED = 'shap_studyID' #'disease_NOstudy' 'study_NOdisease' or 'int' or 'shap_studyID'\n",
    "TEST_SPLIT_IDX: int = 1 #[0,4]"
   ]
  },
  {
   "cell_type": "code",
   "execution_count": 2,
   "id": "9eddb65d",
   "metadata": {
    "execution": {
     "iopub.execute_input": "2025-05-15T15:59:57.012784Z",
     "iopub.status.busy": "2025-05-15T15:59:57.012262Z",
     "iopub.status.idle": "2025-05-15T15:59:57.014731Z",
     "shell.execute_reply": "2025-05-15T15:59:57.014369Z"
    },
    "papermill": {
     "duration": 0.009152,
     "end_time": "2025-05-15T15:59:57.015543",
     "exception": false,
     "start_time": "2025-05-15T15:59:57.006391",
     "status": "completed"
    },
    "tags": [
     "injected-parameters"
    ]
   },
   "outputs": [],
   "source": [
    "# Parameters\n",
    "CELL_TYPE = \"Mono\"\n",
    "SEED = 9\n",
    "TEST_SPLIT_IDX = 0\n"
   ]
  },
  {
   "cell_type": "code",
   "execution_count": 3,
   "id": "58e49065",
   "metadata": {
    "execution": {
     "iopub.execute_input": "2025-05-15T15:59:57.026769Z",
     "iopub.status.busy": "2025-05-15T15:59:57.026538Z",
     "iopub.status.idle": "2025-05-15T15:59:57.028682Z",
     "shell.execute_reply": "2025-05-15T15:59:57.028292Z"
    },
    "papermill": {
     "duration": 0.008655,
     "end_time": "2025-05-15T15:59:57.029536",
     "exception": false,
     "start_time": "2025-05-15T15:59:57.020881",
     "status": "completed"
    },
    "tags": []
   },
   "outputs": [],
   "source": [
    "N_SPLITS: int = 5\n",
    "N_TRIALS: int = 50"
   ]
  },
  {
   "cell_type": "code",
   "execution_count": 4,
   "id": "5aa9ed35",
   "metadata": {
    "execution": {
     "iopub.execute_input": "2025-05-15T15:59:57.041361Z",
     "iopub.status.busy": "2025-05-15T15:59:57.040886Z",
     "iopub.status.idle": "2025-05-15T15:59:59.376942Z",
     "shell.execute_reply": "2025-05-15T15:59:59.376347Z"
    },
    "papermill": {
     "duration": 2.344006,
     "end_time": "2025-05-15T15:59:59.378309",
     "exception": false,
     "start_time": "2025-05-15T15:59:57.034303",
     "status": "completed"
    },
    "tags": []
   },
   "outputs": [],
   "source": [
    "import os\n",
    "import sys\n",
    "from pyprojroot.here import here\n",
    "import pandas as pd\n",
    "import anndata as ad\n",
    "import numpy as np\n",
    "import math\n",
    "from sklearn.model_selection import StratifiedGroupKFold\n",
    "from sklearn.preprocessing import LabelEncoder\n",
    "from sklearn.metrics import f1_score\n",
    "import matplotlib.pyplot as plt\n",
    "import seaborn as sns\n",
    "from itertools import product\n",
    "from sklearn.metrics import balanced_accuracy_score, f1_score\n",
    "import optuna\n",
    "\n",
    "import joblib\n",
    "import pickle\n",
    "import datetime\n",
    "\n",
    "import collections\n",
    "\n",
    "import xgboost\n",
    "from sklearn.preprocessing import LabelEncoder\n",
    "\n",
    "import scipy.sparse as ssp\n",
    "import joblib\n",
    "\n",
    "from dotenv import load_dotenv"
   ]
  },
  {
   "cell_type": "code",
   "execution_count": 5,
   "id": "9e37bc52",
   "metadata": {
    "execution": {
     "iopub.execute_input": "2025-05-15T15:59:59.390525Z",
     "iopub.status.busy": "2025-05-15T15:59:59.390175Z",
     "iopub.status.idle": "2025-05-15T15:59:59.396281Z",
     "shell.execute_reply": "2025-05-15T15:59:59.395970Z"
    },
    "papermill": {
     "duration": 0.012898,
     "end_time": "2025-05-15T15:59:59.397119",
     "exception": false,
     "start_time": "2025-05-15T15:59:59.384221",
     "status": "completed"
    },
    "tags": []
   },
   "outputs": [
    {
     "data": {
      "text/plain": [
       "True"
      ]
     },
     "execution_count": 5,
     "metadata": {},
     "output_type": "execute_result"
    }
   ],
   "source": [
    "load_dotenv()"
   ]
  },
  {
   "cell_type": "markdown",
   "id": "7d667850",
   "metadata": {
    "papermill": {
     "duration": 0.005296,
     "end_time": "2025-05-15T15:59:59.407604",
     "exception": false,
     "start_time": "2025-05-15T15:59:59.402308",
     "status": "completed"
    },
    "tags": []
   },
   "source": [
    "# LOAD DATASET"
   ]
  },
  {
   "cell_type": "code",
   "execution_count": 6,
   "id": "17aae28f",
   "metadata": {
    "execution": {
     "iopub.execute_input": "2025-05-15T15:59:59.418854Z",
     "iopub.status.busy": "2025-05-15T15:59:59.418300Z",
     "iopub.status.idle": "2025-05-15T16:00:00.585148Z",
     "shell.execute_reply": "2025-05-15T16:00:00.584593Z"
    },
    "papermill": {
     "duration": 1.17395,
     "end_time": "2025-05-15T16:00:00.586530",
     "exception": false,
     "start_time": "2025-05-15T15:59:59.412580",
     "status": "completed"
    },
    "tags": []
   },
   "outputs": [],
   "source": [
    "train_adata = ad.read_h5ad(\n",
    "    here(f'03_downstream_analysis/08_gene_importance/xgboost_external_validation/xgboost_TopN_genes/data_cellTypes/EXTERNAL_{CELL_TYPE}.filtered.log1p.h5ad')\n",
    ")"
   ]
  },
  {
   "cell_type": "code",
   "execution_count": 7,
   "id": "84acc91e",
   "metadata": {
    "execution": {
     "iopub.execute_input": "2025-05-15T16:00:00.598534Z",
     "iopub.status.busy": "2025-05-15T16:00:00.598286Z",
     "iopub.status.idle": "2025-05-15T16:00:00.630698Z",
     "shell.execute_reply": "2025-05-15T16:00:00.630341Z"
    },
    "papermill": {
     "duration": 0.039252,
     "end_time": "2025-05-15T16:00:00.631595",
     "exception": false,
     "start_time": "2025-05-15T16:00:00.592343",
     "status": "completed"
    },
    "tags": []
   },
   "outputs": [
    {
     "name": "stdout",
     "output_type": "stream",
     "text": [
      "['ENSG00000204267' 'ENSG00000085514' 'ENSG00000112561' 'ENSG00000139192'\n",
      " 'ENSG00000102524' 'ENSG00000158869' 'ENSG00000090382' 'ENSG00000169442'\n",
      " 'ENSG00000121807' 'ENSG00000143226' 'ENSG00000060982' 'ENSG00000115145'\n",
      " 'ENSG00000204482' 'ENSG00000150782' 'ENSG00000179218' 'ENSG00000104904'\n",
      " 'ENSG00000117984' 'ENSG00000179295' 'ENSG00000163563' 'ENSG00000175203'\n",
      " 'ENSG00000182117' 'ENSG00000163191' 'ENSG00000170017' 'ENSG00000128383'\n",
      " 'ENSG00000161642' 'ENSG00000142166' 'ENSG00000158769' 'ENSG00000182578'\n",
      " 'ENSG00000169403' 'ENSG00000178719' 'ENSG00000149311' 'ENSG00000164543'\n",
      " 'ENSG00000254087' 'ENSG00000197405' 'ENSG00000005339' 'ENSG00000239998'\n",
      " 'ENSG00000100079' 'ENSG00000177721' 'ENSG00000030582' 'ENSG00000170296'\n",
      " 'ENSG00000167283' 'ENSG00000124731' 'ENSG00000002549' 'ENSG00000104918'\n",
      " 'ENSG00000152219' 'ENSG00000119535' 'ENSG00000160712' 'ENSG00000113732'\n",
      " 'ENSG00000197471' 'ENSG00000008517' 'ENSG00000133639' 'ENSG00000175104'\n",
      " 'ENSG00000132965' 'ENSG00000104870' 'ENSG00000111331' 'ENSG00000156587'\n",
      " 'ENSG00000237541' 'ENSG00000130066' 'ENSG00000243678' 'ENSG00000214212'\n",
      " 'ENSG00000277443' 'ENSG00000015475' 'ENSG00000131018' 'ENSG00000141506'\n",
      " 'ENSG00000206503' 'ENSG00000170581' 'ENSG00000141367' 'ENSG00000171700'\n",
      " 'ENSG00000134321' 'ENSG00000108774' 'ENSG00000185591' 'ENSG00000109861'\n",
      " 'ENSG00000185950' 'ENSG00000183020' 'ENSG00000196126' 'ENSG00000137331'\n",
      " 'ENSG00000106952' 'ENSG00000127022' 'ENSG00000187164' 'ENSG00000169385'\n",
      " 'ENSG00000143119' 'ENSG00000175567' 'ENSG00000173372' 'ENSG00000114013'\n",
      " 'ENSG00000100292' 'ENSG00000181631' 'ENSG00000072958' 'ENSG00000169429'\n",
      " 'ENSG00000079805' 'ENSG00000204577' 'ENSG00000183019' 'ENSG00000277632'\n",
      " 'ENSG00000164674' 'ENSG00000166710' 'ENSG00000179344' 'ENSG00000169554'\n",
      " 'ENSG00000163659' 'ENSG00000183023' 'ENSG00000164104' 'ENSG00000057657'\n",
      " 'ENSG00000076662' 'ENSG00000092820' 'ENSG00000143933' 'ENSG00000088827'\n",
      " 'ENSG00000068831' 'ENSG00000111348' 'ENSG00000152778' 'ENSG00000164308'\n",
      " 'ENSG00000124762' 'ENSG00000168894' 'ENSG00000121316' 'ENSG00000145287'\n",
      " 'ENSG00000140968' 'ENSG00000142546']\n"
     ]
    }
   ],
   "source": [
    "if SEED != 'all':\n",
    "    gene_subset = np.load(here(f'03_downstream_analysis/08_gene_importance/xgboost_external_validation/shap_gene_selection/gene_subsets_{N_GENES}/{CELL_TYPE}_{SEED}.npy'), allow_pickle=True)\n",
    "    train_adata = train_adata[:,gene_subset]\n",
    "    print(gene_subset)\n",
    "elif SEED == 'all':\n",
    "    print('Using all genes')\n",
    "else:\n",
    "    raise ValueError()"
   ]
  },
  {
   "cell_type": "code",
   "execution_count": 8,
   "id": "4e5b7880",
   "metadata": {
    "execution": {
     "iopub.execute_input": "2025-05-15T16:00:00.643944Z",
     "iopub.status.busy": "2025-05-15T16:00:00.643595Z",
     "iopub.status.idle": "2025-05-15T16:00:00.646826Z",
     "shell.execute_reply": "2025-05-15T16:00:00.646512Z"
    },
    "papermill": {
     "duration": 0.010508,
     "end_time": "2025-05-15T16:00:00.647663",
     "exception": false,
     "start_time": "2025-05-15T16:00:00.637155",
     "status": "completed"
    },
    "tags": []
   },
   "outputs": [
    {
     "data": {
      "text/plain": [
       "(137435, 114)"
      ]
     },
     "execution_count": 8,
     "metadata": {},
     "output_type": "execute_result"
    }
   ],
   "source": [
    "train_adata.shape"
   ]
  },
  {
   "cell_type": "code",
   "execution_count": 9,
   "id": "d24b76af",
   "metadata": {
    "execution": {
     "iopub.execute_input": "2025-05-15T16:00:00.659775Z",
     "iopub.status.busy": "2025-05-15T16:00:00.659212Z",
     "iopub.status.idle": "2025-05-15T16:00:00.663742Z",
     "shell.execute_reply": "2025-05-15T16:00:00.663442Z"
    },
    "papermill": {
     "duration": 0.011408,
     "end_time": "2025-05-15T16:00:00.664562",
     "exception": false,
     "start_time": "2025-05-15T16:00:00.653154",
     "status": "completed"
    },
    "tags": []
   },
   "outputs": [
    {
     "data": {
      "text/plain": [
       "['RA', 'healthy', 'COVID', 'HIV', 'cirrhosis', 'CD', 'SLE', 'sepsis']\n",
       "Categories (8, object): ['CD', 'COVID', 'HIV', 'RA', 'SLE', 'cirrhosis', 'healthy', 'sepsis']"
      ]
     },
     "execution_count": 9,
     "metadata": {},
     "output_type": "execute_result"
    }
   ],
   "source": [
    "train_adata.obs.disease.unique()"
   ]
  },
  {
   "cell_type": "code",
   "execution_count": 10,
   "id": "82fc0ef4",
   "metadata": {
    "execution": {
     "iopub.execute_input": "2025-05-15T16:00:00.676541Z",
     "iopub.status.busy": "2025-05-15T16:00:00.676146Z",
     "iopub.status.idle": "2025-05-15T16:00:00.680539Z",
     "shell.execute_reply": "2025-05-15T16:00:00.680223Z"
    },
    "papermill": {
     "duration": 0.011423,
     "end_time": "2025-05-15T16:00:00.681484",
     "exception": false,
     "start_time": "2025-05-15T16:00:00.670061",
     "status": "completed"
    },
    "tags": []
   },
   "outputs": [
    {
     "data": {
      "text/plain": [
       "['SCGT00val_I0364_T0', 'SCGT00val_I036028_T0', 'SCGT00val_I036024_T0', 'SCGT00val_I036023_T0', 'SCGT00val_I036019_T0', ..., '10XGenomics_10XHC2_T0', '10XGenomics_10XHC3_T0', '10XGenomics_10XHC5_T0', '10XGenomics_10XHC7_T0', '10XGenomics_10XHC8_T0']\n",
       "Length: 86\n",
       "Categories (86, object): ['10XGenomics_10XHC1_T0', '10XGenomics_10XHC2_T0', '10XGenomics_10XHC3_T0', '10XGenomics_10XHC4_T0', ..., 'Savage2021_BRISL6_T0', 'Savage2021_BRISL7_T0', 'Savage2021_PIDA_T0', 'Savage2021_PIDB_T0']"
      ]
     },
     "execution_count": 10,
     "metadata": {},
     "output_type": "execute_result"
    }
   ],
   "source": [
    "train_adata.obs.sampleID.unique()"
   ]
  },
  {
   "cell_type": "code",
   "execution_count": 11,
   "id": "a81e8c29",
   "metadata": {
    "execution": {
     "iopub.execute_input": "2025-05-15T16:00:00.693776Z",
     "iopub.status.busy": "2025-05-15T16:00:00.693530Z",
     "iopub.status.idle": "2025-05-15T16:00:01.017815Z",
     "shell.execute_reply": "2025-05-15T16:00:01.017394Z"
    },
    "papermill": {
     "duration": 0.331764,
     "end_time": "2025-05-15T16:00:01.019204",
     "exception": false,
     "start_time": "2025-05-15T16:00:00.687440",
     "status": "completed"
    },
    "tags": []
   },
   "outputs": [],
   "source": [
    "all_idxs = np.arange(train_adata.obs.shape[0])\n",
    "left_out_splits = [s[1] for s in StratifiedGroupKFold(n_splits=N_SPLITS).split(all_idxs, train_adata.obs.disease, train_adata.obs.sampleID)]"
   ]
  },
  {
   "cell_type": "code",
   "execution_count": 12,
   "id": "3e3883c6",
   "metadata": {
    "execution": {
     "iopub.execute_input": "2025-05-15T16:00:01.032193Z",
     "iopub.status.busy": "2025-05-15T16:00:01.031922Z",
     "iopub.status.idle": "2025-05-15T16:00:01.035456Z",
     "shell.execute_reply": "2025-05-15T16:00:01.035145Z"
    },
    "papermill": {
     "duration": 0.011158,
     "end_time": "2025-05-15T16:00:01.036388",
     "exception": false,
     "start_time": "2025-05-15T16:00:01.025230",
     "status": "completed"
    },
    "tags": []
   },
   "outputs": [
    {
     "data": {
      "text/plain": [
       "([2, 3, 4], 1, 0)"
      ]
     },
     "execution_count": 12,
     "metadata": {},
     "output_type": "execute_result"
    }
   ],
   "source": [
    "TRAIN_SPLIT_IDXS = [0,1,2,3,4]\n",
    "VAL_SPLIT_IDX = (TEST_SPLIT_IDX + 1) % 5\n",
    "TRAIN_SPLIT_IDXS.remove(TEST_SPLIT_IDX)\n",
    "TRAIN_SPLIT_IDXS.remove(VAL_SPLIT_IDX)\n",
    "TRAIN_SPLIT_IDXS, VAL_SPLIT_IDX, TEST_SPLIT_IDX"
   ]
  },
  {
   "cell_type": "code",
   "execution_count": 13,
   "id": "6c8dd68d",
   "metadata": {
    "execution": {
     "iopub.execute_input": "2025-05-15T16:00:01.048181Z",
     "iopub.status.busy": "2025-05-15T16:00:01.047692Z",
     "iopub.status.idle": "2025-05-15T16:00:01.050207Z",
     "shell.execute_reply": "2025-05-15T16:00:01.049891Z"
    },
    "papermill": {
     "duration": 0.009336,
     "end_time": "2025-05-15T16:00:01.051124",
     "exception": false,
     "start_time": "2025-05-15T16:00:01.041788",
     "status": "completed"
    },
    "tags": []
   },
   "outputs": [],
   "source": [
    "train_idxs = np.concatenate([left_out_splits[idx] for idx in TRAIN_SPLIT_IDXS])\n",
    "val_idxs = left_out_splits[VAL_SPLIT_IDX]\n",
    "test_idxs = left_out_splits[TEST_SPLIT_IDX]"
   ]
  },
  {
   "cell_type": "markdown",
   "id": "96891ffb",
   "metadata": {
    "papermill": {
     "duration": 0.005637,
     "end_time": "2025-05-15T16:00:01.062495",
     "exception": false,
     "start_time": "2025-05-15T16:00:01.056858",
     "status": "completed"
    },
    "tags": []
   },
   "source": [
    "### SUBSET DATASET INTO TRAIN/TEST/VAL SPLITS"
   ]
  },
  {
   "cell_type": "code",
   "execution_count": 14,
   "id": "2b5a9b77",
   "metadata": {
    "execution": {
     "iopub.execute_input": "2025-05-15T16:00:01.074374Z",
     "iopub.status.busy": "2025-05-15T16:00:01.074148Z",
     "iopub.status.idle": "2025-05-15T16:00:01.522787Z",
     "shell.execute_reply": "2025-05-15T16:00:01.522387Z"
    },
    "papermill": {
     "duration": 0.456109,
     "end_time": "2025-05-15T16:00:01.524074",
     "exception": false,
     "start_time": "2025-05-15T16:00:01.067965",
     "status": "completed"
    },
    "tags": []
   },
   "outputs": [
    {
     "data": {
      "text/plain": [
       "((82534, 114), (27414, 114), (27487, 114))"
      ]
     },
     "execution_count": 14,
     "metadata": {},
     "output_type": "execute_result"
    }
   ],
   "source": [
    "X_train = train_adata.X[train_idxs]\n",
    "X_test = train_adata.X[test_idxs]\n",
    "X_val = train_adata.X[val_idxs]\n",
    "X_train.shape, X_test.shape, X_val.shape"
   ]
  },
  {
   "cell_type": "code",
   "execution_count": 15,
   "id": "4cdeb27e",
   "metadata": {
    "execution": {
     "iopub.execute_input": "2025-05-15T16:00:01.538154Z",
     "iopub.status.busy": "2025-05-15T16:00:01.537932Z",
     "iopub.status.idle": "2025-05-15T16:00:01.552573Z",
     "shell.execute_reply": "2025-05-15T16:00:01.552213Z"
    },
    "papermill": {
     "duration": 0.02259,
     "end_time": "2025-05-15T16:00:01.553616",
     "exception": false,
     "start_time": "2025-05-15T16:00:01.531026",
     "status": "completed"
    },
    "tags": []
   },
   "outputs": [
    {
     "data": {
      "text/plain": [
       "((82534,), (27414,), (27487,))"
      ]
     },
     "execution_count": 15,
     "metadata": {},
     "output_type": "execute_result"
    }
   ],
   "source": [
    "y_train = train_adata.obs.iloc[train_idxs].disease.values.astype(str)\n",
    "y_test = train_adata.obs.iloc[test_idxs].disease.values.astype(str)\n",
    "y_val = train_adata.obs.iloc[val_idxs].disease.values.astype(str)\n",
    "y_train.shape, y_test.shape, y_val.shape"
   ]
  },
  {
   "cell_type": "code",
   "execution_count": 16,
   "id": "4d9699e6",
   "metadata": {
    "execution": {
     "iopub.execute_input": "2025-05-15T16:00:01.566515Z",
     "iopub.status.busy": "2025-05-15T16:00:01.566298Z",
     "iopub.status.idle": "2025-05-15T16:00:01.596027Z",
     "shell.execute_reply": "2025-05-15T16:00:01.595379Z"
    },
    "papermill": {
     "duration": 0.037939,
     "end_time": "2025-05-15T16:00:01.597618",
     "exception": false,
     "start_time": "2025-05-15T16:00:01.559679",
     "status": "completed"
    },
    "tags": []
   },
   "outputs": [],
   "source": [
    "lenc = LabelEncoder()\n",
    "y_train_enc = lenc.fit_transform(y_train)\n",
    "y_val_enc = lenc.transform(y_val)\n",
    "y_test_enc = lenc.transform(y_test)"
   ]
  },
  {
   "cell_type": "markdown",
   "id": "867f775e",
   "metadata": {
    "papermill": {
     "duration": 0.005976,
     "end_time": "2025-05-15T16:00:01.610391",
     "exception": false,
     "start_time": "2025-05-15T16:00:01.604415",
     "status": "completed"
    },
    "tags": []
   },
   "source": [
    "### GENERATE F1 "
   ]
  },
  {
   "cell_type": "code",
   "execution_count": 17,
   "id": "954fe9c3",
   "metadata": {
    "execution": {
     "iopub.execute_input": "2025-05-15T16:00:01.623140Z",
     "iopub.status.busy": "2025-05-15T16:00:01.622782Z",
     "iopub.status.idle": "2025-05-15T16:00:01.626246Z",
     "shell.execute_reply": "2025-05-15T16:00:01.625912Z"
    },
    "papermill": {
     "duration": 0.01064,
     "end_time": "2025-05-15T16:00:01.627088",
     "exception": false,
     "start_time": "2025-05-15T16:00:01.616448",
     "status": "completed"
    },
    "tags": []
   },
   "outputs": [],
   "source": [
    "def custom_f1_score(y_true, y_pred):\n",
    "    return -f1_score(y_true, y_pred.argmax(1), average='weighted')"
   ]
  },
  {
   "cell_type": "code",
   "execution_count": 18,
   "id": "790673a7",
   "metadata": {
    "execution": {
     "iopub.execute_input": "2025-05-15T16:00:01.639391Z",
     "iopub.status.busy": "2025-05-15T16:00:01.638705Z",
     "iopub.status.idle": "2025-05-15T16:00:01.643202Z",
     "shell.execute_reply": "2025-05-15T16:00:01.642781Z"
    },
    "papermill": {
     "duration": 0.011343,
     "end_time": "2025-05-15T16:00:01.644033",
     "exception": false,
     "start_time": "2025-05-15T16:00:01.632690",
     "status": "completed"
    },
    "tags": []
   },
   "outputs": [],
   "source": [
    "eval_metric=custom_f1_score\n",
    "eval_metric_name='custom_f1_score'\n",
    "\n",
    "def objective(trial):\n",
    "    params = {\n",
    "        'n_estimators': 1500,\n",
    "        'max_depth': trial.suggest_int('max_depth', 3, 20),\n",
    "        'min_child_weight': trial.suggest_int('min_child_weight', 1, 250),\n",
    "        'subsample': trial.suggest_float('subsample', 0.1, 1.0),\n",
    "        'colsample_bynode': trial.suggest_float('colsample_bynode', 0.1, 1.0),\n",
    "        'learning_rate': trial.suggest_float('learning_rate', 1e-3, 5e-1, log=True),\n",
    "    }\n",
    "    pruning_callback = optuna.integration.XGBoostPruningCallback(trial, f'validation_0-{eval_metric_name}')\n",
    "    es_callback = xgboost.callback.EarlyStopping(20, min_delta=0.001)\n",
    "    xgb = xgboost.XGBClassifier(\n",
    "        eval_metric=eval_metric,\n",
    "        callbacks=[pruning_callback, es_callback],\n",
    "        n_jobs=5,\n",
    "        **params\n",
    "    )\n",
    "    xgb.fit(\n",
    "        X_train, \n",
    "        y_train_enc, \n",
    "        verbose=0,\n",
    "        eval_set=[(X_val, y_val_enc)],\n",
    "    )\n",
    "    trial.set_user_attr('best_iteration', xgb.best_iteration)\n",
    "\n",
    "    return xgb.best_score"
   ]
  },
  {
   "cell_type": "code",
   "execution_count": 19,
   "id": "5cdd6f2c",
   "metadata": {
    "execution": {
     "iopub.execute_input": "2025-05-15T16:00:01.656035Z",
     "iopub.status.busy": "2025-05-15T16:00:01.655759Z",
     "iopub.status.idle": "2025-05-15T16:14:16.094429Z",
     "shell.execute_reply": "2025-05-15T16:14:16.093683Z"
    },
    "papermill": {
     "duration": 854.446226,
     "end_time": "2025-05-15T16:14:16.095993",
     "exception": false,
     "start_time": "2025-05-15T16:00:01.649767",
     "status": "completed"
    },
    "scrolled": true,
    "tags": []
   },
   "outputs": [
    {
     "name": "stderr",
     "output_type": "stream",
     "text": [
      "[I 2025-05-15 18:00:01,658] A new study created in memory with name: no-name-1e85d1c4-f8ca-4eae-b05c-20d84ce29197\n"
     ]
    },
    {
     "name": "stderr",
     "output_type": "stream",
     "text": [
      "[I 2025-05-15 18:00:13,437] Trial 0 finished with value: -0.609161 and parameters: {'max_depth': 9, 'min_child_weight': 238, 'subsample': 0.7587945476302645, 'colsample_bynode': 0.6387926357773329, 'learning_rate': 0.0026368755339723046}. Best is trial 0 with value: -0.609161.\n"
     ]
    },
    {
     "name": "stderr",
     "output_type": "stream",
     "text": [
      "[I 2025-05-15 18:01:16,467] Trial 1 finished with value: -0.681311 and parameters: {'max_depth': 5, 'min_child_weight': 15, 'subsample': 0.8795585311974417, 'colsample_bynode': 0.6410035105688879, 'learning_rate': 0.08148293210105287}. Best is trial 1 with value: -0.681311.\n"
     ]
    },
    {
     "name": "stderr",
     "output_type": "stream",
     "text": [
      "[I 2025-05-15 18:01:22,293] Trial 2 finished with value: -0.595563 and parameters: {'max_depth': 3, 'min_child_weight': 243, 'subsample': 0.8491983767203796, 'colsample_bynode': 0.29110519961044856, 'learning_rate': 0.003095566460242371}. Best is trial 1 with value: -0.681311.\n"
     ]
    },
    {
     "name": "stderr",
     "output_type": "stream",
     "text": [
      "[I 2025-05-15 18:01:31,650] Trial 3 finished with value: -0.616424 and parameters: {'max_depth': 6, 'min_child_weight': 77, 'subsample': 0.5722807884690141, 'colsample_bynode': 0.48875051677790415, 'learning_rate': 0.006109683510122491}. Best is trial 1 with value: -0.681311.\n"
     ]
    },
    {
     "name": "stderr",
     "output_type": "stream",
     "text": [
      "[I 2025-05-15 18:03:07,800] Trial 4 finished with value: -0.660853 and parameters: {'max_depth': 14, 'min_child_weight': 35, 'subsample': 0.3629301836816964, 'colsample_bynode': 0.4297256589643226, 'learning_rate': 0.01701841881702917}. Best is trial 1 with value: -0.681311.\n"
     ]
    },
    {
     "name": "stderr",
     "output_type": "stream",
     "text": [
      "[I 2025-05-15 18:03:18,209] Trial 5 finished with value: -0.628546 and parameters: {'max_depth': 17, 'min_child_weight': 50, 'subsample': 0.5628109945722505, 'colsample_bynode': 0.6331731119758383, 'learning_rate': 0.0013346527038305934}. Best is trial 1 with value: -0.681311.\n"
     ]
    },
    {
     "name": "stderr",
     "output_type": "stream",
     "text": [
      "[I 2025-05-15 18:03:19,012] Trial 6 pruned. Trial was pruned at iteration 0.\n"
     ]
    },
    {
     "name": "stderr",
     "output_type": "stream",
     "text": [
      "[I 2025-05-15 18:03:19,772] Trial 7 pruned. Trial was pruned at iteration 0.\n"
     ]
    },
    {
     "name": "stderr",
     "output_type": "stream",
     "text": [
      "[I 2025-05-15 18:03:20,515] Trial 8 pruned. Trial was pruned at iteration 0.\n"
     ]
    },
    {
     "name": "stderr",
     "output_type": "stream",
     "text": [
      "[I 2025-05-15 18:03:21,355] Trial 9 pruned. Trial was pruned at iteration 0.\n"
     ]
    },
    {
     "name": "stderr",
     "output_type": "stream",
     "text": [
      "[I 2025-05-15 18:04:08,199] Trial 10 finished with value: -0.686182 and parameters: {'max_depth': 9, 'min_child_weight': 2, 'subsample': 0.9725833997090791, 'colsample_bynode': 0.11616568805333755, 'learning_rate': 0.17780618353487967}. Best is trial 10 with value: -0.686182.\n"
     ]
    },
    {
     "name": "stderr",
     "output_type": "stream",
     "text": [
      "[I 2025-05-15 18:05:05,676] Trial 11 finished with value: -0.686666 and parameters: {'max_depth': 9, 'min_child_weight': 4, 'subsample': 0.9818290990185045, 'colsample_bynode': 0.17702656156719, 'learning_rate': 0.11568531411766632}. Best is trial 11 with value: -0.686666.\n"
     ]
    },
    {
     "name": "stderr",
     "output_type": "stream",
     "text": [
      "[I 2025-05-15 18:05:06,690] Trial 12 pruned. Trial was pruned at iteration 0.\n"
     ]
    },
    {
     "name": "stderr",
     "output_type": "stream",
     "text": [
      "[I 2025-05-15 18:05:07,533] Trial 13 pruned. Trial was pruned at iteration 0.\n"
     ]
    },
    {
     "name": "stderr",
     "output_type": "stream",
     "text": [
      "[I 2025-05-15 18:05:08,327] Trial 14 pruned. Trial was pruned at iteration 0.\n"
     ]
    },
    {
     "name": "stderr",
     "output_type": "stream",
     "text": [
      "[I 2025-05-15 18:06:41,578] Trial 15 pruned. Trial was pruned at iteration 85.\n"
     ]
    },
    {
     "name": "stderr",
     "output_type": "stream",
     "text": [
      "[I 2025-05-15 18:07:34,105] Trial 16 finished with value: -0.690493 and parameters: {'max_depth': 11, 'min_child_weight': 125, 'subsample': 0.8815541734801864, 'colsample_bynode': 0.37074095931791284, 'learning_rate': 0.18961687234093502}. Best is trial 16 with value: -0.690493.\n"
     ]
    },
    {
     "name": "stderr",
     "output_type": "stream",
     "text": [
      "[I 2025-05-15 18:07:35,003] Trial 17 pruned. Trial was pruned at iteration 0.\n"
     ]
    },
    {
     "name": "stderr",
     "output_type": "stream",
     "text": [
      "[I 2025-05-15 18:07:35,832] Trial 18 pruned. Trial was pruned at iteration 0.\n"
     ]
    },
    {
     "name": "stderr",
     "output_type": "stream",
     "text": [
      "[I 2025-05-15 18:07:36,711] Trial 19 pruned. Trial was pruned at iteration 0.\n"
     ]
    },
    {
     "name": "stderr",
     "output_type": "stream",
     "text": [
      "[I 2025-05-15 18:07:37,511] Trial 20 pruned. Trial was pruned at iteration 0.\n"
     ]
    },
    {
     "name": "stderr",
     "output_type": "stream",
     "text": [
      "[I 2025-05-15 18:07:38,762] Trial 21 pruned. Trial was pruned at iteration 1.\n"
     ]
    },
    {
     "name": "stderr",
     "output_type": "stream",
     "text": [
      "[I 2025-05-15 18:07:40,436] Trial 22 pruned. Trial was pruned at iteration 2.\n"
     ]
    },
    {
     "name": "stderr",
     "output_type": "stream",
     "text": [
      "[I 2025-05-15 18:07:41,290] Trial 23 pruned. Trial was pruned at iteration 0.\n"
     ]
    },
    {
     "name": "stderr",
     "output_type": "stream",
     "text": [
      "[I 2025-05-15 18:08:11,832] Trial 24 finished with value: -0.690454 and parameters: {'max_depth': 12, 'min_child_weight': 60, 'subsample': 0.9993234633009218, 'colsample_bynode': 0.22312943268955576, 'learning_rate': 0.27344287748763757}. Best is trial 16 with value: -0.690493.\n"
     ]
    },
    {
     "name": "stderr",
     "output_type": "stream",
     "text": [
      "[I 2025-05-15 18:08:42,734] Trial 25 finished with value: -0.692344 and parameters: {'max_depth': 15, 'min_child_weight': 62, 'subsample': 0.9211068756602132, 'colsample_bynode': 0.3192219580650814, 'learning_rate': 0.31433501675747927}. Best is trial 25 with value: -0.692344.\n"
     ]
    },
    {
     "name": "stderr",
     "output_type": "stream",
     "text": [
      "[I 2025-05-15 18:08:43,658] Trial 26 pruned. Trial was pruned at iteration 0.\n"
     ]
    },
    {
     "name": "stderr",
     "output_type": "stream",
     "text": [
      "[I 2025-05-15 18:09:13,432] Trial 27 finished with value: -0.69611 and parameters: {'max_depth': 20, 'min_child_weight': 59, 'subsample': 0.9036792922919561, 'colsample_bynode': 0.32393100859514734, 'learning_rate': 0.4698882520864718}. Best is trial 27 with value: -0.69611.\n"
     ]
    },
    {
     "name": "stderr",
     "output_type": "stream",
     "text": [
      "[I 2025-05-15 18:09:14,266] Trial 28 pruned. Trial was pruned at iteration 0.\n"
     ]
    },
    {
     "name": "stderr",
     "output_type": "stream",
     "text": [
      "[I 2025-05-15 18:09:15,218] Trial 29 pruned. Trial was pruned at iteration 0.\n"
     ]
    },
    {
     "name": "stderr",
     "output_type": "stream",
     "text": [
      "[I 2025-05-15 18:09:16,102] Trial 30 pruned. Trial was pruned at iteration 0.\n"
     ]
    },
    {
     "name": "stderr",
     "output_type": "stream",
     "text": [
      "[I 2025-05-15 18:10:03,494] Trial 31 finished with value: -0.698606 and parameters: {'max_depth': 12, 'min_child_weight': 49, 'subsample': 0.8907643059247299, 'colsample_bynode': 0.24331970385082502, 'learning_rate': 0.31403774963922065}. Best is trial 31 with value: -0.698606.\n"
     ]
    },
    {
     "name": "stderr",
     "output_type": "stream",
     "text": [
      "[I 2025-05-15 18:10:46,640] Trial 32 finished with value: -0.694328 and parameters: {'max_depth': 14, 'min_child_weight': 29, 'subsample': 0.8076378690259406, 'colsample_bynode': 0.3244904291452517, 'learning_rate': 0.33284885348249427}. Best is trial 31 with value: -0.698606.\n"
     ]
    },
    {
     "name": "stderr",
     "output_type": "stream",
     "text": [
      "[I 2025-05-15 18:11:24,251] Trial 33 finished with value: -0.693888 and parameters: {'max_depth': 19, 'min_child_weight': 24, 'subsample': 0.8175218398546965, 'colsample_bynode': 0.3034665614649256, 'learning_rate': 0.3464391758819478}. Best is trial 31 with value: -0.698606.\n"
     ]
    },
    {
     "name": "stderr",
     "output_type": "stream",
     "text": [
      "[I 2025-05-15 18:11:50,269] Trial 34 finished with value: -0.693059 and parameters: {'max_depth': 19, 'min_child_weight': 25, 'subsample': 0.810822957005562, 'colsample_bynode': 0.2613517289728871, 'learning_rate': 0.4665822728368074}. Best is trial 31 with value: -0.698606.\n"
     ]
    },
    {
     "name": "stderr",
     "output_type": "stream",
     "text": [
      "[I 2025-05-15 18:12:02,100] Trial 35 pruned. Trial was pruned at iteration 21.\n"
     ]
    },
    {
     "name": "stderr",
     "output_type": "stream",
     "text": [
      "[I 2025-05-15 18:12:43,455] Trial 36 finished with value: -0.695501 and parameters: {'max_depth': 19, 'min_child_weight': 45, 'subsample': 0.7360414055495808, 'colsample_bynode': 0.29797647071846584, 'learning_rate': 0.3330800780281439}. Best is trial 31 with value: -0.698606.\n"
     ]
    },
    {
     "name": "stderr",
     "output_type": "stream",
     "text": [
      "[I 2025-05-15 18:12:44,384] Trial 37 pruned. Trial was pruned at iteration 0.\n"
     ]
    },
    {
     "name": "stderr",
     "output_type": "stream",
     "text": [
      "[I 2025-05-15 18:12:45,164] Trial 38 pruned. Trial was pruned at iteration 0.\n"
     ]
    },
    {
     "name": "stderr",
     "output_type": "stream",
     "text": [
      "[I 2025-05-15 18:12:46,103] Trial 39 pruned. Trial was pruned at iteration 0.\n"
     ]
    },
    {
     "name": "stderr",
     "output_type": "stream",
     "text": [
      "[I 2025-05-15 18:12:46,993] Trial 40 pruned. Trial was pruned at iteration 0.\n"
     ]
    },
    {
     "name": "stderr",
     "output_type": "stream",
     "text": [
      "[I 2025-05-15 18:13:34,760] Trial 41 finished with value: -0.695618 and parameters: {'max_depth': 19, 'min_child_weight': 18, 'subsample': 0.82214374317879, 'colsample_bynode': 0.2985553980416254, 'learning_rate': 0.3528800429899503}. Best is trial 31 with value: -0.698606.\n"
     ]
    },
    {
     "name": "stderr",
     "output_type": "stream",
     "text": [
      "[I 2025-05-15 18:14:00,773] Trial 42 finished with value: -0.689872 and parameters: {'max_depth': 20, 'min_child_weight': 15, 'subsample': 0.8836849739071689, 'colsample_bynode': 0.29607252578542603, 'learning_rate': 0.4934522630131109}. Best is trial 31 with value: -0.698606.\n"
     ]
    },
    {
     "name": "stderr",
     "output_type": "stream",
     "text": [
      "[I 2025-05-15 18:14:01,621] Trial 43 pruned. Trial was pruned at iteration 0.\n"
     ]
    },
    {
     "name": "stderr",
     "output_type": "stream",
     "text": [
      "[I 2025-05-15 18:14:08,070] Trial 44 pruned. Trial was pruned at iteration 10.\n"
     ]
    },
    {
     "name": "stderr",
     "output_type": "stream",
     "text": [
      "[I 2025-05-15 18:14:09,035] Trial 45 pruned. Trial was pruned at iteration 0.\n"
     ]
    },
    {
     "name": "stderr",
     "output_type": "stream",
     "text": [
      "[I 2025-05-15 18:14:09,942] Trial 46 pruned. Trial was pruned at iteration 0.\n"
     ]
    },
    {
     "name": "stderr",
     "output_type": "stream",
     "text": [
      "[I 2025-05-15 18:14:10,833] Trial 47 pruned. Trial was pruned at iteration 0.\n"
     ]
    },
    {
     "name": "stderr",
     "output_type": "stream",
     "text": [
      "[I 2025-05-15 18:14:15,014] Trial 48 pruned. Trial was pruned at iteration 7.\n"
     ]
    },
    {
     "name": "stderr",
     "output_type": "stream",
     "text": [
      "[I 2025-05-15 18:14:15,972] Trial 49 pruned. Trial was pruned at iteration 0.\n"
     ]
    }
   ],
   "source": [
    "sampler = optuna.samplers.TPESampler(seed=42)\n",
    "study = optuna.create_study(direction='minimize', sampler=sampler)\n",
    "study.optimize(objective, n_trials=N_TRIALS, gc_after_trial=True)"
   ]
  },
  {
   "cell_type": "code",
   "execution_count": 20,
   "id": "8872a38c",
   "metadata": {
    "execution": {
     "iopub.execute_input": "2025-05-15T16:14:16.119933Z",
     "iopub.status.busy": "2025-05-15T16:14:16.119218Z",
     "iopub.status.idle": "2025-05-15T16:14:16.148476Z",
     "shell.execute_reply": "2025-05-15T16:14:16.148002Z"
    },
    "papermill": {
     "duration": 0.042138,
     "end_time": "2025-05-15T16:14:16.149584",
     "exception": false,
     "start_time": "2025-05-15T16:14:16.107446",
     "status": "completed"
    },
    "tags": []
   },
   "outputs": [
    {
     "data": {
      "text/plain": [
       "['/scratch_isilon/groups/singlecell/shared/projects/Inflammation-PBMCs-Atlas/03_downstream_analysis/08_gene_importance/xgboost_external_validation/xgboost_TopN_genes/results_20/study/Mono_9_0_xgboost.pkl']"
      ]
     },
     "execution_count": 20,
     "metadata": {},
     "output_type": "execute_result"
    }
   ],
   "source": [
    "out_dir = here(f'03_downstream_analysis/08_gene_importance/xgboost_external_validation/xgboost_TopN_genes/results_{N_GENES}/study')\n",
    "\n",
    "if not os.path.exists(out_dir):\n",
    "    os.makedirs(out_dir)\n",
    "    \n",
    "joblib.dump(study,os.path.join(out_dir, f'{CELL_TYPE}_{SEED}_{TEST_SPLIT_IDX}_xgboost.pkl'))"
   ]
  },
  {
   "cell_type": "code",
   "execution_count": 21,
   "id": "ab127e2e",
   "metadata": {
    "execution": {
     "iopub.execute_input": "2025-05-15T16:14:16.171649Z",
     "iopub.status.busy": "2025-05-15T16:14:16.170858Z",
     "iopub.status.idle": "2025-05-15T16:14:37.533892Z",
     "shell.execute_reply": "2025-05-15T16:14:37.533329Z"
    },
    "papermill": {
     "duration": 21.375186,
     "end_time": "2025-05-15T16:14:37.535009",
     "exception": false,
     "start_time": "2025-05-15T16:14:16.159823",
     "status": "completed"
    },
    "tags": []
   },
   "outputs": [
    {
     "data": {
      "text/html": [
       "<style>#sk-container-id-1 {\n",
       "  /* Definition of color scheme common for light and dark mode */\n",
       "  --sklearn-color-text: black;\n",
       "  --sklearn-color-line: gray;\n",
       "  /* Definition of color scheme for unfitted estimators */\n",
       "  --sklearn-color-unfitted-level-0: #fff5e6;\n",
       "  --sklearn-color-unfitted-level-1: #f6e4d2;\n",
       "  --sklearn-color-unfitted-level-2: #ffe0b3;\n",
       "  --sklearn-color-unfitted-level-3: chocolate;\n",
       "  /* Definition of color scheme for fitted estimators */\n",
       "  --sklearn-color-fitted-level-0: #f0f8ff;\n",
       "  --sklearn-color-fitted-level-1: #d4ebff;\n",
       "  --sklearn-color-fitted-level-2: #b3dbfd;\n",
       "  --sklearn-color-fitted-level-3: cornflowerblue;\n",
       "\n",
       "  /* Specific color for light theme */\n",
       "  --sklearn-color-text-on-default-background: var(--sg-text-color, var(--theme-code-foreground, var(--jp-content-font-color1, black)));\n",
       "  --sklearn-color-background: var(--sg-background-color, var(--theme-background, var(--jp-layout-color0, white)));\n",
       "  --sklearn-color-border-box: var(--sg-text-color, var(--theme-code-foreground, var(--jp-content-font-color1, black)));\n",
       "  --sklearn-color-icon: #696969;\n",
       "\n",
       "  @media (prefers-color-scheme: dark) {\n",
       "    /* Redefinition of color scheme for dark theme */\n",
       "    --sklearn-color-text-on-default-background: var(--sg-text-color, var(--theme-code-foreground, var(--jp-content-font-color1, white)));\n",
       "    --sklearn-color-background: var(--sg-background-color, var(--theme-background, var(--jp-layout-color0, #111)));\n",
       "    --sklearn-color-border-box: var(--sg-text-color, var(--theme-code-foreground, var(--jp-content-font-color1, white)));\n",
       "    --sklearn-color-icon: #878787;\n",
       "  }\n",
       "}\n",
       "\n",
       "#sk-container-id-1 {\n",
       "  color: var(--sklearn-color-text);\n",
       "}\n",
       "\n",
       "#sk-container-id-1 pre {\n",
       "  padding: 0;\n",
       "}\n",
       "\n",
       "#sk-container-id-1 input.sk-hidden--visually {\n",
       "  border: 0;\n",
       "  clip: rect(1px 1px 1px 1px);\n",
       "  clip: rect(1px, 1px, 1px, 1px);\n",
       "  height: 1px;\n",
       "  margin: -1px;\n",
       "  overflow: hidden;\n",
       "  padding: 0;\n",
       "  position: absolute;\n",
       "  width: 1px;\n",
       "}\n",
       "\n",
       "#sk-container-id-1 div.sk-dashed-wrapped {\n",
       "  border: 1px dashed var(--sklearn-color-line);\n",
       "  margin: 0 0.4em 0.5em 0.4em;\n",
       "  box-sizing: border-box;\n",
       "  padding-bottom: 0.4em;\n",
       "  background-color: var(--sklearn-color-background);\n",
       "}\n",
       "\n",
       "#sk-container-id-1 div.sk-container {\n",
       "  /* jupyter's `normalize.less` sets `[hidden] { display: none; }`\n",
       "     but bootstrap.min.css set `[hidden] { display: none !important; }`\n",
       "     so we also need the `!important` here to be able to override the\n",
       "     default hidden behavior on the sphinx rendered scikit-learn.org.\n",
       "     See: https://github.com/scikit-learn/scikit-learn/issues/21755 */\n",
       "  display: inline-block !important;\n",
       "  position: relative;\n",
       "}\n",
       "\n",
       "#sk-container-id-1 div.sk-text-repr-fallback {\n",
       "  display: none;\n",
       "}\n",
       "\n",
       "div.sk-parallel-item,\n",
       "div.sk-serial,\n",
       "div.sk-item {\n",
       "  /* draw centered vertical line to link estimators */\n",
       "  background-image: linear-gradient(var(--sklearn-color-text-on-default-background), var(--sklearn-color-text-on-default-background));\n",
       "  background-size: 2px 100%;\n",
       "  background-repeat: no-repeat;\n",
       "  background-position: center center;\n",
       "}\n",
       "\n",
       "/* Parallel-specific style estimator block */\n",
       "\n",
       "#sk-container-id-1 div.sk-parallel-item::after {\n",
       "  content: \"\";\n",
       "  width: 100%;\n",
       "  border-bottom: 2px solid var(--sklearn-color-text-on-default-background);\n",
       "  flex-grow: 1;\n",
       "}\n",
       "\n",
       "#sk-container-id-1 div.sk-parallel {\n",
       "  display: flex;\n",
       "  align-items: stretch;\n",
       "  justify-content: center;\n",
       "  background-color: var(--sklearn-color-background);\n",
       "  position: relative;\n",
       "}\n",
       "\n",
       "#sk-container-id-1 div.sk-parallel-item {\n",
       "  display: flex;\n",
       "  flex-direction: column;\n",
       "}\n",
       "\n",
       "#sk-container-id-1 div.sk-parallel-item:first-child::after {\n",
       "  align-self: flex-end;\n",
       "  width: 50%;\n",
       "}\n",
       "\n",
       "#sk-container-id-1 div.sk-parallel-item:last-child::after {\n",
       "  align-self: flex-start;\n",
       "  width: 50%;\n",
       "}\n",
       "\n",
       "#sk-container-id-1 div.sk-parallel-item:only-child::after {\n",
       "  width: 0;\n",
       "}\n",
       "\n",
       "/* Serial-specific style estimator block */\n",
       "\n",
       "#sk-container-id-1 div.sk-serial {\n",
       "  display: flex;\n",
       "  flex-direction: column;\n",
       "  align-items: center;\n",
       "  background-color: var(--sklearn-color-background);\n",
       "  padding-right: 1em;\n",
       "  padding-left: 1em;\n",
       "}\n",
       "\n",
       "\n",
       "/* Toggleable style: style used for estimator/Pipeline/ColumnTransformer box that is\n",
       "clickable and can be expanded/collapsed.\n",
       "- Pipeline and ColumnTransformer use this feature and define the default style\n",
       "- Estimators will overwrite some part of the style using the `sk-estimator` class\n",
       "*/\n",
       "\n",
       "/* Pipeline and ColumnTransformer style (default) */\n",
       "\n",
       "#sk-container-id-1 div.sk-toggleable {\n",
       "  /* Default theme specific background. It is overwritten whether we have a\n",
       "  specific estimator or a Pipeline/ColumnTransformer */\n",
       "  background-color: var(--sklearn-color-background);\n",
       "}\n",
       "\n",
       "/* Toggleable label */\n",
       "#sk-container-id-1 label.sk-toggleable__label {\n",
       "  cursor: pointer;\n",
       "  display: block;\n",
       "  width: 100%;\n",
       "  margin-bottom: 0;\n",
       "  padding: 0.5em;\n",
       "  box-sizing: border-box;\n",
       "  text-align: center;\n",
       "}\n",
       "\n",
       "#sk-container-id-1 label.sk-toggleable__label-arrow:before {\n",
       "  /* Arrow on the left of the label */\n",
       "  content: \"▸\";\n",
       "  float: left;\n",
       "  margin-right: 0.25em;\n",
       "  color: var(--sklearn-color-icon);\n",
       "}\n",
       "\n",
       "#sk-container-id-1 label.sk-toggleable__label-arrow:hover:before {\n",
       "  color: var(--sklearn-color-text);\n",
       "}\n",
       "\n",
       "/* Toggleable content - dropdown */\n",
       "\n",
       "#sk-container-id-1 div.sk-toggleable__content {\n",
       "  max-height: 0;\n",
       "  max-width: 0;\n",
       "  overflow: hidden;\n",
       "  text-align: left;\n",
       "  /* unfitted */\n",
       "  background-color: var(--sklearn-color-unfitted-level-0);\n",
       "}\n",
       "\n",
       "#sk-container-id-1 div.sk-toggleable__content.fitted {\n",
       "  /* fitted */\n",
       "  background-color: var(--sklearn-color-fitted-level-0);\n",
       "}\n",
       "\n",
       "#sk-container-id-1 div.sk-toggleable__content pre {\n",
       "  margin: 0.2em;\n",
       "  border-radius: 0.25em;\n",
       "  color: var(--sklearn-color-text);\n",
       "  /* unfitted */\n",
       "  background-color: var(--sklearn-color-unfitted-level-0);\n",
       "}\n",
       "\n",
       "#sk-container-id-1 div.sk-toggleable__content.fitted pre {\n",
       "  /* unfitted */\n",
       "  background-color: var(--sklearn-color-fitted-level-0);\n",
       "}\n",
       "\n",
       "#sk-container-id-1 input.sk-toggleable__control:checked~div.sk-toggleable__content {\n",
       "  /* Expand drop-down */\n",
       "  max-height: 200px;\n",
       "  max-width: 100%;\n",
       "  overflow: auto;\n",
       "}\n",
       "\n",
       "#sk-container-id-1 input.sk-toggleable__control:checked~label.sk-toggleable__label-arrow:before {\n",
       "  content: \"▾\";\n",
       "}\n",
       "\n",
       "/* Pipeline/ColumnTransformer-specific style */\n",
       "\n",
       "#sk-container-id-1 div.sk-label input.sk-toggleable__control:checked~label.sk-toggleable__label {\n",
       "  color: var(--sklearn-color-text);\n",
       "  background-color: var(--sklearn-color-unfitted-level-2);\n",
       "}\n",
       "\n",
       "#sk-container-id-1 div.sk-label.fitted input.sk-toggleable__control:checked~label.sk-toggleable__label {\n",
       "  background-color: var(--sklearn-color-fitted-level-2);\n",
       "}\n",
       "\n",
       "/* Estimator-specific style */\n",
       "\n",
       "/* Colorize estimator box */\n",
       "#sk-container-id-1 div.sk-estimator input.sk-toggleable__control:checked~label.sk-toggleable__label {\n",
       "  /* unfitted */\n",
       "  background-color: var(--sklearn-color-unfitted-level-2);\n",
       "}\n",
       "\n",
       "#sk-container-id-1 div.sk-estimator.fitted input.sk-toggleable__control:checked~label.sk-toggleable__label {\n",
       "  /* fitted */\n",
       "  background-color: var(--sklearn-color-fitted-level-2);\n",
       "}\n",
       "\n",
       "#sk-container-id-1 div.sk-label label.sk-toggleable__label,\n",
       "#sk-container-id-1 div.sk-label label {\n",
       "  /* The background is the default theme color */\n",
       "  color: var(--sklearn-color-text-on-default-background);\n",
       "}\n",
       "\n",
       "/* On hover, darken the color of the background */\n",
       "#sk-container-id-1 div.sk-label:hover label.sk-toggleable__label {\n",
       "  color: var(--sklearn-color-text);\n",
       "  background-color: var(--sklearn-color-unfitted-level-2);\n",
       "}\n",
       "\n",
       "/* Label box, darken color on hover, fitted */\n",
       "#sk-container-id-1 div.sk-label.fitted:hover label.sk-toggleable__label.fitted {\n",
       "  color: var(--sklearn-color-text);\n",
       "  background-color: var(--sklearn-color-fitted-level-2);\n",
       "}\n",
       "\n",
       "/* Estimator label */\n",
       "\n",
       "#sk-container-id-1 div.sk-label label {\n",
       "  font-family: monospace;\n",
       "  font-weight: bold;\n",
       "  display: inline-block;\n",
       "  line-height: 1.2em;\n",
       "}\n",
       "\n",
       "#sk-container-id-1 div.sk-label-container {\n",
       "  text-align: center;\n",
       "}\n",
       "\n",
       "/* Estimator-specific */\n",
       "#sk-container-id-1 div.sk-estimator {\n",
       "  font-family: monospace;\n",
       "  border: 1px dotted var(--sklearn-color-border-box);\n",
       "  border-radius: 0.25em;\n",
       "  box-sizing: border-box;\n",
       "  margin-bottom: 0.5em;\n",
       "  /* unfitted */\n",
       "  background-color: var(--sklearn-color-unfitted-level-0);\n",
       "}\n",
       "\n",
       "#sk-container-id-1 div.sk-estimator.fitted {\n",
       "  /* fitted */\n",
       "  background-color: var(--sklearn-color-fitted-level-0);\n",
       "}\n",
       "\n",
       "/* on hover */\n",
       "#sk-container-id-1 div.sk-estimator:hover {\n",
       "  /* unfitted */\n",
       "  background-color: var(--sklearn-color-unfitted-level-2);\n",
       "}\n",
       "\n",
       "#sk-container-id-1 div.sk-estimator.fitted:hover {\n",
       "  /* fitted */\n",
       "  background-color: var(--sklearn-color-fitted-level-2);\n",
       "}\n",
       "\n",
       "/* Specification for estimator info (e.g. \"i\" and \"?\") */\n",
       "\n",
       "/* Common style for \"i\" and \"?\" */\n",
       "\n",
       ".sk-estimator-doc-link,\n",
       "a:link.sk-estimator-doc-link,\n",
       "a:visited.sk-estimator-doc-link {\n",
       "  float: right;\n",
       "  font-size: smaller;\n",
       "  line-height: 1em;\n",
       "  font-family: monospace;\n",
       "  background-color: var(--sklearn-color-background);\n",
       "  border-radius: 1em;\n",
       "  height: 1em;\n",
       "  width: 1em;\n",
       "  text-decoration: none !important;\n",
       "  margin-left: 1ex;\n",
       "  /* unfitted */\n",
       "  border: var(--sklearn-color-unfitted-level-1) 1pt solid;\n",
       "  color: var(--sklearn-color-unfitted-level-1);\n",
       "}\n",
       "\n",
       ".sk-estimator-doc-link.fitted,\n",
       "a:link.sk-estimator-doc-link.fitted,\n",
       "a:visited.sk-estimator-doc-link.fitted {\n",
       "  /* fitted */\n",
       "  border: var(--sklearn-color-fitted-level-1) 1pt solid;\n",
       "  color: var(--sklearn-color-fitted-level-1);\n",
       "}\n",
       "\n",
       "/* On hover */\n",
       "div.sk-estimator:hover .sk-estimator-doc-link:hover,\n",
       ".sk-estimator-doc-link:hover,\n",
       "div.sk-label-container:hover .sk-estimator-doc-link:hover,\n",
       ".sk-estimator-doc-link:hover {\n",
       "  /* unfitted */\n",
       "  background-color: var(--sklearn-color-unfitted-level-3);\n",
       "  color: var(--sklearn-color-background);\n",
       "  text-decoration: none;\n",
       "}\n",
       "\n",
       "div.sk-estimator.fitted:hover .sk-estimator-doc-link.fitted:hover,\n",
       ".sk-estimator-doc-link.fitted:hover,\n",
       "div.sk-label-container:hover .sk-estimator-doc-link.fitted:hover,\n",
       ".sk-estimator-doc-link.fitted:hover {\n",
       "  /* fitted */\n",
       "  background-color: var(--sklearn-color-fitted-level-3);\n",
       "  color: var(--sklearn-color-background);\n",
       "  text-decoration: none;\n",
       "}\n",
       "\n",
       "/* Span, style for the box shown on hovering the info icon */\n",
       ".sk-estimator-doc-link span {\n",
       "  display: none;\n",
       "  z-index: 9999;\n",
       "  position: relative;\n",
       "  font-weight: normal;\n",
       "  right: .2ex;\n",
       "  padding: .5ex;\n",
       "  margin: .5ex;\n",
       "  width: min-content;\n",
       "  min-width: 20ex;\n",
       "  max-width: 50ex;\n",
       "  color: var(--sklearn-color-text);\n",
       "  box-shadow: 2pt 2pt 4pt #999;\n",
       "  /* unfitted */\n",
       "  background: var(--sklearn-color-unfitted-level-0);\n",
       "  border: .5pt solid var(--sklearn-color-unfitted-level-3);\n",
       "}\n",
       "\n",
       ".sk-estimator-doc-link.fitted span {\n",
       "  /* fitted */\n",
       "  background: var(--sklearn-color-fitted-level-0);\n",
       "  border: var(--sklearn-color-fitted-level-3);\n",
       "}\n",
       "\n",
       ".sk-estimator-doc-link:hover span {\n",
       "  display: block;\n",
       "}\n",
       "\n",
       "/* \"?\"-specific style due to the `<a>` HTML tag */\n",
       "\n",
       "#sk-container-id-1 a.estimator_doc_link {\n",
       "  float: right;\n",
       "  font-size: 1rem;\n",
       "  line-height: 1em;\n",
       "  font-family: monospace;\n",
       "  background-color: var(--sklearn-color-background);\n",
       "  border-radius: 1rem;\n",
       "  height: 1rem;\n",
       "  width: 1rem;\n",
       "  text-decoration: none;\n",
       "  /* unfitted */\n",
       "  color: var(--sklearn-color-unfitted-level-1);\n",
       "  border: var(--sklearn-color-unfitted-level-1) 1pt solid;\n",
       "}\n",
       "\n",
       "#sk-container-id-1 a.estimator_doc_link.fitted {\n",
       "  /* fitted */\n",
       "  border: var(--sklearn-color-fitted-level-1) 1pt solid;\n",
       "  color: var(--sklearn-color-fitted-level-1);\n",
       "}\n",
       "\n",
       "/* On hover */\n",
       "#sk-container-id-1 a.estimator_doc_link:hover {\n",
       "  /* unfitted */\n",
       "  background-color: var(--sklearn-color-unfitted-level-3);\n",
       "  color: var(--sklearn-color-background);\n",
       "  text-decoration: none;\n",
       "}\n",
       "\n",
       "#sk-container-id-1 a.estimator_doc_link.fitted:hover {\n",
       "  /* fitted */\n",
       "  background-color: var(--sklearn-color-fitted-level-3);\n",
       "}\n",
       "</style><div id=\"sk-container-id-1\" class=\"sk-top-container\"><div class=\"sk-text-repr-fallback\"><pre>XGBClassifier(base_score=None, booster=None, callbacks=None,\n",
       "              colsample_bylevel=None, colsample_bynode=0.24331970385082502,\n",
       "              colsample_bytree=None, device=None, early_stopping_rounds=None,\n",
       "              enable_categorical=False,\n",
       "              eval_metric=&lt;function custom_f1_score at 0x7f5b9b0b8540&gt;,\n",
       "              feature_types=None, gamma=None, grow_policy=None,\n",
       "              importance_type=None, interaction_constraints=None,\n",
       "              learning_rate=0.31403774963922065, max_bin=None,\n",
       "              max_cat_threshold=None, max_cat_to_onehot=None,\n",
       "              max_delta_step=None, max_depth=12, max_leaves=None,\n",
       "              min_child_weight=49, missing=nan, monotone_constraints=None,\n",
       "              multi_strategy=None, n_estimators=144, n_jobs=None,\n",
       "              num_parallel_tree=None, objective=&#x27;multi:softprob&#x27;, ...)</pre><b>In a Jupyter environment, please rerun this cell to show the HTML representation or trust the notebook. <br />On GitHub, the HTML representation is unable to render, please try loading this page with nbviewer.org.</b></div><div class=\"sk-container\" hidden><div class=\"sk-item\"><div class=\"sk-estimator fitted sk-toggleable\"><input class=\"sk-toggleable__control sk-hidden--visually\" id=\"sk-estimator-id-1\" type=\"checkbox\" checked><label for=\"sk-estimator-id-1\" class=\"sk-toggleable__label fitted sk-toggleable__label-arrow fitted\">&nbsp;XGBClassifier<span class=\"sk-estimator-doc-link fitted\">i<span>Fitted</span></span></label><div class=\"sk-toggleable__content fitted\"><pre>XGBClassifier(base_score=None, booster=None, callbacks=None,\n",
       "              colsample_bylevel=None, colsample_bynode=0.24331970385082502,\n",
       "              colsample_bytree=None, device=None, early_stopping_rounds=None,\n",
       "              enable_categorical=False,\n",
       "              eval_metric=&lt;function custom_f1_score at 0x7f5b9b0b8540&gt;,\n",
       "              feature_types=None, gamma=None, grow_policy=None,\n",
       "              importance_type=None, interaction_constraints=None,\n",
       "              learning_rate=0.31403774963922065, max_bin=None,\n",
       "              max_cat_threshold=None, max_cat_to_onehot=None,\n",
       "              max_delta_step=None, max_depth=12, max_leaves=None,\n",
       "              min_child_weight=49, missing=nan, monotone_constraints=None,\n",
       "              multi_strategy=None, n_estimators=144, n_jobs=None,\n",
       "              num_parallel_tree=None, objective=&#x27;multi:softprob&#x27;, ...)</pre></div> </div></div></div></div>"
      ],
      "text/plain": [
       "XGBClassifier(base_score=None, booster=None, callbacks=None,\n",
       "              colsample_bylevel=None, colsample_bynode=0.24331970385082502,\n",
       "              colsample_bytree=None, device=None, early_stopping_rounds=None,\n",
       "              enable_categorical=False,\n",
       "              eval_metric=<function custom_f1_score at 0x7f5b9b0b8540>,\n",
       "              feature_types=None, gamma=None, grow_policy=None,\n",
       "              importance_type=None, interaction_constraints=None,\n",
       "              learning_rate=0.31403774963922065, max_bin=None,\n",
       "              max_cat_threshold=None, max_cat_to_onehot=None,\n",
       "              max_delta_step=None, max_depth=12, max_leaves=None,\n",
       "              min_child_weight=49, missing=nan, monotone_constraints=None,\n",
       "              multi_strategy=None, n_estimators=144, n_jobs=None,\n",
       "              num_parallel_tree=None, objective='multi:softprob', ...)"
      ]
     },
     "execution_count": 21,
     "metadata": {},
     "output_type": "execute_result"
    }
   ],
   "source": [
    "n_estimators = int(study.best_trial.user_attrs['best_iteration']*1.2)\n",
    "xgb = xgboost.XGBClassifier(\n",
    "        eval_metric=eval_metric,\n",
    "        n_estimators=n_estimators,\n",
    "        **study.best_trial.params\n",
    "    )\n",
    "xgb.fit(\n",
    "    ssp.vstack((X_train, X_val)), \n",
    "    np.concatenate((y_train_enc, y_val_enc)),\n",
    "    verbose=1,\n",
    ")"
   ]
  },
  {
   "cell_type": "code",
   "execution_count": 22,
   "id": "2e1b8515",
   "metadata": {
    "execution": {
     "iopub.execute_input": "2025-05-15T16:14:37.559467Z",
     "iopub.status.busy": "2025-05-15T16:14:37.559108Z",
     "iopub.status.idle": "2025-05-15T16:14:37.627591Z",
     "shell.execute_reply": "2025-05-15T16:14:37.627067Z"
    },
    "papermill": {
     "duration": 0.081657,
     "end_time": "2025-05-15T16:14:37.628777",
     "exception": false,
     "start_time": "2025-05-15T16:14:37.547120",
     "status": "completed"
    },
    "tags": []
   },
   "outputs": [
    {
     "data": {
      "text/plain": [
       "['/scratch_isilon/groups/singlecell/shared/projects/Inflammation-PBMCs-Atlas/03_downstream_analysis/08_gene_importance/xgboost_external_validation/xgboost_TopN_genes/results_20/best_model/Mono_9_0_xgb.json']"
      ]
     },
     "execution_count": 22,
     "metadata": {},
     "output_type": "execute_result"
    }
   ],
   "source": [
    "out_dir = here(f'03_downstream_analysis/08_gene_importance/xgboost_external_validation/xgboost_TopN_genes/results_{N_GENES}/best_model')\n",
    "\n",
    "if not os.path.exists(out_dir):\n",
    "    os.makedirs(out_dir)\n",
    "    \n",
    "joblib.dump(xgb, os.path.join(out_dir, f'{CELL_TYPE}_{SEED}_{TEST_SPLIT_IDX}_xgb.json'))"
   ]
  },
  {
   "cell_type": "code",
   "execution_count": 23,
   "id": "3c31d01b",
   "metadata": {
    "execution": {
     "iopub.execute_input": "2025-05-15T16:14:37.650194Z",
     "iopub.status.busy": "2025-05-15T16:14:37.650008Z",
     "iopub.status.idle": "2025-05-15T16:14:38.663591Z",
     "shell.execute_reply": "2025-05-15T16:14:38.663061Z"
    },
    "papermill": {
     "duration": 1.026042,
     "end_time": "2025-05-15T16:14:38.665319",
     "exception": false,
     "start_time": "2025-05-15T16:14:37.639277",
     "status": "completed"
    },
    "tags": []
   },
   "outputs": [],
   "source": [
    "df_pred_test = pd.DataFrame(dict(\n",
    "    cell_id=train_adata.obs.iloc[test_idxs].index.values,\n",
    "    y_true=y_test, \n",
    "    y_true_code=y_test_enc, \n",
    "    y_pred=xgb.predict(X_test))).set_index('cell_id')"
   ]
  },
  {
   "cell_type": "code",
   "execution_count": 24,
   "id": "9f742198",
   "metadata": {
    "execution": {
     "iopub.execute_input": "2025-05-15T16:14:38.686090Z",
     "iopub.status.busy": "2025-05-15T16:14:38.685431Z",
     "iopub.status.idle": "2025-05-15T16:14:38.831726Z",
     "shell.execute_reply": "2025-05-15T16:14:38.831120Z"
    },
    "papermill": {
     "duration": 0.157775,
     "end_time": "2025-05-15T16:14:38.833172",
     "exception": false,
     "start_time": "2025-05-15T16:14:38.675397",
     "status": "completed"
    },
    "tags": []
   },
   "outputs": [],
   "source": [
    "out_dir = here(f'03_downstream_analysis/08_gene_importance/xgboost_external_validation/xgboost_TopN_genes/results_{N_GENES}/predictions')\n",
    "\n",
    "if not os.path.exists(out_dir):\n",
    "    os.makedirs(out_dir)\n",
    "    \n",
    "df_pred_test.to_csv(os.path.join(out_dir, f'{CELL_TYPE}_{SEED}_{TEST_SPLIT_IDX}_pred_test.zip'))"
   ]
  },
  {
   "cell_type": "code",
   "execution_count": 25,
   "id": "17b9b391",
   "metadata": {
    "execution": {
     "iopub.execute_input": "2025-05-15T16:14:38.855321Z",
     "iopub.status.busy": "2025-05-15T16:14:38.854587Z",
     "iopub.status.idle": "2025-05-15T16:14:38.870856Z",
     "shell.execute_reply": "2025-05-15T16:14:38.870321Z"
    },
    "papermill": {
     "duration": 0.028218,
     "end_time": "2025-05-15T16:14:38.871915",
     "exception": false,
     "start_time": "2025-05-15T16:14:38.843697",
     "status": "completed"
    },
    "tags": []
   },
   "outputs": [],
   "source": [
    "metrics_dict = dict(\n",
    "    BAS=balanced_accuracy_score(y_true=df_pred_test.y_true_code, y_pred=df_pred_test.y_pred), WF1=f1_score(y_true=df_pred_test.y_true_code, y_pred=df_pred_test.y_pred,average='weighted'))"
   ]
  },
  {
   "cell_type": "code",
   "execution_count": 26,
   "id": "8822df4c",
   "metadata": {
    "execution": {
     "iopub.execute_input": "2025-05-15T16:14:38.892149Z",
     "iopub.status.busy": "2025-05-15T16:14:38.891976Z",
     "iopub.status.idle": "2025-05-15T16:14:38.895879Z",
     "shell.execute_reply": "2025-05-15T16:14:38.895480Z"
    },
    "papermill": {
     "duration": 0.014984,
     "end_time": "2025-05-15T16:14:38.896839",
     "exception": false,
     "start_time": "2025-05-15T16:14:38.881855",
     "status": "completed"
    },
    "tags": []
   },
   "outputs": [
    {
     "data": {
      "text/plain": [
       "{'BAS': 0.6700753480158701, 'WF1': 0.8503358373933717}"
      ]
     },
     "execution_count": 26,
     "metadata": {},
     "output_type": "execute_result"
    }
   ],
   "source": [
    "metrics_dict"
   ]
  },
  {
   "cell_type": "code",
   "execution_count": 27,
   "id": "7fdf0cbc",
   "metadata": {
    "execution": {
     "iopub.execute_input": "2025-05-15T16:14:38.918087Z",
     "iopub.status.busy": "2025-05-15T16:14:38.917475Z",
     "iopub.status.idle": "2025-05-15T16:14:38.926620Z",
     "shell.execute_reply": "2025-05-15T16:14:38.926217Z"
    },
    "papermill": {
     "duration": 0.020079,
     "end_time": "2025-05-15T16:14:38.927571",
     "exception": false,
     "start_time": "2025-05-15T16:14:38.907492",
     "status": "completed"
    },
    "tags": []
   },
   "outputs": [
    {
     "data": {
      "text/html": [
       "<div>\n",
       "<style scoped>\n",
       "    .dataframe tbody tr th:only-of-type {\n",
       "        vertical-align: middle;\n",
       "    }\n",
       "\n",
       "    .dataframe tbody tr th {\n",
       "        vertical-align: top;\n",
       "    }\n",
       "\n",
       "    .dataframe thead th {\n",
       "        text-align: right;\n",
       "    }\n",
       "</style>\n",
       "<table border=\"1\" class=\"dataframe\">\n",
       "  <thead>\n",
       "    <tr style=\"text-align: right;\">\n",
       "      <th></th>\n",
       "      <th>BAS</th>\n",
       "      <th>WF1</th>\n",
       "      <th>split_idx</th>\n",
       "      <th>gene_set_seed</th>\n",
       "      <th>cell_type</th>\n",
       "    </tr>\n",
       "  </thead>\n",
       "  <tbody>\n",
       "    <tr>\n",
       "      <th>0</th>\n",
       "      <td>0.670075</td>\n",
       "      <td>0.850336</td>\n",
       "      <td>0</td>\n",
       "      <td>9</td>\n",
       "      <td>Mono</td>\n",
       "    </tr>\n",
       "  </tbody>\n",
       "</table>\n",
       "</div>"
      ],
      "text/plain": [
       "        BAS       WF1  split_idx  gene_set_seed cell_type\n",
       "0  0.670075  0.850336          0              9      Mono"
      ]
     },
     "execution_count": 27,
     "metadata": {},
     "output_type": "execute_result"
    }
   ],
   "source": [
    "metrics_df = pd.DataFrame.from_dict([metrics_dict]).assign(split_idx=TEST_SPLIT_IDX, gene_set_seed=SEED, cell_type=CELL_TYPE)\n",
    "metrics_df"
   ]
  },
  {
   "cell_type": "code",
   "execution_count": 28,
   "id": "2dfcc3e9",
   "metadata": {
    "execution": {
     "iopub.execute_input": "2025-05-15T16:14:38.948741Z",
     "iopub.status.busy": "2025-05-15T16:14:38.948240Z",
     "iopub.status.idle": "2025-05-15T16:14:38.956052Z",
     "shell.execute_reply": "2025-05-15T16:14:38.955626Z"
    },
    "papermill": {
     "duration": 0.019252,
     "end_time": "2025-05-15T16:14:38.957071",
     "exception": false,
     "start_time": "2025-05-15T16:14:38.937819",
     "status": "completed"
    },
    "tags": []
   },
   "outputs": [],
   "source": [
    "out_dir = here(f'03_downstream_analysis/08_gene_importance/xgboost_external_validation/xgboost_TopN_genes/results_{N_GENES}/metrics')\n",
    "\n",
    "if not os.path.exists(out_dir):\n",
    "    os.makedirs(out_dir)\n",
    "    \n",
    "metrics_df.to_csv(os.path.join(out_dir, f'{CELL_TYPE}_{SEED}_{TEST_SPLIT_IDX}_metrics.zip'))"
   ]
  }
 ],
 "metadata": {
  "kernelspec": {
   "display_name": "Python 3 (ipykernel)",
   "language": "python",
   "name": "python3"
  },
  "language_info": {
   "codemirror_mode": {
    "name": "ipython",
    "version": 3
   },
   "file_extension": ".py",
   "mimetype": "text/x-python",
   "name": "python",
   "nbconvert_exporter": "python",
   "pygments_lexer": "ipython3",
   "version": "3.12.5"
  },
  "papermill": {
   "default_parameters": {},
   "duration": 883.941378,
   "end_time": "2025-05-15T16:14:39.684726",
   "environment_variables": {},
   "exception": null,
   "input_path": "02_xgboost_fitting_external_20genes.ipynb",
   "output_path": "results_20/executed_notebooks/xgboost_fitting_external_CT_Mono_GS_9_seed0.ipynb",
   "parameters": {
    "CELL_TYPE": "Mono",
    "SEED": 9,
    "TEST_SPLIT_IDX": 0
   },
   "start_time": "2025-05-15T15:59:55.743348",
   "version": "2.6.0"
  }
 },
 "nbformat": 4,
 "nbformat_minor": 5
}