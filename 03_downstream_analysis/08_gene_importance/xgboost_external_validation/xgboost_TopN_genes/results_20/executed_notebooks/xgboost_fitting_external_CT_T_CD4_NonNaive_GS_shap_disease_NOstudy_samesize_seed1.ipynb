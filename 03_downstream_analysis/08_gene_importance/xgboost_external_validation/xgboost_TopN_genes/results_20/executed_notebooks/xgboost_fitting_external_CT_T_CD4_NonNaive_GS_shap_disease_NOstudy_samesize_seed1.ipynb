{
 "cells": [
  {
   "cell_type": "code",
   "execution_count": 1,
   "id": "2602c54f",
   "metadata": {
    "editable": true,
    "execution": {
     "iopub.execute_input": "2025-06-13T13:01:57.437033Z",
     "iopub.status.busy": "2025-06-13T13:01:57.436896Z",
     "iopub.status.idle": "2025-06-13T13:01:57.439839Z",
     "shell.execute_reply": "2025-06-13T13:01:57.439531Z"
    },
    "papermill": {
     "duration": 0.010384,
     "end_time": "2025-06-13T13:01:57.440670",
     "exception": false,
     "start_time": "2025-06-13T13:01:57.430286",
     "status": "completed"
    },
    "slideshow": {
     "slide_type": ""
    },
    "tags": [
     "parameters"
    ]
   },
   "outputs": [],
   "source": [
    "CELL_TYPE = 'pDC'\n",
    "N_GENES: int = 20\n",
    "SEED = 'shap_studyID' #'disease_NOstudy' 'study_NOdisease' or 'int' or 'shap_studyID'\n",
    "TEST_SPLIT_IDX: int = 1 #[0,4]"
   ]
  },
  {
   "cell_type": "code",
   "execution_count": 2,
   "id": "91c50723",
   "metadata": {
    "execution": {
     "iopub.execute_input": "2025-06-13T13:01:57.451447Z",
     "iopub.status.busy": "2025-06-13T13:01:57.451212Z",
     "iopub.status.idle": "2025-06-13T13:01:57.453513Z",
     "shell.execute_reply": "2025-06-13T13:01:57.453220Z"
    },
    "papermill": {
     "duration": 0.00846,
     "end_time": "2025-06-13T13:01:57.454274",
     "exception": false,
     "start_time": "2025-06-13T13:01:57.445814",
     "status": "completed"
    },
    "tags": [
     "injected-parameters"
    ]
   },
   "outputs": [],
   "source": [
    "# Parameters\n",
    "CELL_TYPE = \"T_CD4_NonNaive\"\n",
    "SEED = \"shap_disease_NOstudy_samesize\"\n",
    "TEST_SPLIT_IDX = 1\n"
   ]
  },
  {
   "cell_type": "code",
   "execution_count": 3,
   "id": "062c7712",
   "metadata": {
    "execution": {
     "iopub.execute_input": "2025-06-13T13:01:57.464859Z",
     "iopub.status.busy": "2025-06-13T13:01:57.464632Z",
     "iopub.status.idle": "2025-06-13T13:01:57.466835Z",
     "shell.execute_reply": "2025-06-13T13:01:57.466529Z"
    },
    "papermill": {
     "duration": 0.008245,
     "end_time": "2025-06-13T13:01:57.467564",
     "exception": false,
     "start_time": "2025-06-13T13:01:57.459319",
     "status": "completed"
    },
    "tags": []
   },
   "outputs": [],
   "source": [
    "N_SPLITS: int = 5\n",
    "N_TRIALS: int = 50"
   ]
  },
  {
   "cell_type": "code",
   "execution_count": 4,
   "id": "62935360",
   "metadata": {
    "execution": {
     "iopub.execute_input": "2025-06-13T13:01:57.478986Z",
     "iopub.status.busy": "2025-06-13T13:01:57.478758Z",
     "iopub.status.idle": "2025-06-13T13:02:01.354355Z",
     "shell.execute_reply": "2025-06-13T13:02:01.353773Z"
    },
    "papermill": {
     "duration": 3.883194,
     "end_time": "2025-06-13T13:02:01.355666",
     "exception": false,
     "start_time": "2025-06-13T13:01:57.472472",
     "status": "completed"
    },
    "tags": []
   },
   "outputs": [],
   "source": [
    "import os\n",
    "import sys\n",
    "from pyprojroot.here import here\n",
    "import pandas as pd\n",
    "import anndata as ad\n",
    "import numpy as np\n",
    "import math\n",
    "from sklearn.model_selection import StratifiedGroupKFold\n",
    "from sklearn.preprocessing import LabelEncoder\n",
    "from sklearn.metrics import f1_score\n",
    "import matplotlib.pyplot as plt\n",
    "import seaborn as sns\n",
    "from itertools import product\n",
    "from sklearn.metrics import balanced_accuracy_score, f1_score\n",
    "import optuna\n",
    "\n",
    "import joblib\n",
    "import pickle\n",
    "import datetime\n",
    "\n",
    "import collections\n",
    "\n",
    "import xgboost\n",
    "from sklearn.preprocessing import LabelEncoder\n",
    "\n",
    "import scipy.sparse as ssp\n",
    "import joblib\n",
    "\n",
    "from dotenv import load_dotenv"
   ]
  },
  {
   "cell_type": "code",
   "execution_count": 5,
   "id": "1e264eab",
   "metadata": {
    "execution": {
     "iopub.execute_input": "2025-06-13T13:02:01.368919Z",
     "iopub.status.busy": "2025-06-13T13:02:01.368642Z",
     "iopub.status.idle": "2025-06-13T13:02:01.374888Z",
     "shell.execute_reply": "2025-06-13T13:02:01.374582Z"
    },
    "papermill": {
     "duration": 0.014457,
     "end_time": "2025-06-13T13:02:01.375669",
     "exception": false,
     "start_time": "2025-06-13T13:02:01.361212",
     "status": "completed"
    },
    "tags": []
   },
   "outputs": [
    {
     "data": {
      "text/plain": [
       "True"
      ]
     },
     "execution_count": 5,
     "metadata": {},
     "output_type": "execute_result"
    }
   ],
   "source": [
    "load_dotenv()"
   ]
  },
  {
   "cell_type": "markdown",
   "id": "249e715c",
   "metadata": {
    "papermill": {
     "duration": 0.005524,
     "end_time": "2025-06-13T13:02:01.386627",
     "exception": false,
     "start_time": "2025-06-13T13:02:01.381103",
     "status": "completed"
    },
    "tags": []
   },
   "source": [
    "# LOAD DATASET"
   ]
  },
  {
   "cell_type": "code",
   "execution_count": 6,
   "id": "891aaaa9",
   "metadata": {
    "execution": {
     "iopub.execute_input": "2025-06-13T13:02:01.397764Z",
     "iopub.status.busy": "2025-06-13T13:02:01.397519Z",
     "iopub.status.idle": "2025-06-13T13:02:02.065258Z",
     "shell.execute_reply": "2025-06-13T13:02:02.064863Z"
    },
    "papermill": {
     "duration": 0.674612,
     "end_time": "2025-06-13T13:02:02.066496",
     "exception": false,
     "start_time": "2025-06-13T13:02:01.391884",
     "status": "completed"
    },
    "tags": []
   },
   "outputs": [],
   "source": [
    "train_adata = ad.read_h5ad(\n",
    "    here(f'03_downstream_analysis/08_gene_importance/xgboost_external_validation/xgboost_TopN_genes/data_cellTypes/EXTERNAL_{CELL_TYPE}.filtered.log1p.h5ad')\n",
    ")"
   ]
  },
  {
   "cell_type": "code",
   "execution_count": 7,
   "id": "30aaef0b",
   "metadata": {
    "execution": {
     "iopub.execute_input": "2025-06-13T13:02:02.077821Z",
     "iopub.status.busy": "2025-06-13T13:02:02.077668Z",
     "iopub.status.idle": "2025-06-13T13:02:02.132477Z",
     "shell.execute_reply": "2025-06-13T13:02:02.132134Z"
    },
    "papermill": {
     "duration": 0.061525,
     "end_time": "2025-06-13T13:02:02.133257",
     "exception": false,
     "start_time": "2025-06-13T13:02:02.071732",
     "status": "completed"
    },
    "tags": []
   },
   "outputs": [
    {
     "name": "stdout",
     "output_type": "stream",
     "text": [
      "['ENSG00000006125' 'ENSG00000019582' 'ENSG00000030582' 'ENSG00000065978'\n",
      " 'ENSG00000067182' 'ENSG00000072958' 'ENSG00000076944' 'ENSG00000077380'\n",
      " 'ENSG00000079805' 'ENSG00000090266' 'ENSG00000090382' 'ENSG00000090863'\n",
      " 'ENSG00000100664' 'ENSG00000104998' 'ENSG00000105373' 'ENSG00000106952'\n",
      " 'ENSG00000108561' 'ENSG00000109787' 'ENSG00000110848' 'ENSG00000110876'\n",
      " 'ENSG00000111348' 'ENSG00000111716' 'ENSG00000112149' 'ENSG00000113732'\n",
      " 'ENSG00000120129' 'ENSG00000125347' 'ENSG00000125740' 'ENSG00000126524'\n",
      " 'ENSG00000126561' 'ENSG00000126709' 'ENSG00000127152' 'ENSG00000130522'\n",
      " 'ENSG00000132002' 'ENSG00000132465' 'ENSG00000132475' 'ENSG00000134954'\n",
      " 'ENSG00000137959' 'ENSG00000137965' 'ENSG00000138674' 'ENSG00000143119'\n",
      " 'ENSG00000143543' 'ENSG00000143575' 'ENSG00000145247' 'ENSG00000146278'\n",
      " 'ENSG00000146457' 'ENSG00000152082' 'ENSG00000152234' 'ENSG00000152495'\n",
      " 'ENSG00000154589' 'ENSG00000157601' 'ENSG00000158050' 'ENSG00000158517'\n",
      " 'ENSG00000160932' 'ENSG00000162368' 'ENSG00000162739' 'ENSG00000163660'\n",
      " 'ENSG00000164543' 'ENSG00000165280' 'ENSG00000165732' 'ENSG00000167552'\n",
      " 'ENSG00000167996' 'ENSG00000169442' 'ENSG00000169564' 'ENSG00000170345'\n",
      " 'ENSG00000170525' 'ENSG00000170989' 'ENSG00000172349' 'ENSG00000172936'\n",
      " 'ENSG00000175354' 'ENSG00000175768' 'ENSG00000176986' 'ENSG00000177606'\n",
      " 'ENSG00000179094' 'ENSG00000179144' 'ENSG00000181029' 'ENSG00000183172'\n",
      " 'ENSG00000183508' 'ENSG00000183696' 'ENSG00000184007' 'ENSG00000184897'\n",
      " 'ENSG00000185201' 'ENSG00000185338' 'ENSG00000185650' 'ENSG00000185883'\n",
      " 'ENSG00000186010' 'ENSG00000186395' 'ENSG00000196396' 'ENSG00000197061'\n",
      " 'ENSG00000197102' 'ENSG00000197111' 'ENSG00000198355' 'ENSG00000198502'\n",
      " 'ENSG00000203896' 'ENSG00000204267' 'ENSG00000204525' 'ENSG00000211895'\n",
      " 'ENSG00000213928' 'ENSG00000229474' 'ENSG00000242616' 'ENSG00000243646'\n",
      " 'ENSG00000254772' 'ENSG00000258315' 'ENSG00000264364']\n"
     ]
    }
   ],
   "source": [
    "if SEED != 'all':\n",
    "    gene_subset = np.load(here(f'03_downstream_analysis/08_gene_importance/xgboost_external_validation/shap_gene_selection/gene_subsets_{N_GENES}/{CELL_TYPE}_{SEED}.npy'), allow_pickle=True)\n",
    "    train_adata = train_adata[:,gene_subset]\n",
    "    print(gene_subset)\n",
    "elif SEED == 'all':\n",
    "    print('Using all genes')\n",
    "else:\n",
    "    raise ValueError()"
   ]
  },
  {
   "cell_type": "code",
   "execution_count": 8,
   "id": "7198ed00",
   "metadata": {
    "execution": {
     "iopub.execute_input": "2025-06-13T13:02:02.144627Z",
     "iopub.status.busy": "2025-06-13T13:02:02.144438Z",
     "iopub.status.idle": "2025-06-13T13:02:02.147790Z",
     "shell.execute_reply": "2025-06-13T13:02:02.147407Z"
    },
    "papermill": {
     "duration": 0.009988,
     "end_time": "2025-06-13T13:02:02.148630",
     "exception": false,
     "start_time": "2025-06-13T13:02:02.138642",
     "status": "completed"
    },
    "tags": []
   },
   "outputs": [
    {
     "data": {
      "text/plain": [
       "(124886, 103)"
      ]
     },
     "execution_count": 8,
     "metadata": {},
     "output_type": "execute_result"
    }
   ],
   "source": [
    "train_adata.shape"
   ]
  },
  {
   "cell_type": "code",
   "execution_count": 9,
   "id": "0916554f",
   "metadata": {
    "execution": {
     "iopub.execute_input": "2025-06-13T13:02:02.162505Z",
     "iopub.status.busy": "2025-06-13T13:02:02.162364Z",
     "iopub.status.idle": "2025-06-13T13:02:02.166408Z",
     "shell.execute_reply": "2025-06-13T13:02:02.166066Z"
    },
    "papermill": {
     "duration": 0.011206,
     "end_time": "2025-06-13T13:02:02.167214",
     "exception": false,
     "start_time": "2025-06-13T13:02:02.156008",
     "status": "completed"
    },
    "tags": []
   },
   "outputs": [
    {
     "data": {
      "text/plain": [
       "['RA', 'healthy', 'COVID', 'HIV', 'cirrhosis', 'CD', 'SLE', 'sepsis']\n",
       "Categories (8, object): ['CD', 'COVID', 'HIV', 'RA', 'SLE', 'cirrhosis', 'healthy', 'sepsis']"
      ]
     },
     "execution_count": 9,
     "metadata": {},
     "output_type": "execute_result"
    }
   ],
   "source": [
    "train_adata.obs.disease.unique()"
   ]
  },
  {
   "cell_type": "code",
   "execution_count": 10,
   "id": "9b88844a",
   "metadata": {
    "execution": {
     "iopub.execute_input": "2025-06-13T13:02:02.186404Z",
     "iopub.status.busy": "2025-06-13T13:02:02.186173Z",
     "iopub.status.idle": "2025-06-13T13:02:02.190065Z",
     "shell.execute_reply": "2025-06-13T13:02:02.189706Z"
    },
    "papermill": {
     "duration": 0.01827,
     "end_time": "2025-06-13T13:02:02.190899",
     "exception": false,
     "start_time": "2025-06-13T13:02:02.172629",
     "status": "completed"
    },
    "tags": []
   },
   "outputs": [
    {
     "data": {
      "text/plain": [
       "['SCGT00val_I036016_T0', 'SCGT00val_I036023_T0', 'SCGT00val_I036015_T0', 'SCGT00val_I036028_T0', 'SCGT00val_I0364_T0', ..., '10XGenomics_10XHC2_T0', '10XGenomics_10XHC3_T0', '10XGenomics_10XHC5_T0', '10XGenomics_10XHC7_T0', '10XGenomics_10XHC8_T0']\n",
       "Length: 86\n",
       "Categories (86, object): ['10XGenomics_10XHC1_T0', '10XGenomics_10XHC2_T0', '10XGenomics_10XHC3_T0', '10XGenomics_10XHC4_T0', ..., 'Savage2021_BRISL6_T0', 'Savage2021_BRISL7_T0', 'Savage2021_PIDA_T0', 'Savage2021_PIDB_T0']"
      ]
     },
     "execution_count": 10,
     "metadata": {},
     "output_type": "execute_result"
    }
   ],
   "source": [
    "train_adata.obs.sampleID.unique()"
   ]
  },
  {
   "cell_type": "code",
   "execution_count": 11,
   "id": "a9015dba",
   "metadata": {
    "execution": {
     "iopub.execute_input": "2025-06-13T13:02:02.203450Z",
     "iopub.status.busy": "2025-06-13T13:02:02.203002Z",
     "iopub.status.idle": "2025-06-13T13:02:02.496457Z",
     "shell.execute_reply": "2025-06-13T13:02:02.495986Z"
    },
    "papermill": {
     "duration": 0.301581,
     "end_time": "2025-06-13T13:02:02.497676",
     "exception": false,
     "start_time": "2025-06-13T13:02:02.196095",
     "status": "completed"
    },
    "tags": []
   },
   "outputs": [],
   "source": [
    "all_idxs = np.arange(train_adata.obs.shape[0])\n",
    "left_out_splits = [s[1] for s in StratifiedGroupKFold(n_splits=N_SPLITS).split(all_idxs, train_adata.obs.disease, train_adata.obs.sampleID)]"
   ]
  },
  {
   "cell_type": "code",
   "execution_count": 12,
   "id": "89e01154",
   "metadata": {
    "execution": {
     "iopub.execute_input": "2025-06-13T13:02:02.511782Z",
     "iopub.status.busy": "2025-06-13T13:02:02.511286Z",
     "iopub.status.idle": "2025-06-13T13:02:02.516240Z",
     "shell.execute_reply": "2025-06-13T13:02:02.515897Z"
    },
    "papermill": {
     "duration": 0.012067,
     "end_time": "2025-06-13T13:02:02.517128",
     "exception": false,
     "start_time": "2025-06-13T13:02:02.505061",
     "status": "completed"
    },
    "tags": []
   },
   "outputs": [
    {
     "data": {
      "text/plain": [
       "([0, 3, 4], 2, 1)"
      ]
     },
     "execution_count": 12,
     "metadata": {},
     "output_type": "execute_result"
    }
   ],
   "source": [
    "TRAIN_SPLIT_IDXS = [0,1,2,3,4]\n",
    "VAL_SPLIT_IDX = (TEST_SPLIT_IDX + 1) % 5\n",
    "TRAIN_SPLIT_IDXS.remove(TEST_SPLIT_IDX)\n",
    "TRAIN_SPLIT_IDXS.remove(VAL_SPLIT_IDX)\n",
    "TRAIN_SPLIT_IDXS, VAL_SPLIT_IDX, TEST_SPLIT_IDX"
   ]
  },
  {
   "cell_type": "code",
   "execution_count": 13,
   "id": "bd714acb",
   "metadata": {
    "execution": {
     "iopub.execute_input": "2025-06-13T13:02:02.532202Z",
     "iopub.status.busy": "2025-06-13T13:02:02.531912Z",
     "iopub.status.idle": "2025-06-13T13:02:02.534546Z",
     "shell.execute_reply": "2025-06-13T13:02:02.534236Z"
    },
    "papermill": {
     "duration": 0.011663,
     "end_time": "2025-06-13T13:02:02.535335",
     "exception": false,
     "start_time": "2025-06-13T13:02:02.523672",
     "status": "completed"
    },
    "tags": []
   },
   "outputs": [],
   "source": [
    "train_idxs = np.concatenate([left_out_splits[idx] for idx in TRAIN_SPLIT_IDXS])\n",
    "val_idxs = left_out_splits[VAL_SPLIT_IDX]\n",
    "test_idxs = left_out_splits[TEST_SPLIT_IDX]"
   ]
  },
  {
   "cell_type": "markdown",
   "id": "304b351f",
   "metadata": {
    "papermill": {
     "duration": 0.009555,
     "end_time": "2025-06-13T13:02:02.550250",
     "exception": false,
     "start_time": "2025-06-13T13:02:02.540695",
     "status": "completed"
    },
    "tags": []
   },
   "source": [
    "### SUBSET DATASET INTO TRAIN/TEST/VAL SPLITS"
   ]
  },
  {
   "cell_type": "code",
   "execution_count": 14,
   "id": "3c522a97",
   "metadata": {
    "execution": {
     "iopub.execute_input": "2025-06-13T13:02:02.562093Z",
     "iopub.status.busy": "2025-06-13T13:02:02.561920Z",
     "iopub.status.idle": "2025-06-13T13:02:02.814819Z",
     "shell.execute_reply": "2025-06-13T13:02:02.814456Z"
    },
    "papermill": {
     "duration": 0.259526,
     "end_time": "2025-06-13T13:02:02.815747",
     "exception": false,
     "start_time": "2025-06-13T13:02:02.556221",
     "status": "completed"
    },
    "tags": []
   },
   "outputs": [
    {
     "data": {
      "text/plain": [
       "((73010, 103), (26276, 103), (25600, 103))"
      ]
     },
     "execution_count": 14,
     "metadata": {},
     "output_type": "execute_result"
    }
   ],
   "source": [
    "X_train = train_adata.X[train_idxs]\n",
    "X_test = train_adata.X[test_idxs]\n",
    "X_val = train_adata.X[val_idxs]\n",
    "X_train.shape, X_test.shape, X_val.shape"
   ]
  },
  {
   "cell_type": "code",
   "execution_count": 15,
   "id": "20a1211c",
   "metadata": {
    "execution": {
     "iopub.execute_input": "2025-06-13T13:02:02.828366Z",
     "iopub.status.busy": "2025-06-13T13:02:02.828177Z",
     "iopub.status.idle": "2025-06-13T13:02:02.840566Z",
     "shell.execute_reply": "2025-06-13T13:02:02.840240Z"
    },
    "papermill": {
     "duration": 0.019673,
     "end_time": "2025-06-13T13:02:02.841405",
     "exception": false,
     "start_time": "2025-06-13T13:02:02.821732",
     "status": "completed"
    },
    "tags": []
   },
   "outputs": [
    {
     "data": {
      "text/plain": [
       "((73010,), (26276,), (25600,))"
      ]
     },
     "execution_count": 15,
     "metadata": {},
     "output_type": "execute_result"
    }
   ],
   "source": [
    "y_train = train_adata.obs.iloc[train_idxs].disease.values.astype(str)\n",
    "y_test = train_adata.obs.iloc[test_idxs].disease.values.astype(str)\n",
    "y_val = train_adata.obs.iloc[val_idxs].disease.values.astype(str)\n",
    "y_train.shape, y_test.shape, y_val.shape"
   ]
  },
  {
   "cell_type": "code",
   "execution_count": 16,
   "id": "dd88f915",
   "metadata": {
    "execution": {
     "iopub.execute_input": "2025-06-13T13:02:02.853461Z",
     "iopub.status.busy": "2025-06-13T13:02:02.853241Z",
     "iopub.status.idle": "2025-06-13T13:02:02.881101Z",
     "shell.execute_reply": "2025-06-13T13:02:02.880637Z"
    },
    "papermill": {
     "duration": 0.03467,
     "end_time": "2025-06-13T13:02:02.882001",
     "exception": false,
     "start_time": "2025-06-13T13:02:02.847331",
     "status": "completed"
    },
    "tags": []
   },
   "outputs": [],
   "source": [
    "lenc = LabelEncoder()\n",
    "y_train_enc = lenc.fit_transform(y_train)\n",
    "y_val_enc = lenc.transform(y_val)\n",
    "y_test_enc = lenc.transform(y_test)"
   ]
  },
  {
   "cell_type": "markdown",
   "id": "7eb95b32",
   "metadata": {
    "papermill": {
     "duration": 0.005543,
     "end_time": "2025-06-13T13:02:02.893335",
     "exception": false,
     "start_time": "2025-06-13T13:02:02.887792",
     "status": "completed"
    },
    "tags": []
   },
   "source": [
    "### GENERATE F1 "
   ]
  },
  {
   "cell_type": "code",
   "execution_count": 17,
   "id": "e45979a1",
   "metadata": {
    "execution": {
     "iopub.execute_input": "2025-06-13T13:02:02.904785Z",
     "iopub.status.busy": "2025-06-13T13:02:02.904490Z",
     "iopub.status.idle": "2025-06-13T13:02:02.907284Z",
     "shell.execute_reply": "2025-06-13T13:02:02.906997Z"
    },
    "papermill": {
     "duration": 0.00947,
     "end_time": "2025-06-13T13:02:02.908181",
     "exception": false,
     "start_time": "2025-06-13T13:02:02.898711",
     "status": "completed"
    },
    "tags": []
   },
   "outputs": [],
   "source": [
    "def custom_f1_score(y_true, y_pred):\n",
    "    return -f1_score(y_true, y_pred.argmax(1), average='weighted')"
   ]
  },
  {
   "cell_type": "code",
   "execution_count": 18,
   "id": "54ffad86",
   "metadata": {
    "execution": {
     "iopub.execute_input": "2025-06-13T13:02:02.920774Z",
     "iopub.status.busy": "2025-06-13T13:02:02.920411Z",
     "iopub.status.idle": "2025-06-13T13:02:02.924048Z",
     "shell.execute_reply": "2025-06-13T13:02:02.923754Z"
    },
    "papermill": {
     "duration": 0.010873,
     "end_time": "2025-06-13T13:02:02.924825",
     "exception": false,
     "start_time": "2025-06-13T13:02:02.913952",
     "status": "completed"
    },
    "tags": []
   },
   "outputs": [],
   "source": [
    "eval_metric=custom_f1_score\n",
    "eval_metric_name='custom_f1_score'\n",
    "\n",
    "def objective(trial):\n",
    "    params = {\n",
    "        'n_estimators': 1500,\n",
    "        'max_depth': trial.suggest_int('max_depth', 3, 20),\n",
    "        'min_child_weight': trial.suggest_int('min_child_weight', 1, 250),\n",
    "        'subsample': trial.suggest_float('subsample', 0.1, 1.0),\n",
    "        'colsample_bynode': trial.suggest_float('colsample_bynode', 0.1, 1.0),\n",
    "        'learning_rate': trial.suggest_float('learning_rate', 1e-3, 5e-1, log=True),\n",
    "    }\n",
    "    pruning_callback = optuna.integration.XGBoostPruningCallback(trial, f'validation_0-{eval_metric_name}')\n",
    "    es_callback = xgboost.callback.EarlyStopping(20, min_delta=0.001)\n",
    "    xgb = xgboost.XGBClassifier(\n",
    "        eval_metric=eval_metric,\n",
    "        callbacks=[pruning_callback, es_callback],\n",
    "        n_jobs=5,\n",
    "        **params\n",
    "    )\n",
    "    xgb.fit(\n",
    "        X_train, \n",
    "        y_train_enc, \n",
    "        verbose=0,\n",
    "        eval_set=[(X_val, y_val_enc)],\n",
    "    )\n",
    "    trial.set_user_attr('best_iteration', xgb.best_iteration)\n",
    "\n",
    "    return xgb.best_score"
   ]
  },
  {
   "cell_type": "code",
   "execution_count": 19,
   "id": "626f0128",
   "metadata": {
    "execution": {
     "iopub.execute_input": "2025-06-13T13:02:02.939740Z",
     "iopub.status.busy": "2025-06-13T13:02:02.939506Z",
     "iopub.status.idle": "2025-06-13T13:13:42.911151Z",
     "shell.execute_reply": "2025-06-13T13:13:42.910638Z"
    },
    "papermill": {
     "duration": 699.978251,
     "end_time": "2025-06-13T13:13:42.912130",
     "exception": false,
     "start_time": "2025-06-13T13:02:02.933879",
     "status": "completed"
    },
    "scrolled": true,
    "tags": []
   },
   "outputs": [
    {
     "name": "stderr",
     "output_type": "stream",
     "text": [
      "[I 2025-06-13 15:02:02,941] A new study created in memory with name: no-name-f494e3f2-44bc-4db4-930e-041428cf50cd\n"
     ]
    },
    {
     "name": "stderr",
     "output_type": "stream",
     "text": [
      "[I 2025-06-13 15:02:13,306] Trial 0 finished with value: -0.669257 and parameters: {'max_depth': 9, 'min_child_weight': 238, 'subsample': 0.7587945476302645, 'colsample_bynode': 0.6387926357773329, 'learning_rate': 0.0026368755339723046}. Best is trial 0 with value: -0.669257.\n"
     ]
    },
    {
     "name": "stderr",
     "output_type": "stream",
     "text": [
      "[I 2025-06-13 15:03:03,065] Trial 1 finished with value: -0.79311 and parameters: {'max_depth': 5, 'min_child_weight': 15, 'subsample': 0.8795585311974417, 'colsample_bynode': 0.6410035105688879, 'learning_rate': 0.08148293210105287}. Best is trial 1 with value: -0.79311.\n"
     ]
    },
    {
     "name": "stderr",
     "output_type": "stream",
     "text": [
      "[I 2025-06-13 15:03:14,427] Trial 2 finished with value: -0.61905 and parameters: {'max_depth': 3, 'min_child_weight': 243, 'subsample': 0.8491983767203796, 'colsample_bynode': 0.29110519961044856, 'learning_rate': 0.003095566460242371}. Best is trial 1 with value: -0.79311.\n"
     ]
    },
    {
     "name": "stderr",
     "output_type": "stream",
     "text": [
      "[I 2025-06-13 15:03:19,872] Trial 3 finished with value: -0.698361 and parameters: {'max_depth': 6, 'min_child_weight': 77, 'subsample': 0.5722807884690141, 'colsample_bynode': 0.48875051677790415, 'learning_rate': 0.006109683510122491}. Best is trial 1 with value: -0.79311.\n"
     ]
    },
    {
     "name": "stderr",
     "output_type": "stream",
     "text": [
      "[I 2025-06-13 15:05:09,352] Trial 4 finished with value: -0.786606 and parameters: {'max_depth': 14, 'min_child_weight': 35, 'subsample': 0.3629301836816964, 'colsample_bynode': 0.4297256589643226, 'learning_rate': 0.01701841881702917}. Best is trial 1 with value: -0.79311.\n"
     ]
    },
    {
     "name": "stderr",
     "output_type": "stream",
     "text": [
      "[I 2025-06-13 15:05:21,683] Trial 5 pruned. Trial was pruned at iteration 44.\n"
     ]
    },
    {
     "name": "stderr",
     "output_type": "stream",
     "text": [
      "[I 2025-06-13 15:05:22,160] Trial 6 pruned. Trial was pruned at iteration 0.\n"
     ]
    },
    {
     "name": "stderr",
     "output_type": "stream",
     "text": [
      "[I 2025-06-13 15:05:22,618] Trial 7 pruned. Trial was pruned at iteration 0.\n"
     ]
    },
    {
     "name": "stderr",
     "output_type": "stream",
     "text": [
      "[I 2025-06-13 15:05:23,061] Trial 8 pruned. Trial was pruned at iteration 0.\n"
     ]
    },
    {
     "name": "stderr",
     "output_type": "stream",
     "text": [
      "[I 2025-06-13 15:05:25,032] Trial 9 pruned. Trial was pruned at iteration 6.\n"
     ]
    },
    {
     "name": "stderr",
     "output_type": "stream",
     "text": [
      "[I 2025-06-13 15:06:02,803] Trial 10 finished with value: -0.790879 and parameters: {'max_depth': 9, 'min_child_weight': 2, 'subsample': 0.9725833997090791, 'colsample_bynode': 0.11616568805333755, 'learning_rate': 0.17780618353487967}. Best is trial 1 with value: -0.79311.\n"
     ]
    },
    {
     "name": "stderr",
     "output_type": "stream",
     "text": [
      "[I 2025-06-13 15:06:43,327] Trial 11 finished with value: -0.792647 and parameters: {'max_depth': 9, 'min_child_weight': 4, 'subsample': 0.9818290990185045, 'colsample_bynode': 0.17702656156719, 'learning_rate': 0.11568531411766632}. Best is trial 1 with value: -0.79311.\n"
     ]
    },
    {
     "name": "stderr",
     "output_type": "stream",
     "text": [
      "[I 2025-06-13 15:07:13,974] Trial 12 pruned. Trial was pruned at iteration 101.\n"
     ]
    },
    {
     "name": "stderr",
     "output_type": "stream",
     "text": [
      "[I 2025-06-13 15:07:14,456] Trial 13 pruned. Trial was pruned at iteration 0.\n"
     ]
    },
    {
     "name": "stderr",
     "output_type": "stream",
     "text": [
      "[I 2025-06-13 15:07:14,947] Trial 14 pruned. Trial was pruned at iteration 0.\n"
     ]
    },
    {
     "name": "stderr",
     "output_type": "stream",
     "text": [
      "[I 2025-06-13 15:08:14,433] Trial 15 finished with value: -0.793634 and parameters: {'max_depth': 20, 'min_child_weight': 1, 'subsample': 0.7012908959710442, 'colsample_bynode': 0.2540835086298475, 'learning_rate': 0.2833114876720916}. Best is trial 15 with value: -0.793634.\n"
     ]
    },
    {
     "name": "stderr",
     "output_type": "stream",
     "text": [
      "[I 2025-06-13 15:08:14,943] Trial 16 pruned. Trial was pruned at iteration 0.\n"
     ]
    },
    {
     "name": "stderr",
     "output_type": "stream",
     "text": [
      "[I 2025-06-13 15:08:15,422] Trial 17 pruned. Trial was pruned at iteration 0.\n"
     ]
    },
    {
     "name": "stderr",
     "output_type": "stream",
     "text": [
      "[I 2025-06-13 15:08:45,501] Trial 18 finished with value: -0.800942 and parameters: {'max_depth': 17, 'min_child_weight': 37, 'subsample': 0.6985649591979675, 'colsample_bynode': 0.4599826294453433, 'learning_rate': 0.23729000655414553}. Best is trial 18 with value: -0.800942.\n"
     ]
    },
    {
     "name": "stderr",
     "output_type": "stream",
     "text": [
      "[I 2025-06-13 15:08:46,074] Trial 19 pruned. Trial was pruned at iteration 0.\n"
     ]
    },
    {
     "name": "stderr",
     "output_type": "stream",
     "text": [
      "[I 2025-06-13 15:08:46,643] Trial 20 pruned. Trial was pruned at iteration 0.\n"
     ]
    },
    {
     "name": "stderr",
     "output_type": "stream",
     "text": [
      "[I 2025-06-13 15:09:33,098] Trial 21 finished with value: -0.800258 and parameters: {'max_depth': 19, 'min_child_weight': 23, 'subsample': 0.6883148261714448, 'colsample_bynode': 0.5016077564681464, 'learning_rate': 0.139136639010718}. Best is trial 18 with value: -0.800942.\n"
     ]
    },
    {
     "name": "stderr",
     "output_type": "stream",
     "text": [
      "[I 2025-06-13 15:09:33,645] Trial 22 pruned. Trial was pruned at iteration 0.\n"
     ]
    },
    {
     "name": "stderr",
     "output_type": "stream",
     "text": [
      "[I 2025-06-13 15:09:55,666] Trial 23 finished with value: -0.797915 and parameters: {'max_depth': 15, 'min_child_weight': 25, 'subsample': 0.7359867500655838, 'colsample_bynode': 0.5224628181045523, 'learning_rate': 0.3421431768970184}. Best is trial 18 with value: -0.800942.\n"
     ]
    },
    {
     "name": "stderr",
     "output_type": "stream",
     "text": [
      "[I 2025-06-13 15:09:56,228] Trial 24 pruned. Trial was pruned at iteration 0.\n"
     ]
    },
    {
     "name": "stderr",
     "output_type": "stream",
     "text": [
      "[I 2025-06-13 15:10:36,015] Trial 25 finished with value: -0.800606 and parameters: {'max_depth': 16, 'min_child_weight': 25, 'subsample': 0.6323659038961531, 'colsample_bynode': 0.5534982005470416, 'learning_rate': 0.1296477211645195}. Best is trial 18 with value: -0.800942.\n"
     ]
    },
    {
     "name": "stderr",
     "output_type": "stream",
     "text": [
      "[I 2025-06-13 15:10:36,522] Trial 26 pruned. Trial was pruned at iteration 0.\n"
     ]
    },
    {
     "name": "stderr",
     "output_type": "stream",
     "text": [
      "[I 2025-06-13 15:10:37,021] Trial 27 pruned. Trial was pruned at iteration 0.\n"
     ]
    },
    {
     "name": "stderr",
     "output_type": "stream",
     "text": [
      "[I 2025-06-13 15:10:37,568] Trial 28 pruned. Trial was pruned at iteration 0.\n"
     ]
    },
    {
     "name": "stderr",
     "output_type": "stream",
     "text": [
      "[I 2025-06-13 15:10:38,060] Trial 29 pruned. Trial was pruned at iteration 0.\n"
     ]
    },
    {
     "name": "stderr",
     "output_type": "stream",
     "text": [
      "[I 2025-06-13 15:10:47,493] Trial 30 pruned. Trial was pruned at iteration 27.\n"
     ]
    },
    {
     "name": "stderr",
     "output_type": "stream",
     "text": [
      "[I 2025-06-13 15:11:08,164] Trial 31 finished with value: -0.80021 and parameters: {'max_depth': 15, 'min_child_weight': 23, 'subsample': 0.7717926689951559, 'colsample_bynode': 0.4923474711857587, 'learning_rate': 0.33520941417627514}. Best is trial 18 with value: -0.800942.\n"
     ]
    },
    {
     "name": "stderr",
     "output_type": "stream",
     "text": [
      "[I 2025-06-13 15:11:33,374] Trial 32 finished with value: -0.796149 and parameters: {'max_depth': 16, 'min_child_weight': 19, 'subsample': 0.7248677094044127, 'colsample_bynode': 0.4596109773563787, 'learning_rate': 0.23203170506064255}. Best is trial 18 with value: -0.800942.\n"
     ]
    },
    {
     "name": "stderr",
     "output_type": "stream",
     "text": [
      "[I 2025-06-13 15:11:52,167] Trial 33 finished with value: -0.794578 and parameters: {'max_depth': 16, 'min_child_weight': 18, 'subsample': 0.822033179371497, 'colsample_bynode': 0.3627460721678919, 'learning_rate': 0.4894291769637127}. Best is trial 18 with value: -0.800942.\n"
     ]
    },
    {
     "name": "stderr",
     "output_type": "stream",
     "text": [
      "[I 2025-06-13 15:11:52,763] Trial 34 pruned. Trial was pruned at iteration 0.\n"
     ]
    },
    {
     "name": "stderr",
     "output_type": "stream",
     "text": [
      "[I 2025-06-13 15:11:53,347] Trial 35 pruned. Trial was pruned at iteration 0.\n"
     ]
    },
    {
     "name": "stderr",
     "output_type": "stream",
     "text": [
      "[I 2025-06-13 15:11:53,891] Trial 36 pruned. Trial was pruned at iteration 0.\n"
     ]
    },
    {
     "name": "stderr",
     "output_type": "stream",
     "text": [
      "[I 2025-06-13 15:11:54,472] Trial 37 pruned. Trial was pruned at iteration 0.\n"
     ]
    },
    {
     "name": "stderr",
     "output_type": "stream",
     "text": [
      "[I 2025-06-13 15:12:16,217] Trial 38 pruned. Trial was pruned at iteration 63.\n"
     ]
    },
    {
     "name": "stderr",
     "output_type": "stream",
     "text": [
      "[I 2025-06-13 15:12:17,181] Trial 39 pruned. Trial was pruned at iteration 1.\n"
     ]
    },
    {
     "name": "stderr",
     "output_type": "stream",
     "text": [
      "[I 2025-06-13 15:12:17,672] Trial 40 pruned. Trial was pruned at iteration 0.\n"
     ]
    },
    {
     "name": "stderr",
     "output_type": "stream",
     "text": [
      "[I 2025-06-13 15:12:39,119] Trial 41 finished with value: -0.800029 and parameters: {'max_depth': 15, 'min_child_weight': 26, 'subsample': 0.7233722876431408, 'colsample_bynode': 0.5514559926298236, 'learning_rate': 0.3744002117638721}. Best is trial 18 with value: -0.800942.\n"
     ]
    },
    {
     "name": "stderr",
     "output_type": "stream",
     "text": [
      "[I 2025-06-13 15:12:39,926] Trial 42 pruned. Trial was pruned at iteration 1.\n"
     ]
    },
    {
     "name": "stderr",
     "output_type": "stream",
     "text": [
      "[I 2025-06-13 15:12:40,756] Trial 43 pruned. Trial was pruned at iteration 1.\n"
     ]
    },
    {
     "name": "stderr",
     "output_type": "stream",
     "text": [
      "[I 2025-06-13 15:12:42,002] Trial 44 pruned. Trial was pruned at iteration 2.\n"
     ]
    },
    {
     "name": "stderr",
     "output_type": "stream",
     "text": [
      "[I 2025-06-13 15:13:16,702] Trial 45 finished with value: -0.797089 and parameters: {'max_depth': 15, 'min_child_weight': 11, 'subsample': 0.7643994792698228, 'colsample_bynode': 0.5243605042928747, 'learning_rate': 0.23164261241044873}. Best is trial 18 with value: -0.800942.\n"
     ]
    },
    {
     "name": "stderr",
     "output_type": "stream",
     "text": [
      "[I 2025-06-13 15:13:17,266] Trial 46 pruned. Trial was pruned at iteration 0.\n"
     ]
    },
    {
     "name": "stderr",
     "output_type": "stream",
     "text": [
      "[I 2025-06-13 15:13:41,790] Trial 47 finished with value: -0.796976 and parameters: {'max_depth': 19, 'min_child_weight': 25, 'subsample': 0.6022065809173105, 'colsample_bynode': 0.8607199130156584, 'learning_rate': 0.39044005781184404}. Best is trial 18 with value: -0.800942.\n"
     ]
    },
    {
     "name": "stderr",
     "output_type": "stream",
     "text": [
      "[I 2025-06-13 15:13:42,289] Trial 48 pruned. Trial was pruned at iteration 0.\n"
     ]
    },
    {
     "name": "stderr",
     "output_type": "stream",
     "text": [
      "[I 2025-06-13 15:13:42,833] Trial 49 pruned. Trial was pruned at iteration 0.\n"
     ]
    }
   ],
   "source": [
    "sampler = optuna.samplers.TPESampler(seed=42)\n",
    "study = optuna.create_study(direction='minimize', sampler=sampler)\n",
    "study.optimize(objective, n_trials=N_TRIALS, gc_after_trial=True)"
   ]
  },
  {
   "cell_type": "code",
   "execution_count": 20,
   "id": "8f8f7454",
   "metadata": {
    "execution": {
     "iopub.execute_input": "2025-06-13T13:13:42.931925Z",
     "iopub.status.busy": "2025-06-13T13:13:42.931655Z",
     "iopub.status.idle": "2025-06-13T13:13:42.956328Z",
     "shell.execute_reply": "2025-06-13T13:13:42.955947Z"
    },
    "papermill": {
     "duration": 0.03392,
     "end_time": "2025-06-13T13:13:42.957257",
     "exception": false,
     "start_time": "2025-06-13T13:13:42.923337",
     "status": "completed"
    },
    "tags": []
   },
   "outputs": [
    {
     "data": {
      "text/plain": [
       "['/scratch_isilon/groups/singlecell/shared/projects/Inflammation-PBMCs-Atlas/03_downstream_analysis/08_gene_importance/xgboost_external_validation/xgboost_TopN_genes/results_20/study/T_CD4_NonNaive_shap_disease_NOstudy_samesize_1_xgboost.pkl']"
      ]
     },
     "execution_count": 20,
     "metadata": {},
     "output_type": "execute_result"
    }
   ],
   "source": [
    "out_dir = here(f'03_downstream_analysis/08_gene_importance/xgboost_external_validation/xgboost_TopN_genes/results_{N_GENES}/study')\n",
    "\n",
    "if not os.path.exists(out_dir):\n",
    "    os.makedirs(out_dir)\n",
    "    \n",
    "joblib.dump(study,os.path.join(out_dir, f'{CELL_TYPE}_{SEED}_{TEST_SPLIT_IDX}_xgboost.pkl'))"
   ]
  },
  {
   "cell_type": "code",
   "execution_count": 21,
   "id": "da24a0c5",
   "metadata": {
    "execution": {
     "iopub.execute_input": "2025-06-13T13:13:42.973879Z",
     "iopub.status.busy": "2025-06-13T13:13:42.973543Z",
     "iopub.status.idle": "2025-06-13T13:13:56.110446Z",
     "shell.execute_reply": "2025-06-13T13:13:56.110051Z"
    },
    "papermill": {
     "duration": 13.146289,
     "end_time": "2025-06-13T13:13:56.111554",
     "exception": false,
     "start_time": "2025-06-13T13:13:42.965265",
     "status": "completed"
    },
    "tags": []
   },
   "outputs": [
    {
     "data": {
      "text/html": [
       "<style>#sk-container-id-1 {\n",
       "  /* Definition of color scheme common for light and dark mode */\n",
       "  --sklearn-color-text: black;\n",
       "  --sklearn-color-line: gray;\n",
       "  /* Definition of color scheme for unfitted estimators */\n",
       "  --sklearn-color-unfitted-level-0: #fff5e6;\n",
       "  --sklearn-color-unfitted-level-1: #f6e4d2;\n",
       "  --sklearn-color-unfitted-level-2: #ffe0b3;\n",
       "  --sklearn-color-unfitted-level-3: chocolate;\n",
       "  /* Definition of color scheme for fitted estimators */\n",
       "  --sklearn-color-fitted-level-0: #f0f8ff;\n",
       "  --sklearn-color-fitted-level-1: #d4ebff;\n",
       "  --sklearn-color-fitted-level-2: #b3dbfd;\n",
       "  --sklearn-color-fitted-level-3: cornflowerblue;\n",
       "\n",
       "  /* Specific color for light theme */\n",
       "  --sklearn-color-text-on-default-background: var(--sg-text-color, var(--theme-code-foreground, var(--jp-content-font-color1, black)));\n",
       "  --sklearn-color-background: var(--sg-background-color, var(--theme-background, var(--jp-layout-color0, white)));\n",
       "  --sklearn-color-border-box: var(--sg-text-color, var(--theme-code-foreground, var(--jp-content-font-color1, black)));\n",
       "  --sklearn-color-icon: #696969;\n",
       "\n",
       "  @media (prefers-color-scheme: dark) {\n",
       "    /* Redefinition of color scheme for dark theme */\n",
       "    --sklearn-color-text-on-default-background: var(--sg-text-color, var(--theme-code-foreground, var(--jp-content-font-color1, white)));\n",
       "    --sklearn-color-background: var(--sg-background-color, var(--theme-background, var(--jp-layout-color0, #111)));\n",
       "    --sklearn-color-border-box: var(--sg-text-color, var(--theme-code-foreground, var(--jp-content-font-color1, white)));\n",
       "    --sklearn-color-icon: #878787;\n",
       "  }\n",
       "}\n",
       "\n",
       "#sk-container-id-1 {\n",
       "  color: var(--sklearn-color-text);\n",
       "}\n",
       "\n",
       "#sk-container-id-1 pre {\n",
       "  padding: 0;\n",
       "}\n",
       "\n",
       "#sk-container-id-1 input.sk-hidden--visually {\n",
       "  border: 0;\n",
       "  clip: rect(1px 1px 1px 1px);\n",
       "  clip: rect(1px, 1px, 1px, 1px);\n",
       "  height: 1px;\n",
       "  margin: -1px;\n",
       "  overflow: hidden;\n",
       "  padding: 0;\n",
       "  position: absolute;\n",
       "  width: 1px;\n",
       "}\n",
       "\n",
       "#sk-container-id-1 div.sk-dashed-wrapped {\n",
       "  border: 1px dashed var(--sklearn-color-line);\n",
       "  margin: 0 0.4em 0.5em 0.4em;\n",
       "  box-sizing: border-box;\n",
       "  padding-bottom: 0.4em;\n",
       "  background-color: var(--sklearn-color-background);\n",
       "}\n",
       "\n",
       "#sk-container-id-1 div.sk-container {\n",
       "  /* jupyter's `normalize.less` sets `[hidden] { display: none; }`\n",
       "     but bootstrap.min.css set `[hidden] { display: none !important; }`\n",
       "     so we also need the `!important` here to be able to override the\n",
       "     default hidden behavior on the sphinx rendered scikit-learn.org.\n",
       "     See: https://github.com/scikit-learn/scikit-learn/issues/21755 */\n",
       "  display: inline-block !important;\n",
       "  position: relative;\n",
       "}\n",
       "\n",
       "#sk-container-id-1 div.sk-text-repr-fallback {\n",
       "  display: none;\n",
       "}\n",
       "\n",
       "div.sk-parallel-item,\n",
       "div.sk-serial,\n",
       "div.sk-item {\n",
       "  /* draw centered vertical line to link estimators */\n",
       "  background-image: linear-gradient(var(--sklearn-color-text-on-default-background), var(--sklearn-color-text-on-default-background));\n",
       "  background-size: 2px 100%;\n",
       "  background-repeat: no-repeat;\n",
       "  background-position: center center;\n",
       "}\n",
       "\n",
       "/* Parallel-specific style estimator block */\n",
       "\n",
       "#sk-container-id-1 div.sk-parallel-item::after {\n",
       "  content: \"\";\n",
       "  width: 100%;\n",
       "  border-bottom: 2px solid var(--sklearn-color-text-on-default-background);\n",
       "  flex-grow: 1;\n",
       "}\n",
       "\n",
       "#sk-container-id-1 div.sk-parallel {\n",
       "  display: flex;\n",
       "  align-items: stretch;\n",
       "  justify-content: center;\n",
       "  background-color: var(--sklearn-color-background);\n",
       "  position: relative;\n",
       "}\n",
       "\n",
       "#sk-container-id-1 div.sk-parallel-item {\n",
       "  display: flex;\n",
       "  flex-direction: column;\n",
       "}\n",
       "\n",
       "#sk-container-id-1 div.sk-parallel-item:first-child::after {\n",
       "  align-self: flex-end;\n",
       "  width: 50%;\n",
       "}\n",
       "\n",
       "#sk-container-id-1 div.sk-parallel-item:last-child::after {\n",
       "  align-self: flex-start;\n",
       "  width: 50%;\n",
       "}\n",
       "\n",
       "#sk-container-id-1 div.sk-parallel-item:only-child::after {\n",
       "  width: 0;\n",
       "}\n",
       "\n",
       "/* Serial-specific style estimator block */\n",
       "\n",
       "#sk-container-id-1 div.sk-serial {\n",
       "  display: flex;\n",
       "  flex-direction: column;\n",
       "  align-items: center;\n",
       "  background-color: var(--sklearn-color-background);\n",
       "  padding-right: 1em;\n",
       "  padding-left: 1em;\n",
       "}\n",
       "\n",
       "\n",
       "/* Toggleable style: style used for estimator/Pipeline/ColumnTransformer box that is\n",
       "clickable and can be expanded/collapsed.\n",
       "- Pipeline and ColumnTransformer use this feature and define the default style\n",
       "- Estimators will overwrite some part of the style using the `sk-estimator` class\n",
       "*/\n",
       "\n",
       "/* Pipeline and ColumnTransformer style (default) */\n",
       "\n",
       "#sk-container-id-1 div.sk-toggleable {\n",
       "  /* Default theme specific background. It is overwritten whether we have a\n",
       "  specific estimator or a Pipeline/ColumnTransformer */\n",
       "  background-color: var(--sklearn-color-background);\n",
       "}\n",
       "\n",
       "/* Toggleable label */\n",
       "#sk-container-id-1 label.sk-toggleable__label {\n",
       "  cursor: pointer;\n",
       "  display: block;\n",
       "  width: 100%;\n",
       "  margin-bottom: 0;\n",
       "  padding: 0.5em;\n",
       "  box-sizing: border-box;\n",
       "  text-align: center;\n",
       "}\n",
       "\n",
       "#sk-container-id-1 label.sk-toggleable__label-arrow:before {\n",
       "  /* Arrow on the left of the label */\n",
       "  content: \"▸\";\n",
       "  float: left;\n",
       "  margin-right: 0.25em;\n",
       "  color: var(--sklearn-color-icon);\n",
       "}\n",
       "\n",
       "#sk-container-id-1 label.sk-toggleable__label-arrow:hover:before {\n",
       "  color: var(--sklearn-color-text);\n",
       "}\n",
       "\n",
       "/* Toggleable content - dropdown */\n",
       "\n",
       "#sk-container-id-1 div.sk-toggleable__content {\n",
       "  max-height: 0;\n",
       "  max-width: 0;\n",
       "  overflow: hidden;\n",
       "  text-align: left;\n",
       "  /* unfitted */\n",
       "  background-color: var(--sklearn-color-unfitted-level-0);\n",
       "}\n",
       "\n",
       "#sk-container-id-1 div.sk-toggleable__content.fitted {\n",
       "  /* fitted */\n",
       "  background-color: var(--sklearn-color-fitted-level-0);\n",
       "}\n",
       "\n",
       "#sk-container-id-1 div.sk-toggleable__content pre {\n",
       "  margin: 0.2em;\n",
       "  border-radius: 0.25em;\n",
       "  color: var(--sklearn-color-text);\n",
       "  /* unfitted */\n",
       "  background-color: var(--sklearn-color-unfitted-level-0);\n",
       "}\n",
       "\n",
       "#sk-container-id-1 div.sk-toggleable__content.fitted pre {\n",
       "  /* unfitted */\n",
       "  background-color: var(--sklearn-color-fitted-level-0);\n",
       "}\n",
       "\n",
       "#sk-container-id-1 input.sk-toggleable__control:checked~div.sk-toggleable__content {\n",
       "  /* Expand drop-down */\n",
       "  max-height: 200px;\n",
       "  max-width: 100%;\n",
       "  overflow: auto;\n",
       "}\n",
       "\n",
       "#sk-container-id-1 input.sk-toggleable__control:checked~label.sk-toggleable__label-arrow:before {\n",
       "  content: \"▾\";\n",
       "}\n",
       "\n",
       "/* Pipeline/ColumnTransformer-specific style */\n",
       "\n",
       "#sk-container-id-1 div.sk-label input.sk-toggleable__control:checked~label.sk-toggleable__label {\n",
       "  color: var(--sklearn-color-text);\n",
       "  background-color: var(--sklearn-color-unfitted-level-2);\n",
       "}\n",
       "\n",
       "#sk-container-id-1 div.sk-label.fitted input.sk-toggleable__control:checked~label.sk-toggleable__label {\n",
       "  background-color: var(--sklearn-color-fitted-level-2);\n",
       "}\n",
       "\n",
       "/* Estimator-specific style */\n",
       "\n",
       "/* Colorize estimator box */\n",
       "#sk-container-id-1 div.sk-estimator input.sk-toggleable__control:checked~label.sk-toggleable__label {\n",
       "  /* unfitted */\n",
       "  background-color: var(--sklearn-color-unfitted-level-2);\n",
       "}\n",
       "\n",
       "#sk-container-id-1 div.sk-estimator.fitted input.sk-toggleable__control:checked~label.sk-toggleable__label {\n",
       "  /* fitted */\n",
       "  background-color: var(--sklearn-color-fitted-level-2);\n",
       "}\n",
       "\n",
       "#sk-container-id-1 div.sk-label label.sk-toggleable__label,\n",
       "#sk-container-id-1 div.sk-label label {\n",
       "  /* The background is the default theme color */\n",
       "  color: var(--sklearn-color-text-on-default-background);\n",
       "}\n",
       "\n",
       "/* On hover, darken the color of the background */\n",
       "#sk-container-id-1 div.sk-label:hover label.sk-toggleable__label {\n",
       "  color: var(--sklearn-color-text);\n",
       "  background-color: var(--sklearn-color-unfitted-level-2);\n",
       "}\n",
       "\n",
       "/* Label box, darken color on hover, fitted */\n",
       "#sk-container-id-1 div.sk-label.fitted:hover label.sk-toggleable__label.fitted {\n",
       "  color: var(--sklearn-color-text);\n",
       "  background-color: var(--sklearn-color-fitted-level-2);\n",
       "}\n",
       "\n",
       "/* Estimator label */\n",
       "\n",
       "#sk-container-id-1 div.sk-label label {\n",
       "  font-family: monospace;\n",
       "  font-weight: bold;\n",
       "  display: inline-block;\n",
       "  line-height: 1.2em;\n",
       "}\n",
       "\n",
       "#sk-container-id-1 div.sk-label-container {\n",
       "  text-align: center;\n",
       "}\n",
       "\n",
       "/* Estimator-specific */\n",
       "#sk-container-id-1 div.sk-estimator {\n",
       "  font-family: monospace;\n",
       "  border: 1px dotted var(--sklearn-color-border-box);\n",
       "  border-radius: 0.25em;\n",
       "  box-sizing: border-box;\n",
       "  margin-bottom: 0.5em;\n",
       "  /* unfitted */\n",
       "  background-color: var(--sklearn-color-unfitted-level-0);\n",
       "}\n",
       "\n",
       "#sk-container-id-1 div.sk-estimator.fitted {\n",
       "  /* fitted */\n",
       "  background-color: var(--sklearn-color-fitted-level-0);\n",
       "}\n",
       "\n",
       "/* on hover */\n",
       "#sk-container-id-1 div.sk-estimator:hover {\n",
       "  /* unfitted */\n",
       "  background-color: var(--sklearn-color-unfitted-level-2);\n",
       "}\n",
       "\n",
       "#sk-container-id-1 div.sk-estimator.fitted:hover {\n",
       "  /* fitted */\n",
       "  background-color: var(--sklearn-color-fitted-level-2);\n",
       "}\n",
       "\n",
       "/* Specification for estimator info (e.g. \"i\" and \"?\") */\n",
       "\n",
       "/* Common style for \"i\" and \"?\" */\n",
       "\n",
       ".sk-estimator-doc-link,\n",
       "a:link.sk-estimator-doc-link,\n",
       "a:visited.sk-estimator-doc-link {\n",
       "  float: right;\n",
       "  font-size: smaller;\n",
       "  line-height: 1em;\n",
       "  font-family: monospace;\n",
       "  background-color: var(--sklearn-color-background);\n",
       "  border-radius: 1em;\n",
       "  height: 1em;\n",
       "  width: 1em;\n",
       "  text-decoration: none !important;\n",
       "  margin-left: 1ex;\n",
       "  /* unfitted */\n",
       "  border: var(--sklearn-color-unfitted-level-1) 1pt solid;\n",
       "  color: var(--sklearn-color-unfitted-level-1);\n",
       "}\n",
       "\n",
       ".sk-estimator-doc-link.fitted,\n",
       "a:link.sk-estimator-doc-link.fitted,\n",
       "a:visited.sk-estimator-doc-link.fitted {\n",
       "  /* fitted */\n",
       "  border: var(--sklearn-color-fitted-level-1) 1pt solid;\n",
       "  color: var(--sklearn-color-fitted-level-1);\n",
       "}\n",
       "\n",
       "/* On hover */\n",
       "div.sk-estimator:hover .sk-estimator-doc-link:hover,\n",
       ".sk-estimator-doc-link:hover,\n",
       "div.sk-label-container:hover .sk-estimator-doc-link:hover,\n",
       ".sk-estimator-doc-link:hover {\n",
       "  /* unfitted */\n",
       "  background-color: var(--sklearn-color-unfitted-level-3);\n",
       "  color: var(--sklearn-color-background);\n",
       "  text-decoration: none;\n",
       "}\n",
       "\n",
       "div.sk-estimator.fitted:hover .sk-estimator-doc-link.fitted:hover,\n",
       ".sk-estimator-doc-link.fitted:hover,\n",
       "div.sk-label-container:hover .sk-estimator-doc-link.fitted:hover,\n",
       ".sk-estimator-doc-link.fitted:hover {\n",
       "  /* fitted */\n",
       "  background-color: var(--sklearn-color-fitted-level-3);\n",
       "  color: var(--sklearn-color-background);\n",
       "  text-decoration: none;\n",
       "}\n",
       "\n",
       "/* Span, style for the box shown on hovering the info icon */\n",
       ".sk-estimator-doc-link span {\n",
       "  display: none;\n",
       "  z-index: 9999;\n",
       "  position: relative;\n",
       "  font-weight: normal;\n",
       "  right: .2ex;\n",
       "  padding: .5ex;\n",
       "  margin: .5ex;\n",
       "  width: min-content;\n",
       "  min-width: 20ex;\n",
       "  max-width: 50ex;\n",
       "  color: var(--sklearn-color-text);\n",
       "  box-shadow: 2pt 2pt 4pt #999;\n",
       "  /* unfitted */\n",
       "  background: var(--sklearn-color-unfitted-level-0);\n",
       "  border: .5pt solid var(--sklearn-color-unfitted-level-3);\n",
       "}\n",
       "\n",
       ".sk-estimator-doc-link.fitted span {\n",
       "  /* fitted */\n",
       "  background: var(--sklearn-color-fitted-level-0);\n",
       "  border: var(--sklearn-color-fitted-level-3);\n",
       "}\n",
       "\n",
       ".sk-estimator-doc-link:hover span {\n",
       "  display: block;\n",
       "}\n",
       "\n",
       "/* \"?\"-specific style due to the `<a>` HTML tag */\n",
       "\n",
       "#sk-container-id-1 a.estimator_doc_link {\n",
       "  float: right;\n",
       "  font-size: 1rem;\n",
       "  line-height: 1em;\n",
       "  font-family: monospace;\n",
       "  background-color: var(--sklearn-color-background);\n",
       "  border-radius: 1rem;\n",
       "  height: 1rem;\n",
       "  width: 1rem;\n",
       "  text-decoration: none;\n",
       "  /* unfitted */\n",
       "  color: var(--sklearn-color-unfitted-level-1);\n",
       "  border: var(--sklearn-color-unfitted-level-1) 1pt solid;\n",
       "}\n",
       "\n",
       "#sk-container-id-1 a.estimator_doc_link.fitted {\n",
       "  /* fitted */\n",
       "  border: var(--sklearn-color-fitted-level-1) 1pt solid;\n",
       "  color: var(--sklearn-color-fitted-level-1);\n",
       "}\n",
       "\n",
       "/* On hover */\n",
       "#sk-container-id-1 a.estimator_doc_link:hover {\n",
       "  /* unfitted */\n",
       "  background-color: var(--sklearn-color-unfitted-level-3);\n",
       "  color: var(--sklearn-color-background);\n",
       "  text-decoration: none;\n",
       "}\n",
       "\n",
       "#sk-container-id-1 a.estimator_doc_link.fitted:hover {\n",
       "  /* fitted */\n",
       "  background-color: var(--sklearn-color-fitted-level-3);\n",
       "}\n",
       "</style><div id=\"sk-container-id-1\" class=\"sk-top-container\"><div class=\"sk-text-repr-fallback\"><pre>XGBClassifier(base_score=None, booster=None, callbacks=None,\n",
       "              colsample_bylevel=None, colsample_bynode=0.4599826294453433,\n",
       "              colsample_bytree=None, device=None, early_stopping_rounds=None,\n",
       "              enable_categorical=False,\n",
       "              eval_metric=&lt;function custom_f1_score at 0x7f62b80905e0&gt;,\n",
       "              feature_types=None, gamma=None, grow_policy=None,\n",
       "              importance_type=None, interaction_constraints=None,\n",
       "              learning_rate=0.23729000655414553, max_bin=None,\n",
       "              max_cat_threshold=None, max_cat_to_onehot=None,\n",
       "              max_delta_step=None, max_depth=17, max_leaves=None,\n",
       "              min_child_weight=37, missing=nan, monotone_constraints=None,\n",
       "              multi_strategy=None, n_estimators=108, n_jobs=None,\n",
       "              num_parallel_tree=None, objective=&#x27;multi:softprob&#x27;, ...)</pre><b>In a Jupyter environment, please rerun this cell to show the HTML representation or trust the notebook. <br />On GitHub, the HTML representation is unable to render, please try loading this page with nbviewer.org.</b></div><div class=\"sk-container\" hidden><div class=\"sk-item\"><div class=\"sk-estimator fitted sk-toggleable\"><input class=\"sk-toggleable__control sk-hidden--visually\" id=\"sk-estimator-id-1\" type=\"checkbox\" checked><label for=\"sk-estimator-id-1\" class=\"sk-toggleable__label fitted sk-toggleable__label-arrow fitted\">&nbsp;XGBClassifier<span class=\"sk-estimator-doc-link fitted\">i<span>Fitted</span></span></label><div class=\"sk-toggleable__content fitted\"><pre>XGBClassifier(base_score=None, booster=None, callbacks=None,\n",
       "              colsample_bylevel=None, colsample_bynode=0.4599826294453433,\n",
       "              colsample_bytree=None, device=None, early_stopping_rounds=None,\n",
       "              enable_categorical=False,\n",
       "              eval_metric=&lt;function custom_f1_score at 0x7f62b80905e0&gt;,\n",
       "              feature_types=None, gamma=None, grow_policy=None,\n",
       "              importance_type=None, interaction_constraints=None,\n",
       "              learning_rate=0.23729000655414553, max_bin=None,\n",
       "              max_cat_threshold=None, max_cat_to_onehot=None,\n",
       "              max_delta_step=None, max_depth=17, max_leaves=None,\n",
       "              min_child_weight=37, missing=nan, monotone_constraints=None,\n",
       "              multi_strategy=None, n_estimators=108, n_jobs=None,\n",
       "              num_parallel_tree=None, objective=&#x27;multi:softprob&#x27;, ...)</pre></div> </div></div></div></div>"
      ],
      "text/plain": [
       "XGBClassifier(base_score=None, booster=None, callbacks=None,\n",
       "              colsample_bylevel=None, colsample_bynode=0.4599826294453433,\n",
       "              colsample_bytree=None, device=None, early_stopping_rounds=None,\n",
       "              enable_categorical=False,\n",
       "              eval_metric=<function custom_f1_score at 0x7f62b80905e0>,\n",
       "              feature_types=None, gamma=None, grow_policy=None,\n",
       "              importance_type=None, interaction_constraints=None,\n",
       "              learning_rate=0.23729000655414553, max_bin=None,\n",
       "              max_cat_threshold=None, max_cat_to_onehot=None,\n",
       "              max_delta_step=None, max_depth=17, max_leaves=None,\n",
       "              min_child_weight=37, missing=nan, monotone_constraints=None,\n",
       "              multi_strategy=None, n_estimators=108, n_jobs=None,\n",
       "              num_parallel_tree=None, objective='multi:softprob', ...)"
      ]
     },
     "execution_count": 21,
     "metadata": {},
     "output_type": "execute_result"
    }
   ],
   "source": [
    "n_estimators = int(study.best_trial.user_attrs['best_iteration']*1.2)\n",
    "xgb = xgboost.XGBClassifier(\n",
    "        eval_metric=eval_metric,\n",
    "        n_estimators=n_estimators,\n",
    "        **study.best_trial.params\n",
    "    )\n",
    "xgb.fit(\n",
    "    ssp.vstack((X_train, X_val)), \n",
    "    np.concatenate((y_train_enc, y_val_enc)),\n",
    "    verbose=1,\n",
    ")"
   ]
  },
  {
   "cell_type": "code",
   "execution_count": 22,
   "id": "449f616f",
   "metadata": {
    "execution": {
     "iopub.execute_input": "2025-06-13T13:13:56.130753Z",
     "iopub.status.busy": "2025-06-13T13:13:56.130316Z",
     "iopub.status.idle": "2025-06-13T13:13:56.173132Z",
     "shell.execute_reply": "2025-06-13T13:13:56.172790Z"
    },
    "papermill": {
     "duration": 0.05309,
     "end_time": "2025-06-13T13:13:56.174031",
     "exception": false,
     "start_time": "2025-06-13T13:13:56.120941",
     "status": "completed"
    },
    "tags": []
   },
   "outputs": [
    {
     "data": {
      "text/plain": [
       "['/scratch_isilon/groups/singlecell/shared/projects/Inflammation-PBMCs-Atlas/03_downstream_analysis/08_gene_importance/xgboost_external_validation/xgboost_TopN_genes/results_20/best_model/T_CD4_NonNaive_shap_disease_NOstudy_samesize_1_xgb.json']"
      ]
     },
     "execution_count": 22,
     "metadata": {},
     "output_type": "execute_result"
    }
   ],
   "source": [
    "out_dir = here(f'03_downstream_analysis/08_gene_importance/xgboost_external_validation/xgboost_TopN_genes/results_{N_GENES}/best_model')\n",
    "\n",
    "if not os.path.exists(out_dir):\n",
    "    os.makedirs(out_dir)\n",
    "    \n",
    "joblib.dump(xgb, os.path.join(out_dir, f'{CELL_TYPE}_{SEED}_{TEST_SPLIT_IDX}_xgb.json'))"
   ]
  },
  {
   "cell_type": "code",
   "execution_count": 23,
   "id": "86f5df72",
   "metadata": {
    "execution": {
     "iopub.execute_input": "2025-06-13T13:13:56.194178Z",
     "iopub.status.busy": "2025-06-13T13:13:56.193705Z",
     "iopub.status.idle": "2025-06-13T13:13:56.789333Z",
     "shell.execute_reply": "2025-06-13T13:13:56.788936Z"
    },
    "papermill": {
     "duration": 0.607454,
     "end_time": "2025-06-13T13:13:56.790181",
     "exception": false,
     "start_time": "2025-06-13T13:13:56.182727",
     "status": "completed"
    },
    "tags": []
   },
   "outputs": [],
   "source": [
    "df_pred_test = pd.DataFrame(dict(\n",
    "    cell_id=train_adata.obs.iloc[test_idxs].index.values,\n",
    "    y_true=y_test, \n",
    "    y_true_code=y_test_enc, \n",
    "    y_pred=xgb.predict(X_test))).set_index('cell_id')"
   ]
  },
  {
   "cell_type": "code",
   "execution_count": 24,
   "id": "0a28f243",
   "metadata": {
    "execution": {
     "iopub.execute_input": "2025-06-13T13:13:56.808202Z",
     "iopub.status.busy": "2025-06-13T13:13:56.808028Z",
     "iopub.status.idle": "2025-06-13T13:13:56.958182Z",
     "shell.execute_reply": "2025-06-13T13:13:56.957790Z"
    },
    "papermill": {
     "duration": 0.159682,
     "end_time": "2025-06-13T13:13:56.959046",
     "exception": false,
     "start_time": "2025-06-13T13:13:56.799364",
     "status": "completed"
    },
    "tags": []
   },
   "outputs": [],
   "source": [
    "out_dir = here(f'03_downstream_analysis/08_gene_importance/xgboost_external_validation/xgboost_TopN_genes/results_{N_GENES}/predictions')\n",
    "\n",
    "if not os.path.exists(out_dir):\n",
    "    os.makedirs(out_dir)\n",
    "    \n",
    "df_pred_test.to_csv(os.path.join(out_dir, f'{CELL_TYPE}_{SEED}_{TEST_SPLIT_IDX}_pred_test.zip'))"
   ]
  },
  {
   "cell_type": "code",
   "execution_count": 25,
   "id": "0859bc1c",
   "metadata": {
    "execution": {
     "iopub.execute_input": "2025-06-13T13:13:56.976492Z",
     "iopub.status.busy": "2025-06-13T13:13:56.976220Z",
     "iopub.status.idle": "2025-06-13T13:13:56.994897Z",
     "shell.execute_reply": "2025-06-13T13:13:56.994571Z"
    },
    "papermill": {
     "duration": 0.028549,
     "end_time": "2025-06-13T13:13:56.995740",
     "exception": false,
     "start_time": "2025-06-13T13:13:56.967191",
     "status": "completed"
    },
    "tags": []
   },
   "outputs": [
    {
     "name": "stderr",
     "output_type": "stream",
     "text": [
      "/scratch_isilon/groups/singlecell/shared/conda_env/xgboost-cpu/lib/python3.12/site-packages/sklearn/metrics/_classification.py:2466: UserWarning: y_pred contains classes not in y_true\n",
      "  warnings.warn(\"y_pred contains classes not in y_true\")\n"
     ]
    }
   ],
   "source": [
    "metrics_dict = dict(\n",
    "    BAS=balanced_accuracy_score(y_true=df_pred_test.y_true_code, y_pred=df_pred_test.y_pred), WF1=f1_score(y_true=df_pred_test.y_true_code, y_pred=df_pred_test.y_pred,average='weighted'))"
   ]
  },
  {
   "cell_type": "code",
   "execution_count": 26,
   "id": "bdeba478",
   "metadata": {
    "execution": {
     "iopub.execute_input": "2025-06-13T13:13:57.013483Z",
     "iopub.status.busy": "2025-06-13T13:13:57.013226Z",
     "iopub.status.idle": "2025-06-13T13:13:57.015853Z",
     "shell.execute_reply": "2025-06-13T13:13:57.015545Z"
    },
    "papermill": {
     "duration": 0.012453,
     "end_time": "2025-06-13T13:13:57.016650",
     "exception": false,
     "start_time": "2025-06-13T13:13:57.004197",
     "status": "completed"
    },
    "tags": []
   },
   "outputs": [
    {
     "data": {
      "text/plain": [
       "{'BAS': 0.7036014696313175, 'WF1': 0.8517947796717377}"
      ]
     },
     "execution_count": 26,
     "metadata": {},
     "output_type": "execute_result"
    }
   ],
   "source": [
    "metrics_dict"
   ]
  },
  {
   "cell_type": "code",
   "execution_count": 27,
   "id": "a2c9a062",
   "metadata": {
    "execution": {
     "iopub.execute_input": "2025-06-13T13:13:57.034114Z",
     "iopub.status.busy": "2025-06-13T13:13:57.033924Z",
     "iopub.status.idle": "2025-06-13T13:13:57.042036Z",
     "shell.execute_reply": "2025-06-13T13:13:57.041758Z"
    },
    "papermill": {
     "duration": 0.017722,
     "end_time": "2025-06-13T13:13:57.042827",
     "exception": false,
     "start_time": "2025-06-13T13:13:57.025105",
     "status": "completed"
    },
    "tags": []
   },
   "outputs": [
    {
     "data": {
      "text/html": [
       "<div>\n",
       "<style scoped>\n",
       "    .dataframe tbody tr th:only-of-type {\n",
       "        vertical-align: middle;\n",
       "    }\n",
       "\n",
       "    .dataframe tbody tr th {\n",
       "        vertical-align: top;\n",
       "    }\n",
       "\n",
       "    .dataframe thead th {\n",
       "        text-align: right;\n",
       "    }\n",
       "</style>\n",
       "<table border=\"1\" class=\"dataframe\">\n",
       "  <thead>\n",
       "    <tr style=\"text-align: right;\">\n",
       "      <th></th>\n",
       "      <th>BAS</th>\n",
       "      <th>WF1</th>\n",
       "      <th>split_idx</th>\n",
       "      <th>gene_set_seed</th>\n",
       "      <th>cell_type</th>\n",
       "    </tr>\n",
       "  </thead>\n",
       "  <tbody>\n",
       "    <tr>\n",
       "      <th>0</th>\n",
       "      <td>0.703601</td>\n",
       "      <td>0.851795</td>\n",
       "      <td>1</td>\n",
       "      <td>shap_disease_NOstudy_samesize</td>\n",
       "      <td>T_CD4_NonNaive</td>\n",
       "    </tr>\n",
       "  </tbody>\n",
       "</table>\n",
       "</div>"
      ],
      "text/plain": [
       "        BAS       WF1  split_idx                  gene_set_seed  \\\n",
       "0  0.703601  0.851795          1  shap_disease_NOstudy_samesize   \n",
       "\n",
       "        cell_type  \n",
       "0  T_CD4_NonNaive  "
      ]
     },
     "execution_count": 27,
     "metadata": {},
     "output_type": "execute_result"
    }
   ],
   "source": [
    "metrics_df = pd.DataFrame.from_dict([metrics_dict]).assign(split_idx=TEST_SPLIT_IDX, gene_set_seed=SEED, cell_type=CELL_TYPE)\n",
    "metrics_df"
   ]
  },
  {
   "cell_type": "code",
   "execution_count": 28,
   "id": "8e590fe0",
   "metadata": {
    "execution": {
     "iopub.execute_input": "2025-06-13T13:13:57.060636Z",
     "iopub.status.busy": "2025-06-13T13:13:57.060423Z",
     "iopub.status.idle": "2025-06-13T13:13:57.067440Z",
     "shell.execute_reply": "2025-06-13T13:13:57.067157Z"
    },
    "papermill": {
     "duration": 0.016996,
     "end_time": "2025-06-13T13:13:57.068237",
     "exception": false,
     "start_time": "2025-06-13T13:13:57.051241",
     "status": "completed"
    },
    "tags": []
   },
   "outputs": [],
   "source": [
    "out_dir = here(f'03_downstream_analysis/08_gene_importance/xgboost_external_validation/xgboost_TopN_genes/results_{N_GENES}/metrics')\n",
    "\n",
    "if not os.path.exists(out_dir):\n",
    "    os.makedirs(out_dir)\n",
    "    \n",
    "metrics_df.to_csv(os.path.join(out_dir, f'{CELL_TYPE}_{SEED}_{TEST_SPLIT_IDX}_metrics.zip'))"
   ]
  }
 ],
 "metadata": {
  "kernelspec": {
   "display_name": "Python 3 (ipykernel)",
   "language": "python",
   "name": "python3"
  },
  "language_info": {
   "codemirror_mode": {
    "name": "ipython",
    "version": 3
   },
   "file_extension": ".py",
   "mimetype": "text/x-python",
   "name": "python",
   "nbconvert_exporter": "python",
   "pygments_lexer": "ipython3",
   "version": "3.12.5"
  },
  "papermill": {
   "default_parameters": {},
   "duration": 722.32281,
   "end_time": "2025-06-13T13:13:57.591423",
   "environment_variables": {},
   "exception": null,
   "input_path": "02_xgboost_fitting_external_20genes.ipynb",
   "output_path": "results_20/executed_notebooks/xgboost_fitting_external_CT_T_CD4_NonNaive_GS_shap_disease_NOstudy_samesize_seed1.ipynb",
   "parameters": {
    "CELL_TYPE": "T_CD4_NonNaive",
    "SEED": "shap_disease_NOstudy_samesize",
    "TEST_SPLIT_IDX": 1
   },
   "start_time": "2025-06-13T13:01:55.268613",
   "version": "2.6.0"
  }
 },
 "nbformat": 4,
 "nbformat_minor": 5
}