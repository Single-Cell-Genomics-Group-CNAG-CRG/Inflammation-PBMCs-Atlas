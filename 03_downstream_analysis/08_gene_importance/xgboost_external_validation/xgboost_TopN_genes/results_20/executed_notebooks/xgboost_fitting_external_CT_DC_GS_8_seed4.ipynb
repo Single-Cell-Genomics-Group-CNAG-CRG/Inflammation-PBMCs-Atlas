{
 "cells": [
  {
   "cell_type": "code",
   "execution_count": 1,
   "id": "b8122929",
   "metadata": {
    "editable": true,
    "execution": {
     "iopub.execute_input": "2025-05-15T16:14:53.489569Z",
     "iopub.status.busy": "2025-05-15T16:14:53.489359Z",
     "iopub.status.idle": "2025-05-15T16:14:53.492326Z",
     "shell.execute_reply": "2025-05-15T16:14:53.491994Z"
    },
    "papermill": {
     "duration": 0.028054,
     "end_time": "2025-05-15T16:14:53.493252",
     "exception": false,
     "start_time": "2025-05-15T16:14:53.465198",
     "status": "completed"
    },
    "slideshow": {
     "slide_type": ""
    },
    "tags": [
     "parameters"
    ]
   },
   "outputs": [],
   "source": [
    "CELL_TYPE = 'pDC'\n",
    "N_GENES: int = 20\n",
    "SEED = 'shap_studyID' #'disease_NOstudy' 'study_NOdisease' or 'int' or 'shap_studyID'\n",
    "TEST_SPLIT_IDX: int = 1 #[0,4]"
   ]
  },
  {
   "cell_type": "code",
   "execution_count": 2,
   "id": "4b8c368c",
   "metadata": {
    "execution": {
     "iopub.execute_input": "2025-05-15T16:14:53.506837Z",
     "iopub.status.busy": "2025-05-15T16:14:53.506378Z",
     "iopub.status.idle": "2025-05-15T16:14:53.508624Z",
     "shell.execute_reply": "2025-05-15T16:14:53.508324Z"
    },
    "papermill": {
     "duration": 0.009732,
     "end_time": "2025-05-15T16:14:53.509518",
     "exception": false,
     "start_time": "2025-05-15T16:14:53.499786",
     "status": "completed"
    },
    "tags": [
     "injected-parameters"
    ]
   },
   "outputs": [],
   "source": [
    "# Parameters\n",
    "CELL_TYPE = \"DC\"\n",
    "SEED = 8\n",
    "TEST_SPLIT_IDX = 4\n"
   ]
  },
  {
   "cell_type": "code",
   "execution_count": 3,
   "id": "aecc4fff",
   "metadata": {
    "execution": {
     "iopub.execute_input": "2025-05-15T16:14:53.539464Z",
     "iopub.status.busy": "2025-05-15T16:14:53.539245Z",
     "iopub.status.idle": "2025-05-15T16:14:53.541361Z",
     "shell.execute_reply": "2025-05-15T16:14:53.541036Z"
    },
    "papermill": {
     "duration": 0.013919,
     "end_time": "2025-05-15T16:14:53.542220",
     "exception": false,
     "start_time": "2025-05-15T16:14:53.528301",
     "status": "completed"
    },
    "tags": []
   },
   "outputs": [],
   "source": [
    "N_SPLITS: int = 5\n",
    "N_TRIALS: int = 50"
   ]
  },
  {
   "cell_type": "code",
   "execution_count": 4,
   "id": "346d4d7c",
   "metadata": {
    "execution": {
     "iopub.execute_input": "2025-05-15T16:14:53.556012Z",
     "iopub.status.busy": "2025-05-15T16:14:53.555786Z",
     "iopub.status.idle": "2025-05-15T16:14:55.498123Z",
     "shell.execute_reply": "2025-05-15T16:14:55.497565Z"
    },
    "papermill": {
     "duration": 1.951219,
     "end_time": "2025-05-15T16:14:55.499599",
     "exception": false,
     "start_time": "2025-05-15T16:14:53.548380",
     "status": "completed"
    },
    "tags": []
   },
   "outputs": [],
   "source": [
    "import os\n",
    "import sys\n",
    "from pyprojroot.here import here\n",
    "import pandas as pd\n",
    "import anndata as ad\n",
    "import numpy as np\n",
    "import math\n",
    "from sklearn.model_selection import StratifiedGroupKFold\n",
    "from sklearn.preprocessing import LabelEncoder\n",
    "from sklearn.metrics import f1_score\n",
    "import matplotlib.pyplot as plt\n",
    "import seaborn as sns\n",
    "from itertools import product\n",
    "from sklearn.metrics import balanced_accuracy_score, f1_score\n",
    "import optuna\n",
    "\n",
    "import joblib\n",
    "import pickle\n",
    "import datetime\n",
    "\n",
    "import collections\n",
    "\n",
    "import xgboost\n",
    "from sklearn.preprocessing import LabelEncoder\n",
    "\n",
    "import scipy.sparse as ssp\n",
    "import joblib\n",
    "\n",
    "from dotenv import load_dotenv"
   ]
  },
  {
   "cell_type": "code",
   "execution_count": 5,
   "id": "6797fabf",
   "metadata": {
    "execution": {
     "iopub.execute_input": "2025-05-15T16:14:55.528859Z",
     "iopub.status.busy": "2025-05-15T16:14:55.528438Z",
     "iopub.status.idle": "2025-05-15T16:14:55.534858Z",
     "shell.execute_reply": "2025-05-15T16:14:55.534545Z"
    },
    "papermill": {
     "duration": 0.029242,
     "end_time": "2025-05-15T16:14:55.535730",
     "exception": false,
     "start_time": "2025-05-15T16:14:55.506488",
     "status": "completed"
    },
    "tags": []
   },
   "outputs": [
    {
     "data": {
      "text/plain": [
       "True"
      ]
     },
     "execution_count": 5,
     "metadata": {},
     "output_type": "execute_result"
    }
   ],
   "source": [
    "load_dotenv()"
   ]
  },
  {
   "cell_type": "markdown",
   "id": "972959de",
   "metadata": {
    "papermill": {
     "duration": 0.015637,
     "end_time": "2025-05-15T16:14:55.567289",
     "exception": false,
     "start_time": "2025-05-15T16:14:55.551652",
     "status": "completed"
    },
    "tags": []
   },
   "source": [
    "# LOAD DATASET"
   ]
  },
  {
   "cell_type": "code",
   "execution_count": 6,
   "id": "28eaedb7",
   "metadata": {
    "execution": {
     "iopub.execute_input": "2025-05-15T16:14:55.581377Z",
     "iopub.status.busy": "2025-05-15T16:14:55.581184Z",
     "iopub.status.idle": "2025-05-15T16:14:55.684879Z",
     "shell.execute_reply": "2025-05-15T16:14:55.684357Z"
    },
    "papermill": {
     "duration": 0.112814,
     "end_time": "2025-05-15T16:14:55.686414",
     "exception": false,
     "start_time": "2025-05-15T16:14:55.573600",
     "status": "completed"
    },
    "tags": []
   },
   "outputs": [],
   "source": [
    "train_adata = ad.read_h5ad(\n",
    "    here(f'03_downstream_analysis/08_gene_importance/xgboost_external_validation/xgboost_TopN_genes/data_cellTypes/EXTERNAL_{CELL_TYPE}.filtered.log1p.h5ad')\n",
    ")"
   ]
  },
  {
   "cell_type": "code",
   "execution_count": 7,
   "id": "fca05163",
   "metadata": {
    "execution": {
     "iopub.execute_input": "2025-05-15T16:14:55.714348Z",
     "iopub.status.busy": "2025-05-15T16:14:55.714134Z",
     "iopub.status.idle": "2025-05-15T16:14:55.725887Z",
     "shell.execute_reply": "2025-05-15T16:14:55.725562Z"
    },
    "papermill": {
     "duration": 0.029595,
     "end_time": "2025-05-15T16:14:55.726750",
     "exception": false,
     "start_time": "2025-05-15T16:14:55.697155",
     "status": "completed"
    },
    "tags": []
   },
   "outputs": [
    {
     "name": "stdout",
     "output_type": "stream",
     "text": [
      "['ENSG00000175768' 'ENSG00000135404' 'ENSG00000106799' 'ENSG00000125740'\n",
      " 'ENSG00000175390' 'ENSG00000198668' 'ENSG00000132965' 'ENSG00000138107'\n",
      " 'ENSG00000119508' 'ENSG00000100453' 'ENSG00000104870' 'ENSG00000081059'\n",
      " 'ENSG00000101347' 'ENSG00000136738' 'ENSG00000172936' 'ENSG00000196154'\n",
      " 'ENSG00000120738' 'ENSG00000153234' 'ENSG00000110395' 'ENSG00000105835'\n",
      " 'ENSG00000171791' 'ENSG00000127528' 'ENSG00000161944' 'ENSG00000079805'\n",
      " 'ENSG00000117318' 'ENSG00000075426' 'ENSG00000143774' 'ENSG00000260314'\n",
      " 'ENSG00000138674' 'ENSG00000069399' 'ENSG00000169564' 'ENSG00000175489'\n",
      " 'ENSG00000113615' 'ENSG00000162711' 'ENSG00000051108' 'ENSG00000090382'\n",
      " 'ENSG00000111331' 'ENSG00000135441' 'ENSG00000118508' 'ENSG00000183696'\n",
      " 'ENSG00000119922' 'ENSG00000125657' 'ENSG00000006327' 'ENSG00000100911'\n",
      " 'ENSG00000085514' 'ENSG00000122862' 'ENSG00000204257' 'ENSG00000197471'\n",
      " 'ENSG00000163131' 'ENSG00000139289' 'ENSG00000189067' 'ENSG00000121858'\n",
      " 'ENSG00000033800' 'ENSG00000111716' 'ENSG00000127022' 'ENSG00000111640'\n",
      " 'ENSG00000092820' 'ENSG00000131724' 'ENSG00000164136' 'ENSG00000185950'\n",
      " 'ENSG00000187116' 'ENSG00000164104' 'ENSG00000116701' 'ENSG00000223865'\n",
      " 'ENSG00000143390' 'ENSG00000135218' 'ENSG00000166747' 'ENSG00000026103'\n",
      " 'ENSG00000121879' 'ENSG00000171150' 'ENSG00000132432' 'ENSG00000167283'\n",
      " 'ENSG00000164543' 'ENSG00000172543' 'ENSG00000188906' 'ENSG00000196735'\n",
      " 'ENSG00000204267' 'ENSG00000102265' 'ENSG00000139626' 'ENSG00000166847'\n",
      " 'ENSG00000090376' 'ENSG00000015475' 'ENSG00000168685' 'ENSG00000184557'\n",
      " 'ENSG00000138678' 'ENSG00000160213' 'ENSG00000122359' 'ENSG00000144802'\n",
      " 'ENSG00000126561' 'ENSG00000139514' 'ENSG00000171223' 'ENSG00000101474'\n",
      " 'ENSG00000142546' 'ENSG00000099985' 'ENSG00000143110' 'ENSG00000125810'\n",
      " 'ENSG00000196396' 'ENSG00000116191' 'ENSG00000101608' 'ENSG00000130755'\n",
      " 'ENSG00000018280' 'ENSG00000105374' 'ENSG00000239998' 'ENSG00000204577'\n",
      " 'ENSG00000106565' 'ENSG00000130830' 'ENSG00000126214' 'ENSG00000008394'\n",
      " 'ENSG00000165140' 'ENSG00000106952' 'ENSG00000171700' 'ENSG00000254087'\n",
      " 'ENSG00000157020' 'ENSG00000152234' 'ENSG00000163221' 'ENSG00000100300'\n",
      " 'ENSG00000116815' 'ENSG00000119408']\n"
     ]
    }
   ],
   "source": [
    "if SEED != 'all':\n",
    "    gene_subset = np.load(here(f'03_downstream_analysis/08_gene_importance/xgboost_external_validation/shap_gene_selection/gene_subsets_{N_GENES}/{CELL_TYPE}_{SEED}.npy'), allow_pickle=True)\n",
    "    train_adata = train_adata[:,gene_subset]\n",
    "    print(gene_subset)\n",
    "elif SEED == 'all':\n",
    "    print('Using all genes')\n",
    "else:\n",
    "    raise ValueError()"
   ]
  },
  {
   "cell_type": "code",
   "execution_count": 8,
   "id": "d4be48d3",
   "metadata": {
    "execution": {
     "iopub.execute_input": "2025-05-15T16:14:55.752368Z",
     "iopub.status.busy": "2025-05-15T16:14:55.752101Z",
     "iopub.status.idle": "2025-05-15T16:14:55.755297Z",
     "shell.execute_reply": "2025-05-15T16:14:55.754987Z"
    },
    "papermill": {
     "duration": 0.016982,
     "end_time": "2025-05-15T16:14:55.756123",
     "exception": false,
     "start_time": "2025-05-15T16:14:55.739141",
     "status": "completed"
    },
    "tags": []
   },
   "outputs": [
    {
     "data": {
      "text/plain": [
       "(5232, 118)"
      ]
     },
     "execution_count": 8,
     "metadata": {},
     "output_type": "execute_result"
    }
   ],
   "source": [
    "train_adata.shape"
   ]
  },
  {
   "cell_type": "code",
   "execution_count": 9,
   "id": "1387e556",
   "metadata": {
    "execution": {
     "iopub.execute_input": "2025-05-15T16:14:55.793057Z",
     "iopub.status.busy": "2025-05-15T16:14:55.792727Z",
     "iopub.status.idle": "2025-05-15T16:14:55.796363Z",
     "shell.execute_reply": "2025-05-15T16:14:55.796042Z"
    },
    "papermill": {
     "duration": 0.025287,
     "end_time": "2025-05-15T16:14:55.797221",
     "exception": false,
     "start_time": "2025-05-15T16:14:55.771934",
     "status": "completed"
    },
    "tags": []
   },
   "outputs": [
    {
     "data": {
      "text/plain": [
       "['RA', 'healthy', 'COVID', 'HIV', 'cirrhosis', 'CD', 'SLE', 'sepsis']\n",
       "Categories (8, object): ['CD', 'COVID', 'HIV', 'RA', 'SLE', 'cirrhosis', 'healthy', 'sepsis']"
      ]
     },
     "execution_count": 9,
     "metadata": {},
     "output_type": "execute_result"
    }
   ],
   "source": [
    "train_adata.obs.disease.unique()"
   ]
  },
  {
   "cell_type": "code",
   "execution_count": 10,
   "id": "ab080e27",
   "metadata": {
    "execution": {
     "iopub.execute_input": "2025-05-15T16:14:55.811405Z",
     "iopub.status.busy": "2025-05-15T16:14:55.811008Z",
     "iopub.status.idle": "2025-05-15T16:14:55.814788Z",
     "shell.execute_reply": "2025-05-15T16:14:55.814485Z"
    },
    "papermill": {
     "duration": 0.012901,
     "end_time": "2025-05-15T16:14:55.816410",
     "exception": false,
     "start_time": "2025-05-15T16:14:55.803509",
     "status": "completed"
    },
    "tags": []
   },
   "outputs": [
    {
     "data": {
      "text/plain": [
       "['SCGT00val_I036021_T0', 'SCGT00val_I036023_T0', 'SCGT00val_I036024_T0', 'SCGT00val_I036019_T0', 'SCGT00val_I0364_T0', ..., '10XGenomics_10XHC2_T0', '10XGenomics_10XHC3_T0', '10XGenomics_10XHC5_T0', '10XGenomics_10XHC7_T0', '10XGenomics_10XHC8_T0']\n",
       "Length: 86\n",
       "Categories (86, object): ['10XGenomics_10XHC1_T0', '10XGenomics_10XHC2_T0', '10XGenomics_10XHC3_T0', '10XGenomics_10XHC4_T0', ..., 'Savage2021_BRISL6_T0', 'Savage2021_BRISL7_T0', 'Savage2021_PIDA_T0', 'Savage2021_PIDB_T0']"
      ]
     },
     "execution_count": 10,
     "metadata": {},
     "output_type": "execute_result"
    }
   ],
   "source": [
    "train_adata.obs.sampleID.unique()"
   ]
  },
  {
   "cell_type": "code",
   "execution_count": 11,
   "id": "42031626",
   "metadata": {
    "execution": {
     "iopub.execute_input": "2025-05-15T16:14:55.852919Z",
     "iopub.status.busy": "2025-05-15T16:14:55.852545Z",
     "iopub.status.idle": "2025-05-15T16:14:55.895953Z",
     "shell.execute_reply": "2025-05-15T16:14:55.895534Z"
    },
    "papermill": {
     "duration": 0.063059,
     "end_time": "2025-05-15T16:14:55.897500",
     "exception": false,
     "start_time": "2025-05-15T16:14:55.834441",
     "status": "completed"
    },
    "tags": []
   },
   "outputs": [],
   "source": [
    "all_idxs = np.arange(train_adata.obs.shape[0])\n",
    "left_out_splits = [s[1] for s in StratifiedGroupKFold(n_splits=N_SPLITS).split(all_idxs, train_adata.obs.disease, train_adata.obs.sampleID)]"
   ]
  },
  {
   "cell_type": "code",
   "execution_count": 12,
   "id": "57b938aa",
   "metadata": {
    "execution": {
     "iopub.execute_input": "2025-05-15T16:14:55.924908Z",
     "iopub.status.busy": "2025-05-15T16:14:55.924667Z",
     "iopub.status.idle": "2025-05-15T16:14:55.928033Z",
     "shell.execute_reply": "2025-05-15T16:14:55.927725Z"
    },
    "papermill": {
     "duration": 0.013665,
     "end_time": "2025-05-15T16:14:55.929388",
     "exception": false,
     "start_time": "2025-05-15T16:14:55.915723",
     "status": "completed"
    },
    "tags": []
   },
   "outputs": [
    {
     "data": {
      "text/plain": [
       "([1, 2, 3], 0, 4)"
      ]
     },
     "execution_count": 12,
     "metadata": {},
     "output_type": "execute_result"
    }
   ],
   "source": [
    "TRAIN_SPLIT_IDXS = [0,1,2,3,4]\n",
    "VAL_SPLIT_IDX = (TEST_SPLIT_IDX + 1) % 5\n",
    "TRAIN_SPLIT_IDXS.remove(TEST_SPLIT_IDX)\n",
    "TRAIN_SPLIT_IDXS.remove(VAL_SPLIT_IDX)\n",
    "TRAIN_SPLIT_IDXS, VAL_SPLIT_IDX, TEST_SPLIT_IDX"
   ]
  },
  {
   "cell_type": "code",
   "execution_count": 13,
   "id": "c7cfbe35",
   "metadata": {
    "execution": {
     "iopub.execute_input": "2025-05-15T16:14:55.976644Z",
     "iopub.status.busy": "2025-05-15T16:14:55.976457Z",
     "iopub.status.idle": "2025-05-15T16:14:55.978877Z",
     "shell.execute_reply": "2025-05-15T16:14:55.978575Z"
    },
    "papermill": {
     "duration": 0.027805,
     "end_time": "2025-05-15T16:14:55.979849",
     "exception": false,
     "start_time": "2025-05-15T16:14:55.952044",
     "status": "completed"
    },
    "tags": []
   },
   "outputs": [],
   "source": [
    "train_idxs = np.concatenate([left_out_splits[idx] for idx in TRAIN_SPLIT_IDXS])\n",
    "val_idxs = left_out_splits[VAL_SPLIT_IDX]\n",
    "test_idxs = left_out_splits[TEST_SPLIT_IDX]"
   ]
  },
  {
   "cell_type": "markdown",
   "id": "71ed7a9a",
   "metadata": {
    "papermill": {
     "duration": 0.007833,
     "end_time": "2025-05-15T16:14:55.996010",
     "exception": false,
     "start_time": "2025-05-15T16:14:55.988177",
     "status": "completed"
    },
    "tags": []
   },
   "source": [
    "### SUBSET DATASET INTO TRAIN/TEST/VAL SPLITS"
   ]
  },
  {
   "cell_type": "code",
   "execution_count": 14,
   "id": "b8f647bf",
   "metadata": {
    "execution": {
     "iopub.execute_input": "2025-05-15T16:14:56.068674Z",
     "iopub.status.busy": "2025-05-15T16:14:56.068485Z",
     "iopub.status.idle": "2025-05-15T16:14:56.096330Z",
     "shell.execute_reply": "2025-05-15T16:14:56.095947Z"
    },
    "papermill": {
     "duration": 0.037991,
     "end_time": "2025-05-15T16:14:56.097559",
     "exception": false,
     "start_time": "2025-05-15T16:14:56.059568",
     "status": "completed"
    },
    "tags": []
   },
   "outputs": [
    {
     "data": {
      "text/plain": [
       "((3186, 118), (1013, 118), (1033, 118))"
      ]
     },
     "execution_count": 14,
     "metadata": {},
     "output_type": "execute_result"
    }
   ],
   "source": [
    "X_train = train_adata.X[train_idxs]\n",
    "X_test = train_adata.X[test_idxs]\n",
    "X_val = train_adata.X[val_idxs]\n",
    "X_train.shape, X_test.shape, X_val.shape"
   ]
  },
  {
   "cell_type": "code",
   "execution_count": 15,
   "id": "eac58cdd",
   "metadata": {
    "execution": {
     "iopub.execute_input": "2025-05-15T16:14:56.115155Z",
     "iopub.status.busy": "2025-05-15T16:14:56.114938Z",
     "iopub.status.idle": "2025-05-15T16:14:56.120786Z",
     "shell.execute_reply": "2025-05-15T16:14:56.120485Z"
    },
    "papermill": {
     "duration": 0.015749,
     "end_time": "2025-05-15T16:14:56.121729",
     "exception": false,
     "start_time": "2025-05-15T16:14:56.105980",
     "status": "completed"
    },
    "tags": []
   },
   "outputs": [
    {
     "data": {
      "text/plain": [
       "((3186,), (1013,), (1033,))"
      ]
     },
     "execution_count": 15,
     "metadata": {},
     "output_type": "execute_result"
    }
   ],
   "source": [
    "y_train = train_adata.obs.iloc[train_idxs].disease.values.astype(str)\n",
    "y_test = train_adata.obs.iloc[test_idxs].disease.values.astype(str)\n",
    "y_val = train_adata.obs.iloc[val_idxs].disease.values.astype(str)\n",
    "y_train.shape, y_test.shape, y_val.shape"
   ]
  },
  {
   "cell_type": "code",
   "execution_count": 16,
   "id": "200f9cbc",
   "metadata": {
    "execution": {
     "iopub.execute_input": "2025-05-15T16:14:56.140131Z",
     "iopub.status.busy": "2025-05-15T16:14:56.139681Z",
     "iopub.status.idle": "2025-05-15T16:14:56.143547Z",
     "shell.execute_reply": "2025-05-15T16:14:56.143240Z"
    },
    "papermill": {
     "duration": 0.014329,
     "end_time": "2025-05-15T16:14:56.144478",
     "exception": false,
     "start_time": "2025-05-15T16:14:56.130149",
     "status": "completed"
    },
    "tags": []
   },
   "outputs": [],
   "source": [
    "lenc = LabelEncoder()\n",
    "y_train_enc = lenc.fit_transform(y_train)\n",
    "y_val_enc = lenc.transform(y_val)\n",
    "y_test_enc = lenc.transform(y_test)"
   ]
  },
  {
   "cell_type": "markdown",
   "id": "724ce952",
   "metadata": {
    "papermill": {
     "duration": 0.009203,
     "end_time": "2025-05-15T16:14:56.164343",
     "exception": false,
     "start_time": "2025-05-15T16:14:56.155140",
     "status": "completed"
    },
    "tags": []
   },
   "source": [
    "### GENERATE F1 "
   ]
  },
  {
   "cell_type": "code",
   "execution_count": 17,
   "id": "d88e06b6",
   "metadata": {
    "execution": {
     "iopub.execute_input": "2025-05-15T16:14:56.181054Z",
     "iopub.status.busy": "2025-05-15T16:14:56.180792Z",
     "iopub.status.idle": "2025-05-15T16:14:56.183249Z",
     "shell.execute_reply": "2025-05-15T16:14:56.182897Z"
    },
    "papermill": {
     "duration": 0.014033,
     "end_time": "2025-05-15T16:14:56.186019",
     "exception": false,
     "start_time": "2025-05-15T16:14:56.171986",
     "status": "completed"
    },
    "tags": []
   },
   "outputs": [],
   "source": [
    "def custom_f1_score(y_true, y_pred):\n",
    "    return -f1_score(y_true, y_pred.argmax(1), average='weighted')"
   ]
  },
  {
   "cell_type": "code",
   "execution_count": 18,
   "id": "fcfddbcc",
   "metadata": {
    "execution": {
     "iopub.execute_input": "2025-05-15T16:14:56.216503Z",
     "iopub.status.busy": "2025-05-15T16:14:56.216218Z",
     "iopub.status.idle": "2025-05-15T16:14:56.220116Z",
     "shell.execute_reply": "2025-05-15T16:14:56.219764Z"
    },
    "papermill": {
     "duration": 0.027065,
     "end_time": "2025-05-15T16:14:56.221003",
     "exception": false,
     "start_time": "2025-05-15T16:14:56.193938",
     "status": "completed"
    },
    "tags": []
   },
   "outputs": [],
   "source": [
    "eval_metric=custom_f1_score\n",
    "eval_metric_name='custom_f1_score'\n",
    "\n",
    "def objective(trial):\n",
    "    params = {\n",
    "        'n_estimators': 1500,\n",
    "        'max_depth': trial.suggest_int('max_depth', 3, 20),\n",
    "        'min_child_weight': trial.suggest_int('min_child_weight', 1, 250),\n",
    "        'subsample': trial.suggest_float('subsample', 0.1, 1.0),\n",
    "        'colsample_bynode': trial.suggest_float('colsample_bynode', 0.1, 1.0),\n",
    "        'learning_rate': trial.suggest_float('learning_rate', 1e-3, 5e-1, log=True),\n",
    "    }\n",
    "    pruning_callback = optuna.integration.XGBoostPruningCallback(trial, f'validation_0-{eval_metric_name}')\n",
    "    es_callback = xgboost.callback.EarlyStopping(20, min_delta=0.001)\n",
    "    xgb = xgboost.XGBClassifier(\n",
    "        eval_metric=eval_metric,\n",
    "        callbacks=[pruning_callback, es_callback],\n",
    "        n_jobs=5,\n",
    "        **params\n",
    "    )\n",
    "    xgb.fit(\n",
    "        X_train, \n",
    "        y_train_enc, \n",
    "        verbose=0,\n",
    "        eval_set=[(X_val, y_val_enc)],\n",
    "    )\n",
    "    trial.set_user_attr('best_iteration', xgb.best_iteration)\n",
    "\n",
    "    return xgb.best_score"
   ]
  },
  {
   "cell_type": "code",
   "execution_count": 19,
   "id": "19ffdf48",
   "metadata": {
    "execution": {
     "iopub.execute_input": "2025-05-15T16:14:56.238483Z",
     "iopub.status.busy": "2025-05-15T16:14:56.238037Z",
     "iopub.status.idle": "2025-05-15T16:15:40.899300Z",
     "shell.execute_reply": "2025-05-15T16:15:40.898792Z"
    },
    "papermill": {
     "duration": 44.671277,
     "end_time": "2025-05-15T16:15:40.900342",
     "exception": false,
     "start_time": "2025-05-15T16:14:56.229065",
     "status": "completed"
    },
    "scrolled": true,
    "tags": []
   },
   "outputs": [
    {
     "name": "stderr",
     "output_type": "stream",
     "text": [
      "[I 2025-05-15 18:14:56,239] A new study created in memory with name: no-name-0441577a-8935-48bd-bbc0-36e2deeb49b7\n"
     ]
    },
    {
     "name": "stderr",
     "output_type": "stream",
     "text": [
      "[I 2025-05-15 18:14:56,456] Trial 0 finished with value: -0.633221 and parameters: {'max_depth': 9, 'min_child_weight': 238, 'subsample': 0.7587945476302645, 'colsample_bynode': 0.6387926357773329, 'learning_rate': 0.0026368755339723046}. Best is trial 0 with value: -0.633221.\n"
     ]
    },
    {
     "name": "stderr",
     "output_type": "stream",
     "text": [
      "[I 2025-05-15 18:14:59,279] Trial 1 finished with value: -0.746114 and parameters: {'max_depth': 5, 'min_child_weight': 15, 'subsample': 0.8795585311974417, 'colsample_bynode': 0.6410035105688879, 'learning_rate': 0.08148293210105287}. Best is trial 1 with value: -0.746114.\n"
     ]
    },
    {
     "name": "stderr",
     "output_type": "stream",
     "text": [
      "[I 2025-05-15 18:14:59,625] Trial 2 finished with value: -0.613948 and parameters: {'max_depth': 3, 'min_child_weight': 243, 'subsample': 0.8491983767203796, 'colsample_bynode': 0.29110519961044856, 'learning_rate': 0.003095566460242371}. Best is trial 1 with value: -0.746114.\n"
     ]
    },
    {
     "name": "stderr",
     "output_type": "stream",
     "text": [
      "[I 2025-05-15 18:15:00,114] Trial 3 finished with value: -0.620758 and parameters: {'max_depth': 6, 'min_child_weight': 77, 'subsample': 0.5722807884690141, 'colsample_bynode': 0.48875051677790415, 'learning_rate': 0.006109683510122491}. Best is trial 1 with value: -0.746114.\n"
     ]
    },
    {
     "name": "stderr",
     "output_type": "stream",
     "text": [
      "[I 2025-05-15 18:15:00,986] Trial 4 finished with value: -0.645103 and parameters: {'max_depth': 14, 'min_child_weight': 35, 'subsample': 0.3629301836816964, 'colsample_bynode': 0.4297256589643226, 'learning_rate': 0.01701841881702917}. Best is trial 1 with value: -0.746114.\n"
     ]
    },
    {
     "name": "stderr",
     "output_type": "stream",
     "text": [
      "[I 2025-05-15 18:15:01,552] Trial 5 finished with value: -0.653487 and parameters: {'max_depth': 17, 'min_child_weight': 50, 'subsample': 0.5628109945722505, 'colsample_bynode': 0.6331731119758383, 'learning_rate': 0.0013346527038305934}. Best is trial 1 with value: -0.746114.\n"
     ]
    },
    {
     "name": "stderr",
     "output_type": "stream",
     "text": [
      "[I 2025-05-15 18:15:01,853] Trial 6 finished with value: -0.63812 and parameters: {'max_depth': 13, 'min_child_weight': 43, 'subsample': 0.1585464336867516, 'colsample_bynode': 0.9539969835279999, 'learning_rate': 0.4038423798071558}. Best is trial 1 with value: -0.746114.\n"
     ]
    },
    {
     "name": "stderr",
     "output_type": "stream",
     "text": [
      "[I 2025-05-15 18:15:01,993] Trial 7 pruned. Trial was pruned at iteration 0.\n"
     ]
    },
    {
     "name": "stderr",
     "output_type": "stream",
     "text": [
      "[I 2025-05-15 18:15:02,129] Trial 8 pruned. Trial was pruned at iteration 0.\n"
     ]
    },
    {
     "name": "stderr",
     "output_type": "stream",
     "text": [
      "[I 2025-05-15 18:15:02,275] Trial 9 pruned. Trial was pruned at iteration 0.\n"
     ]
    },
    {
     "name": "stderr",
     "output_type": "stream",
     "text": [
      "[I 2025-05-15 18:15:04,605] Trial 10 pruned. Trial was pruned at iteration 53.\n"
     ]
    },
    {
     "name": "stderr",
     "output_type": "stream",
     "text": [
      "[I 2025-05-15 18:15:09,042] Trial 11 pruned. Trial was pruned at iteration 53.\n"
     ]
    },
    {
     "name": "stderr",
     "output_type": "stream",
     "text": [
      "[I 2025-05-15 18:15:09,194] Trial 12 pruned. Trial was pruned at iteration 0.\n"
     ]
    },
    {
     "name": "stderr",
     "output_type": "stream",
     "text": [
      "[I 2025-05-15 18:15:09,347] Trial 13 pruned. Trial was pruned at iteration 0.\n"
     ]
    },
    {
     "name": "stderr",
     "output_type": "stream",
     "text": [
      "[I 2025-05-15 18:15:09,496] Trial 14 pruned. Trial was pruned at iteration 0.\n"
     ]
    },
    {
     "name": "stderr",
     "output_type": "stream",
     "text": [
      "[I 2025-05-15 18:15:09,658] Trial 15 pruned. Trial was pruned at iteration 1.\n"
     ]
    },
    {
     "name": "stderr",
     "output_type": "stream",
     "text": [
      "[I 2025-05-15 18:15:10,190] Trial 16 finished with value: -0.676173 and parameters: {'max_depth': 3, 'min_child_weight': 27, 'subsample': 0.8631980957138053, 'colsample_bynode': 0.6970657857507844, 'learning_rate': 0.0313403095944194}. Best is trial 1 with value: -0.746114.\n"
     ]
    },
    {
     "name": "stderr",
     "output_type": "stream",
     "text": [
      "[I 2025-05-15 18:15:10,808] Trial 17 pruned. Trial was pruned at iteration 31.\n"
     ]
    },
    {
     "name": "stderr",
     "output_type": "stream",
     "text": [
      "[I 2025-05-15 18:15:10,981] Trial 18 pruned. Trial was pruned at iteration 1.\n"
     ]
    },
    {
     "name": "stderr",
     "output_type": "stream",
     "text": [
      "[I 2025-05-15 18:15:11,144] Trial 19 pruned. Trial was pruned at iteration 1.\n"
     ]
    },
    {
     "name": "stderr",
     "output_type": "stream",
     "text": [
      "[I 2025-05-15 18:15:11,977] Trial 20 pruned. Trial was pruned at iteration 53.\n"
     ]
    },
    {
     "name": "stderr",
     "output_type": "stream",
     "text": [
      "[I 2025-05-15 18:15:12,506] Trial 21 finished with value: -0.659473 and parameters: {'max_depth': 11, 'min_child_weight': 54, 'subsample': 0.6633981323438212, 'colsample_bynode': 0.6663957994268338, 'learning_rate': 0.02927220154870862}. Best is trial 1 with value: -0.746114.\n"
     ]
    },
    {
     "name": "stderr",
     "output_type": "stream",
     "text": [
      "[I 2025-05-15 18:15:13,106] Trial 22 finished with value: -0.654083 and parameters: {'max_depth': 12, 'min_child_weight': 58, 'subsample': 0.6581340170061017, 'colsample_bynode': 0.7026574094886022, 'learning_rate': 0.03182433567197845}. Best is trial 1 with value: -0.746114.\n"
     ]
    },
    {
     "name": "stderr",
     "output_type": "stream",
     "text": [
      "[I 2025-05-15 18:15:13,979] Trial 23 finished with value: -0.685634 and parameters: {'max_depth': 5, 'min_child_weight': 30, 'subsample': 0.7894210119075464, 'colsample_bynode': 0.8162896992417841, 'learning_rate': 0.022920058478890806}. Best is trial 1 with value: -0.746114.\n"
     ]
    },
    {
     "name": "stderr",
     "output_type": "stream",
     "text": [
      "[I 2025-05-15 18:15:14,153] Trial 24 pruned. Trial was pruned at iteration 0.\n"
     ]
    },
    {
     "name": "stderr",
     "output_type": "stream",
     "text": [
      "[I 2025-05-15 18:15:15,467] Trial 25 finished with value: -0.688283 and parameters: {'max_depth': 8, 'min_child_weight': 26, 'subsample': 0.9306150745794053, 'colsample_bynode': 0.9700079499935057, 'learning_rate': 0.011431528382436208}. Best is trial 1 with value: -0.746114.\n"
     ]
    },
    {
     "name": "stderr",
     "output_type": "stream",
     "text": [
      "[I 2025-05-15 18:15:16,725] Trial 26 finished with value: -0.692216 and parameters: {'max_depth': 7, 'min_child_weight': 19, 'subsample': 0.9084684401370251, 'colsample_bynode': 0.8915507162992631, 'learning_rate': 0.012956505042246434}. Best is trial 1 with value: -0.746114.\n"
     ]
    },
    {
     "name": "stderr",
     "output_type": "stream",
     "text": [
      "[I 2025-05-15 18:15:21,378] Trial 27 finished with value: -0.71885 and parameters: {'max_depth': 8, 'min_child_weight': 2, 'subsample': 0.9367633672184769, 'colsample_bynode': 0.9994172010355671, 'learning_rate': 0.008888859662935856}. Best is trial 1 with value: -0.746114.\n"
     ]
    },
    {
     "name": "stderr",
     "output_type": "stream",
     "text": [
      "[I 2025-05-15 18:15:24,170] Trial 28 finished with value: -0.71775 and parameters: {'max_depth': 7, 'min_child_weight': 1, 'subsample': 0.940970115551818, 'colsample_bynode': 0.9867522459834651, 'learning_rate': 0.011740713315777496}. Best is trial 1 with value: -0.746114.\n"
     ]
    },
    {
     "name": "stderr",
     "output_type": "stream",
     "text": [
      "[I 2025-05-15 18:15:24,336] Trial 29 pruned. Trial was pruned at iteration 0.\n"
     ]
    },
    {
     "name": "stderr",
     "output_type": "stream",
     "text": [
      "[I 2025-05-15 18:15:26,590] Trial 30 finished with value: -0.71608 and parameters: {'max_depth': 8, 'min_child_weight': 2, 'subsample': 0.8235114231485356, 'colsample_bynode': 0.9948615857290817, 'learning_rate': 0.0016806068373601153}. Best is trial 1 with value: -0.746114.\n"
     ]
    },
    {
     "name": "stderr",
     "output_type": "stream",
     "text": [
      "[I 2025-05-15 18:15:28,696] Trial 31 finished with value: -0.707209 and parameters: {'max_depth': 8, 'min_child_weight': 3, 'subsample': 0.8035220760251596, 'colsample_bynode': 0.9898944819997422, 'learning_rate': 0.0017127265414891104}. Best is trial 1 with value: -0.746114.\n"
     ]
    },
    {
     "name": "stderr",
     "output_type": "stream",
     "text": [
      "[I 2025-05-15 18:15:30,094] Trial 32 finished with value: -0.712385 and parameters: {'max_depth': 10, 'min_child_weight': 10, 'subsample': 0.93380250634573, 'colsample_bynode': 0.900005522320025, 'learning_rate': 0.002336851854090524}. Best is trial 1 with value: -0.746114.\n"
     ]
    },
    {
     "name": "stderr",
     "output_type": "stream",
     "text": [
      "[I 2025-05-15 18:15:30,262] Trial 33 pruned. Trial was pruned at iteration 0.\n"
     ]
    },
    {
     "name": "stderr",
     "output_type": "stream",
     "text": [
      "[I 2025-05-15 18:15:32,740] Trial 34 finished with value: -0.717807 and parameters: {'max_depth': 8, 'min_child_weight': 1, 'subsample': 0.8376265514770256, 'colsample_bynode': 0.9377587736664201, 'learning_rate': 0.004021975481834395}. Best is trial 1 with value: -0.746114.\n"
     ]
    },
    {
     "name": "stderr",
     "output_type": "stream",
     "text": [
      "[I 2025-05-15 18:15:32,977] Trial 35 pruned. Trial was pruned at iteration 2.\n"
     ]
    },
    {
     "name": "stderr",
     "output_type": "stream",
     "text": [
      "[I 2025-05-15 18:15:33,119] Trial 36 pruned. Trial was pruned at iteration 0.\n"
     ]
    },
    {
     "name": "stderr",
     "output_type": "stream",
     "text": [
      "[I 2025-05-15 18:15:34,240] Trial 37 finished with value: -0.716852 and parameters: {'max_depth': 10, 'min_child_weight': 13, 'subsample': 0.8321641536273043, 'colsample_bynode': 0.7631408206528125, 'learning_rate': 0.01786383999197155}. Best is trial 1 with value: -0.746114.\n"
     ]
    },
    {
     "name": "stderr",
     "output_type": "stream",
     "text": [
      "[I 2025-05-15 18:15:34,386] Trial 38 pruned. Trial was pruned at iteration 0.\n"
     ]
    },
    {
     "name": "stderr",
     "output_type": "stream",
     "text": [
      "[I 2025-05-15 18:15:34,551] Trial 39 pruned. Trial was pruned at iteration 0.\n"
     ]
    },
    {
     "name": "stderr",
     "output_type": "stream",
     "text": [
      "[I 2025-05-15 18:15:34,701] Trial 40 pruned. Trial was pruned at iteration 0.\n"
     ]
    },
    {
     "name": "stderr",
     "output_type": "stream",
     "text": [
      "[I 2025-05-15 18:15:35,653] Trial 41 finished with value: -0.699379 and parameters: {'max_depth': 10, 'min_child_weight': 14, 'subsample': 0.8443309999802764, 'colsample_bynode': 0.7631204631254445, 'learning_rate': 0.016981676445573364}. Best is trial 1 with value: -0.746114.\n"
     ]
    },
    {
     "name": "stderr",
     "output_type": "stream",
     "text": [
      "[I 2025-05-15 18:15:35,828] Trial 42 pruned. Trial was pruned at iteration 0.\n"
     ]
    },
    {
     "name": "stderr",
     "output_type": "stream",
     "text": [
      "[I 2025-05-15 18:15:36,656] Trial 43 finished with value: -0.710356 and parameters: {'max_depth': 7, 'min_child_weight': 13, 'subsample': 0.8345111211635923, 'colsample_bynode': 0.5128064883985667, 'learning_rate': 0.009091442404798547}. Best is trial 1 with value: -0.746114.\n"
     ]
    },
    {
     "name": "stderr",
     "output_type": "stream",
     "text": [
      "[I 2025-05-15 18:15:38,323] Trial 44 finished with value: -0.723275 and parameters: {'max_depth': 6, 'min_child_weight': 1, 'subsample': 0.9041473190471716, 'colsample_bynode': 0.7626000631934392, 'learning_rate': 0.01439720702983026}. Best is trial 1 with value: -0.746114.\n"
     ]
    },
    {
     "name": "stderr",
     "output_type": "stream",
     "text": [
      "[I 2025-05-15 18:15:40,132] Trial 45 finished with value: -0.705457 and parameters: {'max_depth': 6, 'min_child_weight': 1, 'subsample': 0.5087995164110648, 'colsample_bynode': 0.8171025957711977, 'learning_rate': 0.005852797176326762}. Best is trial 1 with value: -0.746114.\n"
     ]
    },
    {
     "name": "stderr",
     "output_type": "stream",
     "text": [
      "[I 2025-05-15 18:15:40,289] Trial 46 pruned. Trial was pruned at iteration 0.\n"
     ]
    },
    {
     "name": "stderr",
     "output_type": "stream",
     "text": [
      "[I 2025-05-15 18:15:40,457] Trial 47 pruned. Trial was pruned at iteration 0.\n"
     ]
    },
    {
     "name": "stderr",
     "output_type": "stream",
     "text": [
      "[I 2025-05-15 18:15:40,608] Trial 48 pruned. Trial was pruned at iteration 0.\n"
     ]
    },
    {
     "name": "stderr",
     "output_type": "stream",
     "text": [
      "[I 2025-05-15 18:15:40,782] Trial 49 pruned. Trial was pruned at iteration 0.\n"
     ]
    }
   ],
   "source": [
    "sampler = optuna.samplers.TPESampler(seed=42)\n",
    "study = optuna.create_study(direction='minimize', sampler=sampler)\n",
    "study.optimize(objective, n_trials=N_TRIALS, gc_after_trial=True)"
   ]
  },
  {
   "cell_type": "code",
   "execution_count": 20,
   "id": "1b479dad",
   "metadata": {
    "execution": {
     "iopub.execute_input": "2025-05-15T16:15:40.920958Z",
     "iopub.status.busy": "2025-05-15T16:15:40.920643Z",
     "iopub.status.idle": "2025-05-15T16:15:40.978333Z",
     "shell.execute_reply": "2025-05-15T16:15:40.977967Z"
    },
    "papermill": {
     "duration": 0.068252,
     "end_time": "2025-05-15T16:15:40.979267",
     "exception": false,
     "start_time": "2025-05-15T16:15:40.911015",
     "status": "completed"
    },
    "tags": []
   },
   "outputs": [
    {
     "data": {
      "text/plain": [
       "['/scratch_isilon/groups/singlecell/shared/projects/Inflammation-PBMCs-Atlas/03_downstream_analysis/08_gene_importance/xgboost_external_validation/xgboost_TopN_genes/results_20/study/DC_8_4_xgboost.pkl']"
      ]
     },
     "execution_count": 20,
     "metadata": {},
     "output_type": "execute_result"
    }
   ],
   "source": [
    "out_dir = here(f'03_downstream_analysis/08_gene_importance/xgboost_external_validation/xgboost_TopN_genes/results_{N_GENES}/study')\n",
    "\n",
    "if not os.path.exists(out_dir):\n",
    "    os.makedirs(out_dir)\n",
    "    \n",
    "joblib.dump(study,os.path.join(out_dir, f'{CELL_TYPE}_{SEED}_{TEST_SPLIT_IDX}_xgboost.pkl'))"
   ]
  },
  {
   "cell_type": "code",
   "execution_count": 21,
   "id": "fefdc976",
   "metadata": {
    "execution": {
     "iopub.execute_input": "2025-05-15T16:15:40.997284Z",
     "iopub.status.busy": "2025-05-15T16:15:40.997004Z",
     "iopub.status.idle": "2025-05-15T16:15:43.593031Z",
     "shell.execute_reply": "2025-05-15T16:15:43.592640Z"
    },
    "papermill": {
     "duration": 2.606159,
     "end_time": "2025-05-15T16:15:43.594024",
     "exception": false,
     "start_time": "2025-05-15T16:15:40.987865",
     "status": "completed"
    },
    "tags": []
   },
   "outputs": [
    {
     "data": {
      "text/html": [
       "<style>#sk-container-id-1 {\n",
       "  /* Definition of color scheme common for light and dark mode */\n",
       "  --sklearn-color-text: black;\n",
       "  --sklearn-color-line: gray;\n",
       "  /* Definition of color scheme for unfitted estimators */\n",
       "  --sklearn-color-unfitted-level-0: #fff5e6;\n",
       "  --sklearn-color-unfitted-level-1: #f6e4d2;\n",
       "  --sklearn-color-unfitted-level-2: #ffe0b3;\n",
       "  --sklearn-color-unfitted-level-3: chocolate;\n",
       "  /* Definition of color scheme for fitted estimators */\n",
       "  --sklearn-color-fitted-level-0: #f0f8ff;\n",
       "  --sklearn-color-fitted-level-1: #d4ebff;\n",
       "  --sklearn-color-fitted-level-2: #b3dbfd;\n",
       "  --sklearn-color-fitted-level-3: cornflowerblue;\n",
       "\n",
       "  /* Specific color for light theme */\n",
       "  --sklearn-color-text-on-default-background: var(--sg-text-color, var(--theme-code-foreground, var(--jp-content-font-color1, black)));\n",
       "  --sklearn-color-background: var(--sg-background-color, var(--theme-background, var(--jp-layout-color0, white)));\n",
       "  --sklearn-color-border-box: var(--sg-text-color, var(--theme-code-foreground, var(--jp-content-font-color1, black)));\n",
       "  --sklearn-color-icon: #696969;\n",
       "\n",
       "  @media (prefers-color-scheme: dark) {\n",
       "    /* Redefinition of color scheme for dark theme */\n",
       "    --sklearn-color-text-on-default-background: var(--sg-text-color, var(--theme-code-foreground, var(--jp-content-font-color1, white)));\n",
       "    --sklearn-color-background: var(--sg-background-color, var(--theme-background, var(--jp-layout-color0, #111)));\n",
       "    --sklearn-color-border-box: var(--sg-text-color, var(--theme-code-foreground, var(--jp-content-font-color1, white)));\n",
       "    --sklearn-color-icon: #878787;\n",
       "  }\n",
       "}\n",
       "\n",
       "#sk-container-id-1 {\n",
       "  color: var(--sklearn-color-text);\n",
       "}\n",
       "\n",
       "#sk-container-id-1 pre {\n",
       "  padding: 0;\n",
       "}\n",
       "\n",
       "#sk-container-id-1 input.sk-hidden--visually {\n",
       "  border: 0;\n",
       "  clip: rect(1px 1px 1px 1px);\n",
       "  clip: rect(1px, 1px, 1px, 1px);\n",
       "  height: 1px;\n",
       "  margin: -1px;\n",
       "  overflow: hidden;\n",
       "  padding: 0;\n",
       "  position: absolute;\n",
       "  width: 1px;\n",
       "}\n",
       "\n",
       "#sk-container-id-1 div.sk-dashed-wrapped {\n",
       "  border: 1px dashed var(--sklearn-color-line);\n",
       "  margin: 0 0.4em 0.5em 0.4em;\n",
       "  box-sizing: border-box;\n",
       "  padding-bottom: 0.4em;\n",
       "  background-color: var(--sklearn-color-background);\n",
       "}\n",
       "\n",
       "#sk-container-id-1 div.sk-container {\n",
       "  /* jupyter's `normalize.less` sets `[hidden] { display: none; }`\n",
       "     but bootstrap.min.css set `[hidden] { display: none !important; }`\n",
       "     so we also need the `!important` here to be able to override the\n",
       "     default hidden behavior on the sphinx rendered scikit-learn.org.\n",
       "     See: https://github.com/scikit-learn/scikit-learn/issues/21755 */\n",
       "  display: inline-block !important;\n",
       "  position: relative;\n",
       "}\n",
       "\n",
       "#sk-container-id-1 div.sk-text-repr-fallback {\n",
       "  display: none;\n",
       "}\n",
       "\n",
       "div.sk-parallel-item,\n",
       "div.sk-serial,\n",
       "div.sk-item {\n",
       "  /* draw centered vertical line to link estimators */\n",
       "  background-image: linear-gradient(var(--sklearn-color-text-on-default-background), var(--sklearn-color-text-on-default-background));\n",
       "  background-size: 2px 100%;\n",
       "  background-repeat: no-repeat;\n",
       "  background-position: center center;\n",
       "}\n",
       "\n",
       "/* Parallel-specific style estimator block */\n",
       "\n",
       "#sk-container-id-1 div.sk-parallel-item::after {\n",
       "  content: \"\";\n",
       "  width: 100%;\n",
       "  border-bottom: 2px solid var(--sklearn-color-text-on-default-background);\n",
       "  flex-grow: 1;\n",
       "}\n",
       "\n",
       "#sk-container-id-1 div.sk-parallel {\n",
       "  display: flex;\n",
       "  align-items: stretch;\n",
       "  justify-content: center;\n",
       "  background-color: var(--sklearn-color-background);\n",
       "  position: relative;\n",
       "}\n",
       "\n",
       "#sk-container-id-1 div.sk-parallel-item {\n",
       "  display: flex;\n",
       "  flex-direction: column;\n",
       "}\n",
       "\n",
       "#sk-container-id-1 div.sk-parallel-item:first-child::after {\n",
       "  align-self: flex-end;\n",
       "  width: 50%;\n",
       "}\n",
       "\n",
       "#sk-container-id-1 div.sk-parallel-item:last-child::after {\n",
       "  align-self: flex-start;\n",
       "  width: 50%;\n",
       "}\n",
       "\n",
       "#sk-container-id-1 div.sk-parallel-item:only-child::after {\n",
       "  width: 0;\n",
       "}\n",
       "\n",
       "/* Serial-specific style estimator block */\n",
       "\n",
       "#sk-container-id-1 div.sk-serial {\n",
       "  display: flex;\n",
       "  flex-direction: column;\n",
       "  align-items: center;\n",
       "  background-color: var(--sklearn-color-background);\n",
       "  padding-right: 1em;\n",
       "  padding-left: 1em;\n",
       "}\n",
       "\n",
       "\n",
       "/* Toggleable style: style used for estimator/Pipeline/ColumnTransformer box that is\n",
       "clickable and can be expanded/collapsed.\n",
       "- Pipeline and ColumnTransformer use this feature and define the default style\n",
       "- Estimators will overwrite some part of the style using the `sk-estimator` class\n",
       "*/\n",
       "\n",
       "/* Pipeline and ColumnTransformer style (default) */\n",
       "\n",
       "#sk-container-id-1 div.sk-toggleable {\n",
       "  /* Default theme specific background. It is overwritten whether we have a\n",
       "  specific estimator or a Pipeline/ColumnTransformer */\n",
       "  background-color: var(--sklearn-color-background);\n",
       "}\n",
       "\n",
       "/* Toggleable label */\n",
       "#sk-container-id-1 label.sk-toggleable__label {\n",
       "  cursor: pointer;\n",
       "  display: block;\n",
       "  width: 100%;\n",
       "  margin-bottom: 0;\n",
       "  padding: 0.5em;\n",
       "  box-sizing: border-box;\n",
       "  text-align: center;\n",
       "}\n",
       "\n",
       "#sk-container-id-1 label.sk-toggleable__label-arrow:before {\n",
       "  /* Arrow on the left of the label */\n",
       "  content: \"▸\";\n",
       "  float: left;\n",
       "  margin-right: 0.25em;\n",
       "  color: var(--sklearn-color-icon);\n",
       "}\n",
       "\n",
       "#sk-container-id-1 label.sk-toggleable__label-arrow:hover:before {\n",
       "  color: var(--sklearn-color-text);\n",
       "}\n",
       "\n",
       "/* Toggleable content - dropdown */\n",
       "\n",
       "#sk-container-id-1 div.sk-toggleable__content {\n",
       "  max-height: 0;\n",
       "  max-width: 0;\n",
       "  overflow: hidden;\n",
       "  text-align: left;\n",
       "  /* unfitted */\n",
       "  background-color: var(--sklearn-color-unfitted-level-0);\n",
       "}\n",
       "\n",
       "#sk-container-id-1 div.sk-toggleable__content.fitted {\n",
       "  /* fitted */\n",
       "  background-color: var(--sklearn-color-fitted-level-0);\n",
       "}\n",
       "\n",
       "#sk-container-id-1 div.sk-toggleable__content pre {\n",
       "  margin: 0.2em;\n",
       "  border-radius: 0.25em;\n",
       "  color: var(--sklearn-color-text);\n",
       "  /* unfitted */\n",
       "  background-color: var(--sklearn-color-unfitted-level-0);\n",
       "}\n",
       "\n",
       "#sk-container-id-1 div.sk-toggleable__content.fitted pre {\n",
       "  /* unfitted */\n",
       "  background-color: var(--sklearn-color-fitted-level-0);\n",
       "}\n",
       "\n",
       "#sk-container-id-1 input.sk-toggleable__control:checked~div.sk-toggleable__content {\n",
       "  /* Expand drop-down */\n",
       "  max-height: 200px;\n",
       "  max-width: 100%;\n",
       "  overflow: auto;\n",
       "}\n",
       "\n",
       "#sk-container-id-1 input.sk-toggleable__control:checked~label.sk-toggleable__label-arrow:before {\n",
       "  content: \"▾\";\n",
       "}\n",
       "\n",
       "/* Pipeline/ColumnTransformer-specific style */\n",
       "\n",
       "#sk-container-id-1 div.sk-label input.sk-toggleable__control:checked~label.sk-toggleable__label {\n",
       "  color: var(--sklearn-color-text);\n",
       "  background-color: var(--sklearn-color-unfitted-level-2);\n",
       "}\n",
       "\n",
       "#sk-container-id-1 div.sk-label.fitted input.sk-toggleable__control:checked~label.sk-toggleable__label {\n",
       "  background-color: var(--sklearn-color-fitted-level-2);\n",
       "}\n",
       "\n",
       "/* Estimator-specific style */\n",
       "\n",
       "/* Colorize estimator box */\n",
       "#sk-container-id-1 div.sk-estimator input.sk-toggleable__control:checked~label.sk-toggleable__label {\n",
       "  /* unfitted */\n",
       "  background-color: var(--sklearn-color-unfitted-level-2);\n",
       "}\n",
       "\n",
       "#sk-container-id-1 div.sk-estimator.fitted input.sk-toggleable__control:checked~label.sk-toggleable__label {\n",
       "  /* fitted */\n",
       "  background-color: var(--sklearn-color-fitted-level-2);\n",
       "}\n",
       "\n",
       "#sk-container-id-1 div.sk-label label.sk-toggleable__label,\n",
       "#sk-container-id-1 div.sk-label label {\n",
       "  /* The background is the default theme color */\n",
       "  color: var(--sklearn-color-text-on-default-background);\n",
       "}\n",
       "\n",
       "/* On hover, darken the color of the background */\n",
       "#sk-container-id-1 div.sk-label:hover label.sk-toggleable__label {\n",
       "  color: var(--sklearn-color-text);\n",
       "  background-color: var(--sklearn-color-unfitted-level-2);\n",
       "}\n",
       "\n",
       "/* Label box, darken color on hover, fitted */\n",
       "#sk-container-id-1 div.sk-label.fitted:hover label.sk-toggleable__label.fitted {\n",
       "  color: var(--sklearn-color-text);\n",
       "  background-color: var(--sklearn-color-fitted-level-2);\n",
       "}\n",
       "\n",
       "/* Estimator label */\n",
       "\n",
       "#sk-container-id-1 div.sk-label label {\n",
       "  font-family: monospace;\n",
       "  font-weight: bold;\n",
       "  display: inline-block;\n",
       "  line-height: 1.2em;\n",
       "}\n",
       "\n",
       "#sk-container-id-1 div.sk-label-container {\n",
       "  text-align: center;\n",
       "}\n",
       "\n",
       "/* Estimator-specific */\n",
       "#sk-container-id-1 div.sk-estimator {\n",
       "  font-family: monospace;\n",
       "  border: 1px dotted var(--sklearn-color-border-box);\n",
       "  border-radius: 0.25em;\n",
       "  box-sizing: border-box;\n",
       "  margin-bottom: 0.5em;\n",
       "  /* unfitted */\n",
       "  background-color: var(--sklearn-color-unfitted-level-0);\n",
       "}\n",
       "\n",
       "#sk-container-id-1 div.sk-estimator.fitted {\n",
       "  /* fitted */\n",
       "  background-color: var(--sklearn-color-fitted-level-0);\n",
       "}\n",
       "\n",
       "/* on hover */\n",
       "#sk-container-id-1 div.sk-estimator:hover {\n",
       "  /* unfitted */\n",
       "  background-color: var(--sklearn-color-unfitted-level-2);\n",
       "}\n",
       "\n",
       "#sk-container-id-1 div.sk-estimator.fitted:hover {\n",
       "  /* fitted */\n",
       "  background-color: var(--sklearn-color-fitted-level-2);\n",
       "}\n",
       "\n",
       "/* Specification for estimator info (e.g. \"i\" and \"?\") */\n",
       "\n",
       "/* Common style for \"i\" and \"?\" */\n",
       "\n",
       ".sk-estimator-doc-link,\n",
       "a:link.sk-estimator-doc-link,\n",
       "a:visited.sk-estimator-doc-link {\n",
       "  float: right;\n",
       "  font-size: smaller;\n",
       "  line-height: 1em;\n",
       "  font-family: monospace;\n",
       "  background-color: var(--sklearn-color-background);\n",
       "  border-radius: 1em;\n",
       "  height: 1em;\n",
       "  width: 1em;\n",
       "  text-decoration: none !important;\n",
       "  margin-left: 1ex;\n",
       "  /* unfitted */\n",
       "  border: var(--sklearn-color-unfitted-level-1) 1pt solid;\n",
       "  color: var(--sklearn-color-unfitted-level-1);\n",
       "}\n",
       "\n",
       ".sk-estimator-doc-link.fitted,\n",
       "a:link.sk-estimator-doc-link.fitted,\n",
       "a:visited.sk-estimator-doc-link.fitted {\n",
       "  /* fitted */\n",
       "  border: var(--sklearn-color-fitted-level-1) 1pt solid;\n",
       "  color: var(--sklearn-color-fitted-level-1);\n",
       "}\n",
       "\n",
       "/* On hover */\n",
       "div.sk-estimator:hover .sk-estimator-doc-link:hover,\n",
       ".sk-estimator-doc-link:hover,\n",
       "div.sk-label-container:hover .sk-estimator-doc-link:hover,\n",
       ".sk-estimator-doc-link:hover {\n",
       "  /* unfitted */\n",
       "  background-color: var(--sklearn-color-unfitted-level-3);\n",
       "  color: var(--sklearn-color-background);\n",
       "  text-decoration: none;\n",
       "}\n",
       "\n",
       "div.sk-estimator.fitted:hover .sk-estimator-doc-link.fitted:hover,\n",
       ".sk-estimator-doc-link.fitted:hover,\n",
       "div.sk-label-container:hover .sk-estimator-doc-link.fitted:hover,\n",
       ".sk-estimator-doc-link.fitted:hover {\n",
       "  /* fitted */\n",
       "  background-color: var(--sklearn-color-fitted-level-3);\n",
       "  color: var(--sklearn-color-background);\n",
       "  text-decoration: none;\n",
       "}\n",
       "\n",
       "/* Span, style for the box shown on hovering the info icon */\n",
       ".sk-estimator-doc-link span {\n",
       "  display: none;\n",
       "  z-index: 9999;\n",
       "  position: relative;\n",
       "  font-weight: normal;\n",
       "  right: .2ex;\n",
       "  padding: .5ex;\n",
       "  margin: .5ex;\n",
       "  width: min-content;\n",
       "  min-width: 20ex;\n",
       "  max-width: 50ex;\n",
       "  color: var(--sklearn-color-text);\n",
       "  box-shadow: 2pt 2pt 4pt #999;\n",
       "  /* unfitted */\n",
       "  background: var(--sklearn-color-unfitted-level-0);\n",
       "  border: .5pt solid var(--sklearn-color-unfitted-level-3);\n",
       "}\n",
       "\n",
       ".sk-estimator-doc-link.fitted span {\n",
       "  /* fitted */\n",
       "  background: var(--sklearn-color-fitted-level-0);\n",
       "  border: var(--sklearn-color-fitted-level-3);\n",
       "}\n",
       "\n",
       ".sk-estimator-doc-link:hover span {\n",
       "  display: block;\n",
       "}\n",
       "\n",
       "/* \"?\"-specific style due to the `<a>` HTML tag */\n",
       "\n",
       "#sk-container-id-1 a.estimator_doc_link {\n",
       "  float: right;\n",
       "  font-size: 1rem;\n",
       "  line-height: 1em;\n",
       "  font-family: monospace;\n",
       "  background-color: var(--sklearn-color-background);\n",
       "  border-radius: 1rem;\n",
       "  height: 1rem;\n",
       "  width: 1rem;\n",
       "  text-decoration: none;\n",
       "  /* unfitted */\n",
       "  color: var(--sklearn-color-unfitted-level-1);\n",
       "  border: var(--sklearn-color-unfitted-level-1) 1pt solid;\n",
       "}\n",
       "\n",
       "#sk-container-id-1 a.estimator_doc_link.fitted {\n",
       "  /* fitted */\n",
       "  border: var(--sklearn-color-fitted-level-1) 1pt solid;\n",
       "  color: var(--sklearn-color-fitted-level-1);\n",
       "}\n",
       "\n",
       "/* On hover */\n",
       "#sk-container-id-1 a.estimator_doc_link:hover {\n",
       "  /* unfitted */\n",
       "  background-color: var(--sklearn-color-unfitted-level-3);\n",
       "  color: var(--sklearn-color-background);\n",
       "  text-decoration: none;\n",
       "}\n",
       "\n",
       "#sk-container-id-1 a.estimator_doc_link.fitted:hover {\n",
       "  /* fitted */\n",
       "  background-color: var(--sklearn-color-fitted-level-3);\n",
       "}\n",
       "</style><div id=\"sk-container-id-1\" class=\"sk-top-container\"><div class=\"sk-text-repr-fallback\"><pre>XGBClassifier(base_score=None, booster=None, callbacks=None,\n",
       "              colsample_bylevel=None, colsample_bynode=0.6410035105688879,\n",
       "              colsample_bytree=None, device=None, early_stopping_rounds=None,\n",
       "              enable_categorical=False,\n",
       "              eval_metric=&lt;function custom_f1_score at 0x7f977cd83740&gt;,\n",
       "              feature_types=None, gamma=None, grow_policy=None,\n",
       "              importance_type=None, interaction_constraints=None,\n",
       "              learning_rate=0.08148293210105287, max_bin=None,\n",
       "              max_cat_threshold=None, max_cat_to_onehot=None,\n",
       "              max_delta_step=None, max_depth=5, max_leaves=None,\n",
       "              min_child_weight=15, missing=nan, monotone_constraints=None,\n",
       "              multi_strategy=None, n_estimators=112, n_jobs=None,\n",
       "              num_parallel_tree=None, objective=&#x27;multi:softprob&#x27;, ...)</pre><b>In a Jupyter environment, please rerun this cell to show the HTML representation or trust the notebook. <br />On GitHub, the HTML representation is unable to render, please try loading this page with nbviewer.org.</b></div><div class=\"sk-container\" hidden><div class=\"sk-item\"><div class=\"sk-estimator fitted sk-toggleable\"><input class=\"sk-toggleable__control sk-hidden--visually\" id=\"sk-estimator-id-1\" type=\"checkbox\" checked><label for=\"sk-estimator-id-1\" class=\"sk-toggleable__label fitted sk-toggleable__label-arrow fitted\">&nbsp;XGBClassifier<span class=\"sk-estimator-doc-link fitted\">i<span>Fitted</span></span></label><div class=\"sk-toggleable__content fitted\"><pre>XGBClassifier(base_score=None, booster=None, callbacks=None,\n",
       "              colsample_bylevel=None, colsample_bynode=0.6410035105688879,\n",
       "              colsample_bytree=None, device=None, early_stopping_rounds=None,\n",
       "              enable_categorical=False,\n",
       "              eval_metric=&lt;function custom_f1_score at 0x7f977cd83740&gt;,\n",
       "              feature_types=None, gamma=None, grow_policy=None,\n",
       "              importance_type=None, interaction_constraints=None,\n",
       "              learning_rate=0.08148293210105287, max_bin=None,\n",
       "              max_cat_threshold=None, max_cat_to_onehot=None,\n",
       "              max_delta_step=None, max_depth=5, max_leaves=None,\n",
       "              min_child_weight=15, missing=nan, monotone_constraints=None,\n",
       "              multi_strategy=None, n_estimators=112, n_jobs=None,\n",
       "              num_parallel_tree=None, objective=&#x27;multi:softprob&#x27;, ...)</pre></div> </div></div></div></div>"
      ],
      "text/plain": [
       "XGBClassifier(base_score=None, booster=None, callbacks=None,\n",
       "              colsample_bylevel=None, colsample_bynode=0.6410035105688879,\n",
       "              colsample_bytree=None, device=None, early_stopping_rounds=None,\n",
       "              enable_categorical=False,\n",
       "              eval_metric=<function custom_f1_score at 0x7f977cd83740>,\n",
       "              feature_types=None, gamma=None, grow_policy=None,\n",
       "              importance_type=None, interaction_constraints=None,\n",
       "              learning_rate=0.08148293210105287, max_bin=None,\n",
       "              max_cat_threshold=None, max_cat_to_onehot=None,\n",
       "              max_delta_step=None, max_depth=5, max_leaves=None,\n",
       "              min_child_weight=15, missing=nan, monotone_constraints=None,\n",
       "              multi_strategy=None, n_estimators=112, n_jobs=None,\n",
       "              num_parallel_tree=None, objective='multi:softprob', ...)"
      ]
     },
     "execution_count": 21,
     "metadata": {},
     "output_type": "execute_result"
    }
   ],
   "source": [
    "n_estimators = int(study.best_trial.user_attrs['best_iteration']*1.2)\n",
    "xgb = xgboost.XGBClassifier(\n",
    "        eval_metric=eval_metric,\n",
    "        n_estimators=n_estimators,\n",
    "        **study.best_trial.params\n",
    "    )\n",
    "xgb.fit(\n",
    "    ssp.vstack((X_train, X_val)), \n",
    "    np.concatenate((y_train_enc, y_val_enc)),\n",
    "    verbose=1,\n",
    ")"
   ]
  },
  {
   "cell_type": "code",
   "execution_count": 22,
   "id": "886226c2",
   "metadata": {
    "execution": {
     "iopub.execute_input": "2025-05-15T16:15:43.626197Z",
     "iopub.status.busy": "2025-05-15T16:15:43.625975Z",
     "iopub.status.idle": "2025-05-15T16:15:43.649731Z",
     "shell.execute_reply": "2025-05-15T16:15:43.649390Z"
    },
    "papermill": {
     "duration": 0.046534,
     "end_time": "2025-05-15T16:15:43.650778",
     "exception": false,
     "start_time": "2025-05-15T16:15:43.604244",
     "status": "completed"
    },
    "tags": []
   },
   "outputs": [
    {
     "data": {
      "text/plain": [
       "['/scratch_isilon/groups/singlecell/shared/projects/Inflammation-PBMCs-Atlas/03_downstream_analysis/08_gene_importance/xgboost_external_validation/xgboost_TopN_genes/results_20/best_model/DC_8_4_xgb.json']"
      ]
     },
     "execution_count": 22,
     "metadata": {},
     "output_type": "execute_result"
    }
   ],
   "source": [
    "out_dir = here(f'03_downstream_analysis/08_gene_importance/xgboost_external_validation/xgboost_TopN_genes/results_{N_GENES}/best_model')\n",
    "\n",
    "if not os.path.exists(out_dir):\n",
    "    os.makedirs(out_dir)\n",
    "    \n",
    "joblib.dump(xgb, os.path.join(out_dir, f'{CELL_TYPE}_{SEED}_{TEST_SPLIT_IDX}_xgb.json'))"
   ]
  },
  {
   "cell_type": "code",
   "execution_count": 23,
   "id": "51332fa9",
   "metadata": {
    "execution": {
     "iopub.execute_input": "2025-05-15T16:15:43.672954Z",
     "iopub.status.busy": "2025-05-15T16:15:43.672746Z",
     "iopub.status.idle": "2025-05-15T16:15:43.689051Z",
     "shell.execute_reply": "2025-05-15T16:15:43.688723Z"
    },
    "papermill": {
     "duration": 0.029723,
     "end_time": "2025-05-15T16:15:43.689988",
     "exception": false,
     "start_time": "2025-05-15T16:15:43.660265",
     "status": "completed"
    },
    "tags": []
   },
   "outputs": [],
   "source": [
    "df_pred_test = pd.DataFrame(dict(\n",
    "    cell_id=train_adata.obs.iloc[test_idxs].index.values,\n",
    "    y_true=y_test, \n",
    "    y_true_code=y_test_enc, \n",
    "    y_pred=xgb.predict(X_test))).set_index('cell_id')"
   ]
  },
  {
   "cell_type": "code",
   "execution_count": 24,
   "id": "566ea24b",
   "metadata": {
    "execution": {
     "iopub.execute_input": "2025-05-15T16:15:43.710796Z",
     "iopub.status.busy": "2025-05-15T16:15:43.710593Z",
     "iopub.status.idle": "2025-05-15T16:15:43.727367Z",
     "shell.execute_reply": "2025-05-15T16:15:43.727013Z"
    },
    "papermill": {
     "duration": 0.028187,
     "end_time": "2025-05-15T16:15:43.728217",
     "exception": false,
     "start_time": "2025-05-15T16:15:43.700030",
     "status": "completed"
    },
    "tags": []
   },
   "outputs": [],
   "source": [
    "out_dir = here(f'03_downstream_analysis/08_gene_importance/xgboost_external_validation/xgboost_TopN_genes/results_{N_GENES}/predictions')\n",
    "\n",
    "if not os.path.exists(out_dir):\n",
    "    os.makedirs(out_dir)\n",
    "    \n",
    "df_pred_test.to_csv(os.path.join(out_dir, f'{CELL_TYPE}_{SEED}_{TEST_SPLIT_IDX}_pred_test.zip'))"
   ]
  },
  {
   "cell_type": "code",
   "execution_count": 25,
   "id": "4bbc29c3",
   "metadata": {
    "execution": {
     "iopub.execute_input": "2025-05-15T16:15:43.772998Z",
     "iopub.status.busy": "2025-05-15T16:15:43.772570Z",
     "iopub.status.idle": "2025-05-15T16:15:43.780100Z",
     "shell.execute_reply": "2025-05-15T16:15:43.779672Z"
    },
    "papermill": {
     "duration": 0.02804,
     "end_time": "2025-05-15T16:15:43.780936",
     "exception": false,
     "start_time": "2025-05-15T16:15:43.752896",
     "status": "completed"
    },
    "tags": []
   },
   "outputs": [
    {
     "name": "stderr",
     "output_type": "stream",
     "text": [
      "/scratch_isilon/groups/singlecell/shared/conda_env/xgboost-cpu/lib/python3.12/site-packages/sklearn/metrics/_classification.py:2466: UserWarning: y_pred contains classes not in y_true\n",
      "  warnings.warn(\"y_pred contains classes not in y_true\")\n"
     ]
    }
   ],
   "source": [
    "metrics_dict = dict(\n",
    "    BAS=balanced_accuracy_score(y_true=df_pred_test.y_true_code, y_pred=df_pred_test.y_pred), WF1=f1_score(y_true=df_pred_test.y_true_code, y_pred=df_pred_test.y_pred,average='weighted'))"
   ]
  },
  {
   "cell_type": "code",
   "execution_count": 26,
   "id": "0955ee6b",
   "metadata": {
    "execution": {
     "iopub.execute_input": "2025-05-15T16:15:43.821029Z",
     "iopub.status.busy": "2025-05-15T16:15:43.820792Z",
     "iopub.status.idle": "2025-05-15T16:15:43.823831Z",
     "shell.execute_reply": "2025-05-15T16:15:43.823519Z"
    },
    "papermill": {
     "duration": 0.034633,
     "end_time": "2025-05-15T16:15:43.824609",
     "exception": false,
     "start_time": "2025-05-15T16:15:43.789976",
     "status": "completed"
    },
    "tags": []
   },
   "outputs": [
    {
     "data": {
      "text/plain": [
       "{'BAS': 0.5694979342571045, 'WF1': 0.8204399537271317}"
      ]
     },
     "execution_count": 26,
     "metadata": {},
     "output_type": "execute_result"
    }
   ],
   "source": [
    "metrics_dict"
   ]
  },
  {
   "cell_type": "code",
   "execution_count": 27,
   "id": "23ba50ab",
   "metadata": {
    "execution": {
     "iopub.execute_input": "2025-05-15T16:15:43.844258Z",
     "iopub.status.busy": "2025-05-15T16:15:43.844054Z",
     "iopub.status.idle": "2025-05-15T16:15:43.852968Z",
     "shell.execute_reply": "2025-05-15T16:15:43.852649Z"
    },
    "papermill": {
     "duration": 0.020073,
     "end_time": "2025-05-15T16:15:43.853820",
     "exception": false,
     "start_time": "2025-05-15T16:15:43.833747",
     "status": "completed"
    },
    "tags": []
   },
   "outputs": [
    {
     "data": {
      "text/html": [
       "<div>\n",
       "<style scoped>\n",
       "    .dataframe tbody tr th:only-of-type {\n",
       "        vertical-align: middle;\n",
       "    }\n",
       "\n",
       "    .dataframe tbody tr th {\n",
       "        vertical-align: top;\n",
       "    }\n",
       "\n",
       "    .dataframe thead th {\n",
       "        text-align: right;\n",
       "    }\n",
       "</style>\n",
       "<table border=\"1\" class=\"dataframe\">\n",
       "  <thead>\n",
       "    <tr style=\"text-align: right;\">\n",
       "      <th></th>\n",
       "      <th>BAS</th>\n",
       "      <th>WF1</th>\n",
       "      <th>split_idx</th>\n",
       "      <th>gene_set_seed</th>\n",
       "      <th>cell_type</th>\n",
       "    </tr>\n",
       "  </thead>\n",
       "  <tbody>\n",
       "    <tr>\n",
       "      <th>0</th>\n",
       "      <td>0.569498</td>\n",
       "      <td>0.82044</td>\n",
       "      <td>4</td>\n",
       "      <td>8</td>\n",
       "      <td>DC</td>\n",
       "    </tr>\n",
       "  </tbody>\n",
       "</table>\n",
       "</div>"
      ],
      "text/plain": [
       "        BAS      WF1  split_idx  gene_set_seed cell_type\n",
       "0  0.569498  0.82044          4              8        DC"
      ]
     },
     "execution_count": 27,
     "metadata": {},
     "output_type": "execute_result"
    }
   ],
   "source": [
    "metrics_df = pd.DataFrame.from_dict([metrics_dict]).assign(split_idx=TEST_SPLIT_IDX, gene_set_seed=SEED, cell_type=CELL_TYPE)\n",
    "metrics_df"
   ]
  },
  {
   "cell_type": "code",
   "execution_count": 28,
   "id": "a760df6a",
   "metadata": {
    "execution": {
     "iopub.execute_input": "2025-05-15T16:15:43.880345Z",
     "iopub.status.busy": "2025-05-15T16:15:43.880158Z",
     "iopub.status.idle": "2025-05-15T16:15:43.888662Z",
     "shell.execute_reply": "2025-05-15T16:15:43.888315Z"
    },
    "papermill": {
     "duration": 0.026603,
     "end_time": "2025-05-15T16:15:43.889742",
     "exception": false,
     "start_time": "2025-05-15T16:15:43.863139",
     "status": "completed"
    },
    "tags": []
   },
   "outputs": [],
   "source": [
    "out_dir = here(f'03_downstream_analysis/08_gene_importance/xgboost_external_validation/xgboost_TopN_genes/results_{N_GENES}/metrics')\n",
    "\n",
    "if not os.path.exists(out_dir):\n",
    "    os.makedirs(out_dir)\n",
    "    \n",
    "metrics_df.to_csv(os.path.join(out_dir, f'{CELL_TYPE}_{SEED}_{TEST_SPLIT_IDX}_metrics.zip'))"
   ]
  }
 ],
 "metadata": {
  "kernelspec": {
   "display_name": "Python 3 (ipykernel)",
   "language": "python",
   "name": "python3"
  },
  "language_info": {
   "codemirror_mode": {
    "name": "ipython",
    "version": 3
   },
   "file_extension": ".py",
   "mimetype": "text/x-python",
   "name": "python",
   "nbconvert_exporter": "python",
   "pygments_lexer": "ipython3",
   "version": "3.12.5"
  },
  "papermill": {
   "default_parameters": {},
   "duration": 52.556543,
   "end_time": "2025-05-15T16:15:44.615327",
   "environment_variables": {},
   "exception": null,
   "input_path": "02_xgboost_fitting_external_20genes.ipynb",
   "output_path": "results_20/executed_notebooks/xgboost_fitting_external_CT_DC_GS_8_seed4.ipynb",
   "parameters": {
    "CELL_TYPE": "DC",
    "SEED": 8,
    "TEST_SPLIT_IDX": 4
   },
   "start_time": "2025-05-15T16:14:52.058784",
   "version": "2.6.0"
  }
 },
 "nbformat": 4,
 "nbformat_minor": 5
}