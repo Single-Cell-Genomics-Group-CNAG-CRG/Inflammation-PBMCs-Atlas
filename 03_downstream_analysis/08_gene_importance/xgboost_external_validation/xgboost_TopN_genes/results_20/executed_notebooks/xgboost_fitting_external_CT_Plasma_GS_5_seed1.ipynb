{
 "cells": [
  {
   "cell_type": "code",
   "execution_count": 1,
   "id": "223a945e",
   "metadata": {
    "editable": true,
    "execution": {
     "iopub.execute_input": "2025-05-15T16:15:29.022392Z",
     "iopub.status.busy": "2025-05-15T16:15:29.022068Z",
     "iopub.status.idle": "2025-05-15T16:15:29.025591Z",
     "shell.execute_reply": "2025-05-15T16:15:29.025263Z"
    },
    "papermill": {
     "duration": 0.012615,
     "end_time": "2025-05-15T16:15:29.026630",
     "exception": false,
     "start_time": "2025-05-15T16:15:29.014015",
     "status": "completed"
    },
    "slideshow": {
     "slide_type": ""
    },
    "tags": [
     "parameters"
    ]
   },
   "outputs": [],
   "source": [
    "CELL_TYPE = 'pDC'\n",
    "N_GENES: int = 20\n",
    "SEED = 'shap_studyID' #'disease_NOstudy' 'study_NOdisease' or 'int' or 'shap_studyID'\n",
    "TEST_SPLIT_IDX: int = 1 #[0,4]"
   ]
  },
  {
   "cell_type": "code",
   "execution_count": 2,
   "id": "ac42c51f",
   "metadata": {
    "execution": {
     "iopub.execute_input": "2025-05-15T16:15:29.040230Z",
     "iopub.status.busy": "2025-05-15T16:15:29.039764Z",
     "iopub.status.idle": "2025-05-15T16:15:29.043133Z",
     "shell.execute_reply": "2025-05-15T16:15:29.042720Z"
    },
    "papermill": {
     "duration": 0.011104,
     "end_time": "2025-05-15T16:15:29.044083",
     "exception": false,
     "start_time": "2025-05-15T16:15:29.032979",
     "status": "completed"
    },
    "tags": [
     "injected-parameters"
    ]
   },
   "outputs": [],
   "source": [
    "# Parameters\n",
    "CELL_TYPE = \"Plasma\"\n",
    "SEED = 5\n",
    "TEST_SPLIT_IDX = 1\n"
   ]
  },
  {
   "cell_type": "code",
   "execution_count": 3,
   "id": "61b9b193",
   "metadata": {
    "execution": {
     "iopub.execute_input": "2025-05-15T16:15:29.056907Z",
     "iopub.status.busy": "2025-05-15T16:15:29.056564Z",
     "iopub.status.idle": "2025-05-15T16:15:29.058980Z",
     "shell.execute_reply": "2025-05-15T16:15:29.058662Z"
    },
    "papermill": {
     "duration": 0.010312,
     "end_time": "2025-05-15T16:15:29.060129",
     "exception": false,
     "start_time": "2025-05-15T16:15:29.049817",
     "status": "completed"
    },
    "tags": []
   },
   "outputs": [],
   "source": [
    "N_SPLITS: int = 5\n",
    "N_TRIALS: int = 50"
   ]
  },
  {
   "cell_type": "code",
   "execution_count": 4,
   "id": "98b38e43",
   "metadata": {
    "execution": {
     "iopub.execute_input": "2025-05-15T16:15:29.074499Z",
     "iopub.status.busy": "2025-05-15T16:15:29.074222Z",
     "iopub.status.idle": "2025-05-15T16:15:30.729792Z",
     "shell.execute_reply": "2025-05-15T16:15:30.729061Z"
    },
    "papermill": {
     "duration": 1.665044,
     "end_time": "2025-05-15T16:15:30.731195",
     "exception": false,
     "start_time": "2025-05-15T16:15:29.066151",
     "status": "completed"
    },
    "tags": []
   },
   "outputs": [],
   "source": [
    "import os\n",
    "import sys\n",
    "from pyprojroot.here import here\n",
    "import pandas as pd\n",
    "import anndata as ad\n",
    "import numpy as np\n",
    "import math\n",
    "from sklearn.model_selection import StratifiedGroupKFold\n",
    "from sklearn.preprocessing import LabelEncoder\n",
    "from sklearn.metrics import f1_score\n",
    "import matplotlib.pyplot as plt\n",
    "import seaborn as sns\n",
    "from itertools import product\n",
    "from sklearn.metrics import balanced_accuracy_score, f1_score\n",
    "import optuna\n",
    "\n",
    "import joblib\n",
    "import pickle\n",
    "import datetime\n",
    "\n",
    "import collections\n",
    "\n",
    "import xgboost\n",
    "from sklearn.preprocessing import LabelEncoder\n",
    "\n",
    "import scipy.sparse as ssp\n",
    "import joblib\n",
    "\n",
    "from dotenv import load_dotenv"
   ]
  },
  {
   "cell_type": "code",
   "execution_count": 5,
   "id": "c5cfdebd",
   "metadata": {
    "execution": {
     "iopub.execute_input": "2025-05-15T16:15:30.744740Z",
     "iopub.status.busy": "2025-05-15T16:15:30.744303Z",
     "iopub.status.idle": "2025-05-15T16:15:30.750855Z",
     "shell.execute_reply": "2025-05-15T16:15:30.750483Z"
    },
    "papermill": {
     "duration": 0.01467,
     "end_time": "2025-05-15T16:15:30.751823",
     "exception": false,
     "start_time": "2025-05-15T16:15:30.737153",
     "status": "completed"
    },
    "tags": []
   },
   "outputs": [
    {
     "data": {
      "text/plain": [
       "True"
      ]
     },
     "execution_count": 5,
     "metadata": {},
     "output_type": "execute_result"
    }
   ],
   "source": [
    "load_dotenv()"
   ]
  },
  {
   "cell_type": "markdown",
   "id": "61aa8fb4",
   "metadata": {
    "papermill": {
     "duration": 0.006282,
     "end_time": "2025-05-15T16:15:30.764129",
     "exception": false,
     "start_time": "2025-05-15T16:15:30.757847",
     "status": "completed"
    },
    "tags": []
   },
   "source": [
    "# LOAD DATASET"
   ]
  },
  {
   "cell_type": "code",
   "execution_count": 6,
   "id": "2ca86910",
   "metadata": {
    "execution": {
     "iopub.execute_input": "2025-05-15T16:15:30.777361Z",
     "iopub.status.busy": "2025-05-15T16:15:30.776870Z",
     "iopub.status.idle": "2025-05-15T16:15:30.817504Z",
     "shell.execute_reply": "2025-05-15T16:15:30.816807Z"
    },
    "papermill": {
     "duration": 0.048752,
     "end_time": "2025-05-15T16:15:30.818979",
     "exception": false,
     "start_time": "2025-05-15T16:15:30.770227",
     "status": "completed"
    },
    "tags": []
   },
   "outputs": [],
   "source": [
    "train_adata = ad.read_h5ad(\n",
    "    here(f'03_downstream_analysis/08_gene_importance/xgboost_external_validation/xgboost_TopN_genes/data_cellTypes/EXTERNAL_{CELL_TYPE}.filtered.log1p.h5ad')\n",
    ")"
   ]
  },
  {
   "cell_type": "code",
   "execution_count": 7,
   "id": "6f322804",
   "metadata": {
    "execution": {
     "iopub.execute_input": "2025-05-15T16:15:30.832781Z",
     "iopub.status.busy": "2025-05-15T16:15:30.832480Z",
     "iopub.status.idle": "2025-05-15T16:15:30.843517Z",
     "shell.execute_reply": "2025-05-15T16:15:30.843057Z"
    },
    "papermill": {
     "duration": 0.019305,
     "end_time": "2025-05-15T16:15:30.844487",
     "exception": false,
     "start_time": "2025-05-15T16:15:30.825182",
     "status": "completed"
    },
    "tags": []
   },
   "outputs": [
    {
     "name": "stdout",
     "output_type": "stream",
     "text": [
      "['ENSG00000117523' 'ENSG00000244687' 'ENSG00000155368' 'ENSG00000197956'\n",
      " 'ENSG00000143110' 'ENSG00000112561' 'ENSG00000114423' 'ENSG00000178562'\n",
      " 'ENSG00000254087' 'ENSG00000184557' 'ENSG00000079805' 'ENSG00000170476'\n",
      " 'ENSG00000118260' 'ENSG00000115884' 'ENSG00000258315' 'ENSG00000115145'\n",
      " 'ENSG00000231389' 'ENSG00000134470' 'ENSG00000009790' 'ENSG00000145220'\n",
      " 'ENSG00000204843' 'ENSG00000170581' 'ENSG00000123268' 'ENSG00000141526'\n",
      " 'ENSG00000107223' 'ENSG00000111796' 'ENSG00000136997' 'ENSG00000001167'\n",
      " 'ENSG00000089327' 'ENSG00000239713' 'ENSG00000130724' 'ENSG00000106605'\n",
      " 'ENSG00000152219' 'ENSG00000179218' 'ENSG00000169442' 'ENSG00000204257'\n",
      " 'ENSG00000140379' 'ENSG00000127951' 'ENSG00000027697' 'ENSG00000030110'\n",
      " 'ENSG00000170458' 'ENSG00000006125' 'ENSG00000133134' 'ENSG00000137193'\n",
      " 'ENSG00000100911' 'ENSG00000111335' 'ENSG00000130830' 'ENSG00000100902'\n",
      " 'ENSG00000104904' 'ENSG00000197965' 'ENSG00000107485' 'ENSG00000100365'\n",
      " 'ENSG00000164483' 'ENSG00000137441' 'ENSG00000172005' 'ENSG00000138107'\n",
      " 'ENSG00000100934' 'ENSG00000180008' 'ENSG00000090266' 'ENSG00000145850'\n",
      " 'ENSG00000164543' 'ENSG00000138160' 'ENSG00000104660' 'ENSG00000105851'\n",
      " 'ENSG00000042980' 'ENSG00000106588' 'ENSG00000051382' 'ENSG00000156738'\n",
      " 'ENSG00000105583' 'ENSG00000137331' 'ENSG00000106367' 'ENSG00000115523'\n",
      " 'ENSG00000100453' 'ENSG00000160710' 'ENSG00000089280' 'ENSG00000157873'\n",
      " 'ENSG00000158769' 'ENSG00000121879' 'ENSG00000169564' 'ENSG00000100385'\n",
      " 'ENSG00000171223' 'ENSG00000198668' 'ENSG00000197111' 'ENSG00000117602'\n",
      " 'ENSG00000030582' 'ENSG00000184752' 'ENSG00000173812' 'ENSG00000165527'\n",
      " 'ENSG00000176986' 'ENSG00000231925' 'ENSG00000172009' 'ENSG00000197329'\n",
      " 'ENSG00000197747' 'ENSG00000100368' 'ENSG00000026103' 'ENSG00000092820'\n",
      " 'ENSG00000122862' 'ENSG00000162704' 'ENSG00000104763' 'ENSG00000127184'\n",
      " 'ENSG00000172543' 'ENSG00000175768' 'ENSG00000243646' 'ENSG00000142089'\n",
      " 'ENSG00000136156' 'ENSG00000203747' 'ENSG00000077150']\n"
     ]
    }
   ],
   "source": [
    "if SEED != 'all':\n",
    "    gene_subset = np.load(here(f'03_downstream_analysis/08_gene_importance/xgboost_external_validation/shap_gene_selection/gene_subsets_{N_GENES}/{CELL_TYPE}_{SEED}.npy'), allow_pickle=True)\n",
    "    train_adata = train_adata[:,gene_subset]\n",
    "    print(gene_subset)\n",
    "elif SEED == 'all':\n",
    "    print('Using all genes')\n",
    "else:\n",
    "    raise ValueError()"
   ]
  },
  {
   "cell_type": "code",
   "execution_count": 8,
   "id": "e64d7cc9",
   "metadata": {
    "execution": {
     "iopub.execute_input": "2025-05-15T16:15:30.858425Z",
     "iopub.status.busy": "2025-05-15T16:15:30.858152Z",
     "iopub.status.idle": "2025-05-15T16:15:30.861751Z",
     "shell.execute_reply": "2025-05-15T16:15:30.861404Z"
    },
    "papermill": {
     "duration": 0.011555,
     "end_time": "2025-05-15T16:15:30.862649",
     "exception": false,
     "start_time": "2025-05-15T16:15:30.851094",
     "status": "completed"
    },
    "tags": []
   },
   "outputs": [
    {
     "data": {
      "text/plain": [
       "(542, 107)"
      ]
     },
     "execution_count": 8,
     "metadata": {},
     "output_type": "execute_result"
    }
   ],
   "source": [
    "train_adata.shape"
   ]
  },
  {
   "cell_type": "code",
   "execution_count": 9,
   "id": "198d6f37",
   "metadata": {
    "execution": {
     "iopub.execute_input": "2025-05-15T16:15:30.875881Z",
     "iopub.status.busy": "2025-05-15T16:15:30.875603Z",
     "iopub.status.idle": "2025-05-15T16:15:30.880351Z",
     "shell.execute_reply": "2025-05-15T16:15:30.880012Z"
    },
    "papermill": {
     "duration": 0.012564,
     "end_time": "2025-05-15T16:15:30.881244",
     "exception": false,
     "start_time": "2025-05-15T16:15:30.868680",
     "status": "completed"
    },
    "tags": []
   },
   "outputs": [
    {
     "data": {
      "text/plain": [
       "['RA', 'COVID', 'healthy', 'HIV', 'cirrhosis', 'CD', 'SLE', 'sepsis']\n",
       "Categories (8, object): ['CD', 'COVID', 'HIV', 'RA', 'SLE', 'cirrhosis', 'healthy', 'sepsis']"
      ]
     },
     "execution_count": 9,
     "metadata": {},
     "output_type": "execute_result"
    }
   ],
   "source": [
    "train_adata.obs.disease.unique()"
   ]
  },
  {
   "cell_type": "code",
   "execution_count": 10,
   "id": "17110ef9",
   "metadata": {
    "execution": {
     "iopub.execute_input": "2025-05-15T16:15:30.894203Z",
     "iopub.status.busy": "2025-05-15T16:15:30.893874Z",
     "iopub.status.idle": "2025-05-15T16:15:30.898353Z",
     "shell.execute_reply": "2025-05-15T16:15:30.898022Z"
    },
    "papermill": {
     "duration": 0.012153,
     "end_time": "2025-05-15T16:15:30.899334",
     "exception": false,
     "start_time": "2025-05-15T16:15:30.887181",
     "status": "completed"
    },
    "tags": []
   },
   "outputs": [
    {
     "data": {
      "text/plain": [
       "['SCGT00val_I0364_T0', 'SCGT00val_I036019_T0', 'SCGT00val_I036028_T0', 'SCGT00val_I036024_T0', 'SCGT00val_I036016_T0', ..., '10XGenomics_10XHC2_T0', '10XGenomics_10XHC3_T0', '10XGenomics_10XHC5_T0', '10XGenomics_10XHC7_T0', '10XGenomics_10XHC8_T0']\n",
       "Length: 74\n",
       "Categories (74, object): ['10XGenomics_10XHC1_T0', '10XGenomics_10XHC2_T0', '10XGenomics_10XHC3_T0', '10XGenomics_10XHC4_T0', ..., 'Savage2021_BRISL6_T0', 'Savage2021_BRISL7_T0', 'Savage2021_PIDA_T0', 'Savage2021_PIDB_T0']"
      ]
     },
     "execution_count": 10,
     "metadata": {},
     "output_type": "execute_result"
    }
   ],
   "source": [
    "train_adata.obs.sampleID.unique()"
   ]
  },
  {
   "cell_type": "code",
   "execution_count": 11,
   "id": "e1d318de",
   "metadata": {
    "execution": {
     "iopub.execute_input": "2025-05-15T16:15:30.913631Z",
     "iopub.status.busy": "2025-05-15T16:15:30.913333Z",
     "iopub.status.idle": "2025-05-15T16:15:30.943522Z",
     "shell.execute_reply": "2025-05-15T16:15:30.943011Z"
    },
    "papermill": {
     "duration": 0.039908,
     "end_time": "2025-05-15T16:15:30.945423",
     "exception": false,
     "start_time": "2025-05-15T16:15:30.905515",
     "status": "completed"
    },
    "tags": []
   },
   "outputs": [],
   "source": [
    "all_idxs = np.arange(train_adata.obs.shape[0])\n",
    "left_out_splits = [s[1] for s in StratifiedGroupKFold(n_splits=N_SPLITS).split(all_idxs, train_adata.obs.disease, train_adata.obs.sampleID)]"
   ]
  },
  {
   "cell_type": "code",
   "execution_count": 12,
   "id": "e9ab9969",
   "metadata": {
    "execution": {
     "iopub.execute_input": "2025-05-15T16:15:30.959621Z",
     "iopub.status.busy": "2025-05-15T16:15:30.959324Z",
     "iopub.status.idle": "2025-05-15T16:15:30.963107Z",
     "shell.execute_reply": "2025-05-15T16:15:30.962793Z"
    },
    "papermill": {
     "duration": 0.011759,
     "end_time": "2025-05-15T16:15:30.964025",
     "exception": false,
     "start_time": "2025-05-15T16:15:30.952266",
     "status": "completed"
    },
    "tags": []
   },
   "outputs": [
    {
     "data": {
      "text/plain": [
       "([0, 3, 4], 2, 1)"
      ]
     },
     "execution_count": 12,
     "metadata": {},
     "output_type": "execute_result"
    }
   ],
   "source": [
    "TRAIN_SPLIT_IDXS = [0,1,2,3,4]\n",
    "VAL_SPLIT_IDX = (TEST_SPLIT_IDX + 1) % 5\n",
    "TRAIN_SPLIT_IDXS.remove(TEST_SPLIT_IDX)\n",
    "TRAIN_SPLIT_IDXS.remove(VAL_SPLIT_IDX)\n",
    "TRAIN_SPLIT_IDXS, VAL_SPLIT_IDX, TEST_SPLIT_IDX"
   ]
  },
  {
   "cell_type": "code",
   "execution_count": 13,
   "id": "ba0d4251",
   "metadata": {
    "execution": {
     "iopub.execute_input": "2025-05-15T16:15:30.977788Z",
     "iopub.status.busy": "2025-05-15T16:15:30.977405Z",
     "iopub.status.idle": "2025-05-15T16:15:30.980220Z",
     "shell.execute_reply": "2025-05-15T16:15:30.979866Z"
    },
    "papermill": {
     "duration": 0.01089,
     "end_time": "2025-05-15T16:15:30.981155",
     "exception": false,
     "start_time": "2025-05-15T16:15:30.970265",
     "status": "completed"
    },
    "tags": []
   },
   "outputs": [],
   "source": [
    "train_idxs = np.concatenate([left_out_splits[idx] for idx in TRAIN_SPLIT_IDXS])\n",
    "val_idxs = left_out_splits[VAL_SPLIT_IDX]\n",
    "test_idxs = left_out_splits[TEST_SPLIT_IDX]"
   ]
  },
  {
   "cell_type": "markdown",
   "id": "914002a3",
   "metadata": {
    "papermill": {
     "duration": 0.006471,
     "end_time": "2025-05-15T16:15:30.993730",
     "exception": false,
     "start_time": "2025-05-15T16:15:30.987259",
     "status": "completed"
    },
    "tags": []
   },
   "source": [
    "### SUBSET DATASET INTO TRAIN/TEST/VAL SPLITS"
   ]
  },
  {
   "cell_type": "code",
   "execution_count": 14,
   "id": "bcdfde25",
   "metadata": {
    "execution": {
     "iopub.execute_input": "2025-05-15T16:15:31.006905Z",
     "iopub.status.busy": "2025-05-15T16:15:31.006631Z",
     "iopub.status.idle": "2025-05-15T16:15:31.013945Z",
     "shell.execute_reply": "2025-05-15T16:15:31.013577Z"
    },
    "papermill": {
     "duration": 0.015042,
     "end_time": "2025-05-15T16:15:31.014902",
     "exception": false,
     "start_time": "2025-05-15T16:15:30.999860",
     "status": "completed"
    },
    "tags": []
   },
   "outputs": [
    {
     "data": {
      "text/plain": [
       "((333, 107), (107, 107), (102, 107))"
      ]
     },
     "execution_count": 14,
     "metadata": {},
     "output_type": "execute_result"
    }
   ],
   "source": [
    "X_train = train_adata.X[train_idxs]\n",
    "X_test = train_adata.X[test_idxs]\n",
    "X_val = train_adata.X[val_idxs]\n",
    "X_train.shape, X_test.shape, X_val.shape"
   ]
  },
  {
   "cell_type": "code",
   "execution_count": 15,
   "id": "70640564",
   "metadata": {
    "execution": {
     "iopub.execute_input": "2025-05-15T16:15:31.033966Z",
     "iopub.status.busy": "2025-05-15T16:15:31.033587Z",
     "iopub.status.idle": "2025-05-15T16:15:31.039267Z",
     "shell.execute_reply": "2025-05-15T16:15:31.038911Z"
    },
    "papermill": {
     "duration": 0.017633,
     "end_time": "2025-05-15T16:15:31.040179",
     "exception": false,
     "start_time": "2025-05-15T16:15:31.022546",
     "status": "completed"
    },
    "tags": []
   },
   "outputs": [
    {
     "data": {
      "text/plain": [
       "((333,), (107,), (102,))"
      ]
     },
     "execution_count": 15,
     "metadata": {},
     "output_type": "execute_result"
    }
   ],
   "source": [
    "y_train = train_adata.obs.iloc[train_idxs].disease.values.astype(str)\n",
    "y_test = train_adata.obs.iloc[test_idxs].disease.values.astype(str)\n",
    "y_val = train_adata.obs.iloc[val_idxs].disease.values.astype(str)\n",
    "y_train.shape, y_test.shape, y_val.shape"
   ]
  },
  {
   "cell_type": "code",
   "execution_count": 16,
   "id": "cd72d0d9",
   "metadata": {
    "execution": {
     "iopub.execute_input": "2025-05-15T16:15:31.054784Z",
     "iopub.status.busy": "2025-05-15T16:15:31.054333Z",
     "iopub.status.idle": "2025-05-15T16:15:31.057779Z",
     "shell.execute_reply": "2025-05-15T16:15:31.057459Z"
    },
    "papermill": {
     "duration": 0.012176,
     "end_time": "2025-05-15T16:15:31.058691",
     "exception": false,
     "start_time": "2025-05-15T16:15:31.046515",
     "status": "completed"
    },
    "tags": []
   },
   "outputs": [],
   "source": [
    "lenc = LabelEncoder()\n",
    "y_train_enc = lenc.fit_transform(y_train)\n",
    "y_val_enc = lenc.transform(y_val)\n",
    "y_test_enc = lenc.transform(y_test)"
   ]
  },
  {
   "cell_type": "markdown",
   "id": "14caccb0",
   "metadata": {
    "papermill": {
     "duration": 0.00606,
     "end_time": "2025-05-15T16:15:31.071767",
     "exception": false,
     "start_time": "2025-05-15T16:15:31.065707",
     "status": "completed"
    },
    "tags": []
   },
   "source": [
    "### GENERATE F1 "
   ]
  },
  {
   "cell_type": "code",
   "execution_count": 17,
   "id": "b1fb44a7",
   "metadata": {
    "execution": {
     "iopub.execute_input": "2025-05-15T16:15:31.087092Z",
     "iopub.status.busy": "2025-05-15T16:15:31.086818Z",
     "iopub.status.idle": "2025-05-15T16:15:31.089508Z",
     "shell.execute_reply": "2025-05-15T16:15:31.089198Z"
    },
    "papermill": {
     "duration": 0.011738,
     "end_time": "2025-05-15T16:15:31.090579",
     "exception": false,
     "start_time": "2025-05-15T16:15:31.078841",
     "status": "completed"
    },
    "tags": []
   },
   "outputs": [],
   "source": [
    "def custom_f1_score(y_true, y_pred):\n",
    "    return -f1_score(y_true, y_pred.argmax(1), average='weighted')"
   ]
  },
  {
   "cell_type": "code",
   "execution_count": 18,
   "id": "b74afefb",
   "metadata": {
    "execution": {
     "iopub.execute_input": "2025-05-15T16:15:31.105811Z",
     "iopub.status.busy": "2025-05-15T16:15:31.105497Z",
     "iopub.status.idle": "2025-05-15T16:15:31.109691Z",
     "shell.execute_reply": "2025-05-15T16:15:31.109361Z"
    },
    "papermill": {
     "duration": 0.013051,
     "end_time": "2025-05-15T16:15:31.110600",
     "exception": false,
     "start_time": "2025-05-15T16:15:31.097549",
     "status": "completed"
    },
    "tags": []
   },
   "outputs": [],
   "source": [
    "eval_metric=custom_f1_score\n",
    "eval_metric_name='custom_f1_score'\n",
    "\n",
    "def objective(trial):\n",
    "    params = {\n",
    "        'n_estimators': 1500,\n",
    "        'max_depth': trial.suggest_int('max_depth', 3, 20),\n",
    "        'min_child_weight': trial.suggest_int('min_child_weight', 1, 250),\n",
    "        'subsample': trial.suggest_float('subsample', 0.1, 1.0),\n",
    "        'colsample_bynode': trial.suggest_float('colsample_bynode', 0.1, 1.0),\n",
    "        'learning_rate': trial.suggest_float('learning_rate', 1e-3, 5e-1, log=True),\n",
    "    }\n",
    "    pruning_callback = optuna.integration.XGBoostPruningCallback(trial, f'validation_0-{eval_metric_name}')\n",
    "    es_callback = xgboost.callback.EarlyStopping(20, min_delta=0.001)\n",
    "    xgb = xgboost.XGBClassifier(\n",
    "        eval_metric=eval_metric,\n",
    "        callbacks=[pruning_callback, es_callback],\n",
    "        n_jobs=5,\n",
    "        **params\n",
    "    )\n",
    "    xgb.fit(\n",
    "        X_train, \n",
    "        y_train_enc, \n",
    "        verbose=0,\n",
    "        eval_set=[(X_val, y_val_enc)],\n",
    "    )\n",
    "    trial.set_user_attr('best_iteration', xgb.best_iteration)\n",
    "\n",
    "    return xgb.best_score"
   ]
  },
  {
   "cell_type": "code",
   "execution_count": 19,
   "id": "1692f140",
   "metadata": {
    "execution": {
     "iopub.execute_input": "2025-05-15T16:15:31.145835Z",
     "iopub.status.busy": "2025-05-15T16:15:31.145437Z",
     "iopub.status.idle": "2025-05-15T16:15:42.619076Z",
     "shell.execute_reply": "2025-05-15T16:15:42.618549Z"
    },
    "papermill": {
     "duration": 11.49096,
     "end_time": "2025-05-15T16:15:42.620124",
     "exception": false,
     "start_time": "2025-05-15T16:15:31.129164",
     "status": "completed"
    },
    "scrolled": true,
    "tags": []
   },
   "outputs": [
    {
     "name": "stderr",
     "output_type": "stream",
     "text": [
      "[I 2025-05-15 18:15:31,147] A new study created in memory with name: no-name-68af6fb0-fad9-4243-b3cc-d0768ad5ecb4\n"
     ]
    },
    {
     "name": "stderr",
     "output_type": "stream",
     "text": [
      "[I 2025-05-15 18:15:31,223] Trial 0 finished with value: -0.03313 and parameters: {'max_depth': 9, 'min_child_weight': 238, 'subsample': 0.7587945476302645, 'colsample_bynode': 0.6387926357773329, 'learning_rate': 0.0026368755339723046}. Best is trial 0 with value: -0.03313.\n"
     ]
    },
    {
     "name": "stderr",
     "output_type": "stream",
     "text": [
      "[I 2025-05-15 18:15:31,552] Trial 1 finished with value: -0.333516 and parameters: {'max_depth': 5, 'min_child_weight': 15, 'subsample': 0.8795585311974417, 'colsample_bynode': 0.6410035105688879, 'learning_rate': 0.08148293210105287}. Best is trial 1 with value: -0.333516.\n"
     ]
    },
    {
     "name": "stderr",
     "output_type": "stream",
     "text": [
      "[I 2025-05-15 18:15:31,703] Trial 2 finished with value: -0.03313 and parameters: {'max_depth': 3, 'min_child_weight': 243, 'subsample': 0.8491983767203796, 'colsample_bynode': 0.29110519961044856, 'learning_rate': 0.003095566460242371}. Best is trial 1 with value: -0.333516.\n"
     ]
    },
    {
     "name": "stderr",
     "output_type": "stream",
     "text": [
      "[I 2025-05-15 18:15:31,863] Trial 3 finished with value: -0.03313 and parameters: {'max_depth': 6, 'min_child_weight': 77, 'subsample': 0.5722807884690141, 'colsample_bynode': 0.48875051677790415, 'learning_rate': 0.006109683510122491}. Best is trial 1 with value: -0.333516.\n"
     ]
    },
    {
     "name": "stderr",
     "output_type": "stream",
     "text": [
      "[I 2025-05-15 18:15:32,023] Trial 4 finished with value: -0.03313 and parameters: {'max_depth': 14, 'min_child_weight': 35, 'subsample': 0.3629301836816964, 'colsample_bynode': 0.4297256589643226, 'learning_rate': 0.01701841881702917}. Best is trial 1 with value: -0.333516.\n"
     ]
    },
    {
     "name": "stderr",
     "output_type": "stream",
     "text": [
      "[I 2025-05-15 18:15:32,182] Trial 5 finished with value: -0.03313 and parameters: {'max_depth': 17, 'min_child_weight': 50, 'subsample': 0.5628109945722505, 'colsample_bynode': 0.6331731119758383, 'learning_rate': 0.0013346527038305934}. Best is trial 1 with value: -0.333516.\n"
     ]
    },
    {
     "name": "stderr",
     "output_type": "stream",
     "text": [
      "[I 2025-05-15 18:15:32,347] Trial 6 finished with value: -0.03313 and parameters: {'max_depth': 13, 'min_child_weight': 43, 'subsample': 0.1585464336867516, 'colsample_bynode': 0.9539969835279999, 'learning_rate': 0.4038423798071558}. Best is trial 1 with value: -0.333516.\n"
     ]
    },
    {
     "name": "stderr",
     "output_type": "stream",
     "text": [
      "[I 2025-05-15 18:15:32,508] Trial 7 finished with value: -0.03313 and parameters: {'max_depth': 17, 'min_child_weight': 77, 'subsample': 0.1879049026057455, 'colsample_bynode': 0.7158097238609412, 'learning_rate': 0.015415527060141935}. Best is trial 1 with value: -0.333516.\n"
     ]
    },
    {
     "name": "stderr",
     "output_type": "stream",
     "text": [
      "[I 2025-05-15 18:15:32,673] Trial 8 finished with value: -0.03313 and parameters: {'max_depth': 5, 'min_child_weight': 124, 'subsample': 0.13094966900369656, 'colsample_bynode': 0.9183883618709039, 'learning_rate': 0.004993895014755658}. Best is trial 1 with value: -0.333516.\n"
     ]
    },
    {
     "name": "stderr",
     "output_type": "stream",
     "text": [
      "[I 2025-05-15 18:15:32,839] Trial 9 finished with value: -0.03313 and parameters: {'max_depth': 14, 'min_child_weight': 78, 'subsample': 0.5680612190600297, 'colsample_bynode': 0.5920392514089517, 'learning_rate': 0.0031543990308330965}. Best is trial 1 with value: -0.333516.\n"
     ]
    },
    {
     "name": "stderr",
     "output_type": "stream",
     "text": [
      "[I 2025-05-15 18:15:33,165] Trial 10 pruned. Trial was pruned at iteration 21.\n"
     ]
    },
    {
     "name": "stderr",
     "output_type": "stream",
     "text": [
      "[I 2025-05-15 18:15:33,340] Trial 11 finished with value: -0.03313 and parameters: {'max_depth': 9, 'min_child_weight': 244, 'subsample': 0.7759918276625105, 'colsample_bynode': 0.7714157288516674, 'learning_rate': 0.06989197786403963}. Best is trial 1 with value: -0.333516.\n"
     ]
    },
    {
     "name": "stderr",
     "output_type": "stream",
     "text": [
      "[I 2025-05-15 18:15:33,519] Trial 12 finished with value: -0.03313 and parameters: {'max_depth': 9, 'min_child_weight': 187, 'subsample': 0.7810886706853567, 'colsample_bynode': 0.7908156974794198, 'learning_rate': 0.0852514223226423}. Best is trial 1 with value: -0.333516.\n"
     ]
    },
    {
     "name": "stderr",
     "output_type": "stream",
     "text": [
      "[I 2025-05-15 18:15:33,695] Trial 13 finished with value: -0.03313 and parameters: {'max_depth': 7, 'min_child_weight': 173, 'subsample': 0.9985711586801754, 'colsample_bynode': 0.3542314315933605, 'learning_rate': 0.05535376435186281}. Best is trial 1 with value: -0.333516.\n"
     ]
    },
    {
     "name": "stderr",
     "output_type": "stream",
     "text": [
      "[I 2025-05-15 18:15:33,866] Trial 14 finished with value: -0.03313 and parameters: {'max_depth': 4, 'min_child_weight': 140, 'subsample': 0.7252785471204157, 'colsample_bynode': 0.6251170185028069, 'learning_rate': 0.028603454172866558}. Best is trial 1 with value: -0.333516.\n"
     ]
    },
    {
     "name": "stderr",
     "output_type": "stream",
     "text": [
      "[I 2025-05-15 18:15:34,042] Trial 15 finished with value: -0.03313 and parameters: {'max_depth': 20, 'min_child_weight': 204, 'subsample': 0.6803150824063098, 'colsample_bynode': 0.8501087117926959, 'learning_rate': 0.001019745930894758}. Best is trial 1 with value: -0.333516.\n"
     ]
    },
    {
     "name": "stderr",
     "output_type": "stream",
     "text": [
      "[I 2025-05-15 18:15:34,216] Trial 16 finished with value: -0.03313 and parameters: {'max_depth': 8, 'min_child_weight': 121, 'subsample': 0.8625632182518037, 'colsample_bynode': 0.6970657857507844, 'learning_rate': 0.18961687234093502}. Best is trial 1 with value: -0.333516.\n"
     ]
    },
    {
     "name": "stderr",
     "output_type": "stream",
     "text": [
      "[I 2025-05-15 18:15:34,608] Trial 17 finished with value: -0.320147 and parameters: {'max_depth': 11, 'min_child_weight': 4, 'subsample': 0.4301895761585591, 'colsample_bynode': 0.515903282561015, 'learning_rate': 0.009410915946792322}. Best is trial 1 with value: -0.333516.\n"
     ]
    },
    {
     "name": "stderr",
     "output_type": "stream",
     "text": [
      "[I 2025-05-15 18:15:34,924] Trial 18 finished with value: -0.315764 and parameters: {'max_depth': 11, 'min_child_weight': 6, 'subsample': 0.36933317486078265, 'colsample_bynode': 0.5260950582681523, 'learning_rate': 0.010196304357477535}. Best is trial 1 with value: -0.333516.\n"
     ]
    },
    {
     "name": "stderr",
     "output_type": "stream",
     "text": [
      "[I 2025-05-15 18:15:35,119] Trial 19 finished with value: -0.166667 and parameters: {'max_depth': 11, 'min_child_weight': 22, 'subsample': 0.3762029913865458, 'colsample_bynode': 0.23825222843275057, 'learning_rate': 0.03320644976210297}. Best is trial 1 with value: -0.333516.\n"
     ]
    },
    {
     "name": "stderr",
     "output_type": "stream",
     "text": [
      "[I 2025-05-15 18:15:35,310] Trial 20 finished with value: -0.03313 and parameters: {'max_depth': 16, 'min_child_weight': 99, 'subsample': 0.2893313626528008, 'colsample_bynode': 0.422076800278259, 'learning_rate': 0.13046796300586744}. Best is trial 1 with value: -0.333516.\n"
     ]
    },
    {
     "name": "stderr",
     "output_type": "stream",
     "text": [
      "[I 2025-05-15 18:15:35,803] Trial 21 finished with value: -0.348054 and parameters: {'max_depth': 11, 'min_child_weight': 1, 'subsample': 0.4579357369861081, 'colsample_bynode': 0.5266698969743204, 'learning_rate': 0.00821305438246462}. Best is trial 21 with value: -0.348054.\n"
     ]
    },
    {
     "name": "stderr",
     "output_type": "stream",
     "text": [
      "[I 2025-05-15 18:15:35,993] Trial 22 finished with value: -0.166667 and parameters: {'max_depth': 12, 'min_child_weight': 23, 'subsample': 0.46909617368627254, 'colsample_bynode': 0.5201569327541395, 'learning_rate': 0.011535655565556352}. Best is trial 21 with value: -0.348054.\n"
     ]
    },
    {
     "name": "stderr",
     "output_type": "stream",
     "text": [
      "[I 2025-05-15 18:15:36,174] Trial 23 finished with value: -0.03313 and parameters: {'max_depth': 11, 'min_child_weight': 60, 'subsample': 0.48097953900062185, 'colsample_bynode': 0.4396097362124818, 'learning_rate': 0.007321285395096356}. Best is trial 21 with value: -0.348054.\n"
     ]
    },
    {
     "name": "stderr",
     "output_type": "stream",
     "text": [
      "[I 2025-05-15 18:15:36,531] Trial 24 finished with value: -0.343976 and parameters: {'max_depth': 7, 'min_child_weight': 4, 'subsample': 0.6565513732936796, 'colsample_bynode': 0.5646018364042827, 'learning_rate': 0.036902517732102895}. Best is trial 21 with value: -0.348054.\n"
     ]
    },
    {
     "name": "stderr",
     "output_type": "stream",
     "text": [
      "[I 2025-05-15 18:15:36,718] Trial 25 finished with value: -0.166667 and parameters: {'max_depth': 6, 'min_child_weight': 30, 'subsample': 0.6323659038961531, 'colsample_bynode': 0.6907936098692931, 'learning_rate': 0.048225094457069045}. Best is trial 21 with value: -0.348054.\n"
     ]
    },
    {
     "name": "stderr",
     "output_type": "stream",
     "text": [
      "[I 2025-05-15 18:15:36,907] Trial 26 finished with value: -0.166667 and parameters: {'max_depth': 4, 'min_child_weight': 57, 'subsample': 0.9084684401370251, 'colsample_bynode': 0.31521499613431425, 'learning_rate': 0.02991825531883921}. Best is trial 21 with value: -0.348054.\n"
     ]
    },
    {
     "name": "stderr",
     "output_type": "stream",
     "text": [
      "[I 2025-05-15 18:15:37,141] Trial 27 pruned. Trial was pruned at iteration 21.\n"
     ]
    },
    {
     "name": "stderr",
     "output_type": "stream",
     "text": [
      "[I 2025-05-15 18:15:37,348] Trial 28 finished with value: -0.03313 and parameters: {'max_depth': 3, 'min_child_weight': 100, 'subsample': 0.23253522370011653, 'colsample_bynode': 0.8094643907024937, 'learning_rate': 0.46222039106157503}. Best is trial 21 with value: -0.348054.\n"
     ]
    },
    {
     "name": "stderr",
     "output_type": "stream",
     "text": [
      "[I 2025-05-15 18:15:37,552] Trial 29 finished with value: -0.166667 and parameters: {'max_depth': 8, 'min_child_weight': 35, 'subsample': 0.4977079847329188, 'colsample_bynode': 0.666590618067428, 'learning_rate': 0.01947583265486208}. Best is trial 21 with value: -0.348054.\n"
     ]
    },
    {
     "name": "stderr",
     "output_type": "stream",
     "text": [
      "[I 2025-05-15 18:15:37,754] Trial 30 finished with value: -0.03313 and parameters: {'max_depth': 5, 'min_child_weight': 150, 'subsample': 0.7231262914719814, 'colsample_bynode': 0.5865782261374956, 'learning_rate': 0.29366139837608946}. Best is trial 21 with value: -0.348054.\n"
     ]
    },
    {
     "name": "stderr",
     "output_type": "stream",
     "text": [
      "[I 2025-05-15 18:15:38,089] Trial 31 finished with value: -0.30437 and parameters: {'max_depth': 10, 'min_child_weight': 3, 'subsample': 0.4126559409682942, 'colsample_bynode': 0.4784449222955477, 'learning_rate': 0.009582141605138683}. Best is trial 21 with value: -0.348054.\n"
     ]
    },
    {
     "name": "stderr",
     "output_type": "stream",
     "text": [
      "[I 2025-05-15 18:15:38,286] Trial 32 pruned. Trial was pruned at iteration 21.\n"
     ]
    },
    {
     "name": "stderr",
     "output_type": "stream",
     "text": [
      "[I 2025-05-15 18:15:38,528] Trial 33 pruned. Trial was pruned at iteration 21.\n"
     ]
    },
    {
     "name": "stderr",
     "output_type": "stream",
     "text": [
      "[I 2025-05-15 18:15:38,721] Trial 34 finished with value: -0.03313 and parameters: {'max_depth': 10, 'min_child_weight': 64, 'subsample': 0.8226392658010252, 'colsample_bynode': 0.47313258093544364, 'learning_rate': 0.022223443343363427}. Best is trial 21 with value: -0.348054.\n"
     ]
    },
    {
     "name": "stderr",
     "output_type": "stream",
     "text": [
      "[I 2025-05-15 18:15:38,926] Trial 35 finished with value: -0.166667 and parameters: {'max_depth': 15, 'min_child_weight': 45, 'subsample': 0.6234046723940351, 'colsample_bynode': 0.6358967578651702, 'learning_rate': 0.002217977560076707}. Best is trial 21 with value: -0.348054.\n"
     ]
    },
    {
     "name": "stderr",
     "output_type": "stream",
     "text": [
      "[I 2025-05-15 18:15:39,134] Trial 36 finished with value: -0.166667 and parameters: {'max_depth': 13, 'min_child_weight': 35, 'subsample': 0.5038114053526235, 'colsample_bynode': 0.7502007942829524, 'learning_rate': 0.006631460652643452}. Best is trial 21 with value: -0.348054.\n"
     ]
    },
    {
     "name": "stderr",
     "output_type": "stream",
     "text": [
      "[I 2025-05-15 18:15:39,339] Trial 37 finished with value: -0.166667 and parameters: {'max_depth': 5, 'min_child_weight': 14, 'subsample': 0.3096146373913935, 'colsample_bynode': 0.39953794872532145, 'learning_rate': 0.014714741702461199}. Best is trial 21 with value: -0.348054.\n"
     ]
    },
    {
     "name": "stderr",
     "output_type": "stream",
     "text": [
      "[I 2025-05-15 18:15:39,545] Trial 38 finished with value: -0.166667 and parameters: {'max_depth': 3, 'min_child_weight': 47, 'subsample': 0.9134710371310861, 'colsample_bynode': 0.5015161055952894, 'learning_rate': 0.0017395417211970828}. Best is trial 21 with value: -0.348054.\n"
     ]
    },
    {
     "name": "stderr",
     "output_type": "stream",
     "text": [
      "[I 2025-05-15 18:15:39,740] Trial 39 finished with value: -0.166667 and parameters: {'max_depth': 6, 'min_child_weight': 29, 'subsample': 0.5363370106196876, 'colsample_bynode': 0.21990539340610776, 'learning_rate': 0.004266816532432025}. Best is trial 21 with value: -0.348054.\n"
     ]
    },
    {
     "name": "stderr",
     "output_type": "stream",
     "text": [
      "[I 2025-05-15 18:15:39,944] Trial 40 finished with value: -0.03313 and parameters: {'max_depth': 13, 'min_child_weight': 218, 'subsample': 0.42623929632976854, 'colsample_bynode': 0.6028559206328793, 'learning_rate': 0.014792413066878354}. Best is trial 21 with value: -0.348054.\n"
     ]
    },
    {
     "name": "stderr",
     "output_type": "stream",
     "text": [
      "[I 2025-05-15 18:15:40,262] Trial 41 finished with value: -0.363072 and parameters: {'max_depth': 10, 'min_child_weight': 2, 'subsample': 0.39257977686065043, 'colsample_bynode': 0.5603530864218136, 'learning_rate': 0.008819730257104119}. Best is trial 41 with value: -0.363072.\n"
     ]
    },
    {
     "name": "stderr",
     "output_type": "stream",
     "text": [
      "[I 2025-05-15 18:15:40,567] Trial 42 finished with value: -0.308187 and parameters: {'max_depth': 10, 'min_child_weight': 2, 'subsample': 0.3380978690537726, 'colsample_bynode': 0.5717200293704853, 'learning_rate': 0.008738078565057919}. Best is trial 41 with value: -0.363072.\n"
     ]
    },
    {
     "name": "stderr",
     "output_type": "stream",
     "text": [
      "[I 2025-05-15 18:15:40,763] Trial 43 finished with value: -0.166667 and parameters: {'max_depth': 8, 'min_child_weight': 14, 'subsample': 0.23796706432893908, 'colsample_bynode': 0.6596699946174368, 'learning_rate': 0.00578774297698265}. Best is trial 41 with value: -0.363072.\n"
     ]
    },
    {
     "name": "stderr",
     "output_type": "stream",
     "text": [
      "[I 2025-05-15 18:15:40,960] Trial 44 finished with value: -0.166667 and parameters: {'max_depth': 10, 'min_child_weight': 40, 'subsample': 0.5537484372202921, 'colsample_bynode': 0.5424938501675863, 'learning_rate': 0.054171024936657285}. Best is trial 41 with value: -0.363072.\n"
     ]
    },
    {
     "name": "stderr",
     "output_type": "stream",
     "text": [
      "[I 2025-05-15 18:15:41,159] Trial 45 finished with value: -0.166667 and parameters: {'max_depth': 14, 'min_child_weight': 24, 'subsample': 0.44429429121234915, 'colsample_bynode': 0.4617605841893383, 'learning_rate': 0.012740049048980703}. Best is trial 41 with value: -0.363072.\n"
     ]
    },
    {
     "name": "stderr",
     "output_type": "stream",
     "text": [
      "[I 2025-05-15 18:15:41,304] Trial 46 pruned. Trial was pruned at iteration 0.\n"
     ]
    },
    {
     "name": "stderr",
     "output_type": "stream",
     "text": [
      "[I 2025-05-15 18:15:42,177] Trial 47 finished with value: -0.354172 and parameters: {'max_depth': 8, 'min_child_weight': 1, 'subsample': 0.3862494415863606, 'colsample_bynode': 0.5044857205780174, 'learning_rate': 0.07552190947318929}. Best is trial 41 with value: -0.363072.\n"
     ]
    },
    {
     "name": "stderr",
     "output_type": "stream",
     "text": [
      "[I 2025-05-15 18:15:42,312] Trial 48 pruned. Trial was pruned at iteration 0.\n"
     ]
    },
    {
     "name": "stderr",
     "output_type": "stream",
     "text": [
      "[I 2025-05-15 18:15:42,514] Trial 49 pruned. Trial was pruned at iteration 21.\n"
     ]
    }
   ],
   "source": [
    "sampler = optuna.samplers.TPESampler(seed=42)\n",
    "study = optuna.create_study(direction='minimize', sampler=sampler)\n",
    "study.optimize(objective, n_trials=N_TRIALS, gc_after_trial=True)"
   ]
  },
  {
   "cell_type": "code",
   "execution_count": 20,
   "id": "0af3e817",
   "metadata": {
    "execution": {
     "iopub.execute_input": "2025-05-15T16:15:42.640650Z",
     "iopub.status.busy": "2025-05-15T16:15:42.640267Z",
     "iopub.status.idle": "2025-05-15T16:15:42.681087Z",
     "shell.execute_reply": "2025-05-15T16:15:42.680719Z"
    },
    "papermill": {
     "duration": 0.052464,
     "end_time": "2025-05-15T16:15:42.682015",
     "exception": false,
     "start_time": "2025-05-15T16:15:42.629551",
     "status": "completed"
    },
    "tags": []
   },
   "outputs": [
    {
     "data": {
      "text/plain": [
       "['/scratch_isilon/groups/singlecell/shared/projects/Inflammation-PBMCs-Atlas/03_downstream_analysis/08_gene_importance/xgboost_external_validation/xgboost_TopN_genes/results_20/study/Plasma_5_1_xgboost.pkl']"
      ]
     },
     "execution_count": 20,
     "metadata": {},
     "output_type": "execute_result"
    }
   ],
   "source": [
    "out_dir = here(f'03_downstream_analysis/08_gene_importance/xgboost_external_validation/xgboost_TopN_genes/results_{N_GENES}/study')\n",
    "\n",
    "if not os.path.exists(out_dir):\n",
    "    os.makedirs(out_dir)\n",
    "    \n",
    "joblib.dump(study,os.path.join(out_dir, f'{CELL_TYPE}_{SEED}_{TEST_SPLIT_IDX}_xgboost.pkl'))"
   ]
  },
  {
   "cell_type": "code",
   "execution_count": 21,
   "id": "a3221319",
   "metadata": {
    "execution": {
     "iopub.execute_input": "2025-05-15T16:15:42.699170Z",
     "iopub.status.busy": "2025-05-15T16:15:42.698972Z",
     "iopub.status.idle": "2025-05-15T16:15:42.710798Z",
     "shell.execute_reply": "2025-05-15T16:15:42.710434Z"
    },
    "papermill": {
     "duration": 0.023074,
     "end_time": "2025-05-15T16:15:42.713682",
     "exception": false,
     "start_time": "2025-05-15T16:15:42.690608",
     "status": "completed"
    },
    "tags": []
   },
   "outputs": [
    {
     "data": {
      "text/html": [
       "<style>#sk-container-id-1 {\n",
       "  /* Definition of color scheme common for light and dark mode */\n",
       "  --sklearn-color-text: black;\n",
       "  --sklearn-color-line: gray;\n",
       "  /* Definition of color scheme for unfitted estimators */\n",
       "  --sklearn-color-unfitted-level-0: #fff5e6;\n",
       "  --sklearn-color-unfitted-level-1: #f6e4d2;\n",
       "  --sklearn-color-unfitted-level-2: #ffe0b3;\n",
       "  --sklearn-color-unfitted-level-3: chocolate;\n",
       "  /* Definition of color scheme for fitted estimators */\n",
       "  --sklearn-color-fitted-level-0: #f0f8ff;\n",
       "  --sklearn-color-fitted-level-1: #d4ebff;\n",
       "  --sklearn-color-fitted-level-2: #b3dbfd;\n",
       "  --sklearn-color-fitted-level-3: cornflowerblue;\n",
       "\n",
       "  /* Specific color for light theme */\n",
       "  --sklearn-color-text-on-default-background: var(--sg-text-color, var(--theme-code-foreground, var(--jp-content-font-color1, black)));\n",
       "  --sklearn-color-background: var(--sg-background-color, var(--theme-background, var(--jp-layout-color0, white)));\n",
       "  --sklearn-color-border-box: var(--sg-text-color, var(--theme-code-foreground, var(--jp-content-font-color1, black)));\n",
       "  --sklearn-color-icon: #696969;\n",
       "\n",
       "  @media (prefers-color-scheme: dark) {\n",
       "    /* Redefinition of color scheme for dark theme */\n",
       "    --sklearn-color-text-on-default-background: var(--sg-text-color, var(--theme-code-foreground, var(--jp-content-font-color1, white)));\n",
       "    --sklearn-color-background: var(--sg-background-color, var(--theme-background, var(--jp-layout-color0, #111)));\n",
       "    --sklearn-color-border-box: var(--sg-text-color, var(--theme-code-foreground, var(--jp-content-font-color1, white)));\n",
       "    --sklearn-color-icon: #878787;\n",
       "  }\n",
       "}\n",
       "\n",
       "#sk-container-id-1 {\n",
       "  color: var(--sklearn-color-text);\n",
       "}\n",
       "\n",
       "#sk-container-id-1 pre {\n",
       "  padding: 0;\n",
       "}\n",
       "\n",
       "#sk-container-id-1 input.sk-hidden--visually {\n",
       "  border: 0;\n",
       "  clip: rect(1px 1px 1px 1px);\n",
       "  clip: rect(1px, 1px, 1px, 1px);\n",
       "  height: 1px;\n",
       "  margin: -1px;\n",
       "  overflow: hidden;\n",
       "  padding: 0;\n",
       "  position: absolute;\n",
       "  width: 1px;\n",
       "}\n",
       "\n",
       "#sk-container-id-1 div.sk-dashed-wrapped {\n",
       "  border: 1px dashed var(--sklearn-color-line);\n",
       "  margin: 0 0.4em 0.5em 0.4em;\n",
       "  box-sizing: border-box;\n",
       "  padding-bottom: 0.4em;\n",
       "  background-color: var(--sklearn-color-background);\n",
       "}\n",
       "\n",
       "#sk-container-id-1 div.sk-container {\n",
       "  /* jupyter's `normalize.less` sets `[hidden] { display: none; }`\n",
       "     but bootstrap.min.css set `[hidden] { display: none !important; }`\n",
       "     so we also need the `!important` here to be able to override the\n",
       "     default hidden behavior on the sphinx rendered scikit-learn.org.\n",
       "     See: https://github.com/scikit-learn/scikit-learn/issues/21755 */\n",
       "  display: inline-block !important;\n",
       "  position: relative;\n",
       "}\n",
       "\n",
       "#sk-container-id-1 div.sk-text-repr-fallback {\n",
       "  display: none;\n",
       "}\n",
       "\n",
       "div.sk-parallel-item,\n",
       "div.sk-serial,\n",
       "div.sk-item {\n",
       "  /* draw centered vertical line to link estimators */\n",
       "  background-image: linear-gradient(var(--sklearn-color-text-on-default-background), var(--sklearn-color-text-on-default-background));\n",
       "  background-size: 2px 100%;\n",
       "  background-repeat: no-repeat;\n",
       "  background-position: center center;\n",
       "}\n",
       "\n",
       "/* Parallel-specific style estimator block */\n",
       "\n",
       "#sk-container-id-1 div.sk-parallel-item::after {\n",
       "  content: \"\";\n",
       "  width: 100%;\n",
       "  border-bottom: 2px solid var(--sklearn-color-text-on-default-background);\n",
       "  flex-grow: 1;\n",
       "}\n",
       "\n",
       "#sk-container-id-1 div.sk-parallel {\n",
       "  display: flex;\n",
       "  align-items: stretch;\n",
       "  justify-content: center;\n",
       "  background-color: var(--sklearn-color-background);\n",
       "  position: relative;\n",
       "}\n",
       "\n",
       "#sk-container-id-1 div.sk-parallel-item {\n",
       "  display: flex;\n",
       "  flex-direction: column;\n",
       "}\n",
       "\n",
       "#sk-container-id-1 div.sk-parallel-item:first-child::after {\n",
       "  align-self: flex-end;\n",
       "  width: 50%;\n",
       "}\n",
       "\n",
       "#sk-container-id-1 div.sk-parallel-item:last-child::after {\n",
       "  align-self: flex-start;\n",
       "  width: 50%;\n",
       "}\n",
       "\n",
       "#sk-container-id-1 div.sk-parallel-item:only-child::after {\n",
       "  width: 0;\n",
       "}\n",
       "\n",
       "/* Serial-specific style estimator block */\n",
       "\n",
       "#sk-container-id-1 div.sk-serial {\n",
       "  display: flex;\n",
       "  flex-direction: column;\n",
       "  align-items: center;\n",
       "  background-color: var(--sklearn-color-background);\n",
       "  padding-right: 1em;\n",
       "  padding-left: 1em;\n",
       "}\n",
       "\n",
       "\n",
       "/* Toggleable style: style used for estimator/Pipeline/ColumnTransformer box that is\n",
       "clickable and can be expanded/collapsed.\n",
       "- Pipeline and ColumnTransformer use this feature and define the default style\n",
       "- Estimators will overwrite some part of the style using the `sk-estimator` class\n",
       "*/\n",
       "\n",
       "/* Pipeline and ColumnTransformer style (default) */\n",
       "\n",
       "#sk-container-id-1 div.sk-toggleable {\n",
       "  /* Default theme specific background. It is overwritten whether we have a\n",
       "  specific estimator or a Pipeline/ColumnTransformer */\n",
       "  background-color: var(--sklearn-color-background);\n",
       "}\n",
       "\n",
       "/* Toggleable label */\n",
       "#sk-container-id-1 label.sk-toggleable__label {\n",
       "  cursor: pointer;\n",
       "  display: block;\n",
       "  width: 100%;\n",
       "  margin-bottom: 0;\n",
       "  padding: 0.5em;\n",
       "  box-sizing: border-box;\n",
       "  text-align: center;\n",
       "}\n",
       "\n",
       "#sk-container-id-1 label.sk-toggleable__label-arrow:before {\n",
       "  /* Arrow on the left of the label */\n",
       "  content: \"▸\";\n",
       "  float: left;\n",
       "  margin-right: 0.25em;\n",
       "  color: var(--sklearn-color-icon);\n",
       "}\n",
       "\n",
       "#sk-container-id-1 label.sk-toggleable__label-arrow:hover:before {\n",
       "  color: var(--sklearn-color-text);\n",
       "}\n",
       "\n",
       "/* Toggleable content - dropdown */\n",
       "\n",
       "#sk-container-id-1 div.sk-toggleable__content {\n",
       "  max-height: 0;\n",
       "  max-width: 0;\n",
       "  overflow: hidden;\n",
       "  text-align: left;\n",
       "  /* unfitted */\n",
       "  background-color: var(--sklearn-color-unfitted-level-0);\n",
       "}\n",
       "\n",
       "#sk-container-id-1 div.sk-toggleable__content.fitted {\n",
       "  /* fitted */\n",
       "  background-color: var(--sklearn-color-fitted-level-0);\n",
       "}\n",
       "\n",
       "#sk-container-id-1 div.sk-toggleable__content pre {\n",
       "  margin: 0.2em;\n",
       "  border-radius: 0.25em;\n",
       "  color: var(--sklearn-color-text);\n",
       "  /* unfitted */\n",
       "  background-color: var(--sklearn-color-unfitted-level-0);\n",
       "}\n",
       "\n",
       "#sk-container-id-1 div.sk-toggleable__content.fitted pre {\n",
       "  /* unfitted */\n",
       "  background-color: var(--sklearn-color-fitted-level-0);\n",
       "}\n",
       "\n",
       "#sk-container-id-1 input.sk-toggleable__control:checked~div.sk-toggleable__content {\n",
       "  /* Expand drop-down */\n",
       "  max-height: 200px;\n",
       "  max-width: 100%;\n",
       "  overflow: auto;\n",
       "}\n",
       "\n",
       "#sk-container-id-1 input.sk-toggleable__control:checked~label.sk-toggleable__label-arrow:before {\n",
       "  content: \"▾\";\n",
       "}\n",
       "\n",
       "/* Pipeline/ColumnTransformer-specific style */\n",
       "\n",
       "#sk-container-id-1 div.sk-label input.sk-toggleable__control:checked~label.sk-toggleable__label {\n",
       "  color: var(--sklearn-color-text);\n",
       "  background-color: var(--sklearn-color-unfitted-level-2);\n",
       "}\n",
       "\n",
       "#sk-container-id-1 div.sk-label.fitted input.sk-toggleable__control:checked~label.sk-toggleable__label {\n",
       "  background-color: var(--sklearn-color-fitted-level-2);\n",
       "}\n",
       "\n",
       "/* Estimator-specific style */\n",
       "\n",
       "/* Colorize estimator box */\n",
       "#sk-container-id-1 div.sk-estimator input.sk-toggleable__control:checked~label.sk-toggleable__label {\n",
       "  /* unfitted */\n",
       "  background-color: var(--sklearn-color-unfitted-level-2);\n",
       "}\n",
       "\n",
       "#sk-container-id-1 div.sk-estimator.fitted input.sk-toggleable__control:checked~label.sk-toggleable__label {\n",
       "  /* fitted */\n",
       "  background-color: var(--sklearn-color-fitted-level-2);\n",
       "}\n",
       "\n",
       "#sk-container-id-1 div.sk-label label.sk-toggleable__label,\n",
       "#sk-container-id-1 div.sk-label label {\n",
       "  /* The background is the default theme color */\n",
       "  color: var(--sklearn-color-text-on-default-background);\n",
       "}\n",
       "\n",
       "/* On hover, darken the color of the background */\n",
       "#sk-container-id-1 div.sk-label:hover label.sk-toggleable__label {\n",
       "  color: var(--sklearn-color-text);\n",
       "  background-color: var(--sklearn-color-unfitted-level-2);\n",
       "}\n",
       "\n",
       "/* Label box, darken color on hover, fitted */\n",
       "#sk-container-id-1 div.sk-label.fitted:hover label.sk-toggleable__label.fitted {\n",
       "  color: var(--sklearn-color-text);\n",
       "  background-color: var(--sklearn-color-fitted-level-2);\n",
       "}\n",
       "\n",
       "/* Estimator label */\n",
       "\n",
       "#sk-container-id-1 div.sk-label label {\n",
       "  font-family: monospace;\n",
       "  font-weight: bold;\n",
       "  display: inline-block;\n",
       "  line-height: 1.2em;\n",
       "}\n",
       "\n",
       "#sk-container-id-1 div.sk-label-container {\n",
       "  text-align: center;\n",
       "}\n",
       "\n",
       "/* Estimator-specific */\n",
       "#sk-container-id-1 div.sk-estimator {\n",
       "  font-family: monospace;\n",
       "  border: 1px dotted var(--sklearn-color-border-box);\n",
       "  border-radius: 0.25em;\n",
       "  box-sizing: border-box;\n",
       "  margin-bottom: 0.5em;\n",
       "  /* unfitted */\n",
       "  background-color: var(--sklearn-color-unfitted-level-0);\n",
       "}\n",
       "\n",
       "#sk-container-id-1 div.sk-estimator.fitted {\n",
       "  /* fitted */\n",
       "  background-color: var(--sklearn-color-fitted-level-0);\n",
       "}\n",
       "\n",
       "/* on hover */\n",
       "#sk-container-id-1 div.sk-estimator:hover {\n",
       "  /* unfitted */\n",
       "  background-color: var(--sklearn-color-unfitted-level-2);\n",
       "}\n",
       "\n",
       "#sk-container-id-1 div.sk-estimator.fitted:hover {\n",
       "  /* fitted */\n",
       "  background-color: var(--sklearn-color-fitted-level-2);\n",
       "}\n",
       "\n",
       "/* Specification for estimator info (e.g. \"i\" and \"?\") */\n",
       "\n",
       "/* Common style for \"i\" and \"?\" */\n",
       "\n",
       ".sk-estimator-doc-link,\n",
       "a:link.sk-estimator-doc-link,\n",
       "a:visited.sk-estimator-doc-link {\n",
       "  float: right;\n",
       "  font-size: smaller;\n",
       "  line-height: 1em;\n",
       "  font-family: monospace;\n",
       "  background-color: var(--sklearn-color-background);\n",
       "  border-radius: 1em;\n",
       "  height: 1em;\n",
       "  width: 1em;\n",
       "  text-decoration: none !important;\n",
       "  margin-left: 1ex;\n",
       "  /* unfitted */\n",
       "  border: var(--sklearn-color-unfitted-level-1) 1pt solid;\n",
       "  color: var(--sklearn-color-unfitted-level-1);\n",
       "}\n",
       "\n",
       ".sk-estimator-doc-link.fitted,\n",
       "a:link.sk-estimator-doc-link.fitted,\n",
       "a:visited.sk-estimator-doc-link.fitted {\n",
       "  /* fitted */\n",
       "  border: var(--sklearn-color-fitted-level-1) 1pt solid;\n",
       "  color: var(--sklearn-color-fitted-level-1);\n",
       "}\n",
       "\n",
       "/* On hover */\n",
       "div.sk-estimator:hover .sk-estimator-doc-link:hover,\n",
       ".sk-estimator-doc-link:hover,\n",
       "div.sk-label-container:hover .sk-estimator-doc-link:hover,\n",
       ".sk-estimator-doc-link:hover {\n",
       "  /* unfitted */\n",
       "  background-color: var(--sklearn-color-unfitted-level-3);\n",
       "  color: var(--sklearn-color-background);\n",
       "  text-decoration: none;\n",
       "}\n",
       "\n",
       "div.sk-estimator.fitted:hover .sk-estimator-doc-link.fitted:hover,\n",
       ".sk-estimator-doc-link.fitted:hover,\n",
       "div.sk-label-container:hover .sk-estimator-doc-link.fitted:hover,\n",
       ".sk-estimator-doc-link.fitted:hover {\n",
       "  /* fitted */\n",
       "  background-color: var(--sklearn-color-fitted-level-3);\n",
       "  color: var(--sklearn-color-background);\n",
       "  text-decoration: none;\n",
       "}\n",
       "\n",
       "/* Span, style for the box shown on hovering the info icon */\n",
       ".sk-estimator-doc-link span {\n",
       "  display: none;\n",
       "  z-index: 9999;\n",
       "  position: relative;\n",
       "  font-weight: normal;\n",
       "  right: .2ex;\n",
       "  padding: .5ex;\n",
       "  margin: .5ex;\n",
       "  width: min-content;\n",
       "  min-width: 20ex;\n",
       "  max-width: 50ex;\n",
       "  color: var(--sklearn-color-text);\n",
       "  box-shadow: 2pt 2pt 4pt #999;\n",
       "  /* unfitted */\n",
       "  background: var(--sklearn-color-unfitted-level-0);\n",
       "  border: .5pt solid var(--sklearn-color-unfitted-level-3);\n",
       "}\n",
       "\n",
       ".sk-estimator-doc-link.fitted span {\n",
       "  /* fitted */\n",
       "  background: var(--sklearn-color-fitted-level-0);\n",
       "  border: var(--sklearn-color-fitted-level-3);\n",
       "}\n",
       "\n",
       ".sk-estimator-doc-link:hover span {\n",
       "  display: block;\n",
       "}\n",
       "\n",
       "/* \"?\"-specific style due to the `<a>` HTML tag */\n",
       "\n",
       "#sk-container-id-1 a.estimator_doc_link {\n",
       "  float: right;\n",
       "  font-size: 1rem;\n",
       "  line-height: 1em;\n",
       "  font-family: monospace;\n",
       "  background-color: var(--sklearn-color-background);\n",
       "  border-radius: 1rem;\n",
       "  height: 1rem;\n",
       "  width: 1rem;\n",
       "  text-decoration: none;\n",
       "  /* unfitted */\n",
       "  color: var(--sklearn-color-unfitted-level-1);\n",
       "  border: var(--sklearn-color-unfitted-level-1) 1pt solid;\n",
       "}\n",
       "\n",
       "#sk-container-id-1 a.estimator_doc_link.fitted {\n",
       "  /* fitted */\n",
       "  border: var(--sklearn-color-fitted-level-1) 1pt solid;\n",
       "  color: var(--sklearn-color-fitted-level-1);\n",
       "}\n",
       "\n",
       "/* On hover */\n",
       "#sk-container-id-1 a.estimator_doc_link:hover {\n",
       "  /* unfitted */\n",
       "  background-color: var(--sklearn-color-unfitted-level-3);\n",
       "  color: var(--sklearn-color-background);\n",
       "  text-decoration: none;\n",
       "}\n",
       "\n",
       "#sk-container-id-1 a.estimator_doc_link.fitted:hover {\n",
       "  /* fitted */\n",
       "  background-color: var(--sklearn-color-fitted-level-3);\n",
       "}\n",
       "</style><div id=\"sk-container-id-1\" class=\"sk-top-container\"><div class=\"sk-text-repr-fallback\"><pre>XGBClassifier(base_score=None, booster=None, callbacks=None,\n",
       "              colsample_bylevel=None, colsample_bynode=0.5603530864218136,\n",
       "              colsample_bytree=None, device=None, early_stopping_rounds=None,\n",
       "              enable_categorical=False,\n",
       "              eval_metric=&lt;function custom_f1_score at 0x7fb6be8804a0&gt;,\n",
       "              feature_types=None, gamma=None, grow_policy=None,\n",
       "              importance_type=None, interaction_constraints=None,\n",
       "              learning_rate=0.008819730257104119, max_bin=None,\n",
       "              max_cat_threshold=None, max_cat_to_onehot=None,\n",
       "              max_delta_step=None, max_depth=10, max_leaves=None,\n",
       "              min_child_weight=2, missing=nan, monotone_constraints=None,\n",
       "              multi_strategy=None, n_estimators=0, n_jobs=None,\n",
       "              num_parallel_tree=None, objective=&#x27;multi:softprob&#x27;, ...)</pre><b>In a Jupyter environment, please rerun this cell to show the HTML representation or trust the notebook. <br />On GitHub, the HTML representation is unable to render, please try loading this page with nbviewer.org.</b></div><div class=\"sk-container\" hidden><div class=\"sk-item\"><div class=\"sk-estimator fitted sk-toggleable\"><input class=\"sk-toggleable__control sk-hidden--visually\" id=\"sk-estimator-id-1\" type=\"checkbox\" checked><label for=\"sk-estimator-id-1\" class=\"sk-toggleable__label fitted sk-toggleable__label-arrow fitted\">&nbsp;XGBClassifier<span class=\"sk-estimator-doc-link fitted\">i<span>Fitted</span></span></label><div class=\"sk-toggleable__content fitted\"><pre>XGBClassifier(base_score=None, booster=None, callbacks=None,\n",
       "              colsample_bylevel=None, colsample_bynode=0.5603530864218136,\n",
       "              colsample_bytree=None, device=None, early_stopping_rounds=None,\n",
       "              enable_categorical=False,\n",
       "              eval_metric=&lt;function custom_f1_score at 0x7fb6be8804a0&gt;,\n",
       "              feature_types=None, gamma=None, grow_policy=None,\n",
       "              importance_type=None, interaction_constraints=None,\n",
       "              learning_rate=0.008819730257104119, max_bin=None,\n",
       "              max_cat_threshold=None, max_cat_to_onehot=None,\n",
       "              max_delta_step=None, max_depth=10, max_leaves=None,\n",
       "              min_child_weight=2, missing=nan, monotone_constraints=None,\n",
       "              multi_strategy=None, n_estimators=0, n_jobs=None,\n",
       "              num_parallel_tree=None, objective=&#x27;multi:softprob&#x27;, ...)</pre></div> </div></div></div></div>"
      ],
      "text/plain": [
       "XGBClassifier(base_score=None, booster=None, callbacks=None,\n",
       "              colsample_bylevel=None, colsample_bynode=0.5603530864218136,\n",
       "              colsample_bytree=None, device=None, early_stopping_rounds=None,\n",
       "              enable_categorical=False,\n",
       "              eval_metric=<function custom_f1_score at 0x7fb6be8804a0>,\n",
       "              feature_types=None, gamma=None, grow_policy=None,\n",
       "              importance_type=None, interaction_constraints=None,\n",
       "              learning_rate=0.008819730257104119, max_bin=None,\n",
       "              max_cat_threshold=None, max_cat_to_onehot=None,\n",
       "              max_delta_step=None, max_depth=10, max_leaves=None,\n",
       "              min_child_weight=2, missing=nan, monotone_constraints=None,\n",
       "              multi_strategy=None, n_estimators=0, n_jobs=None,\n",
       "              num_parallel_tree=None, objective='multi:softprob', ...)"
      ]
     },
     "execution_count": 21,
     "metadata": {},
     "output_type": "execute_result"
    }
   ],
   "source": [
    "n_estimators = int(study.best_trial.user_attrs['best_iteration']*1.2)\n",
    "xgb = xgboost.XGBClassifier(\n",
    "        eval_metric=eval_metric,\n",
    "        n_estimators=n_estimators,\n",
    "        **study.best_trial.params\n",
    "    )\n",
    "xgb.fit(\n",
    "    ssp.vstack((X_train, X_val)), \n",
    "    np.concatenate((y_train_enc, y_val_enc)),\n",
    "    verbose=1,\n",
    ")"
   ]
  },
  {
   "cell_type": "code",
   "execution_count": 22,
   "id": "07713209",
   "metadata": {
    "execution": {
     "iopub.execute_input": "2025-05-15T16:15:42.733152Z",
     "iopub.status.busy": "2025-05-15T16:15:42.732852Z",
     "iopub.status.idle": "2025-05-15T16:15:42.744884Z",
     "shell.execute_reply": "2025-05-15T16:15:42.744511Z"
    },
    "papermill": {
     "duration": 0.02313,
     "end_time": "2025-05-15T16:15:42.746043",
     "exception": false,
     "start_time": "2025-05-15T16:15:42.722913",
     "status": "completed"
    },
    "tags": []
   },
   "outputs": [
    {
     "data": {
      "text/plain": [
       "['/scratch_isilon/groups/singlecell/shared/projects/Inflammation-PBMCs-Atlas/03_downstream_analysis/08_gene_importance/xgboost_external_validation/xgboost_TopN_genes/results_20/best_model/Plasma_5_1_xgb.json']"
      ]
     },
     "execution_count": 22,
     "metadata": {},
     "output_type": "execute_result"
    }
   ],
   "source": [
    "out_dir = here(f'03_downstream_analysis/08_gene_importance/xgboost_external_validation/xgboost_TopN_genes/results_{N_GENES}/best_model')\n",
    "\n",
    "if not os.path.exists(out_dir):\n",
    "    os.makedirs(out_dir)\n",
    "    \n",
    "joblib.dump(xgb, os.path.join(out_dir, f'{CELL_TYPE}_{SEED}_{TEST_SPLIT_IDX}_xgb.json'))"
   ]
  },
  {
   "cell_type": "code",
   "execution_count": 23,
   "id": "5ae9e6dd",
   "metadata": {
    "execution": {
     "iopub.execute_input": "2025-05-15T16:15:42.765566Z",
     "iopub.status.busy": "2025-05-15T16:15:42.765280Z",
     "iopub.status.idle": "2025-05-15T16:15:42.776568Z",
     "shell.execute_reply": "2025-05-15T16:15:42.776230Z"
    },
    "papermill": {
     "duration": 0.022118,
     "end_time": "2025-05-15T16:15:42.777484",
     "exception": false,
     "start_time": "2025-05-15T16:15:42.755366",
     "status": "completed"
    },
    "tags": []
   },
   "outputs": [],
   "source": [
    "df_pred_test = pd.DataFrame(dict(\n",
    "    cell_id=train_adata.obs.iloc[test_idxs].index.values,\n",
    "    y_true=y_test, \n",
    "    y_true_code=y_test_enc, \n",
    "    y_pred=xgb.predict(X_test))).set_index('cell_id')"
   ]
  },
  {
   "cell_type": "code",
   "execution_count": 24,
   "id": "88d01462",
   "metadata": {
    "execution": {
     "iopub.execute_input": "2025-05-15T16:15:42.796337Z",
     "iopub.status.busy": "2025-05-15T16:15:42.796119Z",
     "iopub.status.idle": "2025-05-15T16:15:42.807765Z",
     "shell.execute_reply": "2025-05-15T16:15:42.807298Z"
    },
    "papermill": {
     "duration": 0.02236,
     "end_time": "2025-05-15T16:15:42.808966",
     "exception": false,
     "start_time": "2025-05-15T16:15:42.786606",
     "status": "completed"
    },
    "tags": []
   },
   "outputs": [],
   "source": [
    "out_dir = here(f'03_downstream_analysis/08_gene_importance/xgboost_external_validation/xgboost_TopN_genes/results_{N_GENES}/predictions')\n",
    "\n",
    "if not os.path.exists(out_dir):\n",
    "    os.makedirs(out_dir)\n",
    "    \n",
    "df_pred_test.to_csv(os.path.join(out_dir, f'{CELL_TYPE}_{SEED}_{TEST_SPLIT_IDX}_pred_test.zip'))"
   ]
  },
  {
   "cell_type": "code",
   "execution_count": 25,
   "id": "6820c079",
   "metadata": {
    "execution": {
     "iopub.execute_input": "2025-05-15T16:15:42.828613Z",
     "iopub.status.busy": "2025-05-15T16:15:42.828331Z",
     "iopub.status.idle": "2025-05-15T16:15:42.834509Z",
     "shell.execute_reply": "2025-05-15T16:15:42.834174Z"
    },
    "papermill": {
     "duration": 0.01688,
     "end_time": "2025-05-15T16:15:42.835440",
     "exception": false,
     "start_time": "2025-05-15T16:15:42.818560",
     "status": "completed"
    },
    "tags": []
   },
   "outputs": [],
   "source": [
    "metrics_dict = dict(\n",
    "    BAS=balanced_accuracy_score(y_true=df_pred_test.y_true_code, y_pred=df_pred_test.y_pred), WF1=f1_score(y_true=df_pred_test.y_true_code, y_pred=df_pred_test.y_pred,average='weighted'))"
   ]
  },
  {
   "cell_type": "code",
   "execution_count": 26,
   "id": "2b8dca27",
   "metadata": {
    "execution": {
     "iopub.execute_input": "2025-05-15T16:15:42.854802Z",
     "iopub.status.busy": "2025-05-15T16:15:42.854504Z",
     "iopub.status.idle": "2025-05-15T16:15:42.857869Z",
     "shell.execute_reply": "2025-05-15T16:15:42.857551Z"
    },
    "papermill": {
     "duration": 0.014282,
     "end_time": "2025-05-15T16:15:42.858735",
     "exception": false,
     "start_time": "2025-05-15T16:15:42.844453",
     "status": "completed"
    },
    "tags": []
   },
   "outputs": [
    {
     "data": {
      "text/plain": [
       "{'BAS': 0.125, 'WF1': 0.019166798669412323}"
      ]
     },
     "execution_count": 26,
     "metadata": {},
     "output_type": "execute_result"
    }
   ],
   "source": [
    "metrics_dict"
   ]
  },
  {
   "cell_type": "code",
   "execution_count": 27,
   "id": "51f008d1",
   "metadata": {
    "execution": {
     "iopub.execute_input": "2025-05-15T16:15:42.878434Z",
     "iopub.status.busy": "2025-05-15T16:15:42.878219Z",
     "iopub.status.idle": "2025-05-15T16:15:42.887088Z",
     "shell.execute_reply": "2025-05-15T16:15:42.886783Z"
    },
    "papermill": {
     "duration": 0.019451,
     "end_time": "2025-05-15T16:15:42.888308",
     "exception": false,
     "start_time": "2025-05-15T16:15:42.868857",
     "status": "completed"
    },
    "tags": []
   },
   "outputs": [
    {
     "data": {
      "text/html": [
       "<div>\n",
       "<style scoped>\n",
       "    .dataframe tbody tr th:only-of-type {\n",
       "        vertical-align: middle;\n",
       "    }\n",
       "\n",
       "    .dataframe tbody tr th {\n",
       "        vertical-align: top;\n",
       "    }\n",
       "\n",
       "    .dataframe thead th {\n",
       "        text-align: right;\n",
       "    }\n",
       "</style>\n",
       "<table border=\"1\" class=\"dataframe\">\n",
       "  <thead>\n",
       "    <tr style=\"text-align: right;\">\n",
       "      <th></th>\n",
       "      <th>BAS</th>\n",
       "      <th>WF1</th>\n",
       "      <th>split_idx</th>\n",
       "      <th>gene_set_seed</th>\n",
       "      <th>cell_type</th>\n",
       "    </tr>\n",
       "  </thead>\n",
       "  <tbody>\n",
       "    <tr>\n",
       "      <th>0</th>\n",
       "      <td>0.125</td>\n",
       "      <td>0.019167</td>\n",
       "      <td>1</td>\n",
       "      <td>5</td>\n",
       "      <td>Plasma</td>\n",
       "    </tr>\n",
       "  </tbody>\n",
       "</table>\n",
       "</div>"
      ],
      "text/plain": [
       "     BAS       WF1  split_idx  gene_set_seed cell_type\n",
       "0  0.125  0.019167          1              5    Plasma"
      ]
     },
     "execution_count": 27,
     "metadata": {},
     "output_type": "execute_result"
    }
   ],
   "source": [
    "metrics_df = pd.DataFrame.from_dict([metrics_dict]).assign(split_idx=TEST_SPLIT_IDX, gene_set_seed=SEED, cell_type=CELL_TYPE)\n",
    "metrics_df"
   ]
  },
  {
   "cell_type": "code",
   "execution_count": 28,
   "id": "e3852f83",
   "metadata": {
    "execution": {
     "iopub.execute_input": "2025-05-15T16:15:42.907925Z",
     "iopub.status.busy": "2025-05-15T16:15:42.907656Z",
     "iopub.status.idle": "2025-05-15T16:15:42.916915Z",
     "shell.execute_reply": "2025-05-15T16:15:42.916495Z"
    },
    "papermill": {
     "duration": 0.020587,
     "end_time": "2025-05-15T16:15:42.917981",
     "exception": false,
     "start_time": "2025-05-15T16:15:42.897394",
     "status": "completed"
    },
    "tags": []
   },
   "outputs": [],
   "source": [
    "out_dir = here(f'03_downstream_analysis/08_gene_importance/xgboost_external_validation/xgboost_TopN_genes/results_{N_GENES}/metrics')\n",
    "\n",
    "if not os.path.exists(out_dir):\n",
    "    os.makedirs(out_dir)\n",
    "    \n",
    "metrics_df.to_csv(os.path.join(out_dir, f'{CELL_TYPE}_{SEED}_{TEST_SPLIT_IDX}_metrics.zip'))"
   ]
  }
 ],
 "metadata": {
  "kernelspec": {
   "display_name": "Python 3 (ipykernel)",
   "language": "python",
   "name": "python3"
  },
  "language_info": {
   "codemirror_mode": {
    "name": "ipython",
    "version": 3
   },
   "file_extension": ".py",
   "mimetype": "text/x-python",
   "name": "python",
   "nbconvert_exporter": "python",
   "pygments_lexer": "ipython3",
   "version": "3.12.5"
  },
  "papermill": {
   "default_parameters": {},
   "duration": 15.871981,
   "end_time": "2025-05-15T16:15:43.644700",
   "environment_variables": {},
   "exception": null,
   "input_path": "02_xgboost_fitting_external_20genes.ipynb",
   "output_path": "results_20/executed_notebooks/xgboost_fitting_external_CT_Plasma_GS_5_seed1.ipynb",
   "parameters": {
    "CELL_TYPE": "Plasma",
    "SEED": 5,
    "TEST_SPLIT_IDX": 1
   },
   "start_time": "2025-05-15T16:15:27.772719",
   "version": "2.6.0"
  }
 },
 "nbformat": 4,
 "nbformat_minor": 5
}