{
 "cells": [
  {
   "cell_type": "code",
   "execution_count": 1,
   "id": "3af77c83",
   "metadata": {
    "editable": true,
    "execution": {
     "iopub.execute_input": "2025-05-15T16:12:52.623288Z",
     "iopub.status.busy": "2025-05-15T16:12:52.623072Z",
     "iopub.status.idle": "2025-05-15T16:12:52.625865Z",
     "shell.execute_reply": "2025-05-15T16:12:52.625545Z"
    },
    "papermill": {
     "duration": 0.011694,
     "end_time": "2025-05-15T16:12:52.626769",
     "exception": false,
     "start_time": "2025-05-15T16:12:52.615075",
     "status": "completed"
    },
    "slideshow": {
     "slide_type": ""
    },
    "tags": [
     "parameters"
    ]
   },
   "outputs": [],
   "source": [
    "CELL_TYPE = 'pDC'\n",
    "N_GENES: int = 20\n",
    "SEED = 'shap_studyID' #'disease_NOstudy' 'study_NOdisease' or 'int' or 'shap_studyID'\n",
    "TEST_SPLIT_IDX: int = 1 #[0,4]"
   ]
  },
  {
   "cell_type": "code",
   "execution_count": 2,
   "id": "984939ed",
   "metadata": {
    "execution": {
     "iopub.execute_input": "2025-05-15T16:12:52.651464Z",
     "iopub.status.busy": "2025-05-15T16:12:52.651251Z",
     "iopub.status.idle": "2025-05-15T16:12:52.653411Z",
     "shell.execute_reply": "2025-05-15T16:12:52.653102Z"
    },
    "papermill": {
     "duration": 0.021337,
     "end_time": "2025-05-15T16:12:52.654277",
     "exception": false,
     "start_time": "2025-05-15T16:12:52.632940",
     "status": "completed"
    },
    "tags": [
     "injected-parameters"
    ]
   },
   "outputs": [],
   "source": [
    "# Parameters\n",
    "CELL_TYPE = \"UTC\"\n",
    "SEED = 12\n",
    "TEST_SPLIT_IDX = 4\n"
   ]
  },
  {
   "cell_type": "code",
   "execution_count": 3,
   "id": "68bea8a9",
   "metadata": {
    "execution": {
     "iopub.execute_input": "2025-05-15T16:12:52.688372Z",
     "iopub.status.busy": "2025-05-15T16:12:52.688167Z",
     "iopub.status.idle": "2025-05-15T16:12:52.690385Z",
     "shell.execute_reply": "2025-05-15T16:12:52.690073Z"
    },
    "papermill": {
     "duration": 0.009899,
     "end_time": "2025-05-15T16:12:52.691189",
     "exception": false,
     "start_time": "2025-05-15T16:12:52.681290",
     "status": "completed"
    },
    "tags": []
   },
   "outputs": [],
   "source": [
    "N_SPLITS: int = 5\n",
    "N_TRIALS: int = 50"
   ]
  },
  {
   "cell_type": "code",
   "execution_count": 4,
   "id": "eb56eb97",
   "metadata": {
    "execution": {
     "iopub.execute_input": "2025-05-15T16:12:52.734362Z",
     "iopub.status.busy": "2025-05-15T16:12:52.734185Z",
     "iopub.status.idle": "2025-05-15T16:12:54.265032Z",
     "shell.execute_reply": "2025-05-15T16:12:54.264495Z"
    },
    "papermill": {
     "duration": 1.557051,
     "end_time": "2025-05-15T16:12:54.266452",
     "exception": false,
     "start_time": "2025-05-15T16:12:52.709401",
     "status": "completed"
    },
    "tags": []
   },
   "outputs": [],
   "source": [
    "import os\n",
    "import sys\n",
    "from pyprojroot.here import here\n",
    "import pandas as pd\n",
    "import anndata as ad\n",
    "import numpy as np\n",
    "import math\n",
    "from sklearn.model_selection import StratifiedGroupKFold\n",
    "from sklearn.preprocessing import LabelEncoder\n",
    "from sklearn.metrics import f1_score\n",
    "import matplotlib.pyplot as plt\n",
    "import seaborn as sns\n",
    "from itertools import product\n",
    "from sklearn.metrics import balanced_accuracy_score, f1_score\n",
    "import optuna\n",
    "\n",
    "import joblib\n",
    "import pickle\n",
    "import datetime\n",
    "\n",
    "import collections\n",
    "\n",
    "import xgboost\n",
    "from sklearn.preprocessing import LabelEncoder\n",
    "\n",
    "import scipy.sparse as ssp\n",
    "import joblib\n",
    "\n",
    "from dotenv import load_dotenv"
   ]
  },
  {
   "cell_type": "code",
   "execution_count": 5,
   "id": "8a0e392a",
   "metadata": {
    "execution": {
     "iopub.execute_input": "2025-05-15T16:12:54.313304Z",
     "iopub.status.busy": "2025-05-15T16:12:54.312961Z",
     "iopub.status.idle": "2025-05-15T16:12:54.318801Z",
     "shell.execute_reply": "2025-05-15T16:12:54.318481Z"
    },
    "papermill": {
     "duration": 0.029565,
     "end_time": "2025-05-15T16:12:54.319627",
     "exception": false,
     "start_time": "2025-05-15T16:12:54.290062",
     "status": "completed"
    },
    "tags": []
   },
   "outputs": [
    {
     "data": {
      "text/plain": [
       "True"
      ]
     },
     "execution_count": 5,
     "metadata": {},
     "output_type": "execute_result"
    }
   ],
   "source": [
    "load_dotenv()"
   ]
  },
  {
   "cell_type": "markdown",
   "id": "86b2e7c3",
   "metadata": {
    "papermill": {
     "duration": 0.011041,
     "end_time": "2025-05-15T16:12:54.336585",
     "exception": false,
     "start_time": "2025-05-15T16:12:54.325544",
     "status": "completed"
    },
    "tags": []
   },
   "source": [
    "# LOAD DATASET"
   ]
  },
  {
   "cell_type": "code",
   "execution_count": 6,
   "id": "65214022",
   "metadata": {
    "execution": {
     "iopub.execute_input": "2025-05-15T16:12:54.382863Z",
     "iopub.status.busy": "2025-05-15T16:12:54.382600Z",
     "iopub.status.idle": "2025-05-15T16:12:54.516902Z",
     "shell.execute_reply": "2025-05-15T16:12:54.516465Z"
    },
    "papermill": {
     "duration": 0.149352,
     "end_time": "2025-05-15T16:12:54.518236",
     "exception": false,
     "start_time": "2025-05-15T16:12:54.368884",
     "status": "completed"
    },
    "tags": []
   },
   "outputs": [],
   "source": [
    "train_adata = ad.read_h5ad(\n",
    "    here(f'03_downstream_analysis/08_gene_importance/xgboost_external_validation/xgboost_TopN_genes/data_cellTypes/EXTERNAL_{CELL_TYPE}.filtered.log1p.h5ad')\n",
    ")"
   ]
  },
  {
   "cell_type": "code",
   "execution_count": 7,
   "id": "01d85dad",
   "metadata": {
    "execution": {
     "iopub.execute_input": "2025-05-15T16:12:54.550159Z",
     "iopub.status.busy": "2025-05-15T16:12:54.549936Z",
     "iopub.status.idle": "2025-05-15T16:12:54.562565Z",
     "shell.execute_reply": "2025-05-15T16:12:54.562225Z"
    },
    "papermill": {
     "duration": 0.02737,
     "end_time": "2025-05-15T16:12:54.563461",
     "exception": false,
     "start_time": "2025-05-15T16:12:54.536091",
     "status": "completed"
    },
    "tags": []
   },
   "outputs": [
    {
     "name": "stdout",
     "output_type": "stream",
     "text": [
      "['ENSG00000235162' 'ENSG00000185022' 'ENSG00000216490' 'ENSG00000169554'\n",
      " 'ENSG00000111640' 'ENSG00000104894' 'ENSG00000149357' 'ENSG00000002549'\n",
      " 'ENSG00000091409' 'ENSG00000142669' 'ENSG00000125735' 'ENSG00000133639'\n",
      " 'ENSG00000186810' 'ENSG00000108622' 'ENSG00000101695' 'ENSG00000205220'\n",
      " 'ENSG00000131981' 'ENSG00000185201' 'ENSG00000172936' 'ENSG00000188404'\n",
      " 'ENSG00000161203' 'ENSG00000118503' 'ENSG00000145649' 'ENSG00000090554'\n",
      " 'ENSG00000197540' 'ENSG00000100097' 'ENSG00000182117' 'ENSG00000138795'\n",
      " 'ENSG00000106799' 'ENSG00000163508' 'ENSG00000122862' 'ENSG00000144802'\n",
      " 'ENSG00000163659' 'ENSG00000179344' 'ENSG00000177606' 'ENSG00000166710'\n",
      " 'ENSG00000077380' 'ENSG00000113811' 'ENSG00000143110' 'ENSG00000160932'\n",
      " 'ENSG00000227507' 'ENSG00000106952' 'ENSG00000120742' 'ENSG00000169896'\n",
      " 'ENSG00000100393' 'ENSG00000068796' 'ENSG00000163131' 'ENSG00000130755'\n",
      " 'ENSG00000077238' 'ENSG00000101608' 'ENSG00000130066' 'ENSG00000179218'\n",
      " 'ENSG00000160075' 'ENSG00000180644' 'ENSG00000164307' 'ENSG00000136156'\n",
      " 'ENSG00000135114' 'ENSG00000118640' 'ENSG00000171608' 'ENSG00000142089'\n",
      " 'ENSG00000051108' 'ENSG00000180739' 'ENSG00000138378' 'ENSG00000116171'\n",
      " 'ENSG00000147168' 'ENSG00000118260' 'ENSG00000173812' 'ENSG00000104763'\n",
      " 'ENSG00000145287' 'ENSG00000115523' 'ENSG00000136732' 'ENSG00000163513'\n",
      " 'ENSG00000077984' 'ENSG00000103490' 'ENSG00000100300' 'ENSG00000181036'\n",
      " 'ENSG00000264364' 'ENSG00000182287' 'ENSG00000172215' 'ENSG00000092820'\n",
      " 'ENSG00000157601' 'ENSG00000162739' 'ENSG00000197471' 'ENSG00000165732'\n",
      " 'ENSG00000143924' 'ENSG00000105373' 'ENSG00000152518' 'ENSG00000101347'\n",
      " 'ENSG00000167664' 'ENSG00000105851' 'ENSG00000172183' 'ENSG00000142634'\n",
      " 'ENSG00000138107' 'ENSG00000105835' 'ENSG00000204472' 'ENSG00000164104'\n",
      " 'ENSG00000111335' 'ENSG00000178562' 'ENSG00000170525' 'ENSG00000120129'\n",
      " 'ENSG00000164543' 'ENSG00000111348' 'ENSG00000118971' 'ENSG00000140379'\n",
      " 'ENSG00000166949' 'ENSG00000231389' 'ENSG00000142166' 'ENSG00000011600'\n",
      " 'ENSG00000138674' 'ENSG00000157514' 'ENSG00000108774' 'ENSG00000100485'\n",
      " 'ENSG00000204482' 'ENSG00000042753' 'ENSG00000100902']\n"
     ]
    }
   ],
   "source": [
    "if SEED != 'all':\n",
    "    gene_subset = np.load(here(f'03_downstream_analysis/08_gene_importance/xgboost_external_validation/shap_gene_selection/gene_subsets_{N_GENES}/{CELL_TYPE}_{SEED}.npy'), allow_pickle=True)\n",
    "    train_adata = train_adata[:,gene_subset]\n",
    "    print(gene_subset)\n",
    "elif SEED == 'all':\n",
    "    print('Using all genes')\n",
    "else:\n",
    "    raise ValueError()"
   ]
  },
  {
   "cell_type": "code",
   "execution_count": 8,
   "id": "3b8123f5",
   "metadata": {
    "execution": {
     "iopub.execute_input": "2025-05-15T16:12:54.604692Z",
     "iopub.status.busy": "2025-05-15T16:12:54.604468Z",
     "iopub.status.idle": "2025-05-15T16:12:54.607520Z",
     "shell.execute_reply": "2025-05-15T16:12:54.607202Z"
    },
    "papermill": {
     "duration": 0.038358,
     "end_time": "2025-05-15T16:12:54.608674",
     "exception": false,
     "start_time": "2025-05-15T16:12:54.570316",
     "status": "completed"
    },
    "tags": []
   },
   "outputs": [
    {
     "data": {
      "text/plain": [
       "(14828, 115)"
      ]
     },
     "execution_count": 8,
     "metadata": {},
     "output_type": "execute_result"
    }
   ],
   "source": [
    "train_adata.shape"
   ]
  },
  {
   "cell_type": "code",
   "execution_count": 9,
   "id": "bd07b0cb",
   "metadata": {
    "execution": {
     "iopub.execute_input": "2025-05-15T16:12:54.639423Z",
     "iopub.status.busy": "2025-05-15T16:12:54.638993Z",
     "iopub.status.idle": "2025-05-15T16:12:54.642673Z",
     "shell.execute_reply": "2025-05-15T16:12:54.642353Z"
    },
    "papermill": {
     "duration": 0.015956,
     "end_time": "2025-05-15T16:12:54.643562",
     "exception": false,
     "start_time": "2025-05-15T16:12:54.627606",
     "status": "completed"
    },
    "tags": []
   },
   "outputs": [
    {
     "data": {
      "text/plain": [
       "['RA', 'COVID', 'healthy', 'HIV', 'cirrhosis', 'CD', 'SLE', 'sepsis']\n",
       "Categories (8, object): ['CD', 'COVID', 'HIV', 'RA', 'SLE', 'cirrhosis', 'healthy', 'sepsis']"
      ]
     },
     "execution_count": 9,
     "metadata": {},
     "output_type": "execute_result"
    }
   ],
   "source": [
    "train_adata.obs.disease.unique()"
   ]
  },
  {
   "cell_type": "code",
   "execution_count": 10,
   "id": "9304339f",
   "metadata": {
    "execution": {
     "iopub.execute_input": "2025-05-15T16:12:54.723544Z",
     "iopub.status.busy": "2025-05-15T16:12:54.723403Z",
     "iopub.status.idle": "2025-05-15T16:12:54.727281Z",
     "shell.execute_reply": "2025-05-15T16:12:54.726934Z"
    },
    "papermill": {
     "duration": 0.057969,
     "end_time": "2025-05-15T16:12:54.728217",
     "exception": false,
     "start_time": "2025-05-15T16:12:54.670248",
     "status": "completed"
    },
    "tags": []
   },
   "outputs": [
    {
     "data": {
      "text/plain": [
       "['SCGT00val_I0364_T0', 'SCGT00val_I036016_T0', 'SCGT00val_I036021_T0', 'SCGT00val_I036015_T0', 'SCGT00val_I036023_T0', ..., '10XGenomics_10XHC2_T0', '10XGenomics_10XHC3_T0', '10XGenomics_10XHC5_T0', '10XGenomics_10XHC7_T0', '10XGenomics_10XHC8_T0']\n",
       "Length: 86\n",
       "Categories (86, object): ['10XGenomics_10XHC1_T0', '10XGenomics_10XHC2_T0', '10XGenomics_10XHC3_T0', '10XGenomics_10XHC4_T0', ..., 'Savage2021_BRISL6_T0', 'Savage2021_BRISL7_T0', 'Savage2021_PIDA_T0', 'Savage2021_PIDB_T0']"
      ]
     },
     "execution_count": 10,
     "metadata": {},
     "output_type": "execute_result"
    }
   ],
   "source": [
    "train_adata.obs.sampleID.unique()"
   ]
  },
  {
   "cell_type": "code",
   "execution_count": 11,
   "id": "5e892cd3",
   "metadata": {
    "execution": {
     "iopub.execute_input": "2025-05-15T16:12:54.813709Z",
     "iopub.status.busy": "2025-05-15T16:12:54.813521Z",
     "iopub.status.idle": "2025-05-15T16:12:54.877542Z",
     "shell.execute_reply": "2025-05-15T16:12:54.877151Z"
    },
    "papermill": {
     "duration": 0.143785,
     "end_time": "2025-05-15T16:12:54.878445",
     "exception": false,
     "start_time": "2025-05-15T16:12:54.734660",
     "status": "completed"
    },
    "tags": []
   },
   "outputs": [],
   "source": [
    "all_idxs = np.arange(train_adata.obs.shape[0])\n",
    "left_out_splits = [s[1] for s in StratifiedGroupKFold(n_splits=N_SPLITS).split(all_idxs, train_adata.obs.disease, train_adata.obs.sampleID)]"
   ]
  },
  {
   "cell_type": "code",
   "execution_count": 12,
   "id": "1a9e777f",
   "metadata": {
    "execution": {
     "iopub.execute_input": "2025-05-15T16:12:54.922711Z",
     "iopub.status.busy": "2025-05-15T16:12:54.922342Z",
     "iopub.status.idle": "2025-05-15T16:12:54.925715Z",
     "shell.execute_reply": "2025-05-15T16:12:54.925385Z"
    },
    "papermill": {
     "duration": 0.019425,
     "end_time": "2025-05-15T16:12:54.926556",
     "exception": false,
     "start_time": "2025-05-15T16:12:54.907131",
     "status": "completed"
    },
    "tags": []
   },
   "outputs": [
    {
     "data": {
      "text/plain": [
       "([1, 2, 3], 0, 4)"
      ]
     },
     "execution_count": 12,
     "metadata": {},
     "output_type": "execute_result"
    }
   ],
   "source": [
    "TRAIN_SPLIT_IDXS = [0,1,2,3,4]\n",
    "VAL_SPLIT_IDX = (TEST_SPLIT_IDX + 1) % 5\n",
    "TRAIN_SPLIT_IDXS.remove(TEST_SPLIT_IDX)\n",
    "TRAIN_SPLIT_IDXS.remove(VAL_SPLIT_IDX)\n",
    "TRAIN_SPLIT_IDXS, VAL_SPLIT_IDX, TEST_SPLIT_IDX"
   ]
  },
  {
   "cell_type": "code",
   "execution_count": 13,
   "id": "22f5d933",
   "metadata": {
    "execution": {
     "iopub.execute_input": "2025-05-15T16:12:55.014287Z",
     "iopub.status.busy": "2025-05-15T16:12:55.014079Z",
     "iopub.status.idle": "2025-05-15T16:12:55.016579Z",
     "shell.execute_reply": "2025-05-15T16:12:55.016258Z"
    },
    "papermill": {
     "duration": 0.038576,
     "end_time": "2025-05-15T16:12:55.017389",
     "exception": false,
     "start_time": "2025-05-15T16:12:54.978813",
     "status": "completed"
    },
    "tags": []
   },
   "outputs": [],
   "source": [
    "train_idxs = np.concatenate([left_out_splits[idx] for idx in TRAIN_SPLIT_IDXS])\n",
    "val_idxs = left_out_splits[VAL_SPLIT_IDX]\n",
    "test_idxs = left_out_splits[TEST_SPLIT_IDX]"
   ]
  },
  {
   "cell_type": "markdown",
   "id": "301756ee",
   "metadata": {
    "papermill": {
     "duration": 0.054567,
     "end_time": "2025-05-15T16:12:55.086072",
     "exception": false,
     "start_time": "2025-05-15T16:12:55.031505",
     "status": "completed"
    },
    "tags": []
   },
   "source": [
    "### SUBSET DATASET INTO TRAIN/TEST/VAL SPLITS"
   ]
  },
  {
   "cell_type": "code",
   "execution_count": 14,
   "id": "ad29d353",
   "metadata": {
    "execution": {
     "iopub.execute_input": "2025-05-15T16:12:55.115880Z",
     "iopub.status.busy": "2025-05-15T16:12:55.115698Z",
     "iopub.status.idle": "2025-05-15T16:12:55.166176Z",
     "shell.execute_reply": "2025-05-15T16:12:55.165715Z"
    },
    "papermill": {
     "duration": 0.058268,
     "end_time": "2025-05-15T16:12:55.167146",
     "exception": false,
     "start_time": "2025-05-15T16:12:55.108878",
     "status": "completed"
    },
    "tags": []
   },
   "outputs": [
    {
     "data": {
      "text/plain": [
       "((9045, 115), (2943, 115), (2840, 115))"
      ]
     },
     "execution_count": 14,
     "metadata": {},
     "output_type": "execute_result"
    }
   ],
   "source": [
    "X_train = train_adata.X[train_idxs]\n",
    "X_test = train_adata.X[test_idxs]\n",
    "X_val = train_adata.X[val_idxs]\n",
    "X_train.shape, X_test.shape, X_val.shape"
   ]
  },
  {
   "cell_type": "code",
   "execution_count": 15,
   "id": "7b12c3c3",
   "metadata": {
    "execution": {
     "iopub.execute_input": "2025-05-15T16:12:55.218954Z",
     "iopub.status.busy": "2025-05-15T16:12:55.218755Z",
     "iopub.status.idle": "2025-05-15T16:12:55.225305Z",
     "shell.execute_reply": "2025-05-15T16:12:55.224972Z"
    },
    "papermill": {
     "duration": 0.017009,
     "end_time": "2025-05-15T16:12:55.226199",
     "exception": false,
     "start_time": "2025-05-15T16:12:55.209190",
     "status": "completed"
    },
    "tags": []
   },
   "outputs": [
    {
     "data": {
      "text/plain": [
       "((9045,), (2943,), (2840,))"
      ]
     },
     "execution_count": 15,
     "metadata": {},
     "output_type": "execute_result"
    }
   ],
   "source": [
    "y_train = train_adata.obs.iloc[train_idxs].disease.values.astype(str)\n",
    "y_test = train_adata.obs.iloc[test_idxs].disease.values.astype(str)\n",
    "y_val = train_adata.obs.iloc[val_idxs].disease.values.astype(str)\n",
    "y_train.shape, y_test.shape, y_val.shape"
   ]
  },
  {
   "cell_type": "code",
   "execution_count": 16,
   "id": "cbffe11a",
   "metadata": {
    "execution": {
     "iopub.execute_input": "2025-05-15T16:12:55.240167Z",
     "iopub.status.busy": "2025-05-15T16:12:55.239945Z",
     "iopub.status.idle": "2025-05-15T16:12:55.245458Z",
     "shell.execute_reply": "2025-05-15T16:12:55.245148Z"
    },
    "papermill": {
     "duration": 0.013386,
     "end_time": "2025-05-15T16:12:55.246348",
     "exception": false,
     "start_time": "2025-05-15T16:12:55.232962",
     "status": "completed"
    },
    "tags": []
   },
   "outputs": [],
   "source": [
    "lenc = LabelEncoder()\n",
    "y_train_enc = lenc.fit_transform(y_train)\n",
    "y_val_enc = lenc.transform(y_val)\n",
    "y_test_enc = lenc.transform(y_test)"
   ]
  },
  {
   "cell_type": "markdown",
   "id": "ddde93ab",
   "metadata": {
    "papermill": {
     "duration": 0.026451,
     "end_time": "2025-05-15T16:12:55.279630",
     "exception": false,
     "start_time": "2025-05-15T16:12:55.253179",
     "status": "completed"
    },
    "tags": []
   },
   "source": [
    "### GENERATE F1 "
   ]
  },
  {
   "cell_type": "code",
   "execution_count": 17,
   "id": "9e7237ef",
   "metadata": {
    "execution": {
     "iopub.execute_input": "2025-05-15T16:12:55.377508Z",
     "iopub.status.busy": "2025-05-15T16:12:55.377074Z",
     "iopub.status.idle": "2025-05-15T16:12:55.379531Z",
     "shell.execute_reply": "2025-05-15T16:12:55.379205Z"
    },
    "papermill": {
     "duration": 0.032655,
     "end_time": "2025-05-15T16:12:55.380446",
     "exception": false,
     "start_time": "2025-05-15T16:12:55.347791",
     "status": "completed"
    },
    "tags": []
   },
   "outputs": [],
   "source": [
    "def custom_f1_score(y_true, y_pred):\n",
    "    return -f1_score(y_true, y_pred.argmax(1), average='weighted')"
   ]
  },
  {
   "cell_type": "code",
   "execution_count": 18,
   "id": "eb2e090d",
   "metadata": {
    "execution": {
     "iopub.execute_input": "2025-05-15T16:12:55.408650Z",
     "iopub.status.busy": "2025-05-15T16:12:55.408215Z",
     "iopub.status.idle": "2025-05-15T16:12:55.412194Z",
     "shell.execute_reply": "2025-05-15T16:12:55.411864Z"
    },
    "papermill": {
     "duration": 0.012282,
     "end_time": "2025-05-15T16:12:55.413063",
     "exception": false,
     "start_time": "2025-05-15T16:12:55.400781",
     "status": "completed"
    },
    "tags": []
   },
   "outputs": [],
   "source": [
    "eval_metric=custom_f1_score\n",
    "eval_metric_name='custom_f1_score'\n",
    "\n",
    "def objective(trial):\n",
    "    params = {\n",
    "        'n_estimators': 1500,\n",
    "        'max_depth': trial.suggest_int('max_depth', 3, 20),\n",
    "        'min_child_weight': trial.suggest_int('min_child_weight', 1, 250),\n",
    "        'subsample': trial.suggest_float('subsample', 0.1, 1.0),\n",
    "        'colsample_bynode': trial.suggest_float('colsample_bynode', 0.1, 1.0),\n",
    "        'learning_rate': trial.suggest_float('learning_rate', 1e-3, 5e-1, log=True),\n",
    "    }\n",
    "    pruning_callback = optuna.integration.XGBoostPruningCallback(trial, f'validation_0-{eval_metric_name}')\n",
    "    es_callback = xgboost.callback.EarlyStopping(20, min_delta=0.001)\n",
    "    xgb = xgboost.XGBClassifier(\n",
    "        eval_metric=eval_metric,\n",
    "        callbacks=[pruning_callback, es_callback],\n",
    "        n_jobs=5,\n",
    "        **params\n",
    "    )\n",
    "    xgb.fit(\n",
    "        X_train, \n",
    "        y_train_enc, \n",
    "        verbose=0,\n",
    "        eval_set=[(X_val, y_val_enc)],\n",
    "    )\n",
    "    trial.set_user_attr('best_iteration', xgb.best_iteration)\n",
    "\n",
    "    return xgb.best_score"
   ]
  },
  {
   "cell_type": "code",
   "execution_count": 19,
   "id": "c8968cc4",
   "metadata": {
    "execution": {
     "iopub.execute_input": "2025-05-15T16:12:55.440410Z",
     "iopub.status.busy": "2025-05-15T16:12:55.440182Z",
     "iopub.status.idle": "2025-05-15T16:13:23.413055Z",
     "shell.execute_reply": "2025-05-15T16:13:23.412553Z"
    },
    "papermill": {
     "duration": 27.981466,
     "end_time": "2025-05-15T16:13:23.414425",
     "exception": false,
     "start_time": "2025-05-15T16:12:55.432959",
     "status": "completed"
    },
    "scrolled": true,
    "tags": []
   },
   "outputs": [
    {
     "name": "stderr",
     "output_type": "stream",
     "text": [
      "[I 2025-05-15 18:12:55,442] A new study created in memory with name: no-name-c923778c-59d3-44fa-aa00-7ba1fd4e2944\n"
     ]
    },
    {
     "name": "stderr",
     "output_type": "stream",
     "text": [
      "[I 2025-05-15 18:12:56,284] Trial 0 finished with value: -0.656854 and parameters: {'max_depth': 9, 'min_child_weight': 238, 'subsample': 0.7587945476302645, 'colsample_bynode': 0.6387926357773329, 'learning_rate': 0.0026368755339723046}. Best is trial 0 with value: -0.656854.\n"
     ]
    },
    {
     "name": "stderr",
     "output_type": "stream",
     "text": [
      "[I 2025-05-15 18:13:01,445] Trial 1 finished with value: -0.73099 and parameters: {'max_depth': 5, 'min_child_weight': 15, 'subsample': 0.8795585311974417, 'colsample_bynode': 0.6410035105688879, 'learning_rate': 0.08148293210105287}. Best is trial 1 with value: -0.73099.\n"
     ]
    },
    {
     "name": "stderr",
     "output_type": "stream",
     "text": [
      "[I 2025-05-15 18:13:03,375] Trial 2 finished with value: -0.749224 and parameters: {'max_depth': 3, 'min_child_weight': 243, 'subsample': 0.8491983767203796, 'colsample_bynode': 0.29110519961044856, 'learning_rate': 0.003095566460242371}. Best is trial 2 with value: -0.749224.\n"
     ]
    },
    {
     "name": "stderr",
     "output_type": "stream",
     "text": [
      "[I 2025-05-15 18:13:04,259] Trial 3 finished with value: -0.693348 and parameters: {'max_depth': 6, 'min_child_weight': 77, 'subsample': 0.5722807884690141, 'colsample_bynode': 0.48875051677790415, 'learning_rate': 0.006109683510122491}. Best is trial 2 with value: -0.749224.\n"
     ]
    },
    {
     "name": "stderr",
     "output_type": "stream",
     "text": [
      "[I 2025-05-15 18:13:05,067] Trial 4 finished with value: -0.721071 and parameters: {'max_depth': 14, 'min_child_weight': 35, 'subsample': 0.3629301836816964, 'colsample_bynode': 0.4297256589643226, 'learning_rate': 0.01701841881702917}. Best is trial 2 with value: -0.749224.\n"
     ]
    },
    {
     "name": "stderr",
     "output_type": "stream",
     "text": [
      "[I 2025-05-15 18:13:05,251] Trial 5 pruned. Trial was pruned at iteration 0.\n"
     ]
    },
    {
     "name": "stderr",
     "output_type": "stream",
     "text": [
      "[I 2025-05-15 18:13:05,421] Trial 6 pruned. Trial was pruned at iteration 0.\n"
     ]
    },
    {
     "name": "stderr",
     "output_type": "stream",
     "text": [
      "[I 2025-05-15 18:13:05,590] Trial 7 pruned. Trial was pruned at iteration 0.\n"
     ]
    },
    {
     "name": "stderr",
     "output_type": "stream",
     "text": [
      "[I 2025-05-15 18:13:05,743] Trial 8 pruned. Trial was pruned at iteration 0.\n"
     ]
    },
    {
     "name": "stderr",
     "output_type": "stream",
     "text": [
      "[I 2025-05-15 18:13:05,917] Trial 9 pruned. Trial was pruned at iteration 0.\n"
     ]
    },
    {
     "name": "stderr",
     "output_type": "stream",
     "text": [
      "[I 2025-05-15 18:13:06,989] Trial 10 finished with value: -0.76967 and parameters: {'max_depth': 9, 'min_child_weight': 234, 'subsample': 0.9725833997090791, 'colsample_bynode': 0.12664487532132648, 'learning_rate': 0.05746035004770021}. Best is trial 10 with value: -0.76967.\n"
     ]
    },
    {
     "name": "stderr",
     "output_type": "stream",
     "text": [
      "[I 2025-05-15 18:13:07,171] Trial 11 pruned. Trial was pruned at iteration 1.\n"
     ]
    },
    {
     "name": "stderr",
     "output_type": "stream",
     "text": [
      "[I 2025-05-15 18:13:07,363] Trial 12 pruned. Trial was pruned at iteration 0.\n"
     ]
    },
    {
     "name": "stderr",
     "output_type": "stream",
     "text": [
      "[I 2025-05-15 18:13:07,549] Trial 13 pruned. Trial was pruned at iteration 0.\n"
     ]
    },
    {
     "name": "stderr",
     "output_type": "stream",
     "text": [
      "[I 2025-05-15 18:13:08,116] Trial 14 finished with value: -0.734225 and parameters: {'max_depth': 7, 'min_child_weight': 198, 'subsample': 0.7405244580587853, 'colsample_bynode': 0.29808885878680375, 'learning_rate': 0.3991503197803881}. Best is trial 10 with value: -0.76967.\n"
     ]
    },
    {
     "name": "stderr",
     "output_type": "stream",
     "text": [
      "[I 2025-05-15 18:13:08,844] Trial 15 finished with value: -0.750436 and parameters: {'max_depth': 20, 'min_child_weight': 155, 'subsample': 0.8533331551254915, 'colsample_bynode': 0.2687793682900305, 'learning_rate': 0.0010206493037116181}. Best is trial 10 with value: -0.76967.\n"
     ]
    },
    {
     "name": "stderr",
     "output_type": "stream",
     "text": [
      "[I 2025-05-15 18:13:09,026] Trial 16 pruned. Trial was pruned at iteration 0.\n"
     ]
    },
    {
     "name": "stderr",
     "output_type": "stream",
     "text": [
      "[I 2025-05-15 18:13:09,238] Trial 17 pruned. Trial was pruned at iteration 0.\n"
     ]
    },
    {
     "name": "stderr",
     "output_type": "stream",
     "text": [
      "[I 2025-05-15 18:13:09,435] Trial 18 pruned. Trial was pruned at iteration 0.\n"
     ]
    },
    {
     "name": "stderr",
     "output_type": "stream",
     "text": [
      "[I 2025-05-15 18:13:09,613] Trial 19 pruned. Trial was pruned at iteration 0.\n"
     ]
    },
    {
     "name": "stderr",
     "output_type": "stream",
     "text": [
      "[I 2025-05-15 18:13:10,450] Trial 20 finished with value: -0.750902 and parameters: {'max_depth': 15, 'min_child_weight': 107, 'subsample': 0.8926646616340117, 'colsample_bynode': 0.12220822193157148, 'learning_rate': 0.18526448359225467}. Best is trial 10 with value: -0.76967.\n"
     ]
    },
    {
     "name": "stderr",
     "output_type": "stream",
     "text": [
      "[I 2025-05-15 18:13:11,151] Trial 21 finished with value: -0.763137 and parameters: {'max_depth': 15, 'min_child_weight': 115, 'subsample': 0.8765778409057716, 'colsample_bynode': 0.10546966260453719, 'learning_rate': 0.1733565019139661}. Best is trial 10 with value: -0.76967.\n"
     ]
    },
    {
     "name": "stderr",
     "output_type": "stream",
     "text": [
      "[I 2025-05-15 18:13:11,888] Trial 22 finished with value: -0.763447 and parameters: {'max_depth': 15, 'min_child_weight': 103, 'subsample': 0.9023762680758152, 'colsample_bynode': 0.10811806784237855, 'learning_rate': 0.16932799336161433}. Best is trial 10 with value: -0.76967.\n"
     ]
    },
    {
     "name": "stderr",
     "output_type": "stream",
     "text": [
      "[I 2025-05-15 18:13:12,668] Trial 23 finished with value: -0.745549 and parameters: {'max_depth': 11, 'min_child_weight': 111, 'subsample': 0.9671488676836476, 'colsample_bynode': 0.19418085722979825, 'learning_rate': 0.15737820771039915}. Best is trial 10 with value: -0.76967.\n"
     ]
    },
    {
     "name": "stderr",
     "output_type": "stream",
     "text": [
      "[I 2025-05-15 18:13:13,382] Trial 24 finished with value: -0.755627 and parameters: {'max_depth': 16, 'min_child_weight': 95, 'subsample': 0.8074489964714591, 'colsample_bynode': 0.17896941053871346, 'learning_rate': 0.24707890383990458}. Best is trial 10 with value: -0.76967.\n"
     ]
    },
    {
     "name": "stderr",
     "output_type": "stream",
     "text": [
      "[I 2025-05-15 18:13:13,559] Trial 25 pruned. Trial was pruned at iteration 0.\n"
     ]
    },
    {
     "name": "stderr",
     "output_type": "stream",
     "text": [
      "[I 2025-05-15 18:13:13,764] Trial 26 pruned. Trial was pruned at iteration 0.\n"
     ]
    },
    {
     "name": "stderr",
     "output_type": "stream",
     "text": [
      "[I 2025-05-15 18:13:13,952] Trial 27 pruned. Trial was pruned at iteration 0.\n"
     ]
    },
    {
     "name": "stderr",
     "output_type": "stream",
     "text": [
      "[I 2025-05-15 18:13:14,179] Trial 28 pruned. Trial was pruned at iteration 1.\n"
     ]
    },
    {
     "name": "stderr",
     "output_type": "stream",
     "text": [
      "[I 2025-05-15 18:13:14,345] Trial 29 pruned. Trial was pruned at iteration 0.\n"
     ]
    },
    {
     "name": "stderr",
     "output_type": "stream",
     "text": [
      "[I 2025-05-15 18:13:15,481] Trial 30 finished with value: -0.764125 and parameters: {'max_depth': 14, 'min_child_weight': 63, 'subsample': 0.8958162706930796, 'colsample_bynode': 0.15905008000016055, 'learning_rate': 0.027140510012803577}. Best is trial 10 with value: -0.76967.\n"
     ]
    },
    {
     "name": "stderr",
     "output_type": "stream",
     "text": [
      "[I 2025-05-15 18:13:15,682] Trial 31 pruned. Trial was pruned at iteration 0.\n"
     ]
    },
    {
     "name": "stderr",
     "output_type": "stream",
     "text": [
      "[I 2025-05-15 18:13:16,500] Trial 32 finished with value: -0.751799 and parameters: {'max_depth': 15, 'min_child_weight': 64, 'subsample': 0.9200029786291876, 'colsample_bynode': 0.21531063497549557, 'learning_rate': 0.05917356236822902}. Best is trial 10 with value: -0.76967.\n"
     ]
    },
    {
     "name": "stderr",
     "output_type": "stream",
     "text": [
      "[I 2025-05-15 18:13:17,871] Trial 33 finished with value: -0.762983 and parameters: {'max_depth': 13, 'min_child_weight': 18, 'subsample': 0.8473021484516241, 'colsample_bynode': 0.15275815400127987, 'learning_rate': 0.0230352265658887}. Best is trial 10 with value: -0.76967.\n"
     ]
    },
    {
     "name": "stderr",
     "output_type": "stream",
     "text": [
      "[I 2025-05-15 18:13:18,076] Trial 34 pruned. Trial was pruned at iteration 0.\n"
     ]
    },
    {
     "name": "stderr",
     "output_type": "stream",
     "text": [
      "[I 2025-05-15 18:13:18,360] Trial 35 pruned. Trial was pruned at iteration 0.\n"
     ]
    },
    {
     "name": "stderr",
     "output_type": "stream",
     "text": [
      "[I 2025-05-15 18:13:18,569] Trial 36 pruned. Trial was pruned at iteration 0.\n"
     ]
    },
    {
     "name": "stderr",
     "output_type": "stream",
     "text": [
      "[I 2025-05-15 18:13:18,781] Trial 37 pruned. Trial was pruned at iteration 0.\n"
     ]
    },
    {
     "name": "stderr",
     "output_type": "stream",
     "text": [
      "[I 2025-05-15 18:13:18,971] Trial 38 pruned. Trial was pruned at iteration 0.\n"
     ]
    },
    {
     "name": "stderr",
     "output_type": "stream",
     "text": [
      "[I 2025-05-15 18:13:19,229] Trial 39 pruned. Trial was pruned at iteration 1.\n"
     ]
    },
    {
     "name": "stderr",
     "output_type": "stream",
     "text": [
      "[I 2025-05-15 18:13:19,441] Trial 40 pruned. Trial was pruned at iteration 0.\n"
     ]
    },
    {
     "name": "stderr",
     "output_type": "stream",
     "text": [
      "[I 2025-05-15 18:13:19,705] Trial 41 pruned. Trial was pruned at iteration 0.\n"
     ]
    },
    {
     "name": "stderr",
     "output_type": "stream",
     "text": [
      "[I 2025-05-15 18:13:19,967] Trial 42 pruned. Trial was pruned at iteration 1.\n"
     ]
    },
    {
     "name": "stderr",
     "output_type": "stream",
     "text": [
      "[I 2025-05-15 18:13:20,180] Trial 43 pruned. Trial was pruned at iteration 0.\n"
     ]
    },
    {
     "name": "stderr",
     "output_type": "stream",
     "text": [
      "[I 2025-05-15 18:13:20,381] Trial 44 pruned. Trial was pruned at iteration 0.\n"
     ]
    },
    {
     "name": "stderr",
     "output_type": "stream",
     "text": [
      "[I 2025-05-15 18:13:20,635] Trial 45 pruned. Trial was pruned at iteration 0.\n"
     ]
    },
    {
     "name": "stderr",
     "output_type": "stream",
     "text": [
      "[I 2025-05-15 18:13:20,852] Trial 46 pruned. Trial was pruned at iteration 0.\n"
     ]
    },
    {
     "name": "stderr",
     "output_type": "stream",
     "text": [
      "[I 2025-05-15 18:13:21,324] Trial 47 pruned. Trial was pruned at iteration 4.\n"
     ]
    },
    {
     "name": "stderr",
     "output_type": "stream",
     "text": [
      "[I 2025-05-15 18:13:22,370] Trial 48 finished with value: -0.770459 and parameters: {'max_depth': 14, 'min_child_weight': 68, 'subsample': 0.9722038219506959, 'colsample_bynode': 0.14177702125336888, 'learning_rate': 0.03436849986627612}. Best is trial 48 with value: -0.770459.\n"
     ]
    },
    {
     "name": "stderr",
     "output_type": "stream",
     "text": [
      "[I 2025-05-15 18:13:23,300] Trial 49 finished with value: -0.754457 and parameters: {'max_depth': 14, 'min_child_weight': 70, 'subsample': 0.9807776934926936, 'colsample_bynode': 0.432315659323255, 'learning_rate': 0.036296935803481124}. Best is trial 48 with value: -0.770459.\n"
     ]
    }
   ],
   "source": [
    "sampler = optuna.samplers.TPESampler(seed=42)\n",
    "study = optuna.create_study(direction='minimize', sampler=sampler)\n",
    "study.optimize(objective, n_trials=N_TRIALS, gc_after_trial=True)"
   ]
  },
  {
   "cell_type": "code",
   "execution_count": 20,
   "id": "9839df04",
   "metadata": {
    "execution": {
     "iopub.execute_input": "2025-05-15T16:13:23.527664Z",
     "iopub.status.busy": "2025-05-15T16:13:23.527462Z",
     "iopub.status.idle": "2025-05-15T16:13:23.573133Z",
     "shell.execute_reply": "2025-05-15T16:13:23.572802Z"
    },
    "papermill": {
     "duration": 0.107351,
     "end_time": "2025-05-15T16:13:23.573977",
     "exception": false,
     "start_time": "2025-05-15T16:13:23.466626",
     "status": "completed"
    },
    "tags": []
   },
   "outputs": [
    {
     "data": {
      "text/plain": [
       "['/scratch_isilon/groups/singlecell/shared/projects/Inflammation-PBMCs-Atlas/03_downstream_analysis/08_gene_importance/xgboost_external_validation/xgboost_TopN_genes/results_20/study/UTC_12_4_xgboost.pkl']"
      ]
     },
     "execution_count": 20,
     "metadata": {},
     "output_type": "execute_result"
    }
   ],
   "source": [
    "out_dir = here(f'03_downstream_analysis/08_gene_importance/xgboost_external_validation/xgboost_TopN_genes/results_{N_GENES}/study')\n",
    "\n",
    "if not os.path.exists(out_dir):\n",
    "    os.makedirs(out_dir)\n",
    "    \n",
    "joblib.dump(study,os.path.join(out_dir, f'{CELL_TYPE}_{SEED}_{TEST_SPLIT_IDX}_xgboost.pkl'))"
   ]
  },
  {
   "cell_type": "code",
   "execution_count": 21,
   "id": "46292906",
   "metadata": {
    "execution": {
     "iopub.execute_input": "2025-05-15T16:13:23.664079Z",
     "iopub.status.busy": "2025-05-15T16:13:23.663750Z",
     "iopub.status.idle": "2025-05-15T16:13:23.988220Z",
     "shell.execute_reply": "2025-05-15T16:13:23.987837Z"
    },
    "papermill": {
     "duration": 0.406057,
     "end_time": "2025-05-15T16:13:23.989306",
     "exception": false,
     "start_time": "2025-05-15T16:13:23.583249",
     "status": "completed"
    },
    "tags": []
   },
   "outputs": [
    {
     "data": {
      "text/html": [
       "<style>#sk-container-id-1 {\n",
       "  /* Definition of color scheme common for light and dark mode */\n",
       "  --sklearn-color-text: black;\n",
       "  --sklearn-color-line: gray;\n",
       "  /* Definition of color scheme for unfitted estimators */\n",
       "  --sklearn-color-unfitted-level-0: #fff5e6;\n",
       "  --sklearn-color-unfitted-level-1: #f6e4d2;\n",
       "  --sklearn-color-unfitted-level-2: #ffe0b3;\n",
       "  --sklearn-color-unfitted-level-3: chocolate;\n",
       "  /* Definition of color scheme for fitted estimators */\n",
       "  --sklearn-color-fitted-level-0: #f0f8ff;\n",
       "  --sklearn-color-fitted-level-1: #d4ebff;\n",
       "  --sklearn-color-fitted-level-2: #b3dbfd;\n",
       "  --sklearn-color-fitted-level-3: cornflowerblue;\n",
       "\n",
       "  /* Specific color for light theme */\n",
       "  --sklearn-color-text-on-default-background: var(--sg-text-color, var(--theme-code-foreground, var(--jp-content-font-color1, black)));\n",
       "  --sklearn-color-background: var(--sg-background-color, var(--theme-background, var(--jp-layout-color0, white)));\n",
       "  --sklearn-color-border-box: var(--sg-text-color, var(--theme-code-foreground, var(--jp-content-font-color1, black)));\n",
       "  --sklearn-color-icon: #696969;\n",
       "\n",
       "  @media (prefers-color-scheme: dark) {\n",
       "    /* Redefinition of color scheme for dark theme */\n",
       "    --sklearn-color-text-on-default-background: var(--sg-text-color, var(--theme-code-foreground, var(--jp-content-font-color1, white)));\n",
       "    --sklearn-color-background: var(--sg-background-color, var(--theme-background, var(--jp-layout-color0, #111)));\n",
       "    --sklearn-color-border-box: var(--sg-text-color, var(--theme-code-foreground, var(--jp-content-font-color1, white)));\n",
       "    --sklearn-color-icon: #878787;\n",
       "  }\n",
       "}\n",
       "\n",
       "#sk-container-id-1 {\n",
       "  color: var(--sklearn-color-text);\n",
       "}\n",
       "\n",
       "#sk-container-id-1 pre {\n",
       "  padding: 0;\n",
       "}\n",
       "\n",
       "#sk-container-id-1 input.sk-hidden--visually {\n",
       "  border: 0;\n",
       "  clip: rect(1px 1px 1px 1px);\n",
       "  clip: rect(1px, 1px, 1px, 1px);\n",
       "  height: 1px;\n",
       "  margin: -1px;\n",
       "  overflow: hidden;\n",
       "  padding: 0;\n",
       "  position: absolute;\n",
       "  width: 1px;\n",
       "}\n",
       "\n",
       "#sk-container-id-1 div.sk-dashed-wrapped {\n",
       "  border: 1px dashed var(--sklearn-color-line);\n",
       "  margin: 0 0.4em 0.5em 0.4em;\n",
       "  box-sizing: border-box;\n",
       "  padding-bottom: 0.4em;\n",
       "  background-color: var(--sklearn-color-background);\n",
       "}\n",
       "\n",
       "#sk-container-id-1 div.sk-container {\n",
       "  /* jupyter's `normalize.less` sets `[hidden] { display: none; }`\n",
       "     but bootstrap.min.css set `[hidden] { display: none !important; }`\n",
       "     so we also need the `!important` here to be able to override the\n",
       "     default hidden behavior on the sphinx rendered scikit-learn.org.\n",
       "     See: https://github.com/scikit-learn/scikit-learn/issues/21755 */\n",
       "  display: inline-block !important;\n",
       "  position: relative;\n",
       "}\n",
       "\n",
       "#sk-container-id-1 div.sk-text-repr-fallback {\n",
       "  display: none;\n",
       "}\n",
       "\n",
       "div.sk-parallel-item,\n",
       "div.sk-serial,\n",
       "div.sk-item {\n",
       "  /* draw centered vertical line to link estimators */\n",
       "  background-image: linear-gradient(var(--sklearn-color-text-on-default-background), var(--sklearn-color-text-on-default-background));\n",
       "  background-size: 2px 100%;\n",
       "  background-repeat: no-repeat;\n",
       "  background-position: center center;\n",
       "}\n",
       "\n",
       "/* Parallel-specific style estimator block */\n",
       "\n",
       "#sk-container-id-1 div.sk-parallel-item::after {\n",
       "  content: \"\";\n",
       "  width: 100%;\n",
       "  border-bottom: 2px solid var(--sklearn-color-text-on-default-background);\n",
       "  flex-grow: 1;\n",
       "}\n",
       "\n",
       "#sk-container-id-1 div.sk-parallel {\n",
       "  display: flex;\n",
       "  align-items: stretch;\n",
       "  justify-content: center;\n",
       "  background-color: var(--sklearn-color-background);\n",
       "  position: relative;\n",
       "}\n",
       "\n",
       "#sk-container-id-1 div.sk-parallel-item {\n",
       "  display: flex;\n",
       "  flex-direction: column;\n",
       "}\n",
       "\n",
       "#sk-container-id-1 div.sk-parallel-item:first-child::after {\n",
       "  align-self: flex-end;\n",
       "  width: 50%;\n",
       "}\n",
       "\n",
       "#sk-container-id-1 div.sk-parallel-item:last-child::after {\n",
       "  align-self: flex-start;\n",
       "  width: 50%;\n",
       "}\n",
       "\n",
       "#sk-container-id-1 div.sk-parallel-item:only-child::after {\n",
       "  width: 0;\n",
       "}\n",
       "\n",
       "/* Serial-specific style estimator block */\n",
       "\n",
       "#sk-container-id-1 div.sk-serial {\n",
       "  display: flex;\n",
       "  flex-direction: column;\n",
       "  align-items: center;\n",
       "  background-color: var(--sklearn-color-background);\n",
       "  padding-right: 1em;\n",
       "  padding-left: 1em;\n",
       "}\n",
       "\n",
       "\n",
       "/* Toggleable style: style used for estimator/Pipeline/ColumnTransformer box that is\n",
       "clickable and can be expanded/collapsed.\n",
       "- Pipeline and ColumnTransformer use this feature and define the default style\n",
       "- Estimators will overwrite some part of the style using the `sk-estimator` class\n",
       "*/\n",
       "\n",
       "/* Pipeline and ColumnTransformer style (default) */\n",
       "\n",
       "#sk-container-id-1 div.sk-toggleable {\n",
       "  /* Default theme specific background. It is overwritten whether we have a\n",
       "  specific estimator or a Pipeline/ColumnTransformer */\n",
       "  background-color: var(--sklearn-color-background);\n",
       "}\n",
       "\n",
       "/* Toggleable label */\n",
       "#sk-container-id-1 label.sk-toggleable__label {\n",
       "  cursor: pointer;\n",
       "  display: block;\n",
       "  width: 100%;\n",
       "  margin-bottom: 0;\n",
       "  padding: 0.5em;\n",
       "  box-sizing: border-box;\n",
       "  text-align: center;\n",
       "}\n",
       "\n",
       "#sk-container-id-1 label.sk-toggleable__label-arrow:before {\n",
       "  /* Arrow on the left of the label */\n",
       "  content: \"▸\";\n",
       "  float: left;\n",
       "  margin-right: 0.25em;\n",
       "  color: var(--sklearn-color-icon);\n",
       "}\n",
       "\n",
       "#sk-container-id-1 label.sk-toggleable__label-arrow:hover:before {\n",
       "  color: var(--sklearn-color-text);\n",
       "}\n",
       "\n",
       "/* Toggleable content - dropdown */\n",
       "\n",
       "#sk-container-id-1 div.sk-toggleable__content {\n",
       "  max-height: 0;\n",
       "  max-width: 0;\n",
       "  overflow: hidden;\n",
       "  text-align: left;\n",
       "  /* unfitted */\n",
       "  background-color: var(--sklearn-color-unfitted-level-0);\n",
       "}\n",
       "\n",
       "#sk-container-id-1 div.sk-toggleable__content.fitted {\n",
       "  /* fitted */\n",
       "  background-color: var(--sklearn-color-fitted-level-0);\n",
       "}\n",
       "\n",
       "#sk-container-id-1 div.sk-toggleable__content pre {\n",
       "  margin: 0.2em;\n",
       "  border-radius: 0.25em;\n",
       "  color: var(--sklearn-color-text);\n",
       "  /* unfitted */\n",
       "  background-color: var(--sklearn-color-unfitted-level-0);\n",
       "}\n",
       "\n",
       "#sk-container-id-1 div.sk-toggleable__content.fitted pre {\n",
       "  /* unfitted */\n",
       "  background-color: var(--sklearn-color-fitted-level-0);\n",
       "}\n",
       "\n",
       "#sk-container-id-1 input.sk-toggleable__control:checked~div.sk-toggleable__content {\n",
       "  /* Expand drop-down */\n",
       "  max-height: 200px;\n",
       "  max-width: 100%;\n",
       "  overflow: auto;\n",
       "}\n",
       "\n",
       "#sk-container-id-1 input.sk-toggleable__control:checked~label.sk-toggleable__label-arrow:before {\n",
       "  content: \"▾\";\n",
       "}\n",
       "\n",
       "/* Pipeline/ColumnTransformer-specific style */\n",
       "\n",
       "#sk-container-id-1 div.sk-label input.sk-toggleable__control:checked~label.sk-toggleable__label {\n",
       "  color: var(--sklearn-color-text);\n",
       "  background-color: var(--sklearn-color-unfitted-level-2);\n",
       "}\n",
       "\n",
       "#sk-container-id-1 div.sk-label.fitted input.sk-toggleable__control:checked~label.sk-toggleable__label {\n",
       "  background-color: var(--sklearn-color-fitted-level-2);\n",
       "}\n",
       "\n",
       "/* Estimator-specific style */\n",
       "\n",
       "/* Colorize estimator box */\n",
       "#sk-container-id-1 div.sk-estimator input.sk-toggleable__control:checked~label.sk-toggleable__label {\n",
       "  /* unfitted */\n",
       "  background-color: var(--sklearn-color-unfitted-level-2);\n",
       "}\n",
       "\n",
       "#sk-container-id-1 div.sk-estimator.fitted input.sk-toggleable__control:checked~label.sk-toggleable__label {\n",
       "  /* fitted */\n",
       "  background-color: var(--sklearn-color-fitted-level-2);\n",
       "}\n",
       "\n",
       "#sk-container-id-1 div.sk-label label.sk-toggleable__label,\n",
       "#sk-container-id-1 div.sk-label label {\n",
       "  /* The background is the default theme color */\n",
       "  color: var(--sklearn-color-text-on-default-background);\n",
       "}\n",
       "\n",
       "/* On hover, darken the color of the background */\n",
       "#sk-container-id-1 div.sk-label:hover label.sk-toggleable__label {\n",
       "  color: var(--sklearn-color-text);\n",
       "  background-color: var(--sklearn-color-unfitted-level-2);\n",
       "}\n",
       "\n",
       "/* Label box, darken color on hover, fitted */\n",
       "#sk-container-id-1 div.sk-label.fitted:hover label.sk-toggleable__label.fitted {\n",
       "  color: var(--sklearn-color-text);\n",
       "  background-color: var(--sklearn-color-fitted-level-2);\n",
       "}\n",
       "\n",
       "/* Estimator label */\n",
       "\n",
       "#sk-container-id-1 div.sk-label label {\n",
       "  font-family: monospace;\n",
       "  font-weight: bold;\n",
       "  display: inline-block;\n",
       "  line-height: 1.2em;\n",
       "}\n",
       "\n",
       "#sk-container-id-1 div.sk-label-container {\n",
       "  text-align: center;\n",
       "}\n",
       "\n",
       "/* Estimator-specific */\n",
       "#sk-container-id-1 div.sk-estimator {\n",
       "  font-family: monospace;\n",
       "  border: 1px dotted var(--sklearn-color-border-box);\n",
       "  border-radius: 0.25em;\n",
       "  box-sizing: border-box;\n",
       "  margin-bottom: 0.5em;\n",
       "  /* unfitted */\n",
       "  background-color: var(--sklearn-color-unfitted-level-0);\n",
       "}\n",
       "\n",
       "#sk-container-id-1 div.sk-estimator.fitted {\n",
       "  /* fitted */\n",
       "  background-color: var(--sklearn-color-fitted-level-0);\n",
       "}\n",
       "\n",
       "/* on hover */\n",
       "#sk-container-id-1 div.sk-estimator:hover {\n",
       "  /* unfitted */\n",
       "  background-color: var(--sklearn-color-unfitted-level-2);\n",
       "}\n",
       "\n",
       "#sk-container-id-1 div.sk-estimator.fitted:hover {\n",
       "  /* fitted */\n",
       "  background-color: var(--sklearn-color-fitted-level-2);\n",
       "}\n",
       "\n",
       "/* Specification for estimator info (e.g. \"i\" and \"?\") */\n",
       "\n",
       "/* Common style for \"i\" and \"?\" */\n",
       "\n",
       ".sk-estimator-doc-link,\n",
       "a:link.sk-estimator-doc-link,\n",
       "a:visited.sk-estimator-doc-link {\n",
       "  float: right;\n",
       "  font-size: smaller;\n",
       "  line-height: 1em;\n",
       "  font-family: monospace;\n",
       "  background-color: var(--sklearn-color-background);\n",
       "  border-radius: 1em;\n",
       "  height: 1em;\n",
       "  width: 1em;\n",
       "  text-decoration: none !important;\n",
       "  margin-left: 1ex;\n",
       "  /* unfitted */\n",
       "  border: var(--sklearn-color-unfitted-level-1) 1pt solid;\n",
       "  color: var(--sklearn-color-unfitted-level-1);\n",
       "}\n",
       "\n",
       ".sk-estimator-doc-link.fitted,\n",
       "a:link.sk-estimator-doc-link.fitted,\n",
       "a:visited.sk-estimator-doc-link.fitted {\n",
       "  /* fitted */\n",
       "  border: var(--sklearn-color-fitted-level-1) 1pt solid;\n",
       "  color: var(--sklearn-color-fitted-level-1);\n",
       "}\n",
       "\n",
       "/* On hover */\n",
       "div.sk-estimator:hover .sk-estimator-doc-link:hover,\n",
       ".sk-estimator-doc-link:hover,\n",
       "div.sk-label-container:hover .sk-estimator-doc-link:hover,\n",
       ".sk-estimator-doc-link:hover {\n",
       "  /* unfitted */\n",
       "  background-color: var(--sklearn-color-unfitted-level-3);\n",
       "  color: var(--sklearn-color-background);\n",
       "  text-decoration: none;\n",
       "}\n",
       "\n",
       "div.sk-estimator.fitted:hover .sk-estimator-doc-link.fitted:hover,\n",
       ".sk-estimator-doc-link.fitted:hover,\n",
       "div.sk-label-container:hover .sk-estimator-doc-link.fitted:hover,\n",
       ".sk-estimator-doc-link.fitted:hover {\n",
       "  /* fitted */\n",
       "  background-color: var(--sklearn-color-fitted-level-3);\n",
       "  color: var(--sklearn-color-background);\n",
       "  text-decoration: none;\n",
       "}\n",
       "\n",
       "/* Span, style for the box shown on hovering the info icon */\n",
       ".sk-estimator-doc-link span {\n",
       "  display: none;\n",
       "  z-index: 9999;\n",
       "  position: relative;\n",
       "  font-weight: normal;\n",
       "  right: .2ex;\n",
       "  padding: .5ex;\n",
       "  margin: .5ex;\n",
       "  width: min-content;\n",
       "  min-width: 20ex;\n",
       "  max-width: 50ex;\n",
       "  color: var(--sklearn-color-text);\n",
       "  box-shadow: 2pt 2pt 4pt #999;\n",
       "  /* unfitted */\n",
       "  background: var(--sklearn-color-unfitted-level-0);\n",
       "  border: .5pt solid var(--sklearn-color-unfitted-level-3);\n",
       "}\n",
       "\n",
       ".sk-estimator-doc-link.fitted span {\n",
       "  /* fitted */\n",
       "  background: var(--sklearn-color-fitted-level-0);\n",
       "  border: var(--sklearn-color-fitted-level-3);\n",
       "}\n",
       "\n",
       ".sk-estimator-doc-link:hover span {\n",
       "  display: block;\n",
       "}\n",
       "\n",
       "/* \"?\"-specific style due to the `<a>` HTML tag */\n",
       "\n",
       "#sk-container-id-1 a.estimator_doc_link {\n",
       "  float: right;\n",
       "  font-size: 1rem;\n",
       "  line-height: 1em;\n",
       "  font-family: monospace;\n",
       "  background-color: var(--sklearn-color-background);\n",
       "  border-radius: 1rem;\n",
       "  height: 1rem;\n",
       "  width: 1rem;\n",
       "  text-decoration: none;\n",
       "  /* unfitted */\n",
       "  color: var(--sklearn-color-unfitted-level-1);\n",
       "  border: var(--sklearn-color-unfitted-level-1) 1pt solid;\n",
       "}\n",
       "\n",
       "#sk-container-id-1 a.estimator_doc_link.fitted {\n",
       "  /* fitted */\n",
       "  border: var(--sklearn-color-fitted-level-1) 1pt solid;\n",
       "  color: var(--sklearn-color-fitted-level-1);\n",
       "}\n",
       "\n",
       "/* On hover */\n",
       "#sk-container-id-1 a.estimator_doc_link:hover {\n",
       "  /* unfitted */\n",
       "  background-color: var(--sklearn-color-unfitted-level-3);\n",
       "  color: var(--sklearn-color-background);\n",
       "  text-decoration: none;\n",
       "}\n",
       "\n",
       "#sk-container-id-1 a.estimator_doc_link.fitted:hover {\n",
       "  /* fitted */\n",
       "  background-color: var(--sklearn-color-fitted-level-3);\n",
       "}\n",
       "</style><div id=\"sk-container-id-1\" class=\"sk-top-container\"><div class=\"sk-text-repr-fallback\"><pre>XGBClassifier(base_score=None, booster=None, callbacks=None,\n",
       "              colsample_bylevel=None, colsample_bynode=0.14177702125336888,\n",
       "              colsample_bytree=None, device=None, early_stopping_rounds=None,\n",
       "              enable_categorical=False,\n",
       "              eval_metric=&lt;function custom_f1_score at 0x7fe8d03f0040&gt;,\n",
       "              feature_types=None, gamma=None, grow_policy=None,\n",
       "              importance_type=None, interaction_constraints=None,\n",
       "              learning_rate=0.03436849986627612, max_bin=None,\n",
       "              max_cat_threshold=None, max_cat_to_onehot=None,\n",
       "              max_delta_step=None, max_depth=14, max_leaves=None,\n",
       "              min_child_weight=68, missing=nan, monotone_constraints=None,\n",
       "              multi_strategy=None, n_estimators=10, n_jobs=None,\n",
       "              num_parallel_tree=None, objective=&#x27;multi:softprob&#x27;, ...)</pre><b>In a Jupyter environment, please rerun this cell to show the HTML representation or trust the notebook. <br />On GitHub, the HTML representation is unable to render, please try loading this page with nbviewer.org.</b></div><div class=\"sk-container\" hidden><div class=\"sk-item\"><div class=\"sk-estimator fitted sk-toggleable\"><input class=\"sk-toggleable__control sk-hidden--visually\" id=\"sk-estimator-id-1\" type=\"checkbox\" checked><label for=\"sk-estimator-id-1\" class=\"sk-toggleable__label fitted sk-toggleable__label-arrow fitted\">&nbsp;XGBClassifier<span class=\"sk-estimator-doc-link fitted\">i<span>Fitted</span></span></label><div class=\"sk-toggleable__content fitted\"><pre>XGBClassifier(base_score=None, booster=None, callbacks=None,\n",
       "              colsample_bylevel=None, colsample_bynode=0.14177702125336888,\n",
       "              colsample_bytree=None, device=None, early_stopping_rounds=None,\n",
       "              enable_categorical=False,\n",
       "              eval_metric=&lt;function custom_f1_score at 0x7fe8d03f0040&gt;,\n",
       "              feature_types=None, gamma=None, grow_policy=None,\n",
       "              importance_type=None, interaction_constraints=None,\n",
       "              learning_rate=0.03436849986627612, max_bin=None,\n",
       "              max_cat_threshold=None, max_cat_to_onehot=None,\n",
       "              max_delta_step=None, max_depth=14, max_leaves=None,\n",
       "              min_child_weight=68, missing=nan, monotone_constraints=None,\n",
       "              multi_strategy=None, n_estimators=10, n_jobs=None,\n",
       "              num_parallel_tree=None, objective=&#x27;multi:softprob&#x27;, ...)</pre></div> </div></div></div></div>"
      ],
      "text/plain": [
       "XGBClassifier(base_score=None, booster=None, callbacks=None,\n",
       "              colsample_bylevel=None, colsample_bynode=0.14177702125336888,\n",
       "              colsample_bytree=None, device=None, early_stopping_rounds=None,\n",
       "              enable_categorical=False,\n",
       "              eval_metric=<function custom_f1_score at 0x7fe8d03f0040>,\n",
       "              feature_types=None, gamma=None, grow_policy=None,\n",
       "              importance_type=None, interaction_constraints=None,\n",
       "              learning_rate=0.03436849986627612, max_bin=None,\n",
       "              max_cat_threshold=None, max_cat_to_onehot=None,\n",
       "              max_delta_step=None, max_depth=14, max_leaves=None,\n",
       "              min_child_weight=68, missing=nan, monotone_constraints=None,\n",
       "              multi_strategy=None, n_estimators=10, n_jobs=None,\n",
       "              num_parallel_tree=None, objective='multi:softprob', ...)"
      ]
     },
     "execution_count": 21,
     "metadata": {},
     "output_type": "execute_result"
    }
   ],
   "source": [
    "n_estimators = int(study.best_trial.user_attrs['best_iteration']*1.2)\n",
    "xgb = xgboost.XGBClassifier(\n",
    "        eval_metric=eval_metric,\n",
    "        n_estimators=n_estimators,\n",
    "        **study.best_trial.params\n",
    "    )\n",
    "xgb.fit(\n",
    "    ssp.vstack((X_train, X_val)), \n",
    "    np.concatenate((y_train_enc, y_val_enc)),\n",
    "    verbose=1,\n",
    ")"
   ]
  },
  {
   "cell_type": "code",
   "execution_count": 22,
   "id": "99aa65cb",
   "metadata": {
    "execution": {
     "iopub.execute_input": "2025-05-15T16:13:24.029723Z",
     "iopub.status.busy": "2025-05-15T16:13:24.029327Z",
     "iopub.status.idle": "2025-05-15T16:13:24.058194Z",
     "shell.execute_reply": "2025-05-15T16:13:24.057862Z"
    },
    "papermill": {
     "duration": 0.050324,
     "end_time": "2025-05-15T16:13:24.059063",
     "exception": false,
     "start_time": "2025-05-15T16:13:24.008739",
     "status": "completed"
    },
    "tags": []
   },
   "outputs": [
    {
     "data": {
      "text/plain": [
       "['/scratch_isilon/groups/singlecell/shared/projects/Inflammation-PBMCs-Atlas/03_downstream_analysis/08_gene_importance/xgboost_external_validation/xgboost_TopN_genes/results_20/best_model/UTC_12_4_xgb.json']"
      ]
     },
     "execution_count": 22,
     "metadata": {},
     "output_type": "execute_result"
    }
   ],
   "source": [
    "out_dir = here(f'03_downstream_analysis/08_gene_importance/xgboost_external_validation/xgboost_TopN_genes/results_{N_GENES}/best_model')\n",
    "\n",
    "if not os.path.exists(out_dir):\n",
    "    os.makedirs(out_dir)\n",
    "    \n",
    "joblib.dump(xgb, os.path.join(out_dir, f'{CELL_TYPE}_{SEED}_{TEST_SPLIT_IDX}_xgb.json'))"
   ]
  },
  {
   "cell_type": "code",
   "execution_count": 23,
   "id": "3f886b8a",
   "metadata": {
    "execution": {
     "iopub.execute_input": "2025-05-15T16:13:24.102481Z",
     "iopub.status.busy": "2025-05-15T16:13:24.102295Z",
     "iopub.status.idle": "2025-05-15T16:13:24.111950Z",
     "shell.execute_reply": "2025-05-15T16:13:24.111618Z"
    },
    "papermill": {
     "duration": 0.024296,
     "end_time": "2025-05-15T16:13:24.116963",
     "exception": false,
     "start_time": "2025-05-15T16:13:24.092667",
     "status": "completed"
    },
    "tags": []
   },
   "outputs": [],
   "source": [
    "df_pred_test = pd.DataFrame(dict(\n",
    "    cell_id=train_adata.obs.iloc[test_idxs].index.values,\n",
    "    y_true=y_test, \n",
    "    y_true_code=y_test_enc, \n",
    "    y_pred=xgb.predict(X_test))).set_index('cell_id')"
   ]
  },
  {
   "cell_type": "code",
   "execution_count": 24,
   "id": "475631b5",
   "metadata": {
    "execution": {
     "iopub.execute_input": "2025-05-15T16:13:24.148845Z",
     "iopub.status.busy": "2025-05-15T16:13:24.148655Z",
     "iopub.status.idle": "2025-05-15T16:13:24.187631Z",
     "shell.execute_reply": "2025-05-15T16:13:24.187236Z"
    },
    "papermill": {
     "duration": 0.049641,
     "end_time": "2025-05-15T16:13:24.188531",
     "exception": false,
     "start_time": "2025-05-15T16:13:24.138890",
     "status": "completed"
    },
    "tags": []
   },
   "outputs": [],
   "source": [
    "out_dir = here(f'03_downstream_analysis/08_gene_importance/xgboost_external_validation/xgboost_TopN_genes/results_{N_GENES}/predictions')\n",
    "\n",
    "if not os.path.exists(out_dir):\n",
    "    os.makedirs(out_dir)\n",
    "    \n",
    "df_pred_test.to_csv(os.path.join(out_dir, f'{CELL_TYPE}_{SEED}_{TEST_SPLIT_IDX}_pred_test.zip'))"
   ]
  },
  {
   "cell_type": "code",
   "execution_count": 25,
   "id": "2e654d5f",
   "metadata": {
    "execution": {
     "iopub.execute_input": "2025-05-15T16:13:24.242051Z",
     "iopub.status.busy": "2025-05-15T16:13:24.241706Z",
     "iopub.status.idle": "2025-05-15T16:13:24.249722Z",
     "shell.execute_reply": "2025-05-15T16:13:24.249333Z"
    },
    "papermill": {
     "duration": 0.018343,
     "end_time": "2025-05-15T16:13:24.250608",
     "exception": false,
     "start_time": "2025-05-15T16:13:24.232265",
     "status": "completed"
    },
    "tags": []
   },
   "outputs": [
    {
     "name": "stderr",
     "output_type": "stream",
     "text": [
      "/scratch_isilon/groups/singlecell/shared/conda_env/xgboost-cpu/lib/python3.12/site-packages/sklearn/metrics/_classification.py:2466: UserWarning: y_pred contains classes not in y_true\n",
      "  warnings.warn(\"y_pred contains classes not in y_true\")\n"
     ]
    }
   ],
   "source": [
    "metrics_dict = dict(\n",
    "    BAS=balanced_accuracy_score(y_true=df_pred_test.y_true_code, y_pred=df_pred_test.y_pred), WF1=f1_score(y_true=df_pred_test.y_true_code, y_pred=df_pred_test.y_pred,average='weighted'))"
   ]
  },
  {
   "cell_type": "code",
   "execution_count": 26,
   "id": "2067314f",
   "metadata": {
    "execution": {
     "iopub.execute_input": "2025-05-15T16:13:24.278937Z",
     "iopub.status.busy": "2025-05-15T16:13:24.278752Z",
     "iopub.status.idle": "2025-05-15T16:13:24.281814Z",
     "shell.execute_reply": "2025-05-15T16:13:24.281487Z"
    },
    "papermill": {
     "duration": 0.022831,
     "end_time": "2025-05-15T16:13:24.282731",
     "exception": false,
     "start_time": "2025-05-15T16:13:24.259900",
     "status": "completed"
    },
    "tags": []
   },
   "outputs": [
    {
     "data": {
      "text/plain": [
       "{'BAS': 0.3147497119350077, 'WF1': 0.5413044252270958}"
      ]
     },
     "execution_count": 26,
     "metadata": {},
     "output_type": "execute_result"
    }
   ],
   "source": [
    "metrics_dict"
   ]
  },
  {
   "cell_type": "code",
   "execution_count": 27,
   "id": "4dce9b7f",
   "metadata": {
    "execution": {
     "iopub.execute_input": "2025-05-15T16:13:24.325528Z",
     "iopub.status.busy": "2025-05-15T16:13:24.325345Z",
     "iopub.status.idle": "2025-05-15T16:13:24.334313Z",
     "shell.execute_reply": "2025-05-15T16:13:24.333957Z"
    },
    "papermill": {
     "duration": 0.042684,
     "end_time": "2025-05-15T16:13:24.335228",
     "exception": false,
     "start_time": "2025-05-15T16:13:24.292544",
     "status": "completed"
    },
    "tags": []
   },
   "outputs": [
    {
     "data": {
      "text/html": [
       "<div>\n",
       "<style scoped>\n",
       "    .dataframe tbody tr th:only-of-type {\n",
       "        vertical-align: middle;\n",
       "    }\n",
       "\n",
       "    .dataframe tbody tr th {\n",
       "        vertical-align: top;\n",
       "    }\n",
       "\n",
       "    .dataframe thead th {\n",
       "        text-align: right;\n",
       "    }\n",
       "</style>\n",
       "<table border=\"1\" class=\"dataframe\">\n",
       "  <thead>\n",
       "    <tr style=\"text-align: right;\">\n",
       "      <th></th>\n",
       "      <th>BAS</th>\n",
       "      <th>WF1</th>\n",
       "      <th>split_idx</th>\n",
       "      <th>gene_set_seed</th>\n",
       "      <th>cell_type</th>\n",
       "    </tr>\n",
       "  </thead>\n",
       "  <tbody>\n",
       "    <tr>\n",
       "      <th>0</th>\n",
       "      <td>0.31475</td>\n",
       "      <td>0.541304</td>\n",
       "      <td>4</td>\n",
       "      <td>12</td>\n",
       "      <td>UTC</td>\n",
       "    </tr>\n",
       "  </tbody>\n",
       "</table>\n",
       "</div>"
      ],
      "text/plain": [
       "       BAS       WF1  split_idx  gene_set_seed cell_type\n",
       "0  0.31475  0.541304          4             12       UTC"
      ]
     },
     "execution_count": 27,
     "metadata": {},
     "output_type": "execute_result"
    }
   ],
   "source": [
    "metrics_df = pd.DataFrame.from_dict([metrics_dict]).assign(split_idx=TEST_SPLIT_IDX, gene_set_seed=SEED, cell_type=CELL_TYPE)\n",
    "metrics_df"
   ]
  },
  {
   "cell_type": "code",
   "execution_count": 28,
   "id": "d4febabc",
   "metadata": {
    "execution": {
     "iopub.execute_input": "2025-05-15T16:13:24.376484Z",
     "iopub.status.busy": "2025-05-15T16:13:24.376288Z",
     "iopub.status.idle": "2025-05-15T16:13:24.385219Z",
     "shell.execute_reply": "2025-05-15T16:13:24.384842Z"
    },
    "papermill": {
     "duration": 0.041102,
     "end_time": "2025-05-15T16:13:24.386051",
     "exception": false,
     "start_time": "2025-05-15T16:13:24.344949",
     "status": "completed"
    },
    "tags": []
   },
   "outputs": [],
   "source": [
    "out_dir = here(f'03_downstream_analysis/08_gene_importance/xgboost_external_validation/xgboost_TopN_genes/results_{N_GENES}/metrics')\n",
    "\n",
    "if not os.path.exists(out_dir):\n",
    "    os.makedirs(out_dir)\n",
    "    \n",
    "metrics_df.to_csv(os.path.join(out_dir, f'{CELL_TYPE}_{SEED}_{TEST_SPLIT_IDX}_metrics.zip'))"
   ]
  }
 ],
 "metadata": {
  "kernelspec": {
   "display_name": "Python 3 (ipykernel)",
   "language": "python",
   "name": "python3"
  },
  "language_info": {
   "codemirror_mode": {
    "name": "ipython",
    "version": 3
   },
   "file_extension": ".py",
   "mimetype": "text/x-python",
   "name": "python",
   "nbconvert_exporter": "python",
   "pygments_lexer": "ipython3",
   "version": "3.12.5"
  },
  "papermill": {
   "default_parameters": {},
   "duration": 33.725459,
   "end_time": "2025-05-15T16:13:25.130339",
   "environment_variables": {},
   "exception": null,
   "input_path": "02_xgboost_fitting_external_20genes.ipynb",
   "output_path": "results_20/executed_notebooks/xgboost_fitting_external_CT_UTC_GS_12_seed4.ipynb",
   "parameters": {
    "CELL_TYPE": "UTC",
    "SEED": 12,
    "TEST_SPLIT_IDX": 4
   },
   "start_time": "2025-05-15T16:12:51.404880",
   "version": "2.6.0"
  }
 },
 "nbformat": 4,
 "nbformat_minor": 5
}