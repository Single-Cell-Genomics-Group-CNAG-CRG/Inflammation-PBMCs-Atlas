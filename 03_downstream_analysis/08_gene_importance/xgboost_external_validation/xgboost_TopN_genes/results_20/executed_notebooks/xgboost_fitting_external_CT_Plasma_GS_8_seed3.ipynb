{
 "cells": [
  {
   "cell_type": "code",
   "execution_count": 1,
   "id": "556f3920",
   "metadata": {
    "editable": true,
    "execution": {
     "iopub.execute_input": "2025-05-15T16:15:35.300535Z",
     "iopub.status.busy": "2025-05-15T16:15:35.300300Z",
     "iopub.status.idle": "2025-05-15T16:15:35.303921Z",
     "shell.execute_reply": "2025-05-15T16:15:35.303481Z"
    },
    "papermill": {
     "duration": 0.013419,
     "end_time": "2025-05-15T16:15:35.304992",
     "exception": false,
     "start_time": "2025-05-15T16:15:35.291573",
     "status": "completed"
    },
    "slideshow": {
     "slide_type": ""
    },
    "tags": [
     "parameters"
    ]
   },
   "outputs": [],
   "source": [
    "CELL_TYPE = 'pDC'\n",
    "N_GENES: int = 20\n",
    "SEED = 'shap_studyID' #'disease_NOstudy' 'study_NOdisease' or 'int' or 'shap_studyID'\n",
    "TEST_SPLIT_IDX: int = 1 #[0,4]"
   ]
  },
  {
   "cell_type": "code",
   "execution_count": 2,
   "id": "bdad0d62",
   "metadata": {
    "execution": {
     "iopub.execute_input": "2025-05-15T16:15:35.344875Z",
     "iopub.status.busy": "2025-05-15T16:15:35.344617Z",
     "iopub.status.idle": "2025-05-15T16:15:35.347225Z",
     "shell.execute_reply": "2025-05-15T16:15:35.346815Z"
    },
    "papermill": {
     "duration": 0.036607,
     "end_time": "2025-05-15T16:15:35.348162",
     "exception": false,
     "start_time": "2025-05-15T16:15:35.311555",
     "status": "completed"
    },
    "tags": [
     "injected-parameters"
    ]
   },
   "outputs": [],
   "source": [
    "# Parameters\n",
    "CELL_TYPE = \"Plasma\"\n",
    "SEED = 8\n",
    "TEST_SPLIT_IDX = 3\n"
   ]
  },
  {
   "cell_type": "code",
   "execution_count": 3,
   "id": "2bc3f4db",
   "metadata": {
    "execution": {
     "iopub.execute_input": "2025-05-15T16:15:35.361522Z",
     "iopub.status.busy": "2025-05-15T16:15:35.361266Z",
     "iopub.status.idle": "2025-05-15T16:15:35.363698Z",
     "shell.execute_reply": "2025-05-15T16:15:35.363258Z"
    },
    "papermill": {
     "duration": 0.010404,
     "end_time": "2025-05-15T16:15:35.364616",
     "exception": false,
     "start_time": "2025-05-15T16:15:35.354212",
     "status": "completed"
    },
    "tags": []
   },
   "outputs": [],
   "source": [
    "N_SPLITS: int = 5\n",
    "N_TRIALS: int = 50"
   ]
  },
  {
   "cell_type": "code",
   "execution_count": 4,
   "id": "238720ef",
   "metadata": {
    "execution": {
     "iopub.execute_input": "2025-05-15T16:15:35.378593Z",
     "iopub.status.busy": "2025-05-15T16:15:35.378333Z",
     "iopub.status.idle": "2025-05-15T16:15:37.246688Z",
     "shell.execute_reply": "2025-05-15T16:15:37.246022Z"
    },
    "papermill": {
     "duration": 1.877459,
     "end_time": "2025-05-15T16:15:37.248188",
     "exception": false,
     "start_time": "2025-05-15T16:15:35.370729",
     "status": "completed"
    },
    "tags": []
   },
   "outputs": [],
   "source": [
    "import os\n",
    "import sys\n",
    "from pyprojroot.here import here\n",
    "import pandas as pd\n",
    "import anndata as ad\n",
    "import numpy as np\n",
    "import math\n",
    "from sklearn.model_selection import StratifiedGroupKFold\n",
    "from sklearn.preprocessing import LabelEncoder\n",
    "from sklearn.metrics import f1_score\n",
    "import matplotlib.pyplot as plt\n",
    "import seaborn as sns\n",
    "from itertools import product\n",
    "from sklearn.metrics import balanced_accuracy_score, f1_score\n",
    "import optuna\n",
    "\n",
    "import joblib\n",
    "import pickle\n",
    "import datetime\n",
    "\n",
    "import collections\n",
    "\n",
    "import xgboost\n",
    "from sklearn.preprocessing import LabelEncoder\n",
    "\n",
    "import scipy.sparse as ssp\n",
    "import joblib\n",
    "\n",
    "from dotenv import load_dotenv"
   ]
  },
  {
   "cell_type": "code",
   "execution_count": 5,
   "id": "73475984",
   "metadata": {
    "execution": {
     "iopub.execute_input": "2025-05-15T16:15:37.262742Z",
     "iopub.status.busy": "2025-05-15T16:15:37.262216Z",
     "iopub.status.idle": "2025-05-15T16:15:37.269753Z",
     "shell.execute_reply": "2025-05-15T16:15:37.269365Z"
    },
    "papermill": {
     "duration": 0.015587,
     "end_time": "2025-05-15T16:15:37.270719",
     "exception": false,
     "start_time": "2025-05-15T16:15:37.255132",
     "status": "completed"
    },
    "tags": []
   },
   "outputs": [
    {
     "data": {
      "text/plain": [
       "True"
      ]
     },
     "execution_count": 5,
     "metadata": {},
     "output_type": "execute_result"
    }
   ],
   "source": [
    "load_dotenv()"
   ]
  },
  {
   "cell_type": "markdown",
   "id": "6f1b9282",
   "metadata": {
    "papermill": {
     "duration": 0.00604,
     "end_time": "2025-05-15T16:15:37.283443",
     "exception": false,
     "start_time": "2025-05-15T16:15:37.277403",
     "status": "completed"
    },
    "tags": []
   },
   "source": [
    "# LOAD DATASET"
   ]
  },
  {
   "cell_type": "code",
   "execution_count": 6,
   "id": "352422cd",
   "metadata": {
    "execution": {
     "iopub.execute_input": "2025-05-15T16:15:37.309949Z",
     "iopub.status.busy": "2025-05-15T16:15:37.309490Z",
     "iopub.status.idle": "2025-05-15T16:15:37.359763Z",
     "shell.execute_reply": "2025-05-15T16:15:37.359262Z"
    },
    "papermill": {
     "duration": 0.058766,
     "end_time": "2025-05-15T16:15:37.360817",
     "exception": false,
     "start_time": "2025-05-15T16:15:37.302051",
     "status": "completed"
    },
    "tags": []
   },
   "outputs": [],
   "source": [
    "train_adata = ad.read_h5ad(\n",
    "    here(f'03_downstream_analysis/08_gene_importance/xgboost_external_validation/xgboost_TopN_genes/data_cellTypes/EXTERNAL_{CELL_TYPE}.filtered.log1p.h5ad')\n",
    ")"
   ]
  },
  {
   "cell_type": "code",
   "execution_count": 7,
   "id": "8d0f3a84",
   "metadata": {
    "execution": {
     "iopub.execute_input": "2025-05-15T16:15:37.374375Z",
     "iopub.status.busy": "2025-05-15T16:15:37.373869Z",
     "iopub.status.idle": "2025-05-15T16:15:37.387335Z",
     "shell.execute_reply": "2025-05-15T16:15:37.386835Z"
    },
    "papermill": {
     "duration": 0.021692,
     "end_time": "2025-05-15T16:15:37.388884",
     "exception": false,
     "start_time": "2025-05-15T16:15:37.367192",
     "status": "completed"
    },
    "tags": []
   },
   "outputs": [
    {
     "name": "stdout",
     "output_type": "stream",
     "text": [
      "['ENSG00000156587' 'ENSG00000121552' 'ENSG00000163131' 'ENSG00000197102'\n",
      " 'ENSG00000143774' 'ENSG00000188404' 'ENSG00000164483' 'ENSG00000132510'\n",
      " 'ENSG00000186010' 'ENSG00000100365' 'ENSG00000115232' 'ENSG00000134954'\n",
      " 'ENSG00000011600' 'ENSG00000115415' 'ENSG00000121807' 'ENSG00000092820'\n",
      " 'ENSG00000126353' 'ENSG00000173039' 'ENSG00000169442' 'ENSG00000135046'\n",
      " 'ENSG00000168461' 'ENSG00000126561' 'ENSG00000160213' 'ENSG00000026025'\n",
      " 'ENSG00000137100' 'ENSG00000132475' 'ENSG00000077984' 'ENSG00000121879'\n",
      " 'ENSG00000140105' 'ENSG00000197540' 'ENSG00000138795' 'ENSG00000110395'\n",
      " 'ENSG00000128340' 'ENSG00000171700' 'ENSG00000172183' 'ENSG00000196154'\n",
      " 'ENSG00000079805' 'ENSG00000125740' 'ENSG00000038427' 'ENSG00000143119'\n",
      " 'ENSG00000223865' 'ENSG00000143924' 'ENSG00000090339' 'ENSG00000197747'\n",
      " 'ENSG00000198355' 'ENSG00000121858' 'ENSG00000175203' 'ENSG00000103490'\n",
      " 'ENSG00000118971' 'ENSG00000196092' 'ENSG00000115145' 'ENSG00000109861'\n",
      " 'ENSG00000205220' 'ENSG00000104904' 'ENSG00000121316' 'ENSG00000090266'\n",
      " 'ENSG00000138674' 'ENSG00000145649' 'ENSG00000028137' 'ENSG00000163513'\n",
      " 'ENSG00000172349' 'ENSG00000015475' 'ENSG00000115884' 'ENSG00000196961'\n",
      " 'ENSG00000115073' 'ENSG00000100368' 'ENSG00000175390' 'ENSG00000111716'\n",
      " 'ENSG00000126264' 'ENSG00000117318' 'ENSG00000170581' 'ENSG00000125743'\n",
      " 'ENSG00000100100' 'ENSG00000100911' 'ENSG00000175768' 'ENSG00000090863'\n",
      " 'ENSG00000265972' 'ENSG00000177663' 'ENSG00000153064' 'ENSG00000077380'\n",
      " 'ENSG00000143390' 'ENSG00000066336' 'ENSG00000127314' 'ENSG00000120837'\n",
      " 'ENSG00000185338' 'ENSG00000143575' 'ENSG00000166888' 'ENSG00000118260'\n",
      " 'ENSG00000105397' 'ENSG00000005844' 'ENSG00000110077' 'ENSG00000227507'\n",
      " 'ENSG00000105373' 'ENSG00000138378' 'ENSG00000134539' 'ENSG00000139514'\n",
      " 'ENSG00000165272' 'ENSG00000008517' 'ENSG00000068831' 'ENSG00000197111'\n",
      " 'ENSG00000164136' 'ENSG00000104870' 'ENSG00000100453' 'ENSG00000131143'\n",
      " 'ENSG00000100600' 'ENSG00000101096' 'ENSG00000162704']\n"
     ]
    }
   ],
   "source": [
    "if SEED != 'all':\n",
    "    gene_subset = np.load(here(f'03_downstream_analysis/08_gene_importance/xgboost_external_validation/shap_gene_selection/gene_subsets_{N_GENES}/{CELL_TYPE}_{SEED}.npy'), allow_pickle=True)\n",
    "    train_adata = train_adata[:,gene_subset]\n",
    "    print(gene_subset)\n",
    "elif SEED == 'all':\n",
    "    print('Using all genes')\n",
    "else:\n",
    "    raise ValueError()"
   ]
  },
  {
   "cell_type": "code",
   "execution_count": 8,
   "id": "66f7ef5d",
   "metadata": {
    "execution": {
     "iopub.execute_input": "2025-05-15T16:15:37.402753Z",
     "iopub.status.busy": "2025-05-15T16:15:37.402309Z",
     "iopub.status.idle": "2025-05-15T16:15:37.406530Z",
     "shell.execute_reply": "2025-05-15T16:15:37.406155Z"
    },
    "papermill": {
     "duration": 0.012839,
     "end_time": "2025-05-15T16:15:37.407712",
     "exception": false,
     "start_time": "2025-05-15T16:15:37.394873",
     "status": "completed"
    },
    "tags": []
   },
   "outputs": [
    {
     "data": {
      "text/plain": [
       "(542, 107)"
      ]
     },
     "execution_count": 8,
     "metadata": {},
     "output_type": "execute_result"
    }
   ],
   "source": [
    "train_adata.shape"
   ]
  },
  {
   "cell_type": "code",
   "execution_count": 9,
   "id": "274646e4",
   "metadata": {
    "execution": {
     "iopub.execute_input": "2025-05-15T16:15:37.423980Z",
     "iopub.status.busy": "2025-05-15T16:15:37.423454Z",
     "iopub.status.idle": "2025-05-15T16:15:37.428401Z",
     "shell.execute_reply": "2025-05-15T16:15:37.428006Z"
    },
    "papermill": {
     "duration": 0.014728,
     "end_time": "2025-05-15T16:15:37.429742",
     "exception": false,
     "start_time": "2025-05-15T16:15:37.415014",
     "status": "completed"
    },
    "tags": []
   },
   "outputs": [
    {
     "data": {
      "text/plain": [
       "['RA', 'COVID', 'healthy', 'HIV', 'cirrhosis', 'CD', 'SLE', 'sepsis']\n",
       "Categories (8, object): ['CD', 'COVID', 'HIV', 'RA', 'SLE', 'cirrhosis', 'healthy', 'sepsis']"
      ]
     },
     "execution_count": 9,
     "metadata": {},
     "output_type": "execute_result"
    }
   ],
   "source": [
    "train_adata.obs.disease.unique()"
   ]
  },
  {
   "cell_type": "code",
   "execution_count": 10,
   "id": "224d8a7a",
   "metadata": {
    "execution": {
     "iopub.execute_input": "2025-05-15T16:15:37.455585Z",
     "iopub.status.busy": "2025-05-15T16:15:37.455284Z",
     "iopub.status.idle": "2025-05-15T16:15:37.460577Z",
     "shell.execute_reply": "2025-05-15T16:15:37.460171Z"
    },
    "papermill": {
     "duration": 0.025466,
     "end_time": "2025-05-15T16:15:37.461870",
     "exception": false,
     "start_time": "2025-05-15T16:15:37.436404",
     "status": "completed"
    },
    "tags": []
   },
   "outputs": [
    {
     "data": {
      "text/plain": [
       "['SCGT00val_I0364_T0', 'SCGT00val_I036019_T0', 'SCGT00val_I036028_T0', 'SCGT00val_I036024_T0', 'SCGT00val_I036016_T0', ..., '10XGenomics_10XHC2_T0', '10XGenomics_10XHC3_T0', '10XGenomics_10XHC5_T0', '10XGenomics_10XHC7_T0', '10XGenomics_10XHC8_T0']\n",
       "Length: 74\n",
       "Categories (74, object): ['10XGenomics_10XHC1_T0', '10XGenomics_10XHC2_T0', '10XGenomics_10XHC3_T0', '10XGenomics_10XHC4_T0', ..., 'Savage2021_BRISL6_T0', 'Savage2021_BRISL7_T0', 'Savage2021_PIDA_T0', 'Savage2021_PIDB_T0']"
      ]
     },
     "execution_count": 10,
     "metadata": {},
     "output_type": "execute_result"
    }
   ],
   "source": [
    "train_adata.obs.sampleID.unique()"
   ]
  },
  {
   "cell_type": "code",
   "execution_count": 11,
   "id": "31574613",
   "metadata": {
    "execution": {
     "iopub.execute_input": "2025-05-15T16:15:37.478573Z",
     "iopub.status.busy": "2025-05-15T16:15:37.477869Z",
     "iopub.status.idle": "2025-05-15T16:15:37.513935Z",
     "shell.execute_reply": "2025-05-15T16:15:37.513314Z"
    },
    "papermill": {
     "duration": 0.04596,
     "end_time": "2025-05-15T16:15:37.515601",
     "exception": false,
     "start_time": "2025-05-15T16:15:37.469641",
     "status": "completed"
    },
    "tags": []
   },
   "outputs": [],
   "source": [
    "all_idxs = np.arange(train_adata.obs.shape[0])\n",
    "left_out_splits = [s[1] for s in StratifiedGroupKFold(n_splits=N_SPLITS).split(all_idxs, train_adata.obs.disease, train_adata.obs.sampleID)]"
   ]
  },
  {
   "cell_type": "code",
   "execution_count": 12,
   "id": "b39d2ab1",
   "metadata": {
    "execution": {
     "iopub.execute_input": "2025-05-15T16:15:37.531028Z",
     "iopub.status.busy": "2025-05-15T16:15:37.530820Z",
     "iopub.status.idle": "2025-05-15T16:15:37.535239Z",
     "shell.execute_reply": "2025-05-15T16:15:37.534789Z"
    },
    "papermill": {
     "duration": 0.013131,
     "end_time": "2025-05-15T16:15:37.536315",
     "exception": false,
     "start_time": "2025-05-15T16:15:37.523184",
     "status": "completed"
    },
    "tags": []
   },
   "outputs": [
    {
     "data": {
      "text/plain": [
       "([0, 1, 2], 4, 3)"
      ]
     },
     "execution_count": 12,
     "metadata": {},
     "output_type": "execute_result"
    }
   ],
   "source": [
    "TRAIN_SPLIT_IDXS = [0,1,2,3,4]\n",
    "VAL_SPLIT_IDX = (TEST_SPLIT_IDX + 1) % 5\n",
    "TRAIN_SPLIT_IDXS.remove(TEST_SPLIT_IDX)\n",
    "TRAIN_SPLIT_IDXS.remove(VAL_SPLIT_IDX)\n",
    "TRAIN_SPLIT_IDXS, VAL_SPLIT_IDX, TEST_SPLIT_IDX"
   ]
  },
  {
   "cell_type": "code",
   "execution_count": 13,
   "id": "18aaa4c6",
   "metadata": {
    "execution": {
     "iopub.execute_input": "2025-05-15T16:15:37.551586Z",
     "iopub.status.busy": "2025-05-15T16:15:37.551062Z",
     "iopub.status.idle": "2025-05-15T16:15:37.554129Z",
     "shell.execute_reply": "2025-05-15T16:15:37.553772Z"
    },
    "papermill": {
     "duration": 0.012085,
     "end_time": "2025-05-15T16:15:37.555175",
     "exception": false,
     "start_time": "2025-05-15T16:15:37.543090",
     "status": "completed"
    },
    "tags": []
   },
   "outputs": [],
   "source": [
    "train_idxs = np.concatenate([left_out_splits[idx] for idx in TRAIN_SPLIT_IDXS])\n",
    "val_idxs = left_out_splits[VAL_SPLIT_IDX]\n",
    "test_idxs = left_out_splits[TEST_SPLIT_IDX]"
   ]
  },
  {
   "cell_type": "markdown",
   "id": "2f6df019",
   "metadata": {
    "papermill": {
     "duration": 0.017292,
     "end_time": "2025-05-15T16:15:37.579862",
     "exception": false,
     "start_time": "2025-05-15T16:15:37.562570",
     "status": "completed"
    },
    "tags": []
   },
   "source": [
    "### SUBSET DATASET INTO TRAIN/TEST/VAL SPLITS"
   ]
  },
  {
   "cell_type": "code",
   "execution_count": 14,
   "id": "c8683856",
   "metadata": {
    "execution": {
     "iopub.execute_input": "2025-05-15T16:15:37.595674Z",
     "iopub.status.busy": "2025-05-15T16:15:37.595341Z",
     "iopub.status.idle": "2025-05-15T16:15:37.602165Z",
     "shell.execute_reply": "2025-05-15T16:15:37.601820Z"
    },
    "papermill": {
     "duration": 0.015478,
     "end_time": "2025-05-15T16:15:37.603098",
     "exception": false,
     "start_time": "2025-05-15T16:15:37.587620",
     "status": "completed"
    },
    "tags": []
   },
   "outputs": [
    {
     "data": {
      "text/plain": [
       "((327, 107), (99, 107), (116, 107))"
      ]
     },
     "execution_count": 14,
     "metadata": {},
     "output_type": "execute_result"
    }
   ],
   "source": [
    "X_train = train_adata.X[train_idxs]\n",
    "X_test = train_adata.X[test_idxs]\n",
    "X_val = train_adata.X[val_idxs]\n",
    "X_train.shape, X_test.shape, X_val.shape"
   ]
  },
  {
   "cell_type": "code",
   "execution_count": 15,
   "id": "8a8bf47a",
   "metadata": {
    "execution": {
     "iopub.execute_input": "2025-05-15T16:15:37.616674Z",
     "iopub.status.busy": "2025-05-15T16:15:37.616336Z",
     "iopub.status.idle": "2025-05-15T16:15:37.621680Z",
     "shell.execute_reply": "2025-05-15T16:15:37.621309Z"
    },
    "papermill": {
     "duration": 0.013211,
     "end_time": "2025-05-15T16:15:37.622620",
     "exception": false,
     "start_time": "2025-05-15T16:15:37.609409",
     "status": "completed"
    },
    "tags": []
   },
   "outputs": [
    {
     "data": {
      "text/plain": [
       "((327,), (99,), (116,))"
      ]
     },
     "execution_count": 15,
     "metadata": {},
     "output_type": "execute_result"
    }
   ],
   "source": [
    "y_train = train_adata.obs.iloc[train_idxs].disease.values.astype(str)\n",
    "y_test = train_adata.obs.iloc[test_idxs].disease.values.astype(str)\n",
    "y_val = train_adata.obs.iloc[val_idxs].disease.values.astype(str)\n",
    "y_train.shape, y_test.shape, y_val.shape"
   ]
  },
  {
   "cell_type": "code",
   "execution_count": 16,
   "id": "f324ce20",
   "metadata": {
    "execution": {
     "iopub.execute_input": "2025-05-15T16:15:37.638035Z",
     "iopub.status.busy": "2025-05-15T16:15:37.637758Z",
     "iopub.status.idle": "2025-05-15T16:15:37.640778Z",
     "shell.execute_reply": "2025-05-15T16:15:37.640439Z"
    },
    "papermill": {
     "duration": 0.011845,
     "end_time": "2025-05-15T16:15:37.641742",
     "exception": false,
     "start_time": "2025-05-15T16:15:37.629897",
     "status": "completed"
    },
    "tags": []
   },
   "outputs": [],
   "source": [
    "lenc = LabelEncoder()\n",
    "y_train_enc = lenc.fit_transform(y_train)\n",
    "y_val_enc = lenc.transform(y_val)\n",
    "y_test_enc = lenc.transform(y_test)"
   ]
  },
  {
   "cell_type": "markdown",
   "id": "f688c059",
   "metadata": {
    "papermill": {
     "duration": 0.007107,
     "end_time": "2025-05-15T16:15:37.656441",
     "exception": false,
     "start_time": "2025-05-15T16:15:37.649334",
     "status": "completed"
    },
    "tags": []
   },
   "source": [
    "### GENERATE F1 "
   ]
  },
  {
   "cell_type": "code",
   "execution_count": 17,
   "id": "9de8aca6",
   "metadata": {
    "execution": {
     "iopub.execute_input": "2025-05-15T16:15:37.671610Z",
     "iopub.status.busy": "2025-05-15T16:15:37.671369Z",
     "iopub.status.idle": "2025-05-15T16:15:37.673888Z",
     "shell.execute_reply": "2025-05-15T16:15:37.673554Z"
    },
    "papermill": {
     "duration": 0.01125,
     "end_time": "2025-05-15T16:15:37.674814",
     "exception": false,
     "start_time": "2025-05-15T16:15:37.663564",
     "status": "completed"
    },
    "tags": []
   },
   "outputs": [],
   "source": [
    "def custom_f1_score(y_true, y_pred):\n",
    "    return -f1_score(y_true, y_pred.argmax(1), average='weighted')"
   ]
  },
  {
   "cell_type": "code",
   "execution_count": 18,
   "id": "5722958b",
   "metadata": {
    "execution": {
     "iopub.execute_input": "2025-05-15T16:15:37.709255Z",
     "iopub.status.busy": "2025-05-15T16:15:37.708698Z",
     "iopub.status.idle": "2025-05-15T16:15:37.712879Z",
     "shell.execute_reply": "2025-05-15T16:15:37.712490Z"
    },
    "papermill": {
     "duration": 0.032028,
     "end_time": "2025-05-15T16:15:37.713837",
     "exception": false,
     "start_time": "2025-05-15T16:15:37.681809",
     "status": "completed"
    },
    "tags": []
   },
   "outputs": [],
   "source": [
    "eval_metric=custom_f1_score\n",
    "eval_metric_name='custom_f1_score'\n",
    "\n",
    "def objective(trial):\n",
    "    params = {\n",
    "        'n_estimators': 1500,\n",
    "        'max_depth': trial.suggest_int('max_depth', 3, 20),\n",
    "        'min_child_weight': trial.suggest_int('min_child_weight', 1, 250),\n",
    "        'subsample': trial.suggest_float('subsample', 0.1, 1.0),\n",
    "        'colsample_bynode': trial.suggest_float('colsample_bynode', 0.1, 1.0),\n",
    "        'learning_rate': trial.suggest_float('learning_rate', 1e-3, 5e-1, log=True),\n",
    "    }\n",
    "    pruning_callback = optuna.integration.XGBoostPruningCallback(trial, f'validation_0-{eval_metric_name}')\n",
    "    es_callback = xgboost.callback.EarlyStopping(20, min_delta=0.001)\n",
    "    xgb = xgboost.XGBClassifier(\n",
    "        eval_metric=eval_metric,\n",
    "        callbacks=[pruning_callback, es_callback],\n",
    "        n_jobs=5,\n",
    "        **params\n",
    "    )\n",
    "    xgb.fit(\n",
    "        X_train, \n",
    "        y_train_enc, \n",
    "        verbose=0,\n",
    "        eval_set=[(X_val, y_val_enc)],\n",
    "    )\n",
    "    trial.set_user_attr('best_iteration', xgb.best_iteration)\n",
    "\n",
    "    return xgb.best_score"
   ]
  },
  {
   "cell_type": "code",
   "execution_count": 19,
   "id": "10b15f9c",
   "metadata": {
    "execution": {
     "iopub.execute_input": "2025-05-15T16:15:37.732321Z",
     "iopub.status.busy": "2025-05-15T16:15:37.732127Z",
     "iopub.status.idle": "2025-05-15T16:15:52.035647Z",
     "shell.execute_reply": "2025-05-15T16:15:52.035133Z"
    },
    "papermill": {
     "duration": 14.315163,
     "end_time": "2025-05-15T16:15:52.037184",
     "exception": false,
     "start_time": "2025-05-15T16:15:37.722021",
     "status": "completed"
    },
    "scrolled": true,
    "tags": []
   },
   "outputs": [
    {
     "name": "stderr",
     "output_type": "stream",
     "text": [
      "[I 2025-05-15 18:15:37,734] A new study created in memory with name: no-name-da35cba2-8acb-4283-80e3-7b0056076c77\n"
     ]
    },
    {
     "name": "stderr",
     "output_type": "stream",
     "text": [
      "[I 2025-05-15 18:15:37,806] Trial 0 finished with value: -0.041688 and parameters: {'max_depth': 9, 'min_child_weight': 238, 'subsample': 0.7587945476302645, 'colsample_bynode': 0.6387926357773329, 'learning_rate': 0.0026368755339723046}. Best is trial 0 with value: -0.041688.\n"
     ]
    },
    {
     "name": "stderr",
     "output_type": "stream",
     "text": [
      "[I 2025-05-15 18:15:38,599] Trial 1 finished with value: -0.566855 and parameters: {'max_depth': 5, 'min_child_weight': 15, 'subsample': 0.8795585311974417, 'colsample_bynode': 0.6410035105688879, 'learning_rate': 0.08148293210105287}. Best is trial 1 with value: -0.566855.\n"
     ]
    },
    {
     "name": "stderr",
     "output_type": "stream",
     "text": [
      "[I 2025-05-15 18:15:38,817] Trial 2 finished with value: -0.041688 and parameters: {'max_depth': 3, 'min_child_weight': 243, 'subsample': 0.8491983767203796, 'colsample_bynode': 0.29110519961044856, 'learning_rate': 0.003095566460242371}. Best is trial 1 with value: -0.566855.\n"
     ]
    },
    {
     "name": "stderr",
     "output_type": "stream",
     "text": [
      "[I 2025-05-15 18:15:39,044] Trial 3 finished with value: -0.041688 and parameters: {'max_depth': 6, 'min_child_weight': 77, 'subsample': 0.5722807884690141, 'colsample_bynode': 0.48875051677790415, 'learning_rate': 0.006109683510122491}. Best is trial 1 with value: -0.566855.\n"
     ]
    },
    {
     "name": "stderr",
     "output_type": "stream",
     "text": [
      "[I 2025-05-15 18:15:39,254] Trial 4 finished with value: -0.041688 and parameters: {'max_depth': 14, 'min_child_weight': 35, 'subsample': 0.3629301836816964, 'colsample_bynode': 0.4297256589643226, 'learning_rate': 0.01701841881702917}. Best is trial 1 with value: -0.566855.\n"
     ]
    },
    {
     "name": "stderr",
     "output_type": "stream",
     "text": [
      "[I 2025-05-15 18:15:39,468] Trial 5 finished with value: -0.041688 and parameters: {'max_depth': 17, 'min_child_weight': 50, 'subsample': 0.5628109945722505, 'colsample_bynode': 0.6331731119758383, 'learning_rate': 0.0013346527038305934}. Best is trial 1 with value: -0.566855.\n"
     ]
    },
    {
     "name": "stderr",
     "output_type": "stream",
     "text": [
      "[I 2025-05-15 18:15:39,669] Trial 6 finished with value: -0.041688 and parameters: {'max_depth': 13, 'min_child_weight': 43, 'subsample': 0.1585464336867516, 'colsample_bynode': 0.9539969835279999, 'learning_rate': 0.4038423798071558}. Best is trial 1 with value: -0.566855.\n"
     ]
    },
    {
     "name": "stderr",
     "output_type": "stream",
     "text": [
      "[I 2025-05-15 18:15:39,871] Trial 7 finished with value: -0.041688 and parameters: {'max_depth': 17, 'min_child_weight': 77, 'subsample': 0.1879049026057455, 'colsample_bynode': 0.7158097238609412, 'learning_rate': 0.015415527060141935}. Best is trial 1 with value: -0.566855.\n"
     ]
    },
    {
     "name": "stderr",
     "output_type": "stream",
     "text": [
      "[I 2025-05-15 18:15:40,083] Trial 8 finished with value: -0.041688 and parameters: {'max_depth': 5, 'min_child_weight': 124, 'subsample': 0.13094966900369656, 'colsample_bynode': 0.9183883618709039, 'learning_rate': 0.004993895014755658}. Best is trial 1 with value: -0.566855.\n"
     ]
    },
    {
     "name": "stderr",
     "output_type": "stream",
     "text": [
      "[I 2025-05-15 18:15:40,281] Trial 9 finished with value: -0.041688 and parameters: {'max_depth': 14, 'min_child_weight': 78, 'subsample': 0.5680612190600297, 'colsample_bynode': 0.5920392514089517, 'learning_rate': 0.0031543990308330965}. Best is trial 1 with value: -0.566855.\n"
     ]
    },
    {
     "name": "stderr",
     "output_type": "stream",
     "text": [
      "[I 2025-05-15 18:15:40,860] Trial 10 finished with value: -0.623542 and parameters: {'max_depth': 9, 'min_child_weight': 2, 'subsample': 0.9725833997090791, 'colsample_bynode': 0.11616568805333755, 'learning_rate': 0.17780618353487967}. Best is trial 10 with value: -0.623542.\n"
     ]
    },
    {
     "name": "stderr",
     "output_type": "stream",
     "text": [
      "[I 2025-05-15 18:15:41,177] Trial 11 pruned. Trial was pruned at iteration 21.\n"
     ]
    },
    {
     "name": "stderr",
     "output_type": "stream",
     "text": [
      "[I 2025-05-15 18:15:41,629] Trial 12 finished with value: -0.60883 and parameters: {'max_depth': 9, 'min_child_weight': 3, 'subsample': 0.9754570370311046, 'colsample_bynode': 0.14672783827498995, 'learning_rate': 0.08954997670613858}. Best is trial 10 with value: -0.623542.\n"
     ]
    },
    {
     "name": "stderr",
     "output_type": "stream",
     "text": [
      "[I 2025-05-15 18:15:41,865] Trial 13 finished with value: -0.041688 and parameters: {'max_depth': 10, 'min_child_weight': 173, 'subsample': 0.9990365834996398, 'colsample_bynode': 0.10388397775802007, 'learning_rate': 0.08954294267079196}. Best is trial 10 with value: -0.623542.\n"
     ]
    },
    {
     "name": "stderr",
     "output_type": "stream",
     "text": [
      "[I 2025-05-15 18:15:42,099] Trial 14 finished with value: -0.041688 and parameters: {'max_depth': 7, 'min_child_weight': 132, 'subsample': 0.7251427075087294, 'colsample_bynode': 0.2827065087684573, 'learning_rate': 0.39514801085683204}. Best is trial 10 with value: -0.623542.\n"
     ]
    },
    {
     "name": "stderr",
     "output_type": "stream",
     "text": [
      "[I 2025-05-15 18:15:42,666] Trial 15 finished with value: -0.59716 and parameters: {'max_depth': 20, 'min_child_weight': 2, 'subsample': 0.7157386387695167, 'colsample_bynode': 0.31387503510266057, 'learning_rate': 0.19723736175781964}. Best is trial 10 with value: -0.623542.\n"
     ]
    },
    {
     "name": "stderr",
     "output_type": "stream",
     "text": [
      "[I 2025-05-15 18:15:42,902] Trial 16 finished with value: -0.041688 and parameters: {'max_depth': 11, 'min_child_weight': 125, 'subsample': 0.8815541734801864, 'colsample_bynode': 0.11794375140013524, 'learning_rate': 0.049223809345826965}. Best is trial 10 with value: -0.623542.\n"
     ]
    },
    {
     "name": "stderr",
     "output_type": "stream",
     "text": [
      "[I 2025-05-15 18:15:43,123] Trial 17 finished with value: -0.041688 and parameters: {'max_depth': 8, 'min_child_weight': 183, 'subsample': 0.38147523481218437, 'colsample_bynode': 0.22493155379732882, 'learning_rate': 0.04721213780493888}. Best is trial 10 with value: -0.623542.\n"
     ]
    },
    {
     "name": "stderr",
     "output_type": "stream",
     "text": [
      "[I 2025-05-15 18:15:43,359] Trial 18 pruned. Trial was pruned at iteration 21.\n"
     ]
    },
    {
     "name": "stderr",
     "output_type": "stream",
     "text": [
      "[I 2025-05-15 18:15:43,571] Trial 19 finished with value: -0.041688 and parameters: {'max_depth': 11, 'min_child_weight': 102, 'subsample': 0.9723428668438461, 'colsample_bynode': 0.21061250777137863, 'learning_rate': 0.0340013005982499}. Best is trial 10 with value: -0.623542.\n"
     ]
    },
    {
     "name": "stderr",
     "output_type": "stream",
     "text": [
      "[I 2025-05-15 18:15:43,797] Trial 20 pruned. Trial was pruned at iteration 20.\n"
     ]
    },
    {
     "name": "stderr",
     "output_type": "stream",
     "text": [
      "[I 2025-05-15 18:15:44,299] Trial 21 finished with value: -0.599685 and parameters: {'max_depth': 17, 'min_child_weight': 1, 'subsample': 0.7055806111293348, 'colsample_bynode': 0.3329512630892392, 'learning_rate': 0.20901104055631745}. Best is trial 10 with value: -0.623542.\n"
     ]
    },
    {
     "name": "stderr",
     "output_type": "stream",
     "text": [
      "[I 2025-05-15 18:15:44,510] Trial 22 pruned. Trial was pruned at iteration 20.\n"
     ]
    },
    {
     "name": "stderr",
     "output_type": "stream",
     "text": [
      "[I 2025-05-15 18:15:44,737] Trial 23 pruned. Trial was pruned at iteration 20.\n"
     ]
    },
    {
     "name": "stderr",
     "output_type": "stream",
     "text": [
      "[I 2025-05-15 18:15:45,065] Trial 24 pruned. Trial was pruned at iteration 20.\n"
     ]
    },
    {
     "name": "stderr",
     "output_type": "stream",
     "text": [
      "[I 2025-05-15 18:15:45,296] Trial 25 finished with value: -0.041688 and parameters: {'max_depth': 16, 'min_child_weight': 61, 'subsample': 0.6475658271677043, 'colsample_bynode': 0.10311347721948762, 'learning_rate': 0.02608936873858633}. Best is trial 10 with value: -0.623542.\n"
     ]
    },
    {
     "name": "stderr",
     "output_type": "stream",
     "text": [
      "[I 2025-05-15 18:15:45,550] Trial 26 pruned. Trial was pruned at iteration 20.\n"
     ]
    },
    {
     "name": "stderr",
     "output_type": "stream",
     "text": [
      "[I 2025-05-15 18:15:45,797] Trial 27 finished with value: -0.041688 and parameters: {'max_depth': 13, 'min_child_weight': 101, 'subsample': 0.901260485988863, 'colsample_bynode': 0.33144580390610906, 'learning_rate': 0.1216994578512989}. Best is trial 10 with value: -0.623542.\n"
     ]
    },
    {
     "name": "stderr",
     "output_type": "stream",
     "text": [
      "[I 2025-05-15 18:15:46,045] Trial 28 finished with value: -0.041688 and parameters: {'max_depth': 8, 'min_child_weight': 161, 'subsample': 0.7730996725844079, 'colsample_bynode': 0.5239003671928658, 'learning_rate': 0.49542175276195727}. Best is trial 10 with value: -0.623542.\n"
     ]
    },
    {
     "name": "stderr",
     "output_type": "stream",
     "text": [
      "[I 2025-05-15 18:15:46,278] Trial 29 pruned. Trial was pruned at iteration 20.\n"
     ]
    },
    {
     "name": "stderr",
     "output_type": "stream",
     "text": [
      "[I 2025-05-15 18:15:46,522] Trial 30 finished with value: -0.041688 and parameters: {'max_depth': 3, 'min_child_weight': 220, 'subsample': 0.9340265599875419, 'colsample_bynode': 0.24894360599727555, 'learning_rate': 0.24099975265928317}. Best is trial 10 with value: -0.623542.\n"
     ]
    },
    {
     "name": "stderr",
     "output_type": "stream",
     "text": [
      "[I 2025-05-15 18:15:46,888] Trial 31 pruned. Trial was pruned at iteration 21.\n"
     ]
    },
    {
     "name": "stderr",
     "output_type": "stream",
     "text": [
      "[I 2025-05-15 18:15:47,144] Trial 32 pruned. Trial was pruned at iteration 20.\n"
     ]
    },
    {
     "name": "stderr",
     "output_type": "stream",
     "text": [
      "[I 2025-05-15 18:15:48,002] Trial 33 finished with value: -0.633938 and parameters: {'max_depth': 18, 'min_child_weight': 3, 'subsample': 0.7933901555595196, 'colsample_bynode': 0.1737924317282348, 'learning_rate': 0.0922336185812672}. Best is trial 33 with value: -0.633938.\n"
     ]
    },
    {
     "name": "stderr",
     "output_type": "stream",
     "text": [
      "[I 2025-05-15 18:15:48,218] Trial 34 pruned. Trial was pruned at iteration 20.\n"
     ]
    },
    {
     "name": "stderr",
     "output_type": "stream",
     "text": [
      "[I 2025-05-15 18:15:48,425] Trial 35 finished with value: -0.119292 and parameters: {'max_depth': 18, 'min_child_weight': 52, 'subsample': 0.794122556157861, 'colsample_bynode': 0.19759141254513857, 'learning_rate': 0.011604009666148192}. Best is trial 33 with value: -0.633938.\n"
     ]
    },
    {
     "name": "stderr",
     "output_type": "stream",
     "text": [
      "[I 2025-05-15 18:15:48,666] Trial 36 pruned. Trial was pruned at iteration 20.\n"
     ]
    },
    {
     "name": "stderr",
     "output_type": "stream",
     "text": [
      "[I 2025-05-15 18:15:48,884] Trial 37 finished with value: -0.119292 and parameters: {'max_depth': 6, 'min_child_weight': 37, 'subsample': 0.5052311610390161, 'colsample_bynode': 0.24744148100862912, 'learning_rate': 0.07800855302727784}. Best is trial 33 with value: -0.633938.\n"
     ]
    },
    {
     "name": "stderr",
     "output_type": "stream",
     "text": [
      "[I 2025-05-15 18:15:49,087] Trial 38 pruned. Trial was pruned at iteration 20.\n"
     ]
    },
    {
     "name": "stderr",
     "output_type": "stream",
     "text": [
      "[I 2025-05-15 18:15:49,283] Trial 39 pruned. Trial was pruned at iteration 20.\n"
     ]
    },
    {
     "name": "stderr",
     "output_type": "stream",
     "text": [
      "[I 2025-05-15 18:15:49,480] Trial 40 pruned. Trial was pruned at iteration 20.\n"
     ]
    },
    {
     "name": "stderr",
     "output_type": "stream",
     "text": [
      "[I 2025-05-15 18:15:49,886] Trial 41 pruned. Trial was pruned at iteration 36.\n"
     ]
    },
    {
     "name": "stderr",
     "output_type": "stream",
     "text": [
      "[I 2025-05-15 18:15:50,160] Trial 42 pruned. Trial was pruned at iteration 20.\n"
     ]
    },
    {
     "name": "stderr",
     "output_type": "stream",
     "text": [
      "[I 2025-05-15 18:15:50,411] Trial 43 pruned. Trial was pruned at iteration 20.\n"
     ]
    },
    {
     "name": "stderr",
     "output_type": "stream",
     "text": [
      "[I 2025-05-15 18:15:50,869] Trial 44 pruned. Trial was pruned at iteration 21.\n"
     ]
    },
    {
     "name": "stderr",
     "output_type": "stream",
     "text": [
      "[I 2025-05-15 18:15:51,098] Trial 45 pruned. Trial was pruned at iteration 20.\n"
     ]
    },
    {
     "name": "stderr",
     "output_type": "stream",
     "text": [
      "[I 2025-05-15 18:15:51,334] Trial 46 pruned. Trial was pruned at iteration 20.\n"
     ]
    },
    {
     "name": "stderr",
     "output_type": "stream",
     "text": [
      "[I 2025-05-15 18:15:51,553] Trial 47 pruned. Trial was pruned at iteration 20.\n"
     ]
    },
    {
     "name": "stderr",
     "output_type": "stream",
     "text": [
      "[I 2025-05-15 18:15:51,748] Trial 48 finished with value: -0.041688 and parameters: {'max_depth': 14, 'min_child_weight': 75, 'subsample': 0.8542258877830258, 'colsample_bynode': 0.6019428284704991, 'learning_rate': 0.494694924837157}. Best is trial 33 with value: -0.633938.\n"
     ]
    },
    {
     "name": "stderr",
     "output_type": "stream",
     "text": [
      "[I 2025-05-15 18:15:51,928] Trial 49 pruned. Trial was pruned at iteration 20.\n"
     ]
    }
   ],
   "source": [
    "sampler = optuna.samplers.TPESampler(seed=42)\n",
    "study = optuna.create_study(direction='minimize', sampler=sampler)\n",
    "study.optimize(objective, n_trials=N_TRIALS, gc_after_trial=True)"
   ]
  },
  {
   "cell_type": "code",
   "execution_count": 20,
   "id": "de5fa8c3",
   "metadata": {
    "execution": {
     "iopub.execute_input": "2025-05-15T16:15:52.057233Z",
     "iopub.status.busy": "2025-05-15T16:15:52.057001Z",
     "iopub.status.idle": "2025-05-15T16:15:52.079472Z",
     "shell.execute_reply": "2025-05-15T16:15:52.079026Z"
    },
    "papermill": {
     "duration": 0.033253,
     "end_time": "2025-05-15T16:15:52.080449",
     "exception": false,
     "start_time": "2025-05-15T16:15:52.047196",
     "status": "completed"
    },
    "tags": []
   },
   "outputs": [
    {
     "data": {
      "text/plain": [
       "['/scratch_isilon/groups/singlecell/shared/projects/Inflammation-PBMCs-Atlas/03_downstream_analysis/08_gene_importance/xgboost_external_validation/xgboost_TopN_genes/results_20/study/Plasma_8_3_xgboost.pkl']"
      ]
     },
     "execution_count": 20,
     "metadata": {},
     "output_type": "execute_result"
    }
   ],
   "source": [
    "out_dir = here(f'03_downstream_analysis/08_gene_importance/xgboost_external_validation/xgboost_TopN_genes/results_{N_GENES}/study')\n",
    "\n",
    "if not os.path.exists(out_dir):\n",
    "    os.makedirs(out_dir)\n",
    "    \n",
    "joblib.dump(study,os.path.join(out_dir, f'{CELL_TYPE}_{SEED}_{TEST_SPLIT_IDX}_xgboost.pkl'))"
   ]
  },
  {
   "cell_type": "code",
   "execution_count": 21,
   "id": "535462c0",
   "metadata": {
    "execution": {
     "iopub.execute_input": "2025-05-15T16:15:52.106585Z",
     "iopub.status.busy": "2025-05-15T16:15:52.106054Z",
     "iopub.status.idle": "2025-05-15T16:15:52.733253Z",
     "shell.execute_reply": "2025-05-15T16:15:52.732837Z"
    },
    "papermill": {
     "duration": 0.645032,
     "end_time": "2025-05-15T16:15:52.734506",
     "exception": false,
     "start_time": "2025-05-15T16:15:52.089474",
     "status": "completed"
    },
    "tags": []
   },
   "outputs": [
    {
     "data": {
      "text/html": [
       "<style>#sk-container-id-1 {\n",
       "  /* Definition of color scheme common for light and dark mode */\n",
       "  --sklearn-color-text: black;\n",
       "  --sklearn-color-line: gray;\n",
       "  /* Definition of color scheme for unfitted estimators */\n",
       "  --sklearn-color-unfitted-level-0: #fff5e6;\n",
       "  --sklearn-color-unfitted-level-1: #f6e4d2;\n",
       "  --sklearn-color-unfitted-level-2: #ffe0b3;\n",
       "  --sklearn-color-unfitted-level-3: chocolate;\n",
       "  /* Definition of color scheme for fitted estimators */\n",
       "  --sklearn-color-fitted-level-0: #f0f8ff;\n",
       "  --sklearn-color-fitted-level-1: #d4ebff;\n",
       "  --sklearn-color-fitted-level-2: #b3dbfd;\n",
       "  --sklearn-color-fitted-level-3: cornflowerblue;\n",
       "\n",
       "  /* Specific color for light theme */\n",
       "  --sklearn-color-text-on-default-background: var(--sg-text-color, var(--theme-code-foreground, var(--jp-content-font-color1, black)));\n",
       "  --sklearn-color-background: var(--sg-background-color, var(--theme-background, var(--jp-layout-color0, white)));\n",
       "  --sklearn-color-border-box: var(--sg-text-color, var(--theme-code-foreground, var(--jp-content-font-color1, black)));\n",
       "  --sklearn-color-icon: #696969;\n",
       "\n",
       "  @media (prefers-color-scheme: dark) {\n",
       "    /* Redefinition of color scheme for dark theme */\n",
       "    --sklearn-color-text-on-default-background: var(--sg-text-color, var(--theme-code-foreground, var(--jp-content-font-color1, white)));\n",
       "    --sklearn-color-background: var(--sg-background-color, var(--theme-background, var(--jp-layout-color0, #111)));\n",
       "    --sklearn-color-border-box: var(--sg-text-color, var(--theme-code-foreground, var(--jp-content-font-color1, white)));\n",
       "    --sklearn-color-icon: #878787;\n",
       "  }\n",
       "}\n",
       "\n",
       "#sk-container-id-1 {\n",
       "  color: var(--sklearn-color-text);\n",
       "}\n",
       "\n",
       "#sk-container-id-1 pre {\n",
       "  padding: 0;\n",
       "}\n",
       "\n",
       "#sk-container-id-1 input.sk-hidden--visually {\n",
       "  border: 0;\n",
       "  clip: rect(1px 1px 1px 1px);\n",
       "  clip: rect(1px, 1px, 1px, 1px);\n",
       "  height: 1px;\n",
       "  margin: -1px;\n",
       "  overflow: hidden;\n",
       "  padding: 0;\n",
       "  position: absolute;\n",
       "  width: 1px;\n",
       "}\n",
       "\n",
       "#sk-container-id-1 div.sk-dashed-wrapped {\n",
       "  border: 1px dashed var(--sklearn-color-line);\n",
       "  margin: 0 0.4em 0.5em 0.4em;\n",
       "  box-sizing: border-box;\n",
       "  padding-bottom: 0.4em;\n",
       "  background-color: var(--sklearn-color-background);\n",
       "}\n",
       "\n",
       "#sk-container-id-1 div.sk-container {\n",
       "  /* jupyter's `normalize.less` sets `[hidden] { display: none; }`\n",
       "     but bootstrap.min.css set `[hidden] { display: none !important; }`\n",
       "     so we also need the `!important` here to be able to override the\n",
       "     default hidden behavior on the sphinx rendered scikit-learn.org.\n",
       "     See: https://github.com/scikit-learn/scikit-learn/issues/21755 */\n",
       "  display: inline-block !important;\n",
       "  position: relative;\n",
       "}\n",
       "\n",
       "#sk-container-id-1 div.sk-text-repr-fallback {\n",
       "  display: none;\n",
       "}\n",
       "\n",
       "div.sk-parallel-item,\n",
       "div.sk-serial,\n",
       "div.sk-item {\n",
       "  /* draw centered vertical line to link estimators */\n",
       "  background-image: linear-gradient(var(--sklearn-color-text-on-default-background), var(--sklearn-color-text-on-default-background));\n",
       "  background-size: 2px 100%;\n",
       "  background-repeat: no-repeat;\n",
       "  background-position: center center;\n",
       "}\n",
       "\n",
       "/* Parallel-specific style estimator block */\n",
       "\n",
       "#sk-container-id-1 div.sk-parallel-item::after {\n",
       "  content: \"\";\n",
       "  width: 100%;\n",
       "  border-bottom: 2px solid var(--sklearn-color-text-on-default-background);\n",
       "  flex-grow: 1;\n",
       "}\n",
       "\n",
       "#sk-container-id-1 div.sk-parallel {\n",
       "  display: flex;\n",
       "  align-items: stretch;\n",
       "  justify-content: center;\n",
       "  background-color: var(--sklearn-color-background);\n",
       "  position: relative;\n",
       "}\n",
       "\n",
       "#sk-container-id-1 div.sk-parallel-item {\n",
       "  display: flex;\n",
       "  flex-direction: column;\n",
       "}\n",
       "\n",
       "#sk-container-id-1 div.sk-parallel-item:first-child::after {\n",
       "  align-self: flex-end;\n",
       "  width: 50%;\n",
       "}\n",
       "\n",
       "#sk-container-id-1 div.sk-parallel-item:last-child::after {\n",
       "  align-self: flex-start;\n",
       "  width: 50%;\n",
       "}\n",
       "\n",
       "#sk-container-id-1 div.sk-parallel-item:only-child::after {\n",
       "  width: 0;\n",
       "}\n",
       "\n",
       "/* Serial-specific style estimator block */\n",
       "\n",
       "#sk-container-id-1 div.sk-serial {\n",
       "  display: flex;\n",
       "  flex-direction: column;\n",
       "  align-items: center;\n",
       "  background-color: var(--sklearn-color-background);\n",
       "  padding-right: 1em;\n",
       "  padding-left: 1em;\n",
       "}\n",
       "\n",
       "\n",
       "/* Toggleable style: style used for estimator/Pipeline/ColumnTransformer box that is\n",
       "clickable and can be expanded/collapsed.\n",
       "- Pipeline and ColumnTransformer use this feature and define the default style\n",
       "- Estimators will overwrite some part of the style using the `sk-estimator` class\n",
       "*/\n",
       "\n",
       "/* Pipeline and ColumnTransformer style (default) */\n",
       "\n",
       "#sk-container-id-1 div.sk-toggleable {\n",
       "  /* Default theme specific background. It is overwritten whether we have a\n",
       "  specific estimator or a Pipeline/ColumnTransformer */\n",
       "  background-color: var(--sklearn-color-background);\n",
       "}\n",
       "\n",
       "/* Toggleable label */\n",
       "#sk-container-id-1 label.sk-toggleable__label {\n",
       "  cursor: pointer;\n",
       "  display: block;\n",
       "  width: 100%;\n",
       "  margin-bottom: 0;\n",
       "  padding: 0.5em;\n",
       "  box-sizing: border-box;\n",
       "  text-align: center;\n",
       "}\n",
       "\n",
       "#sk-container-id-1 label.sk-toggleable__label-arrow:before {\n",
       "  /* Arrow on the left of the label */\n",
       "  content: \"▸\";\n",
       "  float: left;\n",
       "  margin-right: 0.25em;\n",
       "  color: var(--sklearn-color-icon);\n",
       "}\n",
       "\n",
       "#sk-container-id-1 label.sk-toggleable__label-arrow:hover:before {\n",
       "  color: var(--sklearn-color-text);\n",
       "}\n",
       "\n",
       "/* Toggleable content - dropdown */\n",
       "\n",
       "#sk-container-id-1 div.sk-toggleable__content {\n",
       "  max-height: 0;\n",
       "  max-width: 0;\n",
       "  overflow: hidden;\n",
       "  text-align: left;\n",
       "  /* unfitted */\n",
       "  background-color: var(--sklearn-color-unfitted-level-0);\n",
       "}\n",
       "\n",
       "#sk-container-id-1 div.sk-toggleable__content.fitted {\n",
       "  /* fitted */\n",
       "  background-color: var(--sklearn-color-fitted-level-0);\n",
       "}\n",
       "\n",
       "#sk-container-id-1 div.sk-toggleable__content pre {\n",
       "  margin: 0.2em;\n",
       "  border-radius: 0.25em;\n",
       "  color: var(--sklearn-color-text);\n",
       "  /* unfitted */\n",
       "  background-color: var(--sklearn-color-unfitted-level-0);\n",
       "}\n",
       "\n",
       "#sk-container-id-1 div.sk-toggleable__content.fitted pre {\n",
       "  /* unfitted */\n",
       "  background-color: var(--sklearn-color-fitted-level-0);\n",
       "}\n",
       "\n",
       "#sk-container-id-1 input.sk-toggleable__control:checked~div.sk-toggleable__content {\n",
       "  /* Expand drop-down */\n",
       "  max-height: 200px;\n",
       "  max-width: 100%;\n",
       "  overflow: auto;\n",
       "}\n",
       "\n",
       "#sk-container-id-1 input.sk-toggleable__control:checked~label.sk-toggleable__label-arrow:before {\n",
       "  content: \"▾\";\n",
       "}\n",
       "\n",
       "/* Pipeline/ColumnTransformer-specific style */\n",
       "\n",
       "#sk-container-id-1 div.sk-label input.sk-toggleable__control:checked~label.sk-toggleable__label {\n",
       "  color: var(--sklearn-color-text);\n",
       "  background-color: var(--sklearn-color-unfitted-level-2);\n",
       "}\n",
       "\n",
       "#sk-container-id-1 div.sk-label.fitted input.sk-toggleable__control:checked~label.sk-toggleable__label {\n",
       "  background-color: var(--sklearn-color-fitted-level-2);\n",
       "}\n",
       "\n",
       "/* Estimator-specific style */\n",
       "\n",
       "/* Colorize estimator box */\n",
       "#sk-container-id-1 div.sk-estimator input.sk-toggleable__control:checked~label.sk-toggleable__label {\n",
       "  /* unfitted */\n",
       "  background-color: var(--sklearn-color-unfitted-level-2);\n",
       "}\n",
       "\n",
       "#sk-container-id-1 div.sk-estimator.fitted input.sk-toggleable__control:checked~label.sk-toggleable__label {\n",
       "  /* fitted */\n",
       "  background-color: var(--sklearn-color-fitted-level-2);\n",
       "}\n",
       "\n",
       "#sk-container-id-1 div.sk-label label.sk-toggleable__label,\n",
       "#sk-container-id-1 div.sk-label label {\n",
       "  /* The background is the default theme color */\n",
       "  color: var(--sklearn-color-text-on-default-background);\n",
       "}\n",
       "\n",
       "/* On hover, darken the color of the background */\n",
       "#sk-container-id-1 div.sk-label:hover label.sk-toggleable__label {\n",
       "  color: var(--sklearn-color-text);\n",
       "  background-color: var(--sklearn-color-unfitted-level-2);\n",
       "}\n",
       "\n",
       "/* Label box, darken color on hover, fitted */\n",
       "#sk-container-id-1 div.sk-label.fitted:hover label.sk-toggleable__label.fitted {\n",
       "  color: var(--sklearn-color-text);\n",
       "  background-color: var(--sklearn-color-fitted-level-2);\n",
       "}\n",
       "\n",
       "/* Estimator label */\n",
       "\n",
       "#sk-container-id-1 div.sk-label label {\n",
       "  font-family: monospace;\n",
       "  font-weight: bold;\n",
       "  display: inline-block;\n",
       "  line-height: 1.2em;\n",
       "}\n",
       "\n",
       "#sk-container-id-1 div.sk-label-container {\n",
       "  text-align: center;\n",
       "}\n",
       "\n",
       "/* Estimator-specific */\n",
       "#sk-container-id-1 div.sk-estimator {\n",
       "  font-family: monospace;\n",
       "  border: 1px dotted var(--sklearn-color-border-box);\n",
       "  border-radius: 0.25em;\n",
       "  box-sizing: border-box;\n",
       "  margin-bottom: 0.5em;\n",
       "  /* unfitted */\n",
       "  background-color: var(--sklearn-color-unfitted-level-0);\n",
       "}\n",
       "\n",
       "#sk-container-id-1 div.sk-estimator.fitted {\n",
       "  /* fitted */\n",
       "  background-color: var(--sklearn-color-fitted-level-0);\n",
       "}\n",
       "\n",
       "/* on hover */\n",
       "#sk-container-id-1 div.sk-estimator:hover {\n",
       "  /* unfitted */\n",
       "  background-color: var(--sklearn-color-unfitted-level-2);\n",
       "}\n",
       "\n",
       "#sk-container-id-1 div.sk-estimator.fitted:hover {\n",
       "  /* fitted */\n",
       "  background-color: var(--sklearn-color-fitted-level-2);\n",
       "}\n",
       "\n",
       "/* Specification for estimator info (e.g. \"i\" and \"?\") */\n",
       "\n",
       "/* Common style for \"i\" and \"?\" */\n",
       "\n",
       ".sk-estimator-doc-link,\n",
       "a:link.sk-estimator-doc-link,\n",
       "a:visited.sk-estimator-doc-link {\n",
       "  float: right;\n",
       "  font-size: smaller;\n",
       "  line-height: 1em;\n",
       "  font-family: monospace;\n",
       "  background-color: var(--sklearn-color-background);\n",
       "  border-radius: 1em;\n",
       "  height: 1em;\n",
       "  width: 1em;\n",
       "  text-decoration: none !important;\n",
       "  margin-left: 1ex;\n",
       "  /* unfitted */\n",
       "  border: var(--sklearn-color-unfitted-level-1) 1pt solid;\n",
       "  color: var(--sklearn-color-unfitted-level-1);\n",
       "}\n",
       "\n",
       ".sk-estimator-doc-link.fitted,\n",
       "a:link.sk-estimator-doc-link.fitted,\n",
       "a:visited.sk-estimator-doc-link.fitted {\n",
       "  /* fitted */\n",
       "  border: var(--sklearn-color-fitted-level-1) 1pt solid;\n",
       "  color: var(--sklearn-color-fitted-level-1);\n",
       "}\n",
       "\n",
       "/* On hover */\n",
       "div.sk-estimator:hover .sk-estimator-doc-link:hover,\n",
       ".sk-estimator-doc-link:hover,\n",
       "div.sk-label-container:hover .sk-estimator-doc-link:hover,\n",
       ".sk-estimator-doc-link:hover {\n",
       "  /* unfitted */\n",
       "  background-color: var(--sklearn-color-unfitted-level-3);\n",
       "  color: var(--sklearn-color-background);\n",
       "  text-decoration: none;\n",
       "}\n",
       "\n",
       "div.sk-estimator.fitted:hover .sk-estimator-doc-link.fitted:hover,\n",
       ".sk-estimator-doc-link.fitted:hover,\n",
       "div.sk-label-container:hover .sk-estimator-doc-link.fitted:hover,\n",
       ".sk-estimator-doc-link.fitted:hover {\n",
       "  /* fitted */\n",
       "  background-color: var(--sklearn-color-fitted-level-3);\n",
       "  color: var(--sklearn-color-background);\n",
       "  text-decoration: none;\n",
       "}\n",
       "\n",
       "/* Span, style for the box shown on hovering the info icon */\n",
       ".sk-estimator-doc-link span {\n",
       "  display: none;\n",
       "  z-index: 9999;\n",
       "  position: relative;\n",
       "  font-weight: normal;\n",
       "  right: .2ex;\n",
       "  padding: .5ex;\n",
       "  margin: .5ex;\n",
       "  width: min-content;\n",
       "  min-width: 20ex;\n",
       "  max-width: 50ex;\n",
       "  color: var(--sklearn-color-text);\n",
       "  box-shadow: 2pt 2pt 4pt #999;\n",
       "  /* unfitted */\n",
       "  background: var(--sklearn-color-unfitted-level-0);\n",
       "  border: .5pt solid var(--sklearn-color-unfitted-level-3);\n",
       "}\n",
       "\n",
       ".sk-estimator-doc-link.fitted span {\n",
       "  /* fitted */\n",
       "  background: var(--sklearn-color-fitted-level-0);\n",
       "  border: var(--sklearn-color-fitted-level-3);\n",
       "}\n",
       "\n",
       ".sk-estimator-doc-link:hover span {\n",
       "  display: block;\n",
       "}\n",
       "\n",
       "/* \"?\"-specific style due to the `<a>` HTML tag */\n",
       "\n",
       "#sk-container-id-1 a.estimator_doc_link {\n",
       "  float: right;\n",
       "  font-size: 1rem;\n",
       "  line-height: 1em;\n",
       "  font-family: monospace;\n",
       "  background-color: var(--sklearn-color-background);\n",
       "  border-radius: 1rem;\n",
       "  height: 1rem;\n",
       "  width: 1rem;\n",
       "  text-decoration: none;\n",
       "  /* unfitted */\n",
       "  color: var(--sklearn-color-unfitted-level-1);\n",
       "  border: var(--sklearn-color-unfitted-level-1) 1pt solid;\n",
       "}\n",
       "\n",
       "#sk-container-id-1 a.estimator_doc_link.fitted {\n",
       "  /* fitted */\n",
       "  border: var(--sklearn-color-fitted-level-1) 1pt solid;\n",
       "  color: var(--sklearn-color-fitted-level-1);\n",
       "}\n",
       "\n",
       "/* On hover */\n",
       "#sk-container-id-1 a.estimator_doc_link:hover {\n",
       "  /* unfitted */\n",
       "  background-color: var(--sklearn-color-unfitted-level-3);\n",
       "  color: var(--sklearn-color-background);\n",
       "  text-decoration: none;\n",
       "}\n",
       "\n",
       "#sk-container-id-1 a.estimator_doc_link.fitted:hover {\n",
       "  /* fitted */\n",
       "  background-color: var(--sklearn-color-fitted-level-3);\n",
       "}\n",
       "</style><div id=\"sk-container-id-1\" class=\"sk-top-container\"><div class=\"sk-text-repr-fallback\"><pre>XGBClassifier(base_score=None, booster=None, callbacks=None,\n",
       "              colsample_bylevel=None, colsample_bynode=0.1737924317282348,\n",
       "              colsample_bytree=None, device=None, early_stopping_rounds=None,\n",
       "              enable_categorical=False,\n",
       "              eval_metric=&lt;function custom_f1_score at 0x7fcb9ada0720&gt;,\n",
       "              feature_types=None, gamma=None, grow_policy=None,\n",
       "              importance_type=None, interaction_constraints=None,\n",
       "              learning_rate=0.0922336185812672, max_bin=None,\n",
       "              max_cat_threshold=None, max_cat_to_onehot=None,\n",
       "              max_delta_step=None, max_depth=18, max_leaves=None,\n",
       "              min_child_weight=3, missing=nan, monotone_constraints=None,\n",
       "              multi_strategy=None, n_estimators=94, n_jobs=None,\n",
       "              num_parallel_tree=None, objective=&#x27;multi:softprob&#x27;, ...)</pre><b>In a Jupyter environment, please rerun this cell to show the HTML representation or trust the notebook. <br />On GitHub, the HTML representation is unable to render, please try loading this page with nbviewer.org.</b></div><div class=\"sk-container\" hidden><div class=\"sk-item\"><div class=\"sk-estimator fitted sk-toggleable\"><input class=\"sk-toggleable__control sk-hidden--visually\" id=\"sk-estimator-id-1\" type=\"checkbox\" checked><label for=\"sk-estimator-id-1\" class=\"sk-toggleable__label fitted sk-toggleable__label-arrow fitted\">&nbsp;XGBClassifier<span class=\"sk-estimator-doc-link fitted\">i<span>Fitted</span></span></label><div class=\"sk-toggleable__content fitted\"><pre>XGBClassifier(base_score=None, booster=None, callbacks=None,\n",
       "              colsample_bylevel=None, colsample_bynode=0.1737924317282348,\n",
       "              colsample_bytree=None, device=None, early_stopping_rounds=None,\n",
       "              enable_categorical=False,\n",
       "              eval_metric=&lt;function custom_f1_score at 0x7fcb9ada0720&gt;,\n",
       "              feature_types=None, gamma=None, grow_policy=None,\n",
       "              importance_type=None, interaction_constraints=None,\n",
       "              learning_rate=0.0922336185812672, max_bin=None,\n",
       "              max_cat_threshold=None, max_cat_to_onehot=None,\n",
       "              max_delta_step=None, max_depth=18, max_leaves=None,\n",
       "              min_child_weight=3, missing=nan, monotone_constraints=None,\n",
       "              multi_strategy=None, n_estimators=94, n_jobs=None,\n",
       "              num_parallel_tree=None, objective=&#x27;multi:softprob&#x27;, ...)</pre></div> </div></div></div></div>"
      ],
      "text/plain": [
       "XGBClassifier(base_score=None, booster=None, callbacks=None,\n",
       "              colsample_bylevel=None, colsample_bynode=0.1737924317282348,\n",
       "              colsample_bytree=None, device=None, early_stopping_rounds=None,\n",
       "              enable_categorical=False,\n",
       "              eval_metric=<function custom_f1_score at 0x7fcb9ada0720>,\n",
       "              feature_types=None, gamma=None, grow_policy=None,\n",
       "              importance_type=None, interaction_constraints=None,\n",
       "              learning_rate=0.0922336185812672, max_bin=None,\n",
       "              max_cat_threshold=None, max_cat_to_onehot=None,\n",
       "              max_delta_step=None, max_depth=18, max_leaves=None,\n",
       "              min_child_weight=3, missing=nan, monotone_constraints=None,\n",
       "              multi_strategy=None, n_estimators=94, n_jobs=None,\n",
       "              num_parallel_tree=None, objective='multi:softprob', ...)"
      ]
     },
     "execution_count": 21,
     "metadata": {},
     "output_type": "execute_result"
    }
   ],
   "source": [
    "n_estimators = int(study.best_trial.user_attrs['best_iteration']*1.2)\n",
    "xgb = xgboost.XGBClassifier(\n",
    "        eval_metric=eval_metric,\n",
    "        n_estimators=n_estimators,\n",
    "        **study.best_trial.params\n",
    "    )\n",
    "xgb.fit(\n",
    "    ssp.vstack((X_train, X_val)), \n",
    "    np.concatenate((y_train_enc, y_val_enc)),\n",
    "    verbose=1,\n",
    ")"
   ]
  },
  {
   "cell_type": "code",
   "execution_count": 22,
   "id": "37953b0b",
   "metadata": {
    "execution": {
     "iopub.execute_input": "2025-05-15T16:15:52.765721Z",
     "iopub.status.busy": "2025-05-15T16:15:52.765498Z",
     "iopub.status.idle": "2025-05-15T16:15:52.828213Z",
     "shell.execute_reply": "2025-05-15T16:15:52.827833Z"
    },
    "papermill": {
     "duration": 0.073737,
     "end_time": "2025-05-15T16:15:52.829163",
     "exception": false,
     "start_time": "2025-05-15T16:15:52.755426",
     "status": "completed"
    },
    "tags": []
   },
   "outputs": [
    {
     "data": {
      "text/plain": [
       "['/scratch_isilon/groups/singlecell/shared/projects/Inflammation-PBMCs-Atlas/03_downstream_analysis/08_gene_importance/xgboost_external_validation/xgboost_TopN_genes/results_20/best_model/Plasma_8_3_xgb.json']"
      ]
     },
     "execution_count": 22,
     "metadata": {},
     "output_type": "execute_result"
    }
   ],
   "source": [
    "out_dir = here(f'03_downstream_analysis/08_gene_importance/xgboost_external_validation/xgboost_TopN_genes/results_{N_GENES}/best_model')\n",
    "\n",
    "if not os.path.exists(out_dir):\n",
    "    os.makedirs(out_dir)\n",
    "    \n",
    "joblib.dump(xgb, os.path.join(out_dir, f'{CELL_TYPE}_{SEED}_{TEST_SPLIT_IDX}_xgb.json'))"
   ]
  },
  {
   "cell_type": "code",
   "execution_count": 23,
   "id": "420f0066",
   "metadata": {
    "execution": {
     "iopub.execute_input": "2025-05-15T16:15:52.850630Z",
     "iopub.status.busy": "2025-05-15T16:15:52.850424Z",
     "iopub.status.idle": "2025-05-15T16:15:52.857350Z",
     "shell.execute_reply": "2025-05-15T16:15:52.857032Z"
    },
    "papermill": {
     "duration": 0.022753,
     "end_time": "2025-05-15T16:15:52.862628",
     "exception": false,
     "start_time": "2025-05-15T16:15:52.839875",
     "status": "completed"
    },
    "tags": []
   },
   "outputs": [],
   "source": [
    "df_pred_test = pd.DataFrame(dict(\n",
    "    cell_id=train_adata.obs.iloc[test_idxs].index.values,\n",
    "    y_true=y_test, \n",
    "    y_true_code=y_test_enc, \n",
    "    y_pred=xgb.predict(X_test))).set_index('cell_id')"
   ]
  },
  {
   "cell_type": "code",
   "execution_count": 24,
   "id": "55f51c8f",
   "metadata": {
    "execution": {
     "iopub.execute_input": "2025-05-15T16:15:52.900817Z",
     "iopub.status.busy": "2025-05-15T16:15:52.900525Z",
     "iopub.status.idle": "2025-05-15T16:15:52.912278Z",
     "shell.execute_reply": "2025-05-15T16:15:52.911832Z"
    },
    "papermill": {
     "duration": 0.040306,
     "end_time": "2025-05-15T16:15:52.913311",
     "exception": false,
     "start_time": "2025-05-15T16:15:52.873005",
     "status": "completed"
    },
    "tags": []
   },
   "outputs": [],
   "source": [
    "out_dir = here(f'03_downstream_analysis/08_gene_importance/xgboost_external_validation/xgboost_TopN_genes/results_{N_GENES}/predictions')\n",
    "\n",
    "if not os.path.exists(out_dir):\n",
    "    os.makedirs(out_dir)\n",
    "    \n",
    "df_pred_test.to_csv(os.path.join(out_dir, f'{CELL_TYPE}_{SEED}_{TEST_SPLIT_IDX}_pred_test.zip'))"
   ]
  },
  {
   "cell_type": "code",
   "execution_count": 25,
   "id": "c125907d",
   "metadata": {
    "execution": {
     "iopub.execute_input": "2025-05-15T16:15:52.933808Z",
     "iopub.status.busy": "2025-05-15T16:15:52.933485Z",
     "iopub.status.idle": "2025-05-15T16:15:52.939312Z",
     "shell.execute_reply": "2025-05-15T16:15:52.938994Z"
    },
    "papermill": {
     "duration": 0.016836,
     "end_time": "2025-05-15T16:15:52.940252",
     "exception": false,
     "start_time": "2025-05-15T16:15:52.923416",
     "status": "completed"
    },
    "tags": []
   },
   "outputs": [],
   "source": [
    "metrics_dict = dict(\n",
    "    BAS=balanced_accuracy_score(y_true=df_pred_test.y_true_code, y_pred=df_pred_test.y_pred), WF1=f1_score(y_true=df_pred_test.y_true_code, y_pred=df_pred_test.y_pred,average='weighted'))"
   ]
  },
  {
   "cell_type": "code",
   "execution_count": 26,
   "id": "8f335500",
   "metadata": {
    "execution": {
     "iopub.execute_input": "2025-05-15T16:15:52.962089Z",
     "iopub.status.busy": "2025-05-15T16:15:52.961489Z",
     "iopub.status.idle": "2025-05-15T16:15:52.964795Z",
     "shell.execute_reply": "2025-05-15T16:15:52.964463Z"
    },
    "papermill": {
     "duration": 0.015125,
     "end_time": "2025-05-15T16:15:52.965692",
     "exception": false,
     "start_time": "2025-05-15T16:15:52.950567",
     "status": "completed"
    },
    "tags": []
   },
   "outputs": [
    {
     "data": {
      "text/plain": [
       "{'BAS': 0.34725690975690976, 'WF1': 0.5903617389783397}"
      ]
     },
     "execution_count": 26,
     "metadata": {},
     "output_type": "execute_result"
    }
   ],
   "source": [
    "metrics_dict"
   ]
  },
  {
   "cell_type": "code",
   "execution_count": 27,
   "id": "dfdd26c9",
   "metadata": {
    "execution": {
     "iopub.execute_input": "2025-05-15T16:15:53.002086Z",
     "iopub.status.busy": "2025-05-15T16:15:53.001748Z",
     "iopub.status.idle": "2025-05-15T16:15:53.010207Z",
     "shell.execute_reply": "2025-05-15T16:15:53.009871Z"
    },
    "papermill": {
     "duration": 0.020295,
     "end_time": "2025-05-15T16:15:53.011174",
     "exception": false,
     "start_time": "2025-05-15T16:15:52.990879",
     "status": "completed"
    },
    "tags": []
   },
   "outputs": [
    {
     "data": {
      "text/html": [
       "<div>\n",
       "<style scoped>\n",
       "    .dataframe tbody tr th:only-of-type {\n",
       "        vertical-align: middle;\n",
       "    }\n",
       "\n",
       "    .dataframe tbody tr th {\n",
       "        vertical-align: top;\n",
       "    }\n",
       "\n",
       "    .dataframe thead th {\n",
       "        text-align: right;\n",
       "    }\n",
       "</style>\n",
       "<table border=\"1\" class=\"dataframe\">\n",
       "  <thead>\n",
       "    <tr style=\"text-align: right;\">\n",
       "      <th></th>\n",
       "      <th>BAS</th>\n",
       "      <th>WF1</th>\n",
       "      <th>split_idx</th>\n",
       "      <th>gene_set_seed</th>\n",
       "      <th>cell_type</th>\n",
       "    </tr>\n",
       "  </thead>\n",
       "  <tbody>\n",
       "    <tr>\n",
       "      <th>0</th>\n",
       "      <td>0.347257</td>\n",
       "      <td>0.590362</td>\n",
       "      <td>3</td>\n",
       "      <td>8</td>\n",
       "      <td>Plasma</td>\n",
       "    </tr>\n",
       "  </tbody>\n",
       "</table>\n",
       "</div>"
      ],
      "text/plain": [
       "        BAS       WF1  split_idx  gene_set_seed cell_type\n",
       "0  0.347257  0.590362          3              8    Plasma"
      ]
     },
     "execution_count": 27,
     "metadata": {},
     "output_type": "execute_result"
    }
   ],
   "source": [
    "metrics_df = pd.DataFrame.from_dict([metrics_dict]).assign(split_idx=TEST_SPLIT_IDX, gene_set_seed=SEED, cell_type=CELL_TYPE)\n",
    "metrics_df"
   ]
  },
  {
   "cell_type": "code",
   "execution_count": 28,
   "id": "b20e8f54",
   "metadata": {
    "execution": {
     "iopub.execute_input": "2025-05-15T16:15:53.033601Z",
     "iopub.status.busy": "2025-05-15T16:15:53.033145Z",
     "iopub.status.idle": "2025-05-15T16:15:53.058005Z",
     "shell.execute_reply": "2025-05-15T16:15:53.057584Z"
    },
    "papermill": {
     "duration": 0.037103,
     "end_time": "2025-05-15T16:15:53.059075",
     "exception": false,
     "start_time": "2025-05-15T16:15:53.021972",
     "status": "completed"
    },
    "tags": []
   },
   "outputs": [],
   "source": [
    "out_dir = here(f'03_downstream_analysis/08_gene_importance/xgboost_external_validation/xgboost_TopN_genes/results_{N_GENES}/metrics')\n",
    "\n",
    "if not os.path.exists(out_dir):\n",
    "    os.makedirs(out_dir)\n",
    "    \n",
    "metrics_df.to_csv(os.path.join(out_dir, f'{CELL_TYPE}_{SEED}_{TEST_SPLIT_IDX}_metrics.zip'))"
   ]
  }
 ],
 "metadata": {
  "kernelspec": {
   "display_name": "Python 3 (ipykernel)",
   "language": "python",
   "name": "python3"
  },
  "language_info": {
   "codemirror_mode": {
    "name": "ipython",
    "version": 3
   },
   "file_extension": ".py",
   "mimetype": "text/x-python",
   "name": "python",
   "nbconvert_exporter": "python",
   "pygments_lexer": "ipython3",
   "version": "3.12.5"
  },
  "papermill": {
   "default_parameters": {},
   "duration": 19.825229,
   "end_time": "2025-05-15T16:15:53.785809",
   "environment_variables": {},
   "exception": null,
   "input_path": "02_xgboost_fitting_external_20genes.ipynb",
   "output_path": "results_20/executed_notebooks/xgboost_fitting_external_CT_Plasma_GS_8_seed3.ipynb",
   "parameters": {
    "CELL_TYPE": "Plasma",
    "SEED": 8,
    "TEST_SPLIT_IDX": 3
   },
   "start_time": "2025-05-15T16:15:33.960580",
   "version": "2.6.0"
  }
 },
 "nbformat": 4,
 "nbformat_minor": 5
}