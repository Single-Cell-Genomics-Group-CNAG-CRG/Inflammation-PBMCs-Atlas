{
 "cells": [
  {
   "cell_type": "code",
   "execution_count": 1,
   "id": "6c840145",
   "metadata": {
    "editable": true,
    "execution": {
     "iopub.execute_input": "2025-05-15T16:15:31.893902Z",
     "iopub.status.busy": "2025-05-15T16:15:31.893732Z",
     "iopub.status.idle": "2025-05-15T16:15:31.896330Z",
     "shell.execute_reply": "2025-05-15T16:15:31.896034Z"
    },
    "papermill": {
     "duration": 0.013175,
     "end_time": "2025-05-15T16:15:31.897234",
     "exception": false,
     "start_time": "2025-05-15T16:15:31.884059",
     "status": "completed"
    },
    "slideshow": {
     "slide_type": ""
    },
    "tags": [
     "parameters"
    ]
   },
   "outputs": [],
   "source": [
    "CELL_TYPE = 'pDC'\n",
    "N_GENES: int = 20\n",
    "SEED = 'shap_studyID' #'disease_NOstudy' 'study_NOdisease' or 'int' or 'shap_studyID'\n",
    "TEST_SPLIT_IDX: int = 1 #[0,4]"
   ]
  },
  {
   "cell_type": "code",
   "execution_count": 2,
   "id": "34617884",
   "metadata": {
    "execution": {
     "iopub.execute_input": "2025-05-15T16:15:31.909182Z",
     "iopub.status.busy": "2025-05-15T16:15:31.908785Z",
     "iopub.status.idle": "2025-05-15T16:15:31.910846Z",
     "shell.execute_reply": "2025-05-15T16:15:31.910558Z"
    },
    "papermill": {
     "duration": 0.008891,
     "end_time": "2025-05-15T16:15:31.911715",
     "exception": false,
     "start_time": "2025-05-15T16:15:31.902824",
     "status": "completed"
    },
    "tags": [
     "injected-parameters"
    ]
   },
   "outputs": [],
   "source": [
    "# Parameters\n",
    "CELL_TYPE = \"Plasma\"\n",
    "SEED = 7\n",
    "TEST_SPLIT_IDX = 1\n"
   ]
  },
  {
   "cell_type": "code",
   "execution_count": 3,
   "id": "7e5fdf3b",
   "metadata": {
    "execution": {
     "iopub.execute_input": "2025-05-15T16:15:31.923948Z",
     "iopub.status.busy": "2025-05-15T16:15:31.923077Z",
     "iopub.status.idle": "2025-05-15T16:15:31.925600Z",
     "shell.execute_reply": "2025-05-15T16:15:31.925322Z"
    },
    "papermill": {
     "duration": 0.009541,
     "end_time": "2025-05-15T16:15:31.926572",
     "exception": false,
     "start_time": "2025-05-15T16:15:31.917031",
     "status": "completed"
    },
    "tags": []
   },
   "outputs": [],
   "source": [
    "N_SPLITS: int = 5\n",
    "N_TRIALS: int = 50"
   ]
  },
  {
   "cell_type": "code",
   "execution_count": 4,
   "id": "07fc970c",
   "metadata": {
    "execution": {
     "iopub.execute_input": "2025-05-15T16:15:31.938584Z",
     "iopub.status.busy": "2025-05-15T16:15:31.938359Z",
     "iopub.status.idle": "2025-05-15T16:15:33.284478Z",
     "shell.execute_reply": "2025-05-15T16:15:33.284013Z"
    },
    "papermill": {
     "duration": 1.353799,
     "end_time": "2025-05-15T16:15:33.285668",
     "exception": false,
     "start_time": "2025-05-15T16:15:31.931869",
     "status": "completed"
    },
    "tags": []
   },
   "outputs": [],
   "source": [
    "import os\n",
    "import sys\n",
    "from pyprojroot.here import here\n",
    "import pandas as pd\n",
    "import anndata as ad\n",
    "import numpy as np\n",
    "import math\n",
    "from sklearn.model_selection import StratifiedGroupKFold\n",
    "from sklearn.preprocessing import LabelEncoder\n",
    "from sklearn.metrics import f1_score\n",
    "import matplotlib.pyplot as plt\n",
    "import seaborn as sns\n",
    "from itertools import product\n",
    "from sklearn.metrics import balanced_accuracy_score, f1_score\n",
    "import optuna\n",
    "\n",
    "import joblib\n",
    "import pickle\n",
    "import datetime\n",
    "\n",
    "import collections\n",
    "\n",
    "import xgboost\n",
    "from sklearn.preprocessing import LabelEncoder\n",
    "\n",
    "import scipy.sparse as ssp\n",
    "import joblib\n",
    "\n",
    "from dotenv import load_dotenv"
   ]
  },
  {
   "cell_type": "code",
   "execution_count": 5,
   "id": "55cfd572",
   "metadata": {
    "execution": {
     "iopub.execute_input": "2025-05-15T16:15:33.297562Z",
     "iopub.status.busy": "2025-05-15T16:15:33.297262Z",
     "iopub.status.idle": "2025-05-15T16:15:33.303049Z",
     "shell.execute_reply": "2025-05-15T16:15:33.302662Z"
    },
    "papermill": {
     "duration": 0.012406,
     "end_time": "2025-05-15T16:15:33.303876",
     "exception": false,
     "start_time": "2025-05-15T16:15:33.291470",
     "status": "completed"
    },
    "tags": []
   },
   "outputs": [
    {
     "data": {
      "text/plain": [
       "True"
      ]
     },
     "execution_count": 5,
     "metadata": {},
     "output_type": "execute_result"
    }
   ],
   "source": [
    "load_dotenv()"
   ]
  },
  {
   "cell_type": "markdown",
   "id": "64d433bd",
   "metadata": {
    "papermill": {
     "duration": 0.014147,
     "end_time": "2025-05-15T16:15:33.323417",
     "exception": false,
     "start_time": "2025-05-15T16:15:33.309270",
     "status": "completed"
    },
    "tags": []
   },
   "source": [
    "# LOAD DATASET"
   ]
  },
  {
   "cell_type": "code",
   "execution_count": 6,
   "id": "78b01f06",
   "metadata": {
    "execution": {
     "iopub.execute_input": "2025-05-15T16:15:33.334761Z",
     "iopub.status.busy": "2025-05-15T16:15:33.334443Z",
     "iopub.status.idle": "2025-05-15T16:15:33.371150Z",
     "shell.execute_reply": "2025-05-15T16:15:33.370739Z"
    },
    "papermill": {
     "duration": 0.043357,
     "end_time": "2025-05-15T16:15:33.372214",
     "exception": false,
     "start_time": "2025-05-15T16:15:33.328857",
     "status": "completed"
    },
    "tags": []
   },
   "outputs": [],
   "source": [
    "train_adata = ad.read_h5ad(\n",
    "    here(f'03_downstream_analysis/08_gene_importance/xgboost_external_validation/xgboost_TopN_genes/data_cellTypes/EXTERNAL_{CELL_TYPE}.filtered.log1p.h5ad')\n",
    ")"
   ]
  },
  {
   "cell_type": "code",
   "execution_count": 7,
   "id": "22a5262a",
   "metadata": {
    "execution": {
     "iopub.execute_input": "2025-05-15T16:15:33.384155Z",
     "iopub.status.busy": "2025-05-15T16:15:33.383820Z",
     "iopub.status.idle": "2025-05-15T16:15:33.392292Z",
     "shell.execute_reply": "2025-05-15T16:15:33.391949Z"
    },
    "papermill": {
     "duration": 0.015117,
     "end_time": "2025-05-15T16:15:33.393101",
     "exception": false,
     "start_time": "2025-05-15T16:15:33.377984",
     "status": "completed"
    },
    "tags": []
   },
   "outputs": [
    {
     "name": "stdout",
     "output_type": "stream",
     "text": [
      "['ENSG00000101608' 'ENSG00000108518' 'ENSG00000164483' 'ENSG00000127184'\n",
      " 'ENSG00000110324' 'ENSG00000100393' 'ENSG00000089327' 'ENSG00000145675'\n",
      " 'ENSG00000164674' 'ENSG00000184557' 'ENSG00000079805' 'ENSG00000134954'\n",
      " 'ENSG00000105221' 'ENSG00000153234' 'ENSG00000030110' 'ENSG00000112561'\n",
      " 'ENSG00000162434' 'ENSG00000264364' 'ENSG00000005844' 'ENSG00000178562'\n",
      " 'ENSG00000204264' 'ENSG00000134470' 'ENSG00000133134' 'ENSG00000185201'\n",
      " 'ENSG00000158517' 'ENSG00000002549' 'ENSG00000121807' 'ENSG00000175768'\n",
      " 'ENSG00000197249' 'ENSG00000141526' 'ENSG00000100365' 'ENSG00000171791'\n",
      " 'ENSG00000203747' 'ENSG00000166681' 'ENSG00000081059' 'ENSG00000156411'\n",
      " 'ENSG00000196961' 'ENSG00000175567' 'ENSG00000127540' 'ENSG00000096996'\n",
      " 'ENSG00000149311' 'ENSG00000149357' 'ENSG00000137100' 'ENSG00000167552'\n",
      " 'ENSG00000196092' 'ENSG00000159958' 'ENSG00000059728' 'ENSG00000142089'\n",
      " 'ENSG00000123358' 'ENSG00000167996' 'ENSG00000028137' 'ENSG00000183172'\n",
      " 'ENSG00000106588' 'ENSG00000179295' 'ENSG00000197746' 'ENSG00000158050'\n",
      " 'ENSG00000138674' 'ENSG00000177556' 'ENSG00000120738' 'ENSG00000152219'\n",
      " 'ENSG00000143933' 'ENSG00000130755' 'ENSG00000130066' 'ENSG00000166747'\n",
      " 'ENSG00000033800' 'ENSG00000162772' 'ENSG00000168811' 'ENSG00000160712'\n",
      " 'ENSG00000163191' 'ENSG00000163563' 'ENSG00000109861' 'ENSG00000137193'\n",
      " 'ENSG00000154814' 'ENSG00000168394' 'ENSG00000089280' 'ENSG00000204257'\n",
      " 'ENSG00000204267' 'ENSG00000135046' 'ENSG00000101695' 'ENSG00000077984'\n",
      " 'ENSG00000131437' 'ENSG00000134107' 'ENSG00000126264' 'ENSG00000137331'\n",
      " 'ENSG00000140968' 'ENSG00000126524' 'ENSG00000002586' 'ENSG00000227507'\n",
      " 'ENSG00000197471' 'ENSG00000026025' 'ENSG00000127022' 'ENSG00000241837'\n",
      " 'ENSG00000165280' 'ENSG00000277791' 'ENSG00000138036' 'ENSG00000152495'\n",
      " 'ENSG00000107968' 'ENSG00000197102' 'ENSG00000141506' 'ENSG00000127314'\n",
      " 'ENSG00000197965' 'ENSG00000113811' 'ENSG00000161203' 'ENSG00000106605'\n",
      " 'ENSG00000182287' 'ENSG00000106367' 'ENSG00000104312']\n"
     ]
    }
   ],
   "source": [
    "if SEED != 'all':\n",
    "    gene_subset = np.load(here(f'03_downstream_analysis/08_gene_importance/xgboost_external_validation/shap_gene_selection/gene_subsets_{N_GENES}/{CELL_TYPE}_{SEED}.npy'), allow_pickle=True)\n",
    "    train_adata = train_adata[:,gene_subset]\n",
    "    print(gene_subset)\n",
    "elif SEED == 'all':\n",
    "    print('Using all genes')\n",
    "else:\n",
    "    raise ValueError()"
   ]
  },
  {
   "cell_type": "code",
   "execution_count": 8,
   "id": "77bae792",
   "metadata": {
    "execution": {
     "iopub.execute_input": "2025-05-15T16:15:33.404486Z",
     "iopub.status.busy": "2025-05-15T16:15:33.404310Z",
     "iopub.status.idle": "2025-05-15T16:15:33.407076Z",
     "shell.execute_reply": "2025-05-15T16:15:33.406787Z"
    },
    "papermill": {
     "duration": 0.00934,
     "end_time": "2025-05-15T16:15:33.408008",
     "exception": false,
     "start_time": "2025-05-15T16:15:33.398668",
     "status": "completed"
    },
    "tags": []
   },
   "outputs": [
    {
     "data": {
      "text/plain": [
       "(542, 107)"
      ]
     },
     "execution_count": 8,
     "metadata": {},
     "output_type": "execute_result"
    }
   ],
   "source": [
    "train_adata.shape"
   ]
  },
  {
   "cell_type": "code",
   "execution_count": 9,
   "id": "473b0166",
   "metadata": {
    "execution": {
     "iopub.execute_input": "2025-05-15T16:15:33.419588Z",
     "iopub.status.busy": "2025-05-15T16:15:33.419424Z",
     "iopub.status.idle": "2025-05-15T16:15:33.422663Z",
     "shell.execute_reply": "2025-05-15T16:15:33.422366Z"
    },
    "papermill": {
     "duration": 0.00972,
     "end_time": "2025-05-15T16:15:33.423419",
     "exception": false,
     "start_time": "2025-05-15T16:15:33.413699",
     "status": "completed"
    },
    "tags": []
   },
   "outputs": [
    {
     "data": {
      "text/plain": [
       "['RA', 'COVID', 'healthy', 'HIV', 'cirrhosis', 'CD', 'SLE', 'sepsis']\n",
       "Categories (8, object): ['CD', 'COVID', 'HIV', 'RA', 'SLE', 'cirrhosis', 'healthy', 'sepsis']"
      ]
     },
     "execution_count": 9,
     "metadata": {},
     "output_type": "execute_result"
    }
   ],
   "source": [
    "train_adata.obs.disease.unique()"
   ]
  },
  {
   "cell_type": "code",
   "execution_count": 10,
   "id": "d4c4ea4f",
   "metadata": {
    "execution": {
     "iopub.execute_input": "2025-05-15T16:15:33.434746Z",
     "iopub.status.busy": "2025-05-15T16:15:33.434580Z",
     "iopub.status.idle": "2025-05-15T16:15:33.437949Z",
     "shell.execute_reply": "2025-05-15T16:15:33.437659Z"
    },
    "papermill": {
     "duration": 0.009935,
     "end_time": "2025-05-15T16:15:33.438762",
     "exception": false,
     "start_time": "2025-05-15T16:15:33.428827",
     "status": "completed"
    },
    "tags": []
   },
   "outputs": [
    {
     "data": {
      "text/plain": [
       "['SCGT00val_I0364_T0', 'SCGT00val_I036019_T0', 'SCGT00val_I036028_T0', 'SCGT00val_I036024_T0', 'SCGT00val_I036016_T0', ..., '10XGenomics_10XHC2_T0', '10XGenomics_10XHC3_T0', '10XGenomics_10XHC5_T0', '10XGenomics_10XHC7_T0', '10XGenomics_10XHC8_T0']\n",
       "Length: 74\n",
       "Categories (74, object): ['10XGenomics_10XHC1_T0', '10XGenomics_10XHC2_T0', '10XGenomics_10XHC3_T0', '10XGenomics_10XHC4_T0', ..., 'Savage2021_BRISL6_T0', 'Savage2021_BRISL7_T0', 'Savage2021_PIDA_T0', 'Savage2021_PIDB_T0']"
      ]
     },
     "execution_count": 10,
     "metadata": {},
     "output_type": "execute_result"
    }
   ],
   "source": [
    "train_adata.obs.sampleID.unique()"
   ]
  },
  {
   "cell_type": "code",
   "execution_count": 11,
   "id": "d9315319",
   "metadata": {
    "execution": {
     "iopub.execute_input": "2025-05-15T16:15:33.450746Z",
     "iopub.status.busy": "2025-05-15T16:15:33.450334Z",
     "iopub.status.idle": "2025-05-15T16:15:33.478436Z",
     "shell.execute_reply": "2025-05-15T16:15:33.478067Z"
    },
    "papermill": {
     "duration": 0.034992,
     "end_time": "2025-05-15T16:15:33.479238",
     "exception": false,
     "start_time": "2025-05-15T16:15:33.444246",
     "status": "completed"
    },
    "tags": []
   },
   "outputs": [],
   "source": [
    "all_idxs = np.arange(train_adata.obs.shape[0])\n",
    "left_out_splits = [s[1] for s in StratifiedGroupKFold(n_splits=N_SPLITS).split(all_idxs, train_adata.obs.disease, train_adata.obs.sampleID)]"
   ]
  },
  {
   "cell_type": "code",
   "execution_count": 12,
   "id": "9bab2a00",
   "metadata": {
    "execution": {
     "iopub.execute_input": "2025-05-15T16:15:33.491018Z",
     "iopub.status.busy": "2025-05-15T16:15:33.490782Z",
     "iopub.status.idle": "2025-05-15T16:15:33.493765Z",
     "shell.execute_reply": "2025-05-15T16:15:33.493475Z"
    },
    "papermill": {
     "duration": 0.009618,
     "end_time": "2025-05-15T16:15:33.494518",
     "exception": false,
     "start_time": "2025-05-15T16:15:33.484900",
     "status": "completed"
    },
    "tags": []
   },
   "outputs": [
    {
     "data": {
      "text/plain": [
       "([0, 3, 4], 2, 1)"
      ]
     },
     "execution_count": 12,
     "metadata": {},
     "output_type": "execute_result"
    }
   ],
   "source": [
    "TRAIN_SPLIT_IDXS = [0,1,2,3,4]\n",
    "VAL_SPLIT_IDX = (TEST_SPLIT_IDX + 1) % 5\n",
    "TRAIN_SPLIT_IDXS.remove(TEST_SPLIT_IDX)\n",
    "TRAIN_SPLIT_IDXS.remove(VAL_SPLIT_IDX)\n",
    "TRAIN_SPLIT_IDXS, VAL_SPLIT_IDX, TEST_SPLIT_IDX"
   ]
  },
  {
   "cell_type": "code",
   "execution_count": 13,
   "id": "80a45760",
   "metadata": {
    "execution": {
     "iopub.execute_input": "2025-05-15T16:15:33.510637Z",
     "iopub.status.busy": "2025-05-15T16:15:33.510313Z",
     "iopub.status.idle": "2025-05-15T16:15:33.512562Z",
     "shell.execute_reply": "2025-05-15T16:15:33.512278Z"
    },
    "papermill": {
     "duration": 0.008974,
     "end_time": "2025-05-15T16:15:33.513398",
     "exception": false,
     "start_time": "2025-05-15T16:15:33.504424",
     "status": "completed"
    },
    "tags": []
   },
   "outputs": [],
   "source": [
    "train_idxs = np.concatenate([left_out_splits[idx] for idx in TRAIN_SPLIT_IDXS])\n",
    "val_idxs = left_out_splits[VAL_SPLIT_IDX]\n",
    "test_idxs = left_out_splits[TEST_SPLIT_IDX]"
   ]
  },
  {
   "cell_type": "markdown",
   "id": "eed6d8e3",
   "metadata": {
    "papermill": {
     "duration": 0.006216,
     "end_time": "2025-05-15T16:15:33.525198",
     "exception": false,
     "start_time": "2025-05-15T16:15:33.518982",
     "status": "completed"
    },
    "tags": []
   },
   "source": [
    "### SUBSET DATASET INTO TRAIN/TEST/VAL SPLITS"
   ]
  },
  {
   "cell_type": "code",
   "execution_count": 14,
   "id": "566e00d5",
   "metadata": {
    "execution": {
     "iopub.execute_input": "2025-05-15T16:15:33.539013Z",
     "iopub.status.busy": "2025-05-15T16:15:33.538509Z",
     "iopub.status.idle": "2025-05-15T16:15:33.544952Z",
     "shell.execute_reply": "2025-05-15T16:15:33.544661Z"
    },
    "papermill": {
     "duration": 0.014694,
     "end_time": "2025-05-15T16:15:33.545751",
     "exception": false,
     "start_time": "2025-05-15T16:15:33.531057",
     "status": "completed"
    },
    "tags": []
   },
   "outputs": [
    {
     "data": {
      "text/plain": [
       "((333, 107), (107, 107), (102, 107))"
      ]
     },
     "execution_count": 14,
     "metadata": {},
     "output_type": "execute_result"
    }
   ],
   "source": [
    "X_train = train_adata.X[train_idxs]\n",
    "X_test = train_adata.X[test_idxs]\n",
    "X_val = train_adata.X[val_idxs]\n",
    "X_train.shape, X_test.shape, X_val.shape"
   ]
  },
  {
   "cell_type": "code",
   "execution_count": 15,
   "id": "765987ca",
   "metadata": {
    "execution": {
     "iopub.execute_input": "2025-05-15T16:15:33.557986Z",
     "iopub.status.busy": "2025-05-15T16:15:33.557825Z",
     "iopub.status.idle": "2025-05-15T16:15:33.562246Z",
     "shell.execute_reply": "2025-05-15T16:15:33.561973Z"
    },
    "papermill": {
     "duration": 0.011311,
     "end_time": "2025-05-15T16:15:33.563056",
     "exception": false,
     "start_time": "2025-05-15T16:15:33.551745",
     "status": "completed"
    },
    "tags": []
   },
   "outputs": [
    {
     "data": {
      "text/plain": [
       "((333,), (107,), (102,))"
      ]
     },
     "execution_count": 15,
     "metadata": {},
     "output_type": "execute_result"
    }
   ],
   "source": [
    "y_train = train_adata.obs.iloc[train_idxs].disease.values.astype(str)\n",
    "y_test = train_adata.obs.iloc[test_idxs].disease.values.astype(str)\n",
    "y_val = train_adata.obs.iloc[val_idxs].disease.values.astype(str)\n",
    "y_train.shape, y_test.shape, y_val.shape"
   ]
  },
  {
   "cell_type": "code",
   "execution_count": 16,
   "id": "f48b0170",
   "metadata": {
    "execution": {
     "iopub.execute_input": "2025-05-15T16:15:33.575140Z",
     "iopub.status.busy": "2025-05-15T16:15:33.574797Z",
     "iopub.status.idle": "2025-05-15T16:15:33.577326Z",
     "shell.execute_reply": "2025-05-15T16:15:33.577031Z"
    },
    "papermill": {
     "duration": 0.00927,
     "end_time": "2025-05-15T16:15:33.578123",
     "exception": false,
     "start_time": "2025-05-15T16:15:33.568853",
     "status": "completed"
    },
    "tags": []
   },
   "outputs": [],
   "source": [
    "lenc = LabelEncoder()\n",
    "y_train_enc = lenc.fit_transform(y_train)\n",
    "y_val_enc = lenc.transform(y_val)\n",
    "y_test_enc = lenc.transform(y_test)"
   ]
  },
  {
   "cell_type": "markdown",
   "id": "da612bae",
   "metadata": {
    "papermill": {
     "duration": 0.005887,
     "end_time": "2025-05-15T16:15:33.589716",
     "exception": false,
     "start_time": "2025-05-15T16:15:33.583829",
     "status": "completed"
    },
    "tags": []
   },
   "source": [
    "### GENERATE F1 "
   ]
  },
  {
   "cell_type": "code",
   "execution_count": 17,
   "id": "a13be91b",
   "metadata": {
    "execution": {
     "iopub.execute_input": "2025-05-15T16:15:33.601365Z",
     "iopub.status.busy": "2025-05-15T16:15:33.601049Z",
     "iopub.status.idle": "2025-05-15T16:15:33.603223Z",
     "shell.execute_reply": "2025-05-15T16:15:33.602929Z"
    },
    "papermill": {
     "duration": 0.008812,
     "end_time": "2025-05-15T16:15:33.603957",
     "exception": false,
     "start_time": "2025-05-15T16:15:33.595145",
     "status": "completed"
    },
    "tags": []
   },
   "outputs": [],
   "source": [
    "def custom_f1_score(y_true, y_pred):\n",
    "    return -f1_score(y_true, y_pred.argmax(1), average='weighted')"
   ]
  },
  {
   "cell_type": "code",
   "execution_count": 18,
   "id": "1679b53c",
   "metadata": {
    "execution": {
     "iopub.execute_input": "2025-05-15T16:15:33.615923Z",
     "iopub.status.busy": "2025-05-15T16:15:33.615761Z",
     "iopub.status.idle": "2025-05-15T16:15:33.619192Z",
     "shell.execute_reply": "2025-05-15T16:15:33.618901Z"
    },
    "papermill": {
     "duration": 0.01019,
     "end_time": "2025-05-15T16:15:33.619918",
     "exception": false,
     "start_time": "2025-05-15T16:15:33.609728",
     "status": "completed"
    },
    "tags": []
   },
   "outputs": [],
   "source": [
    "eval_metric=custom_f1_score\n",
    "eval_metric_name='custom_f1_score'\n",
    "\n",
    "def objective(trial):\n",
    "    params = {\n",
    "        'n_estimators': 1500,\n",
    "        'max_depth': trial.suggest_int('max_depth', 3, 20),\n",
    "        'min_child_weight': trial.suggest_int('min_child_weight', 1, 250),\n",
    "        'subsample': trial.suggest_float('subsample', 0.1, 1.0),\n",
    "        'colsample_bynode': trial.suggest_float('colsample_bynode', 0.1, 1.0),\n",
    "        'learning_rate': trial.suggest_float('learning_rate', 1e-3, 5e-1, log=True),\n",
    "    }\n",
    "    pruning_callback = optuna.integration.XGBoostPruningCallback(trial, f'validation_0-{eval_metric_name}')\n",
    "    es_callback = xgboost.callback.EarlyStopping(20, min_delta=0.001)\n",
    "    xgb = xgboost.XGBClassifier(\n",
    "        eval_metric=eval_metric,\n",
    "        callbacks=[pruning_callback, es_callback],\n",
    "        n_jobs=5,\n",
    "        **params\n",
    "    )\n",
    "    xgb.fit(\n",
    "        X_train, \n",
    "        y_train_enc, \n",
    "        verbose=0,\n",
    "        eval_set=[(X_val, y_val_enc)],\n",
    "    )\n",
    "    trial.set_user_attr('best_iteration', xgb.best_iteration)\n",
    "\n",
    "    return xgb.best_score"
   ]
  },
  {
   "cell_type": "code",
   "execution_count": 19,
   "id": "2e3c775c",
   "metadata": {
    "execution": {
     "iopub.execute_input": "2025-05-15T16:15:33.631907Z",
     "iopub.status.busy": "2025-05-15T16:15:33.631747Z",
     "iopub.status.idle": "2025-05-15T16:16:03.037270Z",
     "shell.execute_reply": "2025-05-15T16:16:03.036869Z"
    },
    "papermill": {
     "duration": 29.412512,
     "end_time": "2025-05-15T16:16:03.038211",
     "exception": false,
     "start_time": "2025-05-15T16:15:33.625699",
     "status": "completed"
    },
    "scrolled": true,
    "tags": []
   },
   "outputs": [
    {
     "name": "stderr",
     "output_type": "stream",
     "text": [
      "[I 2025-05-15 18:15:33,633] A new study created in memory with name: no-name-4095b311-e214-4640-b276-17c0528358fb\n"
     ]
    },
    {
     "name": "stderr",
     "output_type": "stream",
     "text": [
      "[I 2025-05-15 18:15:34,139] Trial 0 finished with value: -0.03313 and parameters: {'max_depth': 9, 'min_child_weight': 238, 'subsample': 0.7587945476302645, 'colsample_bynode': 0.6387926357773329, 'learning_rate': 0.0026368755339723046}. Best is trial 0 with value: -0.03313.\n"
     ]
    },
    {
     "name": "stderr",
     "output_type": "stream",
     "text": [
      "[I 2025-05-15 18:15:34,396] Trial 1 finished with value: -0.379505 and parameters: {'max_depth': 5, 'min_child_weight': 15, 'subsample': 0.8795585311974417, 'colsample_bynode': 0.6410035105688879, 'learning_rate': 0.08148293210105287}. Best is trial 1 with value: -0.379505.\n"
     ]
    },
    {
     "name": "stderr",
     "output_type": "stream",
     "text": [
      "[I 2025-05-15 18:15:38,120] Trial 2 finished with value: -0.03313 and parameters: {'max_depth': 3, 'min_child_weight': 243, 'subsample': 0.8491983767203796, 'colsample_bynode': 0.29110519961044856, 'learning_rate': 0.003095566460242371}. Best is trial 1 with value: -0.379505.\n"
     ]
    },
    {
     "name": "stderr",
     "output_type": "stream",
     "text": [
      "[I 2025-05-15 18:15:46,115] Trial 3 finished with value: -0.03313 and parameters: {'max_depth': 6, 'min_child_weight': 77, 'subsample': 0.5722807884690141, 'colsample_bynode': 0.48875051677790415, 'learning_rate': 0.006109683510122491}. Best is trial 1 with value: -0.379505.\n"
     ]
    },
    {
     "name": "stderr",
     "output_type": "stream",
     "text": [
      "[I 2025-05-15 18:15:50,119] Trial 4 finished with value: -0.03313 and parameters: {'max_depth': 14, 'min_child_weight': 35, 'subsample': 0.3629301836816964, 'colsample_bynode': 0.4297256589643226, 'learning_rate': 0.01701841881702917}. Best is trial 1 with value: -0.379505.\n"
     ]
    },
    {
     "name": "stderr",
     "output_type": "stream",
     "text": [
      "[I 2025-05-15 18:15:50,247] Trial 5 finished with value: -0.03313 and parameters: {'max_depth': 17, 'min_child_weight': 50, 'subsample': 0.5628109945722505, 'colsample_bynode': 0.6331731119758383, 'learning_rate': 0.0013346527038305934}. Best is trial 1 with value: -0.379505.\n"
     ]
    },
    {
     "name": "stderr",
     "output_type": "stream",
     "text": [
      "[I 2025-05-15 18:15:50,378] Trial 6 finished with value: -0.03313 and parameters: {'max_depth': 13, 'min_child_weight': 43, 'subsample': 0.1585464336867516, 'colsample_bynode': 0.9539969835279999, 'learning_rate': 0.4038423798071558}. Best is trial 1 with value: -0.379505.\n"
     ]
    },
    {
     "name": "stderr",
     "output_type": "stream",
     "text": [
      "[I 2025-05-15 18:15:50,505] Trial 7 finished with value: -0.03313 and parameters: {'max_depth': 17, 'min_child_weight': 77, 'subsample': 0.1879049026057455, 'colsample_bynode': 0.7158097238609412, 'learning_rate': 0.015415527060141935}. Best is trial 1 with value: -0.379505.\n"
     ]
    },
    {
     "name": "stderr",
     "output_type": "stream",
     "text": [
      "[I 2025-05-15 18:15:50,633] Trial 8 finished with value: -0.03313 and parameters: {'max_depth': 5, 'min_child_weight': 124, 'subsample': 0.13094966900369656, 'colsample_bynode': 0.9183883618709039, 'learning_rate': 0.004993895014755658}. Best is trial 1 with value: -0.379505.\n"
     ]
    },
    {
     "name": "stderr",
     "output_type": "stream",
     "text": [
      "[I 2025-05-15 18:15:50,761] Trial 9 finished with value: -0.03313 and parameters: {'max_depth': 14, 'min_child_weight': 78, 'subsample': 0.5680612190600297, 'colsample_bynode': 0.5920392514089517, 'learning_rate': 0.0031543990308330965}. Best is trial 1 with value: -0.379505.\n"
     ]
    },
    {
     "name": "stderr",
     "output_type": "stream",
     "text": [
      "[I 2025-05-15 18:15:54,175] Trial 10 pruned. Trial was pruned at iteration 29.\n"
     ]
    },
    {
     "name": "stderr",
     "output_type": "stream",
     "text": [
      "[I 2025-05-15 18:15:54,330] Trial 11 finished with value: -0.03313 and parameters: {'max_depth': 9, 'min_child_weight': 244, 'subsample': 0.7759918276625105, 'colsample_bynode': 0.7714157288516674, 'learning_rate': 0.06989197786403963}. Best is trial 1 with value: -0.379505.\n"
     ]
    },
    {
     "name": "stderr",
     "output_type": "stream",
     "text": [
      "[I 2025-05-15 18:15:54,474] Trial 12 finished with value: -0.03313 and parameters: {'max_depth': 9, 'min_child_weight': 187, 'subsample': 0.7810886706853567, 'colsample_bynode': 0.7908156974794198, 'learning_rate': 0.0852514223226423}. Best is trial 1 with value: -0.379505.\n"
     ]
    },
    {
     "name": "stderr",
     "output_type": "stream",
     "text": [
      "[I 2025-05-15 18:15:54,621] Trial 13 finished with value: -0.03313 and parameters: {'max_depth': 7, 'min_child_weight': 173, 'subsample': 0.9985711586801754, 'colsample_bynode': 0.3542314315933605, 'learning_rate': 0.05535376435186281}. Best is trial 1 with value: -0.379505.\n"
     ]
    },
    {
     "name": "stderr",
     "output_type": "stream",
     "text": [
      "[I 2025-05-15 18:15:54,767] Trial 14 finished with value: -0.03313 and parameters: {'max_depth': 4, 'min_child_weight': 140, 'subsample': 0.7252785471204157, 'colsample_bynode': 0.6251170185028069, 'learning_rate': 0.028603454172866558}. Best is trial 1 with value: -0.379505.\n"
     ]
    },
    {
     "name": "stderr",
     "output_type": "stream",
     "text": [
      "[I 2025-05-15 18:15:54,911] Trial 15 finished with value: -0.03313 and parameters: {'max_depth': 20, 'min_child_weight': 204, 'subsample': 0.6803150824063098, 'colsample_bynode': 0.8501087117926959, 'learning_rate': 0.001019745930894758}. Best is trial 1 with value: -0.379505.\n"
     ]
    },
    {
     "name": "stderr",
     "output_type": "stream",
     "text": [
      "[I 2025-05-15 18:15:55,058] Trial 16 finished with value: -0.03313 and parameters: {'max_depth': 8, 'min_child_weight': 121, 'subsample': 0.8625632182518037, 'colsample_bynode': 0.6970657857507844, 'learning_rate': 0.18961687234093502}. Best is trial 1 with value: -0.379505.\n"
     ]
    },
    {
     "name": "stderr",
     "output_type": "stream",
     "text": [
      "[I 2025-05-15 18:15:55,299] Trial 17 finished with value: -0.392245 and parameters: {'max_depth': 11, 'min_child_weight': 4, 'subsample': 0.4301895761585591, 'colsample_bynode': 0.515903282561015, 'learning_rate': 0.009410915946792322}. Best is trial 17 with value: -0.392245.\n"
     ]
    },
    {
     "name": "stderr",
     "output_type": "stream",
     "text": [
      "[I 2025-05-15 18:15:55,521] Trial 18 pruned. Trial was pruned at iteration 29.\n"
     ]
    },
    {
     "name": "stderr",
     "output_type": "stream",
     "text": [
      "[I 2025-05-15 18:15:55,662] Trial 19 finished with value: -0.166667 and parameters: {'max_depth': 11, 'min_child_weight': 22, 'subsample': 0.3762029913865458, 'colsample_bynode': 0.23825222843275057, 'learning_rate': 0.03320644976210297}. Best is trial 17 with value: -0.392245.\n"
     ]
    },
    {
     "name": "stderr",
     "output_type": "stream",
     "text": [
      "[I 2025-05-15 18:15:55,803] Trial 20 finished with value: -0.03313 and parameters: {'max_depth': 16, 'min_child_weight': 99, 'subsample': 0.2893313626528008, 'colsample_bynode': 0.422076800278259, 'learning_rate': 0.13046796300586744}. Best is trial 17 with value: -0.392245.\n"
     ]
    },
    {
     "name": "stderr",
     "output_type": "stream",
     "text": [
      "[I 2025-05-15 18:15:55,945] Trial 21 finished with value: -0.166667 and parameters: {'max_depth': 11, 'min_child_weight': 24, 'subsample': 0.4579357369861081, 'colsample_bynode': 0.19119727298237837, 'learning_rate': 0.036071858140429645}. Best is trial 17 with value: -0.392245.\n"
     ]
    },
    {
     "name": "stderr",
     "output_type": "stream",
     "text": [
      "[I 2025-05-15 18:15:56,088] Trial 22 finished with value: -0.166667 and parameters: {'max_depth': 12, 'min_child_weight': 25, 'subsample': 0.4676062191784226, 'colsample_bynode': 0.2553135267083242, 'learning_rate': 0.04293158416805306}. Best is trial 17 with value: -0.392245.\n"
     ]
    },
    {
     "name": "stderr",
     "output_type": "stream",
     "text": [
      "[I 2025-05-15 18:15:56,235] Trial 23 finished with value: -0.03313 and parameters: {'max_depth': 11, 'min_child_weight': 57, 'subsample': 0.23953900810403816, 'colsample_bynode': 0.36953321435606123, 'learning_rate': 0.011006125239902503}. Best is trial 17 with value: -0.392245.\n"
     ]
    },
    {
     "name": "stderr",
     "output_type": "stream",
     "text": [
      "[I 2025-05-15 18:15:56,401] Trial 24 finished with value: -0.336076 and parameters: {'max_depth': 7, 'min_child_weight': 17, 'subsample': 0.4742183522728036, 'colsample_bynode': 0.49377735435635495, 'learning_rate': 0.023612222954110838}. Best is trial 17 with value: -0.392245.\n"
     ]
    },
    {
     "name": "stderr",
     "output_type": "stream",
     "text": [
      "[I 2025-05-15 18:15:56,733] Trial 25 finished with value: -0.378443 and parameters: {'max_depth': 6, 'min_child_weight': 2, 'subsample': 0.6504510494403171, 'colsample_bynode': 0.5014092695306152, 'learning_rate': 0.020767332926495092}. Best is trial 17 with value: -0.392245.\n"
     ]
    },
    {
     "name": "stderr",
     "output_type": "stream",
     "text": [
      "[I 2025-05-15 18:15:57,037] Trial 26 finished with value: -0.391419 and parameters: {'max_depth': 3, 'min_child_weight': 1, 'subsample': 0.6492433227155614, 'colsample_bynode': 0.5829444840458243, 'learning_rate': 0.00923414352929518}. Best is trial 17 with value: -0.392245.\n"
     ]
    },
    {
     "name": "stderr",
     "output_type": "stream",
     "text": [
      "[I 2025-05-15 18:15:57,183] Trial 27 pruned. Trial was pruned at iteration 20.\n"
     ]
    },
    {
     "name": "stderr",
     "output_type": "stream",
     "text": [
      "[I 2025-05-15 18:15:57,336] Trial 28 finished with value: -0.03313 and parameters: {'max_depth': 4, 'min_child_weight': 98, 'subsample': 0.926691151142119, 'colsample_bynode': 0.6921883709308655, 'learning_rate': 0.01232648763440492}. Best is trial 17 with value: -0.392245.\n"
     ]
    },
    {
     "name": "stderr",
     "output_type": "stream",
     "text": [
      "[I 2025-05-15 18:15:57,484] Trial 29 finished with value: -0.166667 and parameters: {'max_depth': 5, 'min_child_weight': 35, 'subsample': 0.885828185669685, 'colsample_bynode': 0.5723362635286369, 'learning_rate': 0.002020191518440591}. Best is trial 17 with value: -0.392245.\n"
     ]
    },
    {
     "name": "stderr",
     "output_type": "stream",
     "text": [
      "[I 2025-05-15 18:15:57,632] Trial 30 finished with value: -0.03313 and parameters: {'max_depth': 20, 'min_child_weight': 150, 'subsample': 0.7165554080811058, 'colsample_bynode': 0.4357588170733355, 'learning_rate': 0.36561160649956115}. Best is trial 17 with value: -0.392245.\n"
     ]
    },
    {
     "name": "stderr",
     "output_type": "stream",
     "text": [
      "[I 2025-05-15 18:15:57,938] Trial 31 pruned. Trial was pruned at iteration 29.\n"
     ]
    },
    {
     "name": "stderr",
     "output_type": "stream",
     "text": [
      "[I 2025-05-15 18:15:58,120] Trial 32 pruned. Trial was pruned at iteration 21.\n"
     ]
    },
    {
     "name": "stderr",
     "output_type": "stream",
     "text": [
      "[I 2025-05-15 18:15:58,268] Trial 33 finished with value: -0.166667 and parameters: {'max_depth': 5, 'min_child_weight': 34, 'subsample': 0.8247891061043093, 'colsample_bynode': 0.35933058076843444, 'learning_rate': 0.008037372206417046}. Best is trial 17 with value: -0.392245.\n"
     ]
    },
    {
     "name": "stderr",
     "output_type": "stream",
     "text": [
      "[I 2025-05-15 18:15:58,548] Trial 34 finished with value: -0.375255 and parameters: {'max_depth': 7, 'min_child_weight': 1, 'subsample': 0.4194011515409741, 'colsample_bynode': 0.46009411887201107, 'learning_rate': 0.022223443343363427}. Best is trial 17 with value: -0.392245.\n"
     ]
    },
    {
     "name": "stderr",
     "output_type": "stream",
     "text": [
      "[I 2025-05-15 18:15:58,697] Trial 35 finished with value: -0.03313 and parameters: {'max_depth': 4, 'min_child_weight': 67, 'subsample': 0.5939086870547429, 'colsample_bynode': 0.5499799813949218, 'learning_rate': 0.003975104696662616}. Best is trial 17 with value: -0.392245.\n"
     ]
    },
    {
     "name": "stderr",
     "output_type": "stream",
     "text": [
      "[I 2025-05-15 18:15:58,844] Trial 36 pruned. Trial was pruned at iteration 20.\n"
     ]
    },
    {
     "name": "stderr",
     "output_type": "stream",
     "text": [
      "[I 2025-05-15 18:15:58,992] Trial 37 finished with value: -0.166667 and parameters: {'max_depth': 3, 'min_child_weight': 22, 'subsample': 0.523113293719827, 'colsample_bynode': 0.6124936690713677, 'learning_rate': 0.0065184930235393295}. Best is trial 17 with value: -0.392245.\n"
     ]
    },
    {
     "name": "stderr",
     "output_type": "stream",
     "text": [
      "[I 2025-05-15 18:15:59,141] Trial 38 finished with value: -0.166667 and parameters: {'max_depth': 8, 'min_child_weight': 47, 'subsample': 0.703222953826469, 'colsample_bynode': 0.3937746723483255, 'learning_rate': 0.04632214427809711}. Best is trial 17 with value: -0.392245.\n"
     ]
    },
    {
     "name": "stderr",
     "output_type": "stream",
     "text": [
      "[I 2025-05-15 18:15:59,289] Trial 39 finished with value: -0.166667 and parameters: {'max_depth': 5, 'min_child_weight': 32, 'subsample': 0.5363370106196876, 'colsample_bynode': 0.3042862963879675, 'learning_rate': 0.09795493047089915}. Best is trial 17 with value: -0.392245.\n"
     ]
    },
    {
     "name": "stderr",
     "output_type": "stream",
     "text": [
      "[I 2025-05-15 18:15:59,438] Trial 40 finished with value: -0.03313 and parameters: {'max_depth': 16, 'min_child_weight': 218, 'subsample': 0.3008634073330152, 'colsample_bynode': 0.6555293111816605, 'learning_rate': 0.0024927191703000913}. Best is trial 17 with value: -0.392245.\n"
     ]
    },
    {
     "name": "stderr",
     "output_type": "stream",
     "text": [
      "[I 2025-05-15 18:15:59,741] Trial 41 pruned. Trial was pruned at iteration 29.\n"
     ]
    },
    {
     "name": "stderr",
     "output_type": "stream",
     "text": [
      "[I 2025-05-15 18:15:59,903] Trial 42 pruned. Trial was pruned at iteration 21.\n"
     ]
    },
    {
     "name": "stderr",
     "output_type": "stream",
     "text": [
      "[I 2025-05-15 18:16:00,461] Trial 43 pruned. Trial was pruned at iteration 23.\n"
     ]
    },
    {
     "name": "stderr",
     "output_type": "stream",
     "text": [
      "[I 2025-05-15 18:16:02,127] Trial 44 pruned. Trial was pruned at iteration 20.\n"
     ]
    },
    {
     "name": "stderr",
     "output_type": "stream",
     "text": [
      "[I 2025-05-15 18:16:02,327] Trial 45 pruned. Trial was pruned at iteration 21.\n"
     ]
    },
    {
     "name": "stderr",
     "output_type": "stream",
     "text": [
      "[I 2025-05-15 18:16:02,476] Trial 46 finished with value: -0.166667 and parameters: {'max_depth': 4, 'min_child_weight': 27, 'subsample': 0.5714981949966533, 'colsample_bynode': 0.5511507223806058, 'learning_rate': 0.02068845105102772}. Best is trial 17 with value: -0.392245.\n"
     ]
    },
    {
     "name": "stderr",
     "output_type": "stream",
     "text": [
      "[I 2025-05-15 18:16:02,626] Trial 47 finished with value: -0.03313 and parameters: {'max_depth': 7, 'min_child_weight': 52, 'subsample': 0.6058058911267351, 'colsample_bynode': 0.8217292568487502, 'learning_rate': 0.06651365961931428}. Best is trial 17 with value: -0.392245.\n"
     ]
    },
    {
     "name": "stderr",
     "output_type": "stream",
     "text": [
      "[I 2025-05-15 18:16:02,777] Trial 48 finished with value: -0.03313 and parameters: {'max_depth': 10, 'min_child_weight': 72, 'subsample': 0.5170916813011748, 'colsample_bynode': 0.7309785690798546, 'learning_rate': 0.014563339336396827}. Best is trial 17 with value: -0.392245.\n"
     ]
    },
    {
     "name": "stderr",
     "output_type": "stream",
     "text": [
      "[I 2025-05-15 18:16:02,958] Trial 49 finished with value: -0.306148 and parameters: {'max_depth': 5, 'min_child_weight': 14, 'subsample': 0.7556632236019685, 'colsample_bynode': 0.4097230648328456, 'learning_rate': 0.008675690942768625}. Best is trial 17 with value: -0.392245.\n"
     ]
    }
   ],
   "source": [
    "sampler = optuna.samplers.TPESampler(seed=42)\n",
    "study = optuna.create_study(direction='minimize', sampler=sampler)\n",
    "study.optimize(objective, n_trials=N_TRIALS, gc_after_trial=True)"
   ]
  },
  {
   "cell_type": "code",
   "execution_count": 20,
   "id": "462f0fce",
   "metadata": {
    "execution": {
     "iopub.execute_input": "2025-05-15T16:16:03.680989Z",
     "iopub.status.busy": "2025-05-15T16:16:03.680777Z",
     "iopub.status.idle": "2025-05-15T16:16:04.057573Z",
     "shell.execute_reply": "2025-05-15T16:16:04.057258Z"
    },
    "papermill": {
     "duration": 0.593079,
     "end_time": "2025-05-15T16:16:04.058395",
     "exception": false,
     "start_time": "2025-05-15T16:16:03.465316",
     "status": "completed"
    },
    "tags": []
   },
   "outputs": [
    {
     "data": {
      "text/plain": [
       "['/scratch_isilon/groups/singlecell/shared/projects/Inflammation-PBMCs-Atlas/03_downstream_analysis/08_gene_importance/xgboost_external_validation/xgboost_TopN_genes/results_20/study/Plasma_7_1_xgboost.pkl']"
      ]
     },
     "execution_count": 20,
     "metadata": {},
     "output_type": "execute_result"
    }
   ],
   "source": [
    "out_dir = here(f'03_downstream_analysis/08_gene_importance/xgboost_external_validation/xgboost_TopN_genes/results_{N_GENES}/study')\n",
    "\n",
    "if not os.path.exists(out_dir):\n",
    "    os.makedirs(out_dir)\n",
    "    \n",
    "joblib.dump(study,os.path.join(out_dir, f'{CELL_TYPE}_{SEED}_{TEST_SPLIT_IDX}_xgboost.pkl'))"
   ]
  },
  {
   "cell_type": "code",
   "execution_count": 21,
   "id": "7939d93e",
   "metadata": {
    "execution": {
     "iopub.execute_input": "2025-05-15T16:16:04.409583Z",
     "iopub.status.busy": "2025-05-15T16:16:04.409278Z",
     "iopub.status.idle": "2025-05-15T16:16:04.588260Z",
     "shell.execute_reply": "2025-05-15T16:16:04.587947Z"
    },
    "papermill": {
     "duration": 0.350602,
     "end_time": "2025-05-15T16:16:04.589145",
     "exception": false,
     "start_time": "2025-05-15T16:16:04.238543",
     "status": "completed"
    },
    "tags": []
   },
   "outputs": [
    {
     "data": {
      "text/html": [
       "<style>#sk-container-id-1 {\n",
       "  /* Definition of color scheme common for light and dark mode */\n",
       "  --sklearn-color-text: black;\n",
       "  --sklearn-color-line: gray;\n",
       "  /* Definition of color scheme for unfitted estimators */\n",
       "  --sklearn-color-unfitted-level-0: #fff5e6;\n",
       "  --sklearn-color-unfitted-level-1: #f6e4d2;\n",
       "  --sklearn-color-unfitted-level-2: #ffe0b3;\n",
       "  --sklearn-color-unfitted-level-3: chocolate;\n",
       "  /* Definition of color scheme for fitted estimators */\n",
       "  --sklearn-color-fitted-level-0: #f0f8ff;\n",
       "  --sklearn-color-fitted-level-1: #d4ebff;\n",
       "  --sklearn-color-fitted-level-2: #b3dbfd;\n",
       "  --sklearn-color-fitted-level-3: cornflowerblue;\n",
       "\n",
       "  /* Specific color for light theme */\n",
       "  --sklearn-color-text-on-default-background: var(--sg-text-color, var(--theme-code-foreground, var(--jp-content-font-color1, black)));\n",
       "  --sklearn-color-background: var(--sg-background-color, var(--theme-background, var(--jp-layout-color0, white)));\n",
       "  --sklearn-color-border-box: var(--sg-text-color, var(--theme-code-foreground, var(--jp-content-font-color1, black)));\n",
       "  --sklearn-color-icon: #696969;\n",
       "\n",
       "  @media (prefers-color-scheme: dark) {\n",
       "    /* Redefinition of color scheme for dark theme */\n",
       "    --sklearn-color-text-on-default-background: var(--sg-text-color, var(--theme-code-foreground, var(--jp-content-font-color1, white)));\n",
       "    --sklearn-color-background: var(--sg-background-color, var(--theme-background, var(--jp-layout-color0, #111)));\n",
       "    --sklearn-color-border-box: var(--sg-text-color, var(--theme-code-foreground, var(--jp-content-font-color1, white)));\n",
       "    --sklearn-color-icon: #878787;\n",
       "  }\n",
       "}\n",
       "\n",
       "#sk-container-id-1 {\n",
       "  color: var(--sklearn-color-text);\n",
       "}\n",
       "\n",
       "#sk-container-id-1 pre {\n",
       "  padding: 0;\n",
       "}\n",
       "\n",
       "#sk-container-id-1 input.sk-hidden--visually {\n",
       "  border: 0;\n",
       "  clip: rect(1px 1px 1px 1px);\n",
       "  clip: rect(1px, 1px, 1px, 1px);\n",
       "  height: 1px;\n",
       "  margin: -1px;\n",
       "  overflow: hidden;\n",
       "  padding: 0;\n",
       "  position: absolute;\n",
       "  width: 1px;\n",
       "}\n",
       "\n",
       "#sk-container-id-1 div.sk-dashed-wrapped {\n",
       "  border: 1px dashed var(--sklearn-color-line);\n",
       "  margin: 0 0.4em 0.5em 0.4em;\n",
       "  box-sizing: border-box;\n",
       "  padding-bottom: 0.4em;\n",
       "  background-color: var(--sklearn-color-background);\n",
       "}\n",
       "\n",
       "#sk-container-id-1 div.sk-container {\n",
       "  /* jupyter's `normalize.less` sets `[hidden] { display: none; }`\n",
       "     but bootstrap.min.css set `[hidden] { display: none !important; }`\n",
       "     so we also need the `!important` here to be able to override the\n",
       "     default hidden behavior on the sphinx rendered scikit-learn.org.\n",
       "     See: https://github.com/scikit-learn/scikit-learn/issues/21755 */\n",
       "  display: inline-block !important;\n",
       "  position: relative;\n",
       "}\n",
       "\n",
       "#sk-container-id-1 div.sk-text-repr-fallback {\n",
       "  display: none;\n",
       "}\n",
       "\n",
       "div.sk-parallel-item,\n",
       "div.sk-serial,\n",
       "div.sk-item {\n",
       "  /* draw centered vertical line to link estimators */\n",
       "  background-image: linear-gradient(var(--sklearn-color-text-on-default-background), var(--sklearn-color-text-on-default-background));\n",
       "  background-size: 2px 100%;\n",
       "  background-repeat: no-repeat;\n",
       "  background-position: center center;\n",
       "}\n",
       "\n",
       "/* Parallel-specific style estimator block */\n",
       "\n",
       "#sk-container-id-1 div.sk-parallel-item::after {\n",
       "  content: \"\";\n",
       "  width: 100%;\n",
       "  border-bottom: 2px solid var(--sklearn-color-text-on-default-background);\n",
       "  flex-grow: 1;\n",
       "}\n",
       "\n",
       "#sk-container-id-1 div.sk-parallel {\n",
       "  display: flex;\n",
       "  align-items: stretch;\n",
       "  justify-content: center;\n",
       "  background-color: var(--sklearn-color-background);\n",
       "  position: relative;\n",
       "}\n",
       "\n",
       "#sk-container-id-1 div.sk-parallel-item {\n",
       "  display: flex;\n",
       "  flex-direction: column;\n",
       "}\n",
       "\n",
       "#sk-container-id-1 div.sk-parallel-item:first-child::after {\n",
       "  align-self: flex-end;\n",
       "  width: 50%;\n",
       "}\n",
       "\n",
       "#sk-container-id-1 div.sk-parallel-item:last-child::after {\n",
       "  align-self: flex-start;\n",
       "  width: 50%;\n",
       "}\n",
       "\n",
       "#sk-container-id-1 div.sk-parallel-item:only-child::after {\n",
       "  width: 0;\n",
       "}\n",
       "\n",
       "/* Serial-specific style estimator block */\n",
       "\n",
       "#sk-container-id-1 div.sk-serial {\n",
       "  display: flex;\n",
       "  flex-direction: column;\n",
       "  align-items: center;\n",
       "  background-color: var(--sklearn-color-background);\n",
       "  padding-right: 1em;\n",
       "  padding-left: 1em;\n",
       "}\n",
       "\n",
       "\n",
       "/* Toggleable style: style used for estimator/Pipeline/ColumnTransformer box that is\n",
       "clickable and can be expanded/collapsed.\n",
       "- Pipeline and ColumnTransformer use this feature and define the default style\n",
       "- Estimators will overwrite some part of the style using the `sk-estimator` class\n",
       "*/\n",
       "\n",
       "/* Pipeline and ColumnTransformer style (default) */\n",
       "\n",
       "#sk-container-id-1 div.sk-toggleable {\n",
       "  /* Default theme specific background. It is overwritten whether we have a\n",
       "  specific estimator or a Pipeline/ColumnTransformer */\n",
       "  background-color: var(--sklearn-color-background);\n",
       "}\n",
       "\n",
       "/* Toggleable label */\n",
       "#sk-container-id-1 label.sk-toggleable__label {\n",
       "  cursor: pointer;\n",
       "  display: block;\n",
       "  width: 100%;\n",
       "  margin-bottom: 0;\n",
       "  padding: 0.5em;\n",
       "  box-sizing: border-box;\n",
       "  text-align: center;\n",
       "}\n",
       "\n",
       "#sk-container-id-1 label.sk-toggleable__label-arrow:before {\n",
       "  /* Arrow on the left of the label */\n",
       "  content: \"▸\";\n",
       "  float: left;\n",
       "  margin-right: 0.25em;\n",
       "  color: var(--sklearn-color-icon);\n",
       "}\n",
       "\n",
       "#sk-container-id-1 label.sk-toggleable__label-arrow:hover:before {\n",
       "  color: var(--sklearn-color-text);\n",
       "}\n",
       "\n",
       "/* Toggleable content - dropdown */\n",
       "\n",
       "#sk-container-id-1 div.sk-toggleable__content {\n",
       "  max-height: 0;\n",
       "  max-width: 0;\n",
       "  overflow: hidden;\n",
       "  text-align: left;\n",
       "  /* unfitted */\n",
       "  background-color: var(--sklearn-color-unfitted-level-0);\n",
       "}\n",
       "\n",
       "#sk-container-id-1 div.sk-toggleable__content.fitted {\n",
       "  /* fitted */\n",
       "  background-color: var(--sklearn-color-fitted-level-0);\n",
       "}\n",
       "\n",
       "#sk-container-id-1 div.sk-toggleable__content pre {\n",
       "  margin: 0.2em;\n",
       "  border-radius: 0.25em;\n",
       "  color: var(--sklearn-color-text);\n",
       "  /* unfitted */\n",
       "  background-color: var(--sklearn-color-unfitted-level-0);\n",
       "}\n",
       "\n",
       "#sk-container-id-1 div.sk-toggleable__content.fitted pre {\n",
       "  /* unfitted */\n",
       "  background-color: var(--sklearn-color-fitted-level-0);\n",
       "}\n",
       "\n",
       "#sk-container-id-1 input.sk-toggleable__control:checked~div.sk-toggleable__content {\n",
       "  /* Expand drop-down */\n",
       "  max-height: 200px;\n",
       "  max-width: 100%;\n",
       "  overflow: auto;\n",
       "}\n",
       "\n",
       "#sk-container-id-1 input.sk-toggleable__control:checked~label.sk-toggleable__label-arrow:before {\n",
       "  content: \"▾\";\n",
       "}\n",
       "\n",
       "/* Pipeline/ColumnTransformer-specific style */\n",
       "\n",
       "#sk-container-id-1 div.sk-label input.sk-toggleable__control:checked~label.sk-toggleable__label {\n",
       "  color: var(--sklearn-color-text);\n",
       "  background-color: var(--sklearn-color-unfitted-level-2);\n",
       "}\n",
       "\n",
       "#sk-container-id-1 div.sk-label.fitted input.sk-toggleable__control:checked~label.sk-toggleable__label {\n",
       "  background-color: var(--sklearn-color-fitted-level-2);\n",
       "}\n",
       "\n",
       "/* Estimator-specific style */\n",
       "\n",
       "/* Colorize estimator box */\n",
       "#sk-container-id-1 div.sk-estimator input.sk-toggleable__control:checked~label.sk-toggleable__label {\n",
       "  /* unfitted */\n",
       "  background-color: var(--sklearn-color-unfitted-level-2);\n",
       "}\n",
       "\n",
       "#sk-container-id-1 div.sk-estimator.fitted input.sk-toggleable__control:checked~label.sk-toggleable__label {\n",
       "  /* fitted */\n",
       "  background-color: var(--sklearn-color-fitted-level-2);\n",
       "}\n",
       "\n",
       "#sk-container-id-1 div.sk-label label.sk-toggleable__label,\n",
       "#sk-container-id-1 div.sk-label label {\n",
       "  /* The background is the default theme color */\n",
       "  color: var(--sklearn-color-text-on-default-background);\n",
       "}\n",
       "\n",
       "/* On hover, darken the color of the background */\n",
       "#sk-container-id-1 div.sk-label:hover label.sk-toggleable__label {\n",
       "  color: var(--sklearn-color-text);\n",
       "  background-color: var(--sklearn-color-unfitted-level-2);\n",
       "}\n",
       "\n",
       "/* Label box, darken color on hover, fitted */\n",
       "#sk-container-id-1 div.sk-label.fitted:hover label.sk-toggleable__label.fitted {\n",
       "  color: var(--sklearn-color-text);\n",
       "  background-color: var(--sklearn-color-fitted-level-2);\n",
       "}\n",
       "\n",
       "/* Estimator label */\n",
       "\n",
       "#sk-container-id-1 div.sk-label label {\n",
       "  font-family: monospace;\n",
       "  font-weight: bold;\n",
       "  display: inline-block;\n",
       "  line-height: 1.2em;\n",
       "}\n",
       "\n",
       "#sk-container-id-1 div.sk-label-container {\n",
       "  text-align: center;\n",
       "}\n",
       "\n",
       "/* Estimator-specific */\n",
       "#sk-container-id-1 div.sk-estimator {\n",
       "  font-family: monospace;\n",
       "  border: 1px dotted var(--sklearn-color-border-box);\n",
       "  border-radius: 0.25em;\n",
       "  box-sizing: border-box;\n",
       "  margin-bottom: 0.5em;\n",
       "  /* unfitted */\n",
       "  background-color: var(--sklearn-color-unfitted-level-0);\n",
       "}\n",
       "\n",
       "#sk-container-id-1 div.sk-estimator.fitted {\n",
       "  /* fitted */\n",
       "  background-color: var(--sklearn-color-fitted-level-0);\n",
       "}\n",
       "\n",
       "/* on hover */\n",
       "#sk-container-id-1 div.sk-estimator:hover {\n",
       "  /* unfitted */\n",
       "  background-color: var(--sklearn-color-unfitted-level-2);\n",
       "}\n",
       "\n",
       "#sk-container-id-1 div.sk-estimator.fitted:hover {\n",
       "  /* fitted */\n",
       "  background-color: var(--sklearn-color-fitted-level-2);\n",
       "}\n",
       "\n",
       "/* Specification for estimator info (e.g. \"i\" and \"?\") */\n",
       "\n",
       "/* Common style for \"i\" and \"?\" */\n",
       "\n",
       ".sk-estimator-doc-link,\n",
       "a:link.sk-estimator-doc-link,\n",
       "a:visited.sk-estimator-doc-link {\n",
       "  float: right;\n",
       "  font-size: smaller;\n",
       "  line-height: 1em;\n",
       "  font-family: monospace;\n",
       "  background-color: var(--sklearn-color-background);\n",
       "  border-radius: 1em;\n",
       "  height: 1em;\n",
       "  width: 1em;\n",
       "  text-decoration: none !important;\n",
       "  margin-left: 1ex;\n",
       "  /* unfitted */\n",
       "  border: var(--sklearn-color-unfitted-level-1) 1pt solid;\n",
       "  color: var(--sklearn-color-unfitted-level-1);\n",
       "}\n",
       "\n",
       ".sk-estimator-doc-link.fitted,\n",
       "a:link.sk-estimator-doc-link.fitted,\n",
       "a:visited.sk-estimator-doc-link.fitted {\n",
       "  /* fitted */\n",
       "  border: var(--sklearn-color-fitted-level-1) 1pt solid;\n",
       "  color: var(--sklearn-color-fitted-level-1);\n",
       "}\n",
       "\n",
       "/* On hover */\n",
       "div.sk-estimator:hover .sk-estimator-doc-link:hover,\n",
       ".sk-estimator-doc-link:hover,\n",
       "div.sk-label-container:hover .sk-estimator-doc-link:hover,\n",
       ".sk-estimator-doc-link:hover {\n",
       "  /* unfitted */\n",
       "  background-color: var(--sklearn-color-unfitted-level-3);\n",
       "  color: var(--sklearn-color-background);\n",
       "  text-decoration: none;\n",
       "}\n",
       "\n",
       "div.sk-estimator.fitted:hover .sk-estimator-doc-link.fitted:hover,\n",
       ".sk-estimator-doc-link.fitted:hover,\n",
       "div.sk-label-container:hover .sk-estimator-doc-link.fitted:hover,\n",
       ".sk-estimator-doc-link.fitted:hover {\n",
       "  /* fitted */\n",
       "  background-color: var(--sklearn-color-fitted-level-3);\n",
       "  color: var(--sklearn-color-background);\n",
       "  text-decoration: none;\n",
       "}\n",
       "\n",
       "/* Span, style for the box shown on hovering the info icon */\n",
       ".sk-estimator-doc-link span {\n",
       "  display: none;\n",
       "  z-index: 9999;\n",
       "  position: relative;\n",
       "  font-weight: normal;\n",
       "  right: .2ex;\n",
       "  padding: .5ex;\n",
       "  margin: .5ex;\n",
       "  width: min-content;\n",
       "  min-width: 20ex;\n",
       "  max-width: 50ex;\n",
       "  color: var(--sklearn-color-text);\n",
       "  box-shadow: 2pt 2pt 4pt #999;\n",
       "  /* unfitted */\n",
       "  background: var(--sklearn-color-unfitted-level-0);\n",
       "  border: .5pt solid var(--sklearn-color-unfitted-level-3);\n",
       "}\n",
       "\n",
       ".sk-estimator-doc-link.fitted span {\n",
       "  /* fitted */\n",
       "  background: var(--sklearn-color-fitted-level-0);\n",
       "  border: var(--sklearn-color-fitted-level-3);\n",
       "}\n",
       "\n",
       ".sk-estimator-doc-link:hover span {\n",
       "  display: block;\n",
       "}\n",
       "\n",
       "/* \"?\"-specific style due to the `<a>` HTML tag */\n",
       "\n",
       "#sk-container-id-1 a.estimator_doc_link {\n",
       "  float: right;\n",
       "  font-size: 1rem;\n",
       "  line-height: 1em;\n",
       "  font-family: monospace;\n",
       "  background-color: var(--sklearn-color-background);\n",
       "  border-radius: 1rem;\n",
       "  height: 1rem;\n",
       "  width: 1rem;\n",
       "  text-decoration: none;\n",
       "  /* unfitted */\n",
       "  color: var(--sklearn-color-unfitted-level-1);\n",
       "  border: var(--sklearn-color-unfitted-level-1) 1pt solid;\n",
       "}\n",
       "\n",
       "#sk-container-id-1 a.estimator_doc_link.fitted {\n",
       "  /* fitted */\n",
       "  border: var(--sklearn-color-fitted-level-1) 1pt solid;\n",
       "  color: var(--sklearn-color-fitted-level-1);\n",
       "}\n",
       "\n",
       "/* On hover */\n",
       "#sk-container-id-1 a.estimator_doc_link:hover {\n",
       "  /* unfitted */\n",
       "  background-color: var(--sklearn-color-unfitted-level-3);\n",
       "  color: var(--sklearn-color-background);\n",
       "  text-decoration: none;\n",
       "}\n",
       "\n",
       "#sk-container-id-1 a.estimator_doc_link.fitted:hover {\n",
       "  /* fitted */\n",
       "  background-color: var(--sklearn-color-fitted-level-3);\n",
       "}\n",
       "</style><div id=\"sk-container-id-1\" class=\"sk-top-container\"><div class=\"sk-text-repr-fallback\"><pre>XGBClassifier(base_score=None, booster=None, callbacks=None,\n",
       "              colsample_bylevel=None, colsample_bynode=0.515903282561015,\n",
       "              colsample_bytree=None, device=None, early_stopping_rounds=None,\n",
       "              enable_categorical=False,\n",
       "              eval_metric=&lt;function custom_f1_score at 0x7fe904ac0540&gt;,\n",
       "              feature_types=None, gamma=None, grow_policy=None,\n",
       "              importance_type=None, interaction_constraints=None,\n",
       "              learning_rate=0.009410915946792322, max_bin=None,\n",
       "              max_cat_threshold=None, max_cat_to_onehot=None,\n",
       "              max_delta_step=None, max_depth=11, max_leaves=None,\n",
       "              min_child_weight=4, missing=nan, monotone_constraints=None,\n",
       "              multi_strategy=None, n_estimators=8, n_jobs=None,\n",
       "              num_parallel_tree=None, objective=&#x27;multi:softprob&#x27;, ...)</pre><b>In a Jupyter environment, please rerun this cell to show the HTML representation or trust the notebook. <br />On GitHub, the HTML representation is unable to render, please try loading this page with nbviewer.org.</b></div><div class=\"sk-container\" hidden><div class=\"sk-item\"><div class=\"sk-estimator fitted sk-toggleable\"><input class=\"sk-toggleable__control sk-hidden--visually\" id=\"sk-estimator-id-1\" type=\"checkbox\" checked><label for=\"sk-estimator-id-1\" class=\"sk-toggleable__label fitted sk-toggleable__label-arrow fitted\">&nbsp;XGBClassifier<span class=\"sk-estimator-doc-link fitted\">i<span>Fitted</span></span></label><div class=\"sk-toggleable__content fitted\"><pre>XGBClassifier(base_score=None, booster=None, callbacks=None,\n",
       "              colsample_bylevel=None, colsample_bynode=0.515903282561015,\n",
       "              colsample_bytree=None, device=None, early_stopping_rounds=None,\n",
       "              enable_categorical=False,\n",
       "              eval_metric=&lt;function custom_f1_score at 0x7fe904ac0540&gt;,\n",
       "              feature_types=None, gamma=None, grow_policy=None,\n",
       "              importance_type=None, interaction_constraints=None,\n",
       "              learning_rate=0.009410915946792322, max_bin=None,\n",
       "              max_cat_threshold=None, max_cat_to_onehot=None,\n",
       "              max_delta_step=None, max_depth=11, max_leaves=None,\n",
       "              min_child_weight=4, missing=nan, monotone_constraints=None,\n",
       "              multi_strategy=None, n_estimators=8, n_jobs=None,\n",
       "              num_parallel_tree=None, objective=&#x27;multi:softprob&#x27;, ...)</pre></div> </div></div></div></div>"
      ],
      "text/plain": [
       "XGBClassifier(base_score=None, booster=None, callbacks=None,\n",
       "              colsample_bylevel=None, colsample_bynode=0.515903282561015,\n",
       "              colsample_bytree=None, device=None, early_stopping_rounds=None,\n",
       "              enable_categorical=False,\n",
       "              eval_metric=<function custom_f1_score at 0x7fe904ac0540>,\n",
       "              feature_types=None, gamma=None, grow_policy=None,\n",
       "              importance_type=None, interaction_constraints=None,\n",
       "              learning_rate=0.009410915946792322, max_bin=None,\n",
       "              max_cat_threshold=None, max_cat_to_onehot=None,\n",
       "              max_delta_step=None, max_depth=11, max_leaves=None,\n",
       "              min_child_weight=4, missing=nan, monotone_constraints=None,\n",
       "              multi_strategy=None, n_estimators=8, n_jobs=None,\n",
       "              num_parallel_tree=None, objective='multi:softprob', ...)"
      ]
     },
     "execution_count": 21,
     "metadata": {},
     "output_type": "execute_result"
    }
   ],
   "source": [
    "n_estimators = int(study.best_trial.user_attrs['best_iteration']*1.2)\n",
    "xgb = xgboost.XGBClassifier(\n",
    "        eval_metric=eval_metric,\n",
    "        n_estimators=n_estimators,\n",
    "        **study.best_trial.params\n",
    "    )\n",
    "xgb.fit(\n",
    "    ssp.vstack((X_train, X_val)), \n",
    "    np.concatenate((y_train_enc, y_val_enc)),\n",
    "    verbose=1,\n",
    ")"
   ]
  },
  {
   "cell_type": "code",
   "execution_count": 22,
   "id": "0bba0ea0",
   "metadata": {
    "execution": {
     "iopub.execute_input": "2025-05-15T16:16:04.930090Z",
     "iopub.status.busy": "2025-05-15T16:16:04.929891Z",
     "iopub.status.idle": "2025-05-15T16:16:05.457926Z",
     "shell.execute_reply": "2025-05-15T16:16:05.457632Z"
    },
    "papermill": {
     "duration": 0.735723,
     "end_time": "2025-05-15T16:16:05.458786",
     "exception": false,
     "start_time": "2025-05-15T16:16:04.723063",
     "status": "completed"
    },
    "tags": []
   },
   "outputs": [
    {
     "data": {
      "text/plain": [
       "['/scratch_isilon/groups/singlecell/shared/projects/Inflammation-PBMCs-Atlas/03_downstream_analysis/08_gene_importance/xgboost_external_validation/xgboost_TopN_genes/results_20/best_model/Plasma_7_1_xgb.json']"
      ]
     },
     "execution_count": 22,
     "metadata": {},
     "output_type": "execute_result"
    }
   ],
   "source": [
    "out_dir = here(f'03_downstream_analysis/08_gene_importance/xgboost_external_validation/xgboost_TopN_genes/results_{N_GENES}/best_model')\n",
    "\n",
    "if not os.path.exists(out_dir):\n",
    "    os.makedirs(out_dir)\n",
    "    \n",
    "joblib.dump(xgb, os.path.join(out_dir, f'{CELL_TYPE}_{SEED}_{TEST_SPLIT_IDX}_xgb.json'))"
   ]
  },
  {
   "cell_type": "code",
   "execution_count": 23,
   "id": "d289967d",
   "metadata": {
    "execution": {
     "iopub.execute_input": "2025-05-15T16:16:05.738289Z",
     "iopub.status.busy": "2025-05-15T16:16:05.738023Z",
     "iopub.status.idle": "2025-05-15T16:16:05.766713Z",
     "shell.execute_reply": "2025-05-15T16:16:05.766419Z"
    },
    "papermill": {
     "duration": 0.160878,
     "end_time": "2025-05-15T16:16:05.767521",
     "exception": false,
     "start_time": "2025-05-15T16:16:05.606643",
     "status": "completed"
    },
    "tags": []
   },
   "outputs": [],
   "source": [
    "df_pred_test = pd.DataFrame(dict(\n",
    "    cell_id=train_adata.obs.iloc[test_idxs].index.values,\n",
    "    y_true=y_test, \n",
    "    y_true_code=y_test_enc, \n",
    "    y_pred=xgb.predict(X_test))).set_index('cell_id')"
   ]
  },
  {
   "cell_type": "code",
   "execution_count": 24,
   "id": "7dc038c9",
   "metadata": {
    "execution": {
     "iopub.execute_input": "2025-05-15T16:16:06.247677Z",
     "iopub.status.busy": "2025-05-15T16:16:06.247369Z",
     "iopub.status.idle": "2025-05-15T16:16:07.044632Z",
     "shell.execute_reply": "2025-05-15T16:16:07.044278Z"
    },
    "papermill": {
     "duration": 0.989654,
     "end_time": "2025-05-15T16:16:07.045465",
     "exception": false,
     "start_time": "2025-05-15T16:16:06.055811",
     "status": "completed"
    },
    "tags": []
   },
   "outputs": [],
   "source": [
    "out_dir = here(f'03_downstream_analysis/08_gene_importance/xgboost_external_validation/xgboost_TopN_genes/results_{N_GENES}/predictions')\n",
    "\n",
    "if not os.path.exists(out_dir):\n",
    "    os.makedirs(out_dir)\n",
    "    \n",
    "df_pred_test.to_csv(os.path.join(out_dir, f'{CELL_TYPE}_{SEED}_{TEST_SPLIT_IDX}_pred_test.zip'))"
   ]
  },
  {
   "cell_type": "code",
   "execution_count": 25,
   "id": "ebc8c584",
   "metadata": {
    "execution": {
     "iopub.execute_input": "2025-05-15T16:16:07.417334Z",
     "iopub.status.busy": "2025-05-15T16:16:07.417057Z",
     "iopub.status.idle": "2025-05-15T16:16:07.422117Z",
     "shell.execute_reply": "2025-05-15T16:16:07.421824Z"
    },
    "papermill": {
     "duration": 0.167199,
     "end_time": "2025-05-15T16:16:07.422902",
     "exception": false,
     "start_time": "2025-05-15T16:16:07.255703",
     "status": "completed"
    },
    "tags": []
   },
   "outputs": [],
   "source": [
    "metrics_dict = dict(\n",
    "    BAS=balanced_accuracy_score(y_true=df_pred_test.y_true_code, y_pred=df_pred_test.y_pred), WF1=f1_score(y_true=df_pred_test.y_true_code, y_pred=df_pred_test.y_pred,average='weighted'))"
   ]
  },
  {
   "cell_type": "code",
   "execution_count": 26,
   "id": "0e85c9e4",
   "metadata": {
    "execution": {
     "iopub.execute_input": "2025-05-15T16:16:07.829385Z",
     "iopub.status.busy": "2025-05-15T16:16:07.829200Z",
     "iopub.status.idle": "2025-05-15T16:16:07.831764Z",
     "shell.execute_reply": "2025-05-15T16:16:07.831468Z"
    },
    "papermill": {
     "duration": 0.131636,
     "end_time": "2025-05-15T16:16:07.832581",
     "exception": false,
     "start_time": "2025-05-15T16:16:07.700945",
     "status": "completed"
    },
    "tags": []
   },
   "outputs": [
    {
     "data": {
      "text/plain": [
       "{'BAS': 0.2695192879016408, 'WF1': 0.42305461931630156}"
      ]
     },
     "execution_count": 26,
     "metadata": {},
     "output_type": "execute_result"
    }
   ],
   "source": [
    "metrics_dict"
   ]
  },
  {
   "cell_type": "code",
   "execution_count": 27,
   "id": "ef93cf03",
   "metadata": {
    "execution": {
     "iopub.execute_input": "2025-05-15T16:16:08.176219Z",
     "iopub.status.busy": "2025-05-15T16:16:08.176058Z",
     "iopub.status.idle": "2025-05-15T16:16:08.364319Z",
     "shell.execute_reply": "2025-05-15T16:16:08.364009Z"
    },
    "papermill": {
     "duration": 0.376284,
     "end_time": "2025-05-15T16:16:08.365105",
     "exception": false,
     "start_time": "2025-05-15T16:16:07.988821",
     "status": "completed"
    },
    "tags": []
   },
   "outputs": [
    {
     "data": {
      "text/html": [
       "<div>\n",
       "<style scoped>\n",
       "    .dataframe tbody tr th:only-of-type {\n",
       "        vertical-align: middle;\n",
       "    }\n",
       "\n",
       "    .dataframe tbody tr th {\n",
       "        vertical-align: top;\n",
       "    }\n",
       "\n",
       "    .dataframe thead th {\n",
       "        text-align: right;\n",
       "    }\n",
       "</style>\n",
       "<table border=\"1\" class=\"dataframe\">\n",
       "  <thead>\n",
       "    <tr style=\"text-align: right;\">\n",
       "      <th></th>\n",
       "      <th>BAS</th>\n",
       "      <th>WF1</th>\n",
       "      <th>split_idx</th>\n",
       "      <th>gene_set_seed</th>\n",
       "      <th>cell_type</th>\n",
       "    </tr>\n",
       "  </thead>\n",
       "  <tbody>\n",
       "    <tr>\n",
       "      <th>0</th>\n",
       "      <td>0.269519</td>\n",
       "      <td>0.423055</td>\n",
       "      <td>1</td>\n",
       "      <td>7</td>\n",
       "      <td>Plasma</td>\n",
       "    </tr>\n",
       "  </tbody>\n",
       "</table>\n",
       "</div>"
      ],
      "text/plain": [
       "        BAS       WF1  split_idx  gene_set_seed cell_type\n",
       "0  0.269519  0.423055          1              7    Plasma"
      ]
     },
     "execution_count": 27,
     "metadata": {},
     "output_type": "execute_result"
    }
   ],
   "source": [
    "metrics_df = pd.DataFrame.from_dict([metrics_dict]).assign(split_idx=TEST_SPLIT_IDX, gene_set_seed=SEED, cell_type=CELL_TYPE)\n",
    "metrics_df"
   ]
  },
  {
   "cell_type": "code",
   "execution_count": 28,
   "id": "df42f5fe",
   "metadata": {
    "execution": {
     "iopub.execute_input": "2025-05-15T16:16:08.891955Z",
     "iopub.status.busy": "2025-05-15T16:16:08.891623Z",
     "iopub.status.idle": "2025-05-15T16:16:09.383426Z",
     "shell.execute_reply": "2025-05-15T16:16:09.383129Z"
    },
    "papermill": {
     "duration": 0.796806,
     "end_time": "2025-05-15T16:16:09.384219",
     "exception": false,
     "start_time": "2025-05-15T16:16:08.587413",
     "status": "completed"
    },
    "tags": []
   },
   "outputs": [],
   "source": [
    "out_dir = here(f'03_downstream_analysis/08_gene_importance/xgboost_external_validation/xgboost_TopN_genes/results_{N_GENES}/metrics')\n",
    "\n",
    "if not os.path.exists(out_dir):\n",
    "    os.makedirs(out_dir)\n",
    "    \n",
    "metrics_df.to_csv(os.path.join(out_dir, f'{CELL_TYPE}_{SEED}_{TEST_SPLIT_IDX}_metrics.zip'))"
   ]
  }
 ],
 "metadata": {
  "kernelspec": {
   "display_name": "Python 3 (ipykernel)",
   "language": "python",
   "name": "python3"
  },
  "language_info": {
   "codemirror_mode": {
    "name": "ipython",
    "version": 3
   },
   "file_extension": ".py",
   "mimetype": "text/x-python",
   "name": "python",
   "nbconvert_exporter": "python",
   "pygments_lexer": "ipython3",
   "version": "3.12.5"
  },
  "papermill": {
   "default_parameters": {},
   "duration": 39.47653,
   "end_time": "2025-05-15T16:16:10.179877",
   "environment_variables": {},
   "exception": null,
   "input_path": "02_xgboost_fitting_external_20genes.ipynb",
   "output_path": "results_20/executed_notebooks/xgboost_fitting_external_CT_Plasma_GS_7_seed1.ipynb",
   "parameters": {
    "CELL_TYPE": "Plasma",
    "SEED": 7,
    "TEST_SPLIT_IDX": 1
   },
   "start_time": "2025-05-15T16:15:30.703347",
   "version": "2.6.0"
  }
 },
 "nbformat": 4,
 "nbformat_minor": 5
}