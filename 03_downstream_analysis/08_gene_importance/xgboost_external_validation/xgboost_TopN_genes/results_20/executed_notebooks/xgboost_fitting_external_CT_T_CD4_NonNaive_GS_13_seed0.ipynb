{
 "cells": [
  {
   "cell_type": "code",
   "execution_count": 1,
   "id": "fdefc043",
   "metadata": {
    "editable": true,
    "execution": {
     "iopub.execute_input": "2025-05-15T16:03:04.911021Z",
     "iopub.status.busy": "2025-05-15T16:03:04.910813Z",
     "iopub.status.idle": "2025-05-15T16:03:04.913872Z",
     "shell.execute_reply": "2025-05-15T16:03:04.913530Z"
    },
    "papermill": {
     "duration": 0.011358,
     "end_time": "2025-05-15T16:03:04.914815",
     "exception": false,
     "start_time": "2025-05-15T16:03:04.903457",
     "status": "completed"
    },
    "slideshow": {
     "slide_type": ""
    },
    "tags": [
     "parameters"
    ]
   },
   "outputs": [],
   "source": [
    "CELL_TYPE = 'pDC'\n",
    "N_GENES: int = 20\n",
    "SEED = 'shap_studyID' #'disease_NOstudy' 'study_NOdisease' or 'int' or 'shap_studyID'\n",
    "TEST_SPLIT_IDX: int = 1 #[0,4]"
   ]
  },
  {
   "cell_type": "code",
   "execution_count": 2,
   "id": "edb05c30",
   "metadata": {
    "execution": {
     "iopub.execute_input": "2025-05-15T16:03:04.926950Z",
     "iopub.status.busy": "2025-05-15T16:03:04.926752Z",
     "iopub.status.idle": "2025-05-15T16:03:04.929119Z",
     "shell.execute_reply": "2025-05-15T16:03:04.928789Z"
    },
    "papermill": {
     "duration": 0.009387,
     "end_time": "2025-05-15T16:03:04.929970",
     "exception": false,
     "start_time": "2025-05-15T16:03:04.920583",
     "status": "completed"
    },
    "tags": [
     "injected-parameters"
    ]
   },
   "outputs": [],
   "source": [
    "# Parameters\n",
    "CELL_TYPE = \"T_CD4_NonNaive\"\n",
    "SEED = 13\n",
    "TEST_SPLIT_IDX = 0\n"
   ]
  },
  {
   "cell_type": "code",
   "execution_count": 3,
   "id": "adc98df9",
   "metadata": {
    "execution": {
     "iopub.execute_input": "2025-05-15T16:03:04.941586Z",
     "iopub.status.busy": "2025-05-15T16:03:04.941400Z",
     "iopub.status.idle": "2025-05-15T16:03:04.943716Z",
     "shell.execute_reply": "2025-05-15T16:03:04.943369Z"
    },
    "papermill": {
     "duration": 0.009251,
     "end_time": "2025-05-15T16:03:04.944596",
     "exception": false,
     "start_time": "2025-05-15T16:03:04.935345",
     "status": "completed"
    },
    "tags": []
   },
   "outputs": [],
   "source": [
    "N_SPLITS: int = 5\n",
    "N_TRIALS: int = 50"
   ]
  },
  {
   "cell_type": "code",
   "execution_count": 4,
   "id": "15ae505c",
   "metadata": {
    "execution": {
     "iopub.execute_input": "2025-05-15T16:03:04.957142Z",
     "iopub.status.busy": "2025-05-15T16:03:04.956949Z",
     "iopub.status.idle": "2025-05-15T16:03:06.409272Z",
     "shell.execute_reply": "2025-05-15T16:03:06.408673Z"
    },
    "papermill": {
     "duration": 1.460433,
     "end_time": "2025-05-15T16:03:06.410633",
     "exception": false,
     "start_time": "2025-05-15T16:03:04.950200",
     "status": "completed"
    },
    "tags": []
   },
   "outputs": [],
   "source": [
    "import os\n",
    "import sys\n",
    "from pyprojroot.here import here\n",
    "import pandas as pd\n",
    "import anndata as ad\n",
    "import numpy as np\n",
    "import math\n",
    "from sklearn.model_selection import StratifiedGroupKFold\n",
    "from sklearn.preprocessing import LabelEncoder\n",
    "from sklearn.metrics import f1_score\n",
    "import matplotlib.pyplot as plt\n",
    "import seaborn as sns\n",
    "from itertools import product\n",
    "from sklearn.metrics import balanced_accuracy_score, f1_score\n",
    "import optuna\n",
    "\n",
    "import joblib\n",
    "import pickle\n",
    "import datetime\n",
    "\n",
    "import collections\n",
    "\n",
    "import xgboost\n",
    "from sklearn.preprocessing import LabelEncoder\n",
    "\n",
    "import scipy.sparse as ssp\n",
    "import joblib\n",
    "\n",
    "from dotenv import load_dotenv"
   ]
  },
  {
   "cell_type": "code",
   "execution_count": 5,
   "id": "3b046f24",
   "metadata": {
    "execution": {
     "iopub.execute_input": "2025-05-15T16:03:06.423613Z",
     "iopub.status.busy": "2025-05-15T16:03:06.423185Z",
     "iopub.status.idle": "2025-05-15T16:03:06.429694Z",
     "shell.execute_reply": "2025-05-15T16:03:06.429361Z"
    },
    "papermill": {
     "duration": 0.013911,
     "end_time": "2025-05-15T16:03:06.430583",
     "exception": false,
     "start_time": "2025-05-15T16:03:06.416672",
     "status": "completed"
    },
    "tags": []
   },
   "outputs": [
    {
     "data": {
      "text/plain": [
       "True"
      ]
     },
     "execution_count": 5,
     "metadata": {},
     "output_type": "execute_result"
    }
   ],
   "source": [
    "load_dotenv()"
   ]
  },
  {
   "cell_type": "markdown",
   "id": "9752344c",
   "metadata": {
    "papermill": {
     "duration": 0.007111,
     "end_time": "2025-05-15T16:03:06.443431",
     "exception": false,
     "start_time": "2025-05-15T16:03:06.436320",
     "status": "completed"
    },
    "tags": []
   },
   "source": [
    "# LOAD DATASET"
   ]
  },
  {
   "cell_type": "code",
   "execution_count": 6,
   "id": "6d3d7c4a",
   "metadata": {
    "execution": {
     "iopub.execute_input": "2025-05-15T16:03:06.458406Z",
     "iopub.status.busy": "2025-05-15T16:03:06.457921Z",
     "iopub.status.idle": "2025-05-15T16:03:07.216113Z",
     "shell.execute_reply": "2025-05-15T16:03:07.215506Z"
    },
    "papermill": {
     "duration": 0.768476,
     "end_time": "2025-05-15T16:03:07.217578",
     "exception": false,
     "start_time": "2025-05-15T16:03:06.449102",
     "status": "completed"
    },
    "tags": []
   },
   "outputs": [],
   "source": [
    "train_adata = ad.read_h5ad(\n",
    "    here(f'03_downstream_analysis/08_gene_importance/xgboost_external_validation/xgboost_TopN_genes/data_cellTypes/EXTERNAL_{CELL_TYPE}.filtered.log1p.h5ad')\n",
    ")"
   ]
  },
  {
   "cell_type": "code",
   "execution_count": 7,
   "id": "3768f67d",
   "metadata": {
    "execution": {
     "iopub.execute_input": "2025-05-15T16:03:07.232965Z",
     "iopub.status.busy": "2025-05-15T16:03:07.232785Z",
     "iopub.status.idle": "2025-05-15T16:03:07.267409Z",
     "shell.execute_reply": "2025-05-15T16:03:07.266994Z"
    },
    "papermill": {
     "duration": 0.042865,
     "end_time": "2025-05-15T16:03:07.268454",
     "exception": false,
     "start_time": "2025-05-15T16:03:07.225589",
     "status": "completed"
    },
    "tags": []
   },
   "outputs": [
    {
     "name": "stdout",
     "output_type": "stream",
     "text": [
      "['ENSG00000145649' 'ENSG00000169564' 'ENSG00000153283' 'ENSG00000117318'\n",
      " 'ENSG00000166888' 'ENSG00000131143' 'ENSG00000205542' 'ENSG00000117602'\n",
      " 'ENSG00000092820' 'ENSG00000133872' 'ENSG00000109321' 'ENSG00000069399'\n",
      " 'ENSG00000171791' 'ENSG00000136156' 'ENSG00000163131' 'ENSG00000166681'\n",
      " 'ENSG00000160255' 'ENSG00000104763' 'ENSG00000100097' 'ENSG00000152219'\n",
      " 'ENSG00000104904' 'ENSG00000106367' 'ENSG00000183172' 'ENSG00000114737'\n",
      " 'ENSG00000104856' 'ENSG00000125347' 'ENSG00000229474' 'ENSG00000136997'\n",
      " 'ENSG00000196154' 'ENSG00000108639' 'ENSG00000164483' 'ENSG00000133134'\n",
      " 'ENSG00000130724' 'ENSG00000182866' 'ENSG00000145912' 'ENSG00000117450'\n",
      " 'ENSG00000243678' 'ENSG00000105835' 'ENSG00000051108' 'ENSG00000197061'\n",
      " 'ENSG00000240065' 'ENSG00000143575' 'ENSG00000158517' 'ENSG00000204482'\n",
      " 'ENSG00000188313' 'ENSG00000197956' 'ENSG00000129084' 'ENSG00000120742'\n",
      " 'ENSG00000234745' 'ENSG00000084207' 'ENSG00000089127' 'ENSG00000205220'\n",
      " 'ENSG00000157601' 'ENSG00000118503' 'ENSG00000141506' 'ENSG00000160932'\n",
      " 'ENSG00000139626' 'ENSG00000204264' 'ENSG00000216490' 'ENSG00000135114'\n",
      " 'ENSG00000110848' 'ENSG00000172005' 'ENSG00000163513' 'ENSG00000188404'\n",
      " 'ENSG00000171223' 'ENSG00000100453' 'ENSG00000026103' 'ENSG00000167004'\n",
      " 'ENSG00000134285' 'ENSG00000134107' 'ENSG00000107223' 'ENSG00000002549'\n",
      " 'ENSG00000179295' 'ENSG00000162434' 'ENSG00000204257' 'ENSG00000139193'\n",
      " 'ENSG00000066294' 'ENSG00000160075' 'ENSG00000077238' 'ENSG00000157514'\n",
      " 'ENSG00000179218' 'ENSG00000165272' 'ENSG00000164543' 'ENSG00000185201'\n",
      " 'ENSG00000160710' 'ENSG00000226979' 'ENSG00000132510' 'ENSG00000009790'\n",
      " 'ENSG00000167552' 'ENSG00000197747' 'ENSG00000152495' 'ENSG00000111863'\n",
      " 'ENSG00000197102' 'ENSG00000186827' 'ENSG00000115523' 'ENSG00000198832'\n",
      " 'ENSG00000071073' 'ENSG00000204287' 'ENSG00000170345' 'ENSG00000075624'\n",
      " 'ENSG00000228474' 'ENSG00000085265']\n"
     ]
    }
   ],
   "source": [
    "if SEED != 'all':\n",
    "    gene_subset = np.load(here(f'03_downstream_analysis/08_gene_importance/xgboost_external_validation/shap_gene_selection/gene_subsets_{N_GENES}/{CELL_TYPE}_{SEED}.npy'), allow_pickle=True)\n",
    "    train_adata = train_adata[:,gene_subset]\n",
    "    print(gene_subset)\n",
    "elif SEED == 'all':\n",
    "    print('Using all genes')\n",
    "else:\n",
    "    raise ValueError()"
   ]
  },
  {
   "cell_type": "code",
   "execution_count": 8,
   "id": "f4aa09b2",
   "metadata": {
    "execution": {
     "iopub.execute_input": "2025-05-15T16:03:07.281398Z",
     "iopub.status.busy": "2025-05-15T16:03:07.280907Z",
     "iopub.status.idle": "2025-05-15T16:03:07.284236Z",
     "shell.execute_reply": "2025-05-15T16:03:07.283872Z"
    },
    "papermill": {
     "duration": 0.010679,
     "end_time": "2025-05-15T16:03:07.285095",
     "exception": false,
     "start_time": "2025-05-15T16:03:07.274416",
     "status": "completed"
    },
    "tags": []
   },
   "outputs": [
    {
     "data": {
      "text/plain": [
       "(124886, 102)"
      ]
     },
     "execution_count": 8,
     "metadata": {},
     "output_type": "execute_result"
    }
   ],
   "source": [
    "train_adata.shape"
   ]
  },
  {
   "cell_type": "code",
   "execution_count": 9,
   "id": "29286142",
   "metadata": {
    "execution": {
     "iopub.execute_input": "2025-05-15T16:03:07.297292Z",
     "iopub.status.busy": "2025-05-15T16:03:07.297065Z",
     "iopub.status.idle": "2025-05-15T16:03:07.301222Z",
     "shell.execute_reply": "2025-05-15T16:03:07.300878Z"
    },
    "papermill": {
     "duration": 0.011336,
     "end_time": "2025-05-15T16:03:07.302260",
     "exception": false,
     "start_time": "2025-05-15T16:03:07.290924",
     "status": "completed"
    },
    "tags": []
   },
   "outputs": [
    {
     "data": {
      "text/plain": [
       "['RA', 'healthy', 'COVID', 'HIV', 'cirrhosis', 'CD', 'SLE', 'sepsis']\n",
       "Categories (8, object): ['CD', 'COVID', 'HIV', 'RA', 'SLE', 'cirrhosis', 'healthy', 'sepsis']"
      ]
     },
     "execution_count": 9,
     "metadata": {},
     "output_type": "execute_result"
    }
   ],
   "source": [
    "train_adata.obs.disease.unique()"
   ]
  },
  {
   "cell_type": "code",
   "execution_count": 10,
   "id": "7d78afe6",
   "metadata": {
    "execution": {
     "iopub.execute_input": "2025-05-15T16:03:07.315094Z",
     "iopub.status.busy": "2025-05-15T16:03:07.314560Z",
     "iopub.status.idle": "2025-05-15T16:03:07.318866Z",
     "shell.execute_reply": "2025-05-15T16:03:07.318538Z"
    },
    "papermill": {
     "duration": 0.011748,
     "end_time": "2025-05-15T16:03:07.319829",
     "exception": false,
     "start_time": "2025-05-15T16:03:07.308081",
     "status": "completed"
    },
    "tags": []
   },
   "outputs": [
    {
     "data": {
      "text/plain": [
       "['SCGT00val_I036016_T0', 'SCGT00val_I036023_T0', 'SCGT00val_I036015_T0', 'SCGT00val_I036028_T0', 'SCGT00val_I0364_T0', ..., '10XGenomics_10XHC2_T0', '10XGenomics_10XHC3_T0', '10XGenomics_10XHC5_T0', '10XGenomics_10XHC7_T0', '10XGenomics_10XHC8_T0']\n",
       "Length: 86\n",
       "Categories (86, object): ['10XGenomics_10XHC1_T0', '10XGenomics_10XHC2_T0', '10XGenomics_10XHC3_T0', '10XGenomics_10XHC4_T0', ..., 'Savage2021_BRISL6_T0', 'Savage2021_BRISL7_T0', 'Savage2021_PIDA_T0', 'Savage2021_PIDB_T0']"
      ]
     },
     "execution_count": 10,
     "metadata": {},
     "output_type": "execute_result"
    }
   ],
   "source": [
    "train_adata.obs.sampleID.unique()"
   ]
  },
  {
   "cell_type": "code",
   "execution_count": 11,
   "id": "c39d6aa0",
   "metadata": {
    "execution": {
     "iopub.execute_input": "2025-05-15T16:03:07.359382Z",
     "iopub.status.busy": "2025-05-15T16:03:07.358942Z",
     "iopub.status.idle": "2025-05-15T16:03:07.696465Z",
     "shell.execute_reply": "2025-05-15T16:03:07.695932Z"
    },
    "papermill": {
     "duration": 0.371627,
     "end_time": "2025-05-15T16:03:07.697736",
     "exception": false,
     "start_time": "2025-05-15T16:03:07.326109",
     "status": "completed"
    },
    "tags": []
   },
   "outputs": [],
   "source": [
    "all_idxs = np.arange(train_adata.obs.shape[0])\n",
    "left_out_splits = [s[1] for s in StratifiedGroupKFold(n_splits=N_SPLITS).split(all_idxs, train_adata.obs.disease, train_adata.obs.sampleID)]"
   ]
  },
  {
   "cell_type": "code",
   "execution_count": 12,
   "id": "da4118ac",
   "metadata": {
    "execution": {
     "iopub.execute_input": "2025-05-15T16:03:07.712908Z",
     "iopub.status.busy": "2025-05-15T16:03:07.712701Z",
     "iopub.status.idle": "2025-05-15T16:03:07.716522Z",
     "shell.execute_reply": "2025-05-15T16:03:07.716145Z"
    },
    "papermill": {
     "duration": 0.011784,
     "end_time": "2025-05-15T16:03:07.717508",
     "exception": false,
     "start_time": "2025-05-15T16:03:07.705724",
     "status": "completed"
    },
    "tags": []
   },
   "outputs": [
    {
     "data": {
      "text/plain": [
       "([2, 3, 4], 1, 0)"
      ]
     },
     "execution_count": 12,
     "metadata": {},
     "output_type": "execute_result"
    }
   ],
   "source": [
    "TRAIN_SPLIT_IDXS = [0,1,2,3,4]\n",
    "VAL_SPLIT_IDX = (TEST_SPLIT_IDX + 1) % 5\n",
    "TRAIN_SPLIT_IDXS.remove(TEST_SPLIT_IDX)\n",
    "TRAIN_SPLIT_IDXS.remove(VAL_SPLIT_IDX)\n",
    "TRAIN_SPLIT_IDXS, VAL_SPLIT_IDX, TEST_SPLIT_IDX"
   ]
  },
  {
   "cell_type": "code",
   "execution_count": 13,
   "id": "c5bfc740",
   "metadata": {
    "execution": {
     "iopub.execute_input": "2025-05-15T16:03:07.734275Z",
     "iopub.status.busy": "2025-05-15T16:03:07.733770Z",
     "iopub.status.idle": "2025-05-15T16:03:07.736430Z",
     "shell.execute_reply": "2025-05-15T16:03:07.736075Z"
    },
    "papermill": {
     "duration": 0.011833,
     "end_time": "2025-05-15T16:03:07.737377",
     "exception": false,
     "start_time": "2025-05-15T16:03:07.725544",
     "status": "completed"
    },
    "tags": []
   },
   "outputs": [],
   "source": [
    "train_idxs = np.concatenate([left_out_splits[idx] for idx in TRAIN_SPLIT_IDXS])\n",
    "val_idxs = left_out_splits[VAL_SPLIT_IDX]\n",
    "test_idxs = left_out_splits[TEST_SPLIT_IDX]"
   ]
  },
  {
   "cell_type": "markdown",
   "id": "aa34b1af",
   "metadata": {
    "papermill": {
     "duration": 0.006227,
     "end_time": "2025-05-15T16:03:07.750880",
     "exception": false,
     "start_time": "2025-05-15T16:03:07.744653",
     "status": "completed"
    },
    "tags": []
   },
   "source": [
    "### SUBSET DATASET INTO TRAIN/TEST/VAL SPLITS"
   ]
  },
  {
   "cell_type": "code",
   "execution_count": 14,
   "id": "327ad78e",
   "metadata": {
    "execution": {
     "iopub.execute_input": "2025-05-15T16:03:07.763967Z",
     "iopub.status.busy": "2025-05-15T16:03:07.763771Z",
     "iopub.status.idle": "2025-05-15T16:03:08.052263Z",
     "shell.execute_reply": "2025-05-15T16:03:08.051778Z"
    },
    "papermill": {
     "duration": 0.296469,
     "end_time": "2025-05-15T16:03:08.053480",
     "exception": false,
     "start_time": "2025-05-15T16:03:07.757011",
     "status": "completed"
    },
    "tags": []
   },
   "outputs": [
    {
     "data": {
      "text/plain": [
       "((74333, 102), (24277, 102), (26276, 102))"
      ]
     },
     "execution_count": 14,
     "metadata": {},
     "output_type": "execute_result"
    }
   ],
   "source": [
    "X_train = train_adata.X[train_idxs]\n",
    "X_test = train_adata.X[test_idxs]\n",
    "X_val = train_adata.X[val_idxs]\n",
    "X_train.shape, X_test.shape, X_val.shape"
   ]
  },
  {
   "cell_type": "code",
   "execution_count": 15,
   "id": "9cb97948",
   "metadata": {
    "execution": {
     "iopub.execute_input": "2025-05-15T16:03:08.068525Z",
     "iopub.status.busy": "2025-05-15T16:03:08.068316Z",
     "iopub.status.idle": "2025-05-15T16:03:08.082324Z",
     "shell.execute_reply": "2025-05-15T16:03:08.081832Z"
    },
    "papermill": {
     "duration": 0.022481,
     "end_time": "2025-05-15T16:03:08.083372",
     "exception": false,
     "start_time": "2025-05-15T16:03:08.060891",
     "status": "completed"
    },
    "tags": []
   },
   "outputs": [
    {
     "data": {
      "text/plain": [
       "((74333,), (24277,), (26276,))"
      ]
     },
     "execution_count": 15,
     "metadata": {},
     "output_type": "execute_result"
    }
   ],
   "source": [
    "y_train = train_adata.obs.iloc[train_idxs].disease.values.astype(str)\n",
    "y_test = train_adata.obs.iloc[test_idxs].disease.values.astype(str)\n",
    "y_val = train_adata.obs.iloc[val_idxs].disease.values.astype(str)\n",
    "y_train.shape, y_test.shape, y_val.shape"
   ]
  },
  {
   "cell_type": "code",
   "execution_count": 16,
   "id": "5ec02591",
   "metadata": {
    "execution": {
     "iopub.execute_input": "2025-05-15T16:03:08.097394Z",
     "iopub.status.busy": "2025-05-15T16:03:08.096996Z",
     "iopub.status.idle": "2025-05-15T16:03:08.128115Z",
     "shell.execute_reply": "2025-05-15T16:03:08.127670Z"
    },
    "papermill": {
     "duration": 0.039054,
     "end_time": "2025-05-15T16:03:08.129231",
     "exception": false,
     "start_time": "2025-05-15T16:03:08.090177",
     "status": "completed"
    },
    "tags": []
   },
   "outputs": [],
   "source": [
    "lenc = LabelEncoder()\n",
    "y_train_enc = lenc.fit_transform(y_train)\n",
    "y_val_enc = lenc.transform(y_val)\n",
    "y_test_enc = lenc.transform(y_test)"
   ]
  },
  {
   "cell_type": "markdown",
   "id": "8134c902",
   "metadata": {
    "papermill": {
     "duration": 0.006392,
     "end_time": "2025-05-15T16:03:08.142620",
     "exception": false,
     "start_time": "2025-05-15T16:03:08.136228",
     "status": "completed"
    },
    "tags": []
   },
   "source": [
    "### GENERATE F1 "
   ]
  },
  {
   "cell_type": "code",
   "execution_count": 17,
   "id": "d40d7ba0",
   "metadata": {
    "execution": {
     "iopub.execute_input": "2025-05-15T16:03:08.157049Z",
     "iopub.status.busy": "2025-05-15T16:03:08.156825Z",
     "iopub.status.idle": "2025-05-15T16:03:08.159819Z",
     "shell.execute_reply": "2025-05-15T16:03:08.159470Z"
    },
    "papermill": {
     "duration": 0.011634,
     "end_time": "2025-05-15T16:03:08.160784",
     "exception": false,
     "start_time": "2025-05-15T16:03:08.149150",
     "status": "completed"
    },
    "tags": []
   },
   "outputs": [],
   "source": [
    "def custom_f1_score(y_true, y_pred):\n",
    "    return -f1_score(y_true, y_pred.argmax(1), average='weighted')"
   ]
  },
  {
   "cell_type": "code",
   "execution_count": 18,
   "id": "06c5863a",
   "metadata": {
    "execution": {
     "iopub.execute_input": "2025-05-15T16:03:08.175771Z",
     "iopub.status.busy": "2025-05-15T16:03:08.175443Z",
     "iopub.status.idle": "2025-05-15T16:03:08.179712Z",
     "shell.execute_reply": "2025-05-15T16:03:08.179354Z"
    },
    "papermill": {
     "duration": 0.013052,
     "end_time": "2025-05-15T16:03:08.180672",
     "exception": false,
     "start_time": "2025-05-15T16:03:08.167620",
     "status": "completed"
    },
    "tags": []
   },
   "outputs": [],
   "source": [
    "eval_metric=custom_f1_score\n",
    "eval_metric_name='custom_f1_score'\n",
    "\n",
    "def objective(trial):\n",
    "    params = {\n",
    "        'n_estimators': 1500,\n",
    "        'max_depth': trial.suggest_int('max_depth', 3, 20),\n",
    "        'min_child_weight': trial.suggest_int('min_child_weight', 1, 250),\n",
    "        'subsample': trial.suggest_float('subsample', 0.1, 1.0),\n",
    "        'colsample_bynode': trial.suggest_float('colsample_bynode', 0.1, 1.0),\n",
    "        'learning_rate': trial.suggest_float('learning_rate', 1e-3, 5e-1, log=True),\n",
    "    }\n",
    "    pruning_callback = optuna.integration.XGBoostPruningCallback(trial, f'validation_0-{eval_metric_name}')\n",
    "    es_callback = xgboost.callback.EarlyStopping(20, min_delta=0.001)\n",
    "    xgb = xgboost.XGBClassifier(\n",
    "        eval_metric=eval_metric,\n",
    "        callbacks=[pruning_callback, es_callback],\n",
    "        n_jobs=5,\n",
    "        **params\n",
    "    )\n",
    "    xgb.fit(\n",
    "        X_train, \n",
    "        y_train_enc, \n",
    "        verbose=0,\n",
    "        eval_set=[(X_val, y_val_enc)],\n",
    "    )\n",
    "    trial.set_user_attr('best_iteration', xgb.best_iteration)\n",
    "\n",
    "    return xgb.best_score"
   ]
  },
  {
   "cell_type": "code",
   "execution_count": 19,
   "id": "3501d75c",
   "metadata": {
    "execution": {
     "iopub.execute_input": "2025-05-15T16:03:08.195894Z",
     "iopub.status.busy": "2025-05-15T16:03:08.195638Z",
     "iopub.status.idle": "2025-05-15T16:25:27.794834Z",
     "shell.execute_reply": "2025-05-15T16:25:27.794417Z"
    },
    "papermill": {
     "duration": 1339.616139,
     "end_time": "2025-05-15T16:25:27.803805",
     "exception": false,
     "start_time": "2025-05-15T16:03:08.187666",
     "status": "completed"
    },
    "scrolled": true,
    "tags": []
   },
   "outputs": [
    {
     "name": "stderr",
     "output_type": "stream",
     "text": [
      "[I 2025-05-15 18:03:08,197] A new study created in memory with name: no-name-15d25e84-cabf-4a1d-9131-48c9181bd05b\n"
     ]
    },
    {
     "name": "stderr",
     "output_type": "stream",
     "text": [
      "[I 2025-05-15 18:03:18,565] Trial 0 finished with value: -0.6642 and parameters: {'max_depth': 9, 'min_child_weight': 238, 'subsample': 0.7587945476302645, 'colsample_bynode': 0.6387926357773329, 'learning_rate': 0.0026368755339723046}. Best is trial 0 with value: -0.6642.\n"
     ]
    },
    {
     "name": "stderr",
     "output_type": "stream",
     "text": [
      "[I 2025-05-15 18:04:36,279] Trial 1 finished with value: -0.801779 and parameters: {'max_depth': 5, 'min_child_weight': 15, 'subsample': 0.8795585311974417, 'colsample_bynode': 0.6410035105688879, 'learning_rate': 0.08148293210105287}. Best is trial 1 with value: -0.801779.\n"
     ]
    },
    {
     "name": "stderr",
     "output_type": "stream",
     "text": [
      "[I 2025-05-15 18:04:44,301] Trial 2 finished with value: -0.634459 and parameters: {'max_depth': 3, 'min_child_weight': 243, 'subsample': 0.8491983767203796, 'colsample_bynode': 0.29110519961044856, 'learning_rate': 0.003095566460242371}. Best is trial 1 with value: -0.801779.\n"
     ]
    },
    {
     "name": "stderr",
     "output_type": "stream",
     "text": [
      "[I 2025-05-15 18:07:07,643] Trial 3 finished with value: -0.71297 and parameters: {'max_depth': 6, 'min_child_weight': 77, 'subsample': 0.5722807884690141, 'colsample_bynode': 0.48875051677790415, 'learning_rate': 0.006109683510122491}. Best is trial 1 with value: -0.801779.\n"
     ]
    },
    {
     "name": "stderr",
     "output_type": "stream",
     "text": [
      "[I 2025-05-15 18:10:08,982] Trial 4 finished with value: -0.796503 and parameters: {'max_depth': 14, 'min_child_weight': 35, 'subsample': 0.3629301836816964, 'colsample_bynode': 0.4297256589643226, 'learning_rate': 0.01701841881702917}. Best is trial 1 with value: -0.801779.\n"
     ]
    },
    {
     "name": "stderr",
     "output_type": "stream",
     "text": [
      "[I 2025-05-15 18:10:21,761] Trial 5 pruned. Trial was pruned at iteration 30.\n"
     ]
    },
    {
     "name": "stderr",
     "output_type": "stream",
     "text": [
      "[I 2025-05-15 18:10:50,680] Trial 6 finished with value: -0.800976 and parameters: {'max_depth': 13, 'min_child_weight': 43, 'subsample': 0.1585464336867516, 'colsample_bynode': 0.9539969835279999, 'learning_rate': 0.4038423798071558}. Best is trial 1 with value: -0.801779.\n"
     ]
    },
    {
     "name": "stderr",
     "output_type": "stream",
     "text": [
      "[I 2025-05-15 18:10:51,332] Trial 7 pruned. Trial was pruned at iteration 0.\n"
     ]
    },
    {
     "name": "stderr",
     "output_type": "stream",
     "text": [
      "[I 2025-05-15 18:10:51,935] Trial 8 pruned. Trial was pruned at iteration 0.\n"
     ]
    },
    {
     "name": "stderr",
     "output_type": "stream",
     "text": [
      "[I 2025-05-15 18:10:58,152] Trial 9 pruned. Trial was pruned at iteration 15.\n"
     ]
    },
    {
     "name": "stderr",
     "output_type": "stream",
     "text": [
      "[I 2025-05-15 18:11:55,357] Trial 10 finished with value: -0.804885 and parameters: {'max_depth': 9, 'min_child_weight': 2, 'subsample': 0.9725833997090791, 'colsample_bynode': 0.11616568805333755, 'learning_rate': 0.17780618353487967}. Best is trial 10 with value: -0.804885.\n"
     ]
    },
    {
     "name": "stderr",
     "output_type": "stream",
     "text": [
      "[I 2025-05-15 18:13:06,674] Trial 11 finished with value: -0.802651 and parameters: {'max_depth': 9, 'min_child_weight': 4, 'subsample': 0.9818290990185045, 'colsample_bynode': 0.17702656156719, 'learning_rate': 0.11568531411766632}. Best is trial 10 with value: -0.804885.\n"
     ]
    },
    {
     "name": "stderr",
     "output_type": "stream",
     "text": [
      "[I 2025-05-15 18:14:07,137] Trial 12 finished with value: -0.800779 and parameters: {'max_depth': 9, 'min_child_weight': 2, 'subsample': 0.9762317723681219, 'colsample_bynode': 0.1303670507685675, 'learning_rate': 0.14353293664472047}. Best is trial 10 with value: -0.804885.\n"
     ]
    },
    {
     "name": "stderr",
     "output_type": "stream",
     "text": [
      "[I 2025-05-15 18:14:07,810] Trial 13 pruned. Trial was pruned at iteration 0.\n"
     ]
    },
    {
     "name": "stderr",
     "output_type": "stream",
     "text": [
      "[I 2025-05-15 18:14:08,468] Trial 14 pruned. Trial was pruned at iteration 0.\n"
     ]
    },
    {
     "name": "stderr",
     "output_type": "stream",
     "text": [
      "[I 2025-05-15 18:14:43,990] Trial 15 pruned. Trial was pruned at iteration 35.\n"
     ]
    },
    {
     "name": "stderr",
     "output_type": "stream",
     "text": [
      "[I 2025-05-15 18:14:44,706] Trial 16 pruned. Trial was pruned at iteration 0.\n"
     ]
    },
    {
     "name": "stderr",
     "output_type": "stream",
     "text": [
      "[I 2025-05-15 18:14:45,336] Trial 17 pruned. Trial was pruned at iteration 0.\n"
     ]
    },
    {
     "name": "stderr",
     "output_type": "stream",
     "text": [
      "[I 2025-05-15 18:15:35,000] Trial 18 finished with value: -0.809653 and parameters: {'max_depth': 12, 'min_child_weight': 35, 'subsample': 0.8272602031120428, 'colsample_bynode': 0.8109691196781996, 'learning_rate': 0.20046188160978387}. Best is trial 18 with value: -0.809653.\n"
     ]
    },
    {
     "name": "stderr",
     "output_type": "stream",
     "text": [
      "[I 2025-05-15 18:16:16,706] Trial 19 finished with value: -0.810232 and parameters: {'max_depth': 12, 'min_child_weight': 102, 'subsample': 0.7921539627212022, 'colsample_bynode': 0.8244545439317669, 'learning_rate': 0.23429781155006768}. Best is trial 19 with value: -0.810232.\n"
     ]
    },
    {
     "name": "stderr",
     "output_type": "stream",
     "text": [
      "[I 2025-05-15 18:16:17,394] Trial 20 pruned. Trial was pruned at iteration 0.\n"
     ]
    },
    {
     "name": "stderr",
     "output_type": "stream",
     "text": [
      "[I 2025-05-15 18:17:09,676] Trial 21 finished with value: -0.812315 and parameters: {'max_depth': 12, 'min_child_weight': 58, 'subsample': 0.819134819511958, 'colsample_bynode': 0.7873726554233677, 'learning_rate': 0.20901104055631745}. Best is trial 21 with value: -0.812315.\n"
     ]
    },
    {
     "name": "stderr",
     "output_type": "stream",
     "text": [
      "[I 2025-05-15 18:17:10,362] Trial 22 pruned. Trial was pruned at iteration 0.\n"
     ]
    },
    {
     "name": "stderr",
     "output_type": "stream",
     "text": [
      "[I 2025-05-15 18:17:54,544] Trial 23 finished with value: -0.811444 and parameters: {'max_depth': 12, 'min_child_weight': 59, 'subsample': 0.6554303950776911, 'colsample_bynode': 0.8717821152085073, 'learning_rate': 0.20920411334717529}. Best is trial 21 with value: -0.812315.\n"
     ]
    },
    {
     "name": "stderr",
     "output_type": "stream",
     "text": [
      "[I 2025-05-15 18:18:26,946] Trial 24 finished with value: -0.808453 and parameters: {'max_depth': 15, 'min_child_weight': 62, 'subsample': 0.4477813921671767, 'colsample_bynode': 0.8849950866069654, 'learning_rate': 0.29558480327327485}. Best is trial 21 with value: -0.812315.\n"
     ]
    },
    {
     "name": "stderr",
     "output_type": "stream",
     "text": [
      "[I 2025-05-15 18:18:27,582] Trial 25 pruned. Trial was pruned at iteration 0.\n"
     ]
    },
    {
     "name": "stderr",
     "output_type": "stream",
     "text": [
      "[I 2025-05-15 18:18:28,214] Trial 26 pruned. Trial was pruned at iteration 0.\n"
     ]
    },
    {
     "name": "stderr",
     "output_type": "stream",
     "text": [
      "[I 2025-05-15 18:18:28,870] Trial 27 pruned. Trial was pruned at iteration 0.\n"
     ]
    },
    {
     "name": "stderr",
     "output_type": "stream",
     "text": [
      "[I 2025-05-15 18:18:31,800] Trial 28 pruned. Trial was pruned at iteration 6.\n"
     ]
    },
    {
     "name": "stderr",
     "output_type": "stream",
     "text": [
      "[I 2025-05-15 18:18:32,404] Trial 29 pruned. Trial was pruned at iteration 0.\n"
     ]
    },
    {
     "name": "stderr",
     "output_type": "stream",
     "text": [
      "[I 2025-05-15 18:18:44,542] Trial 30 pruned. Trial was pruned at iteration 27.\n"
     ]
    },
    {
     "name": "stderr",
     "output_type": "stream",
     "text": [
      "[I 2025-05-15 18:19:28,574] Trial 31 finished with value: -0.810436 and parameters: {'max_depth': 12, 'min_child_weight': 28, 'subsample': 0.7930899592984254, 'colsample_bynode': 0.8340525802181723, 'learning_rate': 0.17868382144653006}. Best is trial 21 with value: -0.812315.\n"
     ]
    },
    {
     "name": "stderr",
     "output_type": "stream",
     "text": [
      "[I 2025-05-15 18:20:12,727] Trial 32 finished with value: -0.812345 and parameters: {'max_depth': 11, 'min_child_weight': 62, 'subsample': 0.7030086247827207, 'colsample_bynode': 0.8961524890912443, 'learning_rate': 0.28241098173710044}. Best is trial 32 with value: -0.812345.\n"
     ]
    },
    {
     "name": "stderr",
     "output_type": "stream",
     "text": [
      "[I 2025-05-15 18:20:24,749] Trial 33 pruned. Trial was pruned at iteration 27.\n"
     ]
    },
    {
     "name": "stderr",
     "output_type": "stream",
     "text": [
      "[I 2025-05-15 18:20:27,699] Trial 34 pruned. Trial was pruned at iteration 6.\n"
     ]
    },
    {
     "name": "stderr",
     "output_type": "stream",
     "text": [
      "[I 2025-05-15 18:21:07,364] Trial 35 finished with value: -0.811178 and parameters: {'max_depth': 15, 'min_child_weight': 21, 'subsample': 0.8851740326413079, 'colsample_bynode': 0.6622789054639557, 'learning_rate': 0.33405720227864744}. Best is trial 32 with value: -0.812345.\n"
     ]
    },
    {
     "name": "stderr",
     "output_type": "stream",
     "text": [
      "[I 2025-05-15 18:21:08,013] Trial 36 pruned. Trial was pruned at iteration 0.\n"
     ]
    },
    {
     "name": "stderr",
     "output_type": "stream",
     "text": [
      "[I 2025-05-15 18:21:49,709] Trial 37 finished with value: -0.811065 and parameters: {'max_depth': 15, 'min_child_weight': 19, 'subsample': 0.8577049962447416, 'colsample_bynode': 0.7593473027572158, 'learning_rate': 0.3467465012980868}. Best is trial 32 with value: -0.812345.\n"
     ]
    },
    {
     "name": "stderr",
     "output_type": "stream",
     "text": [
      "[I 2025-05-15 18:21:50,236] Trial 38 pruned. Trial was pruned at iteration 0.\n"
     ]
    },
    {
     "name": "stderr",
     "output_type": "stream",
     "text": [
      "[I 2025-05-15 18:21:50,862] Trial 39 pruned. Trial was pruned at iteration 0.\n"
     ]
    },
    {
     "name": "stderr",
     "output_type": "stream",
     "text": [
      "[I 2025-05-15 18:21:53,797] Trial 40 pruned. Trial was pruned at iteration 6.\n"
     ]
    },
    {
     "name": "stderr",
     "output_type": "stream",
     "text": [
      "[I 2025-05-15 18:22:24,017] Trial 41 pruned. Trial was pruned at iteration 71.\n"
     ]
    },
    {
     "name": "stderr",
     "output_type": "stream",
     "text": [
      "[I 2025-05-15 18:22:28,052] Trial 42 pruned. Trial was pruned at iteration 7.\n"
     ]
    },
    {
     "name": "stderr",
     "output_type": "stream",
     "text": [
      "[I 2025-05-15 18:23:16,539] Trial 43 finished with value: -0.811401 and parameters: {'max_depth': 16, 'min_child_weight': 67, 'subsample': 0.9438868392645933, 'colsample_bynode': 0.8690723246967819, 'learning_rate': 0.2552883745621989}. Best is trial 32 with value: -0.812345.\n"
     ]
    },
    {
     "name": "stderr",
     "output_type": "stream",
     "text": [
      "[I 2025-05-15 18:23:20,057] Trial 44 pruned. Trial was pruned at iteration 6.\n"
     ]
    },
    {
     "name": "stderr",
     "output_type": "stream",
     "text": [
      "[I 2025-05-15 18:24:04,907] Trial 45 finished with value: -0.811368 and parameters: {'max_depth': 17, 'min_child_weight': 80, 'subsample': 0.9454257906918336, 'colsample_bynode': 0.9551831078359738, 'learning_rate': 0.238145762157836}. Best is trial 32 with value: -0.812345.\n"
     ]
    },
    {
     "name": "stderr",
     "output_type": "stream",
     "text": [
      "[I 2025-05-15 18:24:05,628] Trial 46 pruned. Trial was pruned at iteration 0.\n"
     ]
    },
    {
     "name": "stderr",
     "output_type": "stream",
     "text": [
      "[I 2025-05-15 18:24:49,929] Trial 47 finished with value: -0.812885 and parameters: {'max_depth': 18, 'min_child_weight': 78, 'subsample': 0.9389793294743461, 'colsample_bynode': 0.9338289067763875, 'learning_rate': 0.21789304802449658}. Best is trial 47 with value: -0.812885.\n"
     ]
    },
    {
     "name": "stderr",
     "output_type": "stream",
     "text": [
      "[I 2025-05-15 18:24:50,623] Trial 48 pruned. Trial was pruned at iteration 0.\n"
     ]
    },
    {
     "name": "stderr",
     "output_type": "stream",
     "text": [
      "[I 2025-05-15 18:25:27,715] Trial 49 finished with value: -0.810753 and parameters: {'max_depth': 18, 'min_child_weight': 50, 'subsample': 0.8431242100097405, 'colsample_bynode': 0.8713481541349619, 'learning_rate': 0.2156776484168705}. Best is trial 47 with value: -0.812885.\n"
     ]
    }
   ],
   "source": [
    "sampler = optuna.samplers.TPESampler(seed=42)\n",
    "study = optuna.create_study(direction='minimize', sampler=sampler)\n",
    "study.optimize(objective, n_trials=N_TRIALS, gc_after_trial=True)"
   ]
  },
  {
   "cell_type": "code",
   "execution_count": 20,
   "id": "aea3a982",
   "metadata": {
    "execution": {
     "iopub.execute_input": "2025-05-15T16:25:27.820732Z",
     "iopub.status.busy": "2025-05-15T16:25:27.820530Z",
     "iopub.status.idle": "2025-05-15T16:25:27.847564Z",
     "shell.execute_reply": "2025-05-15T16:25:27.847253Z"
    },
    "papermill": {
     "duration": 0.036595,
     "end_time": "2025-05-15T16:25:27.848444",
     "exception": false,
     "start_time": "2025-05-15T16:25:27.811849",
     "status": "completed"
    },
    "tags": []
   },
   "outputs": [
    {
     "data": {
      "text/plain": [
       "['/scratch_isilon/groups/singlecell/shared/projects/Inflammation-PBMCs-Atlas/03_downstream_analysis/08_gene_importance/xgboost_external_validation/xgboost_TopN_genes/results_20/study/T_CD4_NonNaive_13_0_xgboost.pkl']"
      ]
     },
     "execution_count": 20,
     "metadata": {},
     "output_type": "execute_result"
    }
   ],
   "source": [
    "out_dir = here(f'03_downstream_analysis/08_gene_importance/xgboost_external_validation/xgboost_TopN_genes/results_{N_GENES}/study')\n",
    "\n",
    "if not os.path.exists(out_dir):\n",
    "    os.makedirs(out_dir)\n",
    "    \n",
    "joblib.dump(study,os.path.join(out_dir, f'{CELL_TYPE}_{SEED}_{TEST_SPLIT_IDX}_xgboost.pkl'))"
   ]
  },
  {
   "cell_type": "code",
   "execution_count": 21,
   "id": "6bb28504",
   "metadata": {
    "execution": {
     "iopub.execute_input": "2025-05-15T16:25:27.867150Z",
     "iopub.status.busy": "2025-05-15T16:25:27.866792Z",
     "iopub.status.idle": "2025-05-15T16:25:45.508027Z",
     "shell.execute_reply": "2025-05-15T16:25:45.507676Z"
    },
    "papermill": {
     "duration": 17.651843,
     "end_time": "2025-05-15T16:25:45.508960",
     "exception": false,
     "start_time": "2025-05-15T16:25:27.857117",
     "status": "completed"
    },
    "tags": []
   },
   "outputs": [
    {
     "data": {
      "text/html": [
       "<style>#sk-container-id-1 {\n",
       "  /* Definition of color scheme common for light and dark mode */\n",
       "  --sklearn-color-text: black;\n",
       "  --sklearn-color-line: gray;\n",
       "  /* Definition of color scheme for unfitted estimators */\n",
       "  --sklearn-color-unfitted-level-0: #fff5e6;\n",
       "  --sklearn-color-unfitted-level-1: #f6e4d2;\n",
       "  --sklearn-color-unfitted-level-2: #ffe0b3;\n",
       "  --sklearn-color-unfitted-level-3: chocolate;\n",
       "  /* Definition of color scheme for fitted estimators */\n",
       "  --sklearn-color-fitted-level-0: #f0f8ff;\n",
       "  --sklearn-color-fitted-level-1: #d4ebff;\n",
       "  --sklearn-color-fitted-level-2: #b3dbfd;\n",
       "  --sklearn-color-fitted-level-3: cornflowerblue;\n",
       "\n",
       "  /* Specific color for light theme */\n",
       "  --sklearn-color-text-on-default-background: var(--sg-text-color, var(--theme-code-foreground, var(--jp-content-font-color1, black)));\n",
       "  --sklearn-color-background: var(--sg-background-color, var(--theme-background, var(--jp-layout-color0, white)));\n",
       "  --sklearn-color-border-box: var(--sg-text-color, var(--theme-code-foreground, var(--jp-content-font-color1, black)));\n",
       "  --sklearn-color-icon: #696969;\n",
       "\n",
       "  @media (prefers-color-scheme: dark) {\n",
       "    /* Redefinition of color scheme for dark theme */\n",
       "    --sklearn-color-text-on-default-background: var(--sg-text-color, var(--theme-code-foreground, var(--jp-content-font-color1, white)));\n",
       "    --sklearn-color-background: var(--sg-background-color, var(--theme-background, var(--jp-layout-color0, #111)));\n",
       "    --sklearn-color-border-box: var(--sg-text-color, var(--theme-code-foreground, var(--jp-content-font-color1, white)));\n",
       "    --sklearn-color-icon: #878787;\n",
       "  }\n",
       "}\n",
       "\n",
       "#sk-container-id-1 {\n",
       "  color: var(--sklearn-color-text);\n",
       "}\n",
       "\n",
       "#sk-container-id-1 pre {\n",
       "  padding: 0;\n",
       "}\n",
       "\n",
       "#sk-container-id-1 input.sk-hidden--visually {\n",
       "  border: 0;\n",
       "  clip: rect(1px 1px 1px 1px);\n",
       "  clip: rect(1px, 1px, 1px, 1px);\n",
       "  height: 1px;\n",
       "  margin: -1px;\n",
       "  overflow: hidden;\n",
       "  padding: 0;\n",
       "  position: absolute;\n",
       "  width: 1px;\n",
       "}\n",
       "\n",
       "#sk-container-id-1 div.sk-dashed-wrapped {\n",
       "  border: 1px dashed var(--sklearn-color-line);\n",
       "  margin: 0 0.4em 0.5em 0.4em;\n",
       "  box-sizing: border-box;\n",
       "  padding-bottom: 0.4em;\n",
       "  background-color: var(--sklearn-color-background);\n",
       "}\n",
       "\n",
       "#sk-container-id-1 div.sk-container {\n",
       "  /* jupyter's `normalize.less` sets `[hidden] { display: none; }`\n",
       "     but bootstrap.min.css set `[hidden] { display: none !important; }`\n",
       "     so we also need the `!important` here to be able to override the\n",
       "     default hidden behavior on the sphinx rendered scikit-learn.org.\n",
       "     See: https://github.com/scikit-learn/scikit-learn/issues/21755 */\n",
       "  display: inline-block !important;\n",
       "  position: relative;\n",
       "}\n",
       "\n",
       "#sk-container-id-1 div.sk-text-repr-fallback {\n",
       "  display: none;\n",
       "}\n",
       "\n",
       "div.sk-parallel-item,\n",
       "div.sk-serial,\n",
       "div.sk-item {\n",
       "  /* draw centered vertical line to link estimators */\n",
       "  background-image: linear-gradient(var(--sklearn-color-text-on-default-background), var(--sklearn-color-text-on-default-background));\n",
       "  background-size: 2px 100%;\n",
       "  background-repeat: no-repeat;\n",
       "  background-position: center center;\n",
       "}\n",
       "\n",
       "/* Parallel-specific style estimator block */\n",
       "\n",
       "#sk-container-id-1 div.sk-parallel-item::after {\n",
       "  content: \"\";\n",
       "  width: 100%;\n",
       "  border-bottom: 2px solid var(--sklearn-color-text-on-default-background);\n",
       "  flex-grow: 1;\n",
       "}\n",
       "\n",
       "#sk-container-id-1 div.sk-parallel {\n",
       "  display: flex;\n",
       "  align-items: stretch;\n",
       "  justify-content: center;\n",
       "  background-color: var(--sklearn-color-background);\n",
       "  position: relative;\n",
       "}\n",
       "\n",
       "#sk-container-id-1 div.sk-parallel-item {\n",
       "  display: flex;\n",
       "  flex-direction: column;\n",
       "}\n",
       "\n",
       "#sk-container-id-1 div.sk-parallel-item:first-child::after {\n",
       "  align-self: flex-end;\n",
       "  width: 50%;\n",
       "}\n",
       "\n",
       "#sk-container-id-1 div.sk-parallel-item:last-child::after {\n",
       "  align-self: flex-start;\n",
       "  width: 50%;\n",
       "}\n",
       "\n",
       "#sk-container-id-1 div.sk-parallel-item:only-child::after {\n",
       "  width: 0;\n",
       "}\n",
       "\n",
       "/* Serial-specific style estimator block */\n",
       "\n",
       "#sk-container-id-1 div.sk-serial {\n",
       "  display: flex;\n",
       "  flex-direction: column;\n",
       "  align-items: center;\n",
       "  background-color: var(--sklearn-color-background);\n",
       "  padding-right: 1em;\n",
       "  padding-left: 1em;\n",
       "}\n",
       "\n",
       "\n",
       "/* Toggleable style: style used for estimator/Pipeline/ColumnTransformer box that is\n",
       "clickable and can be expanded/collapsed.\n",
       "- Pipeline and ColumnTransformer use this feature and define the default style\n",
       "- Estimators will overwrite some part of the style using the `sk-estimator` class\n",
       "*/\n",
       "\n",
       "/* Pipeline and ColumnTransformer style (default) */\n",
       "\n",
       "#sk-container-id-1 div.sk-toggleable {\n",
       "  /* Default theme specific background. It is overwritten whether we have a\n",
       "  specific estimator or a Pipeline/ColumnTransformer */\n",
       "  background-color: var(--sklearn-color-background);\n",
       "}\n",
       "\n",
       "/* Toggleable label */\n",
       "#sk-container-id-1 label.sk-toggleable__label {\n",
       "  cursor: pointer;\n",
       "  display: block;\n",
       "  width: 100%;\n",
       "  margin-bottom: 0;\n",
       "  padding: 0.5em;\n",
       "  box-sizing: border-box;\n",
       "  text-align: center;\n",
       "}\n",
       "\n",
       "#sk-container-id-1 label.sk-toggleable__label-arrow:before {\n",
       "  /* Arrow on the left of the label */\n",
       "  content: \"▸\";\n",
       "  float: left;\n",
       "  margin-right: 0.25em;\n",
       "  color: var(--sklearn-color-icon);\n",
       "}\n",
       "\n",
       "#sk-container-id-1 label.sk-toggleable__label-arrow:hover:before {\n",
       "  color: var(--sklearn-color-text);\n",
       "}\n",
       "\n",
       "/* Toggleable content - dropdown */\n",
       "\n",
       "#sk-container-id-1 div.sk-toggleable__content {\n",
       "  max-height: 0;\n",
       "  max-width: 0;\n",
       "  overflow: hidden;\n",
       "  text-align: left;\n",
       "  /* unfitted */\n",
       "  background-color: var(--sklearn-color-unfitted-level-0);\n",
       "}\n",
       "\n",
       "#sk-container-id-1 div.sk-toggleable__content.fitted {\n",
       "  /* fitted */\n",
       "  background-color: var(--sklearn-color-fitted-level-0);\n",
       "}\n",
       "\n",
       "#sk-container-id-1 div.sk-toggleable__content pre {\n",
       "  margin: 0.2em;\n",
       "  border-radius: 0.25em;\n",
       "  color: var(--sklearn-color-text);\n",
       "  /* unfitted */\n",
       "  background-color: var(--sklearn-color-unfitted-level-0);\n",
       "}\n",
       "\n",
       "#sk-container-id-1 div.sk-toggleable__content.fitted pre {\n",
       "  /* unfitted */\n",
       "  background-color: var(--sklearn-color-fitted-level-0);\n",
       "}\n",
       "\n",
       "#sk-container-id-1 input.sk-toggleable__control:checked~div.sk-toggleable__content {\n",
       "  /* Expand drop-down */\n",
       "  max-height: 200px;\n",
       "  max-width: 100%;\n",
       "  overflow: auto;\n",
       "}\n",
       "\n",
       "#sk-container-id-1 input.sk-toggleable__control:checked~label.sk-toggleable__label-arrow:before {\n",
       "  content: \"▾\";\n",
       "}\n",
       "\n",
       "/* Pipeline/ColumnTransformer-specific style */\n",
       "\n",
       "#sk-container-id-1 div.sk-label input.sk-toggleable__control:checked~label.sk-toggleable__label {\n",
       "  color: var(--sklearn-color-text);\n",
       "  background-color: var(--sklearn-color-unfitted-level-2);\n",
       "}\n",
       "\n",
       "#sk-container-id-1 div.sk-label.fitted input.sk-toggleable__control:checked~label.sk-toggleable__label {\n",
       "  background-color: var(--sklearn-color-fitted-level-2);\n",
       "}\n",
       "\n",
       "/* Estimator-specific style */\n",
       "\n",
       "/* Colorize estimator box */\n",
       "#sk-container-id-1 div.sk-estimator input.sk-toggleable__control:checked~label.sk-toggleable__label {\n",
       "  /* unfitted */\n",
       "  background-color: var(--sklearn-color-unfitted-level-2);\n",
       "}\n",
       "\n",
       "#sk-container-id-1 div.sk-estimator.fitted input.sk-toggleable__control:checked~label.sk-toggleable__label {\n",
       "  /* fitted */\n",
       "  background-color: var(--sklearn-color-fitted-level-2);\n",
       "}\n",
       "\n",
       "#sk-container-id-1 div.sk-label label.sk-toggleable__label,\n",
       "#sk-container-id-1 div.sk-label label {\n",
       "  /* The background is the default theme color */\n",
       "  color: var(--sklearn-color-text-on-default-background);\n",
       "}\n",
       "\n",
       "/* On hover, darken the color of the background */\n",
       "#sk-container-id-1 div.sk-label:hover label.sk-toggleable__label {\n",
       "  color: var(--sklearn-color-text);\n",
       "  background-color: var(--sklearn-color-unfitted-level-2);\n",
       "}\n",
       "\n",
       "/* Label box, darken color on hover, fitted */\n",
       "#sk-container-id-1 div.sk-label.fitted:hover label.sk-toggleable__label.fitted {\n",
       "  color: var(--sklearn-color-text);\n",
       "  background-color: var(--sklearn-color-fitted-level-2);\n",
       "}\n",
       "\n",
       "/* Estimator label */\n",
       "\n",
       "#sk-container-id-1 div.sk-label label {\n",
       "  font-family: monospace;\n",
       "  font-weight: bold;\n",
       "  display: inline-block;\n",
       "  line-height: 1.2em;\n",
       "}\n",
       "\n",
       "#sk-container-id-1 div.sk-label-container {\n",
       "  text-align: center;\n",
       "}\n",
       "\n",
       "/* Estimator-specific */\n",
       "#sk-container-id-1 div.sk-estimator {\n",
       "  font-family: monospace;\n",
       "  border: 1px dotted var(--sklearn-color-border-box);\n",
       "  border-radius: 0.25em;\n",
       "  box-sizing: border-box;\n",
       "  margin-bottom: 0.5em;\n",
       "  /* unfitted */\n",
       "  background-color: var(--sklearn-color-unfitted-level-0);\n",
       "}\n",
       "\n",
       "#sk-container-id-1 div.sk-estimator.fitted {\n",
       "  /* fitted */\n",
       "  background-color: var(--sklearn-color-fitted-level-0);\n",
       "}\n",
       "\n",
       "/* on hover */\n",
       "#sk-container-id-1 div.sk-estimator:hover {\n",
       "  /* unfitted */\n",
       "  background-color: var(--sklearn-color-unfitted-level-2);\n",
       "}\n",
       "\n",
       "#sk-container-id-1 div.sk-estimator.fitted:hover {\n",
       "  /* fitted */\n",
       "  background-color: var(--sklearn-color-fitted-level-2);\n",
       "}\n",
       "\n",
       "/* Specification for estimator info (e.g. \"i\" and \"?\") */\n",
       "\n",
       "/* Common style for \"i\" and \"?\" */\n",
       "\n",
       ".sk-estimator-doc-link,\n",
       "a:link.sk-estimator-doc-link,\n",
       "a:visited.sk-estimator-doc-link {\n",
       "  float: right;\n",
       "  font-size: smaller;\n",
       "  line-height: 1em;\n",
       "  font-family: monospace;\n",
       "  background-color: var(--sklearn-color-background);\n",
       "  border-radius: 1em;\n",
       "  height: 1em;\n",
       "  width: 1em;\n",
       "  text-decoration: none !important;\n",
       "  margin-left: 1ex;\n",
       "  /* unfitted */\n",
       "  border: var(--sklearn-color-unfitted-level-1) 1pt solid;\n",
       "  color: var(--sklearn-color-unfitted-level-1);\n",
       "}\n",
       "\n",
       ".sk-estimator-doc-link.fitted,\n",
       "a:link.sk-estimator-doc-link.fitted,\n",
       "a:visited.sk-estimator-doc-link.fitted {\n",
       "  /* fitted */\n",
       "  border: var(--sklearn-color-fitted-level-1) 1pt solid;\n",
       "  color: var(--sklearn-color-fitted-level-1);\n",
       "}\n",
       "\n",
       "/* On hover */\n",
       "div.sk-estimator:hover .sk-estimator-doc-link:hover,\n",
       ".sk-estimator-doc-link:hover,\n",
       "div.sk-label-container:hover .sk-estimator-doc-link:hover,\n",
       ".sk-estimator-doc-link:hover {\n",
       "  /* unfitted */\n",
       "  background-color: var(--sklearn-color-unfitted-level-3);\n",
       "  color: var(--sklearn-color-background);\n",
       "  text-decoration: none;\n",
       "}\n",
       "\n",
       "div.sk-estimator.fitted:hover .sk-estimator-doc-link.fitted:hover,\n",
       ".sk-estimator-doc-link.fitted:hover,\n",
       "div.sk-label-container:hover .sk-estimator-doc-link.fitted:hover,\n",
       ".sk-estimator-doc-link.fitted:hover {\n",
       "  /* fitted */\n",
       "  background-color: var(--sklearn-color-fitted-level-3);\n",
       "  color: var(--sklearn-color-background);\n",
       "  text-decoration: none;\n",
       "}\n",
       "\n",
       "/* Span, style for the box shown on hovering the info icon */\n",
       ".sk-estimator-doc-link span {\n",
       "  display: none;\n",
       "  z-index: 9999;\n",
       "  position: relative;\n",
       "  font-weight: normal;\n",
       "  right: .2ex;\n",
       "  padding: .5ex;\n",
       "  margin: .5ex;\n",
       "  width: min-content;\n",
       "  min-width: 20ex;\n",
       "  max-width: 50ex;\n",
       "  color: var(--sklearn-color-text);\n",
       "  box-shadow: 2pt 2pt 4pt #999;\n",
       "  /* unfitted */\n",
       "  background: var(--sklearn-color-unfitted-level-0);\n",
       "  border: .5pt solid var(--sklearn-color-unfitted-level-3);\n",
       "}\n",
       "\n",
       ".sk-estimator-doc-link.fitted span {\n",
       "  /* fitted */\n",
       "  background: var(--sklearn-color-fitted-level-0);\n",
       "  border: var(--sklearn-color-fitted-level-3);\n",
       "}\n",
       "\n",
       ".sk-estimator-doc-link:hover span {\n",
       "  display: block;\n",
       "}\n",
       "\n",
       "/* \"?\"-specific style due to the `<a>` HTML tag */\n",
       "\n",
       "#sk-container-id-1 a.estimator_doc_link {\n",
       "  float: right;\n",
       "  font-size: 1rem;\n",
       "  line-height: 1em;\n",
       "  font-family: monospace;\n",
       "  background-color: var(--sklearn-color-background);\n",
       "  border-radius: 1rem;\n",
       "  height: 1rem;\n",
       "  width: 1rem;\n",
       "  text-decoration: none;\n",
       "  /* unfitted */\n",
       "  color: var(--sklearn-color-unfitted-level-1);\n",
       "  border: var(--sklearn-color-unfitted-level-1) 1pt solid;\n",
       "}\n",
       "\n",
       "#sk-container-id-1 a.estimator_doc_link.fitted {\n",
       "  /* fitted */\n",
       "  border: var(--sklearn-color-fitted-level-1) 1pt solid;\n",
       "  color: var(--sklearn-color-fitted-level-1);\n",
       "}\n",
       "\n",
       "/* On hover */\n",
       "#sk-container-id-1 a.estimator_doc_link:hover {\n",
       "  /* unfitted */\n",
       "  background-color: var(--sklearn-color-unfitted-level-3);\n",
       "  color: var(--sklearn-color-background);\n",
       "  text-decoration: none;\n",
       "}\n",
       "\n",
       "#sk-container-id-1 a.estimator_doc_link.fitted:hover {\n",
       "  /* fitted */\n",
       "  background-color: var(--sklearn-color-fitted-level-3);\n",
       "}\n",
       "</style><div id=\"sk-container-id-1\" class=\"sk-top-container\"><div class=\"sk-text-repr-fallback\"><pre>XGBClassifier(base_score=None, booster=None, callbacks=None,\n",
       "              colsample_bylevel=None, colsample_bynode=0.9338289067763875,\n",
       "              colsample_bytree=None, device=None, early_stopping_rounds=None,\n",
       "              enable_categorical=False,\n",
       "              eval_metric=&lt;function custom_f1_score at 0x7fa576258540&gt;,\n",
       "              feature_types=None, gamma=None, grow_policy=None,\n",
       "              importance_type=None, interaction_constraints=None,\n",
       "              learning_rate=0.21789304802449658, max_bin=None,\n",
       "              max_cat_threshold=None, max_cat_to_onehot=None,\n",
       "              max_delta_step=None, max_depth=18, max_leaves=None,\n",
       "              min_child_weight=78, missing=nan, monotone_constraints=None,\n",
       "              multi_strategy=None, n_estimators=115, n_jobs=None,\n",
       "              num_parallel_tree=None, objective=&#x27;multi:softprob&#x27;, ...)</pre><b>In a Jupyter environment, please rerun this cell to show the HTML representation or trust the notebook. <br />On GitHub, the HTML representation is unable to render, please try loading this page with nbviewer.org.</b></div><div class=\"sk-container\" hidden><div class=\"sk-item\"><div class=\"sk-estimator fitted sk-toggleable\"><input class=\"sk-toggleable__control sk-hidden--visually\" id=\"sk-estimator-id-1\" type=\"checkbox\" checked><label for=\"sk-estimator-id-1\" class=\"sk-toggleable__label fitted sk-toggleable__label-arrow fitted\">&nbsp;XGBClassifier<span class=\"sk-estimator-doc-link fitted\">i<span>Fitted</span></span></label><div class=\"sk-toggleable__content fitted\"><pre>XGBClassifier(base_score=None, booster=None, callbacks=None,\n",
       "              colsample_bylevel=None, colsample_bynode=0.9338289067763875,\n",
       "              colsample_bytree=None, device=None, early_stopping_rounds=None,\n",
       "              enable_categorical=False,\n",
       "              eval_metric=&lt;function custom_f1_score at 0x7fa576258540&gt;,\n",
       "              feature_types=None, gamma=None, grow_policy=None,\n",
       "              importance_type=None, interaction_constraints=None,\n",
       "              learning_rate=0.21789304802449658, max_bin=None,\n",
       "              max_cat_threshold=None, max_cat_to_onehot=None,\n",
       "              max_delta_step=None, max_depth=18, max_leaves=None,\n",
       "              min_child_weight=78, missing=nan, monotone_constraints=None,\n",
       "              multi_strategy=None, n_estimators=115, n_jobs=None,\n",
       "              num_parallel_tree=None, objective=&#x27;multi:softprob&#x27;, ...)</pre></div> </div></div></div></div>"
      ],
      "text/plain": [
       "XGBClassifier(base_score=None, booster=None, callbacks=None,\n",
       "              colsample_bylevel=None, colsample_bynode=0.9338289067763875,\n",
       "              colsample_bytree=None, device=None, early_stopping_rounds=None,\n",
       "              enable_categorical=False,\n",
       "              eval_metric=<function custom_f1_score at 0x7fa576258540>,\n",
       "              feature_types=None, gamma=None, grow_policy=None,\n",
       "              importance_type=None, interaction_constraints=None,\n",
       "              learning_rate=0.21789304802449658, max_bin=None,\n",
       "              max_cat_threshold=None, max_cat_to_onehot=None,\n",
       "              max_delta_step=None, max_depth=18, max_leaves=None,\n",
       "              min_child_weight=78, missing=nan, monotone_constraints=None,\n",
       "              multi_strategy=None, n_estimators=115, n_jobs=None,\n",
       "              num_parallel_tree=None, objective='multi:softprob', ...)"
      ]
     },
     "execution_count": 21,
     "metadata": {},
     "output_type": "execute_result"
    }
   ],
   "source": [
    "n_estimators = int(study.best_trial.user_attrs['best_iteration']*1.2)\n",
    "xgb = xgboost.XGBClassifier(\n",
    "        eval_metric=eval_metric,\n",
    "        n_estimators=n_estimators,\n",
    "        **study.best_trial.params\n",
    "    )\n",
    "xgb.fit(\n",
    "    ssp.vstack((X_train, X_val)), \n",
    "    np.concatenate((y_train_enc, y_val_enc)),\n",
    "    verbose=1,\n",
    ")"
   ]
  },
  {
   "cell_type": "code",
   "execution_count": 22,
   "id": "6f95913d",
   "metadata": {
    "execution": {
     "iopub.execute_input": "2025-05-15T16:25:45.549709Z",
     "iopub.status.busy": "2025-05-15T16:25:45.549315Z",
     "iopub.status.idle": "2025-05-15T16:25:45.602840Z",
     "shell.execute_reply": "2025-05-15T16:25:45.602460Z"
    },
    "papermill": {
     "duration": 0.085506,
     "end_time": "2025-05-15T16:25:45.603730",
     "exception": false,
     "start_time": "2025-05-15T16:25:45.518224",
     "status": "completed"
    },
    "tags": []
   },
   "outputs": [
    {
     "data": {
      "text/plain": [
       "['/scratch_isilon/groups/singlecell/shared/projects/Inflammation-PBMCs-Atlas/03_downstream_analysis/08_gene_importance/xgboost_external_validation/xgboost_TopN_genes/results_20/best_model/T_CD4_NonNaive_13_0_xgb.json']"
      ]
     },
     "execution_count": 22,
     "metadata": {},
     "output_type": "execute_result"
    }
   ],
   "source": [
    "out_dir = here(f'03_downstream_analysis/08_gene_importance/xgboost_external_validation/xgboost_TopN_genes/results_{N_GENES}/best_model')\n",
    "\n",
    "if not os.path.exists(out_dir):\n",
    "    os.makedirs(out_dir)\n",
    "    \n",
    "joblib.dump(xgb, os.path.join(out_dir, f'{CELL_TYPE}_{SEED}_{TEST_SPLIT_IDX}_xgb.json'))"
   ]
  },
  {
   "cell_type": "code",
   "execution_count": 23,
   "id": "a27b1bf3",
   "metadata": {
    "execution": {
     "iopub.execute_input": "2025-05-15T16:25:45.649930Z",
     "iopub.status.busy": "2025-05-15T16:25:45.649668Z",
     "iopub.status.idle": "2025-05-15T16:25:46.345127Z",
     "shell.execute_reply": "2025-05-15T16:25:46.344691Z"
    },
    "papermill": {
     "duration": 0.708445,
     "end_time": "2025-05-15T16:25:46.346348",
     "exception": false,
     "start_time": "2025-05-15T16:25:45.637903",
     "status": "completed"
    },
    "tags": []
   },
   "outputs": [],
   "source": [
    "df_pred_test = pd.DataFrame(dict(\n",
    "    cell_id=train_adata.obs.iloc[test_idxs].index.values,\n",
    "    y_true=y_test, \n",
    "    y_true_code=y_test_enc, \n",
    "    y_pred=xgb.predict(X_test))).set_index('cell_id')"
   ]
  },
  {
   "cell_type": "code",
   "execution_count": 24,
   "id": "85b43d4b",
   "metadata": {
    "execution": {
     "iopub.execute_input": "2025-05-15T16:25:46.364503Z",
     "iopub.status.busy": "2025-05-15T16:25:46.364310Z",
     "iopub.status.idle": "2025-05-15T16:25:46.486978Z",
     "shell.execute_reply": "2025-05-15T16:25:46.486534Z"
    },
    "papermill": {
     "duration": 0.132617,
     "end_time": "2025-05-15T16:25:46.488140",
     "exception": false,
     "start_time": "2025-05-15T16:25:46.355523",
     "status": "completed"
    },
    "tags": []
   },
   "outputs": [],
   "source": [
    "out_dir = here(f'03_downstream_analysis/08_gene_importance/xgboost_external_validation/xgboost_TopN_genes/results_{N_GENES}/predictions')\n",
    "\n",
    "if not os.path.exists(out_dir):\n",
    "    os.makedirs(out_dir)\n",
    "    \n",
    "df_pred_test.to_csv(os.path.join(out_dir, f'{CELL_TYPE}_{SEED}_{TEST_SPLIT_IDX}_pred_test.zip'))"
   ]
  },
  {
   "cell_type": "code",
   "execution_count": 25,
   "id": "98412eaa",
   "metadata": {
    "execution": {
     "iopub.execute_input": "2025-05-15T16:25:46.505757Z",
     "iopub.status.busy": "2025-05-15T16:25:46.505580Z",
     "iopub.status.idle": "2025-05-15T16:25:46.521286Z",
     "shell.execute_reply": "2025-05-15T16:25:46.520967Z"
    },
    "papermill": {
     "duration": 0.025007,
     "end_time": "2025-05-15T16:25:46.522069",
     "exception": false,
     "start_time": "2025-05-15T16:25:46.497062",
     "status": "completed"
    },
    "tags": []
   },
   "outputs": [],
   "source": [
    "metrics_dict = dict(\n",
    "    BAS=balanced_accuracy_score(y_true=df_pred_test.y_true_code, y_pred=df_pred_test.y_pred), WF1=f1_score(y_true=df_pred_test.y_true_code, y_pred=df_pred_test.y_pred,average='weighted'))"
   ]
  },
  {
   "cell_type": "code",
   "execution_count": 26,
   "id": "56fd56c2",
   "metadata": {
    "execution": {
     "iopub.execute_input": "2025-05-15T16:25:46.556751Z",
     "iopub.status.busy": "2025-05-15T16:25:46.556404Z",
     "iopub.status.idle": "2025-05-15T16:25:46.559371Z",
     "shell.execute_reply": "2025-05-15T16:25:46.559055Z"
    },
    "papermill": {
     "duration": 0.013427,
     "end_time": "2025-05-15T16:25:46.560154",
     "exception": false,
     "start_time": "2025-05-15T16:25:46.546727",
     "status": "completed"
    },
    "tags": []
   },
   "outputs": [
    {
     "data": {
      "text/plain": [
       "{'BAS': 0.6388470882472985, 'WF1': 0.7954674428022588}"
      ]
     },
     "execution_count": 26,
     "metadata": {},
     "output_type": "execute_result"
    }
   ],
   "source": [
    "metrics_dict"
   ]
  },
  {
   "cell_type": "code",
   "execution_count": 27,
   "id": "d076a468",
   "metadata": {
    "execution": {
     "iopub.execute_input": "2025-05-15T16:25:46.593865Z",
     "iopub.status.busy": "2025-05-15T16:25:46.593462Z",
     "iopub.status.idle": "2025-05-15T16:25:46.601440Z",
     "shell.execute_reply": "2025-05-15T16:25:46.601139Z"
    },
    "papermill": {
     "duration": 0.017748,
     "end_time": "2025-05-15T16:25:46.602217",
     "exception": false,
     "start_time": "2025-05-15T16:25:46.584469",
     "status": "completed"
    },
    "tags": []
   },
   "outputs": [
    {
     "data": {
      "text/html": [
       "<div>\n",
       "<style scoped>\n",
       "    .dataframe tbody tr th:only-of-type {\n",
       "        vertical-align: middle;\n",
       "    }\n",
       "\n",
       "    .dataframe tbody tr th {\n",
       "        vertical-align: top;\n",
       "    }\n",
       "\n",
       "    .dataframe thead th {\n",
       "        text-align: right;\n",
       "    }\n",
       "</style>\n",
       "<table border=\"1\" class=\"dataframe\">\n",
       "  <thead>\n",
       "    <tr style=\"text-align: right;\">\n",
       "      <th></th>\n",
       "      <th>BAS</th>\n",
       "      <th>WF1</th>\n",
       "      <th>split_idx</th>\n",
       "      <th>gene_set_seed</th>\n",
       "      <th>cell_type</th>\n",
       "    </tr>\n",
       "  </thead>\n",
       "  <tbody>\n",
       "    <tr>\n",
       "      <th>0</th>\n",
       "      <td>0.638847</td>\n",
       "      <td>0.795467</td>\n",
       "      <td>0</td>\n",
       "      <td>13</td>\n",
       "      <td>T_CD4_NonNaive</td>\n",
       "    </tr>\n",
       "  </tbody>\n",
       "</table>\n",
       "</div>"
      ],
      "text/plain": [
       "        BAS       WF1  split_idx  gene_set_seed       cell_type\n",
       "0  0.638847  0.795467          0             13  T_CD4_NonNaive"
      ]
     },
     "execution_count": 27,
     "metadata": {},
     "output_type": "execute_result"
    }
   ],
   "source": [
    "metrics_df = pd.DataFrame.from_dict([metrics_dict]).assign(split_idx=TEST_SPLIT_IDX, gene_set_seed=SEED, cell_type=CELL_TYPE)\n",
    "metrics_df"
   ]
  },
  {
   "cell_type": "code",
   "execution_count": 28,
   "id": "7986244d",
   "metadata": {
    "execution": {
     "iopub.execute_input": "2025-05-15T16:25:46.632886Z",
     "iopub.status.busy": "2025-05-15T16:25:46.632709Z",
     "iopub.status.idle": "2025-05-15T16:25:46.641030Z",
     "shell.execute_reply": "2025-05-15T16:25:46.640671Z"
    },
    "papermill": {
     "duration": 0.031112,
     "end_time": "2025-05-15T16:25:46.641812",
     "exception": false,
     "start_time": "2025-05-15T16:25:46.610700",
     "status": "completed"
    },
    "tags": []
   },
   "outputs": [],
   "source": [
    "out_dir = here(f'03_downstream_analysis/08_gene_importance/xgboost_external_validation/xgboost_TopN_genes/results_{N_GENES}/metrics')\n",
    "\n",
    "if not os.path.exists(out_dir):\n",
    "    os.makedirs(out_dir)\n",
    "    \n",
    "metrics_df.to_csv(os.path.join(out_dir, f'{CELL_TYPE}_{SEED}_{TEST_SPLIT_IDX}_metrics.zip'))"
   ]
  }
 ],
 "metadata": {
  "kernelspec": {
   "display_name": "Python 3 (ipykernel)",
   "language": "python",
   "name": "python3"
  },
  "language_info": {
   "codemirror_mode": {
    "name": "ipython",
    "version": 3
   },
   "file_extension": ".py",
   "mimetype": "text/x-python",
   "name": "python",
   "nbconvert_exporter": "python",
   "pygments_lexer": "ipython3",
   "version": "3.12.5"
  },
  "papermill": {
   "default_parameters": {},
   "duration": 1363.541895,
   "end_time": "2025-05-15T16:25:47.266095",
   "environment_variables": {},
   "exception": null,
   "input_path": "02_xgboost_fitting_external_20genes.ipynb",
   "output_path": "results_20/executed_notebooks/xgboost_fitting_external_CT_T_CD4_NonNaive_GS_13_seed0.ipynb",
   "parameters": {
    "CELL_TYPE": "T_CD4_NonNaive",
    "SEED": 13,
    "TEST_SPLIT_IDX": 0
   },
   "start_time": "2025-05-15T16:03:03.724200",
   "version": "2.6.0"
  }
 },
 "nbformat": 4,
 "nbformat_minor": 5
}