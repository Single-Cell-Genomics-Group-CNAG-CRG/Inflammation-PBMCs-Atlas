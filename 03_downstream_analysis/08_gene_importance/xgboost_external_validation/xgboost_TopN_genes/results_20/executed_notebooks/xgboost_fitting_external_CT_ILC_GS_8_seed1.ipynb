{
 "cells": [
  {
   "cell_type": "code",
   "execution_count": 1,
   "id": "771fb7cd",
   "metadata": {
    "editable": true,
    "execution": {
     "iopub.execute_input": "2025-05-15T16:13:44.188848Z",
     "iopub.status.busy": "2025-05-15T16:13:44.188548Z",
     "iopub.status.idle": "2025-05-15T16:13:44.191616Z",
     "shell.execute_reply": "2025-05-15T16:13:44.191265Z"
    },
    "papermill": {
     "duration": 0.011829,
     "end_time": "2025-05-15T16:13:44.192687",
     "exception": false,
     "start_time": "2025-05-15T16:13:44.180858",
     "status": "completed"
    },
    "slideshow": {
     "slide_type": ""
    },
    "tags": [
     "parameters"
    ]
   },
   "outputs": [],
   "source": [
    "CELL_TYPE = 'pDC'\n",
    "N_GENES: int = 20\n",
    "SEED = 'shap_studyID' #'disease_NOstudy' 'study_NOdisease' or 'int' or 'shap_studyID'\n",
    "TEST_SPLIT_IDX: int = 1 #[0,4]"
   ]
  },
  {
   "cell_type": "code",
   "execution_count": 2,
   "id": "9af25474",
   "metadata": {
    "execution": {
     "iopub.execute_input": "2025-05-15T16:13:44.206265Z",
     "iopub.status.busy": "2025-05-15T16:13:44.206003Z",
     "iopub.status.idle": "2025-05-15T16:13:44.208413Z",
     "shell.execute_reply": "2025-05-15T16:13:44.208055Z"
    },
    "papermill": {
     "duration": 0.009862,
     "end_time": "2025-05-15T16:13:44.209363",
     "exception": false,
     "start_time": "2025-05-15T16:13:44.199501",
     "status": "completed"
    },
    "tags": [
     "injected-parameters"
    ]
   },
   "outputs": [],
   "source": [
    "# Parameters\n",
    "CELL_TYPE = \"ILC\"\n",
    "SEED = 8\n",
    "TEST_SPLIT_IDX = 1\n"
   ]
  },
  {
   "cell_type": "code",
   "execution_count": 3,
   "id": "da0b1bd6",
   "metadata": {
    "execution": {
     "iopub.execute_input": "2025-05-15T16:13:44.222702Z",
     "iopub.status.busy": "2025-05-15T16:13:44.222144Z",
     "iopub.status.idle": "2025-05-15T16:13:44.224524Z",
     "shell.execute_reply": "2025-05-15T16:13:44.224188Z"
    },
    "papermill": {
     "duration": 0.010534,
     "end_time": "2025-05-15T16:13:44.225499",
     "exception": false,
     "start_time": "2025-05-15T16:13:44.214965",
     "status": "completed"
    },
    "tags": []
   },
   "outputs": [],
   "source": [
    "N_SPLITS: int = 5\n",
    "N_TRIALS: int = 50"
   ]
  },
  {
   "cell_type": "code",
   "execution_count": 4,
   "id": "411c0b04",
   "metadata": {
    "execution": {
     "iopub.execute_input": "2025-05-15T16:13:44.240503Z",
     "iopub.status.busy": "2025-05-15T16:13:44.240086Z",
     "iopub.status.idle": "2025-05-15T16:13:46.235591Z",
     "shell.execute_reply": "2025-05-15T16:13:46.234988Z"
    },
    "papermill": {
     "duration": 2.005146,
     "end_time": "2025-05-15T16:13:46.237102",
     "exception": false,
     "start_time": "2025-05-15T16:13:44.231956",
     "status": "completed"
    },
    "tags": []
   },
   "outputs": [],
   "source": [
    "import os\n",
    "import sys\n",
    "from pyprojroot.here import here\n",
    "import pandas as pd\n",
    "import anndata as ad\n",
    "import numpy as np\n",
    "import math\n",
    "from sklearn.model_selection import StratifiedGroupKFold\n",
    "from sklearn.preprocessing import LabelEncoder\n",
    "from sklearn.metrics import f1_score\n",
    "import matplotlib.pyplot as plt\n",
    "import seaborn as sns\n",
    "from itertools import product\n",
    "from sklearn.metrics import balanced_accuracy_score, f1_score\n",
    "import optuna\n",
    "\n",
    "import joblib\n",
    "import pickle\n",
    "import datetime\n",
    "\n",
    "import collections\n",
    "\n",
    "import xgboost\n",
    "from sklearn.preprocessing import LabelEncoder\n",
    "\n",
    "import scipy.sparse as ssp\n",
    "import joblib\n",
    "\n",
    "from dotenv import load_dotenv"
   ]
  },
  {
   "cell_type": "code",
   "execution_count": 5,
   "id": "ff340793",
   "metadata": {
    "execution": {
     "iopub.execute_input": "2025-05-15T16:13:46.251134Z",
     "iopub.status.busy": "2025-05-15T16:13:46.250611Z",
     "iopub.status.idle": "2025-05-15T16:13:46.257945Z",
     "shell.execute_reply": "2025-05-15T16:13:46.257557Z"
    },
    "papermill": {
     "duration": 0.015495,
     "end_time": "2025-05-15T16:13:46.259022",
     "exception": false,
     "start_time": "2025-05-15T16:13:46.243527",
     "status": "completed"
    },
    "tags": []
   },
   "outputs": [
    {
     "data": {
      "text/plain": [
       "True"
      ]
     },
     "execution_count": 5,
     "metadata": {},
     "output_type": "execute_result"
    }
   ],
   "source": [
    "load_dotenv()"
   ]
  },
  {
   "cell_type": "markdown",
   "id": "3ea336cb",
   "metadata": {
    "papermill": {
     "duration": 0.006233,
     "end_time": "2025-05-15T16:13:46.271314",
     "exception": false,
     "start_time": "2025-05-15T16:13:46.265081",
     "status": "completed"
    },
    "tags": []
   },
   "source": [
    "# LOAD DATASET"
   ]
  },
  {
   "cell_type": "code",
   "execution_count": 6,
   "id": "c2e7576c",
   "metadata": {
    "execution": {
     "iopub.execute_input": "2025-05-15T16:13:46.286483Z",
     "iopub.status.busy": "2025-05-15T16:13:46.285919Z",
     "iopub.status.idle": "2025-05-15T16:13:46.568074Z",
     "shell.execute_reply": "2025-05-15T16:13:46.567564Z"
    },
    "papermill": {
     "duration": 0.290996,
     "end_time": "2025-05-15T16:13:46.569420",
     "exception": false,
     "start_time": "2025-05-15T16:13:46.278424",
     "status": "completed"
    },
    "tags": []
   },
   "outputs": [],
   "source": [
    "train_adata = ad.read_h5ad(\n",
    "    here(f'03_downstream_analysis/08_gene_importance/xgboost_external_validation/xgboost_TopN_genes/data_cellTypes/EXTERNAL_{CELL_TYPE}.filtered.log1p.h5ad')\n",
    ")"
   ]
  },
  {
   "cell_type": "code",
   "execution_count": 7,
   "id": "afe43c63",
   "metadata": {
    "execution": {
     "iopub.execute_input": "2025-05-15T16:13:46.582703Z",
     "iopub.status.busy": "2025-05-15T16:13:46.582416Z",
     "iopub.status.idle": "2025-05-15T16:13:46.603318Z",
     "shell.execute_reply": "2025-05-15T16:13:46.602866Z"
    },
    "papermill": {
     "duration": 0.028623,
     "end_time": "2025-05-15T16:13:46.604384",
     "exception": false,
     "start_time": "2025-05-15T16:13:46.575761",
     "status": "completed"
    },
    "tags": []
   },
   "outputs": [
    {
     "name": "stdout",
     "output_type": "stream",
     "text": [
      "['ENSG00000075234' 'ENSG00000205336' 'ENSG00000090554' 'ENSG00000119922'\n",
      " 'ENSG00000143761' 'ENSG00000177663' 'ENSG00000090382' 'ENSG00000197471'\n",
      " 'ENSG00000108639' 'ENSG00000101439' 'ENSG00000243646' 'ENSG00000085265'\n",
      " 'ENSG00000172183' 'ENSG00000127022' 'ENSG00000117450' 'ENSG00000101695'\n",
      " 'ENSG00000132912' 'ENSG00000143110' 'ENSG00000090266' 'ENSG00000172936'\n",
      " 'ENSG00000079616' 'ENSG00000134352' 'ENSG00000170296' 'ENSG00000104660'\n",
      " 'ENSG00000126524' 'ENSG00000164307' 'ENSG00000138378' 'ENSG00000114423'\n",
      " 'ENSG00000121966' 'ENSG00000104964' 'ENSG00000042753' 'ENSG00000197956'\n",
      " 'ENSG00000180644' 'ENSG00000109321' 'ENSG00000137441' 'ENSG00000142089'\n",
      " 'ENSG00000196961' 'ENSG00000115415' 'ENSG00000168685' 'ENSG00000019582'\n",
      " 'ENSG00000143575' 'ENSG00000179295' 'ENSG00000229474' 'ENSG00000170581'\n",
      " 'ENSG00000196154' 'ENSG00000275302' 'ENSG00000026025' 'ENSG00000100485'\n",
      " 'ENSG00000163508' 'ENSG00000168394' 'ENSG00000204264' 'ENSG00000186891'\n",
      " 'ENSG00000115604' 'ENSG00000069702' 'ENSG00000197872' 'ENSG00000198846'\n",
      " 'ENSG00000140379' 'ENSG00000015475' 'ENSG00000138674' 'ENSG00000134285'\n",
      " 'ENSG00000122862' 'ENSG00000100453' 'ENSG00000077984' 'ENSG00000197111'\n",
      " 'ENSG00000115607' 'ENSG00000175104' 'ENSG00000188404' 'ENSG00000120129'\n",
      " 'ENSG00000145912' 'ENSG00000189067' 'ENSG00000125743' 'ENSG00000105374'\n",
      " 'ENSG00000163191' 'ENSG00000243772' 'ENSG00000100906' 'ENSG00000160932'\n",
      " 'ENSG00000100100' 'ENSG00000118971' 'ENSG00000171791' 'ENSG00000111716'\n",
      " 'ENSG00000028137' 'ENSG00000120742' 'ENSG00000117020' 'ENSG00000135077'\n",
      " 'ENSG00000196396' 'ENSG00000198355' 'ENSG00000152234' 'ENSG00000132965'\n",
      " 'ENSG00000197540' 'ENSG00000104894' 'ENSG00000164104' 'ENSG00000100385'\n",
      " 'ENSG00000091409' 'ENSG00000099204' 'ENSG00000197102' 'ENSG00000130429'\n",
      " 'ENSG00000007264' 'ENSG00000132510' 'ENSG00000165732' 'ENSG00000162739']\n"
     ]
    }
   ],
   "source": [
    "if SEED != 'all':\n",
    "    gene_subset = np.load(here(f'03_downstream_analysis/08_gene_importance/xgboost_external_validation/shap_gene_selection/gene_subsets_{N_GENES}/{CELL_TYPE}_{SEED}.npy'), allow_pickle=True)\n",
    "    train_adata = train_adata[:,gene_subset]\n",
    "    print(gene_subset)\n",
    "elif SEED == 'all':\n",
    "    print('Using all genes')\n",
    "else:\n",
    "    raise ValueError()"
   ]
  },
  {
   "cell_type": "code",
   "execution_count": 8,
   "id": "8b6149f2",
   "metadata": {
    "execution": {
     "iopub.execute_input": "2025-05-15T16:13:46.620119Z",
     "iopub.status.busy": "2025-05-15T16:13:46.619804Z",
     "iopub.status.idle": "2025-05-15T16:13:46.623490Z",
     "shell.execute_reply": "2025-05-15T16:13:46.623136Z"
    },
    "papermill": {
     "duration": 0.012172,
     "end_time": "2025-05-15T16:13:46.624456",
     "exception": false,
     "start_time": "2025-05-15T16:13:46.612284",
     "status": "completed"
    },
    "tags": []
   },
   "outputs": [
    {
     "data": {
      "text/plain": [
       "(36633, 100)"
      ]
     },
     "execution_count": 8,
     "metadata": {},
     "output_type": "execute_result"
    }
   ],
   "source": [
    "train_adata.shape"
   ]
  },
  {
   "cell_type": "code",
   "execution_count": 9,
   "id": "489bb573",
   "metadata": {
    "execution": {
     "iopub.execute_input": "2025-05-15T16:13:46.639235Z",
     "iopub.status.busy": "2025-05-15T16:13:46.638756Z",
     "iopub.status.idle": "2025-05-15T16:13:46.643845Z",
     "shell.execute_reply": "2025-05-15T16:13:46.643218Z"
    },
    "papermill": {
     "duration": 0.013763,
     "end_time": "2025-05-15T16:13:46.644845",
     "exception": false,
     "start_time": "2025-05-15T16:13:46.631082",
     "status": "completed"
    },
    "tags": []
   },
   "outputs": [
    {
     "data": {
      "text/plain": [
       "['RA', 'COVID', 'healthy', 'HIV', 'cirrhosis', 'CD', 'SLE', 'sepsis']\n",
       "Categories (8, object): ['CD', 'COVID', 'HIV', 'RA', 'SLE', 'cirrhosis', 'healthy', 'sepsis']"
      ]
     },
     "execution_count": 9,
     "metadata": {},
     "output_type": "execute_result"
    }
   ],
   "source": [
    "train_adata.obs.disease.unique()"
   ]
  },
  {
   "cell_type": "code",
   "execution_count": 10,
   "id": "dada64d8",
   "metadata": {
    "execution": {
     "iopub.execute_input": "2025-05-15T16:13:46.658336Z",
     "iopub.status.busy": "2025-05-15T16:13:46.658056Z",
     "iopub.status.idle": "2025-05-15T16:13:46.663026Z",
     "shell.execute_reply": "2025-05-15T16:13:46.662673Z"
    },
    "papermill": {
     "duration": 0.012752,
     "end_time": "2025-05-15T16:13:46.664001",
     "exception": false,
     "start_time": "2025-05-15T16:13:46.651249",
     "status": "completed"
    },
    "tags": []
   },
   "outputs": [
    {
     "data": {
      "text/plain": [
       "['SCGT00val_I036024_T0', 'SCGT00val_I036016_T0', 'SCGT00val_I036023_T0', 'SCGT00val_I036021_T0', 'SCGT00val_I036028_T0', ..., '10XGenomics_10XHC2_T0', '10XGenomics_10XHC3_T0', '10XGenomics_10XHC5_T0', '10XGenomics_10XHC7_T0', '10XGenomics_10XHC8_T0']\n",
       "Length: 86\n",
       "Categories (86, object): ['10XGenomics_10XHC1_T0', '10XGenomics_10XHC2_T0', '10XGenomics_10XHC3_T0', '10XGenomics_10XHC4_T0', ..., 'Savage2021_BRISL6_T0', 'Savage2021_BRISL7_T0', 'Savage2021_PIDA_T0', 'Savage2021_PIDB_T0']"
      ]
     },
     "execution_count": 10,
     "metadata": {},
     "output_type": "execute_result"
    }
   ],
   "source": [
    "train_adata.obs.sampleID.unique()"
   ]
  },
  {
   "cell_type": "code",
   "execution_count": 11,
   "id": "4e961664",
   "metadata": {
    "execution": {
     "iopub.execute_input": "2025-05-15T16:13:46.684673Z",
     "iopub.status.busy": "2025-05-15T16:13:46.684403Z",
     "iopub.status.idle": "2025-05-15T16:13:46.807948Z",
     "shell.execute_reply": "2025-05-15T16:13:46.807547Z"
    },
    "papermill": {
     "duration": 0.131681,
     "end_time": "2025-05-15T16:13:46.809013",
     "exception": false,
     "start_time": "2025-05-15T16:13:46.677332",
     "status": "completed"
    },
    "tags": []
   },
   "outputs": [],
   "source": [
    "all_idxs = np.arange(train_adata.obs.shape[0])\n",
    "left_out_splits = [s[1] for s in StratifiedGroupKFold(n_splits=N_SPLITS).split(all_idxs, train_adata.obs.disease, train_adata.obs.sampleID)]"
   ]
  },
  {
   "cell_type": "code",
   "execution_count": 12,
   "id": "dd5076d3",
   "metadata": {
    "execution": {
     "iopub.execute_input": "2025-05-15T16:13:46.821744Z",
     "iopub.status.busy": "2025-05-15T16:13:46.821540Z",
     "iopub.status.idle": "2025-05-15T16:13:46.825079Z",
     "shell.execute_reply": "2025-05-15T16:13:46.824752Z"
    },
    "papermill": {
     "duration": 0.010767,
     "end_time": "2025-05-15T16:13:46.825936",
     "exception": false,
     "start_time": "2025-05-15T16:13:46.815169",
     "status": "completed"
    },
    "tags": []
   },
   "outputs": [
    {
     "data": {
      "text/plain": [
       "([0, 3, 4], 2, 1)"
      ]
     },
     "execution_count": 12,
     "metadata": {},
     "output_type": "execute_result"
    }
   ],
   "source": [
    "TRAIN_SPLIT_IDXS = [0,1,2,3,4]\n",
    "VAL_SPLIT_IDX = (TEST_SPLIT_IDX + 1) % 5\n",
    "TRAIN_SPLIT_IDXS.remove(TEST_SPLIT_IDX)\n",
    "TRAIN_SPLIT_IDXS.remove(VAL_SPLIT_IDX)\n",
    "TRAIN_SPLIT_IDXS, VAL_SPLIT_IDX, TEST_SPLIT_IDX"
   ]
  },
  {
   "cell_type": "code",
   "execution_count": 13,
   "id": "c623189b",
   "metadata": {
    "execution": {
     "iopub.execute_input": "2025-05-15T16:13:46.853747Z",
     "iopub.status.busy": "2025-05-15T16:13:46.853539Z",
     "iopub.status.idle": "2025-05-15T16:13:46.856223Z",
     "shell.execute_reply": "2025-05-15T16:13:46.855888Z"
    },
    "papermill": {
     "duration": 0.011361,
     "end_time": "2025-05-15T16:13:46.857103",
     "exception": false,
     "start_time": "2025-05-15T16:13:46.845742",
     "status": "completed"
    },
    "tags": []
   },
   "outputs": [],
   "source": [
    "train_idxs = np.concatenate([left_out_splits[idx] for idx in TRAIN_SPLIT_IDXS])\n",
    "val_idxs = left_out_splits[VAL_SPLIT_IDX]\n",
    "test_idxs = left_out_splits[TEST_SPLIT_IDX]"
   ]
  },
  {
   "cell_type": "markdown",
   "id": "4fa33ed2",
   "metadata": {
    "papermill": {
     "duration": 0.005813,
     "end_time": "2025-05-15T16:13:46.868485",
     "exception": false,
     "start_time": "2025-05-15T16:13:46.862672",
     "status": "completed"
    },
    "tags": []
   },
   "source": [
    "### SUBSET DATASET INTO TRAIN/TEST/VAL SPLITS"
   ]
  },
  {
   "cell_type": "code",
   "execution_count": 14,
   "id": "1528dc26",
   "metadata": {
    "execution": {
     "iopub.execute_input": "2025-05-15T16:13:46.882088Z",
     "iopub.status.busy": "2025-05-15T16:13:46.881665Z",
     "iopub.status.idle": "2025-05-15T16:13:46.981962Z",
     "shell.execute_reply": "2025-05-15T16:13:46.981577Z"
    },
    "papermill": {
     "duration": 0.108409,
     "end_time": "2025-05-15T16:13:46.982970",
     "exception": false,
     "start_time": "2025-05-15T16:13:46.874561",
     "status": "completed"
    },
    "tags": []
   },
   "outputs": [
    {
     "data": {
      "text/plain": [
       "((22023, 100), (7160, 100), (7450, 100))"
      ]
     },
     "execution_count": 14,
     "metadata": {},
     "output_type": "execute_result"
    }
   ],
   "source": [
    "X_train = train_adata.X[train_idxs]\n",
    "X_test = train_adata.X[test_idxs]\n",
    "X_val = train_adata.X[val_idxs]\n",
    "X_train.shape, X_test.shape, X_val.shape"
   ]
  },
  {
   "cell_type": "code",
   "execution_count": 15,
   "id": "86150ed2",
   "metadata": {
    "execution": {
     "iopub.execute_input": "2025-05-15T16:13:46.997343Z",
     "iopub.status.busy": "2025-05-15T16:13:46.997027Z",
     "iopub.status.idle": "2025-05-15T16:13:47.006705Z",
     "shell.execute_reply": "2025-05-15T16:13:47.006290Z"
    },
    "papermill": {
     "duration": 0.017867,
     "end_time": "2025-05-15T16:13:47.007689",
     "exception": false,
     "start_time": "2025-05-15T16:13:46.989822",
     "status": "completed"
    },
    "tags": []
   },
   "outputs": [
    {
     "data": {
      "text/plain": [
       "((22023,), (7160,), (7450,))"
      ]
     },
     "execution_count": 15,
     "metadata": {},
     "output_type": "execute_result"
    }
   ],
   "source": [
    "y_train = train_adata.obs.iloc[train_idxs].disease.values.astype(str)\n",
    "y_test = train_adata.obs.iloc[test_idxs].disease.values.astype(str)\n",
    "y_val = train_adata.obs.iloc[val_idxs].disease.values.astype(str)\n",
    "y_train.shape, y_test.shape, y_val.shape"
   ]
  },
  {
   "cell_type": "code",
   "execution_count": 16,
   "id": "af373cc1",
   "metadata": {
    "execution": {
     "iopub.execute_input": "2025-05-15T16:13:47.022085Z",
     "iopub.status.busy": "2025-05-15T16:13:47.021770Z",
     "iopub.status.idle": "2025-05-15T16:13:47.034598Z",
     "shell.execute_reply": "2025-05-15T16:13:47.034039Z"
    },
    "papermill": {
     "duration": 0.021294,
     "end_time": "2025-05-15T16:13:47.035629",
     "exception": false,
     "start_time": "2025-05-15T16:13:47.014335",
     "status": "completed"
    },
    "tags": []
   },
   "outputs": [],
   "source": [
    "lenc = LabelEncoder()\n",
    "y_train_enc = lenc.fit_transform(y_train)\n",
    "y_val_enc = lenc.transform(y_val)\n",
    "y_test_enc = lenc.transform(y_test)"
   ]
  },
  {
   "cell_type": "markdown",
   "id": "c3792836",
   "metadata": {
    "papermill": {
     "duration": 0.006381,
     "end_time": "2025-05-15T16:13:47.048610",
     "exception": false,
     "start_time": "2025-05-15T16:13:47.042229",
     "status": "completed"
    },
    "tags": []
   },
   "source": [
    "### GENERATE F1 "
   ]
  },
  {
   "cell_type": "code",
   "execution_count": 17,
   "id": "a4d604a0",
   "metadata": {
    "execution": {
     "iopub.execute_input": "2025-05-15T16:13:47.062571Z",
     "iopub.status.busy": "2025-05-15T16:13:47.062293Z",
     "iopub.status.idle": "2025-05-15T16:13:47.065259Z",
     "shell.execute_reply": "2025-05-15T16:13:47.064907Z"
    },
    "papermill": {
     "duration": 0.011108,
     "end_time": "2025-05-15T16:13:47.066215",
     "exception": false,
     "start_time": "2025-05-15T16:13:47.055107",
     "status": "completed"
    },
    "tags": []
   },
   "outputs": [],
   "source": [
    "def custom_f1_score(y_true, y_pred):\n",
    "    return -f1_score(y_true, y_pred.argmax(1), average='weighted')"
   ]
  },
  {
   "cell_type": "code",
   "execution_count": 18,
   "id": "97b19e85",
   "metadata": {
    "execution": {
     "iopub.execute_input": "2025-05-15T16:13:47.080235Z",
     "iopub.status.busy": "2025-05-15T16:13:47.079770Z",
     "iopub.status.idle": "2025-05-15T16:13:47.084015Z",
     "shell.execute_reply": "2025-05-15T16:13:47.083626Z"
    },
    "papermill": {
     "duration": 0.012183,
     "end_time": "2025-05-15T16:13:47.084938",
     "exception": false,
     "start_time": "2025-05-15T16:13:47.072755",
     "status": "completed"
    },
    "tags": []
   },
   "outputs": [],
   "source": [
    "eval_metric=custom_f1_score\n",
    "eval_metric_name='custom_f1_score'\n",
    "\n",
    "def objective(trial):\n",
    "    params = {\n",
    "        'n_estimators': 1500,\n",
    "        'max_depth': trial.suggest_int('max_depth', 3, 20),\n",
    "        'min_child_weight': trial.suggest_int('min_child_weight', 1, 250),\n",
    "        'subsample': trial.suggest_float('subsample', 0.1, 1.0),\n",
    "        'colsample_bynode': trial.suggest_float('colsample_bynode', 0.1, 1.0),\n",
    "        'learning_rate': trial.suggest_float('learning_rate', 1e-3, 5e-1, log=True),\n",
    "    }\n",
    "    pruning_callback = optuna.integration.XGBoostPruningCallback(trial, f'validation_0-{eval_metric_name}')\n",
    "    es_callback = xgboost.callback.EarlyStopping(20, min_delta=0.001)\n",
    "    xgb = xgboost.XGBClassifier(\n",
    "        eval_metric=eval_metric,\n",
    "        callbacks=[pruning_callback, es_callback],\n",
    "        n_jobs=5,\n",
    "        **params\n",
    "    )\n",
    "    xgb.fit(\n",
    "        X_train, \n",
    "        y_train_enc, \n",
    "        verbose=0,\n",
    "        eval_set=[(X_val, y_val_enc)],\n",
    "    )\n",
    "    trial.set_user_attr('best_iteration', xgb.best_iteration)\n",
    "\n",
    "    return xgb.best_score"
   ]
  },
  {
   "cell_type": "code",
   "execution_count": 19,
   "id": "999153ef",
   "metadata": {
    "execution": {
     "iopub.execute_input": "2025-05-15T16:13:47.098532Z",
     "iopub.status.busy": "2025-05-15T16:13:47.098065Z",
     "iopub.status.idle": "2025-05-15T16:17:26.064912Z",
     "shell.execute_reply": "2025-05-15T16:17:26.064424Z"
    },
    "papermill": {
     "duration": 218.974941,
     "end_time": "2025-05-15T16:17:26.066166",
     "exception": false,
     "start_time": "2025-05-15T16:13:47.091225",
     "status": "completed"
    },
    "scrolled": true,
    "tags": []
   },
   "outputs": [
    {
     "name": "stderr",
     "output_type": "stream",
     "text": [
      "[I 2025-05-15 18:13:47,100] A new study created in memory with name: no-name-f894d461-2327-421a-8a52-a51353db1d7f\n"
     ]
    },
    {
     "name": "stderr",
     "output_type": "stream",
     "text": [
      "[I 2025-05-15 18:13:57,733] Trial 0 finished with value: -0.535667 and parameters: {'max_depth': 9, 'min_child_weight': 238, 'subsample': 0.7587945476302645, 'colsample_bynode': 0.6387926357773329, 'learning_rate': 0.0026368755339723046}. Best is trial 0 with value: -0.535667.\n"
     ]
    },
    {
     "name": "stderr",
     "output_type": "stream",
     "text": [
      "[I 2025-05-15 18:14:08,542] Trial 1 finished with value: -0.680208 and parameters: {'max_depth': 5, 'min_child_weight': 15, 'subsample': 0.8795585311974417, 'colsample_bynode': 0.6410035105688879, 'learning_rate': 0.08148293210105287}. Best is trial 1 with value: -0.680208.\n"
     ]
    },
    {
     "name": "stderr",
     "output_type": "stream",
     "text": [
      "[I 2025-05-15 18:14:09,892] Trial 2 finished with value: -0.495692 and parameters: {'max_depth': 3, 'min_child_weight': 243, 'subsample': 0.8491983767203796, 'colsample_bynode': 0.29110519961044856, 'learning_rate': 0.003095566460242371}. Best is trial 1 with value: -0.680208.\n"
     ]
    },
    {
     "name": "stderr",
     "output_type": "stream",
     "text": [
      "[I 2025-05-15 18:14:45,717] Trial 3 finished with value: -0.637643 and parameters: {'max_depth': 6, 'min_child_weight': 77, 'subsample': 0.5722807884690141, 'colsample_bynode': 0.48875051677790415, 'learning_rate': 0.006109683510122491}. Best is trial 1 with value: -0.680208.\n"
     ]
    },
    {
     "name": "stderr",
     "output_type": "stream",
     "text": [
      "[I 2025-05-15 18:15:13,433] Trial 4 finished with value: -0.672838 and parameters: {'max_depth': 14, 'min_child_weight': 35, 'subsample': 0.3629301836816964, 'colsample_bynode': 0.4297256589643226, 'learning_rate': 0.01701841881702917}. Best is trial 1 with value: -0.680208.\n"
     ]
    },
    {
     "name": "stderr",
     "output_type": "stream",
     "text": [
      "[I 2025-05-15 18:15:16,491] Trial 5 pruned. Trial was pruned at iteration 29.\n"
     ]
    },
    {
     "name": "stderr",
     "output_type": "stream",
     "text": [
      "[I 2025-05-15 18:15:16,729] Trial 6 pruned. Trial was pruned at iteration 0.\n"
     ]
    },
    {
     "name": "stderr",
     "output_type": "stream",
     "text": [
      "[I 2025-05-15 18:15:16,939] Trial 7 pruned. Trial was pruned at iteration 0.\n"
     ]
    },
    {
     "name": "stderr",
     "output_type": "stream",
     "text": [
      "[I 2025-05-15 18:15:17,133] Trial 8 pruned. Trial was pruned at iteration 0.\n"
     ]
    },
    {
     "name": "stderr",
     "output_type": "stream",
     "text": [
      "[I 2025-05-15 18:15:19,509] Trial 9 pruned. Trial was pruned at iteration 27.\n"
     ]
    },
    {
     "name": "stderr",
     "output_type": "stream",
     "text": [
      "[I 2025-05-15 18:15:27,770] Trial 10 finished with value: -0.68047 and parameters: {'max_depth': 9, 'min_child_weight': 2, 'subsample': 0.9725833997090791, 'colsample_bynode': 0.11616568805333755, 'learning_rate': 0.17780618353487967}. Best is trial 10 with value: -0.68047.\n"
     ]
    },
    {
     "name": "stderr",
     "output_type": "stream",
     "text": [
      "[I 2025-05-15 18:15:42,673] Trial 11 finished with value: -0.684198 and parameters: {'max_depth': 9, 'min_child_weight': 4, 'subsample': 0.9818290990185045, 'colsample_bynode': 0.17702656156719, 'learning_rate': 0.11568531411766632}. Best is trial 11 with value: -0.684198.\n"
     ]
    },
    {
     "name": "stderr",
     "output_type": "stream",
     "text": [
      "[I 2025-05-15 18:15:57,192] Trial 12 finished with value: -0.684917 and parameters: {'max_depth': 9, 'min_child_weight': 2, 'subsample': 0.9762317723681219, 'colsample_bynode': 0.1303670507685675, 'learning_rate': 0.14353293664472047}. Best is trial 12 with value: -0.684917.\n"
     ]
    },
    {
     "name": "stderr",
     "output_type": "stream",
     "text": [
      "[I 2025-05-15 18:15:57,410] Trial 13 pruned. Trial was pruned at iteration 0.\n"
     ]
    },
    {
     "name": "stderr",
     "output_type": "stream",
     "text": [
      "[I 2025-05-15 18:15:57,823] Trial 14 pruned. Trial was pruned at iteration 3.\n"
     ]
    },
    {
     "name": "stderr",
     "output_type": "stream",
     "text": [
      "[I 2025-05-15 18:16:14,386] Trial 15 finished with value: -0.678833 and parameters: {'max_depth': 20, 'min_child_weight': 1, 'subsample': 0.7300199336663715, 'colsample_bynode': 0.2687793682900305, 'learning_rate': 0.46839194821741}. Best is trial 12 with value: -0.684917.\n"
     ]
    },
    {
     "name": "stderr",
     "output_type": "stream",
     "text": [
      "[I 2025-05-15 18:16:14,631] Trial 16 pruned. Trial was pruned at iteration 0.\n"
     ]
    },
    {
     "name": "stderr",
     "output_type": "stream",
     "text": [
      "[I 2025-05-15 18:16:14,839] Trial 17 pruned. Trial was pruned at iteration 0.\n"
     ]
    },
    {
     "name": "stderr",
     "output_type": "stream",
     "text": [
      "[I 2025-05-15 18:16:15,114] Trial 18 pruned. Trial was pruned at iteration 0.\n"
     ]
    },
    {
     "name": "stderr",
     "output_type": "stream",
     "text": [
      "[I 2025-05-15 18:16:15,358] Trial 19 pruned. Trial was pruned at iteration 0.\n"
     ]
    },
    {
     "name": "stderr",
     "output_type": "stream",
     "text": [
      "[I 2025-05-15 18:16:21,365] Trial 20 finished with value: -0.684677 and parameters: {'max_depth': 7, 'min_child_weight': 23, 'subsample': 0.6483339605894612, 'colsample_bynode': 0.46764670662958435, 'learning_rate': 0.256275891626007}. Best is trial 12 with value: -0.684917.\n"
     ]
    },
    {
     "name": "stderr",
     "output_type": "stream",
     "text": [
      "[I 2025-05-15 18:16:21,570] Trial 21 pruned. Trial was pruned at iteration 0.\n"
     ]
    },
    {
     "name": "stderr",
     "output_type": "stream",
     "text": [
      "[I 2025-05-15 18:16:21,804] Trial 22 pruned. Trial was pruned at iteration 0.\n"
     ]
    },
    {
     "name": "stderr",
     "output_type": "stream",
     "text": [
      "[I 2025-05-15 18:16:24,617] Trial 23 pruned. Trial was pruned at iteration 27.\n"
     ]
    },
    {
     "name": "stderr",
     "output_type": "stream",
     "text": [
      "[I 2025-05-15 18:16:24,840] Trial 24 pruned. Trial was pruned at iteration 0.\n"
     ]
    },
    {
     "name": "stderr",
     "output_type": "stream",
     "text": [
      "[I 2025-05-15 18:16:25,078] Trial 25 pruned. Trial was pruned at iteration 0.\n"
     ]
    },
    {
     "name": "stderr",
     "output_type": "stream",
     "text": [
      "[I 2025-05-15 18:16:32,528] Trial 26 finished with value: -0.681625 and parameters: {'max_depth': 10, 'min_child_weight': 23, 'subsample': 0.4861251112150538, 'colsample_bynode': 0.8348817412094831, 'learning_rate': 0.2382945561669217}. Best is trial 12 with value: -0.684917.\n"
     ]
    },
    {
     "name": "stderr",
     "output_type": "stream",
     "text": [
      "[I 2025-05-15 18:16:32,765] Trial 27 pruned. Trial was pruned at iteration 0.\n"
     ]
    },
    {
     "name": "stderr",
     "output_type": "stream",
     "text": [
      "[I 2025-05-15 18:16:32,996] Trial 28 pruned. Trial was pruned at iteration 0.\n"
     ]
    },
    {
     "name": "stderr",
     "output_type": "stream",
     "text": [
      "[I 2025-05-15 18:16:33,229] Trial 29 pruned. Trial was pruned at iteration 0.\n"
     ]
    },
    {
     "name": "stderr",
     "output_type": "stream",
     "text": [
      "[I 2025-05-15 18:16:33,484] Trial 30 pruned. Trial was pruned at iteration 0.\n"
     ]
    },
    {
     "name": "stderr",
     "output_type": "stream",
     "text": [
      "[I 2025-05-15 18:16:33,786] Trial 31 pruned. Trial was pruned at iteration 0.\n"
     ]
    },
    {
     "name": "stderr",
     "output_type": "stream",
     "text": [
      "[I 2025-05-15 18:16:34,056] Trial 32 pruned. Trial was pruned at iteration 0.\n"
     ]
    },
    {
     "name": "stderr",
     "output_type": "stream",
     "text": [
      "[I 2025-05-15 18:16:34,312] Trial 33 pruned. Trial was pruned at iteration 0.\n"
     ]
    },
    {
     "name": "stderr",
     "output_type": "stream",
     "text": [
      "[I 2025-05-15 18:16:34,630] Trial 34 pruned. Trial was pruned at iteration 0.\n"
     ]
    },
    {
     "name": "stderr",
     "output_type": "stream",
     "text": [
      "[I 2025-05-15 18:16:34,849] Trial 35 pruned. Trial was pruned at iteration 0.\n"
     ]
    },
    {
     "name": "stderr",
     "output_type": "stream",
     "text": [
      "[I 2025-05-15 18:16:35,085] Trial 36 pruned. Trial was pruned at iteration 0.\n"
     ]
    },
    {
     "name": "stderr",
     "output_type": "stream",
     "text": [
      "[I 2025-05-15 18:16:36,365] Trial 37 pruned. Trial was pruned at iteration 4.\n"
     ]
    },
    {
     "name": "stderr",
     "output_type": "stream",
     "text": [
      "[I 2025-05-15 18:16:36,617] Trial 38 pruned. Trial was pruned at iteration 0.\n"
     ]
    },
    {
     "name": "stderr",
     "output_type": "stream",
     "text": [
      "[I 2025-05-15 18:16:36,901] Trial 39 pruned. Trial was pruned at iteration 0.\n"
     ]
    },
    {
     "name": "stderr",
     "output_type": "stream",
     "text": [
      "[I 2025-05-15 18:16:37,138] Trial 40 pruned. Trial was pruned at iteration 0.\n"
     ]
    },
    {
     "name": "stderr",
     "output_type": "stream",
     "text": [
      "[I 2025-05-15 18:16:49,535] Trial 41 finished with value: -0.683706 and parameters: {'max_depth': 9, 'min_child_weight': 2, 'subsample': 0.9371491392231596, 'colsample_bynode': 0.16044099901520706, 'learning_rate': 0.17624579405526206}. Best is trial 12 with value: -0.684917.\n"
     ]
    },
    {
     "name": "stderr",
     "output_type": "stream",
     "text": [
      "[I 2025-05-15 18:17:00,042] Trial 42 finished with value: -0.688281 and parameters: {'max_depth': 9, 'min_child_weight': 8, 'subsample': 0.9199849799348199, 'colsample_bynode': 0.14559660418698747, 'learning_rate': 0.22151097647169993}. Best is trial 42 with value: -0.688281.\n"
     ]
    },
    {
     "name": "stderr",
     "output_type": "stream",
     "text": [
      "[I 2025-05-15 18:17:08,331] Trial 43 finished with value: -0.689796 and parameters: {'max_depth': 9, 'min_child_weight': 11, 'subsample': 0.9169536093078783, 'colsample_bynode': 0.15026529384405907, 'learning_rate': 0.3848135890944952}. Best is trial 43 with value: -0.689796.\n"
     ]
    },
    {
     "name": "stderr",
     "output_type": "stream",
     "text": [
      "[I 2025-05-15 18:17:08,662] Trial 44 pruned. Trial was pruned at iteration 1.\n"
     ]
    },
    {
     "name": "stderr",
     "output_type": "stream",
     "text": [
      "[I 2025-05-15 18:17:13,218] Trial 45 pruned. Trial was pruned at iteration 57.\n"
     ]
    },
    {
     "name": "stderr",
     "output_type": "stream",
     "text": [
      "[I 2025-05-15 18:17:13,617] Trial 46 pruned. Trial was pruned at iteration 1.\n"
     ]
    },
    {
     "name": "stderr",
     "output_type": "stream",
     "text": [
      "[I 2025-05-15 18:17:13,848] Trial 47 pruned. Trial was pruned at iteration 0.\n"
     ]
    },
    {
     "name": "stderr",
     "output_type": "stream",
     "text": [
      "[I 2025-05-15 18:17:14,141] Trial 48 pruned. Trial was pruned at iteration 0.\n"
     ]
    },
    {
     "name": "stderr",
     "output_type": "stream",
     "text": [
      "[I 2025-05-15 18:17:25,972] Trial 49 pruned. Trial was pruned at iteration 36.\n"
     ]
    }
   ],
   "source": [
    "sampler = optuna.samplers.TPESampler(seed=42)\n",
    "study = optuna.create_study(direction='minimize', sampler=sampler)\n",
    "study.optimize(objective, n_trials=N_TRIALS, gc_after_trial=True)"
   ]
  },
  {
   "cell_type": "code",
   "execution_count": 20,
   "id": "352737d3",
   "metadata": {
    "execution": {
     "iopub.execute_input": "2025-05-15T16:17:26.085600Z",
     "iopub.status.busy": "2025-05-15T16:17:26.085391Z",
     "iopub.status.idle": "2025-05-15T16:17:26.110124Z",
     "shell.execute_reply": "2025-05-15T16:17:26.109774Z"
    },
    "papermill": {
     "duration": 0.035281,
     "end_time": "2025-05-15T16:17:26.111033",
     "exception": false,
     "start_time": "2025-05-15T16:17:26.075752",
     "status": "completed"
    },
    "tags": []
   },
   "outputs": [
    {
     "data": {
      "text/plain": [
       "['/scratch_isilon/groups/singlecell/shared/projects/Inflammation-PBMCs-Atlas/03_downstream_analysis/08_gene_importance/xgboost_external_validation/xgboost_TopN_genes/results_20/study/ILC_8_1_xgboost.pkl']"
      ]
     },
     "execution_count": 20,
     "metadata": {},
     "output_type": "execute_result"
    }
   ],
   "source": [
    "out_dir = here(f'03_downstream_analysis/08_gene_importance/xgboost_external_validation/xgboost_TopN_genes/results_{N_GENES}/study')\n",
    "\n",
    "if not os.path.exists(out_dir):\n",
    "    os.makedirs(out_dir)\n",
    "    \n",
    "joblib.dump(study,os.path.join(out_dir, f'{CELL_TYPE}_{SEED}_{TEST_SPLIT_IDX}_xgboost.pkl'))"
   ]
  },
  {
   "cell_type": "code",
   "execution_count": 21,
   "id": "e77e4ff6",
   "metadata": {
    "execution": {
     "iopub.execute_input": "2025-05-15T16:17:26.129198Z",
     "iopub.status.busy": "2025-05-15T16:17:26.128743Z",
     "iopub.status.idle": "2025-05-15T16:17:31.722991Z",
     "shell.execute_reply": "2025-05-15T16:17:31.722625Z"
    },
    "papermill": {
     "duration": 5.604383,
     "end_time": "2025-05-15T16:17:31.724079",
     "exception": false,
     "start_time": "2025-05-15T16:17:26.119696",
     "status": "completed"
    },
    "tags": []
   },
   "outputs": [
    {
     "data": {
      "text/html": [
       "<style>#sk-container-id-1 {\n",
       "  /* Definition of color scheme common for light and dark mode */\n",
       "  --sklearn-color-text: black;\n",
       "  --sklearn-color-line: gray;\n",
       "  /* Definition of color scheme for unfitted estimators */\n",
       "  --sklearn-color-unfitted-level-0: #fff5e6;\n",
       "  --sklearn-color-unfitted-level-1: #f6e4d2;\n",
       "  --sklearn-color-unfitted-level-2: #ffe0b3;\n",
       "  --sklearn-color-unfitted-level-3: chocolate;\n",
       "  /* Definition of color scheme for fitted estimators */\n",
       "  --sklearn-color-fitted-level-0: #f0f8ff;\n",
       "  --sklearn-color-fitted-level-1: #d4ebff;\n",
       "  --sklearn-color-fitted-level-2: #b3dbfd;\n",
       "  --sklearn-color-fitted-level-3: cornflowerblue;\n",
       "\n",
       "  /* Specific color for light theme */\n",
       "  --sklearn-color-text-on-default-background: var(--sg-text-color, var(--theme-code-foreground, var(--jp-content-font-color1, black)));\n",
       "  --sklearn-color-background: var(--sg-background-color, var(--theme-background, var(--jp-layout-color0, white)));\n",
       "  --sklearn-color-border-box: var(--sg-text-color, var(--theme-code-foreground, var(--jp-content-font-color1, black)));\n",
       "  --sklearn-color-icon: #696969;\n",
       "\n",
       "  @media (prefers-color-scheme: dark) {\n",
       "    /* Redefinition of color scheme for dark theme */\n",
       "    --sklearn-color-text-on-default-background: var(--sg-text-color, var(--theme-code-foreground, var(--jp-content-font-color1, white)));\n",
       "    --sklearn-color-background: var(--sg-background-color, var(--theme-background, var(--jp-layout-color0, #111)));\n",
       "    --sklearn-color-border-box: var(--sg-text-color, var(--theme-code-foreground, var(--jp-content-font-color1, white)));\n",
       "    --sklearn-color-icon: #878787;\n",
       "  }\n",
       "}\n",
       "\n",
       "#sk-container-id-1 {\n",
       "  color: var(--sklearn-color-text);\n",
       "}\n",
       "\n",
       "#sk-container-id-1 pre {\n",
       "  padding: 0;\n",
       "}\n",
       "\n",
       "#sk-container-id-1 input.sk-hidden--visually {\n",
       "  border: 0;\n",
       "  clip: rect(1px 1px 1px 1px);\n",
       "  clip: rect(1px, 1px, 1px, 1px);\n",
       "  height: 1px;\n",
       "  margin: -1px;\n",
       "  overflow: hidden;\n",
       "  padding: 0;\n",
       "  position: absolute;\n",
       "  width: 1px;\n",
       "}\n",
       "\n",
       "#sk-container-id-1 div.sk-dashed-wrapped {\n",
       "  border: 1px dashed var(--sklearn-color-line);\n",
       "  margin: 0 0.4em 0.5em 0.4em;\n",
       "  box-sizing: border-box;\n",
       "  padding-bottom: 0.4em;\n",
       "  background-color: var(--sklearn-color-background);\n",
       "}\n",
       "\n",
       "#sk-container-id-1 div.sk-container {\n",
       "  /* jupyter's `normalize.less` sets `[hidden] { display: none; }`\n",
       "     but bootstrap.min.css set `[hidden] { display: none !important; }`\n",
       "     so we also need the `!important` here to be able to override the\n",
       "     default hidden behavior on the sphinx rendered scikit-learn.org.\n",
       "     See: https://github.com/scikit-learn/scikit-learn/issues/21755 */\n",
       "  display: inline-block !important;\n",
       "  position: relative;\n",
       "}\n",
       "\n",
       "#sk-container-id-1 div.sk-text-repr-fallback {\n",
       "  display: none;\n",
       "}\n",
       "\n",
       "div.sk-parallel-item,\n",
       "div.sk-serial,\n",
       "div.sk-item {\n",
       "  /* draw centered vertical line to link estimators */\n",
       "  background-image: linear-gradient(var(--sklearn-color-text-on-default-background), var(--sklearn-color-text-on-default-background));\n",
       "  background-size: 2px 100%;\n",
       "  background-repeat: no-repeat;\n",
       "  background-position: center center;\n",
       "}\n",
       "\n",
       "/* Parallel-specific style estimator block */\n",
       "\n",
       "#sk-container-id-1 div.sk-parallel-item::after {\n",
       "  content: \"\";\n",
       "  width: 100%;\n",
       "  border-bottom: 2px solid var(--sklearn-color-text-on-default-background);\n",
       "  flex-grow: 1;\n",
       "}\n",
       "\n",
       "#sk-container-id-1 div.sk-parallel {\n",
       "  display: flex;\n",
       "  align-items: stretch;\n",
       "  justify-content: center;\n",
       "  background-color: var(--sklearn-color-background);\n",
       "  position: relative;\n",
       "}\n",
       "\n",
       "#sk-container-id-1 div.sk-parallel-item {\n",
       "  display: flex;\n",
       "  flex-direction: column;\n",
       "}\n",
       "\n",
       "#sk-container-id-1 div.sk-parallel-item:first-child::after {\n",
       "  align-self: flex-end;\n",
       "  width: 50%;\n",
       "}\n",
       "\n",
       "#sk-container-id-1 div.sk-parallel-item:last-child::after {\n",
       "  align-self: flex-start;\n",
       "  width: 50%;\n",
       "}\n",
       "\n",
       "#sk-container-id-1 div.sk-parallel-item:only-child::after {\n",
       "  width: 0;\n",
       "}\n",
       "\n",
       "/* Serial-specific style estimator block */\n",
       "\n",
       "#sk-container-id-1 div.sk-serial {\n",
       "  display: flex;\n",
       "  flex-direction: column;\n",
       "  align-items: center;\n",
       "  background-color: var(--sklearn-color-background);\n",
       "  padding-right: 1em;\n",
       "  padding-left: 1em;\n",
       "}\n",
       "\n",
       "\n",
       "/* Toggleable style: style used for estimator/Pipeline/ColumnTransformer box that is\n",
       "clickable and can be expanded/collapsed.\n",
       "- Pipeline and ColumnTransformer use this feature and define the default style\n",
       "- Estimators will overwrite some part of the style using the `sk-estimator` class\n",
       "*/\n",
       "\n",
       "/* Pipeline and ColumnTransformer style (default) */\n",
       "\n",
       "#sk-container-id-1 div.sk-toggleable {\n",
       "  /* Default theme specific background. It is overwritten whether we have a\n",
       "  specific estimator or a Pipeline/ColumnTransformer */\n",
       "  background-color: var(--sklearn-color-background);\n",
       "}\n",
       "\n",
       "/* Toggleable label */\n",
       "#sk-container-id-1 label.sk-toggleable__label {\n",
       "  cursor: pointer;\n",
       "  display: block;\n",
       "  width: 100%;\n",
       "  margin-bottom: 0;\n",
       "  padding: 0.5em;\n",
       "  box-sizing: border-box;\n",
       "  text-align: center;\n",
       "}\n",
       "\n",
       "#sk-container-id-1 label.sk-toggleable__label-arrow:before {\n",
       "  /* Arrow on the left of the label */\n",
       "  content: \"▸\";\n",
       "  float: left;\n",
       "  margin-right: 0.25em;\n",
       "  color: var(--sklearn-color-icon);\n",
       "}\n",
       "\n",
       "#sk-container-id-1 label.sk-toggleable__label-arrow:hover:before {\n",
       "  color: var(--sklearn-color-text);\n",
       "}\n",
       "\n",
       "/* Toggleable content - dropdown */\n",
       "\n",
       "#sk-container-id-1 div.sk-toggleable__content {\n",
       "  max-height: 0;\n",
       "  max-width: 0;\n",
       "  overflow: hidden;\n",
       "  text-align: left;\n",
       "  /* unfitted */\n",
       "  background-color: var(--sklearn-color-unfitted-level-0);\n",
       "}\n",
       "\n",
       "#sk-container-id-1 div.sk-toggleable__content.fitted {\n",
       "  /* fitted */\n",
       "  background-color: var(--sklearn-color-fitted-level-0);\n",
       "}\n",
       "\n",
       "#sk-container-id-1 div.sk-toggleable__content pre {\n",
       "  margin: 0.2em;\n",
       "  border-radius: 0.25em;\n",
       "  color: var(--sklearn-color-text);\n",
       "  /* unfitted */\n",
       "  background-color: var(--sklearn-color-unfitted-level-0);\n",
       "}\n",
       "\n",
       "#sk-container-id-1 div.sk-toggleable__content.fitted pre {\n",
       "  /* unfitted */\n",
       "  background-color: var(--sklearn-color-fitted-level-0);\n",
       "}\n",
       "\n",
       "#sk-container-id-1 input.sk-toggleable__control:checked~div.sk-toggleable__content {\n",
       "  /* Expand drop-down */\n",
       "  max-height: 200px;\n",
       "  max-width: 100%;\n",
       "  overflow: auto;\n",
       "}\n",
       "\n",
       "#sk-container-id-1 input.sk-toggleable__control:checked~label.sk-toggleable__label-arrow:before {\n",
       "  content: \"▾\";\n",
       "}\n",
       "\n",
       "/* Pipeline/ColumnTransformer-specific style */\n",
       "\n",
       "#sk-container-id-1 div.sk-label input.sk-toggleable__control:checked~label.sk-toggleable__label {\n",
       "  color: var(--sklearn-color-text);\n",
       "  background-color: var(--sklearn-color-unfitted-level-2);\n",
       "}\n",
       "\n",
       "#sk-container-id-1 div.sk-label.fitted input.sk-toggleable__control:checked~label.sk-toggleable__label {\n",
       "  background-color: var(--sklearn-color-fitted-level-2);\n",
       "}\n",
       "\n",
       "/* Estimator-specific style */\n",
       "\n",
       "/* Colorize estimator box */\n",
       "#sk-container-id-1 div.sk-estimator input.sk-toggleable__control:checked~label.sk-toggleable__label {\n",
       "  /* unfitted */\n",
       "  background-color: var(--sklearn-color-unfitted-level-2);\n",
       "}\n",
       "\n",
       "#sk-container-id-1 div.sk-estimator.fitted input.sk-toggleable__control:checked~label.sk-toggleable__label {\n",
       "  /* fitted */\n",
       "  background-color: var(--sklearn-color-fitted-level-2);\n",
       "}\n",
       "\n",
       "#sk-container-id-1 div.sk-label label.sk-toggleable__label,\n",
       "#sk-container-id-1 div.sk-label label {\n",
       "  /* The background is the default theme color */\n",
       "  color: var(--sklearn-color-text-on-default-background);\n",
       "}\n",
       "\n",
       "/* On hover, darken the color of the background */\n",
       "#sk-container-id-1 div.sk-label:hover label.sk-toggleable__label {\n",
       "  color: var(--sklearn-color-text);\n",
       "  background-color: var(--sklearn-color-unfitted-level-2);\n",
       "}\n",
       "\n",
       "/* Label box, darken color on hover, fitted */\n",
       "#sk-container-id-1 div.sk-label.fitted:hover label.sk-toggleable__label.fitted {\n",
       "  color: var(--sklearn-color-text);\n",
       "  background-color: var(--sklearn-color-fitted-level-2);\n",
       "}\n",
       "\n",
       "/* Estimator label */\n",
       "\n",
       "#sk-container-id-1 div.sk-label label {\n",
       "  font-family: monospace;\n",
       "  font-weight: bold;\n",
       "  display: inline-block;\n",
       "  line-height: 1.2em;\n",
       "}\n",
       "\n",
       "#sk-container-id-1 div.sk-label-container {\n",
       "  text-align: center;\n",
       "}\n",
       "\n",
       "/* Estimator-specific */\n",
       "#sk-container-id-1 div.sk-estimator {\n",
       "  font-family: monospace;\n",
       "  border: 1px dotted var(--sklearn-color-border-box);\n",
       "  border-radius: 0.25em;\n",
       "  box-sizing: border-box;\n",
       "  margin-bottom: 0.5em;\n",
       "  /* unfitted */\n",
       "  background-color: var(--sklearn-color-unfitted-level-0);\n",
       "}\n",
       "\n",
       "#sk-container-id-1 div.sk-estimator.fitted {\n",
       "  /* fitted */\n",
       "  background-color: var(--sklearn-color-fitted-level-0);\n",
       "}\n",
       "\n",
       "/* on hover */\n",
       "#sk-container-id-1 div.sk-estimator:hover {\n",
       "  /* unfitted */\n",
       "  background-color: var(--sklearn-color-unfitted-level-2);\n",
       "}\n",
       "\n",
       "#sk-container-id-1 div.sk-estimator.fitted:hover {\n",
       "  /* fitted */\n",
       "  background-color: var(--sklearn-color-fitted-level-2);\n",
       "}\n",
       "\n",
       "/* Specification for estimator info (e.g. \"i\" and \"?\") */\n",
       "\n",
       "/* Common style for \"i\" and \"?\" */\n",
       "\n",
       ".sk-estimator-doc-link,\n",
       "a:link.sk-estimator-doc-link,\n",
       "a:visited.sk-estimator-doc-link {\n",
       "  float: right;\n",
       "  font-size: smaller;\n",
       "  line-height: 1em;\n",
       "  font-family: monospace;\n",
       "  background-color: var(--sklearn-color-background);\n",
       "  border-radius: 1em;\n",
       "  height: 1em;\n",
       "  width: 1em;\n",
       "  text-decoration: none !important;\n",
       "  margin-left: 1ex;\n",
       "  /* unfitted */\n",
       "  border: var(--sklearn-color-unfitted-level-1) 1pt solid;\n",
       "  color: var(--sklearn-color-unfitted-level-1);\n",
       "}\n",
       "\n",
       ".sk-estimator-doc-link.fitted,\n",
       "a:link.sk-estimator-doc-link.fitted,\n",
       "a:visited.sk-estimator-doc-link.fitted {\n",
       "  /* fitted */\n",
       "  border: var(--sklearn-color-fitted-level-1) 1pt solid;\n",
       "  color: var(--sklearn-color-fitted-level-1);\n",
       "}\n",
       "\n",
       "/* On hover */\n",
       "div.sk-estimator:hover .sk-estimator-doc-link:hover,\n",
       ".sk-estimator-doc-link:hover,\n",
       "div.sk-label-container:hover .sk-estimator-doc-link:hover,\n",
       ".sk-estimator-doc-link:hover {\n",
       "  /* unfitted */\n",
       "  background-color: var(--sklearn-color-unfitted-level-3);\n",
       "  color: var(--sklearn-color-background);\n",
       "  text-decoration: none;\n",
       "}\n",
       "\n",
       "div.sk-estimator.fitted:hover .sk-estimator-doc-link.fitted:hover,\n",
       ".sk-estimator-doc-link.fitted:hover,\n",
       "div.sk-label-container:hover .sk-estimator-doc-link.fitted:hover,\n",
       ".sk-estimator-doc-link.fitted:hover {\n",
       "  /* fitted */\n",
       "  background-color: var(--sklearn-color-fitted-level-3);\n",
       "  color: var(--sklearn-color-background);\n",
       "  text-decoration: none;\n",
       "}\n",
       "\n",
       "/* Span, style for the box shown on hovering the info icon */\n",
       ".sk-estimator-doc-link span {\n",
       "  display: none;\n",
       "  z-index: 9999;\n",
       "  position: relative;\n",
       "  font-weight: normal;\n",
       "  right: .2ex;\n",
       "  padding: .5ex;\n",
       "  margin: .5ex;\n",
       "  width: min-content;\n",
       "  min-width: 20ex;\n",
       "  max-width: 50ex;\n",
       "  color: var(--sklearn-color-text);\n",
       "  box-shadow: 2pt 2pt 4pt #999;\n",
       "  /* unfitted */\n",
       "  background: var(--sklearn-color-unfitted-level-0);\n",
       "  border: .5pt solid var(--sklearn-color-unfitted-level-3);\n",
       "}\n",
       "\n",
       ".sk-estimator-doc-link.fitted span {\n",
       "  /* fitted */\n",
       "  background: var(--sklearn-color-fitted-level-0);\n",
       "  border: var(--sklearn-color-fitted-level-3);\n",
       "}\n",
       "\n",
       ".sk-estimator-doc-link:hover span {\n",
       "  display: block;\n",
       "}\n",
       "\n",
       "/* \"?\"-specific style due to the `<a>` HTML tag */\n",
       "\n",
       "#sk-container-id-1 a.estimator_doc_link {\n",
       "  float: right;\n",
       "  font-size: 1rem;\n",
       "  line-height: 1em;\n",
       "  font-family: monospace;\n",
       "  background-color: var(--sklearn-color-background);\n",
       "  border-radius: 1rem;\n",
       "  height: 1rem;\n",
       "  width: 1rem;\n",
       "  text-decoration: none;\n",
       "  /* unfitted */\n",
       "  color: var(--sklearn-color-unfitted-level-1);\n",
       "  border: var(--sklearn-color-unfitted-level-1) 1pt solid;\n",
       "}\n",
       "\n",
       "#sk-container-id-1 a.estimator_doc_link.fitted {\n",
       "  /* fitted */\n",
       "  border: var(--sklearn-color-fitted-level-1) 1pt solid;\n",
       "  color: var(--sklearn-color-fitted-level-1);\n",
       "}\n",
       "\n",
       "/* On hover */\n",
       "#sk-container-id-1 a.estimator_doc_link:hover {\n",
       "  /* unfitted */\n",
       "  background-color: var(--sklearn-color-unfitted-level-3);\n",
       "  color: var(--sklearn-color-background);\n",
       "  text-decoration: none;\n",
       "}\n",
       "\n",
       "#sk-container-id-1 a.estimator_doc_link.fitted:hover {\n",
       "  /* fitted */\n",
       "  background-color: var(--sklearn-color-fitted-level-3);\n",
       "}\n",
       "</style><div id=\"sk-container-id-1\" class=\"sk-top-container\"><div class=\"sk-text-repr-fallback\"><pre>XGBClassifier(base_score=None, booster=None, callbacks=None,\n",
       "              colsample_bylevel=None, colsample_bynode=0.15026529384405907,\n",
       "              colsample_bytree=None, device=None, early_stopping_rounds=None,\n",
       "              enable_categorical=False,\n",
       "              eval_metric=&lt;function custom_f1_score at 0x7efe1ca4c4a0&gt;,\n",
       "              feature_types=None, gamma=None, grow_policy=None,\n",
       "              importance_type=None, interaction_constraints=None,\n",
       "              learning_rate=0.3848135890944952, max_bin=None,\n",
       "              max_cat_threshold=None, max_cat_to_onehot=None,\n",
       "              max_delta_step=None, max_depth=9, max_leaves=None,\n",
       "              min_child_weight=11, missing=nan, monotone_constraints=None,\n",
       "              multi_strategy=None, n_estimators=108, n_jobs=None,\n",
       "              num_parallel_tree=None, objective=&#x27;multi:softprob&#x27;, ...)</pre><b>In a Jupyter environment, please rerun this cell to show the HTML representation or trust the notebook. <br />On GitHub, the HTML representation is unable to render, please try loading this page with nbviewer.org.</b></div><div class=\"sk-container\" hidden><div class=\"sk-item\"><div class=\"sk-estimator fitted sk-toggleable\"><input class=\"sk-toggleable__control sk-hidden--visually\" id=\"sk-estimator-id-1\" type=\"checkbox\" checked><label for=\"sk-estimator-id-1\" class=\"sk-toggleable__label fitted sk-toggleable__label-arrow fitted\">&nbsp;XGBClassifier<span class=\"sk-estimator-doc-link fitted\">i<span>Fitted</span></span></label><div class=\"sk-toggleable__content fitted\"><pre>XGBClassifier(base_score=None, booster=None, callbacks=None,\n",
       "              colsample_bylevel=None, colsample_bynode=0.15026529384405907,\n",
       "              colsample_bytree=None, device=None, early_stopping_rounds=None,\n",
       "              enable_categorical=False,\n",
       "              eval_metric=&lt;function custom_f1_score at 0x7efe1ca4c4a0&gt;,\n",
       "              feature_types=None, gamma=None, grow_policy=None,\n",
       "              importance_type=None, interaction_constraints=None,\n",
       "              learning_rate=0.3848135890944952, max_bin=None,\n",
       "              max_cat_threshold=None, max_cat_to_onehot=None,\n",
       "              max_delta_step=None, max_depth=9, max_leaves=None,\n",
       "              min_child_weight=11, missing=nan, monotone_constraints=None,\n",
       "              multi_strategy=None, n_estimators=108, n_jobs=None,\n",
       "              num_parallel_tree=None, objective=&#x27;multi:softprob&#x27;, ...)</pre></div> </div></div></div></div>"
      ],
      "text/plain": [
       "XGBClassifier(base_score=None, booster=None, callbacks=None,\n",
       "              colsample_bylevel=None, colsample_bynode=0.15026529384405907,\n",
       "              colsample_bytree=None, device=None, early_stopping_rounds=None,\n",
       "              enable_categorical=False,\n",
       "              eval_metric=<function custom_f1_score at 0x7efe1ca4c4a0>,\n",
       "              feature_types=None, gamma=None, grow_policy=None,\n",
       "              importance_type=None, interaction_constraints=None,\n",
       "              learning_rate=0.3848135890944952, max_bin=None,\n",
       "              max_cat_threshold=None, max_cat_to_onehot=None,\n",
       "              max_delta_step=None, max_depth=9, max_leaves=None,\n",
       "              min_child_weight=11, missing=nan, monotone_constraints=None,\n",
       "              multi_strategy=None, n_estimators=108, n_jobs=None,\n",
       "              num_parallel_tree=None, objective='multi:softprob', ...)"
      ]
     },
     "execution_count": 21,
     "metadata": {},
     "output_type": "execute_result"
    }
   ],
   "source": [
    "n_estimators = int(study.best_trial.user_attrs['best_iteration']*1.2)\n",
    "xgb = xgboost.XGBClassifier(\n",
    "        eval_metric=eval_metric,\n",
    "        n_estimators=n_estimators,\n",
    "        **study.best_trial.params\n",
    "    )\n",
    "xgb.fit(\n",
    "    ssp.vstack((X_train, X_val)), \n",
    "    np.concatenate((y_train_enc, y_val_enc)),\n",
    "    verbose=1,\n",
    ")"
   ]
  },
  {
   "cell_type": "code",
   "execution_count": 22,
   "id": "78fbabc6",
   "metadata": {
    "execution": {
     "iopub.execute_input": "2025-05-15T16:17:31.744452Z",
     "iopub.status.busy": "2025-05-15T16:17:31.744095Z",
     "iopub.status.idle": "2025-05-15T16:17:31.780625Z",
     "shell.execute_reply": "2025-05-15T16:17:31.780226Z"
    },
    "papermill": {
     "duration": 0.047672,
     "end_time": "2025-05-15T16:17:31.781536",
     "exception": false,
     "start_time": "2025-05-15T16:17:31.733864",
     "status": "completed"
    },
    "tags": []
   },
   "outputs": [
    {
     "data": {
      "text/plain": [
       "['/scratch_isilon/groups/singlecell/shared/projects/Inflammation-PBMCs-Atlas/03_downstream_analysis/08_gene_importance/xgboost_external_validation/xgboost_TopN_genes/results_20/best_model/ILC_8_1_xgb.json']"
      ]
     },
     "execution_count": 22,
     "metadata": {},
     "output_type": "execute_result"
    }
   ],
   "source": [
    "out_dir = here(f'03_downstream_analysis/08_gene_importance/xgboost_external_validation/xgboost_TopN_genes/results_{N_GENES}/best_model')\n",
    "\n",
    "if not os.path.exists(out_dir):\n",
    "    os.makedirs(out_dir)\n",
    "    \n",
    "joblib.dump(xgb, os.path.join(out_dir, f'{CELL_TYPE}_{SEED}_{TEST_SPLIT_IDX}_xgb.json'))"
   ]
  },
  {
   "cell_type": "code",
   "execution_count": 23,
   "id": "ea9eeaa2",
   "metadata": {
    "execution": {
     "iopub.execute_input": "2025-05-15T16:17:31.800982Z",
     "iopub.status.busy": "2025-05-15T16:17:31.800669Z",
     "iopub.status.idle": "2025-05-15T16:17:31.992419Z",
     "shell.execute_reply": "2025-05-15T16:17:31.991996Z"
    },
    "papermill": {
     "duration": 0.202937,
     "end_time": "2025-05-15T16:17:31.993786",
     "exception": false,
     "start_time": "2025-05-15T16:17:31.790849",
     "status": "completed"
    },
    "tags": []
   },
   "outputs": [],
   "source": [
    "df_pred_test = pd.DataFrame(dict(\n",
    "    cell_id=train_adata.obs.iloc[test_idxs].index.values,\n",
    "    y_true=y_test, \n",
    "    y_true_code=y_test_enc, \n",
    "    y_pred=xgb.predict(X_test))).set_index('cell_id')"
   ]
  },
  {
   "cell_type": "code",
   "execution_count": 24,
   "id": "0bf4056e",
   "metadata": {
    "execution": {
     "iopub.execute_input": "2025-05-15T16:17:32.013968Z",
     "iopub.status.busy": "2025-05-15T16:17:32.013675Z",
     "iopub.status.idle": "2025-05-15T16:17:32.066081Z",
     "shell.execute_reply": "2025-05-15T16:17:32.065559Z"
    },
    "papermill": {
     "duration": 0.063346,
     "end_time": "2025-05-15T16:17:32.067022",
     "exception": false,
     "start_time": "2025-05-15T16:17:32.003676",
     "status": "completed"
    },
    "tags": []
   },
   "outputs": [],
   "source": [
    "out_dir = here(f'03_downstream_analysis/08_gene_importance/xgboost_external_validation/xgboost_TopN_genes/results_{N_GENES}/predictions')\n",
    "\n",
    "if not os.path.exists(out_dir):\n",
    "    os.makedirs(out_dir)\n",
    "    \n",
    "df_pred_test.to_csv(os.path.join(out_dir, f'{CELL_TYPE}_{SEED}_{TEST_SPLIT_IDX}_pred_test.zip'))"
   ]
  },
  {
   "cell_type": "code",
   "execution_count": 25,
   "id": "1eb0c364",
   "metadata": {
    "execution": {
     "iopub.execute_input": "2025-05-15T16:17:32.086925Z",
     "iopub.status.busy": "2025-05-15T16:17:32.086485Z",
     "iopub.status.idle": "2025-05-15T16:17:32.095676Z",
     "shell.execute_reply": "2025-05-15T16:17:32.095299Z"
    },
    "papermill": {
     "duration": 0.020056,
     "end_time": "2025-05-15T16:17:32.096591",
     "exception": false,
     "start_time": "2025-05-15T16:17:32.076535",
     "status": "completed"
    },
    "tags": []
   },
   "outputs": [],
   "source": [
    "metrics_dict = dict(\n",
    "    BAS=balanced_accuracy_score(y_true=df_pred_test.y_true_code, y_pred=df_pred_test.y_pred), WF1=f1_score(y_true=df_pred_test.y_true_code, y_pred=df_pred_test.y_pred,average='weighted'))"
   ]
  },
  {
   "cell_type": "code",
   "execution_count": 26,
   "id": "6aa5df62",
   "metadata": {
    "execution": {
     "iopub.execute_input": "2025-05-15T16:17:32.116363Z",
     "iopub.status.busy": "2025-05-15T16:17:32.116058Z",
     "iopub.status.idle": "2025-05-15T16:17:32.119222Z",
     "shell.execute_reply": "2025-05-15T16:17:32.118877Z"
    },
    "papermill": {
     "duration": 0.014048,
     "end_time": "2025-05-15T16:17:32.120137",
     "exception": false,
     "start_time": "2025-05-15T16:17:32.106089",
     "status": "completed"
    },
    "tags": []
   },
   "outputs": [
    {
     "data": {
      "text/plain": [
       "{'BAS': 0.45251582723375716, 'WF1': 0.6885611769040798}"
      ]
     },
     "execution_count": 26,
     "metadata": {},
     "output_type": "execute_result"
    }
   ],
   "source": [
    "metrics_dict"
   ]
  },
  {
   "cell_type": "code",
   "execution_count": 27,
   "id": "c5a8b27f",
   "metadata": {
    "execution": {
     "iopub.execute_input": "2025-05-15T16:17:32.140402Z",
     "iopub.status.busy": "2025-05-15T16:17:32.139999Z",
     "iopub.status.idle": "2025-05-15T16:17:32.149249Z",
     "shell.execute_reply": "2025-05-15T16:17:32.148910Z"
    },
    "papermill": {
     "duration": 0.020242,
     "end_time": "2025-05-15T16:17:32.150092",
     "exception": false,
     "start_time": "2025-05-15T16:17:32.129850",
     "status": "completed"
    },
    "tags": []
   },
   "outputs": [
    {
     "data": {
      "text/html": [
       "<div>\n",
       "<style scoped>\n",
       "    .dataframe tbody tr th:only-of-type {\n",
       "        vertical-align: middle;\n",
       "    }\n",
       "\n",
       "    .dataframe tbody tr th {\n",
       "        vertical-align: top;\n",
       "    }\n",
       "\n",
       "    .dataframe thead th {\n",
       "        text-align: right;\n",
       "    }\n",
       "</style>\n",
       "<table border=\"1\" class=\"dataframe\">\n",
       "  <thead>\n",
       "    <tr style=\"text-align: right;\">\n",
       "      <th></th>\n",
       "      <th>BAS</th>\n",
       "      <th>WF1</th>\n",
       "      <th>split_idx</th>\n",
       "      <th>gene_set_seed</th>\n",
       "      <th>cell_type</th>\n",
       "    </tr>\n",
       "  </thead>\n",
       "  <tbody>\n",
       "    <tr>\n",
       "      <th>0</th>\n",
       "      <td>0.452516</td>\n",
       "      <td>0.688561</td>\n",
       "      <td>1</td>\n",
       "      <td>8</td>\n",
       "      <td>ILC</td>\n",
       "    </tr>\n",
       "  </tbody>\n",
       "</table>\n",
       "</div>"
      ],
      "text/plain": [
       "        BAS       WF1  split_idx  gene_set_seed cell_type\n",
       "0  0.452516  0.688561          1              8       ILC"
      ]
     },
     "execution_count": 27,
     "metadata": {},
     "output_type": "execute_result"
    }
   ],
   "source": [
    "metrics_df = pd.DataFrame.from_dict([metrics_dict]).assign(split_idx=TEST_SPLIT_IDX, gene_set_seed=SEED, cell_type=CELL_TYPE)\n",
    "metrics_df"
   ]
  },
  {
   "cell_type": "code",
   "execution_count": 28,
   "id": "a672004d",
   "metadata": {
    "execution": {
     "iopub.execute_input": "2025-05-15T16:17:32.169582Z",
     "iopub.status.busy": "2025-05-15T16:17:32.169296Z",
     "iopub.status.idle": "2025-05-15T16:17:32.177748Z",
     "shell.execute_reply": "2025-05-15T16:17:32.177339Z"
    },
    "papermill": {
     "duration": 0.019263,
     "end_time": "2025-05-15T16:17:32.178651",
     "exception": false,
     "start_time": "2025-05-15T16:17:32.159388",
     "status": "completed"
    },
    "tags": []
   },
   "outputs": [],
   "source": [
    "out_dir = here(f'03_downstream_analysis/08_gene_importance/xgboost_external_validation/xgboost_TopN_genes/results_{N_GENES}/metrics')\n",
    "\n",
    "if not os.path.exists(out_dir):\n",
    "    os.makedirs(out_dir)\n",
    "    \n",
    "metrics_df.to_csv(os.path.join(out_dir, f'{CELL_TYPE}_{SEED}_{TEST_SPLIT_IDX}_metrics.zip'))"
   ]
  }
 ],
 "metadata": {
  "kernelspec": {
   "display_name": "Python 3 (ipykernel)",
   "language": "python",
   "name": "python3"
  },
  "language_info": {
   "codemirror_mode": {
    "name": "ipython",
    "version": 3
   },
   "file_extension": ".py",
   "mimetype": "text/x-python",
   "name": "python",
   "nbconvert_exporter": "python",
   "pygments_lexer": "ipython3",
   "version": "3.12.5"
  },
  "papermill": {
   "default_parameters": {},
   "duration": 229.930925,
   "end_time": "2025-05-15T16:17:32.704616",
   "environment_variables": {},
   "exception": null,
   "input_path": "02_xgboost_fitting_external_20genes.ipynb",
   "output_path": "results_20/executed_notebooks/xgboost_fitting_external_CT_ILC_GS_8_seed1.ipynb",
   "parameters": {
    "CELL_TYPE": "ILC",
    "SEED": 8,
    "TEST_SPLIT_IDX": 1
   },
   "start_time": "2025-05-15T16:13:42.773691",
   "version": "2.6.0"
  }
 },
 "nbformat": 4,
 "nbformat_minor": 5
}