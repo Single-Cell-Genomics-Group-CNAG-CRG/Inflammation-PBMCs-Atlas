{
 "cells": [
  {
   "cell_type": "code",
   "execution_count": 1,
   "id": "57284d17",
   "metadata": {
    "editable": true,
    "execution": {
     "iopub.execute_input": "2025-05-15T16:15:41.036868Z",
     "iopub.status.busy": "2025-05-15T16:15:41.036632Z",
     "iopub.status.idle": "2025-05-15T16:15:41.039560Z",
     "shell.execute_reply": "2025-05-15T16:15:41.039223Z"
    },
    "papermill": {
     "duration": 0.011956,
     "end_time": "2025-05-15T16:15:41.040519",
     "exception": false,
     "start_time": "2025-05-15T16:15:41.028563",
     "status": "completed"
    },
    "slideshow": {
     "slide_type": ""
    },
    "tags": [
     "parameters"
    ]
   },
   "outputs": [],
   "source": [
    "CELL_TYPE = 'pDC'\n",
    "N_GENES: int = 20\n",
    "SEED = 'shap_studyID' #'disease_NOstudy' 'study_NOdisease' or 'int' or 'shap_studyID'\n",
    "TEST_SPLIT_IDX: int = 1 #[0,4]"
   ]
  },
  {
   "cell_type": "code",
   "execution_count": 2,
   "id": "af32f41d",
   "metadata": {
    "execution": {
     "iopub.execute_input": "2025-05-15T16:15:41.052926Z",
     "iopub.status.busy": "2025-05-15T16:15:41.052743Z",
     "iopub.status.idle": "2025-05-15T16:15:41.055075Z",
     "shell.execute_reply": "2025-05-15T16:15:41.054698Z"
    },
    "papermill": {
     "duration": 0.009348,
     "end_time": "2025-05-15T16:15:41.055898",
     "exception": false,
     "start_time": "2025-05-15T16:15:41.046550",
     "status": "completed"
    },
    "tags": [
     "injected-parameters"
    ]
   },
   "outputs": [],
   "source": [
    "# Parameters\n",
    "CELL_TYPE = \"Plasma\"\n",
    "SEED = 12\n",
    "TEST_SPLIT_IDX = 3\n"
   ]
  },
  {
   "cell_type": "code",
   "execution_count": 3,
   "id": "82d9a485",
   "metadata": {
    "execution": {
     "iopub.execute_input": "2025-05-15T16:15:41.067416Z",
     "iopub.status.busy": "2025-05-15T16:15:41.067234Z",
     "iopub.status.idle": "2025-05-15T16:15:41.069430Z",
     "shell.execute_reply": "2025-05-15T16:15:41.069064Z"
    },
    "papermill": {
     "duration": 0.008841,
     "end_time": "2025-05-15T16:15:41.070348",
     "exception": false,
     "start_time": "2025-05-15T16:15:41.061507",
     "status": "completed"
    },
    "tags": []
   },
   "outputs": [],
   "source": [
    "N_SPLITS: int = 5\n",
    "N_TRIALS: int = 50"
   ]
  },
  {
   "cell_type": "code",
   "execution_count": 4,
   "id": "bad6092d",
   "metadata": {
    "execution": {
     "iopub.execute_input": "2025-05-15T16:15:41.083675Z",
     "iopub.status.busy": "2025-05-15T16:15:41.083418Z",
     "iopub.status.idle": "2025-05-15T16:15:42.597135Z",
     "shell.execute_reply": "2025-05-15T16:15:42.596540Z"
    },
    "papermill": {
     "duration": 1.522325,
     "end_time": "2025-05-15T16:15:42.598659",
     "exception": false,
     "start_time": "2025-05-15T16:15:41.076334",
     "status": "completed"
    },
    "tags": []
   },
   "outputs": [],
   "source": [
    "import os\n",
    "import sys\n",
    "from pyprojroot.here import here\n",
    "import pandas as pd\n",
    "import anndata as ad\n",
    "import numpy as np\n",
    "import math\n",
    "from sklearn.model_selection import StratifiedGroupKFold\n",
    "from sklearn.preprocessing import LabelEncoder\n",
    "from sklearn.metrics import f1_score\n",
    "import matplotlib.pyplot as plt\n",
    "import seaborn as sns\n",
    "from itertools import product\n",
    "from sklearn.metrics import balanced_accuracy_score, f1_score\n",
    "import optuna\n",
    "\n",
    "import joblib\n",
    "import pickle\n",
    "import datetime\n",
    "\n",
    "import collections\n",
    "\n",
    "import xgboost\n",
    "from sklearn.preprocessing import LabelEncoder\n",
    "\n",
    "import scipy.sparse as ssp\n",
    "import joblib\n",
    "\n",
    "from dotenv import load_dotenv"
   ]
  },
  {
   "cell_type": "code",
   "execution_count": 5,
   "id": "6a107b93",
   "metadata": {
    "execution": {
     "iopub.execute_input": "2025-05-15T16:15:42.611917Z",
     "iopub.status.busy": "2025-05-15T16:15:42.611555Z",
     "iopub.status.idle": "2025-05-15T16:15:42.617489Z",
     "shell.execute_reply": "2025-05-15T16:15:42.617159Z"
    },
    "papermill": {
     "duration": 0.013205,
     "end_time": "2025-05-15T16:15:42.618439",
     "exception": false,
     "start_time": "2025-05-15T16:15:42.605234",
     "status": "completed"
    },
    "tags": []
   },
   "outputs": [
    {
     "data": {
      "text/plain": [
       "True"
      ]
     },
     "execution_count": 5,
     "metadata": {},
     "output_type": "execute_result"
    }
   ],
   "source": [
    "load_dotenv()"
   ]
  },
  {
   "cell_type": "markdown",
   "id": "70f882e9",
   "metadata": {
    "papermill": {
     "duration": 0.005564,
     "end_time": "2025-05-15T16:15:42.629391",
     "exception": false,
     "start_time": "2025-05-15T16:15:42.623827",
     "status": "completed"
    },
    "tags": []
   },
   "source": [
    "# LOAD DATASET"
   ]
  },
  {
   "cell_type": "code",
   "execution_count": 6,
   "id": "9f7b4197",
   "metadata": {
    "execution": {
     "iopub.execute_input": "2025-05-15T16:15:42.641114Z",
     "iopub.status.busy": "2025-05-15T16:15:42.640652Z",
     "iopub.status.idle": "2025-05-15T16:15:42.682576Z",
     "shell.execute_reply": "2025-05-15T16:15:42.682157Z"
    },
    "papermill": {
     "duration": 0.048892,
     "end_time": "2025-05-15T16:15:42.683600",
     "exception": false,
     "start_time": "2025-05-15T16:15:42.634708",
     "status": "completed"
    },
    "tags": []
   },
   "outputs": [],
   "source": [
    "train_adata = ad.read_h5ad(\n",
    "    here(f'03_downstream_analysis/08_gene_importance/xgboost_external_validation/xgboost_TopN_genes/data_cellTypes/EXTERNAL_{CELL_TYPE}.filtered.log1p.h5ad')\n",
    ")"
   ]
  },
  {
   "cell_type": "code",
   "execution_count": 7,
   "id": "61bf2ba5",
   "metadata": {
    "execution": {
     "iopub.execute_input": "2025-05-15T16:15:42.695342Z",
     "iopub.status.busy": "2025-05-15T16:15:42.695055Z",
     "iopub.status.idle": "2025-05-15T16:15:42.705588Z",
     "shell.execute_reply": "2025-05-15T16:15:42.705220Z"
    },
    "papermill": {
     "duration": 0.017517,
     "end_time": "2025-05-15T16:15:42.706494",
     "exception": false,
     "start_time": "2025-05-15T16:15:42.688977",
     "status": "completed"
    },
    "tags": []
   },
   "outputs": [
    {
     "name": "stdout",
     "output_type": "stream",
     "text": [
      "['ENSG00000140564' 'ENSG00000184557' 'ENSG00000277734' 'ENSG00000140379'\n",
      " 'ENSG00000136003' 'ENSG00000110848' 'ENSG00000164543' 'ENSG00000134954'\n",
      " 'ENSG00000122705' 'ENSG00000178719' 'ENSG00000167283' 'ENSG00000125743'\n",
      " 'ENSG00000105374' 'ENSG00000186010' 'ENSG00000096996' 'ENSG00000159128'\n",
      " 'ENSG00000145850' 'ENSG00000099204' 'ENSG00000146457' 'ENSG00000205542'\n",
      " 'ENSG00000228474' 'ENSG00000142208' 'ENSG00000170476' 'ENSG00000198668'\n",
      " 'ENSG00000123268' 'ENSG00000160213' 'ENSG00000142089' 'ENSG00000111348'\n",
      " 'ENSG00000227507' 'ENSG00000165732' 'ENSG00000116815' 'ENSG00000100453'\n",
      " 'ENSG00000100902' 'ENSG00000126353' 'ENSG00000100100' 'ENSG00000165168'\n",
      " 'ENSG00000171223' 'ENSG00000156411' 'ENSG00000177663' 'ENSG00000145675'\n",
      " 'ENSG00000113811' 'ENSG00000107485' 'ENSG00000105835' 'ENSG00000109861'\n",
      " 'ENSG00000168685' 'ENSG00000164136' 'ENSG00000165272' 'ENSG00000126524'\n",
      " 'ENSG00000160075' 'ENSG00000127022' 'ENSG00000196092' 'ENSG00000002549'\n",
      " 'ENSG00000164674' 'ENSG00000198846' 'ENSG00000165280' 'ENSG00000104856'\n",
      " 'ENSG00000170581' 'ENSG00000183696' 'ENSG00000042753' 'ENSG00000188404'\n",
      " 'ENSG00000147443' 'ENSG00000140968' 'ENSG00000170296' 'ENSG00000166681'\n",
      " 'ENSG00000078596' 'ENSG00000143933' 'ENSG00000033800' 'ENSG00000149311'\n",
      " 'ENSG00000187608' 'ENSG00000077984' 'ENSG00000100485' 'ENSG00000112149'\n",
      " 'ENSG00000121316' 'ENSG00000198355' 'ENSG00000141367' 'ENSG00000172531'\n",
      " 'ENSG00000152495' 'ENSG00000240505' 'ENSG00000166710' 'ENSG00000126267'\n",
      " 'ENSG00000132965' 'ENSG00000170458' 'ENSG00000104312' 'ENSG00000152234'\n",
      " 'ENSG00000114423' 'ENSG00000168894' 'ENSG00000104870' 'ENSG00000243646'\n",
      " 'ENSG00000100911' 'ENSG00000231389' 'ENSG00000175354' 'ENSG00000168461'\n",
      " 'ENSG00000115523' 'ENSG00000075945' 'ENSG00000100385' 'ENSG00000156738'\n",
      " 'ENSG00000184752' 'ENSG00000171791' 'ENSG00000011422' 'ENSG00000112561'\n",
      " 'ENSG00000205220' 'ENSG00000103490' 'ENSG00000051382' 'ENSG00000108518'\n",
      " 'ENSG00000143110' 'ENSG00000175390' 'ENSG00000197102']\n"
     ]
    }
   ],
   "source": [
    "if SEED != 'all':\n",
    "    gene_subset = np.load(here(f'03_downstream_analysis/08_gene_importance/xgboost_external_validation/shap_gene_selection/gene_subsets_{N_GENES}/{CELL_TYPE}_{SEED}.npy'), allow_pickle=True)\n",
    "    train_adata = train_adata[:,gene_subset]\n",
    "    print(gene_subset)\n",
    "elif SEED == 'all':\n",
    "    print('Using all genes')\n",
    "else:\n",
    "    raise ValueError()"
   ]
  },
  {
   "cell_type": "code",
   "execution_count": 8,
   "id": "24b52d3f",
   "metadata": {
    "execution": {
     "iopub.execute_input": "2025-05-15T16:15:42.718667Z",
     "iopub.status.busy": "2025-05-15T16:15:42.718306Z",
     "iopub.status.idle": "2025-05-15T16:15:42.721420Z",
     "shell.execute_reply": "2025-05-15T16:15:42.721110Z"
    },
    "papermill": {
     "duration": 0.010072,
     "end_time": "2025-05-15T16:15:42.722258",
     "exception": false,
     "start_time": "2025-05-15T16:15:42.712186",
     "status": "completed"
    },
    "tags": []
   },
   "outputs": [
    {
     "data": {
      "text/plain": [
       "(542, 107)"
      ]
     },
     "execution_count": 8,
     "metadata": {},
     "output_type": "execute_result"
    }
   ],
   "source": [
    "train_adata.shape"
   ]
  },
  {
   "cell_type": "code",
   "execution_count": 9,
   "id": "d773716b",
   "metadata": {
    "execution": {
     "iopub.execute_input": "2025-05-15T16:15:42.733894Z",
     "iopub.status.busy": "2025-05-15T16:15:42.733689Z",
     "iopub.status.idle": "2025-05-15T16:15:42.737440Z",
     "shell.execute_reply": "2025-05-15T16:15:42.737123Z"
    },
    "papermill": {
     "duration": 0.010468,
     "end_time": "2025-05-15T16:15:42.738341",
     "exception": false,
     "start_time": "2025-05-15T16:15:42.727873",
     "status": "completed"
    },
    "tags": []
   },
   "outputs": [
    {
     "data": {
      "text/plain": [
       "['RA', 'COVID', 'healthy', 'HIV', 'cirrhosis', 'CD', 'SLE', 'sepsis']\n",
       "Categories (8, object): ['CD', 'COVID', 'HIV', 'RA', 'SLE', 'cirrhosis', 'healthy', 'sepsis']"
      ]
     },
     "execution_count": 9,
     "metadata": {},
     "output_type": "execute_result"
    }
   ],
   "source": [
    "train_adata.obs.disease.unique()"
   ]
  },
  {
   "cell_type": "code",
   "execution_count": 10,
   "id": "3dec19c8",
   "metadata": {
    "execution": {
     "iopub.execute_input": "2025-05-15T16:15:42.750128Z",
     "iopub.status.busy": "2025-05-15T16:15:42.749824Z",
     "iopub.status.idle": "2025-05-15T16:15:42.753634Z",
     "shell.execute_reply": "2025-05-15T16:15:42.753307Z"
    },
    "papermill": {
     "duration": 0.010816,
     "end_time": "2025-05-15T16:15:42.754654",
     "exception": false,
     "start_time": "2025-05-15T16:15:42.743838",
     "status": "completed"
    },
    "tags": []
   },
   "outputs": [
    {
     "data": {
      "text/plain": [
       "['SCGT00val_I0364_T0', 'SCGT00val_I036019_T0', 'SCGT00val_I036028_T0', 'SCGT00val_I036024_T0', 'SCGT00val_I036016_T0', ..., '10XGenomics_10XHC2_T0', '10XGenomics_10XHC3_T0', '10XGenomics_10XHC5_T0', '10XGenomics_10XHC7_T0', '10XGenomics_10XHC8_T0']\n",
       "Length: 74\n",
       "Categories (74, object): ['10XGenomics_10XHC1_T0', '10XGenomics_10XHC2_T0', '10XGenomics_10XHC3_T0', '10XGenomics_10XHC4_T0', ..., 'Savage2021_BRISL6_T0', 'Savage2021_BRISL7_T0', 'Savage2021_PIDA_T0', 'Savage2021_PIDB_T0']"
      ]
     },
     "execution_count": 10,
     "metadata": {},
     "output_type": "execute_result"
    }
   ],
   "source": [
    "train_adata.obs.sampleID.unique()"
   ]
  },
  {
   "cell_type": "code",
   "execution_count": 11,
   "id": "547d04d3",
   "metadata": {
    "execution": {
     "iopub.execute_input": "2025-05-15T16:15:42.769627Z",
     "iopub.status.busy": "2025-05-15T16:15:42.769432Z",
     "iopub.status.idle": "2025-05-15T16:15:42.800728Z",
     "shell.execute_reply": "2025-05-15T16:15:42.800358Z"
    },
    "papermill": {
     "duration": 0.040804,
     "end_time": "2025-05-15T16:15:42.802546",
     "exception": false,
     "start_time": "2025-05-15T16:15:42.761742",
     "status": "completed"
    },
    "tags": []
   },
   "outputs": [],
   "source": [
    "all_idxs = np.arange(train_adata.obs.shape[0])\n",
    "left_out_splits = [s[1] for s in StratifiedGroupKFold(n_splits=N_SPLITS).split(all_idxs, train_adata.obs.disease, train_adata.obs.sampleID)]"
   ]
  },
  {
   "cell_type": "code",
   "execution_count": 12,
   "id": "232d3ef8",
   "metadata": {
    "execution": {
     "iopub.execute_input": "2025-05-15T16:15:42.817271Z",
     "iopub.status.busy": "2025-05-15T16:15:42.816877Z",
     "iopub.status.idle": "2025-05-15T16:15:42.820355Z",
     "shell.execute_reply": "2025-05-15T16:15:42.820037Z"
    },
    "papermill": {
     "duration": 0.011639,
     "end_time": "2025-05-15T16:15:42.821366",
     "exception": false,
     "start_time": "2025-05-15T16:15:42.809727",
     "status": "completed"
    },
    "tags": []
   },
   "outputs": [
    {
     "data": {
      "text/plain": [
       "([0, 1, 2], 4, 3)"
      ]
     },
     "execution_count": 12,
     "metadata": {},
     "output_type": "execute_result"
    }
   ],
   "source": [
    "TRAIN_SPLIT_IDXS = [0,1,2,3,4]\n",
    "VAL_SPLIT_IDX = (TEST_SPLIT_IDX + 1) % 5\n",
    "TRAIN_SPLIT_IDXS.remove(TEST_SPLIT_IDX)\n",
    "TRAIN_SPLIT_IDXS.remove(VAL_SPLIT_IDX)\n",
    "TRAIN_SPLIT_IDXS, VAL_SPLIT_IDX, TEST_SPLIT_IDX"
   ]
  },
  {
   "cell_type": "code",
   "execution_count": 13,
   "id": "1ee8ab3f",
   "metadata": {
    "execution": {
     "iopub.execute_input": "2025-05-15T16:15:42.836037Z",
     "iopub.status.busy": "2025-05-15T16:15:42.835740Z",
     "iopub.status.idle": "2025-05-15T16:15:42.838385Z",
     "shell.execute_reply": "2025-05-15T16:15:42.838041Z"
    },
    "papermill": {
     "duration": 0.011117,
     "end_time": "2025-05-15T16:15:42.839332",
     "exception": false,
     "start_time": "2025-05-15T16:15:42.828215",
     "status": "completed"
    },
    "tags": []
   },
   "outputs": [],
   "source": [
    "train_idxs = np.concatenate([left_out_splits[idx] for idx in TRAIN_SPLIT_IDXS])\n",
    "val_idxs = left_out_splits[VAL_SPLIT_IDX]\n",
    "test_idxs = left_out_splits[TEST_SPLIT_IDX]"
   ]
  },
  {
   "cell_type": "markdown",
   "id": "6f730c63",
   "metadata": {
    "papermill": {
     "duration": 0.007345,
     "end_time": "2025-05-15T16:15:42.854600",
     "exception": false,
     "start_time": "2025-05-15T16:15:42.847255",
     "status": "completed"
    },
    "tags": []
   },
   "source": [
    "### SUBSET DATASET INTO TRAIN/TEST/VAL SPLITS"
   ]
  },
  {
   "cell_type": "code",
   "execution_count": 14,
   "id": "63229387",
   "metadata": {
    "execution": {
     "iopub.execute_input": "2025-05-15T16:15:42.872246Z",
     "iopub.status.busy": "2025-05-15T16:15:42.872059Z",
     "iopub.status.idle": "2025-05-15T16:15:42.878426Z",
     "shell.execute_reply": "2025-05-15T16:15:42.878107Z"
    },
    "papermill": {
     "duration": 0.017654,
     "end_time": "2025-05-15T16:15:42.879370",
     "exception": false,
     "start_time": "2025-05-15T16:15:42.861716",
     "status": "completed"
    },
    "tags": []
   },
   "outputs": [
    {
     "data": {
      "text/plain": [
       "((327, 107), (99, 107), (116, 107))"
      ]
     },
     "execution_count": 14,
     "metadata": {},
     "output_type": "execute_result"
    }
   ],
   "source": [
    "X_train = train_adata.X[train_idxs]\n",
    "X_test = train_adata.X[test_idxs]\n",
    "X_val = train_adata.X[val_idxs]\n",
    "X_train.shape, X_test.shape, X_val.shape"
   ]
  },
  {
   "cell_type": "code",
   "execution_count": 15,
   "id": "2dd15bb6",
   "metadata": {
    "execution": {
     "iopub.execute_input": "2025-05-15T16:15:42.892929Z",
     "iopub.status.busy": "2025-05-15T16:15:42.892528Z",
     "iopub.status.idle": "2025-05-15T16:15:42.897454Z",
     "shell.execute_reply": "2025-05-15T16:15:42.897135Z"
    },
    "papermill": {
     "duration": 0.012277,
     "end_time": "2025-05-15T16:15:42.898363",
     "exception": false,
     "start_time": "2025-05-15T16:15:42.886086",
     "status": "completed"
    },
    "tags": []
   },
   "outputs": [
    {
     "data": {
      "text/plain": [
       "((327,), (99,), (116,))"
      ]
     },
     "execution_count": 15,
     "metadata": {},
     "output_type": "execute_result"
    }
   ],
   "source": [
    "y_train = train_adata.obs.iloc[train_idxs].disease.values.astype(str)\n",
    "y_test = train_adata.obs.iloc[test_idxs].disease.values.astype(str)\n",
    "y_val = train_adata.obs.iloc[val_idxs].disease.values.astype(str)\n",
    "y_train.shape, y_test.shape, y_val.shape"
   ]
  },
  {
   "cell_type": "code",
   "execution_count": 16,
   "id": "45420469",
   "metadata": {
    "execution": {
     "iopub.execute_input": "2025-05-15T16:15:42.911199Z",
     "iopub.status.busy": "2025-05-15T16:15:42.911001Z",
     "iopub.status.idle": "2025-05-15T16:15:42.913885Z",
     "shell.execute_reply": "2025-05-15T16:15:42.913554Z"
    },
    "papermill": {
     "duration": 0.01046,
     "end_time": "2025-05-15T16:15:42.914723",
     "exception": false,
     "start_time": "2025-05-15T16:15:42.904263",
     "status": "completed"
    },
    "tags": []
   },
   "outputs": [],
   "source": [
    "lenc = LabelEncoder()\n",
    "y_train_enc = lenc.fit_transform(y_train)\n",
    "y_val_enc = lenc.transform(y_val)\n",
    "y_test_enc = lenc.transform(y_test)"
   ]
  },
  {
   "cell_type": "markdown",
   "id": "4932d276",
   "metadata": {
    "papermill": {
     "duration": 0.005992,
     "end_time": "2025-05-15T16:15:42.927061",
     "exception": false,
     "start_time": "2025-05-15T16:15:42.921069",
     "status": "completed"
    },
    "tags": []
   },
   "source": [
    "### GENERATE F1 "
   ]
  },
  {
   "cell_type": "code",
   "execution_count": 17,
   "id": "a3b4332d",
   "metadata": {
    "execution": {
     "iopub.execute_input": "2025-05-15T16:15:42.940340Z",
     "iopub.status.busy": "2025-05-15T16:15:42.940140Z",
     "iopub.status.idle": "2025-05-15T16:15:42.942593Z",
     "shell.execute_reply": "2025-05-15T16:15:42.942247Z"
    },
    "papermill": {
     "duration": 0.010104,
     "end_time": "2025-05-15T16:15:42.943445",
     "exception": false,
     "start_time": "2025-05-15T16:15:42.933341",
     "status": "completed"
    },
    "tags": []
   },
   "outputs": [],
   "source": [
    "def custom_f1_score(y_true, y_pred):\n",
    "    return -f1_score(y_true, y_pred.argmax(1), average='weighted')"
   ]
  },
  {
   "cell_type": "code",
   "execution_count": 18,
   "id": "6ef864be",
   "metadata": {
    "execution": {
     "iopub.execute_input": "2025-05-15T16:15:42.955598Z",
     "iopub.status.busy": "2025-05-15T16:15:42.955375Z",
     "iopub.status.idle": "2025-05-15T16:15:42.959353Z",
     "shell.execute_reply": "2025-05-15T16:15:42.958954Z"
    },
    "papermill": {
     "duration": 0.010947,
     "end_time": "2025-05-15T16:15:42.960170",
     "exception": false,
     "start_time": "2025-05-15T16:15:42.949223",
     "status": "completed"
    },
    "tags": []
   },
   "outputs": [],
   "source": [
    "eval_metric=custom_f1_score\n",
    "eval_metric_name='custom_f1_score'\n",
    "\n",
    "def objective(trial):\n",
    "    params = {\n",
    "        'n_estimators': 1500,\n",
    "        'max_depth': trial.suggest_int('max_depth', 3, 20),\n",
    "        'min_child_weight': trial.suggest_int('min_child_weight', 1, 250),\n",
    "        'subsample': trial.suggest_float('subsample', 0.1, 1.0),\n",
    "        'colsample_bynode': trial.suggest_float('colsample_bynode', 0.1, 1.0),\n",
    "        'learning_rate': trial.suggest_float('learning_rate', 1e-3, 5e-1, log=True),\n",
    "    }\n",
    "    pruning_callback = optuna.integration.XGBoostPruningCallback(trial, f'validation_0-{eval_metric_name}')\n",
    "    es_callback = xgboost.callback.EarlyStopping(20, min_delta=0.001)\n",
    "    xgb = xgboost.XGBClassifier(\n",
    "        eval_metric=eval_metric,\n",
    "        callbacks=[pruning_callback, es_callback],\n",
    "        n_jobs=5,\n",
    "        **params\n",
    "    )\n",
    "    xgb.fit(\n",
    "        X_train, \n",
    "        y_train_enc, \n",
    "        verbose=0,\n",
    "        eval_set=[(X_val, y_val_enc)],\n",
    "    )\n",
    "    trial.set_user_attr('best_iteration', xgb.best_iteration)\n",
    "\n",
    "    return xgb.best_score"
   ]
  },
  {
   "cell_type": "code",
   "execution_count": 19,
   "id": "5554a479",
   "metadata": {
    "execution": {
     "iopub.execute_input": "2025-05-15T16:15:42.973061Z",
     "iopub.status.busy": "2025-05-15T16:15:42.972527Z",
     "iopub.status.idle": "2025-05-15T16:15:52.989368Z",
     "shell.execute_reply": "2025-05-15T16:15:52.988727Z"
    },
    "papermill": {
     "duration": 10.024366,
     "end_time": "2025-05-15T16:15:52.990440",
     "exception": false,
     "start_time": "2025-05-15T16:15:42.966074",
     "status": "completed"
    },
    "scrolled": true,
    "tags": []
   },
   "outputs": [
    {
     "name": "stderr",
     "output_type": "stream",
     "text": [
      "[I 2025-05-15 18:15:42,974] A new study created in memory with name: no-name-b0d3cb7d-e2b1-4bd4-81e1-fbd0d1fe6795\n"
     ]
    },
    {
     "name": "stderr",
     "output_type": "stream",
     "text": [
      "[I 2025-05-15 18:15:43,038] Trial 0 finished with value: -0.041688 and parameters: {'max_depth': 9, 'min_child_weight': 238, 'subsample': 0.7587945476302645, 'colsample_bynode': 0.6387926357773329, 'learning_rate': 0.0026368755339723046}. Best is trial 0 with value: -0.041688.\n"
     ]
    },
    {
     "name": "stderr",
     "output_type": "stream",
     "text": [
      "[I 2025-05-15 18:15:43,615] Trial 1 finished with value: -0.666973 and parameters: {'max_depth': 5, 'min_child_weight': 15, 'subsample': 0.8795585311974417, 'colsample_bynode': 0.6410035105688879, 'learning_rate': 0.08148293210105287}. Best is trial 1 with value: -0.666973.\n"
     ]
    },
    {
     "name": "stderr",
     "output_type": "stream",
     "text": [
      "[I 2025-05-15 18:15:43,771] Trial 2 finished with value: -0.041688 and parameters: {'max_depth': 3, 'min_child_weight': 243, 'subsample': 0.8491983767203796, 'colsample_bynode': 0.29110519961044856, 'learning_rate': 0.003095566460242371}. Best is trial 1 with value: -0.666973.\n"
     ]
    },
    {
     "name": "stderr",
     "output_type": "stream",
     "text": [
      "[I 2025-05-15 18:15:43,921] Trial 3 finished with value: -0.041688 and parameters: {'max_depth': 6, 'min_child_weight': 77, 'subsample': 0.5722807884690141, 'colsample_bynode': 0.48875051677790415, 'learning_rate': 0.006109683510122491}. Best is trial 1 with value: -0.666973.\n"
     ]
    },
    {
     "name": "stderr",
     "output_type": "stream",
     "text": [
      "[I 2025-05-15 18:15:44,084] Trial 4 finished with value: -0.041688 and parameters: {'max_depth': 14, 'min_child_weight': 35, 'subsample': 0.3629301836816964, 'colsample_bynode': 0.4297256589643226, 'learning_rate': 0.01701841881702917}. Best is trial 1 with value: -0.666973.\n"
     ]
    },
    {
     "name": "stderr",
     "output_type": "stream",
     "text": [
      "[I 2025-05-15 18:15:44,240] Trial 5 finished with value: -0.041688 and parameters: {'max_depth': 17, 'min_child_weight': 50, 'subsample': 0.5628109945722505, 'colsample_bynode': 0.6331731119758383, 'learning_rate': 0.0013346527038305934}. Best is trial 1 with value: -0.666973.\n"
     ]
    },
    {
     "name": "stderr",
     "output_type": "stream",
     "text": [
      "[I 2025-05-15 18:15:44,402] Trial 6 finished with value: -0.041688 and parameters: {'max_depth': 13, 'min_child_weight': 43, 'subsample': 0.1585464336867516, 'colsample_bynode': 0.9539969835279999, 'learning_rate': 0.4038423798071558}. Best is trial 1 with value: -0.666973.\n"
     ]
    },
    {
     "name": "stderr",
     "output_type": "stream",
     "text": [
      "[I 2025-05-15 18:15:44,561] Trial 7 finished with value: -0.041688 and parameters: {'max_depth': 17, 'min_child_weight': 77, 'subsample': 0.1879049026057455, 'colsample_bynode': 0.7158097238609412, 'learning_rate': 0.015415527060141935}. Best is trial 1 with value: -0.666973.\n"
     ]
    },
    {
     "name": "stderr",
     "output_type": "stream",
     "text": [
      "[I 2025-05-15 18:15:44,721] Trial 8 finished with value: -0.041688 and parameters: {'max_depth': 5, 'min_child_weight': 124, 'subsample': 0.13094966900369656, 'colsample_bynode': 0.9183883618709039, 'learning_rate': 0.004993895014755658}. Best is trial 1 with value: -0.666973.\n"
     ]
    },
    {
     "name": "stderr",
     "output_type": "stream",
     "text": [
      "[I 2025-05-15 18:15:44,878] Trial 9 finished with value: -0.041688 and parameters: {'max_depth': 14, 'min_child_weight': 78, 'subsample': 0.5680612190600297, 'colsample_bynode': 0.5920392514089517, 'learning_rate': 0.0031543990308330965}. Best is trial 1 with value: -0.666973.\n"
     ]
    },
    {
     "name": "stderr",
     "output_type": "stream",
     "text": [
      "[I 2025-05-15 18:15:45,175] Trial 10 pruned. Trial was pruned at iteration 21.\n"
     ]
    },
    {
     "name": "stderr",
     "output_type": "stream",
     "text": [
      "[I 2025-05-15 18:15:45,341] Trial 11 finished with value: -0.041688 and parameters: {'max_depth': 9, 'min_child_weight': 244, 'subsample': 0.7759918276625105, 'colsample_bynode': 0.7714157288516674, 'learning_rate': 0.06989197786403963}. Best is trial 1 with value: -0.666973.\n"
     ]
    },
    {
     "name": "stderr",
     "output_type": "stream",
     "text": [
      "[I 2025-05-15 18:15:45,508] Trial 12 finished with value: -0.041688 and parameters: {'max_depth': 9, 'min_child_weight': 187, 'subsample': 0.7810886706853567, 'colsample_bynode': 0.7908156974794198, 'learning_rate': 0.0852514223226423}. Best is trial 1 with value: -0.666973.\n"
     ]
    },
    {
     "name": "stderr",
     "output_type": "stream",
     "text": [
      "[I 2025-05-15 18:15:45,672] Trial 13 finished with value: -0.041688 and parameters: {'max_depth': 7, 'min_child_weight': 173, 'subsample': 0.9985711586801754, 'colsample_bynode': 0.3542314315933605, 'learning_rate': 0.05535376435186281}. Best is trial 1 with value: -0.666973.\n"
     ]
    },
    {
     "name": "stderr",
     "output_type": "stream",
     "text": [
      "[I 2025-05-15 18:15:45,840] Trial 14 finished with value: -0.041688 and parameters: {'max_depth': 4, 'min_child_weight': 140, 'subsample': 0.7252785471204157, 'colsample_bynode': 0.6251170185028069, 'learning_rate': 0.028603454172866558}. Best is trial 1 with value: -0.666973.\n"
     ]
    },
    {
     "name": "stderr",
     "output_type": "stream",
     "text": [
      "[I 2025-05-15 18:15:46,005] Trial 15 finished with value: -0.041688 and parameters: {'max_depth': 20, 'min_child_weight': 204, 'subsample': 0.6803150824063098, 'colsample_bynode': 0.8501087117926959, 'learning_rate': 0.001019745930894758}. Best is trial 1 with value: -0.666973.\n"
     ]
    },
    {
     "name": "stderr",
     "output_type": "stream",
     "text": [
      "[I 2025-05-15 18:15:46,185] Trial 16 finished with value: -0.041688 and parameters: {'max_depth': 8, 'min_child_weight': 121, 'subsample': 0.8625632182518037, 'colsample_bynode': 0.6970657857507844, 'learning_rate': 0.18961687234093502}. Best is trial 1 with value: -0.666973.\n"
     ]
    },
    {
     "name": "stderr",
     "output_type": "stream",
     "text": [
      "[I 2025-05-15 18:15:46,512] Trial 17 finished with value: -0.620378 and parameters: {'max_depth': 11, 'min_child_weight': 4, 'subsample': 0.4301895761585591, 'colsample_bynode': 0.515903282561015, 'learning_rate': 0.009410915946792322}. Best is trial 1 with value: -0.666973.\n"
     ]
    },
    {
     "name": "stderr",
     "output_type": "stream",
     "text": [
      "[I 2025-05-15 18:15:46,726] Trial 18 pruned. Trial was pruned at iteration 21.\n"
     ]
    },
    {
     "name": "stderr",
     "output_type": "stream",
     "text": [
      "[I 2025-05-15 18:15:46,901] Trial 19 finished with value: -0.119292 and parameters: {'max_depth': 11, 'min_child_weight': 22, 'subsample': 0.3762029913865458, 'colsample_bynode': 0.23825222843275057, 'learning_rate': 0.03320644976210297}. Best is trial 1 with value: -0.666973.\n"
     ]
    },
    {
     "name": "stderr",
     "output_type": "stream",
     "text": [
      "[I 2025-05-15 18:15:47,062] Trial 20 finished with value: -0.041688 and parameters: {'max_depth': 16, 'min_child_weight': 99, 'subsample': 0.2893313626528008, 'colsample_bynode': 0.422076800278259, 'learning_rate': 0.13046796300586744}. Best is trial 1 with value: -0.666973.\n"
     ]
    },
    {
     "name": "stderr",
     "output_type": "stream",
     "text": [
      "[I 2025-05-15 18:15:47,230] Trial 21 finished with value: -0.119292 and parameters: {'max_depth': 11, 'min_child_weight': 24, 'subsample': 0.4579357369861081, 'colsample_bynode': 0.19119727298237837, 'learning_rate': 0.036071858140429645}. Best is trial 1 with value: -0.666973.\n"
     ]
    },
    {
     "name": "stderr",
     "output_type": "stream",
     "text": [
      "[I 2025-05-15 18:15:47,392] Trial 22 finished with value: -0.119292 and parameters: {'max_depth': 12, 'min_child_weight': 25, 'subsample': 0.4676062191784226, 'colsample_bynode': 0.2553135267083242, 'learning_rate': 0.04293158416805306}. Best is trial 1 with value: -0.666973.\n"
     ]
    },
    {
     "name": "stderr",
     "output_type": "stream",
     "text": [
      "[I 2025-05-15 18:15:47,561] Trial 23 finished with value: -0.041688 and parameters: {'max_depth': 11, 'min_child_weight': 57, 'subsample': 0.23953900810403816, 'colsample_bynode': 0.36953321435606123, 'learning_rate': 0.011006125239902503}. Best is trial 1 with value: -0.666973.\n"
     ]
    },
    {
     "name": "stderr",
     "output_type": "stream",
     "text": [
      "[I 2025-05-15 18:15:47,747] Trial 24 pruned. Trial was pruned at iteration 21.\n"
     ]
    },
    {
     "name": "stderr",
     "output_type": "stream",
     "text": [
      "[I 2025-05-15 18:15:47,911] Trial 25 finished with value: -0.041688 and parameters: {'max_depth': 3, 'min_child_weight': 60, 'subsample': 0.6457170878693261, 'colsample_bynode': 0.11956396708392025, 'learning_rate': 0.09978632700359447}. Best is trial 1 with value: -0.666973.\n"
     ]
    },
    {
     "name": "stderr",
     "output_type": "stream",
     "text": [
      "[I 2025-05-15 18:15:48,309] Trial 26 pruned. Trial was pruned at iteration 48.\n"
     ]
    },
    {
     "name": "stderr",
     "output_type": "stream",
     "text": [
      "[I 2025-05-15 18:15:48,490] Trial 27 finished with value: -0.041688 and parameters: {'max_depth': 15, 'min_child_weight': 31, 'subsample': 0.2837646877243558, 'colsample_bynode': 0.5703836739958317, 'learning_rate': 0.007471003167569829}. Best is trial 1 with value: -0.666973.\n"
     ]
    },
    {
     "name": "stderr",
     "output_type": "stream",
     "text": [
      "[I 2025-05-15 18:15:48,665] Trial 28 finished with value: -0.041688 and parameters: {'max_depth': 20, 'min_child_weight': 97, 'subsample': 0.6397346039045746, 'colsample_bynode': 0.7140778868011379, 'learning_rate': 0.04659366952540314}. Best is trial 1 with value: -0.666973.\n"
     ]
    },
    {
     "name": "stderr",
     "output_type": "stream",
     "text": [
      "[I 2025-05-15 18:15:48,835] Trial 29 finished with value: -0.041688 and parameters: {'max_depth': 10, 'min_child_weight': 66, 'subsample': 0.323560153526853, 'colsample_bynode': 0.20537411785767284, 'learning_rate': 0.017615761775682057}. Best is trial 1 with value: -0.666973.\n"
     ]
    },
    {
     "name": "stderr",
     "output_type": "stream",
     "text": [
      "[I 2025-05-15 18:15:49,028] Trial 30 pruned. Trial was pruned at iteration 21.\n"
     ]
    },
    {
     "name": "stderr",
     "output_type": "stream",
     "text": [
      "[I 2025-05-15 18:15:49,193] Trial 31 pruned. Trial was pruned at iteration 21.\n"
     ]
    },
    {
     "name": "stderr",
     "output_type": "stream",
     "text": [
      "[I 2025-05-15 18:15:49,375] Trial 32 pruned. Trial was pruned at iteration 21.\n"
     ]
    },
    {
     "name": "stderr",
     "output_type": "stream",
     "text": [
      "[I 2025-05-15 18:15:49,544] Trial 33 pruned. Trial was pruned at iteration 21.\n"
     ]
    },
    {
     "name": "stderr",
     "output_type": "stream",
     "text": [
      "[I 2025-05-15 18:15:49,717] Trial 34 finished with value: -0.119292 and parameters: {'max_depth': 7, 'min_child_weight': 19, 'subsample': 0.4072169421770584, 'colsample_bynode': 0.3021991067034803, 'learning_rate': 0.012291464069764124}. Best is trial 1 with value: -0.666973.\n"
     ]
    },
    {
     "name": "stderr",
     "output_type": "stream",
     "text": [
      "[I 2025-05-15 18:15:49,893] Trial 35 finished with value: -0.041688 and parameters: {'max_depth': 13, 'min_child_weight': 49, 'subsample': 0.6037548750070142, 'colsample_bynode': 0.16269537042578994, 'learning_rate': 0.003975104696662616}. Best is trial 1 with value: -0.666973.\n"
     ]
    },
    {
     "name": "stderr",
     "output_type": "stream",
     "text": [
      "[I 2025-05-15 18:15:50,086] Trial 36 pruned. Trial was pruned at iteration 21.\n"
     ]
    },
    {
     "name": "stderr",
     "output_type": "stream",
     "text": [
      "[I 2025-05-15 18:15:50,263] Trial 37 finished with value: -0.041688 and parameters: {'max_depth': 11, 'min_child_weight': 93, 'subsample': 0.2110788326077957, 'colsample_bynode': 0.40444120757548746, 'learning_rate': 0.007715963700797416}. Best is trial 1 with value: -0.666973.\n"
     ]
    },
    {
     "name": "stderr",
     "output_type": "stream",
     "text": [
      "[I 2025-05-15 18:15:50,439] Trial 38 finished with value: -0.041688 and parameters: {'max_depth': 18, 'min_child_weight': 32, 'subsample': 0.35426241777607137, 'colsample_bynode': 0.5291453308415957, 'learning_rate': 0.020216560710623232}. Best is trial 1 with value: -0.666973.\n"
     ]
    },
    {
     "name": "stderr",
     "output_type": "stream",
     "text": [
      "[I 2025-05-15 18:15:50,606] Trial 39 finished with value: -0.041688 and parameters: {'max_depth': 14, 'min_child_weight': 74, 'subsample': 0.4367612377502733, 'colsample_bynode': 0.31866206254640517, 'learning_rate': 0.07545973486139121}. Best is trial 1 with value: -0.666973.\n"
     ]
    },
    {
     "name": "stderr",
     "output_type": "stream",
     "text": [
      "[I 2025-05-15 18:15:50,788] Trial 40 finished with value: -0.041688 and parameters: {'max_depth': 5, 'min_child_weight': 47, 'subsample': 0.5407761295676743, 'colsample_bynode': 0.6728080585901951, 'learning_rate': 0.0024927191703000913}. Best is trial 1 with value: -0.666973.\n"
     ]
    },
    {
     "name": "stderr",
     "output_type": "stream",
     "text": [
      "[I 2025-05-15 18:15:50,957] Trial 41 finished with value: -0.119292 and parameters: {'max_depth': 12, 'min_child_weight': 26, 'subsample': 0.4530745419777315, 'colsample_bynode': 0.2483435830357903, 'learning_rate': 0.040664957038745425}. Best is trial 1 with value: -0.666973.\n"
     ]
    },
    {
     "name": "stderr",
     "output_type": "stream",
     "text": [
      "[I 2025-05-15 18:15:51,126] Trial 42 finished with value: -0.119292 and parameters: {'max_depth': 15, 'min_child_weight': 28, 'subsample': 0.36377888804434066, 'colsample_bynode': 0.23915828441641412, 'learning_rate': 0.042777589630287535}. Best is trial 1 with value: -0.666973.\n"
     ]
    },
    {
     "name": "stderr",
     "output_type": "stream",
     "text": [
      "[I 2025-05-15 18:15:51,333] Trial 43 pruned. Trial was pruned at iteration 21.\n"
     ]
    },
    {
     "name": "stderr",
     "output_type": "stream",
     "text": [
      "[I 2025-05-15 18:15:52,063] Trial 44 pruned. Trial was pruned at iteration 43.\n"
     ]
    },
    {
     "name": "stderr",
     "output_type": "stream",
     "text": [
      "[I 2025-05-15 18:15:52,226] Trial 45 finished with value: -0.041688 and parameters: {'max_depth': 14, 'min_child_weight': 46, 'subsample': 0.3906545338168517, 'colsample_bynode': 0.6125863464871659, 'learning_rate': 0.20042221317810568}. Best is trial 1 with value: -0.666973.\n"
     ]
    },
    {
     "name": "stderr",
     "output_type": "stream",
     "text": [
      "[I 2025-05-15 18:15:52,384] Trial 46 pruned. Trial was pruned at iteration 21.\n"
     ]
    },
    {
     "name": "stderr",
     "output_type": "stream",
     "text": [
      "[I 2025-05-15 18:15:52,564] Trial 47 finished with value: -0.041688 and parameters: {'max_depth': 13, 'min_child_weight': 148, 'subsample': 0.729674222925023, 'colsample_bynode': 0.8607199130156584, 'learning_rate': 0.09326980732229347}. Best is trial 1 with value: -0.666973.\n"
     ]
    },
    {
     "name": "stderr",
     "output_type": "stream",
     "text": [
      "[I 2025-05-15 18:15:52,730] Trial 48 finished with value: -0.041688 and parameters: {'max_depth': 6, 'min_child_weight': 84, 'subsample': 0.3249690607750011, 'colsample_bynode': 0.6529201901447679, 'learning_rate': 0.023234968855212826}. Best is trial 1 with value: -0.666973.\n"
     ]
    },
    {
     "name": "stderr",
     "output_type": "stream",
     "text": [
      "[I 2025-05-15 18:15:52,901] Trial 49 finished with value: -0.041688 and parameters: {'max_depth': 11, 'min_child_weight': 39, 'subsample': 0.4564419765019229, 'colsample_bynode': 0.46465936777896377, 'learning_rate': 0.06415560562734766}. Best is trial 1 with value: -0.666973.\n"
     ]
    }
   ],
   "source": [
    "sampler = optuna.samplers.TPESampler(seed=42)\n",
    "study = optuna.create_study(direction='minimize', sampler=sampler)\n",
    "study.optimize(objective, n_trials=N_TRIALS, gc_after_trial=True)"
   ]
  },
  {
   "cell_type": "code",
   "execution_count": 20,
   "id": "75d71d25",
   "metadata": {
    "execution": {
     "iopub.execute_input": "2025-05-15T16:15:53.020897Z",
     "iopub.status.busy": "2025-05-15T16:15:53.020696Z",
     "iopub.status.idle": "2025-05-15T16:15:53.043093Z",
     "shell.execute_reply": "2025-05-15T16:15:53.042735Z"
    },
    "papermill": {
     "duration": 0.044065,
     "end_time": "2025-05-15T16:15:53.044072",
     "exception": false,
     "start_time": "2025-05-15T16:15:53.000007",
     "status": "completed"
    },
    "tags": []
   },
   "outputs": [
    {
     "data": {
      "text/plain": [
       "['/scratch_isilon/groups/singlecell/shared/projects/Inflammation-PBMCs-Atlas/03_downstream_analysis/08_gene_importance/xgboost_external_validation/xgboost_TopN_genes/results_20/study/Plasma_12_3_xgboost.pkl']"
      ]
     },
     "execution_count": 20,
     "metadata": {},
     "output_type": "execute_result"
    }
   ],
   "source": [
    "out_dir = here(f'03_downstream_analysis/08_gene_importance/xgboost_external_validation/xgboost_TopN_genes/results_{N_GENES}/study')\n",
    "\n",
    "if not os.path.exists(out_dir):\n",
    "    os.makedirs(out_dir)\n",
    "    \n",
    "joblib.dump(study,os.path.join(out_dir, f'{CELL_TYPE}_{SEED}_{TEST_SPLIT_IDX}_xgboost.pkl'))"
   ]
  },
  {
   "cell_type": "code",
   "execution_count": 21,
   "id": "ebe96257",
   "metadata": {
    "execution": {
     "iopub.execute_input": "2025-05-15T16:15:53.064050Z",
     "iopub.status.busy": "2025-05-15T16:15:53.063762Z",
     "iopub.status.idle": "2025-05-15T16:15:53.494101Z",
     "shell.execute_reply": "2025-05-15T16:15:53.493714Z"
    },
    "papermill": {
     "duration": 0.441993,
     "end_time": "2025-05-15T16:15:53.495655",
     "exception": false,
     "start_time": "2025-05-15T16:15:53.053662",
     "status": "completed"
    },
    "tags": []
   },
   "outputs": [
    {
     "data": {
      "text/html": [
       "<style>#sk-container-id-1 {\n",
       "  /* Definition of color scheme common for light and dark mode */\n",
       "  --sklearn-color-text: black;\n",
       "  --sklearn-color-line: gray;\n",
       "  /* Definition of color scheme for unfitted estimators */\n",
       "  --sklearn-color-unfitted-level-0: #fff5e6;\n",
       "  --sklearn-color-unfitted-level-1: #f6e4d2;\n",
       "  --sklearn-color-unfitted-level-2: #ffe0b3;\n",
       "  --sklearn-color-unfitted-level-3: chocolate;\n",
       "  /* Definition of color scheme for fitted estimators */\n",
       "  --sklearn-color-fitted-level-0: #f0f8ff;\n",
       "  --sklearn-color-fitted-level-1: #d4ebff;\n",
       "  --sklearn-color-fitted-level-2: #b3dbfd;\n",
       "  --sklearn-color-fitted-level-3: cornflowerblue;\n",
       "\n",
       "  /* Specific color for light theme */\n",
       "  --sklearn-color-text-on-default-background: var(--sg-text-color, var(--theme-code-foreground, var(--jp-content-font-color1, black)));\n",
       "  --sklearn-color-background: var(--sg-background-color, var(--theme-background, var(--jp-layout-color0, white)));\n",
       "  --sklearn-color-border-box: var(--sg-text-color, var(--theme-code-foreground, var(--jp-content-font-color1, black)));\n",
       "  --sklearn-color-icon: #696969;\n",
       "\n",
       "  @media (prefers-color-scheme: dark) {\n",
       "    /* Redefinition of color scheme for dark theme */\n",
       "    --sklearn-color-text-on-default-background: var(--sg-text-color, var(--theme-code-foreground, var(--jp-content-font-color1, white)));\n",
       "    --sklearn-color-background: var(--sg-background-color, var(--theme-background, var(--jp-layout-color0, #111)));\n",
       "    --sklearn-color-border-box: var(--sg-text-color, var(--theme-code-foreground, var(--jp-content-font-color1, white)));\n",
       "    --sklearn-color-icon: #878787;\n",
       "  }\n",
       "}\n",
       "\n",
       "#sk-container-id-1 {\n",
       "  color: var(--sklearn-color-text);\n",
       "}\n",
       "\n",
       "#sk-container-id-1 pre {\n",
       "  padding: 0;\n",
       "}\n",
       "\n",
       "#sk-container-id-1 input.sk-hidden--visually {\n",
       "  border: 0;\n",
       "  clip: rect(1px 1px 1px 1px);\n",
       "  clip: rect(1px, 1px, 1px, 1px);\n",
       "  height: 1px;\n",
       "  margin: -1px;\n",
       "  overflow: hidden;\n",
       "  padding: 0;\n",
       "  position: absolute;\n",
       "  width: 1px;\n",
       "}\n",
       "\n",
       "#sk-container-id-1 div.sk-dashed-wrapped {\n",
       "  border: 1px dashed var(--sklearn-color-line);\n",
       "  margin: 0 0.4em 0.5em 0.4em;\n",
       "  box-sizing: border-box;\n",
       "  padding-bottom: 0.4em;\n",
       "  background-color: var(--sklearn-color-background);\n",
       "}\n",
       "\n",
       "#sk-container-id-1 div.sk-container {\n",
       "  /* jupyter's `normalize.less` sets `[hidden] { display: none; }`\n",
       "     but bootstrap.min.css set `[hidden] { display: none !important; }`\n",
       "     so we also need the `!important` here to be able to override the\n",
       "     default hidden behavior on the sphinx rendered scikit-learn.org.\n",
       "     See: https://github.com/scikit-learn/scikit-learn/issues/21755 */\n",
       "  display: inline-block !important;\n",
       "  position: relative;\n",
       "}\n",
       "\n",
       "#sk-container-id-1 div.sk-text-repr-fallback {\n",
       "  display: none;\n",
       "}\n",
       "\n",
       "div.sk-parallel-item,\n",
       "div.sk-serial,\n",
       "div.sk-item {\n",
       "  /* draw centered vertical line to link estimators */\n",
       "  background-image: linear-gradient(var(--sklearn-color-text-on-default-background), var(--sklearn-color-text-on-default-background));\n",
       "  background-size: 2px 100%;\n",
       "  background-repeat: no-repeat;\n",
       "  background-position: center center;\n",
       "}\n",
       "\n",
       "/* Parallel-specific style estimator block */\n",
       "\n",
       "#sk-container-id-1 div.sk-parallel-item::after {\n",
       "  content: \"\";\n",
       "  width: 100%;\n",
       "  border-bottom: 2px solid var(--sklearn-color-text-on-default-background);\n",
       "  flex-grow: 1;\n",
       "}\n",
       "\n",
       "#sk-container-id-1 div.sk-parallel {\n",
       "  display: flex;\n",
       "  align-items: stretch;\n",
       "  justify-content: center;\n",
       "  background-color: var(--sklearn-color-background);\n",
       "  position: relative;\n",
       "}\n",
       "\n",
       "#sk-container-id-1 div.sk-parallel-item {\n",
       "  display: flex;\n",
       "  flex-direction: column;\n",
       "}\n",
       "\n",
       "#sk-container-id-1 div.sk-parallel-item:first-child::after {\n",
       "  align-self: flex-end;\n",
       "  width: 50%;\n",
       "}\n",
       "\n",
       "#sk-container-id-1 div.sk-parallel-item:last-child::after {\n",
       "  align-self: flex-start;\n",
       "  width: 50%;\n",
       "}\n",
       "\n",
       "#sk-container-id-1 div.sk-parallel-item:only-child::after {\n",
       "  width: 0;\n",
       "}\n",
       "\n",
       "/* Serial-specific style estimator block */\n",
       "\n",
       "#sk-container-id-1 div.sk-serial {\n",
       "  display: flex;\n",
       "  flex-direction: column;\n",
       "  align-items: center;\n",
       "  background-color: var(--sklearn-color-background);\n",
       "  padding-right: 1em;\n",
       "  padding-left: 1em;\n",
       "}\n",
       "\n",
       "\n",
       "/* Toggleable style: style used for estimator/Pipeline/ColumnTransformer box that is\n",
       "clickable and can be expanded/collapsed.\n",
       "- Pipeline and ColumnTransformer use this feature and define the default style\n",
       "- Estimators will overwrite some part of the style using the `sk-estimator` class\n",
       "*/\n",
       "\n",
       "/* Pipeline and ColumnTransformer style (default) */\n",
       "\n",
       "#sk-container-id-1 div.sk-toggleable {\n",
       "  /* Default theme specific background. It is overwritten whether we have a\n",
       "  specific estimator or a Pipeline/ColumnTransformer */\n",
       "  background-color: var(--sklearn-color-background);\n",
       "}\n",
       "\n",
       "/* Toggleable label */\n",
       "#sk-container-id-1 label.sk-toggleable__label {\n",
       "  cursor: pointer;\n",
       "  display: block;\n",
       "  width: 100%;\n",
       "  margin-bottom: 0;\n",
       "  padding: 0.5em;\n",
       "  box-sizing: border-box;\n",
       "  text-align: center;\n",
       "}\n",
       "\n",
       "#sk-container-id-1 label.sk-toggleable__label-arrow:before {\n",
       "  /* Arrow on the left of the label */\n",
       "  content: \"▸\";\n",
       "  float: left;\n",
       "  margin-right: 0.25em;\n",
       "  color: var(--sklearn-color-icon);\n",
       "}\n",
       "\n",
       "#sk-container-id-1 label.sk-toggleable__label-arrow:hover:before {\n",
       "  color: var(--sklearn-color-text);\n",
       "}\n",
       "\n",
       "/* Toggleable content - dropdown */\n",
       "\n",
       "#sk-container-id-1 div.sk-toggleable__content {\n",
       "  max-height: 0;\n",
       "  max-width: 0;\n",
       "  overflow: hidden;\n",
       "  text-align: left;\n",
       "  /* unfitted */\n",
       "  background-color: var(--sklearn-color-unfitted-level-0);\n",
       "}\n",
       "\n",
       "#sk-container-id-1 div.sk-toggleable__content.fitted {\n",
       "  /* fitted */\n",
       "  background-color: var(--sklearn-color-fitted-level-0);\n",
       "}\n",
       "\n",
       "#sk-container-id-1 div.sk-toggleable__content pre {\n",
       "  margin: 0.2em;\n",
       "  border-radius: 0.25em;\n",
       "  color: var(--sklearn-color-text);\n",
       "  /* unfitted */\n",
       "  background-color: var(--sklearn-color-unfitted-level-0);\n",
       "}\n",
       "\n",
       "#sk-container-id-1 div.sk-toggleable__content.fitted pre {\n",
       "  /* unfitted */\n",
       "  background-color: var(--sklearn-color-fitted-level-0);\n",
       "}\n",
       "\n",
       "#sk-container-id-1 input.sk-toggleable__control:checked~div.sk-toggleable__content {\n",
       "  /* Expand drop-down */\n",
       "  max-height: 200px;\n",
       "  max-width: 100%;\n",
       "  overflow: auto;\n",
       "}\n",
       "\n",
       "#sk-container-id-1 input.sk-toggleable__control:checked~label.sk-toggleable__label-arrow:before {\n",
       "  content: \"▾\";\n",
       "}\n",
       "\n",
       "/* Pipeline/ColumnTransformer-specific style */\n",
       "\n",
       "#sk-container-id-1 div.sk-label input.sk-toggleable__control:checked~label.sk-toggleable__label {\n",
       "  color: var(--sklearn-color-text);\n",
       "  background-color: var(--sklearn-color-unfitted-level-2);\n",
       "}\n",
       "\n",
       "#sk-container-id-1 div.sk-label.fitted input.sk-toggleable__control:checked~label.sk-toggleable__label {\n",
       "  background-color: var(--sklearn-color-fitted-level-2);\n",
       "}\n",
       "\n",
       "/* Estimator-specific style */\n",
       "\n",
       "/* Colorize estimator box */\n",
       "#sk-container-id-1 div.sk-estimator input.sk-toggleable__control:checked~label.sk-toggleable__label {\n",
       "  /* unfitted */\n",
       "  background-color: var(--sklearn-color-unfitted-level-2);\n",
       "}\n",
       "\n",
       "#sk-container-id-1 div.sk-estimator.fitted input.sk-toggleable__control:checked~label.sk-toggleable__label {\n",
       "  /* fitted */\n",
       "  background-color: var(--sklearn-color-fitted-level-2);\n",
       "}\n",
       "\n",
       "#sk-container-id-1 div.sk-label label.sk-toggleable__label,\n",
       "#sk-container-id-1 div.sk-label label {\n",
       "  /* The background is the default theme color */\n",
       "  color: var(--sklearn-color-text-on-default-background);\n",
       "}\n",
       "\n",
       "/* On hover, darken the color of the background */\n",
       "#sk-container-id-1 div.sk-label:hover label.sk-toggleable__label {\n",
       "  color: var(--sklearn-color-text);\n",
       "  background-color: var(--sklearn-color-unfitted-level-2);\n",
       "}\n",
       "\n",
       "/* Label box, darken color on hover, fitted */\n",
       "#sk-container-id-1 div.sk-label.fitted:hover label.sk-toggleable__label.fitted {\n",
       "  color: var(--sklearn-color-text);\n",
       "  background-color: var(--sklearn-color-fitted-level-2);\n",
       "}\n",
       "\n",
       "/* Estimator label */\n",
       "\n",
       "#sk-container-id-1 div.sk-label label {\n",
       "  font-family: monospace;\n",
       "  font-weight: bold;\n",
       "  display: inline-block;\n",
       "  line-height: 1.2em;\n",
       "}\n",
       "\n",
       "#sk-container-id-1 div.sk-label-container {\n",
       "  text-align: center;\n",
       "}\n",
       "\n",
       "/* Estimator-specific */\n",
       "#sk-container-id-1 div.sk-estimator {\n",
       "  font-family: monospace;\n",
       "  border: 1px dotted var(--sklearn-color-border-box);\n",
       "  border-radius: 0.25em;\n",
       "  box-sizing: border-box;\n",
       "  margin-bottom: 0.5em;\n",
       "  /* unfitted */\n",
       "  background-color: var(--sklearn-color-unfitted-level-0);\n",
       "}\n",
       "\n",
       "#sk-container-id-1 div.sk-estimator.fitted {\n",
       "  /* fitted */\n",
       "  background-color: var(--sklearn-color-fitted-level-0);\n",
       "}\n",
       "\n",
       "/* on hover */\n",
       "#sk-container-id-1 div.sk-estimator:hover {\n",
       "  /* unfitted */\n",
       "  background-color: var(--sklearn-color-unfitted-level-2);\n",
       "}\n",
       "\n",
       "#sk-container-id-1 div.sk-estimator.fitted:hover {\n",
       "  /* fitted */\n",
       "  background-color: var(--sklearn-color-fitted-level-2);\n",
       "}\n",
       "\n",
       "/* Specification for estimator info (e.g. \"i\" and \"?\") */\n",
       "\n",
       "/* Common style for \"i\" and \"?\" */\n",
       "\n",
       ".sk-estimator-doc-link,\n",
       "a:link.sk-estimator-doc-link,\n",
       "a:visited.sk-estimator-doc-link {\n",
       "  float: right;\n",
       "  font-size: smaller;\n",
       "  line-height: 1em;\n",
       "  font-family: monospace;\n",
       "  background-color: var(--sklearn-color-background);\n",
       "  border-radius: 1em;\n",
       "  height: 1em;\n",
       "  width: 1em;\n",
       "  text-decoration: none !important;\n",
       "  margin-left: 1ex;\n",
       "  /* unfitted */\n",
       "  border: var(--sklearn-color-unfitted-level-1) 1pt solid;\n",
       "  color: var(--sklearn-color-unfitted-level-1);\n",
       "}\n",
       "\n",
       ".sk-estimator-doc-link.fitted,\n",
       "a:link.sk-estimator-doc-link.fitted,\n",
       "a:visited.sk-estimator-doc-link.fitted {\n",
       "  /* fitted */\n",
       "  border: var(--sklearn-color-fitted-level-1) 1pt solid;\n",
       "  color: var(--sklearn-color-fitted-level-1);\n",
       "}\n",
       "\n",
       "/* On hover */\n",
       "div.sk-estimator:hover .sk-estimator-doc-link:hover,\n",
       ".sk-estimator-doc-link:hover,\n",
       "div.sk-label-container:hover .sk-estimator-doc-link:hover,\n",
       ".sk-estimator-doc-link:hover {\n",
       "  /* unfitted */\n",
       "  background-color: var(--sklearn-color-unfitted-level-3);\n",
       "  color: var(--sklearn-color-background);\n",
       "  text-decoration: none;\n",
       "}\n",
       "\n",
       "div.sk-estimator.fitted:hover .sk-estimator-doc-link.fitted:hover,\n",
       ".sk-estimator-doc-link.fitted:hover,\n",
       "div.sk-label-container:hover .sk-estimator-doc-link.fitted:hover,\n",
       ".sk-estimator-doc-link.fitted:hover {\n",
       "  /* fitted */\n",
       "  background-color: var(--sklearn-color-fitted-level-3);\n",
       "  color: var(--sklearn-color-background);\n",
       "  text-decoration: none;\n",
       "}\n",
       "\n",
       "/* Span, style for the box shown on hovering the info icon */\n",
       ".sk-estimator-doc-link span {\n",
       "  display: none;\n",
       "  z-index: 9999;\n",
       "  position: relative;\n",
       "  font-weight: normal;\n",
       "  right: .2ex;\n",
       "  padding: .5ex;\n",
       "  margin: .5ex;\n",
       "  width: min-content;\n",
       "  min-width: 20ex;\n",
       "  max-width: 50ex;\n",
       "  color: var(--sklearn-color-text);\n",
       "  box-shadow: 2pt 2pt 4pt #999;\n",
       "  /* unfitted */\n",
       "  background: var(--sklearn-color-unfitted-level-0);\n",
       "  border: .5pt solid var(--sklearn-color-unfitted-level-3);\n",
       "}\n",
       "\n",
       ".sk-estimator-doc-link.fitted span {\n",
       "  /* fitted */\n",
       "  background: var(--sklearn-color-fitted-level-0);\n",
       "  border: var(--sklearn-color-fitted-level-3);\n",
       "}\n",
       "\n",
       ".sk-estimator-doc-link:hover span {\n",
       "  display: block;\n",
       "}\n",
       "\n",
       "/* \"?\"-specific style due to the `<a>` HTML tag */\n",
       "\n",
       "#sk-container-id-1 a.estimator_doc_link {\n",
       "  float: right;\n",
       "  font-size: 1rem;\n",
       "  line-height: 1em;\n",
       "  font-family: monospace;\n",
       "  background-color: var(--sklearn-color-background);\n",
       "  border-radius: 1rem;\n",
       "  height: 1rem;\n",
       "  width: 1rem;\n",
       "  text-decoration: none;\n",
       "  /* unfitted */\n",
       "  color: var(--sklearn-color-unfitted-level-1);\n",
       "  border: var(--sklearn-color-unfitted-level-1) 1pt solid;\n",
       "}\n",
       "\n",
       "#sk-container-id-1 a.estimator_doc_link.fitted {\n",
       "  /* fitted */\n",
       "  border: var(--sklearn-color-fitted-level-1) 1pt solid;\n",
       "  color: var(--sklearn-color-fitted-level-1);\n",
       "}\n",
       "\n",
       "/* On hover */\n",
       "#sk-container-id-1 a.estimator_doc_link:hover {\n",
       "  /* unfitted */\n",
       "  background-color: var(--sklearn-color-unfitted-level-3);\n",
       "  color: var(--sklearn-color-background);\n",
       "  text-decoration: none;\n",
       "}\n",
       "\n",
       "#sk-container-id-1 a.estimator_doc_link.fitted:hover {\n",
       "  /* fitted */\n",
       "  background-color: var(--sklearn-color-fitted-level-3);\n",
       "}\n",
       "</style><div id=\"sk-container-id-1\" class=\"sk-top-container\"><div class=\"sk-text-repr-fallback\"><pre>XGBClassifier(base_score=None, booster=None, callbacks=None,\n",
       "              colsample_bylevel=None, colsample_bynode=0.6410035105688879,\n",
       "              colsample_bytree=None, device=None, early_stopping_rounds=None,\n",
       "              enable_categorical=False,\n",
       "              eval_metric=&lt;function custom_f1_score at 0x7fa2531545e0&gt;,\n",
       "              feature_types=None, gamma=None, grow_policy=None,\n",
       "              importance_type=None, interaction_constraints=None,\n",
       "              learning_rate=0.08148293210105287, max_bin=None,\n",
       "              max_cat_threshold=None, max_cat_to_onehot=None,\n",
       "              max_delta_step=None, max_depth=5, max_leaves=None,\n",
       "              min_child_weight=15, missing=nan, monotone_constraints=None,\n",
       "              multi_strategy=None, n_estimators=105, n_jobs=None,\n",
       "              num_parallel_tree=None, objective=&#x27;multi:softprob&#x27;, ...)</pre><b>In a Jupyter environment, please rerun this cell to show the HTML representation or trust the notebook. <br />On GitHub, the HTML representation is unable to render, please try loading this page with nbviewer.org.</b></div><div class=\"sk-container\" hidden><div class=\"sk-item\"><div class=\"sk-estimator fitted sk-toggleable\"><input class=\"sk-toggleable__control sk-hidden--visually\" id=\"sk-estimator-id-1\" type=\"checkbox\" checked><label for=\"sk-estimator-id-1\" class=\"sk-toggleable__label fitted sk-toggleable__label-arrow fitted\">&nbsp;XGBClassifier<span class=\"sk-estimator-doc-link fitted\">i<span>Fitted</span></span></label><div class=\"sk-toggleable__content fitted\"><pre>XGBClassifier(base_score=None, booster=None, callbacks=None,\n",
       "              colsample_bylevel=None, colsample_bynode=0.6410035105688879,\n",
       "              colsample_bytree=None, device=None, early_stopping_rounds=None,\n",
       "              enable_categorical=False,\n",
       "              eval_metric=&lt;function custom_f1_score at 0x7fa2531545e0&gt;,\n",
       "              feature_types=None, gamma=None, grow_policy=None,\n",
       "              importance_type=None, interaction_constraints=None,\n",
       "              learning_rate=0.08148293210105287, max_bin=None,\n",
       "              max_cat_threshold=None, max_cat_to_onehot=None,\n",
       "              max_delta_step=None, max_depth=5, max_leaves=None,\n",
       "              min_child_weight=15, missing=nan, monotone_constraints=None,\n",
       "              multi_strategy=None, n_estimators=105, n_jobs=None,\n",
       "              num_parallel_tree=None, objective=&#x27;multi:softprob&#x27;, ...)</pre></div> </div></div></div></div>"
      ],
      "text/plain": [
       "XGBClassifier(base_score=None, booster=None, callbacks=None,\n",
       "              colsample_bylevel=None, colsample_bynode=0.6410035105688879,\n",
       "              colsample_bytree=None, device=None, early_stopping_rounds=None,\n",
       "              enable_categorical=False,\n",
       "              eval_metric=<function custom_f1_score at 0x7fa2531545e0>,\n",
       "              feature_types=None, gamma=None, grow_policy=None,\n",
       "              importance_type=None, interaction_constraints=None,\n",
       "              learning_rate=0.08148293210105287, max_bin=None,\n",
       "              max_cat_threshold=None, max_cat_to_onehot=None,\n",
       "              max_delta_step=None, max_depth=5, max_leaves=None,\n",
       "              min_child_weight=15, missing=nan, monotone_constraints=None,\n",
       "              multi_strategy=None, n_estimators=105, n_jobs=None,\n",
       "              num_parallel_tree=None, objective='multi:softprob', ...)"
      ]
     },
     "execution_count": 21,
     "metadata": {},
     "output_type": "execute_result"
    }
   ],
   "source": [
    "n_estimators = int(study.best_trial.user_attrs['best_iteration']*1.2)\n",
    "xgb = xgboost.XGBClassifier(\n",
    "        eval_metric=eval_metric,\n",
    "        n_estimators=n_estimators,\n",
    "        **study.best_trial.params\n",
    "    )\n",
    "xgb.fit(\n",
    "    ssp.vstack((X_train, X_val)), \n",
    "    np.concatenate((y_train_enc, y_val_enc)),\n",
    "    verbose=1,\n",
    ")"
   ]
  },
  {
   "cell_type": "code",
   "execution_count": 22,
   "id": "e6a39b17",
   "metadata": {
    "execution": {
     "iopub.execute_input": "2025-05-15T16:15:53.517773Z",
     "iopub.status.busy": "2025-05-15T16:15:53.517576Z",
     "iopub.status.idle": "2025-05-15T16:15:53.566958Z",
     "shell.execute_reply": "2025-05-15T16:15:53.566634Z"
    },
    "papermill": {
     "duration": 0.06163,
     "end_time": "2025-05-15T16:15:53.568264",
     "exception": false,
     "start_time": "2025-05-15T16:15:53.506634",
     "status": "completed"
    },
    "tags": []
   },
   "outputs": [
    {
     "data": {
      "text/plain": [
       "['/scratch_isilon/groups/singlecell/shared/projects/Inflammation-PBMCs-Atlas/03_downstream_analysis/08_gene_importance/xgboost_external_validation/xgboost_TopN_genes/results_20/best_model/Plasma_12_3_xgb.json']"
      ]
     },
     "execution_count": 22,
     "metadata": {},
     "output_type": "execute_result"
    }
   ],
   "source": [
    "out_dir = here(f'03_downstream_analysis/08_gene_importance/xgboost_external_validation/xgboost_TopN_genes/results_{N_GENES}/best_model')\n",
    "\n",
    "if not os.path.exists(out_dir):\n",
    "    os.makedirs(out_dir)\n",
    "    \n",
    "joblib.dump(xgb, os.path.join(out_dir, f'{CELL_TYPE}_{SEED}_{TEST_SPLIT_IDX}_xgb.json'))"
   ]
  },
  {
   "cell_type": "code",
   "execution_count": 23,
   "id": "a555ab2e",
   "metadata": {
    "execution": {
     "iopub.execute_input": "2025-05-15T16:15:53.626217Z",
     "iopub.status.busy": "2025-05-15T16:15:53.626026Z",
     "iopub.status.idle": "2025-05-15T16:15:53.631290Z",
     "shell.execute_reply": "2025-05-15T16:15:53.630943Z"
    },
    "papermill": {
     "duration": 0.058136,
     "end_time": "2025-05-15T16:15:53.636930",
     "exception": false,
     "start_time": "2025-05-15T16:15:53.578794",
     "status": "completed"
    },
    "tags": []
   },
   "outputs": [],
   "source": [
    "df_pred_test = pd.DataFrame(dict(\n",
    "    cell_id=train_adata.obs.iloc[test_idxs].index.values,\n",
    "    y_true=y_test, \n",
    "    y_true_code=y_test_enc, \n",
    "    y_pred=xgb.predict(X_test))).set_index('cell_id')"
   ]
  },
  {
   "cell_type": "code",
   "execution_count": 24,
   "id": "b3e34d08",
   "metadata": {
    "execution": {
     "iopub.execute_input": "2025-05-15T16:15:53.703032Z",
     "iopub.status.busy": "2025-05-15T16:15:53.702725Z",
     "iopub.status.idle": "2025-05-15T16:15:53.714377Z",
     "shell.execute_reply": "2025-05-15T16:15:53.713982Z"
    },
    "papermill": {
     "duration": 0.069709,
     "end_time": "2025-05-15T16:15:53.715870",
     "exception": false,
     "start_time": "2025-05-15T16:15:53.646161",
     "status": "completed"
    },
    "tags": []
   },
   "outputs": [],
   "source": [
    "out_dir = here(f'03_downstream_analysis/08_gene_importance/xgboost_external_validation/xgboost_TopN_genes/results_{N_GENES}/predictions')\n",
    "\n",
    "if not os.path.exists(out_dir):\n",
    "    os.makedirs(out_dir)\n",
    "    \n",
    "df_pred_test.to_csv(os.path.join(out_dir, f'{CELL_TYPE}_{SEED}_{TEST_SPLIT_IDX}_pred_test.zip'))"
   ]
  },
  {
   "cell_type": "code",
   "execution_count": 25,
   "id": "b7430952",
   "metadata": {
    "execution": {
     "iopub.execute_input": "2025-05-15T16:15:53.752231Z",
     "iopub.status.busy": "2025-05-15T16:15:53.752044Z",
     "iopub.status.idle": "2025-05-15T16:15:53.757467Z",
     "shell.execute_reply": "2025-05-15T16:15:53.757151Z"
    },
    "papermill": {
     "duration": 0.032129,
     "end_time": "2025-05-15T16:15:53.758658",
     "exception": false,
     "start_time": "2025-05-15T16:15:53.726529",
     "status": "completed"
    },
    "tags": []
   },
   "outputs": [],
   "source": [
    "metrics_dict = dict(\n",
    "    BAS=balanced_accuracy_score(y_true=df_pred_test.y_true_code, y_pred=df_pred_test.y_pred), WF1=f1_score(y_true=df_pred_test.y_true_code, y_pred=df_pred_test.y_pred,average='weighted'))"
   ]
  },
  {
   "cell_type": "code",
   "execution_count": 26,
   "id": "81684fad",
   "metadata": {
    "execution": {
     "iopub.execute_input": "2025-05-15T16:15:53.779347Z",
     "iopub.status.busy": "2025-05-15T16:15:53.779155Z",
     "iopub.status.idle": "2025-05-15T16:15:53.782153Z",
     "shell.execute_reply": "2025-05-15T16:15:53.781804Z"
    },
    "papermill": {
     "duration": 0.014375,
     "end_time": "2025-05-15T16:15:53.783055",
     "exception": false,
     "start_time": "2025-05-15T16:15:53.768680",
     "status": "completed"
    },
    "tags": []
   },
   "outputs": [
    {
     "data": {
      "text/plain": [
       "{'BAS': 0.3659049284049284, 'WF1': 0.6022190718097151}"
      ]
     },
     "execution_count": 26,
     "metadata": {},
     "output_type": "execute_result"
    }
   ],
   "source": [
    "metrics_dict"
   ]
  },
  {
   "cell_type": "code",
   "execution_count": 27,
   "id": "7f0e3669",
   "metadata": {
    "execution": {
     "iopub.execute_input": "2025-05-15T16:15:53.830781Z",
     "iopub.status.busy": "2025-05-15T16:15:53.830589Z",
     "iopub.status.idle": "2025-05-15T16:15:53.838585Z",
     "shell.execute_reply": "2025-05-15T16:15:53.838236Z"
    },
    "papermill": {
     "duration": 0.045436,
     "end_time": "2025-05-15T16:15:53.839512",
     "exception": false,
     "start_time": "2025-05-15T16:15:53.794076",
     "status": "completed"
    },
    "tags": []
   },
   "outputs": [
    {
     "data": {
      "text/html": [
       "<div>\n",
       "<style scoped>\n",
       "    .dataframe tbody tr th:only-of-type {\n",
       "        vertical-align: middle;\n",
       "    }\n",
       "\n",
       "    .dataframe tbody tr th {\n",
       "        vertical-align: top;\n",
       "    }\n",
       "\n",
       "    .dataframe thead th {\n",
       "        text-align: right;\n",
       "    }\n",
       "</style>\n",
       "<table border=\"1\" class=\"dataframe\">\n",
       "  <thead>\n",
       "    <tr style=\"text-align: right;\">\n",
       "      <th></th>\n",
       "      <th>BAS</th>\n",
       "      <th>WF1</th>\n",
       "      <th>split_idx</th>\n",
       "      <th>gene_set_seed</th>\n",
       "      <th>cell_type</th>\n",
       "    </tr>\n",
       "  </thead>\n",
       "  <tbody>\n",
       "    <tr>\n",
       "      <th>0</th>\n",
       "      <td>0.365905</td>\n",
       "      <td>0.602219</td>\n",
       "      <td>3</td>\n",
       "      <td>12</td>\n",
       "      <td>Plasma</td>\n",
       "    </tr>\n",
       "  </tbody>\n",
       "</table>\n",
       "</div>"
      ],
      "text/plain": [
       "        BAS       WF1  split_idx  gene_set_seed cell_type\n",
       "0  0.365905  0.602219          3             12    Plasma"
      ]
     },
     "execution_count": 27,
     "metadata": {},
     "output_type": "execute_result"
    }
   ],
   "source": [
    "metrics_df = pd.DataFrame.from_dict([metrics_dict]).assign(split_idx=TEST_SPLIT_IDX, gene_set_seed=SEED, cell_type=CELL_TYPE)\n",
    "metrics_df"
   ]
  },
  {
   "cell_type": "code",
   "execution_count": 28,
   "id": "619da564",
   "metadata": {
    "execution": {
     "iopub.execute_input": "2025-05-15T16:15:53.860085Z",
     "iopub.status.busy": "2025-05-15T16:15:53.859603Z",
     "iopub.status.idle": "2025-05-15T16:15:53.867332Z",
     "shell.execute_reply": "2025-05-15T16:15:53.866936Z"
    },
    "papermill": {
     "duration": 0.018555,
     "end_time": "2025-05-15T16:15:53.868214",
     "exception": false,
     "start_time": "2025-05-15T16:15:53.849659",
     "status": "completed"
    },
    "tags": []
   },
   "outputs": [],
   "source": [
    "out_dir = here(f'03_downstream_analysis/08_gene_importance/xgboost_external_validation/xgboost_TopN_genes/results_{N_GENES}/metrics')\n",
    "\n",
    "if not os.path.exists(out_dir):\n",
    "    os.makedirs(out_dir)\n",
    "    \n",
    "metrics_df.to_csv(os.path.join(out_dir, f'{CELL_TYPE}_{SEED}_{TEST_SPLIT_IDX}_metrics.zip'))"
   ]
  }
 ],
 "metadata": {
  "kernelspec": {
   "display_name": "Python 3 (ipykernel)",
   "language": "python",
   "name": "python3"
  },
  "language_info": {
   "codemirror_mode": {
    "name": "ipython",
    "version": 3
   },
   "file_extension": ".py",
   "mimetype": "text/x-python",
   "name": "python",
   "nbconvert_exporter": "python",
   "pygments_lexer": "ipython3",
   "version": "3.12.5"
  },
  "papermill": {
   "default_parameters": {},
   "duration": 14.660857,
   "end_time": "2025-05-15T16:15:54.495162",
   "environment_variables": {},
   "exception": null,
   "input_path": "02_xgboost_fitting_external_20genes.ipynb",
   "output_path": "results_20/executed_notebooks/xgboost_fitting_external_CT_Plasma_GS_12_seed3.ipynb",
   "parameters": {
    "CELL_TYPE": "Plasma",
    "SEED": 12,
    "TEST_SPLIT_IDX": 3
   },
   "start_time": "2025-05-15T16:15:39.834305",
   "version": "2.6.0"
  }
 },
 "nbformat": 4,
 "nbformat_minor": 5
}