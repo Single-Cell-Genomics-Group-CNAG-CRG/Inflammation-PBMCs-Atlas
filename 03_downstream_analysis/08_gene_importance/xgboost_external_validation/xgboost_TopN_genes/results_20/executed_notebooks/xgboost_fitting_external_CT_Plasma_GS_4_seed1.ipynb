{
 "cells": [
  {
   "cell_type": "code",
   "execution_count": 1,
   "id": "af106f27",
   "metadata": {
    "editable": true,
    "execution": {
     "iopub.execute_input": "2025-05-15T16:15:28.869086Z",
     "iopub.status.busy": "2025-05-15T16:15:28.868522Z",
     "iopub.status.idle": "2025-05-15T16:15:28.872299Z",
     "shell.execute_reply": "2025-05-15T16:15:28.871909Z"
    },
    "papermill": {
     "duration": 0.01386,
     "end_time": "2025-05-15T16:15:28.873386",
     "exception": false,
     "start_time": "2025-05-15T16:15:28.859526",
     "status": "completed"
    },
    "slideshow": {
     "slide_type": ""
    },
    "tags": [
     "parameters"
    ]
   },
   "outputs": [],
   "source": [
    "CELL_TYPE = 'pDC'\n",
    "N_GENES: int = 20\n",
    "SEED = 'shap_studyID' #'disease_NOstudy' 'study_NOdisease' or 'int' or 'shap_studyID'\n",
    "TEST_SPLIT_IDX: int = 1 #[0,4]"
   ]
  },
  {
   "cell_type": "code",
   "execution_count": 2,
   "id": "8a48e8ca",
   "metadata": {
    "execution": {
     "iopub.execute_input": "2025-05-15T16:15:28.887747Z",
     "iopub.status.busy": "2025-05-15T16:15:28.887498Z",
     "iopub.status.idle": "2025-05-15T16:15:28.890002Z",
     "shell.execute_reply": "2025-05-15T16:15:28.889647Z"
    },
    "papermill": {
     "duration": 0.010509,
     "end_time": "2025-05-15T16:15:28.890953",
     "exception": false,
     "start_time": "2025-05-15T16:15:28.880444",
     "status": "completed"
    },
    "tags": [
     "injected-parameters"
    ]
   },
   "outputs": [],
   "source": [
    "# Parameters\n",
    "CELL_TYPE = \"Plasma\"\n",
    "SEED = 4\n",
    "TEST_SPLIT_IDX = 1\n"
   ]
  },
  {
   "cell_type": "code",
   "execution_count": 3,
   "id": "1841d90b",
   "metadata": {
    "execution": {
     "iopub.execute_input": "2025-05-15T16:15:28.904421Z",
     "iopub.status.busy": "2025-05-15T16:15:28.904182Z",
     "iopub.status.idle": "2025-05-15T16:15:28.906651Z",
     "shell.execute_reply": "2025-05-15T16:15:28.906319Z"
    },
    "papermill": {
     "duration": 0.010181,
     "end_time": "2025-05-15T16:15:28.907617",
     "exception": false,
     "start_time": "2025-05-15T16:15:28.897436",
     "status": "completed"
    },
    "tags": []
   },
   "outputs": [],
   "source": [
    "N_SPLITS: int = 5\n",
    "N_TRIALS: int = 50"
   ]
  },
  {
   "cell_type": "code",
   "execution_count": 4,
   "id": "551dadfc",
   "metadata": {
    "execution": {
     "iopub.execute_input": "2025-05-15T16:15:28.921907Z",
     "iopub.status.busy": "2025-05-15T16:15:28.921682Z",
     "iopub.status.idle": "2025-05-15T16:15:30.534095Z",
     "shell.execute_reply": "2025-05-15T16:15:30.533504Z"
    },
    "papermill": {
     "duration": 1.6221,
     "end_time": "2025-05-15T16:15:30.535821",
     "exception": false,
     "start_time": "2025-05-15T16:15:28.913721",
     "status": "completed"
    },
    "tags": []
   },
   "outputs": [],
   "source": [
    "import os\n",
    "import sys\n",
    "from pyprojroot.here import here\n",
    "import pandas as pd\n",
    "import anndata as ad\n",
    "import numpy as np\n",
    "import math\n",
    "from sklearn.model_selection import StratifiedGroupKFold\n",
    "from sklearn.preprocessing import LabelEncoder\n",
    "from sklearn.metrics import f1_score\n",
    "import matplotlib.pyplot as plt\n",
    "import seaborn as sns\n",
    "from itertools import product\n",
    "from sklearn.metrics import balanced_accuracy_score, f1_score\n",
    "import optuna\n",
    "\n",
    "import joblib\n",
    "import pickle\n",
    "import datetime\n",
    "\n",
    "import collections\n",
    "\n",
    "import xgboost\n",
    "from sklearn.preprocessing import LabelEncoder\n",
    "\n",
    "import scipy.sparse as ssp\n",
    "import joblib\n",
    "\n",
    "from dotenv import load_dotenv"
   ]
  },
  {
   "cell_type": "code",
   "execution_count": 5,
   "id": "b3c2271e",
   "metadata": {
    "execution": {
     "iopub.execute_input": "2025-05-15T16:15:30.551623Z",
     "iopub.status.busy": "2025-05-15T16:15:30.550902Z",
     "iopub.status.idle": "2025-05-15T16:15:30.557744Z",
     "shell.execute_reply": "2025-05-15T16:15:30.557310Z"
    },
    "papermill": {
     "duration": 0.014382,
     "end_time": "2025-05-15T16:15:30.558699",
     "exception": false,
     "start_time": "2025-05-15T16:15:30.544317",
     "status": "completed"
    },
    "tags": []
   },
   "outputs": [
    {
     "data": {
      "text/plain": [
       "True"
      ]
     },
     "execution_count": 5,
     "metadata": {},
     "output_type": "execute_result"
    }
   ],
   "source": [
    "load_dotenv()"
   ]
  },
  {
   "cell_type": "markdown",
   "id": "c6bb842b",
   "metadata": {
    "papermill": {
     "duration": 0.005721,
     "end_time": "2025-05-15T16:15:30.570373",
     "exception": false,
     "start_time": "2025-05-15T16:15:30.564652",
     "status": "completed"
    },
    "tags": []
   },
   "source": [
    "# LOAD DATASET"
   ]
  },
  {
   "cell_type": "code",
   "execution_count": 6,
   "id": "18d4b536",
   "metadata": {
    "execution": {
     "iopub.execute_input": "2025-05-15T16:15:30.582413Z",
     "iopub.status.busy": "2025-05-15T16:15:30.582147Z",
     "iopub.status.idle": "2025-05-15T16:15:30.625862Z",
     "shell.execute_reply": "2025-05-15T16:15:30.625330Z"
    },
    "papermill": {
     "duration": 0.050601,
     "end_time": "2025-05-15T16:15:30.626812",
     "exception": false,
     "start_time": "2025-05-15T16:15:30.576211",
     "status": "completed"
    },
    "tags": []
   },
   "outputs": [],
   "source": [
    "train_adata = ad.read_h5ad(\n",
    "    here(f'03_downstream_analysis/08_gene_importance/xgboost_external_validation/xgboost_TopN_genes/data_cellTypes/EXTERNAL_{CELL_TYPE}.filtered.log1p.h5ad')\n",
    ")"
   ]
  },
  {
   "cell_type": "code",
   "execution_count": 7,
   "id": "b5f85ae9",
   "metadata": {
    "execution": {
     "iopub.execute_input": "2025-05-15T16:15:30.640221Z",
     "iopub.status.busy": "2025-05-15T16:15:30.639782Z",
     "iopub.status.idle": "2025-05-15T16:15:30.654094Z",
     "shell.execute_reply": "2025-05-15T16:15:30.653603Z"
    },
    "papermill": {
     "duration": 0.022393,
     "end_time": "2025-05-15T16:15:30.655205",
     "exception": false,
     "start_time": "2025-05-15T16:15:30.632812",
     "status": "completed"
    },
    "tags": []
   },
   "outputs": [
    {
     "name": "stdout",
     "output_type": "stream",
     "text": [
      "['ENSG00000170296' 'ENSG00000104921' 'ENSG00000140379' 'ENSG00000015475'\n",
      " 'ENSG00000135720' 'ENSG00000187608' 'ENSG00000182866' 'ENSG00000271503'\n",
      " 'ENSG00000170989' 'ENSG00000120837' 'ENSG00000132475' 'ENSG00000103187'\n",
      " 'ENSG00000264364' 'ENSG00000178562' 'ENSG00000145912' 'ENSG00000134470'\n",
      " 'ENSG00000185650' 'ENSG00000167996' 'ENSG00000132912' 'ENSG00000204264'\n",
      " 'ENSG00000106588' 'ENSG00000197956' 'ENSG00000197249' 'ENSG00000196154'\n",
      " 'ENSG00000089327' 'ENSG00000117523' 'ENSG00000121552' 'ENSG00000127314'\n",
      " 'ENSG00000159674' 'ENSG00000146457' 'ENSG00000172543' 'ENSG00000134352'\n",
      " 'ENSG00000138378' 'ENSG00000132432' 'ENSG00000197872' 'ENSG00000115145'\n",
      " 'ENSG00000132002' 'ENSG00000168394' 'ENSG00000168685' 'ENSG00000096996'\n",
      " 'ENSG00000176986' 'ENSG00000197102' 'ENSG00000160712' 'ENSG00000240505'\n",
      " 'ENSG00000177556' 'ENSG00000184557' 'ENSG00000126759' 'ENSG00000139192'\n",
      " 'ENSG00000102265' 'ENSG00000189067' 'ENSG00000155380' 'ENSG00000108774'\n",
      " 'ENSG00000160255' 'ENSG00000140264' 'ENSG00000127152' 'ENSG00000134954'\n",
      " 'ENSG00000120742' 'ENSG00000112137' 'ENSG00000101347' 'ENSG00000105374'\n",
      " 'ENSG00000168610' 'ENSG00000157020' 'ENSG00000115875' 'ENSG00000121807'\n",
      " 'ENSG00000100368' 'ENSG00000042753' 'ENSG00000153064' 'ENSG00000143119'\n",
      " 'ENSG00000117318' 'ENSG00000163931' 'ENSG00000171223' 'ENSG00000198832'\n",
      " 'ENSG00000165280' 'ENSG00000177663' 'ENSG00000075234' 'ENSG00000242616'\n",
      " 'ENSG00000141526' 'ENSG00000185201' 'ENSG00000030582' 'ENSG00000185436'\n",
      " 'ENSG00000101017' 'ENSG00000100453' 'ENSG00000137193' 'ENSG00000144746'\n",
      " 'ENSG00000090554' 'ENSG00000204642' 'ENSG00000026103' 'ENSG00000138674'\n",
      " 'ENSG00000170540' 'ENSG00000132965' 'ENSG00000167283' 'ENSG00000121879'\n",
      " 'ENSG00000075785' 'ENSG00000104904' 'ENSG00000111331' 'ENSG00000136997'\n",
      " 'ENSG00000242574' 'ENSG00000135441' 'ENSG00000137100' 'ENSG00000172009'\n",
      " 'ENSG00000100485' 'ENSG00000113811' 'ENSG00000175390' 'ENSG00000125347'\n",
      " 'ENSG00000157514' 'ENSG00000066336' 'ENSG00000115884']\n"
     ]
    }
   ],
   "source": [
    "if SEED != 'all':\n",
    "    gene_subset = np.load(here(f'03_downstream_analysis/08_gene_importance/xgboost_external_validation/shap_gene_selection/gene_subsets_{N_GENES}/{CELL_TYPE}_{SEED}.npy'), allow_pickle=True)\n",
    "    train_adata = train_adata[:,gene_subset]\n",
    "    print(gene_subset)\n",
    "elif SEED == 'all':\n",
    "    print('Using all genes')\n",
    "else:\n",
    "    raise ValueError()"
   ]
  },
  {
   "cell_type": "code",
   "execution_count": 8,
   "id": "b13c7b2c",
   "metadata": {
    "execution": {
     "iopub.execute_input": "2025-05-15T16:15:30.671208Z",
     "iopub.status.busy": "2025-05-15T16:15:30.670813Z",
     "iopub.status.idle": "2025-05-15T16:15:30.674896Z",
     "shell.execute_reply": "2025-05-15T16:15:30.674540Z"
    },
    "papermill": {
     "duration": 0.012433,
     "end_time": "2025-05-15T16:15:30.675884",
     "exception": false,
     "start_time": "2025-05-15T16:15:30.663451",
     "status": "completed"
    },
    "tags": []
   },
   "outputs": [
    {
     "data": {
      "text/plain": [
       "(542, 107)"
      ]
     },
     "execution_count": 8,
     "metadata": {},
     "output_type": "execute_result"
    }
   ],
   "source": [
    "train_adata.shape"
   ]
  },
  {
   "cell_type": "code",
   "execution_count": 9,
   "id": "4bc5799a",
   "metadata": {
    "execution": {
     "iopub.execute_input": "2025-05-15T16:15:30.691121Z",
     "iopub.status.busy": "2025-05-15T16:15:30.690859Z",
     "iopub.status.idle": "2025-05-15T16:15:30.696095Z",
     "shell.execute_reply": "2025-05-15T16:15:30.695727Z"
    },
    "papermill": {
     "duration": 0.013348,
     "end_time": "2025-05-15T16:15:30.697130",
     "exception": false,
     "start_time": "2025-05-15T16:15:30.683782",
     "status": "completed"
    },
    "tags": []
   },
   "outputs": [
    {
     "data": {
      "text/plain": [
       "['RA', 'COVID', 'healthy', 'HIV', 'cirrhosis', 'CD', 'SLE', 'sepsis']\n",
       "Categories (8, object): ['CD', 'COVID', 'HIV', 'RA', 'SLE', 'cirrhosis', 'healthy', 'sepsis']"
      ]
     },
     "execution_count": 9,
     "metadata": {},
     "output_type": "execute_result"
    }
   ],
   "source": [
    "train_adata.obs.disease.unique()"
   ]
  },
  {
   "cell_type": "code",
   "execution_count": 10,
   "id": "5741872e",
   "metadata": {
    "execution": {
     "iopub.execute_input": "2025-05-15T16:15:30.711199Z",
     "iopub.status.busy": "2025-05-15T16:15:30.710849Z",
     "iopub.status.idle": "2025-05-15T16:15:30.716037Z",
     "shell.execute_reply": "2025-05-15T16:15:30.715663Z"
    },
    "papermill": {
     "duration": 0.013363,
     "end_time": "2025-05-15T16:15:30.716956",
     "exception": false,
     "start_time": "2025-05-15T16:15:30.703593",
     "status": "completed"
    },
    "tags": []
   },
   "outputs": [
    {
     "data": {
      "text/plain": [
       "['SCGT00val_I0364_T0', 'SCGT00val_I036019_T0', 'SCGT00val_I036028_T0', 'SCGT00val_I036024_T0', 'SCGT00val_I036016_T0', ..., '10XGenomics_10XHC2_T0', '10XGenomics_10XHC3_T0', '10XGenomics_10XHC5_T0', '10XGenomics_10XHC7_T0', '10XGenomics_10XHC8_T0']\n",
       "Length: 74\n",
       "Categories (74, object): ['10XGenomics_10XHC1_T0', '10XGenomics_10XHC2_T0', '10XGenomics_10XHC3_T0', '10XGenomics_10XHC4_T0', ..., 'Savage2021_BRISL6_T0', 'Savage2021_BRISL7_T0', 'Savage2021_PIDA_T0', 'Savage2021_PIDB_T0']"
      ]
     },
     "execution_count": 10,
     "metadata": {},
     "output_type": "execute_result"
    }
   ],
   "source": [
    "train_adata.obs.sampleID.unique()"
   ]
  },
  {
   "cell_type": "code",
   "execution_count": 11,
   "id": "ee98052f",
   "metadata": {
    "execution": {
     "iopub.execute_input": "2025-05-15T16:15:30.730040Z",
     "iopub.status.busy": "2025-05-15T16:15:30.729773Z",
     "iopub.status.idle": "2025-05-15T16:15:30.763382Z",
     "shell.execute_reply": "2025-05-15T16:15:30.762937Z"
    },
    "papermill": {
     "duration": 0.041203,
     "end_time": "2025-05-15T16:15:30.764346",
     "exception": false,
     "start_time": "2025-05-15T16:15:30.723143",
     "status": "completed"
    },
    "tags": []
   },
   "outputs": [],
   "source": [
    "all_idxs = np.arange(train_adata.obs.shape[0])\n",
    "left_out_splits = [s[1] for s in StratifiedGroupKFold(n_splits=N_SPLITS).split(all_idxs, train_adata.obs.disease, train_adata.obs.sampleID)]"
   ]
  },
  {
   "cell_type": "code",
   "execution_count": 12,
   "id": "4a0cd38f",
   "metadata": {
    "execution": {
     "iopub.execute_input": "2025-05-15T16:15:30.776914Z",
     "iopub.status.busy": "2025-05-15T16:15:30.776717Z",
     "iopub.status.idle": "2025-05-15T16:15:30.780272Z",
     "shell.execute_reply": "2025-05-15T16:15:30.779931Z"
    },
    "papermill": {
     "duration": 0.010699,
     "end_time": "2025-05-15T16:15:30.781131",
     "exception": false,
     "start_time": "2025-05-15T16:15:30.770432",
     "status": "completed"
    },
    "tags": []
   },
   "outputs": [
    {
     "data": {
      "text/plain": [
       "([0, 3, 4], 2, 1)"
      ]
     },
     "execution_count": 12,
     "metadata": {},
     "output_type": "execute_result"
    }
   ],
   "source": [
    "TRAIN_SPLIT_IDXS = [0,1,2,3,4]\n",
    "VAL_SPLIT_IDX = (TEST_SPLIT_IDX + 1) % 5\n",
    "TRAIN_SPLIT_IDXS.remove(TEST_SPLIT_IDX)\n",
    "TRAIN_SPLIT_IDXS.remove(VAL_SPLIT_IDX)\n",
    "TRAIN_SPLIT_IDXS, VAL_SPLIT_IDX, TEST_SPLIT_IDX"
   ]
  },
  {
   "cell_type": "code",
   "execution_count": 13,
   "id": "a43a08c8",
   "metadata": {
    "execution": {
     "iopub.execute_input": "2025-05-15T16:15:30.793516Z",
     "iopub.status.busy": "2025-05-15T16:15:30.793081Z",
     "iopub.status.idle": "2025-05-15T16:15:30.795610Z",
     "shell.execute_reply": "2025-05-15T16:15:30.795284Z"
    },
    "papermill": {
     "duration": 0.00987,
     "end_time": "2025-05-15T16:15:30.796459",
     "exception": false,
     "start_time": "2025-05-15T16:15:30.786589",
     "status": "completed"
    },
    "tags": []
   },
   "outputs": [],
   "source": [
    "train_idxs = np.concatenate([left_out_splits[idx] for idx in TRAIN_SPLIT_IDXS])\n",
    "val_idxs = left_out_splits[VAL_SPLIT_IDX]\n",
    "test_idxs = left_out_splits[TEST_SPLIT_IDX]"
   ]
  },
  {
   "cell_type": "markdown",
   "id": "499d902d",
   "metadata": {
    "papermill": {
     "duration": 0.00565,
     "end_time": "2025-05-15T16:15:30.807908",
     "exception": false,
     "start_time": "2025-05-15T16:15:30.802258",
     "status": "completed"
    },
    "tags": []
   },
   "source": [
    "### SUBSET DATASET INTO TRAIN/TEST/VAL SPLITS"
   ]
  },
  {
   "cell_type": "code",
   "execution_count": 14,
   "id": "015a62e4",
   "metadata": {
    "execution": {
     "iopub.execute_input": "2025-05-15T16:15:30.820201Z",
     "iopub.status.busy": "2025-05-15T16:15:30.819930Z",
     "iopub.status.idle": "2025-05-15T16:15:30.827473Z",
     "shell.execute_reply": "2025-05-15T16:15:30.827102Z"
    },
    "papermill": {
     "duration": 0.014842,
     "end_time": "2025-05-15T16:15:30.828448",
     "exception": false,
     "start_time": "2025-05-15T16:15:30.813606",
     "status": "completed"
    },
    "tags": []
   },
   "outputs": [
    {
     "data": {
      "text/plain": [
       "((333, 107), (107, 107), (102, 107))"
      ]
     },
     "execution_count": 14,
     "metadata": {},
     "output_type": "execute_result"
    }
   ],
   "source": [
    "X_train = train_adata.X[train_idxs]\n",
    "X_test = train_adata.X[test_idxs]\n",
    "X_val = train_adata.X[val_idxs]\n",
    "X_train.shape, X_test.shape, X_val.shape"
   ]
  },
  {
   "cell_type": "code",
   "execution_count": 15,
   "id": "8172dd2f",
   "metadata": {
    "execution": {
     "iopub.execute_input": "2025-05-15T16:15:30.843499Z",
     "iopub.status.busy": "2025-05-15T16:15:30.843220Z",
     "iopub.status.idle": "2025-05-15T16:15:30.849465Z",
     "shell.execute_reply": "2025-05-15T16:15:30.849099Z"
    },
    "papermill": {
     "duration": 0.015154,
     "end_time": "2025-05-15T16:15:30.850465",
     "exception": false,
     "start_time": "2025-05-15T16:15:30.835311",
     "status": "completed"
    },
    "tags": []
   },
   "outputs": [
    {
     "data": {
      "text/plain": [
       "((333,), (107,), (102,))"
      ]
     },
     "execution_count": 15,
     "metadata": {},
     "output_type": "execute_result"
    }
   ],
   "source": [
    "y_train = train_adata.obs.iloc[train_idxs].disease.values.astype(str)\n",
    "y_test = train_adata.obs.iloc[test_idxs].disease.values.astype(str)\n",
    "y_val = train_adata.obs.iloc[val_idxs].disease.values.astype(str)\n",
    "y_train.shape, y_test.shape, y_val.shape"
   ]
  },
  {
   "cell_type": "code",
   "execution_count": 16,
   "id": "3558960b",
   "metadata": {
    "execution": {
     "iopub.execute_input": "2025-05-15T16:15:30.865524Z",
     "iopub.status.busy": "2025-05-15T16:15:30.865221Z",
     "iopub.status.idle": "2025-05-15T16:15:30.868831Z",
     "shell.execute_reply": "2025-05-15T16:15:30.868429Z"
    },
    "papermill": {
     "duration": 0.012369,
     "end_time": "2025-05-15T16:15:30.869815",
     "exception": false,
     "start_time": "2025-05-15T16:15:30.857446",
     "status": "completed"
    },
    "tags": []
   },
   "outputs": [],
   "source": [
    "lenc = LabelEncoder()\n",
    "y_train_enc = lenc.fit_transform(y_train)\n",
    "y_val_enc = lenc.transform(y_val)\n",
    "y_test_enc = lenc.transform(y_test)"
   ]
  },
  {
   "cell_type": "markdown",
   "id": "30b821b5",
   "metadata": {
    "papermill": {
     "duration": 0.007369,
     "end_time": "2025-05-15T16:15:30.884566",
     "exception": false,
     "start_time": "2025-05-15T16:15:30.877197",
     "status": "completed"
    },
    "tags": []
   },
   "source": [
    "### GENERATE F1 "
   ]
  },
  {
   "cell_type": "code",
   "execution_count": 17,
   "id": "006d8aad",
   "metadata": {
    "execution": {
     "iopub.execute_input": "2025-05-15T16:15:30.901340Z",
     "iopub.status.busy": "2025-05-15T16:15:30.901019Z",
     "iopub.status.idle": "2025-05-15T16:15:30.904277Z",
     "shell.execute_reply": "2025-05-15T16:15:30.903906Z"
    },
    "papermill": {
     "duration": 0.012449,
     "end_time": "2025-05-15T16:15:30.905268",
     "exception": false,
     "start_time": "2025-05-15T16:15:30.892819",
     "status": "completed"
    },
    "tags": []
   },
   "outputs": [],
   "source": [
    "def custom_f1_score(y_true, y_pred):\n",
    "    return -f1_score(y_true, y_pred.argmax(1), average='weighted')"
   ]
  },
  {
   "cell_type": "code",
   "execution_count": 18,
   "id": "3fc009ba",
   "metadata": {
    "execution": {
     "iopub.execute_input": "2025-05-15T16:15:30.919189Z",
     "iopub.status.busy": "2025-05-15T16:15:30.918923Z",
     "iopub.status.idle": "2025-05-15T16:15:30.923388Z",
     "shell.execute_reply": "2025-05-15T16:15:30.923030Z"
    },
    "papermill": {
     "duration": 0.012202,
     "end_time": "2025-05-15T16:15:30.924282",
     "exception": false,
     "start_time": "2025-05-15T16:15:30.912080",
     "status": "completed"
    },
    "tags": []
   },
   "outputs": [],
   "source": [
    "eval_metric=custom_f1_score\n",
    "eval_metric_name='custom_f1_score'\n",
    "\n",
    "def objective(trial):\n",
    "    params = {\n",
    "        'n_estimators': 1500,\n",
    "        'max_depth': trial.suggest_int('max_depth', 3, 20),\n",
    "        'min_child_weight': trial.suggest_int('min_child_weight', 1, 250),\n",
    "        'subsample': trial.suggest_float('subsample', 0.1, 1.0),\n",
    "        'colsample_bynode': trial.suggest_float('colsample_bynode', 0.1, 1.0),\n",
    "        'learning_rate': trial.suggest_float('learning_rate', 1e-3, 5e-1, log=True),\n",
    "    }\n",
    "    pruning_callback = optuna.integration.XGBoostPruningCallback(trial, f'validation_0-{eval_metric_name}')\n",
    "    es_callback = xgboost.callback.EarlyStopping(20, min_delta=0.001)\n",
    "    xgb = xgboost.XGBClassifier(\n",
    "        eval_metric=eval_metric,\n",
    "        callbacks=[pruning_callback, es_callback],\n",
    "        n_jobs=5,\n",
    "        **params\n",
    "    )\n",
    "    xgb.fit(\n",
    "        X_train, \n",
    "        y_train_enc, \n",
    "        verbose=0,\n",
    "        eval_set=[(X_val, y_val_enc)],\n",
    "    )\n",
    "    trial.set_user_attr('best_iteration', xgb.best_iteration)\n",
    "\n",
    "    return xgb.best_score"
   ]
  },
  {
   "cell_type": "code",
   "execution_count": 19,
   "id": "27efa5fc",
   "metadata": {
    "execution": {
     "iopub.execute_input": "2025-05-15T16:15:30.938325Z",
     "iopub.status.busy": "2025-05-15T16:15:30.937707Z",
     "iopub.status.idle": "2025-05-15T16:15:42.770421Z",
     "shell.execute_reply": "2025-05-15T16:15:42.769850Z"
    },
    "papermill": {
     "duration": 11.840491,
     "end_time": "2025-05-15T16:15:42.771521",
     "exception": false,
     "start_time": "2025-05-15T16:15:30.931030",
     "status": "completed"
    },
    "scrolled": true,
    "tags": []
   },
   "outputs": [
    {
     "name": "stderr",
     "output_type": "stream",
     "text": [
      "[I 2025-05-15 18:15:30,939] A new study created in memory with name: no-name-1c67463a-4760-47e4-a75e-0407316a9db0\n"
     ]
    },
    {
     "name": "stderr",
     "output_type": "stream",
     "text": [
      "[I 2025-05-15 18:15:31,033] Trial 0 finished with value: -0.03313 and parameters: {'max_depth': 9, 'min_child_weight': 238, 'subsample': 0.7587945476302645, 'colsample_bynode': 0.6387926357773329, 'learning_rate': 0.0026368755339723046}. Best is trial 0 with value: -0.03313.\n"
     ]
    },
    {
     "name": "stderr",
     "output_type": "stream",
     "text": [
      "[I 2025-05-15 18:15:31,483] Trial 1 finished with value: -0.356199 and parameters: {'max_depth': 5, 'min_child_weight': 15, 'subsample': 0.8795585311974417, 'colsample_bynode': 0.6410035105688879, 'learning_rate': 0.08148293210105287}. Best is trial 1 with value: -0.356199.\n"
     ]
    },
    {
     "name": "stderr",
     "output_type": "stream",
     "text": [
      "[I 2025-05-15 18:15:31,661] Trial 2 finished with value: -0.03313 and parameters: {'max_depth': 3, 'min_child_weight': 243, 'subsample': 0.8491983767203796, 'colsample_bynode': 0.29110519961044856, 'learning_rate': 0.003095566460242371}. Best is trial 1 with value: -0.356199.\n"
     ]
    },
    {
     "name": "stderr",
     "output_type": "stream",
     "text": [
      "[I 2025-05-15 18:15:31,843] Trial 3 finished with value: -0.03313 and parameters: {'max_depth': 6, 'min_child_weight': 77, 'subsample': 0.5722807884690141, 'colsample_bynode': 0.48875051677790415, 'learning_rate': 0.006109683510122491}. Best is trial 1 with value: -0.356199.\n"
     ]
    },
    {
     "name": "stderr",
     "output_type": "stream",
     "text": [
      "[I 2025-05-15 18:15:32,024] Trial 4 finished with value: -0.03313 and parameters: {'max_depth': 14, 'min_child_weight': 35, 'subsample': 0.3629301836816964, 'colsample_bynode': 0.4297256589643226, 'learning_rate': 0.01701841881702917}. Best is trial 1 with value: -0.356199.\n"
     ]
    },
    {
     "name": "stderr",
     "output_type": "stream",
     "text": [
      "[I 2025-05-15 18:15:32,213] Trial 5 finished with value: -0.03313 and parameters: {'max_depth': 17, 'min_child_weight': 50, 'subsample': 0.5628109945722505, 'colsample_bynode': 0.6331731119758383, 'learning_rate': 0.0013346527038305934}. Best is trial 1 with value: -0.356199.\n"
     ]
    },
    {
     "name": "stderr",
     "output_type": "stream",
     "text": [
      "[I 2025-05-15 18:15:32,406] Trial 6 finished with value: -0.03313 and parameters: {'max_depth': 13, 'min_child_weight': 43, 'subsample': 0.1585464336867516, 'colsample_bynode': 0.9539969835279999, 'learning_rate': 0.4038423798071558}. Best is trial 1 with value: -0.356199.\n"
     ]
    },
    {
     "name": "stderr",
     "output_type": "stream",
     "text": [
      "[I 2025-05-15 18:15:32,603] Trial 7 finished with value: -0.03313 and parameters: {'max_depth': 17, 'min_child_weight': 77, 'subsample': 0.1879049026057455, 'colsample_bynode': 0.7158097238609412, 'learning_rate': 0.015415527060141935}. Best is trial 1 with value: -0.356199.\n"
     ]
    },
    {
     "name": "stderr",
     "output_type": "stream",
     "text": [
      "[I 2025-05-15 18:15:32,800] Trial 8 finished with value: -0.03313 and parameters: {'max_depth': 5, 'min_child_weight': 124, 'subsample': 0.13094966900369656, 'colsample_bynode': 0.9183883618709039, 'learning_rate': 0.004993895014755658}. Best is trial 1 with value: -0.356199.\n"
     ]
    },
    {
     "name": "stderr",
     "output_type": "stream",
     "text": [
      "[I 2025-05-15 18:15:33,007] Trial 9 finished with value: -0.03313 and parameters: {'max_depth': 14, 'min_child_weight': 78, 'subsample': 0.5680612190600297, 'colsample_bynode': 0.5920392514089517, 'learning_rate': 0.0031543990308330965}. Best is trial 1 with value: -0.356199.\n"
     ]
    },
    {
     "name": "stderr",
     "output_type": "stream",
     "text": [
      "[I 2025-05-15 18:15:33,496] Trial 10 finished with value: -0.384882 and parameters: {'max_depth': 9, 'min_child_weight': 2, 'subsample': 0.9725833997090791, 'colsample_bynode': 0.11616568805333755, 'learning_rate': 0.17780618353487967}. Best is trial 10 with value: -0.384882.\n"
     ]
    },
    {
     "name": "stderr",
     "output_type": "stream",
     "text": [
      "[I 2025-05-15 18:15:33,839] Trial 11 finished with value: -0.414644 and parameters: {'max_depth': 9, 'min_child_weight': 4, 'subsample': 0.9818290990185045, 'colsample_bynode': 0.17702656156719, 'learning_rate': 0.11568531411766632}. Best is trial 11 with value: -0.414644.\n"
     ]
    },
    {
     "name": "stderr",
     "output_type": "stream",
     "text": [
      "[I 2025-05-15 18:15:34,251] Trial 12 finished with value: -0.401978 and parameters: {'max_depth': 9, 'min_child_weight': 2, 'subsample': 0.9762317723681219, 'colsample_bynode': 0.1303670507685675, 'learning_rate': 0.14353293664472047}. Best is trial 11 with value: -0.414644.\n"
     ]
    },
    {
     "name": "stderr",
     "output_type": "stream",
     "text": [
      "[I 2025-05-15 18:15:34,444] Trial 13 finished with value: -0.03313 and parameters: {'max_depth': 10, 'min_child_weight': 173, 'subsample': 0.9983199992874873, 'colsample_bynode': 0.10704152171942566, 'learning_rate': 0.05919442728092993}. Best is trial 11 with value: -0.414644.\n"
     ]
    },
    {
     "name": "stderr",
     "output_type": "stream",
     "text": [
      "[I 2025-05-15 18:15:34,656] Trial 14 finished with value: -0.03313 and parameters: {'max_depth': 7, 'min_child_weight': 127, 'subsample': 0.7205729667945842, 'colsample_bynode': 0.2618040655423697, 'learning_rate': 0.049429871639666105}. Best is trial 11 with value: -0.414644.\n"
     ]
    },
    {
     "name": "stderr",
     "output_type": "stream",
     "text": [
      "[I 2025-05-15 18:15:35,010] Trial 15 finished with value: -0.369713 and parameters: {'max_depth': 20, 'min_child_weight': 1, 'subsample': 0.7300199336663715, 'colsample_bynode': 0.2687793682900305, 'learning_rate': 0.46839194821741}. Best is trial 11 with value: -0.414644.\n"
     ]
    },
    {
     "name": "stderr",
     "output_type": "stream",
     "text": [
      "[I 2025-05-15 18:15:35,201] Trial 16 pruned. Trial was pruned at iteration 20.\n"
     ]
    },
    {
     "name": "stderr",
     "output_type": "stream",
     "text": [
      "[I 2025-05-15 18:15:35,409] Trial 17 finished with value: -0.03313 and parameters: {'max_depth': 8, 'min_child_weight': 183, 'subsample': 0.37310167079970213, 'colsample_bynode': 0.17923299126282838, 'learning_rate': 0.1887648905476116}. Best is trial 11 with value: -0.414644.\n"
     ]
    },
    {
     "name": "stderr",
     "output_type": "stream",
     "text": [
      "[I 2025-05-15 18:15:35,611] Trial 18 pruned. Trial was pruned at iteration 20.\n"
     ]
    },
    {
     "name": "stderr",
     "output_type": "stream",
     "text": [
      "[I 2025-05-15 18:15:35,811] Trial 19 pruned. Trial was pruned at iteration 20.\n"
     ]
    },
    {
     "name": "stderr",
     "output_type": "stream",
     "text": [
      "[I 2025-05-15 18:15:36,017] Trial 20 pruned. Trial was pruned at iteration 21.\n"
     ]
    },
    {
     "name": "stderr",
     "output_type": "stream",
     "text": [
      "[I 2025-05-15 18:15:36,403] Trial 21 finished with value: -0.369402 and parameters: {'max_depth': 9, 'min_child_weight': 1, 'subsample': 0.9774164828325145, 'colsample_bynode': 0.10489776969766632, 'learning_rate': 0.10388756145201744}. Best is trial 11 with value: -0.414644.\n"
     ]
    },
    {
     "name": "stderr",
     "output_type": "stream",
     "text": [
      "[I 2025-05-15 18:15:36,588] Trial 22 pruned. Trial was pruned at iteration 20.\n"
     ]
    },
    {
     "name": "stderr",
     "output_type": "stream",
     "text": [
      "[I 2025-05-15 18:15:36,788] Trial 23 pruned. Trial was pruned at iteration 20.\n"
     ]
    },
    {
     "name": "stderr",
     "output_type": "stream",
     "text": [
      "[I 2025-05-15 18:15:37,076] Trial 24 pruned. Trial was pruned at iteration 21.\n"
     ]
    },
    {
     "name": "stderr",
     "output_type": "stream",
     "text": [
      "[I 2025-05-15 18:15:37,263] Trial 25 pruned. Trial was pruned at iteration 20.\n"
     ]
    },
    {
     "name": "stderr",
     "output_type": "stream",
     "text": [
      "[I 2025-05-15 18:15:37,471] Trial 26 pruned. Trial was pruned at iteration 20.\n"
     ]
    },
    {
     "name": "stderr",
     "output_type": "stream",
     "text": [
      "[I 2025-05-15 18:15:37,651] Trial 27 finished with value: -0.03313 and parameters: {'max_depth': 5, 'min_child_weight': 144, 'subsample': 0.9216526203861075, 'colsample_bynode': 0.18760597264693385, 'learning_rate': 0.039839395194545865}. Best is trial 11 with value: -0.414644.\n"
     ]
    },
    {
     "name": "stderr",
     "output_type": "stream",
     "text": [
      "[I 2025-05-15 18:15:37,832] Trial 28 pruned. Trial was pruned at iteration 20.\n"
     ]
    },
    {
     "name": "stderr",
     "output_type": "stream",
     "text": [
      "[I 2025-05-15 18:15:38,030] Trial 29 finished with value: -0.03313 and parameters: {'max_depth': 10, 'min_child_weight': 217, 'subsample': 0.7797109075276074, 'colsample_bynode': 0.41232146842405126, 'learning_rate': 0.09517919198560379}. Best is trial 11 with value: -0.414644.\n"
     ]
    },
    {
     "name": "stderr",
     "output_type": "stream",
     "text": [
      "[I 2025-05-15 18:15:38,214] Trial 30 pruned. Trial was pruned at iteration 20.\n"
     ]
    },
    {
     "name": "stderr",
     "output_type": "stream",
     "text": [
      "[I 2025-05-15 18:15:38,601] Trial 31 finished with value: -0.453784 and parameters: {'max_depth': 20, 'min_child_weight': 4, 'subsample': 0.7111591890687974, 'colsample_bynode': 0.24331970385082502, 'learning_rate': 0.41393718654672407}. Best is trial 31 with value: -0.453784.\n"
     ]
    },
    {
     "name": "stderr",
     "output_type": "stream",
     "text": [
      "[I 2025-05-15 18:15:38,905] Trial 32 finished with value: -0.404813 and parameters: {'max_depth': 20, 'min_child_weight': 16, 'subsample': 0.8591122355346946, 'colsample_bynode': 0.2372720010643019, 'learning_rate': 0.3578243446785852}. Best is trial 31 with value: -0.453784.\n"
     ]
    },
    {
     "name": "stderr",
     "output_type": "stream",
     "text": [
      "[I 2025-05-15 18:15:39,105] Trial 33 pruned. Trial was pruned at iteration 20.\n"
     ]
    },
    {
     "name": "stderr",
     "output_type": "stream",
     "text": [
      "[I 2025-05-15 18:15:39,295] Trial 34 pruned. Trial was pruned at iteration 20.\n"
     ]
    },
    {
     "name": "stderr",
     "output_type": "stream",
     "text": [
      "[I 2025-05-15 18:15:39,530] Trial 35 pruned. Trial was pruned at iteration 21.\n"
     ]
    },
    {
     "name": "stderr",
     "output_type": "stream",
     "text": [
      "[I 2025-05-15 18:15:39,721] Trial 36 pruned. Trial was pruned at iteration 20.\n"
     ]
    },
    {
     "name": "stderr",
     "output_type": "stream",
     "text": [
      "[I 2025-05-15 18:15:39,911] Trial 37 pruned. Trial was pruned at iteration 20.\n"
     ]
    },
    {
     "name": "stderr",
     "output_type": "stream",
     "text": [
      "[I 2025-05-15 18:15:40,197] Trial 38 finished with value: -0.409452 and parameters: {'max_depth': 18, 'min_child_weight': 14, 'subsample': 0.8087738615268829, 'colsample_bynode': 0.5353708710577316, 'learning_rate': 0.34557529955290367}. Best is trial 31 with value: -0.453784.\n"
     ]
    },
    {
     "name": "stderr",
     "output_type": "stream",
     "text": [
      "[I 2025-05-15 18:15:40,499] Trial 39 finished with value: -0.405251 and parameters: {'max_depth': 18, 'min_child_weight': 15, 'subsample': 0.6463262319109901, 'colsample_bynode': 0.7293897142747161, 'learning_rate': 0.3426311942590836}. Best is trial 31 with value: -0.453784.\n"
     ]
    },
    {
     "name": "stderr",
     "output_type": "stream",
     "text": [
      "[I 2025-05-15 18:15:40,686] Trial 40 pruned. Trial was pruned at iteration 20.\n"
     ]
    },
    {
     "name": "stderr",
     "output_type": "stream",
     "text": [
      "[I 2025-05-15 18:15:40,886] Trial 41 pruned. Trial was pruned at iteration 20.\n"
     ]
    },
    {
     "name": "stderr",
     "output_type": "stream",
     "text": [
      "[I 2025-05-15 18:15:41,082] Trial 42 pruned. Trial was pruned at iteration 20.\n"
     ]
    },
    {
     "name": "stderr",
     "output_type": "stream",
     "text": [
      "[I 2025-05-15 18:15:41,317] Trial 43 pruned. Trial was pruned at iteration 20.\n"
     ]
    },
    {
     "name": "stderr",
     "output_type": "stream",
     "text": [
      "[I 2025-05-15 18:15:41,517] Trial 44 pruned. Trial was pruned at iteration 20.\n"
     ]
    },
    {
     "name": "stderr",
     "output_type": "stream",
     "text": [
      "[I 2025-05-15 18:15:41,710] Trial 45 pruned. Trial was pruned at iteration 20.\n"
     ]
    },
    {
     "name": "stderr",
     "output_type": "stream",
     "text": [
      "[I 2025-05-15 18:15:41,904] Trial 46 finished with value: -0.03313 and parameters: {'max_depth': 16, 'min_child_weight': 88, 'subsample': 0.8465811754950096, 'colsample_bynode': 0.9843192906501315, 'learning_rate': 0.0017640765324178564}. Best is trial 31 with value: -0.453784.\n"
     ]
    },
    {
     "name": "stderr",
     "output_type": "stream",
     "text": [
      "[I 2025-05-15 18:15:42,170] Trial 47 finished with value: -0.40405 and parameters: {'max_depth': 19, 'min_child_weight': 13, 'subsample': 0.6887018964831273, 'colsample_bynode': 0.7113630580945016, 'learning_rate': 0.17531336765958028}. Best is trial 31 with value: -0.453784.\n"
     ]
    },
    {
     "name": "stderr",
     "output_type": "stream",
     "text": [
      "[I 2025-05-15 18:15:42,366] Trial 48 finished with value: -0.03313 and parameters: {'max_depth': 14, 'min_child_weight': 42, 'subsample': 0.28659281335602466, 'colsample_bynode': 0.6003648414130958, 'learning_rate': 0.39158046484715725}. Best is trial 31 with value: -0.453784.\n"
     ]
    },
    {
     "name": "stderr",
     "output_type": "stream",
     "text": [
      "[I 2025-05-15 18:15:42,664] Trial 49 pruned. Trial was pruned at iteration 26.\n"
     ]
    }
   ],
   "source": [
    "sampler = optuna.samplers.TPESampler(seed=42)\n",
    "study = optuna.create_study(direction='minimize', sampler=sampler)\n",
    "study.optimize(objective, n_trials=N_TRIALS, gc_after_trial=True)"
   ]
  },
  {
   "cell_type": "code",
   "execution_count": 20,
   "id": "bd6f1e6a",
   "metadata": {
    "execution": {
     "iopub.execute_input": "2025-05-15T16:15:42.793758Z",
     "iopub.status.busy": "2025-05-15T16:15:42.793486Z",
     "iopub.status.idle": "2025-05-15T16:15:42.835405Z",
     "shell.execute_reply": "2025-05-15T16:15:42.835082Z"
    },
    "papermill": {
     "duration": 0.053905,
     "end_time": "2025-05-15T16:15:42.836549",
     "exception": false,
     "start_time": "2025-05-15T16:15:42.782644",
     "status": "completed"
    },
    "tags": []
   },
   "outputs": [
    {
     "data": {
      "text/plain": [
       "['/scratch_isilon/groups/singlecell/shared/projects/Inflammation-PBMCs-Atlas/03_downstream_analysis/08_gene_importance/xgboost_external_validation/xgboost_TopN_genes/results_20/study/Plasma_4_1_xgboost.pkl']"
      ]
     },
     "execution_count": 20,
     "metadata": {},
     "output_type": "execute_result"
    }
   ],
   "source": [
    "out_dir = here(f'03_downstream_analysis/08_gene_importance/xgboost_external_validation/xgboost_TopN_genes/results_{N_GENES}/study')\n",
    "\n",
    "if not os.path.exists(out_dir):\n",
    "    os.makedirs(out_dir)\n",
    "    \n",
    "joblib.dump(study,os.path.join(out_dir, f'{CELL_TYPE}_{SEED}_{TEST_SPLIT_IDX}_xgboost.pkl'))"
   ]
  },
  {
   "cell_type": "code",
   "execution_count": 21,
   "id": "813c631b",
   "metadata": {
    "execution": {
     "iopub.execute_input": "2025-05-15T16:15:42.857260Z",
     "iopub.status.busy": "2025-05-15T16:15:42.856890Z",
     "iopub.status.idle": "2025-05-15T16:15:43.066877Z",
     "shell.execute_reply": "2025-05-15T16:15:43.066479Z"
    },
    "papermill": {
     "duration": 0.221765,
     "end_time": "2025-05-15T16:15:43.068302",
     "exception": false,
     "start_time": "2025-05-15T16:15:42.846537",
     "status": "completed"
    },
    "tags": []
   },
   "outputs": [
    {
     "data": {
      "text/html": [
       "<style>#sk-container-id-1 {\n",
       "  /* Definition of color scheme common for light and dark mode */\n",
       "  --sklearn-color-text: black;\n",
       "  --sklearn-color-line: gray;\n",
       "  /* Definition of color scheme for unfitted estimators */\n",
       "  --sklearn-color-unfitted-level-0: #fff5e6;\n",
       "  --sklearn-color-unfitted-level-1: #f6e4d2;\n",
       "  --sklearn-color-unfitted-level-2: #ffe0b3;\n",
       "  --sklearn-color-unfitted-level-3: chocolate;\n",
       "  /* Definition of color scheme for fitted estimators */\n",
       "  --sklearn-color-fitted-level-0: #f0f8ff;\n",
       "  --sklearn-color-fitted-level-1: #d4ebff;\n",
       "  --sklearn-color-fitted-level-2: #b3dbfd;\n",
       "  --sklearn-color-fitted-level-3: cornflowerblue;\n",
       "\n",
       "  /* Specific color for light theme */\n",
       "  --sklearn-color-text-on-default-background: var(--sg-text-color, var(--theme-code-foreground, var(--jp-content-font-color1, black)));\n",
       "  --sklearn-color-background: var(--sg-background-color, var(--theme-background, var(--jp-layout-color0, white)));\n",
       "  --sklearn-color-border-box: var(--sg-text-color, var(--theme-code-foreground, var(--jp-content-font-color1, black)));\n",
       "  --sklearn-color-icon: #696969;\n",
       "\n",
       "  @media (prefers-color-scheme: dark) {\n",
       "    /* Redefinition of color scheme for dark theme */\n",
       "    --sklearn-color-text-on-default-background: var(--sg-text-color, var(--theme-code-foreground, var(--jp-content-font-color1, white)));\n",
       "    --sklearn-color-background: var(--sg-background-color, var(--theme-background, var(--jp-layout-color0, #111)));\n",
       "    --sklearn-color-border-box: var(--sg-text-color, var(--theme-code-foreground, var(--jp-content-font-color1, white)));\n",
       "    --sklearn-color-icon: #878787;\n",
       "  }\n",
       "}\n",
       "\n",
       "#sk-container-id-1 {\n",
       "  color: var(--sklearn-color-text);\n",
       "}\n",
       "\n",
       "#sk-container-id-1 pre {\n",
       "  padding: 0;\n",
       "}\n",
       "\n",
       "#sk-container-id-1 input.sk-hidden--visually {\n",
       "  border: 0;\n",
       "  clip: rect(1px 1px 1px 1px);\n",
       "  clip: rect(1px, 1px, 1px, 1px);\n",
       "  height: 1px;\n",
       "  margin: -1px;\n",
       "  overflow: hidden;\n",
       "  padding: 0;\n",
       "  position: absolute;\n",
       "  width: 1px;\n",
       "}\n",
       "\n",
       "#sk-container-id-1 div.sk-dashed-wrapped {\n",
       "  border: 1px dashed var(--sklearn-color-line);\n",
       "  margin: 0 0.4em 0.5em 0.4em;\n",
       "  box-sizing: border-box;\n",
       "  padding-bottom: 0.4em;\n",
       "  background-color: var(--sklearn-color-background);\n",
       "}\n",
       "\n",
       "#sk-container-id-1 div.sk-container {\n",
       "  /* jupyter's `normalize.less` sets `[hidden] { display: none; }`\n",
       "     but bootstrap.min.css set `[hidden] { display: none !important; }`\n",
       "     so we also need the `!important` here to be able to override the\n",
       "     default hidden behavior on the sphinx rendered scikit-learn.org.\n",
       "     See: https://github.com/scikit-learn/scikit-learn/issues/21755 */\n",
       "  display: inline-block !important;\n",
       "  position: relative;\n",
       "}\n",
       "\n",
       "#sk-container-id-1 div.sk-text-repr-fallback {\n",
       "  display: none;\n",
       "}\n",
       "\n",
       "div.sk-parallel-item,\n",
       "div.sk-serial,\n",
       "div.sk-item {\n",
       "  /* draw centered vertical line to link estimators */\n",
       "  background-image: linear-gradient(var(--sklearn-color-text-on-default-background), var(--sklearn-color-text-on-default-background));\n",
       "  background-size: 2px 100%;\n",
       "  background-repeat: no-repeat;\n",
       "  background-position: center center;\n",
       "}\n",
       "\n",
       "/* Parallel-specific style estimator block */\n",
       "\n",
       "#sk-container-id-1 div.sk-parallel-item::after {\n",
       "  content: \"\";\n",
       "  width: 100%;\n",
       "  border-bottom: 2px solid var(--sklearn-color-text-on-default-background);\n",
       "  flex-grow: 1;\n",
       "}\n",
       "\n",
       "#sk-container-id-1 div.sk-parallel {\n",
       "  display: flex;\n",
       "  align-items: stretch;\n",
       "  justify-content: center;\n",
       "  background-color: var(--sklearn-color-background);\n",
       "  position: relative;\n",
       "}\n",
       "\n",
       "#sk-container-id-1 div.sk-parallel-item {\n",
       "  display: flex;\n",
       "  flex-direction: column;\n",
       "}\n",
       "\n",
       "#sk-container-id-1 div.sk-parallel-item:first-child::after {\n",
       "  align-self: flex-end;\n",
       "  width: 50%;\n",
       "}\n",
       "\n",
       "#sk-container-id-1 div.sk-parallel-item:last-child::after {\n",
       "  align-self: flex-start;\n",
       "  width: 50%;\n",
       "}\n",
       "\n",
       "#sk-container-id-1 div.sk-parallel-item:only-child::after {\n",
       "  width: 0;\n",
       "}\n",
       "\n",
       "/* Serial-specific style estimator block */\n",
       "\n",
       "#sk-container-id-1 div.sk-serial {\n",
       "  display: flex;\n",
       "  flex-direction: column;\n",
       "  align-items: center;\n",
       "  background-color: var(--sklearn-color-background);\n",
       "  padding-right: 1em;\n",
       "  padding-left: 1em;\n",
       "}\n",
       "\n",
       "\n",
       "/* Toggleable style: style used for estimator/Pipeline/ColumnTransformer box that is\n",
       "clickable and can be expanded/collapsed.\n",
       "- Pipeline and ColumnTransformer use this feature and define the default style\n",
       "- Estimators will overwrite some part of the style using the `sk-estimator` class\n",
       "*/\n",
       "\n",
       "/* Pipeline and ColumnTransformer style (default) */\n",
       "\n",
       "#sk-container-id-1 div.sk-toggleable {\n",
       "  /* Default theme specific background. It is overwritten whether we have a\n",
       "  specific estimator or a Pipeline/ColumnTransformer */\n",
       "  background-color: var(--sklearn-color-background);\n",
       "}\n",
       "\n",
       "/* Toggleable label */\n",
       "#sk-container-id-1 label.sk-toggleable__label {\n",
       "  cursor: pointer;\n",
       "  display: block;\n",
       "  width: 100%;\n",
       "  margin-bottom: 0;\n",
       "  padding: 0.5em;\n",
       "  box-sizing: border-box;\n",
       "  text-align: center;\n",
       "}\n",
       "\n",
       "#sk-container-id-1 label.sk-toggleable__label-arrow:before {\n",
       "  /* Arrow on the left of the label */\n",
       "  content: \"▸\";\n",
       "  float: left;\n",
       "  margin-right: 0.25em;\n",
       "  color: var(--sklearn-color-icon);\n",
       "}\n",
       "\n",
       "#sk-container-id-1 label.sk-toggleable__label-arrow:hover:before {\n",
       "  color: var(--sklearn-color-text);\n",
       "}\n",
       "\n",
       "/* Toggleable content - dropdown */\n",
       "\n",
       "#sk-container-id-1 div.sk-toggleable__content {\n",
       "  max-height: 0;\n",
       "  max-width: 0;\n",
       "  overflow: hidden;\n",
       "  text-align: left;\n",
       "  /* unfitted */\n",
       "  background-color: var(--sklearn-color-unfitted-level-0);\n",
       "}\n",
       "\n",
       "#sk-container-id-1 div.sk-toggleable__content.fitted {\n",
       "  /* fitted */\n",
       "  background-color: var(--sklearn-color-fitted-level-0);\n",
       "}\n",
       "\n",
       "#sk-container-id-1 div.sk-toggleable__content pre {\n",
       "  margin: 0.2em;\n",
       "  border-radius: 0.25em;\n",
       "  color: var(--sklearn-color-text);\n",
       "  /* unfitted */\n",
       "  background-color: var(--sklearn-color-unfitted-level-0);\n",
       "}\n",
       "\n",
       "#sk-container-id-1 div.sk-toggleable__content.fitted pre {\n",
       "  /* unfitted */\n",
       "  background-color: var(--sklearn-color-fitted-level-0);\n",
       "}\n",
       "\n",
       "#sk-container-id-1 input.sk-toggleable__control:checked~div.sk-toggleable__content {\n",
       "  /* Expand drop-down */\n",
       "  max-height: 200px;\n",
       "  max-width: 100%;\n",
       "  overflow: auto;\n",
       "}\n",
       "\n",
       "#sk-container-id-1 input.sk-toggleable__control:checked~label.sk-toggleable__label-arrow:before {\n",
       "  content: \"▾\";\n",
       "}\n",
       "\n",
       "/* Pipeline/ColumnTransformer-specific style */\n",
       "\n",
       "#sk-container-id-1 div.sk-label input.sk-toggleable__control:checked~label.sk-toggleable__label {\n",
       "  color: var(--sklearn-color-text);\n",
       "  background-color: var(--sklearn-color-unfitted-level-2);\n",
       "}\n",
       "\n",
       "#sk-container-id-1 div.sk-label.fitted input.sk-toggleable__control:checked~label.sk-toggleable__label {\n",
       "  background-color: var(--sklearn-color-fitted-level-2);\n",
       "}\n",
       "\n",
       "/* Estimator-specific style */\n",
       "\n",
       "/* Colorize estimator box */\n",
       "#sk-container-id-1 div.sk-estimator input.sk-toggleable__control:checked~label.sk-toggleable__label {\n",
       "  /* unfitted */\n",
       "  background-color: var(--sklearn-color-unfitted-level-2);\n",
       "}\n",
       "\n",
       "#sk-container-id-1 div.sk-estimator.fitted input.sk-toggleable__control:checked~label.sk-toggleable__label {\n",
       "  /* fitted */\n",
       "  background-color: var(--sklearn-color-fitted-level-2);\n",
       "}\n",
       "\n",
       "#sk-container-id-1 div.sk-label label.sk-toggleable__label,\n",
       "#sk-container-id-1 div.sk-label label {\n",
       "  /* The background is the default theme color */\n",
       "  color: var(--sklearn-color-text-on-default-background);\n",
       "}\n",
       "\n",
       "/* On hover, darken the color of the background */\n",
       "#sk-container-id-1 div.sk-label:hover label.sk-toggleable__label {\n",
       "  color: var(--sklearn-color-text);\n",
       "  background-color: var(--sklearn-color-unfitted-level-2);\n",
       "}\n",
       "\n",
       "/* Label box, darken color on hover, fitted */\n",
       "#sk-container-id-1 div.sk-label.fitted:hover label.sk-toggleable__label.fitted {\n",
       "  color: var(--sklearn-color-text);\n",
       "  background-color: var(--sklearn-color-fitted-level-2);\n",
       "}\n",
       "\n",
       "/* Estimator label */\n",
       "\n",
       "#sk-container-id-1 div.sk-label label {\n",
       "  font-family: monospace;\n",
       "  font-weight: bold;\n",
       "  display: inline-block;\n",
       "  line-height: 1.2em;\n",
       "}\n",
       "\n",
       "#sk-container-id-1 div.sk-label-container {\n",
       "  text-align: center;\n",
       "}\n",
       "\n",
       "/* Estimator-specific */\n",
       "#sk-container-id-1 div.sk-estimator {\n",
       "  font-family: monospace;\n",
       "  border: 1px dotted var(--sklearn-color-border-box);\n",
       "  border-radius: 0.25em;\n",
       "  box-sizing: border-box;\n",
       "  margin-bottom: 0.5em;\n",
       "  /* unfitted */\n",
       "  background-color: var(--sklearn-color-unfitted-level-0);\n",
       "}\n",
       "\n",
       "#sk-container-id-1 div.sk-estimator.fitted {\n",
       "  /* fitted */\n",
       "  background-color: var(--sklearn-color-fitted-level-0);\n",
       "}\n",
       "\n",
       "/* on hover */\n",
       "#sk-container-id-1 div.sk-estimator:hover {\n",
       "  /* unfitted */\n",
       "  background-color: var(--sklearn-color-unfitted-level-2);\n",
       "}\n",
       "\n",
       "#sk-container-id-1 div.sk-estimator.fitted:hover {\n",
       "  /* fitted */\n",
       "  background-color: var(--sklearn-color-fitted-level-2);\n",
       "}\n",
       "\n",
       "/* Specification for estimator info (e.g. \"i\" and \"?\") */\n",
       "\n",
       "/* Common style for \"i\" and \"?\" */\n",
       "\n",
       ".sk-estimator-doc-link,\n",
       "a:link.sk-estimator-doc-link,\n",
       "a:visited.sk-estimator-doc-link {\n",
       "  float: right;\n",
       "  font-size: smaller;\n",
       "  line-height: 1em;\n",
       "  font-family: monospace;\n",
       "  background-color: var(--sklearn-color-background);\n",
       "  border-radius: 1em;\n",
       "  height: 1em;\n",
       "  width: 1em;\n",
       "  text-decoration: none !important;\n",
       "  margin-left: 1ex;\n",
       "  /* unfitted */\n",
       "  border: var(--sklearn-color-unfitted-level-1) 1pt solid;\n",
       "  color: var(--sklearn-color-unfitted-level-1);\n",
       "}\n",
       "\n",
       ".sk-estimator-doc-link.fitted,\n",
       "a:link.sk-estimator-doc-link.fitted,\n",
       "a:visited.sk-estimator-doc-link.fitted {\n",
       "  /* fitted */\n",
       "  border: var(--sklearn-color-fitted-level-1) 1pt solid;\n",
       "  color: var(--sklearn-color-fitted-level-1);\n",
       "}\n",
       "\n",
       "/* On hover */\n",
       "div.sk-estimator:hover .sk-estimator-doc-link:hover,\n",
       ".sk-estimator-doc-link:hover,\n",
       "div.sk-label-container:hover .sk-estimator-doc-link:hover,\n",
       ".sk-estimator-doc-link:hover {\n",
       "  /* unfitted */\n",
       "  background-color: var(--sklearn-color-unfitted-level-3);\n",
       "  color: var(--sklearn-color-background);\n",
       "  text-decoration: none;\n",
       "}\n",
       "\n",
       "div.sk-estimator.fitted:hover .sk-estimator-doc-link.fitted:hover,\n",
       ".sk-estimator-doc-link.fitted:hover,\n",
       "div.sk-label-container:hover .sk-estimator-doc-link.fitted:hover,\n",
       ".sk-estimator-doc-link.fitted:hover {\n",
       "  /* fitted */\n",
       "  background-color: var(--sklearn-color-fitted-level-3);\n",
       "  color: var(--sklearn-color-background);\n",
       "  text-decoration: none;\n",
       "}\n",
       "\n",
       "/* Span, style for the box shown on hovering the info icon */\n",
       ".sk-estimator-doc-link span {\n",
       "  display: none;\n",
       "  z-index: 9999;\n",
       "  position: relative;\n",
       "  font-weight: normal;\n",
       "  right: .2ex;\n",
       "  padding: .5ex;\n",
       "  margin: .5ex;\n",
       "  width: min-content;\n",
       "  min-width: 20ex;\n",
       "  max-width: 50ex;\n",
       "  color: var(--sklearn-color-text);\n",
       "  box-shadow: 2pt 2pt 4pt #999;\n",
       "  /* unfitted */\n",
       "  background: var(--sklearn-color-unfitted-level-0);\n",
       "  border: .5pt solid var(--sklearn-color-unfitted-level-3);\n",
       "}\n",
       "\n",
       ".sk-estimator-doc-link.fitted span {\n",
       "  /* fitted */\n",
       "  background: var(--sklearn-color-fitted-level-0);\n",
       "  border: var(--sklearn-color-fitted-level-3);\n",
       "}\n",
       "\n",
       ".sk-estimator-doc-link:hover span {\n",
       "  display: block;\n",
       "}\n",
       "\n",
       "/* \"?\"-specific style due to the `<a>` HTML tag */\n",
       "\n",
       "#sk-container-id-1 a.estimator_doc_link {\n",
       "  float: right;\n",
       "  font-size: 1rem;\n",
       "  line-height: 1em;\n",
       "  font-family: monospace;\n",
       "  background-color: var(--sklearn-color-background);\n",
       "  border-radius: 1rem;\n",
       "  height: 1rem;\n",
       "  width: 1rem;\n",
       "  text-decoration: none;\n",
       "  /* unfitted */\n",
       "  color: var(--sklearn-color-unfitted-level-1);\n",
       "  border: var(--sklearn-color-unfitted-level-1) 1pt solid;\n",
       "}\n",
       "\n",
       "#sk-container-id-1 a.estimator_doc_link.fitted {\n",
       "  /* fitted */\n",
       "  border: var(--sklearn-color-fitted-level-1) 1pt solid;\n",
       "  color: var(--sklearn-color-fitted-level-1);\n",
       "}\n",
       "\n",
       "/* On hover */\n",
       "#sk-container-id-1 a.estimator_doc_link:hover {\n",
       "  /* unfitted */\n",
       "  background-color: var(--sklearn-color-unfitted-level-3);\n",
       "  color: var(--sklearn-color-background);\n",
       "  text-decoration: none;\n",
       "}\n",
       "\n",
       "#sk-container-id-1 a.estimator_doc_link.fitted:hover {\n",
       "  /* fitted */\n",
       "  background-color: var(--sklearn-color-fitted-level-3);\n",
       "}\n",
       "</style><div id=\"sk-container-id-1\" class=\"sk-top-container\"><div class=\"sk-text-repr-fallback\"><pre>XGBClassifier(base_score=None, booster=None, callbacks=None,\n",
       "              colsample_bylevel=None, colsample_bynode=0.24331970385082502,\n",
       "              colsample_bytree=None, device=None, early_stopping_rounds=None,\n",
       "              enable_categorical=False,\n",
       "              eval_metric=&lt;function custom_f1_score at 0x7f8c46ccc4a0&gt;,\n",
       "              feature_types=None, gamma=None, grow_policy=None,\n",
       "              importance_type=None, interaction_constraints=None,\n",
       "              learning_rate=0.41393718654672407, max_bin=None,\n",
       "              max_cat_threshold=None, max_cat_to_onehot=None,\n",
       "              max_delta_step=None, max_depth=20, max_leaves=None,\n",
       "              min_child_weight=4, missing=nan, monotone_constraints=None,\n",
       "              multi_strategy=None, n_estimators=44, n_jobs=None,\n",
       "              num_parallel_tree=None, objective=&#x27;multi:softprob&#x27;, ...)</pre><b>In a Jupyter environment, please rerun this cell to show the HTML representation or trust the notebook. <br />On GitHub, the HTML representation is unable to render, please try loading this page with nbviewer.org.</b></div><div class=\"sk-container\" hidden><div class=\"sk-item\"><div class=\"sk-estimator fitted sk-toggleable\"><input class=\"sk-toggleable__control sk-hidden--visually\" id=\"sk-estimator-id-1\" type=\"checkbox\" checked><label for=\"sk-estimator-id-1\" class=\"sk-toggleable__label fitted sk-toggleable__label-arrow fitted\">&nbsp;XGBClassifier<span class=\"sk-estimator-doc-link fitted\">i<span>Fitted</span></span></label><div class=\"sk-toggleable__content fitted\"><pre>XGBClassifier(base_score=None, booster=None, callbacks=None,\n",
       "              colsample_bylevel=None, colsample_bynode=0.24331970385082502,\n",
       "              colsample_bytree=None, device=None, early_stopping_rounds=None,\n",
       "              enable_categorical=False,\n",
       "              eval_metric=&lt;function custom_f1_score at 0x7f8c46ccc4a0&gt;,\n",
       "              feature_types=None, gamma=None, grow_policy=None,\n",
       "              importance_type=None, interaction_constraints=None,\n",
       "              learning_rate=0.41393718654672407, max_bin=None,\n",
       "              max_cat_threshold=None, max_cat_to_onehot=None,\n",
       "              max_delta_step=None, max_depth=20, max_leaves=None,\n",
       "              min_child_weight=4, missing=nan, monotone_constraints=None,\n",
       "              multi_strategy=None, n_estimators=44, n_jobs=None,\n",
       "              num_parallel_tree=None, objective=&#x27;multi:softprob&#x27;, ...)</pre></div> </div></div></div></div>"
      ],
      "text/plain": [
       "XGBClassifier(base_score=None, booster=None, callbacks=None,\n",
       "              colsample_bylevel=None, colsample_bynode=0.24331970385082502,\n",
       "              colsample_bytree=None, device=None, early_stopping_rounds=None,\n",
       "              enable_categorical=False,\n",
       "              eval_metric=<function custom_f1_score at 0x7f8c46ccc4a0>,\n",
       "              feature_types=None, gamma=None, grow_policy=None,\n",
       "              importance_type=None, interaction_constraints=None,\n",
       "              learning_rate=0.41393718654672407, max_bin=None,\n",
       "              max_cat_threshold=None, max_cat_to_onehot=None,\n",
       "              max_delta_step=None, max_depth=20, max_leaves=None,\n",
       "              min_child_weight=4, missing=nan, monotone_constraints=None,\n",
       "              multi_strategy=None, n_estimators=44, n_jobs=None,\n",
       "              num_parallel_tree=None, objective='multi:softprob', ...)"
      ]
     },
     "execution_count": 21,
     "metadata": {},
     "output_type": "execute_result"
    }
   ],
   "source": [
    "n_estimators = int(study.best_trial.user_attrs['best_iteration']*1.2)\n",
    "xgb = xgboost.XGBClassifier(\n",
    "        eval_metric=eval_metric,\n",
    "        n_estimators=n_estimators,\n",
    "        **study.best_trial.params\n",
    "    )\n",
    "xgb.fit(\n",
    "    ssp.vstack((X_train, X_val)), \n",
    "    np.concatenate((y_train_enc, y_val_enc)),\n",
    "    verbose=1,\n",
    ")"
   ]
  },
  {
   "cell_type": "code",
   "execution_count": 22,
   "id": "8f7e94af",
   "metadata": {
    "execution": {
     "iopub.execute_input": "2025-05-15T16:15:43.109139Z",
     "iopub.status.busy": "2025-05-15T16:15:43.108831Z",
     "iopub.status.idle": "2025-05-15T16:15:43.122709Z",
     "shell.execute_reply": "2025-05-15T16:15:43.122384Z"
    },
    "papermill": {
     "duration": 0.036266,
     "end_time": "2025-05-15T16:15:43.124896",
     "exception": false,
     "start_time": "2025-05-15T16:15:43.088630",
     "status": "completed"
    },
    "tags": []
   },
   "outputs": [
    {
     "data": {
      "text/plain": [
       "['/scratch_isilon/groups/singlecell/shared/projects/Inflammation-PBMCs-Atlas/03_downstream_analysis/08_gene_importance/xgboost_external_validation/xgboost_TopN_genes/results_20/best_model/Plasma_4_1_xgb.json']"
      ]
     },
     "execution_count": 22,
     "metadata": {},
     "output_type": "execute_result"
    }
   ],
   "source": [
    "out_dir = here(f'03_downstream_analysis/08_gene_importance/xgboost_external_validation/xgboost_TopN_genes/results_{N_GENES}/best_model')\n",
    "\n",
    "if not os.path.exists(out_dir):\n",
    "    os.makedirs(out_dir)\n",
    "    \n",
    "joblib.dump(xgb, os.path.join(out_dir, f'{CELL_TYPE}_{SEED}_{TEST_SPLIT_IDX}_xgb.json'))"
   ]
  },
  {
   "cell_type": "code",
   "execution_count": 23,
   "id": "391c6057",
   "metadata": {
    "execution": {
     "iopub.execute_input": "2025-05-15T16:15:43.144860Z",
     "iopub.status.busy": "2025-05-15T16:15:43.144574Z",
     "iopub.status.idle": "2025-05-15T16:15:43.150923Z",
     "shell.execute_reply": "2025-05-15T16:15:43.150570Z"
    },
    "papermill": {
     "duration": 0.021394,
     "end_time": "2025-05-15T16:15:43.156006",
     "exception": false,
     "start_time": "2025-05-15T16:15:43.134612",
     "status": "completed"
    },
    "tags": []
   },
   "outputs": [],
   "source": [
    "df_pred_test = pd.DataFrame(dict(\n",
    "    cell_id=train_adata.obs.iloc[test_idxs].index.values,\n",
    "    y_true=y_test, \n",
    "    y_true_code=y_test_enc, \n",
    "    y_pred=xgb.predict(X_test))).set_index('cell_id')"
   ]
  },
  {
   "cell_type": "code",
   "execution_count": 24,
   "id": "ae2cf2c0",
   "metadata": {
    "execution": {
     "iopub.execute_input": "2025-05-15T16:15:43.176063Z",
     "iopub.status.busy": "2025-05-15T16:15:43.175561Z",
     "iopub.status.idle": "2025-05-15T16:15:43.189011Z",
     "shell.execute_reply": "2025-05-15T16:15:43.188611Z"
    },
    "papermill": {
     "duration": 0.024697,
     "end_time": "2025-05-15T16:15:43.189912",
     "exception": false,
     "start_time": "2025-05-15T16:15:43.165215",
     "status": "completed"
    },
    "tags": []
   },
   "outputs": [],
   "source": [
    "out_dir = here(f'03_downstream_analysis/08_gene_importance/xgboost_external_validation/xgboost_TopN_genes/results_{N_GENES}/predictions')\n",
    "\n",
    "if not os.path.exists(out_dir):\n",
    "    os.makedirs(out_dir)\n",
    "    \n",
    "df_pred_test.to_csv(os.path.join(out_dir, f'{CELL_TYPE}_{SEED}_{TEST_SPLIT_IDX}_pred_test.zip'))"
   ]
  },
  {
   "cell_type": "code",
   "execution_count": 25,
   "id": "757833d3",
   "metadata": {
    "execution": {
     "iopub.execute_input": "2025-05-15T16:15:43.210238Z",
     "iopub.status.busy": "2025-05-15T16:15:43.209732Z",
     "iopub.status.idle": "2025-05-15T16:15:43.216168Z",
     "shell.execute_reply": "2025-05-15T16:15:43.215817Z"
    },
    "papermill": {
     "duration": 0.017289,
     "end_time": "2025-05-15T16:15:43.217098",
     "exception": false,
     "start_time": "2025-05-15T16:15:43.199809",
     "status": "completed"
    },
    "tags": []
   },
   "outputs": [],
   "source": [
    "metrics_dict = dict(\n",
    "    BAS=balanced_accuracy_score(y_true=df_pred_test.y_true_code, y_pred=df_pred_test.y_pred), WF1=f1_score(y_true=df_pred_test.y_true_code, y_pred=df_pred_test.y_pred,average='weighted'))"
   ]
  },
  {
   "cell_type": "code",
   "execution_count": 26,
   "id": "fc65c882",
   "metadata": {
    "execution": {
     "iopub.execute_input": "2025-05-15T16:15:43.253621Z",
     "iopub.status.busy": "2025-05-15T16:15:43.253332Z",
     "iopub.status.idle": "2025-05-15T16:15:43.256798Z",
     "shell.execute_reply": "2025-05-15T16:15:43.256451Z"
    },
    "papermill": {
     "duration": 0.016458,
     "end_time": "2025-05-15T16:15:43.257722",
     "exception": false,
     "start_time": "2025-05-15T16:15:43.241264",
     "status": "completed"
    },
    "tags": []
   },
   "outputs": [
    {
     "data": {
      "text/plain": [
       "{'BAS': 0.3404351775675305, 'WF1': 0.5274268669352525}"
      ]
     },
     "execution_count": 26,
     "metadata": {},
     "output_type": "execute_result"
    }
   ],
   "source": [
    "metrics_dict"
   ]
  },
  {
   "cell_type": "code",
   "execution_count": 27,
   "id": "c0f3ca7b",
   "metadata": {
    "execution": {
     "iopub.execute_input": "2025-05-15T16:15:43.280472Z",
     "iopub.status.busy": "2025-05-15T16:15:43.280044Z",
     "iopub.status.idle": "2025-05-15T16:15:43.288901Z",
     "shell.execute_reply": "2025-05-15T16:15:43.288581Z"
    },
    "papermill": {
     "duration": 0.021141,
     "end_time": "2025-05-15T16:15:43.289846",
     "exception": false,
     "start_time": "2025-05-15T16:15:43.268705",
     "status": "completed"
    },
    "tags": []
   },
   "outputs": [
    {
     "data": {
      "text/html": [
       "<div>\n",
       "<style scoped>\n",
       "    .dataframe tbody tr th:only-of-type {\n",
       "        vertical-align: middle;\n",
       "    }\n",
       "\n",
       "    .dataframe tbody tr th {\n",
       "        vertical-align: top;\n",
       "    }\n",
       "\n",
       "    .dataframe thead th {\n",
       "        text-align: right;\n",
       "    }\n",
       "</style>\n",
       "<table border=\"1\" class=\"dataframe\">\n",
       "  <thead>\n",
       "    <tr style=\"text-align: right;\">\n",
       "      <th></th>\n",
       "      <th>BAS</th>\n",
       "      <th>WF1</th>\n",
       "      <th>split_idx</th>\n",
       "      <th>gene_set_seed</th>\n",
       "      <th>cell_type</th>\n",
       "    </tr>\n",
       "  </thead>\n",
       "  <tbody>\n",
       "    <tr>\n",
       "      <th>0</th>\n",
       "      <td>0.340435</td>\n",
       "      <td>0.527427</td>\n",
       "      <td>1</td>\n",
       "      <td>4</td>\n",
       "      <td>Plasma</td>\n",
       "    </tr>\n",
       "  </tbody>\n",
       "</table>\n",
       "</div>"
      ],
      "text/plain": [
       "        BAS       WF1  split_idx  gene_set_seed cell_type\n",
       "0  0.340435  0.527427          1              4    Plasma"
      ]
     },
     "execution_count": 27,
     "metadata": {},
     "output_type": "execute_result"
    }
   ],
   "source": [
    "metrics_df = pd.DataFrame.from_dict([metrics_dict]).assign(split_idx=TEST_SPLIT_IDX, gene_set_seed=SEED, cell_type=CELL_TYPE)\n",
    "metrics_df"
   ]
  },
  {
   "cell_type": "code",
   "execution_count": 28,
   "id": "c60a6271",
   "metadata": {
    "execution": {
     "iopub.execute_input": "2025-05-15T16:15:43.334094Z",
     "iopub.status.busy": "2025-05-15T16:15:43.333865Z",
     "iopub.status.idle": "2025-05-15T16:15:43.355524Z",
     "shell.execute_reply": "2025-05-15T16:15:43.355088Z"
    },
    "papermill": {
     "duration": 0.05597,
     "end_time": "2025-05-15T16:15:43.356822",
     "exception": false,
     "start_time": "2025-05-15T16:15:43.300852",
     "status": "completed"
    },
    "tags": []
   },
   "outputs": [],
   "source": [
    "out_dir = here(f'03_downstream_analysis/08_gene_importance/xgboost_external_validation/xgboost_TopN_genes/results_{N_GENES}/metrics')\n",
    "\n",
    "if not os.path.exists(out_dir):\n",
    "    os.makedirs(out_dir)\n",
    "    \n",
    "metrics_df.to_csv(os.path.join(out_dir, f'{CELL_TYPE}_{SEED}_{TEST_SPLIT_IDX}_metrics.zip'))"
   ]
  }
 ],
 "metadata": {
  "kernelspec": {
   "display_name": "Python 3 (ipykernel)",
   "language": "python",
   "name": "python3"
  },
  "language_info": {
   "codemirror_mode": {
    "name": "ipython",
    "version": 3
   },
   "file_extension": ".py",
   "mimetype": "text/x-python",
   "name": "python",
   "nbconvert_exporter": "python",
   "pygments_lexer": "ipython3",
   "version": "3.12.5"
  },
  "papermill": {
   "default_parameters": {},
   "duration": 16.471065,
   "end_time": "2025-05-15T16:15:44.097928",
   "environment_variables": {},
   "exception": null,
   "input_path": "02_xgboost_fitting_external_20genes.ipynb",
   "output_path": "results_20/executed_notebooks/xgboost_fitting_external_CT_Plasma_GS_4_seed1.ipynb",
   "parameters": {
    "CELL_TYPE": "Plasma",
    "SEED": 4,
    "TEST_SPLIT_IDX": 1
   },
   "start_time": "2025-05-15T16:15:27.626863",
   "version": "2.6.0"
  }
 },
 "nbformat": 4,
 "nbformat_minor": 5
}