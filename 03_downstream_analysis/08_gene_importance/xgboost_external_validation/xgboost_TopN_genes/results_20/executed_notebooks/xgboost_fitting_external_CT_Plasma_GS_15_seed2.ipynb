{
 "cells": [
  {
   "cell_type": "code",
   "execution_count": 1,
   "id": "9bc28575",
   "metadata": {
    "editable": true,
    "execution": {
     "iopub.execute_input": "2025-05-15T16:15:44.096080Z",
     "iopub.status.busy": "2025-05-15T16:15:44.095716Z",
     "iopub.status.idle": "2025-05-15T16:15:44.098637Z",
     "shell.execute_reply": "2025-05-15T16:15:44.098317Z"
    },
    "papermill": {
     "duration": 0.010951,
     "end_time": "2025-05-15T16:15:44.099456",
     "exception": false,
     "start_time": "2025-05-15T16:15:44.088505",
     "status": "completed"
    },
    "slideshow": {
     "slide_type": ""
    },
    "tags": [
     "parameters"
    ]
   },
   "outputs": [],
   "source": [
    "CELL_TYPE = 'pDC'\n",
    "N_GENES: int = 20\n",
    "SEED = 'shap_studyID' #'disease_NOstudy' 'study_NOdisease' or 'int' or 'shap_studyID'\n",
    "TEST_SPLIT_IDX: int = 1 #[0,4]"
   ]
  },
  {
   "cell_type": "code",
   "execution_count": 2,
   "id": "c36371eb",
   "metadata": {
    "execution": {
     "iopub.execute_input": "2025-05-15T16:15:44.111268Z",
     "iopub.status.busy": "2025-05-15T16:15:44.110881Z",
     "iopub.status.idle": "2025-05-15T16:15:44.113046Z",
     "shell.execute_reply": "2025-05-15T16:15:44.112750Z"
    },
    "papermill": {
     "duration": 0.008585,
     "end_time": "2025-05-15T16:15:44.113810",
     "exception": false,
     "start_time": "2025-05-15T16:15:44.105225",
     "status": "completed"
    },
    "tags": [
     "injected-parameters"
    ]
   },
   "outputs": [],
   "source": [
    "# Parameters\n",
    "CELL_TYPE = \"Plasma\"\n",
    "SEED = 15\n",
    "TEST_SPLIT_IDX = 2\n"
   ]
  },
  {
   "cell_type": "code",
   "execution_count": 3,
   "id": "1a680b84",
   "metadata": {
    "execution": {
     "iopub.execute_input": "2025-05-15T16:15:44.125743Z",
     "iopub.status.busy": "2025-05-15T16:15:44.125553Z",
     "iopub.status.idle": "2025-05-15T16:15:44.127644Z",
     "shell.execute_reply": "2025-05-15T16:15:44.127339Z"
    },
    "papermill": {
     "duration": 0.008529,
     "end_time": "2025-05-15T16:15:44.128385",
     "exception": false,
     "start_time": "2025-05-15T16:15:44.119856",
     "status": "completed"
    },
    "tags": []
   },
   "outputs": [],
   "source": [
    "N_SPLITS: int = 5\n",
    "N_TRIALS: int = 50"
   ]
  },
  {
   "cell_type": "code",
   "execution_count": 4,
   "id": "81c79957",
   "metadata": {
    "execution": {
     "iopub.execute_input": "2025-05-15T16:15:44.140058Z",
     "iopub.status.busy": "2025-05-15T16:15:44.139875Z",
     "iopub.status.idle": "2025-05-15T16:15:45.472661Z",
     "shell.execute_reply": "2025-05-15T16:15:45.472161Z"
    },
    "papermill": {
     "duration": 1.340329,
     "end_time": "2025-05-15T16:15:45.473893",
     "exception": false,
     "start_time": "2025-05-15T16:15:44.133564",
     "status": "completed"
    },
    "tags": []
   },
   "outputs": [],
   "source": [
    "import os\n",
    "import sys\n",
    "from pyprojroot.here import here\n",
    "import pandas as pd\n",
    "import anndata as ad\n",
    "import numpy as np\n",
    "import math\n",
    "from sklearn.model_selection import StratifiedGroupKFold\n",
    "from sklearn.preprocessing import LabelEncoder\n",
    "from sklearn.metrics import f1_score\n",
    "import matplotlib.pyplot as plt\n",
    "import seaborn as sns\n",
    "from itertools import product\n",
    "from sklearn.metrics import balanced_accuracy_score, f1_score\n",
    "import optuna\n",
    "\n",
    "import joblib\n",
    "import pickle\n",
    "import datetime\n",
    "\n",
    "import collections\n",
    "\n",
    "import xgboost\n",
    "from sklearn.preprocessing import LabelEncoder\n",
    "\n",
    "import scipy.sparse as ssp\n",
    "import joblib\n",
    "\n",
    "from dotenv import load_dotenv"
   ]
  },
  {
   "cell_type": "code",
   "execution_count": 5,
   "id": "41397469",
   "metadata": {
    "execution": {
     "iopub.execute_input": "2025-05-15T16:15:45.485899Z",
     "iopub.status.busy": "2025-05-15T16:15:45.485574Z",
     "iopub.status.idle": "2025-05-15T16:15:45.491026Z",
     "shell.execute_reply": "2025-05-15T16:15:45.490733Z"
    },
    "papermill": {
     "duration": 0.012265,
     "end_time": "2025-05-15T16:15:45.491796",
     "exception": false,
     "start_time": "2025-05-15T16:15:45.479531",
     "status": "completed"
    },
    "tags": []
   },
   "outputs": [
    {
     "data": {
      "text/plain": [
       "True"
      ]
     },
     "execution_count": 5,
     "metadata": {},
     "output_type": "execute_result"
    }
   ],
   "source": [
    "load_dotenv()"
   ]
  },
  {
   "cell_type": "markdown",
   "id": "1e7111db",
   "metadata": {
    "papermill": {
     "duration": 0.005519,
     "end_time": "2025-05-15T16:15:45.502540",
     "exception": false,
     "start_time": "2025-05-15T16:15:45.497021",
     "status": "completed"
    },
    "tags": []
   },
   "source": [
    "# LOAD DATASET"
   ]
  },
  {
   "cell_type": "code",
   "execution_count": 6,
   "id": "fc6b8426",
   "metadata": {
    "execution": {
     "iopub.execute_input": "2025-05-15T16:15:45.514404Z",
     "iopub.status.busy": "2025-05-15T16:15:45.513900Z",
     "iopub.status.idle": "2025-05-15T16:15:45.551644Z",
     "shell.execute_reply": "2025-05-15T16:15:45.551204Z"
    },
    "papermill": {
     "duration": 0.044647,
     "end_time": "2025-05-15T16:15:45.552470",
     "exception": false,
     "start_time": "2025-05-15T16:15:45.507823",
     "status": "completed"
    },
    "tags": []
   },
   "outputs": [],
   "source": [
    "train_adata = ad.read_h5ad(\n",
    "    here(f'03_downstream_analysis/08_gene_importance/xgboost_external_validation/xgboost_TopN_genes/data_cellTypes/EXTERNAL_{CELL_TYPE}.filtered.log1p.h5ad')\n",
    ")"
   ]
  },
  {
   "cell_type": "code",
   "execution_count": 7,
   "id": "908da38e",
   "metadata": {
    "execution": {
     "iopub.execute_input": "2025-05-15T16:15:45.564410Z",
     "iopub.status.busy": "2025-05-15T16:15:45.564231Z",
     "iopub.status.idle": "2025-05-15T16:15:45.573958Z",
     "shell.execute_reply": "2025-05-15T16:15:45.573629Z"
    },
    "papermill": {
     "duration": 0.01654,
     "end_time": "2025-05-15T16:15:45.574756",
     "exception": false,
     "start_time": "2025-05-15T16:15:45.558216",
     "status": "completed"
    },
    "tags": []
   },
   "outputs": [
    {
     "name": "stdout",
     "output_type": "stream",
     "text": [
      "['ENSG00000015475' 'ENSG00000175567' 'ENSG00000128340' 'ENSG00000156411'\n",
      " 'ENSG00000078043' 'ENSG00000027697' 'ENSG00000134107' 'ENSG00000271503'\n",
      " 'ENSG00000143390' 'ENSG00000170540' 'ENSG00000143924' 'ENSG00000106588'\n",
      " 'ENSG00000113441' 'ENSG00000166888' 'ENSG00000134539' 'ENSG00000132510'\n",
      " 'ENSG00000145220' 'ENSG00000100906' 'ENSG00000105851' 'ENSG00000077150'\n",
      " 'ENSG00000108561' 'ENSG00000155368' 'ENSG00000090863' 'ENSG00000164543'\n",
      " 'ENSG00000127022' 'ENSG00000129084' 'ENSG00000180644' 'ENSG00000121858'\n",
      " 'ENSG00000090554' 'ENSG00000112137' 'ENSG00000068831' 'ENSG00000107223'\n",
      " 'ENSG00000197872' 'ENSG00000164308' 'ENSG00000189067' 'ENSG00000081059'\n",
      " 'ENSG00000006125' 'ENSG00000140564' 'ENSG00000121552' 'ENSG00000185201'\n",
      " 'ENSG00000162739' 'ENSG00000166681' 'ENSG00000183020' 'ENSG00000152518'\n",
      " 'ENSG00000107485' 'ENSG00000100911' 'ENSG00000227507' 'ENSG00000101695'\n",
      " 'ENSG00000142546' 'ENSG00000184752' 'ENSG00000185591' 'ENSG00000075945'\n",
      " 'ENSG00000153234' 'ENSG00000117318' 'ENSG00000075234' 'ENSG00000145675'\n",
      " 'ENSG00000131981' 'ENSG00000171608' 'ENSG00000028137' 'ENSG00000076944'\n",
      " 'ENSG00000112561' 'ENSG00000173812' 'ENSG00000118640' 'ENSG00000117602'\n",
      " 'ENSG00000143933' 'ENSG00000066336' 'ENSG00000172349' 'ENSG00000104856'\n",
      " 'ENSG00000125534' 'ENSG00000158769' 'ENSG00000168685' 'ENSG00000130522'\n",
      " 'ENSG00000102265' 'ENSG00000116815' 'ENSG00000197965' 'ENSG00000198832'\n",
      " 'ENSG00000104671' 'ENSG00000105583' 'ENSG00000182287' 'ENSG00000066136'\n",
      " 'ENSG00000169564' 'ENSG00000134352' 'ENSG00000169442' 'ENSG00000142166'\n",
      " 'ENSG00000158869' 'ENSG00000258315' 'ENSG00000123358' 'ENSG00000008517'\n",
      " 'ENSG00000175354' 'ENSG00000139318' 'ENSG00000038427' 'ENSG00000172531'\n",
      " 'ENSG00000104660' 'ENSG00000176986' 'ENSG00000166847' 'ENSG00000111716'\n",
      " 'ENSG00000122862' 'ENSG00000241106' 'ENSG00000152219' 'ENSG00000166747'\n",
      " 'ENSG00000235162' 'ENSG00000123268' 'ENSG00000104870' 'ENSG00000145850'\n",
      " 'ENSG00000152495' 'ENSG00000164104' 'ENSG00000104689']\n"
     ]
    }
   ],
   "source": [
    "if SEED != 'all':\n",
    "    gene_subset = np.load(here(f'03_downstream_analysis/08_gene_importance/xgboost_external_validation/shap_gene_selection/gene_subsets_{N_GENES}/{CELL_TYPE}_{SEED}.npy'), allow_pickle=True)\n",
    "    train_adata = train_adata[:,gene_subset]\n",
    "    print(gene_subset)\n",
    "elif SEED == 'all':\n",
    "    print('Using all genes')\n",
    "else:\n",
    "    raise ValueError()"
   ]
  },
  {
   "cell_type": "code",
   "execution_count": 8,
   "id": "b2bcb476",
   "metadata": {
    "execution": {
     "iopub.execute_input": "2025-05-15T16:15:45.586614Z",
     "iopub.status.busy": "2025-05-15T16:15:45.586310Z",
     "iopub.status.idle": "2025-05-15T16:15:45.589079Z",
     "shell.execute_reply": "2025-05-15T16:15:45.588783Z"
    },
    "papermill": {
     "duration": 0.009589,
     "end_time": "2025-05-15T16:15:45.589865",
     "exception": false,
     "start_time": "2025-05-15T16:15:45.580276",
     "status": "completed"
    },
    "tags": []
   },
   "outputs": [
    {
     "data": {
      "text/plain": [
       "(542, 107)"
      ]
     },
     "execution_count": 8,
     "metadata": {},
     "output_type": "execute_result"
    }
   ],
   "source": [
    "train_adata.shape"
   ]
  },
  {
   "cell_type": "code",
   "execution_count": 9,
   "id": "79b47a0e",
   "metadata": {
    "execution": {
     "iopub.execute_input": "2025-05-15T16:15:45.601857Z",
     "iopub.status.busy": "2025-05-15T16:15:45.601691Z",
     "iopub.status.idle": "2025-05-15T16:15:45.605063Z",
     "shell.execute_reply": "2025-05-15T16:15:45.604778Z"
    },
    "papermill": {
     "duration": 0.010224,
     "end_time": "2025-05-15T16:15:45.605816",
     "exception": false,
     "start_time": "2025-05-15T16:15:45.595592",
     "status": "completed"
    },
    "tags": []
   },
   "outputs": [
    {
     "data": {
      "text/plain": [
       "['RA', 'COVID', 'healthy', 'HIV', 'cirrhosis', 'CD', 'SLE', 'sepsis']\n",
       "Categories (8, object): ['CD', 'COVID', 'HIV', 'RA', 'SLE', 'cirrhosis', 'healthy', 'sepsis']"
      ]
     },
     "execution_count": 9,
     "metadata": {},
     "output_type": "execute_result"
    }
   ],
   "source": [
    "train_adata.obs.disease.unique()"
   ]
  },
  {
   "cell_type": "code",
   "execution_count": 10,
   "id": "49ef428e",
   "metadata": {
    "execution": {
     "iopub.execute_input": "2025-05-15T16:15:45.617663Z",
     "iopub.status.busy": "2025-05-15T16:15:45.617297Z",
     "iopub.status.idle": "2025-05-15T16:15:45.620753Z",
     "shell.execute_reply": "2025-05-15T16:15:45.620462Z"
    },
    "papermill": {
     "duration": 0.010183,
     "end_time": "2025-05-15T16:15:45.621542",
     "exception": false,
     "start_time": "2025-05-15T16:15:45.611359",
     "status": "completed"
    },
    "tags": []
   },
   "outputs": [
    {
     "data": {
      "text/plain": [
       "['SCGT00val_I0364_T0', 'SCGT00val_I036019_T0', 'SCGT00val_I036028_T0', 'SCGT00val_I036024_T0', 'SCGT00val_I036016_T0', ..., '10XGenomics_10XHC2_T0', '10XGenomics_10XHC3_T0', '10XGenomics_10XHC5_T0', '10XGenomics_10XHC7_T0', '10XGenomics_10XHC8_T0']\n",
       "Length: 74\n",
       "Categories (74, object): ['10XGenomics_10XHC1_T0', '10XGenomics_10XHC2_T0', '10XGenomics_10XHC3_T0', '10XGenomics_10XHC4_T0', ..., 'Savage2021_BRISL6_T0', 'Savage2021_BRISL7_T0', 'Savage2021_PIDA_T0', 'Savage2021_PIDB_T0']"
      ]
     },
     "execution_count": 10,
     "metadata": {},
     "output_type": "execute_result"
    }
   ],
   "source": [
    "train_adata.obs.sampleID.unique()"
   ]
  },
  {
   "cell_type": "code",
   "execution_count": 11,
   "id": "5613ff2b",
   "metadata": {
    "execution": {
     "iopub.execute_input": "2025-05-15T16:15:45.633493Z",
     "iopub.status.busy": "2025-05-15T16:15:45.633136Z",
     "iopub.status.idle": "2025-05-15T16:15:45.661619Z",
     "shell.execute_reply": "2025-05-15T16:15:45.661286Z"
    },
    "papermill": {
     "duration": 0.035305,
     "end_time": "2025-05-15T16:15:45.662390",
     "exception": false,
     "start_time": "2025-05-15T16:15:45.627085",
     "status": "completed"
    },
    "tags": []
   },
   "outputs": [],
   "source": [
    "all_idxs = np.arange(train_adata.obs.shape[0])\n",
    "left_out_splits = [s[1] for s in StratifiedGroupKFold(n_splits=N_SPLITS).split(all_idxs, train_adata.obs.disease, train_adata.obs.sampleID)]"
   ]
  },
  {
   "cell_type": "code",
   "execution_count": 12,
   "id": "569bbb95",
   "metadata": {
    "execution": {
     "iopub.execute_input": "2025-05-15T16:15:45.674426Z",
     "iopub.status.busy": "2025-05-15T16:15:45.674048Z",
     "iopub.status.idle": "2025-05-15T16:15:45.677069Z",
     "shell.execute_reply": "2025-05-15T16:15:45.676781Z"
    },
    "papermill": {
     "duration": 0.009796,
     "end_time": "2025-05-15T16:15:45.677829",
     "exception": false,
     "start_time": "2025-05-15T16:15:45.668033",
     "status": "completed"
    },
    "tags": []
   },
   "outputs": [
    {
     "data": {
      "text/plain": [
       "([0, 1, 4], 3, 2)"
      ]
     },
     "execution_count": 12,
     "metadata": {},
     "output_type": "execute_result"
    }
   ],
   "source": [
    "TRAIN_SPLIT_IDXS = [0,1,2,3,4]\n",
    "VAL_SPLIT_IDX = (TEST_SPLIT_IDX + 1) % 5\n",
    "TRAIN_SPLIT_IDXS.remove(TEST_SPLIT_IDX)\n",
    "TRAIN_SPLIT_IDXS.remove(VAL_SPLIT_IDX)\n",
    "TRAIN_SPLIT_IDXS, VAL_SPLIT_IDX, TEST_SPLIT_IDX"
   ]
  },
  {
   "cell_type": "code",
   "execution_count": 13,
   "id": "544d6b4a",
   "metadata": {
    "execution": {
     "iopub.execute_input": "2025-05-15T16:15:45.690767Z",
     "iopub.status.busy": "2025-05-15T16:15:45.690597Z",
     "iopub.status.idle": "2025-05-15T16:15:45.692808Z",
     "shell.execute_reply": "2025-05-15T16:15:45.692520Z"
    },
    "papermill": {
     "duration": 0.009585,
     "end_time": "2025-05-15T16:15:45.693570",
     "exception": false,
     "start_time": "2025-05-15T16:15:45.683985",
     "status": "completed"
    },
    "tags": []
   },
   "outputs": [],
   "source": [
    "train_idxs = np.concatenate([left_out_splits[idx] for idx in TRAIN_SPLIT_IDXS])\n",
    "val_idxs = left_out_splits[VAL_SPLIT_IDX]\n",
    "test_idxs = left_out_splits[TEST_SPLIT_IDX]"
   ]
  },
  {
   "cell_type": "markdown",
   "id": "a0d89e4a",
   "metadata": {
    "papermill": {
     "duration": 0.005836,
     "end_time": "2025-05-15T16:15:45.704992",
     "exception": false,
     "start_time": "2025-05-15T16:15:45.699156",
     "status": "completed"
    },
    "tags": []
   },
   "source": [
    "### SUBSET DATASET INTO TRAIN/TEST/VAL SPLITS"
   ]
  },
  {
   "cell_type": "code",
   "execution_count": 14,
   "id": "92eddc57",
   "metadata": {
    "execution": {
     "iopub.execute_input": "2025-05-15T16:15:45.716722Z",
     "iopub.status.busy": "2025-05-15T16:15:45.716510Z",
     "iopub.status.idle": "2025-05-15T16:15:45.722031Z",
     "shell.execute_reply": "2025-05-15T16:15:45.721732Z"
    },
    "papermill": {
     "duration": 0.01217,
     "end_time": "2025-05-15T16:15:45.722791",
     "exception": false,
     "start_time": "2025-05-15T16:15:45.710621",
     "status": "completed"
    },
    "tags": []
   },
   "outputs": [
    {
     "data": {
      "text/plain": [
       "((341, 107), (102, 107), (99, 107))"
      ]
     },
     "execution_count": 14,
     "metadata": {},
     "output_type": "execute_result"
    }
   ],
   "source": [
    "X_train = train_adata.X[train_idxs]\n",
    "X_test = train_adata.X[test_idxs]\n",
    "X_val = train_adata.X[val_idxs]\n",
    "X_train.shape, X_test.shape, X_val.shape"
   ]
  },
  {
   "cell_type": "code",
   "execution_count": 15,
   "id": "3ea44ef4",
   "metadata": {
    "execution": {
     "iopub.execute_input": "2025-05-15T16:15:45.734783Z",
     "iopub.status.busy": "2025-05-15T16:15:45.734611Z",
     "iopub.status.idle": "2025-05-15T16:15:45.739015Z",
     "shell.execute_reply": "2025-05-15T16:15:45.738730Z"
    },
    "papermill": {
     "duration": 0.011488,
     "end_time": "2025-05-15T16:15:45.739776",
     "exception": false,
     "start_time": "2025-05-15T16:15:45.728288",
     "status": "completed"
    },
    "tags": []
   },
   "outputs": [
    {
     "data": {
      "text/plain": [
       "((341,), (102,), (99,))"
      ]
     },
     "execution_count": 15,
     "metadata": {},
     "output_type": "execute_result"
    }
   ],
   "source": [
    "y_train = train_adata.obs.iloc[train_idxs].disease.values.astype(str)\n",
    "y_test = train_adata.obs.iloc[test_idxs].disease.values.astype(str)\n",
    "y_val = train_adata.obs.iloc[val_idxs].disease.values.astype(str)\n",
    "y_train.shape, y_test.shape, y_val.shape"
   ]
  },
  {
   "cell_type": "code",
   "execution_count": 16,
   "id": "facb33dd",
   "metadata": {
    "execution": {
     "iopub.execute_input": "2025-05-15T16:15:45.752134Z",
     "iopub.status.busy": "2025-05-15T16:15:45.751967Z",
     "iopub.status.idle": "2025-05-15T16:15:45.754529Z",
     "shell.execute_reply": "2025-05-15T16:15:45.754239Z"
    },
    "papermill": {
     "duration": 0.009635,
     "end_time": "2025-05-15T16:15:45.755254",
     "exception": false,
     "start_time": "2025-05-15T16:15:45.745619",
     "status": "completed"
    },
    "tags": []
   },
   "outputs": [],
   "source": [
    "lenc = LabelEncoder()\n",
    "y_train_enc = lenc.fit_transform(y_train)\n",
    "y_val_enc = lenc.transform(y_val)\n",
    "y_test_enc = lenc.transform(y_test)"
   ]
  },
  {
   "cell_type": "markdown",
   "id": "a7dbe3a3",
   "metadata": {
    "papermill": {
     "duration": 0.005945,
     "end_time": "2025-05-15T16:15:45.766974",
     "exception": false,
     "start_time": "2025-05-15T16:15:45.761029",
     "status": "completed"
    },
    "tags": []
   },
   "source": [
    "### GENERATE F1 "
   ]
  },
  {
   "cell_type": "code",
   "execution_count": 17,
   "id": "9658cbc3",
   "metadata": {
    "execution": {
     "iopub.execute_input": "2025-05-15T16:15:45.779667Z",
     "iopub.status.busy": "2025-05-15T16:15:45.779302Z",
     "iopub.status.idle": "2025-05-15T16:15:45.781666Z",
     "shell.execute_reply": "2025-05-15T16:15:45.781352Z"
    },
    "papermill": {
     "duration": 0.009448,
     "end_time": "2025-05-15T16:15:45.782424",
     "exception": false,
     "start_time": "2025-05-15T16:15:45.772976",
     "status": "completed"
    },
    "tags": []
   },
   "outputs": [],
   "source": [
    "def custom_f1_score(y_true, y_pred):\n",
    "    return -f1_score(y_true, y_pred.argmax(1), average='weighted')"
   ]
  },
  {
   "cell_type": "code",
   "execution_count": 18,
   "id": "b7e4c14e",
   "metadata": {
    "execution": {
     "iopub.execute_input": "2025-05-15T16:15:45.799931Z",
     "iopub.status.busy": "2025-05-15T16:15:45.799687Z",
     "iopub.status.idle": "2025-05-15T16:15:45.803198Z",
     "shell.execute_reply": "2025-05-15T16:15:45.802879Z"
    },
    "papermill": {
     "duration": 0.010474,
     "end_time": "2025-05-15T16:15:45.803965",
     "exception": false,
     "start_time": "2025-05-15T16:15:45.793491",
     "status": "completed"
    },
    "tags": []
   },
   "outputs": [],
   "source": [
    "eval_metric=custom_f1_score\n",
    "eval_metric_name='custom_f1_score'\n",
    "\n",
    "def objective(trial):\n",
    "    params = {\n",
    "        'n_estimators': 1500,\n",
    "        'max_depth': trial.suggest_int('max_depth', 3, 20),\n",
    "        'min_child_weight': trial.suggest_int('min_child_weight', 1, 250),\n",
    "        'subsample': trial.suggest_float('subsample', 0.1, 1.0),\n",
    "        'colsample_bynode': trial.suggest_float('colsample_bynode', 0.1, 1.0),\n",
    "        'learning_rate': trial.suggest_float('learning_rate', 1e-3, 5e-1, log=True),\n",
    "    }\n",
    "    pruning_callback = optuna.integration.XGBoostPruningCallback(trial, f'validation_0-{eval_metric_name}')\n",
    "    es_callback = xgboost.callback.EarlyStopping(20, min_delta=0.001)\n",
    "    xgb = xgboost.XGBClassifier(\n",
    "        eval_metric=eval_metric,\n",
    "        callbacks=[pruning_callback, es_callback],\n",
    "        n_jobs=5,\n",
    "        **params\n",
    "    )\n",
    "    xgb.fit(\n",
    "        X_train, \n",
    "        y_train_enc, \n",
    "        verbose=0,\n",
    "        eval_set=[(X_val, y_val_enc)],\n",
    "    )\n",
    "    trial.set_user_attr('best_iteration', xgb.best_iteration)\n",
    "\n",
    "    return xgb.best_score"
   ]
  },
  {
   "cell_type": "code",
   "execution_count": 19,
   "id": "ee240742",
   "metadata": {
    "execution": {
     "iopub.execute_input": "2025-05-15T16:15:45.816636Z",
     "iopub.status.busy": "2025-05-15T16:15:45.816264Z",
     "iopub.status.idle": "2025-05-15T16:15:54.869897Z",
     "shell.execute_reply": "2025-05-15T16:15:54.869271Z"
    },
    "papermill": {
     "duration": 9.060966,
     "end_time": "2025-05-15T16:15:54.870814",
     "exception": false,
     "start_time": "2025-05-15T16:15:45.809848",
     "status": "completed"
    },
    "scrolled": true,
    "tags": []
   },
   "outputs": [
    {
     "name": "stderr",
     "output_type": "stream",
     "text": [
      "[I 2025-05-15 18:15:45,818] A new study created in memory with name: no-name-920556ae-392e-40c5-b836-18ea52b3f04e\n"
     ]
    },
    {
     "name": "stderr",
     "output_type": "stream",
     "text": [
      "[I 2025-05-15 18:15:45,879] Trial 0 finished with value: -0.022222 and parameters: {'max_depth': 9, 'min_child_weight': 238, 'subsample': 0.7587945476302645, 'colsample_bynode': 0.6387926357773329, 'learning_rate': 0.0026368755339723046}. Best is trial 0 with value: -0.022222.\n"
     ]
    },
    {
     "name": "stderr",
     "output_type": "stream",
     "text": [
      "[I 2025-05-15 18:15:46,074] Trial 1 finished with value: -0.468124 and parameters: {'max_depth': 5, 'min_child_weight': 15, 'subsample': 0.8795585311974417, 'colsample_bynode': 0.6410035105688879, 'learning_rate': 0.08148293210105287}. Best is trial 1 with value: -0.468124.\n"
     ]
    },
    {
     "name": "stderr",
     "output_type": "stream",
     "text": [
      "[I 2025-05-15 18:15:46,196] Trial 2 finished with value: -0.022222 and parameters: {'max_depth': 3, 'min_child_weight': 243, 'subsample': 0.8491983767203796, 'colsample_bynode': 0.29110519961044856, 'learning_rate': 0.003095566460242371}. Best is trial 1 with value: -0.468124.\n"
     ]
    },
    {
     "name": "stderr",
     "output_type": "stream",
     "text": [
      "[I 2025-05-15 18:15:46,320] Trial 3 finished with value: -0.022222 and parameters: {'max_depth': 6, 'min_child_weight': 77, 'subsample': 0.5722807884690141, 'colsample_bynode': 0.48875051677790415, 'learning_rate': 0.006109683510122491}. Best is trial 1 with value: -0.468124.\n"
     ]
    },
    {
     "name": "stderr",
     "output_type": "stream",
     "text": [
      "[I 2025-05-15 18:15:46,442] Trial 4 finished with value: -0.022222 and parameters: {'max_depth': 14, 'min_child_weight': 35, 'subsample': 0.3629301836816964, 'colsample_bynode': 0.4297256589643226, 'learning_rate': 0.01701841881702917}. Best is trial 1 with value: -0.468124.\n"
     ]
    },
    {
     "name": "stderr",
     "output_type": "stream",
     "text": [
      "[I 2025-05-15 18:15:46,570] Trial 5 finished with value: -0.022222 and parameters: {'max_depth': 17, 'min_child_weight': 50, 'subsample': 0.5628109945722505, 'colsample_bynode': 0.6331731119758383, 'learning_rate': 0.0013346527038305934}. Best is trial 1 with value: -0.468124.\n"
     ]
    },
    {
     "name": "stderr",
     "output_type": "stream",
     "text": [
      "[I 2025-05-15 18:15:46,700] Trial 6 finished with value: -0.022222 and parameters: {'max_depth': 13, 'min_child_weight': 43, 'subsample': 0.1585464336867516, 'colsample_bynode': 0.9539969835279999, 'learning_rate': 0.4038423798071558}. Best is trial 1 with value: -0.468124.\n"
     ]
    },
    {
     "name": "stderr",
     "output_type": "stream",
     "text": [
      "[I 2025-05-15 18:15:46,830] Trial 7 finished with value: -0.022222 and parameters: {'max_depth': 17, 'min_child_weight': 77, 'subsample': 0.1879049026057455, 'colsample_bynode': 0.7158097238609412, 'learning_rate': 0.015415527060141935}. Best is trial 1 with value: -0.468124.\n"
     ]
    },
    {
     "name": "stderr",
     "output_type": "stream",
     "text": [
      "[I 2025-05-15 18:15:46,963] Trial 8 finished with value: -0.022222 and parameters: {'max_depth': 5, 'min_child_weight': 124, 'subsample': 0.13094966900369656, 'colsample_bynode': 0.9183883618709039, 'learning_rate': 0.004993895014755658}. Best is trial 1 with value: -0.468124.\n"
     ]
    },
    {
     "name": "stderr",
     "output_type": "stream",
     "text": [
      "[I 2025-05-15 18:15:47,095] Trial 9 finished with value: -0.022222 and parameters: {'max_depth': 14, 'min_child_weight': 78, 'subsample': 0.5680612190600297, 'colsample_bynode': 0.5920392514089517, 'learning_rate': 0.0031543990308330965}. Best is trial 1 with value: -0.468124.\n"
     ]
    },
    {
     "name": "stderr",
     "output_type": "stream",
     "text": [
      "[I 2025-05-15 18:15:47,504] Trial 10 finished with value: -0.484058 and parameters: {'max_depth': 9, 'min_child_weight': 2, 'subsample': 0.9725833997090791, 'colsample_bynode': 0.11616568805333755, 'learning_rate': 0.17780618353487967}. Best is trial 10 with value: -0.484058.\n"
     ]
    },
    {
     "name": "stderr",
     "output_type": "stream",
     "text": [
      "[I 2025-05-15 18:15:47,747] Trial 11 pruned. Trial was pruned at iteration 21.\n"
     ]
    },
    {
     "name": "stderr",
     "output_type": "stream",
     "text": [
      "[I 2025-05-15 18:15:48,165] Trial 12 finished with value: -0.51088 and parameters: {'max_depth': 9, 'min_child_weight': 3, 'subsample': 0.9754570370311046, 'colsample_bynode': 0.14672783827498995, 'learning_rate': 0.08954997670613858}. Best is trial 12 with value: -0.51088.\n"
     ]
    },
    {
     "name": "stderr",
     "output_type": "stream",
     "text": [
      "[I 2025-05-15 18:15:48,306] Trial 13 finished with value: -0.022222 and parameters: {'max_depth': 10, 'min_child_weight': 173, 'subsample': 0.9990365834996398, 'colsample_bynode': 0.10388397775802007, 'learning_rate': 0.08954294267079196}. Best is trial 12 with value: -0.51088.\n"
     ]
    },
    {
     "name": "stderr",
     "output_type": "stream",
     "text": [
      "[I 2025-05-15 18:15:48,449] Trial 14 finished with value: -0.022222 and parameters: {'max_depth': 7, 'min_child_weight': 132, 'subsample': 0.7251427075087294, 'colsample_bynode': 0.2827065087684573, 'learning_rate': 0.39514801085683204}. Best is trial 12 with value: -0.51088.\n"
     ]
    },
    {
     "name": "stderr",
     "output_type": "stream",
     "text": [
      "[I 2025-05-15 18:15:48,757] Trial 15 pruned. Trial was pruned at iteration 26.\n"
     ]
    },
    {
     "name": "stderr",
     "output_type": "stream",
     "text": [
      "[I 2025-05-15 18:15:48,900] Trial 16 finished with value: -0.022222 and parameters: {'max_depth': 11, 'min_child_weight': 125, 'subsample': 0.8815541734801864, 'colsample_bynode': 0.11794375140013524, 'learning_rate': 0.049223809345826965}. Best is trial 12 with value: -0.51088.\n"
     ]
    },
    {
     "name": "stderr",
     "output_type": "stream",
     "text": [
      "[I 2025-05-15 18:15:49,043] Trial 17 finished with value: -0.022222 and parameters: {'max_depth': 8, 'min_child_weight': 183, 'subsample': 0.38147523481218437, 'colsample_bynode': 0.22493155379732882, 'learning_rate': 0.04721213780493888}. Best is trial 12 with value: -0.51088.\n"
     ]
    },
    {
     "name": "stderr",
     "output_type": "stream",
     "text": [
      "[I 2025-05-15 18:15:49,194] Trial 18 pruned. Trial was pruned at iteration 21.\n"
     ]
    },
    {
     "name": "stderr",
     "output_type": "stream",
     "text": [
      "[I 2025-05-15 18:15:49,338] Trial 19 finished with value: -0.022222 and parameters: {'max_depth': 11, 'min_child_weight': 102, 'subsample': 0.9723428668438461, 'colsample_bynode': 0.21061250777137863, 'learning_rate': 0.0340013005982499}. Best is trial 12 with value: -0.51088.\n"
     ]
    },
    {
     "name": "stderr",
     "output_type": "stream",
     "text": [
      "[I 2025-05-15 18:15:49,490] Trial 20 finished with value: -0.022222 and parameters: {'max_depth': 7, 'min_child_weight': 60, 'subsample': 0.6557531039489988, 'colsample_bynode': 0.792643950018397, 'learning_rate': 0.19601104640141212}. Best is trial 12 with value: -0.51088.\n"
     ]
    },
    {
     "name": "stderr",
     "output_type": "stream",
     "text": [
      "[I 2025-05-15 18:15:49,679] Trial 21 pruned. Trial was pruned at iteration 21.\n"
     ]
    },
    {
     "name": "stderr",
     "output_type": "stream",
     "text": [
      "[I 2025-05-15 18:15:49,858] Trial 22 pruned. Trial was pruned at iteration 21.\n"
     ]
    },
    {
     "name": "stderr",
     "output_type": "stream",
     "text": [
      "[I 2025-05-15 18:15:50,031] Trial 23 pruned. Trial was pruned at iteration 21.\n"
     ]
    },
    {
     "name": "stderr",
     "output_type": "stream",
     "text": [
      "[I 2025-05-15 18:15:50,275] Trial 24 pruned. Trial was pruned at iteration 21.\n"
     ]
    },
    {
     "name": "stderr",
     "output_type": "stream",
     "text": [
      "[I 2025-05-15 18:15:50,424] Trial 25 finished with value: -0.022222 and parameters: {'max_depth': 6, 'min_child_weight': 60, 'subsample': 0.6456116649072785, 'colsample_bynode': 0.532177065816127, 'learning_rate': 0.281809190534241}. Best is trial 12 with value: -0.51088.\n"
     ]
    },
    {
     "name": "stderr",
     "output_type": "stream",
     "text": [
      "[I 2025-05-15 18:15:50,576] Trial 26 finished with value: -0.166667 and parameters: {'max_depth': 10, 'min_child_weight': 27, 'subsample': 0.4415145059632183, 'colsample_bynode': 0.7060120341889913, 'learning_rate': 0.0668037040487806}. Best is trial 12 with value: -0.51088.\n"
     ]
    },
    {
     "name": "stderr",
     "output_type": "stream",
     "text": [
      "[I 2025-05-15 18:15:50,728] Trial 27 finished with value: -0.022222 and parameters: {'max_depth': 8, 'min_child_weight': 104, 'subsample': 0.830994423789636, 'colsample_bynode': 0.43555425322930064, 'learning_rate': 0.1346978034114215}. Best is trial 12 with value: -0.51088.\n"
     ]
    },
    {
     "name": "stderr",
     "output_type": "stream",
     "text": [
      "[I 2025-05-15 18:15:51,036] Trial 28 pruned. Trial was pruned at iteration 21.\n"
     ]
    },
    {
     "name": "stderr",
     "output_type": "stream",
     "text": [
      "[I 2025-05-15 18:15:51,189] Trial 29 finished with value: -0.022222 and parameters: {'max_depth': 9, 'min_child_weight': 217, 'subsample': 0.7792824855561776, 'colsample_bynode': 0.35144187260404597, 'learning_rate': 0.03555987277431128}. Best is trial 12 with value: -0.51088.\n"
     ]
    },
    {
     "name": "stderr",
     "output_type": "stream",
     "text": [
      "[I 2025-05-15 18:15:51,343] Trial 30 finished with value: -0.166667 and parameters: {'max_depth': 4, 'min_child_weight': 53, 'subsample': 0.7101946705465456, 'colsample_bynode': 0.7096162111910556, 'learning_rate': 0.30874366458011154}. Best is trial 12 with value: -0.51088.\n"
     ]
    },
    {
     "name": "stderr",
     "output_type": "stream",
     "text": [
      "[I 2025-05-15 18:15:51,493] Trial 31 finished with value: -0.166667 and parameters: {'max_depth': 12, 'min_child_weight': 33, 'subsample': 0.41582683652386, 'colsample_bynode': 0.692910796961594, 'learning_rate': 0.06832396378391797}. Best is trial 12 with value: -0.51088.\n"
     ]
    },
    {
     "name": "stderr",
     "output_type": "stream",
     "text": [
      "[I 2025-05-15 18:15:51,652] Trial 32 pruned. Trial was pruned at iteration 21.\n"
     ]
    },
    {
     "name": "stderr",
     "output_type": "stream",
     "text": [
      "[I 2025-05-15 18:15:51,799] Trial 33 pruned. Trial was pruned at iteration 21.\n"
     ]
    },
    {
     "name": "stderr",
     "output_type": "stream",
     "text": [
      "[I 2025-05-15 18:15:51,975] Trial 34 pruned. Trial was pruned at iteration 21.\n"
     ]
    },
    {
     "name": "stderr",
     "output_type": "stream",
     "text": [
      "[I 2025-05-15 18:15:52,123] Trial 35 finished with value: -0.022222 and parameters: {'max_depth': 15, 'min_child_weight': 67, 'subsample': 0.30998064053558805, 'colsample_bynode': 0.6624987416137388, 'learning_rate': 0.010065159574736374}. Best is trial 12 with value: -0.51088.\n"
     ]
    },
    {
     "name": "stderr",
     "output_type": "stream",
     "text": [
      "[I 2025-05-15 18:15:52,276] Trial 36 pruned. Trial was pruned at iteration 21.\n"
     ]
    },
    {
     "name": "stderr",
     "output_type": "stream",
     "text": [
      "[I 2025-05-15 18:15:52,439] Trial 37 pruned. Trial was pruned at iteration 21.\n"
     ]
    },
    {
     "name": "stderr",
     "output_type": "stream",
     "text": [
      "[I 2025-05-15 18:15:52,602] Trial 38 finished with value: -0.166667 and parameters: {'max_depth': 9, 'min_child_weight': 31, 'subsample': 0.5057966996056662, 'colsample_bynode': 0.45462238513793146, 'learning_rate': 0.039908134378193384}. Best is trial 12 with value: -0.51088.\n"
     ]
    },
    {
     "name": "stderr",
     "output_type": "stream",
     "text": [
      "[I 2025-05-15 18:15:52,759] Trial 39 finished with value: -0.022222 and parameters: {'max_depth': 5, 'min_child_weight': 97, 'subsample': 0.6285664313952011, 'colsample_bynode': 0.569221294390402, 'learning_rate': 0.4727363411197455}. Best is trial 12 with value: -0.51088.\n"
     ]
    },
    {
     "name": "stderr",
     "output_type": "stream",
     "text": [
      "[I 2025-05-15 18:15:52,916] Trial 40 finished with value: -0.022222 and parameters: {'max_depth': 13, 'min_child_weight': 84, 'subsample': 0.522855423201283, 'colsample_bynode': 0.15075998109585742, 'learning_rate': 0.07162321565530821}. Best is trial 12 with value: -0.51088.\n"
     ]
    },
    {
     "name": "stderr",
     "output_type": "stream",
     "text": [
      "[I 2025-05-15 18:15:53,081] Trial 41 pruned. Trial was pruned at iteration 21.\n"
     ]
    },
    {
     "name": "stderr",
     "output_type": "stream",
     "text": [
      "[I 2025-05-15 18:15:53,269] Trial 42 pruned. Trial was pruned at iteration 21.\n"
     ]
    },
    {
     "name": "stderr",
     "output_type": "stream",
     "text": [
      "[I 2025-05-15 18:15:53,427] Trial 43 finished with value: -0.166667 and parameters: {'max_depth': 4, 'min_child_weight': 51, 'subsample': 0.6931030308527943, 'colsample_bynode': 0.7502379331692719, 'learning_rate': 0.10646938479103484}. Best is trial 12 with value: -0.51088.\n"
     ]
    },
    {
     "name": "stderr",
     "output_type": "stream",
     "text": [
      "[I 2025-05-15 18:15:53,583] Trial 44 finished with value: -0.022222 and parameters: {'max_depth': 7, 'min_child_weight': 147, 'subsample': 0.971031840678503, 'colsample_bynode': 0.8323645110149741, 'learning_rate': 0.17988990346226436}. Best is trial 12 with value: -0.51088.\n"
     ]
    },
    {
     "name": "stderr",
     "output_type": "stream",
     "text": [
      "[I 2025-05-15 18:15:53,742] Trial 45 pruned. Trial was pruned at iteration 21.\n"
     ]
    },
    {
     "name": "stderr",
     "output_type": "stream",
     "text": [
      "[I 2025-05-15 18:15:53,978] Trial 46 pruned. Trial was pruned at iteration 21.\n"
     ]
    },
    {
     "name": "stderr",
     "output_type": "stream",
     "text": [
      "[I 2025-05-15 18:15:54,131] Trial 47 finished with value: -0.022222 and parameters: {'max_depth': 6, 'min_child_weight': 70, 'subsample': 0.850228728165278, 'colsample_bynode': 0.6832487168911165, 'learning_rate': 0.2380109003748291}. Best is trial 12 with value: -0.51088.\n"
     ]
    },
    {
     "name": "stderr",
     "output_type": "stream",
     "text": [
      "[I 2025-05-15 18:15:54,290] Trial 48 pruned. Trial was pruned at iteration 21.\n"
     ]
    },
    {
     "name": "stderr",
     "output_type": "stream",
     "text": [
      "[I 2025-05-15 18:15:54,792] Trial 49 finished with value: -0.501748 and parameters: {'max_depth': 11, 'min_child_weight': 1, 'subsample': 0.6864057078813064, 'colsample_bynode': 0.9509561061487176, 'learning_rate': 0.019429797309027278}. Best is trial 12 with value: -0.51088.\n"
     ]
    }
   ],
   "source": [
    "sampler = optuna.samplers.TPESampler(seed=42)\n",
    "study = optuna.create_study(direction='minimize', sampler=sampler)\n",
    "study.optimize(objective, n_trials=N_TRIALS, gc_after_trial=True)"
   ]
  },
  {
   "cell_type": "code",
   "execution_count": 20,
   "id": "3d2549fc",
   "metadata": {
    "execution": {
     "iopub.execute_input": "2025-05-15T16:15:54.910989Z",
     "iopub.status.busy": "2025-05-15T16:15:54.910791Z",
     "iopub.status.idle": "2025-05-15T16:15:54.995270Z",
     "shell.execute_reply": "2025-05-15T16:15:54.994980Z"
    },
    "papermill": {
     "duration": 0.116797,
     "end_time": "2025-05-15T16:15:54.996131",
     "exception": false,
     "start_time": "2025-05-15T16:15:54.879334",
     "status": "completed"
    },
    "tags": []
   },
   "outputs": [
    {
     "data": {
      "text/plain": [
       "['/scratch_isilon/groups/singlecell/shared/projects/Inflammation-PBMCs-Atlas/03_downstream_analysis/08_gene_importance/xgboost_external_validation/xgboost_TopN_genes/results_20/study/Plasma_15_2_xgboost.pkl']"
      ]
     },
     "execution_count": 20,
     "metadata": {},
     "output_type": "execute_result"
    }
   ],
   "source": [
    "out_dir = here(f'03_downstream_analysis/08_gene_importance/xgboost_external_validation/xgboost_TopN_genes/results_{N_GENES}/study')\n",
    "\n",
    "if not os.path.exists(out_dir):\n",
    "    os.makedirs(out_dir)\n",
    "    \n",
    "joblib.dump(study,os.path.join(out_dir, f'{CELL_TYPE}_{SEED}_{TEST_SPLIT_IDX}_xgboost.pkl'))"
   ]
  },
  {
   "cell_type": "code",
   "execution_count": 21,
   "id": "3222aa43",
   "metadata": {
    "execution": {
     "iopub.execute_input": "2025-05-15T16:15:55.014412Z",
     "iopub.status.busy": "2025-05-15T16:15:55.013942Z",
     "iopub.status.idle": "2025-05-15T16:15:55.302036Z",
     "shell.execute_reply": "2025-05-15T16:15:55.301695Z"
    },
    "papermill": {
     "duration": 0.298096,
     "end_time": "2025-05-15T16:15:55.303133",
     "exception": false,
     "start_time": "2025-05-15T16:15:55.005037",
     "status": "completed"
    },
    "tags": []
   },
   "outputs": [
    {
     "data": {
      "text/html": [
       "<style>#sk-container-id-1 {\n",
       "  /* Definition of color scheme common for light and dark mode */\n",
       "  --sklearn-color-text: black;\n",
       "  --sklearn-color-line: gray;\n",
       "  /* Definition of color scheme for unfitted estimators */\n",
       "  --sklearn-color-unfitted-level-0: #fff5e6;\n",
       "  --sklearn-color-unfitted-level-1: #f6e4d2;\n",
       "  --sklearn-color-unfitted-level-2: #ffe0b3;\n",
       "  --sklearn-color-unfitted-level-3: chocolate;\n",
       "  /* Definition of color scheme for fitted estimators */\n",
       "  --sklearn-color-fitted-level-0: #f0f8ff;\n",
       "  --sklearn-color-fitted-level-1: #d4ebff;\n",
       "  --sklearn-color-fitted-level-2: #b3dbfd;\n",
       "  --sklearn-color-fitted-level-3: cornflowerblue;\n",
       "\n",
       "  /* Specific color for light theme */\n",
       "  --sklearn-color-text-on-default-background: var(--sg-text-color, var(--theme-code-foreground, var(--jp-content-font-color1, black)));\n",
       "  --sklearn-color-background: var(--sg-background-color, var(--theme-background, var(--jp-layout-color0, white)));\n",
       "  --sklearn-color-border-box: var(--sg-text-color, var(--theme-code-foreground, var(--jp-content-font-color1, black)));\n",
       "  --sklearn-color-icon: #696969;\n",
       "\n",
       "  @media (prefers-color-scheme: dark) {\n",
       "    /* Redefinition of color scheme for dark theme */\n",
       "    --sklearn-color-text-on-default-background: var(--sg-text-color, var(--theme-code-foreground, var(--jp-content-font-color1, white)));\n",
       "    --sklearn-color-background: var(--sg-background-color, var(--theme-background, var(--jp-layout-color0, #111)));\n",
       "    --sklearn-color-border-box: var(--sg-text-color, var(--theme-code-foreground, var(--jp-content-font-color1, white)));\n",
       "    --sklearn-color-icon: #878787;\n",
       "  }\n",
       "}\n",
       "\n",
       "#sk-container-id-1 {\n",
       "  color: var(--sklearn-color-text);\n",
       "}\n",
       "\n",
       "#sk-container-id-1 pre {\n",
       "  padding: 0;\n",
       "}\n",
       "\n",
       "#sk-container-id-1 input.sk-hidden--visually {\n",
       "  border: 0;\n",
       "  clip: rect(1px 1px 1px 1px);\n",
       "  clip: rect(1px, 1px, 1px, 1px);\n",
       "  height: 1px;\n",
       "  margin: -1px;\n",
       "  overflow: hidden;\n",
       "  padding: 0;\n",
       "  position: absolute;\n",
       "  width: 1px;\n",
       "}\n",
       "\n",
       "#sk-container-id-1 div.sk-dashed-wrapped {\n",
       "  border: 1px dashed var(--sklearn-color-line);\n",
       "  margin: 0 0.4em 0.5em 0.4em;\n",
       "  box-sizing: border-box;\n",
       "  padding-bottom: 0.4em;\n",
       "  background-color: var(--sklearn-color-background);\n",
       "}\n",
       "\n",
       "#sk-container-id-1 div.sk-container {\n",
       "  /* jupyter's `normalize.less` sets `[hidden] { display: none; }`\n",
       "     but bootstrap.min.css set `[hidden] { display: none !important; }`\n",
       "     so we also need the `!important` here to be able to override the\n",
       "     default hidden behavior on the sphinx rendered scikit-learn.org.\n",
       "     See: https://github.com/scikit-learn/scikit-learn/issues/21755 */\n",
       "  display: inline-block !important;\n",
       "  position: relative;\n",
       "}\n",
       "\n",
       "#sk-container-id-1 div.sk-text-repr-fallback {\n",
       "  display: none;\n",
       "}\n",
       "\n",
       "div.sk-parallel-item,\n",
       "div.sk-serial,\n",
       "div.sk-item {\n",
       "  /* draw centered vertical line to link estimators */\n",
       "  background-image: linear-gradient(var(--sklearn-color-text-on-default-background), var(--sklearn-color-text-on-default-background));\n",
       "  background-size: 2px 100%;\n",
       "  background-repeat: no-repeat;\n",
       "  background-position: center center;\n",
       "}\n",
       "\n",
       "/* Parallel-specific style estimator block */\n",
       "\n",
       "#sk-container-id-1 div.sk-parallel-item::after {\n",
       "  content: \"\";\n",
       "  width: 100%;\n",
       "  border-bottom: 2px solid var(--sklearn-color-text-on-default-background);\n",
       "  flex-grow: 1;\n",
       "}\n",
       "\n",
       "#sk-container-id-1 div.sk-parallel {\n",
       "  display: flex;\n",
       "  align-items: stretch;\n",
       "  justify-content: center;\n",
       "  background-color: var(--sklearn-color-background);\n",
       "  position: relative;\n",
       "}\n",
       "\n",
       "#sk-container-id-1 div.sk-parallel-item {\n",
       "  display: flex;\n",
       "  flex-direction: column;\n",
       "}\n",
       "\n",
       "#sk-container-id-1 div.sk-parallel-item:first-child::after {\n",
       "  align-self: flex-end;\n",
       "  width: 50%;\n",
       "}\n",
       "\n",
       "#sk-container-id-1 div.sk-parallel-item:last-child::after {\n",
       "  align-self: flex-start;\n",
       "  width: 50%;\n",
       "}\n",
       "\n",
       "#sk-container-id-1 div.sk-parallel-item:only-child::after {\n",
       "  width: 0;\n",
       "}\n",
       "\n",
       "/* Serial-specific style estimator block */\n",
       "\n",
       "#sk-container-id-1 div.sk-serial {\n",
       "  display: flex;\n",
       "  flex-direction: column;\n",
       "  align-items: center;\n",
       "  background-color: var(--sklearn-color-background);\n",
       "  padding-right: 1em;\n",
       "  padding-left: 1em;\n",
       "}\n",
       "\n",
       "\n",
       "/* Toggleable style: style used for estimator/Pipeline/ColumnTransformer box that is\n",
       "clickable and can be expanded/collapsed.\n",
       "- Pipeline and ColumnTransformer use this feature and define the default style\n",
       "- Estimators will overwrite some part of the style using the `sk-estimator` class\n",
       "*/\n",
       "\n",
       "/* Pipeline and ColumnTransformer style (default) */\n",
       "\n",
       "#sk-container-id-1 div.sk-toggleable {\n",
       "  /* Default theme specific background. It is overwritten whether we have a\n",
       "  specific estimator or a Pipeline/ColumnTransformer */\n",
       "  background-color: var(--sklearn-color-background);\n",
       "}\n",
       "\n",
       "/* Toggleable label */\n",
       "#sk-container-id-1 label.sk-toggleable__label {\n",
       "  cursor: pointer;\n",
       "  display: block;\n",
       "  width: 100%;\n",
       "  margin-bottom: 0;\n",
       "  padding: 0.5em;\n",
       "  box-sizing: border-box;\n",
       "  text-align: center;\n",
       "}\n",
       "\n",
       "#sk-container-id-1 label.sk-toggleable__label-arrow:before {\n",
       "  /* Arrow on the left of the label */\n",
       "  content: \"▸\";\n",
       "  float: left;\n",
       "  margin-right: 0.25em;\n",
       "  color: var(--sklearn-color-icon);\n",
       "}\n",
       "\n",
       "#sk-container-id-1 label.sk-toggleable__label-arrow:hover:before {\n",
       "  color: var(--sklearn-color-text);\n",
       "}\n",
       "\n",
       "/* Toggleable content - dropdown */\n",
       "\n",
       "#sk-container-id-1 div.sk-toggleable__content {\n",
       "  max-height: 0;\n",
       "  max-width: 0;\n",
       "  overflow: hidden;\n",
       "  text-align: left;\n",
       "  /* unfitted */\n",
       "  background-color: var(--sklearn-color-unfitted-level-0);\n",
       "}\n",
       "\n",
       "#sk-container-id-1 div.sk-toggleable__content.fitted {\n",
       "  /* fitted */\n",
       "  background-color: var(--sklearn-color-fitted-level-0);\n",
       "}\n",
       "\n",
       "#sk-container-id-1 div.sk-toggleable__content pre {\n",
       "  margin: 0.2em;\n",
       "  border-radius: 0.25em;\n",
       "  color: var(--sklearn-color-text);\n",
       "  /* unfitted */\n",
       "  background-color: var(--sklearn-color-unfitted-level-0);\n",
       "}\n",
       "\n",
       "#sk-container-id-1 div.sk-toggleable__content.fitted pre {\n",
       "  /* unfitted */\n",
       "  background-color: var(--sklearn-color-fitted-level-0);\n",
       "}\n",
       "\n",
       "#sk-container-id-1 input.sk-toggleable__control:checked~div.sk-toggleable__content {\n",
       "  /* Expand drop-down */\n",
       "  max-height: 200px;\n",
       "  max-width: 100%;\n",
       "  overflow: auto;\n",
       "}\n",
       "\n",
       "#sk-container-id-1 input.sk-toggleable__control:checked~label.sk-toggleable__label-arrow:before {\n",
       "  content: \"▾\";\n",
       "}\n",
       "\n",
       "/* Pipeline/ColumnTransformer-specific style */\n",
       "\n",
       "#sk-container-id-1 div.sk-label input.sk-toggleable__control:checked~label.sk-toggleable__label {\n",
       "  color: var(--sklearn-color-text);\n",
       "  background-color: var(--sklearn-color-unfitted-level-2);\n",
       "}\n",
       "\n",
       "#sk-container-id-1 div.sk-label.fitted input.sk-toggleable__control:checked~label.sk-toggleable__label {\n",
       "  background-color: var(--sklearn-color-fitted-level-2);\n",
       "}\n",
       "\n",
       "/* Estimator-specific style */\n",
       "\n",
       "/* Colorize estimator box */\n",
       "#sk-container-id-1 div.sk-estimator input.sk-toggleable__control:checked~label.sk-toggleable__label {\n",
       "  /* unfitted */\n",
       "  background-color: var(--sklearn-color-unfitted-level-2);\n",
       "}\n",
       "\n",
       "#sk-container-id-1 div.sk-estimator.fitted input.sk-toggleable__control:checked~label.sk-toggleable__label {\n",
       "  /* fitted */\n",
       "  background-color: var(--sklearn-color-fitted-level-2);\n",
       "}\n",
       "\n",
       "#sk-container-id-1 div.sk-label label.sk-toggleable__label,\n",
       "#sk-container-id-1 div.sk-label label {\n",
       "  /* The background is the default theme color */\n",
       "  color: var(--sklearn-color-text-on-default-background);\n",
       "}\n",
       "\n",
       "/* On hover, darken the color of the background */\n",
       "#sk-container-id-1 div.sk-label:hover label.sk-toggleable__label {\n",
       "  color: var(--sklearn-color-text);\n",
       "  background-color: var(--sklearn-color-unfitted-level-2);\n",
       "}\n",
       "\n",
       "/* Label box, darken color on hover, fitted */\n",
       "#sk-container-id-1 div.sk-label.fitted:hover label.sk-toggleable__label.fitted {\n",
       "  color: var(--sklearn-color-text);\n",
       "  background-color: var(--sklearn-color-fitted-level-2);\n",
       "}\n",
       "\n",
       "/* Estimator label */\n",
       "\n",
       "#sk-container-id-1 div.sk-label label {\n",
       "  font-family: monospace;\n",
       "  font-weight: bold;\n",
       "  display: inline-block;\n",
       "  line-height: 1.2em;\n",
       "}\n",
       "\n",
       "#sk-container-id-1 div.sk-label-container {\n",
       "  text-align: center;\n",
       "}\n",
       "\n",
       "/* Estimator-specific */\n",
       "#sk-container-id-1 div.sk-estimator {\n",
       "  font-family: monospace;\n",
       "  border: 1px dotted var(--sklearn-color-border-box);\n",
       "  border-radius: 0.25em;\n",
       "  box-sizing: border-box;\n",
       "  margin-bottom: 0.5em;\n",
       "  /* unfitted */\n",
       "  background-color: var(--sklearn-color-unfitted-level-0);\n",
       "}\n",
       "\n",
       "#sk-container-id-1 div.sk-estimator.fitted {\n",
       "  /* fitted */\n",
       "  background-color: var(--sklearn-color-fitted-level-0);\n",
       "}\n",
       "\n",
       "/* on hover */\n",
       "#sk-container-id-1 div.sk-estimator:hover {\n",
       "  /* unfitted */\n",
       "  background-color: var(--sklearn-color-unfitted-level-2);\n",
       "}\n",
       "\n",
       "#sk-container-id-1 div.sk-estimator.fitted:hover {\n",
       "  /* fitted */\n",
       "  background-color: var(--sklearn-color-fitted-level-2);\n",
       "}\n",
       "\n",
       "/* Specification for estimator info (e.g. \"i\" and \"?\") */\n",
       "\n",
       "/* Common style for \"i\" and \"?\" */\n",
       "\n",
       ".sk-estimator-doc-link,\n",
       "a:link.sk-estimator-doc-link,\n",
       "a:visited.sk-estimator-doc-link {\n",
       "  float: right;\n",
       "  font-size: smaller;\n",
       "  line-height: 1em;\n",
       "  font-family: monospace;\n",
       "  background-color: var(--sklearn-color-background);\n",
       "  border-radius: 1em;\n",
       "  height: 1em;\n",
       "  width: 1em;\n",
       "  text-decoration: none !important;\n",
       "  margin-left: 1ex;\n",
       "  /* unfitted */\n",
       "  border: var(--sklearn-color-unfitted-level-1) 1pt solid;\n",
       "  color: var(--sklearn-color-unfitted-level-1);\n",
       "}\n",
       "\n",
       ".sk-estimator-doc-link.fitted,\n",
       "a:link.sk-estimator-doc-link.fitted,\n",
       "a:visited.sk-estimator-doc-link.fitted {\n",
       "  /* fitted */\n",
       "  border: var(--sklearn-color-fitted-level-1) 1pt solid;\n",
       "  color: var(--sklearn-color-fitted-level-1);\n",
       "}\n",
       "\n",
       "/* On hover */\n",
       "div.sk-estimator:hover .sk-estimator-doc-link:hover,\n",
       ".sk-estimator-doc-link:hover,\n",
       "div.sk-label-container:hover .sk-estimator-doc-link:hover,\n",
       ".sk-estimator-doc-link:hover {\n",
       "  /* unfitted */\n",
       "  background-color: var(--sklearn-color-unfitted-level-3);\n",
       "  color: var(--sklearn-color-background);\n",
       "  text-decoration: none;\n",
       "}\n",
       "\n",
       "div.sk-estimator.fitted:hover .sk-estimator-doc-link.fitted:hover,\n",
       ".sk-estimator-doc-link.fitted:hover,\n",
       "div.sk-label-container:hover .sk-estimator-doc-link.fitted:hover,\n",
       ".sk-estimator-doc-link.fitted:hover {\n",
       "  /* fitted */\n",
       "  background-color: var(--sklearn-color-fitted-level-3);\n",
       "  color: var(--sklearn-color-background);\n",
       "  text-decoration: none;\n",
       "}\n",
       "\n",
       "/* Span, style for the box shown on hovering the info icon */\n",
       ".sk-estimator-doc-link span {\n",
       "  display: none;\n",
       "  z-index: 9999;\n",
       "  position: relative;\n",
       "  font-weight: normal;\n",
       "  right: .2ex;\n",
       "  padding: .5ex;\n",
       "  margin: .5ex;\n",
       "  width: min-content;\n",
       "  min-width: 20ex;\n",
       "  max-width: 50ex;\n",
       "  color: var(--sklearn-color-text);\n",
       "  box-shadow: 2pt 2pt 4pt #999;\n",
       "  /* unfitted */\n",
       "  background: var(--sklearn-color-unfitted-level-0);\n",
       "  border: .5pt solid var(--sklearn-color-unfitted-level-3);\n",
       "}\n",
       "\n",
       ".sk-estimator-doc-link.fitted span {\n",
       "  /* fitted */\n",
       "  background: var(--sklearn-color-fitted-level-0);\n",
       "  border: var(--sklearn-color-fitted-level-3);\n",
       "}\n",
       "\n",
       ".sk-estimator-doc-link:hover span {\n",
       "  display: block;\n",
       "}\n",
       "\n",
       "/* \"?\"-specific style due to the `<a>` HTML tag */\n",
       "\n",
       "#sk-container-id-1 a.estimator_doc_link {\n",
       "  float: right;\n",
       "  font-size: 1rem;\n",
       "  line-height: 1em;\n",
       "  font-family: monospace;\n",
       "  background-color: var(--sklearn-color-background);\n",
       "  border-radius: 1rem;\n",
       "  height: 1rem;\n",
       "  width: 1rem;\n",
       "  text-decoration: none;\n",
       "  /* unfitted */\n",
       "  color: var(--sklearn-color-unfitted-level-1);\n",
       "  border: var(--sklearn-color-unfitted-level-1) 1pt solid;\n",
       "}\n",
       "\n",
       "#sk-container-id-1 a.estimator_doc_link.fitted {\n",
       "  /* fitted */\n",
       "  border: var(--sklearn-color-fitted-level-1) 1pt solid;\n",
       "  color: var(--sklearn-color-fitted-level-1);\n",
       "}\n",
       "\n",
       "/* On hover */\n",
       "#sk-container-id-1 a.estimator_doc_link:hover {\n",
       "  /* unfitted */\n",
       "  background-color: var(--sklearn-color-unfitted-level-3);\n",
       "  color: var(--sklearn-color-background);\n",
       "  text-decoration: none;\n",
       "}\n",
       "\n",
       "#sk-container-id-1 a.estimator_doc_link.fitted:hover {\n",
       "  /* fitted */\n",
       "  background-color: var(--sklearn-color-fitted-level-3);\n",
       "}\n",
       "</style><div id=\"sk-container-id-1\" class=\"sk-top-container\"><div class=\"sk-text-repr-fallback\"><pre>XGBClassifier(base_score=None, booster=None, callbacks=None,\n",
       "              colsample_bylevel=None, colsample_bynode=0.14672783827498995,\n",
       "              colsample_bytree=None, device=None, early_stopping_rounds=None,\n",
       "              enable_categorical=False,\n",
       "              eval_metric=&lt;function custom_f1_score at 0x7f8e986d4540&gt;,\n",
       "              feature_types=None, gamma=None, grow_policy=None,\n",
       "              importance_type=None, interaction_constraints=None,\n",
       "              learning_rate=0.08954997670613858, max_bin=None,\n",
       "              max_cat_threshold=None, max_cat_to_onehot=None,\n",
       "              max_delta_step=None, max_depth=9, max_leaves=None,\n",
       "              min_child_weight=3, missing=nan, monotone_constraints=None,\n",
       "              multi_strategy=None, n_estimators=31, n_jobs=None,\n",
       "              num_parallel_tree=None, objective=&#x27;multi:softprob&#x27;, ...)</pre><b>In a Jupyter environment, please rerun this cell to show the HTML representation or trust the notebook. <br />On GitHub, the HTML representation is unable to render, please try loading this page with nbviewer.org.</b></div><div class=\"sk-container\" hidden><div class=\"sk-item\"><div class=\"sk-estimator fitted sk-toggleable\"><input class=\"sk-toggleable__control sk-hidden--visually\" id=\"sk-estimator-id-1\" type=\"checkbox\" checked><label for=\"sk-estimator-id-1\" class=\"sk-toggleable__label fitted sk-toggleable__label-arrow fitted\">&nbsp;XGBClassifier<span class=\"sk-estimator-doc-link fitted\">i<span>Fitted</span></span></label><div class=\"sk-toggleable__content fitted\"><pre>XGBClassifier(base_score=None, booster=None, callbacks=None,\n",
       "              colsample_bylevel=None, colsample_bynode=0.14672783827498995,\n",
       "              colsample_bytree=None, device=None, early_stopping_rounds=None,\n",
       "              enable_categorical=False,\n",
       "              eval_metric=&lt;function custom_f1_score at 0x7f8e986d4540&gt;,\n",
       "              feature_types=None, gamma=None, grow_policy=None,\n",
       "              importance_type=None, interaction_constraints=None,\n",
       "              learning_rate=0.08954997670613858, max_bin=None,\n",
       "              max_cat_threshold=None, max_cat_to_onehot=None,\n",
       "              max_delta_step=None, max_depth=9, max_leaves=None,\n",
       "              min_child_weight=3, missing=nan, monotone_constraints=None,\n",
       "              multi_strategy=None, n_estimators=31, n_jobs=None,\n",
       "              num_parallel_tree=None, objective=&#x27;multi:softprob&#x27;, ...)</pre></div> </div></div></div></div>"
      ],
      "text/plain": [
       "XGBClassifier(base_score=None, booster=None, callbacks=None,\n",
       "              colsample_bylevel=None, colsample_bynode=0.14672783827498995,\n",
       "              colsample_bytree=None, device=None, early_stopping_rounds=None,\n",
       "              enable_categorical=False,\n",
       "              eval_metric=<function custom_f1_score at 0x7f8e986d4540>,\n",
       "              feature_types=None, gamma=None, grow_policy=None,\n",
       "              importance_type=None, interaction_constraints=None,\n",
       "              learning_rate=0.08954997670613858, max_bin=None,\n",
       "              max_cat_threshold=None, max_cat_to_onehot=None,\n",
       "              max_delta_step=None, max_depth=9, max_leaves=None,\n",
       "              min_child_weight=3, missing=nan, monotone_constraints=None,\n",
       "              multi_strategy=None, n_estimators=31, n_jobs=None,\n",
       "              num_parallel_tree=None, objective='multi:softprob', ...)"
      ]
     },
     "execution_count": 21,
     "metadata": {},
     "output_type": "execute_result"
    }
   ],
   "source": [
    "n_estimators = int(study.best_trial.user_attrs['best_iteration']*1.2)\n",
    "xgb = xgboost.XGBClassifier(\n",
    "        eval_metric=eval_metric,\n",
    "        n_estimators=n_estimators,\n",
    "        **study.best_trial.params\n",
    "    )\n",
    "xgb.fit(\n",
    "    ssp.vstack((X_train, X_val)), \n",
    "    np.concatenate((y_train_enc, y_val_enc)),\n",
    "    verbose=1,\n",
    ")"
   ]
  },
  {
   "cell_type": "code",
   "execution_count": 22,
   "id": "2662b3ba",
   "metadata": {
    "execution": {
     "iopub.execute_input": "2025-05-15T16:15:55.320779Z",
     "iopub.status.busy": "2025-05-15T16:15:55.320597Z",
     "iopub.status.idle": "2025-05-15T16:15:55.332956Z",
     "shell.execute_reply": "2025-05-15T16:15:55.332658Z"
    },
    "papermill": {
     "duration": 0.023456,
     "end_time": "2025-05-15T16:15:55.335299",
     "exception": false,
     "start_time": "2025-05-15T16:15:55.311843",
     "status": "completed"
    },
    "tags": []
   },
   "outputs": [
    {
     "data": {
      "text/plain": [
       "['/scratch_isilon/groups/singlecell/shared/projects/Inflammation-PBMCs-Atlas/03_downstream_analysis/08_gene_importance/xgboost_external_validation/xgboost_TopN_genes/results_20/best_model/Plasma_15_2_xgb.json']"
      ]
     },
     "execution_count": 22,
     "metadata": {},
     "output_type": "execute_result"
    }
   ],
   "source": [
    "out_dir = here(f'03_downstream_analysis/08_gene_importance/xgboost_external_validation/xgboost_TopN_genes/results_{N_GENES}/best_model')\n",
    "\n",
    "if not os.path.exists(out_dir):\n",
    "    os.makedirs(out_dir)\n",
    "    \n",
    "joblib.dump(xgb, os.path.join(out_dir, f'{CELL_TYPE}_{SEED}_{TEST_SPLIT_IDX}_xgb.json'))"
   ]
  },
  {
   "cell_type": "code",
   "execution_count": 23,
   "id": "97225e5b",
   "metadata": {
    "execution": {
     "iopub.execute_input": "2025-05-15T16:15:55.354454Z",
     "iopub.status.busy": "2025-05-15T16:15:55.354106Z",
     "iopub.status.idle": "2025-05-15T16:15:55.358618Z",
     "shell.execute_reply": "2025-05-15T16:15:55.358308Z"
    },
    "papermill": {
     "duration": 0.019484,
     "end_time": "2025-05-15T16:15:55.363989",
     "exception": false,
     "start_time": "2025-05-15T16:15:55.344505",
     "status": "completed"
    },
    "tags": []
   },
   "outputs": [],
   "source": [
    "df_pred_test = pd.DataFrame(dict(\n",
    "    cell_id=train_adata.obs.iloc[test_idxs].index.values,\n",
    "    y_true=y_test, \n",
    "    y_true_code=y_test_enc, \n",
    "    y_pred=xgb.predict(X_test))).set_index('cell_id')"
   ]
  },
  {
   "cell_type": "code",
   "execution_count": 24,
   "id": "df8e3211",
   "metadata": {
    "execution": {
     "iopub.execute_input": "2025-05-15T16:15:55.382585Z",
     "iopub.status.busy": "2025-05-15T16:15:55.382388Z",
     "iopub.status.idle": "2025-05-15T16:15:55.392408Z",
     "shell.execute_reply": "2025-05-15T16:15:55.392084Z"
    },
    "papermill": {
     "duration": 0.020701,
     "end_time": "2025-05-15T16:15:55.393691",
     "exception": false,
     "start_time": "2025-05-15T16:15:55.372990",
     "status": "completed"
    },
    "tags": []
   },
   "outputs": [],
   "source": [
    "out_dir = here(f'03_downstream_analysis/08_gene_importance/xgboost_external_validation/xgboost_TopN_genes/results_{N_GENES}/predictions')\n",
    "\n",
    "if not os.path.exists(out_dir):\n",
    "    os.makedirs(out_dir)\n",
    "    \n",
    "df_pred_test.to_csv(os.path.join(out_dir, f'{CELL_TYPE}_{SEED}_{TEST_SPLIT_IDX}_pred_test.zip'))"
   ]
  },
  {
   "cell_type": "code",
   "execution_count": 25,
   "id": "85405d27",
   "metadata": {
    "execution": {
     "iopub.execute_input": "2025-05-15T16:15:55.413114Z",
     "iopub.status.busy": "2025-05-15T16:15:55.412744Z",
     "iopub.status.idle": "2025-05-15T16:15:55.418023Z",
     "shell.execute_reply": "2025-05-15T16:15:55.417728Z"
    },
    "papermill": {
     "duration": 0.016349,
     "end_time": "2025-05-15T16:15:55.418809",
     "exception": false,
     "start_time": "2025-05-15T16:15:55.402460",
     "status": "completed"
    },
    "tags": []
   },
   "outputs": [],
   "source": [
    "metrics_dict = dict(\n",
    "    BAS=balanced_accuracy_score(y_true=df_pred_test.y_true_code, y_pred=df_pred_test.y_pred), WF1=f1_score(y_true=df_pred_test.y_true_code, y_pred=df_pred_test.y_pred,average='weighted'))"
   ]
  },
  {
   "cell_type": "code",
   "execution_count": 26,
   "id": "86e03680",
   "metadata": {
    "execution": {
     "iopub.execute_input": "2025-05-15T16:15:55.440920Z",
     "iopub.status.busy": "2025-05-15T16:15:55.440750Z",
     "iopub.status.idle": "2025-05-15T16:15:55.443402Z",
     "shell.execute_reply": "2025-05-15T16:15:55.443109Z"
    },
    "papermill": {
     "duration": 0.012118,
     "end_time": "2025-05-15T16:15:55.444225",
     "exception": false,
     "start_time": "2025-05-15T16:15:55.432107",
     "status": "completed"
    },
    "tags": []
   },
   "outputs": [
    {
     "data": {
      "text/plain": [
       "{'BAS': 0.22070943762120232, 'WF1': 0.40189317106152805}"
      ]
     },
     "execution_count": 26,
     "metadata": {},
     "output_type": "execute_result"
    }
   ],
   "source": [
    "metrics_dict"
   ]
  },
  {
   "cell_type": "code",
   "execution_count": 27,
   "id": "05823efa",
   "metadata": {
    "execution": {
     "iopub.execute_input": "2025-05-15T16:15:55.461505Z",
     "iopub.status.busy": "2025-05-15T16:15:55.461271Z",
     "iopub.status.idle": "2025-05-15T16:15:55.468886Z",
     "shell.execute_reply": "2025-05-15T16:15:55.468594Z"
    },
    "papermill": {
     "duration": 0.017099,
     "end_time": "2025-05-15T16:15:55.469693",
     "exception": false,
     "start_time": "2025-05-15T16:15:55.452594",
     "status": "completed"
    },
    "tags": []
   },
   "outputs": [
    {
     "data": {
      "text/html": [
       "<div>\n",
       "<style scoped>\n",
       "    .dataframe tbody tr th:only-of-type {\n",
       "        vertical-align: middle;\n",
       "    }\n",
       "\n",
       "    .dataframe tbody tr th {\n",
       "        vertical-align: top;\n",
       "    }\n",
       "\n",
       "    .dataframe thead th {\n",
       "        text-align: right;\n",
       "    }\n",
       "</style>\n",
       "<table border=\"1\" class=\"dataframe\">\n",
       "  <thead>\n",
       "    <tr style=\"text-align: right;\">\n",
       "      <th></th>\n",
       "      <th>BAS</th>\n",
       "      <th>WF1</th>\n",
       "      <th>split_idx</th>\n",
       "      <th>gene_set_seed</th>\n",
       "      <th>cell_type</th>\n",
       "    </tr>\n",
       "  </thead>\n",
       "  <tbody>\n",
       "    <tr>\n",
       "      <th>0</th>\n",
       "      <td>0.220709</td>\n",
       "      <td>0.401893</td>\n",
       "      <td>2</td>\n",
       "      <td>15</td>\n",
       "      <td>Plasma</td>\n",
       "    </tr>\n",
       "  </tbody>\n",
       "</table>\n",
       "</div>"
      ],
      "text/plain": [
       "        BAS       WF1  split_idx  gene_set_seed cell_type\n",
       "0  0.220709  0.401893          2             15    Plasma"
      ]
     },
     "execution_count": 27,
     "metadata": {},
     "output_type": "execute_result"
    }
   ],
   "source": [
    "metrics_df = pd.DataFrame.from_dict([metrics_dict]).assign(split_idx=TEST_SPLIT_IDX, gene_set_seed=SEED, cell_type=CELL_TYPE)\n",
    "metrics_df"
   ]
  },
  {
   "cell_type": "code",
   "execution_count": 28,
   "id": "8fd8c08b",
   "metadata": {
    "execution": {
     "iopub.execute_input": "2025-05-15T16:15:55.487541Z",
     "iopub.status.busy": "2025-05-15T16:15:55.487143Z",
     "iopub.status.idle": "2025-05-15T16:15:55.494851Z",
     "shell.execute_reply": "2025-05-15T16:15:55.494491Z"
    },
    "papermill": {
     "duration": 0.01749,
     "end_time": "2025-05-15T16:15:55.495620",
     "exception": false,
     "start_time": "2025-05-15T16:15:55.478130",
     "status": "completed"
    },
    "tags": []
   },
   "outputs": [],
   "source": [
    "out_dir = here(f'03_downstream_analysis/08_gene_importance/xgboost_external_validation/xgboost_TopN_genes/results_{N_GENES}/metrics')\n",
    "\n",
    "if not os.path.exists(out_dir):\n",
    "    os.makedirs(out_dir)\n",
    "    \n",
    "metrics_df.to_csv(os.path.join(out_dir, f'{CELL_TYPE}_{SEED}_{TEST_SPLIT_IDX}_metrics.zip'))"
   ]
  }
 ],
 "metadata": {
  "kernelspec": {
   "display_name": "Python 3 (ipykernel)",
   "language": "python",
   "name": "python3"
  },
  "language_info": {
   "codemirror_mode": {
    "name": "ipython",
    "version": 3
   },
   "file_extension": ".py",
   "mimetype": "text/x-python",
   "name": "python",
   "nbconvert_exporter": "python",
   "pygments_lexer": "ipython3",
   "version": "3.12.5"
  },
  "papermill": {
   "default_parameters": {},
   "duration": 13.111324,
   "end_time": "2025-05-15T16:15:56.020181",
   "environment_variables": {},
   "exception": null,
   "input_path": "02_xgboost_fitting_external_20genes.ipynb",
   "output_path": "results_20/executed_notebooks/xgboost_fitting_external_CT_Plasma_GS_15_seed2.ipynb",
   "parameters": {
    "CELL_TYPE": "Plasma",
    "SEED": 15,
    "TEST_SPLIT_IDX": 2
   },
   "start_time": "2025-05-15T16:15:42.908857",
   "version": "2.6.0"
  }
 },
 "nbformat": 4,
 "nbformat_minor": 5
}