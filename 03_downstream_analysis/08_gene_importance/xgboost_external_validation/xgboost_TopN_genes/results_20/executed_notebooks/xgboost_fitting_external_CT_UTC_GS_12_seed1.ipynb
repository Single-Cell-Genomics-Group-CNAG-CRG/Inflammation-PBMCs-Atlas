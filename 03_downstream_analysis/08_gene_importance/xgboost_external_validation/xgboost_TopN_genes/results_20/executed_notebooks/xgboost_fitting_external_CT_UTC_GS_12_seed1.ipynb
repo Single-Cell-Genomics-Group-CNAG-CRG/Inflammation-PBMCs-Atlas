{
 "cells": [
  {
   "cell_type": "code",
   "execution_count": 1,
   "id": "9abecbaa",
   "metadata": {
    "editable": true,
    "execution": {
     "iopub.execute_input": "2025-05-15T16:12:46.561599Z",
     "iopub.status.busy": "2025-05-15T16:12:46.561006Z",
     "iopub.status.idle": "2025-05-15T16:12:46.564549Z",
     "shell.execute_reply": "2025-05-15T16:12:46.564163Z"
    },
    "papermill": {
     "duration": 0.015911,
     "end_time": "2025-05-15T16:12:46.565514",
     "exception": false,
     "start_time": "2025-05-15T16:12:46.549603",
     "status": "completed"
    },
    "slideshow": {
     "slide_type": ""
    },
    "tags": [
     "parameters"
    ]
   },
   "outputs": [],
   "source": [
    "CELL_TYPE = 'pDC'\n",
    "N_GENES: int = 20\n",
    "SEED = 'shap_studyID' #'disease_NOstudy' 'study_NOdisease' or 'int' or 'shap_studyID'\n",
    "TEST_SPLIT_IDX: int = 1 #[0,4]"
   ]
  },
  {
   "cell_type": "code",
   "execution_count": 2,
   "id": "19b64ea6",
   "metadata": {
    "execution": {
     "iopub.execute_input": "2025-05-15T16:12:46.585253Z",
     "iopub.status.busy": "2025-05-15T16:12:46.584746Z",
     "iopub.status.idle": "2025-05-15T16:12:46.587485Z",
     "shell.execute_reply": "2025-05-15T16:12:46.587094Z"
    },
    "papermill": {
     "duration": 0.010199,
     "end_time": "2025-05-15T16:12:46.588325",
     "exception": false,
     "start_time": "2025-05-15T16:12:46.578126",
     "status": "completed"
    },
    "tags": [
     "injected-parameters"
    ]
   },
   "outputs": [],
   "source": [
    "# Parameters\n",
    "CELL_TYPE = \"UTC\"\n",
    "SEED = 12\n",
    "TEST_SPLIT_IDX = 1\n"
   ]
  },
  {
   "cell_type": "code",
   "execution_count": 3,
   "id": "96819c4c",
   "metadata": {
    "execution": {
     "iopub.execute_input": "2025-05-15T16:12:46.602175Z",
     "iopub.status.busy": "2025-05-15T16:12:46.601574Z",
     "iopub.status.idle": "2025-05-15T16:12:46.604414Z",
     "shell.execute_reply": "2025-05-15T16:12:46.604032Z"
    },
    "papermill": {
     "duration": 0.010588,
     "end_time": "2025-05-15T16:12:46.605288",
     "exception": false,
     "start_time": "2025-05-15T16:12:46.594700",
     "status": "completed"
    },
    "tags": []
   },
   "outputs": [],
   "source": [
    "N_SPLITS: int = 5\n",
    "N_TRIALS: int = 50"
   ]
  },
  {
   "cell_type": "code",
   "execution_count": 4,
   "id": "957afee4",
   "metadata": {
    "execution": {
     "iopub.execute_input": "2025-05-15T16:12:46.619583Z",
     "iopub.status.busy": "2025-05-15T16:12:46.619125Z",
     "iopub.status.idle": "2025-05-15T16:12:48.145713Z",
     "shell.execute_reply": "2025-05-15T16:12:48.145043Z"
    },
    "papermill": {
     "duration": 1.535681,
     "end_time": "2025-05-15T16:12:48.147162",
     "exception": false,
     "start_time": "2025-05-15T16:12:46.611481",
     "status": "completed"
    },
    "tags": []
   },
   "outputs": [],
   "source": [
    "import os\n",
    "import sys\n",
    "from pyprojroot.here import here\n",
    "import pandas as pd\n",
    "import anndata as ad\n",
    "import numpy as np\n",
    "import math\n",
    "from sklearn.model_selection import StratifiedGroupKFold\n",
    "from sklearn.preprocessing import LabelEncoder\n",
    "from sklearn.metrics import f1_score\n",
    "import matplotlib.pyplot as plt\n",
    "import seaborn as sns\n",
    "from itertools import product\n",
    "from sklearn.metrics import balanced_accuracy_score, f1_score\n",
    "import optuna\n",
    "\n",
    "import joblib\n",
    "import pickle\n",
    "import datetime\n",
    "\n",
    "import collections\n",
    "\n",
    "import xgboost\n",
    "from sklearn.preprocessing import LabelEncoder\n",
    "\n",
    "import scipy.sparse as ssp\n",
    "import joblib\n",
    "\n",
    "from dotenv import load_dotenv"
   ]
  },
  {
   "cell_type": "code",
   "execution_count": 5,
   "id": "ec8c52ca",
   "metadata": {
    "execution": {
     "iopub.execute_input": "2025-05-15T16:12:48.161310Z",
     "iopub.status.busy": "2025-05-15T16:12:48.160852Z",
     "iopub.status.idle": "2025-05-15T16:12:48.167407Z",
     "shell.execute_reply": "2025-05-15T16:12:48.167073Z"
    },
    "papermill": {
     "duration": 0.014322,
     "end_time": "2025-05-15T16:12:48.168353",
     "exception": false,
     "start_time": "2025-05-15T16:12:48.154031",
     "status": "completed"
    },
    "tags": []
   },
   "outputs": [
    {
     "data": {
      "text/plain": [
       "True"
      ]
     },
     "execution_count": 5,
     "metadata": {},
     "output_type": "execute_result"
    }
   ],
   "source": [
    "load_dotenv()"
   ]
  },
  {
   "cell_type": "markdown",
   "id": "984bf138",
   "metadata": {
    "papermill": {
     "duration": 0.005763,
     "end_time": "2025-05-15T16:12:48.180047",
     "exception": false,
     "start_time": "2025-05-15T16:12:48.174284",
     "status": "completed"
    },
    "tags": []
   },
   "source": [
    "# LOAD DATASET"
   ]
  },
  {
   "cell_type": "code",
   "execution_count": 6,
   "id": "f2817f4b",
   "metadata": {
    "execution": {
     "iopub.execute_input": "2025-05-15T16:12:48.207768Z",
     "iopub.status.busy": "2025-05-15T16:12:48.207527Z",
     "iopub.status.idle": "2025-05-15T16:12:48.342714Z",
     "shell.execute_reply": "2025-05-15T16:12:48.342165Z"
    },
    "papermill": {
     "duration": 0.143171,
     "end_time": "2025-05-15T16:12:48.344162",
     "exception": false,
     "start_time": "2025-05-15T16:12:48.200991",
     "status": "completed"
    },
    "tags": []
   },
   "outputs": [],
   "source": [
    "train_adata = ad.read_h5ad(\n",
    "    here(f'03_downstream_analysis/08_gene_importance/xgboost_external_validation/xgboost_TopN_genes/data_cellTypes/EXTERNAL_{CELL_TYPE}.filtered.log1p.h5ad')\n",
    ")"
   ]
  },
  {
   "cell_type": "code",
   "execution_count": 7,
   "id": "425adc0f",
   "metadata": {
    "execution": {
     "iopub.execute_input": "2025-05-15T16:12:48.357838Z",
     "iopub.status.busy": "2025-05-15T16:12:48.357583Z",
     "iopub.status.idle": "2025-05-15T16:12:48.371887Z",
     "shell.execute_reply": "2025-05-15T16:12:48.371298Z"
    },
    "papermill": {
     "duration": 0.021974,
     "end_time": "2025-05-15T16:12:48.372874",
     "exception": false,
     "start_time": "2025-05-15T16:12:48.350900",
     "status": "completed"
    },
    "tags": []
   },
   "outputs": [
    {
     "name": "stdout",
     "output_type": "stream",
     "text": [
      "['ENSG00000235162' 'ENSG00000185022' 'ENSG00000216490' 'ENSG00000169554'\n",
      " 'ENSG00000111640' 'ENSG00000104894' 'ENSG00000149357' 'ENSG00000002549'\n",
      " 'ENSG00000091409' 'ENSG00000142669' 'ENSG00000125735' 'ENSG00000133639'\n",
      " 'ENSG00000186810' 'ENSG00000108622' 'ENSG00000101695' 'ENSG00000205220'\n",
      " 'ENSG00000131981' 'ENSG00000185201' 'ENSG00000172936' 'ENSG00000188404'\n",
      " 'ENSG00000161203' 'ENSG00000118503' 'ENSG00000145649' 'ENSG00000090554'\n",
      " 'ENSG00000197540' 'ENSG00000100097' 'ENSG00000182117' 'ENSG00000138795'\n",
      " 'ENSG00000106799' 'ENSG00000163508' 'ENSG00000122862' 'ENSG00000144802'\n",
      " 'ENSG00000163659' 'ENSG00000179344' 'ENSG00000177606' 'ENSG00000166710'\n",
      " 'ENSG00000077380' 'ENSG00000113811' 'ENSG00000143110' 'ENSG00000160932'\n",
      " 'ENSG00000227507' 'ENSG00000106952' 'ENSG00000120742' 'ENSG00000169896'\n",
      " 'ENSG00000100393' 'ENSG00000068796' 'ENSG00000163131' 'ENSG00000130755'\n",
      " 'ENSG00000077238' 'ENSG00000101608' 'ENSG00000130066' 'ENSG00000179218'\n",
      " 'ENSG00000160075' 'ENSG00000180644' 'ENSG00000164307' 'ENSG00000136156'\n",
      " 'ENSG00000135114' 'ENSG00000118640' 'ENSG00000171608' 'ENSG00000142089'\n",
      " 'ENSG00000051108' 'ENSG00000180739' 'ENSG00000138378' 'ENSG00000116171'\n",
      " 'ENSG00000147168' 'ENSG00000118260' 'ENSG00000173812' 'ENSG00000104763'\n",
      " 'ENSG00000145287' 'ENSG00000115523' 'ENSG00000136732' 'ENSG00000163513'\n",
      " 'ENSG00000077984' 'ENSG00000103490' 'ENSG00000100300' 'ENSG00000181036'\n",
      " 'ENSG00000264364' 'ENSG00000182287' 'ENSG00000172215' 'ENSG00000092820'\n",
      " 'ENSG00000157601' 'ENSG00000162739' 'ENSG00000197471' 'ENSG00000165732'\n",
      " 'ENSG00000143924' 'ENSG00000105373' 'ENSG00000152518' 'ENSG00000101347'\n",
      " 'ENSG00000167664' 'ENSG00000105851' 'ENSG00000172183' 'ENSG00000142634'\n",
      " 'ENSG00000138107' 'ENSG00000105835' 'ENSG00000204472' 'ENSG00000164104'\n",
      " 'ENSG00000111335' 'ENSG00000178562' 'ENSG00000170525' 'ENSG00000120129'\n",
      " 'ENSG00000164543' 'ENSG00000111348' 'ENSG00000118971' 'ENSG00000140379'\n",
      " 'ENSG00000166949' 'ENSG00000231389' 'ENSG00000142166' 'ENSG00000011600'\n",
      " 'ENSG00000138674' 'ENSG00000157514' 'ENSG00000108774' 'ENSG00000100485'\n",
      " 'ENSG00000204482' 'ENSG00000042753' 'ENSG00000100902']\n"
     ]
    }
   ],
   "source": [
    "if SEED != 'all':\n",
    "    gene_subset = np.load(here(f'03_downstream_analysis/08_gene_importance/xgboost_external_validation/shap_gene_selection/gene_subsets_{N_GENES}/{CELL_TYPE}_{SEED}.npy'), allow_pickle=True)\n",
    "    train_adata = train_adata[:,gene_subset]\n",
    "    print(gene_subset)\n",
    "elif SEED == 'all':\n",
    "    print('Using all genes')\n",
    "else:\n",
    "    raise ValueError()"
   ]
  },
  {
   "cell_type": "code",
   "execution_count": 8,
   "id": "a6ba04e2",
   "metadata": {
    "execution": {
     "iopub.execute_input": "2025-05-15T16:12:48.385924Z",
     "iopub.status.busy": "2025-05-15T16:12:48.385623Z",
     "iopub.status.idle": "2025-05-15T16:12:48.389253Z",
     "shell.execute_reply": "2025-05-15T16:12:48.388912Z"
    },
    "papermill": {
     "duration": 0.010909,
     "end_time": "2025-05-15T16:12:48.390132",
     "exception": false,
     "start_time": "2025-05-15T16:12:48.379223",
     "status": "completed"
    },
    "tags": []
   },
   "outputs": [
    {
     "data": {
      "text/plain": [
       "(14828, 115)"
      ]
     },
     "execution_count": 8,
     "metadata": {},
     "output_type": "execute_result"
    }
   ],
   "source": [
    "train_adata.shape"
   ]
  },
  {
   "cell_type": "code",
   "execution_count": 9,
   "id": "ddf9bb5d",
   "metadata": {
    "execution": {
     "iopub.execute_input": "2025-05-15T16:12:48.403702Z",
     "iopub.status.busy": "2025-05-15T16:12:48.403450Z",
     "iopub.status.idle": "2025-05-15T16:12:48.408140Z",
     "shell.execute_reply": "2025-05-15T16:12:48.407797Z"
    },
    "papermill": {
     "duration": 0.012241,
     "end_time": "2025-05-15T16:12:48.409067",
     "exception": false,
     "start_time": "2025-05-15T16:12:48.396826",
     "status": "completed"
    },
    "tags": []
   },
   "outputs": [
    {
     "data": {
      "text/plain": [
       "['RA', 'COVID', 'healthy', 'HIV', 'cirrhosis', 'CD', 'SLE', 'sepsis']\n",
       "Categories (8, object): ['CD', 'COVID', 'HIV', 'RA', 'SLE', 'cirrhosis', 'healthy', 'sepsis']"
      ]
     },
     "execution_count": 9,
     "metadata": {},
     "output_type": "execute_result"
    }
   ],
   "source": [
    "train_adata.obs.disease.unique()"
   ]
  },
  {
   "cell_type": "code",
   "execution_count": 10,
   "id": "0005ab9e",
   "metadata": {
    "execution": {
     "iopub.execute_input": "2025-05-15T16:12:48.424792Z",
     "iopub.status.busy": "2025-05-15T16:12:48.424503Z",
     "iopub.status.idle": "2025-05-15T16:12:48.429326Z",
     "shell.execute_reply": "2025-05-15T16:12:48.428980Z"
    },
    "papermill": {
     "duration": 0.013462,
     "end_time": "2025-05-15T16:12:48.430272",
     "exception": false,
     "start_time": "2025-05-15T16:12:48.416810",
     "status": "completed"
    },
    "tags": []
   },
   "outputs": [
    {
     "data": {
      "text/plain": [
       "['SCGT00val_I0364_T0', 'SCGT00val_I036016_T0', 'SCGT00val_I036021_T0', 'SCGT00val_I036015_T0', 'SCGT00val_I036023_T0', ..., '10XGenomics_10XHC2_T0', '10XGenomics_10XHC3_T0', '10XGenomics_10XHC5_T0', '10XGenomics_10XHC7_T0', '10XGenomics_10XHC8_T0']\n",
       "Length: 86\n",
       "Categories (86, object): ['10XGenomics_10XHC1_T0', '10XGenomics_10XHC2_T0', '10XGenomics_10XHC3_T0', '10XGenomics_10XHC4_T0', ..., 'Savage2021_BRISL6_T0', 'Savage2021_BRISL7_T0', 'Savage2021_PIDA_T0', 'Savage2021_PIDB_T0']"
      ]
     },
     "execution_count": 10,
     "metadata": {},
     "output_type": "execute_result"
    }
   ],
   "source": [
    "train_adata.obs.sampleID.unique()"
   ]
  },
  {
   "cell_type": "code",
   "execution_count": 11,
   "id": "d681520e",
   "metadata": {
    "execution": {
     "iopub.execute_input": "2025-05-15T16:12:48.446741Z",
     "iopub.status.busy": "2025-05-15T16:12:48.446289Z",
     "iopub.status.idle": "2025-05-15T16:12:48.510483Z",
     "shell.execute_reply": "2025-05-15T16:12:48.510019Z"
    },
    "papermill": {
     "duration": 0.07264,
     "end_time": "2025-05-15T16:12:48.511840",
     "exception": false,
     "start_time": "2025-05-15T16:12:48.439200",
     "status": "completed"
    },
    "tags": []
   },
   "outputs": [],
   "source": [
    "all_idxs = np.arange(train_adata.obs.shape[0])\n",
    "left_out_splits = [s[1] for s in StratifiedGroupKFold(n_splits=N_SPLITS).split(all_idxs, train_adata.obs.disease, train_adata.obs.sampleID)]"
   ]
  },
  {
   "cell_type": "code",
   "execution_count": 12,
   "id": "d3d23d97",
   "metadata": {
    "execution": {
     "iopub.execute_input": "2025-05-15T16:12:48.526135Z",
     "iopub.status.busy": "2025-05-15T16:12:48.525861Z",
     "iopub.status.idle": "2025-05-15T16:12:48.529672Z",
     "shell.execute_reply": "2025-05-15T16:12:48.529334Z"
    },
    "papermill": {
     "duration": 0.011794,
     "end_time": "2025-05-15T16:12:48.530597",
     "exception": false,
     "start_time": "2025-05-15T16:12:48.518803",
     "status": "completed"
    },
    "tags": []
   },
   "outputs": [
    {
     "data": {
      "text/plain": [
       "([0, 3, 4], 2, 1)"
      ]
     },
     "execution_count": 12,
     "metadata": {},
     "output_type": "execute_result"
    }
   ],
   "source": [
    "TRAIN_SPLIT_IDXS = [0,1,2,3,4]\n",
    "VAL_SPLIT_IDX = (TEST_SPLIT_IDX + 1) % 5\n",
    "TRAIN_SPLIT_IDXS.remove(TEST_SPLIT_IDX)\n",
    "TRAIN_SPLIT_IDXS.remove(VAL_SPLIT_IDX)\n",
    "TRAIN_SPLIT_IDXS, VAL_SPLIT_IDX, TEST_SPLIT_IDX"
   ]
  },
  {
   "cell_type": "code",
   "execution_count": 13,
   "id": "71af65f3",
   "metadata": {
    "execution": {
     "iopub.execute_input": "2025-05-15T16:12:48.575541Z",
     "iopub.status.busy": "2025-05-15T16:12:48.575249Z",
     "iopub.status.idle": "2025-05-15T16:12:48.579113Z",
     "shell.execute_reply": "2025-05-15T16:12:48.578782Z"
    },
    "papermill": {
     "duration": 0.012967,
     "end_time": "2025-05-15T16:12:48.580230",
     "exception": false,
     "start_time": "2025-05-15T16:12:48.567263",
     "status": "completed"
    },
    "tags": []
   },
   "outputs": [],
   "source": [
    "train_idxs = np.concatenate([left_out_splits[idx] for idx in TRAIN_SPLIT_IDXS])\n",
    "val_idxs = left_out_splits[VAL_SPLIT_IDX]\n",
    "test_idxs = left_out_splits[TEST_SPLIT_IDX]"
   ]
  },
  {
   "cell_type": "markdown",
   "id": "54769633",
   "metadata": {
    "papermill": {
     "duration": 0.006471,
     "end_time": "2025-05-15T16:12:48.593070",
     "exception": false,
     "start_time": "2025-05-15T16:12:48.586599",
     "status": "completed"
    },
    "tags": []
   },
   "source": [
    "### SUBSET DATASET INTO TRAIN/TEST/VAL SPLITS"
   ]
  },
  {
   "cell_type": "code",
   "execution_count": 14,
   "id": "32b5b1c8",
   "metadata": {
    "execution": {
     "iopub.execute_input": "2025-05-15T16:12:48.607121Z",
     "iopub.status.busy": "2025-05-15T16:12:48.606832Z",
     "iopub.status.idle": "2025-05-15T16:12:48.660909Z",
     "shell.execute_reply": "2025-05-15T16:12:48.660491Z"
    },
    "papermill": {
     "duration": 0.062329,
     "end_time": "2025-05-15T16:12:48.661985",
     "exception": false,
     "start_time": "2025-05-15T16:12:48.599656",
     "status": "completed"
    },
    "tags": []
   },
   "outputs": [
    {
     "data": {
      "text/plain": [
       "((8649, 115), (2863, 115), (3316, 115))"
      ]
     },
     "execution_count": 14,
     "metadata": {},
     "output_type": "execute_result"
    }
   ],
   "source": [
    "X_train = train_adata.X[train_idxs]\n",
    "X_test = train_adata.X[test_idxs]\n",
    "X_val = train_adata.X[val_idxs]\n",
    "X_train.shape, X_test.shape, X_val.shape"
   ]
  },
  {
   "cell_type": "code",
   "execution_count": 15,
   "id": "a5438612",
   "metadata": {
    "execution": {
     "iopub.execute_input": "2025-05-15T16:12:48.676102Z",
     "iopub.status.busy": "2025-05-15T16:12:48.675836Z",
     "iopub.status.idle": "2025-05-15T16:12:48.683073Z",
     "shell.execute_reply": "2025-05-15T16:12:48.682712Z"
    },
    "papermill": {
     "duration": 0.015327,
     "end_time": "2025-05-15T16:12:48.684070",
     "exception": false,
     "start_time": "2025-05-15T16:12:48.668743",
     "status": "completed"
    },
    "tags": []
   },
   "outputs": [
    {
     "data": {
      "text/plain": [
       "((8649,), (2863,), (3316,))"
      ]
     },
     "execution_count": 15,
     "metadata": {},
     "output_type": "execute_result"
    }
   ],
   "source": [
    "y_train = train_adata.obs.iloc[train_idxs].disease.values.astype(str)\n",
    "y_test = train_adata.obs.iloc[test_idxs].disease.values.astype(str)\n",
    "y_val = train_adata.obs.iloc[val_idxs].disease.values.astype(str)\n",
    "y_train.shape, y_test.shape, y_val.shape"
   ]
  },
  {
   "cell_type": "code",
   "execution_count": 16,
   "id": "35695044",
   "metadata": {
    "execution": {
     "iopub.execute_input": "2025-05-15T16:12:48.698229Z",
     "iopub.status.busy": "2025-05-15T16:12:48.697973Z",
     "iopub.status.idle": "2025-05-15T16:12:48.704398Z",
     "shell.execute_reply": "2025-05-15T16:12:48.704037Z"
    },
    "papermill": {
     "duration": 0.01441,
     "end_time": "2025-05-15T16:12:48.705388",
     "exception": false,
     "start_time": "2025-05-15T16:12:48.690978",
     "status": "completed"
    },
    "tags": []
   },
   "outputs": [],
   "source": [
    "lenc = LabelEncoder()\n",
    "y_train_enc = lenc.fit_transform(y_train)\n",
    "y_val_enc = lenc.transform(y_val)\n",
    "y_test_enc = lenc.transform(y_test)"
   ]
  },
  {
   "cell_type": "markdown",
   "id": "d9ad1c5c",
   "metadata": {
    "papermill": {
     "duration": 0.006534,
     "end_time": "2025-05-15T16:12:48.718785",
     "exception": false,
     "start_time": "2025-05-15T16:12:48.712251",
     "status": "completed"
    },
    "tags": []
   },
   "source": [
    "### GENERATE F1 "
   ]
  },
  {
   "cell_type": "code",
   "execution_count": 17,
   "id": "3ccf5656",
   "metadata": {
    "execution": {
     "iopub.execute_input": "2025-05-15T16:12:48.732886Z",
     "iopub.status.busy": "2025-05-15T16:12:48.732577Z",
     "iopub.status.idle": "2025-05-15T16:12:48.735432Z",
     "shell.execute_reply": "2025-05-15T16:12:48.735101Z"
    },
    "papermill": {
     "duration": 0.011126,
     "end_time": "2025-05-15T16:12:48.736387",
     "exception": false,
     "start_time": "2025-05-15T16:12:48.725261",
     "status": "completed"
    },
    "tags": []
   },
   "outputs": [],
   "source": [
    "def custom_f1_score(y_true, y_pred):\n",
    "    return -f1_score(y_true, y_pred.argmax(1), average='weighted')"
   ]
  },
  {
   "cell_type": "code",
   "execution_count": 18,
   "id": "f3c16dd3",
   "metadata": {
    "execution": {
     "iopub.execute_input": "2025-05-15T16:12:48.750393Z",
     "iopub.status.busy": "2025-05-15T16:12:48.750040Z",
     "iopub.status.idle": "2025-05-15T16:12:48.753998Z",
     "shell.execute_reply": "2025-05-15T16:12:48.753674Z"
    },
    "papermill": {
     "duration": 0.011962,
     "end_time": "2025-05-15T16:12:48.754882",
     "exception": false,
     "start_time": "2025-05-15T16:12:48.742920",
     "status": "completed"
    },
    "tags": []
   },
   "outputs": [],
   "source": [
    "eval_metric=custom_f1_score\n",
    "eval_metric_name='custom_f1_score'\n",
    "\n",
    "def objective(trial):\n",
    "    params = {\n",
    "        'n_estimators': 1500,\n",
    "        'max_depth': trial.suggest_int('max_depth', 3, 20),\n",
    "        'min_child_weight': trial.suggest_int('min_child_weight', 1, 250),\n",
    "        'subsample': trial.suggest_float('subsample', 0.1, 1.0),\n",
    "        'colsample_bynode': trial.suggest_float('colsample_bynode', 0.1, 1.0),\n",
    "        'learning_rate': trial.suggest_float('learning_rate', 1e-3, 5e-1, log=True),\n",
    "    }\n",
    "    pruning_callback = optuna.integration.XGBoostPruningCallback(trial, f'validation_0-{eval_metric_name}')\n",
    "    es_callback = xgboost.callback.EarlyStopping(20, min_delta=0.001)\n",
    "    xgb = xgboost.XGBClassifier(\n",
    "        eval_metric=eval_metric,\n",
    "        callbacks=[pruning_callback, es_callback],\n",
    "        n_jobs=5,\n",
    "        **params\n",
    "    )\n",
    "    xgb.fit(\n",
    "        X_train, \n",
    "        y_train_enc, \n",
    "        verbose=0,\n",
    "        eval_set=[(X_val, y_val_enc)],\n",
    "    )\n",
    "    trial.set_user_attr('best_iteration', xgb.best_iteration)\n",
    "\n",
    "    return xgb.best_score"
   ]
  },
  {
   "cell_type": "code",
   "execution_count": 19,
   "id": "8720e98d",
   "metadata": {
    "execution": {
     "iopub.execute_input": "2025-05-15T16:12:48.770085Z",
     "iopub.status.busy": "2025-05-15T16:12:48.769824Z",
     "iopub.status.idle": "2025-05-15T16:14:11.869008Z",
     "shell.execute_reply": "2025-05-15T16:14:11.868567Z"
    },
    "papermill": {
     "duration": 83.107877,
     "end_time": "2025-05-15T16:14:11.869954",
     "exception": false,
     "start_time": "2025-05-15T16:12:48.762077",
     "status": "completed"
    },
    "scrolled": true,
    "tags": []
   },
   "outputs": [
    {
     "name": "stderr",
     "output_type": "stream",
     "text": [
      "[I 2025-05-15 18:12:48,772] A new study created in memory with name: no-name-062f46c9-d99c-455c-8dfc-976cbf02cf01\n"
     ]
    },
    {
     "name": "stderr",
     "output_type": "stream",
     "text": [
      "[I 2025-05-15 18:12:49,442] Trial 0 finished with value: -0.478646 and parameters: {'max_depth': 9, 'min_child_weight': 238, 'subsample': 0.7587945476302645, 'colsample_bynode': 0.6387926357773329, 'learning_rate': 0.0026368755339723046}. Best is trial 0 with value: -0.478646.\n"
     ]
    },
    {
     "name": "stderr",
     "output_type": "stream",
     "text": [
      "[I 2025-05-15 18:12:50,598] Trial 1 finished with value: -0.536456 and parameters: {'max_depth': 5, 'min_child_weight': 15, 'subsample': 0.8795585311974417, 'colsample_bynode': 0.6410035105688879, 'learning_rate': 0.08148293210105287}. Best is trial 1 with value: -0.536456.\n"
     ]
    },
    {
     "name": "stderr",
     "output_type": "stream",
     "text": [
      "[I 2025-05-15 18:12:51,826] Trial 2 finished with value: -0.486969 and parameters: {'max_depth': 3, 'min_child_weight': 243, 'subsample': 0.8491983767203796, 'colsample_bynode': 0.29110519961044856, 'learning_rate': 0.003095566460242371}. Best is trial 1 with value: -0.536456.\n"
     ]
    },
    {
     "name": "stderr",
     "output_type": "stream",
     "text": [
      "[I 2025-05-15 18:12:52,773] Trial 3 finished with value: -0.491262 and parameters: {'max_depth': 6, 'min_child_weight': 77, 'subsample': 0.5722807884690141, 'colsample_bynode': 0.48875051677790415, 'learning_rate': 0.006109683510122491}. Best is trial 1 with value: -0.536456.\n"
     ]
    },
    {
     "name": "stderr",
     "output_type": "stream",
     "text": [
      "[I 2025-05-15 18:12:57,268] Trial 4 finished with value: -0.508294 and parameters: {'max_depth': 14, 'min_child_weight': 35, 'subsample': 0.3629301836816964, 'colsample_bynode': 0.4297256589643226, 'learning_rate': 0.01701841881702917}. Best is trial 1 with value: -0.536456.\n"
     ]
    },
    {
     "name": "stderr",
     "output_type": "stream",
     "text": [
      "[I 2025-05-15 18:12:58,366] Trial 5 finished with value: -0.49563 and parameters: {'max_depth': 17, 'min_child_weight': 50, 'subsample': 0.5628109945722505, 'colsample_bynode': 0.6331731119758383, 'learning_rate': 0.0013346527038305934}. Best is trial 1 with value: -0.536456.\n"
     ]
    },
    {
     "name": "stderr",
     "output_type": "stream",
     "text": [
      "[I 2025-05-15 18:12:58,540] Trial 6 pruned. Trial was pruned at iteration 0.\n"
     ]
    },
    {
     "name": "stderr",
     "output_type": "stream",
     "text": [
      "[I 2025-05-15 18:12:58,700] Trial 7 pruned. Trial was pruned at iteration 0.\n"
     ]
    },
    {
     "name": "stderr",
     "output_type": "stream",
     "text": [
      "[I 2025-05-15 18:12:58,888] Trial 8 pruned. Trial was pruned at iteration 0.\n"
     ]
    },
    {
     "name": "stderr",
     "output_type": "stream",
     "text": [
      "[I 2025-05-15 18:12:59,075] Trial 9 pruned. Trial was pruned at iteration 0.\n"
     ]
    },
    {
     "name": "stderr",
     "output_type": "stream",
     "text": [
      "[I 2025-05-15 18:13:05,149] Trial 10 finished with value: -0.568597 and parameters: {'max_depth': 9, 'min_child_weight': 2, 'subsample': 0.9725833997090791, 'colsample_bynode': 0.11616568805333755, 'learning_rate': 0.17780618353487967}. Best is trial 10 with value: -0.568597.\n"
     ]
    },
    {
     "name": "stderr",
     "output_type": "stream",
     "text": [
      "[I 2025-05-15 18:13:12,766] Trial 11 finished with value: -0.572908 and parameters: {'max_depth': 9, 'min_child_weight': 4, 'subsample': 0.9818290990185045, 'colsample_bynode': 0.17702656156719, 'learning_rate': 0.11568531411766632}. Best is trial 11 with value: -0.572908.\n"
     ]
    },
    {
     "name": "stderr",
     "output_type": "stream",
     "text": [
      "[I 2025-05-15 18:13:17,342] Trial 12 pruned. Trial was pruned at iteration 58.\n"
     ]
    },
    {
     "name": "stderr",
     "output_type": "stream",
     "text": [
      "[I 2025-05-15 18:13:17,537] Trial 13 pruned. Trial was pruned at iteration 0.\n"
     ]
    },
    {
     "name": "stderr",
     "output_type": "stream",
     "text": [
      "[I 2025-05-15 18:13:17,712] Trial 14 pruned. Trial was pruned at iteration 0.\n"
     ]
    },
    {
     "name": "stderr",
     "output_type": "stream",
     "text": [
      "[I 2025-05-15 18:13:23,922] Trial 15 finished with value: -0.550165 and parameters: {'max_depth': 20, 'min_child_weight': 2, 'subsample': 0.719264024177087, 'colsample_bynode': 0.2540835086298475, 'learning_rate': 0.03987682305667138}. Best is trial 11 with value: -0.572908.\n"
     ]
    },
    {
     "name": "stderr",
     "output_type": "stream",
     "text": [
      "[I 2025-05-15 18:13:24,127] Trial 16 pruned. Trial was pruned at iteration 0.\n"
     ]
    },
    {
     "name": "stderr",
     "output_type": "stream",
     "text": [
      "[I 2025-05-15 18:13:24,300] Trial 17 pruned. Trial was pruned at iteration 0.\n"
     ]
    },
    {
     "name": "stderr",
     "output_type": "stream",
     "text": [
      "[I 2025-05-15 18:13:28,388] Trial 18 finished with value: -0.587933 and parameters: {'max_depth': 12, 'min_child_weight': 35, 'subsample': 0.8272602031120428, 'colsample_bynode': 0.8109691196781996, 'learning_rate': 0.20046188160978387}. Best is trial 18 with value: -0.587933.\n"
     ]
    },
    {
     "name": "stderr",
     "output_type": "stream",
     "text": [
      "[I 2025-05-15 18:13:28,577] Trial 19 pruned. Trial was pruned at iteration 0.\n"
     ]
    },
    {
     "name": "stderr",
     "output_type": "stream",
     "text": [
      "[I 2025-05-15 18:13:28,767] Trial 20 pruned. Trial was pruned at iteration 0.\n"
     ]
    },
    {
     "name": "stderr",
     "output_type": "stream",
     "text": [
      "[I 2025-05-15 18:13:33,438] Trial 21 finished with value: -0.588456 and parameters: {'max_depth': 11, 'min_child_weight': 24, 'subsample': 0.9474977288159789, 'colsample_bynode': 0.19119727298237837, 'learning_rate': 0.12154020308087539}. Best is trial 21 with value: -0.588456.\n"
     ]
    },
    {
     "name": "stderr",
     "output_type": "stream",
     "text": [
      "[I 2025-05-15 18:13:33,638] Trial 22 pruned. Trial was pruned at iteration 0.\n"
     ]
    },
    {
     "name": "stderr",
     "output_type": "stream",
     "text": [
      "[I 2025-05-15 18:13:33,940] Trial 23 pruned. Trial was pruned at iteration 1.\n"
     ]
    },
    {
     "name": "stderr",
     "output_type": "stream",
     "text": [
      "[I 2025-05-15 18:13:34,140] Trial 24 pruned. Trial was pruned at iteration 0.\n"
     ]
    },
    {
     "name": "stderr",
     "output_type": "stream",
     "text": [
      "[I 2025-05-15 18:13:34,323] Trial 25 pruned. Trial was pruned at iteration 0.\n"
     ]
    },
    {
     "name": "stderr",
     "output_type": "stream",
     "text": [
      "[I 2025-05-15 18:13:34,496] Trial 26 pruned. Trial was pruned at iteration 0.\n"
     ]
    },
    {
     "name": "stderr",
     "output_type": "stream",
     "text": [
      "[I 2025-05-15 18:13:39,954] Trial 27 finished with value: -0.584072 and parameters: {'max_depth': 7, 'min_child_weight': 17, 'subsample': 0.9408330695817375, 'colsample_bynode': 0.9985439056827949, 'learning_rate': 0.10890556363136056}. Best is trial 21 with value: -0.588456.\n"
     ]
    },
    {
     "name": "stderr",
     "output_type": "stream",
     "text": [
      "[I 2025-05-15 18:13:40,115] Trial 28 pruned. Trial was pruned at iteration 0.\n"
     ]
    },
    {
     "name": "stderr",
     "output_type": "stream",
     "text": [
      "[I 2025-05-15 18:13:40,275] Trial 29 pruned. Trial was pruned at iteration 0.\n"
     ]
    },
    {
     "name": "stderr",
     "output_type": "stream",
     "text": [
      "[I 2025-05-15 18:13:40,437] Trial 30 pruned. Trial was pruned at iteration 0.\n"
     ]
    },
    {
     "name": "stderr",
     "output_type": "stream",
     "text": [
      "[I 2025-05-15 18:13:44,916] Trial 31 finished with value: -0.582617 and parameters: {'max_depth': 8, 'min_child_weight': 17, 'subsample': 0.9493143891048735, 'colsample_bynode': 0.7613002263897296, 'learning_rate': 0.11198876675039299}. Best is trial 21 with value: -0.588456.\n"
     ]
    },
    {
     "name": "stderr",
     "output_type": "stream",
     "text": [
      "[I 2025-05-15 18:13:46,925] Trial 32 pruned. Trial was pruned at iteration 31.\n"
     ]
    },
    {
     "name": "stderr",
     "output_type": "stream",
     "text": [
      "[I 2025-05-15 18:13:47,118] Trial 33 pruned. Trial was pruned at iteration 0.\n"
     ]
    },
    {
     "name": "stderr",
     "output_type": "stream",
     "text": [
      "[I 2025-05-15 18:13:47,407] Trial 34 pruned. Trial was pruned at iteration 2.\n"
     ]
    },
    {
     "name": "stderr",
     "output_type": "stream",
     "text": [
      "[I 2025-05-15 18:13:47,591] Trial 35 pruned. Trial was pruned at iteration 0.\n"
     ]
    },
    {
     "name": "stderr",
     "output_type": "stream",
     "text": [
      "[I 2025-05-15 18:13:47,772] Trial 36 pruned. Trial was pruned at iteration 0.\n"
     ]
    },
    {
     "name": "stderr",
     "output_type": "stream",
     "text": [
      "[I 2025-05-15 18:13:47,954] Trial 37 pruned. Trial was pruned at iteration 0.\n"
     ]
    },
    {
     "name": "stderr",
     "output_type": "stream",
     "text": [
      "[I 2025-05-15 18:13:48,146] Trial 38 pruned. Trial was pruned at iteration 0.\n"
     ]
    },
    {
     "name": "stderr",
     "output_type": "stream",
     "text": [
      "[I 2025-05-15 18:13:53,597] Trial 39 finished with value: -0.590188 and parameters: {'max_depth': 13, 'min_child_weight': 35, 'subsample': 0.942702112300978, 'colsample_bynode': 0.9360882100554004, 'learning_rate': 0.11432527741308572}. Best is trial 39 with value: -0.590188.\n"
     ]
    },
    {
     "name": "stderr",
     "output_type": "stream",
     "text": [
      "[I 2025-05-15 18:13:53,923] Trial 40 pruned. Trial was pruned at iteration 3.\n"
     ]
    },
    {
     "name": "stderr",
     "output_type": "stream",
     "text": [
      "[I 2025-05-15 18:13:54,417] Trial 41 pruned. Trial was pruned at iteration 4.\n"
     ]
    },
    {
     "name": "stderr",
     "output_type": "stream",
     "text": [
      "[I 2025-05-15 18:13:54,609] Trial 42 pruned. Trial was pruned at iteration 0.\n"
     ]
    },
    {
     "name": "stderr",
     "output_type": "stream",
     "text": [
      "[I 2025-05-15 18:13:59,270] Trial 43 finished with value: -0.590379 and parameters: {'max_depth': 14, 'min_child_weight': 15, 'subsample': 0.875419978338597, 'colsample_bynode': 0.7924211513519165, 'learning_rate': 0.21203243651238157}. Best is trial 43 with value: -0.590379.\n"
     ]
    },
    {
     "name": "stderr",
     "output_type": "stream",
     "text": [
      "[I 2025-05-15 18:13:59,545] Trial 44 pruned. Trial was pruned at iteration 1.\n"
     ]
    },
    {
     "name": "stderr",
     "output_type": "stream",
     "text": [
      "[I 2025-05-15 18:14:01,924] Trial 45 finished with value: -0.600355 and parameters: {'max_depth': 14, 'min_child_weight': 11, 'subsample': 0.8849491185313134, 'colsample_bynode': 0.6773026032177366, 'learning_rate': 0.4839627968896663}. Best is trial 45 with value: -0.600355.\n"
     ]
    },
    {
     "name": "stderr",
     "output_type": "stream",
     "text": [
      "[I 2025-05-15 18:14:05,732] Trial 46 finished with value: -0.593285 and parameters: {'max_depth': 14, 'min_child_weight': 10, 'subsample': 0.6852665437068233, 'colsample_bynode': 0.6587262473922024, 'learning_rate': 0.2132253762753214}. Best is trial 45 with value: -0.600355.\n"
     ]
    },
    {
     "name": "stderr",
     "output_type": "stream",
     "text": [
      "[I 2025-05-15 18:14:08,271] Trial 47 finished with value: -0.587546 and parameters: {'max_depth': 14, 'min_child_weight': 7, 'subsample': 0.6931384033307162, 'colsample_bynode': 0.6734304778729688, 'learning_rate': 0.48029004253440577}. Best is trial 45 with value: -0.600355.\n"
     ]
    },
    {
     "name": "stderr",
     "output_type": "stream",
     "text": [
      "[I 2025-05-15 18:14:08,459] Trial 48 pruned. Trial was pruned at iteration 0.\n"
     ]
    },
    {
     "name": "stderr",
     "output_type": "stream",
     "text": [
      "[I 2025-05-15 18:14:11,772] Trial 49 finished with value: -0.591574 and parameters: {'max_depth': 13, 'min_child_weight': 10, 'subsample': 0.7556632236019685, 'colsample_bynode': 0.4419542215074283, 'learning_rate': 0.27530678951931814}. Best is trial 45 with value: -0.600355.\n"
     ]
    }
   ],
   "source": [
    "sampler = optuna.samplers.TPESampler(seed=42)\n",
    "study = optuna.create_study(direction='minimize', sampler=sampler)\n",
    "study.optimize(objective, n_trials=N_TRIALS, gc_after_trial=True)"
   ]
  },
  {
   "cell_type": "code",
   "execution_count": 20,
   "id": "9006a0bc",
   "metadata": {
    "execution": {
     "iopub.execute_input": "2025-05-15T16:14:11.903832Z",
     "iopub.status.busy": "2025-05-15T16:14:11.903536Z",
     "iopub.status.idle": "2025-05-15T16:14:11.926806Z",
     "shell.execute_reply": "2025-05-15T16:14:11.926433Z"
    },
    "papermill": {
     "duration": 0.048792,
     "end_time": "2025-05-15T16:14:11.927746",
     "exception": false,
     "start_time": "2025-05-15T16:14:11.878954",
     "status": "completed"
    },
    "tags": []
   },
   "outputs": [
    {
     "data": {
      "text/plain": [
       "['/scratch_isilon/groups/singlecell/shared/projects/Inflammation-PBMCs-Atlas/03_downstream_analysis/08_gene_importance/xgboost_external_validation/xgboost_TopN_genes/results_20/study/UTC_12_1_xgboost.pkl']"
      ]
     },
     "execution_count": 20,
     "metadata": {},
     "output_type": "execute_result"
    }
   ],
   "source": [
    "out_dir = here(f'03_downstream_analysis/08_gene_importance/xgboost_external_validation/xgboost_TopN_genes/results_{N_GENES}/study')\n",
    "\n",
    "if not os.path.exists(out_dir):\n",
    "    os.makedirs(out_dir)\n",
    "    \n",
    "joblib.dump(study,os.path.join(out_dir, f'{CELL_TYPE}_{SEED}_{TEST_SPLIT_IDX}_xgboost.pkl'))"
   ]
  },
  {
   "cell_type": "code",
   "execution_count": 21,
   "id": "f742d51b",
   "metadata": {
    "execution": {
     "iopub.execute_input": "2025-05-15T16:14:11.946142Z",
     "iopub.status.busy": "2025-05-15T16:14:11.945880Z",
     "iopub.status.idle": "2025-05-15T16:14:13.795401Z",
     "shell.execute_reply": "2025-05-15T16:14:13.795045Z"
    },
    "papermill": {
     "duration": 1.859555,
     "end_time": "2025-05-15T16:14:13.796317",
     "exception": false,
     "start_time": "2025-05-15T16:14:11.936762",
     "status": "completed"
    },
    "tags": []
   },
   "outputs": [
    {
     "data": {
      "text/html": [
       "<style>#sk-container-id-1 {\n",
       "  /* Definition of color scheme common for light and dark mode */\n",
       "  --sklearn-color-text: black;\n",
       "  --sklearn-color-line: gray;\n",
       "  /* Definition of color scheme for unfitted estimators */\n",
       "  --sklearn-color-unfitted-level-0: #fff5e6;\n",
       "  --sklearn-color-unfitted-level-1: #f6e4d2;\n",
       "  --sklearn-color-unfitted-level-2: #ffe0b3;\n",
       "  --sklearn-color-unfitted-level-3: chocolate;\n",
       "  /* Definition of color scheme for fitted estimators */\n",
       "  --sklearn-color-fitted-level-0: #f0f8ff;\n",
       "  --sklearn-color-fitted-level-1: #d4ebff;\n",
       "  --sklearn-color-fitted-level-2: #b3dbfd;\n",
       "  --sklearn-color-fitted-level-3: cornflowerblue;\n",
       "\n",
       "  /* Specific color for light theme */\n",
       "  --sklearn-color-text-on-default-background: var(--sg-text-color, var(--theme-code-foreground, var(--jp-content-font-color1, black)));\n",
       "  --sklearn-color-background: var(--sg-background-color, var(--theme-background, var(--jp-layout-color0, white)));\n",
       "  --sklearn-color-border-box: var(--sg-text-color, var(--theme-code-foreground, var(--jp-content-font-color1, black)));\n",
       "  --sklearn-color-icon: #696969;\n",
       "\n",
       "  @media (prefers-color-scheme: dark) {\n",
       "    /* Redefinition of color scheme for dark theme */\n",
       "    --sklearn-color-text-on-default-background: var(--sg-text-color, var(--theme-code-foreground, var(--jp-content-font-color1, white)));\n",
       "    --sklearn-color-background: var(--sg-background-color, var(--theme-background, var(--jp-layout-color0, #111)));\n",
       "    --sklearn-color-border-box: var(--sg-text-color, var(--theme-code-foreground, var(--jp-content-font-color1, white)));\n",
       "    --sklearn-color-icon: #878787;\n",
       "  }\n",
       "}\n",
       "\n",
       "#sk-container-id-1 {\n",
       "  color: var(--sklearn-color-text);\n",
       "}\n",
       "\n",
       "#sk-container-id-1 pre {\n",
       "  padding: 0;\n",
       "}\n",
       "\n",
       "#sk-container-id-1 input.sk-hidden--visually {\n",
       "  border: 0;\n",
       "  clip: rect(1px 1px 1px 1px);\n",
       "  clip: rect(1px, 1px, 1px, 1px);\n",
       "  height: 1px;\n",
       "  margin: -1px;\n",
       "  overflow: hidden;\n",
       "  padding: 0;\n",
       "  position: absolute;\n",
       "  width: 1px;\n",
       "}\n",
       "\n",
       "#sk-container-id-1 div.sk-dashed-wrapped {\n",
       "  border: 1px dashed var(--sklearn-color-line);\n",
       "  margin: 0 0.4em 0.5em 0.4em;\n",
       "  box-sizing: border-box;\n",
       "  padding-bottom: 0.4em;\n",
       "  background-color: var(--sklearn-color-background);\n",
       "}\n",
       "\n",
       "#sk-container-id-1 div.sk-container {\n",
       "  /* jupyter's `normalize.less` sets `[hidden] { display: none; }`\n",
       "     but bootstrap.min.css set `[hidden] { display: none !important; }`\n",
       "     so we also need the `!important` here to be able to override the\n",
       "     default hidden behavior on the sphinx rendered scikit-learn.org.\n",
       "     See: https://github.com/scikit-learn/scikit-learn/issues/21755 */\n",
       "  display: inline-block !important;\n",
       "  position: relative;\n",
       "}\n",
       "\n",
       "#sk-container-id-1 div.sk-text-repr-fallback {\n",
       "  display: none;\n",
       "}\n",
       "\n",
       "div.sk-parallel-item,\n",
       "div.sk-serial,\n",
       "div.sk-item {\n",
       "  /* draw centered vertical line to link estimators */\n",
       "  background-image: linear-gradient(var(--sklearn-color-text-on-default-background), var(--sklearn-color-text-on-default-background));\n",
       "  background-size: 2px 100%;\n",
       "  background-repeat: no-repeat;\n",
       "  background-position: center center;\n",
       "}\n",
       "\n",
       "/* Parallel-specific style estimator block */\n",
       "\n",
       "#sk-container-id-1 div.sk-parallel-item::after {\n",
       "  content: \"\";\n",
       "  width: 100%;\n",
       "  border-bottom: 2px solid var(--sklearn-color-text-on-default-background);\n",
       "  flex-grow: 1;\n",
       "}\n",
       "\n",
       "#sk-container-id-1 div.sk-parallel {\n",
       "  display: flex;\n",
       "  align-items: stretch;\n",
       "  justify-content: center;\n",
       "  background-color: var(--sklearn-color-background);\n",
       "  position: relative;\n",
       "}\n",
       "\n",
       "#sk-container-id-1 div.sk-parallel-item {\n",
       "  display: flex;\n",
       "  flex-direction: column;\n",
       "}\n",
       "\n",
       "#sk-container-id-1 div.sk-parallel-item:first-child::after {\n",
       "  align-self: flex-end;\n",
       "  width: 50%;\n",
       "}\n",
       "\n",
       "#sk-container-id-1 div.sk-parallel-item:last-child::after {\n",
       "  align-self: flex-start;\n",
       "  width: 50%;\n",
       "}\n",
       "\n",
       "#sk-container-id-1 div.sk-parallel-item:only-child::after {\n",
       "  width: 0;\n",
       "}\n",
       "\n",
       "/* Serial-specific style estimator block */\n",
       "\n",
       "#sk-container-id-1 div.sk-serial {\n",
       "  display: flex;\n",
       "  flex-direction: column;\n",
       "  align-items: center;\n",
       "  background-color: var(--sklearn-color-background);\n",
       "  padding-right: 1em;\n",
       "  padding-left: 1em;\n",
       "}\n",
       "\n",
       "\n",
       "/* Toggleable style: style used for estimator/Pipeline/ColumnTransformer box that is\n",
       "clickable and can be expanded/collapsed.\n",
       "- Pipeline and ColumnTransformer use this feature and define the default style\n",
       "- Estimators will overwrite some part of the style using the `sk-estimator` class\n",
       "*/\n",
       "\n",
       "/* Pipeline and ColumnTransformer style (default) */\n",
       "\n",
       "#sk-container-id-1 div.sk-toggleable {\n",
       "  /* Default theme specific background. It is overwritten whether we have a\n",
       "  specific estimator or a Pipeline/ColumnTransformer */\n",
       "  background-color: var(--sklearn-color-background);\n",
       "}\n",
       "\n",
       "/* Toggleable label */\n",
       "#sk-container-id-1 label.sk-toggleable__label {\n",
       "  cursor: pointer;\n",
       "  display: block;\n",
       "  width: 100%;\n",
       "  margin-bottom: 0;\n",
       "  padding: 0.5em;\n",
       "  box-sizing: border-box;\n",
       "  text-align: center;\n",
       "}\n",
       "\n",
       "#sk-container-id-1 label.sk-toggleable__label-arrow:before {\n",
       "  /* Arrow on the left of the label */\n",
       "  content: \"▸\";\n",
       "  float: left;\n",
       "  margin-right: 0.25em;\n",
       "  color: var(--sklearn-color-icon);\n",
       "}\n",
       "\n",
       "#sk-container-id-1 label.sk-toggleable__label-arrow:hover:before {\n",
       "  color: var(--sklearn-color-text);\n",
       "}\n",
       "\n",
       "/* Toggleable content - dropdown */\n",
       "\n",
       "#sk-container-id-1 div.sk-toggleable__content {\n",
       "  max-height: 0;\n",
       "  max-width: 0;\n",
       "  overflow: hidden;\n",
       "  text-align: left;\n",
       "  /* unfitted */\n",
       "  background-color: var(--sklearn-color-unfitted-level-0);\n",
       "}\n",
       "\n",
       "#sk-container-id-1 div.sk-toggleable__content.fitted {\n",
       "  /* fitted */\n",
       "  background-color: var(--sklearn-color-fitted-level-0);\n",
       "}\n",
       "\n",
       "#sk-container-id-1 div.sk-toggleable__content pre {\n",
       "  margin: 0.2em;\n",
       "  border-radius: 0.25em;\n",
       "  color: var(--sklearn-color-text);\n",
       "  /* unfitted */\n",
       "  background-color: var(--sklearn-color-unfitted-level-0);\n",
       "}\n",
       "\n",
       "#sk-container-id-1 div.sk-toggleable__content.fitted pre {\n",
       "  /* unfitted */\n",
       "  background-color: var(--sklearn-color-fitted-level-0);\n",
       "}\n",
       "\n",
       "#sk-container-id-1 input.sk-toggleable__control:checked~div.sk-toggleable__content {\n",
       "  /* Expand drop-down */\n",
       "  max-height: 200px;\n",
       "  max-width: 100%;\n",
       "  overflow: auto;\n",
       "}\n",
       "\n",
       "#sk-container-id-1 input.sk-toggleable__control:checked~label.sk-toggleable__label-arrow:before {\n",
       "  content: \"▾\";\n",
       "}\n",
       "\n",
       "/* Pipeline/ColumnTransformer-specific style */\n",
       "\n",
       "#sk-container-id-1 div.sk-label input.sk-toggleable__control:checked~label.sk-toggleable__label {\n",
       "  color: var(--sklearn-color-text);\n",
       "  background-color: var(--sklearn-color-unfitted-level-2);\n",
       "}\n",
       "\n",
       "#sk-container-id-1 div.sk-label.fitted input.sk-toggleable__control:checked~label.sk-toggleable__label {\n",
       "  background-color: var(--sklearn-color-fitted-level-2);\n",
       "}\n",
       "\n",
       "/* Estimator-specific style */\n",
       "\n",
       "/* Colorize estimator box */\n",
       "#sk-container-id-1 div.sk-estimator input.sk-toggleable__control:checked~label.sk-toggleable__label {\n",
       "  /* unfitted */\n",
       "  background-color: var(--sklearn-color-unfitted-level-2);\n",
       "}\n",
       "\n",
       "#sk-container-id-1 div.sk-estimator.fitted input.sk-toggleable__control:checked~label.sk-toggleable__label {\n",
       "  /* fitted */\n",
       "  background-color: var(--sklearn-color-fitted-level-2);\n",
       "}\n",
       "\n",
       "#sk-container-id-1 div.sk-label label.sk-toggleable__label,\n",
       "#sk-container-id-1 div.sk-label label {\n",
       "  /* The background is the default theme color */\n",
       "  color: var(--sklearn-color-text-on-default-background);\n",
       "}\n",
       "\n",
       "/* On hover, darken the color of the background */\n",
       "#sk-container-id-1 div.sk-label:hover label.sk-toggleable__label {\n",
       "  color: var(--sklearn-color-text);\n",
       "  background-color: var(--sklearn-color-unfitted-level-2);\n",
       "}\n",
       "\n",
       "/* Label box, darken color on hover, fitted */\n",
       "#sk-container-id-1 div.sk-label.fitted:hover label.sk-toggleable__label.fitted {\n",
       "  color: var(--sklearn-color-text);\n",
       "  background-color: var(--sklearn-color-fitted-level-2);\n",
       "}\n",
       "\n",
       "/* Estimator label */\n",
       "\n",
       "#sk-container-id-1 div.sk-label label {\n",
       "  font-family: monospace;\n",
       "  font-weight: bold;\n",
       "  display: inline-block;\n",
       "  line-height: 1.2em;\n",
       "}\n",
       "\n",
       "#sk-container-id-1 div.sk-label-container {\n",
       "  text-align: center;\n",
       "}\n",
       "\n",
       "/* Estimator-specific */\n",
       "#sk-container-id-1 div.sk-estimator {\n",
       "  font-family: monospace;\n",
       "  border: 1px dotted var(--sklearn-color-border-box);\n",
       "  border-radius: 0.25em;\n",
       "  box-sizing: border-box;\n",
       "  margin-bottom: 0.5em;\n",
       "  /* unfitted */\n",
       "  background-color: var(--sklearn-color-unfitted-level-0);\n",
       "}\n",
       "\n",
       "#sk-container-id-1 div.sk-estimator.fitted {\n",
       "  /* fitted */\n",
       "  background-color: var(--sklearn-color-fitted-level-0);\n",
       "}\n",
       "\n",
       "/* on hover */\n",
       "#sk-container-id-1 div.sk-estimator:hover {\n",
       "  /* unfitted */\n",
       "  background-color: var(--sklearn-color-unfitted-level-2);\n",
       "}\n",
       "\n",
       "#sk-container-id-1 div.sk-estimator.fitted:hover {\n",
       "  /* fitted */\n",
       "  background-color: var(--sklearn-color-fitted-level-2);\n",
       "}\n",
       "\n",
       "/* Specification for estimator info (e.g. \"i\" and \"?\") */\n",
       "\n",
       "/* Common style for \"i\" and \"?\" */\n",
       "\n",
       ".sk-estimator-doc-link,\n",
       "a:link.sk-estimator-doc-link,\n",
       "a:visited.sk-estimator-doc-link {\n",
       "  float: right;\n",
       "  font-size: smaller;\n",
       "  line-height: 1em;\n",
       "  font-family: monospace;\n",
       "  background-color: var(--sklearn-color-background);\n",
       "  border-radius: 1em;\n",
       "  height: 1em;\n",
       "  width: 1em;\n",
       "  text-decoration: none !important;\n",
       "  margin-left: 1ex;\n",
       "  /* unfitted */\n",
       "  border: var(--sklearn-color-unfitted-level-1) 1pt solid;\n",
       "  color: var(--sklearn-color-unfitted-level-1);\n",
       "}\n",
       "\n",
       ".sk-estimator-doc-link.fitted,\n",
       "a:link.sk-estimator-doc-link.fitted,\n",
       "a:visited.sk-estimator-doc-link.fitted {\n",
       "  /* fitted */\n",
       "  border: var(--sklearn-color-fitted-level-1) 1pt solid;\n",
       "  color: var(--sklearn-color-fitted-level-1);\n",
       "}\n",
       "\n",
       "/* On hover */\n",
       "div.sk-estimator:hover .sk-estimator-doc-link:hover,\n",
       ".sk-estimator-doc-link:hover,\n",
       "div.sk-label-container:hover .sk-estimator-doc-link:hover,\n",
       ".sk-estimator-doc-link:hover {\n",
       "  /* unfitted */\n",
       "  background-color: var(--sklearn-color-unfitted-level-3);\n",
       "  color: var(--sklearn-color-background);\n",
       "  text-decoration: none;\n",
       "}\n",
       "\n",
       "div.sk-estimator.fitted:hover .sk-estimator-doc-link.fitted:hover,\n",
       ".sk-estimator-doc-link.fitted:hover,\n",
       "div.sk-label-container:hover .sk-estimator-doc-link.fitted:hover,\n",
       ".sk-estimator-doc-link.fitted:hover {\n",
       "  /* fitted */\n",
       "  background-color: var(--sklearn-color-fitted-level-3);\n",
       "  color: var(--sklearn-color-background);\n",
       "  text-decoration: none;\n",
       "}\n",
       "\n",
       "/* Span, style for the box shown on hovering the info icon */\n",
       ".sk-estimator-doc-link span {\n",
       "  display: none;\n",
       "  z-index: 9999;\n",
       "  position: relative;\n",
       "  font-weight: normal;\n",
       "  right: .2ex;\n",
       "  padding: .5ex;\n",
       "  margin: .5ex;\n",
       "  width: min-content;\n",
       "  min-width: 20ex;\n",
       "  max-width: 50ex;\n",
       "  color: var(--sklearn-color-text);\n",
       "  box-shadow: 2pt 2pt 4pt #999;\n",
       "  /* unfitted */\n",
       "  background: var(--sklearn-color-unfitted-level-0);\n",
       "  border: .5pt solid var(--sklearn-color-unfitted-level-3);\n",
       "}\n",
       "\n",
       ".sk-estimator-doc-link.fitted span {\n",
       "  /* fitted */\n",
       "  background: var(--sklearn-color-fitted-level-0);\n",
       "  border: var(--sklearn-color-fitted-level-3);\n",
       "}\n",
       "\n",
       ".sk-estimator-doc-link:hover span {\n",
       "  display: block;\n",
       "}\n",
       "\n",
       "/* \"?\"-specific style due to the `<a>` HTML tag */\n",
       "\n",
       "#sk-container-id-1 a.estimator_doc_link {\n",
       "  float: right;\n",
       "  font-size: 1rem;\n",
       "  line-height: 1em;\n",
       "  font-family: monospace;\n",
       "  background-color: var(--sklearn-color-background);\n",
       "  border-radius: 1rem;\n",
       "  height: 1rem;\n",
       "  width: 1rem;\n",
       "  text-decoration: none;\n",
       "  /* unfitted */\n",
       "  color: var(--sklearn-color-unfitted-level-1);\n",
       "  border: var(--sklearn-color-unfitted-level-1) 1pt solid;\n",
       "}\n",
       "\n",
       "#sk-container-id-1 a.estimator_doc_link.fitted {\n",
       "  /* fitted */\n",
       "  border: var(--sklearn-color-fitted-level-1) 1pt solid;\n",
       "  color: var(--sklearn-color-fitted-level-1);\n",
       "}\n",
       "\n",
       "/* On hover */\n",
       "#sk-container-id-1 a.estimator_doc_link:hover {\n",
       "  /* unfitted */\n",
       "  background-color: var(--sklearn-color-unfitted-level-3);\n",
       "  color: var(--sklearn-color-background);\n",
       "  text-decoration: none;\n",
       "}\n",
       "\n",
       "#sk-container-id-1 a.estimator_doc_link.fitted:hover {\n",
       "  /* fitted */\n",
       "  background-color: var(--sklearn-color-fitted-level-3);\n",
       "}\n",
       "</style><div id=\"sk-container-id-1\" class=\"sk-top-container\"><div class=\"sk-text-repr-fallback\"><pre>XGBClassifier(base_score=None, booster=None, callbacks=None,\n",
       "              colsample_bylevel=None, colsample_bynode=0.6773026032177366,\n",
       "              colsample_bytree=None, device=None, early_stopping_rounds=None,\n",
       "              enable_categorical=False,\n",
       "              eval_metric=&lt;function custom_f1_score at 0x7fe6908ec540&gt;,\n",
       "              feature_types=None, gamma=None, grow_policy=None,\n",
       "              importance_type=None, interaction_constraints=None,\n",
       "              learning_rate=0.4839627968896663, max_bin=None,\n",
       "              max_cat_threshold=None, max_cat_to_onehot=None,\n",
       "              max_delta_step=None, max_depth=14, max_leaves=None,\n",
       "              min_child_weight=11, missing=nan, monotone_constraints=None,\n",
       "              multi_strategy=None, n_estimators=19, n_jobs=None,\n",
       "              num_parallel_tree=None, objective=&#x27;multi:softprob&#x27;, ...)</pre><b>In a Jupyter environment, please rerun this cell to show the HTML representation or trust the notebook. <br />On GitHub, the HTML representation is unable to render, please try loading this page with nbviewer.org.</b></div><div class=\"sk-container\" hidden><div class=\"sk-item\"><div class=\"sk-estimator fitted sk-toggleable\"><input class=\"sk-toggleable__control sk-hidden--visually\" id=\"sk-estimator-id-1\" type=\"checkbox\" checked><label for=\"sk-estimator-id-1\" class=\"sk-toggleable__label fitted sk-toggleable__label-arrow fitted\">&nbsp;XGBClassifier<span class=\"sk-estimator-doc-link fitted\">i<span>Fitted</span></span></label><div class=\"sk-toggleable__content fitted\"><pre>XGBClassifier(base_score=None, booster=None, callbacks=None,\n",
       "              colsample_bylevel=None, colsample_bynode=0.6773026032177366,\n",
       "              colsample_bytree=None, device=None, early_stopping_rounds=None,\n",
       "              enable_categorical=False,\n",
       "              eval_metric=&lt;function custom_f1_score at 0x7fe6908ec540&gt;,\n",
       "              feature_types=None, gamma=None, grow_policy=None,\n",
       "              importance_type=None, interaction_constraints=None,\n",
       "              learning_rate=0.4839627968896663, max_bin=None,\n",
       "              max_cat_threshold=None, max_cat_to_onehot=None,\n",
       "              max_delta_step=None, max_depth=14, max_leaves=None,\n",
       "              min_child_weight=11, missing=nan, monotone_constraints=None,\n",
       "              multi_strategy=None, n_estimators=19, n_jobs=None,\n",
       "              num_parallel_tree=None, objective=&#x27;multi:softprob&#x27;, ...)</pre></div> </div></div></div></div>"
      ],
      "text/plain": [
       "XGBClassifier(base_score=None, booster=None, callbacks=None,\n",
       "              colsample_bylevel=None, colsample_bynode=0.6773026032177366,\n",
       "              colsample_bytree=None, device=None, early_stopping_rounds=None,\n",
       "              enable_categorical=False,\n",
       "              eval_metric=<function custom_f1_score at 0x7fe6908ec540>,\n",
       "              feature_types=None, gamma=None, grow_policy=None,\n",
       "              importance_type=None, interaction_constraints=None,\n",
       "              learning_rate=0.4839627968896663, max_bin=None,\n",
       "              max_cat_threshold=None, max_cat_to_onehot=None,\n",
       "              max_delta_step=None, max_depth=14, max_leaves=None,\n",
       "              min_child_weight=11, missing=nan, monotone_constraints=None,\n",
       "              multi_strategy=None, n_estimators=19, n_jobs=None,\n",
       "              num_parallel_tree=None, objective='multi:softprob', ...)"
      ]
     },
     "execution_count": 21,
     "metadata": {},
     "output_type": "execute_result"
    }
   ],
   "source": [
    "n_estimators = int(study.best_trial.user_attrs['best_iteration']*1.2)\n",
    "xgb = xgboost.XGBClassifier(\n",
    "        eval_metric=eval_metric,\n",
    "        n_estimators=n_estimators,\n",
    "        **study.best_trial.params\n",
    "    )\n",
    "xgb.fit(\n",
    "    ssp.vstack((X_train, X_val)), \n",
    "    np.concatenate((y_train_enc, y_val_enc)),\n",
    "    verbose=1,\n",
    ")"
   ]
  },
  {
   "cell_type": "code",
   "execution_count": 22,
   "id": "7adadf28",
   "metadata": {
    "execution": {
     "iopub.execute_input": "2025-05-15T16:14:13.814585Z",
     "iopub.status.busy": "2025-05-15T16:14:13.814312Z",
     "iopub.status.idle": "2025-05-15T16:14:13.829389Z",
     "shell.execute_reply": "2025-05-15T16:14:13.829042Z"
    },
    "papermill": {
     "duration": 0.024993,
     "end_time": "2025-05-15T16:14:13.830327",
     "exception": false,
     "start_time": "2025-05-15T16:14:13.805334",
     "status": "completed"
    },
    "tags": []
   },
   "outputs": [
    {
     "data": {
      "text/plain": [
       "['/scratch_isilon/groups/singlecell/shared/projects/Inflammation-PBMCs-Atlas/03_downstream_analysis/08_gene_importance/xgboost_external_validation/xgboost_TopN_genes/results_20/best_model/UTC_12_1_xgb.json']"
      ]
     },
     "execution_count": 22,
     "metadata": {},
     "output_type": "execute_result"
    }
   ],
   "source": [
    "out_dir = here(f'03_downstream_analysis/08_gene_importance/xgboost_external_validation/xgboost_TopN_genes/results_{N_GENES}/best_model')\n",
    "\n",
    "if not os.path.exists(out_dir):\n",
    "    os.makedirs(out_dir)\n",
    "    \n",
    "joblib.dump(xgb, os.path.join(out_dir, f'{CELL_TYPE}_{SEED}_{TEST_SPLIT_IDX}_xgb.json'))"
   ]
  },
  {
   "cell_type": "code",
   "execution_count": 23,
   "id": "6b327a11",
   "metadata": {
    "execution": {
     "iopub.execute_input": "2025-05-15T16:14:13.878834Z",
     "iopub.status.busy": "2025-05-15T16:14:13.878402Z",
     "iopub.status.idle": "2025-05-15T16:14:13.893326Z",
     "shell.execute_reply": "2025-05-15T16:14:13.892997Z"
    },
    "papermill": {
     "duration": 0.0356,
     "end_time": "2025-05-15T16:14:13.897760",
     "exception": false,
     "start_time": "2025-05-15T16:14:13.862160",
     "status": "completed"
    },
    "tags": []
   },
   "outputs": [],
   "source": [
    "df_pred_test = pd.DataFrame(dict(\n",
    "    cell_id=train_adata.obs.iloc[test_idxs].index.values,\n",
    "    y_true=y_test, \n",
    "    y_true_code=y_test_enc, \n",
    "    y_pred=xgb.predict(X_test))).set_index('cell_id')"
   ]
  },
  {
   "cell_type": "code",
   "execution_count": 24,
   "id": "4e9bb7bd",
   "metadata": {
    "execution": {
     "iopub.execute_input": "2025-05-15T16:14:13.917625Z",
     "iopub.status.busy": "2025-05-15T16:14:13.917112Z",
     "iopub.status.idle": "2025-05-15T16:14:13.943747Z",
     "shell.execute_reply": "2025-05-15T16:14:13.943205Z"
    },
    "papermill": {
     "duration": 0.038563,
     "end_time": "2025-05-15T16:14:13.945011",
     "exception": false,
     "start_time": "2025-05-15T16:14:13.906448",
     "status": "completed"
    },
    "tags": []
   },
   "outputs": [],
   "source": [
    "out_dir = here(f'03_downstream_analysis/08_gene_importance/xgboost_external_validation/xgboost_TopN_genes/results_{N_GENES}/predictions')\n",
    "\n",
    "if not os.path.exists(out_dir):\n",
    "    os.makedirs(out_dir)\n",
    "    \n",
    "df_pred_test.to_csv(os.path.join(out_dir, f'{CELL_TYPE}_{SEED}_{TEST_SPLIT_IDX}_pred_test.zip'))"
   ]
  },
  {
   "cell_type": "code",
   "execution_count": 25,
   "id": "578526ce",
   "metadata": {
    "execution": {
     "iopub.execute_input": "2025-05-15T16:14:13.969396Z",
     "iopub.status.busy": "2025-05-15T16:14:13.969001Z",
     "iopub.status.idle": "2025-05-15T16:14:13.975963Z",
     "shell.execute_reply": "2025-05-15T16:14:13.975616Z"
    },
    "papermill": {
     "duration": 0.023021,
     "end_time": "2025-05-15T16:14:13.976895",
     "exception": false,
     "start_time": "2025-05-15T16:14:13.953874",
     "status": "completed"
    },
    "tags": []
   },
   "outputs": [],
   "source": [
    "metrics_dict = dict(\n",
    "    BAS=balanced_accuracy_score(y_true=df_pred_test.y_true_code, y_pred=df_pred_test.y_pred), WF1=f1_score(y_true=df_pred_test.y_true_code, y_pred=df_pred_test.y_pred,average='weighted'))"
   ]
  },
  {
   "cell_type": "code",
   "execution_count": 26,
   "id": "6215b6bd",
   "metadata": {
    "execution": {
     "iopub.execute_input": "2025-05-15T16:14:13.994530Z",
     "iopub.status.busy": "2025-05-15T16:14:13.994121Z",
     "iopub.status.idle": "2025-05-15T16:14:13.997058Z",
     "shell.execute_reply": "2025-05-15T16:14:13.996759Z"
    },
    "papermill": {
     "duration": 0.012448,
     "end_time": "2025-05-15T16:14:13.997872",
     "exception": false,
     "start_time": "2025-05-15T16:14:13.985424",
     "status": "completed"
    },
    "tags": []
   },
   "outputs": [
    {
     "data": {
      "text/plain": [
       "{'BAS': 0.4445105796557825, 'WF1': 0.7529491774122316}"
      ]
     },
     "execution_count": 26,
     "metadata": {},
     "output_type": "execute_result"
    }
   ],
   "source": [
    "metrics_dict"
   ]
  },
  {
   "cell_type": "code",
   "execution_count": 27,
   "id": "de7a394a",
   "metadata": {
    "execution": {
     "iopub.execute_input": "2025-05-15T16:14:14.015685Z",
     "iopub.status.busy": "2025-05-15T16:14:14.015503Z",
     "iopub.status.idle": "2025-05-15T16:14:14.024318Z",
     "shell.execute_reply": "2025-05-15T16:14:14.023958Z"
    },
    "papermill": {
     "duration": 0.018701,
     "end_time": "2025-05-15T16:14:14.025234",
     "exception": false,
     "start_time": "2025-05-15T16:14:14.006533",
     "status": "completed"
    },
    "tags": []
   },
   "outputs": [
    {
     "data": {
      "text/html": [
       "<div>\n",
       "<style scoped>\n",
       "    .dataframe tbody tr th:only-of-type {\n",
       "        vertical-align: middle;\n",
       "    }\n",
       "\n",
       "    .dataframe tbody tr th {\n",
       "        vertical-align: top;\n",
       "    }\n",
       "\n",
       "    .dataframe thead th {\n",
       "        text-align: right;\n",
       "    }\n",
       "</style>\n",
       "<table border=\"1\" class=\"dataframe\">\n",
       "  <thead>\n",
       "    <tr style=\"text-align: right;\">\n",
       "      <th></th>\n",
       "      <th>BAS</th>\n",
       "      <th>WF1</th>\n",
       "      <th>split_idx</th>\n",
       "      <th>gene_set_seed</th>\n",
       "      <th>cell_type</th>\n",
       "    </tr>\n",
       "  </thead>\n",
       "  <tbody>\n",
       "    <tr>\n",
       "      <th>0</th>\n",
       "      <td>0.444511</td>\n",
       "      <td>0.752949</td>\n",
       "      <td>1</td>\n",
       "      <td>12</td>\n",
       "      <td>UTC</td>\n",
       "    </tr>\n",
       "  </tbody>\n",
       "</table>\n",
       "</div>"
      ],
      "text/plain": [
       "        BAS       WF1  split_idx  gene_set_seed cell_type\n",
       "0  0.444511  0.752949          1             12       UTC"
      ]
     },
     "execution_count": 27,
     "metadata": {},
     "output_type": "execute_result"
    }
   ],
   "source": [
    "metrics_df = pd.DataFrame.from_dict([metrics_dict]).assign(split_idx=TEST_SPLIT_IDX, gene_set_seed=SEED, cell_type=CELL_TYPE)\n",
    "metrics_df"
   ]
  },
  {
   "cell_type": "code",
   "execution_count": 28,
   "id": "dbb4e52b",
   "metadata": {
    "execution": {
     "iopub.execute_input": "2025-05-15T16:14:14.044711Z",
     "iopub.status.busy": "2025-05-15T16:14:14.044234Z",
     "iopub.status.idle": "2025-05-15T16:14:14.053255Z",
     "shell.execute_reply": "2025-05-15T16:14:14.052800Z"
    },
    "papermill": {
     "duration": 0.020144,
     "end_time": "2025-05-15T16:14:14.054463",
     "exception": false,
     "start_time": "2025-05-15T16:14:14.034319",
     "status": "completed"
    },
    "tags": []
   },
   "outputs": [],
   "source": [
    "out_dir = here(f'03_downstream_analysis/08_gene_importance/xgboost_external_validation/xgboost_TopN_genes/results_{N_GENES}/metrics')\n",
    "\n",
    "if not os.path.exists(out_dir):\n",
    "    os.makedirs(out_dir)\n",
    "    \n",
    "metrics_df.to_csv(os.path.join(out_dir, f'{CELL_TYPE}_{SEED}_{TEST_SPLIT_IDX}_metrics.zip'))"
   ]
  }
 ],
 "metadata": {
  "kernelspec": {
   "display_name": "Python 3 (ipykernel)",
   "language": "python",
   "name": "python3"
  },
  "language_info": {
   "codemirror_mode": {
    "name": "ipython",
    "version": 3
   },
   "file_extension": ".py",
   "mimetype": "text/x-python",
   "name": "python",
   "nbconvert_exporter": "python",
   "pygments_lexer": "ipython3",
   "version": "3.12.5"
  },
  "papermill": {
   "default_parameters": {},
   "duration": 89.441271,
   "end_time": "2025-05-15T16:14:14.780577",
   "environment_variables": {},
   "exception": null,
   "input_path": "02_xgboost_fitting_external_20genes.ipynb",
   "output_path": "results_20/executed_notebooks/xgboost_fitting_external_CT_UTC_GS_12_seed1.ipynb",
   "parameters": {
    "CELL_TYPE": "UTC",
    "SEED": 12,
    "TEST_SPLIT_IDX": 1
   },
   "start_time": "2025-05-15T16:12:45.339306",
   "version": "2.6.0"
  }
 },
 "nbformat": 4,
 "nbformat_minor": 5
}