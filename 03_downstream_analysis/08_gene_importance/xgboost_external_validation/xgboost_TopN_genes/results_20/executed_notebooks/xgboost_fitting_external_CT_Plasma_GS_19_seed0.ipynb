{
 "cells": [
  {
   "cell_type": "code",
   "execution_count": 1,
   "id": "513859fe",
   "metadata": {
    "editable": true,
    "execution": {
     "iopub.execute_input": "2025-05-15T16:15:49.484877Z",
     "iopub.status.busy": "2025-05-15T16:15:49.484473Z",
     "iopub.status.idle": "2025-05-15T16:15:49.488337Z",
     "shell.execute_reply": "2025-05-15T16:15:49.487874Z"
    },
    "papermill": {
     "duration": 0.013191,
     "end_time": "2025-05-15T16:15:49.489403",
     "exception": false,
     "start_time": "2025-05-15T16:15:49.476212",
     "status": "completed"
    },
    "slideshow": {
     "slide_type": ""
    },
    "tags": [
     "parameters"
    ]
   },
   "outputs": [],
   "source": [
    "CELL_TYPE = 'pDC'\n",
    "N_GENES: int = 20\n",
    "SEED = 'shap_studyID' #'disease_NOstudy' 'study_NOdisease' or 'int' or 'shap_studyID'\n",
    "TEST_SPLIT_IDX: int = 1 #[0,4]"
   ]
  },
  {
   "cell_type": "code",
   "execution_count": 2,
   "id": "dab7a279",
   "metadata": {
    "execution": {
     "iopub.execute_input": "2025-05-15T16:15:49.503995Z",
     "iopub.status.busy": "2025-05-15T16:15:49.503783Z",
     "iopub.status.idle": "2025-05-15T16:15:49.506318Z",
     "shell.execute_reply": "2025-05-15T16:15:49.505960Z"
    },
    "papermill": {
     "duration": 0.010476,
     "end_time": "2025-05-15T16:15:49.507299",
     "exception": false,
     "start_time": "2025-05-15T16:15:49.496823",
     "status": "completed"
    },
    "tags": [
     "injected-parameters"
    ]
   },
   "outputs": [],
   "source": [
    "# Parameters\n",
    "CELL_TYPE = \"Plasma\"\n",
    "SEED = 19\n",
    "TEST_SPLIT_IDX = 0\n"
   ]
  },
  {
   "cell_type": "code",
   "execution_count": 3,
   "id": "d476ac74",
   "metadata": {
    "execution": {
     "iopub.execute_input": "2025-05-15T16:15:49.521133Z",
     "iopub.status.busy": "2025-05-15T16:15:49.520509Z",
     "iopub.status.idle": "2025-05-15T16:15:49.523092Z",
     "shell.execute_reply": "2025-05-15T16:15:49.522741Z"
    },
    "papermill": {
     "duration": 0.010278,
     "end_time": "2025-05-15T16:15:49.524061",
     "exception": false,
     "start_time": "2025-05-15T16:15:49.513783",
     "status": "completed"
    },
    "tags": []
   },
   "outputs": [],
   "source": [
    "N_SPLITS: int = 5\n",
    "N_TRIALS: int = 50"
   ]
  },
  {
   "cell_type": "code",
   "execution_count": 4,
   "id": "db87b105",
   "metadata": {
    "execution": {
     "iopub.execute_input": "2025-05-15T16:15:49.538665Z",
     "iopub.status.busy": "2025-05-15T16:15:49.538205Z",
     "iopub.status.idle": "2025-05-15T16:15:51.117228Z",
     "shell.execute_reply": "2025-05-15T16:15:51.116677Z"
    },
    "papermill": {
     "duration": 1.588436,
     "end_time": "2025-05-15T16:15:51.118740",
     "exception": false,
     "start_time": "2025-05-15T16:15:49.530304",
     "status": "completed"
    },
    "tags": []
   },
   "outputs": [],
   "source": [
    "import os\n",
    "import sys\n",
    "from pyprojroot.here import here\n",
    "import pandas as pd\n",
    "import anndata as ad\n",
    "import numpy as np\n",
    "import math\n",
    "from sklearn.model_selection import StratifiedGroupKFold\n",
    "from sklearn.preprocessing import LabelEncoder\n",
    "from sklearn.metrics import f1_score\n",
    "import matplotlib.pyplot as plt\n",
    "import seaborn as sns\n",
    "from itertools import product\n",
    "from sklearn.metrics import balanced_accuracy_score, f1_score\n",
    "import optuna\n",
    "\n",
    "import joblib\n",
    "import pickle\n",
    "import datetime\n",
    "\n",
    "import collections\n",
    "\n",
    "import xgboost\n",
    "from sklearn.preprocessing import LabelEncoder\n",
    "\n",
    "import scipy.sparse as ssp\n",
    "import joblib\n",
    "\n",
    "from dotenv import load_dotenv"
   ]
  },
  {
   "cell_type": "code",
   "execution_count": 5,
   "id": "c692d04b",
   "metadata": {
    "execution": {
     "iopub.execute_input": "2025-05-15T16:15:51.133616Z",
     "iopub.status.busy": "2025-05-15T16:15:51.132925Z",
     "iopub.status.idle": "2025-05-15T16:15:51.139520Z",
     "shell.execute_reply": "2025-05-15T16:15:51.139145Z"
    },
    "papermill": {
     "duration": 0.01463,
     "end_time": "2025-05-15T16:15:51.140539",
     "exception": false,
     "start_time": "2025-05-15T16:15:51.125909",
     "status": "completed"
    },
    "tags": []
   },
   "outputs": [
    {
     "data": {
      "text/plain": [
       "True"
      ]
     },
     "execution_count": 5,
     "metadata": {},
     "output_type": "execute_result"
    }
   ],
   "source": [
    "load_dotenv()"
   ]
  },
  {
   "cell_type": "markdown",
   "id": "9350367e",
   "metadata": {
    "papermill": {
     "duration": 0.006618,
     "end_time": "2025-05-15T16:15:51.154010",
     "exception": false,
     "start_time": "2025-05-15T16:15:51.147392",
     "status": "completed"
    },
    "tags": []
   },
   "source": [
    "# LOAD DATASET"
   ]
  },
  {
   "cell_type": "code",
   "execution_count": 6,
   "id": "6778c4ae",
   "metadata": {
    "execution": {
     "iopub.execute_input": "2025-05-15T16:15:51.168460Z",
     "iopub.status.busy": "2025-05-15T16:15:51.168143Z",
     "iopub.status.idle": "2025-05-15T16:15:51.213850Z",
     "shell.execute_reply": "2025-05-15T16:15:51.213381Z"
    },
    "papermill": {
     "duration": 0.05439,
     "end_time": "2025-05-15T16:15:51.215297",
     "exception": false,
     "start_time": "2025-05-15T16:15:51.160907",
     "status": "completed"
    },
    "tags": []
   },
   "outputs": [],
   "source": [
    "train_adata = ad.read_h5ad(\n",
    "    here(f'03_downstream_analysis/08_gene_importance/xgboost_external_validation/xgboost_TopN_genes/data_cellTypes/EXTERNAL_{CELL_TYPE}.filtered.log1p.h5ad')\n",
    ")"
   ]
  },
  {
   "cell_type": "code",
   "execution_count": 7,
   "id": "49945be2",
   "metadata": {
    "execution": {
     "iopub.execute_input": "2025-05-15T16:15:51.243204Z",
     "iopub.status.busy": "2025-05-15T16:15:51.242945Z",
     "iopub.status.idle": "2025-05-15T16:15:51.253613Z",
     "shell.execute_reply": "2025-05-15T16:15:51.253137Z"
    },
    "papermill": {
     "duration": 0.018968,
     "end_time": "2025-05-15T16:15:51.254650",
     "exception": false,
     "start_time": "2025-05-15T16:15:51.235682",
     "status": "completed"
    },
    "tags": []
   },
   "outputs": [
    {
     "name": "stdout",
     "output_type": "stream",
     "text": [
      "['ENSG00000145675' 'ENSG00000197249' 'ENSG00000142634' 'ENSG00000130755'\n",
      " 'ENSG00000048462' 'ENSG00000168811' 'ENSG00000160213' 'ENSG00000158869'\n",
      " 'ENSG00000011600' 'ENSG00000121316' 'ENSG00000099958' 'ENSG00000100450'\n",
      " 'ENSG00000167004' 'ENSG00000165732' 'ENSG00000026103' 'ENSG00000223865'\n",
      " 'ENSG00000141526' 'ENSG00000183696' 'ENSG00000100906' 'ENSG00000112149'\n",
      " 'ENSG00000163660' 'ENSG00000104660' 'ENSG00000241106' 'ENSG00000144746'\n",
      " 'ENSG00000126561' 'ENSG00000065978' 'ENSG00000172936' 'ENSG00000038427'\n",
      " 'ENSG00000092820' 'ENSG00000160932' 'ENSG00000078596' 'ENSG00000134539'\n",
      " 'ENSG00000075624' 'ENSG00000143390' 'ENSG00000146457' 'ENSG00000125347'\n",
      " 'ENSG00000100368' 'ENSG00000271503' 'ENSG00000134470' 'ENSG00000198355'\n",
      " 'ENSG00000169442' 'ENSG00000183020' 'ENSG00000138107' 'ENSG00000175354'\n",
      " 'ENSG00000143761' 'ENSG00000143924' 'ENSG00000127951' 'ENSG00000138802'\n",
      " 'ENSG00000170540' 'ENSG00000175104' 'ENSG00000152234' 'ENSG00000140379'\n",
      " 'ENSG00000172531' 'ENSG00000171476' 'ENSG00000165272' 'ENSG00000101017'\n",
      " 'ENSG00000196126' 'ENSG00000173812' 'ENSG00000135968' 'ENSG00000030582'\n",
      " 'ENSG00000137441' 'ENSG00000121879' 'ENSG00000157020' 'ENSG00000137331'\n",
      " 'ENSG00000108639' 'ENSG00000228474' 'ENSG00000156738' 'ENSG00000139318'\n",
      " 'ENSG00000100600' 'ENSG00000197746' 'ENSG00000132002' 'ENSG00000104998'\n",
      " 'ENSG00000166847' 'ENSG00000122862' 'ENSG00000132475' 'ENSG00000242574'\n",
      " 'ENSG00000137193' 'ENSG00000170458' 'ENSG00000138778' 'ENSG00000110876'\n",
      " 'ENSG00000116171' 'ENSG00000027697' 'ENSG00000138674' 'ENSG00000136738'\n",
      " 'ENSG00000117523' 'ENSG00000277734' 'ENSG00000127314' 'ENSG00000120742'\n",
      " 'ENSG00000168461' 'ENSG00000197540' 'ENSG00000018280' 'ENSG00000119535'\n",
      " 'ENSG00000175768' 'ENSG00000135821' 'ENSG00000143933' 'ENSG00000105397'\n",
      " 'ENSG00000109321' 'ENSG00000163513' 'ENSG00000082074' 'ENSG00000115073'\n",
      " 'ENSG00000164136' 'ENSG00000117602' 'ENSG00000110324' 'ENSG00000179144'\n",
      " 'ENSG00000136003' 'ENSG00000167552' 'ENSG00000128524']\n"
     ]
    }
   ],
   "source": [
    "if SEED != 'all':\n",
    "    gene_subset = np.load(here(f'03_downstream_analysis/08_gene_importance/xgboost_external_validation/shap_gene_selection/gene_subsets_{N_GENES}/{CELL_TYPE}_{SEED}.npy'), allow_pickle=True)\n",
    "    train_adata = train_adata[:,gene_subset]\n",
    "    print(gene_subset)\n",
    "elif SEED == 'all':\n",
    "    print('Using all genes')\n",
    "else:\n",
    "    raise ValueError()"
   ]
  },
  {
   "cell_type": "code",
   "execution_count": 8,
   "id": "37ab0ef0",
   "metadata": {
    "execution": {
     "iopub.execute_input": "2025-05-15T16:15:51.269305Z",
     "iopub.status.busy": "2025-05-15T16:15:51.269078Z",
     "iopub.status.idle": "2025-05-15T16:15:51.272265Z",
     "shell.execute_reply": "2025-05-15T16:15:51.271916Z"
    },
    "papermill": {
     "duration": 0.011924,
     "end_time": "2025-05-15T16:15:51.273220",
     "exception": false,
     "start_time": "2025-05-15T16:15:51.261296",
     "status": "completed"
    },
    "tags": []
   },
   "outputs": [
    {
     "data": {
      "text/plain": [
       "(542, 107)"
      ]
     },
     "execution_count": 8,
     "metadata": {},
     "output_type": "execute_result"
    }
   ],
   "source": [
    "train_adata.shape"
   ]
  },
  {
   "cell_type": "code",
   "execution_count": 9,
   "id": "56dd00df",
   "metadata": {
    "execution": {
     "iopub.execute_input": "2025-05-15T16:15:51.287259Z",
     "iopub.status.busy": "2025-05-15T16:15:51.286974Z",
     "iopub.status.idle": "2025-05-15T16:15:51.291418Z",
     "shell.execute_reply": "2025-05-15T16:15:51.291038Z"
    },
    "papermill": {
     "duration": 0.012129,
     "end_time": "2025-05-15T16:15:51.292358",
     "exception": false,
     "start_time": "2025-05-15T16:15:51.280229",
     "status": "completed"
    },
    "tags": []
   },
   "outputs": [
    {
     "data": {
      "text/plain": [
       "['RA', 'COVID', 'healthy', 'HIV', 'cirrhosis', 'CD', 'SLE', 'sepsis']\n",
       "Categories (8, object): ['CD', 'COVID', 'HIV', 'RA', 'SLE', 'cirrhosis', 'healthy', 'sepsis']"
      ]
     },
     "execution_count": 9,
     "metadata": {},
     "output_type": "execute_result"
    }
   ],
   "source": [
    "train_adata.obs.disease.unique()"
   ]
  },
  {
   "cell_type": "code",
   "execution_count": 10,
   "id": "cd844c92",
   "metadata": {
    "execution": {
     "iopub.execute_input": "2025-05-15T16:15:51.306837Z",
     "iopub.status.busy": "2025-05-15T16:15:51.306477Z",
     "iopub.status.idle": "2025-05-15T16:15:51.311256Z",
     "shell.execute_reply": "2025-05-15T16:15:51.310876Z"
    },
    "papermill": {
     "duration": 0.013258,
     "end_time": "2025-05-15T16:15:51.312245",
     "exception": false,
     "start_time": "2025-05-15T16:15:51.298987",
     "status": "completed"
    },
    "tags": []
   },
   "outputs": [
    {
     "data": {
      "text/plain": [
       "['SCGT00val_I0364_T0', 'SCGT00val_I036019_T0', 'SCGT00val_I036028_T0', 'SCGT00val_I036024_T0', 'SCGT00val_I036016_T0', ..., '10XGenomics_10XHC2_T0', '10XGenomics_10XHC3_T0', '10XGenomics_10XHC5_T0', '10XGenomics_10XHC7_T0', '10XGenomics_10XHC8_T0']\n",
       "Length: 74\n",
       "Categories (74, object): ['10XGenomics_10XHC1_T0', '10XGenomics_10XHC2_T0', '10XGenomics_10XHC3_T0', '10XGenomics_10XHC4_T0', ..., 'Savage2021_BRISL6_T0', 'Savage2021_BRISL7_T0', 'Savage2021_PIDA_T0', 'Savage2021_PIDB_T0']"
      ]
     },
     "execution_count": 10,
     "metadata": {},
     "output_type": "execute_result"
    }
   ],
   "source": [
    "train_adata.obs.sampleID.unique()"
   ]
  },
  {
   "cell_type": "code",
   "execution_count": 11,
   "id": "c0a2e1a5",
   "metadata": {
    "execution": {
     "iopub.execute_input": "2025-05-15T16:15:51.326397Z",
     "iopub.status.busy": "2025-05-15T16:15:51.325896Z",
     "iopub.status.idle": "2025-05-15T16:15:51.358433Z",
     "shell.execute_reply": "2025-05-15T16:15:51.357884Z"
    },
    "papermill": {
     "duration": 0.041118,
     "end_time": "2025-05-15T16:15:51.359812",
     "exception": false,
     "start_time": "2025-05-15T16:15:51.318694",
     "status": "completed"
    },
    "tags": []
   },
   "outputs": [],
   "source": [
    "all_idxs = np.arange(train_adata.obs.shape[0])\n",
    "left_out_splits = [s[1] for s in StratifiedGroupKFold(n_splits=N_SPLITS).split(all_idxs, train_adata.obs.disease, train_adata.obs.sampleID)]"
   ]
  },
  {
   "cell_type": "code",
   "execution_count": 12,
   "id": "db4e18d7",
   "metadata": {
    "execution": {
     "iopub.execute_input": "2025-05-15T16:15:51.378179Z",
     "iopub.status.busy": "2025-05-15T16:15:51.377698Z",
     "iopub.status.idle": "2025-05-15T16:15:51.381807Z",
     "shell.execute_reply": "2025-05-15T16:15:51.381468Z"
    },
    "papermill": {
     "duration": 0.016134,
     "end_time": "2025-05-15T16:15:51.382736",
     "exception": false,
     "start_time": "2025-05-15T16:15:51.366602",
     "status": "completed"
    },
    "tags": []
   },
   "outputs": [
    {
     "data": {
      "text/plain": [
       "([2, 3, 4], 1, 0)"
      ]
     },
     "execution_count": 12,
     "metadata": {},
     "output_type": "execute_result"
    }
   ],
   "source": [
    "TRAIN_SPLIT_IDXS = [0,1,2,3,4]\n",
    "VAL_SPLIT_IDX = (TEST_SPLIT_IDX + 1) % 5\n",
    "TRAIN_SPLIT_IDXS.remove(TEST_SPLIT_IDX)\n",
    "TRAIN_SPLIT_IDXS.remove(VAL_SPLIT_IDX)\n",
    "TRAIN_SPLIT_IDXS, VAL_SPLIT_IDX, TEST_SPLIT_IDX"
   ]
  },
  {
   "cell_type": "code",
   "execution_count": 13,
   "id": "c6c08d6d",
   "metadata": {
    "execution": {
     "iopub.execute_input": "2025-05-15T16:15:51.397204Z",
     "iopub.status.busy": "2025-05-15T16:15:51.396574Z",
     "iopub.status.idle": "2025-05-15T16:15:51.399459Z",
     "shell.execute_reply": "2025-05-15T16:15:51.399113Z"
    },
    "papermill": {
     "duration": 0.011332,
     "end_time": "2025-05-15T16:15:51.400397",
     "exception": false,
     "start_time": "2025-05-15T16:15:51.389065",
     "status": "completed"
    },
    "tags": []
   },
   "outputs": [],
   "source": [
    "train_idxs = np.concatenate([left_out_splits[idx] for idx in TRAIN_SPLIT_IDXS])\n",
    "val_idxs = left_out_splits[VAL_SPLIT_IDX]\n",
    "test_idxs = left_out_splits[TEST_SPLIT_IDX]"
   ]
  },
  {
   "cell_type": "markdown",
   "id": "b96e3b0d",
   "metadata": {
    "papermill": {
     "duration": 0.032408,
     "end_time": "2025-05-15T16:15:51.439214",
     "exception": false,
     "start_time": "2025-05-15T16:15:51.406806",
     "status": "completed"
    },
    "tags": []
   },
   "source": [
    "### SUBSET DATASET INTO TRAIN/TEST/VAL SPLITS"
   ]
  },
  {
   "cell_type": "code",
   "execution_count": 14,
   "id": "dfa4b1c6",
   "metadata": {
    "execution": {
     "iopub.execute_input": "2025-05-15T16:15:51.454854Z",
     "iopub.status.busy": "2025-05-15T16:15:51.454389Z",
     "iopub.status.idle": "2025-05-15T16:15:51.461290Z",
     "shell.execute_reply": "2025-05-15T16:15:51.460960Z"
    },
    "papermill": {
     "duration": 0.015141,
     "end_time": "2025-05-15T16:15:51.462240",
     "exception": false,
     "start_time": "2025-05-15T16:15:51.447099",
     "status": "completed"
    },
    "tags": []
   },
   "outputs": [
    {
     "data": {
      "text/plain": [
       "((317, 107), (118, 107), (107, 107))"
      ]
     },
     "execution_count": 14,
     "metadata": {},
     "output_type": "execute_result"
    }
   ],
   "source": [
    "X_train = train_adata.X[train_idxs]\n",
    "X_test = train_adata.X[test_idxs]\n",
    "X_val = train_adata.X[val_idxs]\n",
    "X_train.shape, X_test.shape, X_val.shape"
   ]
  },
  {
   "cell_type": "code",
   "execution_count": 15,
   "id": "9ed1c140",
   "metadata": {
    "execution": {
     "iopub.execute_input": "2025-05-15T16:15:51.477043Z",
     "iopub.status.busy": "2025-05-15T16:15:51.476822Z",
     "iopub.status.idle": "2025-05-15T16:15:51.482161Z",
     "shell.execute_reply": "2025-05-15T16:15:51.481835Z"
    },
    "papermill": {
     "duration": 0.013706,
     "end_time": "2025-05-15T16:15:51.483185",
     "exception": false,
     "start_time": "2025-05-15T16:15:51.469479",
     "status": "completed"
    },
    "tags": []
   },
   "outputs": [
    {
     "data": {
      "text/plain": [
       "((317,), (118,), (107,))"
      ]
     },
     "execution_count": 15,
     "metadata": {},
     "output_type": "execute_result"
    }
   ],
   "source": [
    "y_train = train_adata.obs.iloc[train_idxs].disease.values.astype(str)\n",
    "y_test = train_adata.obs.iloc[test_idxs].disease.values.astype(str)\n",
    "y_val = train_adata.obs.iloc[val_idxs].disease.values.astype(str)\n",
    "y_train.shape, y_test.shape, y_val.shape"
   ]
  },
  {
   "cell_type": "code",
   "execution_count": 16,
   "id": "bf2c6be2",
   "metadata": {
    "execution": {
     "iopub.execute_input": "2025-05-15T16:15:51.497939Z",
     "iopub.status.busy": "2025-05-15T16:15:51.497604Z",
     "iopub.status.idle": "2025-05-15T16:15:51.500848Z",
     "shell.execute_reply": "2025-05-15T16:15:51.500511Z"
    },
    "papermill": {
     "duration": 0.011345,
     "end_time": "2025-05-15T16:15:51.501770",
     "exception": false,
     "start_time": "2025-05-15T16:15:51.490425",
     "status": "completed"
    },
    "tags": []
   },
   "outputs": [],
   "source": [
    "lenc = LabelEncoder()\n",
    "y_train_enc = lenc.fit_transform(y_train)\n",
    "y_val_enc = lenc.transform(y_val)\n",
    "y_test_enc = lenc.transform(y_test)"
   ]
  },
  {
   "cell_type": "markdown",
   "id": "6ae6b5a0",
   "metadata": {
    "papermill": {
     "duration": 0.006725,
     "end_time": "2025-05-15T16:15:51.515707",
     "exception": false,
     "start_time": "2025-05-15T16:15:51.508982",
     "status": "completed"
    },
    "tags": []
   },
   "source": [
    "### GENERATE F1 "
   ]
  },
  {
   "cell_type": "code",
   "execution_count": 17,
   "id": "dd37a59b",
   "metadata": {
    "execution": {
     "iopub.execute_input": "2025-05-15T16:15:51.568354Z",
     "iopub.status.busy": "2025-05-15T16:15:51.568158Z",
     "iopub.status.idle": "2025-05-15T16:15:51.570738Z",
     "shell.execute_reply": "2025-05-15T16:15:51.570347Z"
    },
    "papermill": {
     "duration": 0.048582,
     "end_time": "2025-05-15T16:15:51.571722",
     "exception": false,
     "start_time": "2025-05-15T16:15:51.523140",
     "status": "completed"
    },
    "tags": []
   },
   "outputs": [],
   "source": [
    "def custom_f1_score(y_true, y_pred):\n",
    "    return -f1_score(y_true, y_pred.argmax(1), average='weighted')"
   ]
  },
  {
   "cell_type": "code",
   "execution_count": 18,
   "id": "b83a4ff2",
   "metadata": {
    "execution": {
     "iopub.execute_input": "2025-05-15T16:15:51.587762Z",
     "iopub.status.busy": "2025-05-15T16:15:51.587135Z",
     "iopub.status.idle": "2025-05-15T16:15:51.591679Z",
     "shell.execute_reply": "2025-05-15T16:15:51.591276Z"
    },
    "papermill": {
     "duration": 0.013362,
     "end_time": "2025-05-15T16:15:51.592677",
     "exception": false,
     "start_time": "2025-05-15T16:15:51.579315",
     "status": "completed"
    },
    "tags": []
   },
   "outputs": [],
   "source": [
    "eval_metric=custom_f1_score\n",
    "eval_metric_name='custom_f1_score'\n",
    "\n",
    "def objective(trial):\n",
    "    params = {\n",
    "        'n_estimators': 1500,\n",
    "        'max_depth': trial.suggest_int('max_depth', 3, 20),\n",
    "        'min_child_weight': trial.suggest_int('min_child_weight', 1, 250),\n",
    "        'subsample': trial.suggest_float('subsample', 0.1, 1.0),\n",
    "        'colsample_bynode': trial.suggest_float('colsample_bynode', 0.1, 1.0),\n",
    "        'learning_rate': trial.suggest_float('learning_rate', 1e-3, 5e-1, log=True),\n",
    "    }\n",
    "    pruning_callback = optuna.integration.XGBoostPruningCallback(trial, f'validation_0-{eval_metric_name}')\n",
    "    es_callback = xgboost.callback.EarlyStopping(20, min_delta=0.001)\n",
    "    xgb = xgboost.XGBClassifier(\n",
    "        eval_metric=eval_metric,\n",
    "        callbacks=[pruning_callback, es_callback],\n",
    "        n_jobs=5,\n",
    "        **params\n",
    "    )\n",
    "    xgb.fit(\n",
    "        X_train, \n",
    "        y_train_enc, \n",
    "        verbose=0,\n",
    "        eval_set=[(X_val, y_val_enc)],\n",
    "    )\n",
    "    trial.set_user_attr('best_iteration', xgb.best_iteration)\n",
    "\n",
    "    return xgb.best_score"
   ]
  },
  {
   "cell_type": "code",
   "execution_count": 19,
   "id": "f212f0b4",
   "metadata": {
    "execution": {
     "iopub.execute_input": "2025-05-15T16:15:51.608619Z",
     "iopub.status.busy": "2025-05-15T16:15:51.608050Z",
     "iopub.status.idle": "2025-05-15T16:16:03.897048Z",
     "shell.execute_reply": "2025-05-15T16:16:03.896558Z"
    },
    "papermill": {
     "duration": 12.298445,
     "end_time": "2025-05-15T16:16:03.898105",
     "exception": false,
     "start_time": "2025-05-15T16:15:51.599660",
     "status": "completed"
    },
    "scrolled": true,
    "tags": []
   },
   "outputs": [
    {
     "name": "stderr",
     "output_type": "stream",
     "text": [
      "[I 2025-05-15 18:15:51,610] A new study created in memory with name: no-name-cf9af84a-4818-4f47-b236-099ded04d84b\n"
     ]
    },
    {
     "name": "stderr",
     "output_type": "stream",
     "text": [
      "[I 2025-05-15 18:15:51,812] Trial 0 finished with value: -0.019167 and parameters: {'max_depth': 9, 'min_child_weight': 238, 'subsample': 0.7587945476302645, 'colsample_bynode': 0.6387926357773329, 'learning_rate': 0.0026368755339723046}. Best is trial 0 with value: -0.019167.\n"
     ]
    },
    {
     "name": "stderr",
     "output_type": "stream",
     "text": [
      "[I 2025-05-15 18:15:52,196] Trial 1 finished with value: -0.484318 and parameters: {'max_depth': 5, 'min_child_weight': 15, 'subsample': 0.8795585311974417, 'colsample_bynode': 0.6410035105688879, 'learning_rate': 0.08148293210105287}. Best is trial 1 with value: -0.484318.\n"
     ]
    },
    {
     "name": "stderr",
     "output_type": "stream",
     "text": [
      "[I 2025-05-15 18:15:52,340] Trial 2 finished with value: -0.019167 and parameters: {'max_depth': 3, 'min_child_weight': 243, 'subsample': 0.8491983767203796, 'colsample_bynode': 0.29110519961044856, 'learning_rate': 0.003095566460242371}. Best is trial 1 with value: -0.484318.\n"
     ]
    },
    {
     "name": "stderr",
     "output_type": "stream",
     "text": [
      "[I 2025-05-15 18:15:52,494] Trial 3 finished with value: -0.019167 and parameters: {'max_depth': 6, 'min_child_weight': 77, 'subsample': 0.5722807884690141, 'colsample_bynode': 0.48875051677790415, 'learning_rate': 0.006109683510122491}. Best is trial 1 with value: -0.484318.\n"
     ]
    },
    {
     "name": "stderr",
     "output_type": "stream",
     "text": [
      "[I 2025-05-15 18:15:52,645] Trial 4 finished with value: -0.019167 and parameters: {'max_depth': 14, 'min_child_weight': 35, 'subsample': 0.3629301836816964, 'colsample_bynode': 0.4297256589643226, 'learning_rate': 0.01701841881702917}. Best is trial 1 with value: -0.484318.\n"
     ]
    },
    {
     "name": "stderr",
     "output_type": "stream",
     "text": [
      "[I 2025-05-15 18:15:52,794] Trial 5 finished with value: -0.019167 and parameters: {'max_depth': 17, 'min_child_weight': 50, 'subsample': 0.5628109945722505, 'colsample_bynode': 0.6331731119758383, 'learning_rate': 0.0013346527038305934}. Best is trial 1 with value: -0.484318.\n"
     ]
    },
    {
     "name": "stderr",
     "output_type": "stream",
     "text": [
      "[I 2025-05-15 18:15:52,954] Trial 6 finished with value: -0.019167 and parameters: {'max_depth': 13, 'min_child_weight': 43, 'subsample': 0.1585464336867516, 'colsample_bynode': 0.9539969835279999, 'learning_rate': 0.4038423798071558}. Best is trial 1 with value: -0.484318.\n"
     ]
    },
    {
     "name": "stderr",
     "output_type": "stream",
     "text": [
      "[I 2025-05-15 18:15:53,104] Trial 7 finished with value: -0.019167 and parameters: {'max_depth': 17, 'min_child_weight': 77, 'subsample': 0.1879049026057455, 'colsample_bynode': 0.7158097238609412, 'learning_rate': 0.015415527060141935}. Best is trial 1 with value: -0.484318.\n"
     ]
    },
    {
     "name": "stderr",
     "output_type": "stream",
     "text": [
      "[I 2025-05-15 18:15:53,263] Trial 8 finished with value: -0.019167 and parameters: {'max_depth': 5, 'min_child_weight': 124, 'subsample': 0.13094966900369656, 'colsample_bynode': 0.9183883618709039, 'learning_rate': 0.004993895014755658}. Best is trial 1 with value: -0.484318.\n"
     ]
    },
    {
     "name": "stderr",
     "output_type": "stream",
     "text": [
      "[I 2025-05-15 18:15:53,438] Trial 9 finished with value: -0.019167 and parameters: {'max_depth': 14, 'min_child_weight': 78, 'subsample': 0.5680612190600297, 'colsample_bynode': 0.5920392514089517, 'learning_rate': 0.0031543990308330965}. Best is trial 1 with value: -0.484318.\n"
     ]
    },
    {
     "name": "stderr",
     "output_type": "stream",
     "text": [
      "[I 2025-05-15 18:15:53,986] Trial 10 finished with value: -0.517493 and parameters: {'max_depth': 9, 'min_child_weight': 2, 'subsample': 0.9725833997090791, 'colsample_bynode': 0.11616568805333755, 'learning_rate': 0.17780618353487967}. Best is trial 10 with value: -0.517493.\n"
     ]
    },
    {
     "name": "stderr",
     "output_type": "stream",
     "text": [
      "[I 2025-05-15 18:15:54,569] Trial 11 finished with value: -0.523939 and parameters: {'max_depth': 9, 'min_child_weight': 4, 'subsample': 0.9818290990185045, 'colsample_bynode': 0.17702656156719, 'learning_rate': 0.11568531411766632}. Best is trial 11 with value: -0.523939.\n"
     ]
    },
    {
     "name": "stderr",
     "output_type": "stream",
     "text": [
      "[I 2025-05-15 18:15:55,088] Trial 12 finished with value: -0.557128 and parameters: {'max_depth': 9, 'min_child_weight': 2, 'subsample': 0.9762317723681219, 'colsample_bynode': 0.1303670507685675, 'learning_rate': 0.14353293664472047}. Best is trial 12 with value: -0.557128.\n"
     ]
    },
    {
     "name": "stderr",
     "output_type": "stream",
     "text": [
      "[I 2025-05-15 18:15:55,240] Trial 13 pruned. Trial was pruned at iteration 20.\n"
     ]
    },
    {
     "name": "stderr",
     "output_type": "stream",
     "text": [
      "[I 2025-05-15 18:15:55,441] Trial 14 finished with value: -0.019167 and parameters: {'max_depth': 7, 'min_child_weight': 127, 'subsample': 0.7205729667945842, 'colsample_bynode': 0.2618040655423697, 'learning_rate': 0.049429871639666105}. Best is trial 12 with value: -0.557128.\n"
     ]
    },
    {
     "name": "stderr",
     "output_type": "stream",
     "text": [
      "[I 2025-05-15 18:15:55,796] Trial 15 finished with value: -0.523921 and parameters: {'max_depth': 20, 'min_child_weight': 1, 'subsample': 0.7300199336663715, 'colsample_bynode': 0.2687793682900305, 'learning_rate': 0.46839194821741}. Best is trial 12 with value: -0.557128.\n"
     ]
    },
    {
     "name": "stderr",
     "output_type": "stream",
     "text": [
      "[I 2025-05-15 18:15:55,974] Trial 16 pruned. Trial was pruned at iteration 20.\n"
     ]
    },
    {
     "name": "stderr",
     "output_type": "stream",
     "text": [
      "[I 2025-05-15 18:15:56,131] Trial 17 pruned. Trial was pruned at iteration 20.\n"
     ]
    },
    {
     "name": "stderr",
     "output_type": "stream",
     "text": [
      "[I 2025-05-15 18:15:56,317] Trial 18 pruned. Trial was pruned at iteration 20.\n"
     ]
    },
    {
     "name": "stderr",
     "output_type": "stream",
     "text": [
      "[I 2025-05-15 18:15:56,483] Trial 19 pruned. Trial was pruned at iteration 20.\n"
     ]
    },
    {
     "name": "stderr",
     "output_type": "stream",
     "text": [
      "[I 2025-05-15 18:15:56,654] Trial 20 pruned. Trial was pruned at iteration 20.\n"
     ]
    },
    {
     "name": "stderr",
     "output_type": "stream",
     "text": [
      "[I 2025-05-15 18:15:57,072] Trial 21 finished with value: -0.530067 and parameters: {'max_depth': 17, 'min_child_weight': 1, 'subsample': 0.689682999629431, 'colsample_bynode': 0.19119727298237837, 'learning_rate': 0.4199161156549657}. Best is trial 12 with value: -0.557128.\n"
     ]
    },
    {
     "name": "stderr",
     "output_type": "stream",
     "text": [
      "[I 2025-05-15 18:15:57,247] Trial 22 finished with value: -0.019167 and parameters: {'max_depth': 16, 'min_child_weight': 56, 'subsample': 0.4225512563114876, 'colsample_bynode': 0.17670302688636075, 'learning_rate': 0.3034404100354848}. Best is trial 12 with value: -0.557128.\n"
     ]
    },
    {
     "name": "stderr",
     "output_type": "stream",
     "text": [
      "[I 2025-05-15 18:15:57,450] Trial 23 pruned. Trial was pruned at iteration 21.\n"
     ]
    },
    {
     "name": "stderr",
     "output_type": "stream",
     "text": [
      "[I 2025-05-15 18:15:57,637] Trial 24 finished with value: -0.019167 and parameters: {'max_depth': 10, 'min_child_weight': 61, 'subsample': 0.6905731603156596, 'colsample_bynode': 0.3570727728603251, 'learning_rate': 0.035905133041901835}. Best is trial 12 with value: -0.557128.\n"
     ]
    },
    {
     "name": "stderr",
     "output_type": "stream",
     "text": [
      "[I 2025-05-15 18:15:58,064] Trial 25 finished with value: -0.537738 and parameters: {'max_depth': 16, 'min_child_weight': 2, 'subsample': 0.8011628199914544, 'colsample_bynode': 0.10280176074026486, 'learning_rate': 0.2575492716162671}. Best is trial 12 with value: -0.557128.\n"
     ]
    },
    {
     "name": "stderr",
     "output_type": "stream",
     "text": [
      "[I 2025-05-15 18:15:58,243] Trial 26 pruned. Trial was pruned at iteration 20.\n"
     ]
    },
    {
     "name": "stderr",
     "output_type": "stream",
     "text": [
      "[I 2025-05-15 18:15:58,429] Trial 27 finished with value: -0.019167 and parameters: {'max_depth': 15, 'min_child_weight': 165, 'subsample': 0.65114718574497, 'colsample_bynode': 0.24776507063095754, 'learning_rate': 0.4651155082726538}. Best is trial 12 with value: -0.557128.\n"
     ]
    },
    {
     "name": "stderr",
     "output_type": "stream",
     "text": [
      "[I 2025-05-15 18:15:58,599] Trial 28 pruned. Trial was pruned at iteration 20.\n"
     ]
    },
    {
     "name": "stderr",
     "output_type": "stream",
     "text": [
      "[I 2025-05-15 18:15:58,805] Trial 29 finished with value: -0.153245 and parameters: {'max_depth': 19, 'min_child_weight': 26, 'subsample': 0.4894353144415871, 'colsample_bynode': 0.41232146842405126, 'learning_rate': 0.0658838570547264}. Best is trial 12 with value: -0.557128.\n"
     ]
    },
    {
     "name": "stderr",
     "output_type": "stream",
     "text": [
      "[I 2025-05-15 18:15:58,962] Trial 30 finished with value: -0.019167 and parameters: {'max_depth': 15, 'min_child_weight': 150, 'subsample': 0.7626637791897475, 'colsample_bynode': 0.10051539678272256, 'learning_rate': 0.36333297975314727}. Best is trial 12 with value: -0.557128.\n"
     ]
    },
    {
     "name": "stderr",
     "output_type": "stream",
     "text": [
      "[I 2025-05-15 18:15:59,302] Trial 31 pruned. Trial was pruned at iteration 21.\n"
     ]
    },
    {
     "name": "stderr",
     "output_type": "stream",
     "text": [
      "[I 2025-05-15 18:15:59,525] Trial 32 pruned. Trial was pruned at iteration 20.\n"
     ]
    },
    {
     "name": "stderr",
     "output_type": "stream",
     "text": [
      "[I 2025-05-15 18:15:59,716] Trial 33 pruned. Trial was pruned at iteration 20.\n"
     ]
    },
    {
     "name": "stderr",
     "output_type": "stream",
     "text": [
      "[I 2025-05-15 18:15:59,881] Trial 34 finished with value: -0.153245 and parameters: {'max_depth': 12, 'min_child_weight': 63, 'subsample': 0.9214382859219735, 'colsample_bynode': 0.15447545705286705, 'learning_rate': 0.21204273518658162}. Best is trial 12 with value: -0.557128.\n"
     ]
    },
    {
     "name": "stderr",
     "output_type": "stream",
     "text": [
      "[I 2025-05-15 18:16:00,109] Trial 35 pruned. Trial was pruned at iteration 20.\n"
     ]
    },
    {
     "name": "stderr",
     "output_type": "stream",
     "text": [
      "[I 2025-05-15 18:16:00,281] Trial 36 finished with value: -0.153245 and parameters: {'max_depth': 16, 'min_child_weight': 43, 'subsample': 0.8222866339086721, 'colsample_bynode': 0.1553127801900881, 'learning_rate': 0.04457901322069355}. Best is trial 12 with value: -0.557128.\n"
     ]
    },
    {
     "name": "stderr",
     "output_type": "stream",
     "text": [
      "[I 2025-05-15 18:16:00,799] Trial 37 finished with value: -0.584783 and parameters: {'max_depth': 6, 'min_child_weight': 1, 'subsample': 0.7620776624545702, 'colsample_bynode': 0.5461932952444077, 'learning_rate': 0.32463240936203924}. Best is trial 37 with value: -0.584783.\n"
     ]
    },
    {
     "name": "stderr",
     "output_type": "stream",
     "text": [
      "[I 2025-05-15 18:16:00,970] Trial 38 pruned. Trial was pruned at iteration 20.\n"
     ]
    },
    {
     "name": "stderr",
     "output_type": "stream",
     "text": [
      "[I 2025-05-15 18:16:01,151] Trial 39 pruned. Trial was pruned at iteration 20.\n"
     ]
    },
    {
     "name": "stderr",
     "output_type": "stream",
     "text": [
      "[I 2025-05-15 18:16:01,328] Trial 40 pruned. Trial was pruned at iteration 20.\n"
     ]
    },
    {
     "name": "stderr",
     "output_type": "stream",
     "text": [
      "[I 2025-05-15 18:16:01,537] Trial 41 pruned. Trial was pruned at iteration 20.\n"
     ]
    },
    {
     "name": "stderr",
     "output_type": "stream",
     "text": [
      "[I 2025-05-15 18:16:02,037] Trial 42 pruned. Trial was pruned at iteration 21.\n"
     ]
    },
    {
     "name": "stderr",
     "output_type": "stream",
     "text": [
      "[I 2025-05-15 18:16:02,213] Trial 43 pruned. Trial was pruned at iteration 20.\n"
     ]
    },
    {
     "name": "stderr",
     "output_type": "stream",
     "text": [
      "[I 2025-05-15 18:16:02,386] Trial 44 finished with value: -0.019167 and parameters: {'max_depth': 6, 'min_child_weight': 229, 'subsample': 0.9300443733714387, 'colsample_bynode': 0.14762051884252497, 'learning_rate': 0.14263030026767498}. Best is trial 37 with value: -0.584783.\n"
     ]
    },
    {
     "name": "stderr",
     "output_type": "stream",
     "text": [
      "[I 2025-05-15 18:16:02,613] Trial 45 pruned. Trial was pruned at iteration 20.\n"
     ]
    },
    {
     "name": "stderr",
     "output_type": "stream",
     "text": [
      "[I 2025-05-15 18:16:02,783] Trial 46 finished with value: -0.153245 and parameters: {'max_depth': 17, 'min_child_weight': 43, 'subsample': 0.9935596864265932, 'colsample_bynode': 0.28208243928459964, 'learning_rate': 0.0017640765324178564}. Best is trial 37 with value: -0.584783.\n"
     ]
    },
    {
     "name": "stderr",
     "output_type": "stream",
     "text": [
      "[I 2025-05-15 18:16:03,444] Trial 47 finished with value: -0.525108 and parameters: {'max_depth': 13, 'min_child_weight': 1, 'subsample': 0.8780896307844237, 'colsample_bynode': 0.8607199130156584, 'learning_rate': 0.2567591976716668}. Best is trial 37 with value: -0.584783.\n"
     ]
    },
    {
     "name": "stderr",
     "output_type": "stream",
     "text": [
      "[I 2025-05-15 18:16:03,621] Trial 48 finished with value: -0.019167 and parameters: {'max_depth': 14, 'min_child_weight': 69, 'subsample': 0.7535255925040305, 'colsample_bynode': 0.8734742877753408, 'learning_rate': 0.25078819163875204}. Best is trial 37 with value: -0.584783.\n"
     ]
    },
    {
     "name": "stderr",
     "output_type": "stream",
     "text": [
      "[I 2025-05-15 18:16:03,813] Trial 49 pruned. Trial was pruned at iteration 20.\n"
     ]
    }
   ],
   "source": [
    "sampler = optuna.samplers.TPESampler(seed=42)\n",
    "study = optuna.create_study(direction='minimize', sampler=sampler)\n",
    "study.optimize(objective, n_trials=N_TRIALS, gc_after_trial=True)"
   ]
  },
  {
   "cell_type": "code",
   "execution_count": 20,
   "id": "828c98ff",
   "metadata": {
    "execution": {
     "iopub.execute_input": "2025-05-15T16:16:03.918018Z",
     "iopub.status.busy": "2025-05-15T16:16:03.917281Z",
     "iopub.status.idle": "2025-05-15T16:16:03.948922Z",
     "shell.execute_reply": "2025-05-15T16:16:03.948498Z"
    },
    "papermill": {
     "duration": 0.042183,
     "end_time": "2025-05-15T16:16:03.950100",
     "exception": false,
     "start_time": "2025-05-15T16:16:03.907917",
     "status": "completed"
    },
    "tags": []
   },
   "outputs": [
    {
     "data": {
      "text/plain": [
       "['/scratch_isilon/groups/singlecell/shared/projects/Inflammation-PBMCs-Atlas/03_downstream_analysis/08_gene_importance/xgboost_external_validation/xgboost_TopN_genes/results_20/study/Plasma_19_0_xgboost.pkl']"
      ]
     },
     "execution_count": 20,
     "metadata": {},
     "output_type": "execute_result"
    }
   ],
   "source": [
    "out_dir = here(f'03_downstream_analysis/08_gene_importance/xgboost_external_validation/xgboost_TopN_genes/results_{N_GENES}/study')\n",
    "\n",
    "if not os.path.exists(out_dir):\n",
    "    os.makedirs(out_dir)\n",
    "    \n",
    "joblib.dump(study,os.path.join(out_dir, f'{CELL_TYPE}_{SEED}_{TEST_SPLIT_IDX}_xgboost.pkl'))"
   ]
  },
  {
   "cell_type": "code",
   "execution_count": 21,
   "id": "233f7bc4",
   "metadata": {
    "execution": {
     "iopub.execute_input": "2025-05-15T16:16:03.968356Z",
     "iopub.status.busy": "2025-05-15T16:16:03.967950Z",
     "iopub.status.idle": "2025-05-15T16:16:04.257414Z",
     "shell.execute_reply": "2025-05-15T16:16:04.256992Z"
    },
    "papermill": {
     "duration": 0.29971,
     "end_time": "2025-05-15T16:16:04.258420",
     "exception": false,
     "start_time": "2025-05-15T16:16:03.958710",
     "status": "completed"
    },
    "tags": []
   },
   "outputs": [
    {
     "data": {
      "text/html": [
       "<style>#sk-container-id-1 {\n",
       "  /* Definition of color scheme common for light and dark mode */\n",
       "  --sklearn-color-text: black;\n",
       "  --sklearn-color-line: gray;\n",
       "  /* Definition of color scheme for unfitted estimators */\n",
       "  --sklearn-color-unfitted-level-0: #fff5e6;\n",
       "  --sklearn-color-unfitted-level-1: #f6e4d2;\n",
       "  --sklearn-color-unfitted-level-2: #ffe0b3;\n",
       "  --sklearn-color-unfitted-level-3: chocolate;\n",
       "  /* Definition of color scheme for fitted estimators */\n",
       "  --sklearn-color-fitted-level-0: #f0f8ff;\n",
       "  --sklearn-color-fitted-level-1: #d4ebff;\n",
       "  --sklearn-color-fitted-level-2: #b3dbfd;\n",
       "  --sklearn-color-fitted-level-3: cornflowerblue;\n",
       "\n",
       "  /* Specific color for light theme */\n",
       "  --sklearn-color-text-on-default-background: var(--sg-text-color, var(--theme-code-foreground, var(--jp-content-font-color1, black)));\n",
       "  --sklearn-color-background: var(--sg-background-color, var(--theme-background, var(--jp-layout-color0, white)));\n",
       "  --sklearn-color-border-box: var(--sg-text-color, var(--theme-code-foreground, var(--jp-content-font-color1, black)));\n",
       "  --sklearn-color-icon: #696969;\n",
       "\n",
       "  @media (prefers-color-scheme: dark) {\n",
       "    /* Redefinition of color scheme for dark theme */\n",
       "    --sklearn-color-text-on-default-background: var(--sg-text-color, var(--theme-code-foreground, var(--jp-content-font-color1, white)));\n",
       "    --sklearn-color-background: var(--sg-background-color, var(--theme-background, var(--jp-layout-color0, #111)));\n",
       "    --sklearn-color-border-box: var(--sg-text-color, var(--theme-code-foreground, var(--jp-content-font-color1, white)));\n",
       "    --sklearn-color-icon: #878787;\n",
       "  }\n",
       "}\n",
       "\n",
       "#sk-container-id-1 {\n",
       "  color: var(--sklearn-color-text);\n",
       "}\n",
       "\n",
       "#sk-container-id-1 pre {\n",
       "  padding: 0;\n",
       "}\n",
       "\n",
       "#sk-container-id-1 input.sk-hidden--visually {\n",
       "  border: 0;\n",
       "  clip: rect(1px 1px 1px 1px);\n",
       "  clip: rect(1px, 1px, 1px, 1px);\n",
       "  height: 1px;\n",
       "  margin: -1px;\n",
       "  overflow: hidden;\n",
       "  padding: 0;\n",
       "  position: absolute;\n",
       "  width: 1px;\n",
       "}\n",
       "\n",
       "#sk-container-id-1 div.sk-dashed-wrapped {\n",
       "  border: 1px dashed var(--sklearn-color-line);\n",
       "  margin: 0 0.4em 0.5em 0.4em;\n",
       "  box-sizing: border-box;\n",
       "  padding-bottom: 0.4em;\n",
       "  background-color: var(--sklearn-color-background);\n",
       "}\n",
       "\n",
       "#sk-container-id-1 div.sk-container {\n",
       "  /* jupyter's `normalize.less` sets `[hidden] { display: none; }`\n",
       "     but bootstrap.min.css set `[hidden] { display: none !important; }`\n",
       "     so we also need the `!important` here to be able to override the\n",
       "     default hidden behavior on the sphinx rendered scikit-learn.org.\n",
       "     See: https://github.com/scikit-learn/scikit-learn/issues/21755 */\n",
       "  display: inline-block !important;\n",
       "  position: relative;\n",
       "}\n",
       "\n",
       "#sk-container-id-1 div.sk-text-repr-fallback {\n",
       "  display: none;\n",
       "}\n",
       "\n",
       "div.sk-parallel-item,\n",
       "div.sk-serial,\n",
       "div.sk-item {\n",
       "  /* draw centered vertical line to link estimators */\n",
       "  background-image: linear-gradient(var(--sklearn-color-text-on-default-background), var(--sklearn-color-text-on-default-background));\n",
       "  background-size: 2px 100%;\n",
       "  background-repeat: no-repeat;\n",
       "  background-position: center center;\n",
       "}\n",
       "\n",
       "/* Parallel-specific style estimator block */\n",
       "\n",
       "#sk-container-id-1 div.sk-parallel-item::after {\n",
       "  content: \"\";\n",
       "  width: 100%;\n",
       "  border-bottom: 2px solid var(--sklearn-color-text-on-default-background);\n",
       "  flex-grow: 1;\n",
       "}\n",
       "\n",
       "#sk-container-id-1 div.sk-parallel {\n",
       "  display: flex;\n",
       "  align-items: stretch;\n",
       "  justify-content: center;\n",
       "  background-color: var(--sklearn-color-background);\n",
       "  position: relative;\n",
       "}\n",
       "\n",
       "#sk-container-id-1 div.sk-parallel-item {\n",
       "  display: flex;\n",
       "  flex-direction: column;\n",
       "}\n",
       "\n",
       "#sk-container-id-1 div.sk-parallel-item:first-child::after {\n",
       "  align-self: flex-end;\n",
       "  width: 50%;\n",
       "}\n",
       "\n",
       "#sk-container-id-1 div.sk-parallel-item:last-child::after {\n",
       "  align-self: flex-start;\n",
       "  width: 50%;\n",
       "}\n",
       "\n",
       "#sk-container-id-1 div.sk-parallel-item:only-child::after {\n",
       "  width: 0;\n",
       "}\n",
       "\n",
       "/* Serial-specific style estimator block */\n",
       "\n",
       "#sk-container-id-1 div.sk-serial {\n",
       "  display: flex;\n",
       "  flex-direction: column;\n",
       "  align-items: center;\n",
       "  background-color: var(--sklearn-color-background);\n",
       "  padding-right: 1em;\n",
       "  padding-left: 1em;\n",
       "}\n",
       "\n",
       "\n",
       "/* Toggleable style: style used for estimator/Pipeline/ColumnTransformer box that is\n",
       "clickable and can be expanded/collapsed.\n",
       "- Pipeline and ColumnTransformer use this feature and define the default style\n",
       "- Estimators will overwrite some part of the style using the `sk-estimator` class\n",
       "*/\n",
       "\n",
       "/* Pipeline and ColumnTransformer style (default) */\n",
       "\n",
       "#sk-container-id-1 div.sk-toggleable {\n",
       "  /* Default theme specific background. It is overwritten whether we have a\n",
       "  specific estimator or a Pipeline/ColumnTransformer */\n",
       "  background-color: var(--sklearn-color-background);\n",
       "}\n",
       "\n",
       "/* Toggleable label */\n",
       "#sk-container-id-1 label.sk-toggleable__label {\n",
       "  cursor: pointer;\n",
       "  display: block;\n",
       "  width: 100%;\n",
       "  margin-bottom: 0;\n",
       "  padding: 0.5em;\n",
       "  box-sizing: border-box;\n",
       "  text-align: center;\n",
       "}\n",
       "\n",
       "#sk-container-id-1 label.sk-toggleable__label-arrow:before {\n",
       "  /* Arrow on the left of the label */\n",
       "  content: \"▸\";\n",
       "  float: left;\n",
       "  margin-right: 0.25em;\n",
       "  color: var(--sklearn-color-icon);\n",
       "}\n",
       "\n",
       "#sk-container-id-1 label.sk-toggleable__label-arrow:hover:before {\n",
       "  color: var(--sklearn-color-text);\n",
       "}\n",
       "\n",
       "/* Toggleable content - dropdown */\n",
       "\n",
       "#sk-container-id-1 div.sk-toggleable__content {\n",
       "  max-height: 0;\n",
       "  max-width: 0;\n",
       "  overflow: hidden;\n",
       "  text-align: left;\n",
       "  /* unfitted */\n",
       "  background-color: var(--sklearn-color-unfitted-level-0);\n",
       "}\n",
       "\n",
       "#sk-container-id-1 div.sk-toggleable__content.fitted {\n",
       "  /* fitted */\n",
       "  background-color: var(--sklearn-color-fitted-level-0);\n",
       "}\n",
       "\n",
       "#sk-container-id-1 div.sk-toggleable__content pre {\n",
       "  margin: 0.2em;\n",
       "  border-radius: 0.25em;\n",
       "  color: var(--sklearn-color-text);\n",
       "  /* unfitted */\n",
       "  background-color: var(--sklearn-color-unfitted-level-0);\n",
       "}\n",
       "\n",
       "#sk-container-id-1 div.sk-toggleable__content.fitted pre {\n",
       "  /* unfitted */\n",
       "  background-color: var(--sklearn-color-fitted-level-0);\n",
       "}\n",
       "\n",
       "#sk-container-id-1 input.sk-toggleable__control:checked~div.sk-toggleable__content {\n",
       "  /* Expand drop-down */\n",
       "  max-height: 200px;\n",
       "  max-width: 100%;\n",
       "  overflow: auto;\n",
       "}\n",
       "\n",
       "#sk-container-id-1 input.sk-toggleable__control:checked~label.sk-toggleable__label-arrow:before {\n",
       "  content: \"▾\";\n",
       "}\n",
       "\n",
       "/* Pipeline/ColumnTransformer-specific style */\n",
       "\n",
       "#sk-container-id-1 div.sk-label input.sk-toggleable__control:checked~label.sk-toggleable__label {\n",
       "  color: var(--sklearn-color-text);\n",
       "  background-color: var(--sklearn-color-unfitted-level-2);\n",
       "}\n",
       "\n",
       "#sk-container-id-1 div.sk-label.fitted input.sk-toggleable__control:checked~label.sk-toggleable__label {\n",
       "  background-color: var(--sklearn-color-fitted-level-2);\n",
       "}\n",
       "\n",
       "/* Estimator-specific style */\n",
       "\n",
       "/* Colorize estimator box */\n",
       "#sk-container-id-1 div.sk-estimator input.sk-toggleable__control:checked~label.sk-toggleable__label {\n",
       "  /* unfitted */\n",
       "  background-color: var(--sklearn-color-unfitted-level-2);\n",
       "}\n",
       "\n",
       "#sk-container-id-1 div.sk-estimator.fitted input.sk-toggleable__control:checked~label.sk-toggleable__label {\n",
       "  /* fitted */\n",
       "  background-color: var(--sklearn-color-fitted-level-2);\n",
       "}\n",
       "\n",
       "#sk-container-id-1 div.sk-label label.sk-toggleable__label,\n",
       "#sk-container-id-1 div.sk-label label {\n",
       "  /* The background is the default theme color */\n",
       "  color: var(--sklearn-color-text-on-default-background);\n",
       "}\n",
       "\n",
       "/* On hover, darken the color of the background */\n",
       "#sk-container-id-1 div.sk-label:hover label.sk-toggleable__label {\n",
       "  color: var(--sklearn-color-text);\n",
       "  background-color: var(--sklearn-color-unfitted-level-2);\n",
       "}\n",
       "\n",
       "/* Label box, darken color on hover, fitted */\n",
       "#sk-container-id-1 div.sk-label.fitted:hover label.sk-toggleable__label.fitted {\n",
       "  color: var(--sklearn-color-text);\n",
       "  background-color: var(--sklearn-color-fitted-level-2);\n",
       "}\n",
       "\n",
       "/* Estimator label */\n",
       "\n",
       "#sk-container-id-1 div.sk-label label {\n",
       "  font-family: monospace;\n",
       "  font-weight: bold;\n",
       "  display: inline-block;\n",
       "  line-height: 1.2em;\n",
       "}\n",
       "\n",
       "#sk-container-id-1 div.sk-label-container {\n",
       "  text-align: center;\n",
       "}\n",
       "\n",
       "/* Estimator-specific */\n",
       "#sk-container-id-1 div.sk-estimator {\n",
       "  font-family: monospace;\n",
       "  border: 1px dotted var(--sklearn-color-border-box);\n",
       "  border-radius: 0.25em;\n",
       "  box-sizing: border-box;\n",
       "  margin-bottom: 0.5em;\n",
       "  /* unfitted */\n",
       "  background-color: var(--sklearn-color-unfitted-level-0);\n",
       "}\n",
       "\n",
       "#sk-container-id-1 div.sk-estimator.fitted {\n",
       "  /* fitted */\n",
       "  background-color: var(--sklearn-color-fitted-level-0);\n",
       "}\n",
       "\n",
       "/* on hover */\n",
       "#sk-container-id-1 div.sk-estimator:hover {\n",
       "  /* unfitted */\n",
       "  background-color: var(--sklearn-color-unfitted-level-2);\n",
       "}\n",
       "\n",
       "#sk-container-id-1 div.sk-estimator.fitted:hover {\n",
       "  /* fitted */\n",
       "  background-color: var(--sklearn-color-fitted-level-2);\n",
       "}\n",
       "\n",
       "/* Specification for estimator info (e.g. \"i\" and \"?\") */\n",
       "\n",
       "/* Common style for \"i\" and \"?\" */\n",
       "\n",
       ".sk-estimator-doc-link,\n",
       "a:link.sk-estimator-doc-link,\n",
       "a:visited.sk-estimator-doc-link {\n",
       "  float: right;\n",
       "  font-size: smaller;\n",
       "  line-height: 1em;\n",
       "  font-family: monospace;\n",
       "  background-color: var(--sklearn-color-background);\n",
       "  border-radius: 1em;\n",
       "  height: 1em;\n",
       "  width: 1em;\n",
       "  text-decoration: none !important;\n",
       "  margin-left: 1ex;\n",
       "  /* unfitted */\n",
       "  border: var(--sklearn-color-unfitted-level-1) 1pt solid;\n",
       "  color: var(--sklearn-color-unfitted-level-1);\n",
       "}\n",
       "\n",
       ".sk-estimator-doc-link.fitted,\n",
       "a:link.sk-estimator-doc-link.fitted,\n",
       "a:visited.sk-estimator-doc-link.fitted {\n",
       "  /* fitted */\n",
       "  border: var(--sklearn-color-fitted-level-1) 1pt solid;\n",
       "  color: var(--sklearn-color-fitted-level-1);\n",
       "}\n",
       "\n",
       "/* On hover */\n",
       "div.sk-estimator:hover .sk-estimator-doc-link:hover,\n",
       ".sk-estimator-doc-link:hover,\n",
       "div.sk-label-container:hover .sk-estimator-doc-link:hover,\n",
       ".sk-estimator-doc-link:hover {\n",
       "  /* unfitted */\n",
       "  background-color: var(--sklearn-color-unfitted-level-3);\n",
       "  color: var(--sklearn-color-background);\n",
       "  text-decoration: none;\n",
       "}\n",
       "\n",
       "div.sk-estimator.fitted:hover .sk-estimator-doc-link.fitted:hover,\n",
       ".sk-estimator-doc-link.fitted:hover,\n",
       "div.sk-label-container:hover .sk-estimator-doc-link.fitted:hover,\n",
       ".sk-estimator-doc-link.fitted:hover {\n",
       "  /* fitted */\n",
       "  background-color: var(--sklearn-color-fitted-level-3);\n",
       "  color: var(--sklearn-color-background);\n",
       "  text-decoration: none;\n",
       "}\n",
       "\n",
       "/* Span, style for the box shown on hovering the info icon */\n",
       ".sk-estimator-doc-link span {\n",
       "  display: none;\n",
       "  z-index: 9999;\n",
       "  position: relative;\n",
       "  font-weight: normal;\n",
       "  right: .2ex;\n",
       "  padding: .5ex;\n",
       "  margin: .5ex;\n",
       "  width: min-content;\n",
       "  min-width: 20ex;\n",
       "  max-width: 50ex;\n",
       "  color: var(--sklearn-color-text);\n",
       "  box-shadow: 2pt 2pt 4pt #999;\n",
       "  /* unfitted */\n",
       "  background: var(--sklearn-color-unfitted-level-0);\n",
       "  border: .5pt solid var(--sklearn-color-unfitted-level-3);\n",
       "}\n",
       "\n",
       ".sk-estimator-doc-link.fitted span {\n",
       "  /* fitted */\n",
       "  background: var(--sklearn-color-fitted-level-0);\n",
       "  border: var(--sklearn-color-fitted-level-3);\n",
       "}\n",
       "\n",
       ".sk-estimator-doc-link:hover span {\n",
       "  display: block;\n",
       "}\n",
       "\n",
       "/* \"?\"-specific style due to the `<a>` HTML tag */\n",
       "\n",
       "#sk-container-id-1 a.estimator_doc_link {\n",
       "  float: right;\n",
       "  font-size: 1rem;\n",
       "  line-height: 1em;\n",
       "  font-family: monospace;\n",
       "  background-color: var(--sklearn-color-background);\n",
       "  border-radius: 1rem;\n",
       "  height: 1rem;\n",
       "  width: 1rem;\n",
       "  text-decoration: none;\n",
       "  /* unfitted */\n",
       "  color: var(--sklearn-color-unfitted-level-1);\n",
       "  border: var(--sklearn-color-unfitted-level-1) 1pt solid;\n",
       "}\n",
       "\n",
       "#sk-container-id-1 a.estimator_doc_link.fitted {\n",
       "  /* fitted */\n",
       "  border: var(--sklearn-color-fitted-level-1) 1pt solid;\n",
       "  color: var(--sklearn-color-fitted-level-1);\n",
       "}\n",
       "\n",
       "/* On hover */\n",
       "#sk-container-id-1 a.estimator_doc_link:hover {\n",
       "  /* unfitted */\n",
       "  background-color: var(--sklearn-color-unfitted-level-3);\n",
       "  color: var(--sklearn-color-background);\n",
       "  text-decoration: none;\n",
       "}\n",
       "\n",
       "#sk-container-id-1 a.estimator_doc_link.fitted:hover {\n",
       "  /* fitted */\n",
       "  background-color: var(--sklearn-color-fitted-level-3);\n",
       "}\n",
       "</style><div id=\"sk-container-id-1\" class=\"sk-top-container\"><div class=\"sk-text-repr-fallback\"><pre>XGBClassifier(base_score=None, booster=None, callbacks=None,\n",
       "              colsample_bylevel=None, colsample_bynode=0.5461932952444077,\n",
       "              colsample_bytree=None, device=None, early_stopping_rounds=None,\n",
       "              enable_categorical=False,\n",
       "              eval_metric=&lt;function custom_f1_score at 0x7fad58360540&gt;,\n",
       "              feature_types=None, gamma=None, grow_policy=None,\n",
       "              importance_type=None, interaction_constraints=None,\n",
       "              learning_rate=0.32463240936203924, max_bin=None,\n",
       "              max_cat_threshold=None, max_cat_to_onehot=None,\n",
       "              max_delta_step=None, max_depth=6, max_leaves=None,\n",
       "              min_child_weight=1, missing=nan, monotone_constraints=None,\n",
       "              multi_strategy=None, n_estimators=20, n_jobs=None,\n",
       "              num_parallel_tree=None, objective=&#x27;multi:softprob&#x27;, ...)</pre><b>In a Jupyter environment, please rerun this cell to show the HTML representation or trust the notebook. <br />On GitHub, the HTML representation is unable to render, please try loading this page with nbviewer.org.</b></div><div class=\"sk-container\" hidden><div class=\"sk-item\"><div class=\"sk-estimator fitted sk-toggleable\"><input class=\"sk-toggleable__control sk-hidden--visually\" id=\"sk-estimator-id-1\" type=\"checkbox\" checked><label for=\"sk-estimator-id-1\" class=\"sk-toggleable__label fitted sk-toggleable__label-arrow fitted\">&nbsp;XGBClassifier<span class=\"sk-estimator-doc-link fitted\">i<span>Fitted</span></span></label><div class=\"sk-toggleable__content fitted\"><pre>XGBClassifier(base_score=None, booster=None, callbacks=None,\n",
       "              colsample_bylevel=None, colsample_bynode=0.5461932952444077,\n",
       "              colsample_bytree=None, device=None, early_stopping_rounds=None,\n",
       "              enable_categorical=False,\n",
       "              eval_metric=&lt;function custom_f1_score at 0x7fad58360540&gt;,\n",
       "              feature_types=None, gamma=None, grow_policy=None,\n",
       "              importance_type=None, interaction_constraints=None,\n",
       "              learning_rate=0.32463240936203924, max_bin=None,\n",
       "              max_cat_threshold=None, max_cat_to_onehot=None,\n",
       "              max_delta_step=None, max_depth=6, max_leaves=None,\n",
       "              min_child_weight=1, missing=nan, monotone_constraints=None,\n",
       "              multi_strategy=None, n_estimators=20, n_jobs=None,\n",
       "              num_parallel_tree=None, objective=&#x27;multi:softprob&#x27;, ...)</pre></div> </div></div></div></div>"
      ],
      "text/plain": [
       "XGBClassifier(base_score=None, booster=None, callbacks=None,\n",
       "              colsample_bylevel=None, colsample_bynode=0.5461932952444077,\n",
       "              colsample_bytree=None, device=None, early_stopping_rounds=None,\n",
       "              enable_categorical=False,\n",
       "              eval_metric=<function custom_f1_score at 0x7fad58360540>,\n",
       "              feature_types=None, gamma=None, grow_policy=None,\n",
       "              importance_type=None, interaction_constraints=None,\n",
       "              learning_rate=0.32463240936203924, max_bin=None,\n",
       "              max_cat_threshold=None, max_cat_to_onehot=None,\n",
       "              max_delta_step=None, max_depth=6, max_leaves=None,\n",
       "              min_child_weight=1, missing=nan, monotone_constraints=None,\n",
       "              multi_strategy=None, n_estimators=20, n_jobs=None,\n",
       "              num_parallel_tree=None, objective='multi:softprob', ...)"
      ]
     },
     "execution_count": 21,
     "metadata": {},
     "output_type": "execute_result"
    }
   ],
   "source": [
    "n_estimators = int(study.best_trial.user_attrs['best_iteration']*1.2)\n",
    "xgb = xgboost.XGBClassifier(\n",
    "        eval_metric=eval_metric,\n",
    "        n_estimators=n_estimators,\n",
    "        **study.best_trial.params\n",
    "    )\n",
    "xgb.fit(\n",
    "    ssp.vstack((X_train, X_val)), \n",
    "    np.concatenate((y_train_enc, y_val_enc)),\n",
    "    verbose=1,\n",
    ")"
   ]
  },
  {
   "cell_type": "code",
   "execution_count": 22,
   "id": "56b31c7d",
   "metadata": {
    "execution": {
     "iopub.execute_input": "2025-05-15T16:16:04.279459Z",
     "iopub.status.busy": "2025-05-15T16:16:04.278889Z",
     "iopub.status.idle": "2025-05-15T16:16:04.292127Z",
     "shell.execute_reply": "2025-05-15T16:16:04.291734Z"
    },
    "papermill": {
     "duration": 0.024805,
     "end_time": "2025-05-15T16:16:04.293077",
     "exception": false,
     "start_time": "2025-05-15T16:16:04.268272",
     "status": "completed"
    },
    "tags": []
   },
   "outputs": [
    {
     "data": {
      "text/plain": [
       "['/scratch_isilon/groups/singlecell/shared/projects/Inflammation-PBMCs-Atlas/03_downstream_analysis/08_gene_importance/xgboost_external_validation/xgboost_TopN_genes/results_20/best_model/Plasma_19_0_xgb.json']"
      ]
     },
     "execution_count": 22,
     "metadata": {},
     "output_type": "execute_result"
    }
   ],
   "source": [
    "out_dir = here(f'03_downstream_analysis/08_gene_importance/xgboost_external_validation/xgboost_TopN_genes/results_{N_GENES}/best_model')\n",
    "\n",
    "if not os.path.exists(out_dir):\n",
    "    os.makedirs(out_dir)\n",
    "    \n",
    "joblib.dump(xgb, os.path.join(out_dir, f'{CELL_TYPE}_{SEED}_{TEST_SPLIT_IDX}_xgb.json'))"
   ]
  },
  {
   "cell_type": "code",
   "execution_count": 23,
   "id": "8f9ec1b0",
   "metadata": {
    "execution": {
     "iopub.execute_input": "2025-05-15T16:16:04.313650Z",
     "iopub.status.busy": "2025-05-15T16:16:04.313332Z",
     "iopub.status.idle": "2025-05-15T16:16:04.319785Z",
     "shell.execute_reply": "2025-05-15T16:16:04.319376Z"
    },
    "papermill": {
     "duration": 0.020701,
     "end_time": "2025-05-15T16:16:04.323178",
     "exception": false,
     "start_time": "2025-05-15T16:16:04.302477",
     "status": "completed"
    },
    "tags": []
   },
   "outputs": [],
   "source": [
    "df_pred_test = pd.DataFrame(dict(\n",
    "    cell_id=train_adata.obs.iloc[test_idxs].index.values,\n",
    "    y_true=y_test, \n",
    "    y_true_code=y_test_enc, \n",
    "    y_pred=xgb.predict(X_test))).set_index('cell_id')"
   ]
  },
  {
   "cell_type": "code",
   "execution_count": 24,
   "id": "a6c184c1",
   "metadata": {
    "execution": {
     "iopub.execute_input": "2025-05-15T16:16:04.343420Z",
     "iopub.status.busy": "2025-05-15T16:16:04.343062Z",
     "iopub.status.idle": "2025-05-15T16:16:04.354761Z",
     "shell.execute_reply": "2025-05-15T16:16:04.354324Z"
    },
    "papermill": {
     "duration": 0.022651,
     "end_time": "2025-05-15T16:16:04.355710",
     "exception": false,
     "start_time": "2025-05-15T16:16:04.333059",
     "status": "completed"
    },
    "tags": []
   },
   "outputs": [],
   "source": [
    "out_dir = here(f'03_downstream_analysis/08_gene_importance/xgboost_external_validation/xgboost_TopN_genes/results_{N_GENES}/predictions')\n",
    "\n",
    "if not os.path.exists(out_dir):\n",
    "    os.makedirs(out_dir)\n",
    "    \n",
    "df_pred_test.to_csv(os.path.join(out_dir, f'{CELL_TYPE}_{SEED}_{TEST_SPLIT_IDX}_pred_test.zip'))"
   ]
  },
  {
   "cell_type": "code",
   "execution_count": 25,
   "id": "e8b9192e",
   "metadata": {
    "execution": {
     "iopub.execute_input": "2025-05-15T16:16:04.375746Z",
     "iopub.status.busy": "2025-05-15T16:16:04.375509Z",
     "iopub.status.idle": "2025-05-15T16:16:04.382951Z",
     "shell.execute_reply": "2025-05-15T16:16:04.382589Z"
    },
    "papermill": {
     "duration": 0.018448,
     "end_time": "2025-05-15T16:16:04.383864",
     "exception": false,
     "start_time": "2025-05-15T16:16:04.365416",
     "status": "completed"
    },
    "tags": []
   },
   "outputs": [
    {
     "name": "stderr",
     "output_type": "stream",
     "text": [
      "/scratch_isilon/groups/singlecell/shared/conda_env/xgboost-cpu/lib/python3.12/site-packages/sklearn/metrics/_classification.py:2466: UserWarning: y_pred contains classes not in y_true\n",
      "  warnings.warn(\"y_pred contains classes not in y_true\")\n"
     ]
    }
   ],
   "source": [
    "metrics_dict = dict(\n",
    "    BAS=balanced_accuracy_score(y_true=df_pred_test.y_true_code, y_pred=df_pred_test.y_pred), WF1=f1_score(y_true=df_pred_test.y_true_code, y_pred=df_pred_test.y_pred,average='weighted'))"
   ]
  },
  {
   "cell_type": "code",
   "execution_count": 26,
   "id": "85544161",
   "metadata": {
    "execution": {
     "iopub.execute_input": "2025-05-15T16:16:04.423159Z",
     "iopub.status.busy": "2025-05-15T16:16:04.422968Z",
     "iopub.status.idle": "2025-05-15T16:16:04.426205Z",
     "shell.execute_reply": "2025-05-15T16:16:04.425864Z"
    },
    "papermill": {
     "duration": 0.021732,
     "end_time": "2025-05-15T16:16:04.427150",
     "exception": false,
     "start_time": "2025-05-15T16:16:04.405418",
     "status": "completed"
    },
    "tags": []
   },
   "outputs": [
    {
     "data": {
      "text/plain": [
       "{'BAS': 0.6725450888397317, 'WF1': 0.5781450626504258}"
      ]
     },
     "execution_count": 26,
     "metadata": {},
     "output_type": "execute_result"
    }
   ],
   "source": [
    "metrics_dict"
   ]
  },
  {
   "cell_type": "code",
   "execution_count": 27,
   "id": "c9679757",
   "metadata": {
    "execution": {
     "iopub.execute_input": "2025-05-15T16:16:04.449978Z",
     "iopub.status.busy": "2025-05-15T16:16:04.449544Z",
     "iopub.status.idle": "2025-05-15T16:16:04.458675Z",
     "shell.execute_reply": "2025-05-15T16:16:04.458310Z"
    },
    "papermill": {
     "duration": 0.021775,
     "end_time": "2025-05-15T16:16:04.459603",
     "exception": false,
     "start_time": "2025-05-15T16:16:04.437828",
     "status": "completed"
    },
    "tags": []
   },
   "outputs": [
    {
     "data": {
      "text/html": [
       "<div>\n",
       "<style scoped>\n",
       "    .dataframe tbody tr th:only-of-type {\n",
       "        vertical-align: middle;\n",
       "    }\n",
       "\n",
       "    .dataframe tbody tr th {\n",
       "        vertical-align: top;\n",
       "    }\n",
       "\n",
       "    .dataframe thead th {\n",
       "        text-align: right;\n",
       "    }\n",
       "</style>\n",
       "<table border=\"1\" class=\"dataframe\">\n",
       "  <thead>\n",
       "    <tr style=\"text-align: right;\">\n",
       "      <th></th>\n",
       "      <th>BAS</th>\n",
       "      <th>WF1</th>\n",
       "      <th>split_idx</th>\n",
       "      <th>gene_set_seed</th>\n",
       "      <th>cell_type</th>\n",
       "    </tr>\n",
       "  </thead>\n",
       "  <tbody>\n",
       "    <tr>\n",
       "      <th>0</th>\n",
       "      <td>0.672545</td>\n",
       "      <td>0.578145</td>\n",
       "      <td>0</td>\n",
       "      <td>19</td>\n",
       "      <td>Plasma</td>\n",
       "    </tr>\n",
       "  </tbody>\n",
       "</table>\n",
       "</div>"
      ],
      "text/plain": [
       "        BAS       WF1  split_idx  gene_set_seed cell_type\n",
       "0  0.672545  0.578145          0             19    Plasma"
      ]
     },
     "execution_count": 27,
     "metadata": {},
     "output_type": "execute_result"
    }
   ],
   "source": [
    "metrics_df = pd.DataFrame.from_dict([metrics_dict]).assign(split_idx=TEST_SPLIT_IDX, gene_set_seed=SEED, cell_type=CELL_TYPE)\n",
    "metrics_df"
   ]
  },
  {
   "cell_type": "code",
   "execution_count": 28,
   "id": "881bc6a5",
   "metadata": {
    "execution": {
     "iopub.execute_input": "2025-05-15T16:16:04.495603Z",
     "iopub.status.busy": "2025-05-15T16:16:04.495361Z",
     "iopub.status.idle": "2025-05-15T16:16:04.503746Z",
     "shell.execute_reply": "2025-05-15T16:16:04.503366Z"
    },
    "papermill": {
     "duration": 0.035126,
     "end_time": "2025-05-15T16:16:04.504673",
     "exception": false,
     "start_time": "2025-05-15T16:16:04.469547",
     "status": "completed"
    },
    "tags": []
   },
   "outputs": [],
   "source": [
    "out_dir = here(f'03_downstream_analysis/08_gene_importance/xgboost_external_validation/xgboost_TopN_genes/results_{N_GENES}/metrics')\n",
    "\n",
    "if not os.path.exists(out_dir):\n",
    "    os.makedirs(out_dir)\n",
    "    \n",
    "metrics_df.to_csv(os.path.join(out_dir, f'{CELL_TYPE}_{SEED}_{TEST_SPLIT_IDX}_metrics.zip'))"
   ]
  }
 ],
 "metadata": {
  "kernelspec": {
   "display_name": "Python 3 (ipykernel)",
   "language": "python",
   "name": "python3"
  },
  "language_info": {
   "codemirror_mode": {
    "name": "ipython",
    "version": 3
   },
   "file_extension": ".py",
   "mimetype": "text/x-python",
   "name": "python",
   "nbconvert_exporter": "python",
   "pygments_lexer": "ipython3",
   "version": "3.12.5"
  },
  "papermill": {
   "default_parameters": {},
   "duration": 17.093849,
   "end_time": "2025-05-15T16:16:05.131478",
   "environment_variables": {},
   "exception": null,
   "input_path": "02_xgboost_fitting_external_20genes.ipynb",
   "output_path": "results_20/executed_notebooks/xgboost_fitting_external_CT_Plasma_GS_19_seed0.ipynb",
   "parameters": {
    "CELL_TYPE": "Plasma",
    "SEED": 19,
    "TEST_SPLIT_IDX": 0
   },
   "start_time": "2025-05-15T16:15:48.037629",
   "version": "2.6.0"
  }
 },
 "nbformat": 4,
 "nbformat_minor": 5
}