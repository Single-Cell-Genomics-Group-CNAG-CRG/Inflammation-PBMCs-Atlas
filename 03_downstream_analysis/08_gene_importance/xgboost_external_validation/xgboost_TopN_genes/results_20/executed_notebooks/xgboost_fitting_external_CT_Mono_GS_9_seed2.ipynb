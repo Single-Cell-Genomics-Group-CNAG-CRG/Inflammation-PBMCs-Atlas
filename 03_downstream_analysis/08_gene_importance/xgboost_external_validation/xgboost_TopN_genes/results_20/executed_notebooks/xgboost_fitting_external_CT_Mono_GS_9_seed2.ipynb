{
 "cells": [
  {
   "cell_type": "code",
   "execution_count": 1,
   "id": "cf3e3ac8",
   "metadata": {
    "editable": true,
    "execution": {
     "iopub.execute_input": "2025-05-16T15:23:43.647530Z",
     "iopub.status.busy": "2025-05-16T15:23:43.647383Z",
     "iopub.status.idle": "2025-05-16T15:23:43.649952Z",
     "shell.execute_reply": "2025-05-16T15:23:43.649661Z"
    },
    "papermill": {
     "duration": 0.162333,
     "end_time": "2025-05-16T15:23:43.650832",
     "exception": false,
     "start_time": "2025-05-16T15:23:43.488499",
     "status": "completed"
    },
    "slideshow": {
     "slide_type": ""
    },
    "tags": [
     "parameters"
    ]
   },
   "outputs": [],
   "source": [
    "CELL_TYPE = 'pDC'\n",
    "N_GENES: int = 20\n",
    "SEED = 'shap_studyID' #'disease_NOstudy' 'study_NOdisease' or 'int' or 'shap_studyID'\n",
    "TEST_SPLIT_IDX: int = 1 #[0,4]"
   ]
  },
  {
   "cell_type": "code",
   "execution_count": 2,
   "id": "628348af",
   "metadata": {
    "execution": {
     "iopub.execute_input": "2025-05-16T15:23:43.663354Z",
     "iopub.status.busy": "2025-05-16T15:23:43.663225Z",
     "iopub.status.idle": "2025-05-16T15:23:43.665239Z",
     "shell.execute_reply": "2025-05-16T15:23:43.664924Z"
    },
    "papermill": {
     "duration": 0.009006,
     "end_time": "2025-05-16T15:23:43.666063",
     "exception": false,
     "start_time": "2025-05-16T15:23:43.657057",
     "status": "completed"
    },
    "tags": [
     "injected-parameters"
    ]
   },
   "outputs": [],
   "source": [
    "# Parameters\n",
    "CELL_TYPE = \"Mono\"\n",
    "SEED = 9\n",
    "TEST_SPLIT_IDX = 2\n"
   ]
  },
  {
   "cell_type": "code",
   "execution_count": 3,
   "id": "57585167",
   "metadata": {
    "execution": {
     "iopub.execute_input": "2025-05-16T15:23:43.678222Z",
     "iopub.status.busy": "2025-05-16T15:23:43.677882Z",
     "iopub.status.idle": "2025-05-16T15:23:43.679859Z",
     "shell.execute_reply": "2025-05-16T15:23:43.679565Z"
    },
    "papermill": {
     "duration": 0.009093,
     "end_time": "2025-05-16T15:23:43.680652",
     "exception": false,
     "start_time": "2025-05-16T15:23:43.671559",
     "status": "completed"
    },
    "tags": []
   },
   "outputs": [],
   "source": [
    "N_SPLITS: int = 5\n",
    "N_TRIALS: int = 50"
   ]
  },
  {
   "cell_type": "code",
   "execution_count": 4,
   "id": "eb53655d",
   "metadata": {
    "execution": {
     "iopub.execute_input": "2025-05-16T15:23:43.693612Z",
     "iopub.status.busy": "2025-05-16T15:23:43.693292Z",
     "iopub.status.idle": "2025-05-16T15:24:18.515881Z",
     "shell.execute_reply": "2025-05-16T15:24:18.515473Z"
    },
    "papermill": {
     "duration": 34.831041,
     "end_time": "2025-05-16T15:24:18.517102",
     "exception": false,
     "start_time": "2025-05-16T15:23:43.686061",
     "status": "completed"
    },
    "tags": []
   },
   "outputs": [],
   "source": [
    "import os\n",
    "import sys\n",
    "from pyprojroot.here import here\n",
    "import pandas as pd\n",
    "import anndata as ad\n",
    "import numpy as np\n",
    "import math\n",
    "from sklearn.model_selection import StratifiedGroupKFold\n",
    "from sklearn.preprocessing import LabelEncoder\n",
    "from sklearn.metrics import f1_score\n",
    "import matplotlib.pyplot as plt\n",
    "import seaborn as sns\n",
    "from itertools import product\n",
    "from sklearn.metrics import balanced_accuracy_score, f1_score\n",
    "import optuna\n",
    "\n",
    "import joblib\n",
    "import pickle\n",
    "import datetime\n",
    "\n",
    "import collections\n",
    "\n",
    "import xgboost\n",
    "from sklearn.preprocessing import LabelEncoder\n",
    "\n",
    "import scipy.sparse as ssp\n",
    "import joblib\n",
    "\n",
    "from dotenv import load_dotenv"
   ]
  },
  {
   "cell_type": "code",
   "execution_count": 5,
   "id": "1b2299eb",
   "metadata": {
    "execution": {
     "iopub.execute_input": "2025-05-16T15:24:18.529818Z",
     "iopub.status.busy": "2025-05-16T15:24:18.529538Z",
     "iopub.status.idle": "2025-05-16T15:24:18.535537Z",
     "shell.execute_reply": "2025-05-16T15:24:18.535247Z"
    },
    "papermill": {
     "duration": 0.012687,
     "end_time": "2025-05-16T15:24:18.536355",
     "exception": false,
     "start_time": "2025-05-16T15:24:18.523668",
     "status": "completed"
    },
    "tags": []
   },
   "outputs": [
    {
     "data": {
      "text/plain": [
       "True"
      ]
     },
     "execution_count": 5,
     "metadata": {},
     "output_type": "execute_result"
    }
   ],
   "source": [
    "load_dotenv()"
   ]
  },
  {
   "cell_type": "markdown",
   "id": "5b180a54",
   "metadata": {
    "papermill": {
     "duration": 0.005653,
     "end_time": "2025-05-16T15:24:18.548251",
     "exception": false,
     "start_time": "2025-05-16T15:24:18.542598",
     "status": "completed"
    },
    "tags": []
   },
   "source": [
    "# LOAD DATASET"
   ]
  },
  {
   "cell_type": "code",
   "execution_count": 6,
   "id": "7494cb8e",
   "metadata": {
    "execution": {
     "iopub.execute_input": "2025-05-16T15:24:18.558936Z",
     "iopub.status.busy": "2025-05-16T15:24:18.558800Z",
     "iopub.status.idle": "2025-05-16T15:24:20.007635Z",
     "shell.execute_reply": "2025-05-16T15:24:20.007050Z"
    },
    "papermill": {
     "duration": 1.45544,
     "end_time": "2025-05-16T15:24:20.008893",
     "exception": false,
     "start_time": "2025-05-16T15:24:18.553453",
     "status": "completed"
    },
    "tags": []
   },
   "outputs": [],
   "source": [
    "train_adata = ad.read_h5ad(\n",
    "    here(f'03_downstream_analysis/08_gene_importance/xgboost_external_validation/xgboost_TopN_genes/data_cellTypes/EXTERNAL_{CELL_TYPE}.filtered.log1p.h5ad')\n",
    ")"
   ]
  },
  {
   "cell_type": "code",
   "execution_count": 7,
   "id": "d8cd1fbc",
   "metadata": {
    "execution": {
     "iopub.execute_input": "2025-05-16T15:24:20.020801Z",
     "iopub.status.busy": "2025-05-16T15:24:20.020648Z",
     "iopub.status.idle": "2025-05-16T15:24:20.057625Z",
     "shell.execute_reply": "2025-05-16T15:24:20.057294Z"
    },
    "papermill": {
     "duration": 0.043822,
     "end_time": "2025-05-16T15:24:20.058440",
     "exception": false,
     "start_time": "2025-05-16T15:24:20.014618",
     "status": "completed"
    },
    "tags": []
   },
   "outputs": [
    {
     "name": "stdout",
     "output_type": "stream",
     "text": [
      "['ENSG00000204267' 'ENSG00000085514' 'ENSG00000112561' 'ENSG00000139192'\n",
      " 'ENSG00000102524' 'ENSG00000158869' 'ENSG00000090382' 'ENSG00000169442'\n",
      " 'ENSG00000121807' 'ENSG00000143226' 'ENSG00000060982' 'ENSG00000115145'\n",
      " 'ENSG00000204482' 'ENSG00000150782' 'ENSG00000179218' 'ENSG00000104904'\n",
      " 'ENSG00000117984' 'ENSG00000179295' 'ENSG00000163563' 'ENSG00000175203'\n",
      " 'ENSG00000182117' 'ENSG00000163191' 'ENSG00000170017' 'ENSG00000128383'\n",
      " 'ENSG00000161642' 'ENSG00000142166' 'ENSG00000158769' 'ENSG00000182578'\n",
      " 'ENSG00000169403' 'ENSG00000178719' 'ENSG00000149311' 'ENSG00000164543'\n",
      " 'ENSG00000254087' 'ENSG00000197405' 'ENSG00000005339' 'ENSG00000239998'\n",
      " 'ENSG00000100079' 'ENSG00000177721' 'ENSG00000030582' 'ENSG00000170296'\n",
      " 'ENSG00000167283' 'ENSG00000124731' 'ENSG00000002549' 'ENSG00000104918'\n",
      " 'ENSG00000152219' 'ENSG00000119535' 'ENSG00000160712' 'ENSG00000113732'\n",
      " 'ENSG00000197471' 'ENSG00000008517' 'ENSG00000133639' 'ENSG00000175104'\n",
      " 'ENSG00000132965' 'ENSG00000104870' 'ENSG00000111331' 'ENSG00000156587'\n",
      " 'ENSG00000237541' 'ENSG00000130066' 'ENSG00000243678' 'ENSG00000214212'\n",
      " 'ENSG00000277443' 'ENSG00000015475' 'ENSG00000131018' 'ENSG00000141506'\n",
      " 'ENSG00000206503' 'ENSG00000170581' 'ENSG00000141367' 'ENSG00000171700'\n",
      " 'ENSG00000134321' 'ENSG00000108774' 'ENSG00000185591' 'ENSG00000109861'\n",
      " 'ENSG00000185950' 'ENSG00000183020' 'ENSG00000196126' 'ENSG00000137331'\n",
      " 'ENSG00000106952' 'ENSG00000127022' 'ENSG00000187164' 'ENSG00000169385'\n",
      " 'ENSG00000143119' 'ENSG00000175567' 'ENSG00000173372' 'ENSG00000114013'\n",
      " 'ENSG00000100292' 'ENSG00000181631' 'ENSG00000072958' 'ENSG00000169429'\n",
      " 'ENSG00000079805' 'ENSG00000204577' 'ENSG00000183019' 'ENSG00000277632'\n",
      " 'ENSG00000164674' 'ENSG00000166710' 'ENSG00000179344' 'ENSG00000169554'\n",
      " 'ENSG00000163659' 'ENSG00000183023' 'ENSG00000164104' 'ENSG00000057657'\n",
      " 'ENSG00000076662' 'ENSG00000092820' 'ENSG00000143933' 'ENSG00000088827'\n",
      " 'ENSG00000068831' 'ENSG00000111348' 'ENSG00000152778' 'ENSG00000164308'\n",
      " 'ENSG00000124762' 'ENSG00000168894' 'ENSG00000121316' 'ENSG00000145287'\n",
      " 'ENSG00000140968' 'ENSG00000142546']\n"
     ]
    }
   ],
   "source": [
    "if SEED != 'all':\n",
    "    gene_subset = np.load(here(f'03_downstream_analysis/08_gene_importance/xgboost_external_validation/shap_gene_selection/gene_subsets_{N_GENES}/{CELL_TYPE}_{SEED}.npy'), allow_pickle=True)\n",
    "    train_adata = train_adata[:,gene_subset]\n",
    "    print(gene_subset)\n",
    "elif SEED == 'all':\n",
    "    print('Using all genes')\n",
    "else:\n",
    "    raise ValueError()"
   ]
  },
  {
   "cell_type": "code",
   "execution_count": 8,
   "id": "640d0aaa",
   "metadata": {
    "execution": {
     "iopub.execute_input": "2025-05-16T15:24:20.070176Z",
     "iopub.status.busy": "2025-05-16T15:24:20.069779Z",
     "iopub.status.idle": "2025-05-16T15:24:20.072855Z",
     "shell.execute_reply": "2025-05-16T15:24:20.072379Z"
    },
    "papermill": {
     "duration": 0.009646,
     "end_time": "2025-05-16T15:24:20.073617",
     "exception": false,
     "start_time": "2025-05-16T15:24:20.063971",
     "status": "completed"
    },
    "tags": []
   },
   "outputs": [
    {
     "data": {
      "text/plain": [
       "(137435, 114)"
      ]
     },
     "execution_count": 8,
     "metadata": {},
     "output_type": "execute_result"
    }
   ],
   "source": [
    "train_adata.shape"
   ]
  },
  {
   "cell_type": "code",
   "execution_count": 9,
   "id": "fa07b3b4",
   "metadata": {
    "execution": {
     "iopub.execute_input": "2025-05-16T15:24:20.084884Z",
     "iopub.status.busy": "2025-05-16T15:24:20.084751Z",
     "iopub.status.idle": "2025-05-16T15:24:20.088394Z",
     "shell.execute_reply": "2025-05-16T15:24:20.088093Z"
    },
    "papermill": {
     "duration": 0.01007,
     "end_time": "2025-05-16T15:24:20.089150",
     "exception": false,
     "start_time": "2025-05-16T15:24:20.079080",
     "status": "completed"
    },
    "tags": []
   },
   "outputs": [
    {
     "data": {
      "text/plain": [
       "['RA', 'healthy', 'COVID', 'HIV', 'cirrhosis', 'CD', 'SLE', 'sepsis']\n",
       "Categories (8, object): ['CD', 'COVID', 'HIV', 'RA', 'SLE', 'cirrhosis', 'healthy', 'sepsis']"
      ]
     },
     "execution_count": 9,
     "metadata": {},
     "output_type": "execute_result"
    }
   ],
   "source": [
    "train_adata.obs.disease.unique()"
   ]
  },
  {
   "cell_type": "code",
   "execution_count": 10,
   "id": "77c48792",
   "metadata": {
    "execution": {
     "iopub.execute_input": "2025-05-16T15:24:20.100718Z",
     "iopub.status.busy": "2025-05-16T15:24:20.100490Z",
     "iopub.status.idle": "2025-05-16T15:24:20.104146Z",
     "shell.execute_reply": "2025-05-16T15:24:20.103850Z"
    },
    "papermill": {
     "duration": 0.010413,
     "end_time": "2025-05-16T15:24:20.104883",
     "exception": false,
     "start_time": "2025-05-16T15:24:20.094470",
     "status": "completed"
    },
    "tags": []
   },
   "outputs": [
    {
     "data": {
      "text/plain": [
       "['SCGT00val_I0364_T0', 'SCGT00val_I036028_T0', 'SCGT00val_I036024_T0', 'SCGT00val_I036023_T0', 'SCGT00val_I036019_T0', ..., '10XGenomics_10XHC2_T0', '10XGenomics_10XHC3_T0', '10XGenomics_10XHC5_T0', '10XGenomics_10XHC7_T0', '10XGenomics_10XHC8_T0']\n",
       "Length: 86\n",
       "Categories (86, object): ['10XGenomics_10XHC1_T0', '10XGenomics_10XHC2_T0', '10XGenomics_10XHC3_T0', '10XGenomics_10XHC4_T0', ..., 'Savage2021_BRISL6_T0', 'Savage2021_BRISL7_T0', 'Savage2021_PIDA_T0', 'Savage2021_PIDB_T0']"
      ]
     },
     "execution_count": 10,
     "metadata": {},
     "output_type": "execute_result"
    }
   ],
   "source": [
    "train_adata.obs.sampleID.unique()"
   ]
  },
  {
   "cell_type": "code",
   "execution_count": 11,
   "id": "3f7040d7",
   "metadata": {
    "execution": {
     "iopub.execute_input": "2025-05-16T15:24:20.117310Z",
     "iopub.status.busy": "2025-05-16T15:24:20.117083Z",
     "iopub.status.idle": "2025-05-16T15:24:20.438279Z",
     "shell.execute_reply": "2025-05-16T15:24:20.437828Z"
    },
    "papermill": {
     "duration": 0.328796,
     "end_time": "2025-05-16T15:24:20.439484",
     "exception": false,
     "start_time": "2025-05-16T15:24:20.110688",
     "status": "completed"
    },
    "tags": []
   },
   "outputs": [],
   "source": [
    "all_idxs = np.arange(train_adata.obs.shape[0])\n",
    "left_out_splits = [s[1] for s in StratifiedGroupKFold(n_splits=N_SPLITS).split(all_idxs, train_adata.obs.disease, train_adata.obs.sampleID)]"
   ]
  },
  {
   "cell_type": "code",
   "execution_count": 12,
   "id": "fd5a448d",
   "metadata": {
    "execution": {
     "iopub.execute_input": "2025-05-16T15:24:20.454003Z",
     "iopub.status.busy": "2025-05-16T15:24:20.453665Z",
     "iopub.status.idle": "2025-05-16T15:24:20.456937Z",
     "shell.execute_reply": "2025-05-16T15:24:20.456656Z"
    },
    "papermill": {
     "duration": 0.010523,
     "end_time": "2025-05-16T15:24:20.457680",
     "exception": false,
     "start_time": "2025-05-16T15:24:20.447157",
     "status": "completed"
    },
    "tags": []
   },
   "outputs": [
    {
     "data": {
      "text/plain": [
       "([0, 1, 4], 3, 2)"
      ]
     },
     "execution_count": 12,
     "metadata": {},
     "output_type": "execute_result"
    }
   ],
   "source": [
    "TRAIN_SPLIT_IDXS = [0,1,2,3,4]\n",
    "VAL_SPLIT_IDX = (TEST_SPLIT_IDX + 1) % 5\n",
    "TRAIN_SPLIT_IDXS.remove(TEST_SPLIT_IDX)\n",
    "TRAIN_SPLIT_IDXS.remove(VAL_SPLIT_IDX)\n",
    "TRAIN_SPLIT_IDXS, VAL_SPLIT_IDX, TEST_SPLIT_IDX"
   ]
  },
  {
   "cell_type": "code",
   "execution_count": 13,
   "id": "086b5e4d",
   "metadata": {
    "execution": {
     "iopub.execute_input": "2025-05-16T15:24:20.469115Z",
     "iopub.status.busy": "2025-05-16T15:24:20.468962Z",
     "iopub.status.idle": "2025-05-16T15:24:20.471329Z",
     "shell.execute_reply": "2025-05-16T15:24:20.471039Z"
    },
    "papermill": {
     "duration": 0.008882,
     "end_time": "2025-05-16T15:24:20.472067",
     "exception": false,
     "start_time": "2025-05-16T15:24:20.463185",
     "status": "completed"
    },
    "tags": []
   },
   "outputs": [],
   "source": [
    "train_idxs = np.concatenate([left_out_splits[idx] for idx in TRAIN_SPLIT_IDXS])\n",
    "val_idxs = left_out_splits[VAL_SPLIT_IDX]\n",
    "test_idxs = left_out_splits[TEST_SPLIT_IDX]"
   ]
  },
  {
   "cell_type": "markdown",
   "id": "2a01c90d",
   "metadata": {
    "papermill": {
     "duration": 0.012272,
     "end_time": "2025-05-16T15:24:20.490538",
     "exception": false,
     "start_time": "2025-05-16T15:24:20.478266",
     "status": "completed"
    },
    "tags": []
   },
   "source": [
    "### SUBSET DATASET INTO TRAIN/TEST/VAL SPLITS"
   ]
  },
  {
   "cell_type": "code",
   "execution_count": 14,
   "id": "7e917030",
   "metadata": {
    "execution": {
     "iopub.execute_input": "2025-05-16T15:24:20.504361Z",
     "iopub.status.busy": "2025-05-16T15:24:20.504074Z",
     "iopub.status.idle": "2025-05-16T15:24:20.941324Z",
     "shell.execute_reply": "2025-05-16T15:24:20.940985Z"
    },
    "papermill": {
     "duration": 0.445867,
     "end_time": "2025-05-16T15:24:20.942157",
     "exception": false,
     "start_time": "2025-05-16T15:24:20.496290",
     "status": "completed"
    },
    "tags": []
   },
   "outputs": [
    {
     "data": {
      "text/plain": [
       "((81938, 114), (26851, 114), (28646, 114))"
      ]
     },
     "execution_count": 14,
     "metadata": {},
     "output_type": "execute_result"
    }
   ],
   "source": [
    "X_train = train_adata.X[train_idxs]\n",
    "X_test = train_adata.X[test_idxs]\n",
    "X_val = train_adata.X[val_idxs]\n",
    "X_train.shape, X_test.shape, X_val.shape"
   ]
  },
  {
   "cell_type": "code",
   "execution_count": 15,
   "id": "b9852429",
   "metadata": {
    "execution": {
     "iopub.execute_input": "2025-05-16T15:24:20.965805Z",
     "iopub.status.busy": "2025-05-16T15:24:20.965660Z",
     "iopub.status.idle": "2025-05-16T15:24:20.978643Z",
     "shell.execute_reply": "2025-05-16T15:24:20.978308Z"
    },
    "papermill": {
     "duration": 0.027648,
     "end_time": "2025-05-16T15:24:20.979536",
     "exception": false,
     "start_time": "2025-05-16T15:24:20.951888",
     "status": "completed"
    },
    "tags": []
   },
   "outputs": [
    {
     "data": {
      "text/plain": [
       "((81938,), (26851,), (28646,))"
      ]
     },
     "execution_count": 15,
     "metadata": {},
     "output_type": "execute_result"
    }
   ],
   "source": [
    "y_train = train_adata.obs.iloc[train_idxs].disease.values.astype(str)\n",
    "y_test = train_adata.obs.iloc[test_idxs].disease.values.astype(str)\n",
    "y_val = train_adata.obs.iloc[val_idxs].disease.values.astype(str)\n",
    "y_train.shape, y_test.shape, y_val.shape"
   ]
  },
  {
   "cell_type": "code",
   "execution_count": 16,
   "id": "ad44ed5b",
   "metadata": {
    "execution": {
     "iopub.execute_input": "2025-05-16T15:24:20.992534Z",
     "iopub.status.busy": "2025-05-16T15:24:20.992190Z",
     "iopub.status.idle": "2025-05-16T15:24:21.021220Z",
     "shell.execute_reply": "2025-05-16T15:24:21.020864Z"
    },
    "papermill": {
     "duration": 0.036258,
     "end_time": "2025-05-16T15:24:21.022211",
     "exception": false,
     "start_time": "2025-05-16T15:24:20.985953",
     "status": "completed"
    },
    "tags": []
   },
   "outputs": [],
   "source": [
    "lenc = LabelEncoder()\n",
    "y_train_enc = lenc.fit_transform(y_train)\n",
    "y_val_enc = lenc.transform(y_val)\n",
    "y_test_enc = lenc.transform(y_test)"
   ]
  },
  {
   "cell_type": "markdown",
   "id": "903f5284",
   "metadata": {
    "papermill": {
     "duration": 0.00836,
     "end_time": "2025-05-16T15:24:21.042510",
     "exception": false,
     "start_time": "2025-05-16T15:24:21.034150",
     "status": "completed"
    },
    "tags": []
   },
   "source": [
    "### GENERATE F1 "
   ]
  },
  {
   "cell_type": "code",
   "execution_count": 17,
   "id": "9f7352a2",
   "metadata": {
    "execution": {
     "iopub.execute_input": "2025-05-16T15:24:21.055151Z",
     "iopub.status.busy": "2025-05-16T15:24:21.054750Z",
     "iopub.status.idle": "2025-05-16T15:24:21.057135Z",
     "shell.execute_reply": "2025-05-16T15:24:21.056793Z"
    },
    "papermill": {
     "duration": 0.009846,
     "end_time": "2025-05-16T15:24:21.058272",
     "exception": false,
     "start_time": "2025-05-16T15:24:21.048426",
     "status": "completed"
    },
    "tags": []
   },
   "outputs": [],
   "source": [
    "def custom_f1_score(y_true, y_pred):\n",
    "    return -f1_score(y_true, y_pred.argmax(1), average='weighted')"
   ]
  },
  {
   "cell_type": "code",
   "execution_count": 18,
   "id": "e506a015",
   "metadata": {
    "execution": {
     "iopub.execute_input": "2025-05-16T15:24:21.071954Z",
     "iopub.status.busy": "2025-05-16T15:24:21.071666Z",
     "iopub.status.idle": "2025-05-16T15:24:21.075124Z",
     "shell.execute_reply": "2025-05-16T15:24:21.074829Z"
    },
    "papermill": {
     "duration": 0.011063,
     "end_time": "2025-05-16T15:24:21.075861",
     "exception": false,
     "start_time": "2025-05-16T15:24:21.064798",
     "status": "completed"
    },
    "tags": []
   },
   "outputs": [],
   "source": [
    "eval_metric=custom_f1_score\n",
    "eval_metric_name='custom_f1_score'\n",
    "\n",
    "def objective(trial):\n",
    "    params = {\n",
    "        'n_estimators': 1500,\n",
    "        'max_depth': trial.suggest_int('max_depth', 3, 20),\n",
    "        'min_child_weight': trial.suggest_int('min_child_weight', 1, 250),\n",
    "        'subsample': trial.suggest_float('subsample', 0.1, 1.0),\n",
    "        'colsample_bynode': trial.suggest_float('colsample_bynode', 0.1, 1.0),\n",
    "        'learning_rate': trial.suggest_float('learning_rate', 1e-3, 5e-1, log=True),\n",
    "    }\n",
    "    pruning_callback = optuna.integration.XGBoostPruningCallback(trial, f'validation_0-{eval_metric_name}')\n",
    "    es_callback = xgboost.callback.EarlyStopping(20, min_delta=0.001)\n",
    "    xgb = xgboost.XGBClassifier(\n",
    "        eval_metric=eval_metric,\n",
    "        callbacks=[pruning_callback, es_callback],\n",
    "        n_jobs=5,\n",
    "        **params\n",
    "    )\n",
    "    xgb.fit(\n",
    "        X_train, \n",
    "        y_train_enc, \n",
    "        verbose=0,\n",
    "        eval_set=[(X_val, y_val_enc)],\n",
    "    )\n",
    "    trial.set_user_attr('best_iteration', xgb.best_iteration)\n",
    "\n",
    "    return xgb.best_score"
   ]
  },
  {
   "cell_type": "code",
   "execution_count": 19,
   "id": "842fde82",
   "metadata": {
    "execution": {
     "iopub.execute_input": "2025-05-16T15:24:21.087895Z",
     "iopub.status.busy": "2025-05-16T15:24:21.087669Z",
     "iopub.status.idle": "2025-05-16T15:37:28.934459Z",
     "shell.execute_reply": "2025-05-16T15:37:28.934050Z"
    },
    "papermill": {
     "duration": 787.8538,
     "end_time": "2025-05-16T15:37:28.935389",
     "exception": false,
     "start_time": "2025-05-16T15:24:21.081589",
     "status": "completed"
    },
    "scrolled": true,
    "tags": []
   },
   "outputs": [
    {
     "name": "stderr",
     "output_type": "stream",
     "text": [
      "[I 2025-05-16 17:24:21,089] A new study created in memory with name: no-name-3fb1bd2f-3cb7-4341-ba8c-793cb19cba9c\n"
     ]
    },
    {
     "name": "stderr",
     "output_type": "stream",
     "text": [
      "[I 2025-05-16 17:24:30,381] Trial 0 finished with value: -0.723512 and parameters: {'max_depth': 9, 'min_child_weight': 238, 'subsample': 0.7587945476302645, 'colsample_bynode': 0.6387926357773329, 'learning_rate': 0.0026368755339723046}. Best is trial 0 with value: -0.723512.\n"
     ]
    },
    {
     "name": "stderr",
     "output_type": "stream",
     "text": [
      "[I 2025-05-16 17:25:00,444] Trial 1 finished with value: -0.799159 and parameters: {'max_depth': 5, 'min_child_weight': 15, 'subsample': 0.8795585311974417, 'colsample_bynode': 0.6410035105688879, 'learning_rate': 0.08148293210105287}. Best is trial 1 with value: -0.799159.\n"
     ]
    },
    {
     "name": "stderr",
     "output_type": "stream",
     "text": [
      "[I 2025-05-16 17:25:20,379] Trial 2 finished with value: -0.695107 and parameters: {'max_depth': 3, 'min_child_weight': 243, 'subsample': 0.8491983767203796, 'colsample_bynode': 0.29110519961044856, 'learning_rate': 0.003095566460242371}. Best is trial 1 with value: -0.799159.\n"
     ]
    },
    {
     "name": "stderr",
     "output_type": "stream",
     "text": [
      "[I 2025-05-16 17:26:18,788] Trial 3 finished with value: -0.77227 and parameters: {'max_depth': 6, 'min_child_weight': 77, 'subsample': 0.5722807884690141, 'colsample_bynode': 0.48875051677790415, 'learning_rate': 0.006109683510122491}. Best is trial 1 with value: -0.799159.\n"
     ]
    },
    {
     "name": "stderr",
     "output_type": "stream",
     "text": [
      "[I 2025-05-16 17:27:37,062] Trial 4 finished with value: -0.794274 and parameters: {'max_depth': 14, 'min_child_weight': 35, 'subsample': 0.3629301836816964, 'colsample_bynode': 0.4297256589643226, 'learning_rate': 0.01701841881702917}. Best is trial 1 with value: -0.799159.\n"
     ]
    },
    {
     "name": "stderr",
     "output_type": "stream",
     "text": [
      "[I 2025-05-16 17:27:48,317] Trial 5 pruned. Trial was pruned at iteration 31.\n"
     ]
    },
    {
     "name": "stderr",
     "output_type": "stream",
     "text": [
      "[I 2025-05-16 17:28:02,877] Trial 6 finished with value: -0.785331 and parameters: {'max_depth': 13, 'min_child_weight': 43, 'subsample': 0.1585464336867516, 'colsample_bynode': 0.9539969835279999, 'learning_rate': 0.4038423798071558}. Best is trial 1 with value: -0.799159.\n"
     ]
    },
    {
     "name": "stderr",
     "output_type": "stream",
     "text": [
      "[I 2025-05-16 17:28:03,533] Trial 7 pruned. Trial was pruned at iteration 0.\n"
     ]
    },
    {
     "name": "stderr",
     "output_type": "stream",
     "text": [
      "[I 2025-05-16 17:28:04,169] Trial 8 pruned. Trial was pruned at iteration 0.\n"
     ]
    },
    {
     "name": "stderr",
     "output_type": "stream",
     "text": [
      "[I 2025-05-16 17:28:06,754] Trial 9 pruned. Trial was pruned at iteration 6.\n"
     ]
    },
    {
     "name": "stderr",
     "output_type": "stream",
     "text": [
      "[I 2025-05-16 17:28:07,581] Trial 10 pruned. Trial was pruned at iteration 0.\n"
     ]
    },
    {
     "name": "stderr",
     "output_type": "stream",
     "text": [
      "[I 2025-05-16 17:28:52,971] Trial 11 finished with value: -0.798477 and parameters: {'max_depth': 10, 'min_child_weight': 3, 'subsample': 0.34014304150377095, 'colsample_bynode': 0.40131565860091256, 'learning_rate': 0.057899203666416425}. Best is trial 1 with value: -0.799159.\n"
     ]
    },
    {
     "name": "stderr",
     "output_type": "stream",
     "text": [
      "[I 2025-05-16 17:29:35,510] Trial 12 finished with value: -0.800465 and parameters: {'max_depth': 8, 'min_child_weight': 3, 'subsample': 0.3693916175642251, 'colsample_bynode': 0.351751713087183, 'learning_rate': 0.07220195396446884}. Best is trial 12 with value: -0.800465.\n"
     ]
    },
    {
     "name": "stderr",
     "output_type": "stream",
     "text": [
      "[I 2025-05-16 17:29:36,167] Trial 13 pruned. Trial was pruned at iteration 0.\n"
     ]
    },
    {
     "name": "stderr",
     "output_type": "stream",
     "text": [
      "[I 2025-05-16 17:29:37,423] Trial 14 pruned. Trial was pruned at iteration 2.\n"
     ]
    },
    {
     "name": "stderr",
     "output_type": "stream",
     "text": [
      "[I 2025-05-16 17:29:38,060] Trial 15 pruned. Trial was pruned at iteration 0.\n"
     ]
    },
    {
     "name": "stderr",
     "output_type": "stream",
     "text": [
      "[I 2025-05-16 17:29:39,710] Trial 16 pruned. Trial was pruned at iteration 3.\n"
     ]
    },
    {
     "name": "stderr",
     "output_type": "stream",
     "text": [
      "[I 2025-05-16 17:29:40,377] Trial 17 pruned. Trial was pruned at iteration 0.\n"
     ]
    },
    {
     "name": "stderr",
     "output_type": "stream",
     "text": [
      "[I 2025-05-16 17:30:04,745] Trial 18 pruned. Trial was pruned at iteration 84.\n"
     ]
    },
    {
     "name": "stderr",
     "output_type": "stream",
     "text": [
      "[I 2025-05-16 17:30:05,404] Trial 19 pruned. Trial was pruned at iteration 0.\n"
     ]
    },
    {
     "name": "stderr",
     "output_type": "stream",
     "text": [
      "[I 2025-05-16 17:30:47,049] Trial 20 finished with value: -0.801916 and parameters: {'max_depth': 12, 'min_child_weight': 24, 'subsample': 0.8601573496833833, 'colsample_bynode': 0.36355618536187856, 'learning_rate': 0.10169686165917782}. Best is trial 20 with value: -0.801916.\n"
     ]
    },
    {
     "name": "stderr",
     "output_type": "stream",
     "text": [
      "[I 2025-05-16 17:31:17,010] Trial 21 finished with value: -0.798735 and parameters: {'max_depth': 11, 'min_child_weight': 24, 'subsample': 0.8524655332992119, 'colsample_bynode': 0.38143278999350455, 'learning_rate': 0.1063944596737225}. Best is trial 20 with value: -0.801916.\n"
     ]
    },
    {
     "name": "stderr",
     "output_type": "stream",
     "text": [
      "[I 2025-05-16 17:31:38,949] Trial 22 finished with value: -0.800324 and parameters: {'max_depth': 8, 'min_child_weight': 57, 'subsample': 0.8637056620667783, 'colsample_bynode': 0.4622052225970136, 'learning_rate': 0.22376845331533737}. Best is trial 20 with value: -0.801916.\n"
     ]
    },
    {
     "name": "stderr",
     "output_type": "stream",
     "text": [
      "[I 2025-05-16 17:32:03,524] Trial 23 finished with value: -0.798045 and parameters: {'max_depth': 12, 'min_child_weight': 59, 'subsample': 0.6638310221964546, 'colsample_bynode': 0.48071254484710724, 'learning_rate': 0.2669784887176237}. Best is trial 20 with value: -0.801916.\n"
     ]
    },
    {
     "name": "stderr",
     "output_type": "stream",
     "text": [
      "[I 2025-05-16 17:32:05,048] Trial 24 pruned. Trial was pruned at iteration 3.\n"
     ]
    },
    {
     "name": "stderr",
     "output_type": "stream",
     "text": [
      "[I 2025-05-16 17:32:05,788] Trial 25 pruned. Trial was pruned at iteration 0.\n"
     ]
    },
    {
     "name": "stderr",
     "output_type": "stream",
     "text": [
      "[I 2025-05-16 17:32:06,456] Trial 26 pruned. Trial was pruned at iteration 0.\n"
     ]
    },
    {
     "name": "stderr",
     "output_type": "stream",
     "text": [
      "[I 2025-05-16 17:32:32,058] Trial 27 finished with value: -0.800406 and parameters: {'max_depth': 15, 'min_child_weight': 23, 'subsample': 0.6693673534860863, 'colsample_bynode': 0.5395462488036626, 'learning_rate': 0.2881992226146186}. Best is trial 20 with value: -0.801916.\n"
     ]
    },
    {
     "name": "stderr",
     "output_type": "stream",
     "text": [
      "[I 2025-05-16 17:32:32,731] Trial 28 pruned. Trial was pruned at iteration 0.\n"
     ]
    },
    {
     "name": "stderr",
     "output_type": "stream",
     "text": [
      "[I 2025-05-16 17:32:33,398] Trial 29 pruned. Trial was pruned at iteration 0.\n"
     ]
    },
    {
     "name": "stderr",
     "output_type": "stream",
     "text": [
      "[I 2025-05-16 17:33:19,461] Trial 30 finished with value: -0.800595 and parameters: {'max_depth': 20, 'min_child_weight': 23, 'subsample': 0.7779024753024505, 'colsample_bynode': 0.562640505169208, 'learning_rate': 0.09402978558506898}. Best is trial 20 with value: -0.801916.\n"
     ]
    },
    {
     "name": "stderr",
     "output_type": "stream",
     "text": [
      "[I 2025-05-16 17:33:54,729] Trial 31 finished with value: -0.798218 and parameters: {'max_depth': 20, 'min_child_weight': 22, 'subsample': 0.7782894118210857, 'colsample_bynode': 0.5416486249459255, 'learning_rate': 0.08732364168907226}. Best is trial 20 with value: -0.801916.\n"
     ]
    },
    {
     "name": "stderr",
     "output_type": "stream",
     "text": [
      "[I 2025-05-16 17:33:59,357] Trial 32 pruned. Trial was pruned at iteration 8.\n"
     ]
    },
    {
     "name": "stderr",
     "output_type": "stream",
     "text": [
      "[I 2025-05-16 17:34:31,462] Trial 33 finished with value: -0.799535 and parameters: {'max_depth': 18, 'min_child_weight': 35, 'subsample': 0.761971480067059, 'colsample_bynode': 0.5868222183402754, 'learning_rate': 0.12126554396519627}. Best is trial 20 with value: -0.801916.\n"
     ]
    },
    {
     "name": "stderr",
     "output_type": "stream",
     "text": [
      "[I 2025-05-16 17:34:37,106] Trial 34 pruned. Trial was pruned at iteration 8.\n"
     ]
    },
    {
     "name": "stderr",
     "output_type": "stream",
     "text": [
      "[I 2025-05-16 17:34:37,868] Trial 35 pruned. Trial was pruned at iteration 0.\n"
     ]
    },
    {
     "name": "stderr",
     "output_type": "stream",
     "text": [
      "[I 2025-05-16 17:34:39,686] Trial 36 pruned. Trial was pruned at iteration 3.\n"
     ]
    },
    {
     "name": "stderr",
     "output_type": "stream",
     "text": [
      "[I 2025-05-16 17:34:40,399] Trial 37 pruned. Trial was pruned at iteration 0.\n"
     ]
    },
    {
     "name": "stderr",
     "output_type": "stream",
     "text": [
      "[I 2025-05-16 17:34:42,877] Trial 38 pruned. Trial was pruned at iteration 5.\n"
     ]
    },
    {
     "name": "stderr",
     "output_type": "stream",
     "text": [
      "[I 2025-05-16 17:34:56,021] Trial 39 pruned. Trial was pruned at iteration 22.\n"
     ]
    },
    {
     "name": "stderr",
     "output_type": "stream",
     "text": [
      "[I 2025-05-16 17:34:56,869] Trial 40 pruned. Trial was pruned at iteration 0.\n"
     ]
    },
    {
     "name": "stderr",
     "output_type": "stream",
     "text": [
      "[I 2025-05-16 17:34:57,605] Trial 41 pruned. Trial was pruned at iteration 0.\n"
     ]
    },
    {
     "name": "stderr",
     "output_type": "stream",
     "text": [
      "[I 2025-05-16 17:35:35,036] Trial 42 finished with value: -0.802439 and parameters: {'max_depth': 10, 'min_child_weight': 13, 'subsample': 0.8648290571953762, 'colsample_bynode': 0.43707425860145616, 'learning_rate': 0.16744003184409542}. Best is trial 42 with value: -0.802439.\n"
     ]
    },
    {
     "name": "stderr",
     "output_type": "stream",
     "text": [
      "[I 2025-05-16 17:36:02,505] Trial 43 finished with value: -0.79724 and parameters: {'max_depth': 10, 'min_child_weight': 10, 'subsample': 0.706208074921114, 'colsample_bynode': 0.5032909660044893, 'learning_rate': 0.07389813819589922}. Best is trial 42 with value: -0.802439.\n"
     ]
    },
    {
     "name": "stderr",
     "output_type": "stream",
     "text": [
      "[I 2025-05-16 17:36:05,971] Trial 44 pruned. Trial was pruned at iteration 7.\n"
     ]
    },
    {
     "name": "stderr",
     "output_type": "stream",
     "text": [
      "[I 2025-05-16 17:37:10,244] Trial 45 finished with value: -0.806668 and parameters: {'max_depth': 9, 'min_child_weight': 1, 'subsample': 0.6242488149791064, 'colsample_bynode': 0.4184090742290563, 'learning_rate': 0.10684863185837061}. Best is trial 45 with value: -0.806668.\n"
     ]
    },
    {
     "name": "stderr",
     "output_type": "stream",
     "text": [
      "[I 2025-05-16 17:37:23,481] Trial 46 pruned. Trial was pruned at iteration 31.\n"
     ]
    },
    {
     "name": "stderr",
     "output_type": "stream",
     "text": [
      "[I 2025-05-16 17:37:25,559] Trial 47 pruned. Trial was pruned at iteration 5.\n"
     ]
    },
    {
     "name": "stderr",
     "output_type": "stream",
     "text": [
      "[I 2025-05-16 17:37:26,281] Trial 48 pruned. Trial was pruned at iteration 0.\n"
     ]
    },
    {
     "name": "stderr",
     "output_type": "stream",
     "text": [
      "[I 2025-05-16 17:37:28,846] Trial 49 pruned. Trial was pruned at iteration 6.\n"
     ]
    }
   ],
   "source": [
    "sampler = optuna.samplers.TPESampler(seed=42)\n",
    "study = optuna.create_study(direction='minimize', sampler=sampler)\n",
    "study.optimize(objective, n_trials=N_TRIALS, gc_after_trial=True)"
   ]
  },
  {
   "cell_type": "code",
   "execution_count": 20,
   "id": "9daf75ea",
   "metadata": {
    "execution": {
     "iopub.execute_input": "2025-05-16T15:37:28.960272Z",
     "iopub.status.busy": "2025-05-16T15:37:28.960000Z",
     "iopub.status.idle": "2025-05-16T15:37:28.995906Z",
     "shell.execute_reply": "2025-05-16T15:37:28.995613Z"
    },
    "papermill": {
     "duration": 0.051445,
     "end_time": "2025-05-16T15:37:28.996749",
     "exception": false,
     "start_time": "2025-05-16T15:37:28.945304",
     "status": "completed"
    },
    "tags": []
   },
   "outputs": [
    {
     "data": {
      "text/plain": [
       "['/scratch_isilon/groups/singlecell/shared/projects/Inflammation-PBMCs-Atlas/03_downstream_analysis/08_gene_importance/xgboost_external_validation/xgboost_TopN_genes/results_20/study/Mono_9_2_xgboost.pkl']"
      ]
     },
     "execution_count": 20,
     "metadata": {},
     "output_type": "execute_result"
    }
   ],
   "source": [
    "out_dir = here(f'03_downstream_analysis/08_gene_importance/xgboost_external_validation/xgboost_TopN_genes/results_{N_GENES}/study')\n",
    "\n",
    "if not os.path.exists(out_dir):\n",
    "    os.makedirs(out_dir)\n",
    "    \n",
    "joblib.dump(study,os.path.join(out_dir, f'{CELL_TYPE}_{SEED}_{TEST_SPLIT_IDX}_xgboost.pkl'))"
   ]
  },
  {
   "cell_type": "code",
   "execution_count": 21,
   "id": "98dd8793",
   "metadata": {
    "execution": {
     "iopub.execute_input": "2025-05-16T15:37:29.018824Z",
     "iopub.status.busy": "2025-05-16T15:37:29.018597Z",
     "iopub.status.idle": "2025-05-16T15:38:18.705983Z",
     "shell.execute_reply": "2025-05-16T15:38:18.705559Z"
    },
    "papermill": {
     "duration": 49.710278,
     "end_time": "2025-05-16T15:38:18.718861",
     "exception": false,
     "start_time": "2025-05-16T15:37:29.008583",
     "status": "completed"
    },
    "tags": []
   },
   "outputs": [
    {
     "data": {
      "text/html": [
       "<style>#sk-container-id-1 {\n",
       "  /* Definition of color scheme common for light and dark mode */\n",
       "  --sklearn-color-text: black;\n",
       "  --sklearn-color-line: gray;\n",
       "  /* Definition of color scheme for unfitted estimators */\n",
       "  --sklearn-color-unfitted-level-0: #fff5e6;\n",
       "  --sklearn-color-unfitted-level-1: #f6e4d2;\n",
       "  --sklearn-color-unfitted-level-2: #ffe0b3;\n",
       "  --sklearn-color-unfitted-level-3: chocolate;\n",
       "  /* Definition of color scheme for fitted estimators */\n",
       "  --sklearn-color-fitted-level-0: #f0f8ff;\n",
       "  --sklearn-color-fitted-level-1: #d4ebff;\n",
       "  --sklearn-color-fitted-level-2: #b3dbfd;\n",
       "  --sklearn-color-fitted-level-3: cornflowerblue;\n",
       "\n",
       "  /* Specific color for light theme */\n",
       "  --sklearn-color-text-on-default-background: var(--sg-text-color, var(--theme-code-foreground, var(--jp-content-font-color1, black)));\n",
       "  --sklearn-color-background: var(--sg-background-color, var(--theme-background, var(--jp-layout-color0, white)));\n",
       "  --sklearn-color-border-box: var(--sg-text-color, var(--theme-code-foreground, var(--jp-content-font-color1, black)));\n",
       "  --sklearn-color-icon: #696969;\n",
       "\n",
       "  @media (prefers-color-scheme: dark) {\n",
       "    /* Redefinition of color scheme for dark theme */\n",
       "    --sklearn-color-text-on-default-background: var(--sg-text-color, var(--theme-code-foreground, var(--jp-content-font-color1, white)));\n",
       "    --sklearn-color-background: var(--sg-background-color, var(--theme-background, var(--jp-layout-color0, #111)));\n",
       "    --sklearn-color-border-box: var(--sg-text-color, var(--theme-code-foreground, var(--jp-content-font-color1, white)));\n",
       "    --sklearn-color-icon: #878787;\n",
       "  }\n",
       "}\n",
       "\n",
       "#sk-container-id-1 {\n",
       "  color: var(--sklearn-color-text);\n",
       "}\n",
       "\n",
       "#sk-container-id-1 pre {\n",
       "  padding: 0;\n",
       "}\n",
       "\n",
       "#sk-container-id-1 input.sk-hidden--visually {\n",
       "  border: 0;\n",
       "  clip: rect(1px 1px 1px 1px);\n",
       "  clip: rect(1px, 1px, 1px, 1px);\n",
       "  height: 1px;\n",
       "  margin: -1px;\n",
       "  overflow: hidden;\n",
       "  padding: 0;\n",
       "  position: absolute;\n",
       "  width: 1px;\n",
       "}\n",
       "\n",
       "#sk-container-id-1 div.sk-dashed-wrapped {\n",
       "  border: 1px dashed var(--sklearn-color-line);\n",
       "  margin: 0 0.4em 0.5em 0.4em;\n",
       "  box-sizing: border-box;\n",
       "  padding-bottom: 0.4em;\n",
       "  background-color: var(--sklearn-color-background);\n",
       "}\n",
       "\n",
       "#sk-container-id-1 div.sk-container {\n",
       "  /* jupyter's `normalize.less` sets `[hidden] { display: none; }`\n",
       "     but bootstrap.min.css set `[hidden] { display: none !important; }`\n",
       "     so we also need the `!important` here to be able to override the\n",
       "     default hidden behavior on the sphinx rendered scikit-learn.org.\n",
       "     See: https://github.com/scikit-learn/scikit-learn/issues/21755 */\n",
       "  display: inline-block !important;\n",
       "  position: relative;\n",
       "}\n",
       "\n",
       "#sk-container-id-1 div.sk-text-repr-fallback {\n",
       "  display: none;\n",
       "}\n",
       "\n",
       "div.sk-parallel-item,\n",
       "div.sk-serial,\n",
       "div.sk-item {\n",
       "  /* draw centered vertical line to link estimators */\n",
       "  background-image: linear-gradient(var(--sklearn-color-text-on-default-background), var(--sklearn-color-text-on-default-background));\n",
       "  background-size: 2px 100%;\n",
       "  background-repeat: no-repeat;\n",
       "  background-position: center center;\n",
       "}\n",
       "\n",
       "/* Parallel-specific style estimator block */\n",
       "\n",
       "#sk-container-id-1 div.sk-parallel-item::after {\n",
       "  content: \"\";\n",
       "  width: 100%;\n",
       "  border-bottom: 2px solid var(--sklearn-color-text-on-default-background);\n",
       "  flex-grow: 1;\n",
       "}\n",
       "\n",
       "#sk-container-id-1 div.sk-parallel {\n",
       "  display: flex;\n",
       "  align-items: stretch;\n",
       "  justify-content: center;\n",
       "  background-color: var(--sklearn-color-background);\n",
       "  position: relative;\n",
       "}\n",
       "\n",
       "#sk-container-id-1 div.sk-parallel-item {\n",
       "  display: flex;\n",
       "  flex-direction: column;\n",
       "}\n",
       "\n",
       "#sk-container-id-1 div.sk-parallel-item:first-child::after {\n",
       "  align-self: flex-end;\n",
       "  width: 50%;\n",
       "}\n",
       "\n",
       "#sk-container-id-1 div.sk-parallel-item:last-child::after {\n",
       "  align-self: flex-start;\n",
       "  width: 50%;\n",
       "}\n",
       "\n",
       "#sk-container-id-1 div.sk-parallel-item:only-child::after {\n",
       "  width: 0;\n",
       "}\n",
       "\n",
       "/* Serial-specific style estimator block */\n",
       "\n",
       "#sk-container-id-1 div.sk-serial {\n",
       "  display: flex;\n",
       "  flex-direction: column;\n",
       "  align-items: center;\n",
       "  background-color: var(--sklearn-color-background);\n",
       "  padding-right: 1em;\n",
       "  padding-left: 1em;\n",
       "}\n",
       "\n",
       "\n",
       "/* Toggleable style: style used for estimator/Pipeline/ColumnTransformer box that is\n",
       "clickable and can be expanded/collapsed.\n",
       "- Pipeline and ColumnTransformer use this feature and define the default style\n",
       "- Estimators will overwrite some part of the style using the `sk-estimator` class\n",
       "*/\n",
       "\n",
       "/* Pipeline and ColumnTransformer style (default) */\n",
       "\n",
       "#sk-container-id-1 div.sk-toggleable {\n",
       "  /* Default theme specific background. It is overwritten whether we have a\n",
       "  specific estimator or a Pipeline/ColumnTransformer */\n",
       "  background-color: var(--sklearn-color-background);\n",
       "}\n",
       "\n",
       "/* Toggleable label */\n",
       "#sk-container-id-1 label.sk-toggleable__label {\n",
       "  cursor: pointer;\n",
       "  display: block;\n",
       "  width: 100%;\n",
       "  margin-bottom: 0;\n",
       "  padding: 0.5em;\n",
       "  box-sizing: border-box;\n",
       "  text-align: center;\n",
       "}\n",
       "\n",
       "#sk-container-id-1 label.sk-toggleable__label-arrow:before {\n",
       "  /* Arrow on the left of the label */\n",
       "  content: \"▸\";\n",
       "  float: left;\n",
       "  margin-right: 0.25em;\n",
       "  color: var(--sklearn-color-icon);\n",
       "}\n",
       "\n",
       "#sk-container-id-1 label.sk-toggleable__label-arrow:hover:before {\n",
       "  color: var(--sklearn-color-text);\n",
       "}\n",
       "\n",
       "/* Toggleable content - dropdown */\n",
       "\n",
       "#sk-container-id-1 div.sk-toggleable__content {\n",
       "  max-height: 0;\n",
       "  max-width: 0;\n",
       "  overflow: hidden;\n",
       "  text-align: left;\n",
       "  /* unfitted */\n",
       "  background-color: var(--sklearn-color-unfitted-level-0);\n",
       "}\n",
       "\n",
       "#sk-container-id-1 div.sk-toggleable__content.fitted {\n",
       "  /* fitted */\n",
       "  background-color: var(--sklearn-color-fitted-level-0);\n",
       "}\n",
       "\n",
       "#sk-container-id-1 div.sk-toggleable__content pre {\n",
       "  margin: 0.2em;\n",
       "  border-radius: 0.25em;\n",
       "  color: var(--sklearn-color-text);\n",
       "  /* unfitted */\n",
       "  background-color: var(--sklearn-color-unfitted-level-0);\n",
       "}\n",
       "\n",
       "#sk-container-id-1 div.sk-toggleable__content.fitted pre {\n",
       "  /* unfitted */\n",
       "  background-color: var(--sklearn-color-fitted-level-0);\n",
       "}\n",
       "\n",
       "#sk-container-id-1 input.sk-toggleable__control:checked~div.sk-toggleable__content {\n",
       "  /* Expand drop-down */\n",
       "  max-height: 200px;\n",
       "  max-width: 100%;\n",
       "  overflow: auto;\n",
       "}\n",
       "\n",
       "#sk-container-id-1 input.sk-toggleable__control:checked~label.sk-toggleable__label-arrow:before {\n",
       "  content: \"▾\";\n",
       "}\n",
       "\n",
       "/* Pipeline/ColumnTransformer-specific style */\n",
       "\n",
       "#sk-container-id-1 div.sk-label input.sk-toggleable__control:checked~label.sk-toggleable__label {\n",
       "  color: var(--sklearn-color-text);\n",
       "  background-color: var(--sklearn-color-unfitted-level-2);\n",
       "}\n",
       "\n",
       "#sk-container-id-1 div.sk-label.fitted input.sk-toggleable__control:checked~label.sk-toggleable__label {\n",
       "  background-color: var(--sklearn-color-fitted-level-2);\n",
       "}\n",
       "\n",
       "/* Estimator-specific style */\n",
       "\n",
       "/* Colorize estimator box */\n",
       "#sk-container-id-1 div.sk-estimator input.sk-toggleable__control:checked~label.sk-toggleable__label {\n",
       "  /* unfitted */\n",
       "  background-color: var(--sklearn-color-unfitted-level-2);\n",
       "}\n",
       "\n",
       "#sk-container-id-1 div.sk-estimator.fitted input.sk-toggleable__control:checked~label.sk-toggleable__label {\n",
       "  /* fitted */\n",
       "  background-color: var(--sklearn-color-fitted-level-2);\n",
       "}\n",
       "\n",
       "#sk-container-id-1 div.sk-label label.sk-toggleable__label,\n",
       "#sk-container-id-1 div.sk-label label {\n",
       "  /* The background is the default theme color */\n",
       "  color: var(--sklearn-color-text-on-default-background);\n",
       "}\n",
       "\n",
       "/* On hover, darken the color of the background */\n",
       "#sk-container-id-1 div.sk-label:hover label.sk-toggleable__label {\n",
       "  color: var(--sklearn-color-text);\n",
       "  background-color: var(--sklearn-color-unfitted-level-2);\n",
       "}\n",
       "\n",
       "/* Label box, darken color on hover, fitted */\n",
       "#sk-container-id-1 div.sk-label.fitted:hover label.sk-toggleable__label.fitted {\n",
       "  color: var(--sklearn-color-text);\n",
       "  background-color: var(--sklearn-color-fitted-level-2);\n",
       "}\n",
       "\n",
       "/* Estimator label */\n",
       "\n",
       "#sk-container-id-1 div.sk-label label {\n",
       "  font-family: monospace;\n",
       "  font-weight: bold;\n",
       "  display: inline-block;\n",
       "  line-height: 1.2em;\n",
       "}\n",
       "\n",
       "#sk-container-id-1 div.sk-label-container {\n",
       "  text-align: center;\n",
       "}\n",
       "\n",
       "/* Estimator-specific */\n",
       "#sk-container-id-1 div.sk-estimator {\n",
       "  font-family: monospace;\n",
       "  border: 1px dotted var(--sklearn-color-border-box);\n",
       "  border-radius: 0.25em;\n",
       "  box-sizing: border-box;\n",
       "  margin-bottom: 0.5em;\n",
       "  /* unfitted */\n",
       "  background-color: var(--sklearn-color-unfitted-level-0);\n",
       "}\n",
       "\n",
       "#sk-container-id-1 div.sk-estimator.fitted {\n",
       "  /* fitted */\n",
       "  background-color: var(--sklearn-color-fitted-level-0);\n",
       "}\n",
       "\n",
       "/* on hover */\n",
       "#sk-container-id-1 div.sk-estimator:hover {\n",
       "  /* unfitted */\n",
       "  background-color: var(--sklearn-color-unfitted-level-2);\n",
       "}\n",
       "\n",
       "#sk-container-id-1 div.sk-estimator.fitted:hover {\n",
       "  /* fitted */\n",
       "  background-color: var(--sklearn-color-fitted-level-2);\n",
       "}\n",
       "\n",
       "/* Specification for estimator info (e.g. \"i\" and \"?\") */\n",
       "\n",
       "/* Common style for \"i\" and \"?\" */\n",
       "\n",
       ".sk-estimator-doc-link,\n",
       "a:link.sk-estimator-doc-link,\n",
       "a:visited.sk-estimator-doc-link {\n",
       "  float: right;\n",
       "  font-size: smaller;\n",
       "  line-height: 1em;\n",
       "  font-family: monospace;\n",
       "  background-color: var(--sklearn-color-background);\n",
       "  border-radius: 1em;\n",
       "  height: 1em;\n",
       "  width: 1em;\n",
       "  text-decoration: none !important;\n",
       "  margin-left: 1ex;\n",
       "  /* unfitted */\n",
       "  border: var(--sklearn-color-unfitted-level-1) 1pt solid;\n",
       "  color: var(--sklearn-color-unfitted-level-1);\n",
       "}\n",
       "\n",
       ".sk-estimator-doc-link.fitted,\n",
       "a:link.sk-estimator-doc-link.fitted,\n",
       "a:visited.sk-estimator-doc-link.fitted {\n",
       "  /* fitted */\n",
       "  border: var(--sklearn-color-fitted-level-1) 1pt solid;\n",
       "  color: var(--sklearn-color-fitted-level-1);\n",
       "}\n",
       "\n",
       "/* On hover */\n",
       "div.sk-estimator:hover .sk-estimator-doc-link:hover,\n",
       ".sk-estimator-doc-link:hover,\n",
       "div.sk-label-container:hover .sk-estimator-doc-link:hover,\n",
       ".sk-estimator-doc-link:hover {\n",
       "  /* unfitted */\n",
       "  background-color: var(--sklearn-color-unfitted-level-3);\n",
       "  color: var(--sklearn-color-background);\n",
       "  text-decoration: none;\n",
       "}\n",
       "\n",
       "div.sk-estimator.fitted:hover .sk-estimator-doc-link.fitted:hover,\n",
       ".sk-estimator-doc-link.fitted:hover,\n",
       "div.sk-label-container:hover .sk-estimator-doc-link.fitted:hover,\n",
       ".sk-estimator-doc-link.fitted:hover {\n",
       "  /* fitted */\n",
       "  background-color: var(--sklearn-color-fitted-level-3);\n",
       "  color: var(--sklearn-color-background);\n",
       "  text-decoration: none;\n",
       "}\n",
       "\n",
       "/* Span, style for the box shown on hovering the info icon */\n",
       ".sk-estimator-doc-link span {\n",
       "  display: none;\n",
       "  z-index: 9999;\n",
       "  position: relative;\n",
       "  font-weight: normal;\n",
       "  right: .2ex;\n",
       "  padding: .5ex;\n",
       "  margin: .5ex;\n",
       "  width: min-content;\n",
       "  min-width: 20ex;\n",
       "  max-width: 50ex;\n",
       "  color: var(--sklearn-color-text);\n",
       "  box-shadow: 2pt 2pt 4pt #999;\n",
       "  /* unfitted */\n",
       "  background: var(--sklearn-color-unfitted-level-0);\n",
       "  border: .5pt solid var(--sklearn-color-unfitted-level-3);\n",
       "}\n",
       "\n",
       ".sk-estimator-doc-link.fitted span {\n",
       "  /* fitted */\n",
       "  background: var(--sklearn-color-fitted-level-0);\n",
       "  border: var(--sklearn-color-fitted-level-3);\n",
       "}\n",
       "\n",
       ".sk-estimator-doc-link:hover span {\n",
       "  display: block;\n",
       "}\n",
       "\n",
       "/* \"?\"-specific style due to the `<a>` HTML tag */\n",
       "\n",
       "#sk-container-id-1 a.estimator_doc_link {\n",
       "  float: right;\n",
       "  font-size: 1rem;\n",
       "  line-height: 1em;\n",
       "  font-family: monospace;\n",
       "  background-color: var(--sklearn-color-background);\n",
       "  border-radius: 1rem;\n",
       "  height: 1rem;\n",
       "  width: 1rem;\n",
       "  text-decoration: none;\n",
       "  /* unfitted */\n",
       "  color: var(--sklearn-color-unfitted-level-1);\n",
       "  border: var(--sklearn-color-unfitted-level-1) 1pt solid;\n",
       "}\n",
       "\n",
       "#sk-container-id-1 a.estimator_doc_link.fitted {\n",
       "  /* fitted */\n",
       "  border: var(--sklearn-color-fitted-level-1) 1pt solid;\n",
       "  color: var(--sklearn-color-fitted-level-1);\n",
       "}\n",
       "\n",
       "/* On hover */\n",
       "#sk-container-id-1 a.estimator_doc_link:hover {\n",
       "  /* unfitted */\n",
       "  background-color: var(--sklearn-color-unfitted-level-3);\n",
       "  color: var(--sklearn-color-background);\n",
       "  text-decoration: none;\n",
       "}\n",
       "\n",
       "#sk-container-id-1 a.estimator_doc_link.fitted:hover {\n",
       "  /* fitted */\n",
       "  background-color: var(--sklearn-color-fitted-level-3);\n",
       "}\n",
       "</style><div id=\"sk-container-id-1\" class=\"sk-top-container\"><div class=\"sk-text-repr-fallback\"><pre>XGBClassifier(base_score=None, booster=None, callbacks=None,\n",
       "              colsample_bylevel=None, colsample_bynode=0.4184090742290563,\n",
       "              colsample_bytree=None, device=None, early_stopping_rounds=None,\n",
       "              enable_categorical=False,\n",
       "              eval_metric=&lt;function custom_f1_score at 0x7f55df137380&gt;,\n",
       "              feature_types=None, gamma=None, grow_policy=None,\n",
       "              importance_type=None, interaction_constraints=None,\n",
       "              learning_rate=0.10684863185837061, max_bin=None,\n",
       "              max_cat_threshold=None, max_cat_to_onehot=None,\n",
       "              max_delta_step=None, max_depth=9, max_leaves=None,\n",
       "              min_child_weight=1, missing=nan, monotone_constraints=None,\n",
       "              multi_strategy=None, n_estimators=165, n_jobs=None,\n",
       "              num_parallel_tree=None, objective=&#x27;multi:softprob&#x27;, ...)</pre><b>In a Jupyter environment, please rerun this cell to show the HTML representation or trust the notebook. <br />On GitHub, the HTML representation is unable to render, please try loading this page with nbviewer.org.</b></div><div class=\"sk-container\" hidden><div class=\"sk-item\"><div class=\"sk-estimator fitted sk-toggleable\"><input class=\"sk-toggleable__control sk-hidden--visually\" id=\"sk-estimator-id-1\" type=\"checkbox\" checked><label for=\"sk-estimator-id-1\" class=\"sk-toggleable__label fitted sk-toggleable__label-arrow fitted\">&nbsp;XGBClassifier<span class=\"sk-estimator-doc-link fitted\">i<span>Fitted</span></span></label><div class=\"sk-toggleable__content fitted\"><pre>XGBClassifier(base_score=None, booster=None, callbacks=None,\n",
       "              colsample_bylevel=None, colsample_bynode=0.4184090742290563,\n",
       "              colsample_bytree=None, device=None, early_stopping_rounds=None,\n",
       "              enable_categorical=False,\n",
       "              eval_metric=&lt;function custom_f1_score at 0x7f55df137380&gt;,\n",
       "              feature_types=None, gamma=None, grow_policy=None,\n",
       "              importance_type=None, interaction_constraints=None,\n",
       "              learning_rate=0.10684863185837061, max_bin=None,\n",
       "              max_cat_threshold=None, max_cat_to_onehot=None,\n",
       "              max_delta_step=None, max_depth=9, max_leaves=None,\n",
       "              min_child_weight=1, missing=nan, monotone_constraints=None,\n",
       "              multi_strategy=None, n_estimators=165, n_jobs=None,\n",
       "              num_parallel_tree=None, objective=&#x27;multi:softprob&#x27;, ...)</pre></div> </div></div></div></div>"
      ],
      "text/plain": [
       "XGBClassifier(base_score=None, booster=None, callbacks=None,\n",
       "              colsample_bylevel=None, colsample_bynode=0.4184090742290563,\n",
       "              colsample_bytree=None, device=None, early_stopping_rounds=None,\n",
       "              enable_categorical=False,\n",
       "              eval_metric=<function custom_f1_score at 0x7f55df137380>,\n",
       "              feature_types=None, gamma=None, grow_policy=None,\n",
       "              importance_type=None, interaction_constraints=None,\n",
       "              learning_rate=0.10684863185837061, max_bin=None,\n",
       "              max_cat_threshold=None, max_cat_to_onehot=None,\n",
       "              max_delta_step=None, max_depth=9, max_leaves=None,\n",
       "              min_child_weight=1, missing=nan, monotone_constraints=None,\n",
       "              multi_strategy=None, n_estimators=165, n_jobs=None,\n",
       "              num_parallel_tree=None, objective='multi:softprob', ...)"
      ]
     },
     "execution_count": 21,
     "metadata": {},
     "output_type": "execute_result"
    }
   ],
   "source": [
    "n_estimators = int(study.best_trial.user_attrs['best_iteration']*1.2)\n",
    "xgb = xgboost.XGBClassifier(\n",
    "        eval_metric=eval_metric,\n",
    "        n_estimators=n_estimators,\n",
    "        **study.best_trial.params\n",
    "    )\n",
    "xgb.fit(\n",
    "    ssp.vstack((X_train, X_val)), \n",
    "    np.concatenate((y_train_enc, y_val_enc)),\n",
    "    verbose=1,\n",
    ")"
   ]
  },
  {
   "cell_type": "code",
   "execution_count": 22,
   "id": "a3521243",
   "metadata": {
    "execution": {
     "iopub.execute_input": "2025-05-16T15:38:18.739601Z",
     "iopub.status.busy": "2025-05-16T15:38:18.739349Z",
     "iopub.status.idle": "2025-05-16T15:38:18.899084Z",
     "shell.execute_reply": "2025-05-16T15:38:18.898739Z"
    },
    "papermill": {
     "duration": 0.169958,
     "end_time": "2025-05-16T15:38:18.899862",
     "exception": false,
     "start_time": "2025-05-16T15:38:18.729904",
     "status": "completed"
    },
    "tags": []
   },
   "outputs": [
    {
     "data": {
      "text/plain": [
       "['/scratch_isilon/groups/singlecell/shared/projects/Inflammation-PBMCs-Atlas/03_downstream_analysis/08_gene_importance/xgboost_external_validation/xgboost_TopN_genes/results_20/best_model/Mono_9_2_xgb.json']"
      ]
     },
     "execution_count": 22,
     "metadata": {},
     "output_type": "execute_result"
    }
   ],
   "source": [
    "out_dir = here(f'03_downstream_analysis/08_gene_importance/xgboost_external_validation/xgboost_TopN_genes/results_{N_GENES}/best_model')\n",
    "\n",
    "if not os.path.exists(out_dir):\n",
    "    os.makedirs(out_dir)\n",
    "    \n",
    "joblib.dump(xgb, os.path.join(out_dir, f'{CELL_TYPE}_{SEED}_{TEST_SPLIT_IDX}_xgb.json'))"
   ]
  },
  {
   "cell_type": "code",
   "execution_count": 23,
   "id": "0ad4d6ec",
   "metadata": {
    "execution": {
     "iopub.execute_input": "2025-05-16T15:38:18.926418Z",
     "iopub.status.busy": "2025-05-16T15:38:18.926094Z",
     "iopub.status.idle": "2025-05-16T15:38:20.128825Z",
     "shell.execute_reply": "2025-05-16T15:38:20.128369Z"
    },
    "papermill": {
     "duration": 1.219761,
     "end_time": "2025-05-16T15:38:20.130121",
     "exception": false,
     "start_time": "2025-05-16T15:38:18.910360",
     "status": "completed"
    },
    "tags": []
   },
   "outputs": [],
   "source": [
    "df_pred_test = pd.DataFrame(dict(\n",
    "    cell_id=train_adata.obs.iloc[test_idxs].index.values,\n",
    "    y_true=y_test, \n",
    "    y_true_code=y_test_enc, \n",
    "    y_pred=xgb.predict(X_test))).set_index('cell_id')"
   ]
  },
  {
   "cell_type": "code",
   "execution_count": 24,
   "id": "f365c88f",
   "metadata": {
    "execution": {
     "iopub.execute_input": "2025-05-16T15:38:20.148718Z",
     "iopub.status.busy": "2025-05-16T15:38:20.148487Z",
     "iopub.status.idle": "2025-05-16T15:38:20.330131Z",
     "shell.execute_reply": "2025-05-16T15:38:20.329590Z"
    },
    "papermill": {
     "duration": 0.191924,
     "end_time": "2025-05-16T15:38:20.331313",
     "exception": false,
     "start_time": "2025-05-16T15:38:20.139389",
     "status": "completed"
    },
    "tags": []
   },
   "outputs": [],
   "source": [
    "out_dir = here(f'03_downstream_analysis/08_gene_importance/xgboost_external_validation/xgboost_TopN_genes/results_{N_GENES}/predictions')\n",
    "\n",
    "if not os.path.exists(out_dir):\n",
    "    os.makedirs(out_dir)\n",
    "    \n",
    "df_pred_test.to_csv(os.path.join(out_dir, f'{CELL_TYPE}_{SEED}_{TEST_SPLIT_IDX}_pred_test.zip'))"
   ]
  },
  {
   "cell_type": "code",
   "execution_count": 25,
   "id": "b9e9a1f0",
   "metadata": {
    "execution": {
     "iopub.execute_input": "2025-05-16T15:38:20.350993Z",
     "iopub.status.busy": "2025-05-16T15:38:20.350841Z",
     "iopub.status.idle": "2025-05-16T15:38:20.394794Z",
     "shell.execute_reply": "2025-05-16T15:38:20.394484Z"
    },
    "papermill": {
     "duration": 0.054417,
     "end_time": "2025-05-16T15:38:20.395679",
     "exception": false,
     "start_time": "2025-05-16T15:38:20.341262",
     "status": "completed"
    },
    "tags": []
   },
   "outputs": [
    {
     "name": "stderr",
     "output_type": "stream",
     "text": [
      "/scratch_isilon/groups/singlecell/shared/conda_env/xgboost-cpu/lib/python3.12/site-packages/sklearn/metrics/_classification.py:2466: UserWarning: y_pred contains classes not in y_true\n",
      "  warnings.warn(\"y_pred contains classes not in y_true\")\n"
     ]
    }
   ],
   "source": [
    "metrics_dict = dict(\n",
    "    BAS=balanced_accuracy_score(y_true=df_pred_test.y_true_code, y_pred=df_pred_test.y_pred), WF1=f1_score(y_true=df_pred_test.y_true_code, y_pred=df_pred_test.y_pred,average='weighted'))"
   ]
  },
  {
   "cell_type": "code",
   "execution_count": 26,
   "id": "24334f2e",
   "metadata": {
    "execution": {
     "iopub.execute_input": "2025-05-16T15:38:20.469775Z",
     "iopub.status.busy": "2025-05-16T15:38:20.469469Z",
     "iopub.status.idle": "2025-05-16T15:38:20.472897Z",
     "shell.execute_reply": "2025-05-16T15:38:20.472596Z"
    },
    "papermill": {
     "duration": 0.054998,
     "end_time": "2025-05-16T15:38:20.473706",
     "exception": false,
     "start_time": "2025-05-16T15:38:20.418708",
     "status": "completed"
    },
    "tags": []
   },
   "outputs": [
    {
     "data": {
      "text/plain": [
       "{'BAS': 0.5963691577885187, 'WF1': 0.818213347164402}"
      ]
     },
     "execution_count": 26,
     "metadata": {},
     "output_type": "execute_result"
    }
   ],
   "source": [
    "metrics_dict"
   ]
  },
  {
   "cell_type": "code",
   "execution_count": 27,
   "id": "a8580b77",
   "metadata": {
    "execution": {
     "iopub.execute_input": "2025-05-16T15:38:20.493222Z",
     "iopub.status.busy": "2025-05-16T15:38:20.492952Z",
     "iopub.status.idle": "2025-05-16T15:38:20.528784Z",
     "shell.execute_reply": "2025-05-16T15:38:20.528484Z"
    },
    "papermill": {
     "duration": 0.046581,
     "end_time": "2025-05-16T15:38:20.529579",
     "exception": false,
     "start_time": "2025-05-16T15:38:20.482998",
     "status": "completed"
    },
    "tags": []
   },
   "outputs": [
    {
     "data": {
      "text/html": [
       "<div>\n",
       "<style scoped>\n",
       "    .dataframe tbody tr th:only-of-type {\n",
       "        vertical-align: middle;\n",
       "    }\n",
       "\n",
       "    .dataframe tbody tr th {\n",
       "        vertical-align: top;\n",
       "    }\n",
       "\n",
       "    .dataframe thead th {\n",
       "        text-align: right;\n",
       "    }\n",
       "</style>\n",
       "<table border=\"1\" class=\"dataframe\">\n",
       "  <thead>\n",
       "    <tr style=\"text-align: right;\">\n",
       "      <th></th>\n",
       "      <th>BAS</th>\n",
       "      <th>WF1</th>\n",
       "      <th>split_idx</th>\n",
       "      <th>gene_set_seed</th>\n",
       "      <th>cell_type</th>\n",
       "    </tr>\n",
       "  </thead>\n",
       "  <tbody>\n",
       "    <tr>\n",
       "      <th>0</th>\n",
       "      <td>0.596369</td>\n",
       "      <td>0.818213</td>\n",
       "      <td>2</td>\n",
       "      <td>9</td>\n",
       "      <td>Mono</td>\n",
       "    </tr>\n",
       "  </tbody>\n",
       "</table>\n",
       "</div>"
      ],
      "text/plain": [
       "        BAS       WF1  split_idx  gene_set_seed cell_type\n",
       "0  0.596369  0.818213          2              9      Mono"
      ]
     },
     "execution_count": 27,
     "metadata": {},
     "output_type": "execute_result"
    }
   ],
   "source": [
    "metrics_df = pd.DataFrame.from_dict([metrics_dict]).assign(split_idx=TEST_SPLIT_IDX, gene_set_seed=SEED, cell_type=CELL_TYPE)\n",
    "metrics_df"
   ]
  },
  {
   "cell_type": "code",
   "execution_count": 28,
   "id": "3dd44fce",
   "metadata": {
    "execution": {
     "iopub.execute_input": "2025-05-16T15:38:20.547978Z",
     "iopub.status.busy": "2025-05-16T15:38:20.547842Z",
     "iopub.status.idle": "2025-05-16T15:38:20.581397Z",
     "shell.execute_reply": "2025-05-16T15:38:20.581106Z"
    },
    "papermill": {
     "duration": 0.043612,
     "end_time": "2025-05-16T15:38:20.582229",
     "exception": false,
     "start_time": "2025-05-16T15:38:20.538617",
     "status": "completed"
    },
    "tags": []
   },
   "outputs": [],
   "source": [
    "out_dir = here(f'03_downstream_analysis/08_gene_importance/xgboost_external_validation/xgboost_TopN_genes/results_{N_GENES}/metrics')\n",
    "\n",
    "if not os.path.exists(out_dir):\n",
    "    os.makedirs(out_dir)\n",
    "    \n",
    "metrics_df.to_csv(os.path.join(out_dir, f'{CELL_TYPE}_{SEED}_{TEST_SPLIT_IDX}_metrics.zip'))"
   ]
  }
 ],
 "metadata": {
  "kernelspec": {
   "display_name": "Python 3 (ipykernel)",
   "language": "python",
   "name": "python3"
  },
  "language_info": {
   "codemirror_mode": {
    "name": "ipython",
    "version": 3
   },
   "file_extension": ".py",
   "mimetype": "text/x-python",
   "name": "python",
   "nbconvert_exporter": "python",
   "pygments_lexer": "ipython3",
   "version": "3.12.5"
  },
  "papermill": {
   "default_parameters": {},
   "duration": 886.809813,
   "end_time": "2025-05-16T15:38:21.207269",
   "environment_variables": {},
   "exception": null,
   "input_path": "02_xgboost_fitting_external_20genes.ipynb",
   "output_path": "results_20/executed_notebooks/xgboost_fitting_external_CT_Mono_GS_9_seed2.ipynb",
   "parameters": {
    "CELL_TYPE": "Mono",
    "SEED": 9,
    "TEST_SPLIT_IDX": 2
   },
   "start_time": "2025-05-16T15:23:34.397456",
   "version": "2.6.0"
  }
 },
 "nbformat": 4,
 "nbformat_minor": 5
}