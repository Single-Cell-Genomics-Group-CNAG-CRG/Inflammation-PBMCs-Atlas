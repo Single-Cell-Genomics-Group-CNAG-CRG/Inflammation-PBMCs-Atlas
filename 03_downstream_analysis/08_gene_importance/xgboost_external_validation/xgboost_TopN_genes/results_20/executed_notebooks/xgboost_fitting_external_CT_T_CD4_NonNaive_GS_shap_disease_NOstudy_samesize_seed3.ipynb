{
 "cells": [
  {
   "cell_type": "code",
   "execution_count": 1,
   "id": "323b7ca9",
   "metadata": {
    "editable": true,
    "execution": {
     "iopub.execute_input": "2025-06-13T13:02:04.023464Z",
     "iopub.status.busy": "2025-06-13T13:02:04.023223Z",
     "iopub.status.idle": "2025-06-13T13:02:04.026936Z",
     "shell.execute_reply": "2025-06-13T13:02:04.026503Z"
    },
    "papermill": {
     "duration": 0.013434,
     "end_time": "2025-06-13T13:02:04.028002",
     "exception": false,
     "start_time": "2025-06-13T13:02:04.014568",
     "status": "completed"
    },
    "slideshow": {
     "slide_type": ""
    },
    "tags": [
     "parameters"
    ]
   },
   "outputs": [],
   "source": [
    "CELL_TYPE = 'pDC'\n",
    "N_GENES: int = 20\n",
    "SEED = 'shap_studyID' #'disease_NOstudy' 'study_NOdisease' or 'int' or 'shap_studyID'\n",
    "TEST_SPLIT_IDX: int = 1 #[0,4]"
   ]
  },
  {
   "cell_type": "code",
   "execution_count": 2,
   "id": "b883d4ad",
   "metadata": {
    "execution": {
     "iopub.execute_input": "2025-06-13T13:02:04.041178Z",
     "iopub.status.busy": "2025-06-13T13:02:04.040934Z",
     "iopub.status.idle": "2025-06-13T13:02:04.043526Z",
     "shell.execute_reply": "2025-06-13T13:02:04.043106Z"
    },
    "papermill": {
     "duration": 0.010478,
     "end_time": "2025-06-13T13:02:04.044631",
     "exception": false,
     "start_time": "2025-06-13T13:02:04.034153",
     "status": "completed"
    },
    "tags": [
     "injected-parameters"
    ]
   },
   "outputs": [],
   "source": [
    "# Parameters\n",
    "CELL_TYPE = \"T_CD4_NonNaive\"\n",
    "SEED = \"shap_disease_NOstudy_samesize\"\n",
    "TEST_SPLIT_IDX = 3\n"
   ]
  },
  {
   "cell_type": "code",
   "execution_count": 3,
   "id": "157f2eea",
   "metadata": {
    "execution": {
     "iopub.execute_input": "2025-06-13T13:02:04.164576Z",
     "iopub.status.busy": "2025-06-13T13:02:04.164298Z",
     "iopub.status.idle": "2025-06-13T13:02:04.167070Z",
     "shell.execute_reply": "2025-06-13T13:02:04.166647Z"
    },
    "papermill": {
     "duration": 0.100469,
     "end_time": "2025-06-13T13:02:04.168022",
     "exception": false,
     "start_time": "2025-06-13T13:02:04.067553",
     "status": "completed"
    },
    "tags": []
   },
   "outputs": [],
   "source": [
    "N_SPLITS: int = 5\n",
    "N_TRIALS: int = 50"
   ]
  },
  {
   "cell_type": "code",
   "execution_count": 4,
   "id": "591c1962",
   "metadata": {
    "execution": {
     "iopub.execute_input": "2025-06-13T13:02:04.416970Z",
     "iopub.status.busy": "2025-06-13T13:02:04.416675Z",
     "iopub.status.idle": "2025-06-13T13:02:09.346690Z",
     "shell.execute_reply": "2025-06-13T13:02:09.346167Z"
    },
    "papermill": {
     "duration": 4.986268,
     "end_time": "2025-06-13T13:02:09.348124",
     "exception": false,
     "start_time": "2025-06-13T13:02:04.361856",
     "status": "completed"
    },
    "tags": []
   },
   "outputs": [],
   "source": [
    "import os\n",
    "import sys\n",
    "from pyprojroot.here import here\n",
    "import pandas as pd\n",
    "import anndata as ad\n",
    "import numpy as np\n",
    "import math\n",
    "from sklearn.model_selection import StratifiedGroupKFold\n",
    "from sklearn.preprocessing import LabelEncoder\n",
    "from sklearn.metrics import f1_score\n",
    "import matplotlib.pyplot as plt\n",
    "import seaborn as sns\n",
    "from itertools import product\n",
    "from sklearn.metrics import balanced_accuracy_score, f1_score\n",
    "import optuna\n",
    "\n",
    "import joblib\n",
    "import pickle\n",
    "import datetime\n",
    "\n",
    "import collections\n",
    "\n",
    "import xgboost\n",
    "from sklearn.preprocessing import LabelEncoder\n",
    "\n",
    "import scipy.sparse as ssp\n",
    "import joblib\n",
    "\n",
    "from dotenv import load_dotenv"
   ]
  },
  {
   "cell_type": "code",
   "execution_count": 5,
   "id": "103c3654",
   "metadata": {
    "execution": {
     "iopub.execute_input": "2025-06-13T13:02:09.362781Z",
     "iopub.status.busy": "2025-06-13T13:02:09.362395Z",
     "iopub.status.idle": "2025-06-13T13:02:09.368966Z",
     "shell.execute_reply": "2025-06-13T13:02:09.368621Z"
    },
    "papermill": {
     "duration": 0.014927,
     "end_time": "2025-06-13T13:02:09.369900",
     "exception": false,
     "start_time": "2025-06-13T13:02:09.354973",
     "status": "completed"
    },
    "tags": []
   },
   "outputs": [
    {
     "data": {
      "text/plain": [
       "True"
      ]
     },
     "execution_count": 5,
     "metadata": {},
     "output_type": "execute_result"
    }
   ],
   "source": [
    "load_dotenv()"
   ]
  },
  {
   "cell_type": "markdown",
   "id": "0a92196a",
   "metadata": {
    "papermill": {
     "duration": 0.005765,
     "end_time": "2025-06-13T13:02:09.381560",
     "exception": false,
     "start_time": "2025-06-13T13:02:09.375795",
     "status": "completed"
    },
    "tags": []
   },
   "source": [
    "# LOAD DATASET"
   ]
  },
  {
   "cell_type": "code",
   "execution_count": 6,
   "id": "94c6b09c",
   "metadata": {
    "execution": {
     "iopub.execute_input": "2025-06-13T13:02:09.422540Z",
     "iopub.status.busy": "2025-06-13T13:02:09.422193Z",
     "iopub.status.idle": "2025-06-13T13:02:10.211912Z",
     "shell.execute_reply": "2025-06-13T13:02:10.211383Z"
    },
    "papermill": {
     "duration": 0.825465,
     "end_time": "2025-06-13T13:02:10.213367",
     "exception": false,
     "start_time": "2025-06-13T13:02:09.387902",
     "status": "completed"
    },
    "tags": []
   },
   "outputs": [],
   "source": [
    "train_adata = ad.read_h5ad(\n",
    "    here(f'03_downstream_analysis/08_gene_importance/xgboost_external_validation/xgboost_TopN_genes/data_cellTypes/EXTERNAL_{CELL_TYPE}.filtered.log1p.h5ad')\n",
    ")"
   ]
  },
  {
   "cell_type": "code",
   "execution_count": 7,
   "id": "d0fcb48c",
   "metadata": {
    "execution": {
     "iopub.execute_input": "2025-06-13T13:02:10.226686Z",
     "iopub.status.busy": "2025-06-13T13:02:10.226468Z",
     "iopub.status.idle": "2025-06-13T13:02:10.262130Z",
     "shell.execute_reply": "2025-06-13T13:02:10.261661Z"
    },
    "papermill": {
     "duration": 0.043521,
     "end_time": "2025-06-13T13:02:10.263265",
     "exception": false,
     "start_time": "2025-06-13T13:02:10.219744",
     "status": "completed"
    },
    "tags": []
   },
   "outputs": [
    {
     "name": "stdout",
     "output_type": "stream",
     "text": [
      "['ENSG00000006125' 'ENSG00000019582' 'ENSG00000030582' 'ENSG00000065978'\n",
      " 'ENSG00000067182' 'ENSG00000072958' 'ENSG00000076944' 'ENSG00000077380'\n",
      " 'ENSG00000079805' 'ENSG00000090266' 'ENSG00000090382' 'ENSG00000090863'\n",
      " 'ENSG00000100664' 'ENSG00000104998' 'ENSG00000105373' 'ENSG00000106952'\n",
      " 'ENSG00000108561' 'ENSG00000109787' 'ENSG00000110848' 'ENSG00000110876'\n",
      " 'ENSG00000111348' 'ENSG00000111716' 'ENSG00000112149' 'ENSG00000113732'\n",
      " 'ENSG00000120129' 'ENSG00000125347' 'ENSG00000125740' 'ENSG00000126524'\n",
      " 'ENSG00000126561' 'ENSG00000126709' 'ENSG00000127152' 'ENSG00000130522'\n",
      " 'ENSG00000132002' 'ENSG00000132465' 'ENSG00000132475' 'ENSG00000134954'\n",
      " 'ENSG00000137959' 'ENSG00000137965' 'ENSG00000138674' 'ENSG00000143119'\n",
      " 'ENSG00000143543' 'ENSG00000143575' 'ENSG00000145247' 'ENSG00000146278'\n",
      " 'ENSG00000146457' 'ENSG00000152082' 'ENSG00000152234' 'ENSG00000152495'\n",
      " 'ENSG00000154589' 'ENSG00000157601' 'ENSG00000158050' 'ENSG00000158517'\n",
      " 'ENSG00000160932' 'ENSG00000162368' 'ENSG00000162739' 'ENSG00000163660'\n",
      " 'ENSG00000164543' 'ENSG00000165280' 'ENSG00000165732' 'ENSG00000167552'\n",
      " 'ENSG00000167996' 'ENSG00000169442' 'ENSG00000169564' 'ENSG00000170345'\n",
      " 'ENSG00000170525' 'ENSG00000170989' 'ENSG00000172349' 'ENSG00000172936'\n",
      " 'ENSG00000175354' 'ENSG00000175768' 'ENSG00000176986' 'ENSG00000177606'\n",
      " 'ENSG00000179094' 'ENSG00000179144' 'ENSG00000181029' 'ENSG00000183172'\n",
      " 'ENSG00000183508' 'ENSG00000183696' 'ENSG00000184007' 'ENSG00000184897'\n",
      " 'ENSG00000185201' 'ENSG00000185338' 'ENSG00000185650' 'ENSG00000185883'\n",
      " 'ENSG00000186010' 'ENSG00000186395' 'ENSG00000196396' 'ENSG00000197061'\n",
      " 'ENSG00000197102' 'ENSG00000197111' 'ENSG00000198355' 'ENSG00000198502'\n",
      " 'ENSG00000203896' 'ENSG00000204267' 'ENSG00000204525' 'ENSG00000211895'\n",
      " 'ENSG00000213928' 'ENSG00000229474' 'ENSG00000242616' 'ENSG00000243646'\n",
      " 'ENSG00000254772' 'ENSG00000258315' 'ENSG00000264364']\n"
     ]
    }
   ],
   "source": [
    "if SEED != 'all':\n",
    "    gene_subset = np.load(here(f'03_downstream_analysis/08_gene_importance/xgboost_external_validation/shap_gene_selection/gene_subsets_{N_GENES}/{CELL_TYPE}_{SEED}.npy'), allow_pickle=True)\n",
    "    train_adata = train_adata[:,gene_subset]\n",
    "    print(gene_subset)\n",
    "elif SEED == 'all':\n",
    "    print('Using all genes')\n",
    "else:\n",
    "    raise ValueError()"
   ]
  },
  {
   "cell_type": "code",
   "execution_count": 8,
   "id": "0db6f63c",
   "metadata": {
    "execution": {
     "iopub.execute_input": "2025-06-13T13:02:10.280628Z",
     "iopub.status.busy": "2025-06-13T13:02:10.280169Z",
     "iopub.status.idle": "2025-06-13T13:02:10.283417Z",
     "shell.execute_reply": "2025-06-13T13:02:10.283088Z"
    },
    "papermill": {
     "duration": 0.014443,
     "end_time": "2025-06-13T13:02:10.284281",
     "exception": false,
     "start_time": "2025-06-13T13:02:10.269838",
     "status": "completed"
    },
    "tags": []
   },
   "outputs": [
    {
     "data": {
      "text/plain": [
       "(124886, 103)"
      ]
     },
     "execution_count": 8,
     "metadata": {},
     "output_type": "execute_result"
    }
   ],
   "source": [
    "train_adata.shape"
   ]
  },
  {
   "cell_type": "code",
   "execution_count": 9,
   "id": "397730fe",
   "metadata": {
    "execution": {
     "iopub.execute_input": "2025-06-13T13:02:10.305489Z",
     "iopub.status.busy": "2025-06-13T13:02:10.305259Z",
     "iopub.status.idle": "2025-06-13T13:02:10.309344Z",
     "shell.execute_reply": "2025-06-13T13:02:10.309003Z"
    },
    "papermill": {
     "duration": 0.013048,
     "end_time": "2025-06-13T13:02:10.310264",
     "exception": false,
     "start_time": "2025-06-13T13:02:10.297216",
     "status": "completed"
    },
    "tags": []
   },
   "outputs": [
    {
     "data": {
      "text/plain": [
       "['RA', 'healthy', 'COVID', 'HIV', 'cirrhosis', 'CD', 'SLE', 'sepsis']\n",
       "Categories (8, object): ['CD', 'COVID', 'HIV', 'RA', 'SLE', 'cirrhosis', 'healthy', 'sepsis']"
      ]
     },
     "execution_count": 9,
     "metadata": {},
     "output_type": "execute_result"
    }
   ],
   "source": [
    "train_adata.obs.disease.unique()"
   ]
  },
  {
   "cell_type": "code",
   "execution_count": 10,
   "id": "fce1d649",
   "metadata": {
    "execution": {
     "iopub.execute_input": "2025-06-13T13:02:10.325200Z",
     "iopub.status.busy": "2025-06-13T13:02:10.324998Z",
     "iopub.status.idle": "2025-06-13T13:02:10.329225Z",
     "shell.execute_reply": "2025-06-13T13:02:10.328894Z"
    },
    "papermill": {
     "duration": 0.012554,
     "end_time": "2025-06-13T13:02:10.330128",
     "exception": false,
     "start_time": "2025-06-13T13:02:10.317574",
     "status": "completed"
    },
    "tags": []
   },
   "outputs": [
    {
     "data": {
      "text/plain": [
       "['SCGT00val_I036016_T0', 'SCGT00val_I036023_T0', 'SCGT00val_I036015_T0', 'SCGT00val_I036028_T0', 'SCGT00val_I0364_T0', ..., '10XGenomics_10XHC2_T0', '10XGenomics_10XHC3_T0', '10XGenomics_10XHC5_T0', '10XGenomics_10XHC7_T0', '10XGenomics_10XHC8_T0']\n",
       "Length: 86\n",
       "Categories (86, object): ['10XGenomics_10XHC1_T0', '10XGenomics_10XHC2_T0', '10XGenomics_10XHC3_T0', '10XGenomics_10XHC4_T0', ..., 'Savage2021_BRISL6_T0', 'Savage2021_BRISL7_T0', 'Savage2021_PIDA_T0', 'Savage2021_PIDB_T0']"
      ]
     },
     "execution_count": 10,
     "metadata": {},
     "output_type": "execute_result"
    }
   ],
   "source": [
    "train_adata.obs.sampleID.unique()"
   ]
  },
  {
   "cell_type": "code",
   "execution_count": 11,
   "id": "cf2d3656",
   "metadata": {
    "execution": {
     "iopub.execute_input": "2025-06-13T13:02:10.343442Z",
     "iopub.status.busy": "2025-06-13T13:02:10.343067Z",
     "iopub.status.idle": "2025-06-13T13:02:10.680554Z",
     "shell.execute_reply": "2025-06-13T13:02:10.680118Z"
    },
    "papermill": {
     "duration": 0.345077,
     "end_time": "2025-06-13T13:02:10.681854",
     "exception": false,
     "start_time": "2025-06-13T13:02:10.336777",
     "status": "completed"
    },
    "tags": []
   },
   "outputs": [],
   "source": [
    "all_idxs = np.arange(train_adata.obs.shape[0])\n",
    "left_out_splits = [s[1] for s in StratifiedGroupKFold(n_splits=N_SPLITS).split(all_idxs, train_adata.obs.disease, train_adata.obs.sampleID)]"
   ]
  },
  {
   "cell_type": "code",
   "execution_count": 12,
   "id": "22864ccb",
   "metadata": {
    "execution": {
     "iopub.execute_input": "2025-06-13T13:02:10.725225Z",
     "iopub.status.busy": "2025-06-13T13:02:10.724741Z",
     "iopub.status.idle": "2025-06-13T13:02:10.728463Z",
     "shell.execute_reply": "2025-06-13T13:02:10.728146Z"
    },
    "papermill": {
     "duration": 0.030937,
     "end_time": "2025-06-13T13:02:10.729360",
     "exception": false,
     "start_time": "2025-06-13T13:02:10.698423",
     "status": "completed"
    },
    "tags": []
   },
   "outputs": [
    {
     "data": {
      "text/plain": [
       "([0, 1, 2], 4, 3)"
      ]
     },
     "execution_count": 12,
     "metadata": {},
     "output_type": "execute_result"
    }
   ],
   "source": [
    "TRAIN_SPLIT_IDXS = [0,1,2,3,4]\n",
    "VAL_SPLIT_IDX = (TEST_SPLIT_IDX + 1) % 5\n",
    "TRAIN_SPLIT_IDXS.remove(TEST_SPLIT_IDX)\n",
    "TRAIN_SPLIT_IDXS.remove(VAL_SPLIT_IDX)\n",
    "TRAIN_SPLIT_IDXS, VAL_SPLIT_IDX, TEST_SPLIT_IDX"
   ]
  },
  {
   "cell_type": "code",
   "execution_count": 13,
   "id": "49918246",
   "metadata": {
    "execution": {
     "iopub.execute_input": "2025-06-13T13:02:10.743675Z",
     "iopub.status.busy": "2025-06-13T13:02:10.743488Z",
     "iopub.status.idle": "2025-06-13T13:02:10.746077Z",
     "shell.execute_reply": "2025-06-13T13:02:10.745693Z"
    },
    "papermill": {
     "duration": 0.010448,
     "end_time": "2025-06-13T13:02:10.746957",
     "exception": false,
     "start_time": "2025-06-13T13:02:10.736509",
     "status": "completed"
    },
    "tags": []
   },
   "outputs": [],
   "source": [
    "train_idxs = np.concatenate([left_out_splits[idx] for idx in TRAIN_SPLIT_IDXS])\n",
    "val_idxs = left_out_splits[VAL_SPLIT_IDX]\n",
    "test_idxs = left_out_splits[TEST_SPLIT_IDX]"
   ]
  },
  {
   "cell_type": "markdown",
   "id": "60d44687",
   "metadata": {
    "papermill": {
     "duration": 0.006928,
     "end_time": "2025-06-13T13:02:10.760124",
     "exception": false,
     "start_time": "2025-06-13T13:02:10.753196",
     "status": "completed"
    },
    "tags": []
   },
   "source": [
    "### SUBSET DATASET INTO TRAIN/TEST/VAL SPLITS"
   ]
  },
  {
   "cell_type": "code",
   "execution_count": 14,
   "id": "70063842",
   "metadata": {
    "execution": {
     "iopub.execute_input": "2025-06-13T13:02:10.782132Z",
     "iopub.status.busy": "2025-06-13T13:02:10.781952Z",
     "iopub.status.idle": "2025-06-13T13:02:11.067078Z",
     "shell.execute_reply": "2025-06-13T13:02:11.066667Z"
    },
    "papermill": {
     "duration": 0.292507,
     "end_time": "2025-06-13T13:02:11.068054",
     "exception": false,
     "start_time": "2025-06-13T13:02:10.775547",
     "status": "completed"
    },
    "tags": []
   },
   "outputs": [
    {
     "data": {
      "text/plain": [
       "((76153, 103), (24616, 103), (24117, 103))"
      ]
     },
     "execution_count": 14,
     "metadata": {},
     "output_type": "execute_result"
    }
   ],
   "source": [
    "X_train = train_adata.X[train_idxs]\n",
    "X_test = train_adata.X[test_idxs]\n",
    "X_val = train_adata.X[val_idxs]\n",
    "X_train.shape, X_test.shape, X_val.shape"
   ]
  },
  {
   "cell_type": "code",
   "execution_count": 15,
   "id": "8561c480",
   "metadata": {
    "execution": {
     "iopub.execute_input": "2025-06-13T13:02:11.083186Z",
     "iopub.status.busy": "2025-06-13T13:02:11.082645Z",
     "iopub.status.idle": "2025-06-13T13:02:11.096890Z",
     "shell.execute_reply": "2025-06-13T13:02:11.096504Z"
    },
    "papermill": {
     "duration": 0.023077,
     "end_time": "2025-06-13T13:02:11.097890",
     "exception": false,
     "start_time": "2025-06-13T13:02:11.074813",
     "status": "completed"
    },
    "tags": []
   },
   "outputs": [
    {
     "data": {
      "text/plain": [
       "((76153,), (24616,), (24117,))"
      ]
     },
     "execution_count": 15,
     "metadata": {},
     "output_type": "execute_result"
    }
   ],
   "source": [
    "y_train = train_adata.obs.iloc[train_idxs].disease.values.astype(str)\n",
    "y_test = train_adata.obs.iloc[test_idxs].disease.values.astype(str)\n",
    "y_val = train_adata.obs.iloc[val_idxs].disease.values.astype(str)\n",
    "y_train.shape, y_test.shape, y_val.shape"
   ]
  },
  {
   "cell_type": "code",
   "execution_count": 16,
   "id": "a733761a",
   "metadata": {
    "execution": {
     "iopub.execute_input": "2025-06-13T13:02:11.115369Z",
     "iopub.status.busy": "2025-06-13T13:02:11.115154Z",
     "iopub.status.idle": "2025-06-13T13:02:11.145056Z",
     "shell.execute_reply": "2025-06-13T13:02:11.144594Z"
    },
    "papermill": {
     "duration": 0.038727,
     "end_time": "2025-06-13T13:02:11.146231",
     "exception": false,
     "start_time": "2025-06-13T13:02:11.107504",
     "status": "completed"
    },
    "tags": []
   },
   "outputs": [],
   "source": [
    "lenc = LabelEncoder()\n",
    "y_train_enc = lenc.fit_transform(y_train)\n",
    "y_val_enc = lenc.transform(y_val)\n",
    "y_test_enc = lenc.transform(y_test)"
   ]
  },
  {
   "cell_type": "markdown",
   "id": "91f936c4",
   "metadata": {
    "papermill": {
     "duration": 0.006339,
     "end_time": "2025-06-13T13:02:11.160055",
     "exception": false,
     "start_time": "2025-06-13T13:02:11.153716",
     "status": "completed"
    },
    "tags": []
   },
   "source": [
    "### GENERATE F1 "
   ]
  },
  {
   "cell_type": "code",
   "execution_count": 17,
   "id": "d0829c77",
   "metadata": {
    "execution": {
     "iopub.execute_input": "2025-06-13T13:02:11.195119Z",
     "iopub.status.busy": "2025-06-13T13:02:11.194912Z",
     "iopub.status.idle": "2025-06-13T13:02:11.197651Z",
     "shell.execute_reply": "2025-06-13T13:02:11.197269Z"
    },
    "papermill": {
     "duration": 0.012075,
     "end_time": "2025-06-13T13:02:11.198582",
     "exception": false,
     "start_time": "2025-06-13T13:02:11.186507",
     "status": "completed"
    },
    "tags": []
   },
   "outputs": [],
   "source": [
    "def custom_f1_score(y_true, y_pred):\n",
    "    return -f1_score(y_true, y_pred.argmax(1), average='weighted')"
   ]
  },
  {
   "cell_type": "code",
   "execution_count": 18,
   "id": "7cfd9829",
   "metadata": {
    "execution": {
     "iopub.execute_input": "2025-06-13T13:02:11.215612Z",
     "iopub.status.busy": "2025-06-13T13:02:11.215258Z",
     "iopub.status.idle": "2025-06-13T13:02:11.219202Z",
     "shell.execute_reply": "2025-06-13T13:02:11.218838Z"
    },
    "papermill": {
     "duration": 0.012622,
     "end_time": "2025-06-13T13:02:11.220077",
     "exception": false,
     "start_time": "2025-06-13T13:02:11.207455",
     "status": "completed"
    },
    "tags": []
   },
   "outputs": [],
   "source": [
    "eval_metric=custom_f1_score\n",
    "eval_metric_name='custom_f1_score'\n",
    "\n",
    "def objective(trial):\n",
    "    params = {\n",
    "        'n_estimators': 1500,\n",
    "        'max_depth': trial.suggest_int('max_depth', 3, 20),\n",
    "        'min_child_weight': trial.suggest_int('min_child_weight', 1, 250),\n",
    "        'subsample': trial.suggest_float('subsample', 0.1, 1.0),\n",
    "        'colsample_bynode': trial.suggest_float('colsample_bynode', 0.1, 1.0),\n",
    "        'learning_rate': trial.suggest_float('learning_rate', 1e-3, 5e-1, log=True),\n",
    "    }\n",
    "    pruning_callback = optuna.integration.XGBoostPruningCallback(trial, f'validation_0-{eval_metric_name}')\n",
    "    es_callback = xgboost.callback.EarlyStopping(20, min_delta=0.001)\n",
    "    xgb = xgboost.XGBClassifier(\n",
    "        eval_metric=eval_metric,\n",
    "        callbacks=[pruning_callback, es_callback],\n",
    "        n_jobs=5,\n",
    "        **params\n",
    "    )\n",
    "    xgb.fit(\n",
    "        X_train, \n",
    "        y_train_enc, \n",
    "        verbose=0,\n",
    "        eval_set=[(X_val, y_val_enc)],\n",
    "    )\n",
    "    trial.set_user_attr('best_iteration', xgb.best_iteration)\n",
    "\n",
    "    return xgb.best_score"
   ]
  },
  {
   "cell_type": "code",
   "execution_count": 19,
   "id": "60ae51a5",
   "metadata": {
    "execution": {
     "iopub.execute_input": "2025-06-13T13:02:11.239506Z",
     "iopub.status.busy": "2025-06-13T13:02:11.239263Z",
     "iopub.status.idle": "2025-06-13T13:15:58.296376Z",
     "shell.execute_reply": "2025-06-13T13:15:58.295860Z"
    },
    "papermill": {
     "duration": 827.064936,
     "end_time": "2025-06-13T13:15:58.297585",
     "exception": false,
     "start_time": "2025-06-13T13:02:11.232649",
     "status": "completed"
    },
    "scrolled": true,
    "tags": []
   },
   "outputs": [
    {
     "name": "stderr",
     "output_type": "stream",
     "text": [
      "[I 2025-06-13 15:02:11,241] A new study created in memory with name: no-name-17d605ca-88d4-4c71-9fbf-0d9635426514\n"
     ]
    },
    {
     "name": "stderr",
     "output_type": "stream",
     "text": [
      "[I 2025-06-13 15:03:07,867] Trial 0 finished with value: -0.759503 and parameters: {'max_depth': 9, 'min_child_weight': 238, 'subsample': 0.7587945476302645, 'colsample_bynode': 0.6387926357773329, 'learning_rate': 0.0026368755339723046}. Best is trial 0 with value: -0.759503.\n"
     ]
    },
    {
     "name": "stderr",
     "output_type": "stream",
     "text": [
      "[I 2025-06-13 15:04:18,441] Trial 1 finished with value: -0.848044 and parameters: {'max_depth': 5, 'min_child_weight': 15, 'subsample': 0.8795585311974417, 'colsample_bynode': 0.6410035105688879, 'learning_rate': 0.08148293210105287}. Best is trial 1 with value: -0.848044.\n"
     ]
    },
    {
     "name": "stderr",
     "output_type": "stream",
     "text": [
      "[I 2025-06-13 15:04:31,835] Trial 2 finished with value: -0.684278 and parameters: {'max_depth': 3, 'min_child_weight': 243, 'subsample': 0.8491983767203796, 'colsample_bynode': 0.29110519961044856, 'learning_rate': 0.003095566460242371}. Best is trial 1 with value: -0.848044.\n"
     ]
    },
    {
     "name": "stderr",
     "output_type": "stream",
     "text": [
      "[I 2025-06-13 15:05:11,380] Trial 3 finished with value: -0.786277 and parameters: {'max_depth': 6, 'min_child_weight': 77, 'subsample': 0.5722807884690141, 'colsample_bynode': 0.48875051677790415, 'learning_rate': 0.006109683510122491}. Best is trial 1 with value: -0.848044.\n"
     ]
    },
    {
     "name": "stderr",
     "output_type": "stream",
     "text": [
      "[I 2025-06-13 15:07:33,070] Trial 4 finished with value: -0.84052 and parameters: {'max_depth': 14, 'min_child_weight': 35, 'subsample': 0.3629301836816964, 'colsample_bynode': 0.4297256589643226, 'learning_rate': 0.01701841881702917}. Best is trial 1 with value: -0.848044.\n"
     ]
    },
    {
     "name": "stderr",
     "output_type": "stream",
     "text": [
      "[I 2025-06-13 15:07:43,981] Trial 5 pruned. Trial was pruned at iteration 30.\n"
     ]
    },
    {
     "name": "stderr",
     "output_type": "stream",
     "text": [
      "[I 2025-06-13 15:07:44,582] Trial 6 pruned. Trial was pruned at iteration 0.\n"
     ]
    },
    {
     "name": "stderr",
     "output_type": "stream",
     "text": [
      "[I 2025-06-13 15:07:45,150] Trial 7 pruned. Trial was pruned at iteration 0.\n"
     ]
    },
    {
     "name": "stderr",
     "output_type": "stream",
     "text": [
      "[I 2025-06-13 15:07:45,701] Trial 8 pruned. Trial was pruned at iteration 0.\n"
     ]
    },
    {
     "name": "stderr",
     "output_type": "stream",
     "text": [
      "[I 2025-06-13 15:07:50,659] Trial 9 pruned. Trial was pruned at iteration 14.\n"
     ]
    },
    {
     "name": "stderr",
     "output_type": "stream",
     "text": [
      "[I 2025-06-13 15:07:51,397] Trial 10 pruned. Trial was pruned at iteration 0.\n"
     ]
    },
    {
     "name": "stderr",
     "output_type": "stream",
     "text": [
      "[I 2025-06-13 15:09:05,277] Trial 11 finished with value: -0.846718 and parameters: {'max_depth': 10, 'min_child_weight': 3, 'subsample': 0.34014304150377095, 'colsample_bynode': 0.40131565860091256, 'learning_rate': 0.057899203666416425}. Best is trial 1 with value: -0.848044.\n"
     ]
    },
    {
     "name": "stderr",
     "output_type": "stream",
     "text": [
      "[I 2025-06-13 15:10:05,240] Trial 12 finished with value: -0.84833 and parameters: {'max_depth': 8, 'min_child_weight': 3, 'subsample': 0.3693916175642251, 'colsample_bynode': 0.351751713087183, 'learning_rate': 0.07220195396446884}. Best is trial 12 with value: -0.84833.\n"
     ]
    },
    {
     "name": "stderr",
     "output_type": "stream",
     "text": [
      "[I 2025-06-13 15:10:05,811] Trial 13 pruned. Trial was pruned at iteration 0.\n"
     ]
    },
    {
     "name": "stderr",
     "output_type": "stream",
     "text": [
      "[I 2025-06-13 15:10:06,665] Trial 14 pruned. Trial was pruned at iteration 1.\n"
     ]
    },
    {
     "name": "stderr",
     "output_type": "stream",
     "text": [
      "[I 2025-06-13 15:10:07,153] Trial 15 pruned. Trial was pruned at iteration 0.\n"
     ]
    },
    {
     "name": "stderr",
     "output_type": "stream",
     "text": [
      "[I 2025-06-13 15:10:08,042] Trial 16 pruned. Trial was pruned at iteration 1.\n"
     ]
    },
    {
     "name": "stderr",
     "output_type": "stream",
     "text": [
      "[I 2025-06-13 15:10:08,583] Trial 17 pruned. Trial was pruned at iteration 0.\n"
     ]
    },
    {
     "name": "stderr",
     "output_type": "stream",
     "text": [
      "[I 2025-06-13 15:10:45,716] Trial 18 finished with value: -0.851566 and parameters: {'max_depth': 8, 'min_child_weight': 37, 'subsample': 0.47368595472697, 'colsample_bynode': 0.5260950582681523, 'learning_rate': 0.1892056162835139}. Best is trial 18 with value: -0.851566.\n"
     ]
    },
    {
     "name": "stderr",
     "output_type": "stream",
     "text": [
      "[I 2025-06-13 15:10:46,240] Trial 19 pruned. Trial was pruned at iteration 0.\n"
     ]
    },
    {
     "name": "stderr",
     "output_type": "stream",
     "text": [
      "[I 2025-06-13 15:11:10,952] Trial 20 finished with value: -0.850608 and parameters: {'max_depth': 12, 'min_child_weight': 32, 'subsample': 0.48502173267357984, 'colsample_bynode': 0.38117393369504515, 'learning_rate': 0.287890631721482}. Best is trial 18 with value: -0.851566.\n"
     ]
    },
    {
     "name": "stderr",
     "output_type": "stream",
     "text": [
      "[I 2025-06-13 15:11:32,779] Trial 21 finished with value: -0.850947 and parameters: {'max_depth': 11, 'min_child_weight': 30, 'subsample': 0.47032227786177017, 'colsample_bynode': 0.3939906001498705, 'learning_rate': 0.24892967230551474}. Best is trial 18 with value: -0.851566.\n"
     ]
    },
    {
     "name": "stderr",
     "output_type": "stream",
     "text": [
      "[I 2025-06-13 15:11:33,286] Trial 22 pruned. Trial was pruned at iteration 0.\n"
     ]
    },
    {
     "name": "stderr",
     "output_type": "stream",
     "text": [
      "[I 2025-06-13 15:11:33,828] Trial 23 pruned. Trial was pruned at iteration 0.\n"
     ]
    },
    {
     "name": "stderr",
     "output_type": "stream",
     "text": [
      "[I 2025-06-13 15:12:00,891] Trial 24 finished with value: -0.85048 and parameters: {'max_depth': 16, 'min_child_weight': 63, 'subsample': 0.6252149293527128, 'colsample_bynode': 0.545994453507514, 'learning_rate': 0.29886418195819436}. Best is trial 18 with value: -0.851566.\n"
     ]
    },
    {
     "name": "stderr",
     "output_type": "stream",
     "text": [
      "[I 2025-06-13 15:12:01,502] Trial 25 pruned. Trial was pruned at iteration 0.\n"
     ]
    },
    {
     "name": "stderr",
     "output_type": "stream",
     "text": [
      "[I 2025-06-13 15:12:02,108] Trial 26 pruned. Trial was pruned at iteration 0.\n"
     ]
    },
    {
     "name": "stderr",
     "output_type": "stream",
     "text": [
      "[I 2025-06-13 15:12:02,719] Trial 27 pruned. Trial was pruned at iteration 0.\n"
     ]
    },
    {
     "name": "stderr",
     "output_type": "stream",
     "text": [
      "[I 2025-06-13 15:12:26,117] Trial 28 finished with value: -0.849409 and parameters: {'max_depth': 15, 'min_child_weight': 21, 'subsample': 0.2881803585558258, 'colsample_bynode': 0.4374946732976231, 'learning_rate': 0.25095135998989854}. Best is trial 18 with value: -0.851566.\n"
     ]
    },
    {
     "name": "stderr",
     "output_type": "stream",
     "text": [
      "[I 2025-06-13 15:12:26,652] Trial 29 pruned. Trial was pruned at iteration 0.\n"
     ]
    },
    {
     "name": "stderr",
     "output_type": "stream",
     "text": [
      "[I 2025-06-13 15:12:27,252] Trial 30 pruned. Trial was pruned at iteration 0.\n"
     ]
    },
    {
     "name": "stderr",
     "output_type": "stream",
     "text": [
      "[I 2025-06-13 15:12:27,879] Trial 31 pruned. Trial was pruned at iteration 0.\n"
     ]
    },
    {
     "name": "stderr",
     "output_type": "stream",
     "text": [
      "[I 2025-06-13 15:13:06,072] Trial 32 finished with value: -0.85138 and parameters: {'max_depth': 20, 'min_child_weight': 21, 'subsample': 0.6207309471401061, 'colsample_bynode': 0.6262106425144562, 'learning_rate': 0.20117725899882932}. Best is trial 18 with value: -0.851566.\n"
     ]
    },
    {
     "name": "stderr",
     "output_type": "stream",
     "text": [
      "[I 2025-06-13 15:13:46,710] Trial 33 finished with value: -0.849301 and parameters: {'max_depth': 20, 'min_child_weight': 19, 'subsample': 0.7412211933462668, 'colsample_bynode': 0.6807437585711098, 'learning_rate': 0.17748351399404477}. Best is trial 18 with value: -0.851566.\n"
     ]
    },
    {
     "name": "stderr",
     "output_type": "stream",
     "text": [
      "[I 2025-06-13 15:13:49,158] Trial 34 pruned. Trial was pruned at iteration 4.\n"
     ]
    },
    {
     "name": "stderr",
     "output_type": "stream",
     "text": [
      "[I 2025-06-13 15:13:49,746] Trial 35 pruned. Trial was pruned at iteration 0.\n"
     ]
    },
    {
     "name": "stderr",
     "output_type": "stream",
     "text": [
      "[I 2025-06-13 15:14:18,591] Trial 36 finished with value: -0.849753 and parameters: {'max_depth': 7, 'min_child_weight': 46, 'subsample': 0.6983485719238764, 'colsample_bynode': 0.6183075266747661, 'learning_rate': 0.3459920006822701}. Best is trial 18 with value: -0.851566.\n"
     ]
    },
    {
     "name": "stderr",
     "output_type": "stream",
     "text": [
      "[I 2025-06-13 15:14:19,165] Trial 37 pruned. Trial was pruned at iteration 0.\n"
     ]
    },
    {
     "name": "stderr",
     "output_type": "stream",
     "text": [
      "[I 2025-06-13 15:14:19,710] Trial 38 pruned. Trial was pruned at iteration 0.\n"
     ]
    },
    {
     "name": "stderr",
     "output_type": "stream",
     "text": [
      "[I 2025-06-13 15:14:20,262] Trial 39 pruned. Trial was pruned at iteration 0.\n"
     ]
    },
    {
     "name": "stderr",
     "output_type": "stream",
     "text": [
      "[I 2025-06-13 15:14:48,462] Trial 40 finished with value: -0.848375 and parameters: {'max_depth': 13, 'min_child_weight': 28, 'subsample': 0.5340394741944015, 'colsample_bynode': 0.8571699294382557, 'learning_rate': 0.3951328290649586}. Best is trial 18 with value: -0.851566.\n"
     ]
    },
    {
     "name": "stderr",
     "output_type": "stream",
     "text": [
      "[I 2025-06-13 15:14:49,147] Trial 41 pruned. Trial was pruned at iteration 0.\n"
     ]
    },
    {
     "name": "stderr",
     "output_type": "stream",
     "text": [
      "[I 2025-06-13 15:14:49,867] Trial 42 pruned. Trial was pruned at iteration 0.\n"
     ]
    },
    {
     "name": "stderr",
     "output_type": "stream",
     "text": [
      "[I 2025-06-13 15:15:22,181] Trial 43 finished with value: -0.849911 and parameters: {'max_depth': 14, 'min_child_weight': 12, 'subsample': 0.4741525422285321, 'colsample_bynode': 0.6067883582577333, 'learning_rate': 0.30006668418284227}. Best is trial 18 with value: -0.851566.\n"
     ]
    },
    {
     "name": "stderr",
     "output_type": "stream",
     "text": [
      "[I 2025-06-13 15:15:22,820] Trial 44 pruned. Trial was pruned at iteration 0.\n"
     ]
    },
    {
     "name": "stderr",
     "output_type": "stream",
     "text": [
      "[I 2025-06-13 15:15:47,666] Trial 45 finished with value: -0.849961 and parameters: {'max_depth': 16, 'min_child_weight': 40, 'subsample': 0.7960861928727062, 'colsample_bynode': 0.3232499289214025, 'learning_rate': 0.3829304354012577}. Best is trial 18 with value: -0.851566.\n"
     ]
    },
    {
     "name": "stderr",
     "output_type": "stream",
     "text": [
      "[I 2025-06-13 15:15:51,048] Trial 46 pruned. Trial was pruned at iteration 5.\n"
     ]
    },
    {
     "name": "stderr",
     "output_type": "stream",
     "text": [
      "[I 2025-06-13 15:15:56,835] Trial 47 pruned. Trial was pruned at iteration 12.\n"
     ]
    },
    {
     "name": "stderr",
     "output_type": "stream",
     "text": [
      "[I 2025-06-13 15:15:57,533] Trial 48 pruned. Trial was pruned at iteration 0.\n"
     ]
    },
    {
     "name": "stderr",
     "output_type": "stream",
     "text": [
      "[I 2025-06-13 15:15:58,209] Trial 49 pruned. Trial was pruned at iteration 0.\n"
     ]
    }
   ],
   "source": [
    "sampler = optuna.samplers.TPESampler(seed=42)\n",
    "study = optuna.create_study(direction='minimize', sampler=sampler)\n",
    "study.optimize(objective, n_trials=N_TRIALS, gc_after_trial=True)"
   ]
  },
  {
   "cell_type": "code",
   "execution_count": 20,
   "id": "a07e585d",
   "metadata": {
    "execution": {
     "iopub.execute_input": "2025-06-13T13:15:58.318911Z",
     "iopub.status.busy": "2025-06-13T13:15:58.318571Z",
     "iopub.status.idle": "2025-06-13T13:15:58.349402Z",
     "shell.execute_reply": "2025-06-13T13:15:58.349032Z"
    },
    "papermill": {
     "duration": 0.042596,
     "end_time": "2025-06-13T13:15:58.350553",
     "exception": false,
     "start_time": "2025-06-13T13:15:58.307957",
     "status": "completed"
    },
    "tags": []
   },
   "outputs": [
    {
     "data": {
      "text/plain": [
       "['/scratch_isilon/groups/singlecell/shared/projects/Inflammation-PBMCs-Atlas/03_downstream_analysis/08_gene_importance/xgboost_external_validation/xgboost_TopN_genes/results_20/study/T_CD4_NonNaive_shap_disease_NOstudy_samesize_3_xgboost.pkl']"
      ]
     },
     "execution_count": 20,
     "metadata": {},
     "output_type": "execute_result"
    }
   ],
   "source": [
    "out_dir = here(f'03_downstream_analysis/08_gene_importance/xgboost_external_validation/xgboost_TopN_genes/results_{N_GENES}/study')\n",
    "\n",
    "if not os.path.exists(out_dir):\n",
    "    os.makedirs(out_dir)\n",
    "    \n",
    "joblib.dump(study,os.path.join(out_dir, f'{CELL_TYPE}_{SEED}_{TEST_SPLIT_IDX}_xgboost.pkl'))"
   ]
  },
  {
   "cell_type": "code",
   "execution_count": 21,
   "id": "0bf48c40",
   "metadata": {
    "execution": {
     "iopub.execute_input": "2025-06-13T13:15:58.373261Z",
     "iopub.status.busy": "2025-06-13T13:15:58.372928Z",
     "iopub.status.idle": "2025-06-13T13:16:12.326991Z",
     "shell.execute_reply": "2025-06-13T13:16:12.326509Z"
    },
    "papermill": {
     "duration": 13.967165,
     "end_time": "2025-06-13T13:16:12.328293",
     "exception": false,
     "start_time": "2025-06-13T13:15:58.361128",
     "status": "completed"
    },
    "tags": []
   },
   "outputs": [
    {
     "data": {
      "text/html": [
       "<style>#sk-container-id-1 {\n",
       "  /* Definition of color scheme common for light and dark mode */\n",
       "  --sklearn-color-text: black;\n",
       "  --sklearn-color-line: gray;\n",
       "  /* Definition of color scheme for unfitted estimators */\n",
       "  --sklearn-color-unfitted-level-0: #fff5e6;\n",
       "  --sklearn-color-unfitted-level-1: #f6e4d2;\n",
       "  --sklearn-color-unfitted-level-2: #ffe0b3;\n",
       "  --sklearn-color-unfitted-level-3: chocolate;\n",
       "  /* Definition of color scheme for fitted estimators */\n",
       "  --sklearn-color-fitted-level-0: #f0f8ff;\n",
       "  --sklearn-color-fitted-level-1: #d4ebff;\n",
       "  --sklearn-color-fitted-level-2: #b3dbfd;\n",
       "  --sklearn-color-fitted-level-3: cornflowerblue;\n",
       "\n",
       "  /* Specific color for light theme */\n",
       "  --sklearn-color-text-on-default-background: var(--sg-text-color, var(--theme-code-foreground, var(--jp-content-font-color1, black)));\n",
       "  --sklearn-color-background: var(--sg-background-color, var(--theme-background, var(--jp-layout-color0, white)));\n",
       "  --sklearn-color-border-box: var(--sg-text-color, var(--theme-code-foreground, var(--jp-content-font-color1, black)));\n",
       "  --sklearn-color-icon: #696969;\n",
       "\n",
       "  @media (prefers-color-scheme: dark) {\n",
       "    /* Redefinition of color scheme for dark theme */\n",
       "    --sklearn-color-text-on-default-background: var(--sg-text-color, var(--theme-code-foreground, var(--jp-content-font-color1, white)));\n",
       "    --sklearn-color-background: var(--sg-background-color, var(--theme-background, var(--jp-layout-color0, #111)));\n",
       "    --sklearn-color-border-box: var(--sg-text-color, var(--theme-code-foreground, var(--jp-content-font-color1, white)));\n",
       "    --sklearn-color-icon: #878787;\n",
       "  }\n",
       "}\n",
       "\n",
       "#sk-container-id-1 {\n",
       "  color: var(--sklearn-color-text);\n",
       "}\n",
       "\n",
       "#sk-container-id-1 pre {\n",
       "  padding: 0;\n",
       "}\n",
       "\n",
       "#sk-container-id-1 input.sk-hidden--visually {\n",
       "  border: 0;\n",
       "  clip: rect(1px 1px 1px 1px);\n",
       "  clip: rect(1px, 1px, 1px, 1px);\n",
       "  height: 1px;\n",
       "  margin: -1px;\n",
       "  overflow: hidden;\n",
       "  padding: 0;\n",
       "  position: absolute;\n",
       "  width: 1px;\n",
       "}\n",
       "\n",
       "#sk-container-id-1 div.sk-dashed-wrapped {\n",
       "  border: 1px dashed var(--sklearn-color-line);\n",
       "  margin: 0 0.4em 0.5em 0.4em;\n",
       "  box-sizing: border-box;\n",
       "  padding-bottom: 0.4em;\n",
       "  background-color: var(--sklearn-color-background);\n",
       "}\n",
       "\n",
       "#sk-container-id-1 div.sk-container {\n",
       "  /* jupyter's `normalize.less` sets `[hidden] { display: none; }`\n",
       "     but bootstrap.min.css set `[hidden] { display: none !important; }`\n",
       "     so we also need the `!important` here to be able to override the\n",
       "     default hidden behavior on the sphinx rendered scikit-learn.org.\n",
       "     See: https://github.com/scikit-learn/scikit-learn/issues/21755 */\n",
       "  display: inline-block !important;\n",
       "  position: relative;\n",
       "}\n",
       "\n",
       "#sk-container-id-1 div.sk-text-repr-fallback {\n",
       "  display: none;\n",
       "}\n",
       "\n",
       "div.sk-parallel-item,\n",
       "div.sk-serial,\n",
       "div.sk-item {\n",
       "  /* draw centered vertical line to link estimators */\n",
       "  background-image: linear-gradient(var(--sklearn-color-text-on-default-background), var(--sklearn-color-text-on-default-background));\n",
       "  background-size: 2px 100%;\n",
       "  background-repeat: no-repeat;\n",
       "  background-position: center center;\n",
       "}\n",
       "\n",
       "/* Parallel-specific style estimator block */\n",
       "\n",
       "#sk-container-id-1 div.sk-parallel-item::after {\n",
       "  content: \"\";\n",
       "  width: 100%;\n",
       "  border-bottom: 2px solid var(--sklearn-color-text-on-default-background);\n",
       "  flex-grow: 1;\n",
       "}\n",
       "\n",
       "#sk-container-id-1 div.sk-parallel {\n",
       "  display: flex;\n",
       "  align-items: stretch;\n",
       "  justify-content: center;\n",
       "  background-color: var(--sklearn-color-background);\n",
       "  position: relative;\n",
       "}\n",
       "\n",
       "#sk-container-id-1 div.sk-parallel-item {\n",
       "  display: flex;\n",
       "  flex-direction: column;\n",
       "}\n",
       "\n",
       "#sk-container-id-1 div.sk-parallel-item:first-child::after {\n",
       "  align-self: flex-end;\n",
       "  width: 50%;\n",
       "}\n",
       "\n",
       "#sk-container-id-1 div.sk-parallel-item:last-child::after {\n",
       "  align-self: flex-start;\n",
       "  width: 50%;\n",
       "}\n",
       "\n",
       "#sk-container-id-1 div.sk-parallel-item:only-child::after {\n",
       "  width: 0;\n",
       "}\n",
       "\n",
       "/* Serial-specific style estimator block */\n",
       "\n",
       "#sk-container-id-1 div.sk-serial {\n",
       "  display: flex;\n",
       "  flex-direction: column;\n",
       "  align-items: center;\n",
       "  background-color: var(--sklearn-color-background);\n",
       "  padding-right: 1em;\n",
       "  padding-left: 1em;\n",
       "}\n",
       "\n",
       "\n",
       "/* Toggleable style: style used for estimator/Pipeline/ColumnTransformer box that is\n",
       "clickable and can be expanded/collapsed.\n",
       "- Pipeline and ColumnTransformer use this feature and define the default style\n",
       "- Estimators will overwrite some part of the style using the `sk-estimator` class\n",
       "*/\n",
       "\n",
       "/* Pipeline and ColumnTransformer style (default) */\n",
       "\n",
       "#sk-container-id-1 div.sk-toggleable {\n",
       "  /* Default theme specific background. It is overwritten whether we have a\n",
       "  specific estimator or a Pipeline/ColumnTransformer */\n",
       "  background-color: var(--sklearn-color-background);\n",
       "}\n",
       "\n",
       "/* Toggleable label */\n",
       "#sk-container-id-1 label.sk-toggleable__label {\n",
       "  cursor: pointer;\n",
       "  display: block;\n",
       "  width: 100%;\n",
       "  margin-bottom: 0;\n",
       "  padding: 0.5em;\n",
       "  box-sizing: border-box;\n",
       "  text-align: center;\n",
       "}\n",
       "\n",
       "#sk-container-id-1 label.sk-toggleable__label-arrow:before {\n",
       "  /* Arrow on the left of the label */\n",
       "  content: \"▸\";\n",
       "  float: left;\n",
       "  margin-right: 0.25em;\n",
       "  color: var(--sklearn-color-icon);\n",
       "}\n",
       "\n",
       "#sk-container-id-1 label.sk-toggleable__label-arrow:hover:before {\n",
       "  color: var(--sklearn-color-text);\n",
       "}\n",
       "\n",
       "/* Toggleable content - dropdown */\n",
       "\n",
       "#sk-container-id-1 div.sk-toggleable__content {\n",
       "  max-height: 0;\n",
       "  max-width: 0;\n",
       "  overflow: hidden;\n",
       "  text-align: left;\n",
       "  /* unfitted */\n",
       "  background-color: var(--sklearn-color-unfitted-level-0);\n",
       "}\n",
       "\n",
       "#sk-container-id-1 div.sk-toggleable__content.fitted {\n",
       "  /* fitted */\n",
       "  background-color: var(--sklearn-color-fitted-level-0);\n",
       "}\n",
       "\n",
       "#sk-container-id-1 div.sk-toggleable__content pre {\n",
       "  margin: 0.2em;\n",
       "  border-radius: 0.25em;\n",
       "  color: var(--sklearn-color-text);\n",
       "  /* unfitted */\n",
       "  background-color: var(--sklearn-color-unfitted-level-0);\n",
       "}\n",
       "\n",
       "#sk-container-id-1 div.sk-toggleable__content.fitted pre {\n",
       "  /* unfitted */\n",
       "  background-color: var(--sklearn-color-fitted-level-0);\n",
       "}\n",
       "\n",
       "#sk-container-id-1 input.sk-toggleable__control:checked~div.sk-toggleable__content {\n",
       "  /* Expand drop-down */\n",
       "  max-height: 200px;\n",
       "  max-width: 100%;\n",
       "  overflow: auto;\n",
       "}\n",
       "\n",
       "#sk-container-id-1 input.sk-toggleable__control:checked~label.sk-toggleable__label-arrow:before {\n",
       "  content: \"▾\";\n",
       "}\n",
       "\n",
       "/* Pipeline/ColumnTransformer-specific style */\n",
       "\n",
       "#sk-container-id-1 div.sk-label input.sk-toggleable__control:checked~label.sk-toggleable__label {\n",
       "  color: var(--sklearn-color-text);\n",
       "  background-color: var(--sklearn-color-unfitted-level-2);\n",
       "}\n",
       "\n",
       "#sk-container-id-1 div.sk-label.fitted input.sk-toggleable__control:checked~label.sk-toggleable__label {\n",
       "  background-color: var(--sklearn-color-fitted-level-2);\n",
       "}\n",
       "\n",
       "/* Estimator-specific style */\n",
       "\n",
       "/* Colorize estimator box */\n",
       "#sk-container-id-1 div.sk-estimator input.sk-toggleable__control:checked~label.sk-toggleable__label {\n",
       "  /* unfitted */\n",
       "  background-color: var(--sklearn-color-unfitted-level-2);\n",
       "}\n",
       "\n",
       "#sk-container-id-1 div.sk-estimator.fitted input.sk-toggleable__control:checked~label.sk-toggleable__label {\n",
       "  /* fitted */\n",
       "  background-color: var(--sklearn-color-fitted-level-2);\n",
       "}\n",
       "\n",
       "#sk-container-id-1 div.sk-label label.sk-toggleable__label,\n",
       "#sk-container-id-1 div.sk-label label {\n",
       "  /* The background is the default theme color */\n",
       "  color: var(--sklearn-color-text-on-default-background);\n",
       "}\n",
       "\n",
       "/* On hover, darken the color of the background */\n",
       "#sk-container-id-1 div.sk-label:hover label.sk-toggleable__label {\n",
       "  color: var(--sklearn-color-text);\n",
       "  background-color: var(--sklearn-color-unfitted-level-2);\n",
       "}\n",
       "\n",
       "/* Label box, darken color on hover, fitted */\n",
       "#sk-container-id-1 div.sk-label.fitted:hover label.sk-toggleable__label.fitted {\n",
       "  color: var(--sklearn-color-text);\n",
       "  background-color: var(--sklearn-color-fitted-level-2);\n",
       "}\n",
       "\n",
       "/* Estimator label */\n",
       "\n",
       "#sk-container-id-1 div.sk-label label {\n",
       "  font-family: monospace;\n",
       "  font-weight: bold;\n",
       "  display: inline-block;\n",
       "  line-height: 1.2em;\n",
       "}\n",
       "\n",
       "#sk-container-id-1 div.sk-label-container {\n",
       "  text-align: center;\n",
       "}\n",
       "\n",
       "/* Estimator-specific */\n",
       "#sk-container-id-1 div.sk-estimator {\n",
       "  font-family: monospace;\n",
       "  border: 1px dotted var(--sklearn-color-border-box);\n",
       "  border-radius: 0.25em;\n",
       "  box-sizing: border-box;\n",
       "  margin-bottom: 0.5em;\n",
       "  /* unfitted */\n",
       "  background-color: var(--sklearn-color-unfitted-level-0);\n",
       "}\n",
       "\n",
       "#sk-container-id-1 div.sk-estimator.fitted {\n",
       "  /* fitted */\n",
       "  background-color: var(--sklearn-color-fitted-level-0);\n",
       "}\n",
       "\n",
       "/* on hover */\n",
       "#sk-container-id-1 div.sk-estimator:hover {\n",
       "  /* unfitted */\n",
       "  background-color: var(--sklearn-color-unfitted-level-2);\n",
       "}\n",
       "\n",
       "#sk-container-id-1 div.sk-estimator.fitted:hover {\n",
       "  /* fitted */\n",
       "  background-color: var(--sklearn-color-fitted-level-2);\n",
       "}\n",
       "\n",
       "/* Specification for estimator info (e.g. \"i\" and \"?\") */\n",
       "\n",
       "/* Common style for \"i\" and \"?\" */\n",
       "\n",
       ".sk-estimator-doc-link,\n",
       "a:link.sk-estimator-doc-link,\n",
       "a:visited.sk-estimator-doc-link {\n",
       "  float: right;\n",
       "  font-size: smaller;\n",
       "  line-height: 1em;\n",
       "  font-family: monospace;\n",
       "  background-color: var(--sklearn-color-background);\n",
       "  border-radius: 1em;\n",
       "  height: 1em;\n",
       "  width: 1em;\n",
       "  text-decoration: none !important;\n",
       "  margin-left: 1ex;\n",
       "  /* unfitted */\n",
       "  border: var(--sklearn-color-unfitted-level-1) 1pt solid;\n",
       "  color: var(--sklearn-color-unfitted-level-1);\n",
       "}\n",
       "\n",
       ".sk-estimator-doc-link.fitted,\n",
       "a:link.sk-estimator-doc-link.fitted,\n",
       "a:visited.sk-estimator-doc-link.fitted {\n",
       "  /* fitted */\n",
       "  border: var(--sklearn-color-fitted-level-1) 1pt solid;\n",
       "  color: var(--sklearn-color-fitted-level-1);\n",
       "}\n",
       "\n",
       "/* On hover */\n",
       "div.sk-estimator:hover .sk-estimator-doc-link:hover,\n",
       ".sk-estimator-doc-link:hover,\n",
       "div.sk-label-container:hover .sk-estimator-doc-link:hover,\n",
       ".sk-estimator-doc-link:hover {\n",
       "  /* unfitted */\n",
       "  background-color: var(--sklearn-color-unfitted-level-3);\n",
       "  color: var(--sklearn-color-background);\n",
       "  text-decoration: none;\n",
       "}\n",
       "\n",
       "div.sk-estimator.fitted:hover .sk-estimator-doc-link.fitted:hover,\n",
       ".sk-estimator-doc-link.fitted:hover,\n",
       "div.sk-label-container:hover .sk-estimator-doc-link.fitted:hover,\n",
       ".sk-estimator-doc-link.fitted:hover {\n",
       "  /* fitted */\n",
       "  background-color: var(--sklearn-color-fitted-level-3);\n",
       "  color: var(--sklearn-color-background);\n",
       "  text-decoration: none;\n",
       "}\n",
       "\n",
       "/* Span, style for the box shown on hovering the info icon */\n",
       ".sk-estimator-doc-link span {\n",
       "  display: none;\n",
       "  z-index: 9999;\n",
       "  position: relative;\n",
       "  font-weight: normal;\n",
       "  right: .2ex;\n",
       "  padding: .5ex;\n",
       "  margin: .5ex;\n",
       "  width: min-content;\n",
       "  min-width: 20ex;\n",
       "  max-width: 50ex;\n",
       "  color: var(--sklearn-color-text);\n",
       "  box-shadow: 2pt 2pt 4pt #999;\n",
       "  /* unfitted */\n",
       "  background: var(--sklearn-color-unfitted-level-0);\n",
       "  border: .5pt solid var(--sklearn-color-unfitted-level-3);\n",
       "}\n",
       "\n",
       ".sk-estimator-doc-link.fitted span {\n",
       "  /* fitted */\n",
       "  background: var(--sklearn-color-fitted-level-0);\n",
       "  border: var(--sklearn-color-fitted-level-3);\n",
       "}\n",
       "\n",
       ".sk-estimator-doc-link:hover span {\n",
       "  display: block;\n",
       "}\n",
       "\n",
       "/* \"?\"-specific style due to the `<a>` HTML tag */\n",
       "\n",
       "#sk-container-id-1 a.estimator_doc_link {\n",
       "  float: right;\n",
       "  font-size: 1rem;\n",
       "  line-height: 1em;\n",
       "  font-family: monospace;\n",
       "  background-color: var(--sklearn-color-background);\n",
       "  border-radius: 1rem;\n",
       "  height: 1rem;\n",
       "  width: 1rem;\n",
       "  text-decoration: none;\n",
       "  /* unfitted */\n",
       "  color: var(--sklearn-color-unfitted-level-1);\n",
       "  border: var(--sklearn-color-unfitted-level-1) 1pt solid;\n",
       "}\n",
       "\n",
       "#sk-container-id-1 a.estimator_doc_link.fitted {\n",
       "  /* fitted */\n",
       "  border: var(--sklearn-color-fitted-level-1) 1pt solid;\n",
       "  color: var(--sklearn-color-fitted-level-1);\n",
       "}\n",
       "\n",
       "/* On hover */\n",
       "#sk-container-id-1 a.estimator_doc_link:hover {\n",
       "  /* unfitted */\n",
       "  background-color: var(--sklearn-color-unfitted-level-3);\n",
       "  color: var(--sklearn-color-background);\n",
       "  text-decoration: none;\n",
       "}\n",
       "\n",
       "#sk-container-id-1 a.estimator_doc_link.fitted:hover {\n",
       "  /* fitted */\n",
       "  background-color: var(--sklearn-color-fitted-level-3);\n",
       "}\n",
       "</style><div id=\"sk-container-id-1\" class=\"sk-top-container\"><div class=\"sk-text-repr-fallback\"><pre>XGBClassifier(base_score=None, booster=None, callbacks=None,\n",
       "              colsample_bylevel=None, colsample_bynode=0.5260950582681523,\n",
       "              colsample_bytree=None, device=None, early_stopping_rounds=None,\n",
       "              enable_categorical=False,\n",
       "              eval_metric=&lt;function custom_f1_score at 0x7f08e882c540&gt;,\n",
       "              feature_types=None, gamma=None, grow_policy=None,\n",
       "              importance_type=None, interaction_constraints=None,\n",
       "              learning_rate=0.1892056162835139, max_bin=None,\n",
       "              max_cat_threshold=None, max_cat_to_onehot=None,\n",
       "              max_delta_step=None, max_depth=8, max_leaves=None,\n",
       "              min_child_weight=37, missing=nan, monotone_constraints=None,\n",
       "              multi_strategy=None, n_estimators=141, n_jobs=None,\n",
       "              num_parallel_tree=None, objective=&#x27;multi:softprob&#x27;, ...)</pre><b>In a Jupyter environment, please rerun this cell to show the HTML representation or trust the notebook. <br />On GitHub, the HTML representation is unable to render, please try loading this page with nbviewer.org.</b></div><div class=\"sk-container\" hidden><div class=\"sk-item\"><div class=\"sk-estimator fitted sk-toggleable\"><input class=\"sk-toggleable__control sk-hidden--visually\" id=\"sk-estimator-id-1\" type=\"checkbox\" checked><label for=\"sk-estimator-id-1\" class=\"sk-toggleable__label fitted sk-toggleable__label-arrow fitted\">&nbsp;XGBClassifier<span class=\"sk-estimator-doc-link fitted\">i<span>Fitted</span></span></label><div class=\"sk-toggleable__content fitted\"><pre>XGBClassifier(base_score=None, booster=None, callbacks=None,\n",
       "              colsample_bylevel=None, colsample_bynode=0.5260950582681523,\n",
       "              colsample_bytree=None, device=None, early_stopping_rounds=None,\n",
       "              enable_categorical=False,\n",
       "              eval_metric=&lt;function custom_f1_score at 0x7f08e882c540&gt;,\n",
       "              feature_types=None, gamma=None, grow_policy=None,\n",
       "              importance_type=None, interaction_constraints=None,\n",
       "              learning_rate=0.1892056162835139, max_bin=None,\n",
       "              max_cat_threshold=None, max_cat_to_onehot=None,\n",
       "              max_delta_step=None, max_depth=8, max_leaves=None,\n",
       "              min_child_weight=37, missing=nan, monotone_constraints=None,\n",
       "              multi_strategy=None, n_estimators=141, n_jobs=None,\n",
       "              num_parallel_tree=None, objective=&#x27;multi:softprob&#x27;, ...)</pre></div> </div></div></div></div>"
      ],
      "text/plain": [
       "XGBClassifier(base_score=None, booster=None, callbacks=None,\n",
       "              colsample_bylevel=None, colsample_bynode=0.5260950582681523,\n",
       "              colsample_bytree=None, device=None, early_stopping_rounds=None,\n",
       "              enable_categorical=False,\n",
       "              eval_metric=<function custom_f1_score at 0x7f08e882c540>,\n",
       "              feature_types=None, gamma=None, grow_policy=None,\n",
       "              importance_type=None, interaction_constraints=None,\n",
       "              learning_rate=0.1892056162835139, max_bin=None,\n",
       "              max_cat_threshold=None, max_cat_to_onehot=None,\n",
       "              max_delta_step=None, max_depth=8, max_leaves=None,\n",
       "              min_child_weight=37, missing=nan, monotone_constraints=None,\n",
       "              multi_strategy=None, n_estimators=141, n_jobs=None,\n",
       "              num_parallel_tree=None, objective='multi:softprob', ...)"
      ]
     },
     "execution_count": 21,
     "metadata": {},
     "output_type": "execute_result"
    }
   ],
   "source": [
    "n_estimators = int(study.best_trial.user_attrs['best_iteration']*1.2)\n",
    "xgb = xgboost.XGBClassifier(\n",
    "        eval_metric=eval_metric,\n",
    "        n_estimators=n_estimators,\n",
    "        **study.best_trial.params\n",
    "    )\n",
    "xgb.fit(\n",
    "    ssp.vstack((X_train, X_val)), \n",
    "    np.concatenate((y_train_enc, y_val_enc)),\n",
    "    verbose=1,\n",
    ")"
   ]
  },
  {
   "cell_type": "code",
   "execution_count": 22,
   "id": "7d0e4bd4",
   "metadata": {
    "execution": {
     "iopub.execute_input": "2025-06-13T13:16:12.356553Z",
     "iopub.status.busy": "2025-06-13T13:16:12.356235Z",
     "iopub.status.idle": "2025-06-13T13:16:12.593178Z",
     "shell.execute_reply": "2025-06-13T13:16:12.592747Z"
    },
    "papermill": {
     "duration": 0.253881,
     "end_time": "2025-06-13T13:16:12.594353",
     "exception": false,
     "start_time": "2025-06-13T13:16:12.340472",
     "status": "completed"
    },
    "tags": []
   },
   "outputs": [
    {
     "data": {
      "text/plain": [
       "['/scratch_isilon/groups/singlecell/shared/projects/Inflammation-PBMCs-Atlas/03_downstream_analysis/08_gene_importance/xgboost_external_validation/xgboost_TopN_genes/results_20/best_model/T_CD4_NonNaive_shap_disease_NOstudy_samesize_3_xgb.json']"
      ]
     },
     "execution_count": 22,
     "metadata": {},
     "output_type": "execute_result"
    }
   ],
   "source": [
    "out_dir = here(f'03_downstream_analysis/08_gene_importance/xgboost_external_validation/xgboost_TopN_genes/results_{N_GENES}/best_model')\n",
    "\n",
    "if not os.path.exists(out_dir):\n",
    "    os.makedirs(out_dir)\n",
    "    \n",
    "joblib.dump(xgb, os.path.join(out_dir, f'{CELL_TYPE}_{SEED}_{TEST_SPLIT_IDX}_xgb.json'))"
   ]
  },
  {
   "cell_type": "code",
   "execution_count": 23,
   "id": "00e79823",
   "metadata": {
    "execution": {
     "iopub.execute_input": "2025-06-13T13:16:12.623737Z",
     "iopub.status.busy": "2025-06-13T13:16:12.623504Z",
     "iopub.status.idle": "2025-06-13T13:16:13.372956Z",
     "shell.execute_reply": "2025-06-13T13:16:13.372491Z"
    },
    "papermill": {
     "duration": 0.763244,
     "end_time": "2025-06-13T13:16:13.374475",
     "exception": false,
     "start_time": "2025-06-13T13:16:12.611231",
     "status": "completed"
    },
    "tags": []
   },
   "outputs": [],
   "source": [
    "df_pred_test = pd.DataFrame(dict(\n",
    "    cell_id=train_adata.obs.iloc[test_idxs].index.values,\n",
    "    y_true=y_test, \n",
    "    y_true_code=y_test_enc, \n",
    "    y_pred=xgb.predict(X_test))).set_index('cell_id')"
   ]
  },
  {
   "cell_type": "code",
   "execution_count": 24,
   "id": "55656063",
   "metadata": {
    "execution": {
     "iopub.execute_input": "2025-06-13T13:16:13.420478Z",
     "iopub.status.busy": "2025-06-13T13:16:13.420263Z",
     "iopub.status.idle": "2025-06-13T13:16:13.611366Z",
     "shell.execute_reply": "2025-06-13T13:16:13.610866Z"
    },
    "papermill": {
     "duration": 0.213127,
     "end_time": "2025-06-13T13:16:13.612867",
     "exception": false,
     "start_time": "2025-06-13T13:16:13.399740",
     "status": "completed"
    },
    "tags": []
   },
   "outputs": [],
   "source": [
    "out_dir = here(f'03_downstream_analysis/08_gene_importance/xgboost_external_validation/xgboost_TopN_genes/results_{N_GENES}/predictions')\n",
    "\n",
    "if not os.path.exists(out_dir):\n",
    "    os.makedirs(out_dir)\n",
    "    \n",
    "df_pred_test.to_csv(os.path.join(out_dir, f'{CELL_TYPE}_{SEED}_{TEST_SPLIT_IDX}_pred_test.zip'))"
   ]
  },
  {
   "cell_type": "code",
   "execution_count": 25,
   "id": "5bca2d13",
   "metadata": {
    "execution": {
     "iopub.execute_input": "2025-06-13T13:16:13.670862Z",
     "iopub.status.busy": "2025-06-13T13:16:13.670516Z",
     "iopub.status.idle": "2025-06-13T13:16:13.705601Z",
     "shell.execute_reply": "2025-06-13T13:16:13.705192Z"
    },
    "papermill": {
     "duration": 0.058713,
     "end_time": "2025-06-13T13:16:13.706777",
     "exception": false,
     "start_time": "2025-06-13T13:16:13.648064",
     "status": "completed"
    },
    "tags": []
   },
   "outputs": [
    {
     "name": "stderr",
     "output_type": "stream",
     "text": [
      "/scratch_isilon/groups/singlecell/shared/conda_env/xgboost-cpu/lib/python3.12/site-packages/sklearn/metrics/_classification.py:2466: UserWarning: y_pred contains classes not in y_true\n",
      "  warnings.warn(\"y_pred contains classes not in y_true\")\n"
     ]
    }
   ],
   "source": [
    "metrics_dict = dict(\n",
    "    BAS=balanced_accuracy_score(y_true=df_pred_test.y_true_code, y_pred=df_pred_test.y_pred), WF1=f1_score(y_true=df_pred_test.y_true_code, y_pred=df_pred_test.y_pred,average='weighted'))"
   ]
  },
  {
   "cell_type": "code",
   "execution_count": 26,
   "id": "f3a48121",
   "metadata": {
    "execution": {
     "iopub.execute_input": "2025-06-13T13:16:13.743747Z",
     "iopub.status.busy": "2025-06-13T13:16:13.743404Z",
     "iopub.status.idle": "2025-06-13T13:16:13.746545Z",
     "shell.execute_reply": "2025-06-13T13:16:13.746182Z"
    },
    "papermill": {
     "duration": 0.022745,
     "end_time": "2025-06-13T13:16:13.747605",
     "exception": false,
     "start_time": "2025-06-13T13:16:13.724860",
     "status": "completed"
    },
    "tags": []
   },
   "outputs": [
    {
     "data": {
      "text/plain": [
       "{'BAS': 0.6956068641094156, 'WF1': 0.8181555176735464}"
      ]
     },
     "execution_count": 26,
     "metadata": {},
     "output_type": "execute_result"
    }
   ],
   "source": [
    "metrics_dict"
   ]
  },
  {
   "cell_type": "code",
   "execution_count": 27,
   "id": "4a14c95c",
   "metadata": {
    "execution": {
     "iopub.execute_input": "2025-06-13T13:16:13.777465Z",
     "iopub.status.busy": "2025-06-13T13:16:13.777141Z",
     "iopub.status.idle": "2025-06-13T13:16:13.787542Z",
     "shell.execute_reply": "2025-06-13T13:16:13.787190Z"
    },
    "papermill": {
     "duration": 0.027109,
     "end_time": "2025-06-13T13:16:13.788632",
     "exception": false,
     "start_time": "2025-06-13T13:16:13.761523",
     "status": "completed"
    },
    "tags": []
   },
   "outputs": [
    {
     "data": {
      "text/html": [
       "<div>\n",
       "<style scoped>\n",
       "    .dataframe tbody tr th:only-of-type {\n",
       "        vertical-align: middle;\n",
       "    }\n",
       "\n",
       "    .dataframe tbody tr th {\n",
       "        vertical-align: top;\n",
       "    }\n",
       "\n",
       "    .dataframe thead th {\n",
       "        text-align: right;\n",
       "    }\n",
       "</style>\n",
       "<table border=\"1\" class=\"dataframe\">\n",
       "  <thead>\n",
       "    <tr style=\"text-align: right;\">\n",
       "      <th></th>\n",
       "      <th>BAS</th>\n",
       "      <th>WF1</th>\n",
       "      <th>split_idx</th>\n",
       "      <th>gene_set_seed</th>\n",
       "      <th>cell_type</th>\n",
       "    </tr>\n",
       "  </thead>\n",
       "  <tbody>\n",
       "    <tr>\n",
       "      <th>0</th>\n",
       "      <td>0.695607</td>\n",
       "      <td>0.818156</td>\n",
       "      <td>3</td>\n",
       "      <td>shap_disease_NOstudy_samesize</td>\n",
       "      <td>T_CD4_NonNaive</td>\n",
       "    </tr>\n",
       "  </tbody>\n",
       "</table>\n",
       "</div>"
      ],
      "text/plain": [
       "        BAS       WF1  split_idx                  gene_set_seed  \\\n",
       "0  0.695607  0.818156          3  shap_disease_NOstudy_samesize   \n",
       "\n",
       "        cell_type  \n",
       "0  T_CD4_NonNaive  "
      ]
     },
     "execution_count": 27,
     "metadata": {},
     "output_type": "execute_result"
    }
   ],
   "source": [
    "metrics_df = pd.DataFrame.from_dict([metrics_dict]).assign(split_idx=TEST_SPLIT_IDX, gene_set_seed=SEED, cell_type=CELL_TYPE)\n",
    "metrics_df"
   ]
  },
  {
   "cell_type": "code",
   "execution_count": 28,
   "id": "8bd055ec",
   "metadata": {
    "execution": {
     "iopub.execute_input": "2025-06-13T13:16:13.817302Z",
     "iopub.status.busy": "2025-06-13T13:16:13.817000Z",
     "iopub.status.idle": "2025-06-13T13:16:13.827104Z",
     "shell.execute_reply": "2025-06-13T13:16:13.826725Z"
    },
    "papermill": {
     "duration": 0.026139,
     "end_time": "2025-06-13T13:16:13.828245",
     "exception": false,
     "start_time": "2025-06-13T13:16:13.802106",
     "status": "completed"
    },
    "tags": []
   },
   "outputs": [],
   "source": [
    "out_dir = here(f'03_downstream_analysis/08_gene_importance/xgboost_external_validation/xgboost_TopN_genes/results_{N_GENES}/metrics')\n",
    "\n",
    "if not os.path.exists(out_dir):\n",
    "    os.makedirs(out_dir)\n",
    "    \n",
    "metrics_df.to_csv(os.path.join(out_dir, f'{CELL_TYPE}_{SEED}_{TEST_SPLIT_IDX}_metrics.zip'))"
   ]
  }
 ],
 "metadata": {
  "kernelspec": {
   "display_name": "Python 3 (ipykernel)",
   "language": "python",
   "name": "python3"
  },
  "language_info": {
   "codemirror_mode": {
    "name": "ipython",
    "version": 3
   },
   "file_extension": ".py",
   "mimetype": "text/x-python",
   "name": "python",
   "nbconvert_exporter": "python",
   "pygments_lexer": "ipython3",
   "version": "3.12.5"
  },
  "papermill": {
   "default_parameters": {},
   "duration": 854.004381,
   "end_time": "2025-06-13T13:16:14.556244",
   "environment_variables": {},
   "exception": null,
   "input_path": "02_xgboost_fitting_external_20genes.ipynb",
   "output_path": "results_20/executed_notebooks/xgboost_fitting_external_CT_T_CD4_NonNaive_GS_shap_disease_NOstudy_samesize_seed3.ipynb",
   "parameters": {
    "CELL_TYPE": "T_CD4_NonNaive",
    "SEED": "shap_disease_NOstudy_samesize",
    "TEST_SPLIT_IDX": 3
   },
   "start_time": "2025-06-13T13:02:00.551863",
   "version": "2.6.0"
  }
 },
 "nbformat": 4,
 "nbformat_minor": 5
}