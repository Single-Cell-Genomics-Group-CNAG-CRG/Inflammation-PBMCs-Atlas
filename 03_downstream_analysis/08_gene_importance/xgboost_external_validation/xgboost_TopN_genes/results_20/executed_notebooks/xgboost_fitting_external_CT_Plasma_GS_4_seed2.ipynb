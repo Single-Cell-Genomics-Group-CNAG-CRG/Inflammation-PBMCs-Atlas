{
 "cells": [
  {
   "cell_type": "code",
   "execution_count": 1,
   "id": "b9696b04",
   "metadata": {
    "editable": true,
    "execution": {
     "iopub.execute_input": "2025-05-15T16:15:28.989383Z",
     "iopub.status.busy": "2025-05-15T16:15:28.989016Z",
     "iopub.status.idle": "2025-05-15T16:15:28.992930Z",
     "shell.execute_reply": "2025-05-15T16:15:28.992546Z"
    },
    "papermill": {
     "duration": 0.013888,
     "end_time": "2025-05-15T16:15:28.994035",
     "exception": false,
     "start_time": "2025-05-15T16:15:28.980147",
     "status": "completed"
    },
    "slideshow": {
     "slide_type": ""
    },
    "tags": [
     "parameters"
    ]
   },
   "outputs": [],
   "source": [
    "CELL_TYPE = 'pDC'\n",
    "N_GENES: int = 20\n",
    "SEED = 'shap_studyID' #'disease_NOstudy' 'study_NOdisease' or 'int' or 'shap_studyID'\n",
    "TEST_SPLIT_IDX: int = 1 #[0,4]"
   ]
  },
  {
   "cell_type": "code",
   "execution_count": 2,
   "id": "61ff9ef9",
   "metadata": {
    "execution": {
     "iopub.execute_input": "2025-05-15T16:15:29.007272Z",
     "iopub.status.busy": "2025-05-15T16:15:29.006955Z",
     "iopub.status.idle": "2025-05-15T16:15:29.009777Z",
     "shell.execute_reply": "2025-05-15T16:15:29.009417Z"
    },
    "papermill": {
     "duration": 0.010655,
     "end_time": "2025-05-15T16:15:29.010765",
     "exception": false,
     "start_time": "2025-05-15T16:15:29.000110",
     "status": "completed"
    },
    "tags": [
     "injected-parameters"
    ]
   },
   "outputs": [],
   "source": [
    "# Parameters\n",
    "CELL_TYPE = \"Plasma\"\n",
    "SEED = 4\n",
    "TEST_SPLIT_IDX = 2\n"
   ]
  },
  {
   "cell_type": "code",
   "execution_count": 3,
   "id": "2a9cd357",
   "metadata": {
    "execution": {
     "iopub.execute_input": "2025-05-15T16:15:29.024667Z",
     "iopub.status.busy": "2025-05-15T16:15:29.024303Z",
     "iopub.status.idle": "2025-05-15T16:15:29.027288Z",
     "shell.execute_reply": "2025-05-15T16:15:29.026913Z"
    },
    "papermill": {
     "duration": 0.01124,
     "end_time": "2025-05-15T16:15:29.028274",
     "exception": false,
     "start_time": "2025-05-15T16:15:29.017034",
     "status": "completed"
    },
    "tags": []
   },
   "outputs": [],
   "source": [
    "N_SPLITS: int = 5\n",
    "N_TRIALS: int = 50"
   ]
  },
  {
   "cell_type": "code",
   "execution_count": 4,
   "id": "fb2fd269",
   "metadata": {
    "execution": {
     "iopub.execute_input": "2025-05-15T16:15:29.045038Z",
     "iopub.status.busy": "2025-05-15T16:15:29.044628Z",
     "iopub.status.idle": "2025-05-15T16:15:30.852634Z",
     "shell.execute_reply": "2025-05-15T16:15:30.851766Z"
    },
    "papermill": {
     "duration": 1.819438,
     "end_time": "2025-05-15T16:15:30.854377",
     "exception": false,
     "start_time": "2025-05-15T16:15:29.034939",
     "status": "completed"
    },
    "tags": []
   },
   "outputs": [],
   "source": [
    "import os\n",
    "import sys\n",
    "from pyprojroot.here import here\n",
    "import pandas as pd\n",
    "import anndata as ad\n",
    "import numpy as np\n",
    "import math\n",
    "from sklearn.model_selection import StratifiedGroupKFold\n",
    "from sklearn.preprocessing import LabelEncoder\n",
    "from sklearn.metrics import f1_score\n",
    "import matplotlib.pyplot as plt\n",
    "import seaborn as sns\n",
    "from itertools import product\n",
    "from sklearn.metrics import balanced_accuracy_score, f1_score\n",
    "import optuna\n",
    "\n",
    "import joblib\n",
    "import pickle\n",
    "import datetime\n",
    "\n",
    "import collections\n",
    "\n",
    "import xgboost\n",
    "from sklearn.preprocessing import LabelEncoder\n",
    "\n",
    "import scipy.sparse as ssp\n",
    "import joblib\n",
    "\n",
    "from dotenv import load_dotenv"
   ]
  },
  {
   "cell_type": "code",
   "execution_count": 5,
   "id": "518c6cf0",
   "metadata": {
    "execution": {
     "iopub.execute_input": "2025-05-15T16:15:30.902245Z",
     "iopub.status.busy": "2025-05-15T16:15:30.901412Z",
     "iopub.status.idle": "2025-05-15T16:15:30.910164Z",
     "shell.execute_reply": "2025-05-15T16:15:30.909602Z"
    },
    "papermill": {
     "duration": 0.049415,
     "end_time": "2025-05-15T16:15:30.911340",
     "exception": false,
     "start_time": "2025-05-15T16:15:30.861925",
     "status": "completed"
    },
    "tags": []
   },
   "outputs": [
    {
     "data": {
      "text/plain": [
       "True"
      ]
     },
     "execution_count": 5,
     "metadata": {},
     "output_type": "execute_result"
    }
   ],
   "source": [
    "load_dotenv()"
   ]
  },
  {
   "cell_type": "markdown",
   "id": "9d2b5fad",
   "metadata": {
    "papermill": {
     "duration": 0.006293,
     "end_time": "2025-05-15T16:15:30.924531",
     "exception": false,
     "start_time": "2025-05-15T16:15:30.918238",
     "status": "completed"
    },
    "tags": []
   },
   "source": [
    "# LOAD DATASET"
   ]
  },
  {
   "cell_type": "code",
   "execution_count": 6,
   "id": "6a1f1766",
   "metadata": {
    "execution": {
     "iopub.execute_input": "2025-05-15T16:15:30.939192Z",
     "iopub.status.busy": "2025-05-15T16:15:30.938709Z",
     "iopub.status.idle": "2025-05-15T16:15:30.987482Z",
     "shell.execute_reply": "2025-05-15T16:15:30.986889Z"
    },
    "papermill": {
     "duration": 0.057999,
     "end_time": "2025-05-15T16:15:30.989157",
     "exception": false,
     "start_time": "2025-05-15T16:15:30.931158",
     "status": "completed"
    },
    "tags": []
   },
   "outputs": [],
   "source": [
    "train_adata = ad.read_h5ad(\n",
    "    here(f'03_downstream_analysis/08_gene_importance/xgboost_external_validation/xgboost_TopN_genes/data_cellTypes/EXTERNAL_{CELL_TYPE}.filtered.log1p.h5ad')\n",
    ")"
   ]
  },
  {
   "cell_type": "code",
   "execution_count": 7,
   "id": "b7753139",
   "metadata": {
    "execution": {
     "iopub.execute_input": "2025-05-15T16:15:31.004116Z",
     "iopub.status.busy": "2025-05-15T16:15:31.003756Z",
     "iopub.status.idle": "2025-05-15T16:15:31.016546Z",
     "shell.execute_reply": "2025-05-15T16:15:31.016062Z"
    },
    "papermill": {
     "duration": 0.021289,
     "end_time": "2025-05-15T16:15:31.017615",
     "exception": false,
     "start_time": "2025-05-15T16:15:30.996326",
     "status": "completed"
    },
    "tags": []
   },
   "outputs": [
    {
     "name": "stdout",
     "output_type": "stream",
     "text": [
      "['ENSG00000170296' 'ENSG00000104921' 'ENSG00000140379' 'ENSG00000015475'\n",
      " 'ENSG00000135720' 'ENSG00000187608' 'ENSG00000182866' 'ENSG00000271503'\n",
      " 'ENSG00000170989' 'ENSG00000120837' 'ENSG00000132475' 'ENSG00000103187'\n",
      " 'ENSG00000264364' 'ENSG00000178562' 'ENSG00000145912' 'ENSG00000134470'\n",
      " 'ENSG00000185650' 'ENSG00000167996' 'ENSG00000132912' 'ENSG00000204264'\n",
      " 'ENSG00000106588' 'ENSG00000197956' 'ENSG00000197249' 'ENSG00000196154'\n",
      " 'ENSG00000089327' 'ENSG00000117523' 'ENSG00000121552' 'ENSG00000127314'\n",
      " 'ENSG00000159674' 'ENSG00000146457' 'ENSG00000172543' 'ENSG00000134352'\n",
      " 'ENSG00000138378' 'ENSG00000132432' 'ENSG00000197872' 'ENSG00000115145'\n",
      " 'ENSG00000132002' 'ENSG00000168394' 'ENSG00000168685' 'ENSG00000096996'\n",
      " 'ENSG00000176986' 'ENSG00000197102' 'ENSG00000160712' 'ENSG00000240505'\n",
      " 'ENSG00000177556' 'ENSG00000184557' 'ENSG00000126759' 'ENSG00000139192'\n",
      " 'ENSG00000102265' 'ENSG00000189067' 'ENSG00000155380' 'ENSG00000108774'\n",
      " 'ENSG00000160255' 'ENSG00000140264' 'ENSG00000127152' 'ENSG00000134954'\n",
      " 'ENSG00000120742' 'ENSG00000112137' 'ENSG00000101347' 'ENSG00000105374'\n",
      " 'ENSG00000168610' 'ENSG00000157020' 'ENSG00000115875' 'ENSG00000121807'\n",
      " 'ENSG00000100368' 'ENSG00000042753' 'ENSG00000153064' 'ENSG00000143119'\n",
      " 'ENSG00000117318' 'ENSG00000163931' 'ENSG00000171223' 'ENSG00000198832'\n",
      " 'ENSG00000165280' 'ENSG00000177663' 'ENSG00000075234' 'ENSG00000242616'\n",
      " 'ENSG00000141526' 'ENSG00000185201' 'ENSG00000030582' 'ENSG00000185436'\n",
      " 'ENSG00000101017' 'ENSG00000100453' 'ENSG00000137193' 'ENSG00000144746'\n",
      " 'ENSG00000090554' 'ENSG00000204642' 'ENSG00000026103' 'ENSG00000138674'\n",
      " 'ENSG00000170540' 'ENSG00000132965' 'ENSG00000167283' 'ENSG00000121879'\n",
      " 'ENSG00000075785' 'ENSG00000104904' 'ENSG00000111331' 'ENSG00000136997'\n",
      " 'ENSG00000242574' 'ENSG00000135441' 'ENSG00000137100' 'ENSG00000172009'\n",
      " 'ENSG00000100485' 'ENSG00000113811' 'ENSG00000175390' 'ENSG00000125347'\n",
      " 'ENSG00000157514' 'ENSG00000066336' 'ENSG00000115884']\n"
     ]
    }
   ],
   "source": [
    "if SEED != 'all':\n",
    "    gene_subset = np.load(here(f'03_downstream_analysis/08_gene_importance/xgboost_external_validation/shap_gene_selection/gene_subsets_{N_GENES}/{CELL_TYPE}_{SEED}.npy'), allow_pickle=True)\n",
    "    train_adata = train_adata[:,gene_subset]\n",
    "    print(gene_subset)\n",
    "elif SEED == 'all':\n",
    "    print('Using all genes')\n",
    "else:\n",
    "    raise ValueError()"
   ]
  },
  {
   "cell_type": "code",
   "execution_count": 8,
   "id": "c13e16db",
   "metadata": {
    "execution": {
     "iopub.execute_input": "2025-05-15T16:15:31.032053Z",
     "iopub.status.busy": "2025-05-15T16:15:31.031696Z",
     "iopub.status.idle": "2025-05-15T16:15:31.035898Z",
     "shell.execute_reply": "2025-05-15T16:15:31.035516Z"
    },
    "papermill": {
     "duration": 0.012494,
     "end_time": "2025-05-15T16:15:31.036913",
     "exception": false,
     "start_time": "2025-05-15T16:15:31.024419",
     "status": "completed"
    },
    "tags": []
   },
   "outputs": [
    {
     "data": {
      "text/plain": [
       "(542, 107)"
      ]
     },
     "execution_count": 8,
     "metadata": {},
     "output_type": "execute_result"
    }
   ],
   "source": [
    "train_adata.shape"
   ]
  },
  {
   "cell_type": "code",
   "execution_count": 9,
   "id": "e7aaf2f4",
   "metadata": {
    "execution": {
     "iopub.execute_input": "2025-05-15T16:15:31.050561Z",
     "iopub.status.busy": "2025-05-15T16:15:31.050152Z",
     "iopub.status.idle": "2025-05-15T16:15:31.054691Z",
     "shell.execute_reply": "2025-05-15T16:15:31.054328Z"
    },
    "papermill": {
     "duration": 0.012198,
     "end_time": "2025-05-15T16:15:31.055710",
     "exception": false,
     "start_time": "2025-05-15T16:15:31.043512",
     "status": "completed"
    },
    "tags": []
   },
   "outputs": [
    {
     "data": {
      "text/plain": [
       "['RA', 'COVID', 'healthy', 'HIV', 'cirrhosis', 'CD', 'SLE', 'sepsis']\n",
       "Categories (8, object): ['CD', 'COVID', 'HIV', 'RA', 'SLE', 'cirrhosis', 'healthy', 'sepsis']"
      ]
     },
     "execution_count": 9,
     "metadata": {},
     "output_type": "execute_result"
    }
   ],
   "source": [
    "train_adata.obs.disease.unique()"
   ]
  },
  {
   "cell_type": "code",
   "execution_count": 10,
   "id": "2d6914b2",
   "metadata": {
    "execution": {
     "iopub.execute_input": "2025-05-15T16:15:31.069521Z",
     "iopub.status.busy": "2025-05-15T16:15:31.069165Z",
     "iopub.status.idle": "2025-05-15T16:15:31.074100Z",
     "shell.execute_reply": "2025-05-15T16:15:31.073712Z"
    },
    "papermill": {
     "duration": 0.0132,
     "end_time": "2025-05-15T16:15:31.075111",
     "exception": false,
     "start_time": "2025-05-15T16:15:31.061911",
     "status": "completed"
    },
    "tags": []
   },
   "outputs": [
    {
     "data": {
      "text/plain": [
       "['SCGT00val_I0364_T0', 'SCGT00val_I036019_T0', 'SCGT00val_I036028_T0', 'SCGT00val_I036024_T0', 'SCGT00val_I036016_T0', ..., '10XGenomics_10XHC2_T0', '10XGenomics_10XHC3_T0', '10XGenomics_10XHC5_T0', '10XGenomics_10XHC7_T0', '10XGenomics_10XHC8_T0']\n",
       "Length: 74\n",
       "Categories (74, object): ['10XGenomics_10XHC1_T0', '10XGenomics_10XHC2_T0', '10XGenomics_10XHC3_T0', '10XGenomics_10XHC4_T0', ..., 'Savage2021_BRISL6_T0', 'Savage2021_BRISL7_T0', 'Savage2021_PIDA_T0', 'Savage2021_PIDB_T0']"
      ]
     },
     "execution_count": 10,
     "metadata": {},
     "output_type": "execute_result"
    }
   ],
   "source": [
    "train_adata.obs.sampleID.unique()"
   ]
  },
  {
   "cell_type": "code",
   "execution_count": 11,
   "id": "789a6742",
   "metadata": {
    "execution": {
     "iopub.execute_input": "2025-05-15T16:15:31.089808Z",
     "iopub.status.busy": "2025-05-15T16:15:31.089327Z",
     "iopub.status.idle": "2025-05-15T16:15:31.124547Z",
     "shell.execute_reply": "2025-05-15T16:15:31.123954Z"
    },
    "papermill": {
     "duration": 0.043945,
     "end_time": "2025-05-15T16:15:31.126028",
     "exception": false,
     "start_time": "2025-05-15T16:15:31.082083",
     "status": "completed"
    },
    "tags": []
   },
   "outputs": [],
   "source": [
    "all_idxs = np.arange(train_adata.obs.shape[0])\n",
    "left_out_splits = [s[1] for s in StratifiedGroupKFold(n_splits=N_SPLITS).split(all_idxs, train_adata.obs.disease, train_adata.obs.sampleID)]"
   ]
  },
  {
   "cell_type": "code",
   "execution_count": 12,
   "id": "823a9b4e",
   "metadata": {
    "execution": {
     "iopub.execute_input": "2025-05-15T16:15:31.140770Z",
     "iopub.status.busy": "2025-05-15T16:15:31.140546Z",
     "iopub.status.idle": "2025-05-15T16:15:31.144645Z",
     "shell.execute_reply": "2025-05-15T16:15:31.144307Z"
    },
    "papermill": {
     "duration": 0.012173,
     "end_time": "2025-05-15T16:15:31.145590",
     "exception": false,
     "start_time": "2025-05-15T16:15:31.133417",
     "status": "completed"
    },
    "tags": []
   },
   "outputs": [
    {
     "data": {
      "text/plain": [
       "([0, 1, 4], 3, 2)"
      ]
     },
     "execution_count": 12,
     "metadata": {},
     "output_type": "execute_result"
    }
   ],
   "source": [
    "TRAIN_SPLIT_IDXS = [0,1,2,3,4]\n",
    "VAL_SPLIT_IDX = (TEST_SPLIT_IDX + 1) % 5\n",
    "TRAIN_SPLIT_IDXS.remove(TEST_SPLIT_IDX)\n",
    "TRAIN_SPLIT_IDXS.remove(VAL_SPLIT_IDX)\n",
    "TRAIN_SPLIT_IDXS, VAL_SPLIT_IDX, TEST_SPLIT_IDX"
   ]
  },
  {
   "cell_type": "code",
   "execution_count": 13,
   "id": "b1aca232",
   "metadata": {
    "execution": {
     "iopub.execute_input": "2025-05-15T16:15:31.160324Z",
     "iopub.status.busy": "2025-05-15T16:15:31.159991Z",
     "iopub.status.idle": "2025-05-15T16:15:31.163228Z",
     "shell.execute_reply": "2025-05-15T16:15:31.162860Z"
    },
    "papermill": {
     "duration": 0.012189,
     "end_time": "2025-05-15T16:15:31.164257",
     "exception": false,
     "start_time": "2025-05-15T16:15:31.152068",
     "status": "completed"
    },
    "tags": []
   },
   "outputs": [],
   "source": [
    "train_idxs = np.concatenate([left_out_splits[idx] for idx in TRAIN_SPLIT_IDXS])\n",
    "val_idxs = left_out_splits[VAL_SPLIT_IDX]\n",
    "test_idxs = left_out_splits[TEST_SPLIT_IDX]"
   ]
  },
  {
   "cell_type": "markdown",
   "id": "d11b89d2",
   "metadata": {
    "papermill": {
     "duration": 0.006739,
     "end_time": "2025-05-15T16:15:31.177550",
     "exception": false,
     "start_time": "2025-05-15T16:15:31.170811",
     "status": "completed"
    },
    "tags": []
   },
   "source": [
    "### SUBSET DATASET INTO TRAIN/TEST/VAL SPLITS"
   ]
  },
  {
   "cell_type": "code",
   "execution_count": 14,
   "id": "a1b0bbec",
   "metadata": {
    "execution": {
     "iopub.execute_input": "2025-05-15T16:15:31.192685Z",
     "iopub.status.busy": "2025-05-15T16:15:31.192302Z",
     "iopub.status.idle": "2025-05-15T16:15:31.200291Z",
     "shell.execute_reply": "2025-05-15T16:15:31.199906Z"
    },
    "papermill": {
     "duration": 0.01661,
     "end_time": "2025-05-15T16:15:31.201254",
     "exception": false,
     "start_time": "2025-05-15T16:15:31.184644",
     "status": "completed"
    },
    "tags": []
   },
   "outputs": [
    {
     "data": {
      "text/plain": [
       "((341, 107), (102, 107), (99, 107))"
      ]
     },
     "execution_count": 14,
     "metadata": {},
     "output_type": "execute_result"
    }
   ],
   "source": [
    "X_train = train_adata.X[train_idxs]\n",
    "X_test = train_adata.X[test_idxs]\n",
    "X_val = train_adata.X[val_idxs]\n",
    "X_train.shape, X_test.shape, X_val.shape"
   ]
  },
  {
   "cell_type": "code",
   "execution_count": 15,
   "id": "4a911e98",
   "metadata": {
    "execution": {
     "iopub.execute_input": "2025-05-15T16:15:31.215322Z",
     "iopub.status.busy": "2025-05-15T16:15:31.215120Z",
     "iopub.status.idle": "2025-05-15T16:15:31.220576Z",
     "shell.execute_reply": "2025-05-15T16:15:31.220243Z"
    },
    "papermill": {
     "duration": 0.013477,
     "end_time": "2025-05-15T16:15:31.221493",
     "exception": false,
     "start_time": "2025-05-15T16:15:31.208016",
     "status": "completed"
    },
    "tags": []
   },
   "outputs": [
    {
     "data": {
      "text/plain": [
       "((341,), (102,), (99,))"
      ]
     },
     "execution_count": 15,
     "metadata": {},
     "output_type": "execute_result"
    }
   ],
   "source": [
    "y_train = train_adata.obs.iloc[train_idxs].disease.values.astype(str)\n",
    "y_test = train_adata.obs.iloc[test_idxs].disease.values.astype(str)\n",
    "y_val = train_adata.obs.iloc[val_idxs].disease.values.astype(str)\n",
    "y_train.shape, y_test.shape, y_val.shape"
   ]
  },
  {
   "cell_type": "code",
   "execution_count": 16,
   "id": "92c2adc4",
   "metadata": {
    "execution": {
     "iopub.execute_input": "2025-05-15T16:15:31.235778Z",
     "iopub.status.busy": "2025-05-15T16:15:31.235423Z",
     "iopub.status.idle": "2025-05-15T16:15:31.239196Z",
     "shell.execute_reply": "2025-05-15T16:15:31.238807Z"
    },
    "papermill": {
     "duration": 0.012373,
     "end_time": "2025-05-15T16:15:31.240203",
     "exception": false,
     "start_time": "2025-05-15T16:15:31.227830",
     "status": "completed"
    },
    "tags": []
   },
   "outputs": [],
   "source": [
    "lenc = LabelEncoder()\n",
    "y_train_enc = lenc.fit_transform(y_train)\n",
    "y_val_enc = lenc.transform(y_val)\n",
    "y_test_enc = lenc.transform(y_test)"
   ]
  },
  {
   "cell_type": "markdown",
   "id": "beb98d14",
   "metadata": {
    "papermill": {
     "duration": 0.00691,
     "end_time": "2025-05-15T16:15:31.254264",
     "exception": false,
     "start_time": "2025-05-15T16:15:31.247354",
     "status": "completed"
    },
    "tags": []
   },
   "source": [
    "### GENERATE F1 "
   ]
  },
  {
   "cell_type": "code",
   "execution_count": 17,
   "id": "97e434c6",
   "metadata": {
    "execution": {
     "iopub.execute_input": "2025-05-15T16:15:31.270011Z",
     "iopub.status.busy": "2025-05-15T16:15:31.269360Z",
     "iopub.status.idle": "2025-05-15T16:15:31.272561Z",
     "shell.execute_reply": "2025-05-15T16:15:31.272204Z"
    },
    "papermill": {
     "duration": 0.012359,
     "end_time": "2025-05-15T16:15:31.273545",
     "exception": false,
     "start_time": "2025-05-15T16:15:31.261186",
     "status": "completed"
    },
    "tags": []
   },
   "outputs": [],
   "source": [
    "def custom_f1_score(y_true, y_pred):\n",
    "    return -f1_score(y_true, y_pred.argmax(1), average='weighted')"
   ]
  },
  {
   "cell_type": "code",
   "execution_count": 18,
   "id": "47ea7af9",
   "metadata": {
    "execution": {
     "iopub.execute_input": "2025-05-15T16:15:31.288101Z",
     "iopub.status.busy": "2025-05-15T16:15:31.287748Z",
     "iopub.status.idle": "2025-05-15T16:15:31.291741Z",
     "shell.execute_reply": "2025-05-15T16:15:31.291389Z"
    },
    "papermill": {
     "duration": 0.011727,
     "end_time": "2025-05-15T16:15:31.292662",
     "exception": false,
     "start_time": "2025-05-15T16:15:31.280935",
     "status": "completed"
    },
    "tags": []
   },
   "outputs": [],
   "source": [
    "eval_metric=custom_f1_score\n",
    "eval_metric_name='custom_f1_score'\n",
    "\n",
    "def objective(trial):\n",
    "    params = {\n",
    "        'n_estimators': 1500,\n",
    "        'max_depth': trial.suggest_int('max_depth', 3, 20),\n",
    "        'min_child_weight': trial.suggest_int('min_child_weight', 1, 250),\n",
    "        'subsample': trial.suggest_float('subsample', 0.1, 1.0),\n",
    "        'colsample_bynode': trial.suggest_float('colsample_bynode', 0.1, 1.0),\n",
    "        'learning_rate': trial.suggest_float('learning_rate', 1e-3, 5e-1, log=True),\n",
    "    }\n",
    "    pruning_callback = optuna.integration.XGBoostPruningCallback(trial, f'validation_0-{eval_metric_name}')\n",
    "    es_callback = xgboost.callback.EarlyStopping(20, min_delta=0.001)\n",
    "    xgb = xgboost.XGBClassifier(\n",
    "        eval_metric=eval_metric,\n",
    "        callbacks=[pruning_callback, es_callback],\n",
    "        n_jobs=5,\n",
    "        **params\n",
    "    )\n",
    "    xgb.fit(\n",
    "        X_train, \n",
    "        y_train_enc, \n",
    "        verbose=0,\n",
    "        eval_set=[(X_val, y_val_enc)],\n",
    "    )\n",
    "    trial.set_user_attr('best_iteration', xgb.best_iteration)\n",
    "\n",
    "    return xgb.best_score"
   ]
  },
  {
   "cell_type": "code",
   "execution_count": 19,
   "id": "0d2ac733",
   "metadata": {
    "execution": {
     "iopub.execute_input": "2025-05-15T16:15:31.306156Z",
     "iopub.status.busy": "2025-05-15T16:15:31.305888Z",
     "iopub.status.idle": "2025-05-15T16:16:22.650661Z",
     "shell.execute_reply": "2025-05-15T16:16:22.650192Z"
    },
    "papermill": {
     "duration": 51.353162,
     "end_time": "2025-05-15T16:16:22.652092",
     "exception": false,
     "start_time": "2025-05-15T16:15:31.298930",
     "status": "completed"
    },
    "scrolled": true,
    "tags": []
   },
   "outputs": [
    {
     "name": "stderr",
     "output_type": "stream",
     "text": [
      "[I 2025-05-15 18:15:31,308] A new study created in memory with name: no-name-e53f9bca-ebcf-4933-904b-d607854b8689\n"
     ]
    },
    {
     "name": "stderr",
     "output_type": "stream",
     "text": [
      "[I 2025-05-15 18:15:51,087] Trial 0 finished with value: -0.022222 and parameters: {'max_depth': 9, 'min_child_weight': 238, 'subsample': 0.7587945476302645, 'colsample_bynode': 0.6387926357773329, 'learning_rate': 0.0026368755339723046}. Best is trial 0 with value: -0.022222.\n"
     ]
    },
    {
     "name": "stderr",
     "output_type": "stream",
     "text": [
      "[I 2025-05-15 18:16:11,943] Trial 1 finished with value: -0.620503 and parameters: {'max_depth': 5, 'min_child_weight': 15, 'subsample': 0.8795585311974417, 'colsample_bynode': 0.6410035105688879, 'learning_rate': 0.08148293210105287}. Best is trial 1 with value: -0.620503.\n"
     ]
    },
    {
     "name": "stderr",
     "output_type": "stream",
     "text": [
      "[I 2025-05-15 18:16:12,175] Trial 2 finished with value: -0.022222 and parameters: {'max_depth': 3, 'min_child_weight': 243, 'subsample': 0.8491983767203796, 'colsample_bynode': 0.29110519961044856, 'learning_rate': 0.003095566460242371}. Best is trial 1 with value: -0.620503.\n"
     ]
    },
    {
     "name": "stderr",
     "output_type": "stream",
     "text": [
      "[I 2025-05-15 18:16:12,368] Trial 3 finished with value: -0.022222 and parameters: {'max_depth': 6, 'min_child_weight': 77, 'subsample': 0.5722807884690141, 'colsample_bynode': 0.48875051677790415, 'learning_rate': 0.006109683510122491}. Best is trial 1 with value: -0.620503.\n"
     ]
    },
    {
     "name": "stderr",
     "output_type": "stream",
     "text": [
      "[I 2025-05-15 18:16:12,563] Trial 4 finished with value: -0.022222 and parameters: {'max_depth': 14, 'min_child_weight': 35, 'subsample': 0.3629301836816964, 'colsample_bynode': 0.4297256589643226, 'learning_rate': 0.01701841881702917}. Best is trial 1 with value: -0.620503.\n"
     ]
    },
    {
     "name": "stderr",
     "output_type": "stream",
     "text": [
      "[I 2025-05-15 18:16:12,766] Trial 5 pruned. Trial was pruned at iteration 20.\n"
     ]
    },
    {
     "name": "stderr",
     "output_type": "stream",
     "text": [
      "[I 2025-05-15 18:16:12,968] Trial 6 finished with value: -0.022222 and parameters: {'max_depth': 13, 'min_child_weight': 43, 'subsample': 0.1585464336867516, 'colsample_bynode': 0.9539969835279999, 'learning_rate': 0.4038423798071558}. Best is trial 1 with value: -0.620503.\n"
     ]
    },
    {
     "name": "stderr",
     "output_type": "stream",
     "text": [
      "[I 2025-05-15 18:16:13,175] Trial 7 pruned. Trial was pruned at iteration 20.\n"
     ]
    },
    {
     "name": "stderr",
     "output_type": "stream",
     "text": [
      "[I 2025-05-15 18:16:13,378] Trial 8 pruned. Trial was pruned at iteration 20.\n"
     ]
    },
    {
     "name": "stderr",
     "output_type": "stream",
     "text": [
      "[I 2025-05-15 18:16:13,577] Trial 9 finished with value: -0.022222 and parameters: {'max_depth': 14, 'min_child_weight': 78, 'subsample': 0.5680612190600297, 'colsample_bynode': 0.5920392514089517, 'learning_rate': 0.0031543990308330965}. Best is trial 1 with value: -0.620503.\n"
     ]
    },
    {
     "name": "stderr",
     "output_type": "stream",
     "text": [
      "[I 2025-05-15 18:16:14,016] Trial 10 pruned. Trial was pruned at iteration 23.\n"
     ]
    },
    {
     "name": "stderr",
     "output_type": "stream",
     "text": [
      "[I 2025-05-15 18:16:14,230] Trial 11 finished with value: -0.022222 and parameters: {'max_depth': 9, 'min_child_weight': 244, 'subsample': 0.7759918276625105, 'colsample_bynode': 0.7714157288516674, 'learning_rate': 0.06989197786403963}. Best is trial 1 with value: -0.620503.\n"
     ]
    },
    {
     "name": "stderr",
     "output_type": "stream",
     "text": [
      "[I 2025-05-15 18:16:14,445] Trial 12 finished with value: -0.022222 and parameters: {'max_depth': 9, 'min_child_weight': 187, 'subsample': 0.7810886706853567, 'colsample_bynode': 0.7908156974794198, 'learning_rate': 0.0852514223226423}. Best is trial 1 with value: -0.620503.\n"
     ]
    },
    {
     "name": "stderr",
     "output_type": "stream",
     "text": [
      "[I 2025-05-15 18:16:14,662] Trial 13 pruned. Trial was pruned at iteration 20.\n"
     ]
    },
    {
     "name": "stderr",
     "output_type": "stream",
     "text": [
      "[I 2025-05-15 18:16:14,888] Trial 14 pruned. Trial was pruned at iteration 20.\n"
     ]
    },
    {
     "name": "stderr",
     "output_type": "stream",
     "text": [
      "[I 2025-05-15 18:16:15,108] Trial 15 pruned. Trial was pruned at iteration 20.\n"
     ]
    },
    {
     "name": "stderr",
     "output_type": "stream",
     "text": [
      "[I 2025-05-15 18:16:15,317] Trial 16 pruned. Trial was pruned at iteration 20.\n"
     ]
    },
    {
     "name": "stderr",
     "output_type": "stream",
     "text": [
      "[I 2025-05-15 18:16:15,651] Trial 17 pruned. Trial was pruned at iteration 21.\n"
     ]
    },
    {
     "name": "stderr",
     "output_type": "stream",
     "text": [
      "[I 2025-05-15 18:16:15,860] Trial 18 pruned. Trial was pruned at iteration 20.\n"
     ]
    },
    {
     "name": "stderr",
     "output_type": "stream",
     "text": [
      "[I 2025-05-15 18:16:16,081] Trial 19 pruned. Trial was pruned at iteration 20.\n"
     ]
    },
    {
     "name": "stderr",
     "output_type": "stream",
     "text": [
      "[I 2025-05-15 18:16:16,292] Trial 20 pruned. Trial was pruned at iteration 20.\n"
     ]
    },
    {
     "name": "stderr",
     "output_type": "stream",
     "text": [
      "[I 2025-05-15 18:16:16,506] Trial 21 pruned. Trial was pruned at iteration 20.\n"
     ]
    },
    {
     "name": "stderr",
     "output_type": "stream",
     "text": [
      "[I 2025-05-15 18:16:16,712] Trial 22 pruned. Trial was pruned at iteration 20.\n"
     ]
    },
    {
     "name": "stderr",
     "output_type": "stream",
     "text": [
      "[I 2025-05-15 18:16:16,939] Trial 23 finished with value: -0.022222 and parameters: {'max_depth': 6, 'min_child_weight': 232, 'subsample': 0.6638310221964546, 'colsample_bynode': 0.566298809027901, 'learning_rate': 0.0027719217784443364}. Best is trial 1 with value: -0.620503.\n"
     ]
    },
    {
     "name": "stderr",
     "output_type": "stream",
     "text": [
      "[I 2025-05-15 18:16:17,157] Trial 24 finished with value: -0.022222 and parameters: {'max_depth': 11, 'min_child_weight': 200, 'subsample': 0.9143238627389314, 'colsample_bynode': 0.3905434007926093, 'learning_rate': 0.004380634708425319}. Best is trial 1 with value: -0.620503.\n"
     ]
    },
    {
     "name": "stderr",
     "output_type": "stream",
     "text": [
      "[I 2025-05-15 18:16:17,368] Trial 25 finished with value: -0.022222 and parameters: {'max_depth': 5, 'min_child_weight': 169, 'subsample': 0.7535701176502512, 'colsample_bynode': 0.6875962023752984, 'learning_rate': 0.001751366603937793}. Best is trial 1 with value: -0.620503.\n"
     ]
    },
    {
     "name": "stderr",
     "output_type": "stream",
     "text": [
      "[I 2025-05-15 18:16:17,577] Trial 26 pruned. Trial was pruned at iteration 20.\n"
     ]
    },
    {
     "name": "stderr",
     "output_type": "stream",
     "text": [
      "[I 2025-05-15 18:16:17,795] Trial 27 pruned. Trial was pruned at iteration 20.\n"
     ]
    },
    {
     "name": "stderr",
     "output_type": "stream",
     "text": [
      "[I 2025-05-15 18:16:18,011] Trial 28 finished with value: -0.022222 and parameters: {'max_depth': 7, 'min_child_weight': 196, 'subsample': 0.9395802867292293, 'colsample_bynode': 0.10419856137301844, 'learning_rate': 0.12287823020042174}. Best is trial 1 with value: -0.620503.\n"
     ]
    },
    {
     "name": "stderr",
     "output_type": "stream",
     "text": [
      "[I 2025-05-15 18:16:18,229] Trial 29 finished with value: -0.022222 and parameters: {'max_depth': 5, 'min_child_weight': 146, 'subsample': 0.6524726734756583, 'colsample_bynode': 0.46569851971471055, 'learning_rate': 0.040578771578418715}. Best is trial 1 with value: -0.620503.\n"
     ]
    },
    {
     "name": "stderr",
     "output_type": "stream",
     "text": [
      "[I 2025-05-15 18:16:18,446] Trial 30 finished with value: -0.022222 and parameters: {'max_depth': 10, 'min_child_weight': 224, 'subsample': 0.48408877480742074, 'colsample_bynode': 0.6525741718054756, 'learning_rate': 0.006846398548333891}. Best is trial 1 with value: -0.620503.\n"
     ]
    },
    {
     "name": "stderr",
     "output_type": "stream",
     "text": [
      "[I 2025-05-15 18:16:18,635] Trial 31 pruned. Trial was pruned at iteration 20.\n"
     ]
    },
    {
     "name": "stderr",
     "output_type": "stream",
     "text": [
      "[I 2025-05-15 18:16:18,823] Trial 32 finished with value: -0.022222 and parameters: {'max_depth': 6, 'min_child_weight': 60, 'subsample': 0.5834577711765219, 'colsample_bynode': 0.40083156791272617, 'learning_rate': 0.005060185098022239}. Best is trial 1 with value: -0.620503.\n"
     ]
    },
    {
     "name": "stderr",
     "output_type": "stream",
     "text": [
      "[I 2025-05-15 18:16:19,019] Trial 33 finished with value: -0.166667 and parameters: {'max_depth': 4, 'min_child_weight': 34, 'subsample': 0.6129149280667663, 'colsample_bynode': 0.46859121318812375, 'learning_rate': 0.0018991950654641675}. Best is trial 1 with value: -0.620503.\n"
     ]
    },
    {
     "name": "stderr",
     "output_type": "stream",
     "text": [
      "[I 2025-05-15 18:16:19,213] Trial 34 pruned. Trial was pruned at iteration 20.\n"
     ]
    },
    {
     "name": "stderr",
     "output_type": "stream",
     "text": [
      "[I 2025-05-15 18:16:19,425] Trial 35 pruned. Trial was pruned at iteration 20.\n"
     ]
    },
    {
     "name": "stderr",
     "output_type": "stream",
     "text": [
      "[I 2025-05-15 18:16:19,677] Trial 36 pruned. Trial was pruned at iteration 21.\n"
     ]
    },
    {
     "name": "stderr",
     "output_type": "stream",
     "text": [
      "[I 2025-05-15 18:16:19,897] Trial 37 pruned. Trial was pruned at iteration 20.\n"
     ]
    },
    {
     "name": "stderr",
     "output_type": "stream",
     "text": [
      "[I 2025-05-15 18:16:20,124] Trial 38 finished with value: -0.022222 and parameters: {'max_depth': 3, 'min_child_weight': 81, 'subsample': 0.8091040152045403, 'colsample_bynode': 0.4603007897275272, 'learning_rate': 0.0064144424930686434}. Best is trial 1 with value: -0.620503.\n"
     ]
    },
    {
     "name": "stderr",
     "output_type": "stream",
     "text": [
      "[I 2025-05-15 18:16:20,346] Trial 39 finished with value: -0.022222 and parameters: {'max_depth': 8, 'min_child_weight': 61, 'subsample': 0.7226309846939374, 'colsample_bynode': 0.7236613140499161, 'learning_rate': 0.013707049830496624}. Best is trial 1 with value: -0.620503.\n"
     ]
    },
    {
     "name": "stderr",
     "output_type": "stream",
     "text": [
      "[I 2025-05-15 18:16:20,561] Trial 40 finished with value: -0.166667 and parameters: {'max_depth': 5, 'min_child_weight': 34, 'subsample': 0.6135397358527036, 'colsample_bynode': 0.1553644361646006, 'learning_rate': 0.002184104606938482}. Best is trial 1 with value: -0.620503.\n"
     ]
    },
    {
     "name": "stderr",
     "output_type": "stream",
     "text": [
      "[I 2025-05-15 18:16:20,780] Trial 41 finished with value: -0.166667 and parameters: {'max_depth': 5, 'min_child_weight': 35, 'subsample': 0.5782899113464048, 'colsample_bynode': 0.17334773691509603, 'learning_rate': 0.0020289572932119513}. Best is trial 1 with value: -0.620503.\n"
     ]
    },
    {
     "name": "stderr",
     "output_type": "stream",
     "text": [
      "[I 2025-05-15 18:16:20,981] Trial 42 finished with value: -0.166667 and parameters: {'max_depth': 5, 'min_child_weight': 34, 'subsample': 0.5878986315481958, 'colsample_bynode': 0.16966408818519474, 'learning_rate': 0.0021275143432395124}. Best is trial 1 with value: -0.620503.\n"
     ]
    },
    {
     "name": "stderr",
     "output_type": "stream",
     "text": [
      "[I 2025-05-15 18:16:21,162] Trial 43 pruned. Trial was pruned at iteration 20.\n"
     ]
    },
    {
     "name": "stderr",
     "output_type": "stream",
     "text": [
      "[I 2025-05-15 18:16:21,369] Trial 44 pruned. Trial was pruned at iteration 21.\n"
     ]
    },
    {
     "name": "stderr",
     "output_type": "stream",
     "text": [
      "[I 2025-05-15 18:16:21,555] Trial 45 finished with value: -0.022222 and parameters: {'max_depth': 7, 'min_child_weight': 46, 'subsample': 0.3090338009374223, 'colsample_bynode': 0.16330007374791608, 'learning_rate': 0.001038491855065353}. Best is trial 1 with value: -0.620503.\n"
     ]
    },
    {
     "name": "stderr",
     "output_type": "stream",
     "text": [
      "[I 2025-05-15 18:16:21,734] Trial 46 pruned. Trial was pruned at iteration 20.\n"
     ]
    },
    {
     "name": "stderr",
     "output_type": "stream",
     "text": [
      "[I 2025-05-15 18:16:21,929] Trial 47 pruned. Trial was pruned at iteration 21.\n"
     ]
    },
    {
     "name": "stderr",
     "output_type": "stream",
     "text": [
      "[I 2025-05-15 18:16:22,110] Trial 48 finished with value: -0.022222 and parameters: {'max_depth': 6, 'min_child_weight': 70, 'subsample': 0.5966598872575964, 'colsample_bynode': 0.27908009996507144, 'learning_rate': 0.0014328793058077651}. Best is trial 1 with value: -0.620503.\n"
     ]
    },
    {
     "name": "stderr",
     "output_type": "stream",
     "text": [
      "[I 2025-05-15 18:16:22,531] Trial 49 finished with value: -0.635106 and parameters: {'max_depth': 20, 'min_child_weight': 1, 'subsample': 0.5459550636056116, 'colsample_bynode': 0.18200020705006434, 'learning_rate': 0.0036992535734297594}. Best is trial 49 with value: -0.635106.\n"
     ]
    }
   ],
   "source": [
    "sampler = optuna.samplers.TPESampler(seed=42)\n",
    "study = optuna.create_study(direction='minimize', sampler=sampler)\n",
    "study.optimize(objective, n_trials=N_TRIALS, gc_after_trial=True)"
   ]
  },
  {
   "cell_type": "code",
   "execution_count": 20,
   "id": "df9d06cf",
   "metadata": {
    "execution": {
     "iopub.execute_input": "2025-05-15T16:16:22.670982Z",
     "iopub.status.busy": "2025-05-15T16:16:22.670744Z",
     "iopub.status.idle": "2025-05-15T16:16:22.694640Z",
     "shell.execute_reply": "2025-05-15T16:16:22.694249Z"
    },
    "papermill": {
     "duration": 0.033676,
     "end_time": "2025-05-15T16:16:22.695737",
     "exception": false,
     "start_time": "2025-05-15T16:16:22.662061",
     "status": "completed"
    },
    "tags": []
   },
   "outputs": [
    {
     "data": {
      "text/plain": [
       "['/scratch_isilon/groups/singlecell/shared/projects/Inflammation-PBMCs-Atlas/03_downstream_analysis/08_gene_importance/xgboost_external_validation/xgboost_TopN_genes/results_20/study/Plasma_4_2_xgboost.pkl']"
      ]
     },
     "execution_count": 20,
     "metadata": {},
     "output_type": "execute_result"
    }
   ],
   "source": [
    "out_dir = here(f'03_downstream_analysis/08_gene_importance/xgboost_external_validation/xgboost_TopN_genes/results_{N_GENES}/study')\n",
    "\n",
    "if not os.path.exists(out_dir):\n",
    "    os.makedirs(out_dir)\n",
    "    \n",
    "joblib.dump(study,os.path.join(out_dir, f'{CELL_TYPE}_{SEED}_{TEST_SPLIT_IDX}_xgboost.pkl'))"
   ]
  },
  {
   "cell_type": "code",
   "execution_count": 21,
   "id": "619ed5a5",
   "metadata": {
    "execution": {
     "iopub.execute_input": "2025-05-15T16:16:22.714518Z",
     "iopub.status.busy": "2025-05-15T16:16:22.714253Z",
     "iopub.status.idle": "2025-05-15T16:16:22.827721Z",
     "shell.execute_reply": "2025-05-15T16:16:22.827325Z"
    },
    "papermill": {
     "duration": 0.124139,
     "end_time": "2025-05-15T16:16:22.828988",
     "exception": false,
     "start_time": "2025-05-15T16:16:22.704849",
     "status": "completed"
    },
    "tags": []
   },
   "outputs": [
    {
     "data": {
      "text/html": [
       "<style>#sk-container-id-1 {\n",
       "  /* Definition of color scheme common for light and dark mode */\n",
       "  --sklearn-color-text: black;\n",
       "  --sklearn-color-line: gray;\n",
       "  /* Definition of color scheme for unfitted estimators */\n",
       "  --sklearn-color-unfitted-level-0: #fff5e6;\n",
       "  --sklearn-color-unfitted-level-1: #f6e4d2;\n",
       "  --sklearn-color-unfitted-level-2: #ffe0b3;\n",
       "  --sklearn-color-unfitted-level-3: chocolate;\n",
       "  /* Definition of color scheme for fitted estimators */\n",
       "  --sklearn-color-fitted-level-0: #f0f8ff;\n",
       "  --sklearn-color-fitted-level-1: #d4ebff;\n",
       "  --sklearn-color-fitted-level-2: #b3dbfd;\n",
       "  --sklearn-color-fitted-level-3: cornflowerblue;\n",
       "\n",
       "  /* Specific color for light theme */\n",
       "  --sklearn-color-text-on-default-background: var(--sg-text-color, var(--theme-code-foreground, var(--jp-content-font-color1, black)));\n",
       "  --sklearn-color-background: var(--sg-background-color, var(--theme-background, var(--jp-layout-color0, white)));\n",
       "  --sklearn-color-border-box: var(--sg-text-color, var(--theme-code-foreground, var(--jp-content-font-color1, black)));\n",
       "  --sklearn-color-icon: #696969;\n",
       "\n",
       "  @media (prefers-color-scheme: dark) {\n",
       "    /* Redefinition of color scheme for dark theme */\n",
       "    --sklearn-color-text-on-default-background: var(--sg-text-color, var(--theme-code-foreground, var(--jp-content-font-color1, white)));\n",
       "    --sklearn-color-background: var(--sg-background-color, var(--theme-background, var(--jp-layout-color0, #111)));\n",
       "    --sklearn-color-border-box: var(--sg-text-color, var(--theme-code-foreground, var(--jp-content-font-color1, white)));\n",
       "    --sklearn-color-icon: #878787;\n",
       "  }\n",
       "}\n",
       "\n",
       "#sk-container-id-1 {\n",
       "  color: var(--sklearn-color-text);\n",
       "}\n",
       "\n",
       "#sk-container-id-1 pre {\n",
       "  padding: 0;\n",
       "}\n",
       "\n",
       "#sk-container-id-1 input.sk-hidden--visually {\n",
       "  border: 0;\n",
       "  clip: rect(1px 1px 1px 1px);\n",
       "  clip: rect(1px, 1px, 1px, 1px);\n",
       "  height: 1px;\n",
       "  margin: -1px;\n",
       "  overflow: hidden;\n",
       "  padding: 0;\n",
       "  position: absolute;\n",
       "  width: 1px;\n",
       "}\n",
       "\n",
       "#sk-container-id-1 div.sk-dashed-wrapped {\n",
       "  border: 1px dashed var(--sklearn-color-line);\n",
       "  margin: 0 0.4em 0.5em 0.4em;\n",
       "  box-sizing: border-box;\n",
       "  padding-bottom: 0.4em;\n",
       "  background-color: var(--sklearn-color-background);\n",
       "}\n",
       "\n",
       "#sk-container-id-1 div.sk-container {\n",
       "  /* jupyter's `normalize.less` sets `[hidden] { display: none; }`\n",
       "     but bootstrap.min.css set `[hidden] { display: none !important; }`\n",
       "     so we also need the `!important` here to be able to override the\n",
       "     default hidden behavior on the sphinx rendered scikit-learn.org.\n",
       "     See: https://github.com/scikit-learn/scikit-learn/issues/21755 */\n",
       "  display: inline-block !important;\n",
       "  position: relative;\n",
       "}\n",
       "\n",
       "#sk-container-id-1 div.sk-text-repr-fallback {\n",
       "  display: none;\n",
       "}\n",
       "\n",
       "div.sk-parallel-item,\n",
       "div.sk-serial,\n",
       "div.sk-item {\n",
       "  /* draw centered vertical line to link estimators */\n",
       "  background-image: linear-gradient(var(--sklearn-color-text-on-default-background), var(--sklearn-color-text-on-default-background));\n",
       "  background-size: 2px 100%;\n",
       "  background-repeat: no-repeat;\n",
       "  background-position: center center;\n",
       "}\n",
       "\n",
       "/* Parallel-specific style estimator block */\n",
       "\n",
       "#sk-container-id-1 div.sk-parallel-item::after {\n",
       "  content: \"\";\n",
       "  width: 100%;\n",
       "  border-bottom: 2px solid var(--sklearn-color-text-on-default-background);\n",
       "  flex-grow: 1;\n",
       "}\n",
       "\n",
       "#sk-container-id-1 div.sk-parallel {\n",
       "  display: flex;\n",
       "  align-items: stretch;\n",
       "  justify-content: center;\n",
       "  background-color: var(--sklearn-color-background);\n",
       "  position: relative;\n",
       "}\n",
       "\n",
       "#sk-container-id-1 div.sk-parallel-item {\n",
       "  display: flex;\n",
       "  flex-direction: column;\n",
       "}\n",
       "\n",
       "#sk-container-id-1 div.sk-parallel-item:first-child::after {\n",
       "  align-self: flex-end;\n",
       "  width: 50%;\n",
       "}\n",
       "\n",
       "#sk-container-id-1 div.sk-parallel-item:last-child::after {\n",
       "  align-self: flex-start;\n",
       "  width: 50%;\n",
       "}\n",
       "\n",
       "#sk-container-id-1 div.sk-parallel-item:only-child::after {\n",
       "  width: 0;\n",
       "}\n",
       "\n",
       "/* Serial-specific style estimator block */\n",
       "\n",
       "#sk-container-id-1 div.sk-serial {\n",
       "  display: flex;\n",
       "  flex-direction: column;\n",
       "  align-items: center;\n",
       "  background-color: var(--sklearn-color-background);\n",
       "  padding-right: 1em;\n",
       "  padding-left: 1em;\n",
       "}\n",
       "\n",
       "\n",
       "/* Toggleable style: style used for estimator/Pipeline/ColumnTransformer box that is\n",
       "clickable and can be expanded/collapsed.\n",
       "- Pipeline and ColumnTransformer use this feature and define the default style\n",
       "- Estimators will overwrite some part of the style using the `sk-estimator` class\n",
       "*/\n",
       "\n",
       "/* Pipeline and ColumnTransformer style (default) */\n",
       "\n",
       "#sk-container-id-1 div.sk-toggleable {\n",
       "  /* Default theme specific background. It is overwritten whether we have a\n",
       "  specific estimator or a Pipeline/ColumnTransformer */\n",
       "  background-color: var(--sklearn-color-background);\n",
       "}\n",
       "\n",
       "/* Toggleable label */\n",
       "#sk-container-id-1 label.sk-toggleable__label {\n",
       "  cursor: pointer;\n",
       "  display: block;\n",
       "  width: 100%;\n",
       "  margin-bottom: 0;\n",
       "  padding: 0.5em;\n",
       "  box-sizing: border-box;\n",
       "  text-align: center;\n",
       "}\n",
       "\n",
       "#sk-container-id-1 label.sk-toggleable__label-arrow:before {\n",
       "  /* Arrow on the left of the label */\n",
       "  content: \"▸\";\n",
       "  float: left;\n",
       "  margin-right: 0.25em;\n",
       "  color: var(--sklearn-color-icon);\n",
       "}\n",
       "\n",
       "#sk-container-id-1 label.sk-toggleable__label-arrow:hover:before {\n",
       "  color: var(--sklearn-color-text);\n",
       "}\n",
       "\n",
       "/* Toggleable content - dropdown */\n",
       "\n",
       "#sk-container-id-1 div.sk-toggleable__content {\n",
       "  max-height: 0;\n",
       "  max-width: 0;\n",
       "  overflow: hidden;\n",
       "  text-align: left;\n",
       "  /* unfitted */\n",
       "  background-color: var(--sklearn-color-unfitted-level-0);\n",
       "}\n",
       "\n",
       "#sk-container-id-1 div.sk-toggleable__content.fitted {\n",
       "  /* fitted */\n",
       "  background-color: var(--sklearn-color-fitted-level-0);\n",
       "}\n",
       "\n",
       "#sk-container-id-1 div.sk-toggleable__content pre {\n",
       "  margin: 0.2em;\n",
       "  border-radius: 0.25em;\n",
       "  color: var(--sklearn-color-text);\n",
       "  /* unfitted */\n",
       "  background-color: var(--sklearn-color-unfitted-level-0);\n",
       "}\n",
       "\n",
       "#sk-container-id-1 div.sk-toggleable__content.fitted pre {\n",
       "  /* unfitted */\n",
       "  background-color: var(--sklearn-color-fitted-level-0);\n",
       "}\n",
       "\n",
       "#sk-container-id-1 input.sk-toggleable__control:checked~div.sk-toggleable__content {\n",
       "  /* Expand drop-down */\n",
       "  max-height: 200px;\n",
       "  max-width: 100%;\n",
       "  overflow: auto;\n",
       "}\n",
       "\n",
       "#sk-container-id-1 input.sk-toggleable__control:checked~label.sk-toggleable__label-arrow:before {\n",
       "  content: \"▾\";\n",
       "}\n",
       "\n",
       "/* Pipeline/ColumnTransformer-specific style */\n",
       "\n",
       "#sk-container-id-1 div.sk-label input.sk-toggleable__control:checked~label.sk-toggleable__label {\n",
       "  color: var(--sklearn-color-text);\n",
       "  background-color: var(--sklearn-color-unfitted-level-2);\n",
       "}\n",
       "\n",
       "#sk-container-id-1 div.sk-label.fitted input.sk-toggleable__control:checked~label.sk-toggleable__label {\n",
       "  background-color: var(--sklearn-color-fitted-level-2);\n",
       "}\n",
       "\n",
       "/* Estimator-specific style */\n",
       "\n",
       "/* Colorize estimator box */\n",
       "#sk-container-id-1 div.sk-estimator input.sk-toggleable__control:checked~label.sk-toggleable__label {\n",
       "  /* unfitted */\n",
       "  background-color: var(--sklearn-color-unfitted-level-2);\n",
       "}\n",
       "\n",
       "#sk-container-id-1 div.sk-estimator.fitted input.sk-toggleable__control:checked~label.sk-toggleable__label {\n",
       "  /* fitted */\n",
       "  background-color: var(--sklearn-color-fitted-level-2);\n",
       "}\n",
       "\n",
       "#sk-container-id-1 div.sk-label label.sk-toggleable__label,\n",
       "#sk-container-id-1 div.sk-label label {\n",
       "  /* The background is the default theme color */\n",
       "  color: var(--sklearn-color-text-on-default-background);\n",
       "}\n",
       "\n",
       "/* On hover, darken the color of the background */\n",
       "#sk-container-id-1 div.sk-label:hover label.sk-toggleable__label {\n",
       "  color: var(--sklearn-color-text);\n",
       "  background-color: var(--sklearn-color-unfitted-level-2);\n",
       "}\n",
       "\n",
       "/* Label box, darken color on hover, fitted */\n",
       "#sk-container-id-1 div.sk-label.fitted:hover label.sk-toggleable__label.fitted {\n",
       "  color: var(--sklearn-color-text);\n",
       "  background-color: var(--sklearn-color-fitted-level-2);\n",
       "}\n",
       "\n",
       "/* Estimator label */\n",
       "\n",
       "#sk-container-id-1 div.sk-label label {\n",
       "  font-family: monospace;\n",
       "  font-weight: bold;\n",
       "  display: inline-block;\n",
       "  line-height: 1.2em;\n",
       "}\n",
       "\n",
       "#sk-container-id-1 div.sk-label-container {\n",
       "  text-align: center;\n",
       "}\n",
       "\n",
       "/* Estimator-specific */\n",
       "#sk-container-id-1 div.sk-estimator {\n",
       "  font-family: monospace;\n",
       "  border: 1px dotted var(--sklearn-color-border-box);\n",
       "  border-radius: 0.25em;\n",
       "  box-sizing: border-box;\n",
       "  margin-bottom: 0.5em;\n",
       "  /* unfitted */\n",
       "  background-color: var(--sklearn-color-unfitted-level-0);\n",
       "}\n",
       "\n",
       "#sk-container-id-1 div.sk-estimator.fitted {\n",
       "  /* fitted */\n",
       "  background-color: var(--sklearn-color-fitted-level-0);\n",
       "}\n",
       "\n",
       "/* on hover */\n",
       "#sk-container-id-1 div.sk-estimator:hover {\n",
       "  /* unfitted */\n",
       "  background-color: var(--sklearn-color-unfitted-level-2);\n",
       "}\n",
       "\n",
       "#sk-container-id-1 div.sk-estimator.fitted:hover {\n",
       "  /* fitted */\n",
       "  background-color: var(--sklearn-color-fitted-level-2);\n",
       "}\n",
       "\n",
       "/* Specification for estimator info (e.g. \"i\" and \"?\") */\n",
       "\n",
       "/* Common style for \"i\" and \"?\" */\n",
       "\n",
       ".sk-estimator-doc-link,\n",
       "a:link.sk-estimator-doc-link,\n",
       "a:visited.sk-estimator-doc-link {\n",
       "  float: right;\n",
       "  font-size: smaller;\n",
       "  line-height: 1em;\n",
       "  font-family: monospace;\n",
       "  background-color: var(--sklearn-color-background);\n",
       "  border-radius: 1em;\n",
       "  height: 1em;\n",
       "  width: 1em;\n",
       "  text-decoration: none !important;\n",
       "  margin-left: 1ex;\n",
       "  /* unfitted */\n",
       "  border: var(--sklearn-color-unfitted-level-1) 1pt solid;\n",
       "  color: var(--sklearn-color-unfitted-level-1);\n",
       "}\n",
       "\n",
       ".sk-estimator-doc-link.fitted,\n",
       "a:link.sk-estimator-doc-link.fitted,\n",
       "a:visited.sk-estimator-doc-link.fitted {\n",
       "  /* fitted */\n",
       "  border: var(--sklearn-color-fitted-level-1) 1pt solid;\n",
       "  color: var(--sklearn-color-fitted-level-1);\n",
       "}\n",
       "\n",
       "/* On hover */\n",
       "div.sk-estimator:hover .sk-estimator-doc-link:hover,\n",
       ".sk-estimator-doc-link:hover,\n",
       "div.sk-label-container:hover .sk-estimator-doc-link:hover,\n",
       ".sk-estimator-doc-link:hover {\n",
       "  /* unfitted */\n",
       "  background-color: var(--sklearn-color-unfitted-level-3);\n",
       "  color: var(--sklearn-color-background);\n",
       "  text-decoration: none;\n",
       "}\n",
       "\n",
       "div.sk-estimator.fitted:hover .sk-estimator-doc-link.fitted:hover,\n",
       ".sk-estimator-doc-link.fitted:hover,\n",
       "div.sk-label-container:hover .sk-estimator-doc-link.fitted:hover,\n",
       ".sk-estimator-doc-link.fitted:hover {\n",
       "  /* fitted */\n",
       "  background-color: var(--sklearn-color-fitted-level-3);\n",
       "  color: var(--sklearn-color-background);\n",
       "  text-decoration: none;\n",
       "}\n",
       "\n",
       "/* Span, style for the box shown on hovering the info icon */\n",
       ".sk-estimator-doc-link span {\n",
       "  display: none;\n",
       "  z-index: 9999;\n",
       "  position: relative;\n",
       "  font-weight: normal;\n",
       "  right: .2ex;\n",
       "  padding: .5ex;\n",
       "  margin: .5ex;\n",
       "  width: min-content;\n",
       "  min-width: 20ex;\n",
       "  max-width: 50ex;\n",
       "  color: var(--sklearn-color-text);\n",
       "  box-shadow: 2pt 2pt 4pt #999;\n",
       "  /* unfitted */\n",
       "  background: var(--sklearn-color-unfitted-level-0);\n",
       "  border: .5pt solid var(--sklearn-color-unfitted-level-3);\n",
       "}\n",
       "\n",
       ".sk-estimator-doc-link.fitted span {\n",
       "  /* fitted */\n",
       "  background: var(--sklearn-color-fitted-level-0);\n",
       "  border: var(--sklearn-color-fitted-level-3);\n",
       "}\n",
       "\n",
       ".sk-estimator-doc-link:hover span {\n",
       "  display: block;\n",
       "}\n",
       "\n",
       "/* \"?\"-specific style due to the `<a>` HTML tag */\n",
       "\n",
       "#sk-container-id-1 a.estimator_doc_link {\n",
       "  float: right;\n",
       "  font-size: 1rem;\n",
       "  line-height: 1em;\n",
       "  font-family: monospace;\n",
       "  background-color: var(--sklearn-color-background);\n",
       "  border-radius: 1rem;\n",
       "  height: 1rem;\n",
       "  width: 1rem;\n",
       "  text-decoration: none;\n",
       "  /* unfitted */\n",
       "  color: var(--sklearn-color-unfitted-level-1);\n",
       "  border: var(--sklearn-color-unfitted-level-1) 1pt solid;\n",
       "}\n",
       "\n",
       "#sk-container-id-1 a.estimator_doc_link.fitted {\n",
       "  /* fitted */\n",
       "  border: var(--sklearn-color-fitted-level-1) 1pt solid;\n",
       "  color: var(--sklearn-color-fitted-level-1);\n",
       "}\n",
       "\n",
       "/* On hover */\n",
       "#sk-container-id-1 a.estimator_doc_link:hover {\n",
       "  /* unfitted */\n",
       "  background-color: var(--sklearn-color-unfitted-level-3);\n",
       "  color: var(--sklearn-color-background);\n",
       "  text-decoration: none;\n",
       "}\n",
       "\n",
       "#sk-container-id-1 a.estimator_doc_link.fitted:hover {\n",
       "  /* fitted */\n",
       "  background-color: var(--sklearn-color-fitted-level-3);\n",
       "}\n",
       "</style><div id=\"sk-container-id-1\" class=\"sk-top-container\"><div class=\"sk-text-repr-fallback\"><pre>XGBClassifier(base_score=None, booster=None, callbacks=None,\n",
       "              colsample_bylevel=None, colsample_bynode=0.18200020705006434,\n",
       "              colsample_bytree=None, device=None, early_stopping_rounds=None,\n",
       "              enable_categorical=False,\n",
       "              eval_metric=&lt;function custom_f1_score at 0x7f06eb41fec0&gt;,\n",
       "              feature_types=None, gamma=None, grow_policy=None,\n",
       "              importance_type=None, interaction_constraints=None,\n",
       "              learning_rate=0.0036992535734297594, max_bin=None,\n",
       "              max_cat_threshold=None, max_cat_to_onehot=None,\n",
       "              max_delta_step=None, max_depth=20, max_leaves=None,\n",
       "              min_child_weight=1, missing=nan, monotone_constraints=None,\n",
       "              multi_strategy=None, n_estimators=8, n_jobs=None,\n",
       "              num_parallel_tree=None, objective=&#x27;multi:softprob&#x27;, ...)</pre><b>In a Jupyter environment, please rerun this cell to show the HTML representation or trust the notebook. <br />On GitHub, the HTML representation is unable to render, please try loading this page with nbviewer.org.</b></div><div class=\"sk-container\" hidden><div class=\"sk-item\"><div class=\"sk-estimator fitted sk-toggleable\"><input class=\"sk-toggleable__control sk-hidden--visually\" id=\"sk-estimator-id-1\" type=\"checkbox\" checked><label for=\"sk-estimator-id-1\" class=\"sk-toggleable__label fitted sk-toggleable__label-arrow fitted\">&nbsp;XGBClassifier<span class=\"sk-estimator-doc-link fitted\">i<span>Fitted</span></span></label><div class=\"sk-toggleable__content fitted\"><pre>XGBClassifier(base_score=None, booster=None, callbacks=None,\n",
       "              colsample_bylevel=None, colsample_bynode=0.18200020705006434,\n",
       "              colsample_bytree=None, device=None, early_stopping_rounds=None,\n",
       "              enable_categorical=False,\n",
       "              eval_metric=&lt;function custom_f1_score at 0x7f06eb41fec0&gt;,\n",
       "              feature_types=None, gamma=None, grow_policy=None,\n",
       "              importance_type=None, interaction_constraints=None,\n",
       "              learning_rate=0.0036992535734297594, max_bin=None,\n",
       "              max_cat_threshold=None, max_cat_to_onehot=None,\n",
       "              max_delta_step=None, max_depth=20, max_leaves=None,\n",
       "              min_child_weight=1, missing=nan, monotone_constraints=None,\n",
       "              multi_strategy=None, n_estimators=8, n_jobs=None,\n",
       "              num_parallel_tree=None, objective=&#x27;multi:softprob&#x27;, ...)</pre></div> </div></div></div></div>"
      ],
      "text/plain": [
       "XGBClassifier(base_score=None, booster=None, callbacks=None,\n",
       "              colsample_bylevel=None, colsample_bynode=0.18200020705006434,\n",
       "              colsample_bytree=None, device=None, early_stopping_rounds=None,\n",
       "              enable_categorical=False,\n",
       "              eval_metric=<function custom_f1_score at 0x7f06eb41fec0>,\n",
       "              feature_types=None, gamma=None, grow_policy=None,\n",
       "              importance_type=None, interaction_constraints=None,\n",
       "              learning_rate=0.0036992535734297594, max_bin=None,\n",
       "              max_cat_threshold=None, max_cat_to_onehot=None,\n",
       "              max_delta_step=None, max_depth=20, max_leaves=None,\n",
       "              min_child_weight=1, missing=nan, monotone_constraints=None,\n",
       "              multi_strategy=None, n_estimators=8, n_jobs=None,\n",
       "              num_parallel_tree=None, objective='multi:softprob', ...)"
      ]
     },
     "execution_count": 21,
     "metadata": {},
     "output_type": "execute_result"
    }
   ],
   "source": [
    "n_estimators = int(study.best_trial.user_attrs['best_iteration']*1.2)\n",
    "xgb = xgboost.XGBClassifier(\n",
    "        eval_metric=eval_metric,\n",
    "        n_estimators=n_estimators,\n",
    "        **study.best_trial.params\n",
    "    )\n",
    "xgb.fit(\n",
    "    ssp.vstack((X_train, X_val)), \n",
    "    np.concatenate((y_train_enc, y_val_enc)),\n",
    "    verbose=1,\n",
    ")"
   ]
  },
  {
   "cell_type": "code",
   "execution_count": 22,
   "id": "838377c1",
   "metadata": {
    "execution": {
     "iopub.execute_input": "2025-05-15T16:16:22.849423Z",
     "iopub.status.busy": "2025-05-15T16:16:22.849201Z",
     "iopub.status.idle": "2025-05-15T16:16:22.866462Z",
     "shell.execute_reply": "2025-05-15T16:16:22.866093Z"
    },
    "papermill": {
     "duration": 0.028077,
     "end_time": "2025-05-15T16:16:22.867509",
     "exception": false,
     "start_time": "2025-05-15T16:16:22.839432",
     "status": "completed"
    },
    "tags": []
   },
   "outputs": [
    {
     "data": {
      "text/plain": [
       "['/scratch_isilon/groups/singlecell/shared/projects/Inflammation-PBMCs-Atlas/03_downstream_analysis/08_gene_importance/xgboost_external_validation/xgboost_TopN_genes/results_20/best_model/Plasma_4_2_xgb.json']"
      ]
     },
     "execution_count": 22,
     "metadata": {},
     "output_type": "execute_result"
    }
   ],
   "source": [
    "out_dir = here(f'03_downstream_analysis/08_gene_importance/xgboost_external_validation/xgboost_TopN_genes/results_{N_GENES}/best_model')\n",
    "\n",
    "if not os.path.exists(out_dir):\n",
    "    os.makedirs(out_dir)\n",
    "    \n",
    "joblib.dump(xgb, os.path.join(out_dir, f'{CELL_TYPE}_{SEED}_{TEST_SPLIT_IDX}_xgb.json'))"
   ]
  },
  {
   "cell_type": "code",
   "execution_count": 23,
   "id": "f2bac5d8",
   "metadata": {
    "execution": {
     "iopub.execute_input": "2025-05-15T16:16:22.887164Z",
     "iopub.status.busy": "2025-05-15T16:16:22.886868Z",
     "iopub.status.idle": "2025-05-15T16:16:22.894480Z",
     "shell.execute_reply": "2025-05-15T16:16:22.894083Z"
    },
    "papermill": {
     "duration": 0.018657,
     "end_time": "2025-05-15T16:16:22.895542",
     "exception": false,
     "start_time": "2025-05-15T16:16:22.876885",
     "status": "completed"
    },
    "tags": []
   },
   "outputs": [],
   "source": [
    "df_pred_test = pd.DataFrame(dict(\n",
    "    cell_id=train_adata.obs.iloc[test_idxs].index.values,\n",
    "    y_true=y_test, \n",
    "    y_true_code=y_test_enc, \n",
    "    y_pred=xgb.predict(X_test))).set_index('cell_id')"
   ]
  },
  {
   "cell_type": "code",
   "execution_count": 24,
   "id": "7d6b2216",
   "metadata": {
    "execution": {
     "iopub.execute_input": "2025-05-15T16:16:22.915902Z",
     "iopub.status.busy": "2025-05-15T16:16:22.915594Z",
     "iopub.status.idle": "2025-05-15T16:16:22.928174Z",
     "shell.execute_reply": "2025-05-15T16:16:22.927751Z"
    },
    "papermill": {
     "duration": 0.024804,
     "end_time": "2025-05-15T16:16:22.930012",
     "exception": false,
     "start_time": "2025-05-15T16:16:22.905208",
     "status": "completed"
    },
    "tags": []
   },
   "outputs": [],
   "source": [
    "out_dir = here(f'03_downstream_analysis/08_gene_importance/xgboost_external_validation/xgboost_TopN_genes/results_{N_GENES}/predictions')\n",
    "\n",
    "if not os.path.exists(out_dir):\n",
    "    os.makedirs(out_dir)\n",
    "    \n",
    "df_pred_test.to_csv(os.path.join(out_dir, f'{CELL_TYPE}_{SEED}_{TEST_SPLIT_IDX}_pred_test.zip'))"
   ]
  },
  {
   "cell_type": "code",
   "execution_count": 25,
   "id": "9cde7ce6",
   "metadata": {
    "execution": {
     "iopub.execute_input": "2025-05-15T16:16:22.950997Z",
     "iopub.status.busy": "2025-05-15T16:16:22.950621Z",
     "iopub.status.idle": "2025-05-15T16:16:22.956674Z",
     "shell.execute_reply": "2025-05-15T16:16:22.956326Z"
    },
    "papermill": {
     "duration": 0.016852,
     "end_time": "2025-05-15T16:16:22.957587",
     "exception": false,
     "start_time": "2025-05-15T16:16:22.940735",
     "status": "completed"
    },
    "tags": []
   },
   "outputs": [],
   "source": [
    "metrics_dict = dict(\n",
    "    BAS=balanced_accuracy_score(y_true=df_pred_test.y_true_code, y_pred=df_pred_test.y_pred), WF1=f1_score(y_true=df_pred_test.y_true_code, y_pred=df_pred_test.y_pred,average='weighted'))"
   ]
  },
  {
   "cell_type": "code",
   "execution_count": 26,
   "id": "5769f305",
   "metadata": {
    "execution": {
     "iopub.execute_input": "2025-05-15T16:16:22.976306Z",
     "iopub.status.busy": "2025-05-15T16:16:22.976078Z",
     "iopub.status.idle": "2025-05-15T16:16:22.979239Z",
     "shell.execute_reply": "2025-05-15T16:16:22.978911Z"
    },
    "papermill": {
     "duration": 0.01363,
     "end_time": "2025-05-15T16:16:22.980049",
     "exception": false,
     "start_time": "2025-05-15T16:16:22.966419",
     "status": "completed"
    },
    "tags": []
   },
   "outputs": [
    {
     "data": {
      "text/plain": [
       "{'BAS': 0.23622333548804136, 'WF1': 0.35524517505352493}"
      ]
     },
     "execution_count": 26,
     "metadata": {},
     "output_type": "execute_result"
    }
   ],
   "source": [
    "metrics_dict"
   ]
  },
  {
   "cell_type": "code",
   "execution_count": 27,
   "id": "4663e7d3",
   "metadata": {
    "execution": {
     "iopub.execute_input": "2025-05-15T16:16:22.998475Z",
     "iopub.status.busy": "2025-05-15T16:16:22.998186Z",
     "iopub.status.idle": "2025-05-15T16:16:23.008330Z",
     "shell.execute_reply": "2025-05-15T16:16:23.007946Z"
    },
    "papermill": {
     "duration": 0.020634,
     "end_time": "2025-05-15T16:16:23.009250",
     "exception": false,
     "start_time": "2025-05-15T16:16:22.988616",
     "status": "completed"
    },
    "tags": []
   },
   "outputs": [
    {
     "data": {
      "text/html": [
       "<div>\n",
       "<style scoped>\n",
       "    .dataframe tbody tr th:only-of-type {\n",
       "        vertical-align: middle;\n",
       "    }\n",
       "\n",
       "    .dataframe tbody tr th {\n",
       "        vertical-align: top;\n",
       "    }\n",
       "\n",
       "    .dataframe thead th {\n",
       "        text-align: right;\n",
       "    }\n",
       "</style>\n",
       "<table border=\"1\" class=\"dataframe\">\n",
       "  <thead>\n",
       "    <tr style=\"text-align: right;\">\n",
       "      <th></th>\n",
       "      <th>BAS</th>\n",
       "      <th>WF1</th>\n",
       "      <th>split_idx</th>\n",
       "      <th>gene_set_seed</th>\n",
       "      <th>cell_type</th>\n",
       "    </tr>\n",
       "  </thead>\n",
       "  <tbody>\n",
       "    <tr>\n",
       "      <th>0</th>\n",
       "      <td>0.236223</td>\n",
       "      <td>0.355245</td>\n",
       "      <td>2</td>\n",
       "      <td>4</td>\n",
       "      <td>Plasma</td>\n",
       "    </tr>\n",
       "  </tbody>\n",
       "</table>\n",
       "</div>"
      ],
      "text/plain": [
       "        BAS       WF1  split_idx  gene_set_seed cell_type\n",
       "0  0.236223  0.355245          2              4    Plasma"
      ]
     },
     "execution_count": 27,
     "metadata": {},
     "output_type": "execute_result"
    }
   ],
   "source": [
    "metrics_df = pd.DataFrame.from_dict([metrics_dict]).assign(split_idx=TEST_SPLIT_IDX, gene_set_seed=SEED, cell_type=CELL_TYPE)\n",
    "metrics_df"
   ]
  },
  {
   "cell_type": "code",
   "execution_count": 28,
   "id": "f7909015",
   "metadata": {
    "execution": {
     "iopub.execute_input": "2025-05-15T16:16:23.028493Z",
     "iopub.status.busy": "2025-05-15T16:16:23.028207Z",
     "iopub.status.idle": "2025-05-15T16:16:23.036188Z",
     "shell.execute_reply": "2025-05-15T16:16:23.035849Z"
    },
    "papermill": {
     "duration": 0.018459,
     "end_time": "2025-05-15T16:16:23.037066",
     "exception": false,
     "start_time": "2025-05-15T16:16:23.018607",
     "status": "completed"
    },
    "tags": []
   },
   "outputs": [],
   "source": [
    "out_dir = here(f'03_downstream_analysis/08_gene_importance/xgboost_external_validation/xgboost_TopN_genes/results_{N_GENES}/metrics')\n",
    "\n",
    "if not os.path.exists(out_dir):\n",
    "    os.makedirs(out_dir)\n",
    "    \n",
    "metrics_df.to_csv(os.path.join(out_dir, f'{CELL_TYPE}_{SEED}_{TEST_SPLIT_IDX}_metrics.zip'))"
   ]
  }
 ],
 "metadata": {
  "kernelspec": {
   "display_name": "Python 3 (ipykernel)",
   "language": "python",
   "name": "python3"
  },
  "language_info": {
   "codemirror_mode": {
    "name": "ipython",
    "version": 3
   },
   "file_extension": ".py",
   "mimetype": "text/x-python",
   "name": "python",
   "nbconvert_exporter": "python",
   "pygments_lexer": "ipython3",
   "version": "3.12.5"
  },
  "papermill": {
   "default_parameters": {},
   "duration": 56.152904,
   "end_time": "2025-05-15T16:16:23.863596",
   "environment_variables": {},
   "exception": null,
   "input_path": "02_xgboost_fitting_external_20genes.ipynb",
   "output_path": "results_20/executed_notebooks/xgboost_fitting_external_CT_Plasma_GS_4_seed2.ipynb",
   "parameters": {
    "CELL_TYPE": "Plasma",
    "SEED": 4,
    "TEST_SPLIT_IDX": 2
   },
   "start_time": "2025-05-15T16:15:27.710692",
   "version": "2.6.0"
  }
 },
 "nbformat": 4,
 "nbformat_minor": 5
}