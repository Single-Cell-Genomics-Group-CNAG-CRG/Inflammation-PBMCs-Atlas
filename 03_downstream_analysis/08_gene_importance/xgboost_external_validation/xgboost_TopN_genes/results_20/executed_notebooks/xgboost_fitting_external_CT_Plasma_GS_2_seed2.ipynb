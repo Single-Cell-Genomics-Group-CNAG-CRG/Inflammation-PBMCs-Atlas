{
 "cells": [
  {
   "cell_type": "code",
   "execution_count": 1,
   "id": "9fcfd110",
   "metadata": {
    "editable": true,
    "execution": {
     "iopub.execute_input": "2025-05-15T16:15:26.215572Z",
     "iopub.status.busy": "2025-05-15T16:15:26.215333Z",
     "iopub.status.idle": "2025-05-15T16:15:26.218873Z",
     "shell.execute_reply": "2025-05-15T16:15:26.218438Z"
    },
    "papermill": {
     "duration": 0.030793,
     "end_time": "2025-05-15T16:15:26.219910",
     "exception": false,
     "start_time": "2025-05-15T16:15:26.189117",
     "status": "completed"
    },
    "slideshow": {
     "slide_type": ""
    },
    "tags": [
     "parameters"
    ]
   },
   "outputs": [],
   "source": [
    "CELL_TYPE = 'pDC'\n",
    "N_GENES: int = 20\n",
    "SEED = 'shap_studyID' #'disease_NOstudy' 'study_NOdisease' or 'int' or 'shap_studyID'\n",
    "TEST_SPLIT_IDX: int = 1 #[0,4]"
   ]
  },
  {
   "cell_type": "code",
   "execution_count": 2,
   "id": "d9d0c887",
   "metadata": {
    "execution": {
     "iopub.execute_input": "2025-05-15T16:15:26.239706Z",
     "iopub.status.busy": "2025-05-15T16:15:26.239128Z",
     "iopub.status.idle": "2025-05-15T16:15:26.241823Z",
     "shell.execute_reply": "2025-05-15T16:15:26.241395Z"
    },
    "papermill": {
     "duration": 0.011953,
     "end_time": "2025-05-15T16:15:26.242787",
     "exception": false,
     "start_time": "2025-05-15T16:15:26.230834",
     "status": "completed"
    },
    "tags": [
     "injected-parameters"
    ]
   },
   "outputs": [],
   "source": [
    "# Parameters\n",
    "CELL_TYPE = \"Plasma\"\n",
    "SEED = 2\n",
    "TEST_SPLIT_IDX = 2\n"
   ]
  },
  {
   "cell_type": "code",
   "execution_count": 3,
   "id": "ae11c2eb",
   "metadata": {
    "execution": {
     "iopub.execute_input": "2025-05-15T16:15:26.255772Z",
     "iopub.status.busy": "2025-05-15T16:15:26.255368Z",
     "iopub.status.idle": "2025-05-15T16:15:26.258289Z",
     "shell.execute_reply": "2025-05-15T16:15:26.257689Z"
    },
    "papermill": {
     "duration": 0.010437,
     "end_time": "2025-05-15T16:15:26.259389",
     "exception": false,
     "start_time": "2025-05-15T16:15:26.248952",
     "status": "completed"
    },
    "tags": []
   },
   "outputs": [],
   "source": [
    "N_SPLITS: int = 5\n",
    "N_TRIALS: int = 50"
   ]
  },
  {
   "cell_type": "code",
   "execution_count": 4,
   "id": "05db4e1f",
   "metadata": {
    "execution": {
     "iopub.execute_input": "2025-05-15T16:15:26.286666Z",
     "iopub.status.busy": "2025-05-15T16:15:26.286351Z",
     "iopub.status.idle": "2025-05-15T16:15:27.870086Z",
     "shell.execute_reply": "2025-05-15T16:15:27.869487Z"
    },
    "papermill": {
     "duration": 1.606375,
     "end_time": "2025-05-15T16:15:27.871666",
     "exception": false,
     "start_time": "2025-05-15T16:15:26.265291",
     "status": "completed"
    },
    "tags": []
   },
   "outputs": [],
   "source": [
    "import os\n",
    "import sys\n",
    "from pyprojroot.here import here\n",
    "import pandas as pd\n",
    "import anndata as ad\n",
    "import numpy as np\n",
    "import math\n",
    "from sklearn.model_selection import StratifiedGroupKFold\n",
    "from sklearn.preprocessing import LabelEncoder\n",
    "from sklearn.metrics import f1_score\n",
    "import matplotlib.pyplot as plt\n",
    "import seaborn as sns\n",
    "from itertools import product\n",
    "from sklearn.metrics import balanced_accuracy_score, f1_score\n",
    "import optuna\n",
    "\n",
    "import joblib\n",
    "import pickle\n",
    "import datetime\n",
    "\n",
    "import collections\n",
    "\n",
    "import xgboost\n",
    "from sklearn.preprocessing import LabelEncoder\n",
    "\n",
    "import scipy.sparse as ssp\n",
    "import joblib\n",
    "\n",
    "from dotenv import load_dotenv"
   ]
  },
  {
   "cell_type": "code",
   "execution_count": 5,
   "id": "0ed1f5a5",
   "metadata": {
    "execution": {
     "iopub.execute_input": "2025-05-15T16:15:27.886212Z",
     "iopub.status.busy": "2025-05-15T16:15:27.885853Z",
     "iopub.status.idle": "2025-05-15T16:15:27.891688Z",
     "shell.execute_reply": "2025-05-15T16:15:27.891346Z"
    },
    "papermill": {
     "duration": 0.014052,
     "end_time": "2025-05-15T16:15:27.892635",
     "exception": false,
     "start_time": "2025-05-15T16:15:27.878583",
     "status": "completed"
    },
    "tags": []
   },
   "outputs": [
    {
     "data": {
      "text/plain": [
       "True"
      ]
     },
     "execution_count": 5,
     "metadata": {},
     "output_type": "execute_result"
    }
   ],
   "source": [
    "load_dotenv()"
   ]
  },
  {
   "cell_type": "markdown",
   "id": "7d7ca2a7",
   "metadata": {
    "papermill": {
     "duration": 0.00618,
     "end_time": "2025-05-15T16:15:27.905266",
     "exception": false,
     "start_time": "2025-05-15T16:15:27.899086",
     "status": "completed"
    },
    "tags": []
   },
   "source": [
    "# LOAD DATASET"
   ]
  },
  {
   "cell_type": "code",
   "execution_count": 6,
   "id": "8a82beee",
   "metadata": {
    "execution": {
     "iopub.execute_input": "2025-05-15T16:15:27.918298Z",
     "iopub.status.busy": "2025-05-15T16:15:27.918110Z",
     "iopub.status.idle": "2025-05-15T16:15:27.961780Z",
     "shell.execute_reply": "2025-05-15T16:15:27.961362Z"
    },
    "papermill": {
     "duration": 0.051272,
     "end_time": "2025-05-15T16:15:27.962755",
     "exception": false,
     "start_time": "2025-05-15T16:15:27.911483",
     "status": "completed"
    },
    "tags": []
   },
   "outputs": [],
   "source": [
    "train_adata = ad.read_h5ad(\n",
    "    here(f'03_downstream_analysis/08_gene_importance/xgboost_external_validation/xgboost_TopN_genes/data_cellTypes/EXTERNAL_{CELL_TYPE}.filtered.log1p.h5ad')\n",
    ")"
   ]
  },
  {
   "cell_type": "code",
   "execution_count": 7,
   "id": "f5f72c4b",
   "metadata": {
    "execution": {
     "iopub.execute_input": "2025-05-15T16:15:27.976382Z",
     "iopub.status.busy": "2025-05-15T16:15:27.975984Z",
     "iopub.status.idle": "2025-05-15T16:15:27.985998Z",
     "shell.execute_reply": "2025-05-15T16:15:27.985586Z"
    },
    "papermill": {
     "duration": 0.017559,
     "end_time": "2025-05-15T16:15:27.986986",
     "exception": false,
     "start_time": "2025-05-15T16:15:27.969427",
     "status": "completed"
    },
    "tags": []
   },
   "outputs": [
    {
     "name": "stdout",
     "output_type": "stream",
     "text": [
      "['ENSG00000138778' 'ENSG00000104894' 'ENSG00000128340' 'ENSG00000143761'\n",
      " 'ENSG00000129084' 'ENSG00000136156' 'ENSG00000143933' 'ENSG00000048462'\n",
      " 'ENSG00000121858' 'ENSG00000153064' 'ENSG00000165280' 'ENSG00000156587'\n",
      " 'ENSG00000235162' 'ENSG00000175482' 'ENSG00000184752' 'ENSG00000134539'\n",
      " 'ENSG00000103187' 'ENSG00000175104' 'ENSG00000142669' 'ENSG00000138378'\n",
      " 'ENSG00000028137' 'ENSG00000177556' 'ENSG00000164104' 'ENSG00000096996'\n",
      " 'ENSG00000172543' 'ENSG00000079805' 'ENSG00000132510' 'ENSG00000206503'\n",
      " 'ENSG00000130830' 'ENSG00000075234' 'ENSG00000185436' 'ENSG00000147168'\n",
      " 'ENSG00000116815' 'ENSG00000105851' 'ENSG00000104870' 'ENSG00000121774'\n",
      " 'ENSG00000117450' 'ENSG00000142166' 'ENSG00000145287' 'ENSG00000112561'\n",
      " 'ENSG00000152495' 'ENSG00000109861' 'ENSG00000137441' 'ENSG00000227507'\n",
      " 'ENSG00000160213' 'ENSG00000171791' 'ENSG00000133639' 'ENSG00000175203'\n",
      " 'ENSG00000117523' 'ENSG00000155380' 'ENSG00000241837' 'ENSG00000135968'\n",
      " 'ENSG00000077150' 'ENSG00000158869' 'ENSG00000103490' 'ENSG00000196961'\n",
      " 'ENSG00000110077' 'ENSG00000121807' 'ENSG00000231925' 'ENSG00000146457'\n",
      " 'ENSG00000197956' 'ENSG00000105221' 'ENSG00000205542' 'ENSG00000173812'\n",
      " 'ENSG00000277632' 'ENSG00000131143' 'ENSG00000026103' 'ENSG00000107485'\n",
      " 'ENSG00000176986' 'ENSG00000079616' 'ENSG00000134352' 'ENSG00000182287'\n",
      " 'ENSG00000117318' 'ENSG00000167552' 'ENSG00000170581' 'ENSG00000197102'\n",
      " 'ENSG00000118503' 'ENSG00000115073' 'ENSG00000145912' 'ENSG00000105374'\n",
      " 'ENSG00000228474' 'ENSG00000141526' 'ENSG00000149311' 'ENSG00000125347'\n",
      " 'ENSG00000104921' 'ENSG00000111348' 'ENSG00000136003' 'ENSG00000100485'\n",
      " 'ENSG00000130522' 'ENSG00000198846' 'ENSG00000133872' 'ENSG00000171700'\n",
      " 'ENSG00000033800' 'ENSG00000168811' 'ENSG00000100934' 'ENSG00000168394'\n",
      " 'ENSG00000100911' 'ENSG00000132475' 'ENSG00000143543' 'ENSG00000160075'\n",
      " 'ENSG00000078596' 'ENSG00000134470' 'ENSG00000139318' 'ENSG00000143119'\n",
      " 'ENSG00000113441' 'ENSG00000163191' 'ENSG00000161800']\n"
     ]
    }
   ],
   "source": [
    "if SEED != 'all':\n",
    "    gene_subset = np.load(here(f'03_downstream_analysis/08_gene_importance/xgboost_external_validation/shap_gene_selection/gene_subsets_{N_GENES}/{CELL_TYPE}_{SEED}.npy'), allow_pickle=True)\n",
    "    train_adata = train_adata[:,gene_subset]\n",
    "    print(gene_subset)\n",
    "elif SEED == 'all':\n",
    "    print('Using all genes')\n",
    "else:\n",
    "    raise ValueError()"
   ]
  },
  {
   "cell_type": "code",
   "execution_count": 8,
   "id": "48dcc820",
   "metadata": {
    "execution": {
     "iopub.execute_input": "2025-05-15T16:15:28.000581Z",
     "iopub.status.busy": "2025-05-15T16:15:28.000286Z",
     "iopub.status.idle": "2025-05-15T16:15:28.003594Z",
     "shell.execute_reply": "2025-05-15T16:15:28.003247Z"
    },
    "papermill": {
     "duration": 0.011332,
     "end_time": "2025-05-15T16:15:28.004542",
     "exception": false,
     "start_time": "2025-05-15T16:15:27.993210",
     "status": "completed"
    },
    "tags": []
   },
   "outputs": [
    {
     "data": {
      "text/plain": [
       "(542, 107)"
      ]
     },
     "execution_count": 8,
     "metadata": {},
     "output_type": "execute_result"
    }
   ],
   "source": [
    "train_adata.shape"
   ]
  },
  {
   "cell_type": "code",
   "execution_count": 9,
   "id": "9c288641",
   "metadata": {
    "execution": {
     "iopub.execute_input": "2025-05-15T16:15:28.018401Z",
     "iopub.status.busy": "2025-05-15T16:15:28.018130Z",
     "iopub.status.idle": "2025-05-15T16:15:28.022300Z",
     "shell.execute_reply": "2025-05-15T16:15:28.021940Z"
    },
    "papermill": {
     "duration": 0.012189,
     "end_time": "2025-05-15T16:15:28.023328",
     "exception": false,
     "start_time": "2025-05-15T16:15:28.011139",
     "status": "completed"
    },
    "tags": []
   },
   "outputs": [
    {
     "data": {
      "text/plain": [
       "['RA', 'COVID', 'healthy', 'HIV', 'cirrhosis', 'CD', 'SLE', 'sepsis']\n",
       "Categories (8, object): ['CD', 'COVID', 'HIV', 'RA', 'SLE', 'cirrhosis', 'healthy', 'sepsis']"
      ]
     },
     "execution_count": 9,
     "metadata": {},
     "output_type": "execute_result"
    }
   ],
   "source": [
    "train_adata.obs.disease.unique()"
   ]
  },
  {
   "cell_type": "code",
   "execution_count": 10,
   "id": "25eb5d00",
   "metadata": {
    "execution": {
     "iopub.execute_input": "2025-05-15T16:15:28.037525Z",
     "iopub.status.busy": "2025-05-15T16:15:28.037303Z",
     "iopub.status.idle": "2025-05-15T16:15:28.041284Z",
     "shell.execute_reply": "2025-05-15T16:15:28.040940Z"
    },
    "papermill": {
     "duration": 0.011977,
     "end_time": "2025-05-15T16:15:28.042261",
     "exception": false,
     "start_time": "2025-05-15T16:15:28.030284",
     "status": "completed"
    },
    "tags": []
   },
   "outputs": [
    {
     "data": {
      "text/plain": [
       "['SCGT00val_I0364_T0', 'SCGT00val_I036019_T0', 'SCGT00val_I036028_T0', 'SCGT00val_I036024_T0', 'SCGT00val_I036016_T0', ..., '10XGenomics_10XHC2_T0', '10XGenomics_10XHC3_T0', '10XGenomics_10XHC5_T0', '10XGenomics_10XHC7_T0', '10XGenomics_10XHC8_T0']\n",
       "Length: 74\n",
       "Categories (74, object): ['10XGenomics_10XHC1_T0', '10XGenomics_10XHC2_T0', '10XGenomics_10XHC3_T0', '10XGenomics_10XHC4_T0', ..., 'Savage2021_BRISL6_T0', 'Savage2021_BRISL7_T0', 'Savage2021_PIDA_T0', 'Savage2021_PIDB_T0']"
      ]
     },
     "execution_count": 10,
     "metadata": {},
     "output_type": "execute_result"
    }
   ],
   "source": [
    "train_adata.obs.sampleID.unique()"
   ]
  },
  {
   "cell_type": "code",
   "execution_count": 11,
   "id": "3cba24f8",
   "metadata": {
    "execution": {
     "iopub.execute_input": "2025-05-15T16:15:28.056888Z",
     "iopub.status.busy": "2025-05-15T16:15:28.056550Z",
     "iopub.status.idle": "2025-05-15T16:15:28.090286Z",
     "shell.execute_reply": "2025-05-15T16:15:28.089922Z"
    },
    "papermill": {
     "duration": 0.042706,
     "end_time": "2025-05-15T16:15:28.091692",
     "exception": false,
     "start_time": "2025-05-15T16:15:28.048986",
     "status": "completed"
    },
    "tags": []
   },
   "outputs": [],
   "source": [
    "all_idxs = np.arange(train_adata.obs.shape[0])\n",
    "left_out_splits = [s[1] for s in StratifiedGroupKFold(n_splits=N_SPLITS).split(all_idxs, train_adata.obs.disease, train_adata.obs.sampleID)]"
   ]
  },
  {
   "cell_type": "code",
   "execution_count": 12,
   "id": "2f386807",
   "metadata": {
    "execution": {
     "iopub.execute_input": "2025-05-15T16:15:28.133712Z",
     "iopub.status.busy": "2025-05-15T16:15:28.133283Z",
     "iopub.status.idle": "2025-05-15T16:15:28.137242Z",
     "shell.execute_reply": "2025-05-15T16:15:28.136891Z"
    },
    "papermill": {
     "duration": 0.021694,
     "end_time": "2025-05-15T16:15:28.138233",
     "exception": false,
     "start_time": "2025-05-15T16:15:28.116539",
     "status": "completed"
    },
    "tags": []
   },
   "outputs": [
    {
     "data": {
      "text/plain": [
       "([0, 1, 4], 3, 2)"
      ]
     },
     "execution_count": 12,
     "metadata": {},
     "output_type": "execute_result"
    }
   ],
   "source": [
    "TRAIN_SPLIT_IDXS = [0,1,2,3,4]\n",
    "VAL_SPLIT_IDX = (TEST_SPLIT_IDX + 1) % 5\n",
    "TRAIN_SPLIT_IDXS.remove(TEST_SPLIT_IDX)\n",
    "TRAIN_SPLIT_IDXS.remove(VAL_SPLIT_IDX)\n",
    "TRAIN_SPLIT_IDXS, VAL_SPLIT_IDX, TEST_SPLIT_IDX"
   ]
  },
  {
   "cell_type": "code",
   "execution_count": 13,
   "id": "7b7fe95b",
   "metadata": {
    "execution": {
     "iopub.execute_input": "2025-05-15T16:15:28.153151Z",
     "iopub.status.busy": "2025-05-15T16:15:28.152610Z",
     "iopub.status.idle": "2025-05-15T16:15:28.155658Z",
     "shell.execute_reply": "2025-05-15T16:15:28.155290Z"
    },
    "papermill": {
     "duration": 0.011487,
     "end_time": "2025-05-15T16:15:28.156602",
     "exception": false,
     "start_time": "2025-05-15T16:15:28.145115",
     "status": "completed"
    },
    "tags": []
   },
   "outputs": [],
   "source": [
    "train_idxs = np.concatenate([left_out_splits[idx] for idx in TRAIN_SPLIT_IDXS])\n",
    "val_idxs = left_out_splits[VAL_SPLIT_IDX]\n",
    "test_idxs = left_out_splits[TEST_SPLIT_IDX]"
   ]
  },
  {
   "cell_type": "markdown",
   "id": "a1d60c64",
   "metadata": {
    "papermill": {
     "duration": 0.006755,
     "end_time": "2025-05-15T16:15:28.169674",
     "exception": false,
     "start_time": "2025-05-15T16:15:28.162919",
     "status": "completed"
    },
    "tags": []
   },
   "source": [
    "### SUBSET DATASET INTO TRAIN/TEST/VAL SPLITS"
   ]
  },
  {
   "cell_type": "code",
   "execution_count": 14,
   "id": "7a3585e6",
   "metadata": {
    "execution": {
     "iopub.execute_input": "2025-05-15T16:15:28.183912Z",
     "iopub.status.busy": "2025-05-15T16:15:28.183510Z",
     "iopub.status.idle": "2025-05-15T16:15:28.191253Z",
     "shell.execute_reply": "2025-05-15T16:15:28.190858Z"
    },
    "papermill": {
     "duration": 0.016108,
     "end_time": "2025-05-15T16:15:28.192133",
     "exception": false,
     "start_time": "2025-05-15T16:15:28.176025",
     "status": "completed"
    },
    "tags": []
   },
   "outputs": [
    {
     "data": {
      "text/plain": [
       "((341, 107), (102, 107), (99, 107))"
      ]
     },
     "execution_count": 14,
     "metadata": {},
     "output_type": "execute_result"
    }
   ],
   "source": [
    "X_train = train_adata.X[train_idxs]\n",
    "X_test = train_adata.X[test_idxs]\n",
    "X_val = train_adata.X[val_idxs]\n",
    "X_train.shape, X_test.shape, X_val.shape"
   ]
  },
  {
   "cell_type": "code",
   "execution_count": 15,
   "id": "46e514e3",
   "metadata": {
    "execution": {
     "iopub.execute_input": "2025-05-15T16:15:28.206466Z",
     "iopub.status.busy": "2025-05-15T16:15:28.205753Z",
     "iopub.status.idle": "2025-05-15T16:15:28.211940Z",
     "shell.execute_reply": "2025-05-15T16:15:28.211586Z"
    },
    "papermill": {
     "duration": 0.014399,
     "end_time": "2025-05-15T16:15:28.212821",
     "exception": false,
     "start_time": "2025-05-15T16:15:28.198422",
     "status": "completed"
    },
    "tags": []
   },
   "outputs": [
    {
     "data": {
      "text/plain": [
       "((341,), (102,), (99,))"
      ]
     },
     "execution_count": 15,
     "metadata": {},
     "output_type": "execute_result"
    }
   ],
   "source": [
    "y_train = train_adata.obs.iloc[train_idxs].disease.values.astype(str)\n",
    "y_test = train_adata.obs.iloc[test_idxs].disease.values.astype(str)\n",
    "y_val = train_adata.obs.iloc[val_idxs].disease.values.astype(str)\n",
    "y_train.shape, y_test.shape, y_val.shape"
   ]
  },
  {
   "cell_type": "code",
   "execution_count": 16,
   "id": "5de875af",
   "metadata": {
    "execution": {
     "iopub.execute_input": "2025-05-15T16:15:28.227203Z",
     "iopub.status.busy": "2025-05-15T16:15:28.226819Z",
     "iopub.status.idle": "2025-05-15T16:15:28.230500Z",
     "shell.execute_reply": "2025-05-15T16:15:28.230137Z"
    },
    "papermill": {
     "duration": 0.012138,
     "end_time": "2025-05-15T16:15:28.231495",
     "exception": false,
     "start_time": "2025-05-15T16:15:28.219357",
     "status": "completed"
    },
    "tags": []
   },
   "outputs": [],
   "source": [
    "lenc = LabelEncoder()\n",
    "y_train_enc = lenc.fit_transform(y_train)\n",
    "y_val_enc = lenc.transform(y_val)\n",
    "y_test_enc = lenc.transform(y_test)"
   ]
  },
  {
   "cell_type": "markdown",
   "id": "bdffb87e",
   "metadata": {
    "papermill": {
     "duration": 0.006724,
     "end_time": "2025-05-15T16:15:28.245437",
     "exception": false,
     "start_time": "2025-05-15T16:15:28.238713",
     "status": "completed"
    },
    "tags": []
   },
   "source": [
    "### GENERATE F1 "
   ]
  },
  {
   "cell_type": "code",
   "execution_count": 17,
   "id": "b7eba8d3",
   "metadata": {
    "execution": {
     "iopub.execute_input": "2025-05-15T16:15:28.274904Z",
     "iopub.status.busy": "2025-05-15T16:15:28.274311Z",
     "iopub.status.idle": "2025-05-15T16:15:28.277241Z",
     "shell.execute_reply": "2025-05-15T16:15:28.276871Z"
    },
    "papermill": {
     "duration": 0.025966,
     "end_time": "2025-05-15T16:15:28.278306",
     "exception": false,
     "start_time": "2025-05-15T16:15:28.252340",
     "status": "completed"
    },
    "tags": []
   },
   "outputs": [],
   "source": [
    "def custom_f1_score(y_true, y_pred):\n",
    "    return -f1_score(y_true, y_pred.argmax(1), average='weighted')"
   ]
  },
  {
   "cell_type": "code",
   "execution_count": 18,
   "id": "60647405",
   "metadata": {
    "execution": {
     "iopub.execute_input": "2025-05-15T16:15:28.293370Z",
     "iopub.status.busy": "2025-05-15T16:15:28.293158Z",
     "iopub.status.idle": "2025-05-15T16:15:28.297119Z",
     "shell.execute_reply": "2025-05-15T16:15:28.296757Z"
    },
    "papermill": {
     "duration": 0.012252,
     "end_time": "2025-05-15T16:15:28.298162",
     "exception": false,
     "start_time": "2025-05-15T16:15:28.285910",
     "status": "completed"
    },
    "tags": []
   },
   "outputs": [],
   "source": [
    "eval_metric=custom_f1_score\n",
    "eval_metric_name='custom_f1_score'\n",
    "\n",
    "def objective(trial):\n",
    "    params = {\n",
    "        'n_estimators': 1500,\n",
    "        'max_depth': trial.suggest_int('max_depth', 3, 20),\n",
    "        'min_child_weight': trial.suggest_int('min_child_weight', 1, 250),\n",
    "        'subsample': trial.suggest_float('subsample', 0.1, 1.0),\n",
    "        'colsample_bynode': trial.suggest_float('colsample_bynode', 0.1, 1.0),\n",
    "        'learning_rate': trial.suggest_float('learning_rate', 1e-3, 5e-1, log=True),\n",
    "    }\n",
    "    pruning_callback = optuna.integration.XGBoostPruningCallback(trial, f'validation_0-{eval_metric_name}')\n",
    "    es_callback = xgboost.callback.EarlyStopping(20, min_delta=0.001)\n",
    "    xgb = xgboost.XGBClassifier(\n",
    "        eval_metric=eval_metric,\n",
    "        callbacks=[pruning_callback, es_callback],\n",
    "        n_jobs=5,\n",
    "        **params\n",
    "    )\n",
    "    xgb.fit(\n",
    "        X_train, \n",
    "        y_train_enc, \n",
    "        verbose=0,\n",
    "        eval_set=[(X_val, y_val_enc)],\n",
    "    )\n",
    "    trial.set_user_attr('best_iteration', xgb.best_iteration)\n",
    "\n",
    "    return xgb.best_score"
   ]
  },
  {
   "cell_type": "code",
   "execution_count": 19,
   "id": "3a577724",
   "metadata": {
    "execution": {
     "iopub.execute_input": "2025-05-15T16:15:28.313030Z",
     "iopub.status.busy": "2025-05-15T16:15:28.312800Z",
     "iopub.status.idle": "2025-05-15T16:15:47.203047Z",
     "shell.execute_reply": "2025-05-15T16:15:47.202482Z"
    },
    "papermill": {
     "duration": 18.899078,
     "end_time": "2025-05-15T16:15:47.204410",
     "exception": false,
     "start_time": "2025-05-15T16:15:28.305332",
     "status": "completed"
    },
    "scrolled": true,
    "tags": []
   },
   "outputs": [
    {
     "name": "stderr",
     "output_type": "stream",
     "text": [
      "[I 2025-05-15 18:15:28,314] A new study created in memory with name: no-name-bdfa2a83-ba8b-49cf-b0c9-7a6443e607fb\n"
     ]
    },
    {
     "name": "stderr",
     "output_type": "stream",
     "text": [
      "[I 2025-05-15 18:15:31,981] Trial 0 finished with value: -0.022222 and parameters: {'max_depth': 9, 'min_child_weight': 238, 'subsample': 0.7587945476302645, 'colsample_bynode': 0.6387926357773329, 'learning_rate': 0.0026368755339723046}. Best is trial 0 with value: -0.022222.\n"
     ]
    },
    {
     "name": "stderr",
     "output_type": "stream",
     "text": [
      "[I 2025-05-15 18:15:32,282] Trial 1 finished with value: -0.418606 and parameters: {'max_depth': 5, 'min_child_weight': 15, 'subsample': 0.8795585311974417, 'colsample_bynode': 0.6410035105688879, 'learning_rate': 0.08148293210105287}. Best is trial 1 with value: -0.418606.\n"
     ]
    },
    {
     "name": "stderr",
     "output_type": "stream",
     "text": [
      "[I 2025-05-15 18:15:32,495] Trial 2 finished with value: -0.022222 and parameters: {'max_depth': 3, 'min_child_weight': 243, 'subsample': 0.8491983767203796, 'colsample_bynode': 0.29110519961044856, 'learning_rate': 0.003095566460242371}. Best is trial 1 with value: -0.418606.\n"
     ]
    },
    {
     "name": "stderr",
     "output_type": "stream",
     "text": [
      "[I 2025-05-15 18:15:32,694] Trial 3 finished with value: -0.022222 and parameters: {'max_depth': 6, 'min_child_weight': 77, 'subsample': 0.5722807884690141, 'colsample_bynode': 0.48875051677790415, 'learning_rate': 0.006109683510122491}. Best is trial 1 with value: -0.418606.\n"
     ]
    },
    {
     "name": "stderr",
     "output_type": "stream",
     "text": [
      "[I 2025-05-15 18:15:32,892] Trial 4 finished with value: -0.022222 and parameters: {'max_depth': 14, 'min_child_weight': 35, 'subsample': 0.3629301836816964, 'colsample_bynode': 0.4297256589643226, 'learning_rate': 0.01701841881702917}. Best is trial 1 with value: -0.418606.\n"
     ]
    },
    {
     "name": "stderr",
     "output_type": "stream",
     "text": [
      "[I 2025-05-15 18:15:33,098] Trial 5 finished with value: -0.022222 and parameters: {'max_depth': 17, 'min_child_weight': 50, 'subsample': 0.5628109945722505, 'colsample_bynode': 0.6331731119758383, 'learning_rate': 0.0013346527038305934}. Best is trial 1 with value: -0.418606.\n"
     ]
    },
    {
     "name": "stderr",
     "output_type": "stream",
     "text": [
      "[I 2025-05-15 18:15:33,305] Trial 6 finished with value: -0.022222 and parameters: {'max_depth': 13, 'min_child_weight': 43, 'subsample': 0.1585464336867516, 'colsample_bynode': 0.9539969835279999, 'learning_rate': 0.4038423798071558}. Best is trial 1 with value: -0.418606.\n"
     ]
    },
    {
     "name": "stderr",
     "output_type": "stream",
     "text": [
      "[I 2025-05-15 18:15:33,505] Trial 7 finished with value: -0.022222 and parameters: {'max_depth': 17, 'min_child_weight': 77, 'subsample': 0.1879049026057455, 'colsample_bynode': 0.7158097238609412, 'learning_rate': 0.015415527060141935}. Best is trial 1 with value: -0.418606.\n"
     ]
    },
    {
     "name": "stderr",
     "output_type": "stream",
     "text": [
      "[I 2025-05-15 18:15:33,712] Trial 8 finished with value: -0.022222 and parameters: {'max_depth': 5, 'min_child_weight': 124, 'subsample': 0.13094966900369656, 'colsample_bynode': 0.9183883618709039, 'learning_rate': 0.004993895014755658}. Best is trial 1 with value: -0.418606.\n"
     ]
    },
    {
     "name": "stderr",
     "output_type": "stream",
     "text": [
      "[I 2025-05-15 18:15:33,915] Trial 9 finished with value: -0.022222 and parameters: {'max_depth': 14, 'min_child_weight': 78, 'subsample': 0.5680612190600297, 'colsample_bynode': 0.5920392514089517, 'learning_rate': 0.0031543990308330965}. Best is trial 1 with value: -0.418606.\n"
     ]
    },
    {
     "name": "stderr",
     "output_type": "stream",
     "text": [
      "[I 2025-05-15 18:15:34,705] Trial 10 finished with value: -0.514254 and parameters: {'max_depth': 9, 'min_child_weight': 2, 'subsample': 0.9725833997090791, 'colsample_bynode': 0.11616568805333755, 'learning_rate': 0.17780618353487967}. Best is trial 10 with value: -0.514254.\n"
     ]
    },
    {
     "name": "stderr",
     "output_type": "stream",
     "text": [
      "[I 2025-05-15 18:15:35,601] Trial 11 finished with value: -0.564727 and parameters: {'max_depth': 9, 'min_child_weight': 4, 'subsample': 0.9818290990185045, 'colsample_bynode': 0.17702656156719, 'learning_rate': 0.11568531411766632}. Best is trial 11 with value: -0.564727.\n"
     ]
    },
    {
     "name": "stderr",
     "output_type": "stream",
     "text": [
      "[I 2025-05-15 18:15:36,222] Trial 12 finished with value: -0.553895 and parameters: {'max_depth': 9, 'min_child_weight': 2, 'subsample': 0.9762317723681219, 'colsample_bynode': 0.1303670507685675, 'learning_rate': 0.14353293664472047}. Best is trial 11 with value: -0.564727.\n"
     ]
    },
    {
     "name": "stderr",
     "output_type": "stream",
     "text": [
      "[I 2025-05-15 18:15:36,440] Trial 13 finished with value: -0.022222 and parameters: {'max_depth': 10, 'min_child_weight': 173, 'subsample': 0.9983199992874873, 'colsample_bynode': 0.10704152171942566, 'learning_rate': 0.05919442728092993}. Best is trial 11 with value: -0.564727.\n"
     ]
    },
    {
     "name": "stderr",
     "output_type": "stream",
     "text": [
      "[I 2025-05-15 18:15:36,660] Trial 14 finished with value: -0.022222 and parameters: {'max_depth': 7, 'min_child_weight': 127, 'subsample': 0.7205729667945842, 'colsample_bynode': 0.2618040655423697, 'learning_rate': 0.049429871639666105}. Best is trial 11 with value: -0.564727.\n"
     ]
    },
    {
     "name": "stderr",
     "output_type": "stream",
     "text": [
      "[I 2025-05-15 18:15:37,050] Trial 15 pruned. Trial was pruned at iteration 21.\n"
     ]
    },
    {
     "name": "stderr",
     "output_type": "stream",
     "text": [
      "[I 2025-05-15 18:15:37,272] Trial 16 finished with value: -0.022222 and parameters: {'max_depth': 11, 'min_child_weight': 117, 'subsample': 0.8785451661735078, 'colsample_bynode': 0.3643631000822881, 'learning_rate': 0.15311904677040797}. Best is trial 11 with value: -0.564727.\n"
     ]
    },
    {
     "name": "stderr",
     "output_type": "stream",
     "text": [
      "[I 2025-05-15 18:15:37,497] Trial 17 finished with value: -0.022222 and parameters: {'max_depth': 8, 'min_child_weight': 183, 'subsample': 0.37310167079970213, 'colsample_bynode': 0.17923299126282838, 'learning_rate': 0.1887648905476116}. Best is trial 11 with value: -0.564727.\n"
     ]
    },
    {
     "name": "stderr",
     "output_type": "stream",
     "text": [
      "[I 2025-05-15 18:15:37,714] Trial 18 finished with value: -0.166667 and parameters: {'max_depth': 12, 'min_child_weight': 37, 'subsample': 0.8084316829255552, 'colsample_bynode': 0.20881338811221334, 'learning_rate': 0.028429642789761466}. Best is trial 11 with value: -0.564727.\n"
     ]
    },
    {
     "name": "stderr",
     "output_type": "stream",
     "text": [
      "[I 2025-05-15 18:15:37,936] Trial 19 finished with value: -0.022222 and parameters: {'max_depth': 11, 'min_child_weight': 99, 'subsample': 0.9723428668438461, 'colsample_bynode': 0.3419036565182698, 'learning_rate': 0.12265320134904224}. Best is trial 11 with value: -0.564727.\n"
     ]
    },
    {
     "name": "stderr",
     "output_type": "stream",
     "text": [
      "[I 2025-05-15 18:15:38,170] Trial 20 pruned. Trial was pruned at iteration 21.\n"
     ]
    },
    {
     "name": "stderr",
     "output_type": "stream",
     "text": [
      "[I 2025-05-15 18:15:38,638] Trial 21 pruned. Trial was pruned at iteration 21.\n"
     ]
    },
    {
     "name": "stderr",
     "output_type": "stream",
     "text": [
      "[I 2025-05-15 18:15:38,869] Trial 22 pruned. Trial was pruned at iteration 21.\n"
     ]
    },
    {
     "name": "stderr",
     "output_type": "stream",
     "text": [
      "[I 2025-05-15 18:15:39,122] Trial 23 pruned. Trial was pruned at iteration 21.\n"
     ]
    },
    {
     "name": "stderr",
     "output_type": "stream",
     "text": [
      "[I 2025-05-15 18:15:40,046] Trial 24 pruned. Trial was pruned at iteration 21.\n"
     ]
    },
    {
     "name": "stderr",
     "output_type": "stream",
     "text": [
      "[I 2025-05-15 18:15:40,276] Trial 25 finished with value: -0.022222 and parameters: {'max_depth': 7, 'min_child_weight': 62, 'subsample': 0.41419357059636985, 'colsample_bynode': 0.3533411793683221, 'learning_rate': 0.2935265484485481}. Best is trial 11 with value: -0.564727.\n"
     ]
    },
    {
     "name": "stderr",
     "output_type": "stream",
     "text": [
      "[I 2025-05-15 18:15:40,535] Trial 26 pruned. Trial was pruned at iteration 21.\n"
     ]
    },
    {
     "name": "stderr",
     "output_type": "stream",
     "text": [
      "[I 2025-05-15 18:15:40,753] Trial 27 finished with value: -0.022222 and parameters: {'max_depth': 5, 'min_child_weight': 144, 'subsample': 0.9216526203861075, 'colsample_bynode': 0.18760597264693385, 'learning_rate': 0.039839395194545865}. Best is trial 11 with value: -0.564727.\n"
     ]
    },
    {
     "name": "stderr",
     "output_type": "stream",
     "text": [
      "[I 2025-05-15 18:15:40,962] Trial 28 finished with value: -0.022222 and parameters: {'max_depth': 8, 'min_child_weight': 97, 'subsample': 0.9966028459647209, 'colsample_bynode': 0.29264193584122156, 'learning_rate': 0.010626708364920924}. Best is trial 11 with value: -0.564727.\n"
     ]
    },
    {
     "name": "stderr",
     "output_type": "stream",
     "text": [
      "[I 2025-05-15 18:15:41,186] Trial 29 finished with value: -0.022222 and parameters: {'max_depth': 10, 'min_child_weight': 217, 'subsample': 0.7797109075276074, 'colsample_bynode': 0.41232146842405126, 'learning_rate': 0.09517919198560379}. Best is trial 11 with value: -0.564727.\n"
     ]
    },
    {
     "name": "stderr",
     "output_type": "stream",
     "text": [
      "[I 2025-05-15 18:15:41,414] Trial 30 finished with value: -0.022222 and parameters: {'max_depth': 15, 'min_child_weight': 63, 'subsample': 0.48408877480742074, 'colsample_bynode': 0.15289590049633228, 'learning_rate': 0.027140510012803577}. Best is trial 11 with value: -0.564727.\n"
     ]
    },
    {
     "name": "stderr",
     "output_type": "stream",
     "text": [
      "[I 2025-05-15 18:15:41,731] Trial 31 pruned. Trial was pruned at iteration 21.\n"
     ]
    },
    {
     "name": "stderr",
     "output_type": "stream",
     "text": [
      "[I 2025-05-15 18:15:42,033] Trial 32 pruned. Trial was pruned at iteration 21.\n"
     ]
    },
    {
     "name": "stderr",
     "output_type": "stream",
     "text": [
      "[I 2025-05-15 18:15:42,293] Trial 33 pruned. Trial was pruned at iteration 21.\n"
     ]
    },
    {
     "name": "stderr",
     "output_type": "stream",
     "text": [
      "[I 2025-05-15 18:15:42,561] Trial 34 pruned. Trial was pruned at iteration 21.\n"
     ]
    },
    {
     "name": "stderr",
     "output_type": "stream",
     "text": [
      "[I 2025-05-15 18:15:42,853] Trial 35 pruned. Trial was pruned at iteration 21.\n"
     ]
    },
    {
     "name": "stderr",
     "output_type": "stream",
     "text": [
      "[I 2025-05-15 18:15:43,093] Trial 36 finished with value: -0.022222 and parameters: {'max_depth': 6, 'min_child_weight': 46, 'subsample': 0.2547641867017203, 'colsample_bynode': 0.31392158723409286, 'learning_rate': 0.30337637008954804}. Best is trial 11 with value: -0.564727.\n"
     ]
    },
    {
     "name": "stderr",
     "output_type": "stream",
     "text": [
      "[I 2025-05-15 18:15:43,509] Trial 37 pruned. Trial was pruned at iteration 23.\n"
     ]
    },
    {
     "name": "stderr",
     "output_type": "stream",
     "text": [
      "[I 2025-05-15 18:15:43,755] Trial 38 finished with value: -0.166667 and parameters: {'max_depth': 3, 'min_child_weight': 47, 'subsample': 0.8051154884577554, 'colsample_bynode': 0.14740578730612292, 'learning_rate': 0.10916431220499631}. Best is trial 11 with value: -0.564727.\n"
     ]
    },
    {
     "name": "stderr",
     "output_type": "stream",
     "text": [
      "[I 2025-05-15 18:15:43,991] Trial 39 finished with value: -0.022222 and parameters: {'max_depth': 13, 'min_child_weight': 75, 'subsample': 0.9491900391829308, 'colsample_bynode': 0.6786637089558478, 'learning_rate': 0.06032937665469522}. Best is trial 11 with value: -0.564727.\n"
     ]
    },
    {
     "name": "stderr",
     "output_type": "stream",
     "text": [
      "[I 2025-05-15 18:15:44,251] Trial 40 pruned. Trial was pruned at iteration 21.\n"
     ]
    },
    {
     "name": "stderr",
     "output_type": "stream",
     "text": [
      "[I 2025-05-15 18:15:44,488] Trial 41 finished with value: -0.166667 and parameters: {'max_depth': 12, 'min_child_weight': 38, 'subsample': 0.8123889581843633, 'colsample_bynode': 0.2128887451467121, 'learning_rate': 0.026671972033155213}. Best is trial 11 with value: -0.564727.\n"
     ]
    },
    {
     "name": "stderr",
     "output_type": "stream",
     "text": [
      "[I 2025-05-15 18:15:44,760] Trial 42 pruned. Trial was pruned at iteration 21.\n"
     ]
    },
    {
     "name": "stderr",
     "output_type": "stream",
     "text": [
      "[I 2025-05-15 18:15:45,076] Trial 43 pruned. Trial was pruned at iteration 21.\n"
     ]
    },
    {
     "name": "stderr",
     "output_type": "stream",
     "text": [
      "[I 2025-05-15 18:15:45,321] Trial 44 pruned. Trial was pruned at iteration 21.\n"
     ]
    },
    {
     "name": "stderr",
     "output_type": "stream",
     "text": [
      "[I 2025-05-15 18:15:45,572] Trial 45 pruned. Trial was pruned at iteration 21.\n"
     ]
    },
    {
     "name": "stderr",
     "output_type": "stream",
     "text": [
      "[I 2025-05-15 18:15:45,875] Trial 46 pruned. Trial was pruned at iteration 21.\n"
     ]
    },
    {
     "name": "stderr",
     "output_type": "stream",
     "text": [
      "[I 2025-05-15 18:15:46,114] Trial 47 finished with value: -0.166667 and parameters: {'max_depth': 17, 'min_child_weight': 53, 'subsample': 0.9663697534003696, 'colsample_bynode': 0.49707569416042485, 'learning_rate': 0.020463945966838898}. Best is trial 11 with value: -0.564727.\n"
     ]
    },
    {
     "name": "stderr",
     "output_type": "stream",
     "text": [
      "[I 2025-05-15 18:15:46,348] Trial 48 finished with value: -0.022222 and parameters: {'max_depth': 8, 'min_child_weight': 70, 'subsample': 0.8419065673088526, 'colsample_bynode': 0.31360147306338465, 'learning_rate': 0.01178955141036375}. Best is trial 11 with value: -0.564727.\n"
     ]
    },
    {
     "name": "stderr",
     "output_type": "stream",
     "text": [
      "[I 2025-05-15 18:15:47,095] Trial 49 finished with value: -0.572146 and parameters: {'max_depth': 19, 'min_child_weight': 1, 'subsample': 0.7556632236019685, 'colsample_bynode': 0.6310108110345259, 'learning_rate': 0.13408978956026313}. Best is trial 49 with value: -0.572146.\n"
     ]
    }
   ],
   "source": [
    "sampler = optuna.samplers.TPESampler(seed=42)\n",
    "study = optuna.create_study(direction='minimize', sampler=sampler)\n",
    "study.optimize(objective, n_trials=N_TRIALS, gc_after_trial=True)"
   ]
  },
  {
   "cell_type": "code",
   "execution_count": 20,
   "id": "89ee8391",
   "metadata": {
    "execution": {
     "iopub.execute_input": "2025-05-15T16:15:47.224060Z",
     "iopub.status.busy": "2025-05-15T16:15:47.223830Z",
     "iopub.status.idle": "2025-05-15T16:15:47.262229Z",
     "shell.execute_reply": "2025-05-15T16:15:47.261884Z"
    },
    "papermill": {
     "duration": 0.049386,
     "end_time": "2025-05-15T16:15:47.263554",
     "exception": false,
     "start_time": "2025-05-15T16:15:47.214168",
     "status": "completed"
    },
    "tags": []
   },
   "outputs": [
    {
     "data": {
      "text/plain": [
       "['/scratch_isilon/groups/singlecell/shared/projects/Inflammation-PBMCs-Atlas/03_downstream_analysis/08_gene_importance/xgboost_external_validation/xgboost_TopN_genes/results_20/study/Plasma_2_2_xgboost.pkl']"
      ]
     },
     "execution_count": 20,
     "metadata": {},
     "output_type": "execute_result"
    }
   ],
   "source": [
    "out_dir = here(f'03_downstream_analysis/08_gene_importance/xgboost_external_validation/xgboost_TopN_genes/results_{N_GENES}/study')\n",
    "\n",
    "if not os.path.exists(out_dir):\n",
    "    os.makedirs(out_dir)\n",
    "    \n",
    "joblib.dump(study,os.path.join(out_dir, f'{CELL_TYPE}_{SEED}_{TEST_SPLIT_IDX}_xgboost.pkl'))"
   ]
  },
  {
   "cell_type": "code",
   "execution_count": 21,
   "id": "64d63990",
   "metadata": {
    "execution": {
     "iopub.execute_input": "2025-05-15T16:15:47.283919Z",
     "iopub.status.busy": "2025-05-15T16:15:47.283596Z",
     "iopub.status.idle": "2025-05-15T16:15:47.620342Z",
     "shell.execute_reply": "2025-05-15T16:15:47.619864Z"
    },
    "papermill": {
     "duration": 0.347936,
     "end_time": "2025-05-15T16:15:47.621468",
     "exception": false,
     "start_time": "2025-05-15T16:15:47.273532",
     "status": "completed"
    },
    "tags": []
   },
   "outputs": [
    {
     "data": {
      "text/html": [
       "<style>#sk-container-id-1 {\n",
       "  /* Definition of color scheme common for light and dark mode */\n",
       "  --sklearn-color-text: black;\n",
       "  --sklearn-color-line: gray;\n",
       "  /* Definition of color scheme for unfitted estimators */\n",
       "  --sklearn-color-unfitted-level-0: #fff5e6;\n",
       "  --sklearn-color-unfitted-level-1: #f6e4d2;\n",
       "  --sklearn-color-unfitted-level-2: #ffe0b3;\n",
       "  --sklearn-color-unfitted-level-3: chocolate;\n",
       "  /* Definition of color scheme for fitted estimators */\n",
       "  --sklearn-color-fitted-level-0: #f0f8ff;\n",
       "  --sklearn-color-fitted-level-1: #d4ebff;\n",
       "  --sklearn-color-fitted-level-2: #b3dbfd;\n",
       "  --sklearn-color-fitted-level-3: cornflowerblue;\n",
       "\n",
       "  /* Specific color for light theme */\n",
       "  --sklearn-color-text-on-default-background: var(--sg-text-color, var(--theme-code-foreground, var(--jp-content-font-color1, black)));\n",
       "  --sklearn-color-background: var(--sg-background-color, var(--theme-background, var(--jp-layout-color0, white)));\n",
       "  --sklearn-color-border-box: var(--sg-text-color, var(--theme-code-foreground, var(--jp-content-font-color1, black)));\n",
       "  --sklearn-color-icon: #696969;\n",
       "\n",
       "  @media (prefers-color-scheme: dark) {\n",
       "    /* Redefinition of color scheme for dark theme */\n",
       "    --sklearn-color-text-on-default-background: var(--sg-text-color, var(--theme-code-foreground, var(--jp-content-font-color1, white)));\n",
       "    --sklearn-color-background: var(--sg-background-color, var(--theme-background, var(--jp-layout-color0, #111)));\n",
       "    --sklearn-color-border-box: var(--sg-text-color, var(--theme-code-foreground, var(--jp-content-font-color1, white)));\n",
       "    --sklearn-color-icon: #878787;\n",
       "  }\n",
       "}\n",
       "\n",
       "#sk-container-id-1 {\n",
       "  color: var(--sklearn-color-text);\n",
       "}\n",
       "\n",
       "#sk-container-id-1 pre {\n",
       "  padding: 0;\n",
       "}\n",
       "\n",
       "#sk-container-id-1 input.sk-hidden--visually {\n",
       "  border: 0;\n",
       "  clip: rect(1px 1px 1px 1px);\n",
       "  clip: rect(1px, 1px, 1px, 1px);\n",
       "  height: 1px;\n",
       "  margin: -1px;\n",
       "  overflow: hidden;\n",
       "  padding: 0;\n",
       "  position: absolute;\n",
       "  width: 1px;\n",
       "}\n",
       "\n",
       "#sk-container-id-1 div.sk-dashed-wrapped {\n",
       "  border: 1px dashed var(--sklearn-color-line);\n",
       "  margin: 0 0.4em 0.5em 0.4em;\n",
       "  box-sizing: border-box;\n",
       "  padding-bottom: 0.4em;\n",
       "  background-color: var(--sklearn-color-background);\n",
       "}\n",
       "\n",
       "#sk-container-id-1 div.sk-container {\n",
       "  /* jupyter's `normalize.less` sets `[hidden] { display: none; }`\n",
       "     but bootstrap.min.css set `[hidden] { display: none !important; }`\n",
       "     so we also need the `!important` here to be able to override the\n",
       "     default hidden behavior on the sphinx rendered scikit-learn.org.\n",
       "     See: https://github.com/scikit-learn/scikit-learn/issues/21755 */\n",
       "  display: inline-block !important;\n",
       "  position: relative;\n",
       "}\n",
       "\n",
       "#sk-container-id-1 div.sk-text-repr-fallback {\n",
       "  display: none;\n",
       "}\n",
       "\n",
       "div.sk-parallel-item,\n",
       "div.sk-serial,\n",
       "div.sk-item {\n",
       "  /* draw centered vertical line to link estimators */\n",
       "  background-image: linear-gradient(var(--sklearn-color-text-on-default-background), var(--sklearn-color-text-on-default-background));\n",
       "  background-size: 2px 100%;\n",
       "  background-repeat: no-repeat;\n",
       "  background-position: center center;\n",
       "}\n",
       "\n",
       "/* Parallel-specific style estimator block */\n",
       "\n",
       "#sk-container-id-1 div.sk-parallel-item::after {\n",
       "  content: \"\";\n",
       "  width: 100%;\n",
       "  border-bottom: 2px solid var(--sklearn-color-text-on-default-background);\n",
       "  flex-grow: 1;\n",
       "}\n",
       "\n",
       "#sk-container-id-1 div.sk-parallel {\n",
       "  display: flex;\n",
       "  align-items: stretch;\n",
       "  justify-content: center;\n",
       "  background-color: var(--sklearn-color-background);\n",
       "  position: relative;\n",
       "}\n",
       "\n",
       "#sk-container-id-1 div.sk-parallel-item {\n",
       "  display: flex;\n",
       "  flex-direction: column;\n",
       "}\n",
       "\n",
       "#sk-container-id-1 div.sk-parallel-item:first-child::after {\n",
       "  align-self: flex-end;\n",
       "  width: 50%;\n",
       "}\n",
       "\n",
       "#sk-container-id-1 div.sk-parallel-item:last-child::after {\n",
       "  align-self: flex-start;\n",
       "  width: 50%;\n",
       "}\n",
       "\n",
       "#sk-container-id-1 div.sk-parallel-item:only-child::after {\n",
       "  width: 0;\n",
       "}\n",
       "\n",
       "/* Serial-specific style estimator block */\n",
       "\n",
       "#sk-container-id-1 div.sk-serial {\n",
       "  display: flex;\n",
       "  flex-direction: column;\n",
       "  align-items: center;\n",
       "  background-color: var(--sklearn-color-background);\n",
       "  padding-right: 1em;\n",
       "  padding-left: 1em;\n",
       "}\n",
       "\n",
       "\n",
       "/* Toggleable style: style used for estimator/Pipeline/ColumnTransformer box that is\n",
       "clickable and can be expanded/collapsed.\n",
       "- Pipeline and ColumnTransformer use this feature and define the default style\n",
       "- Estimators will overwrite some part of the style using the `sk-estimator` class\n",
       "*/\n",
       "\n",
       "/* Pipeline and ColumnTransformer style (default) */\n",
       "\n",
       "#sk-container-id-1 div.sk-toggleable {\n",
       "  /* Default theme specific background. It is overwritten whether we have a\n",
       "  specific estimator or a Pipeline/ColumnTransformer */\n",
       "  background-color: var(--sklearn-color-background);\n",
       "}\n",
       "\n",
       "/* Toggleable label */\n",
       "#sk-container-id-1 label.sk-toggleable__label {\n",
       "  cursor: pointer;\n",
       "  display: block;\n",
       "  width: 100%;\n",
       "  margin-bottom: 0;\n",
       "  padding: 0.5em;\n",
       "  box-sizing: border-box;\n",
       "  text-align: center;\n",
       "}\n",
       "\n",
       "#sk-container-id-1 label.sk-toggleable__label-arrow:before {\n",
       "  /* Arrow on the left of the label */\n",
       "  content: \"▸\";\n",
       "  float: left;\n",
       "  margin-right: 0.25em;\n",
       "  color: var(--sklearn-color-icon);\n",
       "}\n",
       "\n",
       "#sk-container-id-1 label.sk-toggleable__label-arrow:hover:before {\n",
       "  color: var(--sklearn-color-text);\n",
       "}\n",
       "\n",
       "/* Toggleable content - dropdown */\n",
       "\n",
       "#sk-container-id-1 div.sk-toggleable__content {\n",
       "  max-height: 0;\n",
       "  max-width: 0;\n",
       "  overflow: hidden;\n",
       "  text-align: left;\n",
       "  /* unfitted */\n",
       "  background-color: var(--sklearn-color-unfitted-level-0);\n",
       "}\n",
       "\n",
       "#sk-container-id-1 div.sk-toggleable__content.fitted {\n",
       "  /* fitted */\n",
       "  background-color: var(--sklearn-color-fitted-level-0);\n",
       "}\n",
       "\n",
       "#sk-container-id-1 div.sk-toggleable__content pre {\n",
       "  margin: 0.2em;\n",
       "  border-radius: 0.25em;\n",
       "  color: var(--sklearn-color-text);\n",
       "  /* unfitted */\n",
       "  background-color: var(--sklearn-color-unfitted-level-0);\n",
       "}\n",
       "\n",
       "#sk-container-id-1 div.sk-toggleable__content.fitted pre {\n",
       "  /* unfitted */\n",
       "  background-color: var(--sklearn-color-fitted-level-0);\n",
       "}\n",
       "\n",
       "#sk-container-id-1 input.sk-toggleable__control:checked~div.sk-toggleable__content {\n",
       "  /* Expand drop-down */\n",
       "  max-height: 200px;\n",
       "  max-width: 100%;\n",
       "  overflow: auto;\n",
       "}\n",
       "\n",
       "#sk-container-id-1 input.sk-toggleable__control:checked~label.sk-toggleable__label-arrow:before {\n",
       "  content: \"▾\";\n",
       "}\n",
       "\n",
       "/* Pipeline/ColumnTransformer-specific style */\n",
       "\n",
       "#sk-container-id-1 div.sk-label input.sk-toggleable__control:checked~label.sk-toggleable__label {\n",
       "  color: var(--sklearn-color-text);\n",
       "  background-color: var(--sklearn-color-unfitted-level-2);\n",
       "}\n",
       "\n",
       "#sk-container-id-1 div.sk-label.fitted input.sk-toggleable__control:checked~label.sk-toggleable__label {\n",
       "  background-color: var(--sklearn-color-fitted-level-2);\n",
       "}\n",
       "\n",
       "/* Estimator-specific style */\n",
       "\n",
       "/* Colorize estimator box */\n",
       "#sk-container-id-1 div.sk-estimator input.sk-toggleable__control:checked~label.sk-toggleable__label {\n",
       "  /* unfitted */\n",
       "  background-color: var(--sklearn-color-unfitted-level-2);\n",
       "}\n",
       "\n",
       "#sk-container-id-1 div.sk-estimator.fitted input.sk-toggleable__control:checked~label.sk-toggleable__label {\n",
       "  /* fitted */\n",
       "  background-color: var(--sklearn-color-fitted-level-2);\n",
       "}\n",
       "\n",
       "#sk-container-id-1 div.sk-label label.sk-toggleable__label,\n",
       "#sk-container-id-1 div.sk-label label {\n",
       "  /* The background is the default theme color */\n",
       "  color: var(--sklearn-color-text-on-default-background);\n",
       "}\n",
       "\n",
       "/* On hover, darken the color of the background */\n",
       "#sk-container-id-1 div.sk-label:hover label.sk-toggleable__label {\n",
       "  color: var(--sklearn-color-text);\n",
       "  background-color: var(--sklearn-color-unfitted-level-2);\n",
       "}\n",
       "\n",
       "/* Label box, darken color on hover, fitted */\n",
       "#sk-container-id-1 div.sk-label.fitted:hover label.sk-toggleable__label.fitted {\n",
       "  color: var(--sklearn-color-text);\n",
       "  background-color: var(--sklearn-color-fitted-level-2);\n",
       "}\n",
       "\n",
       "/* Estimator label */\n",
       "\n",
       "#sk-container-id-1 div.sk-label label {\n",
       "  font-family: monospace;\n",
       "  font-weight: bold;\n",
       "  display: inline-block;\n",
       "  line-height: 1.2em;\n",
       "}\n",
       "\n",
       "#sk-container-id-1 div.sk-label-container {\n",
       "  text-align: center;\n",
       "}\n",
       "\n",
       "/* Estimator-specific */\n",
       "#sk-container-id-1 div.sk-estimator {\n",
       "  font-family: monospace;\n",
       "  border: 1px dotted var(--sklearn-color-border-box);\n",
       "  border-radius: 0.25em;\n",
       "  box-sizing: border-box;\n",
       "  margin-bottom: 0.5em;\n",
       "  /* unfitted */\n",
       "  background-color: var(--sklearn-color-unfitted-level-0);\n",
       "}\n",
       "\n",
       "#sk-container-id-1 div.sk-estimator.fitted {\n",
       "  /* fitted */\n",
       "  background-color: var(--sklearn-color-fitted-level-0);\n",
       "}\n",
       "\n",
       "/* on hover */\n",
       "#sk-container-id-1 div.sk-estimator:hover {\n",
       "  /* unfitted */\n",
       "  background-color: var(--sklearn-color-unfitted-level-2);\n",
       "}\n",
       "\n",
       "#sk-container-id-1 div.sk-estimator.fitted:hover {\n",
       "  /* fitted */\n",
       "  background-color: var(--sklearn-color-fitted-level-2);\n",
       "}\n",
       "\n",
       "/* Specification for estimator info (e.g. \"i\" and \"?\") */\n",
       "\n",
       "/* Common style for \"i\" and \"?\" */\n",
       "\n",
       ".sk-estimator-doc-link,\n",
       "a:link.sk-estimator-doc-link,\n",
       "a:visited.sk-estimator-doc-link {\n",
       "  float: right;\n",
       "  font-size: smaller;\n",
       "  line-height: 1em;\n",
       "  font-family: monospace;\n",
       "  background-color: var(--sklearn-color-background);\n",
       "  border-radius: 1em;\n",
       "  height: 1em;\n",
       "  width: 1em;\n",
       "  text-decoration: none !important;\n",
       "  margin-left: 1ex;\n",
       "  /* unfitted */\n",
       "  border: var(--sklearn-color-unfitted-level-1) 1pt solid;\n",
       "  color: var(--sklearn-color-unfitted-level-1);\n",
       "}\n",
       "\n",
       ".sk-estimator-doc-link.fitted,\n",
       "a:link.sk-estimator-doc-link.fitted,\n",
       "a:visited.sk-estimator-doc-link.fitted {\n",
       "  /* fitted */\n",
       "  border: var(--sklearn-color-fitted-level-1) 1pt solid;\n",
       "  color: var(--sklearn-color-fitted-level-1);\n",
       "}\n",
       "\n",
       "/* On hover */\n",
       "div.sk-estimator:hover .sk-estimator-doc-link:hover,\n",
       ".sk-estimator-doc-link:hover,\n",
       "div.sk-label-container:hover .sk-estimator-doc-link:hover,\n",
       ".sk-estimator-doc-link:hover {\n",
       "  /* unfitted */\n",
       "  background-color: var(--sklearn-color-unfitted-level-3);\n",
       "  color: var(--sklearn-color-background);\n",
       "  text-decoration: none;\n",
       "}\n",
       "\n",
       "div.sk-estimator.fitted:hover .sk-estimator-doc-link.fitted:hover,\n",
       ".sk-estimator-doc-link.fitted:hover,\n",
       "div.sk-label-container:hover .sk-estimator-doc-link.fitted:hover,\n",
       ".sk-estimator-doc-link.fitted:hover {\n",
       "  /* fitted */\n",
       "  background-color: var(--sklearn-color-fitted-level-3);\n",
       "  color: var(--sklearn-color-background);\n",
       "  text-decoration: none;\n",
       "}\n",
       "\n",
       "/* Span, style for the box shown on hovering the info icon */\n",
       ".sk-estimator-doc-link span {\n",
       "  display: none;\n",
       "  z-index: 9999;\n",
       "  position: relative;\n",
       "  font-weight: normal;\n",
       "  right: .2ex;\n",
       "  padding: .5ex;\n",
       "  margin: .5ex;\n",
       "  width: min-content;\n",
       "  min-width: 20ex;\n",
       "  max-width: 50ex;\n",
       "  color: var(--sklearn-color-text);\n",
       "  box-shadow: 2pt 2pt 4pt #999;\n",
       "  /* unfitted */\n",
       "  background: var(--sklearn-color-unfitted-level-0);\n",
       "  border: .5pt solid var(--sklearn-color-unfitted-level-3);\n",
       "}\n",
       "\n",
       ".sk-estimator-doc-link.fitted span {\n",
       "  /* fitted */\n",
       "  background: var(--sklearn-color-fitted-level-0);\n",
       "  border: var(--sklearn-color-fitted-level-3);\n",
       "}\n",
       "\n",
       ".sk-estimator-doc-link:hover span {\n",
       "  display: block;\n",
       "}\n",
       "\n",
       "/* \"?\"-specific style due to the `<a>` HTML tag */\n",
       "\n",
       "#sk-container-id-1 a.estimator_doc_link {\n",
       "  float: right;\n",
       "  font-size: 1rem;\n",
       "  line-height: 1em;\n",
       "  font-family: monospace;\n",
       "  background-color: var(--sklearn-color-background);\n",
       "  border-radius: 1rem;\n",
       "  height: 1rem;\n",
       "  width: 1rem;\n",
       "  text-decoration: none;\n",
       "  /* unfitted */\n",
       "  color: var(--sklearn-color-unfitted-level-1);\n",
       "  border: var(--sklearn-color-unfitted-level-1) 1pt solid;\n",
       "}\n",
       "\n",
       "#sk-container-id-1 a.estimator_doc_link.fitted {\n",
       "  /* fitted */\n",
       "  border: var(--sklearn-color-fitted-level-1) 1pt solid;\n",
       "  color: var(--sklearn-color-fitted-level-1);\n",
       "}\n",
       "\n",
       "/* On hover */\n",
       "#sk-container-id-1 a.estimator_doc_link:hover {\n",
       "  /* unfitted */\n",
       "  background-color: var(--sklearn-color-unfitted-level-3);\n",
       "  color: var(--sklearn-color-background);\n",
       "  text-decoration: none;\n",
       "}\n",
       "\n",
       "#sk-container-id-1 a.estimator_doc_link.fitted:hover {\n",
       "  /* fitted */\n",
       "  background-color: var(--sklearn-color-fitted-level-3);\n",
       "}\n",
       "</style><div id=\"sk-container-id-1\" class=\"sk-top-container\"><div class=\"sk-text-repr-fallback\"><pre>XGBClassifier(base_score=None, booster=None, callbacks=None,\n",
       "              colsample_bylevel=None, colsample_bynode=0.6310108110345259,\n",
       "              colsample_bytree=None, device=None, early_stopping_rounds=None,\n",
       "              enable_categorical=False,\n",
       "              eval_metric=&lt;function custom_f1_score at 0x7f3e97a3fd80&gt;,\n",
       "              feature_types=None, gamma=None, grow_policy=None,\n",
       "              importance_type=None, interaction_constraints=None,\n",
       "              learning_rate=0.13408978956026313, max_bin=None,\n",
       "              max_cat_threshold=None, max_cat_to_onehot=None,\n",
       "              max_delta_step=None, max_depth=19, max_leaves=None,\n",
       "              min_child_weight=1, missing=nan, monotone_constraints=None,\n",
       "              multi_strategy=None, n_estimators=12, n_jobs=None,\n",
       "              num_parallel_tree=None, objective=&#x27;multi:softprob&#x27;, ...)</pre><b>In a Jupyter environment, please rerun this cell to show the HTML representation or trust the notebook. <br />On GitHub, the HTML representation is unable to render, please try loading this page with nbviewer.org.</b></div><div class=\"sk-container\" hidden><div class=\"sk-item\"><div class=\"sk-estimator fitted sk-toggleable\"><input class=\"sk-toggleable__control sk-hidden--visually\" id=\"sk-estimator-id-1\" type=\"checkbox\" checked><label for=\"sk-estimator-id-1\" class=\"sk-toggleable__label fitted sk-toggleable__label-arrow fitted\">&nbsp;XGBClassifier<span class=\"sk-estimator-doc-link fitted\">i<span>Fitted</span></span></label><div class=\"sk-toggleable__content fitted\"><pre>XGBClassifier(base_score=None, booster=None, callbacks=None,\n",
       "              colsample_bylevel=None, colsample_bynode=0.6310108110345259,\n",
       "              colsample_bytree=None, device=None, early_stopping_rounds=None,\n",
       "              enable_categorical=False,\n",
       "              eval_metric=&lt;function custom_f1_score at 0x7f3e97a3fd80&gt;,\n",
       "              feature_types=None, gamma=None, grow_policy=None,\n",
       "              importance_type=None, interaction_constraints=None,\n",
       "              learning_rate=0.13408978956026313, max_bin=None,\n",
       "              max_cat_threshold=None, max_cat_to_onehot=None,\n",
       "              max_delta_step=None, max_depth=19, max_leaves=None,\n",
       "              min_child_weight=1, missing=nan, monotone_constraints=None,\n",
       "              multi_strategy=None, n_estimators=12, n_jobs=None,\n",
       "              num_parallel_tree=None, objective=&#x27;multi:softprob&#x27;, ...)</pre></div> </div></div></div></div>"
      ],
      "text/plain": [
       "XGBClassifier(base_score=None, booster=None, callbacks=None,\n",
       "              colsample_bylevel=None, colsample_bynode=0.6310108110345259,\n",
       "              colsample_bytree=None, device=None, early_stopping_rounds=None,\n",
       "              enable_categorical=False,\n",
       "              eval_metric=<function custom_f1_score at 0x7f3e97a3fd80>,\n",
       "              feature_types=None, gamma=None, grow_policy=None,\n",
       "              importance_type=None, interaction_constraints=None,\n",
       "              learning_rate=0.13408978956026313, max_bin=None,\n",
       "              max_cat_threshold=None, max_cat_to_onehot=None,\n",
       "              max_delta_step=None, max_depth=19, max_leaves=None,\n",
       "              min_child_weight=1, missing=nan, monotone_constraints=None,\n",
       "              multi_strategy=None, n_estimators=12, n_jobs=None,\n",
       "              num_parallel_tree=None, objective='multi:softprob', ...)"
      ]
     },
     "execution_count": 21,
     "metadata": {},
     "output_type": "execute_result"
    }
   ],
   "source": [
    "n_estimators = int(study.best_trial.user_attrs['best_iteration']*1.2)\n",
    "xgb = xgboost.XGBClassifier(\n",
    "        eval_metric=eval_metric,\n",
    "        n_estimators=n_estimators,\n",
    "        **study.best_trial.params\n",
    "    )\n",
    "xgb.fit(\n",
    "    ssp.vstack((X_train, X_val)), \n",
    "    np.concatenate((y_train_enc, y_val_enc)),\n",
    "    verbose=1,\n",
    ")"
   ]
  },
  {
   "cell_type": "code",
   "execution_count": 22,
   "id": "8ff34276",
   "metadata": {
    "execution": {
     "iopub.execute_input": "2025-05-15T16:15:47.652762Z",
     "iopub.status.busy": "2025-05-15T16:15:47.652065Z",
     "iopub.status.idle": "2025-05-15T16:15:47.664392Z",
     "shell.execute_reply": "2025-05-15T16:15:47.663982Z"
    },
    "papermill": {
     "duration": 0.023577,
     "end_time": "2025-05-15T16:15:47.665376",
     "exception": false,
     "start_time": "2025-05-15T16:15:47.641799",
     "status": "completed"
    },
    "tags": []
   },
   "outputs": [
    {
     "data": {
      "text/plain": [
       "['/scratch_isilon/groups/singlecell/shared/projects/Inflammation-PBMCs-Atlas/03_downstream_analysis/08_gene_importance/xgboost_external_validation/xgboost_TopN_genes/results_20/best_model/Plasma_2_2_xgb.json']"
      ]
     },
     "execution_count": 22,
     "metadata": {},
     "output_type": "execute_result"
    }
   ],
   "source": [
    "out_dir = here(f'03_downstream_analysis/08_gene_importance/xgboost_external_validation/xgboost_TopN_genes/results_{N_GENES}/best_model')\n",
    "\n",
    "if not os.path.exists(out_dir):\n",
    "    os.makedirs(out_dir)\n",
    "    \n",
    "joblib.dump(xgb, os.path.join(out_dir, f'{CELL_TYPE}_{SEED}_{TEST_SPLIT_IDX}_xgb.json'))"
   ]
  },
  {
   "cell_type": "code",
   "execution_count": 23,
   "id": "6ec14b61",
   "metadata": {
    "execution": {
     "iopub.execute_input": "2025-05-15T16:15:47.684912Z",
     "iopub.status.busy": "2025-05-15T16:15:47.684427Z",
     "iopub.status.idle": "2025-05-15T16:15:47.689954Z",
     "shell.execute_reply": "2025-05-15T16:15:47.689516Z"
    },
    "papermill": {
     "duration": 0.01598,
     "end_time": "2025-05-15T16:15:47.690907",
     "exception": false,
     "start_time": "2025-05-15T16:15:47.674927",
     "status": "completed"
    },
    "tags": []
   },
   "outputs": [],
   "source": [
    "df_pred_test = pd.DataFrame(dict(\n",
    "    cell_id=train_adata.obs.iloc[test_idxs].index.values,\n",
    "    y_true=y_test, \n",
    "    y_true_code=y_test_enc, \n",
    "    y_pred=xgb.predict(X_test))).set_index('cell_id')"
   ]
  },
  {
   "cell_type": "code",
   "execution_count": 24,
   "id": "1bd00dce",
   "metadata": {
    "execution": {
     "iopub.execute_input": "2025-05-15T16:15:47.711692Z",
     "iopub.status.busy": "2025-05-15T16:15:47.711024Z",
     "iopub.status.idle": "2025-05-15T16:15:47.724059Z",
     "shell.execute_reply": "2025-05-15T16:15:47.723444Z"
    },
    "papermill": {
     "duration": 0.025241,
     "end_time": "2025-05-15T16:15:47.725506",
     "exception": false,
     "start_time": "2025-05-15T16:15:47.700265",
     "status": "completed"
    },
    "tags": []
   },
   "outputs": [],
   "source": [
    "out_dir = here(f'03_downstream_analysis/08_gene_importance/xgboost_external_validation/xgboost_TopN_genes/results_{N_GENES}/predictions')\n",
    "\n",
    "if not os.path.exists(out_dir):\n",
    "    os.makedirs(out_dir)\n",
    "    \n",
    "df_pred_test.to_csv(os.path.join(out_dir, f'{CELL_TYPE}_{SEED}_{TEST_SPLIT_IDX}_pred_test.zip'))"
   ]
  },
  {
   "cell_type": "code",
   "execution_count": 25,
   "id": "ea68c77a",
   "metadata": {
    "execution": {
     "iopub.execute_input": "2025-05-15T16:15:47.747693Z",
     "iopub.status.busy": "2025-05-15T16:15:47.747005Z",
     "iopub.status.idle": "2025-05-15T16:15:47.754564Z",
     "shell.execute_reply": "2025-05-15T16:15:47.754055Z"
    },
    "papermill": {
     "duration": 0.019468,
     "end_time": "2025-05-15T16:15:47.755597",
     "exception": false,
     "start_time": "2025-05-15T16:15:47.736129",
     "status": "completed"
    },
    "tags": []
   },
   "outputs": [],
   "source": [
    "metrics_dict = dict(\n",
    "    BAS=balanced_accuracy_score(y_true=df_pred_test.y_true_code, y_pred=df_pred_test.y_pred), WF1=f1_score(y_true=df_pred_test.y_true_code, y_pred=df_pred_test.y_pred,average='weighted'))"
   ]
  },
  {
   "cell_type": "code",
   "execution_count": 26,
   "id": "12c68778",
   "metadata": {
    "execution": {
     "iopub.execute_input": "2025-05-15T16:15:47.792178Z",
     "iopub.status.busy": "2025-05-15T16:15:47.791633Z",
     "iopub.status.idle": "2025-05-15T16:15:47.795787Z",
     "shell.execute_reply": "2025-05-15T16:15:47.795385Z"
    },
    "papermill": {
     "duration": 0.017877,
     "end_time": "2025-05-15T16:15:47.796741",
     "exception": false,
     "start_time": "2025-05-15T16:15:47.778864",
     "status": "completed"
    },
    "tags": []
   },
   "outputs": [
    {
     "data": {
      "text/plain": [
       "{'BAS': 0.24248545572074987, 'WF1': 0.44905748795103745}"
      ]
     },
     "execution_count": 26,
     "metadata": {},
     "output_type": "execute_result"
    }
   ],
   "source": [
    "metrics_dict"
   ]
  },
  {
   "cell_type": "code",
   "execution_count": 27,
   "id": "143785bb",
   "metadata": {
    "execution": {
     "iopub.execute_input": "2025-05-15T16:15:47.816888Z",
     "iopub.status.busy": "2025-05-15T16:15:47.816274Z",
     "iopub.status.idle": "2025-05-15T16:15:47.826811Z",
     "shell.execute_reply": "2025-05-15T16:15:47.826247Z"
    },
    "papermill": {
     "duration": 0.021711,
     "end_time": "2025-05-15T16:15:47.827724",
     "exception": false,
     "start_time": "2025-05-15T16:15:47.806013",
     "status": "completed"
    },
    "tags": []
   },
   "outputs": [
    {
     "data": {
      "text/html": [
       "<div>\n",
       "<style scoped>\n",
       "    .dataframe tbody tr th:only-of-type {\n",
       "        vertical-align: middle;\n",
       "    }\n",
       "\n",
       "    .dataframe tbody tr th {\n",
       "        vertical-align: top;\n",
       "    }\n",
       "\n",
       "    .dataframe thead th {\n",
       "        text-align: right;\n",
       "    }\n",
       "</style>\n",
       "<table border=\"1\" class=\"dataframe\">\n",
       "  <thead>\n",
       "    <tr style=\"text-align: right;\">\n",
       "      <th></th>\n",
       "      <th>BAS</th>\n",
       "      <th>WF1</th>\n",
       "      <th>split_idx</th>\n",
       "      <th>gene_set_seed</th>\n",
       "      <th>cell_type</th>\n",
       "    </tr>\n",
       "  </thead>\n",
       "  <tbody>\n",
       "    <tr>\n",
       "      <th>0</th>\n",
       "      <td>0.242485</td>\n",
       "      <td>0.449057</td>\n",
       "      <td>2</td>\n",
       "      <td>2</td>\n",
       "      <td>Plasma</td>\n",
       "    </tr>\n",
       "  </tbody>\n",
       "</table>\n",
       "</div>"
      ],
      "text/plain": [
       "        BAS       WF1  split_idx  gene_set_seed cell_type\n",
       "0  0.242485  0.449057          2              2    Plasma"
      ]
     },
     "execution_count": 27,
     "metadata": {},
     "output_type": "execute_result"
    }
   ],
   "source": [
    "metrics_df = pd.DataFrame.from_dict([metrics_dict]).assign(split_idx=TEST_SPLIT_IDX, gene_set_seed=SEED, cell_type=CELL_TYPE)\n",
    "metrics_df"
   ]
  },
  {
   "cell_type": "code",
   "execution_count": 28,
   "id": "06674d05",
   "metadata": {
    "execution": {
     "iopub.execute_input": "2025-05-15T16:15:47.857405Z",
     "iopub.status.busy": "2025-05-15T16:15:47.856791Z",
     "iopub.status.idle": "2025-05-15T16:15:47.871701Z",
     "shell.execute_reply": "2025-05-15T16:15:47.871219Z"
    },
    "papermill": {
     "duration": 0.026326,
     "end_time": "2025-05-15T16:15:47.872615",
     "exception": false,
     "start_time": "2025-05-15T16:15:47.846289",
     "status": "completed"
    },
    "tags": []
   },
   "outputs": [],
   "source": [
    "out_dir = here(f'03_downstream_analysis/08_gene_importance/xgboost_external_validation/xgboost_TopN_genes/results_{N_GENES}/metrics')\n",
    "\n",
    "if not os.path.exists(out_dir):\n",
    "    os.makedirs(out_dir)\n",
    "    \n",
    "metrics_df.to_csv(os.path.join(out_dir, f'{CELL_TYPE}_{SEED}_{TEST_SPLIT_IDX}_metrics.zip'))"
   ]
  }
 ],
 "metadata": {
  "kernelspec": {
   "display_name": "Python 3 (ipykernel)",
   "language": "python",
   "name": "python3"
  },
  "language_info": {
   "codemirror_mode": {
    "name": "ipython",
    "version": 3
   },
   "file_extension": ".py",
   "mimetype": "text/x-python",
   "name": "python",
   "nbconvert_exporter": "python",
   "pygments_lexer": "ipython3",
   "version": "3.12.5"
  },
  "papermill": {
   "default_parameters": {},
   "duration": 23.889738,
   "end_time": "2025-05-15T16:15:48.600670",
   "environment_variables": {},
   "exception": null,
   "input_path": "02_xgboost_fitting_external_20genes.ipynb",
   "output_path": "results_20/executed_notebooks/xgboost_fitting_external_CT_Plasma_GS_2_seed2.ipynb",
   "parameters": {
    "CELL_TYPE": "Plasma",
    "SEED": 2,
    "TEST_SPLIT_IDX": 2
   },
   "start_time": "2025-05-15T16:15:24.710932",
   "version": "2.6.0"
  }
 },
 "nbformat": 4,
 "nbformat_minor": 5
}