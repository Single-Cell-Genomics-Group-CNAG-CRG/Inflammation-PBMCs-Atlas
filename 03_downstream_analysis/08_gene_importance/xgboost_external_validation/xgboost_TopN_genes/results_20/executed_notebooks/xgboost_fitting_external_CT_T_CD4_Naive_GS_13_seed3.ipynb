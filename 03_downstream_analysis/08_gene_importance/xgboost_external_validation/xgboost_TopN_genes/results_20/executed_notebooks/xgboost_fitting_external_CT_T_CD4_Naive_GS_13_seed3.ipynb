{
 "cells": [
  {
   "cell_type": "code",
   "execution_count": 1,
   "id": "131beeca",
   "metadata": {
    "editable": true,
    "execution": {
     "iopub.execute_input": "2025-05-15T16:01:58.240925Z",
     "iopub.status.busy": "2025-05-15T16:01:58.240359Z",
     "iopub.status.idle": "2025-05-15T16:01:58.243755Z",
     "shell.execute_reply": "2025-05-15T16:01:58.243417Z"
    },
    "papermill": {
     "duration": 0.013806,
     "end_time": "2025-05-15T16:01:58.244787",
     "exception": false,
     "start_time": "2025-05-15T16:01:58.230981",
     "status": "completed"
    },
    "slideshow": {
     "slide_type": ""
    },
    "tags": [
     "parameters"
    ]
   },
   "outputs": [],
   "source": [
    "CELL_TYPE = 'pDC'\n",
    "N_GENES: int = 20\n",
    "SEED = 'shap_studyID' #'disease_NOstudy' 'study_NOdisease' or 'int' or 'shap_studyID'\n",
    "TEST_SPLIT_IDX: int = 1 #[0,4]"
   ]
  },
  {
   "cell_type": "code",
   "execution_count": 2,
   "id": "e60f3599",
   "metadata": {
    "execution": {
     "iopub.execute_input": "2025-05-15T16:01:58.258887Z",
     "iopub.status.busy": "2025-05-15T16:01:58.258541Z",
     "iopub.status.idle": "2025-05-15T16:01:58.260725Z",
     "shell.execute_reply": "2025-05-15T16:01:58.260426Z"
    },
    "papermill": {
     "duration": 0.009436,
     "end_time": "2025-05-15T16:01:58.261584",
     "exception": false,
     "start_time": "2025-05-15T16:01:58.252148",
     "status": "completed"
    },
    "tags": [
     "injected-parameters"
    ]
   },
   "outputs": [],
   "source": [
    "# Parameters\n",
    "CELL_TYPE = \"T_CD4_Naive\"\n",
    "SEED = 13\n",
    "TEST_SPLIT_IDX = 3\n"
   ]
  },
  {
   "cell_type": "code",
   "execution_count": 3,
   "id": "cb0e67f3",
   "metadata": {
    "execution": {
     "iopub.execute_input": "2025-05-15T16:01:58.288314Z",
     "iopub.status.busy": "2025-05-15T16:01:58.288023Z",
     "iopub.status.idle": "2025-05-15T16:01:58.290200Z",
     "shell.execute_reply": "2025-05-15T16:01:58.289885Z"
    },
    "papermill": {
     "duration": 0.008995,
     "end_time": "2025-05-15T16:01:58.290964",
     "exception": false,
     "start_time": "2025-05-15T16:01:58.281969",
     "status": "completed"
    },
    "tags": []
   },
   "outputs": [],
   "source": [
    "N_SPLITS: int = 5\n",
    "N_TRIALS: int = 50"
   ]
  },
  {
   "cell_type": "code",
   "execution_count": 4,
   "id": "96256ac1",
   "metadata": {
    "execution": {
     "iopub.execute_input": "2025-05-15T16:01:58.304796Z",
     "iopub.status.busy": "2025-05-15T16:01:58.304387Z",
     "iopub.status.idle": "2025-05-15T16:02:01.138176Z",
     "shell.execute_reply": "2025-05-15T16:02:01.137699Z"
    },
    "papermill": {
     "duration": 2.842911,
     "end_time": "2025-05-15T16:02:01.139729",
     "exception": false,
     "start_time": "2025-05-15T16:01:58.296818",
     "status": "completed"
    },
    "tags": []
   },
   "outputs": [],
   "source": [
    "import os\n",
    "import sys\n",
    "from pyprojroot.here import here\n",
    "import pandas as pd\n",
    "import anndata as ad\n",
    "import numpy as np\n",
    "import math\n",
    "from sklearn.model_selection import StratifiedGroupKFold\n",
    "from sklearn.preprocessing import LabelEncoder\n",
    "from sklearn.metrics import f1_score\n",
    "import matplotlib.pyplot as plt\n",
    "import seaborn as sns\n",
    "from itertools import product\n",
    "from sklearn.metrics import balanced_accuracy_score, f1_score\n",
    "import optuna\n",
    "\n",
    "import joblib\n",
    "import pickle\n",
    "import datetime\n",
    "\n",
    "import collections\n",
    "\n",
    "import xgboost\n",
    "from sklearn.preprocessing import LabelEncoder\n",
    "\n",
    "import scipy.sparse as ssp\n",
    "import joblib\n",
    "\n",
    "from dotenv import load_dotenv"
   ]
  },
  {
   "cell_type": "code",
   "execution_count": 5,
   "id": "23ddc79e",
   "metadata": {
    "execution": {
     "iopub.execute_input": "2025-05-15T16:02:01.163150Z",
     "iopub.status.busy": "2025-05-15T16:02:01.162540Z",
     "iopub.status.idle": "2025-05-15T16:02:01.168895Z",
     "shell.execute_reply": "2025-05-15T16:02:01.168586Z"
    },
    "papermill": {
     "duration": 0.013829,
     "end_time": "2025-05-15T16:02:01.169721",
     "exception": false,
     "start_time": "2025-05-15T16:02:01.155892",
     "status": "completed"
    },
    "tags": []
   },
   "outputs": [
    {
     "data": {
      "text/plain": [
       "True"
      ]
     },
     "execution_count": 5,
     "metadata": {},
     "output_type": "execute_result"
    }
   ],
   "source": [
    "load_dotenv()"
   ]
  },
  {
   "cell_type": "markdown",
   "id": "8e4cba90",
   "metadata": {
    "papermill": {
     "duration": 0.018387,
     "end_time": "2025-05-15T16:02:01.204793",
     "exception": false,
     "start_time": "2025-05-15T16:02:01.186406",
     "status": "completed"
    },
    "tags": []
   },
   "source": [
    "# LOAD DATASET"
   ]
  },
  {
   "cell_type": "code",
   "execution_count": 6,
   "id": "9e27095f",
   "metadata": {
    "execution": {
     "iopub.execute_input": "2025-05-15T16:02:01.217569Z",
     "iopub.status.busy": "2025-05-15T16:02:01.217249Z",
     "iopub.status.idle": "2025-05-15T16:02:01.674872Z",
     "shell.execute_reply": "2025-05-15T16:02:01.674333Z"
    },
    "papermill": {
     "duration": 0.46585,
     "end_time": "2025-05-15T16:02:01.676395",
     "exception": false,
     "start_time": "2025-05-15T16:02:01.210545",
     "status": "completed"
    },
    "tags": []
   },
   "outputs": [],
   "source": [
    "train_adata = ad.read_h5ad(\n",
    "    here(f'03_downstream_analysis/08_gene_importance/xgboost_external_validation/xgboost_TopN_genes/data_cellTypes/EXTERNAL_{CELL_TYPE}.filtered.log1p.h5ad')\n",
    ")"
   ]
  },
  {
   "cell_type": "code",
   "execution_count": 7,
   "id": "c148c480",
   "metadata": {
    "execution": {
     "iopub.execute_input": "2025-05-15T16:02:01.690751Z",
     "iopub.status.busy": "2025-05-15T16:02:01.690164Z",
     "iopub.status.idle": "2025-05-15T16:02:01.717810Z",
     "shell.execute_reply": "2025-05-15T16:02:01.717435Z"
    },
    "papermill": {
     "duration": 0.035537,
     "end_time": "2025-05-15T16:02:01.718697",
     "exception": false,
     "start_time": "2025-05-15T16:02:01.683160",
     "status": "completed"
    },
    "tags": []
   },
   "outputs": [
    {
     "name": "stdout",
     "output_type": "stream",
     "text": [
      "['ENSG00000077238' 'ENSG00000143761' 'ENSG00000115738' 'ENSG00000165272'\n",
      " 'ENSG00000153283' 'ENSG00000204264' 'ENSG00000179218' 'ENSG00000164307'\n",
      " 'ENSG00000164104' 'ENSG00000092820' 'ENSG00000100906' 'ENSG00000109861'\n",
      " 'ENSG00000198668' 'ENSG00000106803' 'ENSG00000009790' 'ENSG00000197540'\n",
      " 'ENSG00000104763' 'ENSG00000146457' 'ENSG00000026025' 'ENSG00000152219'\n",
      " 'ENSG00000179094' 'ENSG00000171223' 'ENSG00000116171' 'ENSG00000158869'\n",
      " 'ENSG00000066294' 'ENSG00000082074' 'ENSG00000118971' 'ENSG00000150093'\n",
      " 'ENSG00000227507' 'ENSG00000213145' 'ENSG00000133639' 'ENSG00000002549'\n",
      " 'ENSG00000107223' 'ENSG00000108561' 'ENSG00000132965' 'ENSG00000163660'\n",
      " 'ENSG00000198355' 'ENSG00000182866' 'ENSG00000133134' 'ENSG00000157873'\n",
      " 'ENSG00000125148' 'ENSG00000177721' 'ENSG00000160932' 'ENSG00000143543'\n",
      " 'ENSG00000131018' 'ENSG00000139192' 'ENSG00000131143' 'ENSG00000175390'\n",
      " 'ENSG00000163513' 'ENSG00000075624' 'ENSG00000152495' 'ENSG00000198832'\n",
      " 'ENSG00000171791' 'ENSG00000239697' 'ENSG00000110848' 'ENSG00000111335'\n",
      " 'ENSG00000163931' 'ENSG00000177556' 'ENSG00000128340' 'ENSG00000085265'\n",
      " 'ENSG00000204472' 'ENSG00000068831' 'ENSG00000197471' 'ENSG00000091409'\n",
      " 'ENSG00000183486' 'ENSG00000147443' 'ENSG00000132510' 'ENSG00000117318'\n",
      " 'ENSG00000104998' 'ENSG00000167004' 'ENSG00000136732' 'ENSG00000168685'\n",
      " 'ENSG00000137100' 'ENSG00000185950' 'ENSG00000057657' 'ENSG00000154814'\n",
      " 'ENSG00000178719' 'ENSG00000152234' 'ENSG00000117523' 'ENSG00000163131'\n",
      " 'ENSG00000129084' 'ENSG00000140264' 'ENSG00000155368' 'ENSG00000216490'\n",
      " 'ENSG00000160710' 'ENSG00000104904' 'ENSG00000148908' 'ENSG00000136156'\n",
      " 'ENSG00000148834' 'ENSG00000111863' 'ENSG00000088986' 'ENSG00000118260'\n",
      " 'ENSG00000183020' 'ENSG00000157514' 'ENSG00000071073' 'ENSG00000143575'\n",
      " 'ENSG00000167552' 'ENSG00000115232' 'ENSG00000171700' 'ENSG00000051523'\n",
      " 'ENSG00000167283']\n"
     ]
    }
   ],
   "source": [
    "if SEED != 'all':\n",
    "    gene_subset = np.load(here(f'03_downstream_analysis/08_gene_importance/xgboost_external_validation/shap_gene_selection/gene_subsets_{N_GENES}/{CELL_TYPE}_{SEED}.npy'), allow_pickle=True)\n",
    "    train_adata = train_adata[:,gene_subset]\n",
    "    print(gene_subset)\n",
    "elif SEED == 'all':\n",
    "    print('Using all genes')\n",
    "else:\n",
    "    raise ValueError()"
   ]
  },
  {
   "cell_type": "code",
   "execution_count": 8,
   "id": "2adf3468",
   "metadata": {
    "execution": {
     "iopub.execute_input": "2025-05-15T16:02:01.731887Z",
     "iopub.status.busy": "2025-05-15T16:02:01.731388Z",
     "iopub.status.idle": "2025-05-15T16:02:01.734729Z",
     "shell.execute_reply": "2025-05-15T16:02:01.734418Z"
    },
    "papermill": {
     "duration": 0.010569,
     "end_time": "2025-05-15T16:02:01.735582",
     "exception": false,
     "start_time": "2025-05-15T16:02:01.725013",
     "status": "completed"
    },
    "tags": []
   },
   "outputs": [
    {
     "data": {
      "text/plain": [
       "(85497, 101)"
      ]
     },
     "execution_count": 8,
     "metadata": {},
     "output_type": "execute_result"
    }
   ],
   "source": [
    "train_adata.shape"
   ]
  },
  {
   "cell_type": "code",
   "execution_count": 9,
   "id": "1e5bf641",
   "metadata": {
    "execution": {
     "iopub.execute_input": "2025-05-15T16:02:01.747780Z",
     "iopub.status.busy": "2025-05-15T16:02:01.747641Z",
     "iopub.status.idle": "2025-05-15T16:02:01.751729Z",
     "shell.execute_reply": "2025-05-15T16:02:01.751424Z"
    },
    "papermill": {
     "duration": 0.01124,
     "end_time": "2025-05-15T16:02:01.752560",
     "exception": false,
     "start_time": "2025-05-15T16:02:01.741320",
     "status": "completed"
    },
    "tags": []
   },
   "outputs": [
    {
     "data": {
      "text/plain": [
       "['RA', 'COVID', 'healthy', 'HIV', 'cirrhosis', 'CD', 'SLE', 'sepsis']\n",
       "Categories (8, object): ['CD', 'COVID', 'HIV', 'RA', 'SLE', 'cirrhosis', 'healthy', 'sepsis']"
      ]
     },
     "execution_count": 9,
     "metadata": {},
     "output_type": "execute_result"
    }
   ],
   "source": [
    "train_adata.obs.disease.unique()"
   ]
  },
  {
   "cell_type": "code",
   "execution_count": 10,
   "id": "a88edbb8",
   "metadata": {
    "execution": {
     "iopub.execute_input": "2025-05-15T16:02:01.765430Z",
     "iopub.status.busy": "2025-05-15T16:02:01.764944Z",
     "iopub.status.idle": "2025-05-15T16:02:01.768926Z",
     "shell.execute_reply": "2025-05-15T16:02:01.768629Z"
    },
    "papermill": {
     "duration": 0.010957,
     "end_time": "2025-05-15T16:02:01.769742",
     "exception": false,
     "start_time": "2025-05-15T16:02:01.758785",
     "status": "completed"
    },
    "tags": []
   },
   "outputs": [
    {
     "data": {
      "text/plain": [
       "['SCGT00val_I036016_T0', 'SCGT00val_I036019_T0', 'SCGT00val_I036023_T0', 'SCGT00val_I036015_T0', 'SCGT00val_I036028_T0', ..., '10XGenomics_10XHC2_T0', '10XGenomics_10XHC3_T0', '10XGenomics_10XHC5_T0', '10XGenomics_10XHC7_T0', '10XGenomics_10XHC8_T0']\n",
       "Length: 86\n",
       "Categories (86, object): ['10XGenomics_10XHC1_T0', '10XGenomics_10XHC2_T0', '10XGenomics_10XHC3_T0', '10XGenomics_10XHC4_T0', ..., 'Savage2021_BRISL6_T0', 'Savage2021_BRISL7_T0', 'Savage2021_PIDA_T0', 'Savage2021_PIDB_T0']"
      ]
     },
     "execution_count": 10,
     "metadata": {},
     "output_type": "execute_result"
    }
   ],
   "source": [
    "train_adata.obs.sampleID.unique()"
   ]
  },
  {
   "cell_type": "code",
   "execution_count": 11,
   "id": "b00ea567",
   "metadata": {
    "execution": {
     "iopub.execute_input": "2025-05-15T16:02:01.789876Z",
     "iopub.status.busy": "2025-05-15T16:02:01.789472Z",
     "iopub.status.idle": "2025-05-15T16:02:01.998819Z",
     "shell.execute_reply": "2025-05-15T16:02:01.998273Z"
    },
    "papermill": {
     "duration": 0.224721,
     "end_time": "2025-05-15T16:02:02.000377",
     "exception": false,
     "start_time": "2025-05-15T16:02:01.775656",
     "status": "completed"
    },
    "tags": []
   },
   "outputs": [],
   "source": [
    "all_idxs = np.arange(train_adata.obs.shape[0])\n",
    "left_out_splits = [s[1] for s in StratifiedGroupKFold(n_splits=N_SPLITS).split(all_idxs, train_adata.obs.disease, train_adata.obs.sampleID)]"
   ]
  },
  {
   "cell_type": "code",
   "execution_count": 12,
   "id": "e7fb6976",
   "metadata": {
    "execution": {
     "iopub.execute_input": "2025-05-15T16:02:02.014897Z",
     "iopub.status.busy": "2025-05-15T16:02:02.014695Z",
     "iopub.status.idle": "2025-05-15T16:02:02.018252Z",
     "shell.execute_reply": "2025-05-15T16:02:02.017936Z"
    },
    "papermill": {
     "duration": 0.011557,
     "end_time": "2025-05-15T16:02:02.019032",
     "exception": false,
     "start_time": "2025-05-15T16:02:02.007475",
     "status": "completed"
    },
    "tags": []
   },
   "outputs": [
    {
     "data": {
      "text/plain": [
       "([0, 1, 2], 4, 3)"
      ]
     },
     "execution_count": 12,
     "metadata": {},
     "output_type": "execute_result"
    }
   ],
   "source": [
    "TRAIN_SPLIT_IDXS = [0,1,2,3,4]\n",
    "VAL_SPLIT_IDX = (TEST_SPLIT_IDX + 1) % 5\n",
    "TRAIN_SPLIT_IDXS.remove(TEST_SPLIT_IDX)\n",
    "TRAIN_SPLIT_IDXS.remove(VAL_SPLIT_IDX)\n",
    "TRAIN_SPLIT_IDXS, VAL_SPLIT_IDX, TEST_SPLIT_IDX"
   ]
  },
  {
   "cell_type": "code",
   "execution_count": 13,
   "id": "48112764",
   "metadata": {
    "execution": {
     "iopub.execute_input": "2025-05-15T16:02:02.033423Z",
     "iopub.status.busy": "2025-05-15T16:02:02.032621Z",
     "iopub.status.idle": "2025-05-15T16:02:02.036170Z",
     "shell.execute_reply": "2025-05-15T16:02:02.035837Z"
    },
    "papermill": {
     "duration": 0.012482,
     "end_time": "2025-05-15T16:02:02.037519",
     "exception": false,
     "start_time": "2025-05-15T16:02:02.025037",
     "status": "completed"
    },
    "tags": []
   },
   "outputs": [],
   "source": [
    "train_idxs = np.concatenate([left_out_splits[idx] for idx in TRAIN_SPLIT_IDXS])\n",
    "val_idxs = left_out_splits[VAL_SPLIT_IDX]\n",
    "test_idxs = left_out_splits[TEST_SPLIT_IDX]"
   ]
  },
  {
   "cell_type": "markdown",
   "id": "14898b05",
   "metadata": {
    "papermill": {
     "duration": 0.006065,
     "end_time": "2025-05-15T16:02:02.049994",
     "exception": false,
     "start_time": "2025-05-15T16:02:02.043929",
     "status": "completed"
    },
    "tags": []
   },
   "source": [
    "### SUBSET DATASET INTO TRAIN/TEST/VAL SPLITS"
   ]
  },
  {
   "cell_type": "code",
   "execution_count": 14,
   "id": "e7dcf7b0",
   "metadata": {
    "execution": {
     "iopub.execute_input": "2025-05-15T16:02:02.078974Z",
     "iopub.status.busy": "2025-05-15T16:02:02.078540Z",
     "iopub.status.idle": "2025-05-15T16:02:02.281052Z",
     "shell.execute_reply": "2025-05-15T16:02:02.280677Z"
    },
    "papermill": {
     "duration": 0.212082,
     "end_time": "2025-05-15T16:02:02.281993",
     "exception": false,
     "start_time": "2025-05-15T16:02:02.069911",
     "status": "completed"
    },
    "tags": []
   },
   "outputs": [
    {
     "data": {
      "text/plain": [
       "((50067, 101), (18551, 101), (16879, 101))"
      ]
     },
     "execution_count": 14,
     "metadata": {},
     "output_type": "execute_result"
    }
   ],
   "source": [
    "X_train = train_adata.X[train_idxs]\n",
    "X_test = train_adata.X[test_idxs]\n",
    "X_val = train_adata.X[val_idxs]\n",
    "X_train.shape, X_test.shape, X_val.shape"
   ]
  },
  {
   "cell_type": "code",
   "execution_count": 15,
   "id": "069f6620",
   "metadata": {
    "execution": {
     "iopub.execute_input": "2025-05-15T16:02:02.297594Z",
     "iopub.status.busy": "2025-05-15T16:02:02.297321Z",
     "iopub.status.idle": "2025-05-15T16:02:02.309418Z",
     "shell.execute_reply": "2025-05-15T16:02:02.309053Z"
    },
    "papermill": {
     "duration": 0.020028,
     "end_time": "2025-05-15T16:02:02.310245",
     "exception": false,
     "start_time": "2025-05-15T16:02:02.290217",
     "status": "completed"
    },
    "tags": []
   },
   "outputs": [
    {
     "data": {
      "text/plain": [
       "((50067,), (18551,), (16879,))"
      ]
     },
     "execution_count": 15,
     "metadata": {},
     "output_type": "execute_result"
    }
   ],
   "source": [
    "y_train = train_adata.obs.iloc[train_idxs].disease.values.astype(str)\n",
    "y_test = train_adata.obs.iloc[test_idxs].disease.values.astype(str)\n",
    "y_val = train_adata.obs.iloc[val_idxs].disease.values.astype(str)\n",
    "y_train.shape, y_test.shape, y_val.shape"
   ]
  },
  {
   "cell_type": "code",
   "execution_count": 16,
   "id": "7ee543d8",
   "metadata": {
    "execution": {
     "iopub.execute_input": "2025-05-15T16:02:02.344543Z",
     "iopub.status.busy": "2025-05-15T16:02:02.344219Z",
     "iopub.status.idle": "2025-05-15T16:02:02.364830Z",
     "shell.execute_reply": "2025-05-15T16:02:02.364380Z"
    },
    "papermill": {
     "duration": 0.049508,
     "end_time": "2025-05-15T16:02:02.365780",
     "exception": false,
     "start_time": "2025-05-15T16:02:02.316272",
     "status": "completed"
    },
    "tags": []
   },
   "outputs": [],
   "source": [
    "lenc = LabelEncoder()\n",
    "y_train_enc = lenc.fit_transform(y_train)\n",
    "y_val_enc = lenc.transform(y_val)\n",
    "y_test_enc = lenc.transform(y_test)"
   ]
  },
  {
   "cell_type": "markdown",
   "id": "9cdd0ba6",
   "metadata": {
    "papermill": {
     "duration": 0.00965,
     "end_time": "2025-05-15T16:02:02.382325",
     "exception": false,
     "start_time": "2025-05-15T16:02:02.372675",
     "status": "completed"
    },
    "tags": []
   },
   "source": [
    "### GENERATE F1 "
   ]
  },
  {
   "cell_type": "code",
   "execution_count": 17,
   "id": "698d1250",
   "metadata": {
    "execution": {
     "iopub.execute_input": "2025-05-15T16:02:02.396582Z",
     "iopub.status.busy": "2025-05-15T16:02:02.396319Z",
     "iopub.status.idle": "2025-05-15T16:02:02.398645Z",
     "shell.execute_reply": "2025-05-15T16:02:02.398353Z"
    },
    "papermill": {
     "duration": 0.010476,
     "end_time": "2025-05-15T16:02:02.399487",
     "exception": false,
     "start_time": "2025-05-15T16:02:02.389011",
     "status": "completed"
    },
    "tags": []
   },
   "outputs": [],
   "source": [
    "def custom_f1_score(y_true, y_pred):\n",
    "    return -f1_score(y_true, y_pred.argmax(1), average='weighted')"
   ]
  },
  {
   "cell_type": "code",
   "execution_count": 18,
   "id": "5f5fbaaf",
   "metadata": {
    "execution": {
     "iopub.execute_input": "2025-05-15T16:02:02.427518Z",
     "iopub.status.busy": "2025-05-15T16:02:02.427071Z",
     "iopub.status.idle": "2025-05-15T16:02:02.431228Z",
     "shell.execute_reply": "2025-05-15T16:02:02.430890Z"
    },
    "papermill": {
     "duration": 0.026195,
     "end_time": "2025-05-15T16:02:02.432264",
     "exception": false,
     "start_time": "2025-05-15T16:02:02.406069",
     "status": "completed"
    },
    "tags": []
   },
   "outputs": [],
   "source": [
    "eval_metric=custom_f1_score\n",
    "eval_metric_name='custom_f1_score'\n",
    "\n",
    "def objective(trial):\n",
    "    params = {\n",
    "        'n_estimators': 1500,\n",
    "        'max_depth': trial.suggest_int('max_depth', 3, 20),\n",
    "        'min_child_weight': trial.suggest_int('min_child_weight', 1, 250),\n",
    "        'subsample': trial.suggest_float('subsample', 0.1, 1.0),\n",
    "        'colsample_bynode': trial.suggest_float('colsample_bynode', 0.1, 1.0),\n",
    "        'learning_rate': trial.suggest_float('learning_rate', 1e-3, 5e-1, log=True),\n",
    "    }\n",
    "    pruning_callback = optuna.integration.XGBoostPruningCallback(trial, f'validation_0-{eval_metric_name}')\n",
    "    es_callback = xgboost.callback.EarlyStopping(20, min_delta=0.001)\n",
    "    xgb = xgboost.XGBClassifier(\n",
    "        eval_metric=eval_metric,\n",
    "        callbacks=[pruning_callback, es_callback],\n",
    "        n_jobs=5,\n",
    "        **params\n",
    "    )\n",
    "    xgb.fit(\n",
    "        X_train, \n",
    "        y_train_enc, \n",
    "        verbose=0,\n",
    "        eval_set=[(X_val, y_val_enc)],\n",
    "    )\n",
    "    trial.set_user_attr('best_iteration', xgb.best_iteration)\n",
    "\n",
    "    return xgb.best_score"
   ]
  },
  {
   "cell_type": "code",
   "execution_count": 19,
   "id": "6e2e827c",
   "metadata": {
    "execution": {
     "iopub.execute_input": "2025-05-15T16:02:02.447178Z",
     "iopub.status.busy": "2025-05-15T16:02:02.446666Z",
     "iopub.status.idle": "2025-05-15T16:10:48.685662Z",
     "shell.execute_reply": "2025-05-15T16:10:48.685161Z"
    },
    "papermill": {
     "duration": 526.431005,
     "end_time": "2025-05-15T16:10:48.870555",
     "exception": false,
     "start_time": "2025-05-15T16:02:02.439550",
     "status": "completed"
    },
    "scrolled": true,
    "tags": []
   },
   "outputs": [
    {
     "name": "stderr",
     "output_type": "stream",
     "text": [
      "[I 2025-05-15 18:02:02,448] A new study created in memory with name: no-name-05b8ab5d-9c14-45a1-8509-01120a405654\n"
     ]
    },
    {
     "name": "stderr",
     "output_type": "stream",
     "text": [
      "[I 2025-05-15 18:02:07,503] Trial 0 finished with value: -0.626548 and parameters: {'max_depth': 9, 'min_child_weight': 238, 'subsample': 0.7587945476302645, 'colsample_bynode': 0.6387926357773329, 'learning_rate': 0.0026368755339723046}. Best is trial 0 with value: -0.626548.\n"
     ]
    },
    {
     "name": "stderr",
     "output_type": "stream",
     "text": [
      "[I 2025-05-15 18:02:32,678] Trial 1 finished with value: -0.725585 and parameters: {'max_depth': 5, 'min_child_weight': 15, 'subsample': 0.8795585311974417, 'colsample_bynode': 0.6410035105688879, 'learning_rate': 0.08148293210105287}. Best is trial 1 with value: -0.725585.\n"
     ]
    },
    {
     "name": "stderr",
     "output_type": "stream",
     "text": [
      "[I 2025-05-15 18:02:39,259] Trial 2 finished with value: -0.620121 and parameters: {'max_depth': 3, 'min_child_weight': 243, 'subsample': 0.8491983767203796, 'colsample_bynode': 0.29110519961044856, 'learning_rate': 0.003095566460242371}. Best is trial 1 with value: -0.725585.\n"
     ]
    },
    {
     "name": "stderr",
     "output_type": "stream",
     "text": [
      "[I 2025-05-15 18:02:52,729] Trial 3 finished with value: -0.647922 and parameters: {'max_depth': 6, 'min_child_weight': 77, 'subsample': 0.5722807884690141, 'colsample_bynode': 0.48875051677790415, 'learning_rate': 0.006109683510122491}. Best is trial 1 with value: -0.725585.\n"
     ]
    },
    {
     "name": "stderr",
     "output_type": "stream",
     "text": [
      "[I 2025-05-15 18:04:04,395] Trial 4 finished with value: -0.71745 and parameters: {'max_depth': 14, 'min_child_weight': 35, 'subsample': 0.3629301836816964, 'colsample_bynode': 0.4297256589643226, 'learning_rate': 0.01701841881702917}. Best is trial 1 with value: -0.725585.\n"
     ]
    },
    {
     "name": "stderr",
     "output_type": "stream",
     "text": [
      "[I 2025-05-15 18:04:10,914] Trial 5 finished with value: -0.653676 and parameters: {'max_depth': 17, 'min_child_weight': 50, 'subsample': 0.5628109945722505, 'colsample_bynode': 0.6331731119758383, 'learning_rate': 0.0013346527038305934}. Best is trial 1 with value: -0.725585.\n"
     ]
    },
    {
     "name": "stderr",
     "output_type": "stream",
     "text": [
      "[I 2025-05-15 18:04:11,357] Trial 6 pruned. Trial was pruned at iteration 0.\n"
     ]
    },
    {
     "name": "stderr",
     "output_type": "stream",
     "text": [
      "[I 2025-05-15 18:04:11,765] Trial 7 pruned. Trial was pruned at iteration 0.\n"
     ]
    },
    {
     "name": "stderr",
     "output_type": "stream",
     "text": [
      "[I 2025-05-15 18:04:12,150] Trial 8 pruned. Trial was pruned at iteration 0.\n"
     ]
    },
    {
     "name": "stderr",
     "output_type": "stream",
     "text": [
      "[I 2025-05-15 18:04:12,591] Trial 9 pruned. Trial was pruned at iteration 0.\n"
     ]
    },
    {
     "name": "stderr",
     "output_type": "stream",
     "text": [
      "[I 2025-05-15 18:04:33,624] Trial 10 finished with value: -0.727755 and parameters: {'max_depth': 9, 'min_child_weight': 2, 'subsample': 0.9725833997090791, 'colsample_bynode': 0.11616568805333755, 'learning_rate': 0.17780618353487967}. Best is trial 10 with value: -0.727755.\n"
     ]
    },
    {
     "name": "stderr",
     "output_type": "stream",
     "text": [
      "[I 2025-05-15 18:05:17,081] Trial 11 finished with value: -0.726259 and parameters: {'max_depth': 9, 'min_child_weight': 4, 'subsample': 0.9818290990185045, 'colsample_bynode': 0.17702656156719, 'learning_rate': 0.11568531411766632}. Best is trial 10 with value: -0.727755.\n"
     ]
    },
    {
     "name": "stderr",
     "output_type": "stream",
     "text": [
      "[I 2025-05-15 18:05:41,559] Trial 12 finished with value: -0.723746 and parameters: {'max_depth': 9, 'min_child_weight': 2, 'subsample': 0.9762317723681219, 'colsample_bynode': 0.1303670507685675, 'learning_rate': 0.14353293664472047}. Best is trial 10 with value: -0.727755.\n"
     ]
    },
    {
     "name": "stderr",
     "output_type": "stream",
     "text": [
      "[I 2025-05-15 18:05:42,016] Trial 13 pruned. Trial was pruned at iteration 0.\n"
     ]
    },
    {
     "name": "stderr",
     "output_type": "stream",
     "text": [
      "[I 2025-05-15 18:05:42,455] Trial 14 pruned. Trial was pruned at iteration 0.\n"
     ]
    },
    {
     "name": "stderr",
     "output_type": "stream",
     "text": [
      "[I 2025-05-15 18:06:24,263] Trial 15 pruned. Trial was pruned at iteration 67.\n"
     ]
    },
    {
     "name": "stderr",
     "output_type": "stream",
     "text": [
      "[I 2025-05-15 18:06:24,776] Trial 16 pruned. Trial was pruned at iteration 0.\n"
     ]
    },
    {
     "name": "stderr",
     "output_type": "stream",
     "text": [
      "[I 2025-05-15 18:06:25,383] Trial 17 pruned. Trial was pruned at iteration 0.\n"
     ]
    },
    {
     "name": "stderr",
     "output_type": "stream",
     "text": [
      "[I 2025-05-15 18:07:03,849] Trial 18 finished with value: -0.731956 and parameters: {'max_depth': 12, 'min_child_weight': 35, 'subsample': 0.8272602031120428, 'colsample_bynode': 0.8109691196781996, 'learning_rate': 0.20046188160978387}. Best is trial 18 with value: -0.731956.\n"
     ]
    },
    {
     "name": "stderr",
     "output_type": "stream",
     "text": [
      "[I 2025-05-15 18:07:04,364] Trial 19 pruned. Trial was pruned at iteration 0.\n"
     ]
    },
    {
     "name": "stderr",
     "output_type": "stream",
     "text": [
      "[I 2025-05-15 18:07:25,819] Trial 20 finished with value: -0.732058 and parameters: {'max_depth': 16, 'min_child_weight': 32, 'subsample': 0.6538700099188194, 'colsample_bynode': 0.738181484206615, 'learning_rate': 0.274992163447961}. Best is trial 20 with value: -0.732058.\n"
     ]
    },
    {
     "name": "stderr",
     "output_type": "stream",
     "text": [
      "[I 2025-05-15 18:07:40,706] Trial 21 finished with value: -0.733444 and parameters: {'max_depth': 17, 'min_child_weight': 30, 'subsample': 0.6582893232370284, 'colsample_bynode': 0.7873726554233677, 'learning_rate': 0.24892967230551474}. Best is trial 21 with value: -0.733444.\n"
     ]
    },
    {
     "name": "stderr",
     "output_type": "stream",
     "text": [
      "[I 2025-05-15 18:07:41,247] Trial 22 pruned. Trial was pruned at iteration 0.\n"
     ]
    },
    {
     "name": "stderr",
     "output_type": "stream",
     "text": [
      "[I 2025-05-15 18:07:41,802] Trial 23 pruned. Trial was pruned at iteration 0.\n"
     ]
    },
    {
     "name": "stderr",
     "output_type": "stream",
     "text": [
      "[I 2025-05-15 18:07:42,342] Trial 24 pruned. Trial was pruned at iteration 0.\n"
     ]
    },
    {
     "name": "stderr",
     "output_type": "stream",
     "text": [
      "[I 2025-05-15 18:08:17,764] Trial 25 finished with value: -0.734019 and parameters: {'max_depth': 16, 'min_child_weight': 28, 'subsample': 0.6323659038961531, 'colsample_bynode': 0.7371603325607948, 'learning_rate': 0.09992006675075968}. Best is trial 25 with value: -0.734019.\n"
     ]
    },
    {
     "name": "stderr",
     "output_type": "stream",
     "text": [
      "[I 2025-05-15 18:08:18,282] Trial 26 pruned. Trial was pruned at iteration 0.\n"
     ]
    },
    {
     "name": "stderr",
     "output_type": "stream",
     "text": [
      "[I 2025-05-15 18:08:19,113] Trial 27 pruned. Trial was pruned at iteration 1.\n"
     ]
    },
    {
     "name": "stderr",
     "output_type": "stream",
     "text": [
      "[I 2025-05-15 18:08:19,601] Trial 28 pruned. Trial was pruned at iteration 0.\n"
     ]
    },
    {
     "name": "stderr",
     "output_type": "stream",
     "text": [
      "[I 2025-05-15 18:08:20,044] Trial 29 pruned. Trial was pruned at iteration 0.\n"
     ]
    },
    {
     "name": "stderr",
     "output_type": "stream",
     "text": [
      "[I 2025-05-15 18:08:20,555] Trial 30 pruned. Trial was pruned at iteration 0.\n"
     ]
    },
    {
     "name": "stderr",
     "output_type": "stream",
     "text": [
      "[I 2025-05-15 18:08:41,938] Trial 31 finished with value: -0.735303 and parameters: {'max_depth': 12, 'min_child_weight': 23, 'subsample': 0.7850784888873833, 'colsample_bynode': 0.894626067649236, 'learning_rate': 0.25819326587752506}. Best is trial 31 with value: -0.735303.\n"
     ]
    },
    {
     "name": "stderr",
     "output_type": "stream",
     "text": [
      "[I 2025-05-15 18:09:03,658] Trial 32 finished with value: -0.732356 and parameters: {'max_depth': 16, 'min_child_weight': 20, 'subsample': 0.6307830831964978, 'colsample_bynode': 0.8827646502561779, 'learning_rate': 0.3032315661772948}. Best is trial 31 with value: -0.735303.\n"
     ]
    },
    {
     "name": "stderr",
     "output_type": "stream",
     "text": [
      "[I 2025-05-15 18:09:20,202] Trial 33 finished with value: -0.730274 and parameters: {'max_depth': 14, 'min_child_weight': 19, 'subsample': 0.9076714849587763, 'colsample_bynode': 0.9006007775194949, 'learning_rate': 0.28096159973225676}. Best is trial 31 with value: -0.735303.\n"
     ]
    },
    {
     "name": "stderr",
     "output_type": "stream",
     "text": [
      "[I 2025-05-15 18:09:26,385] Trial 34 pruned. Trial was pruned at iteration 16.\n"
     ]
    },
    {
     "name": "stderr",
     "output_type": "stream",
     "text": [
      "[I 2025-05-15 18:09:26,934] Trial 35 pruned. Trial was pruned at iteration 0.\n"
     ]
    },
    {
     "name": "stderr",
     "output_type": "stream",
     "text": [
      "[I 2025-05-15 18:09:27,469] Trial 36 pruned. Trial was pruned at iteration 0.\n"
     ]
    },
    {
     "name": "stderr",
     "output_type": "stream",
     "text": [
      "[I 2025-05-15 18:09:28,678] Trial 37 pruned. Trial was pruned at iteration 2.\n"
     ]
    },
    {
     "name": "stderr",
     "output_type": "stream",
     "text": [
      "[I 2025-05-15 18:09:29,088] Trial 38 pruned. Trial was pruned at iteration 0.\n"
     ]
    },
    {
     "name": "stderr",
     "output_type": "stream",
     "text": [
      "[I 2025-05-15 18:09:29,558] Trial 39 pruned. Trial was pruned at iteration 0.\n"
     ]
    },
    {
     "name": "stderr",
     "output_type": "stream",
     "text": [
      "[I 2025-05-15 18:09:30,035] Trial 40 pruned. Trial was pruned at iteration 0.\n"
     ]
    },
    {
     "name": "stderr",
     "output_type": "stream",
     "text": [
      "[I 2025-05-15 18:09:45,294] Trial 41 finished with value: -0.731659 and parameters: {'max_depth': 16, 'min_child_weight': 25, 'subsample': 0.6862361707037763, 'colsample_bynode': 0.75565801703951, 'learning_rate': 0.2837364746215892}. Best is trial 31 with value: -0.735303.\n"
     ]
    },
    {
     "name": "stderr",
     "output_type": "stream",
     "text": [
      "[I 2025-05-15 18:10:01,439] Trial 42 finished with value: -0.735482 and parameters: {'max_depth': 16, 'min_child_weight': 34, 'subsample': 0.756185608805739, 'colsample_bynode': 0.6836996471131893, 'learning_rate': 0.3460009517104794}. Best is trial 42 with value: -0.735482.\n"
     ]
    },
    {
     "name": "stderr",
     "output_type": "stream",
     "text": [
      "[I 2025-05-15 18:10:01,999] Trial 43 pruned. Trial was pruned at iteration 0.\n"
     ]
    },
    {
     "name": "stderr",
     "output_type": "stream",
     "text": [
      "[I 2025-05-15 18:10:15,671] Trial 44 pruned. Trial was pruned at iteration 32.\n"
     ]
    },
    {
     "name": "stderr",
     "output_type": "stream",
     "text": [
      "[I 2025-05-15 18:10:26,182] Trial 45 finished with value: -0.730195 and parameters: {'max_depth': 11, 'min_child_weight': 13, 'subsample': 0.5993060885364823, 'colsample_bynode': 0.5941428672383617, 'learning_rate': 0.49631313738378807}. Best is trial 42 with value: -0.735482.\n"
     ]
    },
    {
     "name": "stderr",
     "output_type": "stream",
     "text": [
      "[I 2025-05-15 18:10:26,722] Trial 46 pruned. Trial was pruned at iteration 0.\n"
     ]
    },
    {
     "name": "stderr",
     "output_type": "stream",
     "text": [
      "[I 2025-05-15 18:10:27,192] Trial 47 pruned. Trial was pruned at iteration 0.\n"
     ]
    },
    {
     "name": "stderr",
     "output_type": "stream",
     "text": [
      "[I 2025-05-15 18:10:27,772] Trial 48 pruned. Trial was pruned at iteration 0.\n"
     ]
    },
    {
     "name": "stderr",
     "output_type": "stream",
     "text": [
      "[I 2025-05-15 18:10:48,523] Trial 49 finished with value: -0.734281 and parameters: {'max_depth': 13, 'min_child_weight': 26, 'subsample': 0.9029751517858603, 'colsample_bynode': 0.6017728577668648, 'learning_rate': 0.23699652781388397}. Best is trial 42 with value: -0.735482.\n"
     ]
    }
   ],
   "source": [
    "sampler = optuna.samplers.TPESampler(seed=42)\n",
    "study = optuna.create_study(direction='minimize', sampler=sampler)\n",
    "study.optimize(objective, n_trials=N_TRIALS, gc_after_trial=True)"
   ]
  },
  {
   "cell_type": "code",
   "execution_count": 20,
   "id": "7f7a54ad",
   "metadata": {
    "execution": {
     "iopub.execute_input": "2025-05-15T16:10:49.271739Z",
     "iopub.status.busy": "2025-05-15T16:10:49.271324Z",
     "iopub.status.idle": "2025-05-15T16:10:49.808603Z",
     "shell.execute_reply": "2025-05-15T16:10:49.808223Z"
    },
    "papermill": {
     "duration": 0.737652,
     "end_time": "2025-05-15T16:10:49.809825",
     "exception": false,
     "start_time": "2025-05-15T16:10:49.072173",
     "status": "completed"
    },
    "tags": []
   },
   "outputs": [
    {
     "data": {
      "text/plain": [
       "['/scratch_isilon/groups/singlecell/shared/projects/Inflammation-PBMCs-Atlas/03_downstream_analysis/08_gene_importance/xgboost_external_validation/xgboost_TopN_genes/results_20/study/T_CD4_Naive_13_3_xgboost.pkl']"
      ]
     },
     "execution_count": 20,
     "metadata": {},
     "output_type": "execute_result"
    }
   ],
   "source": [
    "out_dir = here(f'03_downstream_analysis/08_gene_importance/xgboost_external_validation/xgboost_TopN_genes/results_{N_GENES}/study')\n",
    "\n",
    "if not os.path.exists(out_dir):\n",
    "    os.makedirs(out_dir)\n",
    "    \n",
    "joblib.dump(study,os.path.join(out_dir, f'{CELL_TYPE}_{SEED}_{TEST_SPLIT_IDX}_xgboost.pkl'))"
   ]
  },
  {
   "cell_type": "code",
   "execution_count": 21,
   "id": "dba1eaf0",
   "metadata": {
    "execution": {
     "iopub.execute_input": "2025-05-15T16:10:50.125234Z",
     "iopub.status.busy": "2025-05-15T16:10:50.124810Z",
     "iopub.status.idle": "2025-05-15T16:11:00.774405Z",
     "shell.execute_reply": "2025-05-15T16:11:00.773981Z"
    },
    "papermill": {
     "duration": 10.793311,
     "end_time": "2025-05-15T16:11:00.775526",
     "exception": false,
     "start_time": "2025-05-15T16:10:49.982215",
     "status": "completed"
    },
    "tags": []
   },
   "outputs": [
    {
     "data": {
      "text/html": [
       "<style>#sk-container-id-1 {\n",
       "  /* Definition of color scheme common for light and dark mode */\n",
       "  --sklearn-color-text: black;\n",
       "  --sklearn-color-line: gray;\n",
       "  /* Definition of color scheme for unfitted estimators */\n",
       "  --sklearn-color-unfitted-level-0: #fff5e6;\n",
       "  --sklearn-color-unfitted-level-1: #f6e4d2;\n",
       "  --sklearn-color-unfitted-level-2: #ffe0b3;\n",
       "  --sklearn-color-unfitted-level-3: chocolate;\n",
       "  /* Definition of color scheme for fitted estimators */\n",
       "  --sklearn-color-fitted-level-0: #f0f8ff;\n",
       "  --sklearn-color-fitted-level-1: #d4ebff;\n",
       "  --sklearn-color-fitted-level-2: #b3dbfd;\n",
       "  --sklearn-color-fitted-level-3: cornflowerblue;\n",
       "\n",
       "  /* Specific color for light theme */\n",
       "  --sklearn-color-text-on-default-background: var(--sg-text-color, var(--theme-code-foreground, var(--jp-content-font-color1, black)));\n",
       "  --sklearn-color-background: var(--sg-background-color, var(--theme-background, var(--jp-layout-color0, white)));\n",
       "  --sklearn-color-border-box: var(--sg-text-color, var(--theme-code-foreground, var(--jp-content-font-color1, black)));\n",
       "  --sklearn-color-icon: #696969;\n",
       "\n",
       "  @media (prefers-color-scheme: dark) {\n",
       "    /* Redefinition of color scheme for dark theme */\n",
       "    --sklearn-color-text-on-default-background: var(--sg-text-color, var(--theme-code-foreground, var(--jp-content-font-color1, white)));\n",
       "    --sklearn-color-background: var(--sg-background-color, var(--theme-background, var(--jp-layout-color0, #111)));\n",
       "    --sklearn-color-border-box: var(--sg-text-color, var(--theme-code-foreground, var(--jp-content-font-color1, white)));\n",
       "    --sklearn-color-icon: #878787;\n",
       "  }\n",
       "}\n",
       "\n",
       "#sk-container-id-1 {\n",
       "  color: var(--sklearn-color-text);\n",
       "}\n",
       "\n",
       "#sk-container-id-1 pre {\n",
       "  padding: 0;\n",
       "}\n",
       "\n",
       "#sk-container-id-1 input.sk-hidden--visually {\n",
       "  border: 0;\n",
       "  clip: rect(1px 1px 1px 1px);\n",
       "  clip: rect(1px, 1px, 1px, 1px);\n",
       "  height: 1px;\n",
       "  margin: -1px;\n",
       "  overflow: hidden;\n",
       "  padding: 0;\n",
       "  position: absolute;\n",
       "  width: 1px;\n",
       "}\n",
       "\n",
       "#sk-container-id-1 div.sk-dashed-wrapped {\n",
       "  border: 1px dashed var(--sklearn-color-line);\n",
       "  margin: 0 0.4em 0.5em 0.4em;\n",
       "  box-sizing: border-box;\n",
       "  padding-bottom: 0.4em;\n",
       "  background-color: var(--sklearn-color-background);\n",
       "}\n",
       "\n",
       "#sk-container-id-1 div.sk-container {\n",
       "  /* jupyter's `normalize.less` sets `[hidden] { display: none; }`\n",
       "     but bootstrap.min.css set `[hidden] { display: none !important; }`\n",
       "     so we also need the `!important` here to be able to override the\n",
       "     default hidden behavior on the sphinx rendered scikit-learn.org.\n",
       "     See: https://github.com/scikit-learn/scikit-learn/issues/21755 */\n",
       "  display: inline-block !important;\n",
       "  position: relative;\n",
       "}\n",
       "\n",
       "#sk-container-id-1 div.sk-text-repr-fallback {\n",
       "  display: none;\n",
       "}\n",
       "\n",
       "div.sk-parallel-item,\n",
       "div.sk-serial,\n",
       "div.sk-item {\n",
       "  /* draw centered vertical line to link estimators */\n",
       "  background-image: linear-gradient(var(--sklearn-color-text-on-default-background), var(--sklearn-color-text-on-default-background));\n",
       "  background-size: 2px 100%;\n",
       "  background-repeat: no-repeat;\n",
       "  background-position: center center;\n",
       "}\n",
       "\n",
       "/* Parallel-specific style estimator block */\n",
       "\n",
       "#sk-container-id-1 div.sk-parallel-item::after {\n",
       "  content: \"\";\n",
       "  width: 100%;\n",
       "  border-bottom: 2px solid var(--sklearn-color-text-on-default-background);\n",
       "  flex-grow: 1;\n",
       "}\n",
       "\n",
       "#sk-container-id-1 div.sk-parallel {\n",
       "  display: flex;\n",
       "  align-items: stretch;\n",
       "  justify-content: center;\n",
       "  background-color: var(--sklearn-color-background);\n",
       "  position: relative;\n",
       "}\n",
       "\n",
       "#sk-container-id-1 div.sk-parallel-item {\n",
       "  display: flex;\n",
       "  flex-direction: column;\n",
       "}\n",
       "\n",
       "#sk-container-id-1 div.sk-parallel-item:first-child::after {\n",
       "  align-self: flex-end;\n",
       "  width: 50%;\n",
       "}\n",
       "\n",
       "#sk-container-id-1 div.sk-parallel-item:last-child::after {\n",
       "  align-self: flex-start;\n",
       "  width: 50%;\n",
       "}\n",
       "\n",
       "#sk-container-id-1 div.sk-parallel-item:only-child::after {\n",
       "  width: 0;\n",
       "}\n",
       "\n",
       "/* Serial-specific style estimator block */\n",
       "\n",
       "#sk-container-id-1 div.sk-serial {\n",
       "  display: flex;\n",
       "  flex-direction: column;\n",
       "  align-items: center;\n",
       "  background-color: var(--sklearn-color-background);\n",
       "  padding-right: 1em;\n",
       "  padding-left: 1em;\n",
       "}\n",
       "\n",
       "\n",
       "/* Toggleable style: style used for estimator/Pipeline/ColumnTransformer box that is\n",
       "clickable and can be expanded/collapsed.\n",
       "- Pipeline and ColumnTransformer use this feature and define the default style\n",
       "- Estimators will overwrite some part of the style using the `sk-estimator` class\n",
       "*/\n",
       "\n",
       "/* Pipeline and ColumnTransformer style (default) */\n",
       "\n",
       "#sk-container-id-1 div.sk-toggleable {\n",
       "  /* Default theme specific background. It is overwritten whether we have a\n",
       "  specific estimator or a Pipeline/ColumnTransformer */\n",
       "  background-color: var(--sklearn-color-background);\n",
       "}\n",
       "\n",
       "/* Toggleable label */\n",
       "#sk-container-id-1 label.sk-toggleable__label {\n",
       "  cursor: pointer;\n",
       "  display: block;\n",
       "  width: 100%;\n",
       "  margin-bottom: 0;\n",
       "  padding: 0.5em;\n",
       "  box-sizing: border-box;\n",
       "  text-align: center;\n",
       "}\n",
       "\n",
       "#sk-container-id-1 label.sk-toggleable__label-arrow:before {\n",
       "  /* Arrow on the left of the label */\n",
       "  content: \"▸\";\n",
       "  float: left;\n",
       "  margin-right: 0.25em;\n",
       "  color: var(--sklearn-color-icon);\n",
       "}\n",
       "\n",
       "#sk-container-id-1 label.sk-toggleable__label-arrow:hover:before {\n",
       "  color: var(--sklearn-color-text);\n",
       "}\n",
       "\n",
       "/* Toggleable content - dropdown */\n",
       "\n",
       "#sk-container-id-1 div.sk-toggleable__content {\n",
       "  max-height: 0;\n",
       "  max-width: 0;\n",
       "  overflow: hidden;\n",
       "  text-align: left;\n",
       "  /* unfitted */\n",
       "  background-color: var(--sklearn-color-unfitted-level-0);\n",
       "}\n",
       "\n",
       "#sk-container-id-1 div.sk-toggleable__content.fitted {\n",
       "  /* fitted */\n",
       "  background-color: var(--sklearn-color-fitted-level-0);\n",
       "}\n",
       "\n",
       "#sk-container-id-1 div.sk-toggleable__content pre {\n",
       "  margin: 0.2em;\n",
       "  border-radius: 0.25em;\n",
       "  color: var(--sklearn-color-text);\n",
       "  /* unfitted */\n",
       "  background-color: var(--sklearn-color-unfitted-level-0);\n",
       "}\n",
       "\n",
       "#sk-container-id-1 div.sk-toggleable__content.fitted pre {\n",
       "  /* unfitted */\n",
       "  background-color: var(--sklearn-color-fitted-level-0);\n",
       "}\n",
       "\n",
       "#sk-container-id-1 input.sk-toggleable__control:checked~div.sk-toggleable__content {\n",
       "  /* Expand drop-down */\n",
       "  max-height: 200px;\n",
       "  max-width: 100%;\n",
       "  overflow: auto;\n",
       "}\n",
       "\n",
       "#sk-container-id-1 input.sk-toggleable__control:checked~label.sk-toggleable__label-arrow:before {\n",
       "  content: \"▾\";\n",
       "}\n",
       "\n",
       "/* Pipeline/ColumnTransformer-specific style */\n",
       "\n",
       "#sk-container-id-1 div.sk-label input.sk-toggleable__control:checked~label.sk-toggleable__label {\n",
       "  color: var(--sklearn-color-text);\n",
       "  background-color: var(--sklearn-color-unfitted-level-2);\n",
       "}\n",
       "\n",
       "#sk-container-id-1 div.sk-label.fitted input.sk-toggleable__control:checked~label.sk-toggleable__label {\n",
       "  background-color: var(--sklearn-color-fitted-level-2);\n",
       "}\n",
       "\n",
       "/* Estimator-specific style */\n",
       "\n",
       "/* Colorize estimator box */\n",
       "#sk-container-id-1 div.sk-estimator input.sk-toggleable__control:checked~label.sk-toggleable__label {\n",
       "  /* unfitted */\n",
       "  background-color: var(--sklearn-color-unfitted-level-2);\n",
       "}\n",
       "\n",
       "#sk-container-id-1 div.sk-estimator.fitted input.sk-toggleable__control:checked~label.sk-toggleable__label {\n",
       "  /* fitted */\n",
       "  background-color: var(--sklearn-color-fitted-level-2);\n",
       "}\n",
       "\n",
       "#sk-container-id-1 div.sk-label label.sk-toggleable__label,\n",
       "#sk-container-id-1 div.sk-label label {\n",
       "  /* The background is the default theme color */\n",
       "  color: var(--sklearn-color-text-on-default-background);\n",
       "}\n",
       "\n",
       "/* On hover, darken the color of the background */\n",
       "#sk-container-id-1 div.sk-label:hover label.sk-toggleable__label {\n",
       "  color: var(--sklearn-color-text);\n",
       "  background-color: var(--sklearn-color-unfitted-level-2);\n",
       "}\n",
       "\n",
       "/* Label box, darken color on hover, fitted */\n",
       "#sk-container-id-1 div.sk-label.fitted:hover label.sk-toggleable__label.fitted {\n",
       "  color: var(--sklearn-color-text);\n",
       "  background-color: var(--sklearn-color-fitted-level-2);\n",
       "}\n",
       "\n",
       "/* Estimator label */\n",
       "\n",
       "#sk-container-id-1 div.sk-label label {\n",
       "  font-family: monospace;\n",
       "  font-weight: bold;\n",
       "  display: inline-block;\n",
       "  line-height: 1.2em;\n",
       "}\n",
       "\n",
       "#sk-container-id-1 div.sk-label-container {\n",
       "  text-align: center;\n",
       "}\n",
       "\n",
       "/* Estimator-specific */\n",
       "#sk-container-id-1 div.sk-estimator {\n",
       "  font-family: monospace;\n",
       "  border: 1px dotted var(--sklearn-color-border-box);\n",
       "  border-radius: 0.25em;\n",
       "  box-sizing: border-box;\n",
       "  margin-bottom: 0.5em;\n",
       "  /* unfitted */\n",
       "  background-color: var(--sklearn-color-unfitted-level-0);\n",
       "}\n",
       "\n",
       "#sk-container-id-1 div.sk-estimator.fitted {\n",
       "  /* fitted */\n",
       "  background-color: var(--sklearn-color-fitted-level-0);\n",
       "}\n",
       "\n",
       "/* on hover */\n",
       "#sk-container-id-1 div.sk-estimator:hover {\n",
       "  /* unfitted */\n",
       "  background-color: var(--sklearn-color-unfitted-level-2);\n",
       "}\n",
       "\n",
       "#sk-container-id-1 div.sk-estimator.fitted:hover {\n",
       "  /* fitted */\n",
       "  background-color: var(--sklearn-color-fitted-level-2);\n",
       "}\n",
       "\n",
       "/* Specification for estimator info (e.g. \"i\" and \"?\") */\n",
       "\n",
       "/* Common style for \"i\" and \"?\" */\n",
       "\n",
       ".sk-estimator-doc-link,\n",
       "a:link.sk-estimator-doc-link,\n",
       "a:visited.sk-estimator-doc-link {\n",
       "  float: right;\n",
       "  font-size: smaller;\n",
       "  line-height: 1em;\n",
       "  font-family: monospace;\n",
       "  background-color: var(--sklearn-color-background);\n",
       "  border-radius: 1em;\n",
       "  height: 1em;\n",
       "  width: 1em;\n",
       "  text-decoration: none !important;\n",
       "  margin-left: 1ex;\n",
       "  /* unfitted */\n",
       "  border: var(--sklearn-color-unfitted-level-1) 1pt solid;\n",
       "  color: var(--sklearn-color-unfitted-level-1);\n",
       "}\n",
       "\n",
       ".sk-estimator-doc-link.fitted,\n",
       "a:link.sk-estimator-doc-link.fitted,\n",
       "a:visited.sk-estimator-doc-link.fitted {\n",
       "  /* fitted */\n",
       "  border: var(--sklearn-color-fitted-level-1) 1pt solid;\n",
       "  color: var(--sklearn-color-fitted-level-1);\n",
       "}\n",
       "\n",
       "/* On hover */\n",
       "div.sk-estimator:hover .sk-estimator-doc-link:hover,\n",
       ".sk-estimator-doc-link:hover,\n",
       "div.sk-label-container:hover .sk-estimator-doc-link:hover,\n",
       ".sk-estimator-doc-link:hover {\n",
       "  /* unfitted */\n",
       "  background-color: var(--sklearn-color-unfitted-level-3);\n",
       "  color: var(--sklearn-color-background);\n",
       "  text-decoration: none;\n",
       "}\n",
       "\n",
       "div.sk-estimator.fitted:hover .sk-estimator-doc-link.fitted:hover,\n",
       ".sk-estimator-doc-link.fitted:hover,\n",
       "div.sk-label-container:hover .sk-estimator-doc-link.fitted:hover,\n",
       ".sk-estimator-doc-link.fitted:hover {\n",
       "  /* fitted */\n",
       "  background-color: var(--sklearn-color-fitted-level-3);\n",
       "  color: var(--sklearn-color-background);\n",
       "  text-decoration: none;\n",
       "}\n",
       "\n",
       "/* Span, style for the box shown on hovering the info icon */\n",
       ".sk-estimator-doc-link span {\n",
       "  display: none;\n",
       "  z-index: 9999;\n",
       "  position: relative;\n",
       "  font-weight: normal;\n",
       "  right: .2ex;\n",
       "  padding: .5ex;\n",
       "  margin: .5ex;\n",
       "  width: min-content;\n",
       "  min-width: 20ex;\n",
       "  max-width: 50ex;\n",
       "  color: var(--sklearn-color-text);\n",
       "  box-shadow: 2pt 2pt 4pt #999;\n",
       "  /* unfitted */\n",
       "  background: var(--sklearn-color-unfitted-level-0);\n",
       "  border: .5pt solid var(--sklearn-color-unfitted-level-3);\n",
       "}\n",
       "\n",
       ".sk-estimator-doc-link.fitted span {\n",
       "  /* fitted */\n",
       "  background: var(--sklearn-color-fitted-level-0);\n",
       "  border: var(--sklearn-color-fitted-level-3);\n",
       "}\n",
       "\n",
       ".sk-estimator-doc-link:hover span {\n",
       "  display: block;\n",
       "}\n",
       "\n",
       "/* \"?\"-specific style due to the `<a>` HTML tag */\n",
       "\n",
       "#sk-container-id-1 a.estimator_doc_link {\n",
       "  float: right;\n",
       "  font-size: 1rem;\n",
       "  line-height: 1em;\n",
       "  font-family: monospace;\n",
       "  background-color: var(--sklearn-color-background);\n",
       "  border-radius: 1rem;\n",
       "  height: 1rem;\n",
       "  width: 1rem;\n",
       "  text-decoration: none;\n",
       "  /* unfitted */\n",
       "  color: var(--sklearn-color-unfitted-level-1);\n",
       "  border: var(--sklearn-color-unfitted-level-1) 1pt solid;\n",
       "}\n",
       "\n",
       "#sk-container-id-1 a.estimator_doc_link.fitted {\n",
       "  /* fitted */\n",
       "  border: var(--sklearn-color-fitted-level-1) 1pt solid;\n",
       "  color: var(--sklearn-color-fitted-level-1);\n",
       "}\n",
       "\n",
       "/* On hover */\n",
       "#sk-container-id-1 a.estimator_doc_link:hover {\n",
       "  /* unfitted */\n",
       "  background-color: var(--sklearn-color-unfitted-level-3);\n",
       "  color: var(--sklearn-color-background);\n",
       "  text-decoration: none;\n",
       "}\n",
       "\n",
       "#sk-container-id-1 a.estimator_doc_link.fitted:hover {\n",
       "  /* fitted */\n",
       "  background-color: var(--sklearn-color-fitted-level-3);\n",
       "}\n",
       "</style><div id=\"sk-container-id-1\" class=\"sk-top-container\"><div class=\"sk-text-repr-fallback\"><pre>XGBClassifier(base_score=None, booster=None, callbacks=None,\n",
       "              colsample_bylevel=None, colsample_bynode=0.6836996471131893,\n",
       "              colsample_bytree=None, device=None, early_stopping_rounds=None,\n",
       "              enable_categorical=False,\n",
       "              eval_metric=&lt;function custom_f1_score at 0x7f1274d77f60&gt;,\n",
       "              feature_types=None, gamma=None, grow_policy=None,\n",
       "              importance_type=None, interaction_constraints=None,\n",
       "              learning_rate=0.3460009517104794, max_bin=None,\n",
       "              max_cat_threshold=None, max_cat_to_onehot=None,\n",
       "              max_delta_step=None, max_depth=16, max_leaves=None,\n",
       "              min_child_weight=34, missing=nan, monotone_constraints=None,\n",
       "              multi_strategy=None, n_estimators=69, n_jobs=None,\n",
       "              num_parallel_tree=None, objective=&#x27;multi:softprob&#x27;, ...)</pre><b>In a Jupyter environment, please rerun this cell to show the HTML representation or trust the notebook. <br />On GitHub, the HTML representation is unable to render, please try loading this page with nbviewer.org.</b></div><div class=\"sk-container\" hidden><div class=\"sk-item\"><div class=\"sk-estimator fitted sk-toggleable\"><input class=\"sk-toggleable__control sk-hidden--visually\" id=\"sk-estimator-id-1\" type=\"checkbox\" checked><label for=\"sk-estimator-id-1\" class=\"sk-toggleable__label fitted sk-toggleable__label-arrow fitted\">&nbsp;XGBClassifier<span class=\"sk-estimator-doc-link fitted\">i<span>Fitted</span></span></label><div class=\"sk-toggleable__content fitted\"><pre>XGBClassifier(base_score=None, booster=None, callbacks=None,\n",
       "              colsample_bylevel=None, colsample_bynode=0.6836996471131893,\n",
       "              colsample_bytree=None, device=None, early_stopping_rounds=None,\n",
       "              enable_categorical=False,\n",
       "              eval_metric=&lt;function custom_f1_score at 0x7f1274d77f60&gt;,\n",
       "              feature_types=None, gamma=None, grow_policy=None,\n",
       "              importance_type=None, interaction_constraints=None,\n",
       "              learning_rate=0.3460009517104794, max_bin=None,\n",
       "              max_cat_threshold=None, max_cat_to_onehot=None,\n",
       "              max_delta_step=None, max_depth=16, max_leaves=None,\n",
       "              min_child_weight=34, missing=nan, monotone_constraints=None,\n",
       "              multi_strategy=None, n_estimators=69, n_jobs=None,\n",
       "              num_parallel_tree=None, objective=&#x27;multi:softprob&#x27;, ...)</pre></div> </div></div></div></div>"
      ],
      "text/plain": [
       "XGBClassifier(base_score=None, booster=None, callbacks=None,\n",
       "              colsample_bylevel=None, colsample_bynode=0.6836996471131893,\n",
       "              colsample_bytree=None, device=None, early_stopping_rounds=None,\n",
       "              enable_categorical=False,\n",
       "              eval_metric=<function custom_f1_score at 0x7f1274d77f60>,\n",
       "              feature_types=None, gamma=None, grow_policy=None,\n",
       "              importance_type=None, interaction_constraints=None,\n",
       "              learning_rate=0.3460009517104794, max_bin=None,\n",
       "              max_cat_threshold=None, max_cat_to_onehot=None,\n",
       "              max_delta_step=None, max_depth=16, max_leaves=None,\n",
       "              min_child_weight=34, missing=nan, monotone_constraints=None,\n",
       "              multi_strategy=None, n_estimators=69, n_jobs=None,\n",
       "              num_parallel_tree=None, objective='multi:softprob', ...)"
      ]
     },
     "execution_count": 21,
     "metadata": {},
     "output_type": "execute_result"
    }
   ],
   "source": [
    "n_estimators = int(study.best_trial.user_attrs['best_iteration']*1.2)\n",
    "xgb = xgboost.XGBClassifier(\n",
    "        eval_metric=eval_metric,\n",
    "        n_estimators=n_estimators,\n",
    "        **study.best_trial.params\n",
    "    )\n",
    "xgb.fit(\n",
    "    ssp.vstack((X_train, X_val)), \n",
    "    np.concatenate((y_train_enc, y_val_enc)),\n",
    "    verbose=1,\n",
    ")"
   ]
  },
  {
   "cell_type": "code",
   "execution_count": 22,
   "id": "e21ef7f1",
   "metadata": {
    "execution": {
     "iopub.execute_input": "2025-05-15T16:11:00.795463Z",
     "iopub.status.busy": "2025-05-15T16:11:00.795069Z",
     "iopub.status.idle": "2025-05-15T16:11:00.834825Z",
     "shell.execute_reply": "2025-05-15T16:11:00.834441Z"
    },
    "papermill": {
     "duration": 0.050549,
     "end_time": "2025-05-15T16:11:00.835929",
     "exception": false,
     "start_time": "2025-05-15T16:11:00.785380",
     "status": "completed"
    },
    "tags": []
   },
   "outputs": [
    {
     "data": {
      "text/plain": [
       "['/scratch_isilon/groups/singlecell/shared/projects/Inflammation-PBMCs-Atlas/03_downstream_analysis/08_gene_importance/xgboost_external_validation/xgboost_TopN_genes/results_20/best_model/T_CD4_Naive_13_3_xgb.json']"
      ]
     },
     "execution_count": 22,
     "metadata": {},
     "output_type": "execute_result"
    }
   ],
   "source": [
    "out_dir = here(f'03_downstream_analysis/08_gene_importance/xgboost_external_validation/xgboost_TopN_genes/results_{N_GENES}/best_model')\n",
    "\n",
    "if not os.path.exists(out_dir):\n",
    "    os.makedirs(out_dir)\n",
    "    \n",
    "joblib.dump(xgb, os.path.join(out_dir, f'{CELL_TYPE}_{SEED}_{TEST_SPLIT_IDX}_xgb.json'))"
   ]
  },
  {
   "cell_type": "code",
   "execution_count": 23,
   "id": "bcf48f6f",
   "metadata": {
    "execution": {
     "iopub.execute_input": "2025-05-15T16:11:00.856263Z",
     "iopub.status.busy": "2025-05-15T16:11:00.855886Z",
     "iopub.status.idle": "2025-05-15T16:11:01.155160Z",
     "shell.execute_reply": "2025-05-15T16:11:01.154698Z"
    },
    "papermill": {
     "duration": 0.310639,
     "end_time": "2025-05-15T16:11:01.156671",
     "exception": false,
     "start_time": "2025-05-15T16:11:00.846032",
     "status": "completed"
    },
    "tags": []
   },
   "outputs": [],
   "source": [
    "df_pred_test = pd.DataFrame(dict(\n",
    "    cell_id=train_adata.obs.iloc[test_idxs].index.values,\n",
    "    y_true=y_test, \n",
    "    y_true_code=y_test_enc, \n",
    "    y_pred=xgb.predict(X_test))).set_index('cell_id')"
   ]
  },
  {
   "cell_type": "code",
   "execution_count": 24,
   "id": "e9e864d7",
   "metadata": {
    "execution": {
     "iopub.execute_input": "2025-05-15T16:11:01.176628Z",
     "iopub.status.busy": "2025-05-15T16:11:01.176256Z",
     "iopub.status.idle": "2025-05-15T16:11:01.283166Z",
     "shell.execute_reply": "2025-05-15T16:11:01.282643Z"
    },
    "papermill": {
     "duration": 0.118298,
     "end_time": "2025-05-15T16:11:01.284656",
     "exception": false,
     "start_time": "2025-05-15T16:11:01.166358",
     "status": "completed"
    },
    "tags": []
   },
   "outputs": [],
   "source": [
    "out_dir = here(f'03_downstream_analysis/08_gene_importance/xgboost_external_validation/xgboost_TopN_genes/results_{N_GENES}/predictions')\n",
    "\n",
    "if not os.path.exists(out_dir):\n",
    "    os.makedirs(out_dir)\n",
    "    \n",
    "df_pred_test.to_csv(os.path.join(out_dir, f'{CELL_TYPE}_{SEED}_{TEST_SPLIT_IDX}_pred_test.zip'))"
   ]
  },
  {
   "cell_type": "code",
   "execution_count": 25,
   "id": "1b2616a3",
   "metadata": {
    "execution": {
     "iopub.execute_input": "2025-05-15T16:11:01.320206Z",
     "iopub.status.busy": "2025-05-15T16:11:01.319788Z",
     "iopub.status.idle": "2025-05-15T16:11:01.336169Z",
     "shell.execute_reply": "2025-05-15T16:11:01.335810Z"
    },
    "papermill": {
     "duration": 0.042024,
     "end_time": "2025-05-15T16:11:01.336998",
     "exception": false,
     "start_time": "2025-05-15T16:11:01.294974",
     "status": "completed"
    },
    "tags": []
   },
   "outputs": [
    {
     "name": "stderr",
     "output_type": "stream",
     "text": [
      "/scratch_isilon/groups/singlecell/shared/conda_env/xgboost-cpu/lib/python3.12/site-packages/sklearn/metrics/_classification.py:2466: UserWarning: y_pred contains classes not in y_true\n",
      "  warnings.warn(\"y_pred contains classes not in y_true\")\n"
     ]
    }
   ],
   "source": [
    "metrics_dict = dict(\n",
    "    BAS=balanced_accuracy_score(y_true=df_pred_test.y_true_code, y_pred=df_pred_test.y_pred), WF1=f1_score(y_true=df_pred_test.y_true_code, y_pred=df_pred_test.y_pred,average='weighted'))"
   ]
  },
  {
   "cell_type": "code",
   "execution_count": 26,
   "id": "9d923367",
   "metadata": {
    "execution": {
     "iopub.execute_input": "2025-05-15T16:11:01.357148Z",
     "iopub.status.busy": "2025-05-15T16:11:01.356753Z",
     "iopub.status.idle": "2025-05-15T16:11:01.359971Z",
     "shell.execute_reply": "2025-05-15T16:11:01.359668Z"
    },
    "papermill": {
     "duration": 0.014539,
     "end_time": "2025-05-15T16:11:01.360801",
     "exception": false,
     "start_time": "2025-05-15T16:11:01.346262",
     "status": "completed"
    },
    "tags": []
   },
   "outputs": [
    {
     "data": {
      "text/plain": [
       "{'BAS': 0.5476590362955854, 'WF1': 0.6777595377008369}"
      ]
     },
     "execution_count": 26,
     "metadata": {},
     "output_type": "execute_result"
    }
   ],
   "source": [
    "metrics_dict"
   ]
  },
  {
   "cell_type": "code",
   "execution_count": 27,
   "id": "d49ca9d4",
   "metadata": {
    "execution": {
     "iopub.execute_input": "2025-05-15T16:11:01.380540Z",
     "iopub.status.busy": "2025-05-15T16:11:01.380118Z",
     "iopub.status.idle": "2025-05-15T16:11:01.390642Z",
     "shell.execute_reply": "2025-05-15T16:11:01.390317Z"
    },
    "papermill": {
     "duration": 0.021926,
     "end_time": "2025-05-15T16:11:01.391443",
     "exception": false,
     "start_time": "2025-05-15T16:11:01.369517",
     "status": "completed"
    },
    "tags": []
   },
   "outputs": [
    {
     "data": {
      "text/html": [
       "<div>\n",
       "<style scoped>\n",
       "    .dataframe tbody tr th:only-of-type {\n",
       "        vertical-align: middle;\n",
       "    }\n",
       "\n",
       "    .dataframe tbody tr th {\n",
       "        vertical-align: top;\n",
       "    }\n",
       "\n",
       "    .dataframe thead th {\n",
       "        text-align: right;\n",
       "    }\n",
       "</style>\n",
       "<table border=\"1\" class=\"dataframe\">\n",
       "  <thead>\n",
       "    <tr style=\"text-align: right;\">\n",
       "      <th></th>\n",
       "      <th>BAS</th>\n",
       "      <th>WF1</th>\n",
       "      <th>split_idx</th>\n",
       "      <th>gene_set_seed</th>\n",
       "      <th>cell_type</th>\n",
       "    </tr>\n",
       "  </thead>\n",
       "  <tbody>\n",
       "    <tr>\n",
       "      <th>0</th>\n",
       "      <td>0.547659</td>\n",
       "      <td>0.67776</td>\n",
       "      <td>3</td>\n",
       "      <td>13</td>\n",
       "      <td>T_CD4_Naive</td>\n",
       "    </tr>\n",
       "  </tbody>\n",
       "</table>\n",
       "</div>"
      ],
      "text/plain": [
       "        BAS      WF1  split_idx  gene_set_seed    cell_type\n",
       "0  0.547659  0.67776          3             13  T_CD4_Naive"
      ]
     },
     "execution_count": 27,
     "metadata": {},
     "output_type": "execute_result"
    }
   ],
   "source": [
    "metrics_df = pd.DataFrame.from_dict([metrics_dict]).assign(split_idx=TEST_SPLIT_IDX, gene_set_seed=SEED, cell_type=CELL_TYPE)\n",
    "metrics_df"
   ]
  },
  {
   "cell_type": "code",
   "execution_count": 28,
   "id": "a3f14e91",
   "metadata": {
    "execution": {
     "iopub.execute_input": "2025-05-15T16:11:01.411989Z",
     "iopub.status.busy": "2025-05-15T16:11:01.411669Z",
     "iopub.status.idle": "2025-05-15T16:11:01.420646Z",
     "shell.execute_reply": "2025-05-15T16:11:01.420303Z"
    },
    "papermill": {
     "duration": 0.020728,
     "end_time": "2025-05-15T16:11:01.421510",
     "exception": false,
     "start_time": "2025-05-15T16:11:01.400782",
     "status": "completed"
    },
    "tags": []
   },
   "outputs": [],
   "source": [
    "out_dir = here(f'03_downstream_analysis/08_gene_importance/xgboost_external_validation/xgboost_TopN_genes/results_{N_GENES}/metrics')\n",
    "\n",
    "if not os.path.exists(out_dir):\n",
    "    os.makedirs(out_dir)\n",
    "    \n",
    "metrics_df.to_csv(os.path.join(out_dir, f'{CELL_TYPE}_{SEED}_{TEST_SPLIT_IDX}_metrics.zip'))"
   ]
  }
 ],
 "metadata": {
  "kernelspec": {
   "display_name": "Python 3 (ipykernel)",
   "language": "python",
   "name": "python3"
  },
  "language_info": {
   "codemirror_mode": {
    "name": "ipython",
    "version": 3
   },
   "file_extension": ".py",
   "mimetype": "text/x-python",
   "name": "python",
   "nbconvert_exporter": "python",
   "pygments_lexer": "ipython3",
   "version": "3.12.5"
  },
  "papermill": {
   "default_parameters": {},
   "duration": 545.873863,
   "end_time": "2025-05-15T16:11:02.347331",
   "environment_variables": {},
   "exception": null,
   "input_path": "02_xgboost_fitting_external_20genes.ipynb",
   "output_path": "results_20/executed_notebooks/xgboost_fitting_external_CT_T_CD4_Naive_GS_13_seed3.ipynb",
   "parameters": {
    "CELL_TYPE": "T_CD4_Naive",
    "SEED": 13,
    "TEST_SPLIT_IDX": 3
   },
   "start_time": "2025-05-15T16:01:56.473468",
   "version": "2.6.0"
  }
 },
 "nbformat": 4,
 "nbformat_minor": 5
}