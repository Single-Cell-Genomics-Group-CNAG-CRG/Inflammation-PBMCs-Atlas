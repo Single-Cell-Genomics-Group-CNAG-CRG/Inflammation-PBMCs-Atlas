{
 "cells": [
  {
   "cell_type": "code",
   "execution_count": 1,
   "id": "b4034212",
   "metadata": {
    "editable": true,
    "execution": {
     "iopub.execute_input": "2025-05-15T16:15:55.793861Z",
     "iopub.status.busy": "2025-05-15T16:15:55.793369Z",
     "iopub.status.idle": "2025-05-15T16:15:55.797232Z",
     "shell.execute_reply": "2025-05-15T16:15:55.796863Z"
    },
    "papermill": {
     "duration": 0.013966,
     "end_time": "2025-05-15T16:15:55.798306",
     "exception": false,
     "start_time": "2025-05-15T16:15:55.784340",
     "status": "completed"
    },
    "slideshow": {
     "slide_type": ""
    },
    "tags": [
     "parameters"
    ]
   },
   "outputs": [],
   "source": [
    "CELL_TYPE = 'pDC'\n",
    "N_GENES: int = 20\n",
    "SEED = 'shap_studyID' #'disease_NOstudy' 'study_NOdisease' or 'int' or 'shap_studyID'\n",
    "TEST_SPLIT_IDX: int = 1 #[0,4]"
   ]
  },
  {
   "cell_type": "code",
   "execution_count": 2,
   "id": "bc1f7025",
   "metadata": {
    "execution": {
     "iopub.execute_input": "2025-05-15T16:15:55.813607Z",
     "iopub.status.busy": "2025-05-15T16:15:55.813206Z",
     "iopub.status.idle": "2025-05-15T16:15:55.816316Z",
     "shell.execute_reply": "2025-05-15T16:15:55.815953Z"
    },
    "papermill": {
     "duration": 0.011893,
     "end_time": "2025-05-15T16:15:55.817303",
     "exception": false,
     "start_time": "2025-05-15T16:15:55.805410",
     "status": "completed"
    },
    "tags": [
     "injected-parameters"
    ]
   },
   "outputs": [],
   "source": [
    "# Parameters\n",
    "CELL_TYPE = \"pDC\"\n",
    "SEED = 7\n",
    "TEST_SPLIT_IDX = 2\n"
   ]
  },
  {
   "cell_type": "code",
   "execution_count": 3,
   "id": "1d98f039",
   "metadata": {
    "execution": {
     "iopub.execute_input": "2025-05-15T16:15:55.831670Z",
     "iopub.status.busy": "2025-05-15T16:15:55.831394Z",
     "iopub.status.idle": "2025-05-15T16:15:55.834060Z",
     "shell.execute_reply": "2025-05-15T16:15:55.833692Z"
    },
    "papermill": {
     "duration": 0.010863,
     "end_time": "2025-05-15T16:15:55.834997",
     "exception": false,
     "start_time": "2025-05-15T16:15:55.824134",
     "status": "completed"
    },
    "tags": []
   },
   "outputs": [],
   "source": [
    "N_SPLITS: int = 5\n",
    "N_TRIALS: int = 50"
   ]
  },
  {
   "cell_type": "code",
   "execution_count": 4,
   "id": "ce395693",
   "metadata": {
    "execution": {
     "iopub.execute_input": "2025-05-15T16:15:55.850768Z",
     "iopub.status.busy": "2025-05-15T16:15:55.850359Z",
     "iopub.status.idle": "2025-05-15T16:15:57.554741Z",
     "shell.execute_reply": "2025-05-15T16:15:57.554132Z"
    },
    "papermill": {
     "duration": 1.715433,
     "end_time": "2025-05-15T16:15:57.556411",
     "exception": false,
     "start_time": "2025-05-15T16:15:55.840978",
     "status": "completed"
    },
    "tags": []
   },
   "outputs": [],
   "source": [
    "import os\n",
    "import sys\n",
    "from pyprojroot.here import here\n",
    "import pandas as pd\n",
    "import anndata as ad\n",
    "import numpy as np\n",
    "import math\n",
    "from sklearn.model_selection import StratifiedGroupKFold\n",
    "from sklearn.preprocessing import LabelEncoder\n",
    "from sklearn.metrics import f1_score\n",
    "import matplotlib.pyplot as plt\n",
    "import seaborn as sns\n",
    "from itertools import product\n",
    "from sklearn.metrics import balanced_accuracy_score, f1_score\n",
    "import optuna\n",
    "\n",
    "import joblib\n",
    "import pickle\n",
    "import datetime\n",
    "\n",
    "import collections\n",
    "\n",
    "import xgboost\n",
    "from sklearn.preprocessing import LabelEncoder\n",
    "\n",
    "import scipy.sparse as ssp\n",
    "import joblib\n",
    "\n",
    "from dotenv import load_dotenv"
   ]
  },
  {
   "cell_type": "code",
   "execution_count": 5,
   "id": "69bd2652",
   "metadata": {
    "execution": {
     "iopub.execute_input": "2025-05-15T16:15:57.584831Z",
     "iopub.status.busy": "2025-05-15T16:15:57.583789Z",
     "iopub.status.idle": "2025-05-15T16:15:57.591768Z",
     "shell.execute_reply": "2025-05-15T16:15:57.591337Z"
    },
    "papermill": {
     "duration": 0.017035,
     "end_time": "2025-05-15T16:15:57.592820",
     "exception": false,
     "start_time": "2025-05-15T16:15:57.575785",
     "status": "completed"
    },
    "tags": []
   },
   "outputs": [
    {
     "data": {
      "text/plain": [
       "True"
      ]
     },
     "execution_count": 5,
     "metadata": {},
     "output_type": "execute_result"
    }
   ],
   "source": [
    "load_dotenv()"
   ]
  },
  {
   "cell_type": "markdown",
   "id": "4de3f1b1",
   "metadata": {
    "papermill": {
     "duration": 0.007521,
     "end_time": "2025-05-15T16:15:57.607934",
     "exception": false,
     "start_time": "2025-05-15T16:15:57.600413",
     "status": "completed"
    },
    "tags": []
   },
   "source": [
    "# LOAD DATASET"
   ]
  },
  {
   "cell_type": "code",
   "execution_count": 6,
   "id": "0223def9",
   "metadata": {
    "execution": {
     "iopub.execute_input": "2025-05-15T16:15:57.623237Z",
     "iopub.status.busy": "2025-05-15T16:15:57.622876Z",
     "iopub.status.idle": "2025-05-15T16:15:57.693416Z",
     "shell.execute_reply": "2025-05-15T16:15:57.692869Z"
    },
    "papermill": {
     "duration": 0.0804,
     "end_time": "2025-05-15T16:15:57.694856",
     "exception": false,
     "start_time": "2025-05-15T16:15:57.614456",
     "status": "completed"
    },
    "tags": []
   },
   "outputs": [],
   "source": [
    "train_adata = ad.read_h5ad(\n",
    "    here(f'03_downstream_analysis/08_gene_importance/xgboost_external_validation/xgboost_TopN_genes/data_cellTypes/EXTERNAL_{CELL_TYPE}.filtered.log1p.h5ad')\n",
    ")"
   ]
  },
  {
   "cell_type": "code",
   "execution_count": 7,
   "id": "08f8a576",
   "metadata": {
    "execution": {
     "iopub.execute_input": "2025-05-15T16:15:57.709124Z",
     "iopub.status.busy": "2025-05-15T16:15:57.708649Z",
     "iopub.status.idle": "2025-05-15T16:15:57.720068Z",
     "shell.execute_reply": "2025-05-15T16:15:57.719613Z"
    },
    "papermill": {
     "duration": 0.019342,
     "end_time": "2025-05-15T16:15:57.721150",
     "exception": false,
     "start_time": "2025-05-15T16:15:57.701808",
     "status": "completed"
    },
    "tags": []
   },
   "outputs": [
    {
     "name": "stdout",
     "output_type": "stream",
     "text": [
      "['ENSG00000141367' 'ENSG00000205542' 'ENSG00000127022' 'ENSG00000184007'\n",
      " 'ENSG00000169442' 'ENSG00000145912' 'ENSG00000160213' 'ENSG00000089327'\n",
      " 'ENSG00000140105' 'ENSG00000144802' 'ENSG00000138378' 'ENSG00000171150'\n",
      " 'ENSG00000164543' 'ENSG00000106066' 'ENSG00000185591' 'ENSG00000156411'\n",
      " 'ENSG00000150782' 'ENSG00000100906' 'ENSG00000160932' 'ENSG00000134285'\n",
      " 'ENSG00000002549' 'ENSG00000143119' 'ENSG00000123358' 'ENSG00000122862'\n",
      " 'ENSG00000027697' 'ENSG00000108622' 'ENSG00000132965' 'ENSG00000101347'\n",
      " 'ENSG00000118260' 'ENSG00000198369' 'ENSG00000175567' 'ENSG00000153234'\n",
      " 'ENSG00000138623' 'ENSG00000157483' 'ENSG00000168461' 'ENSG00000153898'\n",
      " 'ENSG00000157873' 'ENSG00000172183' 'ENSG00000179218' 'ENSG00000134352'\n",
      " 'ENSG00000204267' 'ENSG00000197471' 'ENSG00000136738' 'ENSG00000133872'\n",
      " 'ENSG00000109861' 'ENSG00000231389' 'ENSG00000125148' 'ENSG00000033800'\n",
      " 'ENSG00000172009' 'ENSG00000160710' 'ENSG00000130429' 'ENSG00000135968'\n",
      " 'ENSG00000104964' 'ENSG00000177556' 'ENSG00000126267' 'ENSG00000110077'\n",
      " 'ENSG00000108518' 'ENSG00000139192' 'ENSG00000130755' 'ENSG00000164307'\n",
      " 'ENSG00000165272' 'ENSG00000089127' 'ENSG00000163563' 'ENSG00000271503'\n",
      " 'ENSG00000152700' 'ENSG00000204264' 'ENSG00000114423' 'ENSG00000005339'\n",
      " 'ENSG00000119922' 'ENSG00000101608' 'ENSG00000104856' 'ENSG00000160223'\n",
      " 'ENSG00000241837' 'ENSG00000235162' 'ENSG00000109321' 'ENSG00000127184'\n",
      " 'ENSG00000100393' 'ENSG00000104660' 'ENSG00000196154' 'ENSG00000175482'\n",
      " 'ENSG00000145220' 'ENSG00000135046' 'ENSG00000171700' 'ENSG00000163513'\n",
      " 'ENSG00000085265' 'ENSG00000111321' 'ENSG00000104870' 'ENSG00000158869'\n",
      " 'ENSG00000042753' 'ENSG00000197102' 'ENSG00000145675' 'ENSG00000132002'\n",
      " 'ENSG00000113441' 'ENSG00000173812' 'ENSG00000069399' 'ENSG00000130066'\n",
      " 'ENSG00000126759' 'ENSG00000205220' 'ENSG00000082074' 'ENSG00000163660'\n",
      " 'ENSG00000185436' 'ENSG00000149311' 'ENSG00000254087' 'ENSG00000140264'\n",
      " 'ENSG00000132510' 'ENSG00000264364' 'ENSG00000090382' 'ENSG00000119655'\n",
      " 'ENSG00000104904' 'ENSG00000165527' 'ENSG00000038427' 'ENSG00000164308']\n"
     ]
    }
   ],
   "source": [
    "if SEED != 'all':\n",
    "    gene_subset = np.load(here(f'03_downstream_analysis/08_gene_importance/xgboost_external_validation/shap_gene_selection/gene_subsets_{N_GENES}/{CELL_TYPE}_{SEED}.npy'), allow_pickle=True)\n",
    "    train_adata = train_adata[:,gene_subset]\n",
    "    print(gene_subset)\n",
    "elif SEED == 'all':\n",
    "    print('Using all genes')\n",
    "else:\n",
    "    raise ValueError()"
   ]
  },
  {
   "cell_type": "code",
   "execution_count": 8,
   "id": "f0fb7c78",
   "metadata": {
    "execution": {
     "iopub.execute_input": "2025-05-15T16:15:57.736656Z",
     "iopub.status.busy": "2025-05-15T16:15:57.735742Z",
     "iopub.status.idle": "2025-05-15T16:15:57.740415Z",
     "shell.execute_reply": "2025-05-15T16:15:57.739890Z"
    },
    "papermill": {
     "duration": 0.013963,
     "end_time": "2025-05-15T16:15:57.741622",
     "exception": false,
     "start_time": "2025-05-15T16:15:57.727659",
     "status": "completed"
    },
    "tags": []
   },
   "outputs": [
    {
     "data": {
      "text/plain": [
       "(2320, 112)"
      ]
     },
     "execution_count": 8,
     "metadata": {},
     "output_type": "execute_result"
    }
   ],
   "source": [
    "train_adata.shape"
   ]
  },
  {
   "cell_type": "code",
   "execution_count": 9,
   "id": "cd815cf6",
   "metadata": {
    "execution": {
     "iopub.execute_input": "2025-05-15T16:15:57.767884Z",
     "iopub.status.busy": "2025-05-15T16:15:57.767532Z",
     "iopub.status.idle": "2025-05-15T16:15:57.773240Z",
     "shell.execute_reply": "2025-05-15T16:15:57.772798Z"
    },
    "papermill": {
     "duration": 0.02293,
     "end_time": "2025-05-15T16:15:57.774311",
     "exception": false,
     "start_time": "2025-05-15T16:15:57.751381",
     "status": "completed"
    },
    "tags": []
   },
   "outputs": [
    {
     "data": {
      "text/plain": [
       "['RA', 'healthy', 'COVID', 'HIV', 'cirrhosis', 'CD', 'SLE', 'sepsis']\n",
       "Categories (8, object): ['CD', 'COVID', 'HIV', 'RA', 'SLE', 'cirrhosis', 'healthy', 'sepsis']"
      ]
     },
     "execution_count": 9,
     "metadata": {},
     "output_type": "execute_result"
    }
   ],
   "source": [
    "train_adata.obs.disease.unique()"
   ]
  },
  {
   "cell_type": "code",
   "execution_count": 10,
   "id": "55844f68",
   "metadata": {
    "execution": {
     "iopub.execute_input": "2025-05-15T16:15:57.789534Z",
     "iopub.status.busy": "2025-05-15T16:15:57.789168Z",
     "iopub.status.idle": "2025-05-15T16:15:57.794485Z",
     "shell.execute_reply": "2025-05-15T16:15:57.794069Z"
    },
    "papermill": {
     "duration": 0.014062,
     "end_time": "2025-05-15T16:15:57.795461",
     "exception": false,
     "start_time": "2025-05-15T16:15:57.781399",
     "status": "completed"
    },
    "tags": []
   },
   "outputs": [
    {
     "data": {
      "text/plain": [
       "['SCGT00val_I036023_T0', 'SCGT00val_I036024_T0', 'SCGT00val_I0364_T0', 'SCGT00val_I036015_T0', 'SCGT00val_I036019_T0', ..., '10XGenomics_10XHC2_T0', '10XGenomics_10XHC3_T0', '10XGenomics_10XHC5_T0', '10XGenomics_10XHC7_T0', '10XGenomics_10XHC8_T0']\n",
       "Length: 77\n",
       "Categories (77, object): ['10XGenomics_10XHC1_T0', '10XGenomics_10XHC2_T0', '10XGenomics_10XHC3_T0', '10XGenomics_10XHC4_T0', ..., 'Savage2021_BRISL6_T0', 'Savage2021_BRISL7_T0', 'Savage2021_PIDA_T0', 'Savage2021_PIDB_T0']"
      ]
     },
     "execution_count": 10,
     "metadata": {},
     "output_type": "execute_result"
    }
   ],
   "source": [
    "train_adata.obs.sampleID.unique()"
   ]
  },
  {
   "cell_type": "code",
   "execution_count": 11,
   "id": "18b65aac",
   "metadata": {
    "execution": {
     "iopub.execute_input": "2025-05-15T16:15:57.810000Z",
     "iopub.status.busy": "2025-05-15T16:15:57.809645Z",
     "iopub.status.idle": "2025-05-15T16:15:57.848952Z",
     "shell.execute_reply": "2025-05-15T16:15:57.848527Z"
    },
    "papermill": {
     "duration": 0.047689,
     "end_time": "2025-05-15T16:15:57.850018",
     "exception": false,
     "start_time": "2025-05-15T16:15:57.802329",
     "status": "completed"
    },
    "tags": []
   },
   "outputs": [
    {
     "name": "stderr",
     "output_type": "stream",
     "text": [
      "/scratch_isilon/groups/singlecell/shared/conda_env/xgboost-cpu/lib/python3.12/site-packages/sklearn/model_selection/_split.py:994: UserWarning: The least populated class in y has only 4 members, which is less than n_splits=5.\n",
      "  warnings.warn(\n"
     ]
    }
   ],
   "source": [
    "all_idxs = np.arange(train_adata.obs.shape[0])\n",
    "left_out_splits = [s[1] for s in StratifiedGroupKFold(n_splits=N_SPLITS).split(all_idxs, train_adata.obs.disease, train_adata.obs.sampleID)]"
   ]
  },
  {
   "cell_type": "code",
   "execution_count": 12,
   "id": "db9ec2d0",
   "metadata": {
    "execution": {
     "iopub.execute_input": "2025-05-15T16:15:57.865531Z",
     "iopub.status.busy": "2025-05-15T16:15:57.865132Z",
     "iopub.status.idle": "2025-05-15T16:15:57.869644Z",
     "shell.execute_reply": "2025-05-15T16:15:57.869274Z"
    },
    "papermill": {
     "duration": 0.013052,
     "end_time": "2025-05-15T16:15:57.870617",
     "exception": false,
     "start_time": "2025-05-15T16:15:57.857565",
     "status": "completed"
    },
    "tags": []
   },
   "outputs": [
    {
     "data": {
      "text/plain": [
       "([0, 1, 4], 3, 2)"
      ]
     },
     "execution_count": 12,
     "metadata": {},
     "output_type": "execute_result"
    }
   ],
   "source": [
    "TRAIN_SPLIT_IDXS = [0,1,2,3,4]\n",
    "VAL_SPLIT_IDX = (TEST_SPLIT_IDX + 1) % 5\n",
    "TRAIN_SPLIT_IDXS.remove(TEST_SPLIT_IDX)\n",
    "TRAIN_SPLIT_IDXS.remove(VAL_SPLIT_IDX)\n",
    "TRAIN_SPLIT_IDXS, VAL_SPLIT_IDX, TEST_SPLIT_IDX"
   ]
  },
  {
   "cell_type": "code",
   "execution_count": 13,
   "id": "918531ef",
   "metadata": {
    "execution": {
     "iopub.execute_input": "2025-05-15T16:15:57.895525Z",
     "iopub.status.busy": "2025-05-15T16:15:57.895047Z",
     "iopub.status.idle": "2025-05-15T16:15:57.898423Z",
     "shell.execute_reply": "2025-05-15T16:15:57.898053Z"
    },
    "papermill": {
     "duration": 0.021512,
     "end_time": "2025-05-15T16:15:57.899413",
     "exception": false,
     "start_time": "2025-05-15T16:15:57.877901",
     "status": "completed"
    },
    "tags": []
   },
   "outputs": [],
   "source": [
    "train_idxs = np.concatenate([left_out_splits[idx] for idx in TRAIN_SPLIT_IDXS])\n",
    "val_idxs = left_out_splits[VAL_SPLIT_IDX]\n",
    "test_idxs = left_out_splits[TEST_SPLIT_IDX]"
   ]
  },
  {
   "cell_type": "markdown",
   "id": "8e2b02a3",
   "metadata": {
    "papermill": {
     "duration": 0.006518,
     "end_time": "2025-05-15T16:15:57.913125",
     "exception": false,
     "start_time": "2025-05-15T16:15:57.906607",
     "status": "completed"
    },
    "tags": []
   },
   "source": [
    "### SUBSET DATASET INTO TRAIN/TEST/VAL SPLITS"
   ]
  },
  {
   "cell_type": "code",
   "execution_count": 14,
   "id": "2832aa03",
   "metadata": {
    "execution": {
     "iopub.execute_input": "2025-05-15T16:15:57.928686Z",
     "iopub.status.busy": "2025-05-15T16:15:57.928213Z",
     "iopub.status.idle": "2025-05-15T16:15:57.944008Z",
     "shell.execute_reply": "2025-05-15T16:15:57.943595Z"
    },
    "papermill": {
     "duration": 0.02522,
     "end_time": "2025-05-15T16:15:57.945267",
     "exception": false,
     "start_time": "2025-05-15T16:15:57.920047",
     "status": "completed"
    },
    "tags": []
   },
   "outputs": [
    {
     "data": {
      "text/plain": [
       "((1353, 112), (481, 112), (486, 112))"
      ]
     },
     "execution_count": 14,
     "metadata": {},
     "output_type": "execute_result"
    }
   ],
   "source": [
    "X_train = train_adata.X[train_idxs]\n",
    "X_test = train_adata.X[test_idxs]\n",
    "X_val = train_adata.X[val_idxs]\n",
    "X_train.shape, X_test.shape, X_val.shape"
   ]
  },
  {
   "cell_type": "code",
   "execution_count": 15,
   "id": "b4b4c3a7",
   "metadata": {
    "execution": {
     "iopub.execute_input": "2025-05-15T16:15:57.975681Z",
     "iopub.status.busy": "2025-05-15T16:15:57.974934Z",
     "iopub.status.idle": "2025-05-15T16:15:57.981120Z",
     "shell.execute_reply": "2025-05-15T16:15:57.980752Z"
    },
    "papermill": {
     "duration": 0.029314,
     "end_time": "2025-05-15T16:15:57.982157",
     "exception": false,
     "start_time": "2025-05-15T16:15:57.952843",
     "status": "completed"
    },
    "tags": []
   },
   "outputs": [
    {
     "data": {
      "text/plain": [
       "((1353,), (481,), (486,))"
      ]
     },
     "execution_count": 15,
     "metadata": {},
     "output_type": "execute_result"
    }
   ],
   "source": [
    "y_train = train_adata.obs.iloc[train_idxs].disease.values.astype(str)\n",
    "y_test = train_adata.obs.iloc[test_idxs].disease.values.astype(str)\n",
    "y_val = train_adata.obs.iloc[val_idxs].disease.values.astype(str)\n",
    "y_train.shape, y_test.shape, y_val.shape"
   ]
  },
  {
   "cell_type": "code",
   "execution_count": 16,
   "id": "558eba89",
   "metadata": {
    "execution": {
     "iopub.execute_input": "2025-05-15T16:15:57.997409Z",
     "iopub.status.busy": "2025-05-15T16:15:57.997020Z",
     "iopub.status.idle": "2025-05-15T16:15:58.001000Z",
     "shell.execute_reply": "2025-05-15T16:15:58.000633Z"
    },
    "papermill": {
     "duration": 0.012685,
     "end_time": "2025-05-15T16:15:58.002044",
     "exception": false,
     "start_time": "2025-05-15T16:15:57.989359",
     "status": "completed"
    },
    "tags": []
   },
   "outputs": [],
   "source": [
    "lenc = LabelEncoder()\n",
    "y_train_enc = lenc.fit_transform(y_train)\n",
    "y_val_enc = lenc.transform(y_val)\n",
    "y_test_enc = lenc.transform(y_test)"
   ]
  },
  {
   "cell_type": "markdown",
   "id": "2d030ab2",
   "metadata": {
    "papermill": {
     "duration": 0.007342,
     "end_time": "2025-05-15T16:15:58.037899",
     "exception": false,
     "start_time": "2025-05-15T16:15:58.030557",
     "status": "completed"
    },
    "tags": []
   },
   "source": [
    "### GENERATE F1 "
   ]
  },
  {
   "cell_type": "code",
   "execution_count": 17,
   "id": "5098f544",
   "metadata": {
    "execution": {
     "iopub.execute_input": "2025-05-15T16:15:58.063900Z",
     "iopub.status.busy": "2025-05-15T16:15:58.063486Z",
     "iopub.status.idle": "2025-05-15T16:15:58.066742Z",
     "shell.execute_reply": "2025-05-15T16:15:58.066368Z"
    },
    "papermill": {
     "duration": 0.022351,
     "end_time": "2025-05-15T16:15:58.067730",
     "exception": false,
     "start_time": "2025-05-15T16:15:58.045379",
     "status": "completed"
    },
    "tags": []
   },
   "outputs": [],
   "source": [
    "def custom_f1_score(y_true, y_pred):\n",
    "    return -f1_score(y_true, y_pred.argmax(1), average='weighted')"
   ]
  },
  {
   "cell_type": "code",
   "execution_count": 18,
   "id": "658ae07f",
   "metadata": {
    "execution": {
     "iopub.execute_input": "2025-05-15T16:15:58.083803Z",
     "iopub.status.busy": "2025-05-15T16:15:58.083335Z",
     "iopub.status.idle": "2025-05-15T16:15:58.088717Z",
     "shell.execute_reply": "2025-05-15T16:15:58.088325Z"
    },
    "papermill": {
     "duration": 0.014296,
     "end_time": "2025-05-15T16:15:58.089725",
     "exception": false,
     "start_time": "2025-05-15T16:15:58.075429",
     "status": "completed"
    },
    "tags": []
   },
   "outputs": [],
   "source": [
    "eval_metric=custom_f1_score\n",
    "eval_metric_name='custom_f1_score'\n",
    "\n",
    "def objective(trial):\n",
    "    params = {\n",
    "        'n_estimators': 1500,\n",
    "        'max_depth': trial.suggest_int('max_depth', 3, 20),\n",
    "        'min_child_weight': trial.suggest_int('min_child_weight', 1, 250),\n",
    "        'subsample': trial.suggest_float('subsample', 0.1, 1.0),\n",
    "        'colsample_bynode': trial.suggest_float('colsample_bynode', 0.1, 1.0),\n",
    "        'learning_rate': trial.suggest_float('learning_rate', 1e-3, 5e-1, log=True),\n",
    "    }\n",
    "    pruning_callback = optuna.integration.XGBoostPruningCallback(trial, f'validation_0-{eval_metric_name}')\n",
    "    es_callback = xgboost.callback.EarlyStopping(20, min_delta=0.001)\n",
    "    xgb = xgboost.XGBClassifier(\n",
    "        eval_metric=eval_metric,\n",
    "        callbacks=[pruning_callback, es_callback],\n",
    "        n_jobs=5,\n",
    "        **params\n",
    "    )\n",
    "    xgb.fit(\n",
    "        X_train, \n",
    "        y_train_enc, \n",
    "        verbose=0,\n",
    "        eval_set=[(X_val, y_val_enc)],\n",
    "    )\n",
    "    trial.set_user_attr('best_iteration', xgb.best_iteration)\n",
    "\n",
    "    return xgb.best_score"
   ]
  },
  {
   "cell_type": "code",
   "execution_count": 19,
   "id": "88971913",
   "metadata": {
    "execution": {
     "iopub.execute_input": "2025-05-15T16:15:58.106460Z",
     "iopub.status.busy": "2025-05-15T16:15:58.106078Z",
     "iopub.status.idle": "2025-05-15T16:16:16.106447Z",
     "shell.execute_reply": "2025-05-15T16:16:16.105922Z"
    },
    "papermill": {
     "duration": 18.00963,
     "end_time": "2025-05-15T16:16:16.107745",
     "exception": false,
     "start_time": "2025-05-15T16:15:58.098115",
     "status": "completed"
    },
    "scrolled": true,
    "tags": []
   },
   "outputs": [
    {
     "name": "stderr",
     "output_type": "stream",
     "text": [
      "[I 2025-05-15 18:15:58,108] A new study created in memory with name: no-name-da92e14f-7087-4485-9409-e772005f84d6\n"
     ]
    },
    {
     "name": "stderr",
     "output_type": "stream",
     "text": [
      "[I 2025-05-15 18:15:58,223] Trial 0 finished with value: -0.010217 and parameters: {'max_depth': 9, 'min_child_weight': 238, 'subsample': 0.7587945476302645, 'colsample_bynode': 0.6387926357773329, 'learning_rate': 0.0026368755339723046}. Best is trial 0 with value: -0.010217.\n"
     ]
    },
    {
     "name": "stderr",
     "output_type": "stream",
     "text": [
      "[I 2025-05-15 18:15:59,652] Trial 1 finished with value: -0.739804 and parameters: {'max_depth': 5, 'min_child_weight': 15, 'subsample': 0.8795585311974417, 'colsample_bynode': 0.6410035105688879, 'learning_rate': 0.08148293210105287}. Best is trial 1 with value: -0.739804.\n"
     ]
    },
    {
     "name": "stderr",
     "output_type": "stream",
     "text": [
      "[I 2025-05-15 18:15:59,865] Trial 2 finished with value: -0.202127 and parameters: {'max_depth': 3, 'min_child_weight': 243, 'subsample': 0.8491983767203796, 'colsample_bynode': 0.29110519961044856, 'learning_rate': 0.003095566460242371}. Best is trial 1 with value: -0.739804.\n"
     ]
    },
    {
     "name": "stderr",
     "output_type": "stream",
     "text": [
      "[I 2025-05-15 18:16:00,562] Trial 3 finished with value: -0.454982 and parameters: {'max_depth': 6, 'min_child_weight': 77, 'subsample': 0.5722807884690141, 'colsample_bynode': 0.48875051677790415, 'learning_rate': 0.006109683510122491}. Best is trial 1 with value: -0.739804.\n"
     ]
    },
    {
     "name": "stderr",
     "output_type": "stream",
     "text": [
      "[I 2025-05-15 18:16:01,119] Trial 4 finished with value: -0.469856 and parameters: {'max_depth': 14, 'min_child_weight': 35, 'subsample': 0.3629301836816964, 'colsample_bynode': 0.4297256589643226, 'learning_rate': 0.01701841881702917}. Best is trial 1 with value: -0.739804.\n"
     ]
    },
    {
     "name": "stderr",
     "output_type": "stream",
     "text": [
      "[I 2025-05-15 18:16:01,404] Trial 5 finished with value: -0.465896 and parameters: {'max_depth': 17, 'min_child_weight': 50, 'subsample': 0.5628109945722505, 'colsample_bynode': 0.6331731119758383, 'learning_rate': 0.0013346527038305934}. Best is trial 1 with value: -0.739804.\n"
     ]
    },
    {
     "name": "stderr",
     "output_type": "stream",
     "text": [
      "[I 2025-05-15 18:16:01,538] Trial 6 pruned. Trial was pruned at iteration 0.\n"
     ]
    },
    {
     "name": "stderr",
     "output_type": "stream",
     "text": [
      "[I 2025-05-15 18:16:01,672] Trial 7 pruned. Trial was pruned at iteration 0.\n"
     ]
    },
    {
     "name": "stderr",
     "output_type": "stream",
     "text": [
      "[I 2025-05-15 18:16:01,796] Trial 8 pruned. Trial was pruned at iteration 0.\n"
     ]
    },
    {
     "name": "stderr",
     "output_type": "stream",
     "text": [
      "[I 2025-05-15 18:16:01,937] Trial 9 pruned. Trial was pruned at iteration 0.\n"
     ]
    },
    {
     "name": "stderr",
     "output_type": "stream",
     "text": [
      "[I 2025-05-15 18:16:03,107] Trial 10 finished with value: -0.728157 and parameters: {'max_depth': 9, 'min_child_weight': 2, 'subsample': 0.9725833997090791, 'colsample_bynode': 0.11616568805333755, 'learning_rate': 0.17780618353487967}. Best is trial 1 with value: -0.739804.\n"
     ]
    },
    {
     "name": "stderr",
     "output_type": "stream",
     "text": [
      "[I 2025-05-15 18:16:04,430] Trial 11 finished with value: -0.742048 and parameters: {'max_depth': 9, 'min_child_weight': 4, 'subsample': 0.9818290990185045, 'colsample_bynode': 0.17702656156719, 'learning_rate': 0.11568531411766632}. Best is trial 11 with value: -0.742048.\n"
     ]
    },
    {
     "name": "stderr",
     "output_type": "stream",
     "text": [
      "[I 2025-05-15 18:16:05,404] Trial 12 finished with value: -0.719433 and parameters: {'max_depth': 9, 'min_child_weight': 3, 'subsample': 0.9762317723681219, 'colsample_bynode': 0.14667845540225039, 'learning_rate': 0.07220195396446884}. Best is trial 11 with value: -0.742048.\n"
     ]
    },
    {
     "name": "stderr",
     "output_type": "stream",
     "text": [
      "[I 2025-05-15 18:16:05,552] Trial 13 pruned. Trial was pruned at iteration 0.\n"
     ]
    },
    {
     "name": "stderr",
     "output_type": "stream",
     "text": [
      "[I 2025-05-15 18:16:05,696] Trial 14 pruned. Trial was pruned at iteration 0.\n"
     ]
    },
    {
     "name": "stderr",
     "output_type": "stream",
     "text": [
      "[I 2025-05-15 18:16:07,231] Trial 15 finished with value: -0.761021 and parameters: {'max_depth': 20, 'min_child_weight': 1, 'subsample': 0.7012908959710442, 'colsample_bynode': 0.2540835086298475, 'learning_rate': 0.2833114876720916}. Best is trial 15 with value: -0.761021.\n"
     ]
    },
    {
     "name": "stderr",
     "output_type": "stream",
     "text": [
      "[I 2025-05-15 18:16:07,383] Trial 16 pruned. Trial was pruned at iteration 0.\n"
     ]
    },
    {
     "name": "stderr",
     "output_type": "stream",
     "text": [
      "[I 2025-05-15 18:16:07,525] Trial 17 pruned. Trial was pruned at iteration 0.\n"
     ]
    },
    {
     "name": "stderr",
     "output_type": "stream",
     "text": [
      "[I 2025-05-15 18:16:07,668] Trial 18 pruned. Trial was pruned at iteration 1.\n"
     ]
    },
    {
     "name": "stderr",
     "output_type": "stream",
     "text": [
      "[I 2025-05-15 18:16:07,812] Trial 19 pruned. Trial was pruned at iteration 0.\n"
     ]
    },
    {
     "name": "stderr",
     "output_type": "stream",
     "text": [
      "[I 2025-05-15 18:16:08,206] Trial 20 pruned. Trial was pruned at iteration 22.\n"
     ]
    },
    {
     "name": "stderr",
     "output_type": "stream",
     "text": [
      "[I 2025-05-15 18:16:08,705] Trial 21 pruned. Trial was pruned at iteration 20.\n"
     ]
    },
    {
     "name": "stderr",
     "output_type": "stream",
     "text": [
      "[I 2025-05-15 18:16:08,871] Trial 22 pruned. Trial was pruned at iteration 2.\n"
     ]
    },
    {
     "name": "stderr",
     "output_type": "stream",
     "text": [
      "[I 2025-05-15 18:16:09,012] Trial 23 pruned. Trial was pruned at iteration 0.\n"
     ]
    },
    {
     "name": "stderr",
     "output_type": "stream",
     "text": [
      "[I 2025-05-15 18:16:09,160] Trial 24 pruned. Trial was pruned at iteration 0.\n"
     ]
    },
    {
     "name": "stderr",
     "output_type": "stream",
     "text": [
      "[I 2025-05-15 18:16:09,310] Trial 25 pruned. Trial was pruned at iteration 0.\n"
     ]
    },
    {
     "name": "stderr",
     "output_type": "stream",
     "text": [
      "[I 2025-05-15 18:16:10,136] Trial 26 finished with value: -0.734303 and parameters: {'max_depth': 10, 'min_child_weight': 15, 'subsample': 0.7461542694517407, 'colsample_bynode': 0.8482238888125229, 'learning_rate': 0.11302262870839216}. Best is trial 15 with value: -0.761021.\n"
     ]
    },
    {
     "name": "stderr",
     "output_type": "stream",
     "text": [
      "[I 2025-05-15 18:16:10,283] Trial 27 pruned. Trial was pruned at iteration 0.\n"
     ]
    },
    {
     "name": "stderr",
     "output_type": "stream",
     "text": [
      "[I 2025-05-15 18:16:10,422] Trial 28 pruned. Trial was pruned at iteration 0.\n"
     ]
    },
    {
     "name": "stderr",
     "output_type": "stream",
     "text": [
      "[I 2025-05-15 18:16:10,563] Trial 29 pruned. Trial was pruned at iteration 0.\n"
     ]
    },
    {
     "name": "stderr",
     "output_type": "stream",
     "text": [
      "[I 2025-05-15 18:16:10,700] Trial 30 pruned. Trial was pruned at iteration 0.\n"
     ]
    },
    {
     "name": "stderr",
     "output_type": "stream",
     "text": [
      "[I 2025-05-15 18:16:11,315] Trial 31 finished with value: -0.758515 and parameters: {'max_depth': 12, 'min_child_weight': 16, 'subsample': 0.7105691477608079, 'colsample_bynode': 0.8311655437510109, 'learning_rate': 0.12113838377575545}. Best is trial 15 with value: -0.761021.\n"
     ]
    },
    {
     "name": "stderr",
     "output_type": "stream",
     "text": [
      "[I 2025-05-15 18:16:11,628] Trial 32 pruned. Trial was pruned at iteration 10.\n"
     ]
    },
    {
     "name": "stderr",
     "output_type": "stream",
     "text": [
      "[I 2025-05-15 18:16:11,771] Trial 33 pruned. Trial was pruned at iteration 0.\n"
     ]
    },
    {
     "name": "stderr",
     "output_type": "stream",
     "text": [
      "[I 2025-05-15 18:16:11,921] Trial 34 pruned. Trial was pruned at iteration 0.\n"
     ]
    },
    {
     "name": "stderr",
     "output_type": "stream",
     "text": [
      "[I 2025-05-15 18:16:12,819] Trial 35 finished with value: -0.764665 and parameters: {'max_depth': 18, 'min_child_weight': 11, 'subsample': 0.47258758756243163, 'colsample_bynode': 0.6503256648585669, 'learning_rate': 0.32340132278711375}. Best is trial 35 with value: -0.764665.\n"
     ]
    },
    {
     "name": "stderr",
     "output_type": "stream",
     "text": [
      "[I 2025-05-15 18:16:13,454] Trial 36 finished with value: -0.736942 and parameters: {'max_depth': 19, 'min_child_weight': 8, 'subsample': 0.48934639857913437, 'colsample_bynode': 0.7831016651772452, 'learning_rate': 0.36103238631571266}. Best is trial 35 with value: -0.764665.\n"
     ]
    },
    {
     "name": "stderr",
     "output_type": "stream",
     "text": [
      "[I 2025-05-15 18:16:13,602] Trial 37 pruned. Trial was pruned at iteration 0.\n"
     ]
    },
    {
     "name": "stderr",
     "output_type": "stream",
     "text": [
      "[I 2025-05-15 18:16:13,755] Trial 38 pruned. Trial was pruned at iteration 0.\n"
     ]
    },
    {
     "name": "stderr",
     "output_type": "stream",
     "text": [
      "[I 2025-05-15 18:16:13,911] Trial 39 pruned. Trial was pruned at iteration 0.\n"
     ]
    },
    {
     "name": "stderr",
     "output_type": "stream",
     "text": [
      "[I 2025-05-15 18:16:14,058] Trial 40 pruned. Trial was pruned at iteration 0.\n"
     ]
    },
    {
     "name": "stderr",
     "output_type": "stream",
     "text": [
      "[I 2025-05-15 18:16:14,273] Trial 41 pruned. Trial was pruned at iteration 4.\n"
     ]
    },
    {
     "name": "stderr",
     "output_type": "stream",
     "text": [
      "[I 2025-05-15 18:16:14,941] Trial 42 finished with value: -0.736625 and parameters: {'max_depth': 13, 'min_child_weight': 13, 'subsample': 0.9268910473616226, 'colsample_bynode': 0.5717200293704853, 'learning_rate': 0.08597221151138092}. Best is trial 35 with value: -0.764665.\n"
     ]
    },
    {
     "name": "stderr",
     "output_type": "stream",
     "text": [
      "[I 2025-05-15 18:16:15,096] Trial 43 pruned. Trial was pruned at iteration 0.\n"
     ]
    },
    {
     "name": "stderr",
     "output_type": "stream",
     "text": [
      "[I 2025-05-15 18:16:15,265] Trial 44 pruned. Trial was pruned at iteration 0.\n"
     ]
    },
    {
     "name": "stderr",
     "output_type": "stream",
     "text": [
      "[I 2025-05-15 18:16:15,408] Trial 45 pruned. Trial was pruned at iteration 0.\n"
     ]
    },
    {
     "name": "stderr",
     "output_type": "stream",
     "text": [
      "[I 2025-05-15 18:16:15,555] Trial 46 pruned. Trial was pruned at iteration 0.\n"
     ]
    },
    {
     "name": "stderr",
     "output_type": "stream",
     "text": [
      "[I 2025-05-15 18:16:15,708] Trial 47 pruned. Trial was pruned at iteration 0.\n"
     ]
    },
    {
     "name": "stderr",
     "output_type": "stream",
     "text": [
      "[I 2025-05-15 18:16:15,853] Trial 48 pruned. Trial was pruned at iteration 0.\n"
     ]
    },
    {
     "name": "stderr",
     "output_type": "stream",
     "text": [
      "[I 2025-05-15 18:16:15,994] Trial 49 pruned. Trial was pruned at iteration 0.\n"
     ]
    }
   ],
   "source": [
    "sampler = optuna.samplers.TPESampler(seed=42)\n",
    "study = optuna.create_study(direction='minimize', sampler=sampler)\n",
    "study.optimize(objective, n_trials=N_TRIALS, gc_after_trial=True)"
   ]
  },
  {
   "cell_type": "code",
   "execution_count": 20,
   "id": "4da3ac25",
   "metadata": {
    "execution": {
     "iopub.execute_input": "2025-05-15T16:16:16.126359Z",
     "iopub.status.busy": "2025-05-15T16:16:16.126043Z",
     "iopub.status.idle": "2025-05-15T16:16:16.148955Z",
     "shell.execute_reply": "2025-05-15T16:16:16.148567Z"
    },
    "papermill": {
     "duration": 0.032754,
     "end_time": "2025-05-15T16:16:16.150025",
     "exception": false,
     "start_time": "2025-05-15T16:16:16.117271",
     "status": "completed"
    },
    "tags": []
   },
   "outputs": [
    {
     "data": {
      "text/plain": [
       "['/scratch_isilon/groups/singlecell/shared/projects/Inflammation-PBMCs-Atlas/03_downstream_analysis/08_gene_importance/xgboost_external_validation/xgboost_TopN_genes/results_20/study/pDC_7_2_xgboost.pkl']"
      ]
     },
     "execution_count": 20,
     "metadata": {},
     "output_type": "execute_result"
    }
   ],
   "source": [
    "out_dir = here(f'03_downstream_analysis/08_gene_importance/xgboost_external_validation/xgboost_TopN_genes/results_{N_GENES}/study')\n",
    "\n",
    "if not os.path.exists(out_dir):\n",
    "    os.makedirs(out_dir)\n",
    "    \n",
    "joblib.dump(study,os.path.join(out_dir, f'{CELL_TYPE}_{SEED}_{TEST_SPLIT_IDX}_xgboost.pkl'))"
   ]
  },
  {
   "cell_type": "code",
   "execution_count": 21,
   "id": "953ca889",
   "metadata": {
    "execution": {
     "iopub.execute_input": "2025-05-15T16:16:16.170750Z",
     "iopub.status.busy": "2025-05-15T16:16:16.170139Z",
     "iopub.status.idle": "2025-05-15T16:16:16.911393Z",
     "shell.execute_reply": "2025-05-15T16:16:16.911000Z"
    },
    "papermill": {
     "duration": 0.753348,
     "end_time": "2025-05-15T16:16:16.912900",
     "exception": false,
     "start_time": "2025-05-15T16:16:16.159552",
     "status": "completed"
    },
    "tags": []
   },
   "outputs": [
    {
     "data": {
      "text/html": [
       "<style>#sk-container-id-1 {\n",
       "  /* Definition of color scheme common for light and dark mode */\n",
       "  --sklearn-color-text: black;\n",
       "  --sklearn-color-line: gray;\n",
       "  /* Definition of color scheme for unfitted estimators */\n",
       "  --sklearn-color-unfitted-level-0: #fff5e6;\n",
       "  --sklearn-color-unfitted-level-1: #f6e4d2;\n",
       "  --sklearn-color-unfitted-level-2: #ffe0b3;\n",
       "  --sklearn-color-unfitted-level-3: chocolate;\n",
       "  /* Definition of color scheme for fitted estimators */\n",
       "  --sklearn-color-fitted-level-0: #f0f8ff;\n",
       "  --sklearn-color-fitted-level-1: #d4ebff;\n",
       "  --sklearn-color-fitted-level-2: #b3dbfd;\n",
       "  --sklearn-color-fitted-level-3: cornflowerblue;\n",
       "\n",
       "  /* Specific color for light theme */\n",
       "  --sklearn-color-text-on-default-background: var(--sg-text-color, var(--theme-code-foreground, var(--jp-content-font-color1, black)));\n",
       "  --sklearn-color-background: var(--sg-background-color, var(--theme-background, var(--jp-layout-color0, white)));\n",
       "  --sklearn-color-border-box: var(--sg-text-color, var(--theme-code-foreground, var(--jp-content-font-color1, black)));\n",
       "  --sklearn-color-icon: #696969;\n",
       "\n",
       "  @media (prefers-color-scheme: dark) {\n",
       "    /* Redefinition of color scheme for dark theme */\n",
       "    --sklearn-color-text-on-default-background: var(--sg-text-color, var(--theme-code-foreground, var(--jp-content-font-color1, white)));\n",
       "    --sklearn-color-background: var(--sg-background-color, var(--theme-background, var(--jp-layout-color0, #111)));\n",
       "    --sklearn-color-border-box: var(--sg-text-color, var(--theme-code-foreground, var(--jp-content-font-color1, white)));\n",
       "    --sklearn-color-icon: #878787;\n",
       "  }\n",
       "}\n",
       "\n",
       "#sk-container-id-1 {\n",
       "  color: var(--sklearn-color-text);\n",
       "}\n",
       "\n",
       "#sk-container-id-1 pre {\n",
       "  padding: 0;\n",
       "}\n",
       "\n",
       "#sk-container-id-1 input.sk-hidden--visually {\n",
       "  border: 0;\n",
       "  clip: rect(1px 1px 1px 1px);\n",
       "  clip: rect(1px, 1px, 1px, 1px);\n",
       "  height: 1px;\n",
       "  margin: -1px;\n",
       "  overflow: hidden;\n",
       "  padding: 0;\n",
       "  position: absolute;\n",
       "  width: 1px;\n",
       "}\n",
       "\n",
       "#sk-container-id-1 div.sk-dashed-wrapped {\n",
       "  border: 1px dashed var(--sklearn-color-line);\n",
       "  margin: 0 0.4em 0.5em 0.4em;\n",
       "  box-sizing: border-box;\n",
       "  padding-bottom: 0.4em;\n",
       "  background-color: var(--sklearn-color-background);\n",
       "}\n",
       "\n",
       "#sk-container-id-1 div.sk-container {\n",
       "  /* jupyter's `normalize.less` sets `[hidden] { display: none; }`\n",
       "     but bootstrap.min.css set `[hidden] { display: none !important; }`\n",
       "     so we also need the `!important` here to be able to override the\n",
       "     default hidden behavior on the sphinx rendered scikit-learn.org.\n",
       "     See: https://github.com/scikit-learn/scikit-learn/issues/21755 */\n",
       "  display: inline-block !important;\n",
       "  position: relative;\n",
       "}\n",
       "\n",
       "#sk-container-id-1 div.sk-text-repr-fallback {\n",
       "  display: none;\n",
       "}\n",
       "\n",
       "div.sk-parallel-item,\n",
       "div.sk-serial,\n",
       "div.sk-item {\n",
       "  /* draw centered vertical line to link estimators */\n",
       "  background-image: linear-gradient(var(--sklearn-color-text-on-default-background), var(--sklearn-color-text-on-default-background));\n",
       "  background-size: 2px 100%;\n",
       "  background-repeat: no-repeat;\n",
       "  background-position: center center;\n",
       "}\n",
       "\n",
       "/* Parallel-specific style estimator block */\n",
       "\n",
       "#sk-container-id-1 div.sk-parallel-item::after {\n",
       "  content: \"\";\n",
       "  width: 100%;\n",
       "  border-bottom: 2px solid var(--sklearn-color-text-on-default-background);\n",
       "  flex-grow: 1;\n",
       "}\n",
       "\n",
       "#sk-container-id-1 div.sk-parallel {\n",
       "  display: flex;\n",
       "  align-items: stretch;\n",
       "  justify-content: center;\n",
       "  background-color: var(--sklearn-color-background);\n",
       "  position: relative;\n",
       "}\n",
       "\n",
       "#sk-container-id-1 div.sk-parallel-item {\n",
       "  display: flex;\n",
       "  flex-direction: column;\n",
       "}\n",
       "\n",
       "#sk-container-id-1 div.sk-parallel-item:first-child::after {\n",
       "  align-self: flex-end;\n",
       "  width: 50%;\n",
       "}\n",
       "\n",
       "#sk-container-id-1 div.sk-parallel-item:last-child::after {\n",
       "  align-self: flex-start;\n",
       "  width: 50%;\n",
       "}\n",
       "\n",
       "#sk-container-id-1 div.sk-parallel-item:only-child::after {\n",
       "  width: 0;\n",
       "}\n",
       "\n",
       "/* Serial-specific style estimator block */\n",
       "\n",
       "#sk-container-id-1 div.sk-serial {\n",
       "  display: flex;\n",
       "  flex-direction: column;\n",
       "  align-items: center;\n",
       "  background-color: var(--sklearn-color-background);\n",
       "  padding-right: 1em;\n",
       "  padding-left: 1em;\n",
       "}\n",
       "\n",
       "\n",
       "/* Toggleable style: style used for estimator/Pipeline/ColumnTransformer box that is\n",
       "clickable and can be expanded/collapsed.\n",
       "- Pipeline and ColumnTransformer use this feature and define the default style\n",
       "- Estimators will overwrite some part of the style using the `sk-estimator` class\n",
       "*/\n",
       "\n",
       "/* Pipeline and ColumnTransformer style (default) */\n",
       "\n",
       "#sk-container-id-1 div.sk-toggleable {\n",
       "  /* Default theme specific background. It is overwritten whether we have a\n",
       "  specific estimator or a Pipeline/ColumnTransformer */\n",
       "  background-color: var(--sklearn-color-background);\n",
       "}\n",
       "\n",
       "/* Toggleable label */\n",
       "#sk-container-id-1 label.sk-toggleable__label {\n",
       "  cursor: pointer;\n",
       "  display: block;\n",
       "  width: 100%;\n",
       "  margin-bottom: 0;\n",
       "  padding: 0.5em;\n",
       "  box-sizing: border-box;\n",
       "  text-align: center;\n",
       "}\n",
       "\n",
       "#sk-container-id-1 label.sk-toggleable__label-arrow:before {\n",
       "  /* Arrow on the left of the label */\n",
       "  content: \"▸\";\n",
       "  float: left;\n",
       "  margin-right: 0.25em;\n",
       "  color: var(--sklearn-color-icon);\n",
       "}\n",
       "\n",
       "#sk-container-id-1 label.sk-toggleable__label-arrow:hover:before {\n",
       "  color: var(--sklearn-color-text);\n",
       "}\n",
       "\n",
       "/* Toggleable content - dropdown */\n",
       "\n",
       "#sk-container-id-1 div.sk-toggleable__content {\n",
       "  max-height: 0;\n",
       "  max-width: 0;\n",
       "  overflow: hidden;\n",
       "  text-align: left;\n",
       "  /* unfitted */\n",
       "  background-color: var(--sklearn-color-unfitted-level-0);\n",
       "}\n",
       "\n",
       "#sk-container-id-1 div.sk-toggleable__content.fitted {\n",
       "  /* fitted */\n",
       "  background-color: var(--sklearn-color-fitted-level-0);\n",
       "}\n",
       "\n",
       "#sk-container-id-1 div.sk-toggleable__content pre {\n",
       "  margin: 0.2em;\n",
       "  border-radius: 0.25em;\n",
       "  color: var(--sklearn-color-text);\n",
       "  /* unfitted */\n",
       "  background-color: var(--sklearn-color-unfitted-level-0);\n",
       "}\n",
       "\n",
       "#sk-container-id-1 div.sk-toggleable__content.fitted pre {\n",
       "  /* unfitted */\n",
       "  background-color: var(--sklearn-color-fitted-level-0);\n",
       "}\n",
       "\n",
       "#sk-container-id-1 input.sk-toggleable__control:checked~div.sk-toggleable__content {\n",
       "  /* Expand drop-down */\n",
       "  max-height: 200px;\n",
       "  max-width: 100%;\n",
       "  overflow: auto;\n",
       "}\n",
       "\n",
       "#sk-container-id-1 input.sk-toggleable__control:checked~label.sk-toggleable__label-arrow:before {\n",
       "  content: \"▾\";\n",
       "}\n",
       "\n",
       "/* Pipeline/ColumnTransformer-specific style */\n",
       "\n",
       "#sk-container-id-1 div.sk-label input.sk-toggleable__control:checked~label.sk-toggleable__label {\n",
       "  color: var(--sklearn-color-text);\n",
       "  background-color: var(--sklearn-color-unfitted-level-2);\n",
       "}\n",
       "\n",
       "#sk-container-id-1 div.sk-label.fitted input.sk-toggleable__control:checked~label.sk-toggleable__label {\n",
       "  background-color: var(--sklearn-color-fitted-level-2);\n",
       "}\n",
       "\n",
       "/* Estimator-specific style */\n",
       "\n",
       "/* Colorize estimator box */\n",
       "#sk-container-id-1 div.sk-estimator input.sk-toggleable__control:checked~label.sk-toggleable__label {\n",
       "  /* unfitted */\n",
       "  background-color: var(--sklearn-color-unfitted-level-2);\n",
       "}\n",
       "\n",
       "#sk-container-id-1 div.sk-estimator.fitted input.sk-toggleable__control:checked~label.sk-toggleable__label {\n",
       "  /* fitted */\n",
       "  background-color: var(--sklearn-color-fitted-level-2);\n",
       "}\n",
       "\n",
       "#sk-container-id-1 div.sk-label label.sk-toggleable__label,\n",
       "#sk-container-id-1 div.sk-label label {\n",
       "  /* The background is the default theme color */\n",
       "  color: var(--sklearn-color-text-on-default-background);\n",
       "}\n",
       "\n",
       "/* On hover, darken the color of the background */\n",
       "#sk-container-id-1 div.sk-label:hover label.sk-toggleable__label {\n",
       "  color: var(--sklearn-color-text);\n",
       "  background-color: var(--sklearn-color-unfitted-level-2);\n",
       "}\n",
       "\n",
       "/* Label box, darken color on hover, fitted */\n",
       "#sk-container-id-1 div.sk-label.fitted:hover label.sk-toggleable__label.fitted {\n",
       "  color: var(--sklearn-color-text);\n",
       "  background-color: var(--sklearn-color-fitted-level-2);\n",
       "}\n",
       "\n",
       "/* Estimator label */\n",
       "\n",
       "#sk-container-id-1 div.sk-label label {\n",
       "  font-family: monospace;\n",
       "  font-weight: bold;\n",
       "  display: inline-block;\n",
       "  line-height: 1.2em;\n",
       "}\n",
       "\n",
       "#sk-container-id-1 div.sk-label-container {\n",
       "  text-align: center;\n",
       "}\n",
       "\n",
       "/* Estimator-specific */\n",
       "#sk-container-id-1 div.sk-estimator {\n",
       "  font-family: monospace;\n",
       "  border: 1px dotted var(--sklearn-color-border-box);\n",
       "  border-radius: 0.25em;\n",
       "  box-sizing: border-box;\n",
       "  margin-bottom: 0.5em;\n",
       "  /* unfitted */\n",
       "  background-color: var(--sklearn-color-unfitted-level-0);\n",
       "}\n",
       "\n",
       "#sk-container-id-1 div.sk-estimator.fitted {\n",
       "  /* fitted */\n",
       "  background-color: var(--sklearn-color-fitted-level-0);\n",
       "}\n",
       "\n",
       "/* on hover */\n",
       "#sk-container-id-1 div.sk-estimator:hover {\n",
       "  /* unfitted */\n",
       "  background-color: var(--sklearn-color-unfitted-level-2);\n",
       "}\n",
       "\n",
       "#sk-container-id-1 div.sk-estimator.fitted:hover {\n",
       "  /* fitted */\n",
       "  background-color: var(--sklearn-color-fitted-level-2);\n",
       "}\n",
       "\n",
       "/* Specification for estimator info (e.g. \"i\" and \"?\") */\n",
       "\n",
       "/* Common style for \"i\" and \"?\" */\n",
       "\n",
       ".sk-estimator-doc-link,\n",
       "a:link.sk-estimator-doc-link,\n",
       "a:visited.sk-estimator-doc-link {\n",
       "  float: right;\n",
       "  font-size: smaller;\n",
       "  line-height: 1em;\n",
       "  font-family: monospace;\n",
       "  background-color: var(--sklearn-color-background);\n",
       "  border-radius: 1em;\n",
       "  height: 1em;\n",
       "  width: 1em;\n",
       "  text-decoration: none !important;\n",
       "  margin-left: 1ex;\n",
       "  /* unfitted */\n",
       "  border: var(--sklearn-color-unfitted-level-1) 1pt solid;\n",
       "  color: var(--sklearn-color-unfitted-level-1);\n",
       "}\n",
       "\n",
       ".sk-estimator-doc-link.fitted,\n",
       "a:link.sk-estimator-doc-link.fitted,\n",
       "a:visited.sk-estimator-doc-link.fitted {\n",
       "  /* fitted */\n",
       "  border: var(--sklearn-color-fitted-level-1) 1pt solid;\n",
       "  color: var(--sklearn-color-fitted-level-1);\n",
       "}\n",
       "\n",
       "/* On hover */\n",
       "div.sk-estimator:hover .sk-estimator-doc-link:hover,\n",
       ".sk-estimator-doc-link:hover,\n",
       "div.sk-label-container:hover .sk-estimator-doc-link:hover,\n",
       ".sk-estimator-doc-link:hover {\n",
       "  /* unfitted */\n",
       "  background-color: var(--sklearn-color-unfitted-level-3);\n",
       "  color: var(--sklearn-color-background);\n",
       "  text-decoration: none;\n",
       "}\n",
       "\n",
       "div.sk-estimator.fitted:hover .sk-estimator-doc-link.fitted:hover,\n",
       ".sk-estimator-doc-link.fitted:hover,\n",
       "div.sk-label-container:hover .sk-estimator-doc-link.fitted:hover,\n",
       ".sk-estimator-doc-link.fitted:hover {\n",
       "  /* fitted */\n",
       "  background-color: var(--sklearn-color-fitted-level-3);\n",
       "  color: var(--sklearn-color-background);\n",
       "  text-decoration: none;\n",
       "}\n",
       "\n",
       "/* Span, style for the box shown on hovering the info icon */\n",
       ".sk-estimator-doc-link span {\n",
       "  display: none;\n",
       "  z-index: 9999;\n",
       "  position: relative;\n",
       "  font-weight: normal;\n",
       "  right: .2ex;\n",
       "  padding: .5ex;\n",
       "  margin: .5ex;\n",
       "  width: min-content;\n",
       "  min-width: 20ex;\n",
       "  max-width: 50ex;\n",
       "  color: var(--sklearn-color-text);\n",
       "  box-shadow: 2pt 2pt 4pt #999;\n",
       "  /* unfitted */\n",
       "  background: var(--sklearn-color-unfitted-level-0);\n",
       "  border: .5pt solid var(--sklearn-color-unfitted-level-3);\n",
       "}\n",
       "\n",
       ".sk-estimator-doc-link.fitted span {\n",
       "  /* fitted */\n",
       "  background: var(--sklearn-color-fitted-level-0);\n",
       "  border: var(--sklearn-color-fitted-level-3);\n",
       "}\n",
       "\n",
       ".sk-estimator-doc-link:hover span {\n",
       "  display: block;\n",
       "}\n",
       "\n",
       "/* \"?\"-specific style due to the `<a>` HTML tag */\n",
       "\n",
       "#sk-container-id-1 a.estimator_doc_link {\n",
       "  float: right;\n",
       "  font-size: 1rem;\n",
       "  line-height: 1em;\n",
       "  font-family: monospace;\n",
       "  background-color: var(--sklearn-color-background);\n",
       "  border-radius: 1rem;\n",
       "  height: 1rem;\n",
       "  width: 1rem;\n",
       "  text-decoration: none;\n",
       "  /* unfitted */\n",
       "  color: var(--sklearn-color-unfitted-level-1);\n",
       "  border: var(--sklearn-color-unfitted-level-1) 1pt solid;\n",
       "}\n",
       "\n",
       "#sk-container-id-1 a.estimator_doc_link.fitted {\n",
       "  /* fitted */\n",
       "  border: var(--sklearn-color-fitted-level-1) 1pt solid;\n",
       "  color: var(--sklearn-color-fitted-level-1);\n",
       "}\n",
       "\n",
       "/* On hover */\n",
       "#sk-container-id-1 a.estimator_doc_link:hover {\n",
       "  /* unfitted */\n",
       "  background-color: var(--sklearn-color-unfitted-level-3);\n",
       "  color: var(--sklearn-color-background);\n",
       "  text-decoration: none;\n",
       "}\n",
       "\n",
       "#sk-container-id-1 a.estimator_doc_link.fitted:hover {\n",
       "  /* fitted */\n",
       "  background-color: var(--sklearn-color-fitted-level-3);\n",
       "}\n",
       "</style><div id=\"sk-container-id-1\" class=\"sk-top-container\"><div class=\"sk-text-repr-fallback\"><pre>XGBClassifier(base_score=None, booster=None, callbacks=None,\n",
       "              colsample_bylevel=None, colsample_bynode=0.6503256648585669,\n",
       "              colsample_bytree=None, device=None, early_stopping_rounds=None,\n",
       "              enable_categorical=False,\n",
       "              eval_metric=&lt;function custom_f1_score at 0x7f7f64814680&gt;,\n",
       "              feature_types=None, gamma=None, grow_policy=None,\n",
       "              importance_type=None, interaction_constraints=None,\n",
       "              learning_rate=0.32340132278711375, max_bin=None,\n",
       "              max_cat_threshold=None, max_cat_to_onehot=None,\n",
       "              max_delta_step=None, max_depth=18, max_leaves=None,\n",
       "              min_child_weight=11, missing=nan, monotone_constraints=None,\n",
       "              multi_strategy=None, n_estimators=68, n_jobs=None,\n",
       "              num_parallel_tree=None, objective=&#x27;multi:softprob&#x27;, ...)</pre><b>In a Jupyter environment, please rerun this cell to show the HTML representation or trust the notebook. <br />On GitHub, the HTML representation is unable to render, please try loading this page with nbviewer.org.</b></div><div class=\"sk-container\" hidden><div class=\"sk-item\"><div class=\"sk-estimator fitted sk-toggleable\"><input class=\"sk-toggleable__control sk-hidden--visually\" id=\"sk-estimator-id-1\" type=\"checkbox\" checked><label for=\"sk-estimator-id-1\" class=\"sk-toggleable__label fitted sk-toggleable__label-arrow fitted\">&nbsp;XGBClassifier<span class=\"sk-estimator-doc-link fitted\">i<span>Fitted</span></span></label><div class=\"sk-toggleable__content fitted\"><pre>XGBClassifier(base_score=None, booster=None, callbacks=None,\n",
       "              colsample_bylevel=None, colsample_bynode=0.6503256648585669,\n",
       "              colsample_bytree=None, device=None, early_stopping_rounds=None,\n",
       "              enable_categorical=False,\n",
       "              eval_metric=&lt;function custom_f1_score at 0x7f7f64814680&gt;,\n",
       "              feature_types=None, gamma=None, grow_policy=None,\n",
       "              importance_type=None, interaction_constraints=None,\n",
       "              learning_rate=0.32340132278711375, max_bin=None,\n",
       "              max_cat_threshold=None, max_cat_to_onehot=None,\n",
       "              max_delta_step=None, max_depth=18, max_leaves=None,\n",
       "              min_child_weight=11, missing=nan, monotone_constraints=None,\n",
       "              multi_strategy=None, n_estimators=68, n_jobs=None,\n",
       "              num_parallel_tree=None, objective=&#x27;multi:softprob&#x27;, ...)</pre></div> </div></div></div></div>"
      ],
      "text/plain": [
       "XGBClassifier(base_score=None, booster=None, callbacks=None,\n",
       "              colsample_bylevel=None, colsample_bynode=0.6503256648585669,\n",
       "              colsample_bytree=None, device=None, early_stopping_rounds=None,\n",
       "              enable_categorical=False,\n",
       "              eval_metric=<function custom_f1_score at 0x7f7f64814680>,\n",
       "              feature_types=None, gamma=None, grow_policy=None,\n",
       "              importance_type=None, interaction_constraints=None,\n",
       "              learning_rate=0.32340132278711375, max_bin=None,\n",
       "              max_cat_threshold=None, max_cat_to_onehot=None,\n",
       "              max_delta_step=None, max_depth=18, max_leaves=None,\n",
       "              min_child_weight=11, missing=nan, monotone_constraints=None,\n",
       "              multi_strategy=None, n_estimators=68, n_jobs=None,\n",
       "              num_parallel_tree=None, objective='multi:softprob', ...)"
      ]
     },
     "execution_count": 21,
     "metadata": {},
     "output_type": "execute_result"
    }
   ],
   "source": [
    "n_estimators = int(study.best_trial.user_attrs['best_iteration']*1.2)\n",
    "xgb = xgboost.XGBClassifier(\n",
    "        eval_metric=eval_metric,\n",
    "        n_estimators=n_estimators,\n",
    "        **study.best_trial.params\n",
    "    )\n",
    "xgb.fit(\n",
    "    ssp.vstack((X_train, X_val)), \n",
    "    np.concatenate((y_train_enc, y_val_enc)),\n",
    "    verbose=1,\n",
    ")"
   ]
  },
  {
   "cell_type": "code",
   "execution_count": 22,
   "id": "e6a24a5a",
   "metadata": {
    "execution": {
     "iopub.execute_input": "2025-05-15T16:16:16.935532Z",
     "iopub.status.busy": "2025-05-15T16:16:16.935091Z",
     "iopub.status.idle": "2025-05-15T16:16:16.951890Z",
     "shell.execute_reply": "2025-05-15T16:16:16.951472Z"
    },
    "papermill": {
     "duration": 0.029246,
     "end_time": "2025-05-15T16:16:16.952871",
     "exception": false,
     "start_time": "2025-05-15T16:16:16.923625",
     "status": "completed"
    },
    "tags": []
   },
   "outputs": [
    {
     "data": {
      "text/plain": [
       "['/scratch_isilon/groups/singlecell/shared/projects/Inflammation-PBMCs-Atlas/03_downstream_analysis/08_gene_importance/xgboost_external_validation/xgboost_TopN_genes/results_20/best_model/pDC_7_2_xgb.json']"
      ]
     },
     "execution_count": 22,
     "metadata": {},
     "output_type": "execute_result"
    }
   ],
   "source": [
    "out_dir = here(f'03_downstream_analysis/08_gene_importance/xgboost_external_validation/xgboost_TopN_genes/results_{N_GENES}/best_model')\n",
    "\n",
    "if not os.path.exists(out_dir):\n",
    "    os.makedirs(out_dir)\n",
    "    \n",
    "joblib.dump(xgb, os.path.join(out_dir, f'{CELL_TYPE}_{SEED}_{TEST_SPLIT_IDX}_xgb.json'))"
   ]
  },
  {
   "cell_type": "code",
   "execution_count": 23,
   "id": "9182c477",
   "metadata": {
    "execution": {
     "iopub.execute_input": "2025-05-15T16:16:16.972733Z",
     "iopub.status.busy": "2025-05-15T16:16:16.972251Z",
     "iopub.status.idle": "2025-05-15T16:16:16.980749Z",
     "shell.execute_reply": "2025-05-15T16:16:16.980371Z"
    },
    "papermill": {
     "duration": 0.024722,
     "end_time": "2025-05-15T16:16:16.986927",
     "exception": false,
     "start_time": "2025-05-15T16:16:16.962205",
     "status": "completed"
    },
    "tags": []
   },
   "outputs": [],
   "source": [
    "df_pred_test = pd.DataFrame(dict(\n",
    "    cell_id=train_adata.obs.iloc[test_idxs].index.values,\n",
    "    y_true=y_test, \n",
    "    y_true_code=y_test_enc, \n",
    "    y_pred=xgb.predict(X_test))).set_index('cell_id')"
   ]
  },
  {
   "cell_type": "code",
   "execution_count": 24,
   "id": "63e4045a",
   "metadata": {
    "execution": {
     "iopub.execute_input": "2025-05-15T16:16:17.007744Z",
     "iopub.status.busy": "2025-05-15T16:16:17.007345Z",
     "iopub.status.idle": "2025-05-15T16:16:17.032351Z",
     "shell.execute_reply": "2025-05-15T16:16:17.031851Z"
    },
    "papermill": {
     "duration": 0.036281,
     "end_time": "2025-05-15T16:16:17.033597",
     "exception": false,
     "start_time": "2025-05-15T16:16:16.997316",
     "status": "completed"
    },
    "tags": []
   },
   "outputs": [],
   "source": [
    "out_dir = here(f'03_downstream_analysis/08_gene_importance/xgboost_external_validation/xgboost_TopN_genes/results_{N_GENES}/predictions')\n",
    "\n",
    "if not os.path.exists(out_dir):\n",
    "    os.makedirs(out_dir)\n",
    "    \n",
    "df_pred_test.to_csv(os.path.join(out_dir, f'{CELL_TYPE}_{SEED}_{TEST_SPLIT_IDX}_pred_test.zip'))"
   ]
  },
  {
   "cell_type": "code",
   "execution_count": 25,
   "id": "8da8fbf8",
   "metadata": {
    "execution": {
     "iopub.execute_input": "2025-05-15T16:16:17.053659Z",
     "iopub.status.busy": "2025-05-15T16:16:17.052965Z",
     "iopub.status.idle": "2025-05-15T16:16:17.059696Z",
     "shell.execute_reply": "2025-05-15T16:16:17.059315Z"
    },
    "papermill": {
     "duration": 0.01758,
     "end_time": "2025-05-15T16:16:17.060632",
     "exception": false,
     "start_time": "2025-05-15T16:16:17.043052",
     "status": "completed"
    },
    "tags": []
   },
   "outputs": [],
   "source": [
    "metrics_dict = dict(\n",
    "    BAS=balanced_accuracy_score(y_true=df_pred_test.y_true_code, y_pred=df_pred_test.y_pred), WF1=f1_score(y_true=df_pred_test.y_true_code, y_pred=df_pred_test.y_pred,average='weighted'))"
   ]
  },
  {
   "cell_type": "code",
   "execution_count": 26,
   "id": "525deb34",
   "metadata": {
    "execution": {
     "iopub.execute_input": "2025-05-15T16:16:17.080064Z",
     "iopub.status.busy": "2025-05-15T16:16:17.079450Z",
     "iopub.status.idle": "2025-05-15T16:16:17.083062Z",
     "shell.execute_reply": "2025-05-15T16:16:17.082714Z"
    },
    "papermill": {
     "duration": 0.014253,
     "end_time": "2025-05-15T16:16:17.083966",
     "exception": false,
     "start_time": "2025-05-15T16:16:17.069713",
     "status": "completed"
    },
    "tags": []
   },
   "outputs": [
    {
     "data": {
      "text/plain": [
       "{'BAS': 0.5167477538200054, 'WF1': 0.7602069992937018}"
      ]
     },
     "execution_count": 26,
     "metadata": {},
     "output_type": "execute_result"
    }
   ],
   "source": [
    "metrics_dict"
   ]
  },
  {
   "cell_type": "code",
   "execution_count": 27,
   "id": "a74fb015",
   "metadata": {
    "execution": {
     "iopub.execute_input": "2025-05-15T16:16:17.103413Z",
     "iopub.status.busy": "2025-05-15T16:16:17.103046Z",
     "iopub.status.idle": "2025-05-15T16:16:17.113040Z",
     "shell.execute_reply": "2025-05-15T16:16:17.112685Z"
    },
    "papermill": {
     "duration": 0.020989,
     "end_time": "2025-05-15T16:16:17.114054",
     "exception": false,
     "start_time": "2025-05-15T16:16:17.093065",
     "status": "completed"
    },
    "tags": []
   },
   "outputs": [
    {
     "data": {
      "text/html": [
       "<div>\n",
       "<style scoped>\n",
       "    .dataframe tbody tr th:only-of-type {\n",
       "        vertical-align: middle;\n",
       "    }\n",
       "\n",
       "    .dataframe tbody tr th {\n",
       "        vertical-align: top;\n",
       "    }\n",
       "\n",
       "    .dataframe thead th {\n",
       "        text-align: right;\n",
       "    }\n",
       "</style>\n",
       "<table border=\"1\" class=\"dataframe\">\n",
       "  <thead>\n",
       "    <tr style=\"text-align: right;\">\n",
       "      <th></th>\n",
       "      <th>BAS</th>\n",
       "      <th>WF1</th>\n",
       "      <th>split_idx</th>\n",
       "      <th>gene_set_seed</th>\n",
       "      <th>cell_type</th>\n",
       "    </tr>\n",
       "  </thead>\n",
       "  <tbody>\n",
       "    <tr>\n",
       "      <th>0</th>\n",
       "      <td>0.516748</td>\n",
       "      <td>0.760207</td>\n",
       "      <td>2</td>\n",
       "      <td>7</td>\n",
       "      <td>pDC</td>\n",
       "    </tr>\n",
       "  </tbody>\n",
       "</table>\n",
       "</div>"
      ],
      "text/plain": [
       "        BAS       WF1  split_idx  gene_set_seed cell_type\n",
       "0  0.516748  0.760207          2              7       pDC"
      ]
     },
     "execution_count": 27,
     "metadata": {},
     "output_type": "execute_result"
    }
   ],
   "source": [
    "metrics_df = pd.DataFrame.from_dict([metrics_dict]).assign(split_idx=TEST_SPLIT_IDX, gene_set_seed=SEED, cell_type=CELL_TYPE)\n",
    "metrics_df"
   ]
  },
  {
   "cell_type": "code",
   "execution_count": 28,
   "id": "785791bc",
   "metadata": {
    "execution": {
     "iopub.execute_input": "2025-05-15T16:16:17.136948Z",
     "iopub.status.busy": "2025-05-15T16:16:17.136702Z",
     "iopub.status.idle": "2025-05-15T16:16:17.147175Z",
     "shell.execute_reply": "2025-05-15T16:16:17.146810Z"
    },
    "papermill": {
     "duration": 0.023935,
     "end_time": "2025-05-15T16:16:17.148658",
     "exception": false,
     "start_time": "2025-05-15T16:16:17.124723",
     "status": "completed"
    },
    "tags": []
   },
   "outputs": [],
   "source": [
    "out_dir = here(f'03_downstream_analysis/08_gene_importance/xgboost_external_validation/xgboost_TopN_genes/results_{N_GENES}/metrics')\n",
    "\n",
    "if not os.path.exists(out_dir):\n",
    "    os.makedirs(out_dir)\n",
    "    \n",
    "metrics_df.to_csv(os.path.join(out_dir, f'{CELL_TYPE}_{SEED}_{TEST_SPLIT_IDX}_metrics.zip'))"
   ]
  }
 ],
 "metadata": {
  "kernelspec": {
   "display_name": "Python 3 (ipykernel)",
   "language": "python",
   "name": "python3"
  },
  "language_info": {
   "codemirror_mode": {
    "name": "ipython",
    "version": 3
   },
   "file_extension": ".py",
   "mimetype": "text/x-python",
   "name": "python",
   "nbconvert_exporter": "python",
   "pygments_lexer": "ipython3",
   "version": "3.12.5"
  },
  "papermill": {
   "default_parameters": {},
   "duration": 23.633182,
   "end_time": "2025-05-15T16:16:17.977142",
   "environment_variables": {},
   "exception": null,
   "input_path": "02_xgboost_fitting_external_20genes.ipynb",
   "output_path": "results_20/executed_notebooks/xgboost_fitting_external_CT_pDC_GS_7_seed2.ipynb",
   "parameters": {
    "CELL_TYPE": "pDC",
    "SEED": 7,
    "TEST_SPLIT_IDX": 2
   },
   "start_time": "2025-05-15T16:15:54.343960",
   "version": "2.6.0"
  }
 },
 "nbformat": 4,
 "nbformat_minor": 5
}