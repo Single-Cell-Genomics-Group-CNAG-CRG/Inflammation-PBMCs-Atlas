{
 "cells": [
  {
   "cell_type": "code",
   "execution_count": 1,
   "id": "4f69ae6d",
   "metadata": {
    "editable": true,
    "execution": {
     "iopub.execute_input": "2025-05-15T16:10:39.264398Z",
     "iopub.status.busy": "2025-05-15T16:10:39.263592Z",
     "iopub.status.idle": "2025-05-15T16:10:39.267509Z",
     "shell.execute_reply": "2025-05-15T16:10:39.267134Z"
    },
    "papermill": {
     "duration": 0.013064,
     "end_time": "2025-05-15T16:10:39.268551",
     "exception": false,
     "start_time": "2025-05-15T16:10:39.255487",
     "status": "completed"
    },
    "slideshow": {
     "slide_type": ""
    },
    "tags": [
     "parameters"
    ]
   },
   "outputs": [],
   "source": [
    "CELL_TYPE = 'pDC'\n",
    "N_GENES: int = 20\n",
    "SEED = 'shap_studyID' #'disease_NOstudy' 'study_NOdisease' or 'int' or 'shap_studyID'\n",
    "TEST_SPLIT_IDX: int = 1 #[0,4]"
   ]
  },
  {
   "cell_type": "code",
   "execution_count": 2,
   "id": "aafc813c",
   "metadata": {
    "execution": {
     "iopub.execute_input": "2025-05-15T16:10:39.280771Z",
     "iopub.status.busy": "2025-05-15T16:10:39.280536Z",
     "iopub.status.idle": "2025-05-15T16:10:39.283680Z",
     "shell.execute_reply": "2025-05-15T16:10:39.283329Z"
    },
    "papermill": {
     "duration": 0.010665,
     "end_time": "2025-05-15T16:10:39.284675",
     "exception": false,
     "start_time": "2025-05-15T16:10:39.274010",
     "status": "completed"
    },
    "tags": [
     "injected-parameters"
    ]
   },
   "outputs": [],
   "source": [
    "# Parameters\n",
    "CELL_TYPE = \"B\"\n",
    "SEED = 16\n",
    "TEST_SPLIT_IDX = 1\n"
   ]
  },
  {
   "cell_type": "code",
   "execution_count": 3,
   "id": "4c99092c",
   "metadata": {
    "execution": {
     "iopub.execute_input": "2025-05-15T16:10:39.297619Z",
     "iopub.status.busy": "2025-05-15T16:10:39.297068Z",
     "iopub.status.idle": "2025-05-15T16:10:39.299778Z",
     "shell.execute_reply": "2025-05-15T16:10:39.299425Z"
    },
    "papermill": {
     "duration": 0.010513,
     "end_time": "2025-05-15T16:10:39.300810",
     "exception": false,
     "start_time": "2025-05-15T16:10:39.290297",
     "status": "completed"
    },
    "tags": []
   },
   "outputs": [],
   "source": [
    "N_SPLITS: int = 5\n",
    "N_TRIALS: int = 50"
   ]
  },
  {
   "cell_type": "code",
   "execution_count": 4,
   "id": "1f57bc31",
   "metadata": {
    "execution": {
     "iopub.execute_input": "2025-05-15T16:10:39.315103Z",
     "iopub.status.busy": "2025-05-15T16:10:39.314513Z",
     "iopub.status.idle": "2025-05-15T16:10:41.422543Z",
     "shell.execute_reply": "2025-05-15T16:10:41.421967Z"
    },
    "papermill": {
     "duration": 2.117319,
     "end_time": "2025-05-15T16:10:41.423871",
     "exception": false,
     "start_time": "2025-05-15T16:10:39.306552",
     "status": "completed"
    },
    "tags": []
   },
   "outputs": [],
   "source": [
    "import os\n",
    "import sys\n",
    "from pyprojroot.here import here\n",
    "import pandas as pd\n",
    "import anndata as ad\n",
    "import numpy as np\n",
    "import math\n",
    "from sklearn.model_selection import StratifiedGroupKFold\n",
    "from sklearn.preprocessing import LabelEncoder\n",
    "from sklearn.metrics import f1_score\n",
    "import matplotlib.pyplot as plt\n",
    "import seaborn as sns\n",
    "from itertools import product\n",
    "from sklearn.metrics import balanced_accuracy_score, f1_score\n",
    "import optuna\n",
    "\n",
    "import joblib\n",
    "import pickle\n",
    "import datetime\n",
    "\n",
    "import collections\n",
    "\n",
    "import xgboost\n",
    "from sklearn.preprocessing import LabelEncoder\n",
    "\n",
    "import scipy.sparse as ssp\n",
    "import joblib\n",
    "\n",
    "from dotenv import load_dotenv"
   ]
  },
  {
   "cell_type": "code",
   "execution_count": 5,
   "id": "8bdfd9b1",
   "metadata": {
    "execution": {
     "iopub.execute_input": "2025-05-15T16:10:41.436903Z",
     "iopub.status.busy": "2025-05-15T16:10:41.436298Z",
     "iopub.status.idle": "2025-05-15T16:10:41.442875Z",
     "shell.execute_reply": "2025-05-15T16:10:41.442539Z"
    },
    "papermill": {
     "duration": 0.014073,
     "end_time": "2025-05-15T16:10:41.443747",
     "exception": false,
     "start_time": "2025-05-15T16:10:41.429674",
     "status": "completed"
    },
    "tags": []
   },
   "outputs": [
    {
     "data": {
      "text/plain": [
       "True"
      ]
     },
     "execution_count": 5,
     "metadata": {},
     "output_type": "execute_result"
    }
   ],
   "source": [
    "load_dotenv()"
   ]
  },
  {
   "cell_type": "markdown",
   "id": "39554c91",
   "metadata": {
    "papermill": {
     "duration": 0.005511,
     "end_time": "2025-05-15T16:10:41.454698",
     "exception": false,
     "start_time": "2025-05-15T16:10:41.449187",
     "status": "completed"
    },
    "tags": []
   },
   "source": [
    "# LOAD DATASET"
   ]
  },
  {
   "cell_type": "code",
   "execution_count": 6,
   "id": "5b5a8687",
   "metadata": {
    "execution": {
     "iopub.execute_input": "2025-05-15T16:10:41.467968Z",
     "iopub.status.busy": "2025-05-15T16:10:41.467552Z",
     "iopub.status.idle": "2025-05-15T16:10:41.786138Z",
     "shell.execute_reply": "2025-05-15T16:10:41.785696Z"
    },
    "papermill": {
     "duration": 0.326681,
     "end_time": "2025-05-15T16:10:41.787671",
     "exception": false,
     "start_time": "2025-05-15T16:10:41.460990",
     "status": "completed"
    },
    "tags": []
   },
   "outputs": [],
   "source": [
    "train_adata = ad.read_h5ad(\n",
    "    here(f'03_downstream_analysis/08_gene_importance/xgboost_external_validation/xgboost_TopN_genes/data_cellTypes/EXTERNAL_{CELL_TYPE}.filtered.log1p.h5ad')\n",
    ")"
   ]
  },
  {
   "cell_type": "code",
   "execution_count": 7,
   "id": "c29053fc",
   "metadata": {
    "execution": {
     "iopub.execute_input": "2025-05-15T16:10:41.802356Z",
     "iopub.status.busy": "2025-05-15T16:10:41.801876Z",
     "iopub.status.idle": "2025-05-15T16:10:41.821760Z",
     "shell.execute_reply": "2025-05-15T16:10:41.821382Z"
    },
    "papermill": {
     "duration": 0.026963,
     "end_time": "2025-05-15T16:10:41.822640",
     "exception": false,
     "start_time": "2025-05-15T16:10:41.795677",
     "status": "completed"
    },
    "tags": []
   },
   "outputs": [
    {
     "name": "stdout",
     "output_type": "stream",
     "text": [
      "['ENSG00000100906' 'ENSG00000277443' 'ENSG00000111335' 'ENSG00000106803'\n",
      " 'ENSG00000185201' 'ENSG00000176533' 'ENSG00000204252' 'ENSG00000104904'\n",
      " 'ENSG00000227507' 'ENSG00000135404' 'ENSG00000152778' 'ENSG00000198520'\n",
      " 'ENSG00000132432' 'ENSG00000155368' 'ENSG00000005844' 'ENSG00000107968'\n",
      " 'ENSG00000123416' 'ENSG00000175768' 'ENSG00000175203' 'ENSG00000205542'\n",
      " 'ENSG00000127314' 'ENSG00000204642' 'ENSG00000277791' 'ENSG00000117318'\n",
      " 'ENSG00000163191' 'ENSG00000163131' 'ENSG00000117523' 'ENSG00000171700'\n",
      " 'ENSG00000234745' 'ENSG00000092820' 'ENSG00000206503' 'ENSG00000027697'\n",
      " 'ENSG00000133872' 'ENSG00000170345' 'ENSG00000143924' 'ENSG00000204287'\n",
      " 'ENSG00000184007' 'ENSG00000211895' 'ENSG00000002586' 'ENSG00000160213'\n",
      " 'ENSG00000271503' 'ENSG00000005339' 'ENSG00000115738' 'ENSG00000168394'\n",
      " 'ENSG00000121879' 'ENSG00000160223' 'ENSG00000090554' 'ENSG00000120738'\n",
      " 'ENSG00000125534' 'ENSG00000109861' 'ENSG00000159958' 'ENSG00000151882'\n",
      " 'ENSG00000158869' 'ENSG00000133134' 'ENSG00000138674' 'ENSG00000135821'\n",
      " 'ENSG00000145675' 'ENSG00000204592' 'ENSG00000213145' 'ENSG00000110395'\n",
      " 'ENSG00000100393' 'ENSG00000066294' 'ENSG00000187608' 'ENSG00000142634'\n",
      " 'ENSG00000119655' 'ENSG00000163563' 'ENSG00000072958' 'ENSG00000104921'\n",
      " 'ENSG00000156411' 'ENSG00000081059' 'ENSG00000183486' 'ENSG00000102265'\n",
      " 'ENSG00000168685' 'ENSG00000140968' 'ENSG00000118640' 'ENSG00000100300'\n",
      " 'ENSG00000100100' 'ENSG00000088986' 'ENSG00000160932' 'ENSG00000158050'\n",
      " 'ENSG00000163660' 'ENSG00000158517' 'ENSG00000009790' 'ENSG00000101439'\n",
      " 'ENSG00000197102' 'ENSG00000179218' 'ENSG00000144746' 'ENSG00000198832'\n",
      " 'ENSG00000175567' 'ENSG00000068796' 'ENSG00000160255' 'ENSG00000172531'\n",
      " 'ENSG00000084207' 'ENSG00000154589' 'ENSG00000277734' 'ENSG00000100280'\n",
      " 'ENSG00000170476' 'ENSG00000125347' 'ENSG00000204843' 'ENSG00000162739']\n"
     ]
    }
   ],
   "source": [
    "if SEED != 'all':\n",
    "    gene_subset = np.load(here(f'03_downstream_analysis/08_gene_importance/xgboost_external_validation/shap_gene_selection/gene_subsets_{N_GENES}/{CELL_TYPE}_{SEED}.npy'), allow_pickle=True)\n",
    "    train_adata = train_adata[:,gene_subset]\n",
    "    print(gene_subset)\n",
    "elif SEED == 'all':\n",
    "    print('Using all genes')\n",
    "else:\n",
    "    raise ValueError()"
   ]
  },
  {
   "cell_type": "code",
   "execution_count": 8,
   "id": "4777b327",
   "metadata": {
    "execution": {
     "iopub.execute_input": "2025-05-15T16:10:41.835125Z",
     "iopub.status.busy": "2025-05-15T16:10:41.834777Z",
     "iopub.status.idle": "2025-05-15T16:10:41.838241Z",
     "shell.execute_reply": "2025-05-15T16:10:41.837871Z"
    },
    "papermill": {
     "duration": 0.010921,
     "end_time": "2025-05-15T16:10:41.839260",
     "exception": false,
     "start_time": "2025-05-15T16:10:41.828339",
     "status": "completed"
    },
    "tags": []
   },
   "outputs": [
    {
     "data": {
      "text/plain": [
       "(45811, 100)"
      ]
     },
     "execution_count": 8,
     "metadata": {},
     "output_type": "execute_result"
    }
   ],
   "source": [
    "train_adata.shape"
   ]
  },
  {
   "cell_type": "code",
   "execution_count": 9,
   "id": "05b83456",
   "metadata": {
    "execution": {
     "iopub.execute_input": "2025-05-15T16:10:41.852587Z",
     "iopub.status.busy": "2025-05-15T16:10:41.852292Z",
     "iopub.status.idle": "2025-05-15T16:10:41.856913Z",
     "shell.execute_reply": "2025-05-15T16:10:41.856546Z"
    },
    "papermill": {
     "duration": 0.012483,
     "end_time": "2025-05-15T16:10:41.857893",
     "exception": false,
     "start_time": "2025-05-15T16:10:41.845410",
     "status": "completed"
    },
    "tags": []
   },
   "outputs": [
    {
     "data": {
      "text/plain": [
       "['RA', 'healthy', 'COVID', 'HIV', 'cirrhosis', 'CD', 'SLE', 'sepsis']\n",
       "Categories (8, object): ['CD', 'COVID', 'HIV', 'RA', 'SLE', 'cirrhosis', 'healthy', 'sepsis']"
      ]
     },
     "execution_count": 9,
     "metadata": {},
     "output_type": "execute_result"
    }
   ],
   "source": [
    "train_adata.obs.disease.unique()"
   ]
  },
  {
   "cell_type": "code",
   "execution_count": 10,
   "id": "3466e93e",
   "metadata": {
    "execution": {
     "iopub.execute_input": "2025-05-15T16:10:41.871181Z",
     "iopub.status.busy": "2025-05-15T16:10:41.870930Z",
     "iopub.status.idle": "2025-05-15T16:10:41.876963Z",
     "shell.execute_reply": "2025-05-15T16:10:41.876577Z"
    },
    "papermill": {
     "duration": 0.014223,
     "end_time": "2025-05-15T16:10:41.878168",
     "exception": false,
     "start_time": "2025-05-15T16:10:41.863945",
     "status": "completed"
    },
    "tags": []
   },
   "outputs": [
    {
     "data": {
      "text/plain": [
       "['SCGT00val_I036015_T0', 'SCGT00val_I0364_T0', 'SCGT00val_I036021_T0', 'SCGT00val_I036028_T0', 'SCGT00val_I036016_T0', ..., '10XGenomics_10XHC2_T0', '10XGenomics_10XHC3_T0', '10XGenomics_10XHC5_T0', '10XGenomics_10XHC7_T0', '10XGenomics_10XHC8_T0']\n",
       "Length: 86\n",
       "Categories (86, object): ['10XGenomics_10XHC1_T0', '10XGenomics_10XHC2_T0', '10XGenomics_10XHC3_T0', '10XGenomics_10XHC4_T0', ..., 'Savage2021_BRISL6_T0', 'Savage2021_BRISL7_T0', 'Savage2021_PIDA_T0', 'Savage2021_PIDB_T0']"
      ]
     },
     "execution_count": 10,
     "metadata": {},
     "output_type": "execute_result"
    }
   ],
   "source": [
    "train_adata.obs.sampleID.unique()"
   ]
  },
  {
   "cell_type": "code",
   "execution_count": 11,
   "id": "699bffd0",
   "metadata": {
    "execution": {
     "iopub.execute_input": "2025-05-15T16:10:41.891457Z",
     "iopub.status.busy": "2025-05-15T16:10:41.891179Z",
     "iopub.status.idle": "2025-05-15T16:10:42.038351Z",
     "shell.execute_reply": "2025-05-15T16:10:42.037830Z"
    },
    "papermill": {
     "duration": 0.155414,
     "end_time": "2025-05-15T16:10:42.039830",
     "exception": false,
     "start_time": "2025-05-15T16:10:41.884416",
     "status": "completed"
    },
    "tags": []
   },
   "outputs": [],
   "source": [
    "all_idxs = np.arange(train_adata.obs.shape[0])\n",
    "left_out_splits = [s[1] for s in StratifiedGroupKFold(n_splits=N_SPLITS).split(all_idxs, train_adata.obs.disease, train_adata.obs.sampleID)]"
   ]
  },
  {
   "cell_type": "code",
   "execution_count": 12,
   "id": "672be1f8",
   "metadata": {
    "execution": {
     "iopub.execute_input": "2025-05-15T16:10:42.053915Z",
     "iopub.status.busy": "2025-05-15T16:10:42.053636Z",
     "iopub.status.idle": "2025-05-15T16:10:42.057405Z",
     "shell.execute_reply": "2025-05-15T16:10:42.057038Z"
    },
    "papermill": {
     "duration": 0.011497,
     "end_time": "2025-05-15T16:10:42.058332",
     "exception": false,
     "start_time": "2025-05-15T16:10:42.046835",
     "status": "completed"
    },
    "tags": []
   },
   "outputs": [
    {
     "data": {
      "text/plain": [
       "([0, 3, 4], 2, 1)"
      ]
     },
     "execution_count": 12,
     "metadata": {},
     "output_type": "execute_result"
    }
   ],
   "source": [
    "TRAIN_SPLIT_IDXS = [0,1,2,3,4]\n",
    "VAL_SPLIT_IDX = (TEST_SPLIT_IDX + 1) % 5\n",
    "TRAIN_SPLIT_IDXS.remove(TEST_SPLIT_IDX)\n",
    "TRAIN_SPLIT_IDXS.remove(VAL_SPLIT_IDX)\n",
    "TRAIN_SPLIT_IDXS, VAL_SPLIT_IDX, TEST_SPLIT_IDX"
   ]
  },
  {
   "cell_type": "code",
   "execution_count": 13,
   "id": "09ec2c29",
   "metadata": {
    "execution": {
     "iopub.execute_input": "2025-05-15T16:10:42.072010Z",
     "iopub.status.busy": "2025-05-15T16:10:42.071677Z",
     "iopub.status.idle": "2025-05-15T16:10:42.074620Z",
     "shell.execute_reply": "2025-05-15T16:10:42.074243Z"
    },
    "papermill": {
     "duration": 0.010954,
     "end_time": "2025-05-15T16:10:42.075634",
     "exception": false,
     "start_time": "2025-05-15T16:10:42.064680",
     "status": "completed"
    },
    "tags": []
   },
   "outputs": [],
   "source": [
    "train_idxs = np.concatenate([left_out_splits[idx] for idx in TRAIN_SPLIT_IDXS])\n",
    "val_idxs = left_out_splits[VAL_SPLIT_IDX]\n",
    "test_idxs = left_out_splits[TEST_SPLIT_IDX]"
   ]
  },
  {
   "cell_type": "markdown",
   "id": "2bdcee40",
   "metadata": {
    "papermill": {
     "duration": 0.006137,
     "end_time": "2025-05-15T16:10:42.088241",
     "exception": false,
     "start_time": "2025-05-15T16:10:42.082104",
     "status": "completed"
    },
    "tags": []
   },
   "source": [
    "### SUBSET DATASET INTO TRAIN/TEST/VAL SPLITS"
   ]
  },
  {
   "cell_type": "code",
   "execution_count": 14,
   "id": "bce3170f",
   "metadata": {
    "execution": {
     "iopub.execute_input": "2025-05-15T16:10:42.101639Z",
     "iopub.status.busy": "2025-05-15T16:10:42.101329Z",
     "iopub.status.idle": "2025-05-15T16:10:42.208624Z",
     "shell.execute_reply": "2025-05-15T16:10:42.208206Z"
    },
    "papermill": {
     "duration": 0.115326,
     "end_time": "2025-05-15T16:10:42.209638",
     "exception": false,
     "start_time": "2025-05-15T16:10:42.094312",
     "status": "completed"
    },
    "tags": []
   },
   "outputs": [
    {
     "data": {
      "text/plain": [
       "((27810, 100), (8381, 100), (9620, 100))"
      ]
     },
     "execution_count": 14,
     "metadata": {},
     "output_type": "execute_result"
    }
   ],
   "source": [
    "X_train = train_adata.X[train_idxs]\n",
    "X_test = train_adata.X[test_idxs]\n",
    "X_val = train_adata.X[val_idxs]\n",
    "X_train.shape, X_test.shape, X_val.shape"
   ]
  },
  {
   "cell_type": "code",
   "execution_count": 15,
   "id": "0c30d82d",
   "metadata": {
    "execution": {
     "iopub.execute_input": "2025-05-15T16:10:42.224040Z",
     "iopub.status.busy": "2025-05-15T16:10:42.223738Z",
     "iopub.status.idle": "2025-05-15T16:10:42.232426Z",
     "shell.execute_reply": "2025-05-15T16:10:42.232032Z"
    },
    "papermill": {
     "duration": 0.016841,
     "end_time": "2025-05-15T16:10:42.233440",
     "exception": false,
     "start_time": "2025-05-15T16:10:42.216599",
     "status": "completed"
    },
    "tags": []
   },
   "outputs": [
    {
     "data": {
      "text/plain": [
       "((27810,), (8381,), (9620,))"
      ]
     },
     "execution_count": 15,
     "metadata": {},
     "output_type": "execute_result"
    }
   ],
   "source": [
    "y_train = train_adata.obs.iloc[train_idxs].disease.values.astype(str)\n",
    "y_test = train_adata.obs.iloc[test_idxs].disease.values.astype(str)\n",
    "y_val = train_adata.obs.iloc[val_idxs].disease.values.astype(str)\n",
    "y_train.shape, y_test.shape, y_val.shape"
   ]
  },
  {
   "cell_type": "code",
   "execution_count": 16,
   "id": "d0b4f345",
   "metadata": {
    "execution": {
     "iopub.execute_input": "2025-05-15T16:10:42.247125Z",
     "iopub.status.busy": "2025-05-15T16:10:42.246848Z",
     "iopub.status.idle": "2025-05-15T16:10:42.260280Z",
     "shell.execute_reply": "2025-05-15T16:10:42.259798Z"
    },
    "papermill": {
     "duration": 0.021937,
     "end_time": "2025-05-15T16:10:42.261616",
     "exception": false,
     "start_time": "2025-05-15T16:10:42.239679",
     "status": "completed"
    },
    "tags": []
   },
   "outputs": [],
   "source": [
    "lenc = LabelEncoder()\n",
    "y_train_enc = lenc.fit_transform(y_train)\n",
    "y_val_enc = lenc.transform(y_val)\n",
    "y_test_enc = lenc.transform(y_test)"
   ]
  },
  {
   "cell_type": "markdown",
   "id": "148a63ab",
   "metadata": {
    "papermill": {
     "duration": 0.006239,
     "end_time": "2025-05-15T16:10:42.274575",
     "exception": false,
     "start_time": "2025-05-15T16:10:42.268336",
     "status": "completed"
    },
    "tags": []
   },
   "source": [
    "### GENERATE F1 "
   ]
  },
  {
   "cell_type": "code",
   "execution_count": 17,
   "id": "ad4aa0d6",
   "metadata": {
    "execution": {
     "iopub.execute_input": "2025-05-15T16:10:42.287777Z",
     "iopub.status.busy": "2025-05-15T16:10:42.287500Z",
     "iopub.status.idle": "2025-05-15T16:10:42.290299Z",
     "shell.execute_reply": "2025-05-15T16:10:42.289952Z"
    },
    "papermill": {
     "duration": 0.010591,
     "end_time": "2025-05-15T16:10:42.291266",
     "exception": false,
     "start_time": "2025-05-15T16:10:42.280675",
     "status": "completed"
    },
    "tags": []
   },
   "outputs": [],
   "source": [
    "def custom_f1_score(y_true, y_pred):\n",
    "    return -f1_score(y_true, y_pred.argmax(1), average='weighted')"
   ]
  },
  {
   "cell_type": "code",
   "execution_count": 18,
   "id": "30d8c4cd",
   "metadata": {
    "execution": {
     "iopub.execute_input": "2025-05-15T16:10:42.304412Z",
     "iopub.status.busy": "2025-05-15T16:10:42.304146Z",
     "iopub.status.idle": "2025-05-15T16:10:42.308294Z",
     "shell.execute_reply": "2025-05-15T16:10:42.307906Z"
    },
    "papermill": {
     "duration": 0.012207,
     "end_time": "2025-05-15T16:10:42.309421",
     "exception": false,
     "start_time": "2025-05-15T16:10:42.297214",
     "status": "completed"
    },
    "tags": []
   },
   "outputs": [],
   "source": [
    "eval_metric=custom_f1_score\n",
    "eval_metric_name='custom_f1_score'\n",
    "\n",
    "def objective(trial):\n",
    "    params = {\n",
    "        'n_estimators': 1500,\n",
    "        'max_depth': trial.suggest_int('max_depth', 3, 20),\n",
    "        'min_child_weight': trial.suggest_int('min_child_weight', 1, 250),\n",
    "        'subsample': trial.suggest_float('subsample', 0.1, 1.0),\n",
    "        'colsample_bynode': trial.suggest_float('colsample_bynode', 0.1, 1.0),\n",
    "        'learning_rate': trial.suggest_float('learning_rate', 1e-3, 5e-1, log=True),\n",
    "    }\n",
    "    pruning_callback = optuna.integration.XGBoostPruningCallback(trial, f'validation_0-{eval_metric_name}')\n",
    "    es_callback = xgboost.callback.EarlyStopping(20, min_delta=0.001)\n",
    "    xgb = xgboost.XGBClassifier(\n",
    "        eval_metric=eval_metric,\n",
    "        callbacks=[pruning_callback, es_callback],\n",
    "        n_jobs=5,\n",
    "        **params\n",
    "    )\n",
    "    xgb.fit(\n",
    "        X_train, \n",
    "        y_train_enc, \n",
    "        verbose=0,\n",
    "        eval_set=[(X_val, y_val_enc)],\n",
    "    )\n",
    "    trial.set_user_attr('best_iteration', xgb.best_iteration)\n",
    "\n",
    "    return xgb.best_score"
   ]
  },
  {
   "cell_type": "code",
   "execution_count": 19,
   "id": "f71c9938",
   "metadata": {
    "execution": {
     "iopub.execute_input": "2025-05-15T16:10:42.323071Z",
     "iopub.status.busy": "2025-05-15T16:10:42.322683Z",
     "iopub.status.idle": "2025-05-15T16:16:21.968213Z",
     "shell.execute_reply": "2025-05-15T16:16:21.967632Z"
    },
    "papermill": {
     "duration": 339.653397,
     "end_time": "2025-05-15T16:16:21.969310",
     "exception": false,
     "start_time": "2025-05-15T16:10:42.315913",
     "status": "completed"
    },
    "scrolled": true,
    "tags": []
   },
   "outputs": [
    {
     "name": "stderr",
     "output_type": "stream",
     "text": [
      "[I 2025-05-15 18:10:42,325] A new study created in memory with name: no-name-e19bc229-44fe-4e1a-b612-dacef64fa85e\n"
     ]
    },
    {
     "name": "stderr",
     "output_type": "stream",
     "text": [
      "[I 2025-05-15 18:10:45,256] Trial 0 finished with value: -0.556436 and parameters: {'max_depth': 9, 'min_child_weight': 238, 'subsample': 0.7587945476302645, 'colsample_bynode': 0.6387926357773329, 'learning_rate': 0.0026368755339723046}. Best is trial 0 with value: -0.556436.\n"
     ]
    },
    {
     "name": "stderr",
     "output_type": "stream",
     "text": [
      "[I 2025-05-15 18:11:07,031] Trial 1 finished with value: -0.740313 and parameters: {'max_depth': 5, 'min_child_weight': 15, 'subsample': 0.8795585311974417, 'colsample_bynode': 0.6410035105688879, 'learning_rate': 0.08148293210105287}. Best is trial 1 with value: -0.740313.\n"
     ]
    },
    {
     "name": "stderr",
     "output_type": "stream",
     "text": [
      "[I 2025-05-15 18:11:08,874] Trial 2 finished with value: -0.519992 and parameters: {'max_depth': 3, 'min_child_weight': 243, 'subsample': 0.8491983767203796, 'colsample_bynode': 0.29110519961044856, 'learning_rate': 0.003095566460242371}. Best is trial 1 with value: -0.740313.\n"
     ]
    },
    {
     "name": "stderr",
     "output_type": "stream",
     "text": [
      "[I 2025-05-15 18:11:46,274] Trial 3 finished with value: -0.670745 and parameters: {'max_depth': 6, 'min_child_weight': 77, 'subsample': 0.5722807884690141, 'colsample_bynode': 0.48875051677790415, 'learning_rate': 0.006109683510122491}. Best is trial 1 with value: -0.740313.\n"
     ]
    },
    {
     "name": "stderr",
     "output_type": "stream",
     "text": [
      "[I 2025-05-15 18:12:32,947] Trial 4 finished with value: -0.723242 and parameters: {'max_depth': 14, 'min_child_weight': 35, 'subsample': 0.3629301836816964, 'colsample_bynode': 0.4297256589643226, 'learning_rate': 0.01701841881702917}. Best is trial 1 with value: -0.740313.\n"
     ]
    },
    {
     "name": "stderr",
     "output_type": "stream",
     "text": [
      "[I 2025-05-15 18:12:35,910] Trial 5 finished with value: -0.636404 and parameters: {'max_depth': 17, 'min_child_weight': 50, 'subsample': 0.5628109945722505, 'colsample_bynode': 0.6331731119758383, 'learning_rate': 0.0013346527038305934}. Best is trial 1 with value: -0.740313.\n"
     ]
    },
    {
     "name": "stderr",
     "output_type": "stream",
     "text": [
      "[I 2025-05-15 18:12:36,178] Trial 6 pruned. Trial was pruned at iteration 0.\n"
     ]
    },
    {
     "name": "stderr",
     "output_type": "stream",
     "text": [
      "[I 2025-05-15 18:12:36,443] Trial 7 pruned. Trial was pruned at iteration 0.\n"
     ]
    },
    {
     "name": "stderr",
     "output_type": "stream",
     "text": [
      "[I 2025-05-15 18:12:36,690] Trial 8 pruned. Trial was pruned at iteration 0.\n"
     ]
    },
    {
     "name": "stderr",
     "output_type": "stream",
     "text": [
      "[I 2025-05-15 18:12:36,970] Trial 9 pruned. Trial was pruned at iteration 0.\n"
     ]
    },
    {
     "name": "stderr",
     "output_type": "stream",
     "text": [
      "[I 2025-05-15 18:12:55,700] Trial 10 finished with value: -0.741463 and parameters: {'max_depth': 9, 'min_child_weight': 2, 'subsample': 0.9725833997090791, 'colsample_bynode': 0.11616568805333755, 'learning_rate': 0.17780618353487967}. Best is trial 10 with value: -0.741463.\n"
     ]
    },
    {
     "name": "stderr",
     "output_type": "stream",
     "text": [
      "[I 2025-05-15 18:13:17,546] Trial 11 finished with value: -0.740315 and parameters: {'max_depth': 9, 'min_child_weight': 4, 'subsample': 0.9818290990185045, 'colsample_bynode': 0.17702656156719, 'learning_rate': 0.11568531411766632}. Best is trial 10 with value: -0.741463.\n"
     ]
    },
    {
     "name": "stderr",
     "output_type": "stream",
     "text": [
      "[I 2025-05-15 18:13:34,229] Trial 12 finished with value: -0.73324 and parameters: {'max_depth': 9, 'min_child_weight': 2, 'subsample': 0.9762317723681219, 'colsample_bynode': 0.1303670507685675, 'learning_rate': 0.14353293664472047}. Best is trial 10 with value: -0.741463.\n"
     ]
    },
    {
     "name": "stderr",
     "output_type": "stream",
     "text": [
      "[I 2025-05-15 18:13:34,516] Trial 13 pruned. Trial was pruned at iteration 0.\n"
     ]
    },
    {
     "name": "stderr",
     "output_type": "stream",
     "text": [
      "[I 2025-05-15 18:13:34,794] Trial 14 pruned. Trial was pruned at iteration 0.\n"
     ]
    },
    {
     "name": "stderr",
     "output_type": "stream",
     "text": [
      "[I 2025-05-15 18:13:57,870] Trial 15 pruned. Trial was pruned at iteration 52.\n"
     ]
    },
    {
     "name": "stderr",
     "output_type": "stream",
     "text": [
      "[I 2025-05-15 18:13:58,197] Trial 16 pruned. Trial was pruned at iteration 0.\n"
     ]
    },
    {
     "name": "stderr",
     "output_type": "stream",
     "text": [
      "[I 2025-05-15 18:13:58,613] Trial 17 pruned. Trial was pruned at iteration 0.\n"
     ]
    },
    {
     "name": "stderr",
     "output_type": "stream",
     "text": [
      "[I 2025-05-15 18:14:13,904] Trial 18 finished with value: -0.741444 and parameters: {'max_depth': 12, 'min_child_weight': 35, 'subsample': 0.8272602031120428, 'colsample_bynode': 0.8109691196781996, 'learning_rate': 0.20046188160978387}. Best is trial 10 with value: -0.741463.\n"
     ]
    },
    {
     "name": "stderr",
     "output_type": "stream",
     "text": [
      "[I 2025-05-15 18:14:14,235] Trial 19 pruned. Trial was pruned at iteration 0.\n"
     ]
    },
    {
     "name": "stderr",
     "output_type": "stream",
     "text": [
      "[I 2025-05-15 18:14:25,650] Trial 20 finished with value: -0.744012 and parameters: {'max_depth': 16, 'min_child_weight': 32, 'subsample': 0.6538700099188194, 'colsample_bynode': 0.738181484206615, 'learning_rate': 0.274992163447961}. Best is trial 20 with value: -0.744012.\n"
     ]
    },
    {
     "name": "stderr",
     "output_type": "stream",
     "text": [
      "[I 2025-05-15 18:14:40,455] Trial 21 finished with value: -0.743523 and parameters: {'max_depth': 17, 'min_child_weight': 30, 'subsample': 0.6582893232370284, 'colsample_bynode': 0.7873726554233677, 'learning_rate': 0.24892967230551474}. Best is trial 20 with value: -0.744012.\n"
     ]
    },
    {
     "name": "stderr",
     "output_type": "stream",
     "text": [
      "[I 2025-05-15 18:14:53,359] Trial 22 finished with value: -0.745696 and parameters: {'max_depth': 17, 'min_child_weight': 56, 'subsample': 0.6532075268447313, 'colsample_bynode': 0.7536591679150215, 'learning_rate': 0.2800412638737953}. Best is trial 22 with value: -0.745696.\n"
     ]
    },
    {
     "name": "stderr",
     "output_type": "stream",
     "text": [
      "[I 2025-05-15 18:15:03,758] Trial 23 finished with value: -0.738985 and parameters: {'max_depth': 17, 'min_child_weight': 54, 'subsample': 0.6480081763649053, 'colsample_bynode': 0.7516142815236401, 'learning_rate': 0.33093125951665053}. Best is trial 22 with value: -0.745696.\n"
     ]
    },
    {
     "name": "stderr",
     "output_type": "stream",
     "text": [
      "[I 2025-05-15 18:15:04,097] Trial 24 pruned. Trial was pruned at iteration 0.\n"
     ]
    },
    {
     "name": "stderr",
     "output_type": "stream",
     "text": [
      "[I 2025-05-15 18:15:15,759] Trial 25 finished with value: -0.740362 and parameters: {'max_depth': 16, 'min_child_weight': 28, 'subsample': 0.6345842841551916, 'colsample_bynode': 0.7459144377570798, 'learning_rate': 0.27746494629670565}. Best is trial 22 with value: -0.745696.\n"
     ]
    },
    {
     "name": "stderr",
     "output_type": "stream",
     "text": [
      "[I 2025-05-15 18:15:16,054] Trial 26 pruned. Trial was pruned at iteration 0.\n"
     ]
    },
    {
     "name": "stderr",
     "output_type": "stream",
     "text": [
      "[I 2025-05-15 18:15:16,376] Trial 27 pruned. Trial was pruned at iteration 0.\n"
     ]
    },
    {
     "name": "stderr",
     "output_type": "stream",
     "text": [
      "[I 2025-05-15 18:15:17,038] Trial 28 pruned. Trial was pruned at iteration 2.\n"
     ]
    },
    {
     "name": "stderr",
     "output_type": "stream",
     "text": [
      "[I 2025-05-15 18:15:17,316] Trial 29 pruned. Trial was pruned at iteration 0.\n"
     ]
    },
    {
     "name": "stderr",
     "output_type": "stream",
     "text": [
      "[I 2025-05-15 18:15:17,646] Trial 30 pruned. Trial was pruned at iteration 0.\n"
     ]
    },
    {
     "name": "stderr",
     "output_type": "stream",
     "text": [
      "[I 2025-05-15 18:15:24,196] Trial 31 pruned. Trial was pruned at iteration 31.\n"
     ]
    },
    {
     "name": "stderr",
     "output_type": "stream",
     "text": [
      "[I 2025-05-15 18:15:44,324] Trial 32 finished with value: -0.741722 and parameters: {'max_depth': 19, 'min_child_weight': 16, 'subsample': 0.9107081258360081, 'colsample_bynode': 0.7882062943643418, 'learning_rate': 0.18038499291440738}. Best is trial 22 with value: -0.745696.\n"
     ]
    },
    {
     "name": "stderr",
     "output_type": "stream",
     "text": [
      "[I 2025-05-15 18:15:45,058] Trial 33 pruned. Trial was pruned at iteration 2.\n"
     ]
    },
    {
     "name": "stderr",
     "output_type": "stream",
     "text": [
      "[I 2025-05-15 18:15:45,422] Trial 34 pruned. Trial was pruned at iteration 0.\n"
     ]
    },
    {
     "name": "stderr",
     "output_type": "stream",
     "text": [
      "[I 2025-05-15 18:15:45,764] Trial 35 pruned. Trial was pruned at iteration 0.\n"
     ]
    },
    {
     "name": "stderr",
     "output_type": "stream",
     "text": [
      "[I 2025-05-15 18:15:48,321] Trial 36 pruned. Trial was pruned at iteration 10.\n"
     ]
    },
    {
     "name": "stderr",
     "output_type": "stream",
     "text": [
      "[I 2025-05-15 18:15:48,655] Trial 37 pruned. Trial was pruned at iteration 0.\n"
     ]
    },
    {
     "name": "stderr",
     "output_type": "stream",
     "text": [
      "[I 2025-05-15 18:15:59,208] Trial 38 finished with value: -0.742333 and parameters: {'max_depth': 15, 'min_child_weight': 41, 'subsample': 0.9204773401711512, 'colsample_bynode': 0.5928826314372293, 'learning_rate': 0.33629152465858175}. Best is trial 22 with value: -0.745696.\n"
     ]
    },
    {
     "name": "stderr",
     "output_type": "stream",
     "text": [
      "[I 2025-05-15 18:15:59,521] Trial 39 pruned. Trial was pruned at iteration 0.\n"
     ]
    },
    {
     "name": "stderr",
     "output_type": "stream",
     "text": [
      "[I 2025-05-15 18:15:59,847] Trial 40 pruned. Trial was pruned at iteration 0.\n"
     ]
    },
    {
     "name": "stderr",
     "output_type": "stream",
     "text": [
      "[I 2025-05-15 18:16:08,919] Trial 41 pruned. Trial was pruned at iteration 30.\n"
     ]
    },
    {
     "name": "stderr",
     "output_type": "stream",
     "text": [
      "[I 2025-05-15 18:16:09,217] Trial 42 pruned. Trial was pruned at iteration 0.\n"
     ]
    },
    {
     "name": "stderr",
     "output_type": "stream",
     "text": [
      "[I 2025-05-15 18:16:09,611] Trial 43 pruned. Trial was pruned at iteration 0.\n"
     ]
    },
    {
     "name": "stderr",
     "output_type": "stream",
     "text": [
      "[I 2025-05-15 18:16:10,981] Trial 44 pruned. Trial was pruned at iteration 5.\n"
     ]
    },
    {
     "name": "stderr",
     "output_type": "stream",
     "text": [
      "[I 2025-05-15 18:16:18,445] Trial 45 pruned. Trial was pruned at iteration 30.\n"
     ]
    },
    {
     "name": "stderr",
     "output_type": "stream",
     "text": [
      "[I 2025-05-15 18:16:18,768] Trial 46 pruned. Trial was pruned at iteration 0.\n"
     ]
    },
    {
     "name": "stderr",
     "output_type": "stream",
     "text": [
      "[I 2025-05-15 18:16:19,090] Trial 47 pruned. Trial was pruned at iteration 0.\n"
     ]
    },
    {
     "name": "stderr",
     "output_type": "stream",
     "text": [
      "[I 2025-05-15 18:16:19,711] Trial 48 pruned. Trial was pruned at iteration 2.\n"
     ]
    },
    {
     "name": "stderr",
     "output_type": "stream",
     "text": [
      "[I 2025-05-15 18:16:21,871] Trial 49 pruned. Trial was pruned at iteration 7.\n"
     ]
    }
   ],
   "source": [
    "sampler = optuna.samplers.TPESampler(seed=42)\n",
    "study = optuna.create_study(direction='minimize', sampler=sampler)\n",
    "study.optimize(objective, n_trials=N_TRIALS, gc_after_trial=True)"
   ]
  },
  {
   "cell_type": "code",
   "execution_count": 20,
   "id": "95d01cc2",
   "metadata": {
    "execution": {
     "iopub.execute_input": "2025-05-15T16:16:21.988820Z",
     "iopub.status.busy": "2025-05-15T16:16:21.988591Z",
     "iopub.status.idle": "2025-05-15T16:16:22.028586Z",
     "shell.execute_reply": "2025-05-15T16:16:22.028227Z"
    },
    "papermill": {
     "duration": 0.050295,
     "end_time": "2025-05-15T16:16:22.029538",
     "exception": false,
     "start_time": "2025-05-15T16:16:21.979243",
     "status": "completed"
    },
    "tags": []
   },
   "outputs": [
    {
     "data": {
      "text/plain": [
       "['/scratch_isilon/groups/singlecell/shared/projects/Inflammation-PBMCs-Atlas/03_downstream_analysis/08_gene_importance/xgboost_external_validation/xgboost_TopN_genes/results_20/study/B_16_1_xgboost.pkl']"
      ]
     },
     "execution_count": 20,
     "metadata": {},
     "output_type": "execute_result"
    }
   ],
   "source": [
    "out_dir = here(f'03_downstream_analysis/08_gene_importance/xgboost_external_validation/xgboost_TopN_genes/results_{N_GENES}/study')\n",
    "\n",
    "if not os.path.exists(out_dir):\n",
    "    os.makedirs(out_dir)\n",
    "    \n",
    "joblib.dump(study,os.path.join(out_dir, f'{CELL_TYPE}_{SEED}_{TEST_SPLIT_IDX}_xgboost.pkl'))"
   ]
  },
  {
   "cell_type": "code",
   "execution_count": 21,
   "id": "9e7a2334",
   "metadata": {
    "execution": {
     "iopub.execute_input": "2025-05-15T16:16:22.047842Z",
     "iopub.status.busy": "2025-05-15T16:16:22.047556Z",
     "iopub.status.idle": "2025-05-15T16:16:30.198251Z",
     "shell.execute_reply": "2025-05-15T16:16:30.197861Z"
    },
    "papermill": {
     "duration": 8.161567,
     "end_time": "2025-05-15T16:16:30.199462",
     "exception": false,
     "start_time": "2025-05-15T16:16:22.037895",
     "status": "completed"
    },
    "tags": []
   },
   "outputs": [
    {
     "data": {
      "text/html": [
       "<style>#sk-container-id-1 {\n",
       "  /* Definition of color scheme common for light and dark mode */\n",
       "  --sklearn-color-text: black;\n",
       "  --sklearn-color-line: gray;\n",
       "  /* Definition of color scheme for unfitted estimators */\n",
       "  --sklearn-color-unfitted-level-0: #fff5e6;\n",
       "  --sklearn-color-unfitted-level-1: #f6e4d2;\n",
       "  --sklearn-color-unfitted-level-2: #ffe0b3;\n",
       "  --sklearn-color-unfitted-level-3: chocolate;\n",
       "  /* Definition of color scheme for fitted estimators */\n",
       "  --sklearn-color-fitted-level-0: #f0f8ff;\n",
       "  --sklearn-color-fitted-level-1: #d4ebff;\n",
       "  --sklearn-color-fitted-level-2: #b3dbfd;\n",
       "  --sklearn-color-fitted-level-3: cornflowerblue;\n",
       "\n",
       "  /* Specific color for light theme */\n",
       "  --sklearn-color-text-on-default-background: var(--sg-text-color, var(--theme-code-foreground, var(--jp-content-font-color1, black)));\n",
       "  --sklearn-color-background: var(--sg-background-color, var(--theme-background, var(--jp-layout-color0, white)));\n",
       "  --sklearn-color-border-box: var(--sg-text-color, var(--theme-code-foreground, var(--jp-content-font-color1, black)));\n",
       "  --sklearn-color-icon: #696969;\n",
       "\n",
       "  @media (prefers-color-scheme: dark) {\n",
       "    /* Redefinition of color scheme for dark theme */\n",
       "    --sklearn-color-text-on-default-background: var(--sg-text-color, var(--theme-code-foreground, var(--jp-content-font-color1, white)));\n",
       "    --sklearn-color-background: var(--sg-background-color, var(--theme-background, var(--jp-layout-color0, #111)));\n",
       "    --sklearn-color-border-box: var(--sg-text-color, var(--theme-code-foreground, var(--jp-content-font-color1, white)));\n",
       "    --sklearn-color-icon: #878787;\n",
       "  }\n",
       "}\n",
       "\n",
       "#sk-container-id-1 {\n",
       "  color: var(--sklearn-color-text);\n",
       "}\n",
       "\n",
       "#sk-container-id-1 pre {\n",
       "  padding: 0;\n",
       "}\n",
       "\n",
       "#sk-container-id-1 input.sk-hidden--visually {\n",
       "  border: 0;\n",
       "  clip: rect(1px 1px 1px 1px);\n",
       "  clip: rect(1px, 1px, 1px, 1px);\n",
       "  height: 1px;\n",
       "  margin: -1px;\n",
       "  overflow: hidden;\n",
       "  padding: 0;\n",
       "  position: absolute;\n",
       "  width: 1px;\n",
       "}\n",
       "\n",
       "#sk-container-id-1 div.sk-dashed-wrapped {\n",
       "  border: 1px dashed var(--sklearn-color-line);\n",
       "  margin: 0 0.4em 0.5em 0.4em;\n",
       "  box-sizing: border-box;\n",
       "  padding-bottom: 0.4em;\n",
       "  background-color: var(--sklearn-color-background);\n",
       "}\n",
       "\n",
       "#sk-container-id-1 div.sk-container {\n",
       "  /* jupyter's `normalize.less` sets `[hidden] { display: none; }`\n",
       "     but bootstrap.min.css set `[hidden] { display: none !important; }`\n",
       "     so we also need the `!important` here to be able to override the\n",
       "     default hidden behavior on the sphinx rendered scikit-learn.org.\n",
       "     See: https://github.com/scikit-learn/scikit-learn/issues/21755 */\n",
       "  display: inline-block !important;\n",
       "  position: relative;\n",
       "}\n",
       "\n",
       "#sk-container-id-1 div.sk-text-repr-fallback {\n",
       "  display: none;\n",
       "}\n",
       "\n",
       "div.sk-parallel-item,\n",
       "div.sk-serial,\n",
       "div.sk-item {\n",
       "  /* draw centered vertical line to link estimators */\n",
       "  background-image: linear-gradient(var(--sklearn-color-text-on-default-background), var(--sklearn-color-text-on-default-background));\n",
       "  background-size: 2px 100%;\n",
       "  background-repeat: no-repeat;\n",
       "  background-position: center center;\n",
       "}\n",
       "\n",
       "/* Parallel-specific style estimator block */\n",
       "\n",
       "#sk-container-id-1 div.sk-parallel-item::after {\n",
       "  content: \"\";\n",
       "  width: 100%;\n",
       "  border-bottom: 2px solid var(--sklearn-color-text-on-default-background);\n",
       "  flex-grow: 1;\n",
       "}\n",
       "\n",
       "#sk-container-id-1 div.sk-parallel {\n",
       "  display: flex;\n",
       "  align-items: stretch;\n",
       "  justify-content: center;\n",
       "  background-color: var(--sklearn-color-background);\n",
       "  position: relative;\n",
       "}\n",
       "\n",
       "#sk-container-id-1 div.sk-parallel-item {\n",
       "  display: flex;\n",
       "  flex-direction: column;\n",
       "}\n",
       "\n",
       "#sk-container-id-1 div.sk-parallel-item:first-child::after {\n",
       "  align-self: flex-end;\n",
       "  width: 50%;\n",
       "}\n",
       "\n",
       "#sk-container-id-1 div.sk-parallel-item:last-child::after {\n",
       "  align-self: flex-start;\n",
       "  width: 50%;\n",
       "}\n",
       "\n",
       "#sk-container-id-1 div.sk-parallel-item:only-child::after {\n",
       "  width: 0;\n",
       "}\n",
       "\n",
       "/* Serial-specific style estimator block */\n",
       "\n",
       "#sk-container-id-1 div.sk-serial {\n",
       "  display: flex;\n",
       "  flex-direction: column;\n",
       "  align-items: center;\n",
       "  background-color: var(--sklearn-color-background);\n",
       "  padding-right: 1em;\n",
       "  padding-left: 1em;\n",
       "}\n",
       "\n",
       "\n",
       "/* Toggleable style: style used for estimator/Pipeline/ColumnTransformer box that is\n",
       "clickable and can be expanded/collapsed.\n",
       "- Pipeline and ColumnTransformer use this feature and define the default style\n",
       "- Estimators will overwrite some part of the style using the `sk-estimator` class\n",
       "*/\n",
       "\n",
       "/* Pipeline and ColumnTransformer style (default) */\n",
       "\n",
       "#sk-container-id-1 div.sk-toggleable {\n",
       "  /* Default theme specific background. It is overwritten whether we have a\n",
       "  specific estimator or a Pipeline/ColumnTransformer */\n",
       "  background-color: var(--sklearn-color-background);\n",
       "}\n",
       "\n",
       "/* Toggleable label */\n",
       "#sk-container-id-1 label.sk-toggleable__label {\n",
       "  cursor: pointer;\n",
       "  display: block;\n",
       "  width: 100%;\n",
       "  margin-bottom: 0;\n",
       "  padding: 0.5em;\n",
       "  box-sizing: border-box;\n",
       "  text-align: center;\n",
       "}\n",
       "\n",
       "#sk-container-id-1 label.sk-toggleable__label-arrow:before {\n",
       "  /* Arrow on the left of the label */\n",
       "  content: \"▸\";\n",
       "  float: left;\n",
       "  margin-right: 0.25em;\n",
       "  color: var(--sklearn-color-icon);\n",
       "}\n",
       "\n",
       "#sk-container-id-1 label.sk-toggleable__label-arrow:hover:before {\n",
       "  color: var(--sklearn-color-text);\n",
       "}\n",
       "\n",
       "/* Toggleable content - dropdown */\n",
       "\n",
       "#sk-container-id-1 div.sk-toggleable__content {\n",
       "  max-height: 0;\n",
       "  max-width: 0;\n",
       "  overflow: hidden;\n",
       "  text-align: left;\n",
       "  /* unfitted */\n",
       "  background-color: var(--sklearn-color-unfitted-level-0);\n",
       "}\n",
       "\n",
       "#sk-container-id-1 div.sk-toggleable__content.fitted {\n",
       "  /* fitted */\n",
       "  background-color: var(--sklearn-color-fitted-level-0);\n",
       "}\n",
       "\n",
       "#sk-container-id-1 div.sk-toggleable__content pre {\n",
       "  margin: 0.2em;\n",
       "  border-radius: 0.25em;\n",
       "  color: var(--sklearn-color-text);\n",
       "  /* unfitted */\n",
       "  background-color: var(--sklearn-color-unfitted-level-0);\n",
       "}\n",
       "\n",
       "#sk-container-id-1 div.sk-toggleable__content.fitted pre {\n",
       "  /* unfitted */\n",
       "  background-color: var(--sklearn-color-fitted-level-0);\n",
       "}\n",
       "\n",
       "#sk-container-id-1 input.sk-toggleable__control:checked~div.sk-toggleable__content {\n",
       "  /* Expand drop-down */\n",
       "  max-height: 200px;\n",
       "  max-width: 100%;\n",
       "  overflow: auto;\n",
       "}\n",
       "\n",
       "#sk-container-id-1 input.sk-toggleable__control:checked~label.sk-toggleable__label-arrow:before {\n",
       "  content: \"▾\";\n",
       "}\n",
       "\n",
       "/* Pipeline/ColumnTransformer-specific style */\n",
       "\n",
       "#sk-container-id-1 div.sk-label input.sk-toggleable__control:checked~label.sk-toggleable__label {\n",
       "  color: var(--sklearn-color-text);\n",
       "  background-color: var(--sklearn-color-unfitted-level-2);\n",
       "}\n",
       "\n",
       "#sk-container-id-1 div.sk-label.fitted input.sk-toggleable__control:checked~label.sk-toggleable__label {\n",
       "  background-color: var(--sklearn-color-fitted-level-2);\n",
       "}\n",
       "\n",
       "/* Estimator-specific style */\n",
       "\n",
       "/* Colorize estimator box */\n",
       "#sk-container-id-1 div.sk-estimator input.sk-toggleable__control:checked~label.sk-toggleable__label {\n",
       "  /* unfitted */\n",
       "  background-color: var(--sklearn-color-unfitted-level-2);\n",
       "}\n",
       "\n",
       "#sk-container-id-1 div.sk-estimator.fitted input.sk-toggleable__control:checked~label.sk-toggleable__label {\n",
       "  /* fitted */\n",
       "  background-color: var(--sklearn-color-fitted-level-2);\n",
       "}\n",
       "\n",
       "#sk-container-id-1 div.sk-label label.sk-toggleable__label,\n",
       "#sk-container-id-1 div.sk-label label {\n",
       "  /* The background is the default theme color */\n",
       "  color: var(--sklearn-color-text-on-default-background);\n",
       "}\n",
       "\n",
       "/* On hover, darken the color of the background */\n",
       "#sk-container-id-1 div.sk-label:hover label.sk-toggleable__label {\n",
       "  color: var(--sklearn-color-text);\n",
       "  background-color: var(--sklearn-color-unfitted-level-2);\n",
       "}\n",
       "\n",
       "/* Label box, darken color on hover, fitted */\n",
       "#sk-container-id-1 div.sk-label.fitted:hover label.sk-toggleable__label.fitted {\n",
       "  color: var(--sklearn-color-text);\n",
       "  background-color: var(--sklearn-color-fitted-level-2);\n",
       "}\n",
       "\n",
       "/* Estimator label */\n",
       "\n",
       "#sk-container-id-1 div.sk-label label {\n",
       "  font-family: monospace;\n",
       "  font-weight: bold;\n",
       "  display: inline-block;\n",
       "  line-height: 1.2em;\n",
       "}\n",
       "\n",
       "#sk-container-id-1 div.sk-label-container {\n",
       "  text-align: center;\n",
       "}\n",
       "\n",
       "/* Estimator-specific */\n",
       "#sk-container-id-1 div.sk-estimator {\n",
       "  font-family: monospace;\n",
       "  border: 1px dotted var(--sklearn-color-border-box);\n",
       "  border-radius: 0.25em;\n",
       "  box-sizing: border-box;\n",
       "  margin-bottom: 0.5em;\n",
       "  /* unfitted */\n",
       "  background-color: var(--sklearn-color-unfitted-level-0);\n",
       "}\n",
       "\n",
       "#sk-container-id-1 div.sk-estimator.fitted {\n",
       "  /* fitted */\n",
       "  background-color: var(--sklearn-color-fitted-level-0);\n",
       "}\n",
       "\n",
       "/* on hover */\n",
       "#sk-container-id-1 div.sk-estimator:hover {\n",
       "  /* unfitted */\n",
       "  background-color: var(--sklearn-color-unfitted-level-2);\n",
       "}\n",
       "\n",
       "#sk-container-id-1 div.sk-estimator.fitted:hover {\n",
       "  /* fitted */\n",
       "  background-color: var(--sklearn-color-fitted-level-2);\n",
       "}\n",
       "\n",
       "/* Specification for estimator info (e.g. \"i\" and \"?\") */\n",
       "\n",
       "/* Common style for \"i\" and \"?\" */\n",
       "\n",
       ".sk-estimator-doc-link,\n",
       "a:link.sk-estimator-doc-link,\n",
       "a:visited.sk-estimator-doc-link {\n",
       "  float: right;\n",
       "  font-size: smaller;\n",
       "  line-height: 1em;\n",
       "  font-family: monospace;\n",
       "  background-color: var(--sklearn-color-background);\n",
       "  border-radius: 1em;\n",
       "  height: 1em;\n",
       "  width: 1em;\n",
       "  text-decoration: none !important;\n",
       "  margin-left: 1ex;\n",
       "  /* unfitted */\n",
       "  border: var(--sklearn-color-unfitted-level-1) 1pt solid;\n",
       "  color: var(--sklearn-color-unfitted-level-1);\n",
       "}\n",
       "\n",
       ".sk-estimator-doc-link.fitted,\n",
       "a:link.sk-estimator-doc-link.fitted,\n",
       "a:visited.sk-estimator-doc-link.fitted {\n",
       "  /* fitted */\n",
       "  border: var(--sklearn-color-fitted-level-1) 1pt solid;\n",
       "  color: var(--sklearn-color-fitted-level-1);\n",
       "}\n",
       "\n",
       "/* On hover */\n",
       "div.sk-estimator:hover .sk-estimator-doc-link:hover,\n",
       ".sk-estimator-doc-link:hover,\n",
       "div.sk-label-container:hover .sk-estimator-doc-link:hover,\n",
       ".sk-estimator-doc-link:hover {\n",
       "  /* unfitted */\n",
       "  background-color: var(--sklearn-color-unfitted-level-3);\n",
       "  color: var(--sklearn-color-background);\n",
       "  text-decoration: none;\n",
       "}\n",
       "\n",
       "div.sk-estimator.fitted:hover .sk-estimator-doc-link.fitted:hover,\n",
       ".sk-estimator-doc-link.fitted:hover,\n",
       "div.sk-label-container:hover .sk-estimator-doc-link.fitted:hover,\n",
       ".sk-estimator-doc-link.fitted:hover {\n",
       "  /* fitted */\n",
       "  background-color: var(--sklearn-color-fitted-level-3);\n",
       "  color: var(--sklearn-color-background);\n",
       "  text-decoration: none;\n",
       "}\n",
       "\n",
       "/* Span, style for the box shown on hovering the info icon */\n",
       ".sk-estimator-doc-link span {\n",
       "  display: none;\n",
       "  z-index: 9999;\n",
       "  position: relative;\n",
       "  font-weight: normal;\n",
       "  right: .2ex;\n",
       "  padding: .5ex;\n",
       "  margin: .5ex;\n",
       "  width: min-content;\n",
       "  min-width: 20ex;\n",
       "  max-width: 50ex;\n",
       "  color: var(--sklearn-color-text);\n",
       "  box-shadow: 2pt 2pt 4pt #999;\n",
       "  /* unfitted */\n",
       "  background: var(--sklearn-color-unfitted-level-0);\n",
       "  border: .5pt solid var(--sklearn-color-unfitted-level-3);\n",
       "}\n",
       "\n",
       ".sk-estimator-doc-link.fitted span {\n",
       "  /* fitted */\n",
       "  background: var(--sklearn-color-fitted-level-0);\n",
       "  border: var(--sklearn-color-fitted-level-3);\n",
       "}\n",
       "\n",
       ".sk-estimator-doc-link:hover span {\n",
       "  display: block;\n",
       "}\n",
       "\n",
       "/* \"?\"-specific style due to the `<a>` HTML tag */\n",
       "\n",
       "#sk-container-id-1 a.estimator_doc_link {\n",
       "  float: right;\n",
       "  font-size: 1rem;\n",
       "  line-height: 1em;\n",
       "  font-family: monospace;\n",
       "  background-color: var(--sklearn-color-background);\n",
       "  border-radius: 1rem;\n",
       "  height: 1rem;\n",
       "  width: 1rem;\n",
       "  text-decoration: none;\n",
       "  /* unfitted */\n",
       "  color: var(--sklearn-color-unfitted-level-1);\n",
       "  border: var(--sklearn-color-unfitted-level-1) 1pt solid;\n",
       "}\n",
       "\n",
       "#sk-container-id-1 a.estimator_doc_link.fitted {\n",
       "  /* fitted */\n",
       "  border: var(--sklearn-color-fitted-level-1) 1pt solid;\n",
       "  color: var(--sklearn-color-fitted-level-1);\n",
       "}\n",
       "\n",
       "/* On hover */\n",
       "#sk-container-id-1 a.estimator_doc_link:hover {\n",
       "  /* unfitted */\n",
       "  background-color: var(--sklearn-color-unfitted-level-3);\n",
       "  color: var(--sklearn-color-background);\n",
       "  text-decoration: none;\n",
       "}\n",
       "\n",
       "#sk-container-id-1 a.estimator_doc_link.fitted:hover {\n",
       "  /* fitted */\n",
       "  background-color: var(--sklearn-color-fitted-level-3);\n",
       "}\n",
       "</style><div id=\"sk-container-id-1\" class=\"sk-top-container\"><div class=\"sk-text-repr-fallback\"><pre>XGBClassifier(base_score=None, booster=None, callbacks=None,\n",
       "              colsample_bylevel=None, colsample_bynode=0.7536591679150215,\n",
       "              colsample_bytree=None, device=None, early_stopping_rounds=None,\n",
       "              enable_categorical=False,\n",
       "              eval_metric=&lt;function custom_f1_score at 0x7f98582705e0&gt;,\n",
       "              feature_types=None, gamma=None, grow_policy=None,\n",
       "              importance_type=None, interaction_constraints=None,\n",
       "              learning_rate=0.2800412638737953, max_bin=None,\n",
       "              max_cat_threshold=None, max_cat_to_onehot=None,\n",
       "              max_delta_step=None, max_depth=17, max_leaves=None,\n",
       "              min_child_weight=56, missing=nan, monotone_constraints=None,\n",
       "              multi_strategy=None, n_estimators=129, n_jobs=None,\n",
       "              num_parallel_tree=None, objective=&#x27;multi:softprob&#x27;, ...)</pre><b>In a Jupyter environment, please rerun this cell to show the HTML representation or trust the notebook. <br />On GitHub, the HTML representation is unable to render, please try loading this page with nbviewer.org.</b></div><div class=\"sk-container\" hidden><div class=\"sk-item\"><div class=\"sk-estimator fitted sk-toggleable\"><input class=\"sk-toggleable__control sk-hidden--visually\" id=\"sk-estimator-id-1\" type=\"checkbox\" checked><label for=\"sk-estimator-id-1\" class=\"sk-toggleable__label fitted sk-toggleable__label-arrow fitted\">&nbsp;XGBClassifier<span class=\"sk-estimator-doc-link fitted\">i<span>Fitted</span></span></label><div class=\"sk-toggleable__content fitted\"><pre>XGBClassifier(base_score=None, booster=None, callbacks=None,\n",
       "              colsample_bylevel=None, colsample_bynode=0.7536591679150215,\n",
       "              colsample_bytree=None, device=None, early_stopping_rounds=None,\n",
       "              enable_categorical=False,\n",
       "              eval_metric=&lt;function custom_f1_score at 0x7f98582705e0&gt;,\n",
       "              feature_types=None, gamma=None, grow_policy=None,\n",
       "              importance_type=None, interaction_constraints=None,\n",
       "              learning_rate=0.2800412638737953, max_bin=None,\n",
       "              max_cat_threshold=None, max_cat_to_onehot=None,\n",
       "              max_delta_step=None, max_depth=17, max_leaves=None,\n",
       "              min_child_weight=56, missing=nan, monotone_constraints=None,\n",
       "              multi_strategy=None, n_estimators=129, n_jobs=None,\n",
       "              num_parallel_tree=None, objective=&#x27;multi:softprob&#x27;, ...)</pre></div> </div></div></div></div>"
      ],
      "text/plain": [
       "XGBClassifier(base_score=None, booster=None, callbacks=None,\n",
       "              colsample_bylevel=None, colsample_bynode=0.7536591679150215,\n",
       "              colsample_bytree=None, device=None, early_stopping_rounds=None,\n",
       "              enable_categorical=False,\n",
       "              eval_metric=<function custom_f1_score at 0x7f98582705e0>,\n",
       "              feature_types=None, gamma=None, grow_policy=None,\n",
       "              importance_type=None, interaction_constraints=None,\n",
       "              learning_rate=0.2800412638737953, max_bin=None,\n",
       "              max_cat_threshold=None, max_cat_to_onehot=None,\n",
       "              max_delta_step=None, max_depth=17, max_leaves=None,\n",
       "              min_child_weight=56, missing=nan, monotone_constraints=None,\n",
       "              multi_strategy=None, n_estimators=129, n_jobs=None,\n",
       "              num_parallel_tree=None, objective='multi:softprob', ...)"
      ]
     },
     "execution_count": 21,
     "metadata": {},
     "output_type": "execute_result"
    }
   ],
   "source": [
    "n_estimators = int(study.best_trial.user_attrs['best_iteration']*1.2)\n",
    "xgb = xgboost.XGBClassifier(\n",
    "        eval_metric=eval_metric,\n",
    "        n_estimators=n_estimators,\n",
    "        **study.best_trial.params\n",
    "    )\n",
    "xgb.fit(\n",
    "    ssp.vstack((X_train, X_val)), \n",
    "    np.concatenate((y_train_enc, y_val_enc)),\n",
    "    verbose=1,\n",
    ")"
   ]
  },
  {
   "cell_type": "code",
   "execution_count": 22,
   "id": "08ca5fe0",
   "metadata": {
    "execution": {
     "iopub.execute_input": "2025-05-15T16:16:30.219076Z",
     "iopub.status.busy": "2025-05-15T16:16:30.218842Z",
     "iopub.status.idle": "2025-05-15T16:16:30.297613Z",
     "shell.execute_reply": "2025-05-15T16:16:30.297220Z"
    },
    "papermill": {
     "duration": 0.089323,
     "end_time": "2025-05-15T16:16:30.298529",
     "exception": false,
     "start_time": "2025-05-15T16:16:30.209206",
     "status": "completed"
    },
    "tags": []
   },
   "outputs": [
    {
     "data": {
      "text/plain": [
       "['/scratch_isilon/groups/singlecell/shared/projects/Inflammation-PBMCs-Atlas/03_downstream_analysis/08_gene_importance/xgboost_external_validation/xgboost_TopN_genes/results_20/best_model/B_16_1_xgb.json']"
      ]
     },
     "execution_count": 22,
     "metadata": {},
     "output_type": "execute_result"
    }
   ],
   "source": [
    "out_dir = here(f'03_downstream_analysis/08_gene_importance/xgboost_external_validation/xgboost_TopN_genes/results_{N_GENES}/best_model')\n",
    "\n",
    "if not os.path.exists(out_dir):\n",
    "    os.makedirs(out_dir)\n",
    "    \n",
    "joblib.dump(xgb, os.path.join(out_dir, f'{CELL_TYPE}_{SEED}_{TEST_SPLIT_IDX}_xgb.json'))"
   ]
  },
  {
   "cell_type": "code",
   "execution_count": 23,
   "id": "b3bd1dc9",
   "metadata": {
    "execution": {
     "iopub.execute_input": "2025-05-15T16:16:30.318658Z",
     "iopub.status.busy": "2025-05-15T16:16:30.318327Z",
     "iopub.status.idle": "2025-05-15T16:16:30.511479Z",
     "shell.execute_reply": "2025-05-15T16:16:30.510952Z"
    },
    "papermill": {
     "duration": 0.203744,
     "end_time": "2025-05-15T16:16:30.512516",
     "exception": false,
     "start_time": "2025-05-15T16:16:30.308772",
     "status": "completed"
    },
    "tags": []
   },
   "outputs": [],
   "source": [
    "df_pred_test = pd.DataFrame(dict(\n",
    "    cell_id=train_adata.obs.iloc[test_idxs].index.values,\n",
    "    y_true=y_test, \n",
    "    y_true_code=y_test_enc, \n",
    "    y_pred=xgb.predict(X_test))).set_index('cell_id')"
   ]
  },
  {
   "cell_type": "code",
   "execution_count": 24,
   "id": "def0d56a",
   "metadata": {
    "execution": {
     "iopub.execute_input": "2025-05-15T16:16:30.552607Z",
     "iopub.status.busy": "2025-05-15T16:16:30.552350Z",
     "iopub.status.idle": "2025-05-15T16:16:30.604573Z",
     "shell.execute_reply": "2025-05-15T16:16:30.604022Z"
    },
    "papermill": {
     "duration": 0.071171,
     "end_time": "2025-05-15T16:16:30.605553",
     "exception": false,
     "start_time": "2025-05-15T16:16:30.534382",
     "status": "completed"
    },
    "tags": []
   },
   "outputs": [],
   "source": [
    "out_dir = here(f'03_downstream_analysis/08_gene_importance/xgboost_external_validation/xgboost_TopN_genes/results_{N_GENES}/predictions')\n",
    "\n",
    "if not os.path.exists(out_dir):\n",
    "    os.makedirs(out_dir)\n",
    "    \n",
    "df_pred_test.to_csv(os.path.join(out_dir, f'{CELL_TYPE}_{SEED}_{TEST_SPLIT_IDX}_pred_test.zip'))"
   ]
  },
  {
   "cell_type": "code",
   "execution_count": 25,
   "id": "8b14dc4b",
   "metadata": {
    "execution": {
     "iopub.execute_input": "2025-05-15T16:16:30.639432Z",
     "iopub.status.busy": "2025-05-15T16:16:30.639186Z",
     "iopub.status.idle": "2025-05-15T16:16:30.650719Z",
     "shell.execute_reply": "2025-05-15T16:16:30.650293Z"
    },
    "papermill": {
     "duration": 0.036915,
     "end_time": "2025-05-15T16:16:30.651551",
     "exception": false,
     "start_time": "2025-05-15T16:16:30.614636",
     "status": "completed"
    },
    "tags": []
   },
   "outputs": [],
   "source": [
    "metrics_dict = dict(\n",
    "    BAS=balanced_accuracy_score(y_true=df_pred_test.y_true_code, y_pred=df_pred_test.y_pred), WF1=f1_score(y_true=df_pred_test.y_true_code, y_pred=df_pred_test.y_pred,average='weighted'))"
   ]
  },
  {
   "cell_type": "code",
   "execution_count": 26,
   "id": "f4587ad5",
   "metadata": {
    "execution": {
     "iopub.execute_input": "2025-05-15T16:16:30.683818Z",
     "iopub.status.busy": "2025-05-15T16:16:30.683563Z",
     "iopub.status.idle": "2025-05-15T16:16:30.686802Z",
     "shell.execute_reply": "2025-05-15T16:16:30.686469Z"
    },
    "papermill": {
     "duration": 0.027197,
     "end_time": "2025-05-15T16:16:30.687618",
     "exception": false,
     "start_time": "2025-05-15T16:16:30.660421",
     "status": "completed"
    },
    "tags": []
   },
   "outputs": [
    {
     "data": {
      "text/plain": [
       "{'BAS': 0.5217834025618157, 'WF1': 0.7438662288040675}"
      ]
     },
     "execution_count": 26,
     "metadata": {},
     "output_type": "execute_result"
    }
   ],
   "source": [
    "metrics_dict"
   ]
  },
  {
   "cell_type": "code",
   "execution_count": 27,
   "id": "bff4a060",
   "metadata": {
    "execution": {
     "iopub.execute_input": "2025-05-15T16:16:30.707696Z",
     "iopub.status.busy": "2025-05-15T16:16:30.707231Z",
     "iopub.status.idle": "2025-05-15T16:16:30.716221Z",
     "shell.execute_reply": "2025-05-15T16:16:30.715881Z"
    },
    "papermill": {
     "duration": 0.02027,
     "end_time": "2025-05-15T16:16:30.717063",
     "exception": false,
     "start_time": "2025-05-15T16:16:30.696793",
     "status": "completed"
    },
    "tags": []
   },
   "outputs": [
    {
     "data": {
      "text/html": [
       "<div>\n",
       "<style scoped>\n",
       "    .dataframe tbody tr th:only-of-type {\n",
       "        vertical-align: middle;\n",
       "    }\n",
       "\n",
       "    .dataframe tbody tr th {\n",
       "        vertical-align: top;\n",
       "    }\n",
       "\n",
       "    .dataframe thead th {\n",
       "        text-align: right;\n",
       "    }\n",
       "</style>\n",
       "<table border=\"1\" class=\"dataframe\">\n",
       "  <thead>\n",
       "    <tr style=\"text-align: right;\">\n",
       "      <th></th>\n",
       "      <th>BAS</th>\n",
       "      <th>WF1</th>\n",
       "      <th>split_idx</th>\n",
       "      <th>gene_set_seed</th>\n",
       "      <th>cell_type</th>\n",
       "    </tr>\n",
       "  </thead>\n",
       "  <tbody>\n",
       "    <tr>\n",
       "      <th>0</th>\n",
       "      <td>0.521783</td>\n",
       "      <td>0.743866</td>\n",
       "      <td>1</td>\n",
       "      <td>16</td>\n",
       "      <td>B</td>\n",
       "    </tr>\n",
       "  </tbody>\n",
       "</table>\n",
       "</div>"
      ],
      "text/plain": [
       "        BAS       WF1  split_idx  gene_set_seed cell_type\n",
       "0  0.521783  0.743866          1             16         B"
      ]
     },
     "execution_count": 27,
     "metadata": {},
     "output_type": "execute_result"
    }
   ],
   "source": [
    "metrics_df = pd.DataFrame.from_dict([metrics_dict]).assign(split_idx=TEST_SPLIT_IDX, gene_set_seed=SEED, cell_type=CELL_TYPE)\n",
    "metrics_df"
   ]
  },
  {
   "cell_type": "code",
   "execution_count": 28,
   "id": "08951b92",
   "metadata": {
    "execution": {
     "iopub.execute_input": "2025-05-15T16:16:30.736844Z",
     "iopub.status.busy": "2025-05-15T16:16:30.736445Z",
     "iopub.status.idle": "2025-05-15T16:16:30.744263Z",
     "shell.execute_reply": "2025-05-15T16:16:30.743874Z"
    },
    "papermill": {
     "duration": 0.018396,
     "end_time": "2025-05-15T16:16:30.745174",
     "exception": false,
     "start_time": "2025-05-15T16:16:30.726778",
     "status": "completed"
    },
    "tags": []
   },
   "outputs": [],
   "source": [
    "out_dir = here(f'03_downstream_analysis/08_gene_importance/xgboost_external_validation/xgboost_TopN_genes/results_{N_GENES}/metrics')\n",
    "\n",
    "if not os.path.exists(out_dir):\n",
    "    os.makedirs(out_dir)\n",
    "    \n",
    "metrics_df.to_csv(os.path.join(out_dir, f'{CELL_TYPE}_{SEED}_{TEST_SPLIT_IDX}_metrics.zip'))"
   ]
  }
 ],
 "metadata": {
  "kernelspec": {
   "display_name": "Python 3 (ipykernel)",
   "language": "python",
   "name": "python3"
  },
  "language_info": {
   "codemirror_mode": {
    "name": "ipython",
    "version": 3
   },
   "file_extension": ".py",
   "mimetype": "text/x-python",
   "name": "python",
   "nbconvert_exporter": "python",
   "pygments_lexer": "ipython3",
   "version": "3.12.5"
  },
  "papermill": {
   "default_parameters": {},
   "duration": 353.502982,
   "end_time": "2025-05-15T16:16:31.369887",
   "environment_variables": {},
   "exception": null,
   "input_path": "02_xgboost_fitting_external_20genes.ipynb",
   "output_path": "results_20/executed_notebooks/xgboost_fitting_external_CT_B_GS_16_seed1.ipynb",
   "parameters": {
    "CELL_TYPE": "B",
    "SEED": 16,
    "TEST_SPLIT_IDX": 1
   },
   "start_time": "2025-05-15T16:10:37.866905",
   "version": "2.6.0"
  }
 },
 "nbformat": 4,
 "nbformat_minor": 5
}