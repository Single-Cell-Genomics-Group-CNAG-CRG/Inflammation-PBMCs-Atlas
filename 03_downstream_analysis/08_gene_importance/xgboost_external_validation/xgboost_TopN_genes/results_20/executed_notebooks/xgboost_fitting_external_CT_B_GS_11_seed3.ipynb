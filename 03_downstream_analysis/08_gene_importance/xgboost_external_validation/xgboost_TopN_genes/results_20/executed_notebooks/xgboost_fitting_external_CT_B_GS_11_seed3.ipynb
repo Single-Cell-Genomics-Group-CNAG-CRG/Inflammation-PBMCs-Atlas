{
 "cells": [
  {
   "cell_type": "code",
   "execution_count": 1,
   "id": "a76b0134",
   "metadata": {
    "editable": true,
    "execution": {
     "iopub.execute_input": "2025-05-15T16:09:55.731698Z",
     "iopub.status.busy": "2025-05-15T16:09:55.731495Z",
     "iopub.status.idle": "2025-05-15T16:09:55.734414Z",
     "shell.execute_reply": "2025-05-15T16:09:55.734083Z"
    },
    "papermill": {
     "duration": 0.011202,
     "end_time": "2025-05-15T16:09:55.735366",
     "exception": false,
     "start_time": "2025-05-15T16:09:55.724164",
     "status": "completed"
    },
    "slideshow": {
     "slide_type": ""
    },
    "tags": [
     "parameters"
    ]
   },
   "outputs": [],
   "source": [
    "CELL_TYPE = 'pDC'\n",
    "N_GENES: int = 20\n",
    "SEED = 'shap_studyID' #'disease_NOstudy' 'study_NOdisease' or 'int' or 'shap_studyID'\n",
    "TEST_SPLIT_IDX: int = 1 #[0,4]"
   ]
  },
  {
   "cell_type": "code",
   "execution_count": 2,
   "id": "7c722dc2",
   "metadata": {
    "execution": {
     "iopub.execute_input": "2025-05-15T16:09:55.746622Z",
     "iopub.status.busy": "2025-05-15T16:09:55.746439Z",
     "iopub.status.idle": "2025-05-15T16:09:55.748631Z",
     "shell.execute_reply": "2025-05-15T16:09:55.748313Z"
    },
    "papermill": {
     "duration": 0.008643,
     "end_time": "2025-05-15T16:09:55.749437",
     "exception": false,
     "start_time": "2025-05-15T16:09:55.740794",
     "status": "completed"
    },
    "tags": [
     "injected-parameters"
    ]
   },
   "outputs": [],
   "source": [
    "# Parameters\n",
    "CELL_TYPE = \"B\"\n",
    "SEED = 11\n",
    "TEST_SPLIT_IDX = 3\n"
   ]
  },
  {
   "cell_type": "code",
   "execution_count": 3,
   "id": "1f9d66b4",
   "metadata": {
    "execution": {
     "iopub.execute_input": "2025-05-15T16:09:55.767925Z",
     "iopub.status.busy": "2025-05-15T16:09:55.767753Z",
     "iopub.status.idle": "2025-05-15T16:09:55.769874Z",
     "shell.execute_reply": "2025-05-15T16:09:55.769554Z"
    },
    "papermill": {
     "duration": 0.008814,
     "end_time": "2025-05-15T16:09:55.770701",
     "exception": false,
     "start_time": "2025-05-15T16:09:55.761887",
     "status": "completed"
    },
    "tags": []
   },
   "outputs": [],
   "source": [
    "N_SPLITS: int = 5\n",
    "N_TRIALS: int = 50"
   ]
  },
  {
   "cell_type": "code",
   "execution_count": 4,
   "id": "0182205b",
   "metadata": {
    "execution": {
     "iopub.execute_input": "2025-05-15T16:09:55.793847Z",
     "iopub.status.busy": "2025-05-15T16:09:55.793502Z",
     "iopub.status.idle": "2025-05-15T16:09:57.539705Z",
     "shell.execute_reply": "2025-05-15T16:09:57.539194Z"
    },
    "papermill": {
     "duration": 1.754395,
     "end_time": "2025-05-15T16:09:57.541157",
     "exception": false,
     "start_time": "2025-05-15T16:09:55.786762",
     "status": "completed"
    },
    "tags": []
   },
   "outputs": [],
   "source": [
    "import os\n",
    "import sys\n",
    "from pyprojroot.here import here\n",
    "import pandas as pd\n",
    "import anndata as ad\n",
    "import numpy as np\n",
    "import math\n",
    "from sklearn.model_selection import StratifiedGroupKFold\n",
    "from sklearn.preprocessing import LabelEncoder\n",
    "from sklearn.metrics import f1_score\n",
    "import matplotlib.pyplot as plt\n",
    "import seaborn as sns\n",
    "from itertools import product\n",
    "from sklearn.metrics import balanced_accuracy_score, f1_score\n",
    "import optuna\n",
    "\n",
    "import joblib\n",
    "import pickle\n",
    "import datetime\n",
    "\n",
    "import collections\n",
    "\n",
    "import xgboost\n",
    "from sklearn.preprocessing import LabelEncoder\n",
    "\n",
    "import scipy.sparse as ssp\n",
    "import joblib\n",
    "\n",
    "from dotenv import load_dotenv"
   ]
  },
  {
   "cell_type": "code",
   "execution_count": 5,
   "id": "d9084d35",
   "metadata": {
    "execution": {
     "iopub.execute_input": "2025-05-15T16:09:57.552889Z",
     "iopub.status.busy": "2025-05-15T16:09:57.552468Z",
     "iopub.status.idle": "2025-05-15T16:09:57.558290Z",
     "shell.execute_reply": "2025-05-15T16:09:57.557966Z"
    },
    "papermill": {
     "duration": 0.012421,
     "end_time": "2025-05-15T16:09:57.559113",
     "exception": false,
     "start_time": "2025-05-15T16:09:57.546692",
     "status": "completed"
    },
    "tags": []
   },
   "outputs": [
    {
     "data": {
      "text/plain": [
       "True"
      ]
     },
     "execution_count": 5,
     "metadata": {},
     "output_type": "execute_result"
    }
   ],
   "source": [
    "load_dotenv()"
   ]
  },
  {
   "cell_type": "markdown",
   "id": "cb40b444",
   "metadata": {
    "papermill": {
     "duration": 0.006599,
     "end_time": "2025-05-15T16:09:57.574305",
     "exception": false,
     "start_time": "2025-05-15T16:09:57.567706",
     "status": "completed"
    },
    "tags": []
   },
   "source": [
    "# LOAD DATASET"
   ]
  },
  {
   "cell_type": "code",
   "execution_count": 6,
   "id": "c5c1a9c7",
   "metadata": {
    "execution": {
     "iopub.execute_input": "2025-05-15T16:09:57.586932Z",
     "iopub.status.busy": "2025-05-15T16:09:57.586751Z",
     "iopub.status.idle": "2025-05-15T16:09:57.868666Z",
     "shell.execute_reply": "2025-05-15T16:09:57.868131Z"
    },
    "papermill": {
     "duration": 0.289736,
     "end_time": "2025-05-15T16:09:57.870016",
     "exception": false,
     "start_time": "2025-05-15T16:09:57.580280",
     "status": "completed"
    },
    "tags": []
   },
   "outputs": [],
   "source": [
    "train_adata = ad.read_h5ad(\n",
    "    here(f'03_downstream_analysis/08_gene_importance/xgboost_external_validation/xgboost_TopN_genes/data_cellTypes/EXTERNAL_{CELL_TYPE}.filtered.log1p.h5ad')\n",
    ")"
   ]
  },
  {
   "cell_type": "code",
   "execution_count": 7,
   "id": "cb2e0dcc",
   "metadata": {
    "execution": {
     "iopub.execute_input": "2025-05-15T16:09:57.883117Z",
     "iopub.status.busy": "2025-05-15T16:09:57.882895Z",
     "iopub.status.idle": "2025-05-15T16:09:57.902656Z",
     "shell.execute_reply": "2025-05-15T16:09:57.902270Z"
    },
    "papermill": {
     "duration": 0.027471,
     "end_time": "2025-05-15T16:09:57.903673",
     "exception": false,
     "start_time": "2025-05-15T16:09:57.876202",
     "status": "completed"
    },
    "tags": []
   },
   "outputs": [
    {
     "name": "stdout",
     "output_type": "stream",
     "text": [
      "['ENSG00000188313' 'ENSG00000129084' 'ENSG00000150093' 'ENSG00000197872'\n",
      " 'ENSG00000171476' 'ENSG00000143924' 'ENSG00000139192' 'ENSG00000110395'\n",
      " 'ENSG00000197102' 'ENSG00000163931' 'ENSG00000179295' 'ENSG00000105374'\n",
      " 'ENSG00000009790' 'ENSG00000104894' 'ENSG00000113441' 'ENSG00000137265'\n",
      " 'ENSG00000175768' 'ENSG00000168394' 'ENSG00000197329' 'ENSG00000211896'\n",
      " 'ENSG00000277734' 'ENSG00000076662' 'ENSG00000120738' 'ENSG00000151882'\n",
      " 'ENSG00000165029' 'ENSG00000090382' 'ENSG00000163659' 'ENSG00000105221'\n",
      " 'ENSG00000090266' 'ENSG00000188404' 'ENSG00000184752' 'ENSG00000176533'\n",
      " 'ENSG00000166710' 'ENSG00000240505' 'ENSG00000104870' 'ENSG00000128218'\n",
      " 'ENSG00000172183' 'ENSG00000084207' 'ENSG00000101439' 'ENSG00000135720'\n",
      " 'ENSG00000127540' 'ENSG00000271503' 'ENSG00000076944' 'ENSG00000179344'\n",
      " 'ENSG00000026297' 'ENSG00000125534' 'ENSG00000126353' 'ENSG00000157873'\n",
      " 'ENSG00000128340' 'ENSG00000100100' 'ENSG00000171223' 'ENSG00000170989'\n",
      " 'ENSG00000104660' 'ENSG00000163563' 'ENSG00000254087' 'ENSG00000156411'\n",
      " 'ENSG00000114861' 'ENSG00000112149' 'ENSG00000127314' 'ENSG00000104671'\n",
      " 'ENSG00000185201' 'ENSG00000002586' 'ENSG00000172531' 'ENSG00000196735'\n",
      " 'ENSG00000165168' 'ENSG00000175203' 'ENSG00000130755' 'ENSG00000156738'\n",
      " 'ENSG00000117450' 'ENSG00000111716' 'ENSG00000117318' 'ENSG00000117523'\n",
      " 'ENSG00000089280' 'ENSG00000160213' 'ENSG00000123268' 'ENSG00000082074'\n",
      " 'ENSG00000006125' 'ENSG00000211893' 'ENSG00000132475' 'ENSG00000132965'\n",
      " 'ENSG00000042980' 'ENSG00000109787' 'ENSG00000011600' 'ENSG00000140264'\n",
      " 'ENSG00000165280' 'ENSG00000100934' 'ENSG00000175390' 'ENSG00000081059'\n",
      " 'ENSG00000158050' 'ENSG00000140379' 'ENSG00000211890' 'ENSG00000168610'\n",
      " 'ENSG00000121966' 'ENSG00000165527' 'ENSG00000132432' 'ENSG00000101096'\n",
      " 'ENSG00000179094' 'ENSG00000149311' 'ENSG00000134285' 'ENSG00000121879']\n"
     ]
    }
   ],
   "source": [
    "if SEED != 'all':\n",
    "    gene_subset = np.load(here(f'03_downstream_analysis/08_gene_importance/xgboost_external_validation/shap_gene_selection/gene_subsets_{N_GENES}/{CELL_TYPE}_{SEED}.npy'), allow_pickle=True)\n",
    "    train_adata = train_adata[:,gene_subset]\n",
    "    print(gene_subset)\n",
    "elif SEED == 'all':\n",
    "    print('Using all genes')\n",
    "else:\n",
    "    raise ValueError()"
   ]
  },
  {
   "cell_type": "code",
   "execution_count": 8,
   "id": "f4d43421",
   "metadata": {
    "execution": {
     "iopub.execute_input": "2025-05-15T16:09:57.917307Z",
     "iopub.status.busy": "2025-05-15T16:09:57.916869Z",
     "iopub.status.idle": "2025-05-15T16:09:57.920080Z",
     "shell.execute_reply": "2025-05-15T16:09:57.919761Z"
    },
    "papermill": {
     "duration": 0.01108,
     "end_time": "2025-05-15T16:09:57.921035",
     "exception": false,
     "start_time": "2025-05-15T16:09:57.909955",
     "status": "completed"
    },
    "tags": []
   },
   "outputs": [
    {
     "data": {
      "text/plain": [
       "(45811, 100)"
      ]
     },
     "execution_count": 8,
     "metadata": {},
     "output_type": "execute_result"
    }
   ],
   "source": [
    "train_adata.shape"
   ]
  },
  {
   "cell_type": "code",
   "execution_count": 9,
   "id": "4a516c38",
   "metadata": {
    "execution": {
     "iopub.execute_input": "2025-05-15T16:09:57.933260Z",
     "iopub.status.busy": "2025-05-15T16:09:57.933069Z",
     "iopub.status.idle": "2025-05-15T16:09:57.936821Z",
     "shell.execute_reply": "2025-05-15T16:09:57.936491Z"
    },
    "papermill": {
     "duration": 0.010443,
     "end_time": "2025-05-15T16:09:57.937685",
     "exception": false,
     "start_time": "2025-05-15T16:09:57.927242",
     "status": "completed"
    },
    "tags": []
   },
   "outputs": [
    {
     "data": {
      "text/plain": [
       "['RA', 'healthy', 'COVID', 'HIV', 'cirrhosis', 'CD', 'SLE', 'sepsis']\n",
       "Categories (8, object): ['CD', 'COVID', 'HIV', 'RA', 'SLE', 'cirrhosis', 'healthy', 'sepsis']"
      ]
     },
     "execution_count": 9,
     "metadata": {},
     "output_type": "execute_result"
    }
   ],
   "source": [
    "train_adata.obs.disease.unique()"
   ]
  },
  {
   "cell_type": "code",
   "execution_count": 10,
   "id": "c4b52b36",
   "metadata": {
    "execution": {
     "iopub.execute_input": "2025-05-15T16:09:57.949997Z",
     "iopub.status.busy": "2025-05-15T16:09:57.949806Z",
     "iopub.status.idle": "2025-05-15T16:09:57.953706Z",
     "shell.execute_reply": "2025-05-15T16:09:57.953380Z"
    },
    "papermill": {
     "duration": 0.011195,
     "end_time": "2025-05-15T16:09:57.954676",
     "exception": false,
     "start_time": "2025-05-15T16:09:57.943481",
     "status": "completed"
    },
    "tags": []
   },
   "outputs": [
    {
     "data": {
      "text/plain": [
       "['SCGT00val_I036015_T0', 'SCGT00val_I0364_T0', 'SCGT00val_I036021_T0', 'SCGT00val_I036028_T0', 'SCGT00val_I036016_T0', ..., '10XGenomics_10XHC2_T0', '10XGenomics_10XHC3_T0', '10XGenomics_10XHC5_T0', '10XGenomics_10XHC7_T0', '10XGenomics_10XHC8_T0']\n",
       "Length: 86\n",
       "Categories (86, object): ['10XGenomics_10XHC1_T0', '10XGenomics_10XHC2_T0', '10XGenomics_10XHC3_T0', '10XGenomics_10XHC4_T0', ..., 'Savage2021_BRISL6_T0', 'Savage2021_BRISL7_T0', 'Savage2021_PIDA_T0', 'Savage2021_PIDB_T0']"
      ]
     },
     "execution_count": 10,
     "metadata": {},
     "output_type": "execute_result"
    }
   ],
   "source": [
    "train_adata.obs.sampleID.unique()"
   ]
  },
  {
   "cell_type": "code",
   "execution_count": 11,
   "id": "eba5ab78",
   "metadata": {
    "execution": {
     "iopub.execute_input": "2025-05-15T16:09:57.967888Z",
     "iopub.status.busy": "2025-05-15T16:09:57.967586Z",
     "iopub.status.idle": "2025-05-15T16:09:58.099483Z",
     "shell.execute_reply": "2025-05-15T16:09:58.099120Z"
    },
    "papermill": {
     "duration": 0.139323,
     "end_time": "2025-05-15T16:09:58.100468",
     "exception": false,
     "start_time": "2025-05-15T16:09:57.961145",
     "status": "completed"
    },
    "tags": []
   },
   "outputs": [],
   "source": [
    "all_idxs = np.arange(train_adata.obs.shape[0])\n",
    "left_out_splits = [s[1] for s in StratifiedGroupKFold(n_splits=N_SPLITS).split(all_idxs, train_adata.obs.disease, train_adata.obs.sampleID)]"
   ]
  },
  {
   "cell_type": "code",
   "execution_count": 12,
   "id": "2c65aed9",
   "metadata": {
    "execution": {
     "iopub.execute_input": "2025-05-15T16:09:58.112824Z",
     "iopub.status.busy": "2025-05-15T16:09:58.112413Z",
     "iopub.status.idle": "2025-05-15T16:09:58.115778Z",
     "shell.execute_reply": "2025-05-15T16:09:58.115457Z"
    },
    "papermill": {
     "duration": 0.010189,
     "end_time": "2025-05-15T16:09:58.116666",
     "exception": false,
     "start_time": "2025-05-15T16:09:58.106477",
     "status": "completed"
    },
    "tags": []
   },
   "outputs": [
    {
     "data": {
      "text/plain": [
       "([0, 1, 2], 4, 3)"
      ]
     },
     "execution_count": 12,
     "metadata": {},
     "output_type": "execute_result"
    }
   ],
   "source": [
    "TRAIN_SPLIT_IDXS = [0,1,2,3,4]\n",
    "VAL_SPLIT_IDX = (TEST_SPLIT_IDX + 1) % 5\n",
    "TRAIN_SPLIT_IDXS.remove(TEST_SPLIT_IDX)\n",
    "TRAIN_SPLIT_IDXS.remove(VAL_SPLIT_IDX)\n",
    "TRAIN_SPLIT_IDXS, VAL_SPLIT_IDX, TEST_SPLIT_IDX"
   ]
  },
  {
   "cell_type": "code",
   "execution_count": 13,
   "id": "a2695304",
   "metadata": {
    "execution": {
     "iopub.execute_input": "2025-05-15T16:09:58.128445Z",
     "iopub.status.busy": "2025-05-15T16:09:58.128261Z",
     "iopub.status.idle": "2025-05-15T16:09:58.130746Z",
     "shell.execute_reply": "2025-05-15T16:09:58.130424Z"
    },
    "papermill": {
     "duration": 0.009435,
     "end_time": "2025-05-15T16:09:58.131597",
     "exception": false,
     "start_time": "2025-05-15T16:09:58.122162",
     "status": "completed"
    },
    "tags": []
   },
   "outputs": [],
   "source": [
    "train_idxs = np.concatenate([left_out_splits[idx] for idx in TRAIN_SPLIT_IDXS])\n",
    "val_idxs = left_out_splits[VAL_SPLIT_IDX]\n",
    "test_idxs = left_out_splits[TEST_SPLIT_IDX]"
   ]
  },
  {
   "cell_type": "markdown",
   "id": "27f24b92",
   "metadata": {
    "papermill": {
     "duration": 0.005423,
     "end_time": "2025-05-15T16:09:58.142249",
     "exception": false,
     "start_time": "2025-05-15T16:09:58.136826",
     "status": "completed"
    },
    "tags": []
   },
   "source": [
    "### SUBSET DATASET INTO TRAIN/TEST/VAL SPLITS"
   ]
  },
  {
   "cell_type": "code",
   "execution_count": 14,
   "id": "8c0a6175",
   "metadata": {
    "execution": {
     "iopub.execute_input": "2025-05-15T16:09:58.153980Z",
     "iopub.status.busy": "2025-05-15T16:09:58.153802Z",
     "iopub.status.idle": "2025-05-15T16:09:58.258259Z",
     "shell.execute_reply": "2025-05-15T16:09:58.257844Z"
    },
    "papermill": {
     "duration": 0.111295,
     "end_time": "2025-05-15T16:09:58.259262",
     "exception": false,
     "start_time": "2025-05-15T16:09:58.147967",
     "status": "completed"
    },
    "tags": []
   },
   "outputs": [
    {
     "data": {
      "text/plain": [
       "((27962, 100), (9109, 100), (8740, 100))"
      ]
     },
     "execution_count": 14,
     "metadata": {},
     "output_type": "execute_result"
    }
   ],
   "source": [
    "X_train = train_adata.X[train_idxs]\n",
    "X_test = train_adata.X[test_idxs]\n",
    "X_val = train_adata.X[val_idxs]\n",
    "X_train.shape, X_test.shape, X_val.shape"
   ]
  },
  {
   "cell_type": "code",
   "execution_count": 15,
   "id": "7ea158eb",
   "metadata": {
    "execution": {
     "iopub.execute_input": "2025-05-15T16:09:58.272509Z",
     "iopub.status.busy": "2025-05-15T16:09:58.272316Z",
     "iopub.status.idle": "2025-05-15T16:09:58.280062Z",
     "shell.execute_reply": "2025-05-15T16:09:58.279722Z"
    },
    "papermill": {
     "duration": 0.01519,
     "end_time": "2025-05-15T16:09:58.281035",
     "exception": false,
     "start_time": "2025-05-15T16:09:58.265845",
     "status": "completed"
    },
    "tags": []
   },
   "outputs": [
    {
     "data": {
      "text/plain": [
       "((27962,), (9109,), (8740,))"
      ]
     },
     "execution_count": 15,
     "metadata": {},
     "output_type": "execute_result"
    }
   ],
   "source": [
    "y_train = train_adata.obs.iloc[train_idxs].disease.values.astype(str)\n",
    "y_test = train_adata.obs.iloc[test_idxs].disease.values.astype(str)\n",
    "y_val = train_adata.obs.iloc[val_idxs].disease.values.astype(str)\n",
    "y_train.shape, y_test.shape, y_val.shape"
   ]
  },
  {
   "cell_type": "code",
   "execution_count": 16,
   "id": "c149339c",
   "metadata": {
    "execution": {
     "iopub.execute_input": "2025-05-15T16:09:58.293399Z",
     "iopub.status.busy": "2025-05-15T16:09:58.293144Z",
     "iopub.status.idle": "2025-05-15T16:09:58.304878Z",
     "shell.execute_reply": "2025-05-15T16:09:58.304526Z"
    },
    "papermill": {
     "duration": 0.018883,
     "end_time": "2025-05-15T16:09:58.305774",
     "exception": false,
     "start_time": "2025-05-15T16:09:58.286891",
     "status": "completed"
    },
    "tags": []
   },
   "outputs": [],
   "source": [
    "lenc = LabelEncoder()\n",
    "y_train_enc = lenc.fit_transform(y_train)\n",
    "y_val_enc = lenc.transform(y_val)\n",
    "y_test_enc = lenc.transform(y_test)"
   ]
  },
  {
   "cell_type": "markdown",
   "id": "cf505031",
   "metadata": {
    "papermill": {
     "duration": 0.005541,
     "end_time": "2025-05-15T16:09:58.317433",
     "exception": false,
     "start_time": "2025-05-15T16:09:58.311892",
     "status": "completed"
    },
    "tags": []
   },
   "source": [
    "### GENERATE F1 "
   ]
  },
  {
   "cell_type": "code",
   "execution_count": 17,
   "id": "4f88e9c3",
   "metadata": {
    "execution": {
     "iopub.execute_input": "2025-05-15T16:09:58.329151Z",
     "iopub.status.busy": "2025-05-15T16:09:58.328854Z",
     "iopub.status.idle": "2025-05-15T16:09:58.331156Z",
     "shell.execute_reply": "2025-05-15T16:09:58.330836Z"
    },
    "papermill": {
     "duration": 0.009123,
     "end_time": "2025-05-15T16:09:58.332036",
     "exception": false,
     "start_time": "2025-05-15T16:09:58.322913",
     "status": "completed"
    },
    "tags": []
   },
   "outputs": [],
   "source": [
    "def custom_f1_score(y_true, y_pred):\n",
    "    return -f1_score(y_true, y_pred.argmax(1), average='weighted')"
   ]
  },
  {
   "cell_type": "code",
   "execution_count": 18,
   "id": "46170fc7",
   "metadata": {
    "execution": {
     "iopub.execute_input": "2025-05-15T16:09:58.343690Z",
     "iopub.status.busy": "2025-05-15T16:09:58.343522Z",
     "iopub.status.idle": "2025-05-15T16:09:58.347075Z",
     "shell.execute_reply": "2025-05-15T16:09:58.346739Z"
    },
    "papermill": {
     "duration": 0.01073,
     "end_time": "2025-05-15T16:09:58.348154",
     "exception": false,
     "start_time": "2025-05-15T16:09:58.337424",
     "status": "completed"
    },
    "tags": []
   },
   "outputs": [],
   "source": [
    "eval_metric=custom_f1_score\n",
    "eval_metric_name='custom_f1_score'\n",
    "\n",
    "def objective(trial):\n",
    "    params = {\n",
    "        'n_estimators': 1500,\n",
    "        'max_depth': trial.suggest_int('max_depth', 3, 20),\n",
    "        'min_child_weight': trial.suggest_int('min_child_weight', 1, 250),\n",
    "        'subsample': trial.suggest_float('subsample', 0.1, 1.0),\n",
    "        'colsample_bynode': trial.suggest_float('colsample_bynode', 0.1, 1.0),\n",
    "        'learning_rate': trial.suggest_float('learning_rate', 1e-3, 5e-1, log=True),\n",
    "    }\n",
    "    pruning_callback = optuna.integration.XGBoostPruningCallback(trial, f'validation_0-{eval_metric_name}')\n",
    "    es_callback = xgboost.callback.EarlyStopping(20, min_delta=0.001)\n",
    "    xgb = xgboost.XGBClassifier(\n",
    "        eval_metric=eval_metric,\n",
    "        callbacks=[pruning_callback, es_callback],\n",
    "        n_jobs=5,\n",
    "        **params\n",
    "    )\n",
    "    xgb.fit(\n",
    "        X_train, \n",
    "        y_train_enc, \n",
    "        verbose=0,\n",
    "        eval_set=[(X_val, y_val_enc)],\n",
    "    )\n",
    "    trial.set_user_attr('best_iteration', xgb.best_iteration)\n",
    "\n",
    "    return xgb.best_score"
   ]
  },
  {
   "cell_type": "code",
   "execution_count": 19,
   "id": "759c3b5f",
   "metadata": {
    "execution": {
     "iopub.execute_input": "2025-05-15T16:09:58.360098Z",
     "iopub.status.busy": "2025-05-15T16:09:58.359912Z",
     "iopub.status.idle": "2025-05-15T16:12:58.624785Z",
     "shell.execute_reply": "2025-05-15T16:12:58.624381Z"
    },
    "papermill": {
     "duration": 180.271822,
     "end_time": "2025-05-15T16:12:58.625742",
     "exception": false,
     "start_time": "2025-05-15T16:09:58.353920",
     "status": "completed"
    },
    "scrolled": true,
    "tags": []
   },
   "outputs": [
    {
     "name": "stderr",
     "output_type": "stream",
     "text": [
      "[I 2025-05-15 18:09:58,361] A new study created in memory with name: no-name-bd3b17cf-8593-42a4-8e2e-6e90bc099fb6\n"
     ]
    },
    {
     "name": "stderr",
     "output_type": "stream",
     "text": [
      "[I 2025-05-15 18:10:02,367] Trial 0 finished with value: -0.581251 and parameters: {'max_depth': 9, 'min_child_weight': 238, 'subsample': 0.7587945476302645, 'colsample_bynode': 0.6387926357773329, 'learning_rate': 0.0026368755339723046}. Best is trial 0 with value: -0.581251.\n"
     ]
    },
    {
     "name": "stderr",
     "output_type": "stream",
     "text": [
      "[I 2025-05-15 18:10:13,242] Trial 1 finished with value: -0.696684 and parameters: {'max_depth': 5, 'min_child_weight': 15, 'subsample': 0.8795585311974417, 'colsample_bynode': 0.6410035105688879, 'learning_rate': 0.08148293210105287}. Best is trial 1 with value: -0.696684.\n"
     ]
    },
    {
     "name": "stderr",
     "output_type": "stream",
     "text": [
      "[I 2025-05-15 18:10:14,416] Trial 2 finished with value: -0.584235 and parameters: {'max_depth': 3, 'min_child_weight': 243, 'subsample': 0.8491983767203796, 'colsample_bynode': 0.29110519961044856, 'learning_rate': 0.003095566460242371}. Best is trial 1 with value: -0.696684.\n"
     ]
    },
    {
     "name": "stderr",
     "output_type": "stream",
     "text": [
      "[I 2025-05-15 18:10:17,486] Trial 3 finished with value: -0.617848 and parameters: {'max_depth': 6, 'min_child_weight': 77, 'subsample': 0.5722807884690141, 'colsample_bynode': 0.48875051677790415, 'learning_rate': 0.006109683510122491}. Best is trial 1 with value: -0.696684.\n"
     ]
    },
    {
     "name": "stderr",
     "output_type": "stream",
     "text": [
      "[I 2025-05-15 18:10:34,786] Trial 4 finished with value: -0.666148 and parameters: {'max_depth': 14, 'min_child_weight': 35, 'subsample': 0.3629301836816964, 'colsample_bynode': 0.4297256589643226, 'learning_rate': 0.01701841881702917}. Best is trial 1 with value: -0.696684.\n"
     ]
    },
    {
     "name": "stderr",
     "output_type": "stream",
     "text": [
      "[I 2025-05-15 18:10:37,566] Trial 5 pruned. Trial was pruned at iteration 22.\n"
     ]
    },
    {
     "name": "stderr",
     "output_type": "stream",
     "text": [
      "[I 2025-05-15 18:10:37,835] Trial 6 pruned. Trial was pruned at iteration 0.\n"
     ]
    },
    {
     "name": "stderr",
     "output_type": "stream",
     "text": [
      "[I 2025-05-15 18:10:38,100] Trial 7 pruned. Trial was pruned at iteration 0.\n"
     ]
    },
    {
     "name": "stderr",
     "output_type": "stream",
     "text": [
      "[I 2025-05-15 18:10:38,318] Trial 8 pruned. Trial was pruned at iteration 0.\n"
     ]
    },
    {
     "name": "stderr",
     "output_type": "stream",
     "text": [
      "[I 2025-05-15 18:10:39,620] Trial 9 pruned. Trial was pruned at iteration 11.\n"
     ]
    },
    {
     "name": "stderr",
     "output_type": "stream",
     "text": [
      "[I 2025-05-15 18:10:50,280] Trial 10 finished with value: -0.696485 and parameters: {'max_depth': 9, 'min_child_weight': 2, 'subsample': 0.9725833997090791, 'colsample_bynode': 0.11616568805333755, 'learning_rate': 0.17780618353487967}. Best is trial 1 with value: -0.696684.\n"
     ]
    },
    {
     "name": "stderr",
     "output_type": "stream",
     "text": [
      "[I 2025-05-15 18:11:03,050] Trial 11 finished with value: -0.694627 and parameters: {'max_depth': 9, 'min_child_weight': 4, 'subsample': 0.9818290990185045, 'colsample_bynode': 0.17702656156719, 'learning_rate': 0.11568531411766632}. Best is trial 1 with value: -0.696684.\n"
     ]
    },
    {
     "name": "stderr",
     "output_type": "stream",
     "text": [
      "[I 2025-05-15 18:11:12,527] Trial 12 pruned. Trial was pruned at iteration 64.\n"
     ]
    },
    {
     "name": "stderr",
     "output_type": "stream",
     "text": [
      "[I 2025-05-15 18:11:13,007] Trial 13 pruned. Trial was pruned at iteration 1.\n"
     ]
    },
    {
     "name": "stderr",
     "output_type": "stream",
     "text": [
      "[I 2025-05-15 18:11:19,894] Trial 14 finished with value: -0.703007 and parameters: {'max_depth': 11, 'min_child_weight': 132, 'subsample': 0.8756857866758896, 'colsample_bynode': 0.37234427067556525, 'learning_rate': 0.33580116263734355}. Best is trial 14 with value: -0.703007.\n"
     ]
    },
    {
     "name": "stderr",
     "output_type": "stream",
     "text": [
      "[I 2025-05-15 18:11:20,176] Trial 15 pruned. Trial was pruned at iteration 0.\n"
     ]
    },
    {
     "name": "stderr",
     "output_type": "stream",
     "text": [
      "[I 2025-05-15 18:11:20,427] Trial 16 pruned. Trial was pruned at iteration 0.\n"
     ]
    },
    {
     "name": "stderr",
     "output_type": "stream",
     "text": [
      "[I 2025-05-15 18:11:20,714] Trial 17 pruned. Trial was pruned at iteration 0.\n"
     ]
    },
    {
     "name": "stderr",
     "output_type": "stream",
     "text": [
      "[I 2025-05-15 18:11:21,077] Trial 18 pruned. Trial was pruned at iteration 1.\n"
     ]
    },
    {
     "name": "stderr",
     "output_type": "stream",
     "text": [
      "[I 2025-05-15 18:11:21,327] Trial 19 pruned. Trial was pruned at iteration 0.\n"
     ]
    },
    {
     "name": "stderr",
     "output_type": "stream",
     "text": [
      "[I 2025-05-15 18:11:28,192] Trial 20 finished with value: -0.704072 and parameters: {'max_depth': 16, 'min_child_weight': 97, 'subsample': 0.8748387796448982, 'colsample_bynode': 0.7126227165401009, 'learning_rate': 0.2221537505158567}. Best is trial 20 with value: -0.704072.\n"
     ]
    },
    {
     "name": "stderr",
     "output_type": "stream",
     "text": [
      "[I 2025-05-15 18:11:28,594] Trial 21 pruned. Trial was pruned at iteration 1.\n"
     ]
    },
    {
     "name": "stderr",
     "output_type": "stream",
     "text": [
      "[I 2025-05-15 18:11:28,887] Trial 22 pruned. Trial was pruned at iteration 0.\n"
     ]
    },
    {
     "name": "stderr",
     "output_type": "stream",
     "text": [
      "[I 2025-05-15 18:11:35,051] Trial 23 finished with value: -0.704242 and parameters: {'max_depth': 15, 'min_child_weight': 96, 'subsample': 0.7791639286049183, 'colsample_bynode': 0.8693967654714045, 'learning_rate': 0.2870964669525365}. Best is trial 23 with value: -0.704242.\n"
     ]
    },
    {
     "name": "stderr",
     "output_type": "stream",
     "text": [
      "[I 2025-05-15 18:11:35,349] Trial 24 pruned. Trial was pruned at iteration 0.\n"
     ]
    },
    {
     "name": "stderr",
     "output_type": "stream",
     "text": [
      "[I 2025-05-15 18:11:35,606] Trial 25 pruned. Trial was pruned at iteration 0.\n"
     ]
    },
    {
     "name": "stderr",
     "output_type": "stream",
     "text": [
      "[I 2025-05-15 18:11:35,867] Trial 26 pruned. Trial was pruned at iteration 0.\n"
     ]
    },
    {
     "name": "stderr",
     "output_type": "stream",
     "text": [
      "[I 2025-05-15 18:11:36,262] Trial 27 pruned. Trial was pruned at iteration 1.\n"
     ]
    },
    {
     "name": "stderr",
     "output_type": "stream",
     "text": [
      "[I 2025-05-15 18:11:36,538] Trial 28 pruned. Trial was pruned at iteration 0.\n"
     ]
    },
    {
     "name": "stderr",
     "output_type": "stream",
     "text": [
      "[I 2025-05-15 18:11:36,786] Trial 29 pruned. Trial was pruned at iteration 0.\n"
     ]
    },
    {
     "name": "stderr",
     "output_type": "stream",
     "text": [
      "[I 2025-05-15 18:11:37,148] Trial 30 pruned. Trial was pruned at iteration 1.\n"
     ]
    },
    {
     "name": "stderr",
     "output_type": "stream",
     "text": [
      "[I 2025-05-15 18:11:47,095] Trial 31 finished with value: -0.705441 and parameters: {'max_depth': 14, 'min_child_weight': 29, 'subsample': 0.9336329784918981, 'colsample_bynode': 0.6750747448510495, 'learning_rate': 0.29746924956292037}. Best is trial 31 with value: -0.705441.\n"
     ]
    },
    {
     "name": "stderr",
     "output_type": "stream",
     "text": [
      "[I 2025-05-15 18:11:55,352] Trial 32 finished with value: -0.70622 and parameters: {'max_depth': 13, 'min_child_weight': 58, 'subsample': 0.9305827747634161, 'colsample_bynode': 0.6686730468056713, 'learning_rate': 0.32739036370862484}. Best is trial 32 with value: -0.70622.\n"
     ]
    },
    {
     "name": "stderr",
     "output_type": "stream",
     "text": [
      "[I 2025-05-15 18:12:03,201] Trial 33 pruned. Trial was pruned at iteration 63.\n"
     ]
    },
    {
     "name": "stderr",
     "output_type": "stream",
     "text": [
      "[I 2025-05-15 18:12:04,708] Trial 34 pruned. Trial was pruned at iteration 6.\n"
     ]
    },
    {
     "name": "stderr",
     "output_type": "stream",
     "text": [
      "[I 2025-05-15 18:12:10,600] Trial 35 finished with value: -0.707494 and parameters: {'max_depth': 13, 'min_child_weight': 54, 'subsample': 0.8335169540165742, 'colsample_bynode': 0.6737545529725091, 'learning_rate': 0.4871582137503182}. Best is trial 35 with value: -0.707494.\n"
     ]
    },
    {
     "name": "stderr",
     "output_type": "stream",
     "text": [
      "[I 2025-05-15 18:12:16,599] Trial 36 finished with value: -0.709742 and parameters: {'max_depth': 13, 'min_child_weight': 62, 'subsample': 0.8351769227469814, 'colsample_bynode': 0.6477644412949864, 'learning_rate': 0.47224146338839246}. Best is trial 36 with value: -0.709742.\n"
     ]
    },
    {
     "name": "stderr",
     "output_type": "stream",
     "text": [
      "[I 2025-05-15 18:12:23,661] Trial 37 finished with value: -0.704821 and parameters: {'max_depth': 13, 'min_child_weight': 49, 'subsample': 0.8285840107499207, 'colsample_bynode': 0.6493367070131784, 'learning_rate': 0.4117520640137914}. Best is trial 36 with value: -0.709742.\n"
     ]
    },
    {
     "name": "stderr",
     "output_type": "stream",
     "text": [
      "[I 2025-05-15 18:12:23,927] Trial 38 pruned. Trial was pruned at iteration 0.\n"
     ]
    },
    {
     "name": "stderr",
     "output_type": "stream",
     "text": [
      "[I 2025-05-15 18:12:24,246] Trial 39 pruned. Trial was pruned at iteration 0.\n"
     ]
    },
    {
     "name": "stderr",
     "output_type": "stream",
     "text": [
      "[I 2025-05-15 18:12:25,538] Trial 40 pruned. Trial was pruned at iteration 5.\n"
     ]
    },
    {
     "name": "stderr",
     "output_type": "stream",
     "text": [
      "[I 2025-05-15 18:12:33,066] Trial 41 finished with value: -0.70846 and parameters: {'max_depth': 13, 'min_child_weight': 45, 'subsample': 0.922150267685121, 'colsample_bynode': 0.6408033671176033, 'learning_rate': 0.47706455227414746}. Best is trial 36 with value: -0.709742.\n"
     ]
    },
    {
     "name": "stderr",
     "output_type": "stream",
     "text": [
      "[I 2025-05-15 18:12:39,453] Trial 42 finished with value: -0.706341 and parameters: {'max_depth': 12, 'min_child_weight': 38, 'subsample': 0.9348419762184739, 'colsample_bynode': 0.6220892671265658, 'learning_rate': 0.49551653125240985}. Best is trial 36 with value: -0.709742.\n"
     ]
    },
    {
     "name": "stderr",
     "output_type": "stream",
     "text": [
      "[I 2025-05-15 18:12:45,804] Trial 43 finished with value: -0.706892 and parameters: {'max_depth': 10, 'min_child_weight': 45, 'subsample': 0.9890806344850878, 'colsample_bynode': 0.6110677803495186, 'learning_rate': 0.4794445194284007}. Best is trial 36 with value: -0.709742.\n"
     ]
    },
    {
     "name": "stderr",
     "output_type": "stream",
     "text": [
      "[I 2025-05-15 18:12:52,338] Trial 44 finished with value: -0.707692 and parameters: {'max_depth': 10, 'min_child_weight': 43, 'subsample': 0.9923419546413484, 'colsample_bynode': 0.6174424845767463, 'learning_rate': 0.4776469292318705}. Best is trial 36 with value: -0.709742.\n"
     ]
    },
    {
     "name": "stderr",
     "output_type": "stream",
     "text": [
      "[I 2025-05-15 18:12:52,605] Trial 45 pruned. Trial was pruned at iteration 0.\n"
     ]
    },
    {
     "name": "stderr",
     "output_type": "stream",
     "text": [
      "[I 2025-05-15 18:12:52,982] Trial 46 pruned. Trial was pruned at iteration 1.\n"
     ]
    },
    {
     "name": "stderr",
     "output_type": "stream",
     "text": [
      "[I 2025-05-15 18:12:57,786] Trial 47 pruned. Trial was pruned at iteration 41.\n"
     ]
    },
    {
     "name": "stderr",
     "output_type": "stream",
     "text": [
      "[I 2025-05-15 18:12:58,286] Trial 48 pruned. Trial was pruned at iteration 2.\n"
     ]
    },
    {
     "name": "stderr",
     "output_type": "stream",
     "text": [
      "[I 2025-05-15 18:12:58,537] Trial 49 pruned. Trial was pruned at iteration 0.\n"
     ]
    }
   ],
   "source": [
    "sampler = optuna.samplers.TPESampler(seed=42)\n",
    "study = optuna.create_study(direction='minimize', sampler=sampler)\n",
    "study.optimize(objective, n_trials=N_TRIALS, gc_after_trial=True)"
   ]
  },
  {
   "cell_type": "code",
   "execution_count": 20,
   "id": "3c863d80",
   "metadata": {
    "execution": {
     "iopub.execute_input": "2025-05-15T16:12:58.655473Z",
     "iopub.status.busy": "2025-05-15T16:12:58.655257Z",
     "iopub.status.idle": "2025-05-15T16:12:58.678050Z",
     "shell.execute_reply": "2025-05-15T16:12:58.677720Z"
    },
    "papermill": {
     "duration": 0.032719,
     "end_time": "2025-05-15T16:12:58.678930",
     "exception": false,
     "start_time": "2025-05-15T16:12:58.646211",
     "status": "completed"
    },
    "tags": []
   },
   "outputs": [
    {
     "data": {
      "text/plain": [
       "['/scratch_isilon/groups/singlecell/shared/projects/Inflammation-PBMCs-Atlas/03_downstream_analysis/08_gene_importance/xgboost_external_validation/xgboost_TopN_genes/results_20/study/B_11_3_xgboost.pkl']"
      ]
     },
     "execution_count": 20,
     "metadata": {},
     "output_type": "execute_result"
    }
   ],
   "source": [
    "out_dir = here(f'03_downstream_analysis/08_gene_importance/xgboost_external_validation/xgboost_TopN_genes/results_{N_GENES}/study')\n",
    "\n",
    "if not os.path.exists(out_dir):\n",
    "    os.makedirs(out_dir)\n",
    "    \n",
    "joblib.dump(study,os.path.join(out_dir, f'{CELL_TYPE}_{SEED}_{TEST_SPLIT_IDX}_xgboost.pkl'))"
   ]
  },
  {
   "cell_type": "code",
   "execution_count": 21,
   "id": "10a4f744",
   "metadata": {
    "execution": {
     "iopub.execute_input": "2025-05-15T16:12:58.695849Z",
     "iopub.status.busy": "2025-05-15T16:12:58.695687Z",
     "iopub.status.idle": "2025-05-15T16:13:02.495069Z",
     "shell.execute_reply": "2025-05-15T16:13:02.494703Z"
    },
    "papermill": {
     "duration": 3.809295,
     "end_time": "2025-05-15T16:13:02.496100",
     "exception": false,
     "start_time": "2025-05-15T16:12:58.686805",
     "status": "completed"
    },
    "tags": []
   },
   "outputs": [
    {
     "data": {
      "text/html": [
       "<style>#sk-container-id-1 {\n",
       "  /* Definition of color scheme common for light and dark mode */\n",
       "  --sklearn-color-text: black;\n",
       "  --sklearn-color-line: gray;\n",
       "  /* Definition of color scheme for unfitted estimators */\n",
       "  --sklearn-color-unfitted-level-0: #fff5e6;\n",
       "  --sklearn-color-unfitted-level-1: #f6e4d2;\n",
       "  --sklearn-color-unfitted-level-2: #ffe0b3;\n",
       "  --sklearn-color-unfitted-level-3: chocolate;\n",
       "  /* Definition of color scheme for fitted estimators */\n",
       "  --sklearn-color-fitted-level-0: #f0f8ff;\n",
       "  --sklearn-color-fitted-level-1: #d4ebff;\n",
       "  --sklearn-color-fitted-level-2: #b3dbfd;\n",
       "  --sklearn-color-fitted-level-3: cornflowerblue;\n",
       "\n",
       "  /* Specific color for light theme */\n",
       "  --sklearn-color-text-on-default-background: var(--sg-text-color, var(--theme-code-foreground, var(--jp-content-font-color1, black)));\n",
       "  --sklearn-color-background: var(--sg-background-color, var(--theme-background, var(--jp-layout-color0, white)));\n",
       "  --sklearn-color-border-box: var(--sg-text-color, var(--theme-code-foreground, var(--jp-content-font-color1, black)));\n",
       "  --sklearn-color-icon: #696969;\n",
       "\n",
       "  @media (prefers-color-scheme: dark) {\n",
       "    /* Redefinition of color scheme for dark theme */\n",
       "    --sklearn-color-text-on-default-background: var(--sg-text-color, var(--theme-code-foreground, var(--jp-content-font-color1, white)));\n",
       "    --sklearn-color-background: var(--sg-background-color, var(--theme-background, var(--jp-layout-color0, #111)));\n",
       "    --sklearn-color-border-box: var(--sg-text-color, var(--theme-code-foreground, var(--jp-content-font-color1, white)));\n",
       "    --sklearn-color-icon: #878787;\n",
       "  }\n",
       "}\n",
       "\n",
       "#sk-container-id-1 {\n",
       "  color: var(--sklearn-color-text);\n",
       "}\n",
       "\n",
       "#sk-container-id-1 pre {\n",
       "  padding: 0;\n",
       "}\n",
       "\n",
       "#sk-container-id-1 input.sk-hidden--visually {\n",
       "  border: 0;\n",
       "  clip: rect(1px 1px 1px 1px);\n",
       "  clip: rect(1px, 1px, 1px, 1px);\n",
       "  height: 1px;\n",
       "  margin: -1px;\n",
       "  overflow: hidden;\n",
       "  padding: 0;\n",
       "  position: absolute;\n",
       "  width: 1px;\n",
       "}\n",
       "\n",
       "#sk-container-id-1 div.sk-dashed-wrapped {\n",
       "  border: 1px dashed var(--sklearn-color-line);\n",
       "  margin: 0 0.4em 0.5em 0.4em;\n",
       "  box-sizing: border-box;\n",
       "  padding-bottom: 0.4em;\n",
       "  background-color: var(--sklearn-color-background);\n",
       "}\n",
       "\n",
       "#sk-container-id-1 div.sk-container {\n",
       "  /* jupyter's `normalize.less` sets `[hidden] { display: none; }`\n",
       "     but bootstrap.min.css set `[hidden] { display: none !important; }`\n",
       "     so we also need the `!important` here to be able to override the\n",
       "     default hidden behavior on the sphinx rendered scikit-learn.org.\n",
       "     See: https://github.com/scikit-learn/scikit-learn/issues/21755 */\n",
       "  display: inline-block !important;\n",
       "  position: relative;\n",
       "}\n",
       "\n",
       "#sk-container-id-1 div.sk-text-repr-fallback {\n",
       "  display: none;\n",
       "}\n",
       "\n",
       "div.sk-parallel-item,\n",
       "div.sk-serial,\n",
       "div.sk-item {\n",
       "  /* draw centered vertical line to link estimators */\n",
       "  background-image: linear-gradient(var(--sklearn-color-text-on-default-background), var(--sklearn-color-text-on-default-background));\n",
       "  background-size: 2px 100%;\n",
       "  background-repeat: no-repeat;\n",
       "  background-position: center center;\n",
       "}\n",
       "\n",
       "/* Parallel-specific style estimator block */\n",
       "\n",
       "#sk-container-id-1 div.sk-parallel-item::after {\n",
       "  content: \"\";\n",
       "  width: 100%;\n",
       "  border-bottom: 2px solid var(--sklearn-color-text-on-default-background);\n",
       "  flex-grow: 1;\n",
       "}\n",
       "\n",
       "#sk-container-id-1 div.sk-parallel {\n",
       "  display: flex;\n",
       "  align-items: stretch;\n",
       "  justify-content: center;\n",
       "  background-color: var(--sklearn-color-background);\n",
       "  position: relative;\n",
       "}\n",
       "\n",
       "#sk-container-id-1 div.sk-parallel-item {\n",
       "  display: flex;\n",
       "  flex-direction: column;\n",
       "}\n",
       "\n",
       "#sk-container-id-1 div.sk-parallel-item:first-child::after {\n",
       "  align-self: flex-end;\n",
       "  width: 50%;\n",
       "}\n",
       "\n",
       "#sk-container-id-1 div.sk-parallel-item:last-child::after {\n",
       "  align-self: flex-start;\n",
       "  width: 50%;\n",
       "}\n",
       "\n",
       "#sk-container-id-1 div.sk-parallel-item:only-child::after {\n",
       "  width: 0;\n",
       "}\n",
       "\n",
       "/* Serial-specific style estimator block */\n",
       "\n",
       "#sk-container-id-1 div.sk-serial {\n",
       "  display: flex;\n",
       "  flex-direction: column;\n",
       "  align-items: center;\n",
       "  background-color: var(--sklearn-color-background);\n",
       "  padding-right: 1em;\n",
       "  padding-left: 1em;\n",
       "}\n",
       "\n",
       "\n",
       "/* Toggleable style: style used for estimator/Pipeline/ColumnTransformer box that is\n",
       "clickable and can be expanded/collapsed.\n",
       "- Pipeline and ColumnTransformer use this feature and define the default style\n",
       "- Estimators will overwrite some part of the style using the `sk-estimator` class\n",
       "*/\n",
       "\n",
       "/* Pipeline and ColumnTransformer style (default) */\n",
       "\n",
       "#sk-container-id-1 div.sk-toggleable {\n",
       "  /* Default theme specific background. It is overwritten whether we have a\n",
       "  specific estimator or a Pipeline/ColumnTransformer */\n",
       "  background-color: var(--sklearn-color-background);\n",
       "}\n",
       "\n",
       "/* Toggleable label */\n",
       "#sk-container-id-1 label.sk-toggleable__label {\n",
       "  cursor: pointer;\n",
       "  display: block;\n",
       "  width: 100%;\n",
       "  margin-bottom: 0;\n",
       "  padding: 0.5em;\n",
       "  box-sizing: border-box;\n",
       "  text-align: center;\n",
       "}\n",
       "\n",
       "#sk-container-id-1 label.sk-toggleable__label-arrow:before {\n",
       "  /* Arrow on the left of the label */\n",
       "  content: \"▸\";\n",
       "  float: left;\n",
       "  margin-right: 0.25em;\n",
       "  color: var(--sklearn-color-icon);\n",
       "}\n",
       "\n",
       "#sk-container-id-1 label.sk-toggleable__label-arrow:hover:before {\n",
       "  color: var(--sklearn-color-text);\n",
       "}\n",
       "\n",
       "/* Toggleable content - dropdown */\n",
       "\n",
       "#sk-container-id-1 div.sk-toggleable__content {\n",
       "  max-height: 0;\n",
       "  max-width: 0;\n",
       "  overflow: hidden;\n",
       "  text-align: left;\n",
       "  /* unfitted */\n",
       "  background-color: var(--sklearn-color-unfitted-level-0);\n",
       "}\n",
       "\n",
       "#sk-container-id-1 div.sk-toggleable__content.fitted {\n",
       "  /* fitted */\n",
       "  background-color: var(--sklearn-color-fitted-level-0);\n",
       "}\n",
       "\n",
       "#sk-container-id-1 div.sk-toggleable__content pre {\n",
       "  margin: 0.2em;\n",
       "  border-radius: 0.25em;\n",
       "  color: var(--sklearn-color-text);\n",
       "  /* unfitted */\n",
       "  background-color: var(--sklearn-color-unfitted-level-0);\n",
       "}\n",
       "\n",
       "#sk-container-id-1 div.sk-toggleable__content.fitted pre {\n",
       "  /* unfitted */\n",
       "  background-color: var(--sklearn-color-fitted-level-0);\n",
       "}\n",
       "\n",
       "#sk-container-id-1 input.sk-toggleable__control:checked~div.sk-toggleable__content {\n",
       "  /* Expand drop-down */\n",
       "  max-height: 200px;\n",
       "  max-width: 100%;\n",
       "  overflow: auto;\n",
       "}\n",
       "\n",
       "#sk-container-id-1 input.sk-toggleable__control:checked~label.sk-toggleable__label-arrow:before {\n",
       "  content: \"▾\";\n",
       "}\n",
       "\n",
       "/* Pipeline/ColumnTransformer-specific style */\n",
       "\n",
       "#sk-container-id-1 div.sk-label input.sk-toggleable__control:checked~label.sk-toggleable__label {\n",
       "  color: var(--sklearn-color-text);\n",
       "  background-color: var(--sklearn-color-unfitted-level-2);\n",
       "}\n",
       "\n",
       "#sk-container-id-1 div.sk-label.fitted input.sk-toggleable__control:checked~label.sk-toggleable__label {\n",
       "  background-color: var(--sklearn-color-fitted-level-2);\n",
       "}\n",
       "\n",
       "/* Estimator-specific style */\n",
       "\n",
       "/* Colorize estimator box */\n",
       "#sk-container-id-1 div.sk-estimator input.sk-toggleable__control:checked~label.sk-toggleable__label {\n",
       "  /* unfitted */\n",
       "  background-color: var(--sklearn-color-unfitted-level-2);\n",
       "}\n",
       "\n",
       "#sk-container-id-1 div.sk-estimator.fitted input.sk-toggleable__control:checked~label.sk-toggleable__label {\n",
       "  /* fitted */\n",
       "  background-color: var(--sklearn-color-fitted-level-2);\n",
       "}\n",
       "\n",
       "#sk-container-id-1 div.sk-label label.sk-toggleable__label,\n",
       "#sk-container-id-1 div.sk-label label {\n",
       "  /* The background is the default theme color */\n",
       "  color: var(--sklearn-color-text-on-default-background);\n",
       "}\n",
       "\n",
       "/* On hover, darken the color of the background */\n",
       "#sk-container-id-1 div.sk-label:hover label.sk-toggleable__label {\n",
       "  color: var(--sklearn-color-text);\n",
       "  background-color: var(--sklearn-color-unfitted-level-2);\n",
       "}\n",
       "\n",
       "/* Label box, darken color on hover, fitted */\n",
       "#sk-container-id-1 div.sk-label.fitted:hover label.sk-toggleable__label.fitted {\n",
       "  color: var(--sklearn-color-text);\n",
       "  background-color: var(--sklearn-color-fitted-level-2);\n",
       "}\n",
       "\n",
       "/* Estimator label */\n",
       "\n",
       "#sk-container-id-1 div.sk-label label {\n",
       "  font-family: monospace;\n",
       "  font-weight: bold;\n",
       "  display: inline-block;\n",
       "  line-height: 1.2em;\n",
       "}\n",
       "\n",
       "#sk-container-id-1 div.sk-label-container {\n",
       "  text-align: center;\n",
       "}\n",
       "\n",
       "/* Estimator-specific */\n",
       "#sk-container-id-1 div.sk-estimator {\n",
       "  font-family: monospace;\n",
       "  border: 1px dotted var(--sklearn-color-border-box);\n",
       "  border-radius: 0.25em;\n",
       "  box-sizing: border-box;\n",
       "  margin-bottom: 0.5em;\n",
       "  /* unfitted */\n",
       "  background-color: var(--sklearn-color-unfitted-level-0);\n",
       "}\n",
       "\n",
       "#sk-container-id-1 div.sk-estimator.fitted {\n",
       "  /* fitted */\n",
       "  background-color: var(--sklearn-color-fitted-level-0);\n",
       "}\n",
       "\n",
       "/* on hover */\n",
       "#sk-container-id-1 div.sk-estimator:hover {\n",
       "  /* unfitted */\n",
       "  background-color: var(--sklearn-color-unfitted-level-2);\n",
       "}\n",
       "\n",
       "#sk-container-id-1 div.sk-estimator.fitted:hover {\n",
       "  /* fitted */\n",
       "  background-color: var(--sklearn-color-fitted-level-2);\n",
       "}\n",
       "\n",
       "/* Specification for estimator info (e.g. \"i\" and \"?\") */\n",
       "\n",
       "/* Common style for \"i\" and \"?\" */\n",
       "\n",
       ".sk-estimator-doc-link,\n",
       "a:link.sk-estimator-doc-link,\n",
       "a:visited.sk-estimator-doc-link {\n",
       "  float: right;\n",
       "  font-size: smaller;\n",
       "  line-height: 1em;\n",
       "  font-family: monospace;\n",
       "  background-color: var(--sklearn-color-background);\n",
       "  border-radius: 1em;\n",
       "  height: 1em;\n",
       "  width: 1em;\n",
       "  text-decoration: none !important;\n",
       "  margin-left: 1ex;\n",
       "  /* unfitted */\n",
       "  border: var(--sklearn-color-unfitted-level-1) 1pt solid;\n",
       "  color: var(--sklearn-color-unfitted-level-1);\n",
       "}\n",
       "\n",
       ".sk-estimator-doc-link.fitted,\n",
       "a:link.sk-estimator-doc-link.fitted,\n",
       "a:visited.sk-estimator-doc-link.fitted {\n",
       "  /* fitted */\n",
       "  border: var(--sklearn-color-fitted-level-1) 1pt solid;\n",
       "  color: var(--sklearn-color-fitted-level-1);\n",
       "}\n",
       "\n",
       "/* On hover */\n",
       "div.sk-estimator:hover .sk-estimator-doc-link:hover,\n",
       ".sk-estimator-doc-link:hover,\n",
       "div.sk-label-container:hover .sk-estimator-doc-link:hover,\n",
       ".sk-estimator-doc-link:hover {\n",
       "  /* unfitted */\n",
       "  background-color: var(--sklearn-color-unfitted-level-3);\n",
       "  color: var(--sklearn-color-background);\n",
       "  text-decoration: none;\n",
       "}\n",
       "\n",
       "div.sk-estimator.fitted:hover .sk-estimator-doc-link.fitted:hover,\n",
       ".sk-estimator-doc-link.fitted:hover,\n",
       "div.sk-label-container:hover .sk-estimator-doc-link.fitted:hover,\n",
       ".sk-estimator-doc-link.fitted:hover {\n",
       "  /* fitted */\n",
       "  background-color: var(--sklearn-color-fitted-level-3);\n",
       "  color: var(--sklearn-color-background);\n",
       "  text-decoration: none;\n",
       "}\n",
       "\n",
       "/* Span, style for the box shown on hovering the info icon */\n",
       ".sk-estimator-doc-link span {\n",
       "  display: none;\n",
       "  z-index: 9999;\n",
       "  position: relative;\n",
       "  font-weight: normal;\n",
       "  right: .2ex;\n",
       "  padding: .5ex;\n",
       "  margin: .5ex;\n",
       "  width: min-content;\n",
       "  min-width: 20ex;\n",
       "  max-width: 50ex;\n",
       "  color: var(--sklearn-color-text);\n",
       "  box-shadow: 2pt 2pt 4pt #999;\n",
       "  /* unfitted */\n",
       "  background: var(--sklearn-color-unfitted-level-0);\n",
       "  border: .5pt solid var(--sklearn-color-unfitted-level-3);\n",
       "}\n",
       "\n",
       ".sk-estimator-doc-link.fitted span {\n",
       "  /* fitted */\n",
       "  background: var(--sklearn-color-fitted-level-0);\n",
       "  border: var(--sklearn-color-fitted-level-3);\n",
       "}\n",
       "\n",
       ".sk-estimator-doc-link:hover span {\n",
       "  display: block;\n",
       "}\n",
       "\n",
       "/* \"?\"-specific style due to the `<a>` HTML tag */\n",
       "\n",
       "#sk-container-id-1 a.estimator_doc_link {\n",
       "  float: right;\n",
       "  font-size: 1rem;\n",
       "  line-height: 1em;\n",
       "  font-family: monospace;\n",
       "  background-color: var(--sklearn-color-background);\n",
       "  border-radius: 1rem;\n",
       "  height: 1rem;\n",
       "  width: 1rem;\n",
       "  text-decoration: none;\n",
       "  /* unfitted */\n",
       "  color: var(--sklearn-color-unfitted-level-1);\n",
       "  border: var(--sklearn-color-unfitted-level-1) 1pt solid;\n",
       "}\n",
       "\n",
       "#sk-container-id-1 a.estimator_doc_link.fitted {\n",
       "  /* fitted */\n",
       "  border: var(--sklearn-color-fitted-level-1) 1pt solid;\n",
       "  color: var(--sklearn-color-fitted-level-1);\n",
       "}\n",
       "\n",
       "/* On hover */\n",
       "#sk-container-id-1 a.estimator_doc_link:hover {\n",
       "  /* unfitted */\n",
       "  background-color: var(--sklearn-color-unfitted-level-3);\n",
       "  color: var(--sklearn-color-background);\n",
       "  text-decoration: none;\n",
       "}\n",
       "\n",
       "#sk-container-id-1 a.estimator_doc_link.fitted:hover {\n",
       "  /* fitted */\n",
       "  background-color: var(--sklearn-color-fitted-level-3);\n",
       "}\n",
       "</style><div id=\"sk-container-id-1\" class=\"sk-top-container\"><div class=\"sk-text-repr-fallback\"><pre>XGBClassifier(base_score=None, booster=None, callbacks=None,\n",
       "              colsample_bylevel=None, colsample_bynode=0.6477644412949864,\n",
       "              colsample_bytree=None, device=None, early_stopping_rounds=None,\n",
       "              enable_categorical=False,\n",
       "              eval_metric=&lt;function custom_f1_score at 0x7f51192b80e0&gt;,\n",
       "              feature_types=None, gamma=None, grow_policy=None,\n",
       "              importance_type=None, interaction_constraints=None,\n",
       "              learning_rate=0.47224146338839246, max_bin=None,\n",
       "              max_cat_threshold=None, max_cat_to_onehot=None,\n",
       "              max_delta_step=None, max_depth=13, max_leaves=None,\n",
       "              min_child_weight=62, missing=nan, monotone_constraints=None,\n",
       "              multi_strategy=None, n_estimators=61, n_jobs=None,\n",
       "              num_parallel_tree=None, objective=&#x27;multi:softprob&#x27;, ...)</pre><b>In a Jupyter environment, please rerun this cell to show the HTML representation or trust the notebook. <br />On GitHub, the HTML representation is unable to render, please try loading this page with nbviewer.org.</b></div><div class=\"sk-container\" hidden><div class=\"sk-item\"><div class=\"sk-estimator fitted sk-toggleable\"><input class=\"sk-toggleable__control sk-hidden--visually\" id=\"sk-estimator-id-1\" type=\"checkbox\" checked><label for=\"sk-estimator-id-1\" class=\"sk-toggleable__label fitted sk-toggleable__label-arrow fitted\">&nbsp;XGBClassifier<span class=\"sk-estimator-doc-link fitted\">i<span>Fitted</span></span></label><div class=\"sk-toggleable__content fitted\"><pre>XGBClassifier(base_score=None, booster=None, callbacks=None,\n",
       "              colsample_bylevel=None, colsample_bynode=0.6477644412949864,\n",
       "              colsample_bytree=None, device=None, early_stopping_rounds=None,\n",
       "              enable_categorical=False,\n",
       "              eval_metric=&lt;function custom_f1_score at 0x7f51192b80e0&gt;,\n",
       "              feature_types=None, gamma=None, grow_policy=None,\n",
       "              importance_type=None, interaction_constraints=None,\n",
       "              learning_rate=0.47224146338839246, max_bin=None,\n",
       "              max_cat_threshold=None, max_cat_to_onehot=None,\n",
       "              max_delta_step=None, max_depth=13, max_leaves=None,\n",
       "              min_child_weight=62, missing=nan, monotone_constraints=None,\n",
       "              multi_strategy=None, n_estimators=61, n_jobs=None,\n",
       "              num_parallel_tree=None, objective=&#x27;multi:softprob&#x27;, ...)</pre></div> </div></div></div></div>"
      ],
      "text/plain": [
       "XGBClassifier(base_score=None, booster=None, callbacks=None,\n",
       "              colsample_bylevel=None, colsample_bynode=0.6477644412949864,\n",
       "              colsample_bytree=None, device=None, early_stopping_rounds=None,\n",
       "              enable_categorical=False,\n",
       "              eval_metric=<function custom_f1_score at 0x7f51192b80e0>,\n",
       "              feature_types=None, gamma=None, grow_policy=None,\n",
       "              importance_type=None, interaction_constraints=None,\n",
       "              learning_rate=0.47224146338839246, max_bin=None,\n",
       "              max_cat_threshold=None, max_cat_to_onehot=None,\n",
       "              max_delta_step=None, max_depth=13, max_leaves=None,\n",
       "              min_child_weight=62, missing=nan, monotone_constraints=None,\n",
       "              multi_strategy=None, n_estimators=61, n_jobs=None,\n",
       "              num_parallel_tree=None, objective='multi:softprob', ...)"
      ]
     },
     "execution_count": 21,
     "metadata": {},
     "output_type": "execute_result"
    }
   ],
   "source": [
    "n_estimators = int(study.best_trial.user_attrs['best_iteration']*1.2)\n",
    "xgb = xgboost.XGBClassifier(\n",
    "        eval_metric=eval_metric,\n",
    "        n_estimators=n_estimators,\n",
    "        **study.best_trial.params\n",
    "    )\n",
    "xgb.fit(\n",
    "    ssp.vstack((X_train, X_val)), \n",
    "    np.concatenate((y_train_enc, y_val_enc)),\n",
    "    verbose=1,\n",
    ")"
   ]
  },
  {
   "cell_type": "code",
   "execution_count": 22,
   "id": "e4e7b602",
   "metadata": {
    "execution": {
     "iopub.execute_input": "2025-05-15T16:13:02.529218Z",
     "iopub.status.busy": "2025-05-15T16:13:02.529011Z",
     "iopub.status.idle": "2025-05-15T16:13:02.563541Z",
     "shell.execute_reply": "2025-05-15T16:13:02.563149Z"
    },
    "papermill": {
     "duration": 0.058819,
     "end_time": "2025-05-15T16:13:02.564483",
     "exception": false,
     "start_time": "2025-05-15T16:13:02.505664",
     "status": "completed"
    },
    "tags": []
   },
   "outputs": [
    {
     "data": {
      "text/plain": [
       "['/scratch_isilon/groups/singlecell/shared/projects/Inflammation-PBMCs-Atlas/03_downstream_analysis/08_gene_importance/xgboost_external_validation/xgboost_TopN_genes/results_20/best_model/B_11_3_xgb.json']"
      ]
     },
     "execution_count": 22,
     "metadata": {},
     "output_type": "execute_result"
    }
   ],
   "source": [
    "out_dir = here(f'03_downstream_analysis/08_gene_importance/xgboost_external_validation/xgboost_TopN_genes/results_{N_GENES}/best_model')\n",
    "\n",
    "if not os.path.exists(out_dir):\n",
    "    os.makedirs(out_dir)\n",
    "    \n",
    "joblib.dump(xgb, os.path.join(out_dir, f'{CELL_TYPE}_{SEED}_{TEST_SPLIT_IDX}_xgb.json'))"
   ]
  },
  {
   "cell_type": "code",
   "execution_count": 23,
   "id": "218a3437",
   "metadata": {
    "execution": {
     "iopub.execute_input": "2025-05-15T16:13:02.584805Z",
     "iopub.status.busy": "2025-05-15T16:13:02.584486Z",
     "iopub.status.idle": "2025-05-15T16:13:02.682948Z",
     "shell.execute_reply": "2025-05-15T16:13:02.682597Z"
    },
    "papermill": {
     "duration": 0.110052,
     "end_time": "2025-05-15T16:13:02.683987",
     "exception": false,
     "start_time": "2025-05-15T16:13:02.573935",
     "status": "completed"
    },
    "tags": []
   },
   "outputs": [],
   "source": [
    "df_pred_test = pd.DataFrame(dict(\n",
    "    cell_id=train_adata.obs.iloc[test_idxs].index.values,\n",
    "    y_true=y_test, \n",
    "    y_true_code=y_test_enc, \n",
    "    y_pred=xgb.predict(X_test))).set_index('cell_id')"
   ]
  },
  {
   "cell_type": "code",
   "execution_count": 24,
   "id": "bd51dc0a",
   "metadata": {
    "execution": {
     "iopub.execute_input": "2025-05-15T16:13:02.702741Z",
     "iopub.status.busy": "2025-05-15T16:13:02.702557Z",
     "iopub.status.idle": "2025-05-15T16:13:02.760548Z",
     "shell.execute_reply": "2025-05-15T16:13:02.760208Z"
    },
    "papermill": {
     "duration": 0.06881,
     "end_time": "2025-05-15T16:13:02.761724",
     "exception": false,
     "start_time": "2025-05-15T16:13:02.692914",
     "status": "completed"
    },
    "tags": []
   },
   "outputs": [],
   "source": [
    "out_dir = here(f'03_downstream_analysis/08_gene_importance/xgboost_external_validation/xgboost_TopN_genes/results_{N_GENES}/predictions')\n",
    "\n",
    "if not os.path.exists(out_dir):\n",
    "    os.makedirs(out_dir)\n",
    "    \n",
    "df_pred_test.to_csv(os.path.join(out_dir, f'{CELL_TYPE}_{SEED}_{TEST_SPLIT_IDX}_pred_test.zip'))"
   ]
  },
  {
   "cell_type": "code",
   "execution_count": 25,
   "id": "43b20576",
   "metadata": {
    "execution": {
     "iopub.execute_input": "2025-05-15T16:13:02.780270Z",
     "iopub.status.busy": "2025-05-15T16:13:02.779958Z",
     "iopub.status.idle": "2025-05-15T16:13:02.788516Z",
     "shell.execute_reply": "2025-05-15T16:13:02.788197Z"
    },
    "papermill": {
     "duration": 0.018739,
     "end_time": "2025-05-15T16:13:02.789415",
     "exception": false,
     "start_time": "2025-05-15T16:13:02.770676",
     "status": "completed"
    },
    "tags": []
   },
   "outputs": [],
   "source": [
    "metrics_dict = dict(\n",
    "    BAS=balanced_accuracy_score(y_true=df_pred_test.y_true_code, y_pred=df_pred_test.y_pred), WF1=f1_score(y_true=df_pred_test.y_true_code, y_pred=df_pred_test.y_pred,average='weighted'))"
   ]
  },
  {
   "cell_type": "code",
   "execution_count": 26,
   "id": "7ca8bf71",
   "metadata": {
    "execution": {
     "iopub.execute_input": "2025-05-15T16:13:02.812968Z",
     "iopub.status.busy": "2025-05-15T16:13:02.812758Z",
     "iopub.status.idle": "2025-05-15T16:13:02.815509Z",
     "shell.execute_reply": "2025-05-15T16:13:02.815195Z"
    },
    "papermill": {
     "duration": 0.012619,
     "end_time": "2025-05-15T16:13:02.816437",
     "exception": false,
     "start_time": "2025-05-15T16:13:02.803818",
     "status": "completed"
    },
    "tags": []
   },
   "outputs": [
    {
     "data": {
      "text/plain": [
       "{'BAS': 0.5425238365589127, 'WF1': 0.6352647743071924}"
      ]
     },
     "execution_count": 26,
     "metadata": {},
     "output_type": "execute_result"
    }
   ],
   "source": [
    "metrics_dict"
   ]
  },
  {
   "cell_type": "code",
   "execution_count": 27,
   "id": "fce9b7a5",
   "metadata": {
    "execution": {
     "iopub.execute_input": "2025-05-15T16:13:02.834997Z",
     "iopub.status.busy": "2025-05-15T16:13:02.834673Z",
     "iopub.status.idle": "2025-05-15T16:13:02.843671Z",
     "shell.execute_reply": "2025-05-15T16:13:02.843362Z"
    },
    "papermill": {
     "duration": 0.019113,
     "end_time": "2025-05-15T16:13:02.844515",
     "exception": false,
     "start_time": "2025-05-15T16:13:02.825402",
     "status": "completed"
    },
    "tags": []
   },
   "outputs": [
    {
     "data": {
      "text/html": [
       "<div>\n",
       "<style scoped>\n",
       "    .dataframe tbody tr th:only-of-type {\n",
       "        vertical-align: middle;\n",
       "    }\n",
       "\n",
       "    .dataframe tbody tr th {\n",
       "        vertical-align: top;\n",
       "    }\n",
       "\n",
       "    .dataframe thead th {\n",
       "        text-align: right;\n",
       "    }\n",
       "</style>\n",
       "<table border=\"1\" class=\"dataframe\">\n",
       "  <thead>\n",
       "    <tr style=\"text-align: right;\">\n",
       "      <th></th>\n",
       "      <th>BAS</th>\n",
       "      <th>WF1</th>\n",
       "      <th>split_idx</th>\n",
       "      <th>gene_set_seed</th>\n",
       "      <th>cell_type</th>\n",
       "    </tr>\n",
       "  </thead>\n",
       "  <tbody>\n",
       "    <tr>\n",
       "      <th>0</th>\n",
       "      <td>0.542524</td>\n",
       "      <td>0.635265</td>\n",
       "      <td>3</td>\n",
       "      <td>11</td>\n",
       "      <td>B</td>\n",
       "    </tr>\n",
       "  </tbody>\n",
       "</table>\n",
       "</div>"
      ],
      "text/plain": [
       "        BAS       WF1  split_idx  gene_set_seed cell_type\n",
       "0  0.542524  0.635265          3             11         B"
      ]
     },
     "execution_count": 27,
     "metadata": {},
     "output_type": "execute_result"
    }
   ],
   "source": [
    "metrics_df = pd.DataFrame.from_dict([metrics_dict]).assign(split_idx=TEST_SPLIT_IDX, gene_set_seed=SEED, cell_type=CELL_TYPE)\n",
    "metrics_df"
   ]
  },
  {
   "cell_type": "code",
   "execution_count": 28,
   "id": "71234718",
   "metadata": {
    "execution": {
     "iopub.execute_input": "2025-05-15T16:13:02.863369Z",
     "iopub.status.busy": "2025-05-15T16:13:02.863130Z",
     "iopub.status.idle": "2025-05-15T16:13:02.871454Z",
     "shell.execute_reply": "2025-05-15T16:13:02.871141Z"
    },
    "papermill": {
     "duration": 0.018715,
     "end_time": "2025-05-15T16:13:02.872342",
     "exception": false,
     "start_time": "2025-05-15T16:13:02.853627",
     "status": "completed"
    },
    "tags": []
   },
   "outputs": [],
   "source": [
    "out_dir = here(f'03_downstream_analysis/08_gene_importance/xgboost_external_validation/xgboost_TopN_genes/results_{N_GENES}/metrics')\n",
    "\n",
    "if not os.path.exists(out_dir):\n",
    "    os.makedirs(out_dir)\n",
    "    \n",
    "metrics_df.to_csv(os.path.join(out_dir, f'{CELL_TYPE}_{SEED}_{TEST_SPLIT_IDX}_metrics.zip'))"
   ]
  }
 ],
 "metadata": {
  "kernelspec": {
   "display_name": "Python 3 (ipykernel)",
   "language": "python",
   "name": "python3"
  },
  "language_info": {
   "codemirror_mode": {
    "name": "ipython",
    "version": 3
   },
   "file_extension": ".py",
   "mimetype": "text/x-python",
   "name": "python",
   "nbconvert_exporter": "python",
   "pygments_lexer": "ipython3",
   "version": "3.12.5"
  },
  "papermill": {
   "default_parameters": {},
   "duration": 189.107215,
   "end_time": "2025-05-15T16:13:03.496864",
   "environment_variables": {},
   "exception": null,
   "input_path": "02_xgboost_fitting_external_20genes.ipynb",
   "output_path": "results_20/executed_notebooks/xgboost_fitting_external_CT_B_GS_11_seed3.ipynb",
   "parameters": {
    "CELL_TYPE": "B",
    "SEED": 11,
    "TEST_SPLIT_IDX": 3
   },
   "start_time": "2025-05-15T16:09:54.389649",
   "version": "2.6.0"
  }
 },
 "nbformat": 4,
 "nbformat_minor": 5
}