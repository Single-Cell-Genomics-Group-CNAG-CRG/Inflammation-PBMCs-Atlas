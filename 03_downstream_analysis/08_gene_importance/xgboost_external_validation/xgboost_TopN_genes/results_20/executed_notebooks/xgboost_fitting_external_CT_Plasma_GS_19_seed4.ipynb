{
 "cells": [
  {
   "cell_type": "code",
   "execution_count": 1,
   "id": "eb27ad26",
   "metadata": {
    "editable": true,
    "execution": {
     "iopub.execute_input": "2025-05-15T16:15:50.242882Z",
     "iopub.status.busy": "2025-05-15T16:15:50.242557Z",
     "iopub.status.idle": "2025-05-15T16:15:50.246347Z",
     "shell.execute_reply": "2025-05-15T16:15:50.245993Z"
    },
    "papermill": {
     "duration": 0.011592,
     "end_time": "2025-05-15T16:15:50.247455",
     "exception": false,
     "start_time": "2025-05-15T16:15:50.235863",
     "status": "completed"
    },
    "slideshow": {
     "slide_type": ""
    },
    "tags": [
     "parameters"
    ]
   },
   "outputs": [],
   "source": [
    "CELL_TYPE = 'pDC'\n",
    "N_GENES: int = 20\n",
    "SEED = 'shap_studyID' #'disease_NOstudy' 'study_NOdisease' or 'int' or 'shap_studyID'\n",
    "TEST_SPLIT_IDX: int = 1 #[0,4]"
   ]
  },
  {
   "cell_type": "code",
   "execution_count": 2,
   "id": "f6537830",
   "metadata": {
    "execution": {
     "iopub.execute_input": "2025-05-15T16:15:50.258630Z",
     "iopub.status.busy": "2025-05-15T16:15:50.258273Z",
     "iopub.status.idle": "2025-05-15T16:15:50.260433Z",
     "shell.execute_reply": "2025-05-15T16:15:50.260112Z"
    },
    "papermill": {
     "duration": 0.008548,
     "end_time": "2025-05-15T16:15:50.261373",
     "exception": false,
     "start_time": "2025-05-15T16:15:50.252825",
     "status": "completed"
    },
    "tags": [
     "injected-parameters"
    ]
   },
   "outputs": [],
   "source": [
    "# Parameters\n",
    "CELL_TYPE = \"Plasma\"\n",
    "SEED = 19\n",
    "TEST_SPLIT_IDX = 4\n"
   ]
  },
  {
   "cell_type": "code",
   "execution_count": 3,
   "id": "5b5b7c5f",
   "metadata": {
    "execution": {
     "iopub.execute_input": "2025-05-15T16:15:50.272519Z",
     "iopub.status.busy": "2025-05-15T16:15:50.272162Z",
     "iopub.status.idle": "2025-05-15T16:15:50.274346Z",
     "shell.execute_reply": "2025-05-15T16:15:50.274036Z"
    },
    "papermill": {
     "duration": 0.008805,
     "end_time": "2025-05-15T16:15:50.275169",
     "exception": false,
     "start_time": "2025-05-15T16:15:50.266364",
     "status": "completed"
    },
    "tags": []
   },
   "outputs": [],
   "source": [
    "N_SPLITS: int = 5\n",
    "N_TRIALS: int = 50"
   ]
  },
  {
   "cell_type": "code",
   "execution_count": 4,
   "id": "604f3d55",
   "metadata": {
    "execution": {
     "iopub.execute_input": "2025-05-15T16:15:50.287165Z",
     "iopub.status.busy": "2025-05-15T16:15:50.286751Z",
     "iopub.status.idle": "2025-05-15T16:15:53.933929Z",
     "shell.execute_reply": "2025-05-15T16:15:53.933384Z"
    },
    "papermill": {
     "duration": 3.65515,
     "end_time": "2025-05-15T16:15:53.935234",
     "exception": false,
     "start_time": "2025-05-15T16:15:50.280084",
     "status": "completed"
    },
    "tags": []
   },
   "outputs": [],
   "source": [
    "import os\n",
    "import sys\n",
    "from pyprojroot.here import here\n",
    "import pandas as pd\n",
    "import anndata as ad\n",
    "import numpy as np\n",
    "import math\n",
    "from sklearn.model_selection import StratifiedGroupKFold\n",
    "from sklearn.preprocessing import LabelEncoder\n",
    "from sklearn.metrics import f1_score\n",
    "import matplotlib.pyplot as plt\n",
    "import seaborn as sns\n",
    "from itertools import product\n",
    "from sklearn.metrics import balanced_accuracy_score, f1_score\n",
    "import optuna\n",
    "\n",
    "import joblib\n",
    "import pickle\n",
    "import datetime\n",
    "\n",
    "import collections\n",
    "\n",
    "import xgboost\n",
    "from sklearn.preprocessing import LabelEncoder\n",
    "\n",
    "import scipy.sparse as ssp\n",
    "import joblib\n",
    "\n",
    "from dotenv import load_dotenv"
   ]
  },
  {
   "cell_type": "code",
   "execution_count": 5,
   "id": "250dfd3b",
   "metadata": {
    "execution": {
     "iopub.execute_input": "2025-05-15T16:15:53.947849Z",
     "iopub.status.busy": "2025-05-15T16:15:53.947462Z",
     "iopub.status.idle": "2025-05-15T16:15:53.953828Z",
     "shell.execute_reply": "2025-05-15T16:15:53.953512Z"
    },
    "papermill": {
     "duration": 0.013382,
     "end_time": "2025-05-15T16:15:53.954764",
     "exception": false,
     "start_time": "2025-05-15T16:15:53.941382",
     "status": "completed"
    },
    "tags": []
   },
   "outputs": [
    {
     "data": {
      "text/plain": [
       "True"
      ]
     },
     "execution_count": 5,
     "metadata": {},
     "output_type": "execute_result"
    }
   ],
   "source": [
    "load_dotenv()"
   ]
  },
  {
   "cell_type": "markdown",
   "id": "3f4ff980",
   "metadata": {
    "papermill": {
     "duration": 0.005405,
     "end_time": "2025-05-15T16:15:53.965051",
     "exception": false,
     "start_time": "2025-05-15T16:15:53.959646",
     "status": "completed"
    },
    "tags": []
   },
   "source": [
    "# LOAD DATASET"
   ]
  },
  {
   "cell_type": "code",
   "execution_count": 6,
   "id": "15a8d984",
   "metadata": {
    "execution": {
     "iopub.execute_input": "2025-05-15T16:15:53.976722Z",
     "iopub.status.busy": "2025-05-15T16:15:53.976398Z",
     "iopub.status.idle": "2025-05-15T16:15:54.016337Z",
     "shell.execute_reply": "2025-05-15T16:15:54.015891Z"
    },
    "papermill": {
     "duration": 0.046863,
     "end_time": "2025-05-15T16:15:54.017455",
     "exception": false,
     "start_time": "2025-05-15T16:15:53.970592",
     "status": "completed"
    },
    "tags": []
   },
   "outputs": [],
   "source": [
    "train_adata = ad.read_h5ad(\n",
    "    here(f'03_downstream_analysis/08_gene_importance/xgboost_external_validation/xgboost_TopN_genes/data_cellTypes/EXTERNAL_{CELL_TYPE}.filtered.log1p.h5ad')\n",
    ")"
   ]
  },
  {
   "cell_type": "code",
   "execution_count": 7,
   "id": "64e7c12f",
   "metadata": {
    "execution": {
     "iopub.execute_input": "2025-05-15T16:15:54.028682Z",
     "iopub.status.busy": "2025-05-15T16:15:54.028449Z",
     "iopub.status.idle": "2025-05-15T16:15:54.038859Z",
     "shell.execute_reply": "2025-05-15T16:15:54.038497Z"
    },
    "papermill": {
     "duration": 0.01708,
     "end_time": "2025-05-15T16:15:54.039785",
     "exception": false,
     "start_time": "2025-05-15T16:15:54.022705",
     "status": "completed"
    },
    "tags": []
   },
   "outputs": [
    {
     "name": "stdout",
     "output_type": "stream",
     "text": [
      "['ENSG00000145675' 'ENSG00000197249' 'ENSG00000142634' 'ENSG00000130755'\n",
      " 'ENSG00000048462' 'ENSG00000168811' 'ENSG00000160213' 'ENSG00000158869'\n",
      " 'ENSG00000011600' 'ENSG00000121316' 'ENSG00000099958' 'ENSG00000100450'\n",
      " 'ENSG00000167004' 'ENSG00000165732' 'ENSG00000026103' 'ENSG00000223865'\n",
      " 'ENSG00000141526' 'ENSG00000183696' 'ENSG00000100906' 'ENSG00000112149'\n",
      " 'ENSG00000163660' 'ENSG00000104660' 'ENSG00000241106' 'ENSG00000144746'\n",
      " 'ENSG00000126561' 'ENSG00000065978' 'ENSG00000172936' 'ENSG00000038427'\n",
      " 'ENSG00000092820' 'ENSG00000160932' 'ENSG00000078596' 'ENSG00000134539'\n",
      " 'ENSG00000075624' 'ENSG00000143390' 'ENSG00000146457' 'ENSG00000125347'\n",
      " 'ENSG00000100368' 'ENSG00000271503' 'ENSG00000134470' 'ENSG00000198355'\n",
      " 'ENSG00000169442' 'ENSG00000183020' 'ENSG00000138107' 'ENSG00000175354'\n",
      " 'ENSG00000143761' 'ENSG00000143924' 'ENSG00000127951' 'ENSG00000138802'\n",
      " 'ENSG00000170540' 'ENSG00000175104' 'ENSG00000152234' 'ENSG00000140379'\n",
      " 'ENSG00000172531' 'ENSG00000171476' 'ENSG00000165272' 'ENSG00000101017'\n",
      " 'ENSG00000196126' 'ENSG00000173812' 'ENSG00000135968' 'ENSG00000030582'\n",
      " 'ENSG00000137441' 'ENSG00000121879' 'ENSG00000157020' 'ENSG00000137331'\n",
      " 'ENSG00000108639' 'ENSG00000228474' 'ENSG00000156738' 'ENSG00000139318'\n",
      " 'ENSG00000100600' 'ENSG00000197746' 'ENSG00000132002' 'ENSG00000104998'\n",
      " 'ENSG00000166847' 'ENSG00000122862' 'ENSG00000132475' 'ENSG00000242574'\n",
      " 'ENSG00000137193' 'ENSG00000170458' 'ENSG00000138778' 'ENSG00000110876'\n",
      " 'ENSG00000116171' 'ENSG00000027697' 'ENSG00000138674' 'ENSG00000136738'\n",
      " 'ENSG00000117523' 'ENSG00000277734' 'ENSG00000127314' 'ENSG00000120742'\n",
      " 'ENSG00000168461' 'ENSG00000197540' 'ENSG00000018280' 'ENSG00000119535'\n",
      " 'ENSG00000175768' 'ENSG00000135821' 'ENSG00000143933' 'ENSG00000105397'\n",
      " 'ENSG00000109321' 'ENSG00000163513' 'ENSG00000082074' 'ENSG00000115073'\n",
      " 'ENSG00000164136' 'ENSG00000117602' 'ENSG00000110324' 'ENSG00000179144'\n",
      " 'ENSG00000136003' 'ENSG00000167552' 'ENSG00000128524']\n"
     ]
    }
   ],
   "source": [
    "if SEED != 'all':\n",
    "    gene_subset = np.load(here(f'03_downstream_analysis/08_gene_importance/xgboost_external_validation/shap_gene_selection/gene_subsets_{N_GENES}/{CELL_TYPE}_{SEED}.npy'), allow_pickle=True)\n",
    "    train_adata = train_adata[:,gene_subset]\n",
    "    print(gene_subset)\n",
    "elif SEED == 'all':\n",
    "    print('Using all genes')\n",
    "else:\n",
    "    raise ValueError()"
   ]
  },
  {
   "cell_type": "code",
   "execution_count": 8,
   "id": "f6103216",
   "metadata": {
    "execution": {
     "iopub.execute_input": "2025-05-15T16:15:54.051226Z",
     "iopub.status.busy": "2025-05-15T16:15:54.051017Z",
     "iopub.status.idle": "2025-05-15T16:15:54.054148Z",
     "shell.execute_reply": "2025-05-15T16:15:54.053830Z"
    },
    "papermill": {
     "duration": 0.009721,
     "end_time": "2025-05-15T16:15:54.054981",
     "exception": false,
     "start_time": "2025-05-15T16:15:54.045260",
     "status": "completed"
    },
    "tags": []
   },
   "outputs": [
    {
     "data": {
      "text/plain": [
       "(542, 107)"
      ]
     },
     "execution_count": 8,
     "metadata": {},
     "output_type": "execute_result"
    }
   ],
   "source": [
    "train_adata.shape"
   ]
  },
  {
   "cell_type": "code",
   "execution_count": 9,
   "id": "4f1fbbe0",
   "metadata": {
    "execution": {
     "iopub.execute_input": "2025-05-15T16:15:54.067458Z",
     "iopub.status.busy": "2025-05-15T16:15:54.067029Z",
     "iopub.status.idle": "2025-05-15T16:15:54.071010Z",
     "shell.execute_reply": "2025-05-15T16:15:54.070679Z"
    },
    "papermill": {
     "duration": 0.011321,
     "end_time": "2025-05-15T16:15:54.071852",
     "exception": false,
     "start_time": "2025-05-15T16:15:54.060531",
     "status": "completed"
    },
    "tags": []
   },
   "outputs": [
    {
     "data": {
      "text/plain": [
       "['RA', 'COVID', 'healthy', 'HIV', 'cirrhosis', 'CD', 'SLE', 'sepsis']\n",
       "Categories (8, object): ['CD', 'COVID', 'HIV', 'RA', 'SLE', 'cirrhosis', 'healthy', 'sepsis']"
      ]
     },
     "execution_count": 9,
     "metadata": {},
     "output_type": "execute_result"
    }
   ],
   "source": [
    "train_adata.obs.disease.unique()"
   ]
  },
  {
   "cell_type": "code",
   "execution_count": 10,
   "id": "f162bec2",
   "metadata": {
    "execution": {
     "iopub.execute_input": "2025-05-15T16:15:54.083650Z",
     "iopub.status.busy": "2025-05-15T16:15:54.083373Z",
     "iopub.status.idle": "2025-05-15T16:15:54.086940Z",
     "shell.execute_reply": "2025-05-15T16:15:54.086633Z"
    },
    "papermill": {
     "duration": 0.010867,
     "end_time": "2025-05-15T16:15:54.087781",
     "exception": false,
     "start_time": "2025-05-15T16:15:54.076914",
     "status": "completed"
    },
    "tags": []
   },
   "outputs": [
    {
     "data": {
      "text/plain": [
       "['SCGT00val_I0364_T0', 'SCGT00val_I036019_T0', 'SCGT00val_I036028_T0', 'SCGT00val_I036024_T0', 'SCGT00val_I036016_T0', ..., '10XGenomics_10XHC2_T0', '10XGenomics_10XHC3_T0', '10XGenomics_10XHC5_T0', '10XGenomics_10XHC7_T0', '10XGenomics_10XHC8_T0']\n",
       "Length: 74\n",
       "Categories (74, object): ['10XGenomics_10XHC1_T0', '10XGenomics_10XHC2_T0', '10XGenomics_10XHC3_T0', '10XGenomics_10XHC4_T0', ..., 'Savage2021_BRISL6_T0', 'Savage2021_BRISL7_T0', 'Savage2021_PIDA_T0', 'Savage2021_PIDB_T0']"
      ]
     },
     "execution_count": 10,
     "metadata": {},
     "output_type": "execute_result"
    }
   ],
   "source": [
    "train_adata.obs.sampleID.unique()"
   ]
  },
  {
   "cell_type": "code",
   "execution_count": 11,
   "id": "f201eef5",
   "metadata": {
    "execution": {
     "iopub.execute_input": "2025-05-15T16:15:54.102722Z",
     "iopub.status.busy": "2025-05-15T16:15:54.102363Z",
     "iopub.status.idle": "2025-05-15T16:15:54.130598Z",
     "shell.execute_reply": "2025-05-15T16:15:54.130187Z"
    },
    "papermill": {
     "duration": 0.035179,
     "end_time": "2025-05-15T16:15:54.131664",
     "exception": false,
     "start_time": "2025-05-15T16:15:54.096485",
     "status": "completed"
    },
    "tags": []
   },
   "outputs": [],
   "source": [
    "all_idxs = np.arange(train_adata.obs.shape[0])\n",
    "left_out_splits = [s[1] for s in StratifiedGroupKFold(n_splits=N_SPLITS).split(all_idxs, train_adata.obs.disease, train_adata.obs.sampleID)]"
   ]
  },
  {
   "cell_type": "code",
   "execution_count": 12,
   "id": "00db3b95",
   "metadata": {
    "execution": {
     "iopub.execute_input": "2025-05-15T16:15:54.143890Z",
     "iopub.status.busy": "2025-05-15T16:15:54.143680Z",
     "iopub.status.idle": "2025-05-15T16:15:54.147201Z",
     "shell.execute_reply": "2025-05-15T16:15:54.146892Z"
    },
    "papermill": {
     "duration": 0.010775,
     "end_time": "2025-05-15T16:15:54.148100",
     "exception": false,
     "start_time": "2025-05-15T16:15:54.137325",
     "status": "completed"
    },
    "tags": []
   },
   "outputs": [
    {
     "data": {
      "text/plain": [
       "([1, 2, 3], 0, 4)"
      ]
     },
     "execution_count": 12,
     "metadata": {},
     "output_type": "execute_result"
    }
   ],
   "source": [
    "TRAIN_SPLIT_IDXS = [0,1,2,3,4]\n",
    "VAL_SPLIT_IDX = (TEST_SPLIT_IDX + 1) % 5\n",
    "TRAIN_SPLIT_IDXS.remove(TEST_SPLIT_IDX)\n",
    "TRAIN_SPLIT_IDXS.remove(VAL_SPLIT_IDX)\n",
    "TRAIN_SPLIT_IDXS, VAL_SPLIT_IDX, TEST_SPLIT_IDX"
   ]
  },
  {
   "cell_type": "code",
   "execution_count": 13,
   "id": "45952cbb",
   "metadata": {
    "execution": {
     "iopub.execute_input": "2025-05-15T16:15:54.159791Z",
     "iopub.status.busy": "2025-05-15T16:15:54.159614Z",
     "iopub.status.idle": "2025-05-15T16:15:54.162115Z",
     "shell.execute_reply": "2025-05-15T16:15:54.161809Z"
    },
    "papermill": {
     "duration": 0.009532,
     "end_time": "2025-05-15T16:15:54.163026",
     "exception": false,
     "start_time": "2025-05-15T16:15:54.153494",
     "status": "completed"
    },
    "tags": []
   },
   "outputs": [],
   "source": [
    "train_idxs = np.concatenate([left_out_splits[idx] for idx in TRAIN_SPLIT_IDXS])\n",
    "val_idxs = left_out_splits[VAL_SPLIT_IDX]\n",
    "test_idxs = left_out_splits[TEST_SPLIT_IDX]"
   ]
  },
  {
   "cell_type": "markdown",
   "id": "8baf1f5e",
   "metadata": {
    "papermill": {
     "duration": 0.005898,
     "end_time": "2025-05-15T16:15:54.174233",
     "exception": false,
     "start_time": "2025-05-15T16:15:54.168335",
     "status": "completed"
    },
    "tags": []
   },
   "source": [
    "### SUBSET DATASET INTO TRAIN/TEST/VAL SPLITS"
   ]
  },
  {
   "cell_type": "code",
   "execution_count": 14,
   "id": "22514f61",
   "metadata": {
    "execution": {
     "iopub.execute_input": "2025-05-15T16:15:54.186448Z",
     "iopub.status.busy": "2025-05-15T16:15:54.186162Z",
     "iopub.status.idle": "2025-05-15T16:15:54.192546Z",
     "shell.execute_reply": "2025-05-15T16:15:54.192203Z"
    },
    "papermill": {
     "duration": 0.013599,
     "end_time": "2025-05-15T16:15:54.193472",
     "exception": false,
     "start_time": "2025-05-15T16:15:54.179873",
     "status": "completed"
    },
    "tags": []
   },
   "outputs": [
    {
     "data": {
      "text/plain": [
       "((308, 107), (116, 107), (118, 107))"
      ]
     },
     "execution_count": 14,
     "metadata": {},
     "output_type": "execute_result"
    }
   ],
   "source": [
    "X_train = train_adata.X[train_idxs]\n",
    "X_test = train_adata.X[test_idxs]\n",
    "X_val = train_adata.X[val_idxs]\n",
    "X_train.shape, X_test.shape, X_val.shape"
   ]
  },
  {
   "cell_type": "code",
   "execution_count": 15,
   "id": "7d00d98b",
   "metadata": {
    "execution": {
     "iopub.execute_input": "2025-05-15T16:15:54.206068Z",
     "iopub.status.busy": "2025-05-15T16:15:54.205870Z",
     "iopub.status.idle": "2025-05-15T16:15:54.211220Z",
     "shell.execute_reply": "2025-05-15T16:15:54.210890Z"
    },
    "papermill": {
     "duration": 0.012545,
     "end_time": "2025-05-15T16:15:54.212046",
     "exception": false,
     "start_time": "2025-05-15T16:15:54.199501",
     "status": "completed"
    },
    "tags": []
   },
   "outputs": [
    {
     "data": {
      "text/plain": [
       "((308,), (116,), (118,))"
      ]
     },
     "execution_count": 15,
     "metadata": {},
     "output_type": "execute_result"
    }
   ],
   "source": [
    "y_train = train_adata.obs.iloc[train_idxs].disease.values.astype(str)\n",
    "y_test = train_adata.obs.iloc[test_idxs].disease.values.astype(str)\n",
    "y_val = train_adata.obs.iloc[val_idxs].disease.values.astype(str)\n",
    "y_train.shape, y_test.shape, y_val.shape"
   ]
  },
  {
   "cell_type": "code",
   "execution_count": 16,
   "id": "0c7aefd7",
   "metadata": {
    "execution": {
     "iopub.execute_input": "2025-05-15T16:15:54.224922Z",
     "iopub.status.busy": "2025-05-15T16:15:54.224723Z",
     "iopub.status.idle": "2025-05-15T16:15:54.227711Z",
     "shell.execute_reply": "2025-05-15T16:15:54.227406Z"
    },
    "papermill": {
     "duration": 0.010126,
     "end_time": "2025-05-15T16:15:54.228533",
     "exception": false,
     "start_time": "2025-05-15T16:15:54.218407",
     "status": "completed"
    },
    "tags": []
   },
   "outputs": [],
   "source": [
    "lenc = LabelEncoder()\n",
    "y_train_enc = lenc.fit_transform(y_train)\n",
    "y_val_enc = lenc.transform(y_val)\n",
    "y_test_enc = lenc.transform(y_test)"
   ]
  },
  {
   "cell_type": "markdown",
   "id": "12ab5b02",
   "metadata": {
    "papermill": {
     "duration": 0.005788,
     "end_time": "2025-05-15T16:15:54.240508",
     "exception": false,
     "start_time": "2025-05-15T16:15:54.234720",
     "status": "completed"
    },
    "tags": []
   },
   "source": [
    "### GENERATE F1 "
   ]
  },
  {
   "cell_type": "code",
   "execution_count": 17,
   "id": "220a56b2",
   "metadata": {
    "execution": {
     "iopub.execute_input": "2025-05-15T16:15:54.253413Z",
     "iopub.status.busy": "2025-05-15T16:15:54.253115Z",
     "iopub.status.idle": "2025-05-15T16:15:54.255902Z",
     "shell.execute_reply": "2025-05-15T16:15:54.255531Z"
    },
    "papermill": {
     "duration": 0.010383,
     "end_time": "2025-05-15T16:15:54.256910",
     "exception": false,
     "start_time": "2025-05-15T16:15:54.246527",
     "status": "completed"
    },
    "tags": []
   },
   "outputs": [],
   "source": [
    "def custom_f1_score(y_true, y_pred):\n",
    "    return -f1_score(y_true, y_pred.argmax(1), average='weighted')"
   ]
  },
  {
   "cell_type": "code",
   "execution_count": 18,
   "id": "68f4817c",
   "metadata": {
    "execution": {
     "iopub.execute_input": "2025-05-15T16:15:54.270132Z",
     "iopub.status.busy": "2025-05-15T16:15:54.269847Z",
     "iopub.status.idle": "2025-05-15T16:15:54.274119Z",
     "shell.execute_reply": "2025-05-15T16:15:54.273775Z"
    },
    "papermill": {
     "duration": 0.012256,
     "end_time": "2025-05-15T16:15:54.275243",
     "exception": false,
     "start_time": "2025-05-15T16:15:54.262987",
     "status": "completed"
    },
    "tags": []
   },
   "outputs": [],
   "source": [
    "eval_metric=custom_f1_score\n",
    "eval_metric_name='custom_f1_score'\n",
    "\n",
    "def objective(trial):\n",
    "    params = {\n",
    "        'n_estimators': 1500,\n",
    "        'max_depth': trial.suggest_int('max_depth', 3, 20),\n",
    "        'min_child_weight': trial.suggest_int('min_child_weight', 1, 250),\n",
    "        'subsample': trial.suggest_float('subsample', 0.1, 1.0),\n",
    "        'colsample_bynode': trial.suggest_float('colsample_bynode', 0.1, 1.0),\n",
    "        'learning_rate': trial.suggest_float('learning_rate', 1e-3, 5e-1, log=True),\n",
    "    }\n",
    "    pruning_callback = optuna.integration.XGBoostPruningCallback(trial, f'validation_0-{eval_metric_name}')\n",
    "    es_callback = xgboost.callback.EarlyStopping(20, min_delta=0.001)\n",
    "    xgb = xgboost.XGBClassifier(\n",
    "        eval_metric=eval_metric,\n",
    "        callbacks=[pruning_callback, es_callback],\n",
    "        n_jobs=5,\n",
    "        **params\n",
    "    )\n",
    "    xgb.fit(\n",
    "        X_train, \n",
    "        y_train_enc, \n",
    "        verbose=0,\n",
    "        eval_set=[(X_val, y_val_enc)],\n",
    "    )\n",
    "    trial.set_user_attr('best_iteration', xgb.best_iteration)\n",
    "\n",
    "    return xgb.best_score"
   ]
  },
  {
   "cell_type": "code",
   "execution_count": 19,
   "id": "0318f507",
   "metadata": {
    "execution": {
     "iopub.execute_input": "2025-05-15T16:15:54.287788Z",
     "iopub.status.busy": "2025-05-15T16:15:54.287513Z",
     "iopub.status.idle": "2025-05-15T16:16:07.323993Z",
     "shell.execute_reply": "2025-05-15T16:16:07.323492Z"
    },
    "papermill": {
     "duration": 13.044481,
     "end_time": "2025-05-15T16:16:07.325453",
     "exception": false,
     "start_time": "2025-05-15T16:15:54.280972",
     "status": "completed"
    },
    "scrolled": true,
    "tags": []
   },
   "outputs": [
    {
     "name": "stderr",
     "output_type": "stream",
     "text": [
      "[I 2025-05-15 18:15:54,289] A new study created in memory with name: no-name-98ded9ae-dd6c-41a4-af36-f56d8712abe0\n"
     ]
    },
    {
     "name": "stderr",
     "output_type": "stream",
     "text": [
      "[I 2025-05-15 18:15:54,392] Trial 0 finished with value: -0.015898 and parameters: {'max_depth': 9, 'min_child_weight': 238, 'subsample': 0.7587945476302645, 'colsample_bynode': 0.6387926357773329, 'learning_rate': 0.0026368755339723046}. Best is trial 0 with value: -0.015898.\n"
     ]
    },
    {
     "name": "stderr",
     "output_type": "stream",
     "text": [
      "[I 2025-05-15 18:15:54,729] Trial 1 finished with value: -0.419486 and parameters: {'max_depth': 5, 'min_child_weight': 15, 'subsample': 0.8795585311974417, 'colsample_bynode': 0.6410035105688879, 'learning_rate': 0.08148293210105287}. Best is trial 1 with value: -0.419486.\n"
     ]
    },
    {
     "name": "stderr",
     "output_type": "stream",
     "text": [
      "[I 2025-05-15 18:15:54,887] Trial 2 finished with value: -0.015898 and parameters: {'max_depth': 3, 'min_child_weight': 243, 'subsample': 0.8491983767203796, 'colsample_bynode': 0.29110519961044856, 'learning_rate': 0.003095566460242371}. Best is trial 1 with value: -0.419486.\n"
     ]
    },
    {
     "name": "stderr",
     "output_type": "stream",
     "text": [
      "[I 2025-05-15 18:15:55,059] Trial 3 finished with value: -0.015898 and parameters: {'max_depth': 6, 'min_child_weight': 77, 'subsample': 0.5722807884690141, 'colsample_bynode': 0.48875051677790415, 'learning_rate': 0.006109683510122491}. Best is trial 1 with value: -0.419486.\n"
     ]
    },
    {
     "name": "stderr",
     "output_type": "stream",
     "text": [
      "[I 2025-05-15 18:15:55,223] Trial 4 finished with value: -0.015898 and parameters: {'max_depth': 14, 'min_child_weight': 35, 'subsample': 0.3629301836816964, 'colsample_bynode': 0.4297256589643226, 'learning_rate': 0.01701841881702917}. Best is trial 1 with value: -0.419486.\n"
     ]
    },
    {
     "name": "stderr",
     "output_type": "stream",
     "text": [
      "[I 2025-05-15 18:15:55,385] Trial 5 finished with value: -0.015898 and parameters: {'max_depth': 17, 'min_child_weight': 50, 'subsample': 0.5628109945722505, 'colsample_bynode': 0.6331731119758383, 'learning_rate': 0.0013346527038305934}. Best is trial 1 with value: -0.419486.\n"
     ]
    },
    {
     "name": "stderr",
     "output_type": "stream",
     "text": [
      "[I 2025-05-15 18:15:55,558] Trial 6 finished with value: -0.015898 and parameters: {'max_depth': 13, 'min_child_weight': 43, 'subsample': 0.1585464336867516, 'colsample_bynode': 0.9539969835279999, 'learning_rate': 0.4038423798071558}. Best is trial 1 with value: -0.419486.\n"
     ]
    },
    {
     "name": "stderr",
     "output_type": "stream",
     "text": [
      "[I 2025-05-15 18:15:55,745] Trial 7 finished with value: -0.015898 and parameters: {'max_depth': 17, 'min_child_weight': 77, 'subsample': 0.1879049026057455, 'colsample_bynode': 0.7158097238609412, 'learning_rate': 0.015415527060141935}. Best is trial 1 with value: -0.419486.\n"
     ]
    },
    {
     "name": "stderr",
     "output_type": "stream",
     "text": [
      "[I 2025-05-15 18:15:55,934] Trial 8 finished with value: -0.015898 and parameters: {'max_depth': 5, 'min_child_weight': 124, 'subsample': 0.13094966900369656, 'colsample_bynode': 0.9183883618709039, 'learning_rate': 0.004993895014755658}. Best is trial 1 with value: -0.419486.\n"
     ]
    },
    {
     "name": "stderr",
     "output_type": "stream",
     "text": [
      "[I 2025-05-15 18:15:56,113] Trial 9 finished with value: -0.015898 and parameters: {'max_depth': 14, 'min_child_weight': 78, 'subsample': 0.5680612190600297, 'colsample_bynode': 0.5920392514089517, 'learning_rate': 0.0031543990308330965}. Best is trial 1 with value: -0.419486.\n"
     ]
    },
    {
     "name": "stderr",
     "output_type": "stream",
     "text": [
      "[I 2025-05-15 18:15:56,619] Trial 10 finished with value: -0.464784 and parameters: {'max_depth': 9, 'min_child_weight': 2, 'subsample': 0.9725833997090791, 'colsample_bynode': 0.11616568805333755, 'learning_rate': 0.17780618353487967}. Best is trial 10 with value: -0.464784.\n"
     ]
    },
    {
     "name": "stderr",
     "output_type": "stream",
     "text": [
      "[I 2025-05-15 18:15:56,942] Trial 11 pruned. Trial was pruned at iteration 24.\n"
     ]
    },
    {
     "name": "stderr",
     "output_type": "stream",
     "text": [
      "[I 2025-05-15 18:15:57,318] Trial 12 pruned. Trial was pruned at iteration 26.\n"
     ]
    },
    {
     "name": "stderr",
     "output_type": "stream",
     "text": [
      "[I 2025-05-15 18:15:57,508] Trial 13 finished with value: -0.015898 and parameters: {'max_depth': 6, 'min_child_weight': 173, 'subsample': 0.790863397930712, 'colsample_bynode': 0.8100137258468498, 'learning_rate': 0.09009490635410385}. Best is trial 10 with value: -0.464784.\n"
     ]
    },
    {
     "name": "stderr",
     "output_type": "stream",
     "text": [
      "[I 2025-05-15 18:15:57,682] Trial 14 finished with value: -0.015898 and parameters: {'max_depth': 11, 'min_child_weight': 132, 'subsample': 0.8756857866758896, 'colsample_bynode': 0.37234427067556525, 'learning_rate': 0.33580116263734355}. Best is trial 10 with value: -0.464784.\n"
     ]
    },
    {
     "name": "stderr",
     "output_type": "stream",
     "text": [
      "[I 2025-05-15 18:15:58,157] Trial 15 finished with value: -0.463479 and parameters: {'max_depth': 20, 'min_child_weight': 1, 'subsample': 0.6960027044621645, 'colsample_bynode': 0.29820978139149346, 'learning_rate': 0.03580498851951521}. Best is trial 10 with value: -0.464784.\n"
     ]
    },
    {
     "name": "stderr",
     "output_type": "stream",
     "text": [
      "[I 2025-05-15 18:15:58,342] Trial 16 finished with value: -0.015898 and parameters: {'max_depth': 20, 'min_child_weight': 116, 'subsample': 0.6730263351162008, 'colsample_bynode': 0.2727828997776047, 'learning_rate': 0.04069492241758615}. Best is trial 10 with value: -0.464784.\n"
     ]
    },
    {
     "name": "stderr",
     "output_type": "stream",
     "text": [
      "[I 2025-05-15 18:15:58,533] Trial 17 finished with value: -0.015898 and parameters: {'max_depth': 20, 'min_child_weight': 183, 'subsample': 0.4247113570339343, 'colsample_bynode': 0.12785121757072282, 'learning_rate': 0.2299310555205761}. Best is trial 10 with value: -0.464784.\n"
     ]
    },
    {
     "name": "stderr",
     "output_type": "stream",
     "text": [
      "[I 2025-05-15 18:15:58,741] Trial 18 finished with value: -0.115706 and parameters: {'max_depth': 17, 'min_child_weight': 37, 'subsample': 0.6810314786755066, 'colsample_bynode': 0.2665066863805862, 'learning_rate': 0.03874577508783683}. Best is trial 10 with value: -0.464784.\n"
     ]
    },
    {
     "name": "stderr",
     "output_type": "stream",
     "text": [
      "[I 2025-05-15 18:15:58,943] Trial 19 finished with value: -0.015898 and parameters: {'max_depth': 11, 'min_child_weight': 99, 'subsample': 0.4449158851718158, 'colsample_bynode': 0.3679418363674778, 'learning_rate': 0.184705251713814}. Best is trial 10 with value: -0.464784.\n"
     ]
    },
    {
     "name": "stderr",
     "output_type": "stream",
     "text": [
      "[I 2025-05-15 18:15:59,136] Trial 20 finished with value: -0.015898 and parameters: {'max_depth': 8, 'min_child_weight': 59, 'subsample': 0.7034906283443978, 'colsample_bynode': 0.20927736326660645, 'learning_rate': 0.02795316968542322}. Best is trial 10 with value: -0.464784.\n"
     ]
    },
    {
     "name": "stderr",
     "output_type": "stream",
     "text": [
      "[I 2025-05-15 18:15:59,347] Trial 21 pruned. Trial was pruned at iteration 21.\n"
     ]
    },
    {
     "name": "stderr",
     "output_type": "stream",
     "text": [
      "[I 2025-05-15 18:15:59,762] Trial 22 finished with value: -0.477161 and parameters: {'max_depth': 5, 'min_child_weight': 2, 'subsample': 0.9226694909907923, 'colsample_bynode': 0.7065234741891823, 'learning_rate': 0.1532797666777473}. Best is trial 22 with value: -0.477161.\n"
     ]
    },
    {
     "name": "stderr",
     "output_type": "stream",
     "text": [
      "[I 2025-05-15 18:15:59,992] Trial 23 pruned. Trial was pruned at iteration 21.\n"
     ]
    },
    {
     "name": "stderr",
     "output_type": "stream",
     "text": [
      "[I 2025-05-15 18:16:00,197] Trial 24 finished with value: -0.015898 and parameters: {'max_depth': 12, 'min_child_weight': 60, 'subsample': 0.7825765063552437, 'colsample_bynode': 0.8162809857042157, 'learning_rate': 0.010411200658390636}. Best is trial 22 with value: -0.477161.\n"
     ]
    },
    {
     "name": "stderr",
     "output_type": "stream",
     "text": [
      "[I 2025-05-15 18:16:00,547] Trial 25 finished with value: -0.484856 and parameters: {'max_depth': 4, 'min_child_weight': 2, 'subsample': 0.9378803414743301, 'colsample_bynode': 0.10719122571016193, 'learning_rate': 0.27078956303726104}. Best is trial 25 with value: -0.484856.\n"
     ]
    },
    {
     "name": "stderr",
     "output_type": "stream",
     "text": [
      "[I 2025-05-15 18:16:00,750] Trial 26 pruned. Trial was pruned at iteration 21.\n"
     ]
    },
    {
     "name": "stderr",
     "output_type": "stream",
     "text": [
      "[I 2025-05-15 18:16:00,930] Trial 27 finished with value: -0.015898 and parameters: {'max_depth': 7, 'min_child_weight': 165, 'subsample': 0.830994423789636, 'colsample_bynode': 0.20059516113019688, 'learning_rate': 0.26877540662332505}. Best is trial 25 with value: -0.484856.\n"
     ]
    },
    {
     "name": "stderr",
     "output_type": "stream",
     "text": [
      "[I 2025-05-15 18:16:01,113] Trial 28 finished with value: -0.015898 and parameters: {'max_depth': 4, 'min_child_weight': 209, 'subsample': 0.9326932077768861, 'colsample_bynode': 0.10150577735725076, 'learning_rate': 0.15141905286535293}. Best is trial 25 with value: -0.484856.\n"
     ]
    },
    {
     "name": "stderr",
     "output_type": "stream",
     "text": [
      "[I 2025-05-15 18:16:01,307] Trial 29 finished with value: -0.015898 and parameters: {'max_depth': 10, 'min_child_weight': 101, 'subsample': 0.7573791709726037, 'colsample_bynode': 0.7002890609263224, 'learning_rate': 0.05821197771621372}. Best is trial 25 with value: -0.484856.\n"
     ]
    },
    {
     "name": "stderr",
     "output_type": "stream",
     "text": [
      "[I 2025-05-15 18:16:01,515] Trial 30 finished with value: -0.015898 and parameters: {'max_depth': 8, 'min_child_weight': 150, 'subsample': 0.9395623095404857, 'colsample_bynode': 0.3565053557990234, 'learning_rate': 0.2671524367910412}. Best is trial 25 with value: -0.484856.\n"
     ]
    },
    {
     "name": "stderr",
     "output_type": "stream",
     "text": [
      "[I 2025-05-15 18:16:01,835] Trial 31 finished with value: -0.45218 and parameters: {'max_depth': 5, 'min_child_weight': 4, 'subsample': 0.7331171574028232, 'colsample_bynode': 0.2316300258906183, 'learning_rate': 0.12101701510131722}. Best is trial 25 with value: -0.484856.\n"
     ]
    },
    {
     "name": "stderr",
     "output_type": "stream",
     "text": [
      "[I 2025-05-15 18:16:02,045] Trial 32 pruned. Trial was pruned at iteration 21.\n"
     ]
    },
    {
     "name": "stderr",
     "output_type": "stream",
     "text": [
      "[I 2025-05-15 18:16:02,325] Trial 33 pruned. Trial was pruned at iteration 21.\n"
     ]
    },
    {
     "name": "stderr",
     "output_type": "stream",
     "text": [
      "[I 2025-05-15 18:16:02,511] Trial 34 pruned. Trial was pruned at iteration 21.\n"
     ]
    },
    {
     "name": "stderr",
     "output_type": "stream",
     "text": [
      "[I 2025-05-15 18:16:02,751] Trial 35 finished with value: -0.442291 and parameters: {'max_depth': 6, 'min_child_weight': 14, 'subsample': 0.9994721446789168, 'colsample_bynode': 0.4509743103555472, 'learning_rate': 0.31446700826063195}. Best is trial 25 with value: -0.484856.\n"
     ]
    },
    {
     "name": "stderr",
     "output_type": "stream",
     "text": [
      "[I 2025-05-15 18:16:02,942] Trial 36 finished with value: -0.015898 and parameters: {'max_depth': 4, 'min_child_weight': 49, 'subsample': 0.4788283070395823, 'colsample_bynode': 0.24803924027768537, 'learning_rate': 0.2022793047732876}. Best is trial 25 with value: -0.484856.\n"
     ]
    },
    {
     "name": "stderr",
     "output_type": "stream",
     "text": [
      "[I 2025-05-15 18:16:03,158] Trial 37 finished with value: -0.015898 and parameters: {'max_depth': 18, 'min_child_weight': 66, 'subsample': 0.6221973435933856, 'colsample_bynode': 0.4161507581982826, 'learning_rate': 0.0562510932878645}. Best is trial 25 with value: -0.484856.\n"
     ]
    },
    {
     "name": "stderr",
     "output_type": "stream",
     "text": [
      "[I 2025-05-15 18:16:03,380] Trial 38 finished with value: -0.115706 and parameters: {'max_depth': 10, 'min_child_weight': 14, 'subsample': 0.25720599485408774, 'colsample_bynode': 0.2991323831443739, 'learning_rate': 0.011498728691239184}. Best is trial 25 with value: -0.484856.\n"
     ]
    },
    {
     "name": "stderr",
     "output_type": "stream",
     "text": [
      "[I 2025-05-15 18:16:03,596] Trial 39 pruned. Trial was pruned at iteration 21.\n"
     ]
    },
    {
     "name": "stderr",
     "output_type": "stream",
     "text": [
      "[I 2025-05-15 18:16:03,815] Trial 40 finished with value: -0.015898 and parameters: {'max_depth': 6, 'min_child_weight': 218, 'subsample': 0.8422025815675375, 'colsample_bynode': 0.6141745805592813, 'learning_rate': 0.019851932301653004}. Best is trial 25 with value: -0.484856.\n"
     ]
    },
    {
     "name": "stderr",
     "output_type": "stream",
     "text": [
      "[I 2025-05-15 18:16:04,196] Trial 41 pruned. Trial was pruned at iteration 28.\n"
     ]
    },
    {
     "name": "stderr",
     "output_type": "stream",
     "text": [
      "[I 2025-05-15 18:16:04,425] Trial 42 pruned. Trial was pruned at iteration 21.\n"
     ]
    },
    {
     "name": "stderr",
     "output_type": "stream",
     "text": [
      "[I 2025-05-15 18:16:04,618] Trial 43 pruned. Trial was pruned at iteration 21.\n"
     ]
    },
    {
     "name": "stderr",
     "output_type": "stream",
     "text": [
      "[I 2025-05-15 18:16:05,022] Trial 44 finished with value: -0.476796 and parameters: {'max_depth': 4, 'min_child_weight': 1, 'subsample': 0.8686346276551133, 'colsample_bynode': 0.1758117560928564, 'learning_rate': 0.11660181105551541}. Best is trial 25 with value: -0.484856.\n"
     ]
    },
    {
     "name": "stderr",
     "output_type": "stream",
     "text": [
      "[I 2025-05-15 18:16:05,228] Trial 45 pruned. Trial was pruned at iteration 21.\n"
     ]
    },
    {
     "name": "stderr",
     "output_type": "stream",
     "text": [
      "[I 2025-05-15 18:16:05,449] Trial 46 finished with value: -0.402305 and parameters: {'max_depth': 13, 'min_child_weight': 12, 'subsample': 0.8819553577470898, 'colsample_bynode': 0.1068225698736441, 'learning_rate': 0.20786685755882614}. Best is trial 25 with value: -0.484856.\n"
     ]
    },
    {
     "name": "stderr",
     "output_type": "stream",
     "text": [
      "[I 2025-05-15 18:16:05,644] Trial 47 pruned. Trial was pruned at iteration 21.\n"
     ]
    },
    {
     "name": "stderr",
     "output_type": "stream",
     "text": [
      "[I 2025-05-15 18:16:05,841] Trial 48 finished with value: -0.015898 and parameters: {'max_depth': 8, 'min_child_weight': 75, 'subsample': 0.903775499470479, 'colsample_bynode': 0.3173653193730366, 'learning_rate': 0.00563741581530511}. Best is trial 25 with value: -0.484856.\n"
     ]
    },
    {
     "name": "stderr",
     "output_type": "stream",
     "text": [
      "[I 2025-05-15 18:16:07,207] Trial 49 finished with value: -0.485582 and parameters: {'max_depth': 5, 'min_child_weight': 1, 'subsample': 0.9583747795406063, 'colsample_bynode': 0.9784215971806427, 'learning_rate': 0.25625198932078747}. Best is trial 49 with value: -0.485582.\n"
     ]
    }
   ],
   "source": [
    "sampler = optuna.samplers.TPESampler(seed=42)\n",
    "study = optuna.create_study(direction='minimize', sampler=sampler)\n",
    "study.optimize(objective, n_trials=N_TRIALS, gc_after_trial=True)"
   ]
  },
  {
   "cell_type": "code",
   "execution_count": 20,
   "id": "42233097",
   "metadata": {
    "execution": {
     "iopub.execute_input": "2025-05-15T16:16:07.345150Z",
     "iopub.status.busy": "2025-05-15T16:16:07.344864Z",
     "iopub.status.idle": "2025-05-15T16:16:07.366650Z",
     "shell.execute_reply": "2025-05-15T16:16:07.366230Z"
    },
    "papermill": {
     "duration": 0.032469,
     "end_time": "2025-05-15T16:16:07.367567",
     "exception": false,
     "start_time": "2025-05-15T16:16:07.335098",
     "status": "completed"
    },
    "tags": []
   },
   "outputs": [
    {
     "data": {
      "text/plain": [
       "['/scratch_isilon/groups/singlecell/shared/projects/Inflammation-PBMCs-Atlas/03_downstream_analysis/08_gene_importance/xgboost_external_validation/xgboost_TopN_genes/results_20/study/Plasma_19_4_xgboost.pkl']"
      ]
     },
     "execution_count": 20,
     "metadata": {},
     "output_type": "execute_result"
    }
   ],
   "source": [
    "out_dir = here(f'03_downstream_analysis/08_gene_importance/xgboost_external_validation/xgboost_TopN_genes/results_{N_GENES}/study')\n",
    "\n",
    "if not os.path.exists(out_dir):\n",
    "    os.makedirs(out_dir)\n",
    "    \n",
    "joblib.dump(study,os.path.join(out_dir, f'{CELL_TYPE}_{SEED}_{TEST_SPLIT_IDX}_xgboost.pkl'))"
   ]
  },
  {
   "cell_type": "code",
   "execution_count": 21,
   "id": "c55b5273",
   "metadata": {
    "execution": {
     "iopub.execute_input": "2025-05-15T16:16:07.385656Z",
     "iopub.status.busy": "2025-05-15T16:16:07.385416Z",
     "iopub.status.idle": "2025-05-15T16:16:07.555150Z",
     "shell.execute_reply": "2025-05-15T16:16:07.554760Z"
    },
    "papermill": {
     "duration": 0.18019,
     "end_time": "2025-05-15T16:16:07.556340",
     "exception": false,
     "start_time": "2025-05-15T16:16:07.376150",
     "status": "completed"
    },
    "tags": []
   },
   "outputs": [
    {
     "data": {
      "text/html": [
       "<style>#sk-container-id-1 {\n",
       "  /* Definition of color scheme common for light and dark mode */\n",
       "  --sklearn-color-text: black;\n",
       "  --sklearn-color-line: gray;\n",
       "  /* Definition of color scheme for unfitted estimators */\n",
       "  --sklearn-color-unfitted-level-0: #fff5e6;\n",
       "  --sklearn-color-unfitted-level-1: #f6e4d2;\n",
       "  --sklearn-color-unfitted-level-2: #ffe0b3;\n",
       "  --sklearn-color-unfitted-level-3: chocolate;\n",
       "  /* Definition of color scheme for fitted estimators */\n",
       "  --sklearn-color-fitted-level-0: #f0f8ff;\n",
       "  --sklearn-color-fitted-level-1: #d4ebff;\n",
       "  --sklearn-color-fitted-level-2: #b3dbfd;\n",
       "  --sklearn-color-fitted-level-3: cornflowerblue;\n",
       "\n",
       "  /* Specific color for light theme */\n",
       "  --sklearn-color-text-on-default-background: var(--sg-text-color, var(--theme-code-foreground, var(--jp-content-font-color1, black)));\n",
       "  --sklearn-color-background: var(--sg-background-color, var(--theme-background, var(--jp-layout-color0, white)));\n",
       "  --sklearn-color-border-box: var(--sg-text-color, var(--theme-code-foreground, var(--jp-content-font-color1, black)));\n",
       "  --sklearn-color-icon: #696969;\n",
       "\n",
       "  @media (prefers-color-scheme: dark) {\n",
       "    /* Redefinition of color scheme for dark theme */\n",
       "    --sklearn-color-text-on-default-background: var(--sg-text-color, var(--theme-code-foreground, var(--jp-content-font-color1, white)));\n",
       "    --sklearn-color-background: var(--sg-background-color, var(--theme-background, var(--jp-layout-color0, #111)));\n",
       "    --sklearn-color-border-box: var(--sg-text-color, var(--theme-code-foreground, var(--jp-content-font-color1, white)));\n",
       "    --sklearn-color-icon: #878787;\n",
       "  }\n",
       "}\n",
       "\n",
       "#sk-container-id-1 {\n",
       "  color: var(--sklearn-color-text);\n",
       "}\n",
       "\n",
       "#sk-container-id-1 pre {\n",
       "  padding: 0;\n",
       "}\n",
       "\n",
       "#sk-container-id-1 input.sk-hidden--visually {\n",
       "  border: 0;\n",
       "  clip: rect(1px 1px 1px 1px);\n",
       "  clip: rect(1px, 1px, 1px, 1px);\n",
       "  height: 1px;\n",
       "  margin: -1px;\n",
       "  overflow: hidden;\n",
       "  padding: 0;\n",
       "  position: absolute;\n",
       "  width: 1px;\n",
       "}\n",
       "\n",
       "#sk-container-id-1 div.sk-dashed-wrapped {\n",
       "  border: 1px dashed var(--sklearn-color-line);\n",
       "  margin: 0 0.4em 0.5em 0.4em;\n",
       "  box-sizing: border-box;\n",
       "  padding-bottom: 0.4em;\n",
       "  background-color: var(--sklearn-color-background);\n",
       "}\n",
       "\n",
       "#sk-container-id-1 div.sk-container {\n",
       "  /* jupyter's `normalize.less` sets `[hidden] { display: none; }`\n",
       "     but bootstrap.min.css set `[hidden] { display: none !important; }`\n",
       "     so we also need the `!important` here to be able to override the\n",
       "     default hidden behavior on the sphinx rendered scikit-learn.org.\n",
       "     See: https://github.com/scikit-learn/scikit-learn/issues/21755 */\n",
       "  display: inline-block !important;\n",
       "  position: relative;\n",
       "}\n",
       "\n",
       "#sk-container-id-1 div.sk-text-repr-fallback {\n",
       "  display: none;\n",
       "}\n",
       "\n",
       "div.sk-parallel-item,\n",
       "div.sk-serial,\n",
       "div.sk-item {\n",
       "  /* draw centered vertical line to link estimators */\n",
       "  background-image: linear-gradient(var(--sklearn-color-text-on-default-background), var(--sklearn-color-text-on-default-background));\n",
       "  background-size: 2px 100%;\n",
       "  background-repeat: no-repeat;\n",
       "  background-position: center center;\n",
       "}\n",
       "\n",
       "/* Parallel-specific style estimator block */\n",
       "\n",
       "#sk-container-id-1 div.sk-parallel-item::after {\n",
       "  content: \"\";\n",
       "  width: 100%;\n",
       "  border-bottom: 2px solid var(--sklearn-color-text-on-default-background);\n",
       "  flex-grow: 1;\n",
       "}\n",
       "\n",
       "#sk-container-id-1 div.sk-parallel {\n",
       "  display: flex;\n",
       "  align-items: stretch;\n",
       "  justify-content: center;\n",
       "  background-color: var(--sklearn-color-background);\n",
       "  position: relative;\n",
       "}\n",
       "\n",
       "#sk-container-id-1 div.sk-parallel-item {\n",
       "  display: flex;\n",
       "  flex-direction: column;\n",
       "}\n",
       "\n",
       "#sk-container-id-1 div.sk-parallel-item:first-child::after {\n",
       "  align-self: flex-end;\n",
       "  width: 50%;\n",
       "}\n",
       "\n",
       "#sk-container-id-1 div.sk-parallel-item:last-child::after {\n",
       "  align-self: flex-start;\n",
       "  width: 50%;\n",
       "}\n",
       "\n",
       "#sk-container-id-1 div.sk-parallel-item:only-child::after {\n",
       "  width: 0;\n",
       "}\n",
       "\n",
       "/* Serial-specific style estimator block */\n",
       "\n",
       "#sk-container-id-1 div.sk-serial {\n",
       "  display: flex;\n",
       "  flex-direction: column;\n",
       "  align-items: center;\n",
       "  background-color: var(--sklearn-color-background);\n",
       "  padding-right: 1em;\n",
       "  padding-left: 1em;\n",
       "}\n",
       "\n",
       "\n",
       "/* Toggleable style: style used for estimator/Pipeline/ColumnTransformer box that is\n",
       "clickable and can be expanded/collapsed.\n",
       "- Pipeline and ColumnTransformer use this feature and define the default style\n",
       "- Estimators will overwrite some part of the style using the `sk-estimator` class\n",
       "*/\n",
       "\n",
       "/* Pipeline and ColumnTransformer style (default) */\n",
       "\n",
       "#sk-container-id-1 div.sk-toggleable {\n",
       "  /* Default theme specific background. It is overwritten whether we have a\n",
       "  specific estimator or a Pipeline/ColumnTransformer */\n",
       "  background-color: var(--sklearn-color-background);\n",
       "}\n",
       "\n",
       "/* Toggleable label */\n",
       "#sk-container-id-1 label.sk-toggleable__label {\n",
       "  cursor: pointer;\n",
       "  display: block;\n",
       "  width: 100%;\n",
       "  margin-bottom: 0;\n",
       "  padding: 0.5em;\n",
       "  box-sizing: border-box;\n",
       "  text-align: center;\n",
       "}\n",
       "\n",
       "#sk-container-id-1 label.sk-toggleable__label-arrow:before {\n",
       "  /* Arrow on the left of the label */\n",
       "  content: \"▸\";\n",
       "  float: left;\n",
       "  margin-right: 0.25em;\n",
       "  color: var(--sklearn-color-icon);\n",
       "}\n",
       "\n",
       "#sk-container-id-1 label.sk-toggleable__label-arrow:hover:before {\n",
       "  color: var(--sklearn-color-text);\n",
       "}\n",
       "\n",
       "/* Toggleable content - dropdown */\n",
       "\n",
       "#sk-container-id-1 div.sk-toggleable__content {\n",
       "  max-height: 0;\n",
       "  max-width: 0;\n",
       "  overflow: hidden;\n",
       "  text-align: left;\n",
       "  /* unfitted */\n",
       "  background-color: var(--sklearn-color-unfitted-level-0);\n",
       "}\n",
       "\n",
       "#sk-container-id-1 div.sk-toggleable__content.fitted {\n",
       "  /* fitted */\n",
       "  background-color: var(--sklearn-color-fitted-level-0);\n",
       "}\n",
       "\n",
       "#sk-container-id-1 div.sk-toggleable__content pre {\n",
       "  margin: 0.2em;\n",
       "  border-radius: 0.25em;\n",
       "  color: var(--sklearn-color-text);\n",
       "  /* unfitted */\n",
       "  background-color: var(--sklearn-color-unfitted-level-0);\n",
       "}\n",
       "\n",
       "#sk-container-id-1 div.sk-toggleable__content.fitted pre {\n",
       "  /* unfitted */\n",
       "  background-color: var(--sklearn-color-fitted-level-0);\n",
       "}\n",
       "\n",
       "#sk-container-id-1 input.sk-toggleable__control:checked~div.sk-toggleable__content {\n",
       "  /* Expand drop-down */\n",
       "  max-height: 200px;\n",
       "  max-width: 100%;\n",
       "  overflow: auto;\n",
       "}\n",
       "\n",
       "#sk-container-id-1 input.sk-toggleable__control:checked~label.sk-toggleable__label-arrow:before {\n",
       "  content: \"▾\";\n",
       "}\n",
       "\n",
       "/* Pipeline/ColumnTransformer-specific style */\n",
       "\n",
       "#sk-container-id-1 div.sk-label input.sk-toggleable__control:checked~label.sk-toggleable__label {\n",
       "  color: var(--sklearn-color-text);\n",
       "  background-color: var(--sklearn-color-unfitted-level-2);\n",
       "}\n",
       "\n",
       "#sk-container-id-1 div.sk-label.fitted input.sk-toggleable__control:checked~label.sk-toggleable__label {\n",
       "  background-color: var(--sklearn-color-fitted-level-2);\n",
       "}\n",
       "\n",
       "/* Estimator-specific style */\n",
       "\n",
       "/* Colorize estimator box */\n",
       "#sk-container-id-1 div.sk-estimator input.sk-toggleable__control:checked~label.sk-toggleable__label {\n",
       "  /* unfitted */\n",
       "  background-color: var(--sklearn-color-unfitted-level-2);\n",
       "}\n",
       "\n",
       "#sk-container-id-1 div.sk-estimator.fitted input.sk-toggleable__control:checked~label.sk-toggleable__label {\n",
       "  /* fitted */\n",
       "  background-color: var(--sklearn-color-fitted-level-2);\n",
       "}\n",
       "\n",
       "#sk-container-id-1 div.sk-label label.sk-toggleable__label,\n",
       "#sk-container-id-1 div.sk-label label {\n",
       "  /* The background is the default theme color */\n",
       "  color: var(--sklearn-color-text-on-default-background);\n",
       "}\n",
       "\n",
       "/* On hover, darken the color of the background */\n",
       "#sk-container-id-1 div.sk-label:hover label.sk-toggleable__label {\n",
       "  color: var(--sklearn-color-text);\n",
       "  background-color: var(--sklearn-color-unfitted-level-2);\n",
       "}\n",
       "\n",
       "/* Label box, darken color on hover, fitted */\n",
       "#sk-container-id-1 div.sk-label.fitted:hover label.sk-toggleable__label.fitted {\n",
       "  color: var(--sklearn-color-text);\n",
       "  background-color: var(--sklearn-color-fitted-level-2);\n",
       "}\n",
       "\n",
       "/* Estimator label */\n",
       "\n",
       "#sk-container-id-1 div.sk-label label {\n",
       "  font-family: monospace;\n",
       "  font-weight: bold;\n",
       "  display: inline-block;\n",
       "  line-height: 1.2em;\n",
       "}\n",
       "\n",
       "#sk-container-id-1 div.sk-label-container {\n",
       "  text-align: center;\n",
       "}\n",
       "\n",
       "/* Estimator-specific */\n",
       "#sk-container-id-1 div.sk-estimator {\n",
       "  font-family: monospace;\n",
       "  border: 1px dotted var(--sklearn-color-border-box);\n",
       "  border-radius: 0.25em;\n",
       "  box-sizing: border-box;\n",
       "  margin-bottom: 0.5em;\n",
       "  /* unfitted */\n",
       "  background-color: var(--sklearn-color-unfitted-level-0);\n",
       "}\n",
       "\n",
       "#sk-container-id-1 div.sk-estimator.fitted {\n",
       "  /* fitted */\n",
       "  background-color: var(--sklearn-color-fitted-level-0);\n",
       "}\n",
       "\n",
       "/* on hover */\n",
       "#sk-container-id-1 div.sk-estimator:hover {\n",
       "  /* unfitted */\n",
       "  background-color: var(--sklearn-color-unfitted-level-2);\n",
       "}\n",
       "\n",
       "#sk-container-id-1 div.sk-estimator.fitted:hover {\n",
       "  /* fitted */\n",
       "  background-color: var(--sklearn-color-fitted-level-2);\n",
       "}\n",
       "\n",
       "/* Specification for estimator info (e.g. \"i\" and \"?\") */\n",
       "\n",
       "/* Common style for \"i\" and \"?\" */\n",
       "\n",
       ".sk-estimator-doc-link,\n",
       "a:link.sk-estimator-doc-link,\n",
       "a:visited.sk-estimator-doc-link {\n",
       "  float: right;\n",
       "  font-size: smaller;\n",
       "  line-height: 1em;\n",
       "  font-family: monospace;\n",
       "  background-color: var(--sklearn-color-background);\n",
       "  border-radius: 1em;\n",
       "  height: 1em;\n",
       "  width: 1em;\n",
       "  text-decoration: none !important;\n",
       "  margin-left: 1ex;\n",
       "  /* unfitted */\n",
       "  border: var(--sklearn-color-unfitted-level-1) 1pt solid;\n",
       "  color: var(--sklearn-color-unfitted-level-1);\n",
       "}\n",
       "\n",
       ".sk-estimator-doc-link.fitted,\n",
       "a:link.sk-estimator-doc-link.fitted,\n",
       "a:visited.sk-estimator-doc-link.fitted {\n",
       "  /* fitted */\n",
       "  border: var(--sklearn-color-fitted-level-1) 1pt solid;\n",
       "  color: var(--sklearn-color-fitted-level-1);\n",
       "}\n",
       "\n",
       "/* On hover */\n",
       "div.sk-estimator:hover .sk-estimator-doc-link:hover,\n",
       ".sk-estimator-doc-link:hover,\n",
       "div.sk-label-container:hover .sk-estimator-doc-link:hover,\n",
       ".sk-estimator-doc-link:hover {\n",
       "  /* unfitted */\n",
       "  background-color: var(--sklearn-color-unfitted-level-3);\n",
       "  color: var(--sklearn-color-background);\n",
       "  text-decoration: none;\n",
       "}\n",
       "\n",
       "div.sk-estimator.fitted:hover .sk-estimator-doc-link.fitted:hover,\n",
       ".sk-estimator-doc-link.fitted:hover,\n",
       "div.sk-label-container:hover .sk-estimator-doc-link.fitted:hover,\n",
       ".sk-estimator-doc-link.fitted:hover {\n",
       "  /* fitted */\n",
       "  background-color: var(--sklearn-color-fitted-level-3);\n",
       "  color: var(--sklearn-color-background);\n",
       "  text-decoration: none;\n",
       "}\n",
       "\n",
       "/* Span, style for the box shown on hovering the info icon */\n",
       ".sk-estimator-doc-link span {\n",
       "  display: none;\n",
       "  z-index: 9999;\n",
       "  position: relative;\n",
       "  font-weight: normal;\n",
       "  right: .2ex;\n",
       "  padding: .5ex;\n",
       "  margin: .5ex;\n",
       "  width: min-content;\n",
       "  min-width: 20ex;\n",
       "  max-width: 50ex;\n",
       "  color: var(--sklearn-color-text);\n",
       "  box-shadow: 2pt 2pt 4pt #999;\n",
       "  /* unfitted */\n",
       "  background: var(--sklearn-color-unfitted-level-0);\n",
       "  border: .5pt solid var(--sklearn-color-unfitted-level-3);\n",
       "}\n",
       "\n",
       ".sk-estimator-doc-link.fitted span {\n",
       "  /* fitted */\n",
       "  background: var(--sklearn-color-fitted-level-0);\n",
       "  border: var(--sklearn-color-fitted-level-3);\n",
       "}\n",
       "\n",
       ".sk-estimator-doc-link:hover span {\n",
       "  display: block;\n",
       "}\n",
       "\n",
       "/* \"?\"-specific style due to the `<a>` HTML tag */\n",
       "\n",
       "#sk-container-id-1 a.estimator_doc_link {\n",
       "  float: right;\n",
       "  font-size: 1rem;\n",
       "  line-height: 1em;\n",
       "  font-family: monospace;\n",
       "  background-color: var(--sklearn-color-background);\n",
       "  border-radius: 1rem;\n",
       "  height: 1rem;\n",
       "  width: 1rem;\n",
       "  text-decoration: none;\n",
       "  /* unfitted */\n",
       "  color: var(--sklearn-color-unfitted-level-1);\n",
       "  border: var(--sklearn-color-unfitted-level-1) 1pt solid;\n",
       "}\n",
       "\n",
       "#sk-container-id-1 a.estimator_doc_link.fitted {\n",
       "  /* fitted */\n",
       "  border: var(--sklearn-color-fitted-level-1) 1pt solid;\n",
       "  color: var(--sklearn-color-fitted-level-1);\n",
       "}\n",
       "\n",
       "/* On hover */\n",
       "#sk-container-id-1 a.estimator_doc_link:hover {\n",
       "  /* unfitted */\n",
       "  background-color: var(--sklearn-color-unfitted-level-3);\n",
       "  color: var(--sklearn-color-background);\n",
       "  text-decoration: none;\n",
       "}\n",
       "\n",
       "#sk-container-id-1 a.estimator_doc_link.fitted:hover {\n",
       "  /* fitted */\n",
       "  background-color: var(--sklearn-color-fitted-level-3);\n",
       "}\n",
       "</style><div id=\"sk-container-id-1\" class=\"sk-top-container\"><div class=\"sk-text-repr-fallback\"><pre>XGBClassifier(base_score=None, booster=None, callbacks=None,\n",
       "              colsample_bylevel=None, colsample_bynode=0.9784215971806427,\n",
       "              colsample_bytree=None, device=None, early_stopping_rounds=None,\n",
       "              enable_categorical=False,\n",
       "              eval_metric=&lt;function custom_f1_score at 0x7fea3deb40e0&gt;,\n",
       "              feature_types=None, gamma=None, grow_policy=None,\n",
       "              importance_type=None, interaction_constraints=None,\n",
       "              learning_rate=0.25625198932078747, max_bin=None,\n",
       "              max_cat_threshold=None, max_cat_to_onehot=None,\n",
       "              max_delta_step=None, max_depth=5, max_leaves=None,\n",
       "              min_child_weight=1, missing=nan, monotone_constraints=None,\n",
       "              multi_strategy=None, n_estimators=7, n_jobs=None,\n",
       "              num_parallel_tree=None, objective=&#x27;multi:softprob&#x27;, ...)</pre><b>In a Jupyter environment, please rerun this cell to show the HTML representation or trust the notebook. <br />On GitHub, the HTML representation is unable to render, please try loading this page with nbviewer.org.</b></div><div class=\"sk-container\" hidden><div class=\"sk-item\"><div class=\"sk-estimator fitted sk-toggleable\"><input class=\"sk-toggleable__control sk-hidden--visually\" id=\"sk-estimator-id-1\" type=\"checkbox\" checked><label for=\"sk-estimator-id-1\" class=\"sk-toggleable__label fitted sk-toggleable__label-arrow fitted\">&nbsp;XGBClassifier<span class=\"sk-estimator-doc-link fitted\">i<span>Fitted</span></span></label><div class=\"sk-toggleable__content fitted\"><pre>XGBClassifier(base_score=None, booster=None, callbacks=None,\n",
       "              colsample_bylevel=None, colsample_bynode=0.9784215971806427,\n",
       "              colsample_bytree=None, device=None, early_stopping_rounds=None,\n",
       "              enable_categorical=False,\n",
       "              eval_metric=&lt;function custom_f1_score at 0x7fea3deb40e0&gt;,\n",
       "              feature_types=None, gamma=None, grow_policy=None,\n",
       "              importance_type=None, interaction_constraints=None,\n",
       "              learning_rate=0.25625198932078747, max_bin=None,\n",
       "              max_cat_threshold=None, max_cat_to_onehot=None,\n",
       "              max_delta_step=None, max_depth=5, max_leaves=None,\n",
       "              min_child_weight=1, missing=nan, monotone_constraints=None,\n",
       "              multi_strategy=None, n_estimators=7, n_jobs=None,\n",
       "              num_parallel_tree=None, objective=&#x27;multi:softprob&#x27;, ...)</pre></div> </div></div></div></div>"
      ],
      "text/plain": [
       "XGBClassifier(base_score=None, booster=None, callbacks=None,\n",
       "              colsample_bylevel=None, colsample_bynode=0.9784215971806427,\n",
       "              colsample_bytree=None, device=None, early_stopping_rounds=None,\n",
       "              enable_categorical=False,\n",
       "              eval_metric=<function custom_f1_score at 0x7fea3deb40e0>,\n",
       "              feature_types=None, gamma=None, grow_policy=None,\n",
       "              importance_type=None, interaction_constraints=None,\n",
       "              learning_rate=0.25625198932078747, max_bin=None,\n",
       "              max_cat_threshold=None, max_cat_to_onehot=None,\n",
       "              max_delta_step=None, max_depth=5, max_leaves=None,\n",
       "              min_child_weight=1, missing=nan, monotone_constraints=None,\n",
       "              multi_strategy=None, n_estimators=7, n_jobs=None,\n",
       "              num_parallel_tree=None, objective='multi:softprob', ...)"
      ]
     },
     "execution_count": 21,
     "metadata": {},
     "output_type": "execute_result"
    }
   ],
   "source": [
    "n_estimators = int(study.best_trial.user_attrs['best_iteration']*1.2)\n",
    "xgb = xgboost.XGBClassifier(\n",
    "        eval_metric=eval_metric,\n",
    "        n_estimators=n_estimators,\n",
    "        **study.best_trial.params\n",
    "    )\n",
    "xgb.fit(\n",
    "    ssp.vstack((X_train, X_val)), \n",
    "    np.concatenate((y_train_enc, y_val_enc)),\n",
    "    verbose=1,\n",
    ")"
   ]
  },
  {
   "cell_type": "code",
   "execution_count": 22,
   "id": "c965e228",
   "metadata": {
    "execution": {
     "iopub.execute_input": "2025-05-15T16:16:07.576561Z",
     "iopub.status.busy": "2025-05-15T16:16:07.576250Z",
     "iopub.status.idle": "2025-05-15T16:16:07.589402Z",
     "shell.execute_reply": "2025-05-15T16:16:07.589000Z"
    },
    "papermill": {
     "duration": 0.024828,
     "end_time": "2025-05-15T16:16:07.590638",
     "exception": false,
     "start_time": "2025-05-15T16:16:07.565810",
     "status": "completed"
    },
    "tags": []
   },
   "outputs": [
    {
     "data": {
      "text/plain": [
       "['/scratch_isilon/groups/singlecell/shared/projects/Inflammation-PBMCs-Atlas/03_downstream_analysis/08_gene_importance/xgboost_external_validation/xgboost_TopN_genes/results_20/best_model/Plasma_19_4_xgb.json']"
      ]
     },
     "execution_count": 22,
     "metadata": {},
     "output_type": "execute_result"
    }
   ],
   "source": [
    "out_dir = here(f'03_downstream_analysis/08_gene_importance/xgboost_external_validation/xgboost_TopN_genes/results_{N_GENES}/best_model')\n",
    "\n",
    "if not os.path.exists(out_dir):\n",
    "    os.makedirs(out_dir)\n",
    "    \n",
    "joblib.dump(xgb, os.path.join(out_dir, f'{CELL_TYPE}_{SEED}_{TEST_SPLIT_IDX}_xgb.json'))"
   ]
  },
  {
   "cell_type": "code",
   "execution_count": 23,
   "id": "84967319",
   "metadata": {
    "execution": {
     "iopub.execute_input": "2025-05-15T16:16:07.611676Z",
     "iopub.status.busy": "2025-05-15T16:16:07.611399Z",
     "iopub.status.idle": "2025-05-15T16:16:07.619835Z",
     "shell.execute_reply": "2025-05-15T16:16:07.619413Z"
    },
    "papermill": {
     "duration": 0.020121,
     "end_time": "2025-05-15T16:16:07.621009",
     "exception": false,
     "start_time": "2025-05-15T16:16:07.600888",
     "status": "completed"
    },
    "tags": []
   },
   "outputs": [],
   "source": [
    "df_pred_test = pd.DataFrame(dict(\n",
    "    cell_id=train_adata.obs.iloc[test_idxs].index.values,\n",
    "    y_true=y_test, \n",
    "    y_true_code=y_test_enc, \n",
    "    y_pred=xgb.predict(X_test))).set_index('cell_id')"
   ]
  },
  {
   "cell_type": "code",
   "execution_count": 24,
   "id": "2b9f55f2",
   "metadata": {
    "execution": {
     "iopub.execute_input": "2025-05-15T16:16:07.661622Z",
     "iopub.status.busy": "2025-05-15T16:16:07.661279Z",
     "iopub.status.idle": "2025-05-15T16:16:07.691413Z",
     "shell.execute_reply": "2025-05-15T16:16:07.690938Z"
    },
    "papermill": {
     "duration": 0.045813,
     "end_time": "2025-05-15T16:16:07.692588",
     "exception": false,
     "start_time": "2025-05-15T16:16:07.646775",
     "status": "completed"
    },
    "tags": []
   },
   "outputs": [],
   "source": [
    "out_dir = here(f'03_downstream_analysis/08_gene_importance/xgboost_external_validation/xgboost_TopN_genes/results_{N_GENES}/predictions')\n",
    "\n",
    "if not os.path.exists(out_dir):\n",
    "    os.makedirs(out_dir)\n",
    "    \n",
    "df_pred_test.to_csv(os.path.join(out_dir, f'{CELL_TYPE}_{SEED}_{TEST_SPLIT_IDX}_pred_test.zip'))"
   ]
  },
  {
   "cell_type": "code",
   "execution_count": 25,
   "id": "fedb2d8e",
   "metadata": {
    "execution": {
     "iopub.execute_input": "2025-05-15T16:16:07.720777Z",
     "iopub.status.busy": "2025-05-15T16:16:07.720500Z",
     "iopub.status.idle": "2025-05-15T16:16:07.728687Z",
     "shell.execute_reply": "2025-05-15T16:16:07.728309Z"
    },
    "papermill": {
     "duration": 0.01916,
     "end_time": "2025-05-15T16:16:07.729651",
     "exception": false,
     "start_time": "2025-05-15T16:16:07.710491",
     "status": "completed"
    },
    "tags": []
   },
   "outputs": [
    {
     "name": "stderr",
     "output_type": "stream",
     "text": [
      "/scratch_isilon/groups/singlecell/shared/conda_env/xgboost-cpu/lib/python3.12/site-packages/sklearn/metrics/_classification.py:2466: UserWarning: y_pred contains classes not in y_true\n",
      "  warnings.warn(\"y_pred contains classes not in y_true\")\n"
     ]
    }
   ],
   "source": [
    "metrics_dict = dict(\n",
    "    BAS=balanced_accuracy_score(y_true=df_pred_test.y_true_code, y_pred=df_pred_test.y_pred), WF1=f1_score(y_true=df_pred_test.y_true_code, y_pred=df_pred_test.y_pred,average='weighted'))"
   ]
  },
  {
   "cell_type": "code",
   "execution_count": 26,
   "id": "936060d2",
   "metadata": {
    "execution": {
     "iopub.execute_input": "2025-05-15T16:16:07.763674Z",
     "iopub.status.busy": "2025-05-15T16:16:07.763405Z",
     "iopub.status.idle": "2025-05-15T16:16:07.766886Z",
     "shell.execute_reply": "2025-05-15T16:16:07.766545Z"
    },
    "papermill": {
     "duration": 0.015354,
     "end_time": "2025-05-15T16:16:07.767779",
     "exception": false,
     "start_time": "2025-05-15T16:16:07.752425",
     "status": "completed"
    },
    "tags": []
   },
   "outputs": [
    {
     "data": {
      "text/plain": [
       "{'BAS': 0.3734355921855922, 'WF1': 0.5046916499310299}"
      ]
     },
     "execution_count": 26,
     "metadata": {},
     "output_type": "execute_result"
    }
   ],
   "source": [
    "metrics_dict"
   ]
  },
  {
   "cell_type": "code",
   "execution_count": 27,
   "id": "2d1bec63",
   "metadata": {
    "execution": {
     "iopub.execute_input": "2025-05-15T16:16:07.796536Z",
     "iopub.status.busy": "2025-05-15T16:16:07.796250Z",
     "iopub.status.idle": "2025-05-15T16:16:07.806351Z",
     "shell.execute_reply": "2025-05-15T16:16:07.805945Z"
    },
    "papermill": {
     "duration": 0.021563,
     "end_time": "2025-05-15T16:16:07.807317",
     "exception": false,
     "start_time": "2025-05-15T16:16:07.785754",
     "status": "completed"
    },
    "tags": []
   },
   "outputs": [
    {
     "data": {
      "text/html": [
       "<div>\n",
       "<style scoped>\n",
       "    .dataframe tbody tr th:only-of-type {\n",
       "        vertical-align: middle;\n",
       "    }\n",
       "\n",
       "    .dataframe tbody tr th {\n",
       "        vertical-align: top;\n",
       "    }\n",
       "\n",
       "    .dataframe thead th {\n",
       "        text-align: right;\n",
       "    }\n",
       "</style>\n",
       "<table border=\"1\" class=\"dataframe\">\n",
       "  <thead>\n",
       "    <tr style=\"text-align: right;\">\n",
       "      <th></th>\n",
       "      <th>BAS</th>\n",
       "      <th>WF1</th>\n",
       "      <th>split_idx</th>\n",
       "      <th>gene_set_seed</th>\n",
       "      <th>cell_type</th>\n",
       "    </tr>\n",
       "  </thead>\n",
       "  <tbody>\n",
       "    <tr>\n",
       "      <th>0</th>\n",
       "      <td>0.373436</td>\n",
       "      <td>0.504692</td>\n",
       "      <td>4</td>\n",
       "      <td>19</td>\n",
       "      <td>Plasma</td>\n",
       "    </tr>\n",
       "  </tbody>\n",
       "</table>\n",
       "</div>"
      ],
      "text/plain": [
       "        BAS       WF1  split_idx  gene_set_seed cell_type\n",
       "0  0.373436  0.504692          4             19    Plasma"
      ]
     },
     "execution_count": 27,
     "metadata": {},
     "output_type": "execute_result"
    }
   ],
   "source": [
    "metrics_df = pd.DataFrame.from_dict([metrics_dict]).assign(split_idx=TEST_SPLIT_IDX, gene_set_seed=SEED, cell_type=CELL_TYPE)\n",
    "metrics_df"
   ]
  },
  {
   "cell_type": "code",
   "execution_count": 28,
   "id": "ba2adbca",
   "metadata": {
    "execution": {
     "iopub.execute_input": "2025-05-15T16:16:07.849658Z",
     "iopub.status.busy": "2025-05-15T16:16:07.849377Z",
     "iopub.status.idle": "2025-05-15T16:16:07.858910Z",
     "shell.execute_reply": "2025-05-15T16:16:07.858469Z"
    },
    "papermill": {
     "duration": 0.020944,
     "end_time": "2025-05-15T16:16:07.859965",
     "exception": false,
     "start_time": "2025-05-15T16:16:07.839021",
     "status": "completed"
    },
    "tags": []
   },
   "outputs": [],
   "source": [
    "out_dir = here(f'03_downstream_analysis/08_gene_importance/xgboost_external_validation/xgboost_TopN_genes/results_{N_GENES}/metrics')\n",
    "\n",
    "if not os.path.exists(out_dir):\n",
    "    os.makedirs(out_dir)\n",
    "    \n",
    "metrics_df.to_csv(os.path.join(out_dir, f'{CELL_TYPE}_{SEED}_{TEST_SPLIT_IDX}_metrics.zip'))"
   ]
  }
 ],
 "metadata": {
  "kernelspec": {
   "display_name": "Python 3 (ipykernel)",
   "language": "python",
   "name": "python3"
  },
  "language_info": {
   "codemirror_mode": {
    "name": "ipython",
    "version": 3
   },
   "file_extension": ".py",
   "mimetype": "text/x-python",
   "name": "python",
   "nbconvert_exporter": "python",
   "pygments_lexer": "ipython3",
   "version": "3.12.5"
  },
  "papermill": {
   "default_parameters": {},
   "duration": 19.978015,
   "end_time": "2025-05-15T16:16:08.686415",
   "environment_variables": {},
   "exception": null,
   "input_path": "02_xgboost_fitting_external_20genes.ipynb",
   "output_path": "results_20/executed_notebooks/xgboost_fitting_external_CT_Plasma_GS_19_seed4.ipynb",
   "parameters": {
    "CELL_TYPE": "Plasma",
    "SEED": 19,
    "TEST_SPLIT_IDX": 4
   },
   "start_time": "2025-05-15T16:15:48.708400",
   "version": "2.6.0"
  }
 },
 "nbformat": 4,
 "nbformat_minor": 5
}