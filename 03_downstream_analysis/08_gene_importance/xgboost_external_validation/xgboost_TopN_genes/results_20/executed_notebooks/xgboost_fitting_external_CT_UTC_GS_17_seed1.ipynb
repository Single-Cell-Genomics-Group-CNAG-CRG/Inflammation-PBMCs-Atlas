{
 "cells": [
  {
   "cell_type": "code",
   "execution_count": 1,
   "id": "00cd667f",
   "metadata": {
    "editable": true,
    "execution": {
     "iopub.execute_input": "2025-05-15T16:13:14.125088Z",
     "iopub.status.busy": "2025-05-15T16:13:14.124702Z",
     "iopub.status.idle": "2025-05-15T16:13:14.127469Z",
     "shell.execute_reply": "2025-05-15T16:13:14.127170Z"
    },
    "papermill": {
     "duration": 0.010407,
     "end_time": "2025-05-15T16:13:14.128376",
     "exception": false,
     "start_time": "2025-05-15T16:13:14.117969",
     "status": "completed"
    },
    "slideshow": {
     "slide_type": ""
    },
    "tags": [
     "parameters"
    ]
   },
   "outputs": [],
   "source": [
    "CELL_TYPE = 'pDC'\n",
    "N_GENES: int = 20\n",
    "SEED = 'shap_studyID' #'disease_NOstudy' 'study_NOdisease' or 'int' or 'shap_studyID'\n",
    "TEST_SPLIT_IDX: int = 1 #[0,4]"
   ]
  },
  {
   "cell_type": "code",
   "execution_count": 2,
   "id": "4e458a0d",
   "metadata": {
    "execution": {
     "iopub.execute_input": "2025-05-15T16:13:14.138955Z",
     "iopub.status.busy": "2025-05-15T16:13:14.138704Z",
     "iopub.status.idle": "2025-05-15T16:13:14.140770Z",
     "shell.execute_reply": "2025-05-15T16:13:14.140467Z"
    },
    "papermill": {
     "duration": 0.008144,
     "end_time": "2025-05-15T16:13:14.141596",
     "exception": false,
     "start_time": "2025-05-15T16:13:14.133452",
     "status": "completed"
    },
    "tags": [
     "injected-parameters"
    ]
   },
   "outputs": [],
   "source": [
    "# Parameters\n",
    "CELL_TYPE = \"UTC\"\n",
    "SEED = 17\n",
    "TEST_SPLIT_IDX = 1\n"
   ]
  },
  {
   "cell_type": "code",
   "execution_count": 3,
   "id": "a4f0c56f",
   "metadata": {
    "execution": {
     "iopub.execute_input": "2025-05-15T16:13:14.151664Z",
     "iopub.status.busy": "2025-05-15T16:13:14.151483Z",
     "iopub.status.idle": "2025-05-15T16:13:14.153571Z",
     "shell.execute_reply": "2025-05-15T16:13:14.153275Z"
    },
    "papermill": {
     "duration": 0.008029,
     "end_time": "2025-05-15T16:13:14.154376",
     "exception": false,
     "start_time": "2025-05-15T16:13:14.146347",
     "status": "completed"
    },
    "tags": []
   },
   "outputs": [],
   "source": [
    "N_SPLITS: int = 5\n",
    "N_TRIALS: int = 50"
   ]
  },
  {
   "cell_type": "code",
   "execution_count": 4,
   "id": "19f1d78d",
   "metadata": {
    "execution": {
     "iopub.execute_input": "2025-05-15T16:13:14.165948Z",
     "iopub.status.busy": "2025-05-15T16:13:14.165667Z",
     "iopub.status.idle": "2025-05-15T16:13:15.527259Z",
     "shell.execute_reply": "2025-05-15T16:13:15.526768Z"
    },
    "papermill": {
     "duration": 1.369017,
     "end_time": "2025-05-15T16:13:15.528507",
     "exception": false,
     "start_time": "2025-05-15T16:13:14.159490",
     "status": "completed"
    },
    "tags": []
   },
   "outputs": [],
   "source": [
    "import os\n",
    "import sys\n",
    "from pyprojroot.here import here\n",
    "import pandas as pd\n",
    "import anndata as ad\n",
    "import numpy as np\n",
    "import math\n",
    "from sklearn.model_selection import StratifiedGroupKFold\n",
    "from sklearn.preprocessing import LabelEncoder\n",
    "from sklearn.metrics import f1_score\n",
    "import matplotlib.pyplot as plt\n",
    "import seaborn as sns\n",
    "from itertools import product\n",
    "from sklearn.metrics import balanced_accuracy_score, f1_score\n",
    "import optuna\n",
    "\n",
    "import joblib\n",
    "import pickle\n",
    "import datetime\n",
    "\n",
    "import collections\n",
    "\n",
    "import xgboost\n",
    "from sklearn.preprocessing import LabelEncoder\n",
    "\n",
    "import scipy.sparse as ssp\n",
    "import joblib\n",
    "\n",
    "from dotenv import load_dotenv"
   ]
  },
  {
   "cell_type": "code",
   "execution_count": 5,
   "id": "8eea995b",
   "metadata": {
    "execution": {
     "iopub.execute_input": "2025-05-15T16:13:15.540076Z",
     "iopub.status.busy": "2025-05-15T16:13:15.539717Z",
     "iopub.status.idle": "2025-05-15T16:13:15.545430Z",
     "shell.execute_reply": "2025-05-15T16:13:15.545125Z"
    },
    "papermill": {
     "duration": 0.012419,
     "end_time": "2025-05-15T16:13:15.546271",
     "exception": false,
     "start_time": "2025-05-15T16:13:15.533852",
     "status": "completed"
    },
    "tags": []
   },
   "outputs": [
    {
     "data": {
      "text/plain": [
       "True"
      ]
     },
     "execution_count": 5,
     "metadata": {},
     "output_type": "execute_result"
    }
   ],
   "source": [
    "load_dotenv()"
   ]
  },
  {
   "cell_type": "markdown",
   "id": "1d78e39c",
   "metadata": {
    "papermill": {
     "duration": 0.00505,
     "end_time": "2025-05-15T16:13:15.556459",
     "exception": false,
     "start_time": "2025-05-15T16:13:15.551409",
     "status": "completed"
    },
    "tags": []
   },
   "source": [
    "# LOAD DATASET"
   ]
  },
  {
   "cell_type": "code",
   "execution_count": 6,
   "id": "87872788",
   "metadata": {
    "execution": {
     "iopub.execute_input": "2025-05-15T16:13:15.567635Z",
     "iopub.status.busy": "2025-05-15T16:13:15.567457Z",
     "iopub.status.idle": "2025-05-15T16:13:15.692257Z",
     "shell.execute_reply": "2025-05-15T16:13:15.691789Z"
    },
    "papermill": {
     "duration": 0.131706,
     "end_time": "2025-05-15T16:13:15.693487",
     "exception": false,
     "start_time": "2025-05-15T16:13:15.561781",
     "status": "completed"
    },
    "tags": []
   },
   "outputs": [],
   "source": [
    "train_adata = ad.read_h5ad(\n",
    "    here(f'03_downstream_analysis/08_gene_importance/xgboost_external_validation/xgboost_TopN_genes/data_cellTypes/EXTERNAL_{CELL_TYPE}.filtered.log1p.h5ad')\n",
    ")"
   ]
  },
  {
   "cell_type": "code",
   "execution_count": 7,
   "id": "f9b901bc",
   "metadata": {
    "execution": {
     "iopub.execute_input": "2025-05-15T16:13:15.704830Z",
     "iopub.status.busy": "2025-05-15T16:13:15.704642Z",
     "iopub.status.idle": "2025-05-15T16:13:15.716535Z",
     "shell.execute_reply": "2025-05-15T16:13:15.716174Z"
    },
    "papermill": {
     "duration": 0.018547,
     "end_time": "2025-05-15T16:13:15.717376",
     "exception": false,
     "start_time": "2025-05-15T16:13:15.698829",
     "status": "completed"
    },
    "tags": []
   },
   "outputs": [
    {
     "name": "stdout",
     "output_type": "stream",
     "text": [
      "['ENSG00000112486' 'ENSG00000163131' 'ENSG00000116171' 'ENSG00000132432'\n",
      " 'ENSG00000090863' 'ENSG00000148834' 'ENSG00000183172' 'ENSG00000090554'\n",
      " 'ENSG00000137100' 'ENSG00000168329' 'ENSG00000134352' 'ENSG00000161203'\n",
      " 'ENSG00000235162' 'ENSG00000115073' 'ENSG00000101474' 'ENSG00000157873'\n",
      " 'ENSG00000147168' 'ENSG00000150687' 'ENSG00000088986' 'ENSG00000162434'\n",
      " 'ENSG00000111716' 'ENSG00000026025' 'ENSG00000002549' 'ENSG00000143924'\n",
      " 'ENSG00000008517' 'ENSG00000177606' 'ENSG00000116667' 'ENSG00000169442'\n",
      " 'ENSG00000073861' 'ENSG00000197747' 'ENSG00000180644' 'ENSG00000145912'\n",
      " 'ENSG00000203747' 'ENSG00000126267' 'ENSG00000138378' 'ENSG00000104870'\n",
      " 'ENSG00000179344' 'ENSG00000134545' 'ENSG00000204287' 'ENSG00000137441'\n",
      " 'ENSG00000216490' 'ENSG00000111640' 'ENSG00000185022' 'ENSG00000126561'\n",
      " 'ENSG00000117523' 'ENSG00000123416' 'ENSG00000066294' 'ENSG00000147443'\n",
      " 'ENSG00000135046' 'ENSG00000113441' 'ENSG00000115604' 'ENSG00000117020'\n",
      " 'ENSG00000215788' 'ENSG00000139626' 'ENSG00000228474' 'ENSG00000076662'\n",
      " 'ENSG00000136732' 'ENSG00000106799' 'ENSG00000127152' 'ENSG00000163660'\n",
      " 'ENSG00000167552' 'ENSG00000042753' 'ENSG00000135968' 'ENSG00000171476'\n",
      " 'ENSG00000105374' 'ENSG00000011600' 'ENSG00000091409' 'ENSG00000143185'\n",
      " 'ENSG00000108622' 'ENSG00000142166' 'ENSG00000142089' 'ENSG00000135114'\n",
      " 'ENSG00000006125' 'ENSG00000110324' 'ENSG00000133639' 'ENSG00000132912'\n",
      " 'ENSG00000204592' 'ENSG00000104964' 'ENSG00000197471' 'ENSG00000075234'\n",
      " 'ENSG00000167863' 'ENSG00000134107' 'ENSG00000182117' 'ENSG00000125384'\n",
      " 'ENSG00000103187' 'ENSG00000104763' 'ENSG00000145287' 'ENSG00000025708'\n",
      " 'ENSG00000175104' 'ENSG00000117984' 'ENSG00000033800' 'ENSG00000163191'\n",
      " 'ENSG00000104660' 'ENSG00000100911' 'ENSG00000169896' 'ENSG00000134539'\n",
      " 'ENSG00000114423' 'ENSG00000117281' 'ENSG00000100100' 'ENSG00000148908'\n",
      " 'ENSG00000090382' 'ENSG00000142634' 'ENSG00000164674' 'ENSG00000127314'\n",
      " 'ENSG00000137193' 'ENSG00000113263' 'ENSG00000026103' 'ENSG00000145675'\n",
      " 'ENSG00000138802' 'ENSG00000135441' 'ENSG00000170525' 'ENSG00000100393'\n",
      " 'ENSG00000100902' 'ENSG00000100321' 'ENSG00000141506']\n"
     ]
    }
   ],
   "source": [
    "if SEED != 'all':\n",
    "    gene_subset = np.load(here(f'03_downstream_analysis/08_gene_importance/xgboost_external_validation/shap_gene_selection/gene_subsets_{N_GENES}/{CELL_TYPE}_{SEED}.npy'), allow_pickle=True)\n",
    "    train_adata = train_adata[:,gene_subset]\n",
    "    print(gene_subset)\n",
    "elif SEED == 'all':\n",
    "    print('Using all genes')\n",
    "else:\n",
    "    raise ValueError()"
   ]
  },
  {
   "cell_type": "code",
   "execution_count": 8,
   "id": "0be8b9bb",
   "metadata": {
    "execution": {
     "iopub.execute_input": "2025-05-15T16:13:15.728269Z",
     "iopub.status.busy": "2025-05-15T16:13:15.727851Z",
     "iopub.status.idle": "2025-05-15T16:13:15.730933Z",
     "shell.execute_reply": "2025-05-15T16:13:15.730613Z"
    },
    "papermill": {
     "duration": 0.009306,
     "end_time": "2025-05-15T16:13:15.731741",
     "exception": false,
     "start_time": "2025-05-15T16:13:15.722435",
     "status": "completed"
    },
    "tags": []
   },
   "outputs": [
    {
     "data": {
      "text/plain": [
       "(14828, 115)"
      ]
     },
     "execution_count": 8,
     "metadata": {},
     "output_type": "execute_result"
    }
   ],
   "source": [
    "train_adata.shape"
   ]
  },
  {
   "cell_type": "code",
   "execution_count": 9,
   "id": "fea480cc",
   "metadata": {
    "execution": {
     "iopub.execute_input": "2025-05-15T16:13:15.742898Z",
     "iopub.status.busy": "2025-05-15T16:13:15.742728Z",
     "iopub.status.idle": "2025-05-15T16:13:15.746138Z",
     "shell.execute_reply": "2025-05-15T16:13:15.745832Z"
    },
    "papermill": {
     "duration": 0.009721,
     "end_time": "2025-05-15T16:13:15.746952",
     "exception": false,
     "start_time": "2025-05-15T16:13:15.737231",
     "status": "completed"
    },
    "tags": []
   },
   "outputs": [
    {
     "data": {
      "text/plain": [
       "['RA', 'COVID', 'healthy', 'HIV', 'cirrhosis', 'CD', 'SLE', 'sepsis']\n",
       "Categories (8, object): ['CD', 'COVID', 'HIV', 'RA', 'SLE', 'cirrhosis', 'healthy', 'sepsis']"
      ]
     },
     "execution_count": 9,
     "metadata": {},
     "output_type": "execute_result"
    }
   ],
   "source": [
    "train_adata.obs.disease.unique()"
   ]
  },
  {
   "cell_type": "code",
   "execution_count": 10,
   "id": "a62122b5",
   "metadata": {
    "execution": {
     "iopub.execute_input": "2025-05-15T16:13:15.757875Z",
     "iopub.status.busy": "2025-05-15T16:13:15.757689Z",
     "iopub.status.idle": "2025-05-15T16:13:15.761268Z",
     "shell.execute_reply": "2025-05-15T16:13:15.760880Z"
    },
    "papermill": {
     "duration": 0.010316,
     "end_time": "2025-05-15T16:13:15.762173",
     "exception": false,
     "start_time": "2025-05-15T16:13:15.751857",
     "status": "completed"
    },
    "tags": []
   },
   "outputs": [
    {
     "data": {
      "text/plain": [
       "['SCGT00val_I0364_T0', 'SCGT00val_I036016_T0', 'SCGT00val_I036021_T0', 'SCGT00val_I036015_T0', 'SCGT00val_I036023_T0', ..., '10XGenomics_10XHC2_T0', '10XGenomics_10XHC3_T0', '10XGenomics_10XHC5_T0', '10XGenomics_10XHC7_T0', '10XGenomics_10XHC8_T0']\n",
       "Length: 86\n",
       "Categories (86, object): ['10XGenomics_10XHC1_T0', '10XGenomics_10XHC2_T0', '10XGenomics_10XHC3_T0', '10XGenomics_10XHC4_T0', ..., 'Savage2021_BRISL6_T0', 'Savage2021_BRISL7_T0', 'Savage2021_PIDA_T0', 'Savage2021_PIDB_T0']"
      ]
     },
     "execution_count": 10,
     "metadata": {},
     "output_type": "execute_result"
    }
   ],
   "source": [
    "train_adata.obs.sampleID.unique()"
   ]
  },
  {
   "cell_type": "code",
   "execution_count": 11,
   "id": "50a0946b",
   "metadata": {
    "execution": {
     "iopub.execute_input": "2025-05-15T16:13:15.773094Z",
     "iopub.status.busy": "2025-05-15T16:13:15.772902Z",
     "iopub.status.idle": "2025-05-15T16:13:15.832312Z",
     "shell.execute_reply": "2025-05-15T16:13:15.831878Z"
    },
    "papermill": {
     "duration": 0.066001,
     "end_time": "2025-05-15T16:13:15.833183",
     "exception": false,
     "start_time": "2025-05-15T16:13:15.767182",
     "status": "completed"
    },
    "tags": []
   },
   "outputs": [],
   "source": [
    "all_idxs = np.arange(train_adata.obs.shape[0])\n",
    "left_out_splits = [s[1] for s in StratifiedGroupKFold(n_splits=N_SPLITS).split(all_idxs, train_adata.obs.disease, train_adata.obs.sampleID)]"
   ]
  },
  {
   "cell_type": "code",
   "execution_count": 12,
   "id": "3ae1420d",
   "metadata": {
    "execution": {
     "iopub.execute_input": "2025-05-15T16:13:15.844668Z",
     "iopub.status.busy": "2025-05-15T16:13:15.844429Z",
     "iopub.status.idle": "2025-05-15T16:13:15.847552Z",
     "shell.execute_reply": "2025-05-15T16:13:15.847249Z"
    },
    "papermill": {
     "duration": 0.009712,
     "end_time": "2025-05-15T16:13:15.848392",
     "exception": false,
     "start_time": "2025-05-15T16:13:15.838680",
     "status": "completed"
    },
    "tags": []
   },
   "outputs": [
    {
     "data": {
      "text/plain": [
       "([0, 3, 4], 2, 1)"
      ]
     },
     "execution_count": 12,
     "metadata": {},
     "output_type": "execute_result"
    }
   ],
   "source": [
    "TRAIN_SPLIT_IDXS = [0,1,2,3,4]\n",
    "VAL_SPLIT_IDX = (TEST_SPLIT_IDX + 1) % 5\n",
    "TRAIN_SPLIT_IDXS.remove(TEST_SPLIT_IDX)\n",
    "TRAIN_SPLIT_IDXS.remove(VAL_SPLIT_IDX)\n",
    "TRAIN_SPLIT_IDXS, VAL_SPLIT_IDX, TEST_SPLIT_IDX"
   ]
  },
  {
   "cell_type": "code",
   "execution_count": 13,
   "id": "34ed0974",
   "metadata": {
    "execution": {
     "iopub.execute_input": "2025-05-15T16:13:15.859335Z",
     "iopub.status.busy": "2025-05-15T16:13:15.859158Z",
     "iopub.status.idle": "2025-05-15T16:13:15.861471Z",
     "shell.execute_reply": "2025-05-15T16:13:15.861182Z"
    },
    "papermill": {
     "duration": 0.008627,
     "end_time": "2025-05-15T16:13:15.862289",
     "exception": false,
     "start_time": "2025-05-15T16:13:15.853662",
     "status": "completed"
    },
    "tags": []
   },
   "outputs": [],
   "source": [
    "train_idxs = np.concatenate([left_out_splits[idx] for idx in TRAIN_SPLIT_IDXS])\n",
    "val_idxs = left_out_splits[VAL_SPLIT_IDX]\n",
    "test_idxs = left_out_splits[TEST_SPLIT_IDX]"
   ]
  },
  {
   "cell_type": "markdown",
   "id": "0e48c38e",
   "metadata": {
    "papermill": {
     "duration": 0.005344,
     "end_time": "2025-05-15T16:13:15.872790",
     "exception": false,
     "start_time": "2025-05-15T16:13:15.867446",
     "status": "completed"
    },
    "tags": []
   },
   "source": [
    "### SUBSET DATASET INTO TRAIN/TEST/VAL SPLITS"
   ]
  },
  {
   "cell_type": "code",
   "execution_count": 14,
   "id": "3e316395",
   "metadata": {
    "execution": {
     "iopub.execute_input": "2025-05-15T16:13:15.884155Z",
     "iopub.status.busy": "2025-05-15T16:13:15.883993Z",
     "iopub.status.idle": "2025-05-15T16:13:15.928374Z",
     "shell.execute_reply": "2025-05-15T16:13:15.928020Z"
    },
    "papermill": {
     "duration": 0.051,
     "end_time": "2025-05-15T16:13:15.929269",
     "exception": false,
     "start_time": "2025-05-15T16:13:15.878269",
     "status": "completed"
    },
    "tags": []
   },
   "outputs": [
    {
     "data": {
      "text/plain": [
       "((8649, 115), (2863, 115), (3316, 115))"
      ]
     },
     "execution_count": 14,
     "metadata": {},
     "output_type": "execute_result"
    }
   ],
   "source": [
    "X_train = train_adata.X[train_idxs]\n",
    "X_test = train_adata.X[test_idxs]\n",
    "X_val = train_adata.X[val_idxs]\n",
    "X_train.shape, X_test.shape, X_val.shape"
   ]
  },
  {
   "cell_type": "code",
   "execution_count": 15,
   "id": "9485620b",
   "metadata": {
    "execution": {
     "iopub.execute_input": "2025-05-15T16:13:15.941176Z",
     "iopub.status.busy": "2025-05-15T16:13:15.940992Z",
     "iopub.status.idle": "2025-05-15T16:13:15.946532Z",
     "shell.execute_reply": "2025-05-15T16:13:15.946237Z"
    },
    "papermill": {
     "duration": 0.012269,
     "end_time": "2025-05-15T16:13:15.947337",
     "exception": false,
     "start_time": "2025-05-15T16:13:15.935068",
     "status": "completed"
    },
    "tags": []
   },
   "outputs": [
    {
     "data": {
      "text/plain": [
       "((8649,), (2863,), (3316,))"
      ]
     },
     "execution_count": 15,
     "metadata": {},
     "output_type": "execute_result"
    }
   ],
   "source": [
    "y_train = train_adata.obs.iloc[train_idxs].disease.values.astype(str)\n",
    "y_test = train_adata.obs.iloc[test_idxs].disease.values.astype(str)\n",
    "y_val = train_adata.obs.iloc[val_idxs].disease.values.astype(str)\n",
    "y_train.shape, y_test.shape, y_val.shape"
   ]
  },
  {
   "cell_type": "code",
   "execution_count": 16,
   "id": "fae291b4",
   "metadata": {
    "execution": {
     "iopub.execute_input": "2025-05-15T16:13:15.958965Z",
     "iopub.status.busy": "2025-05-15T16:13:15.958783Z",
     "iopub.status.idle": "2025-05-15T16:13:15.964285Z",
     "shell.execute_reply": "2025-05-15T16:13:15.963902Z"
    },
    "papermill": {
     "duration": 0.012247,
     "end_time": "2025-05-15T16:13:15.965104",
     "exception": false,
     "start_time": "2025-05-15T16:13:15.952857",
     "status": "completed"
    },
    "tags": []
   },
   "outputs": [],
   "source": [
    "lenc = LabelEncoder()\n",
    "y_train_enc = lenc.fit_transform(y_train)\n",
    "y_val_enc = lenc.transform(y_val)\n",
    "y_test_enc = lenc.transform(y_test)"
   ]
  },
  {
   "cell_type": "markdown",
   "id": "af9ec8fb",
   "metadata": {
    "papermill": {
     "duration": 0.005351,
     "end_time": "2025-05-15T16:13:15.975837",
     "exception": false,
     "start_time": "2025-05-15T16:13:15.970486",
     "status": "completed"
    },
    "tags": []
   },
   "source": [
    "### GENERATE F1 "
   ]
  },
  {
   "cell_type": "code",
   "execution_count": 17,
   "id": "e47eafd3",
   "metadata": {
    "execution": {
     "iopub.execute_input": "2025-05-15T16:13:15.987351Z",
     "iopub.status.busy": "2025-05-15T16:13:15.986968Z",
     "iopub.status.idle": "2025-05-15T16:13:15.989256Z",
     "shell.execute_reply": "2025-05-15T16:13:15.988944Z"
    },
    "papermill": {
     "duration": 0.00906,
     "end_time": "2025-05-15T16:13:15.990172",
     "exception": false,
     "start_time": "2025-05-15T16:13:15.981112",
     "status": "completed"
    },
    "tags": []
   },
   "outputs": [],
   "source": [
    "def custom_f1_score(y_true, y_pred):\n",
    "    return -f1_score(y_true, y_pred.argmax(1), average='weighted')"
   ]
  },
  {
   "cell_type": "code",
   "execution_count": 18,
   "id": "8aad7f4b",
   "metadata": {
    "execution": {
     "iopub.execute_input": "2025-05-15T16:13:16.001570Z",
     "iopub.status.busy": "2025-05-15T16:13:16.001310Z",
     "iopub.status.idle": "2025-05-15T16:13:16.005000Z",
     "shell.execute_reply": "2025-05-15T16:13:16.004683Z"
    },
    "papermill": {
     "duration": 0.010225,
     "end_time": "2025-05-15T16:13:16.005834",
     "exception": false,
     "start_time": "2025-05-15T16:13:15.995609",
     "status": "completed"
    },
    "tags": []
   },
   "outputs": [],
   "source": [
    "eval_metric=custom_f1_score\n",
    "eval_metric_name='custom_f1_score'\n",
    "\n",
    "def objective(trial):\n",
    "    params = {\n",
    "        'n_estimators': 1500,\n",
    "        'max_depth': trial.suggest_int('max_depth', 3, 20),\n",
    "        'min_child_weight': trial.suggest_int('min_child_weight', 1, 250),\n",
    "        'subsample': trial.suggest_float('subsample', 0.1, 1.0),\n",
    "        'colsample_bynode': trial.suggest_float('colsample_bynode', 0.1, 1.0),\n",
    "        'learning_rate': trial.suggest_float('learning_rate', 1e-3, 5e-1, log=True),\n",
    "    }\n",
    "    pruning_callback = optuna.integration.XGBoostPruningCallback(trial, f'validation_0-{eval_metric_name}')\n",
    "    es_callback = xgboost.callback.EarlyStopping(20, min_delta=0.001)\n",
    "    xgb = xgboost.XGBClassifier(\n",
    "        eval_metric=eval_metric,\n",
    "        callbacks=[pruning_callback, es_callback],\n",
    "        n_jobs=5,\n",
    "        **params\n",
    "    )\n",
    "    xgb.fit(\n",
    "        X_train, \n",
    "        y_train_enc, \n",
    "        verbose=0,\n",
    "        eval_set=[(X_val, y_val_enc)],\n",
    "    )\n",
    "    trial.set_user_attr('best_iteration', xgb.best_iteration)\n",
    "\n",
    "    return xgb.best_score"
   ]
  },
  {
   "cell_type": "code",
   "execution_count": 19,
   "id": "45b90b30",
   "metadata": {
    "execution": {
     "iopub.execute_input": "2025-05-15T16:13:16.017133Z",
     "iopub.status.busy": "2025-05-15T16:13:16.016963Z",
     "iopub.status.idle": "2025-05-15T16:15:16.388582Z",
     "shell.execute_reply": "2025-05-15T16:15:16.388095Z"
    },
    "papermill": {
     "duration": 120.378774,
     "end_time": "2025-05-15T16:15:16.389897",
     "exception": false,
     "start_time": "2025-05-15T16:13:16.011123",
     "status": "completed"
    },
    "scrolled": true,
    "tags": []
   },
   "outputs": [
    {
     "name": "stderr",
     "output_type": "stream",
     "text": [
      "[I 2025-05-15 18:13:16,018] A new study created in memory with name: no-name-db7d1ec0-185c-47e3-b1f5-dcbf12837600\n"
     ]
    },
    {
     "name": "stderr",
     "output_type": "stream",
     "text": [
      "[I 2025-05-15 18:13:17,586] Trial 0 finished with value: -0.457179 and parameters: {'max_depth': 9, 'min_child_weight': 238, 'subsample': 0.7587945476302645, 'colsample_bynode': 0.6387926357773329, 'learning_rate': 0.0026368755339723046}. Best is trial 0 with value: -0.457179.\n"
     ]
    },
    {
     "name": "stderr",
     "output_type": "stream",
     "text": [
      "[I 2025-05-15 18:13:26,464] Trial 1 finished with value: -0.599025 and parameters: {'max_depth': 5, 'min_child_weight': 15, 'subsample': 0.8795585311974417, 'colsample_bynode': 0.6410035105688879, 'learning_rate': 0.08148293210105287}. Best is trial 1 with value: -0.599025.\n"
     ]
    },
    {
     "name": "stderr",
     "output_type": "stream",
     "text": [
      "[I 2025-05-15 18:13:28,188] Trial 2 finished with value: -0.474044 and parameters: {'max_depth': 3, 'min_child_weight': 243, 'subsample': 0.8491983767203796, 'colsample_bynode': 0.29110519961044856, 'learning_rate': 0.003095566460242371}. Best is trial 1 with value: -0.599025.\n"
     ]
    },
    {
     "name": "stderr",
     "output_type": "stream",
     "text": [
      "[I 2025-05-15 18:13:29,291] Trial 3 finished with value: -0.477007 and parameters: {'max_depth': 6, 'min_child_weight': 77, 'subsample': 0.5722807884690141, 'colsample_bynode': 0.48875051677790415, 'learning_rate': 0.006109683510122491}. Best is trial 1 with value: -0.599025.\n"
     ]
    },
    {
     "name": "stderr",
     "output_type": "stream",
     "text": [
      "[I 2025-05-15 18:13:33,170] Trial 4 finished with value: -0.498968 and parameters: {'max_depth': 14, 'min_child_weight': 35, 'subsample': 0.3629301836816964, 'colsample_bynode': 0.4297256589643226, 'learning_rate': 0.01701841881702917}. Best is trial 1 with value: -0.599025.\n"
     ]
    },
    {
     "name": "stderr",
     "output_type": "stream",
     "text": [
      "[I 2025-05-15 18:13:33,382] Trial 5 pruned. Trial was pruned at iteration 1.\n"
     ]
    },
    {
     "name": "stderr",
     "output_type": "stream",
     "text": [
      "[I 2025-05-15 18:13:34,556] Trial 6 finished with value: -0.521905 and parameters: {'max_depth': 13, 'min_child_weight': 43, 'subsample': 0.1585464336867516, 'colsample_bynode': 0.9539969835279999, 'learning_rate': 0.4038423798071558}. Best is trial 1 with value: -0.599025.\n"
     ]
    },
    {
     "name": "stderr",
     "output_type": "stream",
     "text": [
      "[I 2025-05-15 18:13:34,702] Trial 7 pruned. Trial was pruned at iteration 0.\n"
     ]
    },
    {
     "name": "stderr",
     "output_type": "stream",
     "text": [
      "[I 2025-05-15 18:13:34,846] Trial 8 pruned. Trial was pruned at iteration 0.\n"
     ]
    },
    {
     "name": "stderr",
     "output_type": "stream",
     "text": [
      "[I 2025-05-15 18:13:35,035] Trial 9 pruned. Trial was pruned at iteration 1.\n"
     ]
    },
    {
     "name": "stderr",
     "output_type": "stream",
     "text": [
      "[I 2025-05-15 18:13:41,280] Trial 10 pruned. Trial was pruned at iteration 108.\n"
     ]
    },
    {
     "name": "stderr",
     "output_type": "stream",
     "text": [
      "[I 2025-05-15 18:13:46,294] Trial 11 finished with value: -0.586762 and parameters: {'max_depth': 11, 'min_child_weight': 3, 'subsample': 0.35229864280210643, 'colsample_bynode': 0.9522656887511343, 'learning_rate': 0.4085535814821633}. Best is trial 1 with value: -0.599025.\n"
     ]
    },
    {
     "name": "stderr",
     "output_type": "stream",
     "text": [
      "[I 2025-05-15 18:14:01,637] Trial 12 finished with value: -0.594415 and parameters: {'max_depth': 20, 'min_child_weight': 3, 'subsample': 0.3693916175642251, 'colsample_bynode': 0.8079926877007318, 'learning_rate': 0.08811282856865725}. Best is trial 1 with value: -0.599025.\n"
     ]
    },
    {
     "name": "stderr",
     "output_type": "stream",
     "text": [
      "[I 2025-05-15 18:14:01,797] Trial 13 pruned. Trial was pruned at iteration 0.\n"
     ]
    },
    {
     "name": "stderr",
     "output_type": "stream",
     "text": [
      "[I 2025-05-15 18:14:01,969] Trial 14 pruned. Trial was pruned at iteration 0.\n"
     ]
    },
    {
     "name": "stderr",
     "output_type": "stream",
     "text": [
      "[I 2025-05-15 18:14:20,607] Trial 15 pruned. Trial was pruned at iteration 82.\n"
     ]
    },
    {
     "name": "stderr",
     "output_type": "stream",
     "text": [
      "[I 2025-05-15 18:14:20,843] Trial 16 pruned. Trial was pruned at iteration 0.\n"
     ]
    },
    {
     "name": "stderr",
     "output_type": "stream",
     "text": [
      "[I 2025-05-15 18:14:21,023] Trial 17 pruned. Trial was pruned at iteration 0.\n"
     ]
    },
    {
     "name": "stderr",
     "output_type": "stream",
     "text": [
      "[I 2025-05-15 18:14:24,953] Trial 18 finished with value: -0.591951 and parameters: {'max_depth': 11, 'min_child_weight': 37, 'subsample': 0.47368595472697, 'colsample_bynode': 0.7202402406863758, 'learning_rate': 0.16384379577990202}. Best is trial 1 with value: -0.599025.\n"
     ]
    },
    {
     "name": "stderr",
     "output_type": "stream",
     "text": [
      "[I 2025-05-15 18:14:25,165] Trial 19 pruned. Trial was pruned at iteration 0.\n"
     ]
    },
    {
     "name": "stderr",
     "output_type": "stream",
     "text": [
      "[I 2025-05-15 18:14:29,903] Trial 20 pruned. Trial was pruned at iteration 123.\n"
     ]
    },
    {
     "name": "stderr",
     "output_type": "stream",
     "text": [
      "[I 2025-05-15 18:14:33,504] Trial 21 finished with value: -0.596877 and parameters: {'max_depth': 11, 'min_child_weight': 25, 'subsample': 0.47783721448580063, 'colsample_bynode': 0.709201395816767, 'learning_rate': 0.20901104055631745}. Best is trial 1 with value: -0.599025.\n"
     ]
    },
    {
     "name": "stderr",
     "output_type": "stream",
     "text": [
      "[I 2025-05-15 18:14:33,721] Trial 22 pruned. Trial was pruned at iteration 0.\n"
     ]
    },
    {
     "name": "stderr",
     "output_type": "stream",
     "text": [
      "[I 2025-05-15 18:14:35,815] Trial 23 pruned. Trial was pruned at iteration 32.\n"
     ]
    },
    {
     "name": "stderr",
     "output_type": "stream",
     "text": [
      "[I 2025-05-15 18:14:39,905] Trial 24 finished with value: -0.594292 and parameters: {'max_depth': 9, 'min_child_weight': 18, 'subsample': 0.28413276734322673, 'colsample_bynode': 0.5646018364042827, 'learning_rate': 0.2400268086028025}. Best is trial 1 with value: -0.599025.\n"
     ]
    },
    {
     "name": "stderr",
     "output_type": "stream",
     "text": [
      "[I 2025-05-15 18:14:40,105] Trial 25 pruned. Trial was pruned at iteration 0.\n"
     ]
    },
    {
     "name": "stderr",
     "output_type": "stream",
     "text": [
      "[I 2025-05-15 18:14:46,338] Trial 26 finished with value: -0.600209 and parameters: {'max_depth': 10, 'min_child_weight': 24, 'subsample': 0.4861251112150538, 'colsample_bynode': 0.8915507162992631, 'learning_rate': 0.11302262870839216}. Best is trial 26 with value: -0.600209.\n"
     ]
    },
    {
     "name": "stderr",
     "output_type": "stream",
     "text": [
      "[I 2025-05-15 18:14:46,545] Trial 27 pruned. Trial was pruned at iteration 0.\n"
     ]
    },
    {
     "name": "stderr",
     "output_type": "stream",
     "text": [
      "[I 2025-05-15 18:14:46,737] Trial 28 pruned. Trial was pruned at iteration 0.\n"
     ]
    },
    {
     "name": "stderr",
     "output_type": "stream",
     "text": [
      "[I 2025-05-15 18:14:46,935] Trial 29 pruned. Trial was pruned at iteration 0.\n"
     ]
    },
    {
     "name": "stderr",
     "output_type": "stream",
     "text": [
      "[I 2025-05-15 18:14:47,136] Trial 30 pruned. Trial was pruned at iteration 0.\n"
     ]
    },
    {
     "name": "stderr",
     "output_type": "stream",
     "text": [
      "[I 2025-05-15 18:14:47,362] Trial 31 pruned. Trial was pruned at iteration 0.\n"
     ]
    },
    {
     "name": "stderr",
     "output_type": "stream",
     "text": [
      "[I 2025-05-15 18:14:47,559] Trial 32 pruned. Trial was pruned at iteration 0.\n"
     ]
    },
    {
     "name": "stderr",
     "output_type": "stream",
     "text": [
      "[I 2025-05-15 18:14:48,870] Trial 33 pruned. Trial was pruned at iteration 14.\n"
     ]
    },
    {
     "name": "stderr",
     "output_type": "stream",
     "text": [
      "[I 2025-05-15 18:14:49,072] Trial 34 pruned. Trial was pruned at iteration 0.\n"
     ]
    },
    {
     "name": "stderr",
     "output_type": "stream",
     "text": [
      "[I 2025-05-15 18:14:49,278] Trial 35 pruned. Trial was pruned at iteration 0.\n"
     ]
    },
    {
     "name": "stderr",
     "output_type": "stream",
     "text": [
      "[I 2025-05-15 18:14:54,493] Trial 36 finished with value: -0.605021 and parameters: {'max_depth': 13, 'min_child_weight': 14, 'subsample': 0.9085345808118241, 'colsample_bynode': 0.5473336349037969, 'learning_rate': 0.3197121410994915}. Best is trial 36 with value: -0.605021.\n"
     ]
    },
    {
     "name": "stderr",
     "output_type": "stream",
     "text": [
      "[I 2025-05-15 18:14:56,945] Trial 37 finished with value: -0.600247 and parameters: {'max_depth': 13, 'min_child_weight': 44, 'subsample': 0.8738954092841034, 'colsample_bynode': 0.40961683460745113, 'learning_rate': 0.31546529071462903}. Best is trial 36 with value: -0.605021.\n"
     ]
    },
    {
     "name": "stderr",
     "output_type": "stream",
     "text": [
      "[I 2025-05-15 18:14:59,475] Trial 38 finished with value: -0.603877 and parameters: {'max_depth': 13, 'min_child_weight': 50, 'subsample': 0.9134710371310861, 'colsample_bynode': 0.3921425737608222, 'learning_rate': 0.3214570500315046}. Best is trial 36 with value: -0.605021.\n"
     ]
    },
    {
     "name": "stderr",
     "output_type": "stream",
     "text": [
      "[I 2025-05-15 18:14:59,669] Trial 39 pruned. Trial was pruned at iteration 0.\n"
     ]
    },
    {
     "name": "stderr",
     "output_type": "stream",
     "text": [
      "[I 2025-05-15 18:14:59,880] Trial 40 pruned. Trial was pruned at iteration 0.\n"
     ]
    },
    {
     "name": "stderr",
     "output_type": "stream",
     "text": [
      "[I 2025-05-15 18:15:00,105] Trial 41 pruned. Trial was pruned at iteration 0.\n"
     ]
    },
    {
     "name": "stderr",
     "output_type": "stream",
     "text": [
      "[I 2025-05-15 18:15:00,615] Trial 42 pruned. Trial was pruned at iteration 7.\n"
     ]
    },
    {
     "name": "stderr",
     "output_type": "stream",
     "text": [
      "[I 2025-05-15 18:15:00,840] Trial 43 pruned. Trial was pruned at iteration 0.\n"
     ]
    },
    {
     "name": "stderr",
     "output_type": "stream",
     "text": [
      "[I 2025-05-15 18:15:04,590] Trial 44 finished with value: -0.600701 and parameters: {'max_depth': 12, 'min_child_weight': 14, 'subsample': 0.8827637606610695, 'colsample_bynode': 0.26888341312349273, 'learning_rate': 0.3111326273700563}. Best is trial 36 with value: -0.605021.\n"
     ]
    },
    {
     "name": "stderr",
     "output_type": "stream",
     "text": [
      "[I 2025-05-15 18:15:08,097] Trial 45 finished with value: -0.599005 and parameters: {'max_depth': 12, 'min_child_weight': 12, 'subsample': 0.9603824741665455, 'colsample_bynode': 0.2528946804344151, 'learning_rate': 0.301311117512766}. Best is trial 36 with value: -0.605021.\n"
     ]
    },
    {
     "name": "stderr",
     "output_type": "stream",
     "text": [
      "[I 2025-05-15 18:15:08,328] Trial 46 pruned. Trial was pruned at iteration 0.\n"
     ]
    },
    {
     "name": "stderr",
     "output_type": "stream",
     "text": [
      "[I 2025-05-15 18:15:11,740] Trial 47 finished with value: -0.602177 and parameters: {'max_depth': 13, 'min_child_weight': 14, 'subsample': 0.7970899720451238, 'colsample_bynode': 0.37533710519499486, 'learning_rate': 0.34337119505036723}. Best is trial 36 with value: -0.605021.\n"
     ]
    },
    {
     "name": "stderr",
     "output_type": "stream",
     "text": [
      "[I 2025-05-15 18:15:16,059] Trial 48 finished with value: -0.601346 and parameters: {'max_depth': 16, 'min_child_weight': 13, 'subsample': 0.80558984069712, 'colsample_bynode': 0.34730809715191174, 'learning_rate': 0.34780486150781964}. Best is trial 36 with value: -0.605021.\n"
     ]
    },
    {
     "name": "stderr",
     "output_type": "stream",
     "text": [
      "[I 2025-05-15 18:15:16,287] Trial 49 pruned. Trial was pruned at iteration 0.\n"
     ]
    }
   ],
   "source": [
    "sampler = optuna.samplers.TPESampler(seed=42)\n",
    "study = optuna.create_study(direction='minimize', sampler=sampler)\n",
    "study.optimize(objective, n_trials=N_TRIALS, gc_after_trial=True)"
   ]
  },
  {
   "cell_type": "code",
   "execution_count": 20,
   "id": "83bcadd8",
   "metadata": {
    "execution": {
     "iopub.execute_input": "2025-05-15T16:15:16.409243Z",
     "iopub.status.busy": "2025-05-15T16:15:16.409023Z",
     "iopub.status.idle": "2025-05-15T16:15:16.432508Z",
     "shell.execute_reply": "2025-05-15T16:15:16.432202Z"
    },
    "papermill": {
     "duration": 0.032812,
     "end_time": "2025-05-15T16:15:16.433362",
     "exception": false,
     "start_time": "2025-05-15T16:15:16.400550",
     "status": "completed"
    },
    "tags": []
   },
   "outputs": [
    {
     "data": {
      "text/plain": [
       "['/scratch_isilon/groups/singlecell/shared/projects/Inflammation-PBMCs-Atlas/03_downstream_analysis/08_gene_importance/xgboost_external_validation/xgboost_TopN_genes/results_20/study/UTC_17_1_xgboost.pkl']"
      ]
     },
     "execution_count": 20,
     "metadata": {},
     "output_type": "execute_result"
    }
   ],
   "source": [
    "out_dir = here(f'03_downstream_analysis/08_gene_importance/xgboost_external_validation/xgboost_TopN_genes/results_{N_GENES}/study')\n",
    "\n",
    "if not os.path.exists(out_dir):\n",
    "    os.makedirs(out_dir)\n",
    "    \n",
    "joblib.dump(study,os.path.join(out_dir, f'{CELL_TYPE}_{SEED}_{TEST_SPLIT_IDX}_xgboost.pkl'))"
   ]
  },
  {
   "cell_type": "code",
   "execution_count": 21,
   "id": "6494f508",
   "metadata": {
    "execution": {
     "iopub.execute_input": "2025-05-15T16:15:16.450605Z",
     "iopub.status.busy": "2025-05-15T16:15:16.450322Z",
     "iopub.status.idle": "2025-05-15T16:15:21.854479Z",
     "shell.execute_reply": "2025-05-15T16:15:21.854119Z"
    },
    "papermill": {
     "duration": 5.414057,
     "end_time": "2025-05-15T16:15:21.855422",
     "exception": false,
     "start_time": "2025-05-15T16:15:16.441365",
     "status": "completed"
    },
    "tags": []
   },
   "outputs": [
    {
     "data": {
      "text/html": [
       "<style>#sk-container-id-1 {\n",
       "  /* Definition of color scheme common for light and dark mode */\n",
       "  --sklearn-color-text: black;\n",
       "  --sklearn-color-line: gray;\n",
       "  /* Definition of color scheme for unfitted estimators */\n",
       "  --sklearn-color-unfitted-level-0: #fff5e6;\n",
       "  --sklearn-color-unfitted-level-1: #f6e4d2;\n",
       "  --sklearn-color-unfitted-level-2: #ffe0b3;\n",
       "  --sklearn-color-unfitted-level-3: chocolate;\n",
       "  /* Definition of color scheme for fitted estimators */\n",
       "  --sklearn-color-fitted-level-0: #f0f8ff;\n",
       "  --sklearn-color-fitted-level-1: #d4ebff;\n",
       "  --sklearn-color-fitted-level-2: #b3dbfd;\n",
       "  --sklearn-color-fitted-level-3: cornflowerblue;\n",
       "\n",
       "  /* Specific color for light theme */\n",
       "  --sklearn-color-text-on-default-background: var(--sg-text-color, var(--theme-code-foreground, var(--jp-content-font-color1, black)));\n",
       "  --sklearn-color-background: var(--sg-background-color, var(--theme-background, var(--jp-layout-color0, white)));\n",
       "  --sklearn-color-border-box: var(--sg-text-color, var(--theme-code-foreground, var(--jp-content-font-color1, black)));\n",
       "  --sklearn-color-icon: #696969;\n",
       "\n",
       "  @media (prefers-color-scheme: dark) {\n",
       "    /* Redefinition of color scheme for dark theme */\n",
       "    --sklearn-color-text-on-default-background: var(--sg-text-color, var(--theme-code-foreground, var(--jp-content-font-color1, white)));\n",
       "    --sklearn-color-background: var(--sg-background-color, var(--theme-background, var(--jp-layout-color0, #111)));\n",
       "    --sklearn-color-border-box: var(--sg-text-color, var(--theme-code-foreground, var(--jp-content-font-color1, white)));\n",
       "    --sklearn-color-icon: #878787;\n",
       "  }\n",
       "}\n",
       "\n",
       "#sk-container-id-1 {\n",
       "  color: var(--sklearn-color-text);\n",
       "}\n",
       "\n",
       "#sk-container-id-1 pre {\n",
       "  padding: 0;\n",
       "}\n",
       "\n",
       "#sk-container-id-1 input.sk-hidden--visually {\n",
       "  border: 0;\n",
       "  clip: rect(1px 1px 1px 1px);\n",
       "  clip: rect(1px, 1px, 1px, 1px);\n",
       "  height: 1px;\n",
       "  margin: -1px;\n",
       "  overflow: hidden;\n",
       "  padding: 0;\n",
       "  position: absolute;\n",
       "  width: 1px;\n",
       "}\n",
       "\n",
       "#sk-container-id-1 div.sk-dashed-wrapped {\n",
       "  border: 1px dashed var(--sklearn-color-line);\n",
       "  margin: 0 0.4em 0.5em 0.4em;\n",
       "  box-sizing: border-box;\n",
       "  padding-bottom: 0.4em;\n",
       "  background-color: var(--sklearn-color-background);\n",
       "}\n",
       "\n",
       "#sk-container-id-1 div.sk-container {\n",
       "  /* jupyter's `normalize.less` sets `[hidden] { display: none; }`\n",
       "     but bootstrap.min.css set `[hidden] { display: none !important; }`\n",
       "     so we also need the `!important` here to be able to override the\n",
       "     default hidden behavior on the sphinx rendered scikit-learn.org.\n",
       "     See: https://github.com/scikit-learn/scikit-learn/issues/21755 */\n",
       "  display: inline-block !important;\n",
       "  position: relative;\n",
       "}\n",
       "\n",
       "#sk-container-id-1 div.sk-text-repr-fallback {\n",
       "  display: none;\n",
       "}\n",
       "\n",
       "div.sk-parallel-item,\n",
       "div.sk-serial,\n",
       "div.sk-item {\n",
       "  /* draw centered vertical line to link estimators */\n",
       "  background-image: linear-gradient(var(--sklearn-color-text-on-default-background), var(--sklearn-color-text-on-default-background));\n",
       "  background-size: 2px 100%;\n",
       "  background-repeat: no-repeat;\n",
       "  background-position: center center;\n",
       "}\n",
       "\n",
       "/* Parallel-specific style estimator block */\n",
       "\n",
       "#sk-container-id-1 div.sk-parallel-item::after {\n",
       "  content: \"\";\n",
       "  width: 100%;\n",
       "  border-bottom: 2px solid var(--sklearn-color-text-on-default-background);\n",
       "  flex-grow: 1;\n",
       "}\n",
       "\n",
       "#sk-container-id-1 div.sk-parallel {\n",
       "  display: flex;\n",
       "  align-items: stretch;\n",
       "  justify-content: center;\n",
       "  background-color: var(--sklearn-color-background);\n",
       "  position: relative;\n",
       "}\n",
       "\n",
       "#sk-container-id-1 div.sk-parallel-item {\n",
       "  display: flex;\n",
       "  flex-direction: column;\n",
       "}\n",
       "\n",
       "#sk-container-id-1 div.sk-parallel-item:first-child::after {\n",
       "  align-self: flex-end;\n",
       "  width: 50%;\n",
       "}\n",
       "\n",
       "#sk-container-id-1 div.sk-parallel-item:last-child::after {\n",
       "  align-self: flex-start;\n",
       "  width: 50%;\n",
       "}\n",
       "\n",
       "#sk-container-id-1 div.sk-parallel-item:only-child::after {\n",
       "  width: 0;\n",
       "}\n",
       "\n",
       "/* Serial-specific style estimator block */\n",
       "\n",
       "#sk-container-id-1 div.sk-serial {\n",
       "  display: flex;\n",
       "  flex-direction: column;\n",
       "  align-items: center;\n",
       "  background-color: var(--sklearn-color-background);\n",
       "  padding-right: 1em;\n",
       "  padding-left: 1em;\n",
       "}\n",
       "\n",
       "\n",
       "/* Toggleable style: style used for estimator/Pipeline/ColumnTransformer box that is\n",
       "clickable and can be expanded/collapsed.\n",
       "- Pipeline and ColumnTransformer use this feature and define the default style\n",
       "- Estimators will overwrite some part of the style using the `sk-estimator` class\n",
       "*/\n",
       "\n",
       "/* Pipeline and ColumnTransformer style (default) */\n",
       "\n",
       "#sk-container-id-1 div.sk-toggleable {\n",
       "  /* Default theme specific background. It is overwritten whether we have a\n",
       "  specific estimator or a Pipeline/ColumnTransformer */\n",
       "  background-color: var(--sklearn-color-background);\n",
       "}\n",
       "\n",
       "/* Toggleable label */\n",
       "#sk-container-id-1 label.sk-toggleable__label {\n",
       "  cursor: pointer;\n",
       "  display: block;\n",
       "  width: 100%;\n",
       "  margin-bottom: 0;\n",
       "  padding: 0.5em;\n",
       "  box-sizing: border-box;\n",
       "  text-align: center;\n",
       "}\n",
       "\n",
       "#sk-container-id-1 label.sk-toggleable__label-arrow:before {\n",
       "  /* Arrow on the left of the label */\n",
       "  content: \"▸\";\n",
       "  float: left;\n",
       "  margin-right: 0.25em;\n",
       "  color: var(--sklearn-color-icon);\n",
       "}\n",
       "\n",
       "#sk-container-id-1 label.sk-toggleable__label-arrow:hover:before {\n",
       "  color: var(--sklearn-color-text);\n",
       "}\n",
       "\n",
       "/* Toggleable content - dropdown */\n",
       "\n",
       "#sk-container-id-1 div.sk-toggleable__content {\n",
       "  max-height: 0;\n",
       "  max-width: 0;\n",
       "  overflow: hidden;\n",
       "  text-align: left;\n",
       "  /* unfitted */\n",
       "  background-color: var(--sklearn-color-unfitted-level-0);\n",
       "}\n",
       "\n",
       "#sk-container-id-1 div.sk-toggleable__content.fitted {\n",
       "  /* fitted */\n",
       "  background-color: var(--sklearn-color-fitted-level-0);\n",
       "}\n",
       "\n",
       "#sk-container-id-1 div.sk-toggleable__content pre {\n",
       "  margin: 0.2em;\n",
       "  border-radius: 0.25em;\n",
       "  color: var(--sklearn-color-text);\n",
       "  /* unfitted */\n",
       "  background-color: var(--sklearn-color-unfitted-level-0);\n",
       "}\n",
       "\n",
       "#sk-container-id-1 div.sk-toggleable__content.fitted pre {\n",
       "  /* unfitted */\n",
       "  background-color: var(--sklearn-color-fitted-level-0);\n",
       "}\n",
       "\n",
       "#sk-container-id-1 input.sk-toggleable__control:checked~div.sk-toggleable__content {\n",
       "  /* Expand drop-down */\n",
       "  max-height: 200px;\n",
       "  max-width: 100%;\n",
       "  overflow: auto;\n",
       "}\n",
       "\n",
       "#sk-container-id-1 input.sk-toggleable__control:checked~label.sk-toggleable__label-arrow:before {\n",
       "  content: \"▾\";\n",
       "}\n",
       "\n",
       "/* Pipeline/ColumnTransformer-specific style */\n",
       "\n",
       "#sk-container-id-1 div.sk-label input.sk-toggleable__control:checked~label.sk-toggleable__label {\n",
       "  color: var(--sklearn-color-text);\n",
       "  background-color: var(--sklearn-color-unfitted-level-2);\n",
       "}\n",
       "\n",
       "#sk-container-id-1 div.sk-label.fitted input.sk-toggleable__control:checked~label.sk-toggleable__label {\n",
       "  background-color: var(--sklearn-color-fitted-level-2);\n",
       "}\n",
       "\n",
       "/* Estimator-specific style */\n",
       "\n",
       "/* Colorize estimator box */\n",
       "#sk-container-id-1 div.sk-estimator input.sk-toggleable__control:checked~label.sk-toggleable__label {\n",
       "  /* unfitted */\n",
       "  background-color: var(--sklearn-color-unfitted-level-2);\n",
       "}\n",
       "\n",
       "#sk-container-id-1 div.sk-estimator.fitted input.sk-toggleable__control:checked~label.sk-toggleable__label {\n",
       "  /* fitted */\n",
       "  background-color: var(--sklearn-color-fitted-level-2);\n",
       "}\n",
       "\n",
       "#sk-container-id-1 div.sk-label label.sk-toggleable__label,\n",
       "#sk-container-id-1 div.sk-label label {\n",
       "  /* The background is the default theme color */\n",
       "  color: var(--sklearn-color-text-on-default-background);\n",
       "}\n",
       "\n",
       "/* On hover, darken the color of the background */\n",
       "#sk-container-id-1 div.sk-label:hover label.sk-toggleable__label {\n",
       "  color: var(--sklearn-color-text);\n",
       "  background-color: var(--sklearn-color-unfitted-level-2);\n",
       "}\n",
       "\n",
       "/* Label box, darken color on hover, fitted */\n",
       "#sk-container-id-1 div.sk-label.fitted:hover label.sk-toggleable__label.fitted {\n",
       "  color: var(--sklearn-color-text);\n",
       "  background-color: var(--sklearn-color-fitted-level-2);\n",
       "}\n",
       "\n",
       "/* Estimator label */\n",
       "\n",
       "#sk-container-id-1 div.sk-label label {\n",
       "  font-family: monospace;\n",
       "  font-weight: bold;\n",
       "  display: inline-block;\n",
       "  line-height: 1.2em;\n",
       "}\n",
       "\n",
       "#sk-container-id-1 div.sk-label-container {\n",
       "  text-align: center;\n",
       "}\n",
       "\n",
       "/* Estimator-specific */\n",
       "#sk-container-id-1 div.sk-estimator {\n",
       "  font-family: monospace;\n",
       "  border: 1px dotted var(--sklearn-color-border-box);\n",
       "  border-radius: 0.25em;\n",
       "  box-sizing: border-box;\n",
       "  margin-bottom: 0.5em;\n",
       "  /* unfitted */\n",
       "  background-color: var(--sklearn-color-unfitted-level-0);\n",
       "}\n",
       "\n",
       "#sk-container-id-1 div.sk-estimator.fitted {\n",
       "  /* fitted */\n",
       "  background-color: var(--sklearn-color-fitted-level-0);\n",
       "}\n",
       "\n",
       "/* on hover */\n",
       "#sk-container-id-1 div.sk-estimator:hover {\n",
       "  /* unfitted */\n",
       "  background-color: var(--sklearn-color-unfitted-level-2);\n",
       "}\n",
       "\n",
       "#sk-container-id-1 div.sk-estimator.fitted:hover {\n",
       "  /* fitted */\n",
       "  background-color: var(--sklearn-color-fitted-level-2);\n",
       "}\n",
       "\n",
       "/* Specification for estimator info (e.g. \"i\" and \"?\") */\n",
       "\n",
       "/* Common style for \"i\" and \"?\" */\n",
       "\n",
       ".sk-estimator-doc-link,\n",
       "a:link.sk-estimator-doc-link,\n",
       "a:visited.sk-estimator-doc-link {\n",
       "  float: right;\n",
       "  font-size: smaller;\n",
       "  line-height: 1em;\n",
       "  font-family: monospace;\n",
       "  background-color: var(--sklearn-color-background);\n",
       "  border-radius: 1em;\n",
       "  height: 1em;\n",
       "  width: 1em;\n",
       "  text-decoration: none !important;\n",
       "  margin-left: 1ex;\n",
       "  /* unfitted */\n",
       "  border: var(--sklearn-color-unfitted-level-1) 1pt solid;\n",
       "  color: var(--sklearn-color-unfitted-level-1);\n",
       "}\n",
       "\n",
       ".sk-estimator-doc-link.fitted,\n",
       "a:link.sk-estimator-doc-link.fitted,\n",
       "a:visited.sk-estimator-doc-link.fitted {\n",
       "  /* fitted */\n",
       "  border: var(--sklearn-color-fitted-level-1) 1pt solid;\n",
       "  color: var(--sklearn-color-fitted-level-1);\n",
       "}\n",
       "\n",
       "/* On hover */\n",
       "div.sk-estimator:hover .sk-estimator-doc-link:hover,\n",
       ".sk-estimator-doc-link:hover,\n",
       "div.sk-label-container:hover .sk-estimator-doc-link:hover,\n",
       ".sk-estimator-doc-link:hover {\n",
       "  /* unfitted */\n",
       "  background-color: var(--sklearn-color-unfitted-level-3);\n",
       "  color: var(--sklearn-color-background);\n",
       "  text-decoration: none;\n",
       "}\n",
       "\n",
       "div.sk-estimator.fitted:hover .sk-estimator-doc-link.fitted:hover,\n",
       ".sk-estimator-doc-link.fitted:hover,\n",
       "div.sk-label-container:hover .sk-estimator-doc-link.fitted:hover,\n",
       ".sk-estimator-doc-link.fitted:hover {\n",
       "  /* fitted */\n",
       "  background-color: var(--sklearn-color-fitted-level-3);\n",
       "  color: var(--sklearn-color-background);\n",
       "  text-decoration: none;\n",
       "}\n",
       "\n",
       "/* Span, style for the box shown on hovering the info icon */\n",
       ".sk-estimator-doc-link span {\n",
       "  display: none;\n",
       "  z-index: 9999;\n",
       "  position: relative;\n",
       "  font-weight: normal;\n",
       "  right: .2ex;\n",
       "  padding: .5ex;\n",
       "  margin: .5ex;\n",
       "  width: min-content;\n",
       "  min-width: 20ex;\n",
       "  max-width: 50ex;\n",
       "  color: var(--sklearn-color-text);\n",
       "  box-shadow: 2pt 2pt 4pt #999;\n",
       "  /* unfitted */\n",
       "  background: var(--sklearn-color-unfitted-level-0);\n",
       "  border: .5pt solid var(--sklearn-color-unfitted-level-3);\n",
       "}\n",
       "\n",
       ".sk-estimator-doc-link.fitted span {\n",
       "  /* fitted */\n",
       "  background: var(--sklearn-color-fitted-level-0);\n",
       "  border: var(--sklearn-color-fitted-level-3);\n",
       "}\n",
       "\n",
       ".sk-estimator-doc-link:hover span {\n",
       "  display: block;\n",
       "}\n",
       "\n",
       "/* \"?\"-specific style due to the `<a>` HTML tag */\n",
       "\n",
       "#sk-container-id-1 a.estimator_doc_link {\n",
       "  float: right;\n",
       "  font-size: 1rem;\n",
       "  line-height: 1em;\n",
       "  font-family: monospace;\n",
       "  background-color: var(--sklearn-color-background);\n",
       "  border-radius: 1rem;\n",
       "  height: 1rem;\n",
       "  width: 1rem;\n",
       "  text-decoration: none;\n",
       "  /* unfitted */\n",
       "  color: var(--sklearn-color-unfitted-level-1);\n",
       "  border: var(--sklearn-color-unfitted-level-1) 1pt solid;\n",
       "}\n",
       "\n",
       "#sk-container-id-1 a.estimator_doc_link.fitted {\n",
       "  /* fitted */\n",
       "  border: var(--sklearn-color-fitted-level-1) 1pt solid;\n",
       "  color: var(--sklearn-color-fitted-level-1);\n",
       "}\n",
       "\n",
       "/* On hover */\n",
       "#sk-container-id-1 a.estimator_doc_link:hover {\n",
       "  /* unfitted */\n",
       "  background-color: var(--sklearn-color-unfitted-level-3);\n",
       "  color: var(--sklearn-color-background);\n",
       "  text-decoration: none;\n",
       "}\n",
       "\n",
       "#sk-container-id-1 a.estimator_doc_link.fitted:hover {\n",
       "  /* fitted */\n",
       "  background-color: var(--sklearn-color-fitted-level-3);\n",
       "}\n",
       "</style><div id=\"sk-container-id-1\" class=\"sk-top-container\"><div class=\"sk-text-repr-fallback\"><pre>XGBClassifier(base_score=None, booster=None, callbacks=None,\n",
       "              colsample_bylevel=None, colsample_bynode=0.5473336349037969,\n",
       "              colsample_bytree=None, device=None, early_stopping_rounds=None,\n",
       "              enable_categorical=False,\n",
       "              eval_metric=&lt;function custom_f1_score at 0x7f166ad13ce0&gt;,\n",
       "              feature_types=None, gamma=None, grow_policy=None,\n",
       "              importance_type=None, interaction_constraints=None,\n",
       "              learning_rate=0.3197121410994915, max_bin=None,\n",
       "              max_cat_threshold=None, max_cat_to_onehot=None,\n",
       "              max_delta_step=None, max_depth=13, max_leaves=None,\n",
       "              min_child_weight=14, missing=nan, monotone_constraints=None,\n",
       "              multi_strategy=None, n_estimators=102, n_jobs=None,\n",
       "              num_parallel_tree=None, objective=&#x27;multi:softprob&#x27;, ...)</pre><b>In a Jupyter environment, please rerun this cell to show the HTML representation or trust the notebook. <br />On GitHub, the HTML representation is unable to render, please try loading this page with nbviewer.org.</b></div><div class=\"sk-container\" hidden><div class=\"sk-item\"><div class=\"sk-estimator fitted sk-toggleable\"><input class=\"sk-toggleable__control sk-hidden--visually\" id=\"sk-estimator-id-1\" type=\"checkbox\" checked><label for=\"sk-estimator-id-1\" class=\"sk-toggleable__label fitted sk-toggleable__label-arrow fitted\">&nbsp;XGBClassifier<span class=\"sk-estimator-doc-link fitted\">i<span>Fitted</span></span></label><div class=\"sk-toggleable__content fitted\"><pre>XGBClassifier(base_score=None, booster=None, callbacks=None,\n",
       "              colsample_bylevel=None, colsample_bynode=0.5473336349037969,\n",
       "              colsample_bytree=None, device=None, early_stopping_rounds=None,\n",
       "              enable_categorical=False,\n",
       "              eval_metric=&lt;function custom_f1_score at 0x7f166ad13ce0&gt;,\n",
       "              feature_types=None, gamma=None, grow_policy=None,\n",
       "              importance_type=None, interaction_constraints=None,\n",
       "              learning_rate=0.3197121410994915, max_bin=None,\n",
       "              max_cat_threshold=None, max_cat_to_onehot=None,\n",
       "              max_delta_step=None, max_depth=13, max_leaves=None,\n",
       "              min_child_weight=14, missing=nan, monotone_constraints=None,\n",
       "              multi_strategy=None, n_estimators=102, n_jobs=None,\n",
       "              num_parallel_tree=None, objective=&#x27;multi:softprob&#x27;, ...)</pre></div> </div></div></div></div>"
      ],
      "text/plain": [
       "XGBClassifier(base_score=None, booster=None, callbacks=None,\n",
       "              colsample_bylevel=None, colsample_bynode=0.5473336349037969,\n",
       "              colsample_bytree=None, device=None, early_stopping_rounds=None,\n",
       "              enable_categorical=False,\n",
       "              eval_metric=<function custom_f1_score at 0x7f166ad13ce0>,\n",
       "              feature_types=None, gamma=None, grow_policy=None,\n",
       "              importance_type=None, interaction_constraints=None,\n",
       "              learning_rate=0.3197121410994915, max_bin=None,\n",
       "              max_cat_threshold=None, max_cat_to_onehot=None,\n",
       "              max_delta_step=None, max_depth=13, max_leaves=None,\n",
       "              min_child_weight=14, missing=nan, monotone_constraints=None,\n",
       "              multi_strategy=None, n_estimators=102, n_jobs=None,\n",
       "              num_parallel_tree=None, objective='multi:softprob', ...)"
      ]
     },
     "execution_count": 21,
     "metadata": {},
     "output_type": "execute_result"
    }
   ],
   "source": [
    "n_estimators = int(study.best_trial.user_attrs['best_iteration']*1.2)\n",
    "xgb = xgboost.XGBClassifier(\n",
    "        eval_metric=eval_metric,\n",
    "        n_estimators=n_estimators,\n",
    "        **study.best_trial.params\n",
    "    )\n",
    "xgb.fit(\n",
    "    ssp.vstack((X_train, X_val)), \n",
    "    np.concatenate((y_train_enc, y_val_enc)),\n",
    "    verbose=1,\n",
    ")"
   ]
  },
  {
   "cell_type": "code",
   "execution_count": 22,
   "id": "afb05576",
   "metadata": {
    "execution": {
     "iopub.execute_input": "2025-05-15T16:15:21.876117Z",
     "iopub.status.busy": "2025-05-15T16:15:21.875848Z",
     "iopub.status.idle": "2025-05-15T16:15:21.938190Z",
     "shell.execute_reply": "2025-05-15T16:15:21.937824Z"
    },
    "papermill": {
     "duration": 0.072836,
     "end_time": "2025-05-15T16:15:21.939094",
     "exception": false,
     "start_time": "2025-05-15T16:15:21.866258",
     "status": "completed"
    },
    "tags": []
   },
   "outputs": [
    {
     "data": {
      "text/plain": [
       "['/scratch_isilon/groups/singlecell/shared/projects/Inflammation-PBMCs-Atlas/03_downstream_analysis/08_gene_importance/xgboost_external_validation/xgboost_TopN_genes/results_20/best_model/UTC_17_1_xgb.json']"
      ]
     },
     "execution_count": 22,
     "metadata": {},
     "output_type": "execute_result"
    }
   ],
   "source": [
    "out_dir = here(f'03_downstream_analysis/08_gene_importance/xgboost_external_validation/xgboost_TopN_genes/results_{N_GENES}/best_model')\n",
    "\n",
    "if not os.path.exists(out_dir):\n",
    "    os.makedirs(out_dir)\n",
    "    \n",
    "joblib.dump(xgb, os.path.join(out_dir, f'{CELL_TYPE}_{SEED}_{TEST_SPLIT_IDX}_xgb.json'))"
   ]
  },
  {
   "cell_type": "code",
   "execution_count": 23,
   "id": "23ee4916",
   "metadata": {
    "execution": {
     "iopub.execute_input": "2025-05-15T16:15:21.957270Z",
     "iopub.status.busy": "2025-05-15T16:15:21.956996Z",
     "iopub.status.idle": "2025-05-15T16:15:22.009508Z",
     "shell.execute_reply": "2025-05-15T16:15:22.009192Z"
    },
    "papermill": {
     "duration": 0.062265,
     "end_time": "2025-05-15T16:15:22.010399",
     "exception": false,
     "start_time": "2025-05-15T16:15:21.948134",
     "status": "completed"
    },
    "tags": []
   },
   "outputs": [],
   "source": [
    "df_pred_test = pd.DataFrame(dict(\n",
    "    cell_id=train_adata.obs.iloc[test_idxs].index.values,\n",
    "    y_true=y_test, \n",
    "    y_true_code=y_test_enc, \n",
    "    y_pred=xgb.predict(X_test))).set_index('cell_id')"
   ]
  },
  {
   "cell_type": "code",
   "execution_count": 24,
   "id": "e2a310f2",
   "metadata": {
    "execution": {
     "iopub.execute_input": "2025-05-15T16:15:22.055010Z",
     "iopub.status.busy": "2025-05-15T16:15:22.054723Z",
     "iopub.status.idle": "2025-05-15T16:15:22.167963Z",
     "shell.execute_reply": "2025-05-15T16:15:22.167643Z"
    },
    "papermill": {
     "duration": 0.149741,
     "end_time": "2025-05-15T16:15:22.168844",
     "exception": false,
     "start_time": "2025-05-15T16:15:22.019103",
     "status": "completed"
    },
    "tags": []
   },
   "outputs": [],
   "source": [
    "out_dir = here(f'03_downstream_analysis/08_gene_importance/xgboost_external_validation/xgboost_TopN_genes/results_{N_GENES}/predictions')\n",
    "\n",
    "if not os.path.exists(out_dir):\n",
    "    os.makedirs(out_dir)\n",
    "    \n",
    "df_pred_test.to_csv(os.path.join(out_dir, f'{CELL_TYPE}_{SEED}_{TEST_SPLIT_IDX}_pred_test.zip'))"
   ]
  },
  {
   "cell_type": "code",
   "execution_count": 25,
   "id": "fa7bc85a",
   "metadata": {
    "execution": {
     "iopub.execute_input": "2025-05-15T16:15:22.187333Z",
     "iopub.status.busy": "2025-05-15T16:15:22.187090Z",
     "iopub.status.idle": "2025-05-15T16:15:22.193515Z",
     "shell.execute_reply": "2025-05-15T16:15:22.193212Z"
    },
    "papermill": {
     "duration": 0.015996,
     "end_time": "2025-05-15T16:15:22.194372",
     "exception": false,
     "start_time": "2025-05-15T16:15:22.178376",
     "status": "completed"
    },
    "tags": []
   },
   "outputs": [],
   "source": [
    "metrics_dict = dict(\n",
    "    BAS=balanced_accuracy_score(y_true=df_pred_test.y_true_code, y_pred=df_pred_test.y_pred), WF1=f1_score(y_true=df_pred_test.y_true_code, y_pred=df_pred_test.y_pred,average='weighted'))"
   ]
  },
  {
   "cell_type": "code",
   "execution_count": 26,
   "id": "9f18dab1",
   "metadata": {
    "execution": {
     "iopub.execute_input": "2025-05-15T16:15:22.216444Z",
     "iopub.status.busy": "2025-05-15T16:15:22.215853Z",
     "iopub.status.idle": "2025-05-15T16:15:22.219069Z",
     "shell.execute_reply": "2025-05-15T16:15:22.218748Z"
    },
    "papermill": {
     "duration": 0.017145,
     "end_time": "2025-05-15T16:15:22.219883",
     "exception": false,
     "start_time": "2025-05-15T16:15:22.202738",
     "status": "completed"
    },
    "tags": []
   },
   "outputs": [
    {
     "data": {
      "text/plain": [
       "{'BAS': 0.4469535813613066, 'WF1': 0.7549818733887551}"
      ]
     },
     "execution_count": 26,
     "metadata": {},
     "output_type": "execute_result"
    }
   ],
   "source": [
    "metrics_dict"
   ]
  },
  {
   "cell_type": "code",
   "execution_count": 27,
   "id": "8871b2d4",
   "metadata": {
    "execution": {
     "iopub.execute_input": "2025-05-15T16:15:22.239151Z",
     "iopub.status.busy": "2025-05-15T16:15:22.238813Z",
     "iopub.status.idle": "2025-05-15T16:15:22.247248Z",
     "shell.execute_reply": "2025-05-15T16:15:22.246942Z"
    },
    "papermill": {
     "duration": 0.018294,
     "end_time": "2025-05-15T16:15:22.248094",
     "exception": false,
     "start_time": "2025-05-15T16:15:22.229800",
     "status": "completed"
    },
    "tags": []
   },
   "outputs": [
    {
     "data": {
      "text/html": [
       "<div>\n",
       "<style scoped>\n",
       "    .dataframe tbody tr th:only-of-type {\n",
       "        vertical-align: middle;\n",
       "    }\n",
       "\n",
       "    .dataframe tbody tr th {\n",
       "        vertical-align: top;\n",
       "    }\n",
       "\n",
       "    .dataframe thead th {\n",
       "        text-align: right;\n",
       "    }\n",
       "</style>\n",
       "<table border=\"1\" class=\"dataframe\">\n",
       "  <thead>\n",
       "    <tr style=\"text-align: right;\">\n",
       "      <th></th>\n",
       "      <th>BAS</th>\n",
       "      <th>WF1</th>\n",
       "      <th>split_idx</th>\n",
       "      <th>gene_set_seed</th>\n",
       "      <th>cell_type</th>\n",
       "    </tr>\n",
       "  </thead>\n",
       "  <tbody>\n",
       "    <tr>\n",
       "      <th>0</th>\n",
       "      <td>0.446954</td>\n",
       "      <td>0.754982</td>\n",
       "      <td>1</td>\n",
       "      <td>17</td>\n",
       "      <td>UTC</td>\n",
       "    </tr>\n",
       "  </tbody>\n",
       "</table>\n",
       "</div>"
      ],
      "text/plain": [
       "        BAS       WF1  split_idx  gene_set_seed cell_type\n",
       "0  0.446954  0.754982          1             17       UTC"
      ]
     },
     "execution_count": 27,
     "metadata": {},
     "output_type": "execute_result"
    }
   ],
   "source": [
    "metrics_df = pd.DataFrame.from_dict([metrics_dict]).assign(split_idx=TEST_SPLIT_IDX, gene_set_seed=SEED, cell_type=CELL_TYPE)\n",
    "metrics_df"
   ]
  },
  {
   "cell_type": "code",
   "execution_count": 28,
   "id": "17584409",
   "metadata": {
    "execution": {
     "iopub.execute_input": "2025-05-15T16:15:22.266197Z",
     "iopub.status.busy": "2025-05-15T16:15:22.265951Z",
     "iopub.status.idle": "2025-05-15T16:15:22.273738Z",
     "shell.execute_reply": "2025-05-15T16:15:22.273443Z"
    },
    "papermill": {
     "duration": 0.01789,
     "end_time": "2025-05-15T16:15:22.274589",
     "exception": false,
     "start_time": "2025-05-15T16:15:22.256699",
     "status": "completed"
    },
    "tags": []
   },
   "outputs": [],
   "source": [
    "out_dir = here(f'03_downstream_analysis/08_gene_importance/xgboost_external_validation/xgboost_TopN_genes/results_{N_GENES}/metrics')\n",
    "\n",
    "if not os.path.exists(out_dir):\n",
    "    os.makedirs(out_dir)\n",
    "    \n",
    "metrics_df.to_csv(os.path.join(out_dir, f'{CELL_TYPE}_{SEED}_{TEST_SPLIT_IDX}_metrics.zip'))"
   ]
  }
 ],
 "metadata": {
  "kernelspec": {
   "display_name": "Python 3 (ipykernel)",
   "language": "python",
   "name": "python3"
  },
  "language_info": {
   "codemirror_mode": {
    "name": "ipython",
    "version": 3
   },
   "file_extension": ".py",
   "mimetype": "text/x-python",
   "name": "python",
   "nbconvert_exporter": "python",
   "pygments_lexer": "ipython3",
   "version": "3.12.5"
  },
  "papermill": {
   "default_parameters": {},
   "duration": 130.074838,
   "end_time": "2025-05-15T16:15:22.999720",
   "environment_variables": {},
   "exception": null,
   "input_path": "02_xgboost_fitting_external_20genes.ipynb",
   "output_path": "results_20/executed_notebooks/xgboost_fitting_external_CT_UTC_GS_17_seed1.ipynb",
   "parameters": {
    "CELL_TYPE": "UTC",
    "SEED": 17,
    "TEST_SPLIT_IDX": 1
   },
   "start_time": "2025-05-15T16:13:12.924882",
   "version": "2.6.0"
  }
 },
 "nbformat": 4,
 "nbformat_minor": 5
}