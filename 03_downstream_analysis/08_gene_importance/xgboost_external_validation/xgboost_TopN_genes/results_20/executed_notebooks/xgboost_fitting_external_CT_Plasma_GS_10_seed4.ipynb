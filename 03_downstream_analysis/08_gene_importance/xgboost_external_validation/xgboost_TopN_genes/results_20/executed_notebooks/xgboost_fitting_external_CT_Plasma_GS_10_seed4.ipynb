{
 "cells": [
  {
   "cell_type": "code",
   "execution_count": 1,
   "id": "01ac03dd",
   "metadata": {
    "editable": true,
    "execution": {
     "iopub.execute_input": "2025-05-15T16:15:38.354001Z",
     "iopub.status.busy": "2025-05-15T16:15:38.353697Z",
     "iopub.status.idle": "2025-05-15T16:15:38.357047Z",
     "shell.execute_reply": "2025-05-15T16:15:38.356657Z"
    },
    "papermill": {
     "duration": 0.013108,
     "end_time": "2025-05-15T16:15:38.358139",
     "exception": false,
     "start_time": "2025-05-15T16:15:38.345031",
     "status": "completed"
    },
    "slideshow": {
     "slide_type": ""
    },
    "tags": [
     "parameters"
    ]
   },
   "outputs": [],
   "source": [
    "CELL_TYPE = 'pDC'\n",
    "N_GENES: int = 20\n",
    "SEED = 'shap_studyID' #'disease_NOstudy' 'study_NOdisease' or 'int' or 'shap_studyID'\n",
    "TEST_SPLIT_IDX: int = 1 #[0,4]"
   ]
  },
  {
   "cell_type": "code",
   "execution_count": 2,
   "id": "b65dde05",
   "metadata": {
    "execution": {
     "iopub.execute_input": "2025-05-15T16:15:38.370403Z",
     "iopub.status.busy": "2025-05-15T16:15:38.370036Z",
     "iopub.status.idle": "2025-05-15T16:15:38.372299Z",
     "shell.execute_reply": "2025-05-15T16:15:38.371929Z"
    },
    "papermill": {
     "duration": 0.009428,
     "end_time": "2025-05-15T16:15:38.373318",
     "exception": false,
     "start_time": "2025-05-15T16:15:38.363890",
     "status": "completed"
    },
    "tags": [
     "injected-parameters"
    ]
   },
   "outputs": [],
   "source": [
    "# Parameters\n",
    "CELL_TYPE = \"Plasma\"\n",
    "SEED = 10\n",
    "TEST_SPLIT_IDX = 4\n"
   ]
  },
  {
   "cell_type": "code",
   "execution_count": 3,
   "id": "bcc2ac83",
   "metadata": {
    "execution": {
     "iopub.execute_input": "2025-05-15T16:15:38.384989Z",
     "iopub.status.busy": "2025-05-15T16:15:38.384683Z",
     "iopub.status.idle": "2025-05-15T16:15:38.386820Z",
     "shell.execute_reply": "2025-05-15T16:15:38.386475Z"
    },
    "papermill": {
     "duration": 0.00897,
     "end_time": "2025-05-15T16:15:38.387768",
     "exception": false,
     "start_time": "2025-05-15T16:15:38.378798",
     "status": "completed"
    },
    "tags": []
   },
   "outputs": [],
   "source": [
    "N_SPLITS: int = 5\n",
    "N_TRIALS: int = 50"
   ]
  },
  {
   "cell_type": "code",
   "execution_count": 4,
   "id": "851717be",
   "metadata": {
    "execution": {
     "iopub.execute_input": "2025-05-15T16:15:38.400297Z",
     "iopub.status.busy": "2025-05-15T16:15:38.400099Z",
     "iopub.status.idle": "2025-05-15T16:15:40.400527Z",
     "shell.execute_reply": "2025-05-15T16:15:40.400040Z"
    },
    "papermill": {
     "duration": 2.009134,
     "end_time": "2025-05-15T16:15:40.402234",
     "exception": false,
     "start_time": "2025-05-15T16:15:38.393100",
     "status": "completed"
    },
    "tags": []
   },
   "outputs": [],
   "source": [
    "import os\n",
    "import sys\n",
    "from pyprojroot.here import here\n",
    "import pandas as pd\n",
    "import anndata as ad\n",
    "import numpy as np\n",
    "import math\n",
    "from sklearn.model_selection import StratifiedGroupKFold\n",
    "from sklearn.preprocessing import LabelEncoder\n",
    "from sklearn.metrics import f1_score\n",
    "import matplotlib.pyplot as plt\n",
    "import seaborn as sns\n",
    "from itertools import product\n",
    "from sklearn.metrics import balanced_accuracy_score, f1_score\n",
    "import optuna\n",
    "\n",
    "import joblib\n",
    "import pickle\n",
    "import datetime\n",
    "\n",
    "import collections\n",
    "\n",
    "import xgboost\n",
    "from sklearn.preprocessing import LabelEncoder\n",
    "\n",
    "import scipy.sparse as ssp\n",
    "import joblib\n",
    "\n",
    "from dotenv import load_dotenv"
   ]
  },
  {
   "cell_type": "code",
   "execution_count": 5,
   "id": "4df9e3fd",
   "metadata": {
    "execution": {
     "iopub.execute_input": "2025-05-15T16:15:40.416812Z",
     "iopub.status.busy": "2025-05-15T16:15:40.416431Z",
     "iopub.status.idle": "2025-05-15T16:15:40.422728Z",
     "shell.execute_reply": "2025-05-15T16:15:40.422359Z"
    },
    "papermill": {
     "duration": 0.01466,
     "end_time": "2025-05-15T16:15:40.423954",
     "exception": false,
     "start_time": "2025-05-15T16:15:40.409294",
     "status": "completed"
    },
    "tags": []
   },
   "outputs": [
    {
     "data": {
      "text/plain": [
       "True"
      ]
     },
     "execution_count": 5,
     "metadata": {},
     "output_type": "execute_result"
    }
   ],
   "source": [
    "load_dotenv()"
   ]
  },
  {
   "cell_type": "markdown",
   "id": "1620a6ea",
   "metadata": {
    "papermill": {
     "duration": 0.005927,
     "end_time": "2025-05-15T16:15:40.436000",
     "exception": false,
     "start_time": "2025-05-15T16:15:40.430073",
     "status": "completed"
    },
    "tags": []
   },
   "source": [
    "# LOAD DATASET"
   ]
  },
  {
   "cell_type": "code",
   "execution_count": 6,
   "id": "db84e3b7",
   "metadata": {
    "execution": {
     "iopub.execute_input": "2025-05-15T16:15:40.448549Z",
     "iopub.status.busy": "2025-05-15T16:15:40.448206Z",
     "iopub.status.idle": "2025-05-15T16:15:40.495741Z",
     "shell.execute_reply": "2025-05-15T16:15:40.495299Z"
    },
    "papermill": {
     "duration": 0.055288,
     "end_time": "2025-05-15T16:15:40.497132",
     "exception": false,
     "start_time": "2025-05-15T16:15:40.441844",
     "status": "completed"
    },
    "tags": []
   },
   "outputs": [],
   "source": [
    "train_adata = ad.read_h5ad(\n",
    "    here(f'03_downstream_analysis/08_gene_importance/xgboost_external_validation/xgboost_TopN_genes/data_cellTypes/EXTERNAL_{CELL_TYPE}.filtered.log1p.h5ad')\n",
    ")"
   ]
  },
  {
   "cell_type": "code",
   "execution_count": 7,
   "id": "b1756c74",
   "metadata": {
    "execution": {
     "iopub.execute_input": "2025-05-15T16:15:40.509896Z",
     "iopub.status.busy": "2025-05-15T16:15:40.509612Z",
     "iopub.status.idle": "2025-05-15T16:15:40.521192Z",
     "shell.execute_reply": "2025-05-15T16:15:40.520720Z"
    },
    "papermill": {
     "duration": 0.019083,
     "end_time": "2025-05-15T16:15:40.522146",
     "exception": false,
     "start_time": "2025-05-15T16:15:40.503063",
     "status": "completed"
    },
    "tags": []
   },
   "outputs": [
    {
     "name": "stdout",
     "output_type": "stream",
     "text": [
      "['ENSG00000182866' 'ENSG00000115884' 'ENSG00000089327' 'ENSG00000156411'\n",
      " 'ENSG00000132432' 'ENSG00000111640' 'ENSG00000108561' 'ENSG00000110077'\n",
      " 'ENSG00000115073' 'ENSG00000163191' 'ENSG00000059728' 'ENSG00000134107'\n",
      " 'ENSG00000121858' 'ENSG00000168394' 'ENSG00000100365' 'ENSG00000142208'\n",
      " 'ENSG00000152700' 'ENSG00000160932' 'ENSG00000092820' 'ENSG00000167996'\n",
      " 'ENSG00000120738' 'ENSG00000168811' 'ENSG00000134352' 'ENSG00000131143'\n",
      " 'ENSG00000277632' 'ENSG00000153064' 'ENSG00000004468' 'ENSG00000241106'\n",
      " 'ENSG00000168894' 'ENSG00000171791' 'ENSG00000265972' 'ENSG00000107223'\n",
      " 'ENSG00000137331' 'ENSG00000143761' 'ENSG00000206503' 'ENSG00000100292'\n",
      " 'ENSG00000100385' 'ENSG00000153234' 'ENSG00000130755' 'ENSG00000165732'\n",
      " 'ENSG00000090863' 'ENSG00000184007' 'ENSG00000173039' 'ENSG00000177663'\n",
      " 'ENSG00000117318' 'ENSG00000113263' 'ENSG00000241837' 'ENSG00000183020'\n",
      " 'ENSG00000112561' 'ENSG00000135968' 'ENSG00000163220' 'ENSG00000183172'\n",
      " 'ENSG00000173757' 'ENSG00000170458' 'ENSG00000120742' 'ENSG00000164136'\n",
      " 'ENSG00000170581' 'ENSG00000104964' 'ENSG00000177556' 'ENSG00000090266'\n",
      " 'ENSG00000172349' 'ENSG00000104689' 'ENSG00000166710' 'ENSG00000089737'\n",
      " 'ENSG00000168610' 'ENSG00000106588' 'ENSG00000090339' 'ENSG00000242574'\n",
      " 'ENSG00000117523' 'ENSG00000188313' 'ENSG00000112149' 'ENSG00000156738'\n",
      " 'ENSG00000117450' 'ENSG00000011590' 'ENSG00000244687' 'ENSG00000111348'\n",
      " 'ENSG00000163131' 'ENSG00000160255' 'ENSG00000179144' 'ENSG00000117602'\n",
      " 'ENSG00000143119' 'ENSG00000172009' 'ENSG00000122359' 'ENSG00000118503'\n",
      " 'ENSG00000106605' 'ENSG00000243646' 'ENSG00000203747' 'ENSG00000143575'\n",
      " 'ENSG00000128340' 'ENSG00000133639' 'ENSG00000258315' 'ENSG00000134470'\n",
      " 'ENSG00000136003' 'ENSG00000100934' 'ENSG00000131018' 'ENSG00000157873'\n",
      " 'ENSG00000100902' 'ENSG00000104763' 'ENSG00000099204' 'ENSG00000204843'\n",
      " 'ENSG00000081059' 'ENSG00000155380' 'ENSG00000172936' 'ENSG00000155368'\n",
      " 'ENSG00000134539' 'ENSG00000204642' 'ENSG00000076944']\n"
     ]
    }
   ],
   "source": [
    "if SEED != 'all':\n",
    "    gene_subset = np.load(here(f'03_downstream_analysis/08_gene_importance/xgboost_external_validation/shap_gene_selection/gene_subsets_{N_GENES}/{CELL_TYPE}_{SEED}.npy'), allow_pickle=True)\n",
    "    train_adata = train_adata[:,gene_subset]\n",
    "    print(gene_subset)\n",
    "elif SEED == 'all':\n",
    "    print('Using all genes')\n",
    "else:\n",
    "    raise ValueError()"
   ]
  },
  {
   "cell_type": "code",
   "execution_count": 8,
   "id": "daa4d9d3",
   "metadata": {
    "execution": {
     "iopub.execute_input": "2025-05-15T16:15:40.534954Z",
     "iopub.status.busy": "2025-05-15T16:15:40.534745Z",
     "iopub.status.idle": "2025-05-15T16:15:40.538052Z",
     "shell.execute_reply": "2025-05-15T16:15:40.537684Z"
    },
    "papermill": {
     "duration": 0.010919,
     "end_time": "2025-05-15T16:15:40.539003",
     "exception": false,
     "start_time": "2025-05-15T16:15:40.528084",
     "status": "completed"
    },
    "tags": []
   },
   "outputs": [
    {
     "data": {
      "text/plain": [
       "(542, 107)"
      ]
     },
     "execution_count": 8,
     "metadata": {},
     "output_type": "execute_result"
    }
   ],
   "source": [
    "train_adata.shape"
   ]
  },
  {
   "cell_type": "code",
   "execution_count": 9,
   "id": "0dd53f81",
   "metadata": {
    "execution": {
     "iopub.execute_input": "2025-05-15T16:15:40.551491Z",
     "iopub.status.busy": "2025-05-15T16:15:40.551291Z",
     "iopub.status.idle": "2025-05-15T16:15:40.555237Z",
     "shell.execute_reply": "2025-05-15T16:15:40.554874Z"
    },
    "papermill": {
     "duration": 0.011204,
     "end_time": "2025-05-15T16:15:40.556187",
     "exception": false,
     "start_time": "2025-05-15T16:15:40.544983",
     "status": "completed"
    },
    "tags": []
   },
   "outputs": [
    {
     "data": {
      "text/plain": [
       "['RA', 'COVID', 'healthy', 'HIV', 'cirrhosis', 'CD', 'SLE', 'sepsis']\n",
       "Categories (8, object): ['CD', 'COVID', 'HIV', 'RA', 'SLE', 'cirrhosis', 'healthy', 'sepsis']"
      ]
     },
     "execution_count": 9,
     "metadata": {},
     "output_type": "execute_result"
    }
   ],
   "source": [
    "train_adata.obs.disease.unique()"
   ]
  },
  {
   "cell_type": "code",
   "execution_count": 10,
   "id": "1d141c31",
   "metadata": {
    "execution": {
     "iopub.execute_input": "2025-05-15T16:15:40.568731Z",
     "iopub.status.busy": "2025-05-15T16:15:40.568535Z",
     "iopub.status.idle": "2025-05-15T16:15:40.572310Z",
     "shell.execute_reply": "2025-05-15T16:15:40.571950Z"
    },
    "papermill": {
     "duration": 0.011022,
     "end_time": "2025-05-15T16:15:40.573223",
     "exception": false,
     "start_time": "2025-05-15T16:15:40.562201",
     "status": "completed"
    },
    "tags": []
   },
   "outputs": [
    {
     "data": {
      "text/plain": [
       "['SCGT00val_I0364_T0', 'SCGT00val_I036019_T0', 'SCGT00val_I036028_T0', 'SCGT00val_I036024_T0', 'SCGT00val_I036016_T0', ..., '10XGenomics_10XHC2_T0', '10XGenomics_10XHC3_T0', '10XGenomics_10XHC5_T0', '10XGenomics_10XHC7_T0', '10XGenomics_10XHC8_T0']\n",
       "Length: 74\n",
       "Categories (74, object): ['10XGenomics_10XHC1_T0', '10XGenomics_10XHC2_T0', '10XGenomics_10XHC3_T0', '10XGenomics_10XHC4_T0', ..., 'Savage2021_BRISL6_T0', 'Savage2021_BRISL7_T0', 'Savage2021_PIDA_T0', 'Savage2021_PIDB_T0']"
      ]
     },
     "execution_count": 10,
     "metadata": {},
     "output_type": "execute_result"
    }
   ],
   "source": [
    "train_adata.obs.sampleID.unique()"
   ]
  },
  {
   "cell_type": "code",
   "execution_count": 11,
   "id": "a09d78d5",
   "metadata": {
    "execution": {
     "iopub.execute_input": "2025-05-15T16:15:40.585465Z",
     "iopub.status.busy": "2025-05-15T16:15:40.585177Z",
     "iopub.status.idle": "2025-05-15T16:15:40.616253Z",
     "shell.execute_reply": "2025-05-15T16:15:40.615905Z"
    },
    "papermill": {
     "duration": 0.038203,
     "end_time": "2025-05-15T16:15:40.617178",
     "exception": false,
     "start_time": "2025-05-15T16:15:40.578975",
     "status": "completed"
    },
    "tags": []
   },
   "outputs": [],
   "source": [
    "all_idxs = np.arange(train_adata.obs.shape[0])\n",
    "left_out_splits = [s[1] for s in StratifiedGroupKFold(n_splits=N_SPLITS).split(all_idxs, train_adata.obs.disease, train_adata.obs.sampleID)]"
   ]
  },
  {
   "cell_type": "code",
   "execution_count": 12,
   "id": "6145e61b",
   "metadata": {
    "execution": {
     "iopub.execute_input": "2025-05-15T16:15:40.629678Z",
     "iopub.status.busy": "2025-05-15T16:15:40.629328Z",
     "iopub.status.idle": "2025-05-15T16:15:40.632996Z",
     "shell.execute_reply": "2025-05-15T16:15:40.632666Z"
    },
    "papermill": {
     "duration": 0.010905,
     "end_time": "2025-05-15T16:15:40.633879",
     "exception": false,
     "start_time": "2025-05-15T16:15:40.622974",
     "status": "completed"
    },
    "tags": []
   },
   "outputs": [
    {
     "data": {
      "text/plain": [
       "([1, 2, 3], 0, 4)"
      ]
     },
     "execution_count": 12,
     "metadata": {},
     "output_type": "execute_result"
    }
   ],
   "source": [
    "TRAIN_SPLIT_IDXS = [0,1,2,3,4]\n",
    "VAL_SPLIT_IDX = (TEST_SPLIT_IDX + 1) % 5\n",
    "TRAIN_SPLIT_IDXS.remove(TEST_SPLIT_IDX)\n",
    "TRAIN_SPLIT_IDXS.remove(VAL_SPLIT_IDX)\n",
    "TRAIN_SPLIT_IDXS, VAL_SPLIT_IDX, TEST_SPLIT_IDX"
   ]
  },
  {
   "cell_type": "code",
   "execution_count": 13,
   "id": "3767b3f4",
   "metadata": {
    "execution": {
     "iopub.execute_input": "2025-05-15T16:15:40.646650Z",
     "iopub.status.busy": "2025-05-15T16:15:40.646426Z",
     "iopub.status.idle": "2025-05-15T16:15:40.648921Z",
     "shell.execute_reply": "2025-05-15T16:15:40.648581Z"
    },
    "papermill": {
     "duration": 0.009879,
     "end_time": "2025-05-15T16:15:40.649834",
     "exception": false,
     "start_time": "2025-05-15T16:15:40.639955",
     "status": "completed"
    },
    "tags": []
   },
   "outputs": [],
   "source": [
    "train_idxs = np.concatenate([left_out_splits[idx] for idx in TRAIN_SPLIT_IDXS])\n",
    "val_idxs = left_out_splits[VAL_SPLIT_IDX]\n",
    "test_idxs = left_out_splits[TEST_SPLIT_IDX]"
   ]
  },
  {
   "cell_type": "markdown",
   "id": "06126e4f",
   "metadata": {
    "papermill": {
     "duration": 0.00635,
     "end_time": "2025-05-15T16:15:40.662191",
     "exception": false,
     "start_time": "2025-05-15T16:15:40.655841",
     "status": "completed"
    },
    "tags": []
   },
   "source": [
    "### SUBSET DATASET INTO TRAIN/TEST/VAL SPLITS"
   ]
  },
  {
   "cell_type": "code",
   "execution_count": 14,
   "id": "5f1311ef",
   "metadata": {
    "execution": {
     "iopub.execute_input": "2025-05-15T16:15:40.677606Z",
     "iopub.status.busy": "2025-05-15T16:15:40.677007Z",
     "iopub.status.idle": "2025-05-15T16:15:40.685136Z",
     "shell.execute_reply": "2025-05-15T16:15:40.684721Z"
    },
    "papermill": {
     "duration": 0.017339,
     "end_time": "2025-05-15T16:15:40.686238",
     "exception": false,
     "start_time": "2025-05-15T16:15:40.668899",
     "status": "completed"
    },
    "tags": []
   },
   "outputs": [
    {
     "data": {
      "text/plain": [
       "((308, 107), (116, 107), (118, 107))"
      ]
     },
     "execution_count": 14,
     "metadata": {},
     "output_type": "execute_result"
    }
   ],
   "source": [
    "X_train = train_adata.X[train_idxs]\n",
    "X_test = train_adata.X[test_idxs]\n",
    "X_val = train_adata.X[val_idxs]\n",
    "X_train.shape, X_test.shape, X_val.shape"
   ]
  },
  {
   "cell_type": "code",
   "execution_count": 15,
   "id": "e722f837",
   "metadata": {
    "execution": {
     "iopub.execute_input": "2025-05-15T16:15:40.701290Z",
     "iopub.status.busy": "2025-05-15T16:15:40.700882Z",
     "iopub.status.idle": "2025-05-15T16:15:40.707123Z",
     "shell.execute_reply": "2025-05-15T16:15:40.706747Z"
    },
    "papermill": {
     "duration": 0.014968,
     "end_time": "2025-05-15T16:15:40.708177",
     "exception": false,
     "start_time": "2025-05-15T16:15:40.693209",
     "status": "completed"
    },
    "tags": []
   },
   "outputs": [
    {
     "data": {
      "text/plain": [
       "((308,), (116,), (118,))"
      ]
     },
     "execution_count": 15,
     "metadata": {},
     "output_type": "execute_result"
    }
   ],
   "source": [
    "y_train = train_adata.obs.iloc[train_idxs].disease.values.astype(str)\n",
    "y_test = train_adata.obs.iloc[test_idxs].disease.values.astype(str)\n",
    "y_val = train_adata.obs.iloc[val_idxs].disease.values.astype(str)\n",
    "y_train.shape, y_test.shape, y_val.shape"
   ]
  },
  {
   "cell_type": "code",
   "execution_count": 16,
   "id": "5454d5bc",
   "metadata": {
    "execution": {
     "iopub.execute_input": "2025-05-15T16:15:40.723346Z",
     "iopub.status.busy": "2025-05-15T16:15:40.723000Z",
     "iopub.status.idle": "2025-05-15T16:15:40.726556Z",
     "shell.execute_reply": "2025-05-15T16:15:40.726202Z"
    },
    "papermill": {
     "duration": 0.012343,
     "end_time": "2025-05-15T16:15:40.727562",
     "exception": false,
     "start_time": "2025-05-15T16:15:40.715219",
     "status": "completed"
    },
    "tags": []
   },
   "outputs": [],
   "source": [
    "lenc = LabelEncoder()\n",
    "y_train_enc = lenc.fit_transform(y_train)\n",
    "y_val_enc = lenc.transform(y_val)\n",
    "y_test_enc = lenc.transform(y_test)"
   ]
  },
  {
   "cell_type": "markdown",
   "id": "97695c0d",
   "metadata": {
    "papermill": {
     "duration": 0.006708,
     "end_time": "2025-05-15T16:15:40.741048",
     "exception": false,
     "start_time": "2025-05-15T16:15:40.734340",
     "status": "completed"
    },
    "tags": []
   },
   "source": [
    "### GENERATE F1 "
   ]
  },
  {
   "cell_type": "code",
   "execution_count": 17,
   "id": "2bd4dfc5",
   "metadata": {
    "execution": {
     "iopub.execute_input": "2025-05-15T16:15:40.755975Z",
     "iopub.status.busy": "2025-05-15T16:15:40.755596Z",
     "iopub.status.idle": "2025-05-15T16:15:40.758386Z",
     "shell.execute_reply": "2025-05-15T16:15:40.758037Z"
    },
    "papermill": {
     "duration": 0.011494,
     "end_time": "2025-05-15T16:15:40.759388",
     "exception": false,
     "start_time": "2025-05-15T16:15:40.747894",
     "status": "completed"
    },
    "tags": []
   },
   "outputs": [],
   "source": [
    "def custom_f1_score(y_true, y_pred):\n",
    "    return -f1_score(y_true, y_pred.argmax(1), average='weighted')"
   ]
  },
  {
   "cell_type": "code",
   "execution_count": 18,
   "id": "76e2df02",
   "metadata": {
    "execution": {
     "iopub.execute_input": "2025-05-15T16:15:40.775470Z",
     "iopub.status.busy": "2025-05-15T16:15:40.774891Z",
     "iopub.status.idle": "2025-05-15T16:15:40.779789Z",
     "shell.execute_reply": "2025-05-15T16:15:40.779352Z"
    },
    "papermill": {
     "duration": 0.014165,
     "end_time": "2025-05-15T16:15:40.780834",
     "exception": false,
     "start_time": "2025-05-15T16:15:40.766669",
     "status": "completed"
    },
    "tags": []
   },
   "outputs": [],
   "source": [
    "eval_metric=custom_f1_score\n",
    "eval_metric_name='custom_f1_score'\n",
    "\n",
    "def objective(trial):\n",
    "    params = {\n",
    "        'n_estimators': 1500,\n",
    "        'max_depth': trial.suggest_int('max_depth', 3, 20),\n",
    "        'min_child_weight': trial.suggest_int('min_child_weight', 1, 250),\n",
    "        'subsample': trial.suggest_float('subsample', 0.1, 1.0),\n",
    "        'colsample_bynode': trial.suggest_float('colsample_bynode', 0.1, 1.0),\n",
    "        'learning_rate': trial.suggest_float('learning_rate', 1e-3, 5e-1, log=True),\n",
    "    }\n",
    "    pruning_callback = optuna.integration.XGBoostPruningCallback(trial, f'validation_0-{eval_metric_name}')\n",
    "    es_callback = xgboost.callback.EarlyStopping(20, min_delta=0.001)\n",
    "    xgb = xgboost.XGBClassifier(\n",
    "        eval_metric=eval_metric,\n",
    "        callbacks=[pruning_callback, es_callback],\n",
    "        n_jobs=5,\n",
    "        **params\n",
    "    )\n",
    "    xgb.fit(\n",
    "        X_train, \n",
    "        y_train_enc, \n",
    "        verbose=0,\n",
    "        eval_set=[(X_val, y_val_enc)],\n",
    "    )\n",
    "    trial.set_user_attr('best_iteration', xgb.best_iteration)\n",
    "\n",
    "    return xgb.best_score"
   ]
  },
  {
   "cell_type": "code",
   "execution_count": 19,
   "id": "7f0c6904",
   "metadata": {
    "execution": {
     "iopub.execute_input": "2025-05-15T16:15:40.795479Z",
     "iopub.status.busy": "2025-05-15T16:15:40.795210Z",
     "iopub.status.idle": "2025-05-15T16:15:53.375563Z",
     "shell.execute_reply": "2025-05-15T16:15:53.375055Z"
    },
    "papermill": {
     "duration": 12.588535,
     "end_time": "2025-05-15T16:15:53.376676",
     "exception": false,
     "start_time": "2025-05-15T16:15:40.788141",
     "status": "completed"
    },
    "scrolled": true,
    "tags": []
   },
   "outputs": [
    {
     "name": "stderr",
     "output_type": "stream",
     "text": [
      "[I 2025-05-15 18:15:40,797] A new study created in memory with name: no-name-ee2acc0c-3f97-4b13-b12c-ce6224f04e91\n"
     ]
    },
    {
     "name": "stderr",
     "output_type": "stream",
     "text": [
      "[I 2025-05-15 18:15:40,874] Trial 0 finished with value: -0.015898 and parameters: {'max_depth': 9, 'min_child_weight': 238, 'subsample': 0.7587945476302645, 'colsample_bynode': 0.6387926357773329, 'learning_rate': 0.0026368755339723046}. Best is trial 0 with value: -0.015898.\n"
     ]
    },
    {
     "name": "stderr",
     "output_type": "stream",
     "text": [
      "[I 2025-05-15 18:15:41,393] Trial 1 finished with value: -0.385351 and parameters: {'max_depth': 5, 'min_child_weight': 15, 'subsample': 0.8795585311974417, 'colsample_bynode': 0.6410035105688879, 'learning_rate': 0.08148293210105287}. Best is trial 1 with value: -0.385351.\n"
     ]
    },
    {
     "name": "stderr",
     "output_type": "stream",
     "text": [
      "[I 2025-05-15 18:15:41,569] Trial 2 finished with value: -0.015898 and parameters: {'max_depth': 3, 'min_child_weight': 243, 'subsample': 0.8491983767203796, 'colsample_bynode': 0.29110519961044856, 'learning_rate': 0.003095566460242371}. Best is trial 1 with value: -0.385351.\n"
     ]
    },
    {
     "name": "stderr",
     "output_type": "stream",
     "text": [
      "[I 2025-05-15 18:15:41,754] Trial 3 finished with value: -0.015898 and parameters: {'max_depth': 6, 'min_child_weight': 77, 'subsample': 0.5722807884690141, 'colsample_bynode': 0.48875051677790415, 'learning_rate': 0.006109683510122491}. Best is trial 1 with value: -0.385351.\n"
     ]
    },
    {
     "name": "stderr",
     "output_type": "stream",
     "text": [
      "[I 2025-05-15 18:15:41,918] Trial 4 finished with value: -0.015898 and parameters: {'max_depth': 14, 'min_child_weight': 35, 'subsample': 0.3629301836816964, 'colsample_bynode': 0.4297256589643226, 'learning_rate': 0.01701841881702917}. Best is trial 1 with value: -0.385351.\n"
     ]
    },
    {
     "name": "stderr",
     "output_type": "stream",
     "text": [
      "[I 2025-05-15 18:15:42,096] Trial 5 finished with value: -0.015898 and parameters: {'max_depth': 17, 'min_child_weight': 50, 'subsample': 0.5628109945722505, 'colsample_bynode': 0.6331731119758383, 'learning_rate': 0.0013346527038305934}. Best is trial 1 with value: -0.385351.\n"
     ]
    },
    {
     "name": "stderr",
     "output_type": "stream",
     "text": [
      "[I 2025-05-15 18:15:42,262] Trial 6 pruned. Trial was pruned at iteration 20.\n"
     ]
    },
    {
     "name": "stderr",
     "output_type": "stream",
     "text": [
      "[I 2025-05-15 18:15:42,437] Trial 7 pruned. Trial was pruned at iteration 20.\n"
     ]
    },
    {
     "name": "stderr",
     "output_type": "stream",
     "text": [
      "[I 2025-05-15 18:15:42,606] Trial 8 pruned. Trial was pruned at iteration 20.\n"
     ]
    },
    {
     "name": "stderr",
     "output_type": "stream",
     "text": [
      "[I 2025-05-15 18:15:42,772] Trial 9 pruned. Trial was pruned at iteration 20.\n"
     ]
    },
    {
     "name": "stderr",
     "output_type": "stream",
     "text": [
      "[I 2025-05-15 18:15:43,252] Trial 10 finished with value: -0.419498 and parameters: {'max_depth': 9, 'min_child_weight': 2, 'subsample': 0.9725833997090791, 'colsample_bynode': 0.11616568805333755, 'learning_rate': 0.17780618353487967}. Best is trial 10 with value: -0.419498.\n"
     ]
    },
    {
     "name": "stderr",
     "output_type": "stream",
     "text": [
      "[I 2025-05-15 18:15:43,673] Trial 11 finished with value: -0.404039 and parameters: {'max_depth': 9, 'min_child_weight': 4, 'subsample': 0.9818290990185045, 'colsample_bynode': 0.17702656156719, 'learning_rate': 0.11568531411766632}. Best is trial 10 with value: -0.419498.\n"
     ]
    },
    {
     "name": "stderr",
     "output_type": "stream",
     "text": [
      "[I 2025-05-15 18:15:44,093] Trial 12 finished with value: -0.452911 and parameters: {'max_depth': 9, 'min_child_weight': 2, 'subsample': 0.9762317723681219, 'colsample_bynode': 0.1303670507685675, 'learning_rate': 0.14353293664472047}. Best is trial 12 with value: -0.452911.\n"
     ]
    },
    {
     "name": "stderr",
     "output_type": "stream",
     "text": [
      "[I 2025-05-15 18:15:44,290] Trial 13 pruned. Trial was pruned at iteration 20.\n"
     ]
    },
    {
     "name": "stderr",
     "output_type": "stream",
     "text": [
      "[I 2025-05-15 18:15:44,474] Trial 14 finished with value: -0.015898 and parameters: {'max_depth': 7, 'min_child_weight': 132, 'subsample': 0.7251427075087294, 'colsample_bynode': 0.2827065087684573, 'learning_rate': 0.07805789099500472}. Best is trial 12 with value: -0.452911.\n"
     ]
    },
    {
     "name": "stderr",
     "output_type": "stream",
     "text": [
      "[I 2025-05-15 18:15:45,035] Trial 15 finished with value: -0.47667 and parameters: {'max_depth': 20, 'min_child_weight': 2, 'subsample': 0.7161698798894325, 'colsample_bynode': 0.31554979471905614, 'learning_rate': 0.19723736175781964}. Best is trial 15 with value: -0.47667.\n"
     ]
    },
    {
     "name": "stderr",
     "output_type": "stream",
     "text": [
      "[I 2025-05-15 18:15:45,219] Trial 16 finished with value: -0.015898 and parameters: {'max_depth': 20, 'min_child_weight': 125, 'subsample': 0.6730263351162008, 'colsample_bynode': 0.33016764434691975, 'learning_rate': 0.03981038544023995}. Best is trial 15 with value: -0.47667.\n"
     ]
    },
    {
     "name": "stderr",
     "output_type": "stream",
     "text": [
      "[I 2025-05-15 18:15:45,438] Trial 17 finished with value: -0.015898 and parameters: {'max_depth': 20, 'min_child_weight': 183, 'subsample': 0.37310167079970213, 'colsample_bynode': 0.22493155379732882, 'learning_rate': 0.2000524479002851}. Best is trial 15 with value: -0.47667.\n"
     ]
    },
    {
     "name": "stderr",
     "output_type": "stream",
     "text": [
      "[I 2025-05-15 18:15:45,616] Trial 18 pruned. Trial was pruned at iteration 20.\n"
     ]
    },
    {
     "name": "stderr",
     "output_type": "stream",
     "text": [
      "[I 2025-05-15 18:15:45,819] Trial 19 finished with value: -0.015898 and parameters: {'max_depth': 17, 'min_child_weight': 102, 'subsample': 0.6638990437195388, 'colsample_bynode': 0.21504189185437605, 'learning_rate': 0.22848612287568867}. Best is trial 15 with value: -0.47667.\n"
     ]
    },
    {
     "name": "stderr",
     "output_type": "stream",
     "text": [
      "[I 2025-05-15 18:15:46,013] Trial 20 finished with value: -0.015898 and parameters: {'max_depth': 15, 'min_child_weight': 60, 'subsample': 0.4242673936692717, 'colsample_bynode': 0.4770214167977722, 'learning_rate': 0.052276361631478065}. Best is trial 15 with value: -0.47667.\n"
     ]
    },
    {
     "name": "stderr",
     "output_type": "stream",
     "text": [
      "[I 2025-05-15 18:15:46,378] Trial 21 pruned. Trial was pruned at iteration 20.\n"
     ]
    },
    {
     "name": "stderr",
     "output_type": "stream",
     "text": [
      "[I 2025-05-15 18:15:46,574] Trial 22 pruned. Trial was pruned at iteration 20.\n"
     ]
    },
    {
     "name": "stderr",
     "output_type": "stream",
     "text": [
      "[I 2025-05-15 18:15:46,785] Trial 23 pruned. Trial was pruned at iteration 20.\n"
     ]
    },
    {
     "name": "stderr",
     "output_type": "stream",
     "text": [
      "[I 2025-05-15 18:15:46,973] Trial 24 pruned. Trial was pruned at iteration 20.\n"
     ]
    },
    {
     "name": "stderr",
     "output_type": "stream",
     "text": [
      "[I 2025-05-15 18:15:47,632] Trial 25 finished with value: -0.514137 and parameters: {'max_depth': 3, 'min_child_weight': 2, 'subsample': 0.6591924885063125, 'colsample_bynode': 0.2282720019773668, 'learning_rate': 0.13012105720586856}. Best is trial 25 with value: -0.514137.\n"
     ]
    },
    {
     "name": "stderr",
     "output_type": "stream",
     "text": [
      "[I 2025-05-15 18:15:47,815] Trial 26 pruned. Trial was pruned at iteration 20.\n"
     ]
    },
    {
     "name": "stderr",
     "output_type": "stream",
     "text": [
      "[I 2025-05-15 18:15:48,017] Trial 27 pruned. Trial was pruned at iteration 20.\n"
     ]
    },
    {
     "name": "stderr",
     "output_type": "stream",
     "text": [
      "[I 2025-05-15 18:15:48,205] Trial 28 pruned. Trial was pruned at iteration 20.\n"
     ]
    },
    {
     "name": "stderr",
     "output_type": "stream",
     "text": [
      "[I 2025-05-15 18:15:48,412] Trial 29 finished with value: -0.015898 and parameters: {'max_depth': 6, 'min_child_weight': 217, 'subsample': 0.7557247001115583, 'colsample_bynode': 0.41232146842405126, 'learning_rate': 0.010709004830646147}. Best is trial 25 with value: -0.514137.\n"
     ]
    },
    {
     "name": "stderr",
     "output_type": "stream",
     "text": [
      "[I 2025-05-15 18:15:48,594] Trial 30 pruned. Trial was pruned at iteration 20.\n"
     ]
    },
    {
     "name": "stderr",
     "output_type": "stream",
     "text": [
      "[I 2025-05-15 18:15:48,929] Trial 31 finished with value: -0.427747 and parameters: {'max_depth': 9, 'min_child_weight': 4, 'subsample': 0.7850784888873833, 'colsample_bynode': 0.15007500785945846, 'learning_rate': 0.28282723606307847}. Best is trial 25 with value: -0.514137.\n"
     ]
    },
    {
     "name": "stderr",
     "output_type": "stream",
     "text": [
      "[I 2025-05-15 18:15:49,140] Trial 32 pruned. Trial was pruned at iteration 20.\n"
     ]
    },
    {
     "name": "stderr",
     "output_type": "stream",
     "text": [
      "[I 2025-05-15 18:15:49,360] Trial 33 pruned. Trial was pruned at iteration 20.\n"
     ]
    },
    {
     "name": "stderr",
     "output_type": "stream",
     "text": [
      "[I 2025-05-15 18:15:49,585] Trial 34 pruned. Trial was pruned at iteration 20.\n"
     ]
    },
    {
     "name": "stderr",
     "output_type": "stream",
     "text": [
      "[I 2025-05-15 18:15:49,832] Trial 35 pruned. Trial was pruned at iteration 20.\n"
     ]
    },
    {
     "name": "stderr",
     "output_type": "stream",
     "text": [
      "[I 2025-05-15 18:15:50,011] Trial 36 pruned. Trial was pruned at iteration 20.\n"
     ]
    },
    {
     "name": "stderr",
     "output_type": "stream",
     "text": [
      "[I 2025-05-15 18:15:50,240] Trial 37 pruned. Trial was pruned at iteration 20.\n"
     ]
    },
    {
     "name": "stderr",
     "output_type": "stream",
     "text": [
      "[I 2025-05-15 18:15:50,418] Trial 38 finished with value: -0.015898 and parameters: {'max_depth': 8, 'min_child_weight': 74, 'subsample': 0.8505361501586695, 'colsample_bynode': 0.44920760260940945, 'learning_rate': 0.055767236748131825}. Best is trial 25 with value: -0.514137.\n"
     ]
    },
    {
     "name": "stderr",
     "output_type": "stream",
     "text": [
      "[I 2025-05-15 18:15:50,699] Trial 39 pruned. Trial was pruned at iteration 20.\n"
     ]
    },
    {
     "name": "stderr",
     "output_type": "stream",
     "text": [
      "[I 2025-05-15 18:15:50,876] Trial 40 pruned. Trial was pruned at iteration 20.\n"
     ]
    },
    {
     "name": "stderr",
     "output_type": "stream",
     "text": [
      "[I 2025-05-15 18:15:51,230] Trial 41 pruned. Trial was pruned at iteration 21.\n"
     ]
    },
    {
     "name": "stderr",
     "output_type": "stream",
     "text": [
      "[I 2025-05-15 18:15:51,434] Trial 42 pruned. Trial was pruned at iteration 20.\n"
     ]
    },
    {
     "name": "stderr",
     "output_type": "stream",
     "text": [
      "[I 2025-05-15 18:15:51,643] Trial 43 pruned. Trial was pruned at iteration 20.\n"
     ]
    },
    {
     "name": "stderr",
     "output_type": "stream",
     "text": [
      "[I 2025-05-15 18:15:52,151] Trial 44 finished with value: -0.458167 and parameters: {'max_depth': 13, 'min_child_weight': 1, 'subsample': 0.8644854122228276, 'colsample_bynode': 0.5457383726671586, 'learning_rate': 0.19847798579089662}. Best is trial 25 with value: -0.514137.\n"
     ]
    },
    {
     "name": "stderr",
     "output_type": "stream",
     "text": [
      "[I 2025-05-15 18:15:52,353] Trial 45 pruned. Trial was pruned at iteration 20.\n"
     ]
    },
    {
     "name": "stderr",
     "output_type": "stream",
     "text": [
      "[I 2025-05-15 18:15:52,624] Trial 46 pruned. Trial was pruned at iteration 20.\n"
     ]
    },
    {
     "name": "stderr",
     "output_type": "stream",
     "text": [
      "[I 2025-05-15 18:15:52,848] Trial 47 pruned. Trial was pruned at iteration 20.\n"
     ]
    },
    {
     "name": "stderr",
     "output_type": "stream",
     "text": [
      "[I 2025-05-15 18:15:53,052] Trial 48 pruned. Trial was pruned at iteration 20.\n"
     ]
    },
    {
     "name": "stderr",
     "output_type": "stream",
     "text": [
      "[I 2025-05-15 18:15:53,261] Trial 49 finished with value: -0.115706 and parameters: {'max_depth': 13, 'min_child_weight': 45, 'subsample': 0.8307514371476841, 'colsample_bynode': 0.2865420476316343, 'learning_rate': 0.0023116259332917957}. Best is trial 25 with value: -0.514137.\n"
     ]
    }
   ],
   "source": [
    "sampler = optuna.samplers.TPESampler(seed=42)\n",
    "study = optuna.create_study(direction='minimize', sampler=sampler)\n",
    "study.optimize(objective, n_trials=N_TRIALS, gc_after_trial=True)"
   ]
  },
  {
   "cell_type": "code",
   "execution_count": 20,
   "id": "2a77df7f",
   "metadata": {
    "execution": {
     "iopub.execute_input": "2025-05-15T16:15:53.443627Z",
     "iopub.status.busy": "2025-05-15T16:15:53.443317Z",
     "iopub.status.idle": "2025-05-15T16:15:53.467106Z",
     "shell.execute_reply": "2025-05-15T16:15:53.466757Z"
    },
    "papermill": {
     "duration": 0.034335,
     "end_time": "2025-05-15T16:15:53.468001",
     "exception": false,
     "start_time": "2025-05-15T16:15:53.433666",
     "status": "completed"
    },
    "tags": []
   },
   "outputs": [
    {
     "data": {
      "text/plain": [
       "['/scratch_isilon/groups/singlecell/shared/projects/Inflammation-PBMCs-Atlas/03_downstream_analysis/08_gene_importance/xgboost_external_validation/xgboost_TopN_genes/results_20/study/Plasma_10_4_xgboost.pkl']"
      ]
     },
     "execution_count": 20,
     "metadata": {},
     "output_type": "execute_result"
    }
   ],
   "source": [
    "out_dir = here(f'03_downstream_analysis/08_gene_importance/xgboost_external_validation/xgboost_TopN_genes/results_{N_GENES}/study')\n",
    "\n",
    "if not os.path.exists(out_dir):\n",
    "    os.makedirs(out_dir)\n",
    "    \n",
    "joblib.dump(study,os.path.join(out_dir, f'{CELL_TYPE}_{SEED}_{TEST_SPLIT_IDX}_xgboost.pkl'))"
   ]
  },
  {
   "cell_type": "code",
   "execution_count": 21,
   "id": "b44b6160",
   "metadata": {
    "execution": {
     "iopub.execute_input": "2025-05-15T16:15:53.487756Z",
     "iopub.status.busy": "2025-05-15T16:15:53.487320Z",
     "iopub.status.idle": "2025-05-15T16:15:53.914273Z",
     "shell.execute_reply": "2025-05-15T16:15:53.913845Z"
    },
    "papermill": {
     "duration": 0.437938,
     "end_time": "2025-05-15T16:15:53.915627",
     "exception": false,
     "start_time": "2025-05-15T16:15:53.477689",
     "status": "completed"
    },
    "tags": []
   },
   "outputs": [
    {
     "data": {
      "text/html": [
       "<style>#sk-container-id-1 {\n",
       "  /* Definition of color scheme common for light and dark mode */\n",
       "  --sklearn-color-text: black;\n",
       "  --sklearn-color-line: gray;\n",
       "  /* Definition of color scheme for unfitted estimators */\n",
       "  --sklearn-color-unfitted-level-0: #fff5e6;\n",
       "  --sklearn-color-unfitted-level-1: #f6e4d2;\n",
       "  --sklearn-color-unfitted-level-2: #ffe0b3;\n",
       "  --sklearn-color-unfitted-level-3: chocolate;\n",
       "  /* Definition of color scheme for fitted estimators */\n",
       "  --sklearn-color-fitted-level-0: #f0f8ff;\n",
       "  --sklearn-color-fitted-level-1: #d4ebff;\n",
       "  --sklearn-color-fitted-level-2: #b3dbfd;\n",
       "  --sklearn-color-fitted-level-3: cornflowerblue;\n",
       "\n",
       "  /* Specific color for light theme */\n",
       "  --sklearn-color-text-on-default-background: var(--sg-text-color, var(--theme-code-foreground, var(--jp-content-font-color1, black)));\n",
       "  --sklearn-color-background: var(--sg-background-color, var(--theme-background, var(--jp-layout-color0, white)));\n",
       "  --sklearn-color-border-box: var(--sg-text-color, var(--theme-code-foreground, var(--jp-content-font-color1, black)));\n",
       "  --sklearn-color-icon: #696969;\n",
       "\n",
       "  @media (prefers-color-scheme: dark) {\n",
       "    /* Redefinition of color scheme for dark theme */\n",
       "    --sklearn-color-text-on-default-background: var(--sg-text-color, var(--theme-code-foreground, var(--jp-content-font-color1, white)));\n",
       "    --sklearn-color-background: var(--sg-background-color, var(--theme-background, var(--jp-layout-color0, #111)));\n",
       "    --sklearn-color-border-box: var(--sg-text-color, var(--theme-code-foreground, var(--jp-content-font-color1, white)));\n",
       "    --sklearn-color-icon: #878787;\n",
       "  }\n",
       "}\n",
       "\n",
       "#sk-container-id-1 {\n",
       "  color: var(--sklearn-color-text);\n",
       "}\n",
       "\n",
       "#sk-container-id-1 pre {\n",
       "  padding: 0;\n",
       "}\n",
       "\n",
       "#sk-container-id-1 input.sk-hidden--visually {\n",
       "  border: 0;\n",
       "  clip: rect(1px 1px 1px 1px);\n",
       "  clip: rect(1px, 1px, 1px, 1px);\n",
       "  height: 1px;\n",
       "  margin: -1px;\n",
       "  overflow: hidden;\n",
       "  padding: 0;\n",
       "  position: absolute;\n",
       "  width: 1px;\n",
       "}\n",
       "\n",
       "#sk-container-id-1 div.sk-dashed-wrapped {\n",
       "  border: 1px dashed var(--sklearn-color-line);\n",
       "  margin: 0 0.4em 0.5em 0.4em;\n",
       "  box-sizing: border-box;\n",
       "  padding-bottom: 0.4em;\n",
       "  background-color: var(--sklearn-color-background);\n",
       "}\n",
       "\n",
       "#sk-container-id-1 div.sk-container {\n",
       "  /* jupyter's `normalize.less` sets `[hidden] { display: none; }`\n",
       "     but bootstrap.min.css set `[hidden] { display: none !important; }`\n",
       "     so we also need the `!important` here to be able to override the\n",
       "     default hidden behavior on the sphinx rendered scikit-learn.org.\n",
       "     See: https://github.com/scikit-learn/scikit-learn/issues/21755 */\n",
       "  display: inline-block !important;\n",
       "  position: relative;\n",
       "}\n",
       "\n",
       "#sk-container-id-1 div.sk-text-repr-fallback {\n",
       "  display: none;\n",
       "}\n",
       "\n",
       "div.sk-parallel-item,\n",
       "div.sk-serial,\n",
       "div.sk-item {\n",
       "  /* draw centered vertical line to link estimators */\n",
       "  background-image: linear-gradient(var(--sklearn-color-text-on-default-background), var(--sklearn-color-text-on-default-background));\n",
       "  background-size: 2px 100%;\n",
       "  background-repeat: no-repeat;\n",
       "  background-position: center center;\n",
       "}\n",
       "\n",
       "/* Parallel-specific style estimator block */\n",
       "\n",
       "#sk-container-id-1 div.sk-parallel-item::after {\n",
       "  content: \"\";\n",
       "  width: 100%;\n",
       "  border-bottom: 2px solid var(--sklearn-color-text-on-default-background);\n",
       "  flex-grow: 1;\n",
       "}\n",
       "\n",
       "#sk-container-id-1 div.sk-parallel {\n",
       "  display: flex;\n",
       "  align-items: stretch;\n",
       "  justify-content: center;\n",
       "  background-color: var(--sklearn-color-background);\n",
       "  position: relative;\n",
       "}\n",
       "\n",
       "#sk-container-id-1 div.sk-parallel-item {\n",
       "  display: flex;\n",
       "  flex-direction: column;\n",
       "}\n",
       "\n",
       "#sk-container-id-1 div.sk-parallel-item:first-child::after {\n",
       "  align-self: flex-end;\n",
       "  width: 50%;\n",
       "}\n",
       "\n",
       "#sk-container-id-1 div.sk-parallel-item:last-child::after {\n",
       "  align-self: flex-start;\n",
       "  width: 50%;\n",
       "}\n",
       "\n",
       "#sk-container-id-1 div.sk-parallel-item:only-child::after {\n",
       "  width: 0;\n",
       "}\n",
       "\n",
       "/* Serial-specific style estimator block */\n",
       "\n",
       "#sk-container-id-1 div.sk-serial {\n",
       "  display: flex;\n",
       "  flex-direction: column;\n",
       "  align-items: center;\n",
       "  background-color: var(--sklearn-color-background);\n",
       "  padding-right: 1em;\n",
       "  padding-left: 1em;\n",
       "}\n",
       "\n",
       "\n",
       "/* Toggleable style: style used for estimator/Pipeline/ColumnTransformer box that is\n",
       "clickable and can be expanded/collapsed.\n",
       "- Pipeline and ColumnTransformer use this feature and define the default style\n",
       "- Estimators will overwrite some part of the style using the `sk-estimator` class\n",
       "*/\n",
       "\n",
       "/* Pipeline and ColumnTransformer style (default) */\n",
       "\n",
       "#sk-container-id-1 div.sk-toggleable {\n",
       "  /* Default theme specific background. It is overwritten whether we have a\n",
       "  specific estimator or a Pipeline/ColumnTransformer */\n",
       "  background-color: var(--sklearn-color-background);\n",
       "}\n",
       "\n",
       "/* Toggleable label */\n",
       "#sk-container-id-1 label.sk-toggleable__label {\n",
       "  cursor: pointer;\n",
       "  display: block;\n",
       "  width: 100%;\n",
       "  margin-bottom: 0;\n",
       "  padding: 0.5em;\n",
       "  box-sizing: border-box;\n",
       "  text-align: center;\n",
       "}\n",
       "\n",
       "#sk-container-id-1 label.sk-toggleable__label-arrow:before {\n",
       "  /* Arrow on the left of the label */\n",
       "  content: \"▸\";\n",
       "  float: left;\n",
       "  margin-right: 0.25em;\n",
       "  color: var(--sklearn-color-icon);\n",
       "}\n",
       "\n",
       "#sk-container-id-1 label.sk-toggleable__label-arrow:hover:before {\n",
       "  color: var(--sklearn-color-text);\n",
       "}\n",
       "\n",
       "/* Toggleable content - dropdown */\n",
       "\n",
       "#sk-container-id-1 div.sk-toggleable__content {\n",
       "  max-height: 0;\n",
       "  max-width: 0;\n",
       "  overflow: hidden;\n",
       "  text-align: left;\n",
       "  /* unfitted */\n",
       "  background-color: var(--sklearn-color-unfitted-level-0);\n",
       "}\n",
       "\n",
       "#sk-container-id-1 div.sk-toggleable__content.fitted {\n",
       "  /* fitted */\n",
       "  background-color: var(--sklearn-color-fitted-level-0);\n",
       "}\n",
       "\n",
       "#sk-container-id-1 div.sk-toggleable__content pre {\n",
       "  margin: 0.2em;\n",
       "  border-radius: 0.25em;\n",
       "  color: var(--sklearn-color-text);\n",
       "  /* unfitted */\n",
       "  background-color: var(--sklearn-color-unfitted-level-0);\n",
       "}\n",
       "\n",
       "#sk-container-id-1 div.sk-toggleable__content.fitted pre {\n",
       "  /* unfitted */\n",
       "  background-color: var(--sklearn-color-fitted-level-0);\n",
       "}\n",
       "\n",
       "#sk-container-id-1 input.sk-toggleable__control:checked~div.sk-toggleable__content {\n",
       "  /* Expand drop-down */\n",
       "  max-height: 200px;\n",
       "  max-width: 100%;\n",
       "  overflow: auto;\n",
       "}\n",
       "\n",
       "#sk-container-id-1 input.sk-toggleable__control:checked~label.sk-toggleable__label-arrow:before {\n",
       "  content: \"▾\";\n",
       "}\n",
       "\n",
       "/* Pipeline/ColumnTransformer-specific style */\n",
       "\n",
       "#sk-container-id-1 div.sk-label input.sk-toggleable__control:checked~label.sk-toggleable__label {\n",
       "  color: var(--sklearn-color-text);\n",
       "  background-color: var(--sklearn-color-unfitted-level-2);\n",
       "}\n",
       "\n",
       "#sk-container-id-1 div.sk-label.fitted input.sk-toggleable__control:checked~label.sk-toggleable__label {\n",
       "  background-color: var(--sklearn-color-fitted-level-2);\n",
       "}\n",
       "\n",
       "/* Estimator-specific style */\n",
       "\n",
       "/* Colorize estimator box */\n",
       "#sk-container-id-1 div.sk-estimator input.sk-toggleable__control:checked~label.sk-toggleable__label {\n",
       "  /* unfitted */\n",
       "  background-color: var(--sklearn-color-unfitted-level-2);\n",
       "}\n",
       "\n",
       "#sk-container-id-1 div.sk-estimator.fitted input.sk-toggleable__control:checked~label.sk-toggleable__label {\n",
       "  /* fitted */\n",
       "  background-color: var(--sklearn-color-fitted-level-2);\n",
       "}\n",
       "\n",
       "#sk-container-id-1 div.sk-label label.sk-toggleable__label,\n",
       "#sk-container-id-1 div.sk-label label {\n",
       "  /* The background is the default theme color */\n",
       "  color: var(--sklearn-color-text-on-default-background);\n",
       "}\n",
       "\n",
       "/* On hover, darken the color of the background */\n",
       "#sk-container-id-1 div.sk-label:hover label.sk-toggleable__label {\n",
       "  color: var(--sklearn-color-text);\n",
       "  background-color: var(--sklearn-color-unfitted-level-2);\n",
       "}\n",
       "\n",
       "/* Label box, darken color on hover, fitted */\n",
       "#sk-container-id-1 div.sk-label.fitted:hover label.sk-toggleable__label.fitted {\n",
       "  color: var(--sklearn-color-text);\n",
       "  background-color: var(--sklearn-color-fitted-level-2);\n",
       "}\n",
       "\n",
       "/* Estimator label */\n",
       "\n",
       "#sk-container-id-1 div.sk-label label {\n",
       "  font-family: monospace;\n",
       "  font-weight: bold;\n",
       "  display: inline-block;\n",
       "  line-height: 1.2em;\n",
       "}\n",
       "\n",
       "#sk-container-id-1 div.sk-label-container {\n",
       "  text-align: center;\n",
       "}\n",
       "\n",
       "/* Estimator-specific */\n",
       "#sk-container-id-1 div.sk-estimator {\n",
       "  font-family: monospace;\n",
       "  border: 1px dotted var(--sklearn-color-border-box);\n",
       "  border-radius: 0.25em;\n",
       "  box-sizing: border-box;\n",
       "  margin-bottom: 0.5em;\n",
       "  /* unfitted */\n",
       "  background-color: var(--sklearn-color-unfitted-level-0);\n",
       "}\n",
       "\n",
       "#sk-container-id-1 div.sk-estimator.fitted {\n",
       "  /* fitted */\n",
       "  background-color: var(--sklearn-color-fitted-level-0);\n",
       "}\n",
       "\n",
       "/* on hover */\n",
       "#sk-container-id-1 div.sk-estimator:hover {\n",
       "  /* unfitted */\n",
       "  background-color: var(--sklearn-color-unfitted-level-2);\n",
       "}\n",
       "\n",
       "#sk-container-id-1 div.sk-estimator.fitted:hover {\n",
       "  /* fitted */\n",
       "  background-color: var(--sklearn-color-fitted-level-2);\n",
       "}\n",
       "\n",
       "/* Specification for estimator info (e.g. \"i\" and \"?\") */\n",
       "\n",
       "/* Common style for \"i\" and \"?\" */\n",
       "\n",
       ".sk-estimator-doc-link,\n",
       "a:link.sk-estimator-doc-link,\n",
       "a:visited.sk-estimator-doc-link {\n",
       "  float: right;\n",
       "  font-size: smaller;\n",
       "  line-height: 1em;\n",
       "  font-family: monospace;\n",
       "  background-color: var(--sklearn-color-background);\n",
       "  border-radius: 1em;\n",
       "  height: 1em;\n",
       "  width: 1em;\n",
       "  text-decoration: none !important;\n",
       "  margin-left: 1ex;\n",
       "  /* unfitted */\n",
       "  border: var(--sklearn-color-unfitted-level-1) 1pt solid;\n",
       "  color: var(--sklearn-color-unfitted-level-1);\n",
       "}\n",
       "\n",
       ".sk-estimator-doc-link.fitted,\n",
       "a:link.sk-estimator-doc-link.fitted,\n",
       "a:visited.sk-estimator-doc-link.fitted {\n",
       "  /* fitted */\n",
       "  border: var(--sklearn-color-fitted-level-1) 1pt solid;\n",
       "  color: var(--sklearn-color-fitted-level-1);\n",
       "}\n",
       "\n",
       "/* On hover */\n",
       "div.sk-estimator:hover .sk-estimator-doc-link:hover,\n",
       ".sk-estimator-doc-link:hover,\n",
       "div.sk-label-container:hover .sk-estimator-doc-link:hover,\n",
       ".sk-estimator-doc-link:hover {\n",
       "  /* unfitted */\n",
       "  background-color: var(--sklearn-color-unfitted-level-3);\n",
       "  color: var(--sklearn-color-background);\n",
       "  text-decoration: none;\n",
       "}\n",
       "\n",
       "div.sk-estimator.fitted:hover .sk-estimator-doc-link.fitted:hover,\n",
       ".sk-estimator-doc-link.fitted:hover,\n",
       "div.sk-label-container:hover .sk-estimator-doc-link.fitted:hover,\n",
       ".sk-estimator-doc-link.fitted:hover {\n",
       "  /* fitted */\n",
       "  background-color: var(--sklearn-color-fitted-level-3);\n",
       "  color: var(--sklearn-color-background);\n",
       "  text-decoration: none;\n",
       "}\n",
       "\n",
       "/* Span, style for the box shown on hovering the info icon */\n",
       ".sk-estimator-doc-link span {\n",
       "  display: none;\n",
       "  z-index: 9999;\n",
       "  position: relative;\n",
       "  font-weight: normal;\n",
       "  right: .2ex;\n",
       "  padding: .5ex;\n",
       "  margin: .5ex;\n",
       "  width: min-content;\n",
       "  min-width: 20ex;\n",
       "  max-width: 50ex;\n",
       "  color: var(--sklearn-color-text);\n",
       "  box-shadow: 2pt 2pt 4pt #999;\n",
       "  /* unfitted */\n",
       "  background: var(--sklearn-color-unfitted-level-0);\n",
       "  border: .5pt solid var(--sklearn-color-unfitted-level-3);\n",
       "}\n",
       "\n",
       ".sk-estimator-doc-link.fitted span {\n",
       "  /* fitted */\n",
       "  background: var(--sklearn-color-fitted-level-0);\n",
       "  border: var(--sklearn-color-fitted-level-3);\n",
       "}\n",
       "\n",
       ".sk-estimator-doc-link:hover span {\n",
       "  display: block;\n",
       "}\n",
       "\n",
       "/* \"?\"-specific style due to the `<a>` HTML tag */\n",
       "\n",
       "#sk-container-id-1 a.estimator_doc_link {\n",
       "  float: right;\n",
       "  font-size: 1rem;\n",
       "  line-height: 1em;\n",
       "  font-family: monospace;\n",
       "  background-color: var(--sklearn-color-background);\n",
       "  border-radius: 1rem;\n",
       "  height: 1rem;\n",
       "  width: 1rem;\n",
       "  text-decoration: none;\n",
       "  /* unfitted */\n",
       "  color: var(--sklearn-color-unfitted-level-1);\n",
       "  border: var(--sklearn-color-unfitted-level-1) 1pt solid;\n",
       "}\n",
       "\n",
       "#sk-container-id-1 a.estimator_doc_link.fitted {\n",
       "  /* fitted */\n",
       "  border: var(--sklearn-color-fitted-level-1) 1pt solid;\n",
       "  color: var(--sklearn-color-fitted-level-1);\n",
       "}\n",
       "\n",
       "/* On hover */\n",
       "#sk-container-id-1 a.estimator_doc_link:hover {\n",
       "  /* unfitted */\n",
       "  background-color: var(--sklearn-color-unfitted-level-3);\n",
       "  color: var(--sklearn-color-background);\n",
       "  text-decoration: none;\n",
       "}\n",
       "\n",
       "#sk-container-id-1 a.estimator_doc_link.fitted:hover {\n",
       "  /* fitted */\n",
       "  background-color: var(--sklearn-color-fitted-level-3);\n",
       "}\n",
       "</style><div id=\"sk-container-id-1\" class=\"sk-top-container\"><div class=\"sk-text-repr-fallback\"><pre>XGBClassifier(base_score=None, booster=None, callbacks=None,\n",
       "              colsample_bylevel=None, colsample_bynode=0.2282720019773668,\n",
       "              colsample_bytree=None, device=None, early_stopping_rounds=None,\n",
       "              enable_categorical=False,\n",
       "              eval_metric=&lt;function custom_f1_score at 0x7faf75f34680&gt;,\n",
       "              feature_types=None, gamma=None, grow_policy=None,\n",
       "              importance_type=None, interaction_constraints=None,\n",
       "              learning_rate=0.13012105720586856, max_bin=None,\n",
       "              max_cat_threshold=None, max_cat_to_onehot=None,\n",
       "              max_delta_step=None, max_depth=3, max_leaves=None,\n",
       "              min_child_weight=2, missing=nan, monotone_constraints=None,\n",
       "              multi_strategy=None, n_estimators=92, n_jobs=None,\n",
       "              num_parallel_tree=None, objective=&#x27;multi:softprob&#x27;, ...)</pre><b>In a Jupyter environment, please rerun this cell to show the HTML representation or trust the notebook. <br />On GitHub, the HTML representation is unable to render, please try loading this page with nbviewer.org.</b></div><div class=\"sk-container\" hidden><div class=\"sk-item\"><div class=\"sk-estimator fitted sk-toggleable\"><input class=\"sk-toggleable__control sk-hidden--visually\" id=\"sk-estimator-id-1\" type=\"checkbox\" checked><label for=\"sk-estimator-id-1\" class=\"sk-toggleable__label fitted sk-toggleable__label-arrow fitted\">&nbsp;XGBClassifier<span class=\"sk-estimator-doc-link fitted\">i<span>Fitted</span></span></label><div class=\"sk-toggleable__content fitted\"><pre>XGBClassifier(base_score=None, booster=None, callbacks=None,\n",
       "              colsample_bylevel=None, colsample_bynode=0.2282720019773668,\n",
       "              colsample_bytree=None, device=None, early_stopping_rounds=None,\n",
       "              enable_categorical=False,\n",
       "              eval_metric=&lt;function custom_f1_score at 0x7faf75f34680&gt;,\n",
       "              feature_types=None, gamma=None, grow_policy=None,\n",
       "              importance_type=None, interaction_constraints=None,\n",
       "              learning_rate=0.13012105720586856, max_bin=None,\n",
       "              max_cat_threshold=None, max_cat_to_onehot=None,\n",
       "              max_delta_step=None, max_depth=3, max_leaves=None,\n",
       "              min_child_weight=2, missing=nan, monotone_constraints=None,\n",
       "              multi_strategy=None, n_estimators=92, n_jobs=None,\n",
       "              num_parallel_tree=None, objective=&#x27;multi:softprob&#x27;, ...)</pre></div> </div></div></div></div>"
      ],
      "text/plain": [
       "XGBClassifier(base_score=None, booster=None, callbacks=None,\n",
       "              colsample_bylevel=None, colsample_bynode=0.2282720019773668,\n",
       "              colsample_bytree=None, device=None, early_stopping_rounds=None,\n",
       "              enable_categorical=False,\n",
       "              eval_metric=<function custom_f1_score at 0x7faf75f34680>,\n",
       "              feature_types=None, gamma=None, grow_policy=None,\n",
       "              importance_type=None, interaction_constraints=None,\n",
       "              learning_rate=0.13012105720586856, max_bin=None,\n",
       "              max_cat_threshold=None, max_cat_to_onehot=None,\n",
       "              max_delta_step=None, max_depth=3, max_leaves=None,\n",
       "              min_child_weight=2, missing=nan, monotone_constraints=None,\n",
       "              multi_strategy=None, n_estimators=92, n_jobs=None,\n",
       "              num_parallel_tree=None, objective='multi:softprob', ...)"
      ]
     },
     "execution_count": 21,
     "metadata": {},
     "output_type": "execute_result"
    }
   ],
   "source": [
    "n_estimators = int(study.best_trial.user_attrs['best_iteration']*1.2)\n",
    "xgb = xgboost.XGBClassifier(\n",
    "        eval_metric=eval_metric,\n",
    "        n_estimators=n_estimators,\n",
    "        **study.best_trial.params\n",
    "    )\n",
    "xgb.fit(\n",
    "    ssp.vstack((X_train, X_val)), \n",
    "    np.concatenate((y_train_enc, y_val_enc)),\n",
    "    verbose=1,\n",
    ")"
   ]
  },
  {
   "cell_type": "code",
   "execution_count": 22,
   "id": "8dcc7847",
   "metadata": {
    "execution": {
     "iopub.execute_input": "2025-05-15T16:15:53.939082Z",
     "iopub.status.busy": "2025-05-15T16:15:53.938793Z",
     "iopub.status.idle": "2025-05-15T16:15:53.958196Z",
     "shell.execute_reply": "2025-05-15T16:15:53.957744Z"
    },
    "papermill": {
     "duration": 0.031567,
     "end_time": "2025-05-15T16:15:53.959499",
     "exception": false,
     "start_time": "2025-05-15T16:15:53.927932",
     "status": "completed"
    },
    "tags": []
   },
   "outputs": [
    {
     "data": {
      "text/plain": [
       "['/scratch_isilon/groups/singlecell/shared/projects/Inflammation-PBMCs-Atlas/03_downstream_analysis/08_gene_importance/xgboost_external_validation/xgboost_TopN_genes/results_20/best_model/Plasma_10_4_xgb.json']"
      ]
     },
     "execution_count": 22,
     "metadata": {},
     "output_type": "execute_result"
    }
   ],
   "source": [
    "out_dir = here(f'03_downstream_analysis/08_gene_importance/xgboost_external_validation/xgboost_TopN_genes/results_{N_GENES}/best_model')\n",
    "\n",
    "if not os.path.exists(out_dir):\n",
    "    os.makedirs(out_dir)\n",
    "    \n",
    "joblib.dump(xgb, os.path.join(out_dir, f'{CELL_TYPE}_{SEED}_{TEST_SPLIT_IDX}_xgb.json'))"
   ]
  },
  {
   "cell_type": "code",
   "execution_count": 23,
   "id": "36b6deea",
   "metadata": {
    "execution": {
     "iopub.execute_input": "2025-05-15T16:15:53.983964Z",
     "iopub.status.busy": "2025-05-15T16:15:53.983474Z",
     "iopub.status.idle": "2025-05-15T16:15:53.991050Z",
     "shell.execute_reply": "2025-05-15T16:15:53.990565Z"
    },
    "papermill": {
     "duration": 0.021326,
     "end_time": "2025-05-15T16:15:53.992498",
     "exception": false,
     "start_time": "2025-05-15T16:15:53.971172",
     "status": "completed"
    },
    "tags": []
   },
   "outputs": [],
   "source": [
    "df_pred_test = pd.DataFrame(dict(\n",
    "    cell_id=train_adata.obs.iloc[test_idxs].index.values,\n",
    "    y_true=y_test, \n",
    "    y_true_code=y_test_enc, \n",
    "    y_pred=xgb.predict(X_test))).set_index('cell_id')"
   ]
  },
  {
   "cell_type": "code",
   "execution_count": 24,
   "id": "71286159",
   "metadata": {
    "execution": {
     "iopub.execute_input": "2025-05-15T16:15:54.019093Z",
     "iopub.status.busy": "2025-05-15T16:15:54.018617Z",
     "iopub.status.idle": "2025-05-15T16:15:54.032151Z",
     "shell.execute_reply": "2025-05-15T16:15:54.031584Z"
    },
    "papermill": {
     "duration": 0.029408,
     "end_time": "2025-05-15T16:15:54.033625",
     "exception": false,
     "start_time": "2025-05-15T16:15:54.004217",
     "status": "completed"
    },
    "tags": []
   },
   "outputs": [],
   "source": [
    "out_dir = here(f'03_downstream_analysis/08_gene_importance/xgboost_external_validation/xgboost_TopN_genes/results_{N_GENES}/predictions')\n",
    "\n",
    "if not os.path.exists(out_dir):\n",
    "    os.makedirs(out_dir)\n",
    "    \n",
    "df_pred_test.to_csv(os.path.join(out_dir, f'{CELL_TYPE}_{SEED}_{TEST_SPLIT_IDX}_pred_test.zip'))"
   ]
  },
  {
   "cell_type": "code",
   "execution_count": 25,
   "id": "27cc5dc5",
   "metadata": {
    "execution": {
     "iopub.execute_input": "2025-05-15T16:15:54.057662Z",
     "iopub.status.busy": "2025-05-15T16:15:54.057226Z",
     "iopub.status.idle": "2025-05-15T16:15:54.064006Z",
     "shell.execute_reply": "2025-05-15T16:15:54.063634Z"
    },
    "papermill": {
     "duration": 0.019669,
     "end_time": "2025-05-15T16:15:54.065036",
     "exception": false,
     "start_time": "2025-05-15T16:15:54.045367",
     "status": "completed"
    },
    "tags": []
   },
   "outputs": [],
   "source": [
    "metrics_dict = dict(\n",
    "    BAS=balanced_accuracy_score(y_true=df_pred_test.y_true_code, y_pred=df_pred_test.y_pred), WF1=f1_score(y_true=df_pred_test.y_true_code, y_pred=df_pred_test.y_pred,average='weighted'))"
   ]
  },
  {
   "cell_type": "code",
   "execution_count": 26,
   "id": "75706db1",
   "metadata": {
    "execution": {
     "iopub.execute_input": "2025-05-15T16:15:54.099864Z",
     "iopub.status.busy": "2025-05-15T16:15:54.099543Z",
     "iopub.status.idle": "2025-05-15T16:15:54.102875Z",
     "shell.execute_reply": "2025-05-15T16:15:54.102522Z"
    },
    "papermill": {
     "duration": 0.014474,
     "end_time": "2025-05-15T16:15:54.103919",
     "exception": false,
     "start_time": "2025-05-15T16:15:54.089445",
     "status": "completed"
    },
    "tags": []
   },
   "outputs": [
    {
     "data": {
      "text/plain": [
       "{'BAS': 0.44799297924297926, 'WF1': 0.6485037631082256}"
      ]
     },
     "execution_count": 26,
     "metadata": {},
     "output_type": "execute_result"
    }
   ],
   "source": [
    "metrics_dict"
   ]
  },
  {
   "cell_type": "code",
   "execution_count": 27,
   "id": "802544a3",
   "metadata": {
    "execution": {
     "iopub.execute_input": "2025-05-15T16:15:54.124478Z",
     "iopub.status.busy": "2025-05-15T16:15:54.123991Z",
     "iopub.status.idle": "2025-05-15T16:15:54.133427Z",
     "shell.execute_reply": "2025-05-15T16:15:54.133080Z"
    },
    "papermill": {
     "duration": 0.020576,
     "end_time": "2025-05-15T16:15:54.134344",
     "exception": false,
     "start_time": "2025-05-15T16:15:54.113768",
     "status": "completed"
    },
    "tags": []
   },
   "outputs": [
    {
     "data": {
      "text/html": [
       "<div>\n",
       "<style scoped>\n",
       "    .dataframe tbody tr th:only-of-type {\n",
       "        vertical-align: middle;\n",
       "    }\n",
       "\n",
       "    .dataframe tbody tr th {\n",
       "        vertical-align: top;\n",
       "    }\n",
       "\n",
       "    .dataframe thead th {\n",
       "        text-align: right;\n",
       "    }\n",
       "</style>\n",
       "<table border=\"1\" class=\"dataframe\">\n",
       "  <thead>\n",
       "    <tr style=\"text-align: right;\">\n",
       "      <th></th>\n",
       "      <th>BAS</th>\n",
       "      <th>WF1</th>\n",
       "      <th>split_idx</th>\n",
       "      <th>gene_set_seed</th>\n",
       "      <th>cell_type</th>\n",
       "    </tr>\n",
       "  </thead>\n",
       "  <tbody>\n",
       "    <tr>\n",
       "      <th>0</th>\n",
       "      <td>0.447993</td>\n",
       "      <td>0.648504</td>\n",
       "      <td>4</td>\n",
       "      <td>10</td>\n",
       "      <td>Plasma</td>\n",
       "    </tr>\n",
       "  </tbody>\n",
       "</table>\n",
       "</div>"
      ],
      "text/plain": [
       "        BAS       WF1  split_idx  gene_set_seed cell_type\n",
       "0  0.447993  0.648504          4             10    Plasma"
      ]
     },
     "execution_count": 27,
     "metadata": {},
     "output_type": "execute_result"
    }
   ],
   "source": [
    "metrics_df = pd.DataFrame.from_dict([metrics_dict]).assign(split_idx=TEST_SPLIT_IDX, gene_set_seed=SEED, cell_type=CELL_TYPE)\n",
    "metrics_df"
   ]
  },
  {
   "cell_type": "code",
   "execution_count": 28,
   "id": "48ebf7b2",
   "metadata": {
    "execution": {
     "iopub.execute_input": "2025-05-15T16:15:54.154602Z",
     "iopub.status.busy": "2025-05-15T16:15:54.154219Z",
     "iopub.status.idle": "2025-05-15T16:15:54.162737Z",
     "shell.execute_reply": "2025-05-15T16:15:54.162337Z"
    },
    "papermill": {
     "duration": 0.019524,
     "end_time": "2025-05-15T16:15:54.163681",
     "exception": false,
     "start_time": "2025-05-15T16:15:54.144157",
     "status": "completed"
    },
    "tags": []
   },
   "outputs": [],
   "source": [
    "out_dir = here(f'03_downstream_analysis/08_gene_importance/xgboost_external_validation/xgboost_TopN_genes/results_{N_GENES}/metrics')\n",
    "\n",
    "if not os.path.exists(out_dir):\n",
    "    os.makedirs(out_dir)\n",
    "    \n",
    "metrics_df.to_csv(os.path.join(out_dir, f'{CELL_TYPE}_{SEED}_{TEST_SPLIT_IDX}_metrics.zip'))"
   ]
  }
 ],
 "metadata": {
  "kernelspec": {
   "display_name": "Python 3 (ipykernel)",
   "language": "python",
   "name": "python3"
  },
  "language_info": {
   "codemirror_mode": {
    "name": "ipython",
    "version": 3
   },
   "file_extension": ".py",
   "mimetype": "text/x-python",
   "name": "python",
   "nbconvert_exporter": "python",
   "pygments_lexer": "ipython3",
   "version": "3.12.5"
  },
  "papermill": {
   "default_parameters": {},
   "duration": 17.884947,
   "end_time": "2025-05-15T16:15:54.890553",
   "environment_variables": {},
   "exception": null,
   "input_path": "02_xgboost_fitting_external_20genes.ipynb",
   "output_path": "results_20/executed_notebooks/xgboost_fitting_external_CT_Plasma_GS_10_seed4.ipynb",
   "parameters": {
    "CELL_TYPE": "Plasma",
    "SEED": 10,
    "TEST_SPLIT_IDX": 4
   },
   "start_time": "2025-05-15T16:15:37.005606",
   "version": "2.6.0"
  }
 },
 "nbformat": 4,
 "nbformat_minor": 5
}