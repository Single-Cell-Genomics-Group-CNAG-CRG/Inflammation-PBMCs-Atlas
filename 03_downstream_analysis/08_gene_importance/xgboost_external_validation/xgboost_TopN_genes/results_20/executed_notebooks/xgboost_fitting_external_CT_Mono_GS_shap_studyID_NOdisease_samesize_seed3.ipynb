{
 "cells": [
  {
   "cell_type": "code",
   "execution_count": 1,
   "id": "5af585eb",
   "metadata": {
    "editable": true,
    "execution": {
     "iopub.execute_input": "2025-06-13T13:01:04.720849Z",
     "iopub.status.busy": "2025-06-13T13:01:04.720619Z",
     "iopub.status.idle": "2025-06-13T13:01:04.723360Z",
     "shell.execute_reply": "2025-06-13T13:01:04.723044Z"
    },
    "papermill": {
     "duration": 0.019803,
     "end_time": "2025-06-13T13:01:04.724238",
     "exception": false,
     "start_time": "2025-06-13T13:01:04.704435",
     "status": "completed"
    },
    "slideshow": {
     "slide_type": ""
    },
    "tags": [
     "parameters"
    ]
   },
   "outputs": [],
   "source": [
    "CELL_TYPE = 'pDC'\n",
    "N_GENES: int = 20\n",
    "SEED = 'shap_studyID' #'disease_NOstudy' 'study_NOdisease' or 'int' or 'shap_studyID'\n",
    "TEST_SPLIT_IDX: int = 1 #[0,4]"
   ]
  },
  {
   "cell_type": "code",
   "execution_count": 2,
   "id": "212d84bf",
   "metadata": {
    "execution": {
     "iopub.execute_input": "2025-06-13T13:01:04.758023Z",
     "iopub.status.busy": "2025-06-13T13:01:04.757743Z",
     "iopub.status.idle": "2025-06-13T13:01:04.759734Z",
     "shell.execute_reply": "2025-06-13T13:01:04.759414Z"
    },
    "papermill": {
     "duration": 0.016143,
     "end_time": "2025-06-13T13:01:04.760615",
     "exception": false,
     "start_time": "2025-06-13T13:01:04.744472",
     "status": "completed"
    },
    "tags": [
     "injected-parameters"
    ]
   },
   "outputs": [],
   "source": [
    "# Parameters\n",
    "CELL_TYPE = \"Mono\"\n",
    "SEED = \"shap_studyID_NOdisease_samesize\"\n",
    "TEST_SPLIT_IDX = 3\n"
   ]
  },
  {
   "cell_type": "code",
   "execution_count": 3,
   "id": "d14e8c01",
   "metadata": {
    "execution": {
     "iopub.execute_input": "2025-06-13T13:01:04.884361Z",
     "iopub.status.busy": "2025-06-13T13:01:04.884008Z",
     "iopub.status.idle": "2025-06-13T13:01:04.886192Z",
     "shell.execute_reply": "2025-06-13T13:01:04.885899Z"
    },
    "papermill": {
     "duration": 0.093113,
     "end_time": "2025-06-13T13:01:04.887013",
     "exception": false,
     "start_time": "2025-06-13T13:01:04.793900",
     "status": "completed"
    },
    "tags": []
   },
   "outputs": [],
   "source": [
    "N_SPLITS: int = 5\n",
    "N_TRIALS: int = 50"
   ]
  },
  {
   "cell_type": "code",
   "execution_count": 4,
   "id": "8eb2d1d0",
   "metadata": {
    "execution": {
     "iopub.execute_input": "2025-06-13T13:01:04.917294Z",
     "iopub.status.busy": "2025-06-13T13:01:04.916809Z",
     "iopub.status.idle": "2025-06-13T13:01:12.785841Z",
     "shell.execute_reply": "2025-06-13T13:01:12.785339Z"
    },
    "papermill": {
     "duration": 7.881831,
     "end_time": "2025-06-13T13:01:12.787260",
     "exception": false,
     "start_time": "2025-06-13T13:01:04.905429",
     "status": "completed"
    },
    "tags": []
   },
   "outputs": [],
   "source": [
    "import os\n",
    "import sys\n",
    "from pyprojroot.here import here\n",
    "import pandas as pd\n",
    "import anndata as ad\n",
    "import numpy as np\n",
    "import math\n",
    "from sklearn.model_selection import StratifiedGroupKFold\n",
    "from sklearn.preprocessing import LabelEncoder\n",
    "from sklearn.metrics import f1_score\n",
    "import matplotlib.pyplot as plt\n",
    "import seaborn as sns\n",
    "from itertools import product\n",
    "from sklearn.metrics import balanced_accuracy_score, f1_score\n",
    "import optuna\n",
    "\n",
    "import joblib\n",
    "import pickle\n",
    "import datetime\n",
    "\n",
    "import collections\n",
    "\n",
    "import xgboost\n",
    "from sklearn.preprocessing import LabelEncoder\n",
    "\n",
    "import scipy.sparse as ssp\n",
    "import joblib\n",
    "\n",
    "from dotenv import load_dotenv"
   ]
  },
  {
   "cell_type": "code",
   "execution_count": 5,
   "id": "7cfb7b05",
   "metadata": {
    "execution": {
     "iopub.execute_input": "2025-06-13T13:01:13.089390Z",
     "iopub.status.busy": "2025-06-13T13:01:13.088950Z",
     "iopub.status.idle": "2025-06-13T13:01:13.097528Z",
     "shell.execute_reply": "2025-06-13T13:01:13.097202Z"
    },
    "papermill": {
     "duration": 0.089124,
     "end_time": "2025-06-13T13:01:13.098373",
     "exception": false,
     "start_time": "2025-06-13T13:01:13.009249",
     "status": "completed"
    },
    "tags": []
   },
   "outputs": [
    {
     "data": {
      "text/plain": [
       "True"
      ]
     },
     "execution_count": 5,
     "metadata": {},
     "output_type": "execute_result"
    }
   ],
   "source": [
    "load_dotenv()"
   ]
  },
  {
   "cell_type": "markdown",
   "id": "4a297fea",
   "metadata": {
    "papermill": {
     "duration": 0.014448,
     "end_time": "2025-06-13T13:01:13.128033",
     "exception": false,
     "start_time": "2025-06-13T13:01:13.113585",
     "status": "completed"
    },
    "tags": []
   },
   "source": [
    "# LOAD DATASET"
   ]
  },
  {
   "cell_type": "code",
   "execution_count": 6,
   "id": "d2fa384f",
   "metadata": {
    "execution": {
     "iopub.execute_input": "2025-06-13T13:01:13.153699Z",
     "iopub.status.busy": "2025-06-13T13:01:13.153511Z",
     "iopub.status.idle": "2025-06-13T13:01:14.926256Z",
     "shell.execute_reply": "2025-06-13T13:01:14.925740Z"
    },
    "papermill": {
     "duration": 1.785986,
     "end_time": "2025-06-13T13:01:14.927724",
     "exception": false,
     "start_time": "2025-06-13T13:01:13.141738",
     "status": "completed"
    },
    "tags": []
   },
   "outputs": [],
   "source": [
    "train_adata = ad.read_h5ad(\n",
    "    here(f'03_downstream_analysis/08_gene_importance/xgboost_external_validation/xgboost_TopN_genes/data_cellTypes/EXTERNAL_{CELL_TYPE}.filtered.log1p.h5ad')\n",
    ")"
   ]
  },
  {
   "cell_type": "code",
   "execution_count": 7,
   "id": "f4ee8f36",
   "metadata": {
    "execution": {
     "iopub.execute_input": "2025-06-13T13:01:16.385168Z",
     "iopub.status.busy": "2025-06-13T13:01:16.384662Z",
     "iopub.status.idle": "2025-06-13T13:01:17.311222Z",
     "shell.execute_reply": "2025-06-13T13:01:17.310873Z"
    },
    "papermill": {
     "duration": 1.584127,
     "end_time": "2025-06-13T13:01:17.312177",
     "exception": false,
     "start_time": "2025-06-13T13:01:15.728050",
     "status": "completed"
    },
    "tags": []
   },
   "outputs": [
    {
     "name": "stdout",
     "output_type": "stream",
     "text": [
      "['ENSG00000002549' 'ENSG00000002586' 'ENSG00000010327' 'ENSG00000018280'\n",
      " 'ENSG00000026025' 'ENSG00000028137' 'ENSG00000033800' 'ENSG00000042753'\n",
      " 'ENSG00000059728' 'ENSG00000075785' 'ENSG00000077150' 'ENSG00000078043'\n",
      " 'ENSG00000089737' 'ENSG00000090863' 'ENSG00000099624' 'ENSG00000100300'\n",
      " 'ENSG00000100365' 'ENSG00000100368' 'ENSG00000100393' 'ENSG00000100664'\n",
      " 'ENSG00000100911' 'ENSG00000101350' 'ENSG00000101608' 'ENSG00000101695'\n",
      " 'ENSG00000104093' 'ENSG00000104904' 'ENSG00000104964' 'ENSG00000104998'\n",
      " 'ENSG00000105851' 'ENSG00000106803' 'ENSG00000108639' 'ENSG00000110395'\n",
      " 'ENSG00000110876' 'ENSG00000111348' 'ENSG00000111640' 'ENSG00000111716'\n",
      " 'ENSG00000112561' 'ENSG00000113070' 'ENSG00000113441' 'ENSG00000113615'\n",
      " 'ENSG00000115073' 'ENSG00000116171' 'ENSG00000116701' 'ENSG00000116815'\n",
      " 'ENSG00000117602' 'ENSG00000118640' 'ENSG00000118971' 'ENSG00000120594'\n",
      " 'ENSG00000121316' 'ENSG00000121879' 'ENSG00000125538' 'ENSG00000125743'\n",
      " 'ENSG00000127022' 'ENSG00000127314' 'ENSG00000127507' 'ENSG00000128524'\n",
      " 'ENSG00000130755' 'ENSG00000131042' 'ENSG00000131143' 'ENSG00000131196'\n",
      " 'ENSG00000132912' 'ENSG00000135046' 'ENSG00000135441' 'ENSG00000135720'\n",
      " 'ENSG00000135968' 'ENSG00000136156' 'ENSG00000137100' 'ENSG00000138674'\n",
      " 'ENSG00000139192' 'ENSG00000140379' 'ENSG00000141574' 'ENSG00000142208'\n",
      " 'ENSG00000143924' 'ENSG00000144746' 'ENSG00000148908' 'ENSG00000150093'\n",
      " 'ENSG00000160213' 'ENSG00000160883' 'ENSG00000161921' 'ENSG00000163191'\n",
      " 'ENSG00000163220' 'ENSG00000163513' 'ENSG00000163659' 'ENSG00000163660'\n",
      " 'ENSG00000163737' 'ENSG00000163823' 'ENSG00000163931' 'ENSG00000164104'\n",
      " 'ENSG00000164136' 'ENSG00000164307' 'ENSG00000164308' 'ENSG00000166927'\n",
      " 'ENSG00000166949' 'ENSG00000167004' 'ENSG00000173757' 'ENSG00000175489'\n",
      " 'ENSG00000176986' 'ENSG00000177556' 'ENSG00000177663' 'ENSG00000179218'\n",
      " 'ENSG00000179295' 'ENSG00000180008' 'ENSG00000182578' 'ENSG00000184007'\n",
      " 'ENSG00000184752' 'ENSG00000185215' 'ENSG00000185291' 'ENSG00000185745'\n",
      " 'ENSG00000185950' 'ENSG00000196126' 'ENSG00000196735' 'ENSG00000197102'\n",
      " 'ENSG00000197329' 'ENSG00000197632' 'ENSG00000197746' 'ENSG00000203747'\n",
      " 'ENSG00000204264' 'ENSG00000277791']\n"
     ]
    }
   ],
   "source": [
    "if SEED != 'all':\n",
    "    gene_subset = np.load(here(f'03_downstream_analysis/08_gene_importance/xgboost_external_validation/shap_gene_selection/gene_subsets_{N_GENES}/{CELL_TYPE}_{SEED}.npy'), allow_pickle=True)\n",
    "    train_adata = train_adata[:,gene_subset]\n",
    "    print(gene_subset)\n",
    "elif SEED == 'all':\n",
    "    print('Using all genes')\n",
    "else:\n",
    "    raise ValueError()"
   ]
  },
  {
   "cell_type": "code",
   "execution_count": 8,
   "id": "233e0dbf",
   "metadata": {
    "execution": {
     "iopub.execute_input": "2025-06-13T13:01:17.499414Z",
     "iopub.status.busy": "2025-06-13T13:01:17.499154Z",
     "iopub.status.idle": "2025-06-13T13:01:17.502627Z",
     "shell.execute_reply": "2025-06-13T13:01:17.502312Z"
    },
    "papermill": {
     "duration": 0.131307,
     "end_time": "2025-06-13T13:01:17.503491",
     "exception": false,
     "start_time": "2025-06-13T13:01:17.372184",
     "status": "completed"
    },
    "tags": []
   },
   "outputs": [
    {
     "data": {
      "text/plain": [
       "(137435, 118)"
      ]
     },
     "execution_count": 8,
     "metadata": {},
     "output_type": "execute_result"
    }
   ],
   "source": [
    "train_adata.shape"
   ]
  },
  {
   "cell_type": "code",
   "execution_count": 9,
   "id": "4760635d",
   "metadata": {
    "execution": {
     "iopub.execute_input": "2025-06-13T13:01:17.558133Z",
     "iopub.status.busy": "2025-06-13T13:01:17.557869Z",
     "iopub.status.idle": "2025-06-13T13:01:17.562408Z",
     "shell.execute_reply": "2025-06-13T13:01:17.562107Z"
    },
    "papermill": {
     "duration": 0.025602,
     "end_time": "2025-06-13T13:01:17.563237",
     "exception": false,
     "start_time": "2025-06-13T13:01:17.537635",
     "status": "completed"
    },
    "tags": []
   },
   "outputs": [
    {
     "data": {
      "text/plain": [
       "['RA', 'healthy', 'COVID', 'HIV', 'cirrhosis', 'CD', 'SLE', 'sepsis']\n",
       "Categories (8, object): ['CD', 'COVID', 'HIV', 'RA', 'SLE', 'cirrhosis', 'healthy', 'sepsis']"
      ]
     },
     "execution_count": 9,
     "metadata": {},
     "output_type": "execute_result"
    }
   ],
   "source": [
    "train_adata.obs.disease.unique()"
   ]
  },
  {
   "cell_type": "code",
   "execution_count": 10,
   "id": "2d9e6eab",
   "metadata": {
    "execution": {
     "iopub.execute_input": "2025-06-13T13:01:17.592238Z",
     "iopub.status.busy": "2025-06-13T13:01:17.591843Z",
     "iopub.status.idle": "2025-06-13T13:01:17.595796Z",
     "shell.execute_reply": "2025-06-13T13:01:17.595474Z"
    },
    "papermill": {
     "duration": 0.018836,
     "end_time": "2025-06-13T13:01:17.596643",
     "exception": false,
     "start_time": "2025-06-13T13:01:17.577807",
     "status": "completed"
    },
    "tags": []
   },
   "outputs": [
    {
     "data": {
      "text/plain": [
       "['SCGT00val_I0364_T0', 'SCGT00val_I036028_T0', 'SCGT00val_I036024_T0', 'SCGT00val_I036023_T0', 'SCGT00val_I036019_T0', ..., '10XGenomics_10XHC2_T0', '10XGenomics_10XHC3_T0', '10XGenomics_10XHC5_T0', '10XGenomics_10XHC7_T0', '10XGenomics_10XHC8_T0']\n",
       "Length: 86\n",
       "Categories (86, object): ['10XGenomics_10XHC1_T0', '10XGenomics_10XHC2_T0', '10XGenomics_10XHC3_T0', '10XGenomics_10XHC4_T0', ..., 'Savage2021_BRISL6_T0', 'Savage2021_BRISL7_T0', 'Savage2021_PIDA_T0', 'Savage2021_PIDB_T0']"
      ]
     },
     "execution_count": 10,
     "metadata": {},
     "output_type": "execute_result"
    }
   ],
   "source": [
    "train_adata.obs.sampleID.unique()"
   ]
  },
  {
   "cell_type": "code",
   "execution_count": 11,
   "id": "b0cdab70",
   "metadata": {
    "execution": {
     "iopub.execute_input": "2025-06-13T13:01:17.625393Z",
     "iopub.status.busy": "2025-06-13T13:01:17.625168Z",
     "iopub.status.idle": "2025-06-13T13:01:17.949915Z",
     "shell.execute_reply": "2025-06-13T13:01:17.949428Z"
    },
    "papermill": {
     "duration": 0.34933,
     "end_time": "2025-06-13T13:01:17.951300",
     "exception": false,
     "start_time": "2025-06-13T13:01:17.601970",
     "status": "completed"
    },
    "tags": []
   },
   "outputs": [],
   "source": [
    "all_idxs = np.arange(train_adata.obs.shape[0])\n",
    "left_out_splits = [s[1] for s in StratifiedGroupKFold(n_splits=N_SPLITS).split(all_idxs, train_adata.obs.disease, train_adata.obs.sampleID)]"
   ]
  },
  {
   "cell_type": "code",
   "execution_count": 12,
   "id": "d22dfa6f",
   "metadata": {
    "execution": {
     "iopub.execute_input": "2025-06-13T13:01:18.015285Z",
     "iopub.status.busy": "2025-06-13T13:01:18.014926Z",
     "iopub.status.idle": "2025-06-13T13:01:18.018597Z",
     "shell.execute_reply": "2025-06-13T13:01:18.018267Z"
    },
    "papermill": {
     "duration": 0.050565,
     "end_time": "2025-06-13T13:01:18.019381",
     "exception": false,
     "start_time": "2025-06-13T13:01:17.968816",
     "status": "completed"
    },
    "tags": []
   },
   "outputs": [
    {
     "data": {
      "text/plain": [
       "([0, 1, 2], 4, 3)"
      ]
     },
     "execution_count": 12,
     "metadata": {},
     "output_type": "execute_result"
    }
   ],
   "source": [
    "TRAIN_SPLIT_IDXS = [0,1,2,3,4]\n",
    "VAL_SPLIT_IDX = (TEST_SPLIT_IDX + 1) % 5\n",
    "TRAIN_SPLIT_IDXS.remove(TEST_SPLIT_IDX)\n",
    "TRAIN_SPLIT_IDXS.remove(VAL_SPLIT_IDX)\n",
    "TRAIN_SPLIT_IDXS, VAL_SPLIT_IDX, TEST_SPLIT_IDX"
   ]
  },
  {
   "cell_type": "code",
   "execution_count": 13,
   "id": "b201f484",
   "metadata": {
    "execution": {
     "iopub.execute_input": "2025-06-13T13:01:18.093620Z",
     "iopub.status.busy": "2025-06-13T13:01:18.093334Z",
     "iopub.status.idle": "2025-06-13T13:01:18.095708Z",
     "shell.execute_reply": "2025-06-13T13:01:18.095392Z"
    },
    "papermill": {
     "duration": 0.010612,
     "end_time": "2025-06-13T13:01:18.096597",
     "exception": false,
     "start_time": "2025-06-13T13:01:18.085985",
     "status": "completed"
    },
    "tags": []
   },
   "outputs": [],
   "source": [
    "train_idxs = np.concatenate([left_out_splits[idx] for idx in TRAIN_SPLIT_IDXS])\n",
    "val_idxs = left_out_splits[VAL_SPLIT_IDX]\n",
    "test_idxs = left_out_splits[TEST_SPLIT_IDX]"
   ]
  },
  {
   "cell_type": "markdown",
   "id": "39e75004",
   "metadata": {
    "papermill": {
     "duration": 0.065922,
     "end_time": "2025-06-13T13:01:18.168860",
     "exception": false,
     "start_time": "2025-06-13T13:01:18.102938",
     "status": "completed"
    },
    "tags": []
   },
   "source": [
    "### SUBSET DATASET INTO TRAIN/TEST/VAL SPLITS"
   ]
  },
  {
   "cell_type": "code",
   "execution_count": 14,
   "id": "a9c781f9",
   "metadata": {
    "execution": {
     "iopub.execute_input": "2025-06-13T13:01:18.274359Z",
     "iopub.status.busy": "2025-06-13T13:01:18.274134Z",
     "iopub.status.idle": "2025-06-13T13:01:18.833698Z",
     "shell.execute_reply": "2025-06-13T13:01:18.833287Z"
    },
    "papermill": {
     "duration": 0.605468,
     "end_time": "2025-06-13T13:01:18.834646",
     "exception": false,
     "start_time": "2025-06-13T13:01:18.229178",
     "status": "completed"
    },
    "tags": []
   },
   "outputs": [
    {
     "data": {
      "text/plain": [
       "((81752, 118), (28646, 118), (27037, 118))"
      ]
     },
     "execution_count": 14,
     "metadata": {},
     "output_type": "execute_result"
    }
   ],
   "source": [
    "X_train = train_adata.X[train_idxs]\n",
    "X_test = train_adata.X[test_idxs]\n",
    "X_val = train_adata.X[val_idxs]\n",
    "X_train.shape, X_test.shape, X_val.shape"
   ]
  },
  {
   "cell_type": "code",
   "execution_count": 15,
   "id": "6a46fc70",
   "metadata": {
    "execution": {
     "iopub.execute_input": "2025-06-13T13:01:18.855124Z",
     "iopub.status.busy": "2025-06-13T13:01:18.854920Z",
     "iopub.status.idle": "2025-06-13T13:01:18.871691Z",
     "shell.execute_reply": "2025-06-13T13:01:18.871275Z"
    },
    "papermill": {
     "duration": 0.0282,
     "end_time": "2025-06-13T13:01:18.872698",
     "exception": false,
     "start_time": "2025-06-13T13:01:18.844498",
     "status": "completed"
    },
    "tags": []
   },
   "outputs": [
    {
     "data": {
      "text/plain": [
       "((81752,), (28646,), (27037,))"
      ]
     },
     "execution_count": 15,
     "metadata": {},
     "output_type": "execute_result"
    }
   ],
   "source": [
    "y_train = train_adata.obs.iloc[train_idxs].disease.values.astype(str)\n",
    "y_test = train_adata.obs.iloc[test_idxs].disease.values.astype(str)\n",
    "y_val = train_adata.obs.iloc[val_idxs].disease.values.astype(str)\n",
    "y_train.shape, y_test.shape, y_val.shape"
   ]
  },
  {
   "cell_type": "code",
   "execution_count": 16,
   "id": "0dc262a6",
   "metadata": {
    "execution": {
     "iopub.execute_input": "2025-06-13T13:01:18.892713Z",
     "iopub.status.busy": "2025-06-13T13:01:18.892152Z",
     "iopub.status.idle": "2025-06-13T13:01:18.922213Z",
     "shell.execute_reply": "2025-06-13T13:01:18.921770Z"
    },
    "papermill": {
     "duration": 0.038877,
     "end_time": "2025-06-13T13:01:18.923382",
     "exception": false,
     "start_time": "2025-06-13T13:01:18.884505",
     "status": "completed"
    },
    "tags": []
   },
   "outputs": [],
   "source": [
    "lenc = LabelEncoder()\n",
    "y_train_enc = lenc.fit_transform(y_train)\n",
    "y_val_enc = lenc.transform(y_val)\n",
    "y_test_enc = lenc.transform(y_test)"
   ]
  },
  {
   "cell_type": "markdown",
   "id": "21f56088",
   "metadata": {
    "papermill": {
     "duration": 0.0096,
     "end_time": "2025-06-13T13:01:18.967883",
     "exception": false,
     "start_time": "2025-06-13T13:01:18.958283",
     "status": "completed"
    },
    "tags": []
   },
   "source": [
    "### GENERATE F1 "
   ]
  },
  {
   "cell_type": "code",
   "execution_count": 17,
   "id": "945794b9",
   "metadata": {
    "execution": {
     "iopub.execute_input": "2025-06-13T13:01:18.986329Z",
     "iopub.status.busy": "2025-06-13T13:01:18.985983Z",
     "iopub.status.idle": "2025-06-13T13:01:18.988566Z",
     "shell.execute_reply": "2025-06-13T13:01:18.988248Z"
    },
    "papermill": {
     "duration": 0.015184,
     "end_time": "2025-06-13T13:01:18.989367",
     "exception": false,
     "start_time": "2025-06-13T13:01:18.974183",
     "status": "completed"
    },
    "tags": []
   },
   "outputs": [],
   "source": [
    "def custom_f1_score(y_true, y_pred):\n",
    "    return -f1_score(y_true, y_pred.argmax(1), average='weighted')"
   ]
  },
  {
   "cell_type": "code",
   "execution_count": 18,
   "id": "30925de6",
   "metadata": {
    "execution": {
     "iopub.execute_input": "2025-06-13T13:01:19.051768Z",
     "iopub.status.busy": "2025-06-13T13:01:19.051587Z",
     "iopub.status.idle": "2025-06-13T13:01:19.055322Z",
     "shell.execute_reply": "2025-06-13T13:01:19.055023Z"
    },
    "papermill": {
     "duration": 0.060096,
     "end_time": "2025-06-13T13:01:19.056105",
     "exception": false,
     "start_time": "2025-06-13T13:01:18.996009",
     "status": "completed"
    },
    "tags": []
   },
   "outputs": [],
   "source": [
    "eval_metric=custom_f1_score\n",
    "eval_metric_name='custom_f1_score'\n",
    "\n",
    "def objective(trial):\n",
    "    params = {\n",
    "        'n_estimators': 1500,\n",
    "        'max_depth': trial.suggest_int('max_depth', 3, 20),\n",
    "        'min_child_weight': trial.suggest_int('min_child_weight', 1, 250),\n",
    "        'subsample': trial.suggest_float('subsample', 0.1, 1.0),\n",
    "        'colsample_bynode': trial.suggest_float('colsample_bynode', 0.1, 1.0),\n",
    "        'learning_rate': trial.suggest_float('learning_rate', 1e-3, 5e-1, log=True),\n",
    "    }\n",
    "    pruning_callback = optuna.integration.XGBoostPruningCallback(trial, f'validation_0-{eval_metric_name}')\n",
    "    es_callback = xgboost.callback.EarlyStopping(20, min_delta=0.001)\n",
    "    xgb = xgboost.XGBClassifier(\n",
    "        eval_metric=eval_metric,\n",
    "        callbacks=[pruning_callback, es_callback],\n",
    "        n_jobs=5,\n",
    "        **params\n",
    "    )\n",
    "    xgb.fit(\n",
    "        X_train, \n",
    "        y_train_enc, \n",
    "        verbose=0,\n",
    "        eval_set=[(X_val, y_val_enc)],\n",
    "    )\n",
    "    trial.set_user_attr('best_iteration', xgb.best_iteration)\n",
    "\n",
    "    return xgb.best_score"
   ]
  },
  {
   "cell_type": "code",
   "execution_count": 19,
   "id": "3dcadc6b",
   "metadata": {
    "execution": {
     "iopub.execute_input": "2025-06-13T13:01:19.073916Z",
     "iopub.status.busy": "2025-06-13T13:01:19.073592Z",
     "iopub.status.idle": "2025-06-13T13:25:33.456172Z",
     "shell.execute_reply": "2025-06-13T13:25:33.455725Z"
    },
    "papermill": {
     "duration": 1454.393815,
     "end_time": "2025-06-13T13:25:33.457728",
     "exception": false,
     "start_time": "2025-06-13T13:01:19.063913",
     "status": "completed"
    },
    "scrolled": true,
    "tags": []
   },
   "outputs": [
    {
     "name": "stderr",
     "output_type": "stream",
     "text": [
      "[I 2025-06-13 15:01:19,075] A new study created in memory with name: no-name-3557a8ae-2ee0-4d4f-870f-e620286e7d0f\n"
     ]
    },
    {
     "name": "stderr",
     "output_type": "stream",
     "text": [
      "[I 2025-06-13 15:01:38,494] Trial 0 finished with value: -0.596479 and parameters: {'max_depth': 9, 'min_child_weight': 238, 'subsample': 0.7587945476302645, 'colsample_bynode': 0.6387926357773329, 'learning_rate': 0.0026368755339723046}. Best is trial 0 with value: -0.596479.\n"
     ]
    },
    {
     "name": "stderr",
     "output_type": "stream",
     "text": [
      "[I 2025-06-13 15:03:56,388] Trial 1 finished with value: -0.706666 and parameters: {'max_depth': 5, 'min_child_weight': 15, 'subsample': 0.8795585311974417, 'colsample_bynode': 0.6410035105688879, 'learning_rate': 0.08148293210105287}. Best is trial 1 with value: -0.706666.\n"
     ]
    },
    {
     "name": "stderr",
     "output_type": "stream",
     "text": [
      "[I 2025-06-13 15:04:10,526] Trial 2 finished with value: -0.56699 and parameters: {'max_depth': 3, 'min_child_weight': 243, 'subsample': 0.8491983767203796, 'colsample_bynode': 0.29110519961044856, 'learning_rate': 0.003095566460242371}. Best is trial 1 with value: -0.706666.\n"
     ]
    },
    {
     "name": "stderr",
     "output_type": "stream",
     "text": [
      "[I 2025-06-13 15:04:25,171] Trial 3 finished with value: -0.604458 and parameters: {'max_depth': 6, 'min_child_weight': 77, 'subsample': 0.5722807884690141, 'colsample_bynode': 0.48875051677790415, 'learning_rate': 0.006109683510122491}. Best is trial 1 with value: -0.706666.\n"
     ]
    },
    {
     "name": "stderr",
     "output_type": "stream",
     "text": [
      "[I 2025-06-13 15:07:51,570] Trial 4 finished with value: -0.68579 and parameters: {'max_depth': 14, 'min_child_weight': 35, 'subsample': 0.3629301836816964, 'colsample_bynode': 0.4297256589643226, 'learning_rate': 0.01701841881702917}. Best is trial 1 with value: -0.706666.\n"
     ]
    },
    {
     "name": "stderr",
     "output_type": "stream",
     "text": [
      "[I 2025-06-13 15:08:10,772] Trial 5 finished with value: -0.618348 and parameters: {'max_depth': 17, 'min_child_weight': 50, 'subsample': 0.5628109945722505, 'colsample_bynode': 0.6331731119758383, 'learning_rate': 0.0013346527038305934}. Best is trial 1 with value: -0.706666.\n"
     ]
    },
    {
     "name": "stderr",
     "output_type": "stream",
     "text": [
      "[I 2025-06-13 15:08:54,138] Trial 6 finished with value: -0.701942 and parameters: {'max_depth': 13, 'min_child_weight': 43, 'subsample': 0.1585464336867516, 'colsample_bynode': 0.9539969835279999, 'learning_rate': 0.4038423798071558}. Best is trial 1 with value: -0.706666.\n"
     ]
    },
    {
     "name": "stderr",
     "output_type": "stream",
     "text": [
      "[I 2025-06-13 15:08:55,229] Trial 7 pruned. Trial was pruned at iteration 0.\n"
     ]
    },
    {
     "name": "stderr",
     "output_type": "stream",
     "text": [
      "[I 2025-06-13 15:08:56,147] Trial 8 pruned. Trial was pruned at iteration 0.\n"
     ]
    },
    {
     "name": "stderr",
     "output_type": "stream",
     "text": [
      "[I 2025-06-13 15:09:00,567] Trial 9 pruned. Trial was pruned at iteration 5.\n"
     ]
    },
    {
     "name": "stderr",
     "output_type": "stream",
     "text": [
      "[I 2025-06-13 15:10:33,241] Trial 10 finished with value: -0.705009 and parameters: {'max_depth': 9, 'min_child_weight': 2, 'subsample': 0.9725833997090791, 'colsample_bynode': 0.11616568805333755, 'learning_rate': 0.17780618353487967}. Best is trial 1 with value: -0.706666.\n"
     ]
    },
    {
     "name": "stderr",
     "output_type": "stream",
     "text": [
      "[I 2025-06-13 15:12:11,023] Trial 11 finished with value: -0.706184 and parameters: {'max_depth': 9, 'min_child_weight': 4, 'subsample': 0.9818290990185045, 'colsample_bynode': 0.17702656156719, 'learning_rate': 0.11568531411766632}. Best is trial 1 with value: -0.706666.\n"
     ]
    },
    {
     "name": "stderr",
     "output_type": "stream",
     "text": [
      "[I 2025-06-13 15:12:36,767] Trial 12 pruned. Trial was pruned at iteration 40.\n"
     ]
    },
    {
     "name": "stderr",
     "output_type": "stream",
     "text": [
      "[I 2025-06-13 15:12:38,095] Trial 13 pruned. Trial was pruned at iteration 1.\n"
     ]
    },
    {
     "name": "stderr",
     "output_type": "stream",
     "text": [
      "[I 2025-06-13 15:12:39,954] Trial 14 pruned. Trial was pruned at iteration 2.\n"
     ]
    },
    {
     "name": "stderr",
     "output_type": "stream",
     "text": [
      "[I 2025-06-13 15:13:58,079] Trial 15 pruned. Trial was pruned at iteration 69.\n"
     ]
    },
    {
     "name": "stderr",
     "output_type": "stream",
     "text": [
      "[I 2025-06-13 15:13:59,234] Trial 16 pruned. Trial was pruned at iteration 0.\n"
     ]
    },
    {
     "name": "stderr",
     "output_type": "stream",
     "text": [
      "[I 2025-06-13 15:14:00,176] Trial 17 pruned. Trial was pruned at iteration 0.\n"
     ]
    },
    {
     "name": "stderr",
     "output_type": "stream",
     "text": [
      "[I 2025-06-13 15:15:20,733] Trial 18 finished with value: -0.70613 and parameters: {'max_depth': 11, 'min_child_weight': 37, 'subsample': 0.8988001325877066, 'colsample_bynode': 0.3955466156360019, 'learning_rate': 0.13348559174149954}. Best is trial 1 with value: -0.706666.\n"
     ]
    },
    {
     "name": "stderr",
     "output_type": "stream",
     "text": [
      "[I 2025-06-13 15:15:22,616] Trial 19 pruned. Trial was pruned at iteration 0.\n"
     ]
    },
    {
     "name": "stderr",
     "output_type": "stream",
     "text": [
      "[I 2025-06-13 15:16:18,332] Trial 20 finished with value: -0.705248 and parameters: {'max_depth': 8, 'min_child_weight': 24, 'subsample': 0.6596113500838445, 'colsample_bynode': 0.5501785677119223, 'learning_rate': 0.2221537505158567}. Best is trial 1 with value: -0.706666.\n"
     ]
    },
    {
     "name": "stderr",
     "output_type": "stream",
     "text": [
      "[I 2025-06-13 15:16:38,591] Trial 21 pruned. Trial was pruned at iteration 30.\n"
     ]
    },
    {
     "name": "stderr",
     "output_type": "stream",
     "text": [
      "[I 2025-06-13 15:17:11,786] Trial 22 finished with value: -0.699929 and parameters: {'max_depth': 11, 'min_child_weight': 57, 'subsample': 0.8919939649594019, 'colsample_bynode': 0.19389148812535395, 'learning_rate': 0.4437398086324254}. Best is trial 1 with value: -0.706666.\n"
     ]
    },
    {
     "name": "stderr",
     "output_type": "stream",
     "text": [
      "[I 2025-06-13 15:17:12,757] Trial 23 pruned. Trial was pruned at iteration 0.\n"
     ]
    },
    {
     "name": "stderr",
     "output_type": "stream",
     "text": [
      "[I 2025-06-13 15:17:15,687] Trial 24 pruned. Trial was pruned at iteration 3.\n"
     ]
    },
    {
     "name": "stderr",
     "output_type": "stream",
     "text": [
      "[I 2025-06-13 15:17:24,312] Trial 25 pruned. Trial was pruned at iteration 10.\n"
     ]
    },
    {
     "name": "stderr",
     "output_type": "stream",
     "text": [
      "[I 2025-06-13 15:17:25,200] Trial 26 pruned. Trial was pruned at iteration 0.\n"
     ]
    },
    {
     "name": "stderr",
     "output_type": "stream",
     "text": [
      "[I 2025-06-13 15:17:26,068] Trial 27 pruned. Trial was pruned at iteration 0.\n"
     ]
    },
    {
     "name": "stderr",
     "output_type": "stream",
     "text": [
      "[I 2025-06-13 15:17:28,886] Trial 28 pruned. Trial was pruned at iteration 3.\n"
     ]
    },
    {
     "name": "stderr",
     "output_type": "stream",
     "text": [
      "[I 2025-06-13 15:17:29,800] Trial 29 pruned. Trial was pruned at iteration 0.\n"
     ]
    },
    {
     "name": "stderr",
     "output_type": "stream",
     "text": [
      "[I 2025-06-13 15:17:46,450] Trial 30 pruned. Trial was pruned at iteration 27.\n"
     ]
    },
    {
     "name": "stderr",
     "output_type": "stream",
     "text": [
      "[I 2025-06-13 15:18:46,912] Trial 31 finished with value: -0.70606 and parameters: {'max_depth': 8, 'min_child_weight': 36, 'subsample': 0.6640915237186135, 'colsample_bynode': 0.5293258312043816, 'learning_rate': 0.2305718353959901}. Best is trial 1 with value: -0.706666.\n"
     ]
    },
    {
     "name": "stderr",
     "output_type": "stream",
     "text": [
      "[I 2025-06-13 15:19:07,178] Trial 32 pruned. Trial was pruned at iteration 40.\n"
     ]
    },
    {
     "name": "stderr",
     "output_type": "stream",
     "text": [
      "[I 2025-06-13 15:19:08,075] Trial 33 pruned. Trial was pruned at iteration 0.\n"
     ]
    },
    {
     "name": "stderr",
     "output_type": "stream",
     "text": [
      "[I 2025-06-13 15:19:12,928] Trial 34 pruned. Trial was pruned at iteration 8.\n"
     ]
    },
    {
     "name": "stderr",
     "output_type": "stream",
     "text": [
      "[I 2025-06-13 15:19:52,073] Trial 35 pruned. Trial was pruned at iteration 72.\n"
     ]
    },
    {
     "name": "stderr",
     "output_type": "stream",
     "text": [
      "[I 2025-06-13 15:19:52,992] Trial 36 pruned. Trial was pruned at iteration 0.\n"
     ]
    },
    {
     "name": "stderr",
     "output_type": "stream",
     "text": [
      "[I 2025-06-13 15:19:53,825] Trial 37 pruned. Trial was pruned at iteration 0.\n"
     ]
    },
    {
     "name": "stderr",
     "output_type": "stream",
     "text": [
      "[I 2025-06-13 15:19:56,709] Trial 38 pruned. Trial was pruned at iteration 3.\n"
     ]
    },
    {
     "name": "stderr",
     "output_type": "stream",
     "text": [
      "[I 2025-06-13 15:20:27,028] Trial 39 finished with value: -0.704892 and parameters: {'max_depth': 12, 'min_child_weight': 46, 'subsample': 0.4918794364214414, 'colsample_bynode': 0.7486839306385044, 'learning_rate': 0.4727363411197455}. Best is trial 1 with value: -0.706666.\n"
     ]
    },
    {
     "name": "stderr",
     "output_type": "stream",
     "text": [
      "[I 2025-06-13 15:21:30,796] Trial 40 finished with value: -0.707174 and parameters: {'max_depth': 14, 'min_child_weight': 15, 'subsample': 0.6135397358527036, 'colsample_bynode': 0.48794027425129405, 'learning_rate': 0.3264459148916921}. Best is trial 40 with value: -0.707174.\n"
     ]
    },
    {
     "name": "stderr",
     "output_type": "stream",
     "text": [
      "[I 2025-06-13 15:22:23,641] Trial 41 finished with value: -0.705067 and parameters: {'max_depth': 16, 'min_child_weight': 13, 'subsample': 0.5946142624839827, 'colsample_bynode': 0.5630027765080426, 'learning_rate': 0.3039997338927338}. Best is trial 40 with value: -0.707174.\n"
     ]
    },
    {
     "name": "stderr",
     "output_type": "stream",
     "text": [
      "[I 2025-06-13 15:22:40,754] Trial 42 pruned. Trial was pruned at iteration 28.\n"
     ]
    },
    {
     "name": "stderr",
     "output_type": "stream",
     "text": [
      "[I 2025-06-13 15:23:31,699] Trial 43 finished with value: -0.702674 and parameters: {'max_depth': 15, 'min_child_weight': 13, 'subsample': 0.5225021732657715, 'colsample_bynode': 0.6441053585547286, 'learning_rate': 0.3542109025804497}. Best is trial 40 with value: -0.707174.\n"
     ]
    },
    {
     "name": "stderr",
     "output_type": "stream",
     "text": [
      "[I 2025-06-13 15:24:30,216] Trial 44 finished with value: -0.708207 and parameters: {'max_depth': 10, 'min_child_weight': 46, 'subsample': 0.7229581073286354, 'colsample_bynode': 0.4332380535506443, 'learning_rate': 0.2210281165731125}. Best is trial 44 with value: -0.708207.\n"
     ]
    },
    {
     "name": "stderr",
     "output_type": "stream",
     "text": [
      "[I 2025-06-13 15:24:32,445] Trial 45 pruned. Trial was pruned at iteration 2.\n"
     ]
    },
    {
     "name": "stderr",
     "output_type": "stream",
     "text": [
      "[I 2025-06-13 15:24:37,175] Trial 46 pruned. Trial was pruned at iteration 6.\n"
     ]
    },
    {
     "name": "stderr",
     "output_type": "stream",
     "text": [
      "[I 2025-06-13 15:24:56,188] Trial 47 pruned. Trial was pruned at iteration 14.\n"
     ]
    },
    {
     "name": "stderr",
     "output_type": "stream",
     "text": [
      "[I 2025-06-13 15:25:28,069] Trial 48 finished with value: -0.703964 and parameters: {'max_depth': 18, 'min_child_weight': 68, 'subsample': 0.7882542420936597, 'colsample_bynode': 0.3489226504174012, 'learning_rate': 0.494694924837157}. Best is trial 44 with value: -0.708207.\n"
     ]
    },
    {
     "name": "stderr",
     "output_type": "stream",
     "text": [
      "[I 2025-06-13 15:25:33,336] Trial 49 pruned. Trial was pruned at iteration 6.\n"
     ]
    }
   ],
   "source": [
    "sampler = optuna.samplers.TPESampler(seed=42)\n",
    "study = optuna.create_study(direction='minimize', sampler=sampler)\n",
    "study.optimize(objective, n_trials=N_TRIALS, gc_after_trial=True)"
   ]
  },
  {
   "cell_type": "code",
   "execution_count": 20,
   "id": "863462bc",
   "metadata": {
    "execution": {
     "iopub.execute_input": "2025-06-13T13:25:33.476272Z",
     "iopub.status.busy": "2025-06-13T13:25:33.476056Z",
     "iopub.status.idle": "2025-06-13T13:25:33.504267Z",
     "shell.execute_reply": "2025-06-13T13:25:33.503926Z"
    },
    "papermill": {
     "duration": 0.038154,
     "end_time": "2025-06-13T13:25:33.505218",
     "exception": false,
     "start_time": "2025-06-13T13:25:33.467064",
     "status": "completed"
    },
    "tags": []
   },
   "outputs": [
    {
     "data": {
      "text/plain": [
       "['/scratch_isilon/groups/singlecell/shared/projects/Inflammation-PBMCs-Atlas/03_downstream_analysis/08_gene_importance/xgboost_external_validation/xgboost_TopN_genes/results_20/study/Mono_shap_studyID_NOdisease_samesize_3_xgboost.pkl']"
      ]
     },
     "execution_count": 20,
     "metadata": {},
     "output_type": "execute_result"
    }
   ],
   "source": [
    "out_dir = here(f'03_downstream_analysis/08_gene_importance/xgboost_external_validation/xgboost_TopN_genes/results_{N_GENES}/study')\n",
    "\n",
    "if not os.path.exists(out_dir):\n",
    "    os.makedirs(out_dir)\n",
    "    \n",
    "joblib.dump(study,os.path.join(out_dir, f'{CELL_TYPE}_{SEED}_{TEST_SPLIT_IDX}_xgboost.pkl'))"
   ]
  },
  {
   "cell_type": "code",
   "execution_count": 21,
   "id": "cac09358",
   "metadata": {
    "execution": {
     "iopub.execute_input": "2025-06-13T13:25:33.523446Z",
     "iopub.status.busy": "2025-06-13T13:25:33.523131Z",
     "iopub.status.idle": "2025-06-13T13:25:53.865954Z",
     "shell.execute_reply": "2025-06-13T13:25:53.865559Z"
    },
    "papermill": {
     "duration": 20.354131,
     "end_time": "2025-06-13T13:25:53.867969",
     "exception": false,
     "start_time": "2025-06-13T13:25:33.513838",
     "status": "completed"
    },
    "tags": []
   },
   "outputs": [
    {
     "data": {
      "text/html": [
       "<style>#sk-container-id-1 {\n",
       "  /* Definition of color scheme common for light and dark mode */\n",
       "  --sklearn-color-text: black;\n",
       "  --sklearn-color-line: gray;\n",
       "  /* Definition of color scheme for unfitted estimators */\n",
       "  --sklearn-color-unfitted-level-0: #fff5e6;\n",
       "  --sklearn-color-unfitted-level-1: #f6e4d2;\n",
       "  --sklearn-color-unfitted-level-2: #ffe0b3;\n",
       "  --sklearn-color-unfitted-level-3: chocolate;\n",
       "  /* Definition of color scheme for fitted estimators */\n",
       "  --sklearn-color-fitted-level-0: #f0f8ff;\n",
       "  --sklearn-color-fitted-level-1: #d4ebff;\n",
       "  --sklearn-color-fitted-level-2: #b3dbfd;\n",
       "  --sklearn-color-fitted-level-3: cornflowerblue;\n",
       "\n",
       "  /* Specific color for light theme */\n",
       "  --sklearn-color-text-on-default-background: var(--sg-text-color, var(--theme-code-foreground, var(--jp-content-font-color1, black)));\n",
       "  --sklearn-color-background: var(--sg-background-color, var(--theme-background, var(--jp-layout-color0, white)));\n",
       "  --sklearn-color-border-box: var(--sg-text-color, var(--theme-code-foreground, var(--jp-content-font-color1, black)));\n",
       "  --sklearn-color-icon: #696969;\n",
       "\n",
       "  @media (prefers-color-scheme: dark) {\n",
       "    /* Redefinition of color scheme for dark theme */\n",
       "    --sklearn-color-text-on-default-background: var(--sg-text-color, var(--theme-code-foreground, var(--jp-content-font-color1, white)));\n",
       "    --sklearn-color-background: var(--sg-background-color, var(--theme-background, var(--jp-layout-color0, #111)));\n",
       "    --sklearn-color-border-box: var(--sg-text-color, var(--theme-code-foreground, var(--jp-content-font-color1, white)));\n",
       "    --sklearn-color-icon: #878787;\n",
       "  }\n",
       "}\n",
       "\n",
       "#sk-container-id-1 {\n",
       "  color: var(--sklearn-color-text);\n",
       "}\n",
       "\n",
       "#sk-container-id-1 pre {\n",
       "  padding: 0;\n",
       "}\n",
       "\n",
       "#sk-container-id-1 input.sk-hidden--visually {\n",
       "  border: 0;\n",
       "  clip: rect(1px 1px 1px 1px);\n",
       "  clip: rect(1px, 1px, 1px, 1px);\n",
       "  height: 1px;\n",
       "  margin: -1px;\n",
       "  overflow: hidden;\n",
       "  padding: 0;\n",
       "  position: absolute;\n",
       "  width: 1px;\n",
       "}\n",
       "\n",
       "#sk-container-id-1 div.sk-dashed-wrapped {\n",
       "  border: 1px dashed var(--sklearn-color-line);\n",
       "  margin: 0 0.4em 0.5em 0.4em;\n",
       "  box-sizing: border-box;\n",
       "  padding-bottom: 0.4em;\n",
       "  background-color: var(--sklearn-color-background);\n",
       "}\n",
       "\n",
       "#sk-container-id-1 div.sk-container {\n",
       "  /* jupyter's `normalize.less` sets `[hidden] { display: none; }`\n",
       "     but bootstrap.min.css set `[hidden] { display: none !important; }`\n",
       "     so we also need the `!important` here to be able to override the\n",
       "     default hidden behavior on the sphinx rendered scikit-learn.org.\n",
       "     See: https://github.com/scikit-learn/scikit-learn/issues/21755 */\n",
       "  display: inline-block !important;\n",
       "  position: relative;\n",
       "}\n",
       "\n",
       "#sk-container-id-1 div.sk-text-repr-fallback {\n",
       "  display: none;\n",
       "}\n",
       "\n",
       "div.sk-parallel-item,\n",
       "div.sk-serial,\n",
       "div.sk-item {\n",
       "  /* draw centered vertical line to link estimators */\n",
       "  background-image: linear-gradient(var(--sklearn-color-text-on-default-background), var(--sklearn-color-text-on-default-background));\n",
       "  background-size: 2px 100%;\n",
       "  background-repeat: no-repeat;\n",
       "  background-position: center center;\n",
       "}\n",
       "\n",
       "/* Parallel-specific style estimator block */\n",
       "\n",
       "#sk-container-id-1 div.sk-parallel-item::after {\n",
       "  content: \"\";\n",
       "  width: 100%;\n",
       "  border-bottom: 2px solid var(--sklearn-color-text-on-default-background);\n",
       "  flex-grow: 1;\n",
       "}\n",
       "\n",
       "#sk-container-id-1 div.sk-parallel {\n",
       "  display: flex;\n",
       "  align-items: stretch;\n",
       "  justify-content: center;\n",
       "  background-color: var(--sklearn-color-background);\n",
       "  position: relative;\n",
       "}\n",
       "\n",
       "#sk-container-id-1 div.sk-parallel-item {\n",
       "  display: flex;\n",
       "  flex-direction: column;\n",
       "}\n",
       "\n",
       "#sk-container-id-1 div.sk-parallel-item:first-child::after {\n",
       "  align-self: flex-end;\n",
       "  width: 50%;\n",
       "}\n",
       "\n",
       "#sk-container-id-1 div.sk-parallel-item:last-child::after {\n",
       "  align-self: flex-start;\n",
       "  width: 50%;\n",
       "}\n",
       "\n",
       "#sk-container-id-1 div.sk-parallel-item:only-child::after {\n",
       "  width: 0;\n",
       "}\n",
       "\n",
       "/* Serial-specific style estimator block */\n",
       "\n",
       "#sk-container-id-1 div.sk-serial {\n",
       "  display: flex;\n",
       "  flex-direction: column;\n",
       "  align-items: center;\n",
       "  background-color: var(--sklearn-color-background);\n",
       "  padding-right: 1em;\n",
       "  padding-left: 1em;\n",
       "}\n",
       "\n",
       "\n",
       "/* Toggleable style: style used for estimator/Pipeline/ColumnTransformer box that is\n",
       "clickable and can be expanded/collapsed.\n",
       "- Pipeline and ColumnTransformer use this feature and define the default style\n",
       "- Estimators will overwrite some part of the style using the `sk-estimator` class\n",
       "*/\n",
       "\n",
       "/* Pipeline and ColumnTransformer style (default) */\n",
       "\n",
       "#sk-container-id-1 div.sk-toggleable {\n",
       "  /* Default theme specific background. It is overwritten whether we have a\n",
       "  specific estimator or a Pipeline/ColumnTransformer */\n",
       "  background-color: var(--sklearn-color-background);\n",
       "}\n",
       "\n",
       "/* Toggleable label */\n",
       "#sk-container-id-1 label.sk-toggleable__label {\n",
       "  cursor: pointer;\n",
       "  display: block;\n",
       "  width: 100%;\n",
       "  margin-bottom: 0;\n",
       "  padding: 0.5em;\n",
       "  box-sizing: border-box;\n",
       "  text-align: center;\n",
       "}\n",
       "\n",
       "#sk-container-id-1 label.sk-toggleable__label-arrow:before {\n",
       "  /* Arrow on the left of the label */\n",
       "  content: \"▸\";\n",
       "  float: left;\n",
       "  margin-right: 0.25em;\n",
       "  color: var(--sklearn-color-icon);\n",
       "}\n",
       "\n",
       "#sk-container-id-1 label.sk-toggleable__label-arrow:hover:before {\n",
       "  color: var(--sklearn-color-text);\n",
       "}\n",
       "\n",
       "/* Toggleable content - dropdown */\n",
       "\n",
       "#sk-container-id-1 div.sk-toggleable__content {\n",
       "  max-height: 0;\n",
       "  max-width: 0;\n",
       "  overflow: hidden;\n",
       "  text-align: left;\n",
       "  /* unfitted */\n",
       "  background-color: var(--sklearn-color-unfitted-level-0);\n",
       "}\n",
       "\n",
       "#sk-container-id-1 div.sk-toggleable__content.fitted {\n",
       "  /* fitted */\n",
       "  background-color: var(--sklearn-color-fitted-level-0);\n",
       "}\n",
       "\n",
       "#sk-container-id-1 div.sk-toggleable__content pre {\n",
       "  margin: 0.2em;\n",
       "  border-radius: 0.25em;\n",
       "  color: var(--sklearn-color-text);\n",
       "  /* unfitted */\n",
       "  background-color: var(--sklearn-color-unfitted-level-0);\n",
       "}\n",
       "\n",
       "#sk-container-id-1 div.sk-toggleable__content.fitted pre {\n",
       "  /* unfitted */\n",
       "  background-color: var(--sklearn-color-fitted-level-0);\n",
       "}\n",
       "\n",
       "#sk-container-id-1 input.sk-toggleable__control:checked~div.sk-toggleable__content {\n",
       "  /* Expand drop-down */\n",
       "  max-height: 200px;\n",
       "  max-width: 100%;\n",
       "  overflow: auto;\n",
       "}\n",
       "\n",
       "#sk-container-id-1 input.sk-toggleable__control:checked~label.sk-toggleable__label-arrow:before {\n",
       "  content: \"▾\";\n",
       "}\n",
       "\n",
       "/* Pipeline/ColumnTransformer-specific style */\n",
       "\n",
       "#sk-container-id-1 div.sk-label input.sk-toggleable__control:checked~label.sk-toggleable__label {\n",
       "  color: var(--sklearn-color-text);\n",
       "  background-color: var(--sklearn-color-unfitted-level-2);\n",
       "}\n",
       "\n",
       "#sk-container-id-1 div.sk-label.fitted input.sk-toggleable__control:checked~label.sk-toggleable__label {\n",
       "  background-color: var(--sklearn-color-fitted-level-2);\n",
       "}\n",
       "\n",
       "/* Estimator-specific style */\n",
       "\n",
       "/* Colorize estimator box */\n",
       "#sk-container-id-1 div.sk-estimator input.sk-toggleable__control:checked~label.sk-toggleable__label {\n",
       "  /* unfitted */\n",
       "  background-color: var(--sklearn-color-unfitted-level-2);\n",
       "}\n",
       "\n",
       "#sk-container-id-1 div.sk-estimator.fitted input.sk-toggleable__control:checked~label.sk-toggleable__label {\n",
       "  /* fitted */\n",
       "  background-color: var(--sklearn-color-fitted-level-2);\n",
       "}\n",
       "\n",
       "#sk-container-id-1 div.sk-label label.sk-toggleable__label,\n",
       "#sk-container-id-1 div.sk-label label {\n",
       "  /* The background is the default theme color */\n",
       "  color: var(--sklearn-color-text-on-default-background);\n",
       "}\n",
       "\n",
       "/* On hover, darken the color of the background */\n",
       "#sk-container-id-1 div.sk-label:hover label.sk-toggleable__label {\n",
       "  color: var(--sklearn-color-text);\n",
       "  background-color: var(--sklearn-color-unfitted-level-2);\n",
       "}\n",
       "\n",
       "/* Label box, darken color on hover, fitted */\n",
       "#sk-container-id-1 div.sk-label.fitted:hover label.sk-toggleable__label.fitted {\n",
       "  color: var(--sklearn-color-text);\n",
       "  background-color: var(--sklearn-color-fitted-level-2);\n",
       "}\n",
       "\n",
       "/* Estimator label */\n",
       "\n",
       "#sk-container-id-1 div.sk-label label {\n",
       "  font-family: monospace;\n",
       "  font-weight: bold;\n",
       "  display: inline-block;\n",
       "  line-height: 1.2em;\n",
       "}\n",
       "\n",
       "#sk-container-id-1 div.sk-label-container {\n",
       "  text-align: center;\n",
       "}\n",
       "\n",
       "/* Estimator-specific */\n",
       "#sk-container-id-1 div.sk-estimator {\n",
       "  font-family: monospace;\n",
       "  border: 1px dotted var(--sklearn-color-border-box);\n",
       "  border-radius: 0.25em;\n",
       "  box-sizing: border-box;\n",
       "  margin-bottom: 0.5em;\n",
       "  /* unfitted */\n",
       "  background-color: var(--sklearn-color-unfitted-level-0);\n",
       "}\n",
       "\n",
       "#sk-container-id-1 div.sk-estimator.fitted {\n",
       "  /* fitted */\n",
       "  background-color: var(--sklearn-color-fitted-level-0);\n",
       "}\n",
       "\n",
       "/* on hover */\n",
       "#sk-container-id-1 div.sk-estimator:hover {\n",
       "  /* unfitted */\n",
       "  background-color: var(--sklearn-color-unfitted-level-2);\n",
       "}\n",
       "\n",
       "#sk-container-id-1 div.sk-estimator.fitted:hover {\n",
       "  /* fitted */\n",
       "  background-color: var(--sklearn-color-fitted-level-2);\n",
       "}\n",
       "\n",
       "/* Specification for estimator info (e.g. \"i\" and \"?\") */\n",
       "\n",
       "/* Common style for \"i\" and \"?\" */\n",
       "\n",
       ".sk-estimator-doc-link,\n",
       "a:link.sk-estimator-doc-link,\n",
       "a:visited.sk-estimator-doc-link {\n",
       "  float: right;\n",
       "  font-size: smaller;\n",
       "  line-height: 1em;\n",
       "  font-family: monospace;\n",
       "  background-color: var(--sklearn-color-background);\n",
       "  border-radius: 1em;\n",
       "  height: 1em;\n",
       "  width: 1em;\n",
       "  text-decoration: none !important;\n",
       "  margin-left: 1ex;\n",
       "  /* unfitted */\n",
       "  border: var(--sklearn-color-unfitted-level-1) 1pt solid;\n",
       "  color: var(--sklearn-color-unfitted-level-1);\n",
       "}\n",
       "\n",
       ".sk-estimator-doc-link.fitted,\n",
       "a:link.sk-estimator-doc-link.fitted,\n",
       "a:visited.sk-estimator-doc-link.fitted {\n",
       "  /* fitted */\n",
       "  border: var(--sklearn-color-fitted-level-1) 1pt solid;\n",
       "  color: var(--sklearn-color-fitted-level-1);\n",
       "}\n",
       "\n",
       "/* On hover */\n",
       "div.sk-estimator:hover .sk-estimator-doc-link:hover,\n",
       ".sk-estimator-doc-link:hover,\n",
       "div.sk-label-container:hover .sk-estimator-doc-link:hover,\n",
       ".sk-estimator-doc-link:hover {\n",
       "  /* unfitted */\n",
       "  background-color: var(--sklearn-color-unfitted-level-3);\n",
       "  color: var(--sklearn-color-background);\n",
       "  text-decoration: none;\n",
       "}\n",
       "\n",
       "div.sk-estimator.fitted:hover .sk-estimator-doc-link.fitted:hover,\n",
       ".sk-estimator-doc-link.fitted:hover,\n",
       "div.sk-label-container:hover .sk-estimator-doc-link.fitted:hover,\n",
       ".sk-estimator-doc-link.fitted:hover {\n",
       "  /* fitted */\n",
       "  background-color: var(--sklearn-color-fitted-level-3);\n",
       "  color: var(--sklearn-color-background);\n",
       "  text-decoration: none;\n",
       "}\n",
       "\n",
       "/* Span, style for the box shown on hovering the info icon */\n",
       ".sk-estimator-doc-link span {\n",
       "  display: none;\n",
       "  z-index: 9999;\n",
       "  position: relative;\n",
       "  font-weight: normal;\n",
       "  right: .2ex;\n",
       "  padding: .5ex;\n",
       "  margin: .5ex;\n",
       "  width: min-content;\n",
       "  min-width: 20ex;\n",
       "  max-width: 50ex;\n",
       "  color: var(--sklearn-color-text);\n",
       "  box-shadow: 2pt 2pt 4pt #999;\n",
       "  /* unfitted */\n",
       "  background: var(--sklearn-color-unfitted-level-0);\n",
       "  border: .5pt solid var(--sklearn-color-unfitted-level-3);\n",
       "}\n",
       "\n",
       ".sk-estimator-doc-link.fitted span {\n",
       "  /* fitted */\n",
       "  background: var(--sklearn-color-fitted-level-0);\n",
       "  border: var(--sklearn-color-fitted-level-3);\n",
       "}\n",
       "\n",
       ".sk-estimator-doc-link:hover span {\n",
       "  display: block;\n",
       "}\n",
       "\n",
       "/* \"?\"-specific style due to the `<a>` HTML tag */\n",
       "\n",
       "#sk-container-id-1 a.estimator_doc_link {\n",
       "  float: right;\n",
       "  font-size: 1rem;\n",
       "  line-height: 1em;\n",
       "  font-family: monospace;\n",
       "  background-color: var(--sklearn-color-background);\n",
       "  border-radius: 1rem;\n",
       "  height: 1rem;\n",
       "  width: 1rem;\n",
       "  text-decoration: none;\n",
       "  /* unfitted */\n",
       "  color: var(--sklearn-color-unfitted-level-1);\n",
       "  border: var(--sklearn-color-unfitted-level-1) 1pt solid;\n",
       "}\n",
       "\n",
       "#sk-container-id-1 a.estimator_doc_link.fitted {\n",
       "  /* fitted */\n",
       "  border: var(--sklearn-color-fitted-level-1) 1pt solid;\n",
       "  color: var(--sklearn-color-fitted-level-1);\n",
       "}\n",
       "\n",
       "/* On hover */\n",
       "#sk-container-id-1 a.estimator_doc_link:hover {\n",
       "  /* unfitted */\n",
       "  background-color: var(--sklearn-color-unfitted-level-3);\n",
       "  color: var(--sklearn-color-background);\n",
       "  text-decoration: none;\n",
       "}\n",
       "\n",
       "#sk-container-id-1 a.estimator_doc_link.fitted:hover {\n",
       "  /* fitted */\n",
       "  background-color: var(--sklearn-color-fitted-level-3);\n",
       "}\n",
       "</style><div id=\"sk-container-id-1\" class=\"sk-top-container\"><div class=\"sk-text-repr-fallback\"><pre>XGBClassifier(base_score=None, booster=None, callbacks=None,\n",
       "              colsample_bylevel=None, colsample_bynode=0.4332380535506443,\n",
       "              colsample_bytree=None, device=None, early_stopping_rounds=None,\n",
       "              enable_categorical=False,\n",
       "              eval_metric=&lt;function custom_f1_score at 0x7fd7e12385e0&gt;,\n",
       "              feature_types=None, gamma=None, grow_policy=None,\n",
       "              importance_type=None, interaction_constraints=None,\n",
       "              learning_rate=0.2210281165731125, max_bin=None,\n",
       "              max_cat_threshold=None, max_cat_to_onehot=None,\n",
       "              max_delta_step=None, max_depth=10, max_leaves=None,\n",
       "              min_child_weight=46, missing=nan, monotone_constraints=None,\n",
       "              multi_strategy=None, n_estimators=128, n_jobs=None,\n",
       "              num_parallel_tree=None, objective=&#x27;multi:softprob&#x27;, ...)</pre><b>In a Jupyter environment, please rerun this cell to show the HTML representation or trust the notebook. <br />On GitHub, the HTML representation is unable to render, please try loading this page with nbviewer.org.</b></div><div class=\"sk-container\" hidden><div class=\"sk-item\"><div class=\"sk-estimator fitted sk-toggleable\"><input class=\"sk-toggleable__control sk-hidden--visually\" id=\"sk-estimator-id-1\" type=\"checkbox\" checked><label for=\"sk-estimator-id-1\" class=\"sk-toggleable__label fitted sk-toggleable__label-arrow fitted\">&nbsp;XGBClassifier<span class=\"sk-estimator-doc-link fitted\">i<span>Fitted</span></span></label><div class=\"sk-toggleable__content fitted\"><pre>XGBClassifier(base_score=None, booster=None, callbacks=None,\n",
       "              colsample_bylevel=None, colsample_bynode=0.4332380535506443,\n",
       "              colsample_bytree=None, device=None, early_stopping_rounds=None,\n",
       "              enable_categorical=False,\n",
       "              eval_metric=&lt;function custom_f1_score at 0x7fd7e12385e0&gt;,\n",
       "              feature_types=None, gamma=None, grow_policy=None,\n",
       "              importance_type=None, interaction_constraints=None,\n",
       "              learning_rate=0.2210281165731125, max_bin=None,\n",
       "              max_cat_threshold=None, max_cat_to_onehot=None,\n",
       "              max_delta_step=None, max_depth=10, max_leaves=None,\n",
       "              min_child_weight=46, missing=nan, monotone_constraints=None,\n",
       "              multi_strategy=None, n_estimators=128, n_jobs=None,\n",
       "              num_parallel_tree=None, objective=&#x27;multi:softprob&#x27;, ...)</pre></div> </div></div></div></div>"
      ],
      "text/plain": [
       "XGBClassifier(base_score=None, booster=None, callbacks=None,\n",
       "              colsample_bylevel=None, colsample_bynode=0.4332380535506443,\n",
       "              colsample_bytree=None, device=None, early_stopping_rounds=None,\n",
       "              enable_categorical=False,\n",
       "              eval_metric=<function custom_f1_score at 0x7fd7e12385e0>,\n",
       "              feature_types=None, gamma=None, grow_policy=None,\n",
       "              importance_type=None, interaction_constraints=None,\n",
       "              learning_rate=0.2210281165731125, max_bin=None,\n",
       "              max_cat_threshold=None, max_cat_to_onehot=None,\n",
       "              max_delta_step=None, max_depth=10, max_leaves=None,\n",
       "              min_child_weight=46, missing=nan, monotone_constraints=None,\n",
       "              multi_strategy=None, n_estimators=128, n_jobs=None,\n",
       "              num_parallel_tree=None, objective='multi:softprob', ...)"
      ]
     },
     "execution_count": 21,
     "metadata": {},
     "output_type": "execute_result"
    }
   ],
   "source": [
    "n_estimators = int(study.best_trial.user_attrs['best_iteration']*1.2)\n",
    "xgb = xgboost.XGBClassifier(\n",
    "        eval_metric=eval_metric,\n",
    "        n_estimators=n_estimators,\n",
    "        **study.best_trial.params\n",
    "    )\n",
    "xgb.fit(\n",
    "    ssp.vstack((X_train, X_val)), \n",
    "    np.concatenate((y_train_enc, y_val_enc)),\n",
    "    verbose=1,\n",
    ")"
   ]
  },
  {
   "cell_type": "code",
   "execution_count": 22,
   "id": "d7436b24",
   "metadata": {
    "execution": {
     "iopub.execute_input": "2025-06-13T13:25:53.887874Z",
     "iopub.status.busy": "2025-06-13T13:25:53.887681Z",
     "iopub.status.idle": "2025-06-13T13:25:54.018833Z",
     "shell.execute_reply": "2025-06-13T13:25:54.018443Z"
    },
    "papermill": {
     "duration": 0.141661,
     "end_time": "2025-06-13T13:25:54.019799",
     "exception": false,
     "start_time": "2025-06-13T13:25:53.878138",
     "status": "completed"
    },
    "tags": []
   },
   "outputs": [
    {
     "data": {
      "text/plain": [
       "['/scratch_isilon/groups/singlecell/shared/projects/Inflammation-PBMCs-Atlas/03_downstream_analysis/08_gene_importance/xgboost_external_validation/xgboost_TopN_genes/results_20/best_model/Mono_shap_studyID_NOdisease_samesize_3_xgb.json']"
      ]
     },
     "execution_count": 22,
     "metadata": {},
     "output_type": "execute_result"
    }
   ],
   "source": [
    "out_dir = here(f'03_downstream_analysis/08_gene_importance/xgboost_external_validation/xgboost_TopN_genes/results_{N_GENES}/best_model')\n",
    "\n",
    "if not os.path.exists(out_dir):\n",
    "    os.makedirs(out_dir)\n",
    "    \n",
    "joblib.dump(xgb, os.path.join(out_dir, f'{CELL_TYPE}_{SEED}_{TEST_SPLIT_IDX}_xgb.json'))"
   ]
  },
  {
   "cell_type": "code",
   "execution_count": 23,
   "id": "2c8cb2b9",
   "metadata": {
    "execution": {
     "iopub.execute_input": "2025-06-13T13:25:54.040843Z",
     "iopub.status.busy": "2025-06-13T13:25:54.040654Z",
     "iopub.status.idle": "2025-06-13T13:25:54.901879Z",
     "shell.execute_reply": "2025-06-13T13:25:54.901449Z"
    },
    "papermill": {
     "duration": 0.872745,
     "end_time": "2025-06-13T13:25:54.903243",
     "exception": false,
     "start_time": "2025-06-13T13:25:54.030498",
     "status": "completed"
    },
    "tags": []
   },
   "outputs": [],
   "source": [
    "df_pred_test = pd.DataFrame(dict(\n",
    "    cell_id=train_adata.obs.iloc[test_idxs].index.values,\n",
    "    y_true=y_test, \n",
    "    y_true_code=y_test_enc, \n",
    "    y_pred=xgb.predict(X_test))).set_index('cell_id')"
   ]
  },
  {
   "cell_type": "code",
   "execution_count": 24,
   "id": "699468de",
   "metadata": {
    "execution": {
     "iopub.execute_input": "2025-06-13T13:25:54.922989Z",
     "iopub.status.busy": "2025-06-13T13:25:54.922774Z",
     "iopub.status.idle": "2025-06-13T13:25:55.137377Z",
     "shell.execute_reply": "2025-06-13T13:25:55.136974Z"
    },
    "papermill": {
     "duration": 0.225747,
     "end_time": "2025-06-13T13:25:55.138659",
     "exception": false,
     "start_time": "2025-06-13T13:25:54.912912",
     "status": "completed"
    },
    "tags": []
   },
   "outputs": [],
   "source": [
    "out_dir = here(f'03_downstream_analysis/08_gene_importance/xgboost_external_validation/xgboost_TopN_genes/results_{N_GENES}/predictions')\n",
    "\n",
    "if not os.path.exists(out_dir):\n",
    "    os.makedirs(out_dir)\n",
    "    \n",
    "df_pred_test.to_csv(os.path.join(out_dir, f'{CELL_TYPE}_{SEED}_{TEST_SPLIT_IDX}_pred_test.zip'))"
   ]
  },
  {
   "cell_type": "code",
   "execution_count": 25,
   "id": "8bb99ccc",
   "metadata": {
    "execution": {
     "iopub.execute_input": "2025-06-13T13:25:55.181712Z",
     "iopub.status.busy": "2025-06-13T13:25:55.181509Z",
     "iopub.status.idle": "2025-06-13T13:25:55.203831Z",
     "shell.execute_reply": "2025-06-13T13:25:55.203481Z"
    },
    "papermill": {
     "duration": 0.032851,
     "end_time": "2025-06-13T13:25:55.204774",
     "exception": false,
     "start_time": "2025-06-13T13:25:55.171923",
     "status": "completed"
    },
    "tags": []
   },
   "outputs": [
    {
     "name": "stderr",
     "output_type": "stream",
     "text": [
      "/scratch_isilon/groups/singlecell/shared/conda_env/xgboost-cpu/lib/python3.12/site-packages/sklearn/metrics/_classification.py:2466: UserWarning: y_pred contains classes not in y_true\n",
      "  warnings.warn(\"y_pred contains classes not in y_true\")\n"
     ]
    }
   ],
   "source": [
    "metrics_dict = dict(\n",
    "    BAS=balanced_accuracy_score(y_true=df_pred_test.y_true_code, y_pred=df_pred_test.y_pred), WF1=f1_score(y_true=df_pred_test.y_true_code, y_pred=df_pred_test.y_pred,average='weighted'))"
   ]
  },
  {
   "cell_type": "code",
   "execution_count": 26,
   "id": "64232f0d",
   "metadata": {
    "execution": {
     "iopub.execute_input": "2025-06-13T13:25:55.224076Z",
     "iopub.status.busy": "2025-06-13T13:25:55.223747Z",
     "iopub.status.idle": "2025-06-13T13:25:55.226660Z",
     "shell.execute_reply": "2025-06-13T13:25:55.226331Z"
    },
    "papermill": {
     "duration": 0.013367,
     "end_time": "2025-06-13T13:25:55.227659",
     "exception": false,
     "start_time": "2025-06-13T13:25:55.214292",
     "status": "completed"
    },
    "tags": []
   },
   "outputs": [
    {
     "data": {
      "text/plain": [
       "{'BAS': 0.5316022759348803, 'WF1': 0.6913363668105493}"
      ]
     },
     "execution_count": 26,
     "metadata": {},
     "output_type": "execute_result"
    }
   ],
   "source": [
    "metrics_dict"
   ]
  },
  {
   "cell_type": "code",
   "execution_count": 27,
   "id": "d008b6c6",
   "metadata": {
    "execution": {
     "iopub.execute_input": "2025-06-13T13:25:55.246195Z",
     "iopub.status.busy": "2025-06-13T13:25:55.245891Z",
     "iopub.status.idle": "2025-06-13T13:25:55.255322Z",
     "shell.execute_reply": "2025-06-13T13:25:55.255002Z"
    },
    "papermill": {
     "duration": 0.019836,
     "end_time": "2025-06-13T13:25:55.256160",
     "exception": false,
     "start_time": "2025-06-13T13:25:55.236324",
     "status": "completed"
    },
    "tags": []
   },
   "outputs": [
    {
     "data": {
      "text/html": [
       "<div>\n",
       "<style scoped>\n",
       "    .dataframe tbody tr th:only-of-type {\n",
       "        vertical-align: middle;\n",
       "    }\n",
       "\n",
       "    .dataframe tbody tr th {\n",
       "        vertical-align: top;\n",
       "    }\n",
       "\n",
       "    .dataframe thead th {\n",
       "        text-align: right;\n",
       "    }\n",
       "</style>\n",
       "<table border=\"1\" class=\"dataframe\">\n",
       "  <thead>\n",
       "    <tr style=\"text-align: right;\">\n",
       "      <th></th>\n",
       "      <th>BAS</th>\n",
       "      <th>WF1</th>\n",
       "      <th>split_idx</th>\n",
       "      <th>gene_set_seed</th>\n",
       "      <th>cell_type</th>\n",
       "    </tr>\n",
       "  </thead>\n",
       "  <tbody>\n",
       "    <tr>\n",
       "      <th>0</th>\n",
       "      <td>0.531602</td>\n",
       "      <td>0.691336</td>\n",
       "      <td>3</td>\n",
       "      <td>shap_studyID_NOdisease_samesize</td>\n",
       "      <td>Mono</td>\n",
       "    </tr>\n",
       "  </tbody>\n",
       "</table>\n",
       "</div>"
      ],
      "text/plain": [
       "        BAS       WF1  split_idx                    gene_set_seed cell_type\n",
       "0  0.531602  0.691336          3  shap_studyID_NOdisease_samesize      Mono"
      ]
     },
     "execution_count": 27,
     "metadata": {},
     "output_type": "execute_result"
    }
   ],
   "source": [
    "metrics_df = pd.DataFrame.from_dict([metrics_dict]).assign(split_idx=TEST_SPLIT_IDX, gene_set_seed=SEED, cell_type=CELL_TYPE)\n",
    "metrics_df"
   ]
  },
  {
   "cell_type": "code",
   "execution_count": 28,
   "id": "f34257eb",
   "metadata": {
    "execution": {
     "iopub.execute_input": "2025-06-13T13:25:55.276702Z",
     "iopub.status.busy": "2025-06-13T13:25:55.276367Z",
     "iopub.status.idle": "2025-06-13T13:25:55.284758Z",
     "shell.execute_reply": "2025-06-13T13:25:55.284394Z"
    },
    "papermill": {
     "duration": 0.019432,
     "end_time": "2025-06-13T13:25:55.285697",
     "exception": false,
     "start_time": "2025-06-13T13:25:55.266265",
     "status": "completed"
    },
    "tags": []
   },
   "outputs": [],
   "source": [
    "out_dir = here(f'03_downstream_analysis/08_gene_importance/xgboost_external_validation/xgboost_TopN_genes/results_{N_GENES}/metrics')\n",
    "\n",
    "if not os.path.exists(out_dir):\n",
    "    os.makedirs(out_dir)\n",
    "    \n",
    "metrics_df.to_csv(os.path.join(out_dir, f'{CELL_TYPE}_{SEED}_{TEST_SPLIT_IDX}_metrics.zip'))"
   ]
  }
 ],
 "metadata": {
  "kernelspec": {
   "display_name": "Python 3 (ipykernel)",
   "language": "python",
   "name": "python3"
  },
  "language_info": {
   "codemirror_mode": {
    "name": "ipython",
    "version": 3
   },
   "file_extension": ".py",
   "mimetype": "text/x-python",
   "name": "python",
   "nbconvert_exporter": "python",
   "pygments_lexer": "ipython3",
   "version": "3.12.5"
  },
  "papermill": {
   "default_parameters": {},
   "duration": 1494.825399,
   "end_time": "2025-06-13T13:25:56.111299",
   "environment_variables": {},
   "exception": null,
   "input_path": "02_xgboost_fitting_external_20genes.ipynb",
   "output_path": "results_20/executed_notebooks/xgboost_fitting_external_CT_Mono_GS_shap_studyID_NOdisease_samesize_seed3.ipynb",
   "parameters": {
    "CELL_TYPE": "Mono",
    "SEED": "shap_studyID_NOdisease_samesize",
    "TEST_SPLIT_IDX": 3
   },
   "start_time": "2025-06-13T13:01:01.285900",
   "version": "2.6.0"
  }
 },
 "nbformat": 4,
 "nbformat_minor": 5
}