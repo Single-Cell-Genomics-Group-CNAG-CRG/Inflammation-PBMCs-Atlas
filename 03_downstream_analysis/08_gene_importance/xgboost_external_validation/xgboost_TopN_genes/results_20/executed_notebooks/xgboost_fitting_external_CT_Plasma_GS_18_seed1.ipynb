{
 "cells": [
  {
   "cell_type": "code",
   "execution_count": 1,
   "id": "01ffd070",
   "metadata": {
    "editable": true,
    "execution": {
     "iopub.execute_input": "2025-05-15T16:15:49.208230Z",
     "iopub.status.busy": "2025-05-15T16:15:49.208054Z",
     "iopub.status.idle": "2025-05-15T16:15:49.211098Z",
     "shell.execute_reply": "2025-05-15T16:15:49.210780Z"
    },
    "papermill": {
     "duration": 0.012046,
     "end_time": "2025-05-15T16:15:49.212054",
     "exception": false,
     "start_time": "2025-05-15T16:15:49.200008",
     "status": "completed"
    },
    "slideshow": {
     "slide_type": ""
    },
    "tags": [
     "parameters"
    ]
   },
   "outputs": [],
   "source": [
    "CELL_TYPE = 'pDC'\n",
    "N_GENES: int = 20\n",
    "SEED = 'shap_studyID' #'disease_NOstudy' 'study_NOdisease' or 'int' or 'shap_studyID'\n",
    "TEST_SPLIT_IDX: int = 1 #[0,4]"
   ]
  },
  {
   "cell_type": "code",
   "execution_count": 2,
   "id": "b749d263",
   "metadata": {
    "execution": {
     "iopub.execute_input": "2025-05-15T16:15:49.224071Z",
     "iopub.status.busy": "2025-05-15T16:15:49.223814Z",
     "iopub.status.idle": "2025-05-15T16:15:49.225914Z",
     "shell.execute_reply": "2025-05-15T16:15:49.225618Z"
    },
    "papermill": {
     "duration": 0.008843,
     "end_time": "2025-05-15T16:15:49.226745",
     "exception": false,
     "start_time": "2025-05-15T16:15:49.217902",
     "status": "completed"
    },
    "tags": [
     "injected-parameters"
    ]
   },
   "outputs": [],
   "source": [
    "# Parameters\n",
    "CELL_TYPE = \"Plasma\"\n",
    "SEED = 18\n",
    "TEST_SPLIT_IDX = 1\n"
   ]
  },
  {
   "cell_type": "code",
   "execution_count": 3,
   "id": "3d0d617c",
   "metadata": {
    "execution": {
     "iopub.execute_input": "2025-05-15T16:15:49.238211Z",
     "iopub.status.busy": "2025-05-15T16:15:49.237819Z",
     "iopub.status.idle": "2025-05-15T16:15:49.239927Z",
     "shell.execute_reply": "2025-05-15T16:15:49.239627Z"
    },
    "papermill": {
     "duration": 0.008667,
     "end_time": "2025-05-15T16:15:49.240791",
     "exception": false,
     "start_time": "2025-05-15T16:15:49.232124",
     "status": "completed"
    },
    "tags": []
   },
   "outputs": [],
   "source": [
    "N_SPLITS: int = 5\n",
    "N_TRIALS: int = 50"
   ]
  },
  {
   "cell_type": "code",
   "execution_count": 4,
   "id": "f1ffb979",
   "metadata": {
    "execution": {
     "iopub.execute_input": "2025-05-15T16:15:49.253359Z",
     "iopub.status.busy": "2025-05-15T16:15:49.253083Z",
     "iopub.status.idle": "2025-05-15T16:15:50.754201Z",
     "shell.execute_reply": "2025-05-15T16:15:50.753654Z"
    },
    "papermill": {
     "duration": 1.509293,
     "end_time": "2025-05-15T16:15:50.755544",
     "exception": false,
     "start_time": "2025-05-15T16:15:49.246251",
     "status": "completed"
    },
    "tags": []
   },
   "outputs": [],
   "source": [
    "import os\n",
    "import sys\n",
    "from pyprojroot.here import here\n",
    "import pandas as pd\n",
    "import anndata as ad\n",
    "import numpy as np\n",
    "import math\n",
    "from sklearn.model_selection import StratifiedGroupKFold\n",
    "from sklearn.preprocessing import LabelEncoder\n",
    "from sklearn.metrics import f1_score\n",
    "import matplotlib.pyplot as plt\n",
    "import seaborn as sns\n",
    "from itertools import product\n",
    "from sklearn.metrics import balanced_accuracy_score, f1_score\n",
    "import optuna\n",
    "\n",
    "import joblib\n",
    "import pickle\n",
    "import datetime\n",
    "\n",
    "import collections\n",
    "\n",
    "import xgboost\n",
    "from sklearn.preprocessing import LabelEncoder\n",
    "\n",
    "import scipy.sparse as ssp\n",
    "import joblib\n",
    "\n",
    "from dotenv import load_dotenv"
   ]
  },
  {
   "cell_type": "code",
   "execution_count": 5,
   "id": "8c77792a",
   "metadata": {
    "execution": {
     "iopub.execute_input": "2025-05-15T16:15:50.767591Z",
     "iopub.status.busy": "2025-05-15T16:15:50.767238Z",
     "iopub.status.idle": "2025-05-15T16:15:50.773312Z",
     "shell.execute_reply": "2025-05-15T16:15:50.772990Z"
    },
    "papermill": {
     "duration": 0.012869,
     "end_time": "2025-05-15T16:15:50.774183",
     "exception": false,
     "start_time": "2025-05-15T16:15:50.761314",
     "status": "completed"
    },
    "tags": []
   },
   "outputs": [
    {
     "data": {
      "text/plain": [
       "True"
      ]
     },
     "execution_count": 5,
     "metadata": {},
     "output_type": "execute_result"
    }
   ],
   "source": [
    "load_dotenv()"
   ]
  },
  {
   "cell_type": "markdown",
   "id": "03226c66",
   "metadata": {
    "papermill": {
     "duration": 0.005326,
     "end_time": "2025-05-15T16:15:50.784863",
     "exception": false,
     "start_time": "2025-05-15T16:15:50.779537",
     "status": "completed"
    },
    "tags": []
   },
   "source": [
    "# LOAD DATASET"
   ]
  },
  {
   "cell_type": "code",
   "execution_count": 6,
   "id": "035b18d4",
   "metadata": {
    "execution": {
     "iopub.execute_input": "2025-05-15T16:15:50.796041Z",
     "iopub.status.busy": "2025-05-15T16:15:50.795863Z",
     "iopub.status.idle": "2025-05-15T16:15:50.835532Z",
     "shell.execute_reply": "2025-05-15T16:15:50.835057Z"
    },
    "papermill": {
     "duration": 0.046449,
     "end_time": "2025-05-15T16:15:50.836645",
     "exception": false,
     "start_time": "2025-05-15T16:15:50.790196",
     "status": "completed"
    },
    "tags": []
   },
   "outputs": [],
   "source": [
    "train_adata = ad.read_h5ad(\n",
    "    here(f'03_downstream_analysis/08_gene_importance/xgboost_external_validation/xgboost_TopN_genes/data_cellTypes/EXTERNAL_{CELL_TYPE}.filtered.log1p.h5ad')\n",
    ")"
   ]
  },
  {
   "cell_type": "code",
   "execution_count": 7,
   "id": "1f287a23",
   "metadata": {
    "execution": {
     "iopub.execute_input": "2025-05-15T16:15:50.848672Z",
     "iopub.status.busy": "2025-05-15T16:15:50.848401Z",
     "iopub.status.idle": "2025-05-15T16:15:50.858392Z",
     "shell.execute_reply": "2025-05-15T16:15:50.858036Z"
    },
    "papermill": {
     "duration": 0.016946,
     "end_time": "2025-05-15T16:15:50.859285",
     "exception": false,
     "start_time": "2025-05-15T16:15:50.842339",
     "status": "completed"
    },
    "tags": []
   },
   "outputs": [
    {
     "name": "stdout",
     "output_type": "stream",
     "text": [
      "['ENSG00000132965' 'ENSG00000114423' 'ENSG00000143119' 'ENSG00000175567'\n",
      " 'ENSG00000134107' 'ENSG00000042753' 'ENSG00000171608' 'ENSG00000066336'\n",
      " 'ENSG00000133639' 'ENSG00000140264' 'ENSG00000104689' 'ENSG00000203747'\n",
      " 'ENSG00000258315' 'ENSG00000105835' 'ENSG00000004468' 'ENSG00000265972'\n",
      " 'ENSG00000140105' 'ENSG00000130724' 'ENSG00000160888' 'ENSG00000184752'\n",
      " 'ENSG00000163513' 'ENSG00000090554' 'ENSG00000100368' 'ENSG00000126353'\n",
      " 'ENSG00000198846' 'ENSG00000104894' 'ENSG00000135114' 'ENSG00000081059'\n",
      " 'ENSG00000100906' 'ENSG00000008517' 'ENSG00000156587' 'ENSG00000115232'\n",
      " 'ENSG00000090863' 'ENSG00000137193' 'ENSG00000090266' 'ENSG00000168894'\n",
      " 'ENSG00000197102' 'ENSG00000164308' 'ENSG00000172543' 'ENSG00000099204'\n",
      " 'ENSG00000198355' 'ENSG00000110848' 'ENSG00000115875' 'ENSG00000118971'\n",
      " 'ENSG00000101096' 'ENSG00000175104' 'ENSG00000011590' 'ENSG00000142669'\n",
      " 'ENSG00000164307' 'ENSG00000147443' 'ENSG00000155380' 'ENSG00000125534'\n",
      " 'ENSG00000168610' 'ENSG00000145850' 'ENSG00000162772' 'ENSG00000120742'\n",
      " 'ENSG00000090339' 'ENSG00000152219' 'ENSG00000143110' 'ENSG00000183172'\n",
      " 'ENSG00000121858' 'ENSG00000118503' 'ENSG00000139192' 'ENSG00000152778'\n",
      " 'ENSG00000142634' 'ENSG00000127540' 'ENSG00000103187' 'ENSG00000204257'\n",
      " 'ENSG00000143575' 'ENSG00000122359' 'ENSG00000167283' 'ENSG00000173039'\n",
      " 'ENSG00000137441' 'ENSG00000163660' 'ENSG00000196396' 'ENSG00000100280'\n",
      " 'ENSG00000131143' 'ENSG00000156411' 'ENSG00000204843' 'ENSG00000065978'\n",
      " 'ENSG00000137965' 'ENSG00000089737' 'ENSG00000163220' 'ENSG00000121316'\n",
      " 'ENSG00000163563' 'ENSG00000158517' 'ENSG00000121774' 'ENSG00000180008'\n",
      " 'ENSG00000120129' 'ENSG00000168811' 'ENSG00000106367' 'ENSG00000170581'\n",
      " 'ENSG00000042980' 'ENSG00000168389' 'ENSG00000184007' 'ENSG00000173757'\n",
      " 'ENSG00000101608' 'ENSG00000169564' 'ENSG00000104998' 'ENSG00000113615'\n",
      " 'ENSG00000105583' 'ENSG00000206503' 'ENSG00000145287' 'ENSG00000143933'\n",
      " 'ENSG00000160075' 'ENSG00000163131' 'ENSG00000142089']\n"
     ]
    }
   ],
   "source": [
    "if SEED != 'all':\n",
    "    gene_subset = np.load(here(f'03_downstream_analysis/08_gene_importance/xgboost_external_validation/shap_gene_selection/gene_subsets_{N_GENES}/{CELL_TYPE}_{SEED}.npy'), allow_pickle=True)\n",
    "    train_adata = train_adata[:,gene_subset]\n",
    "    print(gene_subset)\n",
    "elif SEED == 'all':\n",
    "    print('Using all genes')\n",
    "else:\n",
    "    raise ValueError()"
   ]
  },
  {
   "cell_type": "code",
   "execution_count": 8,
   "id": "e0b57694",
   "metadata": {
    "execution": {
     "iopub.execute_input": "2025-05-15T16:15:50.871017Z",
     "iopub.status.busy": "2025-05-15T16:15:50.870742Z",
     "iopub.status.idle": "2025-05-15T16:15:50.873771Z",
     "shell.execute_reply": "2025-05-15T16:15:50.873470Z"
    },
    "papermill": {
     "duration": 0.009644,
     "end_time": "2025-05-15T16:15:50.874570",
     "exception": false,
     "start_time": "2025-05-15T16:15:50.864926",
     "status": "completed"
    },
    "tags": []
   },
   "outputs": [
    {
     "data": {
      "text/plain": [
       "(542, 107)"
      ]
     },
     "execution_count": 8,
     "metadata": {},
     "output_type": "execute_result"
    }
   ],
   "source": [
    "train_adata.shape"
   ]
  },
  {
   "cell_type": "code",
   "execution_count": 9,
   "id": "de6db005",
   "metadata": {
    "execution": {
     "iopub.execute_input": "2025-05-15T16:15:50.887566Z",
     "iopub.status.busy": "2025-05-15T16:15:50.887126Z",
     "iopub.status.idle": "2025-05-15T16:15:50.890590Z",
     "shell.execute_reply": "2025-05-15T16:15:50.890290Z"
    },
    "papermill": {
     "duration": 0.011147,
     "end_time": "2025-05-15T16:15:50.891484",
     "exception": false,
     "start_time": "2025-05-15T16:15:50.880337",
     "status": "completed"
    },
    "tags": []
   },
   "outputs": [
    {
     "data": {
      "text/plain": [
       "['RA', 'COVID', 'healthy', 'HIV', 'cirrhosis', 'CD', 'SLE', 'sepsis']\n",
       "Categories (8, object): ['CD', 'COVID', 'HIV', 'RA', 'SLE', 'cirrhosis', 'healthy', 'sepsis']"
      ]
     },
     "execution_count": 9,
     "metadata": {},
     "output_type": "execute_result"
    }
   ],
   "source": [
    "train_adata.obs.disease.unique()"
   ]
  },
  {
   "cell_type": "code",
   "execution_count": 10,
   "id": "f13e110c",
   "metadata": {
    "execution": {
     "iopub.execute_input": "2025-05-15T16:15:50.903680Z",
     "iopub.status.busy": "2025-05-15T16:15:50.903240Z",
     "iopub.status.idle": "2025-05-15T16:15:50.906864Z",
     "shell.execute_reply": "2025-05-15T16:15:50.906565Z"
    },
    "papermill": {
     "duration": 0.0106,
     "end_time": "2025-05-15T16:15:50.907751",
     "exception": false,
     "start_time": "2025-05-15T16:15:50.897151",
     "status": "completed"
    },
    "tags": []
   },
   "outputs": [
    {
     "data": {
      "text/plain": [
       "['SCGT00val_I0364_T0', 'SCGT00val_I036019_T0', 'SCGT00val_I036028_T0', 'SCGT00val_I036024_T0', 'SCGT00val_I036016_T0', ..., '10XGenomics_10XHC2_T0', '10XGenomics_10XHC3_T0', '10XGenomics_10XHC5_T0', '10XGenomics_10XHC7_T0', '10XGenomics_10XHC8_T0']\n",
       "Length: 74\n",
       "Categories (74, object): ['10XGenomics_10XHC1_T0', '10XGenomics_10XHC2_T0', '10XGenomics_10XHC3_T0', '10XGenomics_10XHC4_T0', ..., 'Savage2021_BRISL6_T0', 'Savage2021_BRISL7_T0', 'Savage2021_PIDA_T0', 'Savage2021_PIDB_T0']"
      ]
     },
     "execution_count": 10,
     "metadata": {},
     "output_type": "execute_result"
    }
   ],
   "source": [
    "train_adata.obs.sampleID.unique()"
   ]
  },
  {
   "cell_type": "code",
   "execution_count": 11,
   "id": "b6d6e679",
   "metadata": {
    "execution": {
     "iopub.execute_input": "2025-05-15T16:15:50.920138Z",
     "iopub.status.busy": "2025-05-15T16:15:50.919756Z",
     "iopub.status.idle": "2025-05-15T16:15:50.949003Z",
     "shell.execute_reply": "2025-05-15T16:15:50.948665Z"
    },
    "papermill": {
     "duration": 0.036604,
     "end_time": "2025-05-15T16:15:50.949914",
     "exception": false,
     "start_time": "2025-05-15T16:15:50.913310",
     "status": "completed"
    },
    "tags": []
   },
   "outputs": [],
   "source": [
    "all_idxs = np.arange(train_adata.obs.shape[0])\n",
    "left_out_splits = [s[1] for s in StratifiedGroupKFold(n_splits=N_SPLITS).split(all_idxs, train_adata.obs.disease, train_adata.obs.sampleID)]"
   ]
  },
  {
   "cell_type": "code",
   "execution_count": 12,
   "id": "63f9cea7",
   "metadata": {
    "execution": {
     "iopub.execute_input": "2025-05-15T16:15:50.966590Z",
     "iopub.status.busy": "2025-05-15T16:15:50.966263Z",
     "iopub.status.idle": "2025-05-15T16:15:50.969756Z",
     "shell.execute_reply": "2025-05-15T16:15:50.969454Z"
    },
    "papermill": {
     "duration": 0.010676,
     "end_time": "2025-05-15T16:15:50.970588",
     "exception": false,
     "start_time": "2025-05-15T16:15:50.959912",
     "status": "completed"
    },
    "tags": []
   },
   "outputs": [
    {
     "data": {
      "text/plain": [
       "([0, 3, 4], 2, 1)"
      ]
     },
     "execution_count": 12,
     "metadata": {},
     "output_type": "execute_result"
    }
   ],
   "source": [
    "TRAIN_SPLIT_IDXS = [0,1,2,3,4]\n",
    "VAL_SPLIT_IDX = (TEST_SPLIT_IDX + 1) % 5\n",
    "TRAIN_SPLIT_IDXS.remove(TEST_SPLIT_IDX)\n",
    "TRAIN_SPLIT_IDXS.remove(VAL_SPLIT_IDX)\n",
    "TRAIN_SPLIT_IDXS, VAL_SPLIT_IDX, TEST_SPLIT_IDX"
   ]
  },
  {
   "cell_type": "code",
   "execution_count": 13,
   "id": "c4bb0387",
   "metadata": {
    "execution": {
     "iopub.execute_input": "2025-05-15T16:15:50.983079Z",
     "iopub.status.busy": "2025-05-15T16:15:50.982617Z",
     "iopub.status.idle": "2025-05-15T16:15:50.985039Z",
     "shell.execute_reply": "2025-05-15T16:15:50.984743Z"
    },
    "papermill": {
     "duration": 0.009522,
     "end_time": "2025-05-15T16:15:50.985891",
     "exception": false,
     "start_time": "2025-05-15T16:15:50.976369",
     "status": "completed"
    },
    "tags": []
   },
   "outputs": [],
   "source": [
    "train_idxs = np.concatenate([left_out_splits[idx] for idx in TRAIN_SPLIT_IDXS])\n",
    "val_idxs = left_out_splits[VAL_SPLIT_IDX]\n",
    "test_idxs = left_out_splits[TEST_SPLIT_IDX]"
   ]
  },
  {
   "cell_type": "markdown",
   "id": "4c485bc5",
   "metadata": {
    "papermill": {
     "duration": 0.005775,
     "end_time": "2025-05-15T16:15:50.997718",
     "exception": false,
     "start_time": "2025-05-15T16:15:50.991943",
     "status": "completed"
    },
    "tags": []
   },
   "source": [
    "### SUBSET DATASET INTO TRAIN/TEST/VAL SPLITS"
   ]
  },
  {
   "cell_type": "code",
   "execution_count": 14,
   "id": "b8e396c4",
   "metadata": {
    "execution": {
     "iopub.execute_input": "2025-05-15T16:15:51.019073Z",
     "iopub.status.busy": "2025-05-15T16:15:51.018896Z",
     "iopub.status.idle": "2025-05-15T16:15:51.024956Z",
     "shell.execute_reply": "2025-05-15T16:15:51.024652Z"
    },
    "papermill": {
     "duration": 0.013234,
     "end_time": "2025-05-15T16:15:51.025806",
     "exception": false,
     "start_time": "2025-05-15T16:15:51.012572",
     "status": "completed"
    },
    "tags": []
   },
   "outputs": [
    {
     "data": {
      "text/plain": [
       "((333, 107), (107, 107), (102, 107))"
      ]
     },
     "execution_count": 14,
     "metadata": {},
     "output_type": "execute_result"
    }
   ],
   "source": [
    "X_train = train_adata.X[train_idxs]\n",
    "X_test = train_adata.X[test_idxs]\n",
    "X_val = train_adata.X[val_idxs]\n",
    "X_train.shape, X_test.shape, X_val.shape"
   ]
  },
  {
   "cell_type": "code",
   "execution_count": 15,
   "id": "ba4fc6f6",
   "metadata": {
    "execution": {
     "iopub.execute_input": "2025-05-15T16:15:51.049373Z",
     "iopub.status.busy": "2025-05-15T16:15:51.048836Z",
     "iopub.status.idle": "2025-05-15T16:15:51.053775Z",
     "shell.execute_reply": "2025-05-15T16:15:51.053468Z"
    },
    "papermill": {
     "duration": 0.012125,
     "end_time": "2025-05-15T16:15:51.054633",
     "exception": false,
     "start_time": "2025-05-15T16:15:51.042508",
     "status": "completed"
    },
    "tags": []
   },
   "outputs": [
    {
     "data": {
      "text/plain": [
       "((333,), (107,), (102,))"
      ]
     },
     "execution_count": 15,
     "metadata": {},
     "output_type": "execute_result"
    }
   ],
   "source": [
    "y_train = train_adata.obs.iloc[train_idxs].disease.values.astype(str)\n",
    "y_test = train_adata.obs.iloc[test_idxs].disease.values.astype(str)\n",
    "y_val = train_adata.obs.iloc[val_idxs].disease.values.astype(str)\n",
    "y_train.shape, y_test.shape, y_val.shape"
   ]
  },
  {
   "cell_type": "code",
   "execution_count": 16,
   "id": "038cdbb3",
   "metadata": {
    "execution": {
     "iopub.execute_input": "2025-05-15T16:15:51.067230Z",
     "iopub.status.busy": "2025-05-15T16:15:51.067015Z",
     "iopub.status.idle": "2025-05-15T16:15:51.069812Z",
     "shell.execute_reply": "2025-05-15T16:15:51.069513Z"
    },
    "papermill": {
     "duration": 0.010041,
     "end_time": "2025-05-15T16:15:51.070645",
     "exception": false,
     "start_time": "2025-05-15T16:15:51.060604",
     "status": "completed"
    },
    "tags": []
   },
   "outputs": [],
   "source": [
    "lenc = LabelEncoder()\n",
    "y_train_enc = lenc.fit_transform(y_train)\n",
    "y_val_enc = lenc.transform(y_val)\n",
    "y_test_enc = lenc.transform(y_test)"
   ]
  },
  {
   "cell_type": "markdown",
   "id": "877aba46",
   "metadata": {
    "papermill": {
     "duration": 0.005804,
     "end_time": "2025-05-15T16:15:51.082357",
     "exception": false,
     "start_time": "2025-05-15T16:15:51.076553",
     "status": "completed"
    },
    "tags": []
   },
   "source": [
    "### GENERATE F1 "
   ]
  },
  {
   "cell_type": "code",
   "execution_count": 17,
   "id": "84d274f8",
   "metadata": {
    "execution": {
     "iopub.execute_input": "2025-05-15T16:15:51.095633Z",
     "iopub.status.busy": "2025-05-15T16:15:51.095237Z",
     "iopub.status.idle": "2025-05-15T16:15:51.097707Z",
     "shell.execute_reply": "2025-05-15T16:15:51.097409Z"
    },
    "papermill": {
     "duration": 0.010057,
     "end_time": "2025-05-15T16:15:51.098555",
     "exception": false,
     "start_time": "2025-05-15T16:15:51.088498",
     "status": "completed"
    },
    "tags": []
   },
   "outputs": [],
   "source": [
    "def custom_f1_score(y_true, y_pred):\n",
    "    return -f1_score(y_true, y_pred.argmax(1), average='weighted')"
   ]
  },
  {
   "cell_type": "code",
   "execution_count": 18,
   "id": "e5981866",
   "metadata": {
    "execution": {
     "iopub.execute_input": "2025-05-15T16:15:51.120404Z",
     "iopub.status.busy": "2025-05-15T16:15:51.120047Z",
     "iopub.status.idle": "2025-05-15T16:15:51.123741Z",
     "shell.execute_reply": "2025-05-15T16:15:51.123440Z"
    },
    "papermill": {
     "duration": 0.010842,
     "end_time": "2025-05-15T16:15:51.124568",
     "exception": false,
     "start_time": "2025-05-15T16:15:51.113726",
     "status": "completed"
    },
    "tags": []
   },
   "outputs": [],
   "source": [
    "eval_metric=custom_f1_score\n",
    "eval_metric_name='custom_f1_score'\n",
    "\n",
    "def objective(trial):\n",
    "    params = {\n",
    "        'n_estimators': 1500,\n",
    "        'max_depth': trial.suggest_int('max_depth', 3, 20),\n",
    "        'min_child_weight': trial.suggest_int('min_child_weight', 1, 250),\n",
    "        'subsample': trial.suggest_float('subsample', 0.1, 1.0),\n",
    "        'colsample_bynode': trial.suggest_float('colsample_bynode', 0.1, 1.0),\n",
    "        'learning_rate': trial.suggest_float('learning_rate', 1e-3, 5e-1, log=True),\n",
    "    }\n",
    "    pruning_callback = optuna.integration.XGBoostPruningCallback(trial, f'validation_0-{eval_metric_name}')\n",
    "    es_callback = xgboost.callback.EarlyStopping(20, min_delta=0.001)\n",
    "    xgb = xgboost.XGBClassifier(\n",
    "        eval_metric=eval_metric,\n",
    "        callbacks=[pruning_callback, es_callback],\n",
    "        n_jobs=5,\n",
    "        **params\n",
    "    )\n",
    "    xgb.fit(\n",
    "        X_train, \n",
    "        y_train_enc, \n",
    "        verbose=0,\n",
    "        eval_set=[(X_val, y_val_enc)],\n",
    "    )\n",
    "    trial.set_user_attr('best_iteration', xgb.best_iteration)\n",
    "\n",
    "    return xgb.best_score"
   ]
  },
  {
   "cell_type": "code",
   "execution_count": 19,
   "id": "6fabaf4d",
   "metadata": {
    "execution": {
     "iopub.execute_input": "2025-05-15T16:15:51.136923Z",
     "iopub.status.busy": "2025-05-15T16:15:51.136706Z",
     "iopub.status.idle": "2025-05-15T16:16:04.210178Z",
     "shell.execute_reply": "2025-05-15T16:16:04.209612Z"
    },
    "papermill": {
     "duration": 13.080695,
     "end_time": "2025-05-15T16:16:04.211205",
     "exception": false,
     "start_time": "2025-05-15T16:15:51.130510",
     "status": "completed"
    },
    "scrolled": true,
    "tags": []
   },
   "outputs": [
    {
     "name": "stderr",
     "output_type": "stream",
     "text": [
      "[I 2025-05-15 18:15:51,138] A new study created in memory with name: no-name-f326ef65-c914-4c63-87d2-cb36f014cb3f\n"
     ]
    },
    {
     "name": "stderr",
     "output_type": "stream",
     "text": [
      "[I 2025-05-15 18:15:51,204] Trial 0 finished with value: -0.03313 and parameters: {'max_depth': 9, 'min_child_weight': 238, 'subsample': 0.7587945476302645, 'colsample_bynode': 0.6387926357773329, 'learning_rate': 0.0026368755339723046}. Best is trial 0 with value: -0.03313.\n"
     ]
    },
    {
     "name": "stderr",
     "output_type": "stream",
     "text": [
      "[I 2025-05-15 18:15:51,476] Trial 1 finished with value: -0.379993 and parameters: {'max_depth': 5, 'min_child_weight': 15, 'subsample': 0.8795585311974417, 'colsample_bynode': 0.6410035105688879, 'learning_rate': 0.08148293210105287}. Best is trial 1 with value: -0.379993.\n"
     ]
    },
    {
     "name": "stderr",
     "output_type": "stream",
     "text": [
      "[I 2025-05-15 18:15:51,637] Trial 2 finished with value: -0.03313 and parameters: {'max_depth': 3, 'min_child_weight': 243, 'subsample': 0.8491983767203796, 'colsample_bynode': 0.29110519961044856, 'learning_rate': 0.003095566460242371}. Best is trial 1 with value: -0.379993.\n"
     ]
    },
    {
     "name": "stderr",
     "output_type": "stream",
     "text": [
      "[I 2025-05-15 18:15:51,804] Trial 3 finished with value: -0.03313 and parameters: {'max_depth': 6, 'min_child_weight': 77, 'subsample': 0.5722807884690141, 'colsample_bynode': 0.48875051677790415, 'learning_rate': 0.006109683510122491}. Best is trial 1 with value: -0.379993.\n"
     ]
    },
    {
     "name": "stderr",
     "output_type": "stream",
     "text": [
      "[I 2025-05-15 18:15:51,963] Trial 4 finished with value: -0.03313 and parameters: {'max_depth': 14, 'min_child_weight': 35, 'subsample': 0.3629301836816964, 'colsample_bynode': 0.4297256589643226, 'learning_rate': 0.01701841881702917}. Best is trial 1 with value: -0.379993.\n"
     ]
    },
    {
     "name": "stderr",
     "output_type": "stream",
     "text": [
      "[I 2025-05-15 18:15:52,136] Trial 5 finished with value: -0.03313 and parameters: {'max_depth': 17, 'min_child_weight': 50, 'subsample': 0.5628109945722505, 'colsample_bynode': 0.6331731119758383, 'learning_rate': 0.0013346527038305934}. Best is trial 1 with value: -0.379993.\n"
     ]
    },
    {
     "name": "stderr",
     "output_type": "stream",
     "text": [
      "[I 2025-05-15 18:15:52,306] Trial 6 finished with value: -0.03313 and parameters: {'max_depth': 13, 'min_child_weight': 43, 'subsample': 0.1585464336867516, 'colsample_bynode': 0.9539969835279999, 'learning_rate': 0.4038423798071558}. Best is trial 1 with value: -0.379993.\n"
     ]
    },
    {
     "name": "stderr",
     "output_type": "stream",
     "text": [
      "[I 2025-05-15 18:15:52,484] Trial 7 finished with value: -0.03313 and parameters: {'max_depth': 17, 'min_child_weight': 77, 'subsample': 0.1879049026057455, 'colsample_bynode': 0.7158097238609412, 'learning_rate': 0.015415527060141935}. Best is trial 1 with value: -0.379993.\n"
     ]
    },
    {
     "name": "stderr",
     "output_type": "stream",
     "text": [
      "[I 2025-05-15 18:15:52,668] Trial 8 finished with value: -0.03313 and parameters: {'max_depth': 5, 'min_child_weight': 124, 'subsample': 0.13094966900369656, 'colsample_bynode': 0.9183883618709039, 'learning_rate': 0.004993895014755658}. Best is trial 1 with value: -0.379993.\n"
     ]
    },
    {
     "name": "stderr",
     "output_type": "stream",
     "text": [
      "[I 2025-05-15 18:15:52,878] Trial 9 finished with value: -0.03313 and parameters: {'max_depth': 14, 'min_child_weight': 78, 'subsample': 0.5680612190600297, 'colsample_bynode': 0.5920392514089517, 'learning_rate': 0.0031543990308330965}. Best is trial 1 with value: -0.379993.\n"
     ]
    },
    {
     "name": "stderr",
     "output_type": "stream",
     "text": [
      "[I 2025-05-15 18:15:53,428] Trial 10 finished with value: -0.441638 and parameters: {'max_depth': 9, 'min_child_weight': 2, 'subsample': 0.9725833997090791, 'colsample_bynode': 0.11616568805333755, 'learning_rate': 0.17780618353487967}. Best is trial 10 with value: -0.441638.\n"
     ]
    },
    {
     "name": "stderr",
     "output_type": "stream",
     "text": [
      "[I 2025-05-15 18:15:53,854] Trial 11 pruned. Trial was pruned at iteration 27.\n"
     ]
    },
    {
     "name": "stderr",
     "output_type": "stream",
     "text": [
      "[I 2025-05-15 18:15:54,720] Trial 12 finished with value: -0.501327 and parameters: {'max_depth': 9, 'min_child_weight': 3, 'subsample': 0.9754570370311046, 'colsample_bynode': 0.14672783827498995, 'learning_rate': 0.08954997670613858}. Best is trial 12 with value: -0.501327.\n"
     ]
    },
    {
     "name": "stderr",
     "output_type": "stream",
     "text": [
      "[I 2025-05-15 18:15:54,921] Trial 13 finished with value: -0.03313 and parameters: {'max_depth': 10, 'min_child_weight': 173, 'subsample': 0.9990365834996398, 'colsample_bynode': 0.10388397775802007, 'learning_rate': 0.08954294267079196}. Best is trial 12 with value: -0.501327.\n"
     ]
    },
    {
     "name": "stderr",
     "output_type": "stream",
     "text": [
      "[I 2025-05-15 18:15:55,126] Trial 14 finished with value: -0.03313 and parameters: {'max_depth': 7, 'min_child_weight': 132, 'subsample': 0.7251427075087294, 'colsample_bynode': 0.2827065087684573, 'learning_rate': 0.39514801085683204}. Best is trial 12 with value: -0.501327.\n"
     ]
    },
    {
     "name": "stderr",
     "output_type": "stream",
     "text": [
      "[I 2025-05-15 18:15:55,588] Trial 15 finished with value: -0.476392 and parameters: {'max_depth': 20, 'min_child_weight': 2, 'subsample': 0.7157386387695167, 'colsample_bynode': 0.31387503510266057, 'learning_rate': 0.19723736175781964}. Best is trial 12 with value: -0.501327.\n"
     ]
    },
    {
     "name": "stderr",
     "output_type": "stream",
     "text": [
      "[I 2025-05-15 18:15:55,815] Trial 16 finished with value: -0.03313 and parameters: {'max_depth': 20, 'min_child_weight': 117, 'subsample': 0.6730263351162008, 'colsample_bynode': 0.3385576284212829, 'learning_rate': 0.03981038544023995}. Best is trial 12 with value: -0.501327.\n"
     ]
    },
    {
     "name": "stderr",
     "output_type": "stream",
     "text": [
      "[I 2025-05-15 18:15:56,035] Trial 17 finished with value: -0.03313 and parameters: {'max_depth': 20, 'min_child_weight': 183, 'subsample': 0.37310167079970213, 'colsample_bynode': 0.22493155379732882, 'learning_rate': 0.03693978001808522}. Best is trial 12 with value: -0.501327.\n"
     ]
    },
    {
     "name": "stderr",
     "output_type": "stream",
     "text": [
      "[I 2025-05-15 18:15:56,261] Trial 18 pruned. Trial was pruned at iteration 21.\n"
     ]
    },
    {
     "name": "stderr",
     "output_type": "stream",
     "text": [
      "[I 2025-05-15 18:15:56,483] Trial 19 finished with value: -0.03313 and parameters: {'max_depth': 17, 'min_child_weight': 99, 'subsample': 0.6637428431059115, 'colsample_bynode': 0.21504189185437605, 'learning_rate': 0.044342843556182426}. Best is trial 12 with value: -0.501327.\n"
     ]
    },
    {
     "name": "stderr",
     "output_type": "stream",
     "text": [
      "[I 2025-05-15 18:15:56,699] Trial 20 pruned. Trial was pruned at iteration 21.\n"
     ]
    },
    {
     "name": "stderr",
     "output_type": "stream",
     "text": [
      "[I 2025-05-15 18:15:57,267] Trial 21 pruned. Trial was pruned at iteration 35.\n"
     ]
    },
    {
     "name": "stderr",
     "output_type": "stream",
     "text": [
      "[I 2025-05-15 18:15:57,490] Trial 22 finished with value: -0.166667 and parameters: {'max_depth': 8, 'min_child_weight': 56, 'subsample': 0.7982423974446629, 'colsample_bynode': 0.17243816785003457, 'learning_rate': 0.06928140953647935}. Best is trial 12 with value: -0.501327.\n"
     ]
    },
    {
     "name": "stderr",
     "output_type": "stream",
     "text": [
      "[I 2025-05-15 18:15:57,714] Trial 23 pruned. Trial was pruned at iteration 21.\n"
     ]
    },
    {
     "name": "stderr",
     "output_type": "stream",
     "text": [
      "[I 2025-05-15 18:15:58,000] Trial 24 pruned. Trial was pruned at iteration 21.\n"
     ]
    },
    {
     "name": "stderr",
     "output_type": "stream",
     "text": [
      "[I 2025-05-15 18:15:58,175] Trial 25 finished with value: -0.03313 and parameters: {'max_depth': 3, 'min_child_weight': 62, 'subsample': 0.6586980104904764, 'colsample_bynode': 0.29401099153696686, 'learning_rate': 0.2912234355365465}. Best is trial 12 with value: -0.501327.\n"
     ]
    },
    {
     "name": "stderr",
     "output_type": "stream",
     "text": [
      "[I 2025-05-15 18:15:58,357] Trial 26 pruned. Trial was pruned at iteration 21.\n"
     ]
    },
    {
     "name": "stderr",
     "output_type": "stream",
     "text": [
      "[I 2025-05-15 18:15:58,532] Trial 27 finished with value: -0.03313 and parameters: {'max_depth': 12, 'min_child_weight': 144, 'subsample': 0.7803900705327996, 'colsample_bynode': 0.7694032251558349, 'learning_rate': 0.05489682411910421}. Best is trial 12 with value: -0.501327.\n"
     ]
    },
    {
     "name": "stderr",
     "output_type": "stream",
     "text": [
      "[I 2025-05-15 18:15:58,703] Trial 28 finished with value: -0.03313 and parameters: {'max_depth': 7, 'min_child_weight': 98, 'subsample': 0.9414445924033766, 'colsample_bynode': 0.5290285056066547, 'learning_rate': 0.02490686433339173}. Best is trial 12 with value: -0.501327.\n"
     ]
    },
    {
     "name": "stderr",
     "output_type": "stream",
     "text": [
      "[I 2025-05-15 18:15:58,874] Trial 29 finished with value: -0.03313 and parameters: {'max_depth': 9, 'min_child_weight': 217, 'subsample': 0.7278521074556464, 'colsample_bynode': 0.34094914797190495, 'learning_rate': 0.12368523882492964}. Best is trial 12 with value: -0.501327.\n"
     ]
    },
    {
     "name": "stderr",
     "output_type": "stream",
     "text": [
      "[I 2025-05-15 18:15:59,043] Trial 30 finished with value: -0.166667 and parameters: {'max_depth': 16, 'min_child_weight': 63, 'subsample': 0.8554976784897274, 'colsample_bynode': 0.21240919165041178, 'learning_rate': 0.027140510012803577}. Best is trial 12 with value: -0.501327.\n"
     ]
    },
    {
     "name": "stderr",
     "output_type": "stream",
     "text": [
      "[I 2025-05-15 18:15:59,301] Trial 31 pruned. Trial was pruned at iteration 21.\n"
     ]
    },
    {
     "name": "stderr",
     "output_type": "stream",
     "text": [
      "[I 2025-05-15 18:15:59,546] Trial 32 pruned. Trial was pruned at iteration 21.\n"
     ]
    },
    {
     "name": "stderr",
     "output_type": "stream",
     "text": [
      "[I 2025-05-15 18:15:59,725] Trial 33 pruned. Trial was pruned at iteration 21.\n"
     ]
    },
    {
     "name": "stderr",
     "output_type": "stream",
     "text": [
      "[I 2025-05-15 18:16:00,218] Trial 34 pruned. Trial was pruned at iteration 41.\n"
     ]
    },
    {
     "name": "stderr",
     "output_type": "stream",
     "text": [
      "[I 2025-05-15 18:16:00,405] Trial 35 finished with value: -0.309723 and parameters: {'max_depth': 19, 'min_child_weight': 32, 'subsample': 0.9207832866492695, 'colsample_bynode': 0.6737545529725091, 'learning_rate': 0.011604009666148192}. Best is trial 12 with value: -0.501327.\n"
     ]
    },
    {
     "name": "stderr",
     "output_type": "stream",
     "text": [
      "[I 2025-05-15 18:16:00,579] Trial 36 pruned. Trial was pruned at iteration 21.\n"
     ]
    },
    {
     "name": "stderr",
     "output_type": "stream",
     "text": [
      "[I 2025-05-15 18:16:00,822] Trial 37 pruned. Trial was pruned at iteration 21.\n"
     ]
    },
    {
     "name": "stderr",
     "output_type": "stream",
     "text": [
      "[I 2025-05-15 18:16:01,020] Trial 38 finished with value: -0.03313 and parameters: {'max_depth': 3, 'min_child_weight': 72, 'subsample': 0.25720599485408774, 'colsample_bynode': 0.45462238513793146, 'learning_rate': 0.1619185155674941}. Best is trial 12 with value: -0.501327.\n"
     ]
    },
    {
     "name": "stderr",
     "output_type": "stream",
     "text": [
      "[I 2025-05-15 18:16:01,173] Trial 39 pruned. Trial was pruned at iteration 21.\n"
     ]
    },
    {
     "name": "stderr",
     "output_type": "stream",
     "text": [
      "[I 2025-05-15 18:16:01,350] Trial 40 finished with value: -0.03313 and parameters: {'max_depth': 8, 'min_child_weight': 91, 'subsample': 0.8808059541017608, 'colsample_bynode': 0.24001451345322716, 'learning_rate': 0.011105558843103316}. Best is trial 12 with value: -0.501327.\n"
     ]
    },
    {
     "name": "stderr",
     "output_type": "stream",
     "text": [
      "[I 2025-05-15 18:16:01,542] Trial 41 finished with value: -0.311662 and parameters: {'max_depth': 19, 'min_child_weight': 29, 'subsample': 0.9113470490356338, 'colsample_bynode': 0.6771614585180522, 'learning_rate': 0.00812850232018521}. Best is trial 12 with value: -0.501327.\n"
     ]
    },
    {
     "name": "stderr",
     "output_type": "stream",
     "text": [
      "[I 2025-05-15 18:16:01,788] Trial 42 pruned. Trial was pruned at iteration 21.\n"
     ]
    },
    {
     "name": "stderr",
     "output_type": "stream",
     "text": [
      "[I 2025-05-15 18:16:01,989] Trial 43 pruned. Trial was pruned at iteration 21.\n"
     ]
    },
    {
     "name": "stderr",
     "output_type": "stream",
     "text": [
      "[I 2025-05-15 18:16:02,157] Trial 44 finished with value: -0.166667 and parameters: {'max_depth': 19, 'min_child_weight': 47, 'subsample': 0.7201118994324461, 'colsample_bynode': 0.7810452605625889, 'learning_rate': 0.0044013148512619844}. Best is trial 12 with value: -0.501327.\n"
     ]
    },
    {
     "name": "stderr",
     "output_type": "stream",
     "text": [
      "[I 2025-05-15 18:16:02,427] Trial 45 pruned. Trial was pruned at iteration 21.\n"
     ]
    },
    {
     "name": "stderr",
     "output_type": "stream",
     "text": [
      "[I 2025-05-15 18:16:02,645] Trial 46 pruned. Trial was pruned at iteration 21.\n"
     ]
    },
    {
     "name": "stderr",
     "output_type": "stream",
     "text": [
      "[I 2025-05-15 18:16:03,377] Trial 47 finished with value: -0.463613 and parameters: {'max_depth': 18, 'min_child_weight': 1, 'subsample': 0.7709750267706562, 'colsample_bynode': 0.49707569416042485, 'learning_rate': 0.018776039399506048}. Best is trial 12 with value: -0.501327.\n"
     ]
    },
    {
     "name": "stderr",
     "output_type": "stream",
     "text": [
      "[I 2025-05-15 18:16:03,643] Trial 48 pruned. Trial was pruned at iteration 21.\n"
     ]
    },
    {
     "name": "stderr",
     "output_type": "stream",
     "text": [
      "[I 2025-05-15 18:16:04,110] Trial 49 finished with value: -0.468323 and parameters: {'max_depth': 6, 'min_child_weight': 1, 'subsample': 0.60322478413771, 'colsample_bynode': 0.30883314863954126, 'learning_rate': 0.04874356182237405}. Best is trial 12 with value: -0.501327.\n"
     ]
    }
   ],
   "source": [
    "sampler = optuna.samplers.TPESampler(seed=42)\n",
    "study = optuna.create_study(direction='minimize', sampler=sampler)\n",
    "study.optimize(objective, n_trials=N_TRIALS, gc_after_trial=True)"
   ]
  },
  {
   "cell_type": "code",
   "execution_count": 20,
   "id": "cf79ae6d",
   "metadata": {
    "execution": {
     "iopub.execute_input": "2025-05-15T16:16:04.231872Z",
     "iopub.status.busy": "2025-05-15T16:16:04.231399Z",
     "iopub.status.idle": "2025-05-15T16:16:04.254403Z",
     "shell.execute_reply": "2025-05-15T16:16:04.254025Z"
    },
    "papermill": {
     "duration": 0.033155,
     "end_time": "2025-05-15T16:16:04.255272",
     "exception": false,
     "start_time": "2025-05-15T16:16:04.222117",
     "status": "completed"
    },
    "tags": []
   },
   "outputs": [
    {
     "data": {
      "text/plain": [
       "['/scratch_isilon/groups/singlecell/shared/projects/Inflammation-PBMCs-Atlas/03_downstream_analysis/08_gene_importance/xgboost_external_validation/xgboost_TopN_genes/results_20/study/Plasma_18_1_xgboost.pkl']"
      ]
     },
     "execution_count": 20,
     "metadata": {},
     "output_type": "execute_result"
    }
   ],
   "source": [
    "out_dir = here(f'03_downstream_analysis/08_gene_importance/xgboost_external_validation/xgboost_TopN_genes/results_{N_GENES}/study')\n",
    "\n",
    "if not os.path.exists(out_dir):\n",
    "    os.makedirs(out_dir)\n",
    "    \n",
    "joblib.dump(study,os.path.join(out_dir, f'{CELL_TYPE}_{SEED}_{TEST_SPLIT_IDX}_xgboost.pkl'))"
   ]
  },
  {
   "cell_type": "code",
   "execution_count": 21,
   "id": "2db9c5c4",
   "metadata": {
    "execution": {
     "iopub.execute_input": "2025-05-15T16:16:04.273731Z",
     "iopub.status.busy": "2025-05-15T16:16:04.273400Z",
     "iopub.status.idle": "2025-05-15T16:16:04.848392Z",
     "shell.execute_reply": "2025-05-15T16:16:04.847923Z"
    },
    "papermill": {
     "duration": 0.585597,
     "end_time": "2025-05-15T16:16:04.849550",
     "exception": false,
     "start_time": "2025-05-15T16:16:04.263953",
     "status": "completed"
    },
    "tags": []
   },
   "outputs": [
    {
     "data": {
      "text/html": [
       "<style>#sk-container-id-1 {\n",
       "  /* Definition of color scheme common for light and dark mode */\n",
       "  --sklearn-color-text: black;\n",
       "  --sklearn-color-line: gray;\n",
       "  /* Definition of color scheme for unfitted estimators */\n",
       "  --sklearn-color-unfitted-level-0: #fff5e6;\n",
       "  --sklearn-color-unfitted-level-1: #f6e4d2;\n",
       "  --sklearn-color-unfitted-level-2: #ffe0b3;\n",
       "  --sklearn-color-unfitted-level-3: chocolate;\n",
       "  /* Definition of color scheme for fitted estimators */\n",
       "  --sklearn-color-fitted-level-0: #f0f8ff;\n",
       "  --sklearn-color-fitted-level-1: #d4ebff;\n",
       "  --sklearn-color-fitted-level-2: #b3dbfd;\n",
       "  --sklearn-color-fitted-level-3: cornflowerblue;\n",
       "\n",
       "  /* Specific color for light theme */\n",
       "  --sklearn-color-text-on-default-background: var(--sg-text-color, var(--theme-code-foreground, var(--jp-content-font-color1, black)));\n",
       "  --sklearn-color-background: var(--sg-background-color, var(--theme-background, var(--jp-layout-color0, white)));\n",
       "  --sklearn-color-border-box: var(--sg-text-color, var(--theme-code-foreground, var(--jp-content-font-color1, black)));\n",
       "  --sklearn-color-icon: #696969;\n",
       "\n",
       "  @media (prefers-color-scheme: dark) {\n",
       "    /* Redefinition of color scheme for dark theme */\n",
       "    --sklearn-color-text-on-default-background: var(--sg-text-color, var(--theme-code-foreground, var(--jp-content-font-color1, white)));\n",
       "    --sklearn-color-background: var(--sg-background-color, var(--theme-background, var(--jp-layout-color0, #111)));\n",
       "    --sklearn-color-border-box: var(--sg-text-color, var(--theme-code-foreground, var(--jp-content-font-color1, white)));\n",
       "    --sklearn-color-icon: #878787;\n",
       "  }\n",
       "}\n",
       "\n",
       "#sk-container-id-1 {\n",
       "  color: var(--sklearn-color-text);\n",
       "}\n",
       "\n",
       "#sk-container-id-1 pre {\n",
       "  padding: 0;\n",
       "}\n",
       "\n",
       "#sk-container-id-1 input.sk-hidden--visually {\n",
       "  border: 0;\n",
       "  clip: rect(1px 1px 1px 1px);\n",
       "  clip: rect(1px, 1px, 1px, 1px);\n",
       "  height: 1px;\n",
       "  margin: -1px;\n",
       "  overflow: hidden;\n",
       "  padding: 0;\n",
       "  position: absolute;\n",
       "  width: 1px;\n",
       "}\n",
       "\n",
       "#sk-container-id-1 div.sk-dashed-wrapped {\n",
       "  border: 1px dashed var(--sklearn-color-line);\n",
       "  margin: 0 0.4em 0.5em 0.4em;\n",
       "  box-sizing: border-box;\n",
       "  padding-bottom: 0.4em;\n",
       "  background-color: var(--sklearn-color-background);\n",
       "}\n",
       "\n",
       "#sk-container-id-1 div.sk-container {\n",
       "  /* jupyter's `normalize.less` sets `[hidden] { display: none; }`\n",
       "     but bootstrap.min.css set `[hidden] { display: none !important; }`\n",
       "     so we also need the `!important` here to be able to override the\n",
       "     default hidden behavior on the sphinx rendered scikit-learn.org.\n",
       "     See: https://github.com/scikit-learn/scikit-learn/issues/21755 */\n",
       "  display: inline-block !important;\n",
       "  position: relative;\n",
       "}\n",
       "\n",
       "#sk-container-id-1 div.sk-text-repr-fallback {\n",
       "  display: none;\n",
       "}\n",
       "\n",
       "div.sk-parallel-item,\n",
       "div.sk-serial,\n",
       "div.sk-item {\n",
       "  /* draw centered vertical line to link estimators */\n",
       "  background-image: linear-gradient(var(--sklearn-color-text-on-default-background), var(--sklearn-color-text-on-default-background));\n",
       "  background-size: 2px 100%;\n",
       "  background-repeat: no-repeat;\n",
       "  background-position: center center;\n",
       "}\n",
       "\n",
       "/* Parallel-specific style estimator block */\n",
       "\n",
       "#sk-container-id-1 div.sk-parallel-item::after {\n",
       "  content: \"\";\n",
       "  width: 100%;\n",
       "  border-bottom: 2px solid var(--sklearn-color-text-on-default-background);\n",
       "  flex-grow: 1;\n",
       "}\n",
       "\n",
       "#sk-container-id-1 div.sk-parallel {\n",
       "  display: flex;\n",
       "  align-items: stretch;\n",
       "  justify-content: center;\n",
       "  background-color: var(--sklearn-color-background);\n",
       "  position: relative;\n",
       "}\n",
       "\n",
       "#sk-container-id-1 div.sk-parallel-item {\n",
       "  display: flex;\n",
       "  flex-direction: column;\n",
       "}\n",
       "\n",
       "#sk-container-id-1 div.sk-parallel-item:first-child::after {\n",
       "  align-self: flex-end;\n",
       "  width: 50%;\n",
       "}\n",
       "\n",
       "#sk-container-id-1 div.sk-parallel-item:last-child::after {\n",
       "  align-self: flex-start;\n",
       "  width: 50%;\n",
       "}\n",
       "\n",
       "#sk-container-id-1 div.sk-parallel-item:only-child::after {\n",
       "  width: 0;\n",
       "}\n",
       "\n",
       "/* Serial-specific style estimator block */\n",
       "\n",
       "#sk-container-id-1 div.sk-serial {\n",
       "  display: flex;\n",
       "  flex-direction: column;\n",
       "  align-items: center;\n",
       "  background-color: var(--sklearn-color-background);\n",
       "  padding-right: 1em;\n",
       "  padding-left: 1em;\n",
       "}\n",
       "\n",
       "\n",
       "/* Toggleable style: style used for estimator/Pipeline/ColumnTransformer box that is\n",
       "clickable and can be expanded/collapsed.\n",
       "- Pipeline and ColumnTransformer use this feature and define the default style\n",
       "- Estimators will overwrite some part of the style using the `sk-estimator` class\n",
       "*/\n",
       "\n",
       "/* Pipeline and ColumnTransformer style (default) */\n",
       "\n",
       "#sk-container-id-1 div.sk-toggleable {\n",
       "  /* Default theme specific background. It is overwritten whether we have a\n",
       "  specific estimator or a Pipeline/ColumnTransformer */\n",
       "  background-color: var(--sklearn-color-background);\n",
       "}\n",
       "\n",
       "/* Toggleable label */\n",
       "#sk-container-id-1 label.sk-toggleable__label {\n",
       "  cursor: pointer;\n",
       "  display: block;\n",
       "  width: 100%;\n",
       "  margin-bottom: 0;\n",
       "  padding: 0.5em;\n",
       "  box-sizing: border-box;\n",
       "  text-align: center;\n",
       "}\n",
       "\n",
       "#sk-container-id-1 label.sk-toggleable__label-arrow:before {\n",
       "  /* Arrow on the left of the label */\n",
       "  content: \"▸\";\n",
       "  float: left;\n",
       "  margin-right: 0.25em;\n",
       "  color: var(--sklearn-color-icon);\n",
       "}\n",
       "\n",
       "#sk-container-id-1 label.sk-toggleable__label-arrow:hover:before {\n",
       "  color: var(--sklearn-color-text);\n",
       "}\n",
       "\n",
       "/* Toggleable content - dropdown */\n",
       "\n",
       "#sk-container-id-1 div.sk-toggleable__content {\n",
       "  max-height: 0;\n",
       "  max-width: 0;\n",
       "  overflow: hidden;\n",
       "  text-align: left;\n",
       "  /* unfitted */\n",
       "  background-color: var(--sklearn-color-unfitted-level-0);\n",
       "}\n",
       "\n",
       "#sk-container-id-1 div.sk-toggleable__content.fitted {\n",
       "  /* fitted */\n",
       "  background-color: var(--sklearn-color-fitted-level-0);\n",
       "}\n",
       "\n",
       "#sk-container-id-1 div.sk-toggleable__content pre {\n",
       "  margin: 0.2em;\n",
       "  border-radius: 0.25em;\n",
       "  color: var(--sklearn-color-text);\n",
       "  /* unfitted */\n",
       "  background-color: var(--sklearn-color-unfitted-level-0);\n",
       "}\n",
       "\n",
       "#sk-container-id-1 div.sk-toggleable__content.fitted pre {\n",
       "  /* unfitted */\n",
       "  background-color: var(--sklearn-color-fitted-level-0);\n",
       "}\n",
       "\n",
       "#sk-container-id-1 input.sk-toggleable__control:checked~div.sk-toggleable__content {\n",
       "  /* Expand drop-down */\n",
       "  max-height: 200px;\n",
       "  max-width: 100%;\n",
       "  overflow: auto;\n",
       "}\n",
       "\n",
       "#sk-container-id-1 input.sk-toggleable__control:checked~label.sk-toggleable__label-arrow:before {\n",
       "  content: \"▾\";\n",
       "}\n",
       "\n",
       "/* Pipeline/ColumnTransformer-specific style */\n",
       "\n",
       "#sk-container-id-1 div.sk-label input.sk-toggleable__control:checked~label.sk-toggleable__label {\n",
       "  color: var(--sklearn-color-text);\n",
       "  background-color: var(--sklearn-color-unfitted-level-2);\n",
       "}\n",
       "\n",
       "#sk-container-id-1 div.sk-label.fitted input.sk-toggleable__control:checked~label.sk-toggleable__label {\n",
       "  background-color: var(--sklearn-color-fitted-level-2);\n",
       "}\n",
       "\n",
       "/* Estimator-specific style */\n",
       "\n",
       "/* Colorize estimator box */\n",
       "#sk-container-id-1 div.sk-estimator input.sk-toggleable__control:checked~label.sk-toggleable__label {\n",
       "  /* unfitted */\n",
       "  background-color: var(--sklearn-color-unfitted-level-2);\n",
       "}\n",
       "\n",
       "#sk-container-id-1 div.sk-estimator.fitted input.sk-toggleable__control:checked~label.sk-toggleable__label {\n",
       "  /* fitted */\n",
       "  background-color: var(--sklearn-color-fitted-level-2);\n",
       "}\n",
       "\n",
       "#sk-container-id-1 div.sk-label label.sk-toggleable__label,\n",
       "#sk-container-id-1 div.sk-label label {\n",
       "  /* The background is the default theme color */\n",
       "  color: var(--sklearn-color-text-on-default-background);\n",
       "}\n",
       "\n",
       "/* On hover, darken the color of the background */\n",
       "#sk-container-id-1 div.sk-label:hover label.sk-toggleable__label {\n",
       "  color: var(--sklearn-color-text);\n",
       "  background-color: var(--sklearn-color-unfitted-level-2);\n",
       "}\n",
       "\n",
       "/* Label box, darken color on hover, fitted */\n",
       "#sk-container-id-1 div.sk-label.fitted:hover label.sk-toggleable__label.fitted {\n",
       "  color: var(--sklearn-color-text);\n",
       "  background-color: var(--sklearn-color-fitted-level-2);\n",
       "}\n",
       "\n",
       "/* Estimator label */\n",
       "\n",
       "#sk-container-id-1 div.sk-label label {\n",
       "  font-family: monospace;\n",
       "  font-weight: bold;\n",
       "  display: inline-block;\n",
       "  line-height: 1.2em;\n",
       "}\n",
       "\n",
       "#sk-container-id-1 div.sk-label-container {\n",
       "  text-align: center;\n",
       "}\n",
       "\n",
       "/* Estimator-specific */\n",
       "#sk-container-id-1 div.sk-estimator {\n",
       "  font-family: monospace;\n",
       "  border: 1px dotted var(--sklearn-color-border-box);\n",
       "  border-radius: 0.25em;\n",
       "  box-sizing: border-box;\n",
       "  margin-bottom: 0.5em;\n",
       "  /* unfitted */\n",
       "  background-color: var(--sklearn-color-unfitted-level-0);\n",
       "}\n",
       "\n",
       "#sk-container-id-1 div.sk-estimator.fitted {\n",
       "  /* fitted */\n",
       "  background-color: var(--sklearn-color-fitted-level-0);\n",
       "}\n",
       "\n",
       "/* on hover */\n",
       "#sk-container-id-1 div.sk-estimator:hover {\n",
       "  /* unfitted */\n",
       "  background-color: var(--sklearn-color-unfitted-level-2);\n",
       "}\n",
       "\n",
       "#sk-container-id-1 div.sk-estimator.fitted:hover {\n",
       "  /* fitted */\n",
       "  background-color: var(--sklearn-color-fitted-level-2);\n",
       "}\n",
       "\n",
       "/* Specification for estimator info (e.g. \"i\" and \"?\") */\n",
       "\n",
       "/* Common style for \"i\" and \"?\" */\n",
       "\n",
       ".sk-estimator-doc-link,\n",
       "a:link.sk-estimator-doc-link,\n",
       "a:visited.sk-estimator-doc-link {\n",
       "  float: right;\n",
       "  font-size: smaller;\n",
       "  line-height: 1em;\n",
       "  font-family: monospace;\n",
       "  background-color: var(--sklearn-color-background);\n",
       "  border-radius: 1em;\n",
       "  height: 1em;\n",
       "  width: 1em;\n",
       "  text-decoration: none !important;\n",
       "  margin-left: 1ex;\n",
       "  /* unfitted */\n",
       "  border: var(--sklearn-color-unfitted-level-1) 1pt solid;\n",
       "  color: var(--sklearn-color-unfitted-level-1);\n",
       "}\n",
       "\n",
       ".sk-estimator-doc-link.fitted,\n",
       "a:link.sk-estimator-doc-link.fitted,\n",
       "a:visited.sk-estimator-doc-link.fitted {\n",
       "  /* fitted */\n",
       "  border: var(--sklearn-color-fitted-level-1) 1pt solid;\n",
       "  color: var(--sklearn-color-fitted-level-1);\n",
       "}\n",
       "\n",
       "/* On hover */\n",
       "div.sk-estimator:hover .sk-estimator-doc-link:hover,\n",
       ".sk-estimator-doc-link:hover,\n",
       "div.sk-label-container:hover .sk-estimator-doc-link:hover,\n",
       ".sk-estimator-doc-link:hover {\n",
       "  /* unfitted */\n",
       "  background-color: var(--sklearn-color-unfitted-level-3);\n",
       "  color: var(--sklearn-color-background);\n",
       "  text-decoration: none;\n",
       "}\n",
       "\n",
       "div.sk-estimator.fitted:hover .sk-estimator-doc-link.fitted:hover,\n",
       ".sk-estimator-doc-link.fitted:hover,\n",
       "div.sk-label-container:hover .sk-estimator-doc-link.fitted:hover,\n",
       ".sk-estimator-doc-link.fitted:hover {\n",
       "  /* fitted */\n",
       "  background-color: var(--sklearn-color-fitted-level-3);\n",
       "  color: var(--sklearn-color-background);\n",
       "  text-decoration: none;\n",
       "}\n",
       "\n",
       "/* Span, style for the box shown on hovering the info icon */\n",
       ".sk-estimator-doc-link span {\n",
       "  display: none;\n",
       "  z-index: 9999;\n",
       "  position: relative;\n",
       "  font-weight: normal;\n",
       "  right: .2ex;\n",
       "  padding: .5ex;\n",
       "  margin: .5ex;\n",
       "  width: min-content;\n",
       "  min-width: 20ex;\n",
       "  max-width: 50ex;\n",
       "  color: var(--sklearn-color-text);\n",
       "  box-shadow: 2pt 2pt 4pt #999;\n",
       "  /* unfitted */\n",
       "  background: var(--sklearn-color-unfitted-level-0);\n",
       "  border: .5pt solid var(--sklearn-color-unfitted-level-3);\n",
       "}\n",
       "\n",
       ".sk-estimator-doc-link.fitted span {\n",
       "  /* fitted */\n",
       "  background: var(--sklearn-color-fitted-level-0);\n",
       "  border: var(--sklearn-color-fitted-level-3);\n",
       "}\n",
       "\n",
       ".sk-estimator-doc-link:hover span {\n",
       "  display: block;\n",
       "}\n",
       "\n",
       "/* \"?\"-specific style due to the `<a>` HTML tag */\n",
       "\n",
       "#sk-container-id-1 a.estimator_doc_link {\n",
       "  float: right;\n",
       "  font-size: 1rem;\n",
       "  line-height: 1em;\n",
       "  font-family: monospace;\n",
       "  background-color: var(--sklearn-color-background);\n",
       "  border-radius: 1rem;\n",
       "  height: 1rem;\n",
       "  width: 1rem;\n",
       "  text-decoration: none;\n",
       "  /* unfitted */\n",
       "  color: var(--sklearn-color-unfitted-level-1);\n",
       "  border: var(--sklearn-color-unfitted-level-1) 1pt solid;\n",
       "}\n",
       "\n",
       "#sk-container-id-1 a.estimator_doc_link.fitted {\n",
       "  /* fitted */\n",
       "  border: var(--sklearn-color-fitted-level-1) 1pt solid;\n",
       "  color: var(--sklearn-color-fitted-level-1);\n",
       "}\n",
       "\n",
       "/* On hover */\n",
       "#sk-container-id-1 a.estimator_doc_link:hover {\n",
       "  /* unfitted */\n",
       "  background-color: var(--sklearn-color-unfitted-level-3);\n",
       "  color: var(--sklearn-color-background);\n",
       "  text-decoration: none;\n",
       "}\n",
       "\n",
       "#sk-container-id-1 a.estimator_doc_link.fitted:hover {\n",
       "  /* fitted */\n",
       "  background-color: var(--sklearn-color-fitted-level-3);\n",
       "}\n",
       "</style><div id=\"sk-container-id-1\" class=\"sk-top-container\"><div class=\"sk-text-repr-fallback\"><pre>XGBClassifier(base_score=None, booster=None, callbacks=None,\n",
       "              colsample_bylevel=None, colsample_bynode=0.14672783827498995,\n",
       "              colsample_bytree=None, device=None, early_stopping_rounds=None,\n",
       "              enable_categorical=False,\n",
       "              eval_metric=&lt;function custom_f1_score at 0x7faf3cf8c220&gt;,\n",
       "              feature_types=None, gamma=None, grow_policy=None,\n",
       "              importance_type=None, interaction_constraints=None,\n",
       "              learning_rate=0.08954997670613858, max_bin=None,\n",
       "              max_cat_threshold=None, max_cat_to_onehot=None,\n",
       "              max_delta_step=None, max_depth=9, max_leaves=None,\n",
       "              min_child_weight=3, missing=nan, monotone_constraints=None,\n",
       "              multi_strategy=None, n_estimators=74, n_jobs=None,\n",
       "              num_parallel_tree=None, objective=&#x27;multi:softprob&#x27;, ...)</pre><b>In a Jupyter environment, please rerun this cell to show the HTML representation or trust the notebook. <br />On GitHub, the HTML representation is unable to render, please try loading this page with nbviewer.org.</b></div><div class=\"sk-container\" hidden><div class=\"sk-item\"><div class=\"sk-estimator fitted sk-toggleable\"><input class=\"sk-toggleable__control sk-hidden--visually\" id=\"sk-estimator-id-1\" type=\"checkbox\" checked><label for=\"sk-estimator-id-1\" class=\"sk-toggleable__label fitted sk-toggleable__label-arrow fitted\">&nbsp;XGBClassifier<span class=\"sk-estimator-doc-link fitted\">i<span>Fitted</span></span></label><div class=\"sk-toggleable__content fitted\"><pre>XGBClassifier(base_score=None, booster=None, callbacks=None,\n",
       "              colsample_bylevel=None, colsample_bynode=0.14672783827498995,\n",
       "              colsample_bytree=None, device=None, early_stopping_rounds=None,\n",
       "              enable_categorical=False,\n",
       "              eval_metric=&lt;function custom_f1_score at 0x7faf3cf8c220&gt;,\n",
       "              feature_types=None, gamma=None, grow_policy=None,\n",
       "              importance_type=None, interaction_constraints=None,\n",
       "              learning_rate=0.08954997670613858, max_bin=None,\n",
       "              max_cat_threshold=None, max_cat_to_onehot=None,\n",
       "              max_delta_step=None, max_depth=9, max_leaves=None,\n",
       "              min_child_weight=3, missing=nan, monotone_constraints=None,\n",
       "              multi_strategy=None, n_estimators=74, n_jobs=None,\n",
       "              num_parallel_tree=None, objective=&#x27;multi:softprob&#x27;, ...)</pre></div> </div></div></div></div>"
      ],
      "text/plain": [
       "XGBClassifier(base_score=None, booster=None, callbacks=None,\n",
       "              colsample_bylevel=None, colsample_bynode=0.14672783827498995,\n",
       "              colsample_bytree=None, device=None, early_stopping_rounds=None,\n",
       "              enable_categorical=False,\n",
       "              eval_metric=<function custom_f1_score at 0x7faf3cf8c220>,\n",
       "              feature_types=None, gamma=None, grow_policy=None,\n",
       "              importance_type=None, interaction_constraints=None,\n",
       "              learning_rate=0.08954997670613858, max_bin=None,\n",
       "              max_cat_threshold=None, max_cat_to_onehot=None,\n",
       "              max_delta_step=None, max_depth=9, max_leaves=None,\n",
       "              min_child_weight=3, missing=nan, monotone_constraints=None,\n",
       "              multi_strategy=None, n_estimators=74, n_jobs=None,\n",
       "              num_parallel_tree=None, objective='multi:softprob', ...)"
      ]
     },
     "execution_count": 21,
     "metadata": {},
     "output_type": "execute_result"
    }
   ],
   "source": [
    "n_estimators = int(study.best_trial.user_attrs['best_iteration']*1.2)\n",
    "xgb = xgboost.XGBClassifier(\n",
    "        eval_metric=eval_metric,\n",
    "        n_estimators=n_estimators,\n",
    "        **study.best_trial.params\n",
    "    )\n",
    "xgb.fit(\n",
    "    ssp.vstack((X_train, X_val)), \n",
    "    np.concatenate((y_train_enc, y_val_enc)),\n",
    "    verbose=1,\n",
    ")"
   ]
  },
  {
   "cell_type": "code",
   "execution_count": 22,
   "id": "6070fef3",
   "metadata": {
    "execution": {
     "iopub.execute_input": "2025-05-15T16:16:04.883659Z",
     "iopub.status.busy": "2025-05-15T16:16:04.883059Z",
     "iopub.status.idle": "2025-05-15T16:16:04.906217Z",
     "shell.execute_reply": "2025-05-15T16:16:04.905769Z"
    },
    "papermill": {
     "duration": 0.034196,
     "end_time": "2025-05-15T16:16:04.907128",
     "exception": false,
     "start_time": "2025-05-15T16:16:04.872932",
     "status": "completed"
    },
    "tags": []
   },
   "outputs": [
    {
     "data": {
      "text/plain": [
       "['/scratch_isilon/groups/singlecell/shared/projects/Inflammation-PBMCs-Atlas/03_downstream_analysis/08_gene_importance/xgboost_external_validation/xgboost_TopN_genes/results_20/best_model/Plasma_18_1_xgb.json']"
      ]
     },
     "execution_count": 22,
     "metadata": {},
     "output_type": "execute_result"
    }
   ],
   "source": [
    "out_dir = here(f'03_downstream_analysis/08_gene_importance/xgboost_external_validation/xgboost_TopN_genes/results_{N_GENES}/best_model')\n",
    "\n",
    "if not os.path.exists(out_dir):\n",
    "    os.makedirs(out_dir)\n",
    "    \n",
    "joblib.dump(xgb, os.path.join(out_dir, f'{CELL_TYPE}_{SEED}_{TEST_SPLIT_IDX}_xgb.json'))"
   ]
  },
  {
   "cell_type": "code",
   "execution_count": 23,
   "id": "6b13993d",
   "metadata": {
    "execution": {
     "iopub.execute_input": "2025-05-15T16:16:04.938867Z",
     "iopub.status.busy": "2025-05-15T16:16:04.938540Z",
     "iopub.status.idle": "2025-05-15T16:16:04.945071Z",
     "shell.execute_reply": "2025-05-15T16:16:04.944681Z"
    },
    "papermill": {
     "duration": 0.02215,
     "end_time": "2025-05-15T16:16:04.950230",
     "exception": false,
     "start_time": "2025-05-15T16:16:04.928080",
     "status": "completed"
    },
    "tags": []
   },
   "outputs": [],
   "source": [
    "df_pred_test = pd.DataFrame(dict(\n",
    "    cell_id=train_adata.obs.iloc[test_idxs].index.values,\n",
    "    y_true=y_test, \n",
    "    y_true_code=y_test_enc, \n",
    "    y_pred=xgb.predict(X_test))).set_index('cell_id')"
   ]
  },
  {
   "cell_type": "code",
   "execution_count": 24,
   "id": "f1fe54c6",
   "metadata": {
    "execution": {
     "iopub.execute_input": "2025-05-15T16:16:04.969983Z",
     "iopub.status.busy": "2025-05-15T16:16:04.969651Z",
     "iopub.status.idle": "2025-05-15T16:16:04.981789Z",
     "shell.execute_reply": "2025-05-15T16:16:04.981348Z"
    },
    "papermill": {
     "duration": 0.023028,
     "end_time": "2025-05-15T16:16:04.983095",
     "exception": false,
     "start_time": "2025-05-15T16:16:04.960067",
     "status": "completed"
    },
    "tags": []
   },
   "outputs": [],
   "source": [
    "out_dir = here(f'03_downstream_analysis/08_gene_importance/xgboost_external_validation/xgboost_TopN_genes/results_{N_GENES}/predictions')\n",
    "\n",
    "if not os.path.exists(out_dir):\n",
    "    os.makedirs(out_dir)\n",
    "    \n",
    "df_pred_test.to_csv(os.path.join(out_dir, f'{CELL_TYPE}_{SEED}_{TEST_SPLIT_IDX}_pred_test.zip'))"
   ]
  },
  {
   "cell_type": "code",
   "execution_count": 25,
   "id": "03ff3f47",
   "metadata": {
    "execution": {
     "iopub.execute_input": "2025-05-15T16:16:05.034944Z",
     "iopub.status.busy": "2025-05-15T16:16:05.034634Z",
     "iopub.status.idle": "2025-05-15T16:16:05.041061Z",
     "shell.execute_reply": "2025-05-15T16:16:05.040739Z"
    },
    "papermill": {
     "duration": 0.01849,
     "end_time": "2025-05-15T16:16:05.041944",
     "exception": false,
     "start_time": "2025-05-15T16:16:05.023454",
     "status": "completed"
    },
    "tags": []
   },
   "outputs": [],
   "source": [
    "metrics_dict = dict(\n",
    "    BAS=balanced_accuracy_score(y_true=df_pred_test.y_true_code, y_pred=df_pred_test.y_pred), WF1=f1_score(y_true=df_pred_test.y_true_code, y_pred=df_pred_test.y_pred,average='weighted'))"
   ]
  },
  {
   "cell_type": "code",
   "execution_count": 26,
   "id": "9c81e485",
   "metadata": {
    "execution": {
     "iopub.execute_input": "2025-05-15T16:16:05.060822Z",
     "iopub.status.busy": "2025-05-15T16:16:05.060475Z",
     "iopub.status.idle": "2025-05-15T16:16:05.063771Z",
     "shell.execute_reply": "2025-05-15T16:16:05.063473Z"
    },
    "papermill": {
     "duration": 0.013463,
     "end_time": "2025-05-15T16:16:05.064608",
     "exception": false,
     "start_time": "2025-05-15T16:16:05.051145",
     "status": "completed"
    },
    "tags": []
   },
   "outputs": [
    {
     "data": {
      "text/plain": [
       "{'BAS': 0.36013721776589425, 'WF1': 0.5222457632160766}"
      ]
     },
     "execution_count": 26,
     "metadata": {},
     "output_type": "execute_result"
    }
   ],
   "source": [
    "metrics_dict"
   ]
  },
  {
   "cell_type": "code",
   "execution_count": 27,
   "id": "1379f9df",
   "metadata": {
    "execution": {
     "iopub.execute_input": "2025-05-15T16:16:05.083659Z",
     "iopub.status.busy": "2025-05-15T16:16:05.083482Z",
     "iopub.status.idle": "2025-05-15T16:16:05.092080Z",
     "shell.execute_reply": "2025-05-15T16:16:05.091778Z"
    },
    "papermill": {
     "duration": 0.019206,
     "end_time": "2025-05-15T16:16:05.092935",
     "exception": false,
     "start_time": "2025-05-15T16:16:05.073729",
     "status": "completed"
    },
    "tags": []
   },
   "outputs": [
    {
     "data": {
      "text/html": [
       "<div>\n",
       "<style scoped>\n",
       "    .dataframe tbody tr th:only-of-type {\n",
       "        vertical-align: middle;\n",
       "    }\n",
       "\n",
       "    .dataframe tbody tr th {\n",
       "        vertical-align: top;\n",
       "    }\n",
       "\n",
       "    .dataframe thead th {\n",
       "        text-align: right;\n",
       "    }\n",
       "</style>\n",
       "<table border=\"1\" class=\"dataframe\">\n",
       "  <thead>\n",
       "    <tr style=\"text-align: right;\">\n",
       "      <th></th>\n",
       "      <th>BAS</th>\n",
       "      <th>WF1</th>\n",
       "      <th>split_idx</th>\n",
       "      <th>gene_set_seed</th>\n",
       "      <th>cell_type</th>\n",
       "    </tr>\n",
       "  </thead>\n",
       "  <tbody>\n",
       "    <tr>\n",
       "      <th>0</th>\n",
       "      <td>0.360137</td>\n",
       "      <td>0.522246</td>\n",
       "      <td>1</td>\n",
       "      <td>18</td>\n",
       "      <td>Plasma</td>\n",
       "    </tr>\n",
       "  </tbody>\n",
       "</table>\n",
       "</div>"
      ],
      "text/plain": [
       "        BAS       WF1  split_idx  gene_set_seed cell_type\n",
       "0  0.360137  0.522246          1             18    Plasma"
      ]
     },
     "execution_count": 27,
     "metadata": {},
     "output_type": "execute_result"
    }
   ],
   "source": [
    "metrics_df = pd.DataFrame.from_dict([metrics_dict]).assign(split_idx=TEST_SPLIT_IDX, gene_set_seed=SEED, cell_type=CELL_TYPE)\n",
    "metrics_df"
   ]
  },
  {
   "cell_type": "code",
   "execution_count": 28,
   "id": "ee844c62",
   "metadata": {
    "execution": {
     "iopub.execute_input": "2025-05-15T16:16:05.113378Z",
     "iopub.status.busy": "2025-05-15T16:16:05.113041Z",
     "iopub.status.idle": "2025-05-15T16:16:05.121478Z",
     "shell.execute_reply": "2025-05-15T16:16:05.121102Z"
    },
    "papermill": {
     "duration": 0.019494,
     "end_time": "2025-05-15T16:16:05.122319",
     "exception": false,
     "start_time": "2025-05-15T16:16:05.102825",
     "status": "completed"
    },
    "tags": []
   },
   "outputs": [],
   "source": [
    "out_dir = here(f'03_downstream_analysis/08_gene_importance/xgboost_external_validation/xgboost_TopN_genes/results_{N_GENES}/metrics')\n",
    "\n",
    "if not os.path.exists(out_dir):\n",
    "    os.makedirs(out_dir)\n",
    "    \n",
    "metrics_df.to_csv(os.path.join(out_dir, f'{CELL_TYPE}_{SEED}_{TEST_SPLIT_IDX}_metrics.zip'))"
   ]
  }
 ],
 "metadata": {
  "kernelspec": {
   "display_name": "Python 3 (ipykernel)",
   "language": "python",
   "name": "python3"
  },
  "language_info": {
   "codemirror_mode": {
    "name": "ipython",
    "version": 3
   },
   "file_extension": ".py",
   "mimetype": "text/x-python",
   "name": "python",
   "nbconvert_exporter": "python",
   "pygments_lexer": "ipython3",
   "version": "3.12.5"
  },
  "papermill": {
   "default_parameters": {},
   "duration": 17.873416,
   "end_time": "2025-05-15T16:16:05.755391",
   "environment_variables": {},
   "exception": null,
   "input_path": "02_xgboost_fitting_external_20genes.ipynb",
   "output_path": "results_20/executed_notebooks/xgboost_fitting_external_CT_Plasma_GS_18_seed1.ipynb",
   "parameters": {
    "CELL_TYPE": "Plasma",
    "SEED": 18,
    "TEST_SPLIT_IDX": 1
   },
   "start_time": "2025-05-15T16:15:47.881975",
   "version": "2.6.0"
  }
 },
 "nbformat": 4,
 "nbformat_minor": 5
}