{
 "cells": [
  {
   "cell_type": "code",
   "execution_count": 1,
   "id": "716af9b3",
   "metadata": {
    "editable": true,
    "execution": {
     "iopub.execute_input": "2025-05-15T15:59:02.682896Z",
     "iopub.status.busy": "2025-05-15T15:59:02.682653Z",
     "iopub.status.idle": "2025-05-15T15:59:02.685589Z",
     "shell.execute_reply": "2025-05-15T15:59:02.685231Z"
    },
    "papermill": {
     "duration": 0.010866,
     "end_time": "2025-05-15T15:59:02.686419",
     "exception": false,
     "start_time": "2025-05-15T15:59:02.675553",
     "status": "completed"
    },
    "slideshow": {
     "slide_type": ""
    },
    "tags": [
     "parameters"
    ]
   },
   "outputs": [],
   "source": [
    "CELL_TYPE = 'pDC'\n",
    "N_GENES: int = 20\n",
    "SEED = 'shap_studyID' #'disease_NOstudy' 'study_NOdisease' or 'int' or 'shap_studyID'\n",
    "TEST_SPLIT_IDX: int = 1 #[0,4]"
   ]
  },
  {
   "cell_type": "code",
   "execution_count": 2,
   "id": "0f9042ed",
   "metadata": {
    "execution": {
     "iopub.execute_input": "2025-05-15T15:59:02.709224Z",
     "iopub.status.busy": "2025-05-15T15:59:02.708791Z",
     "iopub.status.idle": "2025-05-15T15:59:02.711024Z",
     "shell.execute_reply": "2025-05-15T15:59:02.710681Z"
    },
    "papermill": {
     "duration": 0.019333,
     "end_time": "2025-05-15T15:59:02.711794",
     "exception": false,
     "start_time": "2025-05-15T15:59:02.692461",
     "status": "completed"
    },
    "tags": [
     "injected-parameters"
    ]
   },
   "outputs": [],
   "source": [
    "# Parameters\n",
    "CELL_TYPE = \"Mono\"\n",
    "SEED = 3\n",
    "TEST_SPLIT_IDX = 0\n"
   ]
  },
  {
   "cell_type": "code",
   "execution_count": 3,
   "id": "d2c480c2",
   "metadata": {
    "execution": {
     "iopub.execute_input": "2025-05-15T15:59:02.752316Z",
     "iopub.status.busy": "2025-05-15T15:59:02.752141Z",
     "iopub.status.idle": "2025-05-15T15:59:02.754457Z",
     "shell.execute_reply": "2025-05-15T15:59:02.754086Z"
    },
    "papermill": {
     "duration": 0.023925,
     "end_time": "2025-05-15T15:59:02.755304",
     "exception": false,
     "start_time": "2025-05-15T15:59:02.731379",
     "status": "completed"
    },
    "tags": []
   },
   "outputs": [],
   "source": [
    "N_SPLITS: int = 5\n",
    "N_TRIALS: int = 50"
   ]
  },
  {
   "cell_type": "code",
   "execution_count": 4,
   "id": "2d57c9bf",
   "metadata": {
    "execution": {
     "iopub.execute_input": "2025-05-15T15:59:02.811547Z",
     "iopub.status.busy": "2025-05-15T15:59:02.811277Z",
     "iopub.status.idle": "2025-05-15T15:59:05.132487Z",
     "shell.execute_reply": "2025-05-15T15:59:05.132091Z"
    },
    "papermill": {
     "duration": 2.354884,
     "end_time": "2025-05-15T15:59:05.133674",
     "exception": false,
     "start_time": "2025-05-15T15:59:02.778790",
     "status": "completed"
    },
    "tags": []
   },
   "outputs": [],
   "source": [
    "import os\n",
    "import sys\n",
    "from pyprojroot.here import here\n",
    "import pandas as pd\n",
    "import anndata as ad\n",
    "import numpy as np\n",
    "import math\n",
    "from sklearn.model_selection import StratifiedGroupKFold\n",
    "from sklearn.preprocessing import LabelEncoder\n",
    "from sklearn.metrics import f1_score\n",
    "import matplotlib.pyplot as plt\n",
    "import seaborn as sns\n",
    "from itertools import product\n",
    "from sklearn.metrics import balanced_accuracy_score, f1_score\n",
    "import optuna\n",
    "\n",
    "import joblib\n",
    "import pickle\n",
    "import datetime\n",
    "\n",
    "import collections\n",
    "\n",
    "import xgboost\n",
    "from sklearn.preprocessing import LabelEncoder\n",
    "\n",
    "import scipy.sparse as ssp\n",
    "import joblib\n",
    "\n",
    "from dotenv import load_dotenv"
   ]
  },
  {
   "cell_type": "code",
   "execution_count": 5,
   "id": "3b60385e",
   "metadata": {
    "execution": {
     "iopub.execute_input": "2025-05-15T15:59:05.146662Z",
     "iopub.status.busy": "2025-05-15T15:59:05.146305Z",
     "iopub.status.idle": "2025-05-15T15:59:05.152599Z",
     "shell.execute_reply": "2025-05-15T15:59:05.152289Z"
    },
    "papermill": {
     "duration": 0.01359,
     "end_time": "2025-05-15T15:59:05.153450",
     "exception": false,
     "start_time": "2025-05-15T15:59:05.139860",
     "status": "completed"
    },
    "tags": []
   },
   "outputs": [
    {
     "data": {
      "text/plain": [
       "True"
      ]
     },
     "execution_count": 5,
     "metadata": {},
     "output_type": "execute_result"
    }
   ],
   "source": [
    "load_dotenv()"
   ]
  },
  {
   "cell_type": "markdown",
   "id": "ab79039a",
   "metadata": {
    "papermill": {
     "duration": 0.02039,
     "end_time": "2025-05-15T15:59:05.193377",
     "exception": false,
     "start_time": "2025-05-15T15:59:05.172987",
     "status": "completed"
    },
    "tags": []
   },
   "source": [
    "# LOAD DATASET"
   ]
  },
  {
   "cell_type": "code",
   "execution_count": 6,
   "id": "f055539b",
   "metadata": {
    "execution": {
     "iopub.execute_input": "2025-05-15T15:59:05.266099Z",
     "iopub.status.busy": "2025-05-15T15:59:05.265745Z",
     "iopub.status.idle": "2025-05-15T15:59:06.422300Z",
     "shell.execute_reply": "2025-05-15T15:59:06.421831Z"
    },
    "papermill": {
     "duration": 1.212731,
     "end_time": "2025-05-15T15:59:06.423450",
     "exception": false,
     "start_time": "2025-05-15T15:59:05.210719",
     "status": "completed"
    },
    "tags": []
   },
   "outputs": [],
   "source": [
    "train_adata = ad.read_h5ad(\n",
    "    here(f'03_downstream_analysis/08_gene_importance/xgboost_external_validation/xgboost_TopN_genes/data_cellTypes/EXTERNAL_{CELL_TYPE}.filtered.log1p.h5ad')\n",
    ")"
   ]
  },
  {
   "cell_type": "code",
   "execution_count": 7,
   "id": "2b5c04b7",
   "metadata": {
    "execution": {
     "iopub.execute_input": "2025-05-15T15:59:06.462714Z",
     "iopub.status.busy": "2025-05-15T15:59:06.462516Z",
     "iopub.status.idle": "2025-05-15T15:59:06.496723Z",
     "shell.execute_reply": "2025-05-15T15:59:06.496374Z"
    },
    "papermill": {
     "duration": 0.057855,
     "end_time": "2025-05-15T15:59:06.497602",
     "exception": false,
     "start_time": "2025-05-15T15:59:06.439747",
     "status": "completed"
    },
    "tags": []
   },
   "outputs": [
    {
     "name": "stdout",
     "output_type": "stream",
     "text": [
      "['ENSG00000169429' 'ENSG00000136156' 'ENSG00000160710' 'ENSG00000175768'\n",
      " 'ENSG00000183019' 'ENSG00000100934' 'ENSG00000113441' 'ENSG00000161642'\n",
      " 'ENSG00000115523' 'ENSG00000170296' 'ENSG00000005339' 'ENSG00000179921'\n",
      " 'ENSG00000072958' 'ENSG00000142208' 'ENSG00000117602' 'ENSG00000155368'\n",
      " 'ENSG00000125743' 'ENSG00000197102' 'ENSG00000160932' 'ENSG00000085514'\n",
      " 'ENSG00000137100' 'ENSG00000144746' 'ENSG00000185650' 'ENSG00000156411'\n",
      " 'ENSG00000127314' 'ENSG00000136738' 'ENSG00000140105' 'ENSG00000066336'\n",
      " 'ENSG00000106605' 'ENSG00000121858' 'ENSG00000145912' 'ENSG00000196126'\n",
      " 'ENSG00000104998' 'ENSG00000132510' 'ENSG00000160213' 'ENSG00000115145'\n",
      " 'ENSG00000197965' 'ENSG00000028137' 'ENSG00000239998' 'ENSG00000163660'\n",
      " 'ENSG00000162434' 'ENSG00000165732' 'ENSG00000124762' 'ENSG00000135441'\n",
      " 'ENSG00000146592' 'ENSG00000159128' 'ENSG00000110203' 'ENSG00000204103'\n",
      " 'ENSG00000100368' 'ENSG00000131042' 'ENSG00000185591' 'ENSG00000175538'\n",
      " 'ENSG00000204287' 'ENSG00000110077' 'ENSG00000123358' 'ENSG00000068796'\n",
      " 'ENSG00000179094' 'ENSG00000103187' 'ENSG00000131981' 'ENSG00000115415'\n",
      " 'ENSG00000152219' 'ENSG00000243678' 'ENSG00000178719' 'ENSG00000144802'\n",
      " 'ENSG00000115828' 'ENSG00000106803' 'ENSG00000026103' 'ENSG00000136869'\n",
      " 'ENSG00000161203' 'ENSG00000130755' 'ENSG00000119917' 'ENSG00000141506'\n",
      " 'ENSG00000277443' 'ENSG00000150782' 'ENSG00000165168' 'ENSG00000104918'\n",
      " 'ENSG00000100485' 'ENSG00000002549' 'ENSG00000166710' 'ENSG00000188906'\n",
      " 'ENSG00000076944' 'ENSG00000138678' 'ENSG00000157020' 'ENSG00000152234'\n",
      " 'ENSG00000177606' 'ENSG00000184752' 'ENSG00000108622' 'ENSG00000163131'\n",
      " 'ENSG00000185291' 'ENSG00000198668' 'ENSG00000213928' 'ENSG00000175489'\n",
      " 'ENSG00000100100' 'ENSG00000165527' 'ENSG00000125534' 'ENSG00000182578'\n",
      " 'ENSG00000177575' 'ENSG00000092820' 'ENSG00000228474' 'ENSG00000125810'\n",
      " 'ENSG00000197405' 'ENSG00000111275' 'ENSG00000164308' 'ENSG00000019582'\n",
      " 'ENSG00000158517' 'ENSG00000100393' 'ENSG00000081041' 'ENSG00000213145'\n",
      " 'ENSG00000120594' 'ENSG00000126759' 'ENSG00000198502' 'ENSG00000107223'\n",
      " 'ENSG00000147443' 'ENSG00000113916']\n"
     ]
    }
   ],
   "source": [
    "if SEED != 'all':\n",
    "    gene_subset = np.load(here(f'03_downstream_analysis/08_gene_importance/xgboost_external_validation/shap_gene_selection/gene_subsets_{N_GENES}/{CELL_TYPE}_{SEED}.npy'), allow_pickle=True)\n",
    "    train_adata = train_adata[:,gene_subset]\n",
    "    print(gene_subset)\n",
    "elif SEED == 'all':\n",
    "    print('Using all genes')\n",
    "else:\n",
    "    raise ValueError()"
   ]
  },
  {
   "cell_type": "code",
   "execution_count": 8,
   "id": "83d6b9fb",
   "metadata": {
    "execution": {
     "iopub.execute_input": "2025-05-15T15:59:06.548984Z",
     "iopub.status.busy": "2025-05-15T15:59:06.548706Z",
     "iopub.status.idle": "2025-05-15T15:59:06.551594Z",
     "shell.execute_reply": "2025-05-15T15:59:06.551306Z"
    },
    "papermill": {
     "duration": 0.035845,
     "end_time": "2025-05-15T15:59:06.552429",
     "exception": false,
     "start_time": "2025-05-15T15:59:06.516584",
     "status": "completed"
    },
    "tags": []
   },
   "outputs": [
    {
     "data": {
      "text/plain": [
       "(137435, 114)"
      ]
     },
     "execution_count": 8,
     "metadata": {},
     "output_type": "execute_result"
    }
   ],
   "source": [
    "train_adata.shape"
   ]
  },
  {
   "cell_type": "code",
   "execution_count": 9,
   "id": "f9506e75",
   "metadata": {
    "execution": {
     "iopub.execute_input": "2025-05-15T15:59:06.705014Z",
     "iopub.status.busy": "2025-05-15T15:59:06.704856Z",
     "iopub.status.idle": "2025-05-15T15:59:06.708463Z",
     "shell.execute_reply": "2025-05-15T15:59:06.708180Z"
    },
    "papermill": {
     "duration": 0.115026,
     "end_time": "2025-05-15T15:59:06.709285",
     "exception": false,
     "start_time": "2025-05-15T15:59:06.594259",
     "status": "completed"
    },
    "tags": []
   },
   "outputs": [
    {
     "data": {
      "text/plain": [
       "['RA', 'healthy', 'COVID', 'HIV', 'cirrhosis', 'CD', 'SLE', 'sepsis']\n",
       "Categories (8, object): ['CD', 'COVID', 'HIV', 'RA', 'SLE', 'cirrhosis', 'healthy', 'sepsis']"
      ]
     },
     "execution_count": 9,
     "metadata": {},
     "output_type": "execute_result"
    }
   ],
   "source": [
    "train_adata.obs.disease.unique()"
   ]
  },
  {
   "cell_type": "code",
   "execution_count": 10,
   "id": "1492f99b",
   "metadata": {
    "execution": {
     "iopub.execute_input": "2025-05-15T15:59:06.729709Z",
     "iopub.status.busy": "2025-05-15T15:59:06.729484Z",
     "iopub.status.idle": "2025-05-15T15:59:06.733138Z",
     "shell.execute_reply": "2025-05-15T15:59:06.732852Z"
    },
    "papermill": {
     "duration": 0.010641,
     "end_time": "2025-05-15T15:59:06.734009",
     "exception": false,
     "start_time": "2025-05-15T15:59:06.723368",
     "status": "completed"
    },
    "tags": []
   },
   "outputs": [
    {
     "data": {
      "text/plain": [
       "['SCGT00val_I0364_T0', 'SCGT00val_I036028_T0', 'SCGT00val_I036024_T0', 'SCGT00val_I036023_T0', 'SCGT00val_I036019_T0', ..., '10XGenomics_10XHC2_T0', '10XGenomics_10XHC3_T0', '10XGenomics_10XHC5_T0', '10XGenomics_10XHC7_T0', '10XGenomics_10XHC8_T0']\n",
       "Length: 86\n",
       "Categories (86, object): ['10XGenomics_10XHC1_T0', '10XGenomics_10XHC2_T0', '10XGenomics_10XHC3_T0', '10XGenomics_10XHC4_T0', ..., 'Savage2021_BRISL6_T0', 'Savage2021_BRISL7_T0', 'Savage2021_PIDA_T0', 'Savage2021_PIDB_T0']"
      ]
     },
     "execution_count": 10,
     "metadata": {},
     "output_type": "execute_result"
    }
   ],
   "source": [
    "train_adata.obs.sampleID.unique()"
   ]
  },
  {
   "cell_type": "code",
   "execution_count": 11,
   "id": "84c70bf3",
   "metadata": {
    "execution": {
     "iopub.execute_input": "2025-05-15T15:59:06.767462Z",
     "iopub.status.busy": "2025-05-15T15:59:06.767168Z",
     "iopub.status.idle": "2025-05-15T15:59:07.089970Z",
     "shell.execute_reply": "2025-05-15T15:59:07.089540Z"
    },
    "papermill": {
     "duration": 0.35072,
     "end_time": "2025-05-15T15:59:07.091177",
     "exception": false,
     "start_time": "2025-05-15T15:59:06.740457",
     "status": "completed"
    },
    "tags": []
   },
   "outputs": [],
   "source": [
    "all_idxs = np.arange(train_adata.obs.shape[0])\n",
    "left_out_splits = [s[1] for s in StratifiedGroupKFold(n_splits=N_SPLITS).split(all_idxs, train_adata.obs.disease, train_adata.obs.sampleID)]"
   ]
  },
  {
   "cell_type": "code",
   "execution_count": 12,
   "id": "3f2ddbe2",
   "metadata": {
    "execution": {
     "iopub.execute_input": "2025-05-15T15:59:07.111958Z",
     "iopub.status.busy": "2025-05-15T15:59:07.111776Z",
     "iopub.status.idle": "2025-05-15T15:59:07.115018Z",
     "shell.execute_reply": "2025-05-15T15:59:07.114730Z"
    },
    "papermill": {
     "duration": 0.015058,
     "end_time": "2025-05-15T15:59:07.115773",
     "exception": false,
     "start_time": "2025-05-15T15:59:07.100715",
     "status": "completed"
    },
    "tags": []
   },
   "outputs": [
    {
     "data": {
      "text/plain": [
       "([2, 3, 4], 1, 0)"
      ]
     },
     "execution_count": 12,
     "metadata": {},
     "output_type": "execute_result"
    }
   ],
   "source": [
    "TRAIN_SPLIT_IDXS = [0,1,2,3,4]\n",
    "VAL_SPLIT_IDX = (TEST_SPLIT_IDX + 1) % 5\n",
    "TRAIN_SPLIT_IDXS.remove(TEST_SPLIT_IDX)\n",
    "TRAIN_SPLIT_IDXS.remove(VAL_SPLIT_IDX)\n",
    "TRAIN_SPLIT_IDXS, VAL_SPLIT_IDX, TEST_SPLIT_IDX"
   ]
  },
  {
   "cell_type": "code",
   "execution_count": 13,
   "id": "28685feb",
   "metadata": {
    "execution": {
     "iopub.execute_input": "2025-05-15T15:59:07.145135Z",
     "iopub.status.busy": "2025-05-15T15:59:07.144679Z",
     "iopub.status.idle": "2025-05-15T15:59:07.147195Z",
     "shell.execute_reply": "2025-05-15T15:59:07.146890Z"
    },
    "papermill": {
     "duration": 0.020436,
     "end_time": "2025-05-15T15:59:07.147920",
     "exception": false,
     "start_time": "2025-05-15T15:59:07.127484",
     "status": "completed"
    },
    "tags": []
   },
   "outputs": [],
   "source": [
    "train_idxs = np.concatenate([left_out_splits[idx] for idx in TRAIN_SPLIT_IDXS])\n",
    "val_idxs = left_out_splits[VAL_SPLIT_IDX]\n",
    "test_idxs = left_out_splits[TEST_SPLIT_IDX]"
   ]
  },
  {
   "cell_type": "markdown",
   "id": "0158f331",
   "metadata": {
    "papermill": {
     "duration": 0.007383,
     "end_time": "2025-05-15T15:59:07.161145",
     "exception": false,
     "start_time": "2025-05-15T15:59:07.153762",
     "status": "completed"
    },
    "tags": []
   },
   "source": [
    "### SUBSET DATASET INTO TRAIN/TEST/VAL SPLITS"
   ]
  },
  {
   "cell_type": "code",
   "execution_count": 14,
   "id": "3f3991cb",
   "metadata": {
    "execution": {
     "iopub.execute_input": "2025-05-15T15:59:07.196959Z",
     "iopub.status.busy": "2025-05-15T15:59:07.196626Z",
     "iopub.status.idle": "2025-05-15T15:59:07.645006Z",
     "shell.execute_reply": "2025-05-15T15:59:07.644675Z"
    },
    "papermill": {
     "duration": 0.464373,
     "end_time": "2025-05-15T15:59:07.645887",
     "exception": false,
     "start_time": "2025-05-15T15:59:07.181514",
     "status": "completed"
    },
    "tags": []
   },
   "outputs": [
    {
     "data": {
      "text/plain": [
       "((82534, 114), (27414, 114), (27487, 114))"
      ]
     },
     "execution_count": 14,
     "metadata": {},
     "output_type": "execute_result"
    }
   ],
   "source": [
    "X_train = train_adata.X[train_idxs]\n",
    "X_test = train_adata.X[test_idxs]\n",
    "X_val = train_adata.X[val_idxs]\n",
    "X_train.shape, X_test.shape, X_val.shape"
   ]
  },
  {
   "cell_type": "code",
   "execution_count": 15,
   "id": "e63b75ab",
   "metadata": {
    "execution": {
     "iopub.execute_input": "2025-05-15T15:59:07.666870Z",
     "iopub.status.busy": "2025-05-15T15:59:07.666634Z",
     "iopub.status.idle": "2025-05-15T15:59:07.678411Z",
     "shell.execute_reply": "2025-05-15T15:59:07.678081Z"
    },
    "papermill": {
     "duration": 0.026613,
     "end_time": "2025-05-15T15:59:07.679214",
     "exception": false,
     "start_time": "2025-05-15T15:59:07.652601",
     "status": "completed"
    },
    "tags": []
   },
   "outputs": [
    {
     "data": {
      "text/plain": [
       "((82534,), (27414,), (27487,))"
      ]
     },
     "execution_count": 15,
     "metadata": {},
     "output_type": "execute_result"
    }
   ],
   "source": [
    "y_train = train_adata.obs.iloc[train_idxs].disease.values.astype(str)\n",
    "y_test = train_adata.obs.iloc[test_idxs].disease.values.astype(str)\n",
    "y_val = train_adata.obs.iloc[val_idxs].disease.values.astype(str)\n",
    "y_train.shape, y_test.shape, y_val.shape"
   ]
  },
  {
   "cell_type": "code",
   "execution_count": 16,
   "id": "70af46bb",
   "metadata": {
    "execution": {
     "iopub.execute_input": "2025-05-15T15:59:07.692608Z",
     "iopub.status.busy": "2025-05-15T15:59:07.692296Z",
     "iopub.status.idle": "2025-05-15T15:59:07.721600Z",
     "shell.execute_reply": "2025-05-15T15:59:07.721220Z"
    },
    "papermill": {
     "duration": 0.037216,
     "end_time": "2025-05-15T15:59:07.722443",
     "exception": false,
     "start_time": "2025-05-15T15:59:07.685227",
     "status": "completed"
    },
    "tags": []
   },
   "outputs": [],
   "source": [
    "lenc = LabelEncoder()\n",
    "y_train_enc = lenc.fit_transform(y_train)\n",
    "y_val_enc = lenc.transform(y_val)\n",
    "y_test_enc = lenc.transform(y_test)"
   ]
  },
  {
   "cell_type": "markdown",
   "id": "6c85b47f",
   "metadata": {
    "papermill": {
     "duration": 0.037831,
     "end_time": "2025-05-15T15:59:07.766318",
     "exception": false,
     "start_time": "2025-05-15T15:59:07.728487",
     "status": "completed"
    },
    "tags": []
   },
   "source": [
    "### GENERATE F1 "
   ]
  },
  {
   "cell_type": "code",
   "execution_count": 17,
   "id": "22fc527d",
   "metadata": {
    "execution": {
     "iopub.execute_input": "2025-05-15T15:59:07.817980Z",
     "iopub.status.busy": "2025-05-15T15:59:07.817809Z",
     "iopub.status.idle": "2025-05-15T15:59:07.820090Z",
     "shell.execute_reply": "2025-05-15T15:59:07.819799Z"
    },
    "papermill": {
     "duration": 0.025817,
     "end_time": "2025-05-15T15:59:07.820887",
     "exception": false,
     "start_time": "2025-05-15T15:59:07.795070",
     "status": "completed"
    },
    "tags": []
   },
   "outputs": [],
   "source": [
    "def custom_f1_score(y_true, y_pred):\n",
    "    return -f1_score(y_true, y_pred.argmax(1), average='weighted')"
   ]
  },
  {
   "cell_type": "code",
   "execution_count": 18,
   "id": "ce966a51",
   "metadata": {
    "execution": {
     "iopub.execute_input": "2025-05-15T15:59:07.864052Z",
     "iopub.status.busy": "2025-05-15T15:59:07.863849Z",
     "iopub.status.idle": "2025-05-15T15:59:07.867283Z",
     "shell.execute_reply": "2025-05-15T15:59:07.866950Z"
    },
    "papermill": {
     "duration": 0.011076,
     "end_time": "2025-05-15T15:59:07.868056",
     "exception": false,
     "start_time": "2025-05-15T15:59:07.856980",
     "status": "completed"
    },
    "tags": []
   },
   "outputs": [],
   "source": [
    "eval_metric=custom_f1_score\n",
    "eval_metric_name='custom_f1_score'\n",
    "\n",
    "def objective(trial):\n",
    "    params = {\n",
    "        'n_estimators': 1500,\n",
    "        'max_depth': trial.suggest_int('max_depth', 3, 20),\n",
    "        'min_child_weight': trial.suggest_int('min_child_weight', 1, 250),\n",
    "        'subsample': trial.suggest_float('subsample', 0.1, 1.0),\n",
    "        'colsample_bynode': trial.suggest_float('colsample_bynode', 0.1, 1.0),\n",
    "        'learning_rate': trial.suggest_float('learning_rate', 1e-3, 5e-1, log=True),\n",
    "    }\n",
    "    pruning_callback = optuna.integration.XGBoostPruningCallback(trial, f'validation_0-{eval_metric_name}')\n",
    "    es_callback = xgboost.callback.EarlyStopping(20, min_delta=0.001)\n",
    "    xgb = xgboost.XGBClassifier(\n",
    "        eval_metric=eval_metric,\n",
    "        callbacks=[pruning_callback, es_callback],\n",
    "        n_jobs=5,\n",
    "        **params\n",
    "    )\n",
    "    xgb.fit(\n",
    "        X_train, \n",
    "        y_train_enc, \n",
    "        verbose=0,\n",
    "        eval_set=[(X_val, y_val_enc)],\n",
    "    )\n",
    "    trial.set_user_attr('best_iteration', xgb.best_iteration)\n",
    "\n",
    "    return xgb.best_score"
   ]
  },
  {
   "cell_type": "code",
   "execution_count": 19,
   "id": "9611d386",
   "metadata": {
    "execution": {
     "iopub.execute_input": "2025-05-15T15:59:07.895752Z",
     "iopub.status.busy": "2025-05-15T15:59:07.895505Z",
     "iopub.status.idle": "2025-05-15T16:12:18.723999Z",
     "shell.execute_reply": "2025-05-15T16:12:18.723536Z"
    },
    "papermill": {
     "duration": 790.851018,
     "end_time": "2025-05-15T16:12:18.725704",
     "exception": false,
     "start_time": "2025-05-15T15:59:07.874686",
     "status": "completed"
    },
    "scrolled": true,
    "tags": []
   },
   "outputs": [
    {
     "name": "stderr",
     "output_type": "stream",
     "text": [
      "[I 2025-05-15 17:59:07,897] A new study created in memory with name: no-name-3597732c-0499-42e3-a4da-5ba0963d02d8\n"
     ]
    },
    {
     "name": "stderr",
     "output_type": "stream",
     "text": [
      "[I 2025-05-15 17:59:19,198] Trial 0 finished with value: -0.634681 and parameters: {'max_depth': 9, 'min_child_weight': 238, 'subsample': 0.7587945476302645, 'colsample_bynode': 0.6387926357773329, 'learning_rate': 0.0026368755339723046}. Best is trial 0 with value: -0.634681.\n"
     ]
    },
    {
     "name": "stderr",
     "output_type": "stream",
     "text": [
      "[I 2025-05-15 18:00:21,626] Trial 1 finished with value: -0.710685 and parameters: {'max_depth': 5, 'min_child_weight': 15, 'subsample': 0.8795585311974417, 'colsample_bynode': 0.6410035105688879, 'learning_rate': 0.08148293210105287}. Best is trial 1 with value: -0.710685.\n"
     ]
    },
    {
     "name": "stderr",
     "output_type": "stream",
     "text": [
      "[I 2025-05-15 18:00:34,269] Trial 2 finished with value: -0.585887 and parameters: {'max_depth': 3, 'min_child_weight': 243, 'subsample': 0.8491983767203796, 'colsample_bynode': 0.29110519961044856, 'learning_rate': 0.003095566460242371}. Best is trial 1 with value: -0.710685.\n"
     ]
    },
    {
     "name": "stderr",
     "output_type": "stream",
     "text": [
      "[I 2025-05-15 18:00:39,633] Trial 3 finished with value: -0.642033 and parameters: {'max_depth': 6, 'min_child_weight': 77, 'subsample': 0.5722807884690141, 'colsample_bynode': 0.48875051677790415, 'learning_rate': 0.006109683510122491}. Best is trial 1 with value: -0.710685.\n"
     ]
    },
    {
     "name": "stderr",
     "output_type": "stream",
     "text": [
      "[I 2025-05-15 18:02:02,228] Trial 4 finished with value: -0.687425 and parameters: {'max_depth': 14, 'min_child_weight': 35, 'subsample': 0.3629301836816964, 'colsample_bynode': 0.4297256589643226, 'learning_rate': 0.01701841881702917}. Best is trial 1 with value: -0.710685.\n"
     ]
    },
    {
     "name": "stderr",
     "output_type": "stream",
     "text": [
      "[I 2025-05-15 18:02:12,359] Trial 5 finished with value: -0.65679 and parameters: {'max_depth': 17, 'min_child_weight': 50, 'subsample': 0.5628109945722505, 'colsample_bynode': 0.6331731119758383, 'learning_rate': 0.0013346527038305934}. Best is trial 1 with value: -0.710685.\n"
     ]
    },
    {
     "name": "stderr",
     "output_type": "stream",
     "text": [
      "[I 2025-05-15 18:02:13,093] Trial 6 pruned. Trial was pruned at iteration 0.\n"
     ]
    },
    {
     "name": "stderr",
     "output_type": "stream",
     "text": [
      "[I 2025-05-15 18:02:13,760] Trial 7 pruned. Trial was pruned at iteration 0.\n"
     ]
    },
    {
     "name": "stderr",
     "output_type": "stream",
     "text": [
      "[I 2025-05-15 18:02:14,385] Trial 8 pruned. Trial was pruned at iteration 0.\n"
     ]
    },
    {
     "name": "stderr",
     "output_type": "stream",
     "text": [
      "[I 2025-05-15 18:02:21,565] Trial 9 finished with value: -0.655508 and parameters: {'max_depth': 14, 'min_child_weight': 78, 'subsample': 0.5680612190600297, 'colsample_bynode': 0.5920392514089517, 'learning_rate': 0.0031543990308330965}. Best is trial 1 with value: -0.710685.\n"
     ]
    },
    {
     "name": "stderr",
     "output_type": "stream",
     "text": [
      "[I 2025-05-15 18:02:22,413] Trial 10 pruned. Trial was pruned at iteration 0.\n"
     ]
    },
    {
     "name": "stderr",
     "output_type": "stream",
     "text": [
      "[I 2025-05-15 18:03:26,358] Trial 11 finished with value: -0.703136 and parameters: {'max_depth': 10, 'min_child_weight': 3, 'subsample': 0.34014304150377095, 'colsample_bynode': 0.40131565860091256, 'learning_rate': 0.057899203666416425}. Best is trial 1 with value: -0.710685.\n"
     ]
    },
    {
     "name": "stderr",
     "output_type": "stream",
     "text": [
      "[I 2025-05-15 18:04:17,595] Trial 12 finished with value: -0.7059 and parameters: {'max_depth': 8, 'min_child_weight': 3, 'subsample': 0.3693916175642251, 'colsample_bynode': 0.351751713087183, 'learning_rate': 0.07220195396446884}. Best is trial 1 with value: -0.710685.\n"
     ]
    },
    {
     "name": "stderr",
     "output_type": "stream",
     "text": [
      "[I 2025-05-15 18:04:18,269] Trial 13 pruned. Trial was pruned at iteration 0.\n"
     ]
    },
    {
     "name": "stderr",
     "output_type": "stream",
     "text": [
      "[I 2025-05-15 18:04:18,983] Trial 14 pruned. Trial was pruned at iteration 0.\n"
     ]
    },
    {
     "name": "stderr",
     "output_type": "stream",
     "text": [
      "[I 2025-05-15 18:04:19,619] Trial 15 pruned. Trial was pruned at iteration 0.\n"
     ]
    },
    {
     "name": "stderr",
     "output_type": "stream",
     "text": [
      "[I 2025-05-15 18:04:20,384] Trial 16 pruned. Trial was pruned at iteration 0.\n"
     ]
    },
    {
     "name": "stderr",
     "output_type": "stream",
     "text": [
      "[I 2025-05-15 18:04:21,075] Trial 17 pruned. Trial was pruned at iteration 0.\n"
     ]
    },
    {
     "name": "stderr",
     "output_type": "stream",
     "text": [
      "[I 2025-05-15 18:04:21,832] Trial 18 pruned. Trial was pruned at iteration 0.\n"
     ]
    },
    {
     "name": "stderr",
     "output_type": "stream",
     "text": [
      "[I 2025-05-15 18:04:22,492] Trial 19 pruned. Trial was pruned at iteration 0.\n"
     ]
    },
    {
     "name": "stderr",
     "output_type": "stream",
     "text": [
      "[I 2025-05-15 18:05:15,579] Trial 20 finished with value: -0.707629 and parameters: {'max_depth': 12, 'min_child_weight': 24, 'subsample': 0.8601573496833833, 'colsample_bynode': 0.36355618536187856, 'learning_rate': 0.10169686165917782}. Best is trial 1 with value: -0.710685.\n"
     ]
    },
    {
     "name": "stderr",
     "output_type": "stream",
     "text": [
      "[I 2025-05-15 18:06:03,111] Trial 21 finished with value: -0.709314 and parameters: {'max_depth': 11, 'min_child_weight': 24, 'subsample': 0.8524655332992119, 'colsample_bynode': 0.38143278999350455, 'learning_rate': 0.1063944596737225}. Best is trial 1 with value: -0.710685.\n"
     ]
    },
    {
     "name": "stderr",
     "output_type": "stream",
     "text": [
      "[I 2025-05-15 18:06:52,645] Trial 22 finished with value: -0.710933 and parameters: {'max_depth': 12, 'min_child_weight': 25, 'subsample': 0.8762431399620951, 'colsample_bynode': 0.4724952456097408, 'learning_rate': 0.12359011280910942}. Best is trial 22 with value: -0.710933.\n"
     ]
    },
    {
     "name": "stderr",
     "output_type": "stream",
     "text": [
      "[I 2025-05-15 18:07:15,133] Trial 23 finished with value: -0.712939 and parameters: {'max_depth': 15, 'min_child_weight': 57, 'subsample': 0.8895702594236918, 'colsample_bynode': 0.4894074008797593, 'learning_rate': 0.2870964669525365}. Best is trial 23 with value: -0.712939.\n"
     ]
    },
    {
     "name": "stderr",
     "output_type": "stream",
     "text": [
      "[I 2025-05-15 18:07:49,321] Trial 24 finished with value: -0.713836 and parameters: {'max_depth': 16, 'min_child_weight': 57, 'subsample': 0.9287294172698044, 'colsample_bynode': 0.49377735435635495, 'learning_rate': 0.26365160833813445}. Best is trial 24 with value: -0.713836.\n"
     ]
    },
    {
     "name": "stderr",
     "output_type": "stream",
     "text": [
      "[I 2025-05-15 18:07:50,522] Trial 25 pruned. Trial was pruned at iteration 1.\n"
     ]
    },
    {
     "name": "stderr",
     "output_type": "stream",
     "text": [
      "[I 2025-05-15 18:07:51,326] Trial 26 pruned. Trial was pruned at iteration 0.\n"
     ]
    },
    {
     "name": "stderr",
     "output_type": "stream",
     "text": [
      "[I 2025-05-15 18:07:52,175] Trial 27 pruned. Trial was pruned at iteration 0.\n"
     ]
    },
    {
     "name": "stderr",
     "output_type": "stream",
     "text": [
      "[I 2025-05-15 18:07:52,997] Trial 28 pruned. Trial was pruned at iteration 0.\n"
     ]
    },
    {
     "name": "stderr",
     "output_type": "stream",
     "text": [
      "[I 2025-05-15 18:07:53,796] Trial 29 pruned. Trial was pruned at iteration 0.\n"
     ]
    },
    {
     "name": "stderr",
     "output_type": "stream",
     "text": [
      "[I 2025-05-15 18:08:27,546] Trial 30 finished with value: -0.715459 and parameters: {'max_depth': 13, 'min_child_weight': 91, 'subsample': 0.803719031622332, 'colsample_bynode': 0.7216248940665004, 'learning_rate': 0.21211143101823535}. Best is trial 30 with value: -0.715459.\n"
     ]
    },
    {
     "name": "stderr",
     "output_type": "stream",
     "text": [
      "[I 2025-05-15 18:08:28,697] Trial 31 pruned. Trial was pruned at iteration 1.\n"
     ]
    },
    {
     "name": "stderr",
     "output_type": "stream",
     "text": [
      "[I 2025-05-15 18:08:53,303] Trial 32 finished with value: -0.714758 and parameters: {'max_depth': 13, 'min_child_weight': 65, 'subsample': 0.9172539347406571, 'colsample_bynode': 0.8659118953350515, 'learning_rate': 0.4111795229757017}. Best is trial 30 with value: -0.715459.\n"
     ]
    },
    {
     "name": "stderr",
     "output_type": "stream",
     "text": [
      "[I 2025-05-15 18:09:11,711] Trial 33 finished with value: -0.714223 and parameters: {'max_depth': 15, 'min_child_weight': 71, 'subsample': 0.9253692367035297, 'colsample_bynode': 0.8596866683821516, 'learning_rate': 0.4912827676653274}. Best is trial 30 with value: -0.715459.\n"
     ]
    },
    {
     "name": "stderr",
     "output_type": "stream",
     "text": [
      "[I 2025-05-15 18:09:32,710] Trial 34 finished with value: -0.713034 and parameters: {'max_depth': 18, 'min_child_weight': 74, 'subsample': 0.9453715495681777, 'colsample_bynode': 0.8842526968611335, 'learning_rate': 0.4745913943357246}. Best is trial 30 with value: -0.715459.\n"
     ]
    },
    {
     "name": "stderr",
     "output_type": "stream",
     "text": [
      "[I 2025-05-15 18:09:33,550] Trial 35 pruned. Trial was pruned at iteration 0.\n"
     ]
    },
    {
     "name": "stderr",
     "output_type": "stream",
     "text": [
      "[I 2025-05-15 18:09:34,749] Trial 36 pruned. Trial was pruned at iteration 1.\n"
     ]
    },
    {
     "name": "stderr",
     "output_type": "stream",
     "text": [
      "[I 2025-05-15 18:09:35,925] Trial 37 pruned. Trial was pruned at iteration 1.\n"
     ]
    },
    {
     "name": "stderr",
     "output_type": "stream",
     "text": [
      "[I 2025-05-15 18:09:37,156] Trial 38 pruned. Trial was pruned at iteration 1.\n"
     ]
    },
    {
     "name": "stderr",
     "output_type": "stream",
     "text": [
      "[I 2025-05-15 18:09:59,713] Trial 39 finished with value: -0.713051 and parameters: {'max_depth': 16, 'min_child_weight': 45, 'subsample': 0.9875489990387908, 'colsample_bynode': 0.8828004232199906, 'learning_rate': 0.3776046949394395}. Best is trial 30 with value: -0.715459.\n"
     ]
    },
    {
     "name": "stderr",
     "output_type": "stream",
     "text": [
      "[I 2025-05-15 18:10:00,583] Trial 40 pruned. Trial was pruned at iteration 0.\n"
     ]
    },
    {
     "name": "stderr",
     "output_type": "stream",
     "text": [
      "[I 2025-05-15 18:10:24,342] Trial 41 finished with value: -0.712398 and parameters: {'max_depth': 16, 'min_child_weight': 46, 'subsample': 0.9789514601248002, 'colsample_bynode': 0.9024501047392424, 'learning_rate': 0.38424597607052063}. Best is trial 30 with value: -0.715459.\n"
     ]
    },
    {
     "name": "stderr",
     "output_type": "stream",
     "text": [
      "[I 2025-05-15 18:10:25,227] Trial 42 pruned. Trial was pruned at iteration 0.\n"
     ]
    },
    {
     "name": "stderr",
     "output_type": "stream",
     "text": [
      "[I 2025-05-15 18:11:13,754] Trial 43 finished with value: -0.711074 and parameters: {'max_depth': 17, 'min_child_weight': 46, 'subsample': 0.9941389099321292, 'colsample_bynode': 0.9464874813729888, 'learning_rate': 0.159334507430031}. Best is trial 30 with value: -0.715459.\n"
     ]
    },
    {
     "name": "stderr",
     "output_type": "stream",
     "text": [
      "[I 2025-05-15 18:11:40,521] Trial 44 finished with value: -0.714378 and parameters: {'max_depth': 14, 'min_child_weight': 67, 'subsample': 0.9470404337735322, 'colsample_bynode': 0.8679831707589348, 'learning_rate': 0.3727682346533452}. Best is trial 30 with value: -0.715459.\n"
     ]
    },
    {
     "name": "stderr",
     "output_type": "stream",
     "text": [
      "[I 2025-05-15 18:11:41,771] Trial 45 pruned. Trial was pruned at iteration 1.\n"
     ]
    },
    {
     "name": "stderr",
     "output_type": "stream",
     "text": [
      "[I 2025-05-15 18:11:42,948] Trial 46 pruned. Trial was pruned at iteration 1.\n"
     ]
    },
    {
     "name": "stderr",
     "output_type": "stream",
     "text": [
      "[I 2025-05-15 18:11:44,052] Trial 47 pruned. Trial was pruned at iteration 1.\n"
     ]
    },
    {
     "name": "stderr",
     "output_type": "stream",
     "text": [
      "[I 2025-05-15 18:11:44,835] Trial 48 pruned. Trial was pruned at iteration 0.\n"
     ]
    },
    {
     "name": "stderr",
     "output_type": "stream",
     "text": [
      "[I 2025-05-15 18:12:18,602] Trial 49 finished with value: -0.712445 and parameters: {'max_depth': 17, 'min_child_weight': 32, 'subsample': 0.9482515704431359, 'colsample_bynode': 0.7375256253593776, 'learning_rate': 0.3798731839307238}. Best is trial 30 with value: -0.715459.\n"
     ]
    }
   ],
   "source": [
    "sampler = optuna.samplers.TPESampler(seed=42)\n",
    "study = optuna.create_study(direction='minimize', sampler=sampler)\n",
    "study.optimize(objective, n_trials=N_TRIALS, gc_after_trial=True)"
   ]
  },
  {
   "cell_type": "code",
   "execution_count": 20,
   "id": "51c8c98f",
   "metadata": {
    "execution": {
     "iopub.execute_input": "2025-05-15T16:12:18.746709Z",
     "iopub.status.busy": "2025-05-15T16:12:18.746339Z",
     "iopub.status.idle": "2025-05-15T16:12:18.775048Z",
     "shell.execute_reply": "2025-05-15T16:12:18.774618Z"
    },
    "papermill": {
     "duration": 0.040076,
     "end_time": "2025-05-15T16:12:18.775983",
     "exception": false,
     "start_time": "2025-05-15T16:12:18.735907",
     "status": "completed"
    },
    "tags": []
   },
   "outputs": [
    {
     "data": {
      "text/plain": [
       "['/scratch_isilon/groups/singlecell/shared/projects/Inflammation-PBMCs-Atlas/03_downstream_analysis/08_gene_importance/xgboost_external_validation/xgboost_TopN_genes/results_20/study/Mono_3_0_xgboost.pkl']"
      ]
     },
     "execution_count": 20,
     "metadata": {},
     "output_type": "execute_result"
    }
   ],
   "source": [
    "out_dir = here(f'03_downstream_analysis/08_gene_importance/xgboost_external_validation/xgboost_TopN_genes/results_{N_GENES}/study')\n",
    "\n",
    "if not os.path.exists(out_dir):\n",
    "    os.makedirs(out_dir)\n",
    "    \n",
    "joblib.dump(study,os.path.join(out_dir, f'{CELL_TYPE}_{SEED}_{TEST_SPLIT_IDX}_xgboost.pkl'))"
   ]
  },
  {
   "cell_type": "code",
   "execution_count": 21,
   "id": "bd857740",
   "metadata": {
    "execution": {
     "iopub.execute_input": "2025-05-15T16:12:18.799851Z",
     "iopub.status.busy": "2025-05-15T16:12:18.799377Z",
     "iopub.status.idle": "2025-05-15T16:12:38.460684Z",
     "shell.execute_reply": "2025-05-15T16:12:38.460313Z"
    },
    "papermill": {
     "duration": 19.672875,
     "end_time": "2025-05-15T16:12:38.461878",
     "exception": false,
     "start_time": "2025-05-15T16:12:18.789003",
     "status": "completed"
    },
    "tags": []
   },
   "outputs": [
    {
     "data": {
      "text/html": [
       "<style>#sk-container-id-1 {\n",
       "  /* Definition of color scheme common for light and dark mode */\n",
       "  --sklearn-color-text: black;\n",
       "  --sklearn-color-line: gray;\n",
       "  /* Definition of color scheme for unfitted estimators */\n",
       "  --sklearn-color-unfitted-level-0: #fff5e6;\n",
       "  --sklearn-color-unfitted-level-1: #f6e4d2;\n",
       "  --sklearn-color-unfitted-level-2: #ffe0b3;\n",
       "  --sklearn-color-unfitted-level-3: chocolate;\n",
       "  /* Definition of color scheme for fitted estimators */\n",
       "  --sklearn-color-fitted-level-0: #f0f8ff;\n",
       "  --sklearn-color-fitted-level-1: #d4ebff;\n",
       "  --sklearn-color-fitted-level-2: #b3dbfd;\n",
       "  --sklearn-color-fitted-level-3: cornflowerblue;\n",
       "\n",
       "  /* Specific color for light theme */\n",
       "  --sklearn-color-text-on-default-background: var(--sg-text-color, var(--theme-code-foreground, var(--jp-content-font-color1, black)));\n",
       "  --sklearn-color-background: var(--sg-background-color, var(--theme-background, var(--jp-layout-color0, white)));\n",
       "  --sklearn-color-border-box: var(--sg-text-color, var(--theme-code-foreground, var(--jp-content-font-color1, black)));\n",
       "  --sklearn-color-icon: #696969;\n",
       "\n",
       "  @media (prefers-color-scheme: dark) {\n",
       "    /* Redefinition of color scheme for dark theme */\n",
       "    --sklearn-color-text-on-default-background: var(--sg-text-color, var(--theme-code-foreground, var(--jp-content-font-color1, white)));\n",
       "    --sklearn-color-background: var(--sg-background-color, var(--theme-background, var(--jp-layout-color0, #111)));\n",
       "    --sklearn-color-border-box: var(--sg-text-color, var(--theme-code-foreground, var(--jp-content-font-color1, white)));\n",
       "    --sklearn-color-icon: #878787;\n",
       "  }\n",
       "}\n",
       "\n",
       "#sk-container-id-1 {\n",
       "  color: var(--sklearn-color-text);\n",
       "}\n",
       "\n",
       "#sk-container-id-1 pre {\n",
       "  padding: 0;\n",
       "}\n",
       "\n",
       "#sk-container-id-1 input.sk-hidden--visually {\n",
       "  border: 0;\n",
       "  clip: rect(1px 1px 1px 1px);\n",
       "  clip: rect(1px, 1px, 1px, 1px);\n",
       "  height: 1px;\n",
       "  margin: -1px;\n",
       "  overflow: hidden;\n",
       "  padding: 0;\n",
       "  position: absolute;\n",
       "  width: 1px;\n",
       "}\n",
       "\n",
       "#sk-container-id-1 div.sk-dashed-wrapped {\n",
       "  border: 1px dashed var(--sklearn-color-line);\n",
       "  margin: 0 0.4em 0.5em 0.4em;\n",
       "  box-sizing: border-box;\n",
       "  padding-bottom: 0.4em;\n",
       "  background-color: var(--sklearn-color-background);\n",
       "}\n",
       "\n",
       "#sk-container-id-1 div.sk-container {\n",
       "  /* jupyter's `normalize.less` sets `[hidden] { display: none; }`\n",
       "     but bootstrap.min.css set `[hidden] { display: none !important; }`\n",
       "     so we also need the `!important` here to be able to override the\n",
       "     default hidden behavior on the sphinx rendered scikit-learn.org.\n",
       "     See: https://github.com/scikit-learn/scikit-learn/issues/21755 */\n",
       "  display: inline-block !important;\n",
       "  position: relative;\n",
       "}\n",
       "\n",
       "#sk-container-id-1 div.sk-text-repr-fallback {\n",
       "  display: none;\n",
       "}\n",
       "\n",
       "div.sk-parallel-item,\n",
       "div.sk-serial,\n",
       "div.sk-item {\n",
       "  /* draw centered vertical line to link estimators */\n",
       "  background-image: linear-gradient(var(--sklearn-color-text-on-default-background), var(--sklearn-color-text-on-default-background));\n",
       "  background-size: 2px 100%;\n",
       "  background-repeat: no-repeat;\n",
       "  background-position: center center;\n",
       "}\n",
       "\n",
       "/* Parallel-specific style estimator block */\n",
       "\n",
       "#sk-container-id-1 div.sk-parallel-item::after {\n",
       "  content: \"\";\n",
       "  width: 100%;\n",
       "  border-bottom: 2px solid var(--sklearn-color-text-on-default-background);\n",
       "  flex-grow: 1;\n",
       "}\n",
       "\n",
       "#sk-container-id-1 div.sk-parallel {\n",
       "  display: flex;\n",
       "  align-items: stretch;\n",
       "  justify-content: center;\n",
       "  background-color: var(--sklearn-color-background);\n",
       "  position: relative;\n",
       "}\n",
       "\n",
       "#sk-container-id-1 div.sk-parallel-item {\n",
       "  display: flex;\n",
       "  flex-direction: column;\n",
       "}\n",
       "\n",
       "#sk-container-id-1 div.sk-parallel-item:first-child::after {\n",
       "  align-self: flex-end;\n",
       "  width: 50%;\n",
       "}\n",
       "\n",
       "#sk-container-id-1 div.sk-parallel-item:last-child::after {\n",
       "  align-self: flex-start;\n",
       "  width: 50%;\n",
       "}\n",
       "\n",
       "#sk-container-id-1 div.sk-parallel-item:only-child::after {\n",
       "  width: 0;\n",
       "}\n",
       "\n",
       "/* Serial-specific style estimator block */\n",
       "\n",
       "#sk-container-id-1 div.sk-serial {\n",
       "  display: flex;\n",
       "  flex-direction: column;\n",
       "  align-items: center;\n",
       "  background-color: var(--sklearn-color-background);\n",
       "  padding-right: 1em;\n",
       "  padding-left: 1em;\n",
       "}\n",
       "\n",
       "\n",
       "/* Toggleable style: style used for estimator/Pipeline/ColumnTransformer box that is\n",
       "clickable and can be expanded/collapsed.\n",
       "- Pipeline and ColumnTransformer use this feature and define the default style\n",
       "- Estimators will overwrite some part of the style using the `sk-estimator` class\n",
       "*/\n",
       "\n",
       "/* Pipeline and ColumnTransformer style (default) */\n",
       "\n",
       "#sk-container-id-1 div.sk-toggleable {\n",
       "  /* Default theme specific background. It is overwritten whether we have a\n",
       "  specific estimator or a Pipeline/ColumnTransformer */\n",
       "  background-color: var(--sklearn-color-background);\n",
       "}\n",
       "\n",
       "/* Toggleable label */\n",
       "#sk-container-id-1 label.sk-toggleable__label {\n",
       "  cursor: pointer;\n",
       "  display: block;\n",
       "  width: 100%;\n",
       "  margin-bottom: 0;\n",
       "  padding: 0.5em;\n",
       "  box-sizing: border-box;\n",
       "  text-align: center;\n",
       "}\n",
       "\n",
       "#sk-container-id-1 label.sk-toggleable__label-arrow:before {\n",
       "  /* Arrow on the left of the label */\n",
       "  content: \"▸\";\n",
       "  float: left;\n",
       "  margin-right: 0.25em;\n",
       "  color: var(--sklearn-color-icon);\n",
       "}\n",
       "\n",
       "#sk-container-id-1 label.sk-toggleable__label-arrow:hover:before {\n",
       "  color: var(--sklearn-color-text);\n",
       "}\n",
       "\n",
       "/* Toggleable content - dropdown */\n",
       "\n",
       "#sk-container-id-1 div.sk-toggleable__content {\n",
       "  max-height: 0;\n",
       "  max-width: 0;\n",
       "  overflow: hidden;\n",
       "  text-align: left;\n",
       "  /* unfitted */\n",
       "  background-color: var(--sklearn-color-unfitted-level-0);\n",
       "}\n",
       "\n",
       "#sk-container-id-1 div.sk-toggleable__content.fitted {\n",
       "  /* fitted */\n",
       "  background-color: var(--sklearn-color-fitted-level-0);\n",
       "}\n",
       "\n",
       "#sk-container-id-1 div.sk-toggleable__content pre {\n",
       "  margin: 0.2em;\n",
       "  border-radius: 0.25em;\n",
       "  color: var(--sklearn-color-text);\n",
       "  /* unfitted */\n",
       "  background-color: var(--sklearn-color-unfitted-level-0);\n",
       "}\n",
       "\n",
       "#sk-container-id-1 div.sk-toggleable__content.fitted pre {\n",
       "  /* unfitted */\n",
       "  background-color: var(--sklearn-color-fitted-level-0);\n",
       "}\n",
       "\n",
       "#sk-container-id-1 input.sk-toggleable__control:checked~div.sk-toggleable__content {\n",
       "  /* Expand drop-down */\n",
       "  max-height: 200px;\n",
       "  max-width: 100%;\n",
       "  overflow: auto;\n",
       "}\n",
       "\n",
       "#sk-container-id-1 input.sk-toggleable__control:checked~label.sk-toggleable__label-arrow:before {\n",
       "  content: \"▾\";\n",
       "}\n",
       "\n",
       "/* Pipeline/ColumnTransformer-specific style */\n",
       "\n",
       "#sk-container-id-1 div.sk-label input.sk-toggleable__control:checked~label.sk-toggleable__label {\n",
       "  color: var(--sklearn-color-text);\n",
       "  background-color: var(--sklearn-color-unfitted-level-2);\n",
       "}\n",
       "\n",
       "#sk-container-id-1 div.sk-label.fitted input.sk-toggleable__control:checked~label.sk-toggleable__label {\n",
       "  background-color: var(--sklearn-color-fitted-level-2);\n",
       "}\n",
       "\n",
       "/* Estimator-specific style */\n",
       "\n",
       "/* Colorize estimator box */\n",
       "#sk-container-id-1 div.sk-estimator input.sk-toggleable__control:checked~label.sk-toggleable__label {\n",
       "  /* unfitted */\n",
       "  background-color: var(--sklearn-color-unfitted-level-2);\n",
       "}\n",
       "\n",
       "#sk-container-id-1 div.sk-estimator.fitted input.sk-toggleable__control:checked~label.sk-toggleable__label {\n",
       "  /* fitted */\n",
       "  background-color: var(--sklearn-color-fitted-level-2);\n",
       "}\n",
       "\n",
       "#sk-container-id-1 div.sk-label label.sk-toggleable__label,\n",
       "#sk-container-id-1 div.sk-label label {\n",
       "  /* The background is the default theme color */\n",
       "  color: var(--sklearn-color-text-on-default-background);\n",
       "}\n",
       "\n",
       "/* On hover, darken the color of the background */\n",
       "#sk-container-id-1 div.sk-label:hover label.sk-toggleable__label {\n",
       "  color: var(--sklearn-color-text);\n",
       "  background-color: var(--sklearn-color-unfitted-level-2);\n",
       "}\n",
       "\n",
       "/* Label box, darken color on hover, fitted */\n",
       "#sk-container-id-1 div.sk-label.fitted:hover label.sk-toggleable__label.fitted {\n",
       "  color: var(--sklearn-color-text);\n",
       "  background-color: var(--sklearn-color-fitted-level-2);\n",
       "}\n",
       "\n",
       "/* Estimator label */\n",
       "\n",
       "#sk-container-id-1 div.sk-label label {\n",
       "  font-family: monospace;\n",
       "  font-weight: bold;\n",
       "  display: inline-block;\n",
       "  line-height: 1.2em;\n",
       "}\n",
       "\n",
       "#sk-container-id-1 div.sk-label-container {\n",
       "  text-align: center;\n",
       "}\n",
       "\n",
       "/* Estimator-specific */\n",
       "#sk-container-id-1 div.sk-estimator {\n",
       "  font-family: monospace;\n",
       "  border: 1px dotted var(--sklearn-color-border-box);\n",
       "  border-radius: 0.25em;\n",
       "  box-sizing: border-box;\n",
       "  margin-bottom: 0.5em;\n",
       "  /* unfitted */\n",
       "  background-color: var(--sklearn-color-unfitted-level-0);\n",
       "}\n",
       "\n",
       "#sk-container-id-1 div.sk-estimator.fitted {\n",
       "  /* fitted */\n",
       "  background-color: var(--sklearn-color-fitted-level-0);\n",
       "}\n",
       "\n",
       "/* on hover */\n",
       "#sk-container-id-1 div.sk-estimator:hover {\n",
       "  /* unfitted */\n",
       "  background-color: var(--sklearn-color-unfitted-level-2);\n",
       "}\n",
       "\n",
       "#sk-container-id-1 div.sk-estimator.fitted:hover {\n",
       "  /* fitted */\n",
       "  background-color: var(--sklearn-color-fitted-level-2);\n",
       "}\n",
       "\n",
       "/* Specification for estimator info (e.g. \"i\" and \"?\") */\n",
       "\n",
       "/* Common style for \"i\" and \"?\" */\n",
       "\n",
       ".sk-estimator-doc-link,\n",
       "a:link.sk-estimator-doc-link,\n",
       "a:visited.sk-estimator-doc-link {\n",
       "  float: right;\n",
       "  font-size: smaller;\n",
       "  line-height: 1em;\n",
       "  font-family: monospace;\n",
       "  background-color: var(--sklearn-color-background);\n",
       "  border-radius: 1em;\n",
       "  height: 1em;\n",
       "  width: 1em;\n",
       "  text-decoration: none !important;\n",
       "  margin-left: 1ex;\n",
       "  /* unfitted */\n",
       "  border: var(--sklearn-color-unfitted-level-1) 1pt solid;\n",
       "  color: var(--sklearn-color-unfitted-level-1);\n",
       "}\n",
       "\n",
       ".sk-estimator-doc-link.fitted,\n",
       "a:link.sk-estimator-doc-link.fitted,\n",
       "a:visited.sk-estimator-doc-link.fitted {\n",
       "  /* fitted */\n",
       "  border: var(--sklearn-color-fitted-level-1) 1pt solid;\n",
       "  color: var(--sklearn-color-fitted-level-1);\n",
       "}\n",
       "\n",
       "/* On hover */\n",
       "div.sk-estimator:hover .sk-estimator-doc-link:hover,\n",
       ".sk-estimator-doc-link:hover,\n",
       "div.sk-label-container:hover .sk-estimator-doc-link:hover,\n",
       ".sk-estimator-doc-link:hover {\n",
       "  /* unfitted */\n",
       "  background-color: var(--sklearn-color-unfitted-level-3);\n",
       "  color: var(--sklearn-color-background);\n",
       "  text-decoration: none;\n",
       "}\n",
       "\n",
       "div.sk-estimator.fitted:hover .sk-estimator-doc-link.fitted:hover,\n",
       ".sk-estimator-doc-link.fitted:hover,\n",
       "div.sk-label-container:hover .sk-estimator-doc-link.fitted:hover,\n",
       ".sk-estimator-doc-link.fitted:hover {\n",
       "  /* fitted */\n",
       "  background-color: var(--sklearn-color-fitted-level-3);\n",
       "  color: var(--sklearn-color-background);\n",
       "  text-decoration: none;\n",
       "}\n",
       "\n",
       "/* Span, style for the box shown on hovering the info icon */\n",
       ".sk-estimator-doc-link span {\n",
       "  display: none;\n",
       "  z-index: 9999;\n",
       "  position: relative;\n",
       "  font-weight: normal;\n",
       "  right: .2ex;\n",
       "  padding: .5ex;\n",
       "  margin: .5ex;\n",
       "  width: min-content;\n",
       "  min-width: 20ex;\n",
       "  max-width: 50ex;\n",
       "  color: var(--sklearn-color-text);\n",
       "  box-shadow: 2pt 2pt 4pt #999;\n",
       "  /* unfitted */\n",
       "  background: var(--sklearn-color-unfitted-level-0);\n",
       "  border: .5pt solid var(--sklearn-color-unfitted-level-3);\n",
       "}\n",
       "\n",
       ".sk-estimator-doc-link.fitted span {\n",
       "  /* fitted */\n",
       "  background: var(--sklearn-color-fitted-level-0);\n",
       "  border: var(--sklearn-color-fitted-level-3);\n",
       "}\n",
       "\n",
       ".sk-estimator-doc-link:hover span {\n",
       "  display: block;\n",
       "}\n",
       "\n",
       "/* \"?\"-specific style due to the `<a>` HTML tag */\n",
       "\n",
       "#sk-container-id-1 a.estimator_doc_link {\n",
       "  float: right;\n",
       "  font-size: 1rem;\n",
       "  line-height: 1em;\n",
       "  font-family: monospace;\n",
       "  background-color: var(--sklearn-color-background);\n",
       "  border-radius: 1rem;\n",
       "  height: 1rem;\n",
       "  width: 1rem;\n",
       "  text-decoration: none;\n",
       "  /* unfitted */\n",
       "  color: var(--sklearn-color-unfitted-level-1);\n",
       "  border: var(--sklearn-color-unfitted-level-1) 1pt solid;\n",
       "}\n",
       "\n",
       "#sk-container-id-1 a.estimator_doc_link.fitted {\n",
       "  /* fitted */\n",
       "  border: var(--sklearn-color-fitted-level-1) 1pt solid;\n",
       "  color: var(--sklearn-color-fitted-level-1);\n",
       "}\n",
       "\n",
       "/* On hover */\n",
       "#sk-container-id-1 a.estimator_doc_link:hover {\n",
       "  /* unfitted */\n",
       "  background-color: var(--sklearn-color-unfitted-level-3);\n",
       "  color: var(--sklearn-color-background);\n",
       "  text-decoration: none;\n",
       "}\n",
       "\n",
       "#sk-container-id-1 a.estimator_doc_link.fitted:hover {\n",
       "  /* fitted */\n",
       "  background-color: var(--sklearn-color-fitted-level-3);\n",
       "}\n",
       "</style><div id=\"sk-container-id-1\" class=\"sk-top-container\"><div class=\"sk-text-repr-fallback\"><pre>XGBClassifier(base_score=None, booster=None, callbacks=None,\n",
       "              colsample_bylevel=None, colsample_bynode=0.7216248940665004,\n",
       "              colsample_bytree=None, device=None, early_stopping_rounds=None,\n",
       "              enable_categorical=False,\n",
       "              eval_metric=&lt;function custom_f1_score at 0x7fbd9adc8680&gt;,\n",
       "              feature_types=None, gamma=None, grow_policy=None,\n",
       "              importance_type=None, interaction_constraints=None,\n",
       "              learning_rate=0.21211143101823535, max_bin=None,\n",
       "              max_cat_threshold=None, max_cat_to_onehot=None,\n",
       "              max_delta_step=None, max_depth=13, max_leaves=None,\n",
       "              min_child_weight=91, missing=nan, monotone_constraints=None,\n",
       "              multi_strategy=None, n_estimators=124, n_jobs=None,\n",
       "              num_parallel_tree=None, objective=&#x27;multi:softprob&#x27;, ...)</pre><b>In a Jupyter environment, please rerun this cell to show the HTML representation or trust the notebook. <br />On GitHub, the HTML representation is unable to render, please try loading this page with nbviewer.org.</b></div><div class=\"sk-container\" hidden><div class=\"sk-item\"><div class=\"sk-estimator fitted sk-toggleable\"><input class=\"sk-toggleable__control sk-hidden--visually\" id=\"sk-estimator-id-1\" type=\"checkbox\" checked><label for=\"sk-estimator-id-1\" class=\"sk-toggleable__label fitted sk-toggleable__label-arrow fitted\">&nbsp;XGBClassifier<span class=\"sk-estimator-doc-link fitted\">i<span>Fitted</span></span></label><div class=\"sk-toggleable__content fitted\"><pre>XGBClassifier(base_score=None, booster=None, callbacks=None,\n",
       "              colsample_bylevel=None, colsample_bynode=0.7216248940665004,\n",
       "              colsample_bytree=None, device=None, early_stopping_rounds=None,\n",
       "              enable_categorical=False,\n",
       "              eval_metric=&lt;function custom_f1_score at 0x7fbd9adc8680&gt;,\n",
       "              feature_types=None, gamma=None, grow_policy=None,\n",
       "              importance_type=None, interaction_constraints=None,\n",
       "              learning_rate=0.21211143101823535, max_bin=None,\n",
       "              max_cat_threshold=None, max_cat_to_onehot=None,\n",
       "              max_delta_step=None, max_depth=13, max_leaves=None,\n",
       "              min_child_weight=91, missing=nan, monotone_constraints=None,\n",
       "              multi_strategy=None, n_estimators=124, n_jobs=None,\n",
       "              num_parallel_tree=None, objective=&#x27;multi:softprob&#x27;, ...)</pre></div> </div></div></div></div>"
      ],
      "text/plain": [
       "XGBClassifier(base_score=None, booster=None, callbacks=None,\n",
       "              colsample_bylevel=None, colsample_bynode=0.7216248940665004,\n",
       "              colsample_bytree=None, device=None, early_stopping_rounds=None,\n",
       "              enable_categorical=False,\n",
       "              eval_metric=<function custom_f1_score at 0x7fbd9adc8680>,\n",
       "              feature_types=None, gamma=None, grow_policy=None,\n",
       "              importance_type=None, interaction_constraints=None,\n",
       "              learning_rate=0.21211143101823535, max_bin=None,\n",
       "              max_cat_threshold=None, max_cat_to_onehot=None,\n",
       "              max_delta_step=None, max_depth=13, max_leaves=None,\n",
       "              min_child_weight=91, missing=nan, monotone_constraints=None,\n",
       "              multi_strategy=None, n_estimators=124, n_jobs=None,\n",
       "              num_parallel_tree=None, objective='multi:softprob', ...)"
      ]
     },
     "execution_count": 21,
     "metadata": {},
     "output_type": "execute_result"
    }
   ],
   "source": [
    "n_estimators = int(study.best_trial.user_attrs['best_iteration']*1.2)\n",
    "xgb = xgboost.XGBClassifier(\n",
    "        eval_metric=eval_metric,\n",
    "        n_estimators=n_estimators,\n",
    "        **study.best_trial.params\n",
    "    )\n",
    "xgb.fit(\n",
    "    ssp.vstack((X_train, X_val)), \n",
    "    np.concatenate((y_train_enc, y_val_enc)),\n",
    "    verbose=1,\n",
    ")"
   ]
  },
  {
   "cell_type": "code",
   "execution_count": 22,
   "id": "06f05930",
   "metadata": {
    "execution": {
     "iopub.execute_input": "2025-05-15T16:12:38.489646Z",
     "iopub.status.busy": "2025-05-15T16:12:38.489259Z",
     "iopub.status.idle": "2025-05-15T16:12:38.564673Z",
     "shell.execute_reply": "2025-05-15T16:12:38.564291Z"
    },
    "papermill": {
     "duration": 0.092346,
     "end_time": "2025-05-15T16:12:38.565684",
     "exception": false,
     "start_time": "2025-05-15T16:12:38.473338",
     "status": "completed"
    },
    "tags": []
   },
   "outputs": [
    {
     "data": {
      "text/plain": [
       "['/scratch_isilon/groups/singlecell/shared/projects/Inflammation-PBMCs-Atlas/03_downstream_analysis/08_gene_importance/xgboost_external_validation/xgboost_TopN_genes/results_20/best_model/Mono_3_0_xgb.json']"
      ]
     },
     "execution_count": 22,
     "metadata": {},
     "output_type": "execute_result"
    }
   ],
   "source": [
    "out_dir = here(f'03_downstream_analysis/08_gene_importance/xgboost_external_validation/xgboost_TopN_genes/results_{N_GENES}/best_model')\n",
    "\n",
    "if not os.path.exists(out_dir):\n",
    "    os.makedirs(out_dir)\n",
    "    \n",
    "joblib.dump(xgb, os.path.join(out_dir, f'{CELL_TYPE}_{SEED}_{TEST_SPLIT_IDX}_xgb.json'))"
   ]
  },
  {
   "cell_type": "code",
   "execution_count": 23,
   "id": "11ba6633",
   "metadata": {
    "execution": {
     "iopub.execute_input": "2025-05-15T16:12:38.603836Z",
     "iopub.status.busy": "2025-05-15T16:12:38.603205Z",
     "iopub.status.idle": "2025-05-15T16:12:39.277716Z",
     "shell.execute_reply": "2025-05-15T16:12:39.277305Z"
    },
    "papermill": {
     "duration": 0.69672,
     "end_time": "2025-05-15T16:12:39.279123",
     "exception": false,
     "start_time": "2025-05-15T16:12:38.582403",
     "status": "completed"
    },
    "tags": []
   },
   "outputs": [],
   "source": [
    "df_pred_test = pd.DataFrame(dict(\n",
    "    cell_id=train_adata.obs.iloc[test_idxs].index.values,\n",
    "    y_true=y_test, \n",
    "    y_true_code=y_test_enc, \n",
    "    y_pred=xgb.predict(X_test))).set_index('cell_id')"
   ]
  },
  {
   "cell_type": "code",
   "execution_count": 24,
   "id": "fd34d835",
   "metadata": {
    "execution": {
     "iopub.execute_input": "2025-05-15T16:12:39.315521Z",
     "iopub.status.busy": "2025-05-15T16:12:39.315361Z",
     "iopub.status.idle": "2025-05-15T16:12:39.475634Z",
     "shell.execute_reply": "2025-05-15T16:12:39.475033Z"
    },
    "papermill": {
     "duration": 0.186741,
     "end_time": "2025-05-15T16:12:39.476990",
     "exception": false,
     "start_time": "2025-05-15T16:12:39.290249",
     "status": "completed"
    },
    "tags": []
   },
   "outputs": [],
   "source": [
    "out_dir = here(f'03_downstream_analysis/08_gene_importance/xgboost_external_validation/xgboost_TopN_genes/results_{N_GENES}/predictions')\n",
    "\n",
    "if not os.path.exists(out_dir):\n",
    "    os.makedirs(out_dir)\n",
    "    \n",
    "df_pred_test.to_csv(os.path.join(out_dir, f'{CELL_TYPE}_{SEED}_{TEST_SPLIT_IDX}_pred_test.zip'))"
   ]
  },
  {
   "cell_type": "code",
   "execution_count": 25,
   "id": "48d6343d",
   "metadata": {
    "execution": {
     "iopub.execute_input": "2025-05-15T16:12:39.506780Z",
     "iopub.status.busy": "2025-05-15T16:12:39.506283Z",
     "iopub.status.idle": "2025-05-15T16:12:39.523660Z",
     "shell.execute_reply": "2025-05-15T16:12:39.523166Z"
    },
    "papermill": {
     "duration": 0.037085,
     "end_time": "2025-05-15T16:12:39.525001",
     "exception": false,
     "start_time": "2025-05-15T16:12:39.487916",
     "status": "completed"
    },
    "tags": []
   },
   "outputs": [],
   "source": [
    "metrics_dict = dict(\n",
    "    BAS=balanced_accuracy_score(y_true=df_pred_test.y_true_code, y_pred=df_pred_test.y_pred), WF1=f1_score(y_true=df_pred_test.y_true_code, y_pred=df_pred_test.y_pred,average='weighted'))"
   ]
  },
  {
   "cell_type": "code",
   "execution_count": 26,
   "id": "afd7d1cf",
   "metadata": {
    "execution": {
     "iopub.execute_input": "2025-05-15T16:12:39.558653Z",
     "iopub.status.busy": "2025-05-15T16:12:39.558291Z",
     "iopub.status.idle": "2025-05-15T16:12:39.561458Z",
     "shell.execute_reply": "2025-05-15T16:12:39.561154Z"
    },
    "papermill": {
     "duration": 0.027458,
     "end_time": "2025-05-15T16:12:39.562293",
     "exception": false,
     "start_time": "2025-05-15T16:12:39.534835",
     "status": "completed"
    },
    "tags": []
   },
   "outputs": [
    {
     "data": {
      "text/plain": [
       "{'BAS': 0.6949855694944375, 'WF1': 0.8568692379621619}"
      ]
     },
     "execution_count": 26,
     "metadata": {},
     "output_type": "execute_result"
    }
   ],
   "source": [
    "metrics_dict"
   ]
  },
  {
   "cell_type": "code",
   "execution_count": 27,
   "id": "b9b7c76b",
   "metadata": {
    "execution": {
     "iopub.execute_input": "2025-05-15T16:12:39.601986Z",
     "iopub.status.busy": "2025-05-15T16:12:39.601548Z",
     "iopub.status.idle": "2025-05-15T16:12:39.610667Z",
     "shell.execute_reply": "2025-05-15T16:12:39.610357Z"
    },
    "papermill": {
     "duration": 0.030064,
     "end_time": "2025-05-15T16:12:39.611518",
     "exception": false,
     "start_time": "2025-05-15T16:12:39.581454",
     "status": "completed"
    },
    "tags": []
   },
   "outputs": [
    {
     "data": {
      "text/html": [
       "<div>\n",
       "<style scoped>\n",
       "    .dataframe tbody tr th:only-of-type {\n",
       "        vertical-align: middle;\n",
       "    }\n",
       "\n",
       "    .dataframe tbody tr th {\n",
       "        vertical-align: top;\n",
       "    }\n",
       "\n",
       "    .dataframe thead th {\n",
       "        text-align: right;\n",
       "    }\n",
       "</style>\n",
       "<table border=\"1\" class=\"dataframe\">\n",
       "  <thead>\n",
       "    <tr style=\"text-align: right;\">\n",
       "      <th></th>\n",
       "      <th>BAS</th>\n",
       "      <th>WF1</th>\n",
       "      <th>split_idx</th>\n",
       "      <th>gene_set_seed</th>\n",
       "      <th>cell_type</th>\n",
       "    </tr>\n",
       "  </thead>\n",
       "  <tbody>\n",
       "    <tr>\n",
       "      <th>0</th>\n",
       "      <td>0.694986</td>\n",
       "      <td>0.856869</td>\n",
       "      <td>0</td>\n",
       "      <td>3</td>\n",
       "      <td>Mono</td>\n",
       "    </tr>\n",
       "  </tbody>\n",
       "</table>\n",
       "</div>"
      ],
      "text/plain": [
       "        BAS       WF1  split_idx  gene_set_seed cell_type\n",
       "0  0.694986  0.856869          0              3      Mono"
      ]
     },
     "execution_count": 27,
     "metadata": {},
     "output_type": "execute_result"
    }
   ],
   "source": [
    "metrics_df = pd.DataFrame.from_dict([metrics_dict]).assign(split_idx=TEST_SPLIT_IDX, gene_set_seed=SEED, cell_type=CELL_TYPE)\n",
    "metrics_df"
   ]
  },
  {
   "cell_type": "code",
   "execution_count": 28,
   "id": "41f3dab4",
   "metadata": {
    "execution": {
     "iopub.execute_input": "2025-05-15T16:12:39.665672Z",
     "iopub.status.busy": "2025-05-15T16:12:39.665529Z",
     "iopub.status.idle": "2025-05-15T16:12:39.673997Z",
     "shell.execute_reply": "2025-05-15T16:12:39.673542Z"
    },
    "papermill": {
     "duration": 0.039353,
     "end_time": "2025-05-15T16:12:39.674956",
     "exception": false,
     "start_time": "2025-05-15T16:12:39.635603",
     "status": "completed"
    },
    "tags": []
   },
   "outputs": [],
   "source": [
    "out_dir = here(f'03_downstream_analysis/08_gene_importance/xgboost_external_validation/xgboost_TopN_genes/results_{N_GENES}/metrics')\n",
    "\n",
    "if not os.path.exists(out_dir):\n",
    "    os.makedirs(out_dir)\n",
    "    \n",
    "metrics_df.to_csv(os.path.join(out_dir, f'{CELL_TYPE}_{SEED}_{TEST_SPLIT_IDX}_metrics.zip'))"
   ]
  }
 ],
 "metadata": {
  "kernelspec": {
   "display_name": "Python 3 (ipykernel)",
   "language": "python",
   "name": "python3"
  },
  "language_info": {
   "codemirror_mode": {
    "name": "ipython",
    "version": 3
   },
   "file_extension": ".py",
   "mimetype": "text/x-python",
   "name": "python",
   "nbconvert_exporter": "python",
   "pygments_lexer": "ipython3",
   "version": "3.12.5"
  },
  "papermill": {
   "default_parameters": {},
   "duration": 819.209783,
   "end_time": "2025-05-15T16:12:40.406833",
   "environment_variables": {},
   "exception": null,
   "input_path": "02_xgboost_fitting_external_20genes.ipynb",
   "output_path": "results_20/executed_notebooks/xgboost_fitting_external_CT_Mono_GS_3_seed0.ipynb",
   "parameters": {
    "CELL_TYPE": "Mono",
    "SEED": 3,
    "TEST_SPLIT_IDX": 0
   },
   "start_time": "2025-05-15T15:59:01.197050",
   "version": "2.6.0"
  }
 },
 "nbformat": 4,
 "nbformat_minor": 5
}