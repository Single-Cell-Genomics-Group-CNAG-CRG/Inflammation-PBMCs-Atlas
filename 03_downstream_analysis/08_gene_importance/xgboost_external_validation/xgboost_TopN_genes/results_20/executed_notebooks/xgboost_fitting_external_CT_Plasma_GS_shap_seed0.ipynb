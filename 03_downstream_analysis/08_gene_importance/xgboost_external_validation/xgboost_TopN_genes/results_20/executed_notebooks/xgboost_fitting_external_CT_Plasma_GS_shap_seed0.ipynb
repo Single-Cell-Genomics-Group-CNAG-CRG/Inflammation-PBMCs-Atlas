{
 "cells": [
  {
   "cell_type": "code",
   "execution_count": 1,
   "id": "26a5eca7",
   "metadata": {
    "editable": true,
    "execution": {
     "iopub.execute_input": "2025-05-14T16:10:28.633608Z",
     "iopub.status.busy": "2025-05-14T16:10:28.633204Z",
     "iopub.status.idle": "2025-05-14T16:10:28.636197Z",
     "shell.execute_reply": "2025-05-14T16:10:28.635835Z"
    },
    "papermill": {
     "duration": 0.011737,
     "end_time": "2025-05-14T16:10:28.637147",
     "exception": false,
     "start_time": "2025-05-14T16:10:28.625410",
     "status": "completed"
    },
    "slideshow": {
     "slide_type": ""
    },
    "tags": [
     "parameters"
    ]
   },
   "outputs": [],
   "source": [
    "CELL_TYPE = 'pDC'\n",
    "N_GENES: int = 20\n",
    "SEED = 'shap_studyID' #'disease_NOstudy' 'study_NOdisease' or 'int' or 'shap_studyID'\n",
    "TEST_SPLIT_IDX: int = 1 #[0,4]"
   ]
  },
  {
   "cell_type": "code",
   "execution_count": 2,
   "id": "c7d63e35",
   "metadata": {
    "execution": {
     "iopub.execute_input": "2025-05-14T16:10:28.649999Z",
     "iopub.status.busy": "2025-05-14T16:10:28.649707Z",
     "iopub.status.idle": "2025-05-14T16:10:28.651900Z",
     "shell.execute_reply": "2025-05-14T16:10:28.651527Z"
    },
    "papermill": {
     "duration": 0.009421,
     "end_time": "2025-05-14T16:10:28.652743",
     "exception": false,
     "start_time": "2025-05-14T16:10:28.643322",
     "status": "completed"
    },
    "tags": [
     "injected-parameters"
    ]
   },
   "outputs": [],
   "source": [
    "# Parameters\n",
    "CELL_TYPE = \"Plasma\"\n",
    "SEED = \"shap\"\n",
    "TEST_SPLIT_IDX = 0\n"
   ]
  },
  {
   "cell_type": "code",
   "execution_count": 3,
   "id": "38b11d70",
   "metadata": {
    "execution": {
     "iopub.execute_input": "2025-05-14T16:10:28.666501Z",
     "iopub.status.busy": "2025-05-14T16:10:28.666147Z",
     "iopub.status.idle": "2025-05-14T16:10:28.668252Z",
     "shell.execute_reply": "2025-05-14T16:10:28.667899Z"
    },
    "papermill": {
     "duration": 0.010419,
     "end_time": "2025-05-14T16:10:28.669207",
     "exception": false,
     "start_time": "2025-05-14T16:10:28.658788",
     "status": "completed"
    },
    "tags": []
   },
   "outputs": [],
   "source": [
    "N_SPLITS: int = 5\n",
    "N_TRIALS: int = 50"
   ]
  },
  {
   "cell_type": "code",
   "execution_count": 4,
   "id": "cb71c1d9",
   "metadata": {
    "execution": {
     "iopub.execute_input": "2025-05-14T16:10:28.683177Z",
     "iopub.status.busy": "2025-05-14T16:10:28.682705Z",
     "iopub.status.idle": "2025-05-14T16:10:30.320281Z",
     "shell.execute_reply": "2025-05-14T16:10:30.319760Z"
    },
    "papermill": {
     "duration": 1.646339,
     "end_time": "2025-05-14T16:10:30.321566",
     "exception": false,
     "start_time": "2025-05-14T16:10:28.675227",
     "status": "completed"
    },
    "tags": []
   },
   "outputs": [],
   "source": [
    "import os\n",
    "import sys\n",
    "from pyprojroot.here import here\n",
    "import pandas as pd\n",
    "import anndata as ad\n",
    "import numpy as np\n",
    "import math\n",
    "from sklearn.model_selection import StratifiedGroupKFold\n",
    "from sklearn.preprocessing import LabelEncoder\n",
    "from sklearn.metrics import f1_score\n",
    "import matplotlib.pyplot as plt\n",
    "import seaborn as sns\n",
    "from itertools import product\n",
    "from sklearn.metrics import balanced_accuracy_score, f1_score\n",
    "import optuna\n",
    "\n",
    "import joblib\n",
    "import pickle\n",
    "import datetime\n",
    "\n",
    "import collections\n",
    "\n",
    "import xgboost\n",
    "from sklearn.preprocessing import LabelEncoder\n",
    "\n",
    "import scipy.sparse as ssp\n",
    "import joblib\n",
    "\n",
    "from dotenv import load_dotenv"
   ]
  },
  {
   "cell_type": "code",
   "execution_count": 5,
   "id": "52b68674",
   "metadata": {
    "execution": {
     "iopub.execute_input": "2025-05-14T16:10:30.334163Z",
     "iopub.status.busy": "2025-05-14T16:10:30.333832Z",
     "iopub.status.idle": "2025-05-14T16:10:30.339903Z",
     "shell.execute_reply": "2025-05-14T16:10:30.339495Z"
    },
    "papermill": {
     "duration": 0.013204,
     "end_time": "2025-05-14T16:10:30.340753",
     "exception": false,
     "start_time": "2025-05-14T16:10:30.327549",
     "status": "completed"
    },
    "tags": []
   },
   "outputs": [
    {
     "data": {
      "text/plain": [
       "True"
      ]
     },
     "execution_count": 5,
     "metadata": {},
     "output_type": "execute_result"
    }
   ],
   "source": [
    "load_dotenv()"
   ]
  },
  {
   "cell_type": "markdown",
   "id": "180f3841",
   "metadata": {
    "papermill": {
     "duration": 0.016328,
     "end_time": "2025-05-14T16:10:30.362986",
     "exception": false,
     "start_time": "2025-05-14T16:10:30.346658",
     "status": "completed"
    },
    "tags": []
   },
   "source": [
    "# LOAD DATASET"
   ]
  },
  {
   "cell_type": "code",
   "execution_count": 6,
   "id": "84efdf01",
   "metadata": {
    "execution": {
     "iopub.execute_input": "2025-05-14T16:10:30.382455Z",
     "iopub.status.busy": "2025-05-14T16:10:30.382277Z",
     "iopub.status.idle": "2025-05-14T16:10:30.420786Z",
     "shell.execute_reply": "2025-05-14T16:10:30.420391Z"
    },
    "papermill": {
     "duration": 0.053209,
     "end_time": "2025-05-14T16:10:30.421717",
     "exception": false,
     "start_time": "2025-05-14T16:10:30.368508",
     "status": "completed"
    },
    "tags": []
   },
   "outputs": [],
   "source": [
    "train_adata = ad.read_h5ad(\n",
    "    here(f'03_downstream_analysis/08_gene_importance/xgboost_external_validation/xgboost_TopN_genes/data_cellTypes/EXTERNAL_{CELL_TYPE}.filtered.log1p.h5ad')\n",
    ")"
   ]
  },
  {
   "cell_type": "code",
   "execution_count": 7,
   "id": "b1e460ca",
   "metadata": {
    "execution": {
     "iopub.execute_input": "2025-05-14T16:10:30.436415Z",
     "iopub.status.busy": "2025-05-14T16:10:30.436226Z",
     "iopub.status.idle": "2025-05-14T16:10:30.445333Z",
     "shell.execute_reply": "2025-05-14T16:10:30.444933Z"
    },
    "papermill": {
     "duration": 0.01651,
     "end_time": "2025-05-14T16:10:30.446184",
     "exception": false,
     "start_time": "2025-05-14T16:10:30.429674",
     "status": "completed"
    },
    "tags": []
   },
   "outputs": [
    {
     "name": "stdout",
     "output_type": "stream",
     "text": [
      "['ENSG00000111275' 'ENSG00000072958' 'ENSG00000099624' 'ENSG00000167863'\n",
      " 'ENSG00000185883' 'ENSG00000176788' 'ENSG00000069399' 'ENSG00000214212'\n",
      " 'ENSG00000182985' 'ENSG00000184451' 'ENSG00000139193' 'ENSG00000135404'\n",
      " 'ENSG00000114013' 'ENSG00000124762' 'ENSG00000197766' 'ENSG00000013297'\n",
      " 'ENSG00000169583' 'ENSG00000162368' 'ENSG00000213145' 'ENSG00000101439'\n",
      " 'ENSG00000117984' 'ENSG00000186810' 'ENSG00000121966' 'ENSG00000051523'\n",
      " 'ENSG00000088986' 'ENSG00000254772' 'ENSG00000142227' 'ENSG00000189283'\n",
      " 'ENSG00000134285' 'ENSG00000170345' 'ENSG00000177885' 'ENSG00000084207'\n",
      " 'ENSG00000136732' 'ENSG00000184897' 'ENSG00000197061' 'ENSG00000051108'\n",
      " 'ENSG00000234745' 'ENSG00000204525' 'ENSG00000196735' 'ENSG00000237541'\n",
      " 'ENSG00000179344' 'ENSG00000198502' 'ENSG00000108622' 'ENSG00000076662'\n",
      " 'ENSG00000165949' 'ENSG00000216490' 'ENSG00000137959' 'ENSG00000126709'\n",
      " 'ENSG00000115267' 'ENSG00000185745' 'ENSG00000185885' 'ENSG00000159110'\n",
      " 'ENSG00000211895' 'ENSG00000211890' 'ENSG00000211896' 'ENSG00000211893'\n",
      " 'ENSG00000211897' 'ENSG00000211892' 'ENSG00000103522' 'ENSG00000137265'\n",
      " 'ENSG00000213928' 'ENSG00000150093' 'ENSG00000139626' 'ENSG00000135916'\n",
      " 'ENSG00000132465' 'ENSG00000177606' 'ENSG00000126214' 'ENSG00000127528'\n",
      " 'ENSG00000109787' 'ENSG00000100097' 'ENSG00000203896' 'ENSG00000204482'\n",
      " 'ENSG00000154589' 'ENSG00000090382' 'ENSG00000185022' 'ENSG00000277443'\n",
      " 'ENSG00000125148' 'ENSG00000157601' 'ENSG00000183486' 'ENSG00000152082'\n",
      " 'ENSG00000144802' 'ENSG00000243678' 'ENSG00000119655' 'ENSG00000089127'\n",
      " 'ENSG00000229474' 'ENSG00000163737' 'ENSG00000146278' 'ENSG00000057657'\n",
      " 'ENSG00000143333' 'ENSG00000219200' 'ENSG00000026297' 'ENSG00000136514'\n",
      " 'ENSG00000163221' 'ENSG00000143546' 'ENSG00000162512' 'ENSG00000150961'\n",
      " 'ENSG00000118515' 'ENSG00000135604' 'ENSG00000183508' 'ENSG00000105329'\n",
      " 'ENSG00000137801' 'ENSG00000163659' 'ENSG00000243749' 'ENSG00000102524'\n",
      " 'ENSG00000181029' 'ENSG00000025708' 'ENSG00000110057']\n"
     ]
    }
   ],
   "source": [
    "if SEED != 'all':\n",
    "    gene_subset = np.load(here(f'03_downstream_analysis/08_gene_importance/xgboost_external_validation/shap_gene_selection/gene_subsets_{N_GENES}/{CELL_TYPE}_{SEED}.npy'), allow_pickle=True)\n",
    "    train_adata = train_adata[:,gene_subset]\n",
    "    print(gene_subset)\n",
    "elif SEED == 'all':\n",
    "    print('Using all genes')\n",
    "else:\n",
    "    raise ValueError()"
   ]
  },
  {
   "cell_type": "code",
   "execution_count": 8,
   "id": "419eacd5",
   "metadata": {
    "execution": {
     "iopub.execute_input": "2025-05-14T16:10:30.464066Z",
     "iopub.status.busy": "2025-05-14T16:10:30.463736Z",
     "iopub.status.idle": "2025-05-14T16:10:30.466796Z",
     "shell.execute_reply": "2025-05-14T16:10:30.466444Z"
    },
    "papermill": {
     "duration": 0.015581,
     "end_time": "2025-05-14T16:10:30.467636",
     "exception": false,
     "start_time": "2025-05-14T16:10:30.452055",
     "status": "completed"
    },
    "tags": []
   },
   "outputs": [
    {
     "data": {
      "text/plain": [
       "(542, 107)"
      ]
     },
     "execution_count": 8,
     "metadata": {},
     "output_type": "execute_result"
    }
   ],
   "source": [
    "train_adata.shape"
   ]
  },
  {
   "cell_type": "code",
   "execution_count": 9,
   "id": "bf27863f",
   "metadata": {
    "execution": {
     "iopub.execute_input": "2025-05-14T16:10:30.480524Z",
     "iopub.status.busy": "2025-05-14T16:10:30.480266Z",
     "iopub.status.idle": "2025-05-14T16:10:30.483745Z",
     "shell.execute_reply": "2025-05-14T16:10:30.483379Z"
    },
    "papermill": {
     "duration": 0.011119,
     "end_time": "2025-05-14T16:10:30.484675",
     "exception": false,
     "start_time": "2025-05-14T16:10:30.473556",
     "status": "completed"
    },
    "tags": []
   },
   "outputs": [
    {
     "data": {
      "text/plain": [
       "['RA', 'COVID', 'healthy', 'HIV', 'cirrhosis', 'CD', 'SLE', 'sepsis']\n",
       "Categories (8, object): ['CD', 'COVID', 'HIV', 'RA', 'SLE', 'cirrhosis', 'healthy', 'sepsis']"
      ]
     },
     "execution_count": 9,
     "metadata": {},
     "output_type": "execute_result"
    }
   ],
   "source": [
    "train_adata.obs.disease.unique()"
   ]
  },
  {
   "cell_type": "code",
   "execution_count": 10,
   "id": "d5f070d1",
   "metadata": {
    "execution": {
     "iopub.execute_input": "2025-05-14T16:10:30.497651Z",
     "iopub.status.busy": "2025-05-14T16:10:30.497484Z",
     "iopub.status.idle": "2025-05-14T16:10:30.501078Z",
     "shell.execute_reply": "2025-05-14T16:10:30.500717Z"
    },
    "papermill": {
     "duration": 0.011303,
     "end_time": "2025-05-14T16:10:30.501907",
     "exception": false,
     "start_time": "2025-05-14T16:10:30.490604",
     "status": "completed"
    },
    "tags": []
   },
   "outputs": [
    {
     "data": {
      "text/plain": [
       "['SCGT00val_I0364_T0', 'SCGT00val_I036019_T0', 'SCGT00val_I036028_T0', 'SCGT00val_I036024_T0', 'SCGT00val_I036016_T0', ..., '10XGenomics_10XHC2_T0', '10XGenomics_10XHC3_T0', '10XGenomics_10XHC5_T0', '10XGenomics_10XHC7_T0', '10XGenomics_10XHC8_T0']\n",
       "Length: 74\n",
       "Categories (74, object): ['10XGenomics_10XHC1_T0', '10XGenomics_10XHC2_T0', '10XGenomics_10XHC3_T0', '10XGenomics_10XHC4_T0', ..., 'Savage2021_BRISL6_T0', 'Savage2021_BRISL7_T0', 'Savage2021_PIDA_T0', 'Savage2021_PIDB_T0']"
      ]
     },
     "execution_count": 10,
     "metadata": {},
     "output_type": "execute_result"
    }
   ],
   "source": [
    "train_adata.obs.sampleID.unique()"
   ]
  },
  {
   "cell_type": "code",
   "execution_count": 11,
   "id": "0a5a6c9e",
   "metadata": {
    "execution": {
     "iopub.execute_input": "2025-05-14T16:10:30.515569Z",
     "iopub.status.busy": "2025-05-14T16:10:30.515435Z",
     "iopub.status.idle": "2025-05-14T16:10:30.543101Z",
     "shell.execute_reply": "2025-05-14T16:10:30.542730Z"
    },
    "papermill": {
     "duration": 0.035442,
     "end_time": "2025-05-14T16:10:30.543999",
     "exception": false,
     "start_time": "2025-05-14T16:10:30.508557",
     "status": "completed"
    },
    "tags": []
   },
   "outputs": [],
   "source": [
    "all_idxs = np.arange(train_adata.obs.shape[0])\n",
    "left_out_splits = [s[1] for s in StratifiedGroupKFold(n_splits=N_SPLITS).split(all_idxs, train_adata.obs.disease, train_adata.obs.sampleID)]"
   ]
  },
  {
   "cell_type": "code",
   "execution_count": 12,
   "id": "09b127da",
   "metadata": {
    "execution": {
     "iopub.execute_input": "2025-05-14T16:10:30.558029Z",
     "iopub.status.busy": "2025-05-14T16:10:30.557706Z",
     "iopub.status.idle": "2025-05-14T16:10:30.560962Z",
     "shell.execute_reply": "2025-05-14T16:10:30.560609Z"
    },
    "papermill": {
     "duration": 0.010563,
     "end_time": "2025-05-14T16:10:30.561736",
     "exception": false,
     "start_time": "2025-05-14T16:10:30.551173",
     "status": "completed"
    },
    "tags": []
   },
   "outputs": [
    {
     "data": {
      "text/plain": [
       "([2, 3, 4], 1, 0)"
      ]
     },
     "execution_count": 12,
     "metadata": {},
     "output_type": "execute_result"
    }
   ],
   "source": [
    "TRAIN_SPLIT_IDXS = [0,1,2,3,4]\n",
    "VAL_SPLIT_IDX = (TEST_SPLIT_IDX + 1) % 5\n",
    "TRAIN_SPLIT_IDXS.remove(TEST_SPLIT_IDX)\n",
    "TRAIN_SPLIT_IDXS.remove(VAL_SPLIT_IDX)\n",
    "TRAIN_SPLIT_IDXS, VAL_SPLIT_IDX, TEST_SPLIT_IDX"
   ]
  },
  {
   "cell_type": "code",
   "execution_count": 13,
   "id": "c5a6dc85",
   "metadata": {
    "execution": {
     "iopub.execute_input": "2025-05-14T16:10:30.575816Z",
     "iopub.status.busy": "2025-05-14T16:10:30.575475Z",
     "iopub.status.idle": "2025-05-14T16:10:30.578127Z",
     "shell.execute_reply": "2025-05-14T16:10:30.577761Z"
    },
    "papermill": {
     "duration": 0.010569,
     "end_time": "2025-05-14T16:10:30.578894",
     "exception": false,
     "start_time": "2025-05-14T16:10:30.568325",
     "status": "completed"
    },
    "tags": []
   },
   "outputs": [],
   "source": [
    "train_idxs = np.concatenate([left_out_splits[idx] for idx in TRAIN_SPLIT_IDXS])\n",
    "val_idxs = left_out_splits[VAL_SPLIT_IDX]\n",
    "test_idxs = left_out_splits[TEST_SPLIT_IDX]"
   ]
  },
  {
   "cell_type": "markdown",
   "id": "e3a2476f",
   "metadata": {
    "papermill": {
     "duration": 0.010699,
     "end_time": "2025-05-14T16:10:30.602958",
     "exception": false,
     "start_time": "2025-05-14T16:10:30.592259",
     "status": "completed"
    },
    "tags": []
   },
   "source": [
    "### SUBSET DATASET INTO TRAIN/TEST/VAL SPLITS"
   ]
  },
  {
   "cell_type": "code",
   "execution_count": 14,
   "id": "56194834",
   "metadata": {
    "execution": {
     "iopub.execute_input": "2025-05-14T16:10:30.626383Z",
     "iopub.status.busy": "2025-05-14T16:10:30.626161Z",
     "iopub.status.idle": "2025-05-14T16:10:30.631955Z",
     "shell.execute_reply": "2025-05-14T16:10:30.631608Z"
    },
    "papermill": {
     "duration": 0.023688,
     "end_time": "2025-05-14T16:10:30.632782",
     "exception": false,
     "start_time": "2025-05-14T16:10:30.609094",
     "status": "completed"
    },
    "tags": []
   },
   "outputs": [
    {
     "data": {
      "text/plain": [
       "((317, 107), (118, 107), (107, 107))"
      ]
     },
     "execution_count": 14,
     "metadata": {},
     "output_type": "execute_result"
    }
   ],
   "source": [
    "X_train = train_adata.X[train_idxs]\n",
    "X_test = train_adata.X[test_idxs]\n",
    "X_val = train_adata.X[val_idxs]\n",
    "X_train.shape, X_test.shape, X_val.shape"
   ]
  },
  {
   "cell_type": "code",
   "execution_count": 15,
   "id": "a79dd96c",
   "metadata": {
    "execution": {
     "iopub.execute_input": "2025-05-14T16:10:30.646876Z",
     "iopub.status.busy": "2025-05-14T16:10:30.646541Z",
     "iopub.status.idle": "2025-05-14T16:10:30.651238Z",
     "shell.execute_reply": "2025-05-14T16:10:30.650889Z"
    },
    "papermill": {
     "duration": 0.012748,
     "end_time": "2025-05-14T16:10:30.652091",
     "exception": false,
     "start_time": "2025-05-14T16:10:30.639343",
     "status": "completed"
    },
    "tags": []
   },
   "outputs": [
    {
     "data": {
      "text/plain": [
       "((317,), (118,), (107,))"
      ]
     },
     "execution_count": 15,
     "metadata": {},
     "output_type": "execute_result"
    }
   ],
   "source": [
    "y_train = train_adata.obs.iloc[train_idxs].disease.values.astype(str)\n",
    "y_test = train_adata.obs.iloc[test_idxs].disease.values.astype(str)\n",
    "y_val = train_adata.obs.iloc[val_idxs].disease.values.astype(str)\n",
    "y_train.shape, y_test.shape, y_val.shape"
   ]
  },
  {
   "cell_type": "code",
   "execution_count": 16,
   "id": "be291f95",
   "metadata": {
    "execution": {
     "iopub.execute_input": "2025-05-14T16:10:30.666074Z",
     "iopub.status.busy": "2025-05-14T16:10:30.665717Z",
     "iopub.status.idle": "2025-05-14T16:10:30.668604Z",
     "shell.execute_reply": "2025-05-14T16:10:30.668242Z"
    },
    "papermill": {
     "duration": 0.01162,
     "end_time": "2025-05-14T16:10:30.669955",
     "exception": false,
     "start_time": "2025-05-14T16:10:30.658335",
     "status": "completed"
    },
    "tags": []
   },
   "outputs": [],
   "source": [
    "lenc = LabelEncoder()\n",
    "y_train_enc = lenc.fit_transform(y_train)\n",
    "y_val_enc = lenc.transform(y_val)\n",
    "y_test_enc = lenc.transform(y_test)"
   ]
  },
  {
   "cell_type": "markdown",
   "id": "cd4dd2ba",
   "metadata": {
    "papermill": {
     "duration": 0.006524,
     "end_time": "2025-05-14T16:10:30.682744",
     "exception": false,
     "start_time": "2025-05-14T16:10:30.676220",
     "status": "completed"
    },
    "tags": []
   },
   "source": [
    "### GENERATE F1 "
   ]
  },
  {
   "cell_type": "code",
   "execution_count": 17,
   "id": "c9a7e7ec",
   "metadata": {
    "execution": {
     "iopub.execute_input": "2025-05-14T16:10:30.697819Z",
     "iopub.status.busy": "2025-05-14T16:10:30.697496Z",
     "iopub.status.idle": "2025-05-14T16:10:30.700146Z",
     "shell.execute_reply": "2025-05-14T16:10:30.699747Z"
    },
    "papermill": {
     "duration": 0.011697,
     "end_time": "2025-05-14T16:10:30.700977",
     "exception": false,
     "start_time": "2025-05-14T16:10:30.689280",
     "status": "completed"
    },
    "tags": []
   },
   "outputs": [],
   "source": [
    "def custom_f1_score(y_true, y_pred):\n",
    "    return -f1_score(y_true, y_pred.argmax(1), average='weighted')"
   ]
  },
  {
   "cell_type": "code",
   "execution_count": 18,
   "id": "ad935515",
   "metadata": {
    "execution": {
     "iopub.execute_input": "2025-05-14T16:10:30.803486Z",
     "iopub.status.busy": "2025-05-14T16:10:30.803315Z",
     "iopub.status.idle": "2025-05-14T16:10:30.807404Z",
     "shell.execute_reply": "2025-05-14T16:10:30.807012Z"
    },
    "papermill": {
     "duration": 0.0114,
     "end_time": "2025-05-14T16:10:30.808241",
     "exception": false,
     "start_time": "2025-05-14T16:10:30.796841",
     "status": "completed"
    },
    "tags": []
   },
   "outputs": [],
   "source": [
    "eval_metric=custom_f1_score\n",
    "eval_metric_name='custom_f1_score'\n",
    "\n",
    "def objective(trial):\n",
    "    params = {\n",
    "        'n_estimators': 1500,\n",
    "        'max_depth': trial.suggest_int('max_depth', 3, 20),\n",
    "        'min_child_weight': trial.suggest_int('min_child_weight', 1, 250),\n",
    "        'subsample': trial.suggest_float('subsample', 0.1, 1.0),\n",
    "        'colsample_bynode': trial.suggest_float('colsample_bynode', 0.1, 1.0),\n",
    "        'learning_rate': trial.suggest_float('learning_rate', 1e-3, 5e-1, log=True),\n",
    "    }\n",
    "    pruning_callback = optuna.integration.XGBoostPruningCallback(trial, f'validation_0-{eval_metric_name}')\n",
    "    es_callback = xgboost.callback.EarlyStopping(20, min_delta=0.001)\n",
    "    xgb = xgboost.XGBClassifier(\n",
    "        eval_metric=eval_metric,\n",
    "        callbacks=[pruning_callback, es_callback],\n",
    "        n_jobs=5,\n",
    "        **params\n",
    "    )\n",
    "    xgb.fit(\n",
    "        X_train, \n",
    "        y_train_enc, \n",
    "        verbose=0,\n",
    "        eval_set=[(X_val, y_val_enc)],\n",
    "    )\n",
    "    trial.set_user_attr('best_iteration', xgb.best_iteration)\n",
    "\n",
    "    return xgb.best_score"
   ]
  },
  {
   "cell_type": "code",
   "execution_count": 19,
   "id": "67626fcd",
   "metadata": {
    "execution": {
     "iopub.execute_input": "2025-05-14T16:10:30.821308Z",
     "iopub.status.busy": "2025-05-14T16:10:30.821079Z",
     "iopub.status.idle": "2025-05-14T16:10:40.457252Z",
     "shell.execute_reply": "2025-05-14T16:10:40.456842Z"
    },
    "papermill": {
     "duration": 9.643959,
     "end_time": "2025-05-14T16:10:40.458180",
     "exception": false,
     "start_time": "2025-05-14T16:10:30.814221",
     "status": "completed"
    },
    "scrolled": true,
    "tags": []
   },
   "outputs": [
    {
     "name": "stderr",
     "output_type": "stream",
     "text": [
      "[I 2025-05-14 18:10:30,823] A new study created in memory with name: no-name-63c57b79-a940-4871-bf54-6a5301aa134b\n"
     ]
    },
    {
     "name": "stderr",
     "output_type": "stream",
     "text": [
      "[I 2025-05-14 18:10:30,884] Trial 0 finished with value: -0.019167 and parameters: {'max_depth': 9, 'min_child_weight': 238, 'subsample': 0.7587945476302645, 'colsample_bynode': 0.6387926357773329, 'learning_rate': 0.0026368755339723046}. Best is trial 0 with value: -0.019167.\n"
     ]
    },
    {
     "name": "stderr",
     "output_type": "stream",
     "text": [
      "[I 2025-05-14 18:10:31,491] Trial 1 finished with value: -0.686349 and parameters: {'max_depth': 5, 'min_child_weight': 15, 'subsample': 0.8795585311974417, 'colsample_bynode': 0.6410035105688879, 'learning_rate': 0.08148293210105287}. Best is trial 1 with value: -0.686349.\n"
     ]
    },
    {
     "name": "stderr",
     "output_type": "stream",
     "text": [
      "[I 2025-05-14 18:10:31,615] Trial 2 finished with value: -0.019167 and parameters: {'max_depth': 3, 'min_child_weight': 243, 'subsample': 0.8491983767203796, 'colsample_bynode': 0.29110519961044856, 'learning_rate': 0.003095566460242371}. Best is trial 1 with value: -0.686349.\n"
     ]
    },
    {
     "name": "stderr",
     "output_type": "stream",
     "text": [
      "[I 2025-05-14 18:10:31,740] Trial 3 finished with value: -0.019167 and parameters: {'max_depth': 6, 'min_child_weight': 77, 'subsample': 0.5722807884690141, 'colsample_bynode': 0.48875051677790415, 'learning_rate': 0.006109683510122491}. Best is trial 1 with value: -0.686349.\n"
     ]
    },
    {
     "name": "stderr",
     "output_type": "stream",
     "text": [
      "[I 2025-05-14 18:10:31,862] Trial 4 finished with value: -0.019167 and parameters: {'max_depth': 14, 'min_child_weight': 35, 'subsample': 0.3629301836816964, 'colsample_bynode': 0.4297256589643226, 'learning_rate': 0.01701841881702917}. Best is trial 1 with value: -0.686349.\n"
     ]
    },
    {
     "name": "stderr",
     "output_type": "stream",
     "text": [
      "[I 2025-05-14 18:10:31,990] Trial 5 finished with value: -0.019167 and parameters: {'max_depth': 17, 'min_child_weight': 50, 'subsample': 0.5628109945722505, 'colsample_bynode': 0.6331731119758383, 'learning_rate': 0.0013346527038305934}. Best is trial 1 with value: -0.686349.\n"
     ]
    },
    {
     "name": "stderr",
     "output_type": "stream",
     "text": [
      "[I 2025-05-14 18:10:32,121] Trial 6 finished with value: -0.019167 and parameters: {'max_depth': 13, 'min_child_weight': 43, 'subsample': 0.1585464336867516, 'colsample_bynode': 0.9539969835279999, 'learning_rate': 0.4038423798071558}. Best is trial 1 with value: -0.686349.\n"
     ]
    },
    {
     "name": "stderr",
     "output_type": "stream",
     "text": [
      "[I 2025-05-14 18:10:32,248] Trial 7 finished with value: -0.019167 and parameters: {'max_depth': 17, 'min_child_weight': 77, 'subsample': 0.1879049026057455, 'colsample_bynode': 0.7158097238609412, 'learning_rate': 0.015415527060141935}. Best is trial 1 with value: -0.686349.\n"
     ]
    },
    {
     "name": "stderr",
     "output_type": "stream",
     "text": [
      "[I 2025-05-14 18:10:32,377] Trial 8 finished with value: -0.019167 and parameters: {'max_depth': 5, 'min_child_weight': 124, 'subsample': 0.13094966900369656, 'colsample_bynode': 0.9183883618709039, 'learning_rate': 0.004993895014755658}. Best is trial 1 with value: -0.686349.\n"
     ]
    },
    {
     "name": "stderr",
     "output_type": "stream",
     "text": [
      "[I 2025-05-14 18:10:32,504] Trial 9 finished with value: -0.019167 and parameters: {'max_depth': 14, 'min_child_weight': 78, 'subsample': 0.5680612190600297, 'colsample_bynode': 0.5920392514089517, 'learning_rate': 0.0031543990308330965}. Best is trial 1 with value: -0.686349.\n"
     ]
    },
    {
     "name": "stderr",
     "output_type": "stream",
     "text": [
      "[I 2025-05-14 18:10:32,916] Trial 10 finished with value: -0.731691 and parameters: {'max_depth': 9, 'min_child_weight': 2, 'subsample': 0.9725833997090791, 'colsample_bynode': 0.11616568805333755, 'learning_rate': 0.17780618353487967}. Best is trial 10 with value: -0.731691.\n"
     ]
    },
    {
     "name": "stderr",
     "output_type": "stream",
     "text": [
      "[I 2025-05-14 18:10:33,300] Trial 11 finished with value: -0.69061 and parameters: {'max_depth': 9, 'min_child_weight': 4, 'subsample': 0.9818290990185045, 'colsample_bynode': 0.17702656156719, 'learning_rate': 0.11568531411766632}. Best is trial 10 with value: -0.731691.\n"
     ]
    },
    {
     "name": "stderr",
     "output_type": "stream",
     "text": [
      "[I 2025-05-14 18:10:33,560] Trial 12 pruned. Trial was pruned at iteration 21.\n"
     ]
    },
    {
     "name": "stderr",
     "output_type": "stream",
     "text": [
      "[I 2025-05-14 18:10:33,700] Trial 13 finished with value: -0.019167 and parameters: {'max_depth': 10, 'min_child_weight': 173, 'subsample': 0.9990589868255076, 'colsample_bynode': 0.10388397775802007, 'learning_rate': 0.08343244313100631}. Best is trial 10 with value: -0.731691.\n"
     ]
    },
    {
     "name": "stderr",
     "output_type": "stream",
     "text": [
      "[I 2025-05-14 18:10:33,839] Trial 14 finished with value: -0.019167 and parameters: {'max_depth': 7, 'min_child_weight': 132, 'subsample': 0.7251427075087294, 'colsample_bynode': 0.2827065087684573, 'learning_rate': 0.4477473783244542}. Best is trial 10 with value: -0.731691.\n"
     ]
    },
    {
     "name": "stderr",
     "output_type": "stream",
     "text": [
      "[I 2025-05-14 18:10:34,102] Trial 15 pruned. Trial was pruned at iteration 21.\n"
     ]
    },
    {
     "name": "stderr",
     "output_type": "stream",
     "text": [
      "[I 2025-05-14 18:10:34,244] Trial 16 finished with value: -0.019167 and parameters: {'max_depth': 11, 'min_child_weight': 125, 'subsample': 0.8815541734801864, 'colsample_bynode': 0.37074095931791284, 'learning_rate': 0.18961687234093502}. Best is trial 10 with value: -0.731691.\n"
     ]
    },
    {
     "name": "stderr",
     "output_type": "stream",
     "text": [
      "[I 2025-05-14 18:10:34,385] Trial 17 finished with value: -0.019167 and parameters: {'max_depth': 8, 'min_child_weight': 183, 'subsample': 0.38147523481218437, 'colsample_bynode': 0.18808734027794596, 'learning_rate': 0.0535465309609203}. Best is trial 10 with value: -0.731691.\n"
     ]
    },
    {
     "name": "stderr",
     "output_type": "stream",
     "text": [
      "[I 2025-05-14 18:10:34,537] Trial 18 pruned. Trial was pruned at iteration 21.\n"
     ]
    },
    {
     "name": "stderr",
     "output_type": "stream",
     "text": [
      "[I 2025-05-14 18:10:34,677] Trial 19 finished with value: -0.019167 and parameters: {'max_depth': 11, 'min_child_weight': 102, 'subsample': 0.9723428668438461, 'colsample_bynode': 0.3679418363674778, 'learning_rate': 0.03827773069548075}. Best is trial 10 with value: -0.731691.\n"
     ]
    },
    {
     "name": "stderr",
     "output_type": "stream",
     "text": [
      "[I 2025-05-14 18:10:34,816] Trial 20 finished with value: -0.019167 and parameters: {'max_depth': 7, 'min_child_weight': 60, 'subsample': 0.6596113500838445, 'colsample_bynode': 0.20927736326660645, 'learning_rate': 0.25272718592857407}. Best is trial 10 with value: -0.731691.\n"
     ]
    },
    {
     "name": "stderr",
     "output_type": "stream",
     "text": [
      "[I 2025-05-14 18:10:34,990] Trial 21 pruned. Trial was pruned at iteration 21.\n"
     ]
    },
    {
     "name": "stderr",
     "output_type": "stream",
     "text": [
      "[I 2025-05-14 18:10:35,169] Trial 22 pruned. Trial was pruned at iteration 21.\n"
     ]
    },
    {
     "name": "stderr",
     "output_type": "stream",
     "text": [
      "[I 2025-05-14 18:10:35,335] Trial 23 pruned. Trial was pruned at iteration 21.\n"
     ]
    },
    {
     "name": "stderr",
     "output_type": "stream",
     "text": [
      "[I 2025-05-14 18:10:35,622] Trial 24 pruned. Trial was pruned at iteration 23.\n"
     ]
    },
    {
     "name": "stderr",
     "output_type": "stream",
     "text": [
      "[I 2025-05-14 18:10:35,779] Trial 25 finished with value: -0.019167 and parameters: {'max_depth': 6, 'min_child_weight': 60, 'subsample': 0.6456116649072785, 'colsample_bynode': 0.8505437758796104, 'learning_rate': 0.281809190534241}. Best is trial 10 with value: -0.731691.\n"
     ]
    },
    {
     "name": "stderr",
     "output_type": "stream",
     "text": [
      "[I 2025-05-14 18:10:35,938] Trial 26 finished with value: -0.153245 and parameters: {'max_depth': 10, 'min_child_weight': 27, 'subsample': 0.4415145059632183, 'colsample_bynode': 0.5223114639733216, 'learning_rate': 0.0668037040487806}. Best is trial 10 with value: -0.731691.\n"
     ]
    },
    {
     "name": "stderr",
     "output_type": "stream",
     "text": [
      "[I 2025-05-14 18:10:36,097] Trial 27 finished with value: -0.019167 and parameters: {'max_depth': 8, 'min_child_weight': 104, 'subsample': 0.830994423789636, 'colsample_bynode': 0.6784889090373202, 'learning_rate': 0.1346978034114215}. Best is trial 10 with value: -0.731691.\n"
     ]
    },
    {
     "name": "stderr",
     "output_type": "stream",
     "text": [
      "[I 2025-05-14 18:10:36,253] Trial 28 finished with value: -0.019167 and parameters: {'max_depth': 6, 'min_child_weight': 202, 'subsample': 0.9213273744508348, 'colsample_bynode': 0.23166494645076852, 'learning_rate': 0.02490686433339173}. Best is trial 10 with value: -0.731691.\n"
     ]
    },
    {
     "name": "stderr",
     "output_type": "stream",
     "text": [
      "[I 2025-05-14 18:10:36,414] Trial 29 finished with value: -0.019167 and parameters: {'max_depth': 9, 'min_child_weight': 217, 'subsample': 0.7827787036528077, 'colsample_bynode': 0.5877091799618283, 'learning_rate': 0.010709004830646147}. Best is trial 10 with value: -0.731691.\n"
     ]
    },
    {
     "name": "stderr",
     "output_type": "stream",
     "text": [
      "[I 2025-05-14 18:10:36,572] Trial 30 finished with value: -0.019167 and parameters: {'max_depth': 4, 'min_child_weight': 150, 'subsample': 0.9906011688533779, 'colsample_bynode': 0.4395182436362797, 'learning_rate': 0.05681672104284709}. Best is trial 10 with value: -0.731691.\n"
     ]
    },
    {
     "name": "stderr",
     "output_type": "stream",
     "text": [
      "[I 2025-05-14 18:10:36,735] Trial 31 pruned. Trial was pruned at iteration 21.\n"
     ]
    },
    {
     "name": "stderr",
     "output_type": "stream",
     "text": [
      "[I 2025-05-14 18:10:36,893] Trial 32 finished with value: -0.153245 and parameters: {'max_depth': 10, 'min_child_weight': 31, 'subsample': 0.4731205629085496, 'colsample_bynode': 0.5230139344598618, 'learning_rate': 0.10546130795239268}. Best is trial 10 with value: -0.731691.\n"
     ]
    },
    {
     "name": "stderr",
     "output_type": "stream",
     "text": [
      "[I 2025-05-14 18:10:37,049] Trial 33 finished with value: -0.019167 and parameters: {'max_depth': 10, 'min_child_weight': 53, 'subsample': 0.2767856454257953, 'colsample_bynode': 0.16400089125689796, 'learning_rate': 0.1731875419129977}. Best is trial 10 with value: -0.731691.\n"
     ]
    },
    {
     "name": "stderr",
     "output_type": "stream",
     "text": [
      "[I 2025-05-14 18:10:37,218] Trial 34 pruned. Trial was pruned at iteration 21.\n"
     ]
    },
    {
     "name": "stderr",
     "output_type": "stream",
     "text": [
      "[I 2025-05-14 18:10:37,376] Trial 35 finished with value: -0.019167 and parameters: {'max_depth': 15, 'min_child_weight': 32, 'subsample': 0.30998064053558805, 'colsample_bynode': 0.4373181608565437, 'learning_rate': 0.045269381266846924}. Best is trial 10 with value: -0.731691.\n"
     ]
    },
    {
     "name": "stderr",
     "output_type": "stream",
     "text": [
      "[I 2025-05-14 18:10:37,533] Trial 36 finished with value: -0.019167 and parameters: {'max_depth': 13, 'min_child_weight': 78, 'subsample': 0.6455464340543567, 'colsample_bynode': 0.628542476293521, 'learning_rate': 0.07125212722960977}. Best is trial 10 with value: -0.731691.\n"
     ]
    },
    {
     "name": "stderr",
     "output_type": "stream",
     "text": [
      "[I 2025-05-14 18:10:37,685] Trial 37 finished with value: -0.153245 and parameters: {'max_depth': 10, 'min_child_weight': 46, 'subsample': 0.8630614191843066, 'colsample_bynode': 0.3268972335896002, 'learning_rate': 0.01542429408475207}. Best is trial 10 with value: -0.731691.\n"
     ]
    },
    {
     "name": "stderr",
     "output_type": "stream",
     "text": [
      "[I 2025-05-14 18:10:37,836] Trial 38 pruned. Trial was pruned at iteration 21.\n"
     ]
    },
    {
     "name": "stderr",
     "output_type": "stream",
     "text": [
      "[I 2025-05-14 18:10:37,990] Trial 39 finished with value: -0.019167 and parameters: {'max_depth': 5, 'min_child_weight': 97, 'subsample': 0.24599469295988852, 'colsample_bynode': 0.5537638020512118, 'learning_rate': 0.022553777724440546}. Best is trial 10 with value: -0.731691.\n"
     ]
    },
    {
     "name": "stderr",
     "output_type": "stream",
     "text": [
      "[I 2025-05-14 18:10:38,145] Trial 40 finished with value: -0.019167 and parameters: {'max_depth': 13, 'min_child_weight': 68, 'subsample': 0.9361576808439279, 'colsample_bynode': 0.6728080585901951, 'learning_rate': 0.11917062138613371}. Best is trial 10 with value: -0.731691.\n"
     ]
    },
    {
     "name": "stderr",
     "output_type": "stream",
     "text": [
      "[I 2025-05-14 18:10:38,302] Trial 41 pruned. Trial was pruned at iteration 21.\n"
     ]
    },
    {
     "name": "stderr",
     "output_type": "stream",
     "text": [
      "[I 2025-05-14 18:10:38,470] Trial 42 pruned. Trial was pruned at iteration 21.\n"
     ]
    },
    {
     "name": "stderr",
     "output_type": "stream",
     "text": [
      "[I 2025-05-14 18:10:38,625] Trial 43 pruned. Trial was pruned at iteration 21.\n"
     ]
    },
    {
     "name": "stderr",
     "output_type": "stream",
     "text": [
      "[I 2025-05-14 18:10:39,040] Trial 44 finished with value: -0.688197 and parameters: {'max_depth': 8, 'min_child_weight': 1, 'subsample': 0.5952062280587437, 'colsample_bynode': 0.5780566205750419, 'learning_rate': 0.3296064554022948}. Best is trial 10 with value: -0.731691.\n"
     ]
    },
    {
     "name": "stderr",
     "output_type": "stream",
     "text": [
      "[I 2025-05-14 18:10:39,390] Trial 45 finished with value: -0.690745 and parameters: {'max_depth': 8, 'min_child_weight': 1, 'subsample': 0.5993060885364823, 'colsample_bynode': 0.5619316959607701, 'learning_rate': 0.3820464996303266}. Best is trial 10 with value: -0.731691.\n"
     ]
    },
    {
     "name": "stderr",
     "output_type": "stream",
     "text": [
      "[I 2025-05-14 18:10:39,590] Trial 46 pruned. Trial was pruned at iteration 23.\n"
     ]
    },
    {
     "name": "stderr",
     "output_type": "stream",
     "text": [
      "[I 2025-05-14 18:10:39,889] Trial 47 pruned. Trial was pruned at iteration 21.\n"
     ]
    },
    {
     "name": "stderr",
     "output_type": "stream",
     "text": [
      "[I 2025-05-14 18:10:40,036] Trial 48 finished with value: -0.019167 and parameters: {'max_depth': 5, 'min_child_weight': 46, 'subsample': 0.5916042478746626, 'colsample_bynode': 0.5763972366362028, 'learning_rate': 0.22415225922007256}. Best is trial 10 with value: -0.731691.\n"
     ]
    },
    {
     "name": "stderr",
     "output_type": "stream",
     "text": [
      "[I 2025-05-14 18:10:40,384] Trial 49 pruned. Trial was pruned at iteration 24.\n"
     ]
    }
   ],
   "source": [
    "sampler = optuna.samplers.TPESampler(seed=42)\n",
    "study = optuna.create_study(direction='minimize', sampler=sampler)\n",
    "study.optimize(objective, n_trials=N_TRIALS, gc_after_trial=True)"
   ]
  },
  {
   "cell_type": "code",
   "execution_count": 20,
   "id": "b4524f7a",
   "metadata": {
    "execution": {
     "iopub.execute_input": "2025-05-14T16:10:40.478468Z",
     "iopub.status.busy": "2025-05-14T16:10:40.477982Z",
     "iopub.status.idle": "2025-05-14T16:10:40.541696Z",
     "shell.execute_reply": "2025-05-14T16:10:40.541382Z"
    },
    "papermill": {
     "duration": 0.073025,
     "end_time": "2025-05-14T16:10:40.542572",
     "exception": false,
     "start_time": "2025-05-14T16:10:40.469547",
     "status": "completed"
    },
    "tags": []
   },
   "outputs": [
    {
     "data": {
      "text/plain": [
       "['/scratch_isilon/groups/singlecell/shared/projects/Inflammation-PBMCs-Atlas/03_downstream_analysis/08_gene_importance/xgboost_external_validation/xgboost_TopN_genes/results_20/study/Plasma_shap_0_xgboost.pkl']"
      ]
     },
     "execution_count": 20,
     "metadata": {},
     "output_type": "execute_result"
    }
   ],
   "source": [
    "out_dir = here(f'03_downstream_analysis/08_gene_importance/xgboost_external_validation/xgboost_TopN_genes/results_{N_GENES}/study')\n",
    "\n",
    "if not os.path.exists(out_dir):\n",
    "    os.makedirs(out_dir)\n",
    "    \n",
    "joblib.dump(study,os.path.join(out_dir, f'{CELL_TYPE}_{SEED}_{TEST_SPLIT_IDX}_xgboost.pkl'))"
   ]
  },
  {
   "cell_type": "code",
   "execution_count": 21,
   "id": "f2850adb",
   "metadata": {
    "execution": {
     "iopub.execute_input": "2025-05-14T16:10:40.560303Z",
     "iopub.status.busy": "2025-05-14T16:10:40.560160Z",
     "iopub.status.idle": "2025-05-14T16:10:40.845399Z",
     "shell.execute_reply": "2025-05-14T16:10:40.845013Z"
    },
    "papermill": {
     "duration": 0.295931,
     "end_time": "2025-05-14T16:10:40.846453",
     "exception": false,
     "start_time": "2025-05-14T16:10:40.550522",
     "status": "completed"
    },
    "tags": []
   },
   "outputs": [
    {
     "data": {
      "text/html": [
       "<style>#sk-container-id-1 {\n",
       "  /* Definition of color scheme common for light and dark mode */\n",
       "  --sklearn-color-text: black;\n",
       "  --sklearn-color-line: gray;\n",
       "  /* Definition of color scheme for unfitted estimators */\n",
       "  --sklearn-color-unfitted-level-0: #fff5e6;\n",
       "  --sklearn-color-unfitted-level-1: #f6e4d2;\n",
       "  --sklearn-color-unfitted-level-2: #ffe0b3;\n",
       "  --sklearn-color-unfitted-level-3: chocolate;\n",
       "  /* Definition of color scheme for fitted estimators */\n",
       "  --sklearn-color-fitted-level-0: #f0f8ff;\n",
       "  --sklearn-color-fitted-level-1: #d4ebff;\n",
       "  --sklearn-color-fitted-level-2: #b3dbfd;\n",
       "  --sklearn-color-fitted-level-3: cornflowerblue;\n",
       "\n",
       "  /* Specific color for light theme */\n",
       "  --sklearn-color-text-on-default-background: var(--sg-text-color, var(--theme-code-foreground, var(--jp-content-font-color1, black)));\n",
       "  --sklearn-color-background: var(--sg-background-color, var(--theme-background, var(--jp-layout-color0, white)));\n",
       "  --sklearn-color-border-box: var(--sg-text-color, var(--theme-code-foreground, var(--jp-content-font-color1, black)));\n",
       "  --sklearn-color-icon: #696969;\n",
       "\n",
       "  @media (prefers-color-scheme: dark) {\n",
       "    /* Redefinition of color scheme for dark theme */\n",
       "    --sklearn-color-text-on-default-background: var(--sg-text-color, var(--theme-code-foreground, var(--jp-content-font-color1, white)));\n",
       "    --sklearn-color-background: var(--sg-background-color, var(--theme-background, var(--jp-layout-color0, #111)));\n",
       "    --sklearn-color-border-box: var(--sg-text-color, var(--theme-code-foreground, var(--jp-content-font-color1, white)));\n",
       "    --sklearn-color-icon: #878787;\n",
       "  }\n",
       "}\n",
       "\n",
       "#sk-container-id-1 {\n",
       "  color: var(--sklearn-color-text);\n",
       "}\n",
       "\n",
       "#sk-container-id-1 pre {\n",
       "  padding: 0;\n",
       "}\n",
       "\n",
       "#sk-container-id-1 input.sk-hidden--visually {\n",
       "  border: 0;\n",
       "  clip: rect(1px 1px 1px 1px);\n",
       "  clip: rect(1px, 1px, 1px, 1px);\n",
       "  height: 1px;\n",
       "  margin: -1px;\n",
       "  overflow: hidden;\n",
       "  padding: 0;\n",
       "  position: absolute;\n",
       "  width: 1px;\n",
       "}\n",
       "\n",
       "#sk-container-id-1 div.sk-dashed-wrapped {\n",
       "  border: 1px dashed var(--sklearn-color-line);\n",
       "  margin: 0 0.4em 0.5em 0.4em;\n",
       "  box-sizing: border-box;\n",
       "  padding-bottom: 0.4em;\n",
       "  background-color: var(--sklearn-color-background);\n",
       "}\n",
       "\n",
       "#sk-container-id-1 div.sk-container {\n",
       "  /* jupyter's `normalize.less` sets `[hidden] { display: none; }`\n",
       "     but bootstrap.min.css set `[hidden] { display: none !important; }`\n",
       "     so we also need the `!important` here to be able to override the\n",
       "     default hidden behavior on the sphinx rendered scikit-learn.org.\n",
       "     See: https://github.com/scikit-learn/scikit-learn/issues/21755 */\n",
       "  display: inline-block !important;\n",
       "  position: relative;\n",
       "}\n",
       "\n",
       "#sk-container-id-1 div.sk-text-repr-fallback {\n",
       "  display: none;\n",
       "}\n",
       "\n",
       "div.sk-parallel-item,\n",
       "div.sk-serial,\n",
       "div.sk-item {\n",
       "  /* draw centered vertical line to link estimators */\n",
       "  background-image: linear-gradient(var(--sklearn-color-text-on-default-background), var(--sklearn-color-text-on-default-background));\n",
       "  background-size: 2px 100%;\n",
       "  background-repeat: no-repeat;\n",
       "  background-position: center center;\n",
       "}\n",
       "\n",
       "/* Parallel-specific style estimator block */\n",
       "\n",
       "#sk-container-id-1 div.sk-parallel-item::after {\n",
       "  content: \"\";\n",
       "  width: 100%;\n",
       "  border-bottom: 2px solid var(--sklearn-color-text-on-default-background);\n",
       "  flex-grow: 1;\n",
       "}\n",
       "\n",
       "#sk-container-id-1 div.sk-parallel {\n",
       "  display: flex;\n",
       "  align-items: stretch;\n",
       "  justify-content: center;\n",
       "  background-color: var(--sklearn-color-background);\n",
       "  position: relative;\n",
       "}\n",
       "\n",
       "#sk-container-id-1 div.sk-parallel-item {\n",
       "  display: flex;\n",
       "  flex-direction: column;\n",
       "}\n",
       "\n",
       "#sk-container-id-1 div.sk-parallel-item:first-child::after {\n",
       "  align-self: flex-end;\n",
       "  width: 50%;\n",
       "}\n",
       "\n",
       "#sk-container-id-1 div.sk-parallel-item:last-child::after {\n",
       "  align-self: flex-start;\n",
       "  width: 50%;\n",
       "}\n",
       "\n",
       "#sk-container-id-1 div.sk-parallel-item:only-child::after {\n",
       "  width: 0;\n",
       "}\n",
       "\n",
       "/* Serial-specific style estimator block */\n",
       "\n",
       "#sk-container-id-1 div.sk-serial {\n",
       "  display: flex;\n",
       "  flex-direction: column;\n",
       "  align-items: center;\n",
       "  background-color: var(--sklearn-color-background);\n",
       "  padding-right: 1em;\n",
       "  padding-left: 1em;\n",
       "}\n",
       "\n",
       "\n",
       "/* Toggleable style: style used for estimator/Pipeline/ColumnTransformer box that is\n",
       "clickable and can be expanded/collapsed.\n",
       "- Pipeline and ColumnTransformer use this feature and define the default style\n",
       "- Estimators will overwrite some part of the style using the `sk-estimator` class\n",
       "*/\n",
       "\n",
       "/* Pipeline and ColumnTransformer style (default) */\n",
       "\n",
       "#sk-container-id-1 div.sk-toggleable {\n",
       "  /* Default theme specific background. It is overwritten whether we have a\n",
       "  specific estimator or a Pipeline/ColumnTransformer */\n",
       "  background-color: var(--sklearn-color-background);\n",
       "}\n",
       "\n",
       "/* Toggleable label */\n",
       "#sk-container-id-1 label.sk-toggleable__label {\n",
       "  cursor: pointer;\n",
       "  display: block;\n",
       "  width: 100%;\n",
       "  margin-bottom: 0;\n",
       "  padding: 0.5em;\n",
       "  box-sizing: border-box;\n",
       "  text-align: center;\n",
       "}\n",
       "\n",
       "#sk-container-id-1 label.sk-toggleable__label-arrow:before {\n",
       "  /* Arrow on the left of the label */\n",
       "  content: \"▸\";\n",
       "  float: left;\n",
       "  margin-right: 0.25em;\n",
       "  color: var(--sklearn-color-icon);\n",
       "}\n",
       "\n",
       "#sk-container-id-1 label.sk-toggleable__label-arrow:hover:before {\n",
       "  color: var(--sklearn-color-text);\n",
       "}\n",
       "\n",
       "/* Toggleable content - dropdown */\n",
       "\n",
       "#sk-container-id-1 div.sk-toggleable__content {\n",
       "  max-height: 0;\n",
       "  max-width: 0;\n",
       "  overflow: hidden;\n",
       "  text-align: left;\n",
       "  /* unfitted */\n",
       "  background-color: var(--sklearn-color-unfitted-level-0);\n",
       "}\n",
       "\n",
       "#sk-container-id-1 div.sk-toggleable__content.fitted {\n",
       "  /* fitted */\n",
       "  background-color: var(--sklearn-color-fitted-level-0);\n",
       "}\n",
       "\n",
       "#sk-container-id-1 div.sk-toggleable__content pre {\n",
       "  margin: 0.2em;\n",
       "  border-radius: 0.25em;\n",
       "  color: var(--sklearn-color-text);\n",
       "  /* unfitted */\n",
       "  background-color: var(--sklearn-color-unfitted-level-0);\n",
       "}\n",
       "\n",
       "#sk-container-id-1 div.sk-toggleable__content.fitted pre {\n",
       "  /* unfitted */\n",
       "  background-color: var(--sklearn-color-fitted-level-0);\n",
       "}\n",
       "\n",
       "#sk-container-id-1 input.sk-toggleable__control:checked~div.sk-toggleable__content {\n",
       "  /* Expand drop-down */\n",
       "  max-height: 200px;\n",
       "  max-width: 100%;\n",
       "  overflow: auto;\n",
       "}\n",
       "\n",
       "#sk-container-id-1 input.sk-toggleable__control:checked~label.sk-toggleable__label-arrow:before {\n",
       "  content: \"▾\";\n",
       "}\n",
       "\n",
       "/* Pipeline/ColumnTransformer-specific style */\n",
       "\n",
       "#sk-container-id-1 div.sk-label input.sk-toggleable__control:checked~label.sk-toggleable__label {\n",
       "  color: var(--sklearn-color-text);\n",
       "  background-color: var(--sklearn-color-unfitted-level-2);\n",
       "}\n",
       "\n",
       "#sk-container-id-1 div.sk-label.fitted input.sk-toggleable__control:checked~label.sk-toggleable__label {\n",
       "  background-color: var(--sklearn-color-fitted-level-2);\n",
       "}\n",
       "\n",
       "/* Estimator-specific style */\n",
       "\n",
       "/* Colorize estimator box */\n",
       "#sk-container-id-1 div.sk-estimator input.sk-toggleable__control:checked~label.sk-toggleable__label {\n",
       "  /* unfitted */\n",
       "  background-color: var(--sklearn-color-unfitted-level-2);\n",
       "}\n",
       "\n",
       "#sk-container-id-1 div.sk-estimator.fitted input.sk-toggleable__control:checked~label.sk-toggleable__label {\n",
       "  /* fitted */\n",
       "  background-color: var(--sklearn-color-fitted-level-2);\n",
       "}\n",
       "\n",
       "#sk-container-id-1 div.sk-label label.sk-toggleable__label,\n",
       "#sk-container-id-1 div.sk-label label {\n",
       "  /* The background is the default theme color */\n",
       "  color: var(--sklearn-color-text-on-default-background);\n",
       "}\n",
       "\n",
       "/* On hover, darken the color of the background */\n",
       "#sk-container-id-1 div.sk-label:hover label.sk-toggleable__label {\n",
       "  color: var(--sklearn-color-text);\n",
       "  background-color: var(--sklearn-color-unfitted-level-2);\n",
       "}\n",
       "\n",
       "/* Label box, darken color on hover, fitted */\n",
       "#sk-container-id-1 div.sk-label.fitted:hover label.sk-toggleable__label.fitted {\n",
       "  color: var(--sklearn-color-text);\n",
       "  background-color: var(--sklearn-color-fitted-level-2);\n",
       "}\n",
       "\n",
       "/* Estimator label */\n",
       "\n",
       "#sk-container-id-1 div.sk-label label {\n",
       "  font-family: monospace;\n",
       "  font-weight: bold;\n",
       "  display: inline-block;\n",
       "  line-height: 1.2em;\n",
       "}\n",
       "\n",
       "#sk-container-id-1 div.sk-label-container {\n",
       "  text-align: center;\n",
       "}\n",
       "\n",
       "/* Estimator-specific */\n",
       "#sk-container-id-1 div.sk-estimator {\n",
       "  font-family: monospace;\n",
       "  border: 1px dotted var(--sklearn-color-border-box);\n",
       "  border-radius: 0.25em;\n",
       "  box-sizing: border-box;\n",
       "  margin-bottom: 0.5em;\n",
       "  /* unfitted */\n",
       "  background-color: var(--sklearn-color-unfitted-level-0);\n",
       "}\n",
       "\n",
       "#sk-container-id-1 div.sk-estimator.fitted {\n",
       "  /* fitted */\n",
       "  background-color: var(--sklearn-color-fitted-level-0);\n",
       "}\n",
       "\n",
       "/* on hover */\n",
       "#sk-container-id-1 div.sk-estimator:hover {\n",
       "  /* unfitted */\n",
       "  background-color: var(--sklearn-color-unfitted-level-2);\n",
       "}\n",
       "\n",
       "#sk-container-id-1 div.sk-estimator.fitted:hover {\n",
       "  /* fitted */\n",
       "  background-color: var(--sklearn-color-fitted-level-2);\n",
       "}\n",
       "\n",
       "/* Specification for estimator info (e.g. \"i\" and \"?\") */\n",
       "\n",
       "/* Common style for \"i\" and \"?\" */\n",
       "\n",
       ".sk-estimator-doc-link,\n",
       "a:link.sk-estimator-doc-link,\n",
       "a:visited.sk-estimator-doc-link {\n",
       "  float: right;\n",
       "  font-size: smaller;\n",
       "  line-height: 1em;\n",
       "  font-family: monospace;\n",
       "  background-color: var(--sklearn-color-background);\n",
       "  border-radius: 1em;\n",
       "  height: 1em;\n",
       "  width: 1em;\n",
       "  text-decoration: none !important;\n",
       "  margin-left: 1ex;\n",
       "  /* unfitted */\n",
       "  border: var(--sklearn-color-unfitted-level-1) 1pt solid;\n",
       "  color: var(--sklearn-color-unfitted-level-1);\n",
       "}\n",
       "\n",
       ".sk-estimator-doc-link.fitted,\n",
       "a:link.sk-estimator-doc-link.fitted,\n",
       "a:visited.sk-estimator-doc-link.fitted {\n",
       "  /* fitted */\n",
       "  border: var(--sklearn-color-fitted-level-1) 1pt solid;\n",
       "  color: var(--sklearn-color-fitted-level-1);\n",
       "}\n",
       "\n",
       "/* On hover */\n",
       "div.sk-estimator:hover .sk-estimator-doc-link:hover,\n",
       ".sk-estimator-doc-link:hover,\n",
       "div.sk-label-container:hover .sk-estimator-doc-link:hover,\n",
       ".sk-estimator-doc-link:hover {\n",
       "  /* unfitted */\n",
       "  background-color: var(--sklearn-color-unfitted-level-3);\n",
       "  color: var(--sklearn-color-background);\n",
       "  text-decoration: none;\n",
       "}\n",
       "\n",
       "div.sk-estimator.fitted:hover .sk-estimator-doc-link.fitted:hover,\n",
       ".sk-estimator-doc-link.fitted:hover,\n",
       "div.sk-label-container:hover .sk-estimator-doc-link.fitted:hover,\n",
       ".sk-estimator-doc-link.fitted:hover {\n",
       "  /* fitted */\n",
       "  background-color: var(--sklearn-color-fitted-level-3);\n",
       "  color: var(--sklearn-color-background);\n",
       "  text-decoration: none;\n",
       "}\n",
       "\n",
       "/* Span, style for the box shown on hovering the info icon */\n",
       ".sk-estimator-doc-link span {\n",
       "  display: none;\n",
       "  z-index: 9999;\n",
       "  position: relative;\n",
       "  font-weight: normal;\n",
       "  right: .2ex;\n",
       "  padding: .5ex;\n",
       "  margin: .5ex;\n",
       "  width: min-content;\n",
       "  min-width: 20ex;\n",
       "  max-width: 50ex;\n",
       "  color: var(--sklearn-color-text);\n",
       "  box-shadow: 2pt 2pt 4pt #999;\n",
       "  /* unfitted */\n",
       "  background: var(--sklearn-color-unfitted-level-0);\n",
       "  border: .5pt solid var(--sklearn-color-unfitted-level-3);\n",
       "}\n",
       "\n",
       ".sk-estimator-doc-link.fitted span {\n",
       "  /* fitted */\n",
       "  background: var(--sklearn-color-fitted-level-0);\n",
       "  border: var(--sklearn-color-fitted-level-3);\n",
       "}\n",
       "\n",
       ".sk-estimator-doc-link:hover span {\n",
       "  display: block;\n",
       "}\n",
       "\n",
       "/* \"?\"-specific style due to the `<a>` HTML tag */\n",
       "\n",
       "#sk-container-id-1 a.estimator_doc_link {\n",
       "  float: right;\n",
       "  font-size: 1rem;\n",
       "  line-height: 1em;\n",
       "  font-family: monospace;\n",
       "  background-color: var(--sklearn-color-background);\n",
       "  border-radius: 1rem;\n",
       "  height: 1rem;\n",
       "  width: 1rem;\n",
       "  text-decoration: none;\n",
       "  /* unfitted */\n",
       "  color: var(--sklearn-color-unfitted-level-1);\n",
       "  border: var(--sklearn-color-unfitted-level-1) 1pt solid;\n",
       "}\n",
       "\n",
       "#sk-container-id-1 a.estimator_doc_link.fitted {\n",
       "  /* fitted */\n",
       "  border: var(--sklearn-color-fitted-level-1) 1pt solid;\n",
       "  color: var(--sklearn-color-fitted-level-1);\n",
       "}\n",
       "\n",
       "/* On hover */\n",
       "#sk-container-id-1 a.estimator_doc_link:hover {\n",
       "  /* unfitted */\n",
       "  background-color: var(--sklearn-color-unfitted-level-3);\n",
       "  color: var(--sklearn-color-background);\n",
       "  text-decoration: none;\n",
       "}\n",
       "\n",
       "#sk-container-id-1 a.estimator_doc_link.fitted:hover {\n",
       "  /* fitted */\n",
       "  background-color: var(--sklearn-color-fitted-level-3);\n",
       "}\n",
       "</style><div id=\"sk-container-id-1\" class=\"sk-top-container\"><div class=\"sk-text-repr-fallback\"><pre>XGBClassifier(base_score=None, booster=None, callbacks=None,\n",
       "              colsample_bylevel=None, colsample_bynode=0.11616568805333755,\n",
       "              colsample_bytree=None, device=None, early_stopping_rounds=None,\n",
       "              enable_categorical=False,\n",
       "              eval_metric=&lt;function custom_f1_score at 0x7f59900c0540&gt;,\n",
       "              feature_types=None, gamma=None, grow_policy=None,\n",
       "              importance_type=None, interaction_constraints=None,\n",
       "              learning_rate=0.17780618353487967, max_bin=None,\n",
       "              max_cat_threshold=None, max_cat_to_onehot=None,\n",
       "              max_delta_step=None, max_depth=9, max_leaves=None,\n",
       "              min_child_weight=2, missing=nan, monotone_constraints=None,\n",
       "              multi_strategy=None, n_estimators=38, n_jobs=None,\n",
       "              num_parallel_tree=None, objective=&#x27;multi:softprob&#x27;, ...)</pre><b>In a Jupyter environment, please rerun this cell to show the HTML representation or trust the notebook. <br />On GitHub, the HTML representation is unable to render, please try loading this page with nbviewer.org.</b></div><div class=\"sk-container\" hidden><div class=\"sk-item\"><div class=\"sk-estimator fitted sk-toggleable\"><input class=\"sk-toggleable__control sk-hidden--visually\" id=\"sk-estimator-id-1\" type=\"checkbox\" checked><label for=\"sk-estimator-id-1\" class=\"sk-toggleable__label fitted sk-toggleable__label-arrow fitted\">&nbsp;XGBClassifier<span class=\"sk-estimator-doc-link fitted\">i<span>Fitted</span></span></label><div class=\"sk-toggleable__content fitted\"><pre>XGBClassifier(base_score=None, booster=None, callbacks=None,\n",
       "              colsample_bylevel=None, colsample_bynode=0.11616568805333755,\n",
       "              colsample_bytree=None, device=None, early_stopping_rounds=None,\n",
       "              enable_categorical=False,\n",
       "              eval_metric=&lt;function custom_f1_score at 0x7f59900c0540&gt;,\n",
       "              feature_types=None, gamma=None, grow_policy=None,\n",
       "              importance_type=None, interaction_constraints=None,\n",
       "              learning_rate=0.17780618353487967, max_bin=None,\n",
       "              max_cat_threshold=None, max_cat_to_onehot=None,\n",
       "              max_delta_step=None, max_depth=9, max_leaves=None,\n",
       "              min_child_weight=2, missing=nan, monotone_constraints=None,\n",
       "              multi_strategy=None, n_estimators=38, n_jobs=None,\n",
       "              num_parallel_tree=None, objective=&#x27;multi:softprob&#x27;, ...)</pre></div> </div></div></div></div>"
      ],
      "text/plain": [
       "XGBClassifier(base_score=None, booster=None, callbacks=None,\n",
       "              colsample_bylevel=None, colsample_bynode=0.11616568805333755,\n",
       "              colsample_bytree=None, device=None, early_stopping_rounds=None,\n",
       "              enable_categorical=False,\n",
       "              eval_metric=<function custom_f1_score at 0x7f59900c0540>,\n",
       "              feature_types=None, gamma=None, grow_policy=None,\n",
       "              importance_type=None, interaction_constraints=None,\n",
       "              learning_rate=0.17780618353487967, max_bin=None,\n",
       "              max_cat_threshold=None, max_cat_to_onehot=None,\n",
       "              max_delta_step=None, max_depth=9, max_leaves=None,\n",
       "              min_child_weight=2, missing=nan, monotone_constraints=None,\n",
       "              multi_strategy=None, n_estimators=38, n_jobs=None,\n",
       "              num_parallel_tree=None, objective='multi:softprob', ...)"
      ]
     },
     "execution_count": 21,
     "metadata": {},
     "output_type": "execute_result"
    }
   ],
   "source": [
    "n_estimators = int(study.best_trial.user_attrs['best_iteration']*1.2)\n",
    "xgb = xgboost.XGBClassifier(\n",
    "        eval_metric=eval_metric,\n",
    "        n_estimators=n_estimators,\n",
    "        **study.best_trial.params\n",
    "    )\n",
    "xgb.fit(\n",
    "    ssp.vstack((X_train, X_val)), \n",
    "    np.concatenate((y_train_enc, y_val_enc)),\n",
    "    verbose=1,\n",
    ")"
   ]
  },
  {
   "cell_type": "code",
   "execution_count": 22,
   "id": "3254cd4a",
   "metadata": {
    "execution": {
     "iopub.execute_input": "2025-05-14T16:10:40.865081Z",
     "iopub.status.busy": "2025-05-14T16:10:40.864669Z",
     "iopub.status.idle": "2025-05-14T16:10:40.893728Z",
     "shell.execute_reply": "2025-05-14T16:10:40.893406Z"
    },
    "papermill": {
     "duration": 0.039401,
     "end_time": "2025-05-14T16:10:40.894642",
     "exception": false,
     "start_time": "2025-05-14T16:10:40.855241",
     "status": "completed"
    },
    "tags": []
   },
   "outputs": [
    {
     "data": {
      "text/plain": [
       "['/scratch_isilon/groups/singlecell/shared/projects/Inflammation-PBMCs-Atlas/03_downstream_analysis/08_gene_importance/xgboost_external_validation/xgboost_TopN_genes/results_20/best_model/Plasma_shap_0_xgb.json']"
      ]
     },
     "execution_count": 22,
     "metadata": {},
     "output_type": "execute_result"
    }
   ],
   "source": [
    "out_dir = here(f'03_downstream_analysis/08_gene_importance/xgboost_external_validation/xgboost_TopN_genes/results_{N_GENES}/best_model')\n",
    "\n",
    "if not os.path.exists(out_dir):\n",
    "    os.makedirs(out_dir)\n",
    "    \n",
    "joblib.dump(xgb, os.path.join(out_dir, f'{CELL_TYPE}_{SEED}_{TEST_SPLIT_IDX}_xgb.json'))"
   ]
  },
  {
   "cell_type": "code",
   "execution_count": 23,
   "id": "9cc9945d",
   "metadata": {
    "execution": {
     "iopub.execute_input": "2025-05-14T16:10:40.912897Z",
     "iopub.status.busy": "2025-05-14T16:10:40.912301Z",
     "iopub.status.idle": "2025-05-14T16:10:40.917631Z",
     "shell.execute_reply": "2025-05-14T16:10:40.917323Z"
    },
    "papermill": {
     "duration": 0.014959,
     "end_time": "2025-05-14T16:10:40.918460",
     "exception": false,
     "start_time": "2025-05-14T16:10:40.903501",
     "status": "completed"
    },
    "tags": []
   },
   "outputs": [],
   "source": [
    "df_pred_test = pd.DataFrame(dict(\n",
    "    cell_id=train_adata.obs.iloc[test_idxs].index.values,\n",
    "    y_true=y_test, \n",
    "    y_true_code=y_test_enc, \n",
    "    y_pred=xgb.predict(X_test))).set_index('cell_id')"
   ]
  },
  {
   "cell_type": "code",
   "execution_count": 24,
   "id": "0bc0fd5a",
   "metadata": {
    "execution": {
     "iopub.execute_input": "2025-05-14T16:10:40.953522Z",
     "iopub.status.busy": "2025-05-14T16:10:40.953216Z",
     "iopub.status.idle": "2025-05-14T16:10:41.009602Z",
     "shell.execute_reply": "2025-05-14T16:10:41.009283Z"
    },
    "papermill": {
     "duration": 0.066354,
     "end_time": "2025-05-14T16:10:41.010452",
     "exception": false,
     "start_time": "2025-05-14T16:10:40.944098",
     "status": "completed"
    },
    "tags": []
   },
   "outputs": [],
   "source": [
    "out_dir = here(f'03_downstream_analysis/08_gene_importance/xgboost_external_validation/xgboost_TopN_genes/results_{N_GENES}/predictions')\n",
    "\n",
    "if not os.path.exists(out_dir):\n",
    "    os.makedirs(out_dir)\n",
    "    \n",
    "df_pred_test.to_csv(os.path.join(out_dir, f'{CELL_TYPE}_{SEED}_{TEST_SPLIT_IDX}_pred_test.zip'))"
   ]
  },
  {
   "cell_type": "code",
   "execution_count": 25,
   "id": "f2d17f16",
   "metadata": {
    "execution": {
     "iopub.execute_input": "2025-05-14T16:10:41.028622Z",
     "iopub.status.busy": "2025-05-14T16:10:41.028474Z",
     "iopub.status.idle": "2025-05-14T16:10:41.035171Z",
     "shell.execute_reply": "2025-05-14T16:10:41.034883Z"
    },
    "papermill": {
     "duration": 0.016639,
     "end_time": "2025-05-14T16:10:41.035986",
     "exception": false,
     "start_time": "2025-05-14T16:10:41.019347",
     "status": "completed"
    },
    "tags": []
   },
   "outputs": [
    {
     "name": "stderr",
     "output_type": "stream",
     "text": [
      "/scratch_isilon/groups/singlecell/shared/conda_env/xgboost-cpu/lib/python3.12/site-packages/sklearn/metrics/_classification.py:2466: UserWarning: y_pred contains classes not in y_true\n",
      "  warnings.warn(\"y_pred contains classes not in y_true\")\n"
     ]
    }
   ],
   "source": [
    "metrics_dict = dict(\n",
    "    BAS=balanced_accuracy_score(y_true=df_pred_test.y_true_code, y_pred=df_pred_test.y_pred), WF1=f1_score(y_true=df_pred_test.y_true_code, y_pred=df_pred_test.y_pred,average='weighted'))"
   ]
  },
  {
   "cell_type": "code",
   "execution_count": 26,
   "id": "4d9aa1c1",
   "metadata": {
    "execution": {
     "iopub.execute_input": "2025-05-14T16:10:41.053691Z",
     "iopub.status.busy": "2025-05-14T16:10:41.053549Z",
     "iopub.status.idle": "2025-05-14T16:10:41.056317Z",
     "shell.execute_reply": "2025-05-14T16:10:41.056026Z"
    },
    "papermill": {
     "duration": 0.012427,
     "end_time": "2025-05-14T16:10:41.057261",
     "exception": false,
     "start_time": "2025-05-14T16:10:41.044834",
     "status": "completed"
    },
    "tags": []
   },
   "outputs": [
    {
     "data": {
      "text/plain": [
       "{'BAS': 0.8104128014842301, 'WF1': 0.7918168243589988}"
      ]
     },
     "execution_count": 26,
     "metadata": {},
     "output_type": "execute_result"
    }
   ],
   "source": [
    "metrics_dict"
   ]
  },
  {
   "cell_type": "code",
   "execution_count": 27,
   "id": "483ba062",
   "metadata": {
    "execution": {
     "iopub.execute_input": "2025-05-14T16:10:41.111564Z",
     "iopub.status.busy": "2025-05-14T16:10:41.111166Z",
     "iopub.status.idle": "2025-05-14T16:10:41.119271Z",
     "shell.execute_reply": "2025-05-14T16:10:41.118975Z"
    },
    "papermill": {
     "duration": 0.019645,
     "end_time": "2025-05-14T16:10:41.120068",
     "exception": false,
     "start_time": "2025-05-14T16:10:41.100423",
     "status": "completed"
    },
    "tags": []
   },
   "outputs": [
    {
     "data": {
      "text/html": [
       "<div>\n",
       "<style scoped>\n",
       "    .dataframe tbody tr th:only-of-type {\n",
       "        vertical-align: middle;\n",
       "    }\n",
       "\n",
       "    .dataframe tbody tr th {\n",
       "        vertical-align: top;\n",
       "    }\n",
       "\n",
       "    .dataframe thead th {\n",
       "        text-align: right;\n",
       "    }\n",
       "</style>\n",
       "<table border=\"1\" class=\"dataframe\">\n",
       "  <thead>\n",
       "    <tr style=\"text-align: right;\">\n",
       "      <th></th>\n",
       "      <th>BAS</th>\n",
       "      <th>WF1</th>\n",
       "      <th>split_idx</th>\n",
       "      <th>gene_set_seed</th>\n",
       "      <th>cell_type</th>\n",
       "    </tr>\n",
       "  </thead>\n",
       "  <tbody>\n",
       "    <tr>\n",
       "      <th>0</th>\n",
       "      <td>0.810413</td>\n",
       "      <td>0.791817</td>\n",
       "      <td>0</td>\n",
       "      <td>shap</td>\n",
       "      <td>Plasma</td>\n",
       "    </tr>\n",
       "  </tbody>\n",
       "</table>\n",
       "</div>"
      ],
      "text/plain": [
       "        BAS       WF1  split_idx gene_set_seed cell_type\n",
       "0  0.810413  0.791817          0          shap    Plasma"
      ]
     },
     "execution_count": 27,
     "metadata": {},
     "output_type": "execute_result"
    }
   ],
   "source": [
    "metrics_df = pd.DataFrame.from_dict([metrics_dict]).assign(split_idx=TEST_SPLIT_IDX, gene_set_seed=SEED, cell_type=CELL_TYPE)\n",
    "metrics_df"
   ]
  },
  {
   "cell_type": "code",
   "execution_count": 28,
   "id": "508f0798",
   "metadata": {
    "execution": {
     "iopub.execute_input": "2025-05-14T16:10:41.154248Z",
     "iopub.status.busy": "2025-05-14T16:10:41.153948Z",
     "iopub.status.idle": "2025-05-14T16:10:41.162433Z",
     "shell.execute_reply": "2025-05-14T16:10:41.162117Z"
    },
    "papermill": {
     "duration": 0.033803,
     "end_time": "2025-05-14T16:10:41.163245",
     "exception": false,
     "start_time": "2025-05-14T16:10:41.129442",
     "status": "completed"
    },
    "tags": []
   },
   "outputs": [],
   "source": [
    "out_dir = here(f'03_downstream_analysis/08_gene_importance/xgboost_external_validation/xgboost_TopN_genes/results_{N_GENES}/metrics')\n",
    "\n",
    "if not os.path.exists(out_dir):\n",
    "    os.makedirs(out_dir)\n",
    "    \n",
    "metrics_df.to_csv(os.path.join(out_dir, f'{CELL_TYPE}_{SEED}_{TEST_SPLIT_IDX}_metrics.zip'))"
   ]
  }
 ],
 "metadata": {
  "kernelspec": {
   "display_name": "Python 3 (ipykernel)",
   "language": "python",
   "name": "python3"
  },
  "language_info": {
   "codemirror_mode": {
    "name": "ipython",
    "version": 3
   },
   "file_extension": ".py",
   "mimetype": "text/x-python",
   "name": "python",
   "nbconvert_exporter": "python",
   "pygments_lexer": "ipython3",
   "version": "3.12.5"
  },
  "papermill": {
   "default_parameters": {},
   "duration": 14.351239,
   "end_time": "2025-05-14T16:10:41.688312",
   "environment_variables": {},
   "exception": null,
   "input_path": "02_xgboost_fitting_external_20genes.ipynb",
   "output_path": "results_20/executed_notebooks/xgboost_fitting_external_CT_Plasma_GS_shap_seed0.ipynb",
   "parameters": {
    "CELL_TYPE": "Plasma",
    "SEED": "shap",
    "TEST_SPLIT_IDX": 0
   },
   "start_time": "2025-05-14T16:10:27.337073",
   "version": "2.6.0"
  }
 },
 "nbformat": 4,
 "nbformat_minor": 5
}