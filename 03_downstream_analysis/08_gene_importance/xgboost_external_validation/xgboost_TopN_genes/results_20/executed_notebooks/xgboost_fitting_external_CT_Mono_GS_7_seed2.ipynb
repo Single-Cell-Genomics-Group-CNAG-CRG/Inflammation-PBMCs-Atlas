{
 "cells": [
  {
   "cell_type": "code",
   "execution_count": 1,
   "id": "91661298",
   "metadata": {
    "editable": true,
    "execution": {
     "iopub.execute_input": "2025-05-15T15:59:26.282419Z",
     "iopub.status.busy": "2025-05-15T15:59:26.281781Z",
     "iopub.status.idle": "2025-05-15T15:59:26.299660Z",
     "shell.execute_reply": "2025-05-15T15:59:26.299289Z"
    },
    "papermill": {
     "duration": 0.028547,
     "end_time": "2025-05-15T15:59:26.300806",
     "exception": false,
     "start_time": "2025-05-15T15:59:26.272259",
     "status": "completed"
    },
    "slideshow": {
     "slide_type": ""
    },
    "tags": [
     "parameters"
    ]
   },
   "outputs": [],
   "source": [
    "CELL_TYPE = 'pDC'\n",
    "N_GENES: int = 20\n",
    "SEED = 'shap_studyID' #'disease_NOstudy' 'study_NOdisease' or 'int' or 'shap_studyID'\n",
    "TEST_SPLIT_IDX: int = 1 #[0,4]"
   ]
  },
  {
   "cell_type": "code",
   "execution_count": 2,
   "id": "e89c0d6b",
   "metadata": {
    "execution": {
     "iopub.execute_input": "2025-05-15T15:59:26.400140Z",
     "iopub.status.busy": "2025-05-15T15:59:26.399715Z",
     "iopub.status.idle": "2025-05-15T15:59:26.402273Z",
     "shell.execute_reply": "2025-05-15T15:59:26.401943Z"
    },
    "papermill": {
     "duration": 0.015696,
     "end_time": "2025-05-15T15:59:26.403120",
     "exception": false,
     "start_time": "2025-05-15T15:59:26.387424",
     "status": "completed"
    },
    "tags": [
     "injected-parameters"
    ]
   },
   "outputs": [],
   "source": [
    "# Parameters\n",
    "CELL_TYPE = \"Mono\"\n",
    "SEED = 7\n",
    "TEST_SPLIT_IDX = 2\n"
   ]
  },
  {
   "cell_type": "code",
   "execution_count": 3,
   "id": "18c51efb",
   "metadata": {
    "execution": {
     "iopub.execute_input": "2025-05-15T15:59:26.435926Z",
     "iopub.status.busy": "2025-05-15T15:59:26.435610Z",
     "iopub.status.idle": "2025-05-15T15:59:26.437931Z",
     "shell.execute_reply": "2025-05-15T15:59:26.437637Z"
    },
    "papermill": {
     "duration": 0.026979,
     "end_time": "2025-05-15T15:59:26.438729",
     "exception": false,
     "start_time": "2025-05-15T15:59:26.411750",
     "status": "completed"
    },
    "tags": []
   },
   "outputs": [],
   "source": [
    "N_SPLITS: int = 5\n",
    "N_TRIALS: int = 50"
   ]
  },
  {
   "cell_type": "code",
   "execution_count": 4,
   "id": "13d8807a",
   "metadata": {
    "execution": {
     "iopub.execute_input": "2025-05-15T15:59:26.463053Z",
     "iopub.status.busy": "2025-05-15T15:59:26.462679Z",
     "iopub.status.idle": "2025-05-15T15:59:27.968509Z",
     "shell.execute_reply": "2025-05-15T15:59:27.967861Z"
    },
    "papermill": {
     "duration": 1.5253,
     "end_time": "2025-05-15T15:59:27.969867",
     "exception": false,
     "start_time": "2025-05-15T15:59:26.444567",
     "status": "completed"
    },
    "tags": []
   },
   "outputs": [],
   "source": [
    "import os\n",
    "import sys\n",
    "from pyprojroot.here import here\n",
    "import pandas as pd\n",
    "import anndata as ad\n",
    "import numpy as np\n",
    "import math\n",
    "from sklearn.model_selection import StratifiedGroupKFold\n",
    "from sklearn.preprocessing import LabelEncoder\n",
    "from sklearn.metrics import f1_score\n",
    "import matplotlib.pyplot as plt\n",
    "import seaborn as sns\n",
    "from itertools import product\n",
    "from sklearn.metrics import balanced_accuracy_score, f1_score\n",
    "import optuna\n",
    "\n",
    "import joblib\n",
    "import pickle\n",
    "import datetime\n",
    "\n",
    "import collections\n",
    "\n",
    "import xgboost\n",
    "from sklearn.preprocessing import LabelEncoder\n",
    "\n",
    "import scipy.sparse as ssp\n",
    "import joblib\n",
    "\n",
    "from dotenv import load_dotenv"
   ]
  },
  {
   "cell_type": "code",
   "execution_count": 5,
   "id": "528303a0",
   "metadata": {
    "execution": {
     "iopub.execute_input": "2025-05-15T15:59:28.007896Z",
     "iopub.status.busy": "2025-05-15T15:59:28.007469Z",
     "iopub.status.idle": "2025-05-15T15:59:28.013632Z",
     "shell.execute_reply": "2025-05-15T15:59:28.013307Z"
    },
    "papermill": {
     "duration": 0.014002,
     "end_time": "2025-05-15T15:59:28.014513",
     "exception": false,
     "start_time": "2025-05-15T15:59:28.000511",
     "status": "completed"
    },
    "tags": []
   },
   "outputs": [
    {
     "data": {
      "text/plain": [
       "True"
      ]
     },
     "execution_count": 5,
     "metadata": {},
     "output_type": "execute_result"
    }
   ],
   "source": [
    "load_dotenv()"
   ]
  },
  {
   "cell_type": "markdown",
   "id": "7f4ab4a1",
   "metadata": {
    "papermill": {
     "duration": 0.028369,
     "end_time": "2025-05-15T15:59:28.058356",
     "exception": false,
     "start_time": "2025-05-15T15:59:28.029987",
     "status": "completed"
    },
    "tags": []
   },
   "source": [
    "# LOAD DATASET"
   ]
  },
  {
   "cell_type": "code",
   "execution_count": 6,
   "id": "8b570fbf",
   "metadata": {
    "execution": {
     "iopub.execute_input": "2025-05-15T15:59:28.080708Z",
     "iopub.status.busy": "2025-05-15T15:59:28.080379Z",
     "iopub.status.idle": "2025-05-15T15:59:29.292783Z",
     "shell.execute_reply": "2025-05-15T15:59:29.292298Z"
    },
    "papermill": {
     "duration": 1.2297,
     "end_time": "2025-05-15T15:59:29.294102",
     "exception": false,
     "start_time": "2025-05-15T15:59:28.064402",
     "status": "completed"
    },
    "tags": []
   },
   "outputs": [],
   "source": [
    "train_adata = ad.read_h5ad(\n",
    "    here(f'03_downstream_analysis/08_gene_importance/xgboost_external_validation/xgboost_TopN_genes/data_cellTypes/EXTERNAL_{CELL_TYPE}.filtered.log1p.h5ad')\n",
    ")"
   ]
  },
  {
   "cell_type": "code",
   "execution_count": 7,
   "id": "4d7aa1a5",
   "metadata": {
    "execution": {
     "iopub.execute_input": "2025-05-15T15:59:29.315289Z",
     "iopub.status.busy": "2025-05-15T15:59:29.314886Z",
     "iopub.status.idle": "2025-05-15T15:59:29.349642Z",
     "shell.execute_reply": "2025-05-15T15:59:29.349248Z"
    },
    "papermill": {
     "duration": 0.049773,
     "end_time": "2025-05-15T15:59:29.350556",
     "exception": false,
     "start_time": "2025-05-15T15:59:29.300783",
     "status": "completed"
    },
    "tags": []
   },
   "outputs": [
    {
     "name": "stdout",
     "output_type": "stream",
     "text": [
      "['ENSG00000112561' 'ENSG00000183023' 'ENSG00000109787' 'ENSG00000131724'\n",
      " 'ENSG00000163563' 'ENSG00000113441' 'ENSG00000084207' 'ENSG00000167004'\n",
      " 'ENSG00000135503' 'ENSG00000204264' 'ENSG00000005339' 'ENSG00000100485'\n",
      " 'ENSG00000130066' 'ENSG00000129084' 'ENSG00000181631' 'ENSG00000183696'\n",
      " 'ENSG00000142166' 'ENSG00000179583' 'ENSG00000184752' 'ENSG00000135720'\n",
      " 'ENSG00000198223' 'ENSG00000124731' 'ENSG00000111275' 'ENSG00000163131'\n",
      " 'ENSG00000167863' 'ENSG00000143226' 'ENSG00000182117' 'ENSG00000127528'\n",
      " 'ENSG00000140379' 'ENSG00000147168' 'ENSG00000065978' 'ENSG00000104856'\n",
      " 'ENSG00000104763' 'ENSG00000156587' 'ENSG00000179218' 'ENSG00000085514'\n",
      " 'ENSG00000125743' 'ENSG00000089280' 'ENSG00000254087' 'ENSG00000197471'\n",
      " 'ENSG00000136156' 'ENSG00000168329' 'ENSG00000100079' 'ENSG00000155465'\n",
      " 'ENSG00000185291' 'ENSG00000204257' 'ENSG00000158769' 'ENSG00000122862'\n",
      " 'ENSG00000163513' 'ENSG00000197111' 'ENSG00000164104' 'ENSG00000196735'\n",
      " 'ENSG00000203747' 'ENSG00000135218' 'ENSG00000136732' 'ENSG00000132965'\n",
      " 'ENSG00000002586' 'ENSG00000185650' 'ENSG00000185950' 'ENSG00000116701'\n",
      " 'ENSG00000166847' 'ENSG00000166949' 'ENSG00000165140' 'ENSG00000240065'\n",
      " 'ENSG00000197746' 'ENSG00000026103' 'ENSG00000169442' 'ENSG00000110876'\n",
      " 'ENSG00000160213' 'ENSG00000030582' 'ENSG00000129757' 'ENSG00000161203'\n",
      " 'ENSG00000150337' 'ENSG00000170296' 'ENSG00000179344' 'ENSG00000185591'\n",
      " 'ENSG00000231389' 'ENSG00000008517' 'ENSG00000110077' 'ENSG00000277632'\n",
      " 'ENSG00000130830' 'ENSG00000104870' 'ENSG00000163931' 'ENSG00000104918'\n",
      " 'ENSG00000106952' 'ENSG00000138678' 'ENSG00000128340' 'ENSG00000169554'\n",
      " 'ENSG00000127184' 'ENSG00000138107' 'ENSG00000164543' 'ENSG00000143110'\n",
      " 'ENSG00000033800' 'ENSG00000175203' 'ENSG00000117984' 'ENSG00000158517'\n",
      " 'ENSG00000110203' 'ENSG00000164307' 'ENSG00000120738' 'ENSG00000152778'\n",
      " 'ENSG00000163823' 'ENSG00000139289' 'ENSG00000161642' 'ENSG00000197329'\n",
      " 'ENSG00000078043' 'ENSG00000127314' 'ENSG00000109861' 'ENSG00000028137'\n",
      " 'ENSG00000101017' 'ENSG00000100365' 'ENSG00000275302' 'ENSG00000197747'\n",
      " 'ENSG00000169403' 'ENSG00000143119']\n"
     ]
    }
   ],
   "source": [
    "if SEED != 'all':\n",
    "    gene_subset = np.load(here(f'03_downstream_analysis/08_gene_importance/xgboost_external_validation/shap_gene_selection/gene_subsets_{N_GENES}/{CELL_TYPE}_{SEED}.npy'), allow_pickle=True)\n",
    "    train_adata = train_adata[:,gene_subset]\n",
    "    print(gene_subset)\n",
    "elif SEED == 'all':\n",
    "    print('Using all genes')\n",
    "else:\n",
    "    raise ValueError()"
   ]
  },
  {
   "cell_type": "code",
   "execution_count": 8,
   "id": "b5c6f469",
   "metadata": {
    "execution": {
     "iopub.execute_input": "2025-05-15T15:59:29.374691Z",
     "iopub.status.busy": "2025-05-15T15:59:29.374228Z",
     "iopub.status.idle": "2025-05-15T15:59:29.377544Z",
     "shell.execute_reply": "2025-05-15T15:59:29.377250Z"
    },
    "papermill": {
     "duration": 0.020079,
     "end_time": "2025-05-15T15:59:29.378359",
     "exception": false,
     "start_time": "2025-05-15T15:59:29.358280",
     "status": "completed"
    },
    "tags": []
   },
   "outputs": [
    {
     "data": {
      "text/plain": [
       "(137435, 114)"
      ]
     },
     "execution_count": 8,
     "metadata": {},
     "output_type": "execute_result"
    }
   ],
   "source": [
    "train_adata.shape"
   ]
  },
  {
   "cell_type": "code",
   "execution_count": 9,
   "id": "0239ee89",
   "metadata": {
    "execution": {
     "iopub.execute_input": "2025-05-15T15:59:29.413663Z",
     "iopub.status.busy": "2025-05-15T15:59:29.413405Z",
     "iopub.status.idle": "2025-05-15T15:59:29.417427Z",
     "shell.execute_reply": "2025-05-15T15:59:29.417128Z"
    },
    "papermill": {
     "duration": 0.018684,
     "end_time": "2025-05-15T15:59:29.418244",
     "exception": false,
     "start_time": "2025-05-15T15:59:29.399560",
     "status": "completed"
    },
    "tags": []
   },
   "outputs": [
    {
     "data": {
      "text/plain": [
       "['RA', 'healthy', 'COVID', 'HIV', 'cirrhosis', 'CD', 'SLE', 'sepsis']\n",
       "Categories (8, object): ['CD', 'COVID', 'HIV', 'RA', 'SLE', 'cirrhosis', 'healthy', 'sepsis']"
      ]
     },
     "execution_count": 9,
     "metadata": {},
     "output_type": "execute_result"
    }
   ],
   "source": [
    "train_adata.obs.disease.unique()"
   ]
  },
  {
   "cell_type": "code",
   "execution_count": 10,
   "id": "b90debba",
   "metadata": {
    "execution": {
     "iopub.execute_input": "2025-05-15T15:59:29.435702Z",
     "iopub.status.busy": "2025-05-15T15:59:29.435312Z",
     "iopub.status.idle": "2025-05-15T15:59:29.439409Z",
     "shell.execute_reply": "2025-05-15T15:59:29.439102Z"
    },
    "papermill": {
     "duration": 0.011769,
     "end_time": "2025-05-15T15:59:29.440251",
     "exception": false,
     "start_time": "2025-05-15T15:59:29.428482",
     "status": "completed"
    },
    "tags": []
   },
   "outputs": [
    {
     "data": {
      "text/plain": [
       "['SCGT00val_I0364_T0', 'SCGT00val_I036028_T0', 'SCGT00val_I036024_T0', 'SCGT00val_I036023_T0', 'SCGT00val_I036019_T0', ..., '10XGenomics_10XHC2_T0', '10XGenomics_10XHC3_T0', '10XGenomics_10XHC5_T0', '10XGenomics_10XHC7_T0', '10XGenomics_10XHC8_T0']\n",
       "Length: 86\n",
       "Categories (86, object): ['10XGenomics_10XHC1_T0', '10XGenomics_10XHC2_T0', '10XGenomics_10XHC3_T0', '10XGenomics_10XHC4_T0', ..., 'Savage2021_BRISL6_T0', 'Savage2021_BRISL7_T0', 'Savage2021_PIDA_T0', 'Savage2021_PIDB_T0']"
      ]
     },
     "execution_count": 10,
     "metadata": {},
     "output_type": "execute_result"
    }
   ],
   "source": [
    "train_adata.obs.sampleID.unique()"
   ]
  },
  {
   "cell_type": "code",
   "execution_count": 11,
   "id": "cab32424",
   "metadata": {
    "execution": {
     "iopub.execute_input": "2025-05-15T15:59:29.496672Z",
     "iopub.status.busy": "2025-05-15T15:59:29.496270Z",
     "iopub.status.idle": "2025-05-15T15:59:29.837906Z",
     "shell.execute_reply": "2025-05-15T15:59:29.837495Z"
    },
    "papermill": {
     "duration": 0.37202,
     "end_time": "2025-05-15T15:59:29.839204",
     "exception": false,
     "start_time": "2025-05-15T15:59:29.467184",
     "status": "completed"
    },
    "tags": []
   },
   "outputs": [],
   "source": [
    "all_idxs = np.arange(train_adata.obs.shape[0])\n",
    "left_out_splits = [s[1] for s in StratifiedGroupKFold(n_splits=N_SPLITS).split(all_idxs, train_adata.obs.disease, train_adata.obs.sampleID)]"
   ]
  },
  {
   "cell_type": "code",
   "execution_count": 12,
   "id": "b243cd49",
   "metadata": {
    "execution": {
     "iopub.execute_input": "2025-05-15T15:59:29.868518Z",
     "iopub.status.busy": "2025-05-15T15:59:29.868256Z",
     "iopub.status.idle": "2025-05-15T15:59:29.872542Z",
     "shell.execute_reply": "2025-05-15T15:59:29.872238Z"
    },
    "papermill": {
     "duration": 0.012462,
     "end_time": "2025-05-15T15:59:29.873415",
     "exception": false,
     "start_time": "2025-05-15T15:59:29.860953",
     "status": "completed"
    },
    "tags": []
   },
   "outputs": [
    {
     "data": {
      "text/plain": [
       "([0, 1, 4], 3, 2)"
      ]
     },
     "execution_count": 12,
     "metadata": {},
     "output_type": "execute_result"
    }
   ],
   "source": [
    "TRAIN_SPLIT_IDXS = [0,1,2,3,4]\n",
    "VAL_SPLIT_IDX = (TEST_SPLIT_IDX + 1) % 5\n",
    "TRAIN_SPLIT_IDXS.remove(TEST_SPLIT_IDX)\n",
    "TRAIN_SPLIT_IDXS.remove(VAL_SPLIT_IDX)\n",
    "TRAIN_SPLIT_IDXS, VAL_SPLIT_IDX, TEST_SPLIT_IDX"
   ]
  },
  {
   "cell_type": "code",
   "execution_count": 13,
   "id": "059277dc",
   "metadata": {
    "execution": {
     "iopub.execute_input": "2025-05-15T15:59:29.938596Z",
     "iopub.status.busy": "2025-05-15T15:59:29.937945Z",
     "iopub.status.idle": "2025-05-15T15:59:29.940645Z",
     "shell.execute_reply": "2025-05-15T15:59:29.940335Z"
    },
    "papermill": {
     "duration": 0.050104,
     "end_time": "2025-05-15T15:59:29.941459",
     "exception": false,
     "start_time": "2025-05-15T15:59:29.891355",
     "status": "completed"
    },
    "tags": []
   },
   "outputs": [],
   "source": [
    "train_idxs = np.concatenate([left_out_splits[idx] for idx in TRAIN_SPLIT_IDXS])\n",
    "val_idxs = left_out_splits[VAL_SPLIT_IDX]\n",
    "test_idxs = left_out_splits[TEST_SPLIT_IDX]"
   ]
  },
  {
   "cell_type": "markdown",
   "id": "9e4da878",
   "metadata": {
    "papermill": {
     "duration": 0.022951,
     "end_time": "2025-05-15T15:59:30.001360",
     "exception": false,
     "start_time": "2025-05-15T15:59:29.978409",
     "status": "completed"
    },
    "tags": []
   },
   "source": [
    "### SUBSET DATASET INTO TRAIN/TEST/VAL SPLITS"
   ]
  },
  {
   "cell_type": "code",
   "execution_count": 14,
   "id": "8e2b3cdc",
   "metadata": {
    "execution": {
     "iopub.execute_input": "2025-05-15T15:59:30.018067Z",
     "iopub.status.busy": "2025-05-15T15:59:30.017679Z",
     "iopub.status.idle": "2025-05-15T15:59:30.499169Z",
     "shell.execute_reply": "2025-05-15T15:59:30.498776Z"
    },
    "papermill": {
     "duration": 0.491893,
     "end_time": "2025-05-15T15:59:30.500070",
     "exception": false,
     "start_time": "2025-05-15T15:59:30.008177",
     "status": "completed"
    },
    "tags": []
   },
   "outputs": [
    {
     "data": {
      "text/plain": [
       "((81938, 114), (26851, 114), (28646, 114))"
      ]
     },
     "execution_count": 14,
     "metadata": {},
     "output_type": "execute_result"
    }
   ],
   "source": [
    "X_train = train_adata.X[train_idxs]\n",
    "X_test = train_adata.X[test_idxs]\n",
    "X_val = train_adata.X[val_idxs]\n",
    "X_train.shape, X_test.shape, X_val.shape"
   ]
  },
  {
   "cell_type": "code",
   "execution_count": 15,
   "id": "75cbf779",
   "metadata": {
    "execution": {
     "iopub.execute_input": "2025-05-15T15:59:30.518322Z",
     "iopub.status.busy": "2025-05-15T15:59:30.517887Z",
     "iopub.status.idle": "2025-05-15T15:59:30.531403Z",
     "shell.execute_reply": "2025-05-15T15:59:30.531035Z"
    },
    "papermill": {
     "duration": 0.021851,
     "end_time": "2025-05-15T15:59:30.532309",
     "exception": false,
     "start_time": "2025-05-15T15:59:30.510458",
     "status": "completed"
    },
    "tags": []
   },
   "outputs": [
    {
     "data": {
      "text/plain": [
       "((81938,), (26851,), (28646,))"
      ]
     },
     "execution_count": 15,
     "metadata": {},
     "output_type": "execute_result"
    }
   ],
   "source": [
    "y_train = train_adata.obs.iloc[train_idxs].disease.values.astype(str)\n",
    "y_test = train_adata.obs.iloc[test_idxs].disease.values.astype(str)\n",
    "y_val = train_adata.obs.iloc[val_idxs].disease.values.astype(str)\n",
    "y_train.shape, y_test.shape, y_val.shape"
   ]
  },
  {
   "cell_type": "code",
   "execution_count": 16,
   "id": "6b2bffcc",
   "metadata": {
    "execution": {
     "iopub.execute_input": "2025-05-15T15:59:30.561927Z",
     "iopub.status.busy": "2025-05-15T15:59:30.561545Z",
     "iopub.status.idle": "2025-05-15T15:59:30.592453Z",
     "shell.execute_reply": "2025-05-15T15:59:30.591958Z"
    },
    "papermill": {
     "duration": 0.05446,
     "end_time": "2025-05-15T15:59:30.593589",
     "exception": false,
     "start_time": "2025-05-15T15:59:30.539129",
     "status": "completed"
    },
    "tags": []
   },
   "outputs": [],
   "source": [
    "lenc = LabelEncoder()\n",
    "y_train_enc = lenc.fit_transform(y_train)\n",
    "y_val_enc = lenc.transform(y_val)\n",
    "y_test_enc = lenc.transform(y_test)"
   ]
  },
  {
   "cell_type": "markdown",
   "id": "fa5f2527",
   "metadata": {
    "papermill": {
     "duration": 0.014971,
     "end_time": "2025-05-15T15:59:30.615429",
     "exception": false,
     "start_time": "2025-05-15T15:59:30.600458",
     "status": "completed"
    },
    "tags": []
   },
   "source": [
    "### GENERATE F1 "
   ]
  },
  {
   "cell_type": "code",
   "execution_count": 17,
   "id": "59ccace3",
   "metadata": {
    "execution": {
     "iopub.execute_input": "2025-05-15T15:59:30.652249Z",
     "iopub.status.busy": "2025-05-15T15:59:30.652071Z",
     "iopub.status.idle": "2025-05-15T15:59:30.654955Z",
     "shell.execute_reply": "2025-05-15T15:59:30.654601Z"
    },
    "papermill": {
     "duration": 0.020132,
     "end_time": "2025-05-15T15:59:30.655818",
     "exception": false,
     "start_time": "2025-05-15T15:59:30.635686",
     "status": "completed"
    },
    "tags": []
   },
   "outputs": [],
   "source": [
    "def custom_f1_score(y_true, y_pred):\n",
    "    return -f1_score(y_true, y_pred.argmax(1), average='weighted')"
   ]
  },
  {
   "cell_type": "code",
   "execution_count": 18,
   "id": "c18a6c43",
   "metadata": {
    "execution": {
     "iopub.execute_input": "2025-05-15T15:59:30.679029Z",
     "iopub.status.busy": "2025-05-15T15:59:30.678609Z",
     "iopub.status.idle": "2025-05-15T15:59:30.682438Z",
     "shell.execute_reply": "2025-05-15T15:59:30.682080Z"
    },
    "papermill": {
     "duration": 0.012327,
     "end_time": "2025-05-15T15:59:30.683344",
     "exception": false,
     "start_time": "2025-05-15T15:59:30.671017",
     "status": "completed"
    },
    "tags": []
   },
   "outputs": [],
   "source": [
    "eval_metric=custom_f1_score\n",
    "eval_metric_name='custom_f1_score'\n",
    "\n",
    "def objective(trial):\n",
    "    params = {\n",
    "        'n_estimators': 1500,\n",
    "        'max_depth': trial.suggest_int('max_depth', 3, 20),\n",
    "        'min_child_weight': trial.suggest_int('min_child_weight', 1, 250),\n",
    "        'subsample': trial.suggest_float('subsample', 0.1, 1.0),\n",
    "        'colsample_bynode': trial.suggest_float('colsample_bynode', 0.1, 1.0),\n",
    "        'learning_rate': trial.suggest_float('learning_rate', 1e-3, 5e-1, log=True),\n",
    "    }\n",
    "    pruning_callback = optuna.integration.XGBoostPruningCallback(trial, f'validation_0-{eval_metric_name}')\n",
    "    es_callback = xgboost.callback.EarlyStopping(20, min_delta=0.001)\n",
    "    xgb = xgboost.XGBClassifier(\n",
    "        eval_metric=eval_metric,\n",
    "        callbacks=[pruning_callback, es_callback],\n",
    "        n_jobs=5,\n",
    "        **params\n",
    "    )\n",
    "    xgb.fit(\n",
    "        X_train, \n",
    "        y_train_enc, \n",
    "        verbose=0,\n",
    "        eval_set=[(X_val, y_val_enc)],\n",
    "    )\n",
    "    trial.set_user_attr('best_iteration', xgb.best_iteration)\n",
    "\n",
    "    return xgb.best_score"
   ]
  },
  {
   "cell_type": "code",
   "execution_count": 19,
   "id": "dacc1363",
   "metadata": {
    "execution": {
     "iopub.execute_input": "2025-05-15T15:59:30.703897Z",
     "iopub.status.busy": "2025-05-15T15:59:30.703758Z",
     "iopub.status.idle": "2025-05-15T16:08:52.705568Z",
     "shell.execute_reply": "2025-05-15T16:08:52.705094Z"
    },
    "papermill": {
     "duration": 562.017395,
     "end_time": "2025-05-15T16:08:52.707015",
     "exception": false,
     "start_time": "2025-05-15T15:59:30.689620",
     "status": "completed"
    },
    "scrolled": true,
    "tags": []
   },
   "outputs": [
    {
     "name": "stderr",
     "output_type": "stream",
     "text": [
      "[I 2025-05-15 17:59:30,705] A new study created in memory with name: no-name-5d0dcfaf-409d-4aa6-b007-7cc6824c4958\n"
     ]
    },
    {
     "name": "stderr",
     "output_type": "stream",
     "text": [
      "[I 2025-05-15 17:59:39,925] Trial 0 finished with value: -0.761123 and parameters: {'max_depth': 9, 'min_child_weight': 238, 'subsample': 0.7587945476302645, 'colsample_bynode': 0.6387926357773329, 'learning_rate': 0.0026368755339723046}. Best is trial 0 with value: -0.761123.\n"
     ]
    },
    {
     "name": "stderr",
     "output_type": "stream",
     "text": [
      "[I 2025-05-15 18:00:01,173] Trial 1 finished with value: -0.802923 and parameters: {'max_depth': 5, 'min_child_weight': 15, 'subsample': 0.8795585311974417, 'colsample_bynode': 0.6410035105688879, 'learning_rate': 0.08148293210105287}. Best is trial 1 with value: -0.802923.\n"
     ]
    },
    {
     "name": "stderr",
     "output_type": "stream",
     "text": [
      "[I 2025-05-15 18:00:06,648] Trial 2 finished with value: -0.625096 and parameters: {'max_depth': 3, 'min_child_weight': 243, 'subsample': 0.8491983767203796, 'colsample_bynode': 0.29110519961044856, 'learning_rate': 0.003095566460242371}. Best is trial 1 with value: -0.802923.\n"
     ]
    },
    {
     "name": "stderr",
     "output_type": "stream",
     "text": [
      "[I 2025-05-15 18:00:37,266] Trial 3 finished with value: -0.786813 and parameters: {'max_depth': 6, 'min_child_weight': 77, 'subsample': 0.5722807884690141, 'colsample_bynode': 0.48875051677790415, 'learning_rate': 0.006109683510122491}. Best is trial 1 with value: -0.802923.\n"
     ]
    },
    {
     "name": "stderr",
     "output_type": "stream",
     "text": [
      "[I 2025-05-15 18:01:18,871] Trial 4 finished with value: -0.810941 and parameters: {'max_depth': 14, 'min_child_weight': 35, 'subsample': 0.3629301836816964, 'colsample_bynode': 0.4297256589643226, 'learning_rate': 0.01701841881702917}. Best is trial 4 with value: -0.810941.\n"
     ]
    },
    {
     "name": "stderr",
     "output_type": "stream",
     "text": [
      "[I 2025-05-15 18:01:28,116] Trial 5 pruned. Trial was pruned at iteration 26.\n"
     ]
    },
    {
     "name": "stderr",
     "output_type": "stream",
     "text": [
      "[I 2025-05-15 18:01:41,244] Trial 6 pruned. Trial was pruned at iteration 51.\n"
     ]
    },
    {
     "name": "stderr",
     "output_type": "stream",
     "text": [
      "[I 2025-05-15 18:01:41,924] Trial 7 pruned. Trial was pruned at iteration 0.\n"
     ]
    },
    {
     "name": "stderr",
     "output_type": "stream",
     "text": [
      "[I 2025-05-15 18:01:42,585] Trial 8 pruned. Trial was pruned at iteration 0.\n"
     ]
    },
    {
     "name": "stderr",
     "output_type": "stream",
     "text": [
      "[I 2025-05-15 18:01:50,966] Trial 9 pruned. Trial was pruned at iteration 26.\n"
     ]
    },
    {
     "name": "stderr",
     "output_type": "stream",
     "text": [
      "[I 2025-05-15 18:01:51,653] Trial 10 pruned. Trial was pruned at iteration 0.\n"
     ]
    },
    {
     "name": "stderr",
     "output_type": "stream",
     "text": [
      "[I 2025-05-15 18:02:38,528] Trial 11 finished with value: -0.81297 and parameters: {'max_depth': 10, 'min_child_weight': 3, 'subsample': 0.9785259098721957, 'colsample_bynode': 0.40131565860091256, 'learning_rate': 0.08587379144532957}. Best is trial 11 with value: -0.81297.\n"
     ]
    },
    {
     "name": "stderr",
     "output_type": "stream",
     "text": [
      "[I 2025-05-15 18:03:03,984] Trial 12 finished with value: -0.807387 and parameters: {'max_depth': 10, 'min_child_weight': 3, 'subsample': 0.37777201587536535, 'colsample_bynode': 0.3630146189517875, 'learning_rate': 0.14603786032022117}. Best is trial 11 with value: -0.81297.\n"
     ]
    },
    {
     "name": "stderr",
     "output_type": "stream",
     "text": [
      "[I 2025-05-15 18:03:04,745] Trial 13 pruned. Trial was pruned at iteration 0.\n"
     ]
    },
    {
     "name": "stderr",
     "output_type": "stream",
     "text": [
      "[I 2025-05-15 18:03:05,534] Trial 14 pruned. Trial was pruned at iteration 0.\n"
     ]
    },
    {
     "name": "stderr",
     "output_type": "stream",
     "text": [
      "[I 2025-05-15 18:03:53,229] Trial 15 finished with value: -0.818735 and parameters: {'max_depth': 9, 'min_child_weight': 1, 'subsample': 0.706477734046452, 'colsample_bynode': 0.2687793682900305, 'learning_rate': 0.22610098086419064}. Best is trial 15 with value: -0.818735.\n"
     ]
    },
    {
     "name": "stderr",
     "output_type": "stream",
     "text": [
      "[I 2025-05-15 18:03:54,074] Trial 16 pruned. Trial was pruned at iteration 0.\n"
     ]
    },
    {
     "name": "stderr",
     "output_type": "stream",
     "text": [
      "[I 2025-05-15 18:03:54,808] Trial 17 pruned. Trial was pruned at iteration 0.\n"
     ]
    },
    {
     "name": "stderr",
     "output_type": "stream",
     "text": [
      "[I 2025-05-15 18:04:07,940] Trial 18 finished with value: -0.806102 and parameters: {'max_depth': 11, 'min_child_weight': 188, 'subsample': 0.6892583917013958, 'colsample_bynode': 0.8059004917107273, 'learning_rate': 0.24283060680272017}. Best is trial 15 with value: -0.818735.\n"
     ]
    },
    {
     "name": "stderr",
     "output_type": "stream",
     "text": [
      "[I 2025-05-15 18:04:08,679] Trial 19 pruned. Trial was pruned at iteration 0.\n"
     ]
    },
    {
     "name": "stderr",
     "output_type": "stream",
     "text": [
      "[I 2025-05-15 18:04:09,461] Trial 20 pruned. Trial was pruned at iteration 0.\n"
     ]
    },
    {
     "name": "stderr",
     "output_type": "stream",
     "text": [
      "[I 2025-05-15 18:04:10,282] Trial 21 pruned. Trial was pruned at iteration 0.\n"
     ]
    },
    {
     "name": "stderr",
     "output_type": "stream",
     "text": [
      "[I 2025-05-15 18:04:11,366] Trial 22 pruned. Trial was pruned at iteration 1.\n"
     ]
    },
    {
     "name": "stderr",
     "output_type": "stream",
     "text": [
      "[I 2025-05-15 18:04:12,128] Trial 23 pruned. Trial was pruned at iteration 0.\n"
     ]
    },
    {
     "name": "stderr",
     "output_type": "stream",
     "text": [
      "[I 2025-05-15 18:04:14,191] Trial 24 pruned. Trial was pruned at iteration 2.\n"
     ]
    },
    {
     "name": "stderr",
     "output_type": "stream",
     "text": [
      "[I 2025-05-15 18:04:15,010] Trial 25 pruned. Trial was pruned at iteration 0.\n"
     ]
    },
    {
     "name": "stderr",
     "output_type": "stream",
     "text": [
      "[I 2025-05-15 18:04:15,756] Trial 26 pruned. Trial was pruned at iteration 0.\n"
     ]
    },
    {
     "name": "stderr",
     "output_type": "stream",
     "text": [
      "[I 2025-05-15 18:04:48,369] Trial 27 finished with value: -0.81379 and parameters: {'max_depth': 14, 'min_child_weight': 17, 'subsample': 0.773009753679809, 'colsample_bynode': 0.5675497225291841, 'learning_rate': 0.2892462818163369}. Best is trial 15 with value: -0.818735.\n"
     ]
    },
    {
     "name": "stderr",
     "output_type": "stream",
     "text": [
      "[I 2025-05-15 18:05:24,787] Trial 28 finished with value: -0.814606 and parameters: {'max_depth': 10, 'min_child_weight': 17, 'subsample': 0.7974426719203134, 'colsample_bynode': 0.7547835364105744, 'learning_rate': 0.2997698692835145}. Best is trial 15 with value: -0.818735.\n"
     ]
    },
    {
     "name": "stderr",
     "output_type": "stream",
     "text": [
      "[I 2025-05-15 18:05:25,555] Trial 29 pruned. Trial was pruned at iteration 0.\n"
     ]
    },
    {
     "name": "stderr",
     "output_type": "stream",
     "text": [
      "[I 2025-05-15 18:05:27,030] Trial 30 pruned. Trial was pruned at iteration 2.\n"
     ]
    },
    {
     "name": "stderr",
     "output_type": "stream",
     "text": [
      "[I 2025-05-15 18:05:53,690] Trial 31 pruned. Trial was pruned at iteration 75.\n"
     ]
    },
    {
     "name": "stderr",
     "output_type": "stream",
     "text": [
      "[I 2025-05-15 18:06:12,432] Trial 32 pruned. Trial was pruned at iteration 4.\n"
     ]
    },
    {
     "name": "stderr",
     "output_type": "stream",
     "text": [
      "[I 2025-05-15 18:06:16,473] Trial 33 pruned. Trial was pruned at iteration 10.\n"
     ]
    },
    {
     "name": "stderr",
     "output_type": "stream",
     "text": [
      "[I 2025-05-15 18:06:17,179] Trial 34 pruned. Trial was pruned at iteration 0.\n"
     ]
    },
    {
     "name": "stderr",
     "output_type": "stream",
     "text": [
      "[I 2025-05-15 18:06:20,216] Trial 35 pruned. Trial was pruned at iteration 6.\n"
     ]
    },
    {
     "name": "stderr",
     "output_type": "stream",
     "text": [
      "[I 2025-05-15 18:06:22,762] Trial 36 pruned. Trial was pruned at iteration 4.\n"
     ]
    },
    {
     "name": "stderr",
     "output_type": "stream",
     "text": [
      "[I 2025-05-15 18:06:52,646] Trial 37 pruned. Trial was pruned at iteration 65.\n"
     ]
    },
    {
     "name": "stderr",
     "output_type": "stream",
     "text": [
      "[I 2025-05-15 18:06:53,350] Trial 38 pruned. Trial was pruned at iteration 0.\n"
     ]
    },
    {
     "name": "stderr",
     "output_type": "stream",
     "text": [
      "[I 2025-05-15 18:06:54,094] Trial 39 pruned. Trial was pruned at iteration 0.\n"
     ]
    },
    {
     "name": "stderr",
     "output_type": "stream",
     "text": [
      "[I 2025-05-15 18:06:56,399] Trial 40 pruned. Trial was pruned at iteration 3.\n"
     ]
    },
    {
     "name": "stderr",
     "output_type": "stream",
     "text": [
      "[I 2025-05-15 18:06:59,446] Trial 41 pruned. Trial was pruned at iteration 3.\n"
     ]
    },
    {
     "name": "stderr",
     "output_type": "stream",
     "text": [
      "[I 2025-05-15 18:07:02,262] Trial 42 pruned. Trial was pruned at iteration 4.\n"
     ]
    },
    {
     "name": "stderr",
     "output_type": "stream",
     "text": [
      "[I 2025-05-15 18:07:03,958] Trial 43 pruned. Trial was pruned at iteration 2.\n"
     ]
    },
    {
     "name": "stderr",
     "output_type": "stream",
     "text": [
      "[I 2025-05-15 18:07:04,797] Trial 44 pruned. Trial was pruned at iteration 0.\n"
     ]
    },
    {
     "name": "stderr",
     "output_type": "stream",
     "text": [
      "[I 2025-05-15 18:07:06,612] Trial 45 pruned. Trial was pruned at iteration 3.\n"
     ]
    },
    {
     "name": "stderr",
     "output_type": "stream",
     "text": [
      "[I 2025-05-15 18:07:07,424] Trial 46 pruned. Trial was pruned at iteration 0.\n"
     ]
    },
    {
     "name": "stderr",
     "output_type": "stream",
     "text": [
      "[I 2025-05-15 18:08:02,764] Trial 47 finished with value: -0.815665 and parameters: {'max_depth': 11, 'min_child_weight': 1, 'subsample': 0.7016692900600834, 'colsample_bynode': 0.4457081993829295, 'learning_rate': 0.20296397962456525}. Best is trial 15 with value: -0.818735.\n"
     ]
    },
    {
     "name": "stderr",
     "output_type": "stream",
     "text": [
      "[I 2025-05-15 18:08:14,919] Trial 48 pruned. Trial was pruned at iteration 36.\n"
     ]
    },
    {
     "name": "stderr",
     "output_type": "stream",
     "text": [
      "[I 2025-05-15 18:08:52,596] Trial 49 finished with value: -0.81691 and parameters: {'max_depth': 7, 'min_child_weight': 1, 'subsample': 0.9044862639916315, 'colsample_bynode': 0.4482747120043684, 'learning_rate': 0.2355950391051525}. Best is trial 15 with value: -0.818735.\n"
     ]
    }
   ],
   "source": [
    "sampler = optuna.samplers.TPESampler(seed=42)\n",
    "study = optuna.create_study(direction='minimize', sampler=sampler)\n",
    "study.optimize(objective, n_trials=N_TRIALS, gc_after_trial=True)"
   ]
  },
  {
   "cell_type": "code",
   "execution_count": 20,
   "id": "0cdcc6e1",
   "metadata": {
    "execution": {
     "iopub.execute_input": "2025-05-15T16:08:52.726988Z",
     "iopub.status.busy": "2025-05-15T16:08:52.726691Z",
     "iopub.status.idle": "2025-05-15T16:08:52.751172Z",
     "shell.execute_reply": "2025-05-15T16:08:52.750811Z"
    },
    "papermill": {
     "duration": 0.035119,
     "end_time": "2025-05-15T16:08:52.752141",
     "exception": false,
     "start_time": "2025-05-15T16:08:52.717022",
     "status": "completed"
    },
    "tags": []
   },
   "outputs": [
    {
     "data": {
      "text/plain": [
       "['/scratch_isilon/groups/singlecell/shared/projects/Inflammation-PBMCs-Atlas/03_downstream_analysis/08_gene_importance/xgboost_external_validation/xgboost_TopN_genes/results_20/study/Mono_7_2_xgboost.pkl']"
      ]
     },
     "execution_count": 20,
     "metadata": {},
     "output_type": "execute_result"
    }
   ],
   "source": [
    "out_dir = here(f'03_downstream_analysis/08_gene_importance/xgboost_external_validation/xgboost_TopN_genes/results_{N_GENES}/study')\n",
    "\n",
    "if not os.path.exists(out_dir):\n",
    "    os.makedirs(out_dir)\n",
    "    \n",
    "joblib.dump(study,os.path.join(out_dir, f'{CELL_TYPE}_{SEED}_{TEST_SPLIT_IDX}_xgboost.pkl'))"
   ]
  },
  {
   "cell_type": "code",
   "execution_count": 21,
   "id": "c772b10b",
   "metadata": {
    "execution": {
     "iopub.execute_input": "2025-05-15T16:08:52.795936Z",
     "iopub.status.busy": "2025-05-15T16:08:52.795582Z",
     "iopub.status.idle": "2025-05-15T16:09:26.029711Z",
     "shell.execute_reply": "2025-05-15T16:09:26.029275Z"
    },
    "papermill": {
     "duration": 33.299259,
     "end_time": "2025-05-15T16:09:26.073150",
     "exception": false,
     "start_time": "2025-05-15T16:08:52.773891",
     "status": "completed"
    },
    "tags": []
   },
   "outputs": [
    {
     "data": {
      "text/html": [
       "<style>#sk-container-id-1 {\n",
       "  /* Definition of color scheme common for light and dark mode */\n",
       "  --sklearn-color-text: black;\n",
       "  --sklearn-color-line: gray;\n",
       "  /* Definition of color scheme for unfitted estimators */\n",
       "  --sklearn-color-unfitted-level-0: #fff5e6;\n",
       "  --sklearn-color-unfitted-level-1: #f6e4d2;\n",
       "  --sklearn-color-unfitted-level-2: #ffe0b3;\n",
       "  --sklearn-color-unfitted-level-3: chocolate;\n",
       "  /* Definition of color scheme for fitted estimators */\n",
       "  --sklearn-color-fitted-level-0: #f0f8ff;\n",
       "  --sklearn-color-fitted-level-1: #d4ebff;\n",
       "  --sklearn-color-fitted-level-2: #b3dbfd;\n",
       "  --sklearn-color-fitted-level-3: cornflowerblue;\n",
       "\n",
       "  /* Specific color for light theme */\n",
       "  --sklearn-color-text-on-default-background: var(--sg-text-color, var(--theme-code-foreground, var(--jp-content-font-color1, black)));\n",
       "  --sklearn-color-background: var(--sg-background-color, var(--theme-background, var(--jp-layout-color0, white)));\n",
       "  --sklearn-color-border-box: var(--sg-text-color, var(--theme-code-foreground, var(--jp-content-font-color1, black)));\n",
       "  --sklearn-color-icon: #696969;\n",
       "\n",
       "  @media (prefers-color-scheme: dark) {\n",
       "    /* Redefinition of color scheme for dark theme */\n",
       "    --sklearn-color-text-on-default-background: var(--sg-text-color, var(--theme-code-foreground, var(--jp-content-font-color1, white)));\n",
       "    --sklearn-color-background: var(--sg-background-color, var(--theme-background, var(--jp-layout-color0, #111)));\n",
       "    --sklearn-color-border-box: var(--sg-text-color, var(--theme-code-foreground, var(--jp-content-font-color1, white)));\n",
       "    --sklearn-color-icon: #878787;\n",
       "  }\n",
       "}\n",
       "\n",
       "#sk-container-id-1 {\n",
       "  color: var(--sklearn-color-text);\n",
       "}\n",
       "\n",
       "#sk-container-id-1 pre {\n",
       "  padding: 0;\n",
       "}\n",
       "\n",
       "#sk-container-id-1 input.sk-hidden--visually {\n",
       "  border: 0;\n",
       "  clip: rect(1px 1px 1px 1px);\n",
       "  clip: rect(1px, 1px, 1px, 1px);\n",
       "  height: 1px;\n",
       "  margin: -1px;\n",
       "  overflow: hidden;\n",
       "  padding: 0;\n",
       "  position: absolute;\n",
       "  width: 1px;\n",
       "}\n",
       "\n",
       "#sk-container-id-1 div.sk-dashed-wrapped {\n",
       "  border: 1px dashed var(--sklearn-color-line);\n",
       "  margin: 0 0.4em 0.5em 0.4em;\n",
       "  box-sizing: border-box;\n",
       "  padding-bottom: 0.4em;\n",
       "  background-color: var(--sklearn-color-background);\n",
       "}\n",
       "\n",
       "#sk-container-id-1 div.sk-container {\n",
       "  /* jupyter's `normalize.less` sets `[hidden] { display: none; }`\n",
       "     but bootstrap.min.css set `[hidden] { display: none !important; }`\n",
       "     so we also need the `!important` here to be able to override the\n",
       "     default hidden behavior on the sphinx rendered scikit-learn.org.\n",
       "     See: https://github.com/scikit-learn/scikit-learn/issues/21755 */\n",
       "  display: inline-block !important;\n",
       "  position: relative;\n",
       "}\n",
       "\n",
       "#sk-container-id-1 div.sk-text-repr-fallback {\n",
       "  display: none;\n",
       "}\n",
       "\n",
       "div.sk-parallel-item,\n",
       "div.sk-serial,\n",
       "div.sk-item {\n",
       "  /* draw centered vertical line to link estimators */\n",
       "  background-image: linear-gradient(var(--sklearn-color-text-on-default-background), var(--sklearn-color-text-on-default-background));\n",
       "  background-size: 2px 100%;\n",
       "  background-repeat: no-repeat;\n",
       "  background-position: center center;\n",
       "}\n",
       "\n",
       "/* Parallel-specific style estimator block */\n",
       "\n",
       "#sk-container-id-1 div.sk-parallel-item::after {\n",
       "  content: \"\";\n",
       "  width: 100%;\n",
       "  border-bottom: 2px solid var(--sklearn-color-text-on-default-background);\n",
       "  flex-grow: 1;\n",
       "}\n",
       "\n",
       "#sk-container-id-1 div.sk-parallel {\n",
       "  display: flex;\n",
       "  align-items: stretch;\n",
       "  justify-content: center;\n",
       "  background-color: var(--sklearn-color-background);\n",
       "  position: relative;\n",
       "}\n",
       "\n",
       "#sk-container-id-1 div.sk-parallel-item {\n",
       "  display: flex;\n",
       "  flex-direction: column;\n",
       "}\n",
       "\n",
       "#sk-container-id-1 div.sk-parallel-item:first-child::after {\n",
       "  align-self: flex-end;\n",
       "  width: 50%;\n",
       "}\n",
       "\n",
       "#sk-container-id-1 div.sk-parallel-item:last-child::after {\n",
       "  align-self: flex-start;\n",
       "  width: 50%;\n",
       "}\n",
       "\n",
       "#sk-container-id-1 div.sk-parallel-item:only-child::after {\n",
       "  width: 0;\n",
       "}\n",
       "\n",
       "/* Serial-specific style estimator block */\n",
       "\n",
       "#sk-container-id-1 div.sk-serial {\n",
       "  display: flex;\n",
       "  flex-direction: column;\n",
       "  align-items: center;\n",
       "  background-color: var(--sklearn-color-background);\n",
       "  padding-right: 1em;\n",
       "  padding-left: 1em;\n",
       "}\n",
       "\n",
       "\n",
       "/* Toggleable style: style used for estimator/Pipeline/ColumnTransformer box that is\n",
       "clickable and can be expanded/collapsed.\n",
       "- Pipeline and ColumnTransformer use this feature and define the default style\n",
       "- Estimators will overwrite some part of the style using the `sk-estimator` class\n",
       "*/\n",
       "\n",
       "/* Pipeline and ColumnTransformer style (default) */\n",
       "\n",
       "#sk-container-id-1 div.sk-toggleable {\n",
       "  /* Default theme specific background. It is overwritten whether we have a\n",
       "  specific estimator or a Pipeline/ColumnTransformer */\n",
       "  background-color: var(--sklearn-color-background);\n",
       "}\n",
       "\n",
       "/* Toggleable label */\n",
       "#sk-container-id-1 label.sk-toggleable__label {\n",
       "  cursor: pointer;\n",
       "  display: block;\n",
       "  width: 100%;\n",
       "  margin-bottom: 0;\n",
       "  padding: 0.5em;\n",
       "  box-sizing: border-box;\n",
       "  text-align: center;\n",
       "}\n",
       "\n",
       "#sk-container-id-1 label.sk-toggleable__label-arrow:before {\n",
       "  /* Arrow on the left of the label */\n",
       "  content: \"▸\";\n",
       "  float: left;\n",
       "  margin-right: 0.25em;\n",
       "  color: var(--sklearn-color-icon);\n",
       "}\n",
       "\n",
       "#sk-container-id-1 label.sk-toggleable__label-arrow:hover:before {\n",
       "  color: var(--sklearn-color-text);\n",
       "}\n",
       "\n",
       "/* Toggleable content - dropdown */\n",
       "\n",
       "#sk-container-id-1 div.sk-toggleable__content {\n",
       "  max-height: 0;\n",
       "  max-width: 0;\n",
       "  overflow: hidden;\n",
       "  text-align: left;\n",
       "  /* unfitted */\n",
       "  background-color: var(--sklearn-color-unfitted-level-0);\n",
       "}\n",
       "\n",
       "#sk-container-id-1 div.sk-toggleable__content.fitted {\n",
       "  /* fitted */\n",
       "  background-color: var(--sklearn-color-fitted-level-0);\n",
       "}\n",
       "\n",
       "#sk-container-id-1 div.sk-toggleable__content pre {\n",
       "  margin: 0.2em;\n",
       "  border-radius: 0.25em;\n",
       "  color: var(--sklearn-color-text);\n",
       "  /* unfitted */\n",
       "  background-color: var(--sklearn-color-unfitted-level-0);\n",
       "}\n",
       "\n",
       "#sk-container-id-1 div.sk-toggleable__content.fitted pre {\n",
       "  /* unfitted */\n",
       "  background-color: var(--sklearn-color-fitted-level-0);\n",
       "}\n",
       "\n",
       "#sk-container-id-1 input.sk-toggleable__control:checked~div.sk-toggleable__content {\n",
       "  /* Expand drop-down */\n",
       "  max-height: 200px;\n",
       "  max-width: 100%;\n",
       "  overflow: auto;\n",
       "}\n",
       "\n",
       "#sk-container-id-1 input.sk-toggleable__control:checked~label.sk-toggleable__label-arrow:before {\n",
       "  content: \"▾\";\n",
       "}\n",
       "\n",
       "/* Pipeline/ColumnTransformer-specific style */\n",
       "\n",
       "#sk-container-id-1 div.sk-label input.sk-toggleable__control:checked~label.sk-toggleable__label {\n",
       "  color: var(--sklearn-color-text);\n",
       "  background-color: var(--sklearn-color-unfitted-level-2);\n",
       "}\n",
       "\n",
       "#sk-container-id-1 div.sk-label.fitted input.sk-toggleable__control:checked~label.sk-toggleable__label {\n",
       "  background-color: var(--sklearn-color-fitted-level-2);\n",
       "}\n",
       "\n",
       "/* Estimator-specific style */\n",
       "\n",
       "/* Colorize estimator box */\n",
       "#sk-container-id-1 div.sk-estimator input.sk-toggleable__control:checked~label.sk-toggleable__label {\n",
       "  /* unfitted */\n",
       "  background-color: var(--sklearn-color-unfitted-level-2);\n",
       "}\n",
       "\n",
       "#sk-container-id-1 div.sk-estimator.fitted input.sk-toggleable__control:checked~label.sk-toggleable__label {\n",
       "  /* fitted */\n",
       "  background-color: var(--sklearn-color-fitted-level-2);\n",
       "}\n",
       "\n",
       "#sk-container-id-1 div.sk-label label.sk-toggleable__label,\n",
       "#sk-container-id-1 div.sk-label label {\n",
       "  /* The background is the default theme color */\n",
       "  color: var(--sklearn-color-text-on-default-background);\n",
       "}\n",
       "\n",
       "/* On hover, darken the color of the background */\n",
       "#sk-container-id-1 div.sk-label:hover label.sk-toggleable__label {\n",
       "  color: var(--sklearn-color-text);\n",
       "  background-color: var(--sklearn-color-unfitted-level-2);\n",
       "}\n",
       "\n",
       "/* Label box, darken color on hover, fitted */\n",
       "#sk-container-id-1 div.sk-label.fitted:hover label.sk-toggleable__label.fitted {\n",
       "  color: var(--sklearn-color-text);\n",
       "  background-color: var(--sklearn-color-fitted-level-2);\n",
       "}\n",
       "\n",
       "/* Estimator label */\n",
       "\n",
       "#sk-container-id-1 div.sk-label label {\n",
       "  font-family: monospace;\n",
       "  font-weight: bold;\n",
       "  display: inline-block;\n",
       "  line-height: 1.2em;\n",
       "}\n",
       "\n",
       "#sk-container-id-1 div.sk-label-container {\n",
       "  text-align: center;\n",
       "}\n",
       "\n",
       "/* Estimator-specific */\n",
       "#sk-container-id-1 div.sk-estimator {\n",
       "  font-family: monospace;\n",
       "  border: 1px dotted var(--sklearn-color-border-box);\n",
       "  border-radius: 0.25em;\n",
       "  box-sizing: border-box;\n",
       "  margin-bottom: 0.5em;\n",
       "  /* unfitted */\n",
       "  background-color: var(--sklearn-color-unfitted-level-0);\n",
       "}\n",
       "\n",
       "#sk-container-id-1 div.sk-estimator.fitted {\n",
       "  /* fitted */\n",
       "  background-color: var(--sklearn-color-fitted-level-0);\n",
       "}\n",
       "\n",
       "/* on hover */\n",
       "#sk-container-id-1 div.sk-estimator:hover {\n",
       "  /* unfitted */\n",
       "  background-color: var(--sklearn-color-unfitted-level-2);\n",
       "}\n",
       "\n",
       "#sk-container-id-1 div.sk-estimator.fitted:hover {\n",
       "  /* fitted */\n",
       "  background-color: var(--sklearn-color-fitted-level-2);\n",
       "}\n",
       "\n",
       "/* Specification for estimator info (e.g. \"i\" and \"?\") */\n",
       "\n",
       "/* Common style for \"i\" and \"?\" */\n",
       "\n",
       ".sk-estimator-doc-link,\n",
       "a:link.sk-estimator-doc-link,\n",
       "a:visited.sk-estimator-doc-link {\n",
       "  float: right;\n",
       "  font-size: smaller;\n",
       "  line-height: 1em;\n",
       "  font-family: monospace;\n",
       "  background-color: var(--sklearn-color-background);\n",
       "  border-radius: 1em;\n",
       "  height: 1em;\n",
       "  width: 1em;\n",
       "  text-decoration: none !important;\n",
       "  margin-left: 1ex;\n",
       "  /* unfitted */\n",
       "  border: var(--sklearn-color-unfitted-level-1) 1pt solid;\n",
       "  color: var(--sklearn-color-unfitted-level-1);\n",
       "}\n",
       "\n",
       ".sk-estimator-doc-link.fitted,\n",
       "a:link.sk-estimator-doc-link.fitted,\n",
       "a:visited.sk-estimator-doc-link.fitted {\n",
       "  /* fitted */\n",
       "  border: var(--sklearn-color-fitted-level-1) 1pt solid;\n",
       "  color: var(--sklearn-color-fitted-level-1);\n",
       "}\n",
       "\n",
       "/* On hover */\n",
       "div.sk-estimator:hover .sk-estimator-doc-link:hover,\n",
       ".sk-estimator-doc-link:hover,\n",
       "div.sk-label-container:hover .sk-estimator-doc-link:hover,\n",
       ".sk-estimator-doc-link:hover {\n",
       "  /* unfitted */\n",
       "  background-color: var(--sklearn-color-unfitted-level-3);\n",
       "  color: var(--sklearn-color-background);\n",
       "  text-decoration: none;\n",
       "}\n",
       "\n",
       "div.sk-estimator.fitted:hover .sk-estimator-doc-link.fitted:hover,\n",
       ".sk-estimator-doc-link.fitted:hover,\n",
       "div.sk-label-container:hover .sk-estimator-doc-link.fitted:hover,\n",
       ".sk-estimator-doc-link.fitted:hover {\n",
       "  /* fitted */\n",
       "  background-color: var(--sklearn-color-fitted-level-3);\n",
       "  color: var(--sklearn-color-background);\n",
       "  text-decoration: none;\n",
       "}\n",
       "\n",
       "/* Span, style for the box shown on hovering the info icon */\n",
       ".sk-estimator-doc-link span {\n",
       "  display: none;\n",
       "  z-index: 9999;\n",
       "  position: relative;\n",
       "  font-weight: normal;\n",
       "  right: .2ex;\n",
       "  padding: .5ex;\n",
       "  margin: .5ex;\n",
       "  width: min-content;\n",
       "  min-width: 20ex;\n",
       "  max-width: 50ex;\n",
       "  color: var(--sklearn-color-text);\n",
       "  box-shadow: 2pt 2pt 4pt #999;\n",
       "  /* unfitted */\n",
       "  background: var(--sklearn-color-unfitted-level-0);\n",
       "  border: .5pt solid var(--sklearn-color-unfitted-level-3);\n",
       "}\n",
       "\n",
       ".sk-estimator-doc-link.fitted span {\n",
       "  /* fitted */\n",
       "  background: var(--sklearn-color-fitted-level-0);\n",
       "  border: var(--sklearn-color-fitted-level-3);\n",
       "}\n",
       "\n",
       ".sk-estimator-doc-link:hover span {\n",
       "  display: block;\n",
       "}\n",
       "\n",
       "/* \"?\"-specific style due to the `<a>` HTML tag */\n",
       "\n",
       "#sk-container-id-1 a.estimator_doc_link {\n",
       "  float: right;\n",
       "  font-size: 1rem;\n",
       "  line-height: 1em;\n",
       "  font-family: monospace;\n",
       "  background-color: var(--sklearn-color-background);\n",
       "  border-radius: 1rem;\n",
       "  height: 1rem;\n",
       "  width: 1rem;\n",
       "  text-decoration: none;\n",
       "  /* unfitted */\n",
       "  color: var(--sklearn-color-unfitted-level-1);\n",
       "  border: var(--sklearn-color-unfitted-level-1) 1pt solid;\n",
       "}\n",
       "\n",
       "#sk-container-id-1 a.estimator_doc_link.fitted {\n",
       "  /* fitted */\n",
       "  border: var(--sklearn-color-fitted-level-1) 1pt solid;\n",
       "  color: var(--sklearn-color-fitted-level-1);\n",
       "}\n",
       "\n",
       "/* On hover */\n",
       "#sk-container-id-1 a.estimator_doc_link:hover {\n",
       "  /* unfitted */\n",
       "  background-color: var(--sklearn-color-unfitted-level-3);\n",
       "  color: var(--sklearn-color-background);\n",
       "  text-decoration: none;\n",
       "}\n",
       "\n",
       "#sk-container-id-1 a.estimator_doc_link.fitted:hover {\n",
       "  /* fitted */\n",
       "  background-color: var(--sklearn-color-fitted-level-3);\n",
       "}\n",
       "</style><div id=\"sk-container-id-1\" class=\"sk-top-container\"><div class=\"sk-text-repr-fallback\"><pre>XGBClassifier(base_score=None, booster=None, callbacks=None,\n",
       "              colsample_bylevel=None, colsample_bynode=0.2687793682900305,\n",
       "              colsample_bytree=None, device=None, early_stopping_rounds=None,\n",
       "              enable_categorical=False,\n",
       "              eval_metric=&lt;function custom_f1_score at 0x7f33bdf845e0&gt;,\n",
       "              feature_types=None, gamma=None, grow_policy=None,\n",
       "              importance_type=None, interaction_constraints=None,\n",
       "              learning_rate=0.22610098086419064, max_bin=None,\n",
       "              max_cat_threshold=None, max_cat_to_onehot=None,\n",
       "              max_delta_step=None, max_depth=9, max_leaves=None,\n",
       "              min_child_weight=1, missing=nan, monotone_constraints=None,\n",
       "              multi_strategy=None, n_estimators=142, n_jobs=None,\n",
       "              num_parallel_tree=None, objective=&#x27;multi:softprob&#x27;, ...)</pre><b>In a Jupyter environment, please rerun this cell to show the HTML representation or trust the notebook. <br />On GitHub, the HTML representation is unable to render, please try loading this page with nbviewer.org.</b></div><div class=\"sk-container\" hidden><div class=\"sk-item\"><div class=\"sk-estimator fitted sk-toggleable\"><input class=\"sk-toggleable__control sk-hidden--visually\" id=\"sk-estimator-id-1\" type=\"checkbox\" checked><label for=\"sk-estimator-id-1\" class=\"sk-toggleable__label fitted sk-toggleable__label-arrow fitted\">&nbsp;XGBClassifier<span class=\"sk-estimator-doc-link fitted\">i<span>Fitted</span></span></label><div class=\"sk-toggleable__content fitted\"><pre>XGBClassifier(base_score=None, booster=None, callbacks=None,\n",
       "              colsample_bylevel=None, colsample_bynode=0.2687793682900305,\n",
       "              colsample_bytree=None, device=None, early_stopping_rounds=None,\n",
       "              enable_categorical=False,\n",
       "              eval_metric=&lt;function custom_f1_score at 0x7f33bdf845e0&gt;,\n",
       "              feature_types=None, gamma=None, grow_policy=None,\n",
       "              importance_type=None, interaction_constraints=None,\n",
       "              learning_rate=0.22610098086419064, max_bin=None,\n",
       "              max_cat_threshold=None, max_cat_to_onehot=None,\n",
       "              max_delta_step=None, max_depth=9, max_leaves=None,\n",
       "              min_child_weight=1, missing=nan, monotone_constraints=None,\n",
       "              multi_strategy=None, n_estimators=142, n_jobs=None,\n",
       "              num_parallel_tree=None, objective=&#x27;multi:softprob&#x27;, ...)</pre></div> </div></div></div></div>"
      ],
      "text/plain": [
       "XGBClassifier(base_score=None, booster=None, callbacks=None,\n",
       "              colsample_bylevel=None, colsample_bynode=0.2687793682900305,\n",
       "              colsample_bytree=None, device=None, early_stopping_rounds=None,\n",
       "              enable_categorical=False,\n",
       "              eval_metric=<function custom_f1_score at 0x7f33bdf845e0>,\n",
       "              feature_types=None, gamma=None, grow_policy=None,\n",
       "              importance_type=None, interaction_constraints=None,\n",
       "              learning_rate=0.22610098086419064, max_bin=None,\n",
       "              max_cat_threshold=None, max_cat_to_onehot=None,\n",
       "              max_delta_step=None, max_depth=9, max_leaves=None,\n",
       "              min_child_weight=1, missing=nan, monotone_constraints=None,\n",
       "              multi_strategy=None, n_estimators=142, n_jobs=None,\n",
       "              num_parallel_tree=None, objective='multi:softprob', ...)"
      ]
     },
     "execution_count": 21,
     "metadata": {},
     "output_type": "execute_result"
    }
   ],
   "source": [
    "n_estimators = int(study.best_trial.user_attrs['best_iteration']*1.2)\n",
    "xgb = xgboost.XGBClassifier(\n",
    "        eval_metric=eval_metric,\n",
    "        n_estimators=n_estimators,\n",
    "        **study.best_trial.params\n",
    "    )\n",
    "xgb.fit(\n",
    "    ssp.vstack((X_train, X_val)), \n",
    "    np.concatenate((y_train_enc, y_val_enc)),\n",
    "    verbose=1,\n",
    ")"
   ]
  },
  {
   "cell_type": "code",
   "execution_count": 22,
   "id": "77cf00df",
   "metadata": {
    "execution": {
     "iopub.execute_input": "2025-05-15T16:09:26.109866Z",
     "iopub.status.busy": "2025-05-15T16:09:26.109470Z",
     "iopub.status.idle": "2025-05-15T16:09:26.227218Z",
     "shell.execute_reply": "2025-05-15T16:09:26.226801Z"
    },
    "papermill": {
     "duration": 0.145514,
     "end_time": "2025-05-15T16:09:26.228308",
     "exception": false,
     "start_time": "2025-05-15T16:09:26.082794",
     "status": "completed"
    },
    "tags": []
   },
   "outputs": [
    {
     "data": {
      "text/plain": [
       "['/scratch_isilon/groups/singlecell/shared/projects/Inflammation-PBMCs-Atlas/03_downstream_analysis/08_gene_importance/xgboost_external_validation/xgboost_TopN_genes/results_20/best_model/Mono_7_2_xgb.json']"
      ]
     },
     "execution_count": 22,
     "metadata": {},
     "output_type": "execute_result"
    }
   ],
   "source": [
    "out_dir = here(f'03_downstream_analysis/08_gene_importance/xgboost_external_validation/xgboost_TopN_genes/results_{N_GENES}/best_model')\n",
    "\n",
    "if not os.path.exists(out_dir):\n",
    "    os.makedirs(out_dir)\n",
    "    \n",
    "joblib.dump(xgb, os.path.join(out_dir, f'{CELL_TYPE}_{SEED}_{TEST_SPLIT_IDX}_xgb.json'))"
   ]
  },
  {
   "cell_type": "code",
   "execution_count": 23,
   "id": "a7f34734",
   "metadata": {
    "execution": {
     "iopub.execute_input": "2025-05-15T16:09:26.291138Z",
     "iopub.status.busy": "2025-05-15T16:09:26.290731Z",
     "iopub.status.idle": "2025-05-15T16:09:27.448562Z",
     "shell.execute_reply": "2025-05-15T16:09:27.448136Z"
    },
    "papermill": {
     "duration": 1.178297,
     "end_time": "2025-05-15T16:09:27.450166",
     "exception": false,
     "start_time": "2025-05-15T16:09:26.271869",
     "status": "completed"
    },
    "tags": []
   },
   "outputs": [],
   "source": [
    "df_pred_test = pd.DataFrame(dict(\n",
    "    cell_id=train_adata.obs.iloc[test_idxs].index.values,\n",
    "    y_true=y_test, \n",
    "    y_true_code=y_test_enc, \n",
    "    y_pred=xgb.predict(X_test))).set_index('cell_id')"
   ]
  },
  {
   "cell_type": "code",
   "execution_count": 24,
   "id": "fe54e3c7",
   "metadata": {
    "execution": {
     "iopub.execute_input": "2025-05-15T16:09:27.496261Z",
     "iopub.status.busy": "2025-05-15T16:09:27.496082Z",
     "iopub.status.idle": "2025-05-15T16:09:27.645904Z",
     "shell.execute_reply": "2025-05-15T16:09:27.645388Z"
    },
    "papermill": {
     "duration": 0.175113,
     "end_time": "2025-05-15T16:09:27.647391",
     "exception": false,
     "start_time": "2025-05-15T16:09:27.472278",
     "status": "completed"
    },
    "tags": []
   },
   "outputs": [],
   "source": [
    "out_dir = here(f'03_downstream_analysis/08_gene_importance/xgboost_external_validation/xgboost_TopN_genes/results_{N_GENES}/predictions')\n",
    "\n",
    "if not os.path.exists(out_dir):\n",
    "    os.makedirs(out_dir)\n",
    "    \n",
    "df_pred_test.to_csv(os.path.join(out_dir, f'{CELL_TYPE}_{SEED}_{TEST_SPLIT_IDX}_pred_test.zip'))"
   ]
  },
  {
   "cell_type": "code",
   "execution_count": 25,
   "id": "9df8b6f1",
   "metadata": {
    "execution": {
     "iopub.execute_input": "2025-05-15T16:09:27.686496Z",
     "iopub.status.busy": "2025-05-15T16:09:27.686081Z",
     "iopub.status.idle": "2025-05-15T16:09:27.704488Z",
     "shell.execute_reply": "2025-05-15T16:09:27.704129Z"
    },
    "papermill": {
     "duration": 0.029528,
     "end_time": "2025-05-15T16:09:27.705330",
     "exception": false,
     "start_time": "2025-05-15T16:09:27.675802",
     "status": "completed"
    },
    "tags": []
   },
   "outputs": [
    {
     "name": "stderr",
     "output_type": "stream",
     "text": [
      "/scratch_isilon/groups/singlecell/shared/conda_env/xgboost-cpu/lib/python3.12/site-packages/sklearn/metrics/_classification.py:2466: UserWarning: y_pred contains classes not in y_true\n",
      "  warnings.warn(\"y_pred contains classes not in y_true\")\n"
     ]
    }
   ],
   "source": [
    "metrics_dict = dict(\n",
    "    BAS=balanced_accuracy_score(y_true=df_pred_test.y_true_code, y_pred=df_pred_test.y_pred), WF1=f1_score(y_true=df_pred_test.y_true_code, y_pred=df_pred_test.y_pred,average='weighted'))"
   ]
  },
  {
   "cell_type": "code",
   "execution_count": 26,
   "id": "535315fb",
   "metadata": {
    "execution": {
     "iopub.execute_input": "2025-05-15T16:09:27.789575Z",
     "iopub.status.busy": "2025-05-15T16:09:27.789169Z",
     "iopub.status.idle": "2025-05-15T16:09:27.792164Z",
     "shell.execute_reply": "2025-05-15T16:09:27.791850Z"
    },
    "papermill": {
     "duration": 0.013859,
     "end_time": "2025-05-15T16:09:27.792935",
     "exception": false,
     "start_time": "2025-05-15T16:09:27.779076",
     "status": "completed"
    },
    "tags": []
   },
   "outputs": [
    {
     "data": {
      "text/plain": [
       "{'BAS': 0.5680347150122443, 'WF1': 0.7839889302702936}"
      ]
     },
     "execution_count": 26,
     "metadata": {},
     "output_type": "execute_result"
    }
   ],
   "source": [
    "metrics_dict"
   ]
  },
  {
   "cell_type": "code",
   "execution_count": 27,
   "id": "0754f2ba",
   "metadata": {
    "execution": {
     "iopub.execute_input": "2025-05-15T16:09:27.850299Z",
     "iopub.status.busy": "2025-05-15T16:09:27.850039Z",
     "iopub.status.idle": "2025-05-15T16:09:27.860408Z",
     "shell.execute_reply": "2025-05-15T16:09:27.860086Z"
    },
    "papermill": {
     "duration": 0.041163,
     "end_time": "2025-05-15T16:09:27.861325",
     "exception": false,
     "start_time": "2025-05-15T16:09:27.820162",
     "status": "completed"
    },
    "tags": []
   },
   "outputs": [
    {
     "data": {
      "text/html": [
       "<div>\n",
       "<style scoped>\n",
       "    .dataframe tbody tr th:only-of-type {\n",
       "        vertical-align: middle;\n",
       "    }\n",
       "\n",
       "    .dataframe tbody tr th {\n",
       "        vertical-align: top;\n",
       "    }\n",
       "\n",
       "    .dataframe thead th {\n",
       "        text-align: right;\n",
       "    }\n",
       "</style>\n",
       "<table border=\"1\" class=\"dataframe\">\n",
       "  <thead>\n",
       "    <tr style=\"text-align: right;\">\n",
       "      <th></th>\n",
       "      <th>BAS</th>\n",
       "      <th>WF1</th>\n",
       "      <th>split_idx</th>\n",
       "      <th>gene_set_seed</th>\n",
       "      <th>cell_type</th>\n",
       "    </tr>\n",
       "  </thead>\n",
       "  <tbody>\n",
       "    <tr>\n",
       "      <th>0</th>\n",
       "      <td>0.568035</td>\n",
       "      <td>0.783989</td>\n",
       "      <td>2</td>\n",
       "      <td>7</td>\n",
       "      <td>Mono</td>\n",
       "    </tr>\n",
       "  </tbody>\n",
       "</table>\n",
       "</div>"
      ],
      "text/plain": [
       "        BAS       WF1  split_idx  gene_set_seed cell_type\n",
       "0  0.568035  0.783989          2              7      Mono"
      ]
     },
     "execution_count": 27,
     "metadata": {},
     "output_type": "execute_result"
    }
   ],
   "source": [
    "metrics_df = pd.DataFrame.from_dict([metrics_dict]).assign(split_idx=TEST_SPLIT_IDX, gene_set_seed=SEED, cell_type=CELL_TYPE)\n",
    "metrics_df"
   ]
  },
  {
   "cell_type": "code",
   "execution_count": 28,
   "id": "cface246",
   "metadata": {
    "execution": {
     "iopub.execute_input": "2025-05-15T16:09:27.925355Z",
     "iopub.status.busy": "2025-05-15T16:09:27.924960Z",
     "iopub.status.idle": "2025-05-15T16:09:27.934036Z",
     "shell.execute_reply": "2025-05-15T16:09:27.933604Z"
    },
    "papermill": {
     "duration": 0.062781,
     "end_time": "2025-05-15T16:09:27.934920",
     "exception": false,
     "start_time": "2025-05-15T16:09:27.872139",
     "status": "completed"
    },
    "tags": []
   },
   "outputs": [],
   "source": [
    "out_dir = here(f'03_downstream_analysis/08_gene_importance/xgboost_external_validation/xgboost_TopN_genes/results_{N_GENES}/metrics')\n",
    "\n",
    "if not os.path.exists(out_dir):\n",
    "    os.makedirs(out_dir)\n",
    "    \n",
    "metrics_df.to_csv(os.path.join(out_dir, f'{CELL_TYPE}_{SEED}_{TEST_SPLIT_IDX}_metrics.zip'))"
   ]
  }
 ],
 "metadata": {
  "kernelspec": {
   "display_name": "Python 3 (ipykernel)",
   "language": "python",
   "name": "python3"
  },
  "language_info": {
   "codemirror_mode": {
    "name": "ipython",
    "version": 3
   },
   "file_extension": ".py",
   "mimetype": "text/x-python",
   "name": "python",
   "nbconvert_exporter": "python",
   "pygments_lexer": "ipython3",
   "version": "3.12.5"
  },
  "papermill": {
   "default_parameters": {},
   "duration": 603.737227,
   "end_time": "2025-05-15T16:09:28.662180",
   "environment_variables": {},
   "exception": null,
   "input_path": "02_xgboost_fitting_external_20genes.ipynb",
   "output_path": "results_20/executed_notebooks/xgboost_fitting_external_CT_Mono_GS_7_seed2.ipynb",
   "parameters": {
    "CELL_TYPE": "Mono",
    "SEED": 7,
    "TEST_SPLIT_IDX": 2
   },
   "start_time": "2025-05-15T15:59:24.924953",
   "version": "2.6.0"
  }
 },
 "nbformat": 4,
 "nbformat_minor": 5
}