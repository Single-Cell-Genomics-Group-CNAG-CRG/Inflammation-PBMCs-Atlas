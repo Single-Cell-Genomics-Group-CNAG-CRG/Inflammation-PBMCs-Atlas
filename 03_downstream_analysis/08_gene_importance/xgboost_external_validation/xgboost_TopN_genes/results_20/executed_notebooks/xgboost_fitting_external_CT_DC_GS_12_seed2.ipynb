{
 "cells": [
  {
   "cell_type": "code",
   "execution_count": 1,
   "id": "f9c38279",
   "metadata": {
    "editable": true,
    "execution": {
     "iopub.execute_input": "2025-05-15T16:15:07.481247Z",
     "iopub.status.busy": "2025-05-15T16:15:07.480970Z",
     "iopub.status.idle": "2025-05-15T16:15:07.484486Z",
     "shell.execute_reply": "2025-05-15T16:15:07.484096Z"
    },
    "papermill": {
     "duration": 0.028817,
     "end_time": "2025-05-15T16:15:07.485670",
     "exception": false,
     "start_time": "2025-05-15T16:15:07.456853",
     "status": "completed"
    },
    "slideshow": {
     "slide_type": ""
    },
    "tags": [
     "parameters"
    ]
   },
   "outputs": [],
   "source": [
    "CELL_TYPE = 'pDC'\n",
    "N_GENES: int = 20\n",
    "SEED = 'shap_studyID' #'disease_NOstudy' 'study_NOdisease' or 'int' or 'shap_studyID'\n",
    "TEST_SPLIT_IDX: int = 1 #[0,4]"
   ]
  },
  {
   "cell_type": "code",
   "execution_count": 2,
   "id": "3871d9f2",
   "metadata": {
    "execution": {
     "iopub.execute_input": "2025-05-15T16:15:07.550555Z",
     "iopub.status.busy": "2025-05-15T16:15:07.550322Z",
     "iopub.status.idle": "2025-05-15T16:15:07.552949Z",
     "shell.execute_reply": "2025-05-15T16:15:07.552591Z"
    },
    "papermill": {
     "duration": 0.046488,
     "end_time": "2025-05-15T16:15:07.554010",
     "exception": false,
     "start_time": "2025-05-15T16:15:07.507522",
     "status": "completed"
    },
    "tags": [
     "injected-parameters"
    ]
   },
   "outputs": [],
   "source": [
    "# Parameters\n",
    "CELL_TYPE = \"DC\"\n",
    "SEED = 12\n",
    "TEST_SPLIT_IDX = 2\n"
   ]
  },
  {
   "cell_type": "code",
   "execution_count": 3,
   "id": "86f65dde",
   "metadata": {
    "execution": {
     "iopub.execute_input": "2025-05-15T16:15:07.655661Z",
     "iopub.status.busy": "2025-05-15T16:15:07.655315Z",
     "iopub.status.idle": "2025-05-15T16:15:07.657696Z",
     "shell.execute_reply": "2025-05-15T16:15:07.657313Z"
    },
    "papermill": {
     "duration": 0.011479,
     "end_time": "2025-05-15T16:15:07.658714",
     "exception": false,
     "start_time": "2025-05-15T16:15:07.647235",
     "status": "completed"
    },
    "tags": []
   },
   "outputs": [],
   "source": [
    "N_SPLITS: int = 5\n",
    "N_TRIALS: int = 50"
   ]
  },
  {
   "cell_type": "code",
   "execution_count": 4,
   "id": "c0780000",
   "metadata": {
    "execution": {
     "iopub.execute_input": "2025-05-15T16:15:07.688425Z",
     "iopub.status.busy": "2025-05-15T16:15:07.688158Z",
     "iopub.status.idle": "2025-05-15T16:15:09.396840Z",
     "shell.execute_reply": "2025-05-15T16:15:09.396182Z"
    },
    "papermill": {
     "duration": 1.733126,
     "end_time": "2025-05-15T16:15:09.398476",
     "exception": false,
     "start_time": "2025-05-15T16:15:07.665350",
     "status": "completed"
    },
    "tags": []
   },
   "outputs": [],
   "source": [
    "import os\n",
    "import sys\n",
    "from pyprojroot.here import here\n",
    "import pandas as pd\n",
    "import anndata as ad\n",
    "import numpy as np\n",
    "import math\n",
    "from sklearn.model_selection import StratifiedGroupKFold\n",
    "from sklearn.preprocessing import LabelEncoder\n",
    "from sklearn.metrics import f1_score\n",
    "import matplotlib.pyplot as plt\n",
    "import seaborn as sns\n",
    "from itertools import product\n",
    "from sklearn.metrics import balanced_accuracy_score, f1_score\n",
    "import optuna\n",
    "\n",
    "import joblib\n",
    "import pickle\n",
    "import datetime\n",
    "\n",
    "import collections\n",
    "\n",
    "import xgboost\n",
    "from sklearn.preprocessing import LabelEncoder\n",
    "\n",
    "import scipy.sparse as ssp\n",
    "import joblib\n",
    "\n",
    "from dotenv import load_dotenv"
   ]
  },
  {
   "cell_type": "code",
   "execution_count": 5,
   "id": "860c4670",
   "metadata": {
    "execution": {
     "iopub.execute_input": "2025-05-15T16:15:09.414110Z",
     "iopub.status.busy": "2025-05-15T16:15:09.413711Z",
     "iopub.status.idle": "2025-05-15T16:15:09.419933Z",
     "shell.execute_reply": "2025-05-15T16:15:09.419568Z"
    },
    "papermill": {
     "duration": 0.014475,
     "end_time": "2025-05-15T16:15:09.420902",
     "exception": false,
     "start_time": "2025-05-15T16:15:09.406427",
     "status": "completed"
    },
    "tags": []
   },
   "outputs": [
    {
     "data": {
      "text/plain": [
       "True"
      ]
     },
     "execution_count": 5,
     "metadata": {},
     "output_type": "execute_result"
    }
   ],
   "source": [
    "load_dotenv()"
   ]
  },
  {
   "cell_type": "markdown",
   "id": "e1bbd6a7",
   "metadata": {
    "papermill": {
     "duration": 0.027357,
     "end_time": "2025-05-15T16:15:09.455152",
     "exception": false,
     "start_time": "2025-05-15T16:15:09.427795",
     "status": "completed"
    },
    "tags": []
   },
   "source": [
    "# LOAD DATASET"
   ]
  },
  {
   "cell_type": "code",
   "execution_count": 6,
   "id": "ac87b187",
   "metadata": {
    "execution": {
     "iopub.execute_input": "2025-05-15T16:15:09.487629Z",
     "iopub.status.busy": "2025-05-15T16:15:09.487370Z",
     "iopub.status.idle": "2025-05-15T16:15:09.606051Z",
     "shell.execute_reply": "2025-05-15T16:15:09.605463Z"
    },
    "papermill": {
     "duration": 0.130182,
     "end_time": "2025-05-15T16:15:09.607790",
     "exception": false,
     "start_time": "2025-05-15T16:15:09.477608",
     "status": "completed"
    },
    "tags": []
   },
   "outputs": [],
   "source": [
    "train_adata = ad.read_h5ad(\n",
    "    here(f'03_downstream_analysis/08_gene_importance/xgboost_external_validation/xgboost_TopN_genes/data_cellTypes/EXTERNAL_{CELL_TYPE}.filtered.log1p.h5ad')\n",
    ")"
   ]
  },
  {
   "cell_type": "code",
   "execution_count": 7,
   "id": "9aa65ec3",
   "metadata": {
    "execution": {
     "iopub.execute_input": "2025-05-15T16:15:09.645366Z",
     "iopub.status.busy": "2025-05-15T16:15:09.645126Z",
     "iopub.status.idle": "2025-05-15T16:15:09.657660Z",
     "shell.execute_reply": "2025-05-15T16:15:09.657249Z"
    },
    "papermill": {
     "duration": 0.042814,
     "end_time": "2025-05-15T16:15:09.658803",
     "exception": false,
     "start_time": "2025-05-15T16:15:09.615989",
     "status": "completed"
    },
    "tags": []
   },
   "outputs": [
    {
     "name": "stdout",
     "output_type": "stream",
     "text": [
      "['ENSG00000204577' 'ENSG00000164674' 'ENSG00000157020' 'ENSG00000181631'\n",
      " 'ENSG00000145675' 'ENSG00000112137' 'ENSG00000197747' 'ENSG00000150782'\n",
      " 'ENSG00000099985' 'ENSG00000173757' 'ENSG00000185291' 'ENSG00000170525'\n",
      " 'ENSG00000145287' 'ENSG00000104998' 'ENSG00000165030' 'ENSG00000177575'\n",
      " 'ENSG00000110324' 'ENSG00000101439' 'ENSG00000164307' 'ENSG00000106803'\n",
      " 'ENSG00000105374' 'ENSG00000101608' 'ENSG00000136738' 'ENSG00000107968'\n",
      " 'ENSG00000167705' 'ENSG00000168610' 'ENSG00000124762' 'ENSG00000163659'\n",
      " 'ENSG00000125743' 'ENSG00000133639' 'ENSG00000177721' 'ENSG00000135604'\n",
      " 'ENSG00000214212' 'ENSG00000140678' 'ENSG00000010327' 'ENSG00000104856'\n",
      " 'ENSG00000147443' 'ENSG00000164543' 'ENSG00000167552' 'ENSG00000115875'\n",
      " 'ENSG00000104894' 'ENSG00000159128' 'ENSG00000172936' 'ENSG00000077238'\n",
      " 'ENSG00000051382' 'ENSG00000184752' 'ENSG00000197249' 'ENSG00000002586'\n",
      " 'ENSG00000079805' 'ENSG00000116171' 'ENSG00000100600' 'ENSG00000204642'\n",
      " 'ENSG00000172183' 'ENSG00000164308' 'ENSG00000126264' 'ENSG00000150093'\n",
      " 'ENSG00000150961' 'ENSG00000165527' 'ENSG00000172009' 'ENSG00000118640'\n",
      " 'ENSG00000171608' 'ENSG00000150337' 'ENSG00000176788' 'ENSG00000104870'\n",
      " 'ENSG00000168461' 'ENSG00000140264' 'ENSG00000242574' 'ENSG00000197766'\n",
      " 'ENSG00000185591' 'ENSG00000165140' 'ENSG00000126353' 'ENSG00000113441'\n",
      " 'ENSG00000169403' 'ENSG00000111335' 'ENSG00000198668' 'ENSG00000084207'\n",
      " 'ENSG00000141574' 'ENSG00000170017' 'ENSG00000100300' 'ENSG00000177556'\n",
      " 'ENSG00000101017' 'ENSG00000229474' 'ENSG00000123685' 'ENSG00000155368'\n",
      " 'ENSG00000185950' 'ENSG00000117318' 'ENSG00000160075' 'ENSG00000142166'\n",
      " 'ENSG00000101474' 'ENSG00000100934' 'ENSG00000231389' 'ENSG00000136003'\n",
      " 'ENSG00000124731' 'ENSG00000188313' 'ENSG00000136732' 'ENSG00000168329'\n",
      " 'ENSG00000145247' 'ENSG00000243749' 'ENSG00000126561' 'ENSG00000143546'\n",
      " 'ENSG00000205542' 'ENSG00000170296' 'ENSG00000121879' 'ENSG00000042753'\n",
      " 'ENSG00000175104' 'ENSG00000126759' 'ENSG00000197102' 'ENSG00000107223'\n",
      " 'ENSG00000109861' 'ENSG00000183486' 'ENSG00000066294' 'ENSG00000241106'\n",
      " 'ENSG00000169385' 'ENSG00000100100' 'ENSG00000115073' 'ENSG00000090554'\n",
      " 'ENSG00000115232' 'ENSG00000145912']\n"
     ]
    }
   ],
   "source": [
    "if SEED != 'all':\n",
    "    gene_subset = np.load(here(f'03_downstream_analysis/08_gene_importance/xgboost_external_validation/shap_gene_selection/gene_subsets_{N_GENES}/{CELL_TYPE}_{SEED}.npy'), allow_pickle=True)\n",
    "    train_adata = train_adata[:,gene_subset]\n",
    "    print(gene_subset)\n",
    "elif SEED == 'all':\n",
    "    print('Using all genes')\n",
    "else:\n",
    "    raise ValueError()"
   ]
  },
  {
   "cell_type": "code",
   "execution_count": 8,
   "id": "a283fd51",
   "metadata": {
    "execution": {
     "iopub.execute_input": "2025-05-15T16:15:09.686464Z",
     "iopub.status.busy": "2025-05-15T16:15:09.686248Z",
     "iopub.status.idle": "2025-05-15T16:15:09.689592Z",
     "shell.execute_reply": "2025-05-15T16:15:09.689247Z"
    },
    "papermill": {
     "duration": 0.012054,
     "end_time": "2025-05-15T16:15:09.690536",
     "exception": false,
     "start_time": "2025-05-15T16:15:09.678482",
     "status": "completed"
    },
    "tags": []
   },
   "outputs": [
    {
     "data": {
      "text/plain": [
       "(5232, 118)"
      ]
     },
     "execution_count": 8,
     "metadata": {},
     "output_type": "execute_result"
    }
   ],
   "source": [
    "train_adata.shape"
   ]
  },
  {
   "cell_type": "code",
   "execution_count": 9,
   "id": "916726ed",
   "metadata": {
    "execution": {
     "iopub.execute_input": "2025-05-15T16:15:09.704428Z",
     "iopub.status.busy": "2025-05-15T16:15:09.704272Z",
     "iopub.status.idle": "2025-05-15T16:15:09.708143Z",
     "shell.execute_reply": "2025-05-15T16:15:09.707809Z"
    },
    "papermill": {
     "duration": 0.011737,
     "end_time": "2025-05-15T16:15:09.709070",
     "exception": false,
     "start_time": "2025-05-15T16:15:09.697333",
     "status": "completed"
    },
    "tags": []
   },
   "outputs": [
    {
     "data": {
      "text/plain": [
       "['RA', 'healthy', 'COVID', 'HIV', 'cirrhosis', 'CD', 'SLE', 'sepsis']\n",
       "Categories (8, object): ['CD', 'COVID', 'HIV', 'RA', 'SLE', 'cirrhosis', 'healthy', 'sepsis']"
      ]
     },
     "execution_count": 9,
     "metadata": {},
     "output_type": "execute_result"
    }
   ],
   "source": [
    "train_adata.obs.disease.unique()"
   ]
  },
  {
   "cell_type": "code",
   "execution_count": 10,
   "id": "aeba7d60",
   "metadata": {
    "execution": {
     "iopub.execute_input": "2025-05-15T16:15:09.723624Z",
     "iopub.status.busy": "2025-05-15T16:15:09.723400Z",
     "iopub.status.idle": "2025-05-15T16:15:09.727275Z",
     "shell.execute_reply": "2025-05-15T16:15:09.726925Z"
    },
    "papermill": {
     "duration": 0.012989,
     "end_time": "2025-05-15T16:15:09.728659",
     "exception": false,
     "start_time": "2025-05-15T16:15:09.715670",
     "status": "completed"
    },
    "tags": []
   },
   "outputs": [
    {
     "data": {
      "text/plain": [
       "['SCGT00val_I036021_T0', 'SCGT00val_I036023_T0', 'SCGT00val_I036024_T0', 'SCGT00val_I036019_T0', 'SCGT00val_I0364_T0', ..., '10XGenomics_10XHC2_T0', '10XGenomics_10XHC3_T0', '10XGenomics_10XHC5_T0', '10XGenomics_10XHC7_T0', '10XGenomics_10XHC8_T0']\n",
       "Length: 86\n",
       "Categories (86, object): ['10XGenomics_10XHC1_T0', '10XGenomics_10XHC2_T0', '10XGenomics_10XHC3_T0', '10XGenomics_10XHC4_T0', ..., 'Savage2021_BRISL6_T0', 'Savage2021_BRISL7_T0', 'Savage2021_PIDA_T0', 'Savage2021_PIDB_T0']"
      ]
     },
     "execution_count": 10,
     "metadata": {},
     "output_type": "execute_result"
    }
   ],
   "source": [
    "train_adata.obs.sampleID.unique()"
   ]
  },
  {
   "cell_type": "code",
   "execution_count": 11,
   "id": "b398864b",
   "metadata": {
    "execution": {
     "iopub.execute_input": "2025-05-15T16:15:09.789786Z",
     "iopub.status.busy": "2025-05-15T16:15:09.789575Z",
     "iopub.status.idle": "2025-05-15T16:15:09.837622Z",
     "shell.execute_reply": "2025-05-15T16:15:09.837205Z"
    },
    "papermill": {
     "duration": 0.077761,
     "end_time": "2025-05-15T16:15:09.838769",
     "exception": false,
     "start_time": "2025-05-15T16:15:09.761008",
     "status": "completed"
    },
    "tags": []
   },
   "outputs": [],
   "source": [
    "all_idxs = np.arange(train_adata.obs.shape[0])\n",
    "left_out_splits = [s[1] for s in StratifiedGroupKFold(n_splits=N_SPLITS).split(all_idxs, train_adata.obs.disease, train_adata.obs.sampleID)]"
   ]
  },
  {
   "cell_type": "code",
   "execution_count": 12,
   "id": "cf80920e",
   "metadata": {
    "execution": {
     "iopub.execute_input": "2025-05-15T16:15:09.863153Z",
     "iopub.status.busy": "2025-05-15T16:15:09.862929Z",
     "iopub.status.idle": "2025-05-15T16:15:09.866436Z",
     "shell.execute_reply": "2025-05-15T16:15:09.866090Z"
    },
    "papermill": {
     "duration": 0.012375,
     "end_time": "2025-05-15T16:15:09.867440",
     "exception": false,
     "start_time": "2025-05-15T16:15:09.855065",
     "status": "completed"
    },
    "tags": []
   },
   "outputs": [
    {
     "data": {
      "text/plain": [
       "([0, 1, 4], 3, 2)"
      ]
     },
     "execution_count": 12,
     "metadata": {},
     "output_type": "execute_result"
    }
   ],
   "source": [
    "TRAIN_SPLIT_IDXS = [0,1,2,3,4]\n",
    "VAL_SPLIT_IDX = (TEST_SPLIT_IDX + 1) % 5\n",
    "TRAIN_SPLIT_IDXS.remove(TEST_SPLIT_IDX)\n",
    "TRAIN_SPLIT_IDXS.remove(VAL_SPLIT_IDX)\n",
    "TRAIN_SPLIT_IDXS, VAL_SPLIT_IDX, TEST_SPLIT_IDX"
   ]
  },
  {
   "cell_type": "code",
   "execution_count": 13,
   "id": "ba899e8b",
   "metadata": {
    "execution": {
     "iopub.execute_input": "2025-05-15T16:15:09.907159Z",
     "iopub.status.busy": "2025-05-15T16:15:09.906938Z",
     "iopub.status.idle": "2025-05-15T16:15:09.909652Z",
     "shell.execute_reply": "2025-05-15T16:15:09.909291Z"
    },
    "papermill": {
     "duration": 0.021094,
     "end_time": "2025-05-15T16:15:09.910772",
     "exception": false,
     "start_time": "2025-05-15T16:15:09.889678",
     "status": "completed"
    },
    "tags": []
   },
   "outputs": [],
   "source": [
    "train_idxs = np.concatenate([left_out_splits[idx] for idx in TRAIN_SPLIT_IDXS])\n",
    "val_idxs = left_out_splits[VAL_SPLIT_IDX]\n",
    "test_idxs = left_out_splits[TEST_SPLIT_IDX]"
   ]
  },
  {
   "cell_type": "markdown",
   "id": "42c0d197",
   "metadata": {
    "papermill": {
     "duration": 0.019616,
     "end_time": "2025-05-15T16:15:09.941459",
     "exception": false,
     "start_time": "2025-05-15T16:15:09.921843",
     "status": "completed"
    },
    "tags": []
   },
   "source": [
    "### SUBSET DATASET INTO TRAIN/TEST/VAL SPLITS"
   ]
  },
  {
   "cell_type": "code",
   "execution_count": 14,
   "id": "f7d313d8",
   "metadata": {
    "execution": {
     "iopub.execute_input": "2025-05-15T16:15:09.956638Z",
     "iopub.status.busy": "2025-05-15T16:15:09.956396Z",
     "iopub.status.idle": "2025-05-15T16:15:09.988811Z",
     "shell.execute_reply": "2025-05-15T16:15:09.988363Z"
    },
    "papermill": {
     "duration": 0.041351,
     "end_time": "2025-05-15T16:15:09.990003",
     "exception": false,
     "start_time": "2025-05-15T16:15:09.948652",
     "status": "completed"
    },
    "tags": []
   },
   "outputs": [
    {
     "data": {
      "text/plain": [
       "((3113, 118), (1091, 118), (1028, 118))"
      ]
     },
     "execution_count": 14,
     "metadata": {},
     "output_type": "execute_result"
    }
   ],
   "source": [
    "X_train = train_adata.X[train_idxs]\n",
    "X_test = train_adata.X[test_idxs]\n",
    "X_val = train_adata.X[val_idxs]\n",
    "X_train.shape, X_test.shape, X_val.shape"
   ]
  },
  {
   "cell_type": "code",
   "execution_count": 15,
   "id": "c7fba0be",
   "metadata": {
    "execution": {
     "iopub.execute_input": "2025-05-15T16:15:10.008538Z",
     "iopub.status.busy": "2025-05-15T16:15:10.008279Z",
     "iopub.status.idle": "2025-05-15T16:15:10.014537Z",
     "shell.execute_reply": "2025-05-15T16:15:10.014165Z"
    },
    "papermill": {
     "duration": 0.016834,
     "end_time": "2025-05-15T16:15:10.015605",
     "exception": false,
     "start_time": "2025-05-15T16:15:09.998771",
     "status": "completed"
    },
    "tags": []
   },
   "outputs": [
    {
     "data": {
      "text/plain": [
       "((3113,), (1091,), (1028,))"
      ]
     },
     "execution_count": 15,
     "metadata": {},
     "output_type": "execute_result"
    }
   ],
   "source": [
    "y_train = train_adata.obs.iloc[train_idxs].disease.values.astype(str)\n",
    "y_test = train_adata.obs.iloc[test_idxs].disease.values.astype(str)\n",
    "y_val = train_adata.obs.iloc[val_idxs].disease.values.astype(str)\n",
    "y_train.shape, y_test.shape, y_val.shape"
   ]
  },
  {
   "cell_type": "code",
   "execution_count": 16,
   "id": "e0780374",
   "metadata": {
    "execution": {
     "iopub.execute_input": "2025-05-15T16:15:10.032386Z",
     "iopub.status.busy": "2025-05-15T16:15:10.032019Z",
     "iopub.status.idle": "2025-05-15T16:15:10.036107Z",
     "shell.execute_reply": "2025-05-15T16:15:10.035762Z"
    },
    "papermill": {
     "duration": 0.013917,
     "end_time": "2025-05-15T16:15:10.037459",
     "exception": false,
     "start_time": "2025-05-15T16:15:10.023542",
     "status": "completed"
    },
    "tags": []
   },
   "outputs": [],
   "source": [
    "lenc = LabelEncoder()\n",
    "y_train_enc = lenc.fit_transform(y_train)\n",
    "y_val_enc = lenc.transform(y_val)\n",
    "y_test_enc = lenc.transform(y_test)"
   ]
  },
  {
   "cell_type": "markdown",
   "id": "85645a45",
   "metadata": {
    "papermill": {
     "duration": 0.024111,
     "end_time": "2025-05-15T16:15:10.070043",
     "exception": false,
     "start_time": "2025-05-15T16:15:10.045932",
     "status": "completed"
    },
    "tags": []
   },
   "source": [
    "### GENERATE F1 "
   ]
  },
  {
   "cell_type": "code",
   "execution_count": 17,
   "id": "ef4651e9",
   "metadata": {
    "execution": {
     "iopub.execute_input": "2025-05-15T16:15:10.097326Z",
     "iopub.status.busy": "2025-05-15T16:15:10.097123Z",
     "iopub.status.idle": "2025-05-15T16:15:10.099893Z",
     "shell.execute_reply": "2025-05-15T16:15:10.099527Z"
    },
    "papermill": {
     "duration": 0.011598,
     "end_time": "2025-05-15T16:15:10.100897",
     "exception": false,
     "start_time": "2025-05-15T16:15:10.089299",
     "status": "completed"
    },
    "tags": []
   },
   "outputs": [],
   "source": [
    "def custom_f1_score(y_true, y_pred):\n",
    "    return -f1_score(y_true, y_pred.argmax(1), average='weighted')"
   ]
  },
  {
   "cell_type": "code",
   "execution_count": 18,
   "id": "6cf65b39",
   "metadata": {
    "execution": {
     "iopub.execute_input": "2025-05-15T16:15:10.116665Z",
     "iopub.status.busy": "2025-05-15T16:15:10.116041Z",
     "iopub.status.idle": "2025-05-15T16:15:10.120497Z",
     "shell.execute_reply": "2025-05-15T16:15:10.120075Z"
    },
    "papermill": {
     "duration": 0.013542,
     "end_time": "2025-05-15T16:15:10.121576",
     "exception": false,
     "start_time": "2025-05-15T16:15:10.108034",
     "status": "completed"
    },
    "tags": []
   },
   "outputs": [],
   "source": [
    "eval_metric=custom_f1_score\n",
    "eval_metric_name='custom_f1_score'\n",
    "\n",
    "def objective(trial):\n",
    "    params = {\n",
    "        'n_estimators': 1500,\n",
    "        'max_depth': trial.suggest_int('max_depth', 3, 20),\n",
    "        'min_child_weight': trial.suggest_int('min_child_weight', 1, 250),\n",
    "        'subsample': trial.suggest_float('subsample', 0.1, 1.0),\n",
    "        'colsample_bynode': trial.suggest_float('colsample_bynode', 0.1, 1.0),\n",
    "        'learning_rate': trial.suggest_float('learning_rate', 1e-3, 5e-1, log=True),\n",
    "    }\n",
    "    pruning_callback = optuna.integration.XGBoostPruningCallback(trial, f'validation_0-{eval_metric_name}')\n",
    "    es_callback = xgboost.callback.EarlyStopping(20, min_delta=0.001)\n",
    "    xgb = xgboost.XGBClassifier(\n",
    "        eval_metric=eval_metric,\n",
    "        callbacks=[pruning_callback, es_callback],\n",
    "        n_jobs=5,\n",
    "        **params\n",
    "    )\n",
    "    xgb.fit(\n",
    "        X_train, \n",
    "        y_train_enc, \n",
    "        verbose=0,\n",
    "        eval_set=[(X_val, y_val_enc)],\n",
    "    )\n",
    "    trial.set_user_attr('best_iteration', xgb.best_iteration)\n",
    "\n",
    "    return xgb.best_score"
   ]
  },
  {
   "cell_type": "code",
   "execution_count": 19,
   "id": "e13f1963",
   "metadata": {
    "execution": {
     "iopub.execute_input": "2025-05-15T16:15:10.174360Z",
     "iopub.status.busy": "2025-05-15T16:15:10.173978Z",
     "iopub.status.idle": "2025-05-15T16:15:47.525744Z",
     "shell.execute_reply": "2025-05-15T16:15:47.525253Z"
    },
    "papermill": {
     "duration": 37.395608,
     "end_time": "2025-05-15T16:15:47.526763",
     "exception": false,
     "start_time": "2025-05-15T16:15:10.131155",
     "status": "completed"
    },
    "scrolled": true,
    "tags": []
   },
   "outputs": [
    {
     "name": "stderr",
     "output_type": "stream",
     "text": [
      "[I 2025-05-15 18:15:10,176] A new study created in memory with name: no-name-1fb1e49e-0a57-4f29-ab8d-e20aff89f314\n"
     ]
    },
    {
     "name": "stderr",
     "output_type": "stream",
     "text": [
      "[I 2025-05-15 18:15:10,715] Trial 0 finished with value: -0.523454 and parameters: {'max_depth': 9, 'min_child_weight': 238, 'subsample': 0.7587945476302645, 'colsample_bynode': 0.6387926357773329, 'learning_rate': 0.0026368755339723046}. Best is trial 0 with value: -0.523454.\n"
     ]
    },
    {
     "name": "stderr",
     "output_type": "stream",
     "text": [
      "[I 2025-05-15 18:15:13,074] Trial 1 finished with value: -0.71021 and parameters: {'max_depth': 5, 'min_child_weight': 15, 'subsample': 0.8795585311974417, 'colsample_bynode': 0.6410035105688879, 'learning_rate': 0.08148293210105287}. Best is trial 1 with value: -0.71021.\n"
     ]
    },
    {
     "name": "stderr",
     "output_type": "stream",
     "text": [
      "[I 2025-05-15 18:15:13,781] Trial 2 finished with value: -0.564419 and parameters: {'max_depth': 3, 'min_child_weight': 243, 'subsample': 0.8491983767203796, 'colsample_bynode': 0.29110519961044856, 'learning_rate': 0.003095566460242371}. Best is trial 1 with value: -0.71021.\n"
     ]
    },
    {
     "name": "stderr",
     "output_type": "stream",
     "text": [
      "[I 2025-05-15 18:15:14,265] Trial 3 finished with value: -0.559524 and parameters: {'max_depth': 6, 'min_child_weight': 77, 'subsample': 0.5722807884690141, 'colsample_bynode': 0.48875051677790415, 'learning_rate': 0.006109683510122491}. Best is trial 1 with value: -0.71021.\n"
     ]
    },
    {
     "name": "stderr",
     "output_type": "stream",
     "text": [
      "[I 2025-05-15 18:15:15,373] Trial 4 finished with value: -0.627264 and parameters: {'max_depth': 14, 'min_child_weight': 35, 'subsample': 0.3629301836816964, 'colsample_bynode': 0.4297256589643226, 'learning_rate': 0.01701841881702917}. Best is trial 1 with value: -0.71021.\n"
     ]
    },
    {
     "name": "stderr",
     "output_type": "stream",
     "text": [
      "[I 2025-05-15 18:15:16,096] Trial 5 pruned. Trial was pruned at iteration 35.\n"
     ]
    },
    {
     "name": "stderr",
     "output_type": "stream",
     "text": [
      "[I 2025-05-15 18:15:16,252] Trial 6 pruned. Trial was pruned at iteration 0.\n"
     ]
    },
    {
     "name": "stderr",
     "output_type": "stream",
     "text": [
      "[I 2025-05-15 18:15:16,396] Trial 7 pruned. Trial was pruned at iteration 0.\n"
     ]
    },
    {
     "name": "stderr",
     "output_type": "stream",
     "text": [
      "[I 2025-05-15 18:15:16,550] Trial 8 pruned. Trial was pruned at iteration 0.\n"
     ]
    },
    {
     "name": "stderr",
     "output_type": "stream",
     "text": [
      "[I 2025-05-15 18:15:16,702] Trial 9 pruned. Trial was pruned at iteration 0.\n"
     ]
    },
    {
     "name": "stderr",
     "output_type": "stream",
     "text": [
      "[I 2025-05-15 18:15:19,625] Trial 10 finished with value: -0.718834 and parameters: {'max_depth': 9, 'min_child_weight': 2, 'subsample': 0.9725833997090791, 'colsample_bynode': 0.11616568805333755, 'learning_rate': 0.17780618353487967}. Best is trial 10 with value: -0.718834.\n"
     ]
    },
    {
     "name": "stderr",
     "output_type": "stream",
     "text": [
      "[I 2025-05-15 18:15:22,127] Trial 11 pruned. Trial was pruned at iteration 75.\n"
     ]
    },
    {
     "name": "stderr",
     "output_type": "stream",
     "text": [
      "[I 2025-05-15 18:15:24,863] Trial 12 finished with value: -0.698156 and parameters: {'max_depth': 9, 'min_child_weight': 3, 'subsample': 0.9754570370311046, 'colsample_bynode': 0.14672783827498995, 'learning_rate': 0.08954997670613858}. Best is trial 10 with value: -0.718834.\n"
     ]
    },
    {
     "name": "stderr",
     "output_type": "stream",
     "text": [
      "[I 2025-05-15 18:15:25,009] Trial 13 pruned. Trial was pruned at iteration 0.\n"
     ]
    },
    {
     "name": "stderr",
     "output_type": "stream",
     "text": [
      "[I 2025-05-15 18:15:25,153] Trial 14 pruned. Trial was pruned at iteration 0.\n"
     ]
    },
    {
     "name": "stderr",
     "output_type": "stream",
     "text": [
      "[I 2025-05-15 18:15:27,002] Trial 15 finished with value: -0.68799 and parameters: {'max_depth': 20, 'min_child_weight': 1, 'subsample': 0.6960027044621645, 'colsample_bynode': 0.29820978139149346, 'learning_rate': 0.03580498851951521}. Best is trial 10 with value: -0.718834.\n"
     ]
    },
    {
     "name": "stderr",
     "output_type": "stream",
     "text": [
      "[I 2025-05-15 18:15:27,152] Trial 16 pruned. Trial was pruned at iteration 0.\n"
     ]
    },
    {
     "name": "stderr",
     "output_type": "stream",
     "text": [
      "[I 2025-05-15 18:15:27,289] Trial 17 pruned. Trial was pruned at iteration 0.\n"
     ]
    },
    {
     "name": "stderr",
     "output_type": "stream",
     "text": [
      "[I 2025-05-15 18:15:27,434] Trial 18 pruned. Trial was pruned at iteration 0.\n"
     ]
    },
    {
     "name": "stderr",
     "output_type": "stream",
     "text": [
      "[I 2025-05-15 18:15:27,613] Trial 19 pruned. Trial was pruned at iteration 0.\n"
     ]
    },
    {
     "name": "stderr",
     "output_type": "stream",
     "text": [
      "[I 2025-05-15 18:15:28,951] Trial 20 finished with value: -0.706507 and parameters: {'max_depth': 8, 'min_child_weight': 24, 'subsample': 0.9987814503928554, 'colsample_bynode': 0.8651467877814526, 'learning_rate': 0.2221537505158567}. Best is trial 10 with value: -0.718834.\n"
     ]
    },
    {
     "name": "stderr",
     "output_type": "stream",
     "text": [
      "[I 2025-05-15 18:15:30,556] Trial 21 pruned. Trial was pruned at iteration 77.\n"
     ]
    },
    {
     "name": "stderr",
     "output_type": "stream",
     "text": [
      "[I 2025-05-15 18:15:30,718] Trial 22 pruned. Trial was pruned at iteration 0.\n"
     ]
    },
    {
     "name": "stderr",
     "output_type": "stream",
     "text": [
      "[I 2025-05-15 18:15:30,894] Trial 23 pruned. Trial was pruned at iteration 0.\n"
     ]
    },
    {
     "name": "stderr",
     "output_type": "stream",
     "text": [
      "[I 2025-05-15 18:15:31,197] Trial 24 pruned. Trial was pruned at iteration 4.\n"
     ]
    },
    {
     "name": "stderr",
     "output_type": "stream",
     "text": [
      "[I 2025-05-15 18:15:31,353] Trial 25 pruned. Trial was pruned at iteration 0.\n"
     ]
    },
    {
     "name": "stderr",
     "output_type": "stream",
     "text": [
      "[I 2025-05-15 18:15:31,519] Trial 26 pruned. Trial was pruned at iteration 0.\n"
     ]
    },
    {
     "name": "stderr",
     "output_type": "stream",
     "text": [
      "[I 2025-05-15 18:15:31,677] Trial 27 pruned. Trial was pruned at iteration 0.\n"
     ]
    },
    {
     "name": "stderr",
     "output_type": "stream",
     "text": [
      "[I 2025-05-15 18:15:31,830] Trial 28 pruned. Trial was pruned at iteration 0.\n"
     ]
    },
    {
     "name": "stderr",
     "output_type": "stream",
     "text": [
      "[I 2025-05-15 18:15:31,974] Trial 29 pruned. Trial was pruned at iteration 0.\n"
     ]
    },
    {
     "name": "stderr",
     "output_type": "stream",
     "text": [
      "[I 2025-05-15 18:15:32,140] Trial 30 pruned. Trial was pruned at iteration 0.\n"
     ]
    },
    {
     "name": "stderr",
     "output_type": "stream",
     "text": [
      "[I 2025-05-15 18:15:33,472] Trial 31 pruned. Trial was pruned at iteration 32.\n"
     ]
    },
    {
     "name": "stderr",
     "output_type": "stream",
     "text": [
      "[I 2025-05-15 18:15:33,931] Trial 32 pruned. Trial was pruned at iteration 19.\n"
     ]
    },
    {
     "name": "stderr",
     "output_type": "stream",
     "text": [
      "[I 2025-05-15 18:15:35,861] Trial 33 pruned. Trial was pruned at iteration 74.\n"
     ]
    },
    {
     "name": "stderr",
     "output_type": "stream",
     "text": [
      "[I 2025-05-15 18:15:36,013] Trial 34 pruned. Trial was pruned at iteration 0.\n"
     ]
    },
    {
     "name": "stderr",
     "output_type": "stream",
     "text": [
      "[I 2025-05-15 18:15:36,543] Trial 35 pruned. Trial was pruned at iteration 21.\n"
     ]
    },
    {
     "name": "stderr",
     "output_type": "stream",
     "text": [
      "[I 2025-05-15 18:15:36,701] Trial 36 pruned. Trial was pruned at iteration 0.\n"
     ]
    },
    {
     "name": "stderr",
     "output_type": "stream",
     "text": [
      "[I 2025-05-15 18:15:37,225] Trial 37 finished with value: -0.657109 and parameters: {'max_depth': 7, 'min_child_weight': 33, 'subsample': 0.9405091317928074, 'colsample_bynode': 0.34394419233355433, 'learning_rate': 0.07303379104235479}. Best is trial 10 with value: -0.718834.\n"
     ]
    },
    {
     "name": "stderr",
     "output_type": "stream",
     "text": [
      "[I 2025-05-15 18:15:37,381] Trial 38 pruned. Trial was pruned at iteration 0.\n"
     ]
    },
    {
     "name": "stderr",
     "output_type": "stream",
     "text": [
      "[I 2025-05-15 18:15:37,545] Trial 39 pruned. Trial was pruned at iteration 0.\n"
     ]
    },
    {
     "name": "stderr",
     "output_type": "stream",
     "text": [
      "[I 2025-05-15 18:15:38,428] Trial 40 pruned. Trial was pruned at iteration 20.\n"
     ]
    },
    {
     "name": "stderr",
     "output_type": "stream",
     "text": [
      "[I 2025-05-15 18:15:39,802] Trial 41 pruned. Trial was pruned at iteration 24.\n"
     ]
    },
    {
     "name": "stderr",
     "output_type": "stream",
     "text": [
      "[I 2025-05-15 18:15:39,958] Trial 42 pruned. Trial was pruned at iteration 0.\n"
     ]
    },
    {
     "name": "stderr",
     "output_type": "stream",
     "text": [
      "[I 2025-05-15 18:15:40,746] Trial 43 finished with value: -0.663658 and parameters: {'max_depth': 20, 'min_child_weight': 13, 'subsample': 0.9514671333872025, 'colsample_bynode': 0.21184097456811732, 'learning_rate': 0.012029754634885995}. Best is trial 10 with value: -0.718834.\n"
     ]
    },
    {
     "name": "stderr",
     "output_type": "stream",
     "text": [
      "[I 2025-05-15 18:15:43,138] Trial 44 finished with value: -0.687559 and parameters: {'max_depth': 16, 'min_child_weight': 1, 'subsample': 0.9004976327581709, 'colsample_bynode': 0.14762051884252497, 'learning_rate': 0.10572525333887128}. Best is trial 10 with value: -0.718834.\n"
     ]
    },
    {
     "name": "stderr",
     "output_type": "stream",
     "text": [
      "[I 2025-05-15 18:15:43,289] Trial 45 pruned. Trial was pruned at iteration 0.\n"
     ]
    },
    {
     "name": "stderr",
     "output_type": "stream",
     "text": [
      "[I 2025-05-15 18:15:43,444] Trial 46 pruned. Trial was pruned at iteration 0.\n"
     ]
    },
    {
     "name": "stderr",
     "output_type": "stream",
     "text": [
      "[I 2025-05-15 18:15:45,276] Trial 47 finished with value: -0.723357 and parameters: {'max_depth': 15, 'min_child_weight': 13, 'subsample': 0.6123676488451443, 'colsample_bynode': 0.33493992210515877, 'learning_rate': 0.1430303592831849}. Best is trial 47 with value: -0.723357.\n"
     ]
    },
    {
     "name": "stderr",
     "output_type": "stream",
     "text": [
      "[I 2025-05-15 18:15:45,422] Trial 48 pruned. Trial was pruned at iteration 0.\n"
     ]
    },
    {
     "name": "stderr",
     "output_type": "stream",
     "text": [
      "[I 2025-05-15 18:15:47,432] Trial 49 finished with value: -0.716877 and parameters: {'max_depth': 13, 'min_child_weight': 13, 'subsample': 0.9635292206481937, 'colsample_bynode': 0.6121284772279122, 'learning_rate': 0.15004760858367835}. Best is trial 47 with value: -0.723357.\n"
     ]
    }
   ],
   "source": [
    "sampler = optuna.samplers.TPESampler(seed=42)\n",
    "study = optuna.create_study(direction='minimize', sampler=sampler)\n",
    "study.optimize(objective, n_trials=N_TRIALS, gc_after_trial=True)"
   ]
  },
  {
   "cell_type": "code",
   "execution_count": 20,
   "id": "07a47766",
   "metadata": {
    "execution": {
     "iopub.execute_input": "2025-05-15T16:15:47.553141Z",
     "iopub.status.busy": "2025-05-15T16:15:47.552909Z",
     "iopub.status.idle": "2025-05-15T16:15:47.577856Z",
     "shell.execute_reply": "2025-05-15T16:15:47.577441Z"
    },
    "papermill": {
     "duration": 0.042708,
     "end_time": "2025-05-15T16:15:47.578757",
     "exception": false,
     "start_time": "2025-05-15T16:15:47.536049",
     "status": "completed"
    },
    "tags": []
   },
   "outputs": [
    {
     "data": {
      "text/plain": [
       "['/scratch_isilon/groups/singlecell/shared/projects/Inflammation-PBMCs-Atlas/03_downstream_analysis/08_gene_importance/xgboost_external_validation/xgboost_TopN_genes/results_20/study/DC_12_2_xgboost.pkl']"
      ]
     },
     "execution_count": 20,
     "metadata": {},
     "output_type": "execute_result"
    }
   ],
   "source": [
    "out_dir = here(f'03_downstream_analysis/08_gene_importance/xgboost_external_validation/xgboost_TopN_genes/results_{N_GENES}/study')\n",
    "\n",
    "if not os.path.exists(out_dir):\n",
    "    os.makedirs(out_dir)\n",
    "    \n",
    "joblib.dump(study,os.path.join(out_dir, f'{CELL_TYPE}_{SEED}_{TEST_SPLIT_IDX}_xgboost.pkl'))"
   ]
  },
  {
   "cell_type": "code",
   "execution_count": 21,
   "id": "4a2ec3c5",
   "metadata": {
    "execution": {
     "iopub.execute_input": "2025-05-15T16:15:47.614752Z",
     "iopub.status.busy": "2025-05-15T16:15:47.614344Z",
     "iopub.status.idle": "2025-05-15T16:15:49.437894Z",
     "shell.execute_reply": "2025-05-15T16:15:49.437513Z"
    },
    "papermill": {
     "duration": 1.851496,
     "end_time": "2025-05-15T16:15:49.438967",
     "exception": false,
     "start_time": "2025-05-15T16:15:47.587471",
     "status": "completed"
    },
    "tags": []
   },
   "outputs": [
    {
     "data": {
      "text/html": [
       "<style>#sk-container-id-1 {\n",
       "  /* Definition of color scheme common for light and dark mode */\n",
       "  --sklearn-color-text: black;\n",
       "  --sklearn-color-line: gray;\n",
       "  /* Definition of color scheme for unfitted estimators */\n",
       "  --sklearn-color-unfitted-level-0: #fff5e6;\n",
       "  --sklearn-color-unfitted-level-1: #f6e4d2;\n",
       "  --sklearn-color-unfitted-level-2: #ffe0b3;\n",
       "  --sklearn-color-unfitted-level-3: chocolate;\n",
       "  /* Definition of color scheme for fitted estimators */\n",
       "  --sklearn-color-fitted-level-0: #f0f8ff;\n",
       "  --sklearn-color-fitted-level-1: #d4ebff;\n",
       "  --sklearn-color-fitted-level-2: #b3dbfd;\n",
       "  --sklearn-color-fitted-level-3: cornflowerblue;\n",
       "\n",
       "  /* Specific color for light theme */\n",
       "  --sklearn-color-text-on-default-background: var(--sg-text-color, var(--theme-code-foreground, var(--jp-content-font-color1, black)));\n",
       "  --sklearn-color-background: var(--sg-background-color, var(--theme-background, var(--jp-layout-color0, white)));\n",
       "  --sklearn-color-border-box: var(--sg-text-color, var(--theme-code-foreground, var(--jp-content-font-color1, black)));\n",
       "  --sklearn-color-icon: #696969;\n",
       "\n",
       "  @media (prefers-color-scheme: dark) {\n",
       "    /* Redefinition of color scheme for dark theme */\n",
       "    --sklearn-color-text-on-default-background: var(--sg-text-color, var(--theme-code-foreground, var(--jp-content-font-color1, white)));\n",
       "    --sklearn-color-background: var(--sg-background-color, var(--theme-background, var(--jp-layout-color0, #111)));\n",
       "    --sklearn-color-border-box: var(--sg-text-color, var(--theme-code-foreground, var(--jp-content-font-color1, white)));\n",
       "    --sklearn-color-icon: #878787;\n",
       "  }\n",
       "}\n",
       "\n",
       "#sk-container-id-1 {\n",
       "  color: var(--sklearn-color-text);\n",
       "}\n",
       "\n",
       "#sk-container-id-1 pre {\n",
       "  padding: 0;\n",
       "}\n",
       "\n",
       "#sk-container-id-1 input.sk-hidden--visually {\n",
       "  border: 0;\n",
       "  clip: rect(1px 1px 1px 1px);\n",
       "  clip: rect(1px, 1px, 1px, 1px);\n",
       "  height: 1px;\n",
       "  margin: -1px;\n",
       "  overflow: hidden;\n",
       "  padding: 0;\n",
       "  position: absolute;\n",
       "  width: 1px;\n",
       "}\n",
       "\n",
       "#sk-container-id-1 div.sk-dashed-wrapped {\n",
       "  border: 1px dashed var(--sklearn-color-line);\n",
       "  margin: 0 0.4em 0.5em 0.4em;\n",
       "  box-sizing: border-box;\n",
       "  padding-bottom: 0.4em;\n",
       "  background-color: var(--sklearn-color-background);\n",
       "}\n",
       "\n",
       "#sk-container-id-1 div.sk-container {\n",
       "  /* jupyter's `normalize.less` sets `[hidden] { display: none; }`\n",
       "     but bootstrap.min.css set `[hidden] { display: none !important; }`\n",
       "     so we also need the `!important` here to be able to override the\n",
       "     default hidden behavior on the sphinx rendered scikit-learn.org.\n",
       "     See: https://github.com/scikit-learn/scikit-learn/issues/21755 */\n",
       "  display: inline-block !important;\n",
       "  position: relative;\n",
       "}\n",
       "\n",
       "#sk-container-id-1 div.sk-text-repr-fallback {\n",
       "  display: none;\n",
       "}\n",
       "\n",
       "div.sk-parallel-item,\n",
       "div.sk-serial,\n",
       "div.sk-item {\n",
       "  /* draw centered vertical line to link estimators */\n",
       "  background-image: linear-gradient(var(--sklearn-color-text-on-default-background), var(--sklearn-color-text-on-default-background));\n",
       "  background-size: 2px 100%;\n",
       "  background-repeat: no-repeat;\n",
       "  background-position: center center;\n",
       "}\n",
       "\n",
       "/* Parallel-specific style estimator block */\n",
       "\n",
       "#sk-container-id-1 div.sk-parallel-item::after {\n",
       "  content: \"\";\n",
       "  width: 100%;\n",
       "  border-bottom: 2px solid var(--sklearn-color-text-on-default-background);\n",
       "  flex-grow: 1;\n",
       "}\n",
       "\n",
       "#sk-container-id-1 div.sk-parallel {\n",
       "  display: flex;\n",
       "  align-items: stretch;\n",
       "  justify-content: center;\n",
       "  background-color: var(--sklearn-color-background);\n",
       "  position: relative;\n",
       "}\n",
       "\n",
       "#sk-container-id-1 div.sk-parallel-item {\n",
       "  display: flex;\n",
       "  flex-direction: column;\n",
       "}\n",
       "\n",
       "#sk-container-id-1 div.sk-parallel-item:first-child::after {\n",
       "  align-self: flex-end;\n",
       "  width: 50%;\n",
       "}\n",
       "\n",
       "#sk-container-id-1 div.sk-parallel-item:last-child::after {\n",
       "  align-self: flex-start;\n",
       "  width: 50%;\n",
       "}\n",
       "\n",
       "#sk-container-id-1 div.sk-parallel-item:only-child::after {\n",
       "  width: 0;\n",
       "}\n",
       "\n",
       "/* Serial-specific style estimator block */\n",
       "\n",
       "#sk-container-id-1 div.sk-serial {\n",
       "  display: flex;\n",
       "  flex-direction: column;\n",
       "  align-items: center;\n",
       "  background-color: var(--sklearn-color-background);\n",
       "  padding-right: 1em;\n",
       "  padding-left: 1em;\n",
       "}\n",
       "\n",
       "\n",
       "/* Toggleable style: style used for estimator/Pipeline/ColumnTransformer box that is\n",
       "clickable and can be expanded/collapsed.\n",
       "- Pipeline and ColumnTransformer use this feature and define the default style\n",
       "- Estimators will overwrite some part of the style using the `sk-estimator` class\n",
       "*/\n",
       "\n",
       "/* Pipeline and ColumnTransformer style (default) */\n",
       "\n",
       "#sk-container-id-1 div.sk-toggleable {\n",
       "  /* Default theme specific background. It is overwritten whether we have a\n",
       "  specific estimator or a Pipeline/ColumnTransformer */\n",
       "  background-color: var(--sklearn-color-background);\n",
       "}\n",
       "\n",
       "/* Toggleable label */\n",
       "#sk-container-id-1 label.sk-toggleable__label {\n",
       "  cursor: pointer;\n",
       "  display: block;\n",
       "  width: 100%;\n",
       "  margin-bottom: 0;\n",
       "  padding: 0.5em;\n",
       "  box-sizing: border-box;\n",
       "  text-align: center;\n",
       "}\n",
       "\n",
       "#sk-container-id-1 label.sk-toggleable__label-arrow:before {\n",
       "  /* Arrow on the left of the label */\n",
       "  content: \"▸\";\n",
       "  float: left;\n",
       "  margin-right: 0.25em;\n",
       "  color: var(--sklearn-color-icon);\n",
       "}\n",
       "\n",
       "#sk-container-id-1 label.sk-toggleable__label-arrow:hover:before {\n",
       "  color: var(--sklearn-color-text);\n",
       "}\n",
       "\n",
       "/* Toggleable content - dropdown */\n",
       "\n",
       "#sk-container-id-1 div.sk-toggleable__content {\n",
       "  max-height: 0;\n",
       "  max-width: 0;\n",
       "  overflow: hidden;\n",
       "  text-align: left;\n",
       "  /* unfitted */\n",
       "  background-color: var(--sklearn-color-unfitted-level-0);\n",
       "}\n",
       "\n",
       "#sk-container-id-1 div.sk-toggleable__content.fitted {\n",
       "  /* fitted */\n",
       "  background-color: var(--sklearn-color-fitted-level-0);\n",
       "}\n",
       "\n",
       "#sk-container-id-1 div.sk-toggleable__content pre {\n",
       "  margin: 0.2em;\n",
       "  border-radius: 0.25em;\n",
       "  color: var(--sklearn-color-text);\n",
       "  /* unfitted */\n",
       "  background-color: var(--sklearn-color-unfitted-level-0);\n",
       "}\n",
       "\n",
       "#sk-container-id-1 div.sk-toggleable__content.fitted pre {\n",
       "  /* unfitted */\n",
       "  background-color: var(--sklearn-color-fitted-level-0);\n",
       "}\n",
       "\n",
       "#sk-container-id-1 input.sk-toggleable__control:checked~div.sk-toggleable__content {\n",
       "  /* Expand drop-down */\n",
       "  max-height: 200px;\n",
       "  max-width: 100%;\n",
       "  overflow: auto;\n",
       "}\n",
       "\n",
       "#sk-container-id-1 input.sk-toggleable__control:checked~label.sk-toggleable__label-arrow:before {\n",
       "  content: \"▾\";\n",
       "}\n",
       "\n",
       "/* Pipeline/ColumnTransformer-specific style */\n",
       "\n",
       "#sk-container-id-1 div.sk-label input.sk-toggleable__control:checked~label.sk-toggleable__label {\n",
       "  color: var(--sklearn-color-text);\n",
       "  background-color: var(--sklearn-color-unfitted-level-2);\n",
       "}\n",
       "\n",
       "#sk-container-id-1 div.sk-label.fitted input.sk-toggleable__control:checked~label.sk-toggleable__label {\n",
       "  background-color: var(--sklearn-color-fitted-level-2);\n",
       "}\n",
       "\n",
       "/* Estimator-specific style */\n",
       "\n",
       "/* Colorize estimator box */\n",
       "#sk-container-id-1 div.sk-estimator input.sk-toggleable__control:checked~label.sk-toggleable__label {\n",
       "  /* unfitted */\n",
       "  background-color: var(--sklearn-color-unfitted-level-2);\n",
       "}\n",
       "\n",
       "#sk-container-id-1 div.sk-estimator.fitted input.sk-toggleable__control:checked~label.sk-toggleable__label {\n",
       "  /* fitted */\n",
       "  background-color: var(--sklearn-color-fitted-level-2);\n",
       "}\n",
       "\n",
       "#sk-container-id-1 div.sk-label label.sk-toggleable__label,\n",
       "#sk-container-id-1 div.sk-label label {\n",
       "  /* The background is the default theme color */\n",
       "  color: var(--sklearn-color-text-on-default-background);\n",
       "}\n",
       "\n",
       "/* On hover, darken the color of the background */\n",
       "#sk-container-id-1 div.sk-label:hover label.sk-toggleable__label {\n",
       "  color: var(--sklearn-color-text);\n",
       "  background-color: var(--sklearn-color-unfitted-level-2);\n",
       "}\n",
       "\n",
       "/* Label box, darken color on hover, fitted */\n",
       "#sk-container-id-1 div.sk-label.fitted:hover label.sk-toggleable__label.fitted {\n",
       "  color: var(--sklearn-color-text);\n",
       "  background-color: var(--sklearn-color-fitted-level-2);\n",
       "}\n",
       "\n",
       "/* Estimator label */\n",
       "\n",
       "#sk-container-id-1 div.sk-label label {\n",
       "  font-family: monospace;\n",
       "  font-weight: bold;\n",
       "  display: inline-block;\n",
       "  line-height: 1.2em;\n",
       "}\n",
       "\n",
       "#sk-container-id-1 div.sk-label-container {\n",
       "  text-align: center;\n",
       "}\n",
       "\n",
       "/* Estimator-specific */\n",
       "#sk-container-id-1 div.sk-estimator {\n",
       "  font-family: monospace;\n",
       "  border: 1px dotted var(--sklearn-color-border-box);\n",
       "  border-radius: 0.25em;\n",
       "  box-sizing: border-box;\n",
       "  margin-bottom: 0.5em;\n",
       "  /* unfitted */\n",
       "  background-color: var(--sklearn-color-unfitted-level-0);\n",
       "}\n",
       "\n",
       "#sk-container-id-1 div.sk-estimator.fitted {\n",
       "  /* fitted */\n",
       "  background-color: var(--sklearn-color-fitted-level-0);\n",
       "}\n",
       "\n",
       "/* on hover */\n",
       "#sk-container-id-1 div.sk-estimator:hover {\n",
       "  /* unfitted */\n",
       "  background-color: var(--sklearn-color-unfitted-level-2);\n",
       "}\n",
       "\n",
       "#sk-container-id-1 div.sk-estimator.fitted:hover {\n",
       "  /* fitted */\n",
       "  background-color: var(--sklearn-color-fitted-level-2);\n",
       "}\n",
       "\n",
       "/* Specification for estimator info (e.g. \"i\" and \"?\") */\n",
       "\n",
       "/* Common style for \"i\" and \"?\" */\n",
       "\n",
       ".sk-estimator-doc-link,\n",
       "a:link.sk-estimator-doc-link,\n",
       "a:visited.sk-estimator-doc-link {\n",
       "  float: right;\n",
       "  font-size: smaller;\n",
       "  line-height: 1em;\n",
       "  font-family: monospace;\n",
       "  background-color: var(--sklearn-color-background);\n",
       "  border-radius: 1em;\n",
       "  height: 1em;\n",
       "  width: 1em;\n",
       "  text-decoration: none !important;\n",
       "  margin-left: 1ex;\n",
       "  /* unfitted */\n",
       "  border: var(--sklearn-color-unfitted-level-1) 1pt solid;\n",
       "  color: var(--sklearn-color-unfitted-level-1);\n",
       "}\n",
       "\n",
       ".sk-estimator-doc-link.fitted,\n",
       "a:link.sk-estimator-doc-link.fitted,\n",
       "a:visited.sk-estimator-doc-link.fitted {\n",
       "  /* fitted */\n",
       "  border: var(--sklearn-color-fitted-level-1) 1pt solid;\n",
       "  color: var(--sklearn-color-fitted-level-1);\n",
       "}\n",
       "\n",
       "/* On hover */\n",
       "div.sk-estimator:hover .sk-estimator-doc-link:hover,\n",
       ".sk-estimator-doc-link:hover,\n",
       "div.sk-label-container:hover .sk-estimator-doc-link:hover,\n",
       ".sk-estimator-doc-link:hover {\n",
       "  /* unfitted */\n",
       "  background-color: var(--sklearn-color-unfitted-level-3);\n",
       "  color: var(--sklearn-color-background);\n",
       "  text-decoration: none;\n",
       "}\n",
       "\n",
       "div.sk-estimator.fitted:hover .sk-estimator-doc-link.fitted:hover,\n",
       ".sk-estimator-doc-link.fitted:hover,\n",
       "div.sk-label-container:hover .sk-estimator-doc-link.fitted:hover,\n",
       ".sk-estimator-doc-link.fitted:hover {\n",
       "  /* fitted */\n",
       "  background-color: var(--sklearn-color-fitted-level-3);\n",
       "  color: var(--sklearn-color-background);\n",
       "  text-decoration: none;\n",
       "}\n",
       "\n",
       "/* Span, style for the box shown on hovering the info icon */\n",
       ".sk-estimator-doc-link span {\n",
       "  display: none;\n",
       "  z-index: 9999;\n",
       "  position: relative;\n",
       "  font-weight: normal;\n",
       "  right: .2ex;\n",
       "  padding: .5ex;\n",
       "  margin: .5ex;\n",
       "  width: min-content;\n",
       "  min-width: 20ex;\n",
       "  max-width: 50ex;\n",
       "  color: var(--sklearn-color-text);\n",
       "  box-shadow: 2pt 2pt 4pt #999;\n",
       "  /* unfitted */\n",
       "  background: var(--sklearn-color-unfitted-level-0);\n",
       "  border: .5pt solid var(--sklearn-color-unfitted-level-3);\n",
       "}\n",
       "\n",
       ".sk-estimator-doc-link.fitted span {\n",
       "  /* fitted */\n",
       "  background: var(--sklearn-color-fitted-level-0);\n",
       "  border: var(--sklearn-color-fitted-level-3);\n",
       "}\n",
       "\n",
       ".sk-estimator-doc-link:hover span {\n",
       "  display: block;\n",
       "}\n",
       "\n",
       "/* \"?\"-specific style due to the `<a>` HTML tag */\n",
       "\n",
       "#sk-container-id-1 a.estimator_doc_link {\n",
       "  float: right;\n",
       "  font-size: 1rem;\n",
       "  line-height: 1em;\n",
       "  font-family: monospace;\n",
       "  background-color: var(--sklearn-color-background);\n",
       "  border-radius: 1rem;\n",
       "  height: 1rem;\n",
       "  width: 1rem;\n",
       "  text-decoration: none;\n",
       "  /* unfitted */\n",
       "  color: var(--sklearn-color-unfitted-level-1);\n",
       "  border: var(--sklearn-color-unfitted-level-1) 1pt solid;\n",
       "}\n",
       "\n",
       "#sk-container-id-1 a.estimator_doc_link.fitted {\n",
       "  /* fitted */\n",
       "  border: var(--sklearn-color-fitted-level-1) 1pt solid;\n",
       "  color: var(--sklearn-color-fitted-level-1);\n",
       "}\n",
       "\n",
       "/* On hover */\n",
       "#sk-container-id-1 a.estimator_doc_link:hover {\n",
       "  /* unfitted */\n",
       "  background-color: var(--sklearn-color-unfitted-level-3);\n",
       "  color: var(--sklearn-color-background);\n",
       "  text-decoration: none;\n",
       "}\n",
       "\n",
       "#sk-container-id-1 a.estimator_doc_link.fitted:hover {\n",
       "  /* fitted */\n",
       "  background-color: var(--sklearn-color-fitted-level-3);\n",
       "}\n",
       "</style><div id=\"sk-container-id-1\" class=\"sk-top-container\"><div class=\"sk-text-repr-fallback\"><pre>XGBClassifier(base_score=None, booster=None, callbacks=None,\n",
       "              colsample_bylevel=None, colsample_bynode=0.33493992210515877,\n",
       "              colsample_bytree=None, device=None, early_stopping_rounds=None,\n",
       "              enable_categorical=False,\n",
       "              eval_metric=&lt;function custom_f1_score at 0x7f85804885e0&gt;,\n",
       "              feature_types=None, gamma=None, grow_policy=None,\n",
       "              importance_type=None, interaction_constraints=None,\n",
       "              learning_rate=0.1430303592831849, max_bin=None,\n",
       "              max_cat_threshold=None, max_cat_to_onehot=None,\n",
       "              max_delta_step=None, max_depth=15, max_leaves=None,\n",
       "              min_child_weight=13, missing=nan, monotone_constraints=None,\n",
       "              multi_strategy=None, n_estimators=103, n_jobs=None,\n",
       "              num_parallel_tree=None, objective=&#x27;multi:softprob&#x27;, ...)</pre><b>In a Jupyter environment, please rerun this cell to show the HTML representation or trust the notebook. <br />On GitHub, the HTML representation is unable to render, please try loading this page with nbviewer.org.</b></div><div class=\"sk-container\" hidden><div class=\"sk-item\"><div class=\"sk-estimator fitted sk-toggleable\"><input class=\"sk-toggleable__control sk-hidden--visually\" id=\"sk-estimator-id-1\" type=\"checkbox\" checked><label for=\"sk-estimator-id-1\" class=\"sk-toggleable__label fitted sk-toggleable__label-arrow fitted\">&nbsp;XGBClassifier<span class=\"sk-estimator-doc-link fitted\">i<span>Fitted</span></span></label><div class=\"sk-toggleable__content fitted\"><pre>XGBClassifier(base_score=None, booster=None, callbacks=None,\n",
       "              colsample_bylevel=None, colsample_bynode=0.33493992210515877,\n",
       "              colsample_bytree=None, device=None, early_stopping_rounds=None,\n",
       "              enable_categorical=False,\n",
       "              eval_metric=&lt;function custom_f1_score at 0x7f85804885e0&gt;,\n",
       "              feature_types=None, gamma=None, grow_policy=None,\n",
       "              importance_type=None, interaction_constraints=None,\n",
       "              learning_rate=0.1430303592831849, max_bin=None,\n",
       "              max_cat_threshold=None, max_cat_to_onehot=None,\n",
       "              max_delta_step=None, max_depth=15, max_leaves=None,\n",
       "              min_child_weight=13, missing=nan, monotone_constraints=None,\n",
       "              multi_strategy=None, n_estimators=103, n_jobs=None,\n",
       "              num_parallel_tree=None, objective=&#x27;multi:softprob&#x27;, ...)</pre></div> </div></div></div></div>"
      ],
      "text/plain": [
       "XGBClassifier(base_score=None, booster=None, callbacks=None,\n",
       "              colsample_bylevel=None, colsample_bynode=0.33493992210515877,\n",
       "              colsample_bytree=None, device=None, early_stopping_rounds=None,\n",
       "              enable_categorical=False,\n",
       "              eval_metric=<function custom_f1_score at 0x7f85804885e0>,\n",
       "              feature_types=None, gamma=None, grow_policy=None,\n",
       "              importance_type=None, interaction_constraints=None,\n",
       "              learning_rate=0.1430303592831849, max_bin=None,\n",
       "              max_cat_threshold=None, max_cat_to_onehot=None,\n",
       "              max_delta_step=None, max_depth=15, max_leaves=None,\n",
       "              min_child_weight=13, missing=nan, monotone_constraints=None,\n",
       "              multi_strategy=None, n_estimators=103, n_jobs=None,\n",
       "              num_parallel_tree=None, objective='multi:softprob', ...)"
      ]
     },
     "execution_count": 21,
     "metadata": {},
     "output_type": "execute_result"
    }
   ],
   "source": [
    "n_estimators = int(study.best_trial.user_attrs['best_iteration']*1.2)\n",
    "xgb = xgboost.XGBClassifier(\n",
    "        eval_metric=eval_metric,\n",
    "        n_estimators=n_estimators,\n",
    "        **study.best_trial.params\n",
    "    )\n",
    "xgb.fit(\n",
    "    ssp.vstack((X_train, X_val)), \n",
    "    np.concatenate((y_train_enc, y_val_enc)),\n",
    "    verbose=1,\n",
    ")"
   ]
  },
  {
   "cell_type": "code",
   "execution_count": 22,
   "id": "fc125a7a",
   "metadata": {
    "execution": {
     "iopub.execute_input": "2025-05-15T16:15:49.513215Z",
     "iopub.status.busy": "2025-05-15T16:15:49.512886Z",
     "iopub.status.idle": "2025-05-15T16:15:49.554710Z",
     "shell.execute_reply": "2025-05-15T16:15:49.554316Z"
    },
    "papermill": {
     "duration": 0.053008,
     "end_time": "2025-05-15T16:15:49.555649",
     "exception": false,
     "start_time": "2025-05-15T16:15:49.502641",
     "status": "completed"
    },
    "tags": []
   },
   "outputs": [
    {
     "data": {
      "text/plain": [
       "['/scratch_isilon/groups/singlecell/shared/projects/Inflammation-PBMCs-Atlas/03_downstream_analysis/08_gene_importance/xgboost_external_validation/xgboost_TopN_genes/results_20/best_model/DC_12_2_xgb.json']"
      ]
     },
     "execution_count": 22,
     "metadata": {},
     "output_type": "execute_result"
    }
   ],
   "source": [
    "out_dir = here(f'03_downstream_analysis/08_gene_importance/xgboost_external_validation/xgboost_TopN_genes/results_{N_GENES}/best_model')\n",
    "\n",
    "if not os.path.exists(out_dir):\n",
    "    os.makedirs(out_dir)\n",
    "    \n",
    "joblib.dump(xgb, os.path.join(out_dir, f'{CELL_TYPE}_{SEED}_{TEST_SPLIT_IDX}_xgb.json'))"
   ]
  },
  {
   "cell_type": "code",
   "execution_count": 23,
   "id": "e4f63516",
   "metadata": {
    "execution": {
     "iopub.execute_input": "2025-05-15T16:15:49.594061Z",
     "iopub.status.busy": "2025-05-15T16:15:49.593850Z",
     "iopub.status.idle": "2025-05-15T16:15:49.609475Z",
     "shell.execute_reply": "2025-05-15T16:15:49.609123Z"
    },
    "papermill": {
     "duration": 0.027794,
     "end_time": "2025-05-15T16:15:49.610457",
     "exception": false,
     "start_time": "2025-05-15T16:15:49.582663",
     "status": "completed"
    },
    "tags": []
   },
   "outputs": [],
   "source": [
    "df_pred_test = pd.DataFrame(dict(\n",
    "    cell_id=train_adata.obs.iloc[test_idxs].index.values,\n",
    "    y_true=y_test, \n",
    "    y_true_code=y_test_enc, \n",
    "    y_pred=xgb.predict(X_test))).set_index('cell_id')"
   ]
  },
  {
   "cell_type": "code",
   "execution_count": 24,
   "id": "7cbcac9c",
   "metadata": {
    "execution": {
     "iopub.execute_input": "2025-05-15T16:15:49.644525Z",
     "iopub.status.busy": "2025-05-15T16:15:49.644043Z",
     "iopub.status.idle": "2025-05-15T16:15:49.660444Z",
     "shell.execute_reply": "2025-05-15T16:15:49.660033Z"
    },
    "papermill": {
     "duration": 0.02764,
     "end_time": "2025-05-15T16:15:49.661366",
     "exception": false,
     "start_time": "2025-05-15T16:15:49.633726",
     "status": "completed"
    },
    "tags": []
   },
   "outputs": [],
   "source": [
    "out_dir = here(f'03_downstream_analysis/08_gene_importance/xgboost_external_validation/xgboost_TopN_genes/results_{N_GENES}/predictions')\n",
    "\n",
    "if not os.path.exists(out_dir):\n",
    "    os.makedirs(out_dir)\n",
    "    \n",
    "df_pred_test.to_csv(os.path.join(out_dir, f'{CELL_TYPE}_{SEED}_{TEST_SPLIT_IDX}_pred_test.zip'))"
   ]
  },
  {
   "cell_type": "code",
   "execution_count": 25,
   "id": "7c6fff42",
   "metadata": {
    "execution": {
     "iopub.execute_input": "2025-05-15T16:15:49.695523Z",
     "iopub.status.busy": "2025-05-15T16:15:49.695069Z",
     "iopub.status.idle": "2025-05-15T16:15:49.701193Z",
     "shell.execute_reply": "2025-05-15T16:15:49.700867Z"
    },
    "papermill": {
     "duration": 0.031347,
     "end_time": "2025-05-15T16:15:49.702096",
     "exception": false,
     "start_time": "2025-05-15T16:15:49.670749",
     "status": "completed"
    },
    "tags": []
   },
   "outputs": [],
   "source": [
    "metrics_dict = dict(\n",
    "    BAS=balanced_accuracy_score(y_true=df_pred_test.y_true_code, y_pred=df_pred_test.y_pred), WF1=f1_score(y_true=df_pred_test.y_true_code, y_pred=df_pred_test.y_pred,average='weighted'))"
   ]
  },
  {
   "cell_type": "code",
   "execution_count": 26,
   "id": "66339597",
   "metadata": {
    "execution": {
     "iopub.execute_input": "2025-05-15T16:15:49.727436Z",
     "iopub.status.busy": "2025-05-15T16:15:49.727061Z",
     "iopub.status.idle": "2025-05-15T16:15:49.730143Z",
     "shell.execute_reply": "2025-05-15T16:15:49.729821Z"
    },
    "papermill": {
     "duration": 0.019742,
     "end_time": "2025-05-15T16:15:49.730958",
     "exception": false,
     "start_time": "2025-05-15T16:15:49.711216",
     "status": "completed"
    },
    "tags": []
   },
   "outputs": [
    {
     "data": {
      "text/plain": [
       "{'BAS': 0.6495627074951631, 'WF1': 0.8217531052791328}"
      ]
     },
     "execution_count": 26,
     "metadata": {},
     "output_type": "execute_result"
    }
   ],
   "source": [
    "metrics_dict"
   ]
  },
  {
   "cell_type": "code",
   "execution_count": 27,
   "id": "a6311ad2",
   "metadata": {
    "execution": {
     "iopub.execute_input": "2025-05-15T16:15:49.750687Z",
     "iopub.status.busy": "2025-05-15T16:15:49.750365Z",
     "iopub.status.idle": "2025-05-15T16:15:49.758990Z",
     "shell.execute_reply": "2025-05-15T16:15:49.758670Z"
    },
    "papermill": {
     "duration": 0.019588,
     "end_time": "2025-05-15T16:15:49.759844",
     "exception": false,
     "start_time": "2025-05-15T16:15:49.740256",
     "status": "completed"
    },
    "tags": []
   },
   "outputs": [
    {
     "data": {
      "text/html": [
       "<div>\n",
       "<style scoped>\n",
       "    .dataframe tbody tr th:only-of-type {\n",
       "        vertical-align: middle;\n",
       "    }\n",
       "\n",
       "    .dataframe tbody tr th {\n",
       "        vertical-align: top;\n",
       "    }\n",
       "\n",
       "    .dataframe thead th {\n",
       "        text-align: right;\n",
       "    }\n",
       "</style>\n",
       "<table border=\"1\" class=\"dataframe\">\n",
       "  <thead>\n",
       "    <tr style=\"text-align: right;\">\n",
       "      <th></th>\n",
       "      <th>BAS</th>\n",
       "      <th>WF1</th>\n",
       "      <th>split_idx</th>\n",
       "      <th>gene_set_seed</th>\n",
       "      <th>cell_type</th>\n",
       "    </tr>\n",
       "  </thead>\n",
       "  <tbody>\n",
       "    <tr>\n",
       "      <th>0</th>\n",
       "      <td>0.649563</td>\n",
       "      <td>0.821753</td>\n",
       "      <td>2</td>\n",
       "      <td>12</td>\n",
       "      <td>DC</td>\n",
       "    </tr>\n",
       "  </tbody>\n",
       "</table>\n",
       "</div>"
      ],
      "text/plain": [
       "        BAS       WF1  split_idx  gene_set_seed cell_type\n",
       "0  0.649563  0.821753          2             12        DC"
      ]
     },
     "execution_count": 27,
     "metadata": {},
     "output_type": "execute_result"
    }
   ],
   "source": [
    "metrics_df = pd.DataFrame.from_dict([metrics_dict]).assign(split_idx=TEST_SPLIT_IDX, gene_set_seed=SEED, cell_type=CELL_TYPE)\n",
    "metrics_df"
   ]
  },
  {
   "cell_type": "code",
   "execution_count": 28,
   "id": "c7ea2d9b",
   "metadata": {
    "execution": {
     "iopub.execute_input": "2025-05-15T16:15:49.780035Z",
     "iopub.status.busy": "2025-05-15T16:15:49.779625Z",
     "iopub.status.idle": "2025-05-15T16:15:49.787859Z",
     "shell.execute_reply": "2025-05-15T16:15:49.787475Z"
    },
    "papermill": {
     "duration": 0.019093,
     "end_time": "2025-05-15T16:15:49.788726",
     "exception": false,
     "start_time": "2025-05-15T16:15:49.769633",
     "status": "completed"
    },
    "tags": []
   },
   "outputs": [],
   "source": [
    "out_dir = here(f'03_downstream_analysis/08_gene_importance/xgboost_external_validation/xgboost_TopN_genes/results_{N_GENES}/metrics')\n",
    "\n",
    "if not os.path.exists(out_dir):\n",
    "    os.makedirs(out_dir)\n",
    "    \n",
    "metrics_df.to_csv(os.path.join(out_dir, f'{CELL_TYPE}_{SEED}_{TEST_SPLIT_IDX}_metrics.zip'))"
   ]
  }
 ],
 "metadata": {
  "kernelspec": {
   "display_name": "Python 3 (ipykernel)",
   "language": "python",
   "name": "python3"
  },
  "language_info": {
   "codemirror_mode": {
    "name": "ipython",
    "version": 3
   },
   "file_extension": ".py",
   "mimetype": "text/x-python",
   "name": "python",
   "nbconvert_exporter": "python",
   "pygments_lexer": "ipython3",
   "version": "3.12.5"
  },
  "papermill": {
   "default_parameters": {},
   "duration": 44.288681,
   "end_time": "2025-05-15T16:15:50.517143",
   "environment_variables": {},
   "exception": null,
   "input_path": "02_xgboost_fitting_external_20genes.ipynb",
   "output_path": "results_20/executed_notebooks/xgboost_fitting_external_CT_DC_GS_12_seed2.ipynb",
   "parameters": {
    "CELL_TYPE": "DC",
    "SEED": 12,
    "TEST_SPLIT_IDX": 2
   },
   "start_time": "2025-05-15T16:15:06.228462",
   "version": "2.6.0"
  }
 },
 "nbformat": 4,
 "nbformat_minor": 5
}