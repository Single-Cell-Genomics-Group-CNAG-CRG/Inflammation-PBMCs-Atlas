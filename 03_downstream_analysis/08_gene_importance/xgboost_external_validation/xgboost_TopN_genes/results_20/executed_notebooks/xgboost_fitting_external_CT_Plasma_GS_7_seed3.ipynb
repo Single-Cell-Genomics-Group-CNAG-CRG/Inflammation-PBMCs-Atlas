{
 "cells": [
  {
   "cell_type": "code",
   "execution_count": 1,
   "id": "210f1e6b",
   "metadata": {
    "editable": true,
    "execution": {
     "iopub.execute_input": "2025-05-15T16:15:31.780276Z",
     "iopub.status.busy": "2025-05-15T16:15:31.780137Z",
     "iopub.status.idle": "2025-05-15T16:15:31.783732Z",
     "shell.execute_reply": "2025-05-15T16:15:31.783422Z"
    },
    "papermill": {
     "duration": 0.011816,
     "end_time": "2025-05-15T16:15:31.784664",
     "exception": false,
     "start_time": "2025-05-15T16:15:31.772848",
     "status": "completed"
    },
    "slideshow": {
     "slide_type": ""
    },
    "tags": [
     "parameters"
    ]
   },
   "outputs": [],
   "source": [
    "CELL_TYPE = 'pDC'\n",
    "N_GENES: int = 20\n",
    "SEED = 'shap_studyID' #'disease_NOstudy' 'study_NOdisease' or 'int' or 'shap_studyID'\n",
    "TEST_SPLIT_IDX: int = 1 #[0,4]"
   ]
  },
  {
   "cell_type": "code",
   "execution_count": 2,
   "id": "76553556",
   "metadata": {
    "execution": {
     "iopub.execute_input": "2025-05-15T16:15:31.796747Z",
     "iopub.status.busy": "2025-05-15T16:15:31.796333Z",
     "iopub.status.idle": "2025-05-15T16:15:31.798525Z",
     "shell.execute_reply": "2025-05-15T16:15:31.798212Z"
    },
    "papermill": {
     "duration": 0.008885,
     "end_time": "2025-05-15T16:15:31.799364",
     "exception": false,
     "start_time": "2025-05-15T16:15:31.790479",
     "status": "completed"
    },
    "tags": [
     "injected-parameters"
    ]
   },
   "outputs": [],
   "source": [
    "# Parameters\n",
    "CELL_TYPE = \"Plasma\"\n",
    "SEED = 7\n",
    "TEST_SPLIT_IDX = 3\n"
   ]
  },
  {
   "cell_type": "code",
   "execution_count": 3,
   "id": "23ca30d7",
   "metadata": {
    "execution": {
     "iopub.execute_input": "2025-05-15T16:15:31.811115Z",
     "iopub.status.busy": "2025-05-15T16:15:31.810944Z",
     "iopub.status.idle": "2025-05-15T16:15:31.813543Z",
     "shell.execute_reply": "2025-05-15T16:15:31.813216Z"
    },
    "papermill": {
     "duration": 0.00933,
     "end_time": "2025-05-15T16:15:31.814441",
     "exception": false,
     "start_time": "2025-05-15T16:15:31.805111",
     "status": "completed"
    },
    "tags": []
   },
   "outputs": [],
   "source": [
    "N_SPLITS: int = 5\n",
    "N_TRIALS: int = 50"
   ]
  },
  {
   "cell_type": "code",
   "execution_count": 4,
   "id": "60cfac43",
   "metadata": {
    "execution": {
     "iopub.execute_input": "2025-05-15T16:15:31.841677Z",
     "iopub.status.busy": "2025-05-15T16:15:31.841529Z",
     "iopub.status.idle": "2025-05-15T16:15:33.269546Z",
     "shell.execute_reply": "2025-05-15T16:15:33.269020Z"
    },
    "papermill": {
     "duration": 1.450659,
     "end_time": "2025-05-15T16:15:33.270851",
     "exception": false,
     "start_time": "2025-05-15T16:15:31.820192",
     "status": "completed"
    },
    "tags": []
   },
   "outputs": [],
   "source": [
    "import os\n",
    "import sys\n",
    "from pyprojroot.here import here\n",
    "import pandas as pd\n",
    "import anndata as ad\n",
    "import numpy as np\n",
    "import math\n",
    "from sklearn.model_selection import StratifiedGroupKFold\n",
    "from sklearn.preprocessing import LabelEncoder\n",
    "from sklearn.metrics import f1_score\n",
    "import matplotlib.pyplot as plt\n",
    "import seaborn as sns\n",
    "from itertools import product\n",
    "from sklearn.metrics import balanced_accuracy_score, f1_score\n",
    "import optuna\n",
    "\n",
    "import joblib\n",
    "import pickle\n",
    "import datetime\n",
    "\n",
    "import collections\n",
    "\n",
    "import xgboost\n",
    "from sklearn.preprocessing import LabelEncoder\n",
    "\n",
    "import scipy.sparse as ssp\n",
    "import joblib\n",
    "\n",
    "from dotenv import load_dotenv"
   ]
  },
  {
   "cell_type": "code",
   "execution_count": 5,
   "id": "253861bc",
   "metadata": {
    "execution": {
     "iopub.execute_input": "2025-05-15T16:15:33.283343Z",
     "iopub.status.busy": "2025-05-15T16:15:33.282914Z",
     "iopub.status.idle": "2025-05-15T16:15:33.289587Z",
     "shell.execute_reply": "2025-05-15T16:15:33.289289Z"
    },
    "papermill": {
     "duration": 0.014085,
     "end_time": "2025-05-15T16:15:33.290869",
     "exception": false,
     "start_time": "2025-05-15T16:15:33.276784",
     "status": "completed"
    },
    "tags": []
   },
   "outputs": [
    {
     "data": {
      "text/plain": [
       "True"
      ]
     },
     "execution_count": 5,
     "metadata": {},
     "output_type": "execute_result"
    }
   ],
   "source": [
    "load_dotenv()"
   ]
  },
  {
   "cell_type": "markdown",
   "id": "1fce6947",
   "metadata": {
    "papermill": {
     "duration": 0.005787,
     "end_time": "2025-05-15T16:15:33.302887",
     "exception": false,
     "start_time": "2025-05-15T16:15:33.297100",
     "status": "completed"
    },
    "tags": []
   },
   "source": [
    "# LOAD DATASET"
   ]
  },
  {
   "cell_type": "code",
   "execution_count": 6,
   "id": "fc3d7af6",
   "metadata": {
    "execution": {
     "iopub.execute_input": "2025-05-15T16:15:33.314806Z",
     "iopub.status.busy": "2025-05-15T16:15:33.314421Z",
     "iopub.status.idle": "2025-05-15T16:15:33.352057Z",
     "shell.execute_reply": "2025-05-15T16:15:33.351610Z"
    },
    "papermill": {
     "duration": 0.044738,
     "end_time": "2025-05-15T16:15:33.353191",
     "exception": false,
     "start_time": "2025-05-15T16:15:33.308453",
     "status": "completed"
    },
    "tags": []
   },
   "outputs": [],
   "source": [
    "train_adata = ad.read_h5ad(\n",
    "    here(f'03_downstream_analysis/08_gene_importance/xgboost_external_validation/xgboost_TopN_genes/data_cellTypes/EXTERNAL_{CELL_TYPE}.filtered.log1p.h5ad')\n",
    ")"
   ]
  },
  {
   "cell_type": "code",
   "execution_count": 7,
   "id": "7bb00056",
   "metadata": {
    "execution": {
     "iopub.execute_input": "2025-05-15T16:15:33.366309Z",
     "iopub.status.busy": "2025-05-15T16:15:33.365808Z",
     "iopub.status.idle": "2025-05-15T16:15:33.374935Z",
     "shell.execute_reply": "2025-05-15T16:15:33.374620Z"
    },
    "papermill": {
     "duration": 0.016302,
     "end_time": "2025-05-15T16:15:33.375761",
     "exception": false,
     "start_time": "2025-05-15T16:15:33.359459",
     "status": "completed"
    },
    "tags": []
   },
   "outputs": [
    {
     "name": "stdout",
     "output_type": "stream",
     "text": [
      "['ENSG00000101608' 'ENSG00000108518' 'ENSG00000164483' 'ENSG00000127184'\n",
      " 'ENSG00000110324' 'ENSG00000100393' 'ENSG00000089327' 'ENSG00000145675'\n",
      " 'ENSG00000164674' 'ENSG00000184557' 'ENSG00000079805' 'ENSG00000134954'\n",
      " 'ENSG00000105221' 'ENSG00000153234' 'ENSG00000030110' 'ENSG00000112561'\n",
      " 'ENSG00000162434' 'ENSG00000264364' 'ENSG00000005844' 'ENSG00000178562'\n",
      " 'ENSG00000204264' 'ENSG00000134470' 'ENSG00000133134' 'ENSG00000185201'\n",
      " 'ENSG00000158517' 'ENSG00000002549' 'ENSG00000121807' 'ENSG00000175768'\n",
      " 'ENSG00000197249' 'ENSG00000141526' 'ENSG00000100365' 'ENSG00000171791'\n",
      " 'ENSG00000203747' 'ENSG00000166681' 'ENSG00000081059' 'ENSG00000156411'\n",
      " 'ENSG00000196961' 'ENSG00000175567' 'ENSG00000127540' 'ENSG00000096996'\n",
      " 'ENSG00000149311' 'ENSG00000149357' 'ENSG00000137100' 'ENSG00000167552'\n",
      " 'ENSG00000196092' 'ENSG00000159958' 'ENSG00000059728' 'ENSG00000142089'\n",
      " 'ENSG00000123358' 'ENSG00000167996' 'ENSG00000028137' 'ENSG00000183172'\n",
      " 'ENSG00000106588' 'ENSG00000179295' 'ENSG00000197746' 'ENSG00000158050'\n",
      " 'ENSG00000138674' 'ENSG00000177556' 'ENSG00000120738' 'ENSG00000152219'\n",
      " 'ENSG00000143933' 'ENSG00000130755' 'ENSG00000130066' 'ENSG00000166747'\n",
      " 'ENSG00000033800' 'ENSG00000162772' 'ENSG00000168811' 'ENSG00000160712'\n",
      " 'ENSG00000163191' 'ENSG00000163563' 'ENSG00000109861' 'ENSG00000137193'\n",
      " 'ENSG00000154814' 'ENSG00000168394' 'ENSG00000089280' 'ENSG00000204257'\n",
      " 'ENSG00000204267' 'ENSG00000135046' 'ENSG00000101695' 'ENSG00000077984'\n",
      " 'ENSG00000131437' 'ENSG00000134107' 'ENSG00000126264' 'ENSG00000137331'\n",
      " 'ENSG00000140968' 'ENSG00000126524' 'ENSG00000002586' 'ENSG00000227507'\n",
      " 'ENSG00000197471' 'ENSG00000026025' 'ENSG00000127022' 'ENSG00000241837'\n",
      " 'ENSG00000165280' 'ENSG00000277791' 'ENSG00000138036' 'ENSG00000152495'\n",
      " 'ENSG00000107968' 'ENSG00000197102' 'ENSG00000141506' 'ENSG00000127314'\n",
      " 'ENSG00000197965' 'ENSG00000113811' 'ENSG00000161203' 'ENSG00000106605'\n",
      " 'ENSG00000182287' 'ENSG00000106367' 'ENSG00000104312']\n"
     ]
    }
   ],
   "source": [
    "if SEED != 'all':\n",
    "    gene_subset = np.load(here(f'03_downstream_analysis/08_gene_importance/xgboost_external_validation/shap_gene_selection/gene_subsets_{N_GENES}/{CELL_TYPE}_{SEED}.npy'), allow_pickle=True)\n",
    "    train_adata = train_adata[:,gene_subset]\n",
    "    print(gene_subset)\n",
    "elif SEED == 'all':\n",
    "    print('Using all genes')\n",
    "else:\n",
    "    raise ValueError()"
   ]
  },
  {
   "cell_type": "code",
   "execution_count": 8,
   "id": "6435b0e4",
   "metadata": {
    "execution": {
     "iopub.execute_input": "2025-05-15T16:15:33.388308Z",
     "iopub.status.busy": "2025-05-15T16:15:33.387973Z",
     "iopub.status.idle": "2025-05-15T16:15:33.390820Z",
     "shell.execute_reply": "2025-05-15T16:15:33.390517Z"
    },
    "papermill": {
     "duration": 0.009892,
     "end_time": "2025-05-15T16:15:33.391627",
     "exception": false,
     "start_time": "2025-05-15T16:15:33.381735",
     "status": "completed"
    },
    "tags": []
   },
   "outputs": [
    {
     "data": {
      "text/plain": [
       "(542, 107)"
      ]
     },
     "execution_count": 8,
     "metadata": {},
     "output_type": "execute_result"
    }
   ],
   "source": [
    "train_adata.shape"
   ]
  },
  {
   "cell_type": "code",
   "execution_count": 9,
   "id": "9151a684",
   "metadata": {
    "execution": {
     "iopub.execute_input": "2025-05-15T16:15:33.419396Z",
     "iopub.status.busy": "2025-05-15T16:15:33.418884Z",
     "iopub.status.idle": "2025-05-15T16:15:33.424429Z",
     "shell.execute_reply": "2025-05-15T16:15:33.424047Z"
    },
    "papermill": {
     "duration": 0.012959,
     "end_time": "2025-05-15T16:15:33.425305",
     "exception": false,
     "start_time": "2025-05-15T16:15:33.412346",
     "status": "completed"
    },
    "tags": []
   },
   "outputs": [
    {
     "data": {
      "text/plain": [
       "['RA', 'COVID', 'healthy', 'HIV', 'cirrhosis', 'CD', 'SLE', 'sepsis']\n",
       "Categories (8, object): ['CD', 'COVID', 'HIV', 'RA', 'SLE', 'cirrhosis', 'healthy', 'sepsis']"
      ]
     },
     "execution_count": 9,
     "metadata": {},
     "output_type": "execute_result"
    }
   ],
   "source": [
    "train_adata.obs.disease.unique()"
   ]
  },
  {
   "cell_type": "code",
   "execution_count": 10,
   "id": "a3871058",
   "metadata": {
    "execution": {
     "iopub.execute_input": "2025-05-15T16:15:33.437701Z",
     "iopub.status.busy": "2025-05-15T16:15:33.437374Z",
     "iopub.status.idle": "2025-05-15T16:15:33.442088Z",
     "shell.execute_reply": "2025-05-15T16:15:33.441699Z"
    },
    "papermill": {
     "duration": 0.011944,
     "end_time": "2025-05-15T16:15:33.442984",
     "exception": false,
     "start_time": "2025-05-15T16:15:33.431040",
     "status": "completed"
    },
    "tags": []
   },
   "outputs": [
    {
     "data": {
      "text/plain": [
       "['SCGT00val_I0364_T0', 'SCGT00val_I036019_T0', 'SCGT00val_I036028_T0', 'SCGT00val_I036024_T0', 'SCGT00val_I036016_T0', ..., '10XGenomics_10XHC2_T0', '10XGenomics_10XHC3_T0', '10XGenomics_10XHC5_T0', '10XGenomics_10XHC7_T0', '10XGenomics_10XHC8_T0']\n",
       "Length: 74\n",
       "Categories (74, object): ['10XGenomics_10XHC1_T0', '10XGenomics_10XHC2_T0', '10XGenomics_10XHC3_T0', '10XGenomics_10XHC4_T0', ..., 'Savage2021_BRISL6_T0', 'Savage2021_BRISL7_T0', 'Savage2021_PIDA_T0', 'Savage2021_PIDB_T0']"
      ]
     },
     "execution_count": 10,
     "metadata": {},
     "output_type": "execute_result"
    }
   ],
   "source": [
    "train_adata.obs.sampleID.unique()"
   ]
  },
  {
   "cell_type": "code",
   "execution_count": 11,
   "id": "c1f06e13",
   "metadata": {
    "execution": {
     "iopub.execute_input": "2025-05-15T16:15:33.455815Z",
     "iopub.status.busy": "2025-05-15T16:15:33.455360Z",
     "iopub.status.idle": "2025-05-15T16:15:33.484448Z",
     "shell.execute_reply": "2025-05-15T16:15:33.483942Z"
    },
    "papermill": {
     "duration": 0.036614,
     "end_time": "2025-05-15T16:15:33.485632",
     "exception": false,
     "start_time": "2025-05-15T16:15:33.449018",
     "status": "completed"
    },
    "tags": []
   },
   "outputs": [],
   "source": [
    "all_idxs = np.arange(train_adata.obs.shape[0])\n",
    "left_out_splits = [s[1] for s in StratifiedGroupKFold(n_splits=N_SPLITS).split(all_idxs, train_adata.obs.disease, train_adata.obs.sampleID)]"
   ]
  },
  {
   "cell_type": "code",
   "execution_count": 12,
   "id": "e2e768ae",
   "metadata": {
    "execution": {
     "iopub.execute_input": "2025-05-15T16:15:33.499143Z",
     "iopub.status.busy": "2025-05-15T16:15:33.498600Z",
     "iopub.status.idle": "2025-05-15T16:15:33.502177Z",
     "shell.execute_reply": "2025-05-15T16:15:33.501887Z"
    },
    "papermill": {
     "duration": 0.010988,
     "end_time": "2025-05-15T16:15:33.502993",
     "exception": false,
     "start_time": "2025-05-15T16:15:33.492005",
     "status": "completed"
    },
    "tags": []
   },
   "outputs": [
    {
     "data": {
      "text/plain": [
       "([0, 1, 2], 4, 3)"
      ]
     },
     "execution_count": 12,
     "metadata": {},
     "output_type": "execute_result"
    }
   ],
   "source": [
    "TRAIN_SPLIT_IDXS = [0,1,2,3,4]\n",
    "VAL_SPLIT_IDX = (TEST_SPLIT_IDX + 1) % 5\n",
    "TRAIN_SPLIT_IDXS.remove(TEST_SPLIT_IDX)\n",
    "TRAIN_SPLIT_IDXS.remove(VAL_SPLIT_IDX)\n",
    "TRAIN_SPLIT_IDXS, VAL_SPLIT_IDX, TEST_SPLIT_IDX"
   ]
  },
  {
   "cell_type": "code",
   "execution_count": 13,
   "id": "b3000d93",
   "metadata": {
    "execution": {
     "iopub.execute_input": "2025-05-15T16:15:33.515060Z",
     "iopub.status.busy": "2025-05-15T16:15:33.514876Z",
     "iopub.status.idle": "2025-05-15T16:15:33.517198Z",
     "shell.execute_reply": "2025-05-15T16:15:33.516911Z"
    },
    "papermill": {
     "duration": 0.009415,
     "end_time": "2025-05-15T16:15:33.517985",
     "exception": false,
     "start_time": "2025-05-15T16:15:33.508570",
     "status": "completed"
    },
    "tags": []
   },
   "outputs": [],
   "source": [
    "train_idxs = np.concatenate([left_out_splits[idx] for idx in TRAIN_SPLIT_IDXS])\n",
    "val_idxs = left_out_splits[VAL_SPLIT_IDX]\n",
    "test_idxs = left_out_splits[TEST_SPLIT_IDX]"
   ]
  },
  {
   "cell_type": "markdown",
   "id": "66b63c0f",
   "metadata": {
    "papermill": {
     "duration": 0.005815,
     "end_time": "2025-05-15T16:15:33.529485",
     "exception": false,
     "start_time": "2025-05-15T16:15:33.523670",
     "status": "completed"
    },
    "tags": []
   },
   "source": [
    "### SUBSET DATASET INTO TRAIN/TEST/VAL SPLITS"
   ]
  },
  {
   "cell_type": "code",
   "execution_count": 14,
   "id": "a6307236",
   "metadata": {
    "execution": {
     "iopub.execute_input": "2025-05-15T16:15:33.544401Z",
     "iopub.status.busy": "2025-05-15T16:15:33.543898Z",
     "iopub.status.idle": "2025-05-15T16:15:33.549951Z",
     "shell.execute_reply": "2025-05-15T16:15:33.549664Z"
    },
    "papermill": {
     "duration": 0.013462,
     "end_time": "2025-05-15T16:15:33.550780",
     "exception": false,
     "start_time": "2025-05-15T16:15:33.537318",
     "status": "completed"
    },
    "tags": []
   },
   "outputs": [
    {
     "data": {
      "text/plain": [
       "((327, 107), (99, 107), (116, 107))"
      ]
     },
     "execution_count": 14,
     "metadata": {},
     "output_type": "execute_result"
    }
   ],
   "source": [
    "X_train = train_adata.X[train_idxs]\n",
    "X_test = train_adata.X[test_idxs]\n",
    "X_val = train_adata.X[val_idxs]\n",
    "X_train.shape, X_test.shape, X_val.shape"
   ]
  },
  {
   "cell_type": "code",
   "execution_count": 15,
   "id": "b4353cb4",
   "metadata": {
    "execution": {
     "iopub.execute_input": "2025-05-15T16:15:33.563053Z",
     "iopub.status.busy": "2025-05-15T16:15:33.562868Z",
     "iopub.status.idle": "2025-05-15T16:15:33.567440Z",
     "shell.execute_reply": "2025-05-15T16:15:33.567151Z"
    },
    "papermill": {
     "duration": 0.011749,
     "end_time": "2025-05-15T16:15:33.568226",
     "exception": false,
     "start_time": "2025-05-15T16:15:33.556477",
     "status": "completed"
    },
    "tags": []
   },
   "outputs": [
    {
     "data": {
      "text/plain": [
       "((327,), (99,), (116,))"
      ]
     },
     "execution_count": 15,
     "metadata": {},
     "output_type": "execute_result"
    }
   ],
   "source": [
    "y_train = train_adata.obs.iloc[train_idxs].disease.values.astype(str)\n",
    "y_test = train_adata.obs.iloc[test_idxs].disease.values.astype(str)\n",
    "y_val = train_adata.obs.iloc[val_idxs].disease.values.astype(str)\n",
    "y_train.shape, y_test.shape, y_val.shape"
   ]
  },
  {
   "cell_type": "code",
   "execution_count": 16,
   "id": "183ebc8d",
   "metadata": {
    "execution": {
     "iopub.execute_input": "2025-05-15T16:15:33.580957Z",
     "iopub.status.busy": "2025-05-15T16:15:33.580506Z",
     "iopub.status.idle": "2025-05-15T16:15:33.583307Z",
     "shell.execute_reply": "2025-05-15T16:15:33.583020Z"
    },
    "papermill": {
     "duration": 0.010153,
     "end_time": "2025-05-15T16:15:33.584108",
     "exception": false,
     "start_time": "2025-05-15T16:15:33.573955",
     "status": "completed"
    },
    "tags": []
   },
   "outputs": [],
   "source": [
    "lenc = LabelEncoder()\n",
    "y_train_enc = lenc.fit_transform(y_train)\n",
    "y_val_enc = lenc.transform(y_val)\n",
    "y_test_enc = lenc.transform(y_test)"
   ]
  },
  {
   "cell_type": "markdown",
   "id": "25151b4d",
   "metadata": {
    "papermill": {
     "duration": 0.006251,
     "end_time": "2025-05-15T16:15:33.596253",
     "exception": false,
     "start_time": "2025-05-15T16:15:33.590002",
     "status": "completed"
    },
    "tags": []
   },
   "source": [
    "### GENERATE F1 "
   ]
  },
  {
   "cell_type": "code",
   "execution_count": 17,
   "id": "20f84dfb",
   "metadata": {
    "execution": {
     "iopub.execute_input": "2025-05-15T16:15:33.608978Z",
     "iopub.status.busy": "2025-05-15T16:15:33.608756Z",
     "iopub.status.idle": "2025-05-15T16:15:33.611238Z",
     "shell.execute_reply": "2025-05-15T16:15:33.610877Z"
    },
    "papermill": {
     "duration": 0.009902,
     "end_time": "2025-05-15T16:15:33.612078",
     "exception": false,
     "start_time": "2025-05-15T16:15:33.602176",
     "status": "completed"
    },
    "tags": []
   },
   "outputs": [],
   "source": [
    "def custom_f1_score(y_true, y_pred):\n",
    "    return -f1_score(y_true, y_pred.argmax(1), average='weighted')"
   ]
  },
  {
   "cell_type": "code",
   "execution_count": 18,
   "id": "9745c3e7",
   "metadata": {
    "execution": {
     "iopub.execute_input": "2025-05-15T16:15:33.624670Z",
     "iopub.status.busy": "2025-05-15T16:15:33.624484Z",
     "iopub.status.idle": "2025-05-15T16:15:33.628161Z",
     "shell.execute_reply": "2025-05-15T16:15:33.627750Z"
    },
    "papermill": {
     "duration": 0.010785,
     "end_time": "2025-05-15T16:15:33.628950",
     "exception": false,
     "start_time": "2025-05-15T16:15:33.618165",
     "status": "completed"
    },
    "tags": []
   },
   "outputs": [],
   "source": [
    "eval_metric=custom_f1_score\n",
    "eval_metric_name='custom_f1_score'\n",
    "\n",
    "def objective(trial):\n",
    "    params = {\n",
    "        'n_estimators': 1500,\n",
    "        'max_depth': trial.suggest_int('max_depth', 3, 20),\n",
    "        'min_child_weight': trial.suggest_int('min_child_weight', 1, 250),\n",
    "        'subsample': trial.suggest_float('subsample', 0.1, 1.0),\n",
    "        'colsample_bynode': trial.suggest_float('colsample_bynode', 0.1, 1.0),\n",
    "        'learning_rate': trial.suggest_float('learning_rate', 1e-3, 5e-1, log=True),\n",
    "    }\n",
    "    pruning_callback = optuna.integration.XGBoostPruningCallback(trial, f'validation_0-{eval_metric_name}')\n",
    "    es_callback = xgboost.callback.EarlyStopping(20, min_delta=0.001)\n",
    "    xgb = xgboost.XGBClassifier(\n",
    "        eval_metric=eval_metric,\n",
    "        callbacks=[pruning_callback, es_callback],\n",
    "        n_jobs=5,\n",
    "        **params\n",
    "    )\n",
    "    xgb.fit(\n",
    "        X_train, \n",
    "        y_train_enc, \n",
    "        verbose=0,\n",
    "        eval_set=[(X_val, y_val_enc)],\n",
    "    )\n",
    "    trial.set_user_attr('best_iteration', xgb.best_iteration)\n",
    "\n",
    "    return xgb.best_score"
   ]
  },
  {
   "cell_type": "code",
   "execution_count": 19,
   "id": "04b74610",
   "metadata": {
    "execution": {
     "iopub.execute_input": "2025-05-15T16:15:33.641866Z",
     "iopub.status.busy": "2025-05-15T16:15:33.641688Z",
     "iopub.status.idle": "2025-05-15T16:15:43.497998Z",
     "shell.execute_reply": "2025-05-15T16:15:43.497463Z"
    },
    "papermill": {
     "duration": 9.864148,
     "end_time": "2025-05-15T16:15:43.498968",
     "exception": false,
     "start_time": "2025-05-15T16:15:33.634820",
     "status": "completed"
    },
    "scrolled": true,
    "tags": []
   },
   "outputs": [
    {
     "name": "stderr",
     "output_type": "stream",
     "text": [
      "[I 2025-05-15 18:15:33,643] A new study created in memory with name: no-name-109984bc-8601-4709-838a-f6239c6c2ad3\n"
     ]
    },
    {
     "name": "stderr",
     "output_type": "stream",
     "text": [
      "[I 2025-05-15 18:15:33,725] Trial 0 finished with value: -0.041688 and parameters: {'max_depth': 9, 'min_child_weight': 238, 'subsample': 0.7587945476302645, 'colsample_bynode': 0.6387926357773329, 'learning_rate': 0.0026368755339723046}. Best is trial 0 with value: -0.041688.\n"
     ]
    },
    {
     "name": "stderr",
     "output_type": "stream",
     "text": [
      "[I 2025-05-15 18:15:34,173] Trial 1 finished with value: -0.599882 and parameters: {'max_depth': 5, 'min_child_weight': 15, 'subsample': 0.8795585311974417, 'colsample_bynode': 0.6410035105688879, 'learning_rate': 0.08148293210105287}. Best is trial 1 with value: -0.599882.\n"
     ]
    },
    {
     "name": "stderr",
     "output_type": "stream",
     "text": [
      "[I 2025-05-15 18:15:34,324] Trial 2 finished with value: -0.041688 and parameters: {'max_depth': 3, 'min_child_weight': 243, 'subsample': 0.8491983767203796, 'colsample_bynode': 0.29110519961044856, 'learning_rate': 0.003095566460242371}. Best is trial 1 with value: -0.599882.\n"
     ]
    },
    {
     "name": "stderr",
     "output_type": "stream",
     "text": [
      "[I 2025-05-15 18:15:34,478] Trial 3 finished with value: -0.041688 and parameters: {'max_depth': 6, 'min_child_weight': 77, 'subsample': 0.5722807884690141, 'colsample_bynode': 0.48875051677790415, 'learning_rate': 0.006109683510122491}. Best is trial 1 with value: -0.599882.\n"
     ]
    },
    {
     "name": "stderr",
     "output_type": "stream",
     "text": [
      "[I 2025-05-15 18:15:34,632] Trial 4 finished with value: -0.041688 and parameters: {'max_depth': 14, 'min_child_weight': 35, 'subsample': 0.3629301836816964, 'colsample_bynode': 0.4297256589643226, 'learning_rate': 0.01701841881702917}. Best is trial 1 with value: -0.599882.\n"
     ]
    },
    {
     "name": "stderr",
     "output_type": "stream",
     "text": [
      "[I 2025-05-15 18:15:34,791] Trial 5 finished with value: -0.041688 and parameters: {'max_depth': 17, 'min_child_weight': 50, 'subsample': 0.5628109945722505, 'colsample_bynode': 0.6331731119758383, 'learning_rate': 0.0013346527038305934}. Best is trial 1 with value: -0.599882.\n"
     ]
    },
    {
     "name": "stderr",
     "output_type": "stream",
     "text": [
      "[I 2025-05-15 18:15:34,951] Trial 6 finished with value: -0.041688 and parameters: {'max_depth': 13, 'min_child_weight': 43, 'subsample': 0.1585464336867516, 'colsample_bynode': 0.9539969835279999, 'learning_rate': 0.4038423798071558}. Best is trial 1 with value: -0.599882.\n"
     ]
    },
    {
     "name": "stderr",
     "output_type": "stream",
     "text": [
      "[I 2025-05-15 18:15:35,110] Trial 7 finished with value: -0.041688 and parameters: {'max_depth': 17, 'min_child_weight': 77, 'subsample': 0.1879049026057455, 'colsample_bynode': 0.7158097238609412, 'learning_rate': 0.015415527060141935}. Best is trial 1 with value: -0.599882.\n"
     ]
    },
    {
     "name": "stderr",
     "output_type": "stream",
     "text": [
      "[I 2025-05-15 18:15:35,267] Trial 8 finished with value: -0.041688 and parameters: {'max_depth': 5, 'min_child_weight': 124, 'subsample': 0.13094966900369656, 'colsample_bynode': 0.9183883618709039, 'learning_rate': 0.004993895014755658}. Best is trial 1 with value: -0.599882.\n"
     ]
    },
    {
     "name": "stderr",
     "output_type": "stream",
     "text": [
      "[I 2025-05-15 18:15:35,422] Trial 9 finished with value: -0.041688 and parameters: {'max_depth': 14, 'min_child_weight': 78, 'subsample': 0.5680612190600297, 'colsample_bynode': 0.5920392514089517, 'learning_rate': 0.0031543990308330965}. Best is trial 1 with value: -0.599882.\n"
     ]
    },
    {
     "name": "stderr",
     "output_type": "stream",
     "text": [
      "[I 2025-05-15 18:15:35,776] Trial 10 pruned. Trial was pruned at iteration 26.\n"
     ]
    },
    {
     "name": "stderr",
     "output_type": "stream",
     "text": [
      "[I 2025-05-15 18:15:35,949] Trial 11 finished with value: -0.041688 and parameters: {'max_depth': 9, 'min_child_weight': 244, 'subsample': 0.7759918276625105, 'colsample_bynode': 0.7714157288516674, 'learning_rate': 0.06989197786403963}. Best is trial 1 with value: -0.599882.\n"
     ]
    },
    {
     "name": "stderr",
     "output_type": "stream",
     "text": [
      "[I 2025-05-15 18:15:36,126] Trial 12 finished with value: -0.041688 and parameters: {'max_depth': 9, 'min_child_weight': 187, 'subsample': 0.7810886706853567, 'colsample_bynode': 0.7908156974794198, 'learning_rate': 0.0852514223226423}. Best is trial 1 with value: -0.599882.\n"
     ]
    },
    {
     "name": "stderr",
     "output_type": "stream",
     "text": [
      "[I 2025-05-15 18:15:36,306] Trial 13 finished with value: -0.041688 and parameters: {'max_depth': 7, 'min_child_weight': 173, 'subsample': 0.9985711586801754, 'colsample_bynode': 0.3542314315933605, 'learning_rate': 0.05535376435186281}. Best is trial 1 with value: -0.599882.\n"
     ]
    },
    {
     "name": "stderr",
     "output_type": "stream",
     "text": [
      "[I 2025-05-15 18:15:36,481] Trial 14 finished with value: -0.041688 and parameters: {'max_depth': 4, 'min_child_weight': 140, 'subsample': 0.7252785471204157, 'colsample_bynode': 0.6251170185028069, 'learning_rate': 0.028603454172866558}. Best is trial 1 with value: -0.599882.\n"
     ]
    },
    {
     "name": "stderr",
     "output_type": "stream",
     "text": [
      "[I 2025-05-15 18:15:36,660] Trial 15 finished with value: -0.041688 and parameters: {'max_depth': 20, 'min_child_weight': 204, 'subsample': 0.6803150824063098, 'colsample_bynode': 0.8501087117926959, 'learning_rate': 0.001019745930894758}. Best is trial 1 with value: -0.599882.\n"
     ]
    },
    {
     "name": "stderr",
     "output_type": "stream",
     "text": [
      "[I 2025-05-15 18:15:36,844] Trial 16 finished with value: -0.041688 and parameters: {'max_depth': 8, 'min_child_weight': 121, 'subsample': 0.8625632182518037, 'colsample_bynode': 0.6970657857507844, 'learning_rate': 0.18961687234093502}. Best is trial 1 with value: -0.599882.\n"
     ]
    },
    {
     "name": "stderr",
     "output_type": "stream",
     "text": [
      "[I 2025-05-15 18:15:37,114] Trial 17 pruned. Trial was pruned at iteration 24.\n"
     ]
    },
    {
     "name": "stderr",
     "output_type": "stream",
     "text": [
      "[I 2025-05-15 18:15:37,297] Trial 18 finished with value: -0.041688 and parameters: {'max_depth': 12, 'min_child_weight': 156, 'subsample': 0.8964450909290851, 'colsample_bynode': 0.24900065324684006, 'learning_rate': 0.03544069195285818}. Best is trial 1 with value: -0.599882.\n"
     ]
    },
    {
     "name": "stderr",
     "output_type": "stream",
     "text": [
      "[I 2025-05-15 18:15:37,484] Trial 19 finished with value: -0.041688 and parameters: {'max_depth': 3, 'min_child_weight': 213, 'subsample': 0.6729427260151626, 'colsample_bynode': 0.436579935167426, 'learning_rate': 0.15796261807789636}. Best is trial 1 with value: -0.599882.\n"
     ]
    },
    {
     "name": "stderr",
     "output_type": "stream",
     "text": [
      "[I 2025-05-15 18:15:37,671] Trial 20 finished with value: -0.041688 and parameters: {'max_depth': 6, 'min_child_weight': 108, 'subsample': 0.9267723049850893, 'colsample_bynode': 0.8638570884100472, 'learning_rate': 0.0018743644531145694}. Best is trial 1 with value: -0.599882.\n"
     ]
    },
    {
     "name": "stderr",
     "output_type": "stream",
     "text": [
      "[I 2025-05-15 18:15:37,858] Trial 21 finished with value: -0.041688 and parameters: {'max_depth': 3, 'min_child_weight': 243, 'subsample': 0.8381380797607554, 'colsample_bynode': 0.2936648591260932, 'learning_rate': 0.0028697910354236454}. Best is trial 1 with value: -0.599882.\n"
     ]
    },
    {
     "name": "stderr",
     "output_type": "stream",
     "text": [
      "[I 2025-05-15 18:15:38,045] Trial 22 finished with value: -0.041688 and parameters: {'max_depth': 4, 'min_child_weight': 222, 'subsample': 0.7982423974446629, 'colsample_bynode': 0.18807836392607669, 'learning_rate': 0.008881632187327966}. Best is trial 1 with value: -0.599882.\n"
     ]
    },
    {
     "name": "stderr",
     "output_type": "stream",
     "text": [
      "[I 2025-05-15 18:15:38,231] Trial 23 finished with value: -0.041688 and parameters: {'max_depth': 6, 'min_child_weight': 232, 'subsample': 0.6638310221964546, 'colsample_bynode': 0.566298809027901, 'learning_rate': 0.0027719217784443364}. Best is trial 1 with value: -0.599882.\n"
     ]
    },
    {
     "name": "stderr",
     "output_type": "stream",
     "text": [
      "[I 2025-05-15 18:15:38,417] Trial 24 finished with value: -0.041688 and parameters: {'max_depth': 11, 'min_child_weight': 200, 'subsample': 0.9143238627389314, 'colsample_bynode': 0.3905434007926093, 'learning_rate': 0.004380634708425319}. Best is trial 1 with value: -0.599882.\n"
     ]
    },
    {
     "name": "stderr",
     "output_type": "stream",
     "text": [
      "[I 2025-05-15 18:15:38,609] Trial 25 finished with value: -0.041688 and parameters: {'max_depth': 5, 'min_child_weight': 169, 'subsample': 0.7535701176502512, 'colsample_bynode': 0.6875962023752984, 'learning_rate': 0.001751366603937793}. Best is trial 1 with value: -0.599882.\n"
     ]
    },
    {
     "name": "stderr",
     "output_type": "stream",
     "text": [
      "[I 2025-05-15 18:15:38,800] Trial 26 finished with value: -0.041688 and parameters: {'max_depth': 8, 'min_child_weight': 102, 'subsample': 0.4415145059632183, 'colsample_bynode': 0.5054559356236007, 'learning_rate': 0.009981136121838687}. Best is trial 1 with value: -0.599882.\n"
     ]
    },
    {
     "name": "stderr",
     "output_type": "stream",
     "text": [
      "[I 2025-05-15 18:15:38,981] Trial 27 finished with value: -0.041688 and parameters: {'max_depth': 3, 'min_child_weight': 250, 'subsample': 0.836332296140562, 'colsample_bynode': 0.3224983221137091, 'learning_rate': 0.33751469567913717}. Best is trial 1 with value: -0.599882.\n"
     ]
    },
    {
     "name": "stderr",
     "output_type": "stream",
     "text": [
      "[I 2025-05-15 18:15:39,151] Trial 28 finished with value: -0.041688 and parameters: {'max_depth': 7, 'min_child_weight': 196, 'subsample': 0.9395802867292293, 'colsample_bynode': 0.10419856137301844, 'learning_rate': 0.12287823020042174}. Best is trial 1 with value: -0.599882.\n"
     ]
    },
    {
     "name": "stderr",
     "output_type": "stream",
     "text": [
      "[I 2025-05-15 18:15:39,322] Trial 29 finished with value: -0.041688 and parameters: {'max_depth': 5, 'min_child_weight': 146, 'subsample': 0.6524726734756583, 'colsample_bynode': 0.46569851971471055, 'learning_rate': 0.040578771578418715}. Best is trial 1 with value: -0.599882.\n"
     ]
    },
    {
     "name": "stderr",
     "output_type": "stream",
     "text": [
      "[I 2025-05-15 18:15:39,499] Trial 30 finished with value: -0.041688 and parameters: {'max_depth': 10, 'min_child_weight': 224, 'subsample': 0.48408877480742074, 'colsample_bynode': 0.6525741718054756, 'learning_rate': 0.006846398548333891}. Best is trial 1 with value: -0.599882.\n"
     ]
    },
    {
     "name": "stderr",
     "output_type": "stream",
     "text": [
      "[I 2025-05-15 18:15:39,674] Trial 31 finished with value: -0.119292 and parameters: {'max_depth': 7, 'min_child_weight': 24, 'subsample': 0.3232833115120691, 'colsample_bynode': 0.5340951687982394, 'learning_rate': 0.018630252572623195}. Best is trial 1 with value: -0.599882.\n"
     ]
    },
    {
     "name": "stderr",
     "output_type": "stream",
     "text": [
      "[I 2025-05-15 18:15:39,857] Trial 32 pruned. Trial was pruned at iteration 21.\n"
     ]
    },
    {
     "name": "stderr",
     "output_type": "stream",
     "text": [
      "[I 2025-05-15 18:15:40,041] Trial 33 finished with value: -0.119292 and parameters: {'max_depth': 4, 'min_child_weight': 18, 'subsample': 0.35339784691902887, 'colsample_bynode': 0.772378839469825, 'learning_rate': 0.02397016963272627}. Best is trial 1 with value: -0.599882.\n"
     ]
    },
    {
     "name": "stderr",
     "output_type": "stream",
     "text": [
      "[I 2025-05-15 18:15:40,214] Trial 34 finished with value: -0.119292 and parameters: {'max_depth': 8, 'min_child_weight': 22, 'subsample': 0.29240534170625704, 'colsample_bynode': 0.7526453947294727, 'learning_rate': 0.02279438327753854}. Best is trial 1 with value: -0.599882.\n"
     ]
    },
    {
     "name": "stderr",
     "output_type": "stream",
     "text": [
      "[I 2025-05-15 18:15:40,398] Trial 35 finished with value: -0.119292 and parameters: {'max_depth': 6, 'min_child_weight': 22, 'subsample': 0.29978867259842573, 'colsample_bynode': 0.7644351726597581, 'learning_rate': 0.024446528116819945}. Best is trial 1 with value: -0.599882.\n"
     ]
    },
    {
     "name": "stderr",
     "output_type": "stream",
     "text": [
      "[I 2025-05-15 18:15:40,581] Trial 36 finished with value: -0.041688 and parameters: {'max_depth': 4, 'min_child_weight': 58, 'subsample': 0.22302075185446074, 'colsample_bynode': 0.7333531621313284, 'learning_rate': 0.012880344714907324}. Best is trial 1 with value: -0.599882.\n"
     ]
    },
    {
     "name": "stderr",
     "output_type": "stream",
     "text": [
      "[I 2025-05-15 18:15:40,763] Trial 37 finished with value: -0.041688 and parameters: {'max_depth': 8, 'min_child_weight': 60, 'subsample': 0.37066756334899276, 'colsample_bynode': 0.8397493494153583, 'learning_rate': 0.04766435123980736}. Best is trial 1 with value: -0.599882.\n"
     ]
    },
    {
     "name": "stderr",
     "output_type": "stream",
     "text": [
      "[I 2025-05-15 18:15:40,945] Trial 38 finished with value: -0.119292 and parameters: {'max_depth': 5, 'min_child_weight': 20, 'subsample': 0.25720599485408774, 'colsample_bynode': 0.5892447591338933, 'learning_rate': 0.02129225940977665}. Best is trial 1 with value: -0.599882.\n"
     ]
    },
    {
     "name": "stderr",
     "output_type": "stream",
     "text": [
      "[I 2025-05-15 18:15:41,132] Trial 39 finished with value: -0.041688 and parameters: {'max_depth': 10, 'min_child_weight': 37, 'subsample': 0.3510072628320127, 'colsample_bynode': 0.9045503244547972, 'learning_rate': 0.03196858533980793}. Best is trial 1 with value: -0.599882.\n"
     ]
    },
    {
     "name": "stderr",
     "output_type": "stream",
     "text": [
      "[I 2025-05-15 18:15:41,364] Trial 40 finished with value: -0.376546 and parameters: {'max_depth': 7, 'min_child_weight': 12, 'subsample': 0.5065411553091326, 'colsample_bynode': 0.9765312599811335, 'learning_rate': 0.013106351335054691}. Best is trial 1 with value: -0.599882.\n"
     ]
    },
    {
     "name": "stderr",
     "output_type": "stream",
     "text": [
      "[I 2025-05-15 18:15:41,570] Trial 41 pruned. Trial was pruned at iteration 21.\n"
     ]
    },
    {
     "name": "stderr",
     "output_type": "stream",
     "text": [
      "[I 2025-05-15 18:15:41,752] Trial 42 finished with value: -0.041688 and parameters: {'max_depth': 6, 'min_child_weight': 47, 'subsample': 0.3380978690537726, 'colsample_bynode': 0.9790230688313801, 'learning_rate': 0.018316054367972096}. Best is trial 1 with value: -0.599882.\n"
     ]
    },
    {
     "name": "stderr",
     "output_type": "stream",
     "text": [
      "[I 2025-05-15 18:15:41,940] Trial 43 finished with value: -0.119292 and parameters: {'max_depth': 4, 'min_child_weight': 31, 'subsample': 0.5220158019827456, 'colsample_bynode': 0.6428226195177869, 'learning_rate': 0.08084954332282789}. Best is trial 1 with value: -0.599882.\n"
     ]
    },
    {
     "name": "stderr",
     "output_type": "stream",
     "text": [
      "[I 2025-05-15 18:15:42,493] Trial 44 pruned. Trial was pruned at iteration 31.\n"
     ]
    },
    {
     "name": "stderr",
     "output_type": "stream",
     "text": [
      "[I 2025-05-15 18:15:42,681] Trial 45 finished with value: -0.041688 and parameters: {'max_depth': 5, 'min_child_weight': 71, 'subsample': 0.5993060885364823, 'colsample_bynode': 0.8151237801990809, 'learning_rate': 0.02368889740556073}. Best is trial 1 with value: -0.599882.\n"
     ]
    },
    {
     "name": "stderr",
     "output_type": "stream",
     "text": [
      "[I 2025-05-15 18:15:42,862] Trial 46 finished with value: -0.119292 and parameters: {'max_depth': 10, 'min_child_weight': 11, 'subsample': 0.19338307214497585, 'colsample_bynode': 0.9869730835334796, 'learning_rate': 0.006518879024259204}. Best is trial 1 with value: -0.599882.\n"
     ]
    },
    {
     "name": "stderr",
     "output_type": "stream",
     "text": [
      "[I 2025-05-15 18:15:43,040] Trial 47 finished with value: -0.041688 and parameters: {'max_depth': 17, 'min_child_weight': 33, 'subsample': 0.31014267067849044, 'colsample_bynode': 0.7413215324905843, 'learning_rate': 0.013848637148313903}. Best is trial 1 with value: -0.599882.\n"
     ]
    },
    {
     "name": "stderr",
     "output_type": "stream",
     "text": [
      "[I 2025-05-15 18:15:43,221] Trial 48 finished with value: -0.041688 and parameters: {'max_depth': 7, 'min_child_weight': 89, 'subsample': 0.14736819351360494, 'colsample_bynode': 0.886959006771166, 'learning_rate': 0.004495334612900304}. Best is trial 1 with value: -0.599882.\n"
     ]
    },
    {
     "name": "stderr",
     "output_type": "stream",
     "text": [
      "[I 2025-05-15 18:15:43,401] Trial 49 finished with value: -0.041688 and parameters: {'max_depth': 15, 'min_child_weight': 49, 'subsample': 0.23831455473572377, 'colsample_bynode': 0.6845525266584821, 'learning_rate': 0.04065238113768162}. Best is trial 1 with value: -0.599882.\n"
     ]
    }
   ],
   "source": [
    "sampler = optuna.samplers.TPESampler(seed=42)\n",
    "study = optuna.create_study(direction='minimize', sampler=sampler)\n",
    "study.optimize(objective, n_trials=N_TRIALS, gc_after_trial=True)"
   ]
  },
  {
   "cell_type": "code",
   "execution_count": 20,
   "id": "09c47cda",
   "metadata": {
    "execution": {
     "iopub.execute_input": "2025-05-15T16:15:43.518794Z",
     "iopub.status.busy": "2025-05-15T16:15:43.518497Z",
     "iopub.status.idle": "2025-05-15T16:15:43.557900Z",
     "shell.execute_reply": "2025-05-15T16:15:43.557460Z"
    },
    "papermill": {
     "duration": 0.05028,
     "end_time": "2025-05-15T16:15:43.558770",
     "exception": false,
     "start_time": "2025-05-15T16:15:43.508490",
     "status": "completed"
    },
    "tags": []
   },
   "outputs": [
    {
     "data": {
      "text/plain": [
       "['/scratch_isilon/groups/singlecell/shared/projects/Inflammation-PBMCs-Atlas/03_downstream_analysis/08_gene_importance/xgboost_external_validation/xgboost_TopN_genes/results_20/study/Plasma_7_3_xgboost.pkl']"
      ]
     },
     "execution_count": 20,
     "metadata": {},
     "output_type": "execute_result"
    }
   ],
   "source": [
    "out_dir = here(f'03_downstream_analysis/08_gene_importance/xgboost_external_validation/xgboost_TopN_genes/results_{N_GENES}/study')\n",
    "\n",
    "if not os.path.exists(out_dir):\n",
    "    os.makedirs(out_dir)\n",
    "    \n",
    "joblib.dump(study,os.path.join(out_dir, f'{CELL_TYPE}_{SEED}_{TEST_SPLIT_IDX}_xgboost.pkl'))"
   ]
  },
  {
   "cell_type": "code",
   "execution_count": 21,
   "id": "710d9a22",
   "metadata": {
    "execution": {
     "iopub.execute_input": "2025-05-15T16:15:43.584569Z",
     "iopub.status.busy": "2025-05-15T16:15:43.584304Z",
     "iopub.status.idle": "2025-05-15T16:15:43.913289Z",
     "shell.execute_reply": "2025-05-15T16:15:43.912880Z"
    },
    "papermill": {
     "duration": 0.338665,
     "end_time": "2025-05-15T16:15:43.914200",
     "exception": false,
     "start_time": "2025-05-15T16:15:43.575535",
     "status": "completed"
    },
    "tags": []
   },
   "outputs": [
    {
     "data": {
      "text/html": [
       "<style>#sk-container-id-1 {\n",
       "  /* Definition of color scheme common for light and dark mode */\n",
       "  --sklearn-color-text: black;\n",
       "  --sklearn-color-line: gray;\n",
       "  /* Definition of color scheme for unfitted estimators */\n",
       "  --sklearn-color-unfitted-level-0: #fff5e6;\n",
       "  --sklearn-color-unfitted-level-1: #f6e4d2;\n",
       "  --sklearn-color-unfitted-level-2: #ffe0b3;\n",
       "  --sklearn-color-unfitted-level-3: chocolate;\n",
       "  /* Definition of color scheme for fitted estimators */\n",
       "  --sklearn-color-fitted-level-0: #f0f8ff;\n",
       "  --sklearn-color-fitted-level-1: #d4ebff;\n",
       "  --sklearn-color-fitted-level-2: #b3dbfd;\n",
       "  --sklearn-color-fitted-level-3: cornflowerblue;\n",
       "\n",
       "  /* Specific color for light theme */\n",
       "  --sklearn-color-text-on-default-background: var(--sg-text-color, var(--theme-code-foreground, var(--jp-content-font-color1, black)));\n",
       "  --sklearn-color-background: var(--sg-background-color, var(--theme-background, var(--jp-layout-color0, white)));\n",
       "  --sklearn-color-border-box: var(--sg-text-color, var(--theme-code-foreground, var(--jp-content-font-color1, black)));\n",
       "  --sklearn-color-icon: #696969;\n",
       "\n",
       "  @media (prefers-color-scheme: dark) {\n",
       "    /* Redefinition of color scheme for dark theme */\n",
       "    --sklearn-color-text-on-default-background: var(--sg-text-color, var(--theme-code-foreground, var(--jp-content-font-color1, white)));\n",
       "    --sklearn-color-background: var(--sg-background-color, var(--theme-background, var(--jp-layout-color0, #111)));\n",
       "    --sklearn-color-border-box: var(--sg-text-color, var(--theme-code-foreground, var(--jp-content-font-color1, white)));\n",
       "    --sklearn-color-icon: #878787;\n",
       "  }\n",
       "}\n",
       "\n",
       "#sk-container-id-1 {\n",
       "  color: var(--sklearn-color-text);\n",
       "}\n",
       "\n",
       "#sk-container-id-1 pre {\n",
       "  padding: 0;\n",
       "}\n",
       "\n",
       "#sk-container-id-1 input.sk-hidden--visually {\n",
       "  border: 0;\n",
       "  clip: rect(1px 1px 1px 1px);\n",
       "  clip: rect(1px, 1px, 1px, 1px);\n",
       "  height: 1px;\n",
       "  margin: -1px;\n",
       "  overflow: hidden;\n",
       "  padding: 0;\n",
       "  position: absolute;\n",
       "  width: 1px;\n",
       "}\n",
       "\n",
       "#sk-container-id-1 div.sk-dashed-wrapped {\n",
       "  border: 1px dashed var(--sklearn-color-line);\n",
       "  margin: 0 0.4em 0.5em 0.4em;\n",
       "  box-sizing: border-box;\n",
       "  padding-bottom: 0.4em;\n",
       "  background-color: var(--sklearn-color-background);\n",
       "}\n",
       "\n",
       "#sk-container-id-1 div.sk-container {\n",
       "  /* jupyter's `normalize.less` sets `[hidden] { display: none; }`\n",
       "     but bootstrap.min.css set `[hidden] { display: none !important; }`\n",
       "     so we also need the `!important` here to be able to override the\n",
       "     default hidden behavior on the sphinx rendered scikit-learn.org.\n",
       "     See: https://github.com/scikit-learn/scikit-learn/issues/21755 */\n",
       "  display: inline-block !important;\n",
       "  position: relative;\n",
       "}\n",
       "\n",
       "#sk-container-id-1 div.sk-text-repr-fallback {\n",
       "  display: none;\n",
       "}\n",
       "\n",
       "div.sk-parallel-item,\n",
       "div.sk-serial,\n",
       "div.sk-item {\n",
       "  /* draw centered vertical line to link estimators */\n",
       "  background-image: linear-gradient(var(--sklearn-color-text-on-default-background), var(--sklearn-color-text-on-default-background));\n",
       "  background-size: 2px 100%;\n",
       "  background-repeat: no-repeat;\n",
       "  background-position: center center;\n",
       "}\n",
       "\n",
       "/* Parallel-specific style estimator block */\n",
       "\n",
       "#sk-container-id-1 div.sk-parallel-item::after {\n",
       "  content: \"\";\n",
       "  width: 100%;\n",
       "  border-bottom: 2px solid var(--sklearn-color-text-on-default-background);\n",
       "  flex-grow: 1;\n",
       "}\n",
       "\n",
       "#sk-container-id-1 div.sk-parallel {\n",
       "  display: flex;\n",
       "  align-items: stretch;\n",
       "  justify-content: center;\n",
       "  background-color: var(--sklearn-color-background);\n",
       "  position: relative;\n",
       "}\n",
       "\n",
       "#sk-container-id-1 div.sk-parallel-item {\n",
       "  display: flex;\n",
       "  flex-direction: column;\n",
       "}\n",
       "\n",
       "#sk-container-id-1 div.sk-parallel-item:first-child::after {\n",
       "  align-self: flex-end;\n",
       "  width: 50%;\n",
       "}\n",
       "\n",
       "#sk-container-id-1 div.sk-parallel-item:last-child::after {\n",
       "  align-self: flex-start;\n",
       "  width: 50%;\n",
       "}\n",
       "\n",
       "#sk-container-id-1 div.sk-parallel-item:only-child::after {\n",
       "  width: 0;\n",
       "}\n",
       "\n",
       "/* Serial-specific style estimator block */\n",
       "\n",
       "#sk-container-id-1 div.sk-serial {\n",
       "  display: flex;\n",
       "  flex-direction: column;\n",
       "  align-items: center;\n",
       "  background-color: var(--sklearn-color-background);\n",
       "  padding-right: 1em;\n",
       "  padding-left: 1em;\n",
       "}\n",
       "\n",
       "\n",
       "/* Toggleable style: style used for estimator/Pipeline/ColumnTransformer box that is\n",
       "clickable and can be expanded/collapsed.\n",
       "- Pipeline and ColumnTransformer use this feature and define the default style\n",
       "- Estimators will overwrite some part of the style using the `sk-estimator` class\n",
       "*/\n",
       "\n",
       "/* Pipeline and ColumnTransformer style (default) */\n",
       "\n",
       "#sk-container-id-1 div.sk-toggleable {\n",
       "  /* Default theme specific background. It is overwritten whether we have a\n",
       "  specific estimator or a Pipeline/ColumnTransformer */\n",
       "  background-color: var(--sklearn-color-background);\n",
       "}\n",
       "\n",
       "/* Toggleable label */\n",
       "#sk-container-id-1 label.sk-toggleable__label {\n",
       "  cursor: pointer;\n",
       "  display: block;\n",
       "  width: 100%;\n",
       "  margin-bottom: 0;\n",
       "  padding: 0.5em;\n",
       "  box-sizing: border-box;\n",
       "  text-align: center;\n",
       "}\n",
       "\n",
       "#sk-container-id-1 label.sk-toggleable__label-arrow:before {\n",
       "  /* Arrow on the left of the label */\n",
       "  content: \"▸\";\n",
       "  float: left;\n",
       "  margin-right: 0.25em;\n",
       "  color: var(--sklearn-color-icon);\n",
       "}\n",
       "\n",
       "#sk-container-id-1 label.sk-toggleable__label-arrow:hover:before {\n",
       "  color: var(--sklearn-color-text);\n",
       "}\n",
       "\n",
       "/* Toggleable content - dropdown */\n",
       "\n",
       "#sk-container-id-1 div.sk-toggleable__content {\n",
       "  max-height: 0;\n",
       "  max-width: 0;\n",
       "  overflow: hidden;\n",
       "  text-align: left;\n",
       "  /* unfitted */\n",
       "  background-color: var(--sklearn-color-unfitted-level-0);\n",
       "}\n",
       "\n",
       "#sk-container-id-1 div.sk-toggleable__content.fitted {\n",
       "  /* fitted */\n",
       "  background-color: var(--sklearn-color-fitted-level-0);\n",
       "}\n",
       "\n",
       "#sk-container-id-1 div.sk-toggleable__content pre {\n",
       "  margin: 0.2em;\n",
       "  border-radius: 0.25em;\n",
       "  color: var(--sklearn-color-text);\n",
       "  /* unfitted */\n",
       "  background-color: var(--sklearn-color-unfitted-level-0);\n",
       "}\n",
       "\n",
       "#sk-container-id-1 div.sk-toggleable__content.fitted pre {\n",
       "  /* unfitted */\n",
       "  background-color: var(--sklearn-color-fitted-level-0);\n",
       "}\n",
       "\n",
       "#sk-container-id-1 input.sk-toggleable__control:checked~div.sk-toggleable__content {\n",
       "  /* Expand drop-down */\n",
       "  max-height: 200px;\n",
       "  max-width: 100%;\n",
       "  overflow: auto;\n",
       "}\n",
       "\n",
       "#sk-container-id-1 input.sk-toggleable__control:checked~label.sk-toggleable__label-arrow:before {\n",
       "  content: \"▾\";\n",
       "}\n",
       "\n",
       "/* Pipeline/ColumnTransformer-specific style */\n",
       "\n",
       "#sk-container-id-1 div.sk-label input.sk-toggleable__control:checked~label.sk-toggleable__label {\n",
       "  color: var(--sklearn-color-text);\n",
       "  background-color: var(--sklearn-color-unfitted-level-2);\n",
       "}\n",
       "\n",
       "#sk-container-id-1 div.sk-label.fitted input.sk-toggleable__control:checked~label.sk-toggleable__label {\n",
       "  background-color: var(--sklearn-color-fitted-level-2);\n",
       "}\n",
       "\n",
       "/* Estimator-specific style */\n",
       "\n",
       "/* Colorize estimator box */\n",
       "#sk-container-id-1 div.sk-estimator input.sk-toggleable__control:checked~label.sk-toggleable__label {\n",
       "  /* unfitted */\n",
       "  background-color: var(--sklearn-color-unfitted-level-2);\n",
       "}\n",
       "\n",
       "#sk-container-id-1 div.sk-estimator.fitted input.sk-toggleable__control:checked~label.sk-toggleable__label {\n",
       "  /* fitted */\n",
       "  background-color: var(--sklearn-color-fitted-level-2);\n",
       "}\n",
       "\n",
       "#sk-container-id-1 div.sk-label label.sk-toggleable__label,\n",
       "#sk-container-id-1 div.sk-label label {\n",
       "  /* The background is the default theme color */\n",
       "  color: var(--sklearn-color-text-on-default-background);\n",
       "}\n",
       "\n",
       "/* On hover, darken the color of the background */\n",
       "#sk-container-id-1 div.sk-label:hover label.sk-toggleable__label {\n",
       "  color: var(--sklearn-color-text);\n",
       "  background-color: var(--sklearn-color-unfitted-level-2);\n",
       "}\n",
       "\n",
       "/* Label box, darken color on hover, fitted */\n",
       "#sk-container-id-1 div.sk-label.fitted:hover label.sk-toggleable__label.fitted {\n",
       "  color: var(--sklearn-color-text);\n",
       "  background-color: var(--sklearn-color-fitted-level-2);\n",
       "}\n",
       "\n",
       "/* Estimator label */\n",
       "\n",
       "#sk-container-id-1 div.sk-label label {\n",
       "  font-family: monospace;\n",
       "  font-weight: bold;\n",
       "  display: inline-block;\n",
       "  line-height: 1.2em;\n",
       "}\n",
       "\n",
       "#sk-container-id-1 div.sk-label-container {\n",
       "  text-align: center;\n",
       "}\n",
       "\n",
       "/* Estimator-specific */\n",
       "#sk-container-id-1 div.sk-estimator {\n",
       "  font-family: monospace;\n",
       "  border: 1px dotted var(--sklearn-color-border-box);\n",
       "  border-radius: 0.25em;\n",
       "  box-sizing: border-box;\n",
       "  margin-bottom: 0.5em;\n",
       "  /* unfitted */\n",
       "  background-color: var(--sklearn-color-unfitted-level-0);\n",
       "}\n",
       "\n",
       "#sk-container-id-1 div.sk-estimator.fitted {\n",
       "  /* fitted */\n",
       "  background-color: var(--sklearn-color-fitted-level-0);\n",
       "}\n",
       "\n",
       "/* on hover */\n",
       "#sk-container-id-1 div.sk-estimator:hover {\n",
       "  /* unfitted */\n",
       "  background-color: var(--sklearn-color-unfitted-level-2);\n",
       "}\n",
       "\n",
       "#sk-container-id-1 div.sk-estimator.fitted:hover {\n",
       "  /* fitted */\n",
       "  background-color: var(--sklearn-color-fitted-level-2);\n",
       "}\n",
       "\n",
       "/* Specification for estimator info (e.g. \"i\" and \"?\") */\n",
       "\n",
       "/* Common style for \"i\" and \"?\" */\n",
       "\n",
       ".sk-estimator-doc-link,\n",
       "a:link.sk-estimator-doc-link,\n",
       "a:visited.sk-estimator-doc-link {\n",
       "  float: right;\n",
       "  font-size: smaller;\n",
       "  line-height: 1em;\n",
       "  font-family: monospace;\n",
       "  background-color: var(--sklearn-color-background);\n",
       "  border-radius: 1em;\n",
       "  height: 1em;\n",
       "  width: 1em;\n",
       "  text-decoration: none !important;\n",
       "  margin-left: 1ex;\n",
       "  /* unfitted */\n",
       "  border: var(--sklearn-color-unfitted-level-1) 1pt solid;\n",
       "  color: var(--sklearn-color-unfitted-level-1);\n",
       "}\n",
       "\n",
       ".sk-estimator-doc-link.fitted,\n",
       "a:link.sk-estimator-doc-link.fitted,\n",
       "a:visited.sk-estimator-doc-link.fitted {\n",
       "  /* fitted */\n",
       "  border: var(--sklearn-color-fitted-level-1) 1pt solid;\n",
       "  color: var(--sklearn-color-fitted-level-1);\n",
       "}\n",
       "\n",
       "/* On hover */\n",
       "div.sk-estimator:hover .sk-estimator-doc-link:hover,\n",
       ".sk-estimator-doc-link:hover,\n",
       "div.sk-label-container:hover .sk-estimator-doc-link:hover,\n",
       ".sk-estimator-doc-link:hover {\n",
       "  /* unfitted */\n",
       "  background-color: var(--sklearn-color-unfitted-level-3);\n",
       "  color: var(--sklearn-color-background);\n",
       "  text-decoration: none;\n",
       "}\n",
       "\n",
       "div.sk-estimator.fitted:hover .sk-estimator-doc-link.fitted:hover,\n",
       ".sk-estimator-doc-link.fitted:hover,\n",
       "div.sk-label-container:hover .sk-estimator-doc-link.fitted:hover,\n",
       ".sk-estimator-doc-link.fitted:hover {\n",
       "  /* fitted */\n",
       "  background-color: var(--sklearn-color-fitted-level-3);\n",
       "  color: var(--sklearn-color-background);\n",
       "  text-decoration: none;\n",
       "}\n",
       "\n",
       "/* Span, style for the box shown on hovering the info icon */\n",
       ".sk-estimator-doc-link span {\n",
       "  display: none;\n",
       "  z-index: 9999;\n",
       "  position: relative;\n",
       "  font-weight: normal;\n",
       "  right: .2ex;\n",
       "  padding: .5ex;\n",
       "  margin: .5ex;\n",
       "  width: min-content;\n",
       "  min-width: 20ex;\n",
       "  max-width: 50ex;\n",
       "  color: var(--sklearn-color-text);\n",
       "  box-shadow: 2pt 2pt 4pt #999;\n",
       "  /* unfitted */\n",
       "  background: var(--sklearn-color-unfitted-level-0);\n",
       "  border: .5pt solid var(--sklearn-color-unfitted-level-3);\n",
       "}\n",
       "\n",
       ".sk-estimator-doc-link.fitted span {\n",
       "  /* fitted */\n",
       "  background: var(--sklearn-color-fitted-level-0);\n",
       "  border: var(--sklearn-color-fitted-level-3);\n",
       "}\n",
       "\n",
       ".sk-estimator-doc-link:hover span {\n",
       "  display: block;\n",
       "}\n",
       "\n",
       "/* \"?\"-specific style due to the `<a>` HTML tag */\n",
       "\n",
       "#sk-container-id-1 a.estimator_doc_link {\n",
       "  float: right;\n",
       "  font-size: 1rem;\n",
       "  line-height: 1em;\n",
       "  font-family: monospace;\n",
       "  background-color: var(--sklearn-color-background);\n",
       "  border-radius: 1rem;\n",
       "  height: 1rem;\n",
       "  width: 1rem;\n",
       "  text-decoration: none;\n",
       "  /* unfitted */\n",
       "  color: var(--sklearn-color-unfitted-level-1);\n",
       "  border: var(--sklearn-color-unfitted-level-1) 1pt solid;\n",
       "}\n",
       "\n",
       "#sk-container-id-1 a.estimator_doc_link.fitted {\n",
       "  /* fitted */\n",
       "  border: var(--sklearn-color-fitted-level-1) 1pt solid;\n",
       "  color: var(--sklearn-color-fitted-level-1);\n",
       "}\n",
       "\n",
       "/* On hover */\n",
       "#sk-container-id-1 a.estimator_doc_link:hover {\n",
       "  /* unfitted */\n",
       "  background-color: var(--sklearn-color-unfitted-level-3);\n",
       "  color: var(--sklearn-color-background);\n",
       "  text-decoration: none;\n",
       "}\n",
       "\n",
       "#sk-container-id-1 a.estimator_doc_link.fitted:hover {\n",
       "  /* fitted */\n",
       "  background-color: var(--sklearn-color-fitted-level-3);\n",
       "}\n",
       "</style><div id=\"sk-container-id-1\" class=\"sk-top-container\"><div class=\"sk-text-repr-fallback\"><pre>XGBClassifier(base_score=None, booster=None, callbacks=None,\n",
       "              colsample_bylevel=None, colsample_bynode=0.6410035105688879,\n",
       "              colsample_bytree=None, device=None, early_stopping_rounds=None,\n",
       "              enable_categorical=False,\n",
       "              eval_metric=&lt;function custom_f1_score at 0x7fe0020f8720&gt;,\n",
       "              feature_types=None, gamma=None, grow_policy=None,\n",
       "              importance_type=None, interaction_constraints=None,\n",
       "              learning_rate=0.08148293210105287, max_bin=None,\n",
       "              max_cat_threshold=None, max_cat_to_onehot=None,\n",
       "              max_delta_step=None, max_depth=5, max_leaves=None,\n",
       "              min_child_weight=15, missing=nan, monotone_constraints=None,\n",
       "              multi_strategy=None, n_estimators=63, n_jobs=None,\n",
       "              num_parallel_tree=None, objective=&#x27;multi:softprob&#x27;, ...)</pre><b>In a Jupyter environment, please rerun this cell to show the HTML representation or trust the notebook. <br />On GitHub, the HTML representation is unable to render, please try loading this page with nbviewer.org.</b></div><div class=\"sk-container\" hidden><div class=\"sk-item\"><div class=\"sk-estimator fitted sk-toggleable\"><input class=\"sk-toggleable__control sk-hidden--visually\" id=\"sk-estimator-id-1\" type=\"checkbox\" checked><label for=\"sk-estimator-id-1\" class=\"sk-toggleable__label fitted sk-toggleable__label-arrow fitted\">&nbsp;XGBClassifier<span class=\"sk-estimator-doc-link fitted\">i<span>Fitted</span></span></label><div class=\"sk-toggleable__content fitted\"><pre>XGBClassifier(base_score=None, booster=None, callbacks=None,\n",
       "              colsample_bylevel=None, colsample_bynode=0.6410035105688879,\n",
       "              colsample_bytree=None, device=None, early_stopping_rounds=None,\n",
       "              enable_categorical=False,\n",
       "              eval_metric=&lt;function custom_f1_score at 0x7fe0020f8720&gt;,\n",
       "              feature_types=None, gamma=None, grow_policy=None,\n",
       "              importance_type=None, interaction_constraints=None,\n",
       "              learning_rate=0.08148293210105287, max_bin=None,\n",
       "              max_cat_threshold=None, max_cat_to_onehot=None,\n",
       "              max_delta_step=None, max_depth=5, max_leaves=None,\n",
       "              min_child_weight=15, missing=nan, monotone_constraints=None,\n",
       "              multi_strategy=None, n_estimators=63, n_jobs=None,\n",
       "              num_parallel_tree=None, objective=&#x27;multi:softprob&#x27;, ...)</pre></div> </div></div></div></div>"
      ],
      "text/plain": [
       "XGBClassifier(base_score=None, booster=None, callbacks=None,\n",
       "              colsample_bylevel=None, colsample_bynode=0.6410035105688879,\n",
       "              colsample_bytree=None, device=None, early_stopping_rounds=None,\n",
       "              enable_categorical=False,\n",
       "              eval_metric=<function custom_f1_score at 0x7fe0020f8720>,\n",
       "              feature_types=None, gamma=None, grow_policy=None,\n",
       "              importance_type=None, interaction_constraints=None,\n",
       "              learning_rate=0.08148293210105287, max_bin=None,\n",
       "              max_cat_threshold=None, max_cat_to_onehot=None,\n",
       "              max_delta_step=None, max_depth=5, max_leaves=None,\n",
       "              min_child_weight=15, missing=nan, monotone_constraints=None,\n",
       "              multi_strategy=None, n_estimators=63, n_jobs=None,\n",
       "              num_parallel_tree=None, objective='multi:softprob', ...)"
      ]
     },
     "execution_count": 21,
     "metadata": {},
     "output_type": "execute_result"
    }
   ],
   "source": [
    "n_estimators = int(study.best_trial.user_attrs['best_iteration']*1.2)\n",
    "xgb = xgboost.XGBClassifier(\n",
    "        eval_metric=eval_metric,\n",
    "        n_estimators=n_estimators,\n",
    "        **study.best_trial.params\n",
    "    )\n",
    "xgb.fit(\n",
    "    ssp.vstack((X_train, X_val)), \n",
    "    np.concatenate((y_train_enc, y_val_enc)),\n",
    "    verbose=1,\n",
    ")"
   ]
  },
  {
   "cell_type": "code",
   "execution_count": 22,
   "id": "fdc3c141",
   "metadata": {
    "execution": {
     "iopub.execute_input": "2025-05-15T16:15:43.933008Z",
     "iopub.status.busy": "2025-05-15T16:15:43.932804Z",
     "iopub.status.idle": "2025-05-15T16:15:43.947613Z",
     "shell.execute_reply": "2025-05-15T16:15:43.947183Z"
    },
    "papermill": {
     "duration": 0.025149,
     "end_time": "2025-05-15T16:15:43.948449",
     "exception": false,
     "start_time": "2025-05-15T16:15:43.923300",
     "status": "completed"
    },
    "tags": []
   },
   "outputs": [
    {
     "data": {
      "text/plain": [
       "['/scratch_isilon/groups/singlecell/shared/projects/Inflammation-PBMCs-Atlas/03_downstream_analysis/08_gene_importance/xgboost_external_validation/xgboost_TopN_genes/results_20/best_model/Plasma_7_3_xgb.json']"
      ]
     },
     "execution_count": 22,
     "metadata": {},
     "output_type": "execute_result"
    }
   ],
   "source": [
    "out_dir = here(f'03_downstream_analysis/08_gene_importance/xgboost_external_validation/xgboost_TopN_genes/results_{N_GENES}/best_model')\n",
    "\n",
    "if not os.path.exists(out_dir):\n",
    "    os.makedirs(out_dir)\n",
    "    \n",
    "joblib.dump(xgb, os.path.join(out_dir, f'{CELL_TYPE}_{SEED}_{TEST_SPLIT_IDX}_xgb.json'))"
   ]
  },
  {
   "cell_type": "code",
   "execution_count": 23,
   "id": "c513c213",
   "metadata": {
    "execution": {
     "iopub.execute_input": "2025-05-15T16:15:43.981656Z",
     "iopub.status.busy": "2025-05-15T16:15:43.981324Z",
     "iopub.status.idle": "2025-05-15T16:15:43.987093Z",
     "shell.execute_reply": "2025-05-15T16:15:43.986719Z"
    },
    "papermill": {
     "duration": 0.03427,
     "end_time": "2025-05-15T16:15:43.991771",
     "exception": false,
     "start_time": "2025-05-15T16:15:43.957501",
     "status": "completed"
    },
    "tags": []
   },
   "outputs": [],
   "source": [
    "df_pred_test = pd.DataFrame(dict(\n",
    "    cell_id=train_adata.obs.iloc[test_idxs].index.values,\n",
    "    y_true=y_test, \n",
    "    y_true_code=y_test_enc, \n",
    "    y_pred=xgb.predict(X_test))).set_index('cell_id')"
   ]
  },
  {
   "cell_type": "code",
   "execution_count": 24,
   "id": "a6f7bdad",
   "metadata": {
    "execution": {
     "iopub.execute_input": "2025-05-15T16:15:44.009910Z",
     "iopub.status.busy": "2025-05-15T16:15:44.009658Z",
     "iopub.status.idle": "2025-05-15T16:15:44.021186Z",
     "shell.execute_reply": "2025-05-15T16:15:44.020720Z"
    },
    "papermill": {
     "duration": 0.021668,
     "end_time": "2025-05-15T16:15:44.022086",
     "exception": false,
     "start_time": "2025-05-15T16:15:44.000418",
     "status": "completed"
    },
    "tags": []
   },
   "outputs": [],
   "source": [
    "out_dir = here(f'03_downstream_analysis/08_gene_importance/xgboost_external_validation/xgboost_TopN_genes/results_{N_GENES}/predictions')\n",
    "\n",
    "if not os.path.exists(out_dir):\n",
    "    os.makedirs(out_dir)\n",
    "    \n",
    "df_pred_test.to_csv(os.path.join(out_dir, f'{CELL_TYPE}_{SEED}_{TEST_SPLIT_IDX}_pred_test.zip'))"
   ]
  },
  {
   "cell_type": "code",
   "execution_count": 25,
   "id": "db0b52f2",
   "metadata": {
    "execution": {
     "iopub.execute_input": "2025-05-15T16:15:44.040177Z",
     "iopub.status.busy": "2025-05-15T16:15:44.039917Z",
     "iopub.status.idle": "2025-05-15T16:15:44.045844Z",
     "shell.execute_reply": "2025-05-15T16:15:44.045466Z"
    },
    "papermill": {
     "duration": 0.016073,
     "end_time": "2025-05-15T16:15:44.046665",
     "exception": false,
     "start_time": "2025-05-15T16:15:44.030592",
     "status": "completed"
    },
    "tags": []
   },
   "outputs": [],
   "source": [
    "metrics_dict = dict(\n",
    "    BAS=balanced_accuracy_score(y_true=df_pred_test.y_true_code, y_pred=df_pred_test.y_pred), WF1=f1_score(y_true=df_pred_test.y_true_code, y_pred=df_pred_test.y_pred,average='weighted'))"
   ]
  },
  {
   "cell_type": "code",
   "execution_count": 26,
   "id": "bfb756cb",
   "metadata": {
    "execution": {
     "iopub.execute_input": "2025-05-15T16:15:44.072427Z",
     "iopub.status.busy": "2025-05-15T16:15:44.072207Z",
     "iopub.status.idle": "2025-05-15T16:15:44.075385Z",
     "shell.execute_reply": "2025-05-15T16:15:44.075035Z"
    },
    "papermill": {
     "duration": 0.013085,
     "end_time": "2025-05-15T16:15:44.076325",
     "exception": false,
     "start_time": "2025-05-15T16:15:44.063240",
     "status": "completed"
    },
    "tags": []
   },
   "outputs": [
    {
     "data": {
      "text/plain": [
       "{'BAS': 0.32080419580419584, 'WF1': 0.553656388392328}"
      ]
     },
     "execution_count": 26,
     "metadata": {},
     "output_type": "execute_result"
    }
   ],
   "source": [
    "metrics_dict"
   ]
  },
  {
   "cell_type": "code",
   "execution_count": 27,
   "id": "229191f3",
   "metadata": {
    "execution": {
     "iopub.execute_input": "2025-05-15T16:15:44.094194Z",
     "iopub.status.busy": "2025-05-15T16:15:44.093954Z",
     "iopub.status.idle": "2025-05-15T16:15:44.102303Z",
     "shell.execute_reply": "2025-05-15T16:15:44.101947Z"
    },
    "papermill": {
     "duration": 0.018287,
     "end_time": "2025-05-15T16:15:44.103147",
     "exception": false,
     "start_time": "2025-05-15T16:15:44.084860",
     "status": "completed"
    },
    "tags": []
   },
   "outputs": [
    {
     "data": {
      "text/html": [
       "<div>\n",
       "<style scoped>\n",
       "    .dataframe tbody tr th:only-of-type {\n",
       "        vertical-align: middle;\n",
       "    }\n",
       "\n",
       "    .dataframe tbody tr th {\n",
       "        vertical-align: top;\n",
       "    }\n",
       "\n",
       "    .dataframe thead th {\n",
       "        text-align: right;\n",
       "    }\n",
       "</style>\n",
       "<table border=\"1\" class=\"dataframe\">\n",
       "  <thead>\n",
       "    <tr style=\"text-align: right;\">\n",
       "      <th></th>\n",
       "      <th>BAS</th>\n",
       "      <th>WF1</th>\n",
       "      <th>split_idx</th>\n",
       "      <th>gene_set_seed</th>\n",
       "      <th>cell_type</th>\n",
       "    </tr>\n",
       "  </thead>\n",
       "  <tbody>\n",
       "    <tr>\n",
       "      <th>0</th>\n",
       "      <td>0.320804</td>\n",
       "      <td>0.553656</td>\n",
       "      <td>3</td>\n",
       "      <td>7</td>\n",
       "      <td>Plasma</td>\n",
       "    </tr>\n",
       "  </tbody>\n",
       "</table>\n",
       "</div>"
      ],
      "text/plain": [
       "        BAS       WF1  split_idx  gene_set_seed cell_type\n",
       "0  0.320804  0.553656          3              7    Plasma"
      ]
     },
     "execution_count": 27,
     "metadata": {},
     "output_type": "execute_result"
    }
   ],
   "source": [
    "metrics_df = pd.DataFrame.from_dict([metrics_dict]).assign(split_idx=TEST_SPLIT_IDX, gene_set_seed=SEED, cell_type=CELL_TYPE)\n",
    "metrics_df"
   ]
  },
  {
   "cell_type": "code",
   "execution_count": 28,
   "id": "86267b0e",
   "metadata": {
    "execution": {
     "iopub.execute_input": "2025-05-15T16:15:44.121841Z",
     "iopub.status.busy": "2025-05-15T16:15:44.121583Z",
     "iopub.status.idle": "2025-05-15T16:15:44.130038Z",
     "shell.execute_reply": "2025-05-15T16:15:44.129608Z"
    },
    "papermill": {
     "duration": 0.019,
     "end_time": "2025-05-15T16:15:44.130854",
     "exception": false,
     "start_time": "2025-05-15T16:15:44.111854",
     "status": "completed"
    },
    "tags": []
   },
   "outputs": [],
   "source": [
    "out_dir = here(f'03_downstream_analysis/08_gene_importance/xgboost_external_validation/xgboost_TopN_genes/results_{N_GENES}/metrics')\n",
    "\n",
    "if not os.path.exists(out_dir):\n",
    "    os.makedirs(out_dir)\n",
    "    \n",
    "metrics_df.to_csv(os.path.join(out_dir, f'{CELL_TYPE}_{SEED}_{TEST_SPLIT_IDX}_metrics.zip'))"
   ]
  }
 ],
 "metadata": {
  "kernelspec": {
   "display_name": "Python 3 (ipykernel)",
   "language": "python",
   "name": "python3"
  },
  "language_info": {
   "codemirror_mode": {
    "name": "ipython",
    "version": 3
   },
   "file_extension": ".py",
   "mimetype": "text/x-python",
   "name": "python",
   "nbconvert_exporter": "python",
   "pygments_lexer": "ipython3",
   "version": "3.12.5"
  },
  "papermill": {
   "default_parameters": {},
   "duration": 14.158982,
   "end_time": "2025-05-15T16:15:44.755260",
   "environment_variables": {},
   "exception": null,
   "input_path": "02_xgboost_fitting_external_20genes.ipynb",
   "output_path": "results_20/executed_notebooks/xgboost_fitting_external_CT_Plasma_GS_7_seed3.ipynb",
   "parameters": {
    "CELL_TYPE": "Plasma",
    "SEED": 7,
    "TEST_SPLIT_IDX": 3
   },
   "start_time": "2025-05-15T16:15:30.596278",
   "version": "2.6.0"
  }
 },
 "nbformat": 4,
 "nbformat_minor": 5
}