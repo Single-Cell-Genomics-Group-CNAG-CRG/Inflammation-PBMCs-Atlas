{
 "cells": [
  {
   "cell_type": "code",
   "execution_count": 1,
   "id": "26d7a953",
   "metadata": {
    "editable": true,
    "execution": {
     "iopub.execute_input": "2025-06-13T13:08:33.097742Z",
     "iopub.status.busy": "2025-06-13T13:08:33.097515Z",
     "iopub.status.idle": "2025-06-13T13:08:33.100241Z",
     "shell.execute_reply": "2025-06-13T13:08:33.099945Z"
    },
    "papermill": {
     "duration": 0.010502,
     "end_time": "2025-06-13T13:08:33.101154",
     "exception": false,
     "start_time": "2025-06-13T13:08:33.090652",
     "status": "completed"
    },
    "slideshow": {
     "slide_type": ""
    },
    "tags": [
     "parameters"
    ]
   },
   "outputs": [],
   "source": [
    "CELL_TYPE = 'pDC'\n",
    "N_GENES: int = 20\n",
    "SEED = 'shap_studyID' #'disease_NOstudy' 'study_NOdisease' or 'int' or 'shap_studyID'\n",
    "TEST_SPLIT_IDX: int = 1 #[0,4]"
   ]
  },
  {
   "cell_type": "code",
   "execution_count": 2,
   "id": "8b7a050f",
   "metadata": {
    "execution": {
     "iopub.execute_input": "2025-06-13T13:08:33.111780Z",
     "iopub.status.busy": "2025-06-13T13:08:33.111582Z",
     "iopub.status.idle": "2025-06-13T13:08:33.113457Z",
     "shell.execute_reply": "2025-06-13T13:08:33.113172Z"
    },
    "papermill": {
     "duration": 0.00807,
     "end_time": "2025-06-13T13:08:33.114322",
     "exception": false,
     "start_time": "2025-06-13T13:08:33.106252",
     "status": "completed"
    },
    "tags": [
     "injected-parameters"
    ]
   },
   "outputs": [],
   "source": [
    "# Parameters\n",
    "CELL_TYPE = \"ILC\"\n",
    "SEED = \"shap_disease_NOstudy_samesize\"\n",
    "TEST_SPLIT_IDX = 1\n"
   ]
  },
  {
   "cell_type": "code",
   "execution_count": 3,
   "id": "263fe6e9",
   "metadata": {
    "execution": {
     "iopub.execute_input": "2025-06-13T13:08:33.124525Z",
     "iopub.status.busy": "2025-06-13T13:08:33.124237Z",
     "iopub.status.idle": "2025-06-13T13:08:33.126119Z",
     "shell.execute_reply": "2025-06-13T13:08:33.125826Z"
    },
    "papermill": {
     "duration": 0.007921,
     "end_time": "2025-06-13T13:08:33.126904",
     "exception": false,
     "start_time": "2025-06-13T13:08:33.118983",
     "status": "completed"
    },
    "tags": []
   },
   "outputs": [],
   "source": [
    "N_SPLITS: int = 5\n",
    "N_TRIALS: int = 50"
   ]
  },
  {
   "cell_type": "code",
   "execution_count": 4,
   "id": "8f874b5e",
   "metadata": {
    "execution": {
     "iopub.execute_input": "2025-06-13T13:08:33.137818Z",
     "iopub.status.busy": "2025-06-13T13:08:33.137660Z",
     "iopub.status.idle": "2025-06-13T13:08:34.905242Z",
     "shell.execute_reply": "2025-06-13T13:08:34.904716Z"
    },
    "papermill": {
     "duration": 1.77494,
     "end_time": "2025-06-13T13:08:34.906653",
     "exception": false,
     "start_time": "2025-06-13T13:08:33.131713",
     "status": "completed"
    },
    "tags": []
   },
   "outputs": [],
   "source": [
    "import os\n",
    "import sys\n",
    "from pyprojroot.here import here\n",
    "import pandas as pd\n",
    "import anndata as ad\n",
    "import numpy as np\n",
    "import math\n",
    "from sklearn.model_selection import StratifiedGroupKFold\n",
    "from sklearn.preprocessing import LabelEncoder\n",
    "from sklearn.metrics import f1_score\n",
    "import matplotlib.pyplot as plt\n",
    "import seaborn as sns\n",
    "from itertools import product\n",
    "from sklearn.metrics import balanced_accuracy_score, f1_score\n",
    "import optuna\n",
    "\n",
    "import joblib\n",
    "import pickle\n",
    "import datetime\n",
    "\n",
    "import collections\n",
    "\n",
    "import xgboost\n",
    "from sklearn.preprocessing import LabelEncoder\n",
    "\n",
    "import scipy.sparse as ssp\n",
    "import joblib\n",
    "\n",
    "from dotenv import load_dotenv"
   ]
  },
  {
   "cell_type": "code",
   "execution_count": 5,
   "id": "5a2b598a",
   "metadata": {
    "execution": {
     "iopub.execute_input": "2025-06-13T13:08:34.918152Z",
     "iopub.status.busy": "2025-06-13T13:08:34.917760Z",
     "iopub.status.idle": "2025-06-13T13:08:34.923856Z",
     "shell.execute_reply": "2025-06-13T13:08:34.923391Z"
    },
    "papermill": {
     "duration": 0.012592,
     "end_time": "2025-06-13T13:08:34.924667",
     "exception": false,
     "start_time": "2025-06-13T13:08:34.912075",
     "status": "completed"
    },
    "tags": []
   },
   "outputs": [
    {
     "data": {
      "text/plain": [
       "True"
      ]
     },
     "execution_count": 5,
     "metadata": {},
     "output_type": "execute_result"
    }
   ],
   "source": [
    "load_dotenv()"
   ]
  },
  {
   "cell_type": "markdown",
   "id": "0838a721",
   "metadata": {
    "papermill": {
     "duration": 0.005001,
     "end_time": "2025-06-13T13:08:34.934974",
     "exception": false,
     "start_time": "2025-06-13T13:08:34.929973",
     "status": "completed"
    },
    "tags": []
   },
   "source": [
    "# LOAD DATASET"
   ]
  },
  {
   "cell_type": "code",
   "execution_count": 6,
   "id": "9f30bcac",
   "metadata": {
    "execution": {
     "iopub.execute_input": "2025-06-13T13:08:34.945371Z",
     "iopub.status.busy": "2025-06-13T13:08:34.945108Z",
     "iopub.status.idle": "2025-06-13T13:08:35.192872Z",
     "shell.execute_reply": "2025-06-13T13:08:35.192495Z"
    },
    "papermill": {
     "duration": 0.254239,
     "end_time": "2025-06-13T13:08:35.194058",
     "exception": false,
     "start_time": "2025-06-13T13:08:34.939819",
     "status": "completed"
    },
    "tags": []
   },
   "outputs": [],
   "source": [
    "train_adata = ad.read_h5ad(\n",
    "    here(f'03_downstream_analysis/08_gene_importance/xgboost_external_validation/xgboost_TopN_genes/data_cellTypes/EXTERNAL_{CELL_TYPE}.filtered.log1p.h5ad')\n",
    ")"
   ]
  },
  {
   "cell_type": "code",
   "execution_count": 7,
   "id": "a85884ac",
   "metadata": {
    "execution": {
     "iopub.execute_input": "2025-06-13T13:08:35.205094Z",
     "iopub.status.busy": "2025-06-13T13:08:35.204849Z",
     "iopub.status.idle": "2025-06-13T13:08:35.222119Z",
     "shell.execute_reply": "2025-06-13T13:08:35.221783Z"
    },
    "papermill": {
     "duration": 0.023597,
     "end_time": "2025-06-13T13:08:35.222976",
     "exception": false,
     "start_time": "2025-06-13T13:08:35.199379",
     "status": "completed"
    },
    "tags": []
   },
   "outputs": [
    {
     "name": "stdout",
     "output_type": "stream",
     "text": [
      "['ENSG00000006125' 'ENSG00000007264' 'ENSG00000025708' 'ENSG00000030110'\n",
      " 'ENSG00000033800' 'ENSG00000036448' 'ENSG00000051108' 'ENSG00000065978'\n",
      " 'ENSG00000066136' 'ENSG00000067182' 'ENSG00000071073' 'ENSG00000072958'\n",
      " 'ENSG00000077380' 'ENSG00000099624' 'ENSG00000100100' 'ENSG00000100902'\n",
      " 'ENSG00000101474' 'ENSG00000104671' 'ENSG00000104763' 'ENSG00000104998'\n",
      " 'ENSG00000105373' 'ENSG00000107223' 'ENSG00000109321' 'ENSG00000111537'\n",
      " 'ENSG00000112149' 'ENSG00000113732' 'ENSG00000115415' 'ENSG00000115523'\n",
      " 'ENSG00000116815' 'ENSG00000119917' 'ENSG00000120742' 'ENSG00000120837'\n",
      " 'ENSG00000122359' 'ENSG00000123268' 'ENSG00000123416' 'ENSG00000125347'\n",
      " 'ENSG00000125384' 'ENSG00000125735' 'ENSG00000126264' 'ENSG00000127528'\n",
      " 'ENSG00000127540' 'ENSG00000130066' 'ENSG00000130755' 'ENSG00000131981'\n",
      " 'ENSG00000132912' 'ENSG00000135114' 'ENSG00000136003' 'ENSG00000137959'\n",
      " 'ENSG00000137965' 'ENSG00000138107' 'ENSG00000142227' 'ENSG00000142634'\n",
      " 'ENSG00000143543' 'ENSG00000143575' 'ENSG00000146278' 'ENSG00000146457'\n",
      " 'ENSG00000147168' 'ENSG00000152082' 'ENSG00000156587' 'ENSG00000162368'\n",
      " 'ENSG00000163191' 'ENSG00000163220' 'ENSG00000163659' 'ENSG00000163660'\n",
      " 'ENSG00000163931' 'ENSG00000164483' 'ENSG00000164543' 'ENSG00000164674'\n",
      " 'ENSG00000167552' 'ENSG00000167996' 'ENSG00000169564' 'ENSG00000170345'\n",
      " 'ENSG00000170989' 'ENSG00000172349' 'ENSG00000175354' 'ENSG00000177606'\n",
      " 'ENSG00000177663' 'ENSG00000179144' 'ENSG00000182287' 'ENSG00000183172'\n",
      " 'ENSG00000183696' 'ENSG00000184897' 'ENSG00000185201' 'ENSG00000185338'\n",
      " 'ENSG00000185650' 'ENSG00000185883' 'ENSG00000185885' 'ENSG00000186395'\n",
      " 'ENSG00000186891' 'ENSG00000187608' 'ENSG00000196126' 'ENSG00000197061'\n",
      " 'ENSG00000197540' 'ENSG00000204472' 'ENSG00000204642' 'ENSG00000205220'\n",
      " 'ENSG00000211895' 'ENSG00000231389' 'ENSG00000234745' 'ENSG00000240065'\n",
      " 'ENSG00000243749' 'ENSG00000264364']\n"
     ]
    }
   ],
   "source": [
    "if SEED != 'all':\n",
    "    gene_subset = np.load(here(f'03_downstream_analysis/08_gene_importance/xgboost_external_validation/shap_gene_selection/gene_subsets_{N_GENES}/{CELL_TYPE}_{SEED}.npy'), allow_pickle=True)\n",
    "    train_adata = train_adata[:,gene_subset]\n",
    "    print(gene_subset)\n",
    "elif SEED == 'all':\n",
    "    print('Using all genes')\n",
    "else:\n",
    "    raise ValueError()"
   ]
  },
  {
   "cell_type": "code",
   "execution_count": 8,
   "id": "e8191a2c",
   "metadata": {
    "execution": {
     "iopub.execute_input": "2025-06-13T13:08:35.233620Z",
     "iopub.status.busy": "2025-06-13T13:08:35.233431Z",
     "iopub.status.idle": "2025-06-13T13:08:35.236305Z",
     "shell.execute_reply": "2025-06-13T13:08:35.236004Z"
    },
    "papermill": {
     "duration": 0.009016,
     "end_time": "2025-06-13T13:08:35.237077",
     "exception": false,
     "start_time": "2025-06-13T13:08:35.228061",
     "status": "completed"
    },
    "tags": []
   },
   "outputs": [
    {
     "data": {
      "text/plain": [
       "(36633, 102)"
      ]
     },
     "execution_count": 8,
     "metadata": {},
     "output_type": "execute_result"
    }
   ],
   "source": [
    "train_adata.shape"
   ]
  },
  {
   "cell_type": "code",
   "execution_count": 9,
   "id": "dcc6a976",
   "metadata": {
    "execution": {
     "iopub.execute_input": "2025-06-13T13:08:35.248347Z",
     "iopub.status.busy": "2025-06-13T13:08:35.248139Z",
     "iopub.status.idle": "2025-06-13T13:08:35.251475Z",
     "shell.execute_reply": "2025-06-13T13:08:35.251180Z"
    },
    "papermill": {
     "duration": 0.009691,
     "end_time": "2025-06-13T13:08:35.252301",
     "exception": false,
     "start_time": "2025-06-13T13:08:35.242610",
     "status": "completed"
    },
    "tags": []
   },
   "outputs": [
    {
     "data": {
      "text/plain": [
       "['RA', 'COVID', 'healthy', 'HIV', 'cirrhosis', 'CD', 'SLE', 'sepsis']\n",
       "Categories (8, object): ['CD', 'COVID', 'HIV', 'RA', 'SLE', 'cirrhosis', 'healthy', 'sepsis']"
      ]
     },
     "execution_count": 9,
     "metadata": {},
     "output_type": "execute_result"
    }
   ],
   "source": [
    "train_adata.obs.disease.unique()"
   ]
  },
  {
   "cell_type": "code",
   "execution_count": 10,
   "id": "7ac4324a",
   "metadata": {
    "execution": {
     "iopub.execute_input": "2025-06-13T13:08:35.263198Z",
     "iopub.status.busy": "2025-06-13T13:08:35.262918Z",
     "iopub.status.idle": "2025-06-13T13:08:35.266122Z",
     "shell.execute_reply": "2025-06-13T13:08:35.265835Z"
    },
    "papermill": {
     "duration": 0.009723,
     "end_time": "2025-06-13T13:08:35.266962",
     "exception": false,
     "start_time": "2025-06-13T13:08:35.257239",
     "status": "completed"
    },
    "tags": []
   },
   "outputs": [
    {
     "data": {
      "text/plain": [
       "['SCGT00val_I036024_T0', 'SCGT00val_I036016_T0', 'SCGT00val_I036023_T0', 'SCGT00val_I036021_T0', 'SCGT00val_I036028_T0', ..., '10XGenomics_10XHC2_T0', '10XGenomics_10XHC3_T0', '10XGenomics_10XHC5_T0', '10XGenomics_10XHC7_T0', '10XGenomics_10XHC8_T0']\n",
       "Length: 86\n",
       "Categories (86, object): ['10XGenomics_10XHC1_T0', '10XGenomics_10XHC2_T0', '10XGenomics_10XHC3_T0', '10XGenomics_10XHC4_T0', ..., 'Savage2021_BRISL6_T0', 'Savage2021_BRISL7_T0', 'Savage2021_PIDA_T0', 'Savage2021_PIDB_T0']"
      ]
     },
     "execution_count": 10,
     "metadata": {},
     "output_type": "execute_result"
    }
   ],
   "source": [
    "train_adata.obs.sampleID.unique()"
   ]
  },
  {
   "cell_type": "code",
   "execution_count": 11,
   "id": "eae935e8",
   "metadata": {
    "execution": {
     "iopub.execute_input": "2025-06-13T13:08:35.277734Z",
     "iopub.status.busy": "2025-06-13T13:08:35.277576Z",
     "iopub.status.idle": "2025-06-13T13:08:35.381214Z",
     "shell.execute_reply": "2025-06-13T13:08:35.380828Z"
    },
    "papermill": {
     "duration": 0.110055,
     "end_time": "2025-06-13T13:08:35.382129",
     "exception": false,
     "start_time": "2025-06-13T13:08:35.272074",
     "status": "completed"
    },
    "tags": []
   },
   "outputs": [],
   "source": [
    "all_idxs = np.arange(train_adata.obs.shape[0])\n",
    "left_out_splits = [s[1] for s in StratifiedGroupKFold(n_splits=N_SPLITS).split(all_idxs, train_adata.obs.disease, train_adata.obs.sampleID)]"
   ]
  },
  {
   "cell_type": "code",
   "execution_count": 12,
   "id": "6871c9f2",
   "metadata": {
    "execution": {
     "iopub.execute_input": "2025-06-13T13:08:35.393688Z",
     "iopub.status.busy": "2025-06-13T13:08:35.393451Z",
     "iopub.status.idle": "2025-06-13T13:08:35.396562Z",
     "shell.execute_reply": "2025-06-13T13:08:35.396267Z"
    },
    "papermill": {
     "duration": 0.009679,
     "end_time": "2025-06-13T13:08:35.397344",
     "exception": false,
     "start_time": "2025-06-13T13:08:35.387665",
     "status": "completed"
    },
    "tags": []
   },
   "outputs": [
    {
     "data": {
      "text/plain": [
       "([0, 3, 4], 2, 1)"
      ]
     },
     "execution_count": 12,
     "metadata": {},
     "output_type": "execute_result"
    }
   ],
   "source": [
    "TRAIN_SPLIT_IDXS = [0,1,2,3,4]\n",
    "VAL_SPLIT_IDX = (TEST_SPLIT_IDX + 1) % 5\n",
    "TRAIN_SPLIT_IDXS.remove(TEST_SPLIT_IDX)\n",
    "TRAIN_SPLIT_IDXS.remove(VAL_SPLIT_IDX)\n",
    "TRAIN_SPLIT_IDXS, VAL_SPLIT_IDX, TEST_SPLIT_IDX"
   ]
  },
  {
   "cell_type": "code",
   "execution_count": 13,
   "id": "89886ea0",
   "metadata": {
    "execution": {
     "iopub.execute_input": "2025-06-13T13:08:35.409890Z",
     "iopub.status.busy": "2025-06-13T13:08:35.409522Z",
     "iopub.status.idle": "2025-06-13T13:08:35.411839Z",
     "shell.execute_reply": "2025-06-13T13:08:35.411556Z"
    },
    "papermill": {
     "duration": 0.009313,
     "end_time": "2025-06-13T13:08:35.412635",
     "exception": false,
     "start_time": "2025-06-13T13:08:35.403322",
     "status": "completed"
    },
    "tags": []
   },
   "outputs": [],
   "source": [
    "train_idxs = np.concatenate([left_out_splits[idx] for idx in TRAIN_SPLIT_IDXS])\n",
    "val_idxs = left_out_splits[VAL_SPLIT_IDX]\n",
    "test_idxs = left_out_splits[TEST_SPLIT_IDX]"
   ]
  },
  {
   "cell_type": "markdown",
   "id": "90ee61ba",
   "metadata": {
    "papermill": {
     "duration": 0.005125,
     "end_time": "2025-06-13T13:08:35.422997",
     "exception": false,
     "start_time": "2025-06-13T13:08:35.417872",
     "status": "completed"
    },
    "tags": []
   },
   "source": [
    "### SUBSET DATASET INTO TRAIN/TEST/VAL SPLITS"
   ]
  },
  {
   "cell_type": "code",
   "execution_count": 14,
   "id": "27ffef49",
   "metadata": {
    "execution": {
     "iopub.execute_input": "2025-06-13T13:08:35.433841Z",
     "iopub.status.busy": "2025-06-13T13:08:35.433649Z",
     "iopub.status.idle": "2025-06-13T13:08:35.519407Z",
     "shell.execute_reply": "2025-06-13T13:08:35.519068Z"
    },
    "papermill": {
     "duration": 0.092031,
     "end_time": "2025-06-13T13:08:35.520249",
     "exception": false,
     "start_time": "2025-06-13T13:08:35.428218",
     "status": "completed"
    },
    "tags": []
   },
   "outputs": [
    {
     "data": {
      "text/plain": [
       "((22023, 102), (7160, 102), (7450, 102))"
      ]
     },
     "execution_count": 14,
     "metadata": {},
     "output_type": "execute_result"
    }
   ],
   "source": [
    "X_train = train_adata.X[train_idxs]\n",
    "X_test = train_adata.X[test_idxs]\n",
    "X_val = train_adata.X[val_idxs]\n",
    "X_train.shape, X_test.shape, X_val.shape"
   ]
  },
  {
   "cell_type": "code",
   "execution_count": 15,
   "id": "7213bae2",
   "metadata": {
    "execution": {
     "iopub.execute_input": "2025-06-13T13:08:35.532302Z",
     "iopub.status.busy": "2025-06-13T13:08:35.532028Z",
     "iopub.status.idle": "2025-06-13T13:08:35.538802Z",
     "shell.execute_reply": "2025-06-13T13:08:35.538503Z"
    },
    "papermill": {
     "duration": 0.013539,
     "end_time": "2025-06-13T13:08:35.539611",
     "exception": false,
     "start_time": "2025-06-13T13:08:35.526072",
     "status": "completed"
    },
    "tags": []
   },
   "outputs": [
    {
     "data": {
      "text/plain": [
       "((22023,), (7160,), (7450,))"
      ]
     },
     "execution_count": 15,
     "metadata": {},
     "output_type": "execute_result"
    }
   ],
   "source": [
    "y_train = train_adata.obs.iloc[train_idxs].disease.values.astype(str)\n",
    "y_test = train_adata.obs.iloc[test_idxs].disease.values.astype(str)\n",
    "y_val = train_adata.obs.iloc[val_idxs].disease.values.astype(str)\n",
    "y_train.shape, y_test.shape, y_val.shape"
   ]
  },
  {
   "cell_type": "code",
   "execution_count": 16,
   "id": "d4f09517",
   "metadata": {
    "execution": {
     "iopub.execute_input": "2025-06-13T13:08:35.551198Z",
     "iopub.status.busy": "2025-06-13T13:08:35.550946Z",
     "iopub.status.idle": "2025-06-13T13:08:35.560318Z",
     "shell.execute_reply": "2025-06-13T13:08:35.560021Z"
    },
    "papermill": {
     "duration": 0.016093,
     "end_time": "2025-06-13T13:08:35.561097",
     "exception": false,
     "start_time": "2025-06-13T13:08:35.545004",
     "status": "completed"
    },
    "tags": []
   },
   "outputs": [],
   "source": [
    "lenc = LabelEncoder()\n",
    "y_train_enc = lenc.fit_transform(y_train)\n",
    "y_val_enc = lenc.transform(y_val)\n",
    "y_test_enc = lenc.transform(y_test)"
   ]
  },
  {
   "cell_type": "markdown",
   "id": "673c85da",
   "metadata": {
    "papermill": {
     "duration": 0.005289,
     "end_time": "2025-06-13T13:08:35.571842",
     "exception": false,
     "start_time": "2025-06-13T13:08:35.566553",
     "status": "completed"
    },
    "tags": []
   },
   "source": [
    "### GENERATE F1 "
   ]
  },
  {
   "cell_type": "code",
   "execution_count": 17,
   "id": "a2f492f4",
   "metadata": {
    "execution": {
     "iopub.execute_input": "2025-06-13T13:08:35.584895Z",
     "iopub.status.busy": "2025-06-13T13:08:35.584637Z",
     "iopub.status.idle": "2025-06-13T13:08:35.586720Z",
     "shell.execute_reply": "2025-06-13T13:08:35.586429Z"
    },
    "papermill": {
     "duration": 0.010301,
     "end_time": "2025-06-13T13:08:35.587514",
     "exception": false,
     "start_time": "2025-06-13T13:08:35.577213",
     "status": "completed"
    },
    "tags": []
   },
   "outputs": [],
   "source": [
    "def custom_f1_score(y_true, y_pred):\n",
    "    return -f1_score(y_true, y_pred.argmax(1), average='weighted')"
   ]
  },
  {
   "cell_type": "code",
   "execution_count": 18,
   "id": "09361dcf",
   "metadata": {
    "execution": {
     "iopub.execute_input": "2025-06-13T13:08:35.599329Z",
     "iopub.status.busy": "2025-06-13T13:08:35.598994Z",
     "iopub.status.idle": "2025-06-13T13:08:35.602525Z",
     "shell.execute_reply": "2025-06-13T13:08:35.602230Z"
    },
    "papermill": {
     "duration": 0.010381,
     "end_time": "2025-06-13T13:08:35.603267",
     "exception": false,
     "start_time": "2025-06-13T13:08:35.592886",
     "status": "completed"
    },
    "tags": []
   },
   "outputs": [],
   "source": [
    "eval_metric=custom_f1_score\n",
    "eval_metric_name='custom_f1_score'\n",
    "\n",
    "def objective(trial):\n",
    "    params = {\n",
    "        'n_estimators': 1500,\n",
    "        'max_depth': trial.suggest_int('max_depth', 3, 20),\n",
    "        'min_child_weight': trial.suggest_int('min_child_weight', 1, 250),\n",
    "        'subsample': trial.suggest_float('subsample', 0.1, 1.0),\n",
    "        'colsample_bynode': trial.suggest_float('colsample_bynode', 0.1, 1.0),\n",
    "        'learning_rate': trial.suggest_float('learning_rate', 1e-3, 5e-1, log=True),\n",
    "    }\n",
    "    pruning_callback = optuna.integration.XGBoostPruningCallback(trial, f'validation_0-{eval_metric_name}')\n",
    "    es_callback = xgboost.callback.EarlyStopping(20, min_delta=0.001)\n",
    "    xgb = xgboost.XGBClassifier(\n",
    "        eval_metric=eval_metric,\n",
    "        callbacks=[pruning_callback, es_callback],\n",
    "        n_jobs=5,\n",
    "        **params\n",
    "    )\n",
    "    xgb.fit(\n",
    "        X_train, \n",
    "        y_train_enc, \n",
    "        verbose=0,\n",
    "        eval_set=[(X_val, y_val_enc)],\n",
    "    )\n",
    "    trial.set_user_attr('best_iteration', xgb.best_iteration)\n",
    "\n",
    "    return xgb.best_score"
   ]
  },
  {
   "cell_type": "code",
   "execution_count": 19,
   "id": "4e560003",
   "metadata": {
    "execution": {
     "iopub.execute_input": "2025-06-13T13:08:35.614511Z",
     "iopub.status.busy": "2025-06-13T13:08:35.614132Z",
     "iopub.status.idle": "2025-06-13T13:10:04.118445Z",
     "shell.execute_reply": "2025-06-13T13:10:04.118060Z"
    },
    "papermill": {
     "duration": 88.511044,
     "end_time": "2025-06-13T13:10:04.119599",
     "exception": false,
     "start_time": "2025-06-13T13:08:35.608555",
     "status": "completed"
    },
    "scrolled": true,
    "tags": []
   },
   "outputs": [
    {
     "name": "stderr",
     "output_type": "stream",
     "text": [
      "[I 2025-06-13 15:08:35,615] A new study created in memory with name: no-name-0f3c733b-55e6-4fc4-8c19-195a9047e95f\n"
     ]
    },
    {
     "name": "stderr",
     "output_type": "stream",
     "text": [
      "[I 2025-06-13 15:08:37,206] Trial 0 finished with value: -0.564464 and parameters: {'max_depth': 9, 'min_child_weight': 238, 'subsample': 0.7587945476302645, 'colsample_bynode': 0.6387926357773329, 'learning_rate': 0.0026368755339723046}. Best is trial 0 with value: -0.564464.\n"
     ]
    },
    {
     "name": "stderr",
     "output_type": "stream",
     "text": [
      "[I 2025-06-13 15:08:44,684] Trial 1 finished with value: -0.698805 and parameters: {'max_depth': 5, 'min_child_weight': 15, 'subsample': 0.8795585311974417, 'colsample_bynode': 0.6410035105688879, 'learning_rate': 0.08148293210105287}. Best is trial 1 with value: -0.698805.\n"
     ]
    },
    {
     "name": "stderr",
     "output_type": "stream",
     "text": [
      "[I 2025-06-13 15:08:45,821] Trial 2 finished with value: -0.554035 and parameters: {'max_depth': 3, 'min_child_weight': 243, 'subsample': 0.8491983767203796, 'colsample_bynode': 0.29110519961044856, 'learning_rate': 0.003095566460242371}. Best is trial 1 with value: -0.698805.\n"
     ]
    },
    {
     "name": "stderr",
     "output_type": "stream",
     "text": [
      "[I 2025-06-13 15:08:54,174] Trial 3 finished with value: -0.666772 and parameters: {'max_depth': 6, 'min_child_weight': 77, 'subsample': 0.5722807884690141, 'colsample_bynode': 0.48875051677790415, 'learning_rate': 0.006109683510122491}. Best is trial 1 with value: -0.698805.\n"
     ]
    },
    {
     "name": "stderr",
     "output_type": "stream",
     "text": [
      "[I 2025-06-13 15:08:57,821] Trial 4 finished with value: -0.656216 and parameters: {'max_depth': 14, 'min_child_weight': 35, 'subsample': 0.3629301836816964, 'colsample_bynode': 0.4297256589643226, 'learning_rate': 0.01701841881702917}. Best is trial 1 with value: -0.698805.\n"
     ]
    },
    {
     "name": "stderr",
     "output_type": "stream",
     "text": [
      "[I 2025-06-13 15:08:59,361] Trial 5 pruned. Trial was pruned at iteration 16.\n"
     ]
    },
    {
     "name": "stderr",
     "output_type": "stream",
     "text": [
      "[I 2025-06-13 15:08:59,571] Trial 6 pruned. Trial was pruned at iteration 0.\n"
     ]
    },
    {
     "name": "stderr",
     "output_type": "stream",
     "text": [
      "[I 2025-06-13 15:08:59,756] Trial 7 pruned. Trial was pruned at iteration 0.\n"
     ]
    },
    {
     "name": "stderr",
     "output_type": "stream",
     "text": [
      "[I 2025-06-13 15:08:59,937] Trial 8 pruned. Trial was pruned at iteration 0.\n"
     ]
    },
    {
     "name": "stderr",
     "output_type": "stream",
     "text": [
      "[I 2025-06-13 15:09:00,147] Trial 9 pruned. Trial was pruned at iteration 0.\n"
     ]
    },
    {
     "name": "stderr",
     "output_type": "stream",
     "text": [
      "[I 2025-06-13 15:09:00,477] Trial 10 pruned. Trial was pruned at iteration 0.\n"
     ]
    },
    {
     "name": "stderr",
     "output_type": "stream",
     "text": [
      "[I 2025-06-13 15:09:00,702] Trial 11 pruned. Trial was pruned at iteration 0.\n"
     ]
    },
    {
     "name": "stderr",
     "output_type": "stream",
     "text": [
      "[I 2025-06-13 15:09:00,904] Trial 12 pruned. Trial was pruned at iteration 0.\n"
     ]
    },
    {
     "name": "stderr",
     "output_type": "stream",
     "text": [
      "[I 2025-06-13 15:09:04,054] Trial 13 pruned. Trial was pruned at iteration 48.\n"
     ]
    },
    {
     "name": "stderr",
     "output_type": "stream",
     "text": [
      "[I 2025-06-13 15:09:04,337] Trial 14 pruned. Trial was pruned at iteration 1.\n"
     ]
    },
    {
     "name": "stderr",
     "output_type": "stream",
     "text": [
      "[I 2025-06-13 15:09:04,546] Trial 15 pruned. Trial was pruned at iteration 0.\n"
     ]
    },
    {
     "name": "stderr",
     "output_type": "stream",
     "text": [
      "[I 2025-06-13 15:09:11,069] Trial 16 pruned. Trial was pruned at iteration 48.\n"
     ]
    },
    {
     "name": "stderr",
     "output_type": "stream",
     "text": [
      "[I 2025-06-13 15:09:11,360] Trial 17 pruned. Trial was pruned at iteration 0.\n"
     ]
    },
    {
     "name": "stderr",
     "output_type": "stream",
     "text": [
      "[I 2025-06-13 15:09:11,561] Trial 18 pruned. Trial was pruned at iteration 0.\n"
     ]
    },
    {
     "name": "stderr",
     "output_type": "stream",
     "text": [
      "[I 2025-06-13 15:09:11,754] Trial 19 pruned. Trial was pruned at iteration 0.\n"
     ]
    },
    {
     "name": "stderr",
     "output_type": "stream",
     "text": [
      "[I 2025-06-13 15:09:12,009] Trial 20 pruned. Trial was pruned at iteration 0.\n"
     ]
    },
    {
     "name": "stderr",
     "output_type": "stream",
     "text": [
      "[I 2025-06-13 15:09:14,112] Trial 21 finished with value: -0.655314 and parameters: {'max_depth': 13, 'min_child_weight': 31, 'subsample': 0.28756353014696884, 'colsample_bynode': 0.395186789321616, 'learning_rate': 0.024702779236158566}. Best is trial 1 with value: -0.698805.\n"
     ]
    },
    {
     "name": "stderr",
     "output_type": "stream",
     "text": [
      "[I 2025-06-13 15:09:14,644] Trial 22 pruned. Trial was pruned at iteration 6.\n"
     ]
    },
    {
     "name": "stderr",
     "output_type": "stream",
     "text": [
      "[I 2025-06-13 15:09:14,853] Trial 23 pruned. Trial was pruned at iteration 0.\n"
     ]
    },
    {
     "name": "stderr",
     "output_type": "stream",
     "text": [
      "[I 2025-06-13 15:09:15,164] Trial 24 pruned. Trial was pruned at iteration 0.\n"
     ]
    },
    {
     "name": "stderr",
     "output_type": "stream",
     "text": [
      "[I 2025-06-13 15:09:15,400] Trial 25 pruned. Trial was pruned at iteration 0.\n"
     ]
    },
    {
     "name": "stderr",
     "output_type": "stream",
     "text": [
      "[I 2025-06-13 15:09:22,094] Trial 26 finished with value: -0.699324 and parameters: {'max_depth': 5, 'min_child_weight': 40, 'subsample': 0.40091506621328166, 'colsample_bynode': 0.5153436037781634, 'learning_rate': 0.09739025579379348}. Best is trial 26 with value: -0.699324.\n"
     ]
    },
    {
     "name": "stderr",
     "output_type": "stream",
     "text": [
      "[I 2025-06-13 15:09:26,028] Trial 27 pruned. Trial was pruned at iteration 89.\n"
     ]
    },
    {
     "name": "stderr",
     "output_type": "stream",
     "text": [
      "[I 2025-06-13 15:09:26,230] Trial 28 pruned. Trial was pruned at iteration 0.\n"
     ]
    },
    {
     "name": "stderr",
     "output_type": "stream",
     "text": [
      "[I 2025-06-13 15:09:26,419] Trial 29 pruned. Trial was pruned at iteration 0.\n"
     ]
    },
    {
     "name": "stderr",
     "output_type": "stream",
     "text": [
      "[I 2025-06-13 15:09:26,618] Trial 30 pruned. Trial was pruned at iteration 0.\n"
     ]
    },
    {
     "name": "stderr",
     "output_type": "stream",
     "text": [
      "[I 2025-06-13 15:09:26,821] Trial 31 pruned. Trial was pruned at iteration 0.\n"
     ]
    },
    {
     "name": "stderr",
     "output_type": "stream",
     "text": [
      "[I 2025-06-13 15:09:27,009] Trial 32 pruned. Trial was pruned at iteration 0.\n"
     ]
    },
    {
     "name": "stderr",
     "output_type": "stream",
     "text": [
      "[I 2025-06-13 15:09:27,228] Trial 33 pruned. Trial was pruned at iteration 0.\n"
     ]
    },
    {
     "name": "stderr",
     "output_type": "stream",
     "text": [
      "[I 2025-06-13 15:09:27,424] Trial 34 pruned. Trial was pruned at iteration 0.\n"
     ]
    },
    {
     "name": "stderr",
     "output_type": "stream",
     "text": [
      "[I 2025-06-13 15:09:29,938] Trial 35 pruned. Trial was pruned at iteration 30.\n"
     ]
    },
    {
     "name": "stderr",
     "output_type": "stream",
     "text": [
      "[I 2025-06-13 15:09:30,137] Trial 36 pruned. Trial was pruned at iteration 0.\n"
     ]
    },
    {
     "name": "stderr",
     "output_type": "stream",
     "text": [
      "[I 2025-06-13 15:09:30,333] Trial 37 pruned. Trial was pruned at iteration 0.\n"
     ]
    },
    {
     "name": "stderr",
     "output_type": "stream",
     "text": [
      "[I 2025-06-13 15:09:30,526] Trial 38 pruned. Trial was pruned at iteration 0.\n"
     ]
    },
    {
     "name": "stderr",
     "output_type": "stream",
     "text": [
      "[I 2025-06-13 15:09:30,725] Trial 39 pruned. Trial was pruned at iteration 0.\n"
     ]
    },
    {
     "name": "stderr",
     "output_type": "stream",
     "text": [
      "[I 2025-06-13 15:09:30,934] Trial 40 pruned. Trial was pruned at iteration 0.\n"
     ]
    },
    {
     "name": "stderr",
     "output_type": "stream",
     "text": [
      "[I 2025-06-13 15:09:34,067] Trial 41 finished with value: -0.673061 and parameters: {'max_depth': 13, 'min_child_weight': 29, 'subsample': 0.3015231674008402, 'colsample_bynode': 0.4004920803156256, 'learning_rate': 0.024806737663069758}. Best is trial 26 with value: -0.699324.\n"
     ]
    },
    {
     "name": "stderr",
     "output_type": "stream",
     "text": [
      "[I 2025-06-13 15:09:34,290] Trial 42 pruned. Trial was pruned at iteration 0.\n"
     ]
    },
    {
     "name": "stderr",
     "output_type": "stream",
     "text": [
      "[I 2025-06-13 15:09:36,669] Trial 43 finished with value: -0.674156 and parameters: {'max_depth': 13, 'min_child_weight': 49, 'subsample': 0.3271458317933986, 'colsample_bynode': 0.5496703593235457, 'learning_rate': 0.06504592136410584}. Best is trial 26 with value: -0.699324.\n"
     ]
    },
    {
     "name": "stderr",
     "output_type": "stream",
     "text": [
      "[I 2025-06-13 15:09:36,887] Trial 44 pruned. Trial was pruned at iteration 0.\n"
     ]
    },
    {
     "name": "stderr",
     "output_type": "stream",
     "text": [
      "[I 2025-06-13 15:09:37,094] Trial 45 pruned. Trial was pruned at iteration 0.\n"
     ]
    },
    {
     "name": "stderr",
     "output_type": "stream",
     "text": [
      "[I 2025-06-13 15:09:45,147] Trial 46 pruned. Trial was pruned at iteration 81.\n"
     ]
    },
    {
     "name": "stderr",
     "output_type": "stream",
     "text": [
      "[I 2025-06-13 15:10:03,395] Trial 47 finished with value: -0.700211 and parameters: {'max_depth': 15, 'min_child_weight': 8, 'subsample': 0.3350649513309595, 'colsample_bynode': 0.6419919013944073, 'learning_rate': 0.057970610428485045}. Best is trial 47 with value: -0.700211.\n"
     ]
    },
    {
     "name": "stderr",
     "output_type": "stream",
     "text": [
      "[I 2025-06-13 15:10:03,744] Trial 48 pruned. Trial was pruned at iteration 0.\n"
     ]
    },
    {
     "name": "stderr",
     "output_type": "stream",
     "text": [
      "[I 2025-06-13 15:10:04,037] Trial 49 pruned. Trial was pruned at iteration 0.\n"
     ]
    }
   ],
   "source": [
    "sampler = optuna.samplers.TPESampler(seed=42)\n",
    "study = optuna.create_study(direction='minimize', sampler=sampler)\n",
    "study.optimize(objective, n_trials=N_TRIALS, gc_after_trial=True)"
   ]
  },
  {
   "cell_type": "code",
   "execution_count": 20,
   "id": "f9dacf19",
   "metadata": {
    "execution": {
     "iopub.execute_input": "2025-06-13T13:10:04.138095Z",
     "iopub.status.busy": "2025-06-13T13:10:04.137842Z",
     "iopub.status.idle": "2025-06-13T13:10:04.160347Z",
     "shell.execute_reply": "2025-06-13T13:10:04.160046Z"
    },
    "papermill": {
     "duration": 0.032045,
     "end_time": "2025-06-13T13:10:04.161235",
     "exception": false,
     "start_time": "2025-06-13T13:10:04.129190",
     "status": "completed"
    },
    "tags": []
   },
   "outputs": [
    {
     "data": {
      "text/plain": [
       "['/scratch_isilon/groups/singlecell/shared/projects/Inflammation-PBMCs-Atlas/03_downstream_analysis/08_gene_importance/xgboost_external_validation/xgboost_TopN_genes/results_20/study/ILC_shap_disease_NOstudy_samesize_1_xgboost.pkl']"
      ]
     },
     "execution_count": 20,
     "metadata": {},
     "output_type": "execute_result"
    }
   ],
   "source": [
    "out_dir = here(f'03_downstream_analysis/08_gene_importance/xgboost_external_validation/xgboost_TopN_genes/results_{N_GENES}/study')\n",
    "\n",
    "if not os.path.exists(out_dir):\n",
    "    os.makedirs(out_dir)\n",
    "    \n",
    "joblib.dump(study,os.path.join(out_dir, f'{CELL_TYPE}_{SEED}_{TEST_SPLIT_IDX}_xgboost.pkl'))"
   ]
  },
  {
   "cell_type": "code",
   "execution_count": 21,
   "id": "339b091c",
   "metadata": {
    "execution": {
     "iopub.execute_input": "2025-06-13T13:10:04.178810Z",
     "iopub.status.busy": "2025-06-13T13:10:04.178563Z",
     "iopub.status.idle": "2025-06-13T13:10:19.356090Z",
     "shell.execute_reply": "2025-06-13T13:10:19.355741Z"
    },
    "papermill": {
     "duration": 15.186964,
     "end_time": "2025-06-13T13:10:19.357098",
     "exception": false,
     "start_time": "2025-06-13T13:10:04.170134",
     "status": "completed"
    },
    "tags": []
   },
   "outputs": [
    {
     "data": {
      "text/html": [
       "<style>#sk-container-id-1 {\n",
       "  /* Definition of color scheme common for light and dark mode */\n",
       "  --sklearn-color-text: black;\n",
       "  --sklearn-color-line: gray;\n",
       "  /* Definition of color scheme for unfitted estimators */\n",
       "  --sklearn-color-unfitted-level-0: #fff5e6;\n",
       "  --sklearn-color-unfitted-level-1: #f6e4d2;\n",
       "  --sklearn-color-unfitted-level-2: #ffe0b3;\n",
       "  --sklearn-color-unfitted-level-3: chocolate;\n",
       "  /* Definition of color scheme for fitted estimators */\n",
       "  --sklearn-color-fitted-level-0: #f0f8ff;\n",
       "  --sklearn-color-fitted-level-1: #d4ebff;\n",
       "  --sklearn-color-fitted-level-2: #b3dbfd;\n",
       "  --sklearn-color-fitted-level-3: cornflowerblue;\n",
       "\n",
       "  /* Specific color for light theme */\n",
       "  --sklearn-color-text-on-default-background: var(--sg-text-color, var(--theme-code-foreground, var(--jp-content-font-color1, black)));\n",
       "  --sklearn-color-background: var(--sg-background-color, var(--theme-background, var(--jp-layout-color0, white)));\n",
       "  --sklearn-color-border-box: var(--sg-text-color, var(--theme-code-foreground, var(--jp-content-font-color1, black)));\n",
       "  --sklearn-color-icon: #696969;\n",
       "\n",
       "  @media (prefers-color-scheme: dark) {\n",
       "    /* Redefinition of color scheme for dark theme */\n",
       "    --sklearn-color-text-on-default-background: var(--sg-text-color, var(--theme-code-foreground, var(--jp-content-font-color1, white)));\n",
       "    --sklearn-color-background: var(--sg-background-color, var(--theme-background, var(--jp-layout-color0, #111)));\n",
       "    --sklearn-color-border-box: var(--sg-text-color, var(--theme-code-foreground, var(--jp-content-font-color1, white)));\n",
       "    --sklearn-color-icon: #878787;\n",
       "  }\n",
       "}\n",
       "\n",
       "#sk-container-id-1 {\n",
       "  color: var(--sklearn-color-text);\n",
       "}\n",
       "\n",
       "#sk-container-id-1 pre {\n",
       "  padding: 0;\n",
       "}\n",
       "\n",
       "#sk-container-id-1 input.sk-hidden--visually {\n",
       "  border: 0;\n",
       "  clip: rect(1px 1px 1px 1px);\n",
       "  clip: rect(1px, 1px, 1px, 1px);\n",
       "  height: 1px;\n",
       "  margin: -1px;\n",
       "  overflow: hidden;\n",
       "  padding: 0;\n",
       "  position: absolute;\n",
       "  width: 1px;\n",
       "}\n",
       "\n",
       "#sk-container-id-1 div.sk-dashed-wrapped {\n",
       "  border: 1px dashed var(--sklearn-color-line);\n",
       "  margin: 0 0.4em 0.5em 0.4em;\n",
       "  box-sizing: border-box;\n",
       "  padding-bottom: 0.4em;\n",
       "  background-color: var(--sklearn-color-background);\n",
       "}\n",
       "\n",
       "#sk-container-id-1 div.sk-container {\n",
       "  /* jupyter's `normalize.less` sets `[hidden] { display: none; }`\n",
       "     but bootstrap.min.css set `[hidden] { display: none !important; }`\n",
       "     so we also need the `!important` here to be able to override the\n",
       "     default hidden behavior on the sphinx rendered scikit-learn.org.\n",
       "     See: https://github.com/scikit-learn/scikit-learn/issues/21755 */\n",
       "  display: inline-block !important;\n",
       "  position: relative;\n",
       "}\n",
       "\n",
       "#sk-container-id-1 div.sk-text-repr-fallback {\n",
       "  display: none;\n",
       "}\n",
       "\n",
       "div.sk-parallel-item,\n",
       "div.sk-serial,\n",
       "div.sk-item {\n",
       "  /* draw centered vertical line to link estimators */\n",
       "  background-image: linear-gradient(var(--sklearn-color-text-on-default-background), var(--sklearn-color-text-on-default-background));\n",
       "  background-size: 2px 100%;\n",
       "  background-repeat: no-repeat;\n",
       "  background-position: center center;\n",
       "}\n",
       "\n",
       "/* Parallel-specific style estimator block */\n",
       "\n",
       "#sk-container-id-1 div.sk-parallel-item::after {\n",
       "  content: \"\";\n",
       "  width: 100%;\n",
       "  border-bottom: 2px solid var(--sklearn-color-text-on-default-background);\n",
       "  flex-grow: 1;\n",
       "}\n",
       "\n",
       "#sk-container-id-1 div.sk-parallel {\n",
       "  display: flex;\n",
       "  align-items: stretch;\n",
       "  justify-content: center;\n",
       "  background-color: var(--sklearn-color-background);\n",
       "  position: relative;\n",
       "}\n",
       "\n",
       "#sk-container-id-1 div.sk-parallel-item {\n",
       "  display: flex;\n",
       "  flex-direction: column;\n",
       "}\n",
       "\n",
       "#sk-container-id-1 div.sk-parallel-item:first-child::after {\n",
       "  align-self: flex-end;\n",
       "  width: 50%;\n",
       "}\n",
       "\n",
       "#sk-container-id-1 div.sk-parallel-item:last-child::after {\n",
       "  align-self: flex-start;\n",
       "  width: 50%;\n",
       "}\n",
       "\n",
       "#sk-container-id-1 div.sk-parallel-item:only-child::after {\n",
       "  width: 0;\n",
       "}\n",
       "\n",
       "/* Serial-specific style estimator block */\n",
       "\n",
       "#sk-container-id-1 div.sk-serial {\n",
       "  display: flex;\n",
       "  flex-direction: column;\n",
       "  align-items: center;\n",
       "  background-color: var(--sklearn-color-background);\n",
       "  padding-right: 1em;\n",
       "  padding-left: 1em;\n",
       "}\n",
       "\n",
       "\n",
       "/* Toggleable style: style used for estimator/Pipeline/ColumnTransformer box that is\n",
       "clickable and can be expanded/collapsed.\n",
       "- Pipeline and ColumnTransformer use this feature and define the default style\n",
       "- Estimators will overwrite some part of the style using the `sk-estimator` class\n",
       "*/\n",
       "\n",
       "/* Pipeline and ColumnTransformer style (default) */\n",
       "\n",
       "#sk-container-id-1 div.sk-toggleable {\n",
       "  /* Default theme specific background. It is overwritten whether we have a\n",
       "  specific estimator or a Pipeline/ColumnTransformer */\n",
       "  background-color: var(--sklearn-color-background);\n",
       "}\n",
       "\n",
       "/* Toggleable label */\n",
       "#sk-container-id-1 label.sk-toggleable__label {\n",
       "  cursor: pointer;\n",
       "  display: block;\n",
       "  width: 100%;\n",
       "  margin-bottom: 0;\n",
       "  padding: 0.5em;\n",
       "  box-sizing: border-box;\n",
       "  text-align: center;\n",
       "}\n",
       "\n",
       "#sk-container-id-1 label.sk-toggleable__label-arrow:before {\n",
       "  /* Arrow on the left of the label */\n",
       "  content: \"▸\";\n",
       "  float: left;\n",
       "  margin-right: 0.25em;\n",
       "  color: var(--sklearn-color-icon);\n",
       "}\n",
       "\n",
       "#sk-container-id-1 label.sk-toggleable__label-arrow:hover:before {\n",
       "  color: var(--sklearn-color-text);\n",
       "}\n",
       "\n",
       "/* Toggleable content - dropdown */\n",
       "\n",
       "#sk-container-id-1 div.sk-toggleable__content {\n",
       "  max-height: 0;\n",
       "  max-width: 0;\n",
       "  overflow: hidden;\n",
       "  text-align: left;\n",
       "  /* unfitted */\n",
       "  background-color: var(--sklearn-color-unfitted-level-0);\n",
       "}\n",
       "\n",
       "#sk-container-id-1 div.sk-toggleable__content.fitted {\n",
       "  /* fitted */\n",
       "  background-color: var(--sklearn-color-fitted-level-0);\n",
       "}\n",
       "\n",
       "#sk-container-id-1 div.sk-toggleable__content pre {\n",
       "  margin: 0.2em;\n",
       "  border-radius: 0.25em;\n",
       "  color: var(--sklearn-color-text);\n",
       "  /* unfitted */\n",
       "  background-color: var(--sklearn-color-unfitted-level-0);\n",
       "}\n",
       "\n",
       "#sk-container-id-1 div.sk-toggleable__content.fitted pre {\n",
       "  /* unfitted */\n",
       "  background-color: var(--sklearn-color-fitted-level-0);\n",
       "}\n",
       "\n",
       "#sk-container-id-1 input.sk-toggleable__control:checked~div.sk-toggleable__content {\n",
       "  /* Expand drop-down */\n",
       "  max-height: 200px;\n",
       "  max-width: 100%;\n",
       "  overflow: auto;\n",
       "}\n",
       "\n",
       "#sk-container-id-1 input.sk-toggleable__control:checked~label.sk-toggleable__label-arrow:before {\n",
       "  content: \"▾\";\n",
       "}\n",
       "\n",
       "/* Pipeline/ColumnTransformer-specific style */\n",
       "\n",
       "#sk-container-id-1 div.sk-label input.sk-toggleable__control:checked~label.sk-toggleable__label {\n",
       "  color: var(--sklearn-color-text);\n",
       "  background-color: var(--sklearn-color-unfitted-level-2);\n",
       "}\n",
       "\n",
       "#sk-container-id-1 div.sk-label.fitted input.sk-toggleable__control:checked~label.sk-toggleable__label {\n",
       "  background-color: var(--sklearn-color-fitted-level-2);\n",
       "}\n",
       "\n",
       "/* Estimator-specific style */\n",
       "\n",
       "/* Colorize estimator box */\n",
       "#sk-container-id-1 div.sk-estimator input.sk-toggleable__control:checked~label.sk-toggleable__label {\n",
       "  /* unfitted */\n",
       "  background-color: var(--sklearn-color-unfitted-level-2);\n",
       "}\n",
       "\n",
       "#sk-container-id-1 div.sk-estimator.fitted input.sk-toggleable__control:checked~label.sk-toggleable__label {\n",
       "  /* fitted */\n",
       "  background-color: var(--sklearn-color-fitted-level-2);\n",
       "}\n",
       "\n",
       "#sk-container-id-1 div.sk-label label.sk-toggleable__label,\n",
       "#sk-container-id-1 div.sk-label label {\n",
       "  /* The background is the default theme color */\n",
       "  color: var(--sklearn-color-text-on-default-background);\n",
       "}\n",
       "\n",
       "/* On hover, darken the color of the background */\n",
       "#sk-container-id-1 div.sk-label:hover label.sk-toggleable__label {\n",
       "  color: var(--sklearn-color-text);\n",
       "  background-color: var(--sklearn-color-unfitted-level-2);\n",
       "}\n",
       "\n",
       "/* Label box, darken color on hover, fitted */\n",
       "#sk-container-id-1 div.sk-label.fitted:hover label.sk-toggleable__label.fitted {\n",
       "  color: var(--sklearn-color-text);\n",
       "  background-color: var(--sklearn-color-fitted-level-2);\n",
       "}\n",
       "\n",
       "/* Estimator label */\n",
       "\n",
       "#sk-container-id-1 div.sk-label label {\n",
       "  font-family: monospace;\n",
       "  font-weight: bold;\n",
       "  display: inline-block;\n",
       "  line-height: 1.2em;\n",
       "}\n",
       "\n",
       "#sk-container-id-1 div.sk-label-container {\n",
       "  text-align: center;\n",
       "}\n",
       "\n",
       "/* Estimator-specific */\n",
       "#sk-container-id-1 div.sk-estimator {\n",
       "  font-family: monospace;\n",
       "  border: 1px dotted var(--sklearn-color-border-box);\n",
       "  border-radius: 0.25em;\n",
       "  box-sizing: border-box;\n",
       "  margin-bottom: 0.5em;\n",
       "  /* unfitted */\n",
       "  background-color: var(--sklearn-color-unfitted-level-0);\n",
       "}\n",
       "\n",
       "#sk-container-id-1 div.sk-estimator.fitted {\n",
       "  /* fitted */\n",
       "  background-color: var(--sklearn-color-fitted-level-0);\n",
       "}\n",
       "\n",
       "/* on hover */\n",
       "#sk-container-id-1 div.sk-estimator:hover {\n",
       "  /* unfitted */\n",
       "  background-color: var(--sklearn-color-unfitted-level-2);\n",
       "}\n",
       "\n",
       "#sk-container-id-1 div.sk-estimator.fitted:hover {\n",
       "  /* fitted */\n",
       "  background-color: var(--sklearn-color-fitted-level-2);\n",
       "}\n",
       "\n",
       "/* Specification for estimator info (e.g. \"i\" and \"?\") */\n",
       "\n",
       "/* Common style for \"i\" and \"?\" */\n",
       "\n",
       ".sk-estimator-doc-link,\n",
       "a:link.sk-estimator-doc-link,\n",
       "a:visited.sk-estimator-doc-link {\n",
       "  float: right;\n",
       "  font-size: smaller;\n",
       "  line-height: 1em;\n",
       "  font-family: monospace;\n",
       "  background-color: var(--sklearn-color-background);\n",
       "  border-radius: 1em;\n",
       "  height: 1em;\n",
       "  width: 1em;\n",
       "  text-decoration: none !important;\n",
       "  margin-left: 1ex;\n",
       "  /* unfitted */\n",
       "  border: var(--sklearn-color-unfitted-level-1) 1pt solid;\n",
       "  color: var(--sklearn-color-unfitted-level-1);\n",
       "}\n",
       "\n",
       ".sk-estimator-doc-link.fitted,\n",
       "a:link.sk-estimator-doc-link.fitted,\n",
       "a:visited.sk-estimator-doc-link.fitted {\n",
       "  /* fitted */\n",
       "  border: var(--sklearn-color-fitted-level-1) 1pt solid;\n",
       "  color: var(--sklearn-color-fitted-level-1);\n",
       "}\n",
       "\n",
       "/* On hover */\n",
       "div.sk-estimator:hover .sk-estimator-doc-link:hover,\n",
       ".sk-estimator-doc-link:hover,\n",
       "div.sk-label-container:hover .sk-estimator-doc-link:hover,\n",
       ".sk-estimator-doc-link:hover {\n",
       "  /* unfitted */\n",
       "  background-color: var(--sklearn-color-unfitted-level-3);\n",
       "  color: var(--sklearn-color-background);\n",
       "  text-decoration: none;\n",
       "}\n",
       "\n",
       "div.sk-estimator.fitted:hover .sk-estimator-doc-link.fitted:hover,\n",
       ".sk-estimator-doc-link.fitted:hover,\n",
       "div.sk-label-container:hover .sk-estimator-doc-link.fitted:hover,\n",
       ".sk-estimator-doc-link.fitted:hover {\n",
       "  /* fitted */\n",
       "  background-color: var(--sklearn-color-fitted-level-3);\n",
       "  color: var(--sklearn-color-background);\n",
       "  text-decoration: none;\n",
       "}\n",
       "\n",
       "/* Span, style for the box shown on hovering the info icon */\n",
       ".sk-estimator-doc-link span {\n",
       "  display: none;\n",
       "  z-index: 9999;\n",
       "  position: relative;\n",
       "  font-weight: normal;\n",
       "  right: .2ex;\n",
       "  padding: .5ex;\n",
       "  margin: .5ex;\n",
       "  width: min-content;\n",
       "  min-width: 20ex;\n",
       "  max-width: 50ex;\n",
       "  color: var(--sklearn-color-text);\n",
       "  box-shadow: 2pt 2pt 4pt #999;\n",
       "  /* unfitted */\n",
       "  background: var(--sklearn-color-unfitted-level-0);\n",
       "  border: .5pt solid var(--sklearn-color-unfitted-level-3);\n",
       "}\n",
       "\n",
       ".sk-estimator-doc-link.fitted span {\n",
       "  /* fitted */\n",
       "  background: var(--sklearn-color-fitted-level-0);\n",
       "  border: var(--sklearn-color-fitted-level-3);\n",
       "}\n",
       "\n",
       ".sk-estimator-doc-link:hover span {\n",
       "  display: block;\n",
       "}\n",
       "\n",
       "/* \"?\"-specific style due to the `<a>` HTML tag */\n",
       "\n",
       "#sk-container-id-1 a.estimator_doc_link {\n",
       "  float: right;\n",
       "  font-size: 1rem;\n",
       "  line-height: 1em;\n",
       "  font-family: monospace;\n",
       "  background-color: var(--sklearn-color-background);\n",
       "  border-radius: 1rem;\n",
       "  height: 1rem;\n",
       "  width: 1rem;\n",
       "  text-decoration: none;\n",
       "  /* unfitted */\n",
       "  color: var(--sklearn-color-unfitted-level-1);\n",
       "  border: var(--sklearn-color-unfitted-level-1) 1pt solid;\n",
       "}\n",
       "\n",
       "#sk-container-id-1 a.estimator_doc_link.fitted {\n",
       "  /* fitted */\n",
       "  border: var(--sklearn-color-fitted-level-1) 1pt solid;\n",
       "  color: var(--sklearn-color-fitted-level-1);\n",
       "}\n",
       "\n",
       "/* On hover */\n",
       "#sk-container-id-1 a.estimator_doc_link:hover {\n",
       "  /* unfitted */\n",
       "  background-color: var(--sklearn-color-unfitted-level-3);\n",
       "  color: var(--sklearn-color-background);\n",
       "  text-decoration: none;\n",
       "}\n",
       "\n",
       "#sk-container-id-1 a.estimator_doc_link.fitted:hover {\n",
       "  /* fitted */\n",
       "  background-color: var(--sklearn-color-fitted-level-3);\n",
       "}\n",
       "</style><div id=\"sk-container-id-1\" class=\"sk-top-container\"><div class=\"sk-text-repr-fallback\"><pre>XGBClassifier(base_score=None, booster=None, callbacks=None,\n",
       "              colsample_bylevel=None, colsample_bynode=0.6419919013944073,\n",
       "              colsample_bytree=None, device=None, early_stopping_rounds=None,\n",
       "              enable_categorical=False,\n",
       "              eval_metric=&lt;function custom_f1_score at 0x7f9bf932fc40&gt;,\n",
       "              feature_types=None, gamma=None, grow_policy=None,\n",
       "              importance_type=None, interaction_constraints=None,\n",
       "              learning_rate=0.057970610428485045, max_bin=None,\n",
       "              max_cat_threshold=None, max_cat_to_onehot=None,\n",
       "              max_delta_step=None, max_depth=15, max_leaves=None,\n",
       "              min_child_weight=8, missing=nan, monotone_constraints=None,\n",
       "              multi_strategy=None, n_estimators=126, n_jobs=None,\n",
       "              num_parallel_tree=None, objective=&#x27;multi:softprob&#x27;, ...)</pre><b>In a Jupyter environment, please rerun this cell to show the HTML representation or trust the notebook. <br />On GitHub, the HTML representation is unable to render, please try loading this page with nbviewer.org.</b></div><div class=\"sk-container\" hidden><div class=\"sk-item\"><div class=\"sk-estimator fitted sk-toggleable\"><input class=\"sk-toggleable__control sk-hidden--visually\" id=\"sk-estimator-id-1\" type=\"checkbox\" checked><label for=\"sk-estimator-id-1\" class=\"sk-toggleable__label fitted sk-toggleable__label-arrow fitted\">&nbsp;XGBClassifier<span class=\"sk-estimator-doc-link fitted\">i<span>Fitted</span></span></label><div class=\"sk-toggleable__content fitted\"><pre>XGBClassifier(base_score=None, booster=None, callbacks=None,\n",
       "              colsample_bylevel=None, colsample_bynode=0.6419919013944073,\n",
       "              colsample_bytree=None, device=None, early_stopping_rounds=None,\n",
       "              enable_categorical=False,\n",
       "              eval_metric=&lt;function custom_f1_score at 0x7f9bf932fc40&gt;,\n",
       "              feature_types=None, gamma=None, grow_policy=None,\n",
       "              importance_type=None, interaction_constraints=None,\n",
       "              learning_rate=0.057970610428485045, max_bin=None,\n",
       "              max_cat_threshold=None, max_cat_to_onehot=None,\n",
       "              max_delta_step=None, max_depth=15, max_leaves=None,\n",
       "              min_child_weight=8, missing=nan, monotone_constraints=None,\n",
       "              multi_strategy=None, n_estimators=126, n_jobs=None,\n",
       "              num_parallel_tree=None, objective=&#x27;multi:softprob&#x27;, ...)</pre></div> </div></div></div></div>"
      ],
      "text/plain": [
       "XGBClassifier(base_score=None, booster=None, callbacks=None,\n",
       "              colsample_bylevel=None, colsample_bynode=0.6419919013944073,\n",
       "              colsample_bytree=None, device=None, early_stopping_rounds=None,\n",
       "              enable_categorical=False,\n",
       "              eval_metric=<function custom_f1_score at 0x7f9bf932fc40>,\n",
       "              feature_types=None, gamma=None, grow_policy=None,\n",
       "              importance_type=None, interaction_constraints=None,\n",
       "              learning_rate=0.057970610428485045, max_bin=None,\n",
       "              max_cat_threshold=None, max_cat_to_onehot=None,\n",
       "              max_delta_step=None, max_depth=15, max_leaves=None,\n",
       "              min_child_weight=8, missing=nan, monotone_constraints=None,\n",
       "              multi_strategy=None, n_estimators=126, n_jobs=None,\n",
       "              num_parallel_tree=None, objective='multi:softprob', ...)"
      ]
     },
     "execution_count": 21,
     "metadata": {},
     "output_type": "execute_result"
    }
   ],
   "source": [
    "n_estimators = int(study.best_trial.user_attrs['best_iteration']*1.2)\n",
    "xgb = xgboost.XGBClassifier(\n",
    "        eval_metric=eval_metric,\n",
    "        n_estimators=n_estimators,\n",
    "        **study.best_trial.params\n",
    "    )\n",
    "xgb.fit(\n",
    "    ssp.vstack((X_train, X_val)), \n",
    "    np.concatenate((y_train_enc, y_val_enc)),\n",
    "    verbose=1,\n",
    ")"
   ]
  },
  {
   "cell_type": "code",
   "execution_count": 22,
   "id": "f4d2a760",
   "metadata": {
    "execution": {
     "iopub.execute_input": "2025-06-13T13:10:19.377298Z",
     "iopub.status.busy": "2025-06-13T13:10:19.377088Z",
     "iopub.status.idle": "2025-06-13T13:10:19.437049Z",
     "shell.execute_reply": "2025-06-13T13:10:19.436722Z"
    },
    "papermill": {
     "duration": 0.070057,
     "end_time": "2025-06-13T13:10:19.437848",
     "exception": false,
     "start_time": "2025-06-13T13:10:19.367791",
     "status": "completed"
    },
    "tags": []
   },
   "outputs": [
    {
     "data": {
      "text/plain": [
       "['/scratch_isilon/groups/singlecell/shared/projects/Inflammation-PBMCs-Atlas/03_downstream_analysis/08_gene_importance/xgboost_external_validation/xgboost_TopN_genes/results_20/best_model/ILC_shap_disease_NOstudy_samesize_1_xgb.json']"
      ]
     },
     "execution_count": 22,
     "metadata": {},
     "output_type": "execute_result"
    }
   ],
   "source": [
    "out_dir = here(f'03_downstream_analysis/08_gene_importance/xgboost_external_validation/xgboost_TopN_genes/results_{N_GENES}/best_model')\n",
    "\n",
    "if not os.path.exists(out_dir):\n",
    "    os.makedirs(out_dir)\n",
    "    \n",
    "joblib.dump(xgb, os.path.join(out_dir, f'{CELL_TYPE}_{SEED}_{TEST_SPLIT_IDX}_xgb.json'))"
   ]
  },
  {
   "cell_type": "code",
   "execution_count": 23,
   "id": "23811f78",
   "metadata": {
    "execution": {
     "iopub.execute_input": "2025-06-13T13:10:19.455787Z",
     "iopub.status.busy": "2025-06-13T13:10:19.455613Z",
     "iopub.status.idle": "2025-06-13T13:10:19.686250Z",
     "shell.execute_reply": "2025-06-13T13:10:19.685909Z"
    },
    "papermill": {
     "duration": 0.240766,
     "end_time": "2025-06-13T13:10:19.687237",
     "exception": false,
     "start_time": "2025-06-13T13:10:19.446471",
     "status": "completed"
    },
    "tags": []
   },
   "outputs": [],
   "source": [
    "df_pred_test = pd.DataFrame(dict(\n",
    "    cell_id=train_adata.obs.iloc[test_idxs].index.values,\n",
    "    y_true=y_test, \n",
    "    y_true_code=y_test_enc, \n",
    "    y_pred=xgb.predict(X_test))).set_index('cell_id')"
   ]
  },
  {
   "cell_type": "code",
   "execution_count": 24,
   "id": "bba2f9cc",
   "metadata": {
    "execution": {
     "iopub.execute_input": "2025-06-13T13:10:19.705207Z",
     "iopub.status.busy": "2025-06-13T13:10:19.705018Z",
     "iopub.status.idle": "2025-06-13T13:10:19.751320Z",
     "shell.execute_reply": "2025-06-13T13:10:19.750958Z"
    },
    "papermill": {
     "duration": 0.055994,
     "end_time": "2025-06-13T13:10:19.752136",
     "exception": false,
     "start_time": "2025-06-13T13:10:19.696142",
     "status": "completed"
    },
    "tags": []
   },
   "outputs": [],
   "source": [
    "out_dir = here(f'03_downstream_analysis/08_gene_importance/xgboost_external_validation/xgboost_TopN_genes/results_{N_GENES}/predictions')\n",
    "\n",
    "if not os.path.exists(out_dir):\n",
    "    os.makedirs(out_dir)\n",
    "    \n",
    "df_pred_test.to_csv(os.path.join(out_dir, f'{CELL_TYPE}_{SEED}_{TEST_SPLIT_IDX}_pred_test.zip'))"
   ]
  },
  {
   "cell_type": "code",
   "execution_count": 25,
   "id": "4a831fac",
   "metadata": {
    "execution": {
     "iopub.execute_input": "2025-06-13T13:10:19.771027Z",
     "iopub.status.busy": "2025-06-13T13:10:19.770484Z",
     "iopub.status.idle": "2025-06-13T13:10:19.778769Z",
     "shell.execute_reply": "2025-06-13T13:10:19.778406Z"
    },
    "papermill": {
     "duration": 0.018086,
     "end_time": "2025-06-13T13:10:19.779523",
     "exception": false,
     "start_time": "2025-06-13T13:10:19.761437",
     "status": "completed"
    },
    "tags": []
   },
   "outputs": [],
   "source": [
    "metrics_dict = dict(\n",
    "    BAS=balanced_accuracy_score(y_true=df_pred_test.y_true_code, y_pred=df_pred_test.y_pred), WF1=f1_score(y_true=df_pred_test.y_true_code, y_pred=df_pred_test.y_pred,average='weighted'))"
   ]
  },
  {
   "cell_type": "code",
   "execution_count": 26,
   "id": "ad5c63bf",
   "metadata": {
    "execution": {
     "iopub.execute_input": "2025-06-13T13:10:19.797514Z",
     "iopub.status.busy": "2025-06-13T13:10:19.797248Z",
     "iopub.status.idle": "2025-06-13T13:10:19.799871Z",
     "shell.execute_reply": "2025-06-13T13:10:19.799587Z"
    },
    "papermill": {
     "duration": 0.01228,
     "end_time": "2025-06-13T13:10:19.800656",
     "exception": false,
     "start_time": "2025-06-13T13:10:19.788376",
     "status": "completed"
    },
    "tags": []
   },
   "outputs": [
    {
     "data": {
      "text/plain": [
       "{'BAS': 0.507814462863188, 'WF1': 0.7237225978360058}"
      ]
     },
     "execution_count": 26,
     "metadata": {},
     "output_type": "execute_result"
    }
   ],
   "source": [
    "metrics_dict"
   ]
  },
  {
   "cell_type": "code",
   "execution_count": 27,
   "id": "1153b9f6",
   "metadata": {
    "execution": {
     "iopub.execute_input": "2025-06-13T13:10:19.818748Z",
     "iopub.status.busy": "2025-06-13T13:10:19.818585Z",
     "iopub.status.idle": "2025-06-13T13:10:19.826604Z",
     "shell.execute_reply": "2025-06-13T13:10:19.826306Z"
    },
    "papermill": {
     "duration": 0.017989,
     "end_time": "2025-06-13T13:10:19.827375",
     "exception": false,
     "start_time": "2025-06-13T13:10:19.809386",
     "status": "completed"
    },
    "tags": []
   },
   "outputs": [
    {
     "data": {
      "text/html": [
       "<div>\n",
       "<style scoped>\n",
       "    .dataframe tbody tr th:only-of-type {\n",
       "        vertical-align: middle;\n",
       "    }\n",
       "\n",
       "    .dataframe tbody tr th {\n",
       "        vertical-align: top;\n",
       "    }\n",
       "\n",
       "    .dataframe thead th {\n",
       "        text-align: right;\n",
       "    }\n",
       "</style>\n",
       "<table border=\"1\" class=\"dataframe\">\n",
       "  <thead>\n",
       "    <tr style=\"text-align: right;\">\n",
       "      <th></th>\n",
       "      <th>BAS</th>\n",
       "      <th>WF1</th>\n",
       "      <th>split_idx</th>\n",
       "      <th>gene_set_seed</th>\n",
       "      <th>cell_type</th>\n",
       "    </tr>\n",
       "  </thead>\n",
       "  <tbody>\n",
       "    <tr>\n",
       "      <th>0</th>\n",
       "      <td>0.507814</td>\n",
       "      <td>0.723723</td>\n",
       "      <td>1</td>\n",
       "      <td>shap_disease_NOstudy_samesize</td>\n",
       "      <td>ILC</td>\n",
       "    </tr>\n",
       "  </tbody>\n",
       "</table>\n",
       "</div>"
      ],
      "text/plain": [
       "        BAS       WF1  split_idx                  gene_set_seed cell_type\n",
       "0  0.507814  0.723723          1  shap_disease_NOstudy_samesize       ILC"
      ]
     },
     "execution_count": 27,
     "metadata": {},
     "output_type": "execute_result"
    }
   ],
   "source": [
    "metrics_df = pd.DataFrame.from_dict([metrics_dict]).assign(split_idx=TEST_SPLIT_IDX, gene_set_seed=SEED, cell_type=CELL_TYPE)\n",
    "metrics_df"
   ]
  },
  {
   "cell_type": "code",
   "execution_count": 28,
   "id": "848ea675",
   "metadata": {
    "execution": {
     "iopub.execute_input": "2025-06-13T13:10:19.845454Z",
     "iopub.status.busy": "2025-06-13T13:10:19.845167Z",
     "iopub.status.idle": "2025-06-13T13:10:19.852633Z",
     "shell.execute_reply": "2025-06-13T13:10:19.852303Z"
    },
    "papermill": {
     "duration": 0.017198,
     "end_time": "2025-06-13T13:10:19.853408",
     "exception": false,
     "start_time": "2025-06-13T13:10:19.836210",
     "status": "completed"
    },
    "tags": []
   },
   "outputs": [],
   "source": [
    "out_dir = here(f'03_downstream_analysis/08_gene_importance/xgboost_external_validation/xgboost_TopN_genes/results_{N_GENES}/metrics')\n",
    "\n",
    "if not os.path.exists(out_dir):\n",
    "    os.makedirs(out_dir)\n",
    "    \n",
    "metrics_df.to_csv(os.path.join(out_dir, f'{CELL_TYPE}_{SEED}_{TEST_SPLIT_IDX}_metrics.zip'))"
   ]
  }
 ],
 "metadata": {
  "kernelspec": {
   "display_name": "Python 3 (ipykernel)",
   "language": "python",
   "name": "python3"
  },
  "language_info": {
   "codemirror_mode": {
    "name": "ipython",
    "version": 3
   },
   "file_extension": ".py",
   "mimetype": "text/x-python",
   "name": "python",
   "nbconvert_exporter": "python",
   "pygments_lexer": "ipython3",
   "version": "3.12.5"
  },
  "papermill": {
   "default_parameters": {},
   "duration": 108.500605,
   "end_time": "2025-06-13T13:10:20.377696",
   "environment_variables": {},
   "exception": null,
   "input_path": "02_xgboost_fitting_external_20genes.ipynb",
   "output_path": "results_20/executed_notebooks/xgboost_fitting_external_CT_ILC_GS_shap_disease_NOstudy_samesize_seed1.ipynb",
   "parameters": {
    "CELL_TYPE": "ILC",
    "SEED": "shap_disease_NOstudy_samesize",
    "TEST_SPLIT_IDX": 1
   },
   "start_time": "2025-06-13T13:08:31.877091",
   "version": "2.6.0"
  }
 },
 "nbformat": 4,
 "nbformat_minor": 5
}