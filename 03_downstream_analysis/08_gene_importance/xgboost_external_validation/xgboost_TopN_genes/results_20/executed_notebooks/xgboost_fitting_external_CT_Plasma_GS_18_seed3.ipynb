{
 "cells": [
  {
   "cell_type": "code",
   "execution_count": 1,
   "id": "d03f4fd3",
   "metadata": {
    "editable": true,
    "execution": {
     "iopub.execute_input": "2025-05-15T16:15:49.250340Z",
     "iopub.status.busy": "2025-05-15T16:15:49.249835Z",
     "iopub.status.idle": "2025-05-15T16:15:49.253552Z",
     "shell.execute_reply": "2025-05-15T16:15:49.253189Z"
    },
    "papermill": {
     "duration": 0.036659,
     "end_time": "2025-05-15T16:15:49.254609",
     "exception": false,
     "start_time": "2025-05-15T16:15:49.217950",
     "status": "completed"
    },
    "slideshow": {
     "slide_type": ""
    },
    "tags": [
     "parameters"
    ]
   },
   "outputs": [],
   "source": [
    "CELL_TYPE = 'pDC'\n",
    "N_GENES: int = 20\n",
    "SEED = 'shap_studyID' #'disease_NOstudy' 'study_NOdisease' or 'int' or 'shap_studyID'\n",
    "TEST_SPLIT_IDX: int = 1 #[0,4]"
   ]
  },
  {
   "cell_type": "code",
   "execution_count": 2,
   "id": "f95dc828",
   "metadata": {
    "execution": {
     "iopub.execute_input": "2025-05-15T16:15:49.267863Z",
     "iopub.status.busy": "2025-05-15T16:15:49.267707Z",
     "iopub.status.idle": "2025-05-15T16:15:49.270455Z",
     "shell.execute_reply": "2025-05-15T16:15:49.270113Z"
    },
    "papermill": {
     "duration": 0.010151,
     "end_time": "2025-05-15T16:15:49.271370",
     "exception": false,
     "start_time": "2025-05-15T16:15:49.261219",
     "status": "completed"
    },
    "tags": [
     "injected-parameters"
    ]
   },
   "outputs": [],
   "source": [
    "# Parameters\n",
    "CELL_TYPE = \"Plasma\"\n",
    "SEED = 18\n",
    "TEST_SPLIT_IDX = 3\n"
   ]
  },
  {
   "cell_type": "code",
   "execution_count": 3,
   "id": "598c177f",
   "metadata": {
    "execution": {
     "iopub.execute_input": "2025-05-15T16:15:49.283575Z",
     "iopub.status.busy": "2025-05-15T16:15:49.283403Z",
     "iopub.status.idle": "2025-05-15T16:15:49.285804Z",
     "shell.execute_reply": "2025-05-15T16:15:49.285470Z"
    },
    "papermill": {
     "duration": 0.009584,
     "end_time": "2025-05-15T16:15:49.286692",
     "exception": false,
     "start_time": "2025-05-15T16:15:49.277108",
     "status": "completed"
    },
    "tags": []
   },
   "outputs": [],
   "source": [
    "N_SPLITS: int = 5\n",
    "N_TRIALS: int = 50"
   ]
  },
  {
   "cell_type": "code",
   "execution_count": 4,
   "id": "1e3d382b",
   "metadata": {
    "execution": {
     "iopub.execute_input": "2025-05-15T16:15:49.299997Z",
     "iopub.status.busy": "2025-05-15T16:15:49.299852Z",
     "iopub.status.idle": "2025-05-15T16:15:50.924908Z",
     "shell.execute_reply": "2025-05-15T16:15:50.924290Z"
    },
    "papermill": {
     "duration": 1.633946,
     "end_time": "2025-05-15T16:15:50.926346",
     "exception": false,
     "start_time": "2025-05-15T16:15:49.292400",
     "status": "completed"
    },
    "tags": []
   },
   "outputs": [],
   "source": [
    "import os\n",
    "import sys\n",
    "from pyprojroot.here import here\n",
    "import pandas as pd\n",
    "import anndata as ad\n",
    "import numpy as np\n",
    "import math\n",
    "from sklearn.model_selection import StratifiedGroupKFold\n",
    "from sklearn.preprocessing import LabelEncoder\n",
    "from sklearn.metrics import f1_score\n",
    "import matplotlib.pyplot as plt\n",
    "import seaborn as sns\n",
    "from itertools import product\n",
    "from sklearn.metrics import balanced_accuracy_score, f1_score\n",
    "import optuna\n",
    "\n",
    "import joblib\n",
    "import pickle\n",
    "import datetime\n",
    "\n",
    "import collections\n",
    "\n",
    "import xgboost\n",
    "from sklearn.preprocessing import LabelEncoder\n",
    "\n",
    "import scipy.sparse as ssp\n",
    "import joblib\n",
    "\n",
    "from dotenv import load_dotenv"
   ]
  },
  {
   "cell_type": "code",
   "execution_count": 5,
   "id": "717bca21",
   "metadata": {
    "execution": {
     "iopub.execute_input": "2025-05-15T16:15:50.950344Z",
     "iopub.status.busy": "2025-05-15T16:15:50.949643Z",
     "iopub.status.idle": "2025-05-15T16:15:50.956904Z",
     "shell.execute_reply": "2025-05-15T16:15:50.956527Z"
    },
    "papermill": {
     "duration": 0.015272,
     "end_time": "2025-05-15T16:15:50.957938",
     "exception": false,
     "start_time": "2025-05-15T16:15:50.942666",
     "status": "completed"
    },
    "tags": []
   },
   "outputs": [
    {
     "data": {
      "text/plain": [
       "True"
      ]
     },
     "execution_count": 5,
     "metadata": {},
     "output_type": "execute_result"
    }
   ],
   "source": [
    "load_dotenv()"
   ]
  },
  {
   "cell_type": "markdown",
   "id": "0f2d7374",
   "metadata": {
    "papermill": {
     "duration": 0.020726,
     "end_time": "2025-05-15T16:15:50.985333",
     "exception": false,
     "start_time": "2025-05-15T16:15:50.964607",
     "status": "completed"
    },
    "tags": []
   },
   "source": [
    "# LOAD DATASET"
   ]
  },
  {
   "cell_type": "code",
   "execution_count": 6,
   "id": "a692e6bb",
   "metadata": {
    "execution": {
     "iopub.execute_input": "2025-05-15T16:15:51.044200Z",
     "iopub.status.busy": "2025-05-15T16:15:51.043721Z",
     "iopub.status.idle": "2025-05-15T16:15:51.088092Z",
     "shell.execute_reply": "2025-05-15T16:15:51.087611Z"
    },
    "papermill": {
     "duration": 0.053376,
     "end_time": "2025-05-15T16:15:51.089416",
     "exception": false,
     "start_time": "2025-05-15T16:15:51.036040",
     "status": "completed"
    },
    "tags": []
   },
   "outputs": [],
   "source": [
    "train_adata = ad.read_h5ad(\n",
    "    here(f'03_downstream_analysis/08_gene_importance/xgboost_external_validation/xgboost_TopN_genes/data_cellTypes/EXTERNAL_{CELL_TYPE}.filtered.log1p.h5ad')\n",
    ")"
   ]
  },
  {
   "cell_type": "code",
   "execution_count": 7,
   "id": "1b6a06df",
   "metadata": {
    "execution": {
     "iopub.execute_input": "2025-05-15T16:15:51.104429Z",
     "iopub.status.busy": "2025-05-15T16:15:51.104170Z",
     "iopub.status.idle": "2025-05-15T16:15:51.116538Z",
     "shell.execute_reply": "2025-05-15T16:15:51.116117Z"
    },
    "papermill": {
     "duration": 0.02084,
     "end_time": "2025-05-15T16:15:51.117575",
     "exception": false,
     "start_time": "2025-05-15T16:15:51.096735",
     "status": "completed"
    },
    "tags": []
   },
   "outputs": [
    {
     "name": "stdout",
     "output_type": "stream",
     "text": [
      "['ENSG00000132965' 'ENSG00000114423' 'ENSG00000143119' 'ENSG00000175567'\n",
      " 'ENSG00000134107' 'ENSG00000042753' 'ENSG00000171608' 'ENSG00000066336'\n",
      " 'ENSG00000133639' 'ENSG00000140264' 'ENSG00000104689' 'ENSG00000203747'\n",
      " 'ENSG00000258315' 'ENSG00000105835' 'ENSG00000004468' 'ENSG00000265972'\n",
      " 'ENSG00000140105' 'ENSG00000130724' 'ENSG00000160888' 'ENSG00000184752'\n",
      " 'ENSG00000163513' 'ENSG00000090554' 'ENSG00000100368' 'ENSG00000126353'\n",
      " 'ENSG00000198846' 'ENSG00000104894' 'ENSG00000135114' 'ENSG00000081059'\n",
      " 'ENSG00000100906' 'ENSG00000008517' 'ENSG00000156587' 'ENSG00000115232'\n",
      " 'ENSG00000090863' 'ENSG00000137193' 'ENSG00000090266' 'ENSG00000168894'\n",
      " 'ENSG00000197102' 'ENSG00000164308' 'ENSG00000172543' 'ENSG00000099204'\n",
      " 'ENSG00000198355' 'ENSG00000110848' 'ENSG00000115875' 'ENSG00000118971'\n",
      " 'ENSG00000101096' 'ENSG00000175104' 'ENSG00000011590' 'ENSG00000142669'\n",
      " 'ENSG00000164307' 'ENSG00000147443' 'ENSG00000155380' 'ENSG00000125534'\n",
      " 'ENSG00000168610' 'ENSG00000145850' 'ENSG00000162772' 'ENSG00000120742'\n",
      " 'ENSG00000090339' 'ENSG00000152219' 'ENSG00000143110' 'ENSG00000183172'\n",
      " 'ENSG00000121858' 'ENSG00000118503' 'ENSG00000139192' 'ENSG00000152778'\n",
      " 'ENSG00000142634' 'ENSG00000127540' 'ENSG00000103187' 'ENSG00000204257'\n",
      " 'ENSG00000143575' 'ENSG00000122359' 'ENSG00000167283' 'ENSG00000173039'\n",
      " 'ENSG00000137441' 'ENSG00000163660' 'ENSG00000196396' 'ENSG00000100280'\n",
      " 'ENSG00000131143' 'ENSG00000156411' 'ENSG00000204843' 'ENSG00000065978'\n",
      " 'ENSG00000137965' 'ENSG00000089737' 'ENSG00000163220' 'ENSG00000121316'\n",
      " 'ENSG00000163563' 'ENSG00000158517' 'ENSG00000121774' 'ENSG00000180008'\n",
      " 'ENSG00000120129' 'ENSG00000168811' 'ENSG00000106367' 'ENSG00000170581'\n",
      " 'ENSG00000042980' 'ENSG00000168389' 'ENSG00000184007' 'ENSG00000173757'\n",
      " 'ENSG00000101608' 'ENSG00000169564' 'ENSG00000104998' 'ENSG00000113615'\n",
      " 'ENSG00000105583' 'ENSG00000206503' 'ENSG00000145287' 'ENSG00000143933'\n",
      " 'ENSG00000160075' 'ENSG00000163131' 'ENSG00000142089']\n"
     ]
    }
   ],
   "source": [
    "if SEED != 'all':\n",
    "    gene_subset = np.load(here(f'03_downstream_analysis/08_gene_importance/xgboost_external_validation/shap_gene_selection/gene_subsets_{N_GENES}/{CELL_TYPE}_{SEED}.npy'), allow_pickle=True)\n",
    "    train_adata = train_adata[:,gene_subset]\n",
    "    print(gene_subset)\n",
    "elif SEED == 'all':\n",
    "    print('Using all genes')\n",
    "else:\n",
    "    raise ValueError()"
   ]
  },
  {
   "cell_type": "code",
   "execution_count": 8,
   "id": "f8036da1",
   "metadata": {
    "execution": {
     "iopub.execute_input": "2025-05-15T16:15:51.133855Z",
     "iopub.status.busy": "2025-05-15T16:15:51.133596Z",
     "iopub.status.idle": "2025-05-15T16:15:51.137098Z",
     "shell.execute_reply": "2025-05-15T16:15:51.136753Z"
    },
    "papermill": {
     "duration": 0.011765,
     "end_time": "2025-05-15T16:15:51.138032",
     "exception": false,
     "start_time": "2025-05-15T16:15:51.126267",
     "status": "completed"
    },
    "tags": []
   },
   "outputs": [
    {
     "data": {
      "text/plain": [
       "(542, 107)"
      ]
     },
     "execution_count": 8,
     "metadata": {},
     "output_type": "execute_result"
    }
   ],
   "source": [
    "train_adata.shape"
   ]
  },
  {
   "cell_type": "code",
   "execution_count": 9,
   "id": "3e8a862f",
   "metadata": {
    "execution": {
     "iopub.execute_input": "2025-05-15T16:15:51.171747Z",
     "iopub.status.busy": "2025-05-15T16:15:51.171475Z",
     "iopub.status.idle": "2025-05-15T16:15:51.175744Z",
     "shell.execute_reply": "2025-05-15T16:15:51.175402Z"
    },
    "papermill": {
     "duration": 0.012211,
     "end_time": "2025-05-15T16:15:51.176641",
     "exception": false,
     "start_time": "2025-05-15T16:15:51.164430",
     "status": "completed"
    },
    "tags": []
   },
   "outputs": [
    {
     "data": {
      "text/plain": [
       "['RA', 'COVID', 'healthy', 'HIV', 'cirrhosis', 'CD', 'SLE', 'sepsis']\n",
       "Categories (8, object): ['CD', 'COVID', 'HIV', 'RA', 'SLE', 'cirrhosis', 'healthy', 'sepsis']"
      ]
     },
     "execution_count": 9,
     "metadata": {},
     "output_type": "execute_result"
    }
   ],
   "source": [
    "train_adata.obs.disease.unique()"
   ]
  },
  {
   "cell_type": "code",
   "execution_count": 10,
   "id": "7009911e",
   "metadata": {
    "execution": {
     "iopub.execute_input": "2025-05-15T16:15:51.189962Z",
     "iopub.status.busy": "2025-05-15T16:15:51.189736Z",
     "iopub.status.idle": "2025-05-15T16:15:51.194117Z",
     "shell.execute_reply": "2025-05-15T16:15:51.193765Z"
    },
    "papermill": {
     "duration": 0.012128,
     "end_time": "2025-05-15T16:15:51.195098",
     "exception": false,
     "start_time": "2025-05-15T16:15:51.182970",
     "status": "completed"
    },
    "tags": []
   },
   "outputs": [
    {
     "data": {
      "text/plain": [
       "['SCGT00val_I0364_T0', 'SCGT00val_I036019_T0', 'SCGT00val_I036028_T0', 'SCGT00val_I036024_T0', 'SCGT00val_I036016_T0', ..., '10XGenomics_10XHC2_T0', '10XGenomics_10XHC3_T0', '10XGenomics_10XHC5_T0', '10XGenomics_10XHC7_T0', '10XGenomics_10XHC8_T0']\n",
       "Length: 74\n",
       "Categories (74, object): ['10XGenomics_10XHC1_T0', '10XGenomics_10XHC2_T0', '10XGenomics_10XHC3_T0', '10XGenomics_10XHC4_T0', ..., 'Savage2021_BRISL6_T0', 'Savage2021_BRISL7_T0', 'Savage2021_PIDA_T0', 'Savage2021_PIDB_T0']"
      ]
     },
     "execution_count": 10,
     "metadata": {},
     "output_type": "execute_result"
    }
   ],
   "source": [
    "train_adata.obs.sampleID.unique()"
   ]
  },
  {
   "cell_type": "code",
   "execution_count": 11,
   "id": "3ce82d2e",
   "metadata": {
    "execution": {
     "iopub.execute_input": "2025-05-15T16:15:51.209909Z",
     "iopub.status.busy": "2025-05-15T16:15:51.209543Z",
     "iopub.status.idle": "2025-05-15T16:15:51.243701Z",
     "shell.execute_reply": "2025-05-15T16:15:51.243207Z"
    },
    "papermill": {
     "duration": 0.043104,
     "end_time": "2025-05-15T16:15:51.244897",
     "exception": false,
     "start_time": "2025-05-15T16:15:51.201793",
     "status": "completed"
    },
    "tags": []
   },
   "outputs": [],
   "source": [
    "all_idxs = np.arange(train_adata.obs.shape[0])\n",
    "left_out_splits = [s[1] for s in StratifiedGroupKFold(n_splits=N_SPLITS).split(all_idxs, train_adata.obs.disease, train_adata.obs.sampleID)]"
   ]
  },
  {
   "cell_type": "code",
   "execution_count": 12,
   "id": "47260495",
   "metadata": {
    "execution": {
     "iopub.execute_input": "2025-05-15T16:15:51.283316Z",
     "iopub.status.busy": "2025-05-15T16:15:51.283046Z",
     "iopub.status.idle": "2025-05-15T16:15:51.286993Z",
     "shell.execute_reply": "2025-05-15T16:15:51.286638Z"
    },
    "papermill": {
     "duration": 0.029943,
     "end_time": "2025-05-15T16:15:51.287922",
     "exception": false,
     "start_time": "2025-05-15T16:15:51.257979",
     "status": "completed"
    },
    "tags": []
   },
   "outputs": [
    {
     "data": {
      "text/plain": [
       "([0, 1, 2], 4, 3)"
      ]
     },
     "execution_count": 12,
     "metadata": {},
     "output_type": "execute_result"
    }
   ],
   "source": [
    "TRAIN_SPLIT_IDXS = [0,1,2,3,4]\n",
    "VAL_SPLIT_IDX = (TEST_SPLIT_IDX + 1) % 5\n",
    "TRAIN_SPLIT_IDXS.remove(TEST_SPLIT_IDX)\n",
    "TRAIN_SPLIT_IDXS.remove(VAL_SPLIT_IDX)\n",
    "TRAIN_SPLIT_IDXS, VAL_SPLIT_IDX, TEST_SPLIT_IDX"
   ]
  },
  {
   "cell_type": "code",
   "execution_count": 13,
   "id": "c745ff8a",
   "metadata": {
    "execution": {
     "iopub.execute_input": "2025-05-15T16:15:51.303710Z",
     "iopub.status.busy": "2025-05-15T16:15:51.303431Z",
     "iopub.status.idle": "2025-05-15T16:15:51.306264Z",
     "shell.execute_reply": "2025-05-15T16:15:51.305923Z"
    },
    "papermill": {
     "duration": 0.01115,
     "end_time": "2025-05-15T16:15:51.307248",
     "exception": false,
     "start_time": "2025-05-15T16:15:51.296098",
     "status": "completed"
    },
    "tags": []
   },
   "outputs": [],
   "source": [
    "train_idxs = np.concatenate([left_out_splits[idx] for idx in TRAIN_SPLIT_IDXS])\n",
    "val_idxs = left_out_splits[VAL_SPLIT_IDX]\n",
    "test_idxs = left_out_splits[TEST_SPLIT_IDX]"
   ]
  },
  {
   "cell_type": "markdown",
   "id": "f02d62e6",
   "metadata": {
    "papermill": {
     "duration": 0.006326,
     "end_time": "2025-05-15T16:15:51.320368",
     "exception": false,
     "start_time": "2025-05-15T16:15:51.314042",
     "status": "completed"
    },
    "tags": []
   },
   "source": [
    "### SUBSET DATASET INTO TRAIN/TEST/VAL SPLITS"
   ]
  },
  {
   "cell_type": "code",
   "execution_count": 14,
   "id": "ed329a79",
   "metadata": {
    "execution": {
     "iopub.execute_input": "2025-05-15T16:15:51.334805Z",
     "iopub.status.busy": "2025-05-15T16:15:51.334475Z",
     "iopub.status.idle": "2025-05-15T16:15:51.342641Z",
     "shell.execute_reply": "2025-05-15T16:15:51.342257Z"
    },
    "papermill": {
     "duration": 0.016567,
     "end_time": "2025-05-15T16:15:51.343638",
     "exception": false,
     "start_time": "2025-05-15T16:15:51.327071",
     "status": "completed"
    },
    "tags": []
   },
   "outputs": [
    {
     "data": {
      "text/plain": [
       "((327, 107), (99, 107), (116, 107))"
      ]
     },
     "execution_count": 14,
     "metadata": {},
     "output_type": "execute_result"
    }
   ],
   "source": [
    "X_train = train_adata.X[train_idxs]\n",
    "X_test = train_adata.X[test_idxs]\n",
    "X_val = train_adata.X[val_idxs]\n",
    "X_train.shape, X_test.shape, X_val.shape"
   ]
  },
  {
   "cell_type": "code",
   "execution_count": 15,
   "id": "4007245f",
   "metadata": {
    "execution": {
     "iopub.execute_input": "2025-05-15T16:15:51.357867Z",
     "iopub.status.busy": "2025-05-15T16:15:51.357604Z",
     "iopub.status.idle": "2025-05-15T16:15:51.363315Z",
     "shell.execute_reply": "2025-05-15T16:15:51.362980Z"
    },
    "papermill": {
     "duration": 0.013812,
     "end_time": "2025-05-15T16:15:51.364210",
     "exception": false,
     "start_time": "2025-05-15T16:15:51.350398",
     "status": "completed"
    },
    "tags": []
   },
   "outputs": [
    {
     "data": {
      "text/plain": [
       "((327,), (99,), (116,))"
      ]
     },
     "execution_count": 15,
     "metadata": {},
     "output_type": "execute_result"
    }
   ],
   "source": [
    "y_train = train_adata.obs.iloc[train_idxs].disease.values.astype(str)\n",
    "y_test = train_adata.obs.iloc[test_idxs].disease.values.astype(str)\n",
    "y_val = train_adata.obs.iloc[val_idxs].disease.values.astype(str)\n",
    "y_train.shape, y_test.shape, y_val.shape"
   ]
  },
  {
   "cell_type": "code",
   "execution_count": 16,
   "id": "5445479c",
   "metadata": {
    "execution": {
     "iopub.execute_input": "2025-05-15T16:15:51.377400Z",
     "iopub.status.busy": "2025-05-15T16:15:51.377138Z",
     "iopub.status.idle": "2025-05-15T16:15:51.380158Z",
     "shell.execute_reply": "2025-05-15T16:15:51.379831Z"
    },
    "papermill": {
     "duration": 0.010777,
     "end_time": "2025-05-15T16:15:51.381250",
     "exception": false,
     "start_time": "2025-05-15T16:15:51.370473",
     "status": "completed"
    },
    "tags": []
   },
   "outputs": [],
   "source": [
    "lenc = LabelEncoder()\n",
    "y_train_enc = lenc.fit_transform(y_train)\n",
    "y_val_enc = lenc.transform(y_val)\n",
    "y_test_enc = lenc.transform(y_test)"
   ]
  },
  {
   "cell_type": "markdown",
   "id": "7792600f",
   "metadata": {
    "papermill": {
     "duration": 0.006987,
     "end_time": "2025-05-15T16:15:51.398066",
     "exception": false,
     "start_time": "2025-05-15T16:15:51.391079",
     "status": "completed"
    },
    "tags": []
   },
   "source": [
    "### GENERATE F1 "
   ]
  },
  {
   "cell_type": "code",
   "execution_count": 17,
   "id": "63edea0d",
   "metadata": {
    "execution": {
     "iopub.execute_input": "2025-05-15T16:15:51.412364Z",
     "iopub.status.busy": "2025-05-15T16:15:51.412062Z",
     "iopub.status.idle": "2025-05-15T16:15:51.414929Z",
     "shell.execute_reply": "2025-05-15T16:15:51.414583Z"
    },
    "papermill": {
     "duration": 0.011625,
     "end_time": "2025-05-15T16:15:51.416303",
     "exception": false,
     "start_time": "2025-05-15T16:15:51.404678",
     "status": "completed"
    },
    "tags": []
   },
   "outputs": [],
   "source": [
    "def custom_f1_score(y_true, y_pred):\n",
    "    return -f1_score(y_true, y_pred.argmax(1), average='weighted')"
   ]
  },
  {
   "cell_type": "code",
   "execution_count": 18,
   "id": "8a6f80d6",
   "metadata": {
    "execution": {
     "iopub.execute_input": "2025-05-15T16:15:51.431106Z",
     "iopub.status.busy": "2025-05-15T16:15:51.430781Z",
     "iopub.status.idle": "2025-05-15T16:15:51.435094Z",
     "shell.execute_reply": "2025-05-15T16:15:51.434691Z"
    },
    "papermill": {
     "duration": 0.012374,
     "end_time": "2025-05-15T16:15:51.435993",
     "exception": false,
     "start_time": "2025-05-15T16:15:51.423619",
     "status": "completed"
    },
    "tags": []
   },
   "outputs": [],
   "source": [
    "eval_metric=custom_f1_score\n",
    "eval_metric_name='custom_f1_score'\n",
    "\n",
    "def objective(trial):\n",
    "    params = {\n",
    "        'n_estimators': 1500,\n",
    "        'max_depth': trial.suggest_int('max_depth', 3, 20),\n",
    "        'min_child_weight': trial.suggest_int('min_child_weight', 1, 250),\n",
    "        'subsample': trial.suggest_float('subsample', 0.1, 1.0),\n",
    "        'colsample_bynode': trial.suggest_float('colsample_bynode', 0.1, 1.0),\n",
    "        'learning_rate': trial.suggest_float('learning_rate', 1e-3, 5e-1, log=True),\n",
    "    }\n",
    "    pruning_callback = optuna.integration.XGBoostPruningCallback(trial, f'validation_0-{eval_metric_name}')\n",
    "    es_callback = xgboost.callback.EarlyStopping(20, min_delta=0.001)\n",
    "    xgb = xgboost.XGBClassifier(\n",
    "        eval_metric=eval_metric,\n",
    "        callbacks=[pruning_callback, es_callback],\n",
    "        n_jobs=5,\n",
    "        **params\n",
    "    )\n",
    "    xgb.fit(\n",
    "        X_train, \n",
    "        y_train_enc, \n",
    "        verbose=0,\n",
    "        eval_set=[(X_val, y_val_enc)],\n",
    "    )\n",
    "    trial.set_user_attr('best_iteration', xgb.best_iteration)\n",
    "\n",
    "    return xgb.best_score"
   ]
  },
  {
   "cell_type": "code",
   "execution_count": 19,
   "id": "d1f9b589",
   "metadata": {
    "execution": {
     "iopub.execute_input": "2025-05-15T16:15:51.449751Z",
     "iopub.status.busy": "2025-05-15T16:15:51.449479Z",
     "iopub.status.idle": "2025-05-15T16:16:04.331189Z",
     "shell.execute_reply": "2025-05-15T16:16:04.330683Z"
    },
    "papermill": {
     "duration": 12.88998,
     "end_time": "2025-05-15T16:16:04.332419",
     "exception": false,
     "start_time": "2025-05-15T16:15:51.442439",
     "status": "completed"
    },
    "scrolled": true,
    "tags": []
   },
   "outputs": [
    {
     "name": "stderr",
     "output_type": "stream",
     "text": [
      "[I 2025-05-15 18:15:51,451] A new study created in memory with name: no-name-e85835e1-fdc4-4b0f-ad74-5c723b454469\n"
     ]
    },
    {
     "name": "stderr",
     "output_type": "stream",
     "text": [
      "[I 2025-05-15 18:15:51,610] Trial 0 finished with value: -0.041688 and parameters: {'max_depth': 9, 'min_child_weight': 238, 'subsample': 0.7587945476302645, 'colsample_bynode': 0.6387926357773329, 'learning_rate': 0.0026368755339723046}. Best is trial 0 with value: -0.041688.\n"
     ]
    },
    {
     "name": "stderr",
     "output_type": "stream",
     "text": [
      "[I 2025-05-15 18:15:51,950] Trial 1 finished with value: -0.471931 and parameters: {'max_depth': 5, 'min_child_weight': 15, 'subsample': 0.8795585311974417, 'colsample_bynode': 0.6410035105688879, 'learning_rate': 0.08148293210105287}. Best is trial 1 with value: -0.471931.\n"
     ]
    },
    {
     "name": "stderr",
     "output_type": "stream",
     "text": [
      "[I 2025-05-15 18:15:52,112] Trial 2 finished with value: -0.041688 and parameters: {'max_depth': 3, 'min_child_weight': 243, 'subsample': 0.8491983767203796, 'colsample_bynode': 0.29110519961044856, 'learning_rate': 0.003095566460242371}. Best is trial 1 with value: -0.471931.\n"
     ]
    },
    {
     "name": "stderr",
     "output_type": "stream",
     "text": [
      "[I 2025-05-15 18:15:52,275] Trial 3 finished with value: -0.041688 and parameters: {'max_depth': 6, 'min_child_weight': 77, 'subsample': 0.5722807884690141, 'colsample_bynode': 0.48875051677790415, 'learning_rate': 0.006109683510122491}. Best is trial 1 with value: -0.471931.\n"
     ]
    },
    {
     "name": "stderr",
     "output_type": "stream",
     "text": [
      "[I 2025-05-15 18:15:52,425] Trial 4 finished with value: -0.041688 and parameters: {'max_depth': 14, 'min_child_weight': 35, 'subsample': 0.3629301836816964, 'colsample_bynode': 0.4297256589643226, 'learning_rate': 0.01701841881702917}. Best is trial 1 with value: -0.471931.\n"
     ]
    },
    {
     "name": "stderr",
     "output_type": "stream",
     "text": [
      "[I 2025-05-15 18:15:52,606] Trial 5 finished with value: -0.041688 and parameters: {'max_depth': 17, 'min_child_weight': 50, 'subsample': 0.5628109945722505, 'colsample_bynode': 0.6331731119758383, 'learning_rate': 0.0013346527038305934}. Best is trial 1 with value: -0.471931.\n"
     ]
    },
    {
     "name": "stderr",
     "output_type": "stream",
     "text": [
      "[I 2025-05-15 18:15:52,787] Trial 6 finished with value: -0.041688 and parameters: {'max_depth': 13, 'min_child_weight': 43, 'subsample': 0.1585464336867516, 'colsample_bynode': 0.9539969835279999, 'learning_rate': 0.4038423798071558}. Best is trial 1 with value: -0.471931.\n"
     ]
    },
    {
     "name": "stderr",
     "output_type": "stream",
     "text": [
      "[I 2025-05-15 18:15:52,969] Trial 7 finished with value: -0.041688 and parameters: {'max_depth': 17, 'min_child_weight': 77, 'subsample': 0.1879049026057455, 'colsample_bynode': 0.7158097238609412, 'learning_rate': 0.015415527060141935}. Best is trial 1 with value: -0.471931.\n"
     ]
    },
    {
     "name": "stderr",
     "output_type": "stream",
     "text": [
      "[I 2025-05-15 18:15:53,159] Trial 8 finished with value: -0.041688 and parameters: {'max_depth': 5, 'min_child_weight': 124, 'subsample': 0.13094966900369656, 'colsample_bynode': 0.9183883618709039, 'learning_rate': 0.004993895014755658}. Best is trial 1 with value: -0.471931.\n"
     ]
    },
    {
     "name": "stderr",
     "output_type": "stream",
     "text": [
      "[I 2025-05-15 18:15:53,385] Trial 9 finished with value: -0.041688 and parameters: {'max_depth': 14, 'min_child_weight': 78, 'subsample': 0.5680612190600297, 'colsample_bynode': 0.5920392514089517, 'learning_rate': 0.0031543990308330965}. Best is trial 1 with value: -0.471931.\n"
     ]
    },
    {
     "name": "stderr",
     "output_type": "stream",
     "text": [
      "[I 2025-05-15 18:15:54,055] Trial 10 finished with value: -0.613784 and parameters: {'max_depth': 9, 'min_child_weight': 2, 'subsample': 0.9725833997090791, 'colsample_bynode': 0.11616568805333755, 'learning_rate': 0.17780618353487967}. Best is trial 10 with value: -0.613784.\n"
     ]
    },
    {
     "name": "stderr",
     "output_type": "stream",
     "text": [
      "[I 2025-05-15 18:15:54,483] Trial 11 pruned. Trial was pruned at iteration 35.\n"
     ]
    },
    {
     "name": "stderr",
     "output_type": "stream",
     "text": [
      "[I 2025-05-15 18:15:55,075] Trial 12 finished with value: -0.624876 and parameters: {'max_depth': 9, 'min_child_weight': 3, 'subsample': 0.9754570370311046, 'colsample_bynode': 0.14672783827498995, 'learning_rate': 0.08954997670613858}. Best is trial 12 with value: -0.624876.\n"
     ]
    },
    {
     "name": "stderr",
     "output_type": "stream",
     "text": [
      "[I 2025-05-15 18:15:55,269] Trial 13 finished with value: -0.041688 and parameters: {'max_depth': 10, 'min_child_weight': 173, 'subsample': 0.9990365834996398, 'colsample_bynode': 0.10388397775802007, 'learning_rate': 0.08954294267079196}. Best is trial 12 with value: -0.624876.\n"
     ]
    },
    {
     "name": "stderr",
     "output_type": "stream",
     "text": [
      "[I 2025-05-15 18:15:55,466] Trial 14 finished with value: -0.041688 and parameters: {'max_depth': 7, 'min_child_weight': 132, 'subsample': 0.7251427075087294, 'colsample_bynode': 0.2827065087684573, 'learning_rate': 0.39514801085683204}. Best is trial 12 with value: -0.624876.\n"
     ]
    },
    {
     "name": "stderr",
     "output_type": "stream",
     "text": [
      "[I 2025-05-15 18:15:55,854] Trial 15 pruned. Trial was pruned at iteration 21.\n"
     ]
    },
    {
     "name": "stderr",
     "output_type": "stream",
     "text": [
      "[I 2025-05-15 18:15:56,048] Trial 16 finished with value: -0.041688 and parameters: {'max_depth': 11, 'min_child_weight': 125, 'subsample': 0.8815541734801864, 'colsample_bynode': 0.11794375140013524, 'learning_rate': 0.049223809345826965}. Best is trial 12 with value: -0.624876.\n"
     ]
    },
    {
     "name": "stderr",
     "output_type": "stream",
     "text": [
      "[I 2025-05-15 18:15:56,246] Trial 17 finished with value: -0.041688 and parameters: {'max_depth': 8, 'min_child_weight': 183, 'subsample': 0.38147523481218437, 'colsample_bynode': 0.22493155379732882, 'learning_rate': 0.04721213780493888}. Best is trial 12 with value: -0.624876.\n"
     ]
    },
    {
     "name": "stderr",
     "output_type": "stream",
     "text": [
      "[I 2025-05-15 18:15:56,451] Trial 18 pruned. Trial was pruned at iteration 21.\n"
     ]
    },
    {
     "name": "stderr",
     "output_type": "stream",
     "text": [
      "[I 2025-05-15 18:15:56,639] Trial 19 finished with value: -0.041688 and parameters: {'max_depth': 11, 'min_child_weight': 102, 'subsample': 0.9723428668438461, 'colsample_bynode': 0.21061250777137863, 'learning_rate': 0.0340013005982499}. Best is trial 12 with value: -0.624876.\n"
     ]
    },
    {
     "name": "stderr",
     "output_type": "stream",
     "text": [
      "[I 2025-05-15 18:15:56,827] Trial 20 finished with value: -0.041688 and parameters: {'max_depth': 7, 'min_child_weight': 60, 'subsample': 0.6557531039489988, 'colsample_bynode': 0.792643950018397, 'learning_rate': 0.19601104640141212}. Best is trial 12 with value: -0.624876.\n"
     ]
    },
    {
     "name": "stderr",
     "output_type": "stream",
     "text": [
      "[I 2025-05-15 18:15:57,082] Trial 21 pruned. Trial was pruned at iteration 21.\n"
     ]
    },
    {
     "name": "stderr",
     "output_type": "stream",
     "text": [
      "[I 2025-05-15 18:15:57,337] Trial 22 pruned. Trial was pruned at iteration 21.\n"
     ]
    },
    {
     "name": "stderr",
     "output_type": "stream",
     "text": [
      "[I 2025-05-15 18:15:57,578] Trial 23 pruned. Trial was pruned at iteration 21.\n"
     ]
    },
    {
     "name": "stderr",
     "output_type": "stream",
     "text": [
      "[I 2025-05-15 18:15:57,904] Trial 24 pruned. Trial was pruned at iteration 21.\n"
     ]
    },
    {
     "name": "stderr",
     "output_type": "stream",
     "text": [
      "[I 2025-05-15 18:15:58,103] Trial 25 finished with value: -0.041688 and parameters: {'max_depth': 6, 'min_child_weight': 60, 'subsample': 0.6456116649072785, 'colsample_bynode': 0.532177065816127, 'learning_rate': 0.281809190534241}. Best is trial 12 with value: -0.624876.\n"
     ]
    },
    {
     "name": "stderr",
     "output_type": "stream",
     "text": [
      "[I 2025-05-15 18:15:58,308] Trial 26 finished with value: -0.119292 and parameters: {'max_depth': 10, 'min_child_weight': 27, 'subsample': 0.4415145059632183, 'colsample_bynode': 0.7060120341889913, 'learning_rate': 0.0668037040487806}. Best is trial 12 with value: -0.624876.\n"
     ]
    },
    {
     "name": "stderr",
     "output_type": "stream",
     "text": [
      "[I 2025-05-15 18:15:58,513] Trial 27 finished with value: -0.041688 and parameters: {'max_depth': 8, 'min_child_weight': 104, 'subsample': 0.830994423789636, 'colsample_bynode': 0.43555425322930064, 'learning_rate': 0.1346978034114215}. Best is trial 12 with value: -0.624876.\n"
     ]
    },
    {
     "name": "stderr",
     "output_type": "stream",
     "text": [
      "[I 2025-05-15 18:15:58,937] Trial 28 pruned. Trial was pruned at iteration 21.\n"
     ]
    },
    {
     "name": "stderr",
     "output_type": "stream",
     "text": [
      "[I 2025-05-15 18:15:59,136] Trial 29 finished with value: -0.041688 and parameters: {'max_depth': 9, 'min_child_weight': 217, 'subsample': 0.7792824855561776, 'colsample_bynode': 0.35144187260404597, 'learning_rate': 0.03555987277431128}. Best is trial 12 with value: -0.624876.\n"
     ]
    },
    {
     "name": "stderr",
     "output_type": "stream",
     "text": [
      "[I 2025-05-15 18:15:59,345] Trial 30 finished with value: -0.082079 and parameters: {'max_depth': 4, 'min_child_weight': 53, 'subsample': 0.7101946705465456, 'colsample_bynode': 0.7096162111910556, 'learning_rate': 0.30874366458011154}. Best is trial 12 with value: -0.624876.\n"
     ]
    },
    {
     "name": "stderr",
     "output_type": "stream",
     "text": [
      "[I 2025-05-15 18:15:59,545] Trial 31 pruned. Trial was pruned at iteration 21.\n"
     ]
    },
    {
     "name": "stderr",
     "output_type": "stream",
     "text": [
      "[I 2025-05-15 18:15:59,763] Trial 32 pruned. Trial was pruned at iteration 21.\n"
     ]
    },
    {
     "name": "stderr",
     "output_type": "stream",
     "text": [
      "[I 2025-05-15 18:15:59,969] Trial 33 pruned. Trial was pruned at iteration 21.\n"
     ]
    },
    {
     "name": "stderr",
     "output_type": "stream",
     "text": [
      "[I 2025-05-15 18:16:00,198] Trial 34 pruned. Trial was pruned at iteration 21.\n"
     ]
    },
    {
     "name": "stderr",
     "output_type": "stream",
     "text": [
      "[I 2025-05-15 18:16:00,403] Trial 35 finished with value: -0.041688 and parameters: {'max_depth': 15, 'min_child_weight': 67, 'subsample': 0.30998064053558805, 'colsample_bynode': 0.6624987416137388, 'learning_rate': 0.010065159574736374}. Best is trial 12 with value: -0.624876.\n"
     ]
    },
    {
     "name": "stderr",
     "output_type": "stream",
     "text": [
      "[I 2025-05-15 18:16:00,606] Trial 36 finished with value: -0.119292 and parameters: {'max_depth': 13, 'min_child_weight': 38, 'subsample': 0.8619603165445179, 'colsample_bynode': 0.628542476293521, 'learning_rate': 0.024355012977117882}. Best is trial 12 with value: -0.624876.\n"
     ]
    },
    {
     "name": "stderr",
     "output_type": "stream",
     "text": [
      "[I 2025-05-15 18:16:00,817] Trial 37 pruned. Trial was pruned at iteration 21.\n"
     ]
    },
    {
     "name": "stderr",
     "output_type": "stream",
     "text": [
      "[I 2025-05-15 18:16:01,014] Trial 38 finished with value: -0.119292 and parameters: {'max_depth': 9, 'min_child_weight': 31, 'subsample': 0.5057966996056662, 'colsample_bynode': 0.45462238513793146, 'learning_rate': 0.039908134378193384}. Best is trial 12 with value: -0.624876.\n"
     ]
    },
    {
     "name": "stderr",
     "output_type": "stream",
     "text": [
      "[I 2025-05-15 18:16:01,208] Trial 39 finished with value: -0.041688 and parameters: {'max_depth': 5, 'min_child_weight': 97, 'subsample': 0.6285664313952011, 'colsample_bynode': 0.569221294390402, 'learning_rate': 0.4727363411197455}. Best is trial 12 with value: -0.624876.\n"
     ]
    },
    {
     "name": "stderr",
     "output_type": "stream",
     "text": [
      "[I 2025-05-15 18:16:01,401] Trial 40 finished with value: -0.041688 and parameters: {'max_depth': 13, 'min_child_weight': 84, 'subsample': 0.522855423201283, 'colsample_bynode': 0.15075998109585742, 'learning_rate': 0.07162321565530821}. Best is trial 12 with value: -0.624876.\n"
     ]
    },
    {
     "name": "stderr",
     "output_type": "stream",
     "text": [
      "[I 2025-05-15 18:16:01,601] Trial 41 finished with value: -0.119292 and parameters: {'max_depth': 14, 'min_child_weight': 38, 'subsample': 0.8639753078243501, 'colsample_bynode': 0.6325562693029445, 'learning_rate': 0.022962987227154764}. Best is trial 12 with value: -0.624876.\n"
     ]
    },
    {
     "name": "stderr",
     "output_type": "stream",
     "text": [
      "[I 2025-05-15 18:16:01,881] Trial 42 finished with value: -0.464195 and parameters: {'max_depth': 16, 'min_child_weight': 12, 'subsample': 0.8174991076209333, 'colsample_bynode': 0.7551340959812363, 'learning_rate': 0.01778712538751559}. Best is trial 12 with value: -0.624876.\n"
     ]
    },
    {
     "name": "stderr",
     "output_type": "stream",
     "text": [
      "[I 2025-05-15 18:16:02,158] Trial 43 finished with value: -0.447763 and parameters: {'max_depth': 16, 'min_child_weight': 13, 'subsample': 0.9961811574923556, 'colsample_bynode': 0.7502379331692719, 'learning_rate': 0.007297796696473871}. Best is trial 12 with value: -0.624876.\n"
     ]
    },
    {
     "name": "stderr",
     "output_type": "stream",
     "text": [
      "[I 2025-05-15 18:16:02,492] Trial 44 pruned. Trial was pruned at iteration 21.\n"
     ]
    },
    {
     "name": "stderr",
     "output_type": "stream",
     "text": [
      "[I 2025-05-15 18:16:02,788] Trial 45 finished with value: -0.422619 and parameters: {'max_depth': 20, 'min_child_weight': 12, 'subsample': 0.80618682566663, 'colsample_bynode': 0.840475961260316, 'learning_rate': 0.0013232804043357474}. Best is trial 12 with value: -0.624876.\n"
     ]
    },
    {
     "name": "stderr",
     "output_type": "stream",
     "text": [
      "[I 2025-05-15 18:16:02,974] Trial 46 finished with value: -0.119292 and parameters: {'max_depth': 17, 'min_child_weight': 48, 'subsample': 0.9949508438916208, 'colsample_bynode': 0.9874097689793372, 'learning_rate': 0.002471235001968861}. Best is trial 12 with value: -0.624876.\n"
     ]
    },
    {
     "name": "stderr",
     "output_type": "stream",
     "text": [
      "[I 2025-05-15 18:16:03,182] Trial 47 finished with value: -0.041688 and parameters: {'max_depth': 18, 'min_child_weight': 148, 'subsample': 0.8878115402258203, 'colsample_bynode': 0.8217292568487502, 'learning_rate': 0.016313130156967632}. Best is trial 12 with value: -0.624876.\n"
     ]
    },
    {
     "name": "stderr",
     "output_type": "stream",
     "text": [
      "[I 2025-05-15 18:16:03,570] Trial 48 pruned. Trial was pruned at iteration 21.\n"
     ]
    },
    {
     "name": "stderr",
     "output_type": "stream",
     "text": [
      "[I 2025-05-15 18:16:04,191] Trial 49 pruned. Trial was pruned at iteration 21.\n"
     ]
    }
   ],
   "source": [
    "sampler = optuna.samplers.TPESampler(seed=42)\n",
    "study = optuna.create_study(direction='minimize', sampler=sampler)\n",
    "study.optimize(objective, n_trials=N_TRIALS, gc_after_trial=True)"
   ]
  },
  {
   "cell_type": "code",
   "execution_count": 20,
   "id": "c521d4fe",
   "metadata": {
    "execution": {
     "iopub.execute_input": "2025-05-15T16:16:04.371239Z",
     "iopub.status.busy": "2025-05-15T16:16:04.370918Z",
     "iopub.status.idle": "2025-05-15T16:16:04.406405Z",
     "shell.execute_reply": "2025-05-15T16:16:04.405993Z"
    },
    "papermill": {
     "duration": 0.046736,
     "end_time": "2025-05-15T16:16:04.407316",
     "exception": false,
     "start_time": "2025-05-15T16:16:04.360580",
     "status": "completed"
    },
    "tags": []
   },
   "outputs": [
    {
     "data": {
      "text/plain": [
       "['/scratch_isilon/groups/singlecell/shared/projects/Inflammation-PBMCs-Atlas/03_downstream_analysis/08_gene_importance/xgboost_external_validation/xgboost_TopN_genes/results_20/study/Plasma_18_3_xgboost.pkl']"
      ]
     },
     "execution_count": 20,
     "metadata": {},
     "output_type": "execute_result"
    }
   ],
   "source": [
    "out_dir = here(f'03_downstream_analysis/08_gene_importance/xgboost_external_validation/xgboost_TopN_genes/results_{N_GENES}/study')\n",
    "\n",
    "if not os.path.exists(out_dir):\n",
    "    os.makedirs(out_dir)\n",
    "    \n",
    "joblib.dump(study,os.path.join(out_dir, f'{CELL_TYPE}_{SEED}_{TEST_SPLIT_IDX}_xgboost.pkl'))"
   ]
  },
  {
   "cell_type": "code",
   "execution_count": 21,
   "id": "85d85377",
   "metadata": {
    "execution": {
     "iopub.execute_input": "2025-05-15T16:16:04.427209Z",
     "iopub.status.busy": "2025-05-15T16:16:04.426690Z",
     "iopub.status.idle": "2025-05-15T16:16:04.813240Z",
     "shell.execute_reply": "2025-05-15T16:16:04.812826Z"
    },
    "papermill": {
     "duration": 0.398374,
     "end_time": "2025-05-15T16:16:04.814696",
     "exception": false,
     "start_time": "2025-05-15T16:16:04.416322",
     "status": "completed"
    },
    "tags": []
   },
   "outputs": [
    {
     "data": {
      "text/html": [
       "<style>#sk-container-id-1 {\n",
       "  /* Definition of color scheme common for light and dark mode */\n",
       "  --sklearn-color-text: black;\n",
       "  --sklearn-color-line: gray;\n",
       "  /* Definition of color scheme for unfitted estimators */\n",
       "  --sklearn-color-unfitted-level-0: #fff5e6;\n",
       "  --sklearn-color-unfitted-level-1: #f6e4d2;\n",
       "  --sklearn-color-unfitted-level-2: #ffe0b3;\n",
       "  --sklearn-color-unfitted-level-3: chocolate;\n",
       "  /* Definition of color scheme for fitted estimators */\n",
       "  --sklearn-color-fitted-level-0: #f0f8ff;\n",
       "  --sklearn-color-fitted-level-1: #d4ebff;\n",
       "  --sklearn-color-fitted-level-2: #b3dbfd;\n",
       "  --sklearn-color-fitted-level-3: cornflowerblue;\n",
       "\n",
       "  /* Specific color for light theme */\n",
       "  --sklearn-color-text-on-default-background: var(--sg-text-color, var(--theme-code-foreground, var(--jp-content-font-color1, black)));\n",
       "  --sklearn-color-background: var(--sg-background-color, var(--theme-background, var(--jp-layout-color0, white)));\n",
       "  --sklearn-color-border-box: var(--sg-text-color, var(--theme-code-foreground, var(--jp-content-font-color1, black)));\n",
       "  --sklearn-color-icon: #696969;\n",
       "\n",
       "  @media (prefers-color-scheme: dark) {\n",
       "    /* Redefinition of color scheme for dark theme */\n",
       "    --sklearn-color-text-on-default-background: var(--sg-text-color, var(--theme-code-foreground, var(--jp-content-font-color1, white)));\n",
       "    --sklearn-color-background: var(--sg-background-color, var(--theme-background, var(--jp-layout-color0, #111)));\n",
       "    --sklearn-color-border-box: var(--sg-text-color, var(--theme-code-foreground, var(--jp-content-font-color1, white)));\n",
       "    --sklearn-color-icon: #878787;\n",
       "  }\n",
       "}\n",
       "\n",
       "#sk-container-id-1 {\n",
       "  color: var(--sklearn-color-text);\n",
       "}\n",
       "\n",
       "#sk-container-id-1 pre {\n",
       "  padding: 0;\n",
       "}\n",
       "\n",
       "#sk-container-id-1 input.sk-hidden--visually {\n",
       "  border: 0;\n",
       "  clip: rect(1px 1px 1px 1px);\n",
       "  clip: rect(1px, 1px, 1px, 1px);\n",
       "  height: 1px;\n",
       "  margin: -1px;\n",
       "  overflow: hidden;\n",
       "  padding: 0;\n",
       "  position: absolute;\n",
       "  width: 1px;\n",
       "}\n",
       "\n",
       "#sk-container-id-1 div.sk-dashed-wrapped {\n",
       "  border: 1px dashed var(--sklearn-color-line);\n",
       "  margin: 0 0.4em 0.5em 0.4em;\n",
       "  box-sizing: border-box;\n",
       "  padding-bottom: 0.4em;\n",
       "  background-color: var(--sklearn-color-background);\n",
       "}\n",
       "\n",
       "#sk-container-id-1 div.sk-container {\n",
       "  /* jupyter's `normalize.less` sets `[hidden] { display: none; }`\n",
       "     but bootstrap.min.css set `[hidden] { display: none !important; }`\n",
       "     so we also need the `!important` here to be able to override the\n",
       "     default hidden behavior on the sphinx rendered scikit-learn.org.\n",
       "     See: https://github.com/scikit-learn/scikit-learn/issues/21755 */\n",
       "  display: inline-block !important;\n",
       "  position: relative;\n",
       "}\n",
       "\n",
       "#sk-container-id-1 div.sk-text-repr-fallback {\n",
       "  display: none;\n",
       "}\n",
       "\n",
       "div.sk-parallel-item,\n",
       "div.sk-serial,\n",
       "div.sk-item {\n",
       "  /* draw centered vertical line to link estimators */\n",
       "  background-image: linear-gradient(var(--sklearn-color-text-on-default-background), var(--sklearn-color-text-on-default-background));\n",
       "  background-size: 2px 100%;\n",
       "  background-repeat: no-repeat;\n",
       "  background-position: center center;\n",
       "}\n",
       "\n",
       "/* Parallel-specific style estimator block */\n",
       "\n",
       "#sk-container-id-1 div.sk-parallel-item::after {\n",
       "  content: \"\";\n",
       "  width: 100%;\n",
       "  border-bottom: 2px solid var(--sklearn-color-text-on-default-background);\n",
       "  flex-grow: 1;\n",
       "}\n",
       "\n",
       "#sk-container-id-1 div.sk-parallel {\n",
       "  display: flex;\n",
       "  align-items: stretch;\n",
       "  justify-content: center;\n",
       "  background-color: var(--sklearn-color-background);\n",
       "  position: relative;\n",
       "}\n",
       "\n",
       "#sk-container-id-1 div.sk-parallel-item {\n",
       "  display: flex;\n",
       "  flex-direction: column;\n",
       "}\n",
       "\n",
       "#sk-container-id-1 div.sk-parallel-item:first-child::after {\n",
       "  align-self: flex-end;\n",
       "  width: 50%;\n",
       "}\n",
       "\n",
       "#sk-container-id-1 div.sk-parallel-item:last-child::after {\n",
       "  align-self: flex-start;\n",
       "  width: 50%;\n",
       "}\n",
       "\n",
       "#sk-container-id-1 div.sk-parallel-item:only-child::after {\n",
       "  width: 0;\n",
       "}\n",
       "\n",
       "/* Serial-specific style estimator block */\n",
       "\n",
       "#sk-container-id-1 div.sk-serial {\n",
       "  display: flex;\n",
       "  flex-direction: column;\n",
       "  align-items: center;\n",
       "  background-color: var(--sklearn-color-background);\n",
       "  padding-right: 1em;\n",
       "  padding-left: 1em;\n",
       "}\n",
       "\n",
       "\n",
       "/* Toggleable style: style used for estimator/Pipeline/ColumnTransformer box that is\n",
       "clickable and can be expanded/collapsed.\n",
       "- Pipeline and ColumnTransformer use this feature and define the default style\n",
       "- Estimators will overwrite some part of the style using the `sk-estimator` class\n",
       "*/\n",
       "\n",
       "/* Pipeline and ColumnTransformer style (default) */\n",
       "\n",
       "#sk-container-id-1 div.sk-toggleable {\n",
       "  /* Default theme specific background. It is overwritten whether we have a\n",
       "  specific estimator or a Pipeline/ColumnTransformer */\n",
       "  background-color: var(--sklearn-color-background);\n",
       "}\n",
       "\n",
       "/* Toggleable label */\n",
       "#sk-container-id-1 label.sk-toggleable__label {\n",
       "  cursor: pointer;\n",
       "  display: block;\n",
       "  width: 100%;\n",
       "  margin-bottom: 0;\n",
       "  padding: 0.5em;\n",
       "  box-sizing: border-box;\n",
       "  text-align: center;\n",
       "}\n",
       "\n",
       "#sk-container-id-1 label.sk-toggleable__label-arrow:before {\n",
       "  /* Arrow on the left of the label */\n",
       "  content: \"▸\";\n",
       "  float: left;\n",
       "  margin-right: 0.25em;\n",
       "  color: var(--sklearn-color-icon);\n",
       "}\n",
       "\n",
       "#sk-container-id-1 label.sk-toggleable__label-arrow:hover:before {\n",
       "  color: var(--sklearn-color-text);\n",
       "}\n",
       "\n",
       "/* Toggleable content - dropdown */\n",
       "\n",
       "#sk-container-id-1 div.sk-toggleable__content {\n",
       "  max-height: 0;\n",
       "  max-width: 0;\n",
       "  overflow: hidden;\n",
       "  text-align: left;\n",
       "  /* unfitted */\n",
       "  background-color: var(--sklearn-color-unfitted-level-0);\n",
       "}\n",
       "\n",
       "#sk-container-id-1 div.sk-toggleable__content.fitted {\n",
       "  /* fitted */\n",
       "  background-color: var(--sklearn-color-fitted-level-0);\n",
       "}\n",
       "\n",
       "#sk-container-id-1 div.sk-toggleable__content pre {\n",
       "  margin: 0.2em;\n",
       "  border-radius: 0.25em;\n",
       "  color: var(--sklearn-color-text);\n",
       "  /* unfitted */\n",
       "  background-color: var(--sklearn-color-unfitted-level-0);\n",
       "}\n",
       "\n",
       "#sk-container-id-1 div.sk-toggleable__content.fitted pre {\n",
       "  /* unfitted */\n",
       "  background-color: var(--sklearn-color-fitted-level-0);\n",
       "}\n",
       "\n",
       "#sk-container-id-1 input.sk-toggleable__control:checked~div.sk-toggleable__content {\n",
       "  /* Expand drop-down */\n",
       "  max-height: 200px;\n",
       "  max-width: 100%;\n",
       "  overflow: auto;\n",
       "}\n",
       "\n",
       "#sk-container-id-1 input.sk-toggleable__control:checked~label.sk-toggleable__label-arrow:before {\n",
       "  content: \"▾\";\n",
       "}\n",
       "\n",
       "/* Pipeline/ColumnTransformer-specific style */\n",
       "\n",
       "#sk-container-id-1 div.sk-label input.sk-toggleable__control:checked~label.sk-toggleable__label {\n",
       "  color: var(--sklearn-color-text);\n",
       "  background-color: var(--sklearn-color-unfitted-level-2);\n",
       "}\n",
       "\n",
       "#sk-container-id-1 div.sk-label.fitted input.sk-toggleable__control:checked~label.sk-toggleable__label {\n",
       "  background-color: var(--sklearn-color-fitted-level-2);\n",
       "}\n",
       "\n",
       "/* Estimator-specific style */\n",
       "\n",
       "/* Colorize estimator box */\n",
       "#sk-container-id-1 div.sk-estimator input.sk-toggleable__control:checked~label.sk-toggleable__label {\n",
       "  /* unfitted */\n",
       "  background-color: var(--sklearn-color-unfitted-level-2);\n",
       "}\n",
       "\n",
       "#sk-container-id-1 div.sk-estimator.fitted input.sk-toggleable__control:checked~label.sk-toggleable__label {\n",
       "  /* fitted */\n",
       "  background-color: var(--sklearn-color-fitted-level-2);\n",
       "}\n",
       "\n",
       "#sk-container-id-1 div.sk-label label.sk-toggleable__label,\n",
       "#sk-container-id-1 div.sk-label label {\n",
       "  /* The background is the default theme color */\n",
       "  color: var(--sklearn-color-text-on-default-background);\n",
       "}\n",
       "\n",
       "/* On hover, darken the color of the background */\n",
       "#sk-container-id-1 div.sk-label:hover label.sk-toggleable__label {\n",
       "  color: var(--sklearn-color-text);\n",
       "  background-color: var(--sklearn-color-unfitted-level-2);\n",
       "}\n",
       "\n",
       "/* Label box, darken color on hover, fitted */\n",
       "#sk-container-id-1 div.sk-label.fitted:hover label.sk-toggleable__label.fitted {\n",
       "  color: var(--sklearn-color-text);\n",
       "  background-color: var(--sklearn-color-fitted-level-2);\n",
       "}\n",
       "\n",
       "/* Estimator label */\n",
       "\n",
       "#sk-container-id-1 div.sk-label label {\n",
       "  font-family: monospace;\n",
       "  font-weight: bold;\n",
       "  display: inline-block;\n",
       "  line-height: 1.2em;\n",
       "}\n",
       "\n",
       "#sk-container-id-1 div.sk-label-container {\n",
       "  text-align: center;\n",
       "}\n",
       "\n",
       "/* Estimator-specific */\n",
       "#sk-container-id-1 div.sk-estimator {\n",
       "  font-family: monospace;\n",
       "  border: 1px dotted var(--sklearn-color-border-box);\n",
       "  border-radius: 0.25em;\n",
       "  box-sizing: border-box;\n",
       "  margin-bottom: 0.5em;\n",
       "  /* unfitted */\n",
       "  background-color: var(--sklearn-color-unfitted-level-0);\n",
       "}\n",
       "\n",
       "#sk-container-id-1 div.sk-estimator.fitted {\n",
       "  /* fitted */\n",
       "  background-color: var(--sklearn-color-fitted-level-0);\n",
       "}\n",
       "\n",
       "/* on hover */\n",
       "#sk-container-id-1 div.sk-estimator:hover {\n",
       "  /* unfitted */\n",
       "  background-color: var(--sklearn-color-unfitted-level-2);\n",
       "}\n",
       "\n",
       "#sk-container-id-1 div.sk-estimator.fitted:hover {\n",
       "  /* fitted */\n",
       "  background-color: var(--sklearn-color-fitted-level-2);\n",
       "}\n",
       "\n",
       "/* Specification for estimator info (e.g. \"i\" and \"?\") */\n",
       "\n",
       "/* Common style for \"i\" and \"?\" */\n",
       "\n",
       ".sk-estimator-doc-link,\n",
       "a:link.sk-estimator-doc-link,\n",
       "a:visited.sk-estimator-doc-link {\n",
       "  float: right;\n",
       "  font-size: smaller;\n",
       "  line-height: 1em;\n",
       "  font-family: monospace;\n",
       "  background-color: var(--sklearn-color-background);\n",
       "  border-radius: 1em;\n",
       "  height: 1em;\n",
       "  width: 1em;\n",
       "  text-decoration: none !important;\n",
       "  margin-left: 1ex;\n",
       "  /* unfitted */\n",
       "  border: var(--sklearn-color-unfitted-level-1) 1pt solid;\n",
       "  color: var(--sklearn-color-unfitted-level-1);\n",
       "}\n",
       "\n",
       ".sk-estimator-doc-link.fitted,\n",
       "a:link.sk-estimator-doc-link.fitted,\n",
       "a:visited.sk-estimator-doc-link.fitted {\n",
       "  /* fitted */\n",
       "  border: var(--sklearn-color-fitted-level-1) 1pt solid;\n",
       "  color: var(--sklearn-color-fitted-level-1);\n",
       "}\n",
       "\n",
       "/* On hover */\n",
       "div.sk-estimator:hover .sk-estimator-doc-link:hover,\n",
       ".sk-estimator-doc-link:hover,\n",
       "div.sk-label-container:hover .sk-estimator-doc-link:hover,\n",
       ".sk-estimator-doc-link:hover {\n",
       "  /* unfitted */\n",
       "  background-color: var(--sklearn-color-unfitted-level-3);\n",
       "  color: var(--sklearn-color-background);\n",
       "  text-decoration: none;\n",
       "}\n",
       "\n",
       "div.sk-estimator.fitted:hover .sk-estimator-doc-link.fitted:hover,\n",
       ".sk-estimator-doc-link.fitted:hover,\n",
       "div.sk-label-container:hover .sk-estimator-doc-link.fitted:hover,\n",
       ".sk-estimator-doc-link.fitted:hover {\n",
       "  /* fitted */\n",
       "  background-color: var(--sklearn-color-fitted-level-3);\n",
       "  color: var(--sklearn-color-background);\n",
       "  text-decoration: none;\n",
       "}\n",
       "\n",
       "/* Span, style for the box shown on hovering the info icon */\n",
       ".sk-estimator-doc-link span {\n",
       "  display: none;\n",
       "  z-index: 9999;\n",
       "  position: relative;\n",
       "  font-weight: normal;\n",
       "  right: .2ex;\n",
       "  padding: .5ex;\n",
       "  margin: .5ex;\n",
       "  width: min-content;\n",
       "  min-width: 20ex;\n",
       "  max-width: 50ex;\n",
       "  color: var(--sklearn-color-text);\n",
       "  box-shadow: 2pt 2pt 4pt #999;\n",
       "  /* unfitted */\n",
       "  background: var(--sklearn-color-unfitted-level-0);\n",
       "  border: .5pt solid var(--sklearn-color-unfitted-level-3);\n",
       "}\n",
       "\n",
       ".sk-estimator-doc-link.fitted span {\n",
       "  /* fitted */\n",
       "  background: var(--sklearn-color-fitted-level-0);\n",
       "  border: var(--sklearn-color-fitted-level-3);\n",
       "}\n",
       "\n",
       ".sk-estimator-doc-link:hover span {\n",
       "  display: block;\n",
       "}\n",
       "\n",
       "/* \"?\"-specific style due to the `<a>` HTML tag */\n",
       "\n",
       "#sk-container-id-1 a.estimator_doc_link {\n",
       "  float: right;\n",
       "  font-size: 1rem;\n",
       "  line-height: 1em;\n",
       "  font-family: monospace;\n",
       "  background-color: var(--sklearn-color-background);\n",
       "  border-radius: 1rem;\n",
       "  height: 1rem;\n",
       "  width: 1rem;\n",
       "  text-decoration: none;\n",
       "  /* unfitted */\n",
       "  color: var(--sklearn-color-unfitted-level-1);\n",
       "  border: var(--sklearn-color-unfitted-level-1) 1pt solid;\n",
       "}\n",
       "\n",
       "#sk-container-id-1 a.estimator_doc_link.fitted {\n",
       "  /* fitted */\n",
       "  border: var(--sklearn-color-fitted-level-1) 1pt solid;\n",
       "  color: var(--sklearn-color-fitted-level-1);\n",
       "}\n",
       "\n",
       "/* On hover */\n",
       "#sk-container-id-1 a.estimator_doc_link:hover {\n",
       "  /* unfitted */\n",
       "  background-color: var(--sklearn-color-unfitted-level-3);\n",
       "  color: var(--sklearn-color-background);\n",
       "  text-decoration: none;\n",
       "}\n",
       "\n",
       "#sk-container-id-1 a.estimator_doc_link.fitted:hover {\n",
       "  /* fitted */\n",
       "  background-color: var(--sklearn-color-fitted-level-3);\n",
       "}\n",
       "</style><div id=\"sk-container-id-1\" class=\"sk-top-container\"><div class=\"sk-text-repr-fallback\"><pre>XGBClassifier(base_score=None, booster=None, callbacks=None,\n",
       "              colsample_bylevel=None, colsample_bynode=0.14672783827498995,\n",
       "              colsample_bytree=None, device=None, early_stopping_rounds=None,\n",
       "              enable_categorical=False,\n",
       "              eval_metric=&lt;function custom_f1_score at 0x7f212480c4a0&gt;,\n",
       "              feature_types=None, gamma=None, grow_policy=None,\n",
       "              importance_type=None, interaction_constraints=None,\n",
       "              learning_rate=0.08954997670613858, max_bin=None,\n",
       "              max_cat_threshold=None, max_cat_to_onehot=None,\n",
       "              max_delta_step=None, max_depth=9, max_leaves=None,\n",
       "              min_child_weight=3, missing=nan, monotone_constraints=None,\n",
       "              multi_strategy=None, n_estimators=37, n_jobs=None,\n",
       "              num_parallel_tree=None, objective=&#x27;multi:softprob&#x27;, ...)</pre><b>In a Jupyter environment, please rerun this cell to show the HTML representation or trust the notebook. <br />On GitHub, the HTML representation is unable to render, please try loading this page with nbviewer.org.</b></div><div class=\"sk-container\" hidden><div class=\"sk-item\"><div class=\"sk-estimator fitted sk-toggleable\"><input class=\"sk-toggleable__control sk-hidden--visually\" id=\"sk-estimator-id-1\" type=\"checkbox\" checked><label for=\"sk-estimator-id-1\" class=\"sk-toggleable__label fitted sk-toggleable__label-arrow fitted\">&nbsp;XGBClassifier<span class=\"sk-estimator-doc-link fitted\">i<span>Fitted</span></span></label><div class=\"sk-toggleable__content fitted\"><pre>XGBClassifier(base_score=None, booster=None, callbacks=None,\n",
       "              colsample_bylevel=None, colsample_bynode=0.14672783827498995,\n",
       "              colsample_bytree=None, device=None, early_stopping_rounds=None,\n",
       "              enable_categorical=False,\n",
       "              eval_metric=&lt;function custom_f1_score at 0x7f212480c4a0&gt;,\n",
       "              feature_types=None, gamma=None, grow_policy=None,\n",
       "              importance_type=None, interaction_constraints=None,\n",
       "              learning_rate=0.08954997670613858, max_bin=None,\n",
       "              max_cat_threshold=None, max_cat_to_onehot=None,\n",
       "              max_delta_step=None, max_depth=9, max_leaves=None,\n",
       "              min_child_weight=3, missing=nan, monotone_constraints=None,\n",
       "              multi_strategy=None, n_estimators=37, n_jobs=None,\n",
       "              num_parallel_tree=None, objective=&#x27;multi:softprob&#x27;, ...)</pre></div> </div></div></div></div>"
      ],
      "text/plain": [
       "XGBClassifier(base_score=None, booster=None, callbacks=None,\n",
       "              colsample_bylevel=None, colsample_bynode=0.14672783827498995,\n",
       "              colsample_bytree=None, device=None, early_stopping_rounds=None,\n",
       "              enable_categorical=False,\n",
       "              eval_metric=<function custom_f1_score at 0x7f212480c4a0>,\n",
       "              feature_types=None, gamma=None, grow_policy=None,\n",
       "              importance_type=None, interaction_constraints=None,\n",
       "              learning_rate=0.08954997670613858, max_bin=None,\n",
       "              max_cat_threshold=None, max_cat_to_onehot=None,\n",
       "              max_delta_step=None, max_depth=9, max_leaves=None,\n",
       "              min_child_weight=3, missing=nan, monotone_constraints=None,\n",
       "              multi_strategy=None, n_estimators=37, n_jobs=None,\n",
       "              num_parallel_tree=None, objective='multi:softprob', ...)"
      ]
     },
     "execution_count": 21,
     "metadata": {},
     "output_type": "execute_result"
    }
   ],
   "source": [
    "n_estimators = int(study.best_trial.user_attrs['best_iteration']*1.2)\n",
    "xgb = xgboost.XGBClassifier(\n",
    "        eval_metric=eval_metric,\n",
    "        n_estimators=n_estimators,\n",
    "        **study.best_trial.params\n",
    "    )\n",
    "xgb.fit(\n",
    "    ssp.vstack((X_train, X_val)), \n",
    "    np.concatenate((y_train_enc, y_val_enc)),\n",
    "    verbose=1,\n",
    ")"
   ]
  },
  {
   "cell_type": "code",
   "execution_count": 22,
   "id": "08eb8d02",
   "metadata": {
    "execution": {
     "iopub.execute_input": "2025-05-15T16:16:04.836977Z",
     "iopub.status.busy": "2025-05-15T16:16:04.836443Z",
     "iopub.status.idle": "2025-05-15T16:16:04.852285Z",
     "shell.execute_reply": "2025-05-15T16:16:04.851818Z"
    },
    "papermill": {
     "duration": 0.027483,
     "end_time": "2025-05-15T16:16:04.853261",
     "exception": false,
     "start_time": "2025-05-15T16:16:04.825778",
     "status": "completed"
    },
    "tags": []
   },
   "outputs": [
    {
     "data": {
      "text/plain": [
       "['/scratch_isilon/groups/singlecell/shared/projects/Inflammation-PBMCs-Atlas/03_downstream_analysis/08_gene_importance/xgboost_external_validation/xgboost_TopN_genes/results_20/best_model/Plasma_18_3_xgb.json']"
      ]
     },
     "execution_count": 22,
     "metadata": {},
     "output_type": "execute_result"
    }
   ],
   "source": [
    "out_dir = here(f'03_downstream_analysis/08_gene_importance/xgboost_external_validation/xgboost_TopN_genes/results_{N_GENES}/best_model')\n",
    "\n",
    "if not os.path.exists(out_dir):\n",
    "    os.makedirs(out_dir)\n",
    "    \n",
    "joblib.dump(xgb, os.path.join(out_dir, f'{CELL_TYPE}_{SEED}_{TEST_SPLIT_IDX}_xgb.json'))"
   ]
  },
  {
   "cell_type": "code",
   "execution_count": 23,
   "id": "dc437814",
   "metadata": {
    "execution": {
     "iopub.execute_input": "2025-05-15T16:16:04.874753Z",
     "iopub.status.busy": "2025-05-15T16:16:04.874433Z",
     "iopub.status.idle": "2025-05-15T16:16:04.883148Z",
     "shell.execute_reply": "2025-05-15T16:16:04.882752Z"
    },
    "papermill": {
     "duration": 0.021845,
     "end_time": "2025-05-15T16:16:04.884643",
     "exception": false,
     "start_time": "2025-05-15T16:16:04.862798",
     "status": "completed"
    },
    "tags": []
   },
   "outputs": [],
   "source": [
    "df_pred_test = pd.DataFrame(dict(\n",
    "    cell_id=train_adata.obs.iloc[test_idxs].index.values,\n",
    "    y_true=y_test, \n",
    "    y_true_code=y_test_enc, \n",
    "    y_pred=xgb.predict(X_test))).set_index('cell_id')"
   ]
  },
  {
   "cell_type": "code",
   "execution_count": 24,
   "id": "7f202e79",
   "metadata": {
    "execution": {
     "iopub.execute_input": "2025-05-15T16:16:04.908462Z",
     "iopub.status.busy": "2025-05-15T16:16:04.908084Z",
     "iopub.status.idle": "2025-05-15T16:16:04.923000Z",
     "shell.execute_reply": "2025-05-15T16:16:04.922494Z"
    },
    "papermill": {
     "duration": 0.028564,
     "end_time": "2025-05-15T16:16:04.924609",
     "exception": false,
     "start_time": "2025-05-15T16:16:04.896045",
     "status": "completed"
    },
    "tags": []
   },
   "outputs": [],
   "source": [
    "out_dir = here(f'03_downstream_analysis/08_gene_importance/xgboost_external_validation/xgboost_TopN_genes/results_{N_GENES}/predictions')\n",
    "\n",
    "if not os.path.exists(out_dir):\n",
    "    os.makedirs(out_dir)\n",
    "    \n",
    "df_pred_test.to_csv(os.path.join(out_dir, f'{CELL_TYPE}_{SEED}_{TEST_SPLIT_IDX}_pred_test.zip'))"
   ]
  },
  {
   "cell_type": "code",
   "execution_count": 25,
   "id": "3aac389c",
   "metadata": {
    "execution": {
     "iopub.execute_input": "2025-05-15T16:16:04.948931Z",
     "iopub.status.busy": "2025-05-15T16:16:04.948594Z",
     "iopub.status.idle": "2025-05-15T16:16:04.955741Z",
     "shell.execute_reply": "2025-05-15T16:16:04.955354Z"
    },
    "papermill": {
     "duration": 0.020893,
     "end_time": "2025-05-15T16:16:04.957009",
     "exception": false,
     "start_time": "2025-05-15T16:16:04.936116",
     "status": "completed"
    },
    "tags": []
   },
   "outputs": [],
   "source": [
    "metrics_dict = dict(\n",
    "    BAS=balanced_accuracy_score(y_true=df_pred_test.y_true_code, y_pred=df_pred_test.y_pred), WF1=f1_score(y_true=df_pred_test.y_true_code, y_pred=df_pred_test.y_pred,average='weighted'))"
   ]
  },
  {
   "cell_type": "code",
   "execution_count": 26,
   "id": "458d28a6",
   "metadata": {
    "execution": {
     "iopub.execute_input": "2025-05-15T16:16:04.989926Z",
     "iopub.status.busy": "2025-05-15T16:16:04.989612Z",
     "iopub.status.idle": "2025-05-15T16:16:04.993280Z",
     "shell.execute_reply": "2025-05-15T16:16:04.992937Z"
    },
    "papermill": {
     "duration": 0.025931,
     "end_time": "2025-05-15T16:16:04.994220",
     "exception": false,
     "start_time": "2025-05-15T16:16:04.968289",
     "status": "completed"
    },
    "tags": []
   },
   "outputs": [
    {
     "data": {
      "text/plain": [
       "{'BAS': 0.3304195804195804, 'WF1': 0.5810097123228436}"
      ]
     },
     "execution_count": 26,
     "metadata": {},
     "output_type": "execute_result"
    }
   ],
   "source": [
    "metrics_dict"
   ]
  },
  {
   "cell_type": "code",
   "execution_count": 27,
   "id": "7e27e85c",
   "metadata": {
    "execution": {
     "iopub.execute_input": "2025-05-15T16:16:05.017976Z",
     "iopub.status.busy": "2025-05-15T16:16:05.017607Z",
     "iopub.status.idle": "2025-05-15T16:16:05.027776Z",
     "shell.execute_reply": "2025-05-15T16:16:05.027405Z"
    },
    "papermill": {
     "duration": 0.0233,
     "end_time": "2025-05-15T16:16:05.028719",
     "exception": false,
     "start_time": "2025-05-15T16:16:05.005419",
     "status": "completed"
    },
    "tags": []
   },
   "outputs": [
    {
     "data": {
      "text/html": [
       "<div>\n",
       "<style scoped>\n",
       "    .dataframe tbody tr th:only-of-type {\n",
       "        vertical-align: middle;\n",
       "    }\n",
       "\n",
       "    .dataframe tbody tr th {\n",
       "        vertical-align: top;\n",
       "    }\n",
       "\n",
       "    .dataframe thead th {\n",
       "        text-align: right;\n",
       "    }\n",
       "</style>\n",
       "<table border=\"1\" class=\"dataframe\">\n",
       "  <thead>\n",
       "    <tr style=\"text-align: right;\">\n",
       "      <th></th>\n",
       "      <th>BAS</th>\n",
       "      <th>WF1</th>\n",
       "      <th>split_idx</th>\n",
       "      <th>gene_set_seed</th>\n",
       "      <th>cell_type</th>\n",
       "    </tr>\n",
       "  </thead>\n",
       "  <tbody>\n",
       "    <tr>\n",
       "      <th>0</th>\n",
       "      <td>0.33042</td>\n",
       "      <td>0.58101</td>\n",
       "      <td>3</td>\n",
       "      <td>18</td>\n",
       "      <td>Plasma</td>\n",
       "    </tr>\n",
       "  </tbody>\n",
       "</table>\n",
       "</div>"
      ],
      "text/plain": [
       "       BAS      WF1  split_idx  gene_set_seed cell_type\n",
       "0  0.33042  0.58101          3             18    Plasma"
      ]
     },
     "execution_count": 27,
     "metadata": {},
     "output_type": "execute_result"
    }
   ],
   "source": [
    "metrics_df = pd.DataFrame.from_dict([metrics_dict]).assign(split_idx=TEST_SPLIT_IDX, gene_set_seed=SEED, cell_type=CELL_TYPE)\n",
    "metrics_df"
   ]
  },
  {
   "cell_type": "code",
   "execution_count": 28,
   "id": "b5a65733",
   "metadata": {
    "execution": {
     "iopub.execute_input": "2025-05-15T16:16:05.052175Z",
     "iopub.status.busy": "2025-05-15T16:16:05.051695Z",
     "iopub.status.idle": "2025-05-15T16:16:05.061396Z",
     "shell.execute_reply": "2025-05-15T16:16:05.060936Z"
    },
    "papermill": {
     "duration": 0.021871,
     "end_time": "2025-05-15T16:16:05.062367",
     "exception": false,
     "start_time": "2025-05-15T16:16:05.040496",
     "status": "completed"
    },
    "tags": []
   },
   "outputs": [],
   "source": [
    "out_dir = here(f'03_downstream_analysis/08_gene_importance/xgboost_external_validation/xgboost_TopN_genes/results_{N_GENES}/metrics')\n",
    "\n",
    "if not os.path.exists(out_dir):\n",
    "    os.makedirs(out_dir)\n",
    "    \n",
    "metrics_df.to_csv(os.path.join(out_dir, f'{CELL_TYPE}_{SEED}_{TEST_SPLIT_IDX}_metrics.zip'))"
   ]
  }
 ],
 "metadata": {
  "kernelspec": {
   "display_name": "Python 3 (ipykernel)",
   "language": "python",
   "name": "python3"
  },
  "language_info": {
   "codemirror_mode": {
    "name": "ipython",
    "version": 3
   },
   "file_extension": ".py",
   "mimetype": "text/x-python",
   "name": "python",
   "nbconvert_exporter": "python",
   "pygments_lexer": "ipython3",
   "version": "3.12.5"
  },
  "papermill": {
   "default_parameters": {},
   "duration": 17.909092,
   "end_time": "2025-05-15T16:16:05.889564",
   "environment_variables": {},
   "exception": null,
   "input_path": "02_xgboost_fitting_external_20genes.ipynb",
   "output_path": "results_20/executed_notebooks/xgboost_fitting_external_CT_Plasma_GS_18_seed3.ipynb",
   "parameters": {
    "CELL_TYPE": "Plasma",
    "SEED": 18,
    "TEST_SPLIT_IDX": 3
   },
   "start_time": "2025-05-15T16:15:47.980472",
   "version": "2.6.0"
  }
 },
 "nbformat": 4,
 "nbformat_minor": 5
}