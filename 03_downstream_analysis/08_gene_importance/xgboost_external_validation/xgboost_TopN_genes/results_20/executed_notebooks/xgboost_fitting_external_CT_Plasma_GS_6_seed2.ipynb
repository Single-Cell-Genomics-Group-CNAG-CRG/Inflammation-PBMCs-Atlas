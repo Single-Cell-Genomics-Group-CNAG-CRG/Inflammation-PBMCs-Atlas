{
 "cells": [
  {
   "cell_type": "code",
   "execution_count": 1,
   "id": "ed748499",
   "metadata": {
    "editable": true,
    "execution": {
     "iopub.execute_input": "2025-05-15T16:15:31.817237Z",
     "iopub.status.busy": "2025-05-15T16:15:31.817055Z",
     "iopub.status.idle": "2025-05-15T16:15:31.819721Z",
     "shell.execute_reply": "2025-05-15T16:15:31.819425Z"
    },
    "papermill": {
     "duration": 0.011193,
     "end_time": "2025-05-15T16:15:31.820641",
     "exception": false,
     "start_time": "2025-05-15T16:15:31.809448",
     "status": "completed"
    },
    "slideshow": {
     "slide_type": ""
    },
    "tags": [
     "parameters"
    ]
   },
   "outputs": [],
   "source": [
    "CELL_TYPE = 'pDC'\n",
    "N_GENES: int = 20\n",
    "SEED = 'shap_studyID' #'disease_NOstudy' 'study_NOdisease' or 'int' or 'shap_studyID'\n",
    "TEST_SPLIT_IDX: int = 1 #[0,4]"
   ]
  },
  {
   "cell_type": "code",
   "execution_count": 2,
   "id": "33eb6000",
   "metadata": {
    "execution": {
     "iopub.execute_input": "2025-05-15T16:15:31.832834Z",
     "iopub.status.busy": "2025-05-15T16:15:31.832575Z",
     "iopub.status.idle": "2025-05-15T16:15:31.834779Z",
     "shell.execute_reply": "2025-05-15T16:15:31.834460Z"
    },
    "papermill": {
     "duration": 0.009203,
     "end_time": "2025-05-15T16:15:31.835604",
     "exception": false,
     "start_time": "2025-05-15T16:15:31.826401",
     "status": "completed"
    },
    "tags": [
     "injected-parameters"
    ]
   },
   "outputs": [],
   "source": [
    "# Parameters\n",
    "CELL_TYPE = \"Plasma\"\n",
    "SEED = 6\n",
    "TEST_SPLIT_IDX = 2\n"
   ]
  },
  {
   "cell_type": "code",
   "execution_count": 3,
   "id": "3fab18a8",
   "metadata": {
    "execution": {
     "iopub.execute_input": "2025-05-15T16:15:31.846778Z",
     "iopub.status.busy": "2025-05-15T16:15:31.846538Z",
     "iopub.status.idle": "2025-05-15T16:15:31.849045Z",
     "shell.execute_reply": "2025-05-15T16:15:31.848658Z"
    },
    "papermill": {
     "duration": 0.009076,
     "end_time": "2025-05-15T16:15:31.849945",
     "exception": false,
     "start_time": "2025-05-15T16:15:31.840869",
     "status": "completed"
    },
    "tags": []
   },
   "outputs": [],
   "source": [
    "N_SPLITS: int = 5\n",
    "N_TRIALS: int = 50"
   ]
  },
  {
   "cell_type": "code",
   "execution_count": 4,
   "id": "a004e705",
   "metadata": {
    "execution": {
     "iopub.execute_input": "2025-05-15T16:15:31.883978Z",
     "iopub.status.busy": "2025-05-15T16:15:31.883570Z",
     "iopub.status.idle": "2025-05-15T16:15:33.457610Z",
     "shell.execute_reply": "2025-05-15T16:15:33.457120Z"
    },
    "papermill": {
     "duration": 1.582235,
     "end_time": "2025-05-15T16:15:33.458988",
     "exception": false,
     "start_time": "2025-05-15T16:15:31.876753",
     "status": "completed"
    },
    "tags": []
   },
   "outputs": [],
   "source": [
    "import os\n",
    "import sys\n",
    "from pyprojroot.here import here\n",
    "import pandas as pd\n",
    "import anndata as ad\n",
    "import numpy as np\n",
    "import math\n",
    "from sklearn.model_selection import StratifiedGroupKFold\n",
    "from sklearn.preprocessing import LabelEncoder\n",
    "from sklearn.metrics import f1_score\n",
    "import matplotlib.pyplot as plt\n",
    "import seaborn as sns\n",
    "from itertools import product\n",
    "from sklearn.metrics import balanced_accuracy_score, f1_score\n",
    "import optuna\n",
    "\n",
    "import joblib\n",
    "import pickle\n",
    "import datetime\n",
    "\n",
    "import collections\n",
    "\n",
    "import xgboost\n",
    "from sklearn.preprocessing import LabelEncoder\n",
    "\n",
    "import scipy.sparse as ssp\n",
    "import joblib\n",
    "\n",
    "from dotenv import load_dotenv"
   ]
  },
  {
   "cell_type": "code",
   "execution_count": 5,
   "id": "fc009555",
   "metadata": {
    "execution": {
     "iopub.execute_input": "2025-05-15T16:15:33.471249Z",
     "iopub.status.busy": "2025-05-15T16:15:33.470908Z",
     "iopub.status.idle": "2025-05-15T16:15:33.477255Z",
     "shell.execute_reply": "2025-05-15T16:15:33.476948Z"
    },
    "papermill": {
     "duration": 0.013102,
     "end_time": "2025-05-15T16:15:33.478099",
     "exception": false,
     "start_time": "2025-05-15T16:15:33.464997",
     "status": "completed"
    },
    "tags": []
   },
   "outputs": [
    {
     "data": {
      "text/plain": [
       "True"
      ]
     },
     "execution_count": 5,
     "metadata": {},
     "output_type": "execute_result"
    }
   ],
   "source": [
    "load_dotenv()"
   ]
  },
  {
   "cell_type": "markdown",
   "id": "b73706f5",
   "metadata": {
    "papermill": {
     "duration": 0.005384,
     "end_time": "2025-05-15T16:15:33.498009",
     "exception": false,
     "start_time": "2025-05-15T16:15:33.492625",
     "status": "completed"
    },
    "tags": []
   },
   "source": [
    "# LOAD DATASET"
   ]
  },
  {
   "cell_type": "code",
   "execution_count": 6,
   "id": "116cbc43",
   "metadata": {
    "execution": {
     "iopub.execute_input": "2025-05-15T16:15:33.509898Z",
     "iopub.status.busy": "2025-05-15T16:15:33.509590Z",
     "iopub.status.idle": "2025-05-15T16:15:33.549227Z",
     "shell.execute_reply": "2025-05-15T16:15:33.548678Z"
    },
    "papermill": {
     "duration": 0.046825,
     "end_time": "2025-05-15T16:15:33.550324",
     "exception": false,
     "start_time": "2025-05-15T16:15:33.503499",
     "status": "completed"
    },
    "tags": []
   },
   "outputs": [],
   "source": [
    "train_adata = ad.read_h5ad(\n",
    "    here(f'03_downstream_analysis/08_gene_importance/xgboost_external_validation/xgboost_TopN_genes/data_cellTypes/EXTERNAL_{CELL_TYPE}.filtered.log1p.h5ad')\n",
    ")"
   ]
  },
  {
   "cell_type": "code",
   "execution_count": 7,
   "id": "7acf7f0a",
   "metadata": {
    "execution": {
     "iopub.execute_input": "2025-05-15T16:15:33.562093Z",
     "iopub.status.busy": "2025-05-15T16:15:33.561873Z",
     "iopub.status.idle": "2025-05-15T16:15:33.571492Z",
     "shell.execute_reply": "2025-05-15T16:15:33.571180Z"
    },
    "papermill": {
     "duration": 0.016407,
     "end_time": "2025-05-15T16:15:33.572371",
     "exception": false,
     "start_time": "2025-05-15T16:15:33.555964",
     "status": "completed"
    },
    "tags": []
   },
   "outputs": [
    {
     "name": "stdout",
     "output_type": "stream",
     "text": [
      "['ENSG00000163131' 'ENSG00000138778' 'ENSG00000275302' 'ENSG00000115073'\n",
      " 'ENSG00000173757' 'ENSG00000131981' 'ENSG00000153064' 'ENSG00000030582'\n",
      " 'ENSG00000133639' 'ENSG00000160888' 'ENSG00000239713' 'ENSG00000121858'\n",
      " 'ENSG00000119535' 'ENSG00000135720' 'ENSG00000179094' 'ENSG00000176986'\n",
      " 'ENSG00000137965' 'ENSG00000096996' 'ENSG00000142546' 'ENSG00000196126'\n",
      " 'ENSG00000130724' 'ENSG00000277734' 'ENSG00000168811' 'ENSG00000159128'\n",
      " 'ENSG00000164543' 'ENSG00000186010' 'ENSG00000114861' 'ENSG00000120742'\n",
      " 'ENSG00000137331' 'ENSG00000125743' 'ENSG00000155380' 'ENSG00000100934'\n",
      " 'ENSG00000113732' 'ENSG00000089327' 'ENSG00000197747' 'ENSG00000126524'\n",
      " 'ENSG00000140564' 'ENSG00000164136' 'ENSG00000081059' 'ENSG00000141506'\n",
      " 'ENSG00000204642' 'ENSG00000110848' 'ENSG00000002586' 'ENSG00000142669'\n",
      " 'ENSG00000100100' 'ENSG00000105374' 'ENSG00000079616' 'ENSG00000066136'\n",
      " 'ENSG00000185201' 'ENSG00000177556' 'ENSG00000189067' 'ENSG00000175768'\n",
      " 'ENSG00000089280' 'ENSG00000127951' 'ENSG00000138107' 'ENSG00000197471'\n",
      " 'ENSG00000168461' 'ENSG00000135114' 'ENSG00000197746' 'ENSG00000180008'\n",
      " 'ENSG00000185436' 'ENSG00000111678' 'ENSG00000030110' 'ENSG00000059728'\n",
      " 'ENSG00000188404' 'ENSG00000183696' 'ENSG00000242574' 'ENSG00000114423'\n",
      " 'ENSG00000127022' 'ENSG00000106367' 'ENSG00000167004' 'ENSG00000197965'\n",
      " 'ENSG00000104689' 'ENSG00000100453' 'ENSG00000107968' 'ENSG00000142634'\n",
      " 'ENSG00000165280' 'ENSG00000169554' 'ENSG00000101608' 'ENSG00000178719'\n",
      " 'ENSG00000170296' 'ENSG00000140264' 'ENSG00000240065' 'ENSG00000163563'\n",
      " 'ENSG00000171476' 'ENSG00000142089' 'ENSG00000196396' 'ENSG00000131143'\n",
      " 'ENSG00000180644' 'ENSG00000167552' 'ENSG00000162434' 'ENSG00000120129'\n",
      " 'ENSG00000158769' 'ENSG00000123268' 'ENSG00000161203' 'ENSG00000130522'\n",
      " 'ENSG00000175482' 'ENSG00000143543' 'ENSG00000172531' 'ENSG00000138378'\n",
      " 'ENSG00000122862' 'ENSG00000107223' 'ENSG00000004468' 'ENSG00000123358'\n",
      " 'ENSG00000111640' 'ENSG00000136003' 'ENSG00000009790']\n"
     ]
    }
   ],
   "source": [
    "if SEED != 'all':\n",
    "    gene_subset = np.load(here(f'03_downstream_analysis/08_gene_importance/xgboost_external_validation/shap_gene_selection/gene_subsets_{N_GENES}/{CELL_TYPE}_{SEED}.npy'), allow_pickle=True)\n",
    "    train_adata = train_adata[:,gene_subset]\n",
    "    print(gene_subset)\n",
    "elif SEED == 'all':\n",
    "    print('Using all genes')\n",
    "else:\n",
    "    raise ValueError()"
   ]
  },
  {
   "cell_type": "code",
   "execution_count": 8,
   "id": "acff47be",
   "metadata": {
    "execution": {
     "iopub.execute_input": "2025-05-15T16:15:33.584252Z",
     "iopub.status.busy": "2025-05-15T16:15:33.583887Z",
     "iopub.status.idle": "2025-05-15T16:15:33.588036Z",
     "shell.execute_reply": "2025-05-15T16:15:33.587700Z"
    },
    "papermill": {
     "duration": 0.011047,
     "end_time": "2025-05-15T16:15:33.588837",
     "exception": false,
     "start_time": "2025-05-15T16:15:33.577790",
     "status": "completed"
    },
    "tags": []
   },
   "outputs": [
    {
     "data": {
      "text/plain": [
       "(542, 107)"
      ]
     },
     "execution_count": 8,
     "metadata": {},
     "output_type": "execute_result"
    }
   ],
   "source": [
    "train_adata.shape"
   ]
  },
  {
   "cell_type": "code",
   "execution_count": 9,
   "id": "f38fd3a8",
   "metadata": {
    "execution": {
     "iopub.execute_input": "2025-05-15T16:15:33.601537Z",
     "iopub.status.busy": "2025-05-15T16:15:33.601359Z",
     "iopub.status.idle": "2025-05-15T16:15:33.604889Z",
     "shell.execute_reply": "2025-05-15T16:15:33.604590Z"
    },
    "papermill": {
     "duration": 0.010995,
     "end_time": "2025-05-15T16:15:33.605696",
     "exception": false,
     "start_time": "2025-05-15T16:15:33.594701",
     "status": "completed"
    },
    "tags": []
   },
   "outputs": [
    {
     "data": {
      "text/plain": [
       "['RA', 'COVID', 'healthy', 'HIV', 'cirrhosis', 'CD', 'SLE', 'sepsis']\n",
       "Categories (8, object): ['CD', 'COVID', 'HIV', 'RA', 'SLE', 'cirrhosis', 'healthy', 'sepsis']"
      ]
     },
     "execution_count": 9,
     "metadata": {},
     "output_type": "execute_result"
    }
   ],
   "source": [
    "train_adata.obs.disease.unique()"
   ]
  },
  {
   "cell_type": "code",
   "execution_count": 10,
   "id": "079cbb81",
   "metadata": {
    "execution": {
     "iopub.execute_input": "2025-05-15T16:15:33.635580Z",
     "iopub.status.busy": "2025-05-15T16:15:33.635443Z",
     "iopub.status.idle": "2025-05-15T16:15:33.639576Z",
     "shell.execute_reply": "2025-05-15T16:15:33.639278Z"
    },
    "papermill": {
     "duration": 0.02878,
     "end_time": "2025-05-15T16:15:33.640460",
     "exception": false,
     "start_time": "2025-05-15T16:15:33.611680",
     "status": "completed"
    },
    "tags": []
   },
   "outputs": [
    {
     "data": {
      "text/plain": [
       "['SCGT00val_I0364_T0', 'SCGT00val_I036019_T0', 'SCGT00val_I036028_T0', 'SCGT00val_I036024_T0', 'SCGT00val_I036016_T0', ..., '10XGenomics_10XHC2_T0', '10XGenomics_10XHC3_T0', '10XGenomics_10XHC5_T0', '10XGenomics_10XHC7_T0', '10XGenomics_10XHC8_T0']\n",
       "Length: 74\n",
       "Categories (74, object): ['10XGenomics_10XHC1_T0', '10XGenomics_10XHC2_T0', '10XGenomics_10XHC3_T0', '10XGenomics_10XHC4_T0', ..., 'Savage2021_BRISL6_T0', 'Savage2021_BRISL7_T0', 'Savage2021_PIDA_T0', 'Savage2021_PIDB_T0']"
      ]
     },
     "execution_count": 10,
     "metadata": {},
     "output_type": "execute_result"
    }
   ],
   "source": [
    "train_adata.obs.sampleID.unique()"
   ]
  },
  {
   "cell_type": "code",
   "execution_count": 11,
   "id": "11df3694",
   "metadata": {
    "execution": {
     "iopub.execute_input": "2025-05-15T16:15:33.652699Z",
     "iopub.status.busy": "2025-05-15T16:15:33.652428Z",
     "iopub.status.idle": "2025-05-15T16:15:33.681297Z",
     "shell.execute_reply": "2025-05-15T16:15:33.680882Z"
    },
    "papermill": {
     "duration": 0.03569,
     "end_time": "2025-05-15T16:15:33.682154",
     "exception": false,
     "start_time": "2025-05-15T16:15:33.646464",
     "status": "completed"
    },
    "tags": []
   },
   "outputs": [],
   "source": [
    "all_idxs = np.arange(train_adata.obs.shape[0])\n",
    "left_out_splits = [s[1] for s in StratifiedGroupKFold(n_splits=N_SPLITS).split(all_idxs, train_adata.obs.disease, train_adata.obs.sampleID)]"
   ]
  },
  {
   "cell_type": "code",
   "execution_count": 12,
   "id": "a0ba4eab",
   "metadata": {
    "execution": {
     "iopub.execute_input": "2025-05-15T16:15:33.694154Z",
     "iopub.status.busy": "2025-05-15T16:15:33.693973Z",
     "iopub.status.idle": "2025-05-15T16:15:33.697259Z",
     "shell.execute_reply": "2025-05-15T16:15:33.696940Z"
    },
    "papermill": {
     "duration": 0.010329,
     "end_time": "2025-05-15T16:15:33.698131",
     "exception": false,
     "start_time": "2025-05-15T16:15:33.687802",
     "status": "completed"
    },
    "tags": []
   },
   "outputs": [
    {
     "data": {
      "text/plain": [
       "([0, 1, 4], 3, 2)"
      ]
     },
     "execution_count": 12,
     "metadata": {},
     "output_type": "execute_result"
    }
   ],
   "source": [
    "TRAIN_SPLIT_IDXS = [0,1,2,3,4]\n",
    "VAL_SPLIT_IDX = (TEST_SPLIT_IDX + 1) % 5\n",
    "TRAIN_SPLIT_IDXS.remove(TEST_SPLIT_IDX)\n",
    "TRAIN_SPLIT_IDXS.remove(VAL_SPLIT_IDX)\n",
    "TRAIN_SPLIT_IDXS, VAL_SPLIT_IDX, TEST_SPLIT_IDX"
   ]
  },
  {
   "cell_type": "code",
   "execution_count": 13,
   "id": "73d9f1b3",
   "metadata": {
    "execution": {
     "iopub.execute_input": "2025-05-15T16:15:33.710777Z",
     "iopub.status.busy": "2025-05-15T16:15:33.710485Z",
     "iopub.status.idle": "2025-05-15T16:15:33.712874Z",
     "shell.execute_reply": "2025-05-15T16:15:33.712582Z"
    },
    "papermill": {
     "duration": 0.009835,
     "end_time": "2025-05-15T16:15:33.713719",
     "exception": false,
     "start_time": "2025-05-15T16:15:33.703884",
     "status": "completed"
    },
    "tags": []
   },
   "outputs": [],
   "source": [
    "train_idxs = np.concatenate([left_out_splits[idx] for idx in TRAIN_SPLIT_IDXS])\n",
    "val_idxs = left_out_splits[VAL_SPLIT_IDX]\n",
    "test_idxs = left_out_splits[TEST_SPLIT_IDX]"
   ]
  },
  {
   "cell_type": "markdown",
   "id": "88746e94",
   "metadata": {
    "papermill": {
     "duration": 0.005696,
     "end_time": "2025-05-15T16:15:33.738152",
     "exception": false,
     "start_time": "2025-05-15T16:15:33.732456",
     "status": "completed"
    },
    "tags": []
   },
   "source": [
    "### SUBSET DATASET INTO TRAIN/TEST/VAL SPLITS"
   ]
  },
  {
   "cell_type": "code",
   "execution_count": 14,
   "id": "d26a6012",
   "metadata": {
    "execution": {
     "iopub.execute_input": "2025-05-15T16:15:33.750300Z",
     "iopub.status.busy": "2025-05-15T16:15:33.750131Z",
     "iopub.status.idle": "2025-05-15T16:15:33.756716Z",
     "shell.execute_reply": "2025-05-15T16:15:33.756385Z"
    },
    "papermill": {
     "duration": 0.013511,
     "end_time": "2025-05-15T16:15:33.757555",
     "exception": false,
     "start_time": "2025-05-15T16:15:33.744044",
     "status": "completed"
    },
    "tags": []
   },
   "outputs": [
    {
     "data": {
      "text/plain": [
       "((341, 107), (102, 107), (99, 107))"
      ]
     },
     "execution_count": 14,
     "metadata": {},
     "output_type": "execute_result"
    }
   ],
   "source": [
    "X_train = train_adata.X[train_idxs]\n",
    "X_test = train_adata.X[test_idxs]\n",
    "X_val = train_adata.X[val_idxs]\n",
    "X_train.shape, X_test.shape, X_val.shape"
   ]
  },
  {
   "cell_type": "code",
   "execution_count": 15,
   "id": "230699b6",
   "metadata": {
    "execution": {
     "iopub.execute_input": "2025-05-15T16:15:33.769749Z",
     "iopub.status.busy": "2025-05-15T16:15:33.769116Z",
     "iopub.status.idle": "2025-05-15T16:15:33.774076Z",
     "shell.execute_reply": "2025-05-15T16:15:33.773759Z"
    },
    "papermill": {
     "duration": 0.01197,
     "end_time": "2025-05-15T16:15:33.774915",
     "exception": false,
     "start_time": "2025-05-15T16:15:33.762945",
     "status": "completed"
    },
    "tags": []
   },
   "outputs": [
    {
     "data": {
      "text/plain": [
       "((341,), (102,), (99,))"
      ]
     },
     "execution_count": 15,
     "metadata": {},
     "output_type": "execute_result"
    }
   ],
   "source": [
    "y_train = train_adata.obs.iloc[train_idxs].disease.values.astype(str)\n",
    "y_test = train_adata.obs.iloc[test_idxs].disease.values.astype(str)\n",
    "y_val = train_adata.obs.iloc[val_idxs].disease.values.astype(str)\n",
    "y_train.shape, y_test.shape, y_val.shape"
   ]
  },
  {
   "cell_type": "code",
   "execution_count": 16,
   "id": "b8d955ec",
   "metadata": {
    "execution": {
     "iopub.execute_input": "2025-05-15T16:15:33.788049Z",
     "iopub.status.busy": "2025-05-15T16:15:33.787870Z",
     "iopub.status.idle": "2025-05-15T16:15:33.790623Z",
     "shell.execute_reply": "2025-05-15T16:15:33.790323Z"
    },
    "papermill": {
     "duration": 0.009885,
     "end_time": "2025-05-15T16:15:33.791492",
     "exception": false,
     "start_time": "2025-05-15T16:15:33.781607",
     "status": "completed"
    },
    "tags": []
   },
   "outputs": [],
   "source": [
    "lenc = LabelEncoder()\n",
    "y_train_enc = lenc.fit_transform(y_train)\n",
    "y_val_enc = lenc.transform(y_val)\n",
    "y_test_enc = lenc.transform(y_test)"
   ]
  },
  {
   "cell_type": "markdown",
   "id": "8a35272a",
   "metadata": {
    "papermill": {
     "duration": 0.006243,
     "end_time": "2025-05-15T16:15:33.804025",
     "exception": false,
     "start_time": "2025-05-15T16:15:33.797782",
     "status": "completed"
    },
    "tags": []
   },
   "source": [
    "### GENERATE F1 "
   ]
  },
  {
   "cell_type": "code",
   "execution_count": 17,
   "id": "01f0807f",
   "metadata": {
    "execution": {
     "iopub.execute_input": "2025-05-15T16:15:33.816881Z",
     "iopub.status.busy": "2025-05-15T16:15:33.816418Z",
     "iopub.status.idle": "2025-05-15T16:15:33.818835Z",
     "shell.execute_reply": "2025-05-15T16:15:33.818526Z"
    },
    "papermill": {
     "duration": 0.009784,
     "end_time": "2025-05-15T16:15:33.819660",
     "exception": false,
     "start_time": "2025-05-15T16:15:33.809876",
     "status": "completed"
    },
    "tags": []
   },
   "outputs": [],
   "source": [
    "def custom_f1_score(y_true, y_pred):\n",
    "    return -f1_score(y_true, y_pred.argmax(1), average='weighted')"
   ]
  },
  {
   "cell_type": "code",
   "execution_count": 18,
   "id": "1b4ec295",
   "metadata": {
    "execution": {
     "iopub.execute_input": "2025-05-15T16:15:33.850692Z",
     "iopub.status.busy": "2025-05-15T16:15:33.850497Z",
     "iopub.status.idle": "2025-05-15T16:15:33.854310Z",
     "shell.execute_reply": "2025-05-15T16:15:33.854005Z"
    },
    "papermill": {
     "duration": 0.026129,
     "end_time": "2025-05-15T16:15:33.855143",
     "exception": false,
     "start_time": "2025-05-15T16:15:33.829014",
     "status": "completed"
    },
    "tags": []
   },
   "outputs": [],
   "source": [
    "eval_metric=custom_f1_score\n",
    "eval_metric_name='custom_f1_score'\n",
    "\n",
    "def objective(trial):\n",
    "    params = {\n",
    "        'n_estimators': 1500,\n",
    "        'max_depth': trial.suggest_int('max_depth', 3, 20),\n",
    "        'min_child_weight': trial.suggest_int('min_child_weight', 1, 250),\n",
    "        'subsample': trial.suggest_float('subsample', 0.1, 1.0),\n",
    "        'colsample_bynode': trial.suggest_float('colsample_bynode', 0.1, 1.0),\n",
    "        'learning_rate': trial.suggest_float('learning_rate', 1e-3, 5e-1, log=True),\n",
    "    }\n",
    "    pruning_callback = optuna.integration.XGBoostPruningCallback(trial, f'validation_0-{eval_metric_name}')\n",
    "    es_callback = xgboost.callback.EarlyStopping(20, min_delta=0.001)\n",
    "    xgb = xgboost.XGBClassifier(\n",
    "        eval_metric=eval_metric,\n",
    "        callbacks=[pruning_callback, es_callback],\n",
    "        n_jobs=5,\n",
    "        **params\n",
    "    )\n",
    "    xgb.fit(\n",
    "        X_train, \n",
    "        y_train_enc, \n",
    "        verbose=0,\n",
    "        eval_set=[(X_val, y_val_enc)],\n",
    "    )\n",
    "    trial.set_user_attr('best_iteration', xgb.best_iteration)\n",
    "\n",
    "    return xgb.best_score"
   ]
  },
  {
   "cell_type": "code",
   "execution_count": 19,
   "id": "186c5e6f",
   "metadata": {
    "execution": {
     "iopub.execute_input": "2025-05-15T16:15:33.867941Z",
     "iopub.status.busy": "2025-05-15T16:15:33.867751Z",
     "iopub.status.idle": "2025-05-15T16:15:58.002659Z",
     "shell.execute_reply": "2025-05-15T16:15:58.001946Z"
    },
    "papermill": {
     "duration": 24.142522,
     "end_time": "2025-05-15T16:15:58.003669",
     "exception": false,
     "start_time": "2025-05-15T16:15:33.861147",
     "status": "completed"
    },
    "scrolled": true,
    "tags": []
   },
   "outputs": [
    {
     "name": "stderr",
     "output_type": "stream",
     "text": [
      "[I 2025-05-15 18:15:33,869] A new study created in memory with name: no-name-5180aa47-5cbd-4a74-8104-e131b5b597b8\n"
     ]
    },
    {
     "name": "stderr",
     "output_type": "stream",
     "text": [
      "[I 2025-05-15 18:15:47,386] Trial 0 finished with value: -0.022222 and parameters: {'max_depth': 9, 'min_child_weight': 238, 'subsample': 0.7587945476302645, 'colsample_bynode': 0.6387926357773329, 'learning_rate': 0.0026368755339723046}. Best is trial 0 with value: -0.022222.\n"
     ]
    },
    {
     "name": "stderr",
     "output_type": "stream",
     "text": [
      "[I 2025-05-15 18:15:47,855] Trial 1 finished with value: -0.628096 and parameters: {'max_depth': 5, 'min_child_weight': 15, 'subsample': 0.8795585311974417, 'colsample_bynode': 0.6410035105688879, 'learning_rate': 0.08148293210105287}. Best is trial 1 with value: -0.628096.\n"
     ]
    },
    {
     "name": "stderr",
     "output_type": "stream",
     "text": [
      "[I 2025-05-15 18:15:47,997] Trial 2 finished with value: -0.022222 and parameters: {'max_depth': 3, 'min_child_weight': 243, 'subsample': 0.8491983767203796, 'colsample_bynode': 0.29110519961044856, 'learning_rate': 0.003095566460242371}. Best is trial 1 with value: -0.628096.\n"
     ]
    },
    {
     "name": "stderr",
     "output_type": "stream",
     "text": [
      "[I 2025-05-15 18:15:48,135] Trial 3 finished with value: -0.022222 and parameters: {'max_depth': 6, 'min_child_weight': 77, 'subsample': 0.5722807884690141, 'colsample_bynode': 0.48875051677790415, 'learning_rate': 0.006109683510122491}. Best is trial 1 with value: -0.628096.\n"
     ]
    },
    {
     "name": "stderr",
     "output_type": "stream",
     "text": [
      "[I 2025-05-15 18:15:48,280] Trial 4 finished with value: -0.022222 and parameters: {'max_depth': 14, 'min_child_weight': 35, 'subsample': 0.3629301836816964, 'colsample_bynode': 0.4297256589643226, 'learning_rate': 0.01701841881702917}. Best is trial 1 with value: -0.628096.\n"
     ]
    },
    {
     "name": "stderr",
     "output_type": "stream",
     "text": [
      "[I 2025-05-15 18:15:48,421] Trial 5 finished with value: -0.022222 and parameters: {'max_depth': 17, 'min_child_weight': 50, 'subsample': 0.5628109945722505, 'colsample_bynode': 0.6331731119758383, 'learning_rate': 0.0013346527038305934}. Best is trial 1 with value: -0.628096.\n"
     ]
    },
    {
     "name": "stderr",
     "output_type": "stream",
     "text": [
      "[I 2025-05-15 18:15:48,562] Trial 6 pruned. Trial was pruned at iteration 20.\n"
     ]
    },
    {
     "name": "stderr",
     "output_type": "stream",
     "text": [
      "[I 2025-05-15 18:15:48,710] Trial 7 finished with value: -0.022222 and parameters: {'max_depth': 17, 'min_child_weight': 77, 'subsample': 0.1879049026057455, 'colsample_bynode': 0.7158097238609412, 'learning_rate': 0.015415527060141935}. Best is trial 1 with value: -0.628096.\n"
     ]
    },
    {
     "name": "stderr",
     "output_type": "stream",
     "text": [
      "[I 2025-05-15 18:15:48,852] Trial 8 finished with value: -0.022222 and parameters: {'max_depth': 5, 'min_child_weight': 124, 'subsample': 0.13094966900369656, 'colsample_bynode': 0.9183883618709039, 'learning_rate': 0.004993895014755658}. Best is trial 1 with value: -0.628096.\n"
     ]
    },
    {
     "name": "stderr",
     "output_type": "stream",
     "text": [
      "[I 2025-05-15 18:15:48,995] Trial 9 pruned. Trial was pruned at iteration 20.\n"
     ]
    },
    {
     "name": "stderr",
     "output_type": "stream",
     "text": [
      "[I 2025-05-15 18:15:49,385] Trial 10 finished with value: -0.618401 and parameters: {'max_depth': 9, 'min_child_weight': 2, 'subsample': 0.9725833997090791, 'colsample_bynode': 0.11616568805333755, 'learning_rate': 0.17780618353487967}. Best is trial 1 with value: -0.628096.\n"
     ]
    },
    {
     "name": "stderr",
     "output_type": "stream",
     "text": [
      "[I 2025-05-15 18:15:49,662] Trial 11 pruned. Trial was pruned at iteration 20.\n"
     ]
    },
    {
     "name": "stderr",
     "output_type": "stream",
     "text": [
      "[I 2025-05-15 18:15:50,356] Trial 12 finished with value: -0.651446 and parameters: {'max_depth': 9, 'min_child_weight': 3, 'subsample': 0.9754570370311046, 'colsample_bynode': 0.14672783827498995, 'learning_rate': 0.08954997670613858}. Best is trial 12 with value: -0.651446.\n"
     ]
    },
    {
     "name": "stderr",
     "output_type": "stream",
     "text": [
      "[I 2025-05-15 18:15:50,516] Trial 13 finished with value: -0.022222 and parameters: {'max_depth': 6, 'min_child_weight': 173, 'subsample': 0.790863397930712, 'colsample_bynode': 0.8100137258468498, 'learning_rate': 0.05535376435186281}. Best is trial 12 with value: -0.651446.\n"
     ]
    },
    {
     "name": "stderr",
     "output_type": "stream",
     "text": [
      "[I 2025-05-15 18:15:50,673] Trial 14 finished with value: -0.022222 and parameters: {'max_depth': 11, 'min_child_weight': 132, 'subsample': 0.8766519016750652, 'colsample_bynode': 0.3676351706897084, 'learning_rate': 0.049429871639666105}. Best is trial 12 with value: -0.651446.\n"
     ]
    },
    {
     "name": "stderr",
     "output_type": "stream",
     "text": [
      "[I 2025-05-15 18:15:51,168] Trial 15 pruned. Trial was pruned at iteration 31.\n"
     ]
    },
    {
     "name": "stderr",
     "output_type": "stream",
     "text": [
      "[I 2025-05-15 18:15:51,325] Trial 16 finished with value: -0.022222 and parameters: {'max_depth': 3, 'min_child_weight': 117, 'subsample': 0.6850154210962394, 'colsample_bynode': 0.7696944218640787, 'learning_rate': 0.4766285076923813}. Best is trial 12 with value: -0.651446.\n"
     ]
    },
    {
     "name": "stderr",
     "output_type": "stream",
     "text": [
      "[I 2025-05-15 18:15:51,467] Trial 17 pruned. Trial was pruned at iteration 20.\n"
     ]
    },
    {
     "name": "stderr",
     "output_type": "stream",
     "text": [
      "[I 2025-05-15 18:15:51,617] Trial 18 pruned. Trial was pruned at iteration 20.\n"
     ]
    },
    {
     "name": "stderr",
     "output_type": "stream",
     "text": [
      "[I 2025-05-15 18:15:51,765] Trial 19 pruned. Trial was pruned at iteration 20.\n"
     ]
    },
    {
     "name": "stderr",
     "output_type": "stream",
     "text": [
      "[I 2025-05-15 18:15:51,943] Trial 20 pruned. Trial was pruned at iteration 20.\n"
     ]
    },
    {
     "name": "stderr",
     "output_type": "stream",
     "text": [
      "[I 2025-05-15 18:15:52,280] Trial 21 pruned. Trial was pruned at iteration 21.\n"
     ]
    },
    {
     "name": "stderr",
     "output_type": "stream",
     "text": [
      "[I 2025-05-15 18:15:52,457] Trial 22 pruned. Trial was pruned at iteration 20.\n"
     ]
    },
    {
     "name": "stderr",
     "output_type": "stream",
     "text": [
      "[I 2025-05-15 18:15:52,620] Trial 23 pruned. Trial was pruned at iteration 20.\n"
     ]
    },
    {
     "name": "stderr",
     "output_type": "stream",
     "text": [
      "[I 2025-05-15 18:15:52,889] Trial 24 finished with value: -0.639164 and parameters: {'max_depth': 7, 'min_child_weight': 23, 'subsample': 0.9363676414616533, 'colsample_bynode': 0.7010132046256832, 'learning_rate': 0.3053879216641414}. Best is trial 12 with value: -0.651446.\n"
     ]
    },
    {
     "name": "stderr",
     "output_type": "stream",
     "text": [
      "[I 2025-05-15 18:15:53,040] Trial 25 pruned. Trial was pruned at iteration 20.\n"
     ]
    },
    {
     "name": "stderr",
     "output_type": "stream",
     "text": [
      "[I 2025-05-15 18:15:53,240] Trial 26 pruned. Trial was pruned at iteration 21.\n"
     ]
    },
    {
     "name": "stderr",
     "output_type": "stream",
     "text": [
      "[I 2025-05-15 18:15:53,389] Trial 27 pruned. Trial was pruned at iteration 20.\n"
     ]
    },
    {
     "name": "stderr",
     "output_type": "stream",
     "text": [
      "[I 2025-05-15 18:15:53,538] Trial 28 finished with value: -0.022222 and parameters: {'max_depth': 7, 'min_child_weight': 97, 'subsample': 0.838405396525318, 'colsample_bynode': 0.47030562089934724, 'learning_rate': 0.01232648763440492}. Best is trial 12 with value: -0.651446.\n"
     ]
    },
    {
     "name": "stderr",
     "output_type": "stream",
     "text": [
      "[I 2025-05-15 18:15:53,692] Trial 29 finished with value: -0.022222 and parameters: {'max_depth': 10, 'min_child_weight': 217, 'subsample': 0.7564509533752836, 'colsample_bynode': 0.6350277124956883, 'learning_rate': 0.12368523882492964}. Best is trial 12 with value: -0.651446.\n"
     ]
    },
    {
     "name": "stderr",
     "output_type": "stream",
     "text": [
      "[I 2025-05-15 18:15:53,903] Trial 30 pruned. Trial was pruned at iteration 20.\n"
     ]
    },
    {
     "name": "stderr",
     "output_type": "stream",
     "text": [
      "[I 2025-05-15 18:15:54,270] Trial 31 finished with value: -0.654437 and parameters: {'max_depth': 9, 'min_child_weight': 15, 'subsample': 0.9556250923635528, 'colsample_bynode': 0.2696631247657278, 'learning_rate': 0.17564458252192755}. Best is trial 31 with value: -0.654437.\n"
     ]
    },
    {
     "name": "stderr",
     "output_type": "stream",
     "text": [
      "[I 2025-05-15 18:15:54,464] Trial 32 pruned. Trial was pruned at iteration 26.\n"
     ]
    },
    {
     "name": "stderr",
     "output_type": "stream",
     "text": [
      "[I 2025-05-15 18:15:54,618] Trial 33 pruned. Trial was pruned at iteration 20.\n"
     ]
    },
    {
     "name": "stderr",
     "output_type": "stream",
     "text": [
      "[I 2025-05-15 18:15:54,785] Trial 34 pruned. Trial was pruned at iteration 20.\n"
     ]
    },
    {
     "name": "stderr",
     "output_type": "stream",
     "text": [
      "[I 2025-05-15 18:15:54,942] Trial 35 pruned. Trial was pruned at iteration 20.\n"
     ]
    },
    {
     "name": "stderr",
     "output_type": "stream",
     "text": [
      "[I 2025-05-15 18:15:55,334] Trial 36 finished with value: -0.652344 and parameters: {'max_depth': 8, 'min_child_weight': 14, 'subsample': 0.7869483033150013, 'colsample_bynode': 0.6688048116243799, 'learning_rate': 0.14556289335864372}. Best is trial 31 with value: -0.654437.\n"
     ]
    },
    {
     "name": "stderr",
     "output_type": "stream",
     "text": [
      "[I 2025-05-15 18:15:55,488] Trial 37 pruned. Trial was pruned at iteration 20.\n"
     ]
    },
    {
     "name": "stderr",
     "output_type": "stream",
     "text": [
      "[I 2025-05-15 18:15:55,649] Trial 38 pruned. Trial was pruned at iteration 20.\n"
     ]
    },
    {
     "name": "stderr",
     "output_type": "stream",
     "text": [
      "[I 2025-05-15 18:15:55,814] Trial 39 pruned. Trial was pruned at iteration 20.\n"
     ]
    },
    {
     "name": "stderr",
     "output_type": "stream",
     "text": [
      "[I 2025-05-15 18:15:55,974] Trial 40 pruned. Trial was pruned at iteration 20.\n"
     ]
    },
    {
     "name": "stderr",
     "output_type": "stream",
     "text": [
      "[I 2025-05-15 18:15:56,206] Trial 41 pruned. Trial was pruned at iteration 21.\n"
     ]
    },
    {
     "name": "stderr",
     "output_type": "stream",
     "text": [
      "[I 2025-05-15 18:15:56,399] Trial 42 pruned. Trial was pruned at iteration 20.\n"
     ]
    },
    {
     "name": "stderr",
     "output_type": "stream",
     "text": [
      "[I 2025-05-15 18:15:56,611] Trial 43 pruned. Trial was pruned at iteration 20.\n"
     ]
    },
    {
     "name": "stderr",
     "output_type": "stream",
     "text": [
      "[I 2025-05-15 18:15:56,760] Trial 44 pruned. Trial was pruned at iteration 20.\n"
     ]
    },
    {
     "name": "stderr",
     "output_type": "stream",
     "text": [
      "[I 2025-05-15 18:15:56,916] Trial 45 finished with value: -0.022222 and parameters: {'max_depth': 9, 'min_child_weight': 77, 'subsample': 0.8032699939503868, 'colsample_bynode': 0.24918886201902918, 'learning_rate': 0.013004335508739145}. Best is trial 31 with value: -0.654437.\n"
     ]
    },
    {
     "name": "stderr",
     "output_type": "stream",
     "text": [
      "[I 2025-05-15 18:15:57,320] Trial 46 finished with value: -0.653466 and parameters: {'max_depth': 4, 'min_child_weight': 11, 'subsample': 0.8970981580356258, 'colsample_bynode': 0.4942576723345612, 'learning_rate': 0.15548661858431415}. Best is trial 31 with value: -0.654437.\n"
     ]
    },
    {
     "name": "stderr",
     "output_type": "stream",
     "text": [
      "[I 2025-05-15 18:15:57,554] Trial 47 pruned. Trial was pruned at iteration 27.\n"
     ]
    },
    {
     "name": "stderr",
     "output_type": "stream",
     "text": [
      "[I 2025-05-15 18:15:57,712] Trial 48 finished with value: -0.022222 and parameters: {'max_depth': 6, 'min_child_weight': 89, 'subsample': 0.9522313663555334, 'colsample_bynode': 0.23159047831619423, 'learning_rate': 0.2263507108791681}. Best is trial 31 with value: -0.654437.\n"
     ]
    },
    {
     "name": "stderr",
     "output_type": "stream",
     "text": [
      "[I 2025-05-15 18:15:57,925] Trial 49 pruned. Trial was pruned at iteration 20.\n"
     ]
    }
   ],
   "source": [
    "sampler = optuna.samplers.TPESampler(seed=42)\n",
    "study = optuna.create_study(direction='minimize', sampler=sampler)\n",
    "study.optimize(objective, n_trials=N_TRIALS, gc_after_trial=True)"
   ]
  },
  {
   "cell_type": "code",
   "execution_count": 20,
   "id": "96f59e5b",
   "metadata": {
    "execution": {
     "iopub.execute_input": "2025-05-15T16:15:58.042137Z",
     "iopub.status.busy": "2025-05-15T16:15:58.041911Z",
     "iopub.status.idle": "2025-05-15T16:15:58.064945Z",
     "shell.execute_reply": "2025-05-15T16:15:58.064627Z"
    },
    "papermill": {
     "duration": 0.032959,
     "end_time": "2025-05-15T16:15:58.065898",
     "exception": false,
     "start_time": "2025-05-15T16:15:58.032939",
     "status": "completed"
    },
    "tags": []
   },
   "outputs": [
    {
     "data": {
      "text/plain": [
       "['/scratch_isilon/groups/singlecell/shared/projects/Inflammation-PBMCs-Atlas/03_downstream_analysis/08_gene_importance/xgboost_external_validation/xgboost_TopN_genes/results_20/study/Plasma_6_2_xgboost.pkl']"
      ]
     },
     "execution_count": 20,
     "metadata": {},
     "output_type": "execute_result"
    }
   ],
   "source": [
    "out_dir = here(f'03_downstream_analysis/08_gene_importance/xgboost_external_validation/xgboost_TopN_genes/results_{N_GENES}/study')\n",
    "\n",
    "if not os.path.exists(out_dir):\n",
    "    os.makedirs(out_dir)\n",
    "    \n",
    "joblib.dump(study,os.path.join(out_dir, f'{CELL_TYPE}_{SEED}_{TEST_SPLIT_IDX}_xgboost.pkl'))"
   ]
  },
  {
   "cell_type": "code",
   "execution_count": 21,
   "id": "a7be2aad",
   "metadata": {
    "execution": {
     "iopub.execute_input": "2025-05-15T16:15:58.082703Z",
     "iopub.status.busy": "2025-05-15T16:15:58.082243Z",
     "iopub.status.idle": "2025-05-15T16:15:58.293566Z",
     "shell.execute_reply": "2025-05-15T16:15:58.292974Z"
    },
    "papermill": {
     "duration": 0.220763,
     "end_time": "2025-05-15T16:15:58.294613",
     "exception": false,
     "start_time": "2025-05-15T16:15:58.073850",
     "status": "completed"
    },
    "tags": []
   },
   "outputs": [
    {
     "data": {
      "text/html": [
       "<style>#sk-container-id-1 {\n",
       "  /* Definition of color scheme common for light and dark mode */\n",
       "  --sklearn-color-text: black;\n",
       "  --sklearn-color-line: gray;\n",
       "  /* Definition of color scheme for unfitted estimators */\n",
       "  --sklearn-color-unfitted-level-0: #fff5e6;\n",
       "  --sklearn-color-unfitted-level-1: #f6e4d2;\n",
       "  --sklearn-color-unfitted-level-2: #ffe0b3;\n",
       "  --sklearn-color-unfitted-level-3: chocolate;\n",
       "  /* Definition of color scheme for fitted estimators */\n",
       "  --sklearn-color-fitted-level-0: #f0f8ff;\n",
       "  --sklearn-color-fitted-level-1: #d4ebff;\n",
       "  --sklearn-color-fitted-level-2: #b3dbfd;\n",
       "  --sklearn-color-fitted-level-3: cornflowerblue;\n",
       "\n",
       "  /* Specific color for light theme */\n",
       "  --sklearn-color-text-on-default-background: var(--sg-text-color, var(--theme-code-foreground, var(--jp-content-font-color1, black)));\n",
       "  --sklearn-color-background: var(--sg-background-color, var(--theme-background, var(--jp-layout-color0, white)));\n",
       "  --sklearn-color-border-box: var(--sg-text-color, var(--theme-code-foreground, var(--jp-content-font-color1, black)));\n",
       "  --sklearn-color-icon: #696969;\n",
       "\n",
       "  @media (prefers-color-scheme: dark) {\n",
       "    /* Redefinition of color scheme for dark theme */\n",
       "    --sklearn-color-text-on-default-background: var(--sg-text-color, var(--theme-code-foreground, var(--jp-content-font-color1, white)));\n",
       "    --sklearn-color-background: var(--sg-background-color, var(--theme-background, var(--jp-layout-color0, #111)));\n",
       "    --sklearn-color-border-box: var(--sg-text-color, var(--theme-code-foreground, var(--jp-content-font-color1, white)));\n",
       "    --sklearn-color-icon: #878787;\n",
       "  }\n",
       "}\n",
       "\n",
       "#sk-container-id-1 {\n",
       "  color: var(--sklearn-color-text);\n",
       "}\n",
       "\n",
       "#sk-container-id-1 pre {\n",
       "  padding: 0;\n",
       "}\n",
       "\n",
       "#sk-container-id-1 input.sk-hidden--visually {\n",
       "  border: 0;\n",
       "  clip: rect(1px 1px 1px 1px);\n",
       "  clip: rect(1px, 1px, 1px, 1px);\n",
       "  height: 1px;\n",
       "  margin: -1px;\n",
       "  overflow: hidden;\n",
       "  padding: 0;\n",
       "  position: absolute;\n",
       "  width: 1px;\n",
       "}\n",
       "\n",
       "#sk-container-id-1 div.sk-dashed-wrapped {\n",
       "  border: 1px dashed var(--sklearn-color-line);\n",
       "  margin: 0 0.4em 0.5em 0.4em;\n",
       "  box-sizing: border-box;\n",
       "  padding-bottom: 0.4em;\n",
       "  background-color: var(--sklearn-color-background);\n",
       "}\n",
       "\n",
       "#sk-container-id-1 div.sk-container {\n",
       "  /* jupyter's `normalize.less` sets `[hidden] { display: none; }`\n",
       "     but bootstrap.min.css set `[hidden] { display: none !important; }`\n",
       "     so we also need the `!important` here to be able to override the\n",
       "     default hidden behavior on the sphinx rendered scikit-learn.org.\n",
       "     See: https://github.com/scikit-learn/scikit-learn/issues/21755 */\n",
       "  display: inline-block !important;\n",
       "  position: relative;\n",
       "}\n",
       "\n",
       "#sk-container-id-1 div.sk-text-repr-fallback {\n",
       "  display: none;\n",
       "}\n",
       "\n",
       "div.sk-parallel-item,\n",
       "div.sk-serial,\n",
       "div.sk-item {\n",
       "  /* draw centered vertical line to link estimators */\n",
       "  background-image: linear-gradient(var(--sklearn-color-text-on-default-background), var(--sklearn-color-text-on-default-background));\n",
       "  background-size: 2px 100%;\n",
       "  background-repeat: no-repeat;\n",
       "  background-position: center center;\n",
       "}\n",
       "\n",
       "/* Parallel-specific style estimator block */\n",
       "\n",
       "#sk-container-id-1 div.sk-parallel-item::after {\n",
       "  content: \"\";\n",
       "  width: 100%;\n",
       "  border-bottom: 2px solid var(--sklearn-color-text-on-default-background);\n",
       "  flex-grow: 1;\n",
       "}\n",
       "\n",
       "#sk-container-id-1 div.sk-parallel {\n",
       "  display: flex;\n",
       "  align-items: stretch;\n",
       "  justify-content: center;\n",
       "  background-color: var(--sklearn-color-background);\n",
       "  position: relative;\n",
       "}\n",
       "\n",
       "#sk-container-id-1 div.sk-parallel-item {\n",
       "  display: flex;\n",
       "  flex-direction: column;\n",
       "}\n",
       "\n",
       "#sk-container-id-1 div.sk-parallel-item:first-child::after {\n",
       "  align-self: flex-end;\n",
       "  width: 50%;\n",
       "}\n",
       "\n",
       "#sk-container-id-1 div.sk-parallel-item:last-child::after {\n",
       "  align-self: flex-start;\n",
       "  width: 50%;\n",
       "}\n",
       "\n",
       "#sk-container-id-1 div.sk-parallel-item:only-child::after {\n",
       "  width: 0;\n",
       "}\n",
       "\n",
       "/* Serial-specific style estimator block */\n",
       "\n",
       "#sk-container-id-1 div.sk-serial {\n",
       "  display: flex;\n",
       "  flex-direction: column;\n",
       "  align-items: center;\n",
       "  background-color: var(--sklearn-color-background);\n",
       "  padding-right: 1em;\n",
       "  padding-left: 1em;\n",
       "}\n",
       "\n",
       "\n",
       "/* Toggleable style: style used for estimator/Pipeline/ColumnTransformer box that is\n",
       "clickable and can be expanded/collapsed.\n",
       "- Pipeline and ColumnTransformer use this feature and define the default style\n",
       "- Estimators will overwrite some part of the style using the `sk-estimator` class\n",
       "*/\n",
       "\n",
       "/* Pipeline and ColumnTransformer style (default) */\n",
       "\n",
       "#sk-container-id-1 div.sk-toggleable {\n",
       "  /* Default theme specific background. It is overwritten whether we have a\n",
       "  specific estimator or a Pipeline/ColumnTransformer */\n",
       "  background-color: var(--sklearn-color-background);\n",
       "}\n",
       "\n",
       "/* Toggleable label */\n",
       "#sk-container-id-1 label.sk-toggleable__label {\n",
       "  cursor: pointer;\n",
       "  display: block;\n",
       "  width: 100%;\n",
       "  margin-bottom: 0;\n",
       "  padding: 0.5em;\n",
       "  box-sizing: border-box;\n",
       "  text-align: center;\n",
       "}\n",
       "\n",
       "#sk-container-id-1 label.sk-toggleable__label-arrow:before {\n",
       "  /* Arrow on the left of the label */\n",
       "  content: \"▸\";\n",
       "  float: left;\n",
       "  margin-right: 0.25em;\n",
       "  color: var(--sklearn-color-icon);\n",
       "}\n",
       "\n",
       "#sk-container-id-1 label.sk-toggleable__label-arrow:hover:before {\n",
       "  color: var(--sklearn-color-text);\n",
       "}\n",
       "\n",
       "/* Toggleable content - dropdown */\n",
       "\n",
       "#sk-container-id-1 div.sk-toggleable__content {\n",
       "  max-height: 0;\n",
       "  max-width: 0;\n",
       "  overflow: hidden;\n",
       "  text-align: left;\n",
       "  /* unfitted */\n",
       "  background-color: var(--sklearn-color-unfitted-level-0);\n",
       "}\n",
       "\n",
       "#sk-container-id-1 div.sk-toggleable__content.fitted {\n",
       "  /* fitted */\n",
       "  background-color: var(--sklearn-color-fitted-level-0);\n",
       "}\n",
       "\n",
       "#sk-container-id-1 div.sk-toggleable__content pre {\n",
       "  margin: 0.2em;\n",
       "  border-radius: 0.25em;\n",
       "  color: var(--sklearn-color-text);\n",
       "  /* unfitted */\n",
       "  background-color: var(--sklearn-color-unfitted-level-0);\n",
       "}\n",
       "\n",
       "#sk-container-id-1 div.sk-toggleable__content.fitted pre {\n",
       "  /* unfitted */\n",
       "  background-color: var(--sklearn-color-fitted-level-0);\n",
       "}\n",
       "\n",
       "#sk-container-id-1 input.sk-toggleable__control:checked~div.sk-toggleable__content {\n",
       "  /* Expand drop-down */\n",
       "  max-height: 200px;\n",
       "  max-width: 100%;\n",
       "  overflow: auto;\n",
       "}\n",
       "\n",
       "#sk-container-id-1 input.sk-toggleable__control:checked~label.sk-toggleable__label-arrow:before {\n",
       "  content: \"▾\";\n",
       "}\n",
       "\n",
       "/* Pipeline/ColumnTransformer-specific style */\n",
       "\n",
       "#sk-container-id-1 div.sk-label input.sk-toggleable__control:checked~label.sk-toggleable__label {\n",
       "  color: var(--sklearn-color-text);\n",
       "  background-color: var(--sklearn-color-unfitted-level-2);\n",
       "}\n",
       "\n",
       "#sk-container-id-1 div.sk-label.fitted input.sk-toggleable__control:checked~label.sk-toggleable__label {\n",
       "  background-color: var(--sklearn-color-fitted-level-2);\n",
       "}\n",
       "\n",
       "/* Estimator-specific style */\n",
       "\n",
       "/* Colorize estimator box */\n",
       "#sk-container-id-1 div.sk-estimator input.sk-toggleable__control:checked~label.sk-toggleable__label {\n",
       "  /* unfitted */\n",
       "  background-color: var(--sklearn-color-unfitted-level-2);\n",
       "}\n",
       "\n",
       "#sk-container-id-1 div.sk-estimator.fitted input.sk-toggleable__control:checked~label.sk-toggleable__label {\n",
       "  /* fitted */\n",
       "  background-color: var(--sklearn-color-fitted-level-2);\n",
       "}\n",
       "\n",
       "#sk-container-id-1 div.sk-label label.sk-toggleable__label,\n",
       "#sk-container-id-1 div.sk-label label {\n",
       "  /* The background is the default theme color */\n",
       "  color: var(--sklearn-color-text-on-default-background);\n",
       "}\n",
       "\n",
       "/* On hover, darken the color of the background */\n",
       "#sk-container-id-1 div.sk-label:hover label.sk-toggleable__label {\n",
       "  color: var(--sklearn-color-text);\n",
       "  background-color: var(--sklearn-color-unfitted-level-2);\n",
       "}\n",
       "\n",
       "/* Label box, darken color on hover, fitted */\n",
       "#sk-container-id-1 div.sk-label.fitted:hover label.sk-toggleable__label.fitted {\n",
       "  color: var(--sklearn-color-text);\n",
       "  background-color: var(--sklearn-color-fitted-level-2);\n",
       "}\n",
       "\n",
       "/* Estimator label */\n",
       "\n",
       "#sk-container-id-1 div.sk-label label {\n",
       "  font-family: monospace;\n",
       "  font-weight: bold;\n",
       "  display: inline-block;\n",
       "  line-height: 1.2em;\n",
       "}\n",
       "\n",
       "#sk-container-id-1 div.sk-label-container {\n",
       "  text-align: center;\n",
       "}\n",
       "\n",
       "/* Estimator-specific */\n",
       "#sk-container-id-1 div.sk-estimator {\n",
       "  font-family: monospace;\n",
       "  border: 1px dotted var(--sklearn-color-border-box);\n",
       "  border-radius: 0.25em;\n",
       "  box-sizing: border-box;\n",
       "  margin-bottom: 0.5em;\n",
       "  /* unfitted */\n",
       "  background-color: var(--sklearn-color-unfitted-level-0);\n",
       "}\n",
       "\n",
       "#sk-container-id-1 div.sk-estimator.fitted {\n",
       "  /* fitted */\n",
       "  background-color: var(--sklearn-color-fitted-level-0);\n",
       "}\n",
       "\n",
       "/* on hover */\n",
       "#sk-container-id-1 div.sk-estimator:hover {\n",
       "  /* unfitted */\n",
       "  background-color: var(--sklearn-color-unfitted-level-2);\n",
       "}\n",
       "\n",
       "#sk-container-id-1 div.sk-estimator.fitted:hover {\n",
       "  /* fitted */\n",
       "  background-color: var(--sklearn-color-fitted-level-2);\n",
       "}\n",
       "\n",
       "/* Specification for estimator info (e.g. \"i\" and \"?\") */\n",
       "\n",
       "/* Common style for \"i\" and \"?\" */\n",
       "\n",
       ".sk-estimator-doc-link,\n",
       "a:link.sk-estimator-doc-link,\n",
       "a:visited.sk-estimator-doc-link {\n",
       "  float: right;\n",
       "  font-size: smaller;\n",
       "  line-height: 1em;\n",
       "  font-family: monospace;\n",
       "  background-color: var(--sklearn-color-background);\n",
       "  border-radius: 1em;\n",
       "  height: 1em;\n",
       "  width: 1em;\n",
       "  text-decoration: none !important;\n",
       "  margin-left: 1ex;\n",
       "  /* unfitted */\n",
       "  border: var(--sklearn-color-unfitted-level-1) 1pt solid;\n",
       "  color: var(--sklearn-color-unfitted-level-1);\n",
       "}\n",
       "\n",
       ".sk-estimator-doc-link.fitted,\n",
       "a:link.sk-estimator-doc-link.fitted,\n",
       "a:visited.sk-estimator-doc-link.fitted {\n",
       "  /* fitted */\n",
       "  border: var(--sklearn-color-fitted-level-1) 1pt solid;\n",
       "  color: var(--sklearn-color-fitted-level-1);\n",
       "}\n",
       "\n",
       "/* On hover */\n",
       "div.sk-estimator:hover .sk-estimator-doc-link:hover,\n",
       ".sk-estimator-doc-link:hover,\n",
       "div.sk-label-container:hover .sk-estimator-doc-link:hover,\n",
       ".sk-estimator-doc-link:hover {\n",
       "  /* unfitted */\n",
       "  background-color: var(--sklearn-color-unfitted-level-3);\n",
       "  color: var(--sklearn-color-background);\n",
       "  text-decoration: none;\n",
       "}\n",
       "\n",
       "div.sk-estimator.fitted:hover .sk-estimator-doc-link.fitted:hover,\n",
       ".sk-estimator-doc-link.fitted:hover,\n",
       "div.sk-label-container:hover .sk-estimator-doc-link.fitted:hover,\n",
       ".sk-estimator-doc-link.fitted:hover {\n",
       "  /* fitted */\n",
       "  background-color: var(--sklearn-color-fitted-level-3);\n",
       "  color: var(--sklearn-color-background);\n",
       "  text-decoration: none;\n",
       "}\n",
       "\n",
       "/* Span, style for the box shown on hovering the info icon */\n",
       ".sk-estimator-doc-link span {\n",
       "  display: none;\n",
       "  z-index: 9999;\n",
       "  position: relative;\n",
       "  font-weight: normal;\n",
       "  right: .2ex;\n",
       "  padding: .5ex;\n",
       "  margin: .5ex;\n",
       "  width: min-content;\n",
       "  min-width: 20ex;\n",
       "  max-width: 50ex;\n",
       "  color: var(--sklearn-color-text);\n",
       "  box-shadow: 2pt 2pt 4pt #999;\n",
       "  /* unfitted */\n",
       "  background: var(--sklearn-color-unfitted-level-0);\n",
       "  border: .5pt solid var(--sklearn-color-unfitted-level-3);\n",
       "}\n",
       "\n",
       ".sk-estimator-doc-link.fitted span {\n",
       "  /* fitted */\n",
       "  background: var(--sklearn-color-fitted-level-0);\n",
       "  border: var(--sklearn-color-fitted-level-3);\n",
       "}\n",
       "\n",
       ".sk-estimator-doc-link:hover span {\n",
       "  display: block;\n",
       "}\n",
       "\n",
       "/* \"?\"-specific style due to the `<a>` HTML tag */\n",
       "\n",
       "#sk-container-id-1 a.estimator_doc_link {\n",
       "  float: right;\n",
       "  font-size: 1rem;\n",
       "  line-height: 1em;\n",
       "  font-family: monospace;\n",
       "  background-color: var(--sklearn-color-background);\n",
       "  border-radius: 1rem;\n",
       "  height: 1rem;\n",
       "  width: 1rem;\n",
       "  text-decoration: none;\n",
       "  /* unfitted */\n",
       "  color: var(--sklearn-color-unfitted-level-1);\n",
       "  border: var(--sklearn-color-unfitted-level-1) 1pt solid;\n",
       "}\n",
       "\n",
       "#sk-container-id-1 a.estimator_doc_link.fitted {\n",
       "  /* fitted */\n",
       "  border: var(--sklearn-color-fitted-level-1) 1pt solid;\n",
       "  color: var(--sklearn-color-fitted-level-1);\n",
       "}\n",
       "\n",
       "/* On hover */\n",
       "#sk-container-id-1 a.estimator_doc_link:hover {\n",
       "  /* unfitted */\n",
       "  background-color: var(--sklearn-color-unfitted-level-3);\n",
       "  color: var(--sklearn-color-background);\n",
       "  text-decoration: none;\n",
       "}\n",
       "\n",
       "#sk-container-id-1 a.estimator_doc_link.fitted:hover {\n",
       "  /* fitted */\n",
       "  background-color: var(--sklearn-color-fitted-level-3);\n",
       "}\n",
       "</style><div id=\"sk-container-id-1\" class=\"sk-top-container\"><div class=\"sk-text-repr-fallback\"><pre>XGBClassifier(base_score=None, booster=None, callbacks=None,\n",
       "              colsample_bylevel=None, colsample_bynode=0.2696631247657278,\n",
       "              colsample_bytree=None, device=None, early_stopping_rounds=None,\n",
       "              enable_categorical=False,\n",
       "              eval_metric=&lt;function custom_f1_score at 0x7f94b11b00e0&gt;,\n",
       "              feature_types=None, gamma=None, grow_policy=None,\n",
       "              importance_type=None, interaction_constraints=None,\n",
       "              learning_rate=0.17564458252192755, max_bin=None,\n",
       "              max_cat_threshold=None, max_cat_to_onehot=None,\n",
       "              max_delta_step=None, max_depth=9, max_leaves=None,\n",
       "              min_child_weight=15, missing=nan, monotone_constraints=None,\n",
       "              multi_strategy=None, n_estimators=55, n_jobs=None,\n",
       "              num_parallel_tree=None, objective=&#x27;multi:softprob&#x27;, ...)</pre><b>In a Jupyter environment, please rerun this cell to show the HTML representation or trust the notebook. <br />On GitHub, the HTML representation is unable to render, please try loading this page with nbviewer.org.</b></div><div class=\"sk-container\" hidden><div class=\"sk-item\"><div class=\"sk-estimator fitted sk-toggleable\"><input class=\"sk-toggleable__control sk-hidden--visually\" id=\"sk-estimator-id-1\" type=\"checkbox\" checked><label for=\"sk-estimator-id-1\" class=\"sk-toggleable__label fitted sk-toggleable__label-arrow fitted\">&nbsp;XGBClassifier<span class=\"sk-estimator-doc-link fitted\">i<span>Fitted</span></span></label><div class=\"sk-toggleable__content fitted\"><pre>XGBClassifier(base_score=None, booster=None, callbacks=None,\n",
       "              colsample_bylevel=None, colsample_bynode=0.2696631247657278,\n",
       "              colsample_bytree=None, device=None, early_stopping_rounds=None,\n",
       "              enable_categorical=False,\n",
       "              eval_metric=&lt;function custom_f1_score at 0x7f94b11b00e0&gt;,\n",
       "              feature_types=None, gamma=None, grow_policy=None,\n",
       "              importance_type=None, interaction_constraints=None,\n",
       "              learning_rate=0.17564458252192755, max_bin=None,\n",
       "              max_cat_threshold=None, max_cat_to_onehot=None,\n",
       "              max_delta_step=None, max_depth=9, max_leaves=None,\n",
       "              min_child_weight=15, missing=nan, monotone_constraints=None,\n",
       "              multi_strategy=None, n_estimators=55, n_jobs=None,\n",
       "              num_parallel_tree=None, objective=&#x27;multi:softprob&#x27;, ...)</pre></div> </div></div></div></div>"
      ],
      "text/plain": [
       "XGBClassifier(base_score=None, booster=None, callbacks=None,\n",
       "              colsample_bylevel=None, colsample_bynode=0.2696631247657278,\n",
       "              colsample_bytree=None, device=None, early_stopping_rounds=None,\n",
       "              enable_categorical=False,\n",
       "              eval_metric=<function custom_f1_score at 0x7f94b11b00e0>,\n",
       "              feature_types=None, gamma=None, grow_policy=None,\n",
       "              importance_type=None, interaction_constraints=None,\n",
       "              learning_rate=0.17564458252192755, max_bin=None,\n",
       "              max_cat_threshold=None, max_cat_to_onehot=None,\n",
       "              max_delta_step=None, max_depth=9, max_leaves=None,\n",
       "              min_child_weight=15, missing=nan, monotone_constraints=None,\n",
       "              multi_strategy=None, n_estimators=55, n_jobs=None,\n",
       "              num_parallel_tree=None, objective='multi:softprob', ...)"
      ]
     },
     "execution_count": 21,
     "metadata": {},
     "output_type": "execute_result"
    }
   ],
   "source": [
    "n_estimators = int(study.best_trial.user_attrs['best_iteration']*1.2)\n",
    "xgb = xgboost.XGBClassifier(\n",
    "        eval_metric=eval_metric,\n",
    "        n_estimators=n_estimators,\n",
    "        **study.best_trial.params\n",
    "    )\n",
    "xgb.fit(\n",
    "    ssp.vstack((X_train, X_val)), \n",
    "    np.concatenate((y_train_enc, y_val_enc)),\n",
    "    verbose=1,\n",
    ")"
   ]
  },
  {
   "cell_type": "code",
   "execution_count": 22,
   "id": "91073e6a",
   "metadata": {
    "execution": {
     "iopub.execute_input": "2025-05-15T16:15:58.318580Z",
     "iopub.status.busy": "2025-05-15T16:15:58.318396Z",
     "iopub.status.idle": "2025-05-15T16:15:58.334322Z",
     "shell.execute_reply": "2025-05-15T16:15:58.333610Z"
    },
    "papermill": {
     "duration": 0.027073,
     "end_time": "2025-05-15T16:15:58.335314",
     "exception": false,
     "start_time": "2025-05-15T16:15:58.308241",
     "status": "completed"
    },
    "tags": []
   },
   "outputs": [
    {
     "data": {
      "text/plain": [
       "['/scratch_isilon/groups/singlecell/shared/projects/Inflammation-PBMCs-Atlas/03_downstream_analysis/08_gene_importance/xgboost_external_validation/xgboost_TopN_genes/results_20/best_model/Plasma_6_2_xgb.json']"
      ]
     },
     "execution_count": 22,
     "metadata": {},
     "output_type": "execute_result"
    }
   ],
   "source": [
    "out_dir = here(f'03_downstream_analysis/08_gene_importance/xgboost_external_validation/xgboost_TopN_genes/results_{N_GENES}/best_model')\n",
    "\n",
    "if not os.path.exists(out_dir):\n",
    "    os.makedirs(out_dir)\n",
    "    \n",
    "joblib.dump(xgb, os.path.join(out_dir, f'{CELL_TYPE}_{SEED}_{TEST_SPLIT_IDX}_xgb.json'))"
   ]
  },
  {
   "cell_type": "code",
   "execution_count": 23,
   "id": "63050ed6",
   "metadata": {
    "execution": {
     "iopub.execute_input": "2025-05-15T16:15:58.399158Z",
     "iopub.status.busy": "2025-05-15T16:15:58.398892Z",
     "iopub.status.idle": "2025-05-15T16:15:58.404711Z",
     "shell.execute_reply": "2025-05-15T16:15:58.404406Z"
    },
    "papermill": {
     "duration": 0.055659,
     "end_time": "2025-05-15T16:15:58.408625",
     "exception": false,
     "start_time": "2025-05-15T16:15:58.352966",
     "status": "completed"
    },
    "tags": []
   },
   "outputs": [],
   "source": [
    "df_pred_test = pd.DataFrame(dict(\n",
    "    cell_id=train_adata.obs.iloc[test_idxs].index.values,\n",
    "    y_true=y_test, \n",
    "    y_true_code=y_test_enc, \n",
    "    y_pred=xgb.predict(X_test))).set_index('cell_id')"
   ]
  },
  {
   "cell_type": "code",
   "execution_count": 24,
   "id": "6a0cce64",
   "metadata": {
    "execution": {
     "iopub.execute_input": "2025-05-15T16:15:58.427483Z",
     "iopub.status.busy": "2025-05-15T16:15:58.427301Z",
     "iopub.status.idle": "2025-05-15T16:15:58.438132Z",
     "shell.execute_reply": "2025-05-15T16:15:58.437719Z"
    },
    "papermill": {
     "duration": 0.02188,
     "end_time": "2025-05-15T16:15:58.439034",
     "exception": false,
     "start_time": "2025-05-15T16:15:58.417154",
     "status": "completed"
    },
    "tags": []
   },
   "outputs": [],
   "source": [
    "out_dir = here(f'03_downstream_analysis/08_gene_importance/xgboost_external_validation/xgboost_TopN_genes/results_{N_GENES}/predictions')\n",
    "\n",
    "if not os.path.exists(out_dir):\n",
    "    os.makedirs(out_dir)\n",
    "    \n",
    "df_pred_test.to_csv(os.path.join(out_dir, f'{CELL_TYPE}_{SEED}_{TEST_SPLIT_IDX}_pred_test.zip'))"
   ]
  },
  {
   "cell_type": "code",
   "execution_count": 25,
   "id": "ca538e78",
   "metadata": {
    "execution": {
     "iopub.execute_input": "2025-05-15T16:15:58.456414Z",
     "iopub.status.busy": "2025-05-15T16:15:58.456055Z",
     "iopub.status.idle": "2025-05-15T16:15:58.461420Z",
     "shell.execute_reply": "2025-05-15T16:15:58.461103Z"
    },
    "papermill": {
     "duration": 0.014579,
     "end_time": "2025-05-15T16:15:58.462253",
     "exception": false,
     "start_time": "2025-05-15T16:15:58.447674",
     "status": "completed"
    },
    "tags": []
   },
   "outputs": [],
   "source": [
    "metrics_dict = dict(\n",
    "    BAS=balanced_accuracy_score(y_true=df_pred_test.y_true_code, y_pred=df_pred_test.y_pred), WF1=f1_score(y_true=df_pred_test.y_true_code, y_pred=df_pred_test.y_pred,average='weighted'))"
   ]
  },
  {
   "cell_type": "code",
   "execution_count": 26,
   "id": "6419f19a",
   "metadata": {
    "execution": {
     "iopub.execute_input": "2025-05-15T16:15:58.518957Z",
     "iopub.status.busy": "2025-05-15T16:15:58.518623Z",
     "iopub.status.idle": "2025-05-15T16:15:58.521801Z",
     "shell.execute_reply": "2025-05-15T16:15:58.521499Z"
    },
    "papermill": {
     "duration": 0.028887,
     "end_time": "2025-05-15T16:15:58.522690",
     "exception": false,
     "start_time": "2025-05-15T16:15:58.493803",
     "status": "completed"
    },
    "tags": []
   },
   "outputs": [
    {
     "data": {
      "text/plain": [
       "{'BAS': 0.27007918552036203, 'WF1': 0.40348076534689115}"
      ]
     },
     "execution_count": 26,
     "metadata": {},
     "output_type": "execute_result"
    }
   ],
   "source": [
    "metrics_dict"
   ]
  },
  {
   "cell_type": "code",
   "execution_count": 27,
   "id": "bebc6eb6",
   "metadata": {
    "execution": {
     "iopub.execute_input": "2025-05-15T16:15:58.540279Z",
     "iopub.status.busy": "2025-05-15T16:15:58.539883Z",
     "iopub.status.idle": "2025-05-15T16:15:58.548733Z",
     "shell.execute_reply": "2025-05-15T16:15:58.548429Z"
    },
    "papermill": {
     "duration": 0.01833,
     "end_time": "2025-05-15T16:15:58.549514",
     "exception": false,
     "start_time": "2025-05-15T16:15:58.531184",
     "status": "completed"
    },
    "tags": []
   },
   "outputs": [
    {
     "data": {
      "text/html": [
       "<div>\n",
       "<style scoped>\n",
       "    .dataframe tbody tr th:only-of-type {\n",
       "        vertical-align: middle;\n",
       "    }\n",
       "\n",
       "    .dataframe tbody tr th {\n",
       "        vertical-align: top;\n",
       "    }\n",
       "\n",
       "    .dataframe thead th {\n",
       "        text-align: right;\n",
       "    }\n",
       "</style>\n",
       "<table border=\"1\" class=\"dataframe\">\n",
       "  <thead>\n",
       "    <tr style=\"text-align: right;\">\n",
       "      <th></th>\n",
       "      <th>BAS</th>\n",
       "      <th>WF1</th>\n",
       "      <th>split_idx</th>\n",
       "      <th>gene_set_seed</th>\n",
       "      <th>cell_type</th>\n",
       "    </tr>\n",
       "  </thead>\n",
       "  <tbody>\n",
       "    <tr>\n",
       "      <th>0</th>\n",
       "      <td>0.270079</td>\n",
       "      <td>0.403481</td>\n",
       "      <td>2</td>\n",
       "      <td>6</td>\n",
       "      <td>Plasma</td>\n",
       "    </tr>\n",
       "  </tbody>\n",
       "</table>\n",
       "</div>"
      ],
      "text/plain": [
       "        BAS       WF1  split_idx  gene_set_seed cell_type\n",
       "0  0.270079  0.403481          2              6    Plasma"
      ]
     },
     "execution_count": 27,
     "metadata": {},
     "output_type": "execute_result"
    }
   ],
   "source": [
    "metrics_df = pd.DataFrame.from_dict([metrics_dict]).assign(split_idx=TEST_SPLIT_IDX, gene_set_seed=SEED, cell_type=CELL_TYPE)\n",
    "metrics_df"
   ]
  },
  {
   "cell_type": "code",
   "execution_count": 28,
   "id": "d6b0c0d4",
   "metadata": {
    "execution": {
     "iopub.execute_input": "2025-05-15T16:15:58.654632Z",
     "iopub.status.busy": "2025-05-15T16:15:58.653589Z",
     "iopub.status.idle": "2025-05-15T16:15:58.662498Z",
     "shell.execute_reply": "2025-05-15T16:15:58.662004Z"
    },
    "papermill": {
     "duration": 0.04668,
     "end_time": "2025-05-15T16:15:58.663372",
     "exception": false,
     "start_time": "2025-05-15T16:15:58.616692",
     "status": "completed"
    },
    "tags": []
   },
   "outputs": [],
   "source": [
    "out_dir = here(f'03_downstream_analysis/08_gene_importance/xgboost_external_validation/xgboost_TopN_genes/results_{N_GENES}/metrics')\n",
    "\n",
    "if not os.path.exists(out_dir):\n",
    "    os.makedirs(out_dir)\n",
    "    \n",
    "metrics_df.to_csv(os.path.join(out_dir, f'{CELL_TYPE}_{SEED}_{TEST_SPLIT_IDX}_metrics.zip'))"
   ]
  }
 ],
 "metadata": {
  "kernelspec": {
   "display_name": "Python 3 (ipykernel)",
   "language": "python",
   "name": "python3"
  },
  "language_info": {
   "codemirror_mode": {
    "name": "ipython",
    "version": 3
   },
   "file_extension": ".py",
   "mimetype": "text/x-python",
   "name": "python",
   "nbconvert_exporter": "python",
   "pygments_lexer": "ipython3",
   "version": "3.12.5"
  },
  "papermill": {
   "default_parameters": {},
   "duration": 28.547783,
   "end_time": "2025-05-15T16:15:59.201532",
   "environment_variables": {},
   "exception": null,
   "input_path": "02_xgboost_fitting_external_20genes.ipynb",
   "output_path": "results_20/executed_notebooks/xgboost_fitting_external_CT_Plasma_GS_6_seed2.ipynb",
   "parameters": {
    "CELL_TYPE": "Plasma",
    "SEED": 6,
    "TEST_SPLIT_IDX": 2
   },
   "start_time": "2025-05-15T16:15:30.653749",
   "version": "2.6.0"
  }
 },
 "nbformat": 4,
 "nbformat_minor": 5
}