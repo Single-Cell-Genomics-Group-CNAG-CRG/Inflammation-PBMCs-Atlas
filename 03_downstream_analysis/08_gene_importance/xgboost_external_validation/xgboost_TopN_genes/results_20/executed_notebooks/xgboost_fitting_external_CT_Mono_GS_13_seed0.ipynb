{
 "cells": [
  {
   "cell_type": "code",
   "execution_count": 1,
   "id": "f044b60b",
   "metadata": {
    "editable": true,
    "execution": {
     "iopub.execute_input": "2025-05-15T15:59:52.257179Z",
     "iopub.status.busy": "2025-05-15T15:59:52.257039Z",
     "iopub.status.idle": "2025-05-15T15:59:52.260200Z",
     "shell.execute_reply": "2025-05-15T15:59:52.259738Z"
    },
    "papermill": {
     "duration": 0.010864,
     "end_time": "2025-05-15T15:59:52.261047",
     "exception": false,
     "start_time": "2025-05-15T15:59:52.250183",
     "status": "completed"
    },
    "slideshow": {
     "slide_type": ""
    },
    "tags": [
     "parameters"
    ]
   },
   "outputs": [],
   "source": [
    "CELL_TYPE = 'pDC'\n",
    "N_GENES: int = 20\n",
    "SEED = 'shap_studyID' #'disease_NOstudy' 'study_NOdisease' or 'int' or 'shap_studyID'\n",
    "TEST_SPLIT_IDX: int = 1 #[0,4]"
   ]
  },
  {
   "cell_type": "code",
   "execution_count": 2,
   "id": "246587f2",
   "metadata": {
    "execution": {
     "iopub.execute_input": "2025-05-15T15:59:52.272208Z",
     "iopub.status.busy": "2025-05-15T15:59:52.272055Z",
     "iopub.status.idle": "2025-05-15T15:59:52.274340Z",
     "shell.execute_reply": "2025-05-15T15:59:52.273974Z"
    },
    "papermill": {
     "duration": 0.008975,
     "end_time": "2025-05-15T15:59:52.275130",
     "exception": false,
     "start_time": "2025-05-15T15:59:52.266155",
     "status": "completed"
    },
    "tags": [
     "injected-parameters"
    ]
   },
   "outputs": [],
   "source": [
    "# Parameters\n",
    "CELL_TYPE = \"Mono\"\n",
    "SEED = 13\n",
    "TEST_SPLIT_IDX = 0\n"
   ]
  },
  {
   "cell_type": "code",
   "execution_count": 3,
   "id": "87882403",
   "metadata": {
    "execution": {
     "iopub.execute_input": "2025-05-15T15:59:52.285707Z",
     "iopub.status.busy": "2025-05-15T15:59:52.285557Z",
     "iopub.status.idle": "2025-05-15T15:59:52.287926Z",
     "shell.execute_reply": "2025-05-15T15:59:52.287502Z"
    },
    "papermill": {
     "duration": 0.008519,
     "end_time": "2025-05-15T15:59:52.288733",
     "exception": false,
     "start_time": "2025-05-15T15:59:52.280214",
     "status": "completed"
    },
    "tags": []
   },
   "outputs": [],
   "source": [
    "N_SPLITS: int = 5\n",
    "N_TRIALS: int = 50"
   ]
  },
  {
   "cell_type": "code",
   "execution_count": 4,
   "id": "dce82e7f",
   "metadata": {
    "execution": {
     "iopub.execute_input": "2025-05-15T15:59:52.300504Z",
     "iopub.status.busy": "2025-05-15T15:59:52.300374Z",
     "iopub.status.idle": "2025-05-15T15:59:53.720080Z",
     "shell.execute_reply": "2025-05-15T15:59:53.719623Z"
    },
    "papermill": {
     "duration": 1.427494,
     "end_time": "2025-05-15T15:59:53.721207",
     "exception": false,
     "start_time": "2025-05-15T15:59:52.293713",
     "status": "completed"
    },
    "tags": []
   },
   "outputs": [],
   "source": [
    "import os\n",
    "import sys\n",
    "from pyprojroot.here import here\n",
    "import pandas as pd\n",
    "import anndata as ad\n",
    "import numpy as np\n",
    "import math\n",
    "from sklearn.model_selection import StratifiedGroupKFold\n",
    "from sklearn.preprocessing import LabelEncoder\n",
    "from sklearn.metrics import f1_score\n",
    "import matplotlib.pyplot as plt\n",
    "import seaborn as sns\n",
    "from itertools import product\n",
    "from sklearn.metrics import balanced_accuracy_score, f1_score\n",
    "import optuna\n",
    "\n",
    "import joblib\n",
    "import pickle\n",
    "import datetime\n",
    "\n",
    "import collections\n",
    "\n",
    "import xgboost\n",
    "from sklearn.preprocessing import LabelEncoder\n",
    "\n",
    "import scipy.sparse as ssp\n",
    "import joblib\n",
    "\n",
    "from dotenv import load_dotenv"
   ]
  },
  {
   "cell_type": "code",
   "execution_count": 5,
   "id": "1d45dedb",
   "metadata": {
    "execution": {
     "iopub.execute_input": "2025-05-15T15:59:53.732505Z",
     "iopub.status.busy": "2025-05-15T15:59:53.732134Z",
     "iopub.status.idle": "2025-05-15T15:59:53.737510Z",
     "shell.execute_reply": "2025-05-15T15:59:53.737214Z"
    },
    "papermill": {
     "duration": 0.011867,
     "end_time": "2025-05-15T15:59:53.738296",
     "exception": false,
     "start_time": "2025-05-15T15:59:53.726429",
     "status": "completed"
    },
    "tags": []
   },
   "outputs": [
    {
     "data": {
      "text/plain": [
       "True"
      ]
     },
     "execution_count": 5,
     "metadata": {},
     "output_type": "execute_result"
    }
   ],
   "source": [
    "load_dotenv()"
   ]
  },
  {
   "cell_type": "markdown",
   "id": "997add9e",
   "metadata": {
    "papermill": {
     "duration": 0.005036,
     "end_time": "2025-05-15T15:59:53.748180",
     "exception": false,
     "start_time": "2025-05-15T15:59:53.743144",
     "status": "completed"
    },
    "tags": []
   },
   "source": [
    "# LOAD DATASET"
   ]
  },
  {
   "cell_type": "code",
   "execution_count": 6,
   "id": "a9766a5c",
   "metadata": {
    "execution": {
     "iopub.execute_input": "2025-05-15T15:59:53.758468Z",
     "iopub.status.busy": "2025-05-15T15:59:53.758193Z",
     "iopub.status.idle": "2025-05-15T15:59:54.921139Z",
     "shell.execute_reply": "2025-05-15T15:59:54.920691Z"
    },
    "papermill": {
     "duration": 1.169251,
     "end_time": "2025-05-15T15:59:54.922208",
     "exception": false,
     "start_time": "2025-05-15T15:59:53.752957",
     "status": "completed"
    },
    "tags": []
   },
   "outputs": [],
   "source": [
    "train_adata = ad.read_h5ad(\n",
    "    here(f'03_downstream_analysis/08_gene_importance/xgboost_external_validation/xgboost_TopN_genes/data_cellTypes/EXTERNAL_{CELL_TYPE}.filtered.log1p.h5ad')\n",
    ")"
   ]
  },
  {
   "cell_type": "code",
   "execution_count": 7,
   "id": "85fff16a",
   "metadata": {
    "execution": {
     "iopub.execute_input": "2025-05-15T15:59:54.946266Z",
     "iopub.status.busy": "2025-05-15T15:59:54.946117Z",
     "iopub.status.idle": "2025-05-15T15:59:54.978813Z",
     "shell.execute_reply": "2025-05-15T15:59:54.978451Z"
    },
    "papermill": {
     "duration": 0.039007,
     "end_time": "2025-05-15T15:59:54.979642",
     "exception": false,
     "start_time": "2025-05-15T15:59:54.940635",
     "status": "completed"
    },
    "tags": []
   },
   "outputs": [
    {
     "name": "stdout",
     "output_type": "stream",
     "text": [
      "['ENSG00000150782' 'ENSG00000140564' 'ENSG00000150961' 'ENSG00000009790'\n",
      " 'ENSG00000231389' 'ENSG00000076662' 'ENSG00000042753' 'ENSG00000165140'\n",
      " 'ENSG00000059728' 'ENSG00000123268' 'ENSG00000148834' 'ENSG00000182578'\n",
      " 'ENSG00000138107' 'ENSG00000090863' 'ENSG00000125740' 'ENSG00000106799'\n",
      " 'ENSG00000170345' 'ENSG00000196126' 'ENSG00000204592' 'ENSG00000198668'\n",
      " 'ENSG00000198223' 'ENSG00000232810' 'ENSG00000185201' 'ENSG00000171608'\n",
      " 'ENSG00000132912' 'ENSG00000142546' 'ENSG00000175203' 'ENSG00000066136'\n",
      " 'ENSG00000139289' 'ENSG00000143119' 'ENSG00000164674' 'ENSG00000164308'\n",
      " 'ENSG00000119408' 'ENSG00000166888' 'ENSG00000143390' 'ENSG00000115415'\n",
      " 'ENSG00000161921' 'ENSG00000164136' 'ENSG00000170296' 'ENSG00000133246'\n",
      " 'ENSG00000135404' 'ENSG00000163659' 'ENSG00000119917' 'ENSG00000101608'\n",
      " 'ENSG00000134321' 'ENSG00000223865' 'ENSG00000168610' 'ENSG00000185650'\n",
      " 'ENSG00000135720' 'ENSG00000164307' 'ENSG00000106066' 'ENSG00000197965'\n",
      " 'ENSG00000163563' 'ENSG00000121774' 'ENSG00000187608' 'ENSG00000204482'\n",
      " 'ENSG00000117523' 'ENSG00000183023' 'ENSG00000136826' 'ENSG00000109787'\n",
      " 'ENSG00000213928' 'ENSG00000178719' 'ENSG00000068796' 'ENSG00000204267'\n",
      " 'ENSG00000127951' 'ENSG00000068831' 'ENSG00000100911' 'ENSG00000163513'\n",
      " 'ENSG00000118508' 'ENSG00000142089' 'ENSG00000113441' 'ENSG00000172936'\n",
      " 'ENSG00000159128' 'ENSG00000019582' 'ENSG00000206503' 'ENSG00000172183'\n",
      " 'ENSG00000162434' 'ENSG00000140379' 'ENSG00000182117' 'ENSG00000111331'\n",
      " 'ENSG00000166747' 'ENSG00000089280' 'ENSG00000085514' 'ENSG00000089327'\n",
      " 'ENSG00000113615' 'ENSG00000173757' 'ENSG00000125534' 'ENSG00000197766'\n",
      " 'ENSG00000161642' 'ENSG00000175538' 'ENSG00000204103' 'ENSG00000002586'\n",
      " 'ENSG00000169896' 'ENSG00000277632' 'ENSG00000158869' 'ENSG00000179921'\n",
      " 'ENSG00000161203' 'ENSG00000143924' 'ENSG00000152219' 'ENSG00000115145'\n",
      " 'ENSG00000187164' 'ENSG00000110848' 'ENSG00000198053' 'ENSG00000161944'\n",
      " 'ENSG00000107223' 'ENSG00000100300' 'ENSG00000121858' 'ENSG00000204257'\n",
      " 'ENSG00000166825' 'ENSG00000162711' 'ENSG00000123358' 'ENSG00000197746'\n",
      " 'ENSG00000140105' 'ENSG00000160213']\n"
     ]
    }
   ],
   "source": [
    "if SEED != 'all':\n",
    "    gene_subset = np.load(here(f'03_downstream_analysis/08_gene_importance/xgboost_external_validation/shap_gene_selection/gene_subsets_{N_GENES}/{CELL_TYPE}_{SEED}.npy'), allow_pickle=True)\n",
    "    train_adata = train_adata[:,gene_subset]\n",
    "    print(gene_subset)\n",
    "elif SEED == 'all':\n",
    "    print('Using all genes')\n",
    "else:\n",
    "    raise ValueError()"
   ]
  },
  {
   "cell_type": "code",
   "execution_count": 8,
   "id": "f403b267",
   "metadata": {
    "execution": {
     "iopub.execute_input": "2025-05-15T15:59:54.991436Z",
     "iopub.status.busy": "2025-05-15T15:59:54.990834Z",
     "iopub.status.idle": "2025-05-15T15:59:54.994076Z",
     "shell.execute_reply": "2025-05-15T15:59:54.993791Z"
    },
    "papermill": {
     "duration": 0.009636,
     "end_time": "2025-05-15T15:59:54.994852",
     "exception": false,
     "start_time": "2025-05-15T15:59:54.985216",
     "status": "completed"
    },
    "tags": []
   },
   "outputs": [
    {
     "data": {
      "text/plain": [
       "(137435, 114)"
      ]
     },
     "execution_count": 8,
     "metadata": {},
     "output_type": "execute_result"
    }
   ],
   "source": [
    "train_adata.shape"
   ]
  },
  {
   "cell_type": "code",
   "execution_count": 9,
   "id": "9e0268ce",
   "metadata": {
    "execution": {
     "iopub.execute_input": "2025-05-15T15:59:55.021280Z",
     "iopub.status.busy": "2025-05-15T15:59:55.021032Z",
     "iopub.status.idle": "2025-05-15T15:59:55.024799Z",
     "shell.execute_reply": "2025-05-15T15:59:55.024499Z"
    },
    "papermill": {
     "duration": 0.010349,
     "end_time": "2025-05-15T15:59:55.025580",
     "exception": false,
     "start_time": "2025-05-15T15:59:55.015231",
     "status": "completed"
    },
    "tags": []
   },
   "outputs": [
    {
     "data": {
      "text/plain": [
       "['RA', 'healthy', 'COVID', 'HIV', 'cirrhosis', 'CD', 'SLE', 'sepsis']\n",
       "Categories (8, object): ['CD', 'COVID', 'HIV', 'RA', 'SLE', 'cirrhosis', 'healthy', 'sepsis']"
      ]
     },
     "execution_count": 9,
     "metadata": {},
     "output_type": "execute_result"
    }
   ],
   "source": [
    "train_adata.obs.disease.unique()"
   ]
  },
  {
   "cell_type": "code",
   "execution_count": 10,
   "id": "f5be19b6",
   "metadata": {
    "execution": {
     "iopub.execute_input": "2025-05-15T15:59:55.037383Z",
     "iopub.status.busy": "2025-05-15T15:59:55.037011Z",
     "iopub.status.idle": "2025-05-15T15:59:55.040809Z",
     "shell.execute_reply": "2025-05-15T15:59:55.040517Z"
    },
    "papermill": {
     "duration": 0.010795,
     "end_time": "2025-05-15T15:59:55.041622",
     "exception": false,
     "start_time": "2025-05-15T15:59:55.030827",
     "status": "completed"
    },
    "tags": []
   },
   "outputs": [
    {
     "data": {
      "text/plain": [
       "['SCGT00val_I0364_T0', 'SCGT00val_I036028_T0', 'SCGT00val_I036024_T0', 'SCGT00val_I036023_T0', 'SCGT00val_I036019_T0', ..., '10XGenomics_10XHC2_T0', '10XGenomics_10XHC3_T0', '10XGenomics_10XHC5_T0', '10XGenomics_10XHC7_T0', '10XGenomics_10XHC8_T0']\n",
       "Length: 86\n",
       "Categories (86, object): ['10XGenomics_10XHC1_T0', '10XGenomics_10XHC2_T0', '10XGenomics_10XHC3_T0', '10XGenomics_10XHC4_T0', ..., 'Savage2021_BRISL6_T0', 'Savage2021_BRISL7_T0', 'Savage2021_PIDA_T0', 'Savage2021_PIDB_T0']"
      ]
     },
     "execution_count": 10,
     "metadata": {},
     "output_type": "execute_result"
    }
   ],
   "source": [
    "train_adata.obs.sampleID.unique()"
   ]
  },
  {
   "cell_type": "code",
   "execution_count": 11,
   "id": "21a9d705",
   "metadata": {
    "execution": {
     "iopub.execute_input": "2025-05-15T15:59:55.059307Z",
     "iopub.status.busy": "2025-05-15T15:59:55.058900Z",
     "iopub.status.idle": "2025-05-15T15:59:55.381505Z",
     "shell.execute_reply": "2025-05-15T15:59:55.381046Z"
    },
    "papermill": {
     "duration": 0.335775,
     "end_time": "2025-05-15T15:59:55.382642",
     "exception": false,
     "start_time": "2025-05-15T15:59:55.046867",
     "status": "completed"
    },
    "tags": []
   },
   "outputs": [],
   "source": [
    "all_idxs = np.arange(train_adata.obs.shape[0])\n",
    "left_out_splits = [s[1] for s in StratifiedGroupKFold(n_splits=N_SPLITS).split(all_idxs, train_adata.obs.disease, train_adata.obs.sampleID)]"
   ]
  },
  {
   "cell_type": "code",
   "execution_count": 12,
   "id": "7952fae5",
   "metadata": {
    "execution": {
     "iopub.execute_input": "2025-05-15T15:59:55.394257Z",
     "iopub.status.busy": "2025-05-15T15:59:55.394105Z",
     "iopub.status.idle": "2025-05-15T15:59:55.397579Z",
     "shell.execute_reply": "2025-05-15T15:59:55.397293Z"
    },
    "papermill": {
     "duration": 0.00994,
     "end_time": "2025-05-15T15:59:55.398349",
     "exception": false,
     "start_time": "2025-05-15T15:59:55.388409",
     "status": "completed"
    },
    "tags": []
   },
   "outputs": [
    {
     "data": {
      "text/plain": [
       "([2, 3, 4], 1, 0)"
      ]
     },
     "execution_count": 12,
     "metadata": {},
     "output_type": "execute_result"
    }
   ],
   "source": [
    "TRAIN_SPLIT_IDXS = [0,1,2,3,4]\n",
    "VAL_SPLIT_IDX = (TEST_SPLIT_IDX + 1) % 5\n",
    "TRAIN_SPLIT_IDXS.remove(TEST_SPLIT_IDX)\n",
    "TRAIN_SPLIT_IDXS.remove(VAL_SPLIT_IDX)\n",
    "TRAIN_SPLIT_IDXS, VAL_SPLIT_IDX, TEST_SPLIT_IDX"
   ]
  },
  {
   "cell_type": "code",
   "execution_count": 13,
   "id": "5d0bd83c",
   "metadata": {
    "execution": {
     "iopub.execute_input": "2025-05-15T15:59:55.411139Z",
     "iopub.status.busy": "2025-05-15T15:59:55.410758Z",
     "iopub.status.idle": "2025-05-15T15:59:55.413205Z",
     "shell.execute_reply": "2025-05-15T15:59:55.412918Z"
    },
    "papermill": {
     "duration": 0.00955,
     "end_time": "2025-05-15T15:59:55.413975",
     "exception": false,
     "start_time": "2025-05-15T15:59:55.404425",
     "status": "completed"
    },
    "tags": []
   },
   "outputs": [],
   "source": [
    "train_idxs = np.concatenate([left_out_splits[idx] for idx in TRAIN_SPLIT_IDXS])\n",
    "val_idxs = left_out_splits[VAL_SPLIT_IDX]\n",
    "test_idxs = left_out_splits[TEST_SPLIT_IDX]"
   ]
  },
  {
   "cell_type": "markdown",
   "id": "53083c8d",
   "metadata": {
    "papermill": {
     "duration": 0.005415,
     "end_time": "2025-05-15T15:59:55.424766",
     "exception": false,
     "start_time": "2025-05-15T15:59:55.419351",
     "status": "completed"
    },
    "tags": []
   },
   "source": [
    "### SUBSET DATASET INTO TRAIN/TEST/VAL SPLITS"
   ]
  },
  {
   "cell_type": "code",
   "execution_count": 14,
   "id": "12043792",
   "metadata": {
    "execution": {
     "iopub.execute_input": "2025-05-15T15:59:55.436076Z",
     "iopub.status.busy": "2025-05-15T15:59:55.435552Z",
     "iopub.status.idle": "2025-05-15T15:59:55.867236Z",
     "shell.execute_reply": "2025-05-15T15:59:55.866886Z"
    },
    "papermill": {
     "duration": 0.438138,
     "end_time": "2025-05-15T15:59:55.868083",
     "exception": false,
     "start_time": "2025-05-15T15:59:55.429945",
     "status": "completed"
    },
    "tags": []
   },
   "outputs": [
    {
     "data": {
      "text/plain": [
       "((82534, 114), (27414, 114), (27487, 114))"
      ]
     },
     "execution_count": 14,
     "metadata": {},
     "output_type": "execute_result"
    }
   ],
   "source": [
    "X_train = train_adata.X[train_idxs]\n",
    "X_test = train_adata.X[test_idxs]\n",
    "X_val = train_adata.X[val_idxs]\n",
    "X_train.shape, X_test.shape, X_val.shape"
   ]
  },
  {
   "cell_type": "code",
   "execution_count": 15,
   "id": "205cdf43",
   "metadata": {
    "execution": {
     "iopub.execute_input": "2025-05-15T15:59:55.879843Z",
     "iopub.status.busy": "2025-05-15T15:59:55.879647Z",
     "iopub.status.idle": "2025-05-15T15:59:55.892048Z",
     "shell.execute_reply": "2025-05-15T15:59:55.891681Z"
    },
    "papermill": {
     "duration": 0.01913,
     "end_time": "2025-05-15T15:59:55.892952",
     "exception": false,
     "start_time": "2025-05-15T15:59:55.873822",
     "status": "completed"
    },
    "tags": []
   },
   "outputs": [
    {
     "data": {
      "text/plain": [
       "((82534,), (27414,), (27487,))"
      ]
     },
     "execution_count": 15,
     "metadata": {},
     "output_type": "execute_result"
    }
   ],
   "source": [
    "y_train = train_adata.obs.iloc[train_idxs].disease.values.astype(str)\n",
    "y_test = train_adata.obs.iloc[test_idxs].disease.values.astype(str)\n",
    "y_val = train_adata.obs.iloc[val_idxs].disease.values.astype(str)\n",
    "y_train.shape, y_test.shape, y_val.shape"
   ]
  },
  {
   "cell_type": "code",
   "execution_count": 16,
   "id": "117190fe",
   "metadata": {
    "execution": {
     "iopub.execute_input": "2025-05-15T15:59:55.907320Z",
     "iopub.status.busy": "2025-05-15T15:59:55.906625Z",
     "iopub.status.idle": "2025-05-15T15:59:55.935312Z",
     "shell.execute_reply": "2025-05-15T15:59:55.934866Z"
    },
    "papermill": {
     "duration": 0.035848,
     "end_time": "2025-05-15T15:59:55.936329",
     "exception": false,
     "start_time": "2025-05-15T15:59:55.900481",
     "status": "completed"
    },
    "tags": []
   },
   "outputs": [],
   "source": [
    "lenc = LabelEncoder()\n",
    "y_train_enc = lenc.fit_transform(y_train)\n",
    "y_val_enc = lenc.transform(y_val)\n",
    "y_test_enc = lenc.transform(y_test)"
   ]
  },
  {
   "cell_type": "markdown",
   "id": "8a5b61a2",
   "metadata": {
    "papermill": {
     "duration": 0.00531,
     "end_time": "2025-05-15T15:59:55.947293",
     "exception": false,
     "start_time": "2025-05-15T15:59:55.941983",
     "status": "completed"
    },
    "tags": []
   },
   "source": [
    "### GENERATE F1 "
   ]
  },
  {
   "cell_type": "code",
   "execution_count": 17,
   "id": "fcab7065",
   "metadata": {
    "execution": {
     "iopub.execute_input": "2025-05-15T15:59:55.974419Z",
     "iopub.status.busy": "2025-05-15T15:59:55.974214Z",
     "iopub.status.idle": "2025-05-15T15:59:55.976837Z",
     "shell.execute_reply": "2025-05-15T15:59:55.976531Z"
    },
    "papermill": {
     "duration": 0.00928,
     "end_time": "2025-05-15T15:59:55.977578",
     "exception": false,
     "start_time": "2025-05-15T15:59:55.968298",
     "status": "completed"
    },
    "tags": []
   },
   "outputs": [],
   "source": [
    "def custom_f1_score(y_true, y_pred):\n",
    "    return -f1_score(y_true, y_pred.argmax(1), average='weighted')"
   ]
  },
  {
   "cell_type": "code",
   "execution_count": 18,
   "id": "0396121f",
   "metadata": {
    "execution": {
     "iopub.execute_input": "2025-05-15T15:59:55.989435Z",
     "iopub.status.busy": "2025-05-15T15:59:55.989055Z",
     "iopub.status.idle": "2025-05-15T15:59:55.992980Z",
     "shell.execute_reply": "2025-05-15T15:59:55.992571Z"
    },
    "papermill": {
     "duration": 0.010556,
     "end_time": "2025-05-15T15:59:55.993748",
     "exception": false,
     "start_time": "2025-05-15T15:59:55.983192",
     "status": "completed"
    },
    "tags": []
   },
   "outputs": [],
   "source": [
    "eval_metric=custom_f1_score\n",
    "eval_metric_name='custom_f1_score'\n",
    "\n",
    "def objective(trial):\n",
    "    params = {\n",
    "        'n_estimators': 1500,\n",
    "        'max_depth': trial.suggest_int('max_depth', 3, 20),\n",
    "        'min_child_weight': trial.suggest_int('min_child_weight', 1, 250),\n",
    "        'subsample': trial.suggest_float('subsample', 0.1, 1.0),\n",
    "        'colsample_bynode': trial.suggest_float('colsample_bynode', 0.1, 1.0),\n",
    "        'learning_rate': trial.suggest_float('learning_rate', 1e-3, 5e-1, log=True),\n",
    "    }\n",
    "    pruning_callback = optuna.integration.XGBoostPruningCallback(trial, f'validation_0-{eval_metric_name}')\n",
    "    es_callback = xgboost.callback.EarlyStopping(20, min_delta=0.001)\n",
    "    xgb = xgboost.XGBClassifier(\n",
    "        eval_metric=eval_metric,\n",
    "        callbacks=[pruning_callback, es_callback],\n",
    "        n_jobs=5,\n",
    "        **params\n",
    "    )\n",
    "    xgb.fit(\n",
    "        X_train, \n",
    "        y_train_enc, \n",
    "        verbose=0,\n",
    "        eval_set=[(X_val, y_val_enc)],\n",
    "    )\n",
    "    trial.set_user_attr('best_iteration', xgb.best_iteration)\n",
    "\n",
    "    return xgb.best_score"
   ]
  },
  {
   "cell_type": "code",
   "execution_count": 19,
   "id": "f417b734",
   "metadata": {
    "execution": {
     "iopub.execute_input": "2025-05-15T15:59:56.021219Z",
     "iopub.status.busy": "2025-05-15T15:59:56.020973Z",
     "iopub.status.idle": "2025-05-15T16:14:45.486520Z",
     "shell.execute_reply": "2025-05-15T16:14:45.485911Z"
    },
    "papermill": {
     "duration": 889.473126,
     "end_time": "2025-05-15T16:14:45.487882",
     "exception": false,
     "start_time": "2025-05-15T15:59:56.014756",
     "status": "completed"
    },
    "scrolled": true,
    "tags": []
   },
   "outputs": [
    {
     "name": "stderr",
     "output_type": "stream",
     "text": [
      "[I 2025-05-15 17:59:56,023] A new study created in memory with name: no-name-06c2e9ec-7c25-4c03-9471-2958258be0d3\n"
     ]
    },
    {
     "name": "stderr",
     "output_type": "stream",
     "text": [
      "[I 2025-05-15 18:00:04,646] Trial 0 finished with value: -0.616659 and parameters: {'max_depth': 9, 'min_child_weight': 238, 'subsample': 0.7587945476302645, 'colsample_bynode': 0.6387926357773329, 'learning_rate': 0.0026368755339723046}. Best is trial 0 with value: -0.616659.\n"
     ]
    },
    {
     "name": "stderr",
     "output_type": "stream",
     "text": [
      "[I 2025-05-15 18:01:18,350] Trial 1 finished with value: -0.729808 and parameters: {'max_depth': 5, 'min_child_weight': 15, 'subsample': 0.8795585311974417, 'colsample_bynode': 0.6410035105688879, 'learning_rate': 0.08148293210105287}. Best is trial 1 with value: -0.729808.\n"
     ]
    },
    {
     "name": "stderr",
     "output_type": "stream",
     "text": [
      "[I 2025-05-15 18:01:23,955] Trial 2 finished with value: -0.550538 and parameters: {'max_depth': 3, 'min_child_weight': 243, 'subsample': 0.8491983767203796, 'colsample_bynode': 0.29110519961044856, 'learning_rate': 0.003095566460242371}. Best is trial 1 with value: -0.729808.\n"
     ]
    },
    {
     "name": "stderr",
     "output_type": "stream",
     "text": [
      "[I 2025-05-15 18:01:34,659] Trial 3 finished with value: -0.625482 and parameters: {'max_depth': 6, 'min_child_weight': 77, 'subsample': 0.5722807884690141, 'colsample_bynode': 0.48875051677790415, 'learning_rate': 0.006109683510122491}. Best is trial 1 with value: -0.729808.\n"
     ]
    },
    {
     "name": "stderr",
     "output_type": "stream",
     "text": [
      "[I 2025-05-15 18:03:29,457] Trial 4 finished with value: -0.712558 and parameters: {'max_depth': 14, 'min_child_weight': 35, 'subsample': 0.3629301836816964, 'colsample_bynode': 0.4297256589643226, 'learning_rate': 0.01701841881702917}. Best is trial 1 with value: -0.729808.\n"
     ]
    },
    {
     "name": "stderr",
     "output_type": "stream",
     "text": [
      "[I 2025-05-15 18:03:40,471] Trial 5 pruned. Trial was pruned at iteration 28.\n"
     ]
    },
    {
     "name": "stderr",
     "output_type": "stream",
     "text": [
      "[I 2025-05-15 18:04:06,488] Trial 6 finished with value: -0.727026 and parameters: {'max_depth': 13, 'min_child_weight': 43, 'subsample': 0.1585464336867516, 'colsample_bynode': 0.9539969835279999, 'learning_rate': 0.4038423798071558}. Best is trial 1 with value: -0.729808.\n"
     ]
    },
    {
     "name": "stderr",
     "output_type": "stream",
     "text": [
      "[I 2025-05-15 18:04:07,161] Trial 7 pruned. Trial was pruned at iteration 0.\n"
     ]
    },
    {
     "name": "stderr",
     "output_type": "stream",
     "text": [
      "[I 2025-05-15 18:04:07,805] Trial 8 pruned. Trial was pruned at iteration 0.\n"
     ]
    },
    {
     "name": "stderr",
     "output_type": "stream",
     "text": [
      "[I 2025-05-15 18:04:09,530] Trial 9 pruned. Trial was pruned at iteration 3.\n"
     ]
    },
    {
     "name": "stderr",
     "output_type": "stream",
     "text": [
      "[I 2025-05-15 18:04:57,432] Trial 10 finished with value: -0.728448 and parameters: {'max_depth': 9, 'min_child_weight': 2, 'subsample': 0.9725833997090791, 'colsample_bynode': 0.11616568805333755, 'learning_rate': 0.17780618353487967}. Best is trial 1 with value: -0.729808.\n"
     ]
    },
    {
     "name": "stderr",
     "output_type": "stream",
     "text": [
      "[I 2025-05-15 18:06:08,747] Trial 11 finished with value: -0.730139 and parameters: {'max_depth': 9, 'min_child_weight': 4, 'subsample': 0.9818290990185045, 'colsample_bynode': 0.17702656156719, 'learning_rate': 0.11568531411766632}. Best is trial 11 with value: -0.730139.\n"
     ]
    },
    {
     "name": "stderr",
     "output_type": "stream",
     "text": [
      "[I 2025-05-15 18:06:25,361] Trial 12 pruned. Trial was pruned at iteration 37.\n"
     ]
    },
    {
     "name": "stderr",
     "output_type": "stream",
     "text": [
      "[I 2025-05-15 18:06:26,055] Trial 13 pruned. Trial was pruned at iteration 0.\n"
     ]
    },
    {
     "name": "stderr",
     "output_type": "stream",
     "text": [
      "[I 2025-05-15 18:06:26,819] Trial 14 pruned. Trial was pruned at iteration 0.\n"
     ]
    },
    {
     "name": "stderr",
     "output_type": "stream",
     "text": [
      "[I 2025-05-15 18:07:23,647] Trial 15 pruned. Trial was pruned at iteration 91.\n"
     ]
    },
    {
     "name": "stderr",
     "output_type": "stream",
     "text": [
      "[I 2025-05-15 18:07:24,367] Trial 16 pruned. Trial was pruned at iteration 0.\n"
     ]
    },
    {
     "name": "stderr",
     "output_type": "stream",
     "text": [
      "[I 2025-05-15 18:07:25,061] Trial 17 pruned. Trial was pruned at iteration 0.\n"
     ]
    },
    {
     "name": "stderr",
     "output_type": "stream",
     "text": [
      "[I 2025-05-15 18:08:21,426] Trial 18 finished with value: -0.733115 and parameters: {'max_depth': 11, 'min_child_weight': 37, 'subsample': 0.8988001325877066, 'colsample_bynode': 0.3955466156360019, 'learning_rate': 0.13348559174149954}. Best is trial 18 with value: -0.733115.\n"
     ]
    },
    {
     "name": "stderr",
     "output_type": "stream",
     "text": [
      "[I 2025-05-15 18:08:22,251] Trial 19 pruned. Trial was pruned at iteration 0.\n"
     ]
    },
    {
     "name": "stderr",
     "output_type": "stream",
     "text": [
      "[I 2025-05-15 18:08:30,880] Trial 20 pruned. Trial was pruned at iteration 22.\n"
     ]
    },
    {
     "name": "stderr",
     "output_type": "stream",
     "text": [
      "[I 2025-05-15 18:08:42,551] Trial 21 pruned. Trial was pruned at iteration 28.\n"
     ]
    },
    {
     "name": "stderr",
     "output_type": "stream",
     "text": [
      "[I 2025-05-15 18:08:43,273] Trial 22 pruned. Trial was pruned at iteration 0.\n"
     ]
    },
    {
     "name": "stderr",
     "output_type": "stream",
     "text": [
      "[I 2025-05-15 18:08:55,977] Trial 23 pruned. Trial was pruned at iteration 28.\n"
     ]
    },
    {
     "name": "stderr",
     "output_type": "stream",
     "text": [
      "[I 2025-05-15 18:09:06,400] Trial 24 pruned. Trial was pruned at iteration 28.\n"
     ]
    },
    {
     "name": "stderr",
     "output_type": "stream",
     "text": [
      "[I 2025-05-15 18:09:38,407] Trial 25 finished with value: -0.730834 and parameters: {'max_depth': 16, 'min_child_weight': 19, 'subsample': 0.6754107179778135, 'colsample_bynode': 0.27030683143201956, 'learning_rate': 0.23168559901409894}. Best is trial 18 with value: -0.733115.\n"
     ]
    },
    {
     "name": "stderr",
     "output_type": "stream",
     "text": [
      "[I 2025-05-15 18:09:39,205] Trial 26 pruned. Trial was pruned at iteration 0.\n"
     ]
    },
    {
     "name": "stderr",
     "output_type": "stream",
     "text": [
      "[I 2025-05-15 18:10:11,176] Trial 27 finished with value: -0.728379 and parameters: {'max_depth': 20, 'min_child_weight': 17, 'subsample': 0.6451461746298132, 'colsample_bynode': 0.20899205720966268, 'learning_rate': 0.24298939546043904}. Best is trial 18 with value: -0.733115.\n"
     ]
    },
    {
     "name": "stderr",
     "output_type": "stream",
     "text": [
      "[I 2025-05-15 18:10:11,909] Trial 28 pruned. Trial was pruned at iteration 0.\n"
     ]
    },
    {
     "name": "stderr",
     "output_type": "stream",
     "text": [
      "[I 2025-05-15 18:10:12,639] Trial 29 pruned. Trial was pruned at iteration 0.\n"
     ]
    },
    {
     "name": "stderr",
     "output_type": "stream",
     "text": [
      "[I 2025-05-15 18:10:16,444] Trial 30 pruned. Trial was pruned at iteration 8.\n"
     ]
    },
    {
     "name": "stderr",
     "output_type": "stream",
     "text": [
      "[I 2025-05-15 18:10:21,026] Trial 31 pruned. Trial was pruned at iteration 9.\n"
     ]
    },
    {
     "name": "stderr",
     "output_type": "stream",
     "text": [
      "[I 2025-05-15 18:11:00,573] Trial 32 finished with value: -0.734678 and parameters: {'max_depth': 10, 'min_child_weight': 37, 'subsample': 0.9185577427758733, 'colsample_bynode': 0.5337378120756864, 'learning_rate': 0.2035261415003552}. Best is trial 32 with value: -0.734678.\n"
     ]
    },
    {
     "name": "stderr",
     "output_type": "stream",
     "text": [
      "[I 2025-05-15 18:11:35,107] Trial 33 finished with value: -0.731437 and parameters: {'max_depth': 10, 'min_child_weight': 40, 'subsample': 0.921783357478424, 'colsample_bynode': 0.558247549813463, 'learning_rate': 0.22274894834291759}. Best is trial 32 with value: -0.734678.\n"
     ]
    },
    {
     "name": "stderr",
     "output_type": "stream",
     "text": [
      "[I 2025-05-15 18:12:03,319] Trial 34 finished with value: -0.730548 and parameters: {'max_depth': 10, 'min_child_weight': 41, 'subsample': 0.9226670238168811, 'colsample_bynode': 0.4126063413742277, 'learning_rate': 0.22441741958213057}. Best is trial 32 with value: -0.734678.\n"
     ]
    },
    {
     "name": "stderr",
     "output_type": "stream",
     "text": [
      "[I 2025-05-15 18:12:29,419] Trial 35 finished with value: -0.734324 and parameters: {'max_depth': 13, 'min_child_weight': 96, 'subsample': 0.8246280710555804, 'colsample_bynode': 0.5383980874768086, 'learning_rate': 0.35978332563905746}. Best is trial 32 with value: -0.734678.\n"
     ]
    },
    {
     "name": "stderr",
     "output_type": "stream",
     "text": [
      "[I 2025-05-15 18:12:30,231] Trial 36 pruned. Trial was pruned at iteration 0.\n"
     ]
    },
    {
     "name": "stderr",
     "output_type": "stream",
     "text": [
      "[I 2025-05-15 18:13:02,742] Trial 37 finished with value: -0.734282 and parameters: {'max_depth': 13, 'min_child_weight': 64, 'subsample': 0.8213931073044057, 'colsample_bynode': 0.6124936690713677, 'learning_rate': 0.33359434917404335}. Best is trial 32 with value: -0.734678.\n"
     ]
    },
    {
     "name": "stderr",
     "output_type": "stream",
     "text": [
      "[I 2025-05-15 18:13:03,566] Trial 38 pruned. Trial was pruned at iteration 0.\n"
     ]
    },
    {
     "name": "stderr",
     "output_type": "stream",
     "text": [
      "[I 2025-05-15 18:13:04,394] Trial 39 pruned. Trial was pruned at iteration 0.\n"
     ]
    },
    {
     "name": "stderr",
     "output_type": "stream",
     "text": [
      "[I 2025-05-15 18:13:05,213] Trial 40 pruned. Trial was pruned at iteration 0.\n"
     ]
    },
    {
     "name": "stderr",
     "output_type": "stream",
     "text": [
      "[I 2025-05-15 18:13:45,457] Trial 41 finished with value: -0.736025 and parameters: {'max_depth': 10, 'min_child_weight': 48, 'subsample': 0.9169306161685012, 'colsample_bynode': 0.5720545191908513, 'learning_rate': 0.35673073287078955}. Best is trial 41 with value: -0.736025.\n"
     ]
    },
    {
     "name": "stderr",
     "output_type": "stream",
     "text": [
      "[I 2025-05-15 18:14:12,110] Trial 42 finished with value: -0.731773 and parameters: {'max_depth': 11, 'min_child_weight': 51, 'subsample': 0.830995402266308, 'colsample_bynode': 0.605072726461141, 'learning_rate': 0.36384545773793747}. Best is trial 41 with value: -0.736025.\n"
     ]
    },
    {
     "name": "stderr",
     "output_type": "stream",
     "text": [
      "[I 2025-05-15 18:14:12,787] Trial 43 pruned. Trial was pruned at iteration 0.\n"
     ]
    },
    {
     "name": "stderr",
     "output_type": "stream",
     "text": [
      "[I 2025-05-15 18:14:40,777] Trial 44 finished with value: -0.731903 and parameters: {'max_depth': 10, 'min_child_weight': 32, 'subsample': 0.9267669364914973, 'colsample_bynode': 0.577494066381498, 'learning_rate': 0.32458779028959767}. Best is trial 41 with value: -0.736025.\n"
     ]
    },
    {
     "name": "stderr",
     "output_type": "stream",
     "text": [
      "[I 2025-05-15 18:14:41,566] Trial 45 pruned. Trial was pruned at iteration 0.\n"
     ]
    },
    {
     "name": "stderr",
     "output_type": "stream",
     "text": [
      "[I 2025-05-15 18:14:42,364] Trial 46 pruned. Trial was pruned at iteration 0.\n"
     ]
    },
    {
     "name": "stderr",
     "output_type": "stream",
     "text": [
      "[I 2025-05-15 18:14:43,192] Trial 47 pruned. Trial was pruned at iteration 0.\n"
     ]
    },
    {
     "name": "stderr",
     "output_type": "stream",
     "text": [
      "[I 2025-05-15 18:14:44,069] Trial 48 pruned. Trial was pruned at iteration 0.\n"
     ]
    },
    {
     "name": "stderr",
     "output_type": "stream",
     "text": [
      "[I 2025-05-15 18:14:45,376] Trial 49 pruned. Trial was pruned at iteration 1.\n"
     ]
    }
   ],
   "source": [
    "sampler = optuna.samplers.TPESampler(seed=42)\n",
    "study = optuna.create_study(direction='minimize', sampler=sampler)\n",
    "study.optimize(objective, n_trials=N_TRIALS, gc_after_trial=True)"
   ]
  },
  {
   "cell_type": "code",
   "execution_count": 20,
   "id": "a89560f6",
   "metadata": {
    "execution": {
     "iopub.execute_input": "2025-05-15T16:14:45.512895Z",
     "iopub.status.busy": "2025-05-15T16:14:45.512658Z",
     "iopub.status.idle": "2025-05-15T16:14:45.551589Z",
     "shell.execute_reply": "2025-05-15T16:14:45.551271Z"
    },
    "papermill": {
     "duration": 0.04996,
     "end_time": "2025-05-15T16:14:45.552481",
     "exception": false,
     "start_time": "2025-05-15T16:14:45.502521",
     "status": "completed"
    },
    "tags": []
   },
   "outputs": [
    {
     "data": {
      "text/plain": [
       "['/scratch_isilon/groups/singlecell/shared/projects/Inflammation-PBMCs-Atlas/03_downstream_analysis/08_gene_importance/xgboost_external_validation/xgboost_TopN_genes/results_20/study/Mono_13_0_xgboost.pkl']"
      ]
     },
     "execution_count": 20,
     "metadata": {},
     "output_type": "execute_result"
    }
   ],
   "source": [
    "out_dir = here(f'03_downstream_analysis/08_gene_importance/xgboost_external_validation/xgboost_TopN_genes/results_{N_GENES}/study')\n",
    "\n",
    "if not os.path.exists(out_dir):\n",
    "    os.makedirs(out_dir)\n",
    "    \n",
    "joblib.dump(study,os.path.join(out_dir, f'{CELL_TYPE}_{SEED}_{TEST_SPLIT_IDX}_xgboost.pkl'))"
   ]
  },
  {
   "cell_type": "code",
   "execution_count": 21,
   "id": "3384526a",
   "metadata": {
    "execution": {
     "iopub.execute_input": "2025-05-15T16:14:45.608797Z",
     "iopub.status.busy": "2025-05-15T16:14:45.608548Z",
     "iopub.status.idle": "2025-05-15T16:15:03.872373Z",
     "shell.execute_reply": "2025-05-15T16:15:03.871638Z"
    },
    "papermill": {
     "duration": 18.292664,
     "end_time": "2025-05-15T16:15:03.873385",
     "exception": false,
     "start_time": "2025-05-15T16:14:45.580721",
     "status": "completed"
    },
    "tags": []
   },
   "outputs": [
    {
     "data": {
      "text/html": [
       "<style>#sk-container-id-1 {\n",
       "  /* Definition of color scheme common for light and dark mode */\n",
       "  --sklearn-color-text: black;\n",
       "  --sklearn-color-line: gray;\n",
       "  /* Definition of color scheme for unfitted estimators */\n",
       "  --sklearn-color-unfitted-level-0: #fff5e6;\n",
       "  --sklearn-color-unfitted-level-1: #f6e4d2;\n",
       "  --sklearn-color-unfitted-level-2: #ffe0b3;\n",
       "  --sklearn-color-unfitted-level-3: chocolate;\n",
       "  /* Definition of color scheme for fitted estimators */\n",
       "  --sklearn-color-fitted-level-0: #f0f8ff;\n",
       "  --sklearn-color-fitted-level-1: #d4ebff;\n",
       "  --sklearn-color-fitted-level-2: #b3dbfd;\n",
       "  --sklearn-color-fitted-level-3: cornflowerblue;\n",
       "\n",
       "  /* Specific color for light theme */\n",
       "  --sklearn-color-text-on-default-background: var(--sg-text-color, var(--theme-code-foreground, var(--jp-content-font-color1, black)));\n",
       "  --sklearn-color-background: var(--sg-background-color, var(--theme-background, var(--jp-layout-color0, white)));\n",
       "  --sklearn-color-border-box: var(--sg-text-color, var(--theme-code-foreground, var(--jp-content-font-color1, black)));\n",
       "  --sklearn-color-icon: #696969;\n",
       "\n",
       "  @media (prefers-color-scheme: dark) {\n",
       "    /* Redefinition of color scheme for dark theme */\n",
       "    --sklearn-color-text-on-default-background: var(--sg-text-color, var(--theme-code-foreground, var(--jp-content-font-color1, white)));\n",
       "    --sklearn-color-background: var(--sg-background-color, var(--theme-background, var(--jp-layout-color0, #111)));\n",
       "    --sklearn-color-border-box: var(--sg-text-color, var(--theme-code-foreground, var(--jp-content-font-color1, white)));\n",
       "    --sklearn-color-icon: #878787;\n",
       "  }\n",
       "}\n",
       "\n",
       "#sk-container-id-1 {\n",
       "  color: var(--sklearn-color-text);\n",
       "}\n",
       "\n",
       "#sk-container-id-1 pre {\n",
       "  padding: 0;\n",
       "}\n",
       "\n",
       "#sk-container-id-1 input.sk-hidden--visually {\n",
       "  border: 0;\n",
       "  clip: rect(1px 1px 1px 1px);\n",
       "  clip: rect(1px, 1px, 1px, 1px);\n",
       "  height: 1px;\n",
       "  margin: -1px;\n",
       "  overflow: hidden;\n",
       "  padding: 0;\n",
       "  position: absolute;\n",
       "  width: 1px;\n",
       "}\n",
       "\n",
       "#sk-container-id-1 div.sk-dashed-wrapped {\n",
       "  border: 1px dashed var(--sklearn-color-line);\n",
       "  margin: 0 0.4em 0.5em 0.4em;\n",
       "  box-sizing: border-box;\n",
       "  padding-bottom: 0.4em;\n",
       "  background-color: var(--sklearn-color-background);\n",
       "}\n",
       "\n",
       "#sk-container-id-1 div.sk-container {\n",
       "  /* jupyter's `normalize.less` sets `[hidden] { display: none; }`\n",
       "     but bootstrap.min.css set `[hidden] { display: none !important; }`\n",
       "     so we also need the `!important` here to be able to override the\n",
       "     default hidden behavior on the sphinx rendered scikit-learn.org.\n",
       "     See: https://github.com/scikit-learn/scikit-learn/issues/21755 */\n",
       "  display: inline-block !important;\n",
       "  position: relative;\n",
       "}\n",
       "\n",
       "#sk-container-id-1 div.sk-text-repr-fallback {\n",
       "  display: none;\n",
       "}\n",
       "\n",
       "div.sk-parallel-item,\n",
       "div.sk-serial,\n",
       "div.sk-item {\n",
       "  /* draw centered vertical line to link estimators */\n",
       "  background-image: linear-gradient(var(--sklearn-color-text-on-default-background), var(--sklearn-color-text-on-default-background));\n",
       "  background-size: 2px 100%;\n",
       "  background-repeat: no-repeat;\n",
       "  background-position: center center;\n",
       "}\n",
       "\n",
       "/* Parallel-specific style estimator block */\n",
       "\n",
       "#sk-container-id-1 div.sk-parallel-item::after {\n",
       "  content: \"\";\n",
       "  width: 100%;\n",
       "  border-bottom: 2px solid var(--sklearn-color-text-on-default-background);\n",
       "  flex-grow: 1;\n",
       "}\n",
       "\n",
       "#sk-container-id-1 div.sk-parallel {\n",
       "  display: flex;\n",
       "  align-items: stretch;\n",
       "  justify-content: center;\n",
       "  background-color: var(--sklearn-color-background);\n",
       "  position: relative;\n",
       "}\n",
       "\n",
       "#sk-container-id-1 div.sk-parallel-item {\n",
       "  display: flex;\n",
       "  flex-direction: column;\n",
       "}\n",
       "\n",
       "#sk-container-id-1 div.sk-parallel-item:first-child::after {\n",
       "  align-self: flex-end;\n",
       "  width: 50%;\n",
       "}\n",
       "\n",
       "#sk-container-id-1 div.sk-parallel-item:last-child::after {\n",
       "  align-self: flex-start;\n",
       "  width: 50%;\n",
       "}\n",
       "\n",
       "#sk-container-id-1 div.sk-parallel-item:only-child::after {\n",
       "  width: 0;\n",
       "}\n",
       "\n",
       "/* Serial-specific style estimator block */\n",
       "\n",
       "#sk-container-id-1 div.sk-serial {\n",
       "  display: flex;\n",
       "  flex-direction: column;\n",
       "  align-items: center;\n",
       "  background-color: var(--sklearn-color-background);\n",
       "  padding-right: 1em;\n",
       "  padding-left: 1em;\n",
       "}\n",
       "\n",
       "\n",
       "/* Toggleable style: style used for estimator/Pipeline/ColumnTransformer box that is\n",
       "clickable and can be expanded/collapsed.\n",
       "- Pipeline and ColumnTransformer use this feature and define the default style\n",
       "- Estimators will overwrite some part of the style using the `sk-estimator` class\n",
       "*/\n",
       "\n",
       "/* Pipeline and ColumnTransformer style (default) */\n",
       "\n",
       "#sk-container-id-1 div.sk-toggleable {\n",
       "  /* Default theme specific background. It is overwritten whether we have a\n",
       "  specific estimator or a Pipeline/ColumnTransformer */\n",
       "  background-color: var(--sklearn-color-background);\n",
       "}\n",
       "\n",
       "/* Toggleable label */\n",
       "#sk-container-id-1 label.sk-toggleable__label {\n",
       "  cursor: pointer;\n",
       "  display: block;\n",
       "  width: 100%;\n",
       "  margin-bottom: 0;\n",
       "  padding: 0.5em;\n",
       "  box-sizing: border-box;\n",
       "  text-align: center;\n",
       "}\n",
       "\n",
       "#sk-container-id-1 label.sk-toggleable__label-arrow:before {\n",
       "  /* Arrow on the left of the label */\n",
       "  content: \"▸\";\n",
       "  float: left;\n",
       "  margin-right: 0.25em;\n",
       "  color: var(--sklearn-color-icon);\n",
       "}\n",
       "\n",
       "#sk-container-id-1 label.sk-toggleable__label-arrow:hover:before {\n",
       "  color: var(--sklearn-color-text);\n",
       "}\n",
       "\n",
       "/* Toggleable content - dropdown */\n",
       "\n",
       "#sk-container-id-1 div.sk-toggleable__content {\n",
       "  max-height: 0;\n",
       "  max-width: 0;\n",
       "  overflow: hidden;\n",
       "  text-align: left;\n",
       "  /* unfitted */\n",
       "  background-color: var(--sklearn-color-unfitted-level-0);\n",
       "}\n",
       "\n",
       "#sk-container-id-1 div.sk-toggleable__content.fitted {\n",
       "  /* fitted */\n",
       "  background-color: var(--sklearn-color-fitted-level-0);\n",
       "}\n",
       "\n",
       "#sk-container-id-1 div.sk-toggleable__content pre {\n",
       "  margin: 0.2em;\n",
       "  border-radius: 0.25em;\n",
       "  color: var(--sklearn-color-text);\n",
       "  /* unfitted */\n",
       "  background-color: var(--sklearn-color-unfitted-level-0);\n",
       "}\n",
       "\n",
       "#sk-container-id-1 div.sk-toggleable__content.fitted pre {\n",
       "  /* unfitted */\n",
       "  background-color: var(--sklearn-color-fitted-level-0);\n",
       "}\n",
       "\n",
       "#sk-container-id-1 input.sk-toggleable__control:checked~div.sk-toggleable__content {\n",
       "  /* Expand drop-down */\n",
       "  max-height: 200px;\n",
       "  max-width: 100%;\n",
       "  overflow: auto;\n",
       "}\n",
       "\n",
       "#sk-container-id-1 input.sk-toggleable__control:checked~label.sk-toggleable__label-arrow:before {\n",
       "  content: \"▾\";\n",
       "}\n",
       "\n",
       "/* Pipeline/ColumnTransformer-specific style */\n",
       "\n",
       "#sk-container-id-1 div.sk-label input.sk-toggleable__control:checked~label.sk-toggleable__label {\n",
       "  color: var(--sklearn-color-text);\n",
       "  background-color: var(--sklearn-color-unfitted-level-2);\n",
       "}\n",
       "\n",
       "#sk-container-id-1 div.sk-label.fitted input.sk-toggleable__control:checked~label.sk-toggleable__label {\n",
       "  background-color: var(--sklearn-color-fitted-level-2);\n",
       "}\n",
       "\n",
       "/* Estimator-specific style */\n",
       "\n",
       "/* Colorize estimator box */\n",
       "#sk-container-id-1 div.sk-estimator input.sk-toggleable__control:checked~label.sk-toggleable__label {\n",
       "  /* unfitted */\n",
       "  background-color: var(--sklearn-color-unfitted-level-2);\n",
       "}\n",
       "\n",
       "#sk-container-id-1 div.sk-estimator.fitted input.sk-toggleable__control:checked~label.sk-toggleable__label {\n",
       "  /* fitted */\n",
       "  background-color: var(--sklearn-color-fitted-level-2);\n",
       "}\n",
       "\n",
       "#sk-container-id-1 div.sk-label label.sk-toggleable__label,\n",
       "#sk-container-id-1 div.sk-label label {\n",
       "  /* The background is the default theme color */\n",
       "  color: var(--sklearn-color-text-on-default-background);\n",
       "}\n",
       "\n",
       "/* On hover, darken the color of the background */\n",
       "#sk-container-id-1 div.sk-label:hover label.sk-toggleable__label {\n",
       "  color: var(--sklearn-color-text);\n",
       "  background-color: var(--sklearn-color-unfitted-level-2);\n",
       "}\n",
       "\n",
       "/* Label box, darken color on hover, fitted */\n",
       "#sk-container-id-1 div.sk-label.fitted:hover label.sk-toggleable__label.fitted {\n",
       "  color: var(--sklearn-color-text);\n",
       "  background-color: var(--sklearn-color-fitted-level-2);\n",
       "}\n",
       "\n",
       "/* Estimator label */\n",
       "\n",
       "#sk-container-id-1 div.sk-label label {\n",
       "  font-family: monospace;\n",
       "  font-weight: bold;\n",
       "  display: inline-block;\n",
       "  line-height: 1.2em;\n",
       "}\n",
       "\n",
       "#sk-container-id-1 div.sk-label-container {\n",
       "  text-align: center;\n",
       "}\n",
       "\n",
       "/* Estimator-specific */\n",
       "#sk-container-id-1 div.sk-estimator {\n",
       "  font-family: monospace;\n",
       "  border: 1px dotted var(--sklearn-color-border-box);\n",
       "  border-radius: 0.25em;\n",
       "  box-sizing: border-box;\n",
       "  margin-bottom: 0.5em;\n",
       "  /* unfitted */\n",
       "  background-color: var(--sklearn-color-unfitted-level-0);\n",
       "}\n",
       "\n",
       "#sk-container-id-1 div.sk-estimator.fitted {\n",
       "  /* fitted */\n",
       "  background-color: var(--sklearn-color-fitted-level-0);\n",
       "}\n",
       "\n",
       "/* on hover */\n",
       "#sk-container-id-1 div.sk-estimator:hover {\n",
       "  /* unfitted */\n",
       "  background-color: var(--sklearn-color-unfitted-level-2);\n",
       "}\n",
       "\n",
       "#sk-container-id-1 div.sk-estimator.fitted:hover {\n",
       "  /* fitted */\n",
       "  background-color: var(--sklearn-color-fitted-level-2);\n",
       "}\n",
       "\n",
       "/* Specification for estimator info (e.g. \"i\" and \"?\") */\n",
       "\n",
       "/* Common style for \"i\" and \"?\" */\n",
       "\n",
       ".sk-estimator-doc-link,\n",
       "a:link.sk-estimator-doc-link,\n",
       "a:visited.sk-estimator-doc-link {\n",
       "  float: right;\n",
       "  font-size: smaller;\n",
       "  line-height: 1em;\n",
       "  font-family: monospace;\n",
       "  background-color: var(--sklearn-color-background);\n",
       "  border-radius: 1em;\n",
       "  height: 1em;\n",
       "  width: 1em;\n",
       "  text-decoration: none !important;\n",
       "  margin-left: 1ex;\n",
       "  /* unfitted */\n",
       "  border: var(--sklearn-color-unfitted-level-1) 1pt solid;\n",
       "  color: var(--sklearn-color-unfitted-level-1);\n",
       "}\n",
       "\n",
       ".sk-estimator-doc-link.fitted,\n",
       "a:link.sk-estimator-doc-link.fitted,\n",
       "a:visited.sk-estimator-doc-link.fitted {\n",
       "  /* fitted */\n",
       "  border: var(--sklearn-color-fitted-level-1) 1pt solid;\n",
       "  color: var(--sklearn-color-fitted-level-1);\n",
       "}\n",
       "\n",
       "/* On hover */\n",
       "div.sk-estimator:hover .sk-estimator-doc-link:hover,\n",
       ".sk-estimator-doc-link:hover,\n",
       "div.sk-label-container:hover .sk-estimator-doc-link:hover,\n",
       ".sk-estimator-doc-link:hover {\n",
       "  /* unfitted */\n",
       "  background-color: var(--sklearn-color-unfitted-level-3);\n",
       "  color: var(--sklearn-color-background);\n",
       "  text-decoration: none;\n",
       "}\n",
       "\n",
       "div.sk-estimator.fitted:hover .sk-estimator-doc-link.fitted:hover,\n",
       ".sk-estimator-doc-link.fitted:hover,\n",
       "div.sk-label-container:hover .sk-estimator-doc-link.fitted:hover,\n",
       ".sk-estimator-doc-link.fitted:hover {\n",
       "  /* fitted */\n",
       "  background-color: var(--sklearn-color-fitted-level-3);\n",
       "  color: var(--sklearn-color-background);\n",
       "  text-decoration: none;\n",
       "}\n",
       "\n",
       "/* Span, style for the box shown on hovering the info icon */\n",
       ".sk-estimator-doc-link span {\n",
       "  display: none;\n",
       "  z-index: 9999;\n",
       "  position: relative;\n",
       "  font-weight: normal;\n",
       "  right: .2ex;\n",
       "  padding: .5ex;\n",
       "  margin: .5ex;\n",
       "  width: min-content;\n",
       "  min-width: 20ex;\n",
       "  max-width: 50ex;\n",
       "  color: var(--sklearn-color-text);\n",
       "  box-shadow: 2pt 2pt 4pt #999;\n",
       "  /* unfitted */\n",
       "  background: var(--sklearn-color-unfitted-level-0);\n",
       "  border: .5pt solid var(--sklearn-color-unfitted-level-3);\n",
       "}\n",
       "\n",
       ".sk-estimator-doc-link.fitted span {\n",
       "  /* fitted */\n",
       "  background: var(--sklearn-color-fitted-level-0);\n",
       "  border: var(--sklearn-color-fitted-level-3);\n",
       "}\n",
       "\n",
       ".sk-estimator-doc-link:hover span {\n",
       "  display: block;\n",
       "}\n",
       "\n",
       "/* \"?\"-specific style due to the `<a>` HTML tag */\n",
       "\n",
       "#sk-container-id-1 a.estimator_doc_link {\n",
       "  float: right;\n",
       "  font-size: 1rem;\n",
       "  line-height: 1em;\n",
       "  font-family: monospace;\n",
       "  background-color: var(--sklearn-color-background);\n",
       "  border-radius: 1rem;\n",
       "  height: 1rem;\n",
       "  width: 1rem;\n",
       "  text-decoration: none;\n",
       "  /* unfitted */\n",
       "  color: var(--sklearn-color-unfitted-level-1);\n",
       "  border: var(--sklearn-color-unfitted-level-1) 1pt solid;\n",
       "}\n",
       "\n",
       "#sk-container-id-1 a.estimator_doc_link.fitted {\n",
       "  /* fitted */\n",
       "  border: var(--sklearn-color-fitted-level-1) 1pt solid;\n",
       "  color: var(--sklearn-color-fitted-level-1);\n",
       "}\n",
       "\n",
       "/* On hover */\n",
       "#sk-container-id-1 a.estimator_doc_link:hover {\n",
       "  /* unfitted */\n",
       "  background-color: var(--sklearn-color-unfitted-level-3);\n",
       "  color: var(--sklearn-color-background);\n",
       "  text-decoration: none;\n",
       "}\n",
       "\n",
       "#sk-container-id-1 a.estimator_doc_link.fitted:hover {\n",
       "  /* fitted */\n",
       "  background-color: var(--sklearn-color-fitted-level-3);\n",
       "}\n",
       "</style><div id=\"sk-container-id-1\" class=\"sk-top-container\"><div class=\"sk-text-repr-fallback\"><pre>XGBClassifier(base_score=None, booster=None, callbacks=None,\n",
       "              colsample_bylevel=None, colsample_bynode=0.5720545191908513,\n",
       "              colsample_bytree=None, device=None, early_stopping_rounds=None,\n",
       "              enable_categorical=False,\n",
       "              eval_metric=&lt;function custom_f1_score at 0x7fa657cb0540&gt;,\n",
       "              feature_types=None, gamma=None, grow_policy=None,\n",
       "              importance_type=None, interaction_constraints=None,\n",
       "              learning_rate=0.35673073287078955, max_bin=None,\n",
       "              max_cat_threshold=None, max_cat_to_onehot=None,\n",
       "              max_delta_step=None, max_depth=10, max_leaves=None,\n",
       "              min_child_weight=48, missing=nan, monotone_constraints=None,\n",
       "              multi_strategy=None, n_estimators=127, n_jobs=None,\n",
       "              num_parallel_tree=None, objective=&#x27;multi:softprob&#x27;, ...)</pre><b>In a Jupyter environment, please rerun this cell to show the HTML representation or trust the notebook. <br />On GitHub, the HTML representation is unable to render, please try loading this page with nbviewer.org.</b></div><div class=\"sk-container\" hidden><div class=\"sk-item\"><div class=\"sk-estimator fitted sk-toggleable\"><input class=\"sk-toggleable__control sk-hidden--visually\" id=\"sk-estimator-id-1\" type=\"checkbox\" checked><label for=\"sk-estimator-id-1\" class=\"sk-toggleable__label fitted sk-toggleable__label-arrow fitted\">&nbsp;XGBClassifier<span class=\"sk-estimator-doc-link fitted\">i<span>Fitted</span></span></label><div class=\"sk-toggleable__content fitted\"><pre>XGBClassifier(base_score=None, booster=None, callbacks=None,\n",
       "              colsample_bylevel=None, colsample_bynode=0.5720545191908513,\n",
       "              colsample_bytree=None, device=None, early_stopping_rounds=None,\n",
       "              enable_categorical=False,\n",
       "              eval_metric=&lt;function custom_f1_score at 0x7fa657cb0540&gt;,\n",
       "              feature_types=None, gamma=None, grow_policy=None,\n",
       "              importance_type=None, interaction_constraints=None,\n",
       "              learning_rate=0.35673073287078955, max_bin=None,\n",
       "              max_cat_threshold=None, max_cat_to_onehot=None,\n",
       "              max_delta_step=None, max_depth=10, max_leaves=None,\n",
       "              min_child_weight=48, missing=nan, monotone_constraints=None,\n",
       "              multi_strategy=None, n_estimators=127, n_jobs=None,\n",
       "              num_parallel_tree=None, objective=&#x27;multi:softprob&#x27;, ...)</pre></div> </div></div></div></div>"
      ],
      "text/plain": [
       "XGBClassifier(base_score=None, booster=None, callbacks=None,\n",
       "              colsample_bylevel=None, colsample_bynode=0.5720545191908513,\n",
       "              colsample_bytree=None, device=None, early_stopping_rounds=None,\n",
       "              enable_categorical=False,\n",
       "              eval_metric=<function custom_f1_score at 0x7fa657cb0540>,\n",
       "              feature_types=None, gamma=None, grow_policy=None,\n",
       "              importance_type=None, interaction_constraints=None,\n",
       "              learning_rate=0.35673073287078955, max_bin=None,\n",
       "              max_cat_threshold=None, max_cat_to_onehot=None,\n",
       "              max_delta_step=None, max_depth=10, max_leaves=None,\n",
       "              min_child_weight=48, missing=nan, monotone_constraints=None,\n",
       "              multi_strategy=None, n_estimators=127, n_jobs=None,\n",
       "              num_parallel_tree=None, objective='multi:softprob', ...)"
      ]
     },
     "execution_count": 21,
     "metadata": {},
     "output_type": "execute_result"
    }
   ],
   "source": [
    "n_estimators = int(study.best_trial.user_attrs['best_iteration']*1.2)\n",
    "xgb = xgboost.XGBClassifier(\n",
    "        eval_metric=eval_metric,\n",
    "        n_estimators=n_estimators,\n",
    "        **study.best_trial.params\n",
    "    )\n",
    "xgb.fit(\n",
    "    ssp.vstack((X_train, X_val)), \n",
    "    np.concatenate((y_train_enc, y_val_enc)),\n",
    "    verbose=1,\n",
    ")"
   ]
  },
  {
   "cell_type": "code",
   "execution_count": 22,
   "id": "06b7f046",
   "metadata": {
    "execution": {
     "iopub.execute_input": "2025-05-15T16:15:03.896311Z",
     "iopub.status.busy": "2025-05-15T16:15:03.895701Z",
     "iopub.status.idle": "2025-05-15T16:15:03.966482Z",
     "shell.execute_reply": "2025-05-15T16:15:03.966102Z"
    },
    "papermill": {
     "duration": 0.08181,
     "end_time": "2025-05-15T16:15:03.967541",
     "exception": false,
     "start_time": "2025-05-15T16:15:03.885731",
     "status": "completed"
    },
    "tags": []
   },
   "outputs": [
    {
     "data": {
      "text/plain": [
       "['/scratch_isilon/groups/singlecell/shared/projects/Inflammation-PBMCs-Atlas/03_downstream_analysis/08_gene_importance/xgboost_external_validation/xgboost_TopN_genes/results_20/best_model/Mono_13_0_xgb.json']"
      ]
     },
     "execution_count": 22,
     "metadata": {},
     "output_type": "execute_result"
    }
   ],
   "source": [
    "out_dir = here(f'03_downstream_analysis/08_gene_importance/xgboost_external_validation/xgboost_TopN_genes/results_{N_GENES}/best_model')\n",
    "\n",
    "if not os.path.exists(out_dir):\n",
    "    os.makedirs(out_dir)\n",
    "    \n",
    "joblib.dump(xgb, os.path.join(out_dir, f'{CELL_TYPE}_{SEED}_{TEST_SPLIT_IDX}_xgb.json'))"
   ]
  },
  {
   "cell_type": "code",
   "execution_count": 23,
   "id": "6ab71187",
   "metadata": {
    "execution": {
     "iopub.execute_input": "2025-05-15T16:15:03.988454Z",
     "iopub.status.busy": "2025-05-15T16:15:03.988206Z",
     "iopub.status.idle": "2025-05-15T16:15:04.803023Z",
     "shell.execute_reply": "2025-05-15T16:15:04.802611Z"
    },
    "papermill": {
     "duration": 0.826331,
     "end_time": "2025-05-15T16:15:04.804526",
     "exception": false,
     "start_time": "2025-05-15T16:15:03.978195",
     "status": "completed"
    },
    "tags": []
   },
   "outputs": [],
   "source": [
    "df_pred_test = pd.DataFrame(dict(\n",
    "    cell_id=train_adata.obs.iloc[test_idxs].index.values,\n",
    "    y_true=y_test, \n",
    "    y_true_code=y_test_enc, \n",
    "    y_pred=xgb.predict(X_test))).set_index('cell_id')"
   ]
  },
  {
   "cell_type": "code",
   "execution_count": 24,
   "id": "3e09933c",
   "metadata": {
    "execution": {
     "iopub.execute_input": "2025-05-15T16:15:04.825542Z",
     "iopub.status.busy": "2025-05-15T16:15:04.825316Z",
     "iopub.status.idle": "2025-05-15T16:15:04.968388Z",
     "shell.execute_reply": "2025-05-15T16:15:04.967808Z"
    },
    "papermill": {
     "duration": 0.15454,
     "end_time": "2025-05-15T16:15:04.969495",
     "exception": false,
     "start_time": "2025-05-15T16:15:04.814955",
     "status": "completed"
    },
    "tags": []
   },
   "outputs": [],
   "source": [
    "out_dir = here(f'03_downstream_analysis/08_gene_importance/xgboost_external_validation/xgboost_TopN_genes/results_{N_GENES}/predictions')\n",
    "\n",
    "if not os.path.exists(out_dir):\n",
    "    os.makedirs(out_dir)\n",
    "    \n",
    "df_pred_test.to_csv(os.path.join(out_dir, f'{CELL_TYPE}_{SEED}_{TEST_SPLIT_IDX}_pred_test.zip'))"
   ]
  },
  {
   "cell_type": "code",
   "execution_count": 25,
   "id": "657dd63f",
   "metadata": {
    "execution": {
     "iopub.execute_input": "2025-05-15T16:15:04.990169Z",
     "iopub.status.busy": "2025-05-15T16:15:04.989946Z",
     "iopub.status.idle": "2025-05-15T16:15:05.004791Z",
     "shell.execute_reply": "2025-05-15T16:15:05.004365Z"
    },
    "papermill": {
     "duration": 0.026038,
     "end_time": "2025-05-15T16:15:05.005764",
     "exception": false,
     "start_time": "2025-05-15T16:15:04.979726",
     "status": "completed"
    },
    "tags": []
   },
   "outputs": [],
   "source": [
    "metrics_dict = dict(\n",
    "    BAS=balanced_accuracy_score(y_true=df_pred_test.y_true_code, y_pred=df_pred_test.y_pred), WF1=f1_score(y_true=df_pred_test.y_true_code, y_pred=df_pred_test.y_pred,average='weighted'))"
   ]
  },
  {
   "cell_type": "code",
   "execution_count": 26,
   "id": "895a2de7",
   "metadata": {
    "execution": {
     "iopub.execute_input": "2025-05-15T16:15:05.026485Z",
     "iopub.status.busy": "2025-05-15T16:15:05.026080Z",
     "iopub.status.idle": "2025-05-15T16:15:05.029230Z",
     "shell.execute_reply": "2025-05-15T16:15:05.028917Z"
    },
    "papermill": {
     "duration": 0.013529,
     "end_time": "2025-05-15T16:15:05.030148",
     "exception": false,
     "start_time": "2025-05-15T16:15:05.016619",
     "status": "completed"
    },
    "tags": []
   },
   "outputs": [
    {
     "data": {
      "text/plain": [
       "{'BAS': 0.6446907466392119, 'WF1': 0.8626078315009827}"
      ]
     },
     "execution_count": 26,
     "metadata": {},
     "output_type": "execute_result"
    }
   ],
   "source": [
    "metrics_dict"
   ]
  },
  {
   "cell_type": "code",
   "execution_count": 27,
   "id": "d809679e",
   "metadata": {
    "execution": {
     "iopub.execute_input": "2025-05-15T16:15:05.060683Z",
     "iopub.status.busy": "2025-05-15T16:15:05.060400Z",
     "iopub.status.idle": "2025-05-15T16:15:05.069725Z",
     "shell.execute_reply": "2025-05-15T16:15:05.069383Z"
    },
    "papermill": {
     "duration": 0.031126,
     "end_time": "2025-05-15T16:15:05.070580",
     "exception": false,
     "start_time": "2025-05-15T16:15:05.039454",
     "status": "completed"
    },
    "tags": []
   },
   "outputs": [
    {
     "data": {
      "text/html": [
       "<div>\n",
       "<style scoped>\n",
       "    .dataframe tbody tr th:only-of-type {\n",
       "        vertical-align: middle;\n",
       "    }\n",
       "\n",
       "    .dataframe tbody tr th {\n",
       "        vertical-align: top;\n",
       "    }\n",
       "\n",
       "    .dataframe thead th {\n",
       "        text-align: right;\n",
       "    }\n",
       "</style>\n",
       "<table border=\"1\" class=\"dataframe\">\n",
       "  <thead>\n",
       "    <tr style=\"text-align: right;\">\n",
       "      <th></th>\n",
       "      <th>BAS</th>\n",
       "      <th>WF1</th>\n",
       "      <th>split_idx</th>\n",
       "      <th>gene_set_seed</th>\n",
       "      <th>cell_type</th>\n",
       "    </tr>\n",
       "  </thead>\n",
       "  <tbody>\n",
       "    <tr>\n",
       "      <th>0</th>\n",
       "      <td>0.644691</td>\n",
       "      <td>0.862608</td>\n",
       "      <td>0</td>\n",
       "      <td>13</td>\n",
       "      <td>Mono</td>\n",
       "    </tr>\n",
       "  </tbody>\n",
       "</table>\n",
       "</div>"
      ],
      "text/plain": [
       "        BAS       WF1  split_idx  gene_set_seed cell_type\n",
       "0  0.644691  0.862608          0             13      Mono"
      ]
     },
     "execution_count": 27,
     "metadata": {},
     "output_type": "execute_result"
    }
   ],
   "source": [
    "metrics_df = pd.DataFrame.from_dict([metrics_dict]).assign(split_idx=TEST_SPLIT_IDX, gene_set_seed=SEED, cell_type=CELL_TYPE)\n",
    "metrics_df"
   ]
  },
  {
   "cell_type": "code",
   "execution_count": 28,
   "id": "5ca43d27",
   "metadata": {
    "execution": {
     "iopub.execute_input": "2025-05-15T16:15:05.090453Z",
     "iopub.status.busy": "2025-05-15T16:15:05.090118Z",
     "iopub.status.idle": "2025-05-15T16:15:05.121914Z",
     "shell.execute_reply": "2025-05-15T16:15:05.121465Z"
    },
    "papermill": {
     "duration": 0.042538,
     "end_time": "2025-05-15T16:15:05.122885",
     "exception": false,
     "start_time": "2025-05-15T16:15:05.080347",
     "status": "completed"
    },
    "tags": []
   },
   "outputs": [],
   "source": [
    "out_dir = here(f'03_downstream_analysis/08_gene_importance/xgboost_external_validation/xgboost_TopN_genes/results_{N_GENES}/metrics')\n",
    "\n",
    "if not os.path.exists(out_dir):\n",
    "    os.makedirs(out_dir)\n",
    "    \n",
    "metrics_df.to_csv(os.path.join(out_dir, f'{CELL_TYPE}_{SEED}_{TEST_SPLIT_IDX}_metrics.zip'))"
   ]
  }
 ],
 "metadata": {
  "kernelspec": {
   "display_name": "Python 3 (ipykernel)",
   "language": "python",
   "name": "python3"
  },
  "language_info": {
   "codemirror_mode": {
    "name": "ipython",
    "version": 3
   },
   "file_extension": ".py",
   "mimetype": "text/x-python",
   "name": "python",
   "nbconvert_exporter": "python",
   "pygments_lexer": "ipython3",
   "version": "3.12.5"
  },
  "papermill": {
   "default_parameters": {},
   "duration": 914.775177,
   "end_time": "2025-05-15T16:15:05.849898",
   "environment_variables": {},
   "exception": null,
   "input_path": "02_xgboost_fitting_external_20genes.ipynb",
   "output_path": "results_20/executed_notebooks/xgboost_fitting_external_CT_Mono_GS_13_seed0.ipynb",
   "parameters": {
    "CELL_TYPE": "Mono",
    "SEED": 13,
    "TEST_SPLIT_IDX": 0
   },
   "start_time": "2025-05-15T15:59:51.074721",
   "version": "2.6.0"
  }
 },
 "nbformat": 4,
 "nbformat_minor": 5
}