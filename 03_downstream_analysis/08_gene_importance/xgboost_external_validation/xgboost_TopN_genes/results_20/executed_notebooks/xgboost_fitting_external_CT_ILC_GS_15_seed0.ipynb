{
 "cells": [
  {
   "cell_type": "code",
   "execution_count": 1,
   "id": "65ee5a96",
   "metadata": {
    "editable": true,
    "execution": {
     "iopub.execute_input": "2025-05-15T16:14:10.283351Z",
     "iopub.status.busy": "2025-05-15T16:14:10.283077Z",
     "iopub.status.idle": "2025-05-15T16:14:10.285992Z",
     "shell.execute_reply": "2025-05-15T16:14:10.285643Z"
    },
    "papermill": {
     "duration": 0.014368,
     "end_time": "2025-05-15T16:14:10.287037",
     "exception": false,
     "start_time": "2025-05-15T16:14:10.272669",
     "status": "completed"
    },
    "slideshow": {
     "slide_type": ""
    },
    "tags": [
     "parameters"
    ]
   },
   "outputs": [],
   "source": [
    "CELL_TYPE = 'pDC'\n",
    "N_GENES: int = 20\n",
    "SEED = 'shap_studyID' #'disease_NOstudy' 'study_NOdisease' or 'int' or 'shap_studyID'\n",
    "TEST_SPLIT_IDX: int = 1 #[0,4]"
   ]
  },
  {
   "cell_type": "code",
   "execution_count": 2,
   "id": "65394ee5",
   "metadata": {
    "execution": {
     "iopub.execute_input": "2025-05-15T16:14:10.321661Z",
     "iopub.status.busy": "2025-05-15T16:14:10.321397Z",
     "iopub.status.idle": "2025-05-15T16:14:10.323716Z",
     "shell.execute_reply": "2025-05-15T16:14:10.323353Z"
    },
    "papermill": {
     "duration": 0.031618,
     "end_time": "2025-05-15T16:14:10.324708",
     "exception": false,
     "start_time": "2025-05-15T16:14:10.293090",
     "status": "completed"
    },
    "tags": [
     "injected-parameters"
    ]
   },
   "outputs": [],
   "source": [
    "# Parameters\n",
    "CELL_TYPE = \"ILC\"\n",
    "SEED = 15\n",
    "TEST_SPLIT_IDX = 0\n"
   ]
  },
  {
   "cell_type": "code",
   "execution_count": 3,
   "id": "c3b99eda",
   "metadata": {
    "execution": {
     "iopub.execute_input": "2025-05-15T16:14:10.337920Z",
     "iopub.status.busy": "2025-05-15T16:14:10.337658Z",
     "iopub.status.idle": "2025-05-15T16:14:10.339900Z",
     "shell.execute_reply": "2025-05-15T16:14:10.339551Z"
    },
    "papermill": {
     "duration": 0.009595,
     "end_time": "2025-05-15T16:14:10.340804",
     "exception": false,
     "start_time": "2025-05-15T16:14:10.331209",
     "status": "completed"
    },
    "tags": []
   },
   "outputs": [],
   "source": [
    "N_SPLITS: int = 5\n",
    "N_TRIALS: int = 50"
   ]
  },
  {
   "cell_type": "code",
   "execution_count": 4,
   "id": "3fe6ae85",
   "metadata": {
    "execution": {
     "iopub.execute_input": "2025-05-15T16:14:10.355037Z",
     "iopub.status.busy": "2025-05-15T16:14:10.354757Z",
     "iopub.status.idle": "2025-05-15T16:14:11.866792Z",
     "shell.execute_reply": "2025-05-15T16:14:11.866250Z"
    },
    "papermill": {
     "duration": 1.521654,
     "end_time": "2025-05-15T16:14:11.868341",
     "exception": false,
     "start_time": "2025-05-15T16:14:10.346687",
     "status": "completed"
    },
    "tags": []
   },
   "outputs": [],
   "source": [
    "import os\n",
    "import sys\n",
    "from pyprojroot.here import here\n",
    "import pandas as pd\n",
    "import anndata as ad\n",
    "import numpy as np\n",
    "import math\n",
    "from sklearn.model_selection import StratifiedGroupKFold\n",
    "from sklearn.preprocessing import LabelEncoder\n",
    "from sklearn.metrics import f1_score\n",
    "import matplotlib.pyplot as plt\n",
    "import seaborn as sns\n",
    "from itertools import product\n",
    "from sklearn.metrics import balanced_accuracy_score, f1_score\n",
    "import optuna\n",
    "\n",
    "import joblib\n",
    "import pickle\n",
    "import datetime\n",
    "\n",
    "import collections\n",
    "\n",
    "import xgboost\n",
    "from sklearn.preprocessing import LabelEncoder\n",
    "\n",
    "import scipy.sparse as ssp\n",
    "import joblib\n",
    "\n",
    "from dotenv import load_dotenv"
   ]
  },
  {
   "cell_type": "code",
   "execution_count": 5,
   "id": "bb5728c1",
   "metadata": {
    "execution": {
     "iopub.execute_input": "2025-05-15T16:14:11.889660Z",
     "iopub.status.busy": "2025-05-15T16:14:11.889253Z",
     "iopub.status.idle": "2025-05-15T16:14:11.895405Z",
     "shell.execute_reply": "2025-05-15T16:14:11.895042Z"
    },
    "papermill": {
     "duration": 0.021324,
     "end_time": "2025-05-15T16:14:11.896326",
     "exception": false,
     "start_time": "2025-05-15T16:14:11.875002",
     "status": "completed"
    },
    "tags": []
   },
   "outputs": [
    {
     "data": {
      "text/plain": [
       "True"
      ]
     },
     "execution_count": 5,
     "metadata": {},
     "output_type": "execute_result"
    }
   ],
   "source": [
    "load_dotenv()"
   ]
  },
  {
   "cell_type": "markdown",
   "id": "907d28ca",
   "metadata": {
    "papermill": {
     "duration": 0.006271,
     "end_time": "2025-05-15T16:14:11.908839",
     "exception": false,
     "start_time": "2025-05-15T16:14:11.902568",
     "status": "completed"
    },
    "tags": []
   },
   "source": [
    "# LOAD DATASET"
   ]
  },
  {
   "cell_type": "code",
   "execution_count": 6,
   "id": "942af6dd",
   "metadata": {
    "execution": {
     "iopub.execute_input": "2025-05-15T16:14:11.922504Z",
     "iopub.status.busy": "2025-05-15T16:14:11.922095Z",
     "iopub.status.idle": "2025-05-15T16:14:12.193511Z",
     "shell.execute_reply": "2025-05-15T16:14:12.193005Z"
    },
    "papermill": {
     "duration": 0.279838,
     "end_time": "2025-05-15T16:14:12.194810",
     "exception": false,
     "start_time": "2025-05-15T16:14:11.914972",
     "status": "completed"
    },
    "tags": []
   },
   "outputs": [],
   "source": [
    "train_adata = ad.read_h5ad(\n",
    "    here(f'03_downstream_analysis/08_gene_importance/xgboost_external_validation/xgboost_TopN_genes/data_cellTypes/EXTERNAL_{CELL_TYPE}.filtered.log1p.h5ad')\n",
    ")"
   ]
  },
  {
   "cell_type": "code",
   "execution_count": 7,
   "id": "b93ff1e3",
   "metadata": {
    "execution": {
     "iopub.execute_input": "2025-05-15T16:14:12.209272Z",
     "iopub.status.busy": "2025-05-15T16:14:12.209056Z",
     "iopub.status.idle": "2025-05-15T16:14:12.227751Z",
     "shell.execute_reply": "2025-05-15T16:14:12.227389Z"
    },
    "papermill": {
     "duration": 0.027074,
     "end_time": "2025-05-15T16:14:12.228728",
     "exception": false,
     "start_time": "2025-05-15T16:14:12.201654",
     "status": "completed"
    },
    "tags": []
   },
   "outputs": [
    {
     "name": "stdout",
     "output_type": "stream",
     "text": [
      "['ENSG00000188313' 'ENSG00000085265' 'ENSG00000100902' 'ENSG00000163931'\n",
      " 'ENSG00000141506' 'ENSG00000107485' 'ENSG00000167664' 'ENSG00000079805'\n",
      " 'ENSG00000104660' 'ENSG00000172183' 'ENSG00000134539' 'ENSG00000141526'\n",
      " 'ENSG00000172531' 'ENSG00000100911' 'ENSG00000140379' 'ENSG00000117450'\n",
      " 'ENSG00000189067' 'ENSG00000175768' 'ENSG00000111640' 'ENSG00000181036'\n",
      " 'ENSG00000101474' 'ENSG00000027697' 'ENSG00000078596' 'ENSG00000145912'\n",
      " 'ENSG00000111335' 'ENSG00000167004' 'ENSG00000122862' 'ENSG00000204525'\n",
      " 'ENSG00000118971' 'ENSG00000117984' 'ENSG00000185201' 'ENSG00000240065'\n",
      " 'ENSG00000183486' 'ENSG00000152518' 'ENSG00000165527' 'ENSG00000169896'\n",
      " 'ENSG00000106799' 'ENSG00000143761' 'ENSG00000108622' 'ENSG00000075234'\n",
      " 'ENSG00000197111' 'ENSG00000171476' 'ENSG00000173757' 'ENSG00000119655'\n",
      " 'ENSG00000176986' 'ENSG00000007264' 'ENSG00000171700' 'ENSG00000277632'\n",
      " 'ENSG00000134107' 'ENSG00000134545' 'ENSG00000145220' 'ENSG00000128524'\n",
      " 'ENSG00000157514' 'ENSG00000075426' 'ENSG00000152234' 'ENSG00000142634'\n",
      " 'ENSG00000077150' 'ENSG00000223865' 'ENSG00000228474' 'ENSG00000185338'\n",
      " 'ENSG00000168329' 'ENSG00000019582' 'ENSG00000154814' 'ENSG00000102265'\n",
      " 'ENSG00000130066' 'ENSG00000204257' 'ENSG00000134285' 'ENSG00000243772'\n",
      " 'ENSG00000132432' 'ENSG00000144746' 'ENSG00000105374' 'ENSG00000163131'\n",
      " 'ENSG00000123416' 'ENSG00000179094' 'ENSG00000122359' 'ENSG00000177556'\n",
      " 'ENSG00000042753' 'ENSG00000170296' 'ENSG00000198846' 'ENSG00000105851'\n",
      " 'ENSG00000069702' 'ENSG00000103187' 'ENSG00000008517' 'ENSG00000227507'\n",
      " 'ENSG00000151882' 'ENSG00000164307' 'ENSG00000103522' 'ENSG00000113088'\n",
      " 'ENSG00000103490' 'ENSG00000090382' 'ENSG00000028137' 'ENSG00000077238'\n",
      " 'ENSG00000168685' 'ENSG00000131143' 'ENSG00000117020' 'ENSG00000165280'\n",
      " 'ENSG00000235162' 'ENSG00000111678' 'ENSG00000156587' 'ENSG00000143933']\n"
     ]
    }
   ],
   "source": [
    "if SEED != 'all':\n",
    "    gene_subset = np.load(here(f'03_downstream_analysis/08_gene_importance/xgboost_external_validation/shap_gene_selection/gene_subsets_{N_GENES}/{CELL_TYPE}_{SEED}.npy'), allow_pickle=True)\n",
    "    train_adata = train_adata[:,gene_subset]\n",
    "    print(gene_subset)\n",
    "elif SEED == 'all':\n",
    "    print('Using all genes')\n",
    "else:\n",
    "    raise ValueError()"
   ]
  },
  {
   "cell_type": "code",
   "execution_count": 8,
   "id": "a0cafd66",
   "metadata": {
    "execution": {
     "iopub.execute_input": "2025-05-15T16:14:12.241939Z",
     "iopub.status.busy": "2025-05-15T16:14:12.241517Z",
     "iopub.status.idle": "2025-05-15T16:14:12.244813Z",
     "shell.execute_reply": "2025-05-15T16:14:12.244467Z"
    },
    "papermill": {
     "duration": 0.010772,
     "end_time": "2025-05-15T16:14:12.245727",
     "exception": false,
     "start_time": "2025-05-15T16:14:12.234955",
     "status": "completed"
    },
    "tags": []
   },
   "outputs": [
    {
     "data": {
      "text/plain": [
       "(36633, 100)"
      ]
     },
     "execution_count": 8,
     "metadata": {},
     "output_type": "execute_result"
    }
   ],
   "source": [
    "train_adata.shape"
   ]
  },
  {
   "cell_type": "code",
   "execution_count": 9,
   "id": "c069c586",
   "metadata": {
    "execution": {
     "iopub.execute_input": "2025-05-15T16:14:12.259813Z",
     "iopub.status.busy": "2025-05-15T16:14:12.259533Z",
     "iopub.status.idle": "2025-05-15T16:14:12.263401Z",
     "shell.execute_reply": "2025-05-15T16:14:12.263049Z"
    },
    "papermill": {
     "duration": 0.011763,
     "end_time": "2025-05-15T16:14:12.264303",
     "exception": false,
     "start_time": "2025-05-15T16:14:12.252540",
     "status": "completed"
    },
    "tags": []
   },
   "outputs": [
    {
     "data": {
      "text/plain": [
       "['RA', 'COVID', 'healthy', 'HIV', 'cirrhosis', 'CD', 'SLE', 'sepsis']\n",
       "Categories (8, object): ['CD', 'COVID', 'HIV', 'RA', 'SLE', 'cirrhosis', 'healthy', 'sepsis']"
      ]
     },
     "execution_count": 9,
     "metadata": {},
     "output_type": "execute_result"
    }
   ],
   "source": [
    "train_adata.obs.disease.unique()"
   ]
  },
  {
   "cell_type": "code",
   "execution_count": 10,
   "id": "20fd2c33",
   "metadata": {
    "execution": {
     "iopub.execute_input": "2025-05-15T16:14:12.278063Z",
     "iopub.status.busy": "2025-05-15T16:14:12.277806Z",
     "iopub.status.idle": "2025-05-15T16:14:12.281523Z",
     "shell.execute_reply": "2025-05-15T16:14:12.281175Z"
    },
    "papermill": {
     "duration": 0.011691,
     "end_time": "2025-05-15T16:14:12.282564",
     "exception": false,
     "start_time": "2025-05-15T16:14:12.270873",
     "status": "completed"
    },
    "tags": []
   },
   "outputs": [
    {
     "data": {
      "text/plain": [
       "['SCGT00val_I036024_T0', 'SCGT00val_I036016_T0', 'SCGT00val_I036023_T0', 'SCGT00val_I036021_T0', 'SCGT00val_I036028_T0', ..., '10XGenomics_10XHC2_T0', '10XGenomics_10XHC3_T0', '10XGenomics_10XHC5_T0', '10XGenomics_10XHC7_T0', '10XGenomics_10XHC8_T0']\n",
       "Length: 86\n",
       "Categories (86, object): ['10XGenomics_10XHC1_T0', '10XGenomics_10XHC2_T0', '10XGenomics_10XHC3_T0', '10XGenomics_10XHC4_T0', ..., 'Savage2021_BRISL6_T0', 'Savage2021_BRISL7_T0', 'Savage2021_PIDA_T0', 'Savage2021_PIDB_T0']"
      ]
     },
     "execution_count": 10,
     "metadata": {},
     "output_type": "execute_result"
    }
   ],
   "source": [
    "train_adata.obs.sampleID.unique()"
   ]
  },
  {
   "cell_type": "code",
   "execution_count": 11,
   "id": "33c2a395",
   "metadata": {
    "execution": {
     "iopub.execute_input": "2025-05-15T16:14:12.296281Z",
     "iopub.status.busy": "2025-05-15T16:14:12.296015Z",
     "iopub.status.idle": "2025-05-15T16:14:12.421159Z",
     "shell.execute_reply": "2025-05-15T16:14:12.420754Z"
    },
    "papermill": {
     "duration": 0.133421,
     "end_time": "2025-05-15T16:14:12.422651",
     "exception": false,
     "start_time": "2025-05-15T16:14:12.289230",
     "status": "completed"
    },
    "tags": []
   },
   "outputs": [],
   "source": [
    "all_idxs = np.arange(train_adata.obs.shape[0])\n",
    "left_out_splits = [s[1] for s in StratifiedGroupKFold(n_splits=N_SPLITS).split(all_idxs, train_adata.obs.disease, train_adata.obs.sampleID)]"
   ]
  },
  {
   "cell_type": "code",
   "execution_count": 12,
   "id": "df462ee7",
   "metadata": {
    "execution": {
     "iopub.execute_input": "2025-05-15T16:14:12.438098Z",
     "iopub.status.busy": "2025-05-15T16:14:12.437742Z",
     "iopub.status.idle": "2025-05-15T16:14:12.441541Z",
     "shell.execute_reply": "2025-05-15T16:14:12.441177Z"
    },
    "papermill": {
     "duration": 0.012177,
     "end_time": "2025-05-15T16:14:12.442493",
     "exception": false,
     "start_time": "2025-05-15T16:14:12.430316",
     "status": "completed"
    },
    "tags": []
   },
   "outputs": [
    {
     "data": {
      "text/plain": [
       "([2, 3, 4], 1, 0)"
      ]
     },
     "execution_count": 12,
     "metadata": {},
     "output_type": "execute_result"
    }
   ],
   "source": [
    "TRAIN_SPLIT_IDXS = [0,1,2,3,4]\n",
    "VAL_SPLIT_IDX = (TEST_SPLIT_IDX + 1) % 5\n",
    "TRAIN_SPLIT_IDXS.remove(TEST_SPLIT_IDX)\n",
    "TRAIN_SPLIT_IDXS.remove(VAL_SPLIT_IDX)\n",
    "TRAIN_SPLIT_IDXS, VAL_SPLIT_IDX, TEST_SPLIT_IDX"
   ]
  },
  {
   "cell_type": "code",
   "execution_count": 13,
   "id": "e91815c3",
   "metadata": {
    "execution": {
     "iopub.execute_input": "2025-05-15T16:14:12.457668Z",
     "iopub.status.busy": "2025-05-15T16:14:12.457470Z",
     "iopub.status.idle": "2025-05-15T16:14:12.460115Z",
     "shell.execute_reply": "2025-05-15T16:14:12.459746Z"
    },
    "papermill": {
     "duration": 0.011352,
     "end_time": "2025-05-15T16:14:12.461089",
     "exception": false,
     "start_time": "2025-05-15T16:14:12.449737",
     "status": "completed"
    },
    "tags": []
   },
   "outputs": [],
   "source": [
    "train_idxs = np.concatenate([left_out_splits[idx] for idx in TRAIN_SPLIT_IDXS])\n",
    "val_idxs = left_out_splits[VAL_SPLIT_IDX]\n",
    "test_idxs = left_out_splits[TEST_SPLIT_IDX]"
   ]
  },
  {
   "cell_type": "markdown",
   "id": "967bf850",
   "metadata": {
    "papermill": {
     "duration": 0.007607,
     "end_time": "2025-05-15T16:14:12.476904",
     "exception": false,
     "start_time": "2025-05-15T16:14:12.469297",
     "status": "completed"
    },
    "tags": []
   },
   "source": [
    "### SUBSET DATASET INTO TRAIN/TEST/VAL SPLITS"
   ]
  },
  {
   "cell_type": "code",
   "execution_count": 14,
   "id": "de0c79fc",
   "metadata": {
    "execution": {
     "iopub.execute_input": "2025-05-15T16:14:12.492719Z",
     "iopub.status.busy": "2025-05-15T16:14:12.492454Z",
     "iopub.status.idle": "2025-05-15T16:14:12.584297Z",
     "shell.execute_reply": "2025-05-15T16:14:12.583898Z"
    },
    "papermill": {
     "duration": 0.101037,
     "end_time": "2025-05-15T16:14:12.585455",
     "exception": false,
     "start_time": "2025-05-15T16:14:12.484418",
     "status": "completed"
    },
    "tags": []
   },
   "outputs": [
    {
     "data": {
      "text/plain": [
       "((22507, 100), (6966, 100), (7160, 100))"
      ]
     },
     "execution_count": 14,
     "metadata": {},
     "output_type": "execute_result"
    }
   ],
   "source": [
    "X_train = train_adata.X[train_idxs]\n",
    "X_test = train_adata.X[test_idxs]\n",
    "X_val = train_adata.X[val_idxs]\n",
    "X_train.shape, X_test.shape, X_val.shape"
   ]
  },
  {
   "cell_type": "code",
   "execution_count": 15,
   "id": "073a312e",
   "metadata": {
    "execution": {
     "iopub.execute_input": "2025-05-15T16:14:12.599888Z",
     "iopub.status.busy": "2025-05-15T16:14:12.599509Z",
     "iopub.status.idle": "2025-05-15T16:14:12.606836Z",
     "shell.execute_reply": "2025-05-15T16:14:12.606514Z"
    },
    "papermill": {
     "duration": 0.015349,
     "end_time": "2025-05-15T16:14:12.607770",
     "exception": false,
     "start_time": "2025-05-15T16:14:12.592421",
     "status": "completed"
    },
    "tags": []
   },
   "outputs": [
    {
     "data": {
      "text/plain": [
       "((22507,), (6966,), (7160,))"
      ]
     },
     "execution_count": 15,
     "metadata": {},
     "output_type": "execute_result"
    }
   ],
   "source": [
    "y_train = train_adata.obs.iloc[train_idxs].disease.values.astype(str)\n",
    "y_test = train_adata.obs.iloc[test_idxs].disease.values.astype(str)\n",
    "y_val = train_adata.obs.iloc[val_idxs].disease.values.astype(str)\n",
    "y_train.shape, y_test.shape, y_val.shape"
   ]
  },
  {
   "cell_type": "code",
   "execution_count": 16,
   "id": "9b9e98b7",
   "metadata": {
    "execution": {
     "iopub.execute_input": "2025-05-15T16:14:12.622126Z",
     "iopub.status.busy": "2025-05-15T16:14:12.621755Z",
     "iopub.status.idle": "2025-05-15T16:14:12.632300Z",
     "shell.execute_reply": "2025-05-15T16:14:12.631902Z"
    },
    "papermill": {
     "duration": 0.018513,
     "end_time": "2025-05-15T16:14:12.633206",
     "exception": false,
     "start_time": "2025-05-15T16:14:12.614693",
     "status": "completed"
    },
    "tags": []
   },
   "outputs": [],
   "source": [
    "lenc = LabelEncoder()\n",
    "y_train_enc = lenc.fit_transform(y_train)\n",
    "y_val_enc = lenc.transform(y_val)\n",
    "y_test_enc = lenc.transform(y_test)"
   ]
  },
  {
   "cell_type": "markdown",
   "id": "b56db35b",
   "metadata": {
    "papermill": {
     "duration": 0.007083,
     "end_time": "2025-05-15T16:14:12.647194",
     "exception": false,
     "start_time": "2025-05-15T16:14:12.640111",
     "status": "completed"
    },
    "tags": []
   },
   "source": [
    "### GENERATE F1 "
   ]
  },
  {
   "cell_type": "code",
   "execution_count": 17,
   "id": "ef09283e",
   "metadata": {
    "execution": {
     "iopub.execute_input": "2025-05-15T16:14:12.662821Z",
     "iopub.status.busy": "2025-05-15T16:14:12.662458Z",
     "iopub.status.idle": "2025-05-15T16:14:12.664834Z",
     "shell.execute_reply": "2025-05-15T16:14:12.664496Z"
    },
    "papermill": {
     "duration": 0.011415,
     "end_time": "2025-05-15T16:14:12.665807",
     "exception": false,
     "start_time": "2025-05-15T16:14:12.654392",
     "status": "completed"
    },
    "tags": []
   },
   "outputs": [],
   "source": [
    "def custom_f1_score(y_true, y_pred):\n",
    "    return -f1_score(y_true, y_pred.argmax(1), average='weighted')"
   ]
  },
  {
   "cell_type": "code",
   "execution_count": 18,
   "id": "769b5ea2",
   "metadata": {
    "execution": {
     "iopub.execute_input": "2025-05-15T16:14:12.681576Z",
     "iopub.status.busy": "2025-05-15T16:14:12.681235Z",
     "iopub.status.idle": "2025-05-15T16:14:12.685195Z",
     "shell.execute_reply": "2025-05-15T16:14:12.684869Z"
    },
    "papermill": {
     "duration": 0.013071,
     "end_time": "2025-05-15T16:14:12.686190",
     "exception": false,
     "start_time": "2025-05-15T16:14:12.673119",
     "status": "completed"
    },
    "tags": []
   },
   "outputs": [],
   "source": [
    "eval_metric=custom_f1_score\n",
    "eval_metric_name='custom_f1_score'\n",
    "\n",
    "def objective(trial):\n",
    "    params = {\n",
    "        'n_estimators': 1500,\n",
    "        'max_depth': trial.suggest_int('max_depth', 3, 20),\n",
    "        'min_child_weight': trial.suggest_int('min_child_weight', 1, 250),\n",
    "        'subsample': trial.suggest_float('subsample', 0.1, 1.0),\n",
    "        'colsample_bynode': trial.suggest_float('colsample_bynode', 0.1, 1.0),\n",
    "        'learning_rate': trial.suggest_float('learning_rate', 1e-3, 5e-1, log=True),\n",
    "    }\n",
    "    pruning_callback = optuna.integration.XGBoostPruningCallback(trial, f'validation_0-{eval_metric_name}')\n",
    "    es_callback = xgboost.callback.EarlyStopping(20, min_delta=0.001)\n",
    "    xgb = xgboost.XGBClassifier(\n",
    "        eval_metric=eval_metric,\n",
    "        callbacks=[pruning_callback, es_callback],\n",
    "        n_jobs=5,\n",
    "        **params\n",
    "    )\n",
    "    xgb.fit(\n",
    "        X_train, \n",
    "        y_train_enc, \n",
    "        verbose=0,\n",
    "        eval_set=[(X_val, y_val_enc)],\n",
    "    )\n",
    "    trial.set_user_attr('best_iteration', xgb.best_iteration)\n",
    "\n",
    "    return xgb.best_score"
   ]
  },
  {
   "cell_type": "code",
   "execution_count": 19,
   "id": "e4d373dd",
   "metadata": {
    "execution": {
     "iopub.execute_input": "2025-05-15T16:14:12.702153Z",
     "iopub.status.busy": "2025-05-15T16:14:12.701618Z",
     "iopub.status.idle": "2025-05-15T16:17:35.508989Z",
     "shell.execute_reply": "2025-05-15T16:17:35.508459Z"
    },
    "papermill": {
     "duration": 202.816583,
     "end_time": "2025-05-15T16:17:35.510414",
     "exception": false,
     "start_time": "2025-05-15T16:14:12.693831",
     "status": "completed"
    },
    "scrolled": true,
    "tags": []
   },
   "outputs": [
    {
     "name": "stderr",
     "output_type": "stream",
     "text": [
      "[I 2025-05-15 18:14:12,703] A new study created in memory with name: no-name-78f4ef2a-d2ca-40f9-bdd0-93dbd750eb60\n"
     ]
    },
    {
     "name": "stderr",
     "output_type": "stream",
     "text": [
      "[I 2025-05-15 18:14:17,323] Trial 0 finished with value: -0.568731 and parameters: {'max_depth': 9, 'min_child_weight': 238, 'subsample': 0.7587945476302645, 'colsample_bynode': 0.6387926357773329, 'learning_rate': 0.0026368755339723046}. Best is trial 0 with value: -0.568731.\n"
     ]
    },
    {
     "name": "stderr",
     "output_type": "stream",
     "text": [
      "[I 2025-05-15 18:14:30,370] Trial 1 finished with value: -0.681614 and parameters: {'max_depth': 5, 'min_child_weight': 15, 'subsample': 0.8795585311974417, 'colsample_bynode': 0.6410035105688879, 'learning_rate': 0.08148293210105287}. Best is trial 1 with value: -0.681614.\n"
     ]
    },
    {
     "name": "stderr",
     "output_type": "stream",
     "text": [
      "[I 2025-05-15 18:14:31,466] Trial 2 finished with value: -0.535133 and parameters: {'max_depth': 3, 'min_child_weight': 243, 'subsample': 0.8491983767203796, 'colsample_bynode': 0.29110519961044856, 'learning_rate': 0.003095566460242371}. Best is trial 1 with value: -0.681614.\n"
     ]
    },
    {
     "name": "stderr",
     "output_type": "stream",
     "text": [
      "[I 2025-05-15 18:14:35,391] Trial 3 finished with value: -0.589457 and parameters: {'max_depth': 6, 'min_child_weight': 77, 'subsample': 0.5722807884690141, 'colsample_bynode': 0.48875051677790415, 'learning_rate': 0.006109683510122491}. Best is trial 1 with value: -0.681614.\n"
     ]
    },
    {
     "name": "stderr",
     "output_type": "stream",
     "text": [
      "[I 2025-05-15 18:14:55,659] Trial 4 finished with value: -0.652122 and parameters: {'max_depth': 14, 'min_child_weight': 35, 'subsample': 0.3629301836816964, 'colsample_bynode': 0.4297256589643226, 'learning_rate': 0.01701841881702917}. Best is trial 1 with value: -0.681614.\n"
     ]
    },
    {
     "name": "stderr",
     "output_type": "stream",
     "text": [
      "[I 2025-05-15 18:14:58,922] Trial 5 finished with value: -0.597666 and parameters: {'max_depth': 17, 'min_child_weight': 50, 'subsample': 0.5628109945722505, 'colsample_bynode': 0.6331731119758383, 'learning_rate': 0.0013346527038305934}. Best is trial 1 with value: -0.681614.\n"
     ]
    },
    {
     "name": "stderr",
     "output_type": "stream",
     "text": [
      "[I 2025-05-15 18:14:59,141] Trial 6 pruned. Trial was pruned at iteration 0.\n"
     ]
    },
    {
     "name": "stderr",
     "output_type": "stream",
     "text": [
      "[I 2025-05-15 18:14:59,344] Trial 7 pruned. Trial was pruned at iteration 0.\n"
     ]
    },
    {
     "name": "stderr",
     "output_type": "stream",
     "text": [
      "[I 2025-05-15 18:14:59,544] Trial 8 pruned. Trial was pruned at iteration 0.\n"
     ]
    },
    {
     "name": "stderr",
     "output_type": "stream",
     "text": [
      "[I 2025-05-15 18:14:59,930] Trial 9 pruned. Trial was pruned at iteration 2.\n"
     ]
    },
    {
     "name": "stderr",
     "output_type": "stream",
     "text": [
      "[I 2025-05-15 18:15:12,143] Trial 10 finished with value: -0.682946 and parameters: {'max_depth': 9, 'min_child_weight': 2, 'subsample': 0.9725833997090791, 'colsample_bynode': 0.11616568805333755, 'learning_rate': 0.17780618353487967}. Best is trial 10 with value: -0.682946.\n"
     ]
    },
    {
     "name": "stderr",
     "output_type": "stream",
     "text": [
      "[I 2025-05-15 18:15:28,327] Trial 11 finished with value: -0.681097 and parameters: {'max_depth': 9, 'min_child_weight': 4, 'subsample': 0.9818290990185045, 'colsample_bynode': 0.17702656156719, 'learning_rate': 0.11568531411766632}. Best is trial 10 with value: -0.682946.\n"
     ]
    },
    {
     "name": "stderr",
     "output_type": "stream",
     "text": [
      "[I 2025-05-15 18:15:44,965] Trial 12 finished with value: -0.683224 and parameters: {'max_depth': 9, 'min_child_weight': 3, 'subsample': 0.9754570370311046, 'colsample_bynode': 0.14672783827498995, 'learning_rate': 0.08954997670613858}. Best is trial 12 with value: -0.683224.\n"
     ]
    },
    {
     "name": "stderr",
     "output_type": "stream",
     "text": [
      "[I 2025-05-15 18:15:45,200] Trial 13 pruned. Trial was pruned at iteration 0.\n"
     ]
    },
    {
     "name": "stderr",
     "output_type": "stream",
     "text": [
      "[I 2025-05-15 18:15:45,414] Trial 14 pruned. Trial was pruned at iteration 0.\n"
     ]
    },
    {
     "name": "stderr",
     "output_type": "stream",
     "text": [
      "[I 2025-05-15 18:16:09,123] Trial 15 finished with value: -0.6882 and parameters: {'max_depth': 20, 'min_child_weight': 2, 'subsample': 0.7157386387695167, 'colsample_bynode': 0.31387503510266057, 'learning_rate': 0.19723736175781964}. Best is trial 15 with value: -0.6882.\n"
     ]
    },
    {
     "name": "stderr",
     "output_type": "stream",
     "text": [
      "[I 2025-05-15 18:16:09,378] Trial 16 pruned. Trial was pruned at iteration 0.\n"
     ]
    },
    {
     "name": "stderr",
     "output_type": "stream",
     "text": [
      "[I 2025-05-15 18:16:09,581] Trial 17 pruned. Trial was pruned at iteration 0.\n"
     ]
    },
    {
     "name": "stderr",
     "output_type": "stream",
     "text": [
      "[I 2025-05-15 18:16:17,209] Trial 18 finished with value: -0.686085 and parameters: {'max_depth': 12, 'min_child_weight': 37, 'subsample': 0.825296870915829, 'colsample_bynode': 0.39941190542073557, 'learning_rate': 0.24721727091174975}. Best is trial 15 with value: -0.6882.\n"
     ]
    },
    {
     "name": "stderr",
     "output_type": "stream",
     "text": [
      "[I 2025-05-15 18:16:23,923] Trial 19 finished with value: -0.683076 and parameters: {'max_depth': 16, 'min_child_weight': 54, 'subsample': 0.8151808277008799, 'colsample_bynode': 0.4018559147683082, 'learning_rate': 0.2253400993454408}. Best is trial 15 with value: -0.6882.\n"
     ]
    },
    {
     "name": "stderr",
     "output_type": "stream",
     "text": [
      "[I 2025-05-15 18:16:24,155] Trial 20 pruned. Trial was pruned at iteration 0.\n"
     ]
    },
    {
     "name": "stderr",
     "output_type": "stream",
     "text": [
      "[I 2025-05-15 18:16:26,059] Trial 21 pruned. Trial was pruned at iteration 13.\n"
     ]
    },
    {
     "name": "stderr",
     "output_type": "stream",
     "text": [
      "[I 2025-05-15 18:16:26,356] Trial 22 pruned. Trial was pruned at iteration 0.\n"
     ]
    },
    {
     "name": "stderr",
     "output_type": "stream",
     "text": [
      "[I 2025-05-15 18:16:26,618] Trial 23 pruned. Trial was pruned at iteration 0.\n"
     ]
    },
    {
     "name": "stderr",
     "output_type": "stream",
     "text": [
      "[I 2025-05-15 18:16:26,862] Trial 24 pruned. Trial was pruned at iteration 0.\n"
     ]
    },
    {
     "name": "stderr",
     "output_type": "stream",
     "text": [
      "[I 2025-05-15 18:16:40,320] Trial 25 pruned. Trial was pruned at iteration 76.\n"
     ]
    },
    {
     "name": "stderr",
     "output_type": "stream",
     "text": [
      "[I 2025-05-15 18:16:40,584] Trial 26 pruned. Trial was pruned at iteration 0.\n"
     ]
    },
    {
     "name": "stderr",
     "output_type": "stream",
     "text": [
      "[I 2025-05-15 18:16:40,817] Trial 27 pruned. Trial was pruned at iteration 0.\n"
     ]
    },
    {
     "name": "stderr",
     "output_type": "stream",
     "text": [
      "[I 2025-05-15 18:16:41,060] Trial 28 pruned. Trial was pruned at iteration 0.\n"
     ]
    },
    {
     "name": "stderr",
     "output_type": "stream",
     "text": [
      "[I 2025-05-15 18:16:41,277] Trial 29 pruned. Trial was pruned at iteration 0.\n"
     ]
    },
    {
     "name": "stderr",
     "output_type": "stream",
     "text": [
      "[I 2025-05-15 18:16:41,477] Trial 30 pruned. Trial was pruned at iteration 0.\n"
     ]
    },
    {
     "name": "stderr",
     "output_type": "stream",
     "text": [
      "[I 2025-05-15 18:16:48,031] Trial 31 finished with value: -0.68247 and parameters: {'max_depth': 16, 'min_child_weight': 45, 'subsample': 0.8075480518584678, 'colsample_bynode': 0.3991749066098207, 'learning_rate': 0.2656535947867099}. Best is trial 15 with value: -0.6882.\n"
     ]
    },
    {
     "name": "stderr",
     "output_type": "stream",
     "text": [
      "[I 2025-05-15 18:16:50,422] Trial 32 pruned. Trial was pruned at iteration 12.\n"
     ]
    },
    {
     "name": "stderr",
     "output_type": "stream",
     "text": [
      "[I 2025-05-15 18:16:50,911] Trial 33 pruned. Trial was pruned at iteration 2.\n"
     ]
    },
    {
     "name": "stderr",
     "output_type": "stream",
     "text": [
      "[I 2025-05-15 18:16:57,289] Trial 34 finished with value: -0.687314 and parameters: {'max_depth': 12, 'min_child_weight': 37, 'subsample': 0.8504997988687164, 'colsample_bynode': 0.342306039241381, 'learning_rate': 0.1971435765514028}. Best is trial 15 with value: -0.6882.\n"
     ]
    },
    {
     "name": "stderr",
     "output_type": "stream",
     "text": [
      "[I 2025-05-15 18:16:57,565] Trial 35 pruned. Trial was pruned at iteration 0.\n"
     ]
    },
    {
     "name": "stderr",
     "output_type": "stream",
     "text": [
      "[I 2025-05-15 18:16:58,513] Trial 36 pruned. Trial was pruned at iteration 4.\n"
     ]
    },
    {
     "name": "stderr",
     "output_type": "stream",
     "text": [
      "[I 2025-05-15 18:16:58,917] Trial 37 pruned. Trial was pruned at iteration 2.\n"
     ]
    },
    {
     "name": "stderr",
     "output_type": "stream",
     "text": [
      "[I 2025-05-15 18:16:59,157] Trial 38 pruned. Trial was pruned at iteration 0.\n"
     ]
    },
    {
     "name": "stderr",
     "output_type": "stream",
     "text": [
      "[I 2025-05-15 18:16:59,393] Trial 39 pruned. Trial was pruned at iteration 0.\n"
     ]
    },
    {
     "name": "stderr",
     "output_type": "stream",
     "text": [
      "[I 2025-05-15 18:16:59,640] Trial 40 pruned. Trial was pruned at iteration 0.\n"
     ]
    },
    {
     "name": "stderr",
     "output_type": "stream",
     "text": [
      "[I 2025-05-15 18:16:59,905] Trial 41 pruned. Trial was pruned at iteration 0.\n"
     ]
    },
    {
     "name": "stderr",
     "output_type": "stream",
     "text": [
      "[I 2025-05-15 18:17:06,745] Trial 42 finished with value: -0.687 and parameters: {'max_depth': 15, 'min_child_weight': 43, 'subsample': 0.8759247384271673, 'colsample_bynode': 0.5237025884818179, 'learning_rate': 0.49068993229903557}. Best is trial 15 with value: -0.6882.\n"
     ]
    },
    {
     "name": "stderr",
     "output_type": "stream",
     "text": [
      "[I 2025-05-15 18:17:07,044] Trial 43 pruned. Trial was pruned at iteration 0.\n"
     ]
    },
    {
     "name": "stderr",
     "output_type": "stream",
     "text": [
      "[I 2025-05-15 18:17:07,306] Trial 44 pruned. Trial was pruned at iteration 0.\n"
     ]
    },
    {
     "name": "stderr",
     "output_type": "stream",
     "text": [
      "[I 2025-05-15 18:17:19,346] Trial 45 pruned. Trial was pruned at iteration 36.\n"
     ]
    },
    {
     "name": "stderr",
     "output_type": "stream",
     "text": [
      "[I 2025-05-15 18:17:28,561] Trial 46 finished with value: -0.685151 and parameters: {'max_depth': 14, 'min_child_weight': 20, 'subsample': 0.9624130157567816, 'colsample_bynode': 0.4502645469340938, 'learning_rate': 0.3033615407005966}. Best is trial 15 with value: -0.6882.\n"
     ]
    },
    {
     "name": "stderr",
     "output_type": "stream",
     "text": [
      "[I 2025-05-15 18:17:34,903] Trial 47 finished with value: -0.686088 and parameters: {'max_depth': 14, 'min_child_weight': 18, 'subsample': 0.7644083133814771, 'colsample_bynode': 0.3664286265598447, 'learning_rate': 0.4872450197595309}. Best is trial 15 with value: -0.6882.\n"
     ]
    },
    {
     "name": "stderr",
     "output_type": "stream",
     "text": [
      "[I 2025-05-15 18:17:35,157] Trial 48 pruned. Trial was pruned at iteration 0.\n"
     ]
    },
    {
     "name": "stderr",
     "output_type": "stream",
     "text": [
      "[I 2025-05-15 18:17:35,425] Trial 49 pruned. Trial was pruned at iteration 0.\n"
     ]
    }
   ],
   "source": [
    "sampler = optuna.samplers.TPESampler(seed=42)\n",
    "study = optuna.create_study(direction='minimize', sampler=sampler)\n",
    "study.optimize(objective, n_trials=N_TRIALS, gc_after_trial=True)"
   ]
  },
  {
   "cell_type": "code",
   "execution_count": 20,
   "id": "d41a4ce1",
   "metadata": {
    "execution": {
     "iopub.execute_input": "2025-05-15T16:17:35.529336Z",
     "iopub.status.busy": "2025-05-15T16:17:35.529126Z",
     "iopub.status.idle": "2025-05-15T16:17:35.553510Z",
     "shell.execute_reply": "2025-05-15T16:17:35.553130Z"
    },
    "papermill": {
     "duration": 0.034904,
     "end_time": "2025-05-15T16:17:35.554474",
     "exception": false,
     "start_time": "2025-05-15T16:17:35.519570",
     "status": "completed"
    },
    "tags": []
   },
   "outputs": [
    {
     "data": {
      "text/plain": [
       "['/scratch_isilon/groups/singlecell/shared/projects/Inflammation-PBMCs-Atlas/03_downstream_analysis/08_gene_importance/xgboost_external_validation/xgboost_TopN_genes/results_20/study/ILC_15_0_xgboost.pkl']"
      ]
     },
     "execution_count": 20,
     "metadata": {},
     "output_type": "execute_result"
    }
   ],
   "source": [
    "out_dir = here(f'03_downstream_analysis/08_gene_importance/xgboost_external_validation/xgboost_TopN_genes/results_{N_GENES}/study')\n",
    "\n",
    "if not os.path.exists(out_dir):\n",
    "    os.makedirs(out_dir)\n",
    "    \n",
    "joblib.dump(study,os.path.join(out_dir, f'{CELL_TYPE}_{SEED}_{TEST_SPLIT_IDX}_xgboost.pkl'))"
   ]
  },
  {
   "cell_type": "code",
   "execution_count": 21,
   "id": "15419137",
   "metadata": {
    "execution": {
     "iopub.execute_input": "2025-05-15T16:17:35.581429Z",
     "iopub.status.busy": "2025-05-15T16:17:35.581214Z",
     "iopub.status.idle": "2025-05-15T16:18:00.932759Z",
     "shell.execute_reply": "2025-05-15T16:18:00.932297Z"
    },
    "papermill": {
     "duration": 25.369178,
     "end_time": "2025-05-15T16:18:00.933914",
     "exception": false,
     "start_time": "2025-05-15T16:17:35.564736",
     "status": "completed"
    },
    "tags": []
   },
   "outputs": [
    {
     "data": {
      "text/html": [
       "<style>#sk-container-id-1 {\n",
       "  /* Definition of color scheme common for light and dark mode */\n",
       "  --sklearn-color-text: black;\n",
       "  --sklearn-color-line: gray;\n",
       "  /* Definition of color scheme for unfitted estimators */\n",
       "  --sklearn-color-unfitted-level-0: #fff5e6;\n",
       "  --sklearn-color-unfitted-level-1: #f6e4d2;\n",
       "  --sklearn-color-unfitted-level-2: #ffe0b3;\n",
       "  --sklearn-color-unfitted-level-3: chocolate;\n",
       "  /* Definition of color scheme for fitted estimators */\n",
       "  --sklearn-color-fitted-level-0: #f0f8ff;\n",
       "  --sklearn-color-fitted-level-1: #d4ebff;\n",
       "  --sklearn-color-fitted-level-2: #b3dbfd;\n",
       "  --sklearn-color-fitted-level-3: cornflowerblue;\n",
       "\n",
       "  /* Specific color for light theme */\n",
       "  --sklearn-color-text-on-default-background: var(--sg-text-color, var(--theme-code-foreground, var(--jp-content-font-color1, black)));\n",
       "  --sklearn-color-background: var(--sg-background-color, var(--theme-background, var(--jp-layout-color0, white)));\n",
       "  --sklearn-color-border-box: var(--sg-text-color, var(--theme-code-foreground, var(--jp-content-font-color1, black)));\n",
       "  --sklearn-color-icon: #696969;\n",
       "\n",
       "  @media (prefers-color-scheme: dark) {\n",
       "    /* Redefinition of color scheme for dark theme */\n",
       "    --sklearn-color-text-on-default-background: var(--sg-text-color, var(--theme-code-foreground, var(--jp-content-font-color1, white)));\n",
       "    --sklearn-color-background: var(--sg-background-color, var(--theme-background, var(--jp-layout-color0, #111)));\n",
       "    --sklearn-color-border-box: var(--sg-text-color, var(--theme-code-foreground, var(--jp-content-font-color1, white)));\n",
       "    --sklearn-color-icon: #878787;\n",
       "  }\n",
       "}\n",
       "\n",
       "#sk-container-id-1 {\n",
       "  color: var(--sklearn-color-text);\n",
       "}\n",
       "\n",
       "#sk-container-id-1 pre {\n",
       "  padding: 0;\n",
       "}\n",
       "\n",
       "#sk-container-id-1 input.sk-hidden--visually {\n",
       "  border: 0;\n",
       "  clip: rect(1px 1px 1px 1px);\n",
       "  clip: rect(1px, 1px, 1px, 1px);\n",
       "  height: 1px;\n",
       "  margin: -1px;\n",
       "  overflow: hidden;\n",
       "  padding: 0;\n",
       "  position: absolute;\n",
       "  width: 1px;\n",
       "}\n",
       "\n",
       "#sk-container-id-1 div.sk-dashed-wrapped {\n",
       "  border: 1px dashed var(--sklearn-color-line);\n",
       "  margin: 0 0.4em 0.5em 0.4em;\n",
       "  box-sizing: border-box;\n",
       "  padding-bottom: 0.4em;\n",
       "  background-color: var(--sklearn-color-background);\n",
       "}\n",
       "\n",
       "#sk-container-id-1 div.sk-container {\n",
       "  /* jupyter's `normalize.less` sets `[hidden] { display: none; }`\n",
       "     but bootstrap.min.css set `[hidden] { display: none !important; }`\n",
       "     so we also need the `!important` here to be able to override the\n",
       "     default hidden behavior on the sphinx rendered scikit-learn.org.\n",
       "     See: https://github.com/scikit-learn/scikit-learn/issues/21755 */\n",
       "  display: inline-block !important;\n",
       "  position: relative;\n",
       "}\n",
       "\n",
       "#sk-container-id-1 div.sk-text-repr-fallback {\n",
       "  display: none;\n",
       "}\n",
       "\n",
       "div.sk-parallel-item,\n",
       "div.sk-serial,\n",
       "div.sk-item {\n",
       "  /* draw centered vertical line to link estimators */\n",
       "  background-image: linear-gradient(var(--sklearn-color-text-on-default-background), var(--sklearn-color-text-on-default-background));\n",
       "  background-size: 2px 100%;\n",
       "  background-repeat: no-repeat;\n",
       "  background-position: center center;\n",
       "}\n",
       "\n",
       "/* Parallel-specific style estimator block */\n",
       "\n",
       "#sk-container-id-1 div.sk-parallel-item::after {\n",
       "  content: \"\";\n",
       "  width: 100%;\n",
       "  border-bottom: 2px solid var(--sklearn-color-text-on-default-background);\n",
       "  flex-grow: 1;\n",
       "}\n",
       "\n",
       "#sk-container-id-1 div.sk-parallel {\n",
       "  display: flex;\n",
       "  align-items: stretch;\n",
       "  justify-content: center;\n",
       "  background-color: var(--sklearn-color-background);\n",
       "  position: relative;\n",
       "}\n",
       "\n",
       "#sk-container-id-1 div.sk-parallel-item {\n",
       "  display: flex;\n",
       "  flex-direction: column;\n",
       "}\n",
       "\n",
       "#sk-container-id-1 div.sk-parallel-item:first-child::after {\n",
       "  align-self: flex-end;\n",
       "  width: 50%;\n",
       "}\n",
       "\n",
       "#sk-container-id-1 div.sk-parallel-item:last-child::after {\n",
       "  align-self: flex-start;\n",
       "  width: 50%;\n",
       "}\n",
       "\n",
       "#sk-container-id-1 div.sk-parallel-item:only-child::after {\n",
       "  width: 0;\n",
       "}\n",
       "\n",
       "/* Serial-specific style estimator block */\n",
       "\n",
       "#sk-container-id-1 div.sk-serial {\n",
       "  display: flex;\n",
       "  flex-direction: column;\n",
       "  align-items: center;\n",
       "  background-color: var(--sklearn-color-background);\n",
       "  padding-right: 1em;\n",
       "  padding-left: 1em;\n",
       "}\n",
       "\n",
       "\n",
       "/* Toggleable style: style used for estimator/Pipeline/ColumnTransformer box that is\n",
       "clickable and can be expanded/collapsed.\n",
       "- Pipeline and ColumnTransformer use this feature and define the default style\n",
       "- Estimators will overwrite some part of the style using the `sk-estimator` class\n",
       "*/\n",
       "\n",
       "/* Pipeline and ColumnTransformer style (default) */\n",
       "\n",
       "#sk-container-id-1 div.sk-toggleable {\n",
       "  /* Default theme specific background. It is overwritten whether we have a\n",
       "  specific estimator or a Pipeline/ColumnTransformer */\n",
       "  background-color: var(--sklearn-color-background);\n",
       "}\n",
       "\n",
       "/* Toggleable label */\n",
       "#sk-container-id-1 label.sk-toggleable__label {\n",
       "  cursor: pointer;\n",
       "  display: block;\n",
       "  width: 100%;\n",
       "  margin-bottom: 0;\n",
       "  padding: 0.5em;\n",
       "  box-sizing: border-box;\n",
       "  text-align: center;\n",
       "}\n",
       "\n",
       "#sk-container-id-1 label.sk-toggleable__label-arrow:before {\n",
       "  /* Arrow on the left of the label */\n",
       "  content: \"▸\";\n",
       "  float: left;\n",
       "  margin-right: 0.25em;\n",
       "  color: var(--sklearn-color-icon);\n",
       "}\n",
       "\n",
       "#sk-container-id-1 label.sk-toggleable__label-arrow:hover:before {\n",
       "  color: var(--sklearn-color-text);\n",
       "}\n",
       "\n",
       "/* Toggleable content - dropdown */\n",
       "\n",
       "#sk-container-id-1 div.sk-toggleable__content {\n",
       "  max-height: 0;\n",
       "  max-width: 0;\n",
       "  overflow: hidden;\n",
       "  text-align: left;\n",
       "  /* unfitted */\n",
       "  background-color: var(--sklearn-color-unfitted-level-0);\n",
       "}\n",
       "\n",
       "#sk-container-id-1 div.sk-toggleable__content.fitted {\n",
       "  /* fitted */\n",
       "  background-color: var(--sklearn-color-fitted-level-0);\n",
       "}\n",
       "\n",
       "#sk-container-id-1 div.sk-toggleable__content pre {\n",
       "  margin: 0.2em;\n",
       "  border-radius: 0.25em;\n",
       "  color: var(--sklearn-color-text);\n",
       "  /* unfitted */\n",
       "  background-color: var(--sklearn-color-unfitted-level-0);\n",
       "}\n",
       "\n",
       "#sk-container-id-1 div.sk-toggleable__content.fitted pre {\n",
       "  /* unfitted */\n",
       "  background-color: var(--sklearn-color-fitted-level-0);\n",
       "}\n",
       "\n",
       "#sk-container-id-1 input.sk-toggleable__control:checked~div.sk-toggleable__content {\n",
       "  /* Expand drop-down */\n",
       "  max-height: 200px;\n",
       "  max-width: 100%;\n",
       "  overflow: auto;\n",
       "}\n",
       "\n",
       "#sk-container-id-1 input.sk-toggleable__control:checked~label.sk-toggleable__label-arrow:before {\n",
       "  content: \"▾\";\n",
       "}\n",
       "\n",
       "/* Pipeline/ColumnTransformer-specific style */\n",
       "\n",
       "#sk-container-id-1 div.sk-label input.sk-toggleable__control:checked~label.sk-toggleable__label {\n",
       "  color: var(--sklearn-color-text);\n",
       "  background-color: var(--sklearn-color-unfitted-level-2);\n",
       "}\n",
       "\n",
       "#sk-container-id-1 div.sk-label.fitted input.sk-toggleable__control:checked~label.sk-toggleable__label {\n",
       "  background-color: var(--sklearn-color-fitted-level-2);\n",
       "}\n",
       "\n",
       "/* Estimator-specific style */\n",
       "\n",
       "/* Colorize estimator box */\n",
       "#sk-container-id-1 div.sk-estimator input.sk-toggleable__control:checked~label.sk-toggleable__label {\n",
       "  /* unfitted */\n",
       "  background-color: var(--sklearn-color-unfitted-level-2);\n",
       "}\n",
       "\n",
       "#sk-container-id-1 div.sk-estimator.fitted input.sk-toggleable__control:checked~label.sk-toggleable__label {\n",
       "  /* fitted */\n",
       "  background-color: var(--sklearn-color-fitted-level-2);\n",
       "}\n",
       "\n",
       "#sk-container-id-1 div.sk-label label.sk-toggleable__label,\n",
       "#sk-container-id-1 div.sk-label label {\n",
       "  /* The background is the default theme color */\n",
       "  color: var(--sklearn-color-text-on-default-background);\n",
       "}\n",
       "\n",
       "/* On hover, darken the color of the background */\n",
       "#sk-container-id-1 div.sk-label:hover label.sk-toggleable__label {\n",
       "  color: var(--sklearn-color-text);\n",
       "  background-color: var(--sklearn-color-unfitted-level-2);\n",
       "}\n",
       "\n",
       "/* Label box, darken color on hover, fitted */\n",
       "#sk-container-id-1 div.sk-label.fitted:hover label.sk-toggleable__label.fitted {\n",
       "  color: var(--sklearn-color-text);\n",
       "  background-color: var(--sklearn-color-fitted-level-2);\n",
       "}\n",
       "\n",
       "/* Estimator label */\n",
       "\n",
       "#sk-container-id-1 div.sk-label label {\n",
       "  font-family: monospace;\n",
       "  font-weight: bold;\n",
       "  display: inline-block;\n",
       "  line-height: 1.2em;\n",
       "}\n",
       "\n",
       "#sk-container-id-1 div.sk-label-container {\n",
       "  text-align: center;\n",
       "}\n",
       "\n",
       "/* Estimator-specific */\n",
       "#sk-container-id-1 div.sk-estimator {\n",
       "  font-family: monospace;\n",
       "  border: 1px dotted var(--sklearn-color-border-box);\n",
       "  border-radius: 0.25em;\n",
       "  box-sizing: border-box;\n",
       "  margin-bottom: 0.5em;\n",
       "  /* unfitted */\n",
       "  background-color: var(--sklearn-color-unfitted-level-0);\n",
       "}\n",
       "\n",
       "#sk-container-id-1 div.sk-estimator.fitted {\n",
       "  /* fitted */\n",
       "  background-color: var(--sklearn-color-fitted-level-0);\n",
       "}\n",
       "\n",
       "/* on hover */\n",
       "#sk-container-id-1 div.sk-estimator:hover {\n",
       "  /* unfitted */\n",
       "  background-color: var(--sklearn-color-unfitted-level-2);\n",
       "}\n",
       "\n",
       "#sk-container-id-1 div.sk-estimator.fitted:hover {\n",
       "  /* fitted */\n",
       "  background-color: var(--sklearn-color-fitted-level-2);\n",
       "}\n",
       "\n",
       "/* Specification for estimator info (e.g. \"i\" and \"?\") */\n",
       "\n",
       "/* Common style for \"i\" and \"?\" */\n",
       "\n",
       ".sk-estimator-doc-link,\n",
       "a:link.sk-estimator-doc-link,\n",
       "a:visited.sk-estimator-doc-link {\n",
       "  float: right;\n",
       "  font-size: smaller;\n",
       "  line-height: 1em;\n",
       "  font-family: monospace;\n",
       "  background-color: var(--sklearn-color-background);\n",
       "  border-radius: 1em;\n",
       "  height: 1em;\n",
       "  width: 1em;\n",
       "  text-decoration: none !important;\n",
       "  margin-left: 1ex;\n",
       "  /* unfitted */\n",
       "  border: var(--sklearn-color-unfitted-level-1) 1pt solid;\n",
       "  color: var(--sklearn-color-unfitted-level-1);\n",
       "}\n",
       "\n",
       ".sk-estimator-doc-link.fitted,\n",
       "a:link.sk-estimator-doc-link.fitted,\n",
       "a:visited.sk-estimator-doc-link.fitted {\n",
       "  /* fitted */\n",
       "  border: var(--sklearn-color-fitted-level-1) 1pt solid;\n",
       "  color: var(--sklearn-color-fitted-level-1);\n",
       "}\n",
       "\n",
       "/* On hover */\n",
       "div.sk-estimator:hover .sk-estimator-doc-link:hover,\n",
       ".sk-estimator-doc-link:hover,\n",
       "div.sk-label-container:hover .sk-estimator-doc-link:hover,\n",
       ".sk-estimator-doc-link:hover {\n",
       "  /* unfitted */\n",
       "  background-color: var(--sklearn-color-unfitted-level-3);\n",
       "  color: var(--sklearn-color-background);\n",
       "  text-decoration: none;\n",
       "}\n",
       "\n",
       "div.sk-estimator.fitted:hover .sk-estimator-doc-link.fitted:hover,\n",
       ".sk-estimator-doc-link.fitted:hover,\n",
       "div.sk-label-container:hover .sk-estimator-doc-link.fitted:hover,\n",
       ".sk-estimator-doc-link.fitted:hover {\n",
       "  /* fitted */\n",
       "  background-color: var(--sklearn-color-fitted-level-3);\n",
       "  color: var(--sklearn-color-background);\n",
       "  text-decoration: none;\n",
       "}\n",
       "\n",
       "/* Span, style for the box shown on hovering the info icon */\n",
       ".sk-estimator-doc-link span {\n",
       "  display: none;\n",
       "  z-index: 9999;\n",
       "  position: relative;\n",
       "  font-weight: normal;\n",
       "  right: .2ex;\n",
       "  padding: .5ex;\n",
       "  margin: .5ex;\n",
       "  width: min-content;\n",
       "  min-width: 20ex;\n",
       "  max-width: 50ex;\n",
       "  color: var(--sklearn-color-text);\n",
       "  box-shadow: 2pt 2pt 4pt #999;\n",
       "  /* unfitted */\n",
       "  background: var(--sklearn-color-unfitted-level-0);\n",
       "  border: .5pt solid var(--sklearn-color-unfitted-level-3);\n",
       "}\n",
       "\n",
       ".sk-estimator-doc-link.fitted span {\n",
       "  /* fitted */\n",
       "  background: var(--sklearn-color-fitted-level-0);\n",
       "  border: var(--sklearn-color-fitted-level-3);\n",
       "}\n",
       "\n",
       ".sk-estimator-doc-link:hover span {\n",
       "  display: block;\n",
       "}\n",
       "\n",
       "/* \"?\"-specific style due to the `<a>` HTML tag */\n",
       "\n",
       "#sk-container-id-1 a.estimator_doc_link {\n",
       "  float: right;\n",
       "  font-size: 1rem;\n",
       "  line-height: 1em;\n",
       "  font-family: monospace;\n",
       "  background-color: var(--sklearn-color-background);\n",
       "  border-radius: 1rem;\n",
       "  height: 1rem;\n",
       "  width: 1rem;\n",
       "  text-decoration: none;\n",
       "  /* unfitted */\n",
       "  color: var(--sklearn-color-unfitted-level-1);\n",
       "  border: var(--sklearn-color-unfitted-level-1) 1pt solid;\n",
       "}\n",
       "\n",
       "#sk-container-id-1 a.estimator_doc_link.fitted {\n",
       "  /* fitted */\n",
       "  border: var(--sklearn-color-fitted-level-1) 1pt solid;\n",
       "  color: var(--sklearn-color-fitted-level-1);\n",
       "}\n",
       "\n",
       "/* On hover */\n",
       "#sk-container-id-1 a.estimator_doc_link:hover {\n",
       "  /* unfitted */\n",
       "  background-color: var(--sklearn-color-unfitted-level-3);\n",
       "  color: var(--sklearn-color-background);\n",
       "  text-decoration: none;\n",
       "}\n",
       "\n",
       "#sk-container-id-1 a.estimator_doc_link.fitted:hover {\n",
       "  /* fitted */\n",
       "  background-color: var(--sklearn-color-fitted-level-3);\n",
       "}\n",
       "</style><div id=\"sk-container-id-1\" class=\"sk-top-container\"><div class=\"sk-text-repr-fallback\"><pre>XGBClassifier(base_score=None, booster=None, callbacks=None,\n",
       "              colsample_bylevel=None, colsample_bynode=0.31387503510266057,\n",
       "              colsample_bytree=None, device=None, early_stopping_rounds=None,\n",
       "              enable_categorical=False,\n",
       "              eval_metric=&lt;function custom_f1_score at 0x7f4720977f60&gt;,\n",
       "              feature_types=None, gamma=None, grow_policy=None,\n",
       "              importance_type=None, interaction_constraints=None,\n",
       "              learning_rate=0.19723736175781964, max_bin=None,\n",
       "              max_cat_threshold=None, max_cat_to_onehot=None,\n",
       "              max_delta_step=None, max_depth=20, max_leaves=None,\n",
       "              min_child_weight=2, missing=nan, monotone_constraints=None,\n",
       "              multi_strategy=None, n_estimators=142, n_jobs=None,\n",
       "              num_parallel_tree=None, objective=&#x27;multi:softprob&#x27;, ...)</pre><b>In a Jupyter environment, please rerun this cell to show the HTML representation or trust the notebook. <br />On GitHub, the HTML representation is unable to render, please try loading this page with nbviewer.org.</b></div><div class=\"sk-container\" hidden><div class=\"sk-item\"><div class=\"sk-estimator fitted sk-toggleable\"><input class=\"sk-toggleable__control sk-hidden--visually\" id=\"sk-estimator-id-1\" type=\"checkbox\" checked><label for=\"sk-estimator-id-1\" class=\"sk-toggleable__label fitted sk-toggleable__label-arrow fitted\">&nbsp;XGBClassifier<span class=\"sk-estimator-doc-link fitted\">i<span>Fitted</span></span></label><div class=\"sk-toggleable__content fitted\"><pre>XGBClassifier(base_score=None, booster=None, callbacks=None,\n",
       "              colsample_bylevel=None, colsample_bynode=0.31387503510266057,\n",
       "              colsample_bytree=None, device=None, early_stopping_rounds=None,\n",
       "              enable_categorical=False,\n",
       "              eval_metric=&lt;function custom_f1_score at 0x7f4720977f60&gt;,\n",
       "              feature_types=None, gamma=None, grow_policy=None,\n",
       "              importance_type=None, interaction_constraints=None,\n",
       "              learning_rate=0.19723736175781964, max_bin=None,\n",
       "              max_cat_threshold=None, max_cat_to_onehot=None,\n",
       "              max_delta_step=None, max_depth=20, max_leaves=None,\n",
       "              min_child_weight=2, missing=nan, monotone_constraints=None,\n",
       "              multi_strategy=None, n_estimators=142, n_jobs=None,\n",
       "              num_parallel_tree=None, objective=&#x27;multi:softprob&#x27;, ...)</pre></div> </div></div></div></div>"
      ],
      "text/plain": [
       "XGBClassifier(base_score=None, booster=None, callbacks=None,\n",
       "              colsample_bylevel=None, colsample_bynode=0.31387503510266057,\n",
       "              colsample_bytree=None, device=None, early_stopping_rounds=None,\n",
       "              enable_categorical=False,\n",
       "              eval_metric=<function custom_f1_score at 0x7f4720977f60>,\n",
       "              feature_types=None, gamma=None, grow_policy=None,\n",
       "              importance_type=None, interaction_constraints=None,\n",
       "              learning_rate=0.19723736175781964, max_bin=None,\n",
       "              max_cat_threshold=None, max_cat_to_onehot=None,\n",
       "              max_delta_step=None, max_depth=20, max_leaves=None,\n",
       "              min_child_weight=2, missing=nan, monotone_constraints=None,\n",
       "              multi_strategy=None, n_estimators=142, n_jobs=None,\n",
       "              num_parallel_tree=None, objective='multi:softprob', ...)"
      ]
     },
     "execution_count": 21,
     "metadata": {},
     "output_type": "execute_result"
    }
   ],
   "source": [
    "n_estimators = int(study.best_trial.user_attrs['best_iteration']*1.2)\n",
    "xgb = xgboost.XGBClassifier(\n",
    "        eval_metric=eval_metric,\n",
    "        n_estimators=n_estimators,\n",
    "        **study.best_trial.params\n",
    "    )\n",
    "xgb.fit(\n",
    "    ssp.vstack((X_train, X_val)), \n",
    "    np.concatenate((y_train_enc, y_val_enc)),\n",
    "    verbose=1,\n",
    ")"
   ]
  },
  {
   "cell_type": "code",
   "execution_count": 22,
   "id": "4b3d6596",
   "metadata": {
    "execution": {
     "iopub.execute_input": "2025-05-15T16:18:00.953431Z",
     "iopub.status.busy": "2025-05-15T16:18:00.953203Z",
     "iopub.status.idle": "2025-05-15T16:18:01.178686Z",
     "shell.execute_reply": "2025-05-15T16:18:01.178188Z"
    },
    "papermill": {
     "duration": 0.236304,
     "end_time": "2025-05-15T16:18:01.179747",
     "exception": false,
     "start_time": "2025-05-15T16:18:00.943443",
     "status": "completed"
    },
    "tags": []
   },
   "outputs": [
    {
     "data": {
      "text/plain": [
       "['/scratch_isilon/groups/singlecell/shared/projects/Inflammation-PBMCs-Atlas/03_downstream_analysis/08_gene_importance/xgboost_external_validation/xgboost_TopN_genes/results_20/best_model/ILC_15_0_xgb.json']"
      ]
     },
     "execution_count": 22,
     "metadata": {},
     "output_type": "execute_result"
    }
   ],
   "source": [
    "out_dir = here(f'03_downstream_analysis/08_gene_importance/xgboost_external_validation/xgboost_TopN_genes/results_{N_GENES}/best_model')\n",
    "\n",
    "if not os.path.exists(out_dir):\n",
    "    os.makedirs(out_dir)\n",
    "    \n",
    "joblib.dump(xgb, os.path.join(out_dir, f'{CELL_TYPE}_{SEED}_{TEST_SPLIT_IDX}_xgb.json'))"
   ]
  },
  {
   "cell_type": "code",
   "execution_count": 23,
   "id": "b85e0c19",
   "metadata": {
    "execution": {
     "iopub.execute_input": "2025-05-15T16:18:01.198656Z",
     "iopub.status.busy": "2025-05-15T16:18:01.198453Z",
     "iopub.status.idle": "2025-05-15T16:18:01.544640Z",
     "shell.execute_reply": "2025-05-15T16:18:01.544218Z"
    },
    "papermill": {
     "duration": 0.356953,
     "end_time": "2025-05-15T16:18:01.545903",
     "exception": false,
     "start_time": "2025-05-15T16:18:01.188950",
     "status": "completed"
    },
    "tags": []
   },
   "outputs": [],
   "source": [
    "df_pred_test = pd.DataFrame(dict(\n",
    "    cell_id=train_adata.obs.iloc[test_idxs].index.values,\n",
    "    y_true=y_test, \n",
    "    y_true_code=y_test_enc, \n",
    "    y_pred=xgb.predict(X_test))).set_index('cell_id')"
   ]
  },
  {
   "cell_type": "code",
   "execution_count": 24,
   "id": "a5142996",
   "metadata": {
    "execution": {
     "iopub.execute_input": "2025-05-15T16:18:01.565074Z",
     "iopub.status.busy": "2025-05-15T16:18:01.564863Z",
     "iopub.status.idle": "2025-05-15T16:18:01.620793Z",
     "shell.execute_reply": "2025-05-15T16:18:01.620313Z"
    },
    "papermill": {
     "duration": 0.066515,
     "end_time": "2025-05-15T16:18:01.621901",
     "exception": false,
     "start_time": "2025-05-15T16:18:01.555386",
     "status": "completed"
    },
    "tags": []
   },
   "outputs": [],
   "source": [
    "out_dir = here(f'03_downstream_analysis/08_gene_importance/xgboost_external_validation/xgboost_TopN_genes/results_{N_GENES}/predictions')\n",
    "\n",
    "if not os.path.exists(out_dir):\n",
    "    os.makedirs(out_dir)\n",
    "    \n",
    "df_pred_test.to_csv(os.path.join(out_dir, f'{CELL_TYPE}_{SEED}_{TEST_SPLIT_IDX}_pred_test.zip'))"
   ]
  },
  {
   "cell_type": "code",
   "execution_count": 25,
   "id": "2a897b1c",
   "metadata": {
    "execution": {
     "iopub.execute_input": "2025-05-15T16:18:01.640852Z",
     "iopub.status.busy": "2025-05-15T16:18:01.640640Z",
     "iopub.status.idle": "2025-05-15T16:18:01.648893Z",
     "shell.execute_reply": "2025-05-15T16:18:01.648558Z"
    },
    "papermill": {
     "duration": 0.019018,
     "end_time": "2025-05-15T16:18:01.649780",
     "exception": false,
     "start_time": "2025-05-15T16:18:01.630762",
     "status": "completed"
    },
    "tags": []
   },
   "outputs": [],
   "source": [
    "metrics_dict = dict(\n",
    "    BAS=balanced_accuracy_score(y_true=df_pred_test.y_true_code, y_pred=df_pred_test.y_pred), WF1=f1_score(y_true=df_pred_test.y_true_code, y_pred=df_pred_test.y_pred,average='weighted'))"
   ]
  },
  {
   "cell_type": "code",
   "execution_count": 26,
   "id": "e571e988",
   "metadata": {
    "execution": {
     "iopub.execute_input": "2025-05-15T16:18:01.669759Z",
     "iopub.status.busy": "2025-05-15T16:18:01.669332Z",
     "iopub.status.idle": "2025-05-15T16:18:01.672501Z",
     "shell.execute_reply": "2025-05-15T16:18:01.672142Z"
    },
    "papermill": {
     "duration": 0.014697,
     "end_time": "2025-05-15T16:18:01.673365",
     "exception": false,
     "start_time": "2025-05-15T16:18:01.658668",
     "status": "completed"
    },
    "tags": []
   },
   "outputs": [
    {
     "data": {
      "text/plain": [
       "{'BAS': 0.43210369203720633, 'WF1': 0.5811303799754864}"
      ]
     },
     "execution_count": 26,
     "metadata": {},
     "output_type": "execute_result"
    }
   ],
   "source": [
    "metrics_dict"
   ]
  },
  {
   "cell_type": "code",
   "execution_count": 27,
   "id": "d0769d1f",
   "metadata": {
    "execution": {
     "iopub.execute_input": "2025-05-15T16:18:01.691769Z",
     "iopub.status.busy": "2025-05-15T16:18:01.691590Z",
     "iopub.status.idle": "2025-05-15T16:18:01.700428Z",
     "shell.execute_reply": "2025-05-15T16:18:01.700036Z"
    },
    "papermill": {
     "duration": 0.019218,
     "end_time": "2025-05-15T16:18:01.701289",
     "exception": false,
     "start_time": "2025-05-15T16:18:01.682071",
     "status": "completed"
    },
    "tags": []
   },
   "outputs": [
    {
     "data": {
      "text/html": [
       "<div>\n",
       "<style scoped>\n",
       "    .dataframe tbody tr th:only-of-type {\n",
       "        vertical-align: middle;\n",
       "    }\n",
       "\n",
       "    .dataframe tbody tr th {\n",
       "        vertical-align: top;\n",
       "    }\n",
       "\n",
       "    .dataframe thead th {\n",
       "        text-align: right;\n",
       "    }\n",
       "</style>\n",
       "<table border=\"1\" class=\"dataframe\">\n",
       "  <thead>\n",
       "    <tr style=\"text-align: right;\">\n",
       "      <th></th>\n",
       "      <th>BAS</th>\n",
       "      <th>WF1</th>\n",
       "      <th>split_idx</th>\n",
       "      <th>gene_set_seed</th>\n",
       "      <th>cell_type</th>\n",
       "    </tr>\n",
       "  </thead>\n",
       "  <tbody>\n",
       "    <tr>\n",
       "      <th>0</th>\n",
       "      <td>0.432104</td>\n",
       "      <td>0.58113</td>\n",
       "      <td>0</td>\n",
       "      <td>15</td>\n",
       "      <td>ILC</td>\n",
       "    </tr>\n",
       "  </tbody>\n",
       "</table>\n",
       "</div>"
      ],
      "text/plain": [
       "        BAS      WF1  split_idx  gene_set_seed cell_type\n",
       "0  0.432104  0.58113          0             15       ILC"
      ]
     },
     "execution_count": 27,
     "metadata": {},
     "output_type": "execute_result"
    }
   ],
   "source": [
    "metrics_df = pd.DataFrame.from_dict([metrics_dict]).assign(split_idx=TEST_SPLIT_IDX, gene_set_seed=SEED, cell_type=CELL_TYPE)\n",
    "metrics_df"
   ]
  },
  {
   "cell_type": "code",
   "execution_count": 28,
   "id": "823aef59",
   "metadata": {
    "execution": {
     "iopub.execute_input": "2025-05-15T16:18:01.727438Z",
     "iopub.status.busy": "2025-05-15T16:18:01.727234Z",
     "iopub.status.idle": "2025-05-15T16:18:01.734869Z",
     "shell.execute_reply": "2025-05-15T16:18:01.734535Z"
    },
    "papermill": {
     "duration": 0.02615,
     "end_time": "2025-05-15T16:18:01.735910",
     "exception": false,
     "start_time": "2025-05-15T16:18:01.709760",
     "status": "completed"
    },
    "tags": []
   },
   "outputs": [],
   "source": [
    "out_dir = here(f'03_downstream_analysis/08_gene_importance/xgboost_external_validation/xgboost_TopN_genes/results_{N_GENES}/metrics')\n",
    "\n",
    "if not os.path.exists(out_dir):\n",
    "    os.makedirs(out_dir)\n",
    "    \n",
    "metrics_df.to_csv(os.path.join(out_dir, f'{CELL_TYPE}_{SEED}_{TEST_SPLIT_IDX}_metrics.zip'))"
   ]
  }
 ],
 "metadata": {
  "kernelspec": {
   "display_name": "Python 3 (ipykernel)",
   "language": "python",
   "name": "python3"
  },
  "language_info": {
   "codemirror_mode": {
    "name": "ipython",
    "version": 3
   },
   "file_extension": ".py",
   "mimetype": "text/x-python",
   "name": "python",
   "nbconvert_exporter": "python",
   "pygments_lexer": "ipython3",
   "version": "3.12.5"
  },
  "papermill": {
   "default_parameters": {},
   "duration": 233.297464,
   "end_time": "2025-05-15T16:18:02.370021",
   "environment_variables": {},
   "exception": null,
   "input_path": "02_xgboost_fitting_external_20genes.ipynb",
   "output_path": "results_20/executed_notebooks/xgboost_fitting_external_CT_ILC_GS_15_seed0.ipynb",
   "parameters": {
    "CELL_TYPE": "ILC",
    "SEED": 15,
    "TEST_SPLIT_IDX": 0
   },
   "start_time": "2025-05-15T16:14:09.072557",
   "version": "2.6.0"
  }
 },
 "nbformat": 4,
 "nbformat_minor": 5
}