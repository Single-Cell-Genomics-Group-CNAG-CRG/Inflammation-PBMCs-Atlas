{
 "cells": [
  {
   "cell_type": "code",
   "execution_count": 1,
   "id": "b603d6cd",
   "metadata": {
    "editable": true,
    "execution": {
     "iopub.execute_input": "2025-05-15T16:15:29.021026Z",
     "iopub.status.busy": "2025-05-15T16:15:29.020727Z",
     "iopub.status.idle": "2025-05-15T16:15:29.024767Z",
     "shell.execute_reply": "2025-05-15T16:15:29.024443Z"
    },
    "papermill": {
     "duration": 0.013231,
     "end_time": "2025-05-15T16:15:29.025724",
     "exception": false,
     "start_time": "2025-05-15T16:15:29.012493",
     "status": "completed"
    },
    "slideshow": {
     "slide_type": ""
    },
    "tags": [
     "parameters"
    ]
   },
   "outputs": [],
   "source": [
    "CELL_TYPE = 'pDC'\n",
    "N_GENES: int = 20\n",
    "SEED = 'shap_studyID' #'disease_NOstudy' 'study_NOdisease' or 'int' or 'shap_studyID'\n",
    "TEST_SPLIT_IDX: int = 1 #[0,4]"
   ]
  },
  {
   "cell_type": "code",
   "execution_count": 2,
   "id": "e4792bf7",
   "metadata": {
    "execution": {
     "iopub.execute_input": "2025-05-15T16:15:29.037982Z",
     "iopub.status.busy": "2025-05-15T16:15:29.037771Z",
     "iopub.status.idle": "2025-05-15T16:15:29.040140Z",
     "shell.execute_reply": "2025-05-15T16:15:29.039825Z"
    },
    "papermill": {
     "duration": 0.00943,
     "end_time": "2025-05-15T16:15:29.041046",
     "exception": false,
     "start_time": "2025-05-15T16:15:29.031616",
     "status": "completed"
    },
    "tags": [
     "injected-parameters"
    ]
   },
   "outputs": [],
   "source": [
    "# Parameters\n",
    "CELL_TYPE = \"Plasma\"\n",
    "SEED = 5\n",
    "TEST_SPLIT_IDX = 0\n"
   ]
  },
  {
   "cell_type": "code",
   "execution_count": 3,
   "id": "2cc069fb",
   "metadata": {
    "execution": {
     "iopub.execute_input": "2025-05-15T16:15:29.053240Z",
     "iopub.status.busy": "2025-05-15T16:15:29.052972Z",
     "iopub.status.idle": "2025-05-15T16:15:29.055173Z",
     "shell.execute_reply": "2025-05-15T16:15:29.054867Z"
    },
    "papermill": {
     "duration": 0.009286,
     "end_time": "2025-05-15T16:15:29.056011",
     "exception": false,
     "start_time": "2025-05-15T16:15:29.046725",
     "status": "completed"
    },
    "tags": []
   },
   "outputs": [],
   "source": [
    "N_SPLITS: int = 5\n",
    "N_TRIALS: int = 50"
   ]
  },
  {
   "cell_type": "code",
   "execution_count": 4,
   "id": "1cc0185c",
   "metadata": {
    "execution": {
     "iopub.execute_input": "2025-05-15T16:15:29.069310Z",
     "iopub.status.busy": "2025-05-15T16:15:29.068800Z",
     "iopub.status.idle": "2025-05-15T16:15:30.714796Z",
     "shell.execute_reply": "2025-05-15T16:15:30.714240Z"
    },
    "papermill": {
     "duration": 1.654562,
     "end_time": "2025-05-15T16:15:30.716108",
     "exception": false,
     "start_time": "2025-05-15T16:15:29.061546",
     "status": "completed"
    },
    "tags": []
   },
   "outputs": [],
   "source": [
    "import os\n",
    "import sys\n",
    "from pyprojroot.here import here\n",
    "import pandas as pd\n",
    "import anndata as ad\n",
    "import numpy as np\n",
    "import math\n",
    "from sklearn.model_selection import StratifiedGroupKFold\n",
    "from sklearn.preprocessing import LabelEncoder\n",
    "from sklearn.metrics import f1_score\n",
    "import matplotlib.pyplot as plt\n",
    "import seaborn as sns\n",
    "from itertools import product\n",
    "from sklearn.metrics import balanced_accuracy_score, f1_score\n",
    "import optuna\n",
    "\n",
    "import joblib\n",
    "import pickle\n",
    "import datetime\n",
    "\n",
    "import collections\n",
    "\n",
    "import xgboost\n",
    "from sklearn.preprocessing import LabelEncoder\n",
    "\n",
    "import scipy.sparse as ssp\n",
    "import joblib\n",
    "\n",
    "from dotenv import load_dotenv"
   ]
  },
  {
   "cell_type": "code",
   "execution_count": 5,
   "id": "15cc11f8",
   "metadata": {
    "execution": {
     "iopub.execute_input": "2025-05-15T16:15:30.730807Z",
     "iopub.status.busy": "2025-05-15T16:15:30.730341Z",
     "iopub.status.idle": "2025-05-15T16:15:30.736259Z",
     "shell.execute_reply": "2025-05-15T16:15:30.735936Z"
    },
    "papermill": {
     "duration": 0.013211,
     "end_time": "2025-05-15T16:15:30.737157",
     "exception": false,
     "start_time": "2025-05-15T16:15:30.723946",
     "status": "completed"
    },
    "tags": []
   },
   "outputs": [
    {
     "data": {
      "text/plain": [
       "True"
      ]
     },
     "execution_count": 5,
     "metadata": {},
     "output_type": "execute_result"
    }
   ],
   "source": [
    "load_dotenv()"
   ]
  },
  {
   "cell_type": "markdown",
   "id": "d3733d68",
   "metadata": {
    "papermill": {
     "duration": 0.00565,
     "end_time": "2025-05-15T16:15:30.748787",
     "exception": false,
     "start_time": "2025-05-15T16:15:30.743137",
     "status": "completed"
    },
    "tags": []
   },
   "source": [
    "# LOAD DATASET"
   ]
  },
  {
   "cell_type": "code",
   "execution_count": 6,
   "id": "fe7ae7a4",
   "metadata": {
    "execution": {
     "iopub.execute_input": "2025-05-15T16:15:30.760979Z",
     "iopub.status.busy": "2025-05-15T16:15:30.760729Z",
     "iopub.status.idle": "2025-05-15T16:15:30.805573Z",
     "shell.execute_reply": "2025-05-15T16:15:30.805123Z"
    },
    "papermill": {
     "duration": 0.052565,
     "end_time": "2025-05-15T16:15:30.806898",
     "exception": false,
     "start_time": "2025-05-15T16:15:30.754333",
     "status": "completed"
    },
    "tags": []
   },
   "outputs": [],
   "source": [
    "train_adata = ad.read_h5ad(\n",
    "    here(f'03_downstream_analysis/08_gene_importance/xgboost_external_validation/xgboost_TopN_genes/data_cellTypes/EXTERNAL_{CELL_TYPE}.filtered.log1p.h5ad')\n",
    ")"
   ]
  },
  {
   "cell_type": "code",
   "execution_count": 7,
   "id": "d734df8a",
   "metadata": {
    "execution": {
     "iopub.execute_input": "2025-05-15T16:15:30.819160Z",
     "iopub.status.busy": "2025-05-15T16:15:30.818778Z",
     "iopub.status.idle": "2025-05-15T16:15:30.828329Z",
     "shell.execute_reply": "2025-05-15T16:15:30.827942Z"
    },
    "papermill": {
     "duration": 0.016519,
     "end_time": "2025-05-15T16:15:30.829198",
     "exception": false,
     "start_time": "2025-05-15T16:15:30.812679",
     "status": "completed"
    },
    "tags": []
   },
   "outputs": [
    {
     "name": "stdout",
     "output_type": "stream",
     "text": [
      "['ENSG00000117523' 'ENSG00000244687' 'ENSG00000155368' 'ENSG00000197956'\n",
      " 'ENSG00000143110' 'ENSG00000112561' 'ENSG00000114423' 'ENSG00000178562'\n",
      " 'ENSG00000254087' 'ENSG00000184557' 'ENSG00000079805' 'ENSG00000170476'\n",
      " 'ENSG00000118260' 'ENSG00000115884' 'ENSG00000258315' 'ENSG00000115145'\n",
      " 'ENSG00000231389' 'ENSG00000134470' 'ENSG00000009790' 'ENSG00000145220'\n",
      " 'ENSG00000204843' 'ENSG00000170581' 'ENSG00000123268' 'ENSG00000141526'\n",
      " 'ENSG00000107223' 'ENSG00000111796' 'ENSG00000136997' 'ENSG00000001167'\n",
      " 'ENSG00000089327' 'ENSG00000239713' 'ENSG00000130724' 'ENSG00000106605'\n",
      " 'ENSG00000152219' 'ENSG00000179218' 'ENSG00000169442' 'ENSG00000204257'\n",
      " 'ENSG00000140379' 'ENSG00000127951' 'ENSG00000027697' 'ENSG00000030110'\n",
      " 'ENSG00000170458' 'ENSG00000006125' 'ENSG00000133134' 'ENSG00000137193'\n",
      " 'ENSG00000100911' 'ENSG00000111335' 'ENSG00000130830' 'ENSG00000100902'\n",
      " 'ENSG00000104904' 'ENSG00000197965' 'ENSG00000107485' 'ENSG00000100365'\n",
      " 'ENSG00000164483' 'ENSG00000137441' 'ENSG00000172005' 'ENSG00000138107'\n",
      " 'ENSG00000100934' 'ENSG00000180008' 'ENSG00000090266' 'ENSG00000145850'\n",
      " 'ENSG00000164543' 'ENSG00000138160' 'ENSG00000104660' 'ENSG00000105851'\n",
      " 'ENSG00000042980' 'ENSG00000106588' 'ENSG00000051382' 'ENSG00000156738'\n",
      " 'ENSG00000105583' 'ENSG00000137331' 'ENSG00000106367' 'ENSG00000115523'\n",
      " 'ENSG00000100453' 'ENSG00000160710' 'ENSG00000089280' 'ENSG00000157873'\n",
      " 'ENSG00000158769' 'ENSG00000121879' 'ENSG00000169564' 'ENSG00000100385'\n",
      " 'ENSG00000171223' 'ENSG00000198668' 'ENSG00000197111' 'ENSG00000117602'\n",
      " 'ENSG00000030582' 'ENSG00000184752' 'ENSG00000173812' 'ENSG00000165527'\n",
      " 'ENSG00000176986' 'ENSG00000231925' 'ENSG00000172009' 'ENSG00000197329'\n",
      " 'ENSG00000197747' 'ENSG00000100368' 'ENSG00000026103' 'ENSG00000092820'\n",
      " 'ENSG00000122862' 'ENSG00000162704' 'ENSG00000104763' 'ENSG00000127184'\n",
      " 'ENSG00000172543' 'ENSG00000175768' 'ENSG00000243646' 'ENSG00000142089'\n",
      " 'ENSG00000136156' 'ENSG00000203747' 'ENSG00000077150']\n"
     ]
    }
   ],
   "source": [
    "if SEED != 'all':\n",
    "    gene_subset = np.load(here(f'03_downstream_analysis/08_gene_importance/xgboost_external_validation/shap_gene_selection/gene_subsets_{N_GENES}/{CELL_TYPE}_{SEED}.npy'), allow_pickle=True)\n",
    "    train_adata = train_adata[:,gene_subset]\n",
    "    print(gene_subset)\n",
    "elif SEED == 'all':\n",
    "    print('Using all genes')\n",
    "else:\n",
    "    raise ValueError()"
   ]
  },
  {
   "cell_type": "code",
   "execution_count": 8,
   "id": "34a928e3",
   "metadata": {
    "execution": {
     "iopub.execute_input": "2025-05-15T16:15:30.841836Z",
     "iopub.status.busy": "2025-05-15T16:15:30.841586Z",
     "iopub.status.idle": "2025-05-15T16:15:30.844996Z",
     "shell.execute_reply": "2025-05-15T16:15:30.844685Z"
    },
    "papermill": {
     "duration": 0.010749,
     "end_time": "2025-05-15T16:15:30.845867",
     "exception": false,
     "start_time": "2025-05-15T16:15:30.835118",
     "status": "completed"
    },
    "tags": []
   },
   "outputs": [
    {
     "data": {
      "text/plain": [
       "(542, 107)"
      ]
     },
     "execution_count": 8,
     "metadata": {},
     "output_type": "execute_result"
    }
   ],
   "source": [
    "train_adata.shape"
   ]
  },
  {
   "cell_type": "code",
   "execution_count": 9,
   "id": "08fcc0f9",
   "metadata": {
    "execution": {
     "iopub.execute_input": "2025-05-15T16:15:30.858594Z",
     "iopub.status.busy": "2025-05-15T16:15:30.858315Z",
     "iopub.status.idle": "2025-05-15T16:15:30.863000Z",
     "shell.execute_reply": "2025-05-15T16:15:30.862680Z"
    },
    "papermill": {
     "duration": 0.012132,
     "end_time": "2025-05-15T16:15:30.863855",
     "exception": false,
     "start_time": "2025-05-15T16:15:30.851723",
     "status": "completed"
    },
    "tags": []
   },
   "outputs": [
    {
     "data": {
      "text/plain": [
       "['RA', 'COVID', 'healthy', 'HIV', 'cirrhosis', 'CD', 'SLE', 'sepsis']\n",
       "Categories (8, object): ['CD', 'COVID', 'HIV', 'RA', 'SLE', 'cirrhosis', 'healthy', 'sepsis']"
      ]
     },
     "execution_count": 9,
     "metadata": {},
     "output_type": "execute_result"
    }
   ],
   "source": [
    "train_adata.obs.disease.unique()"
   ]
  },
  {
   "cell_type": "code",
   "execution_count": 10,
   "id": "1b62884b",
   "metadata": {
    "execution": {
     "iopub.execute_input": "2025-05-15T16:15:30.901923Z",
     "iopub.status.busy": "2025-05-15T16:15:30.901660Z",
     "iopub.status.idle": "2025-05-15T16:15:30.906144Z",
     "shell.execute_reply": "2025-05-15T16:15:30.905811Z"
    },
    "papermill": {
     "duration": 0.012511,
     "end_time": "2025-05-15T16:15:30.907039",
     "exception": false,
     "start_time": "2025-05-15T16:15:30.894528",
     "status": "completed"
    },
    "tags": []
   },
   "outputs": [
    {
     "data": {
      "text/plain": [
       "['SCGT00val_I0364_T0', 'SCGT00val_I036019_T0', 'SCGT00val_I036028_T0', 'SCGT00val_I036024_T0', 'SCGT00val_I036016_T0', ..., '10XGenomics_10XHC2_T0', '10XGenomics_10XHC3_T0', '10XGenomics_10XHC5_T0', '10XGenomics_10XHC7_T0', '10XGenomics_10XHC8_T0']\n",
       "Length: 74\n",
       "Categories (74, object): ['10XGenomics_10XHC1_T0', '10XGenomics_10XHC2_T0', '10XGenomics_10XHC3_T0', '10XGenomics_10XHC4_T0', ..., 'Savage2021_BRISL6_T0', 'Savage2021_BRISL7_T0', 'Savage2021_PIDA_T0', 'Savage2021_PIDB_T0']"
      ]
     },
     "execution_count": 10,
     "metadata": {},
     "output_type": "execute_result"
    }
   ],
   "source": [
    "train_adata.obs.sampleID.unique()"
   ]
  },
  {
   "cell_type": "code",
   "execution_count": 11,
   "id": "4402f37c",
   "metadata": {
    "execution": {
     "iopub.execute_input": "2025-05-15T16:15:30.920426Z",
     "iopub.status.busy": "2025-05-15T16:15:30.920244Z",
     "iopub.status.idle": "2025-05-15T16:15:30.949671Z",
     "shell.execute_reply": "2025-05-15T16:15:30.949146Z"
    },
    "papermill": {
     "duration": 0.037483,
     "end_time": "2025-05-15T16:15:30.950680",
     "exception": false,
     "start_time": "2025-05-15T16:15:30.913197",
     "status": "completed"
    },
    "tags": []
   },
   "outputs": [],
   "source": [
    "all_idxs = np.arange(train_adata.obs.shape[0])\n",
    "left_out_splits = [s[1] for s in StratifiedGroupKFold(n_splits=N_SPLITS).split(all_idxs, train_adata.obs.disease, train_adata.obs.sampleID)]"
   ]
  },
  {
   "cell_type": "code",
   "execution_count": 12,
   "id": "dbe850f7",
   "metadata": {
    "execution": {
     "iopub.execute_input": "2025-05-15T16:15:30.964563Z",
     "iopub.status.busy": "2025-05-15T16:15:30.964280Z",
     "iopub.status.idle": "2025-05-15T16:15:30.968785Z",
     "shell.execute_reply": "2025-05-15T16:15:30.968434Z"
    },
    "papermill": {
     "duration": 0.012484,
     "end_time": "2025-05-15T16:15:30.969684",
     "exception": false,
     "start_time": "2025-05-15T16:15:30.957200",
     "status": "completed"
    },
    "tags": []
   },
   "outputs": [
    {
     "data": {
      "text/plain": [
       "([2, 3, 4], 1, 0)"
      ]
     },
     "execution_count": 12,
     "metadata": {},
     "output_type": "execute_result"
    }
   ],
   "source": [
    "TRAIN_SPLIT_IDXS = [0,1,2,3,4]\n",
    "VAL_SPLIT_IDX = (TEST_SPLIT_IDX + 1) % 5\n",
    "TRAIN_SPLIT_IDXS.remove(TEST_SPLIT_IDX)\n",
    "TRAIN_SPLIT_IDXS.remove(VAL_SPLIT_IDX)\n",
    "TRAIN_SPLIT_IDXS, VAL_SPLIT_IDX, TEST_SPLIT_IDX"
   ]
  },
  {
   "cell_type": "code",
   "execution_count": 13,
   "id": "cfa5c64a",
   "metadata": {
    "execution": {
     "iopub.execute_input": "2025-05-15T16:15:30.982773Z",
     "iopub.status.busy": "2025-05-15T16:15:30.982507Z",
     "iopub.status.idle": "2025-05-15T16:15:30.985488Z",
     "shell.execute_reply": "2025-05-15T16:15:30.985155Z"
    },
    "papermill": {
     "duration": 0.010642,
     "end_time": "2025-05-15T16:15:30.986422",
     "exception": false,
     "start_time": "2025-05-15T16:15:30.975780",
     "status": "completed"
    },
    "tags": []
   },
   "outputs": [],
   "source": [
    "train_idxs = np.concatenate([left_out_splits[idx] for idx in TRAIN_SPLIT_IDXS])\n",
    "val_idxs = left_out_splits[VAL_SPLIT_IDX]\n",
    "test_idxs = left_out_splits[TEST_SPLIT_IDX]"
   ]
  },
  {
   "cell_type": "markdown",
   "id": "2e75cb27",
   "metadata": {
    "papermill": {
     "duration": 0.00578,
     "end_time": "2025-05-15T16:15:30.998638",
     "exception": false,
     "start_time": "2025-05-15T16:15:30.992858",
     "status": "completed"
    },
    "tags": []
   },
   "source": [
    "### SUBSET DATASET INTO TRAIN/TEST/VAL SPLITS"
   ]
  },
  {
   "cell_type": "code",
   "execution_count": 14,
   "id": "2ceac76e",
   "metadata": {
    "execution": {
     "iopub.execute_input": "2025-05-15T16:15:31.011573Z",
     "iopub.status.busy": "2025-05-15T16:15:31.011330Z",
     "iopub.status.idle": "2025-05-15T16:15:31.017946Z",
     "shell.execute_reply": "2025-05-15T16:15:31.017619Z"
    },
    "papermill": {
     "duration": 0.014097,
     "end_time": "2025-05-15T16:15:31.018847",
     "exception": false,
     "start_time": "2025-05-15T16:15:31.004750",
     "status": "completed"
    },
    "tags": []
   },
   "outputs": [
    {
     "data": {
      "text/plain": [
       "((317, 107), (118, 107), (107, 107))"
      ]
     },
     "execution_count": 14,
     "metadata": {},
     "output_type": "execute_result"
    }
   ],
   "source": [
    "X_train = train_adata.X[train_idxs]\n",
    "X_test = train_adata.X[test_idxs]\n",
    "X_val = train_adata.X[val_idxs]\n",
    "X_train.shape, X_test.shape, X_val.shape"
   ]
  },
  {
   "cell_type": "code",
   "execution_count": 15,
   "id": "0c6f8bd9",
   "metadata": {
    "execution": {
     "iopub.execute_input": "2025-05-15T16:15:31.037460Z",
     "iopub.status.busy": "2025-05-15T16:15:31.037258Z",
     "iopub.status.idle": "2025-05-15T16:15:31.043001Z",
     "shell.execute_reply": "2025-05-15T16:15:31.042680Z"
    },
    "papermill": {
     "duration": 0.01366,
     "end_time": "2025-05-15T16:15:31.043905",
     "exception": false,
     "start_time": "2025-05-15T16:15:31.030245",
     "status": "completed"
    },
    "tags": []
   },
   "outputs": [
    {
     "data": {
      "text/plain": [
       "((317,), (118,), (107,))"
      ]
     },
     "execution_count": 15,
     "metadata": {},
     "output_type": "execute_result"
    }
   ],
   "source": [
    "y_train = train_adata.obs.iloc[train_idxs].disease.values.astype(str)\n",
    "y_test = train_adata.obs.iloc[test_idxs].disease.values.astype(str)\n",
    "y_val = train_adata.obs.iloc[val_idxs].disease.values.astype(str)\n",
    "y_train.shape, y_test.shape, y_val.shape"
   ]
  },
  {
   "cell_type": "code",
   "execution_count": 16,
   "id": "63889fa9",
   "metadata": {
    "execution": {
     "iopub.execute_input": "2025-05-15T16:15:31.056722Z",
     "iopub.status.busy": "2025-05-15T16:15:31.056441Z",
     "iopub.status.idle": "2025-05-15T16:15:31.059319Z",
     "shell.execute_reply": "2025-05-15T16:15:31.059005Z"
    },
    "papermill": {
     "duration": 0.010193,
     "end_time": "2025-05-15T16:15:31.060166",
     "exception": false,
     "start_time": "2025-05-15T16:15:31.049973",
     "status": "completed"
    },
    "tags": []
   },
   "outputs": [],
   "source": [
    "lenc = LabelEncoder()\n",
    "y_train_enc = lenc.fit_transform(y_train)\n",
    "y_val_enc = lenc.transform(y_val)\n",
    "y_test_enc = lenc.transform(y_test)"
   ]
  },
  {
   "cell_type": "markdown",
   "id": "b814121d",
   "metadata": {
    "papermill": {
     "duration": 0.00616,
     "end_time": "2025-05-15T16:15:31.072669",
     "exception": false,
     "start_time": "2025-05-15T16:15:31.066509",
     "status": "completed"
    },
    "tags": []
   },
   "source": [
    "### GENERATE F1 "
   ]
  },
  {
   "cell_type": "code",
   "execution_count": 17,
   "id": "431481e2",
   "metadata": {
    "execution": {
     "iopub.execute_input": "2025-05-15T16:15:31.087039Z",
     "iopub.status.busy": "2025-05-15T16:15:31.086732Z",
     "iopub.status.idle": "2025-05-15T16:15:31.089436Z",
     "shell.execute_reply": "2025-05-15T16:15:31.089111Z"
    },
    "papermill": {
     "duration": 0.011827,
     "end_time": "2025-05-15T16:15:31.090959",
     "exception": false,
     "start_time": "2025-05-15T16:15:31.079132",
     "status": "completed"
    },
    "tags": []
   },
   "outputs": [],
   "source": [
    "def custom_f1_score(y_true, y_pred):\n",
    "    return -f1_score(y_true, y_pred.argmax(1), average='weighted')"
   ]
  },
  {
   "cell_type": "code",
   "execution_count": 18,
   "id": "0a36f8be",
   "metadata": {
    "execution": {
     "iopub.execute_input": "2025-05-15T16:15:31.105440Z",
     "iopub.status.busy": "2025-05-15T16:15:31.105190Z",
     "iopub.status.idle": "2025-05-15T16:15:31.109261Z",
     "shell.execute_reply": "2025-05-15T16:15:31.108935Z"
    },
    "papermill": {
     "duration": 0.012577,
     "end_time": "2025-05-15T16:15:31.110202",
     "exception": false,
     "start_time": "2025-05-15T16:15:31.097625",
     "status": "completed"
    },
    "tags": []
   },
   "outputs": [],
   "source": [
    "eval_metric=custom_f1_score\n",
    "eval_metric_name='custom_f1_score'\n",
    "\n",
    "def objective(trial):\n",
    "    params = {\n",
    "        'n_estimators': 1500,\n",
    "        'max_depth': trial.suggest_int('max_depth', 3, 20),\n",
    "        'min_child_weight': trial.suggest_int('min_child_weight', 1, 250),\n",
    "        'subsample': trial.suggest_float('subsample', 0.1, 1.0),\n",
    "        'colsample_bynode': trial.suggest_float('colsample_bynode', 0.1, 1.0),\n",
    "        'learning_rate': trial.suggest_float('learning_rate', 1e-3, 5e-1, log=True),\n",
    "    }\n",
    "    pruning_callback = optuna.integration.XGBoostPruningCallback(trial, f'validation_0-{eval_metric_name}')\n",
    "    es_callback = xgboost.callback.EarlyStopping(20, min_delta=0.001)\n",
    "    xgb = xgboost.XGBClassifier(\n",
    "        eval_metric=eval_metric,\n",
    "        callbacks=[pruning_callback, es_callback],\n",
    "        n_jobs=5,\n",
    "        **params\n",
    "    )\n",
    "    xgb.fit(\n",
    "        X_train, \n",
    "        y_train_enc, \n",
    "        verbose=0,\n",
    "        eval_set=[(X_val, y_val_enc)],\n",
    "    )\n",
    "    trial.set_user_attr('best_iteration', xgb.best_iteration)\n",
    "\n",
    "    return xgb.best_score"
   ]
  },
  {
   "cell_type": "code",
   "execution_count": 19,
   "id": "4bac0b61",
   "metadata": {
    "execution": {
     "iopub.execute_input": "2025-05-15T16:15:31.139961Z",
     "iopub.status.busy": "2025-05-15T16:15:31.139699Z",
     "iopub.status.idle": "2025-05-15T16:15:42.413998Z",
     "shell.execute_reply": "2025-05-15T16:15:42.413507Z"
    },
    "papermill": {
     "duration": 11.290499,
     "end_time": "2025-05-15T16:15:42.414963",
     "exception": false,
     "start_time": "2025-05-15T16:15:31.124464",
     "status": "completed"
    },
    "scrolled": true,
    "tags": []
   },
   "outputs": [
    {
     "name": "stderr",
     "output_type": "stream",
     "text": [
      "[I 2025-05-15 18:15:31,141] A new study created in memory with name: no-name-bef2b8cc-6dc0-4f5a-98ff-9543540ed78d\n"
     ]
    },
    {
     "name": "stderr",
     "output_type": "stream",
     "text": [
      "[I 2025-05-15 18:15:31,396] Trial 0 finished with value: -0.019167 and parameters: {'max_depth': 9, 'min_child_weight': 238, 'subsample': 0.7587945476302645, 'colsample_bynode': 0.6387926357773329, 'learning_rate': 0.0026368755339723046}. Best is trial 0 with value: -0.019167.\n"
     ]
    },
    {
     "name": "stderr",
     "output_type": "stream",
     "text": [
      "[I 2025-05-15 18:15:31,674] Trial 1 finished with value: -0.425333 and parameters: {'max_depth': 5, 'min_child_weight': 15, 'subsample': 0.8795585311974417, 'colsample_bynode': 0.6410035105688879, 'learning_rate': 0.08148293210105287}. Best is trial 1 with value: -0.425333.\n"
     ]
    },
    {
     "name": "stderr",
     "output_type": "stream",
     "text": [
      "[I 2025-05-15 18:15:31,826] Trial 2 finished with value: -0.019167 and parameters: {'max_depth': 3, 'min_child_weight': 243, 'subsample': 0.8491983767203796, 'colsample_bynode': 0.29110519961044856, 'learning_rate': 0.003095566460242371}. Best is trial 1 with value: -0.425333.\n"
     ]
    },
    {
     "name": "stderr",
     "output_type": "stream",
     "text": [
      "[I 2025-05-15 18:15:31,991] Trial 3 finished with value: -0.019167 and parameters: {'max_depth': 6, 'min_child_weight': 77, 'subsample': 0.5722807884690141, 'colsample_bynode': 0.48875051677790415, 'learning_rate': 0.006109683510122491}. Best is trial 1 with value: -0.425333.\n"
     ]
    },
    {
     "name": "stderr",
     "output_type": "stream",
     "text": [
      "[I 2025-05-15 18:15:32,136] Trial 4 finished with value: -0.019167 and parameters: {'max_depth': 14, 'min_child_weight': 35, 'subsample': 0.3629301836816964, 'colsample_bynode': 0.4297256589643226, 'learning_rate': 0.01701841881702917}. Best is trial 1 with value: -0.425333.\n"
     ]
    },
    {
     "name": "stderr",
     "output_type": "stream",
     "text": [
      "[I 2025-05-15 18:15:32,285] Trial 5 finished with value: -0.019167 and parameters: {'max_depth': 17, 'min_child_weight': 50, 'subsample': 0.5628109945722505, 'colsample_bynode': 0.6331731119758383, 'learning_rate': 0.0013346527038305934}. Best is trial 1 with value: -0.425333.\n"
     ]
    },
    {
     "name": "stderr",
     "output_type": "stream",
     "text": [
      "[I 2025-05-15 18:15:32,439] Trial 6 finished with value: -0.019167 and parameters: {'max_depth': 13, 'min_child_weight': 43, 'subsample': 0.1585464336867516, 'colsample_bynode': 0.9539969835279999, 'learning_rate': 0.4038423798071558}. Best is trial 1 with value: -0.425333.\n"
     ]
    },
    {
     "name": "stderr",
     "output_type": "stream",
     "text": [
      "[I 2025-05-15 18:15:32,592] Trial 7 finished with value: -0.019167 and parameters: {'max_depth': 17, 'min_child_weight': 77, 'subsample': 0.1879049026057455, 'colsample_bynode': 0.7158097238609412, 'learning_rate': 0.015415527060141935}. Best is trial 1 with value: -0.425333.\n"
     ]
    },
    {
     "name": "stderr",
     "output_type": "stream",
     "text": [
      "[I 2025-05-15 18:15:32,746] Trial 8 finished with value: -0.019167 and parameters: {'max_depth': 5, 'min_child_weight': 124, 'subsample': 0.13094966900369656, 'colsample_bynode': 0.9183883618709039, 'learning_rate': 0.004993895014755658}. Best is trial 1 with value: -0.425333.\n"
     ]
    },
    {
     "name": "stderr",
     "output_type": "stream",
     "text": [
      "[I 2025-05-15 18:15:32,917] Trial 9 finished with value: -0.019167 and parameters: {'max_depth': 14, 'min_child_weight': 78, 'subsample': 0.5680612190600297, 'colsample_bynode': 0.5920392514089517, 'learning_rate': 0.0031543990308330965}. Best is trial 1 with value: -0.425333.\n"
     ]
    },
    {
     "name": "stderr",
     "output_type": "stream",
     "text": [
      "[I 2025-05-15 18:15:33,482] Trial 10 finished with value: -0.501339 and parameters: {'max_depth': 9, 'min_child_weight': 2, 'subsample': 0.9725833997090791, 'colsample_bynode': 0.11616568805333755, 'learning_rate': 0.17780618353487967}. Best is trial 10 with value: -0.501339.\n"
     ]
    },
    {
     "name": "stderr",
     "output_type": "stream",
     "text": [
      "[I 2025-05-15 18:15:33,846] Trial 11 pruned. Trial was pruned at iteration 29.\n"
     ]
    },
    {
     "name": "stderr",
     "output_type": "stream",
     "text": [
      "[I 2025-05-15 18:15:34,475] Trial 12 finished with value: -0.546443 and parameters: {'max_depth': 9, 'min_child_weight': 3, 'subsample': 0.9754570370311046, 'colsample_bynode': 0.14672783827498995, 'learning_rate': 0.08954997670613858}. Best is trial 12 with value: -0.546443.\n"
     ]
    },
    {
     "name": "stderr",
     "output_type": "stream",
     "text": [
      "[I 2025-05-15 18:15:34,662] Trial 13 finished with value: -0.019167 and parameters: {'max_depth': 10, 'min_child_weight': 173, 'subsample': 0.9990365834996398, 'colsample_bynode': 0.10388397775802007, 'learning_rate': 0.08954294267079196}. Best is trial 12 with value: -0.546443.\n"
     ]
    },
    {
     "name": "stderr",
     "output_type": "stream",
     "text": [
      "[I 2025-05-15 18:15:34,854] Trial 14 finished with value: -0.019167 and parameters: {'max_depth': 7, 'min_child_weight': 132, 'subsample': 0.7251427075087294, 'colsample_bynode': 0.2827065087684573, 'learning_rate': 0.39514801085683204}. Best is trial 12 with value: -0.546443.\n"
     ]
    },
    {
     "name": "stderr",
     "output_type": "stream",
     "text": [
      "[I 2025-05-15 18:15:35,202] Trial 15 pruned. Trial was pruned at iteration 21.\n"
     ]
    },
    {
     "name": "stderr",
     "output_type": "stream",
     "text": [
      "[I 2025-05-15 18:15:35,387] Trial 16 finished with value: -0.019167 and parameters: {'max_depth': 11, 'min_child_weight': 125, 'subsample': 0.8815541734801864, 'colsample_bynode': 0.11794375140013524, 'learning_rate': 0.049223809345826965}. Best is trial 12 with value: -0.546443.\n"
     ]
    },
    {
     "name": "stderr",
     "output_type": "stream",
     "text": [
      "[I 2025-05-15 18:15:35,559] Trial 17 finished with value: -0.019167 and parameters: {'max_depth': 8, 'min_child_weight': 183, 'subsample': 0.38147523481218437, 'colsample_bynode': 0.22493155379732882, 'learning_rate': 0.04721213780493888}. Best is trial 12 with value: -0.546443.\n"
     ]
    },
    {
     "name": "stderr",
     "output_type": "stream",
     "text": [
      "[I 2025-05-15 18:15:35,742] Trial 18 pruned. Trial was pruned at iteration 21.\n"
     ]
    },
    {
     "name": "stderr",
     "output_type": "stream",
     "text": [
      "[I 2025-05-15 18:15:35,926] Trial 19 finished with value: -0.019167 and parameters: {'max_depth': 11, 'min_child_weight': 102, 'subsample': 0.9723428668438461, 'colsample_bynode': 0.21061250777137863, 'learning_rate': 0.0340013005982499}. Best is trial 12 with value: -0.546443.\n"
     ]
    },
    {
     "name": "stderr",
     "output_type": "stream",
     "text": [
      "[I 2025-05-15 18:15:36,112] Trial 20 finished with value: -0.019167 and parameters: {'max_depth': 7, 'min_child_weight': 60, 'subsample': 0.6557531039489988, 'colsample_bynode': 0.792643950018397, 'learning_rate': 0.19601104640141212}. Best is trial 12 with value: -0.546443.\n"
     ]
    },
    {
     "name": "stderr",
     "output_type": "stream",
     "text": [
      "[I 2025-05-15 18:15:36,340] Trial 21 pruned. Trial was pruned at iteration 21.\n"
     ]
    },
    {
     "name": "stderr",
     "output_type": "stream",
     "text": [
      "[I 2025-05-15 18:15:36,555] Trial 22 pruned. Trial was pruned at iteration 21.\n"
     ]
    },
    {
     "name": "stderr",
     "output_type": "stream",
     "text": [
      "[I 2025-05-15 18:15:36,764] Trial 23 pruned. Trial was pruned at iteration 21.\n"
     ]
    },
    {
     "name": "stderr",
     "output_type": "stream",
     "text": [
      "[I 2025-05-15 18:15:37,051] Trial 24 pruned. Trial was pruned at iteration 21.\n"
     ]
    },
    {
     "name": "stderr",
     "output_type": "stream",
     "text": [
      "[I 2025-05-15 18:15:37,234] Trial 25 finished with value: -0.019167 and parameters: {'max_depth': 6, 'min_child_weight': 60, 'subsample': 0.6456116649072785, 'colsample_bynode': 0.532177065816127, 'learning_rate': 0.281809190534241}. Best is trial 12 with value: -0.546443.\n"
     ]
    },
    {
     "name": "stderr",
     "output_type": "stream",
     "text": [
      "[I 2025-05-15 18:15:37,397] Trial 26 finished with value: -0.153245 and parameters: {'max_depth': 10, 'min_child_weight': 27, 'subsample': 0.4415145059632183, 'colsample_bynode': 0.7060120341889913, 'learning_rate': 0.0668037040487806}. Best is trial 12 with value: -0.546443.\n"
     ]
    },
    {
     "name": "stderr",
     "output_type": "stream",
     "text": [
      "[I 2025-05-15 18:15:37,581] Trial 27 finished with value: -0.019167 and parameters: {'max_depth': 8, 'min_child_weight': 104, 'subsample': 0.830994423789636, 'colsample_bynode': 0.43555425322930064, 'learning_rate': 0.1346978034114215}. Best is trial 12 with value: -0.546443.\n"
     ]
    },
    {
     "name": "stderr",
     "output_type": "stream",
     "text": [
      "[I 2025-05-15 18:15:38,001] Trial 28 pruned. Trial was pruned at iteration 27.\n"
     ]
    },
    {
     "name": "stderr",
     "output_type": "stream",
     "text": [
      "[I 2025-05-15 18:15:38,175] Trial 29 finished with value: -0.019167 and parameters: {'max_depth': 9, 'min_child_weight': 217, 'subsample': 0.7792824855561776, 'colsample_bynode': 0.35144187260404597, 'learning_rate': 0.03555987277431128}. Best is trial 12 with value: -0.546443.\n"
     ]
    },
    {
     "name": "stderr",
     "output_type": "stream",
     "text": [
      "[I 2025-05-15 18:15:38,357] Trial 30 pruned. Trial was pruned at iteration 21.\n"
     ]
    },
    {
     "name": "stderr",
     "output_type": "stream",
     "text": [
      "[I 2025-05-15 18:15:38,546] Trial 31 pruned. Trial was pruned at iteration 21.\n"
     ]
    },
    {
     "name": "stderr",
     "output_type": "stream",
     "text": [
      "[I 2025-05-15 18:15:38,719] Trial 32 pruned. Trial was pruned at iteration 21.\n"
     ]
    },
    {
     "name": "stderr",
     "output_type": "stream",
     "text": [
      "[I 2025-05-15 18:15:38,907] Trial 33 pruned. Trial was pruned at iteration 21.\n"
     ]
    },
    {
     "name": "stderr",
     "output_type": "stream",
     "text": [
      "[I 2025-05-15 18:15:39,102] Trial 34 pruned. Trial was pruned at iteration 21.\n"
     ]
    },
    {
     "name": "stderr",
     "output_type": "stream",
     "text": [
      "[I 2025-05-15 18:15:39,285] Trial 35 finished with value: -0.019167 and parameters: {'max_depth': 15, 'min_child_weight': 67, 'subsample': 0.30998064053558805, 'colsample_bynode': 0.6624987416137388, 'learning_rate': 0.010065159574736374}. Best is trial 12 with value: -0.546443.\n"
     ]
    },
    {
     "name": "stderr",
     "output_type": "stream",
     "text": [
      "[I 2025-05-15 18:15:39,460] Trial 36 finished with value: -0.153245 and parameters: {'max_depth': 13, 'min_child_weight': 38, 'subsample': 0.8619603165445179, 'colsample_bynode': 0.628542476293521, 'learning_rate': 0.024355012977117882}. Best is trial 12 with value: -0.546443.\n"
     ]
    },
    {
     "name": "stderr",
     "output_type": "stream",
     "text": [
      "[I 2025-05-15 18:15:39,632] Trial 37 pruned. Trial was pruned at iteration 21.\n"
     ]
    },
    {
     "name": "stderr",
     "output_type": "stream",
     "text": [
      "[I 2025-05-15 18:15:39,795] Trial 38 finished with value: -0.153245 and parameters: {'max_depth': 9, 'min_child_weight': 31, 'subsample': 0.5057966996056662, 'colsample_bynode': 0.45462238513793146, 'learning_rate': 0.039908134378193384}. Best is trial 12 with value: -0.546443.\n"
     ]
    },
    {
     "name": "stderr",
     "output_type": "stream",
     "text": [
      "[I 2025-05-15 18:15:39,964] Trial 39 finished with value: -0.019167 and parameters: {'max_depth': 5, 'min_child_weight': 97, 'subsample': 0.6285664313952011, 'colsample_bynode': 0.569221294390402, 'learning_rate': 0.4727363411197455}. Best is trial 12 with value: -0.546443.\n"
     ]
    },
    {
     "name": "stderr",
     "output_type": "stream",
     "text": [
      "[I 2025-05-15 18:15:40,142] Trial 40 finished with value: -0.019167 and parameters: {'max_depth': 13, 'min_child_weight': 84, 'subsample': 0.522855423201283, 'colsample_bynode': 0.15075998109585742, 'learning_rate': 0.07162321565530821}. Best is trial 12 with value: -0.546443.\n"
     ]
    },
    {
     "name": "stderr",
     "output_type": "stream",
     "text": [
      "[I 2025-05-15 18:15:40,319] Trial 41 finished with value: -0.153245 and parameters: {'max_depth': 14, 'min_child_weight': 38, 'subsample': 0.8639753078243501, 'colsample_bynode': 0.6325562693029445, 'learning_rate': 0.022962987227154764}. Best is trial 12 with value: -0.546443.\n"
     ]
    },
    {
     "name": "stderr",
     "output_type": "stream",
     "text": [
      "[I 2025-05-15 18:15:40,562] Trial 42 pruned. Trial was pruned at iteration 21.\n"
     ]
    },
    {
     "name": "stderr",
     "output_type": "stream",
     "text": [
      "[I 2025-05-15 18:15:40,742] Trial 43 finished with value: -0.153245 and parameters: {'max_depth': 13, 'min_child_weight': 44, 'subsample': 0.9961811574923556, 'colsample_bynode': 0.6389213928001182, 'learning_rate': 0.007471730499702462}. Best is trial 12 with value: -0.546443.\n"
     ]
    },
    {
     "name": "stderr",
     "output_type": "stream",
     "text": [
      "[I 2025-05-15 18:15:40,907] Trial 44 finished with value: -0.019167 and parameters: {'max_depth': 11, 'min_child_weight': 147, 'subsample': 0.9573646391117517, 'colsample_bynode': 0.6178764389127405, 'learning_rate': 0.10572525333887128}. Best is trial 12 with value: -0.546443.\n"
     ]
    },
    {
     "name": "stderr",
     "output_type": "stream",
     "text": [
      "[I 2025-05-15 18:15:41,116] Trial 45 finished with value: -0.323505 and parameters: {'max_depth': 12, 'min_child_weight': 27, 'subsample': 0.8896903232324478, 'colsample_bynode': 0.5297437706718272, 'learning_rate': 0.0019052765514747637}. Best is trial 12 with value: -0.546443.\n"
     ]
    },
    {
     "name": "stderr",
     "output_type": "stream",
     "text": [
      "[I 2025-05-15 18:15:41,362] Trial 46 pruned. Trial was pruned at iteration 21.\n"
     ]
    },
    {
     "name": "stderr",
     "output_type": "stream",
     "text": [
      "[I 2025-05-15 18:15:41,555] Trial 47 pruned. Trial was pruned at iteration 21.\n"
     ]
    },
    {
     "name": "stderr",
     "output_type": "stream",
     "text": [
      "[I 2025-05-15 18:15:41,728] Trial 48 finished with value: -0.019167 and parameters: {'max_depth': 8, 'min_child_weight': 70, 'subsample': 0.28659281335602466, 'colsample_bynode': 0.19557862600243764, 'learning_rate': 0.0013387247723860463}. Best is trial 12 with value: -0.546443.\n"
     ]
    },
    {
     "name": "stderr",
     "output_type": "stream",
     "text": [
      "[I 2025-05-15 18:15:42,301] Trial 49 pruned. Trial was pruned at iteration 21.\n"
     ]
    }
   ],
   "source": [
    "sampler = optuna.samplers.TPESampler(seed=42)\n",
    "study = optuna.create_study(direction='minimize', sampler=sampler)\n",
    "study.optimize(objective, n_trials=N_TRIALS, gc_after_trial=True)"
   ]
  },
  {
   "cell_type": "code",
   "execution_count": 20,
   "id": "e6005eab",
   "metadata": {
    "execution": {
     "iopub.execute_input": "2025-05-15T16:15:42.432928Z",
     "iopub.status.busy": "2025-05-15T16:15:42.432668Z",
     "iopub.status.idle": "2025-05-15T16:15:42.454291Z",
     "shell.execute_reply": "2025-05-15T16:15:42.453945Z"
    },
    "papermill": {
     "duration": 0.03119,
     "end_time": "2025-05-15T16:15:42.455266",
     "exception": false,
     "start_time": "2025-05-15T16:15:42.424076",
     "status": "completed"
    },
    "tags": []
   },
   "outputs": [
    {
     "data": {
      "text/plain": [
       "['/scratch_isilon/groups/singlecell/shared/projects/Inflammation-PBMCs-Atlas/03_downstream_analysis/08_gene_importance/xgboost_external_validation/xgboost_TopN_genes/results_20/study/Plasma_5_0_xgboost.pkl']"
      ]
     },
     "execution_count": 20,
     "metadata": {},
     "output_type": "execute_result"
    }
   ],
   "source": [
    "out_dir = here(f'03_downstream_analysis/08_gene_importance/xgboost_external_validation/xgboost_TopN_genes/results_{N_GENES}/study')\n",
    "\n",
    "if not os.path.exists(out_dir):\n",
    "    os.makedirs(out_dir)\n",
    "    \n",
    "joblib.dump(study,os.path.join(out_dir, f'{CELL_TYPE}_{SEED}_{TEST_SPLIT_IDX}_xgboost.pkl'))"
   ]
  },
  {
   "cell_type": "code",
   "execution_count": 21,
   "id": "8e8e2955",
   "metadata": {
    "execution": {
     "iopub.execute_input": "2025-05-15T16:15:42.472935Z",
     "iopub.status.busy": "2025-05-15T16:15:42.472522Z",
     "iopub.status.idle": "2025-05-15T16:15:42.912634Z",
     "shell.execute_reply": "2025-05-15T16:15:42.912135Z"
    },
    "papermill": {
     "duration": 0.449936,
     "end_time": "2025-05-15T16:15:42.913584",
     "exception": false,
     "start_time": "2025-05-15T16:15:42.463648",
     "status": "completed"
    },
    "tags": []
   },
   "outputs": [
    {
     "data": {
      "text/html": [
       "<style>#sk-container-id-1 {\n",
       "  /* Definition of color scheme common for light and dark mode */\n",
       "  --sklearn-color-text: black;\n",
       "  --sklearn-color-line: gray;\n",
       "  /* Definition of color scheme for unfitted estimators */\n",
       "  --sklearn-color-unfitted-level-0: #fff5e6;\n",
       "  --sklearn-color-unfitted-level-1: #f6e4d2;\n",
       "  --sklearn-color-unfitted-level-2: #ffe0b3;\n",
       "  --sklearn-color-unfitted-level-3: chocolate;\n",
       "  /* Definition of color scheme for fitted estimators */\n",
       "  --sklearn-color-fitted-level-0: #f0f8ff;\n",
       "  --sklearn-color-fitted-level-1: #d4ebff;\n",
       "  --sklearn-color-fitted-level-2: #b3dbfd;\n",
       "  --sklearn-color-fitted-level-3: cornflowerblue;\n",
       "\n",
       "  /* Specific color for light theme */\n",
       "  --sklearn-color-text-on-default-background: var(--sg-text-color, var(--theme-code-foreground, var(--jp-content-font-color1, black)));\n",
       "  --sklearn-color-background: var(--sg-background-color, var(--theme-background, var(--jp-layout-color0, white)));\n",
       "  --sklearn-color-border-box: var(--sg-text-color, var(--theme-code-foreground, var(--jp-content-font-color1, black)));\n",
       "  --sklearn-color-icon: #696969;\n",
       "\n",
       "  @media (prefers-color-scheme: dark) {\n",
       "    /* Redefinition of color scheme for dark theme */\n",
       "    --sklearn-color-text-on-default-background: var(--sg-text-color, var(--theme-code-foreground, var(--jp-content-font-color1, white)));\n",
       "    --sklearn-color-background: var(--sg-background-color, var(--theme-background, var(--jp-layout-color0, #111)));\n",
       "    --sklearn-color-border-box: var(--sg-text-color, var(--theme-code-foreground, var(--jp-content-font-color1, white)));\n",
       "    --sklearn-color-icon: #878787;\n",
       "  }\n",
       "}\n",
       "\n",
       "#sk-container-id-1 {\n",
       "  color: var(--sklearn-color-text);\n",
       "}\n",
       "\n",
       "#sk-container-id-1 pre {\n",
       "  padding: 0;\n",
       "}\n",
       "\n",
       "#sk-container-id-1 input.sk-hidden--visually {\n",
       "  border: 0;\n",
       "  clip: rect(1px 1px 1px 1px);\n",
       "  clip: rect(1px, 1px, 1px, 1px);\n",
       "  height: 1px;\n",
       "  margin: -1px;\n",
       "  overflow: hidden;\n",
       "  padding: 0;\n",
       "  position: absolute;\n",
       "  width: 1px;\n",
       "}\n",
       "\n",
       "#sk-container-id-1 div.sk-dashed-wrapped {\n",
       "  border: 1px dashed var(--sklearn-color-line);\n",
       "  margin: 0 0.4em 0.5em 0.4em;\n",
       "  box-sizing: border-box;\n",
       "  padding-bottom: 0.4em;\n",
       "  background-color: var(--sklearn-color-background);\n",
       "}\n",
       "\n",
       "#sk-container-id-1 div.sk-container {\n",
       "  /* jupyter's `normalize.less` sets `[hidden] { display: none; }`\n",
       "     but bootstrap.min.css set `[hidden] { display: none !important; }`\n",
       "     so we also need the `!important` here to be able to override the\n",
       "     default hidden behavior on the sphinx rendered scikit-learn.org.\n",
       "     See: https://github.com/scikit-learn/scikit-learn/issues/21755 */\n",
       "  display: inline-block !important;\n",
       "  position: relative;\n",
       "}\n",
       "\n",
       "#sk-container-id-1 div.sk-text-repr-fallback {\n",
       "  display: none;\n",
       "}\n",
       "\n",
       "div.sk-parallel-item,\n",
       "div.sk-serial,\n",
       "div.sk-item {\n",
       "  /* draw centered vertical line to link estimators */\n",
       "  background-image: linear-gradient(var(--sklearn-color-text-on-default-background), var(--sklearn-color-text-on-default-background));\n",
       "  background-size: 2px 100%;\n",
       "  background-repeat: no-repeat;\n",
       "  background-position: center center;\n",
       "}\n",
       "\n",
       "/* Parallel-specific style estimator block */\n",
       "\n",
       "#sk-container-id-1 div.sk-parallel-item::after {\n",
       "  content: \"\";\n",
       "  width: 100%;\n",
       "  border-bottom: 2px solid var(--sklearn-color-text-on-default-background);\n",
       "  flex-grow: 1;\n",
       "}\n",
       "\n",
       "#sk-container-id-1 div.sk-parallel {\n",
       "  display: flex;\n",
       "  align-items: stretch;\n",
       "  justify-content: center;\n",
       "  background-color: var(--sklearn-color-background);\n",
       "  position: relative;\n",
       "}\n",
       "\n",
       "#sk-container-id-1 div.sk-parallel-item {\n",
       "  display: flex;\n",
       "  flex-direction: column;\n",
       "}\n",
       "\n",
       "#sk-container-id-1 div.sk-parallel-item:first-child::after {\n",
       "  align-self: flex-end;\n",
       "  width: 50%;\n",
       "}\n",
       "\n",
       "#sk-container-id-1 div.sk-parallel-item:last-child::after {\n",
       "  align-self: flex-start;\n",
       "  width: 50%;\n",
       "}\n",
       "\n",
       "#sk-container-id-1 div.sk-parallel-item:only-child::after {\n",
       "  width: 0;\n",
       "}\n",
       "\n",
       "/* Serial-specific style estimator block */\n",
       "\n",
       "#sk-container-id-1 div.sk-serial {\n",
       "  display: flex;\n",
       "  flex-direction: column;\n",
       "  align-items: center;\n",
       "  background-color: var(--sklearn-color-background);\n",
       "  padding-right: 1em;\n",
       "  padding-left: 1em;\n",
       "}\n",
       "\n",
       "\n",
       "/* Toggleable style: style used for estimator/Pipeline/ColumnTransformer box that is\n",
       "clickable and can be expanded/collapsed.\n",
       "- Pipeline and ColumnTransformer use this feature and define the default style\n",
       "- Estimators will overwrite some part of the style using the `sk-estimator` class\n",
       "*/\n",
       "\n",
       "/* Pipeline and ColumnTransformer style (default) */\n",
       "\n",
       "#sk-container-id-1 div.sk-toggleable {\n",
       "  /* Default theme specific background. It is overwritten whether we have a\n",
       "  specific estimator or a Pipeline/ColumnTransformer */\n",
       "  background-color: var(--sklearn-color-background);\n",
       "}\n",
       "\n",
       "/* Toggleable label */\n",
       "#sk-container-id-1 label.sk-toggleable__label {\n",
       "  cursor: pointer;\n",
       "  display: block;\n",
       "  width: 100%;\n",
       "  margin-bottom: 0;\n",
       "  padding: 0.5em;\n",
       "  box-sizing: border-box;\n",
       "  text-align: center;\n",
       "}\n",
       "\n",
       "#sk-container-id-1 label.sk-toggleable__label-arrow:before {\n",
       "  /* Arrow on the left of the label */\n",
       "  content: \"▸\";\n",
       "  float: left;\n",
       "  margin-right: 0.25em;\n",
       "  color: var(--sklearn-color-icon);\n",
       "}\n",
       "\n",
       "#sk-container-id-1 label.sk-toggleable__label-arrow:hover:before {\n",
       "  color: var(--sklearn-color-text);\n",
       "}\n",
       "\n",
       "/* Toggleable content - dropdown */\n",
       "\n",
       "#sk-container-id-1 div.sk-toggleable__content {\n",
       "  max-height: 0;\n",
       "  max-width: 0;\n",
       "  overflow: hidden;\n",
       "  text-align: left;\n",
       "  /* unfitted */\n",
       "  background-color: var(--sklearn-color-unfitted-level-0);\n",
       "}\n",
       "\n",
       "#sk-container-id-1 div.sk-toggleable__content.fitted {\n",
       "  /* fitted */\n",
       "  background-color: var(--sklearn-color-fitted-level-0);\n",
       "}\n",
       "\n",
       "#sk-container-id-1 div.sk-toggleable__content pre {\n",
       "  margin: 0.2em;\n",
       "  border-radius: 0.25em;\n",
       "  color: var(--sklearn-color-text);\n",
       "  /* unfitted */\n",
       "  background-color: var(--sklearn-color-unfitted-level-0);\n",
       "}\n",
       "\n",
       "#sk-container-id-1 div.sk-toggleable__content.fitted pre {\n",
       "  /* unfitted */\n",
       "  background-color: var(--sklearn-color-fitted-level-0);\n",
       "}\n",
       "\n",
       "#sk-container-id-1 input.sk-toggleable__control:checked~div.sk-toggleable__content {\n",
       "  /* Expand drop-down */\n",
       "  max-height: 200px;\n",
       "  max-width: 100%;\n",
       "  overflow: auto;\n",
       "}\n",
       "\n",
       "#sk-container-id-1 input.sk-toggleable__control:checked~label.sk-toggleable__label-arrow:before {\n",
       "  content: \"▾\";\n",
       "}\n",
       "\n",
       "/* Pipeline/ColumnTransformer-specific style */\n",
       "\n",
       "#sk-container-id-1 div.sk-label input.sk-toggleable__control:checked~label.sk-toggleable__label {\n",
       "  color: var(--sklearn-color-text);\n",
       "  background-color: var(--sklearn-color-unfitted-level-2);\n",
       "}\n",
       "\n",
       "#sk-container-id-1 div.sk-label.fitted input.sk-toggleable__control:checked~label.sk-toggleable__label {\n",
       "  background-color: var(--sklearn-color-fitted-level-2);\n",
       "}\n",
       "\n",
       "/* Estimator-specific style */\n",
       "\n",
       "/* Colorize estimator box */\n",
       "#sk-container-id-1 div.sk-estimator input.sk-toggleable__control:checked~label.sk-toggleable__label {\n",
       "  /* unfitted */\n",
       "  background-color: var(--sklearn-color-unfitted-level-2);\n",
       "}\n",
       "\n",
       "#sk-container-id-1 div.sk-estimator.fitted input.sk-toggleable__control:checked~label.sk-toggleable__label {\n",
       "  /* fitted */\n",
       "  background-color: var(--sklearn-color-fitted-level-2);\n",
       "}\n",
       "\n",
       "#sk-container-id-1 div.sk-label label.sk-toggleable__label,\n",
       "#sk-container-id-1 div.sk-label label {\n",
       "  /* The background is the default theme color */\n",
       "  color: var(--sklearn-color-text-on-default-background);\n",
       "}\n",
       "\n",
       "/* On hover, darken the color of the background */\n",
       "#sk-container-id-1 div.sk-label:hover label.sk-toggleable__label {\n",
       "  color: var(--sklearn-color-text);\n",
       "  background-color: var(--sklearn-color-unfitted-level-2);\n",
       "}\n",
       "\n",
       "/* Label box, darken color on hover, fitted */\n",
       "#sk-container-id-1 div.sk-label.fitted:hover label.sk-toggleable__label.fitted {\n",
       "  color: var(--sklearn-color-text);\n",
       "  background-color: var(--sklearn-color-fitted-level-2);\n",
       "}\n",
       "\n",
       "/* Estimator label */\n",
       "\n",
       "#sk-container-id-1 div.sk-label label {\n",
       "  font-family: monospace;\n",
       "  font-weight: bold;\n",
       "  display: inline-block;\n",
       "  line-height: 1.2em;\n",
       "}\n",
       "\n",
       "#sk-container-id-1 div.sk-label-container {\n",
       "  text-align: center;\n",
       "}\n",
       "\n",
       "/* Estimator-specific */\n",
       "#sk-container-id-1 div.sk-estimator {\n",
       "  font-family: monospace;\n",
       "  border: 1px dotted var(--sklearn-color-border-box);\n",
       "  border-radius: 0.25em;\n",
       "  box-sizing: border-box;\n",
       "  margin-bottom: 0.5em;\n",
       "  /* unfitted */\n",
       "  background-color: var(--sklearn-color-unfitted-level-0);\n",
       "}\n",
       "\n",
       "#sk-container-id-1 div.sk-estimator.fitted {\n",
       "  /* fitted */\n",
       "  background-color: var(--sklearn-color-fitted-level-0);\n",
       "}\n",
       "\n",
       "/* on hover */\n",
       "#sk-container-id-1 div.sk-estimator:hover {\n",
       "  /* unfitted */\n",
       "  background-color: var(--sklearn-color-unfitted-level-2);\n",
       "}\n",
       "\n",
       "#sk-container-id-1 div.sk-estimator.fitted:hover {\n",
       "  /* fitted */\n",
       "  background-color: var(--sklearn-color-fitted-level-2);\n",
       "}\n",
       "\n",
       "/* Specification for estimator info (e.g. \"i\" and \"?\") */\n",
       "\n",
       "/* Common style for \"i\" and \"?\" */\n",
       "\n",
       ".sk-estimator-doc-link,\n",
       "a:link.sk-estimator-doc-link,\n",
       "a:visited.sk-estimator-doc-link {\n",
       "  float: right;\n",
       "  font-size: smaller;\n",
       "  line-height: 1em;\n",
       "  font-family: monospace;\n",
       "  background-color: var(--sklearn-color-background);\n",
       "  border-radius: 1em;\n",
       "  height: 1em;\n",
       "  width: 1em;\n",
       "  text-decoration: none !important;\n",
       "  margin-left: 1ex;\n",
       "  /* unfitted */\n",
       "  border: var(--sklearn-color-unfitted-level-1) 1pt solid;\n",
       "  color: var(--sklearn-color-unfitted-level-1);\n",
       "}\n",
       "\n",
       ".sk-estimator-doc-link.fitted,\n",
       "a:link.sk-estimator-doc-link.fitted,\n",
       "a:visited.sk-estimator-doc-link.fitted {\n",
       "  /* fitted */\n",
       "  border: var(--sklearn-color-fitted-level-1) 1pt solid;\n",
       "  color: var(--sklearn-color-fitted-level-1);\n",
       "}\n",
       "\n",
       "/* On hover */\n",
       "div.sk-estimator:hover .sk-estimator-doc-link:hover,\n",
       ".sk-estimator-doc-link:hover,\n",
       "div.sk-label-container:hover .sk-estimator-doc-link:hover,\n",
       ".sk-estimator-doc-link:hover {\n",
       "  /* unfitted */\n",
       "  background-color: var(--sklearn-color-unfitted-level-3);\n",
       "  color: var(--sklearn-color-background);\n",
       "  text-decoration: none;\n",
       "}\n",
       "\n",
       "div.sk-estimator.fitted:hover .sk-estimator-doc-link.fitted:hover,\n",
       ".sk-estimator-doc-link.fitted:hover,\n",
       "div.sk-label-container:hover .sk-estimator-doc-link.fitted:hover,\n",
       ".sk-estimator-doc-link.fitted:hover {\n",
       "  /* fitted */\n",
       "  background-color: var(--sklearn-color-fitted-level-3);\n",
       "  color: var(--sklearn-color-background);\n",
       "  text-decoration: none;\n",
       "}\n",
       "\n",
       "/* Span, style for the box shown on hovering the info icon */\n",
       ".sk-estimator-doc-link span {\n",
       "  display: none;\n",
       "  z-index: 9999;\n",
       "  position: relative;\n",
       "  font-weight: normal;\n",
       "  right: .2ex;\n",
       "  padding: .5ex;\n",
       "  margin: .5ex;\n",
       "  width: min-content;\n",
       "  min-width: 20ex;\n",
       "  max-width: 50ex;\n",
       "  color: var(--sklearn-color-text);\n",
       "  box-shadow: 2pt 2pt 4pt #999;\n",
       "  /* unfitted */\n",
       "  background: var(--sklearn-color-unfitted-level-0);\n",
       "  border: .5pt solid var(--sklearn-color-unfitted-level-3);\n",
       "}\n",
       "\n",
       ".sk-estimator-doc-link.fitted span {\n",
       "  /* fitted */\n",
       "  background: var(--sklearn-color-fitted-level-0);\n",
       "  border: var(--sklearn-color-fitted-level-3);\n",
       "}\n",
       "\n",
       ".sk-estimator-doc-link:hover span {\n",
       "  display: block;\n",
       "}\n",
       "\n",
       "/* \"?\"-specific style due to the `<a>` HTML tag */\n",
       "\n",
       "#sk-container-id-1 a.estimator_doc_link {\n",
       "  float: right;\n",
       "  font-size: 1rem;\n",
       "  line-height: 1em;\n",
       "  font-family: monospace;\n",
       "  background-color: var(--sklearn-color-background);\n",
       "  border-radius: 1rem;\n",
       "  height: 1rem;\n",
       "  width: 1rem;\n",
       "  text-decoration: none;\n",
       "  /* unfitted */\n",
       "  color: var(--sklearn-color-unfitted-level-1);\n",
       "  border: var(--sklearn-color-unfitted-level-1) 1pt solid;\n",
       "}\n",
       "\n",
       "#sk-container-id-1 a.estimator_doc_link.fitted {\n",
       "  /* fitted */\n",
       "  border: var(--sklearn-color-fitted-level-1) 1pt solid;\n",
       "  color: var(--sklearn-color-fitted-level-1);\n",
       "}\n",
       "\n",
       "/* On hover */\n",
       "#sk-container-id-1 a.estimator_doc_link:hover {\n",
       "  /* unfitted */\n",
       "  background-color: var(--sklearn-color-unfitted-level-3);\n",
       "  color: var(--sklearn-color-background);\n",
       "  text-decoration: none;\n",
       "}\n",
       "\n",
       "#sk-container-id-1 a.estimator_doc_link.fitted:hover {\n",
       "  /* fitted */\n",
       "  background-color: var(--sklearn-color-fitted-level-3);\n",
       "}\n",
       "</style><div id=\"sk-container-id-1\" class=\"sk-top-container\"><div class=\"sk-text-repr-fallback\"><pre>XGBClassifier(base_score=None, booster=None, callbacks=None,\n",
       "              colsample_bylevel=None, colsample_bynode=0.14672783827498995,\n",
       "              colsample_bytree=None, device=None, early_stopping_rounds=None,\n",
       "              enable_categorical=False,\n",
       "              eval_metric=&lt;function custom_f1_score at 0x7f7244d84540&gt;,\n",
       "              feature_types=None, gamma=None, grow_policy=None,\n",
       "              importance_type=None, interaction_constraints=None,\n",
       "              learning_rate=0.08954997670613858, max_bin=None,\n",
       "              max_cat_threshold=None, max_cat_to_onehot=None,\n",
       "              max_delta_step=None, max_depth=9, max_leaves=None,\n",
       "              min_child_weight=3, missing=nan, monotone_constraints=None,\n",
       "              multi_strategy=None, n_estimators=55, n_jobs=None,\n",
       "              num_parallel_tree=None, objective=&#x27;multi:softprob&#x27;, ...)</pre><b>In a Jupyter environment, please rerun this cell to show the HTML representation or trust the notebook. <br />On GitHub, the HTML representation is unable to render, please try loading this page with nbviewer.org.</b></div><div class=\"sk-container\" hidden><div class=\"sk-item\"><div class=\"sk-estimator fitted sk-toggleable\"><input class=\"sk-toggleable__control sk-hidden--visually\" id=\"sk-estimator-id-1\" type=\"checkbox\" checked><label for=\"sk-estimator-id-1\" class=\"sk-toggleable__label fitted sk-toggleable__label-arrow fitted\">&nbsp;XGBClassifier<span class=\"sk-estimator-doc-link fitted\">i<span>Fitted</span></span></label><div class=\"sk-toggleable__content fitted\"><pre>XGBClassifier(base_score=None, booster=None, callbacks=None,\n",
       "              colsample_bylevel=None, colsample_bynode=0.14672783827498995,\n",
       "              colsample_bytree=None, device=None, early_stopping_rounds=None,\n",
       "              enable_categorical=False,\n",
       "              eval_metric=&lt;function custom_f1_score at 0x7f7244d84540&gt;,\n",
       "              feature_types=None, gamma=None, grow_policy=None,\n",
       "              importance_type=None, interaction_constraints=None,\n",
       "              learning_rate=0.08954997670613858, max_bin=None,\n",
       "              max_cat_threshold=None, max_cat_to_onehot=None,\n",
       "              max_delta_step=None, max_depth=9, max_leaves=None,\n",
       "              min_child_weight=3, missing=nan, monotone_constraints=None,\n",
       "              multi_strategy=None, n_estimators=55, n_jobs=None,\n",
       "              num_parallel_tree=None, objective=&#x27;multi:softprob&#x27;, ...)</pre></div> </div></div></div></div>"
      ],
      "text/plain": [
       "XGBClassifier(base_score=None, booster=None, callbacks=None,\n",
       "              colsample_bylevel=None, colsample_bynode=0.14672783827498995,\n",
       "              colsample_bytree=None, device=None, early_stopping_rounds=None,\n",
       "              enable_categorical=False,\n",
       "              eval_metric=<function custom_f1_score at 0x7f7244d84540>,\n",
       "              feature_types=None, gamma=None, grow_policy=None,\n",
       "              importance_type=None, interaction_constraints=None,\n",
       "              learning_rate=0.08954997670613858, max_bin=None,\n",
       "              max_cat_threshold=None, max_cat_to_onehot=None,\n",
       "              max_delta_step=None, max_depth=9, max_leaves=None,\n",
       "              min_child_weight=3, missing=nan, monotone_constraints=None,\n",
       "              multi_strategy=None, n_estimators=55, n_jobs=None,\n",
       "              num_parallel_tree=None, objective='multi:softprob', ...)"
      ]
     },
     "execution_count": 21,
     "metadata": {},
     "output_type": "execute_result"
    }
   ],
   "source": [
    "n_estimators = int(study.best_trial.user_attrs['best_iteration']*1.2)\n",
    "xgb = xgboost.XGBClassifier(\n",
    "        eval_metric=eval_metric,\n",
    "        n_estimators=n_estimators,\n",
    "        **study.best_trial.params\n",
    "    )\n",
    "xgb.fit(\n",
    "    ssp.vstack((X_train, X_val)), \n",
    "    np.concatenate((y_train_enc, y_val_enc)),\n",
    "    verbose=1,\n",
    ")"
   ]
  },
  {
   "cell_type": "code",
   "execution_count": 22,
   "id": "00287eaf",
   "metadata": {
    "execution": {
     "iopub.execute_input": "2025-05-15T16:15:42.932435Z",
     "iopub.status.busy": "2025-05-15T16:15:42.932067Z",
     "iopub.status.idle": "2025-05-15T16:15:42.947913Z",
     "shell.execute_reply": "2025-05-15T16:15:42.947554Z"
    },
    "papermill": {
     "duration": 0.026096,
     "end_time": "2025-05-15T16:15:42.948854",
     "exception": false,
     "start_time": "2025-05-15T16:15:42.922758",
     "status": "completed"
    },
    "tags": []
   },
   "outputs": [
    {
     "data": {
      "text/plain": [
       "['/scratch_isilon/groups/singlecell/shared/projects/Inflammation-PBMCs-Atlas/03_downstream_analysis/08_gene_importance/xgboost_external_validation/xgboost_TopN_genes/results_20/best_model/Plasma_5_0_xgb.json']"
      ]
     },
     "execution_count": 22,
     "metadata": {},
     "output_type": "execute_result"
    }
   ],
   "source": [
    "out_dir = here(f'03_downstream_analysis/08_gene_importance/xgboost_external_validation/xgboost_TopN_genes/results_{N_GENES}/best_model')\n",
    "\n",
    "if not os.path.exists(out_dir):\n",
    "    os.makedirs(out_dir)\n",
    "    \n",
    "joblib.dump(xgb, os.path.join(out_dir, f'{CELL_TYPE}_{SEED}_{TEST_SPLIT_IDX}_xgb.json'))"
   ]
  },
  {
   "cell_type": "code",
   "execution_count": 23,
   "id": "91eb49c9",
   "metadata": {
    "execution": {
     "iopub.execute_input": "2025-05-15T16:15:42.967095Z",
     "iopub.status.busy": "2025-05-15T16:15:42.966856Z",
     "iopub.status.idle": "2025-05-15T16:15:42.972734Z",
     "shell.execute_reply": "2025-05-15T16:15:42.972395Z"
    },
    "papermill": {
     "duration": 0.016519,
     "end_time": "2025-05-15T16:15:42.974257",
     "exception": false,
     "start_time": "2025-05-15T16:15:42.957738",
     "status": "completed"
    },
    "tags": []
   },
   "outputs": [],
   "source": [
    "df_pred_test = pd.DataFrame(dict(\n",
    "    cell_id=train_adata.obs.iloc[test_idxs].index.values,\n",
    "    y_true=y_test, \n",
    "    y_true_code=y_test_enc, \n",
    "    y_pred=xgb.predict(X_test))).set_index('cell_id')"
   ]
  },
  {
   "cell_type": "code",
   "execution_count": 24,
   "id": "669cb458",
   "metadata": {
    "execution": {
     "iopub.execute_input": "2025-05-15T16:15:42.993360Z",
     "iopub.status.busy": "2025-05-15T16:15:42.992917Z",
     "iopub.status.idle": "2025-05-15T16:15:43.004418Z",
     "shell.execute_reply": "2025-05-15T16:15:43.004030Z"
    },
    "papermill": {
     "duration": 0.022008,
     "end_time": "2025-05-15T16:15:43.005401",
     "exception": false,
     "start_time": "2025-05-15T16:15:42.983393",
     "status": "completed"
    },
    "tags": []
   },
   "outputs": [],
   "source": [
    "out_dir = here(f'03_downstream_analysis/08_gene_importance/xgboost_external_validation/xgboost_TopN_genes/results_{N_GENES}/predictions')\n",
    "\n",
    "if not os.path.exists(out_dir):\n",
    "    os.makedirs(out_dir)\n",
    "    \n",
    "df_pred_test.to_csv(os.path.join(out_dir, f'{CELL_TYPE}_{SEED}_{TEST_SPLIT_IDX}_pred_test.zip'))"
   ]
  },
  {
   "cell_type": "code",
   "execution_count": 25,
   "id": "6b226c05",
   "metadata": {
    "execution": {
     "iopub.execute_input": "2025-05-15T16:15:43.023501Z",
     "iopub.status.busy": "2025-05-15T16:15:43.023282Z",
     "iopub.status.idle": "2025-05-15T16:15:43.031007Z",
     "shell.execute_reply": "2025-05-15T16:15:43.030665Z"
    },
    "papermill": {
     "duration": 0.017717,
     "end_time": "2025-05-15T16:15:43.032014",
     "exception": false,
     "start_time": "2025-05-15T16:15:43.014297",
     "status": "completed"
    },
    "tags": []
   },
   "outputs": [
    {
     "name": "stderr",
     "output_type": "stream",
     "text": [
      "/scratch_isilon/groups/singlecell/shared/conda_env/xgboost-cpu/lib/python3.12/site-packages/sklearn/metrics/_classification.py:2466: UserWarning: y_pred contains classes not in y_true\n",
      "  warnings.warn(\"y_pred contains classes not in y_true\")\n"
     ]
    }
   ],
   "source": [
    "metrics_dict = dict(\n",
    "    BAS=balanced_accuracy_score(y_true=df_pred_test.y_true_code, y_pred=df_pred_test.y_pred), WF1=f1_score(y_true=df_pred_test.y_true_code, y_pred=df_pred_test.y_pred,average='weighted'))"
   ]
  },
  {
   "cell_type": "code",
   "execution_count": 26,
   "id": "21454c5c",
   "metadata": {
    "execution": {
     "iopub.execute_input": "2025-05-15T16:15:43.050640Z",
     "iopub.status.busy": "2025-05-15T16:15:43.050380Z",
     "iopub.status.idle": "2025-05-15T16:15:43.053496Z",
     "shell.execute_reply": "2025-05-15T16:15:43.053190Z"
    },
    "papermill": {
     "duration": 0.013421,
     "end_time": "2025-05-15T16:15:43.054374",
     "exception": false,
     "start_time": "2025-05-15T16:15:43.040953",
     "status": "completed"
    },
    "tags": []
   },
   "outputs": [
    {
     "data": {
      "text/plain": [
       "{'BAS': 0.6214265645069217, 'WF1': 0.5729552268506471}"
      ]
     },
     "execution_count": 26,
     "metadata": {},
     "output_type": "execute_result"
    }
   ],
   "source": [
    "metrics_dict"
   ]
  },
  {
   "cell_type": "code",
   "execution_count": 27,
   "id": "b778ca8b",
   "metadata": {
    "execution": {
     "iopub.execute_input": "2025-05-15T16:15:43.072727Z",
     "iopub.status.busy": "2025-05-15T16:15:43.072447Z",
     "iopub.status.idle": "2025-05-15T16:15:43.087710Z",
     "shell.execute_reply": "2025-05-15T16:15:43.087224Z"
    },
    "papermill": {
     "duration": 0.025578,
     "end_time": "2025-05-15T16:15:43.088684",
     "exception": false,
     "start_time": "2025-05-15T16:15:43.063106",
     "status": "completed"
    },
    "tags": []
   },
   "outputs": [
    {
     "data": {
      "text/html": [
       "<div>\n",
       "<style scoped>\n",
       "    .dataframe tbody tr th:only-of-type {\n",
       "        vertical-align: middle;\n",
       "    }\n",
       "\n",
       "    .dataframe tbody tr th {\n",
       "        vertical-align: top;\n",
       "    }\n",
       "\n",
       "    .dataframe thead th {\n",
       "        text-align: right;\n",
       "    }\n",
       "</style>\n",
       "<table border=\"1\" class=\"dataframe\">\n",
       "  <thead>\n",
       "    <tr style=\"text-align: right;\">\n",
       "      <th></th>\n",
       "      <th>BAS</th>\n",
       "      <th>WF1</th>\n",
       "      <th>split_idx</th>\n",
       "      <th>gene_set_seed</th>\n",
       "      <th>cell_type</th>\n",
       "    </tr>\n",
       "  </thead>\n",
       "  <tbody>\n",
       "    <tr>\n",
       "      <th>0</th>\n",
       "      <td>0.621427</td>\n",
       "      <td>0.572955</td>\n",
       "      <td>0</td>\n",
       "      <td>5</td>\n",
       "      <td>Plasma</td>\n",
       "    </tr>\n",
       "  </tbody>\n",
       "</table>\n",
       "</div>"
      ],
      "text/plain": [
       "        BAS       WF1  split_idx  gene_set_seed cell_type\n",
       "0  0.621427  0.572955          0              5    Plasma"
      ]
     },
     "execution_count": 27,
     "metadata": {},
     "output_type": "execute_result"
    }
   ],
   "source": [
    "metrics_df = pd.DataFrame.from_dict([metrics_dict]).assign(split_idx=TEST_SPLIT_IDX, gene_set_seed=SEED, cell_type=CELL_TYPE)\n",
    "metrics_df"
   ]
  },
  {
   "cell_type": "code",
   "execution_count": 28,
   "id": "97c0614a",
   "metadata": {
    "execution": {
     "iopub.execute_input": "2025-05-15T16:15:43.122213Z",
     "iopub.status.busy": "2025-05-15T16:15:43.121938Z",
     "iopub.status.idle": "2025-05-15T16:15:43.130554Z",
     "shell.execute_reply": "2025-05-15T16:15:43.130150Z"
    },
    "papermill": {
     "duration": 0.019804,
     "end_time": "2025-05-15T16:15:43.131446",
     "exception": false,
     "start_time": "2025-05-15T16:15:43.111642",
     "status": "completed"
    },
    "tags": []
   },
   "outputs": [],
   "source": [
    "out_dir = here(f'03_downstream_analysis/08_gene_importance/xgboost_external_validation/xgboost_TopN_genes/results_{N_GENES}/metrics')\n",
    "\n",
    "if not os.path.exists(out_dir):\n",
    "    os.makedirs(out_dir)\n",
    "    \n",
    "metrics_df.to_csv(os.path.join(out_dir, f'{CELL_TYPE}_{SEED}_{TEST_SPLIT_IDX}_metrics.zip'))"
   ]
  }
 ],
 "metadata": {
  "kernelspec": {
   "display_name": "Python 3 (ipykernel)",
   "language": "python",
   "name": "python3"
  },
  "language_info": {
   "codemirror_mode": {
    "name": "ipython",
    "version": 3
   },
   "file_extension": ".py",
   "mimetype": "text/x-python",
   "name": "python",
   "nbconvert_exporter": "python",
   "pygments_lexer": "ipython3",
   "version": "3.12.5"
  },
  "papermill": {
   "default_parameters": {},
   "duration": 15.971102,
   "end_time": "2025-05-15T16:15:43.757045",
   "environment_variables": {},
   "exception": null,
   "input_path": "02_xgboost_fitting_external_20genes.ipynb",
   "output_path": "results_20/executed_notebooks/xgboost_fitting_external_CT_Plasma_GS_5_seed0.ipynb",
   "parameters": {
    "CELL_TYPE": "Plasma",
    "SEED": 5,
    "TEST_SPLIT_IDX": 0
   },
   "start_time": "2025-05-15T16:15:27.785943",
   "version": "2.6.0"
  }
 },
 "nbformat": 4,
 "nbformat_minor": 5
}