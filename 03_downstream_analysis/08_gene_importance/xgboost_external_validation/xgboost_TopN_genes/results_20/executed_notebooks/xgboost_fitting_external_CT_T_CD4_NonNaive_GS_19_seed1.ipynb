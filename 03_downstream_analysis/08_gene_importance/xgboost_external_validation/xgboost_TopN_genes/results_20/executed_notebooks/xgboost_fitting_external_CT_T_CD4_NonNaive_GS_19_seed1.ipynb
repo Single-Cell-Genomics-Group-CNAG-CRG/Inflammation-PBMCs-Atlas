{
 "cells": [
  {
   "cell_type": "code",
   "execution_count": 1,
   "id": "b809fd49",
   "metadata": {
    "editable": true,
    "execution": {
     "iopub.execute_input": "2025-05-15T16:03:35.016453Z",
     "iopub.status.busy": "2025-05-15T16:03:35.016188Z",
     "iopub.status.idle": "2025-05-15T16:03:35.018890Z",
     "shell.execute_reply": "2025-05-15T16:03:35.018579Z"
    },
    "papermill": {
     "duration": 0.011063,
     "end_time": "2025-05-15T16:03:35.020226",
     "exception": false,
     "start_time": "2025-05-15T16:03:35.009163",
     "status": "completed"
    },
    "slideshow": {
     "slide_type": ""
    },
    "tags": [
     "parameters"
    ]
   },
   "outputs": [],
   "source": [
    "CELL_TYPE = 'pDC'\n",
    "N_GENES: int = 20\n",
    "SEED = 'shap_studyID' #'disease_NOstudy' 'study_NOdisease' or 'int' or 'shap_studyID'\n",
    "TEST_SPLIT_IDX: int = 1 #[0,4]"
   ]
  },
  {
   "cell_type": "code",
   "execution_count": 2,
   "id": "a0420bab",
   "metadata": {
    "execution": {
     "iopub.execute_input": "2025-05-15T16:03:35.032565Z",
     "iopub.status.busy": "2025-05-15T16:03:35.032230Z",
     "iopub.status.idle": "2025-05-15T16:03:35.034515Z",
     "shell.execute_reply": "2025-05-15T16:03:35.034173Z"
    },
    "papermill": {
     "duration": 0.009026,
     "end_time": "2025-05-15T16:03:35.035356",
     "exception": false,
     "start_time": "2025-05-15T16:03:35.026330",
     "status": "completed"
    },
    "tags": [
     "injected-parameters"
    ]
   },
   "outputs": [],
   "source": [
    "# Parameters\n",
    "CELL_TYPE = \"T_CD4_NonNaive\"\n",
    "SEED = 19\n",
    "TEST_SPLIT_IDX = 1\n"
   ]
  },
  {
   "cell_type": "code",
   "execution_count": 3,
   "id": "84892e1d",
   "metadata": {
    "execution": {
     "iopub.execute_input": "2025-05-15T16:03:35.046994Z",
     "iopub.status.busy": "2025-05-15T16:03:35.046766Z",
     "iopub.status.idle": "2025-05-15T16:03:35.048912Z",
     "shell.execute_reply": "2025-05-15T16:03:35.048596Z"
    },
    "papermill": {
     "duration": 0.00929,
     "end_time": "2025-05-15T16:03:35.049870",
     "exception": false,
     "start_time": "2025-05-15T16:03:35.040580",
     "status": "completed"
    },
    "tags": []
   },
   "outputs": [],
   "source": [
    "N_SPLITS: int = 5\n",
    "N_TRIALS: int = 50"
   ]
  },
  {
   "cell_type": "code",
   "execution_count": 4,
   "id": "23676efd",
   "metadata": {
    "execution": {
     "iopub.execute_input": "2025-05-15T16:03:35.079445Z",
     "iopub.status.busy": "2025-05-15T16:03:35.079157Z",
     "iopub.status.idle": "2025-05-15T16:03:36.430391Z",
     "shell.execute_reply": "2025-05-15T16:03:36.429915Z"
    },
    "papermill": {
     "duration": 1.376636,
     "end_time": "2025-05-15T16:03:36.431790",
     "exception": false,
     "start_time": "2025-05-15T16:03:35.055154",
     "status": "completed"
    },
    "tags": []
   },
   "outputs": [],
   "source": [
    "import os\n",
    "import sys\n",
    "from pyprojroot.here import here\n",
    "import pandas as pd\n",
    "import anndata as ad\n",
    "import numpy as np\n",
    "import math\n",
    "from sklearn.model_selection import StratifiedGroupKFold\n",
    "from sklearn.preprocessing import LabelEncoder\n",
    "from sklearn.metrics import f1_score\n",
    "import matplotlib.pyplot as plt\n",
    "import seaborn as sns\n",
    "from itertools import product\n",
    "from sklearn.metrics import balanced_accuracy_score, f1_score\n",
    "import optuna\n",
    "\n",
    "import joblib\n",
    "import pickle\n",
    "import datetime\n",
    "\n",
    "import collections\n",
    "\n",
    "import xgboost\n",
    "from sklearn.preprocessing import LabelEncoder\n",
    "\n",
    "import scipy.sparse as ssp\n",
    "import joblib\n",
    "\n",
    "from dotenv import load_dotenv"
   ]
  },
  {
   "cell_type": "code",
   "execution_count": 5,
   "id": "b0e07034",
   "metadata": {
    "execution": {
     "iopub.execute_input": "2025-05-15T16:03:36.444529Z",
     "iopub.status.busy": "2025-05-15T16:03:36.444122Z",
     "iopub.status.idle": "2025-05-15T16:03:36.450010Z",
     "shell.execute_reply": "2025-05-15T16:03:36.449692Z"
    },
    "papermill": {
     "duration": 0.013053,
     "end_time": "2025-05-15T16:03:36.450821",
     "exception": false,
     "start_time": "2025-05-15T16:03:36.437768",
     "status": "completed"
    },
    "tags": []
   },
   "outputs": [
    {
     "data": {
      "text/plain": [
       "True"
      ]
     },
     "execution_count": 5,
     "metadata": {},
     "output_type": "execute_result"
    }
   ],
   "source": [
    "load_dotenv()"
   ]
  },
  {
   "cell_type": "markdown",
   "id": "f53e26eb",
   "metadata": {
    "papermill": {
     "duration": 0.005826,
     "end_time": "2025-05-15T16:03:36.462932",
     "exception": false,
     "start_time": "2025-05-15T16:03:36.457106",
     "status": "completed"
    },
    "tags": []
   },
   "source": [
    "# LOAD DATASET"
   ]
  },
  {
   "cell_type": "code",
   "execution_count": 6,
   "id": "6708466e",
   "metadata": {
    "execution": {
     "iopub.execute_input": "2025-05-15T16:03:36.474752Z",
     "iopub.status.busy": "2025-05-15T16:03:36.474298Z",
     "iopub.status.idle": "2025-05-15T16:03:37.141980Z",
     "shell.execute_reply": "2025-05-15T16:03:37.141506Z"
    },
    "papermill": {
     "duration": 0.674788,
     "end_time": "2025-05-15T16:03:37.143366",
     "exception": false,
     "start_time": "2025-05-15T16:03:36.468578",
     "status": "completed"
    },
    "tags": []
   },
   "outputs": [],
   "source": [
    "train_adata = ad.read_h5ad(\n",
    "    here(f'03_downstream_analysis/08_gene_importance/xgboost_external_validation/xgboost_TopN_genes/data_cellTypes/EXTERNAL_{CELL_TYPE}.filtered.log1p.h5ad')\n",
    ")"
   ]
  },
  {
   "cell_type": "code",
   "execution_count": 7,
   "id": "db80119e",
   "metadata": {
    "execution": {
     "iopub.execute_input": "2025-05-15T16:03:37.156873Z",
     "iopub.status.busy": "2025-05-15T16:03:37.156409Z",
     "iopub.status.idle": "2025-05-15T16:03:37.188505Z",
     "shell.execute_reply": "2025-05-15T16:03:37.188095Z"
    },
    "papermill": {
     "duration": 0.03988,
     "end_time": "2025-05-15T16:03:37.189489",
     "exception": false,
     "start_time": "2025-05-15T16:03:37.149609",
     "status": "completed"
    },
    "tags": []
   },
   "outputs": [
    {
     "name": "stdout",
     "output_type": "stream",
     "text": [
      "['ENSG00000136997' 'ENSG00000026103' 'ENSG00000175203' 'ENSG00000107223'\n",
      " 'ENSG00000100902' 'ENSG00000117602' 'ENSG00000160710' 'ENSG00000130066'\n",
      " 'ENSG00000183172' 'ENSG00000204843' 'ENSG00000127184' 'ENSG00000131143'\n",
      " 'ENSG00000110848' 'ENSG00000142089' 'ENSG00000169554' 'ENSG00000141367'\n",
      " 'ENSG00000163600' 'ENSG00000135404' 'ENSG00000182866' 'ENSG00000100906'\n",
      " 'ENSG00000167863' 'ENSG00000153283' 'ENSG00000175390' 'ENSG00000088986'\n",
      " 'ENSG00000136738' 'ENSG00000168894' 'ENSG00000126264' 'ENSG00000135441'\n",
      " 'ENSG00000131196' 'ENSG00000136156' 'ENSG00000108639' 'ENSG00000140264'\n",
      " 'ENSG00000099204' 'ENSG00000162434' 'ENSG00000115415' 'ENSG00000158869'\n",
      " 'ENSG00000135720' 'ENSG00000168394' 'ENSG00000108518' 'ENSG00000025708'\n",
      " 'ENSG00000166747' 'ENSG00000117450' 'ENSG00000117318' 'ENSG00000118971'\n",
      " 'ENSG00000113441' 'ENSG00000104870' 'ENSG00000215788' 'ENSG00000145220'\n",
      " 'ENSG00000175104' 'ENSG00000108622' 'ENSG00000030582' 'ENSG00000166949'\n",
      " 'ENSG00000142546' 'ENSG00000133872' 'ENSG00000069702' 'ENSG00000068796'\n",
      " 'ENSG00000152495' 'ENSG00000137193' 'ENSG00000143924' 'ENSG00000127022'\n",
      " 'ENSG00000149357' 'ENSG00000122862' 'ENSG00000117020' 'ENSG00000145287'\n",
      " 'ENSG00000243678' 'ENSG00000216490' 'ENSG00000042753' 'ENSG00000183486'\n",
      " 'ENSG00000100393' 'ENSG00000171476' 'ENSG00000121858' 'ENSG00000092820'\n",
      " 'ENSG00000183813' 'ENSG00000135916' 'ENSG00000115523' 'ENSG00000271503'\n",
      " 'ENSG00000033800' 'ENSG00000172183' 'ENSG00000082074' 'ENSG00000196961'\n",
      " 'ENSG00000239713' 'ENSG00000140379' 'ENSG00000136003' 'ENSG00000171700'\n",
      " 'ENSG00000137441' 'ENSG00000113088' 'ENSG00000117984' 'ENSG00000134285'\n",
      " 'ENSG00000196154' 'ENSG00000179295' 'ENSG00000104894' 'ENSG00000134460'\n",
      " 'ENSG00000129084' 'ENSG00000155368' 'ENSG00000198832' 'ENSG00000104312'\n",
      " 'ENSG00000136732' 'ENSG00000100450' 'ENSG00000076944' 'ENSG00000163659'\n",
      " 'ENSG00000101347' 'ENSG00000126353']\n"
     ]
    }
   ],
   "source": [
    "if SEED != 'all':\n",
    "    gene_subset = np.load(here(f'03_downstream_analysis/08_gene_importance/xgboost_external_validation/shap_gene_selection/gene_subsets_{N_GENES}/{CELL_TYPE}_{SEED}.npy'), allow_pickle=True)\n",
    "    train_adata = train_adata[:,gene_subset]\n",
    "    print(gene_subset)\n",
    "elif SEED == 'all':\n",
    "    print('Using all genes')\n",
    "else:\n",
    "    raise ValueError()"
   ]
  },
  {
   "cell_type": "code",
   "execution_count": 8,
   "id": "0730d22b",
   "metadata": {
    "execution": {
     "iopub.execute_input": "2025-05-15T16:03:37.201997Z",
     "iopub.status.busy": "2025-05-15T16:03:37.201680Z",
     "iopub.status.idle": "2025-05-15T16:03:37.204748Z",
     "shell.execute_reply": "2025-05-15T16:03:37.204436Z"
    },
    "papermill": {
     "duration": 0.010478,
     "end_time": "2025-05-15T16:03:37.205713",
     "exception": false,
     "start_time": "2025-05-15T16:03:37.195235",
     "status": "completed"
    },
    "tags": []
   },
   "outputs": [
    {
     "data": {
      "text/plain": [
       "(124886, 102)"
      ]
     },
     "execution_count": 8,
     "metadata": {},
     "output_type": "execute_result"
    }
   ],
   "source": [
    "train_adata.shape"
   ]
  },
  {
   "cell_type": "code",
   "execution_count": 9,
   "id": "e29fc049",
   "metadata": {
    "execution": {
     "iopub.execute_input": "2025-05-15T16:03:37.218145Z",
     "iopub.status.busy": "2025-05-15T16:03:37.217731Z",
     "iopub.status.idle": "2025-05-15T16:03:37.221816Z",
     "shell.execute_reply": "2025-05-15T16:03:37.221512Z"
    },
    "papermill": {
     "duration": 0.011473,
     "end_time": "2025-05-15T16:03:37.222729",
     "exception": false,
     "start_time": "2025-05-15T16:03:37.211256",
     "status": "completed"
    },
    "tags": []
   },
   "outputs": [
    {
     "data": {
      "text/plain": [
       "['RA', 'healthy', 'COVID', 'HIV', 'cirrhosis', 'CD', 'SLE', 'sepsis']\n",
       "Categories (8, object): ['CD', 'COVID', 'HIV', 'RA', 'SLE', 'cirrhosis', 'healthy', 'sepsis']"
      ]
     },
     "execution_count": 9,
     "metadata": {},
     "output_type": "execute_result"
    }
   ],
   "source": [
    "train_adata.obs.disease.unique()"
   ]
  },
  {
   "cell_type": "code",
   "execution_count": 10,
   "id": "2cb57f6b",
   "metadata": {
    "execution": {
     "iopub.execute_input": "2025-05-15T16:03:37.235298Z",
     "iopub.status.busy": "2025-05-15T16:03:37.234810Z",
     "iopub.status.idle": "2025-05-15T16:03:37.238931Z",
     "shell.execute_reply": "2025-05-15T16:03:37.238640Z"
    },
    "papermill": {
     "duration": 0.011397,
     "end_time": "2025-05-15T16:03:37.239783",
     "exception": false,
     "start_time": "2025-05-15T16:03:37.228386",
     "status": "completed"
    },
    "tags": []
   },
   "outputs": [
    {
     "data": {
      "text/plain": [
       "['SCGT00val_I036016_T0', 'SCGT00val_I036023_T0', 'SCGT00val_I036015_T0', 'SCGT00val_I036028_T0', 'SCGT00val_I0364_T0', ..., '10XGenomics_10XHC2_T0', '10XGenomics_10XHC3_T0', '10XGenomics_10XHC5_T0', '10XGenomics_10XHC7_T0', '10XGenomics_10XHC8_T0']\n",
       "Length: 86\n",
       "Categories (86, object): ['10XGenomics_10XHC1_T0', '10XGenomics_10XHC2_T0', '10XGenomics_10XHC3_T0', '10XGenomics_10XHC4_T0', ..., 'Savage2021_BRISL6_T0', 'Savage2021_BRISL7_T0', 'Savage2021_PIDA_T0', 'Savage2021_PIDB_T0']"
      ]
     },
     "execution_count": 10,
     "metadata": {},
     "output_type": "execute_result"
    }
   ],
   "source": [
    "train_adata.obs.sampleID.unique()"
   ]
  },
  {
   "cell_type": "code",
   "execution_count": 11,
   "id": "7e5d1e45",
   "metadata": {
    "execution": {
     "iopub.execute_input": "2025-05-15T16:03:37.255457Z",
     "iopub.status.busy": "2025-05-15T16:03:37.255130Z",
     "iopub.status.idle": "2025-05-15T16:03:37.552672Z",
     "shell.execute_reply": "2025-05-15T16:03:37.552197Z"
    },
    "papermill": {
     "duration": 0.307997,
     "end_time": "2025-05-15T16:03:37.553629",
     "exception": false,
     "start_time": "2025-05-15T16:03:37.245632",
     "status": "completed"
    },
    "tags": []
   },
   "outputs": [],
   "source": [
    "all_idxs = np.arange(train_adata.obs.shape[0])\n",
    "left_out_splits = [s[1] for s in StratifiedGroupKFold(n_splits=N_SPLITS).split(all_idxs, train_adata.obs.disease, train_adata.obs.sampleID)]"
   ]
  },
  {
   "cell_type": "code",
   "execution_count": 12,
   "id": "fd2e2696",
   "metadata": {
    "execution": {
     "iopub.execute_input": "2025-05-15T16:03:37.566739Z",
     "iopub.status.busy": "2025-05-15T16:03:37.566577Z",
     "iopub.status.idle": "2025-05-15T16:03:37.570142Z",
     "shell.execute_reply": "2025-05-15T16:03:37.569829Z"
    },
    "papermill": {
     "duration": 0.011259,
     "end_time": "2025-05-15T16:03:37.570964",
     "exception": false,
     "start_time": "2025-05-15T16:03:37.559705",
     "status": "completed"
    },
    "tags": []
   },
   "outputs": [
    {
     "data": {
      "text/plain": [
       "([0, 3, 4], 2, 1)"
      ]
     },
     "execution_count": 12,
     "metadata": {},
     "output_type": "execute_result"
    }
   ],
   "source": [
    "TRAIN_SPLIT_IDXS = [0,1,2,3,4]\n",
    "VAL_SPLIT_IDX = (TEST_SPLIT_IDX + 1) % 5\n",
    "TRAIN_SPLIT_IDXS.remove(TEST_SPLIT_IDX)\n",
    "TRAIN_SPLIT_IDXS.remove(VAL_SPLIT_IDX)\n",
    "TRAIN_SPLIT_IDXS, VAL_SPLIT_IDX, TEST_SPLIT_IDX"
   ]
  },
  {
   "cell_type": "code",
   "execution_count": 13,
   "id": "96b7eeb8",
   "metadata": {
    "execution": {
     "iopub.execute_input": "2025-05-15T16:03:37.583414Z",
     "iopub.status.busy": "2025-05-15T16:03:37.583104Z",
     "iopub.status.idle": "2025-05-15T16:03:37.585498Z",
     "shell.execute_reply": "2025-05-15T16:03:37.585171Z"
    },
    "papermill": {
     "duration": 0.009814,
     "end_time": "2025-05-15T16:03:37.586391",
     "exception": false,
     "start_time": "2025-05-15T16:03:37.576577",
     "status": "completed"
    },
    "tags": []
   },
   "outputs": [],
   "source": [
    "train_idxs = np.concatenate([left_out_splits[idx] for idx in TRAIN_SPLIT_IDXS])\n",
    "val_idxs = left_out_splits[VAL_SPLIT_IDX]\n",
    "test_idxs = left_out_splits[TEST_SPLIT_IDX]"
   ]
  },
  {
   "cell_type": "markdown",
   "id": "b2ab9cf7",
   "metadata": {
    "papermill": {
     "duration": 0.031674,
     "end_time": "2025-05-15T16:03:37.623980",
     "exception": false,
     "start_time": "2025-05-15T16:03:37.592306",
     "status": "completed"
    },
    "tags": []
   },
   "source": [
    "### SUBSET DATASET INTO TRAIN/TEST/VAL SPLITS"
   ]
  },
  {
   "cell_type": "code",
   "execution_count": 14,
   "id": "27e26b50",
   "metadata": {
    "execution": {
     "iopub.execute_input": "2025-05-15T16:03:37.637105Z",
     "iopub.status.busy": "2025-05-15T16:03:37.636858Z",
     "iopub.status.idle": "2025-05-15T16:03:37.881900Z",
     "shell.execute_reply": "2025-05-15T16:03:37.881513Z"
    },
    "papermill": {
     "duration": 0.25254,
     "end_time": "2025-05-15T16:03:37.882874",
     "exception": false,
     "start_time": "2025-05-15T16:03:37.630334",
     "status": "completed"
    },
    "tags": []
   },
   "outputs": [
    {
     "data": {
      "text/plain": [
       "((73010, 102), (26276, 102), (25600, 102))"
      ]
     },
     "execution_count": 14,
     "metadata": {},
     "output_type": "execute_result"
    }
   ],
   "source": [
    "X_train = train_adata.X[train_idxs]\n",
    "X_test = train_adata.X[test_idxs]\n",
    "X_val = train_adata.X[val_idxs]\n",
    "X_train.shape, X_test.shape, X_val.shape"
   ]
  },
  {
   "cell_type": "code",
   "execution_count": 15,
   "id": "44ccbd97",
   "metadata": {
    "execution": {
     "iopub.execute_input": "2025-05-15T16:03:37.895956Z",
     "iopub.status.busy": "2025-05-15T16:03:37.895551Z",
     "iopub.status.idle": "2025-05-15T16:03:37.908168Z",
     "shell.execute_reply": "2025-05-15T16:03:37.907809Z"
    },
    "papermill": {
     "duration": 0.020207,
     "end_time": "2025-05-15T16:03:37.909042",
     "exception": false,
     "start_time": "2025-05-15T16:03:37.888835",
     "status": "completed"
    },
    "tags": []
   },
   "outputs": [
    {
     "data": {
      "text/plain": [
       "((73010,), (26276,), (25600,))"
      ]
     },
     "execution_count": 15,
     "metadata": {},
     "output_type": "execute_result"
    }
   ],
   "source": [
    "y_train = train_adata.obs.iloc[train_idxs].disease.values.astype(str)\n",
    "y_test = train_adata.obs.iloc[test_idxs].disease.values.astype(str)\n",
    "y_val = train_adata.obs.iloc[val_idxs].disease.values.astype(str)\n",
    "y_train.shape, y_test.shape, y_val.shape"
   ]
  },
  {
   "cell_type": "code",
   "execution_count": 16,
   "id": "8e31ea68",
   "metadata": {
    "execution": {
     "iopub.execute_input": "2025-05-15T16:03:37.929225Z",
     "iopub.status.busy": "2025-05-15T16:03:37.928911Z",
     "iopub.status.idle": "2025-05-15T16:03:37.956176Z",
     "shell.execute_reply": "2025-05-15T16:03:37.955805Z"
    },
    "papermill": {
     "duration": 0.042144,
     "end_time": "2025-05-15T16:03:37.957112",
     "exception": false,
     "start_time": "2025-05-15T16:03:37.914968",
     "status": "completed"
    },
    "tags": []
   },
   "outputs": [],
   "source": [
    "lenc = LabelEncoder()\n",
    "y_train_enc = lenc.fit_transform(y_train)\n",
    "y_val_enc = lenc.transform(y_val)\n",
    "y_test_enc = lenc.transform(y_test)"
   ]
  },
  {
   "cell_type": "markdown",
   "id": "e263172c",
   "metadata": {
    "papermill": {
     "duration": 0.005913,
     "end_time": "2025-05-15T16:03:37.969059",
     "exception": false,
     "start_time": "2025-05-15T16:03:37.963146",
     "status": "completed"
    },
    "tags": []
   },
   "source": [
    "### GENERATE F1 "
   ]
  },
  {
   "cell_type": "code",
   "execution_count": 17,
   "id": "38af74da",
   "metadata": {
    "execution": {
     "iopub.execute_input": "2025-05-15T16:03:37.981822Z",
     "iopub.status.busy": "2025-05-15T16:03:37.981510Z",
     "iopub.status.idle": "2025-05-15T16:03:37.983863Z",
     "shell.execute_reply": "2025-05-15T16:03:37.983559Z"
    },
    "papermill": {
     "duration": 0.009735,
     "end_time": "2025-05-15T16:03:37.984708",
     "exception": false,
     "start_time": "2025-05-15T16:03:37.974973",
     "status": "completed"
    },
    "tags": []
   },
   "outputs": [],
   "source": [
    "def custom_f1_score(y_true, y_pred):\n",
    "    return -f1_score(y_true, y_pred.argmax(1), average='weighted')"
   ]
  },
  {
   "cell_type": "code",
   "execution_count": 18,
   "id": "34a10f7f",
   "metadata": {
    "execution": {
     "iopub.execute_input": "2025-05-15T16:03:37.997239Z",
     "iopub.status.busy": "2025-05-15T16:03:37.996998Z",
     "iopub.status.idle": "2025-05-15T16:03:38.000897Z",
     "shell.execute_reply": "2025-05-15T16:03:38.000594Z"
    },
    "papermill": {
     "duration": 0.01105,
     "end_time": "2025-05-15T16:03:38.001703",
     "exception": false,
     "start_time": "2025-05-15T16:03:37.990653",
     "status": "completed"
    },
    "tags": []
   },
   "outputs": [],
   "source": [
    "eval_metric=custom_f1_score\n",
    "eval_metric_name='custom_f1_score'\n",
    "\n",
    "def objective(trial):\n",
    "    params = {\n",
    "        'n_estimators': 1500,\n",
    "        'max_depth': trial.suggest_int('max_depth', 3, 20),\n",
    "        'min_child_weight': trial.suggest_int('min_child_weight', 1, 250),\n",
    "        'subsample': trial.suggest_float('subsample', 0.1, 1.0),\n",
    "        'colsample_bynode': trial.suggest_float('colsample_bynode', 0.1, 1.0),\n",
    "        'learning_rate': trial.suggest_float('learning_rate', 1e-3, 5e-1, log=True),\n",
    "    }\n",
    "    pruning_callback = optuna.integration.XGBoostPruningCallback(trial, f'validation_0-{eval_metric_name}')\n",
    "    es_callback = xgboost.callback.EarlyStopping(20, min_delta=0.001)\n",
    "    xgb = xgboost.XGBClassifier(\n",
    "        eval_metric=eval_metric,\n",
    "        callbacks=[pruning_callback, es_callback],\n",
    "        n_jobs=5,\n",
    "        **params\n",
    "    )\n",
    "    xgb.fit(\n",
    "        X_train, \n",
    "        y_train_enc, \n",
    "        verbose=0,\n",
    "        eval_set=[(X_val, y_val_enc)],\n",
    "    )\n",
    "    trial.set_user_attr('best_iteration', xgb.best_iteration)\n",
    "\n",
    "    return xgb.best_score"
   ]
  },
  {
   "cell_type": "code",
   "execution_count": 19,
   "id": "4855d072",
   "metadata": {
    "execution": {
     "iopub.execute_input": "2025-05-15T16:03:38.039189Z",
     "iopub.status.busy": "2025-05-15T16:03:38.038655Z",
     "iopub.status.idle": "2025-05-15T16:22:07.971255Z",
     "shell.execute_reply": "2025-05-15T16:22:07.970812Z"
    },
    "papermill": {
     "duration": 1109.940508,
     "end_time": "2025-05-15T16:22:07.972265",
     "exception": false,
     "start_time": "2025-05-15T16:03:38.031757",
     "status": "completed"
    },
    "scrolled": true,
    "tags": []
   },
   "outputs": [
    {
     "name": "stderr",
     "output_type": "stream",
     "text": [
      "[I 2025-05-15 18:03:38,040] A new study created in memory with name: no-name-d956ed55-2d50-430b-b6b2-2d8644f9bad1\n"
     ]
    },
    {
     "name": "stderr",
     "output_type": "stream",
     "text": [
      "[I 2025-05-15 18:04:09,604] Trial 0 finished with value: -0.614457 and parameters: {'max_depth': 9, 'min_child_weight': 238, 'subsample': 0.7587945476302645, 'colsample_bynode': 0.6387926357773329, 'learning_rate': 0.0026368755339723046}. Best is trial 0 with value: -0.614457.\n"
     ]
    },
    {
     "name": "stderr",
     "output_type": "stream",
     "text": [
      "[I 2025-05-15 18:05:28,798] Trial 1 finished with value: -0.722475 and parameters: {'max_depth': 5, 'min_child_weight': 15, 'subsample': 0.8795585311974417, 'colsample_bynode': 0.6410035105688879, 'learning_rate': 0.08148293210105287}. Best is trial 1 with value: -0.722475.\n"
     ]
    },
    {
     "name": "stderr",
     "output_type": "stream",
     "text": [
      "[I 2025-05-15 18:06:05,932] Trial 2 finished with value: -0.589544 and parameters: {'max_depth': 3, 'min_child_weight': 243, 'subsample': 0.8491983767203796, 'colsample_bynode': 0.29110519961044856, 'learning_rate': 0.003095566460242371}. Best is trial 1 with value: -0.722475.\n"
     ]
    },
    {
     "name": "stderr",
     "output_type": "stream",
     "text": [
      "[I 2025-05-15 18:06:30,249] Trial 3 finished with value: -0.626877 and parameters: {'max_depth': 6, 'min_child_weight': 77, 'subsample': 0.5722807884690141, 'colsample_bynode': 0.48875051677790415, 'learning_rate': 0.006109683510122491}. Best is trial 1 with value: -0.722475.\n"
     ]
    },
    {
     "name": "stderr",
     "output_type": "stream",
     "text": [
      "[I 2025-05-15 18:09:54,618] Trial 4 finished with value: -0.718518 and parameters: {'max_depth': 14, 'min_child_weight': 35, 'subsample': 0.3629301836816964, 'colsample_bynode': 0.4297256589643226, 'learning_rate': 0.01701841881702917}. Best is trial 1 with value: -0.722475.\n"
     ]
    },
    {
     "name": "stderr",
     "output_type": "stream",
     "text": [
      "[I 2025-05-15 18:10:06,524] Trial 5 finished with value: -0.641883 and parameters: {'max_depth': 17, 'min_child_weight': 50, 'subsample': 0.5628109945722505, 'colsample_bynode': 0.6331731119758383, 'learning_rate': 0.0013346527038305934}. Best is trial 1 with value: -0.722475.\n"
     ]
    },
    {
     "name": "stderr",
     "output_type": "stream",
     "text": [
      "[I 2025-05-15 18:10:07,179] Trial 6 pruned. Trial was pruned at iteration 0.\n"
     ]
    },
    {
     "name": "stderr",
     "output_type": "stream",
     "text": [
      "[I 2025-05-15 18:10:07,791] Trial 7 pruned. Trial was pruned at iteration 0.\n"
     ]
    },
    {
     "name": "stderr",
     "output_type": "stream",
     "text": [
      "[I 2025-05-15 18:10:08,384] Trial 8 pruned. Trial was pruned at iteration 0.\n"
     ]
    },
    {
     "name": "stderr",
     "output_type": "stream",
     "text": [
      "[I 2025-05-15 18:10:16,959] Trial 9 pruned. Trial was pruned at iteration 21.\n"
     ]
    },
    {
     "name": "stderr",
     "output_type": "stream",
     "text": [
      "[I 2025-05-15 18:10:17,752] Trial 10 pruned. Trial was pruned at iteration 0.\n"
     ]
    },
    {
     "name": "stderr",
     "output_type": "stream",
     "text": [
      "[I 2025-05-15 18:11:33,263] Trial 11 finished with value: -0.717622 and parameters: {'max_depth': 10, 'min_child_weight': 3, 'subsample': 0.34014304150377095, 'colsample_bynode': 0.40131565860091256, 'learning_rate': 0.057899203666416425}. Best is trial 1 with value: -0.722475.\n"
     ]
    },
    {
     "name": "stderr",
     "output_type": "stream",
     "text": [
      "[I 2025-05-15 18:11:33,929] Trial 12 pruned. Trial was pruned at iteration 0.\n"
     ]
    },
    {
     "name": "stderr",
     "output_type": "stream",
     "text": [
      "[I 2025-05-15 18:11:34,574] Trial 13 pruned. Trial was pruned at iteration 0.\n"
     ]
    },
    {
     "name": "stderr",
     "output_type": "stream",
     "text": [
      "[I 2025-05-15 18:12:44,479] Trial 14 finished with value: -0.72616 and parameters: {'max_depth': 7, 'min_child_weight': 22, 'subsample': 0.738076872534182, 'colsample_bynode': 0.46291367080771195, 'learning_rate': 0.09765120918938215}. Best is trial 14 with value: -0.72616.\n"
     ]
    },
    {
     "name": "stderr",
     "output_type": "stream",
     "text": [
      "[I 2025-05-15 18:12:45,085] Trial 15 pruned. Trial was pruned at iteration 0.\n"
     ]
    },
    {
     "name": "stderr",
     "output_type": "stream",
     "text": [
      "[I 2025-05-15 18:12:45,672] Trial 16 pruned. Trial was pruned at iteration 0.\n"
     ]
    },
    {
     "name": "stderr",
     "output_type": "stream",
     "text": [
      "[I 2025-05-15 18:13:38,500] Trial 17 finished with value: -0.72877 and parameters: {'max_depth': 7, 'min_child_weight': 98, 'subsample': 0.7251580036393249, 'colsample_bynode': 0.515903282561015, 'learning_rate': 0.1548487307966842}. Best is trial 17 with value: -0.72877.\n"
     ]
    },
    {
     "name": "stderr",
     "output_type": "stream",
     "text": [
      "[I 2025-05-15 18:13:39,137] Trial 18 pruned. Trial was pruned at iteration 0.\n"
     ]
    },
    {
     "name": "stderr",
     "output_type": "stream",
     "text": [
      "[I 2025-05-15 18:13:39,779] Trial 19 pruned. Trial was pruned at iteration 0.\n"
     ]
    },
    {
     "name": "stderr",
     "output_type": "stream",
     "text": [
      "[I 2025-05-15 18:13:40,398] Trial 20 pruned. Trial was pruned at iteration 0.\n"
     ]
    },
    {
     "name": "stderr",
     "output_type": "stream",
     "text": [
      "[I 2025-05-15 18:13:41,008] Trial 21 pruned. Trial was pruned at iteration 0.\n"
     ]
    },
    {
     "name": "stderr",
     "output_type": "stream",
     "text": [
      "[I 2025-05-15 18:13:41,618] Trial 22 pruned. Trial was pruned at iteration 0.\n"
     ]
    },
    {
     "name": "stderr",
     "output_type": "stream",
     "text": [
      "[I 2025-05-15 18:14:57,136] Trial 23 finished with value: -0.723038 and parameters: {'max_depth': 7, 'min_child_weight': 19, 'subsample': 0.9588550091982349, 'colsample_bynode': 0.8162896992417841, 'learning_rate': 0.09053510836808383}. Best is trial 17 with value: -0.72877.\n"
     ]
    },
    {
     "name": "stderr",
     "output_type": "stream",
     "text": [
      "[I 2025-05-15 18:15:44,780] Trial 24 finished with value: -0.730436 and parameters: {'max_depth': 8, 'min_child_weight': 57, 'subsample': 0.9963142499984183, 'colsample_bynode': 0.8162809857042157, 'learning_rate': 0.2344330651630673}. Best is trial 24 with value: -0.730436.\n"
     ]
    },
    {
     "name": "stderr",
     "output_type": "stream",
     "text": [
      "[I 2025-05-15 18:15:45,809] Trial 25 pruned. Trial was pruned at iteration 1.\n"
     ]
    },
    {
     "name": "stderr",
     "output_type": "stream",
     "text": [
      "[I 2025-05-15 18:16:38,620] Trial 26 finished with value: -0.732359 and parameters: {'max_depth': 9, 'min_child_weight': 56, 'subsample': 0.9914278568725039, 'colsample_bynode': 0.4777052325282878, 'learning_rate': 0.22942623582493277}. Best is trial 26 with value: -0.732359.\n"
     ]
    },
    {
     "name": "stderr",
     "output_type": "stream",
     "text": [
      "[I 2025-05-15 18:17:23,844] Trial 27 finished with value: -0.730356 and parameters: {'max_depth': 9, 'min_child_weight': 58, 'subsample': 0.9916258255865609, 'colsample_bynode': 0.998570725357617, 'learning_rate': 0.2522632413339288}. Best is trial 26 with value: -0.732359.\n"
     ]
    },
    {
     "name": "stderr",
     "output_type": "stream",
     "text": [
      "[I 2025-05-15 18:18:02,710] Trial 28 finished with value: -0.72743 and parameters: {'max_depth': 12, 'min_child_weight': 55, 'subsample': 0.9966028459647209, 'colsample_bynode': 0.9865364472305921, 'learning_rate': 0.23753145060729203}. Best is trial 26 with value: -0.732359.\n"
     ]
    },
    {
     "name": "stderr",
     "output_type": "stream",
     "text": [
      "[I 2025-05-15 18:18:03,325] Trial 29 pruned. Trial was pruned at iteration 0.\n"
     ]
    },
    {
     "name": "stderr",
     "output_type": "stream",
     "text": [
      "[I 2025-05-15 18:18:06,769] Trial 30 pruned. Trial was pruned at iteration 7.\n"
     ]
    },
    {
     "name": "stderr",
     "output_type": "stream",
     "text": [
      "[I 2025-05-15 18:18:07,380] Trial 31 pruned. Trial was pruned at iteration 0.\n"
     ]
    },
    {
     "name": "stderr",
     "output_type": "stream",
     "text": [
      "[I 2025-05-15 18:18:07,997] Trial 32 pruned. Trial was pruned at iteration 0.\n"
     ]
    },
    {
     "name": "stderr",
     "output_type": "stream",
     "text": [
      "[I 2025-05-15 18:18:52,704] Trial 33 finished with value: -0.726793 and parameters: {'max_depth': 8, 'min_child_weight': 40, 'subsample': 0.8586125518330912, 'colsample_bynode': 0.6248299126787781, 'learning_rate': 0.14668902319806476}. Best is trial 26 with value: -0.732359.\n"
     ]
    },
    {
     "name": "stderr",
     "output_type": "stream",
     "text": [
      "[I 2025-05-15 18:19:33,311] Trial 34 finished with value: -0.726332 and parameters: {'max_depth': 10, 'min_child_weight': 62, 'subsample': 0.9985099236863706, 'colsample_bynode': 0.9752153866047601, 'learning_rate': 0.19557478456889432}. Best is trial 26 with value: -0.732359.\n"
     ]
    },
    {
     "name": "stderr",
     "output_type": "stream",
     "text": [
      "[I 2025-05-15 18:19:33,865] Trial 35 pruned. Trial was pruned at iteration 0.\n"
     ]
    },
    {
     "name": "stderr",
     "output_type": "stream",
     "text": [
      "[I 2025-05-15 18:19:34,521] Trial 36 pruned. Trial was pruned at iteration 0.\n"
     ]
    },
    {
     "name": "stderr",
     "output_type": "stream",
     "text": [
      "[I 2025-05-15 18:19:35,048] Trial 37 pruned. Trial was pruned at iteration 0.\n"
     ]
    },
    {
     "name": "stderr",
     "output_type": "stream",
     "text": [
      "[I 2025-05-15 18:19:35,661] Trial 38 pruned. Trial was pruned at iteration 0.\n"
     ]
    },
    {
     "name": "stderr",
     "output_type": "stream",
     "text": [
      "[I 2025-05-15 18:20:05,456] Trial 39 finished with value: -0.726741 and parameters: {'max_depth': 10, 'min_child_weight': 33, 'subsample': 0.8600682300224588, 'colsample_bynode': 0.9360882100554004, 'learning_rate': 0.4727363411197455}. Best is trial 26 with value: -0.732359.\n"
     ]
    },
    {
     "name": "stderr",
     "output_type": "stream",
     "text": [
      "[I 2025-05-15 18:20:05,997] Trial 40 pruned. Trial was pruned at iteration 0.\n"
     ]
    },
    {
     "name": "stderr",
     "output_type": "stream",
     "text": [
      "[I 2025-05-15 18:20:47,488] Trial 41 finished with value: -0.727417 and parameters: {'max_depth': 12, 'min_child_weight': 48, 'subsample': 0.9864100831859642, 'colsample_bynode': 0.984023529312483, 'learning_rate': 0.24019180378289087}. Best is trial 26 with value: -0.732359.\n"
     ]
    },
    {
     "name": "stderr",
     "output_type": "stream",
     "text": [
      "[I 2025-05-15 18:21:26,142] Trial 42 finished with value: -0.726652 and parameters: {'max_depth': 13, 'min_child_weight': 55, 'subsample': 0.98991459076958, 'colsample_bynode': 0.87049542175311, 'learning_rate': 0.20123597330079154}. Best is trial 26 with value: -0.732359.\n"
     ]
    },
    {
     "name": "stderr",
     "output_type": "stream",
     "text": [
      "[I 2025-05-15 18:22:02,500] Trial 43 finished with value: -0.729372 and parameters: {'max_depth': 9, 'min_child_weight': 74, 'subsample': 0.9372980358669692, 'colsample_bynode': 0.9980917458062318, 'learning_rate': 0.24399494505748154}. Best is trial 26 with value: -0.732359.\n"
     ]
    },
    {
     "name": "stderr",
     "output_type": "stream",
     "text": [
      "[I 2025-05-15 18:22:03,459] Trial 44 pruned. Trial was pruned at iteration 1.\n"
     ]
    },
    {
     "name": "stderr",
     "output_type": "stream",
     "text": [
      "[I 2025-05-15 18:22:03,992] Trial 45 pruned. Trial was pruned at iteration 0.\n"
     ]
    },
    {
     "name": "stderr",
     "output_type": "stream",
     "text": [
      "[I 2025-05-15 18:22:05,960] Trial 46 pruned. Trial was pruned at iteration 3.\n"
     ]
    },
    {
     "name": "stderr",
     "output_type": "stream",
     "text": [
      "[I 2025-05-15 18:22:06,523] Trial 47 pruned. Trial was pruned at iteration 0.\n"
     ]
    },
    {
     "name": "stderr",
     "output_type": "stream",
     "text": [
      "[I 2025-05-15 18:22:07,064] Trial 48 pruned. Trial was pruned at iteration 0.\n"
     ]
    },
    {
     "name": "stderr",
     "output_type": "stream",
     "text": [
      "[I 2025-05-15 18:22:07,899] Trial 49 pruned. Trial was pruned at iteration 1.\n"
     ]
    }
   ],
   "source": [
    "sampler = optuna.samplers.TPESampler(seed=42)\n",
    "study = optuna.create_study(direction='minimize', sampler=sampler)\n",
    "study.optimize(objective, n_trials=N_TRIALS, gc_after_trial=True)"
   ]
  },
  {
   "cell_type": "code",
   "execution_count": 20,
   "id": "8ce077b6",
   "metadata": {
    "execution": {
     "iopub.execute_input": "2025-05-15T16:22:07.991659Z",
     "iopub.status.busy": "2025-05-15T16:22:07.991417Z",
     "iopub.status.idle": "2025-05-15T16:22:08.035499Z",
     "shell.execute_reply": "2025-05-15T16:22:08.035147Z"
    },
    "papermill": {
     "duration": 0.05356,
     "end_time": "2025-05-15T16:22:08.036362",
     "exception": false,
     "start_time": "2025-05-15T16:22:07.982802",
     "status": "completed"
    },
    "tags": []
   },
   "outputs": [
    {
     "data": {
      "text/plain": [
       "['/scratch_isilon/groups/singlecell/shared/projects/Inflammation-PBMCs-Atlas/03_downstream_analysis/08_gene_importance/xgboost_external_validation/xgboost_TopN_genes/results_20/study/T_CD4_NonNaive_19_1_xgboost.pkl']"
      ]
     },
     "execution_count": 20,
     "metadata": {},
     "output_type": "execute_result"
    }
   ],
   "source": [
    "out_dir = here(f'03_downstream_analysis/08_gene_importance/xgboost_external_validation/xgboost_TopN_genes/results_{N_GENES}/study')\n",
    "\n",
    "if not os.path.exists(out_dir):\n",
    "    os.makedirs(out_dir)\n",
    "    \n",
    "joblib.dump(study,os.path.join(out_dir, f'{CELL_TYPE}_{SEED}_{TEST_SPLIT_IDX}_xgboost.pkl'))"
   ]
  },
  {
   "cell_type": "code",
   "execution_count": 21,
   "id": "e3abda2b",
   "metadata": {
    "execution": {
     "iopub.execute_input": "2025-05-15T16:22:08.053774Z",
     "iopub.status.busy": "2025-05-15T16:22:08.053519Z",
     "iopub.status.idle": "2025-05-15T16:22:23.234749Z",
     "shell.execute_reply": "2025-05-15T16:22:23.234389Z"
    },
    "papermill": {
     "duration": 15.19105,
     "end_time": "2025-05-15T16:22:23.235999",
     "exception": false,
     "start_time": "2025-05-15T16:22:08.044949",
     "status": "completed"
    },
    "tags": []
   },
   "outputs": [
    {
     "data": {
      "text/html": [
       "<style>#sk-container-id-1 {\n",
       "  /* Definition of color scheme common for light and dark mode */\n",
       "  --sklearn-color-text: black;\n",
       "  --sklearn-color-line: gray;\n",
       "  /* Definition of color scheme for unfitted estimators */\n",
       "  --sklearn-color-unfitted-level-0: #fff5e6;\n",
       "  --sklearn-color-unfitted-level-1: #f6e4d2;\n",
       "  --sklearn-color-unfitted-level-2: #ffe0b3;\n",
       "  --sklearn-color-unfitted-level-3: chocolate;\n",
       "  /* Definition of color scheme for fitted estimators */\n",
       "  --sklearn-color-fitted-level-0: #f0f8ff;\n",
       "  --sklearn-color-fitted-level-1: #d4ebff;\n",
       "  --sklearn-color-fitted-level-2: #b3dbfd;\n",
       "  --sklearn-color-fitted-level-3: cornflowerblue;\n",
       "\n",
       "  /* Specific color for light theme */\n",
       "  --sklearn-color-text-on-default-background: var(--sg-text-color, var(--theme-code-foreground, var(--jp-content-font-color1, black)));\n",
       "  --sklearn-color-background: var(--sg-background-color, var(--theme-background, var(--jp-layout-color0, white)));\n",
       "  --sklearn-color-border-box: var(--sg-text-color, var(--theme-code-foreground, var(--jp-content-font-color1, black)));\n",
       "  --sklearn-color-icon: #696969;\n",
       "\n",
       "  @media (prefers-color-scheme: dark) {\n",
       "    /* Redefinition of color scheme for dark theme */\n",
       "    --sklearn-color-text-on-default-background: var(--sg-text-color, var(--theme-code-foreground, var(--jp-content-font-color1, white)));\n",
       "    --sklearn-color-background: var(--sg-background-color, var(--theme-background, var(--jp-layout-color0, #111)));\n",
       "    --sklearn-color-border-box: var(--sg-text-color, var(--theme-code-foreground, var(--jp-content-font-color1, white)));\n",
       "    --sklearn-color-icon: #878787;\n",
       "  }\n",
       "}\n",
       "\n",
       "#sk-container-id-1 {\n",
       "  color: var(--sklearn-color-text);\n",
       "}\n",
       "\n",
       "#sk-container-id-1 pre {\n",
       "  padding: 0;\n",
       "}\n",
       "\n",
       "#sk-container-id-1 input.sk-hidden--visually {\n",
       "  border: 0;\n",
       "  clip: rect(1px 1px 1px 1px);\n",
       "  clip: rect(1px, 1px, 1px, 1px);\n",
       "  height: 1px;\n",
       "  margin: -1px;\n",
       "  overflow: hidden;\n",
       "  padding: 0;\n",
       "  position: absolute;\n",
       "  width: 1px;\n",
       "}\n",
       "\n",
       "#sk-container-id-1 div.sk-dashed-wrapped {\n",
       "  border: 1px dashed var(--sklearn-color-line);\n",
       "  margin: 0 0.4em 0.5em 0.4em;\n",
       "  box-sizing: border-box;\n",
       "  padding-bottom: 0.4em;\n",
       "  background-color: var(--sklearn-color-background);\n",
       "}\n",
       "\n",
       "#sk-container-id-1 div.sk-container {\n",
       "  /* jupyter's `normalize.less` sets `[hidden] { display: none; }`\n",
       "     but bootstrap.min.css set `[hidden] { display: none !important; }`\n",
       "     so we also need the `!important` here to be able to override the\n",
       "     default hidden behavior on the sphinx rendered scikit-learn.org.\n",
       "     See: https://github.com/scikit-learn/scikit-learn/issues/21755 */\n",
       "  display: inline-block !important;\n",
       "  position: relative;\n",
       "}\n",
       "\n",
       "#sk-container-id-1 div.sk-text-repr-fallback {\n",
       "  display: none;\n",
       "}\n",
       "\n",
       "div.sk-parallel-item,\n",
       "div.sk-serial,\n",
       "div.sk-item {\n",
       "  /* draw centered vertical line to link estimators */\n",
       "  background-image: linear-gradient(var(--sklearn-color-text-on-default-background), var(--sklearn-color-text-on-default-background));\n",
       "  background-size: 2px 100%;\n",
       "  background-repeat: no-repeat;\n",
       "  background-position: center center;\n",
       "}\n",
       "\n",
       "/* Parallel-specific style estimator block */\n",
       "\n",
       "#sk-container-id-1 div.sk-parallel-item::after {\n",
       "  content: \"\";\n",
       "  width: 100%;\n",
       "  border-bottom: 2px solid var(--sklearn-color-text-on-default-background);\n",
       "  flex-grow: 1;\n",
       "}\n",
       "\n",
       "#sk-container-id-1 div.sk-parallel {\n",
       "  display: flex;\n",
       "  align-items: stretch;\n",
       "  justify-content: center;\n",
       "  background-color: var(--sklearn-color-background);\n",
       "  position: relative;\n",
       "}\n",
       "\n",
       "#sk-container-id-1 div.sk-parallel-item {\n",
       "  display: flex;\n",
       "  flex-direction: column;\n",
       "}\n",
       "\n",
       "#sk-container-id-1 div.sk-parallel-item:first-child::after {\n",
       "  align-self: flex-end;\n",
       "  width: 50%;\n",
       "}\n",
       "\n",
       "#sk-container-id-1 div.sk-parallel-item:last-child::after {\n",
       "  align-self: flex-start;\n",
       "  width: 50%;\n",
       "}\n",
       "\n",
       "#sk-container-id-1 div.sk-parallel-item:only-child::after {\n",
       "  width: 0;\n",
       "}\n",
       "\n",
       "/* Serial-specific style estimator block */\n",
       "\n",
       "#sk-container-id-1 div.sk-serial {\n",
       "  display: flex;\n",
       "  flex-direction: column;\n",
       "  align-items: center;\n",
       "  background-color: var(--sklearn-color-background);\n",
       "  padding-right: 1em;\n",
       "  padding-left: 1em;\n",
       "}\n",
       "\n",
       "\n",
       "/* Toggleable style: style used for estimator/Pipeline/ColumnTransformer box that is\n",
       "clickable and can be expanded/collapsed.\n",
       "- Pipeline and ColumnTransformer use this feature and define the default style\n",
       "- Estimators will overwrite some part of the style using the `sk-estimator` class\n",
       "*/\n",
       "\n",
       "/* Pipeline and ColumnTransformer style (default) */\n",
       "\n",
       "#sk-container-id-1 div.sk-toggleable {\n",
       "  /* Default theme specific background. It is overwritten whether we have a\n",
       "  specific estimator or a Pipeline/ColumnTransformer */\n",
       "  background-color: var(--sklearn-color-background);\n",
       "}\n",
       "\n",
       "/* Toggleable label */\n",
       "#sk-container-id-1 label.sk-toggleable__label {\n",
       "  cursor: pointer;\n",
       "  display: block;\n",
       "  width: 100%;\n",
       "  margin-bottom: 0;\n",
       "  padding: 0.5em;\n",
       "  box-sizing: border-box;\n",
       "  text-align: center;\n",
       "}\n",
       "\n",
       "#sk-container-id-1 label.sk-toggleable__label-arrow:before {\n",
       "  /* Arrow on the left of the label */\n",
       "  content: \"▸\";\n",
       "  float: left;\n",
       "  margin-right: 0.25em;\n",
       "  color: var(--sklearn-color-icon);\n",
       "}\n",
       "\n",
       "#sk-container-id-1 label.sk-toggleable__label-arrow:hover:before {\n",
       "  color: var(--sklearn-color-text);\n",
       "}\n",
       "\n",
       "/* Toggleable content - dropdown */\n",
       "\n",
       "#sk-container-id-1 div.sk-toggleable__content {\n",
       "  max-height: 0;\n",
       "  max-width: 0;\n",
       "  overflow: hidden;\n",
       "  text-align: left;\n",
       "  /* unfitted */\n",
       "  background-color: var(--sklearn-color-unfitted-level-0);\n",
       "}\n",
       "\n",
       "#sk-container-id-1 div.sk-toggleable__content.fitted {\n",
       "  /* fitted */\n",
       "  background-color: var(--sklearn-color-fitted-level-0);\n",
       "}\n",
       "\n",
       "#sk-container-id-1 div.sk-toggleable__content pre {\n",
       "  margin: 0.2em;\n",
       "  border-radius: 0.25em;\n",
       "  color: var(--sklearn-color-text);\n",
       "  /* unfitted */\n",
       "  background-color: var(--sklearn-color-unfitted-level-0);\n",
       "}\n",
       "\n",
       "#sk-container-id-1 div.sk-toggleable__content.fitted pre {\n",
       "  /* unfitted */\n",
       "  background-color: var(--sklearn-color-fitted-level-0);\n",
       "}\n",
       "\n",
       "#sk-container-id-1 input.sk-toggleable__control:checked~div.sk-toggleable__content {\n",
       "  /* Expand drop-down */\n",
       "  max-height: 200px;\n",
       "  max-width: 100%;\n",
       "  overflow: auto;\n",
       "}\n",
       "\n",
       "#sk-container-id-1 input.sk-toggleable__control:checked~label.sk-toggleable__label-arrow:before {\n",
       "  content: \"▾\";\n",
       "}\n",
       "\n",
       "/* Pipeline/ColumnTransformer-specific style */\n",
       "\n",
       "#sk-container-id-1 div.sk-label input.sk-toggleable__control:checked~label.sk-toggleable__label {\n",
       "  color: var(--sklearn-color-text);\n",
       "  background-color: var(--sklearn-color-unfitted-level-2);\n",
       "}\n",
       "\n",
       "#sk-container-id-1 div.sk-label.fitted input.sk-toggleable__control:checked~label.sk-toggleable__label {\n",
       "  background-color: var(--sklearn-color-fitted-level-2);\n",
       "}\n",
       "\n",
       "/* Estimator-specific style */\n",
       "\n",
       "/* Colorize estimator box */\n",
       "#sk-container-id-1 div.sk-estimator input.sk-toggleable__control:checked~label.sk-toggleable__label {\n",
       "  /* unfitted */\n",
       "  background-color: var(--sklearn-color-unfitted-level-2);\n",
       "}\n",
       "\n",
       "#sk-container-id-1 div.sk-estimator.fitted input.sk-toggleable__control:checked~label.sk-toggleable__label {\n",
       "  /* fitted */\n",
       "  background-color: var(--sklearn-color-fitted-level-2);\n",
       "}\n",
       "\n",
       "#sk-container-id-1 div.sk-label label.sk-toggleable__label,\n",
       "#sk-container-id-1 div.sk-label label {\n",
       "  /* The background is the default theme color */\n",
       "  color: var(--sklearn-color-text-on-default-background);\n",
       "}\n",
       "\n",
       "/* On hover, darken the color of the background */\n",
       "#sk-container-id-1 div.sk-label:hover label.sk-toggleable__label {\n",
       "  color: var(--sklearn-color-text);\n",
       "  background-color: var(--sklearn-color-unfitted-level-2);\n",
       "}\n",
       "\n",
       "/* Label box, darken color on hover, fitted */\n",
       "#sk-container-id-1 div.sk-label.fitted:hover label.sk-toggleable__label.fitted {\n",
       "  color: var(--sklearn-color-text);\n",
       "  background-color: var(--sklearn-color-fitted-level-2);\n",
       "}\n",
       "\n",
       "/* Estimator label */\n",
       "\n",
       "#sk-container-id-1 div.sk-label label {\n",
       "  font-family: monospace;\n",
       "  font-weight: bold;\n",
       "  display: inline-block;\n",
       "  line-height: 1.2em;\n",
       "}\n",
       "\n",
       "#sk-container-id-1 div.sk-label-container {\n",
       "  text-align: center;\n",
       "}\n",
       "\n",
       "/* Estimator-specific */\n",
       "#sk-container-id-1 div.sk-estimator {\n",
       "  font-family: monospace;\n",
       "  border: 1px dotted var(--sklearn-color-border-box);\n",
       "  border-radius: 0.25em;\n",
       "  box-sizing: border-box;\n",
       "  margin-bottom: 0.5em;\n",
       "  /* unfitted */\n",
       "  background-color: var(--sklearn-color-unfitted-level-0);\n",
       "}\n",
       "\n",
       "#sk-container-id-1 div.sk-estimator.fitted {\n",
       "  /* fitted */\n",
       "  background-color: var(--sklearn-color-fitted-level-0);\n",
       "}\n",
       "\n",
       "/* on hover */\n",
       "#sk-container-id-1 div.sk-estimator:hover {\n",
       "  /* unfitted */\n",
       "  background-color: var(--sklearn-color-unfitted-level-2);\n",
       "}\n",
       "\n",
       "#sk-container-id-1 div.sk-estimator.fitted:hover {\n",
       "  /* fitted */\n",
       "  background-color: var(--sklearn-color-fitted-level-2);\n",
       "}\n",
       "\n",
       "/* Specification for estimator info (e.g. \"i\" and \"?\") */\n",
       "\n",
       "/* Common style for \"i\" and \"?\" */\n",
       "\n",
       ".sk-estimator-doc-link,\n",
       "a:link.sk-estimator-doc-link,\n",
       "a:visited.sk-estimator-doc-link {\n",
       "  float: right;\n",
       "  font-size: smaller;\n",
       "  line-height: 1em;\n",
       "  font-family: monospace;\n",
       "  background-color: var(--sklearn-color-background);\n",
       "  border-radius: 1em;\n",
       "  height: 1em;\n",
       "  width: 1em;\n",
       "  text-decoration: none !important;\n",
       "  margin-left: 1ex;\n",
       "  /* unfitted */\n",
       "  border: var(--sklearn-color-unfitted-level-1) 1pt solid;\n",
       "  color: var(--sklearn-color-unfitted-level-1);\n",
       "}\n",
       "\n",
       ".sk-estimator-doc-link.fitted,\n",
       "a:link.sk-estimator-doc-link.fitted,\n",
       "a:visited.sk-estimator-doc-link.fitted {\n",
       "  /* fitted */\n",
       "  border: var(--sklearn-color-fitted-level-1) 1pt solid;\n",
       "  color: var(--sklearn-color-fitted-level-1);\n",
       "}\n",
       "\n",
       "/* On hover */\n",
       "div.sk-estimator:hover .sk-estimator-doc-link:hover,\n",
       ".sk-estimator-doc-link:hover,\n",
       "div.sk-label-container:hover .sk-estimator-doc-link:hover,\n",
       ".sk-estimator-doc-link:hover {\n",
       "  /* unfitted */\n",
       "  background-color: var(--sklearn-color-unfitted-level-3);\n",
       "  color: var(--sklearn-color-background);\n",
       "  text-decoration: none;\n",
       "}\n",
       "\n",
       "div.sk-estimator.fitted:hover .sk-estimator-doc-link.fitted:hover,\n",
       ".sk-estimator-doc-link.fitted:hover,\n",
       "div.sk-label-container:hover .sk-estimator-doc-link.fitted:hover,\n",
       ".sk-estimator-doc-link.fitted:hover {\n",
       "  /* fitted */\n",
       "  background-color: var(--sklearn-color-fitted-level-3);\n",
       "  color: var(--sklearn-color-background);\n",
       "  text-decoration: none;\n",
       "}\n",
       "\n",
       "/* Span, style for the box shown on hovering the info icon */\n",
       ".sk-estimator-doc-link span {\n",
       "  display: none;\n",
       "  z-index: 9999;\n",
       "  position: relative;\n",
       "  font-weight: normal;\n",
       "  right: .2ex;\n",
       "  padding: .5ex;\n",
       "  margin: .5ex;\n",
       "  width: min-content;\n",
       "  min-width: 20ex;\n",
       "  max-width: 50ex;\n",
       "  color: var(--sklearn-color-text);\n",
       "  box-shadow: 2pt 2pt 4pt #999;\n",
       "  /* unfitted */\n",
       "  background: var(--sklearn-color-unfitted-level-0);\n",
       "  border: .5pt solid var(--sklearn-color-unfitted-level-3);\n",
       "}\n",
       "\n",
       ".sk-estimator-doc-link.fitted span {\n",
       "  /* fitted */\n",
       "  background: var(--sklearn-color-fitted-level-0);\n",
       "  border: var(--sklearn-color-fitted-level-3);\n",
       "}\n",
       "\n",
       ".sk-estimator-doc-link:hover span {\n",
       "  display: block;\n",
       "}\n",
       "\n",
       "/* \"?\"-specific style due to the `<a>` HTML tag */\n",
       "\n",
       "#sk-container-id-1 a.estimator_doc_link {\n",
       "  float: right;\n",
       "  font-size: 1rem;\n",
       "  line-height: 1em;\n",
       "  font-family: monospace;\n",
       "  background-color: var(--sklearn-color-background);\n",
       "  border-radius: 1rem;\n",
       "  height: 1rem;\n",
       "  width: 1rem;\n",
       "  text-decoration: none;\n",
       "  /* unfitted */\n",
       "  color: var(--sklearn-color-unfitted-level-1);\n",
       "  border: var(--sklearn-color-unfitted-level-1) 1pt solid;\n",
       "}\n",
       "\n",
       "#sk-container-id-1 a.estimator_doc_link.fitted {\n",
       "  /* fitted */\n",
       "  border: var(--sklearn-color-fitted-level-1) 1pt solid;\n",
       "  color: var(--sklearn-color-fitted-level-1);\n",
       "}\n",
       "\n",
       "/* On hover */\n",
       "#sk-container-id-1 a.estimator_doc_link:hover {\n",
       "  /* unfitted */\n",
       "  background-color: var(--sklearn-color-unfitted-level-3);\n",
       "  color: var(--sklearn-color-background);\n",
       "  text-decoration: none;\n",
       "}\n",
       "\n",
       "#sk-container-id-1 a.estimator_doc_link.fitted:hover {\n",
       "  /* fitted */\n",
       "  background-color: var(--sklearn-color-fitted-level-3);\n",
       "}\n",
       "</style><div id=\"sk-container-id-1\" class=\"sk-top-container\"><div class=\"sk-text-repr-fallback\"><pre>XGBClassifier(base_score=None, booster=None, callbacks=None,\n",
       "              colsample_bylevel=None, colsample_bynode=0.4777052325282878,\n",
       "              colsample_bytree=None, device=None, early_stopping_rounds=None,\n",
       "              enable_categorical=False,\n",
       "              eval_metric=&lt;function custom_f1_score at 0x7fb6bf2ebec0&gt;,\n",
       "              feature_types=None, gamma=None, grow_policy=None,\n",
       "              importance_type=None, interaction_constraints=None,\n",
       "              learning_rate=0.22942623582493277, max_bin=None,\n",
       "              max_cat_threshold=None, max_cat_to_onehot=None,\n",
       "              max_delta_step=None, max_depth=9, max_leaves=None,\n",
       "              min_child_weight=56, missing=nan, monotone_constraints=None,\n",
       "              multi_strategy=None, n_estimators=164, n_jobs=None,\n",
       "              num_parallel_tree=None, objective=&#x27;multi:softprob&#x27;, ...)</pre><b>In a Jupyter environment, please rerun this cell to show the HTML representation or trust the notebook. <br />On GitHub, the HTML representation is unable to render, please try loading this page with nbviewer.org.</b></div><div class=\"sk-container\" hidden><div class=\"sk-item\"><div class=\"sk-estimator fitted sk-toggleable\"><input class=\"sk-toggleable__control sk-hidden--visually\" id=\"sk-estimator-id-1\" type=\"checkbox\" checked><label for=\"sk-estimator-id-1\" class=\"sk-toggleable__label fitted sk-toggleable__label-arrow fitted\">&nbsp;XGBClassifier<span class=\"sk-estimator-doc-link fitted\">i<span>Fitted</span></span></label><div class=\"sk-toggleable__content fitted\"><pre>XGBClassifier(base_score=None, booster=None, callbacks=None,\n",
       "              colsample_bylevel=None, colsample_bynode=0.4777052325282878,\n",
       "              colsample_bytree=None, device=None, early_stopping_rounds=None,\n",
       "              enable_categorical=False,\n",
       "              eval_metric=&lt;function custom_f1_score at 0x7fb6bf2ebec0&gt;,\n",
       "              feature_types=None, gamma=None, grow_policy=None,\n",
       "              importance_type=None, interaction_constraints=None,\n",
       "              learning_rate=0.22942623582493277, max_bin=None,\n",
       "              max_cat_threshold=None, max_cat_to_onehot=None,\n",
       "              max_delta_step=None, max_depth=9, max_leaves=None,\n",
       "              min_child_weight=56, missing=nan, monotone_constraints=None,\n",
       "              multi_strategy=None, n_estimators=164, n_jobs=None,\n",
       "              num_parallel_tree=None, objective=&#x27;multi:softprob&#x27;, ...)</pre></div> </div></div></div></div>"
      ],
      "text/plain": [
       "XGBClassifier(base_score=None, booster=None, callbacks=None,\n",
       "              colsample_bylevel=None, colsample_bynode=0.4777052325282878,\n",
       "              colsample_bytree=None, device=None, early_stopping_rounds=None,\n",
       "              enable_categorical=False,\n",
       "              eval_metric=<function custom_f1_score at 0x7fb6bf2ebec0>,\n",
       "              feature_types=None, gamma=None, grow_policy=None,\n",
       "              importance_type=None, interaction_constraints=None,\n",
       "              learning_rate=0.22942623582493277, max_bin=None,\n",
       "              max_cat_threshold=None, max_cat_to_onehot=None,\n",
       "              max_delta_step=None, max_depth=9, max_leaves=None,\n",
       "              min_child_weight=56, missing=nan, monotone_constraints=None,\n",
       "              multi_strategy=None, n_estimators=164, n_jobs=None,\n",
       "              num_parallel_tree=None, objective='multi:softprob', ...)"
      ]
     },
     "execution_count": 21,
     "metadata": {},
     "output_type": "execute_result"
    }
   ],
   "source": [
    "n_estimators = int(study.best_trial.user_attrs['best_iteration']*1.2)\n",
    "xgb = xgboost.XGBClassifier(\n",
    "        eval_metric=eval_metric,\n",
    "        n_estimators=n_estimators,\n",
    "        **study.best_trial.params\n",
    "    )\n",
    "xgb.fit(\n",
    "    ssp.vstack((X_train, X_val)), \n",
    "    np.concatenate((y_train_enc, y_val_enc)),\n",
    "    verbose=1,\n",
    ")"
   ]
  },
  {
   "cell_type": "code",
   "execution_count": 22,
   "id": "e8b05d44",
   "metadata": {
    "execution": {
     "iopub.execute_input": "2025-05-15T16:22:23.254217Z",
     "iopub.status.busy": "2025-05-15T16:22:23.253869Z",
     "iopub.status.idle": "2025-05-15T16:22:23.318196Z",
     "shell.execute_reply": "2025-05-15T16:22:23.317839Z"
    },
    "papermill": {
     "duration": 0.073833,
     "end_time": "2025-05-15T16:22:23.319054",
     "exception": false,
     "start_time": "2025-05-15T16:22:23.245221",
     "status": "completed"
    },
    "tags": []
   },
   "outputs": [
    {
     "data": {
      "text/plain": [
       "['/scratch_isilon/groups/singlecell/shared/projects/Inflammation-PBMCs-Atlas/03_downstream_analysis/08_gene_importance/xgboost_external_validation/xgboost_TopN_genes/results_20/best_model/T_CD4_NonNaive_19_1_xgb.json']"
      ]
     },
     "execution_count": 22,
     "metadata": {},
     "output_type": "execute_result"
    }
   ],
   "source": [
    "out_dir = here(f'03_downstream_analysis/08_gene_importance/xgboost_external_validation/xgboost_TopN_genes/results_{N_GENES}/best_model')\n",
    "\n",
    "if not os.path.exists(out_dir):\n",
    "    os.makedirs(out_dir)\n",
    "    \n",
    "joblib.dump(xgb, os.path.join(out_dir, f'{CELL_TYPE}_{SEED}_{TEST_SPLIT_IDX}_xgb.json'))"
   ]
  },
  {
   "cell_type": "code",
   "execution_count": 23,
   "id": "ced06360",
   "metadata": {
    "execution": {
     "iopub.execute_input": "2025-05-15T16:22:23.336462Z",
     "iopub.status.busy": "2025-05-15T16:22:23.335872Z",
     "iopub.status.idle": "2025-05-15T16:22:24.183772Z",
     "shell.execute_reply": "2025-05-15T16:22:24.183379Z"
    },
    "papermill": {
     "duration": 0.857374,
     "end_time": "2025-05-15T16:22:24.184652",
     "exception": false,
     "start_time": "2025-05-15T16:22:23.327278",
     "status": "completed"
    },
    "tags": []
   },
   "outputs": [],
   "source": [
    "df_pred_test = pd.DataFrame(dict(\n",
    "    cell_id=train_adata.obs.iloc[test_idxs].index.values,\n",
    "    y_true=y_test, \n",
    "    y_true_code=y_test_enc, \n",
    "    y_pred=xgb.predict(X_test))).set_index('cell_id')"
   ]
  },
  {
   "cell_type": "code",
   "execution_count": 24,
   "id": "6382b27b",
   "metadata": {
    "execution": {
     "iopub.execute_input": "2025-05-15T16:22:24.203044Z",
     "iopub.status.busy": "2025-05-15T16:22:24.202570Z",
     "iopub.status.idle": "2025-05-15T16:22:24.333300Z",
     "shell.execute_reply": "2025-05-15T16:22:24.332851Z"
    },
    "papermill": {
     "duration": 0.1409,
     "end_time": "2025-05-15T16:22:24.334162",
     "exception": false,
     "start_time": "2025-05-15T16:22:24.193262",
     "status": "completed"
    },
    "tags": []
   },
   "outputs": [],
   "source": [
    "out_dir = here(f'03_downstream_analysis/08_gene_importance/xgboost_external_validation/xgboost_TopN_genes/results_{N_GENES}/predictions')\n",
    "\n",
    "if not os.path.exists(out_dir):\n",
    "    os.makedirs(out_dir)\n",
    "    \n",
    "df_pred_test.to_csv(os.path.join(out_dir, f'{CELL_TYPE}_{SEED}_{TEST_SPLIT_IDX}_pred_test.zip'))"
   ]
  },
  {
   "cell_type": "code",
   "execution_count": 25,
   "id": "a3996fe7",
   "metadata": {
    "execution": {
     "iopub.execute_input": "2025-05-15T16:22:24.368121Z",
     "iopub.status.busy": "2025-05-15T16:22:24.367964Z",
     "iopub.status.idle": "2025-05-15T16:22:24.383237Z",
     "shell.execute_reply": "2025-05-15T16:22:24.382910Z"
    },
    "papermill": {
     "duration": 0.04152,
     "end_time": "2025-05-15T16:22:24.383994",
     "exception": false,
     "start_time": "2025-05-15T16:22:24.342474",
     "status": "completed"
    },
    "tags": []
   },
   "outputs": [
    {
     "name": "stderr",
     "output_type": "stream",
     "text": [
      "/scratch_isilon/groups/singlecell/shared/conda_env/xgboost-cpu/lib/python3.12/site-packages/sklearn/metrics/_classification.py:2466: UserWarning: y_pred contains classes not in y_true\n",
      "  warnings.warn(\"y_pred contains classes not in y_true\")\n"
     ]
    }
   ],
   "source": [
    "metrics_dict = dict(\n",
    "    BAS=balanced_accuracy_score(y_true=df_pred_test.y_true_code, y_pred=df_pred_test.y_pred), WF1=f1_score(y_true=df_pred_test.y_true_code, y_pred=df_pred_test.y_pred,average='weighted'))"
   ]
  },
  {
   "cell_type": "code",
   "execution_count": 26,
   "id": "728bdf34",
   "metadata": {
    "execution": {
     "iopub.execute_input": "2025-05-15T16:22:24.405121Z",
     "iopub.status.busy": "2025-05-15T16:22:24.404861Z",
     "iopub.status.idle": "2025-05-15T16:22:24.407805Z",
     "shell.execute_reply": "2025-05-15T16:22:24.407519Z"
    },
    "papermill": {
     "duration": 0.012799,
     "end_time": "2025-05-15T16:22:24.408687",
     "exception": false,
     "start_time": "2025-05-15T16:22:24.395888",
     "status": "completed"
    },
    "tags": []
   },
   "outputs": [
    {
     "data": {
      "text/plain": [
       "{'BAS': 0.5226322849877068, 'WF1': 0.7745001101210137}"
      ]
     },
     "execution_count": 26,
     "metadata": {},
     "output_type": "execute_result"
    }
   ],
   "source": [
    "metrics_dict"
   ]
  },
  {
   "cell_type": "code",
   "execution_count": 27,
   "id": "cf5e475c",
   "metadata": {
    "execution": {
     "iopub.execute_input": "2025-05-15T16:22:24.426431Z",
     "iopub.status.busy": "2025-05-15T16:22:24.426038Z",
     "iopub.status.idle": "2025-05-15T16:22:24.434403Z",
     "shell.execute_reply": "2025-05-15T16:22:24.434088Z"
    },
    "papermill": {
     "duration": 0.018177,
     "end_time": "2025-05-15T16:22:24.435206",
     "exception": false,
     "start_time": "2025-05-15T16:22:24.417029",
     "status": "completed"
    },
    "tags": []
   },
   "outputs": [
    {
     "data": {
      "text/html": [
       "<div>\n",
       "<style scoped>\n",
       "    .dataframe tbody tr th:only-of-type {\n",
       "        vertical-align: middle;\n",
       "    }\n",
       "\n",
       "    .dataframe tbody tr th {\n",
       "        vertical-align: top;\n",
       "    }\n",
       "\n",
       "    .dataframe thead th {\n",
       "        text-align: right;\n",
       "    }\n",
       "</style>\n",
       "<table border=\"1\" class=\"dataframe\">\n",
       "  <thead>\n",
       "    <tr style=\"text-align: right;\">\n",
       "      <th></th>\n",
       "      <th>BAS</th>\n",
       "      <th>WF1</th>\n",
       "      <th>split_idx</th>\n",
       "      <th>gene_set_seed</th>\n",
       "      <th>cell_type</th>\n",
       "    </tr>\n",
       "  </thead>\n",
       "  <tbody>\n",
       "    <tr>\n",
       "      <th>0</th>\n",
       "      <td>0.522632</td>\n",
       "      <td>0.7745</td>\n",
       "      <td>1</td>\n",
       "      <td>19</td>\n",
       "      <td>T_CD4_NonNaive</td>\n",
       "    </tr>\n",
       "  </tbody>\n",
       "</table>\n",
       "</div>"
      ],
      "text/plain": [
       "        BAS     WF1  split_idx  gene_set_seed       cell_type\n",
       "0  0.522632  0.7745          1             19  T_CD4_NonNaive"
      ]
     },
     "execution_count": 27,
     "metadata": {},
     "output_type": "execute_result"
    }
   ],
   "source": [
    "metrics_df = pd.DataFrame.from_dict([metrics_dict]).assign(split_idx=TEST_SPLIT_IDX, gene_set_seed=SEED, cell_type=CELL_TYPE)\n",
    "metrics_df"
   ]
  },
  {
   "cell_type": "code",
   "execution_count": 28,
   "id": "990adbcf",
   "metadata": {
    "execution": {
     "iopub.execute_input": "2025-05-15T16:22:24.452914Z",
     "iopub.status.busy": "2025-05-15T16:22:24.452624Z",
     "iopub.status.idle": "2025-05-15T16:22:24.460358Z",
     "shell.execute_reply": "2025-05-15T16:22:24.460066Z"
    },
    "papermill": {
     "duration": 0.017379,
     "end_time": "2025-05-15T16:22:24.461211",
     "exception": false,
     "start_time": "2025-05-15T16:22:24.443832",
     "status": "completed"
    },
    "tags": []
   },
   "outputs": [],
   "source": [
    "out_dir = here(f'03_downstream_analysis/08_gene_importance/xgboost_external_validation/xgboost_TopN_genes/results_{N_GENES}/metrics')\n",
    "\n",
    "if not os.path.exists(out_dir):\n",
    "    os.makedirs(out_dir)\n",
    "    \n",
    "metrics_df.to_csv(os.path.join(out_dir, f'{CELL_TYPE}_{SEED}_{TEST_SPLIT_IDX}_metrics.zip'))"
   ]
  }
 ],
 "metadata": {
  "kernelspec": {
   "display_name": "Python 3 (ipykernel)",
   "language": "python",
   "name": "python3"
  },
  "language_info": {
   "codemirror_mode": {
    "name": "ipython",
    "version": 3
   },
   "file_extension": ".py",
   "mimetype": "text/x-python",
   "name": "python",
   "nbconvert_exporter": "python",
   "pygments_lexer": "ipython3",
   "version": "3.12.5"
  },
  "papermill": {
   "default_parameters": {},
   "duration": 1131.12929,
   "end_time": "2025-05-15T16:22:24.985466",
   "environment_variables": {},
   "exception": null,
   "input_path": "02_xgboost_fitting_external_20genes.ipynb",
   "output_path": "results_20/executed_notebooks/xgboost_fitting_external_CT_T_CD4_NonNaive_GS_19_seed1.ipynb",
   "parameters": {
    "CELL_TYPE": "T_CD4_NonNaive",
    "SEED": 19,
    "TEST_SPLIT_IDX": 1
   },
   "start_time": "2025-05-15T16:03:33.856176",
   "version": "2.6.0"
  }
 },
 "nbformat": 4,
 "nbformat_minor": 5
}