{
 "cells": [
  {
   "cell_type": "code",
   "execution_count": 1,
   "id": "a51136eb",
   "metadata": {
    "editable": true,
    "execution": {
     "iopub.execute_input": "2025-05-15T15:59:43.269264Z",
     "iopub.status.busy": "2025-05-15T15:59:43.269006Z",
     "iopub.status.idle": "2025-05-15T15:59:43.271578Z",
     "shell.execute_reply": "2025-05-15T15:59:43.271274Z"
    },
    "papermill": {
     "duration": 0.022556,
     "end_time": "2025-05-15T15:59:43.272460",
     "exception": false,
     "start_time": "2025-05-15T15:59:43.249904",
     "status": "completed"
    },
    "slideshow": {
     "slide_type": ""
    },
    "tags": [
     "parameters"
    ]
   },
   "outputs": [],
   "source": [
    "CELL_TYPE = 'pDC'\n",
    "N_GENES: int = 20\n",
    "SEED = 'shap_studyID' #'disease_NOstudy' 'study_NOdisease' or 'int' or 'shap_studyID'\n",
    "TEST_SPLIT_IDX: int = 1 #[0,4]"
   ]
  },
  {
   "cell_type": "code",
   "execution_count": 2,
   "id": "175c5904",
   "metadata": {
    "execution": {
     "iopub.execute_input": "2025-05-15T15:59:43.297968Z",
     "iopub.status.busy": "2025-05-15T15:59:43.297803Z",
     "iopub.status.idle": "2025-05-15T15:59:43.299776Z",
     "shell.execute_reply": "2025-05-15T15:59:43.299490Z"
    },
    "papermill": {
     "duration": 0.008448,
     "end_time": "2025-05-15T15:59:43.300542",
     "exception": false,
     "start_time": "2025-05-15T15:59:43.292094",
     "status": "completed"
    },
    "tags": [
     "injected-parameters"
    ]
   },
   "outputs": [],
   "source": [
    "# Parameters\n",
    "CELL_TYPE = \"Mono\"\n",
    "SEED = 11\n",
    "TEST_SPLIT_IDX = 1\n"
   ]
  },
  {
   "cell_type": "code",
   "execution_count": 3,
   "id": "327abc3b",
   "metadata": {
    "execution": {
     "iopub.execute_input": "2025-05-15T15:59:43.338812Z",
     "iopub.status.busy": "2025-05-15T15:59:43.338521Z",
     "iopub.status.idle": "2025-05-15T15:59:43.340496Z",
     "shell.execute_reply": "2025-05-15T15:59:43.340210Z"
    },
    "papermill": {
     "duration": 0.035409,
     "end_time": "2025-05-15T15:59:43.341317",
     "exception": false,
     "start_time": "2025-05-15T15:59:43.305908",
     "status": "completed"
    },
    "tags": []
   },
   "outputs": [],
   "source": [
    "N_SPLITS: int = 5\n",
    "N_TRIALS: int = 50"
   ]
  },
  {
   "cell_type": "code",
   "execution_count": 4,
   "id": "2030731b",
   "metadata": {
    "execution": {
     "iopub.execute_input": "2025-05-15T15:59:43.353486Z",
     "iopub.status.busy": "2025-05-15T15:59:43.353259Z",
     "iopub.status.idle": "2025-05-15T15:59:47.185150Z",
     "shell.execute_reply": "2025-05-15T15:59:47.184721Z"
    },
    "papermill": {
     "duration": 3.839642,
     "end_time": "2025-05-15T15:59:47.186355",
     "exception": false,
     "start_time": "2025-05-15T15:59:43.346713",
     "status": "completed"
    },
    "tags": []
   },
   "outputs": [],
   "source": [
    "import os\n",
    "import sys\n",
    "from pyprojroot.here import here\n",
    "import pandas as pd\n",
    "import anndata as ad\n",
    "import numpy as np\n",
    "import math\n",
    "from sklearn.model_selection import StratifiedGroupKFold\n",
    "from sklearn.preprocessing import LabelEncoder\n",
    "from sklearn.metrics import f1_score\n",
    "import matplotlib.pyplot as plt\n",
    "import seaborn as sns\n",
    "from itertools import product\n",
    "from sklearn.metrics import balanced_accuracy_score, f1_score\n",
    "import optuna\n",
    "\n",
    "import joblib\n",
    "import pickle\n",
    "import datetime\n",
    "\n",
    "import collections\n",
    "\n",
    "import xgboost\n",
    "from sklearn.preprocessing import LabelEncoder\n",
    "\n",
    "import scipy.sparse as ssp\n",
    "import joblib\n",
    "\n",
    "from dotenv import load_dotenv"
   ]
  },
  {
   "cell_type": "code",
   "execution_count": 5,
   "id": "8869f95e",
   "metadata": {
    "execution": {
     "iopub.execute_input": "2025-05-15T15:59:47.220881Z",
     "iopub.status.busy": "2025-05-15T15:59:47.220545Z",
     "iopub.status.idle": "2025-05-15T15:59:47.226337Z",
     "shell.execute_reply": "2025-05-15T15:59:47.226035Z"
    },
    "papermill": {
     "duration": 0.0269,
     "end_time": "2025-05-15T15:59:47.227139",
     "exception": false,
     "start_time": "2025-05-15T15:59:47.200239",
     "status": "completed"
    },
    "tags": []
   },
   "outputs": [
    {
     "data": {
      "text/plain": [
       "True"
      ]
     },
     "execution_count": 5,
     "metadata": {},
     "output_type": "execute_result"
    }
   ],
   "source": [
    "load_dotenv()"
   ]
  },
  {
   "cell_type": "markdown",
   "id": "25fecfac",
   "metadata": {
    "papermill": {
     "duration": 0.005653,
     "end_time": "2025-05-15T15:59:47.238257",
     "exception": false,
     "start_time": "2025-05-15T15:59:47.232604",
     "status": "completed"
    },
    "tags": []
   },
   "source": [
    "# LOAD DATASET"
   ]
  },
  {
   "cell_type": "code",
   "execution_count": 6,
   "id": "abe77761",
   "metadata": {
    "execution": {
     "iopub.execute_input": "2025-05-15T15:59:47.251634Z",
     "iopub.status.busy": "2025-05-15T15:59:47.251398Z",
     "iopub.status.idle": "2025-05-15T15:59:48.407454Z",
     "shell.execute_reply": "2025-05-15T15:59:48.406973Z"
    },
    "papermill": {
     "duration": 1.163623,
     "end_time": "2025-05-15T15:59:48.408633",
     "exception": false,
     "start_time": "2025-05-15T15:59:47.245010",
     "status": "completed"
    },
    "tags": []
   },
   "outputs": [],
   "source": [
    "train_adata = ad.read_h5ad(\n",
    "    here(f'03_downstream_analysis/08_gene_importance/xgboost_external_validation/xgboost_TopN_genes/data_cellTypes/EXTERNAL_{CELL_TYPE}.filtered.log1p.h5ad')\n",
    ")"
   ]
  },
  {
   "cell_type": "code",
   "execution_count": 7,
   "id": "3af799b6",
   "metadata": {
    "execution": {
     "iopub.execute_input": "2025-05-15T15:59:48.420535Z",
     "iopub.status.busy": "2025-05-15T15:59:48.420264Z",
     "iopub.status.idle": "2025-05-15T15:59:48.453583Z",
     "shell.execute_reply": "2025-05-15T15:59:48.453211Z"
    },
    "papermill": {
     "duration": 0.040052,
     "end_time": "2025-05-15T15:59:48.454456",
     "exception": false,
     "start_time": "2025-05-15T15:59:48.414404",
     "status": "completed"
    },
    "tags": []
   },
   "outputs": [
    {
     "name": "stdout",
     "output_type": "stream",
     "text": [
      "['ENSG00000142166' 'ENSG00000166825' 'ENSG00000090382' 'ENSG00000148834'\n",
      " 'ENSG00000239713' 'ENSG00000166888' 'ENSG00000135441' 'ENSG00000276070'\n",
      " 'ENSG00000069399' 'ENSG00000100321' 'ENSG00000120594' 'ENSG00000147168'\n",
      " 'ENSG00000161642' 'ENSG00000127314' 'ENSG00000141574' 'ENSG00000150337'\n",
      " 'ENSG00000165092' 'ENSG00000071073' 'ENSG00000134321' 'ENSG00000104974'\n",
      " 'ENSG00000185201' 'ENSG00000015475' 'ENSG00000164136' 'ENSG00000125538'\n",
      " 'ENSG00000026297' 'ENSG00000204103' 'ENSG00000136826' 'ENSG00000179921'\n",
      " 'ENSG00000101350' 'ENSG00000131196' 'ENSG00000136689' 'ENSG00000166710'\n",
      " 'ENSG00000117984' 'ENSG00000242574' 'ENSG00000110203' 'ENSG00000187164'\n",
      " 'ENSG00000157020' 'ENSG00000152778' 'ENSG00000188313' 'ENSG00000179583'\n",
      " 'ENSG00000090863' 'ENSG00000078043' 'ENSG00000197747' 'ENSG00000231389'\n",
      " 'ENSG00000168329' 'ENSG00000102265' 'ENSG00000170296' 'ENSG00000168394'\n",
      " 'ENSG00000140749' 'ENSG00000072958' 'ENSG00000127540' 'ENSG00000231925'\n",
      " 'ENSG00000011422' 'ENSG00000196083' 'ENSG00000187116' 'ENSG00000204287'\n",
      " 'ENSG00000188404' 'ENSG00000115232' 'ENSG00000143933' 'ENSG00000176986'\n",
      " 'ENSG00000167552' 'ENSG00000163660' 'ENSG00000197632' 'ENSG00000204472'\n",
      " 'ENSG00000113441' 'ENSG00000182578' 'ENSG00000128340' 'ENSG00000106803'\n",
      " 'ENSG00000184752' 'ENSG00000173812' 'ENSG00000179218' 'ENSG00000115875'\n",
      " 'ENSG00000160075' 'ENSG00000118640' 'ENSG00000135218' 'ENSG00000119535'\n",
      " 'ENSG00000229474' 'ENSG00000002586' 'ENSG00000131724' 'ENSG00000167863'\n",
      " 'ENSG00000085514' 'ENSG00000204843' 'ENSG00000018280' 'ENSG00000175203'\n",
      " 'ENSG00000158517' 'ENSG00000138061' 'ENSG00000109743' 'ENSG00000178695'\n",
      " 'ENSG00000057657' 'ENSG00000197111' 'ENSG00000026103' 'ENSG00000106367'\n",
      " 'ENSG00000167705' 'ENSG00000060982' 'ENSG00000137100' 'ENSG00000185215'\n",
      " 'ENSG00000104998' 'ENSG00000118508' 'ENSG00000204257' 'ENSG00000009790'\n",
      " 'ENSG00000134352' 'ENSG00000104856' 'ENSG00000196126' 'ENSG00000089127'\n",
      " 'ENSG00000120742' 'ENSG00000277791' 'ENSG00000160255' 'ENSG00000197102'\n",
      " 'ENSG00000177663' 'ENSG00000121316' 'ENSG00000090554' 'ENSG00000127528'\n",
      " 'ENSG00000133872' 'ENSG00000139289']\n"
     ]
    }
   ],
   "source": [
    "if SEED != 'all':\n",
    "    gene_subset = np.load(here(f'03_downstream_analysis/08_gene_importance/xgboost_external_validation/shap_gene_selection/gene_subsets_{N_GENES}/{CELL_TYPE}_{SEED}.npy'), allow_pickle=True)\n",
    "    train_adata = train_adata[:,gene_subset]\n",
    "    print(gene_subset)\n",
    "elif SEED == 'all':\n",
    "    print('Using all genes')\n",
    "else:\n",
    "    raise ValueError()"
   ]
  },
  {
   "cell_type": "code",
   "execution_count": 8,
   "id": "edfa13dd",
   "metadata": {
    "execution": {
     "iopub.execute_input": "2025-05-15T15:59:48.466435Z",
     "iopub.status.busy": "2025-05-15T15:59:48.466248Z",
     "iopub.status.idle": "2025-05-15T15:59:48.469327Z",
     "shell.execute_reply": "2025-05-15T15:59:48.469031Z"
    },
    "papermill": {
     "duration": 0.009897,
     "end_time": "2025-05-15T15:59:48.470123",
     "exception": false,
     "start_time": "2025-05-15T15:59:48.460226",
     "status": "completed"
    },
    "tags": []
   },
   "outputs": [
    {
     "data": {
      "text/plain": [
       "(137435, 114)"
      ]
     },
     "execution_count": 8,
     "metadata": {},
     "output_type": "execute_result"
    }
   ],
   "source": [
    "train_adata.shape"
   ]
  },
  {
   "cell_type": "code",
   "execution_count": 9,
   "id": "ac95a683",
   "metadata": {
    "execution": {
     "iopub.execute_input": "2025-05-15T15:59:48.482208Z",
     "iopub.status.busy": "2025-05-15T15:59:48.481938Z",
     "iopub.status.idle": "2025-05-15T15:59:48.485845Z",
     "shell.execute_reply": "2025-05-15T15:59:48.485549Z"
    },
    "papermill": {
     "duration": 0.010744,
     "end_time": "2025-05-15T15:59:48.486667",
     "exception": false,
     "start_time": "2025-05-15T15:59:48.475923",
     "status": "completed"
    },
    "tags": []
   },
   "outputs": [
    {
     "data": {
      "text/plain": [
       "['RA', 'healthy', 'COVID', 'HIV', 'cirrhosis', 'CD', 'SLE', 'sepsis']\n",
       "Categories (8, object): ['CD', 'COVID', 'HIV', 'RA', 'SLE', 'cirrhosis', 'healthy', 'sepsis']"
      ]
     },
     "execution_count": 9,
     "metadata": {},
     "output_type": "execute_result"
    }
   ],
   "source": [
    "train_adata.obs.disease.unique()"
   ]
  },
  {
   "cell_type": "code",
   "execution_count": 10,
   "id": "00b04ccb",
   "metadata": {
    "execution": {
     "iopub.execute_input": "2025-05-15T15:59:48.518844Z",
     "iopub.status.busy": "2025-05-15T15:59:48.518589Z",
     "iopub.status.idle": "2025-05-15T15:59:48.522427Z",
     "shell.execute_reply": "2025-05-15T15:59:48.522135Z"
    },
    "papermill": {
     "duration": 0.029234,
     "end_time": "2025-05-15T15:59:48.523235",
     "exception": false,
     "start_time": "2025-05-15T15:59:48.494001",
     "status": "completed"
    },
    "tags": []
   },
   "outputs": [
    {
     "data": {
      "text/plain": [
       "['SCGT00val_I0364_T0', 'SCGT00val_I036028_T0', 'SCGT00val_I036024_T0', 'SCGT00val_I036023_T0', 'SCGT00val_I036019_T0', ..., '10XGenomics_10XHC2_T0', '10XGenomics_10XHC3_T0', '10XGenomics_10XHC5_T0', '10XGenomics_10XHC7_T0', '10XGenomics_10XHC8_T0']\n",
       "Length: 86\n",
       "Categories (86, object): ['10XGenomics_10XHC1_T0', '10XGenomics_10XHC2_T0', '10XGenomics_10XHC3_T0', '10XGenomics_10XHC4_T0', ..., 'Savage2021_BRISL6_T0', 'Savage2021_BRISL7_T0', 'Savage2021_PIDA_T0', 'Savage2021_PIDB_T0']"
      ]
     },
     "execution_count": 10,
     "metadata": {},
     "output_type": "execute_result"
    }
   ],
   "source": [
    "train_adata.obs.sampleID.unique()"
   ]
  },
  {
   "cell_type": "code",
   "execution_count": 11,
   "id": "5405b985",
   "metadata": {
    "execution": {
     "iopub.execute_input": "2025-05-15T15:59:48.535930Z",
     "iopub.status.busy": "2025-05-15T15:59:48.535634Z",
     "iopub.status.idle": "2025-05-15T15:59:48.854424Z",
     "shell.execute_reply": "2025-05-15T15:59:48.853922Z"
    },
    "papermill": {
     "duration": 0.326266,
     "end_time": "2025-05-15T15:59:48.855515",
     "exception": false,
     "start_time": "2025-05-15T15:59:48.529249",
     "status": "completed"
    },
    "tags": []
   },
   "outputs": [],
   "source": [
    "all_idxs = np.arange(train_adata.obs.shape[0])\n",
    "left_out_splits = [s[1] for s in StratifiedGroupKFold(n_splits=N_SPLITS).split(all_idxs, train_adata.obs.disease, train_adata.obs.sampleID)]"
   ]
  },
  {
   "cell_type": "code",
   "execution_count": 12,
   "id": "aaaf89b9",
   "metadata": {
    "execution": {
     "iopub.execute_input": "2025-05-15T15:59:48.868225Z",
     "iopub.status.busy": "2025-05-15T15:59:48.867886Z",
     "iopub.status.idle": "2025-05-15T15:59:48.871165Z",
     "shell.execute_reply": "2025-05-15T15:59:48.870858Z"
    },
    "papermill": {
     "duration": 0.010573,
     "end_time": "2025-05-15T15:59:48.871960",
     "exception": false,
     "start_time": "2025-05-15T15:59:48.861387",
     "status": "completed"
    },
    "tags": []
   },
   "outputs": [
    {
     "data": {
      "text/plain": [
       "([0, 3, 4], 2, 1)"
      ]
     },
     "execution_count": 12,
     "metadata": {},
     "output_type": "execute_result"
    }
   ],
   "source": [
    "TRAIN_SPLIT_IDXS = [0,1,2,3,4]\n",
    "VAL_SPLIT_IDX = (TEST_SPLIT_IDX + 1) % 5\n",
    "TRAIN_SPLIT_IDXS.remove(TEST_SPLIT_IDX)\n",
    "TRAIN_SPLIT_IDXS.remove(VAL_SPLIT_IDX)\n",
    "TRAIN_SPLIT_IDXS, VAL_SPLIT_IDX, TEST_SPLIT_IDX"
   ]
  },
  {
   "cell_type": "code",
   "execution_count": 13,
   "id": "608ecee7",
   "metadata": {
    "execution": {
     "iopub.execute_input": "2025-05-15T15:59:48.883930Z",
     "iopub.status.busy": "2025-05-15T15:59:48.883724Z",
     "iopub.status.idle": "2025-05-15T15:59:48.885983Z",
     "shell.execute_reply": "2025-05-15T15:59:48.885693Z"
    },
    "papermill": {
     "duration": 0.009249,
     "end_time": "2025-05-15T15:59:48.886781",
     "exception": false,
     "start_time": "2025-05-15T15:59:48.877532",
     "status": "completed"
    },
    "tags": []
   },
   "outputs": [],
   "source": [
    "train_idxs = np.concatenate([left_out_splits[idx] for idx in TRAIN_SPLIT_IDXS])\n",
    "val_idxs = left_out_splits[VAL_SPLIT_IDX]\n",
    "test_idxs = left_out_splits[TEST_SPLIT_IDX]"
   ]
  },
  {
   "cell_type": "markdown",
   "id": "d14236f3",
   "metadata": {
    "papermill": {
     "duration": 0.005977,
     "end_time": "2025-05-15T15:59:48.898194",
     "exception": false,
     "start_time": "2025-05-15T15:59:48.892217",
     "status": "completed"
    },
    "tags": []
   },
   "source": [
    "### SUBSET DATASET INTO TRAIN/TEST/VAL SPLITS"
   ]
  },
  {
   "cell_type": "code",
   "execution_count": 14,
   "id": "d0880ace",
   "metadata": {
    "execution": {
     "iopub.execute_input": "2025-05-15T15:59:48.910588Z",
     "iopub.status.busy": "2025-05-15T15:59:48.910125Z",
     "iopub.status.idle": "2025-05-15T15:59:49.350031Z",
     "shell.execute_reply": "2025-05-15T15:59:49.349679Z"
    },
    "papermill": {
     "duration": 0.446831,
     "end_time": "2025-05-15T15:59:49.350914",
     "exception": false,
     "start_time": "2025-05-15T15:59:48.904083",
     "status": "completed"
    },
    "tags": []
   },
   "outputs": [
    {
     "data": {
      "text/plain": [
       "((83097, 114), (27487, 114), (26851, 114))"
      ]
     },
     "execution_count": 14,
     "metadata": {},
     "output_type": "execute_result"
    }
   ],
   "source": [
    "X_train = train_adata.X[train_idxs]\n",
    "X_test = train_adata.X[test_idxs]\n",
    "X_val = train_adata.X[val_idxs]\n",
    "X_train.shape, X_test.shape, X_val.shape"
   ]
  },
  {
   "cell_type": "code",
   "execution_count": 15,
   "id": "7cb7ae39",
   "metadata": {
    "execution": {
     "iopub.execute_input": "2025-05-15T15:59:49.379788Z",
     "iopub.status.busy": "2025-05-15T15:59:49.379465Z",
     "iopub.status.idle": "2025-05-15T15:59:49.392214Z",
     "shell.execute_reply": "2025-05-15T15:59:49.391866Z"
    },
    "papermill": {
     "duration": 0.02038,
     "end_time": "2025-05-15T15:59:49.393092",
     "exception": false,
     "start_time": "2025-05-15T15:59:49.372712",
     "status": "completed"
    },
    "tags": []
   },
   "outputs": [
    {
     "data": {
      "text/plain": [
       "((83097,), (27487,), (26851,))"
      ]
     },
     "execution_count": 15,
     "metadata": {},
     "output_type": "execute_result"
    }
   ],
   "source": [
    "y_train = train_adata.obs.iloc[train_idxs].disease.values.astype(str)\n",
    "y_test = train_adata.obs.iloc[test_idxs].disease.values.astype(str)\n",
    "y_val = train_adata.obs.iloc[val_idxs].disease.values.astype(str)\n",
    "y_train.shape, y_test.shape, y_val.shape"
   ]
  },
  {
   "cell_type": "code",
   "execution_count": 16,
   "id": "69c5eab7",
   "metadata": {
    "execution": {
     "iopub.execute_input": "2025-05-15T15:59:49.405905Z",
     "iopub.status.busy": "2025-05-15T15:59:49.405701Z",
     "iopub.status.idle": "2025-05-15T15:59:49.434083Z",
     "shell.execute_reply": "2025-05-15T15:59:49.433623Z"
    },
    "papermill": {
     "duration": 0.03594,
     "end_time": "2025-05-15T15:59:49.435067",
     "exception": false,
     "start_time": "2025-05-15T15:59:49.399127",
     "status": "completed"
    },
    "tags": []
   },
   "outputs": [],
   "source": [
    "lenc = LabelEncoder()\n",
    "y_train_enc = lenc.fit_transform(y_train)\n",
    "y_val_enc = lenc.transform(y_val)\n",
    "y_test_enc = lenc.transform(y_test)"
   ]
  },
  {
   "cell_type": "markdown",
   "id": "b2166b25",
   "metadata": {
    "papermill": {
     "duration": 0.005741,
     "end_time": "2025-05-15T15:59:49.447155",
     "exception": false,
     "start_time": "2025-05-15T15:59:49.441414",
     "status": "completed"
    },
    "tags": []
   },
   "source": [
    "### GENERATE F1 "
   ]
  },
  {
   "cell_type": "code",
   "execution_count": 17,
   "id": "6d0ab045",
   "metadata": {
    "execution": {
     "iopub.execute_input": "2025-05-15T15:59:49.459843Z",
     "iopub.status.busy": "2025-05-15T15:59:49.459353Z",
     "iopub.status.idle": "2025-05-15T15:59:49.461810Z",
     "shell.execute_reply": "2025-05-15T15:59:49.461511Z"
    },
    "papermill": {
     "duration": 0.009791,
     "end_time": "2025-05-15T15:59:49.462608",
     "exception": false,
     "start_time": "2025-05-15T15:59:49.452817",
     "status": "completed"
    },
    "tags": []
   },
   "outputs": [],
   "source": [
    "def custom_f1_score(y_true, y_pred):\n",
    "    return -f1_score(y_true, y_pred.argmax(1), average='weighted')"
   ]
  },
  {
   "cell_type": "code",
   "execution_count": 18,
   "id": "32ed74ba",
   "metadata": {
    "execution": {
     "iopub.execute_input": "2025-05-15T15:59:49.474622Z",
     "iopub.status.busy": "2025-05-15T15:59:49.474453Z",
     "iopub.status.idle": "2025-05-15T15:59:49.478089Z",
     "shell.execute_reply": "2025-05-15T15:59:49.477762Z"
    },
    "papermill": {
     "duration": 0.010554,
     "end_time": "2025-05-15T15:59:49.478882",
     "exception": false,
     "start_time": "2025-05-15T15:59:49.468328",
     "status": "completed"
    },
    "tags": []
   },
   "outputs": [],
   "source": [
    "eval_metric=custom_f1_score\n",
    "eval_metric_name='custom_f1_score'\n",
    "\n",
    "def objective(trial):\n",
    "    params = {\n",
    "        'n_estimators': 1500,\n",
    "        'max_depth': trial.suggest_int('max_depth', 3, 20),\n",
    "        'min_child_weight': trial.suggest_int('min_child_weight', 1, 250),\n",
    "        'subsample': trial.suggest_float('subsample', 0.1, 1.0),\n",
    "        'colsample_bynode': trial.suggest_float('colsample_bynode', 0.1, 1.0),\n",
    "        'learning_rate': trial.suggest_float('learning_rate', 1e-3, 5e-1, log=True),\n",
    "    }\n",
    "    pruning_callback = optuna.integration.XGBoostPruningCallback(trial, f'validation_0-{eval_metric_name}')\n",
    "    es_callback = xgboost.callback.EarlyStopping(20, min_delta=0.001)\n",
    "    xgb = xgboost.XGBClassifier(\n",
    "        eval_metric=eval_metric,\n",
    "        callbacks=[pruning_callback, es_callback],\n",
    "        n_jobs=5,\n",
    "        **params\n",
    "    )\n",
    "    xgb.fit(\n",
    "        X_train, \n",
    "        y_train_enc, \n",
    "        verbose=0,\n",
    "        eval_set=[(X_val, y_val_enc)],\n",
    "    )\n",
    "    trial.set_user_attr('best_iteration', xgb.best_iteration)\n",
    "\n",
    "    return xgb.best_score"
   ]
  },
  {
   "cell_type": "code",
   "execution_count": 19,
   "id": "b9bed5a0",
   "metadata": {
    "execution": {
     "iopub.execute_input": "2025-05-15T15:59:49.491818Z",
     "iopub.status.busy": "2025-05-15T15:59:49.491442Z",
     "iopub.status.idle": "2025-05-15T16:20:57.660574Z",
     "shell.execute_reply": "2025-05-15T16:20:57.660156Z"
    },
    "papermill": {
     "duration": 1268.176602,
     "end_time": "2025-05-15T16:20:57.661565",
     "exception": false,
     "start_time": "2025-05-15T15:59:49.484963",
     "status": "completed"
    },
    "scrolled": true,
    "tags": []
   },
   "outputs": [
    {
     "name": "stderr",
     "output_type": "stream",
     "text": [
      "[I 2025-05-15 17:59:49,493] A new study created in memory with name: no-name-b0f3b574-c8ce-4b74-94e9-5137f200f707\n"
     ]
    },
    {
     "name": "stderr",
     "output_type": "stream",
     "text": [
      "[I 2025-05-15 18:00:54,958] Trial 0 finished with value: -0.65405 and parameters: {'max_depth': 9, 'min_child_weight': 238, 'subsample': 0.7587945476302645, 'colsample_bynode': 0.6387926357773329, 'learning_rate': 0.0026368755339723046}. Best is trial 0 with value: -0.65405.\n"
     ]
    },
    {
     "name": "stderr",
     "output_type": "stream",
     "text": [
      "[I 2025-05-15 18:02:18,323] Trial 1 finished with value: -0.818424 and parameters: {'max_depth': 5, 'min_child_weight': 15, 'subsample': 0.8795585311974417, 'colsample_bynode': 0.6410035105688879, 'learning_rate': 0.08148293210105287}. Best is trial 1 with value: -0.818424.\n"
     ]
    },
    {
     "name": "stderr",
     "output_type": "stream",
     "text": [
      "[I 2025-05-15 18:02:30,375] Trial 2 finished with value: -0.648191 and parameters: {'max_depth': 3, 'min_child_weight': 243, 'subsample': 0.8491983767203796, 'colsample_bynode': 0.29110519961044856, 'learning_rate': 0.003095566460242371}. Best is trial 1 with value: -0.818424.\n"
     ]
    },
    {
     "name": "stderr",
     "output_type": "stream",
     "text": [
      "[I 2025-05-15 18:02:38,706] Trial 3 finished with value: -0.655932 and parameters: {'max_depth': 6, 'min_child_weight': 77, 'subsample': 0.5722807884690141, 'colsample_bynode': 0.48875051677790415, 'learning_rate': 0.006109683510122491}. Best is trial 1 with value: -0.818424.\n"
     ]
    },
    {
     "name": "stderr",
     "output_type": "stream",
     "text": [
      "[I 2025-05-15 18:06:00,387] Trial 4 finished with value: -0.799609 and parameters: {'max_depth': 14, 'min_child_weight': 35, 'subsample': 0.3629301836816964, 'colsample_bynode': 0.4297256589643226, 'learning_rate': 0.01701841881702917}. Best is trial 1 with value: -0.818424.\n"
     ]
    },
    {
     "name": "stderr",
     "output_type": "stream",
     "text": [
      "[I 2025-05-15 18:06:17,800] Trial 5 pruned. Trial was pruned at iteration 46.\n"
     ]
    },
    {
     "name": "stderr",
     "output_type": "stream",
     "text": [
      "[I 2025-05-15 18:06:18,562] Trial 6 pruned. Trial was pruned at iteration 0.\n"
     ]
    },
    {
     "name": "stderr",
     "output_type": "stream",
     "text": [
      "[I 2025-05-15 18:06:19,249] Trial 7 pruned. Trial was pruned at iteration 0.\n"
     ]
    },
    {
     "name": "stderr",
     "output_type": "stream",
     "text": [
      "[I 2025-05-15 18:06:19,927] Trial 8 pruned. Trial was pruned at iteration 0.\n"
     ]
    },
    {
     "name": "stderr",
     "output_type": "stream",
     "text": [
      "[I 2025-05-15 18:06:28,641] Trial 9 finished with value: -0.662274 and parameters: {'max_depth': 14, 'min_child_weight': 78, 'subsample': 0.5680612190600297, 'colsample_bynode': 0.5920392514089517, 'learning_rate': 0.0031543990308330965}. Best is trial 1 with value: -0.818424.\n"
     ]
    },
    {
     "name": "stderr",
     "output_type": "stream",
     "text": [
      "[I 2025-05-15 18:07:33,298] Trial 10 finished with value: -0.814025 and parameters: {'max_depth': 9, 'min_child_weight': 2, 'subsample': 0.9725833997090791, 'colsample_bynode': 0.11616568805333755, 'learning_rate': 0.17780618353487967}. Best is trial 1 with value: -0.818424.\n"
     ]
    },
    {
     "name": "stderr",
     "output_type": "stream",
     "text": [
      "[I 2025-05-15 18:08:55,352] Trial 11 finished with value: -0.817558 and parameters: {'max_depth': 9, 'min_child_weight': 4, 'subsample': 0.9818290990185045, 'colsample_bynode': 0.17702656156719, 'learning_rate': 0.11568531411766632}. Best is trial 1 with value: -0.818424.\n"
     ]
    },
    {
     "name": "stderr",
     "output_type": "stream",
     "text": [
      "[I 2025-05-15 18:10:19,346] Trial 12 finished with value: -0.813724 and parameters: {'max_depth': 9, 'min_child_weight': 3, 'subsample': 0.9762317723681219, 'colsample_bynode': 0.14667845540225039, 'learning_rate': 0.07220195396446884}. Best is trial 1 with value: -0.818424.\n"
     ]
    },
    {
     "name": "stderr",
     "output_type": "stream",
     "text": [
      "[I 2025-05-15 18:10:20,103] Trial 13 pruned. Trial was pruned at iteration 0.\n"
     ]
    },
    {
     "name": "stderr",
     "output_type": "stream",
     "text": [
      "[I 2025-05-15 18:10:20,904] Trial 14 pruned. Trial was pruned at iteration 0.\n"
     ]
    },
    {
     "name": "stderr",
     "output_type": "stream",
     "text": [
      "[I 2025-05-15 18:11:41,560] Trial 15 finished with value: -0.816998 and parameters: {'max_depth': 20, 'min_child_weight': 1, 'subsample': 0.7012908959710442, 'colsample_bynode': 0.2540835086298475, 'learning_rate': 0.2833114876720916}. Best is trial 1 with value: -0.818424.\n"
     ]
    },
    {
     "name": "stderr",
     "output_type": "stream",
     "text": [
      "[I 2025-05-15 18:11:42,235] Trial 16 pruned. Trial was pruned at iteration 0.\n"
     ]
    },
    {
     "name": "stderr",
     "output_type": "stream",
     "text": [
      "[I 2025-05-15 18:11:42,952] Trial 17 pruned. Trial was pruned at iteration 0.\n"
     ]
    },
    {
     "name": "stderr",
     "output_type": "stream",
     "text": [
      "[I 2025-05-15 18:12:58,275] Trial 18 finished with value: -0.828862 and parameters: {'max_depth': 11, 'min_child_weight': 37, 'subsample': 0.8988001325877066, 'colsample_bynode': 0.3955466156360019, 'learning_rate': 0.13348559174149954}. Best is trial 18 with value: -0.828862.\n"
     ]
    },
    {
     "name": "stderr",
     "output_type": "stream",
     "text": [
      "[I 2025-05-15 18:13:05,979] Trial 19 pruned. Trial was pruned at iteration 23.\n"
     ]
    },
    {
     "name": "stderr",
     "output_type": "stream",
     "text": [
      "[I 2025-05-15 18:14:19,283] Trial 20 finished with value: -0.82867 and parameters: {'max_depth': 16, 'min_child_weight': 36, 'subsample': 0.6578156841377696, 'colsample_bynode': 0.5501785677119223, 'learning_rate': 0.2221537505158567}. Best is trial 18 with value: -0.828862.\n"
     ]
    },
    {
     "name": "stderr",
     "output_type": "stream",
     "text": [
      "[I 2025-05-15 18:15:05,752] Trial 21 finished with value: -0.832351 and parameters: {'max_depth': 17, 'min_child_weight': 32, 'subsample': 0.6689074388587125, 'colsample_bynode': 0.5334907331464369, 'learning_rate': 0.24892967230551474}. Best is trial 21 with value: -0.832351.\n"
     ]
    },
    {
     "name": "stderr",
     "output_type": "stream",
     "text": [
      "[I 2025-05-15 18:15:38,890] Trial 22 finished with value: -0.826466 and parameters: {'max_depth': 17, 'min_child_weight': 34, 'subsample': 0.6581340170061017, 'colsample_bynode': 0.5266652989265285, 'learning_rate': 0.46863809772466414}. Best is trial 21 with value: -0.832351.\n"
     ]
    },
    {
     "name": "stderr",
     "output_type": "stream",
     "text": [
      "[I 2025-05-15 18:15:39,683] Trial 23 pruned. Trial was pruned at iteration 0.\n"
     ]
    },
    {
     "name": "stderr",
     "output_type": "stream",
     "text": [
      "[I 2025-05-15 18:15:40,545] Trial 24 pruned. Trial was pruned at iteration 0.\n"
     ]
    },
    {
     "name": "stderr",
     "output_type": "stream",
     "text": [
      "[I 2025-05-15 18:15:41,665] Trial 25 pruned. Trial was pruned at iteration 1.\n"
     ]
    },
    {
     "name": "stderr",
     "output_type": "stream",
     "text": [
      "[I 2025-05-15 18:15:42,423] Trial 26 pruned. Trial was pruned at iteration 0.\n"
     ]
    },
    {
     "name": "stderr",
     "output_type": "stream",
     "text": [
      "[I 2025-05-15 18:15:43,126] Trial 27 pruned. Trial was pruned at iteration 0.\n"
     ]
    },
    {
     "name": "stderr",
     "output_type": "stream",
     "text": [
      "[I 2025-05-15 18:15:57,291] Trial 28 pruned. Trial was pruned at iteration 30.\n"
     ]
    },
    {
     "name": "stderr",
     "output_type": "stream",
     "text": [
      "[I 2025-05-15 18:15:58,031] Trial 29 pruned. Trial was pruned at iteration 0.\n"
     ]
    },
    {
     "name": "stderr",
     "output_type": "stream",
     "text": [
      "[I 2025-05-15 18:15:58,772] Trial 30 pruned. Trial was pruned at iteration 0.\n"
     ]
    },
    {
     "name": "stderr",
     "output_type": "stream",
     "text": [
      "[I 2025-05-15 18:16:32,583] Trial 31 finished with value: -0.828168 and parameters: {'max_depth': 18, 'min_child_weight': 26, 'subsample': 0.6702953525079053, 'colsample_bynode': 0.5122726926389256, 'learning_rate': 0.33520941417627514}. Best is trial 21 with value: -0.832351.\n"
     ]
    },
    {
     "name": "stderr",
     "output_type": "stream",
     "text": [
      "[I 2025-05-15 18:17:20,366] Trial 32 finished with value: -0.825265 and parameters: {'max_depth': 19, 'min_child_weight': 22, 'subsample': 0.7774655816593053, 'colsample_bynode': 0.6231662319126241, 'learning_rate': 0.18038499291440738}. Best is trial 21 with value: -0.832351.\n"
     ]
    },
    {
     "name": "stderr",
     "output_type": "stream",
     "text": [
      "[I 2025-05-15 18:17:58,041] Trial 33 finished with value: -0.82876 and parameters: {'max_depth': 16, 'min_child_weight': 21, 'subsample': 0.7228328344630918, 'colsample_bynode': 0.5143938779246242, 'learning_rate': 0.3180046942873957}. Best is trial 21 with value: -0.832351.\n"
     ]
    },
    {
     "name": "stderr",
     "output_type": "stream",
     "text": [
      "[I 2025-05-15 18:17:59,303] Trial 34 pruned. Trial was pruned at iteration 1.\n"
     ]
    },
    {
     "name": "stderr",
     "output_type": "stream",
     "text": [
      "[I 2025-05-15 18:18:00,058] Trial 35 pruned. Trial was pruned at iteration 0.\n"
     ]
    },
    {
     "name": "stderr",
     "output_type": "stream",
     "text": [
      "[I 2025-05-15 18:18:03,109] Trial 36 pruned. Trial was pruned at iteration 5.\n"
     ]
    },
    {
     "name": "stderr",
     "output_type": "stream",
     "text": [
      "[I 2025-05-15 18:18:03,949] Trial 37 pruned. Trial was pruned at iteration 0.\n"
     ]
    },
    {
     "name": "stderr",
     "output_type": "stream",
     "text": [
      "[I 2025-05-15 18:18:04,667] Trial 38 pruned. Trial was pruned at iteration 0.\n"
     ]
    },
    {
     "name": "stderr",
     "output_type": "stream",
     "text": [
      "[I 2025-05-15 18:18:05,406] Trial 39 pruned. Trial was pruned at iteration 0.\n"
     ]
    },
    {
     "name": "stderr",
     "output_type": "stream",
     "text": [
      "[I 2025-05-15 18:18:06,547] Trial 40 pruned. Trial was pruned at iteration 1.\n"
     ]
    },
    {
     "name": "stderr",
     "output_type": "stream",
     "text": [
      "[I 2025-05-15 18:18:33,232] Trial 41 finished with value: -0.828042 and parameters: {'max_depth': 18, 'min_child_weight': 27, 'subsample': 0.6572878947114958, 'colsample_bynode': 0.518810730443439, 'learning_rate': 0.3494276090203256}. Best is trial 21 with value: -0.832351.\n"
     ]
    },
    {
     "name": "stderr",
     "output_type": "stream",
     "text": [
      "[I 2025-05-15 18:19:15,091] Trial 42 finished with value: -0.825984 and parameters: {'max_depth': 18, 'min_child_weight': 16, 'subsample': 0.7345745085897718, 'colsample_bynode': 0.5079522868857093, 'learning_rate': 0.2993955598588964}. Best is trial 21 with value: -0.832351.\n"
     ]
    },
    {
     "name": "stderr",
     "output_type": "stream",
     "text": [
      "[I 2025-05-15 18:19:15,943] Trial 43 pruned. Trial was pruned at iteration 0.\n"
     ]
    },
    {
     "name": "stderr",
     "output_type": "stream",
     "text": [
      "[I 2025-05-15 18:20:02,188] Trial 44 finished with value: -0.824711 and parameters: {'max_depth': 13, 'min_child_weight': 13, 'subsample': 0.602762721148161, 'colsample_bynode': 0.6635334121755896, 'learning_rate': 0.22887568638975475}. Best is trial 21 with value: -0.832351.\n"
     ]
    },
    {
     "name": "stderr",
     "output_type": "stream",
     "text": [
      "[I 2025-05-15 18:20:02,900] Trial 45 pruned. Trial was pruned at iteration 0.\n"
     ]
    },
    {
     "name": "stderr",
     "output_type": "stream",
     "text": [
      "[I 2025-05-15 18:20:04,007] Trial 46 pruned. Trial was pruned at iteration 1.\n"
     ]
    },
    {
     "name": "stderr",
     "output_type": "stream",
     "text": [
      "[I 2025-05-15 18:20:56,155] Trial 47 finished with value: -0.828125 and parameters: {'max_depth': 14, 'min_child_weight': 9, 'subsample': 0.6365634788245298, 'colsample_bynode': 0.2932702889369967, 'learning_rate': 0.3666657026242584}. Best is trial 21 with value: -0.832351.\n"
     ]
    },
    {
     "name": "stderr",
     "output_type": "stream",
     "text": [
      "[I 2025-05-15 18:20:56,824] Trial 48 pruned. Trial was pruned at iteration 0.\n"
     ]
    },
    {
     "name": "stderr",
     "output_type": "stream",
     "text": [
      "[I 2025-05-15 18:20:57,581] Trial 49 pruned. Trial was pruned at iteration 0.\n"
     ]
    }
   ],
   "source": [
    "sampler = optuna.samplers.TPESampler(seed=42)\n",
    "study = optuna.create_study(direction='minimize', sampler=sampler)\n",
    "study.optimize(objective, n_trials=N_TRIALS, gc_after_trial=True)"
   ]
  },
  {
   "cell_type": "code",
   "execution_count": 20,
   "id": "c4bee939",
   "metadata": {
    "execution": {
     "iopub.execute_input": "2025-05-15T16:20:57.681383Z",
     "iopub.status.busy": "2025-05-15T16:20:57.680668Z",
     "iopub.status.idle": "2025-05-15T16:20:57.707737Z",
     "shell.execute_reply": "2025-05-15T16:20:57.707449Z"
    },
    "papermill": {
     "duration": 0.036641,
     "end_time": "2025-05-15T16:20:57.708511",
     "exception": false,
     "start_time": "2025-05-15T16:20:57.671870",
     "status": "completed"
    },
    "tags": []
   },
   "outputs": [
    {
     "data": {
      "text/plain": [
       "['/scratch_isilon/groups/singlecell/shared/projects/Inflammation-PBMCs-Atlas/03_downstream_analysis/08_gene_importance/xgboost_external_validation/xgboost_TopN_genes/results_20/study/Mono_11_1_xgboost.pkl']"
      ]
     },
     "execution_count": 20,
     "metadata": {},
     "output_type": "execute_result"
    }
   ],
   "source": [
    "out_dir = here(f'03_downstream_analysis/08_gene_importance/xgboost_external_validation/xgboost_TopN_genes/results_{N_GENES}/study')\n",
    "\n",
    "if not os.path.exists(out_dir):\n",
    "    os.makedirs(out_dir)\n",
    "    \n",
    "joblib.dump(study,os.path.join(out_dir, f'{CELL_TYPE}_{SEED}_{TEST_SPLIT_IDX}_xgboost.pkl'))"
   ]
  },
  {
   "cell_type": "code",
   "execution_count": 21,
   "id": "30f3262d",
   "metadata": {
    "execution": {
     "iopub.execute_input": "2025-05-15T16:20:57.725156Z",
     "iopub.status.busy": "2025-05-15T16:20:57.724646Z",
     "iopub.status.idle": "2025-05-15T16:21:20.072317Z",
     "shell.execute_reply": "2025-05-15T16:21:20.071986Z"
    },
    "papermill": {
     "duration": 22.356761,
     "end_time": "2025-05-15T16:21:20.073339",
     "exception": false,
     "start_time": "2025-05-15T16:20:57.716578",
     "status": "completed"
    },
    "tags": []
   },
   "outputs": [
    {
     "data": {
      "text/html": [
       "<style>#sk-container-id-1 {\n",
       "  /* Definition of color scheme common for light and dark mode */\n",
       "  --sklearn-color-text: black;\n",
       "  --sklearn-color-line: gray;\n",
       "  /* Definition of color scheme for unfitted estimators */\n",
       "  --sklearn-color-unfitted-level-0: #fff5e6;\n",
       "  --sklearn-color-unfitted-level-1: #f6e4d2;\n",
       "  --sklearn-color-unfitted-level-2: #ffe0b3;\n",
       "  --sklearn-color-unfitted-level-3: chocolate;\n",
       "  /* Definition of color scheme for fitted estimators */\n",
       "  --sklearn-color-fitted-level-0: #f0f8ff;\n",
       "  --sklearn-color-fitted-level-1: #d4ebff;\n",
       "  --sklearn-color-fitted-level-2: #b3dbfd;\n",
       "  --sklearn-color-fitted-level-3: cornflowerblue;\n",
       "\n",
       "  /* Specific color for light theme */\n",
       "  --sklearn-color-text-on-default-background: var(--sg-text-color, var(--theme-code-foreground, var(--jp-content-font-color1, black)));\n",
       "  --sklearn-color-background: var(--sg-background-color, var(--theme-background, var(--jp-layout-color0, white)));\n",
       "  --sklearn-color-border-box: var(--sg-text-color, var(--theme-code-foreground, var(--jp-content-font-color1, black)));\n",
       "  --sklearn-color-icon: #696969;\n",
       "\n",
       "  @media (prefers-color-scheme: dark) {\n",
       "    /* Redefinition of color scheme for dark theme */\n",
       "    --sklearn-color-text-on-default-background: var(--sg-text-color, var(--theme-code-foreground, var(--jp-content-font-color1, white)));\n",
       "    --sklearn-color-background: var(--sg-background-color, var(--theme-background, var(--jp-layout-color0, #111)));\n",
       "    --sklearn-color-border-box: var(--sg-text-color, var(--theme-code-foreground, var(--jp-content-font-color1, white)));\n",
       "    --sklearn-color-icon: #878787;\n",
       "  }\n",
       "}\n",
       "\n",
       "#sk-container-id-1 {\n",
       "  color: var(--sklearn-color-text);\n",
       "}\n",
       "\n",
       "#sk-container-id-1 pre {\n",
       "  padding: 0;\n",
       "}\n",
       "\n",
       "#sk-container-id-1 input.sk-hidden--visually {\n",
       "  border: 0;\n",
       "  clip: rect(1px 1px 1px 1px);\n",
       "  clip: rect(1px, 1px, 1px, 1px);\n",
       "  height: 1px;\n",
       "  margin: -1px;\n",
       "  overflow: hidden;\n",
       "  padding: 0;\n",
       "  position: absolute;\n",
       "  width: 1px;\n",
       "}\n",
       "\n",
       "#sk-container-id-1 div.sk-dashed-wrapped {\n",
       "  border: 1px dashed var(--sklearn-color-line);\n",
       "  margin: 0 0.4em 0.5em 0.4em;\n",
       "  box-sizing: border-box;\n",
       "  padding-bottom: 0.4em;\n",
       "  background-color: var(--sklearn-color-background);\n",
       "}\n",
       "\n",
       "#sk-container-id-1 div.sk-container {\n",
       "  /* jupyter's `normalize.less` sets `[hidden] { display: none; }`\n",
       "     but bootstrap.min.css set `[hidden] { display: none !important; }`\n",
       "     so we also need the `!important` here to be able to override the\n",
       "     default hidden behavior on the sphinx rendered scikit-learn.org.\n",
       "     See: https://github.com/scikit-learn/scikit-learn/issues/21755 */\n",
       "  display: inline-block !important;\n",
       "  position: relative;\n",
       "}\n",
       "\n",
       "#sk-container-id-1 div.sk-text-repr-fallback {\n",
       "  display: none;\n",
       "}\n",
       "\n",
       "div.sk-parallel-item,\n",
       "div.sk-serial,\n",
       "div.sk-item {\n",
       "  /* draw centered vertical line to link estimators */\n",
       "  background-image: linear-gradient(var(--sklearn-color-text-on-default-background), var(--sklearn-color-text-on-default-background));\n",
       "  background-size: 2px 100%;\n",
       "  background-repeat: no-repeat;\n",
       "  background-position: center center;\n",
       "}\n",
       "\n",
       "/* Parallel-specific style estimator block */\n",
       "\n",
       "#sk-container-id-1 div.sk-parallel-item::after {\n",
       "  content: \"\";\n",
       "  width: 100%;\n",
       "  border-bottom: 2px solid var(--sklearn-color-text-on-default-background);\n",
       "  flex-grow: 1;\n",
       "}\n",
       "\n",
       "#sk-container-id-1 div.sk-parallel {\n",
       "  display: flex;\n",
       "  align-items: stretch;\n",
       "  justify-content: center;\n",
       "  background-color: var(--sklearn-color-background);\n",
       "  position: relative;\n",
       "}\n",
       "\n",
       "#sk-container-id-1 div.sk-parallel-item {\n",
       "  display: flex;\n",
       "  flex-direction: column;\n",
       "}\n",
       "\n",
       "#sk-container-id-1 div.sk-parallel-item:first-child::after {\n",
       "  align-self: flex-end;\n",
       "  width: 50%;\n",
       "}\n",
       "\n",
       "#sk-container-id-1 div.sk-parallel-item:last-child::after {\n",
       "  align-self: flex-start;\n",
       "  width: 50%;\n",
       "}\n",
       "\n",
       "#sk-container-id-1 div.sk-parallel-item:only-child::after {\n",
       "  width: 0;\n",
       "}\n",
       "\n",
       "/* Serial-specific style estimator block */\n",
       "\n",
       "#sk-container-id-1 div.sk-serial {\n",
       "  display: flex;\n",
       "  flex-direction: column;\n",
       "  align-items: center;\n",
       "  background-color: var(--sklearn-color-background);\n",
       "  padding-right: 1em;\n",
       "  padding-left: 1em;\n",
       "}\n",
       "\n",
       "\n",
       "/* Toggleable style: style used for estimator/Pipeline/ColumnTransformer box that is\n",
       "clickable and can be expanded/collapsed.\n",
       "- Pipeline and ColumnTransformer use this feature and define the default style\n",
       "- Estimators will overwrite some part of the style using the `sk-estimator` class\n",
       "*/\n",
       "\n",
       "/* Pipeline and ColumnTransformer style (default) */\n",
       "\n",
       "#sk-container-id-1 div.sk-toggleable {\n",
       "  /* Default theme specific background. It is overwritten whether we have a\n",
       "  specific estimator or a Pipeline/ColumnTransformer */\n",
       "  background-color: var(--sklearn-color-background);\n",
       "}\n",
       "\n",
       "/* Toggleable label */\n",
       "#sk-container-id-1 label.sk-toggleable__label {\n",
       "  cursor: pointer;\n",
       "  display: block;\n",
       "  width: 100%;\n",
       "  margin-bottom: 0;\n",
       "  padding: 0.5em;\n",
       "  box-sizing: border-box;\n",
       "  text-align: center;\n",
       "}\n",
       "\n",
       "#sk-container-id-1 label.sk-toggleable__label-arrow:before {\n",
       "  /* Arrow on the left of the label */\n",
       "  content: \"▸\";\n",
       "  float: left;\n",
       "  margin-right: 0.25em;\n",
       "  color: var(--sklearn-color-icon);\n",
       "}\n",
       "\n",
       "#sk-container-id-1 label.sk-toggleable__label-arrow:hover:before {\n",
       "  color: var(--sklearn-color-text);\n",
       "}\n",
       "\n",
       "/* Toggleable content - dropdown */\n",
       "\n",
       "#sk-container-id-1 div.sk-toggleable__content {\n",
       "  max-height: 0;\n",
       "  max-width: 0;\n",
       "  overflow: hidden;\n",
       "  text-align: left;\n",
       "  /* unfitted */\n",
       "  background-color: var(--sklearn-color-unfitted-level-0);\n",
       "}\n",
       "\n",
       "#sk-container-id-1 div.sk-toggleable__content.fitted {\n",
       "  /* fitted */\n",
       "  background-color: var(--sklearn-color-fitted-level-0);\n",
       "}\n",
       "\n",
       "#sk-container-id-1 div.sk-toggleable__content pre {\n",
       "  margin: 0.2em;\n",
       "  border-radius: 0.25em;\n",
       "  color: var(--sklearn-color-text);\n",
       "  /* unfitted */\n",
       "  background-color: var(--sklearn-color-unfitted-level-0);\n",
       "}\n",
       "\n",
       "#sk-container-id-1 div.sk-toggleable__content.fitted pre {\n",
       "  /* unfitted */\n",
       "  background-color: var(--sklearn-color-fitted-level-0);\n",
       "}\n",
       "\n",
       "#sk-container-id-1 input.sk-toggleable__control:checked~div.sk-toggleable__content {\n",
       "  /* Expand drop-down */\n",
       "  max-height: 200px;\n",
       "  max-width: 100%;\n",
       "  overflow: auto;\n",
       "}\n",
       "\n",
       "#sk-container-id-1 input.sk-toggleable__control:checked~label.sk-toggleable__label-arrow:before {\n",
       "  content: \"▾\";\n",
       "}\n",
       "\n",
       "/* Pipeline/ColumnTransformer-specific style */\n",
       "\n",
       "#sk-container-id-1 div.sk-label input.sk-toggleable__control:checked~label.sk-toggleable__label {\n",
       "  color: var(--sklearn-color-text);\n",
       "  background-color: var(--sklearn-color-unfitted-level-2);\n",
       "}\n",
       "\n",
       "#sk-container-id-1 div.sk-label.fitted input.sk-toggleable__control:checked~label.sk-toggleable__label {\n",
       "  background-color: var(--sklearn-color-fitted-level-2);\n",
       "}\n",
       "\n",
       "/* Estimator-specific style */\n",
       "\n",
       "/* Colorize estimator box */\n",
       "#sk-container-id-1 div.sk-estimator input.sk-toggleable__control:checked~label.sk-toggleable__label {\n",
       "  /* unfitted */\n",
       "  background-color: var(--sklearn-color-unfitted-level-2);\n",
       "}\n",
       "\n",
       "#sk-container-id-1 div.sk-estimator.fitted input.sk-toggleable__control:checked~label.sk-toggleable__label {\n",
       "  /* fitted */\n",
       "  background-color: var(--sklearn-color-fitted-level-2);\n",
       "}\n",
       "\n",
       "#sk-container-id-1 div.sk-label label.sk-toggleable__label,\n",
       "#sk-container-id-1 div.sk-label label {\n",
       "  /* The background is the default theme color */\n",
       "  color: var(--sklearn-color-text-on-default-background);\n",
       "}\n",
       "\n",
       "/* On hover, darken the color of the background */\n",
       "#sk-container-id-1 div.sk-label:hover label.sk-toggleable__label {\n",
       "  color: var(--sklearn-color-text);\n",
       "  background-color: var(--sklearn-color-unfitted-level-2);\n",
       "}\n",
       "\n",
       "/* Label box, darken color on hover, fitted */\n",
       "#sk-container-id-1 div.sk-label.fitted:hover label.sk-toggleable__label.fitted {\n",
       "  color: var(--sklearn-color-text);\n",
       "  background-color: var(--sklearn-color-fitted-level-2);\n",
       "}\n",
       "\n",
       "/* Estimator label */\n",
       "\n",
       "#sk-container-id-1 div.sk-label label {\n",
       "  font-family: monospace;\n",
       "  font-weight: bold;\n",
       "  display: inline-block;\n",
       "  line-height: 1.2em;\n",
       "}\n",
       "\n",
       "#sk-container-id-1 div.sk-label-container {\n",
       "  text-align: center;\n",
       "}\n",
       "\n",
       "/* Estimator-specific */\n",
       "#sk-container-id-1 div.sk-estimator {\n",
       "  font-family: monospace;\n",
       "  border: 1px dotted var(--sklearn-color-border-box);\n",
       "  border-radius: 0.25em;\n",
       "  box-sizing: border-box;\n",
       "  margin-bottom: 0.5em;\n",
       "  /* unfitted */\n",
       "  background-color: var(--sklearn-color-unfitted-level-0);\n",
       "}\n",
       "\n",
       "#sk-container-id-1 div.sk-estimator.fitted {\n",
       "  /* fitted */\n",
       "  background-color: var(--sklearn-color-fitted-level-0);\n",
       "}\n",
       "\n",
       "/* on hover */\n",
       "#sk-container-id-1 div.sk-estimator:hover {\n",
       "  /* unfitted */\n",
       "  background-color: var(--sklearn-color-unfitted-level-2);\n",
       "}\n",
       "\n",
       "#sk-container-id-1 div.sk-estimator.fitted:hover {\n",
       "  /* fitted */\n",
       "  background-color: var(--sklearn-color-fitted-level-2);\n",
       "}\n",
       "\n",
       "/* Specification for estimator info (e.g. \"i\" and \"?\") */\n",
       "\n",
       "/* Common style for \"i\" and \"?\" */\n",
       "\n",
       ".sk-estimator-doc-link,\n",
       "a:link.sk-estimator-doc-link,\n",
       "a:visited.sk-estimator-doc-link {\n",
       "  float: right;\n",
       "  font-size: smaller;\n",
       "  line-height: 1em;\n",
       "  font-family: monospace;\n",
       "  background-color: var(--sklearn-color-background);\n",
       "  border-radius: 1em;\n",
       "  height: 1em;\n",
       "  width: 1em;\n",
       "  text-decoration: none !important;\n",
       "  margin-left: 1ex;\n",
       "  /* unfitted */\n",
       "  border: var(--sklearn-color-unfitted-level-1) 1pt solid;\n",
       "  color: var(--sklearn-color-unfitted-level-1);\n",
       "}\n",
       "\n",
       ".sk-estimator-doc-link.fitted,\n",
       "a:link.sk-estimator-doc-link.fitted,\n",
       "a:visited.sk-estimator-doc-link.fitted {\n",
       "  /* fitted */\n",
       "  border: var(--sklearn-color-fitted-level-1) 1pt solid;\n",
       "  color: var(--sklearn-color-fitted-level-1);\n",
       "}\n",
       "\n",
       "/* On hover */\n",
       "div.sk-estimator:hover .sk-estimator-doc-link:hover,\n",
       ".sk-estimator-doc-link:hover,\n",
       "div.sk-label-container:hover .sk-estimator-doc-link:hover,\n",
       ".sk-estimator-doc-link:hover {\n",
       "  /* unfitted */\n",
       "  background-color: var(--sklearn-color-unfitted-level-3);\n",
       "  color: var(--sklearn-color-background);\n",
       "  text-decoration: none;\n",
       "}\n",
       "\n",
       "div.sk-estimator.fitted:hover .sk-estimator-doc-link.fitted:hover,\n",
       ".sk-estimator-doc-link.fitted:hover,\n",
       "div.sk-label-container:hover .sk-estimator-doc-link.fitted:hover,\n",
       ".sk-estimator-doc-link.fitted:hover {\n",
       "  /* fitted */\n",
       "  background-color: var(--sklearn-color-fitted-level-3);\n",
       "  color: var(--sklearn-color-background);\n",
       "  text-decoration: none;\n",
       "}\n",
       "\n",
       "/* Span, style for the box shown on hovering the info icon */\n",
       ".sk-estimator-doc-link span {\n",
       "  display: none;\n",
       "  z-index: 9999;\n",
       "  position: relative;\n",
       "  font-weight: normal;\n",
       "  right: .2ex;\n",
       "  padding: .5ex;\n",
       "  margin: .5ex;\n",
       "  width: min-content;\n",
       "  min-width: 20ex;\n",
       "  max-width: 50ex;\n",
       "  color: var(--sklearn-color-text);\n",
       "  box-shadow: 2pt 2pt 4pt #999;\n",
       "  /* unfitted */\n",
       "  background: var(--sklearn-color-unfitted-level-0);\n",
       "  border: .5pt solid var(--sklearn-color-unfitted-level-3);\n",
       "}\n",
       "\n",
       ".sk-estimator-doc-link.fitted span {\n",
       "  /* fitted */\n",
       "  background: var(--sklearn-color-fitted-level-0);\n",
       "  border: var(--sklearn-color-fitted-level-3);\n",
       "}\n",
       "\n",
       ".sk-estimator-doc-link:hover span {\n",
       "  display: block;\n",
       "}\n",
       "\n",
       "/* \"?\"-specific style due to the `<a>` HTML tag */\n",
       "\n",
       "#sk-container-id-1 a.estimator_doc_link {\n",
       "  float: right;\n",
       "  font-size: 1rem;\n",
       "  line-height: 1em;\n",
       "  font-family: monospace;\n",
       "  background-color: var(--sklearn-color-background);\n",
       "  border-radius: 1rem;\n",
       "  height: 1rem;\n",
       "  width: 1rem;\n",
       "  text-decoration: none;\n",
       "  /* unfitted */\n",
       "  color: var(--sklearn-color-unfitted-level-1);\n",
       "  border: var(--sklearn-color-unfitted-level-1) 1pt solid;\n",
       "}\n",
       "\n",
       "#sk-container-id-1 a.estimator_doc_link.fitted {\n",
       "  /* fitted */\n",
       "  border: var(--sklearn-color-fitted-level-1) 1pt solid;\n",
       "  color: var(--sklearn-color-fitted-level-1);\n",
       "}\n",
       "\n",
       "/* On hover */\n",
       "#sk-container-id-1 a.estimator_doc_link:hover {\n",
       "  /* unfitted */\n",
       "  background-color: var(--sklearn-color-unfitted-level-3);\n",
       "  color: var(--sklearn-color-background);\n",
       "  text-decoration: none;\n",
       "}\n",
       "\n",
       "#sk-container-id-1 a.estimator_doc_link.fitted:hover {\n",
       "  /* fitted */\n",
       "  background-color: var(--sklearn-color-fitted-level-3);\n",
       "}\n",
       "</style><div id=\"sk-container-id-1\" class=\"sk-top-container\"><div class=\"sk-text-repr-fallback\"><pre>XGBClassifier(base_score=None, booster=None, callbacks=None,\n",
       "              colsample_bylevel=None, colsample_bynode=0.5334907331464369,\n",
       "              colsample_bytree=None, device=None, early_stopping_rounds=None,\n",
       "              enable_categorical=False,\n",
       "              eval_metric=&lt;function custom_f1_score at 0x7f6ff8f43e20&gt;,\n",
       "              feature_types=None, gamma=None, grow_policy=None,\n",
       "              importance_type=None, interaction_constraints=None,\n",
       "              learning_rate=0.24892967230551474, max_bin=None,\n",
       "              max_cat_threshold=None, max_cat_to_onehot=None,\n",
       "              max_delta_step=None, max_depth=17, max_leaves=None,\n",
       "              min_child_weight=32, missing=nan, monotone_constraints=None,\n",
       "              multi_strategy=None, n_estimators=148, n_jobs=None,\n",
       "              num_parallel_tree=None, objective=&#x27;multi:softprob&#x27;, ...)</pre><b>In a Jupyter environment, please rerun this cell to show the HTML representation or trust the notebook. <br />On GitHub, the HTML representation is unable to render, please try loading this page with nbviewer.org.</b></div><div class=\"sk-container\" hidden><div class=\"sk-item\"><div class=\"sk-estimator fitted sk-toggleable\"><input class=\"sk-toggleable__control sk-hidden--visually\" id=\"sk-estimator-id-1\" type=\"checkbox\" checked><label for=\"sk-estimator-id-1\" class=\"sk-toggleable__label fitted sk-toggleable__label-arrow fitted\">&nbsp;XGBClassifier<span class=\"sk-estimator-doc-link fitted\">i<span>Fitted</span></span></label><div class=\"sk-toggleable__content fitted\"><pre>XGBClassifier(base_score=None, booster=None, callbacks=None,\n",
       "              colsample_bylevel=None, colsample_bynode=0.5334907331464369,\n",
       "              colsample_bytree=None, device=None, early_stopping_rounds=None,\n",
       "              enable_categorical=False,\n",
       "              eval_metric=&lt;function custom_f1_score at 0x7f6ff8f43e20&gt;,\n",
       "              feature_types=None, gamma=None, grow_policy=None,\n",
       "              importance_type=None, interaction_constraints=None,\n",
       "              learning_rate=0.24892967230551474, max_bin=None,\n",
       "              max_cat_threshold=None, max_cat_to_onehot=None,\n",
       "              max_delta_step=None, max_depth=17, max_leaves=None,\n",
       "              min_child_weight=32, missing=nan, monotone_constraints=None,\n",
       "              multi_strategy=None, n_estimators=148, n_jobs=None,\n",
       "              num_parallel_tree=None, objective=&#x27;multi:softprob&#x27;, ...)</pre></div> </div></div></div></div>"
      ],
      "text/plain": [
       "XGBClassifier(base_score=None, booster=None, callbacks=None,\n",
       "              colsample_bylevel=None, colsample_bynode=0.5334907331464369,\n",
       "              colsample_bytree=None, device=None, early_stopping_rounds=None,\n",
       "              enable_categorical=False,\n",
       "              eval_metric=<function custom_f1_score at 0x7f6ff8f43e20>,\n",
       "              feature_types=None, gamma=None, grow_policy=None,\n",
       "              importance_type=None, interaction_constraints=None,\n",
       "              learning_rate=0.24892967230551474, max_bin=None,\n",
       "              max_cat_threshold=None, max_cat_to_onehot=None,\n",
       "              max_delta_step=None, max_depth=17, max_leaves=None,\n",
       "              min_child_weight=32, missing=nan, monotone_constraints=None,\n",
       "              multi_strategy=None, n_estimators=148, n_jobs=None,\n",
       "              num_parallel_tree=None, objective='multi:softprob', ...)"
      ]
     },
     "execution_count": 21,
     "metadata": {},
     "output_type": "execute_result"
    }
   ],
   "source": [
    "n_estimators = int(study.best_trial.user_attrs['best_iteration']*1.2)\n",
    "xgb = xgboost.XGBClassifier(\n",
    "        eval_metric=eval_metric,\n",
    "        n_estimators=n_estimators,\n",
    "        **study.best_trial.params\n",
    "    )\n",
    "xgb.fit(\n",
    "    ssp.vstack((X_train, X_val)), \n",
    "    np.concatenate((y_train_enc, y_val_enc)),\n",
    "    verbose=1,\n",
    ")"
   ]
  },
  {
   "cell_type": "code",
   "execution_count": 22,
   "id": "464061c7",
   "metadata": {
    "execution": {
     "iopub.execute_input": "2025-05-15T16:21:20.092240Z",
     "iopub.status.busy": "2025-05-15T16:21:20.091986Z",
     "iopub.status.idle": "2025-05-15T16:21:20.195155Z",
     "shell.execute_reply": "2025-05-15T16:21:20.194808Z"
    },
    "papermill": {
     "duration": 0.11248,
     "end_time": "2025-05-15T16:21:20.196004",
     "exception": false,
     "start_time": "2025-05-15T16:21:20.083524",
     "status": "completed"
    },
    "tags": []
   },
   "outputs": [
    {
     "data": {
      "text/plain": [
       "['/scratch_isilon/groups/singlecell/shared/projects/Inflammation-PBMCs-Atlas/03_downstream_analysis/08_gene_importance/xgboost_external_validation/xgboost_TopN_genes/results_20/best_model/Mono_11_1_xgb.json']"
      ]
     },
     "execution_count": 22,
     "metadata": {},
     "output_type": "execute_result"
    }
   ],
   "source": [
    "out_dir = here(f'03_downstream_analysis/08_gene_importance/xgboost_external_validation/xgboost_TopN_genes/results_{N_GENES}/best_model')\n",
    "\n",
    "if not os.path.exists(out_dir):\n",
    "    os.makedirs(out_dir)\n",
    "    \n",
    "joblib.dump(xgb, os.path.join(out_dir, f'{CELL_TYPE}_{SEED}_{TEST_SPLIT_IDX}_xgb.json'))"
   ]
  },
  {
   "cell_type": "code",
   "execution_count": 23,
   "id": "0926475c",
   "metadata": {
    "execution": {
     "iopub.execute_input": "2025-05-15T16:21:20.213389Z",
     "iopub.status.busy": "2025-05-15T16:21:20.213142Z",
     "iopub.status.idle": "2025-05-15T16:21:21.179478Z",
     "shell.execute_reply": "2025-05-15T16:21:21.179105Z"
    },
    "papermill": {
     "duration": 0.975962,
     "end_time": "2025-05-15T16:21:21.180535",
     "exception": false,
     "start_time": "2025-05-15T16:21:20.204573",
     "status": "completed"
    },
    "tags": []
   },
   "outputs": [],
   "source": [
    "df_pred_test = pd.DataFrame(dict(\n",
    "    cell_id=train_adata.obs.iloc[test_idxs].index.values,\n",
    "    y_true=y_test, \n",
    "    y_true_code=y_test_enc, \n",
    "    y_pred=xgb.predict(X_test))).set_index('cell_id')"
   ]
  },
  {
   "cell_type": "code",
   "execution_count": 24,
   "id": "43a4e8bc",
   "metadata": {
    "execution": {
     "iopub.execute_input": "2025-05-15T16:21:21.197949Z",
     "iopub.status.busy": "2025-05-15T16:21:21.197706Z",
     "iopub.status.idle": "2025-05-15T16:21:21.414826Z",
     "shell.execute_reply": "2025-05-15T16:21:21.414361Z"
    },
    "papermill": {
     "duration": 0.226633,
     "end_time": "2025-05-15T16:21:21.415721",
     "exception": false,
     "start_time": "2025-05-15T16:21:21.189088",
     "status": "completed"
    },
    "tags": []
   },
   "outputs": [],
   "source": [
    "out_dir = here(f'03_downstream_analysis/08_gene_importance/xgboost_external_validation/xgboost_TopN_genes/results_{N_GENES}/predictions')\n",
    "\n",
    "if not os.path.exists(out_dir):\n",
    "    os.makedirs(out_dir)\n",
    "    \n",
    "df_pred_test.to_csv(os.path.join(out_dir, f'{CELL_TYPE}_{SEED}_{TEST_SPLIT_IDX}_pred_test.zip'))"
   ]
  },
  {
   "cell_type": "code",
   "execution_count": 25,
   "id": "819634d6",
   "metadata": {
    "execution": {
     "iopub.execute_input": "2025-05-15T16:21:21.433140Z",
     "iopub.status.busy": "2025-05-15T16:21:21.432903Z",
     "iopub.status.idle": "2025-05-15T16:21:21.448213Z",
     "shell.execute_reply": "2025-05-15T16:21:21.447834Z"
    },
    "papermill": {
     "duration": 0.024869,
     "end_time": "2025-05-15T16:21:21.448984",
     "exception": false,
     "start_time": "2025-05-15T16:21:21.424115",
     "status": "completed"
    },
    "tags": []
   },
   "outputs": [],
   "source": [
    "metrics_dict = dict(\n",
    "    BAS=balanced_accuracy_score(y_true=df_pred_test.y_true_code, y_pred=df_pred_test.y_pred), WF1=f1_score(y_true=df_pred_test.y_true_code, y_pred=df_pred_test.y_pred,average='weighted'))"
   ]
  },
  {
   "cell_type": "code",
   "execution_count": 26,
   "id": "c906799c",
   "metadata": {
    "execution": {
     "iopub.execute_input": "2025-05-15T16:21:21.465841Z",
     "iopub.status.busy": "2025-05-15T16:21:21.465664Z",
     "iopub.status.idle": "2025-05-15T16:21:21.468588Z",
     "shell.execute_reply": "2025-05-15T16:21:21.468306Z"
    },
    "papermill": {
     "duration": 0.012118,
     "end_time": "2025-05-15T16:21:21.469347",
     "exception": false,
     "start_time": "2025-05-15T16:21:21.457229",
     "status": "completed"
    },
    "tags": []
   },
   "outputs": [
    {
     "data": {
      "text/plain": [
       "{'BAS': 0.5673035482919675, 'WF1': 0.7616499193548373}"
      ]
     },
     "execution_count": 26,
     "metadata": {},
     "output_type": "execute_result"
    }
   ],
   "source": [
    "metrics_dict"
   ]
  },
  {
   "cell_type": "code",
   "execution_count": 27,
   "id": "d014ad1d",
   "metadata": {
    "execution": {
     "iopub.execute_input": "2025-05-15T16:21:21.486277Z",
     "iopub.status.busy": "2025-05-15T16:21:21.486111Z",
     "iopub.status.idle": "2025-05-15T16:21:21.494479Z",
     "shell.execute_reply": "2025-05-15T16:21:21.494196Z"
    },
    "papermill": {
     "duration": 0.017657,
     "end_time": "2025-05-15T16:21:21.495227",
     "exception": false,
     "start_time": "2025-05-15T16:21:21.477570",
     "status": "completed"
    },
    "tags": []
   },
   "outputs": [
    {
     "data": {
      "text/html": [
       "<div>\n",
       "<style scoped>\n",
       "    .dataframe tbody tr th:only-of-type {\n",
       "        vertical-align: middle;\n",
       "    }\n",
       "\n",
       "    .dataframe tbody tr th {\n",
       "        vertical-align: top;\n",
       "    }\n",
       "\n",
       "    .dataframe thead th {\n",
       "        text-align: right;\n",
       "    }\n",
       "</style>\n",
       "<table border=\"1\" class=\"dataframe\">\n",
       "  <thead>\n",
       "    <tr style=\"text-align: right;\">\n",
       "      <th></th>\n",
       "      <th>BAS</th>\n",
       "      <th>WF1</th>\n",
       "      <th>split_idx</th>\n",
       "      <th>gene_set_seed</th>\n",
       "      <th>cell_type</th>\n",
       "    </tr>\n",
       "  </thead>\n",
       "  <tbody>\n",
       "    <tr>\n",
       "      <th>0</th>\n",
       "      <td>0.567304</td>\n",
       "      <td>0.76165</td>\n",
       "      <td>1</td>\n",
       "      <td>11</td>\n",
       "      <td>Mono</td>\n",
       "    </tr>\n",
       "  </tbody>\n",
       "</table>\n",
       "</div>"
      ],
      "text/plain": [
       "        BAS      WF1  split_idx  gene_set_seed cell_type\n",
       "0  0.567304  0.76165          1             11      Mono"
      ]
     },
     "execution_count": 27,
     "metadata": {},
     "output_type": "execute_result"
    }
   ],
   "source": [
    "metrics_df = pd.DataFrame.from_dict([metrics_dict]).assign(split_idx=TEST_SPLIT_IDX, gene_set_seed=SEED, cell_type=CELL_TYPE)\n",
    "metrics_df"
   ]
  },
  {
   "cell_type": "code",
   "execution_count": 28,
   "id": "69e2c941",
   "metadata": {
    "execution": {
     "iopub.execute_input": "2025-05-15T16:21:21.512347Z",
     "iopub.status.busy": "2025-05-15T16:21:21.512184Z",
     "iopub.status.idle": "2025-05-15T16:21:21.520156Z",
     "shell.execute_reply": "2025-05-15T16:21:21.519805Z"
    },
    "papermill": {
     "duration": 0.017404,
     "end_time": "2025-05-15T16:21:21.520913",
     "exception": false,
     "start_time": "2025-05-15T16:21:21.503509",
     "status": "completed"
    },
    "tags": []
   },
   "outputs": [],
   "source": [
    "out_dir = here(f'03_downstream_analysis/08_gene_importance/xgboost_external_validation/xgboost_TopN_genes/results_{N_GENES}/metrics')\n",
    "\n",
    "if not os.path.exists(out_dir):\n",
    "    os.makedirs(out_dir)\n",
    "    \n",
    "metrics_df.to_csv(os.path.join(out_dir, f'{CELL_TYPE}_{SEED}_{TEST_SPLIT_IDX}_metrics.zip'))"
   ]
  }
 ],
 "metadata": {
  "kernelspec": {
   "display_name": "Python 3 (ipykernel)",
   "language": "python",
   "name": "python3"
  },
  "language_info": {
   "codemirror_mode": {
    "name": "ipython",
    "version": 3
   },
   "file_extension": ".py",
   "mimetype": "text/x-python",
   "name": "python",
   "nbconvert_exporter": "python",
   "pygments_lexer": "ipython3",
   "version": "3.12.5"
  },
  "papermill": {
   "default_parameters": {},
   "duration": 1300.217525,
   "end_time": "2025-05-15T16:21:22.145012",
   "environment_variables": {},
   "exception": null,
   "input_path": "02_xgboost_fitting_external_20genes.ipynb",
   "output_path": "results_20/executed_notebooks/xgboost_fitting_external_CT_Mono_GS_11_seed1.ipynb",
   "parameters": {
    "CELL_TYPE": "Mono",
    "SEED": 11,
    "TEST_SPLIT_IDX": 1
   },
   "start_time": "2025-05-15T15:59:41.927487",
   "version": "2.6.0"
  }
 },
 "nbformat": 4,
 "nbformat_minor": 5
}