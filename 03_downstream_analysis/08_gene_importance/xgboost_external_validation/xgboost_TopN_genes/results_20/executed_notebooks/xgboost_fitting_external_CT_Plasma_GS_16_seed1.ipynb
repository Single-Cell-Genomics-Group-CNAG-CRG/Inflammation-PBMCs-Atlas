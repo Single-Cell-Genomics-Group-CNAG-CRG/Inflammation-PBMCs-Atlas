{
 "cells": [
  {
   "cell_type": "code",
   "execution_count": 1,
   "id": "e56870bd",
   "metadata": {
    "editable": true,
    "execution": {
     "iopub.execute_input": "2025-05-15T16:15:47.517519Z",
     "iopub.status.busy": "2025-05-15T16:15:47.517012Z",
     "iopub.status.idle": "2025-05-15T16:15:47.520981Z",
     "shell.execute_reply": "2025-05-15T16:15:47.520609Z"
    },
    "papermill": {
     "duration": 0.029999,
     "end_time": "2025-05-15T16:15:47.521993",
     "exception": false,
     "start_time": "2025-05-15T16:15:47.491994",
     "status": "completed"
    },
    "slideshow": {
     "slide_type": ""
    },
    "tags": [
     "parameters"
    ]
   },
   "outputs": [],
   "source": [
    "CELL_TYPE = 'pDC'\n",
    "N_GENES: int = 20\n",
    "SEED = 'shap_studyID' #'disease_NOstudy' 'study_NOdisease' or 'int' or 'shap_studyID'\n",
    "TEST_SPLIT_IDX: int = 1 #[0,4]"
   ]
  },
  {
   "cell_type": "code",
   "execution_count": 2,
   "id": "99ca8ffb",
   "metadata": {
    "execution": {
     "iopub.execute_input": "2025-05-15T16:15:47.566109Z",
     "iopub.status.busy": "2025-05-15T16:15:47.565600Z",
     "iopub.status.idle": "2025-05-15T16:15:47.568415Z",
     "shell.execute_reply": "2025-05-15T16:15:47.568077Z"
    },
    "papermill": {
     "duration": 0.041206,
     "end_time": "2025-05-15T16:15:47.569281",
     "exception": false,
     "start_time": "2025-05-15T16:15:47.528075",
     "status": "completed"
    },
    "tags": [
     "injected-parameters"
    ]
   },
   "outputs": [],
   "source": [
    "# Parameters\n",
    "CELL_TYPE = \"Plasma\"\n",
    "SEED = 16\n",
    "TEST_SPLIT_IDX = 1\n"
   ]
  },
  {
   "cell_type": "code",
   "execution_count": 3,
   "id": "fc456246",
   "metadata": {
    "execution": {
     "iopub.execute_input": "2025-05-15T16:15:47.598314Z",
     "iopub.status.busy": "2025-05-15T16:15:47.597960Z",
     "iopub.status.idle": "2025-05-15T16:15:47.600870Z",
     "shell.execute_reply": "2025-05-15T16:15:47.600491Z"
    },
    "papermill": {
     "duration": 0.025263,
     "end_time": "2025-05-15T16:15:47.601801",
     "exception": false,
     "start_time": "2025-05-15T16:15:47.576538",
     "status": "completed"
    },
    "tags": []
   },
   "outputs": [],
   "source": [
    "N_SPLITS: int = 5\n",
    "N_TRIALS: int = 50"
   ]
  },
  {
   "cell_type": "code",
   "execution_count": 4,
   "id": "2b877ed4",
   "metadata": {
    "execution": {
     "iopub.execute_input": "2025-05-15T16:15:47.625527Z",
     "iopub.status.busy": "2025-05-15T16:15:47.624823Z",
     "iopub.status.idle": "2025-05-15T16:15:49.700405Z",
     "shell.execute_reply": "2025-05-15T16:15:49.699722Z"
    },
    "papermill": {
     "duration": 2.094305,
     "end_time": "2025-05-15T16:15:49.701923",
     "exception": false,
     "start_time": "2025-05-15T16:15:47.607618",
     "status": "completed"
    },
    "tags": []
   },
   "outputs": [],
   "source": [
    "import os\n",
    "import sys\n",
    "from pyprojroot.here import here\n",
    "import pandas as pd\n",
    "import anndata as ad\n",
    "import numpy as np\n",
    "import math\n",
    "from sklearn.model_selection import StratifiedGroupKFold\n",
    "from sklearn.preprocessing import LabelEncoder\n",
    "from sklearn.metrics import f1_score\n",
    "import matplotlib.pyplot as plt\n",
    "import seaborn as sns\n",
    "from itertools import product\n",
    "from sklearn.metrics import balanced_accuracy_score, f1_score\n",
    "import optuna\n",
    "\n",
    "import joblib\n",
    "import pickle\n",
    "import datetime\n",
    "\n",
    "import collections\n",
    "\n",
    "import xgboost\n",
    "from sklearn.preprocessing import LabelEncoder\n",
    "\n",
    "import scipy.sparse as ssp\n",
    "import joblib\n",
    "\n",
    "from dotenv import load_dotenv"
   ]
  },
  {
   "cell_type": "code",
   "execution_count": 5,
   "id": "0400c5b3",
   "metadata": {
    "execution": {
     "iopub.execute_input": "2025-05-15T16:15:49.715394Z",
     "iopub.status.busy": "2025-05-15T16:15:49.714816Z",
     "iopub.status.idle": "2025-05-15T16:15:49.722799Z",
     "shell.execute_reply": "2025-05-15T16:15:49.722397Z"
    },
    "papermill": {
     "duration": 0.01553,
     "end_time": "2025-05-15T16:15:49.723715",
     "exception": false,
     "start_time": "2025-05-15T16:15:49.708185",
     "status": "completed"
    },
    "tags": []
   },
   "outputs": [
    {
     "data": {
      "text/plain": [
       "True"
      ]
     },
     "execution_count": 5,
     "metadata": {},
     "output_type": "execute_result"
    }
   ],
   "source": [
    "load_dotenv()"
   ]
  },
  {
   "cell_type": "markdown",
   "id": "0b623b95",
   "metadata": {
    "papermill": {
     "duration": 0.031744,
     "end_time": "2025-05-15T16:15:49.774186",
     "exception": false,
     "start_time": "2025-05-15T16:15:49.742442",
     "status": "completed"
    },
    "tags": []
   },
   "source": [
    "# LOAD DATASET"
   ]
  },
  {
   "cell_type": "code",
   "execution_count": 6,
   "id": "14680723",
   "metadata": {
    "execution": {
     "iopub.execute_input": "2025-05-15T16:15:49.787005Z",
     "iopub.status.busy": "2025-05-15T16:15:49.786743Z",
     "iopub.status.idle": "2025-05-15T16:15:49.833574Z",
     "shell.execute_reply": "2025-05-15T16:15:49.832946Z"
    },
    "papermill": {
     "duration": 0.054643,
     "end_time": "2025-05-15T16:15:49.834617",
     "exception": false,
     "start_time": "2025-05-15T16:15:49.779974",
     "status": "completed"
    },
    "tags": []
   },
   "outputs": [],
   "source": [
    "train_adata = ad.read_h5ad(\n",
    "    here(f'03_downstream_analysis/08_gene_importance/xgboost_external_validation/xgboost_TopN_genes/data_cellTypes/EXTERNAL_{CELL_TYPE}.filtered.log1p.h5ad')\n",
    ")"
   ]
  },
  {
   "cell_type": "code",
   "execution_count": 7,
   "id": "8be65ab0",
   "metadata": {
    "execution": {
     "iopub.execute_input": "2025-05-15T16:15:49.869024Z",
     "iopub.status.busy": "2025-05-15T16:15:49.868636Z",
     "iopub.status.idle": "2025-05-15T16:15:49.882845Z",
     "shell.execute_reply": "2025-05-15T16:15:49.882330Z"
    },
    "papermill": {
     "duration": 0.043166,
     "end_time": "2025-05-15T16:15:49.883842",
     "exception": false,
     "start_time": "2025-05-15T16:15:49.840676",
     "status": "completed"
    },
    "tags": []
   },
   "outputs": [
    {
     "name": "stdout",
     "output_type": "stream",
     "text": [
      "['ENSG00000159674' 'ENSG00000130522' 'ENSG00000140105' 'ENSG00000204592'\n",
      " 'ENSG00000140379' 'ENSG00000132510' 'ENSG00000160255' 'ENSG00000130724'\n",
      " 'ENSG00000105397' 'ENSG00000125534' 'ENSG00000264364' 'ENSG00000160213'\n",
      " 'ENSG00000206503' 'ENSG00000197747' 'ENSG00000009790' 'ENSG00000203747'\n",
      " 'ENSG00000163513' 'ENSG00000123358' 'ENSG00000137331' 'ENSG00000118971'\n",
      " 'ENSG00000177556' 'ENSG00000001167' 'ENSG00000068831' 'ENSG00000002586'\n",
      " 'ENSG00000166710' 'ENSG00000182117' 'ENSG00000170476' 'ENSG00000179094'\n",
      " 'ENSG00000164104' 'ENSG00000152700' 'ENSG00000100365' 'ENSG00000100906'\n",
      " 'ENSG00000156411' 'ENSG00000189067' 'ENSG00000159128' 'ENSG00000135046'\n",
      " 'ENSG00000004468' 'ENSG00000092820' 'ENSG00000131437' 'ENSG00000119535'\n",
      " 'ENSG00000152495' 'ENSG00000231389' 'ENSG00000121774' 'ENSG00000184007'\n",
      " 'ENSG00000171476' 'ENSG00000204472' 'ENSG00000242574' 'ENSG00000059728'\n",
      " 'ENSG00000143924' 'ENSG00000121316' 'ENSG00000197471' 'ENSG00000110324'\n",
      " 'ENSG00000244687' 'ENSG00000005844' 'ENSG00000175354' 'ENSG00000145675'\n",
      " 'ENSG00000152518' 'ENSG00000153064' 'ENSG00000026103' 'ENSG00000198668'\n",
      " 'ENSG00000185591' 'ENSG00000184752' 'ENSG00000158769' 'ENSG00000123268'\n",
      " 'ENSG00000105583' 'ENSG00000099958' 'ENSG00000103187' 'ENSG00000175482'\n",
      " 'ENSG00000175390' 'ENSG00000163131' 'ENSG00000075426' 'ENSG00000168389'\n",
      " 'ENSG00000121807' 'ENSG00000138036' 'ENSG00000102265' 'ENSG00000027697'\n",
      " 'ENSG00000142546' 'ENSG00000078596' 'ENSG00000108518' 'ENSG00000241106'\n",
      " 'ENSG00000112137' 'ENSG00000100368' 'ENSG00000147168' 'ENSG00000100292'\n",
      " 'ENSG00000154814' 'ENSG00000177721' 'ENSG00000110876' 'ENSG00000166681'\n",
      " 'ENSG00000183172' 'ENSG00000167004' 'ENSG00000178562' 'ENSG00000100485'\n",
      " 'ENSG00000089737' 'ENSG00000160932' 'ENSG00000160710' 'ENSG00000137193'\n",
      " 'ENSG00000164674' 'ENSG00000122862' 'ENSG00000197965' 'ENSG00000048462'\n",
      " 'ENSG00000182287' 'ENSG00000082074' 'ENSG00000170458' 'ENSG00000019582'\n",
      " 'ENSG00000100300' 'ENSG00000145649' 'ENSG00000161800']\n"
     ]
    }
   ],
   "source": [
    "if SEED != 'all':\n",
    "    gene_subset = np.load(here(f'03_downstream_analysis/08_gene_importance/xgboost_external_validation/shap_gene_selection/gene_subsets_{N_GENES}/{CELL_TYPE}_{SEED}.npy'), allow_pickle=True)\n",
    "    train_adata = train_adata[:,gene_subset]\n",
    "    print(gene_subset)\n",
    "elif SEED == 'all':\n",
    "    print('Using all genes')\n",
    "else:\n",
    "    raise ValueError()"
   ]
  },
  {
   "cell_type": "code",
   "execution_count": 8,
   "id": "e41cc208",
   "metadata": {
    "execution": {
     "iopub.execute_input": "2025-05-15T16:15:49.929414Z",
     "iopub.status.busy": "2025-05-15T16:15:49.928897Z",
     "iopub.status.idle": "2025-05-15T16:15:49.932862Z",
     "shell.execute_reply": "2025-05-15T16:15:49.932468Z"
    },
    "papermill": {
     "duration": 0.043744,
     "end_time": "2025-05-15T16:15:49.933821",
     "exception": false,
     "start_time": "2025-05-15T16:15:49.890077",
     "status": "completed"
    },
    "tags": []
   },
   "outputs": [
    {
     "data": {
      "text/plain": [
       "(542, 107)"
      ]
     },
     "execution_count": 8,
     "metadata": {},
     "output_type": "execute_result"
    }
   ],
   "source": [
    "train_adata.shape"
   ]
  },
  {
   "cell_type": "code",
   "execution_count": 9,
   "id": "0ada02f3",
   "metadata": {
    "execution": {
     "iopub.execute_input": "2025-05-15T16:15:49.950127Z",
     "iopub.status.busy": "2025-05-15T16:15:49.949635Z",
     "iopub.status.idle": "2025-05-15T16:15:49.954905Z",
     "shell.execute_reply": "2025-05-15T16:15:49.954414Z"
    },
    "papermill": {
     "duration": 0.013229,
     "end_time": "2025-05-15T16:15:49.955869",
     "exception": false,
     "start_time": "2025-05-15T16:15:49.942640",
     "status": "completed"
    },
    "tags": []
   },
   "outputs": [
    {
     "data": {
      "text/plain": [
       "['RA', 'COVID', 'healthy', 'HIV', 'cirrhosis', 'CD', 'SLE', 'sepsis']\n",
       "Categories (8, object): ['CD', 'COVID', 'HIV', 'RA', 'SLE', 'cirrhosis', 'healthy', 'sepsis']"
      ]
     },
     "execution_count": 9,
     "metadata": {},
     "output_type": "execute_result"
    }
   ],
   "source": [
    "train_adata.obs.disease.unique()"
   ]
  },
  {
   "cell_type": "code",
   "execution_count": 10,
   "id": "2c52babc",
   "metadata": {
    "execution": {
     "iopub.execute_input": "2025-05-15T16:15:49.991699Z",
     "iopub.status.busy": "2025-05-15T16:15:49.991039Z",
     "iopub.status.idle": "2025-05-15T16:15:49.997278Z",
     "shell.execute_reply": "2025-05-15T16:15:49.996881Z"
    },
    "papermill": {
     "duration": 0.014641,
     "end_time": "2025-05-15T16:15:49.998203",
     "exception": false,
     "start_time": "2025-05-15T16:15:49.983562",
     "status": "completed"
    },
    "tags": []
   },
   "outputs": [
    {
     "data": {
      "text/plain": [
       "['SCGT00val_I0364_T0', 'SCGT00val_I036019_T0', 'SCGT00val_I036028_T0', 'SCGT00val_I036024_T0', 'SCGT00val_I036016_T0', ..., '10XGenomics_10XHC2_T0', '10XGenomics_10XHC3_T0', '10XGenomics_10XHC5_T0', '10XGenomics_10XHC7_T0', '10XGenomics_10XHC8_T0']\n",
       "Length: 74\n",
       "Categories (74, object): ['10XGenomics_10XHC1_T0', '10XGenomics_10XHC2_T0', '10XGenomics_10XHC3_T0', '10XGenomics_10XHC4_T0', ..., 'Savage2021_BRISL6_T0', 'Savage2021_BRISL7_T0', 'Savage2021_PIDA_T0', 'Savage2021_PIDB_T0']"
      ]
     },
     "execution_count": 10,
     "metadata": {},
     "output_type": "execute_result"
    }
   ],
   "source": [
    "train_adata.obs.sampleID.unique()"
   ]
  },
  {
   "cell_type": "code",
   "execution_count": 11,
   "id": "80c797e5",
   "metadata": {
    "execution": {
     "iopub.execute_input": "2025-05-15T16:15:50.013198Z",
     "iopub.status.busy": "2025-05-15T16:15:50.012680Z",
     "iopub.status.idle": "2025-05-15T16:15:50.048892Z",
     "shell.execute_reply": "2025-05-15T16:15:50.048373Z"
    },
    "papermill": {
     "duration": 0.045141,
     "end_time": "2025-05-15T16:15:50.050268",
     "exception": false,
     "start_time": "2025-05-15T16:15:50.005127",
     "status": "completed"
    },
    "tags": []
   },
   "outputs": [],
   "source": [
    "all_idxs = np.arange(train_adata.obs.shape[0])\n",
    "left_out_splits = [s[1] for s in StratifiedGroupKFold(n_splits=N_SPLITS).split(all_idxs, train_adata.obs.disease, train_adata.obs.sampleID)]"
   ]
  },
  {
   "cell_type": "code",
   "execution_count": 12,
   "id": "239a8f11",
   "metadata": {
    "execution": {
     "iopub.execute_input": "2025-05-15T16:15:50.064102Z",
     "iopub.status.busy": "2025-05-15T16:15:50.063673Z",
     "iopub.status.idle": "2025-05-15T16:15:50.068009Z",
     "shell.execute_reply": "2025-05-15T16:15:50.067638Z"
    },
    "papermill": {
     "duration": 0.01225,
     "end_time": "2025-05-15T16:15:50.068968",
     "exception": false,
     "start_time": "2025-05-15T16:15:50.056718",
     "status": "completed"
    },
    "tags": []
   },
   "outputs": [
    {
     "data": {
      "text/plain": [
       "([0, 3, 4], 2, 1)"
      ]
     },
     "execution_count": 12,
     "metadata": {},
     "output_type": "execute_result"
    }
   ],
   "source": [
    "TRAIN_SPLIT_IDXS = [0,1,2,3,4]\n",
    "VAL_SPLIT_IDX = (TEST_SPLIT_IDX + 1) % 5\n",
    "TRAIN_SPLIT_IDXS.remove(TEST_SPLIT_IDX)\n",
    "TRAIN_SPLIT_IDXS.remove(VAL_SPLIT_IDX)\n",
    "TRAIN_SPLIT_IDXS, VAL_SPLIT_IDX, TEST_SPLIT_IDX"
   ]
  },
  {
   "cell_type": "code",
   "execution_count": 13,
   "id": "dd99f6ae",
   "metadata": {
    "execution": {
     "iopub.execute_input": "2025-05-15T16:15:50.084805Z",
     "iopub.status.busy": "2025-05-15T16:15:50.084214Z",
     "iopub.status.idle": "2025-05-15T16:15:50.087666Z",
     "shell.execute_reply": "2025-05-15T16:15:50.087203Z"
    },
    "papermill": {
     "duration": 0.01192,
     "end_time": "2025-05-15T16:15:50.088582",
     "exception": false,
     "start_time": "2025-05-15T16:15:50.076662",
     "status": "completed"
    },
    "tags": []
   },
   "outputs": [],
   "source": [
    "train_idxs = np.concatenate([left_out_splits[idx] for idx in TRAIN_SPLIT_IDXS])\n",
    "val_idxs = left_out_splits[VAL_SPLIT_IDX]\n",
    "test_idxs = left_out_splits[TEST_SPLIT_IDX]"
   ]
  },
  {
   "cell_type": "markdown",
   "id": "fe4df5ae",
   "metadata": {
    "papermill": {
     "duration": 0.006126,
     "end_time": "2025-05-15T16:15:50.110856",
     "exception": false,
     "start_time": "2025-05-15T16:15:50.104730",
     "status": "completed"
    },
    "tags": []
   },
   "source": [
    "### SUBSET DATASET INTO TRAIN/TEST/VAL SPLITS"
   ]
  },
  {
   "cell_type": "code",
   "execution_count": 14,
   "id": "62e61e80",
   "metadata": {
    "execution": {
     "iopub.execute_input": "2025-05-15T16:15:50.140802Z",
     "iopub.status.busy": "2025-05-15T16:15:50.140380Z",
     "iopub.status.idle": "2025-05-15T16:15:50.149267Z",
     "shell.execute_reply": "2025-05-15T16:15:50.148351Z"
    },
    "papermill": {
     "duration": 0.03277,
     "end_time": "2025-05-15T16:15:50.150219",
     "exception": false,
     "start_time": "2025-05-15T16:15:50.117449",
     "status": "completed"
    },
    "tags": []
   },
   "outputs": [
    {
     "data": {
      "text/plain": [
       "((333, 107), (107, 107), (102, 107))"
      ]
     },
     "execution_count": 14,
     "metadata": {},
     "output_type": "execute_result"
    }
   ],
   "source": [
    "X_train = train_adata.X[train_idxs]\n",
    "X_test = train_adata.X[test_idxs]\n",
    "X_val = train_adata.X[val_idxs]\n",
    "X_train.shape, X_test.shape, X_val.shape"
   ]
  },
  {
   "cell_type": "code",
   "execution_count": 15,
   "id": "65259f50",
   "metadata": {
    "execution": {
     "iopub.execute_input": "2025-05-15T16:15:50.204422Z",
     "iopub.status.busy": "2025-05-15T16:15:50.203959Z",
     "iopub.status.idle": "2025-05-15T16:15:50.210457Z",
     "shell.execute_reply": "2025-05-15T16:15:50.210019Z"
    },
    "papermill": {
     "duration": 0.054429,
     "end_time": "2025-05-15T16:15:50.211378",
     "exception": false,
     "start_time": "2025-05-15T16:15:50.156949",
     "status": "completed"
    },
    "tags": []
   },
   "outputs": [
    {
     "data": {
      "text/plain": [
       "((333,), (107,), (102,))"
      ]
     },
     "execution_count": 15,
     "metadata": {},
     "output_type": "execute_result"
    }
   ],
   "source": [
    "y_train = train_adata.obs.iloc[train_idxs].disease.values.astype(str)\n",
    "y_test = train_adata.obs.iloc[test_idxs].disease.values.astype(str)\n",
    "y_val = train_adata.obs.iloc[val_idxs].disease.values.astype(str)\n",
    "y_train.shape, y_test.shape, y_val.shape"
   ]
  },
  {
   "cell_type": "code",
   "execution_count": 16,
   "id": "dcf9de58",
   "metadata": {
    "execution": {
     "iopub.execute_input": "2025-05-15T16:15:50.226393Z",
     "iopub.status.busy": "2025-05-15T16:15:50.225850Z",
     "iopub.status.idle": "2025-05-15T16:15:50.229904Z",
     "shell.execute_reply": "2025-05-15T16:15:50.229518Z"
    },
    "papermill": {
     "duration": 0.012518,
     "end_time": "2025-05-15T16:15:50.230815",
     "exception": false,
     "start_time": "2025-05-15T16:15:50.218297",
     "status": "completed"
    },
    "tags": []
   },
   "outputs": [],
   "source": [
    "lenc = LabelEncoder()\n",
    "y_train_enc = lenc.fit_transform(y_train)\n",
    "y_val_enc = lenc.transform(y_val)\n",
    "y_test_enc = lenc.transform(y_test)"
   ]
  },
  {
   "cell_type": "markdown",
   "id": "050c0f0d",
   "metadata": {
    "papermill": {
     "duration": 0.026579,
     "end_time": "2025-05-15T16:15:50.267577",
     "exception": false,
     "start_time": "2025-05-15T16:15:50.240998",
     "status": "completed"
    },
    "tags": []
   },
   "source": [
    "### GENERATE F1 "
   ]
  },
  {
   "cell_type": "code",
   "execution_count": 17,
   "id": "146e1b28",
   "metadata": {
    "execution": {
     "iopub.execute_input": "2025-05-15T16:15:50.282480Z",
     "iopub.status.busy": "2025-05-15T16:15:50.282116Z",
     "iopub.status.idle": "2025-05-15T16:15:50.285117Z",
     "shell.execute_reply": "2025-05-15T16:15:50.284765Z"
    },
    "papermill": {
     "duration": 0.01165,
     "end_time": "2025-05-15T16:15:50.286008",
     "exception": false,
     "start_time": "2025-05-15T16:15:50.274358",
     "status": "completed"
    },
    "tags": []
   },
   "outputs": [],
   "source": [
    "def custom_f1_score(y_true, y_pred):\n",
    "    return -f1_score(y_true, y_pred.argmax(1), average='weighted')"
   ]
  },
  {
   "cell_type": "code",
   "execution_count": 18,
   "id": "9266f6c3",
   "metadata": {
    "execution": {
     "iopub.execute_input": "2025-05-15T16:15:50.318076Z",
     "iopub.status.busy": "2025-05-15T16:15:50.317839Z",
     "iopub.status.idle": "2025-05-15T16:15:50.322008Z",
     "shell.execute_reply": "2025-05-15T16:15:50.321677Z"
    },
    "papermill": {
     "duration": 0.030478,
     "end_time": "2025-05-15T16:15:50.322877",
     "exception": false,
     "start_time": "2025-05-15T16:15:50.292399",
     "status": "completed"
    },
    "tags": []
   },
   "outputs": [],
   "source": [
    "eval_metric=custom_f1_score\n",
    "eval_metric_name='custom_f1_score'\n",
    "\n",
    "def objective(trial):\n",
    "    params = {\n",
    "        'n_estimators': 1500,\n",
    "        'max_depth': trial.suggest_int('max_depth', 3, 20),\n",
    "        'min_child_weight': trial.suggest_int('min_child_weight', 1, 250),\n",
    "        'subsample': trial.suggest_float('subsample', 0.1, 1.0),\n",
    "        'colsample_bynode': trial.suggest_float('colsample_bynode', 0.1, 1.0),\n",
    "        'learning_rate': trial.suggest_float('learning_rate', 1e-3, 5e-1, log=True),\n",
    "    }\n",
    "    pruning_callback = optuna.integration.XGBoostPruningCallback(trial, f'validation_0-{eval_metric_name}')\n",
    "    es_callback = xgboost.callback.EarlyStopping(20, min_delta=0.001)\n",
    "    xgb = xgboost.XGBClassifier(\n",
    "        eval_metric=eval_metric,\n",
    "        callbacks=[pruning_callback, es_callback],\n",
    "        n_jobs=5,\n",
    "        **params\n",
    "    )\n",
    "    xgb.fit(\n",
    "        X_train, \n",
    "        y_train_enc, \n",
    "        verbose=0,\n",
    "        eval_set=[(X_val, y_val_enc)],\n",
    "    )\n",
    "    trial.set_user_attr('best_iteration', xgb.best_iteration)\n",
    "\n",
    "    return xgb.best_score"
   ]
  },
  {
   "cell_type": "code",
   "execution_count": 19,
   "id": "685afa51",
   "metadata": {
    "execution": {
     "iopub.execute_input": "2025-05-15T16:15:50.350800Z",
     "iopub.status.busy": "2025-05-15T16:15:50.350565Z",
     "iopub.status.idle": "2025-05-15T16:16:00.486844Z",
     "shell.execute_reply": "2025-05-15T16:16:00.486189Z"
    },
    "papermill": {
     "duration": 10.144091,
     "end_time": "2025-05-15T16:16:00.487844",
     "exception": false,
     "start_time": "2025-05-15T16:15:50.343753",
     "status": "completed"
    },
    "scrolled": true,
    "tags": []
   },
   "outputs": [
    {
     "name": "stderr",
     "output_type": "stream",
     "text": [
      "[I 2025-05-15 18:15:50,352] A new study created in memory with name: no-name-d241a90f-0db6-4180-bd36-651f8cc3e680\n"
     ]
    },
    {
     "name": "stderr",
     "output_type": "stream",
     "text": [
      "[I 2025-05-15 18:15:50,581] Trial 0 finished with value: -0.03313 and parameters: {'max_depth': 9, 'min_child_weight': 238, 'subsample': 0.7587945476302645, 'colsample_bynode': 0.6387926357773329, 'learning_rate': 0.0026368755339723046}. Best is trial 0 with value: -0.03313.\n"
     ]
    },
    {
     "name": "stderr",
     "output_type": "stream",
     "text": [
      "[I 2025-05-15 18:15:50,880] Trial 1 finished with value: -0.380695 and parameters: {'max_depth': 5, 'min_child_weight': 15, 'subsample': 0.8795585311974417, 'colsample_bynode': 0.6410035105688879, 'learning_rate': 0.08148293210105287}. Best is trial 1 with value: -0.380695.\n"
     ]
    },
    {
     "name": "stderr",
     "output_type": "stream",
     "text": [
      "[I 2025-05-15 18:15:51,042] Trial 2 finished with value: -0.03313 and parameters: {'max_depth': 3, 'min_child_weight': 243, 'subsample': 0.8491983767203796, 'colsample_bynode': 0.29110519961044856, 'learning_rate': 0.003095566460242371}. Best is trial 1 with value: -0.380695.\n"
     ]
    },
    {
     "name": "stderr",
     "output_type": "stream",
     "text": [
      "[I 2025-05-15 18:15:51,201] Trial 3 finished with value: -0.03313 and parameters: {'max_depth': 6, 'min_child_weight': 77, 'subsample': 0.5722807884690141, 'colsample_bynode': 0.48875051677790415, 'learning_rate': 0.006109683510122491}. Best is trial 1 with value: -0.380695.\n"
     ]
    },
    {
     "name": "stderr",
     "output_type": "stream",
     "text": [
      "[I 2025-05-15 18:15:51,371] Trial 4 finished with value: -0.03313 and parameters: {'max_depth': 14, 'min_child_weight': 35, 'subsample': 0.3629301836816964, 'colsample_bynode': 0.4297256589643226, 'learning_rate': 0.01701841881702917}. Best is trial 1 with value: -0.380695.\n"
     ]
    },
    {
     "name": "stderr",
     "output_type": "stream",
     "text": [
      "[I 2025-05-15 18:15:51,531] Trial 5 pruned. Trial was pruned at iteration 20.\n"
     ]
    },
    {
     "name": "stderr",
     "output_type": "stream",
     "text": [
      "[I 2025-05-15 18:15:51,694] Trial 6 pruned. Trial was pruned at iteration 20.\n"
     ]
    },
    {
     "name": "stderr",
     "output_type": "stream",
     "text": [
      "[I 2025-05-15 18:15:51,845] Trial 7 pruned. Trial was pruned at iteration 20.\n"
     ]
    },
    {
     "name": "stderr",
     "output_type": "stream",
     "text": [
      "[I 2025-05-15 18:15:52,015] Trial 8 pruned. Trial was pruned at iteration 20.\n"
     ]
    },
    {
     "name": "stderr",
     "output_type": "stream",
     "text": [
      "[I 2025-05-15 18:15:52,173] Trial 9 finished with value: -0.03313 and parameters: {'max_depth': 14, 'min_child_weight': 78, 'subsample': 0.5680612190600297, 'colsample_bynode': 0.5920392514089517, 'learning_rate': 0.0031543990308330965}. Best is trial 1 with value: -0.380695.\n"
     ]
    },
    {
     "name": "stderr",
     "output_type": "stream",
     "text": [
      "[I 2025-05-15 18:15:52,491] Trial 10 pruned. Trial was pruned at iteration 21.\n"
     ]
    },
    {
     "name": "stderr",
     "output_type": "stream",
     "text": [
      "[I 2025-05-15 18:15:52,729] Trial 11 pruned. Trial was pruned at iteration 20.\n"
     ]
    },
    {
     "name": "stderr",
     "output_type": "stream",
     "text": [
      "[I 2025-05-15 18:15:52,925] Trial 12 finished with value: -0.03313 and parameters: {'max_depth': 9, 'min_child_weight': 187, 'subsample': 0.7810886706853567, 'colsample_bynode': 0.7908156974794198, 'learning_rate': 0.0852514223226423}. Best is trial 1 with value: -0.380695.\n"
     ]
    },
    {
     "name": "stderr",
     "output_type": "stream",
     "text": [
      "[I 2025-05-15 18:15:53,102] Trial 13 pruned. Trial was pruned at iteration 20.\n"
     ]
    },
    {
     "name": "stderr",
     "output_type": "stream",
     "text": [
      "[I 2025-05-15 18:15:53,278] Trial 14 pruned. Trial was pruned at iteration 20.\n"
     ]
    },
    {
     "name": "stderr",
     "output_type": "stream",
     "text": [
      "[I 2025-05-15 18:15:53,477] Trial 15 pruned. Trial was pruned at iteration 20.\n"
     ]
    },
    {
     "name": "stderr",
     "output_type": "stream",
     "text": [
      "[I 2025-05-15 18:15:53,674] Trial 16 pruned. Trial was pruned at iteration 20.\n"
     ]
    },
    {
     "name": "stderr",
     "output_type": "stream",
     "text": [
      "[I 2025-05-15 18:15:53,965] Trial 17 pruned. Trial was pruned at iteration 21.\n"
     ]
    },
    {
     "name": "stderr",
     "output_type": "stream",
     "text": [
      "[I 2025-05-15 18:15:54,155] Trial 18 finished with value: -0.03313 and parameters: {'max_depth': 12, 'min_child_weight': 156, 'subsample': 0.8964450909290851, 'colsample_bynode': 0.24900065324684006, 'learning_rate': 0.03544069195285818}. Best is trial 1 with value: -0.380695.\n"
     ]
    },
    {
     "name": "stderr",
     "output_type": "stream",
     "text": [
      "[I 2025-05-15 18:15:54,350] Trial 19 finished with value: -0.03313 and parameters: {'max_depth': 3, 'min_child_weight': 213, 'subsample': 0.6729427260151626, 'colsample_bynode': 0.436579935167426, 'learning_rate': 0.15796261807789636}. Best is trial 1 with value: -0.380695.\n"
     ]
    },
    {
     "name": "stderr",
     "output_type": "stream",
     "text": [
      "[I 2025-05-15 18:15:54,538] Trial 20 finished with value: -0.03313 and parameters: {'max_depth': 6, 'min_child_weight': 108, 'subsample': 0.9267723049850893, 'colsample_bynode': 0.8638570884100472, 'learning_rate': 0.0018743644531145694}. Best is trial 1 with value: -0.380695.\n"
     ]
    },
    {
     "name": "stderr",
     "output_type": "stream",
     "text": [
      "[I 2025-05-15 18:15:54,721] Trial 21 finished with value: -0.03313 and parameters: {'max_depth': 3, 'min_child_weight': 243, 'subsample': 0.8381380797607554, 'colsample_bynode': 0.2936648591260932, 'learning_rate': 0.0028697910354236454}. Best is trial 1 with value: -0.380695.\n"
     ]
    },
    {
     "name": "stderr",
     "output_type": "stream",
     "text": [
      "[I 2025-05-15 18:15:54,906] Trial 22 pruned. Trial was pruned at iteration 20.\n"
     ]
    },
    {
     "name": "stderr",
     "output_type": "stream",
     "text": [
      "[I 2025-05-15 18:15:55,083] Trial 23 finished with value: -0.03313 and parameters: {'max_depth': 6, 'min_child_weight': 232, 'subsample': 0.6638310221964546, 'colsample_bynode': 0.566298809027901, 'learning_rate': 0.0027719217784443364}. Best is trial 1 with value: -0.380695.\n"
     ]
    },
    {
     "name": "stderr",
     "output_type": "stream",
     "text": [
      "[I 2025-05-15 18:15:55,267] Trial 24 pruned. Trial was pruned at iteration 20.\n"
     ]
    },
    {
     "name": "stderr",
     "output_type": "stream",
     "text": [
      "[I 2025-05-15 18:15:55,464] Trial 25 finished with value: -0.03313 and parameters: {'max_depth': 5, 'min_child_weight': 169, 'subsample': 0.7535701176502512, 'colsample_bynode': 0.6875962023752984, 'learning_rate': 0.001751366603937793}. Best is trial 1 with value: -0.380695.\n"
     ]
    },
    {
     "name": "stderr",
     "output_type": "stream",
     "text": [
      "[I 2025-05-15 18:15:55,655] Trial 26 finished with value: -0.03313 and parameters: {'max_depth': 8, 'min_child_weight': 102, 'subsample': 0.4415145059632183, 'colsample_bynode': 0.5054559356236007, 'learning_rate': 0.009981136121838687}. Best is trial 1 with value: -0.380695.\n"
     ]
    },
    {
     "name": "stderr",
     "output_type": "stream",
     "text": [
      "[I 2025-05-15 18:15:55,833] Trial 27 pruned. Trial was pruned at iteration 20.\n"
     ]
    },
    {
     "name": "stderr",
     "output_type": "stream",
     "text": [
      "[I 2025-05-15 18:15:56,030] Trial 28 finished with value: -0.03313 and parameters: {'max_depth': 7, 'min_child_weight': 196, 'subsample': 0.9395802867292293, 'colsample_bynode': 0.10419856137301844, 'learning_rate': 0.12287823020042174}. Best is trial 1 with value: -0.380695.\n"
     ]
    },
    {
     "name": "stderr",
     "output_type": "stream",
     "text": [
      "[I 2025-05-15 18:15:56,231] Trial 29 finished with value: -0.03313 and parameters: {'max_depth': 5, 'min_child_weight': 146, 'subsample': 0.6524726734756583, 'colsample_bynode': 0.46569851971471055, 'learning_rate': 0.040578771578418715}. Best is trial 1 with value: -0.380695.\n"
     ]
    },
    {
     "name": "stderr",
     "output_type": "stream",
     "text": [
      "[I 2025-05-15 18:15:56,420] Trial 30 finished with value: -0.03313 and parameters: {'max_depth': 10, 'min_child_weight': 224, 'subsample': 0.48408877480742074, 'colsample_bynode': 0.6525741718054756, 'learning_rate': 0.006846398548333891}. Best is trial 1 with value: -0.380695.\n"
     ]
    },
    {
     "name": "stderr",
     "output_type": "stream",
     "text": [
      "[I 2025-05-15 18:15:56,602] Trial 31 pruned. Trial was pruned at iteration 20.\n"
     ]
    },
    {
     "name": "stderr",
     "output_type": "stream",
     "text": [
      "[I 2025-05-15 18:15:56,794] Trial 32 finished with value: -0.03313 and parameters: {'max_depth': 6, 'min_child_weight': 60, 'subsample': 0.5834577711765219, 'colsample_bynode': 0.40083156791272617, 'learning_rate': 0.005060185098022239}. Best is trial 1 with value: -0.380695.\n"
     ]
    },
    {
     "name": "stderr",
     "output_type": "stream",
     "text": [
      "[I 2025-05-15 18:15:56,977] Trial 33 pruned. Trial was pruned at iteration 20.\n"
     ]
    },
    {
     "name": "stderr",
     "output_type": "stream",
     "text": [
      "[I 2025-05-15 18:15:57,193] Trial 34 pruned. Trial was pruned at iteration 21.\n"
     ]
    },
    {
     "name": "stderr",
     "output_type": "stream",
     "text": [
      "[I 2025-05-15 18:15:57,386] Trial 35 finished with value: -0.03313 and parameters: {'max_depth': 8, 'min_child_weight': 67, 'subsample': 0.25992606568933424, 'colsample_bynode': 0.20954316801415385, 'learning_rate': 0.011604009666148192}. Best is trial 1 with value: -0.380695.\n"
     ]
    },
    {
     "name": "stderr",
     "output_type": "stream",
     "text": [
      "[I 2025-05-15 18:15:57,581] Trial 36 pruned. Trial was pruned at iteration 20.\n"
     ]
    },
    {
     "name": "stderr",
     "output_type": "stream",
     "text": [
      "[I 2025-05-15 18:15:57,785] Trial 37 finished with value: -0.166667 and parameters: {'max_depth': 6, 'min_child_weight': 48, 'subsample': 0.8684763001584302, 'colsample_bynode': 0.578575626820173, 'learning_rate': 0.006204213037388781}. Best is trial 1 with value: -0.380695.\n"
     ]
    },
    {
     "name": "stderr",
     "output_type": "stream",
     "text": [
      "[I 2025-05-15 18:15:58,053] Trial 38 pruned. Trial was pruned at iteration 21.\n"
     ]
    },
    {
     "name": "stderr",
     "output_type": "stream",
     "text": [
      "[I 2025-05-15 18:15:58,261] Trial 39 pruned. Trial was pruned at iteration 20.\n"
     ]
    },
    {
     "name": "stderr",
     "output_type": "stream",
     "text": [
      "[I 2025-05-15 18:15:58,465] Trial 40 pruned. Trial was pruned at iteration 20.\n"
     ]
    },
    {
     "name": "stderr",
     "output_type": "stream",
     "text": [
      "[I 2025-05-15 18:15:58,662] Trial 41 finished with value: -0.166667 and parameters: {'max_depth': 6, 'min_child_weight': 35, 'subsample': 0.8886576736597617, 'colsample_bynode': 0.6654175117061055, 'learning_rate': 0.006558172407558822}. Best is trial 1 with value: -0.380695.\n"
     ]
    },
    {
     "name": "stderr",
     "output_type": "stream",
     "text": [
      "[I 2025-05-15 18:15:58,866] Trial 42 pruned. Trial was pruned at iteration 21.\n"
     ]
    },
    {
     "name": "stderr",
     "output_type": "stream",
     "text": [
      "[I 2025-05-15 18:15:59,166] Trial 43 pruned. Trial was pruned at iteration 21.\n"
     ]
    },
    {
     "name": "stderr",
     "output_type": "stream",
     "text": [
      "[I 2025-05-15 18:15:59,372] Trial 44 finished with value: -0.03313 and parameters: {'max_depth': 3, 'min_child_weight': 85, 'subsample': 0.7312364629055971, 'colsample_bynode': 0.5741170551172763, 'learning_rate': 0.007253164084942548}. Best is trial 1 with value: -0.380695.\n"
     ]
    },
    {
     "name": "stderr",
     "output_type": "stream",
     "text": [
      "[I 2025-05-15 18:15:59,567] Trial 45 finished with value: -0.166667 and parameters: {'max_depth': 8, 'min_child_weight': 44, 'subsample': 0.8623962876994249, 'colsample_bynode': 0.7253162284337538, 'learning_rate': 0.013004335508739145}. Best is trial 1 with value: -0.380695.\n"
     ]
    },
    {
     "name": "stderr",
     "output_type": "stream",
     "text": [
      "[I 2025-05-15 18:15:59,776] Trial 46 finished with value: -0.166667 and parameters: {'max_depth': 10, 'min_child_weight': 45, 'subsample': 0.8872164286092153, 'colsample_bynode': 0.7685938249147609, 'learning_rate': 0.014792674585713381}. Best is trial 1 with value: -0.380695.\n"
     ]
    },
    {
     "name": "stderr",
     "output_type": "stream",
     "text": [
      "[I 2025-05-15 18:15:59,982] Trial 47 finished with value: -0.166667 and parameters: {'max_depth': 10, 'min_child_weight': 49, 'subsample': 0.877317729274746, 'colsample_bynode': 0.8015482936351582, 'learning_rate': 0.025630302421001623}. Best is trial 1 with value: -0.380695.\n"
     ]
    },
    {
     "name": "stderr",
     "output_type": "stream",
     "text": [
      "[I 2025-05-15 18:16:00,188] Trial 48 finished with value: -0.03313 and parameters: {'max_depth': 8, 'min_child_weight': 66, 'subsample': 0.8296393795631449, 'colsample_bynode': 0.9405953289962911, 'learning_rate': 0.020006198695249465}. Best is trial 1 with value: -0.380695.\n"
     ]
    },
    {
     "name": "stderr",
     "output_type": "stream",
     "text": [
      "[I 2025-05-15 18:16:00,390] Trial 49 pruned. Trial was pruned at iteration 20.\n"
     ]
    }
   ],
   "source": [
    "sampler = optuna.samplers.TPESampler(seed=42)\n",
    "study = optuna.create_study(direction='minimize', sampler=sampler)\n",
    "study.optimize(objective, n_trials=N_TRIALS, gc_after_trial=True)"
   ]
  },
  {
   "cell_type": "code",
   "execution_count": 20,
   "id": "5ca46a31",
   "metadata": {
    "execution": {
     "iopub.execute_input": "2025-05-15T16:16:00.515392Z",
     "iopub.status.busy": "2025-05-15T16:16:00.515177Z",
     "iopub.status.idle": "2025-05-15T16:16:00.538118Z",
     "shell.execute_reply": "2025-05-15T16:16:00.537778Z"
    },
    "papermill": {
     "duration": 0.033296,
     "end_time": "2025-05-15T16:16:00.539010",
     "exception": false,
     "start_time": "2025-05-15T16:16:00.505714",
     "status": "completed"
    },
    "tags": []
   },
   "outputs": [
    {
     "data": {
      "text/plain": [
       "['/scratch_isilon/groups/singlecell/shared/projects/Inflammation-PBMCs-Atlas/03_downstream_analysis/08_gene_importance/xgboost_external_validation/xgboost_TopN_genes/results_20/study/Plasma_16_1_xgboost.pkl']"
      ]
     },
     "execution_count": 20,
     "metadata": {},
     "output_type": "execute_result"
    }
   ],
   "source": [
    "out_dir = here(f'03_downstream_analysis/08_gene_importance/xgboost_external_validation/xgboost_TopN_genes/results_{N_GENES}/study')\n",
    "\n",
    "if not os.path.exists(out_dir):\n",
    "    os.makedirs(out_dir)\n",
    "    \n",
    "joblib.dump(study,os.path.join(out_dir, f'{CELL_TYPE}_{SEED}_{TEST_SPLIT_IDX}_xgboost.pkl'))"
   ]
  },
  {
   "cell_type": "code",
   "execution_count": 21,
   "id": "ea8d710a",
   "metadata": {
    "execution": {
     "iopub.execute_input": "2025-05-15T16:16:00.638359Z",
     "iopub.status.busy": "2025-05-15T16:16:00.638042Z",
     "iopub.status.idle": "2025-05-15T16:16:00.713485Z",
     "shell.execute_reply": "2025-05-15T16:16:00.713125Z"
    },
    "papermill": {
     "duration": 0.158365,
     "end_time": "2025-05-15T16:16:00.714435",
     "exception": false,
     "start_time": "2025-05-15T16:16:00.556070",
     "status": "completed"
    },
    "tags": []
   },
   "outputs": [
    {
     "data": {
      "text/html": [
       "<style>#sk-container-id-1 {\n",
       "  /* Definition of color scheme common for light and dark mode */\n",
       "  --sklearn-color-text: black;\n",
       "  --sklearn-color-line: gray;\n",
       "  /* Definition of color scheme for unfitted estimators */\n",
       "  --sklearn-color-unfitted-level-0: #fff5e6;\n",
       "  --sklearn-color-unfitted-level-1: #f6e4d2;\n",
       "  --sklearn-color-unfitted-level-2: #ffe0b3;\n",
       "  --sklearn-color-unfitted-level-3: chocolate;\n",
       "  /* Definition of color scheme for fitted estimators */\n",
       "  --sklearn-color-fitted-level-0: #f0f8ff;\n",
       "  --sklearn-color-fitted-level-1: #d4ebff;\n",
       "  --sklearn-color-fitted-level-2: #b3dbfd;\n",
       "  --sklearn-color-fitted-level-3: cornflowerblue;\n",
       "\n",
       "  /* Specific color for light theme */\n",
       "  --sklearn-color-text-on-default-background: var(--sg-text-color, var(--theme-code-foreground, var(--jp-content-font-color1, black)));\n",
       "  --sklearn-color-background: var(--sg-background-color, var(--theme-background, var(--jp-layout-color0, white)));\n",
       "  --sklearn-color-border-box: var(--sg-text-color, var(--theme-code-foreground, var(--jp-content-font-color1, black)));\n",
       "  --sklearn-color-icon: #696969;\n",
       "\n",
       "  @media (prefers-color-scheme: dark) {\n",
       "    /* Redefinition of color scheme for dark theme */\n",
       "    --sklearn-color-text-on-default-background: var(--sg-text-color, var(--theme-code-foreground, var(--jp-content-font-color1, white)));\n",
       "    --sklearn-color-background: var(--sg-background-color, var(--theme-background, var(--jp-layout-color0, #111)));\n",
       "    --sklearn-color-border-box: var(--sg-text-color, var(--theme-code-foreground, var(--jp-content-font-color1, white)));\n",
       "    --sklearn-color-icon: #878787;\n",
       "  }\n",
       "}\n",
       "\n",
       "#sk-container-id-1 {\n",
       "  color: var(--sklearn-color-text);\n",
       "}\n",
       "\n",
       "#sk-container-id-1 pre {\n",
       "  padding: 0;\n",
       "}\n",
       "\n",
       "#sk-container-id-1 input.sk-hidden--visually {\n",
       "  border: 0;\n",
       "  clip: rect(1px 1px 1px 1px);\n",
       "  clip: rect(1px, 1px, 1px, 1px);\n",
       "  height: 1px;\n",
       "  margin: -1px;\n",
       "  overflow: hidden;\n",
       "  padding: 0;\n",
       "  position: absolute;\n",
       "  width: 1px;\n",
       "}\n",
       "\n",
       "#sk-container-id-1 div.sk-dashed-wrapped {\n",
       "  border: 1px dashed var(--sklearn-color-line);\n",
       "  margin: 0 0.4em 0.5em 0.4em;\n",
       "  box-sizing: border-box;\n",
       "  padding-bottom: 0.4em;\n",
       "  background-color: var(--sklearn-color-background);\n",
       "}\n",
       "\n",
       "#sk-container-id-1 div.sk-container {\n",
       "  /* jupyter's `normalize.less` sets `[hidden] { display: none; }`\n",
       "     but bootstrap.min.css set `[hidden] { display: none !important; }`\n",
       "     so we also need the `!important` here to be able to override the\n",
       "     default hidden behavior on the sphinx rendered scikit-learn.org.\n",
       "     See: https://github.com/scikit-learn/scikit-learn/issues/21755 */\n",
       "  display: inline-block !important;\n",
       "  position: relative;\n",
       "}\n",
       "\n",
       "#sk-container-id-1 div.sk-text-repr-fallback {\n",
       "  display: none;\n",
       "}\n",
       "\n",
       "div.sk-parallel-item,\n",
       "div.sk-serial,\n",
       "div.sk-item {\n",
       "  /* draw centered vertical line to link estimators */\n",
       "  background-image: linear-gradient(var(--sklearn-color-text-on-default-background), var(--sklearn-color-text-on-default-background));\n",
       "  background-size: 2px 100%;\n",
       "  background-repeat: no-repeat;\n",
       "  background-position: center center;\n",
       "}\n",
       "\n",
       "/* Parallel-specific style estimator block */\n",
       "\n",
       "#sk-container-id-1 div.sk-parallel-item::after {\n",
       "  content: \"\";\n",
       "  width: 100%;\n",
       "  border-bottom: 2px solid var(--sklearn-color-text-on-default-background);\n",
       "  flex-grow: 1;\n",
       "}\n",
       "\n",
       "#sk-container-id-1 div.sk-parallel {\n",
       "  display: flex;\n",
       "  align-items: stretch;\n",
       "  justify-content: center;\n",
       "  background-color: var(--sklearn-color-background);\n",
       "  position: relative;\n",
       "}\n",
       "\n",
       "#sk-container-id-1 div.sk-parallel-item {\n",
       "  display: flex;\n",
       "  flex-direction: column;\n",
       "}\n",
       "\n",
       "#sk-container-id-1 div.sk-parallel-item:first-child::after {\n",
       "  align-self: flex-end;\n",
       "  width: 50%;\n",
       "}\n",
       "\n",
       "#sk-container-id-1 div.sk-parallel-item:last-child::after {\n",
       "  align-self: flex-start;\n",
       "  width: 50%;\n",
       "}\n",
       "\n",
       "#sk-container-id-1 div.sk-parallel-item:only-child::after {\n",
       "  width: 0;\n",
       "}\n",
       "\n",
       "/* Serial-specific style estimator block */\n",
       "\n",
       "#sk-container-id-1 div.sk-serial {\n",
       "  display: flex;\n",
       "  flex-direction: column;\n",
       "  align-items: center;\n",
       "  background-color: var(--sklearn-color-background);\n",
       "  padding-right: 1em;\n",
       "  padding-left: 1em;\n",
       "}\n",
       "\n",
       "\n",
       "/* Toggleable style: style used for estimator/Pipeline/ColumnTransformer box that is\n",
       "clickable and can be expanded/collapsed.\n",
       "- Pipeline and ColumnTransformer use this feature and define the default style\n",
       "- Estimators will overwrite some part of the style using the `sk-estimator` class\n",
       "*/\n",
       "\n",
       "/* Pipeline and ColumnTransformer style (default) */\n",
       "\n",
       "#sk-container-id-1 div.sk-toggleable {\n",
       "  /* Default theme specific background. It is overwritten whether we have a\n",
       "  specific estimator or a Pipeline/ColumnTransformer */\n",
       "  background-color: var(--sklearn-color-background);\n",
       "}\n",
       "\n",
       "/* Toggleable label */\n",
       "#sk-container-id-1 label.sk-toggleable__label {\n",
       "  cursor: pointer;\n",
       "  display: block;\n",
       "  width: 100%;\n",
       "  margin-bottom: 0;\n",
       "  padding: 0.5em;\n",
       "  box-sizing: border-box;\n",
       "  text-align: center;\n",
       "}\n",
       "\n",
       "#sk-container-id-1 label.sk-toggleable__label-arrow:before {\n",
       "  /* Arrow on the left of the label */\n",
       "  content: \"▸\";\n",
       "  float: left;\n",
       "  margin-right: 0.25em;\n",
       "  color: var(--sklearn-color-icon);\n",
       "}\n",
       "\n",
       "#sk-container-id-1 label.sk-toggleable__label-arrow:hover:before {\n",
       "  color: var(--sklearn-color-text);\n",
       "}\n",
       "\n",
       "/* Toggleable content - dropdown */\n",
       "\n",
       "#sk-container-id-1 div.sk-toggleable__content {\n",
       "  max-height: 0;\n",
       "  max-width: 0;\n",
       "  overflow: hidden;\n",
       "  text-align: left;\n",
       "  /* unfitted */\n",
       "  background-color: var(--sklearn-color-unfitted-level-0);\n",
       "}\n",
       "\n",
       "#sk-container-id-1 div.sk-toggleable__content.fitted {\n",
       "  /* fitted */\n",
       "  background-color: var(--sklearn-color-fitted-level-0);\n",
       "}\n",
       "\n",
       "#sk-container-id-1 div.sk-toggleable__content pre {\n",
       "  margin: 0.2em;\n",
       "  border-radius: 0.25em;\n",
       "  color: var(--sklearn-color-text);\n",
       "  /* unfitted */\n",
       "  background-color: var(--sklearn-color-unfitted-level-0);\n",
       "}\n",
       "\n",
       "#sk-container-id-1 div.sk-toggleable__content.fitted pre {\n",
       "  /* unfitted */\n",
       "  background-color: var(--sklearn-color-fitted-level-0);\n",
       "}\n",
       "\n",
       "#sk-container-id-1 input.sk-toggleable__control:checked~div.sk-toggleable__content {\n",
       "  /* Expand drop-down */\n",
       "  max-height: 200px;\n",
       "  max-width: 100%;\n",
       "  overflow: auto;\n",
       "}\n",
       "\n",
       "#sk-container-id-1 input.sk-toggleable__control:checked~label.sk-toggleable__label-arrow:before {\n",
       "  content: \"▾\";\n",
       "}\n",
       "\n",
       "/* Pipeline/ColumnTransformer-specific style */\n",
       "\n",
       "#sk-container-id-1 div.sk-label input.sk-toggleable__control:checked~label.sk-toggleable__label {\n",
       "  color: var(--sklearn-color-text);\n",
       "  background-color: var(--sklearn-color-unfitted-level-2);\n",
       "}\n",
       "\n",
       "#sk-container-id-1 div.sk-label.fitted input.sk-toggleable__control:checked~label.sk-toggleable__label {\n",
       "  background-color: var(--sklearn-color-fitted-level-2);\n",
       "}\n",
       "\n",
       "/* Estimator-specific style */\n",
       "\n",
       "/* Colorize estimator box */\n",
       "#sk-container-id-1 div.sk-estimator input.sk-toggleable__control:checked~label.sk-toggleable__label {\n",
       "  /* unfitted */\n",
       "  background-color: var(--sklearn-color-unfitted-level-2);\n",
       "}\n",
       "\n",
       "#sk-container-id-1 div.sk-estimator.fitted input.sk-toggleable__control:checked~label.sk-toggleable__label {\n",
       "  /* fitted */\n",
       "  background-color: var(--sklearn-color-fitted-level-2);\n",
       "}\n",
       "\n",
       "#sk-container-id-1 div.sk-label label.sk-toggleable__label,\n",
       "#sk-container-id-1 div.sk-label label {\n",
       "  /* The background is the default theme color */\n",
       "  color: var(--sklearn-color-text-on-default-background);\n",
       "}\n",
       "\n",
       "/* On hover, darken the color of the background */\n",
       "#sk-container-id-1 div.sk-label:hover label.sk-toggleable__label {\n",
       "  color: var(--sklearn-color-text);\n",
       "  background-color: var(--sklearn-color-unfitted-level-2);\n",
       "}\n",
       "\n",
       "/* Label box, darken color on hover, fitted */\n",
       "#sk-container-id-1 div.sk-label.fitted:hover label.sk-toggleable__label.fitted {\n",
       "  color: var(--sklearn-color-text);\n",
       "  background-color: var(--sklearn-color-fitted-level-2);\n",
       "}\n",
       "\n",
       "/* Estimator label */\n",
       "\n",
       "#sk-container-id-1 div.sk-label label {\n",
       "  font-family: monospace;\n",
       "  font-weight: bold;\n",
       "  display: inline-block;\n",
       "  line-height: 1.2em;\n",
       "}\n",
       "\n",
       "#sk-container-id-1 div.sk-label-container {\n",
       "  text-align: center;\n",
       "}\n",
       "\n",
       "/* Estimator-specific */\n",
       "#sk-container-id-1 div.sk-estimator {\n",
       "  font-family: monospace;\n",
       "  border: 1px dotted var(--sklearn-color-border-box);\n",
       "  border-radius: 0.25em;\n",
       "  box-sizing: border-box;\n",
       "  margin-bottom: 0.5em;\n",
       "  /* unfitted */\n",
       "  background-color: var(--sklearn-color-unfitted-level-0);\n",
       "}\n",
       "\n",
       "#sk-container-id-1 div.sk-estimator.fitted {\n",
       "  /* fitted */\n",
       "  background-color: var(--sklearn-color-fitted-level-0);\n",
       "}\n",
       "\n",
       "/* on hover */\n",
       "#sk-container-id-1 div.sk-estimator:hover {\n",
       "  /* unfitted */\n",
       "  background-color: var(--sklearn-color-unfitted-level-2);\n",
       "}\n",
       "\n",
       "#sk-container-id-1 div.sk-estimator.fitted:hover {\n",
       "  /* fitted */\n",
       "  background-color: var(--sklearn-color-fitted-level-2);\n",
       "}\n",
       "\n",
       "/* Specification for estimator info (e.g. \"i\" and \"?\") */\n",
       "\n",
       "/* Common style for \"i\" and \"?\" */\n",
       "\n",
       ".sk-estimator-doc-link,\n",
       "a:link.sk-estimator-doc-link,\n",
       "a:visited.sk-estimator-doc-link {\n",
       "  float: right;\n",
       "  font-size: smaller;\n",
       "  line-height: 1em;\n",
       "  font-family: monospace;\n",
       "  background-color: var(--sklearn-color-background);\n",
       "  border-radius: 1em;\n",
       "  height: 1em;\n",
       "  width: 1em;\n",
       "  text-decoration: none !important;\n",
       "  margin-left: 1ex;\n",
       "  /* unfitted */\n",
       "  border: var(--sklearn-color-unfitted-level-1) 1pt solid;\n",
       "  color: var(--sklearn-color-unfitted-level-1);\n",
       "}\n",
       "\n",
       ".sk-estimator-doc-link.fitted,\n",
       "a:link.sk-estimator-doc-link.fitted,\n",
       "a:visited.sk-estimator-doc-link.fitted {\n",
       "  /* fitted */\n",
       "  border: var(--sklearn-color-fitted-level-1) 1pt solid;\n",
       "  color: var(--sklearn-color-fitted-level-1);\n",
       "}\n",
       "\n",
       "/* On hover */\n",
       "div.sk-estimator:hover .sk-estimator-doc-link:hover,\n",
       ".sk-estimator-doc-link:hover,\n",
       "div.sk-label-container:hover .sk-estimator-doc-link:hover,\n",
       ".sk-estimator-doc-link:hover {\n",
       "  /* unfitted */\n",
       "  background-color: var(--sklearn-color-unfitted-level-3);\n",
       "  color: var(--sklearn-color-background);\n",
       "  text-decoration: none;\n",
       "}\n",
       "\n",
       "div.sk-estimator.fitted:hover .sk-estimator-doc-link.fitted:hover,\n",
       ".sk-estimator-doc-link.fitted:hover,\n",
       "div.sk-label-container:hover .sk-estimator-doc-link.fitted:hover,\n",
       ".sk-estimator-doc-link.fitted:hover {\n",
       "  /* fitted */\n",
       "  background-color: var(--sklearn-color-fitted-level-3);\n",
       "  color: var(--sklearn-color-background);\n",
       "  text-decoration: none;\n",
       "}\n",
       "\n",
       "/* Span, style for the box shown on hovering the info icon */\n",
       ".sk-estimator-doc-link span {\n",
       "  display: none;\n",
       "  z-index: 9999;\n",
       "  position: relative;\n",
       "  font-weight: normal;\n",
       "  right: .2ex;\n",
       "  padding: .5ex;\n",
       "  margin: .5ex;\n",
       "  width: min-content;\n",
       "  min-width: 20ex;\n",
       "  max-width: 50ex;\n",
       "  color: var(--sklearn-color-text);\n",
       "  box-shadow: 2pt 2pt 4pt #999;\n",
       "  /* unfitted */\n",
       "  background: var(--sklearn-color-unfitted-level-0);\n",
       "  border: .5pt solid var(--sklearn-color-unfitted-level-3);\n",
       "}\n",
       "\n",
       ".sk-estimator-doc-link.fitted span {\n",
       "  /* fitted */\n",
       "  background: var(--sklearn-color-fitted-level-0);\n",
       "  border: var(--sklearn-color-fitted-level-3);\n",
       "}\n",
       "\n",
       ".sk-estimator-doc-link:hover span {\n",
       "  display: block;\n",
       "}\n",
       "\n",
       "/* \"?\"-specific style due to the `<a>` HTML tag */\n",
       "\n",
       "#sk-container-id-1 a.estimator_doc_link {\n",
       "  float: right;\n",
       "  font-size: 1rem;\n",
       "  line-height: 1em;\n",
       "  font-family: monospace;\n",
       "  background-color: var(--sklearn-color-background);\n",
       "  border-radius: 1rem;\n",
       "  height: 1rem;\n",
       "  width: 1rem;\n",
       "  text-decoration: none;\n",
       "  /* unfitted */\n",
       "  color: var(--sklearn-color-unfitted-level-1);\n",
       "  border: var(--sklearn-color-unfitted-level-1) 1pt solid;\n",
       "}\n",
       "\n",
       "#sk-container-id-1 a.estimator_doc_link.fitted {\n",
       "  /* fitted */\n",
       "  border: var(--sklearn-color-fitted-level-1) 1pt solid;\n",
       "  color: var(--sklearn-color-fitted-level-1);\n",
       "}\n",
       "\n",
       "/* On hover */\n",
       "#sk-container-id-1 a.estimator_doc_link:hover {\n",
       "  /* unfitted */\n",
       "  background-color: var(--sklearn-color-unfitted-level-3);\n",
       "  color: var(--sklearn-color-background);\n",
       "  text-decoration: none;\n",
       "}\n",
       "\n",
       "#sk-container-id-1 a.estimator_doc_link.fitted:hover {\n",
       "  /* fitted */\n",
       "  background-color: var(--sklearn-color-fitted-level-3);\n",
       "}\n",
       "</style><div id=\"sk-container-id-1\" class=\"sk-top-container\"><div class=\"sk-text-repr-fallback\"><pre>XGBClassifier(base_score=None, booster=None, callbacks=None,\n",
       "              colsample_bylevel=None, colsample_bynode=0.6410035105688879,\n",
       "              colsample_bytree=None, device=None, early_stopping_rounds=None,\n",
       "              enable_categorical=False,\n",
       "              eval_metric=&lt;function custom_f1_score at 0x7fe2e4cc0540&gt;,\n",
       "              feature_types=None, gamma=None, grow_policy=None,\n",
       "              importance_type=None, interaction_constraints=None,\n",
       "              learning_rate=0.08148293210105287, max_bin=None,\n",
       "              max_cat_threshold=None, max_cat_to_onehot=None,\n",
       "              max_delta_step=None, max_depth=5, max_leaves=None,\n",
       "              min_child_weight=15, missing=nan, monotone_constraints=None,\n",
       "              multi_strategy=None, n_estimators=10, n_jobs=None,\n",
       "              num_parallel_tree=None, objective=&#x27;multi:softprob&#x27;, ...)</pre><b>In a Jupyter environment, please rerun this cell to show the HTML representation or trust the notebook. <br />On GitHub, the HTML representation is unable to render, please try loading this page with nbviewer.org.</b></div><div class=\"sk-container\" hidden><div class=\"sk-item\"><div class=\"sk-estimator fitted sk-toggleable\"><input class=\"sk-toggleable__control sk-hidden--visually\" id=\"sk-estimator-id-1\" type=\"checkbox\" checked><label for=\"sk-estimator-id-1\" class=\"sk-toggleable__label fitted sk-toggleable__label-arrow fitted\">&nbsp;XGBClassifier<span class=\"sk-estimator-doc-link fitted\">i<span>Fitted</span></span></label><div class=\"sk-toggleable__content fitted\"><pre>XGBClassifier(base_score=None, booster=None, callbacks=None,\n",
       "              colsample_bylevel=None, colsample_bynode=0.6410035105688879,\n",
       "              colsample_bytree=None, device=None, early_stopping_rounds=None,\n",
       "              enable_categorical=False,\n",
       "              eval_metric=&lt;function custom_f1_score at 0x7fe2e4cc0540&gt;,\n",
       "              feature_types=None, gamma=None, grow_policy=None,\n",
       "              importance_type=None, interaction_constraints=None,\n",
       "              learning_rate=0.08148293210105287, max_bin=None,\n",
       "              max_cat_threshold=None, max_cat_to_onehot=None,\n",
       "              max_delta_step=None, max_depth=5, max_leaves=None,\n",
       "              min_child_weight=15, missing=nan, monotone_constraints=None,\n",
       "              multi_strategy=None, n_estimators=10, n_jobs=None,\n",
       "              num_parallel_tree=None, objective=&#x27;multi:softprob&#x27;, ...)</pre></div> </div></div></div></div>"
      ],
      "text/plain": [
       "XGBClassifier(base_score=None, booster=None, callbacks=None,\n",
       "              colsample_bylevel=None, colsample_bynode=0.6410035105688879,\n",
       "              colsample_bytree=None, device=None, early_stopping_rounds=None,\n",
       "              enable_categorical=False,\n",
       "              eval_metric=<function custom_f1_score at 0x7fe2e4cc0540>,\n",
       "              feature_types=None, gamma=None, grow_policy=None,\n",
       "              importance_type=None, interaction_constraints=None,\n",
       "              learning_rate=0.08148293210105287, max_bin=None,\n",
       "              max_cat_threshold=None, max_cat_to_onehot=None,\n",
       "              max_delta_step=None, max_depth=5, max_leaves=None,\n",
       "              min_child_weight=15, missing=nan, monotone_constraints=None,\n",
       "              multi_strategy=None, n_estimators=10, n_jobs=None,\n",
       "              num_parallel_tree=None, objective='multi:softprob', ...)"
      ]
     },
     "execution_count": 21,
     "metadata": {},
     "output_type": "execute_result"
    }
   ],
   "source": [
    "n_estimators = int(study.best_trial.user_attrs['best_iteration']*1.2)\n",
    "xgb = xgboost.XGBClassifier(\n",
    "        eval_metric=eval_metric,\n",
    "        n_estimators=n_estimators,\n",
    "        **study.best_trial.params\n",
    "    )\n",
    "xgb.fit(\n",
    "    ssp.vstack((X_train, X_val)), \n",
    "    np.concatenate((y_train_enc, y_val_enc)),\n",
    "    verbose=1,\n",
    ")"
   ]
  },
  {
   "cell_type": "code",
   "execution_count": 22,
   "id": "2db85dd1",
   "metadata": {
    "execution": {
     "iopub.execute_input": "2025-05-15T16:16:00.789008Z",
     "iopub.status.busy": "2025-05-15T16:16:00.788640Z",
     "iopub.status.idle": "2025-05-15T16:16:00.801857Z",
     "shell.execute_reply": "2025-05-15T16:16:00.801479Z"
    },
    "papermill": {
     "duration": 0.078945,
     "end_time": "2025-05-15T16:16:00.802986",
     "exception": false,
     "start_time": "2025-05-15T16:16:00.724041",
     "status": "completed"
    },
    "tags": []
   },
   "outputs": [
    {
     "data": {
      "text/plain": [
       "['/scratch_isilon/groups/singlecell/shared/projects/Inflammation-PBMCs-Atlas/03_downstream_analysis/08_gene_importance/xgboost_external_validation/xgboost_TopN_genes/results_20/best_model/Plasma_16_1_xgb.json']"
      ]
     },
     "execution_count": 22,
     "metadata": {},
     "output_type": "execute_result"
    }
   ],
   "source": [
    "out_dir = here(f'03_downstream_analysis/08_gene_importance/xgboost_external_validation/xgboost_TopN_genes/results_{N_GENES}/best_model')\n",
    "\n",
    "if not os.path.exists(out_dir):\n",
    "    os.makedirs(out_dir)\n",
    "    \n",
    "joblib.dump(xgb, os.path.join(out_dir, f'{CELL_TYPE}_{SEED}_{TEST_SPLIT_IDX}_xgb.json'))"
   ]
  },
  {
   "cell_type": "code",
   "execution_count": 23,
   "id": "fcd9a559",
   "metadata": {
    "execution": {
     "iopub.execute_input": "2025-05-15T16:16:00.823134Z",
     "iopub.status.busy": "2025-05-15T16:16:00.822869Z",
     "iopub.status.idle": "2025-05-15T16:16:00.827942Z",
     "shell.execute_reply": "2025-05-15T16:16:00.827606Z"
    },
    "papermill": {
     "duration": 0.021029,
     "end_time": "2025-05-15T16:16:00.833644",
     "exception": false,
     "start_time": "2025-05-15T16:16:00.812615",
     "status": "completed"
    },
    "tags": []
   },
   "outputs": [],
   "source": [
    "df_pred_test = pd.DataFrame(dict(\n",
    "    cell_id=train_adata.obs.iloc[test_idxs].index.values,\n",
    "    y_true=y_test, \n",
    "    y_true_code=y_test_enc, \n",
    "    y_pred=xgb.predict(X_test))).set_index('cell_id')"
   ]
  },
  {
   "cell_type": "code",
   "execution_count": 24,
   "id": "516116c0",
   "metadata": {
    "execution": {
     "iopub.execute_input": "2025-05-15T16:16:00.958813Z",
     "iopub.status.busy": "2025-05-15T16:16:00.958606Z",
     "iopub.status.idle": "2025-05-15T16:16:00.970596Z",
     "shell.execute_reply": "2025-05-15T16:16:00.970232Z"
    },
    "papermill": {
     "duration": 0.102923,
     "end_time": "2025-05-15T16:16:00.971554",
     "exception": false,
     "start_time": "2025-05-15T16:16:00.868631",
     "status": "completed"
    },
    "tags": []
   },
   "outputs": [],
   "source": [
    "out_dir = here(f'03_downstream_analysis/08_gene_importance/xgboost_external_validation/xgboost_TopN_genes/results_{N_GENES}/predictions')\n",
    "\n",
    "if not os.path.exists(out_dir):\n",
    "    os.makedirs(out_dir)\n",
    "    \n",
    "df_pred_test.to_csv(os.path.join(out_dir, f'{CELL_TYPE}_{SEED}_{TEST_SPLIT_IDX}_pred_test.zip'))"
   ]
  },
  {
   "cell_type": "code",
   "execution_count": 25,
   "id": "ca9caa57",
   "metadata": {
    "execution": {
     "iopub.execute_input": "2025-05-15T16:16:00.999437Z",
     "iopub.status.busy": "2025-05-15T16:16:00.999227Z",
     "iopub.status.idle": "2025-05-15T16:16:01.005337Z",
     "shell.execute_reply": "2025-05-15T16:16:01.004989Z"
    },
    "papermill": {
     "duration": 0.024358,
     "end_time": "2025-05-15T16:16:01.006238",
     "exception": false,
     "start_time": "2025-05-15T16:16:00.981880",
     "status": "completed"
    },
    "tags": []
   },
   "outputs": [],
   "source": [
    "metrics_dict = dict(\n",
    "    BAS=balanced_accuracy_score(y_true=df_pred_test.y_true_code, y_pred=df_pred_test.y_pred), WF1=f1_score(y_true=df_pred_test.y_true_code, y_pred=df_pred_test.y_pred,average='weighted'))"
   ]
  },
  {
   "cell_type": "code",
   "execution_count": 26,
   "id": "0d203369",
   "metadata": {
    "execution": {
     "iopub.execute_input": "2025-05-15T16:16:01.049296Z",
     "iopub.status.busy": "2025-05-15T16:16:01.049032Z",
     "iopub.status.idle": "2025-05-15T16:16:01.051877Z",
     "shell.execute_reply": "2025-05-15T16:16:01.051566Z"
    },
    "papermill": {
     "duration": 0.034037,
     "end_time": "2025-05-15T16:16:01.059464",
     "exception": false,
     "start_time": "2025-05-15T16:16:01.025427",
     "status": "completed"
    },
    "tags": []
   },
   "outputs": [
    {
     "data": {
      "text/plain": [
       "{'BAS': 0.2832482060423237, 'WF1': 0.41040846433919553}"
      ]
     },
     "execution_count": 26,
     "metadata": {},
     "output_type": "execute_result"
    }
   ],
   "source": [
    "metrics_dict"
   ]
  },
  {
   "cell_type": "code",
   "execution_count": 27,
   "id": "b47db5de",
   "metadata": {
    "execution": {
     "iopub.execute_input": "2025-05-15T16:16:01.092978Z",
     "iopub.status.busy": "2025-05-15T16:16:01.092752Z",
     "iopub.status.idle": "2025-05-15T16:16:01.103141Z",
     "shell.execute_reply": "2025-05-15T16:16:01.102820Z"
    },
    "papermill": {
     "duration": 0.02163,
     "end_time": "2025-05-15T16:16:01.104010",
     "exception": false,
     "start_time": "2025-05-15T16:16:01.082380",
     "status": "completed"
    },
    "tags": []
   },
   "outputs": [
    {
     "data": {
      "text/html": [
       "<div>\n",
       "<style scoped>\n",
       "    .dataframe tbody tr th:only-of-type {\n",
       "        vertical-align: middle;\n",
       "    }\n",
       "\n",
       "    .dataframe tbody tr th {\n",
       "        vertical-align: top;\n",
       "    }\n",
       "\n",
       "    .dataframe thead th {\n",
       "        text-align: right;\n",
       "    }\n",
       "</style>\n",
       "<table border=\"1\" class=\"dataframe\">\n",
       "  <thead>\n",
       "    <tr style=\"text-align: right;\">\n",
       "      <th></th>\n",
       "      <th>BAS</th>\n",
       "      <th>WF1</th>\n",
       "      <th>split_idx</th>\n",
       "      <th>gene_set_seed</th>\n",
       "      <th>cell_type</th>\n",
       "    </tr>\n",
       "  </thead>\n",
       "  <tbody>\n",
       "    <tr>\n",
       "      <th>0</th>\n",
       "      <td>0.283248</td>\n",
       "      <td>0.410408</td>\n",
       "      <td>1</td>\n",
       "      <td>16</td>\n",
       "      <td>Plasma</td>\n",
       "    </tr>\n",
       "  </tbody>\n",
       "</table>\n",
       "</div>"
      ],
      "text/plain": [
       "        BAS       WF1  split_idx  gene_set_seed cell_type\n",
       "0  0.283248  0.410408          1             16    Plasma"
      ]
     },
     "execution_count": 27,
     "metadata": {},
     "output_type": "execute_result"
    }
   ],
   "source": [
    "metrics_df = pd.DataFrame.from_dict([metrics_dict]).assign(split_idx=TEST_SPLIT_IDX, gene_set_seed=SEED, cell_type=CELL_TYPE)\n",
    "metrics_df"
   ]
  },
  {
   "cell_type": "code",
   "execution_count": 28,
   "id": "ad767917",
   "metadata": {
    "execution": {
     "iopub.execute_input": "2025-05-15T16:16:01.125968Z",
     "iopub.status.busy": "2025-05-15T16:16:01.125572Z",
     "iopub.status.idle": "2025-05-15T16:16:01.134940Z",
     "shell.execute_reply": "2025-05-15T16:16:01.134606Z"
    },
    "papermill": {
     "duration": 0.020687,
     "end_time": "2025-05-15T16:16:01.135876",
     "exception": false,
     "start_time": "2025-05-15T16:16:01.115189",
     "status": "completed"
    },
    "tags": []
   },
   "outputs": [],
   "source": [
    "out_dir = here(f'03_downstream_analysis/08_gene_importance/xgboost_external_validation/xgboost_TopN_genes/results_{N_GENES}/metrics')\n",
    "\n",
    "if not os.path.exists(out_dir):\n",
    "    os.makedirs(out_dir)\n",
    "    \n",
    "metrics_df.to_csv(os.path.join(out_dir, f'{CELL_TYPE}_{SEED}_{TEST_SPLIT_IDX}_metrics.zip'))"
   ]
  }
 ],
 "metadata": {
  "kernelspec": {
   "display_name": "Python 3 (ipykernel)",
   "language": "python",
   "name": "python3"
  },
  "language_info": {
   "codemirror_mode": {
    "name": "ipython",
    "version": 3
   },
   "file_extension": ".py",
   "mimetype": "text/x-python",
   "name": "python",
   "nbconvert_exporter": "python",
   "pygments_lexer": "ipython3",
   "version": "3.12.5"
  },
  "papermill": {
   "default_parameters": {},
   "duration": 15.788752,
   "end_time": "2025-05-15T16:16:01.962956",
   "environment_variables": {},
   "exception": null,
   "input_path": "02_xgboost_fitting_external_20genes.ipynb",
   "output_path": "results_20/executed_notebooks/xgboost_fitting_external_CT_Plasma_GS_16_seed1.ipynb",
   "parameters": {
    "CELL_TYPE": "Plasma",
    "SEED": 16,
    "TEST_SPLIT_IDX": 1
   },
   "start_time": "2025-05-15T16:15:46.174204",
   "version": "2.6.0"
  }
 },
 "nbformat": 4,
 "nbformat_minor": 5
}