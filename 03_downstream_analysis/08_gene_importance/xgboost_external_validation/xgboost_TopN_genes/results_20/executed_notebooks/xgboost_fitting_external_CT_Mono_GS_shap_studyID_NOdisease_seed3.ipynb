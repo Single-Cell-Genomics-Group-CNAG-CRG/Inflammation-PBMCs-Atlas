{
 "cells": [
  {
   "cell_type": "code",
   "execution_count": 1,
   "id": "acc6ad57",
   "metadata": {
    "editable": true,
    "execution": {
     "iopub.execute_input": "2025-05-14T16:07:25.915505Z",
     "iopub.status.busy": "2025-05-14T16:07:25.915358Z",
     "iopub.status.idle": "2025-05-14T16:07:25.918213Z",
     "shell.execute_reply": "2025-05-14T16:07:25.917920Z"
    },
    "papermill": {
     "duration": 0.022382,
     "end_time": "2025-05-14T16:07:25.919094",
     "exception": false,
     "start_time": "2025-05-14T16:07:25.896712",
     "status": "completed"
    },
    "slideshow": {
     "slide_type": ""
    },
    "tags": [
     "parameters"
    ]
   },
   "outputs": [],
   "source": [
    "CELL_TYPE = 'pDC'\n",
    "N_GENES: int = 20\n",
    "SEED = 'shap_studyID' #'disease_NOstudy' 'study_NOdisease' or 'int' or 'shap_studyID'\n",
    "TEST_SPLIT_IDX: int = 1 #[0,4]"
   ]
  },
  {
   "cell_type": "code",
   "execution_count": 2,
   "id": "1603ad14",
   "metadata": {
    "execution": {
     "iopub.execute_input": "2025-05-14T16:07:25.931510Z",
     "iopub.status.busy": "2025-05-14T16:07:25.931285Z",
     "iopub.status.idle": "2025-05-14T16:07:25.933514Z",
     "shell.execute_reply": "2025-05-14T16:07:25.933225Z"
    },
    "papermill": {
     "duration": 0.009571,
     "end_time": "2025-05-14T16:07:25.934316",
     "exception": false,
     "start_time": "2025-05-14T16:07:25.924745",
     "status": "completed"
    },
    "tags": [
     "injected-parameters"
    ]
   },
   "outputs": [],
   "source": [
    "# Parameters\n",
    "CELL_TYPE = \"Mono\"\n",
    "SEED = \"shap_studyID_NOdisease\"\n",
    "TEST_SPLIT_IDX = 3\n"
   ]
  },
  {
   "cell_type": "code",
   "execution_count": 3,
   "id": "9e862fad",
   "metadata": {
    "execution": {
     "iopub.execute_input": "2025-05-14T16:07:25.949498Z",
     "iopub.status.busy": "2025-05-14T16:07:25.949270Z",
     "iopub.status.idle": "2025-05-14T16:07:25.951378Z",
     "shell.execute_reply": "2025-05-14T16:07:25.951095Z"
    },
    "papermill": {
     "duration": 0.012701,
     "end_time": "2025-05-14T16:07:25.952154",
     "exception": false,
     "start_time": "2025-05-14T16:07:25.939453",
     "status": "completed"
    },
    "tags": []
   },
   "outputs": [],
   "source": [
    "N_SPLITS: int = 5\n",
    "N_TRIALS: int = 50"
   ]
  },
  {
   "cell_type": "code",
   "execution_count": 4,
   "id": "65b60d40",
   "metadata": {
    "execution": {
     "iopub.execute_input": "2025-05-14T16:07:25.964122Z",
     "iopub.status.busy": "2025-05-14T16:07:25.963866Z",
     "iopub.status.idle": "2025-05-14T16:07:46.939481Z",
     "shell.execute_reply": "2025-05-14T16:07:46.939007Z"
    },
    "papermill": {
     "duration": 20.983284,
     "end_time": "2025-05-14T16:07:46.940747",
     "exception": false,
     "start_time": "2025-05-14T16:07:25.957463",
     "status": "completed"
    },
    "tags": []
   },
   "outputs": [],
   "source": [
    "import os\n",
    "import sys\n",
    "from pyprojroot.here import here\n",
    "import pandas as pd\n",
    "import anndata as ad\n",
    "import numpy as np\n",
    "import math\n",
    "from sklearn.model_selection import StratifiedGroupKFold\n",
    "from sklearn.preprocessing import LabelEncoder\n",
    "from sklearn.metrics import f1_score\n",
    "import matplotlib.pyplot as plt\n",
    "import seaborn as sns\n",
    "from itertools import product\n",
    "from sklearn.metrics import balanced_accuracy_score, f1_score\n",
    "import optuna\n",
    "\n",
    "import joblib\n",
    "import pickle\n",
    "import datetime\n",
    "\n",
    "import collections\n",
    "\n",
    "import xgboost\n",
    "from sklearn.preprocessing import LabelEncoder\n",
    "\n",
    "import scipy.sparse as ssp\n",
    "import joblib\n",
    "\n",
    "from dotenv import load_dotenv"
   ]
  },
  {
   "cell_type": "code",
   "execution_count": 5,
   "id": "6edf47fd",
   "metadata": {
    "execution": {
     "iopub.execute_input": "2025-05-14T16:07:46.964491Z",
     "iopub.status.busy": "2025-05-14T16:07:46.963824Z",
     "iopub.status.idle": "2025-05-14T16:07:46.969478Z",
     "shell.execute_reply": "2025-05-14T16:07:46.969158Z"
    },
    "papermill": {
     "duration": 0.022405,
     "end_time": "2025-05-14T16:07:46.970363",
     "exception": false,
     "start_time": "2025-05-14T16:07:46.947958",
     "status": "completed"
    },
    "tags": []
   },
   "outputs": [
    {
     "data": {
      "text/plain": [
       "True"
      ]
     },
     "execution_count": 5,
     "metadata": {},
     "output_type": "execute_result"
    }
   ],
   "source": [
    "load_dotenv()"
   ]
  },
  {
   "cell_type": "markdown",
   "id": "705b0e5a",
   "metadata": {
    "papermill": {
     "duration": 0.005771,
     "end_time": "2025-05-14T16:07:46.982420",
     "exception": false,
     "start_time": "2025-05-14T16:07:46.976649",
     "status": "completed"
    },
    "tags": []
   },
   "source": [
    "# LOAD DATASET"
   ]
  },
  {
   "cell_type": "code",
   "execution_count": 6,
   "id": "88a7c465",
   "metadata": {
    "execution": {
     "iopub.execute_input": "2025-05-14T16:07:47.000197Z",
     "iopub.status.busy": "2025-05-14T16:07:46.999970Z",
     "iopub.status.idle": "2025-05-14T16:07:48.305121Z",
     "shell.execute_reply": "2025-05-14T16:07:48.304630Z"
    },
    "papermill": {
     "duration": 1.318126,
     "end_time": "2025-05-14T16:07:48.306376",
     "exception": false,
     "start_time": "2025-05-14T16:07:46.988250",
     "status": "completed"
    },
    "tags": []
   },
   "outputs": [],
   "source": [
    "train_adata = ad.read_h5ad(\n",
    "    here(f'03_downstream_analysis/08_gene_importance/xgboost_external_validation/xgboost_TopN_genes/data_cellTypes/EXTERNAL_{CELL_TYPE}.filtered.log1p.h5ad')\n",
    ")"
   ]
  },
  {
   "cell_type": "code",
   "execution_count": 7,
   "id": "285d7b70",
   "metadata": {
    "execution": {
     "iopub.execute_input": "2025-05-14T16:07:48.331811Z",
     "iopub.status.busy": "2025-05-14T16:07:48.331608Z",
     "iopub.status.idle": "2025-05-14T16:07:48.363800Z",
     "shell.execute_reply": "2025-05-14T16:07:48.363308Z"
    },
    "papermill": {
     "duration": 0.039574,
     "end_time": "2025-05-14T16:07:48.364743",
     "exception": false,
     "start_time": "2025-05-14T16:07:48.325169",
     "status": "completed"
    },
    "tags": []
   },
   "outputs": [
    {
     "name": "stdout",
     "output_type": "stream",
     "text": [
      "['ENSG00000002586' 'ENSG00000005339' 'ENSG00000006125' 'ENSG00000008394'\n",
      " 'ENSG00000010327' 'ENSG00000018280' 'ENSG00000019169' 'ENSG00000019582'\n",
      " 'ENSG00000026025' 'ENSG00000028137' 'ENSG00000033800' 'ENSG00000038427'\n",
      " 'ENSG00000042753' 'ENSG00000051382' 'ENSG00000057657' 'ENSG00000059728'\n",
      " 'ENSG00000068831' 'ENSG00000075785' 'ENSG00000076944' 'ENSG00000077150'\n",
      " 'ENSG00000077238' 'ENSG00000078043' 'ENSG00000082074' 'ENSG00000085514'\n",
      " 'ENSG00000089737' 'ENSG00000090863' 'ENSG00000092820' 'ENSG00000099624'\n",
      " 'ENSG00000100079' 'ENSG00000100100' 'ENSG00000100300' 'ENSG00000100365'\n",
      " 'ENSG00000100368' 'ENSG00000100393' 'ENSG00000100664' 'ENSG00000100906'\n",
      " 'ENSG00000100911' 'ENSG00000101350' 'ENSG00000101608' 'ENSG00000101695'\n",
      " 'ENSG00000104093' 'ENSG00000104904' 'ENSG00000104964' 'ENSG00000104998'\n",
      " 'ENSG00000105851' 'ENSG00000106367' 'ENSG00000106803' 'ENSG00000108639'\n",
      " 'ENSG00000109743' 'ENSG00000110395' 'ENSG00000110876' 'ENSG00000111348'\n",
      " 'ENSG00000111640' 'ENSG00000111716' 'ENSG00000112561' 'ENSG00000113070'\n",
      " 'ENSG00000113441' 'ENSG00000113615' 'ENSG00000115073' 'ENSG00000116171'\n",
      " 'ENSG00000116701' 'ENSG00000116815' 'ENSG00000117602' 'ENSG00000118640'\n",
      " 'ENSG00000118971' 'ENSG00000119655' 'ENSG00000119922' 'ENSG00000120594'\n",
      " 'ENSG00000121316' 'ENSG00000121879' 'ENSG00000124882' 'ENSG00000125538'\n",
      " 'ENSG00000125743' 'ENSG00000127022' 'ENSG00000127314' 'ENSG00000127507'\n",
      " 'ENSG00000128524' 'ENSG00000130755' 'ENSG00000131018' 'ENSG00000131042'\n",
      " 'ENSG00000131143' 'ENSG00000131196' 'ENSG00000131981' 'ENSG00000132912'\n",
      " 'ENSG00000135046' 'ENSG00000135441' 'ENSG00000135720' 'ENSG00000135821'\n",
      " 'ENSG00000135968' 'ENSG00000136156' 'ENSG00000137100' 'ENSG00000138674'\n",
      " 'ENSG00000139192' 'ENSG00000140379' 'ENSG00000141574' 'ENSG00000142208'\n",
      " 'ENSG00000142546' 'ENSG00000143119' 'ENSG00000143390' 'ENSG00000143924'\n",
      " 'ENSG00000144746' 'ENSG00000144802' 'ENSG00000147443' 'ENSG00000148908'\n",
      " 'ENSG00000150093' 'ENSG00000150782' 'ENSG00000160075' 'ENSG00000160213'\n",
      " 'ENSG00000160883' 'ENSG00000161921' 'ENSG00000163191' 'ENSG00000163220'\n",
      " 'ENSG00000163513' 'ENSG00000163660' 'ENSG00000163931' 'ENSG00000164307'\n",
      " 'ENSG00000165140' 'ENSG00000166710' 'ENSG00000166927' 'ENSG00000166949'\n",
      " 'ENSG00000167004' 'ENSG00000169896' 'ENSG00000170017' 'ENSG00000173757'\n",
      " 'ENSG00000175203' 'ENSG00000175489' 'ENSG00000176986' 'ENSG00000177556'\n",
      " 'ENSG00000177663' 'ENSG00000178695' 'ENSG00000179218' 'ENSG00000179295'\n",
      " 'ENSG00000180008' 'ENSG00000182578' 'ENSG00000183023' 'ENSG00000184007'\n",
      " 'ENSG00000184752' 'ENSG00000185215' 'ENSG00000185291' 'ENSG00000185745'\n",
      " 'ENSG00000185950' 'ENSG00000188906' 'ENSG00000196126' 'ENSG00000196735'\n",
      " 'ENSG00000197102' 'ENSG00000197329' 'ENSG00000197471' 'ENSG00000197632'\n",
      " 'ENSG00000197746' 'ENSG00000197956' 'ENSG00000197965' 'ENSG00000198520'\n",
      " 'ENSG00000203747' 'ENSG00000204264' 'ENSG00000204287' 'ENSG00000204472'\n",
      " 'ENSG00000204843' 'ENSG00000213145' 'ENSG00000223865' 'ENSG00000242574'\n",
      " 'ENSG00000271503' 'ENSG00000277791']\n"
     ]
    }
   ],
   "source": [
    "if SEED != 'all':\n",
    "    gene_subset = np.load(here(f'03_downstream_analysis/08_gene_importance/xgboost_external_validation/shap_gene_selection/gene_subsets_{N_GENES}/{CELL_TYPE}_{SEED}.npy'), allow_pickle=True)\n",
    "    train_adata = train_adata[:,gene_subset]\n",
    "    print(gene_subset)\n",
    "elif SEED == 'all':\n",
    "    print('Using all genes')\n",
    "else:\n",
    "    raise ValueError()"
   ]
  },
  {
   "cell_type": "code",
   "execution_count": 8,
   "id": "872f022b",
   "metadata": {
    "execution": {
     "iopub.execute_input": "2025-05-14T16:07:48.390800Z",
     "iopub.status.busy": "2025-05-14T16:07:48.390578Z",
     "iopub.status.idle": "2025-05-14T16:07:48.394981Z",
     "shell.execute_reply": "2025-05-14T16:07:48.394642Z"
    },
    "papermill": {
     "duration": 0.024435,
     "end_time": "2025-05-14T16:07:48.396010",
     "exception": false,
     "start_time": "2025-05-14T16:07:48.371575",
     "status": "completed"
    },
    "tags": []
   },
   "outputs": [
    {
     "data": {
      "text/plain": [
       "(137435, 162)"
      ]
     },
     "execution_count": 8,
     "metadata": {},
     "output_type": "execute_result"
    }
   ],
   "source": [
    "train_adata.shape"
   ]
  },
  {
   "cell_type": "code",
   "execution_count": 9,
   "id": "039867da",
   "metadata": {
    "execution": {
     "iopub.execute_input": "2025-05-14T16:07:48.416315Z",
     "iopub.status.busy": "2025-05-14T16:07:48.416124Z",
     "iopub.status.idle": "2025-05-14T16:07:48.420247Z",
     "shell.execute_reply": "2025-05-14T16:07:48.419927Z"
    },
    "papermill": {
     "duration": 0.01172,
     "end_time": "2025-05-14T16:07:48.421124",
     "exception": false,
     "start_time": "2025-05-14T16:07:48.409404",
     "status": "completed"
    },
    "tags": []
   },
   "outputs": [
    {
     "data": {
      "text/plain": [
       "['RA', 'healthy', 'COVID', 'HIV', 'cirrhosis', 'CD', 'SLE', 'sepsis']\n",
       "Categories (8, object): ['CD', 'COVID', 'HIV', 'RA', 'SLE', 'cirrhosis', 'healthy', 'sepsis']"
      ]
     },
     "execution_count": 9,
     "metadata": {},
     "output_type": "execute_result"
    }
   ],
   "source": [
    "train_adata.obs.disease.unique()"
   ]
  },
  {
   "cell_type": "code",
   "execution_count": 10,
   "id": "5160bebe",
   "metadata": {
    "execution": {
     "iopub.execute_input": "2025-05-14T16:07:48.450939Z",
     "iopub.status.busy": "2025-05-14T16:07:48.450691Z",
     "iopub.status.idle": "2025-05-14T16:07:48.455140Z",
     "shell.execute_reply": "2025-05-14T16:07:48.454808Z"
    },
    "papermill": {
     "duration": 0.028409,
     "end_time": "2025-05-14T16:07:48.456011",
     "exception": false,
     "start_time": "2025-05-14T16:07:48.427602",
     "status": "completed"
    },
    "tags": []
   },
   "outputs": [
    {
     "data": {
      "text/plain": [
       "['SCGT00val_I0364_T0', 'SCGT00val_I036028_T0', 'SCGT00val_I036024_T0', 'SCGT00val_I036023_T0', 'SCGT00val_I036019_T0', ..., '10XGenomics_10XHC2_T0', '10XGenomics_10XHC3_T0', '10XGenomics_10XHC5_T0', '10XGenomics_10XHC7_T0', '10XGenomics_10XHC8_T0']\n",
       "Length: 86\n",
       "Categories (86, object): ['10XGenomics_10XHC1_T0', '10XGenomics_10XHC2_T0', '10XGenomics_10XHC3_T0', '10XGenomics_10XHC4_T0', ..., 'Savage2021_BRISL6_T0', 'Savage2021_BRISL7_T0', 'Savage2021_PIDA_T0', 'Savage2021_PIDB_T0']"
      ]
     },
     "execution_count": 10,
     "metadata": {},
     "output_type": "execute_result"
    }
   ],
   "source": [
    "train_adata.obs.sampleID.unique()"
   ]
  },
  {
   "cell_type": "code",
   "execution_count": 11,
   "id": "ee646c63",
   "metadata": {
    "execution": {
     "iopub.execute_input": "2025-05-14T16:07:48.522085Z",
     "iopub.status.busy": "2025-05-14T16:07:48.521827Z",
     "iopub.status.idle": "2025-05-14T16:07:48.844638Z",
     "shell.execute_reply": "2025-05-14T16:07:48.844180Z"
    },
    "papermill": {
     "duration": 0.343668,
     "end_time": "2025-05-14T16:07:48.845867",
     "exception": false,
     "start_time": "2025-05-14T16:07:48.502199",
     "status": "completed"
    },
    "tags": []
   },
   "outputs": [],
   "source": [
    "all_idxs = np.arange(train_adata.obs.shape[0])\n",
    "left_out_splits = [s[1] for s in StratifiedGroupKFold(n_splits=N_SPLITS).split(all_idxs, train_adata.obs.disease, train_adata.obs.sampleID)]"
   ]
  },
  {
   "cell_type": "code",
   "execution_count": 12,
   "id": "2a35a0c6",
   "metadata": {
    "execution": {
     "iopub.execute_input": "2025-05-14T16:07:48.859128Z",
     "iopub.status.busy": "2025-05-14T16:07:48.858916Z",
     "iopub.status.idle": "2025-05-14T16:07:48.862478Z",
     "shell.execute_reply": "2025-05-14T16:07:48.862167Z"
    },
    "papermill": {
     "duration": 0.010934,
     "end_time": "2025-05-14T16:07:48.863335",
     "exception": false,
     "start_time": "2025-05-14T16:07:48.852401",
     "status": "completed"
    },
    "tags": []
   },
   "outputs": [
    {
     "data": {
      "text/plain": [
       "([0, 1, 2], 4, 3)"
      ]
     },
     "execution_count": 12,
     "metadata": {},
     "output_type": "execute_result"
    }
   ],
   "source": [
    "TRAIN_SPLIT_IDXS = [0,1,2,3,4]\n",
    "VAL_SPLIT_IDX = (TEST_SPLIT_IDX + 1) % 5\n",
    "TRAIN_SPLIT_IDXS.remove(TEST_SPLIT_IDX)\n",
    "TRAIN_SPLIT_IDXS.remove(VAL_SPLIT_IDX)\n",
    "TRAIN_SPLIT_IDXS, VAL_SPLIT_IDX, TEST_SPLIT_IDX"
   ]
  },
  {
   "cell_type": "code",
   "execution_count": 13,
   "id": "dcb1d771",
   "metadata": {
    "execution": {
     "iopub.execute_input": "2025-05-14T16:07:48.969473Z",
     "iopub.status.busy": "2025-05-14T16:07:48.969069Z",
     "iopub.status.idle": "2025-05-14T16:07:48.971871Z",
     "shell.execute_reply": "2025-05-14T16:07:48.971562Z"
    },
    "papermill": {
     "duration": 0.010989,
     "end_time": "2025-05-14T16:07:48.972762",
     "exception": false,
     "start_time": "2025-05-14T16:07:48.961773",
     "status": "completed"
    },
    "tags": []
   },
   "outputs": [],
   "source": [
    "train_idxs = np.concatenate([left_out_splits[idx] for idx in TRAIN_SPLIT_IDXS])\n",
    "val_idxs = left_out_splits[VAL_SPLIT_IDX]\n",
    "test_idxs = left_out_splits[TEST_SPLIT_IDX]"
   ]
  },
  {
   "cell_type": "markdown",
   "id": "a6fea2e2",
   "metadata": {
    "papermill": {
     "duration": 0.005987,
     "end_time": "2025-05-14T16:07:48.984947",
     "exception": false,
     "start_time": "2025-05-14T16:07:48.978960",
     "status": "completed"
    },
    "tags": []
   },
   "source": [
    "### SUBSET DATASET INTO TRAIN/TEST/VAL SPLITS"
   ]
  },
  {
   "cell_type": "code",
   "execution_count": 14,
   "id": "ed6979d9",
   "metadata": {
    "execution": {
     "iopub.execute_input": "2025-05-14T16:07:48.998511Z",
     "iopub.status.busy": "2025-05-14T16:07:48.998290Z",
     "iopub.status.idle": "2025-05-14T16:07:49.589743Z",
     "shell.execute_reply": "2025-05-14T16:07:49.589224Z"
    },
    "papermill": {
     "duration": 0.599901,
     "end_time": "2025-05-14T16:07:49.590703",
     "exception": false,
     "start_time": "2025-05-14T16:07:48.990802",
     "status": "completed"
    },
    "tags": []
   },
   "outputs": [
    {
     "data": {
      "text/plain": [
       "((81752, 162), (28646, 162), (27037, 162))"
      ]
     },
     "execution_count": 14,
     "metadata": {},
     "output_type": "execute_result"
    }
   ],
   "source": [
    "X_train = train_adata.X[train_idxs]\n",
    "X_test = train_adata.X[test_idxs]\n",
    "X_val = train_adata.X[val_idxs]\n",
    "X_train.shape, X_test.shape, X_val.shape"
   ]
  },
  {
   "cell_type": "code",
   "execution_count": 15,
   "id": "0b86fcd5",
   "metadata": {
    "execution": {
     "iopub.execute_input": "2025-05-14T16:07:49.605816Z",
     "iopub.status.busy": "2025-05-14T16:07:49.605606Z",
     "iopub.status.idle": "2025-05-14T16:07:49.621249Z",
     "shell.execute_reply": "2025-05-14T16:07:49.620806Z"
    },
    "papermill": {
     "duration": 0.024854,
     "end_time": "2025-05-14T16:07:49.622262",
     "exception": false,
     "start_time": "2025-05-14T16:07:49.597408",
     "status": "completed"
    },
    "tags": []
   },
   "outputs": [
    {
     "data": {
      "text/plain": [
       "((81752,), (28646,), (27037,))"
      ]
     },
     "execution_count": 15,
     "metadata": {},
     "output_type": "execute_result"
    }
   ],
   "source": [
    "y_train = train_adata.obs.iloc[train_idxs].disease.values.astype(str)\n",
    "y_test = train_adata.obs.iloc[test_idxs].disease.values.astype(str)\n",
    "y_val = train_adata.obs.iloc[val_idxs].disease.values.astype(str)\n",
    "y_train.shape, y_test.shape, y_val.shape"
   ]
  },
  {
   "cell_type": "code",
   "execution_count": 16,
   "id": "8ed229f5",
   "metadata": {
    "execution": {
     "iopub.execute_input": "2025-05-14T16:07:49.636768Z",
     "iopub.status.busy": "2025-05-14T16:07:49.636523Z",
     "iopub.status.idle": "2025-05-14T16:07:49.668397Z",
     "shell.execute_reply": "2025-05-14T16:07:49.667917Z"
    },
    "papermill": {
     "duration": 0.041083,
     "end_time": "2025-05-14T16:07:49.669727",
     "exception": false,
     "start_time": "2025-05-14T16:07:49.628644",
     "status": "completed"
    },
    "tags": []
   },
   "outputs": [],
   "source": [
    "lenc = LabelEncoder()\n",
    "y_train_enc = lenc.fit_transform(y_train)\n",
    "y_val_enc = lenc.transform(y_val)\n",
    "y_test_enc = lenc.transform(y_test)"
   ]
  },
  {
   "cell_type": "markdown",
   "id": "a7166ced",
   "metadata": {
    "papermill": {
     "duration": 0.007137,
     "end_time": "2025-05-14T16:07:49.683635",
     "exception": false,
     "start_time": "2025-05-14T16:07:49.676498",
     "status": "completed"
    },
    "tags": []
   },
   "source": [
    "### GENERATE F1 "
   ]
  },
  {
   "cell_type": "code",
   "execution_count": 17,
   "id": "ebfeb0fe",
   "metadata": {
    "execution": {
     "iopub.execute_input": "2025-05-14T16:07:49.705802Z",
     "iopub.status.busy": "2025-05-14T16:07:49.705553Z",
     "iopub.status.idle": "2025-05-14T16:07:49.708372Z",
     "shell.execute_reply": "2025-05-14T16:07:49.708038Z"
    },
    "papermill": {
     "duration": 0.010721,
     "end_time": "2025-05-14T16:07:49.709284",
     "exception": false,
     "start_time": "2025-05-14T16:07:49.698563",
     "status": "completed"
    },
    "tags": []
   },
   "outputs": [],
   "source": [
    "def custom_f1_score(y_true, y_pred):\n",
    "    return -f1_score(y_true, y_pred.argmax(1), average='weighted')"
   ]
  },
  {
   "cell_type": "code",
   "execution_count": 18,
   "id": "8e2dd4bf",
   "metadata": {
    "execution": {
     "iopub.execute_input": "2025-05-14T16:07:49.721950Z",
     "iopub.status.busy": "2025-05-14T16:07:49.721716Z",
     "iopub.status.idle": "2025-05-14T16:07:49.725761Z",
     "shell.execute_reply": "2025-05-14T16:07:49.725419Z"
    },
    "papermill": {
     "duration": 0.011361,
     "end_time": "2025-05-14T16:07:49.726610",
     "exception": false,
     "start_time": "2025-05-14T16:07:49.715249",
     "status": "completed"
    },
    "tags": []
   },
   "outputs": [],
   "source": [
    "eval_metric=custom_f1_score\n",
    "eval_metric_name='custom_f1_score'\n",
    "\n",
    "def objective(trial):\n",
    "    params = {\n",
    "        'n_estimators': 1500,\n",
    "        'max_depth': trial.suggest_int('max_depth', 3, 20),\n",
    "        'min_child_weight': trial.suggest_int('min_child_weight', 1, 250),\n",
    "        'subsample': trial.suggest_float('subsample', 0.1, 1.0),\n",
    "        'colsample_bynode': trial.suggest_float('colsample_bynode', 0.1, 1.0),\n",
    "        'learning_rate': trial.suggest_float('learning_rate', 1e-3, 5e-1, log=True),\n",
    "    }\n",
    "    pruning_callback = optuna.integration.XGBoostPruningCallback(trial, f'validation_0-{eval_metric_name}')\n",
    "    es_callback = xgboost.callback.EarlyStopping(20, min_delta=0.001)\n",
    "    xgb = xgboost.XGBClassifier(\n",
    "        eval_metric=eval_metric,\n",
    "        callbacks=[pruning_callback, es_callback],\n",
    "        n_jobs=5,\n",
    "        **params\n",
    "    )\n",
    "    xgb.fit(\n",
    "        X_train, \n",
    "        y_train_enc, \n",
    "        verbose=0,\n",
    "        eval_set=[(X_val, y_val_enc)],\n",
    "    )\n",
    "    trial.set_user_attr('best_iteration', xgb.best_iteration)\n",
    "\n",
    "    return xgb.best_score"
   ]
  },
  {
   "cell_type": "code",
   "execution_count": 19,
   "id": "01eadfba",
   "metadata": {
    "execution": {
     "iopub.execute_input": "2025-05-14T16:07:49.740085Z",
     "iopub.status.busy": "2025-05-14T16:07:49.739871Z",
     "iopub.status.idle": "2025-05-14T16:28:26.517901Z",
     "shell.execute_reply": "2025-05-14T16:28:26.517408Z"
    },
    "papermill": {
     "duration": 1236.785742,
     "end_time": "2025-05-14T16:28:26.518940",
     "exception": false,
     "start_time": "2025-05-14T16:07:49.733198",
     "status": "completed"
    },
    "scrolled": true,
    "tags": []
   },
   "outputs": [
    {
     "name": "stderr",
     "output_type": "stream",
     "text": [
      "[I 2025-05-14 18:07:49,741] A new study created in memory with name: no-name-42e57622-65f4-4c78-9f77-d3e7ba0fdfad\n"
     ]
    },
    {
     "name": "stderr",
     "output_type": "stream",
     "text": [
      "[I 2025-05-14 18:08:36,791] Trial 0 finished with value: -0.611637 and parameters: {'max_depth': 9, 'min_child_weight': 238, 'subsample': 0.7587945476302645, 'colsample_bynode': 0.6387926357773329, 'learning_rate': 0.0026368755339723046}. Best is trial 0 with value: -0.611637.\n"
     ]
    },
    {
     "name": "stderr",
     "output_type": "stream",
     "text": [
      "[I 2025-05-14 18:09:58,065] Trial 1 finished with value: -0.735208 and parameters: {'max_depth': 5, 'min_child_weight': 15, 'subsample': 0.8795585311974417, 'colsample_bynode': 0.6410035105688879, 'learning_rate': 0.08148293210105287}. Best is trial 1 with value: -0.735208.\n"
     ]
    },
    {
     "name": "stderr",
     "output_type": "stream",
     "text": [
      "[I 2025-05-14 18:10:09,728] Trial 2 finished with value: -0.58069 and parameters: {'max_depth': 3, 'min_child_weight': 243, 'subsample': 0.8491983767203796, 'colsample_bynode': 0.29110519961044856, 'learning_rate': 0.003095566460242371}. Best is trial 1 with value: -0.735208.\n"
     ]
    },
    {
     "name": "stderr",
     "output_type": "stream",
     "text": [
      "[I 2025-05-14 18:10:31,332] Trial 3 finished with value: -0.626523 and parameters: {'max_depth': 6, 'min_child_weight': 77, 'subsample': 0.5722807884690141, 'colsample_bynode': 0.48875051677790415, 'learning_rate': 0.006109683510122491}. Best is trial 1 with value: -0.735208.\n"
     ]
    },
    {
     "name": "stderr",
     "output_type": "stream",
     "text": [
      "[I 2025-05-14 18:14:07,109] Trial 4 finished with value: -0.726783 and parameters: {'max_depth': 14, 'min_child_weight': 35, 'subsample': 0.3629301836816964, 'colsample_bynode': 0.4297256589643226, 'learning_rate': 0.01701841881702917}. Best is trial 1 with value: -0.735208.\n"
     ]
    },
    {
     "name": "stderr",
     "output_type": "stream",
     "text": [
      "[I 2025-05-14 18:14:27,718] Trial 5 pruned. Trial was pruned at iteration 33.\n"
     ]
    },
    {
     "name": "stderr",
     "output_type": "stream",
     "text": [
      "[I 2025-05-14 18:14:57,561] Trial 6 finished with value: -0.728022 and parameters: {'max_depth': 13, 'min_child_weight': 43, 'subsample': 0.1585464336867516, 'colsample_bynode': 0.9539969835279999, 'learning_rate': 0.4038423798071558}. Best is trial 1 with value: -0.735208.\n"
     ]
    },
    {
     "name": "stderr",
     "output_type": "stream",
     "text": [
      "[I 2025-05-14 18:14:58,538] Trial 7 pruned. Trial was pruned at iteration 0.\n"
     ]
    },
    {
     "name": "stderr",
     "output_type": "stream",
     "text": [
      "[I 2025-05-14 18:14:59,449] Trial 8 pruned. Trial was pruned at iteration 0.\n"
     ]
    },
    {
     "name": "stderr",
     "output_type": "stream",
     "text": [
      "[I 2025-05-14 18:15:06,205] Trial 9 pruned. Trial was pruned at iteration 11.\n"
     ]
    },
    {
     "name": "stderr",
     "output_type": "stream",
     "text": [
      "[I 2025-05-14 18:16:13,875] Trial 10 finished with value: -0.739866 and parameters: {'max_depth': 9, 'min_child_weight': 2, 'subsample': 0.9725833997090791, 'colsample_bynode': 0.11616568805333755, 'learning_rate': 0.17780618353487967}. Best is trial 10 with value: -0.739866.\n"
     ]
    },
    {
     "name": "stderr",
     "output_type": "stream",
     "text": [
      "[I 2025-05-14 18:17:26,003] Trial 11 finished with value: -0.737685 and parameters: {'max_depth': 9, 'min_child_weight': 4, 'subsample': 0.9818290990185045, 'colsample_bynode': 0.17702656156719, 'learning_rate': 0.11568531411766632}. Best is trial 10 with value: -0.739866.\n"
     ]
    },
    {
     "name": "stderr",
     "output_type": "stream",
     "text": [
      "[I 2025-05-14 18:18:41,063] Trial 12 finished with value: -0.741791 and parameters: {'max_depth': 9, 'min_child_weight': 2, 'subsample': 0.9762317723681219, 'colsample_bynode': 0.1303670507685675, 'learning_rate': 0.14353293664472047}. Best is trial 12 with value: -0.741791.\n"
     ]
    },
    {
     "name": "stderr",
     "output_type": "stream",
     "text": [
      "[I 2025-05-14 18:18:42,066] Trial 13 pruned. Trial was pruned at iteration 0.\n"
     ]
    },
    {
     "name": "stderr",
     "output_type": "stream",
     "text": [
      "[I 2025-05-14 18:18:43,002] Trial 14 pruned. Trial was pruned at iteration 0.\n"
     ]
    },
    {
     "name": "stderr",
     "output_type": "stream",
     "text": [
      "[I 2025-05-14 18:20:19,809] Trial 15 pruned. Trial was pruned at iteration 108.\n"
     ]
    },
    {
     "name": "stderr",
     "output_type": "stream",
     "text": [
      "[I 2025-05-14 18:20:20,864] Trial 16 pruned. Trial was pruned at iteration 0.\n"
     ]
    },
    {
     "name": "stderr",
     "output_type": "stream",
     "text": [
      "[I 2025-05-14 18:20:21,764] Trial 17 pruned. Trial was pruned at iteration 0.\n"
     ]
    },
    {
     "name": "stderr",
     "output_type": "stream",
     "text": [
      "[I 2025-05-14 18:21:32,780] Trial 18 finished with value: -0.744358 and parameters: {'max_depth': 12, 'min_child_weight': 35, 'subsample': 0.8249106664192059, 'colsample_bynode': 0.3929452746078886, 'learning_rate': 0.20046188160978387}. Best is trial 18 with value: -0.744358.\n"
     ]
    },
    {
     "name": "stderr",
     "output_type": "stream",
     "text": [
      "[I 2025-05-14 18:21:33,870] Trial 19 pruned. Trial was pruned at iteration 0.\n"
     ]
    },
    {
     "name": "stderr",
     "output_type": "stream",
     "text": [
      "[I 2025-05-14 18:22:37,134] Trial 20 finished with value: -0.740785 and parameters: {'max_depth': 16, 'min_child_weight': 32, 'subsample': 0.6542583245259116, 'colsample_bynode': 0.7783833479024207, 'learning_rate': 0.22089697676313128}. Best is trial 18 with value: -0.744358.\n"
     ]
    },
    {
     "name": "stderr",
     "output_type": "stream",
     "text": [
      "[I 2025-05-14 18:23:40,376] Trial 21 pruned. Trial was pruned at iteration 108.\n"
     ]
    },
    {
     "name": "stderr",
     "output_type": "stream",
     "text": [
      "[I 2025-05-14 18:24:16,577] Trial 22 finished with value: -0.735875 and parameters: {'max_depth': 15, 'min_child_weight': 56, 'subsample': 0.6563352715172518, 'colsample_bynode': 0.8197427233870116, 'learning_rate': 0.46586038374869837}. Best is trial 18 with value: -0.744358.\n"
     ]
    },
    {
     "name": "stderr",
     "output_type": "stream",
     "text": [
      "[I 2025-05-14 18:24:21,427] Trial 23 pruned. Trial was pruned at iteration 6.\n"
     ]
    },
    {
     "name": "stderr",
     "output_type": "stream",
     "text": [
      "[I 2025-05-14 18:24:23,679] Trial 24 pruned. Trial was pruned at iteration 2.\n"
     ]
    },
    {
     "name": "stderr",
     "output_type": "stream",
     "text": [
      "[I 2025-05-14 18:24:25,319] Trial 25 pruned. Trial was pruned at iteration 1.\n"
     ]
    },
    {
     "name": "stderr",
     "output_type": "stream",
     "text": [
      "[I 2025-05-14 18:25:11,311] Trial 26 finished with value: -0.738188 and parameters: {'max_depth': 12, 'min_child_weight': 21, 'subsample': 0.6677036929187755, 'colsample_bynode': 0.5365533356508858, 'learning_rate': 0.2748720561855105}. Best is trial 18 with value: -0.744358.\n"
     ]
    },
    {
     "name": "stderr",
     "output_type": "stream",
     "text": [
      "[I 2025-05-14 18:25:13,071] Trial 27 pruned. Trial was pruned at iteration 1.\n"
     ]
    },
    {
     "name": "stderr",
     "output_type": "stream",
     "text": [
      "[I 2025-05-14 18:25:14,124] Trial 28 pruned. Trial was pruned at iteration 0.\n"
     ]
    },
    {
     "name": "stderr",
     "output_type": "stream",
     "text": [
      "[I 2025-05-14 18:25:15,157] Trial 29 pruned. Trial was pruned at iteration 0.\n"
     ]
    },
    {
     "name": "stderr",
     "output_type": "stream",
     "text": [
      "[I 2025-05-14 18:25:16,269] Trial 30 pruned. Trial was pruned at iteration 0.\n"
     ]
    },
    {
     "name": "stderr",
     "output_type": "stream",
     "text": [
      "[I 2025-05-14 18:25:27,099] Trial 31 pruned. Trial was pruned at iteration 17.\n"
     ]
    },
    {
     "name": "stderr",
     "output_type": "stream",
     "text": [
      "[I 2025-05-14 18:26:29,330] Trial 32 finished with value: -0.744892 and parameters: {'max_depth': 7, 'min_child_weight': 20, 'subsample': 0.8789290250965386, 'colsample_bynode': 0.6865463017845719, 'learning_rate': 0.2941763519887923}. Best is trial 32 with value: -0.744892.\n"
     ]
    },
    {
     "name": "stderr",
     "output_type": "stream",
     "text": [
      "[I 2025-05-14 18:26:30,191] Trial 33 pruned. Trial was pruned at iteration 0.\n"
     ]
    },
    {
     "name": "stderr",
     "output_type": "stream",
     "text": [
      "[I 2025-05-14 18:26:31,712] Trial 34 pruned. Trial was pruned at iteration 1.\n"
     ]
    },
    {
     "name": "stderr",
     "output_type": "stream",
     "text": [
      "[I 2025-05-14 18:26:32,640] Trial 35 pruned. Trial was pruned at iteration 0.\n"
     ]
    },
    {
     "name": "stderr",
     "output_type": "stream",
     "text": [
      "[I 2025-05-14 18:26:34,073] Trial 36 pruned. Trial was pruned at iteration 1.\n"
     ]
    },
    {
     "name": "stderr",
     "output_type": "stream",
     "text": [
      "[I 2025-05-14 18:26:35,007] Trial 37 pruned. Trial was pruned at iteration 0.\n"
     ]
    },
    {
     "name": "stderr",
     "output_type": "stream",
     "text": [
      "[I 2025-05-14 18:26:36,009] Trial 38 pruned. Trial was pruned at iteration 0.\n"
     ]
    },
    {
     "name": "stderr",
     "output_type": "stream",
     "text": [
      "[I 2025-05-14 18:26:36,935] Trial 39 pruned. Trial was pruned at iteration 0.\n"
     ]
    },
    {
     "name": "stderr",
     "output_type": "stream",
     "text": [
      "[I 2025-05-14 18:27:42,201] Trial 40 finished with value: -0.74333 and parameters: {'max_depth': 10, 'min_child_weight': 16, 'subsample': 0.6135397358527036, 'colsample_bynode': 0.4923437473884479, 'learning_rate': 0.22249723215762632}. Best is trial 32 with value: -0.744892.\n"
     ]
    },
    {
     "name": "stderr",
     "output_type": "stream",
     "text": [
      "[I 2025-05-14 18:27:52,188] Trial 41 pruned. Trial was pruned at iteration 15.\n"
     ]
    },
    {
     "name": "stderr",
     "output_type": "stream",
     "text": [
      "[I 2025-05-14 18:27:53,318] Trial 42 pruned. Trial was pruned at iteration 0.\n"
     ]
    },
    {
     "name": "stderr",
     "output_type": "stream",
     "text": [
      "[I 2025-05-14 18:27:57,300] Trial 43 pruned. Trial was pruned at iteration 5.\n"
     ]
    },
    {
     "name": "stderr",
     "output_type": "stream",
     "text": [
      "[I 2025-05-14 18:27:58,360] Trial 44 pruned. Trial was pruned at iteration 0.\n"
     ]
    },
    {
     "name": "stderr",
     "output_type": "stream",
     "text": [
      "[I 2025-05-14 18:27:59,972] Trial 45 pruned. Trial was pruned at iteration 1.\n"
     ]
    },
    {
     "name": "stderr",
     "output_type": "stream",
     "text": [
      "[I 2025-05-14 18:28:00,938] Trial 46 pruned. Trial was pruned at iteration 0.\n"
     ]
    },
    {
     "name": "stderr",
     "output_type": "stream",
     "text": [
      "[I 2025-05-14 18:28:23,743] Trial 47 pruned. Trial was pruned at iteration 33.\n"
     ]
    },
    {
     "name": "stderr",
     "output_type": "stream",
     "text": [
      "[I 2025-05-14 18:28:24,701] Trial 48 pruned. Trial was pruned at iteration 0.\n"
     ]
    },
    {
     "name": "stderr",
     "output_type": "stream",
     "text": [
      "[I 2025-05-14 18:28:26,417] Trial 49 pruned. Trial was pruned at iteration 1.\n"
     ]
    }
   ],
   "source": [
    "sampler = optuna.samplers.TPESampler(seed=42)\n",
    "study = optuna.create_study(direction='minimize', sampler=sampler)\n",
    "study.optimize(objective, n_trials=N_TRIALS, gc_after_trial=True)"
   ]
  },
  {
   "cell_type": "code",
   "execution_count": 20,
   "id": "b250e7a7",
   "metadata": {
    "execution": {
     "iopub.execute_input": "2025-05-14T16:28:26.538034Z",
     "iopub.status.busy": "2025-05-14T16:28:26.537797Z",
     "iopub.status.idle": "2025-05-14T16:28:26.575192Z",
     "shell.execute_reply": "2025-05-14T16:28:26.574862Z"
    },
    "papermill": {
     "duration": 0.047725,
     "end_time": "2025-05-14T16:28:26.576023",
     "exception": false,
     "start_time": "2025-05-14T16:28:26.528298",
     "status": "completed"
    },
    "tags": []
   },
   "outputs": [
    {
     "data": {
      "text/plain": [
       "['/scratch_isilon/groups/singlecell/shared/projects/Inflammation-PBMCs-Atlas/03_downstream_analysis/08_gene_importance/xgboost_external_validation/xgboost_TopN_genes/results_20/study/Mono_shap_studyID_NOdisease_3_xgboost.pkl']"
      ]
     },
     "execution_count": 20,
     "metadata": {},
     "output_type": "execute_result"
    }
   ],
   "source": [
    "out_dir = here(f'03_downstream_analysis/08_gene_importance/xgboost_external_validation/xgboost_TopN_genes/results_{N_GENES}/study')\n",
    "\n",
    "if not os.path.exists(out_dir):\n",
    "    os.makedirs(out_dir)\n",
    "    \n",
    "joblib.dump(study,os.path.join(out_dir, f'{CELL_TYPE}_{SEED}_{TEST_SPLIT_IDX}_xgboost.pkl'))"
   ]
  },
  {
   "cell_type": "code",
   "execution_count": 21,
   "id": "d0978e43",
   "metadata": {
    "execution": {
     "iopub.execute_input": "2025-05-14T16:28:26.593385Z",
     "iopub.status.busy": "2025-05-14T16:28:26.593119Z",
     "iopub.status.idle": "2025-05-14T16:28:53.328728Z",
     "shell.execute_reply": "2025-05-14T16:28:53.328360Z"
    },
    "papermill": {
     "duration": 26.74583,
     "end_time": "2025-05-14T16:28:53.329957",
     "exception": false,
     "start_time": "2025-05-14T16:28:26.584127",
     "status": "completed"
    },
    "tags": []
   },
   "outputs": [
    {
     "data": {
      "text/html": [
       "<style>#sk-container-id-1 {\n",
       "  /* Definition of color scheme common for light and dark mode */\n",
       "  --sklearn-color-text: black;\n",
       "  --sklearn-color-line: gray;\n",
       "  /* Definition of color scheme for unfitted estimators */\n",
       "  --sklearn-color-unfitted-level-0: #fff5e6;\n",
       "  --sklearn-color-unfitted-level-1: #f6e4d2;\n",
       "  --sklearn-color-unfitted-level-2: #ffe0b3;\n",
       "  --sklearn-color-unfitted-level-3: chocolate;\n",
       "  /* Definition of color scheme for fitted estimators */\n",
       "  --sklearn-color-fitted-level-0: #f0f8ff;\n",
       "  --sklearn-color-fitted-level-1: #d4ebff;\n",
       "  --sklearn-color-fitted-level-2: #b3dbfd;\n",
       "  --sklearn-color-fitted-level-3: cornflowerblue;\n",
       "\n",
       "  /* Specific color for light theme */\n",
       "  --sklearn-color-text-on-default-background: var(--sg-text-color, var(--theme-code-foreground, var(--jp-content-font-color1, black)));\n",
       "  --sklearn-color-background: var(--sg-background-color, var(--theme-background, var(--jp-layout-color0, white)));\n",
       "  --sklearn-color-border-box: var(--sg-text-color, var(--theme-code-foreground, var(--jp-content-font-color1, black)));\n",
       "  --sklearn-color-icon: #696969;\n",
       "\n",
       "  @media (prefers-color-scheme: dark) {\n",
       "    /* Redefinition of color scheme for dark theme */\n",
       "    --sklearn-color-text-on-default-background: var(--sg-text-color, var(--theme-code-foreground, var(--jp-content-font-color1, white)));\n",
       "    --sklearn-color-background: var(--sg-background-color, var(--theme-background, var(--jp-layout-color0, #111)));\n",
       "    --sklearn-color-border-box: var(--sg-text-color, var(--theme-code-foreground, var(--jp-content-font-color1, white)));\n",
       "    --sklearn-color-icon: #878787;\n",
       "  }\n",
       "}\n",
       "\n",
       "#sk-container-id-1 {\n",
       "  color: var(--sklearn-color-text);\n",
       "}\n",
       "\n",
       "#sk-container-id-1 pre {\n",
       "  padding: 0;\n",
       "}\n",
       "\n",
       "#sk-container-id-1 input.sk-hidden--visually {\n",
       "  border: 0;\n",
       "  clip: rect(1px 1px 1px 1px);\n",
       "  clip: rect(1px, 1px, 1px, 1px);\n",
       "  height: 1px;\n",
       "  margin: -1px;\n",
       "  overflow: hidden;\n",
       "  padding: 0;\n",
       "  position: absolute;\n",
       "  width: 1px;\n",
       "}\n",
       "\n",
       "#sk-container-id-1 div.sk-dashed-wrapped {\n",
       "  border: 1px dashed var(--sklearn-color-line);\n",
       "  margin: 0 0.4em 0.5em 0.4em;\n",
       "  box-sizing: border-box;\n",
       "  padding-bottom: 0.4em;\n",
       "  background-color: var(--sklearn-color-background);\n",
       "}\n",
       "\n",
       "#sk-container-id-1 div.sk-container {\n",
       "  /* jupyter's `normalize.less` sets `[hidden] { display: none; }`\n",
       "     but bootstrap.min.css set `[hidden] { display: none !important; }`\n",
       "     so we also need the `!important` here to be able to override the\n",
       "     default hidden behavior on the sphinx rendered scikit-learn.org.\n",
       "     See: https://github.com/scikit-learn/scikit-learn/issues/21755 */\n",
       "  display: inline-block !important;\n",
       "  position: relative;\n",
       "}\n",
       "\n",
       "#sk-container-id-1 div.sk-text-repr-fallback {\n",
       "  display: none;\n",
       "}\n",
       "\n",
       "div.sk-parallel-item,\n",
       "div.sk-serial,\n",
       "div.sk-item {\n",
       "  /* draw centered vertical line to link estimators */\n",
       "  background-image: linear-gradient(var(--sklearn-color-text-on-default-background), var(--sklearn-color-text-on-default-background));\n",
       "  background-size: 2px 100%;\n",
       "  background-repeat: no-repeat;\n",
       "  background-position: center center;\n",
       "}\n",
       "\n",
       "/* Parallel-specific style estimator block */\n",
       "\n",
       "#sk-container-id-1 div.sk-parallel-item::after {\n",
       "  content: \"\";\n",
       "  width: 100%;\n",
       "  border-bottom: 2px solid var(--sklearn-color-text-on-default-background);\n",
       "  flex-grow: 1;\n",
       "}\n",
       "\n",
       "#sk-container-id-1 div.sk-parallel {\n",
       "  display: flex;\n",
       "  align-items: stretch;\n",
       "  justify-content: center;\n",
       "  background-color: var(--sklearn-color-background);\n",
       "  position: relative;\n",
       "}\n",
       "\n",
       "#sk-container-id-1 div.sk-parallel-item {\n",
       "  display: flex;\n",
       "  flex-direction: column;\n",
       "}\n",
       "\n",
       "#sk-container-id-1 div.sk-parallel-item:first-child::after {\n",
       "  align-self: flex-end;\n",
       "  width: 50%;\n",
       "}\n",
       "\n",
       "#sk-container-id-1 div.sk-parallel-item:last-child::after {\n",
       "  align-self: flex-start;\n",
       "  width: 50%;\n",
       "}\n",
       "\n",
       "#sk-container-id-1 div.sk-parallel-item:only-child::after {\n",
       "  width: 0;\n",
       "}\n",
       "\n",
       "/* Serial-specific style estimator block */\n",
       "\n",
       "#sk-container-id-1 div.sk-serial {\n",
       "  display: flex;\n",
       "  flex-direction: column;\n",
       "  align-items: center;\n",
       "  background-color: var(--sklearn-color-background);\n",
       "  padding-right: 1em;\n",
       "  padding-left: 1em;\n",
       "}\n",
       "\n",
       "\n",
       "/* Toggleable style: style used for estimator/Pipeline/ColumnTransformer box that is\n",
       "clickable and can be expanded/collapsed.\n",
       "- Pipeline and ColumnTransformer use this feature and define the default style\n",
       "- Estimators will overwrite some part of the style using the `sk-estimator` class\n",
       "*/\n",
       "\n",
       "/* Pipeline and ColumnTransformer style (default) */\n",
       "\n",
       "#sk-container-id-1 div.sk-toggleable {\n",
       "  /* Default theme specific background. It is overwritten whether we have a\n",
       "  specific estimator or a Pipeline/ColumnTransformer */\n",
       "  background-color: var(--sklearn-color-background);\n",
       "}\n",
       "\n",
       "/* Toggleable label */\n",
       "#sk-container-id-1 label.sk-toggleable__label {\n",
       "  cursor: pointer;\n",
       "  display: block;\n",
       "  width: 100%;\n",
       "  margin-bottom: 0;\n",
       "  padding: 0.5em;\n",
       "  box-sizing: border-box;\n",
       "  text-align: center;\n",
       "}\n",
       "\n",
       "#sk-container-id-1 label.sk-toggleable__label-arrow:before {\n",
       "  /* Arrow on the left of the label */\n",
       "  content: \"▸\";\n",
       "  float: left;\n",
       "  margin-right: 0.25em;\n",
       "  color: var(--sklearn-color-icon);\n",
       "}\n",
       "\n",
       "#sk-container-id-1 label.sk-toggleable__label-arrow:hover:before {\n",
       "  color: var(--sklearn-color-text);\n",
       "}\n",
       "\n",
       "/* Toggleable content - dropdown */\n",
       "\n",
       "#sk-container-id-1 div.sk-toggleable__content {\n",
       "  max-height: 0;\n",
       "  max-width: 0;\n",
       "  overflow: hidden;\n",
       "  text-align: left;\n",
       "  /* unfitted */\n",
       "  background-color: var(--sklearn-color-unfitted-level-0);\n",
       "}\n",
       "\n",
       "#sk-container-id-1 div.sk-toggleable__content.fitted {\n",
       "  /* fitted */\n",
       "  background-color: var(--sklearn-color-fitted-level-0);\n",
       "}\n",
       "\n",
       "#sk-container-id-1 div.sk-toggleable__content pre {\n",
       "  margin: 0.2em;\n",
       "  border-radius: 0.25em;\n",
       "  color: var(--sklearn-color-text);\n",
       "  /* unfitted */\n",
       "  background-color: var(--sklearn-color-unfitted-level-0);\n",
       "}\n",
       "\n",
       "#sk-container-id-1 div.sk-toggleable__content.fitted pre {\n",
       "  /* unfitted */\n",
       "  background-color: var(--sklearn-color-fitted-level-0);\n",
       "}\n",
       "\n",
       "#sk-container-id-1 input.sk-toggleable__control:checked~div.sk-toggleable__content {\n",
       "  /* Expand drop-down */\n",
       "  max-height: 200px;\n",
       "  max-width: 100%;\n",
       "  overflow: auto;\n",
       "}\n",
       "\n",
       "#sk-container-id-1 input.sk-toggleable__control:checked~label.sk-toggleable__label-arrow:before {\n",
       "  content: \"▾\";\n",
       "}\n",
       "\n",
       "/* Pipeline/ColumnTransformer-specific style */\n",
       "\n",
       "#sk-container-id-1 div.sk-label input.sk-toggleable__control:checked~label.sk-toggleable__label {\n",
       "  color: var(--sklearn-color-text);\n",
       "  background-color: var(--sklearn-color-unfitted-level-2);\n",
       "}\n",
       "\n",
       "#sk-container-id-1 div.sk-label.fitted input.sk-toggleable__control:checked~label.sk-toggleable__label {\n",
       "  background-color: var(--sklearn-color-fitted-level-2);\n",
       "}\n",
       "\n",
       "/* Estimator-specific style */\n",
       "\n",
       "/* Colorize estimator box */\n",
       "#sk-container-id-1 div.sk-estimator input.sk-toggleable__control:checked~label.sk-toggleable__label {\n",
       "  /* unfitted */\n",
       "  background-color: var(--sklearn-color-unfitted-level-2);\n",
       "}\n",
       "\n",
       "#sk-container-id-1 div.sk-estimator.fitted input.sk-toggleable__control:checked~label.sk-toggleable__label {\n",
       "  /* fitted */\n",
       "  background-color: var(--sklearn-color-fitted-level-2);\n",
       "}\n",
       "\n",
       "#sk-container-id-1 div.sk-label label.sk-toggleable__label,\n",
       "#sk-container-id-1 div.sk-label label {\n",
       "  /* The background is the default theme color */\n",
       "  color: var(--sklearn-color-text-on-default-background);\n",
       "}\n",
       "\n",
       "/* On hover, darken the color of the background */\n",
       "#sk-container-id-1 div.sk-label:hover label.sk-toggleable__label {\n",
       "  color: var(--sklearn-color-text);\n",
       "  background-color: var(--sklearn-color-unfitted-level-2);\n",
       "}\n",
       "\n",
       "/* Label box, darken color on hover, fitted */\n",
       "#sk-container-id-1 div.sk-label.fitted:hover label.sk-toggleable__label.fitted {\n",
       "  color: var(--sklearn-color-text);\n",
       "  background-color: var(--sklearn-color-fitted-level-2);\n",
       "}\n",
       "\n",
       "/* Estimator label */\n",
       "\n",
       "#sk-container-id-1 div.sk-label label {\n",
       "  font-family: monospace;\n",
       "  font-weight: bold;\n",
       "  display: inline-block;\n",
       "  line-height: 1.2em;\n",
       "}\n",
       "\n",
       "#sk-container-id-1 div.sk-label-container {\n",
       "  text-align: center;\n",
       "}\n",
       "\n",
       "/* Estimator-specific */\n",
       "#sk-container-id-1 div.sk-estimator {\n",
       "  font-family: monospace;\n",
       "  border: 1px dotted var(--sklearn-color-border-box);\n",
       "  border-radius: 0.25em;\n",
       "  box-sizing: border-box;\n",
       "  margin-bottom: 0.5em;\n",
       "  /* unfitted */\n",
       "  background-color: var(--sklearn-color-unfitted-level-0);\n",
       "}\n",
       "\n",
       "#sk-container-id-1 div.sk-estimator.fitted {\n",
       "  /* fitted */\n",
       "  background-color: var(--sklearn-color-fitted-level-0);\n",
       "}\n",
       "\n",
       "/* on hover */\n",
       "#sk-container-id-1 div.sk-estimator:hover {\n",
       "  /* unfitted */\n",
       "  background-color: var(--sklearn-color-unfitted-level-2);\n",
       "}\n",
       "\n",
       "#sk-container-id-1 div.sk-estimator.fitted:hover {\n",
       "  /* fitted */\n",
       "  background-color: var(--sklearn-color-fitted-level-2);\n",
       "}\n",
       "\n",
       "/* Specification for estimator info (e.g. \"i\" and \"?\") */\n",
       "\n",
       "/* Common style for \"i\" and \"?\" */\n",
       "\n",
       ".sk-estimator-doc-link,\n",
       "a:link.sk-estimator-doc-link,\n",
       "a:visited.sk-estimator-doc-link {\n",
       "  float: right;\n",
       "  font-size: smaller;\n",
       "  line-height: 1em;\n",
       "  font-family: monospace;\n",
       "  background-color: var(--sklearn-color-background);\n",
       "  border-radius: 1em;\n",
       "  height: 1em;\n",
       "  width: 1em;\n",
       "  text-decoration: none !important;\n",
       "  margin-left: 1ex;\n",
       "  /* unfitted */\n",
       "  border: var(--sklearn-color-unfitted-level-1) 1pt solid;\n",
       "  color: var(--sklearn-color-unfitted-level-1);\n",
       "}\n",
       "\n",
       ".sk-estimator-doc-link.fitted,\n",
       "a:link.sk-estimator-doc-link.fitted,\n",
       "a:visited.sk-estimator-doc-link.fitted {\n",
       "  /* fitted */\n",
       "  border: var(--sklearn-color-fitted-level-1) 1pt solid;\n",
       "  color: var(--sklearn-color-fitted-level-1);\n",
       "}\n",
       "\n",
       "/* On hover */\n",
       "div.sk-estimator:hover .sk-estimator-doc-link:hover,\n",
       ".sk-estimator-doc-link:hover,\n",
       "div.sk-label-container:hover .sk-estimator-doc-link:hover,\n",
       ".sk-estimator-doc-link:hover {\n",
       "  /* unfitted */\n",
       "  background-color: var(--sklearn-color-unfitted-level-3);\n",
       "  color: var(--sklearn-color-background);\n",
       "  text-decoration: none;\n",
       "}\n",
       "\n",
       "div.sk-estimator.fitted:hover .sk-estimator-doc-link.fitted:hover,\n",
       ".sk-estimator-doc-link.fitted:hover,\n",
       "div.sk-label-container:hover .sk-estimator-doc-link.fitted:hover,\n",
       ".sk-estimator-doc-link.fitted:hover {\n",
       "  /* fitted */\n",
       "  background-color: var(--sklearn-color-fitted-level-3);\n",
       "  color: var(--sklearn-color-background);\n",
       "  text-decoration: none;\n",
       "}\n",
       "\n",
       "/* Span, style for the box shown on hovering the info icon */\n",
       ".sk-estimator-doc-link span {\n",
       "  display: none;\n",
       "  z-index: 9999;\n",
       "  position: relative;\n",
       "  font-weight: normal;\n",
       "  right: .2ex;\n",
       "  padding: .5ex;\n",
       "  margin: .5ex;\n",
       "  width: min-content;\n",
       "  min-width: 20ex;\n",
       "  max-width: 50ex;\n",
       "  color: var(--sklearn-color-text);\n",
       "  box-shadow: 2pt 2pt 4pt #999;\n",
       "  /* unfitted */\n",
       "  background: var(--sklearn-color-unfitted-level-0);\n",
       "  border: .5pt solid var(--sklearn-color-unfitted-level-3);\n",
       "}\n",
       "\n",
       ".sk-estimator-doc-link.fitted span {\n",
       "  /* fitted */\n",
       "  background: var(--sklearn-color-fitted-level-0);\n",
       "  border: var(--sklearn-color-fitted-level-3);\n",
       "}\n",
       "\n",
       ".sk-estimator-doc-link:hover span {\n",
       "  display: block;\n",
       "}\n",
       "\n",
       "/* \"?\"-specific style due to the `<a>` HTML tag */\n",
       "\n",
       "#sk-container-id-1 a.estimator_doc_link {\n",
       "  float: right;\n",
       "  font-size: 1rem;\n",
       "  line-height: 1em;\n",
       "  font-family: monospace;\n",
       "  background-color: var(--sklearn-color-background);\n",
       "  border-radius: 1rem;\n",
       "  height: 1rem;\n",
       "  width: 1rem;\n",
       "  text-decoration: none;\n",
       "  /* unfitted */\n",
       "  color: var(--sklearn-color-unfitted-level-1);\n",
       "  border: var(--sklearn-color-unfitted-level-1) 1pt solid;\n",
       "}\n",
       "\n",
       "#sk-container-id-1 a.estimator_doc_link.fitted {\n",
       "  /* fitted */\n",
       "  border: var(--sklearn-color-fitted-level-1) 1pt solid;\n",
       "  color: var(--sklearn-color-fitted-level-1);\n",
       "}\n",
       "\n",
       "/* On hover */\n",
       "#sk-container-id-1 a.estimator_doc_link:hover {\n",
       "  /* unfitted */\n",
       "  background-color: var(--sklearn-color-unfitted-level-3);\n",
       "  color: var(--sklearn-color-background);\n",
       "  text-decoration: none;\n",
       "}\n",
       "\n",
       "#sk-container-id-1 a.estimator_doc_link.fitted:hover {\n",
       "  /* fitted */\n",
       "  background-color: var(--sklearn-color-fitted-level-3);\n",
       "}\n",
       "</style><div id=\"sk-container-id-1\" class=\"sk-top-container\"><div class=\"sk-text-repr-fallback\"><pre>XGBClassifier(base_score=None, booster=None, callbacks=None,\n",
       "              colsample_bylevel=None, colsample_bynode=0.6865463017845719,\n",
       "              colsample_bytree=None, device=None, early_stopping_rounds=None,\n",
       "              enable_categorical=False,\n",
       "              eval_metric=&lt;function custom_f1_score at 0x7fb88f2344a0&gt;,\n",
       "              feature_types=None, gamma=None, grow_policy=None,\n",
       "              importance_type=None, interaction_constraints=None,\n",
       "              learning_rate=0.2941763519887923, max_bin=None,\n",
       "              max_cat_threshold=None, max_cat_to_onehot=None,\n",
       "              max_delta_step=None, max_depth=7, max_leaves=None,\n",
       "              min_child_weight=20, missing=nan, monotone_constraints=None,\n",
       "              multi_strategy=None, n_estimators=147, n_jobs=None,\n",
       "              num_parallel_tree=None, objective=&#x27;multi:softprob&#x27;, ...)</pre><b>In a Jupyter environment, please rerun this cell to show the HTML representation or trust the notebook. <br />On GitHub, the HTML representation is unable to render, please try loading this page with nbviewer.org.</b></div><div class=\"sk-container\" hidden><div class=\"sk-item\"><div class=\"sk-estimator fitted sk-toggleable\"><input class=\"sk-toggleable__control sk-hidden--visually\" id=\"sk-estimator-id-1\" type=\"checkbox\" checked><label for=\"sk-estimator-id-1\" class=\"sk-toggleable__label fitted sk-toggleable__label-arrow fitted\">&nbsp;XGBClassifier<span class=\"sk-estimator-doc-link fitted\">i<span>Fitted</span></span></label><div class=\"sk-toggleable__content fitted\"><pre>XGBClassifier(base_score=None, booster=None, callbacks=None,\n",
       "              colsample_bylevel=None, colsample_bynode=0.6865463017845719,\n",
       "              colsample_bytree=None, device=None, early_stopping_rounds=None,\n",
       "              enable_categorical=False,\n",
       "              eval_metric=&lt;function custom_f1_score at 0x7fb88f2344a0&gt;,\n",
       "              feature_types=None, gamma=None, grow_policy=None,\n",
       "              importance_type=None, interaction_constraints=None,\n",
       "              learning_rate=0.2941763519887923, max_bin=None,\n",
       "              max_cat_threshold=None, max_cat_to_onehot=None,\n",
       "              max_delta_step=None, max_depth=7, max_leaves=None,\n",
       "              min_child_weight=20, missing=nan, monotone_constraints=None,\n",
       "              multi_strategy=None, n_estimators=147, n_jobs=None,\n",
       "              num_parallel_tree=None, objective=&#x27;multi:softprob&#x27;, ...)</pre></div> </div></div></div></div>"
      ],
      "text/plain": [
       "XGBClassifier(base_score=None, booster=None, callbacks=None,\n",
       "              colsample_bylevel=None, colsample_bynode=0.6865463017845719,\n",
       "              colsample_bytree=None, device=None, early_stopping_rounds=None,\n",
       "              enable_categorical=False,\n",
       "              eval_metric=<function custom_f1_score at 0x7fb88f2344a0>,\n",
       "              feature_types=None, gamma=None, grow_policy=None,\n",
       "              importance_type=None, interaction_constraints=None,\n",
       "              learning_rate=0.2941763519887923, max_bin=None,\n",
       "              max_cat_threshold=None, max_cat_to_onehot=None,\n",
       "              max_delta_step=None, max_depth=7, max_leaves=None,\n",
       "              min_child_weight=20, missing=nan, monotone_constraints=None,\n",
       "              multi_strategy=None, n_estimators=147, n_jobs=None,\n",
       "              num_parallel_tree=None, objective='multi:softprob', ...)"
      ]
     },
     "execution_count": 21,
     "metadata": {},
     "output_type": "execute_result"
    }
   ],
   "source": [
    "n_estimators = int(study.best_trial.user_attrs['best_iteration']*1.2)\n",
    "xgb = xgboost.XGBClassifier(\n",
    "        eval_metric=eval_metric,\n",
    "        n_estimators=n_estimators,\n",
    "        **study.best_trial.params\n",
    "    )\n",
    "xgb.fit(\n",
    "    ssp.vstack((X_train, X_val)), \n",
    "    np.concatenate((y_train_enc, y_val_enc)),\n",
    "    verbose=1,\n",
    ")"
   ]
  },
  {
   "cell_type": "code",
   "execution_count": 22,
   "id": "d5880472",
   "metadata": {
    "execution": {
     "iopub.execute_input": "2025-05-14T16:28:53.349156Z",
     "iopub.status.busy": "2025-05-14T16:28:53.348958Z",
     "iopub.status.idle": "2025-05-14T16:28:53.402590Z",
     "shell.execute_reply": "2025-05-14T16:28:53.402216Z"
    },
    "papermill": {
     "duration": 0.063795,
     "end_time": "2025-05-14T16:28:53.403439",
     "exception": false,
     "start_time": "2025-05-14T16:28:53.339644",
     "status": "completed"
    },
    "tags": []
   },
   "outputs": [
    {
     "data": {
      "text/plain": [
       "['/scratch_isilon/groups/singlecell/shared/projects/Inflammation-PBMCs-Atlas/03_downstream_analysis/08_gene_importance/xgboost_external_validation/xgboost_TopN_genes/results_20/best_model/Mono_shap_studyID_NOdisease_3_xgb.json']"
      ]
     },
     "execution_count": 22,
     "metadata": {},
     "output_type": "execute_result"
    }
   ],
   "source": [
    "out_dir = here(f'03_downstream_analysis/08_gene_importance/xgboost_external_validation/xgboost_TopN_genes/results_{N_GENES}/best_model')\n",
    "\n",
    "if not os.path.exists(out_dir):\n",
    "    os.makedirs(out_dir)\n",
    "    \n",
    "joblib.dump(xgb, os.path.join(out_dir, f'{CELL_TYPE}_{SEED}_{TEST_SPLIT_IDX}_xgb.json'))"
   ]
  },
  {
   "cell_type": "code",
   "execution_count": 23,
   "id": "aa253272",
   "metadata": {
    "execution": {
     "iopub.execute_input": "2025-05-14T16:28:53.441641Z",
     "iopub.status.busy": "2025-05-14T16:28:53.441328Z",
     "iopub.status.idle": "2025-05-14T16:28:54.169782Z",
     "shell.execute_reply": "2025-05-14T16:28:54.169294Z"
    },
    "papermill": {
     "duration": 0.759151,
     "end_time": "2025-05-14T16:28:54.171276",
     "exception": false,
     "start_time": "2025-05-14T16:28:53.412125",
     "status": "completed"
    },
    "tags": []
   },
   "outputs": [],
   "source": [
    "df_pred_test = pd.DataFrame(dict(\n",
    "    cell_id=train_adata.obs.iloc[test_idxs].index.values,\n",
    "    y_true=y_test, \n",
    "    y_true_code=y_test_enc, \n",
    "    y_pred=xgb.predict(X_test))).set_index('cell_id')"
   ]
  },
  {
   "cell_type": "code",
   "execution_count": 24,
   "id": "b0204b1e",
   "metadata": {
    "execution": {
     "iopub.execute_input": "2025-05-14T16:28:54.191163Z",
     "iopub.status.busy": "2025-05-14T16:28:54.190616Z",
     "iopub.status.idle": "2025-05-14T16:28:54.390691Z",
     "shell.execute_reply": "2025-05-14T16:28:54.390160Z"
    },
    "papermill": {
     "duration": 0.211737,
     "end_time": "2025-05-14T16:28:54.392145",
     "exception": false,
     "start_time": "2025-05-14T16:28:54.180408",
     "status": "completed"
    },
    "tags": []
   },
   "outputs": [],
   "source": [
    "out_dir = here(f'03_downstream_analysis/08_gene_importance/xgboost_external_validation/xgboost_TopN_genes/results_{N_GENES}/predictions')\n",
    "\n",
    "if not os.path.exists(out_dir):\n",
    "    os.makedirs(out_dir)\n",
    "    \n",
    "df_pred_test.to_csv(os.path.join(out_dir, f'{CELL_TYPE}_{SEED}_{TEST_SPLIT_IDX}_pred_test.zip'))"
   ]
  },
  {
   "cell_type": "code",
   "execution_count": 25,
   "id": "cd87a444",
   "metadata": {
    "execution": {
     "iopub.execute_input": "2025-05-14T16:28:54.411512Z",
     "iopub.status.busy": "2025-05-14T16:28:54.411214Z",
     "iopub.status.idle": "2025-05-14T16:28:54.434411Z",
     "shell.execute_reply": "2025-05-14T16:28:54.433929Z"
    },
    "papermill": {
     "duration": 0.0338,
     "end_time": "2025-05-14T16:28:54.435416",
     "exception": false,
     "start_time": "2025-05-14T16:28:54.401616",
     "status": "completed"
    },
    "tags": []
   },
   "outputs": [
    {
     "name": "stderr",
     "output_type": "stream",
     "text": [
      "/scratch_isilon/groups/singlecell/shared/conda_env/xgboost-cpu/lib/python3.12/site-packages/sklearn/metrics/_classification.py:2466: UserWarning: y_pred contains classes not in y_true\n",
      "  warnings.warn(\"y_pred contains classes not in y_true\")\n"
     ]
    }
   ],
   "source": [
    "metrics_dict = dict(\n",
    "    BAS=balanced_accuracy_score(y_true=df_pred_test.y_true_code, y_pred=df_pred_test.y_pred), WF1=f1_score(y_true=df_pred_test.y_true_code, y_pred=df_pred_test.y_pred,average='weighted'))"
   ]
  },
  {
   "cell_type": "code",
   "execution_count": 26,
   "id": "3e83646f",
   "metadata": {
    "execution": {
     "iopub.execute_input": "2025-05-14T16:28:54.455193Z",
     "iopub.status.busy": "2025-05-14T16:28:54.454826Z",
     "iopub.status.idle": "2025-05-14T16:28:54.458019Z",
     "shell.execute_reply": "2025-05-14T16:28:54.457679Z"
    },
    "papermill": {
     "duration": 0.013772,
     "end_time": "2025-05-14T16:28:54.458880",
     "exception": false,
     "start_time": "2025-05-14T16:28:54.445108",
     "status": "completed"
    },
    "tags": []
   },
   "outputs": [
    {
     "data": {
      "text/plain": [
       "{'BAS': 0.6288545392595276, 'WF1': 0.7828281693744266}"
      ]
     },
     "execution_count": 26,
     "metadata": {},
     "output_type": "execute_result"
    }
   ],
   "source": [
    "metrics_dict"
   ]
  },
  {
   "cell_type": "code",
   "execution_count": 27,
   "id": "316219f4",
   "metadata": {
    "execution": {
     "iopub.execute_input": "2025-05-14T16:28:54.477389Z",
     "iopub.status.busy": "2025-05-14T16:28:54.477027Z",
     "iopub.status.idle": "2025-05-14T16:28:54.486830Z",
     "shell.execute_reply": "2025-05-14T16:28:54.486496Z"
    },
    "papermill": {
     "duration": 0.020115,
     "end_time": "2025-05-14T16:28:54.487755",
     "exception": false,
     "start_time": "2025-05-14T16:28:54.467640",
     "status": "completed"
    },
    "tags": []
   },
   "outputs": [
    {
     "data": {
      "text/html": [
       "<div>\n",
       "<style scoped>\n",
       "    .dataframe tbody tr th:only-of-type {\n",
       "        vertical-align: middle;\n",
       "    }\n",
       "\n",
       "    .dataframe tbody tr th {\n",
       "        vertical-align: top;\n",
       "    }\n",
       "\n",
       "    .dataframe thead th {\n",
       "        text-align: right;\n",
       "    }\n",
       "</style>\n",
       "<table border=\"1\" class=\"dataframe\">\n",
       "  <thead>\n",
       "    <tr style=\"text-align: right;\">\n",
       "      <th></th>\n",
       "      <th>BAS</th>\n",
       "      <th>WF1</th>\n",
       "      <th>split_idx</th>\n",
       "      <th>gene_set_seed</th>\n",
       "      <th>cell_type</th>\n",
       "    </tr>\n",
       "  </thead>\n",
       "  <tbody>\n",
       "    <tr>\n",
       "      <th>0</th>\n",
       "      <td>0.628855</td>\n",
       "      <td>0.782828</td>\n",
       "      <td>3</td>\n",
       "      <td>shap_studyID_NOdisease</td>\n",
       "      <td>Mono</td>\n",
       "    </tr>\n",
       "  </tbody>\n",
       "</table>\n",
       "</div>"
      ],
      "text/plain": [
       "        BAS       WF1  split_idx           gene_set_seed cell_type\n",
       "0  0.628855  0.782828          3  shap_studyID_NOdisease      Mono"
      ]
     },
     "execution_count": 27,
     "metadata": {},
     "output_type": "execute_result"
    }
   ],
   "source": [
    "metrics_df = pd.DataFrame.from_dict([metrics_dict]).assign(split_idx=TEST_SPLIT_IDX, gene_set_seed=SEED, cell_type=CELL_TYPE)\n",
    "metrics_df"
   ]
  },
  {
   "cell_type": "code",
   "execution_count": 28,
   "id": "b341a24a",
   "metadata": {
    "execution": {
     "iopub.execute_input": "2025-05-14T16:28:54.507643Z",
     "iopub.status.busy": "2025-05-14T16:28:54.507249Z",
     "iopub.status.idle": "2025-05-14T16:28:54.516949Z",
     "shell.execute_reply": "2025-05-14T16:28:54.516604Z"
    },
    "papermill": {
     "duration": 0.021093,
     "end_time": "2025-05-14T16:28:54.517901",
     "exception": false,
     "start_time": "2025-05-14T16:28:54.496808",
     "status": "completed"
    },
    "tags": []
   },
   "outputs": [],
   "source": [
    "out_dir = here(f'03_downstream_analysis/08_gene_importance/xgboost_external_validation/xgboost_TopN_genes/results_{N_GENES}/metrics')\n",
    "\n",
    "if not os.path.exists(out_dir):\n",
    "    os.makedirs(out_dir)\n",
    "    \n",
    "metrics_df.to_csv(os.path.join(out_dir, f'{CELL_TYPE}_{SEED}_{TEST_SPLIT_IDX}_metrics.zip'))"
   ]
  }
 ],
 "metadata": {
  "kernelspec": {
   "display_name": "Python 3 (ipykernel)",
   "language": "python",
   "name": "python3"
  },
  "language_info": {
   "codemirror_mode": {
    "name": "ipython",
    "version": 3
   },
   "file_extension": ".py",
   "mimetype": "text/x-python",
   "name": "python",
   "nbconvert_exporter": "python",
   "pygments_lexer": "ipython3",
   "version": "3.12.5"
  },
  "papermill": {
   "default_parameters": {},
   "duration": 1290.836448,
   "end_time": "2025-05-14T16:28:55.243613",
   "environment_variables": {},
   "exception": null,
   "input_path": "02_xgboost_fitting_external_20genes.ipynb",
   "output_path": "results_20/executed_notebooks/xgboost_fitting_external_CT_Mono_GS_shap_studyID_NOdisease_seed3.ipynb",
   "parameters": {
    "CELL_TYPE": "Mono",
    "SEED": "shap_studyID_NOdisease",
    "TEST_SPLIT_IDX": 3
   },
   "start_time": "2025-05-14T16:07:24.407165",
   "version": "2.6.0"
  }
 },
 "nbformat": 4,
 "nbformat_minor": 5
}