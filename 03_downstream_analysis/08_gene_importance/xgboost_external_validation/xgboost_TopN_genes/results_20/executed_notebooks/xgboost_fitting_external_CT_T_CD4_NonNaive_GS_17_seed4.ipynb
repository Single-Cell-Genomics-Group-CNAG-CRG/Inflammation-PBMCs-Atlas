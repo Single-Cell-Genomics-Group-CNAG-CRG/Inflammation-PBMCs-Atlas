{
 "cells": [
  {
   "cell_type": "code",
   "execution_count": 1,
   "id": "cbc6f021",
   "metadata": {
    "editable": true,
    "execution": {
     "iopub.execute_input": "2025-05-15T16:03:28.990234Z",
     "iopub.status.busy": "2025-05-15T16:03:28.990030Z",
     "iopub.status.idle": "2025-05-15T16:03:28.992938Z",
     "shell.execute_reply": "2025-05-15T16:03:28.992555Z"
    },
    "papermill": {
     "duration": 0.01196,
     "end_time": "2025-05-15T16:03:28.993960",
     "exception": false,
     "start_time": "2025-05-15T16:03:28.982000",
     "status": "completed"
    },
    "slideshow": {
     "slide_type": ""
    },
    "tags": [
     "parameters"
    ]
   },
   "outputs": [],
   "source": [
    "CELL_TYPE = 'pDC'\n",
    "N_GENES: int = 20\n",
    "SEED = 'shap_studyID' #'disease_NOstudy' 'study_NOdisease' or 'int' or 'shap_studyID'\n",
    "TEST_SPLIT_IDX: int = 1 #[0,4]"
   ]
  },
  {
   "cell_type": "code",
   "execution_count": 2,
   "id": "5ff89c26",
   "metadata": {
    "execution": {
     "iopub.execute_input": "2025-05-15T16:03:29.006693Z",
     "iopub.status.busy": "2025-05-15T16:03:29.006498Z",
     "iopub.status.idle": "2025-05-15T16:03:29.009316Z",
     "shell.execute_reply": "2025-05-15T16:03:29.008991Z"
    },
    "papermill": {
     "duration": 0.010131,
     "end_time": "2025-05-15T16:03:29.010237",
     "exception": false,
     "start_time": "2025-05-15T16:03:29.000106",
     "status": "completed"
    },
    "tags": [
     "injected-parameters"
    ]
   },
   "outputs": [],
   "source": [
    "# Parameters\n",
    "CELL_TYPE = \"T_CD4_NonNaive\"\n",
    "SEED = 17\n",
    "TEST_SPLIT_IDX = 4\n"
   ]
  },
  {
   "cell_type": "code",
   "execution_count": 3,
   "id": "8fd9ba81",
   "metadata": {
    "execution": {
     "iopub.execute_input": "2025-05-15T16:03:29.023099Z",
     "iopub.status.busy": "2025-05-15T16:03:29.022753Z",
     "iopub.status.idle": "2025-05-15T16:03:29.024963Z",
     "shell.execute_reply": "2025-05-15T16:03:29.024617Z"
    },
    "papermill": {
     "duration": 0.009475,
     "end_time": "2025-05-15T16:03:29.025912",
     "exception": false,
     "start_time": "2025-05-15T16:03:29.016437",
     "status": "completed"
    },
    "tags": []
   },
   "outputs": [],
   "source": [
    "N_SPLITS: int = 5\n",
    "N_TRIALS: int = 50"
   ]
  },
  {
   "cell_type": "code",
   "execution_count": 4,
   "id": "0ac65020",
   "metadata": {
    "execution": {
     "iopub.execute_input": "2025-05-15T16:03:29.038263Z",
     "iopub.status.busy": "2025-05-15T16:03:29.038088Z",
     "iopub.status.idle": "2025-05-15T16:03:30.534744Z",
     "shell.execute_reply": "2025-05-15T16:03:30.534141Z"
    },
    "papermill": {
     "duration": 1.504702,
     "end_time": "2025-05-15T16:03:30.536116",
     "exception": false,
     "start_time": "2025-05-15T16:03:29.031414",
     "status": "completed"
    },
    "tags": []
   },
   "outputs": [],
   "source": [
    "import os\n",
    "import sys\n",
    "from pyprojroot.here import here\n",
    "import pandas as pd\n",
    "import anndata as ad\n",
    "import numpy as np\n",
    "import math\n",
    "from sklearn.model_selection import StratifiedGroupKFold\n",
    "from sklearn.preprocessing import LabelEncoder\n",
    "from sklearn.metrics import f1_score\n",
    "import matplotlib.pyplot as plt\n",
    "import seaborn as sns\n",
    "from itertools import product\n",
    "from sklearn.metrics import balanced_accuracy_score, f1_score\n",
    "import optuna\n",
    "\n",
    "import joblib\n",
    "import pickle\n",
    "import datetime\n",
    "\n",
    "import collections\n",
    "\n",
    "import xgboost\n",
    "from sklearn.preprocessing import LabelEncoder\n",
    "\n",
    "import scipy.sparse as ssp\n",
    "import joblib\n",
    "\n",
    "from dotenv import load_dotenv"
   ]
  },
  {
   "cell_type": "code",
   "execution_count": 5,
   "id": "c3178e7a",
   "metadata": {
    "execution": {
     "iopub.execute_input": "2025-05-15T16:03:30.550116Z",
     "iopub.status.busy": "2025-05-15T16:03:30.549704Z",
     "iopub.status.idle": "2025-05-15T16:03:30.556147Z",
     "shell.execute_reply": "2025-05-15T16:03:30.555724Z"
    },
    "papermill": {
     "duration": 0.014286,
     "end_time": "2025-05-15T16:03:30.557218",
     "exception": false,
     "start_time": "2025-05-15T16:03:30.542932",
     "status": "completed"
    },
    "tags": []
   },
   "outputs": [
    {
     "data": {
      "text/plain": [
       "True"
      ]
     },
     "execution_count": 5,
     "metadata": {},
     "output_type": "execute_result"
    }
   ],
   "source": [
    "load_dotenv()"
   ]
  },
  {
   "cell_type": "markdown",
   "id": "bf336f67",
   "metadata": {
    "papermill": {
     "duration": 0.00613,
     "end_time": "2025-05-15T16:03:30.569557",
     "exception": false,
     "start_time": "2025-05-15T16:03:30.563427",
     "status": "completed"
    },
    "tags": []
   },
   "source": [
    "# LOAD DATASET"
   ]
  },
  {
   "cell_type": "code",
   "execution_count": 6,
   "id": "4275897f",
   "metadata": {
    "execution": {
     "iopub.execute_input": "2025-05-15T16:03:30.595664Z",
     "iopub.status.busy": "2025-05-15T16:03:30.595408Z",
     "iopub.status.idle": "2025-05-15T16:03:31.341171Z",
     "shell.execute_reply": "2025-05-15T16:03:31.340661Z"
    },
    "papermill": {
     "duration": 0.754134,
     "end_time": "2025-05-15T16:03:31.342569",
     "exception": false,
     "start_time": "2025-05-15T16:03:30.588435",
     "status": "completed"
    },
    "tags": []
   },
   "outputs": [],
   "source": [
    "train_adata = ad.read_h5ad(\n",
    "    here(f'03_downstream_analysis/08_gene_importance/xgboost_external_validation/xgboost_TopN_genes/data_cellTypes/EXTERNAL_{CELL_TYPE}.filtered.log1p.h5ad')\n",
    ")"
   ]
  },
  {
   "cell_type": "code",
   "execution_count": 7,
   "id": "7e645407",
   "metadata": {
    "execution": {
     "iopub.execute_input": "2025-05-15T16:03:31.356271Z",
     "iopub.status.busy": "2025-05-15T16:03:31.356052Z",
     "iopub.status.idle": "2025-05-15T16:03:31.392704Z",
     "shell.execute_reply": "2025-05-15T16:03:31.392299Z"
    },
    "papermill": {
     "duration": 0.044283,
     "end_time": "2025-05-15T16:03:31.393679",
     "exception": false,
     "start_time": "2025-05-15T16:03:31.349396",
     "status": "completed"
    },
    "tags": []
   },
   "outputs": [
    {
     "name": "stdout",
     "output_type": "stream",
     "text": [
      "['ENSG00000042753' 'ENSG00000137965' 'ENSG00000126267' 'ENSG00000242616'\n",
      " 'ENSG00000092820' 'ENSG00000075426' 'ENSG00000196961' 'ENSG00000138802'\n",
      " 'ENSG00000177556' 'ENSG00000026297' 'ENSG00000115875' 'ENSG00000113441'\n",
      " 'ENSG00000189067' 'ENSG00000068796' 'ENSG00000132965' 'ENSG00000105221'\n",
      " 'ENSG00000168394' 'ENSG00000101439' 'ENSG00000171700' 'ENSG00000107968'\n",
      " 'ENSG00000135821' 'ENSG00000145675' 'ENSG00000152700' 'ENSG00000135916'\n",
      " 'ENSG00000144802' 'ENSG00000129084' 'ENSG00000119655' 'ENSG00000171476'\n",
      " 'ENSG00000011600' 'ENSG00000154814' 'ENSG00000135441' 'ENSG00000033800'\n",
      " 'ENSG00000216490' 'ENSG00000102245' 'ENSG00000008517' 'ENSG00000100385'\n",
      " 'ENSG00000127314' 'ENSG00000075624' 'ENSG00000106605' 'ENSG00000026103'\n",
      " 'ENSG00000136156' 'ENSG00000164104' 'ENSG00000104671' 'ENSG00000125743'\n",
      " 'ENSG00000146278' 'ENSG00000101347' 'ENSG00000096996' 'ENSG00000118515'\n",
      " 'ENSG00000196154' 'ENSG00000117523' 'ENSG00000197747' 'ENSG00000005339'\n",
      " 'ENSG00000151882' 'ENSG00000114423' 'ENSG00000127022' 'ENSG00000166710'\n",
      " 'ENSG00000117984' 'ENSG00000104904' 'ENSG00000100450' 'ENSG00000206503'\n",
      " 'ENSG00000115738' 'ENSG00000153234' 'ENSG00000142634' 'ENSG00000165272'\n",
      " 'ENSG00000109861' 'ENSG00000127184' 'ENSG00000135114' 'ENSG00000198668'\n",
      " 'ENSG00000137100' 'ENSG00000145220' 'ENSG00000184557' 'ENSG00000140105'\n",
      " 'ENSG00000090863' 'ENSG00000170581' 'ENSG00000197102' 'ENSG00000164543'\n",
      " 'ENSG00000152778' 'ENSG00000156587' 'ENSG00000162739' 'ENSG00000115073'\n",
      " 'ENSG00000135720' 'ENSG00000189283' 'ENSG00000152219' 'ENSG00000104894'\n",
      " 'ENSG00000104856' 'ENSG00000118260' 'ENSG00000111796' 'ENSG00000204843'\n",
      " 'ENSG00000134107' 'ENSG00000143761' 'ENSG00000077238' 'ENSG00000149357'\n",
      " 'ENSG00000185201' 'ENSG00000135404' 'ENSG00000142089' 'ENSG00000100664'\n",
      " 'ENSG00000134352' 'ENSG00000142166' 'ENSG00000138107' 'ENSG00000114737'\n",
      " 'ENSG00000175203' 'ENSG00000118971']\n"
     ]
    }
   ],
   "source": [
    "if SEED != 'all':\n",
    "    gene_subset = np.load(here(f'03_downstream_analysis/08_gene_importance/xgboost_external_validation/shap_gene_selection/gene_subsets_{N_GENES}/{CELL_TYPE}_{SEED}.npy'), allow_pickle=True)\n",
    "    train_adata = train_adata[:,gene_subset]\n",
    "    print(gene_subset)\n",
    "elif SEED == 'all':\n",
    "    print('Using all genes')\n",
    "else:\n",
    "    raise ValueError()"
   ]
  },
  {
   "cell_type": "code",
   "execution_count": 8,
   "id": "e68750c1",
   "metadata": {
    "execution": {
     "iopub.execute_input": "2025-05-15T16:03:31.406340Z",
     "iopub.status.busy": "2025-05-15T16:03:31.406140Z",
     "iopub.status.idle": "2025-05-15T16:03:31.409318Z",
     "shell.execute_reply": "2025-05-15T16:03:31.408987Z"
    },
    "papermill": {
     "duration": 0.010604,
     "end_time": "2025-05-15T16:03:31.410239",
     "exception": false,
     "start_time": "2025-05-15T16:03:31.399635",
     "status": "completed"
    },
    "tags": []
   },
   "outputs": [
    {
     "data": {
      "text/plain": [
       "(124886, 102)"
      ]
     },
     "execution_count": 8,
     "metadata": {},
     "output_type": "execute_result"
    }
   ],
   "source": [
    "train_adata.shape"
   ]
  },
  {
   "cell_type": "code",
   "execution_count": 9,
   "id": "5a0f0f1b",
   "metadata": {
    "execution": {
     "iopub.execute_input": "2025-05-15T16:03:31.423172Z",
     "iopub.status.busy": "2025-05-15T16:03:31.422909Z",
     "iopub.status.idle": "2025-05-15T16:03:31.427036Z",
     "shell.execute_reply": "2025-05-15T16:03:31.426665Z"
    },
    "papermill": {
     "duration": 0.011802,
     "end_time": "2025-05-15T16:03:31.428024",
     "exception": false,
     "start_time": "2025-05-15T16:03:31.416222",
     "status": "completed"
    },
    "tags": []
   },
   "outputs": [
    {
     "data": {
      "text/plain": [
       "['RA', 'healthy', 'COVID', 'HIV', 'cirrhosis', 'CD', 'SLE', 'sepsis']\n",
       "Categories (8, object): ['CD', 'COVID', 'HIV', 'RA', 'SLE', 'cirrhosis', 'healthy', 'sepsis']"
      ]
     },
     "execution_count": 9,
     "metadata": {},
     "output_type": "execute_result"
    }
   ],
   "source": [
    "train_adata.obs.disease.unique()"
   ]
  },
  {
   "cell_type": "code",
   "execution_count": 10,
   "id": "68a9fed7",
   "metadata": {
    "execution": {
     "iopub.execute_input": "2025-05-15T16:03:31.440527Z",
     "iopub.status.busy": "2025-05-15T16:03:31.440331Z",
     "iopub.status.idle": "2025-05-15T16:03:31.444660Z",
     "shell.execute_reply": "2025-05-15T16:03:31.444290Z"
    },
    "papermill": {
     "duration": 0.011898,
     "end_time": "2025-05-15T16:03:31.445601",
     "exception": false,
     "start_time": "2025-05-15T16:03:31.433703",
     "status": "completed"
    },
    "tags": []
   },
   "outputs": [
    {
     "data": {
      "text/plain": [
       "['SCGT00val_I036016_T0', 'SCGT00val_I036023_T0', 'SCGT00val_I036015_T0', 'SCGT00val_I036028_T0', 'SCGT00val_I0364_T0', ..., '10XGenomics_10XHC2_T0', '10XGenomics_10XHC3_T0', '10XGenomics_10XHC5_T0', '10XGenomics_10XHC7_T0', '10XGenomics_10XHC8_T0']\n",
       "Length: 86\n",
       "Categories (86, object): ['10XGenomics_10XHC1_T0', '10XGenomics_10XHC2_T0', '10XGenomics_10XHC3_T0', '10XGenomics_10XHC4_T0', ..., 'Savage2021_BRISL6_T0', 'Savage2021_BRISL7_T0', 'Savage2021_PIDA_T0', 'Savage2021_PIDB_T0']"
      ]
     },
     "execution_count": 10,
     "metadata": {},
     "output_type": "execute_result"
    }
   ],
   "source": [
    "train_adata.obs.sampleID.unique()"
   ]
  },
  {
   "cell_type": "code",
   "execution_count": 11,
   "id": "2c758881",
   "metadata": {
    "execution": {
     "iopub.execute_input": "2025-05-15T16:03:31.458402Z",
     "iopub.status.busy": "2025-05-15T16:03:31.458207Z",
     "iopub.status.idle": "2025-05-15T16:03:31.795181Z",
     "shell.execute_reply": "2025-05-15T16:03:31.794735Z"
    },
    "papermill": {
     "duration": 0.344665,
     "end_time": "2025-05-15T16:03:31.796529",
     "exception": false,
     "start_time": "2025-05-15T16:03:31.451864",
     "status": "completed"
    },
    "tags": []
   },
   "outputs": [],
   "source": [
    "all_idxs = np.arange(train_adata.obs.shape[0])\n",
    "left_out_splits = [s[1] for s in StratifiedGroupKFold(n_splits=N_SPLITS).split(all_idxs, train_adata.obs.disease, train_adata.obs.sampleID)]"
   ]
  },
  {
   "cell_type": "code",
   "execution_count": 12,
   "id": "bb8ffcf2",
   "metadata": {
    "execution": {
     "iopub.execute_input": "2025-05-15T16:03:31.810160Z",
     "iopub.status.busy": "2025-05-15T16:03:31.809773Z",
     "iopub.status.idle": "2025-05-15T16:03:31.813472Z",
     "shell.execute_reply": "2025-05-15T16:03:31.813125Z"
    },
    "papermill": {
     "duration": 0.011588,
     "end_time": "2025-05-15T16:03:31.814481",
     "exception": false,
     "start_time": "2025-05-15T16:03:31.802893",
     "status": "completed"
    },
    "tags": []
   },
   "outputs": [
    {
     "data": {
      "text/plain": [
       "([1, 2, 3], 0, 4)"
      ]
     },
     "execution_count": 12,
     "metadata": {},
     "output_type": "execute_result"
    }
   ],
   "source": [
    "TRAIN_SPLIT_IDXS = [0,1,2,3,4]\n",
    "VAL_SPLIT_IDX = (TEST_SPLIT_IDX + 1) % 5\n",
    "TRAIN_SPLIT_IDXS.remove(TEST_SPLIT_IDX)\n",
    "TRAIN_SPLIT_IDXS.remove(VAL_SPLIT_IDX)\n",
    "TRAIN_SPLIT_IDXS, VAL_SPLIT_IDX, TEST_SPLIT_IDX"
   ]
  },
  {
   "cell_type": "code",
   "execution_count": 13,
   "id": "2ebbc8c9",
   "metadata": {
    "execution": {
     "iopub.execute_input": "2025-05-15T16:03:31.827730Z",
     "iopub.status.busy": "2025-05-15T16:03:31.827537Z",
     "iopub.status.idle": "2025-05-15T16:03:31.830221Z",
     "shell.execute_reply": "2025-05-15T16:03:31.829880Z"
    },
    "papermill": {
     "duration": 0.010627,
     "end_time": "2025-05-15T16:03:31.831203",
     "exception": false,
     "start_time": "2025-05-15T16:03:31.820576",
     "status": "completed"
    },
    "tags": []
   },
   "outputs": [],
   "source": [
    "train_idxs = np.concatenate([left_out_splits[idx] for idx in TRAIN_SPLIT_IDXS])\n",
    "val_idxs = left_out_splits[VAL_SPLIT_IDX]\n",
    "test_idxs = left_out_splits[TEST_SPLIT_IDX]"
   ]
  },
  {
   "cell_type": "markdown",
   "id": "99b66f2a",
   "metadata": {
    "papermill": {
     "duration": 0.008673,
     "end_time": "2025-05-15T16:03:31.847365",
     "exception": false,
     "start_time": "2025-05-15T16:03:31.838692",
     "status": "completed"
    },
    "tags": []
   },
   "source": [
    "### SUBSET DATASET INTO TRAIN/TEST/VAL SPLITS"
   ]
  },
  {
   "cell_type": "code",
   "execution_count": 14,
   "id": "eedeeb61",
   "metadata": {
    "execution": {
     "iopub.execute_input": "2025-05-15T16:03:31.861084Z",
     "iopub.status.busy": "2025-05-15T16:03:31.860871Z",
     "iopub.status.idle": "2025-05-15T16:03:32.134552Z",
     "shell.execute_reply": "2025-05-15T16:03:32.134046Z"
    },
    "papermill": {
     "duration": 0.281712,
     "end_time": "2025-05-15T16:03:32.135553",
     "exception": false,
     "start_time": "2025-05-15T16:03:31.853841",
     "status": "completed"
    },
    "tags": []
   },
   "outputs": [
    {
     "data": {
      "text/plain": [
       "((76492, 102), (24117, 102), (24277, 102))"
      ]
     },
     "execution_count": 14,
     "metadata": {},
     "output_type": "execute_result"
    }
   ],
   "source": [
    "X_train = train_adata.X[train_idxs]\n",
    "X_test = train_adata.X[test_idxs]\n",
    "X_val = train_adata.X[val_idxs]\n",
    "X_train.shape, X_test.shape, X_val.shape"
   ]
  },
  {
   "cell_type": "code",
   "execution_count": 15,
   "id": "42259f6d",
   "metadata": {
    "execution": {
     "iopub.execute_input": "2025-05-15T16:03:32.164421Z",
     "iopub.status.busy": "2025-05-15T16:03:32.164193Z",
     "iopub.status.idle": "2025-05-15T16:03:32.178199Z",
     "shell.execute_reply": "2025-05-15T16:03:32.177810Z"
    },
    "papermill": {
     "duration": 0.022571,
     "end_time": "2025-05-15T16:03:32.179222",
     "exception": false,
     "start_time": "2025-05-15T16:03:32.156651",
     "status": "completed"
    },
    "tags": []
   },
   "outputs": [
    {
     "data": {
      "text/plain": [
       "((76492,), (24117,), (24277,))"
      ]
     },
     "execution_count": 15,
     "metadata": {},
     "output_type": "execute_result"
    }
   ],
   "source": [
    "y_train = train_adata.obs.iloc[train_idxs].disease.values.astype(str)\n",
    "y_test = train_adata.obs.iloc[test_idxs].disease.values.astype(str)\n",
    "y_val = train_adata.obs.iloc[val_idxs].disease.values.astype(str)\n",
    "y_train.shape, y_test.shape, y_val.shape"
   ]
  },
  {
   "cell_type": "code",
   "execution_count": 16,
   "id": "6e6ba04b",
   "metadata": {
    "execution": {
     "iopub.execute_input": "2025-05-15T16:03:32.194494Z",
     "iopub.status.busy": "2025-05-15T16:03:32.194266Z",
     "iopub.status.idle": "2025-05-15T16:03:32.225681Z",
     "shell.execute_reply": "2025-05-15T16:03:32.225207Z"
    },
    "papermill": {
     "duration": 0.040749,
     "end_time": "2025-05-15T16:03:32.226821",
     "exception": false,
     "start_time": "2025-05-15T16:03:32.186072",
     "status": "completed"
    },
    "tags": []
   },
   "outputs": [],
   "source": [
    "lenc = LabelEncoder()\n",
    "y_train_enc = lenc.fit_transform(y_train)\n",
    "y_val_enc = lenc.transform(y_val)\n",
    "y_test_enc = lenc.transform(y_test)"
   ]
  },
  {
   "cell_type": "markdown",
   "id": "905554dd",
   "metadata": {
    "papermill": {
     "duration": 0.00658,
     "end_time": "2025-05-15T16:03:32.240407",
     "exception": false,
     "start_time": "2025-05-15T16:03:32.233827",
     "status": "completed"
    },
    "tags": []
   },
   "source": [
    "### GENERATE F1 "
   ]
  },
  {
   "cell_type": "code",
   "execution_count": 17,
   "id": "3accd274",
   "metadata": {
    "execution": {
     "iopub.execute_input": "2025-05-15T16:03:32.254152Z",
     "iopub.status.busy": "2025-05-15T16:03:32.253879Z",
     "iopub.status.idle": "2025-05-15T16:03:32.256456Z",
     "shell.execute_reply": "2025-05-15T16:03:32.256079Z"
    },
    "papermill": {
     "duration": 0.010788,
     "end_time": "2025-05-15T16:03:32.257569",
     "exception": false,
     "start_time": "2025-05-15T16:03:32.246781",
     "status": "completed"
    },
    "tags": []
   },
   "outputs": [],
   "source": [
    "def custom_f1_score(y_true, y_pred):\n",
    "    return -f1_score(y_true, y_pred.argmax(1), average='weighted')"
   ]
  },
  {
   "cell_type": "code",
   "execution_count": 18,
   "id": "ba5f8836",
   "metadata": {
    "execution": {
     "iopub.execute_input": "2025-05-15T16:03:32.271575Z",
     "iopub.status.busy": "2025-05-15T16:03:32.271289Z",
     "iopub.status.idle": "2025-05-15T16:03:32.276003Z",
     "shell.execute_reply": "2025-05-15T16:03:32.275638Z"
    },
    "papermill": {
     "duration": 0.012775,
     "end_time": "2025-05-15T16:03:32.276991",
     "exception": false,
     "start_time": "2025-05-15T16:03:32.264216",
     "status": "completed"
    },
    "tags": []
   },
   "outputs": [],
   "source": [
    "eval_metric=custom_f1_score\n",
    "eval_metric_name='custom_f1_score'\n",
    "\n",
    "def objective(trial):\n",
    "    params = {\n",
    "        'n_estimators': 1500,\n",
    "        'max_depth': trial.suggest_int('max_depth', 3, 20),\n",
    "        'min_child_weight': trial.suggest_int('min_child_weight', 1, 250),\n",
    "        'subsample': trial.suggest_float('subsample', 0.1, 1.0),\n",
    "        'colsample_bynode': trial.suggest_float('colsample_bynode', 0.1, 1.0),\n",
    "        'learning_rate': trial.suggest_float('learning_rate', 1e-3, 5e-1, log=True),\n",
    "    }\n",
    "    pruning_callback = optuna.integration.XGBoostPruningCallback(trial, f'validation_0-{eval_metric_name}')\n",
    "    es_callback = xgboost.callback.EarlyStopping(20, min_delta=0.001)\n",
    "    xgb = xgboost.XGBClassifier(\n",
    "        eval_metric=eval_metric,\n",
    "        callbacks=[pruning_callback, es_callback],\n",
    "        n_jobs=5,\n",
    "        **params\n",
    "    )\n",
    "    xgb.fit(\n",
    "        X_train, \n",
    "        y_train_enc, \n",
    "        verbose=0,\n",
    "        eval_set=[(X_val, y_val_enc)],\n",
    "    )\n",
    "    trial.set_user_attr('best_iteration', xgb.best_iteration)\n",
    "\n",
    "    return xgb.best_score"
   ]
  },
  {
   "cell_type": "code",
   "execution_count": 19,
   "id": "26a3e82c",
   "metadata": {
    "execution": {
     "iopub.execute_input": "2025-05-15T16:03:32.291424Z",
     "iopub.status.busy": "2025-05-15T16:03:32.290954Z",
     "iopub.status.idle": "2025-05-15T16:19:45.096918Z",
     "shell.execute_reply": "2025-05-15T16:19:45.096444Z"
    },
    "papermill": {
     "duration": 972.814641,
     "end_time": "2025-05-15T16:19:45.098296",
     "exception": false,
     "start_time": "2025-05-15T16:03:32.283655",
     "status": "completed"
    },
    "scrolled": true,
    "tags": []
   },
   "outputs": [
    {
     "name": "stderr",
     "output_type": "stream",
     "text": [
      "[I 2025-05-15 18:03:32,293] A new study created in memory with name: no-name-fa103bf1-664a-4314-80c8-9f02bdccc902\n"
     ]
    },
    {
     "name": "stderr",
     "output_type": "stream",
     "text": [
      "[I 2025-05-15 18:03:55,863] Trial 0 finished with value: -0.62487 and parameters: {'max_depth': 9, 'min_child_weight': 238, 'subsample': 0.7587945476302645, 'colsample_bynode': 0.6387926357773329, 'learning_rate': 0.0026368755339723046}. Best is trial 0 with value: -0.62487.\n"
     ]
    },
    {
     "name": "stderr",
     "output_type": "stream",
     "text": [
      "[I 2025-05-15 18:05:33,697] Trial 1 finished with value: -0.7488 and parameters: {'max_depth': 5, 'min_child_weight': 15, 'subsample': 0.8795585311974417, 'colsample_bynode': 0.6410035105688879, 'learning_rate': 0.08148293210105287}. Best is trial 1 with value: -0.7488.\n"
     ]
    },
    {
     "name": "stderr",
     "output_type": "stream",
     "text": [
      "[I 2025-05-15 18:05:45,566] Trial 2 finished with value: -0.611242 and parameters: {'max_depth': 3, 'min_child_weight': 243, 'subsample': 0.8491983767203796, 'colsample_bynode': 0.29110519961044856, 'learning_rate': 0.003095566460242371}. Best is trial 1 with value: -0.7488.\n"
     ]
    },
    {
     "name": "stderr",
     "output_type": "stream",
     "text": [
      "[I 2025-05-15 18:05:53,808] Trial 3 finished with value: -0.640893 and parameters: {'max_depth': 6, 'min_child_weight': 77, 'subsample': 0.5722807884690141, 'colsample_bynode': 0.48875051677790415, 'learning_rate': 0.006109683510122491}. Best is trial 1 with value: -0.7488.\n"
     ]
    },
    {
     "name": "stderr",
     "output_type": "stream",
     "text": [
      "[I 2025-05-15 18:09:12,636] Trial 4 finished with value: -0.736582 and parameters: {'max_depth': 14, 'min_child_weight': 35, 'subsample': 0.3629301836816964, 'colsample_bynode': 0.4297256589643226, 'learning_rate': 0.01701841881702917}. Best is trial 1 with value: -0.7488.\n"
     ]
    },
    {
     "name": "stderr",
     "output_type": "stream",
     "text": [
      "[I 2025-05-15 18:09:24,697] Trial 5 finished with value: -0.651309 and parameters: {'max_depth': 17, 'min_child_weight': 50, 'subsample': 0.5628109945722505, 'colsample_bynode': 0.6331731119758383, 'learning_rate': 0.0013346527038305934}. Best is trial 1 with value: -0.7488.\n"
     ]
    },
    {
     "name": "stderr",
     "output_type": "stream",
     "text": [
      "[I 2025-05-15 18:09:25,393] Trial 6 pruned. Trial was pruned at iteration 0.\n"
     ]
    },
    {
     "name": "stderr",
     "output_type": "stream",
     "text": [
      "[I 2025-05-15 18:09:26,070] Trial 7 pruned. Trial was pruned at iteration 0.\n"
     ]
    },
    {
     "name": "stderr",
     "output_type": "stream",
     "text": [
      "[I 2025-05-15 18:09:26,688] Trial 8 pruned. Trial was pruned at iteration 0.\n"
     ]
    },
    {
     "name": "stderr",
     "output_type": "stream",
     "text": [
      "[I 2025-05-15 18:09:36,612] Trial 9 finished with value: -0.645688 and parameters: {'max_depth': 14, 'min_child_weight': 78, 'subsample': 0.5680612190600297, 'colsample_bynode': 0.5920392514089517, 'learning_rate': 0.0031543990308330965}. Best is trial 1 with value: -0.7488.\n"
     ]
    },
    {
     "name": "stderr",
     "output_type": "stream",
     "text": [
      "[I 2025-05-15 18:09:37,397] Trial 10 pruned. Trial was pruned at iteration 0.\n"
     ]
    },
    {
     "name": "stderr",
     "output_type": "stream",
     "text": [
      "[I 2025-05-15 18:11:27,414] Trial 11 finished with value: -0.744662 and parameters: {'max_depth': 10, 'min_child_weight': 3, 'subsample': 0.34014304150377095, 'colsample_bynode': 0.40131565860091256, 'learning_rate': 0.057899203666416425}. Best is trial 1 with value: -0.7488.\n"
     ]
    },
    {
     "name": "stderr",
     "output_type": "stream",
     "text": [
      "[I 2025-05-15 18:12:54,612] Trial 12 finished with value: -0.747471 and parameters: {'max_depth': 8, 'min_child_weight': 3, 'subsample': 0.3693916175642251, 'colsample_bynode': 0.351751713087183, 'learning_rate': 0.07220195396446884}. Best is trial 1 with value: -0.7488.\n"
     ]
    },
    {
     "name": "stderr",
     "output_type": "stream",
     "text": [
      "[I 2025-05-15 18:12:55,269] Trial 13 pruned. Trial was pruned at iteration 0.\n"
     ]
    },
    {
     "name": "stderr",
     "output_type": "stream",
     "text": [
      "[I 2025-05-15 18:12:55,975] Trial 14 pruned. Trial was pruned at iteration 0.\n"
     ]
    },
    {
     "name": "stderr",
     "output_type": "stream",
     "text": [
      "[I 2025-05-15 18:12:56,591] Trial 15 pruned. Trial was pruned at iteration 0.\n"
     ]
    },
    {
     "name": "stderr",
     "output_type": "stream",
     "text": [
      "[I 2025-05-15 18:12:57,346] Trial 16 pruned. Trial was pruned at iteration 0.\n"
     ]
    },
    {
     "name": "stderr",
     "output_type": "stream",
     "text": [
      "[I 2025-05-15 18:12:58,006] Trial 17 pruned. Trial was pruned at iteration 0.\n"
     ]
    },
    {
     "name": "stderr",
     "output_type": "stream",
     "text": [
      "[I 2025-05-15 18:13:56,753] Trial 18 finished with value: -0.755534 and parameters: {'max_depth': 8, 'min_child_weight': 37, 'subsample': 0.47368595472697, 'colsample_bynode': 0.5260950582681523, 'learning_rate': 0.1892056162835139}. Best is trial 18 with value: -0.755534.\n"
     ]
    },
    {
     "name": "stderr",
     "output_type": "stream",
     "text": [
      "[I 2025-05-15 18:13:57,402] Trial 19 pruned. Trial was pruned at iteration 0.\n"
     ]
    },
    {
     "name": "stderr",
     "output_type": "stream",
     "text": [
      "[I 2025-05-15 18:14:44,356] Trial 20 finished with value: -0.751413 and parameters: {'max_depth': 12, 'min_child_weight': 23, 'subsample': 0.8601573496833833, 'colsample_bynode': 0.8651467877814526, 'learning_rate': 0.30064063432178234}. Best is trial 18 with value: -0.755534.\n"
     ]
    },
    {
     "name": "stderr",
     "output_type": "stream",
     "text": [
      "[I 2025-05-15 18:15:33,971] Trial 21 finished with value: -0.753678 and parameters: {'max_depth': 11, 'min_child_weight': 27, 'subsample': 0.8524655332992119, 'colsample_bynode': 0.8564834725554809, 'learning_rate': 0.24892967230551474}. Best is trial 18 with value: -0.755534.\n"
     ]
    },
    {
     "name": "stderr",
     "output_type": "stream",
     "text": [
      "[I 2025-05-15 18:16:16,756] Trial 22 finished with value: -0.753076 and parameters: {'max_depth': 12, 'min_child_weight': 32, 'subsample': 0.6581340170061017, 'colsample_bynode': 0.8523299130140582, 'learning_rate': 0.28842950116804994}. Best is trial 18 with value: -0.755534.\n"
     ]
    },
    {
     "name": "stderr",
     "output_type": "stream",
     "text": [
      "[I 2025-05-15 18:16:17,483] Trial 23 pruned. Trial was pruned at iteration 0.\n"
     ]
    },
    {
     "name": "stderr",
     "output_type": "stream",
     "text": [
      "[I 2025-05-15 18:16:18,172] Trial 24 pruned. Trial was pruned at iteration 0.\n"
     ]
    },
    {
     "name": "stderr",
     "output_type": "stream",
     "text": [
      "[I 2025-05-15 18:17:01,724] Trial 25 finished with value: -0.754588 and parameters: {'max_depth': 9, 'min_child_weight': 30, 'subsample': 0.6461532403805207, 'colsample_bynode': 0.8643041066151342, 'learning_rate': 0.3159998560444891}. Best is trial 18 with value: -0.755534.\n"
     ]
    },
    {
     "name": "stderr",
     "output_type": "stream",
     "text": [
      "[I 2025-05-15 18:17:02,360] Trial 26 pruned. Trial was pruned at iteration 0.\n"
     ]
    },
    {
     "name": "stderr",
     "output_type": "stream",
     "text": [
      "[I 2025-05-15 18:17:03,003] Trial 27 pruned. Trial was pruned at iteration 0.\n"
     ]
    },
    {
     "name": "stderr",
     "output_type": "stream",
     "text": [
      "[I 2025-05-15 18:17:27,783] Trial 28 finished with value: -0.753032 and parameters: {'max_depth': 8, 'min_child_weight': 61, 'subsample': 0.9414478903198256, 'colsample_bynode': 0.8955854403971591, 'learning_rate': 0.49673765670483894}. Best is trial 18 with value: -0.755534.\n"
     ]
    },
    {
     "name": "stderr",
     "output_type": "stream",
     "text": [
      "[I 2025-05-15 18:17:28,422] Trial 29 pruned. Trial was pruned at iteration 0.\n"
     ]
    },
    {
     "name": "stderr",
     "output_type": "stream",
     "text": [
      "[I 2025-05-15 18:17:31,309] Trial 30 pruned. Trial was pruned at iteration 5.\n"
     ]
    },
    {
     "name": "stderr",
     "output_type": "stream",
     "text": [
      "[I 2025-05-15 18:18:05,401] Trial 31 finished with value: -0.749731 and parameters: {'max_depth': 12, 'min_child_weight': 26, 'subsample': 0.6587612245275499, 'colsample_bynode': 0.8551957992281358, 'learning_rate': 0.3139957767839471}. Best is trial 18 with value: -0.755534.\n"
     ]
    },
    {
     "name": "stderr",
     "output_type": "stream",
     "text": [
      "[I 2025-05-15 18:18:06,184] Trial 32 pruned. Trial was pruned at iteration 0.\n"
     ]
    },
    {
     "name": "stderr",
     "output_type": "stream",
     "text": [
      "[I 2025-05-15 18:18:21,591] Trial 33 pruned. Trial was pruned at iteration 25.\n"
     ]
    },
    {
     "name": "stderr",
     "output_type": "stream",
     "text": [
      "[I 2025-05-15 18:18:22,308] Trial 34 pruned. Trial was pruned at iteration 0.\n"
     ]
    },
    {
     "name": "stderr",
     "output_type": "stream",
     "text": [
      "[I 2025-05-15 18:18:22,981] Trial 35 pruned. Trial was pruned at iteration 0.\n"
     ]
    },
    {
     "name": "stderr",
     "output_type": "stream",
     "text": [
      "[I 2025-05-15 18:18:38,266] Trial 36 pruned. Trial was pruned at iteration 32.\n"
     ]
    },
    {
     "name": "stderr",
     "output_type": "stream",
     "text": [
      "[I 2025-05-15 18:18:52,389] Trial 37 pruned. Trial was pruned at iteration 24.\n"
     ]
    },
    {
     "name": "stderr",
     "output_type": "stream",
     "text": [
      "[I 2025-05-15 18:18:53,028] Trial 38 pruned. Trial was pruned at iteration 0.\n"
     ]
    },
    {
     "name": "stderr",
     "output_type": "stream",
     "text": [
      "[I 2025-05-15 18:18:53,700] Trial 39 pruned. Trial was pruned at iteration 0.\n"
     ]
    },
    {
     "name": "stderr",
     "output_type": "stream",
     "text": [
      "[I 2025-05-15 18:18:54,393] Trial 40 pruned. Trial was pruned at iteration 0.\n"
     ]
    },
    {
     "name": "stderr",
     "output_type": "stream",
     "text": [
      "[I 2025-05-15 18:19:21,979] Trial 41 finished with value: -0.752334 and parameters: {'max_depth': 8, 'min_child_weight': 53, 'subsample': 0.9205353809684617, 'colsample_bynode': 0.8888404670316348, 'learning_rate': 0.48062177725956523}. Best is trial 18 with value: -0.755534.\n"
     ]
    },
    {
     "name": "stderr",
     "output_type": "stream",
     "text": [
      "[I 2025-05-15 18:19:22,663] Trial 42 pruned. Trial was pruned at iteration 0.\n"
     ]
    },
    {
     "name": "stderr",
     "output_type": "stream",
     "text": [
      "[I 2025-05-15 18:19:23,397] Trial 43 pruned. Trial was pruned at iteration 0.\n"
     ]
    },
    {
     "name": "stderr",
     "output_type": "stream",
     "text": [
      "[I 2025-05-15 18:19:41,723] Trial 44 pruned. Trial was pruned at iteration 37.\n"
     ]
    },
    {
     "name": "stderr",
     "output_type": "stream",
     "text": [
      "[I 2025-05-15 18:19:42,357] Trial 45 pruned. Trial was pruned at iteration 0.\n"
     ]
    },
    {
     "name": "stderr",
     "output_type": "stream",
     "text": [
      "[I 2025-05-15 18:19:42,990] Trial 46 pruned. Trial was pruned at iteration 0.\n"
     ]
    },
    {
     "name": "stderr",
     "output_type": "stream",
     "text": [
      "[I 2025-05-15 18:19:43,634] Trial 47 pruned. Trial was pruned at iteration 0.\n"
     ]
    },
    {
     "name": "stderr",
     "output_type": "stream",
     "text": [
      "[I 2025-05-15 18:19:44,348] Trial 48 pruned. Trial was pruned at iteration 0.\n"
     ]
    },
    {
     "name": "stderr",
     "output_type": "stream",
     "text": [
      "[I 2025-05-15 18:19:45,007] Trial 49 pruned. Trial was pruned at iteration 0.\n"
     ]
    }
   ],
   "source": [
    "sampler = optuna.samplers.TPESampler(seed=42)\n",
    "study = optuna.create_study(direction='minimize', sampler=sampler)\n",
    "study.optimize(objective, n_trials=N_TRIALS, gc_after_trial=True)"
   ]
  },
  {
   "cell_type": "code",
   "execution_count": 20,
   "id": "7e3496a5",
   "metadata": {
    "execution": {
     "iopub.execute_input": "2025-05-15T16:19:45.133096Z",
     "iopub.status.busy": "2025-05-15T16:19:45.132801Z",
     "iopub.status.idle": "2025-05-15T16:19:45.208808Z",
     "shell.execute_reply": "2025-05-15T16:19:45.208392Z"
    },
    "papermill": {
     "duration": 0.087812,
     "end_time": "2025-05-15T16:19:45.209830",
     "exception": false,
     "start_time": "2025-05-15T16:19:45.122018",
     "status": "completed"
    },
    "tags": []
   },
   "outputs": [
    {
     "data": {
      "text/plain": [
       "['/scratch_isilon/groups/singlecell/shared/projects/Inflammation-PBMCs-Atlas/03_downstream_analysis/08_gene_importance/xgboost_external_validation/xgboost_TopN_genes/results_20/study/T_CD4_NonNaive_17_4_xgboost.pkl']"
      ]
     },
     "execution_count": 20,
     "metadata": {},
     "output_type": "execute_result"
    }
   ],
   "source": [
    "out_dir = here(f'03_downstream_analysis/08_gene_importance/xgboost_external_validation/xgboost_TopN_genes/results_{N_GENES}/study')\n",
    "\n",
    "if not os.path.exists(out_dir):\n",
    "    os.makedirs(out_dir)\n",
    "    \n",
    "joblib.dump(study,os.path.join(out_dir, f'{CELL_TYPE}_{SEED}_{TEST_SPLIT_IDX}_xgboost.pkl'))"
   ]
  },
  {
   "cell_type": "code",
   "execution_count": 21,
   "id": "cb1cc61b",
   "metadata": {
    "execution": {
     "iopub.execute_input": "2025-05-15T16:19:45.240807Z",
     "iopub.status.busy": "2025-05-15T16:19:45.240217Z",
     "iopub.status.idle": "2025-05-15T16:20:01.000466Z",
     "shell.execute_reply": "2025-05-15T16:20:01.000042Z"
    },
    "papermill": {
     "duration": 15.782715,
     "end_time": "2025-05-15T16:20:01.001482",
     "exception": false,
     "start_time": "2025-05-15T16:19:45.218767",
     "status": "completed"
    },
    "tags": []
   },
   "outputs": [
    {
     "data": {
      "text/html": [
       "<style>#sk-container-id-1 {\n",
       "  /* Definition of color scheme common for light and dark mode */\n",
       "  --sklearn-color-text: black;\n",
       "  --sklearn-color-line: gray;\n",
       "  /* Definition of color scheme for unfitted estimators */\n",
       "  --sklearn-color-unfitted-level-0: #fff5e6;\n",
       "  --sklearn-color-unfitted-level-1: #f6e4d2;\n",
       "  --sklearn-color-unfitted-level-2: #ffe0b3;\n",
       "  --sklearn-color-unfitted-level-3: chocolate;\n",
       "  /* Definition of color scheme for fitted estimators */\n",
       "  --sklearn-color-fitted-level-0: #f0f8ff;\n",
       "  --sklearn-color-fitted-level-1: #d4ebff;\n",
       "  --sklearn-color-fitted-level-2: #b3dbfd;\n",
       "  --sklearn-color-fitted-level-3: cornflowerblue;\n",
       "\n",
       "  /* Specific color for light theme */\n",
       "  --sklearn-color-text-on-default-background: var(--sg-text-color, var(--theme-code-foreground, var(--jp-content-font-color1, black)));\n",
       "  --sklearn-color-background: var(--sg-background-color, var(--theme-background, var(--jp-layout-color0, white)));\n",
       "  --sklearn-color-border-box: var(--sg-text-color, var(--theme-code-foreground, var(--jp-content-font-color1, black)));\n",
       "  --sklearn-color-icon: #696969;\n",
       "\n",
       "  @media (prefers-color-scheme: dark) {\n",
       "    /* Redefinition of color scheme for dark theme */\n",
       "    --sklearn-color-text-on-default-background: var(--sg-text-color, var(--theme-code-foreground, var(--jp-content-font-color1, white)));\n",
       "    --sklearn-color-background: var(--sg-background-color, var(--theme-background, var(--jp-layout-color0, #111)));\n",
       "    --sklearn-color-border-box: var(--sg-text-color, var(--theme-code-foreground, var(--jp-content-font-color1, white)));\n",
       "    --sklearn-color-icon: #878787;\n",
       "  }\n",
       "}\n",
       "\n",
       "#sk-container-id-1 {\n",
       "  color: var(--sklearn-color-text);\n",
       "}\n",
       "\n",
       "#sk-container-id-1 pre {\n",
       "  padding: 0;\n",
       "}\n",
       "\n",
       "#sk-container-id-1 input.sk-hidden--visually {\n",
       "  border: 0;\n",
       "  clip: rect(1px 1px 1px 1px);\n",
       "  clip: rect(1px, 1px, 1px, 1px);\n",
       "  height: 1px;\n",
       "  margin: -1px;\n",
       "  overflow: hidden;\n",
       "  padding: 0;\n",
       "  position: absolute;\n",
       "  width: 1px;\n",
       "}\n",
       "\n",
       "#sk-container-id-1 div.sk-dashed-wrapped {\n",
       "  border: 1px dashed var(--sklearn-color-line);\n",
       "  margin: 0 0.4em 0.5em 0.4em;\n",
       "  box-sizing: border-box;\n",
       "  padding-bottom: 0.4em;\n",
       "  background-color: var(--sklearn-color-background);\n",
       "}\n",
       "\n",
       "#sk-container-id-1 div.sk-container {\n",
       "  /* jupyter's `normalize.less` sets `[hidden] { display: none; }`\n",
       "     but bootstrap.min.css set `[hidden] { display: none !important; }`\n",
       "     so we also need the `!important` here to be able to override the\n",
       "     default hidden behavior on the sphinx rendered scikit-learn.org.\n",
       "     See: https://github.com/scikit-learn/scikit-learn/issues/21755 */\n",
       "  display: inline-block !important;\n",
       "  position: relative;\n",
       "}\n",
       "\n",
       "#sk-container-id-1 div.sk-text-repr-fallback {\n",
       "  display: none;\n",
       "}\n",
       "\n",
       "div.sk-parallel-item,\n",
       "div.sk-serial,\n",
       "div.sk-item {\n",
       "  /* draw centered vertical line to link estimators */\n",
       "  background-image: linear-gradient(var(--sklearn-color-text-on-default-background), var(--sklearn-color-text-on-default-background));\n",
       "  background-size: 2px 100%;\n",
       "  background-repeat: no-repeat;\n",
       "  background-position: center center;\n",
       "}\n",
       "\n",
       "/* Parallel-specific style estimator block */\n",
       "\n",
       "#sk-container-id-1 div.sk-parallel-item::after {\n",
       "  content: \"\";\n",
       "  width: 100%;\n",
       "  border-bottom: 2px solid var(--sklearn-color-text-on-default-background);\n",
       "  flex-grow: 1;\n",
       "}\n",
       "\n",
       "#sk-container-id-1 div.sk-parallel {\n",
       "  display: flex;\n",
       "  align-items: stretch;\n",
       "  justify-content: center;\n",
       "  background-color: var(--sklearn-color-background);\n",
       "  position: relative;\n",
       "}\n",
       "\n",
       "#sk-container-id-1 div.sk-parallel-item {\n",
       "  display: flex;\n",
       "  flex-direction: column;\n",
       "}\n",
       "\n",
       "#sk-container-id-1 div.sk-parallel-item:first-child::after {\n",
       "  align-self: flex-end;\n",
       "  width: 50%;\n",
       "}\n",
       "\n",
       "#sk-container-id-1 div.sk-parallel-item:last-child::after {\n",
       "  align-self: flex-start;\n",
       "  width: 50%;\n",
       "}\n",
       "\n",
       "#sk-container-id-1 div.sk-parallel-item:only-child::after {\n",
       "  width: 0;\n",
       "}\n",
       "\n",
       "/* Serial-specific style estimator block */\n",
       "\n",
       "#sk-container-id-1 div.sk-serial {\n",
       "  display: flex;\n",
       "  flex-direction: column;\n",
       "  align-items: center;\n",
       "  background-color: var(--sklearn-color-background);\n",
       "  padding-right: 1em;\n",
       "  padding-left: 1em;\n",
       "}\n",
       "\n",
       "\n",
       "/* Toggleable style: style used for estimator/Pipeline/ColumnTransformer box that is\n",
       "clickable and can be expanded/collapsed.\n",
       "- Pipeline and ColumnTransformer use this feature and define the default style\n",
       "- Estimators will overwrite some part of the style using the `sk-estimator` class\n",
       "*/\n",
       "\n",
       "/* Pipeline and ColumnTransformer style (default) */\n",
       "\n",
       "#sk-container-id-1 div.sk-toggleable {\n",
       "  /* Default theme specific background. It is overwritten whether we have a\n",
       "  specific estimator or a Pipeline/ColumnTransformer */\n",
       "  background-color: var(--sklearn-color-background);\n",
       "}\n",
       "\n",
       "/* Toggleable label */\n",
       "#sk-container-id-1 label.sk-toggleable__label {\n",
       "  cursor: pointer;\n",
       "  display: block;\n",
       "  width: 100%;\n",
       "  margin-bottom: 0;\n",
       "  padding: 0.5em;\n",
       "  box-sizing: border-box;\n",
       "  text-align: center;\n",
       "}\n",
       "\n",
       "#sk-container-id-1 label.sk-toggleable__label-arrow:before {\n",
       "  /* Arrow on the left of the label */\n",
       "  content: \"▸\";\n",
       "  float: left;\n",
       "  margin-right: 0.25em;\n",
       "  color: var(--sklearn-color-icon);\n",
       "}\n",
       "\n",
       "#sk-container-id-1 label.sk-toggleable__label-arrow:hover:before {\n",
       "  color: var(--sklearn-color-text);\n",
       "}\n",
       "\n",
       "/* Toggleable content - dropdown */\n",
       "\n",
       "#sk-container-id-1 div.sk-toggleable__content {\n",
       "  max-height: 0;\n",
       "  max-width: 0;\n",
       "  overflow: hidden;\n",
       "  text-align: left;\n",
       "  /* unfitted */\n",
       "  background-color: var(--sklearn-color-unfitted-level-0);\n",
       "}\n",
       "\n",
       "#sk-container-id-1 div.sk-toggleable__content.fitted {\n",
       "  /* fitted */\n",
       "  background-color: var(--sklearn-color-fitted-level-0);\n",
       "}\n",
       "\n",
       "#sk-container-id-1 div.sk-toggleable__content pre {\n",
       "  margin: 0.2em;\n",
       "  border-radius: 0.25em;\n",
       "  color: var(--sklearn-color-text);\n",
       "  /* unfitted */\n",
       "  background-color: var(--sklearn-color-unfitted-level-0);\n",
       "}\n",
       "\n",
       "#sk-container-id-1 div.sk-toggleable__content.fitted pre {\n",
       "  /* unfitted */\n",
       "  background-color: var(--sklearn-color-fitted-level-0);\n",
       "}\n",
       "\n",
       "#sk-container-id-1 input.sk-toggleable__control:checked~div.sk-toggleable__content {\n",
       "  /* Expand drop-down */\n",
       "  max-height: 200px;\n",
       "  max-width: 100%;\n",
       "  overflow: auto;\n",
       "}\n",
       "\n",
       "#sk-container-id-1 input.sk-toggleable__control:checked~label.sk-toggleable__label-arrow:before {\n",
       "  content: \"▾\";\n",
       "}\n",
       "\n",
       "/* Pipeline/ColumnTransformer-specific style */\n",
       "\n",
       "#sk-container-id-1 div.sk-label input.sk-toggleable__control:checked~label.sk-toggleable__label {\n",
       "  color: var(--sklearn-color-text);\n",
       "  background-color: var(--sklearn-color-unfitted-level-2);\n",
       "}\n",
       "\n",
       "#sk-container-id-1 div.sk-label.fitted input.sk-toggleable__control:checked~label.sk-toggleable__label {\n",
       "  background-color: var(--sklearn-color-fitted-level-2);\n",
       "}\n",
       "\n",
       "/* Estimator-specific style */\n",
       "\n",
       "/* Colorize estimator box */\n",
       "#sk-container-id-1 div.sk-estimator input.sk-toggleable__control:checked~label.sk-toggleable__label {\n",
       "  /* unfitted */\n",
       "  background-color: var(--sklearn-color-unfitted-level-2);\n",
       "}\n",
       "\n",
       "#sk-container-id-1 div.sk-estimator.fitted input.sk-toggleable__control:checked~label.sk-toggleable__label {\n",
       "  /* fitted */\n",
       "  background-color: var(--sklearn-color-fitted-level-2);\n",
       "}\n",
       "\n",
       "#sk-container-id-1 div.sk-label label.sk-toggleable__label,\n",
       "#sk-container-id-1 div.sk-label label {\n",
       "  /* The background is the default theme color */\n",
       "  color: var(--sklearn-color-text-on-default-background);\n",
       "}\n",
       "\n",
       "/* On hover, darken the color of the background */\n",
       "#sk-container-id-1 div.sk-label:hover label.sk-toggleable__label {\n",
       "  color: var(--sklearn-color-text);\n",
       "  background-color: var(--sklearn-color-unfitted-level-2);\n",
       "}\n",
       "\n",
       "/* Label box, darken color on hover, fitted */\n",
       "#sk-container-id-1 div.sk-label.fitted:hover label.sk-toggleable__label.fitted {\n",
       "  color: var(--sklearn-color-text);\n",
       "  background-color: var(--sklearn-color-fitted-level-2);\n",
       "}\n",
       "\n",
       "/* Estimator label */\n",
       "\n",
       "#sk-container-id-1 div.sk-label label {\n",
       "  font-family: monospace;\n",
       "  font-weight: bold;\n",
       "  display: inline-block;\n",
       "  line-height: 1.2em;\n",
       "}\n",
       "\n",
       "#sk-container-id-1 div.sk-label-container {\n",
       "  text-align: center;\n",
       "}\n",
       "\n",
       "/* Estimator-specific */\n",
       "#sk-container-id-1 div.sk-estimator {\n",
       "  font-family: monospace;\n",
       "  border: 1px dotted var(--sklearn-color-border-box);\n",
       "  border-radius: 0.25em;\n",
       "  box-sizing: border-box;\n",
       "  margin-bottom: 0.5em;\n",
       "  /* unfitted */\n",
       "  background-color: var(--sklearn-color-unfitted-level-0);\n",
       "}\n",
       "\n",
       "#sk-container-id-1 div.sk-estimator.fitted {\n",
       "  /* fitted */\n",
       "  background-color: var(--sklearn-color-fitted-level-0);\n",
       "}\n",
       "\n",
       "/* on hover */\n",
       "#sk-container-id-1 div.sk-estimator:hover {\n",
       "  /* unfitted */\n",
       "  background-color: var(--sklearn-color-unfitted-level-2);\n",
       "}\n",
       "\n",
       "#sk-container-id-1 div.sk-estimator.fitted:hover {\n",
       "  /* fitted */\n",
       "  background-color: var(--sklearn-color-fitted-level-2);\n",
       "}\n",
       "\n",
       "/* Specification for estimator info (e.g. \"i\" and \"?\") */\n",
       "\n",
       "/* Common style for \"i\" and \"?\" */\n",
       "\n",
       ".sk-estimator-doc-link,\n",
       "a:link.sk-estimator-doc-link,\n",
       "a:visited.sk-estimator-doc-link {\n",
       "  float: right;\n",
       "  font-size: smaller;\n",
       "  line-height: 1em;\n",
       "  font-family: monospace;\n",
       "  background-color: var(--sklearn-color-background);\n",
       "  border-radius: 1em;\n",
       "  height: 1em;\n",
       "  width: 1em;\n",
       "  text-decoration: none !important;\n",
       "  margin-left: 1ex;\n",
       "  /* unfitted */\n",
       "  border: var(--sklearn-color-unfitted-level-1) 1pt solid;\n",
       "  color: var(--sklearn-color-unfitted-level-1);\n",
       "}\n",
       "\n",
       ".sk-estimator-doc-link.fitted,\n",
       "a:link.sk-estimator-doc-link.fitted,\n",
       "a:visited.sk-estimator-doc-link.fitted {\n",
       "  /* fitted */\n",
       "  border: var(--sklearn-color-fitted-level-1) 1pt solid;\n",
       "  color: var(--sklearn-color-fitted-level-1);\n",
       "}\n",
       "\n",
       "/* On hover */\n",
       "div.sk-estimator:hover .sk-estimator-doc-link:hover,\n",
       ".sk-estimator-doc-link:hover,\n",
       "div.sk-label-container:hover .sk-estimator-doc-link:hover,\n",
       ".sk-estimator-doc-link:hover {\n",
       "  /* unfitted */\n",
       "  background-color: var(--sklearn-color-unfitted-level-3);\n",
       "  color: var(--sklearn-color-background);\n",
       "  text-decoration: none;\n",
       "}\n",
       "\n",
       "div.sk-estimator.fitted:hover .sk-estimator-doc-link.fitted:hover,\n",
       ".sk-estimator-doc-link.fitted:hover,\n",
       "div.sk-label-container:hover .sk-estimator-doc-link.fitted:hover,\n",
       ".sk-estimator-doc-link.fitted:hover {\n",
       "  /* fitted */\n",
       "  background-color: var(--sklearn-color-fitted-level-3);\n",
       "  color: var(--sklearn-color-background);\n",
       "  text-decoration: none;\n",
       "}\n",
       "\n",
       "/* Span, style for the box shown on hovering the info icon */\n",
       ".sk-estimator-doc-link span {\n",
       "  display: none;\n",
       "  z-index: 9999;\n",
       "  position: relative;\n",
       "  font-weight: normal;\n",
       "  right: .2ex;\n",
       "  padding: .5ex;\n",
       "  margin: .5ex;\n",
       "  width: min-content;\n",
       "  min-width: 20ex;\n",
       "  max-width: 50ex;\n",
       "  color: var(--sklearn-color-text);\n",
       "  box-shadow: 2pt 2pt 4pt #999;\n",
       "  /* unfitted */\n",
       "  background: var(--sklearn-color-unfitted-level-0);\n",
       "  border: .5pt solid var(--sklearn-color-unfitted-level-3);\n",
       "}\n",
       "\n",
       ".sk-estimator-doc-link.fitted span {\n",
       "  /* fitted */\n",
       "  background: var(--sklearn-color-fitted-level-0);\n",
       "  border: var(--sklearn-color-fitted-level-3);\n",
       "}\n",
       "\n",
       ".sk-estimator-doc-link:hover span {\n",
       "  display: block;\n",
       "}\n",
       "\n",
       "/* \"?\"-specific style due to the `<a>` HTML tag */\n",
       "\n",
       "#sk-container-id-1 a.estimator_doc_link {\n",
       "  float: right;\n",
       "  font-size: 1rem;\n",
       "  line-height: 1em;\n",
       "  font-family: monospace;\n",
       "  background-color: var(--sklearn-color-background);\n",
       "  border-radius: 1rem;\n",
       "  height: 1rem;\n",
       "  width: 1rem;\n",
       "  text-decoration: none;\n",
       "  /* unfitted */\n",
       "  color: var(--sklearn-color-unfitted-level-1);\n",
       "  border: var(--sklearn-color-unfitted-level-1) 1pt solid;\n",
       "}\n",
       "\n",
       "#sk-container-id-1 a.estimator_doc_link.fitted {\n",
       "  /* fitted */\n",
       "  border: var(--sklearn-color-fitted-level-1) 1pt solid;\n",
       "  color: var(--sklearn-color-fitted-level-1);\n",
       "}\n",
       "\n",
       "/* On hover */\n",
       "#sk-container-id-1 a.estimator_doc_link:hover {\n",
       "  /* unfitted */\n",
       "  background-color: var(--sklearn-color-unfitted-level-3);\n",
       "  color: var(--sklearn-color-background);\n",
       "  text-decoration: none;\n",
       "}\n",
       "\n",
       "#sk-container-id-1 a.estimator_doc_link.fitted:hover {\n",
       "  /* fitted */\n",
       "  background-color: var(--sklearn-color-fitted-level-3);\n",
       "}\n",
       "</style><div id=\"sk-container-id-1\" class=\"sk-top-container\"><div class=\"sk-text-repr-fallback\"><pre>XGBClassifier(base_score=None, booster=None, callbacks=None,\n",
       "              colsample_bylevel=None, colsample_bynode=0.5260950582681523,\n",
       "              colsample_bytree=None, device=None, early_stopping_rounds=None,\n",
       "              enable_categorical=False,\n",
       "              eval_metric=&lt;function custom_f1_score at 0x7efd34e239c0&gt;,\n",
       "              feature_types=None, gamma=None, grow_policy=None,\n",
       "              importance_type=None, interaction_constraints=None,\n",
       "              learning_rate=0.1892056162835139, max_bin=None,\n",
       "              max_cat_threshold=None, max_cat_to_onehot=None,\n",
       "              max_delta_step=None, max_depth=8, max_leaves=None,\n",
       "              min_child_weight=37, missing=nan, monotone_constraints=None,\n",
       "              multi_strategy=None, n_estimators=166, n_jobs=None,\n",
       "              num_parallel_tree=None, objective=&#x27;multi:softprob&#x27;, ...)</pre><b>In a Jupyter environment, please rerun this cell to show the HTML representation or trust the notebook. <br />On GitHub, the HTML representation is unable to render, please try loading this page with nbviewer.org.</b></div><div class=\"sk-container\" hidden><div class=\"sk-item\"><div class=\"sk-estimator fitted sk-toggleable\"><input class=\"sk-toggleable__control sk-hidden--visually\" id=\"sk-estimator-id-1\" type=\"checkbox\" checked><label for=\"sk-estimator-id-1\" class=\"sk-toggleable__label fitted sk-toggleable__label-arrow fitted\">&nbsp;XGBClassifier<span class=\"sk-estimator-doc-link fitted\">i<span>Fitted</span></span></label><div class=\"sk-toggleable__content fitted\"><pre>XGBClassifier(base_score=None, booster=None, callbacks=None,\n",
       "              colsample_bylevel=None, colsample_bynode=0.5260950582681523,\n",
       "              colsample_bytree=None, device=None, early_stopping_rounds=None,\n",
       "              enable_categorical=False,\n",
       "              eval_metric=&lt;function custom_f1_score at 0x7efd34e239c0&gt;,\n",
       "              feature_types=None, gamma=None, grow_policy=None,\n",
       "              importance_type=None, interaction_constraints=None,\n",
       "              learning_rate=0.1892056162835139, max_bin=None,\n",
       "              max_cat_threshold=None, max_cat_to_onehot=None,\n",
       "              max_delta_step=None, max_depth=8, max_leaves=None,\n",
       "              min_child_weight=37, missing=nan, monotone_constraints=None,\n",
       "              multi_strategy=None, n_estimators=166, n_jobs=None,\n",
       "              num_parallel_tree=None, objective=&#x27;multi:softprob&#x27;, ...)</pre></div> </div></div></div></div>"
      ],
      "text/plain": [
       "XGBClassifier(base_score=None, booster=None, callbacks=None,\n",
       "              colsample_bylevel=None, colsample_bynode=0.5260950582681523,\n",
       "              colsample_bytree=None, device=None, early_stopping_rounds=None,\n",
       "              enable_categorical=False,\n",
       "              eval_metric=<function custom_f1_score at 0x7efd34e239c0>,\n",
       "              feature_types=None, gamma=None, grow_policy=None,\n",
       "              importance_type=None, interaction_constraints=None,\n",
       "              learning_rate=0.1892056162835139, max_bin=None,\n",
       "              max_cat_threshold=None, max_cat_to_onehot=None,\n",
       "              max_delta_step=None, max_depth=8, max_leaves=None,\n",
       "              min_child_weight=37, missing=nan, monotone_constraints=None,\n",
       "              multi_strategy=None, n_estimators=166, n_jobs=None,\n",
       "              num_parallel_tree=None, objective='multi:softprob', ...)"
      ]
     },
     "execution_count": 21,
     "metadata": {},
     "output_type": "execute_result"
    }
   ],
   "source": [
    "n_estimators = int(study.best_trial.user_attrs['best_iteration']*1.2)\n",
    "xgb = xgboost.XGBClassifier(\n",
    "        eval_metric=eval_metric,\n",
    "        n_estimators=n_estimators,\n",
    "        **study.best_trial.params\n",
    "    )\n",
    "xgb.fit(\n",
    "    ssp.vstack((X_train, X_val)), \n",
    "    np.concatenate((y_train_enc, y_val_enc)),\n",
    "    verbose=1,\n",
    ")"
   ]
  },
  {
   "cell_type": "code",
   "execution_count": 22,
   "id": "91381ee3",
   "metadata": {
    "execution": {
     "iopub.execute_input": "2025-05-15T16:20:01.021206Z",
     "iopub.status.busy": "2025-05-15T16:20:01.020822Z",
     "iopub.status.idle": "2025-05-15T16:20:01.104606Z",
     "shell.execute_reply": "2025-05-15T16:20:01.104211Z"
    },
    "papermill": {
     "duration": 0.094624,
     "end_time": "2025-05-15T16:20:01.105599",
     "exception": false,
     "start_time": "2025-05-15T16:20:01.010975",
     "status": "completed"
    },
    "tags": []
   },
   "outputs": [
    {
     "data": {
      "text/plain": [
       "['/scratch_isilon/groups/singlecell/shared/projects/Inflammation-PBMCs-Atlas/03_downstream_analysis/08_gene_importance/xgboost_external_validation/xgboost_TopN_genes/results_20/best_model/T_CD4_NonNaive_17_4_xgb.json']"
      ]
     },
     "execution_count": 22,
     "metadata": {},
     "output_type": "execute_result"
    }
   ],
   "source": [
    "out_dir = here(f'03_downstream_analysis/08_gene_importance/xgboost_external_validation/xgboost_TopN_genes/results_{N_GENES}/best_model')\n",
    "\n",
    "if not os.path.exists(out_dir):\n",
    "    os.makedirs(out_dir)\n",
    "    \n",
    "joblib.dump(xgb, os.path.join(out_dir, f'{CELL_TYPE}_{SEED}_{TEST_SPLIT_IDX}_xgb.json'))"
   ]
  },
  {
   "cell_type": "code",
   "execution_count": 23,
   "id": "8674d468",
   "metadata": {
    "execution": {
     "iopub.execute_input": "2025-05-15T16:20:01.124703Z",
     "iopub.status.busy": "2025-05-15T16:20:01.124280Z",
     "iopub.status.idle": "2025-05-15T16:20:01.934930Z",
     "shell.execute_reply": "2025-05-15T16:20:01.934436Z"
    },
    "papermill": {
     "duration": 0.821415,
     "end_time": "2025-05-15T16:20:01.936361",
     "exception": false,
     "start_time": "2025-05-15T16:20:01.114946",
     "status": "completed"
    },
    "tags": []
   },
   "outputs": [],
   "source": [
    "df_pred_test = pd.DataFrame(dict(\n",
    "    cell_id=train_adata.obs.iloc[test_idxs].index.values,\n",
    "    y_true=y_test, \n",
    "    y_true_code=y_test_enc, \n",
    "    y_pred=xgb.predict(X_test))).set_index('cell_id')"
   ]
  },
  {
   "cell_type": "code",
   "execution_count": 24,
   "id": "28adb7e0",
   "metadata": {
    "execution": {
     "iopub.execute_input": "2025-05-15T16:20:01.956728Z",
     "iopub.status.busy": "2025-05-15T16:20:01.956423Z",
     "iopub.status.idle": "2025-05-15T16:20:02.091001Z",
     "shell.execute_reply": "2025-05-15T16:20:02.090540Z"
    },
    "papermill": {
     "duration": 0.145689,
     "end_time": "2025-05-15T16:20:02.092037",
     "exception": false,
     "start_time": "2025-05-15T16:20:01.946348",
     "status": "completed"
    },
    "tags": []
   },
   "outputs": [],
   "source": [
    "out_dir = here(f'03_downstream_analysis/08_gene_importance/xgboost_external_validation/xgboost_TopN_genes/results_{N_GENES}/predictions')\n",
    "\n",
    "if not os.path.exists(out_dir):\n",
    "    os.makedirs(out_dir)\n",
    "    \n",
    "df_pred_test.to_csv(os.path.join(out_dir, f'{CELL_TYPE}_{SEED}_{TEST_SPLIT_IDX}_pred_test.zip'))"
   ]
  },
  {
   "cell_type": "code",
   "execution_count": 25,
   "id": "f147539e",
   "metadata": {
    "execution": {
     "iopub.execute_input": "2025-05-15T16:20:02.114435Z",
     "iopub.status.busy": "2025-05-15T16:20:02.114156Z",
     "iopub.status.idle": "2025-05-15T16:20:02.128045Z",
     "shell.execute_reply": "2025-05-15T16:20:02.127680Z"
    },
    "papermill": {
     "duration": 0.024243,
     "end_time": "2025-05-15T16:20:02.128947",
     "exception": false,
     "start_time": "2025-05-15T16:20:02.104704",
     "status": "completed"
    },
    "tags": []
   },
   "outputs": [],
   "source": [
    "metrics_dict = dict(\n",
    "    BAS=balanced_accuracy_score(y_true=df_pred_test.y_true_code, y_pred=df_pred_test.y_pred), WF1=f1_score(y_true=df_pred_test.y_true_code, y_pred=df_pred_test.y_pred,average='weighted'))"
   ]
  },
  {
   "cell_type": "code",
   "execution_count": 26,
   "id": "e71437b1",
   "metadata": {
    "execution": {
     "iopub.execute_input": "2025-05-15T16:20:02.153065Z",
     "iopub.status.busy": "2025-05-15T16:20:02.152880Z",
     "iopub.status.idle": "2025-05-15T16:20:02.155860Z",
     "shell.execute_reply": "2025-05-15T16:20:02.155525Z"
    },
    "papermill": {
     "duration": 0.018996,
     "end_time": "2025-05-15T16:20:02.156759",
     "exception": false,
     "start_time": "2025-05-15T16:20:02.137763",
     "status": "completed"
    },
    "tags": []
   },
   "outputs": [
    {
     "data": {
      "text/plain": [
       "{'BAS': 0.5295448248214907, 'WF1': 0.7627839004977742}"
      ]
     },
     "execution_count": 26,
     "metadata": {},
     "output_type": "execute_result"
    }
   ],
   "source": [
    "metrics_dict"
   ]
  },
  {
   "cell_type": "code",
   "execution_count": 27,
   "id": "2e8ec7c8",
   "metadata": {
    "execution": {
     "iopub.execute_input": "2025-05-15T16:20:02.196929Z",
     "iopub.status.busy": "2025-05-15T16:20:02.196669Z",
     "iopub.status.idle": "2025-05-15T16:20:02.204964Z",
     "shell.execute_reply": "2025-05-15T16:20:02.204638Z"
    },
    "papermill": {
     "duration": 0.019457,
     "end_time": "2025-05-15T16:20:02.205869",
     "exception": false,
     "start_time": "2025-05-15T16:20:02.186412",
     "status": "completed"
    },
    "tags": []
   },
   "outputs": [
    {
     "data": {
      "text/html": [
       "<div>\n",
       "<style scoped>\n",
       "    .dataframe tbody tr th:only-of-type {\n",
       "        vertical-align: middle;\n",
       "    }\n",
       "\n",
       "    .dataframe tbody tr th {\n",
       "        vertical-align: top;\n",
       "    }\n",
       "\n",
       "    .dataframe thead th {\n",
       "        text-align: right;\n",
       "    }\n",
       "</style>\n",
       "<table border=\"1\" class=\"dataframe\">\n",
       "  <thead>\n",
       "    <tr style=\"text-align: right;\">\n",
       "      <th></th>\n",
       "      <th>BAS</th>\n",
       "      <th>WF1</th>\n",
       "      <th>split_idx</th>\n",
       "      <th>gene_set_seed</th>\n",
       "      <th>cell_type</th>\n",
       "    </tr>\n",
       "  </thead>\n",
       "  <tbody>\n",
       "    <tr>\n",
       "      <th>0</th>\n",
       "      <td>0.529545</td>\n",
       "      <td>0.762784</td>\n",
       "      <td>4</td>\n",
       "      <td>17</td>\n",
       "      <td>T_CD4_NonNaive</td>\n",
       "    </tr>\n",
       "  </tbody>\n",
       "</table>\n",
       "</div>"
      ],
      "text/plain": [
       "        BAS       WF1  split_idx  gene_set_seed       cell_type\n",
       "0  0.529545  0.762784          4             17  T_CD4_NonNaive"
      ]
     },
     "execution_count": 27,
     "metadata": {},
     "output_type": "execute_result"
    }
   ],
   "source": [
    "metrics_df = pd.DataFrame.from_dict([metrics_dict]).assign(split_idx=TEST_SPLIT_IDX, gene_set_seed=SEED, cell_type=CELL_TYPE)\n",
    "metrics_df"
   ]
  },
  {
   "cell_type": "code",
   "execution_count": 28,
   "id": "9ea32d89",
   "metadata": {
    "execution": {
     "iopub.execute_input": "2025-05-15T16:20:02.237085Z",
     "iopub.status.busy": "2025-05-15T16:20:02.236862Z",
     "iopub.status.idle": "2025-05-15T16:20:02.244177Z",
     "shell.execute_reply": "2025-05-15T16:20:02.243850Z"
    },
    "papermill": {
     "duration": 0.021763,
     "end_time": "2025-05-15T16:20:02.245215",
     "exception": false,
     "start_time": "2025-05-15T16:20:02.223452",
     "status": "completed"
    },
    "tags": []
   },
   "outputs": [],
   "source": [
    "out_dir = here(f'03_downstream_analysis/08_gene_importance/xgboost_external_validation/xgboost_TopN_genes/results_{N_GENES}/metrics')\n",
    "\n",
    "if not os.path.exists(out_dir):\n",
    "    os.makedirs(out_dir)\n",
    "    \n",
    "metrics_df.to_csv(os.path.join(out_dir, f'{CELL_TYPE}_{SEED}_{TEST_SPLIT_IDX}_metrics.zip'))"
   ]
  }
 ],
 "metadata": {
  "kernelspec": {
   "display_name": "Python 3 (ipykernel)",
   "language": "python",
   "name": "python3"
  },
  "language_info": {
   "codemirror_mode": {
    "name": "ipython",
    "version": 3
   },
   "file_extension": ".py",
   "mimetype": "text/x-python",
   "name": "python",
   "nbconvert_exporter": "python",
   "pygments_lexer": "ipython3",
   "version": "3.12.5"
  },
  "papermill": {
   "default_parameters": {},
   "duration": 995.062573,
   "end_time": "2025-05-15T16:20:02.870489",
   "environment_variables": {},
   "exception": null,
   "input_path": "02_xgboost_fitting_external_20genes.ipynb",
   "output_path": "results_20/executed_notebooks/xgboost_fitting_external_CT_T_CD4_NonNaive_GS_17_seed4.ipynb",
   "parameters": {
    "CELL_TYPE": "T_CD4_NonNaive",
    "SEED": 17,
    "TEST_SPLIT_IDX": 4
   },
   "start_time": "2025-05-15T16:03:27.807916",
   "version": "2.6.0"
  }
 },
 "nbformat": 4,
 "nbformat_minor": 5
}