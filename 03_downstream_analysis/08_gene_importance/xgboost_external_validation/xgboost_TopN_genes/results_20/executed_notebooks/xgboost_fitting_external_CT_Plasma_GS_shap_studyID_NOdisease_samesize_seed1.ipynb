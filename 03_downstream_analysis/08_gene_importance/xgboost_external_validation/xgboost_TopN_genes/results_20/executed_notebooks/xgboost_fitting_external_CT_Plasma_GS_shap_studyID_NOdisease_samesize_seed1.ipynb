{
 "cells": [
  {
   "cell_type": "code",
   "execution_count": 1,
   "id": "c2fd26ef",
   "metadata": {
    "editable": true,
    "execution": {
     "iopub.execute_input": "2025-06-13T13:10:11.565378Z",
     "iopub.status.busy": "2025-06-13T13:10:11.565112Z",
     "iopub.status.idle": "2025-06-13T13:10:11.567765Z",
     "shell.execute_reply": "2025-06-13T13:10:11.567451Z"
    },
    "papermill": {
     "duration": 0.026453,
     "end_time": "2025-06-13T13:10:11.569061",
     "exception": false,
     "start_time": "2025-06-13T13:10:11.542608",
     "status": "completed"
    },
    "slideshow": {
     "slide_type": ""
    },
    "tags": [
     "parameters"
    ]
   },
   "outputs": [],
   "source": [
    "CELL_TYPE = 'pDC'\n",
    "N_GENES: int = 20\n",
    "SEED = 'shap_studyID' #'disease_NOstudy' 'study_NOdisease' or 'int' or 'shap_studyID'\n",
    "TEST_SPLIT_IDX: int = 1 #[0,4]"
   ]
  },
  {
   "cell_type": "code",
   "execution_count": 2,
   "id": "de6d3314",
   "metadata": {
    "execution": {
     "iopub.execute_input": "2025-06-13T13:10:11.582020Z",
     "iopub.status.busy": "2025-06-13T13:10:11.581670Z",
     "iopub.status.idle": "2025-06-13T13:10:11.583757Z",
     "shell.execute_reply": "2025-06-13T13:10:11.583461Z"
    },
    "papermill": {
     "duration": 0.008693,
     "end_time": "2025-06-13T13:10:11.584641",
     "exception": false,
     "start_time": "2025-06-13T13:10:11.575948",
     "status": "completed"
    },
    "tags": [
     "injected-parameters"
    ]
   },
   "outputs": [],
   "source": [
    "# Parameters\n",
    "CELL_TYPE = \"Plasma\"\n",
    "SEED = \"shap_studyID_NOdisease_samesize\"\n",
    "TEST_SPLIT_IDX = 1\n"
   ]
  },
  {
   "cell_type": "code",
   "execution_count": 3,
   "id": "68a45363",
   "metadata": {
    "execution": {
     "iopub.execute_input": "2025-06-13T13:10:11.596463Z",
     "iopub.status.busy": "2025-06-13T13:10:11.596246Z",
     "iopub.status.idle": "2025-06-13T13:10:11.598288Z",
     "shell.execute_reply": "2025-06-13T13:10:11.597994Z"
    },
    "papermill": {
     "duration": 0.008857,
     "end_time": "2025-06-13T13:10:11.599125",
     "exception": false,
     "start_time": "2025-06-13T13:10:11.590268",
     "status": "completed"
    },
    "tags": []
   },
   "outputs": [],
   "source": [
    "N_SPLITS: int = 5\n",
    "N_TRIALS: int = 50"
   ]
  },
  {
   "cell_type": "code",
   "execution_count": 4,
   "id": "e0e64951",
   "metadata": {
    "execution": {
     "iopub.execute_input": "2025-06-13T13:10:11.610555Z",
     "iopub.status.busy": "2025-06-13T13:10:11.610306Z",
     "iopub.status.idle": "2025-06-13T13:10:13.062796Z",
     "shell.execute_reply": "2025-06-13T13:10:13.062383Z"
    },
    "papermill": {
     "duration": 1.459744,
     "end_time": "2025-06-13T13:10:13.063834",
     "exception": false,
     "start_time": "2025-06-13T13:10:11.604090",
     "status": "completed"
    },
    "tags": []
   },
   "outputs": [],
   "source": [
    "import os\n",
    "import sys\n",
    "from pyprojroot.here import here\n",
    "import pandas as pd\n",
    "import anndata as ad\n",
    "import numpy as np\n",
    "import math\n",
    "from sklearn.model_selection import StratifiedGroupKFold\n",
    "from sklearn.preprocessing import LabelEncoder\n",
    "from sklearn.metrics import f1_score\n",
    "import matplotlib.pyplot as plt\n",
    "import seaborn as sns\n",
    "from itertools import product\n",
    "from sklearn.metrics import balanced_accuracy_score, f1_score\n",
    "import optuna\n",
    "\n",
    "import joblib\n",
    "import pickle\n",
    "import datetime\n",
    "\n",
    "import collections\n",
    "\n",
    "import xgboost\n",
    "from sklearn.preprocessing import LabelEncoder\n",
    "\n",
    "import scipy.sparse as ssp\n",
    "import joblib\n",
    "\n",
    "from dotenv import load_dotenv"
   ]
  },
  {
   "cell_type": "code",
   "execution_count": 5,
   "id": "3370e339",
   "metadata": {
    "execution": {
     "iopub.execute_input": "2025-06-13T13:10:13.075389Z",
     "iopub.status.busy": "2025-06-13T13:10:13.075049Z",
     "iopub.status.idle": "2025-06-13T13:10:13.080230Z",
     "shell.execute_reply": "2025-06-13T13:10:13.079915Z"
    },
    "papermill": {
     "duration": 0.011887,
     "end_time": "2025-06-13T13:10:13.081071",
     "exception": false,
     "start_time": "2025-06-13T13:10:13.069184",
     "status": "completed"
    },
    "tags": []
   },
   "outputs": [
    {
     "data": {
      "text/plain": [
       "True"
      ]
     },
     "execution_count": 5,
     "metadata": {},
     "output_type": "execute_result"
    }
   ],
   "source": [
    "load_dotenv()"
   ]
  },
  {
   "cell_type": "markdown",
   "id": "d255ca41",
   "metadata": {
    "papermill": {
     "duration": 0.004881,
     "end_time": "2025-06-13T13:10:13.090820",
     "exception": false,
     "start_time": "2025-06-13T13:10:13.085939",
     "status": "completed"
    },
    "tags": []
   },
   "source": [
    "# LOAD DATASET"
   ]
  },
  {
   "cell_type": "code",
   "execution_count": 6,
   "id": "2d2aa5b0",
   "metadata": {
    "execution": {
     "iopub.execute_input": "2025-06-13T13:10:13.101388Z",
     "iopub.status.busy": "2025-06-13T13:10:13.101121Z",
     "iopub.status.idle": "2025-06-13T13:10:13.139475Z",
     "shell.execute_reply": "2025-06-13T13:10:13.139127Z"
    },
    "papermill": {
     "duration": 0.044633,
     "end_time": "2025-06-13T13:10:13.140373",
     "exception": false,
     "start_time": "2025-06-13T13:10:13.095740",
     "status": "completed"
    },
    "tags": []
   },
   "outputs": [],
   "source": [
    "train_adata = ad.read_h5ad(\n",
    "    here(f'03_downstream_analysis/08_gene_importance/xgboost_external_validation/xgboost_TopN_genes/data_cellTypes/EXTERNAL_{CELL_TYPE}.filtered.log1p.h5ad')\n",
    ")"
   ]
  },
  {
   "cell_type": "code",
   "execution_count": 7,
   "id": "882c1a35",
   "metadata": {
    "execution": {
     "iopub.execute_input": "2025-06-13T13:10:13.151523Z",
     "iopub.status.busy": "2025-06-13T13:10:13.151277Z",
     "iopub.status.idle": "2025-06-13T13:10:13.160980Z",
     "shell.execute_reply": "2025-06-13T13:10:13.160650Z"
    },
    "papermill": {
     "duration": 0.016311,
     "end_time": "2025-06-13T13:10:13.161835",
     "exception": false,
     "start_time": "2025-06-13T13:10:13.145524",
     "status": "completed"
    },
    "tags": []
   },
   "outputs": [
    {
     "name": "stdout",
     "output_type": "stream",
     "text": [
      "['ENSG00000001167' 'ENSG00000005339' 'ENSG00000005844' 'ENSG00000025708'\n",
      " 'ENSG00000026025' 'ENSG00000026103' 'ENSG00000028137' 'ENSG00000033800'\n",
      " 'ENSG00000038427' 'ENSG00000048462' 'ENSG00000075785' 'ENSG00000078043'\n",
      " 'ENSG00000089280' 'ENSG00000089737' 'ENSG00000090266' 'ENSG00000090382'\n",
      " 'ENSG00000091409' 'ENSG00000092820' 'ENSG00000099958' 'ENSG00000100485'\n",
      " 'ENSG00000100664' 'ENSG00000100902' 'ENSG00000100911' 'ENSG00000101347'\n",
      " 'ENSG00000104660' 'ENSG00000104671' 'ENSG00000104964' 'ENSG00000105397'\n",
      " 'ENSG00000106588' 'ENSG00000107485' 'ENSG00000108639' 'ENSG00000110057'\n",
      " 'ENSG00000110324' 'ENSG00000110395' 'ENSG00000111716' 'ENSG00000113732'\n",
      " 'ENSG00000115145' 'ENSG00000115875' 'ENSG00000116701' 'ENSG00000116815'\n",
      " 'ENSG00000117318' 'ENSG00000117450' 'ENSG00000118640' 'ENSG00000120742'\n",
      " 'ENSG00000121858' 'ENSG00000125534' 'ENSG00000125740' 'ENSG00000128524'\n",
      " 'ENSG00000131437' 'ENSG00000132432' 'ENSG00000132510' 'ENSG00000134352'\n",
      " 'ENSG00000135046' 'ENSG00000135441' 'ENSG00000135720' 'ENSG00000135968'\n",
      " 'ENSG00000136156' 'ENSG00000137441' 'ENSG00000138674' 'ENSG00000140264'\n",
      " 'ENSG00000140564' 'ENSG00000141526' 'ENSG00000142669' 'ENSG00000144802'\n",
      " 'ENSG00000146457' 'ENSG00000149357' 'ENSG00000150093' 'ENSG00000153283'\n",
      " 'ENSG00000157020' 'ENSG00000160075' 'ENSG00000160213' 'ENSG00000160710'\n",
      " 'ENSG00000162512' 'ENSG00000163220' 'ENSG00000163221' 'ENSG00000163513'\n",
      " 'ENSG00000163563' 'ENSG00000163659' 'ENSG00000163660' 'ENSG00000163737'\n",
      " 'ENSG00000163931' 'ENSG00000164104' 'ENSG00000164136' 'ENSG00000164307'\n",
      " 'ENSG00000164308' 'ENSG00000164483' 'ENSG00000165168' 'ENSG00000165732'\n",
      " 'ENSG00000165949' 'ENSG00000166747' 'ENSG00000166847' 'ENSG00000166888'\n",
      " 'ENSG00000167996' 'ENSG00000168394' 'ENSG00000168461' 'ENSG00000168894'\n",
      " 'ENSG00000170458' 'ENSG00000170476' 'ENSG00000172009' 'ENSG00000172349'\n",
      " 'ENSG00000172936' 'ENSG00000179295' 'ENSG00000182117' 'ENSG00000184007'\n",
      " 'ENSG00000184752' 'ENSG00000186395' 'ENSG00000196396' 'ENSG00000196961'\n",
      " 'ENSG00000197329' 'ENSG00000204482' 'ENSG00000204843' 'ENSG00000243678'\n",
      " 'ENSG00000243749' 'ENSG00000264364']\n"
     ]
    }
   ],
   "source": [
    "if SEED != 'all':\n",
    "    gene_subset = np.load(here(f'03_downstream_analysis/08_gene_importance/xgboost_external_validation/shap_gene_selection/gene_subsets_{N_GENES}/{CELL_TYPE}_{SEED}.npy'), allow_pickle=True)\n",
    "    train_adata = train_adata[:,gene_subset]\n",
    "    print(gene_subset)\n",
    "elif SEED == 'all':\n",
    "    print('Using all genes')\n",
    "else:\n",
    "    raise ValueError()"
   ]
  },
  {
   "cell_type": "code",
   "execution_count": 8,
   "id": "407386a5",
   "metadata": {
    "execution": {
     "iopub.execute_input": "2025-06-13T13:10:13.172785Z",
     "iopub.status.busy": "2025-06-13T13:10:13.172576Z",
     "iopub.status.idle": "2025-06-13T13:10:13.175199Z",
     "shell.execute_reply": "2025-06-13T13:10:13.174906Z"
    },
    "papermill": {
     "duration": 0.009038,
     "end_time": "2025-06-13T13:10:13.176016",
     "exception": false,
     "start_time": "2025-06-13T13:10:13.166978",
     "status": "completed"
    },
    "tags": []
   },
   "outputs": [
    {
     "data": {
      "text/plain": [
       "(542, 114)"
      ]
     },
     "execution_count": 8,
     "metadata": {},
     "output_type": "execute_result"
    }
   ],
   "source": [
    "train_adata.shape"
   ]
  },
  {
   "cell_type": "code",
   "execution_count": 9,
   "id": "2bca8054",
   "metadata": {
    "execution": {
     "iopub.execute_input": "2025-06-13T13:10:13.187253Z",
     "iopub.status.busy": "2025-06-13T13:10:13.186888Z",
     "iopub.status.idle": "2025-06-13T13:10:13.190419Z",
     "shell.execute_reply": "2025-06-13T13:10:13.190133Z"
    },
    "papermill": {
     "duration": 0.010093,
     "end_time": "2025-06-13T13:10:13.191220",
     "exception": false,
     "start_time": "2025-06-13T13:10:13.181127",
     "status": "completed"
    },
    "tags": []
   },
   "outputs": [
    {
     "data": {
      "text/plain": [
       "['RA', 'COVID', 'healthy', 'HIV', 'cirrhosis', 'CD', 'SLE', 'sepsis']\n",
       "Categories (8, object): ['CD', 'COVID', 'HIV', 'RA', 'SLE', 'cirrhosis', 'healthy', 'sepsis']"
      ]
     },
     "execution_count": 9,
     "metadata": {},
     "output_type": "execute_result"
    }
   ],
   "source": [
    "train_adata.obs.disease.unique()"
   ]
  },
  {
   "cell_type": "code",
   "execution_count": 10,
   "id": "76e70084",
   "metadata": {
    "execution": {
     "iopub.execute_input": "2025-06-13T13:10:13.202319Z",
     "iopub.status.busy": "2025-06-13T13:10:13.202147Z",
     "iopub.status.idle": "2025-06-13T13:10:13.205381Z",
     "shell.execute_reply": "2025-06-13T13:10:13.205084Z"
    },
    "papermill": {
     "duration": 0.009832,
     "end_time": "2025-06-13T13:10:13.206153",
     "exception": false,
     "start_time": "2025-06-13T13:10:13.196321",
     "status": "completed"
    },
    "tags": []
   },
   "outputs": [
    {
     "data": {
      "text/plain": [
       "['SCGT00val_I0364_T0', 'SCGT00val_I036019_T0', 'SCGT00val_I036028_T0', 'SCGT00val_I036024_T0', 'SCGT00val_I036016_T0', ..., '10XGenomics_10XHC2_T0', '10XGenomics_10XHC3_T0', '10XGenomics_10XHC5_T0', '10XGenomics_10XHC7_T0', '10XGenomics_10XHC8_T0']\n",
       "Length: 74\n",
       "Categories (74, object): ['10XGenomics_10XHC1_T0', '10XGenomics_10XHC2_T0', '10XGenomics_10XHC3_T0', '10XGenomics_10XHC4_T0', ..., 'Savage2021_BRISL6_T0', 'Savage2021_BRISL7_T0', 'Savage2021_PIDA_T0', 'Savage2021_PIDB_T0']"
      ]
     },
     "execution_count": 10,
     "metadata": {},
     "output_type": "execute_result"
    }
   ],
   "source": [
    "train_adata.obs.sampleID.unique()"
   ]
  },
  {
   "cell_type": "code",
   "execution_count": 11,
   "id": "fe22f97a",
   "metadata": {
    "execution": {
     "iopub.execute_input": "2025-06-13T13:10:13.218448Z",
     "iopub.status.busy": "2025-06-13T13:10:13.218208Z",
     "iopub.status.idle": "2025-06-13T13:10:13.246208Z",
     "shell.execute_reply": "2025-06-13T13:10:13.245889Z"
    },
    "papermill": {
     "duration": 0.035625,
     "end_time": "2025-06-13T13:10:13.247048",
     "exception": false,
     "start_time": "2025-06-13T13:10:13.211423",
     "status": "completed"
    },
    "tags": []
   },
   "outputs": [],
   "source": [
    "all_idxs = np.arange(train_adata.obs.shape[0])\n",
    "left_out_splits = [s[1] for s in StratifiedGroupKFold(n_splits=N_SPLITS).split(all_idxs, train_adata.obs.disease, train_adata.obs.sampleID)]"
   ]
  },
  {
   "cell_type": "code",
   "execution_count": 12,
   "id": "640dde0c",
   "metadata": {
    "execution": {
     "iopub.execute_input": "2025-06-13T13:10:13.293047Z",
     "iopub.status.busy": "2025-06-13T13:10:13.292861Z",
     "iopub.status.idle": "2025-06-13T13:10:13.296131Z",
     "shell.execute_reply": "2025-06-13T13:10:13.295825Z"
    },
    "papermill": {
     "duration": 0.044589,
     "end_time": "2025-06-13T13:10:13.296897",
     "exception": false,
     "start_time": "2025-06-13T13:10:13.252308",
     "status": "completed"
    },
    "tags": []
   },
   "outputs": [
    {
     "data": {
      "text/plain": [
       "([0, 3, 4], 2, 1)"
      ]
     },
     "execution_count": 12,
     "metadata": {},
     "output_type": "execute_result"
    }
   ],
   "source": [
    "TRAIN_SPLIT_IDXS = [0,1,2,3,4]\n",
    "VAL_SPLIT_IDX = (TEST_SPLIT_IDX + 1) % 5\n",
    "TRAIN_SPLIT_IDXS.remove(TEST_SPLIT_IDX)\n",
    "TRAIN_SPLIT_IDXS.remove(VAL_SPLIT_IDX)\n",
    "TRAIN_SPLIT_IDXS, VAL_SPLIT_IDX, TEST_SPLIT_IDX"
   ]
  },
  {
   "cell_type": "code",
   "execution_count": 13,
   "id": "ee4ade6a",
   "metadata": {
    "execution": {
     "iopub.execute_input": "2025-06-13T13:10:13.308792Z",
     "iopub.status.busy": "2025-06-13T13:10:13.308528Z",
     "iopub.status.idle": "2025-06-13T13:10:13.310673Z",
     "shell.execute_reply": "2025-06-13T13:10:13.310388Z"
    },
    "papermill": {
     "duration": 0.009257,
     "end_time": "2025-06-13T13:10:13.311439",
     "exception": false,
     "start_time": "2025-06-13T13:10:13.302182",
     "status": "completed"
    },
    "tags": []
   },
   "outputs": [],
   "source": [
    "train_idxs = np.concatenate([left_out_splits[idx] for idx in TRAIN_SPLIT_IDXS])\n",
    "val_idxs = left_out_splits[VAL_SPLIT_IDX]\n",
    "test_idxs = left_out_splits[TEST_SPLIT_IDX]"
   ]
  },
  {
   "cell_type": "markdown",
   "id": "12855276",
   "metadata": {
    "papermill": {
     "duration": 0.030997,
     "end_time": "2025-06-13T13:10:13.347654",
     "exception": false,
     "start_time": "2025-06-13T13:10:13.316657",
     "status": "completed"
    },
    "tags": []
   },
   "source": [
    "### SUBSET DATASET INTO TRAIN/TEST/VAL SPLITS"
   ]
  },
  {
   "cell_type": "code",
   "execution_count": 14,
   "id": "c716f94a",
   "metadata": {
    "execution": {
     "iopub.execute_input": "2025-06-13T13:10:13.359370Z",
     "iopub.status.busy": "2025-06-13T13:10:13.359114Z",
     "iopub.status.idle": "2025-06-13T13:10:13.364857Z",
     "shell.execute_reply": "2025-06-13T13:10:13.364561Z"
    },
    "papermill": {
     "duration": 0.01236,
     "end_time": "2025-06-13T13:10:13.365604",
     "exception": false,
     "start_time": "2025-06-13T13:10:13.353244",
     "status": "completed"
    },
    "tags": []
   },
   "outputs": [
    {
     "data": {
      "text/plain": [
       "((333, 114), (107, 114), (102, 114))"
      ]
     },
     "execution_count": 14,
     "metadata": {},
     "output_type": "execute_result"
    }
   ],
   "source": [
    "X_train = train_adata.X[train_idxs]\n",
    "X_test = train_adata.X[test_idxs]\n",
    "X_val = train_adata.X[val_idxs]\n",
    "X_train.shape, X_test.shape, X_val.shape"
   ]
  },
  {
   "cell_type": "code",
   "execution_count": 15,
   "id": "dcc24651",
   "metadata": {
    "execution": {
     "iopub.execute_input": "2025-06-13T13:10:13.376963Z",
     "iopub.status.busy": "2025-06-13T13:10:13.376757Z",
     "iopub.status.idle": "2025-06-13T13:10:13.381185Z",
     "shell.execute_reply": "2025-06-13T13:10:13.380890Z"
    },
    "papermill": {
     "duration": 0.011126,
     "end_time": "2025-06-13T13:10:13.381949",
     "exception": false,
     "start_time": "2025-06-13T13:10:13.370823",
     "status": "completed"
    },
    "tags": []
   },
   "outputs": [
    {
     "data": {
      "text/plain": [
       "((333,), (107,), (102,))"
      ]
     },
     "execution_count": 15,
     "metadata": {},
     "output_type": "execute_result"
    }
   ],
   "source": [
    "y_train = train_adata.obs.iloc[train_idxs].disease.values.astype(str)\n",
    "y_test = train_adata.obs.iloc[test_idxs].disease.values.astype(str)\n",
    "y_val = train_adata.obs.iloc[val_idxs].disease.values.astype(str)\n",
    "y_train.shape, y_test.shape, y_val.shape"
   ]
  },
  {
   "cell_type": "code",
   "execution_count": 16,
   "id": "0742792e",
   "metadata": {
    "execution": {
     "iopub.execute_input": "2025-06-13T13:10:13.394025Z",
     "iopub.status.busy": "2025-06-13T13:10:13.393853Z",
     "iopub.status.idle": "2025-06-13T13:10:13.396384Z",
     "shell.execute_reply": "2025-06-13T13:10:13.396089Z"
    },
    "papermill": {
     "duration": 0.009897,
     "end_time": "2025-06-13T13:10:13.397165",
     "exception": false,
     "start_time": "2025-06-13T13:10:13.387268",
     "status": "completed"
    },
    "tags": []
   },
   "outputs": [],
   "source": [
    "lenc = LabelEncoder()\n",
    "y_train_enc = lenc.fit_transform(y_train)\n",
    "y_val_enc = lenc.transform(y_val)\n",
    "y_test_enc = lenc.transform(y_test)"
   ]
  },
  {
   "cell_type": "markdown",
   "id": "d136cf41",
   "metadata": {
    "papermill": {
     "duration": 0.005524,
     "end_time": "2025-06-13T13:10:13.408599",
     "exception": false,
     "start_time": "2025-06-13T13:10:13.403075",
     "status": "completed"
    },
    "tags": []
   },
   "source": [
    "### GENERATE F1 "
   ]
  },
  {
   "cell_type": "code",
   "execution_count": 17,
   "id": "fe730435",
   "metadata": {
    "execution": {
     "iopub.execute_input": "2025-06-13T13:10:13.420589Z",
     "iopub.status.busy": "2025-06-13T13:10:13.420244Z",
     "iopub.status.idle": "2025-06-13T13:10:13.422470Z",
     "shell.execute_reply": "2025-06-13T13:10:13.422171Z"
    },
    "papermill": {
     "duration": 0.009258,
     "end_time": "2025-06-13T13:10:13.423277",
     "exception": false,
     "start_time": "2025-06-13T13:10:13.414019",
     "status": "completed"
    },
    "tags": []
   },
   "outputs": [],
   "source": [
    "def custom_f1_score(y_true, y_pred):\n",
    "    return -f1_score(y_true, y_pred.argmax(1), average='weighted')"
   ]
  },
  {
   "cell_type": "code",
   "execution_count": 18,
   "id": "ec4be6f3",
   "metadata": {
    "execution": {
     "iopub.execute_input": "2025-06-13T13:10:13.434775Z",
     "iopub.status.busy": "2025-06-13T13:10:13.434514Z",
     "iopub.status.idle": "2025-06-13T13:10:13.437937Z",
     "shell.execute_reply": "2025-06-13T13:10:13.437630Z"
    },
    "papermill": {
     "duration": 0.010092,
     "end_time": "2025-06-13T13:10:13.438737",
     "exception": false,
     "start_time": "2025-06-13T13:10:13.428645",
     "status": "completed"
    },
    "tags": []
   },
   "outputs": [],
   "source": [
    "eval_metric=custom_f1_score\n",
    "eval_metric_name='custom_f1_score'\n",
    "\n",
    "def objective(trial):\n",
    "    params = {\n",
    "        'n_estimators': 1500,\n",
    "        'max_depth': trial.suggest_int('max_depth', 3, 20),\n",
    "        'min_child_weight': trial.suggest_int('min_child_weight', 1, 250),\n",
    "        'subsample': trial.suggest_float('subsample', 0.1, 1.0),\n",
    "        'colsample_bynode': trial.suggest_float('colsample_bynode', 0.1, 1.0),\n",
    "        'learning_rate': trial.suggest_float('learning_rate', 1e-3, 5e-1, log=True),\n",
    "    }\n",
    "    pruning_callback = optuna.integration.XGBoostPruningCallback(trial, f'validation_0-{eval_metric_name}')\n",
    "    es_callback = xgboost.callback.EarlyStopping(20, min_delta=0.001)\n",
    "    xgb = xgboost.XGBClassifier(\n",
    "        eval_metric=eval_metric,\n",
    "        callbacks=[pruning_callback, es_callback],\n",
    "        n_jobs=5,\n",
    "        **params\n",
    "    )\n",
    "    xgb.fit(\n",
    "        X_train, \n",
    "        y_train_enc, \n",
    "        verbose=0,\n",
    "        eval_set=[(X_val, y_val_enc)],\n",
    "    )\n",
    "    trial.set_user_attr('best_iteration', xgb.best_iteration)\n",
    "\n",
    "    return xgb.best_score"
   ]
  },
  {
   "cell_type": "code",
   "execution_count": 19,
   "id": "78f7943c",
   "metadata": {
    "execution": {
     "iopub.execute_input": "2025-06-13T13:10:13.450363Z",
     "iopub.status.busy": "2025-06-13T13:10:13.450193Z",
     "iopub.status.idle": "2025-06-13T13:10:22.967572Z",
     "shell.execute_reply": "2025-06-13T13:10:22.967130Z"
    },
    "papermill": {
     "duration": 9.524519,
     "end_time": "2025-06-13T13:10:22.968612",
     "exception": false,
     "start_time": "2025-06-13T13:10:13.444093",
     "status": "completed"
    },
    "scrolled": true,
    "tags": []
   },
   "outputs": [
    {
     "name": "stderr",
     "output_type": "stream",
     "text": [
      "[I 2025-06-13 15:10:13,451] A new study created in memory with name: no-name-33e69be8-c695-4044-b2b2-442181d17052\n"
     ]
    },
    {
     "name": "stderr",
     "output_type": "stream",
     "text": [
      "[I 2025-06-13 15:10:13,511] Trial 0 finished with value: -0.03313 and parameters: {'max_depth': 9, 'min_child_weight': 238, 'subsample': 0.7587945476302645, 'colsample_bynode': 0.6387926357773329, 'learning_rate': 0.0026368755339723046}. Best is trial 0 with value: -0.03313.\n"
     ]
    },
    {
     "name": "stderr",
     "output_type": "stream",
     "text": [
      "[I 2025-06-13 15:10:13,991] Trial 1 finished with value: -0.343937 and parameters: {'max_depth': 5, 'min_child_weight': 15, 'subsample': 0.8795585311974417, 'colsample_bynode': 0.6410035105688879, 'learning_rate': 0.08148293210105287}. Best is trial 1 with value: -0.343937.\n"
     ]
    },
    {
     "name": "stderr",
     "output_type": "stream",
     "text": [
      "[I 2025-06-13 15:10:14,120] Trial 2 finished with value: -0.03313 and parameters: {'max_depth': 3, 'min_child_weight': 243, 'subsample': 0.8491983767203796, 'colsample_bynode': 0.29110519961044856, 'learning_rate': 0.003095566460242371}. Best is trial 1 with value: -0.343937.\n"
     ]
    },
    {
     "name": "stderr",
     "output_type": "stream",
     "text": [
      "[I 2025-06-13 15:10:14,244] Trial 3 finished with value: -0.03313 and parameters: {'max_depth': 6, 'min_child_weight': 77, 'subsample': 0.5722807884690141, 'colsample_bynode': 0.48875051677790415, 'learning_rate': 0.006109683510122491}. Best is trial 1 with value: -0.343937.\n"
     ]
    },
    {
     "name": "stderr",
     "output_type": "stream",
     "text": [
      "[I 2025-06-13 15:10:14,373] Trial 4 finished with value: -0.03313 and parameters: {'max_depth': 14, 'min_child_weight': 35, 'subsample': 0.3629301836816964, 'colsample_bynode': 0.4297256589643226, 'learning_rate': 0.01701841881702917}. Best is trial 1 with value: -0.343937.\n"
     ]
    },
    {
     "name": "stderr",
     "output_type": "stream",
     "text": [
      "[I 2025-06-13 15:10:14,506] Trial 5 finished with value: -0.03313 and parameters: {'max_depth': 17, 'min_child_weight': 50, 'subsample': 0.5628109945722505, 'colsample_bynode': 0.6331731119758383, 'learning_rate': 0.0013346527038305934}. Best is trial 1 with value: -0.343937.\n"
     ]
    },
    {
     "name": "stderr",
     "output_type": "stream",
     "text": [
      "[I 2025-06-13 15:10:14,637] Trial 6 finished with value: -0.03313 and parameters: {'max_depth': 13, 'min_child_weight': 43, 'subsample': 0.1585464336867516, 'colsample_bynode': 0.9539969835279999, 'learning_rate': 0.4038423798071558}. Best is trial 1 with value: -0.343937.\n"
     ]
    },
    {
     "name": "stderr",
     "output_type": "stream",
     "text": [
      "[I 2025-06-13 15:10:14,766] Trial 7 finished with value: -0.03313 and parameters: {'max_depth': 17, 'min_child_weight': 77, 'subsample': 0.1879049026057455, 'colsample_bynode': 0.7158097238609412, 'learning_rate': 0.015415527060141935}. Best is trial 1 with value: -0.343937.\n"
     ]
    },
    {
     "name": "stderr",
     "output_type": "stream",
     "text": [
      "[I 2025-06-13 15:10:14,900] Trial 8 finished with value: -0.03313 and parameters: {'max_depth': 5, 'min_child_weight': 124, 'subsample': 0.13094966900369656, 'colsample_bynode': 0.9183883618709039, 'learning_rate': 0.004993895014755658}. Best is trial 1 with value: -0.343937.\n"
     ]
    },
    {
     "name": "stderr",
     "output_type": "stream",
     "text": [
      "[I 2025-06-13 15:10:15,029] Trial 9 finished with value: -0.03313 and parameters: {'max_depth': 14, 'min_child_weight': 78, 'subsample': 0.5680612190600297, 'colsample_bynode': 0.5920392514089517, 'learning_rate': 0.0031543990308330965}. Best is trial 1 with value: -0.343937.\n"
     ]
    },
    {
     "name": "stderr",
     "output_type": "stream",
     "text": [
      "[I 2025-06-13 15:10:15,381] Trial 10 finished with value: -0.394247 and parameters: {'max_depth': 9, 'min_child_weight': 2, 'subsample': 0.9725833997090791, 'colsample_bynode': 0.11616568805333755, 'learning_rate': 0.17780618353487967}. Best is trial 10 with value: -0.394247.\n"
     ]
    },
    {
     "name": "stderr",
     "output_type": "stream",
     "text": [
      "[I 2025-06-13 15:10:15,705] Trial 11 finished with value: -0.394759 and parameters: {'max_depth': 9, 'min_child_weight': 4, 'subsample': 0.9818290990185045, 'colsample_bynode': 0.17702656156719, 'learning_rate': 0.11568531411766632}. Best is trial 11 with value: -0.394759.\n"
     ]
    },
    {
     "name": "stderr",
     "output_type": "stream",
     "text": [
      "[I 2025-06-13 15:10:15,970] Trial 12 pruned. Trial was pruned at iteration 21.\n"
     ]
    },
    {
     "name": "stderr",
     "output_type": "stream",
     "text": [
      "[I 2025-06-13 15:10:16,110] Trial 13 finished with value: -0.03313 and parameters: {'max_depth': 10, 'min_child_weight': 173, 'subsample': 0.9990589868255076, 'colsample_bynode': 0.10388397775802007, 'learning_rate': 0.08343244313100631}. Best is trial 11 with value: -0.394759.\n"
     ]
    },
    {
     "name": "stderr",
     "output_type": "stream",
     "text": [
      "[I 2025-06-13 15:10:16,252] Trial 14 finished with value: -0.03313 and parameters: {'max_depth': 7, 'min_child_weight': 132, 'subsample': 0.7251427075087294, 'colsample_bynode': 0.2827065087684573, 'learning_rate': 0.4477473783244542}. Best is trial 11 with value: -0.394759.\n"
     ]
    },
    {
     "name": "stderr",
     "output_type": "stream",
     "text": [
      "[I 2025-06-13 15:10:16,526] Trial 15 pruned. Trial was pruned at iteration 21.\n"
     ]
    },
    {
     "name": "stderr",
     "output_type": "stream",
     "text": [
      "[I 2025-06-13 15:10:16,668] Trial 16 finished with value: -0.03313 and parameters: {'max_depth': 11, 'min_child_weight': 125, 'subsample': 0.8815541734801864, 'colsample_bynode': 0.37074095931791284, 'learning_rate': 0.18961687234093502}. Best is trial 11 with value: -0.394759.\n"
     ]
    },
    {
     "name": "stderr",
     "output_type": "stream",
     "text": [
      "[I 2025-06-13 15:10:16,952] Trial 17 finished with value: -0.03313 and parameters: {'max_depth': 8, 'min_child_weight': 183, 'subsample': 0.38147523481218437, 'colsample_bynode': 0.18808734027794596, 'learning_rate': 0.0535465309609203}. Best is trial 11 with value: -0.394759.\n"
     ]
    },
    {
     "name": "stderr",
     "output_type": "stream",
     "text": [
      "[I 2025-06-13 15:10:17,112] Trial 18 pruned. Trial was pruned at iteration 21.\n"
     ]
    },
    {
     "name": "stderr",
     "output_type": "stream",
     "text": [
      "[I 2025-06-13 15:10:17,257] Trial 19 finished with value: -0.03313 and parameters: {'max_depth': 11, 'min_child_weight': 102, 'subsample': 0.9723428668438461, 'colsample_bynode': 0.3679418363674778, 'learning_rate': 0.03827773069548075}. Best is trial 11 with value: -0.394759.\n"
     ]
    },
    {
     "name": "stderr",
     "output_type": "stream",
     "text": [
      "[I 2025-06-13 15:10:17,399] Trial 20 finished with value: -0.03313 and parameters: {'max_depth': 7, 'min_child_weight': 60, 'subsample': 0.6596113500838445, 'colsample_bynode': 0.20927736326660645, 'learning_rate': 0.25272718592857407}. Best is trial 11 with value: -0.394759.\n"
     ]
    },
    {
     "name": "stderr",
     "output_type": "stream",
     "text": [
      "[I 2025-06-13 15:10:17,577] Trial 21 pruned. Trial was pruned at iteration 21.\n"
     ]
    },
    {
     "name": "stderr",
     "output_type": "stream",
     "text": [
      "[I 2025-06-13 15:10:17,766] Trial 22 pruned. Trial was pruned at iteration 21.\n"
     ]
    },
    {
     "name": "stderr",
     "output_type": "stream",
     "text": [
      "[I 2025-06-13 15:10:17,933] Trial 23 pruned. Trial was pruned at iteration 21.\n"
     ]
    },
    {
     "name": "stderr",
     "output_type": "stream",
     "text": [
      "[I 2025-06-13 15:10:18,190] Trial 24 finished with value: -0.29004 and parameters: {'max_depth': 8, 'min_child_weight': 4, 'subsample': 0.9363676414616533, 'colsample_bynode': 0.3570727728603251, 'learning_rate': 0.030617548856419777}. Best is trial 11 with value: -0.394759.\n"
     ]
    },
    {
     "name": "stderr",
     "output_type": "stream",
     "text": [
      "[I 2025-06-13 15:10:18,340] Trial 25 finished with value: -0.03313 and parameters: {'max_depth': 6, 'min_child_weight': 60, 'subsample': 0.6456116649072785, 'colsample_bynode': 0.8505437758796104, 'learning_rate': 0.281809190534241}. Best is trial 11 with value: -0.394759.\n"
     ]
    },
    {
     "name": "stderr",
     "output_type": "stream",
     "text": [
      "[I 2025-06-13 15:10:18,484] Trial 26 finished with value: -0.166667 and parameters: {'max_depth': 10, 'min_child_weight': 27, 'subsample': 0.4415145059632183, 'colsample_bynode': 0.5223114639733216, 'learning_rate': 0.0668037040487806}. Best is trial 11 with value: -0.394759.\n"
     ]
    },
    {
     "name": "stderr",
     "output_type": "stream",
     "text": [
      "[I 2025-06-13 15:10:18,631] Trial 27 finished with value: -0.03313 and parameters: {'max_depth': 8, 'min_child_weight': 104, 'subsample': 0.830994423789636, 'colsample_bynode': 0.6784889090373202, 'learning_rate': 0.1346978034114215}. Best is trial 11 with value: -0.394759.\n"
     ]
    },
    {
     "name": "stderr",
     "output_type": "stream",
     "text": [
      "[I 2025-06-13 15:10:18,773] Trial 28 finished with value: -0.03313 and parameters: {'max_depth': 6, 'min_child_weight': 202, 'subsample': 0.9213273744508348, 'colsample_bynode': 0.23166494645076852, 'learning_rate': 0.02490686433339173}. Best is trial 11 with value: -0.394759.\n"
     ]
    },
    {
     "name": "stderr",
     "output_type": "stream",
     "text": [
      "[I 2025-06-13 15:10:18,919] Trial 29 finished with value: -0.03313 and parameters: {'max_depth': 9, 'min_child_weight': 217, 'subsample': 0.7827787036528077, 'colsample_bynode': 0.5877091799618283, 'learning_rate': 0.010709004830646147}. Best is trial 11 with value: -0.394759.\n"
     ]
    },
    {
     "name": "stderr",
     "output_type": "stream",
     "text": [
      "[I 2025-06-13 15:10:19,062] Trial 30 finished with value: -0.03313 and parameters: {'max_depth': 4, 'min_child_weight': 150, 'subsample': 0.9906011688533779, 'colsample_bynode': 0.4395182436362797, 'learning_rate': 0.05681672104284709}. Best is trial 11 with value: -0.394759.\n"
     ]
    },
    {
     "name": "stderr",
     "output_type": "stream",
     "text": [
      "[I 2025-06-13 15:10:19,331] Trial 31 pruned. Trial was pruned at iteration 21.\n"
     ]
    },
    {
     "name": "stderr",
     "output_type": "stream",
     "text": [
      "[I 2025-06-13 15:10:19,512] Trial 32 finished with value: -0.319613 and parameters: {'max_depth': 9, 'min_child_weight': 17, 'subsample': 0.934840161539075, 'colsample_bynode': 0.3202790086607277, 'learning_rate': 0.10668660474727726}. Best is trial 11 with value: -0.394759.\n"
     ]
    },
    {
     "name": "stderr",
     "output_type": "stream",
     "text": [
      "[I 2025-06-13 15:10:19,653] Trial 33 finished with value: -0.166667 and parameters: {'max_depth': 10, 'min_child_weight': 53, 'subsample': 0.8440213261805503, 'colsample_bynode': 0.14723394327588532, 'learning_rate': 0.11015042419453634}. Best is trial 11 with value: -0.394759.\n"
     ]
    },
    {
     "name": "stderr",
     "output_type": "stream",
     "text": [
      "[I 2025-06-13 15:10:19,805] Trial 34 pruned. Trial was pruned at iteration 21.\n"
     ]
    },
    {
     "name": "stderr",
     "output_type": "stream",
     "text": [
      "[I 2025-06-13 15:10:19,962] Trial 35 pruned. Trial was pruned at iteration 21.\n"
     ]
    },
    {
     "name": "stderr",
     "output_type": "stream",
     "text": [
      "[I 2025-06-13 15:10:20,107] Trial 36 pruned. Trial was pruned at iteration 21.\n"
     ]
    },
    {
     "name": "stderr",
     "output_type": "stream",
     "text": [
      "[I 2025-06-13 15:10:20,251] Trial 37 finished with value: -0.03313 and parameters: {'max_depth': 10, 'min_child_weight': 68, 'subsample': 0.7301751444506609, 'colsample_bynode': 0.4161507581982826, 'learning_rate': 0.05064071896915393}. Best is trial 11 with value: -0.394759.\n"
     ]
    },
    {
     "name": "stderr",
     "output_type": "stream",
     "text": [
      "[I 2025-06-13 15:10:20,394] Trial 38 finished with value: -0.03313 and parameters: {'max_depth': 9, 'min_child_weight': 49, 'subsample': 0.25720599485408774, 'colsample_bynode': 0.2540735503467316, 'learning_rate': 0.09330435854144098}. Best is trial 11 with value: -0.394759.\n"
     ]
    },
    {
     "name": "stderr",
     "output_type": "stream",
     "text": [
      "[I 2025-06-13 15:10:20,539] Trial 39 finished with value: -0.03313 and parameters: {'max_depth': 13, 'min_child_weight': 97, 'subsample': 0.4918794364214414, 'colsample_bynode': 0.31932625487478433, 'learning_rate': 0.32485896162641553}. Best is trial 11 with value: -0.394759.\n"
     ]
    },
    {
     "name": "stderr",
     "output_type": "stream",
     "text": [
      "[I 2025-06-13 15:10:20,685] Trial 40 finished with value: -0.03313 and parameters: {'max_depth': 5, 'min_child_weight': 86, 'subsample': 0.6135397358527036, 'colsample_bynode': 0.6401427485130928, 'learning_rate': 0.01762387035468314}. Best is trial 11 with value: -0.394759.\n"
     ]
    },
    {
     "name": "stderr",
     "output_type": "stream",
     "text": [
      "[I 2025-06-13 15:10:21,037] Trial 41 finished with value: -0.394764 and parameters: {'max_depth': 8, 'min_child_weight': 11, 'subsample': 0.940588767129012, 'colsample_bynode': 0.322396489259674, 'learning_rate': 0.14855821943294048}. Best is trial 41 with value: -0.394764.\n"
     ]
    },
    {
     "name": "stderr",
     "output_type": "stream",
     "text": [
      "[I 2025-06-13 15:10:21,399] Trial 42 finished with value: -0.415696 and parameters: {'max_depth': 6, 'min_child_weight': 12, 'subsample': 0.9483401311261408, 'colsample_bynode': 0.4425278401265853, 'learning_rate': 0.16700749820843458}. Best is trial 42 with value: -0.415696.\n"
     ]
    },
    {
     "name": "stderr",
     "output_type": "stream",
     "text": [
      "[I 2025-06-13 15:10:21,551] Trial 43 pruned. Trial was pruned at iteration 21.\n"
     ]
    },
    {
     "name": "stderr",
     "output_type": "stream",
     "text": [
      "[I 2025-06-13 15:10:21,736] Trial 44 pruned. Trial was pruned at iteration 21.\n"
     ]
    },
    {
     "name": "stderr",
     "output_type": "stream",
     "text": [
      "[I 2025-06-13 15:10:21,893] Trial 45 pruned. Trial was pruned at iteration 21.\n"
     ]
    },
    {
     "name": "stderr",
     "output_type": "stream",
     "text": [
      "[I 2025-06-13 15:10:22,111] Trial 46 pruned. Trial was pruned at iteration 21.\n"
     ]
    },
    {
     "name": "stderr",
     "output_type": "stream",
     "text": [
      "[I 2025-06-13 15:10:22,453] Trial 47 finished with value: -0.386539 and parameters: {'max_depth': 7, 'min_child_weight': 1, 'subsample': 0.9053575478107501, 'colsample_bynode': 0.1597126173363316, 'learning_rate': 0.06838011494481255}. Best is trial 42 with value: -0.415696.\n"
     ]
    },
    {
     "name": "stderr",
     "output_type": "stream",
     "text": [
      "[I 2025-06-13 15:10:22,607] Trial 48 pruned. Trial was pruned at iteration 21.\n"
     ]
    },
    {
     "name": "stderr",
     "output_type": "stream",
     "text": [
      "[I 2025-06-13 15:10:22,892] Trial 49 finished with value: -0.327443 and parameters: {'max_depth': 8, 'min_child_weight': 1, 'subsample': 0.957439253023559, 'colsample_bynode': 0.10803600194100989, 'learning_rate': 0.16269941217688727}. Best is trial 42 with value: -0.415696.\n"
     ]
    }
   ],
   "source": [
    "sampler = optuna.samplers.TPESampler(seed=42)\n",
    "study = optuna.create_study(direction='minimize', sampler=sampler)\n",
    "study.optimize(objective, n_trials=N_TRIALS, gc_after_trial=True)"
   ]
  },
  {
   "cell_type": "code",
   "execution_count": 20,
   "id": "79e48301",
   "metadata": {
    "execution": {
     "iopub.execute_input": "2025-06-13T13:10:22.986885Z",
     "iopub.status.busy": "2025-06-13T13:10:22.986516Z",
     "iopub.status.idle": "2025-06-13T13:10:23.010054Z",
     "shell.execute_reply": "2025-06-13T13:10:23.009752Z"
    },
    "papermill": {
     "duration": 0.033225,
     "end_time": "2025-06-13T13:10:23.010792",
     "exception": false,
     "start_time": "2025-06-13T13:10:22.977567",
     "status": "completed"
    },
    "tags": []
   },
   "outputs": [
    {
     "data": {
      "text/plain": [
       "['/scratch_isilon/groups/singlecell/shared/projects/Inflammation-PBMCs-Atlas/03_downstream_analysis/08_gene_importance/xgboost_external_validation/xgboost_TopN_genes/results_20/study/Plasma_shap_studyID_NOdisease_samesize_1_xgboost.pkl']"
      ]
     },
     "execution_count": 20,
     "metadata": {},
     "output_type": "execute_result"
    }
   ],
   "source": [
    "out_dir = here(f'03_downstream_analysis/08_gene_importance/xgboost_external_validation/xgboost_TopN_genes/results_{N_GENES}/study')\n",
    "\n",
    "if not os.path.exists(out_dir):\n",
    "    os.makedirs(out_dir)\n",
    "    \n",
    "joblib.dump(study,os.path.join(out_dir, f'{CELL_TYPE}_{SEED}_{TEST_SPLIT_IDX}_xgboost.pkl'))"
   ]
  },
  {
   "cell_type": "code",
   "execution_count": 21,
   "id": "a1a2d753",
   "metadata": {
    "execution": {
     "iopub.execute_input": "2025-06-13T13:10:23.027430Z",
     "iopub.status.busy": "2025-06-13T13:10:23.027230Z",
     "iopub.status.idle": "2025-06-13T13:10:23.251637Z",
     "shell.execute_reply": "2025-06-13T13:10:23.251173Z"
    },
    "papermill": {
     "duration": 0.23392,
     "end_time": "2025-06-13T13:10:23.252499",
     "exception": false,
     "start_time": "2025-06-13T13:10:23.018579",
     "status": "completed"
    },
    "tags": []
   },
   "outputs": [
    {
     "data": {
      "text/html": [
       "<style>#sk-container-id-1 {\n",
       "  /* Definition of color scheme common for light and dark mode */\n",
       "  --sklearn-color-text: black;\n",
       "  --sklearn-color-line: gray;\n",
       "  /* Definition of color scheme for unfitted estimators */\n",
       "  --sklearn-color-unfitted-level-0: #fff5e6;\n",
       "  --sklearn-color-unfitted-level-1: #f6e4d2;\n",
       "  --sklearn-color-unfitted-level-2: #ffe0b3;\n",
       "  --sklearn-color-unfitted-level-3: chocolate;\n",
       "  /* Definition of color scheme for fitted estimators */\n",
       "  --sklearn-color-fitted-level-0: #f0f8ff;\n",
       "  --sklearn-color-fitted-level-1: #d4ebff;\n",
       "  --sklearn-color-fitted-level-2: #b3dbfd;\n",
       "  --sklearn-color-fitted-level-3: cornflowerblue;\n",
       "\n",
       "  /* Specific color for light theme */\n",
       "  --sklearn-color-text-on-default-background: var(--sg-text-color, var(--theme-code-foreground, var(--jp-content-font-color1, black)));\n",
       "  --sklearn-color-background: var(--sg-background-color, var(--theme-background, var(--jp-layout-color0, white)));\n",
       "  --sklearn-color-border-box: var(--sg-text-color, var(--theme-code-foreground, var(--jp-content-font-color1, black)));\n",
       "  --sklearn-color-icon: #696969;\n",
       "\n",
       "  @media (prefers-color-scheme: dark) {\n",
       "    /* Redefinition of color scheme for dark theme */\n",
       "    --sklearn-color-text-on-default-background: var(--sg-text-color, var(--theme-code-foreground, var(--jp-content-font-color1, white)));\n",
       "    --sklearn-color-background: var(--sg-background-color, var(--theme-background, var(--jp-layout-color0, #111)));\n",
       "    --sklearn-color-border-box: var(--sg-text-color, var(--theme-code-foreground, var(--jp-content-font-color1, white)));\n",
       "    --sklearn-color-icon: #878787;\n",
       "  }\n",
       "}\n",
       "\n",
       "#sk-container-id-1 {\n",
       "  color: var(--sklearn-color-text);\n",
       "}\n",
       "\n",
       "#sk-container-id-1 pre {\n",
       "  padding: 0;\n",
       "}\n",
       "\n",
       "#sk-container-id-1 input.sk-hidden--visually {\n",
       "  border: 0;\n",
       "  clip: rect(1px 1px 1px 1px);\n",
       "  clip: rect(1px, 1px, 1px, 1px);\n",
       "  height: 1px;\n",
       "  margin: -1px;\n",
       "  overflow: hidden;\n",
       "  padding: 0;\n",
       "  position: absolute;\n",
       "  width: 1px;\n",
       "}\n",
       "\n",
       "#sk-container-id-1 div.sk-dashed-wrapped {\n",
       "  border: 1px dashed var(--sklearn-color-line);\n",
       "  margin: 0 0.4em 0.5em 0.4em;\n",
       "  box-sizing: border-box;\n",
       "  padding-bottom: 0.4em;\n",
       "  background-color: var(--sklearn-color-background);\n",
       "}\n",
       "\n",
       "#sk-container-id-1 div.sk-container {\n",
       "  /* jupyter's `normalize.less` sets `[hidden] { display: none; }`\n",
       "     but bootstrap.min.css set `[hidden] { display: none !important; }`\n",
       "     so we also need the `!important` here to be able to override the\n",
       "     default hidden behavior on the sphinx rendered scikit-learn.org.\n",
       "     See: https://github.com/scikit-learn/scikit-learn/issues/21755 */\n",
       "  display: inline-block !important;\n",
       "  position: relative;\n",
       "}\n",
       "\n",
       "#sk-container-id-1 div.sk-text-repr-fallback {\n",
       "  display: none;\n",
       "}\n",
       "\n",
       "div.sk-parallel-item,\n",
       "div.sk-serial,\n",
       "div.sk-item {\n",
       "  /* draw centered vertical line to link estimators */\n",
       "  background-image: linear-gradient(var(--sklearn-color-text-on-default-background), var(--sklearn-color-text-on-default-background));\n",
       "  background-size: 2px 100%;\n",
       "  background-repeat: no-repeat;\n",
       "  background-position: center center;\n",
       "}\n",
       "\n",
       "/* Parallel-specific style estimator block */\n",
       "\n",
       "#sk-container-id-1 div.sk-parallel-item::after {\n",
       "  content: \"\";\n",
       "  width: 100%;\n",
       "  border-bottom: 2px solid var(--sklearn-color-text-on-default-background);\n",
       "  flex-grow: 1;\n",
       "}\n",
       "\n",
       "#sk-container-id-1 div.sk-parallel {\n",
       "  display: flex;\n",
       "  align-items: stretch;\n",
       "  justify-content: center;\n",
       "  background-color: var(--sklearn-color-background);\n",
       "  position: relative;\n",
       "}\n",
       "\n",
       "#sk-container-id-1 div.sk-parallel-item {\n",
       "  display: flex;\n",
       "  flex-direction: column;\n",
       "}\n",
       "\n",
       "#sk-container-id-1 div.sk-parallel-item:first-child::after {\n",
       "  align-self: flex-end;\n",
       "  width: 50%;\n",
       "}\n",
       "\n",
       "#sk-container-id-1 div.sk-parallel-item:last-child::after {\n",
       "  align-self: flex-start;\n",
       "  width: 50%;\n",
       "}\n",
       "\n",
       "#sk-container-id-1 div.sk-parallel-item:only-child::after {\n",
       "  width: 0;\n",
       "}\n",
       "\n",
       "/* Serial-specific style estimator block */\n",
       "\n",
       "#sk-container-id-1 div.sk-serial {\n",
       "  display: flex;\n",
       "  flex-direction: column;\n",
       "  align-items: center;\n",
       "  background-color: var(--sklearn-color-background);\n",
       "  padding-right: 1em;\n",
       "  padding-left: 1em;\n",
       "}\n",
       "\n",
       "\n",
       "/* Toggleable style: style used for estimator/Pipeline/ColumnTransformer box that is\n",
       "clickable and can be expanded/collapsed.\n",
       "- Pipeline and ColumnTransformer use this feature and define the default style\n",
       "- Estimators will overwrite some part of the style using the `sk-estimator` class\n",
       "*/\n",
       "\n",
       "/* Pipeline and ColumnTransformer style (default) */\n",
       "\n",
       "#sk-container-id-1 div.sk-toggleable {\n",
       "  /* Default theme specific background. It is overwritten whether we have a\n",
       "  specific estimator or a Pipeline/ColumnTransformer */\n",
       "  background-color: var(--sklearn-color-background);\n",
       "}\n",
       "\n",
       "/* Toggleable label */\n",
       "#sk-container-id-1 label.sk-toggleable__label {\n",
       "  cursor: pointer;\n",
       "  display: block;\n",
       "  width: 100%;\n",
       "  margin-bottom: 0;\n",
       "  padding: 0.5em;\n",
       "  box-sizing: border-box;\n",
       "  text-align: center;\n",
       "}\n",
       "\n",
       "#sk-container-id-1 label.sk-toggleable__label-arrow:before {\n",
       "  /* Arrow on the left of the label */\n",
       "  content: \"▸\";\n",
       "  float: left;\n",
       "  margin-right: 0.25em;\n",
       "  color: var(--sklearn-color-icon);\n",
       "}\n",
       "\n",
       "#sk-container-id-1 label.sk-toggleable__label-arrow:hover:before {\n",
       "  color: var(--sklearn-color-text);\n",
       "}\n",
       "\n",
       "/* Toggleable content - dropdown */\n",
       "\n",
       "#sk-container-id-1 div.sk-toggleable__content {\n",
       "  max-height: 0;\n",
       "  max-width: 0;\n",
       "  overflow: hidden;\n",
       "  text-align: left;\n",
       "  /* unfitted */\n",
       "  background-color: var(--sklearn-color-unfitted-level-0);\n",
       "}\n",
       "\n",
       "#sk-container-id-1 div.sk-toggleable__content.fitted {\n",
       "  /* fitted */\n",
       "  background-color: var(--sklearn-color-fitted-level-0);\n",
       "}\n",
       "\n",
       "#sk-container-id-1 div.sk-toggleable__content pre {\n",
       "  margin: 0.2em;\n",
       "  border-radius: 0.25em;\n",
       "  color: var(--sklearn-color-text);\n",
       "  /* unfitted */\n",
       "  background-color: var(--sklearn-color-unfitted-level-0);\n",
       "}\n",
       "\n",
       "#sk-container-id-1 div.sk-toggleable__content.fitted pre {\n",
       "  /* unfitted */\n",
       "  background-color: var(--sklearn-color-fitted-level-0);\n",
       "}\n",
       "\n",
       "#sk-container-id-1 input.sk-toggleable__control:checked~div.sk-toggleable__content {\n",
       "  /* Expand drop-down */\n",
       "  max-height: 200px;\n",
       "  max-width: 100%;\n",
       "  overflow: auto;\n",
       "}\n",
       "\n",
       "#sk-container-id-1 input.sk-toggleable__control:checked~label.sk-toggleable__label-arrow:before {\n",
       "  content: \"▾\";\n",
       "}\n",
       "\n",
       "/* Pipeline/ColumnTransformer-specific style */\n",
       "\n",
       "#sk-container-id-1 div.sk-label input.sk-toggleable__control:checked~label.sk-toggleable__label {\n",
       "  color: var(--sklearn-color-text);\n",
       "  background-color: var(--sklearn-color-unfitted-level-2);\n",
       "}\n",
       "\n",
       "#sk-container-id-1 div.sk-label.fitted input.sk-toggleable__control:checked~label.sk-toggleable__label {\n",
       "  background-color: var(--sklearn-color-fitted-level-2);\n",
       "}\n",
       "\n",
       "/* Estimator-specific style */\n",
       "\n",
       "/* Colorize estimator box */\n",
       "#sk-container-id-1 div.sk-estimator input.sk-toggleable__control:checked~label.sk-toggleable__label {\n",
       "  /* unfitted */\n",
       "  background-color: var(--sklearn-color-unfitted-level-2);\n",
       "}\n",
       "\n",
       "#sk-container-id-1 div.sk-estimator.fitted input.sk-toggleable__control:checked~label.sk-toggleable__label {\n",
       "  /* fitted */\n",
       "  background-color: var(--sklearn-color-fitted-level-2);\n",
       "}\n",
       "\n",
       "#sk-container-id-1 div.sk-label label.sk-toggleable__label,\n",
       "#sk-container-id-1 div.sk-label label {\n",
       "  /* The background is the default theme color */\n",
       "  color: var(--sklearn-color-text-on-default-background);\n",
       "}\n",
       "\n",
       "/* On hover, darken the color of the background */\n",
       "#sk-container-id-1 div.sk-label:hover label.sk-toggleable__label {\n",
       "  color: var(--sklearn-color-text);\n",
       "  background-color: var(--sklearn-color-unfitted-level-2);\n",
       "}\n",
       "\n",
       "/* Label box, darken color on hover, fitted */\n",
       "#sk-container-id-1 div.sk-label.fitted:hover label.sk-toggleable__label.fitted {\n",
       "  color: var(--sklearn-color-text);\n",
       "  background-color: var(--sklearn-color-fitted-level-2);\n",
       "}\n",
       "\n",
       "/* Estimator label */\n",
       "\n",
       "#sk-container-id-1 div.sk-label label {\n",
       "  font-family: monospace;\n",
       "  font-weight: bold;\n",
       "  display: inline-block;\n",
       "  line-height: 1.2em;\n",
       "}\n",
       "\n",
       "#sk-container-id-1 div.sk-label-container {\n",
       "  text-align: center;\n",
       "}\n",
       "\n",
       "/* Estimator-specific */\n",
       "#sk-container-id-1 div.sk-estimator {\n",
       "  font-family: monospace;\n",
       "  border: 1px dotted var(--sklearn-color-border-box);\n",
       "  border-radius: 0.25em;\n",
       "  box-sizing: border-box;\n",
       "  margin-bottom: 0.5em;\n",
       "  /* unfitted */\n",
       "  background-color: var(--sklearn-color-unfitted-level-0);\n",
       "}\n",
       "\n",
       "#sk-container-id-1 div.sk-estimator.fitted {\n",
       "  /* fitted */\n",
       "  background-color: var(--sklearn-color-fitted-level-0);\n",
       "}\n",
       "\n",
       "/* on hover */\n",
       "#sk-container-id-1 div.sk-estimator:hover {\n",
       "  /* unfitted */\n",
       "  background-color: var(--sklearn-color-unfitted-level-2);\n",
       "}\n",
       "\n",
       "#sk-container-id-1 div.sk-estimator.fitted:hover {\n",
       "  /* fitted */\n",
       "  background-color: var(--sklearn-color-fitted-level-2);\n",
       "}\n",
       "\n",
       "/* Specification for estimator info (e.g. \"i\" and \"?\") */\n",
       "\n",
       "/* Common style for \"i\" and \"?\" */\n",
       "\n",
       ".sk-estimator-doc-link,\n",
       "a:link.sk-estimator-doc-link,\n",
       "a:visited.sk-estimator-doc-link {\n",
       "  float: right;\n",
       "  font-size: smaller;\n",
       "  line-height: 1em;\n",
       "  font-family: monospace;\n",
       "  background-color: var(--sklearn-color-background);\n",
       "  border-radius: 1em;\n",
       "  height: 1em;\n",
       "  width: 1em;\n",
       "  text-decoration: none !important;\n",
       "  margin-left: 1ex;\n",
       "  /* unfitted */\n",
       "  border: var(--sklearn-color-unfitted-level-1) 1pt solid;\n",
       "  color: var(--sklearn-color-unfitted-level-1);\n",
       "}\n",
       "\n",
       ".sk-estimator-doc-link.fitted,\n",
       "a:link.sk-estimator-doc-link.fitted,\n",
       "a:visited.sk-estimator-doc-link.fitted {\n",
       "  /* fitted */\n",
       "  border: var(--sklearn-color-fitted-level-1) 1pt solid;\n",
       "  color: var(--sklearn-color-fitted-level-1);\n",
       "}\n",
       "\n",
       "/* On hover */\n",
       "div.sk-estimator:hover .sk-estimator-doc-link:hover,\n",
       ".sk-estimator-doc-link:hover,\n",
       "div.sk-label-container:hover .sk-estimator-doc-link:hover,\n",
       ".sk-estimator-doc-link:hover {\n",
       "  /* unfitted */\n",
       "  background-color: var(--sklearn-color-unfitted-level-3);\n",
       "  color: var(--sklearn-color-background);\n",
       "  text-decoration: none;\n",
       "}\n",
       "\n",
       "div.sk-estimator.fitted:hover .sk-estimator-doc-link.fitted:hover,\n",
       ".sk-estimator-doc-link.fitted:hover,\n",
       "div.sk-label-container:hover .sk-estimator-doc-link.fitted:hover,\n",
       ".sk-estimator-doc-link.fitted:hover {\n",
       "  /* fitted */\n",
       "  background-color: var(--sklearn-color-fitted-level-3);\n",
       "  color: var(--sklearn-color-background);\n",
       "  text-decoration: none;\n",
       "}\n",
       "\n",
       "/* Span, style for the box shown on hovering the info icon */\n",
       ".sk-estimator-doc-link span {\n",
       "  display: none;\n",
       "  z-index: 9999;\n",
       "  position: relative;\n",
       "  font-weight: normal;\n",
       "  right: .2ex;\n",
       "  padding: .5ex;\n",
       "  margin: .5ex;\n",
       "  width: min-content;\n",
       "  min-width: 20ex;\n",
       "  max-width: 50ex;\n",
       "  color: var(--sklearn-color-text);\n",
       "  box-shadow: 2pt 2pt 4pt #999;\n",
       "  /* unfitted */\n",
       "  background: var(--sklearn-color-unfitted-level-0);\n",
       "  border: .5pt solid var(--sklearn-color-unfitted-level-3);\n",
       "}\n",
       "\n",
       ".sk-estimator-doc-link.fitted span {\n",
       "  /* fitted */\n",
       "  background: var(--sklearn-color-fitted-level-0);\n",
       "  border: var(--sklearn-color-fitted-level-3);\n",
       "}\n",
       "\n",
       ".sk-estimator-doc-link:hover span {\n",
       "  display: block;\n",
       "}\n",
       "\n",
       "/* \"?\"-specific style due to the `<a>` HTML tag */\n",
       "\n",
       "#sk-container-id-1 a.estimator_doc_link {\n",
       "  float: right;\n",
       "  font-size: 1rem;\n",
       "  line-height: 1em;\n",
       "  font-family: monospace;\n",
       "  background-color: var(--sklearn-color-background);\n",
       "  border-radius: 1rem;\n",
       "  height: 1rem;\n",
       "  width: 1rem;\n",
       "  text-decoration: none;\n",
       "  /* unfitted */\n",
       "  color: var(--sklearn-color-unfitted-level-1);\n",
       "  border: var(--sklearn-color-unfitted-level-1) 1pt solid;\n",
       "}\n",
       "\n",
       "#sk-container-id-1 a.estimator_doc_link.fitted {\n",
       "  /* fitted */\n",
       "  border: var(--sklearn-color-fitted-level-1) 1pt solid;\n",
       "  color: var(--sklearn-color-fitted-level-1);\n",
       "}\n",
       "\n",
       "/* On hover */\n",
       "#sk-container-id-1 a.estimator_doc_link:hover {\n",
       "  /* unfitted */\n",
       "  background-color: var(--sklearn-color-unfitted-level-3);\n",
       "  color: var(--sklearn-color-background);\n",
       "  text-decoration: none;\n",
       "}\n",
       "\n",
       "#sk-container-id-1 a.estimator_doc_link.fitted:hover {\n",
       "  /* fitted */\n",
       "  background-color: var(--sklearn-color-fitted-level-3);\n",
       "}\n",
       "</style><div id=\"sk-container-id-1\" class=\"sk-top-container\"><div class=\"sk-text-repr-fallback\"><pre>XGBClassifier(base_score=None, booster=None, callbacks=None,\n",
       "              colsample_bylevel=None, colsample_bynode=0.4425278401265853,\n",
       "              colsample_bytree=None, device=None, early_stopping_rounds=None,\n",
       "              enable_categorical=False,\n",
       "              eval_metric=&lt;function custom_f1_score at 0x7f9fe0dfc680&gt;,\n",
       "              feature_types=None, gamma=None, grow_policy=None,\n",
       "              importance_type=None, interaction_constraints=None,\n",
       "              learning_rate=0.16700749820843458, max_bin=None,\n",
       "              max_cat_threshold=None, max_cat_to_onehot=None,\n",
       "              max_delta_step=None, max_depth=6, max_leaves=None,\n",
       "              min_child_weight=12, missing=nan, monotone_constraints=None,\n",
       "              multi_strategy=None, n_estimators=63, n_jobs=None,\n",
       "              num_parallel_tree=None, objective=&#x27;multi:softprob&#x27;, ...)</pre><b>In a Jupyter environment, please rerun this cell to show the HTML representation or trust the notebook. <br />On GitHub, the HTML representation is unable to render, please try loading this page with nbviewer.org.</b></div><div class=\"sk-container\" hidden><div class=\"sk-item\"><div class=\"sk-estimator fitted sk-toggleable\"><input class=\"sk-toggleable__control sk-hidden--visually\" id=\"sk-estimator-id-1\" type=\"checkbox\" checked><label for=\"sk-estimator-id-1\" class=\"sk-toggleable__label fitted sk-toggleable__label-arrow fitted\">&nbsp;XGBClassifier<span class=\"sk-estimator-doc-link fitted\">i<span>Fitted</span></span></label><div class=\"sk-toggleable__content fitted\"><pre>XGBClassifier(base_score=None, booster=None, callbacks=None,\n",
       "              colsample_bylevel=None, colsample_bynode=0.4425278401265853,\n",
       "              colsample_bytree=None, device=None, early_stopping_rounds=None,\n",
       "              enable_categorical=False,\n",
       "              eval_metric=&lt;function custom_f1_score at 0x7f9fe0dfc680&gt;,\n",
       "              feature_types=None, gamma=None, grow_policy=None,\n",
       "              importance_type=None, interaction_constraints=None,\n",
       "              learning_rate=0.16700749820843458, max_bin=None,\n",
       "              max_cat_threshold=None, max_cat_to_onehot=None,\n",
       "              max_delta_step=None, max_depth=6, max_leaves=None,\n",
       "              min_child_weight=12, missing=nan, monotone_constraints=None,\n",
       "              multi_strategy=None, n_estimators=63, n_jobs=None,\n",
       "              num_parallel_tree=None, objective=&#x27;multi:softprob&#x27;, ...)</pre></div> </div></div></div></div>"
      ],
      "text/plain": [
       "XGBClassifier(base_score=None, booster=None, callbacks=None,\n",
       "              colsample_bylevel=None, colsample_bynode=0.4425278401265853,\n",
       "              colsample_bytree=None, device=None, early_stopping_rounds=None,\n",
       "              enable_categorical=False,\n",
       "              eval_metric=<function custom_f1_score at 0x7f9fe0dfc680>,\n",
       "              feature_types=None, gamma=None, grow_policy=None,\n",
       "              importance_type=None, interaction_constraints=None,\n",
       "              learning_rate=0.16700749820843458, max_bin=None,\n",
       "              max_cat_threshold=None, max_cat_to_onehot=None,\n",
       "              max_delta_step=None, max_depth=6, max_leaves=None,\n",
       "              min_child_weight=12, missing=nan, monotone_constraints=None,\n",
       "              multi_strategy=None, n_estimators=63, n_jobs=None,\n",
       "              num_parallel_tree=None, objective='multi:softprob', ...)"
      ]
     },
     "execution_count": 21,
     "metadata": {},
     "output_type": "execute_result"
    }
   ],
   "source": [
    "n_estimators = int(study.best_trial.user_attrs['best_iteration']*1.2)\n",
    "xgb = xgboost.XGBClassifier(\n",
    "        eval_metric=eval_metric,\n",
    "        n_estimators=n_estimators,\n",
    "        **study.best_trial.params\n",
    "    )\n",
    "xgb.fit(\n",
    "    ssp.vstack((X_train, X_val)), \n",
    "    np.concatenate((y_train_enc, y_val_enc)),\n",
    "    verbose=1,\n",
    ")"
   ]
  },
  {
   "cell_type": "code",
   "execution_count": 22,
   "id": "a6287764",
   "metadata": {
    "execution": {
     "iopub.execute_input": "2025-06-13T13:10:23.270494Z",
     "iopub.status.busy": "2025-06-13T13:10:23.270240Z",
     "iopub.status.idle": "2025-06-13T13:10:23.283862Z",
     "shell.execute_reply": "2025-06-13T13:10:23.283479Z"
    },
    "papermill": {
     "duration": 0.023527,
     "end_time": "2025-06-13T13:10:23.284703",
     "exception": false,
     "start_time": "2025-06-13T13:10:23.261176",
     "status": "completed"
    },
    "tags": []
   },
   "outputs": [
    {
     "data": {
      "text/plain": [
       "['/scratch_isilon/groups/singlecell/shared/projects/Inflammation-PBMCs-Atlas/03_downstream_analysis/08_gene_importance/xgboost_external_validation/xgboost_TopN_genes/results_20/best_model/Plasma_shap_studyID_NOdisease_samesize_1_xgb.json']"
      ]
     },
     "execution_count": 22,
     "metadata": {},
     "output_type": "execute_result"
    }
   ],
   "source": [
    "out_dir = here(f'03_downstream_analysis/08_gene_importance/xgboost_external_validation/xgboost_TopN_genes/results_{N_GENES}/best_model')\n",
    "\n",
    "if not os.path.exists(out_dir):\n",
    "    os.makedirs(out_dir)\n",
    "    \n",
    "joblib.dump(xgb, os.path.join(out_dir, f'{CELL_TYPE}_{SEED}_{TEST_SPLIT_IDX}_xgb.json'))"
   ]
  },
  {
   "cell_type": "code",
   "execution_count": 23,
   "id": "20d7fe29",
   "metadata": {
    "execution": {
     "iopub.execute_input": "2025-06-13T13:10:23.303007Z",
     "iopub.status.busy": "2025-06-13T13:10:23.302762Z",
     "iopub.status.idle": "2025-06-13T13:10:23.307473Z",
     "shell.execute_reply": "2025-06-13T13:10:23.307171Z"
    },
    "papermill": {
     "duration": 0.018736,
     "end_time": "2025-06-13T13:10:23.312538",
     "exception": false,
     "start_time": "2025-06-13T13:10:23.293802",
     "status": "completed"
    },
    "tags": []
   },
   "outputs": [],
   "source": [
    "df_pred_test = pd.DataFrame(dict(\n",
    "    cell_id=train_adata.obs.iloc[test_idxs].index.values,\n",
    "    y_true=y_test, \n",
    "    y_true_code=y_test_enc, \n",
    "    y_pred=xgb.predict(X_test))).set_index('cell_id')"
   ]
  },
  {
   "cell_type": "code",
   "execution_count": 24,
   "id": "b091f436",
   "metadata": {
    "execution": {
     "iopub.execute_input": "2025-06-13T13:10:23.330564Z",
     "iopub.status.busy": "2025-06-13T13:10:23.330322Z",
     "iopub.status.idle": "2025-06-13T13:10:23.339803Z",
     "shell.execute_reply": "2025-06-13T13:10:23.339417Z"
    },
    "papermill": {
     "duration": 0.019317,
     "end_time": "2025-06-13T13:10:23.340585",
     "exception": false,
     "start_time": "2025-06-13T13:10:23.321268",
     "status": "completed"
    },
    "tags": []
   },
   "outputs": [],
   "source": [
    "out_dir = here(f'03_downstream_analysis/08_gene_importance/xgboost_external_validation/xgboost_TopN_genes/results_{N_GENES}/predictions')\n",
    "\n",
    "if not os.path.exists(out_dir):\n",
    "    os.makedirs(out_dir)\n",
    "    \n",
    "df_pred_test.to_csv(os.path.join(out_dir, f'{CELL_TYPE}_{SEED}_{TEST_SPLIT_IDX}_pred_test.zip'))"
   ]
  },
  {
   "cell_type": "code",
   "execution_count": 25,
   "id": "0d74dce1",
   "metadata": {
    "execution": {
     "iopub.execute_input": "2025-06-13T13:10:23.358719Z",
     "iopub.status.busy": "2025-06-13T13:10:23.358329Z",
     "iopub.status.idle": "2025-06-13T13:10:23.363450Z",
     "shell.execute_reply": "2025-06-13T13:10:23.363139Z"
    },
    "papermill": {
     "duration": 0.014751,
     "end_time": "2025-06-13T13:10:23.364204",
     "exception": false,
     "start_time": "2025-06-13T13:10:23.349453",
     "status": "completed"
    },
    "tags": []
   },
   "outputs": [],
   "source": [
    "metrics_dict = dict(\n",
    "    BAS=balanced_accuracy_score(y_true=df_pred_test.y_true_code, y_pred=df_pred_test.y_pred), WF1=f1_score(y_true=df_pred_test.y_true_code, y_pred=df_pred_test.y_pred,average='weighted'))"
   ]
  },
  {
   "cell_type": "code",
   "execution_count": 26,
   "id": "555823fc",
   "metadata": {
    "execution": {
     "iopub.execute_input": "2025-06-13T13:10:23.382872Z",
     "iopub.status.busy": "2025-06-13T13:10:23.382739Z",
     "iopub.status.idle": "2025-06-13T13:10:23.385356Z",
     "shell.execute_reply": "2025-06-13T13:10:23.385068Z"
    },
    "papermill": {
     "duration": 0.013135,
     "end_time": "2025-06-13T13:10:23.386112",
     "exception": false,
     "start_time": "2025-06-13T13:10:23.372977",
     "status": "completed"
    },
    "tags": []
   },
   "outputs": [
    {
     "data": {
      "text/plain": [
       "{'BAS': 0.3427376136934961, 'WF1': 0.5552166312126962}"
      ]
     },
     "execution_count": 26,
     "metadata": {},
     "output_type": "execute_result"
    }
   ],
   "source": [
    "metrics_dict"
   ]
  },
  {
   "cell_type": "code",
   "execution_count": 27,
   "id": "bffe0deb",
   "metadata": {
    "execution": {
     "iopub.execute_input": "2025-06-13T13:10:23.403936Z",
     "iopub.status.busy": "2025-06-13T13:10:23.403654Z",
     "iopub.status.idle": "2025-06-13T13:10:23.411369Z",
     "shell.execute_reply": "2025-06-13T13:10:23.411058Z"
    },
    "papermill": {
     "duration": 0.017585,
     "end_time": "2025-06-13T13:10:23.412148",
     "exception": false,
     "start_time": "2025-06-13T13:10:23.394563",
     "status": "completed"
    },
    "tags": []
   },
   "outputs": [
    {
     "data": {
      "text/html": [
       "<div>\n",
       "<style scoped>\n",
       "    .dataframe tbody tr th:only-of-type {\n",
       "        vertical-align: middle;\n",
       "    }\n",
       "\n",
       "    .dataframe tbody tr th {\n",
       "        vertical-align: top;\n",
       "    }\n",
       "\n",
       "    .dataframe thead th {\n",
       "        text-align: right;\n",
       "    }\n",
       "</style>\n",
       "<table border=\"1\" class=\"dataframe\">\n",
       "  <thead>\n",
       "    <tr style=\"text-align: right;\">\n",
       "      <th></th>\n",
       "      <th>BAS</th>\n",
       "      <th>WF1</th>\n",
       "      <th>split_idx</th>\n",
       "      <th>gene_set_seed</th>\n",
       "      <th>cell_type</th>\n",
       "    </tr>\n",
       "  </thead>\n",
       "  <tbody>\n",
       "    <tr>\n",
       "      <th>0</th>\n",
       "      <td>0.342738</td>\n",
       "      <td>0.555217</td>\n",
       "      <td>1</td>\n",
       "      <td>shap_studyID_NOdisease_samesize</td>\n",
       "      <td>Plasma</td>\n",
       "    </tr>\n",
       "  </tbody>\n",
       "</table>\n",
       "</div>"
      ],
      "text/plain": [
       "        BAS       WF1  split_idx                    gene_set_seed cell_type\n",
       "0  0.342738  0.555217          1  shap_studyID_NOdisease_samesize    Plasma"
      ]
     },
     "execution_count": 27,
     "metadata": {},
     "output_type": "execute_result"
    }
   ],
   "source": [
    "metrics_df = pd.DataFrame.from_dict([metrics_dict]).assign(split_idx=TEST_SPLIT_IDX, gene_set_seed=SEED, cell_type=CELL_TYPE)\n",
    "metrics_df"
   ]
  },
  {
   "cell_type": "code",
   "execution_count": 28,
   "id": "e3cf2577",
   "metadata": {
    "execution": {
     "iopub.execute_input": "2025-06-13T13:10:23.429940Z",
     "iopub.status.busy": "2025-06-13T13:10:23.429772Z",
     "iopub.status.idle": "2025-06-13T13:10:23.436573Z",
     "shell.execute_reply": "2025-06-13T13:10:23.436249Z"
    },
    "papermill": {
     "duration": 0.016603,
     "end_time": "2025-06-13T13:10:23.437334",
     "exception": false,
     "start_time": "2025-06-13T13:10:23.420731",
     "status": "completed"
    },
    "tags": []
   },
   "outputs": [],
   "source": [
    "out_dir = here(f'03_downstream_analysis/08_gene_importance/xgboost_external_validation/xgboost_TopN_genes/results_{N_GENES}/metrics')\n",
    "\n",
    "if not os.path.exists(out_dir):\n",
    "    os.makedirs(out_dir)\n",
    "    \n",
    "metrics_df.to_csv(os.path.join(out_dir, f'{CELL_TYPE}_{SEED}_{TEST_SPLIT_IDX}_metrics.zip'))"
   ]
  }
 ],
 "metadata": {
  "kernelspec": {
   "display_name": "Python 3 (ipykernel)",
   "language": "python",
   "name": "python3"
  },
  "language_info": {
   "codemirror_mode": {
    "name": "ipython",
    "version": 3
   },
   "file_extension": ".py",
   "mimetype": "text/x-python",
   "name": "python",
   "nbconvert_exporter": "python",
   "pygments_lexer": "ipython3",
   "version": "3.12.5"
  },
  "papermill": {
   "default_parameters": {},
   "duration": 13.676153,
   "end_time": "2025-06-13T13:10:23.963827",
   "environment_variables": {},
   "exception": null,
   "input_path": "02_xgboost_fitting_external_20genes.ipynb",
   "output_path": "results_20/executed_notebooks/xgboost_fitting_external_CT_Plasma_GS_shap_studyID_NOdisease_samesize_seed1.ipynb",
   "parameters": {
    "CELL_TYPE": "Plasma",
    "SEED": "shap_studyID_NOdisease_samesize",
    "TEST_SPLIT_IDX": 1
   },
   "start_time": "2025-06-13T13:10:10.287674",
   "version": "2.6.0"
  }
 },
 "nbformat": 4,
 "nbformat_minor": 5
}