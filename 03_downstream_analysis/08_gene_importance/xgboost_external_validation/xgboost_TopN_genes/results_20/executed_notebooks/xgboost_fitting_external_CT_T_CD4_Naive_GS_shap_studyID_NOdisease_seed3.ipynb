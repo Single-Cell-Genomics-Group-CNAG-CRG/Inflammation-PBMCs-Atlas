{
 "cells": [
  {
   "cell_type": "code",
   "execution_count": 1,
   "id": "0d25d37a",
   "metadata": {
    "editable": true,
    "execution": {
     "iopub.execute_input": "2025-05-14T16:07:44.356996Z",
     "iopub.status.busy": "2025-05-14T16:07:44.356812Z",
     "iopub.status.idle": "2025-05-14T16:07:44.359516Z",
     "shell.execute_reply": "2025-05-14T16:07:44.359221Z"
    },
    "papermill": {
     "duration": 0.010001,
     "end_time": "2025-05-14T16:07:44.360364",
     "exception": false,
     "start_time": "2025-05-14T16:07:44.350363",
     "status": "completed"
    },
    "slideshow": {
     "slide_type": ""
    },
    "tags": [
     "parameters"
    ]
   },
   "outputs": [],
   "source": [
    "CELL_TYPE = 'pDC'\n",
    "N_GENES: int = 20\n",
    "SEED = 'shap_studyID' #'disease_NOstudy' 'study_NOdisease' or 'int' or 'shap_studyID'\n",
    "TEST_SPLIT_IDX: int = 1 #[0,4]"
   ]
  },
  {
   "cell_type": "code",
   "execution_count": 2,
   "id": "63536e61",
   "metadata": {
    "execution": {
     "iopub.execute_input": "2025-05-14T16:07:44.371235Z",
     "iopub.status.busy": "2025-05-14T16:07:44.371050Z",
     "iopub.status.idle": "2025-05-14T16:07:44.373222Z",
     "shell.execute_reply": "2025-05-14T16:07:44.372935Z"
    },
    "papermill": {
     "duration": 0.008412,
     "end_time": "2025-05-14T16:07:44.373983",
     "exception": false,
     "start_time": "2025-05-14T16:07:44.365571",
     "status": "completed"
    },
    "tags": [
     "injected-parameters"
    ]
   },
   "outputs": [],
   "source": [
    "# Parameters\n",
    "CELL_TYPE = \"T_CD4_Naive\"\n",
    "SEED = \"shap_studyID_NOdisease\"\n",
    "TEST_SPLIT_IDX = 3\n"
   ]
  },
  {
   "cell_type": "code",
   "execution_count": 3,
   "id": "85dc6584",
   "metadata": {
    "execution": {
     "iopub.execute_input": "2025-05-14T16:07:44.384643Z",
     "iopub.status.busy": "2025-05-14T16:07:44.384364Z",
     "iopub.status.idle": "2025-05-14T16:07:44.386478Z",
     "shell.execute_reply": "2025-05-14T16:07:44.386194Z"
    },
    "papermill": {
     "duration": 0.008385,
     "end_time": "2025-05-14T16:07:44.387225",
     "exception": false,
     "start_time": "2025-05-14T16:07:44.378840",
     "status": "completed"
    },
    "tags": []
   },
   "outputs": [],
   "source": [
    "N_SPLITS: int = 5\n",
    "N_TRIALS: int = 50"
   ]
  },
  {
   "cell_type": "code",
   "execution_count": 4,
   "id": "11cfdc8d",
   "metadata": {
    "execution": {
     "iopub.execute_input": "2025-05-14T16:07:44.398769Z",
     "iopub.status.busy": "2025-05-14T16:07:44.398508Z",
     "iopub.status.idle": "2025-05-14T16:07:46.940039Z",
     "shell.execute_reply": "2025-05-14T16:07:46.939413Z"
    },
    "papermill": {
     "duration": 2.54913,
     "end_time": "2025-05-14T16:07:46.941255",
     "exception": false,
     "start_time": "2025-05-14T16:07:44.392125",
     "status": "completed"
    },
    "tags": []
   },
   "outputs": [],
   "source": [
    "import os\n",
    "import sys\n",
    "from pyprojroot.here import here\n",
    "import pandas as pd\n",
    "import anndata as ad\n",
    "import numpy as np\n",
    "import math\n",
    "from sklearn.model_selection import StratifiedGroupKFold\n",
    "from sklearn.preprocessing import LabelEncoder\n",
    "from sklearn.metrics import f1_score\n",
    "import matplotlib.pyplot as plt\n",
    "import seaborn as sns\n",
    "from itertools import product\n",
    "from sklearn.metrics import balanced_accuracy_score, f1_score\n",
    "import optuna\n",
    "\n",
    "import joblib\n",
    "import pickle\n",
    "import datetime\n",
    "\n",
    "import collections\n",
    "\n",
    "import xgboost\n",
    "from sklearn.preprocessing import LabelEncoder\n",
    "\n",
    "import scipy.sparse as ssp\n",
    "import joblib\n",
    "\n",
    "from dotenv import load_dotenv"
   ]
  },
  {
   "cell_type": "code",
   "execution_count": 5,
   "id": "074f9494",
   "metadata": {
    "execution": {
     "iopub.execute_input": "2025-05-14T16:07:46.963532Z",
     "iopub.status.busy": "2025-05-14T16:07:46.963153Z",
     "iopub.status.idle": "2025-05-14T16:07:46.968823Z",
     "shell.execute_reply": "2025-05-14T16:07:46.968530Z"
    },
    "papermill": {
     "duration": 0.021381,
     "end_time": "2025-05-14T16:07:46.969611",
     "exception": false,
     "start_time": "2025-05-14T16:07:46.948230",
     "status": "completed"
    },
    "tags": []
   },
   "outputs": [
    {
     "data": {
      "text/plain": [
       "True"
      ]
     },
     "execution_count": 5,
     "metadata": {},
     "output_type": "execute_result"
    }
   ],
   "source": [
    "load_dotenv()"
   ]
  },
  {
   "cell_type": "markdown",
   "id": "429c8224",
   "metadata": {
    "papermill": {
     "duration": 0.005293,
     "end_time": "2025-05-14T16:07:46.980872",
     "exception": false,
     "start_time": "2025-05-14T16:07:46.975579",
     "status": "completed"
    },
    "tags": []
   },
   "source": [
    "# LOAD DATASET"
   ]
  },
  {
   "cell_type": "code",
   "execution_count": 6,
   "id": "f2906ba4",
   "metadata": {
    "execution": {
     "iopub.execute_input": "2025-05-14T16:07:46.992193Z",
     "iopub.status.busy": "2025-05-14T16:07:46.991827Z",
     "iopub.status.idle": "2025-05-14T16:07:47.565954Z",
     "shell.execute_reply": "2025-05-14T16:07:47.565454Z"
    },
    "papermill": {
     "duration": 0.580792,
     "end_time": "2025-05-14T16:07:47.567070",
     "exception": false,
     "start_time": "2025-05-14T16:07:46.986278",
     "status": "completed"
    },
    "tags": []
   },
   "outputs": [],
   "source": [
    "train_adata = ad.read_h5ad(\n",
    "    here(f'03_downstream_analysis/08_gene_importance/xgboost_external_validation/xgboost_TopN_genes/data_cellTypes/EXTERNAL_{CELL_TYPE}.filtered.log1p.h5ad')\n",
    ")"
   ]
  },
  {
   "cell_type": "code",
   "execution_count": 7,
   "id": "acf7a4a8",
   "metadata": {
    "execution": {
     "iopub.execute_input": "2025-05-14T16:07:47.578413Z",
     "iopub.status.busy": "2025-05-14T16:07:47.578229Z",
     "iopub.status.idle": "2025-05-14T16:07:47.606208Z",
     "shell.execute_reply": "2025-05-14T16:07:47.605896Z"
    },
    "papermill": {
     "duration": 0.034693,
     "end_time": "2025-05-14T16:07:47.606986",
     "exception": false,
     "start_time": "2025-05-14T16:07:47.572293",
     "status": "completed"
    },
    "tags": []
   },
   "outputs": [
    {
     "name": "stdout",
     "output_type": "stream",
     "text": [
      "['ENSG00000002586' 'ENSG00000005339' 'ENSG00000011600' 'ENSG00000015475'\n",
      " 'ENSG00000019582' 'ENSG00000030582' 'ENSG00000035115' 'ENSG00000042753'\n",
      " 'ENSG00000051108' 'ENSG00000051523' 'ENSG00000057657' 'ENSG00000065978'\n",
      " 'ENSG00000066294' 'ENSG00000068796' 'ENSG00000068831' 'ENSG00000077150'\n",
      " 'ENSG00000077238' 'ENSG00000082074' 'ENSG00000089280' 'ENSG00000090382'\n",
      " 'ENSG00000099204' 'ENSG00000100300' 'ENSG00000100393' 'ENSG00000100911'\n",
      " 'ENSG00000103187' 'ENSG00000103490' 'ENSG00000104763' 'ENSG00000104894'\n",
      " 'ENSG00000104904' 'ENSG00000104964' 'ENSG00000105583' 'ENSG00000105835'\n",
      " 'ENSG00000106605' 'ENSG00000108561' 'ENSG00000110395' 'ENSG00000111348'\n",
      " 'ENSG00000111640' 'ENSG00000111678' 'ENSG00000111716' 'ENSG00000114861'\n",
      " 'ENSG00000115073' 'ENSG00000117020' 'ENSG00000117318' 'ENSG00000117602'\n",
      " 'ENSG00000118260' 'ENSG00000118640' 'ENSG00000118971' 'ENSG00000120129'\n",
      " 'ENSG00000120742' 'ENSG00000122862' 'ENSG00000126264' 'ENSG00000126267'\n",
      " 'ENSG00000126353' 'ENSG00000127184' 'ENSG00000127314' 'ENSG00000127528'\n",
      " 'ENSG00000130066' 'ENSG00000130429' 'ENSG00000130724' 'ENSG00000130755'\n",
      " 'ENSG00000132510' 'ENSG00000133639' 'ENSG00000134352' 'ENSG00000135441'\n",
      " 'ENSG00000135720' 'ENSG00000136003' 'ENSG00000136156' 'ENSG00000136732'\n",
      " 'ENSG00000137100' 'ENSG00000138107' 'ENSG00000138674' 'ENSG00000139193'\n",
      " 'ENSG00000139626' 'ENSG00000140264' 'ENSG00000141367' 'ENSG00000143543'\n",
      " 'ENSG00000143575' 'ENSG00000143924' 'ENSG00000145912' 'ENSG00000146278'\n",
      " 'ENSG00000149357' 'ENSG00000151882' 'ENSG00000154814' 'ENSG00000155368'\n",
      " 'ENSG00000157020' 'ENSG00000157873' 'ENSG00000158869' 'ENSG00000160075'\n",
      " 'ENSG00000160255' 'ENSG00000160710' 'ENSG00000163131' 'ENSG00000163191'\n",
      " 'ENSG00000163513' 'ENSG00000163600' 'ENSG00000163931' 'ENSG00000164104'\n",
      " 'ENSG00000164543' 'ENSG00000165732' 'ENSG00000166681' 'ENSG00000166710'\n",
      " 'ENSG00000166747' 'ENSG00000166888' 'ENSG00000167283' 'ENSG00000167996'\n",
      " 'ENSG00000168610' 'ENSG00000169429' 'ENSG00000170345' 'ENSG00000171608'\n",
      " 'ENSG00000171700' 'ENSG00000173812' 'ENSG00000175203' 'ENSG00000175354'\n",
      " 'ENSG00000175390' 'ENSG00000175482' 'ENSG00000177663' 'ENSG00000177885'\n",
      " 'ENSG00000179094' 'ENSG00000179295' 'ENSG00000183020' 'ENSG00000183172'\n",
      " 'ENSG00000183486' 'ENSG00000185201' 'ENSG00000185338' 'ENSG00000185885'\n",
      " 'ENSG00000186010' 'ENSG00000186395' 'ENSG00000187608' 'ENSG00000188404'\n",
      " 'ENSG00000189067' 'ENSG00000189283' 'ENSG00000197747' 'ENSG00000198355'\n",
      " 'ENSG00000204264' 'ENSG00000204267' 'ENSG00000204592' 'ENSG00000204843'\n",
      " 'ENSG00000213928' 'ENSG00000216490' 'ENSG00000223865' 'ENSG00000231389'\n",
      " 'ENSG00000241837' 'ENSG00000242616' 'ENSG00000243678' 'ENSG00000258315']\n"
     ]
    }
   ],
   "source": [
    "if SEED != 'all':\n",
    "    gene_subset = np.load(here(f'03_downstream_analysis/08_gene_importance/xgboost_external_validation/shap_gene_selection/gene_subsets_{N_GENES}/{CELL_TYPE}_{SEED}.npy'), allow_pickle=True)\n",
    "    train_adata = train_adata[:,gene_subset]\n",
    "    print(gene_subset)\n",
    "elif SEED == 'all':\n",
    "    print('Using all genes')\n",
    "else:\n",
    "    raise ValueError()"
   ]
  },
  {
   "cell_type": "code",
   "execution_count": 8,
   "id": "6ce72f42",
   "metadata": {
    "execution": {
     "iopub.execute_input": "2025-05-14T16:07:47.619476Z",
     "iopub.status.busy": "2025-05-14T16:07:47.619125Z",
     "iopub.status.idle": "2025-05-14T16:07:47.622201Z",
     "shell.execute_reply": "2025-05-14T16:07:47.621916Z"
    },
    "papermill": {
     "duration": 0.010355,
     "end_time": "2025-05-14T16:07:47.622972",
     "exception": false,
     "start_time": "2025-05-14T16:07:47.612617",
     "status": "completed"
    },
    "tags": []
   },
   "outputs": [
    {
     "data": {
      "text/plain": [
       "(85497, 144)"
      ]
     },
     "execution_count": 8,
     "metadata": {},
     "output_type": "execute_result"
    }
   ],
   "source": [
    "train_adata.shape"
   ]
  },
  {
   "cell_type": "code",
   "execution_count": 9,
   "id": "71b6ef8a",
   "metadata": {
    "execution": {
     "iopub.execute_input": "2025-05-14T16:07:47.635706Z",
     "iopub.status.busy": "2025-05-14T16:07:47.635499Z",
     "iopub.status.idle": "2025-05-14T16:07:47.638986Z",
     "shell.execute_reply": "2025-05-14T16:07:47.638705Z"
    },
    "papermill": {
     "duration": 0.010984,
     "end_time": "2025-05-14T16:07:47.639759",
     "exception": false,
     "start_time": "2025-05-14T16:07:47.628775",
     "status": "completed"
    },
    "tags": []
   },
   "outputs": [
    {
     "data": {
      "text/plain": [
       "['RA', 'COVID', 'healthy', 'HIV', 'cirrhosis', 'CD', 'SLE', 'sepsis']\n",
       "Categories (8, object): ['CD', 'COVID', 'HIV', 'RA', 'SLE', 'cirrhosis', 'healthy', 'sepsis']"
      ]
     },
     "execution_count": 9,
     "metadata": {},
     "output_type": "execute_result"
    }
   ],
   "source": [
    "train_adata.obs.disease.unique()"
   ]
  },
  {
   "cell_type": "code",
   "execution_count": 10,
   "id": "e96bc18b",
   "metadata": {
    "execution": {
     "iopub.execute_input": "2025-05-14T16:07:47.650799Z",
     "iopub.status.busy": "2025-05-14T16:07:47.650635Z",
     "iopub.status.idle": "2025-05-14T16:07:47.654007Z",
     "shell.execute_reply": "2025-05-14T16:07:47.653719Z"
    },
    "papermill": {
     "duration": 0.009924,
     "end_time": "2025-05-14T16:07:47.654806",
     "exception": false,
     "start_time": "2025-05-14T16:07:47.644882",
     "status": "completed"
    },
    "tags": []
   },
   "outputs": [
    {
     "data": {
      "text/plain": [
       "['SCGT00val_I036016_T0', 'SCGT00val_I036019_T0', 'SCGT00val_I036023_T0', 'SCGT00val_I036015_T0', 'SCGT00val_I036028_T0', ..., '10XGenomics_10XHC2_T0', '10XGenomics_10XHC3_T0', '10XGenomics_10XHC5_T0', '10XGenomics_10XHC7_T0', '10XGenomics_10XHC8_T0']\n",
       "Length: 86\n",
       "Categories (86, object): ['10XGenomics_10XHC1_T0', '10XGenomics_10XHC2_T0', '10XGenomics_10XHC3_T0', '10XGenomics_10XHC4_T0', ..., 'Savage2021_BRISL6_T0', 'Savage2021_BRISL7_T0', 'Savage2021_PIDA_T0', 'Savage2021_PIDB_T0']"
      ]
     },
     "execution_count": 10,
     "metadata": {},
     "output_type": "execute_result"
    }
   ],
   "source": [
    "train_adata.obs.sampleID.unique()"
   ]
  },
  {
   "cell_type": "code",
   "execution_count": 11,
   "id": "435435d7",
   "metadata": {
    "execution": {
     "iopub.execute_input": "2025-05-14T16:07:47.666239Z",
     "iopub.status.busy": "2025-05-14T16:07:47.665903Z",
     "iopub.status.idle": "2025-05-14T16:07:47.872918Z",
     "shell.execute_reply": "2025-05-14T16:07:47.872518Z"
    },
    "papermill": {
     "duration": 0.215798,
     "end_time": "2025-05-14T16:07:47.875893",
     "exception": false,
     "start_time": "2025-05-14T16:07:47.660095",
     "status": "completed"
    },
    "tags": []
   },
   "outputs": [],
   "source": [
    "all_idxs = np.arange(train_adata.obs.shape[0])\n",
    "left_out_splits = [s[1] for s in StratifiedGroupKFold(n_splits=N_SPLITS).split(all_idxs, train_adata.obs.disease, train_adata.obs.sampleID)]"
   ]
  },
  {
   "cell_type": "code",
   "execution_count": 12,
   "id": "1aaaf457",
   "metadata": {
    "execution": {
     "iopub.execute_input": "2025-05-14T16:07:47.888170Z",
     "iopub.status.busy": "2025-05-14T16:07:47.887749Z",
     "iopub.status.idle": "2025-05-14T16:07:47.891018Z",
     "shell.execute_reply": "2025-05-14T16:07:47.890733Z"
    },
    "papermill": {
     "duration": 0.010385,
     "end_time": "2025-05-14T16:07:47.891840",
     "exception": false,
     "start_time": "2025-05-14T16:07:47.881455",
     "status": "completed"
    },
    "tags": []
   },
   "outputs": [
    {
     "data": {
      "text/plain": [
       "([0, 1, 2], 4, 3)"
      ]
     },
     "execution_count": 12,
     "metadata": {},
     "output_type": "execute_result"
    }
   ],
   "source": [
    "TRAIN_SPLIT_IDXS = [0,1,2,3,4]\n",
    "VAL_SPLIT_IDX = (TEST_SPLIT_IDX + 1) % 5\n",
    "TRAIN_SPLIT_IDXS.remove(TEST_SPLIT_IDX)\n",
    "TRAIN_SPLIT_IDXS.remove(VAL_SPLIT_IDX)\n",
    "TRAIN_SPLIT_IDXS, VAL_SPLIT_IDX, TEST_SPLIT_IDX"
   ]
  },
  {
   "cell_type": "code",
   "execution_count": 13,
   "id": "0e788d65",
   "metadata": {
    "execution": {
     "iopub.execute_input": "2025-05-14T16:07:47.903148Z",
     "iopub.status.busy": "2025-05-14T16:07:47.902981Z",
     "iopub.status.idle": "2025-05-14T16:07:47.905323Z",
     "shell.execute_reply": "2025-05-14T16:07:47.905034Z"
    },
    "papermill": {
     "duration": 0.00878,
     "end_time": "2025-05-14T16:07:47.906064",
     "exception": false,
     "start_time": "2025-05-14T16:07:47.897284",
     "status": "completed"
    },
    "tags": []
   },
   "outputs": [],
   "source": [
    "train_idxs = np.concatenate([left_out_splits[idx] for idx in TRAIN_SPLIT_IDXS])\n",
    "val_idxs = left_out_splits[VAL_SPLIT_IDX]\n",
    "test_idxs = left_out_splits[TEST_SPLIT_IDX]"
   ]
  },
  {
   "cell_type": "markdown",
   "id": "94f13880",
   "metadata": {
    "papermill": {
     "duration": 0.005408,
     "end_time": "2025-05-14T16:07:47.921551",
     "exception": false,
     "start_time": "2025-05-14T16:07:47.916143",
     "status": "completed"
    },
    "tags": []
   },
   "source": [
    "### SUBSET DATASET INTO TRAIN/TEST/VAL SPLITS"
   ]
  },
  {
   "cell_type": "code",
   "execution_count": 14,
   "id": "0e939567",
   "metadata": {
    "execution": {
     "iopub.execute_input": "2025-05-14T16:07:47.940086Z",
     "iopub.status.busy": "2025-05-14T16:07:47.939954Z",
     "iopub.status.idle": "2025-05-14T16:07:48.171472Z",
     "shell.execute_reply": "2025-05-14T16:07:48.171134Z"
    },
    "papermill": {
     "duration": 0.238469,
     "end_time": "2025-05-14T16:07:48.172272",
     "exception": false,
     "start_time": "2025-05-14T16:07:47.933803",
     "status": "completed"
    },
    "tags": []
   },
   "outputs": [
    {
     "data": {
      "text/plain": [
       "((50067, 144), (18551, 144), (16879, 144))"
      ]
     },
     "execution_count": 14,
     "metadata": {},
     "output_type": "execute_result"
    }
   ],
   "source": [
    "X_train = train_adata.X[train_idxs]\n",
    "X_test = train_adata.X[test_idxs]\n",
    "X_val = train_adata.X[val_idxs]\n",
    "X_train.shape, X_test.shape, X_val.shape"
   ]
  },
  {
   "cell_type": "code",
   "execution_count": 15,
   "id": "3b327ca1",
   "metadata": {
    "execution": {
     "iopub.execute_input": "2025-05-14T16:07:48.184020Z",
     "iopub.status.busy": "2025-05-14T16:07:48.183845Z",
     "iopub.status.idle": "2025-05-14T16:07:48.193547Z",
     "shell.execute_reply": "2025-05-14T16:07:48.193200Z"
    },
    "papermill": {
     "duration": 0.016454,
     "end_time": "2025-05-14T16:07:48.194310",
     "exception": false,
     "start_time": "2025-05-14T16:07:48.177856",
     "status": "completed"
    },
    "tags": []
   },
   "outputs": [
    {
     "data": {
      "text/plain": [
       "((50067,), (18551,), (16879,))"
      ]
     },
     "execution_count": 15,
     "metadata": {},
     "output_type": "execute_result"
    }
   ],
   "source": [
    "y_train = train_adata.obs.iloc[train_idxs].disease.values.astype(str)\n",
    "y_test = train_adata.obs.iloc[test_idxs].disease.values.astype(str)\n",
    "y_val = train_adata.obs.iloc[val_idxs].disease.values.astype(str)\n",
    "y_train.shape, y_test.shape, y_val.shape"
   ]
  },
  {
   "cell_type": "code",
   "execution_count": 16,
   "id": "1ca3336e",
   "metadata": {
    "execution": {
     "iopub.execute_input": "2025-05-14T16:07:48.207215Z",
     "iopub.status.busy": "2025-05-14T16:07:48.206981Z",
     "iopub.status.idle": "2025-05-14T16:07:48.225961Z",
     "shell.execute_reply": "2025-05-14T16:07:48.225563Z"
    },
    "papermill": {
     "duration": 0.026998,
     "end_time": "2025-05-14T16:07:48.226764",
     "exception": false,
     "start_time": "2025-05-14T16:07:48.199766",
     "status": "completed"
    },
    "tags": []
   },
   "outputs": [],
   "source": [
    "lenc = LabelEncoder()\n",
    "y_train_enc = lenc.fit_transform(y_train)\n",
    "y_val_enc = lenc.transform(y_val)\n",
    "y_test_enc = lenc.transform(y_test)"
   ]
  },
  {
   "cell_type": "markdown",
   "id": "1f5a822f",
   "metadata": {
    "papermill": {
     "duration": 0.006547,
     "end_time": "2025-05-14T16:07:48.239132",
     "exception": false,
     "start_time": "2025-05-14T16:07:48.232585",
     "status": "completed"
    },
    "tags": []
   },
   "source": [
    "### GENERATE F1 "
   ]
  },
  {
   "cell_type": "code",
   "execution_count": 17,
   "id": "f9b6cdf2",
   "metadata": {
    "execution": {
     "iopub.execute_input": "2025-05-14T16:07:48.252703Z",
     "iopub.status.busy": "2025-05-14T16:07:48.252217Z",
     "iopub.status.idle": "2025-05-14T16:07:48.254662Z",
     "shell.execute_reply": "2025-05-14T16:07:48.254358Z"
    },
    "papermill": {
     "duration": 0.009987,
     "end_time": "2025-05-14T16:07:48.255397",
     "exception": false,
     "start_time": "2025-05-14T16:07:48.245410",
     "status": "completed"
    },
    "tags": []
   },
   "outputs": [],
   "source": [
    "def custom_f1_score(y_true, y_pred):\n",
    "    return -f1_score(y_true, y_pred.argmax(1), average='weighted')"
   ]
  },
  {
   "cell_type": "code",
   "execution_count": 18,
   "id": "8e6a1f62",
   "metadata": {
    "execution": {
     "iopub.execute_input": "2025-05-14T16:07:48.269374Z",
     "iopub.status.busy": "2025-05-14T16:07:48.269212Z",
     "iopub.status.idle": "2025-05-14T16:07:48.272786Z",
     "shell.execute_reply": "2025-05-14T16:07:48.272401Z"
    },
    "papermill": {
     "duration": 0.011599,
     "end_time": "2025-05-14T16:07:48.273537",
     "exception": false,
     "start_time": "2025-05-14T16:07:48.261938",
     "status": "completed"
    },
    "tags": []
   },
   "outputs": [],
   "source": [
    "eval_metric=custom_f1_score\n",
    "eval_metric_name='custom_f1_score'\n",
    "\n",
    "def objective(trial):\n",
    "    params = {\n",
    "        'n_estimators': 1500,\n",
    "        'max_depth': trial.suggest_int('max_depth', 3, 20),\n",
    "        'min_child_weight': trial.suggest_int('min_child_weight', 1, 250),\n",
    "        'subsample': trial.suggest_float('subsample', 0.1, 1.0),\n",
    "        'colsample_bynode': trial.suggest_float('colsample_bynode', 0.1, 1.0),\n",
    "        'learning_rate': trial.suggest_float('learning_rate', 1e-3, 5e-1, log=True),\n",
    "    }\n",
    "    pruning_callback = optuna.integration.XGBoostPruningCallback(trial, f'validation_0-{eval_metric_name}')\n",
    "    es_callback = xgboost.callback.EarlyStopping(20, min_delta=0.001)\n",
    "    xgb = xgboost.XGBClassifier(\n",
    "        eval_metric=eval_metric,\n",
    "        callbacks=[pruning_callback, es_callback],\n",
    "        n_jobs=5,\n",
    "        **params\n",
    "    )\n",
    "    xgb.fit(\n",
    "        X_train, \n",
    "        y_train_enc, \n",
    "        verbose=0,\n",
    "        eval_set=[(X_val, y_val_enc)],\n",
    "    )\n",
    "    trial.set_user_attr('best_iteration', xgb.best_iteration)\n",
    "\n",
    "    return xgb.best_score"
   ]
  },
  {
   "cell_type": "code",
   "execution_count": 19,
   "id": "3c505228",
   "metadata": {
    "execution": {
     "iopub.execute_input": "2025-05-14T16:07:48.287051Z",
     "iopub.status.busy": "2025-05-14T16:07:48.286873Z",
     "iopub.status.idle": "2025-05-14T16:16:21.897425Z",
     "shell.execute_reply": "2025-05-14T16:16:21.896943Z"
    },
    "papermill": {
     "duration": 513.618448,
     "end_time": "2025-05-14T16:16:21.898480",
     "exception": false,
     "start_time": "2025-05-14T16:07:48.280032",
     "status": "completed"
    },
    "scrolled": true,
    "tags": []
   },
   "outputs": [
    {
     "name": "stderr",
     "output_type": "stream",
     "text": [
      "[I 2025-05-14 18:07:48,288] A new study created in memory with name: no-name-3aafa2ea-d052-4631-b437-438b626d54f6\n"
     ]
    },
    {
     "name": "stderr",
     "output_type": "stream",
     "text": [
      "[I 2025-05-14 18:07:53,279] Trial 0 finished with value: -0.65879 and parameters: {'max_depth': 9, 'min_child_weight': 238, 'subsample': 0.7587945476302645, 'colsample_bynode': 0.6387926357773329, 'learning_rate': 0.0026368755339723046}. Best is trial 0 with value: -0.65879.\n"
     ]
    },
    {
     "name": "stderr",
     "output_type": "stream",
     "text": [
      "[I 2025-05-14 18:08:25,395] Trial 1 finished with value: -0.745722 and parameters: {'max_depth': 5, 'min_child_weight': 15, 'subsample': 0.8795585311974417, 'colsample_bynode': 0.6410035105688879, 'learning_rate': 0.08148293210105287}. Best is trial 1 with value: -0.745722.\n"
     ]
    },
    {
     "name": "stderr",
     "output_type": "stream",
     "text": [
      "[I 2025-05-14 18:08:32,615] Trial 2 finished with value: -0.644797 and parameters: {'max_depth': 3, 'min_child_weight': 243, 'subsample': 0.8491983767203796, 'colsample_bynode': 0.29110519961044856, 'learning_rate': 0.003095566460242371}. Best is trial 1 with value: -0.745722.\n"
     ]
    },
    {
     "name": "stderr",
     "output_type": "stream",
     "text": [
      "[I 2025-05-14 18:08:38,906] Trial 3 finished with value: -0.682234 and parameters: {'max_depth': 6, 'min_child_weight': 77, 'subsample': 0.5722807884690141, 'colsample_bynode': 0.48875051677790415, 'learning_rate': 0.006109683510122491}. Best is trial 1 with value: -0.745722.\n"
     ]
    },
    {
     "name": "stderr",
     "output_type": "stream",
     "text": [
      "[I 2025-05-14 18:10:10,019] Trial 4 finished with value: -0.740899 and parameters: {'max_depth': 14, 'min_child_weight': 35, 'subsample': 0.3629301836816964, 'colsample_bynode': 0.4297256589643226, 'learning_rate': 0.01701841881702917}. Best is trial 1 with value: -0.745722.\n"
     ]
    },
    {
     "name": "stderr",
     "output_type": "stream",
     "text": [
      "[I 2025-05-14 18:10:16,665] Trial 5 pruned. Trial was pruned at iteration 22.\n"
     ]
    },
    {
     "name": "stderr",
     "output_type": "stream",
     "text": [
      "[I 2025-05-14 18:10:17,162] Trial 6 pruned. Trial was pruned at iteration 0.\n"
     ]
    },
    {
     "name": "stderr",
     "output_type": "stream",
     "text": [
      "[I 2025-05-14 18:10:17,628] Trial 7 pruned. Trial was pruned at iteration 0.\n"
     ]
    },
    {
     "name": "stderr",
     "output_type": "stream",
     "text": [
      "[I 2025-05-14 18:10:18,085] Trial 8 pruned. Trial was pruned at iteration 0.\n"
     ]
    },
    {
     "name": "stderr",
     "output_type": "stream",
     "text": [
      "[I 2025-05-14 18:10:19,084] Trial 9 pruned. Trial was pruned at iteration 2.\n"
     ]
    },
    {
     "name": "stderr",
     "output_type": "stream",
     "text": [
      "[I 2025-05-14 18:10:19,708] Trial 10 pruned. Trial was pruned at iteration 0.\n"
     ]
    },
    {
     "name": "stderr",
     "output_type": "stream",
     "text": [
      "[I 2025-05-14 18:11:20,458] Trial 11 finished with value: -0.747233 and parameters: {'max_depth': 10, 'min_child_weight': 3, 'subsample': 0.34014304150377095, 'colsample_bynode': 0.40131565860091256, 'learning_rate': 0.057899203666416425}. Best is trial 11 with value: -0.747233.\n"
     ]
    },
    {
     "name": "stderr",
     "output_type": "stream",
     "text": [
      "[I 2025-05-14 18:11:42,073] Trial 12 pruned. Trial was pruned at iteration 73.\n"
     ]
    },
    {
     "name": "stderr",
     "output_type": "stream",
     "text": [
      "[I 2025-05-14 18:11:42,628] Trial 13 pruned. Trial was pruned at iteration 0.\n"
     ]
    },
    {
     "name": "stderr",
     "output_type": "stream",
     "text": [
      "[I 2025-05-14 18:11:43,141] Trial 14 pruned. Trial was pruned at iteration 0.\n"
     ]
    },
    {
     "name": "stderr",
     "output_type": "stream",
     "text": [
      "[I 2025-05-14 18:12:44,638] Trial 15 finished with value: -0.740466 and parameters: {'max_depth': 20, 'min_child_weight': 1, 'subsample': 0.996414878572692, 'colsample_bynode': 0.2868276435331959, 'learning_rate': 0.13085256947195753}. Best is trial 11 with value: -0.747233.\n"
     ]
    },
    {
     "name": "stderr",
     "output_type": "stream",
     "text": [
      "[I 2025-05-14 18:12:45,225] Trial 16 pruned. Trial was pruned at iteration 0.\n"
     ]
    },
    {
     "name": "stderr",
     "output_type": "stream",
     "text": [
      "[I 2025-05-14 18:12:45,791] Trial 17 pruned. Trial was pruned at iteration 0.\n"
     ]
    },
    {
     "name": "stderr",
     "output_type": "stream",
     "text": [
      "[I 2025-05-14 18:13:09,210] Trial 18 finished with value: -0.751683 and parameters: {'max_depth': 6, 'min_child_weight': 37, 'subsample': 0.7067229712126947, 'colsample_bynode': 0.39781988069976437, 'learning_rate': 0.16384379577990202}. Best is trial 18 with value: -0.751683.\n"
     ]
    },
    {
     "name": "stderr",
     "output_type": "stream",
     "text": [
      "[I 2025-05-14 18:13:33,267] Trial 19 finished with value: -0.751343 and parameters: {'max_depth': 10, 'min_child_weight': 54, 'subsample': 0.6713157142913582, 'colsample_bynode': 0.4006431452010076, 'learning_rate': 0.19980774226567669}. Best is trial 18 with value: -0.751683.\n"
     ]
    },
    {
     "name": "stderr",
     "output_type": "stream",
     "text": [
      "[I 2025-05-14 18:13:33,885] Trial 20 pruned. Trial was pruned at iteration 0.\n"
     ]
    },
    {
     "name": "stderr",
     "output_type": "stream",
     "text": [
      "[I 2025-05-14 18:13:54,759] Trial 21 finished with value: -0.753496 and parameters: {'max_depth': 9, 'min_child_weight': 37, 'subsample': 0.6633981323438212, 'colsample_bynode': 0.395186789321616, 'learning_rate': 0.24892967230551474}. Best is trial 21 with value: -0.753496.\n"
     ]
    },
    {
     "name": "stderr",
     "output_type": "stream",
     "text": [
      "[I 2025-05-14 18:13:55,310] Trial 22 pruned. Trial was pruned at iteration 0.\n"
     ]
    },
    {
     "name": "stderr",
     "output_type": "stream",
     "text": [
      "[I 2025-05-14 18:14:01,455] Trial 23 pruned. Trial was pruned at iteration 22.\n"
     ]
    },
    {
     "name": "stderr",
     "output_type": "stream",
     "text": [
      "[I 2025-05-14 18:14:01,985] Trial 24 pruned. Trial was pruned at iteration 0.\n"
     ]
    },
    {
     "name": "stderr",
     "output_type": "stream",
     "text": [
      "[I 2025-05-14 18:14:02,689] Trial 25 pruned. Trial was pruned at iteration 1.\n"
     ]
    },
    {
     "name": "stderr",
     "output_type": "stream",
     "text": [
      "[I 2025-05-14 18:14:03,213] Trial 26 pruned. Trial was pruned at iteration 0.\n"
     ]
    },
    {
     "name": "stderr",
     "output_type": "stream",
     "text": [
      "[I 2025-05-14 18:14:03,678] Trial 27 pruned. Trial was pruned at iteration 0.\n"
     ]
    },
    {
     "name": "stderr",
     "output_type": "stream",
     "text": [
      "[I 2025-05-14 18:14:04,184] Trial 28 pruned. Trial was pruned at iteration 0.\n"
     ]
    },
    {
     "name": "stderr",
     "output_type": "stream",
     "text": [
      "[I 2025-05-14 18:14:04,688] Trial 29 pruned. Trial was pruned at iteration 0.\n"
     ]
    },
    {
     "name": "stderr",
     "output_type": "stream",
     "text": [
      "[I 2025-05-14 18:14:05,289] Trial 30 pruned. Trial was pruned at iteration 0.\n"
     ]
    },
    {
     "name": "stderr",
     "output_type": "stream",
     "text": [
      "[I 2025-05-14 18:14:05,838] Trial 31 pruned. Trial was pruned at iteration 0.\n"
     ]
    },
    {
     "name": "stderr",
     "output_type": "stream",
     "text": [
      "[I 2025-05-14 18:14:12,824] Trial 32 pruned. Trial was pruned at iteration 22.\n"
     ]
    },
    {
     "name": "stderr",
     "output_type": "stream",
     "text": [
      "[I 2025-05-14 18:14:13,630] Trial 33 pruned. Trial was pruned at iteration 1.\n"
     ]
    },
    {
     "name": "stderr",
     "output_type": "stream",
     "text": [
      "[I 2025-05-14 18:14:34,545] Trial 34 finished with value: -0.751394 and parameters: {'max_depth': 9, 'min_child_weight': 65, 'subsample': 0.9029436788377732, 'colsample_bynode': 0.5784610295526863, 'learning_rate': 0.2221762549960643}. Best is trial 21 with value: -0.753496.\n"
     ]
    },
    {
     "name": "stderr",
     "output_type": "stream",
     "text": [
      "[I 2025-05-14 18:14:35,272] Trial 35 pruned. Trial was pruned at iteration 1.\n"
     ]
    },
    {
     "name": "stderr",
     "output_type": "stream",
     "text": [
      "[I 2025-05-14 18:14:35,968] Trial 36 pruned. Trial was pruned at iteration 1.\n"
     ]
    },
    {
     "name": "stderr",
     "output_type": "stream",
     "text": [
      "[I 2025-05-14 18:14:39,196] Trial 37 pruned. Trial was pruned at iteration 8.\n"
     ]
    },
    {
     "name": "stderr",
     "output_type": "stream",
     "text": [
      "[I 2025-05-14 18:15:00,827] Trial 38 pruned. Trial was pruned at iteration 86.\n"
     ]
    },
    {
     "name": "stderr",
     "output_type": "stream",
     "text": [
      "[I 2025-05-14 18:15:01,429] Trial 39 pruned. Trial was pruned at iteration 0.\n"
     ]
    },
    {
     "name": "stderr",
     "output_type": "stream",
     "text": [
      "[I 2025-05-14 18:15:01,897] Trial 40 pruned. Trial was pruned at iteration 0.\n"
     ]
    },
    {
     "name": "stderr",
     "output_type": "stream",
     "text": [
      "[I 2025-05-14 18:15:02,452] Trial 41 pruned. Trial was pruned at iteration 0.\n"
     ]
    },
    {
     "name": "stderr",
     "output_type": "stream",
     "text": [
      "[I 2025-05-14 18:15:03,010] Trial 42 pruned. Trial was pruned at iteration 0.\n"
     ]
    },
    {
     "name": "stderr",
     "output_type": "stream",
     "text": [
      "[I 2025-05-14 18:15:03,577] Trial 43 pruned. Trial was pruned at iteration 0.\n"
     ]
    },
    {
     "name": "stderr",
     "output_type": "stream",
     "text": [
      "[I 2025-05-14 18:15:22,634] Trial 44 finished with value: -0.748622 and parameters: {'max_depth': 8, 'min_child_weight': 11, 'subsample': 0.7100275555434763, 'colsample_bynode': 0.5121687611776117, 'learning_rate': 0.2310173020991071}. Best is trial 21 with value: -0.753496.\n"
     ]
    },
    {
     "name": "stderr",
     "output_type": "stream",
     "text": [
      "[I 2025-05-14 18:15:39,888] Trial 45 finished with value: -0.747822 and parameters: {'max_depth': 8, 'min_child_weight': 17, 'subsample': 0.7011865974452429, 'colsample_bynode': 0.5243605042928747, 'learning_rate': 0.2250719624408316}. Best is trial 21 with value: -0.753496.\n"
     ]
    },
    {
     "name": "stderr",
     "output_type": "stream",
     "text": [
      "[I 2025-05-14 18:15:40,369] Trial 46 pruned. Trial was pruned at iteration 0.\n"
     ]
    },
    {
     "name": "stderr",
     "output_type": "stream",
     "text": [
      "[I 2025-05-14 18:16:00,132] Trial 47 finished with value: -0.752214 and parameters: {'max_depth': 6, 'min_child_weight': 26, 'subsample': 0.8427121571176827, 'colsample_bynode': 0.5813657336971316, 'learning_rate': 0.3294032174822678}. Best is trial 21 with value: -0.753496.\n"
     ]
    },
    {
     "name": "stderr",
     "output_type": "stream",
     "text": [
      "[I 2025-05-14 18:16:00,656] Trial 48 pruned. Trial was pruned at iteration 0.\n"
     ]
    },
    {
     "name": "stderr",
     "output_type": "stream",
     "text": [
      "[I 2025-05-14 18:16:21,802] Trial 49 finished with value: -0.754811 and parameters: {'max_depth': 6, 'min_child_weight': 28, 'subsample': 0.8241591780706314, 'colsample_bynode': 0.6054274898460069, 'learning_rate': 0.32656022428152337}. Best is trial 49 with value: -0.754811.\n"
     ]
    }
   ],
   "source": [
    "sampler = optuna.samplers.TPESampler(seed=42)\n",
    "study = optuna.create_study(direction='minimize', sampler=sampler)\n",
    "study.optimize(objective, n_trials=N_TRIALS, gc_after_trial=True)"
   ]
  },
  {
   "cell_type": "code",
   "execution_count": 20,
   "id": "374feda0",
   "metadata": {
    "execution": {
     "iopub.execute_input": "2025-05-14T16:16:21.917846Z",
     "iopub.status.busy": "2025-05-14T16:16:21.917633Z",
     "iopub.status.idle": "2025-05-14T16:16:21.941730Z",
     "shell.execute_reply": "2025-05-14T16:16:21.941329Z"
    },
    "papermill": {
     "duration": 0.03474,
     "end_time": "2025-05-14T16:16:21.942627",
     "exception": false,
     "start_time": "2025-05-14T16:16:21.907887",
     "status": "completed"
    },
    "tags": []
   },
   "outputs": [
    {
     "data": {
      "text/plain": [
       "['/scratch_isilon/groups/singlecell/shared/projects/Inflammation-PBMCs-Atlas/03_downstream_analysis/08_gene_importance/xgboost_external_validation/xgboost_TopN_genes/results_20/study/T_CD4_Naive_shap_studyID_NOdisease_3_xgboost.pkl']"
      ]
     },
     "execution_count": 20,
     "metadata": {},
     "output_type": "execute_result"
    }
   ],
   "source": [
    "out_dir = here(f'03_downstream_analysis/08_gene_importance/xgboost_external_validation/xgboost_TopN_genes/results_{N_GENES}/study')\n",
    "\n",
    "if not os.path.exists(out_dir):\n",
    "    os.makedirs(out_dir)\n",
    "    \n",
    "joblib.dump(study,os.path.join(out_dir, f'{CELL_TYPE}_{SEED}_{TEST_SPLIT_IDX}_xgboost.pkl'))"
   ]
  },
  {
   "cell_type": "code",
   "execution_count": 21,
   "id": "d7c31239",
   "metadata": {
    "execution": {
     "iopub.execute_input": "2025-05-14T16:16:21.960119Z",
     "iopub.status.busy": "2025-05-14T16:16:21.959896Z",
     "iopub.status.idle": "2025-05-14T16:16:28.891015Z",
     "shell.execute_reply": "2025-05-14T16:16:28.890624Z"
    },
    "papermill": {
     "duration": 6.94086,
     "end_time": "2025-05-14T16:16:28.892072",
     "exception": false,
     "start_time": "2025-05-14T16:16:21.951212",
     "status": "completed"
    },
    "tags": []
   },
   "outputs": [
    {
     "data": {
      "text/html": [
       "<style>#sk-container-id-1 {\n",
       "  /* Definition of color scheme common for light and dark mode */\n",
       "  --sklearn-color-text: black;\n",
       "  --sklearn-color-line: gray;\n",
       "  /* Definition of color scheme for unfitted estimators */\n",
       "  --sklearn-color-unfitted-level-0: #fff5e6;\n",
       "  --sklearn-color-unfitted-level-1: #f6e4d2;\n",
       "  --sklearn-color-unfitted-level-2: #ffe0b3;\n",
       "  --sklearn-color-unfitted-level-3: chocolate;\n",
       "  /* Definition of color scheme for fitted estimators */\n",
       "  --sklearn-color-fitted-level-0: #f0f8ff;\n",
       "  --sklearn-color-fitted-level-1: #d4ebff;\n",
       "  --sklearn-color-fitted-level-2: #b3dbfd;\n",
       "  --sklearn-color-fitted-level-3: cornflowerblue;\n",
       "\n",
       "  /* Specific color for light theme */\n",
       "  --sklearn-color-text-on-default-background: var(--sg-text-color, var(--theme-code-foreground, var(--jp-content-font-color1, black)));\n",
       "  --sklearn-color-background: var(--sg-background-color, var(--theme-background, var(--jp-layout-color0, white)));\n",
       "  --sklearn-color-border-box: var(--sg-text-color, var(--theme-code-foreground, var(--jp-content-font-color1, black)));\n",
       "  --sklearn-color-icon: #696969;\n",
       "\n",
       "  @media (prefers-color-scheme: dark) {\n",
       "    /* Redefinition of color scheme for dark theme */\n",
       "    --sklearn-color-text-on-default-background: var(--sg-text-color, var(--theme-code-foreground, var(--jp-content-font-color1, white)));\n",
       "    --sklearn-color-background: var(--sg-background-color, var(--theme-background, var(--jp-layout-color0, #111)));\n",
       "    --sklearn-color-border-box: var(--sg-text-color, var(--theme-code-foreground, var(--jp-content-font-color1, white)));\n",
       "    --sklearn-color-icon: #878787;\n",
       "  }\n",
       "}\n",
       "\n",
       "#sk-container-id-1 {\n",
       "  color: var(--sklearn-color-text);\n",
       "}\n",
       "\n",
       "#sk-container-id-1 pre {\n",
       "  padding: 0;\n",
       "}\n",
       "\n",
       "#sk-container-id-1 input.sk-hidden--visually {\n",
       "  border: 0;\n",
       "  clip: rect(1px 1px 1px 1px);\n",
       "  clip: rect(1px, 1px, 1px, 1px);\n",
       "  height: 1px;\n",
       "  margin: -1px;\n",
       "  overflow: hidden;\n",
       "  padding: 0;\n",
       "  position: absolute;\n",
       "  width: 1px;\n",
       "}\n",
       "\n",
       "#sk-container-id-1 div.sk-dashed-wrapped {\n",
       "  border: 1px dashed var(--sklearn-color-line);\n",
       "  margin: 0 0.4em 0.5em 0.4em;\n",
       "  box-sizing: border-box;\n",
       "  padding-bottom: 0.4em;\n",
       "  background-color: var(--sklearn-color-background);\n",
       "}\n",
       "\n",
       "#sk-container-id-1 div.sk-container {\n",
       "  /* jupyter's `normalize.less` sets `[hidden] { display: none; }`\n",
       "     but bootstrap.min.css set `[hidden] { display: none !important; }`\n",
       "     so we also need the `!important` here to be able to override the\n",
       "     default hidden behavior on the sphinx rendered scikit-learn.org.\n",
       "     See: https://github.com/scikit-learn/scikit-learn/issues/21755 */\n",
       "  display: inline-block !important;\n",
       "  position: relative;\n",
       "}\n",
       "\n",
       "#sk-container-id-1 div.sk-text-repr-fallback {\n",
       "  display: none;\n",
       "}\n",
       "\n",
       "div.sk-parallel-item,\n",
       "div.sk-serial,\n",
       "div.sk-item {\n",
       "  /* draw centered vertical line to link estimators */\n",
       "  background-image: linear-gradient(var(--sklearn-color-text-on-default-background), var(--sklearn-color-text-on-default-background));\n",
       "  background-size: 2px 100%;\n",
       "  background-repeat: no-repeat;\n",
       "  background-position: center center;\n",
       "}\n",
       "\n",
       "/* Parallel-specific style estimator block */\n",
       "\n",
       "#sk-container-id-1 div.sk-parallel-item::after {\n",
       "  content: \"\";\n",
       "  width: 100%;\n",
       "  border-bottom: 2px solid var(--sklearn-color-text-on-default-background);\n",
       "  flex-grow: 1;\n",
       "}\n",
       "\n",
       "#sk-container-id-1 div.sk-parallel {\n",
       "  display: flex;\n",
       "  align-items: stretch;\n",
       "  justify-content: center;\n",
       "  background-color: var(--sklearn-color-background);\n",
       "  position: relative;\n",
       "}\n",
       "\n",
       "#sk-container-id-1 div.sk-parallel-item {\n",
       "  display: flex;\n",
       "  flex-direction: column;\n",
       "}\n",
       "\n",
       "#sk-container-id-1 div.sk-parallel-item:first-child::after {\n",
       "  align-self: flex-end;\n",
       "  width: 50%;\n",
       "}\n",
       "\n",
       "#sk-container-id-1 div.sk-parallel-item:last-child::after {\n",
       "  align-self: flex-start;\n",
       "  width: 50%;\n",
       "}\n",
       "\n",
       "#sk-container-id-1 div.sk-parallel-item:only-child::after {\n",
       "  width: 0;\n",
       "}\n",
       "\n",
       "/* Serial-specific style estimator block */\n",
       "\n",
       "#sk-container-id-1 div.sk-serial {\n",
       "  display: flex;\n",
       "  flex-direction: column;\n",
       "  align-items: center;\n",
       "  background-color: var(--sklearn-color-background);\n",
       "  padding-right: 1em;\n",
       "  padding-left: 1em;\n",
       "}\n",
       "\n",
       "\n",
       "/* Toggleable style: style used for estimator/Pipeline/ColumnTransformer box that is\n",
       "clickable and can be expanded/collapsed.\n",
       "- Pipeline and ColumnTransformer use this feature and define the default style\n",
       "- Estimators will overwrite some part of the style using the `sk-estimator` class\n",
       "*/\n",
       "\n",
       "/* Pipeline and ColumnTransformer style (default) */\n",
       "\n",
       "#sk-container-id-1 div.sk-toggleable {\n",
       "  /* Default theme specific background. It is overwritten whether we have a\n",
       "  specific estimator or a Pipeline/ColumnTransformer */\n",
       "  background-color: var(--sklearn-color-background);\n",
       "}\n",
       "\n",
       "/* Toggleable label */\n",
       "#sk-container-id-1 label.sk-toggleable__label {\n",
       "  cursor: pointer;\n",
       "  display: block;\n",
       "  width: 100%;\n",
       "  margin-bottom: 0;\n",
       "  padding: 0.5em;\n",
       "  box-sizing: border-box;\n",
       "  text-align: center;\n",
       "}\n",
       "\n",
       "#sk-container-id-1 label.sk-toggleable__label-arrow:before {\n",
       "  /* Arrow on the left of the label */\n",
       "  content: \"▸\";\n",
       "  float: left;\n",
       "  margin-right: 0.25em;\n",
       "  color: var(--sklearn-color-icon);\n",
       "}\n",
       "\n",
       "#sk-container-id-1 label.sk-toggleable__label-arrow:hover:before {\n",
       "  color: var(--sklearn-color-text);\n",
       "}\n",
       "\n",
       "/* Toggleable content - dropdown */\n",
       "\n",
       "#sk-container-id-1 div.sk-toggleable__content {\n",
       "  max-height: 0;\n",
       "  max-width: 0;\n",
       "  overflow: hidden;\n",
       "  text-align: left;\n",
       "  /* unfitted */\n",
       "  background-color: var(--sklearn-color-unfitted-level-0);\n",
       "}\n",
       "\n",
       "#sk-container-id-1 div.sk-toggleable__content.fitted {\n",
       "  /* fitted */\n",
       "  background-color: var(--sklearn-color-fitted-level-0);\n",
       "}\n",
       "\n",
       "#sk-container-id-1 div.sk-toggleable__content pre {\n",
       "  margin: 0.2em;\n",
       "  border-radius: 0.25em;\n",
       "  color: var(--sklearn-color-text);\n",
       "  /* unfitted */\n",
       "  background-color: var(--sklearn-color-unfitted-level-0);\n",
       "}\n",
       "\n",
       "#sk-container-id-1 div.sk-toggleable__content.fitted pre {\n",
       "  /* unfitted */\n",
       "  background-color: var(--sklearn-color-fitted-level-0);\n",
       "}\n",
       "\n",
       "#sk-container-id-1 input.sk-toggleable__control:checked~div.sk-toggleable__content {\n",
       "  /* Expand drop-down */\n",
       "  max-height: 200px;\n",
       "  max-width: 100%;\n",
       "  overflow: auto;\n",
       "}\n",
       "\n",
       "#sk-container-id-1 input.sk-toggleable__control:checked~label.sk-toggleable__label-arrow:before {\n",
       "  content: \"▾\";\n",
       "}\n",
       "\n",
       "/* Pipeline/ColumnTransformer-specific style */\n",
       "\n",
       "#sk-container-id-1 div.sk-label input.sk-toggleable__control:checked~label.sk-toggleable__label {\n",
       "  color: var(--sklearn-color-text);\n",
       "  background-color: var(--sklearn-color-unfitted-level-2);\n",
       "}\n",
       "\n",
       "#sk-container-id-1 div.sk-label.fitted input.sk-toggleable__control:checked~label.sk-toggleable__label {\n",
       "  background-color: var(--sklearn-color-fitted-level-2);\n",
       "}\n",
       "\n",
       "/* Estimator-specific style */\n",
       "\n",
       "/* Colorize estimator box */\n",
       "#sk-container-id-1 div.sk-estimator input.sk-toggleable__control:checked~label.sk-toggleable__label {\n",
       "  /* unfitted */\n",
       "  background-color: var(--sklearn-color-unfitted-level-2);\n",
       "}\n",
       "\n",
       "#sk-container-id-1 div.sk-estimator.fitted input.sk-toggleable__control:checked~label.sk-toggleable__label {\n",
       "  /* fitted */\n",
       "  background-color: var(--sklearn-color-fitted-level-2);\n",
       "}\n",
       "\n",
       "#sk-container-id-1 div.sk-label label.sk-toggleable__label,\n",
       "#sk-container-id-1 div.sk-label label {\n",
       "  /* The background is the default theme color */\n",
       "  color: var(--sklearn-color-text-on-default-background);\n",
       "}\n",
       "\n",
       "/* On hover, darken the color of the background */\n",
       "#sk-container-id-1 div.sk-label:hover label.sk-toggleable__label {\n",
       "  color: var(--sklearn-color-text);\n",
       "  background-color: var(--sklearn-color-unfitted-level-2);\n",
       "}\n",
       "\n",
       "/* Label box, darken color on hover, fitted */\n",
       "#sk-container-id-1 div.sk-label.fitted:hover label.sk-toggleable__label.fitted {\n",
       "  color: var(--sklearn-color-text);\n",
       "  background-color: var(--sklearn-color-fitted-level-2);\n",
       "}\n",
       "\n",
       "/* Estimator label */\n",
       "\n",
       "#sk-container-id-1 div.sk-label label {\n",
       "  font-family: monospace;\n",
       "  font-weight: bold;\n",
       "  display: inline-block;\n",
       "  line-height: 1.2em;\n",
       "}\n",
       "\n",
       "#sk-container-id-1 div.sk-label-container {\n",
       "  text-align: center;\n",
       "}\n",
       "\n",
       "/* Estimator-specific */\n",
       "#sk-container-id-1 div.sk-estimator {\n",
       "  font-family: monospace;\n",
       "  border: 1px dotted var(--sklearn-color-border-box);\n",
       "  border-radius: 0.25em;\n",
       "  box-sizing: border-box;\n",
       "  margin-bottom: 0.5em;\n",
       "  /* unfitted */\n",
       "  background-color: var(--sklearn-color-unfitted-level-0);\n",
       "}\n",
       "\n",
       "#sk-container-id-1 div.sk-estimator.fitted {\n",
       "  /* fitted */\n",
       "  background-color: var(--sklearn-color-fitted-level-0);\n",
       "}\n",
       "\n",
       "/* on hover */\n",
       "#sk-container-id-1 div.sk-estimator:hover {\n",
       "  /* unfitted */\n",
       "  background-color: var(--sklearn-color-unfitted-level-2);\n",
       "}\n",
       "\n",
       "#sk-container-id-1 div.sk-estimator.fitted:hover {\n",
       "  /* fitted */\n",
       "  background-color: var(--sklearn-color-fitted-level-2);\n",
       "}\n",
       "\n",
       "/* Specification for estimator info (e.g. \"i\" and \"?\") */\n",
       "\n",
       "/* Common style for \"i\" and \"?\" */\n",
       "\n",
       ".sk-estimator-doc-link,\n",
       "a:link.sk-estimator-doc-link,\n",
       "a:visited.sk-estimator-doc-link {\n",
       "  float: right;\n",
       "  font-size: smaller;\n",
       "  line-height: 1em;\n",
       "  font-family: monospace;\n",
       "  background-color: var(--sklearn-color-background);\n",
       "  border-radius: 1em;\n",
       "  height: 1em;\n",
       "  width: 1em;\n",
       "  text-decoration: none !important;\n",
       "  margin-left: 1ex;\n",
       "  /* unfitted */\n",
       "  border: var(--sklearn-color-unfitted-level-1) 1pt solid;\n",
       "  color: var(--sklearn-color-unfitted-level-1);\n",
       "}\n",
       "\n",
       ".sk-estimator-doc-link.fitted,\n",
       "a:link.sk-estimator-doc-link.fitted,\n",
       "a:visited.sk-estimator-doc-link.fitted {\n",
       "  /* fitted */\n",
       "  border: var(--sklearn-color-fitted-level-1) 1pt solid;\n",
       "  color: var(--sklearn-color-fitted-level-1);\n",
       "}\n",
       "\n",
       "/* On hover */\n",
       "div.sk-estimator:hover .sk-estimator-doc-link:hover,\n",
       ".sk-estimator-doc-link:hover,\n",
       "div.sk-label-container:hover .sk-estimator-doc-link:hover,\n",
       ".sk-estimator-doc-link:hover {\n",
       "  /* unfitted */\n",
       "  background-color: var(--sklearn-color-unfitted-level-3);\n",
       "  color: var(--sklearn-color-background);\n",
       "  text-decoration: none;\n",
       "}\n",
       "\n",
       "div.sk-estimator.fitted:hover .sk-estimator-doc-link.fitted:hover,\n",
       ".sk-estimator-doc-link.fitted:hover,\n",
       "div.sk-label-container:hover .sk-estimator-doc-link.fitted:hover,\n",
       ".sk-estimator-doc-link.fitted:hover {\n",
       "  /* fitted */\n",
       "  background-color: var(--sklearn-color-fitted-level-3);\n",
       "  color: var(--sklearn-color-background);\n",
       "  text-decoration: none;\n",
       "}\n",
       "\n",
       "/* Span, style for the box shown on hovering the info icon */\n",
       ".sk-estimator-doc-link span {\n",
       "  display: none;\n",
       "  z-index: 9999;\n",
       "  position: relative;\n",
       "  font-weight: normal;\n",
       "  right: .2ex;\n",
       "  padding: .5ex;\n",
       "  margin: .5ex;\n",
       "  width: min-content;\n",
       "  min-width: 20ex;\n",
       "  max-width: 50ex;\n",
       "  color: var(--sklearn-color-text);\n",
       "  box-shadow: 2pt 2pt 4pt #999;\n",
       "  /* unfitted */\n",
       "  background: var(--sklearn-color-unfitted-level-0);\n",
       "  border: .5pt solid var(--sklearn-color-unfitted-level-3);\n",
       "}\n",
       "\n",
       ".sk-estimator-doc-link.fitted span {\n",
       "  /* fitted */\n",
       "  background: var(--sklearn-color-fitted-level-0);\n",
       "  border: var(--sklearn-color-fitted-level-3);\n",
       "}\n",
       "\n",
       ".sk-estimator-doc-link:hover span {\n",
       "  display: block;\n",
       "}\n",
       "\n",
       "/* \"?\"-specific style due to the `<a>` HTML tag */\n",
       "\n",
       "#sk-container-id-1 a.estimator_doc_link {\n",
       "  float: right;\n",
       "  font-size: 1rem;\n",
       "  line-height: 1em;\n",
       "  font-family: monospace;\n",
       "  background-color: var(--sklearn-color-background);\n",
       "  border-radius: 1rem;\n",
       "  height: 1rem;\n",
       "  width: 1rem;\n",
       "  text-decoration: none;\n",
       "  /* unfitted */\n",
       "  color: var(--sklearn-color-unfitted-level-1);\n",
       "  border: var(--sklearn-color-unfitted-level-1) 1pt solid;\n",
       "}\n",
       "\n",
       "#sk-container-id-1 a.estimator_doc_link.fitted {\n",
       "  /* fitted */\n",
       "  border: var(--sklearn-color-fitted-level-1) 1pt solid;\n",
       "  color: var(--sklearn-color-fitted-level-1);\n",
       "}\n",
       "\n",
       "/* On hover */\n",
       "#sk-container-id-1 a.estimator_doc_link:hover {\n",
       "  /* unfitted */\n",
       "  background-color: var(--sklearn-color-unfitted-level-3);\n",
       "  color: var(--sklearn-color-background);\n",
       "  text-decoration: none;\n",
       "}\n",
       "\n",
       "#sk-container-id-1 a.estimator_doc_link.fitted:hover {\n",
       "  /* fitted */\n",
       "  background-color: var(--sklearn-color-fitted-level-3);\n",
       "}\n",
       "</style><div id=\"sk-container-id-1\" class=\"sk-top-container\"><div class=\"sk-text-repr-fallback\"><pre>XGBClassifier(base_score=None, booster=None, callbacks=None,\n",
       "              colsample_bylevel=None, colsample_bynode=0.6054274898460069,\n",
       "              colsample_bytree=None, device=None, early_stopping_rounds=None,\n",
       "              enable_categorical=False,\n",
       "              eval_metric=&lt;function custom_f1_score at 0x7fea2ca4c0e0&gt;,\n",
       "              feature_types=None, gamma=None, grow_policy=None,\n",
       "              importance_type=None, interaction_constraints=None,\n",
       "              learning_rate=0.32656022428152337, max_bin=None,\n",
       "              max_cat_threshold=None, max_cat_to_onehot=None,\n",
       "              max_delta_step=None, max_depth=6, max_leaves=None,\n",
       "              min_child_weight=28, missing=nan, monotone_constraints=None,\n",
       "              multi_strategy=None, n_estimators=82, n_jobs=None,\n",
       "              num_parallel_tree=None, objective=&#x27;multi:softprob&#x27;, ...)</pre><b>In a Jupyter environment, please rerun this cell to show the HTML representation or trust the notebook. <br />On GitHub, the HTML representation is unable to render, please try loading this page with nbviewer.org.</b></div><div class=\"sk-container\" hidden><div class=\"sk-item\"><div class=\"sk-estimator fitted sk-toggleable\"><input class=\"sk-toggleable__control sk-hidden--visually\" id=\"sk-estimator-id-1\" type=\"checkbox\" checked><label for=\"sk-estimator-id-1\" class=\"sk-toggleable__label fitted sk-toggleable__label-arrow fitted\">&nbsp;XGBClassifier<span class=\"sk-estimator-doc-link fitted\">i<span>Fitted</span></span></label><div class=\"sk-toggleable__content fitted\"><pre>XGBClassifier(base_score=None, booster=None, callbacks=None,\n",
       "              colsample_bylevel=None, colsample_bynode=0.6054274898460069,\n",
       "              colsample_bytree=None, device=None, early_stopping_rounds=None,\n",
       "              enable_categorical=False,\n",
       "              eval_metric=&lt;function custom_f1_score at 0x7fea2ca4c0e0&gt;,\n",
       "              feature_types=None, gamma=None, grow_policy=None,\n",
       "              importance_type=None, interaction_constraints=None,\n",
       "              learning_rate=0.32656022428152337, max_bin=None,\n",
       "              max_cat_threshold=None, max_cat_to_onehot=None,\n",
       "              max_delta_step=None, max_depth=6, max_leaves=None,\n",
       "              min_child_weight=28, missing=nan, monotone_constraints=None,\n",
       "              multi_strategy=None, n_estimators=82, n_jobs=None,\n",
       "              num_parallel_tree=None, objective=&#x27;multi:softprob&#x27;, ...)</pre></div> </div></div></div></div>"
      ],
      "text/plain": [
       "XGBClassifier(base_score=None, booster=None, callbacks=None,\n",
       "              colsample_bylevel=None, colsample_bynode=0.6054274898460069,\n",
       "              colsample_bytree=None, device=None, early_stopping_rounds=None,\n",
       "              enable_categorical=False,\n",
       "              eval_metric=<function custom_f1_score at 0x7fea2ca4c0e0>,\n",
       "              feature_types=None, gamma=None, grow_policy=None,\n",
       "              importance_type=None, interaction_constraints=None,\n",
       "              learning_rate=0.32656022428152337, max_bin=None,\n",
       "              max_cat_threshold=None, max_cat_to_onehot=None,\n",
       "              max_delta_step=None, max_depth=6, max_leaves=None,\n",
       "              min_child_weight=28, missing=nan, monotone_constraints=None,\n",
       "              multi_strategy=None, n_estimators=82, n_jobs=None,\n",
       "              num_parallel_tree=None, objective='multi:softprob', ...)"
      ]
     },
     "execution_count": 21,
     "metadata": {},
     "output_type": "execute_result"
    }
   ],
   "source": [
    "n_estimators = int(study.best_trial.user_attrs['best_iteration']*1.2)\n",
    "xgb = xgboost.XGBClassifier(\n",
    "        eval_metric=eval_metric,\n",
    "        n_estimators=n_estimators,\n",
    "        **study.best_trial.params\n",
    "    )\n",
    "xgb.fit(\n",
    "    ssp.vstack((X_train, X_val)), \n",
    "    np.concatenate((y_train_enc, y_val_enc)),\n",
    "    verbose=1,\n",
    ")"
   ]
  },
  {
   "cell_type": "code",
   "execution_count": 22,
   "id": "3e97474a",
   "metadata": {
    "execution": {
     "iopub.execute_input": "2025-05-14T16:16:28.939602Z",
     "iopub.status.busy": "2025-05-14T16:16:28.939222Z",
     "iopub.status.idle": "2025-05-14T16:16:28.961210Z",
     "shell.execute_reply": "2025-05-14T16:16:28.960863Z"
    },
    "papermill": {
     "duration": 0.033407,
     "end_time": "2025-05-14T16:16:28.962145",
     "exception": false,
     "start_time": "2025-05-14T16:16:28.928738",
     "status": "completed"
    },
    "tags": []
   },
   "outputs": [
    {
     "data": {
      "text/plain": [
       "['/scratch_isilon/groups/singlecell/shared/projects/Inflammation-PBMCs-Atlas/03_downstream_analysis/08_gene_importance/xgboost_external_validation/xgboost_TopN_genes/results_20/best_model/T_CD4_Naive_shap_studyID_NOdisease_3_xgb.json']"
      ]
     },
     "execution_count": 22,
     "metadata": {},
     "output_type": "execute_result"
    }
   ],
   "source": [
    "out_dir = here(f'03_downstream_analysis/08_gene_importance/xgboost_external_validation/xgboost_TopN_genes/results_{N_GENES}/best_model')\n",
    "\n",
    "if not os.path.exists(out_dir):\n",
    "    os.makedirs(out_dir)\n",
    "    \n",
    "joblib.dump(xgb, os.path.join(out_dir, f'{CELL_TYPE}_{SEED}_{TEST_SPLIT_IDX}_xgb.json'))"
   ]
  },
  {
   "cell_type": "code",
   "execution_count": 23,
   "id": "393bcb33",
   "metadata": {
    "execution": {
     "iopub.execute_input": "2025-05-14T16:16:28.980591Z",
     "iopub.status.busy": "2025-05-14T16:16:28.980394Z",
     "iopub.status.idle": "2025-05-14T16:16:29.179964Z",
     "shell.execute_reply": "2025-05-14T16:16:29.179560Z"
    },
    "papermill": {
     "duration": 0.210055,
     "end_time": "2025-05-14T16:16:29.181224",
     "exception": false,
     "start_time": "2025-05-14T16:16:28.971169",
     "status": "completed"
    },
    "tags": []
   },
   "outputs": [],
   "source": [
    "df_pred_test = pd.DataFrame(dict(\n",
    "    cell_id=train_adata.obs.iloc[test_idxs].index.values,\n",
    "    y_true=y_test, \n",
    "    y_true_code=y_test_enc, \n",
    "    y_pred=xgb.predict(X_test))).set_index('cell_id')"
   ]
  },
  {
   "cell_type": "code",
   "execution_count": 24,
   "id": "59450977",
   "metadata": {
    "execution": {
     "iopub.execute_input": "2025-05-14T16:16:29.200587Z",
     "iopub.status.busy": "2025-05-14T16:16:29.200374Z",
     "iopub.status.idle": "2025-05-14T16:16:29.309343Z",
     "shell.execute_reply": "2025-05-14T16:16:29.308840Z"
    },
    "papermill": {
     "duration": 0.120004,
     "end_time": "2025-05-14T16:16:29.310576",
     "exception": false,
     "start_time": "2025-05-14T16:16:29.190572",
     "status": "completed"
    },
    "tags": []
   },
   "outputs": [],
   "source": [
    "out_dir = here(f'03_downstream_analysis/08_gene_importance/xgboost_external_validation/xgboost_TopN_genes/results_{N_GENES}/predictions')\n",
    "\n",
    "if not os.path.exists(out_dir):\n",
    "    os.makedirs(out_dir)\n",
    "    \n",
    "df_pred_test.to_csv(os.path.join(out_dir, f'{CELL_TYPE}_{SEED}_{TEST_SPLIT_IDX}_pred_test.zip'))"
   ]
  },
  {
   "cell_type": "code",
   "execution_count": 25,
   "id": "abf70359",
   "metadata": {
    "execution": {
     "iopub.execute_input": "2025-05-14T16:16:29.339244Z",
     "iopub.status.busy": "2025-05-14T16:16:29.339056Z",
     "iopub.status.idle": "2025-05-14T16:16:29.360778Z",
     "shell.execute_reply": "2025-05-14T16:16:29.360436Z"
    },
    "papermill": {
     "duration": 0.031985,
     "end_time": "2025-05-14T16:16:29.361687",
     "exception": false,
     "start_time": "2025-05-14T16:16:29.329702",
     "status": "completed"
    },
    "tags": []
   },
   "outputs": [
    {
     "name": "stderr",
     "output_type": "stream",
     "text": [
      "/scratch_isilon/groups/singlecell/shared/conda_env/xgboost-cpu/lib/python3.12/site-packages/sklearn/metrics/_classification.py:2466: UserWarning: y_pred contains classes not in y_true\n",
      "  warnings.warn(\"y_pred contains classes not in y_true\")\n"
     ]
    }
   ],
   "source": [
    "metrics_dict = dict(\n",
    "    BAS=balanced_accuracy_score(y_true=df_pred_test.y_true_code, y_pred=df_pred_test.y_pred), WF1=f1_score(y_true=df_pred_test.y_true_code, y_pred=df_pred_test.y_pred,average='weighted'))"
   ]
  },
  {
   "cell_type": "code",
   "execution_count": 26,
   "id": "79ea1d49",
   "metadata": {
    "execution": {
     "iopub.execute_input": "2025-05-14T16:16:29.395948Z",
     "iopub.status.busy": "2025-05-14T16:16:29.395754Z",
     "iopub.status.idle": "2025-05-14T16:16:29.398778Z",
     "shell.execute_reply": "2025-05-14T16:16:29.398440Z"
    },
    "papermill": {
     "duration": 0.013161,
     "end_time": "2025-05-14T16:16:29.399630",
     "exception": false,
     "start_time": "2025-05-14T16:16:29.386469",
     "status": "completed"
    },
    "tags": []
   },
   "outputs": [
    {
     "data": {
      "text/plain": [
       "{'BAS': 0.6405526398561469, 'WF1': 0.6961049284064843}"
      ]
     },
     "execution_count": 26,
     "metadata": {},
     "output_type": "execute_result"
    }
   ],
   "source": [
    "metrics_dict"
   ]
  },
  {
   "cell_type": "code",
   "execution_count": 27,
   "id": "284d8484",
   "metadata": {
    "execution": {
     "iopub.execute_input": "2025-05-14T16:16:29.442915Z",
     "iopub.status.busy": "2025-05-14T16:16:29.442433Z",
     "iopub.status.idle": "2025-05-14T16:16:29.452131Z",
     "shell.execute_reply": "2025-05-14T16:16:29.451824Z"
    },
    "papermill": {
     "duration": 0.044428,
     "end_time": "2025-05-14T16:16:29.453009",
     "exception": false,
     "start_time": "2025-05-14T16:16:29.408581",
     "status": "completed"
    },
    "tags": []
   },
   "outputs": [
    {
     "data": {
      "text/html": [
       "<div>\n",
       "<style scoped>\n",
       "    .dataframe tbody tr th:only-of-type {\n",
       "        vertical-align: middle;\n",
       "    }\n",
       "\n",
       "    .dataframe tbody tr th {\n",
       "        vertical-align: top;\n",
       "    }\n",
       "\n",
       "    .dataframe thead th {\n",
       "        text-align: right;\n",
       "    }\n",
       "</style>\n",
       "<table border=\"1\" class=\"dataframe\">\n",
       "  <thead>\n",
       "    <tr style=\"text-align: right;\">\n",
       "      <th></th>\n",
       "      <th>BAS</th>\n",
       "      <th>WF1</th>\n",
       "      <th>split_idx</th>\n",
       "      <th>gene_set_seed</th>\n",
       "      <th>cell_type</th>\n",
       "    </tr>\n",
       "  </thead>\n",
       "  <tbody>\n",
       "    <tr>\n",
       "      <th>0</th>\n",
       "      <td>0.640553</td>\n",
       "      <td>0.696105</td>\n",
       "      <td>3</td>\n",
       "      <td>shap_studyID_NOdisease</td>\n",
       "      <td>T_CD4_Naive</td>\n",
       "    </tr>\n",
       "  </tbody>\n",
       "</table>\n",
       "</div>"
      ],
      "text/plain": [
       "        BAS       WF1  split_idx           gene_set_seed    cell_type\n",
       "0  0.640553  0.696105          3  shap_studyID_NOdisease  T_CD4_Naive"
      ]
     },
     "execution_count": 27,
     "metadata": {},
     "output_type": "execute_result"
    }
   ],
   "source": [
    "metrics_df = pd.DataFrame.from_dict([metrics_dict]).assign(split_idx=TEST_SPLIT_IDX, gene_set_seed=SEED, cell_type=CELL_TYPE)\n",
    "metrics_df"
   ]
  },
  {
   "cell_type": "code",
   "execution_count": 28,
   "id": "bb77d141",
   "metadata": {
    "execution": {
     "iopub.execute_input": "2025-05-14T16:16:29.480619Z",
     "iopub.status.busy": "2025-05-14T16:16:29.480120Z",
     "iopub.status.idle": "2025-05-14T16:16:29.487334Z",
     "shell.execute_reply": "2025-05-14T16:16:29.487035Z"
    },
    "papermill": {
     "duration": 0.018238,
     "end_time": "2025-05-14T16:16:29.488396",
     "exception": false,
     "start_time": "2025-05-14T16:16:29.470158",
     "status": "completed"
    },
    "tags": []
   },
   "outputs": [],
   "source": [
    "out_dir = here(f'03_downstream_analysis/08_gene_importance/xgboost_external_validation/xgboost_TopN_genes/results_{N_GENES}/metrics')\n",
    "\n",
    "if not os.path.exists(out_dir):\n",
    "    os.makedirs(out_dir)\n",
    "    \n",
    "metrics_df.to_csv(os.path.join(out_dir, f'{CELL_TYPE}_{SEED}_{TEST_SPLIT_IDX}_metrics.zip'))"
   ]
  }
 ],
 "metadata": {
  "kernelspec": {
   "display_name": "Python 3 (ipykernel)",
   "language": "python",
   "name": "python3"
  },
  "language_info": {
   "codemirror_mode": {
    "name": "ipython",
    "version": 3
   },
   "file_extension": ".py",
   "mimetype": "text/x-python",
   "name": "python",
   "nbconvert_exporter": "python",
   "pygments_lexer": "ipython3",
   "version": "3.12.5"
  },
  "papermill": {
   "default_parameters": {},
   "duration": 527.258506,
   "end_time": "2025-05-14T16:16:30.213865",
   "environment_variables": {},
   "exception": null,
   "input_path": "02_xgboost_fitting_external_20genes.ipynb",
   "output_path": "results_20/executed_notebooks/xgboost_fitting_external_CT_T_CD4_Naive_GS_shap_studyID_NOdisease_seed3.ipynb",
   "parameters": {
    "CELL_TYPE": "T_CD4_Naive",
    "SEED": "shap_studyID_NOdisease",
    "TEST_SPLIT_IDX": 3
   },
   "start_time": "2025-05-14T16:07:42.955359",
   "version": "2.6.0"
  }
 },
 "nbformat": 4,
 "nbformat_minor": 5
}