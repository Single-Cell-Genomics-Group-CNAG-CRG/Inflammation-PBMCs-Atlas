{
 "cells": [
  {
   "cell_type": "code",
   "execution_count": 1,
   "id": "8c2d324e",
   "metadata": {
    "editable": true,
    "execution": {
     "iopub.execute_input": "2025-05-15T15:59:19.988541Z",
     "iopub.status.busy": "2025-05-15T15:59:19.988192Z",
     "iopub.status.idle": "2025-05-15T15:59:19.990864Z",
     "shell.execute_reply": "2025-05-15T15:59:19.990557Z"
    },
    "papermill": {
     "duration": 0.009988,
     "end_time": "2025-05-15T15:59:19.991702",
     "exception": false,
     "start_time": "2025-05-15T15:59:19.981714",
     "status": "completed"
    },
    "slideshow": {
     "slide_type": ""
    },
    "tags": [
     "parameters"
    ]
   },
   "outputs": [],
   "source": [
    "CELL_TYPE = 'pDC'\n",
    "N_GENES: int = 20\n",
    "SEED = 'shap_studyID' #'disease_NOstudy' 'study_NOdisease' or 'int' or 'shap_studyID'\n",
    "TEST_SPLIT_IDX: int = 1 #[0,4]"
   ]
  },
  {
   "cell_type": "code",
   "execution_count": 2,
   "id": "b95fd0aa",
   "metadata": {
    "execution": {
     "iopub.execute_input": "2025-05-15T15:59:20.002460Z",
     "iopub.status.busy": "2025-05-15T15:59:20.002247Z",
     "iopub.status.idle": "2025-05-15T15:59:20.004912Z",
     "shell.execute_reply": "2025-05-15T15:59:20.004612Z"
    },
    "papermill": {
     "duration": 0.008914,
     "end_time": "2025-05-15T15:59:20.005744",
     "exception": false,
     "start_time": "2025-05-15T15:59:19.996830",
     "status": "completed"
    },
    "tags": [
     "injected-parameters"
    ]
   },
   "outputs": [],
   "source": [
    "# Parameters\n",
    "CELL_TYPE = \"Mono\"\n",
    "SEED = 6\n",
    "TEST_SPLIT_IDX = 2\n"
   ]
  },
  {
   "cell_type": "code",
   "execution_count": 3,
   "id": "8c086741",
   "metadata": {
    "execution": {
     "iopub.execute_input": "2025-05-15T15:59:20.016820Z",
     "iopub.status.busy": "2025-05-15T15:59:20.016039Z",
     "iopub.status.idle": "2025-05-15T15:59:20.018474Z",
     "shell.execute_reply": "2025-05-15T15:59:20.018186Z"
    },
    "papermill": {
     "duration": 0.008552,
     "end_time": "2025-05-15T15:59:20.019292",
     "exception": false,
     "start_time": "2025-05-15T15:59:20.010740",
     "status": "completed"
    },
    "tags": []
   },
   "outputs": [],
   "source": [
    "N_SPLITS: int = 5\n",
    "N_TRIALS: int = 50"
   ]
  },
  {
   "cell_type": "code",
   "execution_count": 4,
   "id": "621edb73",
   "metadata": {
    "execution": {
     "iopub.execute_input": "2025-05-15T15:59:20.030883Z",
     "iopub.status.busy": "2025-05-15T15:59:20.030659Z",
     "iopub.status.idle": "2025-05-15T15:59:21.495167Z",
     "shell.execute_reply": "2025-05-15T15:59:21.494744Z"
    },
    "papermill": {
     "duration": 1.472004,
     "end_time": "2025-05-15T15:59:21.496363",
     "exception": false,
     "start_time": "2025-05-15T15:59:20.024359",
     "status": "completed"
    },
    "tags": []
   },
   "outputs": [],
   "source": [
    "import os\n",
    "import sys\n",
    "from pyprojroot.here import here\n",
    "import pandas as pd\n",
    "import anndata as ad\n",
    "import numpy as np\n",
    "import math\n",
    "from sklearn.model_selection import StratifiedGroupKFold\n",
    "from sklearn.preprocessing import LabelEncoder\n",
    "from sklearn.metrics import f1_score\n",
    "import matplotlib.pyplot as plt\n",
    "import seaborn as sns\n",
    "from itertools import product\n",
    "from sklearn.metrics import balanced_accuracy_score, f1_score\n",
    "import optuna\n",
    "\n",
    "import joblib\n",
    "import pickle\n",
    "import datetime\n",
    "\n",
    "import collections\n",
    "\n",
    "import xgboost\n",
    "from sklearn.preprocessing import LabelEncoder\n",
    "\n",
    "import scipy.sparse as ssp\n",
    "import joblib\n",
    "\n",
    "from dotenv import load_dotenv"
   ]
  },
  {
   "cell_type": "code",
   "execution_count": 5,
   "id": "f3398041",
   "metadata": {
    "execution": {
     "iopub.execute_input": "2025-05-15T15:59:21.509687Z",
     "iopub.status.busy": "2025-05-15T15:59:21.509366Z",
     "iopub.status.idle": "2025-05-15T15:59:21.514484Z",
     "shell.execute_reply": "2025-05-15T15:59:21.514173Z"
    },
    "papermill": {
     "duration": 0.012057,
     "end_time": "2025-05-15T15:59:21.515348",
     "exception": false,
     "start_time": "2025-05-15T15:59:21.503291",
     "status": "completed"
    },
    "tags": []
   },
   "outputs": [
    {
     "data": {
      "text/plain": [
       "True"
      ]
     },
     "execution_count": 5,
     "metadata": {},
     "output_type": "execute_result"
    }
   ],
   "source": [
    "load_dotenv()"
   ]
  },
  {
   "cell_type": "markdown",
   "id": "35cb1f16",
   "metadata": {
    "papermill": {
     "duration": 0.005309,
     "end_time": "2025-05-15T15:59:21.525585",
     "exception": false,
     "start_time": "2025-05-15T15:59:21.520276",
     "status": "completed"
    },
    "tags": []
   },
   "source": [
    "# LOAD DATASET"
   ]
  },
  {
   "cell_type": "code",
   "execution_count": 6,
   "id": "4fc5ae20",
   "metadata": {
    "execution": {
     "iopub.execute_input": "2025-05-15T15:59:21.536766Z",
     "iopub.status.busy": "2025-05-15T15:59:21.536389Z",
     "iopub.status.idle": "2025-05-15T15:59:22.688682Z",
     "shell.execute_reply": "2025-05-15T15:59:22.688218Z"
    },
    "papermill": {
     "duration": 1.159379,
     "end_time": "2025-05-15T15:59:22.689949",
     "exception": false,
     "start_time": "2025-05-15T15:59:21.530570",
     "status": "completed"
    },
    "tags": []
   },
   "outputs": [],
   "source": [
    "train_adata = ad.read_h5ad(\n",
    "    here(f'03_downstream_analysis/08_gene_importance/xgboost_external_validation/xgboost_TopN_genes/data_cellTypes/EXTERNAL_{CELL_TYPE}.filtered.log1p.h5ad')\n",
    ")"
   ]
  },
  {
   "cell_type": "code",
   "execution_count": 7,
   "id": "a536d9ed",
   "metadata": {
    "execution": {
     "iopub.execute_input": "2025-05-15T15:59:22.701372Z",
     "iopub.status.busy": "2025-05-15T15:59:22.701188Z",
     "iopub.status.idle": "2025-05-15T15:59:22.734331Z",
     "shell.execute_reply": "2025-05-15T15:59:22.733931Z"
    },
    "papermill": {
     "duration": 0.039715,
     "end_time": "2025-05-15T15:59:22.735214",
     "exception": false,
     "start_time": "2025-05-15T15:59:22.695499",
     "status": "completed"
    },
    "tags": []
   },
   "outputs": [
    {
     "name": "stdout",
     "output_type": "stream",
     "text": [
      "['ENSG00000140678' 'ENSG00000197746' 'ENSG00000123358' 'ENSG00000183019'\n",
      " 'ENSG00000066136' 'ENSG00000127022' 'ENSG00000170296' 'ENSG00000188313'\n",
      " 'ENSG00000166710' 'ENSG00000143774' 'ENSG00000060982' 'ENSG00000136732'\n",
      " 'ENSG00000204257' 'ENSG00000275302' 'ENSG00000165140' 'ENSG00000107223'\n",
      " 'ENSG00000183486' 'ENSG00000030582' 'ENSG00000128340' 'ENSG00000142546'\n",
      " 'ENSG00000141574' 'ENSG00000125743' 'ENSG00000113732' 'ENSG00000170581'\n",
      " 'ENSG00000175768' 'ENSG00000197111' 'ENSG00000171223' 'ENSG00000085514'\n",
      " 'ENSG00000110876' 'ENSG00000177575' 'ENSG00000165092' 'ENSG00000127507'\n",
      " 'ENSG00000196396' 'ENSG00000179583' 'ENSG00000130429' 'ENSG00000167283'\n",
      " 'ENSG00000187116' 'ENSG00000165732' 'ENSG00000168894' 'ENSG00000166888'\n",
      " 'ENSG00000204843' 'ENSG00000131196' 'ENSG00000185291' 'ENSG00000125740'\n",
      " 'ENSG00000089280' 'ENSG00000161944' 'ENSG00000118260' 'ENSG00000139289'\n",
      " 'ENSG00000197766' 'ENSG00000104856' 'ENSG00000182578' 'ENSG00000135404'\n",
      " 'ENSG00000143119' 'ENSG00000117602' 'ENSG00000133639' 'ENSG00000144802'\n",
      " 'ENSG00000140264' 'ENSG00000159128' 'ENSG00000163823' 'ENSG00000109861'\n",
      " 'ENSG00000179295' 'ENSG00000131042' 'ENSG00000185215' 'ENSG00000179218'\n",
      " 'ENSG00000132912' 'ENSG00000124762' 'ENSG00000173812' 'ENSG00000115267'\n",
      " 'ENSG00000005339' 'ENSG00000143575' 'ENSG00000169403' 'ENSG00000125538'\n",
      " 'ENSG00000183172' 'ENSG00000100280' 'ENSG00000176986' 'ENSG00000170345'\n",
      " 'ENSG00000185950' 'ENSG00000232810' 'ENSG00000163659' 'ENSG00000139318'\n",
      " 'ENSG00000137331' 'ENSG00000110324' 'ENSG00000142166' 'ENSG00000118508'\n",
      " 'ENSG00000101695' 'ENSG00000101017' 'ENSG00000170017' 'ENSG00000122862'\n",
      " 'ENSG00000169564' 'ENSG00000115145' 'ENSG00000196154' 'ENSG00000011422'\n",
      " 'ENSG00000143546' 'ENSG00000138678' 'ENSG00000113441' 'ENSG00000118503'\n",
      " 'ENSG00000100079' 'ENSG00000276085' 'ENSG00000127528' 'ENSG00000136826'\n",
      " 'ENSG00000117523' 'ENSG00000082074' 'ENSG00000223865' 'ENSG00000005844'\n",
      " 'ENSG00000105221' 'ENSG00000158050' 'ENSG00000164308' 'ENSG00000033800'\n",
      " 'ENSG00000163931' 'ENSG00000121879' 'ENSG00000162444' 'ENSG00000179921'\n",
      " 'ENSG00000100934' 'ENSG00000196961']\n"
     ]
    }
   ],
   "source": [
    "if SEED != 'all':\n",
    "    gene_subset = np.load(here(f'03_downstream_analysis/08_gene_importance/xgboost_external_validation/shap_gene_selection/gene_subsets_{N_GENES}/{CELL_TYPE}_{SEED}.npy'), allow_pickle=True)\n",
    "    train_adata = train_adata[:,gene_subset]\n",
    "    print(gene_subset)\n",
    "elif SEED == 'all':\n",
    "    print('Using all genes')\n",
    "else:\n",
    "    raise ValueError()"
   ]
  },
  {
   "cell_type": "code",
   "execution_count": 8,
   "id": "ef067b5e",
   "metadata": {
    "execution": {
     "iopub.execute_input": "2025-05-15T15:59:22.746415Z",
     "iopub.status.busy": "2025-05-15T15:59:22.745982Z",
     "iopub.status.idle": "2025-05-15T15:59:22.749030Z",
     "shell.execute_reply": "2025-05-15T15:59:22.748723Z"
    },
    "papermill": {
     "duration": 0.009353,
     "end_time": "2025-05-15T15:59:22.749899",
     "exception": false,
     "start_time": "2025-05-15T15:59:22.740546",
     "status": "completed"
    },
    "tags": []
   },
   "outputs": [
    {
     "data": {
      "text/plain": [
       "(137435, 114)"
      ]
     },
     "execution_count": 8,
     "metadata": {},
     "output_type": "execute_result"
    }
   ],
   "source": [
    "train_adata.shape"
   ]
  },
  {
   "cell_type": "code",
   "execution_count": 9,
   "id": "459e253d",
   "metadata": {
    "execution": {
     "iopub.execute_input": "2025-05-15T15:59:22.760781Z",
     "iopub.status.busy": "2025-05-15T15:59:22.760614Z",
     "iopub.status.idle": "2025-05-15T15:59:22.764369Z",
     "shell.execute_reply": "2025-05-15T15:59:22.764050Z"
    },
    "papermill": {
     "duration": 0.010204,
     "end_time": "2025-05-15T15:59:22.765238",
     "exception": false,
     "start_time": "2025-05-15T15:59:22.755034",
     "status": "completed"
    },
    "tags": []
   },
   "outputs": [
    {
     "data": {
      "text/plain": [
       "['RA', 'healthy', 'COVID', 'HIV', 'cirrhosis', 'CD', 'SLE', 'sepsis']\n",
       "Categories (8, object): ['CD', 'COVID', 'HIV', 'RA', 'SLE', 'cirrhosis', 'healthy', 'sepsis']"
      ]
     },
     "execution_count": 9,
     "metadata": {},
     "output_type": "execute_result"
    }
   ],
   "source": [
    "train_adata.obs.disease.unique()"
   ]
  },
  {
   "cell_type": "code",
   "execution_count": 10,
   "id": "2ac05fc1",
   "metadata": {
    "execution": {
     "iopub.execute_input": "2025-05-15T15:59:22.775942Z",
     "iopub.status.busy": "2025-05-15T15:59:22.775633Z",
     "iopub.status.idle": "2025-05-15T15:59:22.779555Z",
     "shell.execute_reply": "2025-05-15T15:59:22.779251Z"
    },
    "papermill": {
     "duration": 0.010205,
     "end_time": "2025-05-15T15:59:22.780416",
     "exception": false,
     "start_time": "2025-05-15T15:59:22.770211",
     "status": "completed"
    },
    "tags": []
   },
   "outputs": [
    {
     "data": {
      "text/plain": [
       "['SCGT00val_I0364_T0', 'SCGT00val_I036028_T0', 'SCGT00val_I036024_T0', 'SCGT00val_I036023_T0', 'SCGT00val_I036019_T0', ..., '10XGenomics_10XHC2_T0', '10XGenomics_10XHC3_T0', '10XGenomics_10XHC5_T0', '10XGenomics_10XHC7_T0', '10XGenomics_10XHC8_T0']\n",
       "Length: 86\n",
       "Categories (86, object): ['10XGenomics_10XHC1_T0', '10XGenomics_10XHC2_T0', '10XGenomics_10XHC3_T0', '10XGenomics_10XHC4_T0', ..., 'Savage2021_BRISL6_T0', 'Savage2021_BRISL7_T0', 'Savage2021_PIDA_T0', 'Savage2021_PIDB_T0']"
      ]
     },
     "execution_count": 10,
     "metadata": {},
     "output_type": "execute_result"
    }
   ],
   "source": [
    "train_adata.obs.sampleID.unique()"
   ]
  },
  {
   "cell_type": "code",
   "execution_count": 11,
   "id": "a1cb1712",
   "metadata": {
    "execution": {
     "iopub.execute_input": "2025-05-15T15:59:22.791297Z",
     "iopub.status.busy": "2025-05-15T15:59:22.791096Z",
     "iopub.status.idle": "2025-05-15T15:59:23.112925Z",
     "shell.execute_reply": "2025-05-15T15:59:23.112450Z"
    },
    "papermill": {
     "duration": 0.328587,
     "end_time": "2025-05-15T15:59:23.114149",
     "exception": false,
     "start_time": "2025-05-15T15:59:22.785562",
     "status": "completed"
    },
    "tags": []
   },
   "outputs": [],
   "source": [
    "all_idxs = np.arange(train_adata.obs.shape[0])\n",
    "left_out_splits = [s[1] for s in StratifiedGroupKFold(n_splits=N_SPLITS).split(all_idxs, train_adata.obs.disease, train_adata.obs.sampleID)]"
   ]
  },
  {
   "cell_type": "code",
   "execution_count": 12,
   "id": "0717ddde",
   "metadata": {
    "execution": {
     "iopub.execute_input": "2025-05-15T15:59:23.126102Z",
     "iopub.status.busy": "2025-05-15T15:59:23.125913Z",
     "iopub.status.idle": "2025-05-15T15:59:23.129354Z",
     "shell.execute_reply": "2025-05-15T15:59:23.129030Z"
    },
    "papermill": {
     "duration": 0.009873,
     "end_time": "2025-05-15T15:59:23.130152",
     "exception": false,
     "start_time": "2025-05-15T15:59:23.120279",
     "status": "completed"
    },
    "tags": []
   },
   "outputs": [
    {
     "data": {
      "text/plain": [
       "([0, 1, 4], 3, 2)"
      ]
     },
     "execution_count": 12,
     "metadata": {},
     "output_type": "execute_result"
    }
   ],
   "source": [
    "TRAIN_SPLIT_IDXS = [0,1,2,3,4]\n",
    "VAL_SPLIT_IDX = (TEST_SPLIT_IDX + 1) % 5\n",
    "TRAIN_SPLIT_IDXS.remove(TEST_SPLIT_IDX)\n",
    "TRAIN_SPLIT_IDXS.remove(VAL_SPLIT_IDX)\n",
    "TRAIN_SPLIT_IDXS, VAL_SPLIT_IDX, TEST_SPLIT_IDX"
   ]
  },
  {
   "cell_type": "code",
   "execution_count": 13,
   "id": "9c05a4a4",
   "metadata": {
    "execution": {
     "iopub.execute_input": "2025-05-15T15:59:23.141747Z",
     "iopub.status.busy": "2025-05-15T15:59:23.141381Z",
     "iopub.status.idle": "2025-05-15T15:59:23.143855Z",
     "shell.execute_reply": "2025-05-15T15:59:23.143512Z"
    },
    "papermill": {
     "duration": 0.00932,
     "end_time": "2025-05-15T15:59:23.144765",
     "exception": false,
     "start_time": "2025-05-15T15:59:23.135445",
     "status": "completed"
    },
    "tags": []
   },
   "outputs": [],
   "source": [
    "train_idxs = np.concatenate([left_out_splits[idx] for idx in TRAIN_SPLIT_IDXS])\n",
    "val_idxs = left_out_splits[VAL_SPLIT_IDX]\n",
    "test_idxs = left_out_splits[TEST_SPLIT_IDX]"
   ]
  },
  {
   "cell_type": "markdown",
   "id": "f4aba6b9",
   "metadata": {
    "papermill": {
     "duration": 0.005229,
     "end_time": "2025-05-15T15:59:23.155203",
     "exception": false,
     "start_time": "2025-05-15T15:59:23.149974",
     "status": "completed"
    },
    "tags": []
   },
   "source": [
    "### SUBSET DATASET INTO TRAIN/TEST/VAL SPLITS"
   ]
  },
  {
   "cell_type": "code",
   "execution_count": 14,
   "id": "75201fa0",
   "metadata": {
    "execution": {
     "iopub.execute_input": "2025-05-15T15:59:23.166346Z",
     "iopub.status.busy": "2025-05-15T15:59:23.165955Z",
     "iopub.status.idle": "2025-05-15T15:59:23.609819Z",
     "shell.execute_reply": "2025-05-15T15:59:23.609473Z"
    },
    "papermill": {
     "duration": 0.450258,
     "end_time": "2025-05-15T15:59:23.610713",
     "exception": false,
     "start_time": "2025-05-15T15:59:23.160455",
     "status": "completed"
    },
    "tags": []
   },
   "outputs": [
    {
     "data": {
      "text/plain": [
       "((81938, 114), (26851, 114), (28646, 114))"
      ]
     },
     "execution_count": 14,
     "metadata": {},
     "output_type": "execute_result"
    }
   ],
   "source": [
    "X_train = train_adata.X[train_idxs]\n",
    "X_test = train_adata.X[test_idxs]\n",
    "X_val = train_adata.X[val_idxs]\n",
    "X_train.shape, X_test.shape, X_val.shape"
   ]
  },
  {
   "cell_type": "code",
   "execution_count": 15,
   "id": "bb1c700a",
   "metadata": {
    "execution": {
     "iopub.execute_input": "2025-05-15T15:59:23.625231Z",
     "iopub.status.busy": "2025-05-15T15:59:23.625045Z",
     "iopub.status.idle": "2025-05-15T15:59:23.637721Z",
     "shell.execute_reply": "2025-05-15T15:59:23.637374Z"
    },
    "papermill": {
     "duration": 0.020561,
     "end_time": "2025-05-15T15:59:23.638640",
     "exception": false,
     "start_time": "2025-05-15T15:59:23.618079",
     "status": "completed"
    },
    "tags": []
   },
   "outputs": [
    {
     "data": {
      "text/plain": [
       "((81938,), (26851,), (28646,))"
      ]
     },
     "execution_count": 15,
     "metadata": {},
     "output_type": "execute_result"
    }
   ],
   "source": [
    "y_train = train_adata.obs.iloc[train_idxs].disease.values.astype(str)\n",
    "y_test = train_adata.obs.iloc[test_idxs].disease.values.astype(str)\n",
    "y_val = train_adata.obs.iloc[val_idxs].disease.values.astype(str)\n",
    "y_train.shape, y_test.shape, y_val.shape"
   ]
  },
  {
   "cell_type": "code",
   "execution_count": 16,
   "id": "6d1a8ea0",
   "metadata": {
    "execution": {
     "iopub.execute_input": "2025-05-15T15:59:23.650878Z",
     "iopub.status.busy": "2025-05-15T15:59:23.650654Z",
     "iopub.status.idle": "2025-05-15T15:59:23.679742Z",
     "shell.execute_reply": "2025-05-15T15:59:23.679365Z"
    },
    "papermill": {
     "duration": 0.036268,
     "end_time": "2025-05-15T15:59:23.680792",
     "exception": false,
     "start_time": "2025-05-15T15:59:23.644524",
     "status": "completed"
    },
    "tags": []
   },
   "outputs": [],
   "source": [
    "lenc = LabelEncoder()\n",
    "y_train_enc = lenc.fit_transform(y_train)\n",
    "y_val_enc = lenc.transform(y_val)\n",
    "y_test_enc = lenc.transform(y_test)"
   ]
  },
  {
   "cell_type": "markdown",
   "id": "7fa7183c",
   "metadata": {
    "papermill": {
     "duration": 0.005577,
     "end_time": "2025-05-15T15:59:23.692216",
     "exception": false,
     "start_time": "2025-05-15T15:59:23.686639",
     "status": "completed"
    },
    "tags": []
   },
   "source": [
    "### GENERATE F1 "
   ]
  },
  {
   "cell_type": "code",
   "execution_count": 17,
   "id": "220d3cb9",
   "metadata": {
    "execution": {
     "iopub.execute_input": "2025-05-15T15:59:23.704456Z",
     "iopub.status.busy": "2025-05-15T15:59:23.703956Z",
     "iopub.status.idle": "2025-05-15T15:59:23.706415Z",
     "shell.execute_reply": "2025-05-15T15:59:23.706127Z"
    },
    "papermill": {
     "duration": 0.009303,
     "end_time": "2025-05-15T15:59:23.707258",
     "exception": false,
     "start_time": "2025-05-15T15:59:23.697955",
     "status": "completed"
    },
    "tags": []
   },
   "outputs": [],
   "source": [
    "def custom_f1_score(y_true, y_pred):\n",
    "    return -f1_score(y_true, y_pred.argmax(1), average='weighted')"
   ]
  },
  {
   "cell_type": "code",
   "execution_count": 18,
   "id": "be4753e1",
   "metadata": {
    "execution": {
     "iopub.execute_input": "2025-05-15T15:59:23.719044Z",
     "iopub.status.busy": "2025-05-15T15:59:23.718715Z",
     "iopub.status.idle": "2025-05-15T15:59:23.722284Z",
     "shell.execute_reply": "2025-05-15T15:59:23.721975Z"
    },
    "papermill": {
     "duration": 0.010206,
     "end_time": "2025-05-15T15:59:23.723151",
     "exception": false,
     "start_time": "2025-05-15T15:59:23.712945",
     "status": "completed"
    },
    "tags": []
   },
   "outputs": [],
   "source": [
    "eval_metric=custom_f1_score\n",
    "eval_metric_name='custom_f1_score'\n",
    "\n",
    "def objective(trial):\n",
    "    params = {\n",
    "        'n_estimators': 1500,\n",
    "        'max_depth': trial.suggest_int('max_depth', 3, 20),\n",
    "        'min_child_weight': trial.suggest_int('min_child_weight', 1, 250),\n",
    "        'subsample': trial.suggest_float('subsample', 0.1, 1.0),\n",
    "        'colsample_bynode': trial.suggest_float('colsample_bynode', 0.1, 1.0),\n",
    "        'learning_rate': trial.suggest_float('learning_rate', 1e-3, 5e-1, log=True),\n",
    "    }\n",
    "    pruning_callback = optuna.integration.XGBoostPruningCallback(trial, f'validation_0-{eval_metric_name}')\n",
    "    es_callback = xgboost.callback.EarlyStopping(20, min_delta=0.001)\n",
    "    xgb = xgboost.XGBClassifier(\n",
    "        eval_metric=eval_metric,\n",
    "        callbacks=[pruning_callback, es_callback],\n",
    "        n_jobs=5,\n",
    "        **params\n",
    "    )\n",
    "    xgb.fit(\n",
    "        X_train, \n",
    "        y_train_enc, \n",
    "        verbose=0,\n",
    "        eval_set=[(X_val, y_val_enc)],\n",
    "    )\n",
    "    trial.set_user_attr('best_iteration', xgb.best_iteration)\n",
    "\n",
    "    return xgb.best_score"
   ]
  },
  {
   "cell_type": "code",
   "execution_count": 19,
   "id": "ad3c10c6",
   "metadata": {
    "execution": {
     "iopub.execute_input": "2025-05-15T15:59:23.734722Z",
     "iopub.status.busy": "2025-05-15T15:59:23.734531Z",
     "iopub.status.idle": "2025-05-15T16:20:05.906930Z",
     "shell.execute_reply": "2025-05-15T16:20:05.906502Z"
    },
    "papermill": {
     "duration": 1242.179176,
     "end_time": "2025-05-15T16:20:05.907918",
     "exception": false,
     "start_time": "2025-05-15T15:59:23.728742",
     "status": "completed"
    },
    "scrolled": true,
    "tags": []
   },
   "outputs": [
    {
     "name": "stderr",
     "output_type": "stream",
     "text": [
      "[I 2025-05-15 17:59:23,736] A new study created in memory with name: no-name-92935604-c8c9-429b-b4cd-43a899ebebe9\n"
     ]
    },
    {
     "name": "stderr",
     "output_type": "stream",
     "text": [
      "[I 2025-05-15 17:59:33,291] Trial 0 finished with value: -0.697984 and parameters: {'max_depth': 9, 'min_child_weight': 238, 'subsample': 0.7587945476302645, 'colsample_bynode': 0.6387926357773329, 'learning_rate': 0.0026368755339723046}. Best is trial 0 with value: -0.697984.\n"
     ]
    },
    {
     "name": "stderr",
     "output_type": "stream",
     "text": [
      "[I 2025-05-15 18:00:43,351] Trial 1 finished with value: -0.800779 and parameters: {'max_depth': 5, 'min_child_weight': 15, 'subsample': 0.8795585311974417, 'colsample_bynode': 0.6410035105688879, 'learning_rate': 0.08148293210105287}. Best is trial 1 with value: -0.800779.\n"
     ]
    },
    {
     "name": "stderr",
     "output_type": "stream",
     "text": [
      "[I 2025-05-15 18:00:54,306] Trial 2 finished with value: -0.58208 and parameters: {'max_depth': 3, 'min_child_weight': 243, 'subsample': 0.8491983767203796, 'colsample_bynode': 0.29110519961044856, 'learning_rate': 0.003095566460242371}. Best is trial 1 with value: -0.800779.\n"
     ]
    },
    {
     "name": "stderr",
     "output_type": "stream",
     "text": [
      "[I 2025-05-15 18:03:29,968] Trial 3 finished with value: -0.767338 and parameters: {'max_depth': 6, 'min_child_weight': 77, 'subsample': 0.5722807884690141, 'colsample_bynode': 0.48875051677790415, 'learning_rate': 0.006109683510122491}. Best is trial 1 with value: -0.800779.\n"
     ]
    },
    {
     "name": "stderr",
     "output_type": "stream",
     "text": [
      "[I 2025-05-15 18:05:19,870] Trial 4 finished with value: -0.783921 and parameters: {'max_depth': 14, 'min_child_weight': 35, 'subsample': 0.3629301836816964, 'colsample_bynode': 0.4297256589643226, 'learning_rate': 0.01701841881702917}. Best is trial 1 with value: -0.800779.\n"
     ]
    },
    {
     "name": "stderr",
     "output_type": "stream",
     "text": [
      "[I 2025-05-15 18:05:33,068] Trial 5 pruned. Trial was pruned at iteration 30.\n"
     ]
    },
    {
     "name": "stderr",
     "output_type": "stream",
     "text": [
      "[I 2025-05-15 18:06:00,713] Trial 6 finished with value: -0.784938 and parameters: {'max_depth': 13, 'min_child_weight': 43, 'subsample': 0.1585464336867516, 'colsample_bynode': 0.9539969835279999, 'learning_rate': 0.4038423798071558}. Best is trial 1 with value: -0.800779.\n"
     ]
    },
    {
     "name": "stderr",
     "output_type": "stream",
     "text": [
      "[I 2025-05-15 18:06:01,480] Trial 7 pruned. Trial was pruned at iteration 0.\n"
     ]
    },
    {
     "name": "stderr",
     "output_type": "stream",
     "text": [
      "[I 2025-05-15 18:06:02,189] Trial 8 pruned. Trial was pruned at iteration 0.\n"
     ]
    },
    {
     "name": "stderr",
     "output_type": "stream",
     "text": [
      "[I 2025-05-15 18:06:09,188] Trial 9 pruned. Trial was pruned at iteration 17.\n"
     ]
    },
    {
     "name": "stderr",
     "output_type": "stream",
     "text": [
      "[I 2025-05-15 18:06:10,106] Trial 10 pruned. Trial was pruned at iteration 0.\n"
     ]
    },
    {
     "name": "stderr",
     "output_type": "stream",
     "text": [
      "[I 2025-05-15 18:06:58,896] Trial 11 finished with value: -0.795897 and parameters: {'max_depth': 11, 'min_child_weight': 3, 'subsample': 0.35229864280210643, 'colsample_bynode': 0.9522656887511343, 'learning_rate': 0.4085535814821633}. Best is trial 1 with value: -0.800779.\n"
     ]
    },
    {
     "name": "stderr",
     "output_type": "stream",
     "text": [
      "[I 2025-05-15 18:08:38,575] Trial 12 finished with value: -0.803103 and parameters: {'max_depth': 20, 'min_child_weight': 3, 'subsample': 0.3693916175642251, 'colsample_bynode': 0.8079926877007318, 'learning_rate': 0.08811282856865725}. Best is trial 12 with value: -0.803103.\n"
     ]
    },
    {
     "name": "stderr",
     "output_type": "stream",
     "text": [
      "[I 2025-05-15 18:08:39,367] Trial 13 pruned. Trial was pruned at iteration 0.\n"
     ]
    },
    {
     "name": "stderr",
     "output_type": "stream",
     "text": [
      "[I 2025-05-15 18:08:40,484] Trial 14 pruned. Trial was pruned at iteration 1.\n"
     ]
    },
    {
     "name": "stderr",
     "output_type": "stream",
     "text": [
      "[I 2025-05-15 18:11:26,780] Trial 15 finished with value: -0.790884 and parameters: {'max_depth': 20, 'min_child_weight': 1, 'subsample': 0.996414878572692, 'colsample_bynode': 0.32945411727994856, 'learning_rate': 0.057934531680722316}. Best is trial 12 with value: -0.803103.\n"
     ]
    },
    {
     "name": "stderr",
     "output_type": "stream",
     "text": [
      "[I 2025-05-15 18:11:27,562] Trial 16 pruned. Trial was pruned at iteration 0.\n"
     ]
    },
    {
     "name": "stderr",
     "output_type": "stream",
     "text": [
      "[I 2025-05-15 18:11:28,379] Trial 17 pruned. Trial was pruned at iteration 0.\n"
     ]
    },
    {
     "name": "stderr",
     "output_type": "stream",
     "text": [
      "[I 2025-05-15 18:12:08,872] Trial 18 finished with value: -0.803128 and parameters: {'max_depth': 11, 'min_child_weight': 37, 'subsample': 0.47368595472697, 'colsample_bynode': 0.7202402406863758, 'learning_rate': 0.16384379577990202}. Best is trial 18 with value: -0.803128.\n"
     ]
    },
    {
     "name": "stderr",
     "output_type": "stream",
     "text": [
      "[I 2025-05-15 18:12:09,646] Trial 19 pruned. Trial was pruned at iteration 0.\n"
     ]
    },
    {
     "name": "stderr",
     "output_type": "stream",
     "text": [
      "[I 2025-05-15 18:12:49,924] Trial 20 finished with value: -0.799472 and parameters: {'max_depth': 10, 'min_child_weight': 32, 'subsample': 0.48502173267357984, 'colsample_bynode': 0.741113157198263, 'learning_rate': 0.2303111028245361}. Best is trial 18 with value: -0.803128.\n"
     ]
    },
    {
     "name": "stderr",
     "output_type": "stream",
     "text": [
      "[I 2025-05-15 18:12:50,751] Trial 21 pruned. Trial was pruned at iteration 0.\n"
     ]
    },
    {
     "name": "stderr",
     "output_type": "stream",
     "text": [
      "[I 2025-05-15 18:12:51,583] Trial 22 pruned. Trial was pruned at iteration 0.\n"
     ]
    },
    {
     "name": "stderr",
     "output_type": "stream",
     "text": [
      "[I 2025-05-15 18:12:52,334] Trial 23 pruned. Trial was pruned at iteration 0.\n"
     ]
    },
    {
     "name": "stderr",
     "output_type": "stream",
     "text": [
      "[I 2025-05-15 18:12:55,110] Trial 24 pruned. Trial was pruned at iteration 5.\n"
     ]
    },
    {
     "name": "stderr",
     "output_type": "stream",
     "text": [
      "[I 2025-05-15 18:12:55,987] Trial 25 pruned. Trial was pruned at iteration 0.\n"
     ]
    },
    {
     "name": "stderr",
     "output_type": "stream",
     "text": [
      "[I 2025-05-15 18:12:56,797] Trial 26 pruned. Trial was pruned at iteration 0.\n"
     ]
    },
    {
     "name": "stderr",
     "output_type": "stream",
     "text": [
      "[I 2025-05-15 18:12:57,692] Trial 27 pruned. Trial was pruned at iteration 0.\n"
     ]
    },
    {
     "name": "stderr",
     "output_type": "stream",
     "text": [
      "[I 2025-05-15 18:12:58,439] Trial 28 pruned. Trial was pruned at iteration 0.\n"
     ]
    },
    {
     "name": "stderr",
     "output_type": "stream",
     "text": [
      "[I 2025-05-15 18:12:59,240] Trial 29 pruned. Trial was pruned at iteration 0.\n"
     ]
    },
    {
     "name": "stderr",
     "output_type": "stream",
     "text": [
      "[I 2025-05-15 18:13:40,551] Trial 30 finished with value: -0.802495 and parameters: {'max_depth': 12, 'min_child_weight': 16, 'subsample': 0.7626637791897475, 'colsample_bynode': 0.6125329334171065, 'learning_rate': 0.30874366458011154}. Best is trial 18 with value: -0.803128.\n"
     ]
    },
    {
     "name": "stderr",
     "output_type": "stream",
     "text": [
      "[I 2025-05-15 18:14:16,601] Trial 31 finished with value: -0.798803 and parameters: {'max_depth': 12, 'min_child_weight': 14, 'subsample': 0.7815866861671141, 'colsample_bynode': 0.5908655718612915, 'learning_rate': 0.33520941417627514}. Best is trial 18 with value: -0.803128.\n"
     ]
    },
    {
     "name": "stderr",
     "output_type": "stream",
     "text": [
      "[I 2025-05-15 18:14:17,885] Trial 32 pruned. Trial was pruned at iteration 1.\n"
     ]
    },
    {
     "name": "stderr",
     "output_type": "stream",
     "text": [
      "[I 2025-05-15 18:14:59,722] Trial 33 finished with value: -0.799981 and parameters: {'max_depth': 6, 'min_child_weight': 17, 'subsample': 0.892175178830475, 'colsample_bynode': 0.6353261785012507, 'learning_rate': 0.46876803376282}. Best is trial 18 with value: -0.803128.\n"
     ]
    },
    {
     "name": "stderr",
     "output_type": "stream",
     "text": [
      "[I 2025-05-15 18:15:00,599] Trial 34 pruned. Trial was pruned at iteration 0.\n"
     ]
    },
    {
     "name": "stderr",
     "output_type": "stream",
     "text": [
      "[I 2025-05-15 18:15:02,023] Trial 35 pruned. Trial was pruned at iteration 1.\n"
     ]
    },
    {
     "name": "stderr",
     "output_type": "stream",
     "text": [
      "[I 2025-05-15 18:15:49,196] Trial 36 finished with value: -0.80269 and parameters: {'max_depth': 18, 'min_child_weight': 14, 'subsample': 0.8287686195354899, 'colsample_bynode': 0.628542476293521, 'learning_rate': 0.28886650299547334}. Best is trial 18 with value: -0.803128.\n"
     ]
    },
    {
     "name": "stderr",
     "output_type": "stream",
     "text": [
      "[I 2025-05-15 18:16:49,336] Trial 37 finished with value: -0.805429 and parameters: {'max_depth': 20, 'min_child_weight': 12, 'subsample': 0.8053900861191633, 'colsample_bynode': 0.7103695101857259, 'learning_rate': 0.284476362416667}. Best is trial 37 with value: -0.805429.\n"
     ]
    },
    {
     "name": "stderr",
     "output_type": "stream",
     "text": [
      "[I 2025-05-15 18:16:51,090] Trial 38 pruned. Trial was pruned at iteration 2.\n"
     ]
    },
    {
     "name": "stderr",
     "output_type": "stream",
     "text": [
      "[I 2025-05-15 18:16:51,893] Trial 39 pruned. Trial was pruned at iteration 0.\n"
     ]
    },
    {
     "name": "stderr",
     "output_type": "stream",
     "text": [
      "[I 2025-05-15 18:16:53,663] Trial 40 pruned. Trial was pruned at iteration 2.\n"
     ]
    },
    {
     "name": "stderr",
     "output_type": "stream",
     "text": [
      "[I 2025-05-15 18:17:35,532] Trial 41 finished with value: -0.806057 and parameters: {'max_depth': 18, 'min_child_weight': 14, 'subsample': 0.7820872344122395, 'colsample_bynode': 0.6060811768611739, 'learning_rate': 0.3327223016030865}. Best is trial 41 with value: -0.806057.\n"
     ]
    },
    {
     "name": "stderr",
     "output_type": "stream",
     "text": [
      "[I 2025-05-15 18:18:16,536] Trial 42 finished with value: -0.800361 and parameters: {'max_depth': 18, 'min_child_weight': 7, 'subsample': 0.703904989754818, 'colsample_bynode': 0.7330435822145581, 'learning_rate': 0.4923084882804738}. Best is trial 41 with value: -0.806057.\n"
     ]
    },
    {
     "name": "stderr",
     "output_type": "stream",
     "text": [
      "[I 2025-05-15 18:18:46,751] Trial 43 finished with value: -0.801985 and parameters: {'max_depth': 20, 'min_child_weight': 31, 'subsample': 0.7994261512854433, 'colsample_bynode': 0.5404671891510426, 'learning_rate': 0.3622156224912063}. Best is trial 41 with value: -0.806057.\n"
     ]
    },
    {
     "name": "stderr",
     "output_type": "stream",
     "text": [
      "[I 2025-05-15 18:18:47,885] Trial 44 pruned. Trial was pruned at iteration 0.\n"
     ]
    },
    {
     "name": "stderr",
     "output_type": "stream",
     "text": [
      "[I 2025-05-15 18:19:55,862] Trial 45 finished with value: -0.804497 and parameters: {'max_depth': 16, 'min_child_weight': 1, 'subsample': 0.5993060885364823, 'colsample_bynode': 0.7794856826875709, 'learning_rate': 0.24690417060652134}. Best is trial 41 with value: -0.806057.\n"
     ]
    },
    {
     "name": "stderr",
     "output_type": "stream",
     "text": [
      "[I 2025-05-15 18:19:57,026] Trial 46 pruned. Trial was pruned at iteration 1.\n"
     ]
    },
    {
     "name": "stderr",
     "output_type": "stream",
     "text": [
      "[I 2025-05-15 18:20:03,992] Trial 47 pruned. Trial was pruned at iteration 4.\n"
     ]
    },
    {
     "name": "stderr",
     "output_type": "stream",
     "text": [
      "[I 2025-05-15 18:20:04,705] Trial 48 pruned. Trial was pruned at iteration 0.\n"
     ]
    },
    {
     "name": "stderr",
     "output_type": "stream",
     "text": [
      "[I 2025-05-15 18:20:05,827] Trial 49 pruned. Trial was pruned at iteration 1.\n"
     ]
    }
   ],
   "source": [
    "sampler = optuna.samplers.TPESampler(seed=42)\n",
    "study = optuna.create_study(direction='minimize', sampler=sampler)\n",
    "study.optimize(objective, n_trials=N_TRIALS, gc_after_trial=True)"
   ]
  },
  {
   "cell_type": "code",
   "execution_count": 20,
   "id": "367a7a17",
   "metadata": {
    "execution": {
     "iopub.execute_input": "2025-05-15T16:20:05.927651Z",
     "iopub.status.busy": "2025-05-15T16:20:05.927236Z",
     "iopub.status.idle": "2025-05-15T16:20:05.951924Z",
     "shell.execute_reply": "2025-05-15T16:20:05.951559Z"
    },
    "papermill": {
     "duration": 0.034006,
     "end_time": "2025-05-15T16:20:05.952760",
     "exception": false,
     "start_time": "2025-05-15T16:20:05.918754",
     "status": "completed"
    },
    "tags": []
   },
   "outputs": [
    {
     "data": {
      "text/plain": [
       "['/scratch_isilon/groups/singlecell/shared/projects/Inflammation-PBMCs-Atlas/03_downstream_analysis/08_gene_importance/xgboost_external_validation/xgboost_TopN_genes/results_20/study/Mono_6_2_xgboost.pkl']"
      ]
     },
     "execution_count": 20,
     "metadata": {},
     "output_type": "execute_result"
    }
   ],
   "source": [
    "out_dir = here(f'03_downstream_analysis/08_gene_importance/xgboost_external_validation/xgboost_TopN_genes/results_{N_GENES}/study')\n",
    "\n",
    "if not os.path.exists(out_dir):\n",
    "    os.makedirs(out_dir)\n",
    "    \n",
    "joblib.dump(study,os.path.join(out_dir, f'{CELL_TYPE}_{SEED}_{TEST_SPLIT_IDX}_xgboost.pkl'))"
   ]
  },
  {
   "cell_type": "code",
   "execution_count": 21,
   "id": "45c9df00",
   "metadata": {
    "execution": {
     "iopub.execute_input": "2025-05-15T16:20:05.969187Z",
     "iopub.status.busy": "2025-05-15T16:20:05.968930Z",
     "iopub.status.idle": "2025-05-15T16:20:27.776851Z",
     "shell.execute_reply": "2025-05-15T16:20:27.776507Z"
    },
    "papermill": {
     "duration": 21.817087,
     "end_time": "2025-05-15T16:20:27.777761",
     "exception": false,
     "start_time": "2025-05-15T16:20:05.960674",
     "status": "completed"
    },
    "tags": []
   },
   "outputs": [
    {
     "data": {
      "text/html": [
       "<style>#sk-container-id-1 {\n",
       "  /* Definition of color scheme common for light and dark mode */\n",
       "  --sklearn-color-text: black;\n",
       "  --sklearn-color-line: gray;\n",
       "  /* Definition of color scheme for unfitted estimators */\n",
       "  --sklearn-color-unfitted-level-0: #fff5e6;\n",
       "  --sklearn-color-unfitted-level-1: #f6e4d2;\n",
       "  --sklearn-color-unfitted-level-2: #ffe0b3;\n",
       "  --sklearn-color-unfitted-level-3: chocolate;\n",
       "  /* Definition of color scheme for fitted estimators */\n",
       "  --sklearn-color-fitted-level-0: #f0f8ff;\n",
       "  --sklearn-color-fitted-level-1: #d4ebff;\n",
       "  --sklearn-color-fitted-level-2: #b3dbfd;\n",
       "  --sklearn-color-fitted-level-3: cornflowerblue;\n",
       "\n",
       "  /* Specific color for light theme */\n",
       "  --sklearn-color-text-on-default-background: var(--sg-text-color, var(--theme-code-foreground, var(--jp-content-font-color1, black)));\n",
       "  --sklearn-color-background: var(--sg-background-color, var(--theme-background, var(--jp-layout-color0, white)));\n",
       "  --sklearn-color-border-box: var(--sg-text-color, var(--theme-code-foreground, var(--jp-content-font-color1, black)));\n",
       "  --sklearn-color-icon: #696969;\n",
       "\n",
       "  @media (prefers-color-scheme: dark) {\n",
       "    /* Redefinition of color scheme for dark theme */\n",
       "    --sklearn-color-text-on-default-background: var(--sg-text-color, var(--theme-code-foreground, var(--jp-content-font-color1, white)));\n",
       "    --sklearn-color-background: var(--sg-background-color, var(--theme-background, var(--jp-layout-color0, #111)));\n",
       "    --sklearn-color-border-box: var(--sg-text-color, var(--theme-code-foreground, var(--jp-content-font-color1, white)));\n",
       "    --sklearn-color-icon: #878787;\n",
       "  }\n",
       "}\n",
       "\n",
       "#sk-container-id-1 {\n",
       "  color: var(--sklearn-color-text);\n",
       "}\n",
       "\n",
       "#sk-container-id-1 pre {\n",
       "  padding: 0;\n",
       "}\n",
       "\n",
       "#sk-container-id-1 input.sk-hidden--visually {\n",
       "  border: 0;\n",
       "  clip: rect(1px 1px 1px 1px);\n",
       "  clip: rect(1px, 1px, 1px, 1px);\n",
       "  height: 1px;\n",
       "  margin: -1px;\n",
       "  overflow: hidden;\n",
       "  padding: 0;\n",
       "  position: absolute;\n",
       "  width: 1px;\n",
       "}\n",
       "\n",
       "#sk-container-id-1 div.sk-dashed-wrapped {\n",
       "  border: 1px dashed var(--sklearn-color-line);\n",
       "  margin: 0 0.4em 0.5em 0.4em;\n",
       "  box-sizing: border-box;\n",
       "  padding-bottom: 0.4em;\n",
       "  background-color: var(--sklearn-color-background);\n",
       "}\n",
       "\n",
       "#sk-container-id-1 div.sk-container {\n",
       "  /* jupyter's `normalize.less` sets `[hidden] { display: none; }`\n",
       "     but bootstrap.min.css set `[hidden] { display: none !important; }`\n",
       "     so we also need the `!important` here to be able to override the\n",
       "     default hidden behavior on the sphinx rendered scikit-learn.org.\n",
       "     See: https://github.com/scikit-learn/scikit-learn/issues/21755 */\n",
       "  display: inline-block !important;\n",
       "  position: relative;\n",
       "}\n",
       "\n",
       "#sk-container-id-1 div.sk-text-repr-fallback {\n",
       "  display: none;\n",
       "}\n",
       "\n",
       "div.sk-parallel-item,\n",
       "div.sk-serial,\n",
       "div.sk-item {\n",
       "  /* draw centered vertical line to link estimators */\n",
       "  background-image: linear-gradient(var(--sklearn-color-text-on-default-background), var(--sklearn-color-text-on-default-background));\n",
       "  background-size: 2px 100%;\n",
       "  background-repeat: no-repeat;\n",
       "  background-position: center center;\n",
       "}\n",
       "\n",
       "/* Parallel-specific style estimator block */\n",
       "\n",
       "#sk-container-id-1 div.sk-parallel-item::after {\n",
       "  content: \"\";\n",
       "  width: 100%;\n",
       "  border-bottom: 2px solid var(--sklearn-color-text-on-default-background);\n",
       "  flex-grow: 1;\n",
       "}\n",
       "\n",
       "#sk-container-id-1 div.sk-parallel {\n",
       "  display: flex;\n",
       "  align-items: stretch;\n",
       "  justify-content: center;\n",
       "  background-color: var(--sklearn-color-background);\n",
       "  position: relative;\n",
       "}\n",
       "\n",
       "#sk-container-id-1 div.sk-parallel-item {\n",
       "  display: flex;\n",
       "  flex-direction: column;\n",
       "}\n",
       "\n",
       "#sk-container-id-1 div.sk-parallel-item:first-child::after {\n",
       "  align-self: flex-end;\n",
       "  width: 50%;\n",
       "}\n",
       "\n",
       "#sk-container-id-1 div.sk-parallel-item:last-child::after {\n",
       "  align-self: flex-start;\n",
       "  width: 50%;\n",
       "}\n",
       "\n",
       "#sk-container-id-1 div.sk-parallel-item:only-child::after {\n",
       "  width: 0;\n",
       "}\n",
       "\n",
       "/* Serial-specific style estimator block */\n",
       "\n",
       "#sk-container-id-1 div.sk-serial {\n",
       "  display: flex;\n",
       "  flex-direction: column;\n",
       "  align-items: center;\n",
       "  background-color: var(--sklearn-color-background);\n",
       "  padding-right: 1em;\n",
       "  padding-left: 1em;\n",
       "}\n",
       "\n",
       "\n",
       "/* Toggleable style: style used for estimator/Pipeline/ColumnTransformer box that is\n",
       "clickable and can be expanded/collapsed.\n",
       "- Pipeline and ColumnTransformer use this feature and define the default style\n",
       "- Estimators will overwrite some part of the style using the `sk-estimator` class\n",
       "*/\n",
       "\n",
       "/* Pipeline and ColumnTransformer style (default) */\n",
       "\n",
       "#sk-container-id-1 div.sk-toggleable {\n",
       "  /* Default theme specific background. It is overwritten whether we have a\n",
       "  specific estimator or a Pipeline/ColumnTransformer */\n",
       "  background-color: var(--sklearn-color-background);\n",
       "}\n",
       "\n",
       "/* Toggleable label */\n",
       "#sk-container-id-1 label.sk-toggleable__label {\n",
       "  cursor: pointer;\n",
       "  display: block;\n",
       "  width: 100%;\n",
       "  margin-bottom: 0;\n",
       "  padding: 0.5em;\n",
       "  box-sizing: border-box;\n",
       "  text-align: center;\n",
       "}\n",
       "\n",
       "#sk-container-id-1 label.sk-toggleable__label-arrow:before {\n",
       "  /* Arrow on the left of the label */\n",
       "  content: \"▸\";\n",
       "  float: left;\n",
       "  margin-right: 0.25em;\n",
       "  color: var(--sklearn-color-icon);\n",
       "}\n",
       "\n",
       "#sk-container-id-1 label.sk-toggleable__label-arrow:hover:before {\n",
       "  color: var(--sklearn-color-text);\n",
       "}\n",
       "\n",
       "/* Toggleable content - dropdown */\n",
       "\n",
       "#sk-container-id-1 div.sk-toggleable__content {\n",
       "  max-height: 0;\n",
       "  max-width: 0;\n",
       "  overflow: hidden;\n",
       "  text-align: left;\n",
       "  /* unfitted */\n",
       "  background-color: var(--sklearn-color-unfitted-level-0);\n",
       "}\n",
       "\n",
       "#sk-container-id-1 div.sk-toggleable__content.fitted {\n",
       "  /* fitted */\n",
       "  background-color: var(--sklearn-color-fitted-level-0);\n",
       "}\n",
       "\n",
       "#sk-container-id-1 div.sk-toggleable__content pre {\n",
       "  margin: 0.2em;\n",
       "  border-radius: 0.25em;\n",
       "  color: var(--sklearn-color-text);\n",
       "  /* unfitted */\n",
       "  background-color: var(--sklearn-color-unfitted-level-0);\n",
       "}\n",
       "\n",
       "#sk-container-id-1 div.sk-toggleable__content.fitted pre {\n",
       "  /* unfitted */\n",
       "  background-color: var(--sklearn-color-fitted-level-0);\n",
       "}\n",
       "\n",
       "#sk-container-id-1 input.sk-toggleable__control:checked~div.sk-toggleable__content {\n",
       "  /* Expand drop-down */\n",
       "  max-height: 200px;\n",
       "  max-width: 100%;\n",
       "  overflow: auto;\n",
       "}\n",
       "\n",
       "#sk-container-id-1 input.sk-toggleable__control:checked~label.sk-toggleable__label-arrow:before {\n",
       "  content: \"▾\";\n",
       "}\n",
       "\n",
       "/* Pipeline/ColumnTransformer-specific style */\n",
       "\n",
       "#sk-container-id-1 div.sk-label input.sk-toggleable__control:checked~label.sk-toggleable__label {\n",
       "  color: var(--sklearn-color-text);\n",
       "  background-color: var(--sklearn-color-unfitted-level-2);\n",
       "}\n",
       "\n",
       "#sk-container-id-1 div.sk-label.fitted input.sk-toggleable__control:checked~label.sk-toggleable__label {\n",
       "  background-color: var(--sklearn-color-fitted-level-2);\n",
       "}\n",
       "\n",
       "/* Estimator-specific style */\n",
       "\n",
       "/* Colorize estimator box */\n",
       "#sk-container-id-1 div.sk-estimator input.sk-toggleable__control:checked~label.sk-toggleable__label {\n",
       "  /* unfitted */\n",
       "  background-color: var(--sklearn-color-unfitted-level-2);\n",
       "}\n",
       "\n",
       "#sk-container-id-1 div.sk-estimator.fitted input.sk-toggleable__control:checked~label.sk-toggleable__label {\n",
       "  /* fitted */\n",
       "  background-color: var(--sklearn-color-fitted-level-2);\n",
       "}\n",
       "\n",
       "#sk-container-id-1 div.sk-label label.sk-toggleable__label,\n",
       "#sk-container-id-1 div.sk-label label {\n",
       "  /* The background is the default theme color */\n",
       "  color: var(--sklearn-color-text-on-default-background);\n",
       "}\n",
       "\n",
       "/* On hover, darken the color of the background */\n",
       "#sk-container-id-1 div.sk-label:hover label.sk-toggleable__label {\n",
       "  color: var(--sklearn-color-text);\n",
       "  background-color: var(--sklearn-color-unfitted-level-2);\n",
       "}\n",
       "\n",
       "/* Label box, darken color on hover, fitted */\n",
       "#sk-container-id-1 div.sk-label.fitted:hover label.sk-toggleable__label.fitted {\n",
       "  color: var(--sklearn-color-text);\n",
       "  background-color: var(--sklearn-color-fitted-level-2);\n",
       "}\n",
       "\n",
       "/* Estimator label */\n",
       "\n",
       "#sk-container-id-1 div.sk-label label {\n",
       "  font-family: monospace;\n",
       "  font-weight: bold;\n",
       "  display: inline-block;\n",
       "  line-height: 1.2em;\n",
       "}\n",
       "\n",
       "#sk-container-id-1 div.sk-label-container {\n",
       "  text-align: center;\n",
       "}\n",
       "\n",
       "/* Estimator-specific */\n",
       "#sk-container-id-1 div.sk-estimator {\n",
       "  font-family: monospace;\n",
       "  border: 1px dotted var(--sklearn-color-border-box);\n",
       "  border-radius: 0.25em;\n",
       "  box-sizing: border-box;\n",
       "  margin-bottom: 0.5em;\n",
       "  /* unfitted */\n",
       "  background-color: var(--sklearn-color-unfitted-level-0);\n",
       "}\n",
       "\n",
       "#sk-container-id-1 div.sk-estimator.fitted {\n",
       "  /* fitted */\n",
       "  background-color: var(--sklearn-color-fitted-level-0);\n",
       "}\n",
       "\n",
       "/* on hover */\n",
       "#sk-container-id-1 div.sk-estimator:hover {\n",
       "  /* unfitted */\n",
       "  background-color: var(--sklearn-color-unfitted-level-2);\n",
       "}\n",
       "\n",
       "#sk-container-id-1 div.sk-estimator.fitted:hover {\n",
       "  /* fitted */\n",
       "  background-color: var(--sklearn-color-fitted-level-2);\n",
       "}\n",
       "\n",
       "/* Specification for estimator info (e.g. \"i\" and \"?\") */\n",
       "\n",
       "/* Common style for \"i\" and \"?\" */\n",
       "\n",
       ".sk-estimator-doc-link,\n",
       "a:link.sk-estimator-doc-link,\n",
       "a:visited.sk-estimator-doc-link {\n",
       "  float: right;\n",
       "  font-size: smaller;\n",
       "  line-height: 1em;\n",
       "  font-family: monospace;\n",
       "  background-color: var(--sklearn-color-background);\n",
       "  border-radius: 1em;\n",
       "  height: 1em;\n",
       "  width: 1em;\n",
       "  text-decoration: none !important;\n",
       "  margin-left: 1ex;\n",
       "  /* unfitted */\n",
       "  border: var(--sklearn-color-unfitted-level-1) 1pt solid;\n",
       "  color: var(--sklearn-color-unfitted-level-1);\n",
       "}\n",
       "\n",
       ".sk-estimator-doc-link.fitted,\n",
       "a:link.sk-estimator-doc-link.fitted,\n",
       "a:visited.sk-estimator-doc-link.fitted {\n",
       "  /* fitted */\n",
       "  border: var(--sklearn-color-fitted-level-1) 1pt solid;\n",
       "  color: var(--sklearn-color-fitted-level-1);\n",
       "}\n",
       "\n",
       "/* On hover */\n",
       "div.sk-estimator:hover .sk-estimator-doc-link:hover,\n",
       ".sk-estimator-doc-link:hover,\n",
       "div.sk-label-container:hover .sk-estimator-doc-link:hover,\n",
       ".sk-estimator-doc-link:hover {\n",
       "  /* unfitted */\n",
       "  background-color: var(--sklearn-color-unfitted-level-3);\n",
       "  color: var(--sklearn-color-background);\n",
       "  text-decoration: none;\n",
       "}\n",
       "\n",
       "div.sk-estimator.fitted:hover .sk-estimator-doc-link.fitted:hover,\n",
       ".sk-estimator-doc-link.fitted:hover,\n",
       "div.sk-label-container:hover .sk-estimator-doc-link.fitted:hover,\n",
       ".sk-estimator-doc-link.fitted:hover {\n",
       "  /* fitted */\n",
       "  background-color: var(--sklearn-color-fitted-level-3);\n",
       "  color: var(--sklearn-color-background);\n",
       "  text-decoration: none;\n",
       "}\n",
       "\n",
       "/* Span, style for the box shown on hovering the info icon */\n",
       ".sk-estimator-doc-link span {\n",
       "  display: none;\n",
       "  z-index: 9999;\n",
       "  position: relative;\n",
       "  font-weight: normal;\n",
       "  right: .2ex;\n",
       "  padding: .5ex;\n",
       "  margin: .5ex;\n",
       "  width: min-content;\n",
       "  min-width: 20ex;\n",
       "  max-width: 50ex;\n",
       "  color: var(--sklearn-color-text);\n",
       "  box-shadow: 2pt 2pt 4pt #999;\n",
       "  /* unfitted */\n",
       "  background: var(--sklearn-color-unfitted-level-0);\n",
       "  border: .5pt solid var(--sklearn-color-unfitted-level-3);\n",
       "}\n",
       "\n",
       ".sk-estimator-doc-link.fitted span {\n",
       "  /* fitted */\n",
       "  background: var(--sklearn-color-fitted-level-0);\n",
       "  border: var(--sklearn-color-fitted-level-3);\n",
       "}\n",
       "\n",
       ".sk-estimator-doc-link:hover span {\n",
       "  display: block;\n",
       "}\n",
       "\n",
       "/* \"?\"-specific style due to the `<a>` HTML tag */\n",
       "\n",
       "#sk-container-id-1 a.estimator_doc_link {\n",
       "  float: right;\n",
       "  font-size: 1rem;\n",
       "  line-height: 1em;\n",
       "  font-family: monospace;\n",
       "  background-color: var(--sklearn-color-background);\n",
       "  border-radius: 1rem;\n",
       "  height: 1rem;\n",
       "  width: 1rem;\n",
       "  text-decoration: none;\n",
       "  /* unfitted */\n",
       "  color: var(--sklearn-color-unfitted-level-1);\n",
       "  border: var(--sklearn-color-unfitted-level-1) 1pt solid;\n",
       "}\n",
       "\n",
       "#sk-container-id-1 a.estimator_doc_link.fitted {\n",
       "  /* fitted */\n",
       "  border: var(--sklearn-color-fitted-level-1) 1pt solid;\n",
       "  color: var(--sklearn-color-fitted-level-1);\n",
       "}\n",
       "\n",
       "/* On hover */\n",
       "#sk-container-id-1 a.estimator_doc_link:hover {\n",
       "  /* unfitted */\n",
       "  background-color: var(--sklearn-color-unfitted-level-3);\n",
       "  color: var(--sklearn-color-background);\n",
       "  text-decoration: none;\n",
       "}\n",
       "\n",
       "#sk-container-id-1 a.estimator_doc_link.fitted:hover {\n",
       "  /* fitted */\n",
       "  background-color: var(--sklearn-color-fitted-level-3);\n",
       "}\n",
       "</style><div id=\"sk-container-id-1\" class=\"sk-top-container\"><div class=\"sk-text-repr-fallback\"><pre>XGBClassifier(base_score=None, booster=None, callbacks=None,\n",
       "              colsample_bylevel=None, colsample_bynode=0.6060811768611739,\n",
       "              colsample_bytree=None, device=None, early_stopping_rounds=None,\n",
       "              enable_categorical=False,\n",
       "              eval_metric=&lt;function custom_f1_score at 0x7f62d51ffb00&gt;,\n",
       "              feature_types=None, gamma=None, grow_policy=None,\n",
       "              importance_type=None, interaction_constraints=None,\n",
       "              learning_rate=0.3327223016030865, max_bin=None,\n",
       "              max_cat_threshold=None, max_cat_to_onehot=None,\n",
       "              max_delta_step=None, max_depth=18, max_leaves=None,\n",
       "              min_child_weight=14, missing=nan, monotone_constraints=None,\n",
       "              multi_strategy=None, n_estimators=100, n_jobs=None,\n",
       "              num_parallel_tree=None, objective=&#x27;multi:softprob&#x27;, ...)</pre><b>In a Jupyter environment, please rerun this cell to show the HTML representation or trust the notebook. <br />On GitHub, the HTML representation is unable to render, please try loading this page with nbviewer.org.</b></div><div class=\"sk-container\" hidden><div class=\"sk-item\"><div class=\"sk-estimator fitted sk-toggleable\"><input class=\"sk-toggleable__control sk-hidden--visually\" id=\"sk-estimator-id-1\" type=\"checkbox\" checked><label for=\"sk-estimator-id-1\" class=\"sk-toggleable__label fitted sk-toggleable__label-arrow fitted\">&nbsp;XGBClassifier<span class=\"sk-estimator-doc-link fitted\">i<span>Fitted</span></span></label><div class=\"sk-toggleable__content fitted\"><pre>XGBClassifier(base_score=None, booster=None, callbacks=None,\n",
       "              colsample_bylevel=None, colsample_bynode=0.6060811768611739,\n",
       "              colsample_bytree=None, device=None, early_stopping_rounds=None,\n",
       "              enable_categorical=False,\n",
       "              eval_metric=&lt;function custom_f1_score at 0x7f62d51ffb00&gt;,\n",
       "              feature_types=None, gamma=None, grow_policy=None,\n",
       "              importance_type=None, interaction_constraints=None,\n",
       "              learning_rate=0.3327223016030865, max_bin=None,\n",
       "              max_cat_threshold=None, max_cat_to_onehot=None,\n",
       "              max_delta_step=None, max_depth=18, max_leaves=None,\n",
       "              min_child_weight=14, missing=nan, monotone_constraints=None,\n",
       "              multi_strategy=None, n_estimators=100, n_jobs=None,\n",
       "              num_parallel_tree=None, objective=&#x27;multi:softprob&#x27;, ...)</pre></div> </div></div></div></div>"
      ],
      "text/plain": [
       "XGBClassifier(base_score=None, booster=None, callbacks=None,\n",
       "              colsample_bylevel=None, colsample_bynode=0.6060811768611739,\n",
       "              colsample_bytree=None, device=None, early_stopping_rounds=None,\n",
       "              enable_categorical=False,\n",
       "              eval_metric=<function custom_f1_score at 0x7f62d51ffb00>,\n",
       "              feature_types=None, gamma=None, grow_policy=None,\n",
       "              importance_type=None, interaction_constraints=None,\n",
       "              learning_rate=0.3327223016030865, max_bin=None,\n",
       "              max_cat_threshold=None, max_cat_to_onehot=None,\n",
       "              max_delta_step=None, max_depth=18, max_leaves=None,\n",
       "              min_child_weight=14, missing=nan, monotone_constraints=None,\n",
       "              multi_strategy=None, n_estimators=100, n_jobs=None,\n",
       "              num_parallel_tree=None, objective='multi:softprob', ...)"
      ]
     },
     "execution_count": 21,
     "metadata": {},
     "output_type": "execute_result"
    }
   ],
   "source": [
    "n_estimators = int(study.best_trial.user_attrs['best_iteration']*1.2)\n",
    "xgb = xgboost.XGBClassifier(\n",
    "        eval_metric=eval_metric,\n",
    "        n_estimators=n_estimators,\n",
    "        **study.best_trial.params\n",
    "    )\n",
    "xgb.fit(\n",
    "    ssp.vstack((X_train, X_val)), \n",
    "    np.concatenate((y_train_enc, y_val_enc)),\n",
    "    verbose=1,\n",
    ")"
   ]
  },
  {
   "cell_type": "code",
   "execution_count": 22,
   "id": "ac0b81f7",
   "metadata": {
    "execution": {
     "iopub.execute_input": "2025-05-15T16:20:27.797731Z",
     "iopub.status.busy": "2025-05-15T16:20:27.797548Z",
     "iopub.status.idle": "2025-05-15T16:20:27.852753Z",
     "shell.execute_reply": "2025-05-15T16:20:27.852389Z"
    },
    "papermill": {
     "duration": 0.065043,
     "end_time": "2025-05-15T16:20:27.853676",
     "exception": false,
     "start_time": "2025-05-15T16:20:27.788633",
     "status": "completed"
    },
    "tags": []
   },
   "outputs": [
    {
     "data": {
      "text/plain": [
       "['/scratch_isilon/groups/singlecell/shared/projects/Inflammation-PBMCs-Atlas/03_downstream_analysis/08_gene_importance/xgboost_external_validation/xgboost_TopN_genes/results_20/best_model/Mono_6_2_xgb.json']"
      ]
     },
     "execution_count": 22,
     "metadata": {},
     "output_type": "execute_result"
    }
   ],
   "source": [
    "out_dir = here(f'03_downstream_analysis/08_gene_importance/xgboost_external_validation/xgboost_TopN_genes/results_{N_GENES}/best_model')\n",
    "\n",
    "if not os.path.exists(out_dir):\n",
    "    os.makedirs(out_dir)\n",
    "    \n",
    "joblib.dump(xgb, os.path.join(out_dir, f'{CELL_TYPE}_{SEED}_{TEST_SPLIT_IDX}_xgb.json'))"
   ]
  },
  {
   "cell_type": "code",
   "execution_count": 23,
   "id": "2480a4c7",
   "metadata": {
    "execution": {
     "iopub.execute_input": "2025-05-15T16:20:27.872664Z",
     "iopub.status.busy": "2025-05-15T16:20:27.872335Z",
     "iopub.status.idle": "2025-05-15T16:20:28.564511Z",
     "shell.execute_reply": "2025-05-15T16:20:28.564020Z"
    },
    "papermill": {
     "duration": 0.702835,
     "end_time": "2025-05-15T16:20:28.565770",
     "exception": false,
     "start_time": "2025-05-15T16:20:27.862935",
     "status": "completed"
    },
    "tags": []
   },
   "outputs": [],
   "source": [
    "df_pred_test = pd.DataFrame(dict(\n",
    "    cell_id=train_adata.obs.iloc[test_idxs].index.values,\n",
    "    y_true=y_test, \n",
    "    y_true_code=y_test_enc, \n",
    "    y_pred=xgb.predict(X_test))).set_index('cell_id')"
   ]
  },
  {
   "cell_type": "code",
   "execution_count": 24,
   "id": "13e601ae",
   "metadata": {
    "execution": {
     "iopub.execute_input": "2025-05-15T16:20:28.586454Z",
     "iopub.status.busy": "2025-05-15T16:20:28.586262Z",
     "iopub.status.idle": "2025-05-15T16:20:28.718535Z",
     "shell.execute_reply": "2025-05-15T16:20:28.718030Z"
    },
    "papermill": {
     "duration": 0.143049,
     "end_time": "2025-05-15T16:20:28.719681",
     "exception": false,
     "start_time": "2025-05-15T16:20:28.576632",
     "status": "completed"
    },
    "tags": []
   },
   "outputs": [],
   "source": [
    "out_dir = here(f'03_downstream_analysis/08_gene_importance/xgboost_external_validation/xgboost_TopN_genes/results_{N_GENES}/predictions')\n",
    "\n",
    "if not os.path.exists(out_dir):\n",
    "    os.makedirs(out_dir)\n",
    "    \n",
    "df_pred_test.to_csv(os.path.join(out_dir, f'{CELL_TYPE}_{SEED}_{TEST_SPLIT_IDX}_pred_test.zip'))"
   ]
  },
  {
   "cell_type": "code",
   "execution_count": 25,
   "id": "fb0d3b13",
   "metadata": {
    "execution": {
     "iopub.execute_input": "2025-05-15T16:20:28.738415Z",
     "iopub.status.busy": "2025-05-15T16:20:28.738190Z",
     "iopub.status.idle": "2025-05-15T16:20:28.756991Z",
     "shell.execute_reply": "2025-05-15T16:20:28.756588Z"
    },
    "papermill": {
     "duration": 0.029206,
     "end_time": "2025-05-15T16:20:28.757813",
     "exception": false,
     "start_time": "2025-05-15T16:20:28.728607",
     "status": "completed"
    },
    "tags": []
   },
   "outputs": [
    {
     "name": "stderr",
     "output_type": "stream",
     "text": [
      "/scratch_isilon/groups/singlecell/shared/conda_env/xgboost-cpu/lib/python3.12/site-packages/sklearn/metrics/_classification.py:2466: UserWarning: y_pred contains classes not in y_true\n",
      "  warnings.warn(\"y_pred contains classes not in y_true\")\n"
     ]
    }
   ],
   "source": [
    "metrics_dict = dict(\n",
    "    BAS=balanced_accuracy_score(y_true=df_pred_test.y_true_code, y_pred=df_pred_test.y_pred), WF1=f1_score(y_true=df_pred_test.y_true_code, y_pred=df_pred_test.y_pred,average='weighted'))"
   ]
  },
  {
   "cell_type": "code",
   "execution_count": 26,
   "id": "cd50b271",
   "metadata": {
    "execution": {
     "iopub.execute_input": "2025-05-15T16:20:28.776100Z",
     "iopub.status.busy": "2025-05-15T16:20:28.775856Z",
     "iopub.status.idle": "2025-05-15T16:20:28.778611Z",
     "shell.execute_reply": "2025-05-15T16:20:28.778329Z"
    },
    "papermill": {
     "duration": 0.012536,
     "end_time": "2025-05-15T16:20:28.779419",
     "exception": false,
     "start_time": "2025-05-15T16:20:28.766883",
     "status": "completed"
    },
    "tags": []
   },
   "outputs": [
    {
     "data": {
      "text/plain": [
       "{'BAS': 0.646188157042287, 'WF1': 0.832346782711128}"
      ]
     },
     "execution_count": 26,
     "metadata": {},
     "output_type": "execute_result"
    }
   ],
   "source": [
    "metrics_dict"
   ]
  },
  {
   "cell_type": "code",
   "execution_count": 27,
   "id": "928c95e1",
   "metadata": {
    "execution": {
     "iopub.execute_input": "2025-05-15T16:20:28.797359Z",
     "iopub.status.busy": "2025-05-15T16:20:28.796890Z",
     "iopub.status.idle": "2025-05-15T16:20:28.805254Z",
     "shell.execute_reply": "2025-05-15T16:20:28.804947Z"
    },
    "papermill": {
     "duration": 0.018134,
     "end_time": "2025-05-15T16:20:28.806068",
     "exception": false,
     "start_time": "2025-05-15T16:20:28.787934",
     "status": "completed"
    },
    "tags": []
   },
   "outputs": [
    {
     "data": {
      "text/html": [
       "<div>\n",
       "<style scoped>\n",
       "    .dataframe tbody tr th:only-of-type {\n",
       "        vertical-align: middle;\n",
       "    }\n",
       "\n",
       "    .dataframe tbody tr th {\n",
       "        vertical-align: top;\n",
       "    }\n",
       "\n",
       "    .dataframe thead th {\n",
       "        text-align: right;\n",
       "    }\n",
       "</style>\n",
       "<table border=\"1\" class=\"dataframe\">\n",
       "  <thead>\n",
       "    <tr style=\"text-align: right;\">\n",
       "      <th></th>\n",
       "      <th>BAS</th>\n",
       "      <th>WF1</th>\n",
       "      <th>split_idx</th>\n",
       "      <th>gene_set_seed</th>\n",
       "      <th>cell_type</th>\n",
       "    </tr>\n",
       "  </thead>\n",
       "  <tbody>\n",
       "    <tr>\n",
       "      <th>0</th>\n",
       "      <td>0.646188</td>\n",
       "      <td>0.832347</td>\n",
       "      <td>2</td>\n",
       "      <td>6</td>\n",
       "      <td>Mono</td>\n",
       "    </tr>\n",
       "  </tbody>\n",
       "</table>\n",
       "</div>"
      ],
      "text/plain": [
       "        BAS       WF1  split_idx  gene_set_seed cell_type\n",
       "0  0.646188  0.832347          2              6      Mono"
      ]
     },
     "execution_count": 27,
     "metadata": {},
     "output_type": "execute_result"
    }
   ],
   "source": [
    "metrics_df = pd.DataFrame.from_dict([metrics_dict]).assign(split_idx=TEST_SPLIT_IDX, gene_set_seed=SEED, cell_type=CELL_TYPE)\n",
    "metrics_df"
   ]
  },
  {
   "cell_type": "code",
   "execution_count": 28,
   "id": "8a976070",
   "metadata": {
    "execution": {
     "iopub.execute_input": "2025-05-15T16:20:28.825727Z",
     "iopub.status.busy": "2025-05-15T16:20:28.825411Z",
     "iopub.status.idle": "2025-05-15T16:20:28.833734Z",
     "shell.execute_reply": "2025-05-15T16:20:28.833405Z"
    },
    "papermill": {
     "duration": 0.018536,
     "end_time": "2025-05-15T16:20:28.834540",
     "exception": false,
     "start_time": "2025-05-15T16:20:28.816004",
     "status": "completed"
    },
    "tags": []
   },
   "outputs": [],
   "source": [
    "out_dir = here(f'03_downstream_analysis/08_gene_importance/xgboost_external_validation/xgboost_TopN_genes/results_{N_GENES}/metrics')\n",
    "\n",
    "if not os.path.exists(out_dir):\n",
    "    os.makedirs(out_dir)\n",
    "    \n",
    "metrics_df.to_csv(os.path.join(out_dir, f'{CELL_TYPE}_{SEED}_{TEST_SPLIT_IDX}_metrics.zip'))"
   ]
  }
 ],
 "metadata": {
  "kernelspec": {
   "display_name": "Python 3 (ipykernel)",
   "language": "python",
   "name": "python3"
  },
  "language_info": {
   "codemirror_mode": {
    "name": "ipython",
    "version": 3
   },
   "file_extension": ".py",
   "mimetype": "text/x-python",
   "name": "python",
   "nbconvert_exporter": "python",
   "pygments_lexer": "ipython3",
   "version": "3.12.5"
  },
  "papermill": {
   "default_parameters": {},
   "duration": 1270.653669,
   "end_time": "2025-05-15T16:20:29.460792",
   "environment_variables": {},
   "exception": null,
   "input_path": "02_xgboost_fitting_external_20genes.ipynb",
   "output_path": "results_20/executed_notebooks/xgboost_fitting_external_CT_Mono_GS_6_seed2.ipynb",
   "parameters": {
    "CELL_TYPE": "Mono",
    "SEED": 6,
    "TEST_SPLIT_IDX": 2
   },
   "start_time": "2025-05-15T15:59:18.807123",
   "version": "2.6.0"
  }
 },
 "nbformat": 4,
 "nbformat_minor": 5
}