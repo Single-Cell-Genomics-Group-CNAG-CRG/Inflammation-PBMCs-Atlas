{
 "cells": [
  {
   "cell_type": "code",
   "execution_count": 1,
   "id": "c027cda6",
   "metadata": {
    "editable": true,
    "execution": {
     "iopub.execute_input": "2025-05-15T16:01:03.758700Z",
     "iopub.status.busy": "2025-05-15T16:01:03.758311Z",
     "iopub.status.idle": "2025-05-15T16:01:03.761328Z",
     "shell.execute_reply": "2025-05-15T16:01:03.761016Z"
    },
    "papermill": {
     "duration": 0.010949,
     "end_time": "2025-05-15T16:01:03.762145",
     "exception": false,
     "start_time": "2025-05-15T16:01:03.751196",
     "status": "completed"
    },
    "slideshow": {
     "slide_type": ""
    },
    "tags": [
     "parameters"
    ]
   },
   "outputs": [],
   "source": [
    "CELL_TYPE = 'pDC'\n",
    "N_GENES: int = 20\n",
    "SEED = 'shap_studyID' #'disease_NOstudy' 'study_NOdisease' or 'int' or 'shap_studyID'\n",
    "TEST_SPLIT_IDX: int = 1 #[0,4]"
   ]
  },
  {
   "cell_type": "code",
   "execution_count": 2,
   "id": "1c63bd8b",
   "metadata": {
    "execution": {
     "iopub.execute_input": "2025-05-15T16:01:03.773919Z",
     "iopub.status.busy": "2025-05-15T16:01:03.773757Z",
     "iopub.status.idle": "2025-05-15T16:01:03.775636Z",
     "shell.execute_reply": "2025-05-15T16:01:03.775353Z"
    },
    "papermill": {
     "duration": 0.008541,
     "end_time": "2025-05-15T16:01:03.776389",
     "exception": false,
     "start_time": "2025-05-15T16:01:03.767848",
     "status": "completed"
    },
    "tags": [
     "injected-parameters"
    ]
   },
   "outputs": [],
   "source": [
    "# Parameters\n",
    "CELL_TYPE = \"T_CD4_Naive\"\n",
    "SEED = 7\n",
    "TEST_SPLIT_IDX = 4\n"
   ]
  },
  {
   "cell_type": "code",
   "execution_count": 3,
   "id": "ae26155f",
   "metadata": {
    "execution": {
     "iopub.execute_input": "2025-05-15T16:01:03.788228Z",
     "iopub.status.busy": "2025-05-15T16:01:03.788072Z",
     "iopub.status.idle": "2025-05-15T16:01:03.789925Z",
     "shell.execute_reply": "2025-05-15T16:01:03.789633Z"
    },
    "papermill": {
     "duration": 0.008324,
     "end_time": "2025-05-15T16:01:03.790665",
     "exception": false,
     "start_time": "2025-05-15T16:01:03.782341",
     "status": "completed"
    },
    "tags": []
   },
   "outputs": [],
   "source": [
    "N_SPLITS: int = 5\n",
    "N_TRIALS: int = 50"
   ]
  },
  {
   "cell_type": "code",
   "execution_count": 4,
   "id": "6469b9e4",
   "metadata": {
    "execution": {
     "iopub.execute_input": "2025-05-15T16:01:03.803185Z",
     "iopub.status.busy": "2025-05-15T16:01:03.802966Z",
     "iopub.status.idle": "2025-05-15T16:01:07.594180Z",
     "shell.execute_reply": "2025-05-15T16:01:07.593764Z"
    },
    "papermill": {
     "duration": 3.799386,
     "end_time": "2025-05-15T16:01:07.595159",
     "exception": false,
     "start_time": "2025-05-15T16:01:03.795773",
     "status": "completed"
    },
    "tags": []
   },
   "outputs": [],
   "source": [
    "import os\n",
    "import sys\n",
    "from pyprojroot.here import here\n",
    "import pandas as pd\n",
    "import anndata as ad\n",
    "import numpy as np\n",
    "import math\n",
    "from sklearn.model_selection import StratifiedGroupKFold\n",
    "from sklearn.preprocessing import LabelEncoder\n",
    "from sklearn.metrics import f1_score\n",
    "import matplotlib.pyplot as plt\n",
    "import seaborn as sns\n",
    "from itertools import product\n",
    "from sklearn.metrics import balanced_accuracy_score, f1_score\n",
    "import optuna\n",
    "\n",
    "import joblib\n",
    "import pickle\n",
    "import datetime\n",
    "\n",
    "import collections\n",
    "\n",
    "import xgboost\n",
    "from sklearn.preprocessing import LabelEncoder\n",
    "\n",
    "import scipy.sparse as ssp\n",
    "import joblib\n",
    "\n",
    "from dotenv import load_dotenv"
   ]
  },
  {
   "cell_type": "code",
   "execution_count": 5,
   "id": "1ecbe1de",
   "metadata": {
    "execution": {
     "iopub.execute_input": "2025-05-15T16:01:07.608161Z",
     "iopub.status.busy": "2025-05-15T16:01:07.607761Z",
     "iopub.status.idle": "2025-05-15T16:01:07.613431Z",
     "shell.execute_reply": "2025-05-15T16:01:07.613134Z"
    },
    "papermill": {
     "duration": 0.012888,
     "end_time": "2025-05-15T16:01:07.614192",
     "exception": false,
     "start_time": "2025-05-15T16:01:07.601304",
     "status": "completed"
    },
    "tags": []
   },
   "outputs": [
    {
     "data": {
      "text/plain": [
       "True"
      ]
     },
     "execution_count": 5,
     "metadata": {},
     "output_type": "execute_result"
    }
   ],
   "source": [
    "load_dotenv()"
   ]
  },
  {
   "cell_type": "markdown",
   "id": "57b71753",
   "metadata": {
    "papermill": {
     "duration": 0.005559,
     "end_time": "2025-05-15T16:01:07.625365",
     "exception": false,
     "start_time": "2025-05-15T16:01:07.619806",
     "status": "completed"
    },
    "tags": []
   },
   "source": [
    "# LOAD DATASET"
   ]
  },
  {
   "cell_type": "code",
   "execution_count": 6,
   "id": "9f2155a8",
   "metadata": {
    "execution": {
     "iopub.execute_input": "2025-05-15T16:01:07.636725Z",
     "iopub.status.busy": "2025-05-15T16:01:07.636520Z",
     "iopub.status.idle": "2025-05-15T16:01:08.071395Z",
     "shell.execute_reply": "2025-05-15T16:01:08.070982Z"
    },
    "papermill": {
     "duration": 0.441488,
     "end_time": "2025-05-15T16:01:08.072305",
     "exception": false,
     "start_time": "2025-05-15T16:01:07.630817",
     "status": "completed"
    },
    "tags": []
   },
   "outputs": [],
   "source": [
    "train_adata = ad.read_h5ad(\n",
    "    here(f'03_downstream_analysis/08_gene_importance/xgboost_external_validation/xgboost_TopN_genes/data_cellTypes/EXTERNAL_{CELL_TYPE}.filtered.log1p.h5ad')\n",
    ")"
   ]
  },
  {
   "cell_type": "code",
   "execution_count": 7,
   "id": "04da7f00",
   "metadata": {
    "execution": {
     "iopub.execute_input": "2025-05-15T16:01:08.083704Z",
     "iopub.status.busy": "2025-05-15T16:01:08.083536Z",
     "iopub.status.idle": "2025-05-15T16:01:08.109318Z",
     "shell.execute_reply": "2025-05-15T16:01:08.109003Z"
    },
    "papermill": {
     "duration": 0.03243,
     "end_time": "2025-05-15T16:01:08.110100",
     "exception": false,
     "start_time": "2025-05-15T16:01:08.077670",
     "status": "completed"
    },
    "tags": []
   },
   "outputs": [
    {
     "name": "stdout",
     "output_type": "stream",
     "text": [
      "['ENSG00000189067' 'ENSG00000187608' 'ENSG00000081059' 'ENSG00000155368'\n",
      " 'ENSG00000204287' 'ENSG00000108561' 'ENSG00000136003' 'ENSG00000204267'\n",
      " 'ENSG00000138378' 'ENSG00000113732' 'ENSG00000125384' 'ENSG00000111348'\n",
      " 'ENSG00000129084' 'ENSG00000239697' 'ENSG00000042753' 'ENSG00000197746'\n",
      " 'ENSG00000142546' 'ENSG00000103187' 'ENSG00000127314' 'ENSG00000175567'\n",
      " 'ENSG00000152495' 'ENSG00000152700' 'ENSG00000118640' 'ENSG00000186010'\n",
      " 'ENSG00000008517' 'ENSG00000139192' 'ENSG00000265972' 'ENSG00000100902'\n",
      " 'ENSG00000084207' 'ENSG00000126267' 'ENSG00000121879' 'ENSG00000173757'\n",
      " 'ENSG00000035115' 'ENSG00000153234' 'ENSG00000198668' 'ENSG00000132002'\n",
      " 'ENSG00000166710' 'ENSG00000106803' 'ENSG00000163931' 'ENSG00000241837'\n",
      " 'ENSG00000101474' 'ENSG00000105374' 'ENSG00000145912' 'ENSG00000162434'\n",
      " 'ENSG00000104671' 'ENSG00000165272' 'ENSG00000204592' 'ENSG00000127184'\n",
      " 'ENSG00000182117' 'ENSG00000171608' 'ENSG00000183486' 'ENSG00000100100'\n",
      " 'ENSG00000079805' 'ENSG00000143575' 'ENSG00000110395' 'ENSG00000166681'\n",
      " 'ENSG00000138107' 'ENSG00000125534' 'ENSG00000175390' 'ENSG00000196126'\n",
      " 'ENSG00000126264' 'ENSG00000160712' 'ENSG00000239713' 'ENSG00000108622'\n",
      " 'ENSG00000118503' 'ENSG00000171791' 'ENSG00000150093' 'ENSG00000242616'\n",
      " 'ENSG00000120742' 'ENSG00000157514' 'ENSG00000169429' 'ENSG00000104904'\n",
      " 'ENSG00000216490' 'ENSG00000103490' 'ENSG00000157601' 'ENSG00000163191'\n",
      " 'ENSG00000179218' 'ENSG00000164104' 'ENSG00000091409' 'ENSG00000177556'\n",
      " 'ENSG00000136156' 'ENSG00000109321' 'ENSG00000182866' 'ENSG00000128340'\n",
      " 'ENSG00000179295' 'ENSG00000028137' 'ENSG00000173812' 'ENSG00000175482'\n",
      " 'ENSG00000160710' 'ENSG00000159128' 'ENSG00000002586' 'ENSG00000153283'\n",
      " 'ENSG00000133872' 'ENSG00000186395' 'ENSG00000163513' 'ENSG00000197102'\n",
      " 'ENSG00000143924' 'ENSG00000105221' 'ENSG00000132965' 'ENSG00000196154'\n",
      " 'ENSG00000145220']\n"
     ]
    }
   ],
   "source": [
    "if SEED != 'all':\n",
    "    gene_subset = np.load(here(f'03_downstream_analysis/08_gene_importance/xgboost_external_validation/shap_gene_selection/gene_subsets_{N_GENES}/{CELL_TYPE}_{SEED}.npy'), allow_pickle=True)\n",
    "    train_adata = train_adata[:,gene_subset]\n",
    "    print(gene_subset)\n",
    "elif SEED == 'all':\n",
    "    print('Using all genes')\n",
    "else:\n",
    "    raise ValueError()"
   ]
  },
  {
   "cell_type": "code",
   "execution_count": 8,
   "id": "4d98a1bf",
   "metadata": {
    "execution": {
     "iopub.execute_input": "2025-05-15T16:01:08.151315Z",
     "iopub.status.busy": "2025-05-15T16:01:08.150992Z",
     "iopub.status.idle": "2025-05-15T16:01:08.153760Z",
     "shell.execute_reply": "2025-05-15T16:01:08.153473Z"
    },
    "papermill": {
     "duration": 0.009938,
     "end_time": "2025-05-15T16:01:08.154522",
     "exception": false,
     "start_time": "2025-05-15T16:01:08.144584",
     "status": "completed"
    },
    "tags": []
   },
   "outputs": [
    {
     "data": {
      "text/plain": [
       "(85497, 101)"
      ]
     },
     "execution_count": 8,
     "metadata": {},
     "output_type": "execute_result"
    }
   ],
   "source": [
    "train_adata.shape"
   ]
  },
  {
   "cell_type": "code",
   "execution_count": 9,
   "id": "eeecfe58",
   "metadata": {
    "execution": {
     "iopub.execute_input": "2025-05-15T16:01:08.180294Z",
     "iopub.status.busy": "2025-05-15T16:01:08.180072Z",
     "iopub.status.idle": "2025-05-15T16:01:08.183387Z",
     "shell.execute_reply": "2025-05-15T16:01:08.183099Z"
    },
    "papermill": {
     "duration": 0.009943,
     "end_time": "2025-05-15T16:01:08.184130",
     "exception": false,
     "start_time": "2025-05-15T16:01:08.174187",
     "status": "completed"
    },
    "tags": []
   },
   "outputs": [
    {
     "data": {
      "text/plain": [
       "['RA', 'COVID', 'healthy', 'HIV', 'cirrhosis', 'CD', 'SLE', 'sepsis']\n",
       "Categories (8, object): ['CD', 'COVID', 'HIV', 'RA', 'SLE', 'cirrhosis', 'healthy', 'sepsis']"
      ]
     },
     "execution_count": 9,
     "metadata": {},
     "output_type": "execute_result"
    }
   ],
   "source": [
    "train_adata.obs.disease.unique()"
   ]
  },
  {
   "cell_type": "code",
   "execution_count": 10,
   "id": "56dd0fc1",
   "metadata": {
    "execution": {
     "iopub.execute_input": "2025-05-15T16:01:08.232405Z",
     "iopub.status.busy": "2025-05-15T16:01:08.232108Z",
     "iopub.status.idle": "2025-05-15T16:01:08.235559Z",
     "shell.execute_reply": "2025-05-15T16:01:08.235257Z"
    },
    "papermill": {
     "duration": 0.024439,
     "end_time": "2025-05-15T16:01:08.236309",
     "exception": false,
     "start_time": "2025-05-15T16:01:08.211870",
     "status": "completed"
    },
    "tags": []
   },
   "outputs": [
    {
     "data": {
      "text/plain": [
       "['SCGT00val_I036016_T0', 'SCGT00val_I036019_T0', 'SCGT00val_I036023_T0', 'SCGT00val_I036015_T0', 'SCGT00val_I036028_T0', ..., '10XGenomics_10XHC2_T0', '10XGenomics_10XHC3_T0', '10XGenomics_10XHC5_T0', '10XGenomics_10XHC7_T0', '10XGenomics_10XHC8_T0']\n",
       "Length: 86\n",
       "Categories (86, object): ['10XGenomics_10XHC1_T0', '10XGenomics_10XHC2_T0', '10XGenomics_10XHC3_T0', '10XGenomics_10XHC4_T0', ..., 'Savage2021_BRISL6_T0', 'Savage2021_BRISL7_T0', 'Savage2021_PIDA_T0', 'Savage2021_PIDB_T0']"
      ]
     },
     "execution_count": 10,
     "metadata": {},
     "output_type": "execute_result"
    }
   ],
   "source": [
    "train_adata.obs.sampleID.unique()"
   ]
  },
  {
   "cell_type": "code",
   "execution_count": 11,
   "id": "7f68fd0c",
   "metadata": {
    "execution": {
     "iopub.execute_input": "2025-05-15T16:01:08.312658Z",
     "iopub.status.busy": "2025-05-15T16:01:08.312412Z",
     "iopub.status.idle": "2025-05-15T16:01:08.519523Z",
     "shell.execute_reply": "2025-05-15T16:01:08.519147Z"
    },
    "papermill": {
     "duration": 0.214818,
     "end_time": "2025-05-15T16:01:08.520779",
     "exception": false,
     "start_time": "2025-05-15T16:01:08.305961",
     "status": "completed"
    },
    "tags": []
   },
   "outputs": [],
   "source": [
    "all_idxs = np.arange(train_adata.obs.shape[0])\n",
    "left_out_splits = [s[1] for s in StratifiedGroupKFold(n_splits=N_SPLITS).split(all_idxs, train_adata.obs.disease, train_adata.obs.sampleID)]"
   ]
  },
  {
   "cell_type": "code",
   "execution_count": 12,
   "id": "82c316b0",
   "metadata": {
    "execution": {
     "iopub.execute_input": "2025-05-15T16:01:08.533480Z",
     "iopub.status.busy": "2025-05-15T16:01:08.533345Z",
     "iopub.status.idle": "2025-05-15T16:01:08.536308Z",
     "shell.execute_reply": "2025-05-15T16:01:08.536024Z"
    },
    "papermill": {
     "duration": 0.009938,
     "end_time": "2025-05-15T16:01:08.537058",
     "exception": false,
     "start_time": "2025-05-15T16:01:08.527120",
     "status": "completed"
    },
    "tags": []
   },
   "outputs": [
    {
     "data": {
      "text/plain": [
       "([1, 2, 3], 0, 4)"
      ]
     },
     "execution_count": 12,
     "metadata": {},
     "output_type": "execute_result"
    }
   ],
   "source": [
    "TRAIN_SPLIT_IDXS = [0,1,2,3,4]\n",
    "VAL_SPLIT_IDX = (TEST_SPLIT_IDX + 1) % 5\n",
    "TRAIN_SPLIT_IDXS.remove(TEST_SPLIT_IDX)\n",
    "TRAIN_SPLIT_IDXS.remove(VAL_SPLIT_IDX)\n",
    "TRAIN_SPLIT_IDXS, VAL_SPLIT_IDX, TEST_SPLIT_IDX"
   ]
  },
  {
   "cell_type": "code",
   "execution_count": 13,
   "id": "588dbf58",
   "metadata": {
    "execution": {
     "iopub.execute_input": "2025-05-15T16:01:08.549645Z",
     "iopub.status.busy": "2025-05-15T16:01:08.549516Z",
     "iopub.status.idle": "2025-05-15T16:01:08.551653Z",
     "shell.execute_reply": "2025-05-15T16:01:08.551363Z"
    },
    "papermill": {
     "duration": 0.00952,
     "end_time": "2025-05-15T16:01:08.552433",
     "exception": false,
     "start_time": "2025-05-15T16:01:08.542913",
     "status": "completed"
    },
    "tags": []
   },
   "outputs": [],
   "source": [
    "train_idxs = np.concatenate([left_out_splits[idx] for idx in TRAIN_SPLIT_IDXS])\n",
    "val_idxs = left_out_splits[VAL_SPLIT_IDX]\n",
    "test_idxs = left_out_splits[TEST_SPLIT_IDX]"
   ]
  },
  {
   "cell_type": "markdown",
   "id": "2a3dac5e",
   "metadata": {
    "papermill": {
     "duration": 0.005515,
     "end_time": "2025-05-15T16:01:08.563835",
     "exception": false,
     "start_time": "2025-05-15T16:01:08.558320",
     "status": "completed"
    },
    "tags": []
   },
   "source": [
    "### SUBSET DATASET INTO TRAIN/TEST/VAL SPLITS"
   ]
  },
  {
   "cell_type": "code",
   "execution_count": 14,
   "id": "8c2fb330",
   "metadata": {
    "execution": {
     "iopub.execute_input": "2025-05-15T16:01:08.599197Z",
     "iopub.status.busy": "2025-05-15T16:01:08.599004Z",
     "iopub.status.idle": "2025-05-15T16:01:08.769262Z",
     "shell.execute_reply": "2025-05-15T16:01:08.768933Z"
    },
    "papermill": {
     "duration": 0.200433,
     "end_time": "2025-05-15T16:01:08.770116",
     "exception": false,
     "start_time": "2025-05-15T16:01:08.569683",
     "status": "completed"
    },
    "tags": []
   },
   "outputs": [
    {
     "data": {
      "text/plain": [
       "((52220, 101), (16879, 101), (16398, 101))"
      ]
     },
     "execution_count": 14,
     "metadata": {},
     "output_type": "execute_result"
    }
   ],
   "source": [
    "X_train = train_adata.X[train_idxs]\n",
    "X_test = train_adata.X[test_idxs]\n",
    "X_val = train_adata.X[val_idxs]\n",
    "X_train.shape, X_test.shape, X_val.shape"
   ]
  },
  {
   "cell_type": "code",
   "execution_count": 15,
   "id": "6ce02953",
   "metadata": {
    "execution": {
     "iopub.execute_input": "2025-05-15T16:01:08.783264Z",
     "iopub.status.busy": "2025-05-15T16:01:08.783096Z",
     "iopub.status.idle": "2025-05-15T16:01:08.792086Z",
     "shell.execute_reply": "2025-05-15T16:01:08.791768Z"
    },
    "papermill": {
     "duration": 0.016411,
     "end_time": "2025-05-15T16:01:08.792877",
     "exception": false,
     "start_time": "2025-05-15T16:01:08.776466",
     "status": "completed"
    },
    "tags": []
   },
   "outputs": [
    {
     "data": {
      "text/plain": [
       "((52220,), (16879,), (16398,))"
      ]
     },
     "execution_count": 15,
     "metadata": {},
     "output_type": "execute_result"
    }
   ],
   "source": [
    "y_train = train_adata.obs.iloc[train_idxs].disease.values.astype(str)\n",
    "y_test = train_adata.obs.iloc[test_idxs].disease.values.astype(str)\n",
    "y_val = train_adata.obs.iloc[val_idxs].disease.values.astype(str)\n",
    "y_train.shape, y_test.shape, y_val.shape"
   ]
  },
  {
   "cell_type": "code",
   "execution_count": 16,
   "id": "9878e810",
   "metadata": {
    "execution": {
     "iopub.execute_input": "2025-05-15T16:01:08.806181Z",
     "iopub.status.busy": "2025-05-15T16:01:08.805994Z",
     "iopub.status.idle": "2025-05-15T16:01:08.824012Z",
     "shell.execute_reply": "2025-05-15T16:01:08.823711Z"
    },
    "papermill": {
     "duration": 0.025691,
     "end_time": "2025-05-15T16:01:08.825011",
     "exception": false,
     "start_time": "2025-05-15T16:01:08.799320",
     "status": "completed"
    },
    "tags": []
   },
   "outputs": [],
   "source": [
    "lenc = LabelEncoder()\n",
    "y_train_enc = lenc.fit_transform(y_train)\n",
    "y_val_enc = lenc.transform(y_val)\n",
    "y_test_enc = lenc.transform(y_test)"
   ]
  },
  {
   "cell_type": "markdown",
   "id": "2acc9ea0",
   "metadata": {
    "papermill": {
     "duration": 0.006037,
     "end_time": "2025-05-15T16:01:08.837419",
     "exception": false,
     "start_time": "2025-05-15T16:01:08.831382",
     "status": "completed"
    },
    "tags": []
   },
   "source": [
    "### GENERATE F1 "
   ]
  },
  {
   "cell_type": "code",
   "execution_count": 17,
   "id": "636e6cee",
   "metadata": {
    "execution": {
     "iopub.execute_input": "2025-05-15T16:01:08.850629Z",
     "iopub.status.busy": "2025-05-15T16:01:08.850470Z",
     "iopub.status.idle": "2025-05-15T16:01:08.852535Z",
     "shell.execute_reply": "2025-05-15T16:01:08.852250Z"
    },
    "papermill": {
     "duration": 0.009938,
     "end_time": "2025-05-15T16:01:08.853439",
     "exception": false,
     "start_time": "2025-05-15T16:01:08.843501",
     "status": "completed"
    },
    "tags": []
   },
   "outputs": [],
   "source": [
    "def custom_f1_score(y_true, y_pred):\n",
    "    return -f1_score(y_true, y_pred.argmax(1), average='weighted')"
   ]
  },
  {
   "cell_type": "code",
   "execution_count": 18,
   "id": "6c75aefa",
   "metadata": {
    "execution": {
     "iopub.execute_input": "2025-05-15T16:01:08.866712Z",
     "iopub.status.busy": "2025-05-15T16:01:08.866473Z",
     "iopub.status.idle": "2025-05-15T16:01:08.869749Z",
     "shell.execute_reply": "2025-05-15T16:01:08.869466Z"
    },
    "papermill": {
     "duration": 0.010757,
     "end_time": "2025-05-15T16:01:08.870540",
     "exception": false,
     "start_time": "2025-05-15T16:01:08.859783",
     "status": "completed"
    },
    "tags": []
   },
   "outputs": [],
   "source": [
    "eval_metric=custom_f1_score\n",
    "eval_metric_name='custom_f1_score'\n",
    "\n",
    "def objective(trial):\n",
    "    params = {\n",
    "        'n_estimators': 1500,\n",
    "        'max_depth': trial.suggest_int('max_depth', 3, 20),\n",
    "        'min_child_weight': trial.suggest_int('min_child_weight', 1, 250),\n",
    "        'subsample': trial.suggest_float('subsample', 0.1, 1.0),\n",
    "        'colsample_bynode': trial.suggest_float('colsample_bynode', 0.1, 1.0),\n",
    "        'learning_rate': trial.suggest_float('learning_rate', 1e-3, 5e-1, log=True),\n",
    "    }\n",
    "    pruning_callback = optuna.integration.XGBoostPruningCallback(trial, f'validation_0-{eval_metric_name}')\n",
    "    es_callback = xgboost.callback.EarlyStopping(20, min_delta=0.001)\n",
    "    xgb = xgboost.XGBClassifier(\n",
    "        eval_metric=eval_metric,\n",
    "        callbacks=[pruning_callback, es_callback],\n",
    "        n_jobs=5,\n",
    "        **params\n",
    "    )\n",
    "    xgb.fit(\n",
    "        X_train, \n",
    "        y_train_enc, \n",
    "        verbose=0,\n",
    "        eval_set=[(X_val, y_val_enc)],\n",
    "    )\n",
    "    trial.set_user_attr('best_iteration', xgb.best_iteration)\n",
    "\n",
    "    return xgb.best_score"
   ]
  },
  {
   "cell_type": "code",
   "execution_count": 19,
   "id": "2458a212",
   "metadata": {
    "execution": {
     "iopub.execute_input": "2025-05-15T16:01:08.885913Z",
     "iopub.status.busy": "2025-05-15T16:01:08.885670Z",
     "iopub.status.idle": "2025-05-15T16:14:54.691841Z",
     "shell.execute_reply": "2025-05-15T16:14:54.691347Z"
    },
    "papermill": {
     "duration": 825.814643,
     "end_time": "2025-05-15T16:14:54.693226",
     "exception": false,
     "start_time": "2025-05-15T16:01:08.878583",
     "status": "completed"
    },
    "scrolled": true,
    "tags": []
   },
   "outputs": [
    {
     "name": "stderr",
     "output_type": "stream",
     "text": [
      "[I 2025-05-15 18:01:08,887] A new study created in memory with name: no-name-3399dcb6-14c1-4bd5-8a0c-d3a17d4027a9\n"
     ]
    },
    {
     "name": "stderr",
     "output_type": "stream",
     "text": [
      "[I 2025-05-15 18:01:26,067] Trial 0 finished with value: -0.668389 and parameters: {'max_depth': 9, 'min_child_weight': 238, 'subsample': 0.7587945476302645, 'colsample_bynode': 0.6387926357773329, 'learning_rate': 0.0026368755339723046}. Best is trial 0 with value: -0.668389.\n"
     ]
    },
    {
     "name": "stderr",
     "output_type": "stream",
     "text": [
      "[I 2025-05-15 18:02:11,453] Trial 1 finished with value: -0.791828 and parameters: {'max_depth': 5, 'min_child_weight': 15, 'subsample': 0.8795585311974417, 'colsample_bynode': 0.6410035105688879, 'learning_rate': 0.08148293210105287}. Best is trial 1 with value: -0.791828.\n"
     ]
    },
    {
     "name": "stderr",
     "output_type": "stream",
     "text": [
      "[I 2025-05-15 18:02:15,436] Trial 2 finished with value: -0.609863 and parameters: {'max_depth': 3, 'min_child_weight': 243, 'subsample': 0.8491983767203796, 'colsample_bynode': 0.29110519961044856, 'learning_rate': 0.003095566460242371}. Best is trial 1 with value: -0.791828.\n"
     ]
    },
    {
     "name": "stderr",
     "output_type": "stream",
     "text": [
      "[I 2025-05-15 18:04:11,523] Trial 3 finished with value: -0.731521 and parameters: {'max_depth': 6, 'min_child_weight': 77, 'subsample': 0.5722807884690141, 'colsample_bynode': 0.48875051677790415, 'learning_rate': 0.006109683510122491}. Best is trial 1 with value: -0.791828.\n"
     ]
    },
    {
     "name": "stderr",
     "output_type": "stream",
     "text": [
      "[I 2025-05-15 18:06:00,211] Trial 4 finished with value: -0.782827 and parameters: {'max_depth': 14, 'min_child_weight': 35, 'subsample': 0.3629301836816964, 'colsample_bynode': 0.4297256589643226, 'learning_rate': 0.01701841881702917}. Best is trial 1 with value: -0.791828.\n"
     ]
    },
    {
     "name": "stderr",
     "output_type": "stream",
     "text": [
      "[I 2025-05-15 18:06:06,956] Trial 5 finished with value: -0.699423 and parameters: {'max_depth': 17, 'min_child_weight': 50, 'subsample': 0.5628109945722505, 'colsample_bynode': 0.6331731119758383, 'learning_rate': 0.0013346527038305934}. Best is trial 1 with value: -0.791828.\n"
     ]
    },
    {
     "name": "stderr",
     "output_type": "stream",
     "text": [
      "[I 2025-05-15 18:06:07,395] Trial 6 pruned. Trial was pruned at iteration 0.\n"
     ]
    },
    {
     "name": "stderr",
     "output_type": "stream",
     "text": [
      "[I 2025-05-15 18:06:07,816] Trial 7 pruned. Trial was pruned at iteration 0.\n"
     ]
    },
    {
     "name": "stderr",
     "output_type": "stream",
     "text": [
      "[I 2025-05-15 18:06:08,226] Trial 8 pruned. Trial was pruned at iteration 0.\n"
     ]
    },
    {
     "name": "stderr",
     "output_type": "stream",
     "text": [
      "[I 2025-05-15 18:06:08,926] Trial 9 pruned. Trial was pruned at iteration 1.\n"
     ]
    },
    {
     "name": "stderr",
     "output_type": "stream",
     "text": [
      "[I 2025-05-15 18:06:43,308] Trial 10 finished with value: -0.792297 and parameters: {'max_depth': 9, 'min_child_weight': 2, 'subsample': 0.9725833997090791, 'colsample_bynode': 0.11616568805333755, 'learning_rate': 0.17780618353487967}. Best is trial 10 with value: -0.792297.\n"
     ]
    },
    {
     "name": "stderr",
     "output_type": "stream",
     "text": [
      "[I 2025-05-15 18:07:27,558] Trial 11 finished with value: -0.794374 and parameters: {'max_depth': 9, 'min_child_weight': 4, 'subsample': 0.9818290990185045, 'colsample_bynode': 0.17702656156719, 'learning_rate': 0.11568531411766632}. Best is trial 11 with value: -0.794374.\n"
     ]
    },
    {
     "name": "stderr",
     "output_type": "stream",
     "text": [
      "[I 2025-05-15 18:08:06,770] Trial 12 finished with value: -0.789393 and parameters: {'max_depth': 9, 'min_child_weight': 2, 'subsample': 0.9762317723681219, 'colsample_bynode': 0.1303670507685675, 'learning_rate': 0.14353293664472047}. Best is trial 11 with value: -0.794374.\n"
     ]
    },
    {
     "name": "stderr",
     "output_type": "stream",
     "text": [
      "[I 2025-05-15 18:08:07,202] Trial 13 pruned. Trial was pruned at iteration 0.\n"
     ]
    },
    {
     "name": "stderr",
     "output_type": "stream",
     "text": [
      "[I 2025-05-15 18:08:07,643] Trial 14 pruned. Trial was pruned at iteration 0.\n"
     ]
    },
    {
     "name": "stderr",
     "output_type": "stream",
     "text": [
      "[I 2025-05-15 18:09:07,118] Trial 15 pruned. Trial was pruned at iteration 80.\n"
     ]
    },
    {
     "name": "stderr",
     "output_type": "stream",
     "text": [
      "[I 2025-05-15 18:09:07,608] Trial 16 pruned. Trial was pruned at iteration 0.\n"
     ]
    },
    {
     "name": "stderr",
     "output_type": "stream",
     "text": [
      "[I 2025-05-15 18:09:08,021] Trial 17 pruned. Trial was pruned at iteration 0.\n"
     ]
    },
    {
     "name": "stderr",
     "output_type": "stream",
     "text": [
      "[I 2025-05-15 18:09:40,136] Trial 18 finished with value: -0.805165 and parameters: {'max_depth': 12, 'min_child_weight': 35, 'subsample': 0.8272602031120428, 'colsample_bynode': 0.8109691196781996, 'learning_rate': 0.20046188160978387}. Best is trial 18 with value: -0.805165.\n"
     ]
    },
    {
     "name": "stderr",
     "output_type": "stream",
     "text": [
      "[I 2025-05-15 18:09:40,642] Trial 19 pruned. Trial was pruned at iteration 0.\n"
     ]
    },
    {
     "name": "stderr",
     "output_type": "stream",
     "text": [
      "[I 2025-05-15 18:10:07,395] Trial 20 finished with value: -0.804798 and parameters: {'max_depth': 16, 'min_child_weight': 32, 'subsample': 0.6538700099188194, 'colsample_bynode': 0.7088965569412996, 'learning_rate': 0.256275891626007}. Best is trial 18 with value: -0.805165.\n"
     ]
    },
    {
     "name": "stderr",
     "output_type": "stream",
     "text": [
      "[I 2025-05-15 18:10:34,551] Trial 21 finished with value: -0.805049 and parameters: {'max_depth': 17, 'min_child_weight': 30, 'subsample': 0.6582893232370284, 'colsample_bynode': 0.7710889536675638, 'learning_rate': 0.24892967230551474}. Best is trial 18 with value: -0.805165.\n"
     ]
    },
    {
     "name": "stderr",
     "output_type": "stream",
     "text": [
      "[I 2025-05-15 18:11:01,098] Trial 22 finished with value: -0.804305 and parameters: {'max_depth': 17, 'min_child_weight': 54, 'subsample': 0.6581340170061017, 'colsample_bynode': 0.7877555780198641, 'learning_rate': 0.2732011955986083}. Best is trial 18 with value: -0.805165.\n"
     ]
    },
    {
     "name": "stderr",
     "output_type": "stream",
     "text": [
      "[I 2025-05-15 18:11:01,667] Trial 23 pruned. Trial was pruned at iteration 0.\n"
     ]
    },
    {
     "name": "stderr",
     "output_type": "stream",
     "text": [
      "[I 2025-05-15 18:11:02,206] Trial 24 pruned. Trial was pruned at iteration 0.\n"
     ]
    },
    {
     "name": "stderr",
     "output_type": "stream",
     "text": [
      "[I 2025-05-15 18:11:11,378] Trial 25 pruned. Trial was pruned at iteration 23.\n"
     ]
    },
    {
     "name": "stderr",
     "output_type": "stream",
     "text": [
      "[I 2025-05-15 18:11:11,890] Trial 26 pruned. Trial was pruned at iteration 0.\n"
     ]
    },
    {
     "name": "stderr",
     "output_type": "stream",
     "text": [
      "[I 2025-05-15 18:11:17,606] Trial 27 pruned. Trial was pruned at iteration 13.\n"
     ]
    },
    {
     "name": "stderr",
     "output_type": "stream",
     "text": [
      "[I 2025-05-15 18:11:18,114] Trial 28 pruned. Trial was pruned at iteration 0.\n"
     ]
    },
    {
     "name": "stderr",
     "output_type": "stream",
     "text": [
      "[I 2025-05-15 18:11:18,565] Trial 29 pruned. Trial was pruned at iteration 0.\n"
     ]
    },
    {
     "name": "stderr",
     "output_type": "stream",
     "text": [
      "[I 2025-05-15 18:11:19,107] Trial 30 pruned. Trial was pruned at iteration 0.\n"
     ]
    },
    {
     "name": "stderr",
     "output_type": "stream",
     "text": [
      "[I 2025-05-15 18:11:19,661] Trial 31 pruned. Trial was pruned at iteration 0.\n"
     ]
    },
    {
     "name": "stderr",
     "output_type": "stream",
     "text": [
      "[I 2025-05-15 18:11:55,774] Trial 32 finished with value: -0.801613 and parameters: {'max_depth': 20, 'min_child_weight': 21, 'subsample': 0.8537244440303849, 'colsample_bynode': 0.6597749536294772, 'learning_rate': 0.24134611971337472}. Best is trial 18 with value: -0.805165.\n"
     ]
    },
    {
     "name": "stderr",
     "output_type": "stream",
     "text": [
      "[I 2025-05-15 18:11:56,385] Trial 33 pruned. Trial was pruned at iteration 0.\n"
     ]
    },
    {
     "name": "stderr",
     "output_type": "stream",
     "text": [
      "[I 2025-05-15 18:12:01,219] Trial 34 pruned. Trial was pruned at iteration 11.\n"
     ]
    },
    {
     "name": "stderr",
     "output_type": "stream",
     "text": [
      "[I 2025-05-15 18:12:52,053] Trial 35 finished with value: -0.80028 and parameters: {'max_depth': 13, 'min_child_weight': 19, 'subsample': 0.8089805886858371, 'colsample_bynode': 0.6720393305978983, 'learning_rate': 0.14431938456109789}. Best is trial 18 with value: -0.805165.\n"
     ]
    },
    {
     "name": "stderr",
     "output_type": "stream",
     "text": [
      "[I 2025-05-15 18:12:52,574] Trial 36 pruned. Trial was pruned at iteration 0.\n"
     ]
    },
    {
     "name": "stderr",
     "output_type": "stream",
     "text": [
      "[I 2025-05-15 18:12:53,102] Trial 37 pruned. Trial was pruned at iteration 0.\n"
     ]
    },
    {
     "name": "stderr",
     "output_type": "stream",
     "text": [
      "[I 2025-05-15 18:13:26,699] Trial 38 finished with value: -0.801613 and parameters: {'max_depth': 13, 'min_child_weight': 14, 'subsample': 0.35426241777607137, 'colsample_bynode': 0.9389401555317685, 'learning_rate': 0.18113074695266124}. Best is trial 18 with value: -0.805165.\n"
     ]
    },
    {
     "name": "stderr",
     "output_type": "stream",
     "text": [
      "[I 2025-05-15 18:13:27,116] Trial 39 pruned. Trial was pruned at iteration 0.\n"
     ]
    },
    {
     "name": "stderr",
     "output_type": "stream",
     "text": [
      "[I 2025-05-15 18:13:27,672] Trial 40 pruned. Trial was pruned at iteration 0.\n"
     ]
    },
    {
     "name": "stderr",
     "output_type": "stream",
     "text": [
      "[I 2025-05-15 18:14:04,502] Trial 41 finished with value: -0.804057 and parameters: {'max_depth': 20, 'min_child_weight': 24, 'subsample': 0.8356124783577371, 'colsample_bynode': 0.6634326888103698, 'learning_rate': 0.2511107814207123}. Best is trial 18 with value: -0.805165.\n"
     ]
    },
    {
     "name": "stderr",
     "output_type": "stream",
     "text": [
      "[I 2025-05-15 18:14:05,347] Trial 42 pruned. Trial was pruned at iteration 0.\n"
     ]
    },
    {
     "name": "stderr",
     "output_type": "stream",
     "text": [
      "[I 2025-05-15 18:14:22,178] Trial 43 finished with value: -0.798077 and parameters: {'max_depth': 17, 'min_child_weight': 20, 'subsample': 0.5991234175170257, 'colsample_bynode': 0.8133536947353553, 'learning_rate': 0.33010740156103746}. Best is trial 18 with value: -0.805165.\n"
     ]
    },
    {
     "name": "stderr",
     "output_type": "stream",
     "text": [
      "[I 2025-05-15 18:14:22,672] Trial 44 pruned. Trial was pruned at iteration 0.\n"
     ]
    },
    {
     "name": "stderr",
     "output_type": "stream",
     "text": [
      "[I 2025-05-15 18:14:32,048] Trial 45 pruned. Trial was pruned at iteration 20.\n"
     ]
    },
    {
     "name": "stderr",
     "output_type": "stream",
     "text": [
      "[I 2025-05-15 18:14:32,553] Trial 46 pruned. Trial was pruned at iteration 0.\n"
     ]
    },
    {
     "name": "stderr",
     "output_type": "stream",
     "text": [
      "[I 2025-05-15 18:14:33,029] Trial 47 pruned. Trial was pruned at iteration 0.\n"
     ]
    },
    {
     "name": "stderr",
     "output_type": "stream",
     "text": [
      "[I 2025-05-15 18:14:50,922] Trial 48 finished with value: -0.803095 and parameters: {'max_depth': 11, 'min_child_weight': 32, 'subsample': 0.7198790966445353, 'colsample_bynode': 0.7277907302162672, 'learning_rate': 0.3837584869128308}. Best is trial 18 with value: -0.805165.\n"
     ]
    },
    {
     "name": "stderr",
     "output_type": "stream",
     "text": [
      "[I 2025-05-15 18:14:54,580] Trial 49 pruned. Trial was pruned at iteration 6.\n"
     ]
    }
   ],
   "source": [
    "sampler = optuna.samplers.TPESampler(seed=42)\n",
    "study = optuna.create_study(direction='minimize', sampler=sampler)\n",
    "study.optimize(objective, n_trials=N_TRIALS, gc_after_trial=True)"
   ]
  },
  {
   "cell_type": "code",
   "execution_count": 20,
   "id": "4e2c30d9",
   "metadata": {
    "execution": {
     "iopub.execute_input": "2025-05-15T16:14:54.713553Z",
     "iopub.status.busy": "2025-05-15T16:14:54.713357Z",
     "iopub.status.idle": "2025-05-15T16:14:54.738115Z",
     "shell.execute_reply": "2025-05-15T16:14:54.737765Z"
    },
    "papermill": {
     "duration": 0.03483,
     "end_time": "2025-05-15T16:14:54.738982",
     "exception": false,
     "start_time": "2025-05-15T16:14:54.704152",
     "status": "completed"
    },
    "tags": []
   },
   "outputs": [
    {
     "data": {
      "text/plain": [
       "['/scratch_isilon/groups/singlecell/shared/projects/Inflammation-PBMCs-Atlas/03_downstream_analysis/08_gene_importance/xgboost_external_validation/xgboost_TopN_genes/results_20/study/T_CD4_Naive_7_4_xgboost.pkl']"
      ]
     },
     "execution_count": 20,
     "metadata": {},
     "output_type": "execute_result"
    }
   ],
   "source": [
    "out_dir = here(f'03_downstream_analysis/08_gene_importance/xgboost_external_validation/xgboost_TopN_genes/results_{N_GENES}/study')\n",
    "\n",
    "if not os.path.exists(out_dir):\n",
    "    os.makedirs(out_dir)\n",
    "    \n",
    "joblib.dump(study,os.path.join(out_dir, f'{CELL_TYPE}_{SEED}_{TEST_SPLIT_IDX}_xgboost.pkl'))"
   ]
  },
  {
   "cell_type": "code",
   "execution_count": 21,
   "id": "d2155f16",
   "metadata": {
    "execution": {
     "iopub.execute_input": "2025-05-15T16:14:54.756079Z",
     "iopub.status.busy": "2025-05-15T16:14:54.755833Z",
     "iopub.status.idle": "2025-05-15T16:15:10.579036Z",
     "shell.execute_reply": "2025-05-15T16:15:10.578641Z"
    },
    "papermill": {
     "duration": 15.832764,
     "end_time": "2025-05-15T16:15:10.580008",
     "exception": false,
     "start_time": "2025-05-15T16:14:54.747244",
     "status": "completed"
    },
    "tags": []
   },
   "outputs": [
    {
     "data": {
      "text/html": [
       "<style>#sk-container-id-1 {\n",
       "  /* Definition of color scheme common for light and dark mode */\n",
       "  --sklearn-color-text: black;\n",
       "  --sklearn-color-line: gray;\n",
       "  /* Definition of color scheme for unfitted estimators */\n",
       "  --sklearn-color-unfitted-level-0: #fff5e6;\n",
       "  --sklearn-color-unfitted-level-1: #f6e4d2;\n",
       "  --sklearn-color-unfitted-level-2: #ffe0b3;\n",
       "  --sklearn-color-unfitted-level-3: chocolate;\n",
       "  /* Definition of color scheme for fitted estimators */\n",
       "  --sklearn-color-fitted-level-0: #f0f8ff;\n",
       "  --sklearn-color-fitted-level-1: #d4ebff;\n",
       "  --sklearn-color-fitted-level-2: #b3dbfd;\n",
       "  --sklearn-color-fitted-level-3: cornflowerblue;\n",
       "\n",
       "  /* Specific color for light theme */\n",
       "  --sklearn-color-text-on-default-background: var(--sg-text-color, var(--theme-code-foreground, var(--jp-content-font-color1, black)));\n",
       "  --sklearn-color-background: var(--sg-background-color, var(--theme-background, var(--jp-layout-color0, white)));\n",
       "  --sklearn-color-border-box: var(--sg-text-color, var(--theme-code-foreground, var(--jp-content-font-color1, black)));\n",
       "  --sklearn-color-icon: #696969;\n",
       "\n",
       "  @media (prefers-color-scheme: dark) {\n",
       "    /* Redefinition of color scheme for dark theme */\n",
       "    --sklearn-color-text-on-default-background: var(--sg-text-color, var(--theme-code-foreground, var(--jp-content-font-color1, white)));\n",
       "    --sklearn-color-background: var(--sg-background-color, var(--theme-background, var(--jp-layout-color0, #111)));\n",
       "    --sklearn-color-border-box: var(--sg-text-color, var(--theme-code-foreground, var(--jp-content-font-color1, white)));\n",
       "    --sklearn-color-icon: #878787;\n",
       "  }\n",
       "}\n",
       "\n",
       "#sk-container-id-1 {\n",
       "  color: var(--sklearn-color-text);\n",
       "}\n",
       "\n",
       "#sk-container-id-1 pre {\n",
       "  padding: 0;\n",
       "}\n",
       "\n",
       "#sk-container-id-1 input.sk-hidden--visually {\n",
       "  border: 0;\n",
       "  clip: rect(1px 1px 1px 1px);\n",
       "  clip: rect(1px, 1px, 1px, 1px);\n",
       "  height: 1px;\n",
       "  margin: -1px;\n",
       "  overflow: hidden;\n",
       "  padding: 0;\n",
       "  position: absolute;\n",
       "  width: 1px;\n",
       "}\n",
       "\n",
       "#sk-container-id-1 div.sk-dashed-wrapped {\n",
       "  border: 1px dashed var(--sklearn-color-line);\n",
       "  margin: 0 0.4em 0.5em 0.4em;\n",
       "  box-sizing: border-box;\n",
       "  padding-bottom: 0.4em;\n",
       "  background-color: var(--sklearn-color-background);\n",
       "}\n",
       "\n",
       "#sk-container-id-1 div.sk-container {\n",
       "  /* jupyter's `normalize.less` sets `[hidden] { display: none; }`\n",
       "     but bootstrap.min.css set `[hidden] { display: none !important; }`\n",
       "     so we also need the `!important` here to be able to override the\n",
       "     default hidden behavior on the sphinx rendered scikit-learn.org.\n",
       "     See: https://github.com/scikit-learn/scikit-learn/issues/21755 */\n",
       "  display: inline-block !important;\n",
       "  position: relative;\n",
       "}\n",
       "\n",
       "#sk-container-id-1 div.sk-text-repr-fallback {\n",
       "  display: none;\n",
       "}\n",
       "\n",
       "div.sk-parallel-item,\n",
       "div.sk-serial,\n",
       "div.sk-item {\n",
       "  /* draw centered vertical line to link estimators */\n",
       "  background-image: linear-gradient(var(--sklearn-color-text-on-default-background), var(--sklearn-color-text-on-default-background));\n",
       "  background-size: 2px 100%;\n",
       "  background-repeat: no-repeat;\n",
       "  background-position: center center;\n",
       "}\n",
       "\n",
       "/* Parallel-specific style estimator block */\n",
       "\n",
       "#sk-container-id-1 div.sk-parallel-item::after {\n",
       "  content: \"\";\n",
       "  width: 100%;\n",
       "  border-bottom: 2px solid var(--sklearn-color-text-on-default-background);\n",
       "  flex-grow: 1;\n",
       "}\n",
       "\n",
       "#sk-container-id-1 div.sk-parallel {\n",
       "  display: flex;\n",
       "  align-items: stretch;\n",
       "  justify-content: center;\n",
       "  background-color: var(--sklearn-color-background);\n",
       "  position: relative;\n",
       "}\n",
       "\n",
       "#sk-container-id-1 div.sk-parallel-item {\n",
       "  display: flex;\n",
       "  flex-direction: column;\n",
       "}\n",
       "\n",
       "#sk-container-id-1 div.sk-parallel-item:first-child::after {\n",
       "  align-self: flex-end;\n",
       "  width: 50%;\n",
       "}\n",
       "\n",
       "#sk-container-id-1 div.sk-parallel-item:last-child::after {\n",
       "  align-self: flex-start;\n",
       "  width: 50%;\n",
       "}\n",
       "\n",
       "#sk-container-id-1 div.sk-parallel-item:only-child::after {\n",
       "  width: 0;\n",
       "}\n",
       "\n",
       "/* Serial-specific style estimator block */\n",
       "\n",
       "#sk-container-id-1 div.sk-serial {\n",
       "  display: flex;\n",
       "  flex-direction: column;\n",
       "  align-items: center;\n",
       "  background-color: var(--sklearn-color-background);\n",
       "  padding-right: 1em;\n",
       "  padding-left: 1em;\n",
       "}\n",
       "\n",
       "\n",
       "/* Toggleable style: style used for estimator/Pipeline/ColumnTransformer box that is\n",
       "clickable and can be expanded/collapsed.\n",
       "- Pipeline and ColumnTransformer use this feature and define the default style\n",
       "- Estimators will overwrite some part of the style using the `sk-estimator` class\n",
       "*/\n",
       "\n",
       "/* Pipeline and ColumnTransformer style (default) */\n",
       "\n",
       "#sk-container-id-1 div.sk-toggleable {\n",
       "  /* Default theme specific background. It is overwritten whether we have a\n",
       "  specific estimator or a Pipeline/ColumnTransformer */\n",
       "  background-color: var(--sklearn-color-background);\n",
       "}\n",
       "\n",
       "/* Toggleable label */\n",
       "#sk-container-id-1 label.sk-toggleable__label {\n",
       "  cursor: pointer;\n",
       "  display: block;\n",
       "  width: 100%;\n",
       "  margin-bottom: 0;\n",
       "  padding: 0.5em;\n",
       "  box-sizing: border-box;\n",
       "  text-align: center;\n",
       "}\n",
       "\n",
       "#sk-container-id-1 label.sk-toggleable__label-arrow:before {\n",
       "  /* Arrow on the left of the label */\n",
       "  content: \"▸\";\n",
       "  float: left;\n",
       "  margin-right: 0.25em;\n",
       "  color: var(--sklearn-color-icon);\n",
       "}\n",
       "\n",
       "#sk-container-id-1 label.sk-toggleable__label-arrow:hover:before {\n",
       "  color: var(--sklearn-color-text);\n",
       "}\n",
       "\n",
       "/* Toggleable content - dropdown */\n",
       "\n",
       "#sk-container-id-1 div.sk-toggleable__content {\n",
       "  max-height: 0;\n",
       "  max-width: 0;\n",
       "  overflow: hidden;\n",
       "  text-align: left;\n",
       "  /* unfitted */\n",
       "  background-color: var(--sklearn-color-unfitted-level-0);\n",
       "}\n",
       "\n",
       "#sk-container-id-1 div.sk-toggleable__content.fitted {\n",
       "  /* fitted */\n",
       "  background-color: var(--sklearn-color-fitted-level-0);\n",
       "}\n",
       "\n",
       "#sk-container-id-1 div.sk-toggleable__content pre {\n",
       "  margin: 0.2em;\n",
       "  border-radius: 0.25em;\n",
       "  color: var(--sklearn-color-text);\n",
       "  /* unfitted */\n",
       "  background-color: var(--sklearn-color-unfitted-level-0);\n",
       "}\n",
       "\n",
       "#sk-container-id-1 div.sk-toggleable__content.fitted pre {\n",
       "  /* unfitted */\n",
       "  background-color: var(--sklearn-color-fitted-level-0);\n",
       "}\n",
       "\n",
       "#sk-container-id-1 input.sk-toggleable__control:checked~div.sk-toggleable__content {\n",
       "  /* Expand drop-down */\n",
       "  max-height: 200px;\n",
       "  max-width: 100%;\n",
       "  overflow: auto;\n",
       "}\n",
       "\n",
       "#sk-container-id-1 input.sk-toggleable__control:checked~label.sk-toggleable__label-arrow:before {\n",
       "  content: \"▾\";\n",
       "}\n",
       "\n",
       "/* Pipeline/ColumnTransformer-specific style */\n",
       "\n",
       "#sk-container-id-1 div.sk-label input.sk-toggleable__control:checked~label.sk-toggleable__label {\n",
       "  color: var(--sklearn-color-text);\n",
       "  background-color: var(--sklearn-color-unfitted-level-2);\n",
       "}\n",
       "\n",
       "#sk-container-id-1 div.sk-label.fitted input.sk-toggleable__control:checked~label.sk-toggleable__label {\n",
       "  background-color: var(--sklearn-color-fitted-level-2);\n",
       "}\n",
       "\n",
       "/* Estimator-specific style */\n",
       "\n",
       "/* Colorize estimator box */\n",
       "#sk-container-id-1 div.sk-estimator input.sk-toggleable__control:checked~label.sk-toggleable__label {\n",
       "  /* unfitted */\n",
       "  background-color: var(--sklearn-color-unfitted-level-2);\n",
       "}\n",
       "\n",
       "#sk-container-id-1 div.sk-estimator.fitted input.sk-toggleable__control:checked~label.sk-toggleable__label {\n",
       "  /* fitted */\n",
       "  background-color: var(--sklearn-color-fitted-level-2);\n",
       "}\n",
       "\n",
       "#sk-container-id-1 div.sk-label label.sk-toggleable__label,\n",
       "#sk-container-id-1 div.sk-label label {\n",
       "  /* The background is the default theme color */\n",
       "  color: var(--sklearn-color-text-on-default-background);\n",
       "}\n",
       "\n",
       "/* On hover, darken the color of the background */\n",
       "#sk-container-id-1 div.sk-label:hover label.sk-toggleable__label {\n",
       "  color: var(--sklearn-color-text);\n",
       "  background-color: var(--sklearn-color-unfitted-level-2);\n",
       "}\n",
       "\n",
       "/* Label box, darken color on hover, fitted */\n",
       "#sk-container-id-1 div.sk-label.fitted:hover label.sk-toggleable__label.fitted {\n",
       "  color: var(--sklearn-color-text);\n",
       "  background-color: var(--sklearn-color-fitted-level-2);\n",
       "}\n",
       "\n",
       "/* Estimator label */\n",
       "\n",
       "#sk-container-id-1 div.sk-label label {\n",
       "  font-family: monospace;\n",
       "  font-weight: bold;\n",
       "  display: inline-block;\n",
       "  line-height: 1.2em;\n",
       "}\n",
       "\n",
       "#sk-container-id-1 div.sk-label-container {\n",
       "  text-align: center;\n",
       "}\n",
       "\n",
       "/* Estimator-specific */\n",
       "#sk-container-id-1 div.sk-estimator {\n",
       "  font-family: monospace;\n",
       "  border: 1px dotted var(--sklearn-color-border-box);\n",
       "  border-radius: 0.25em;\n",
       "  box-sizing: border-box;\n",
       "  margin-bottom: 0.5em;\n",
       "  /* unfitted */\n",
       "  background-color: var(--sklearn-color-unfitted-level-0);\n",
       "}\n",
       "\n",
       "#sk-container-id-1 div.sk-estimator.fitted {\n",
       "  /* fitted */\n",
       "  background-color: var(--sklearn-color-fitted-level-0);\n",
       "}\n",
       "\n",
       "/* on hover */\n",
       "#sk-container-id-1 div.sk-estimator:hover {\n",
       "  /* unfitted */\n",
       "  background-color: var(--sklearn-color-unfitted-level-2);\n",
       "}\n",
       "\n",
       "#sk-container-id-1 div.sk-estimator.fitted:hover {\n",
       "  /* fitted */\n",
       "  background-color: var(--sklearn-color-fitted-level-2);\n",
       "}\n",
       "\n",
       "/* Specification for estimator info (e.g. \"i\" and \"?\") */\n",
       "\n",
       "/* Common style for \"i\" and \"?\" */\n",
       "\n",
       ".sk-estimator-doc-link,\n",
       "a:link.sk-estimator-doc-link,\n",
       "a:visited.sk-estimator-doc-link {\n",
       "  float: right;\n",
       "  font-size: smaller;\n",
       "  line-height: 1em;\n",
       "  font-family: monospace;\n",
       "  background-color: var(--sklearn-color-background);\n",
       "  border-radius: 1em;\n",
       "  height: 1em;\n",
       "  width: 1em;\n",
       "  text-decoration: none !important;\n",
       "  margin-left: 1ex;\n",
       "  /* unfitted */\n",
       "  border: var(--sklearn-color-unfitted-level-1) 1pt solid;\n",
       "  color: var(--sklearn-color-unfitted-level-1);\n",
       "}\n",
       "\n",
       ".sk-estimator-doc-link.fitted,\n",
       "a:link.sk-estimator-doc-link.fitted,\n",
       "a:visited.sk-estimator-doc-link.fitted {\n",
       "  /* fitted */\n",
       "  border: var(--sklearn-color-fitted-level-1) 1pt solid;\n",
       "  color: var(--sklearn-color-fitted-level-1);\n",
       "}\n",
       "\n",
       "/* On hover */\n",
       "div.sk-estimator:hover .sk-estimator-doc-link:hover,\n",
       ".sk-estimator-doc-link:hover,\n",
       "div.sk-label-container:hover .sk-estimator-doc-link:hover,\n",
       ".sk-estimator-doc-link:hover {\n",
       "  /* unfitted */\n",
       "  background-color: var(--sklearn-color-unfitted-level-3);\n",
       "  color: var(--sklearn-color-background);\n",
       "  text-decoration: none;\n",
       "}\n",
       "\n",
       "div.sk-estimator.fitted:hover .sk-estimator-doc-link.fitted:hover,\n",
       ".sk-estimator-doc-link.fitted:hover,\n",
       "div.sk-label-container:hover .sk-estimator-doc-link.fitted:hover,\n",
       ".sk-estimator-doc-link.fitted:hover {\n",
       "  /* fitted */\n",
       "  background-color: var(--sklearn-color-fitted-level-3);\n",
       "  color: var(--sklearn-color-background);\n",
       "  text-decoration: none;\n",
       "}\n",
       "\n",
       "/* Span, style for the box shown on hovering the info icon */\n",
       ".sk-estimator-doc-link span {\n",
       "  display: none;\n",
       "  z-index: 9999;\n",
       "  position: relative;\n",
       "  font-weight: normal;\n",
       "  right: .2ex;\n",
       "  padding: .5ex;\n",
       "  margin: .5ex;\n",
       "  width: min-content;\n",
       "  min-width: 20ex;\n",
       "  max-width: 50ex;\n",
       "  color: var(--sklearn-color-text);\n",
       "  box-shadow: 2pt 2pt 4pt #999;\n",
       "  /* unfitted */\n",
       "  background: var(--sklearn-color-unfitted-level-0);\n",
       "  border: .5pt solid var(--sklearn-color-unfitted-level-3);\n",
       "}\n",
       "\n",
       ".sk-estimator-doc-link.fitted span {\n",
       "  /* fitted */\n",
       "  background: var(--sklearn-color-fitted-level-0);\n",
       "  border: var(--sklearn-color-fitted-level-3);\n",
       "}\n",
       "\n",
       ".sk-estimator-doc-link:hover span {\n",
       "  display: block;\n",
       "}\n",
       "\n",
       "/* \"?\"-specific style due to the `<a>` HTML tag */\n",
       "\n",
       "#sk-container-id-1 a.estimator_doc_link {\n",
       "  float: right;\n",
       "  font-size: 1rem;\n",
       "  line-height: 1em;\n",
       "  font-family: monospace;\n",
       "  background-color: var(--sklearn-color-background);\n",
       "  border-radius: 1rem;\n",
       "  height: 1rem;\n",
       "  width: 1rem;\n",
       "  text-decoration: none;\n",
       "  /* unfitted */\n",
       "  color: var(--sklearn-color-unfitted-level-1);\n",
       "  border: var(--sklearn-color-unfitted-level-1) 1pt solid;\n",
       "}\n",
       "\n",
       "#sk-container-id-1 a.estimator_doc_link.fitted {\n",
       "  /* fitted */\n",
       "  border: var(--sklearn-color-fitted-level-1) 1pt solid;\n",
       "  color: var(--sklearn-color-fitted-level-1);\n",
       "}\n",
       "\n",
       "/* On hover */\n",
       "#sk-container-id-1 a.estimator_doc_link:hover {\n",
       "  /* unfitted */\n",
       "  background-color: var(--sklearn-color-unfitted-level-3);\n",
       "  color: var(--sklearn-color-background);\n",
       "  text-decoration: none;\n",
       "}\n",
       "\n",
       "#sk-container-id-1 a.estimator_doc_link.fitted:hover {\n",
       "  /* fitted */\n",
       "  background-color: var(--sklearn-color-fitted-level-3);\n",
       "}\n",
       "</style><div id=\"sk-container-id-1\" class=\"sk-top-container\"><div class=\"sk-text-repr-fallback\"><pre>XGBClassifier(base_score=None, booster=None, callbacks=None,\n",
       "              colsample_bylevel=None, colsample_bynode=0.8109691196781996,\n",
       "              colsample_bytree=None, device=None, early_stopping_rounds=None,\n",
       "              enable_categorical=False,\n",
       "              eval_metric=&lt;function custom_f1_score at 0x7fe9d4ea0540&gt;,\n",
       "              feature_types=None, gamma=None, grow_policy=None,\n",
       "              importance_type=None, interaction_constraints=None,\n",
       "              learning_rate=0.20046188160978387, max_bin=None,\n",
       "              max_cat_threshold=None, max_cat_to_onehot=None,\n",
       "              max_delta_step=None, max_depth=12, max_leaves=None,\n",
       "              min_child_weight=35, missing=nan, monotone_constraints=None,\n",
       "              multi_strategy=None, n_estimators=114, n_jobs=None,\n",
       "              num_parallel_tree=None, objective=&#x27;multi:softprob&#x27;, ...)</pre><b>In a Jupyter environment, please rerun this cell to show the HTML representation or trust the notebook. <br />On GitHub, the HTML representation is unable to render, please try loading this page with nbviewer.org.</b></div><div class=\"sk-container\" hidden><div class=\"sk-item\"><div class=\"sk-estimator fitted sk-toggleable\"><input class=\"sk-toggleable__control sk-hidden--visually\" id=\"sk-estimator-id-1\" type=\"checkbox\" checked><label for=\"sk-estimator-id-1\" class=\"sk-toggleable__label fitted sk-toggleable__label-arrow fitted\">&nbsp;XGBClassifier<span class=\"sk-estimator-doc-link fitted\">i<span>Fitted</span></span></label><div class=\"sk-toggleable__content fitted\"><pre>XGBClassifier(base_score=None, booster=None, callbacks=None,\n",
       "              colsample_bylevel=None, colsample_bynode=0.8109691196781996,\n",
       "              colsample_bytree=None, device=None, early_stopping_rounds=None,\n",
       "              enable_categorical=False,\n",
       "              eval_metric=&lt;function custom_f1_score at 0x7fe9d4ea0540&gt;,\n",
       "              feature_types=None, gamma=None, grow_policy=None,\n",
       "              importance_type=None, interaction_constraints=None,\n",
       "              learning_rate=0.20046188160978387, max_bin=None,\n",
       "              max_cat_threshold=None, max_cat_to_onehot=None,\n",
       "              max_delta_step=None, max_depth=12, max_leaves=None,\n",
       "              min_child_weight=35, missing=nan, monotone_constraints=None,\n",
       "              multi_strategy=None, n_estimators=114, n_jobs=None,\n",
       "              num_parallel_tree=None, objective=&#x27;multi:softprob&#x27;, ...)</pre></div> </div></div></div></div>"
      ],
      "text/plain": [
       "XGBClassifier(base_score=None, booster=None, callbacks=None,\n",
       "              colsample_bylevel=None, colsample_bynode=0.8109691196781996,\n",
       "              colsample_bytree=None, device=None, early_stopping_rounds=None,\n",
       "              enable_categorical=False,\n",
       "              eval_metric=<function custom_f1_score at 0x7fe9d4ea0540>,\n",
       "              feature_types=None, gamma=None, grow_policy=None,\n",
       "              importance_type=None, interaction_constraints=None,\n",
       "              learning_rate=0.20046188160978387, max_bin=None,\n",
       "              max_cat_threshold=None, max_cat_to_onehot=None,\n",
       "              max_delta_step=None, max_depth=12, max_leaves=None,\n",
       "              min_child_weight=35, missing=nan, monotone_constraints=None,\n",
       "              multi_strategy=None, n_estimators=114, n_jobs=None,\n",
       "              num_parallel_tree=None, objective='multi:softprob', ...)"
      ]
     },
     "execution_count": 21,
     "metadata": {},
     "output_type": "execute_result"
    }
   ],
   "source": [
    "n_estimators = int(study.best_trial.user_attrs['best_iteration']*1.2)\n",
    "xgb = xgboost.XGBClassifier(\n",
    "        eval_metric=eval_metric,\n",
    "        n_estimators=n_estimators,\n",
    "        **study.best_trial.params\n",
    "    )\n",
    "xgb.fit(\n",
    "    ssp.vstack((X_train, X_val)), \n",
    "    np.concatenate((y_train_enc, y_val_enc)),\n",
    "    verbose=1,\n",
    ")"
   ]
  },
  {
   "cell_type": "code",
   "execution_count": 22,
   "id": "ba700b28",
   "metadata": {
    "execution": {
     "iopub.execute_input": "2025-05-15T16:15:10.600641Z",
     "iopub.status.busy": "2025-05-15T16:15:10.600431Z",
     "iopub.status.idle": "2025-05-15T16:15:10.665336Z",
     "shell.execute_reply": "2025-05-15T16:15:10.664981Z"
    },
    "papermill": {
     "duration": 0.075079,
     "end_time": "2025-05-15T16:15:10.666255",
     "exception": false,
     "start_time": "2025-05-15T16:15:10.591176",
     "status": "completed"
    },
    "tags": []
   },
   "outputs": [
    {
     "data": {
      "text/plain": [
       "['/scratch_isilon/groups/singlecell/shared/projects/Inflammation-PBMCs-Atlas/03_downstream_analysis/08_gene_importance/xgboost_external_validation/xgboost_TopN_genes/results_20/best_model/T_CD4_Naive_7_4_xgb.json']"
      ]
     },
     "execution_count": 22,
     "metadata": {},
     "output_type": "execute_result"
    }
   ],
   "source": [
    "out_dir = here(f'03_downstream_analysis/08_gene_importance/xgboost_external_validation/xgboost_TopN_genes/results_{N_GENES}/best_model')\n",
    "\n",
    "if not os.path.exists(out_dir):\n",
    "    os.makedirs(out_dir)\n",
    "    \n",
    "joblib.dump(xgb, os.path.join(out_dir, f'{CELL_TYPE}_{SEED}_{TEST_SPLIT_IDX}_xgb.json'))"
   ]
  },
  {
   "cell_type": "code",
   "execution_count": 23,
   "id": "d337cc8b",
   "metadata": {
    "execution": {
     "iopub.execute_input": "2025-05-15T16:15:10.685424Z",
     "iopub.status.busy": "2025-05-15T16:15:10.685034Z",
     "iopub.status.idle": "2025-05-15T16:15:11.169674Z",
     "shell.execute_reply": "2025-05-15T16:15:11.169279Z"
    },
    "papermill": {
     "duration": 0.495325,
     "end_time": "2025-05-15T16:15:11.170979",
     "exception": false,
     "start_time": "2025-05-15T16:15:10.675654",
     "status": "completed"
    },
    "tags": []
   },
   "outputs": [],
   "source": [
    "df_pred_test = pd.DataFrame(dict(\n",
    "    cell_id=train_adata.obs.iloc[test_idxs].index.values,\n",
    "    y_true=y_test, \n",
    "    y_true_code=y_test_enc, \n",
    "    y_pred=xgb.predict(X_test))).set_index('cell_id')"
   ]
  },
  {
   "cell_type": "code",
   "execution_count": 24,
   "id": "8b7ffc70",
   "metadata": {
    "execution": {
     "iopub.execute_input": "2025-05-15T16:15:11.189766Z",
     "iopub.status.busy": "2025-05-15T16:15:11.189577Z",
     "iopub.status.idle": "2025-05-15T16:15:11.281935Z",
     "shell.execute_reply": "2025-05-15T16:15:11.281520Z"
    },
    "papermill": {
     "duration": 0.102324,
     "end_time": "2025-05-15T16:15:11.282966",
     "exception": false,
     "start_time": "2025-05-15T16:15:11.180642",
     "status": "completed"
    },
    "tags": []
   },
   "outputs": [],
   "source": [
    "out_dir = here(f'03_downstream_analysis/08_gene_importance/xgboost_external_validation/xgboost_TopN_genes/results_{N_GENES}/predictions')\n",
    "\n",
    "if not os.path.exists(out_dir):\n",
    "    os.makedirs(out_dir)\n",
    "    \n",
    "df_pred_test.to_csv(os.path.join(out_dir, f'{CELL_TYPE}_{SEED}_{TEST_SPLIT_IDX}_pred_test.zip'))"
   ]
  },
  {
   "cell_type": "code",
   "execution_count": 25,
   "id": "a3ef3601",
   "metadata": {
    "execution": {
     "iopub.execute_input": "2025-05-15T16:15:11.309285Z",
     "iopub.status.busy": "2025-05-15T16:15:11.309095Z",
     "iopub.status.idle": "2025-05-15T16:15:11.321298Z",
     "shell.execute_reply": "2025-05-15T16:15:11.320924Z"
    },
    "papermill": {
     "duration": 0.022439,
     "end_time": "2025-05-15T16:15:11.322204",
     "exception": false,
     "start_time": "2025-05-15T16:15:11.299765",
     "status": "completed"
    },
    "tags": []
   },
   "outputs": [
    {
     "name": "stderr",
     "output_type": "stream",
     "text": [
      "/scratch_isilon/groups/singlecell/shared/conda_env/xgboost-cpu/lib/python3.12/site-packages/sklearn/metrics/_classification.py:2466: UserWarning: y_pred contains classes not in y_true\n",
      "  warnings.warn(\"y_pred contains classes not in y_true\")\n"
     ]
    }
   ],
   "source": [
    "metrics_dict = dict(\n",
    "    BAS=balanced_accuracy_score(y_true=df_pred_test.y_true_code, y_pred=df_pred_test.y_pred), WF1=f1_score(y_true=df_pred_test.y_true_code, y_pred=df_pred_test.y_pred,average='weighted'))"
   ]
  },
  {
   "cell_type": "code",
   "execution_count": 26,
   "id": "de03867c",
   "metadata": {
    "execution": {
     "iopub.execute_input": "2025-05-15T16:15:11.340714Z",
     "iopub.status.busy": "2025-05-15T16:15:11.340375Z",
     "iopub.status.idle": "2025-05-15T16:15:11.343264Z",
     "shell.execute_reply": "2025-05-15T16:15:11.342961Z"
    },
    "papermill": {
     "duration": 0.013225,
     "end_time": "2025-05-15T16:15:11.344116",
     "exception": false,
     "start_time": "2025-05-15T16:15:11.330891",
     "status": "completed"
    },
    "tags": []
   },
   "outputs": [
    {
     "data": {
      "text/plain": [
       "{'BAS': 0.5783071501346028, 'WF1': 0.7911841875476524}"
      ]
     },
     "execution_count": 26,
     "metadata": {},
     "output_type": "execute_result"
    }
   ],
   "source": [
    "metrics_dict"
   ]
  },
  {
   "cell_type": "code",
   "execution_count": 27,
   "id": "ad8b5774",
   "metadata": {
    "execution": {
     "iopub.execute_input": "2025-05-15T16:15:11.362360Z",
     "iopub.status.busy": "2025-05-15T16:15:11.362194Z",
     "iopub.status.idle": "2025-05-15T16:15:11.370746Z",
     "shell.execute_reply": "2025-05-15T16:15:11.370432Z"
    },
    "papermill": {
     "duration": 0.01886,
     "end_time": "2025-05-15T16:15:11.371550",
     "exception": false,
     "start_time": "2025-05-15T16:15:11.352690",
     "status": "completed"
    },
    "tags": []
   },
   "outputs": [
    {
     "data": {
      "text/html": [
       "<div>\n",
       "<style scoped>\n",
       "    .dataframe tbody tr th:only-of-type {\n",
       "        vertical-align: middle;\n",
       "    }\n",
       "\n",
       "    .dataframe tbody tr th {\n",
       "        vertical-align: top;\n",
       "    }\n",
       "\n",
       "    .dataframe thead th {\n",
       "        text-align: right;\n",
       "    }\n",
       "</style>\n",
       "<table border=\"1\" class=\"dataframe\">\n",
       "  <thead>\n",
       "    <tr style=\"text-align: right;\">\n",
       "      <th></th>\n",
       "      <th>BAS</th>\n",
       "      <th>WF1</th>\n",
       "      <th>split_idx</th>\n",
       "      <th>gene_set_seed</th>\n",
       "      <th>cell_type</th>\n",
       "    </tr>\n",
       "  </thead>\n",
       "  <tbody>\n",
       "    <tr>\n",
       "      <th>0</th>\n",
       "      <td>0.578307</td>\n",
       "      <td>0.791184</td>\n",
       "      <td>4</td>\n",
       "      <td>7</td>\n",
       "      <td>T_CD4_Naive</td>\n",
       "    </tr>\n",
       "  </tbody>\n",
       "</table>\n",
       "</div>"
      ],
      "text/plain": [
       "        BAS       WF1  split_idx  gene_set_seed    cell_type\n",
       "0  0.578307  0.791184          4              7  T_CD4_Naive"
      ]
     },
     "execution_count": 27,
     "metadata": {},
     "output_type": "execute_result"
    }
   ],
   "source": [
    "metrics_df = pd.DataFrame.from_dict([metrics_dict]).assign(split_idx=TEST_SPLIT_IDX, gene_set_seed=SEED, cell_type=CELL_TYPE)\n",
    "metrics_df"
   ]
  },
  {
   "cell_type": "code",
   "execution_count": 28,
   "id": "59992c5e",
   "metadata": {
    "execution": {
     "iopub.execute_input": "2025-05-15T16:15:11.399071Z",
     "iopub.status.busy": "2025-05-15T16:15:11.398828Z",
     "iopub.status.idle": "2025-05-15T16:15:11.406854Z",
     "shell.execute_reply": "2025-05-15T16:15:11.406490Z"
    },
    "papermill": {
     "duration": 0.026646,
     "end_time": "2025-05-15T16:15:11.407704",
     "exception": false,
     "start_time": "2025-05-15T16:15:11.381058",
     "status": "completed"
    },
    "tags": []
   },
   "outputs": [],
   "source": [
    "out_dir = here(f'03_downstream_analysis/08_gene_importance/xgboost_external_validation/xgboost_TopN_genes/results_{N_GENES}/metrics')\n",
    "\n",
    "if not os.path.exists(out_dir):\n",
    "    os.makedirs(out_dir)\n",
    "    \n",
    "metrics_df.to_csv(os.path.join(out_dir, f'{CELL_TYPE}_{SEED}_{TEST_SPLIT_IDX}_metrics.zip'))"
   ]
  }
 ],
 "metadata": {
  "kernelspec": {
   "display_name": "Python 3 (ipykernel)",
   "language": "python",
   "name": "python3"
  },
  "language_info": {
   "codemirror_mode": {
    "name": "ipython",
    "version": 3
   },
   "file_extension": ".py",
   "mimetype": "text/x-python",
   "name": "python",
   "nbconvert_exporter": "python",
   "pygments_lexer": "ipython3",
   "version": "3.12.5"
  },
  "papermill": {
   "default_parameters": {},
   "duration": 850.226658,
   "end_time": "2025-05-15T16:15:12.132376",
   "environment_variables": {},
   "exception": null,
   "input_path": "02_xgboost_fitting_external_20genes.ipynb",
   "output_path": "results_20/executed_notebooks/xgboost_fitting_external_CT_T_CD4_Naive_GS_7_seed4.ipynb",
   "parameters": {
    "CELL_TYPE": "T_CD4_Naive",
    "SEED": 7,
    "TEST_SPLIT_IDX": 4
   },
   "start_time": "2025-05-15T16:01:01.905718",
   "version": "2.6.0"
  }
 },
 "nbformat": 4,
 "nbformat_minor": 5
}