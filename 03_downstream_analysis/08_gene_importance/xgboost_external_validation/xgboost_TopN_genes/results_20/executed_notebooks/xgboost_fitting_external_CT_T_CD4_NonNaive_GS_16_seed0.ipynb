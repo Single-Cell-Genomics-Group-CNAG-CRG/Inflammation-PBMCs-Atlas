{
 "cells": [
  {
   "cell_type": "code",
   "execution_count": 1,
   "id": "76fc5594",
   "metadata": {
    "editable": true,
    "execution": {
     "iopub.execute_input": "2025-05-15T16:03:17.663620Z",
     "iopub.status.busy": "2025-05-15T16:03:17.663277Z",
     "iopub.status.idle": "2025-05-15T16:03:17.666319Z",
     "shell.execute_reply": "2025-05-15T16:03:17.665938Z"
    },
    "papermill": {
     "duration": 0.011755,
     "end_time": "2025-05-15T16:03:17.667310",
     "exception": false,
     "start_time": "2025-05-15T16:03:17.655555",
     "status": "completed"
    },
    "slideshow": {
     "slide_type": ""
    },
    "tags": [
     "parameters"
    ]
   },
   "outputs": [],
   "source": [
    "CELL_TYPE = 'pDC'\n",
    "N_GENES: int = 20\n",
    "SEED = 'shap_studyID' #'disease_NOstudy' 'study_NOdisease' or 'int' or 'shap_studyID'\n",
    "TEST_SPLIT_IDX: int = 1 #[0,4]"
   ]
  },
  {
   "cell_type": "code",
   "execution_count": 2,
   "id": "edf73e9e",
   "metadata": {
    "execution": {
     "iopub.execute_input": "2025-05-15T16:03:17.680411Z",
     "iopub.status.busy": "2025-05-15T16:03:17.680255Z",
     "iopub.status.idle": "2025-05-15T16:03:17.682632Z",
     "shell.execute_reply": "2025-05-15T16:03:17.682242Z"
    },
    "papermill": {
     "duration": 0.010506,
     "end_time": "2025-05-15T16:03:17.683441",
     "exception": false,
     "start_time": "2025-05-15T16:03:17.672935",
     "status": "completed"
    },
    "tags": [
     "injected-parameters"
    ]
   },
   "outputs": [],
   "source": [
    "# Parameters\n",
    "CELL_TYPE = \"T_CD4_NonNaive\"\n",
    "SEED = 16\n",
    "TEST_SPLIT_IDX = 0\n"
   ]
  },
  {
   "cell_type": "code",
   "execution_count": 3,
   "id": "b6c61616",
   "metadata": {
    "execution": {
     "iopub.execute_input": "2025-05-15T16:03:17.695225Z",
     "iopub.status.busy": "2025-05-15T16:03:17.694803Z",
     "iopub.status.idle": "2025-05-15T16:03:17.697014Z",
     "shell.execute_reply": "2025-05-15T16:03:17.696639Z"
    },
    "papermill": {
     "duration": 0.009042,
     "end_time": "2025-05-15T16:03:17.697970",
     "exception": false,
     "start_time": "2025-05-15T16:03:17.688928",
     "status": "completed"
    },
    "tags": []
   },
   "outputs": [],
   "source": [
    "N_SPLITS: int = 5\n",
    "N_TRIALS: int = 50"
   ]
  },
  {
   "cell_type": "code",
   "execution_count": 4,
   "id": "bbe64075",
   "metadata": {
    "execution": {
     "iopub.execute_input": "2025-05-15T16:03:17.710698Z",
     "iopub.status.busy": "2025-05-15T16:03:17.710413Z",
     "iopub.status.idle": "2025-05-15T16:03:19.664210Z",
     "shell.execute_reply": "2025-05-15T16:03:19.663749Z"
    },
    "papermill": {
     "duration": 1.962594,
     "end_time": "2025-05-15T16:03:19.665820",
     "exception": false,
     "start_time": "2025-05-15T16:03:17.703226",
     "status": "completed"
    },
    "tags": []
   },
   "outputs": [],
   "source": [
    "import os\n",
    "import sys\n",
    "from pyprojroot.here import here\n",
    "import pandas as pd\n",
    "import anndata as ad\n",
    "import numpy as np\n",
    "import math\n",
    "from sklearn.model_selection import StratifiedGroupKFold\n",
    "from sklearn.preprocessing import LabelEncoder\n",
    "from sklearn.metrics import f1_score\n",
    "import matplotlib.pyplot as plt\n",
    "import seaborn as sns\n",
    "from itertools import product\n",
    "from sklearn.metrics import balanced_accuracy_score, f1_score\n",
    "import optuna\n",
    "\n",
    "import joblib\n",
    "import pickle\n",
    "import datetime\n",
    "\n",
    "import collections\n",
    "\n",
    "import xgboost\n",
    "from sklearn.preprocessing import LabelEncoder\n",
    "\n",
    "import scipy.sparse as ssp\n",
    "import joblib\n",
    "\n",
    "from dotenv import load_dotenv"
   ]
  },
  {
   "cell_type": "code",
   "execution_count": 5,
   "id": "8c63e929",
   "metadata": {
    "execution": {
     "iopub.execute_input": "2025-05-15T16:03:19.677729Z",
     "iopub.status.busy": "2025-05-15T16:03:19.677161Z",
     "iopub.status.idle": "2025-05-15T16:03:19.683260Z",
     "shell.execute_reply": "2025-05-15T16:03:19.682968Z"
    },
    "papermill": {
     "duration": 0.01288,
     "end_time": "2025-05-15T16:03:19.684068",
     "exception": false,
     "start_time": "2025-05-15T16:03:19.671188",
     "status": "completed"
    },
    "tags": []
   },
   "outputs": [
    {
     "data": {
      "text/plain": [
       "True"
      ]
     },
     "execution_count": 5,
     "metadata": {},
     "output_type": "execute_result"
    }
   ],
   "source": [
    "load_dotenv()"
   ]
  },
  {
   "cell_type": "markdown",
   "id": "059b7c9f",
   "metadata": {
    "papermill": {
     "duration": 0.005568,
     "end_time": "2025-05-15T16:03:19.695099",
     "exception": false,
     "start_time": "2025-05-15T16:03:19.689531",
     "status": "completed"
    },
    "tags": []
   },
   "source": [
    "# LOAD DATASET"
   ]
  },
  {
   "cell_type": "code",
   "execution_count": 6,
   "id": "ecd0f1bf",
   "metadata": {
    "execution": {
     "iopub.execute_input": "2025-05-15T16:03:19.707700Z",
     "iopub.status.busy": "2025-05-15T16:03:19.707343Z",
     "iopub.status.idle": "2025-05-15T16:03:20.355714Z",
     "shell.execute_reply": "2025-05-15T16:03:20.355329Z"
    },
    "papermill": {
     "duration": 0.655015,
     "end_time": "2025-05-15T16:03:20.356536",
     "exception": false,
     "start_time": "2025-05-15T16:03:19.701521",
     "status": "completed"
    },
    "tags": []
   },
   "outputs": [],
   "source": [
    "train_adata = ad.read_h5ad(\n",
    "    here(f'03_downstream_analysis/08_gene_importance/xgboost_external_validation/xgboost_TopN_genes/data_cellTypes/EXTERNAL_{CELL_TYPE}.filtered.log1p.h5ad')\n",
    ")"
   ]
  },
  {
   "cell_type": "code",
   "execution_count": 7,
   "id": "b7655964",
   "metadata": {
    "execution": {
     "iopub.execute_input": "2025-05-15T16:03:20.368163Z",
     "iopub.status.busy": "2025-05-15T16:03:20.367890Z",
     "iopub.status.idle": "2025-05-15T16:03:20.401801Z",
     "shell.execute_reply": "2025-05-15T16:03:20.401459Z"
    },
    "papermill": {
     "duration": 0.040497,
     "end_time": "2025-05-15T16:03:20.402582",
     "exception": false,
     "start_time": "2025-05-15T16:03:20.362085",
     "status": "completed"
    },
    "tags": []
   },
   "outputs": [
    {
     "name": "stdout",
     "output_type": "stream",
     "text": [
      "['ENSG00000151882' 'ENSG00000183813' 'ENSG00000206503' 'ENSG00000167863'\n",
      " 'ENSG00000100365' 'ENSG00000135114' 'ENSG00000183172' 'ENSG00000117602'\n",
      " 'ENSG00000162739' 'ENSG00000204642' 'ENSG00000235162' 'ENSG00000103187'\n",
      " 'ENSG00000243646' 'ENSG00000109321' 'ENSG00000121858' 'ENSG00000069399'\n",
      " 'ENSG00000068796' 'ENSG00000197471' 'ENSG00000228474' 'ENSG00000140105'\n",
      " 'ENSG00000096996' 'ENSG00000176986' 'ENSG00000177556' 'ENSG00000161203'\n",
      " 'ENSG00000130066' 'ENSG00000100097' 'ENSG00000152219' 'ENSG00000106952'\n",
      " 'ENSG00000091409' 'ENSG00000100385' 'ENSG00000135441' 'ENSG00000104964'\n",
      " 'ENSG00000167552' 'ENSG00000084207' 'ENSG00000100906' 'ENSG00000215788'\n",
      " 'ENSG00000154814' 'ENSG00000204843' 'ENSG00000101608' 'ENSG00000075624'\n",
      " 'ENSG00000162704' 'ENSG00000158050' 'ENSG00000170345' 'ENSG00000110848'\n",
      " 'ENSG00000128524' 'ENSG00000135916' 'ENSG00000116815' 'ENSG00000185201'\n",
      " 'ENSG00000134107' 'ENSG00000089327' 'ENSG00000185950' 'ENSG00000142089'\n",
      " 'ENSG00000108774' 'ENSG00000118971' 'ENSG00000142669' 'ENSG00000100453'\n",
      " 'ENSG00000145675' 'ENSG00000240065' 'ENSG00000204472' 'ENSG00000120742'\n",
      " 'ENSG00000144802' 'ENSG00000088986' 'ENSG00000183696' 'ENSG00000005844'\n",
      " 'ENSG00000157601' 'ENSG00000160712' 'ENSG00000170525' 'ENSG00000168685'\n",
      " 'ENSG00000011600' 'ENSG00000132432' 'ENSG00000126561' 'ENSG00000122705'\n",
      " 'ENSG00000204257' 'ENSG00000177721' 'ENSG00000149357' 'ENSG00000205542'\n",
      " 'ENSG00000155368' 'ENSG00000075426' 'ENSG00000186810' 'ENSG00000005339'\n",
      " 'ENSG00000117450' 'ENSG00000156411' 'ENSG00000163659' 'ENSG00000125347'\n",
      " 'ENSG00000030110' 'ENSG00000002586' 'ENSG00000106605' 'ENSG00000143110'\n",
      " 'ENSG00000138378' 'ENSG00000160710' 'ENSG00000172183' 'ENSG00000119655'\n",
      " 'ENSG00000111640' 'ENSG00000242616' 'ENSG00000160213' 'ENSG00000173812'\n",
      " 'ENSG00000197747' 'ENSG00000152495' 'ENSG00000183486' 'ENSG00000100300'\n",
      " 'ENSG00000104998' 'ENSG00000126524']\n"
     ]
    }
   ],
   "source": [
    "if SEED != 'all':\n",
    "    gene_subset = np.load(here(f'03_downstream_analysis/08_gene_importance/xgboost_external_validation/shap_gene_selection/gene_subsets_{N_GENES}/{CELL_TYPE}_{SEED}.npy'), allow_pickle=True)\n",
    "    train_adata = train_adata[:,gene_subset]\n",
    "    print(gene_subset)\n",
    "elif SEED == 'all':\n",
    "    print('Using all genes')\n",
    "else:\n",
    "    raise ValueError()"
   ]
  },
  {
   "cell_type": "code",
   "execution_count": 8,
   "id": "1b9e89d7",
   "metadata": {
    "execution": {
     "iopub.execute_input": "2025-05-15T16:03:20.414665Z",
     "iopub.status.busy": "2025-05-15T16:03:20.414362Z",
     "iopub.status.idle": "2025-05-15T16:03:20.417306Z",
     "shell.execute_reply": "2025-05-15T16:03:20.417023Z"
    },
    "papermill": {
     "duration": 0.009993,
     "end_time": "2025-05-15T16:03:20.418046",
     "exception": false,
     "start_time": "2025-05-15T16:03:20.408053",
     "status": "completed"
    },
    "tags": []
   },
   "outputs": [
    {
     "data": {
      "text/plain": [
       "(124886, 102)"
      ]
     },
     "execution_count": 8,
     "metadata": {},
     "output_type": "execute_result"
    }
   ],
   "source": [
    "train_adata.shape"
   ]
  },
  {
   "cell_type": "code",
   "execution_count": 9,
   "id": "f780c9d3",
   "metadata": {
    "execution": {
     "iopub.execute_input": "2025-05-15T16:03:20.429716Z",
     "iopub.status.busy": "2025-05-15T16:03:20.429363Z",
     "iopub.status.idle": "2025-05-15T16:03:20.433484Z",
     "shell.execute_reply": "2025-05-15T16:03:20.433173Z"
    },
    "papermill": {
     "duration": 0.010813,
     "end_time": "2025-05-15T16:03:20.434252",
     "exception": false,
     "start_time": "2025-05-15T16:03:20.423439",
     "status": "completed"
    },
    "tags": []
   },
   "outputs": [
    {
     "data": {
      "text/plain": [
       "['RA', 'healthy', 'COVID', 'HIV', 'cirrhosis', 'CD', 'SLE', 'sepsis']\n",
       "Categories (8, object): ['CD', 'COVID', 'HIV', 'RA', 'SLE', 'cirrhosis', 'healthy', 'sepsis']"
      ]
     },
     "execution_count": 9,
     "metadata": {},
     "output_type": "execute_result"
    }
   ],
   "source": [
    "train_adata.obs.disease.unique()"
   ]
  },
  {
   "cell_type": "code",
   "execution_count": 10,
   "id": "ee6f9144",
   "metadata": {
    "execution": {
     "iopub.execute_input": "2025-05-15T16:03:20.446628Z",
     "iopub.status.busy": "2025-05-15T16:03:20.446215Z",
     "iopub.status.idle": "2025-05-15T16:03:20.450271Z",
     "shell.execute_reply": "2025-05-15T16:03:20.449970Z"
    },
    "papermill": {
     "duration": 0.010639,
     "end_time": "2025-05-15T16:03:20.451079",
     "exception": false,
     "start_time": "2025-05-15T16:03:20.440440",
     "status": "completed"
    },
    "tags": []
   },
   "outputs": [
    {
     "data": {
      "text/plain": [
       "['SCGT00val_I036016_T0', 'SCGT00val_I036023_T0', 'SCGT00val_I036015_T0', 'SCGT00val_I036028_T0', 'SCGT00val_I0364_T0', ..., '10XGenomics_10XHC2_T0', '10XGenomics_10XHC3_T0', '10XGenomics_10XHC5_T0', '10XGenomics_10XHC7_T0', '10XGenomics_10XHC8_T0']\n",
       "Length: 86\n",
       "Categories (86, object): ['10XGenomics_10XHC1_T0', '10XGenomics_10XHC2_T0', '10XGenomics_10XHC3_T0', '10XGenomics_10XHC4_T0', ..., 'Savage2021_BRISL6_T0', 'Savage2021_BRISL7_T0', 'Savage2021_PIDA_T0', 'Savage2021_PIDB_T0']"
      ]
     },
     "execution_count": 10,
     "metadata": {},
     "output_type": "execute_result"
    }
   ],
   "source": [
    "train_adata.obs.sampleID.unique()"
   ]
  },
  {
   "cell_type": "code",
   "execution_count": 11,
   "id": "6672d3f7",
   "metadata": {
    "execution": {
     "iopub.execute_input": "2025-05-15T16:03:20.462822Z",
     "iopub.status.busy": "2025-05-15T16:03:20.462550Z",
     "iopub.status.idle": "2025-05-15T16:03:20.754487Z",
     "shell.execute_reply": "2025-05-15T16:03:20.754101Z"
    },
    "papermill": {
     "duration": 0.298843,
     "end_time": "2025-05-15T16:03:20.755341",
     "exception": false,
     "start_time": "2025-05-15T16:03:20.456498",
     "status": "completed"
    },
    "tags": []
   },
   "outputs": [],
   "source": [
    "all_idxs = np.arange(train_adata.obs.shape[0])\n",
    "left_out_splits = [s[1] for s in StratifiedGroupKFold(n_splits=N_SPLITS).split(all_idxs, train_adata.obs.disease, train_adata.obs.sampleID)]"
   ]
  },
  {
   "cell_type": "code",
   "execution_count": 12,
   "id": "2ebc33f1",
   "metadata": {
    "execution": {
     "iopub.execute_input": "2025-05-15T16:03:20.769098Z",
     "iopub.status.busy": "2025-05-15T16:03:20.768814Z",
     "iopub.status.idle": "2025-05-15T16:03:20.771910Z",
     "shell.execute_reply": "2025-05-15T16:03:20.771607Z"
    },
    "papermill": {
     "duration": 0.011284,
     "end_time": "2025-05-15T16:03:20.772676",
     "exception": false,
     "start_time": "2025-05-15T16:03:20.761392",
     "status": "completed"
    },
    "tags": []
   },
   "outputs": [
    {
     "data": {
      "text/plain": [
       "([2, 3, 4], 1, 0)"
      ]
     },
     "execution_count": 12,
     "metadata": {},
     "output_type": "execute_result"
    }
   ],
   "source": [
    "TRAIN_SPLIT_IDXS = [0,1,2,3,4]\n",
    "VAL_SPLIT_IDX = (TEST_SPLIT_IDX + 1) % 5\n",
    "TRAIN_SPLIT_IDXS.remove(TEST_SPLIT_IDX)\n",
    "TRAIN_SPLIT_IDXS.remove(VAL_SPLIT_IDX)\n",
    "TRAIN_SPLIT_IDXS, VAL_SPLIT_IDX, TEST_SPLIT_IDX"
   ]
  },
  {
   "cell_type": "code",
   "execution_count": 13,
   "id": "dfba56b2",
   "metadata": {
    "execution": {
     "iopub.execute_input": "2025-05-15T16:03:20.784681Z",
     "iopub.status.busy": "2025-05-15T16:03:20.784542Z",
     "iopub.status.idle": "2025-05-15T16:03:20.786737Z",
     "shell.execute_reply": "2025-05-15T16:03:20.786447Z"
    },
    "papermill": {
     "duration": 0.009282,
     "end_time": "2025-05-15T16:03:20.787463",
     "exception": false,
     "start_time": "2025-05-15T16:03:20.778181",
     "status": "completed"
    },
    "tags": []
   },
   "outputs": [],
   "source": [
    "train_idxs = np.concatenate([left_out_splits[idx] for idx in TRAIN_SPLIT_IDXS])\n",
    "val_idxs = left_out_splits[VAL_SPLIT_IDX]\n",
    "test_idxs = left_out_splits[TEST_SPLIT_IDX]"
   ]
  },
  {
   "cell_type": "markdown",
   "id": "a28f3b7f",
   "metadata": {
    "papermill": {
     "duration": 0.00615,
     "end_time": "2025-05-15T16:03:20.799087",
     "exception": false,
     "start_time": "2025-05-15T16:03:20.792937",
     "status": "completed"
    },
    "tags": []
   },
   "source": [
    "### SUBSET DATASET INTO TRAIN/TEST/VAL SPLITS"
   ]
  },
  {
   "cell_type": "code",
   "execution_count": 14,
   "id": "3f513dc5",
   "metadata": {
    "execution": {
     "iopub.execute_input": "2025-05-15T16:03:20.811509Z",
     "iopub.status.busy": "2025-05-15T16:03:20.811156Z",
     "iopub.status.idle": "2025-05-15T16:03:21.060017Z",
     "shell.execute_reply": "2025-05-15T16:03:21.059690Z"
    },
    "papermill": {
     "duration": 0.25581,
     "end_time": "2025-05-15T16:03:21.060861",
     "exception": false,
     "start_time": "2025-05-15T16:03:20.805051",
     "status": "completed"
    },
    "tags": []
   },
   "outputs": [
    {
     "data": {
      "text/plain": [
       "((74333, 102), (24277, 102), (26276, 102))"
      ]
     },
     "execution_count": 14,
     "metadata": {},
     "output_type": "execute_result"
    }
   ],
   "source": [
    "X_train = train_adata.X[train_idxs]\n",
    "X_test = train_adata.X[test_idxs]\n",
    "X_val = train_adata.X[val_idxs]\n",
    "X_train.shape, X_test.shape, X_val.shape"
   ]
  },
  {
   "cell_type": "code",
   "execution_count": 15,
   "id": "40d4ab24",
   "metadata": {
    "execution": {
     "iopub.execute_input": "2025-05-15T16:03:21.073398Z",
     "iopub.status.busy": "2025-05-15T16:03:21.072986Z",
     "iopub.status.idle": "2025-05-15T16:03:21.084867Z",
     "shell.execute_reply": "2025-05-15T16:03:21.084535Z"
    },
    "papermill": {
     "duration": 0.018962,
     "end_time": "2025-05-15T16:03:21.085638",
     "exception": false,
     "start_time": "2025-05-15T16:03:21.066676",
     "status": "completed"
    },
    "tags": []
   },
   "outputs": [
    {
     "data": {
      "text/plain": [
       "((74333,), (24277,), (26276,))"
      ]
     },
     "execution_count": 15,
     "metadata": {},
     "output_type": "execute_result"
    }
   ],
   "source": [
    "y_train = train_adata.obs.iloc[train_idxs].disease.values.astype(str)\n",
    "y_test = train_adata.obs.iloc[test_idxs].disease.values.astype(str)\n",
    "y_val = train_adata.obs.iloc[val_idxs].disease.values.astype(str)\n",
    "y_train.shape, y_test.shape, y_val.shape"
   ]
  },
  {
   "cell_type": "code",
   "execution_count": 16,
   "id": "117040a5",
   "metadata": {
    "execution": {
     "iopub.execute_input": "2025-05-15T16:03:21.097895Z",
     "iopub.status.busy": "2025-05-15T16:03:21.097612Z",
     "iopub.status.idle": "2025-05-15T16:03:21.123839Z",
     "shell.execute_reply": "2025-05-15T16:03:21.123460Z"
    },
    "papermill": {
     "duration": 0.033312,
     "end_time": "2025-05-15T16:03:21.124698",
     "exception": false,
     "start_time": "2025-05-15T16:03:21.091386",
     "status": "completed"
    },
    "tags": []
   },
   "outputs": [],
   "source": [
    "lenc = LabelEncoder()\n",
    "y_train_enc = lenc.fit_transform(y_train)\n",
    "y_val_enc = lenc.transform(y_val)\n",
    "y_test_enc = lenc.transform(y_test)"
   ]
  },
  {
   "cell_type": "markdown",
   "id": "d119ac51",
   "metadata": {
    "papermill": {
     "duration": 0.005788,
     "end_time": "2025-05-15T16:03:21.136569",
     "exception": false,
     "start_time": "2025-05-15T16:03:21.130781",
     "status": "completed"
    },
    "tags": []
   },
   "source": [
    "### GENERATE F1 "
   ]
  },
  {
   "cell_type": "code",
   "execution_count": 17,
   "id": "9b5d81cf",
   "metadata": {
    "execution": {
     "iopub.execute_input": "2025-05-15T16:03:21.149156Z",
     "iopub.status.busy": "2025-05-15T16:03:21.148865Z",
     "iopub.status.idle": "2025-05-15T16:03:21.151147Z",
     "shell.execute_reply": "2025-05-15T16:03:21.150846Z"
    },
    "papermill": {
     "duration": 0.009493,
     "end_time": "2025-05-15T16:03:21.151925",
     "exception": false,
     "start_time": "2025-05-15T16:03:21.142432",
     "status": "completed"
    },
    "tags": []
   },
   "outputs": [],
   "source": [
    "def custom_f1_score(y_true, y_pred):\n",
    "    return -f1_score(y_true, y_pred.argmax(1), average='weighted')"
   ]
  },
  {
   "cell_type": "code",
   "execution_count": 18,
   "id": "8773abc1",
   "metadata": {
    "execution": {
     "iopub.execute_input": "2025-05-15T16:03:21.164206Z",
     "iopub.status.busy": "2025-05-15T16:03:21.163926Z",
     "iopub.status.idle": "2025-05-15T16:03:21.167469Z",
     "shell.execute_reply": "2025-05-15T16:03:21.167170Z"
    },
    "papermill": {
     "duration": 0.010496,
     "end_time": "2025-05-15T16:03:21.168211",
     "exception": false,
     "start_time": "2025-05-15T16:03:21.157715",
     "status": "completed"
    },
    "tags": []
   },
   "outputs": [],
   "source": [
    "eval_metric=custom_f1_score\n",
    "eval_metric_name='custom_f1_score'\n",
    "\n",
    "def objective(trial):\n",
    "    params = {\n",
    "        'n_estimators': 1500,\n",
    "        'max_depth': trial.suggest_int('max_depth', 3, 20),\n",
    "        'min_child_weight': trial.suggest_int('min_child_weight', 1, 250),\n",
    "        'subsample': trial.suggest_float('subsample', 0.1, 1.0),\n",
    "        'colsample_bynode': trial.suggest_float('colsample_bynode', 0.1, 1.0),\n",
    "        'learning_rate': trial.suggest_float('learning_rate', 1e-3, 5e-1, log=True),\n",
    "    }\n",
    "    pruning_callback = optuna.integration.XGBoostPruningCallback(trial, f'validation_0-{eval_metric_name}')\n",
    "    es_callback = xgboost.callback.EarlyStopping(20, min_delta=0.001)\n",
    "    xgb = xgboost.XGBClassifier(\n",
    "        eval_metric=eval_metric,\n",
    "        callbacks=[pruning_callback, es_callback],\n",
    "        n_jobs=5,\n",
    "        **params\n",
    "    )\n",
    "    xgb.fit(\n",
    "        X_train, \n",
    "        y_train_enc, \n",
    "        verbose=0,\n",
    "        eval_set=[(X_val, y_val_enc)],\n",
    "    )\n",
    "    trial.set_user_attr('best_iteration', xgb.best_iteration)\n",
    "\n",
    "    return xgb.best_score"
   ]
  },
  {
   "cell_type": "code",
   "execution_count": 19,
   "id": "372da1e7",
   "metadata": {
    "execution": {
     "iopub.execute_input": "2025-05-15T16:03:21.180668Z",
     "iopub.status.busy": "2025-05-15T16:03:21.180398Z",
     "iopub.status.idle": "2025-05-15T16:25:34.314501Z",
     "shell.execute_reply": "2025-05-15T16:25:34.313991Z"
    },
    "papermill": {
     "duration": 1333.141541,
     "end_time": "2025-05-15T16:25:34.315578",
     "exception": false,
     "start_time": "2025-05-15T16:03:21.174037",
     "status": "completed"
    },
    "scrolled": true,
    "tags": []
   },
   "outputs": [
    {
     "name": "stderr",
     "output_type": "stream",
     "text": [
      "[I 2025-05-15 18:03:21,182] A new study created in memory with name: no-name-8d7846bc-66ef-4c15-b6d0-0f51dc8bea4b\n"
     ]
    },
    {
     "name": "stderr",
     "output_type": "stream",
     "text": [
      "[I 2025-05-15 18:03:27,871] Trial 0 finished with value: -0.658271 and parameters: {'max_depth': 9, 'min_child_weight': 238, 'subsample': 0.7587945476302645, 'colsample_bynode': 0.6387926357773329, 'learning_rate': 0.0026368755339723046}. Best is trial 0 with value: -0.658271.\n"
     ]
    },
    {
     "name": "stderr",
     "output_type": "stream",
     "text": [
      "[I 2025-05-15 18:05:16,055] Trial 1 finished with value: -0.80318 and parameters: {'max_depth': 5, 'min_child_weight': 15, 'subsample': 0.8795585311974417, 'colsample_bynode': 0.6410035105688879, 'learning_rate': 0.08148293210105287}. Best is trial 1 with value: -0.80318.\n"
     ]
    },
    {
     "name": "stderr",
     "output_type": "stream",
     "text": [
      "[I 2025-05-15 18:05:22,949] Trial 2 finished with value: -0.611782 and parameters: {'max_depth': 3, 'min_child_weight': 243, 'subsample': 0.8491983767203796, 'colsample_bynode': 0.29110519961044856, 'learning_rate': 0.003095566460242371}. Best is trial 1 with value: -0.80318.\n"
     ]
    },
    {
     "name": "stderr",
     "output_type": "stream",
     "text": [
      "[I 2025-05-15 18:05:49,885] Trial 3 finished with value: -0.676948 and parameters: {'max_depth': 6, 'min_child_weight': 77, 'subsample': 0.5722807884690141, 'colsample_bynode': 0.48875051677790415, 'learning_rate': 0.006109683510122491}. Best is trial 1 with value: -0.80318.\n"
     ]
    },
    {
     "name": "stderr",
     "output_type": "stream",
     "text": [
      "[I 2025-05-15 18:08:56,056] Trial 4 finished with value: -0.793837 and parameters: {'max_depth': 14, 'min_child_weight': 35, 'subsample': 0.3629301836816964, 'colsample_bynode': 0.4297256589643226, 'learning_rate': 0.01701841881702917}. Best is trial 1 with value: -0.80318.\n"
     ]
    },
    {
     "name": "stderr",
     "output_type": "stream",
     "text": [
      "[I 2025-05-15 18:09:07,146] Trial 5 pruned. Trial was pruned at iteration 24.\n"
     ]
    },
    {
     "name": "stderr",
     "output_type": "stream",
     "text": [
      "[I 2025-05-15 18:09:26,254] Trial 6 finished with value: -0.786924 and parameters: {'max_depth': 13, 'min_child_weight': 43, 'subsample': 0.1585464336867516, 'colsample_bynode': 0.9539969835279999, 'learning_rate': 0.4038423798071558}. Best is trial 1 with value: -0.80318.\n"
     ]
    },
    {
     "name": "stderr",
     "output_type": "stream",
     "text": [
      "[I 2025-05-15 18:09:26,958] Trial 7 pruned. Trial was pruned at iteration 0.\n"
     ]
    },
    {
     "name": "stderr",
     "output_type": "stream",
     "text": [
      "[I 2025-05-15 18:09:27,603] Trial 8 pruned. Trial was pruned at iteration 0.\n"
     ]
    },
    {
     "name": "stderr",
     "output_type": "stream",
     "text": [
      "[I 2025-05-15 18:09:36,144] Trial 9 pruned. Trial was pruned at iteration 20.\n"
     ]
    },
    {
     "name": "stderr",
     "output_type": "stream",
     "text": [
      "[I 2025-05-15 18:09:36,926] Trial 10 pruned. Trial was pruned at iteration 0.\n"
     ]
    },
    {
     "name": "stderr",
     "output_type": "stream",
     "text": [
      "[I 2025-05-15 18:11:16,157] Trial 11 finished with value: -0.804108 and parameters: {'max_depth': 10, 'min_child_weight': 3, 'subsample': 0.34014304150377095, 'colsample_bynode': 0.40131565860091256, 'learning_rate': 0.057899203666416425}. Best is trial 11 with value: -0.804108.\n"
     ]
    },
    {
     "name": "stderr",
     "output_type": "stream",
     "text": [
      "[I 2025-05-15 18:12:29,040] Trial 12 finished with value: -0.801348 and parameters: {'max_depth': 8, 'min_child_weight': 3, 'subsample': 0.3693916175642251, 'colsample_bynode': 0.351751713087183, 'learning_rate': 0.07220195396446884}. Best is trial 11 with value: -0.804108.\n"
     ]
    },
    {
     "name": "stderr",
     "output_type": "stream",
     "text": [
      "[I 2025-05-15 18:12:29,736] Trial 13 pruned. Trial was pruned at iteration 0.\n"
     ]
    },
    {
     "name": "stderr",
     "output_type": "stream",
     "text": [
      "[I 2025-05-15 18:12:30,406] Trial 14 pruned. Trial was pruned at iteration 0.\n"
     ]
    },
    {
     "name": "stderr",
     "output_type": "stream",
     "text": [
      "[I 2025-05-15 18:14:49,209] Trial 15 finished with value: -0.799006 and parameters: {'max_depth': 20, 'min_child_weight': 1, 'subsample': 0.996414878572692, 'colsample_bynode': 0.2868276435331959, 'learning_rate': 0.13085256947195753}. Best is trial 11 with value: -0.804108.\n"
     ]
    },
    {
     "name": "stderr",
     "output_type": "stream",
     "text": [
      "[I 2025-05-15 18:14:49,855] Trial 16 pruned. Trial was pruned at iteration 0.\n"
     ]
    },
    {
     "name": "stderr",
     "output_type": "stream",
     "text": [
      "[I 2025-05-15 18:14:50,540] Trial 17 pruned. Trial was pruned at iteration 0.\n"
     ]
    },
    {
     "name": "stderr",
     "output_type": "stream",
     "text": [
      "[I 2025-05-15 18:15:53,683] Trial 18 finished with value: -0.808779 and parameters: {'max_depth': 6, 'min_child_weight': 37, 'subsample': 0.7067229712126947, 'colsample_bynode': 0.39781988069976437, 'learning_rate': 0.16384379577990202}. Best is trial 18 with value: -0.808779.\n"
     ]
    },
    {
     "name": "stderr",
     "output_type": "stream",
     "text": [
      "[I 2025-05-15 18:16:37,963] Trial 19 finished with value: -0.806855 and parameters: {'max_depth': 10, 'min_child_weight': 54, 'subsample': 0.6713157142913582, 'colsample_bynode': 0.4006431452010076, 'learning_rate': 0.19980774226567669}. Best is trial 18 with value: -0.808779.\n"
     ]
    },
    {
     "name": "stderr",
     "output_type": "stream",
     "text": [
      "[I 2025-05-15 18:16:38,629] Trial 20 pruned. Trial was pruned at iteration 0.\n"
     ]
    },
    {
     "name": "stderr",
     "output_type": "stream",
     "text": [
      "[I 2025-05-15 18:16:39,343] Trial 21 pruned. Trial was pruned at iteration 0.\n"
     ]
    },
    {
     "name": "stderr",
     "output_type": "stream",
     "text": [
      "[I 2025-05-15 18:16:40,079] Trial 22 pruned. Trial was pruned at iteration 0.\n"
     ]
    },
    {
     "name": "stderr",
     "output_type": "stream",
     "text": [
      "[I 2025-05-15 18:16:41,820] Trial 23 pruned. Trial was pruned at iteration 3.\n"
     ]
    },
    {
     "name": "stderr",
     "output_type": "stream",
     "text": [
      "[I 2025-05-15 18:18:00,624] Trial 24 finished with value: -0.808498 and parameters: {'max_depth': 7, 'min_child_weight': 62, 'subsample': 0.8076270279120659, 'colsample_bynode': 0.5544202929961448, 'learning_rate': 0.2965292687534648}. Best is trial 18 with value: -0.808779.\n"
     ]
    },
    {
     "name": "stderr",
     "output_type": "stream",
     "text": [
      "[I 2025-05-15 18:18:01,245] Trial 25 pruned. Trial was pruned at iteration 0.\n"
     ]
    },
    {
     "name": "stderr",
     "output_type": "stream",
     "text": [
      "[I 2025-05-15 18:18:01,870] Trial 26 pruned. Trial was pruned at iteration 0.\n"
     ]
    },
    {
     "name": "stderr",
     "output_type": "stream",
     "text": [
      "[I 2025-05-15 18:18:02,442] Trial 27 pruned. Trial was pruned at iteration 0.\n"
     ]
    },
    {
     "name": "stderr",
     "output_type": "stream",
     "text": [
      "[I 2025-05-15 18:18:03,051] Trial 28 pruned. Trial was pruned at iteration 0.\n"
     ]
    },
    {
     "name": "stderr",
     "output_type": "stream",
     "text": [
      "[I 2025-05-15 18:18:03,673] Trial 29 pruned. Trial was pruned at iteration 0.\n"
     ]
    },
    {
     "name": "stderr",
     "output_type": "stream",
     "text": [
      "[I 2025-05-15 18:18:04,280] Trial 30 pruned. Trial was pruned at iteration 0.\n"
     ]
    },
    {
     "name": "stderr",
     "output_type": "stream",
     "text": [
      "[I 2025-05-15 18:18:04,967] Trial 31 pruned. Trial was pruned at iteration 0.\n"
     ]
    },
    {
     "name": "stderr",
     "output_type": "stream",
     "text": [
      "[I 2025-05-15 18:19:30,739] Trial 32 finished with value: -0.807869 and parameters: {'max_depth': 10, 'min_child_weight': 21, 'subsample': 0.6258238017627489, 'colsample_bynode': 0.353096544895028, 'learning_rate': 0.18802645392989387}. Best is trial 18 with value: -0.808779.\n"
     ]
    },
    {
     "name": "stderr",
     "output_type": "stream",
     "text": [
      "[I 2025-05-15 18:20:04,642] Trial 33 finished with value: -0.804732 and parameters: {'max_depth': 12, 'min_child_weight': 21, 'subsample': 0.6198323198848258, 'colsample_bynode': 0.34302564956533493, 'learning_rate': 0.1812338390817252}. Best is trial 18 with value: -0.808779.\n"
     ]
    },
    {
     "name": "stderr",
     "output_type": "stream",
     "text": [
      "[I 2025-05-15 18:20:05,250] Trial 34 pruned. Trial was pruned at iteration 0.\n"
     ]
    },
    {
     "name": "stderr",
     "output_type": "stream",
     "text": [
      "[I 2025-05-15 18:20:05,918] Trial 35 pruned. Trial was pruned at iteration 0.\n"
     ]
    },
    {
     "name": "stderr",
     "output_type": "stream",
     "text": [
      "[I 2025-05-15 18:20:06,496] Trial 36 pruned. Trial was pruned at iteration 0.\n"
     ]
    },
    {
     "name": "stderr",
     "output_type": "stream",
     "text": [
      "[I 2025-05-15 18:20:57,599] Trial 37 finished with value: -0.809877 and parameters: {'max_depth': 13, 'min_child_weight': 17, 'subsample': 0.7046540303382839, 'colsample_bynode': 0.4484487275206919, 'learning_rate': 0.15356793844797842}. Best is trial 37 with value: -0.809877.\n"
     ]
    },
    {
     "name": "stderr",
     "output_type": "stream",
     "text": [
      "[I 2025-05-15 18:21:57,896] Trial 38 finished with value: -0.807767 and parameters: {'max_depth': 16, 'min_child_weight': 14, 'subsample': 0.7517081546776122, 'colsample_bynode': 0.44920760260940945, 'learning_rate': 0.1482669121022639}. Best is trial 37 with value: -0.809877.\n"
     ]
    },
    {
     "name": "stderr",
     "output_type": "stream",
     "text": [
      "[I 2025-05-15 18:22:28,080] Trial 39 finished with value: -0.806364 and parameters: {'max_depth': 14, 'min_child_weight': 41, 'subsample': 0.5176055181261401, 'colsample_bynode': 0.5241582396568704, 'learning_rate': 0.3295629897746898}. Best is trial 37 with value: -0.809877.\n"
     ]
    },
    {
     "name": "stderr",
     "output_type": "stream",
     "text": [
      "[I 2025-05-15 18:22:34,176] Trial 40 pruned. Trial was pruned at iteration 12.\n"
     ]
    },
    {
     "name": "stderr",
     "output_type": "stream",
     "text": [
      "[I 2025-05-15 18:23:26,553] Trial 41 finished with value: -0.806643 and parameters: {'max_depth': 16, 'min_child_weight': 16, 'subsample': 0.7968620399154127, 'colsample_bynode': 0.4540548897969017, 'learning_rate': 0.14592591140679062}. Best is trial 37 with value: -0.809877.\n"
     ]
    },
    {
     "name": "stderr",
     "output_type": "stream",
     "text": [
      "[I 2025-05-15 18:23:29,264] Trial 42 pruned. Trial was pruned at iteration 5.\n"
     ]
    },
    {
     "name": "stderr",
     "output_type": "stream",
     "text": [
      "[I 2025-05-15 18:23:50,856] Trial 43 finished with value: -0.80463 and parameters: {'max_depth': 16, 'min_child_weight': 44, 'subsample': 0.921276439615753, 'colsample_bynode': 0.4955363128335242, 'learning_rate': 0.3666261324702993}. Best is trial 37 with value: -0.809877.\n"
     ]
    },
    {
     "name": "stderr",
     "output_type": "stream",
     "text": [
      "[I 2025-05-15 18:24:52,405] Trial 44 finished with value: -0.806602 and parameters: {'max_depth': 15, 'min_child_weight': 10, 'subsample': 0.6959999964368762, 'colsample_bynode': 0.6677608868538265, 'learning_rate': 0.14335122503584985}. Best is trial 37 with value: -0.809877.\n"
     ]
    },
    {
     "name": "stderr",
     "output_type": "stream",
     "text": [
      "[I 2025-05-15 18:25:30,692] Trial 45 finished with value: -0.808252 and parameters: {'max_depth': 17, 'min_child_weight': 32, 'subsample': 0.8709839528160199, 'colsample_bynode': 0.25417395578275254, 'learning_rate': 0.232142818246296}. Best is trial 37 with value: -0.809877.\n"
     ]
    },
    {
     "name": "stderr",
     "output_type": "stream",
     "text": [
      "[I 2025-05-15 18:25:32,403] Trial 46 pruned. Trial was pruned at iteration 3.\n"
     ]
    },
    {
     "name": "stderr",
     "output_type": "stream",
     "text": [
      "[I 2025-05-15 18:25:33,013] Trial 47 pruned. Trial was pruned at iteration 0.\n"
     ]
    },
    {
     "name": "stderr",
     "output_type": "stream",
     "text": [
      "[I 2025-05-15 18:25:33,616] Trial 48 pruned. Trial was pruned at iteration 0.\n"
     ]
    },
    {
     "name": "stderr",
     "output_type": "stream",
     "text": [
      "[I 2025-05-15 18:25:34,227] Trial 49 pruned. Trial was pruned at iteration 0.\n"
     ]
    }
   ],
   "source": [
    "sampler = optuna.samplers.TPESampler(seed=42)\n",
    "study = optuna.create_study(direction='minimize', sampler=sampler)\n",
    "study.optimize(objective, n_trials=N_TRIALS, gc_after_trial=True)"
   ]
  },
  {
   "cell_type": "code",
   "execution_count": 20,
   "id": "4f3e73c7",
   "metadata": {
    "execution": {
     "iopub.execute_input": "2025-05-15T16:25:34.333586Z",
     "iopub.status.busy": "2025-05-15T16:25:34.333279Z",
     "iopub.status.idle": "2025-05-15T16:25:34.360012Z",
     "shell.execute_reply": "2025-05-15T16:25:34.359575Z"
    },
    "papermill": {
     "duration": 0.036675,
     "end_time": "2025-05-15T16:25:34.360850",
     "exception": false,
     "start_time": "2025-05-15T16:25:34.324175",
     "status": "completed"
    },
    "tags": []
   },
   "outputs": [
    {
     "data": {
      "text/plain": [
       "['/scratch_isilon/groups/singlecell/shared/projects/Inflammation-PBMCs-Atlas/03_downstream_analysis/08_gene_importance/xgboost_external_validation/xgboost_TopN_genes/results_20/study/T_CD4_NonNaive_16_0_xgboost.pkl']"
      ]
     },
     "execution_count": 20,
     "metadata": {},
     "output_type": "execute_result"
    }
   ],
   "source": [
    "out_dir = here(f'03_downstream_analysis/08_gene_importance/xgboost_external_validation/xgboost_TopN_genes/results_{N_GENES}/study')\n",
    "\n",
    "if not os.path.exists(out_dir):\n",
    "    os.makedirs(out_dir)\n",
    "    \n",
    "joblib.dump(study,os.path.join(out_dir, f'{CELL_TYPE}_{SEED}_{TEST_SPLIT_IDX}_xgboost.pkl'))"
   ]
  },
  {
   "cell_type": "code",
   "execution_count": 21,
   "id": "5aa0b41b",
   "metadata": {
    "execution": {
     "iopub.execute_input": "2025-05-15T16:25:34.377829Z",
     "iopub.status.busy": "2025-05-15T16:25:34.377531Z",
     "iopub.status.idle": "2025-05-15T16:25:56.822246Z",
     "shell.execute_reply": "2025-05-15T16:25:56.821905Z"
    },
    "papermill": {
     "duration": 22.455121,
     "end_time": "2025-05-15T16:25:56.823757",
     "exception": false,
     "start_time": "2025-05-15T16:25:34.368636",
     "status": "completed"
    },
    "tags": []
   },
   "outputs": [
    {
     "data": {
      "text/html": [
       "<style>#sk-container-id-1 {\n",
       "  /* Definition of color scheme common for light and dark mode */\n",
       "  --sklearn-color-text: black;\n",
       "  --sklearn-color-line: gray;\n",
       "  /* Definition of color scheme for unfitted estimators */\n",
       "  --sklearn-color-unfitted-level-0: #fff5e6;\n",
       "  --sklearn-color-unfitted-level-1: #f6e4d2;\n",
       "  --sklearn-color-unfitted-level-2: #ffe0b3;\n",
       "  --sklearn-color-unfitted-level-3: chocolate;\n",
       "  /* Definition of color scheme for fitted estimators */\n",
       "  --sklearn-color-fitted-level-0: #f0f8ff;\n",
       "  --sklearn-color-fitted-level-1: #d4ebff;\n",
       "  --sklearn-color-fitted-level-2: #b3dbfd;\n",
       "  --sklearn-color-fitted-level-3: cornflowerblue;\n",
       "\n",
       "  /* Specific color for light theme */\n",
       "  --sklearn-color-text-on-default-background: var(--sg-text-color, var(--theme-code-foreground, var(--jp-content-font-color1, black)));\n",
       "  --sklearn-color-background: var(--sg-background-color, var(--theme-background, var(--jp-layout-color0, white)));\n",
       "  --sklearn-color-border-box: var(--sg-text-color, var(--theme-code-foreground, var(--jp-content-font-color1, black)));\n",
       "  --sklearn-color-icon: #696969;\n",
       "\n",
       "  @media (prefers-color-scheme: dark) {\n",
       "    /* Redefinition of color scheme for dark theme */\n",
       "    --sklearn-color-text-on-default-background: var(--sg-text-color, var(--theme-code-foreground, var(--jp-content-font-color1, white)));\n",
       "    --sklearn-color-background: var(--sg-background-color, var(--theme-background, var(--jp-layout-color0, #111)));\n",
       "    --sklearn-color-border-box: var(--sg-text-color, var(--theme-code-foreground, var(--jp-content-font-color1, white)));\n",
       "    --sklearn-color-icon: #878787;\n",
       "  }\n",
       "}\n",
       "\n",
       "#sk-container-id-1 {\n",
       "  color: var(--sklearn-color-text);\n",
       "}\n",
       "\n",
       "#sk-container-id-1 pre {\n",
       "  padding: 0;\n",
       "}\n",
       "\n",
       "#sk-container-id-1 input.sk-hidden--visually {\n",
       "  border: 0;\n",
       "  clip: rect(1px 1px 1px 1px);\n",
       "  clip: rect(1px, 1px, 1px, 1px);\n",
       "  height: 1px;\n",
       "  margin: -1px;\n",
       "  overflow: hidden;\n",
       "  padding: 0;\n",
       "  position: absolute;\n",
       "  width: 1px;\n",
       "}\n",
       "\n",
       "#sk-container-id-1 div.sk-dashed-wrapped {\n",
       "  border: 1px dashed var(--sklearn-color-line);\n",
       "  margin: 0 0.4em 0.5em 0.4em;\n",
       "  box-sizing: border-box;\n",
       "  padding-bottom: 0.4em;\n",
       "  background-color: var(--sklearn-color-background);\n",
       "}\n",
       "\n",
       "#sk-container-id-1 div.sk-container {\n",
       "  /* jupyter's `normalize.less` sets `[hidden] { display: none; }`\n",
       "     but bootstrap.min.css set `[hidden] { display: none !important; }`\n",
       "     so we also need the `!important` here to be able to override the\n",
       "     default hidden behavior on the sphinx rendered scikit-learn.org.\n",
       "     See: https://github.com/scikit-learn/scikit-learn/issues/21755 */\n",
       "  display: inline-block !important;\n",
       "  position: relative;\n",
       "}\n",
       "\n",
       "#sk-container-id-1 div.sk-text-repr-fallback {\n",
       "  display: none;\n",
       "}\n",
       "\n",
       "div.sk-parallel-item,\n",
       "div.sk-serial,\n",
       "div.sk-item {\n",
       "  /* draw centered vertical line to link estimators */\n",
       "  background-image: linear-gradient(var(--sklearn-color-text-on-default-background), var(--sklearn-color-text-on-default-background));\n",
       "  background-size: 2px 100%;\n",
       "  background-repeat: no-repeat;\n",
       "  background-position: center center;\n",
       "}\n",
       "\n",
       "/* Parallel-specific style estimator block */\n",
       "\n",
       "#sk-container-id-1 div.sk-parallel-item::after {\n",
       "  content: \"\";\n",
       "  width: 100%;\n",
       "  border-bottom: 2px solid var(--sklearn-color-text-on-default-background);\n",
       "  flex-grow: 1;\n",
       "}\n",
       "\n",
       "#sk-container-id-1 div.sk-parallel {\n",
       "  display: flex;\n",
       "  align-items: stretch;\n",
       "  justify-content: center;\n",
       "  background-color: var(--sklearn-color-background);\n",
       "  position: relative;\n",
       "}\n",
       "\n",
       "#sk-container-id-1 div.sk-parallel-item {\n",
       "  display: flex;\n",
       "  flex-direction: column;\n",
       "}\n",
       "\n",
       "#sk-container-id-1 div.sk-parallel-item:first-child::after {\n",
       "  align-self: flex-end;\n",
       "  width: 50%;\n",
       "}\n",
       "\n",
       "#sk-container-id-1 div.sk-parallel-item:last-child::after {\n",
       "  align-self: flex-start;\n",
       "  width: 50%;\n",
       "}\n",
       "\n",
       "#sk-container-id-1 div.sk-parallel-item:only-child::after {\n",
       "  width: 0;\n",
       "}\n",
       "\n",
       "/* Serial-specific style estimator block */\n",
       "\n",
       "#sk-container-id-1 div.sk-serial {\n",
       "  display: flex;\n",
       "  flex-direction: column;\n",
       "  align-items: center;\n",
       "  background-color: var(--sklearn-color-background);\n",
       "  padding-right: 1em;\n",
       "  padding-left: 1em;\n",
       "}\n",
       "\n",
       "\n",
       "/* Toggleable style: style used for estimator/Pipeline/ColumnTransformer box that is\n",
       "clickable and can be expanded/collapsed.\n",
       "- Pipeline and ColumnTransformer use this feature and define the default style\n",
       "- Estimators will overwrite some part of the style using the `sk-estimator` class\n",
       "*/\n",
       "\n",
       "/* Pipeline and ColumnTransformer style (default) */\n",
       "\n",
       "#sk-container-id-1 div.sk-toggleable {\n",
       "  /* Default theme specific background. It is overwritten whether we have a\n",
       "  specific estimator or a Pipeline/ColumnTransformer */\n",
       "  background-color: var(--sklearn-color-background);\n",
       "}\n",
       "\n",
       "/* Toggleable label */\n",
       "#sk-container-id-1 label.sk-toggleable__label {\n",
       "  cursor: pointer;\n",
       "  display: block;\n",
       "  width: 100%;\n",
       "  margin-bottom: 0;\n",
       "  padding: 0.5em;\n",
       "  box-sizing: border-box;\n",
       "  text-align: center;\n",
       "}\n",
       "\n",
       "#sk-container-id-1 label.sk-toggleable__label-arrow:before {\n",
       "  /* Arrow on the left of the label */\n",
       "  content: \"▸\";\n",
       "  float: left;\n",
       "  margin-right: 0.25em;\n",
       "  color: var(--sklearn-color-icon);\n",
       "}\n",
       "\n",
       "#sk-container-id-1 label.sk-toggleable__label-arrow:hover:before {\n",
       "  color: var(--sklearn-color-text);\n",
       "}\n",
       "\n",
       "/* Toggleable content - dropdown */\n",
       "\n",
       "#sk-container-id-1 div.sk-toggleable__content {\n",
       "  max-height: 0;\n",
       "  max-width: 0;\n",
       "  overflow: hidden;\n",
       "  text-align: left;\n",
       "  /* unfitted */\n",
       "  background-color: var(--sklearn-color-unfitted-level-0);\n",
       "}\n",
       "\n",
       "#sk-container-id-1 div.sk-toggleable__content.fitted {\n",
       "  /* fitted */\n",
       "  background-color: var(--sklearn-color-fitted-level-0);\n",
       "}\n",
       "\n",
       "#sk-container-id-1 div.sk-toggleable__content pre {\n",
       "  margin: 0.2em;\n",
       "  border-radius: 0.25em;\n",
       "  color: var(--sklearn-color-text);\n",
       "  /* unfitted */\n",
       "  background-color: var(--sklearn-color-unfitted-level-0);\n",
       "}\n",
       "\n",
       "#sk-container-id-1 div.sk-toggleable__content.fitted pre {\n",
       "  /* unfitted */\n",
       "  background-color: var(--sklearn-color-fitted-level-0);\n",
       "}\n",
       "\n",
       "#sk-container-id-1 input.sk-toggleable__control:checked~div.sk-toggleable__content {\n",
       "  /* Expand drop-down */\n",
       "  max-height: 200px;\n",
       "  max-width: 100%;\n",
       "  overflow: auto;\n",
       "}\n",
       "\n",
       "#sk-container-id-1 input.sk-toggleable__control:checked~label.sk-toggleable__label-arrow:before {\n",
       "  content: \"▾\";\n",
       "}\n",
       "\n",
       "/* Pipeline/ColumnTransformer-specific style */\n",
       "\n",
       "#sk-container-id-1 div.sk-label input.sk-toggleable__control:checked~label.sk-toggleable__label {\n",
       "  color: var(--sklearn-color-text);\n",
       "  background-color: var(--sklearn-color-unfitted-level-2);\n",
       "}\n",
       "\n",
       "#sk-container-id-1 div.sk-label.fitted input.sk-toggleable__control:checked~label.sk-toggleable__label {\n",
       "  background-color: var(--sklearn-color-fitted-level-2);\n",
       "}\n",
       "\n",
       "/* Estimator-specific style */\n",
       "\n",
       "/* Colorize estimator box */\n",
       "#sk-container-id-1 div.sk-estimator input.sk-toggleable__control:checked~label.sk-toggleable__label {\n",
       "  /* unfitted */\n",
       "  background-color: var(--sklearn-color-unfitted-level-2);\n",
       "}\n",
       "\n",
       "#sk-container-id-1 div.sk-estimator.fitted input.sk-toggleable__control:checked~label.sk-toggleable__label {\n",
       "  /* fitted */\n",
       "  background-color: var(--sklearn-color-fitted-level-2);\n",
       "}\n",
       "\n",
       "#sk-container-id-1 div.sk-label label.sk-toggleable__label,\n",
       "#sk-container-id-1 div.sk-label label {\n",
       "  /* The background is the default theme color */\n",
       "  color: var(--sklearn-color-text-on-default-background);\n",
       "}\n",
       "\n",
       "/* On hover, darken the color of the background */\n",
       "#sk-container-id-1 div.sk-label:hover label.sk-toggleable__label {\n",
       "  color: var(--sklearn-color-text);\n",
       "  background-color: var(--sklearn-color-unfitted-level-2);\n",
       "}\n",
       "\n",
       "/* Label box, darken color on hover, fitted */\n",
       "#sk-container-id-1 div.sk-label.fitted:hover label.sk-toggleable__label.fitted {\n",
       "  color: var(--sklearn-color-text);\n",
       "  background-color: var(--sklearn-color-fitted-level-2);\n",
       "}\n",
       "\n",
       "/* Estimator label */\n",
       "\n",
       "#sk-container-id-1 div.sk-label label {\n",
       "  font-family: monospace;\n",
       "  font-weight: bold;\n",
       "  display: inline-block;\n",
       "  line-height: 1.2em;\n",
       "}\n",
       "\n",
       "#sk-container-id-1 div.sk-label-container {\n",
       "  text-align: center;\n",
       "}\n",
       "\n",
       "/* Estimator-specific */\n",
       "#sk-container-id-1 div.sk-estimator {\n",
       "  font-family: monospace;\n",
       "  border: 1px dotted var(--sklearn-color-border-box);\n",
       "  border-radius: 0.25em;\n",
       "  box-sizing: border-box;\n",
       "  margin-bottom: 0.5em;\n",
       "  /* unfitted */\n",
       "  background-color: var(--sklearn-color-unfitted-level-0);\n",
       "}\n",
       "\n",
       "#sk-container-id-1 div.sk-estimator.fitted {\n",
       "  /* fitted */\n",
       "  background-color: var(--sklearn-color-fitted-level-0);\n",
       "}\n",
       "\n",
       "/* on hover */\n",
       "#sk-container-id-1 div.sk-estimator:hover {\n",
       "  /* unfitted */\n",
       "  background-color: var(--sklearn-color-unfitted-level-2);\n",
       "}\n",
       "\n",
       "#sk-container-id-1 div.sk-estimator.fitted:hover {\n",
       "  /* fitted */\n",
       "  background-color: var(--sklearn-color-fitted-level-2);\n",
       "}\n",
       "\n",
       "/* Specification for estimator info (e.g. \"i\" and \"?\") */\n",
       "\n",
       "/* Common style for \"i\" and \"?\" */\n",
       "\n",
       ".sk-estimator-doc-link,\n",
       "a:link.sk-estimator-doc-link,\n",
       "a:visited.sk-estimator-doc-link {\n",
       "  float: right;\n",
       "  font-size: smaller;\n",
       "  line-height: 1em;\n",
       "  font-family: monospace;\n",
       "  background-color: var(--sklearn-color-background);\n",
       "  border-radius: 1em;\n",
       "  height: 1em;\n",
       "  width: 1em;\n",
       "  text-decoration: none !important;\n",
       "  margin-left: 1ex;\n",
       "  /* unfitted */\n",
       "  border: var(--sklearn-color-unfitted-level-1) 1pt solid;\n",
       "  color: var(--sklearn-color-unfitted-level-1);\n",
       "}\n",
       "\n",
       ".sk-estimator-doc-link.fitted,\n",
       "a:link.sk-estimator-doc-link.fitted,\n",
       "a:visited.sk-estimator-doc-link.fitted {\n",
       "  /* fitted */\n",
       "  border: var(--sklearn-color-fitted-level-1) 1pt solid;\n",
       "  color: var(--sklearn-color-fitted-level-1);\n",
       "}\n",
       "\n",
       "/* On hover */\n",
       "div.sk-estimator:hover .sk-estimator-doc-link:hover,\n",
       ".sk-estimator-doc-link:hover,\n",
       "div.sk-label-container:hover .sk-estimator-doc-link:hover,\n",
       ".sk-estimator-doc-link:hover {\n",
       "  /* unfitted */\n",
       "  background-color: var(--sklearn-color-unfitted-level-3);\n",
       "  color: var(--sklearn-color-background);\n",
       "  text-decoration: none;\n",
       "}\n",
       "\n",
       "div.sk-estimator.fitted:hover .sk-estimator-doc-link.fitted:hover,\n",
       ".sk-estimator-doc-link.fitted:hover,\n",
       "div.sk-label-container:hover .sk-estimator-doc-link.fitted:hover,\n",
       ".sk-estimator-doc-link.fitted:hover {\n",
       "  /* fitted */\n",
       "  background-color: var(--sklearn-color-fitted-level-3);\n",
       "  color: var(--sklearn-color-background);\n",
       "  text-decoration: none;\n",
       "}\n",
       "\n",
       "/* Span, style for the box shown on hovering the info icon */\n",
       ".sk-estimator-doc-link span {\n",
       "  display: none;\n",
       "  z-index: 9999;\n",
       "  position: relative;\n",
       "  font-weight: normal;\n",
       "  right: .2ex;\n",
       "  padding: .5ex;\n",
       "  margin: .5ex;\n",
       "  width: min-content;\n",
       "  min-width: 20ex;\n",
       "  max-width: 50ex;\n",
       "  color: var(--sklearn-color-text);\n",
       "  box-shadow: 2pt 2pt 4pt #999;\n",
       "  /* unfitted */\n",
       "  background: var(--sklearn-color-unfitted-level-0);\n",
       "  border: .5pt solid var(--sklearn-color-unfitted-level-3);\n",
       "}\n",
       "\n",
       ".sk-estimator-doc-link.fitted span {\n",
       "  /* fitted */\n",
       "  background: var(--sklearn-color-fitted-level-0);\n",
       "  border: var(--sklearn-color-fitted-level-3);\n",
       "}\n",
       "\n",
       ".sk-estimator-doc-link:hover span {\n",
       "  display: block;\n",
       "}\n",
       "\n",
       "/* \"?\"-specific style due to the `<a>` HTML tag */\n",
       "\n",
       "#sk-container-id-1 a.estimator_doc_link {\n",
       "  float: right;\n",
       "  font-size: 1rem;\n",
       "  line-height: 1em;\n",
       "  font-family: monospace;\n",
       "  background-color: var(--sklearn-color-background);\n",
       "  border-radius: 1rem;\n",
       "  height: 1rem;\n",
       "  width: 1rem;\n",
       "  text-decoration: none;\n",
       "  /* unfitted */\n",
       "  color: var(--sklearn-color-unfitted-level-1);\n",
       "  border: var(--sklearn-color-unfitted-level-1) 1pt solid;\n",
       "}\n",
       "\n",
       "#sk-container-id-1 a.estimator_doc_link.fitted {\n",
       "  /* fitted */\n",
       "  border: var(--sklearn-color-fitted-level-1) 1pt solid;\n",
       "  color: var(--sklearn-color-fitted-level-1);\n",
       "}\n",
       "\n",
       "/* On hover */\n",
       "#sk-container-id-1 a.estimator_doc_link:hover {\n",
       "  /* unfitted */\n",
       "  background-color: var(--sklearn-color-unfitted-level-3);\n",
       "  color: var(--sklearn-color-background);\n",
       "  text-decoration: none;\n",
       "}\n",
       "\n",
       "#sk-container-id-1 a.estimator_doc_link.fitted:hover {\n",
       "  /* fitted */\n",
       "  background-color: var(--sklearn-color-fitted-level-3);\n",
       "}\n",
       "</style><div id=\"sk-container-id-1\" class=\"sk-top-container\"><div class=\"sk-text-repr-fallback\"><pre>XGBClassifier(base_score=None, booster=None, callbacks=None,\n",
       "              colsample_bylevel=None, colsample_bynode=0.4484487275206919,\n",
       "              colsample_bytree=None, device=None, early_stopping_rounds=None,\n",
       "              enable_categorical=False,\n",
       "              eval_metric=&lt;function custom_f1_score at 0x7fd31969b920&gt;,\n",
       "              feature_types=None, gamma=None, grow_policy=None,\n",
       "              importance_type=None, interaction_constraints=None,\n",
       "              learning_rate=0.15356793844797842, max_bin=None,\n",
       "              max_cat_threshold=None, max_cat_to_onehot=None,\n",
       "              max_delta_step=None, max_depth=13, max_leaves=None,\n",
       "              min_child_weight=17, missing=nan, monotone_constraints=None,\n",
       "              multi_strategy=None, n_estimators=139, n_jobs=None,\n",
       "              num_parallel_tree=None, objective=&#x27;multi:softprob&#x27;, ...)</pre><b>In a Jupyter environment, please rerun this cell to show the HTML representation or trust the notebook. <br />On GitHub, the HTML representation is unable to render, please try loading this page with nbviewer.org.</b></div><div class=\"sk-container\" hidden><div class=\"sk-item\"><div class=\"sk-estimator fitted sk-toggleable\"><input class=\"sk-toggleable__control sk-hidden--visually\" id=\"sk-estimator-id-1\" type=\"checkbox\" checked><label for=\"sk-estimator-id-1\" class=\"sk-toggleable__label fitted sk-toggleable__label-arrow fitted\">&nbsp;XGBClassifier<span class=\"sk-estimator-doc-link fitted\">i<span>Fitted</span></span></label><div class=\"sk-toggleable__content fitted\"><pre>XGBClassifier(base_score=None, booster=None, callbacks=None,\n",
       "              colsample_bylevel=None, colsample_bynode=0.4484487275206919,\n",
       "              colsample_bytree=None, device=None, early_stopping_rounds=None,\n",
       "              enable_categorical=False,\n",
       "              eval_metric=&lt;function custom_f1_score at 0x7fd31969b920&gt;,\n",
       "              feature_types=None, gamma=None, grow_policy=None,\n",
       "              importance_type=None, interaction_constraints=None,\n",
       "              learning_rate=0.15356793844797842, max_bin=None,\n",
       "              max_cat_threshold=None, max_cat_to_onehot=None,\n",
       "              max_delta_step=None, max_depth=13, max_leaves=None,\n",
       "              min_child_weight=17, missing=nan, monotone_constraints=None,\n",
       "              multi_strategy=None, n_estimators=139, n_jobs=None,\n",
       "              num_parallel_tree=None, objective=&#x27;multi:softprob&#x27;, ...)</pre></div> </div></div></div></div>"
      ],
      "text/plain": [
       "XGBClassifier(base_score=None, booster=None, callbacks=None,\n",
       "              colsample_bylevel=None, colsample_bynode=0.4484487275206919,\n",
       "              colsample_bytree=None, device=None, early_stopping_rounds=None,\n",
       "              enable_categorical=False,\n",
       "              eval_metric=<function custom_f1_score at 0x7fd31969b920>,\n",
       "              feature_types=None, gamma=None, grow_policy=None,\n",
       "              importance_type=None, interaction_constraints=None,\n",
       "              learning_rate=0.15356793844797842, max_bin=None,\n",
       "              max_cat_threshold=None, max_cat_to_onehot=None,\n",
       "              max_delta_step=None, max_depth=13, max_leaves=None,\n",
       "              min_child_weight=17, missing=nan, monotone_constraints=None,\n",
       "              multi_strategy=None, n_estimators=139, n_jobs=None,\n",
       "              num_parallel_tree=None, objective='multi:softprob', ...)"
      ]
     },
     "execution_count": 21,
     "metadata": {},
     "output_type": "execute_result"
    }
   ],
   "source": [
    "n_estimators = int(study.best_trial.user_attrs['best_iteration']*1.2)\n",
    "xgb = xgboost.XGBClassifier(\n",
    "        eval_metric=eval_metric,\n",
    "        n_estimators=n_estimators,\n",
    "        **study.best_trial.params\n",
    "    )\n",
    "xgb.fit(\n",
    "    ssp.vstack((X_train, X_val)), \n",
    "    np.concatenate((y_train_enc, y_val_enc)),\n",
    "    verbose=1,\n",
    ")"
   ]
  },
  {
   "cell_type": "code",
   "execution_count": 22,
   "id": "6a36fca5",
   "metadata": {
    "execution": {
     "iopub.execute_input": "2025-05-15T16:25:56.845808Z",
     "iopub.status.busy": "2025-05-15T16:25:56.845410Z",
     "iopub.status.idle": "2025-05-15T16:25:57.012508Z",
     "shell.execute_reply": "2025-05-15T16:25:57.012161Z"
    },
    "papermill": {
     "duration": 0.178592,
     "end_time": "2025-05-15T16:25:57.013297",
     "exception": false,
     "start_time": "2025-05-15T16:25:56.834705",
     "status": "completed"
    },
    "tags": []
   },
   "outputs": [
    {
     "data": {
      "text/plain": [
       "['/scratch_isilon/groups/singlecell/shared/projects/Inflammation-PBMCs-Atlas/03_downstream_analysis/08_gene_importance/xgboost_external_validation/xgboost_TopN_genes/results_20/best_model/T_CD4_NonNaive_16_0_xgb.json']"
      ]
     },
     "execution_count": 22,
     "metadata": {},
     "output_type": "execute_result"
    }
   ],
   "source": [
    "out_dir = here(f'03_downstream_analysis/08_gene_importance/xgboost_external_validation/xgboost_TopN_genes/results_{N_GENES}/best_model')\n",
    "\n",
    "if not os.path.exists(out_dir):\n",
    "    os.makedirs(out_dir)\n",
    "    \n",
    "joblib.dump(xgb, os.path.join(out_dir, f'{CELL_TYPE}_{SEED}_{TEST_SPLIT_IDX}_xgb.json'))"
   ]
  },
  {
   "cell_type": "code",
   "execution_count": 23,
   "id": "29f993fb",
   "metadata": {
    "execution": {
     "iopub.execute_input": "2025-05-15T16:25:57.033406Z",
     "iopub.status.busy": "2025-05-15T16:25:57.032993Z",
     "iopub.status.idle": "2025-05-15T16:25:58.090411Z",
     "shell.execute_reply": "2025-05-15T16:25:58.090018Z"
    },
    "papermill": {
     "duration": 1.06888,
     "end_time": "2025-05-15T16:25:58.091397",
     "exception": false,
     "start_time": "2025-05-15T16:25:57.022517",
     "status": "completed"
    },
    "tags": []
   },
   "outputs": [],
   "source": [
    "df_pred_test = pd.DataFrame(dict(\n",
    "    cell_id=train_adata.obs.iloc[test_idxs].index.values,\n",
    "    y_true=y_test, \n",
    "    y_true_code=y_test_enc, \n",
    "    y_pred=xgb.predict(X_test))).set_index('cell_id')"
   ]
  },
  {
   "cell_type": "code",
   "execution_count": 24,
   "id": "b3ecd5a1",
   "metadata": {
    "execution": {
     "iopub.execute_input": "2025-05-15T16:25:58.110210Z",
     "iopub.status.busy": "2025-05-15T16:25:58.110023Z",
     "iopub.status.idle": "2025-05-15T16:25:58.231027Z",
     "shell.execute_reply": "2025-05-15T16:25:58.230617Z"
    },
    "papermill": {
     "duration": 0.131393,
     "end_time": "2025-05-15T16:25:58.231964",
     "exception": false,
     "start_time": "2025-05-15T16:25:58.100571",
     "status": "completed"
    },
    "tags": []
   },
   "outputs": [],
   "source": [
    "out_dir = here(f'03_downstream_analysis/08_gene_importance/xgboost_external_validation/xgboost_TopN_genes/results_{N_GENES}/predictions')\n",
    "\n",
    "if not os.path.exists(out_dir):\n",
    "    os.makedirs(out_dir)\n",
    "    \n",
    "df_pred_test.to_csv(os.path.join(out_dir, f'{CELL_TYPE}_{SEED}_{TEST_SPLIT_IDX}_pred_test.zip'))"
   ]
  },
  {
   "cell_type": "code",
   "execution_count": 25,
   "id": "1e37cdd8",
   "metadata": {
    "execution": {
     "iopub.execute_input": "2025-05-15T16:25:58.250426Z",
     "iopub.status.busy": "2025-05-15T16:25:58.250027Z",
     "iopub.status.idle": "2025-05-15T16:25:58.262470Z",
     "shell.execute_reply": "2025-05-15T16:25:58.262095Z"
    },
    "papermill": {
     "duration": 0.023006,
     "end_time": "2025-05-15T16:25:58.263263",
     "exception": false,
     "start_time": "2025-05-15T16:25:58.240257",
     "status": "completed"
    },
    "tags": []
   },
   "outputs": [],
   "source": [
    "metrics_dict = dict(\n",
    "    BAS=balanced_accuracy_score(y_true=df_pred_test.y_true_code, y_pred=df_pred_test.y_pred), WF1=f1_score(y_true=df_pred_test.y_true_code, y_pred=df_pred_test.y_pred,average='weighted'))"
   ]
  },
  {
   "cell_type": "code",
   "execution_count": 26,
   "id": "fbad7e64",
   "metadata": {
    "execution": {
     "iopub.execute_input": "2025-05-15T16:25:58.280855Z",
     "iopub.status.busy": "2025-05-15T16:25:58.280630Z",
     "iopub.status.idle": "2025-05-15T16:25:58.283397Z",
     "shell.execute_reply": "2025-05-15T16:25:58.283101Z"
    },
    "papermill": {
     "duration": 0.012567,
     "end_time": "2025-05-15T16:25:58.284155",
     "exception": false,
     "start_time": "2025-05-15T16:25:58.271588",
     "status": "completed"
    },
    "tags": []
   },
   "outputs": [
    {
     "data": {
      "text/plain": [
       "{'BAS': 0.6147835770909116, 'WF1': 0.7826788608495129}"
      ]
     },
     "execution_count": 26,
     "metadata": {},
     "output_type": "execute_result"
    }
   ],
   "source": [
    "metrics_dict"
   ]
  },
  {
   "cell_type": "code",
   "execution_count": 27,
   "id": "edc13067",
   "metadata": {
    "execution": {
     "iopub.execute_input": "2025-05-15T16:25:58.332227Z",
     "iopub.status.busy": "2025-05-15T16:25:58.331998Z",
     "iopub.status.idle": "2025-05-15T16:25:58.340565Z",
     "shell.execute_reply": "2025-05-15T16:25:58.340238Z"
    },
    "papermill": {
     "duration": 0.019006,
     "end_time": "2025-05-15T16:25:58.341388",
     "exception": false,
     "start_time": "2025-05-15T16:25:58.322382",
     "status": "completed"
    },
    "tags": []
   },
   "outputs": [
    {
     "data": {
      "text/html": [
       "<div>\n",
       "<style scoped>\n",
       "    .dataframe tbody tr th:only-of-type {\n",
       "        vertical-align: middle;\n",
       "    }\n",
       "\n",
       "    .dataframe tbody tr th {\n",
       "        vertical-align: top;\n",
       "    }\n",
       "\n",
       "    .dataframe thead th {\n",
       "        text-align: right;\n",
       "    }\n",
       "</style>\n",
       "<table border=\"1\" class=\"dataframe\">\n",
       "  <thead>\n",
       "    <tr style=\"text-align: right;\">\n",
       "      <th></th>\n",
       "      <th>BAS</th>\n",
       "      <th>WF1</th>\n",
       "      <th>split_idx</th>\n",
       "      <th>gene_set_seed</th>\n",
       "      <th>cell_type</th>\n",
       "    </tr>\n",
       "  </thead>\n",
       "  <tbody>\n",
       "    <tr>\n",
       "      <th>0</th>\n",
       "      <td>0.614784</td>\n",
       "      <td>0.782679</td>\n",
       "      <td>0</td>\n",
       "      <td>16</td>\n",
       "      <td>T_CD4_NonNaive</td>\n",
       "    </tr>\n",
       "  </tbody>\n",
       "</table>\n",
       "</div>"
      ],
      "text/plain": [
       "        BAS       WF1  split_idx  gene_set_seed       cell_type\n",
       "0  0.614784  0.782679          0             16  T_CD4_NonNaive"
      ]
     },
     "execution_count": 27,
     "metadata": {},
     "output_type": "execute_result"
    }
   ],
   "source": [
    "metrics_df = pd.DataFrame.from_dict([metrics_dict]).assign(split_idx=TEST_SPLIT_IDX, gene_set_seed=SEED, cell_type=CELL_TYPE)\n",
    "metrics_df"
   ]
  },
  {
   "cell_type": "code",
   "execution_count": 28,
   "id": "b18b628b",
   "metadata": {
    "execution": {
     "iopub.execute_input": "2025-05-15T16:25:58.359408Z",
     "iopub.status.busy": "2025-05-15T16:25:58.359145Z",
     "iopub.status.idle": "2025-05-15T16:25:58.367127Z",
     "shell.execute_reply": "2025-05-15T16:25:58.366817Z"
    },
    "papermill": {
     "duration": 0.017779,
     "end_time": "2025-05-15T16:25:58.367938",
     "exception": false,
     "start_time": "2025-05-15T16:25:58.350159",
     "status": "completed"
    },
    "tags": []
   },
   "outputs": [],
   "source": [
    "out_dir = here(f'03_downstream_analysis/08_gene_importance/xgboost_external_validation/xgboost_TopN_genes/results_{N_GENES}/metrics')\n",
    "\n",
    "if not os.path.exists(out_dir):\n",
    "    os.makedirs(out_dir)\n",
    "    \n",
    "metrics_df.to_csv(os.path.join(out_dir, f'{CELL_TYPE}_{SEED}_{TEST_SPLIT_IDX}_metrics.zip'))"
   ]
  }
 ],
 "metadata": {
  "kernelspec": {
   "display_name": "Python 3 (ipykernel)",
   "language": "python",
   "name": "python3"
  },
  "language_info": {
   "codemirror_mode": {
    "name": "ipython",
    "version": 3
   },
   "file_extension": ".py",
   "mimetype": "text/x-python",
   "name": "python",
   "nbconvert_exporter": "python",
   "pygments_lexer": "ipython3",
   "version": "3.12.5"
  },
  "papermill": {
   "default_parameters": {},
   "duration": 1362.542561,
   "end_time": "2025-05-15T16:25:58.892288",
   "environment_variables": {},
   "exception": null,
   "input_path": "02_xgboost_fitting_external_20genes.ipynb",
   "output_path": "results_20/executed_notebooks/xgboost_fitting_external_CT_T_CD4_NonNaive_GS_16_seed0.ipynb",
   "parameters": {
    "CELL_TYPE": "T_CD4_NonNaive",
    "SEED": 16,
    "TEST_SPLIT_IDX": 0
   },
   "start_time": "2025-05-15T16:03:16.349727",
   "version": "2.6.0"
  }
 },
 "nbformat": 4,
 "nbformat_minor": 5
}