{
 "cells": [
  {
   "cell_type": "code",
   "execution_count": 1,
   "id": "6e67e976",
   "metadata": {
    "editable": true,
    "execution": {
     "iopub.execute_input": "2025-05-14T16:09:34.117845Z",
     "iopub.status.busy": "2025-05-14T16:09:34.117536Z",
     "iopub.status.idle": "2025-05-14T16:09:34.120300Z",
     "shell.execute_reply": "2025-05-14T16:09:34.119961Z"
    },
    "papermill": {
     "duration": 0.010679,
     "end_time": "2025-05-14T16:09:34.121287",
     "exception": false,
     "start_time": "2025-05-14T16:09:34.110608",
     "status": "completed"
    },
    "slideshow": {
     "slide_type": ""
    },
    "tags": [
     "parameters"
    ]
   },
   "outputs": [],
   "source": [
    "CELL_TYPE = 'pDC'\n",
    "N_GENES: int = 20\n",
    "SEED = 'shap_studyID' #'disease_NOstudy' 'study_NOdisease' or 'int' or 'shap_studyID'\n",
    "TEST_SPLIT_IDX: int = 1 #[0,4]"
   ]
  },
  {
   "cell_type": "code",
   "execution_count": 2,
   "id": "abe50567",
   "metadata": {
    "execution": {
     "iopub.execute_input": "2025-05-14T16:09:34.132694Z",
     "iopub.status.busy": "2025-05-14T16:09:34.132521Z",
     "iopub.status.idle": "2025-05-14T16:09:34.134633Z",
     "shell.execute_reply": "2025-05-14T16:09:34.134307Z"
    },
    "papermill": {
     "duration": 0.008783,
     "end_time": "2025-05-14T16:09:34.135612",
     "exception": false,
     "start_time": "2025-05-14T16:09:34.126829",
     "status": "completed"
    },
    "tags": [
     "injected-parameters"
    ]
   },
   "outputs": [],
   "source": [
    "# Parameters\n",
    "CELL_TYPE = \"ILC\"\n",
    "SEED = \"shap_disease_NOstudy\"\n",
    "TEST_SPLIT_IDX = 2\n"
   ]
  },
  {
   "cell_type": "code",
   "execution_count": 3,
   "id": "73f4fb6e",
   "metadata": {
    "execution": {
     "iopub.execute_input": "2025-05-14T16:09:34.146299Z",
     "iopub.status.busy": "2025-05-14T16:09:34.146088Z",
     "iopub.status.idle": "2025-05-14T16:09:34.148045Z",
     "shell.execute_reply": "2025-05-14T16:09:34.147725Z"
    },
    "papermill": {
     "duration": 0.008144,
     "end_time": "2025-05-14T16:09:34.148891",
     "exception": false,
     "start_time": "2025-05-14T16:09:34.140747",
     "status": "completed"
    },
    "tags": []
   },
   "outputs": [],
   "source": [
    "N_SPLITS: int = 5\n",
    "N_TRIALS: int = 50"
   ]
  },
  {
   "cell_type": "code",
   "execution_count": 4,
   "id": "5d3997a1",
   "metadata": {
    "execution": {
     "iopub.execute_input": "2025-05-14T16:09:34.161627Z",
     "iopub.status.busy": "2025-05-14T16:09:34.161408Z",
     "iopub.status.idle": "2025-05-14T16:09:35.547922Z",
     "shell.execute_reply": "2025-05-14T16:09:35.547181Z"
    },
    "papermill": {
     "duration": 1.394478,
     "end_time": "2025-05-14T16:09:35.549263",
     "exception": false,
     "start_time": "2025-05-14T16:09:34.154785",
     "status": "completed"
    },
    "tags": []
   },
   "outputs": [],
   "source": [
    "import os\n",
    "import sys\n",
    "from pyprojroot.here import here\n",
    "import pandas as pd\n",
    "import anndata as ad\n",
    "import numpy as np\n",
    "import math\n",
    "from sklearn.model_selection import StratifiedGroupKFold\n",
    "from sklearn.preprocessing import LabelEncoder\n",
    "from sklearn.metrics import f1_score\n",
    "import matplotlib.pyplot as plt\n",
    "import seaborn as sns\n",
    "from itertools import product\n",
    "from sklearn.metrics import balanced_accuracy_score, f1_score\n",
    "import optuna\n",
    "\n",
    "import joblib\n",
    "import pickle\n",
    "import datetime\n",
    "\n",
    "import collections\n",
    "\n",
    "import xgboost\n",
    "from sklearn.preprocessing import LabelEncoder\n",
    "\n",
    "import scipy.sparse as ssp\n",
    "import joblib\n",
    "\n",
    "from dotenv import load_dotenv"
   ]
  },
  {
   "cell_type": "code",
   "execution_count": 5,
   "id": "1b09aa61",
   "metadata": {
    "execution": {
     "iopub.execute_input": "2025-05-14T16:09:35.561729Z",
     "iopub.status.busy": "2025-05-14T16:09:35.561253Z",
     "iopub.status.idle": "2025-05-14T16:09:35.567705Z",
     "shell.execute_reply": "2025-05-14T16:09:35.567391Z"
    },
    "papermill": {
     "duration": 0.01341,
     "end_time": "2025-05-14T16:09:35.568527",
     "exception": false,
     "start_time": "2025-05-14T16:09:35.555117",
     "status": "completed"
    },
    "tags": []
   },
   "outputs": [
    {
     "data": {
      "text/plain": [
       "True"
      ]
     },
     "execution_count": 5,
     "metadata": {},
     "output_type": "execute_result"
    }
   ],
   "source": [
    "load_dotenv()"
   ]
  },
  {
   "cell_type": "markdown",
   "id": "8a758fd6",
   "metadata": {
    "papermill": {
     "duration": 0.005331,
     "end_time": "2025-05-14T16:09:35.586934",
     "exception": false,
     "start_time": "2025-05-14T16:09:35.581603",
     "status": "completed"
    },
    "tags": []
   },
   "source": [
    "# LOAD DATASET"
   ]
  },
  {
   "cell_type": "code",
   "execution_count": 6,
   "id": "2596ca08",
   "metadata": {
    "execution": {
     "iopub.execute_input": "2025-05-14T16:09:35.614093Z",
     "iopub.status.busy": "2025-05-14T16:09:35.613548Z",
     "iopub.status.idle": "2025-05-14T16:09:35.870378Z",
     "shell.execute_reply": "2025-05-14T16:09:35.869926Z"
    },
    "papermill": {
     "duration": 0.279776,
     "end_time": "2025-05-14T16:09:35.871602",
     "exception": false,
     "start_time": "2025-05-14T16:09:35.591826",
     "status": "completed"
    },
    "tags": []
   },
   "outputs": [],
   "source": [
    "train_adata = ad.read_h5ad(\n",
    "    here(f'03_downstream_analysis/08_gene_importance/xgboost_external_validation/xgboost_TopN_genes/data_cellTypes/EXTERNAL_{CELL_TYPE}.filtered.log1p.h5ad')\n",
    ")"
   ]
  },
  {
   "cell_type": "code",
   "execution_count": 7,
   "id": "99f3c246",
   "metadata": {
    "execution": {
     "iopub.execute_input": "2025-05-14T16:09:35.883259Z",
     "iopub.status.busy": "2025-05-14T16:09:35.882839Z",
     "iopub.status.idle": "2025-05-14T16:09:35.899932Z",
     "shell.execute_reply": "2025-05-14T16:09:35.899532Z"
    },
    "papermill": {
     "duration": 0.023676,
     "end_time": "2025-05-14T16:09:35.900771",
     "exception": false,
     "start_time": "2025-05-14T16:09:35.877095",
     "status": "completed"
    },
    "tags": []
   },
   "outputs": [
    {
     "name": "stdout",
     "output_type": "stream",
     "text": [
      "['ENSG00000002586' 'ENSG00000006125' 'ENSG00000007264' 'ENSG00000025708'\n",
      " 'ENSG00000028137' 'ENSG00000030110' 'ENSG00000033800' 'ENSG00000036448'\n",
      " 'ENSG00000051108' 'ENSG00000051523' 'ENSG00000065978' 'ENSG00000066136'\n",
      " 'ENSG00000067182' 'ENSG00000071073' 'ENSG00000072958' 'ENSG00000077380'\n",
      " 'ENSG00000099624' 'ENSG00000100100' 'ENSG00000100902' 'ENSG00000101474'\n",
      " 'ENSG00000102524' 'ENSG00000104312' 'ENSG00000104671' 'ENSG00000104763'\n",
      " 'ENSG00000104998' 'ENSG00000105373' 'ENSG00000107223' 'ENSG00000109321'\n",
      " 'ENSG00000111537' 'ENSG00000112149' 'ENSG00000113732' 'ENSG00000115415'\n",
      " 'ENSG00000115523' 'ENSG00000116815' 'ENSG00000118640' 'ENSG00000119917'\n",
      " 'ENSG00000120129' 'ENSG00000120742' 'ENSG00000120837' 'ENSG00000122359'\n",
      " 'ENSG00000123268' 'ENSG00000123416' 'ENSG00000125347' 'ENSG00000125384'\n",
      " 'ENSG00000125735' 'ENSG00000125743' 'ENSG00000126264' 'ENSG00000127152'\n",
      " 'ENSG00000127184' 'ENSG00000127528' 'ENSG00000127540' 'ENSG00000130066'\n",
      " 'ENSG00000130755' 'ENSG00000131981' 'ENSG00000132912' 'ENSG00000134285'\n",
      " 'ENSG00000135114' 'ENSG00000135821' 'ENSG00000136003' 'ENSG00000137959'\n",
      " 'ENSG00000137965' 'ENSG00000138107' 'ENSG00000140264' 'ENSG00000140379'\n",
      " 'ENSG00000141506' 'ENSG00000142227' 'ENSG00000142546' 'ENSG00000142634'\n",
      " 'ENSG00000143543' 'ENSG00000143575' 'ENSG00000146278' 'ENSG00000146457'\n",
      " 'ENSG00000147168' 'ENSG00000150687' 'ENSG00000151882' 'ENSG00000152082'\n",
      " 'ENSG00000153283' 'ENSG00000156587' 'ENSG00000157873' 'ENSG00000162368'\n",
      " 'ENSG00000163191' 'ENSG00000163220' 'ENSG00000163659' 'ENSG00000163660'\n",
      " 'ENSG00000163931' 'ENSG00000164483' 'ENSG00000164543' 'ENSG00000164674'\n",
      " 'ENSG00000165527' 'ENSG00000167552' 'ENSG00000167996' 'ENSG00000168329'\n",
      " 'ENSG00000168894' 'ENSG00000169564' 'ENSG00000170345' 'ENSG00000170989'\n",
      " 'ENSG00000172349' 'ENSG00000175354' 'ENSG00000177606' 'ENSG00000177663'\n",
      " 'ENSG00000179144' 'ENSG00000182287' 'ENSG00000183172' 'ENSG00000183696'\n",
      " 'ENSG00000184897' 'ENSG00000185201' 'ENSG00000185338' 'ENSG00000185650'\n",
      " 'ENSG00000185883' 'ENSG00000185885' 'ENSG00000186395' 'ENSG00000186891'\n",
      " 'ENSG00000187608' 'ENSG00000196126' 'ENSG00000197061' 'ENSG00000197540'\n",
      " 'ENSG00000204472' 'ENSG00000204642' 'ENSG00000205220' 'ENSG00000206503'\n",
      " 'ENSG00000211895' 'ENSG00000231389' 'ENSG00000234745' 'ENSG00000240065'\n",
      " 'ENSG00000243749' 'ENSG00000264364']\n"
     ]
    }
   ],
   "source": [
    "if SEED != 'all':\n",
    "    gene_subset = np.load(here(f'03_downstream_analysis/08_gene_importance/xgboost_external_validation/shap_gene_selection/gene_subsets_{N_GENES}/{CELL_TYPE}_{SEED}.npy'), allow_pickle=True)\n",
    "    train_adata = train_adata[:,gene_subset]\n",
    "    print(gene_subset)\n",
    "elif SEED == 'all':\n",
    "    print('Using all genes')\n",
    "else:\n",
    "    raise ValueError()"
   ]
  },
  {
   "cell_type": "code",
   "execution_count": 8,
   "id": "91d8d8e0",
   "metadata": {
    "execution": {
     "iopub.execute_input": "2025-05-14T16:09:35.911765Z",
     "iopub.status.busy": "2025-05-14T16:09:35.911565Z",
     "iopub.status.idle": "2025-05-14T16:09:35.914695Z",
     "shell.execute_reply": "2025-05-14T16:09:35.914387Z"
    },
    "papermill": {
     "duration": 0.00947,
     "end_time": "2025-05-14T16:09:35.915485",
     "exception": false,
     "start_time": "2025-05-14T16:09:35.906015",
     "status": "completed"
    },
    "tags": []
   },
   "outputs": [
    {
     "data": {
      "text/plain": [
       "(36633, 126)"
      ]
     },
     "execution_count": 8,
     "metadata": {},
     "output_type": "execute_result"
    }
   ],
   "source": [
    "train_adata.shape"
   ]
  },
  {
   "cell_type": "code",
   "execution_count": 9,
   "id": "7dc98e26",
   "metadata": {
    "execution": {
     "iopub.execute_input": "2025-05-14T16:09:35.927564Z",
     "iopub.status.busy": "2025-05-14T16:09:35.927377Z",
     "iopub.status.idle": "2025-05-14T16:09:35.930817Z",
     "shell.execute_reply": "2025-05-14T16:09:35.930532Z"
    },
    "papermill": {
     "duration": 0.010994,
     "end_time": "2025-05-14T16:09:35.931607",
     "exception": false,
     "start_time": "2025-05-14T16:09:35.920613",
     "status": "completed"
    },
    "tags": []
   },
   "outputs": [
    {
     "data": {
      "text/plain": [
       "['RA', 'COVID', 'healthy', 'HIV', 'cirrhosis', 'CD', 'SLE', 'sepsis']\n",
       "Categories (8, object): ['CD', 'COVID', 'HIV', 'RA', 'SLE', 'cirrhosis', 'healthy', 'sepsis']"
      ]
     },
     "execution_count": 9,
     "metadata": {},
     "output_type": "execute_result"
    }
   ],
   "source": [
    "train_adata.obs.disease.unique()"
   ]
  },
  {
   "cell_type": "code",
   "execution_count": 10,
   "id": "7a726e42",
   "metadata": {
    "execution": {
     "iopub.execute_input": "2025-05-14T16:09:35.943058Z",
     "iopub.status.busy": "2025-05-14T16:09:35.942702Z",
     "iopub.status.idle": "2025-05-14T16:09:35.946739Z",
     "shell.execute_reply": "2025-05-14T16:09:35.946418Z"
    },
    "papermill": {
     "duration": 0.010939,
     "end_time": "2025-05-14T16:09:35.947600",
     "exception": false,
     "start_time": "2025-05-14T16:09:35.936661",
     "status": "completed"
    },
    "tags": []
   },
   "outputs": [
    {
     "data": {
      "text/plain": [
       "['SCGT00val_I036024_T0', 'SCGT00val_I036016_T0', 'SCGT00val_I036023_T0', 'SCGT00val_I036021_T0', 'SCGT00val_I036028_T0', ..., '10XGenomics_10XHC2_T0', '10XGenomics_10XHC3_T0', '10XGenomics_10XHC5_T0', '10XGenomics_10XHC7_T0', '10XGenomics_10XHC8_T0']\n",
       "Length: 86\n",
       "Categories (86, object): ['10XGenomics_10XHC1_T0', '10XGenomics_10XHC2_T0', '10XGenomics_10XHC3_T0', '10XGenomics_10XHC4_T0', ..., 'Savage2021_BRISL6_T0', 'Savage2021_BRISL7_T0', 'Savage2021_PIDA_T0', 'Savage2021_PIDB_T0']"
      ]
     },
     "execution_count": 10,
     "metadata": {},
     "output_type": "execute_result"
    }
   ],
   "source": [
    "train_adata.obs.sampleID.unique()"
   ]
  },
  {
   "cell_type": "code",
   "execution_count": 11,
   "id": "773e674d",
   "metadata": {
    "execution": {
     "iopub.execute_input": "2025-05-14T16:09:35.959202Z",
     "iopub.status.busy": "2025-05-14T16:09:35.958761Z",
     "iopub.status.idle": "2025-05-14T16:09:36.064365Z",
     "shell.execute_reply": "2025-05-14T16:09:36.063884Z"
    },
    "papermill": {
     "duration": 0.112689,
     "end_time": "2025-05-14T16:09:36.065448",
     "exception": false,
     "start_time": "2025-05-14T16:09:35.952759",
     "status": "completed"
    },
    "tags": []
   },
   "outputs": [],
   "source": [
    "all_idxs = np.arange(train_adata.obs.shape[0])\n",
    "left_out_splits = [s[1] for s in StratifiedGroupKFold(n_splits=N_SPLITS).split(all_idxs, train_adata.obs.disease, train_adata.obs.sampleID)]"
   ]
  },
  {
   "cell_type": "code",
   "execution_count": 12,
   "id": "86ab9e16",
   "metadata": {
    "execution": {
     "iopub.execute_input": "2025-05-14T16:09:36.077406Z",
     "iopub.status.busy": "2025-05-14T16:09:36.077178Z",
     "iopub.status.idle": "2025-05-14T16:09:36.080667Z",
     "shell.execute_reply": "2025-05-14T16:09:36.080374Z"
    },
    "papermill": {
     "duration": 0.010174,
     "end_time": "2025-05-14T16:09:36.081440",
     "exception": false,
     "start_time": "2025-05-14T16:09:36.071266",
     "status": "completed"
    },
    "tags": []
   },
   "outputs": [
    {
     "data": {
      "text/plain": [
       "([0, 1, 4], 3, 2)"
      ]
     },
     "execution_count": 12,
     "metadata": {},
     "output_type": "execute_result"
    }
   ],
   "source": [
    "TRAIN_SPLIT_IDXS = [0,1,2,3,4]\n",
    "VAL_SPLIT_IDX = (TEST_SPLIT_IDX + 1) % 5\n",
    "TRAIN_SPLIT_IDXS.remove(TEST_SPLIT_IDX)\n",
    "TRAIN_SPLIT_IDXS.remove(VAL_SPLIT_IDX)\n",
    "TRAIN_SPLIT_IDXS, VAL_SPLIT_IDX, TEST_SPLIT_IDX"
   ]
  },
  {
   "cell_type": "code",
   "execution_count": 13,
   "id": "8ecfd05a",
   "metadata": {
    "execution": {
     "iopub.execute_input": "2025-05-14T16:09:36.093579Z",
     "iopub.status.busy": "2025-05-14T16:09:36.093110Z",
     "iopub.status.idle": "2025-05-14T16:09:36.095563Z",
     "shell.execute_reply": "2025-05-14T16:09:36.095249Z"
    },
    "papermill": {
     "duration": 0.00959,
     "end_time": "2025-05-14T16:09:36.096353",
     "exception": false,
     "start_time": "2025-05-14T16:09:36.086763",
     "status": "completed"
    },
    "tags": []
   },
   "outputs": [],
   "source": [
    "train_idxs = np.concatenate([left_out_splits[idx] for idx in TRAIN_SPLIT_IDXS])\n",
    "val_idxs = left_out_splits[VAL_SPLIT_IDX]\n",
    "test_idxs = left_out_splits[TEST_SPLIT_IDX]"
   ]
  },
  {
   "cell_type": "markdown",
   "id": "03bc4d47",
   "metadata": {
    "papermill": {
     "duration": 0.005376,
     "end_time": "2025-05-14T16:09:36.107125",
     "exception": false,
     "start_time": "2025-05-14T16:09:36.101749",
     "status": "completed"
    },
    "tags": []
   },
   "source": [
    "### SUBSET DATASET INTO TRAIN/TEST/VAL SPLITS"
   ]
  },
  {
   "cell_type": "code",
   "execution_count": 14,
   "id": "e6e91f50",
   "metadata": {
    "execution": {
     "iopub.execute_input": "2025-05-14T16:09:36.118370Z",
     "iopub.status.busy": "2025-05-14T16:09:36.118077Z",
     "iopub.status.idle": "2025-05-14T16:09:36.216576Z",
     "shell.execute_reply": "2025-05-14T16:09:36.216222Z"
    },
    "papermill": {
     "duration": 0.105079,
     "end_time": "2025-05-14T16:09:36.217470",
     "exception": false,
     "start_time": "2025-05-14T16:09:36.112391",
     "status": "completed"
    },
    "tags": []
   },
   "outputs": [
    {
     "data": {
      "text/plain": [
       "((21785, 126), (7450, 126), (7398, 126))"
      ]
     },
     "execution_count": 14,
     "metadata": {},
     "output_type": "execute_result"
    }
   ],
   "source": [
    "X_train = train_adata.X[train_idxs]\n",
    "X_test = train_adata.X[test_idxs]\n",
    "X_val = train_adata.X[val_idxs]\n",
    "X_train.shape, X_test.shape, X_val.shape"
   ]
  },
  {
   "cell_type": "code",
   "execution_count": 15,
   "id": "78afe331",
   "metadata": {
    "execution": {
     "iopub.execute_input": "2025-05-14T16:09:36.230018Z",
     "iopub.status.busy": "2025-05-14T16:09:36.229611Z",
     "iopub.status.idle": "2025-05-14T16:09:36.237804Z",
     "shell.execute_reply": "2025-05-14T16:09:36.237443Z"
    },
    "papermill": {
     "duration": 0.015305,
     "end_time": "2025-05-14T16:09:36.238638",
     "exception": false,
     "start_time": "2025-05-14T16:09:36.223333",
     "status": "completed"
    },
    "tags": []
   },
   "outputs": [
    {
     "data": {
      "text/plain": [
       "((21785,), (7450,), (7398,))"
      ]
     },
     "execution_count": 15,
     "metadata": {},
     "output_type": "execute_result"
    }
   ],
   "source": [
    "y_train = train_adata.obs.iloc[train_idxs].disease.values.astype(str)\n",
    "y_test = train_adata.obs.iloc[test_idxs].disease.values.astype(str)\n",
    "y_val = train_adata.obs.iloc[val_idxs].disease.values.astype(str)\n",
    "y_train.shape, y_test.shape, y_val.shape"
   ]
  },
  {
   "cell_type": "code",
   "execution_count": 16,
   "id": "9306aca1",
   "metadata": {
    "execution": {
     "iopub.execute_input": "2025-05-14T16:09:36.250951Z",
     "iopub.status.busy": "2025-05-14T16:09:36.250359Z",
     "iopub.status.idle": "2025-05-14T16:09:36.260587Z",
     "shell.execute_reply": "2025-05-14T16:09:36.260174Z"
    },
    "papermill": {
     "duration": 0.017048,
     "end_time": "2025-05-14T16:09:36.261384",
     "exception": false,
     "start_time": "2025-05-14T16:09:36.244336",
     "status": "completed"
    },
    "tags": []
   },
   "outputs": [],
   "source": [
    "lenc = LabelEncoder()\n",
    "y_train_enc = lenc.fit_transform(y_train)\n",
    "y_val_enc = lenc.transform(y_val)\n",
    "y_test_enc = lenc.transform(y_test)"
   ]
  },
  {
   "cell_type": "markdown",
   "id": "10c7016a",
   "metadata": {
    "papermill": {
     "duration": 0.005594,
     "end_time": "2025-05-14T16:09:36.272406",
     "exception": false,
     "start_time": "2025-05-14T16:09:36.266812",
     "status": "completed"
    },
    "tags": []
   },
   "source": [
    "### GENERATE F1 "
   ]
  },
  {
   "cell_type": "code",
   "execution_count": 17,
   "id": "8cc2cab0",
   "metadata": {
    "execution": {
     "iopub.execute_input": "2025-05-14T16:09:36.284673Z",
     "iopub.status.busy": "2025-05-14T16:09:36.284146Z",
     "iopub.status.idle": "2025-05-14T16:09:36.286856Z",
     "shell.execute_reply": "2025-05-14T16:09:36.286505Z"
    },
    "papermill": {
     "duration": 0.00991,
     "end_time": "2025-05-14T16:09:36.287664",
     "exception": false,
     "start_time": "2025-05-14T16:09:36.277754",
     "status": "completed"
    },
    "tags": []
   },
   "outputs": [],
   "source": [
    "def custom_f1_score(y_true, y_pred):\n",
    "    return -f1_score(y_true, y_pred.argmax(1), average='weighted')"
   ]
  },
  {
   "cell_type": "code",
   "execution_count": 18,
   "id": "f209fcee",
   "metadata": {
    "execution": {
     "iopub.execute_input": "2025-05-14T16:09:36.299661Z",
     "iopub.status.busy": "2025-05-14T16:09:36.299348Z",
     "iopub.status.idle": "2025-05-14T16:09:36.303058Z",
     "shell.execute_reply": "2025-05-14T16:09:36.302763Z"
    },
    "papermill": {
     "duration": 0.010615,
     "end_time": "2025-05-14T16:09:36.303828",
     "exception": false,
     "start_time": "2025-05-14T16:09:36.293213",
     "status": "completed"
    },
    "tags": []
   },
   "outputs": [],
   "source": [
    "eval_metric=custom_f1_score\n",
    "eval_metric_name='custom_f1_score'\n",
    "\n",
    "def objective(trial):\n",
    "    params = {\n",
    "        'n_estimators': 1500,\n",
    "        'max_depth': trial.suggest_int('max_depth', 3, 20),\n",
    "        'min_child_weight': trial.suggest_int('min_child_weight', 1, 250),\n",
    "        'subsample': trial.suggest_float('subsample', 0.1, 1.0),\n",
    "        'colsample_bynode': trial.suggest_float('colsample_bynode', 0.1, 1.0),\n",
    "        'learning_rate': trial.suggest_float('learning_rate', 1e-3, 5e-1, log=True),\n",
    "    }\n",
    "    pruning_callback = optuna.integration.XGBoostPruningCallback(trial, f'validation_0-{eval_metric_name}')\n",
    "    es_callback = xgboost.callback.EarlyStopping(20, min_delta=0.001)\n",
    "    xgb = xgboost.XGBClassifier(\n",
    "        eval_metric=eval_metric,\n",
    "        callbacks=[pruning_callback, es_callback],\n",
    "        n_jobs=5,\n",
    "        **params\n",
    "    )\n",
    "    xgb.fit(\n",
    "        X_train, \n",
    "        y_train_enc, \n",
    "        verbose=0,\n",
    "        eval_set=[(X_val, y_val_enc)],\n",
    "    )\n",
    "    trial.set_user_attr('best_iteration', xgb.best_iteration)\n",
    "\n",
    "    return xgb.best_score"
   ]
  },
  {
   "cell_type": "code",
   "execution_count": 19,
   "id": "67c02e32",
   "metadata": {
    "execution": {
     "iopub.execute_input": "2025-05-14T16:09:36.315882Z",
     "iopub.status.busy": "2025-05-14T16:09:36.315699Z",
     "iopub.status.idle": "2025-05-14T16:12:20.945419Z",
     "shell.execute_reply": "2025-05-14T16:12:20.944761Z"
    },
    "papermill": {
     "duration": 164.636665,
     "end_time": "2025-05-14T16:12:20.946486",
     "exception": false,
     "start_time": "2025-05-14T16:09:36.309821",
     "status": "completed"
    },
    "scrolled": true,
    "tags": []
   },
   "outputs": [
    {
     "name": "stderr",
     "output_type": "stream",
     "text": [
      "[I 2025-05-14 18:09:36,317] A new study created in memory with name: no-name-a045622a-0339-410b-a500-218183d38fbc\n"
     ]
    },
    {
     "name": "stderr",
     "output_type": "stream",
     "text": [
      "[I 2025-05-14 18:09:39,060] Trial 0 finished with value: -0.5168 and parameters: {'max_depth': 9, 'min_child_weight': 238, 'subsample': 0.7587945476302645, 'colsample_bynode': 0.6387926357773329, 'learning_rate': 0.0026368755339723046}. Best is trial 0 with value: -0.5168.\n"
     ]
    },
    {
     "name": "stderr",
     "output_type": "stream",
     "text": [
      "[I 2025-05-14 18:09:52,015] Trial 1 finished with value: -0.664231 and parameters: {'max_depth': 5, 'min_child_weight': 15, 'subsample': 0.8795585311974417, 'colsample_bynode': 0.6410035105688879, 'learning_rate': 0.08148293210105287}. Best is trial 1 with value: -0.664231.\n"
     ]
    },
    {
     "name": "stderr",
     "output_type": "stream",
     "text": [
      "[I 2025-05-14 18:09:53,549] Trial 2 finished with value: -0.501677 and parameters: {'max_depth': 3, 'min_child_weight': 243, 'subsample': 0.8491983767203796, 'colsample_bynode': 0.29110519961044856, 'learning_rate': 0.003095566460242371}. Best is trial 1 with value: -0.664231.\n"
     ]
    },
    {
     "name": "stderr",
     "output_type": "stream",
     "text": [
      "[I 2025-05-14 18:09:55,967] Trial 3 finished with value: -0.545079 and parameters: {'max_depth': 6, 'min_child_weight': 77, 'subsample': 0.5722807884690141, 'colsample_bynode': 0.48875051677790415, 'learning_rate': 0.006109683510122491}. Best is trial 1 with value: -0.664231.\n"
     ]
    },
    {
     "name": "stderr",
     "output_type": "stream",
     "text": [
      "[I 2025-05-14 18:10:25,133] Trial 4 finished with value: -0.632564 and parameters: {'max_depth': 14, 'min_child_weight': 35, 'subsample': 0.3629301836816964, 'colsample_bynode': 0.4297256589643226, 'learning_rate': 0.01701841881702917}. Best is trial 1 with value: -0.664231.\n"
     ]
    },
    {
     "name": "stderr",
     "output_type": "stream",
     "text": [
      "[I 2025-05-14 18:10:28,123] Trial 5 finished with value: -0.565052 and parameters: {'max_depth': 17, 'min_child_weight': 50, 'subsample': 0.5628109945722505, 'colsample_bynode': 0.6331731119758383, 'learning_rate': 0.0013346527038305934}. Best is trial 1 with value: -0.664231.\n"
     ]
    },
    {
     "name": "stderr",
     "output_type": "stream",
     "text": [
      "[I 2025-05-14 18:10:28,448] Trial 6 pruned. Trial was pruned at iteration 0.\n"
     ]
    },
    {
     "name": "stderr",
     "output_type": "stream",
     "text": [
      "[I 2025-05-14 18:10:28,719] Trial 7 pruned. Trial was pruned at iteration 0.\n"
     ]
    },
    {
     "name": "stderr",
     "output_type": "stream",
     "text": [
      "[I 2025-05-14 18:10:28,966] Trial 8 pruned. Trial was pruned at iteration 0.\n"
     ]
    },
    {
     "name": "stderr",
     "output_type": "stream",
     "text": [
      "[I 2025-05-14 18:10:29,249] Trial 9 pruned. Trial was pruned at iteration 0.\n"
     ]
    },
    {
     "name": "stderr",
     "output_type": "stream",
     "text": [
      "[I 2025-05-14 18:10:39,963] Trial 10 finished with value: -0.655458 and parameters: {'max_depth': 9, 'min_child_weight': 2, 'subsample': 0.9725833997090791, 'colsample_bynode': 0.11616568805333755, 'learning_rate': 0.17780618353487967}. Best is trial 1 with value: -0.664231.\n"
     ]
    },
    {
     "name": "stderr",
     "output_type": "stream",
     "text": [
      "[I 2025-05-14 18:10:54,722] Trial 11 finished with value: -0.663476 and parameters: {'max_depth': 9, 'min_child_weight': 4, 'subsample': 0.9818290990185045, 'colsample_bynode': 0.17702656156719, 'learning_rate': 0.11568531411766632}. Best is trial 1 with value: -0.664231.\n"
     ]
    },
    {
     "name": "stderr",
     "output_type": "stream",
     "text": [
      "[I 2025-05-14 18:11:01,660] Trial 12 pruned. Trial was pruned at iteration 47.\n"
     ]
    },
    {
     "name": "stderr",
     "output_type": "stream",
     "text": [
      "[I 2025-05-14 18:11:01,954] Trial 13 pruned. Trial was pruned at iteration 0.\n"
     ]
    },
    {
     "name": "stderr",
     "output_type": "stream",
     "text": [
      "[I 2025-05-14 18:11:02,240] Trial 14 pruned. Trial was pruned at iteration 0.\n"
     ]
    },
    {
     "name": "stderr",
     "output_type": "stream",
     "text": [
      "[I 2025-05-14 18:11:21,173] Trial 15 finished with value: -0.663055 and parameters: {'max_depth': 20, 'min_child_weight': 1, 'subsample': 0.7012908959710442, 'colsample_bynode': 0.2540835086298475, 'learning_rate': 0.2833114876720916}. Best is trial 1 with value: -0.664231.\n"
     ]
    },
    {
     "name": "stderr",
     "output_type": "stream",
     "text": [
      "[I 2025-05-14 18:11:21,419] Trial 16 pruned. Trial was pruned at iteration 0.\n"
     ]
    },
    {
     "name": "stderr",
     "output_type": "stream",
     "text": [
      "[I 2025-05-14 18:11:21,669] Trial 17 pruned. Trial was pruned at iteration 0.\n"
     ]
    },
    {
     "name": "stderr",
     "output_type": "stream",
     "text": [
      "[I 2025-05-14 18:11:26,225] Trial 18 pruned. Trial was pruned at iteration 47.\n"
     ]
    },
    {
     "name": "stderr",
     "output_type": "stream",
     "text": [
      "[I 2025-05-14 18:11:26,431] Trial 19 pruned. Trial was pruned at iteration 0.\n"
     ]
    },
    {
     "name": "stderr",
     "output_type": "stream",
     "text": [
      "[I 2025-05-14 18:11:33,828] Trial 20 finished with value: -0.670977 and parameters: {'max_depth': 8, 'min_child_weight': 24, 'subsample': 0.6596113500838445, 'colsample_bynode': 0.5501785677119223, 'learning_rate': 0.2221537505158567}. Best is trial 20 with value: -0.670977.\n"
     ]
    },
    {
     "name": "stderr",
     "output_type": "stream",
     "text": [
      "[I 2025-05-14 18:11:40,234] Trial 21 finished with value: -0.668389 and parameters: {'max_depth': 8, 'min_child_weight': 24, 'subsample': 0.6709175500968181, 'colsample_bynode': 0.5334907331464369, 'learning_rate': 0.24892967230551474}. Best is trial 20 with value: -0.670977.\n"
     ]
    },
    {
     "name": "stderr",
     "output_type": "stream",
     "text": [
      "[I 2025-05-14 18:11:44,808] Trial 22 finished with value: -0.670057 and parameters: {'max_depth': 7, 'min_child_weight': 25, 'subsample': 0.6581340170061017, 'colsample_bynode': 0.5266652989265285, 'learning_rate': 0.46863809772466414}. Best is trial 20 with value: -0.670977.\n"
     ]
    },
    {
     "name": "stderr",
     "output_type": "stream",
     "text": [
      "[I 2025-05-14 18:11:45,041] Trial 23 pruned. Trial was pruned at iteration 0.\n"
     ]
    },
    {
     "name": "stderr",
     "output_type": "stream",
     "text": [
      "[I 2025-05-14 18:11:45,277] Trial 24 pruned. Trial was pruned at iteration 0.\n"
     ]
    },
    {
     "name": "stderr",
     "output_type": "stream",
     "text": [
      "[I 2025-05-14 18:11:54,120] Trial 25 finished with value: -0.671327 and parameters: {'max_depth': 10, 'min_child_weight': 25, 'subsample': 0.6323659038961531, 'colsample_bynode': 0.6998937944594101, 'learning_rate': 0.29632754449647014}. Best is trial 25 with value: -0.671327.\n"
     ]
    },
    {
     "name": "stderr",
     "output_type": "stream",
     "text": [
      "[I 2025-05-14 18:11:54,370] Trial 26 pruned. Trial was pruned at iteration 0.\n"
     ]
    },
    {
     "name": "stderr",
     "output_type": "stream",
     "text": [
      "[I 2025-05-14 18:11:54,591] Trial 27 pruned. Trial was pruned at iteration 0.\n"
     ]
    },
    {
     "name": "stderr",
     "output_type": "stream",
     "text": [
      "[I 2025-05-14 18:11:54,807] Trial 28 pruned. Trial was pruned at iteration 0.\n"
     ]
    },
    {
     "name": "stderr",
     "output_type": "stream",
     "text": [
      "[I 2025-05-14 18:11:55,025] Trial 29 pruned. Trial was pruned at iteration 0.\n"
     ]
    },
    {
     "name": "stderr",
     "output_type": "stream",
     "text": [
      "[I 2025-05-14 18:11:55,613] Trial 30 pruned. Trial was pruned at iteration 2.\n"
     ]
    },
    {
     "name": "stderr",
     "output_type": "stream",
     "text": [
      "[I 2025-05-14 18:12:03,214] Trial 31 finished with value: -0.675022 and parameters: {'max_depth': 8, 'min_child_weight': 23, 'subsample': 0.6453978596299373, 'colsample_bynode': 0.5707260105624445, 'learning_rate': 0.26303992786277247}. Best is trial 31 with value: -0.675022.\n"
     ]
    },
    {
     "name": "stderr",
     "output_type": "stream",
     "text": [
      "[I 2025-05-14 18:12:03,459] Trial 32 pruned. Trial was pruned at iteration 0.\n"
     ]
    },
    {
     "name": "stderr",
     "output_type": "stream",
     "text": [
      "[I 2025-05-14 18:12:03,675] Trial 33 pruned. Trial was pruned at iteration 0.\n"
     ]
    },
    {
     "name": "stderr",
     "output_type": "stream",
     "text": [
      "[I 2025-05-14 18:12:03,921] Trial 34 pruned. Trial was pruned at iteration 0.\n"
     ]
    },
    {
     "name": "stderr",
     "output_type": "stream",
     "text": [
      "[I 2025-05-14 18:12:04,151] Trial 35 pruned. Trial was pruned at iteration 0.\n"
     ]
    },
    {
     "name": "stderr",
     "output_type": "stream",
     "text": [
      "[I 2025-05-14 18:12:04,360] Trial 36 pruned. Trial was pruned at iteration 0.\n"
     ]
    },
    {
     "name": "stderr",
     "output_type": "stream",
     "text": [
      "[I 2025-05-14 18:12:12,805] Trial 37 finished with value: -0.672831 and parameters: {'max_depth': 12, 'min_child_weight': 13, 'subsample': 0.5305391864565114, 'colsample_bynode': 0.7631408206528125, 'learning_rate': 0.3139703135133186}. Best is trial 31 with value: -0.675022.\n"
     ]
    },
    {
     "name": "stderr",
     "output_type": "stream",
     "text": [
      "[I 2025-05-14 18:12:13,037] Trial 38 pruned. Trial was pruned at iteration 0.\n"
     ]
    },
    {
     "name": "stderr",
     "output_type": "stream",
     "text": [
      "[I 2025-05-14 18:12:13,300] Trial 39 pruned. Trial was pruned at iteration 0.\n"
     ]
    },
    {
     "name": "stderr",
     "output_type": "stream",
     "text": [
      "[I 2025-05-14 18:12:13,611] Trial 40 pruned. Trial was pruned at iteration 0.\n"
     ]
    },
    {
     "name": "stderr",
     "output_type": "stream",
     "text": [
      "[I 2025-05-14 18:12:18,603] Trial 41 pruned. Trial was pruned at iteration 47.\n"
     ]
    },
    {
     "name": "stderr",
     "output_type": "stream",
     "text": [
      "[I 2025-05-14 18:12:18,858] Trial 42 pruned. Trial was pruned at iteration 0.\n"
     ]
    },
    {
     "name": "stderr",
     "output_type": "stream",
     "text": [
      "[I 2025-05-14 18:12:19,126] Trial 43 pruned. Trial was pruned at iteration 0.\n"
     ]
    },
    {
     "name": "stderr",
     "output_type": "stream",
     "text": [
      "[I 2025-05-14 18:12:19,387] Trial 44 pruned. Trial was pruned at iteration 0.\n"
     ]
    },
    {
     "name": "stderr",
     "output_type": "stream",
     "text": [
      "[I 2025-05-14 18:12:19,680] Trial 45 pruned. Trial was pruned at iteration 0.\n"
     ]
    },
    {
     "name": "stderr",
     "output_type": "stream",
     "text": [
      "[I 2025-05-14 18:12:19,912] Trial 46 pruned. Trial was pruned at iteration 0.\n"
     ]
    },
    {
     "name": "stderr",
     "output_type": "stream",
     "text": [
      "[I 2025-05-14 18:12:20,129] Trial 47 pruned. Trial was pruned at iteration 0.\n"
     ]
    },
    {
     "name": "stderr",
     "output_type": "stream",
     "text": [
      "[I 2025-05-14 18:12:20,347] Trial 48 pruned. Trial was pruned at iteration 0.\n"
     ]
    },
    {
     "name": "stderr",
     "output_type": "stream",
     "text": [
      "[I 2025-05-14 18:12:20,858] Trial 49 pruned. Trial was pruned at iteration 1.\n"
     ]
    }
   ],
   "source": [
    "sampler = optuna.samplers.TPESampler(seed=42)\n",
    "study = optuna.create_study(direction='minimize', sampler=sampler)\n",
    "study.optimize(objective, n_trials=N_TRIALS, gc_after_trial=True)"
   ]
  },
  {
   "cell_type": "code",
   "execution_count": 20,
   "id": "2b2a4cfe",
   "metadata": {
    "execution": {
     "iopub.execute_input": "2025-05-14T16:12:20.990583Z",
     "iopub.status.busy": "2025-05-14T16:12:20.990287Z",
     "iopub.status.idle": "2025-05-14T16:12:21.033779Z",
     "shell.execute_reply": "2025-05-14T16:12:21.033489Z"
    },
    "papermill": {
     "duration": 0.077318,
     "end_time": "2025-05-14T16:12:21.034646",
     "exception": false,
     "start_time": "2025-05-14T16:12:20.957328",
     "status": "completed"
    },
    "tags": []
   },
   "outputs": [
    {
     "data": {
      "text/plain": [
       "['/scratch_isilon/groups/singlecell/shared/projects/Inflammation-PBMCs-Atlas/03_downstream_analysis/08_gene_importance/xgboost_external_validation/xgboost_TopN_genes/results_20/study/ILC_shap_disease_NOstudy_2_xgboost.pkl']"
      ]
     },
     "execution_count": 20,
     "metadata": {},
     "output_type": "execute_result"
    }
   ],
   "source": [
    "out_dir = here(f'03_downstream_analysis/08_gene_importance/xgboost_external_validation/xgboost_TopN_genes/results_{N_GENES}/study')\n",
    "\n",
    "if not os.path.exists(out_dir):\n",
    "    os.makedirs(out_dir)\n",
    "    \n",
    "joblib.dump(study,os.path.join(out_dir, f'{CELL_TYPE}_{SEED}_{TEST_SPLIT_IDX}_xgboost.pkl'))"
   ]
  },
  {
   "cell_type": "code",
   "execution_count": 21,
   "id": "a2bedea7",
   "metadata": {
    "execution": {
     "iopub.execute_input": "2025-05-14T16:12:21.051887Z",
     "iopub.status.busy": "2025-05-14T16:12:21.051648Z",
     "iopub.status.idle": "2025-05-14T16:12:26.696761Z",
     "shell.execute_reply": "2025-05-14T16:12:26.696426Z"
    },
    "papermill": {
     "duration": 5.654885,
     "end_time": "2025-05-14T16:12:26.697832",
     "exception": false,
     "start_time": "2025-05-14T16:12:21.042947",
     "status": "completed"
    },
    "tags": []
   },
   "outputs": [
    {
     "data": {
      "text/html": [
       "<style>#sk-container-id-1 {\n",
       "  /* Definition of color scheme common for light and dark mode */\n",
       "  --sklearn-color-text: black;\n",
       "  --sklearn-color-line: gray;\n",
       "  /* Definition of color scheme for unfitted estimators */\n",
       "  --sklearn-color-unfitted-level-0: #fff5e6;\n",
       "  --sklearn-color-unfitted-level-1: #f6e4d2;\n",
       "  --sklearn-color-unfitted-level-2: #ffe0b3;\n",
       "  --sklearn-color-unfitted-level-3: chocolate;\n",
       "  /* Definition of color scheme for fitted estimators */\n",
       "  --sklearn-color-fitted-level-0: #f0f8ff;\n",
       "  --sklearn-color-fitted-level-1: #d4ebff;\n",
       "  --sklearn-color-fitted-level-2: #b3dbfd;\n",
       "  --sklearn-color-fitted-level-3: cornflowerblue;\n",
       "\n",
       "  /* Specific color for light theme */\n",
       "  --sklearn-color-text-on-default-background: var(--sg-text-color, var(--theme-code-foreground, var(--jp-content-font-color1, black)));\n",
       "  --sklearn-color-background: var(--sg-background-color, var(--theme-background, var(--jp-layout-color0, white)));\n",
       "  --sklearn-color-border-box: var(--sg-text-color, var(--theme-code-foreground, var(--jp-content-font-color1, black)));\n",
       "  --sklearn-color-icon: #696969;\n",
       "\n",
       "  @media (prefers-color-scheme: dark) {\n",
       "    /* Redefinition of color scheme for dark theme */\n",
       "    --sklearn-color-text-on-default-background: var(--sg-text-color, var(--theme-code-foreground, var(--jp-content-font-color1, white)));\n",
       "    --sklearn-color-background: var(--sg-background-color, var(--theme-background, var(--jp-layout-color0, #111)));\n",
       "    --sklearn-color-border-box: var(--sg-text-color, var(--theme-code-foreground, var(--jp-content-font-color1, white)));\n",
       "    --sklearn-color-icon: #878787;\n",
       "  }\n",
       "}\n",
       "\n",
       "#sk-container-id-1 {\n",
       "  color: var(--sklearn-color-text);\n",
       "}\n",
       "\n",
       "#sk-container-id-1 pre {\n",
       "  padding: 0;\n",
       "}\n",
       "\n",
       "#sk-container-id-1 input.sk-hidden--visually {\n",
       "  border: 0;\n",
       "  clip: rect(1px 1px 1px 1px);\n",
       "  clip: rect(1px, 1px, 1px, 1px);\n",
       "  height: 1px;\n",
       "  margin: -1px;\n",
       "  overflow: hidden;\n",
       "  padding: 0;\n",
       "  position: absolute;\n",
       "  width: 1px;\n",
       "}\n",
       "\n",
       "#sk-container-id-1 div.sk-dashed-wrapped {\n",
       "  border: 1px dashed var(--sklearn-color-line);\n",
       "  margin: 0 0.4em 0.5em 0.4em;\n",
       "  box-sizing: border-box;\n",
       "  padding-bottom: 0.4em;\n",
       "  background-color: var(--sklearn-color-background);\n",
       "}\n",
       "\n",
       "#sk-container-id-1 div.sk-container {\n",
       "  /* jupyter's `normalize.less` sets `[hidden] { display: none; }`\n",
       "     but bootstrap.min.css set `[hidden] { display: none !important; }`\n",
       "     so we also need the `!important` here to be able to override the\n",
       "     default hidden behavior on the sphinx rendered scikit-learn.org.\n",
       "     See: https://github.com/scikit-learn/scikit-learn/issues/21755 */\n",
       "  display: inline-block !important;\n",
       "  position: relative;\n",
       "}\n",
       "\n",
       "#sk-container-id-1 div.sk-text-repr-fallback {\n",
       "  display: none;\n",
       "}\n",
       "\n",
       "div.sk-parallel-item,\n",
       "div.sk-serial,\n",
       "div.sk-item {\n",
       "  /* draw centered vertical line to link estimators */\n",
       "  background-image: linear-gradient(var(--sklearn-color-text-on-default-background), var(--sklearn-color-text-on-default-background));\n",
       "  background-size: 2px 100%;\n",
       "  background-repeat: no-repeat;\n",
       "  background-position: center center;\n",
       "}\n",
       "\n",
       "/* Parallel-specific style estimator block */\n",
       "\n",
       "#sk-container-id-1 div.sk-parallel-item::after {\n",
       "  content: \"\";\n",
       "  width: 100%;\n",
       "  border-bottom: 2px solid var(--sklearn-color-text-on-default-background);\n",
       "  flex-grow: 1;\n",
       "}\n",
       "\n",
       "#sk-container-id-1 div.sk-parallel {\n",
       "  display: flex;\n",
       "  align-items: stretch;\n",
       "  justify-content: center;\n",
       "  background-color: var(--sklearn-color-background);\n",
       "  position: relative;\n",
       "}\n",
       "\n",
       "#sk-container-id-1 div.sk-parallel-item {\n",
       "  display: flex;\n",
       "  flex-direction: column;\n",
       "}\n",
       "\n",
       "#sk-container-id-1 div.sk-parallel-item:first-child::after {\n",
       "  align-self: flex-end;\n",
       "  width: 50%;\n",
       "}\n",
       "\n",
       "#sk-container-id-1 div.sk-parallel-item:last-child::after {\n",
       "  align-self: flex-start;\n",
       "  width: 50%;\n",
       "}\n",
       "\n",
       "#sk-container-id-1 div.sk-parallel-item:only-child::after {\n",
       "  width: 0;\n",
       "}\n",
       "\n",
       "/* Serial-specific style estimator block */\n",
       "\n",
       "#sk-container-id-1 div.sk-serial {\n",
       "  display: flex;\n",
       "  flex-direction: column;\n",
       "  align-items: center;\n",
       "  background-color: var(--sklearn-color-background);\n",
       "  padding-right: 1em;\n",
       "  padding-left: 1em;\n",
       "}\n",
       "\n",
       "\n",
       "/* Toggleable style: style used for estimator/Pipeline/ColumnTransformer box that is\n",
       "clickable and can be expanded/collapsed.\n",
       "- Pipeline and ColumnTransformer use this feature and define the default style\n",
       "- Estimators will overwrite some part of the style using the `sk-estimator` class\n",
       "*/\n",
       "\n",
       "/* Pipeline and ColumnTransformer style (default) */\n",
       "\n",
       "#sk-container-id-1 div.sk-toggleable {\n",
       "  /* Default theme specific background. It is overwritten whether we have a\n",
       "  specific estimator or a Pipeline/ColumnTransformer */\n",
       "  background-color: var(--sklearn-color-background);\n",
       "}\n",
       "\n",
       "/* Toggleable label */\n",
       "#sk-container-id-1 label.sk-toggleable__label {\n",
       "  cursor: pointer;\n",
       "  display: block;\n",
       "  width: 100%;\n",
       "  margin-bottom: 0;\n",
       "  padding: 0.5em;\n",
       "  box-sizing: border-box;\n",
       "  text-align: center;\n",
       "}\n",
       "\n",
       "#sk-container-id-1 label.sk-toggleable__label-arrow:before {\n",
       "  /* Arrow on the left of the label */\n",
       "  content: \"▸\";\n",
       "  float: left;\n",
       "  margin-right: 0.25em;\n",
       "  color: var(--sklearn-color-icon);\n",
       "}\n",
       "\n",
       "#sk-container-id-1 label.sk-toggleable__label-arrow:hover:before {\n",
       "  color: var(--sklearn-color-text);\n",
       "}\n",
       "\n",
       "/* Toggleable content - dropdown */\n",
       "\n",
       "#sk-container-id-1 div.sk-toggleable__content {\n",
       "  max-height: 0;\n",
       "  max-width: 0;\n",
       "  overflow: hidden;\n",
       "  text-align: left;\n",
       "  /* unfitted */\n",
       "  background-color: var(--sklearn-color-unfitted-level-0);\n",
       "}\n",
       "\n",
       "#sk-container-id-1 div.sk-toggleable__content.fitted {\n",
       "  /* fitted */\n",
       "  background-color: var(--sklearn-color-fitted-level-0);\n",
       "}\n",
       "\n",
       "#sk-container-id-1 div.sk-toggleable__content pre {\n",
       "  margin: 0.2em;\n",
       "  border-radius: 0.25em;\n",
       "  color: var(--sklearn-color-text);\n",
       "  /* unfitted */\n",
       "  background-color: var(--sklearn-color-unfitted-level-0);\n",
       "}\n",
       "\n",
       "#sk-container-id-1 div.sk-toggleable__content.fitted pre {\n",
       "  /* unfitted */\n",
       "  background-color: var(--sklearn-color-fitted-level-0);\n",
       "}\n",
       "\n",
       "#sk-container-id-1 input.sk-toggleable__control:checked~div.sk-toggleable__content {\n",
       "  /* Expand drop-down */\n",
       "  max-height: 200px;\n",
       "  max-width: 100%;\n",
       "  overflow: auto;\n",
       "}\n",
       "\n",
       "#sk-container-id-1 input.sk-toggleable__control:checked~label.sk-toggleable__label-arrow:before {\n",
       "  content: \"▾\";\n",
       "}\n",
       "\n",
       "/* Pipeline/ColumnTransformer-specific style */\n",
       "\n",
       "#sk-container-id-1 div.sk-label input.sk-toggleable__control:checked~label.sk-toggleable__label {\n",
       "  color: var(--sklearn-color-text);\n",
       "  background-color: var(--sklearn-color-unfitted-level-2);\n",
       "}\n",
       "\n",
       "#sk-container-id-1 div.sk-label.fitted input.sk-toggleable__control:checked~label.sk-toggleable__label {\n",
       "  background-color: var(--sklearn-color-fitted-level-2);\n",
       "}\n",
       "\n",
       "/* Estimator-specific style */\n",
       "\n",
       "/* Colorize estimator box */\n",
       "#sk-container-id-1 div.sk-estimator input.sk-toggleable__control:checked~label.sk-toggleable__label {\n",
       "  /* unfitted */\n",
       "  background-color: var(--sklearn-color-unfitted-level-2);\n",
       "}\n",
       "\n",
       "#sk-container-id-1 div.sk-estimator.fitted input.sk-toggleable__control:checked~label.sk-toggleable__label {\n",
       "  /* fitted */\n",
       "  background-color: var(--sklearn-color-fitted-level-2);\n",
       "}\n",
       "\n",
       "#sk-container-id-1 div.sk-label label.sk-toggleable__label,\n",
       "#sk-container-id-1 div.sk-label label {\n",
       "  /* The background is the default theme color */\n",
       "  color: var(--sklearn-color-text-on-default-background);\n",
       "}\n",
       "\n",
       "/* On hover, darken the color of the background */\n",
       "#sk-container-id-1 div.sk-label:hover label.sk-toggleable__label {\n",
       "  color: var(--sklearn-color-text);\n",
       "  background-color: var(--sklearn-color-unfitted-level-2);\n",
       "}\n",
       "\n",
       "/* Label box, darken color on hover, fitted */\n",
       "#sk-container-id-1 div.sk-label.fitted:hover label.sk-toggleable__label.fitted {\n",
       "  color: var(--sklearn-color-text);\n",
       "  background-color: var(--sklearn-color-fitted-level-2);\n",
       "}\n",
       "\n",
       "/* Estimator label */\n",
       "\n",
       "#sk-container-id-1 div.sk-label label {\n",
       "  font-family: monospace;\n",
       "  font-weight: bold;\n",
       "  display: inline-block;\n",
       "  line-height: 1.2em;\n",
       "}\n",
       "\n",
       "#sk-container-id-1 div.sk-label-container {\n",
       "  text-align: center;\n",
       "}\n",
       "\n",
       "/* Estimator-specific */\n",
       "#sk-container-id-1 div.sk-estimator {\n",
       "  font-family: monospace;\n",
       "  border: 1px dotted var(--sklearn-color-border-box);\n",
       "  border-radius: 0.25em;\n",
       "  box-sizing: border-box;\n",
       "  margin-bottom: 0.5em;\n",
       "  /* unfitted */\n",
       "  background-color: var(--sklearn-color-unfitted-level-0);\n",
       "}\n",
       "\n",
       "#sk-container-id-1 div.sk-estimator.fitted {\n",
       "  /* fitted */\n",
       "  background-color: var(--sklearn-color-fitted-level-0);\n",
       "}\n",
       "\n",
       "/* on hover */\n",
       "#sk-container-id-1 div.sk-estimator:hover {\n",
       "  /* unfitted */\n",
       "  background-color: var(--sklearn-color-unfitted-level-2);\n",
       "}\n",
       "\n",
       "#sk-container-id-1 div.sk-estimator.fitted:hover {\n",
       "  /* fitted */\n",
       "  background-color: var(--sklearn-color-fitted-level-2);\n",
       "}\n",
       "\n",
       "/* Specification for estimator info (e.g. \"i\" and \"?\") */\n",
       "\n",
       "/* Common style for \"i\" and \"?\" */\n",
       "\n",
       ".sk-estimator-doc-link,\n",
       "a:link.sk-estimator-doc-link,\n",
       "a:visited.sk-estimator-doc-link {\n",
       "  float: right;\n",
       "  font-size: smaller;\n",
       "  line-height: 1em;\n",
       "  font-family: monospace;\n",
       "  background-color: var(--sklearn-color-background);\n",
       "  border-radius: 1em;\n",
       "  height: 1em;\n",
       "  width: 1em;\n",
       "  text-decoration: none !important;\n",
       "  margin-left: 1ex;\n",
       "  /* unfitted */\n",
       "  border: var(--sklearn-color-unfitted-level-1) 1pt solid;\n",
       "  color: var(--sklearn-color-unfitted-level-1);\n",
       "}\n",
       "\n",
       ".sk-estimator-doc-link.fitted,\n",
       "a:link.sk-estimator-doc-link.fitted,\n",
       "a:visited.sk-estimator-doc-link.fitted {\n",
       "  /* fitted */\n",
       "  border: var(--sklearn-color-fitted-level-1) 1pt solid;\n",
       "  color: var(--sklearn-color-fitted-level-1);\n",
       "}\n",
       "\n",
       "/* On hover */\n",
       "div.sk-estimator:hover .sk-estimator-doc-link:hover,\n",
       ".sk-estimator-doc-link:hover,\n",
       "div.sk-label-container:hover .sk-estimator-doc-link:hover,\n",
       ".sk-estimator-doc-link:hover {\n",
       "  /* unfitted */\n",
       "  background-color: var(--sklearn-color-unfitted-level-3);\n",
       "  color: var(--sklearn-color-background);\n",
       "  text-decoration: none;\n",
       "}\n",
       "\n",
       "div.sk-estimator.fitted:hover .sk-estimator-doc-link.fitted:hover,\n",
       ".sk-estimator-doc-link.fitted:hover,\n",
       "div.sk-label-container:hover .sk-estimator-doc-link.fitted:hover,\n",
       ".sk-estimator-doc-link.fitted:hover {\n",
       "  /* fitted */\n",
       "  background-color: var(--sklearn-color-fitted-level-3);\n",
       "  color: var(--sklearn-color-background);\n",
       "  text-decoration: none;\n",
       "}\n",
       "\n",
       "/* Span, style for the box shown on hovering the info icon */\n",
       ".sk-estimator-doc-link span {\n",
       "  display: none;\n",
       "  z-index: 9999;\n",
       "  position: relative;\n",
       "  font-weight: normal;\n",
       "  right: .2ex;\n",
       "  padding: .5ex;\n",
       "  margin: .5ex;\n",
       "  width: min-content;\n",
       "  min-width: 20ex;\n",
       "  max-width: 50ex;\n",
       "  color: var(--sklearn-color-text);\n",
       "  box-shadow: 2pt 2pt 4pt #999;\n",
       "  /* unfitted */\n",
       "  background: var(--sklearn-color-unfitted-level-0);\n",
       "  border: .5pt solid var(--sklearn-color-unfitted-level-3);\n",
       "}\n",
       "\n",
       ".sk-estimator-doc-link.fitted span {\n",
       "  /* fitted */\n",
       "  background: var(--sklearn-color-fitted-level-0);\n",
       "  border: var(--sklearn-color-fitted-level-3);\n",
       "}\n",
       "\n",
       ".sk-estimator-doc-link:hover span {\n",
       "  display: block;\n",
       "}\n",
       "\n",
       "/* \"?\"-specific style due to the `<a>` HTML tag */\n",
       "\n",
       "#sk-container-id-1 a.estimator_doc_link {\n",
       "  float: right;\n",
       "  font-size: 1rem;\n",
       "  line-height: 1em;\n",
       "  font-family: monospace;\n",
       "  background-color: var(--sklearn-color-background);\n",
       "  border-radius: 1rem;\n",
       "  height: 1rem;\n",
       "  width: 1rem;\n",
       "  text-decoration: none;\n",
       "  /* unfitted */\n",
       "  color: var(--sklearn-color-unfitted-level-1);\n",
       "  border: var(--sklearn-color-unfitted-level-1) 1pt solid;\n",
       "}\n",
       "\n",
       "#sk-container-id-1 a.estimator_doc_link.fitted {\n",
       "  /* fitted */\n",
       "  border: var(--sklearn-color-fitted-level-1) 1pt solid;\n",
       "  color: var(--sklearn-color-fitted-level-1);\n",
       "}\n",
       "\n",
       "/* On hover */\n",
       "#sk-container-id-1 a.estimator_doc_link:hover {\n",
       "  /* unfitted */\n",
       "  background-color: var(--sklearn-color-unfitted-level-3);\n",
       "  color: var(--sklearn-color-background);\n",
       "  text-decoration: none;\n",
       "}\n",
       "\n",
       "#sk-container-id-1 a.estimator_doc_link.fitted:hover {\n",
       "  /* fitted */\n",
       "  background-color: var(--sklearn-color-fitted-level-3);\n",
       "}\n",
       "</style><div id=\"sk-container-id-1\" class=\"sk-top-container\"><div class=\"sk-text-repr-fallback\"><pre>XGBClassifier(base_score=None, booster=None, callbacks=None,\n",
       "              colsample_bylevel=None, colsample_bynode=0.5707260105624445,\n",
       "              colsample_bytree=None, device=None, early_stopping_rounds=None,\n",
       "              enable_categorical=False,\n",
       "              eval_metric=&lt;function custom_f1_score at 0x7f56f751f4c0&gt;,\n",
       "              feature_types=None, gamma=None, grow_policy=None,\n",
       "              importance_type=None, interaction_constraints=None,\n",
       "              learning_rate=0.26303992786277247, max_bin=None,\n",
       "              max_cat_threshold=None, max_cat_to_onehot=None,\n",
       "              max_delta_step=None, max_depth=8, max_leaves=None,\n",
       "              min_child_weight=23, missing=nan, monotone_constraints=None,\n",
       "              multi_strategy=None, n_estimators=98, n_jobs=None,\n",
       "              num_parallel_tree=None, objective=&#x27;multi:softprob&#x27;, ...)</pre><b>In a Jupyter environment, please rerun this cell to show the HTML representation or trust the notebook. <br />On GitHub, the HTML representation is unable to render, please try loading this page with nbviewer.org.</b></div><div class=\"sk-container\" hidden><div class=\"sk-item\"><div class=\"sk-estimator fitted sk-toggleable\"><input class=\"sk-toggleable__control sk-hidden--visually\" id=\"sk-estimator-id-1\" type=\"checkbox\" checked><label for=\"sk-estimator-id-1\" class=\"sk-toggleable__label fitted sk-toggleable__label-arrow fitted\">&nbsp;XGBClassifier<span class=\"sk-estimator-doc-link fitted\">i<span>Fitted</span></span></label><div class=\"sk-toggleable__content fitted\"><pre>XGBClassifier(base_score=None, booster=None, callbacks=None,\n",
       "              colsample_bylevel=None, colsample_bynode=0.5707260105624445,\n",
       "              colsample_bytree=None, device=None, early_stopping_rounds=None,\n",
       "              enable_categorical=False,\n",
       "              eval_metric=&lt;function custom_f1_score at 0x7f56f751f4c0&gt;,\n",
       "              feature_types=None, gamma=None, grow_policy=None,\n",
       "              importance_type=None, interaction_constraints=None,\n",
       "              learning_rate=0.26303992786277247, max_bin=None,\n",
       "              max_cat_threshold=None, max_cat_to_onehot=None,\n",
       "              max_delta_step=None, max_depth=8, max_leaves=None,\n",
       "              min_child_weight=23, missing=nan, monotone_constraints=None,\n",
       "              multi_strategy=None, n_estimators=98, n_jobs=None,\n",
       "              num_parallel_tree=None, objective=&#x27;multi:softprob&#x27;, ...)</pre></div> </div></div></div></div>"
      ],
      "text/plain": [
       "XGBClassifier(base_score=None, booster=None, callbacks=None,\n",
       "              colsample_bylevel=None, colsample_bynode=0.5707260105624445,\n",
       "              colsample_bytree=None, device=None, early_stopping_rounds=None,\n",
       "              enable_categorical=False,\n",
       "              eval_metric=<function custom_f1_score at 0x7f56f751f4c0>,\n",
       "              feature_types=None, gamma=None, grow_policy=None,\n",
       "              importance_type=None, interaction_constraints=None,\n",
       "              learning_rate=0.26303992786277247, max_bin=None,\n",
       "              max_cat_threshold=None, max_cat_to_onehot=None,\n",
       "              max_delta_step=None, max_depth=8, max_leaves=None,\n",
       "              min_child_weight=23, missing=nan, monotone_constraints=None,\n",
       "              multi_strategy=None, n_estimators=98, n_jobs=None,\n",
       "              num_parallel_tree=None, objective='multi:softprob', ...)"
      ]
     },
     "execution_count": 21,
     "metadata": {},
     "output_type": "execute_result"
    }
   ],
   "source": [
    "n_estimators = int(study.best_trial.user_attrs['best_iteration']*1.2)\n",
    "xgb = xgboost.XGBClassifier(\n",
    "        eval_metric=eval_metric,\n",
    "        n_estimators=n_estimators,\n",
    "        **study.best_trial.params\n",
    "    )\n",
    "xgb.fit(\n",
    "    ssp.vstack((X_train, X_val)), \n",
    "    np.concatenate((y_train_enc, y_val_enc)),\n",
    "    verbose=1,\n",
    ")"
   ]
  },
  {
   "cell_type": "code",
   "execution_count": 22,
   "id": "38310d0e",
   "metadata": {
    "execution": {
     "iopub.execute_input": "2025-05-14T16:12:26.730436Z",
     "iopub.status.busy": "2025-05-14T16:12:26.730010Z",
     "iopub.status.idle": "2025-05-14T16:12:26.786637Z",
     "shell.execute_reply": "2025-05-14T16:12:26.786311Z"
    },
    "papermill": {
     "duration": 0.080079,
     "end_time": "2025-05-14T16:12:26.787460",
     "exception": false,
     "start_time": "2025-05-14T16:12:26.707381",
     "status": "completed"
    },
    "tags": []
   },
   "outputs": [
    {
     "data": {
      "text/plain": [
       "['/scratch_isilon/groups/singlecell/shared/projects/Inflammation-PBMCs-Atlas/03_downstream_analysis/08_gene_importance/xgboost_external_validation/xgboost_TopN_genes/results_20/best_model/ILC_shap_disease_NOstudy_2_xgb.json']"
      ]
     },
     "execution_count": 22,
     "metadata": {},
     "output_type": "execute_result"
    }
   ],
   "source": [
    "out_dir = here(f'03_downstream_analysis/08_gene_importance/xgboost_external_validation/xgboost_TopN_genes/results_{N_GENES}/best_model')\n",
    "\n",
    "if not os.path.exists(out_dir):\n",
    "    os.makedirs(out_dir)\n",
    "    \n",
    "joblib.dump(xgb, os.path.join(out_dir, f'{CELL_TYPE}_{SEED}_{TEST_SPLIT_IDX}_xgb.json'))"
   ]
  },
  {
   "cell_type": "code",
   "execution_count": 23,
   "id": "97752788",
   "metadata": {
    "execution": {
     "iopub.execute_input": "2025-05-14T16:12:26.806571Z",
     "iopub.status.busy": "2025-05-14T16:12:26.806345Z",
     "iopub.status.idle": "2025-05-14T16:12:26.924119Z",
     "shell.execute_reply": "2025-05-14T16:12:26.923813Z"
    },
    "papermill": {
     "duration": 0.128307,
     "end_time": "2025-05-14T16:12:26.925468",
     "exception": false,
     "start_time": "2025-05-14T16:12:26.797161",
     "status": "completed"
    },
    "tags": []
   },
   "outputs": [],
   "source": [
    "df_pred_test = pd.DataFrame(dict(\n",
    "    cell_id=train_adata.obs.iloc[test_idxs].index.values,\n",
    "    y_true=y_test, \n",
    "    y_true_code=y_test_enc, \n",
    "    y_pred=xgb.predict(X_test))).set_index('cell_id')"
   ]
  },
  {
   "cell_type": "code",
   "execution_count": 24,
   "id": "d2738df8",
   "metadata": {
    "execution": {
     "iopub.execute_input": "2025-05-14T16:12:26.976126Z",
     "iopub.status.busy": "2025-05-14T16:12:26.975932Z",
     "iopub.status.idle": "2025-05-14T16:12:27.056195Z",
     "shell.execute_reply": "2025-05-14T16:12:27.055849Z"
    },
    "papermill": {
     "duration": 0.111796,
     "end_time": "2025-05-14T16:12:27.057245",
     "exception": false,
     "start_time": "2025-05-14T16:12:26.945449",
     "status": "completed"
    },
    "tags": []
   },
   "outputs": [],
   "source": [
    "out_dir = here(f'03_downstream_analysis/08_gene_importance/xgboost_external_validation/xgboost_TopN_genes/results_{N_GENES}/predictions')\n",
    "\n",
    "if not os.path.exists(out_dir):\n",
    "    os.makedirs(out_dir)\n",
    "    \n",
    "df_pred_test.to_csv(os.path.join(out_dir, f'{CELL_TYPE}_{SEED}_{TEST_SPLIT_IDX}_pred_test.zip'))"
   ]
  },
  {
   "cell_type": "code",
   "execution_count": 25,
   "id": "ab62ab1d",
   "metadata": {
    "execution": {
     "iopub.execute_input": "2025-05-14T16:12:27.075945Z",
     "iopub.status.busy": "2025-05-14T16:12:27.075749Z",
     "iopub.status.idle": "2025-05-14T16:12:27.088596Z",
     "shell.execute_reply": "2025-05-14T16:12:27.088285Z"
    },
    "papermill": {
     "duration": 0.022982,
     "end_time": "2025-05-14T16:12:27.089444",
     "exception": false,
     "start_time": "2025-05-14T16:12:27.066462",
     "status": "completed"
    },
    "tags": []
   },
   "outputs": [
    {
     "name": "stderr",
     "output_type": "stream",
     "text": [
      "/scratch_isilon/groups/singlecell/shared/conda_env/xgboost-cpu/lib/python3.12/site-packages/sklearn/metrics/_classification.py:2466: UserWarning: y_pred contains classes not in y_true\n",
      "  warnings.warn(\"y_pred contains classes not in y_true\")\n"
     ]
    }
   ],
   "source": [
    "metrics_dict = dict(\n",
    "    BAS=balanced_accuracy_score(y_true=df_pred_test.y_true_code, y_pred=df_pred_test.y_pred), WF1=f1_score(y_true=df_pred_test.y_true_code, y_pred=df_pred_test.y_pred,average='weighted'))"
   ]
  },
  {
   "cell_type": "code",
   "execution_count": 26,
   "id": "c101fca1",
   "metadata": {
    "execution": {
     "iopub.execute_input": "2025-05-14T16:12:27.107855Z",
     "iopub.status.busy": "2025-05-14T16:12:27.107668Z",
     "iopub.status.idle": "2025-05-14T16:12:27.110783Z",
     "shell.execute_reply": "2025-05-14T16:12:27.110498Z"
    },
    "papermill": {
     "duration": 0.012813,
     "end_time": "2025-05-14T16:12:27.111557",
     "exception": false,
     "start_time": "2025-05-14T16:12:27.098744",
     "status": "completed"
    },
    "tags": []
   },
   "outputs": [
    {
     "data": {
      "text/plain": [
       "{'BAS': 0.6882578016526673, 'WF1': 0.8109995052908904}"
      ]
     },
     "execution_count": 26,
     "metadata": {},
     "output_type": "execute_result"
    }
   ],
   "source": [
    "metrics_dict"
   ]
  },
  {
   "cell_type": "code",
   "execution_count": 27,
   "id": "eb7dc849",
   "metadata": {
    "execution": {
     "iopub.execute_input": "2025-05-14T16:12:27.129673Z",
     "iopub.status.busy": "2025-05-14T16:12:27.129440Z",
     "iopub.status.idle": "2025-05-14T16:12:27.137843Z",
     "shell.execute_reply": "2025-05-14T16:12:27.137562Z"
    },
    "papermill": {
     "duration": 0.018463,
     "end_time": "2025-05-14T16:12:27.138600",
     "exception": false,
     "start_time": "2025-05-14T16:12:27.120137",
     "status": "completed"
    },
    "tags": []
   },
   "outputs": [
    {
     "data": {
      "text/html": [
       "<div>\n",
       "<style scoped>\n",
       "    .dataframe tbody tr th:only-of-type {\n",
       "        vertical-align: middle;\n",
       "    }\n",
       "\n",
       "    .dataframe tbody tr th {\n",
       "        vertical-align: top;\n",
       "    }\n",
       "\n",
       "    .dataframe thead th {\n",
       "        text-align: right;\n",
       "    }\n",
       "</style>\n",
       "<table border=\"1\" class=\"dataframe\">\n",
       "  <thead>\n",
       "    <tr style=\"text-align: right;\">\n",
       "      <th></th>\n",
       "      <th>BAS</th>\n",
       "      <th>WF1</th>\n",
       "      <th>split_idx</th>\n",
       "      <th>gene_set_seed</th>\n",
       "      <th>cell_type</th>\n",
       "    </tr>\n",
       "  </thead>\n",
       "  <tbody>\n",
       "    <tr>\n",
       "      <th>0</th>\n",
       "      <td>0.688258</td>\n",
       "      <td>0.811</td>\n",
       "      <td>2</td>\n",
       "      <td>shap_disease_NOstudy</td>\n",
       "      <td>ILC</td>\n",
       "    </tr>\n",
       "  </tbody>\n",
       "</table>\n",
       "</div>"
      ],
      "text/plain": [
       "        BAS    WF1  split_idx         gene_set_seed cell_type\n",
       "0  0.688258  0.811          2  shap_disease_NOstudy       ILC"
      ]
     },
     "execution_count": 27,
     "metadata": {},
     "output_type": "execute_result"
    }
   ],
   "source": [
    "metrics_df = pd.DataFrame.from_dict([metrics_dict]).assign(split_idx=TEST_SPLIT_IDX, gene_set_seed=SEED, cell_type=CELL_TYPE)\n",
    "metrics_df"
   ]
  },
  {
   "cell_type": "code",
   "execution_count": 28,
   "id": "dac54a9c",
   "metadata": {
    "execution": {
     "iopub.execute_input": "2025-05-14T16:12:27.158629Z",
     "iopub.status.busy": "2025-05-14T16:12:27.158433Z",
     "iopub.status.idle": "2025-05-14T16:12:27.166644Z",
     "shell.execute_reply": "2025-05-14T16:12:27.166195Z"
    },
    "papermill": {
     "duration": 0.01874,
     "end_time": "2025-05-14T16:12:27.167434",
     "exception": false,
     "start_time": "2025-05-14T16:12:27.148694",
     "status": "completed"
    },
    "tags": []
   },
   "outputs": [],
   "source": [
    "out_dir = here(f'03_downstream_analysis/08_gene_importance/xgboost_external_validation/xgboost_TopN_genes/results_{N_GENES}/metrics')\n",
    "\n",
    "if not os.path.exists(out_dir):\n",
    "    os.makedirs(out_dir)\n",
    "    \n",
    "metrics_df.to_csv(os.path.join(out_dir, f'{CELL_TYPE}_{SEED}_{TEST_SPLIT_IDX}_metrics.zip'))"
   ]
  }
 ],
 "metadata": {
  "kernelspec": {
   "display_name": "Python 3 (ipykernel)",
   "language": "python",
   "name": "python3"
  },
  "language_info": {
   "codemirror_mode": {
    "name": "ipython",
    "version": 3
   },
   "file_extension": ".py",
   "mimetype": "text/x-python",
   "name": "python",
   "nbconvert_exporter": "python",
   "pygments_lexer": "ipython3",
   "version": "3.12.5"
  },
  "papermill": {
   "default_parameters": {},
   "duration": 174.958642,
   "end_time": "2025-05-14T16:12:27.893470",
   "environment_variables": {},
   "exception": null,
   "input_path": "02_xgboost_fitting_external_20genes.ipynb",
   "output_path": "results_20/executed_notebooks/xgboost_fitting_external_CT_ILC_GS_shap_disease_NOstudy_seed2.ipynb",
   "parameters": {
    "CELL_TYPE": "ILC",
    "SEED": "shap_disease_NOstudy",
    "TEST_SPLIT_IDX": 2
   },
   "start_time": "2025-05-14T16:09:32.934828",
   "version": "2.6.0"
  }
 },
 "nbformat": 4,
 "nbformat_minor": 5
}