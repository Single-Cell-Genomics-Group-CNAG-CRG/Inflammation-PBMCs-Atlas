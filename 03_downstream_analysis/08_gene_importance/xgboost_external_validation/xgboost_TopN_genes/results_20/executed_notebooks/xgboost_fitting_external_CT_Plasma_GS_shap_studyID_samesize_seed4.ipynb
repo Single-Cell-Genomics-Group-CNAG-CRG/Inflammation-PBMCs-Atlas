{
 "cells": [
  {
   "cell_type": "code",
   "execution_count": 1,
   "id": "a8a95de5",
   "metadata": {
    "editable": true,
    "execution": {
     "iopub.execute_input": "2025-06-13T13:10:11.635546Z",
     "iopub.status.busy": "2025-06-13T13:10:11.634996Z",
     "iopub.status.idle": "2025-06-13T13:10:11.638278Z",
     "shell.execute_reply": "2025-06-13T13:10:11.637847Z"
    },
    "papermill": {
     "duration": 0.011507,
     "end_time": "2025-06-13T13:10:11.639246",
     "exception": false,
     "start_time": "2025-06-13T13:10:11.627739",
     "status": "completed"
    },
    "slideshow": {
     "slide_type": ""
    },
    "tags": [
     "parameters"
    ]
   },
   "outputs": [],
   "source": [
    "CELL_TYPE = 'pDC'\n",
    "N_GENES: int = 20\n",
    "SEED = 'shap_studyID' #'disease_NOstudy' 'study_NOdisease' or 'int' or 'shap_studyID'\n",
    "TEST_SPLIT_IDX: int = 1 #[0,4]"
   ]
  },
  {
   "cell_type": "code",
   "execution_count": 2,
   "id": "9ec42ae9",
   "metadata": {
    "execution": {
     "iopub.execute_input": "2025-06-13T13:10:11.651573Z",
     "iopub.status.busy": "2025-06-13T13:10:11.650876Z",
     "iopub.status.idle": "2025-06-13T13:10:11.653832Z",
     "shell.execute_reply": "2025-06-13T13:10:11.653449Z"
    },
    "papermill": {
     "duration": 0.009765,
     "end_time": "2025-06-13T13:10:11.654693",
     "exception": false,
     "start_time": "2025-06-13T13:10:11.644928",
     "status": "completed"
    },
    "tags": [
     "injected-parameters"
    ]
   },
   "outputs": [],
   "source": [
    "# Parameters\n",
    "CELL_TYPE = \"Plasma\"\n",
    "SEED = \"shap_studyID_samesize\"\n",
    "TEST_SPLIT_IDX = 4\n"
   ]
  },
  {
   "cell_type": "code",
   "execution_count": 3,
   "id": "5b99dbb5",
   "metadata": {
    "execution": {
     "iopub.execute_input": "2025-06-13T13:10:11.666728Z",
     "iopub.status.busy": "2025-06-13T13:10:11.666254Z",
     "iopub.status.idle": "2025-06-13T13:10:11.668627Z",
     "shell.execute_reply": "2025-06-13T13:10:11.668264Z"
    },
    "papermill": {
     "duration": 0.008924,
     "end_time": "2025-06-13T13:10:11.669427",
     "exception": false,
     "start_time": "2025-06-13T13:10:11.660503",
     "status": "completed"
    },
    "tags": []
   },
   "outputs": [],
   "source": [
    "N_SPLITS: int = 5\n",
    "N_TRIALS: int = 50"
   ]
  },
  {
   "cell_type": "code",
   "execution_count": 4,
   "id": "23a3fe72",
   "metadata": {
    "execution": {
     "iopub.execute_input": "2025-06-13T13:10:11.688643Z",
     "iopub.status.busy": "2025-06-13T13:10:11.688174Z",
     "iopub.status.idle": "2025-06-13T13:10:13.680610Z",
     "shell.execute_reply": "2025-06-13T13:10:13.680055Z"
    },
    "papermill": {
     "duration": 2.000616,
     "end_time": "2025-06-13T13:10:13.681862",
     "exception": false,
     "start_time": "2025-06-13T13:10:11.681246",
     "status": "completed"
    },
    "tags": []
   },
   "outputs": [],
   "source": [
    "import os\n",
    "import sys\n",
    "from pyprojroot.here import here\n",
    "import pandas as pd\n",
    "import anndata as ad\n",
    "import numpy as np\n",
    "import math\n",
    "from sklearn.model_selection import StratifiedGroupKFold\n",
    "from sklearn.preprocessing import LabelEncoder\n",
    "from sklearn.metrics import f1_score\n",
    "import matplotlib.pyplot as plt\n",
    "import seaborn as sns\n",
    "from itertools import product\n",
    "from sklearn.metrics import balanced_accuracy_score, f1_score\n",
    "import optuna\n",
    "\n",
    "import joblib\n",
    "import pickle\n",
    "import datetime\n",
    "\n",
    "import collections\n",
    "\n",
    "import xgboost\n",
    "from sklearn.preprocessing import LabelEncoder\n",
    "\n",
    "import scipy.sparse as ssp\n",
    "import joblib\n",
    "\n",
    "from dotenv import load_dotenv"
   ]
  },
  {
   "cell_type": "code",
   "execution_count": 5,
   "id": "8b22e11b",
   "metadata": {
    "execution": {
     "iopub.execute_input": "2025-06-13T13:10:13.693551Z",
     "iopub.status.busy": "2025-06-13T13:10:13.693065Z",
     "iopub.status.idle": "2025-06-13T13:10:13.699368Z",
     "shell.execute_reply": "2025-06-13T13:10:13.698982Z"
    },
    "papermill": {
     "duration": 0.013097,
     "end_time": "2025-06-13T13:10:13.700235",
     "exception": false,
     "start_time": "2025-06-13T13:10:13.687138",
     "status": "completed"
    },
    "tags": []
   },
   "outputs": [
    {
     "data": {
      "text/plain": [
       "True"
      ]
     },
     "execution_count": 5,
     "metadata": {},
     "output_type": "execute_result"
    }
   ],
   "source": [
    "load_dotenv()"
   ]
  },
  {
   "cell_type": "markdown",
   "id": "d45368a2",
   "metadata": {
    "papermill": {
     "duration": 0.005309,
     "end_time": "2025-06-13T13:10:13.713226",
     "exception": false,
     "start_time": "2025-06-13T13:10:13.707917",
     "status": "completed"
    },
    "tags": []
   },
   "source": [
    "# LOAD DATASET"
   ]
  },
  {
   "cell_type": "code",
   "execution_count": 6,
   "id": "da731bce",
   "metadata": {
    "execution": {
     "iopub.execute_input": "2025-06-13T13:10:13.725404Z",
     "iopub.status.busy": "2025-06-13T13:10:13.724773Z",
     "iopub.status.idle": "2025-06-13T13:10:13.772790Z",
     "shell.execute_reply": "2025-06-13T13:10:13.772342Z"
    },
    "papermill": {
     "duration": 0.055782,
     "end_time": "2025-06-13T13:10:13.774265",
     "exception": false,
     "start_time": "2025-06-13T13:10:13.718483",
     "status": "completed"
    },
    "tags": []
   },
   "outputs": [],
   "source": [
    "train_adata = ad.read_h5ad(\n",
    "    here(f'03_downstream_analysis/08_gene_importance/xgboost_external_validation/xgboost_TopN_genes/data_cellTypes/EXTERNAL_{CELL_TYPE}.filtered.log1p.h5ad')\n",
    ")"
   ]
  },
  {
   "cell_type": "code",
   "execution_count": 7,
   "id": "2419c296",
   "metadata": {
    "execution": {
     "iopub.execute_input": "2025-06-13T13:10:13.787532Z",
     "iopub.status.busy": "2025-06-13T13:10:13.787032Z",
     "iopub.status.idle": "2025-06-13T13:10:13.798509Z",
     "shell.execute_reply": "2025-06-13T13:10:13.797833Z"
    },
    "papermill": {
     "duration": 0.019216,
     "end_time": "2025-06-13T13:10:13.799505",
     "exception": false,
     "start_time": "2025-06-13T13:10:13.780289",
     "status": "completed"
    },
    "tags": []
   },
   "outputs": [
    {
     "name": "stdout",
     "output_type": "stream",
     "text": [
      "['ENSG00000229474' 'ENSG00000105329' 'ENSG00000117318' 'ENSG00000165949'\n",
      " 'ENSG00000197111' 'ENSG00000108561' 'ENSG00000137441' 'ENSG00000119655'\n",
      " 'ENSG00000089737' 'ENSG00000116191' 'ENSG00000265972' 'ENSG00000013297'\n",
      " 'ENSG00000155380' 'ENSG00000068796' 'ENSG00000211892' 'ENSG00000048462'\n",
      " 'ENSG00000125347' 'ENSG00000243749' 'ENSG00000127528' 'ENSG00000181029'\n",
      " 'ENSG00000163660' 'ENSG00000205220' 'ENSG00000243678' 'ENSG00000123358'\n",
      " 'ENSG00000198355' 'ENSG00000152082' 'ENSG00000005844' 'ENSG00000216490'\n",
      " 'ENSG00000140564' 'ENSG00000158769' 'ENSG00000137801' 'ENSG00000090339'\n",
      " 'ENSG00000237541' 'ENSG00000170345' 'ENSG00000184897' 'ENSG00000108622'\n",
      " 'ENSG00000211895' 'ENSG00000206503' 'ENSG00000105221' 'ENSG00000027697'\n",
      " 'ENSG00000219200' 'ENSG00000175104' 'ENSG00000214212' 'ENSG00000130830'\n",
      " 'ENSG00000127951' 'ENSG00000134107' 'ENSG00000030582' 'ENSG00000120837'\n",
      " 'ENSG00000213928' 'ENSG00000171223' 'ENSG00000254772' 'ENSG00000244687'\n",
      " 'ENSG00000026025' 'ENSG00000158869' 'ENSG00000211890' 'ENSG00000186395'\n",
      " 'ENSG00000185338' 'ENSG00000228474' 'ENSG00000203896' 'ENSG00000143333'\n",
      " 'ENSG00000165527' 'ENSG00000211897' 'ENSG00000162512' 'ENSG00000118515'\n",
      " 'ENSG00000104856' 'ENSG00000170540' 'ENSG00000105373' 'ENSG00000102524'\n",
      " 'ENSG00000145287' 'ENSG00000185745' 'ENSG00000011600' 'ENSG00000277632'\n",
      " 'ENSG00000135968' 'ENSG00000163737' 'ENSG00000143546' 'ENSG00000100906'\n",
      " 'ENSG00000185883' 'ENSG00000163220' 'ENSG00000211893' 'ENSG00000084207'\n",
      " 'ENSG00000177606' 'ENSG00000169564' 'ENSG00000159110' 'ENSG00000069399'\n",
      " 'ENSG00000143543' 'ENSG00000163659' 'ENSG00000258315' 'ENSG00000051523'\n",
      " 'ENSG00000076662' 'ENSG00000115523' 'ENSG00000088986' 'ENSG00000125740'\n",
      " 'ENSG00000204267' 'ENSG00000131788' 'ENSG00000126709' 'ENSG00000136514'\n",
      " 'ENSG00000121966' 'ENSG00000137959' 'ENSG00000142227' 'ENSG00000163221'\n",
      " 'ENSG00000204525' 'ENSG00000242616' 'ENSG00000092820' 'ENSG00000124762'\n",
      " 'ENSG00000154589' 'ENSG00000105583' 'ENSG00000152234' 'ENSG00000182985']\n"
     ]
    }
   ],
   "source": [
    "if SEED != 'all':\n",
    "    gene_subset = np.load(here(f'03_downstream_analysis/08_gene_importance/xgboost_external_validation/shap_gene_selection/gene_subsets_{N_GENES}/{CELL_TYPE}_{SEED}.npy'), allow_pickle=True)\n",
    "    train_adata = train_adata[:,gene_subset]\n",
    "    print(gene_subset)\n",
    "elif SEED == 'all':\n",
    "    print('Using all genes')\n",
    "else:\n",
    "    raise ValueError()"
   ]
  },
  {
   "cell_type": "code",
   "execution_count": 8,
   "id": "be4b01bf",
   "metadata": {
    "execution": {
     "iopub.execute_input": "2025-06-13T13:10:13.817567Z",
     "iopub.status.busy": "2025-06-13T13:10:13.817129Z",
     "iopub.status.idle": "2025-06-13T13:10:13.820563Z",
     "shell.execute_reply": "2025-06-13T13:10:13.820248Z"
    },
    "papermill": {
     "duration": 0.01124,
     "end_time": "2025-06-13T13:10:13.821378",
     "exception": false,
     "start_time": "2025-06-13T13:10:13.810138",
     "status": "completed"
    },
    "tags": []
   },
   "outputs": [
    {
     "data": {
      "text/plain": [
       "(542, 108)"
      ]
     },
     "execution_count": 8,
     "metadata": {},
     "output_type": "execute_result"
    }
   ],
   "source": [
    "train_adata.shape"
   ]
  },
  {
   "cell_type": "code",
   "execution_count": 9,
   "id": "30399580",
   "metadata": {
    "execution": {
     "iopub.execute_input": "2025-06-13T13:10:13.833806Z",
     "iopub.status.busy": "2025-06-13T13:10:13.833315Z",
     "iopub.status.idle": "2025-06-13T13:10:13.841477Z",
     "shell.execute_reply": "2025-06-13T13:10:13.841057Z"
    },
    "papermill": {
     "duration": 0.01554,
     "end_time": "2025-06-13T13:10:13.842356",
     "exception": false,
     "start_time": "2025-06-13T13:10:13.826816",
     "status": "completed"
    },
    "tags": []
   },
   "outputs": [
    {
     "data": {
      "text/plain": [
       "['RA', 'COVID', 'healthy', 'HIV', 'cirrhosis', 'CD', 'SLE', 'sepsis']\n",
       "Categories (8, object): ['CD', 'COVID', 'HIV', 'RA', 'SLE', 'cirrhosis', 'healthy', 'sepsis']"
      ]
     },
     "execution_count": 9,
     "metadata": {},
     "output_type": "execute_result"
    }
   ],
   "source": [
    "train_adata.obs.disease.unique()"
   ]
  },
  {
   "cell_type": "code",
   "execution_count": 10,
   "id": "ef4d53ff",
   "metadata": {
    "execution": {
     "iopub.execute_input": "2025-06-13T13:10:13.861307Z",
     "iopub.status.busy": "2025-06-13T13:10:13.861004Z",
     "iopub.status.idle": "2025-06-13T13:10:13.866663Z",
     "shell.execute_reply": "2025-06-13T13:10:13.866289Z"
    },
    "papermill": {
     "duration": 0.019183,
     "end_time": "2025-06-13T13:10:13.867507",
     "exception": false,
     "start_time": "2025-06-13T13:10:13.848324",
     "status": "completed"
    },
    "tags": []
   },
   "outputs": [
    {
     "data": {
      "text/plain": [
       "['SCGT00val_I0364_T0', 'SCGT00val_I036019_T0', 'SCGT00val_I036028_T0', 'SCGT00val_I036024_T0', 'SCGT00val_I036016_T0', ..., '10XGenomics_10XHC2_T0', '10XGenomics_10XHC3_T0', '10XGenomics_10XHC5_T0', '10XGenomics_10XHC7_T0', '10XGenomics_10XHC8_T0']\n",
       "Length: 74\n",
       "Categories (74, object): ['10XGenomics_10XHC1_T0', '10XGenomics_10XHC2_T0', '10XGenomics_10XHC3_T0', '10XGenomics_10XHC4_T0', ..., 'Savage2021_BRISL6_T0', 'Savage2021_BRISL7_T0', 'Savage2021_PIDA_T0', 'Savage2021_PIDB_T0']"
      ]
     },
     "execution_count": 10,
     "metadata": {},
     "output_type": "execute_result"
    }
   ],
   "source": [
    "train_adata.obs.sampleID.unique()"
   ]
  },
  {
   "cell_type": "code",
   "execution_count": 11,
   "id": "aa1b54ea",
   "metadata": {
    "execution": {
     "iopub.execute_input": "2025-06-13T13:10:13.883608Z",
     "iopub.status.busy": "2025-06-13T13:10:13.883342Z",
     "iopub.status.idle": "2025-06-13T13:10:13.914298Z",
     "shell.execute_reply": "2025-06-13T13:10:13.913860Z"
    },
    "papermill": {
     "duration": 0.038607,
     "end_time": "2025-06-13T13:10:13.915268",
     "exception": false,
     "start_time": "2025-06-13T13:10:13.876661",
     "status": "completed"
    },
    "tags": []
   },
   "outputs": [],
   "source": [
    "all_idxs = np.arange(train_adata.obs.shape[0])\n",
    "left_out_splits = [s[1] for s in StratifiedGroupKFold(n_splits=N_SPLITS).split(all_idxs, train_adata.obs.disease, train_adata.obs.sampleID)]"
   ]
  },
  {
   "cell_type": "code",
   "execution_count": 12,
   "id": "319f4cc4",
   "metadata": {
    "execution": {
     "iopub.execute_input": "2025-06-13T13:10:13.928567Z",
     "iopub.status.busy": "2025-06-13T13:10:13.927740Z",
     "iopub.status.idle": "2025-06-13T13:10:13.932499Z",
     "shell.execute_reply": "2025-06-13T13:10:13.931849Z"
    },
    "papermill": {
     "duration": 0.01239,
     "end_time": "2025-06-13T13:10:13.933615",
     "exception": false,
     "start_time": "2025-06-13T13:10:13.921225",
     "status": "completed"
    },
    "tags": []
   },
   "outputs": [
    {
     "data": {
      "text/plain": [
       "([1, 2, 3], 0, 4)"
      ]
     },
     "execution_count": 12,
     "metadata": {},
     "output_type": "execute_result"
    }
   ],
   "source": [
    "TRAIN_SPLIT_IDXS = [0,1,2,3,4]\n",
    "VAL_SPLIT_IDX = (TEST_SPLIT_IDX + 1) % 5\n",
    "TRAIN_SPLIT_IDXS.remove(TEST_SPLIT_IDX)\n",
    "TRAIN_SPLIT_IDXS.remove(VAL_SPLIT_IDX)\n",
    "TRAIN_SPLIT_IDXS, VAL_SPLIT_IDX, TEST_SPLIT_IDX"
   ]
  },
  {
   "cell_type": "code",
   "execution_count": 13,
   "id": "acf436b1",
   "metadata": {
    "execution": {
     "iopub.execute_input": "2025-06-13T13:10:13.945310Z",
     "iopub.status.busy": "2025-06-13T13:10:13.945013Z",
     "iopub.status.idle": "2025-06-13T13:10:13.947928Z",
     "shell.execute_reply": "2025-06-13T13:10:13.947579Z"
    },
    "papermill": {
     "duration": 0.009838,
     "end_time": "2025-06-13T13:10:13.948711",
     "exception": false,
     "start_time": "2025-06-13T13:10:13.938873",
     "status": "completed"
    },
    "tags": []
   },
   "outputs": [],
   "source": [
    "train_idxs = np.concatenate([left_out_splits[idx] for idx in TRAIN_SPLIT_IDXS])\n",
    "val_idxs = left_out_splits[VAL_SPLIT_IDX]\n",
    "test_idxs = left_out_splits[TEST_SPLIT_IDX]"
   ]
  },
  {
   "cell_type": "markdown",
   "id": "8512ece1",
   "metadata": {
    "papermill": {
     "duration": 0.005552,
     "end_time": "2025-06-13T13:10:13.964275",
     "exception": false,
     "start_time": "2025-06-13T13:10:13.958723",
     "status": "completed"
    },
    "tags": []
   },
   "source": [
    "### SUBSET DATASET INTO TRAIN/TEST/VAL SPLITS"
   ]
  },
  {
   "cell_type": "code",
   "execution_count": 14,
   "id": "0787d1e2",
   "metadata": {
    "execution": {
     "iopub.execute_input": "2025-06-13T13:10:13.976576Z",
     "iopub.status.busy": "2025-06-13T13:10:13.975798Z",
     "iopub.status.idle": "2025-06-13T13:10:13.985108Z",
     "shell.execute_reply": "2025-06-13T13:10:13.984734Z"
    },
    "papermill": {
     "duration": 0.016226,
     "end_time": "2025-06-13T13:10:13.985938",
     "exception": false,
     "start_time": "2025-06-13T13:10:13.969712",
     "status": "completed"
    },
    "tags": []
   },
   "outputs": [
    {
     "data": {
      "text/plain": [
       "((308, 108), (116, 108), (118, 108))"
      ]
     },
     "execution_count": 14,
     "metadata": {},
     "output_type": "execute_result"
    }
   ],
   "source": [
    "X_train = train_adata.X[train_idxs]\n",
    "X_test = train_adata.X[test_idxs]\n",
    "X_val = train_adata.X[val_idxs]\n",
    "X_train.shape, X_test.shape, X_val.shape"
   ]
  },
  {
   "cell_type": "code",
   "execution_count": 15,
   "id": "88402603",
   "metadata": {
    "execution": {
     "iopub.execute_input": "2025-06-13T13:10:14.004993Z",
     "iopub.status.busy": "2025-06-13T13:10:14.004619Z",
     "iopub.status.idle": "2025-06-13T13:10:14.010565Z",
     "shell.execute_reply": "2025-06-13T13:10:14.009947Z"
    },
    "papermill": {
     "duration": 0.020058,
     "end_time": "2025-06-13T13:10:14.011455",
     "exception": false,
     "start_time": "2025-06-13T13:10:13.991397",
     "status": "completed"
    },
    "tags": []
   },
   "outputs": [
    {
     "data": {
      "text/plain": [
       "((308,), (116,), (118,))"
      ]
     },
     "execution_count": 15,
     "metadata": {},
     "output_type": "execute_result"
    }
   ],
   "source": [
    "y_train = train_adata.obs.iloc[train_idxs].disease.values.astype(str)\n",
    "y_test = train_adata.obs.iloc[test_idxs].disease.values.astype(str)\n",
    "y_val = train_adata.obs.iloc[val_idxs].disease.values.astype(str)\n",
    "y_train.shape, y_test.shape, y_val.shape"
   ]
  },
  {
   "cell_type": "code",
   "execution_count": 16,
   "id": "43885b90",
   "metadata": {
    "execution": {
     "iopub.execute_input": "2025-06-13T13:10:14.023461Z",
     "iopub.status.busy": "2025-06-13T13:10:14.023162Z",
     "iopub.status.idle": "2025-06-13T13:10:14.026888Z",
     "shell.execute_reply": "2025-06-13T13:10:14.026338Z"
    },
    "papermill": {
     "duration": 0.010874,
     "end_time": "2025-06-13T13:10:14.027814",
     "exception": false,
     "start_time": "2025-06-13T13:10:14.016940",
     "status": "completed"
    },
    "tags": []
   },
   "outputs": [],
   "source": [
    "lenc = LabelEncoder()\n",
    "y_train_enc = lenc.fit_transform(y_train)\n",
    "y_val_enc = lenc.transform(y_val)\n",
    "y_test_enc = lenc.transform(y_test)"
   ]
  },
  {
   "cell_type": "markdown",
   "id": "8468ee33",
   "metadata": {
    "papermill": {
     "duration": 0.005549,
     "end_time": "2025-06-13T13:10:14.038946",
     "exception": false,
     "start_time": "2025-06-13T13:10:14.033397",
     "status": "completed"
    },
    "tags": []
   },
   "source": [
    "### GENERATE F1 "
   ]
  },
  {
   "cell_type": "code",
   "execution_count": 17,
   "id": "e035926b",
   "metadata": {
    "execution": {
     "iopub.execute_input": "2025-06-13T13:10:14.061110Z",
     "iopub.status.busy": "2025-06-13T13:10:14.060342Z",
     "iopub.status.idle": "2025-06-13T13:10:14.063329Z",
     "shell.execute_reply": "2025-06-13T13:10:14.063024Z"
    },
    "papermill": {
     "duration": 0.019817,
     "end_time": "2025-06-13T13:10:14.064234",
     "exception": false,
     "start_time": "2025-06-13T13:10:14.044417",
     "status": "completed"
    },
    "tags": []
   },
   "outputs": [],
   "source": [
    "def custom_f1_score(y_true, y_pred):\n",
    "    return -f1_score(y_true, y_pred.argmax(1), average='weighted')"
   ]
  },
  {
   "cell_type": "code",
   "execution_count": 18,
   "id": "c3e4fd66",
   "metadata": {
    "execution": {
     "iopub.execute_input": "2025-06-13T13:10:14.080220Z",
     "iopub.status.busy": "2025-06-13T13:10:14.079719Z",
     "iopub.status.idle": "2025-06-13T13:10:14.085255Z",
     "shell.execute_reply": "2025-06-13T13:10:14.084835Z"
    },
    "papermill": {
     "duration": 0.014157,
     "end_time": "2025-06-13T13:10:14.086154",
     "exception": false,
     "start_time": "2025-06-13T13:10:14.071997",
     "status": "completed"
    },
    "tags": []
   },
   "outputs": [],
   "source": [
    "eval_metric=custom_f1_score\n",
    "eval_metric_name='custom_f1_score'\n",
    "\n",
    "def objective(trial):\n",
    "    params = {\n",
    "        'n_estimators': 1500,\n",
    "        'max_depth': trial.suggest_int('max_depth', 3, 20),\n",
    "        'min_child_weight': trial.suggest_int('min_child_weight', 1, 250),\n",
    "        'subsample': trial.suggest_float('subsample', 0.1, 1.0),\n",
    "        'colsample_bynode': trial.suggest_float('colsample_bynode', 0.1, 1.0),\n",
    "        'learning_rate': trial.suggest_float('learning_rate', 1e-3, 5e-1, log=True),\n",
    "    }\n",
    "    pruning_callback = optuna.integration.XGBoostPruningCallback(trial, f'validation_0-{eval_metric_name}')\n",
    "    es_callback = xgboost.callback.EarlyStopping(20, min_delta=0.001)\n",
    "    xgb = xgboost.XGBClassifier(\n",
    "        eval_metric=eval_metric,\n",
    "        callbacks=[pruning_callback, es_callback],\n",
    "        n_jobs=5,\n",
    "        **params\n",
    "    )\n",
    "    xgb.fit(\n",
    "        X_train, \n",
    "        y_train_enc, \n",
    "        verbose=0,\n",
    "        eval_set=[(X_val, y_val_enc)],\n",
    "    )\n",
    "    trial.set_user_attr('best_iteration', xgb.best_iteration)\n",
    "\n",
    "    return xgb.best_score"
   ]
  },
  {
   "cell_type": "code",
   "execution_count": 19,
   "id": "a66da7b1",
   "metadata": {
    "execution": {
     "iopub.execute_input": "2025-06-13T13:10:14.102395Z",
     "iopub.status.busy": "2025-06-13T13:10:14.101741Z",
     "iopub.status.idle": "2025-06-13T13:10:26.862928Z",
     "shell.execute_reply": "2025-06-13T13:10:26.862459Z"
    },
    "papermill": {
     "duration": 12.771256,
     "end_time": "2025-06-13T13:10:26.863949",
     "exception": false,
     "start_time": "2025-06-13T13:10:14.092693",
     "status": "completed"
    },
    "scrolled": true,
    "tags": []
   },
   "outputs": [
    {
     "name": "stderr",
     "output_type": "stream",
     "text": [
      "[I 2025-06-13 15:10:14,106] A new study created in memory with name: no-name-e6cd7627-491a-4bff-b70c-ec48c8790a90\n"
     ]
    },
    {
     "name": "stderr",
     "output_type": "stream",
     "text": [
      "[I 2025-06-13 15:10:14,184] Trial 0 finished with value: -0.015898 and parameters: {'max_depth': 9, 'min_child_weight': 238, 'subsample': 0.7587945476302645, 'colsample_bynode': 0.6387926357773329, 'learning_rate': 0.0026368755339723046}. Best is trial 0 with value: -0.015898.\n"
     ]
    },
    {
     "name": "stderr",
     "output_type": "stream",
     "text": [
      "[I 2025-06-13 15:10:14,625] Trial 1 finished with value: -0.45589 and parameters: {'max_depth': 5, 'min_child_weight': 15, 'subsample': 0.8795585311974417, 'colsample_bynode': 0.6410035105688879, 'learning_rate': 0.08148293210105287}. Best is trial 1 with value: -0.45589.\n"
     ]
    },
    {
     "name": "stderr",
     "output_type": "stream",
     "text": [
      "[I 2025-06-13 15:10:14,787] Trial 2 finished with value: -0.015898 and parameters: {'max_depth': 3, 'min_child_weight': 243, 'subsample': 0.8491983767203796, 'colsample_bynode': 0.29110519961044856, 'learning_rate': 0.003095566460242371}. Best is trial 1 with value: -0.45589.\n"
     ]
    },
    {
     "name": "stderr",
     "output_type": "stream",
     "text": [
      "[I 2025-06-13 15:10:14,945] Trial 3 finished with value: -0.015898 and parameters: {'max_depth': 6, 'min_child_weight': 77, 'subsample': 0.5722807884690141, 'colsample_bynode': 0.48875051677790415, 'learning_rate': 0.006109683510122491}. Best is trial 1 with value: -0.45589.\n"
     ]
    },
    {
     "name": "stderr",
     "output_type": "stream",
     "text": [
      "[I 2025-06-13 15:10:15,112] Trial 4 finished with value: -0.015898 and parameters: {'max_depth': 14, 'min_child_weight': 35, 'subsample': 0.3629301836816964, 'colsample_bynode': 0.4297256589643226, 'learning_rate': 0.01701841881702917}. Best is trial 1 with value: -0.45589.\n"
     ]
    },
    {
     "name": "stderr",
     "output_type": "stream",
     "text": [
      "[I 2025-06-13 15:10:15,310] Trial 5 finished with value: -0.015898 and parameters: {'max_depth': 17, 'min_child_weight': 50, 'subsample': 0.5628109945722505, 'colsample_bynode': 0.6331731119758383, 'learning_rate': 0.0013346527038305934}. Best is trial 1 with value: -0.45589.\n"
     ]
    },
    {
     "name": "stderr",
     "output_type": "stream",
     "text": [
      "[I 2025-06-13 15:10:15,495] Trial 6 finished with value: -0.015898 and parameters: {'max_depth': 13, 'min_child_weight': 43, 'subsample': 0.1585464336867516, 'colsample_bynode': 0.9539969835279999, 'learning_rate': 0.4038423798071558}. Best is trial 1 with value: -0.45589.\n"
     ]
    },
    {
     "name": "stderr",
     "output_type": "stream",
     "text": [
      "[I 2025-06-13 15:10:15,691] Trial 7 finished with value: -0.015898 and parameters: {'max_depth': 17, 'min_child_weight': 77, 'subsample': 0.1879049026057455, 'colsample_bynode': 0.7158097238609412, 'learning_rate': 0.015415527060141935}. Best is trial 1 with value: -0.45589.\n"
     ]
    },
    {
     "name": "stderr",
     "output_type": "stream",
     "text": [
      "[I 2025-06-13 15:10:15,890] Trial 8 finished with value: -0.015898 and parameters: {'max_depth': 5, 'min_child_weight': 124, 'subsample': 0.13094966900369656, 'colsample_bynode': 0.9183883618709039, 'learning_rate': 0.004993895014755658}. Best is trial 1 with value: -0.45589.\n"
     ]
    },
    {
     "name": "stderr",
     "output_type": "stream",
     "text": [
      "[I 2025-06-13 15:10:16,089] Trial 9 finished with value: -0.015898 and parameters: {'max_depth': 14, 'min_child_weight': 78, 'subsample': 0.5680612190600297, 'colsample_bynode': 0.5920392514089517, 'learning_rate': 0.0031543990308330965}. Best is trial 1 with value: -0.45589.\n"
     ]
    },
    {
     "name": "stderr",
     "output_type": "stream",
     "text": [
      "[I 2025-06-13 15:10:16,525] Trial 10 finished with value: -0.505801 and parameters: {'max_depth': 9, 'min_child_weight': 2, 'subsample': 0.9725833997090791, 'colsample_bynode': 0.11616568805333755, 'learning_rate': 0.17780618353487967}. Best is trial 10 with value: -0.505801.\n"
     ]
    },
    {
     "name": "stderr",
     "output_type": "stream",
     "text": [
      "[I 2025-06-13 15:10:16,907] Trial 11 finished with value: -0.526778 and parameters: {'max_depth': 9, 'min_child_weight': 4, 'subsample': 0.9818290990185045, 'colsample_bynode': 0.17702656156719, 'learning_rate': 0.11568531411766632}. Best is trial 11 with value: -0.526778.\n"
     ]
    },
    {
     "name": "stderr",
     "output_type": "stream",
     "text": [
      "[I 2025-06-13 15:10:17,468] Trial 12 finished with value: -0.514323 and parameters: {'max_depth': 9, 'min_child_weight': 2, 'subsample': 0.9762317723681219, 'colsample_bynode': 0.1303670507685675, 'learning_rate': 0.14353293664472047}. Best is trial 11 with value: -0.526778.\n"
     ]
    },
    {
     "name": "stderr",
     "output_type": "stream",
     "text": [
      "[I 2025-06-13 15:10:17,684] Trial 13 finished with value: -0.015898 and parameters: {'max_depth': 10, 'min_child_weight': 173, 'subsample': 0.9983199992874873, 'colsample_bynode': 0.10704152171942566, 'learning_rate': 0.05919442728092993}. Best is trial 11 with value: -0.526778.\n"
     ]
    },
    {
     "name": "stderr",
     "output_type": "stream",
     "text": [
      "[I 2025-06-13 15:10:17,874] Trial 14 finished with value: -0.015898 and parameters: {'max_depth': 7, 'min_child_weight': 127, 'subsample': 0.7205729667945842, 'colsample_bynode': 0.2618040655423697, 'learning_rate': 0.049429871639666105}. Best is trial 11 with value: -0.526778.\n"
     ]
    },
    {
     "name": "stderr",
     "output_type": "stream",
     "text": [
      "[I 2025-06-13 15:10:18,305] Trial 15 finished with value: -0.518342 and parameters: {'max_depth': 20, 'min_child_weight': 1, 'subsample': 0.7300199336663715, 'colsample_bynode': 0.2687793682900305, 'learning_rate': 0.46839194821741}. Best is trial 11 with value: -0.526778.\n"
     ]
    },
    {
     "name": "stderr",
     "output_type": "stream",
     "text": [
      "[I 2025-06-13 15:10:18,503] Trial 16 finished with value: -0.015898 and parameters: {'max_depth': 20, 'min_child_weight': 116, 'subsample': 0.6730263351162008, 'colsample_bynode': 0.30980388065172204, 'learning_rate': 0.49216618465218137}. Best is trial 11 with value: -0.526778.\n"
     ]
    },
    {
     "name": "stderr",
     "output_type": "stream",
     "text": [
      "[I 2025-06-13 15:10:18,706] Trial 17 finished with value: -0.015898 and parameters: {'max_depth': 20, 'min_child_weight': 183, 'subsample': 0.37310167079970213, 'colsample_bynode': 0.38835173273745516, 'learning_rate': 0.224845788871819}. Best is trial 11 with value: -0.526778.\n"
     ]
    },
    {
     "name": "stderr",
     "output_type": "stream",
     "text": [
      "[I 2025-06-13 15:10:18,902] Trial 18 finished with value: -0.115706 and parameters: {'max_depth': 12, 'min_child_weight': 37, 'subsample': 0.832708921098415, 'colsample_bynode': 0.21488984204344502, 'learning_rate': 0.028429642789761466}. Best is trial 11 with value: -0.526778.\n"
     ]
    },
    {
     "name": "stderr",
     "output_type": "stream",
     "text": [
      "[I 2025-06-13 15:10:19,122] Trial 19 finished with value: -0.015898 and parameters: {'max_depth': 17, 'min_child_weight': 99, 'subsample': 0.6724862681211705, 'colsample_bynode': 0.21504189185437605, 'learning_rate': 0.273575903558848}. Best is trial 11 with value: -0.526778.\n"
     ]
    },
    {
     "name": "stderr",
     "output_type": "stream",
     "text": [
      "[I 2025-06-13 15:10:19,317] Trial 20 pruned. Trial was pruned at iteration 21.\n"
     ]
    },
    {
     "name": "stderr",
     "output_type": "stream",
     "text": [
      "[I 2025-06-13 15:10:19,733] Trial 21 pruned. Trial was pruned at iteration 21.\n"
     ]
    },
    {
     "name": "stderr",
     "output_type": "stream",
     "text": [
      "[I 2025-06-13 15:10:19,902] Trial 22 pruned. Trial was pruned at iteration 21.\n"
     ]
    },
    {
     "name": "stderr",
     "output_type": "stream",
     "text": [
      "[I 2025-06-13 15:10:20,150] Trial 23 pruned. Trial was pruned at iteration 21.\n"
     ]
    },
    {
     "name": "stderr",
     "output_type": "stream",
     "text": [
      "[I 2025-06-13 15:10:20,341] Trial 24 finished with value: -0.115706 and parameters: {'max_depth': 8, 'min_child_weight': 61, 'subsample': 0.9153877188129658, 'colsample_bynode': 0.1213053354388553, 'learning_rate': 0.035905133041901835}. Best is trial 11 with value: -0.526778.\n"
     ]
    },
    {
     "name": "stderr",
     "output_type": "stream",
     "text": [
      "[I 2025-06-13 15:10:20,934] Trial 25 finished with value: -0.519842 and parameters: {'max_depth': 3, 'min_child_weight': 2, 'subsample': 0.6609230442833429, 'colsample_bynode': 0.8368811542739161, 'learning_rate': 0.08052202950762004}. Best is trial 11 with value: -0.526778.\n"
     ]
    },
    {
     "name": "stderr",
     "output_type": "stream",
     "text": [
      "[I 2025-06-13 15:10:21,159] Trial 26 pruned. Trial was pruned at iteration 21.\n"
     ]
    },
    {
     "name": "stderr",
     "output_type": "stream",
     "text": [
      "[I 2025-06-13 15:10:21,332] Trial 27 finished with value: -0.015898 and parameters: {'max_depth': 4, 'min_child_weight': 172, 'subsample': 0.6449797572362916, 'colsample_bynode': 0.7790916813713344, 'learning_rate': 0.05605495881207708}. Best is trial 11 with value: -0.526778.\n"
     ]
    },
    {
     "name": "stderr",
     "output_type": "stream",
     "text": [
      "[I 2025-06-13 15:10:21,528] Trial 28 finished with value: -0.015898 and parameters: {'max_depth': 18, 'min_child_weight': 207, 'subsample': 0.7798908785808293, 'colsample_bynode': 0.8795498310463369, 'learning_rate': 0.01232648763440492}. Best is trial 11 with value: -0.526778.\n"
     ]
    },
    {
     "name": "stderr",
     "output_type": "stream",
     "text": [
      "[I 2025-06-13 15:10:21,731] Trial 29 pruned. Trial was pruned at iteration 21.\n"
     ]
    },
    {
     "name": "stderr",
     "output_type": "stream",
     "text": [
      "[I 2025-06-13 15:10:21,936] Trial 30 finished with value: -0.015898 and parameters: {'max_depth': 15, 'min_child_weight': 150, 'subsample': 0.6301398319157056, 'colsample_bynode': 0.7204798920858021, 'learning_rate': 0.040743192897686}. Best is trial 11 with value: -0.526778.\n"
     ]
    },
    {
     "name": "stderr",
     "output_type": "stream",
     "text": [
      "[I 2025-06-13 15:10:22,352] Trial 31 finished with value: -0.534247 and parameters: {'max_depth': 9, 'min_child_weight': 3, 'subsample': 0.8024576727994134, 'colsample_bynode': 0.23954177480603772, 'learning_rate': 0.1198886256602298}. Best is trial 31 with value: -0.534247.\n"
     ]
    },
    {
     "name": "stderr",
     "output_type": "stream",
     "text": [
      "[I 2025-06-13 15:10:22,606] Trial 32 pruned. Trial was pruned at iteration 21.\n"
     ]
    },
    {
     "name": "stderr",
     "output_type": "stream",
     "text": [
      "[I 2025-06-13 15:10:22,845] Trial 33 pruned. Trial was pruned at iteration 21.\n"
     ]
    },
    {
     "name": "stderr",
     "output_type": "stream",
     "text": [
      "[I 2025-06-13 15:10:23,008] Trial 34 finished with value: -0.015898 and parameters: {'max_depth': 12, 'min_child_weight': 65, 'subsample': 0.8268855552148867, 'colsample_bynode': 0.33615883965654814, 'learning_rate': 0.11065469301301047}. Best is trial 31 with value: -0.534247.\n"
     ]
    },
    {
     "name": "stderr",
     "output_type": "stream",
     "text": [
      "[I 2025-06-13 15:10:23,220] Trial 35 pruned. Trial was pruned at iteration 21.\n"
     ]
    },
    {
     "name": "stderr",
     "output_type": "stream",
     "text": [
      "[I 2025-06-13 15:10:23,432] Trial 36 finished with value: -0.115706 and parameters: {'max_depth': 4, 'min_child_weight': 45, 'subsample': 0.7070333725389105, 'colsample_bynode': 0.9930670906729097, 'learning_rate': 0.024108307189943546}. Best is trial 31 with value: -0.534247.\n"
     ]
    },
    {
     "name": "stderr",
     "output_type": "stream",
     "text": [
      "[I 2025-06-13 15:10:23,851] Trial 37 finished with value: -0.576085 and parameters: {'max_depth': 6, 'min_child_weight': 1, 'subsample': 0.5997141108926134, 'colsample_bynode': 0.4161507581982826, 'learning_rate': 0.2142179556436762}. Best is trial 37 with value: -0.576085.\n"
     ]
    },
    {
     "name": "stderr",
     "output_type": "stream",
     "text": [
      "[I 2025-06-13 15:10:24,054] Trial 38 pruned. Trial was pruned at iteration 21.\n"
     ]
    },
    {
     "name": "stderr",
     "output_type": "stream",
     "text": [
      "[I 2025-06-13 15:10:24,244] Trial 39 finished with value: -0.015898 and parameters: {'max_depth': 6, 'min_child_weight': 97, 'subsample': 0.6041519869706876, 'colsample_bynode': 0.6986571664833517, 'learning_rate': 0.11432527741308572}. Best is trial 37 with value: -0.576085.\n"
     ]
    },
    {
     "name": "stderr",
     "output_type": "stream",
     "text": [
      "[I 2025-06-13 15:10:24,442] Trial 40 finished with value: -0.015898 and parameters: {'max_depth': 7, 'min_child_weight': 218, 'subsample': 0.3008634073330152, 'colsample_bynode': 0.5080481367543715, 'learning_rate': 0.06992937547594821}. Best is trial 37 with value: -0.576085.\n"
     ]
    },
    {
     "name": "stderr",
     "output_type": "stream",
     "text": [
      "[I 2025-06-13 15:10:24,640] Trial 41 pruned. Trial was pruned at iteration 21.\n"
     ]
    },
    {
     "name": "stderr",
     "output_type": "stream",
     "text": [
      "[I 2025-06-13 15:10:25,011] Trial 42 finished with value: -0.530662 and parameters: {'max_depth': 10, 'min_child_weight': 2, 'subsample': 0.8028948788291131, 'colsample_bynode': 0.1859930962973919, 'learning_rate': 0.2870096072693125}. Best is trial 37 with value: -0.576085.\n"
     ]
    },
    {
     "name": "stderr",
     "output_type": "stream",
     "text": [
      "[I 2025-06-13 15:10:25,204] Trial 43 pruned. Trial was pruned at iteration 21.\n"
     ]
    },
    {
     "name": "stderr",
     "output_type": "stream",
     "text": [
      "[I 2025-06-13 15:10:25,436] Trial 44 pruned. Trial was pruned at iteration 21.\n"
     ]
    },
    {
     "name": "stderr",
     "output_type": "stream",
     "text": [
      "[I 2025-06-13 15:10:25,924] Trial 45 finished with value: -0.52168 and parameters: {'max_depth': 5, 'min_child_weight': 9, 'subsample': 0.9336049171034366, 'colsample_bynode': 0.6217373701768619, 'learning_rate': 0.1686948732458192}. Best is trial 37 with value: -0.576085.\n"
     ]
    },
    {
     "name": "stderr",
     "output_type": "stream",
     "text": [
      "[I 2025-06-13 15:10:26,095] Trial 46 finished with value: -0.015898 and parameters: {'max_depth': 5, 'min_child_weight': 71, 'subsample': 0.9403222425004816, 'colsample_bynode': 0.5924966132289341, 'learning_rate': 0.13797379661585216}. Best is trial 37 with value: -0.576085.\n"
     ]
    },
    {
     "name": "stderr",
     "output_type": "stream",
     "text": [
      "[I 2025-06-13 15:10:26,292] Trial 47 pruned. Trial was pruned at iteration 21.\n"
     ]
    },
    {
     "name": "stderr",
     "output_type": "stream",
     "text": [
      "[I 2025-06-13 15:10:26,485] Trial 48 pruned. Trial was pruned at iteration 21.\n"
     ]
    },
    {
     "name": "stderr",
     "output_type": "stream",
     "text": [
      "[I 2025-06-13 15:10:26,749] Trial 49 pruned. Trial was pruned at iteration 21.\n"
     ]
    }
   ],
   "source": [
    "sampler = optuna.samplers.TPESampler(seed=42)\n",
    "study = optuna.create_study(direction='minimize', sampler=sampler)\n",
    "study.optimize(objective, n_trials=N_TRIALS, gc_after_trial=True)"
   ]
  },
  {
   "cell_type": "code",
   "execution_count": 20,
   "id": "485563bc",
   "metadata": {
    "execution": {
     "iopub.execute_input": "2025-06-13T13:10:26.883358Z",
     "iopub.status.busy": "2025-06-13T13:10:26.883089Z",
     "iopub.status.idle": "2025-06-13T13:10:26.917681Z",
     "shell.execute_reply": "2025-06-13T13:10:26.917318Z"
    },
    "papermill": {
     "duration": 0.045251,
     "end_time": "2025-06-13T13:10:26.918585",
     "exception": false,
     "start_time": "2025-06-13T13:10:26.873334",
     "status": "completed"
    },
    "tags": []
   },
   "outputs": [
    {
     "data": {
      "text/plain": [
       "['/scratch_isilon/groups/singlecell/shared/projects/Inflammation-PBMCs-Atlas/03_downstream_analysis/08_gene_importance/xgboost_external_validation/xgboost_TopN_genes/results_20/study/Plasma_shap_studyID_samesize_4_xgboost.pkl']"
      ]
     },
     "execution_count": 20,
     "metadata": {},
     "output_type": "execute_result"
    }
   ],
   "source": [
    "out_dir = here(f'03_downstream_analysis/08_gene_importance/xgboost_external_validation/xgboost_TopN_genes/results_{N_GENES}/study')\n",
    "\n",
    "if not os.path.exists(out_dir):\n",
    "    os.makedirs(out_dir)\n",
    "    \n",
    "joblib.dump(study,os.path.join(out_dir, f'{CELL_TYPE}_{SEED}_{TEST_SPLIT_IDX}_xgboost.pkl'))"
   ]
  },
  {
   "cell_type": "code",
   "execution_count": 21,
   "id": "25b56ef7",
   "metadata": {
    "execution": {
     "iopub.execute_input": "2025-06-13T13:10:26.939678Z",
     "iopub.status.busy": "2025-06-13T13:10:26.939386Z",
     "iopub.status.idle": "2025-06-13T13:10:27.006257Z",
     "shell.execute_reply": "2025-06-13T13:10:27.005890Z"
    },
    "papermill": {
     "duration": 0.079732,
     "end_time": "2025-06-13T13:10:27.007148",
     "exception": false,
     "start_time": "2025-06-13T13:10:26.927416",
     "status": "completed"
    },
    "tags": []
   },
   "outputs": [
    {
     "data": {
      "text/html": [
       "<style>#sk-container-id-1 {\n",
       "  /* Definition of color scheme common for light and dark mode */\n",
       "  --sklearn-color-text: black;\n",
       "  --sklearn-color-line: gray;\n",
       "  /* Definition of color scheme for unfitted estimators */\n",
       "  --sklearn-color-unfitted-level-0: #fff5e6;\n",
       "  --sklearn-color-unfitted-level-1: #f6e4d2;\n",
       "  --sklearn-color-unfitted-level-2: #ffe0b3;\n",
       "  --sklearn-color-unfitted-level-3: chocolate;\n",
       "  /* Definition of color scheme for fitted estimators */\n",
       "  --sklearn-color-fitted-level-0: #f0f8ff;\n",
       "  --sklearn-color-fitted-level-1: #d4ebff;\n",
       "  --sklearn-color-fitted-level-2: #b3dbfd;\n",
       "  --sklearn-color-fitted-level-3: cornflowerblue;\n",
       "\n",
       "  /* Specific color for light theme */\n",
       "  --sklearn-color-text-on-default-background: var(--sg-text-color, var(--theme-code-foreground, var(--jp-content-font-color1, black)));\n",
       "  --sklearn-color-background: var(--sg-background-color, var(--theme-background, var(--jp-layout-color0, white)));\n",
       "  --sklearn-color-border-box: var(--sg-text-color, var(--theme-code-foreground, var(--jp-content-font-color1, black)));\n",
       "  --sklearn-color-icon: #696969;\n",
       "\n",
       "  @media (prefers-color-scheme: dark) {\n",
       "    /* Redefinition of color scheme for dark theme */\n",
       "    --sklearn-color-text-on-default-background: var(--sg-text-color, var(--theme-code-foreground, var(--jp-content-font-color1, white)));\n",
       "    --sklearn-color-background: var(--sg-background-color, var(--theme-background, var(--jp-layout-color0, #111)));\n",
       "    --sklearn-color-border-box: var(--sg-text-color, var(--theme-code-foreground, var(--jp-content-font-color1, white)));\n",
       "    --sklearn-color-icon: #878787;\n",
       "  }\n",
       "}\n",
       "\n",
       "#sk-container-id-1 {\n",
       "  color: var(--sklearn-color-text);\n",
       "}\n",
       "\n",
       "#sk-container-id-1 pre {\n",
       "  padding: 0;\n",
       "}\n",
       "\n",
       "#sk-container-id-1 input.sk-hidden--visually {\n",
       "  border: 0;\n",
       "  clip: rect(1px 1px 1px 1px);\n",
       "  clip: rect(1px, 1px, 1px, 1px);\n",
       "  height: 1px;\n",
       "  margin: -1px;\n",
       "  overflow: hidden;\n",
       "  padding: 0;\n",
       "  position: absolute;\n",
       "  width: 1px;\n",
       "}\n",
       "\n",
       "#sk-container-id-1 div.sk-dashed-wrapped {\n",
       "  border: 1px dashed var(--sklearn-color-line);\n",
       "  margin: 0 0.4em 0.5em 0.4em;\n",
       "  box-sizing: border-box;\n",
       "  padding-bottom: 0.4em;\n",
       "  background-color: var(--sklearn-color-background);\n",
       "}\n",
       "\n",
       "#sk-container-id-1 div.sk-container {\n",
       "  /* jupyter's `normalize.less` sets `[hidden] { display: none; }`\n",
       "     but bootstrap.min.css set `[hidden] { display: none !important; }`\n",
       "     so we also need the `!important` here to be able to override the\n",
       "     default hidden behavior on the sphinx rendered scikit-learn.org.\n",
       "     See: https://github.com/scikit-learn/scikit-learn/issues/21755 */\n",
       "  display: inline-block !important;\n",
       "  position: relative;\n",
       "}\n",
       "\n",
       "#sk-container-id-1 div.sk-text-repr-fallback {\n",
       "  display: none;\n",
       "}\n",
       "\n",
       "div.sk-parallel-item,\n",
       "div.sk-serial,\n",
       "div.sk-item {\n",
       "  /* draw centered vertical line to link estimators */\n",
       "  background-image: linear-gradient(var(--sklearn-color-text-on-default-background), var(--sklearn-color-text-on-default-background));\n",
       "  background-size: 2px 100%;\n",
       "  background-repeat: no-repeat;\n",
       "  background-position: center center;\n",
       "}\n",
       "\n",
       "/* Parallel-specific style estimator block */\n",
       "\n",
       "#sk-container-id-1 div.sk-parallel-item::after {\n",
       "  content: \"\";\n",
       "  width: 100%;\n",
       "  border-bottom: 2px solid var(--sklearn-color-text-on-default-background);\n",
       "  flex-grow: 1;\n",
       "}\n",
       "\n",
       "#sk-container-id-1 div.sk-parallel {\n",
       "  display: flex;\n",
       "  align-items: stretch;\n",
       "  justify-content: center;\n",
       "  background-color: var(--sklearn-color-background);\n",
       "  position: relative;\n",
       "}\n",
       "\n",
       "#sk-container-id-1 div.sk-parallel-item {\n",
       "  display: flex;\n",
       "  flex-direction: column;\n",
       "}\n",
       "\n",
       "#sk-container-id-1 div.sk-parallel-item:first-child::after {\n",
       "  align-self: flex-end;\n",
       "  width: 50%;\n",
       "}\n",
       "\n",
       "#sk-container-id-1 div.sk-parallel-item:last-child::after {\n",
       "  align-self: flex-start;\n",
       "  width: 50%;\n",
       "}\n",
       "\n",
       "#sk-container-id-1 div.sk-parallel-item:only-child::after {\n",
       "  width: 0;\n",
       "}\n",
       "\n",
       "/* Serial-specific style estimator block */\n",
       "\n",
       "#sk-container-id-1 div.sk-serial {\n",
       "  display: flex;\n",
       "  flex-direction: column;\n",
       "  align-items: center;\n",
       "  background-color: var(--sklearn-color-background);\n",
       "  padding-right: 1em;\n",
       "  padding-left: 1em;\n",
       "}\n",
       "\n",
       "\n",
       "/* Toggleable style: style used for estimator/Pipeline/ColumnTransformer box that is\n",
       "clickable and can be expanded/collapsed.\n",
       "- Pipeline and ColumnTransformer use this feature and define the default style\n",
       "- Estimators will overwrite some part of the style using the `sk-estimator` class\n",
       "*/\n",
       "\n",
       "/* Pipeline and ColumnTransformer style (default) */\n",
       "\n",
       "#sk-container-id-1 div.sk-toggleable {\n",
       "  /* Default theme specific background. It is overwritten whether we have a\n",
       "  specific estimator or a Pipeline/ColumnTransformer */\n",
       "  background-color: var(--sklearn-color-background);\n",
       "}\n",
       "\n",
       "/* Toggleable label */\n",
       "#sk-container-id-1 label.sk-toggleable__label {\n",
       "  cursor: pointer;\n",
       "  display: block;\n",
       "  width: 100%;\n",
       "  margin-bottom: 0;\n",
       "  padding: 0.5em;\n",
       "  box-sizing: border-box;\n",
       "  text-align: center;\n",
       "}\n",
       "\n",
       "#sk-container-id-1 label.sk-toggleable__label-arrow:before {\n",
       "  /* Arrow on the left of the label */\n",
       "  content: \"▸\";\n",
       "  float: left;\n",
       "  margin-right: 0.25em;\n",
       "  color: var(--sklearn-color-icon);\n",
       "}\n",
       "\n",
       "#sk-container-id-1 label.sk-toggleable__label-arrow:hover:before {\n",
       "  color: var(--sklearn-color-text);\n",
       "}\n",
       "\n",
       "/* Toggleable content - dropdown */\n",
       "\n",
       "#sk-container-id-1 div.sk-toggleable__content {\n",
       "  max-height: 0;\n",
       "  max-width: 0;\n",
       "  overflow: hidden;\n",
       "  text-align: left;\n",
       "  /* unfitted */\n",
       "  background-color: var(--sklearn-color-unfitted-level-0);\n",
       "}\n",
       "\n",
       "#sk-container-id-1 div.sk-toggleable__content.fitted {\n",
       "  /* fitted */\n",
       "  background-color: var(--sklearn-color-fitted-level-0);\n",
       "}\n",
       "\n",
       "#sk-container-id-1 div.sk-toggleable__content pre {\n",
       "  margin: 0.2em;\n",
       "  border-radius: 0.25em;\n",
       "  color: var(--sklearn-color-text);\n",
       "  /* unfitted */\n",
       "  background-color: var(--sklearn-color-unfitted-level-0);\n",
       "}\n",
       "\n",
       "#sk-container-id-1 div.sk-toggleable__content.fitted pre {\n",
       "  /* unfitted */\n",
       "  background-color: var(--sklearn-color-fitted-level-0);\n",
       "}\n",
       "\n",
       "#sk-container-id-1 input.sk-toggleable__control:checked~div.sk-toggleable__content {\n",
       "  /* Expand drop-down */\n",
       "  max-height: 200px;\n",
       "  max-width: 100%;\n",
       "  overflow: auto;\n",
       "}\n",
       "\n",
       "#sk-container-id-1 input.sk-toggleable__control:checked~label.sk-toggleable__label-arrow:before {\n",
       "  content: \"▾\";\n",
       "}\n",
       "\n",
       "/* Pipeline/ColumnTransformer-specific style */\n",
       "\n",
       "#sk-container-id-1 div.sk-label input.sk-toggleable__control:checked~label.sk-toggleable__label {\n",
       "  color: var(--sklearn-color-text);\n",
       "  background-color: var(--sklearn-color-unfitted-level-2);\n",
       "}\n",
       "\n",
       "#sk-container-id-1 div.sk-label.fitted input.sk-toggleable__control:checked~label.sk-toggleable__label {\n",
       "  background-color: var(--sklearn-color-fitted-level-2);\n",
       "}\n",
       "\n",
       "/* Estimator-specific style */\n",
       "\n",
       "/* Colorize estimator box */\n",
       "#sk-container-id-1 div.sk-estimator input.sk-toggleable__control:checked~label.sk-toggleable__label {\n",
       "  /* unfitted */\n",
       "  background-color: var(--sklearn-color-unfitted-level-2);\n",
       "}\n",
       "\n",
       "#sk-container-id-1 div.sk-estimator.fitted input.sk-toggleable__control:checked~label.sk-toggleable__label {\n",
       "  /* fitted */\n",
       "  background-color: var(--sklearn-color-fitted-level-2);\n",
       "}\n",
       "\n",
       "#sk-container-id-1 div.sk-label label.sk-toggleable__label,\n",
       "#sk-container-id-1 div.sk-label label {\n",
       "  /* The background is the default theme color */\n",
       "  color: var(--sklearn-color-text-on-default-background);\n",
       "}\n",
       "\n",
       "/* On hover, darken the color of the background */\n",
       "#sk-container-id-1 div.sk-label:hover label.sk-toggleable__label {\n",
       "  color: var(--sklearn-color-text);\n",
       "  background-color: var(--sklearn-color-unfitted-level-2);\n",
       "}\n",
       "\n",
       "/* Label box, darken color on hover, fitted */\n",
       "#sk-container-id-1 div.sk-label.fitted:hover label.sk-toggleable__label.fitted {\n",
       "  color: var(--sklearn-color-text);\n",
       "  background-color: var(--sklearn-color-fitted-level-2);\n",
       "}\n",
       "\n",
       "/* Estimator label */\n",
       "\n",
       "#sk-container-id-1 div.sk-label label {\n",
       "  font-family: monospace;\n",
       "  font-weight: bold;\n",
       "  display: inline-block;\n",
       "  line-height: 1.2em;\n",
       "}\n",
       "\n",
       "#sk-container-id-1 div.sk-label-container {\n",
       "  text-align: center;\n",
       "}\n",
       "\n",
       "/* Estimator-specific */\n",
       "#sk-container-id-1 div.sk-estimator {\n",
       "  font-family: monospace;\n",
       "  border: 1px dotted var(--sklearn-color-border-box);\n",
       "  border-radius: 0.25em;\n",
       "  box-sizing: border-box;\n",
       "  margin-bottom: 0.5em;\n",
       "  /* unfitted */\n",
       "  background-color: var(--sklearn-color-unfitted-level-0);\n",
       "}\n",
       "\n",
       "#sk-container-id-1 div.sk-estimator.fitted {\n",
       "  /* fitted */\n",
       "  background-color: var(--sklearn-color-fitted-level-0);\n",
       "}\n",
       "\n",
       "/* on hover */\n",
       "#sk-container-id-1 div.sk-estimator:hover {\n",
       "  /* unfitted */\n",
       "  background-color: var(--sklearn-color-unfitted-level-2);\n",
       "}\n",
       "\n",
       "#sk-container-id-1 div.sk-estimator.fitted:hover {\n",
       "  /* fitted */\n",
       "  background-color: var(--sklearn-color-fitted-level-2);\n",
       "}\n",
       "\n",
       "/* Specification for estimator info (e.g. \"i\" and \"?\") */\n",
       "\n",
       "/* Common style for \"i\" and \"?\" */\n",
       "\n",
       ".sk-estimator-doc-link,\n",
       "a:link.sk-estimator-doc-link,\n",
       "a:visited.sk-estimator-doc-link {\n",
       "  float: right;\n",
       "  font-size: smaller;\n",
       "  line-height: 1em;\n",
       "  font-family: monospace;\n",
       "  background-color: var(--sklearn-color-background);\n",
       "  border-radius: 1em;\n",
       "  height: 1em;\n",
       "  width: 1em;\n",
       "  text-decoration: none !important;\n",
       "  margin-left: 1ex;\n",
       "  /* unfitted */\n",
       "  border: var(--sklearn-color-unfitted-level-1) 1pt solid;\n",
       "  color: var(--sklearn-color-unfitted-level-1);\n",
       "}\n",
       "\n",
       ".sk-estimator-doc-link.fitted,\n",
       "a:link.sk-estimator-doc-link.fitted,\n",
       "a:visited.sk-estimator-doc-link.fitted {\n",
       "  /* fitted */\n",
       "  border: var(--sklearn-color-fitted-level-1) 1pt solid;\n",
       "  color: var(--sklearn-color-fitted-level-1);\n",
       "}\n",
       "\n",
       "/* On hover */\n",
       "div.sk-estimator:hover .sk-estimator-doc-link:hover,\n",
       ".sk-estimator-doc-link:hover,\n",
       "div.sk-label-container:hover .sk-estimator-doc-link:hover,\n",
       ".sk-estimator-doc-link:hover {\n",
       "  /* unfitted */\n",
       "  background-color: var(--sklearn-color-unfitted-level-3);\n",
       "  color: var(--sklearn-color-background);\n",
       "  text-decoration: none;\n",
       "}\n",
       "\n",
       "div.sk-estimator.fitted:hover .sk-estimator-doc-link.fitted:hover,\n",
       ".sk-estimator-doc-link.fitted:hover,\n",
       "div.sk-label-container:hover .sk-estimator-doc-link.fitted:hover,\n",
       ".sk-estimator-doc-link.fitted:hover {\n",
       "  /* fitted */\n",
       "  background-color: var(--sklearn-color-fitted-level-3);\n",
       "  color: var(--sklearn-color-background);\n",
       "  text-decoration: none;\n",
       "}\n",
       "\n",
       "/* Span, style for the box shown on hovering the info icon */\n",
       ".sk-estimator-doc-link span {\n",
       "  display: none;\n",
       "  z-index: 9999;\n",
       "  position: relative;\n",
       "  font-weight: normal;\n",
       "  right: .2ex;\n",
       "  padding: .5ex;\n",
       "  margin: .5ex;\n",
       "  width: min-content;\n",
       "  min-width: 20ex;\n",
       "  max-width: 50ex;\n",
       "  color: var(--sklearn-color-text);\n",
       "  box-shadow: 2pt 2pt 4pt #999;\n",
       "  /* unfitted */\n",
       "  background: var(--sklearn-color-unfitted-level-0);\n",
       "  border: .5pt solid var(--sklearn-color-unfitted-level-3);\n",
       "}\n",
       "\n",
       ".sk-estimator-doc-link.fitted span {\n",
       "  /* fitted */\n",
       "  background: var(--sklearn-color-fitted-level-0);\n",
       "  border: var(--sklearn-color-fitted-level-3);\n",
       "}\n",
       "\n",
       ".sk-estimator-doc-link:hover span {\n",
       "  display: block;\n",
       "}\n",
       "\n",
       "/* \"?\"-specific style due to the `<a>` HTML tag */\n",
       "\n",
       "#sk-container-id-1 a.estimator_doc_link {\n",
       "  float: right;\n",
       "  font-size: 1rem;\n",
       "  line-height: 1em;\n",
       "  font-family: monospace;\n",
       "  background-color: var(--sklearn-color-background);\n",
       "  border-radius: 1rem;\n",
       "  height: 1rem;\n",
       "  width: 1rem;\n",
       "  text-decoration: none;\n",
       "  /* unfitted */\n",
       "  color: var(--sklearn-color-unfitted-level-1);\n",
       "  border: var(--sklearn-color-unfitted-level-1) 1pt solid;\n",
       "}\n",
       "\n",
       "#sk-container-id-1 a.estimator_doc_link.fitted {\n",
       "  /* fitted */\n",
       "  border: var(--sklearn-color-fitted-level-1) 1pt solid;\n",
       "  color: var(--sklearn-color-fitted-level-1);\n",
       "}\n",
       "\n",
       "/* On hover */\n",
       "#sk-container-id-1 a.estimator_doc_link:hover {\n",
       "  /* unfitted */\n",
       "  background-color: var(--sklearn-color-unfitted-level-3);\n",
       "  color: var(--sklearn-color-background);\n",
       "  text-decoration: none;\n",
       "}\n",
       "\n",
       "#sk-container-id-1 a.estimator_doc_link.fitted:hover {\n",
       "  /* fitted */\n",
       "  background-color: var(--sklearn-color-fitted-level-3);\n",
       "}\n",
       "</style><div id=\"sk-container-id-1\" class=\"sk-top-container\"><div class=\"sk-text-repr-fallback\"><pre>XGBClassifier(base_score=None, booster=None, callbacks=None,\n",
       "              colsample_bylevel=None, colsample_bynode=0.4161507581982826,\n",
       "              colsample_bytree=None, device=None, early_stopping_rounds=None,\n",
       "              enable_categorical=False,\n",
       "              eval_metric=&lt;function custom_f1_score at 0x7f1774723380&gt;,\n",
       "              feature_types=None, gamma=None, grow_policy=None,\n",
       "              importance_type=None, interaction_constraints=None,\n",
       "              learning_rate=0.2142179556436762, max_bin=None,\n",
       "              max_cat_threshold=None, max_cat_to_onehot=None,\n",
       "              max_delta_step=None, max_depth=6, max_leaves=None,\n",
       "              min_child_weight=1, missing=nan, monotone_constraints=None,\n",
       "              multi_strategy=None, n_estimators=4, n_jobs=None,\n",
       "              num_parallel_tree=None, objective=&#x27;multi:softprob&#x27;, ...)</pre><b>In a Jupyter environment, please rerun this cell to show the HTML representation or trust the notebook. <br />On GitHub, the HTML representation is unable to render, please try loading this page with nbviewer.org.</b></div><div class=\"sk-container\" hidden><div class=\"sk-item\"><div class=\"sk-estimator fitted sk-toggleable\"><input class=\"sk-toggleable__control sk-hidden--visually\" id=\"sk-estimator-id-1\" type=\"checkbox\" checked><label for=\"sk-estimator-id-1\" class=\"sk-toggleable__label fitted sk-toggleable__label-arrow fitted\">&nbsp;XGBClassifier<span class=\"sk-estimator-doc-link fitted\">i<span>Fitted</span></span></label><div class=\"sk-toggleable__content fitted\"><pre>XGBClassifier(base_score=None, booster=None, callbacks=None,\n",
       "              colsample_bylevel=None, colsample_bynode=0.4161507581982826,\n",
       "              colsample_bytree=None, device=None, early_stopping_rounds=None,\n",
       "              enable_categorical=False,\n",
       "              eval_metric=&lt;function custom_f1_score at 0x7f1774723380&gt;,\n",
       "              feature_types=None, gamma=None, grow_policy=None,\n",
       "              importance_type=None, interaction_constraints=None,\n",
       "              learning_rate=0.2142179556436762, max_bin=None,\n",
       "              max_cat_threshold=None, max_cat_to_onehot=None,\n",
       "              max_delta_step=None, max_depth=6, max_leaves=None,\n",
       "              min_child_weight=1, missing=nan, monotone_constraints=None,\n",
       "              multi_strategy=None, n_estimators=4, n_jobs=None,\n",
       "              num_parallel_tree=None, objective=&#x27;multi:softprob&#x27;, ...)</pre></div> </div></div></div></div>"
      ],
      "text/plain": [
       "XGBClassifier(base_score=None, booster=None, callbacks=None,\n",
       "              colsample_bylevel=None, colsample_bynode=0.4161507581982826,\n",
       "              colsample_bytree=None, device=None, early_stopping_rounds=None,\n",
       "              enable_categorical=False,\n",
       "              eval_metric=<function custom_f1_score at 0x7f1774723380>,\n",
       "              feature_types=None, gamma=None, grow_policy=None,\n",
       "              importance_type=None, interaction_constraints=None,\n",
       "              learning_rate=0.2142179556436762, max_bin=None,\n",
       "              max_cat_threshold=None, max_cat_to_onehot=None,\n",
       "              max_delta_step=None, max_depth=6, max_leaves=None,\n",
       "              min_child_weight=1, missing=nan, monotone_constraints=None,\n",
       "              multi_strategy=None, n_estimators=4, n_jobs=None,\n",
       "              num_parallel_tree=None, objective='multi:softprob', ...)"
      ]
     },
     "execution_count": 21,
     "metadata": {},
     "output_type": "execute_result"
    }
   ],
   "source": [
    "n_estimators = int(study.best_trial.user_attrs['best_iteration']*1.2)\n",
    "xgb = xgboost.XGBClassifier(\n",
    "        eval_metric=eval_metric,\n",
    "        n_estimators=n_estimators,\n",
    "        **study.best_trial.params\n",
    "    )\n",
    "xgb.fit(\n",
    "    ssp.vstack((X_train, X_val)), \n",
    "    np.concatenate((y_train_enc, y_val_enc)),\n",
    "    verbose=1,\n",
    ")"
   ]
  },
  {
   "cell_type": "code",
   "execution_count": 22,
   "id": "241a7fb9",
   "metadata": {
    "execution": {
     "iopub.execute_input": "2025-06-13T13:10:27.038163Z",
     "iopub.status.busy": "2025-06-13T13:10:27.037796Z",
     "iopub.status.idle": "2025-06-13T13:10:27.054168Z",
     "shell.execute_reply": "2025-06-13T13:10:27.053802Z"
    },
    "papermill": {
     "duration": 0.037828,
     "end_time": "2025-06-13T13:10:27.056874",
     "exception": false,
     "start_time": "2025-06-13T13:10:27.019046",
     "status": "completed"
    },
    "tags": []
   },
   "outputs": [
    {
     "data": {
      "text/plain": [
       "['/scratch_isilon/groups/singlecell/shared/projects/Inflammation-PBMCs-Atlas/03_downstream_analysis/08_gene_importance/xgboost_external_validation/xgboost_TopN_genes/results_20/best_model/Plasma_shap_studyID_samesize_4_xgb.json']"
      ]
     },
     "execution_count": 22,
     "metadata": {},
     "output_type": "execute_result"
    }
   ],
   "source": [
    "out_dir = here(f'03_downstream_analysis/08_gene_importance/xgboost_external_validation/xgboost_TopN_genes/results_{N_GENES}/best_model')\n",
    "\n",
    "if not os.path.exists(out_dir):\n",
    "    os.makedirs(out_dir)\n",
    "    \n",
    "joblib.dump(xgb, os.path.join(out_dir, f'{CELL_TYPE}_{SEED}_{TEST_SPLIT_IDX}_xgb.json'))"
   ]
  },
  {
   "cell_type": "code",
   "execution_count": 23,
   "id": "8bab1130",
   "metadata": {
    "execution": {
     "iopub.execute_input": "2025-06-13T13:10:27.077773Z",
     "iopub.status.busy": "2025-06-13T13:10:27.077363Z",
     "iopub.status.idle": "2025-06-13T13:10:27.085739Z",
     "shell.execute_reply": "2025-06-13T13:10:27.085329Z"
    },
    "papermill": {
     "duration": 0.018883,
     "end_time": "2025-06-13T13:10:27.086603",
     "exception": false,
     "start_time": "2025-06-13T13:10:27.067720",
     "status": "completed"
    },
    "tags": []
   },
   "outputs": [],
   "source": [
    "df_pred_test = pd.DataFrame(dict(\n",
    "    cell_id=train_adata.obs.iloc[test_idxs].index.values,\n",
    "    y_true=y_test, \n",
    "    y_true_code=y_test_enc, \n",
    "    y_pred=xgb.predict(X_test))).set_index('cell_id')"
   ]
  },
  {
   "cell_type": "code",
   "execution_count": 24,
   "id": "e5cd9968",
   "metadata": {
    "execution": {
     "iopub.execute_input": "2025-06-13T13:10:27.106285Z",
     "iopub.status.busy": "2025-06-13T13:10:27.105805Z",
     "iopub.status.idle": "2025-06-13T13:10:27.145313Z",
     "shell.execute_reply": "2025-06-13T13:10:27.144832Z"
    },
    "papermill": {
     "duration": 0.050752,
     "end_time": "2025-06-13T13:10:27.146559",
     "exception": false,
     "start_time": "2025-06-13T13:10:27.095807",
     "status": "completed"
    },
    "tags": []
   },
   "outputs": [],
   "source": [
    "out_dir = here(f'03_downstream_analysis/08_gene_importance/xgboost_external_validation/xgboost_TopN_genes/results_{N_GENES}/predictions')\n",
    "\n",
    "if not os.path.exists(out_dir):\n",
    "    os.makedirs(out_dir)\n",
    "    \n",
    "df_pred_test.to_csv(os.path.join(out_dir, f'{CELL_TYPE}_{SEED}_{TEST_SPLIT_IDX}_pred_test.zip'))"
   ]
  },
  {
   "cell_type": "code",
   "execution_count": 25,
   "id": "bc45c7dc",
   "metadata": {
    "execution": {
     "iopub.execute_input": "2025-06-13T13:10:27.168773Z",
     "iopub.status.busy": "2025-06-13T13:10:27.168345Z",
     "iopub.status.idle": "2025-06-13T13:10:27.174555Z",
     "shell.execute_reply": "2025-06-13T13:10:27.174195Z"
    },
    "papermill": {
     "duration": 0.018661,
     "end_time": "2025-06-13T13:10:27.175501",
     "exception": false,
     "start_time": "2025-06-13T13:10:27.156840",
     "status": "completed"
    },
    "tags": []
   },
   "outputs": [],
   "source": [
    "metrics_dict = dict(\n",
    "    BAS=balanced_accuracy_score(y_true=df_pred_test.y_true_code, y_pred=df_pred_test.y_pred), WF1=f1_score(y_true=df_pred_test.y_true_code, y_pred=df_pred_test.y_pred,average='weighted'))"
   ]
  },
  {
   "cell_type": "code",
   "execution_count": 26,
   "id": "2e5788c7",
   "metadata": {
    "execution": {
     "iopub.execute_input": "2025-06-13T13:10:27.205231Z",
     "iopub.status.busy": "2025-06-13T13:10:27.204645Z",
     "iopub.status.idle": "2025-06-13T13:10:27.208060Z",
     "shell.execute_reply": "2025-06-13T13:10:27.207735Z"
    },
    "papermill": {
     "duration": 0.015547,
     "end_time": "2025-06-13T13:10:27.208932",
     "exception": false,
     "start_time": "2025-06-13T13:10:27.193385",
     "status": "completed"
    },
    "tags": []
   },
   "outputs": [
    {
     "data": {
      "text/plain": [
       "{'BAS': 0.45234279609279604, 'WF1': 0.639403553802942}"
      ]
     },
     "execution_count": 26,
     "metadata": {},
     "output_type": "execute_result"
    }
   ],
   "source": [
    "metrics_dict"
   ]
  },
  {
   "cell_type": "code",
   "execution_count": 27,
   "id": "42045bb3",
   "metadata": {
    "execution": {
     "iopub.execute_input": "2025-06-13T13:10:27.232194Z",
     "iopub.status.busy": "2025-06-13T13:10:27.231686Z",
     "iopub.status.idle": "2025-06-13T13:10:27.245092Z",
     "shell.execute_reply": "2025-06-13T13:10:27.244720Z"
    },
    "papermill": {
     "duration": 0.02688,
     "end_time": "2025-06-13T13:10:27.246003",
     "exception": false,
     "start_time": "2025-06-13T13:10:27.219123",
     "status": "completed"
    },
    "tags": []
   },
   "outputs": [
    {
     "data": {
      "text/html": [
       "<div>\n",
       "<style scoped>\n",
       "    .dataframe tbody tr th:only-of-type {\n",
       "        vertical-align: middle;\n",
       "    }\n",
       "\n",
       "    .dataframe tbody tr th {\n",
       "        vertical-align: top;\n",
       "    }\n",
       "\n",
       "    .dataframe thead th {\n",
       "        text-align: right;\n",
       "    }\n",
       "</style>\n",
       "<table border=\"1\" class=\"dataframe\">\n",
       "  <thead>\n",
       "    <tr style=\"text-align: right;\">\n",
       "      <th></th>\n",
       "      <th>BAS</th>\n",
       "      <th>WF1</th>\n",
       "      <th>split_idx</th>\n",
       "      <th>gene_set_seed</th>\n",
       "      <th>cell_type</th>\n",
       "    </tr>\n",
       "  </thead>\n",
       "  <tbody>\n",
       "    <tr>\n",
       "      <th>0</th>\n",
       "      <td>0.452343</td>\n",
       "      <td>0.639404</td>\n",
       "      <td>4</td>\n",
       "      <td>shap_studyID_samesize</td>\n",
       "      <td>Plasma</td>\n",
       "    </tr>\n",
       "  </tbody>\n",
       "</table>\n",
       "</div>"
      ],
      "text/plain": [
       "        BAS       WF1  split_idx          gene_set_seed cell_type\n",
       "0  0.452343  0.639404          4  shap_studyID_samesize    Plasma"
      ]
     },
     "execution_count": 27,
     "metadata": {},
     "output_type": "execute_result"
    }
   ],
   "source": [
    "metrics_df = pd.DataFrame.from_dict([metrics_dict]).assign(split_idx=TEST_SPLIT_IDX, gene_set_seed=SEED, cell_type=CELL_TYPE)\n",
    "metrics_df"
   ]
  },
  {
   "cell_type": "code",
   "execution_count": 28,
   "id": "3bdf9301",
   "metadata": {
    "execution": {
     "iopub.execute_input": "2025-06-13T13:10:27.265391Z",
     "iopub.status.busy": "2025-06-13T13:10:27.264845Z",
     "iopub.status.idle": "2025-06-13T13:10:27.273494Z",
     "shell.execute_reply": "2025-06-13T13:10:27.273109Z"
    },
    "papermill": {
     "duration": 0.019098,
     "end_time": "2025-06-13T13:10:27.274343",
     "exception": false,
     "start_time": "2025-06-13T13:10:27.255245",
     "status": "completed"
    },
    "tags": []
   },
   "outputs": [],
   "source": [
    "out_dir = here(f'03_downstream_analysis/08_gene_importance/xgboost_external_validation/xgboost_TopN_genes/results_{N_GENES}/metrics')\n",
    "\n",
    "if not os.path.exists(out_dir):\n",
    "    os.makedirs(out_dir)\n",
    "    \n",
    "metrics_df.to_csv(os.path.join(out_dir, f'{CELL_TYPE}_{SEED}_{TEST_SPLIT_IDX}_metrics.zip'))"
   ]
  }
 ],
 "metadata": {
  "kernelspec": {
   "display_name": "Python 3 (ipykernel)",
   "language": "python",
   "name": "python3"
  },
  "language_info": {
   "codemirror_mode": {
    "name": "ipython",
    "version": 3
   },
   "file_extension": ".py",
   "mimetype": "text/x-python",
   "name": "python",
   "nbconvert_exporter": "python",
   "pygments_lexer": "ipython3",
   "version": "3.12.5"
  },
  "papermill": {
   "default_parameters": {},
   "duration": 17.815688,
   "end_time": "2025-06-13T13:10:28.005179",
   "environment_variables": {},
   "exception": null,
   "input_path": "02_xgboost_fitting_external_20genes.ipynb",
   "output_path": "results_20/executed_notebooks/xgboost_fitting_external_CT_Plasma_GS_shap_studyID_samesize_seed4.ipynb",
   "parameters": {
    "CELL_TYPE": "Plasma",
    "SEED": "shap_studyID_samesize",
    "TEST_SPLIT_IDX": 4
   },
   "start_time": "2025-06-13T13:10:10.189491",
   "version": "2.6.0"
  }
 },
 "nbformat": 4,
 "nbformat_minor": 5
}