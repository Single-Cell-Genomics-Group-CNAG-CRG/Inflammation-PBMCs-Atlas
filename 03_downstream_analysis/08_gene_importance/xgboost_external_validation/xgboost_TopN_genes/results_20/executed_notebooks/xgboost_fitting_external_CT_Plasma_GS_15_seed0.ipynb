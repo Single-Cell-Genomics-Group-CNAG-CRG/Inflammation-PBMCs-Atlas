{
 "cells": [
  {
   "cell_type": "code",
   "execution_count": 1,
   "id": "c9de80b7",
   "metadata": {
    "editable": true,
    "execution": {
     "iopub.execute_input": "2025-05-15T16:15:43.996288Z",
     "iopub.status.busy": "2025-05-15T16:15:43.995940Z",
     "iopub.status.idle": "2025-05-15T16:15:43.999146Z",
     "shell.execute_reply": "2025-05-15T16:15:43.998809Z"
    },
    "papermill": {
     "duration": 0.012121,
     "end_time": "2025-05-15T16:15:44.000004",
     "exception": false,
     "start_time": "2025-05-15T16:15:43.987883",
     "status": "completed"
    },
    "slideshow": {
     "slide_type": ""
    },
    "tags": [
     "parameters"
    ]
   },
   "outputs": [],
   "source": [
    "CELL_TYPE = 'pDC'\n",
    "N_GENES: int = 20\n",
    "SEED = 'shap_studyID' #'disease_NOstudy' 'study_NOdisease' or 'int' or 'shap_studyID'\n",
    "TEST_SPLIT_IDX: int = 1 #[0,4]"
   ]
  },
  {
   "cell_type": "code",
   "execution_count": 2,
   "id": "a2762990",
   "metadata": {
    "execution": {
     "iopub.execute_input": "2025-05-15T16:15:44.012548Z",
     "iopub.status.busy": "2025-05-15T16:15:44.012210Z",
     "iopub.status.idle": "2025-05-15T16:15:44.014507Z",
     "shell.execute_reply": "2025-05-15T16:15:44.014190Z"
    },
    "papermill": {
     "duration": 0.009586,
     "end_time": "2025-05-15T16:15:44.015316",
     "exception": false,
     "start_time": "2025-05-15T16:15:44.005730",
     "status": "completed"
    },
    "tags": [
     "injected-parameters"
    ]
   },
   "outputs": [],
   "source": [
    "# Parameters\n",
    "CELL_TYPE = \"Plasma\"\n",
    "SEED = 15\n",
    "TEST_SPLIT_IDX = 0\n"
   ]
  },
  {
   "cell_type": "code",
   "execution_count": 3,
   "id": "628a6476",
   "metadata": {
    "execution": {
     "iopub.execute_input": "2025-05-15T16:15:44.026890Z",
     "iopub.status.busy": "2025-05-15T16:15:44.026630Z",
     "iopub.status.idle": "2025-05-15T16:15:44.028808Z",
     "shell.execute_reply": "2025-05-15T16:15:44.028499Z"
    },
    "papermill": {
     "duration": 0.008977,
     "end_time": "2025-05-15T16:15:44.029600",
     "exception": false,
     "start_time": "2025-05-15T16:15:44.020623",
     "status": "completed"
    },
    "tags": []
   },
   "outputs": [],
   "source": [
    "N_SPLITS: int = 5\n",
    "N_TRIALS: int = 50"
   ]
  },
  {
   "cell_type": "code",
   "execution_count": 4,
   "id": "781e62f1",
   "metadata": {
    "execution": {
     "iopub.execute_input": "2025-05-15T16:15:44.041999Z",
     "iopub.status.busy": "2025-05-15T16:15:44.041761Z",
     "iopub.status.idle": "2025-05-15T16:15:45.492337Z",
     "shell.execute_reply": "2025-05-15T16:15:45.491913Z"
    },
    "papermill": {
     "duration": 1.458976,
     "end_time": "2025-05-15T16:15:45.493965",
     "exception": false,
     "start_time": "2025-05-15T16:15:44.034989",
     "status": "completed"
    },
    "tags": []
   },
   "outputs": [],
   "source": [
    "import os\n",
    "import sys\n",
    "from pyprojroot.here import here\n",
    "import pandas as pd\n",
    "import anndata as ad\n",
    "import numpy as np\n",
    "import math\n",
    "from sklearn.model_selection import StratifiedGroupKFold\n",
    "from sklearn.preprocessing import LabelEncoder\n",
    "from sklearn.metrics import f1_score\n",
    "import matplotlib.pyplot as plt\n",
    "import seaborn as sns\n",
    "from itertools import product\n",
    "from sklearn.metrics import balanced_accuracy_score, f1_score\n",
    "import optuna\n",
    "\n",
    "import joblib\n",
    "import pickle\n",
    "import datetime\n",
    "\n",
    "import collections\n",
    "\n",
    "import xgboost\n",
    "from sklearn.preprocessing import LabelEncoder\n",
    "\n",
    "import scipy.sparse as ssp\n",
    "import joblib\n",
    "\n",
    "from dotenv import load_dotenv"
   ]
  },
  {
   "cell_type": "code",
   "execution_count": 5,
   "id": "9286754d",
   "metadata": {
    "execution": {
     "iopub.execute_input": "2025-05-15T16:15:45.507360Z",
     "iopub.status.busy": "2025-05-15T16:15:45.506827Z",
     "iopub.status.idle": "2025-05-15T16:15:45.512329Z",
     "shell.execute_reply": "2025-05-15T16:15:45.512026Z"
    },
    "papermill": {
     "duration": 0.012856,
     "end_time": "2025-05-15T16:15:45.513208",
     "exception": false,
     "start_time": "2025-05-15T16:15:45.500352",
     "status": "completed"
    },
    "tags": []
   },
   "outputs": [
    {
     "data": {
      "text/plain": [
       "True"
      ]
     },
     "execution_count": 5,
     "metadata": {},
     "output_type": "execute_result"
    }
   ],
   "source": [
    "load_dotenv()"
   ]
  },
  {
   "cell_type": "markdown",
   "id": "5af7bb1e",
   "metadata": {
    "papermill": {
     "duration": 0.006181,
     "end_time": "2025-05-15T16:15:45.525584",
     "exception": false,
     "start_time": "2025-05-15T16:15:45.519403",
     "status": "completed"
    },
    "tags": []
   },
   "source": [
    "# LOAD DATASET"
   ]
  },
  {
   "cell_type": "code",
   "execution_count": 6,
   "id": "db59160f",
   "metadata": {
    "execution": {
     "iopub.execute_input": "2025-05-15T16:15:45.539227Z",
     "iopub.status.busy": "2025-05-15T16:15:45.538939Z",
     "iopub.status.idle": "2025-05-15T16:15:45.579862Z",
     "shell.execute_reply": "2025-05-15T16:15:45.579424Z"
    },
    "papermill": {
     "duration": 0.049745,
     "end_time": "2025-05-15T16:15:45.581290",
     "exception": false,
     "start_time": "2025-05-15T16:15:45.531545",
     "status": "completed"
    },
    "tags": []
   },
   "outputs": [],
   "source": [
    "train_adata = ad.read_h5ad(\n",
    "    here(f'03_downstream_analysis/08_gene_importance/xgboost_external_validation/xgboost_TopN_genes/data_cellTypes/EXTERNAL_{CELL_TYPE}.filtered.log1p.h5ad')\n",
    ")"
   ]
  },
  {
   "cell_type": "code",
   "execution_count": 7,
   "id": "c8c0999d",
   "metadata": {
    "execution": {
     "iopub.execute_input": "2025-05-15T16:15:45.594853Z",
     "iopub.status.busy": "2025-05-15T16:15:45.594518Z",
     "iopub.status.idle": "2025-05-15T16:15:45.605763Z",
     "shell.execute_reply": "2025-05-15T16:15:45.605323Z"
    },
    "papermill": {
     "duration": 0.018713,
     "end_time": "2025-05-15T16:15:45.606723",
     "exception": false,
     "start_time": "2025-05-15T16:15:45.588010",
     "status": "completed"
    },
    "tags": []
   },
   "outputs": [
    {
     "name": "stdout",
     "output_type": "stream",
     "text": [
      "['ENSG00000015475' 'ENSG00000175567' 'ENSG00000128340' 'ENSG00000156411'\n",
      " 'ENSG00000078043' 'ENSG00000027697' 'ENSG00000134107' 'ENSG00000271503'\n",
      " 'ENSG00000143390' 'ENSG00000170540' 'ENSG00000143924' 'ENSG00000106588'\n",
      " 'ENSG00000113441' 'ENSG00000166888' 'ENSG00000134539' 'ENSG00000132510'\n",
      " 'ENSG00000145220' 'ENSG00000100906' 'ENSG00000105851' 'ENSG00000077150'\n",
      " 'ENSG00000108561' 'ENSG00000155368' 'ENSG00000090863' 'ENSG00000164543'\n",
      " 'ENSG00000127022' 'ENSG00000129084' 'ENSG00000180644' 'ENSG00000121858'\n",
      " 'ENSG00000090554' 'ENSG00000112137' 'ENSG00000068831' 'ENSG00000107223'\n",
      " 'ENSG00000197872' 'ENSG00000164308' 'ENSG00000189067' 'ENSG00000081059'\n",
      " 'ENSG00000006125' 'ENSG00000140564' 'ENSG00000121552' 'ENSG00000185201'\n",
      " 'ENSG00000162739' 'ENSG00000166681' 'ENSG00000183020' 'ENSG00000152518'\n",
      " 'ENSG00000107485' 'ENSG00000100911' 'ENSG00000227507' 'ENSG00000101695'\n",
      " 'ENSG00000142546' 'ENSG00000184752' 'ENSG00000185591' 'ENSG00000075945'\n",
      " 'ENSG00000153234' 'ENSG00000117318' 'ENSG00000075234' 'ENSG00000145675'\n",
      " 'ENSG00000131981' 'ENSG00000171608' 'ENSG00000028137' 'ENSG00000076944'\n",
      " 'ENSG00000112561' 'ENSG00000173812' 'ENSG00000118640' 'ENSG00000117602'\n",
      " 'ENSG00000143933' 'ENSG00000066336' 'ENSG00000172349' 'ENSG00000104856'\n",
      " 'ENSG00000125534' 'ENSG00000158769' 'ENSG00000168685' 'ENSG00000130522'\n",
      " 'ENSG00000102265' 'ENSG00000116815' 'ENSG00000197965' 'ENSG00000198832'\n",
      " 'ENSG00000104671' 'ENSG00000105583' 'ENSG00000182287' 'ENSG00000066136'\n",
      " 'ENSG00000169564' 'ENSG00000134352' 'ENSG00000169442' 'ENSG00000142166'\n",
      " 'ENSG00000158869' 'ENSG00000258315' 'ENSG00000123358' 'ENSG00000008517'\n",
      " 'ENSG00000175354' 'ENSG00000139318' 'ENSG00000038427' 'ENSG00000172531'\n",
      " 'ENSG00000104660' 'ENSG00000176986' 'ENSG00000166847' 'ENSG00000111716'\n",
      " 'ENSG00000122862' 'ENSG00000241106' 'ENSG00000152219' 'ENSG00000166747'\n",
      " 'ENSG00000235162' 'ENSG00000123268' 'ENSG00000104870' 'ENSG00000145850'\n",
      " 'ENSG00000152495' 'ENSG00000164104' 'ENSG00000104689']\n"
     ]
    }
   ],
   "source": [
    "if SEED != 'all':\n",
    "    gene_subset = np.load(here(f'03_downstream_analysis/08_gene_importance/xgboost_external_validation/shap_gene_selection/gene_subsets_{N_GENES}/{CELL_TYPE}_{SEED}.npy'), allow_pickle=True)\n",
    "    train_adata = train_adata[:,gene_subset]\n",
    "    print(gene_subset)\n",
    "elif SEED == 'all':\n",
    "    print('Using all genes')\n",
    "else:\n",
    "    raise ValueError()"
   ]
  },
  {
   "cell_type": "code",
   "execution_count": 8,
   "id": "b93b0fbb",
   "metadata": {
    "execution": {
     "iopub.execute_input": "2025-05-15T16:15:45.620637Z",
     "iopub.status.busy": "2025-05-15T16:15:45.620411Z",
     "iopub.status.idle": "2025-05-15T16:15:45.623584Z",
     "shell.execute_reply": "2025-05-15T16:15:45.623262Z"
    },
    "papermill": {
     "duration": 0.010781,
     "end_time": "2025-05-15T16:15:45.624572",
     "exception": false,
     "start_time": "2025-05-15T16:15:45.613791",
     "status": "completed"
    },
    "tags": []
   },
   "outputs": [
    {
     "data": {
      "text/plain": [
       "(542, 107)"
      ]
     },
     "execution_count": 8,
     "metadata": {},
     "output_type": "execute_result"
    }
   ],
   "source": [
    "train_adata.shape"
   ]
  },
  {
   "cell_type": "code",
   "execution_count": 9,
   "id": "0b6ca33b",
   "metadata": {
    "execution": {
     "iopub.execute_input": "2025-05-15T16:15:45.657933Z",
     "iopub.status.busy": "2025-05-15T16:15:45.657793Z",
     "iopub.status.idle": "2025-05-15T16:15:45.661469Z",
     "shell.execute_reply": "2025-05-15T16:15:45.661170Z"
    },
    "papermill": {
     "duration": 0.011424,
     "end_time": "2025-05-15T16:15:45.662301",
     "exception": false,
     "start_time": "2025-05-15T16:15:45.650877",
     "status": "completed"
    },
    "tags": []
   },
   "outputs": [
    {
     "data": {
      "text/plain": [
       "['RA', 'COVID', 'healthy', 'HIV', 'cirrhosis', 'CD', 'SLE', 'sepsis']\n",
       "Categories (8, object): ['CD', 'COVID', 'HIV', 'RA', 'SLE', 'cirrhosis', 'healthy', 'sepsis']"
      ]
     },
     "execution_count": 9,
     "metadata": {},
     "output_type": "execute_result"
    }
   ],
   "source": [
    "train_adata.obs.disease.unique()"
   ]
  },
  {
   "cell_type": "code",
   "execution_count": 10,
   "id": "d3d490cd",
   "metadata": {
    "execution": {
     "iopub.execute_input": "2025-05-15T16:15:45.676414Z",
     "iopub.status.busy": "2025-05-15T16:15:45.676202Z",
     "iopub.status.idle": "2025-05-15T16:15:45.679488Z",
     "shell.execute_reply": "2025-05-15T16:15:45.679178Z"
    },
    "papermill": {
     "duration": 0.011906,
     "end_time": "2025-05-15T16:15:45.680311",
     "exception": false,
     "start_time": "2025-05-15T16:15:45.668405",
     "status": "completed"
    },
    "tags": []
   },
   "outputs": [
    {
     "data": {
      "text/plain": [
       "['SCGT00val_I0364_T0', 'SCGT00val_I036019_T0', 'SCGT00val_I036028_T0', 'SCGT00val_I036024_T0', 'SCGT00val_I036016_T0', ..., '10XGenomics_10XHC2_T0', '10XGenomics_10XHC3_T0', '10XGenomics_10XHC5_T0', '10XGenomics_10XHC7_T0', '10XGenomics_10XHC8_T0']\n",
       "Length: 74\n",
       "Categories (74, object): ['10XGenomics_10XHC1_T0', '10XGenomics_10XHC2_T0', '10XGenomics_10XHC3_T0', '10XGenomics_10XHC4_T0', ..., 'Savage2021_BRISL6_T0', 'Savage2021_BRISL7_T0', 'Savage2021_PIDA_T0', 'Savage2021_PIDB_T0']"
      ]
     },
     "execution_count": 10,
     "metadata": {},
     "output_type": "execute_result"
    }
   ],
   "source": [
    "train_adata.obs.sampleID.unique()"
   ]
  },
  {
   "cell_type": "code",
   "execution_count": 11,
   "id": "5669c206",
   "metadata": {
    "execution": {
     "iopub.execute_input": "2025-05-15T16:15:45.704582Z",
     "iopub.status.busy": "2025-05-15T16:15:45.704360Z",
     "iopub.status.idle": "2025-05-15T16:15:45.733058Z",
     "shell.execute_reply": "2025-05-15T16:15:45.732650Z"
    },
    "papermill": {
     "duration": 0.036806,
     "end_time": "2025-05-15T16:15:45.734306",
     "exception": false,
     "start_time": "2025-05-15T16:15:45.697500",
     "status": "completed"
    },
    "tags": []
   },
   "outputs": [],
   "source": [
    "all_idxs = np.arange(train_adata.obs.shape[0])\n",
    "left_out_splits = [s[1] for s in StratifiedGroupKFold(n_splits=N_SPLITS).split(all_idxs, train_adata.obs.disease, train_adata.obs.sampleID)]"
   ]
  },
  {
   "cell_type": "code",
   "execution_count": 12,
   "id": "249fb0ab",
   "metadata": {
    "execution": {
     "iopub.execute_input": "2025-05-15T16:15:45.747614Z",
     "iopub.status.busy": "2025-05-15T16:15:45.747400Z",
     "iopub.status.idle": "2025-05-15T16:15:45.750899Z",
     "shell.execute_reply": "2025-05-15T16:15:45.750580Z"
    },
    "papermill": {
     "duration": 0.010948,
     "end_time": "2025-05-15T16:15:45.751743",
     "exception": false,
     "start_time": "2025-05-15T16:15:45.740795",
     "status": "completed"
    },
    "tags": []
   },
   "outputs": [
    {
     "data": {
      "text/plain": [
       "([2, 3, 4], 1, 0)"
      ]
     },
     "execution_count": 12,
     "metadata": {},
     "output_type": "execute_result"
    }
   ],
   "source": [
    "TRAIN_SPLIT_IDXS = [0,1,2,3,4]\n",
    "VAL_SPLIT_IDX = (TEST_SPLIT_IDX + 1) % 5\n",
    "TRAIN_SPLIT_IDXS.remove(TEST_SPLIT_IDX)\n",
    "TRAIN_SPLIT_IDXS.remove(VAL_SPLIT_IDX)\n",
    "TRAIN_SPLIT_IDXS, VAL_SPLIT_IDX, TEST_SPLIT_IDX"
   ]
  },
  {
   "cell_type": "code",
   "execution_count": 13,
   "id": "46835f5a",
   "metadata": {
    "execution": {
     "iopub.execute_input": "2025-05-15T16:15:45.766421Z",
     "iopub.status.busy": "2025-05-15T16:15:45.766155Z",
     "iopub.status.idle": "2025-05-15T16:15:45.768611Z",
     "shell.execute_reply": "2025-05-15T16:15:45.768298Z"
    },
    "papermill": {
     "duration": 0.010475,
     "end_time": "2025-05-15T16:15:45.769490",
     "exception": false,
     "start_time": "2025-05-15T16:15:45.759015",
     "status": "completed"
    },
    "tags": []
   },
   "outputs": [],
   "source": [
    "train_idxs = np.concatenate([left_out_splits[idx] for idx in TRAIN_SPLIT_IDXS])\n",
    "val_idxs = left_out_splits[VAL_SPLIT_IDX]\n",
    "test_idxs = left_out_splits[TEST_SPLIT_IDX]"
   ]
  },
  {
   "cell_type": "markdown",
   "id": "315d8eca",
   "metadata": {
    "papermill": {
     "duration": 0.005872,
     "end_time": "2025-05-15T16:15:45.781961",
     "exception": false,
     "start_time": "2025-05-15T16:15:45.776089",
     "status": "completed"
    },
    "tags": []
   },
   "source": [
    "### SUBSET DATASET INTO TRAIN/TEST/VAL SPLITS"
   ]
  },
  {
   "cell_type": "code",
   "execution_count": 14,
   "id": "d64abd79",
   "metadata": {
    "execution": {
     "iopub.execute_input": "2025-05-15T16:15:45.814620Z",
     "iopub.status.busy": "2025-05-15T16:15:45.814344Z",
     "iopub.status.idle": "2025-05-15T16:15:45.820751Z",
     "shell.execute_reply": "2025-05-15T16:15:45.820436Z"
    },
    "papermill": {
     "duration": 0.033495,
     "end_time": "2025-05-15T16:15:45.821638",
     "exception": false,
     "start_time": "2025-05-15T16:15:45.788143",
     "status": "completed"
    },
    "tags": []
   },
   "outputs": [
    {
     "data": {
      "text/plain": [
       "((317, 107), (118, 107), (107, 107))"
      ]
     },
     "execution_count": 14,
     "metadata": {},
     "output_type": "execute_result"
    }
   ],
   "source": [
    "X_train = train_adata.X[train_idxs]\n",
    "X_test = train_adata.X[test_idxs]\n",
    "X_val = train_adata.X[val_idxs]\n",
    "X_train.shape, X_test.shape, X_val.shape"
   ]
  },
  {
   "cell_type": "code",
   "execution_count": 15,
   "id": "a83a9a1e",
   "metadata": {
    "execution": {
     "iopub.execute_input": "2025-05-15T16:15:45.849308Z",
     "iopub.status.busy": "2025-05-15T16:15:45.848987Z",
     "iopub.status.idle": "2025-05-15T16:15:45.853641Z",
     "shell.execute_reply": "2025-05-15T16:15:45.853337Z"
    },
    "papermill": {
     "duration": 0.02609,
     "end_time": "2025-05-15T16:15:45.854567",
     "exception": false,
     "start_time": "2025-05-15T16:15:45.828477",
     "status": "completed"
    },
    "tags": []
   },
   "outputs": [
    {
     "data": {
      "text/plain": [
       "((317,), (118,), (107,))"
      ]
     },
     "execution_count": 15,
     "metadata": {},
     "output_type": "execute_result"
    }
   ],
   "source": [
    "y_train = train_adata.obs.iloc[train_idxs].disease.values.astype(str)\n",
    "y_test = train_adata.obs.iloc[test_idxs].disease.values.astype(str)\n",
    "y_val = train_adata.obs.iloc[val_idxs].disease.values.astype(str)\n",
    "y_train.shape, y_test.shape, y_val.shape"
   ]
  },
  {
   "cell_type": "code",
   "execution_count": 16,
   "id": "ead91bde",
   "metadata": {
    "execution": {
     "iopub.execute_input": "2025-05-15T16:15:45.876400Z",
     "iopub.status.busy": "2025-05-15T16:15:45.876141Z",
     "iopub.status.idle": "2025-05-15T16:15:45.878771Z",
     "shell.execute_reply": "2025-05-15T16:15:45.878476Z"
    },
    "papermill": {
     "duration": 0.01654,
     "end_time": "2025-05-15T16:15:45.879610",
     "exception": false,
     "start_time": "2025-05-15T16:15:45.863070",
     "status": "completed"
    },
    "tags": []
   },
   "outputs": [],
   "source": [
    "lenc = LabelEncoder()\n",
    "y_train_enc = lenc.fit_transform(y_train)\n",
    "y_val_enc = lenc.transform(y_val)\n",
    "y_test_enc = lenc.transform(y_test)"
   ]
  },
  {
   "cell_type": "markdown",
   "id": "2cc550bd",
   "metadata": {
    "papermill": {
     "duration": 0.007075,
     "end_time": "2025-05-15T16:15:45.900677",
     "exception": false,
     "start_time": "2025-05-15T16:15:45.893602",
     "status": "completed"
    },
    "tags": []
   },
   "source": [
    "### GENERATE F1 "
   ]
  },
  {
   "cell_type": "code",
   "execution_count": 17,
   "id": "e606d393",
   "metadata": {
    "execution": {
     "iopub.execute_input": "2025-05-15T16:15:45.920805Z",
     "iopub.status.busy": "2025-05-15T16:15:45.920391Z",
     "iopub.status.idle": "2025-05-15T16:15:45.923048Z",
     "shell.execute_reply": "2025-05-15T16:15:45.922734Z"
    },
    "papermill": {
     "duration": 0.014202,
     "end_time": "2025-05-15T16:15:45.923922",
     "exception": false,
     "start_time": "2025-05-15T16:15:45.909720",
     "status": "completed"
    },
    "tags": []
   },
   "outputs": [],
   "source": [
    "def custom_f1_score(y_true, y_pred):\n",
    "    return -f1_score(y_true, y_pred.argmax(1), average='weighted')"
   ]
  },
  {
   "cell_type": "code",
   "execution_count": 18,
   "id": "dbee4381",
   "metadata": {
    "execution": {
     "iopub.execute_input": "2025-05-15T16:15:45.941311Z",
     "iopub.status.busy": "2025-05-15T16:15:45.941075Z",
     "iopub.status.idle": "2025-05-15T16:15:45.944922Z",
     "shell.execute_reply": "2025-05-15T16:15:45.944609Z"
    },
    "papermill": {
     "duration": 0.013449,
     "end_time": "2025-05-15T16:15:45.945801",
     "exception": false,
     "start_time": "2025-05-15T16:15:45.932352",
     "status": "completed"
    },
    "tags": []
   },
   "outputs": [],
   "source": [
    "eval_metric=custom_f1_score\n",
    "eval_metric_name='custom_f1_score'\n",
    "\n",
    "def objective(trial):\n",
    "    params = {\n",
    "        'n_estimators': 1500,\n",
    "        'max_depth': trial.suggest_int('max_depth', 3, 20),\n",
    "        'min_child_weight': trial.suggest_int('min_child_weight', 1, 250),\n",
    "        'subsample': trial.suggest_float('subsample', 0.1, 1.0),\n",
    "        'colsample_bynode': trial.suggest_float('colsample_bynode', 0.1, 1.0),\n",
    "        'learning_rate': trial.suggest_float('learning_rate', 1e-3, 5e-1, log=True),\n",
    "    }\n",
    "    pruning_callback = optuna.integration.XGBoostPruningCallback(trial, f'validation_0-{eval_metric_name}')\n",
    "    es_callback = xgboost.callback.EarlyStopping(20, min_delta=0.001)\n",
    "    xgb = xgboost.XGBClassifier(\n",
    "        eval_metric=eval_metric,\n",
    "        callbacks=[pruning_callback, es_callback],\n",
    "        n_jobs=5,\n",
    "        **params\n",
    "    )\n",
    "    xgb.fit(\n",
    "        X_train, \n",
    "        y_train_enc, \n",
    "        verbose=0,\n",
    "        eval_set=[(X_val, y_val_enc)],\n",
    "    )\n",
    "    trial.set_user_attr('best_iteration', xgb.best_iteration)\n",
    "\n",
    "    return xgb.best_score"
   ]
  },
  {
   "cell_type": "code",
   "execution_count": 19,
   "id": "74986dcf",
   "metadata": {
    "execution": {
     "iopub.execute_input": "2025-05-15T16:15:45.969997Z",
     "iopub.status.busy": "2025-05-15T16:15:45.969627Z",
     "iopub.status.idle": "2025-05-15T16:15:55.027398Z",
     "shell.execute_reply": "2025-05-15T16:15:55.026950Z"
    },
    "papermill": {
     "duration": 9.075913,
     "end_time": "2025-05-15T16:15:55.028367",
     "exception": false,
     "start_time": "2025-05-15T16:15:45.952454",
     "status": "completed"
    },
    "scrolled": true,
    "tags": []
   },
   "outputs": [
    {
     "name": "stderr",
     "output_type": "stream",
     "text": [
      "[I 2025-05-15 18:15:45,971] A new study created in memory with name: no-name-7f0fe797-1de9-492f-8ef6-0e654b7c9685\n"
     ]
    },
    {
     "name": "stderr",
     "output_type": "stream",
     "text": [
      "[I 2025-05-15 18:15:46,035] Trial 0 finished with value: -0.019167 and parameters: {'max_depth': 9, 'min_child_weight': 238, 'subsample': 0.7587945476302645, 'colsample_bynode': 0.6387926357773329, 'learning_rate': 0.0026368755339723046}. Best is trial 0 with value: -0.019167.\n"
     ]
    },
    {
     "name": "stderr",
     "output_type": "stream",
     "text": [
      "[I 2025-05-15 18:15:46,280] Trial 1 finished with value: -0.435201 and parameters: {'max_depth': 5, 'min_child_weight': 15, 'subsample': 0.8795585311974417, 'colsample_bynode': 0.6410035105688879, 'learning_rate': 0.08148293210105287}. Best is trial 1 with value: -0.435201.\n"
     ]
    },
    {
     "name": "stderr",
     "output_type": "stream",
     "text": [
      "[I 2025-05-15 18:15:46,427] Trial 2 finished with value: -0.019167 and parameters: {'max_depth': 3, 'min_child_weight': 243, 'subsample': 0.8491983767203796, 'colsample_bynode': 0.29110519961044856, 'learning_rate': 0.003095566460242371}. Best is trial 1 with value: -0.435201.\n"
     ]
    },
    {
     "name": "stderr",
     "output_type": "stream",
     "text": [
      "[I 2025-05-15 18:15:46,569] Trial 3 finished with value: -0.019167 and parameters: {'max_depth': 6, 'min_child_weight': 77, 'subsample': 0.5722807884690141, 'colsample_bynode': 0.48875051677790415, 'learning_rate': 0.006109683510122491}. Best is trial 1 with value: -0.435201.\n"
     ]
    },
    {
     "name": "stderr",
     "output_type": "stream",
     "text": [
      "[I 2025-05-15 18:15:46,704] Trial 4 finished with value: -0.019167 and parameters: {'max_depth': 14, 'min_child_weight': 35, 'subsample': 0.3629301836816964, 'colsample_bynode': 0.4297256589643226, 'learning_rate': 0.01701841881702917}. Best is trial 1 with value: -0.435201.\n"
     ]
    },
    {
     "name": "stderr",
     "output_type": "stream",
     "text": [
      "[I 2025-05-15 18:15:46,840] Trial 5 finished with value: -0.019167 and parameters: {'max_depth': 17, 'min_child_weight': 50, 'subsample': 0.5628109945722505, 'colsample_bynode': 0.6331731119758383, 'learning_rate': 0.0013346527038305934}. Best is trial 1 with value: -0.435201.\n"
     ]
    },
    {
     "name": "stderr",
     "output_type": "stream",
     "text": [
      "[I 2025-05-15 18:15:46,990] Trial 6 finished with value: -0.019167 and parameters: {'max_depth': 13, 'min_child_weight': 43, 'subsample': 0.1585464336867516, 'colsample_bynode': 0.9539969835279999, 'learning_rate': 0.4038423798071558}. Best is trial 1 with value: -0.435201.\n"
     ]
    },
    {
     "name": "stderr",
     "output_type": "stream",
     "text": [
      "[I 2025-05-15 18:15:47,139] Trial 7 finished with value: -0.019167 and parameters: {'max_depth': 17, 'min_child_weight': 77, 'subsample': 0.1879049026057455, 'colsample_bynode': 0.7158097238609412, 'learning_rate': 0.015415527060141935}. Best is trial 1 with value: -0.435201.\n"
     ]
    },
    {
     "name": "stderr",
     "output_type": "stream",
     "text": [
      "[I 2025-05-15 18:15:47,279] Trial 8 finished with value: -0.019167 and parameters: {'max_depth': 5, 'min_child_weight': 124, 'subsample': 0.13094966900369656, 'colsample_bynode': 0.9183883618709039, 'learning_rate': 0.004993895014755658}. Best is trial 1 with value: -0.435201.\n"
     ]
    },
    {
     "name": "stderr",
     "output_type": "stream",
     "text": [
      "[I 2025-05-15 18:15:47,412] Trial 9 finished with value: -0.019167 and parameters: {'max_depth': 14, 'min_child_weight': 78, 'subsample': 0.5680612190600297, 'colsample_bynode': 0.5920392514089517, 'learning_rate': 0.0031543990308330965}. Best is trial 1 with value: -0.435201.\n"
     ]
    },
    {
     "name": "stderr",
     "output_type": "stream",
     "text": [
      "[I 2025-05-15 18:15:47,920] Trial 10 finished with value: -0.562709 and parameters: {'max_depth': 9, 'min_child_weight': 2, 'subsample': 0.9725833997090791, 'colsample_bynode': 0.11616568805333755, 'learning_rate': 0.17780618353487967}. Best is trial 10 with value: -0.562709.\n"
     ]
    },
    {
     "name": "stderr",
     "output_type": "stream",
     "text": [
      "[I 2025-05-15 18:15:48,239] Trial 11 pruned. Trial was pruned at iteration 28.\n"
     ]
    },
    {
     "name": "stderr",
     "output_type": "stream",
     "text": [
      "[I 2025-05-15 18:15:48,582] Trial 12 pruned. Trial was pruned at iteration 28.\n"
     ]
    },
    {
     "name": "stderr",
     "output_type": "stream",
     "text": [
      "[I 2025-05-15 18:15:48,733] Trial 13 finished with value: -0.019167 and parameters: {'max_depth': 6, 'min_child_weight': 173, 'subsample': 0.790863397930712, 'colsample_bynode': 0.8100137258468498, 'learning_rate': 0.09009490635410385}. Best is trial 10 with value: -0.562709.\n"
     ]
    },
    {
     "name": "stderr",
     "output_type": "stream",
     "text": [
      "[I 2025-05-15 18:15:48,882] Trial 14 finished with value: -0.019167 and parameters: {'max_depth': 11, 'min_child_weight': 132, 'subsample': 0.8756857866758896, 'colsample_bynode': 0.37234427067556525, 'learning_rate': 0.33580116263734355}. Best is trial 10 with value: -0.562709.\n"
     ]
    },
    {
     "name": "stderr",
     "output_type": "stream",
     "text": [
      "[I 2025-05-15 18:15:49,312] Trial 15 pruned. Trial was pruned at iteration 28.\n"
     ]
    },
    {
     "name": "stderr",
     "output_type": "stream",
     "text": [
      "[I 2025-05-15 18:15:49,472] Trial 16 finished with value: -0.019167 and parameters: {'max_depth': 3, 'min_child_weight': 117, 'subsample': 0.6850154210962394, 'colsample_bynode': 0.7696944218640787, 'learning_rate': 0.18961687234093502}. Best is trial 10 with value: -0.562709.\n"
     ]
    },
    {
     "name": "stderr",
     "output_type": "stream",
     "text": [
      "[I 2025-05-15 18:15:49,629] Trial 17 finished with value: -0.019167 and parameters: {'max_depth': 7, 'min_child_weight': 183, 'subsample': 0.42926887230238714, 'colsample_bynode': 0.515903282561015, 'learning_rate': 0.03429743867756372}. Best is trial 10 with value: -0.562709.\n"
     ]
    },
    {
     "name": "stderr",
     "output_type": "stream",
     "text": [
      "[I 2025-05-15 18:15:49,786] Trial 18 pruned. Trial was pruned at iteration 21.\n"
     ]
    },
    {
     "name": "stderr",
     "output_type": "stream",
     "text": [
      "[I 2025-05-15 18:15:49,929] Trial 19 finished with value: -0.019167 and parameters: {'max_depth': 4, 'min_child_weight': 96, 'subsample': 0.6937203157540224, 'colsample_bynode': 0.10989027031939402, 'learning_rate': 0.0506827706601686}. Best is trial 10 with value: -0.562709.\n"
     ]
    },
    {
     "name": "stderr",
     "output_type": "stream",
     "text": [
      "[I 2025-05-15 18:15:50,116] Trial 20 pruned. Trial was pruned at iteration 21.\n"
     ]
    },
    {
     "name": "stderr",
     "output_type": "stream",
     "text": [
      "[I 2025-05-15 18:15:50,279] Trial 21 finished with value: -0.019167 and parameters: {'max_depth': 8, 'min_child_weight': 235, 'subsample': 0.819134819511958, 'colsample_bynode': 0.6663957994268338, 'learning_rate': 0.059063256824729765}. Best is trial 10 with value: -0.562709.\n"
     ]
    },
    {
     "name": "stderr",
     "output_type": "stream",
     "text": [
      "[I 2025-05-15 18:15:50,438] Trial 22 finished with value: -0.019167 and parameters: {'max_depth': 11, 'min_child_weight': 210, 'subsample': 0.7489320631856256, 'colsample_bynode': 0.5421132319615449, 'learning_rate': 0.0010969885143711678}. Best is trial 10 with value: -0.562709.\n"
     ]
    },
    {
     "name": "stderr",
     "output_type": "stream",
     "text": [
      "[I 2025-05-15 18:15:50,596] Trial 23 finished with value: -0.019167 and parameters: {'max_depth': 9, 'min_child_weight': 155, 'subsample': 0.9080768114991447, 'colsample_bynode': 0.7216553162496422, 'learning_rate': 0.009396099717389856}. Best is trial 10 with value: -0.562709.\n"
     ]
    },
    {
     "name": "stderr",
     "output_type": "stream",
     "text": [
      "[I 2025-05-15 18:15:50,749] Trial 24 finished with value: -0.019167 and parameters: {'max_depth': 5, 'min_child_weight': 208, 'subsample': 0.7569125565135284, 'colsample_bynode': 0.4246112773050008, 'learning_rate': 0.030617548856419777}. Best is trial 10 with value: -0.562709.\n"
     ]
    },
    {
     "name": "stderr",
     "output_type": "stream",
     "text": [
      "[I 2025-05-15 18:15:50,899] Trial 25 finished with value: -0.153245 and parameters: {'max_depth': 10, 'min_child_weight': 62, 'subsample': 0.9133372840349652, 'colsample_bynode': 0.6202006285495548, 'learning_rate': 0.29347010236640836}. Best is trial 10 with value: -0.562709.\n"
     ]
    },
    {
     "name": "stderr",
     "output_type": "stream",
     "text": [
      "[I 2025-05-15 18:15:51,047] Trial 26 pruned. Trial was pruned at iteration 21.\n"
     ]
    },
    {
     "name": "stderr",
     "output_type": "stream",
     "text": [
      "[I 2025-05-15 18:15:51,233] Trial 27 pruned. Trial was pruned at iteration 21.\n"
     ]
    },
    {
     "name": "stderr",
     "output_type": "stream",
     "text": [
      "[I 2025-05-15 18:15:51,385] Trial 28 pruned. Trial was pruned at iteration 21.\n"
     ]
    },
    {
     "name": "stderr",
     "output_type": "stream",
     "text": [
      "[I 2025-05-15 18:15:51,545] Trial 29 finished with value: -0.019167 and parameters: {'max_depth': 16, 'min_child_weight': 57, 'subsample': 0.6498477988200816, 'colsample_bynode': 0.7180965005267325, 'learning_rate': 0.14874675508762747}. Best is trial 10 with value: -0.562709.\n"
     ]
    },
    {
     "name": "stderr",
     "output_type": "stream",
     "text": [
      "[I 2025-05-15 18:15:51,707] Trial 30 finished with value: -0.019167 and parameters: {'max_depth': 7, 'min_child_weight': 103, 'subsample': 0.8472371999602837, 'colsample_bynode': 0.6391533632204868, 'learning_rate': 0.27484602876738223}. Best is trial 10 with value: -0.562709.\n"
     ]
    },
    {
     "name": "stderr",
     "output_type": "stream",
     "text": [
      "[I 2025-05-15 18:15:51,872] Trial 31 finished with value: -0.019167 and parameters: {'max_depth': 10, 'min_child_weight': 241, 'subsample': 0.8370976109167042, 'colsample_bynode': 0.7959687797162784, 'learning_rate': 0.06570954972869057}. Best is trial 10 with value: -0.562709.\n"
     ]
    },
    {
     "name": "stderr",
     "output_type": "stream",
     "text": [
      "[I 2025-05-15 18:15:52,031] Trial 32 finished with value: -0.019167 and parameters: {'max_depth': 13, 'min_child_weight': 148, 'subsample': 0.7798237268699246, 'colsample_bynode': 0.5960663407589799, 'learning_rate': 0.008713612080024363}. Best is trial 10 with value: -0.562709.\n"
     ]
    },
    {
     "name": "stderr",
     "output_type": "stream",
     "text": [
      "[I 2025-05-15 18:15:52,227] Trial 33 pruned. Trial was pruned at iteration 21.\n"
     ]
    },
    {
     "name": "stderr",
     "output_type": "stream",
     "text": [
      "[I 2025-05-15 18:15:52,403] Trial 34 finished with value: -0.153245 and parameters: {'max_depth': 8, 'min_child_weight': 63, 'subsample': 0.9417872945593218, 'colsample_bynode': 0.5109468139445071, 'learning_rate': 0.022223443343363427}. Best is trial 10 with value: -0.562709.\n"
     ]
    },
    {
     "name": "stderr",
     "output_type": "stream",
     "text": [
      "[I 2025-05-15 18:15:52,583] Trial 35 finished with value: -0.153245 and parameters: {'max_depth': 6, 'min_child_weight': 67, 'subsample': 0.9500661381661449, 'colsample_bynode': 0.25072413858209075, 'learning_rate': 0.020100261632100224}. Best is trial 10 with value: -0.562709.\n"
     ]
    },
    {
     "name": "stderr",
     "output_type": "stream",
     "text": [
      "[I 2025-05-15 18:15:52,762] Trial 36 finished with value: -0.019167 and parameters: {'max_depth': 10, 'min_child_weight': 97, 'subsample': 0.2547641867017203, 'colsample_bynode': 0.48430543346464466, 'learning_rate': 0.011524804361732173}. Best is trial 10 with value: -0.562709.\n"
     ]
    },
    {
     "name": "stderr",
     "output_type": "stream",
     "text": [
      "[I 2025-05-15 18:15:52,940] Trial 37 finished with value: -0.153245 and parameters: {'max_depth': 8, 'min_child_weight': 41, 'subsample': 0.8743965514726757, 'colsample_bynode': 0.3434381491520978, 'learning_rate': 0.026751537375625703}. Best is trial 10 with value: -0.562709.\n"
     ]
    },
    {
     "name": "stderr",
     "output_type": "stream",
     "text": [
      "[I 2025-05-15 18:15:53,112] Trial 38 finished with value: -0.019167 and parameters: {'max_depth': 3, 'min_child_weight': 81, 'subsample': 0.6208245469001937, 'colsample_bynode': 0.859640954352695, 'learning_rate': 0.04632214427809711}. Best is trial 10 with value: -0.562709.\n"
     ]
    },
    {
     "name": "stderr",
     "output_type": "stream",
     "text": [
      "[I 2025-05-15 18:15:53,299] Trial 39 pruned. Trial was pruned at iteration 21.\n"
     ]
    },
    {
     "name": "stderr",
     "output_type": "stream",
     "text": [
      "[I 2025-05-15 18:15:53,456] Trial 40 finished with value: -0.153245 and parameters: {'max_depth': 4, 'min_child_weight': 50, 'subsample': 0.9691743885235437, 'colsample_bynode': 0.42311480402099033, 'learning_rate': 0.07260288829575019}. Best is trial 10 with value: -0.562709.\n"
     ]
    },
    {
     "name": "stderr",
     "output_type": "stream",
     "text": [
      "[I 2025-05-15 18:15:53,613] Trial 41 pruned. Trial was pruned at iteration 21.\n"
     ]
    },
    {
     "name": "stderr",
     "output_type": "stream",
     "text": [
      "[I 2025-05-15 18:15:53,775] Trial 42 pruned. Trial was pruned at iteration 21.\n"
     ]
    },
    {
     "name": "stderr",
     "output_type": "stream",
     "text": [
      "[I 2025-05-15 18:15:53,933] Trial 43 finished with value: -0.019167 and parameters: {'max_depth': 6, 'min_child_weight': 90, 'subsample': 0.9939481827490337, 'colsample_bynode': 0.21670581822118465, 'learning_rate': 0.0071001303372982}. Best is trial 10 with value: -0.562709.\n"
     ]
    },
    {
     "name": "stderr",
     "output_type": "stream",
     "text": [
      "[I 2025-05-15 18:15:54,092] Trial 44 finished with value: -0.019167 and parameters: {'max_depth': 9, 'min_child_weight': 65, 'subsample': 0.8024600356483922, 'colsample_bynode': 0.2758001566849375, 'learning_rate': 0.01798024274012293}. Best is trial 10 with value: -0.562709.\n"
     ]
    },
    {
     "name": "stderr",
     "output_type": "stream",
     "text": [
      "[I 2025-05-15 18:15:54,292] Trial 45 pruned. Trial was pruned at iteration 21.\n"
     ]
    },
    {
     "name": "stderr",
     "output_type": "stream",
     "text": [
      "[I 2025-05-15 18:15:54,446] Trial 46 finished with value: -0.153245 and parameters: {'max_depth': 5, 'min_child_weight': 46, 'subsample': 0.9438706309598568, 'colsample_bynode': 0.1564006748933702, 'learning_rate': 0.02250943466701991}. Best is trial 10 with value: -0.562709.\n"
     ]
    },
    {
     "name": "stderr",
     "output_type": "stream",
     "text": [
      "[I 2025-05-15 18:15:54,599] Trial 47 finished with value: -0.019167 and parameters: {'max_depth': 8, 'min_child_weight': 74, 'subsample': 0.7307768670639576, 'colsample_bynode': 0.625338558887017, 'learning_rate': 0.13884240631409508}. Best is trial 10 with value: -0.562709.\n"
     ]
    },
    {
     "name": "stderr",
     "output_type": "stream",
     "text": [
      "[I 2025-05-15 18:15:54,763] Trial 48 finished with value: -0.019167 and parameters: {'max_depth': 6, 'min_child_weight': 107, 'subsample': 0.8450163437175131, 'colsample_bynode': 0.2972056245441669, 'learning_rate': 0.37294611872831823}. Best is trial 10 with value: -0.562709.\n"
     ]
    },
    {
     "name": "stderr",
     "output_type": "stream",
     "text": [
      "[I 2025-05-15 18:15:54,931] Trial 49 pruned. Trial was pruned at iteration 21.\n"
     ]
    }
   ],
   "source": [
    "sampler = optuna.samplers.TPESampler(seed=42)\n",
    "study = optuna.create_study(direction='minimize', sampler=sampler)\n",
    "study.optimize(objective, n_trials=N_TRIALS, gc_after_trial=True)"
   ]
  },
  {
   "cell_type": "code",
   "execution_count": 20,
   "id": "8b149e73",
   "metadata": {
    "execution": {
     "iopub.execute_input": "2025-05-15T16:15:55.058218Z",
     "iopub.status.busy": "2025-05-15T16:15:55.057932Z",
     "iopub.status.idle": "2025-05-15T16:15:55.105199Z",
     "shell.execute_reply": "2025-05-15T16:15:55.104813Z"
    },
    "papermill": {
     "duration": 0.057671,
     "end_time": "2025-05-15T16:15:55.106187",
     "exception": false,
     "start_time": "2025-05-15T16:15:55.048516",
     "status": "completed"
    },
    "tags": []
   },
   "outputs": [
    {
     "data": {
      "text/plain": [
       "['/scratch_isilon/groups/singlecell/shared/projects/Inflammation-PBMCs-Atlas/03_downstream_analysis/08_gene_importance/xgboost_external_validation/xgboost_TopN_genes/results_20/study/Plasma_15_0_xgboost.pkl']"
      ]
     },
     "execution_count": 20,
     "metadata": {},
     "output_type": "execute_result"
    }
   ],
   "source": [
    "out_dir = here(f'03_downstream_analysis/08_gene_importance/xgboost_external_validation/xgboost_TopN_genes/results_{N_GENES}/study')\n",
    "\n",
    "if not os.path.exists(out_dir):\n",
    "    os.makedirs(out_dir)\n",
    "    \n",
    "joblib.dump(study,os.path.join(out_dir, f'{CELL_TYPE}_{SEED}_{TEST_SPLIT_IDX}_xgboost.pkl'))"
   ]
  },
  {
   "cell_type": "code",
   "execution_count": 21,
   "id": "66c1e979",
   "metadata": {
    "execution": {
     "iopub.execute_input": "2025-05-15T16:15:55.123715Z",
     "iopub.status.busy": "2025-05-15T16:15:55.123469Z",
     "iopub.status.idle": "2025-05-15T16:15:55.566331Z",
     "shell.execute_reply": "2025-05-15T16:15:55.565939Z"
    },
    "papermill": {
     "duration": 0.45257,
     "end_time": "2025-05-15T16:15:55.567350",
     "exception": false,
     "start_time": "2025-05-15T16:15:55.114780",
     "status": "completed"
    },
    "tags": []
   },
   "outputs": [
    {
     "data": {
      "text/html": [
       "<style>#sk-container-id-1 {\n",
       "  /* Definition of color scheme common for light and dark mode */\n",
       "  --sklearn-color-text: black;\n",
       "  --sklearn-color-line: gray;\n",
       "  /* Definition of color scheme for unfitted estimators */\n",
       "  --sklearn-color-unfitted-level-0: #fff5e6;\n",
       "  --sklearn-color-unfitted-level-1: #f6e4d2;\n",
       "  --sklearn-color-unfitted-level-2: #ffe0b3;\n",
       "  --sklearn-color-unfitted-level-3: chocolate;\n",
       "  /* Definition of color scheme for fitted estimators */\n",
       "  --sklearn-color-fitted-level-0: #f0f8ff;\n",
       "  --sklearn-color-fitted-level-1: #d4ebff;\n",
       "  --sklearn-color-fitted-level-2: #b3dbfd;\n",
       "  --sklearn-color-fitted-level-3: cornflowerblue;\n",
       "\n",
       "  /* Specific color for light theme */\n",
       "  --sklearn-color-text-on-default-background: var(--sg-text-color, var(--theme-code-foreground, var(--jp-content-font-color1, black)));\n",
       "  --sklearn-color-background: var(--sg-background-color, var(--theme-background, var(--jp-layout-color0, white)));\n",
       "  --sklearn-color-border-box: var(--sg-text-color, var(--theme-code-foreground, var(--jp-content-font-color1, black)));\n",
       "  --sklearn-color-icon: #696969;\n",
       "\n",
       "  @media (prefers-color-scheme: dark) {\n",
       "    /* Redefinition of color scheme for dark theme */\n",
       "    --sklearn-color-text-on-default-background: var(--sg-text-color, var(--theme-code-foreground, var(--jp-content-font-color1, white)));\n",
       "    --sklearn-color-background: var(--sg-background-color, var(--theme-background, var(--jp-layout-color0, #111)));\n",
       "    --sklearn-color-border-box: var(--sg-text-color, var(--theme-code-foreground, var(--jp-content-font-color1, white)));\n",
       "    --sklearn-color-icon: #878787;\n",
       "  }\n",
       "}\n",
       "\n",
       "#sk-container-id-1 {\n",
       "  color: var(--sklearn-color-text);\n",
       "}\n",
       "\n",
       "#sk-container-id-1 pre {\n",
       "  padding: 0;\n",
       "}\n",
       "\n",
       "#sk-container-id-1 input.sk-hidden--visually {\n",
       "  border: 0;\n",
       "  clip: rect(1px 1px 1px 1px);\n",
       "  clip: rect(1px, 1px, 1px, 1px);\n",
       "  height: 1px;\n",
       "  margin: -1px;\n",
       "  overflow: hidden;\n",
       "  padding: 0;\n",
       "  position: absolute;\n",
       "  width: 1px;\n",
       "}\n",
       "\n",
       "#sk-container-id-1 div.sk-dashed-wrapped {\n",
       "  border: 1px dashed var(--sklearn-color-line);\n",
       "  margin: 0 0.4em 0.5em 0.4em;\n",
       "  box-sizing: border-box;\n",
       "  padding-bottom: 0.4em;\n",
       "  background-color: var(--sklearn-color-background);\n",
       "}\n",
       "\n",
       "#sk-container-id-1 div.sk-container {\n",
       "  /* jupyter's `normalize.less` sets `[hidden] { display: none; }`\n",
       "     but bootstrap.min.css set `[hidden] { display: none !important; }`\n",
       "     so we also need the `!important` here to be able to override the\n",
       "     default hidden behavior on the sphinx rendered scikit-learn.org.\n",
       "     See: https://github.com/scikit-learn/scikit-learn/issues/21755 */\n",
       "  display: inline-block !important;\n",
       "  position: relative;\n",
       "}\n",
       "\n",
       "#sk-container-id-1 div.sk-text-repr-fallback {\n",
       "  display: none;\n",
       "}\n",
       "\n",
       "div.sk-parallel-item,\n",
       "div.sk-serial,\n",
       "div.sk-item {\n",
       "  /* draw centered vertical line to link estimators */\n",
       "  background-image: linear-gradient(var(--sklearn-color-text-on-default-background), var(--sklearn-color-text-on-default-background));\n",
       "  background-size: 2px 100%;\n",
       "  background-repeat: no-repeat;\n",
       "  background-position: center center;\n",
       "}\n",
       "\n",
       "/* Parallel-specific style estimator block */\n",
       "\n",
       "#sk-container-id-1 div.sk-parallel-item::after {\n",
       "  content: \"\";\n",
       "  width: 100%;\n",
       "  border-bottom: 2px solid var(--sklearn-color-text-on-default-background);\n",
       "  flex-grow: 1;\n",
       "}\n",
       "\n",
       "#sk-container-id-1 div.sk-parallel {\n",
       "  display: flex;\n",
       "  align-items: stretch;\n",
       "  justify-content: center;\n",
       "  background-color: var(--sklearn-color-background);\n",
       "  position: relative;\n",
       "}\n",
       "\n",
       "#sk-container-id-1 div.sk-parallel-item {\n",
       "  display: flex;\n",
       "  flex-direction: column;\n",
       "}\n",
       "\n",
       "#sk-container-id-1 div.sk-parallel-item:first-child::after {\n",
       "  align-self: flex-end;\n",
       "  width: 50%;\n",
       "}\n",
       "\n",
       "#sk-container-id-1 div.sk-parallel-item:last-child::after {\n",
       "  align-self: flex-start;\n",
       "  width: 50%;\n",
       "}\n",
       "\n",
       "#sk-container-id-1 div.sk-parallel-item:only-child::after {\n",
       "  width: 0;\n",
       "}\n",
       "\n",
       "/* Serial-specific style estimator block */\n",
       "\n",
       "#sk-container-id-1 div.sk-serial {\n",
       "  display: flex;\n",
       "  flex-direction: column;\n",
       "  align-items: center;\n",
       "  background-color: var(--sklearn-color-background);\n",
       "  padding-right: 1em;\n",
       "  padding-left: 1em;\n",
       "}\n",
       "\n",
       "\n",
       "/* Toggleable style: style used for estimator/Pipeline/ColumnTransformer box that is\n",
       "clickable and can be expanded/collapsed.\n",
       "- Pipeline and ColumnTransformer use this feature and define the default style\n",
       "- Estimators will overwrite some part of the style using the `sk-estimator` class\n",
       "*/\n",
       "\n",
       "/* Pipeline and ColumnTransformer style (default) */\n",
       "\n",
       "#sk-container-id-1 div.sk-toggleable {\n",
       "  /* Default theme specific background. It is overwritten whether we have a\n",
       "  specific estimator or a Pipeline/ColumnTransformer */\n",
       "  background-color: var(--sklearn-color-background);\n",
       "}\n",
       "\n",
       "/* Toggleable label */\n",
       "#sk-container-id-1 label.sk-toggleable__label {\n",
       "  cursor: pointer;\n",
       "  display: block;\n",
       "  width: 100%;\n",
       "  margin-bottom: 0;\n",
       "  padding: 0.5em;\n",
       "  box-sizing: border-box;\n",
       "  text-align: center;\n",
       "}\n",
       "\n",
       "#sk-container-id-1 label.sk-toggleable__label-arrow:before {\n",
       "  /* Arrow on the left of the label */\n",
       "  content: \"▸\";\n",
       "  float: left;\n",
       "  margin-right: 0.25em;\n",
       "  color: var(--sklearn-color-icon);\n",
       "}\n",
       "\n",
       "#sk-container-id-1 label.sk-toggleable__label-arrow:hover:before {\n",
       "  color: var(--sklearn-color-text);\n",
       "}\n",
       "\n",
       "/* Toggleable content - dropdown */\n",
       "\n",
       "#sk-container-id-1 div.sk-toggleable__content {\n",
       "  max-height: 0;\n",
       "  max-width: 0;\n",
       "  overflow: hidden;\n",
       "  text-align: left;\n",
       "  /* unfitted */\n",
       "  background-color: var(--sklearn-color-unfitted-level-0);\n",
       "}\n",
       "\n",
       "#sk-container-id-1 div.sk-toggleable__content.fitted {\n",
       "  /* fitted */\n",
       "  background-color: var(--sklearn-color-fitted-level-0);\n",
       "}\n",
       "\n",
       "#sk-container-id-1 div.sk-toggleable__content pre {\n",
       "  margin: 0.2em;\n",
       "  border-radius: 0.25em;\n",
       "  color: var(--sklearn-color-text);\n",
       "  /* unfitted */\n",
       "  background-color: var(--sklearn-color-unfitted-level-0);\n",
       "}\n",
       "\n",
       "#sk-container-id-1 div.sk-toggleable__content.fitted pre {\n",
       "  /* unfitted */\n",
       "  background-color: var(--sklearn-color-fitted-level-0);\n",
       "}\n",
       "\n",
       "#sk-container-id-1 input.sk-toggleable__control:checked~div.sk-toggleable__content {\n",
       "  /* Expand drop-down */\n",
       "  max-height: 200px;\n",
       "  max-width: 100%;\n",
       "  overflow: auto;\n",
       "}\n",
       "\n",
       "#sk-container-id-1 input.sk-toggleable__control:checked~label.sk-toggleable__label-arrow:before {\n",
       "  content: \"▾\";\n",
       "}\n",
       "\n",
       "/* Pipeline/ColumnTransformer-specific style */\n",
       "\n",
       "#sk-container-id-1 div.sk-label input.sk-toggleable__control:checked~label.sk-toggleable__label {\n",
       "  color: var(--sklearn-color-text);\n",
       "  background-color: var(--sklearn-color-unfitted-level-2);\n",
       "}\n",
       "\n",
       "#sk-container-id-1 div.sk-label.fitted input.sk-toggleable__control:checked~label.sk-toggleable__label {\n",
       "  background-color: var(--sklearn-color-fitted-level-2);\n",
       "}\n",
       "\n",
       "/* Estimator-specific style */\n",
       "\n",
       "/* Colorize estimator box */\n",
       "#sk-container-id-1 div.sk-estimator input.sk-toggleable__control:checked~label.sk-toggleable__label {\n",
       "  /* unfitted */\n",
       "  background-color: var(--sklearn-color-unfitted-level-2);\n",
       "}\n",
       "\n",
       "#sk-container-id-1 div.sk-estimator.fitted input.sk-toggleable__control:checked~label.sk-toggleable__label {\n",
       "  /* fitted */\n",
       "  background-color: var(--sklearn-color-fitted-level-2);\n",
       "}\n",
       "\n",
       "#sk-container-id-1 div.sk-label label.sk-toggleable__label,\n",
       "#sk-container-id-1 div.sk-label label {\n",
       "  /* The background is the default theme color */\n",
       "  color: var(--sklearn-color-text-on-default-background);\n",
       "}\n",
       "\n",
       "/* On hover, darken the color of the background */\n",
       "#sk-container-id-1 div.sk-label:hover label.sk-toggleable__label {\n",
       "  color: var(--sklearn-color-text);\n",
       "  background-color: var(--sklearn-color-unfitted-level-2);\n",
       "}\n",
       "\n",
       "/* Label box, darken color on hover, fitted */\n",
       "#sk-container-id-1 div.sk-label.fitted:hover label.sk-toggleable__label.fitted {\n",
       "  color: var(--sklearn-color-text);\n",
       "  background-color: var(--sklearn-color-fitted-level-2);\n",
       "}\n",
       "\n",
       "/* Estimator label */\n",
       "\n",
       "#sk-container-id-1 div.sk-label label {\n",
       "  font-family: monospace;\n",
       "  font-weight: bold;\n",
       "  display: inline-block;\n",
       "  line-height: 1.2em;\n",
       "}\n",
       "\n",
       "#sk-container-id-1 div.sk-label-container {\n",
       "  text-align: center;\n",
       "}\n",
       "\n",
       "/* Estimator-specific */\n",
       "#sk-container-id-1 div.sk-estimator {\n",
       "  font-family: monospace;\n",
       "  border: 1px dotted var(--sklearn-color-border-box);\n",
       "  border-radius: 0.25em;\n",
       "  box-sizing: border-box;\n",
       "  margin-bottom: 0.5em;\n",
       "  /* unfitted */\n",
       "  background-color: var(--sklearn-color-unfitted-level-0);\n",
       "}\n",
       "\n",
       "#sk-container-id-1 div.sk-estimator.fitted {\n",
       "  /* fitted */\n",
       "  background-color: var(--sklearn-color-fitted-level-0);\n",
       "}\n",
       "\n",
       "/* on hover */\n",
       "#sk-container-id-1 div.sk-estimator:hover {\n",
       "  /* unfitted */\n",
       "  background-color: var(--sklearn-color-unfitted-level-2);\n",
       "}\n",
       "\n",
       "#sk-container-id-1 div.sk-estimator.fitted:hover {\n",
       "  /* fitted */\n",
       "  background-color: var(--sklearn-color-fitted-level-2);\n",
       "}\n",
       "\n",
       "/* Specification for estimator info (e.g. \"i\" and \"?\") */\n",
       "\n",
       "/* Common style for \"i\" and \"?\" */\n",
       "\n",
       ".sk-estimator-doc-link,\n",
       "a:link.sk-estimator-doc-link,\n",
       "a:visited.sk-estimator-doc-link {\n",
       "  float: right;\n",
       "  font-size: smaller;\n",
       "  line-height: 1em;\n",
       "  font-family: monospace;\n",
       "  background-color: var(--sklearn-color-background);\n",
       "  border-radius: 1em;\n",
       "  height: 1em;\n",
       "  width: 1em;\n",
       "  text-decoration: none !important;\n",
       "  margin-left: 1ex;\n",
       "  /* unfitted */\n",
       "  border: var(--sklearn-color-unfitted-level-1) 1pt solid;\n",
       "  color: var(--sklearn-color-unfitted-level-1);\n",
       "}\n",
       "\n",
       ".sk-estimator-doc-link.fitted,\n",
       "a:link.sk-estimator-doc-link.fitted,\n",
       "a:visited.sk-estimator-doc-link.fitted {\n",
       "  /* fitted */\n",
       "  border: var(--sklearn-color-fitted-level-1) 1pt solid;\n",
       "  color: var(--sklearn-color-fitted-level-1);\n",
       "}\n",
       "\n",
       "/* On hover */\n",
       "div.sk-estimator:hover .sk-estimator-doc-link:hover,\n",
       ".sk-estimator-doc-link:hover,\n",
       "div.sk-label-container:hover .sk-estimator-doc-link:hover,\n",
       ".sk-estimator-doc-link:hover {\n",
       "  /* unfitted */\n",
       "  background-color: var(--sklearn-color-unfitted-level-3);\n",
       "  color: var(--sklearn-color-background);\n",
       "  text-decoration: none;\n",
       "}\n",
       "\n",
       "div.sk-estimator.fitted:hover .sk-estimator-doc-link.fitted:hover,\n",
       ".sk-estimator-doc-link.fitted:hover,\n",
       "div.sk-label-container:hover .sk-estimator-doc-link.fitted:hover,\n",
       ".sk-estimator-doc-link.fitted:hover {\n",
       "  /* fitted */\n",
       "  background-color: var(--sklearn-color-fitted-level-3);\n",
       "  color: var(--sklearn-color-background);\n",
       "  text-decoration: none;\n",
       "}\n",
       "\n",
       "/* Span, style for the box shown on hovering the info icon */\n",
       ".sk-estimator-doc-link span {\n",
       "  display: none;\n",
       "  z-index: 9999;\n",
       "  position: relative;\n",
       "  font-weight: normal;\n",
       "  right: .2ex;\n",
       "  padding: .5ex;\n",
       "  margin: .5ex;\n",
       "  width: min-content;\n",
       "  min-width: 20ex;\n",
       "  max-width: 50ex;\n",
       "  color: var(--sklearn-color-text);\n",
       "  box-shadow: 2pt 2pt 4pt #999;\n",
       "  /* unfitted */\n",
       "  background: var(--sklearn-color-unfitted-level-0);\n",
       "  border: .5pt solid var(--sklearn-color-unfitted-level-3);\n",
       "}\n",
       "\n",
       ".sk-estimator-doc-link.fitted span {\n",
       "  /* fitted */\n",
       "  background: var(--sklearn-color-fitted-level-0);\n",
       "  border: var(--sklearn-color-fitted-level-3);\n",
       "}\n",
       "\n",
       ".sk-estimator-doc-link:hover span {\n",
       "  display: block;\n",
       "}\n",
       "\n",
       "/* \"?\"-specific style due to the `<a>` HTML tag */\n",
       "\n",
       "#sk-container-id-1 a.estimator_doc_link {\n",
       "  float: right;\n",
       "  font-size: 1rem;\n",
       "  line-height: 1em;\n",
       "  font-family: monospace;\n",
       "  background-color: var(--sklearn-color-background);\n",
       "  border-radius: 1rem;\n",
       "  height: 1rem;\n",
       "  width: 1rem;\n",
       "  text-decoration: none;\n",
       "  /* unfitted */\n",
       "  color: var(--sklearn-color-unfitted-level-1);\n",
       "  border: var(--sklearn-color-unfitted-level-1) 1pt solid;\n",
       "}\n",
       "\n",
       "#sk-container-id-1 a.estimator_doc_link.fitted {\n",
       "  /* fitted */\n",
       "  border: var(--sklearn-color-fitted-level-1) 1pt solid;\n",
       "  color: var(--sklearn-color-fitted-level-1);\n",
       "}\n",
       "\n",
       "/* On hover */\n",
       "#sk-container-id-1 a.estimator_doc_link:hover {\n",
       "  /* unfitted */\n",
       "  background-color: var(--sklearn-color-unfitted-level-3);\n",
       "  color: var(--sklearn-color-background);\n",
       "  text-decoration: none;\n",
       "}\n",
       "\n",
       "#sk-container-id-1 a.estimator_doc_link.fitted:hover {\n",
       "  /* fitted */\n",
       "  background-color: var(--sklearn-color-fitted-level-3);\n",
       "}\n",
       "</style><div id=\"sk-container-id-1\" class=\"sk-top-container\"><div class=\"sk-text-repr-fallback\"><pre>XGBClassifier(base_score=None, booster=None, callbacks=None,\n",
       "              colsample_bylevel=None, colsample_bynode=0.11616568805333755,\n",
       "              colsample_bytree=None, device=None, early_stopping_rounds=None,\n",
       "              enable_categorical=False,\n",
       "              eval_metric=&lt;function custom_f1_score at 0x7f8db742b920&gt;,\n",
       "              feature_types=None, gamma=None, grow_policy=None,\n",
       "              importance_type=None, interaction_constraints=None,\n",
       "              learning_rate=0.17780618353487967, max_bin=None,\n",
       "              max_cat_threshold=None, max_cat_to_onehot=None,\n",
       "              max_delta_step=None, max_depth=9, max_leaves=None,\n",
       "              min_child_weight=2, missing=nan, monotone_constraints=None,\n",
       "              multi_strategy=None, n_estimators=46, n_jobs=None,\n",
       "              num_parallel_tree=None, objective=&#x27;multi:softprob&#x27;, ...)</pre><b>In a Jupyter environment, please rerun this cell to show the HTML representation or trust the notebook. <br />On GitHub, the HTML representation is unable to render, please try loading this page with nbviewer.org.</b></div><div class=\"sk-container\" hidden><div class=\"sk-item\"><div class=\"sk-estimator fitted sk-toggleable\"><input class=\"sk-toggleable__control sk-hidden--visually\" id=\"sk-estimator-id-1\" type=\"checkbox\" checked><label for=\"sk-estimator-id-1\" class=\"sk-toggleable__label fitted sk-toggleable__label-arrow fitted\">&nbsp;XGBClassifier<span class=\"sk-estimator-doc-link fitted\">i<span>Fitted</span></span></label><div class=\"sk-toggleable__content fitted\"><pre>XGBClassifier(base_score=None, booster=None, callbacks=None,\n",
       "              colsample_bylevel=None, colsample_bynode=0.11616568805333755,\n",
       "              colsample_bytree=None, device=None, early_stopping_rounds=None,\n",
       "              enable_categorical=False,\n",
       "              eval_metric=&lt;function custom_f1_score at 0x7f8db742b920&gt;,\n",
       "              feature_types=None, gamma=None, grow_policy=None,\n",
       "              importance_type=None, interaction_constraints=None,\n",
       "              learning_rate=0.17780618353487967, max_bin=None,\n",
       "              max_cat_threshold=None, max_cat_to_onehot=None,\n",
       "              max_delta_step=None, max_depth=9, max_leaves=None,\n",
       "              min_child_weight=2, missing=nan, monotone_constraints=None,\n",
       "              multi_strategy=None, n_estimators=46, n_jobs=None,\n",
       "              num_parallel_tree=None, objective=&#x27;multi:softprob&#x27;, ...)</pre></div> </div></div></div></div>"
      ],
      "text/plain": [
       "XGBClassifier(base_score=None, booster=None, callbacks=None,\n",
       "              colsample_bylevel=None, colsample_bynode=0.11616568805333755,\n",
       "              colsample_bytree=None, device=None, early_stopping_rounds=None,\n",
       "              enable_categorical=False,\n",
       "              eval_metric=<function custom_f1_score at 0x7f8db742b920>,\n",
       "              feature_types=None, gamma=None, grow_policy=None,\n",
       "              importance_type=None, interaction_constraints=None,\n",
       "              learning_rate=0.17780618353487967, max_bin=None,\n",
       "              max_cat_threshold=None, max_cat_to_onehot=None,\n",
       "              max_delta_step=None, max_depth=9, max_leaves=None,\n",
       "              min_child_weight=2, missing=nan, monotone_constraints=None,\n",
       "              multi_strategy=None, n_estimators=46, n_jobs=None,\n",
       "              num_parallel_tree=None, objective='multi:softprob', ...)"
      ]
     },
     "execution_count": 21,
     "metadata": {},
     "output_type": "execute_result"
    }
   ],
   "source": [
    "n_estimators = int(study.best_trial.user_attrs['best_iteration']*1.2)\n",
    "xgb = xgboost.XGBClassifier(\n",
    "        eval_metric=eval_metric,\n",
    "        n_estimators=n_estimators,\n",
    "        **study.best_trial.params\n",
    "    )\n",
    "xgb.fit(\n",
    "    ssp.vstack((X_train, X_val)), \n",
    "    np.concatenate((y_train_enc, y_val_enc)),\n",
    "    verbose=1,\n",
    ")"
   ]
  },
  {
   "cell_type": "code",
   "execution_count": 22,
   "id": "6c46daba",
   "metadata": {
    "execution": {
     "iopub.execute_input": "2025-05-15T16:15:55.585669Z",
     "iopub.status.busy": "2025-05-15T16:15:55.585473Z",
     "iopub.status.idle": "2025-05-15T16:15:55.598984Z",
     "shell.execute_reply": "2025-05-15T16:15:55.598680Z"
    },
    "papermill": {
     "duration": 0.023692,
     "end_time": "2025-05-15T16:15:55.600010",
     "exception": false,
     "start_time": "2025-05-15T16:15:55.576318",
     "status": "completed"
    },
    "tags": []
   },
   "outputs": [
    {
     "data": {
      "text/plain": [
       "['/scratch_isilon/groups/singlecell/shared/projects/Inflammation-PBMCs-Atlas/03_downstream_analysis/08_gene_importance/xgboost_external_validation/xgboost_TopN_genes/results_20/best_model/Plasma_15_0_xgb.json']"
      ]
     },
     "execution_count": 22,
     "metadata": {},
     "output_type": "execute_result"
    }
   ],
   "source": [
    "out_dir = here(f'03_downstream_analysis/08_gene_importance/xgboost_external_validation/xgboost_TopN_genes/results_{N_GENES}/best_model')\n",
    "\n",
    "if not os.path.exists(out_dir):\n",
    "    os.makedirs(out_dir)\n",
    "    \n",
    "joblib.dump(xgb, os.path.join(out_dir, f'{CELL_TYPE}_{SEED}_{TEST_SPLIT_IDX}_xgb.json'))"
   ]
  },
  {
   "cell_type": "code",
   "execution_count": 23,
   "id": "331a545c",
   "metadata": {
    "execution": {
     "iopub.execute_input": "2025-05-15T16:15:55.630567Z",
     "iopub.status.busy": "2025-05-15T16:15:55.630294Z",
     "iopub.status.idle": "2025-05-15T16:15:55.641131Z",
     "shell.execute_reply": "2025-05-15T16:15:55.640761Z"
    },
    "papermill": {
     "duration": 0.033129,
     "end_time": "2025-05-15T16:15:55.642005",
     "exception": false,
     "start_time": "2025-05-15T16:15:55.608876",
     "status": "completed"
    },
    "tags": []
   },
   "outputs": [],
   "source": [
    "df_pred_test = pd.DataFrame(dict(\n",
    "    cell_id=train_adata.obs.iloc[test_idxs].index.values,\n",
    "    y_true=y_test, \n",
    "    y_true_code=y_test_enc, \n",
    "    y_pred=xgb.predict(X_test))).set_index('cell_id')"
   ]
  },
  {
   "cell_type": "code",
   "execution_count": 24,
   "id": "cd0a5dec",
   "metadata": {
    "execution": {
     "iopub.execute_input": "2025-05-15T16:15:55.660122Z",
     "iopub.status.busy": "2025-05-15T16:15:55.659893Z",
     "iopub.status.idle": "2025-05-15T16:15:55.672549Z",
     "shell.execute_reply": "2025-05-15T16:15:55.672156Z"
    },
    "papermill": {
     "duration": 0.023108,
     "end_time": "2025-05-15T16:15:55.673614",
     "exception": false,
     "start_time": "2025-05-15T16:15:55.650506",
     "status": "completed"
    },
    "tags": []
   },
   "outputs": [],
   "source": [
    "out_dir = here(f'03_downstream_analysis/08_gene_importance/xgboost_external_validation/xgboost_TopN_genes/results_{N_GENES}/predictions')\n",
    "\n",
    "if not os.path.exists(out_dir):\n",
    "    os.makedirs(out_dir)\n",
    "    \n",
    "df_pred_test.to_csv(os.path.join(out_dir, f'{CELL_TYPE}_{SEED}_{TEST_SPLIT_IDX}_pred_test.zip'))"
   ]
  },
  {
   "cell_type": "code",
   "execution_count": 25,
   "id": "941f1652",
   "metadata": {
    "execution": {
     "iopub.execute_input": "2025-05-15T16:15:55.692610Z",
     "iopub.status.busy": "2025-05-15T16:15:55.692275Z",
     "iopub.status.idle": "2025-05-15T16:15:55.702641Z",
     "shell.execute_reply": "2025-05-15T16:15:55.702281Z"
    },
    "papermill": {
     "duration": 0.02105,
     "end_time": "2025-05-15T16:15:55.703642",
     "exception": false,
     "start_time": "2025-05-15T16:15:55.682592",
     "status": "completed"
    },
    "tags": []
   },
   "outputs": [
    {
     "name": "stderr",
     "output_type": "stream",
     "text": [
      "/scratch_isilon/groups/singlecell/shared/conda_env/xgboost-cpu/lib/python3.12/site-packages/sklearn/metrics/_classification.py:2466: UserWarning: y_pred contains classes not in y_true\n",
      "  warnings.warn(\"y_pred contains classes not in y_true\")\n"
     ]
    }
   ],
   "source": [
    "metrics_dict = dict(\n",
    "    BAS=balanced_accuracy_score(y_true=df_pred_test.y_true_code, y_pred=df_pred_test.y_pred), WF1=f1_score(y_true=df_pred_test.y_true_code, y_pred=df_pred_test.y_pred,average='weighted'))"
   ]
  },
  {
   "cell_type": "code",
   "execution_count": 26,
   "id": "672fd450",
   "metadata": {
    "execution": {
     "iopub.execute_input": "2025-05-15T16:15:55.733340Z",
     "iopub.status.busy": "2025-05-15T16:15:55.733074Z",
     "iopub.status.idle": "2025-05-15T16:15:55.736183Z",
     "shell.execute_reply": "2025-05-15T16:15:55.735861Z"
    },
    "papermill": {
     "duration": 0.024053,
     "end_time": "2025-05-15T16:15:55.737000",
     "exception": false,
     "start_time": "2025-05-15T16:15:55.712947",
     "status": "completed"
    },
    "tags": []
   },
   "outputs": [
    {
     "data": {
      "text/plain": [
       "{'BAS': 0.7207825656486371, 'WF1': 0.6388989981573859}"
      ]
     },
     "execution_count": 26,
     "metadata": {},
     "output_type": "execute_result"
    }
   ],
   "source": [
    "metrics_dict"
   ]
  },
  {
   "cell_type": "code",
   "execution_count": 27,
   "id": "7f444e9f",
   "metadata": {
    "execution": {
     "iopub.execute_input": "2025-05-15T16:15:55.755043Z",
     "iopub.status.busy": "2025-05-15T16:15:55.754697Z",
     "iopub.status.idle": "2025-05-15T16:15:55.762707Z",
     "shell.execute_reply": "2025-05-15T16:15:55.762397Z"
    },
    "papermill": {
     "duration": 0.018286,
     "end_time": "2025-05-15T16:15:55.763637",
     "exception": false,
     "start_time": "2025-05-15T16:15:55.745351",
     "status": "completed"
    },
    "tags": []
   },
   "outputs": [
    {
     "data": {
      "text/html": [
       "<div>\n",
       "<style scoped>\n",
       "    .dataframe tbody tr th:only-of-type {\n",
       "        vertical-align: middle;\n",
       "    }\n",
       "\n",
       "    .dataframe tbody tr th {\n",
       "        vertical-align: top;\n",
       "    }\n",
       "\n",
       "    .dataframe thead th {\n",
       "        text-align: right;\n",
       "    }\n",
       "</style>\n",
       "<table border=\"1\" class=\"dataframe\">\n",
       "  <thead>\n",
       "    <tr style=\"text-align: right;\">\n",
       "      <th></th>\n",
       "      <th>BAS</th>\n",
       "      <th>WF1</th>\n",
       "      <th>split_idx</th>\n",
       "      <th>gene_set_seed</th>\n",
       "      <th>cell_type</th>\n",
       "    </tr>\n",
       "  </thead>\n",
       "  <tbody>\n",
       "    <tr>\n",
       "      <th>0</th>\n",
       "      <td>0.720783</td>\n",
       "      <td>0.638899</td>\n",
       "      <td>0</td>\n",
       "      <td>15</td>\n",
       "      <td>Plasma</td>\n",
       "    </tr>\n",
       "  </tbody>\n",
       "</table>\n",
       "</div>"
      ],
      "text/plain": [
       "        BAS       WF1  split_idx  gene_set_seed cell_type\n",
       "0  0.720783  0.638899          0             15    Plasma"
      ]
     },
     "execution_count": 27,
     "metadata": {},
     "output_type": "execute_result"
    }
   ],
   "source": [
    "metrics_df = pd.DataFrame.from_dict([metrics_dict]).assign(split_idx=TEST_SPLIT_IDX, gene_set_seed=SEED, cell_type=CELL_TYPE)\n",
    "metrics_df"
   ]
  },
  {
   "cell_type": "code",
   "execution_count": 28,
   "id": "1370ed1d",
   "metadata": {
    "execution": {
     "iopub.execute_input": "2025-05-15T16:15:55.781872Z",
     "iopub.status.busy": "2025-05-15T16:15:55.781647Z",
     "iopub.status.idle": "2025-05-15T16:15:55.789362Z",
     "shell.execute_reply": "2025-05-15T16:15:55.789029Z"
    },
    "papermill": {
     "duration": 0.017724,
     "end_time": "2025-05-15T16:15:55.790200",
     "exception": false,
     "start_time": "2025-05-15T16:15:55.772476",
     "status": "completed"
    },
    "tags": []
   },
   "outputs": [],
   "source": [
    "out_dir = here(f'03_downstream_analysis/08_gene_importance/xgboost_external_validation/xgboost_TopN_genes/results_{N_GENES}/metrics')\n",
    "\n",
    "if not os.path.exists(out_dir):\n",
    "    os.makedirs(out_dir)\n",
    "    \n",
    "metrics_df.to_csv(os.path.join(out_dir, f'{CELL_TYPE}_{SEED}_{TEST_SPLIT_IDX}_metrics.zip'))"
   ]
  }
 ],
 "metadata": {
  "kernelspec": {
   "display_name": "Python 3 (ipykernel)",
   "language": "python",
   "name": "python3"
  },
  "language_info": {
   "codemirror_mode": {
    "name": "ipython",
    "version": 3
   },
   "file_extension": ".py",
   "mimetype": "text/x-python",
   "name": "python",
   "nbconvert_exporter": "python",
   "pygments_lexer": "ipython3",
   "version": "3.12.5"
  },
  "papermill": {
   "default_parameters": {},
   "duration": 13.623834,
   "end_time": "2025-05-15T16:15:56.414818",
   "environment_variables": {},
   "exception": null,
   "input_path": "02_xgboost_fitting_external_20genes.ipynb",
   "output_path": "results_20/executed_notebooks/xgboost_fitting_external_CT_Plasma_GS_15_seed0.ipynb",
   "parameters": {
    "CELL_TYPE": "Plasma",
    "SEED": 15,
    "TEST_SPLIT_IDX": 0
   },
   "start_time": "2025-05-15T16:15:42.790984",
   "version": "2.6.0"
  }
 },
 "nbformat": 4,
 "nbformat_minor": 5
}