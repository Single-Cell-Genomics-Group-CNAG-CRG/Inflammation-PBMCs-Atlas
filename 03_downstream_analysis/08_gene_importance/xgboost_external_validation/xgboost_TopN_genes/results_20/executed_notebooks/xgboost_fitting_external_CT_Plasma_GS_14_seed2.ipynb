{
 "cells": [
  {
   "cell_type": "code",
   "execution_count": 1,
   "id": "60e46b60",
   "metadata": {
    "editable": true,
    "execution": {
     "iopub.execute_input": "2025-05-15T16:15:44.071812Z",
     "iopub.status.busy": "2025-05-15T16:15:44.071184Z",
     "iopub.status.idle": "2025-05-15T16:15:44.075114Z",
     "shell.execute_reply": "2025-05-15T16:15:44.074678Z"
    },
    "papermill": {
     "duration": 0.013389,
     "end_time": "2025-05-15T16:15:44.076209",
     "exception": false,
     "start_time": "2025-05-15T16:15:44.062820",
     "status": "completed"
    },
    "slideshow": {
     "slide_type": ""
    },
    "tags": [
     "parameters"
    ]
   },
   "outputs": [],
   "source": [
    "CELL_TYPE = 'pDC'\n",
    "N_GENES: int = 20\n",
    "SEED = 'shap_studyID' #'disease_NOstudy' 'study_NOdisease' or 'int' or 'shap_studyID'\n",
    "TEST_SPLIT_IDX: int = 1 #[0,4]"
   ]
  },
  {
   "cell_type": "code",
   "execution_count": 2,
   "id": "bf41cf23",
   "metadata": {
    "execution": {
     "iopub.execute_input": "2025-05-15T16:15:44.089586Z",
     "iopub.status.busy": "2025-05-15T16:15:44.089113Z",
     "iopub.status.idle": "2025-05-15T16:15:44.091577Z",
     "shell.execute_reply": "2025-05-15T16:15:44.091163Z"
    },
    "papermill": {
     "duration": 0.010231,
     "end_time": "2025-05-15T16:15:44.092536",
     "exception": false,
     "start_time": "2025-05-15T16:15:44.082305",
     "status": "completed"
    },
    "tags": [
     "injected-parameters"
    ]
   },
   "outputs": [],
   "source": [
    "# Parameters\n",
    "CELL_TYPE = \"Plasma\"\n",
    "SEED = 14\n",
    "TEST_SPLIT_IDX = 2\n"
   ]
  },
  {
   "cell_type": "code",
   "execution_count": 3,
   "id": "a731d98c",
   "metadata": {
    "execution": {
     "iopub.execute_input": "2025-05-15T16:15:44.106507Z",
     "iopub.status.busy": "2025-05-15T16:15:44.106269Z",
     "iopub.status.idle": "2025-05-15T16:15:44.108712Z",
     "shell.execute_reply": "2025-05-15T16:15:44.108277Z"
    },
    "papermill": {
     "duration": 0.010986,
     "end_time": "2025-05-15T16:15:44.109627",
     "exception": false,
     "start_time": "2025-05-15T16:15:44.098641",
     "status": "completed"
    },
    "tags": []
   },
   "outputs": [],
   "source": [
    "N_SPLITS: int = 5\n",
    "N_TRIALS: int = 50"
   ]
  },
  {
   "cell_type": "code",
   "execution_count": 4,
   "id": "76ffbd25",
   "metadata": {
    "execution": {
     "iopub.execute_input": "2025-05-15T16:15:44.122820Z",
     "iopub.status.busy": "2025-05-15T16:15:44.122584Z",
     "iopub.status.idle": "2025-05-15T16:15:45.670170Z",
     "shell.execute_reply": "2025-05-15T16:15:45.669632Z"
    },
    "papermill": {
     "duration": 1.556632,
     "end_time": "2025-05-15T16:15:45.671803",
     "exception": false,
     "start_time": "2025-05-15T16:15:44.115171",
     "status": "completed"
    },
    "tags": []
   },
   "outputs": [],
   "source": [
    "import os\n",
    "import sys\n",
    "from pyprojroot.here import here\n",
    "import pandas as pd\n",
    "import anndata as ad\n",
    "import numpy as np\n",
    "import math\n",
    "from sklearn.model_selection import StratifiedGroupKFold\n",
    "from sklearn.preprocessing import LabelEncoder\n",
    "from sklearn.metrics import f1_score\n",
    "import matplotlib.pyplot as plt\n",
    "import seaborn as sns\n",
    "from itertools import product\n",
    "from sklearn.metrics import balanced_accuracy_score, f1_score\n",
    "import optuna\n",
    "\n",
    "import joblib\n",
    "import pickle\n",
    "import datetime\n",
    "\n",
    "import collections\n",
    "\n",
    "import xgboost\n",
    "from sklearn.preprocessing import LabelEncoder\n",
    "\n",
    "import scipy.sparse as ssp\n",
    "import joblib\n",
    "\n",
    "from dotenv import load_dotenv"
   ]
  },
  {
   "cell_type": "code",
   "execution_count": 5,
   "id": "4f2c815e",
   "metadata": {
    "execution": {
     "iopub.execute_input": "2025-05-15T16:15:45.685376Z",
     "iopub.status.busy": "2025-05-15T16:15:45.684891Z",
     "iopub.status.idle": "2025-05-15T16:15:45.691894Z",
     "shell.execute_reply": "2025-05-15T16:15:45.691542Z"
    },
    "papermill": {
     "duration": 0.014558,
     "end_time": "2025-05-15T16:15:45.692890",
     "exception": false,
     "start_time": "2025-05-15T16:15:45.678332",
     "status": "completed"
    },
    "tags": []
   },
   "outputs": [
    {
     "data": {
      "text/plain": [
       "True"
      ]
     },
     "execution_count": 5,
     "metadata": {},
     "output_type": "execute_result"
    }
   ],
   "source": [
    "load_dotenv()"
   ]
  },
  {
   "cell_type": "markdown",
   "id": "738288cb",
   "metadata": {
    "papermill": {
     "duration": 0.006151,
     "end_time": "2025-05-15T16:15:45.705305",
     "exception": false,
     "start_time": "2025-05-15T16:15:45.699154",
     "status": "completed"
    },
    "tags": []
   },
   "source": [
    "# LOAD DATASET"
   ]
  },
  {
   "cell_type": "code",
   "execution_count": 6,
   "id": "bc502f6c",
   "metadata": {
    "execution": {
     "iopub.execute_input": "2025-05-15T16:15:45.718830Z",
     "iopub.status.busy": "2025-05-15T16:15:45.718454Z",
     "iopub.status.idle": "2025-05-15T16:15:45.766393Z",
     "shell.execute_reply": "2025-05-15T16:15:45.765809Z"
    },
    "papermill": {
     "duration": 0.056551,
     "end_time": "2025-05-15T16:15:45.767948",
     "exception": false,
     "start_time": "2025-05-15T16:15:45.711397",
     "status": "completed"
    },
    "tags": []
   },
   "outputs": [],
   "source": [
    "train_adata = ad.read_h5ad(\n",
    "    here(f'03_downstream_analysis/08_gene_importance/xgboost_external_validation/xgboost_TopN_genes/data_cellTypes/EXTERNAL_{CELL_TYPE}.filtered.log1p.h5ad')\n",
    ")"
   ]
  },
  {
   "cell_type": "code",
   "execution_count": 7,
   "id": "6f0442b1",
   "metadata": {
    "execution": {
     "iopub.execute_input": "2025-05-15T16:15:45.783444Z",
     "iopub.status.busy": "2025-05-15T16:15:45.783173Z",
     "iopub.status.idle": "2025-05-15T16:15:45.796719Z",
     "shell.execute_reply": "2025-05-15T16:15:45.796224Z"
    },
    "papermill": {
     "duration": 0.022258,
     "end_time": "2025-05-15T16:15:45.797939",
     "exception": false,
     "start_time": "2025-05-15T16:15:45.775681",
     "status": "completed"
    },
    "tags": []
   },
   "outputs": [
    {
     "name": "stdout",
     "output_type": "stream",
     "text": [
      "['ENSG00000123268' 'ENSG00000165280' 'ENSG00000082074' 'ENSG00000204264'\n",
      " 'ENSG00000171476' 'ENSG00000160075' 'ENSG00000178719' 'ENSG00000100600'\n",
      " 'ENSG00000138802' 'ENSG00000125743' 'ENSG00000135114' 'ENSG00000143543'\n",
      " 'ENSG00000157873' 'ENSG00000163931' 'ENSG00000168389' 'ENSG00000111640'\n",
      " 'ENSG00000172183' 'ENSG00000100368' 'ENSG00000035115' 'ENSG00000100911'\n",
      " 'ENSG00000162739' 'ENSG00000163220' 'ENSG00000275302' 'ENSG00000107223'\n",
      " 'ENSG00000116191' 'ENSG00000148834' 'ENSG00000127184' 'ENSG00000167004'\n",
      " 'ENSG00000169442' 'ENSG00000104763' 'ENSG00000106367' 'ENSG00000164307'\n",
      " 'ENSG00000111678' 'ENSG00000112137' 'ENSG00000153283' 'ENSG00000136156'\n",
      " 'ENSG00000185650' 'ENSG00000172531' 'ENSG00000118503' 'ENSG00000277734'\n",
      " 'ENSG00000113811' 'ENSG00000103187' 'ENSG00000131018' 'ENSG00000254087'\n",
      " 'ENSG00000125740' 'ENSG00000165527' 'ENSG00000100300' 'ENSG00000189067'\n",
      " 'ENSG00000145912' 'ENSG00000183172' 'ENSG00000180008' 'ENSG00000198832'\n",
      " 'ENSG00000143774' 'ENSG00000042980' 'ENSG00000142166' 'ENSG00000158517'\n",
      " 'ENSG00000100365' 'ENSG00000121552' 'ENSG00000152518' 'ENSG00000011600'\n",
      " 'ENSG00000162434' 'ENSG00000171791' 'ENSG00000265972' 'ENSG00000068831'\n",
      " 'ENSG00000099204' 'ENSG00000167996' 'ENSG00000173757' 'ENSG00000089280'\n",
      " 'ENSG00000090554' 'ENSG00000164674' 'ENSG00000196961' 'ENSG00000015475'\n",
      " 'ENSG00000101474' 'ENSG00000179218' 'ENSG00000132432' 'ENSG00000075426'\n",
      " 'ENSG00000018280' 'ENSG00000101608' 'ENSG00000197747' 'ENSG00000110395'\n",
      " 'ENSG00000155368' 'ENSG00000185338' 'ENSG00000204267' 'ENSG00000113088'\n",
      " 'ENSG00000059728' 'ENSG00000159958' 'ENSG00000130830' 'ENSG00000136738'\n",
      " 'ENSG00000085265' 'ENSG00000170476' 'ENSG00000048462' 'ENSG00000182117'\n",
      " 'ENSG00000171608' 'ENSG00000149311' 'ENSG00000164543' 'ENSG00000242616'\n",
      " 'ENSG00000241106' 'ENSG00000179144' 'ENSG00000177663' 'ENSG00000100450'\n",
      " 'ENSG00000077984' 'ENSG00000172543' 'ENSG00000111796' 'ENSG00000168685'\n",
      " 'ENSG00000163513' 'ENSG00000184557' 'ENSG00000001167']\n"
     ]
    }
   ],
   "source": [
    "if SEED != 'all':\n",
    "    gene_subset = np.load(here(f'03_downstream_analysis/08_gene_importance/xgboost_external_validation/shap_gene_selection/gene_subsets_{N_GENES}/{CELL_TYPE}_{SEED}.npy'), allow_pickle=True)\n",
    "    train_adata = train_adata[:,gene_subset]\n",
    "    print(gene_subset)\n",
    "elif SEED == 'all':\n",
    "    print('Using all genes')\n",
    "else:\n",
    "    raise ValueError()"
   ]
  },
  {
   "cell_type": "code",
   "execution_count": 8,
   "id": "f30d976b",
   "metadata": {
    "execution": {
     "iopub.execute_input": "2025-05-15T16:15:45.812661Z",
     "iopub.status.busy": "2025-05-15T16:15:45.812122Z",
     "iopub.status.idle": "2025-05-15T16:15:45.815967Z",
     "shell.execute_reply": "2025-05-15T16:15:45.815594Z"
    },
    "papermill": {
     "duration": 0.011989,
     "end_time": "2025-05-15T16:15:45.816938",
     "exception": false,
     "start_time": "2025-05-15T16:15:45.804949",
     "status": "completed"
    },
    "tags": []
   },
   "outputs": [
    {
     "data": {
      "text/plain": [
       "(542, 107)"
      ]
     },
     "execution_count": 8,
     "metadata": {},
     "output_type": "execute_result"
    }
   ],
   "source": [
    "train_adata.shape"
   ]
  },
  {
   "cell_type": "code",
   "execution_count": 9,
   "id": "1b3fb628",
   "metadata": {
    "execution": {
     "iopub.execute_input": "2025-05-15T16:15:45.831119Z",
     "iopub.status.busy": "2025-05-15T16:15:45.830594Z",
     "iopub.status.idle": "2025-05-15T16:15:45.835465Z",
     "shell.execute_reply": "2025-05-15T16:15:45.835078Z"
    },
    "papermill": {
     "duration": 0.013138,
     "end_time": "2025-05-15T16:15:45.836508",
     "exception": false,
     "start_time": "2025-05-15T16:15:45.823370",
     "status": "completed"
    },
    "tags": []
   },
   "outputs": [
    {
     "data": {
      "text/plain": [
       "['RA', 'COVID', 'healthy', 'HIV', 'cirrhosis', 'CD', 'SLE', 'sepsis']\n",
       "Categories (8, object): ['CD', 'COVID', 'HIV', 'RA', 'SLE', 'cirrhosis', 'healthy', 'sepsis']"
      ]
     },
     "execution_count": 9,
     "metadata": {},
     "output_type": "execute_result"
    }
   ],
   "source": [
    "train_adata.obs.disease.unique()"
   ]
  },
  {
   "cell_type": "code",
   "execution_count": 10,
   "id": "cab8b863",
   "metadata": {
    "execution": {
     "iopub.execute_input": "2025-05-15T16:15:45.850110Z",
     "iopub.status.busy": "2025-05-15T16:15:45.849935Z",
     "iopub.status.idle": "2025-05-15T16:15:45.854304Z",
     "shell.execute_reply": "2025-05-15T16:15:45.853939Z"
    },
    "papermill": {
     "duration": 0.012268,
     "end_time": "2025-05-15T16:15:45.855276",
     "exception": false,
     "start_time": "2025-05-15T16:15:45.843008",
     "status": "completed"
    },
    "tags": []
   },
   "outputs": [
    {
     "data": {
      "text/plain": [
       "['SCGT00val_I0364_T0', 'SCGT00val_I036019_T0', 'SCGT00val_I036028_T0', 'SCGT00val_I036024_T0', 'SCGT00val_I036016_T0', ..., '10XGenomics_10XHC2_T0', '10XGenomics_10XHC3_T0', '10XGenomics_10XHC5_T0', '10XGenomics_10XHC7_T0', '10XGenomics_10XHC8_T0']\n",
       "Length: 74\n",
       "Categories (74, object): ['10XGenomics_10XHC1_T0', '10XGenomics_10XHC2_T0', '10XGenomics_10XHC3_T0', '10XGenomics_10XHC4_T0', ..., 'Savage2021_BRISL6_T0', 'Savage2021_BRISL7_T0', 'Savage2021_PIDA_T0', 'Savage2021_PIDB_T0']"
      ]
     },
     "execution_count": 10,
     "metadata": {},
     "output_type": "execute_result"
    }
   ],
   "source": [
    "train_adata.obs.sampleID.unique()"
   ]
  },
  {
   "cell_type": "code",
   "execution_count": 11,
   "id": "ba82a8d6",
   "metadata": {
    "execution": {
     "iopub.execute_input": "2025-05-15T16:15:45.877100Z",
     "iopub.status.busy": "2025-05-15T16:15:45.876735Z",
     "iopub.status.idle": "2025-05-15T16:15:45.909462Z",
     "shell.execute_reply": "2025-05-15T16:15:45.909030Z"
    },
    "papermill": {
     "duration": 0.048438,
     "end_time": "2025-05-15T16:15:45.910469",
     "exception": false,
     "start_time": "2025-05-15T16:15:45.862031",
     "status": "completed"
    },
    "tags": []
   },
   "outputs": [],
   "source": [
    "all_idxs = np.arange(train_adata.obs.shape[0])\n",
    "left_out_splits = [s[1] for s in StratifiedGroupKFold(n_splits=N_SPLITS).split(all_idxs, train_adata.obs.disease, train_adata.obs.sampleID)]"
   ]
  },
  {
   "cell_type": "code",
   "execution_count": 12,
   "id": "28bab5f4",
   "metadata": {
    "execution": {
     "iopub.execute_input": "2025-05-15T16:15:45.924549Z",
     "iopub.status.busy": "2025-05-15T16:15:45.924087Z",
     "iopub.status.idle": "2025-05-15T16:15:45.927593Z",
     "shell.execute_reply": "2025-05-15T16:15:45.927250Z"
    },
    "papermill": {
     "duration": 0.011136,
     "end_time": "2025-05-15T16:15:45.928485",
     "exception": false,
     "start_time": "2025-05-15T16:15:45.917349",
     "status": "completed"
    },
    "tags": []
   },
   "outputs": [
    {
     "data": {
      "text/plain": [
       "([0, 1, 4], 3, 2)"
      ]
     },
     "execution_count": 12,
     "metadata": {},
     "output_type": "execute_result"
    }
   ],
   "source": [
    "TRAIN_SPLIT_IDXS = [0,1,2,3,4]\n",
    "VAL_SPLIT_IDX = (TEST_SPLIT_IDX + 1) % 5\n",
    "TRAIN_SPLIT_IDXS.remove(TEST_SPLIT_IDX)\n",
    "TRAIN_SPLIT_IDXS.remove(VAL_SPLIT_IDX)\n",
    "TRAIN_SPLIT_IDXS, VAL_SPLIT_IDX, TEST_SPLIT_IDX"
   ]
  },
  {
   "cell_type": "code",
   "execution_count": 13,
   "id": "6d6a86e7",
   "metadata": {
    "execution": {
     "iopub.execute_input": "2025-05-15T16:15:45.941843Z",
     "iopub.status.busy": "2025-05-15T16:15:45.941400Z",
     "iopub.status.idle": "2025-05-15T16:15:45.943960Z",
     "shell.execute_reply": "2025-05-15T16:15:45.943627Z"
    },
    "papermill": {
     "duration": 0.01024,
     "end_time": "2025-05-15T16:15:45.944860",
     "exception": false,
     "start_time": "2025-05-15T16:15:45.934620",
     "status": "completed"
    },
    "tags": []
   },
   "outputs": [],
   "source": [
    "train_idxs = np.concatenate([left_out_splits[idx] for idx in TRAIN_SPLIT_IDXS])\n",
    "val_idxs = left_out_splits[VAL_SPLIT_IDX]\n",
    "test_idxs = left_out_splits[TEST_SPLIT_IDX]"
   ]
  },
  {
   "cell_type": "markdown",
   "id": "3c7a3509",
   "metadata": {
    "papermill": {
     "duration": 0.012614,
     "end_time": "2025-05-15T16:15:45.963506",
     "exception": false,
     "start_time": "2025-05-15T16:15:45.950892",
     "status": "completed"
    },
    "tags": []
   },
   "source": [
    "### SUBSET DATASET INTO TRAIN/TEST/VAL SPLITS"
   ]
  },
  {
   "cell_type": "code",
   "execution_count": 14,
   "id": "a5006f97",
   "metadata": {
    "execution": {
     "iopub.execute_input": "2025-05-15T16:15:45.977417Z",
     "iopub.status.busy": "2025-05-15T16:15:45.977142Z",
     "iopub.status.idle": "2025-05-15T16:15:45.983917Z",
     "shell.execute_reply": "2025-05-15T16:15:45.983586Z"
    },
    "papermill": {
     "duration": 0.015145,
     "end_time": "2025-05-15T16:15:45.984821",
     "exception": false,
     "start_time": "2025-05-15T16:15:45.969676",
     "status": "completed"
    },
    "tags": []
   },
   "outputs": [
    {
     "data": {
      "text/plain": [
       "((341, 107), (102, 107), (99, 107))"
      ]
     },
     "execution_count": 14,
     "metadata": {},
     "output_type": "execute_result"
    }
   ],
   "source": [
    "X_train = train_adata.X[train_idxs]\n",
    "X_test = train_adata.X[test_idxs]\n",
    "X_val = train_adata.X[val_idxs]\n",
    "X_train.shape, X_test.shape, X_val.shape"
   ]
  },
  {
   "cell_type": "code",
   "execution_count": 15,
   "id": "4df84e49",
   "metadata": {
    "execution": {
     "iopub.execute_input": "2025-05-15T16:15:45.998544Z",
     "iopub.status.busy": "2025-05-15T16:15:45.998065Z",
     "iopub.status.idle": "2025-05-15T16:15:46.004691Z",
     "shell.execute_reply": "2025-05-15T16:15:46.004272Z"
    },
    "papermill": {
     "duration": 0.014464,
     "end_time": "2025-05-15T16:15:46.005603",
     "exception": false,
     "start_time": "2025-05-15T16:15:45.991139",
     "status": "completed"
    },
    "tags": []
   },
   "outputs": [
    {
     "data": {
      "text/plain": [
       "((341,), (102,), (99,))"
      ]
     },
     "execution_count": 15,
     "metadata": {},
     "output_type": "execute_result"
    }
   ],
   "source": [
    "y_train = train_adata.obs.iloc[train_idxs].disease.values.astype(str)\n",
    "y_test = train_adata.obs.iloc[test_idxs].disease.values.astype(str)\n",
    "y_val = train_adata.obs.iloc[val_idxs].disease.values.astype(str)\n",
    "y_train.shape, y_test.shape, y_val.shape"
   ]
  },
  {
   "cell_type": "code",
   "execution_count": 16,
   "id": "daac83a8",
   "metadata": {
    "execution": {
     "iopub.execute_input": "2025-05-15T16:15:46.019873Z",
     "iopub.status.busy": "2025-05-15T16:15:46.019367Z",
     "iopub.status.idle": "2025-05-15T16:15:46.022638Z",
     "shell.execute_reply": "2025-05-15T16:15:46.022226Z"
    },
    "papermill": {
     "duration": 0.011237,
     "end_time": "2025-05-15T16:15:46.023590",
     "exception": false,
     "start_time": "2025-05-15T16:15:46.012353",
     "status": "completed"
    },
    "tags": []
   },
   "outputs": [],
   "source": [
    "lenc = LabelEncoder()\n",
    "y_train_enc = lenc.fit_transform(y_train)\n",
    "y_val_enc = lenc.transform(y_val)\n",
    "y_test_enc = lenc.transform(y_test)"
   ]
  },
  {
   "cell_type": "markdown",
   "id": "264fda67",
   "metadata": {
    "papermill": {
     "duration": 0.00715,
     "end_time": "2025-05-15T16:15:46.037274",
     "exception": false,
     "start_time": "2025-05-15T16:15:46.030124",
     "status": "completed"
    },
    "tags": []
   },
   "source": [
    "### GENERATE F1 "
   ]
  },
  {
   "cell_type": "code",
   "execution_count": 17,
   "id": "bf581c27",
   "metadata": {
    "execution": {
     "iopub.execute_input": "2025-05-15T16:15:46.052423Z",
     "iopub.status.busy": "2025-05-15T16:15:46.052064Z",
     "iopub.status.idle": "2025-05-15T16:15:46.055345Z",
     "shell.execute_reply": "2025-05-15T16:15:46.054861Z"
    },
    "papermill": {
     "duration": 0.012025,
     "end_time": "2025-05-15T16:15:46.056277",
     "exception": false,
     "start_time": "2025-05-15T16:15:46.044252",
     "status": "completed"
    },
    "tags": []
   },
   "outputs": [],
   "source": [
    "def custom_f1_score(y_true, y_pred):\n",
    "    return -f1_score(y_true, y_pred.argmax(1), average='weighted')"
   ]
  },
  {
   "cell_type": "code",
   "execution_count": 18,
   "id": "e7921cbe",
   "metadata": {
    "execution": {
     "iopub.execute_input": "2025-05-15T16:15:46.070855Z",
     "iopub.status.busy": "2025-05-15T16:15:46.070503Z",
     "iopub.status.idle": "2025-05-15T16:15:46.075592Z",
     "shell.execute_reply": "2025-05-15T16:15:46.074996Z"
    },
    "papermill": {
     "duration": 0.013636,
     "end_time": "2025-05-15T16:15:46.076510",
     "exception": false,
     "start_time": "2025-05-15T16:15:46.062874",
     "status": "completed"
    },
    "tags": []
   },
   "outputs": [],
   "source": [
    "eval_metric=custom_f1_score\n",
    "eval_metric_name='custom_f1_score'\n",
    "\n",
    "def objective(trial):\n",
    "    params = {\n",
    "        'n_estimators': 1500,\n",
    "        'max_depth': trial.suggest_int('max_depth', 3, 20),\n",
    "        'min_child_weight': trial.suggest_int('min_child_weight', 1, 250),\n",
    "        'subsample': trial.suggest_float('subsample', 0.1, 1.0),\n",
    "        'colsample_bynode': trial.suggest_float('colsample_bynode', 0.1, 1.0),\n",
    "        'learning_rate': trial.suggest_float('learning_rate', 1e-3, 5e-1, log=True),\n",
    "    }\n",
    "    pruning_callback = optuna.integration.XGBoostPruningCallback(trial, f'validation_0-{eval_metric_name}')\n",
    "    es_callback = xgboost.callback.EarlyStopping(20, min_delta=0.001)\n",
    "    xgb = xgboost.XGBClassifier(\n",
    "        eval_metric=eval_metric,\n",
    "        callbacks=[pruning_callback, es_callback],\n",
    "        n_jobs=5,\n",
    "        **params\n",
    "    )\n",
    "    xgb.fit(\n",
    "        X_train, \n",
    "        y_train_enc, \n",
    "        verbose=0,\n",
    "        eval_set=[(X_val, y_val_enc)],\n",
    "    )\n",
    "    trial.set_user_attr('best_iteration', xgb.best_iteration)\n",
    "\n",
    "    return xgb.best_score"
   ]
  },
  {
   "cell_type": "code",
   "execution_count": 19,
   "id": "aae28adc",
   "metadata": {
    "execution": {
     "iopub.execute_input": "2025-05-15T16:15:46.099926Z",
     "iopub.status.busy": "2025-05-15T16:15:46.099611Z",
     "iopub.status.idle": "2025-05-15T16:15:57.983785Z",
     "shell.execute_reply": "2025-05-15T16:15:57.983304Z"
    },
    "papermill": {
     "duration": 11.893818,
     "end_time": "2025-05-15T16:15:57.984936",
     "exception": false,
     "start_time": "2025-05-15T16:15:46.091118",
     "status": "completed"
    },
    "scrolled": true,
    "tags": []
   },
   "outputs": [
    {
     "name": "stderr",
     "output_type": "stream",
     "text": [
      "[I 2025-05-15 18:15:46,102] A new study created in memory with name: no-name-2a09e87b-5ee6-4bfc-a62a-505ccb1a0386\n"
     ]
    },
    {
     "name": "stderr",
     "output_type": "stream",
     "text": [
      "[I 2025-05-15 18:15:46,178] Trial 0 finished with value: -0.022222 and parameters: {'max_depth': 9, 'min_child_weight': 238, 'subsample': 0.7587945476302645, 'colsample_bynode': 0.6387926357773329, 'learning_rate': 0.0026368755339723046}. Best is trial 0 with value: -0.022222.\n"
     ]
    },
    {
     "name": "stderr",
     "output_type": "stream",
     "text": [
      "[I 2025-05-15 18:15:46,735] Trial 1 finished with value: -0.459974 and parameters: {'max_depth': 5, 'min_child_weight': 15, 'subsample': 0.8795585311974417, 'colsample_bynode': 0.6410035105688879, 'learning_rate': 0.08148293210105287}. Best is trial 1 with value: -0.459974.\n"
     ]
    },
    {
     "name": "stderr",
     "output_type": "stream",
     "text": [
      "[I 2025-05-15 18:15:46,883] Trial 2 finished with value: -0.022222 and parameters: {'max_depth': 3, 'min_child_weight': 243, 'subsample': 0.8491983767203796, 'colsample_bynode': 0.29110519961044856, 'learning_rate': 0.003095566460242371}. Best is trial 1 with value: -0.459974.\n"
     ]
    },
    {
     "name": "stderr",
     "output_type": "stream",
     "text": [
      "[I 2025-05-15 18:15:47,071] Trial 3 finished with value: -0.022222 and parameters: {'max_depth': 6, 'min_child_weight': 77, 'subsample': 0.5722807884690141, 'colsample_bynode': 0.48875051677790415, 'learning_rate': 0.006109683510122491}. Best is trial 1 with value: -0.459974.\n"
     ]
    },
    {
     "name": "stderr",
     "output_type": "stream",
     "text": [
      "[I 2025-05-15 18:15:47,225] Trial 4 finished with value: -0.022222 and parameters: {'max_depth': 14, 'min_child_weight': 35, 'subsample': 0.3629301836816964, 'colsample_bynode': 0.4297256589643226, 'learning_rate': 0.01701841881702917}. Best is trial 1 with value: -0.459974.\n"
     ]
    },
    {
     "name": "stderr",
     "output_type": "stream",
     "text": [
      "[I 2025-05-15 18:15:47,398] Trial 5 finished with value: -0.022222 and parameters: {'max_depth': 17, 'min_child_weight': 50, 'subsample': 0.5628109945722505, 'colsample_bynode': 0.6331731119758383, 'learning_rate': 0.0013346527038305934}. Best is trial 1 with value: -0.459974.\n"
     ]
    },
    {
     "name": "stderr",
     "output_type": "stream",
     "text": [
      "[I 2025-05-15 18:15:47,553] Trial 6 finished with value: -0.022222 and parameters: {'max_depth': 13, 'min_child_weight': 43, 'subsample': 0.1585464336867516, 'colsample_bynode': 0.9539969835279999, 'learning_rate': 0.4038423798071558}. Best is trial 1 with value: -0.459974.\n"
     ]
    },
    {
     "name": "stderr",
     "output_type": "stream",
     "text": [
      "[I 2025-05-15 18:15:47,728] Trial 7 finished with value: -0.022222 and parameters: {'max_depth': 17, 'min_child_weight': 77, 'subsample': 0.1879049026057455, 'colsample_bynode': 0.7158097238609412, 'learning_rate': 0.015415527060141935}. Best is trial 1 with value: -0.459974.\n"
     ]
    },
    {
     "name": "stderr",
     "output_type": "stream",
     "text": [
      "[I 2025-05-15 18:15:47,874] Trial 8 finished with value: -0.022222 and parameters: {'max_depth': 5, 'min_child_weight': 124, 'subsample': 0.13094966900369656, 'colsample_bynode': 0.9183883618709039, 'learning_rate': 0.004993895014755658}. Best is trial 1 with value: -0.459974.\n"
     ]
    },
    {
     "name": "stderr",
     "output_type": "stream",
     "text": [
      "[I 2025-05-15 18:15:48,040] Trial 9 finished with value: -0.022222 and parameters: {'max_depth': 14, 'min_child_weight': 78, 'subsample': 0.5680612190600297, 'colsample_bynode': 0.5920392514089517, 'learning_rate': 0.0031543990308330965}. Best is trial 1 with value: -0.459974.\n"
     ]
    },
    {
     "name": "stderr",
     "output_type": "stream",
     "text": [
      "[I 2025-05-15 18:15:48,554] Trial 10 finished with value: -0.496277 and parameters: {'max_depth': 9, 'min_child_weight': 2, 'subsample': 0.9725833997090791, 'colsample_bynode': 0.11616568805333755, 'learning_rate': 0.17780618353487967}. Best is trial 10 with value: -0.496277.\n"
     ]
    },
    {
     "name": "stderr",
     "output_type": "stream",
     "text": [
      "[I 2025-05-15 18:15:48,900] Trial 11 pruned. Trial was pruned at iteration 27.\n"
     ]
    },
    {
     "name": "stderr",
     "output_type": "stream",
     "text": [
      "[I 2025-05-15 18:15:49,235] Trial 12 pruned. Trial was pruned at iteration 25.\n"
     ]
    },
    {
     "name": "stderr",
     "output_type": "stream",
     "text": [
      "[I 2025-05-15 18:15:49,399] Trial 13 finished with value: -0.022222 and parameters: {'max_depth': 6, 'min_child_weight': 173, 'subsample': 0.790863397930712, 'colsample_bynode': 0.8100137258468498, 'learning_rate': 0.09009490635410385}. Best is trial 10 with value: -0.496277.\n"
     ]
    },
    {
     "name": "stderr",
     "output_type": "stream",
     "text": [
      "[I 2025-05-15 18:15:49,582] Trial 14 finished with value: -0.022222 and parameters: {'max_depth': 11, 'min_child_weight': 132, 'subsample': 0.8756857866758896, 'colsample_bynode': 0.37234427067556525, 'learning_rate': 0.33580116263734355}. Best is trial 10 with value: -0.496277.\n"
     ]
    },
    {
     "name": "stderr",
     "output_type": "stream",
     "text": [
      "[I 2025-05-15 18:15:50,031] Trial 15 pruned. Trial was pruned at iteration 25.\n"
     ]
    },
    {
     "name": "stderr",
     "output_type": "stream",
     "text": [
      "[I 2025-05-15 18:15:50,205] Trial 16 finished with value: -0.022222 and parameters: {'max_depth': 3, 'min_child_weight': 117, 'subsample': 0.6850154210962394, 'colsample_bynode': 0.7696944218640787, 'learning_rate': 0.18961687234093502}. Best is trial 10 with value: -0.496277.\n"
     ]
    },
    {
     "name": "stderr",
     "output_type": "stream",
     "text": [
      "[I 2025-05-15 18:15:50,371] Trial 17 finished with value: -0.022222 and parameters: {'max_depth': 7, 'min_child_weight': 183, 'subsample': 0.42926887230238714, 'colsample_bynode': 0.515903282561015, 'learning_rate': 0.03429743867756372}. Best is trial 10 with value: -0.496277.\n"
     ]
    },
    {
     "name": "stderr",
     "output_type": "stream",
     "text": [
      "[I 2025-05-15 18:15:50,550] Trial 18 pruned. Trial was pruned at iteration 21.\n"
     ]
    },
    {
     "name": "stderr",
     "output_type": "stream",
     "text": [
      "[I 2025-05-15 18:15:50,722] Trial 19 finished with value: -0.022222 and parameters: {'max_depth': 4, 'min_child_weight': 96, 'subsample': 0.6937203157540224, 'colsample_bynode': 0.10989027031939402, 'learning_rate': 0.0506827706601686}. Best is trial 10 with value: -0.496277.\n"
     ]
    },
    {
     "name": "stderr",
     "output_type": "stream",
     "text": [
      "[I 2025-05-15 18:15:50,942] Trial 20 pruned. Trial was pruned at iteration 21.\n"
     ]
    },
    {
     "name": "stderr",
     "output_type": "stream",
     "text": [
      "[I 2025-05-15 18:15:51,123] Trial 21 finished with value: -0.022222 and parameters: {'max_depth': 8, 'min_child_weight': 235, 'subsample': 0.819134819511958, 'colsample_bynode': 0.6663957994268338, 'learning_rate': 0.059063256824729765}. Best is trial 10 with value: -0.496277.\n"
     ]
    },
    {
     "name": "stderr",
     "output_type": "stream",
     "text": [
      "[I 2025-05-15 18:15:51,276] Trial 22 finished with value: -0.022222 and parameters: {'max_depth': 11, 'min_child_weight': 210, 'subsample': 0.7489320631856256, 'colsample_bynode': 0.5421132319615449, 'learning_rate': 0.0010969885143711678}. Best is trial 10 with value: -0.496277.\n"
     ]
    },
    {
     "name": "stderr",
     "output_type": "stream",
     "text": [
      "[I 2025-05-15 18:15:51,466] Trial 23 finished with value: -0.022222 and parameters: {'max_depth': 9, 'min_child_weight': 155, 'subsample': 0.9080768114991447, 'colsample_bynode': 0.7216553162496422, 'learning_rate': 0.009396099717389856}. Best is trial 10 with value: -0.496277.\n"
     ]
    },
    {
     "name": "stderr",
     "output_type": "stream",
     "text": [
      "[I 2025-05-15 18:15:51,619] Trial 24 finished with value: -0.022222 and parameters: {'max_depth': 5, 'min_child_weight': 208, 'subsample': 0.7569125565135284, 'colsample_bynode': 0.4246112773050008, 'learning_rate': 0.030617548856419777}. Best is trial 10 with value: -0.496277.\n"
     ]
    },
    {
     "name": "stderr",
     "output_type": "stream",
     "text": [
      "[I 2025-05-15 18:15:51,813] Trial 25 finished with value: -0.166667 and parameters: {'max_depth': 10, 'min_child_weight': 62, 'subsample': 0.9133372840349652, 'colsample_bynode': 0.6202006285495548, 'learning_rate': 0.29347010236640836}. Best is trial 10 with value: -0.496277.\n"
     ]
    },
    {
     "name": "stderr",
     "output_type": "stream",
     "text": [
      "[I 2025-05-15 18:15:51,969] Trial 26 pruned. Trial was pruned at iteration 21.\n"
     ]
    },
    {
     "name": "stderr",
     "output_type": "stream",
     "text": [
      "[I 2025-05-15 18:15:52,295] Trial 27 finished with value: -0.464639 and parameters: {'max_depth': 7, 'min_child_weight': 19, 'subsample': 0.9381053666691964, 'colsample_bynode': 0.5786508771585933, 'learning_rate': 0.27646133584016946}. Best is trial 10 with value: -0.496277.\n"
     ]
    },
    {
     "name": "stderr",
     "output_type": "stream",
     "text": [
      "[I 2025-05-15 18:15:52,477] Trial 28 pruned. Trial was pruned at iteration 21.\n"
     ]
    },
    {
     "name": "stderr",
     "output_type": "stream",
     "text": [
      "[I 2025-05-15 18:15:52,671] Trial 29 pruned. Trial was pruned at iteration 21.\n"
     ]
    },
    {
     "name": "stderr",
     "output_type": "stream",
     "text": [
      "[I 2025-05-15 18:15:52,839] Trial 30 finished with value: -0.022222 and parameters: {'max_depth': 5, 'min_child_weight': 97, 'subsample': 0.8344055468209277, 'colsample_bynode': 0.7096162111910556, 'learning_rate': 0.13862193516773946}. Best is trial 10 with value: -0.496277.\n"
     ]
    },
    {
     "name": "stderr",
     "output_type": "stream",
     "text": [
      "[I 2025-05-15 18:15:53,026] Trial 31 pruned. Trial was pruned at iteration 21.\n"
     ]
    },
    {
     "name": "stderr",
     "output_type": "stream",
     "text": [
      "[I 2025-05-15 18:15:53,231] Trial 32 pruned. Trial was pruned at iteration 21.\n"
     ]
    },
    {
     "name": "stderr",
     "output_type": "stream",
     "text": [
      "[I 2025-05-15 18:15:53,685] Trial 33 finished with value: -0.495325 and parameters: {'max_depth': 4, 'min_child_weight': 15, 'subsample': 0.9325755014168162, 'colsample_bynode': 0.5399867771102868, 'learning_rate': 0.27995030874274185}. Best is trial 10 with value: -0.496277.\n"
     ]
    },
    {
     "name": "stderr",
     "output_type": "stream",
     "text": [
      "[I 2025-05-15 18:15:53,909] Trial 34 pruned. Trial was pruned at iteration 21.\n"
     ]
    },
    {
     "name": "stderr",
     "output_type": "stream",
     "text": [
      "[I 2025-05-15 18:15:54,077] Trial 35 pruned. Trial was pruned at iteration 21.\n"
     ]
    },
    {
     "name": "stderr",
     "output_type": "stream",
     "text": [
      "[I 2025-05-15 18:15:54,256] Trial 36 finished with value: -0.022222 and parameters: {'max_depth': 6, 'min_child_weight': 46, 'subsample': 0.2547641867017203, 'colsample_bynode': 0.35802799555173126, 'learning_rate': 0.1561514802213413}. Best is trial 10 with value: -0.496277.\n"
     ]
    },
    {
     "name": "stderr",
     "output_type": "stream",
     "text": [
      "[I 2025-05-15 18:15:54,438] Trial 37 pruned. Trial was pruned at iteration 21.\n"
     ]
    },
    {
     "name": "stderr",
     "output_type": "stream",
     "text": [
      "[I 2025-05-15 18:15:54,637] Trial 38 pruned. Trial was pruned at iteration 21.\n"
     ]
    },
    {
     "name": "stderr",
     "output_type": "stream",
     "text": [
      "[I 2025-05-15 18:15:54,826] Trial 39 finished with value: -0.022222 and parameters: {'max_depth': 6, 'min_child_weight': 74, 'subsample': 0.4918794364214414, 'colsample_bynode': 0.5537638020512118, 'learning_rate': 0.11432527741308572}. Best is trial 10 with value: -0.496277.\n"
     ]
    },
    {
     "name": "stderr",
     "output_type": "stream",
     "text": [
      "[I 2025-05-15 18:15:54,994] Trial 40 finished with value: -0.166667 and parameters: {'max_depth': 5, 'min_child_weight': 50, 'subsample': 0.8807970075357817, 'colsample_bynode': 0.9765312599811335, 'learning_rate': 0.01762387035468314}. Best is trial 10 with value: -0.496277.\n"
     ]
    },
    {
     "name": "stderr",
     "output_type": "stream",
     "text": [
      "[I 2025-05-15 18:15:55,176] Trial 41 finished with value: -0.166667 and parameters: {'max_depth': 10, 'min_child_weight': 67, 'subsample': 0.9373681617732637, 'colsample_bynode': 0.6071490872888161, 'learning_rate': 0.3274452809443242}. Best is trial 10 with value: -0.496277.\n"
     ]
    },
    {
     "name": "stderr",
     "output_type": "stream",
     "text": [
      "[I 2025-05-15 18:15:55,526] Trial 42 finished with value: -0.49467 and parameters: {'max_depth': 7, 'min_child_weight': 12, 'subsample': 0.9866869728132461, 'colsample_bynode': 0.682273948107948, 'learning_rate': 0.28360041598071684}. Best is trial 10 with value: -0.496277.\n"
     ]
    },
    {
     "name": "stderr",
     "output_type": "stream",
     "text": [
      "[I 2025-05-15 18:15:55,965] Trial 43 finished with value: -0.502232 and parameters: {'max_depth': 7, 'min_child_weight': 7, 'subsample': 0.9950227176445717, 'colsample_bynode': 0.6745106563587789, 'learning_rate': 0.41174506987726256}. Best is trial 43 with value: -0.502232.\n"
     ]
    },
    {
     "name": "stderr",
     "output_type": "stream",
     "text": [
      "[I 2025-05-15 18:15:56,284] Trial 44 finished with value: -0.528094 and parameters: {'max_depth': 7, 'min_child_weight': 9, 'subsample': 0.9946506582173954, 'colsample_bynode': 0.691103396122835, 'learning_rate': 0.38428211501676096}. Best is trial 44 with value: -0.528094.\n"
     ]
    },
    {
     "name": "stderr",
     "output_type": "stream",
     "text": [
      "[I 2025-05-15 18:15:56,773] Trial 45 pruned. Trial was pruned at iteration 21.\n"
     ]
    },
    {
     "name": "stderr",
     "output_type": "stream",
     "text": [
      "[I 2025-05-15 18:15:57,195] Trial 46 finished with value: -0.487791 and parameters: {'max_depth': 6, 'min_child_weight': 10, 'subsample': 0.9913158036608815, 'colsample_bynode': 0.6840660681057265, 'learning_rate': 0.3931936159993903}. Best is trial 44 with value: -0.528094.\n"
     ]
    },
    {
     "name": "stderr",
     "output_type": "stream",
     "text": [
      "[I 2025-05-15 18:15:57,396] Trial 47 pruned. Trial was pruned at iteration 21.\n"
     ]
    },
    {
     "name": "stderr",
     "output_type": "stream",
     "text": [
      "[I 2025-05-15 18:15:57,582] Trial 48 pruned. Trial was pruned at iteration 21.\n"
     ]
    },
    {
     "name": "stderr",
     "output_type": "stream",
     "text": [
      "[I 2025-05-15 18:15:57,899] Trial 49 pruned. Trial was pruned at iteration 22.\n"
     ]
    }
   ],
   "source": [
    "sampler = optuna.samplers.TPESampler(seed=42)\n",
    "study = optuna.create_study(direction='minimize', sampler=sampler)\n",
    "study.optimize(objective, n_trials=N_TRIALS, gc_after_trial=True)"
   ]
  },
  {
   "cell_type": "code",
   "execution_count": 20,
   "id": "464fd752",
   "metadata": {
    "execution": {
     "iopub.execute_input": "2025-05-15T16:15:58.004662Z",
     "iopub.status.busy": "2025-05-15T16:15:58.004398Z",
     "iopub.status.idle": "2025-05-15T16:15:58.026960Z",
     "shell.execute_reply": "2025-05-15T16:15:58.026620Z"
    },
    "papermill": {
     "duration": 0.033014,
     "end_time": "2025-05-15T16:15:58.027945",
     "exception": false,
     "start_time": "2025-05-15T16:15:57.994931",
     "status": "completed"
    },
    "tags": []
   },
   "outputs": [
    {
     "data": {
      "text/plain": [
       "['/scratch_isilon/groups/singlecell/shared/projects/Inflammation-PBMCs-Atlas/03_downstream_analysis/08_gene_importance/xgboost_external_validation/xgboost_TopN_genes/results_20/study/Plasma_14_2_xgboost.pkl']"
      ]
     },
     "execution_count": 20,
     "metadata": {},
     "output_type": "execute_result"
    }
   ],
   "source": [
    "out_dir = here(f'03_downstream_analysis/08_gene_importance/xgboost_external_validation/xgboost_TopN_genes/results_{N_GENES}/study')\n",
    "\n",
    "if not os.path.exists(out_dir):\n",
    "    os.makedirs(out_dir)\n",
    "    \n",
    "joblib.dump(study,os.path.join(out_dir, f'{CELL_TYPE}_{SEED}_{TEST_SPLIT_IDX}_xgboost.pkl'))"
   ]
  },
  {
   "cell_type": "code",
   "execution_count": 21,
   "id": "ecc3ca6d",
   "metadata": {
    "execution": {
     "iopub.execute_input": "2025-05-15T16:15:58.046812Z",
     "iopub.status.busy": "2025-05-15T16:15:58.046431Z",
     "iopub.status.idle": "2025-05-15T16:15:58.143554Z",
     "shell.execute_reply": "2025-05-15T16:15:58.143165Z"
    },
    "papermill": {
     "duration": 0.107799,
     "end_time": "2025-05-15T16:15:58.144835",
     "exception": false,
     "start_time": "2025-05-15T16:15:58.037036",
     "status": "completed"
    },
    "tags": []
   },
   "outputs": [
    {
     "data": {
      "text/html": [
       "<style>#sk-container-id-1 {\n",
       "  /* Definition of color scheme common for light and dark mode */\n",
       "  --sklearn-color-text: black;\n",
       "  --sklearn-color-line: gray;\n",
       "  /* Definition of color scheme for unfitted estimators */\n",
       "  --sklearn-color-unfitted-level-0: #fff5e6;\n",
       "  --sklearn-color-unfitted-level-1: #f6e4d2;\n",
       "  --sklearn-color-unfitted-level-2: #ffe0b3;\n",
       "  --sklearn-color-unfitted-level-3: chocolate;\n",
       "  /* Definition of color scheme for fitted estimators */\n",
       "  --sklearn-color-fitted-level-0: #f0f8ff;\n",
       "  --sklearn-color-fitted-level-1: #d4ebff;\n",
       "  --sklearn-color-fitted-level-2: #b3dbfd;\n",
       "  --sklearn-color-fitted-level-3: cornflowerblue;\n",
       "\n",
       "  /* Specific color for light theme */\n",
       "  --sklearn-color-text-on-default-background: var(--sg-text-color, var(--theme-code-foreground, var(--jp-content-font-color1, black)));\n",
       "  --sklearn-color-background: var(--sg-background-color, var(--theme-background, var(--jp-layout-color0, white)));\n",
       "  --sklearn-color-border-box: var(--sg-text-color, var(--theme-code-foreground, var(--jp-content-font-color1, black)));\n",
       "  --sklearn-color-icon: #696969;\n",
       "\n",
       "  @media (prefers-color-scheme: dark) {\n",
       "    /* Redefinition of color scheme for dark theme */\n",
       "    --sklearn-color-text-on-default-background: var(--sg-text-color, var(--theme-code-foreground, var(--jp-content-font-color1, white)));\n",
       "    --sklearn-color-background: var(--sg-background-color, var(--theme-background, var(--jp-layout-color0, #111)));\n",
       "    --sklearn-color-border-box: var(--sg-text-color, var(--theme-code-foreground, var(--jp-content-font-color1, white)));\n",
       "    --sklearn-color-icon: #878787;\n",
       "  }\n",
       "}\n",
       "\n",
       "#sk-container-id-1 {\n",
       "  color: var(--sklearn-color-text);\n",
       "}\n",
       "\n",
       "#sk-container-id-1 pre {\n",
       "  padding: 0;\n",
       "}\n",
       "\n",
       "#sk-container-id-1 input.sk-hidden--visually {\n",
       "  border: 0;\n",
       "  clip: rect(1px 1px 1px 1px);\n",
       "  clip: rect(1px, 1px, 1px, 1px);\n",
       "  height: 1px;\n",
       "  margin: -1px;\n",
       "  overflow: hidden;\n",
       "  padding: 0;\n",
       "  position: absolute;\n",
       "  width: 1px;\n",
       "}\n",
       "\n",
       "#sk-container-id-1 div.sk-dashed-wrapped {\n",
       "  border: 1px dashed var(--sklearn-color-line);\n",
       "  margin: 0 0.4em 0.5em 0.4em;\n",
       "  box-sizing: border-box;\n",
       "  padding-bottom: 0.4em;\n",
       "  background-color: var(--sklearn-color-background);\n",
       "}\n",
       "\n",
       "#sk-container-id-1 div.sk-container {\n",
       "  /* jupyter's `normalize.less` sets `[hidden] { display: none; }`\n",
       "     but bootstrap.min.css set `[hidden] { display: none !important; }`\n",
       "     so we also need the `!important` here to be able to override the\n",
       "     default hidden behavior on the sphinx rendered scikit-learn.org.\n",
       "     See: https://github.com/scikit-learn/scikit-learn/issues/21755 */\n",
       "  display: inline-block !important;\n",
       "  position: relative;\n",
       "}\n",
       "\n",
       "#sk-container-id-1 div.sk-text-repr-fallback {\n",
       "  display: none;\n",
       "}\n",
       "\n",
       "div.sk-parallel-item,\n",
       "div.sk-serial,\n",
       "div.sk-item {\n",
       "  /* draw centered vertical line to link estimators */\n",
       "  background-image: linear-gradient(var(--sklearn-color-text-on-default-background), var(--sklearn-color-text-on-default-background));\n",
       "  background-size: 2px 100%;\n",
       "  background-repeat: no-repeat;\n",
       "  background-position: center center;\n",
       "}\n",
       "\n",
       "/* Parallel-specific style estimator block */\n",
       "\n",
       "#sk-container-id-1 div.sk-parallel-item::after {\n",
       "  content: \"\";\n",
       "  width: 100%;\n",
       "  border-bottom: 2px solid var(--sklearn-color-text-on-default-background);\n",
       "  flex-grow: 1;\n",
       "}\n",
       "\n",
       "#sk-container-id-1 div.sk-parallel {\n",
       "  display: flex;\n",
       "  align-items: stretch;\n",
       "  justify-content: center;\n",
       "  background-color: var(--sklearn-color-background);\n",
       "  position: relative;\n",
       "}\n",
       "\n",
       "#sk-container-id-1 div.sk-parallel-item {\n",
       "  display: flex;\n",
       "  flex-direction: column;\n",
       "}\n",
       "\n",
       "#sk-container-id-1 div.sk-parallel-item:first-child::after {\n",
       "  align-self: flex-end;\n",
       "  width: 50%;\n",
       "}\n",
       "\n",
       "#sk-container-id-1 div.sk-parallel-item:last-child::after {\n",
       "  align-self: flex-start;\n",
       "  width: 50%;\n",
       "}\n",
       "\n",
       "#sk-container-id-1 div.sk-parallel-item:only-child::after {\n",
       "  width: 0;\n",
       "}\n",
       "\n",
       "/* Serial-specific style estimator block */\n",
       "\n",
       "#sk-container-id-1 div.sk-serial {\n",
       "  display: flex;\n",
       "  flex-direction: column;\n",
       "  align-items: center;\n",
       "  background-color: var(--sklearn-color-background);\n",
       "  padding-right: 1em;\n",
       "  padding-left: 1em;\n",
       "}\n",
       "\n",
       "\n",
       "/* Toggleable style: style used for estimator/Pipeline/ColumnTransformer box that is\n",
       "clickable and can be expanded/collapsed.\n",
       "- Pipeline and ColumnTransformer use this feature and define the default style\n",
       "- Estimators will overwrite some part of the style using the `sk-estimator` class\n",
       "*/\n",
       "\n",
       "/* Pipeline and ColumnTransformer style (default) */\n",
       "\n",
       "#sk-container-id-1 div.sk-toggleable {\n",
       "  /* Default theme specific background. It is overwritten whether we have a\n",
       "  specific estimator or a Pipeline/ColumnTransformer */\n",
       "  background-color: var(--sklearn-color-background);\n",
       "}\n",
       "\n",
       "/* Toggleable label */\n",
       "#sk-container-id-1 label.sk-toggleable__label {\n",
       "  cursor: pointer;\n",
       "  display: block;\n",
       "  width: 100%;\n",
       "  margin-bottom: 0;\n",
       "  padding: 0.5em;\n",
       "  box-sizing: border-box;\n",
       "  text-align: center;\n",
       "}\n",
       "\n",
       "#sk-container-id-1 label.sk-toggleable__label-arrow:before {\n",
       "  /* Arrow on the left of the label */\n",
       "  content: \"▸\";\n",
       "  float: left;\n",
       "  margin-right: 0.25em;\n",
       "  color: var(--sklearn-color-icon);\n",
       "}\n",
       "\n",
       "#sk-container-id-1 label.sk-toggleable__label-arrow:hover:before {\n",
       "  color: var(--sklearn-color-text);\n",
       "}\n",
       "\n",
       "/* Toggleable content - dropdown */\n",
       "\n",
       "#sk-container-id-1 div.sk-toggleable__content {\n",
       "  max-height: 0;\n",
       "  max-width: 0;\n",
       "  overflow: hidden;\n",
       "  text-align: left;\n",
       "  /* unfitted */\n",
       "  background-color: var(--sklearn-color-unfitted-level-0);\n",
       "}\n",
       "\n",
       "#sk-container-id-1 div.sk-toggleable__content.fitted {\n",
       "  /* fitted */\n",
       "  background-color: var(--sklearn-color-fitted-level-0);\n",
       "}\n",
       "\n",
       "#sk-container-id-1 div.sk-toggleable__content pre {\n",
       "  margin: 0.2em;\n",
       "  border-radius: 0.25em;\n",
       "  color: var(--sklearn-color-text);\n",
       "  /* unfitted */\n",
       "  background-color: var(--sklearn-color-unfitted-level-0);\n",
       "}\n",
       "\n",
       "#sk-container-id-1 div.sk-toggleable__content.fitted pre {\n",
       "  /* unfitted */\n",
       "  background-color: var(--sklearn-color-fitted-level-0);\n",
       "}\n",
       "\n",
       "#sk-container-id-1 input.sk-toggleable__control:checked~div.sk-toggleable__content {\n",
       "  /* Expand drop-down */\n",
       "  max-height: 200px;\n",
       "  max-width: 100%;\n",
       "  overflow: auto;\n",
       "}\n",
       "\n",
       "#sk-container-id-1 input.sk-toggleable__control:checked~label.sk-toggleable__label-arrow:before {\n",
       "  content: \"▾\";\n",
       "}\n",
       "\n",
       "/* Pipeline/ColumnTransformer-specific style */\n",
       "\n",
       "#sk-container-id-1 div.sk-label input.sk-toggleable__control:checked~label.sk-toggleable__label {\n",
       "  color: var(--sklearn-color-text);\n",
       "  background-color: var(--sklearn-color-unfitted-level-2);\n",
       "}\n",
       "\n",
       "#sk-container-id-1 div.sk-label.fitted input.sk-toggleable__control:checked~label.sk-toggleable__label {\n",
       "  background-color: var(--sklearn-color-fitted-level-2);\n",
       "}\n",
       "\n",
       "/* Estimator-specific style */\n",
       "\n",
       "/* Colorize estimator box */\n",
       "#sk-container-id-1 div.sk-estimator input.sk-toggleable__control:checked~label.sk-toggleable__label {\n",
       "  /* unfitted */\n",
       "  background-color: var(--sklearn-color-unfitted-level-2);\n",
       "}\n",
       "\n",
       "#sk-container-id-1 div.sk-estimator.fitted input.sk-toggleable__control:checked~label.sk-toggleable__label {\n",
       "  /* fitted */\n",
       "  background-color: var(--sklearn-color-fitted-level-2);\n",
       "}\n",
       "\n",
       "#sk-container-id-1 div.sk-label label.sk-toggleable__label,\n",
       "#sk-container-id-1 div.sk-label label {\n",
       "  /* The background is the default theme color */\n",
       "  color: var(--sklearn-color-text-on-default-background);\n",
       "}\n",
       "\n",
       "/* On hover, darken the color of the background */\n",
       "#sk-container-id-1 div.sk-label:hover label.sk-toggleable__label {\n",
       "  color: var(--sklearn-color-text);\n",
       "  background-color: var(--sklearn-color-unfitted-level-2);\n",
       "}\n",
       "\n",
       "/* Label box, darken color on hover, fitted */\n",
       "#sk-container-id-1 div.sk-label.fitted:hover label.sk-toggleable__label.fitted {\n",
       "  color: var(--sklearn-color-text);\n",
       "  background-color: var(--sklearn-color-fitted-level-2);\n",
       "}\n",
       "\n",
       "/* Estimator label */\n",
       "\n",
       "#sk-container-id-1 div.sk-label label {\n",
       "  font-family: monospace;\n",
       "  font-weight: bold;\n",
       "  display: inline-block;\n",
       "  line-height: 1.2em;\n",
       "}\n",
       "\n",
       "#sk-container-id-1 div.sk-label-container {\n",
       "  text-align: center;\n",
       "}\n",
       "\n",
       "/* Estimator-specific */\n",
       "#sk-container-id-1 div.sk-estimator {\n",
       "  font-family: monospace;\n",
       "  border: 1px dotted var(--sklearn-color-border-box);\n",
       "  border-radius: 0.25em;\n",
       "  box-sizing: border-box;\n",
       "  margin-bottom: 0.5em;\n",
       "  /* unfitted */\n",
       "  background-color: var(--sklearn-color-unfitted-level-0);\n",
       "}\n",
       "\n",
       "#sk-container-id-1 div.sk-estimator.fitted {\n",
       "  /* fitted */\n",
       "  background-color: var(--sklearn-color-fitted-level-0);\n",
       "}\n",
       "\n",
       "/* on hover */\n",
       "#sk-container-id-1 div.sk-estimator:hover {\n",
       "  /* unfitted */\n",
       "  background-color: var(--sklearn-color-unfitted-level-2);\n",
       "}\n",
       "\n",
       "#sk-container-id-1 div.sk-estimator.fitted:hover {\n",
       "  /* fitted */\n",
       "  background-color: var(--sklearn-color-fitted-level-2);\n",
       "}\n",
       "\n",
       "/* Specification for estimator info (e.g. \"i\" and \"?\") */\n",
       "\n",
       "/* Common style for \"i\" and \"?\" */\n",
       "\n",
       ".sk-estimator-doc-link,\n",
       "a:link.sk-estimator-doc-link,\n",
       "a:visited.sk-estimator-doc-link {\n",
       "  float: right;\n",
       "  font-size: smaller;\n",
       "  line-height: 1em;\n",
       "  font-family: monospace;\n",
       "  background-color: var(--sklearn-color-background);\n",
       "  border-radius: 1em;\n",
       "  height: 1em;\n",
       "  width: 1em;\n",
       "  text-decoration: none !important;\n",
       "  margin-left: 1ex;\n",
       "  /* unfitted */\n",
       "  border: var(--sklearn-color-unfitted-level-1) 1pt solid;\n",
       "  color: var(--sklearn-color-unfitted-level-1);\n",
       "}\n",
       "\n",
       ".sk-estimator-doc-link.fitted,\n",
       "a:link.sk-estimator-doc-link.fitted,\n",
       "a:visited.sk-estimator-doc-link.fitted {\n",
       "  /* fitted */\n",
       "  border: var(--sklearn-color-fitted-level-1) 1pt solid;\n",
       "  color: var(--sklearn-color-fitted-level-1);\n",
       "}\n",
       "\n",
       "/* On hover */\n",
       "div.sk-estimator:hover .sk-estimator-doc-link:hover,\n",
       ".sk-estimator-doc-link:hover,\n",
       "div.sk-label-container:hover .sk-estimator-doc-link:hover,\n",
       ".sk-estimator-doc-link:hover {\n",
       "  /* unfitted */\n",
       "  background-color: var(--sklearn-color-unfitted-level-3);\n",
       "  color: var(--sklearn-color-background);\n",
       "  text-decoration: none;\n",
       "}\n",
       "\n",
       "div.sk-estimator.fitted:hover .sk-estimator-doc-link.fitted:hover,\n",
       ".sk-estimator-doc-link.fitted:hover,\n",
       "div.sk-label-container:hover .sk-estimator-doc-link.fitted:hover,\n",
       ".sk-estimator-doc-link.fitted:hover {\n",
       "  /* fitted */\n",
       "  background-color: var(--sklearn-color-fitted-level-3);\n",
       "  color: var(--sklearn-color-background);\n",
       "  text-decoration: none;\n",
       "}\n",
       "\n",
       "/* Span, style for the box shown on hovering the info icon */\n",
       ".sk-estimator-doc-link span {\n",
       "  display: none;\n",
       "  z-index: 9999;\n",
       "  position: relative;\n",
       "  font-weight: normal;\n",
       "  right: .2ex;\n",
       "  padding: .5ex;\n",
       "  margin: .5ex;\n",
       "  width: min-content;\n",
       "  min-width: 20ex;\n",
       "  max-width: 50ex;\n",
       "  color: var(--sklearn-color-text);\n",
       "  box-shadow: 2pt 2pt 4pt #999;\n",
       "  /* unfitted */\n",
       "  background: var(--sklearn-color-unfitted-level-0);\n",
       "  border: .5pt solid var(--sklearn-color-unfitted-level-3);\n",
       "}\n",
       "\n",
       ".sk-estimator-doc-link.fitted span {\n",
       "  /* fitted */\n",
       "  background: var(--sklearn-color-fitted-level-0);\n",
       "  border: var(--sklearn-color-fitted-level-3);\n",
       "}\n",
       "\n",
       ".sk-estimator-doc-link:hover span {\n",
       "  display: block;\n",
       "}\n",
       "\n",
       "/* \"?\"-specific style due to the `<a>` HTML tag */\n",
       "\n",
       "#sk-container-id-1 a.estimator_doc_link {\n",
       "  float: right;\n",
       "  font-size: 1rem;\n",
       "  line-height: 1em;\n",
       "  font-family: monospace;\n",
       "  background-color: var(--sklearn-color-background);\n",
       "  border-radius: 1rem;\n",
       "  height: 1rem;\n",
       "  width: 1rem;\n",
       "  text-decoration: none;\n",
       "  /* unfitted */\n",
       "  color: var(--sklearn-color-unfitted-level-1);\n",
       "  border: var(--sklearn-color-unfitted-level-1) 1pt solid;\n",
       "}\n",
       "\n",
       "#sk-container-id-1 a.estimator_doc_link.fitted {\n",
       "  /* fitted */\n",
       "  border: var(--sklearn-color-fitted-level-1) 1pt solid;\n",
       "  color: var(--sklearn-color-fitted-level-1);\n",
       "}\n",
       "\n",
       "/* On hover */\n",
       "#sk-container-id-1 a.estimator_doc_link:hover {\n",
       "  /* unfitted */\n",
       "  background-color: var(--sklearn-color-unfitted-level-3);\n",
       "  color: var(--sklearn-color-background);\n",
       "  text-decoration: none;\n",
       "}\n",
       "\n",
       "#sk-container-id-1 a.estimator_doc_link.fitted:hover {\n",
       "  /* fitted */\n",
       "  background-color: var(--sklearn-color-fitted-level-3);\n",
       "}\n",
       "</style><div id=\"sk-container-id-1\" class=\"sk-top-container\"><div class=\"sk-text-repr-fallback\"><pre>XGBClassifier(base_score=None, booster=None, callbacks=None,\n",
       "              colsample_bylevel=None, colsample_bynode=0.691103396122835,\n",
       "              colsample_bytree=None, device=None, early_stopping_rounds=None,\n",
       "              enable_categorical=False,\n",
       "              eval_metric=&lt;function custom_f1_score at 0x7fc082c98680&gt;,\n",
       "              feature_types=None, gamma=None, grow_policy=None,\n",
       "              importance_type=None, interaction_constraints=None,\n",
       "              learning_rate=0.38428211501676096, max_bin=None,\n",
       "              max_cat_threshold=None, max_cat_to_onehot=None,\n",
       "              max_delta_step=None, max_depth=7, max_leaves=None,\n",
       "              min_child_weight=9, missing=nan, monotone_constraints=None,\n",
       "              multi_strategy=None, n_estimators=8, n_jobs=None,\n",
       "              num_parallel_tree=None, objective=&#x27;multi:softprob&#x27;, ...)</pre><b>In a Jupyter environment, please rerun this cell to show the HTML representation or trust the notebook. <br />On GitHub, the HTML representation is unable to render, please try loading this page with nbviewer.org.</b></div><div class=\"sk-container\" hidden><div class=\"sk-item\"><div class=\"sk-estimator fitted sk-toggleable\"><input class=\"sk-toggleable__control sk-hidden--visually\" id=\"sk-estimator-id-1\" type=\"checkbox\" checked><label for=\"sk-estimator-id-1\" class=\"sk-toggleable__label fitted sk-toggleable__label-arrow fitted\">&nbsp;XGBClassifier<span class=\"sk-estimator-doc-link fitted\">i<span>Fitted</span></span></label><div class=\"sk-toggleable__content fitted\"><pre>XGBClassifier(base_score=None, booster=None, callbacks=None,\n",
       "              colsample_bylevel=None, colsample_bynode=0.691103396122835,\n",
       "              colsample_bytree=None, device=None, early_stopping_rounds=None,\n",
       "              enable_categorical=False,\n",
       "              eval_metric=&lt;function custom_f1_score at 0x7fc082c98680&gt;,\n",
       "              feature_types=None, gamma=None, grow_policy=None,\n",
       "              importance_type=None, interaction_constraints=None,\n",
       "              learning_rate=0.38428211501676096, max_bin=None,\n",
       "              max_cat_threshold=None, max_cat_to_onehot=None,\n",
       "              max_delta_step=None, max_depth=7, max_leaves=None,\n",
       "              min_child_weight=9, missing=nan, monotone_constraints=None,\n",
       "              multi_strategy=None, n_estimators=8, n_jobs=None,\n",
       "              num_parallel_tree=None, objective=&#x27;multi:softprob&#x27;, ...)</pre></div> </div></div></div></div>"
      ],
      "text/plain": [
       "XGBClassifier(base_score=None, booster=None, callbacks=None,\n",
       "              colsample_bylevel=None, colsample_bynode=0.691103396122835,\n",
       "              colsample_bytree=None, device=None, early_stopping_rounds=None,\n",
       "              enable_categorical=False,\n",
       "              eval_metric=<function custom_f1_score at 0x7fc082c98680>,\n",
       "              feature_types=None, gamma=None, grow_policy=None,\n",
       "              importance_type=None, interaction_constraints=None,\n",
       "              learning_rate=0.38428211501676096, max_bin=None,\n",
       "              max_cat_threshold=None, max_cat_to_onehot=None,\n",
       "              max_delta_step=None, max_depth=7, max_leaves=None,\n",
       "              min_child_weight=9, missing=nan, monotone_constraints=None,\n",
       "              multi_strategy=None, n_estimators=8, n_jobs=None,\n",
       "              num_parallel_tree=None, objective='multi:softprob', ...)"
      ]
     },
     "execution_count": 21,
     "metadata": {},
     "output_type": "execute_result"
    }
   ],
   "source": [
    "n_estimators = int(study.best_trial.user_attrs['best_iteration']*1.2)\n",
    "xgb = xgboost.XGBClassifier(\n",
    "        eval_metric=eval_metric,\n",
    "        n_estimators=n_estimators,\n",
    "        **study.best_trial.params\n",
    "    )\n",
    "xgb.fit(\n",
    "    ssp.vstack((X_train, X_val)), \n",
    "    np.concatenate((y_train_enc, y_val_enc)),\n",
    "    verbose=1,\n",
    ")"
   ]
  },
  {
   "cell_type": "code",
   "execution_count": 22,
   "id": "2cbbb0da",
   "metadata": {
    "execution": {
     "iopub.execute_input": "2025-05-15T16:15:58.167019Z",
     "iopub.status.busy": "2025-05-15T16:15:58.166494Z",
     "iopub.status.idle": "2025-05-15T16:15:58.188372Z",
     "shell.execute_reply": "2025-05-15T16:15:58.187966Z"
    },
    "papermill": {
     "duration": 0.034558,
     "end_time": "2025-05-15T16:15:58.189414",
     "exception": false,
     "start_time": "2025-05-15T16:15:58.154856",
     "status": "completed"
    },
    "tags": []
   },
   "outputs": [
    {
     "data": {
      "text/plain": [
       "['/scratch_isilon/groups/singlecell/shared/projects/Inflammation-PBMCs-Atlas/03_downstream_analysis/08_gene_importance/xgboost_external_validation/xgboost_TopN_genes/results_20/best_model/Plasma_14_2_xgb.json']"
      ]
     },
     "execution_count": 22,
     "metadata": {},
     "output_type": "execute_result"
    }
   ],
   "source": [
    "out_dir = here(f'03_downstream_analysis/08_gene_importance/xgboost_external_validation/xgboost_TopN_genes/results_{N_GENES}/best_model')\n",
    "\n",
    "if not os.path.exists(out_dir):\n",
    "    os.makedirs(out_dir)\n",
    "    \n",
    "joblib.dump(xgb, os.path.join(out_dir, f'{CELL_TYPE}_{SEED}_{TEST_SPLIT_IDX}_xgb.json'))"
   ]
  },
  {
   "cell_type": "code",
   "execution_count": 23,
   "id": "36de3ebc",
   "metadata": {
    "execution": {
     "iopub.execute_input": "2025-05-15T16:15:58.210463Z",
     "iopub.status.busy": "2025-05-15T16:15:58.209912Z",
     "iopub.status.idle": "2025-05-15T16:15:58.216906Z",
     "shell.execute_reply": "2025-05-15T16:15:58.216508Z"
    },
    "papermill": {
     "duration": 0.018189,
     "end_time": "2025-05-15T16:15:58.217919",
     "exception": false,
     "start_time": "2025-05-15T16:15:58.199730",
     "status": "completed"
    },
    "tags": []
   },
   "outputs": [],
   "source": [
    "df_pred_test = pd.DataFrame(dict(\n",
    "    cell_id=train_adata.obs.iloc[test_idxs].index.values,\n",
    "    y_true=y_test, \n",
    "    y_true_code=y_test_enc, \n",
    "    y_pred=xgb.predict(X_test))).set_index('cell_id')"
   ]
  },
  {
   "cell_type": "code",
   "execution_count": 24,
   "id": "4fd8a6ef",
   "metadata": {
    "execution": {
     "iopub.execute_input": "2025-05-15T16:15:58.238675Z",
     "iopub.status.busy": "2025-05-15T16:15:58.238183Z",
     "iopub.status.idle": "2025-05-15T16:15:58.250683Z",
     "shell.execute_reply": "2025-05-15T16:15:58.250260Z"
    },
    "papermill": {
     "duration": 0.024069,
     "end_time": "2025-05-15T16:15:58.251734",
     "exception": false,
     "start_time": "2025-05-15T16:15:58.227665",
     "status": "completed"
    },
    "tags": []
   },
   "outputs": [],
   "source": [
    "out_dir = here(f'03_downstream_analysis/08_gene_importance/xgboost_external_validation/xgboost_TopN_genes/results_{N_GENES}/predictions')\n",
    "\n",
    "if not os.path.exists(out_dir):\n",
    "    os.makedirs(out_dir)\n",
    "    \n",
    "df_pred_test.to_csv(os.path.join(out_dir, f'{CELL_TYPE}_{SEED}_{TEST_SPLIT_IDX}_pred_test.zip'))"
   ]
  },
  {
   "cell_type": "code",
   "execution_count": 25,
   "id": "852d30e2",
   "metadata": {
    "execution": {
     "iopub.execute_input": "2025-05-15T16:15:58.271797Z",
     "iopub.status.busy": "2025-05-15T16:15:58.271435Z",
     "iopub.status.idle": "2025-05-15T16:15:58.277549Z",
     "shell.execute_reply": "2025-05-15T16:15:58.277185Z"
    },
    "papermill": {
     "duration": 0.016926,
     "end_time": "2025-05-15T16:15:58.278532",
     "exception": false,
     "start_time": "2025-05-15T16:15:58.261606",
     "status": "completed"
    },
    "tags": []
   },
   "outputs": [],
   "source": [
    "metrics_dict = dict(\n",
    "    BAS=balanced_accuracy_score(y_true=df_pred_test.y_true_code, y_pred=df_pred_test.y_pred), WF1=f1_score(y_true=df_pred_test.y_true_code, y_pred=df_pred_test.y_pred,average='weighted'))"
   ]
  },
  {
   "cell_type": "code",
   "execution_count": 26,
   "id": "34bd9dd2",
   "metadata": {
    "execution": {
     "iopub.execute_input": "2025-05-15T16:15:58.298856Z",
     "iopub.status.busy": "2025-05-15T16:15:58.298410Z",
     "iopub.status.idle": "2025-05-15T16:15:58.301528Z",
     "shell.execute_reply": "2025-05-15T16:15:58.301178Z"
    },
    "papermill": {
     "duration": 0.01451,
     "end_time": "2025-05-15T16:15:58.302466",
     "exception": false,
     "start_time": "2025-05-15T16:15:58.287956",
     "status": "completed"
    },
    "tags": []
   },
   "outputs": [
    {
     "data": {
      "text/plain": [
       "{'BAS': 0.2274563671622495, 'WF1': 0.43829687620537294}"
      ]
     },
     "execution_count": 26,
     "metadata": {},
     "output_type": "execute_result"
    }
   ],
   "source": [
    "metrics_dict"
   ]
  },
  {
   "cell_type": "code",
   "execution_count": 27,
   "id": "0cd87667",
   "metadata": {
    "execution": {
     "iopub.execute_input": "2025-05-15T16:15:58.324101Z",
     "iopub.status.busy": "2025-05-15T16:15:58.323872Z",
     "iopub.status.idle": "2025-05-15T16:15:58.332726Z",
     "shell.execute_reply": "2025-05-15T16:15:58.332381Z"
    },
    "papermill": {
     "duration": 0.021213,
     "end_time": "2025-05-15T16:15:58.333781",
     "exception": false,
     "start_time": "2025-05-15T16:15:58.312568",
     "status": "completed"
    },
    "tags": []
   },
   "outputs": [
    {
     "data": {
      "text/html": [
       "<div>\n",
       "<style scoped>\n",
       "    .dataframe tbody tr th:only-of-type {\n",
       "        vertical-align: middle;\n",
       "    }\n",
       "\n",
       "    .dataframe tbody tr th {\n",
       "        vertical-align: top;\n",
       "    }\n",
       "\n",
       "    .dataframe thead th {\n",
       "        text-align: right;\n",
       "    }\n",
       "</style>\n",
       "<table border=\"1\" class=\"dataframe\">\n",
       "  <thead>\n",
       "    <tr style=\"text-align: right;\">\n",
       "      <th></th>\n",
       "      <th>BAS</th>\n",
       "      <th>WF1</th>\n",
       "      <th>split_idx</th>\n",
       "      <th>gene_set_seed</th>\n",
       "      <th>cell_type</th>\n",
       "    </tr>\n",
       "  </thead>\n",
       "  <tbody>\n",
       "    <tr>\n",
       "      <th>0</th>\n",
       "      <td>0.227456</td>\n",
       "      <td>0.438297</td>\n",
       "      <td>2</td>\n",
       "      <td>14</td>\n",
       "      <td>Plasma</td>\n",
       "    </tr>\n",
       "  </tbody>\n",
       "</table>\n",
       "</div>"
      ],
      "text/plain": [
       "        BAS       WF1  split_idx  gene_set_seed cell_type\n",
       "0  0.227456  0.438297          2             14    Plasma"
      ]
     },
     "execution_count": 27,
     "metadata": {},
     "output_type": "execute_result"
    }
   ],
   "source": [
    "metrics_df = pd.DataFrame.from_dict([metrics_dict]).assign(split_idx=TEST_SPLIT_IDX, gene_set_seed=SEED, cell_type=CELL_TYPE)\n",
    "metrics_df"
   ]
  },
  {
   "cell_type": "code",
   "execution_count": 28,
   "id": "31740018",
   "metadata": {
    "execution": {
     "iopub.execute_input": "2025-05-15T16:15:58.356594Z",
     "iopub.status.busy": "2025-05-15T16:15:58.355914Z",
     "iopub.status.idle": "2025-05-15T16:15:58.406919Z",
     "shell.execute_reply": "2025-05-15T16:15:58.406421Z"
    },
    "papermill": {
     "duration": 0.063514,
     "end_time": "2025-05-15T16:15:58.407970",
     "exception": false,
     "start_time": "2025-05-15T16:15:58.344456",
     "status": "completed"
    },
    "tags": []
   },
   "outputs": [],
   "source": [
    "out_dir = here(f'03_downstream_analysis/08_gene_importance/xgboost_external_validation/xgboost_TopN_genes/results_{N_GENES}/metrics')\n",
    "\n",
    "if not os.path.exists(out_dir):\n",
    "    os.makedirs(out_dir)\n",
    "    \n",
    "metrics_df.to_csv(os.path.join(out_dir, f'{CELL_TYPE}_{SEED}_{TEST_SPLIT_IDX}_metrics.zip'))"
   ]
  }
 ],
 "metadata": {
  "kernelspec": {
   "display_name": "Python 3 (ipykernel)",
   "language": "python",
   "name": "python3"
  },
  "language_info": {
   "codemirror_mode": {
    "name": "ipython",
    "version": 3
   },
   "file_extension": ".py",
   "mimetype": "text/x-python",
   "name": "python",
   "nbconvert_exporter": "python",
   "pygments_lexer": "ipython3",
   "version": "3.12.5"
  },
  "papermill": {
   "default_parameters": {},
   "duration": 16.17924,
   "end_time": "2025-05-15T16:15:59.036234",
   "environment_variables": {},
   "exception": null,
   "input_path": "02_xgboost_fitting_external_20genes.ipynb",
   "output_path": "results_20/executed_notebooks/xgboost_fitting_external_CT_Plasma_GS_14_seed2.ipynb",
   "parameters": {
    "CELL_TYPE": "Plasma",
    "SEED": 14,
    "TEST_SPLIT_IDX": 2
   },
   "start_time": "2025-05-15T16:15:42.856994",
   "version": "2.6.0"
  }
 },
 "nbformat": 4,
 "nbformat_minor": 5
}