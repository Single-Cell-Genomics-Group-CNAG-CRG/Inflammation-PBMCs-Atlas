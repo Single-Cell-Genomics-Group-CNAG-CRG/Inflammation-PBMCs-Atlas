{
 "cells": [
  {
   "cell_type": "code",
   "execution_count": 1,
   "id": "3deb6d90",
   "metadata": {
    "editable": true,
    "execution": {
     "iopub.execute_input": "2025-05-15T16:15:29.018728Z",
     "iopub.status.busy": "2025-05-15T16:15:29.018494Z",
     "iopub.status.idle": "2025-05-15T16:15:29.021326Z",
     "shell.execute_reply": "2025-05-15T16:15:29.021015Z"
    },
    "papermill": {
     "duration": 0.011614,
     "end_time": "2025-05-15T16:15:29.022260",
     "exception": false,
     "start_time": "2025-05-15T16:15:29.010646",
     "status": "completed"
    },
    "slideshow": {
     "slide_type": ""
    },
    "tags": [
     "parameters"
    ]
   },
   "outputs": [],
   "source": [
    "CELL_TYPE = 'pDC'\n",
    "N_GENES: int = 20\n",
    "SEED = 'shap_studyID' #'disease_NOstudy' 'study_NOdisease' or 'int' or 'shap_studyID'\n",
    "TEST_SPLIT_IDX: int = 1 #[0,4]"
   ]
  },
  {
   "cell_type": "code",
   "execution_count": 2,
   "id": "2082e3b3",
   "metadata": {
    "execution": {
     "iopub.execute_input": "2025-05-15T16:15:29.033933Z",
     "iopub.status.busy": "2025-05-15T16:15:29.033750Z",
     "iopub.status.idle": "2025-05-15T16:15:29.036483Z",
     "shell.execute_reply": "2025-05-15T16:15:29.036178Z"
    },
    "papermill": {
     "duration": 0.009323,
     "end_time": "2025-05-15T16:15:29.037354",
     "exception": false,
     "start_time": "2025-05-15T16:15:29.028031",
     "status": "completed"
    },
    "tags": [
     "injected-parameters"
    ]
   },
   "outputs": [],
   "source": [
    "# Parameters\n",
    "CELL_TYPE = \"Plasma\"\n",
    "SEED = 5\n",
    "TEST_SPLIT_IDX = 2\n"
   ]
  },
  {
   "cell_type": "code",
   "execution_count": 3,
   "id": "fc7ae8ce",
   "metadata": {
    "execution": {
     "iopub.execute_input": "2025-05-15T16:15:29.049280Z",
     "iopub.status.busy": "2025-05-15T16:15:29.049016Z",
     "iopub.status.idle": "2025-05-15T16:15:29.051737Z",
     "shell.execute_reply": "2025-05-15T16:15:29.051244Z"
    },
    "papermill": {
     "duration": 0.009688,
     "end_time": "2025-05-15T16:15:29.052649",
     "exception": false,
     "start_time": "2025-05-15T16:15:29.042961",
     "status": "completed"
    },
    "tags": []
   },
   "outputs": [],
   "source": [
    "N_SPLITS: int = 5\n",
    "N_TRIALS: int = 50"
   ]
  },
  {
   "cell_type": "code",
   "execution_count": 4,
   "id": "d3ad5b8d",
   "metadata": {
    "execution": {
     "iopub.execute_input": "2025-05-15T16:15:29.065126Z",
     "iopub.status.busy": "2025-05-15T16:15:29.064917Z",
     "iopub.status.idle": "2025-05-15T16:15:30.714570Z",
     "shell.execute_reply": "2025-05-15T16:15:30.714014Z"
    },
    "papermill": {
     "duration": 1.657941,
     "end_time": "2025-05-15T16:15:30.715916",
     "exception": false,
     "start_time": "2025-05-15T16:15:29.057975",
     "status": "completed"
    },
    "tags": []
   },
   "outputs": [],
   "source": [
    "import os\n",
    "import sys\n",
    "from pyprojroot.here import here\n",
    "import pandas as pd\n",
    "import anndata as ad\n",
    "import numpy as np\n",
    "import math\n",
    "from sklearn.model_selection import StratifiedGroupKFold\n",
    "from sklearn.preprocessing import LabelEncoder\n",
    "from sklearn.metrics import f1_score\n",
    "import matplotlib.pyplot as plt\n",
    "import seaborn as sns\n",
    "from itertools import product\n",
    "from sklearn.metrics import balanced_accuracy_score, f1_score\n",
    "import optuna\n",
    "\n",
    "import joblib\n",
    "import pickle\n",
    "import datetime\n",
    "\n",
    "import collections\n",
    "\n",
    "import xgboost\n",
    "from sklearn.preprocessing import LabelEncoder\n",
    "\n",
    "import scipy.sparse as ssp\n",
    "import joblib\n",
    "\n",
    "from dotenv import load_dotenv"
   ]
  },
  {
   "cell_type": "code",
   "execution_count": 5,
   "id": "a7b9b4f9",
   "metadata": {
    "execution": {
     "iopub.execute_input": "2025-05-15T16:15:30.730876Z",
     "iopub.status.busy": "2025-05-15T16:15:30.730544Z",
     "iopub.status.idle": "2025-05-15T16:15:30.736976Z",
     "shell.execute_reply": "2025-05-15T16:15:30.736669Z"
    },
    "papermill": {
     "duration": 0.013756,
     "end_time": "2025-05-15T16:15:30.737763",
     "exception": false,
     "start_time": "2025-05-15T16:15:30.724007",
     "status": "completed"
    },
    "tags": []
   },
   "outputs": [
    {
     "data": {
      "text/plain": [
       "True"
      ]
     },
     "execution_count": 5,
     "metadata": {},
     "output_type": "execute_result"
    }
   ],
   "source": [
    "load_dotenv()"
   ]
  },
  {
   "cell_type": "markdown",
   "id": "9d54b48b",
   "metadata": {
    "papermill": {
     "duration": 0.005614,
     "end_time": "2025-05-15T16:15:30.752894",
     "exception": false,
     "start_time": "2025-05-15T16:15:30.747280",
     "status": "completed"
    },
    "tags": []
   },
   "source": [
    "# LOAD DATASET"
   ]
  },
  {
   "cell_type": "code",
   "execution_count": 6,
   "id": "9983f4f2",
   "metadata": {
    "execution": {
     "iopub.execute_input": "2025-05-15T16:15:30.764934Z",
     "iopub.status.busy": "2025-05-15T16:15:30.764409Z",
     "iopub.status.idle": "2025-05-15T16:15:30.804742Z",
     "shell.execute_reply": "2025-05-15T16:15:30.804325Z"
    },
    "papermill": {
     "duration": 0.047312,
     "end_time": "2025-05-15T16:15:30.805794",
     "exception": false,
     "start_time": "2025-05-15T16:15:30.758482",
     "status": "completed"
    },
    "tags": []
   },
   "outputs": [],
   "source": [
    "train_adata = ad.read_h5ad(\n",
    "    here(f'03_downstream_analysis/08_gene_importance/xgboost_external_validation/xgboost_TopN_genes/data_cellTypes/EXTERNAL_{CELL_TYPE}.filtered.log1p.h5ad')\n",
    ")"
   ]
  },
  {
   "cell_type": "code",
   "execution_count": 7,
   "id": "c12ef96d",
   "metadata": {
    "execution": {
     "iopub.execute_input": "2025-05-15T16:15:30.817845Z",
     "iopub.status.busy": "2025-05-15T16:15:30.817540Z",
     "iopub.status.idle": "2025-05-15T16:15:30.827052Z",
     "shell.execute_reply": "2025-05-15T16:15:30.826743Z"
    },
    "papermill": {
     "duration": 0.016377,
     "end_time": "2025-05-15T16:15:30.827962",
     "exception": false,
     "start_time": "2025-05-15T16:15:30.811585",
     "status": "completed"
    },
    "tags": []
   },
   "outputs": [
    {
     "name": "stdout",
     "output_type": "stream",
     "text": [
      "['ENSG00000117523' 'ENSG00000244687' 'ENSG00000155368' 'ENSG00000197956'\n",
      " 'ENSG00000143110' 'ENSG00000112561' 'ENSG00000114423' 'ENSG00000178562'\n",
      " 'ENSG00000254087' 'ENSG00000184557' 'ENSG00000079805' 'ENSG00000170476'\n",
      " 'ENSG00000118260' 'ENSG00000115884' 'ENSG00000258315' 'ENSG00000115145'\n",
      " 'ENSG00000231389' 'ENSG00000134470' 'ENSG00000009790' 'ENSG00000145220'\n",
      " 'ENSG00000204843' 'ENSG00000170581' 'ENSG00000123268' 'ENSG00000141526'\n",
      " 'ENSG00000107223' 'ENSG00000111796' 'ENSG00000136997' 'ENSG00000001167'\n",
      " 'ENSG00000089327' 'ENSG00000239713' 'ENSG00000130724' 'ENSG00000106605'\n",
      " 'ENSG00000152219' 'ENSG00000179218' 'ENSG00000169442' 'ENSG00000204257'\n",
      " 'ENSG00000140379' 'ENSG00000127951' 'ENSG00000027697' 'ENSG00000030110'\n",
      " 'ENSG00000170458' 'ENSG00000006125' 'ENSG00000133134' 'ENSG00000137193'\n",
      " 'ENSG00000100911' 'ENSG00000111335' 'ENSG00000130830' 'ENSG00000100902'\n",
      " 'ENSG00000104904' 'ENSG00000197965' 'ENSG00000107485' 'ENSG00000100365'\n",
      " 'ENSG00000164483' 'ENSG00000137441' 'ENSG00000172005' 'ENSG00000138107'\n",
      " 'ENSG00000100934' 'ENSG00000180008' 'ENSG00000090266' 'ENSG00000145850'\n",
      " 'ENSG00000164543' 'ENSG00000138160' 'ENSG00000104660' 'ENSG00000105851'\n",
      " 'ENSG00000042980' 'ENSG00000106588' 'ENSG00000051382' 'ENSG00000156738'\n",
      " 'ENSG00000105583' 'ENSG00000137331' 'ENSG00000106367' 'ENSG00000115523'\n",
      " 'ENSG00000100453' 'ENSG00000160710' 'ENSG00000089280' 'ENSG00000157873'\n",
      " 'ENSG00000158769' 'ENSG00000121879' 'ENSG00000169564' 'ENSG00000100385'\n",
      " 'ENSG00000171223' 'ENSG00000198668' 'ENSG00000197111' 'ENSG00000117602'\n",
      " 'ENSG00000030582' 'ENSG00000184752' 'ENSG00000173812' 'ENSG00000165527'\n",
      " 'ENSG00000176986' 'ENSG00000231925' 'ENSG00000172009' 'ENSG00000197329'\n",
      " 'ENSG00000197747' 'ENSG00000100368' 'ENSG00000026103' 'ENSG00000092820'\n",
      " 'ENSG00000122862' 'ENSG00000162704' 'ENSG00000104763' 'ENSG00000127184'\n",
      " 'ENSG00000172543' 'ENSG00000175768' 'ENSG00000243646' 'ENSG00000142089'\n",
      " 'ENSG00000136156' 'ENSG00000203747' 'ENSG00000077150']\n"
     ]
    }
   ],
   "source": [
    "if SEED != 'all':\n",
    "    gene_subset = np.load(here(f'03_downstream_analysis/08_gene_importance/xgboost_external_validation/shap_gene_selection/gene_subsets_{N_GENES}/{CELL_TYPE}_{SEED}.npy'), allow_pickle=True)\n",
    "    train_adata = train_adata[:,gene_subset]\n",
    "    print(gene_subset)\n",
    "elif SEED == 'all':\n",
    "    print('Using all genes')\n",
    "else:\n",
    "    raise ValueError()"
   ]
  },
  {
   "cell_type": "code",
   "execution_count": 8,
   "id": "8ccccb6f",
   "metadata": {
    "execution": {
     "iopub.execute_input": "2025-05-15T16:15:30.839940Z",
     "iopub.status.busy": "2025-05-15T16:15:30.839690Z",
     "iopub.status.idle": "2025-05-15T16:15:30.843757Z",
     "shell.execute_reply": "2025-05-15T16:15:30.843443Z"
    },
    "papermill": {
     "duration": 0.011247,
     "end_time": "2025-05-15T16:15:30.844597",
     "exception": false,
     "start_time": "2025-05-15T16:15:30.833350",
     "status": "completed"
    },
    "tags": []
   },
   "outputs": [
    {
     "data": {
      "text/plain": [
       "(542, 107)"
      ]
     },
     "execution_count": 8,
     "metadata": {},
     "output_type": "execute_result"
    }
   ],
   "source": [
    "train_adata.shape"
   ]
  },
  {
   "cell_type": "code",
   "execution_count": 9,
   "id": "9b621c70",
   "metadata": {
    "execution": {
     "iopub.execute_input": "2025-05-15T16:15:30.856591Z",
     "iopub.status.busy": "2025-05-15T16:15:30.856363Z",
     "iopub.status.idle": "2025-05-15T16:15:30.859922Z",
     "shell.execute_reply": "2025-05-15T16:15:30.859627Z"
    },
    "papermill": {
     "duration": 0.010521,
     "end_time": "2025-05-15T16:15:30.860734",
     "exception": false,
     "start_time": "2025-05-15T16:15:30.850213",
     "status": "completed"
    },
    "tags": []
   },
   "outputs": [
    {
     "data": {
      "text/plain": [
       "['RA', 'COVID', 'healthy', 'HIV', 'cirrhosis', 'CD', 'SLE', 'sepsis']\n",
       "Categories (8, object): ['CD', 'COVID', 'HIV', 'RA', 'SLE', 'cirrhosis', 'healthy', 'sepsis']"
      ]
     },
     "execution_count": 9,
     "metadata": {},
     "output_type": "execute_result"
    }
   ],
   "source": [
    "train_adata.obs.disease.unique()"
   ]
  },
  {
   "cell_type": "code",
   "execution_count": 10,
   "id": "c99d8c5a",
   "metadata": {
    "execution": {
     "iopub.execute_input": "2025-05-15T16:15:30.882658Z",
     "iopub.status.busy": "2025-05-15T16:15:30.882162Z",
     "iopub.status.idle": "2025-05-15T16:15:30.885756Z",
     "shell.execute_reply": "2025-05-15T16:15:30.885437Z"
    },
    "papermill": {
     "duration": 0.010708,
     "end_time": "2025-05-15T16:15:30.886563",
     "exception": false,
     "start_time": "2025-05-15T16:15:30.875855",
     "status": "completed"
    },
    "tags": []
   },
   "outputs": [
    {
     "data": {
      "text/plain": [
       "['SCGT00val_I0364_T0', 'SCGT00val_I036019_T0', 'SCGT00val_I036028_T0', 'SCGT00val_I036024_T0', 'SCGT00val_I036016_T0', ..., '10XGenomics_10XHC2_T0', '10XGenomics_10XHC3_T0', '10XGenomics_10XHC5_T0', '10XGenomics_10XHC7_T0', '10XGenomics_10XHC8_T0']\n",
       "Length: 74\n",
       "Categories (74, object): ['10XGenomics_10XHC1_T0', '10XGenomics_10XHC2_T0', '10XGenomics_10XHC3_T0', '10XGenomics_10XHC4_T0', ..., 'Savage2021_BRISL6_T0', 'Savage2021_BRISL7_T0', 'Savage2021_PIDA_T0', 'Savage2021_PIDB_T0']"
      ]
     },
     "execution_count": 10,
     "metadata": {},
     "output_type": "execute_result"
    }
   ],
   "source": [
    "train_adata.obs.sampleID.unique()"
   ]
  },
  {
   "cell_type": "code",
   "execution_count": 11,
   "id": "f3ce0a2f",
   "metadata": {
    "execution": {
     "iopub.execute_input": "2025-05-15T16:15:30.898668Z",
     "iopub.status.busy": "2025-05-15T16:15:30.898417Z",
     "iopub.status.idle": "2025-05-15T16:15:30.927065Z",
     "shell.execute_reply": "2025-05-15T16:15:30.926564Z"
    },
    "papermill": {
     "duration": 0.035549,
     "end_time": "2025-05-15T16:15:30.927931",
     "exception": false,
     "start_time": "2025-05-15T16:15:30.892382",
     "status": "completed"
    },
    "tags": []
   },
   "outputs": [],
   "source": [
    "all_idxs = np.arange(train_adata.obs.shape[0])\n",
    "left_out_splits = [s[1] for s in StratifiedGroupKFold(n_splits=N_SPLITS).split(all_idxs, train_adata.obs.disease, train_adata.obs.sampleID)]"
   ]
  },
  {
   "cell_type": "code",
   "execution_count": 12,
   "id": "4b79dafe",
   "metadata": {
    "execution": {
     "iopub.execute_input": "2025-05-15T16:15:30.940427Z",
     "iopub.status.busy": "2025-05-15T16:15:30.939961Z",
     "iopub.status.idle": "2025-05-15T16:15:30.943135Z",
     "shell.execute_reply": "2025-05-15T16:15:30.942821Z"
    },
    "papermill": {
     "duration": 0.010158,
     "end_time": "2025-05-15T16:15:30.943987",
     "exception": false,
     "start_time": "2025-05-15T16:15:30.933829",
     "status": "completed"
    },
    "tags": []
   },
   "outputs": [
    {
     "data": {
      "text/plain": [
       "([0, 1, 4], 3, 2)"
      ]
     },
     "execution_count": 12,
     "metadata": {},
     "output_type": "execute_result"
    }
   ],
   "source": [
    "TRAIN_SPLIT_IDXS = [0,1,2,3,4]\n",
    "VAL_SPLIT_IDX = (TEST_SPLIT_IDX + 1) % 5\n",
    "TRAIN_SPLIT_IDXS.remove(TEST_SPLIT_IDX)\n",
    "TRAIN_SPLIT_IDXS.remove(VAL_SPLIT_IDX)\n",
    "TRAIN_SPLIT_IDXS, VAL_SPLIT_IDX, TEST_SPLIT_IDX"
   ]
  },
  {
   "cell_type": "code",
   "execution_count": 13,
   "id": "9f1c41b5",
   "metadata": {
    "execution": {
     "iopub.execute_input": "2025-05-15T16:15:30.956503Z",
     "iopub.status.busy": "2025-05-15T16:15:30.956312Z",
     "iopub.status.idle": "2025-05-15T16:15:30.958740Z",
     "shell.execute_reply": "2025-05-15T16:15:30.958431Z"
    },
    "papermill": {
     "duration": 0.009851,
     "end_time": "2025-05-15T16:15:30.959565",
     "exception": false,
     "start_time": "2025-05-15T16:15:30.949714",
     "status": "completed"
    },
    "tags": []
   },
   "outputs": [],
   "source": [
    "train_idxs = np.concatenate([left_out_splits[idx] for idx in TRAIN_SPLIT_IDXS])\n",
    "val_idxs = left_out_splits[VAL_SPLIT_IDX]\n",
    "test_idxs = left_out_splits[TEST_SPLIT_IDX]"
   ]
  },
  {
   "cell_type": "markdown",
   "id": "8ff2b638",
   "metadata": {
    "papermill": {
     "duration": 0.00558,
     "end_time": "2025-05-15T16:15:30.970699",
     "exception": false,
     "start_time": "2025-05-15T16:15:30.965119",
     "status": "completed"
    },
    "tags": []
   },
   "source": [
    "### SUBSET DATASET INTO TRAIN/TEST/VAL SPLITS"
   ]
  },
  {
   "cell_type": "code",
   "execution_count": 14,
   "id": "b8c07f2e",
   "metadata": {
    "execution": {
     "iopub.execute_input": "2025-05-15T16:15:30.982732Z",
     "iopub.status.busy": "2025-05-15T16:15:30.982552Z",
     "iopub.status.idle": "2025-05-15T16:15:30.989086Z",
     "shell.execute_reply": "2025-05-15T16:15:30.988787Z"
    },
    "papermill": {
     "duration": 0.01322,
     "end_time": "2025-05-15T16:15:30.989857",
     "exception": false,
     "start_time": "2025-05-15T16:15:30.976637",
     "status": "completed"
    },
    "tags": []
   },
   "outputs": [
    {
     "data": {
      "text/plain": [
       "((341, 107), (102, 107), (99, 107))"
      ]
     },
     "execution_count": 14,
     "metadata": {},
     "output_type": "execute_result"
    }
   ],
   "source": [
    "X_train = train_adata.X[train_idxs]\n",
    "X_test = train_adata.X[test_idxs]\n",
    "X_val = train_adata.X[val_idxs]\n",
    "X_train.shape, X_test.shape, X_val.shape"
   ]
  },
  {
   "cell_type": "code",
   "execution_count": 15,
   "id": "3c6846a5",
   "metadata": {
    "execution": {
     "iopub.execute_input": "2025-05-15T16:15:31.002512Z",
     "iopub.status.busy": "2025-05-15T16:15:31.002146Z",
     "iopub.status.idle": "2025-05-15T16:15:31.006803Z",
     "shell.execute_reply": "2025-05-15T16:15:31.006485Z"
    },
    "papermill": {
     "duration": 0.011815,
     "end_time": "2025-05-15T16:15:31.007687",
     "exception": false,
     "start_time": "2025-05-15T16:15:30.995872",
     "status": "completed"
    },
    "tags": []
   },
   "outputs": [
    {
     "data": {
      "text/plain": [
       "((341,), (102,), (99,))"
      ]
     },
     "execution_count": 15,
     "metadata": {},
     "output_type": "execute_result"
    }
   ],
   "source": [
    "y_train = train_adata.obs.iloc[train_idxs].disease.values.astype(str)\n",
    "y_test = train_adata.obs.iloc[test_idxs].disease.values.astype(str)\n",
    "y_val = train_adata.obs.iloc[val_idxs].disease.values.astype(str)\n",
    "y_train.shape, y_test.shape, y_val.shape"
   ]
  },
  {
   "cell_type": "code",
   "execution_count": 16,
   "id": "5f012530",
   "metadata": {
    "execution": {
     "iopub.execute_input": "2025-05-15T16:15:31.020207Z",
     "iopub.status.busy": "2025-05-15T16:15:31.019945Z",
     "iopub.status.idle": "2025-05-15T16:15:31.022659Z",
     "shell.execute_reply": "2025-05-15T16:15:31.022346Z"
    },
    "papermill": {
     "duration": 0.009665,
     "end_time": "2025-05-15T16:15:31.023463",
     "exception": false,
     "start_time": "2025-05-15T16:15:31.013798",
     "status": "completed"
    },
    "tags": []
   },
   "outputs": [],
   "source": [
    "lenc = LabelEncoder()\n",
    "y_train_enc = lenc.fit_transform(y_train)\n",
    "y_val_enc = lenc.transform(y_val)\n",
    "y_test_enc = lenc.transform(y_test)"
   ]
  },
  {
   "cell_type": "markdown",
   "id": "f4dd188c",
   "metadata": {
    "papermill": {
     "duration": 0.006305,
     "end_time": "2025-05-15T16:15:31.038586",
     "exception": false,
     "start_time": "2025-05-15T16:15:31.032281",
     "status": "completed"
    },
    "tags": []
   },
   "source": [
    "### GENERATE F1 "
   ]
  },
  {
   "cell_type": "code",
   "execution_count": 17,
   "id": "0be775de",
   "metadata": {
    "execution": {
     "iopub.execute_input": "2025-05-15T16:15:31.051603Z",
     "iopub.status.busy": "2025-05-15T16:15:31.051366Z",
     "iopub.status.idle": "2025-05-15T16:15:31.054502Z",
     "shell.execute_reply": "2025-05-15T16:15:31.054178Z"
    },
    "papermill": {
     "duration": 0.010983,
     "end_time": "2025-05-15T16:15:31.055360",
     "exception": false,
     "start_time": "2025-05-15T16:15:31.044377",
     "status": "completed"
    },
    "tags": []
   },
   "outputs": [],
   "source": [
    "def custom_f1_score(y_true, y_pred):\n",
    "    return -f1_score(y_true, y_pred.argmax(1), average='weighted')"
   ]
  },
  {
   "cell_type": "code",
   "execution_count": 18,
   "id": "8588bb6b",
   "metadata": {
    "execution": {
     "iopub.execute_input": "2025-05-15T16:15:31.067902Z",
     "iopub.status.busy": "2025-05-15T16:15:31.067627Z",
     "iopub.status.idle": "2025-05-15T16:15:31.071716Z",
     "shell.execute_reply": "2025-05-15T16:15:31.071384Z"
    },
    "papermill": {
     "duration": 0.011069,
     "end_time": "2025-05-15T16:15:31.072496",
     "exception": false,
     "start_time": "2025-05-15T16:15:31.061427",
     "status": "completed"
    },
    "tags": []
   },
   "outputs": [],
   "source": [
    "eval_metric=custom_f1_score\n",
    "eval_metric_name='custom_f1_score'\n",
    "\n",
    "def objective(trial):\n",
    "    params = {\n",
    "        'n_estimators': 1500,\n",
    "        'max_depth': trial.suggest_int('max_depth', 3, 20),\n",
    "        'min_child_weight': trial.suggest_int('min_child_weight', 1, 250),\n",
    "        'subsample': trial.suggest_float('subsample', 0.1, 1.0),\n",
    "        'colsample_bynode': trial.suggest_float('colsample_bynode', 0.1, 1.0),\n",
    "        'learning_rate': trial.suggest_float('learning_rate', 1e-3, 5e-1, log=True),\n",
    "    }\n",
    "    pruning_callback = optuna.integration.XGBoostPruningCallback(trial, f'validation_0-{eval_metric_name}')\n",
    "    es_callback = xgboost.callback.EarlyStopping(20, min_delta=0.001)\n",
    "    xgb = xgboost.XGBClassifier(\n",
    "        eval_metric=eval_metric,\n",
    "        callbacks=[pruning_callback, es_callback],\n",
    "        n_jobs=5,\n",
    "        **params\n",
    "    )\n",
    "    xgb.fit(\n",
    "        X_train, \n",
    "        y_train_enc, \n",
    "        verbose=0,\n",
    "        eval_set=[(X_val, y_val_enc)],\n",
    "    )\n",
    "    trial.set_user_attr('best_iteration', xgb.best_iteration)\n",
    "\n",
    "    return xgb.best_score"
   ]
  },
  {
   "cell_type": "code",
   "execution_count": 19,
   "id": "2370c2f5",
   "metadata": {
    "execution": {
     "iopub.execute_input": "2025-05-15T16:15:31.085649Z",
     "iopub.status.busy": "2025-05-15T16:15:31.085239Z",
     "iopub.status.idle": "2025-05-15T16:15:42.008388Z",
     "shell.execute_reply": "2025-05-15T16:15:42.007982Z"
    },
    "papermill": {
     "duration": 10.930451,
     "end_time": "2025-05-15T16:15:42.009362",
     "exception": false,
     "start_time": "2025-05-15T16:15:31.078911",
     "status": "completed"
    },
    "scrolled": true,
    "tags": []
   },
   "outputs": [
    {
     "name": "stderr",
     "output_type": "stream",
     "text": [
      "[I 2025-05-15 18:15:31,086] A new study created in memory with name: no-name-b84625e1-8434-49f8-aa11-bba823687c03\n"
     ]
    },
    {
     "name": "stderr",
     "output_type": "stream",
     "text": [
      "[I 2025-05-15 18:15:31,188] Trial 0 finished with value: -0.022222 and parameters: {'max_depth': 9, 'min_child_weight': 238, 'subsample': 0.7587945476302645, 'colsample_bynode': 0.6387926357773329, 'learning_rate': 0.0026368755339723046}. Best is trial 0 with value: -0.022222.\n"
     ]
    },
    {
     "name": "stderr",
     "output_type": "stream",
     "text": [
      "[I 2025-05-15 18:15:31,508] Trial 1 finished with value: -0.484147 and parameters: {'max_depth': 5, 'min_child_weight': 15, 'subsample': 0.8795585311974417, 'colsample_bynode': 0.6410035105688879, 'learning_rate': 0.08148293210105287}. Best is trial 1 with value: -0.484147.\n"
     ]
    },
    {
     "name": "stderr",
     "output_type": "stream",
     "text": [
      "[I 2025-05-15 18:15:31,655] Trial 2 finished with value: -0.022222 and parameters: {'max_depth': 3, 'min_child_weight': 243, 'subsample': 0.8491983767203796, 'colsample_bynode': 0.29110519961044856, 'learning_rate': 0.003095566460242371}. Best is trial 1 with value: -0.484147.\n"
     ]
    },
    {
     "name": "stderr",
     "output_type": "stream",
     "text": [
      "[I 2025-05-15 18:15:31,800] Trial 3 finished with value: -0.022222 and parameters: {'max_depth': 6, 'min_child_weight': 77, 'subsample': 0.5722807884690141, 'colsample_bynode': 0.48875051677790415, 'learning_rate': 0.006109683510122491}. Best is trial 1 with value: -0.484147.\n"
     ]
    },
    {
     "name": "stderr",
     "output_type": "stream",
     "text": [
      "[I 2025-05-15 18:15:31,942] Trial 4 finished with value: -0.022222 and parameters: {'max_depth': 14, 'min_child_weight': 35, 'subsample': 0.3629301836816964, 'colsample_bynode': 0.4297256589643226, 'learning_rate': 0.01701841881702917}. Best is trial 1 with value: -0.484147.\n"
     ]
    },
    {
     "name": "stderr",
     "output_type": "stream",
     "text": [
      "[I 2025-05-15 18:15:32,085] Trial 5 finished with value: -0.022222 and parameters: {'max_depth': 17, 'min_child_weight': 50, 'subsample': 0.5628109945722505, 'colsample_bynode': 0.6331731119758383, 'learning_rate': 0.0013346527038305934}. Best is trial 1 with value: -0.484147.\n"
     ]
    },
    {
     "name": "stderr",
     "output_type": "stream",
     "text": [
      "[I 2025-05-15 18:15:32,236] Trial 6 finished with value: -0.022222 and parameters: {'max_depth': 13, 'min_child_weight': 43, 'subsample': 0.1585464336867516, 'colsample_bynode': 0.9539969835279999, 'learning_rate': 0.4038423798071558}. Best is trial 1 with value: -0.484147.\n"
     ]
    },
    {
     "name": "stderr",
     "output_type": "stream",
     "text": [
      "[I 2025-05-15 18:15:32,387] Trial 7 finished with value: -0.022222 and parameters: {'max_depth': 17, 'min_child_weight': 77, 'subsample': 0.1879049026057455, 'colsample_bynode': 0.7158097238609412, 'learning_rate': 0.015415527060141935}. Best is trial 1 with value: -0.484147.\n"
     ]
    },
    {
     "name": "stderr",
     "output_type": "stream",
     "text": [
      "[I 2025-05-15 18:15:32,535] Trial 8 finished with value: -0.022222 and parameters: {'max_depth': 5, 'min_child_weight': 124, 'subsample': 0.13094966900369656, 'colsample_bynode': 0.9183883618709039, 'learning_rate': 0.004993895014755658}. Best is trial 1 with value: -0.484147.\n"
     ]
    },
    {
     "name": "stderr",
     "output_type": "stream",
     "text": [
      "[I 2025-05-15 18:15:32,683] Trial 9 finished with value: -0.022222 and parameters: {'max_depth': 14, 'min_child_weight': 78, 'subsample': 0.5680612190600297, 'colsample_bynode': 0.5920392514089517, 'learning_rate': 0.0031543990308330965}. Best is trial 1 with value: -0.484147.\n"
     ]
    },
    {
     "name": "stderr",
     "output_type": "stream",
     "text": [
      "[I 2025-05-15 18:15:33,036] Trial 10 finished with value: -0.52347 and parameters: {'max_depth': 9, 'min_child_weight': 2, 'subsample': 0.9725833997090791, 'colsample_bynode': 0.11616568805333755, 'learning_rate': 0.17780618353487967}. Best is trial 10 with value: -0.52347.\n"
     ]
    },
    {
     "name": "stderr",
     "output_type": "stream",
     "text": [
      "[I 2025-05-15 18:15:33,631] Trial 11 finished with value: -0.564565 and parameters: {'max_depth': 9, 'min_child_weight': 4, 'subsample': 0.9818290990185045, 'colsample_bynode': 0.17702656156719, 'learning_rate': 0.11568531411766632}. Best is trial 11 with value: -0.564565.\n"
     ]
    },
    {
     "name": "stderr",
     "output_type": "stream",
     "text": [
      "[I 2025-05-15 18:15:34,020] Trial 12 finished with value: -0.538456 and parameters: {'max_depth': 9, 'min_child_weight': 2, 'subsample': 0.9762317723681219, 'colsample_bynode': 0.1303670507685675, 'learning_rate': 0.14353293664472047}. Best is trial 11 with value: -0.564565.\n"
     ]
    },
    {
     "name": "stderr",
     "output_type": "stream",
     "text": [
      "[I 2025-05-15 18:15:34,172] Trial 13 finished with value: -0.022222 and parameters: {'max_depth': 10, 'min_child_weight': 173, 'subsample': 0.9983199992874873, 'colsample_bynode': 0.10704152171942566, 'learning_rate': 0.05919442728092993}. Best is trial 11 with value: -0.564565.\n"
     ]
    },
    {
     "name": "stderr",
     "output_type": "stream",
     "text": [
      "[I 2025-05-15 18:15:34,329] Trial 14 finished with value: -0.022222 and parameters: {'max_depth': 7, 'min_child_weight': 127, 'subsample': 0.7205729667945842, 'colsample_bynode': 0.2618040655423697, 'learning_rate': 0.049429871639666105}. Best is trial 11 with value: -0.564565.\n"
     ]
    },
    {
     "name": "stderr",
     "output_type": "stream",
     "text": [
      "[I 2025-05-15 18:15:34,771] Trial 15 finished with value: -0.564765 and parameters: {'max_depth': 20, 'min_child_weight': 1, 'subsample': 0.7300199336663715, 'colsample_bynode': 0.2687793682900305, 'learning_rate': 0.46839194821741}. Best is trial 15 with value: -0.564765.\n"
     ]
    },
    {
     "name": "stderr",
     "output_type": "stream",
     "text": [
      "[I 2025-05-15 18:15:34,953] Trial 16 finished with value: -0.022222 and parameters: {'max_depth': 20, 'min_child_weight': 116, 'subsample': 0.6730263351162008, 'colsample_bynode': 0.30980388065172204, 'learning_rate': 0.49216618465218137}. Best is trial 15 with value: -0.564765.\n"
     ]
    },
    {
     "name": "stderr",
     "output_type": "stream",
     "text": [
      "[I 2025-05-15 18:15:35,132] Trial 17 finished with value: -0.022222 and parameters: {'max_depth': 20, 'min_child_weight': 183, 'subsample': 0.37310167079970213, 'colsample_bynode': 0.38835173273745516, 'learning_rate': 0.224845788871819}. Best is trial 15 with value: -0.564765.\n"
     ]
    },
    {
     "name": "stderr",
     "output_type": "stream",
     "text": [
      "[I 2025-05-15 18:15:35,307] Trial 18 pruned. Trial was pruned at iteration 21.\n"
     ]
    },
    {
     "name": "stderr",
     "output_type": "stream",
     "text": [
      "[I 2025-05-15 18:15:35,483] Trial 19 finished with value: -0.022222 and parameters: {'max_depth': 17, 'min_child_weight': 99, 'subsample': 0.6724862681211705, 'colsample_bynode': 0.21504189185437605, 'learning_rate': 0.273575903558848}. Best is trial 15 with value: -0.564765.\n"
     ]
    },
    {
     "name": "stderr",
     "output_type": "stream",
     "text": [
      "[I 2025-05-15 18:15:35,661] Trial 20 pruned. Trial was pruned at iteration 21.\n"
     ]
    },
    {
     "name": "stderr",
     "output_type": "stream",
     "text": [
      "[I 2025-05-15 18:15:36,016] Trial 21 pruned. Trial was pruned at iteration 21.\n"
     ]
    },
    {
     "name": "stderr",
     "output_type": "stream",
     "text": [
      "[I 2025-05-15 18:15:36,180] Trial 22 pruned. Trial was pruned at iteration 21.\n"
     ]
    },
    {
     "name": "stderr",
     "output_type": "stream",
     "text": [
      "[I 2025-05-15 18:15:36,374] Trial 23 pruned. Trial was pruned at iteration 21.\n"
     ]
    },
    {
     "name": "stderr",
     "output_type": "stream",
     "text": [
      "[I 2025-05-15 18:15:36,541] Trial 24 finished with value: -0.166667 and parameters: {'max_depth': 8, 'min_child_weight': 61, 'subsample': 0.9153877188129658, 'colsample_bynode': 0.1213053354388553, 'learning_rate': 0.035905133041901835}. Best is trial 15 with value: -0.564765.\n"
     ]
    },
    {
     "name": "stderr",
     "output_type": "stream",
     "text": [
      "[I 2025-05-15 18:15:36,825] Trial 25 pruned. Trial was pruned at iteration 21.\n"
     ]
    },
    {
     "name": "stderr",
     "output_type": "stream",
     "text": [
      "[I 2025-05-15 18:15:37,021] Trial 26 pruned. Trial was pruned at iteration 21.\n"
     ]
    },
    {
     "name": "stderr",
     "output_type": "stream",
     "text": [
      "[I 2025-05-15 18:15:37,202] Trial 27 finished with value: -0.022222 and parameters: {'max_depth': 12, 'min_child_weight': 172, 'subsample': 0.9878355699832455, 'colsample_bynode': 0.21638963725749938, 'learning_rate': 0.24298939546043904}. Best is trial 15 with value: -0.564765.\n"
     ]
    },
    {
     "name": "stderr",
     "output_type": "stream",
     "text": [
      "[I 2025-05-15 18:15:37,381] Trial 28 finished with value: -0.022222 and parameters: {'max_depth': 7, 'min_child_weight': 207, 'subsample': 0.4856935111294972, 'colsample_bynode': 0.2561006073403286, 'learning_rate': 0.10020465848382586}. Best is trial 15 with value: -0.564765.\n"
     ]
    },
    {
     "name": "stderr",
     "output_type": "stream",
     "text": [
      "[I 2025-05-15 18:15:37,581] Trial 29 finished with value: -0.432011 and parameters: {'max_depth': 9, 'min_child_weight': 22, 'subsample': 0.7400638556216688, 'colsample_bynode': 0.37847814232681654, 'learning_rate': 0.010709004830646147}. Best is trial 15 with value: -0.564765.\n"
     ]
    },
    {
     "name": "stderr",
     "output_type": "stream",
     "text": [
      "[I 2025-05-15 18:15:37,767] Trial 30 finished with value: -0.022222 and parameters: {'max_depth': 16, 'min_child_weight': 150, 'subsample': 0.9121885560268579, 'colsample_bynode': 0.531730752336086, 'learning_rate': 0.1461994649040996}. Best is trial 15 with value: -0.564765.\n"
     ]
    },
    {
     "name": "stderr",
     "output_type": "stream",
     "text": [
      "[I 2025-05-15 18:15:38,041] Trial 31 pruned. Trial was pruned at iteration 21.\n"
     ]
    },
    {
     "name": "stderr",
     "output_type": "stream",
     "text": [
      "[I 2025-05-15 18:15:38,243] Trial 32 pruned. Trial was pruned at iteration 21.\n"
     ]
    },
    {
     "name": "stderr",
     "output_type": "stream",
     "text": [
      "[I 2025-05-15 18:15:38,420] Trial 33 pruned. Trial was pruned at iteration 21.\n"
     ]
    },
    {
     "name": "stderr",
     "output_type": "stream",
     "text": [
      "[I 2025-05-15 18:15:38,592] Trial 34 finished with value: -0.166667 and parameters: {'max_depth': 8, 'min_child_weight': 64, 'subsample': 0.9990670399044488, 'colsample_bynode': 0.27782818295260725, 'learning_rate': 0.06279055482169055}. Best is trial 15 with value: -0.564765.\n"
     ]
    },
    {
     "name": "stderr",
     "output_type": "stream",
     "text": [
      "[I 2025-05-15 18:15:38,810] Trial 35 pruned. Trial was pruned at iteration 21.\n"
     ]
    },
    {
     "name": "stderr",
     "output_type": "stream",
     "text": [
      "[I 2025-05-15 18:15:38,998] Trial 36 finished with value: -0.022222 and parameters: {'max_depth': 19, 'min_child_weight': 94, 'subsample': 0.8109423244045787, 'colsample_bynode': 0.33180571238365497, 'learning_rate': 0.04457901322069355}. Best is trial 15 with value: -0.564765.\n"
     ]
    },
    {
     "name": "stderr",
     "output_type": "stream",
     "text": [
      "[I 2025-05-15 18:15:39,187] Trial 37 pruned. Trial was pruned at iteration 21.\n"
     ]
    },
    {
     "name": "stderr",
     "output_type": "stream",
     "text": [
      "[I 2025-05-15 18:15:39,370] Trial 38 finished with value: -0.022222 and parameters: {'max_depth': 6, 'min_child_weight': 27, 'subsample': 0.25720599485408774, 'colsample_bynode': 0.16370096822219551, 'learning_rate': 0.07825645328763904}. Best is trial 15 with value: -0.564765.\n"
     ]
    },
    {
     "name": "stderr",
     "output_type": "stream",
     "text": [
      "[I 2025-05-15 18:15:39,801] Trial 39 finished with value: -0.540663 and parameters: {'max_depth': 4, 'min_child_weight': 2, 'subsample': 0.6135424017711899, 'colsample_bynode': 0.6986571664833517, 'learning_rate': 0.20396387224374643}. Best is trial 15 with value: -0.564765.\n"
     ]
    },
    {
     "name": "stderr",
     "output_type": "stream",
     "text": [
      "[I 2025-05-15 18:15:39,985] Trial 40 finished with value: -0.022222 and parameters: {'max_depth': 3, 'min_child_weight': 218, 'subsample': 0.6135397358527036, 'colsample_bynode': 0.7655304999321362, 'learning_rate': 0.022398657623192937}. Best is trial 15 with value: -0.564765.\n"
     ]
    },
    {
     "name": "stderr",
     "output_type": "stream",
     "text": [
      "[I 2025-05-15 18:15:40,272] Trial 41 pruned. Trial was pruned at iteration 22.\n"
     ]
    },
    {
     "name": "stderr",
     "output_type": "stream",
     "text": [
      "[I 2025-05-15 18:15:40,521] Trial 42 finished with value: -0.526961 and parameters: {'max_depth': 9, 'min_child_weight': 13, 'subsample': 0.775137199579637, 'colsample_bynode': 0.8354796964394949, 'learning_rate': 0.12525889304293014}. Best is trial 15 with value: -0.564765.\n"
     ]
    },
    {
     "name": "stderr",
     "output_type": "stream",
     "text": [
      "[I 2025-05-15 18:15:40,750] Trial 43 pruned. Trial was pruned at iteration 21.\n"
     ]
    },
    {
     "name": "stderr",
     "output_type": "stream",
     "text": [
      "[I 2025-05-15 18:15:40,942] Trial 44 pruned. Trial was pruned at iteration 21.\n"
     ]
    },
    {
     "name": "stderr",
     "output_type": "stream",
     "text": [
      "[I 2025-05-15 18:15:41,124] Trial 45 finished with value: -0.166667 and parameters: {'max_depth': 4, 'min_child_weight': 48, 'subsample': 0.6242488149791064, 'colsample_bynode': 0.6161817742323503, 'learning_rate': 0.3435682995227051}. Best is trial 15 with value: -0.564765.\n"
     ]
    },
    {
     "name": "stderr",
     "output_type": "stream",
     "text": [
      "[I 2025-05-15 18:15:41,309] Trial 46 finished with value: -0.022222 and parameters: {'max_depth': 10, 'min_child_weight': 70, 'subsample': 0.7764637038232344, 'colsample_bynode': 0.6840660681057265, 'learning_rate': 0.0017640765324178564}. Best is trial 15 with value: -0.564765.\n"
     ]
    },
    {
     "name": "stderr",
     "output_type": "stream",
     "text": [
      "[I 2025-05-15 18:15:41,542] Trial 47 pruned. Trial was pruned at iteration 21.\n"
     ]
    },
    {
     "name": "stderr",
     "output_type": "stream",
     "text": [
      "[I 2025-05-15 18:15:41,728] Trial 48 pruned. Trial was pruned at iteration 21.\n"
     ]
    },
    {
     "name": "stderr",
     "output_type": "stream",
     "text": [
      "[I 2025-05-15 18:15:41,905] Trial 49 pruned. Trial was pruned at iteration 21.\n"
     ]
    }
   ],
   "source": [
    "sampler = optuna.samplers.TPESampler(seed=42)\n",
    "study = optuna.create_study(direction='minimize', sampler=sampler)\n",
    "study.optimize(objective, n_trials=N_TRIALS, gc_after_trial=True)"
   ]
  },
  {
   "cell_type": "code",
   "execution_count": 20,
   "id": "f0cce511",
   "metadata": {
    "execution": {
     "iopub.execute_input": "2025-05-15T16:15:42.027781Z",
     "iopub.status.busy": "2025-05-15T16:15:42.027580Z",
     "iopub.status.idle": "2025-05-15T16:15:42.049112Z",
     "shell.execute_reply": "2025-05-15T16:15:42.048820Z"
    },
    "papermill": {
     "duration": 0.030985,
     "end_time": "2025-05-15T16:15:42.049922",
     "exception": false,
     "start_time": "2025-05-15T16:15:42.018937",
     "status": "completed"
    },
    "tags": []
   },
   "outputs": [
    {
     "data": {
      "text/plain": [
       "['/scratch_isilon/groups/singlecell/shared/projects/Inflammation-PBMCs-Atlas/03_downstream_analysis/08_gene_importance/xgboost_external_validation/xgboost_TopN_genes/results_20/study/Plasma_5_2_xgboost.pkl']"
      ]
     },
     "execution_count": 20,
     "metadata": {},
     "output_type": "execute_result"
    }
   ],
   "source": [
    "out_dir = here(f'03_downstream_analysis/08_gene_importance/xgboost_external_validation/xgboost_TopN_genes/results_{N_GENES}/study')\n",
    "\n",
    "if not os.path.exists(out_dir):\n",
    "    os.makedirs(out_dir)\n",
    "    \n",
    "joblib.dump(study,os.path.join(out_dir, f'{CELL_TYPE}_{SEED}_{TEST_SPLIT_IDX}_xgboost.pkl'))"
   ]
  },
  {
   "cell_type": "code",
   "execution_count": 21,
   "id": "a432acd3",
   "metadata": {
    "execution": {
     "iopub.execute_input": "2025-05-15T16:15:42.066815Z",
     "iopub.status.busy": "2025-05-15T16:15:42.066640Z",
     "iopub.status.idle": "2025-05-15T16:15:42.347363Z",
     "shell.execute_reply": "2025-05-15T16:15:42.347022Z"
    },
    "papermill": {
     "duration": 0.290746,
     "end_time": "2025-05-15T16:15:42.348482",
     "exception": false,
     "start_time": "2025-05-15T16:15:42.057736",
     "status": "completed"
    },
    "tags": []
   },
   "outputs": [
    {
     "data": {
      "text/html": [
       "<style>#sk-container-id-1 {\n",
       "  /* Definition of color scheme common for light and dark mode */\n",
       "  --sklearn-color-text: black;\n",
       "  --sklearn-color-line: gray;\n",
       "  /* Definition of color scheme for unfitted estimators */\n",
       "  --sklearn-color-unfitted-level-0: #fff5e6;\n",
       "  --sklearn-color-unfitted-level-1: #f6e4d2;\n",
       "  --sklearn-color-unfitted-level-2: #ffe0b3;\n",
       "  --sklearn-color-unfitted-level-3: chocolate;\n",
       "  /* Definition of color scheme for fitted estimators */\n",
       "  --sklearn-color-fitted-level-0: #f0f8ff;\n",
       "  --sklearn-color-fitted-level-1: #d4ebff;\n",
       "  --sklearn-color-fitted-level-2: #b3dbfd;\n",
       "  --sklearn-color-fitted-level-3: cornflowerblue;\n",
       "\n",
       "  /* Specific color for light theme */\n",
       "  --sklearn-color-text-on-default-background: var(--sg-text-color, var(--theme-code-foreground, var(--jp-content-font-color1, black)));\n",
       "  --sklearn-color-background: var(--sg-background-color, var(--theme-background, var(--jp-layout-color0, white)));\n",
       "  --sklearn-color-border-box: var(--sg-text-color, var(--theme-code-foreground, var(--jp-content-font-color1, black)));\n",
       "  --sklearn-color-icon: #696969;\n",
       "\n",
       "  @media (prefers-color-scheme: dark) {\n",
       "    /* Redefinition of color scheme for dark theme */\n",
       "    --sklearn-color-text-on-default-background: var(--sg-text-color, var(--theme-code-foreground, var(--jp-content-font-color1, white)));\n",
       "    --sklearn-color-background: var(--sg-background-color, var(--theme-background, var(--jp-layout-color0, #111)));\n",
       "    --sklearn-color-border-box: var(--sg-text-color, var(--theme-code-foreground, var(--jp-content-font-color1, white)));\n",
       "    --sklearn-color-icon: #878787;\n",
       "  }\n",
       "}\n",
       "\n",
       "#sk-container-id-1 {\n",
       "  color: var(--sklearn-color-text);\n",
       "}\n",
       "\n",
       "#sk-container-id-1 pre {\n",
       "  padding: 0;\n",
       "}\n",
       "\n",
       "#sk-container-id-1 input.sk-hidden--visually {\n",
       "  border: 0;\n",
       "  clip: rect(1px 1px 1px 1px);\n",
       "  clip: rect(1px, 1px, 1px, 1px);\n",
       "  height: 1px;\n",
       "  margin: -1px;\n",
       "  overflow: hidden;\n",
       "  padding: 0;\n",
       "  position: absolute;\n",
       "  width: 1px;\n",
       "}\n",
       "\n",
       "#sk-container-id-1 div.sk-dashed-wrapped {\n",
       "  border: 1px dashed var(--sklearn-color-line);\n",
       "  margin: 0 0.4em 0.5em 0.4em;\n",
       "  box-sizing: border-box;\n",
       "  padding-bottom: 0.4em;\n",
       "  background-color: var(--sklearn-color-background);\n",
       "}\n",
       "\n",
       "#sk-container-id-1 div.sk-container {\n",
       "  /* jupyter's `normalize.less` sets `[hidden] { display: none; }`\n",
       "     but bootstrap.min.css set `[hidden] { display: none !important; }`\n",
       "     so we also need the `!important` here to be able to override the\n",
       "     default hidden behavior on the sphinx rendered scikit-learn.org.\n",
       "     See: https://github.com/scikit-learn/scikit-learn/issues/21755 */\n",
       "  display: inline-block !important;\n",
       "  position: relative;\n",
       "}\n",
       "\n",
       "#sk-container-id-1 div.sk-text-repr-fallback {\n",
       "  display: none;\n",
       "}\n",
       "\n",
       "div.sk-parallel-item,\n",
       "div.sk-serial,\n",
       "div.sk-item {\n",
       "  /* draw centered vertical line to link estimators */\n",
       "  background-image: linear-gradient(var(--sklearn-color-text-on-default-background), var(--sklearn-color-text-on-default-background));\n",
       "  background-size: 2px 100%;\n",
       "  background-repeat: no-repeat;\n",
       "  background-position: center center;\n",
       "}\n",
       "\n",
       "/* Parallel-specific style estimator block */\n",
       "\n",
       "#sk-container-id-1 div.sk-parallel-item::after {\n",
       "  content: \"\";\n",
       "  width: 100%;\n",
       "  border-bottom: 2px solid var(--sklearn-color-text-on-default-background);\n",
       "  flex-grow: 1;\n",
       "}\n",
       "\n",
       "#sk-container-id-1 div.sk-parallel {\n",
       "  display: flex;\n",
       "  align-items: stretch;\n",
       "  justify-content: center;\n",
       "  background-color: var(--sklearn-color-background);\n",
       "  position: relative;\n",
       "}\n",
       "\n",
       "#sk-container-id-1 div.sk-parallel-item {\n",
       "  display: flex;\n",
       "  flex-direction: column;\n",
       "}\n",
       "\n",
       "#sk-container-id-1 div.sk-parallel-item:first-child::after {\n",
       "  align-self: flex-end;\n",
       "  width: 50%;\n",
       "}\n",
       "\n",
       "#sk-container-id-1 div.sk-parallel-item:last-child::after {\n",
       "  align-self: flex-start;\n",
       "  width: 50%;\n",
       "}\n",
       "\n",
       "#sk-container-id-1 div.sk-parallel-item:only-child::after {\n",
       "  width: 0;\n",
       "}\n",
       "\n",
       "/* Serial-specific style estimator block */\n",
       "\n",
       "#sk-container-id-1 div.sk-serial {\n",
       "  display: flex;\n",
       "  flex-direction: column;\n",
       "  align-items: center;\n",
       "  background-color: var(--sklearn-color-background);\n",
       "  padding-right: 1em;\n",
       "  padding-left: 1em;\n",
       "}\n",
       "\n",
       "\n",
       "/* Toggleable style: style used for estimator/Pipeline/ColumnTransformer box that is\n",
       "clickable and can be expanded/collapsed.\n",
       "- Pipeline and ColumnTransformer use this feature and define the default style\n",
       "- Estimators will overwrite some part of the style using the `sk-estimator` class\n",
       "*/\n",
       "\n",
       "/* Pipeline and ColumnTransformer style (default) */\n",
       "\n",
       "#sk-container-id-1 div.sk-toggleable {\n",
       "  /* Default theme specific background. It is overwritten whether we have a\n",
       "  specific estimator or a Pipeline/ColumnTransformer */\n",
       "  background-color: var(--sklearn-color-background);\n",
       "}\n",
       "\n",
       "/* Toggleable label */\n",
       "#sk-container-id-1 label.sk-toggleable__label {\n",
       "  cursor: pointer;\n",
       "  display: block;\n",
       "  width: 100%;\n",
       "  margin-bottom: 0;\n",
       "  padding: 0.5em;\n",
       "  box-sizing: border-box;\n",
       "  text-align: center;\n",
       "}\n",
       "\n",
       "#sk-container-id-1 label.sk-toggleable__label-arrow:before {\n",
       "  /* Arrow on the left of the label */\n",
       "  content: \"▸\";\n",
       "  float: left;\n",
       "  margin-right: 0.25em;\n",
       "  color: var(--sklearn-color-icon);\n",
       "}\n",
       "\n",
       "#sk-container-id-1 label.sk-toggleable__label-arrow:hover:before {\n",
       "  color: var(--sklearn-color-text);\n",
       "}\n",
       "\n",
       "/* Toggleable content - dropdown */\n",
       "\n",
       "#sk-container-id-1 div.sk-toggleable__content {\n",
       "  max-height: 0;\n",
       "  max-width: 0;\n",
       "  overflow: hidden;\n",
       "  text-align: left;\n",
       "  /* unfitted */\n",
       "  background-color: var(--sklearn-color-unfitted-level-0);\n",
       "}\n",
       "\n",
       "#sk-container-id-1 div.sk-toggleable__content.fitted {\n",
       "  /* fitted */\n",
       "  background-color: var(--sklearn-color-fitted-level-0);\n",
       "}\n",
       "\n",
       "#sk-container-id-1 div.sk-toggleable__content pre {\n",
       "  margin: 0.2em;\n",
       "  border-radius: 0.25em;\n",
       "  color: var(--sklearn-color-text);\n",
       "  /* unfitted */\n",
       "  background-color: var(--sklearn-color-unfitted-level-0);\n",
       "}\n",
       "\n",
       "#sk-container-id-1 div.sk-toggleable__content.fitted pre {\n",
       "  /* unfitted */\n",
       "  background-color: var(--sklearn-color-fitted-level-0);\n",
       "}\n",
       "\n",
       "#sk-container-id-1 input.sk-toggleable__control:checked~div.sk-toggleable__content {\n",
       "  /* Expand drop-down */\n",
       "  max-height: 200px;\n",
       "  max-width: 100%;\n",
       "  overflow: auto;\n",
       "}\n",
       "\n",
       "#sk-container-id-1 input.sk-toggleable__control:checked~label.sk-toggleable__label-arrow:before {\n",
       "  content: \"▾\";\n",
       "}\n",
       "\n",
       "/* Pipeline/ColumnTransformer-specific style */\n",
       "\n",
       "#sk-container-id-1 div.sk-label input.sk-toggleable__control:checked~label.sk-toggleable__label {\n",
       "  color: var(--sklearn-color-text);\n",
       "  background-color: var(--sklearn-color-unfitted-level-2);\n",
       "}\n",
       "\n",
       "#sk-container-id-1 div.sk-label.fitted input.sk-toggleable__control:checked~label.sk-toggleable__label {\n",
       "  background-color: var(--sklearn-color-fitted-level-2);\n",
       "}\n",
       "\n",
       "/* Estimator-specific style */\n",
       "\n",
       "/* Colorize estimator box */\n",
       "#sk-container-id-1 div.sk-estimator input.sk-toggleable__control:checked~label.sk-toggleable__label {\n",
       "  /* unfitted */\n",
       "  background-color: var(--sklearn-color-unfitted-level-2);\n",
       "}\n",
       "\n",
       "#sk-container-id-1 div.sk-estimator.fitted input.sk-toggleable__control:checked~label.sk-toggleable__label {\n",
       "  /* fitted */\n",
       "  background-color: var(--sklearn-color-fitted-level-2);\n",
       "}\n",
       "\n",
       "#sk-container-id-1 div.sk-label label.sk-toggleable__label,\n",
       "#sk-container-id-1 div.sk-label label {\n",
       "  /* The background is the default theme color */\n",
       "  color: var(--sklearn-color-text-on-default-background);\n",
       "}\n",
       "\n",
       "/* On hover, darken the color of the background */\n",
       "#sk-container-id-1 div.sk-label:hover label.sk-toggleable__label {\n",
       "  color: var(--sklearn-color-text);\n",
       "  background-color: var(--sklearn-color-unfitted-level-2);\n",
       "}\n",
       "\n",
       "/* Label box, darken color on hover, fitted */\n",
       "#sk-container-id-1 div.sk-label.fitted:hover label.sk-toggleable__label.fitted {\n",
       "  color: var(--sklearn-color-text);\n",
       "  background-color: var(--sklearn-color-fitted-level-2);\n",
       "}\n",
       "\n",
       "/* Estimator label */\n",
       "\n",
       "#sk-container-id-1 div.sk-label label {\n",
       "  font-family: monospace;\n",
       "  font-weight: bold;\n",
       "  display: inline-block;\n",
       "  line-height: 1.2em;\n",
       "}\n",
       "\n",
       "#sk-container-id-1 div.sk-label-container {\n",
       "  text-align: center;\n",
       "}\n",
       "\n",
       "/* Estimator-specific */\n",
       "#sk-container-id-1 div.sk-estimator {\n",
       "  font-family: monospace;\n",
       "  border: 1px dotted var(--sklearn-color-border-box);\n",
       "  border-radius: 0.25em;\n",
       "  box-sizing: border-box;\n",
       "  margin-bottom: 0.5em;\n",
       "  /* unfitted */\n",
       "  background-color: var(--sklearn-color-unfitted-level-0);\n",
       "}\n",
       "\n",
       "#sk-container-id-1 div.sk-estimator.fitted {\n",
       "  /* fitted */\n",
       "  background-color: var(--sklearn-color-fitted-level-0);\n",
       "}\n",
       "\n",
       "/* on hover */\n",
       "#sk-container-id-1 div.sk-estimator:hover {\n",
       "  /* unfitted */\n",
       "  background-color: var(--sklearn-color-unfitted-level-2);\n",
       "}\n",
       "\n",
       "#sk-container-id-1 div.sk-estimator.fitted:hover {\n",
       "  /* fitted */\n",
       "  background-color: var(--sklearn-color-fitted-level-2);\n",
       "}\n",
       "\n",
       "/* Specification for estimator info (e.g. \"i\" and \"?\") */\n",
       "\n",
       "/* Common style for \"i\" and \"?\" */\n",
       "\n",
       ".sk-estimator-doc-link,\n",
       "a:link.sk-estimator-doc-link,\n",
       "a:visited.sk-estimator-doc-link {\n",
       "  float: right;\n",
       "  font-size: smaller;\n",
       "  line-height: 1em;\n",
       "  font-family: monospace;\n",
       "  background-color: var(--sklearn-color-background);\n",
       "  border-radius: 1em;\n",
       "  height: 1em;\n",
       "  width: 1em;\n",
       "  text-decoration: none !important;\n",
       "  margin-left: 1ex;\n",
       "  /* unfitted */\n",
       "  border: var(--sklearn-color-unfitted-level-1) 1pt solid;\n",
       "  color: var(--sklearn-color-unfitted-level-1);\n",
       "}\n",
       "\n",
       ".sk-estimator-doc-link.fitted,\n",
       "a:link.sk-estimator-doc-link.fitted,\n",
       "a:visited.sk-estimator-doc-link.fitted {\n",
       "  /* fitted */\n",
       "  border: var(--sklearn-color-fitted-level-1) 1pt solid;\n",
       "  color: var(--sklearn-color-fitted-level-1);\n",
       "}\n",
       "\n",
       "/* On hover */\n",
       "div.sk-estimator:hover .sk-estimator-doc-link:hover,\n",
       ".sk-estimator-doc-link:hover,\n",
       "div.sk-label-container:hover .sk-estimator-doc-link:hover,\n",
       ".sk-estimator-doc-link:hover {\n",
       "  /* unfitted */\n",
       "  background-color: var(--sklearn-color-unfitted-level-3);\n",
       "  color: var(--sklearn-color-background);\n",
       "  text-decoration: none;\n",
       "}\n",
       "\n",
       "div.sk-estimator.fitted:hover .sk-estimator-doc-link.fitted:hover,\n",
       ".sk-estimator-doc-link.fitted:hover,\n",
       "div.sk-label-container:hover .sk-estimator-doc-link.fitted:hover,\n",
       ".sk-estimator-doc-link.fitted:hover {\n",
       "  /* fitted */\n",
       "  background-color: var(--sklearn-color-fitted-level-3);\n",
       "  color: var(--sklearn-color-background);\n",
       "  text-decoration: none;\n",
       "}\n",
       "\n",
       "/* Span, style for the box shown on hovering the info icon */\n",
       ".sk-estimator-doc-link span {\n",
       "  display: none;\n",
       "  z-index: 9999;\n",
       "  position: relative;\n",
       "  font-weight: normal;\n",
       "  right: .2ex;\n",
       "  padding: .5ex;\n",
       "  margin: .5ex;\n",
       "  width: min-content;\n",
       "  min-width: 20ex;\n",
       "  max-width: 50ex;\n",
       "  color: var(--sklearn-color-text);\n",
       "  box-shadow: 2pt 2pt 4pt #999;\n",
       "  /* unfitted */\n",
       "  background: var(--sklearn-color-unfitted-level-0);\n",
       "  border: .5pt solid var(--sklearn-color-unfitted-level-3);\n",
       "}\n",
       "\n",
       ".sk-estimator-doc-link.fitted span {\n",
       "  /* fitted */\n",
       "  background: var(--sklearn-color-fitted-level-0);\n",
       "  border: var(--sklearn-color-fitted-level-3);\n",
       "}\n",
       "\n",
       ".sk-estimator-doc-link:hover span {\n",
       "  display: block;\n",
       "}\n",
       "\n",
       "/* \"?\"-specific style due to the `<a>` HTML tag */\n",
       "\n",
       "#sk-container-id-1 a.estimator_doc_link {\n",
       "  float: right;\n",
       "  font-size: 1rem;\n",
       "  line-height: 1em;\n",
       "  font-family: monospace;\n",
       "  background-color: var(--sklearn-color-background);\n",
       "  border-radius: 1rem;\n",
       "  height: 1rem;\n",
       "  width: 1rem;\n",
       "  text-decoration: none;\n",
       "  /* unfitted */\n",
       "  color: var(--sklearn-color-unfitted-level-1);\n",
       "  border: var(--sklearn-color-unfitted-level-1) 1pt solid;\n",
       "}\n",
       "\n",
       "#sk-container-id-1 a.estimator_doc_link.fitted {\n",
       "  /* fitted */\n",
       "  border: var(--sklearn-color-fitted-level-1) 1pt solid;\n",
       "  color: var(--sklearn-color-fitted-level-1);\n",
       "}\n",
       "\n",
       "/* On hover */\n",
       "#sk-container-id-1 a.estimator_doc_link:hover {\n",
       "  /* unfitted */\n",
       "  background-color: var(--sklearn-color-unfitted-level-3);\n",
       "  color: var(--sklearn-color-background);\n",
       "  text-decoration: none;\n",
       "}\n",
       "\n",
       "#sk-container-id-1 a.estimator_doc_link.fitted:hover {\n",
       "  /* fitted */\n",
       "  background-color: var(--sklearn-color-fitted-level-3);\n",
       "}\n",
       "</style><div id=\"sk-container-id-1\" class=\"sk-top-container\"><div class=\"sk-text-repr-fallback\"><pre>XGBClassifier(base_score=None, booster=None, callbacks=None,\n",
       "              colsample_bylevel=None, colsample_bynode=0.2687793682900305,\n",
       "              colsample_bytree=None, device=None, early_stopping_rounds=None,\n",
       "              enable_categorical=False,\n",
       "              eval_metric=&lt;function custom_f1_score at 0x7f5cec80c720&gt;,\n",
       "              feature_types=None, gamma=None, grow_policy=None,\n",
       "              importance_type=None, interaction_constraints=None,\n",
       "              learning_rate=0.46839194821741, max_bin=None,\n",
       "              max_cat_threshold=None, max_cat_to_onehot=None,\n",
       "              max_delta_step=None, max_depth=20, max_leaves=None,\n",
       "              min_child_weight=1, missing=nan, monotone_constraints=None,\n",
       "              multi_strategy=None, n_estimators=48, n_jobs=None,\n",
       "              num_parallel_tree=None, objective=&#x27;multi:softprob&#x27;, ...)</pre><b>In a Jupyter environment, please rerun this cell to show the HTML representation or trust the notebook. <br />On GitHub, the HTML representation is unable to render, please try loading this page with nbviewer.org.</b></div><div class=\"sk-container\" hidden><div class=\"sk-item\"><div class=\"sk-estimator fitted sk-toggleable\"><input class=\"sk-toggleable__control sk-hidden--visually\" id=\"sk-estimator-id-1\" type=\"checkbox\" checked><label for=\"sk-estimator-id-1\" class=\"sk-toggleable__label fitted sk-toggleable__label-arrow fitted\">&nbsp;XGBClassifier<span class=\"sk-estimator-doc-link fitted\">i<span>Fitted</span></span></label><div class=\"sk-toggleable__content fitted\"><pre>XGBClassifier(base_score=None, booster=None, callbacks=None,\n",
       "              colsample_bylevel=None, colsample_bynode=0.2687793682900305,\n",
       "              colsample_bytree=None, device=None, early_stopping_rounds=None,\n",
       "              enable_categorical=False,\n",
       "              eval_metric=&lt;function custom_f1_score at 0x7f5cec80c720&gt;,\n",
       "              feature_types=None, gamma=None, grow_policy=None,\n",
       "              importance_type=None, interaction_constraints=None,\n",
       "              learning_rate=0.46839194821741, max_bin=None,\n",
       "              max_cat_threshold=None, max_cat_to_onehot=None,\n",
       "              max_delta_step=None, max_depth=20, max_leaves=None,\n",
       "              min_child_weight=1, missing=nan, monotone_constraints=None,\n",
       "              multi_strategy=None, n_estimators=48, n_jobs=None,\n",
       "              num_parallel_tree=None, objective=&#x27;multi:softprob&#x27;, ...)</pre></div> </div></div></div></div>"
      ],
      "text/plain": [
       "XGBClassifier(base_score=None, booster=None, callbacks=None,\n",
       "              colsample_bylevel=None, colsample_bynode=0.2687793682900305,\n",
       "              colsample_bytree=None, device=None, early_stopping_rounds=None,\n",
       "              enable_categorical=False,\n",
       "              eval_metric=<function custom_f1_score at 0x7f5cec80c720>,\n",
       "              feature_types=None, gamma=None, grow_policy=None,\n",
       "              importance_type=None, interaction_constraints=None,\n",
       "              learning_rate=0.46839194821741, max_bin=None,\n",
       "              max_cat_threshold=None, max_cat_to_onehot=None,\n",
       "              max_delta_step=None, max_depth=20, max_leaves=None,\n",
       "              min_child_weight=1, missing=nan, monotone_constraints=None,\n",
       "              multi_strategy=None, n_estimators=48, n_jobs=None,\n",
       "              num_parallel_tree=None, objective='multi:softprob', ...)"
      ]
     },
     "execution_count": 21,
     "metadata": {},
     "output_type": "execute_result"
    }
   ],
   "source": [
    "n_estimators = int(study.best_trial.user_attrs['best_iteration']*1.2)\n",
    "xgb = xgboost.XGBClassifier(\n",
    "        eval_metric=eval_metric,\n",
    "        n_estimators=n_estimators,\n",
    "        **study.best_trial.params\n",
    "    )\n",
    "xgb.fit(\n",
    "    ssp.vstack((X_train, X_val)), \n",
    "    np.concatenate((y_train_enc, y_val_enc)),\n",
    "    verbose=1,\n",
    ")"
   ]
  },
  {
   "cell_type": "code",
   "execution_count": 22,
   "id": "bd3a57c1",
   "metadata": {
    "execution": {
     "iopub.execute_input": "2025-05-15T16:15:42.395002Z",
     "iopub.status.busy": "2025-05-15T16:15:42.394806Z",
     "iopub.status.idle": "2025-05-15T16:15:42.408947Z",
     "shell.execute_reply": "2025-05-15T16:15:42.408482Z"
    },
    "papermill": {
     "duration": 0.024655,
     "end_time": "2025-05-15T16:15:42.409852",
     "exception": false,
     "start_time": "2025-05-15T16:15:42.385197",
     "status": "completed"
    },
    "tags": []
   },
   "outputs": [
    {
     "data": {
      "text/plain": [
       "['/scratch_isilon/groups/singlecell/shared/projects/Inflammation-PBMCs-Atlas/03_downstream_analysis/08_gene_importance/xgboost_external_validation/xgboost_TopN_genes/results_20/best_model/Plasma_5_2_xgb.json']"
      ]
     },
     "execution_count": 22,
     "metadata": {},
     "output_type": "execute_result"
    }
   ],
   "source": [
    "out_dir = here(f'03_downstream_analysis/08_gene_importance/xgboost_external_validation/xgboost_TopN_genes/results_{N_GENES}/best_model')\n",
    "\n",
    "if not os.path.exists(out_dir):\n",
    "    os.makedirs(out_dir)\n",
    "    \n",
    "joblib.dump(xgb, os.path.join(out_dir, f'{CELL_TYPE}_{SEED}_{TEST_SPLIT_IDX}_xgb.json'))"
   ]
  },
  {
   "cell_type": "code",
   "execution_count": 23,
   "id": "2dba40b0",
   "metadata": {
    "execution": {
     "iopub.execute_input": "2025-05-15T16:15:42.428383Z",
     "iopub.status.busy": "2025-05-15T16:15:42.428099Z",
     "iopub.status.idle": "2025-05-15T16:15:42.438117Z",
     "shell.execute_reply": "2025-05-15T16:15:42.437815Z"
    },
    "papermill": {
     "duration": 0.024052,
     "end_time": "2025-05-15T16:15:42.442929",
     "exception": false,
     "start_time": "2025-05-15T16:15:42.418877",
     "status": "completed"
    },
    "tags": []
   },
   "outputs": [],
   "source": [
    "df_pred_test = pd.DataFrame(dict(\n",
    "    cell_id=train_adata.obs.iloc[test_idxs].index.values,\n",
    "    y_true=y_test, \n",
    "    y_true_code=y_test_enc, \n",
    "    y_pred=xgb.predict(X_test))).set_index('cell_id')"
   ]
  },
  {
   "cell_type": "code",
   "execution_count": 24,
   "id": "ffb830bd",
   "metadata": {
    "execution": {
     "iopub.execute_input": "2025-05-15T16:15:42.460836Z",
     "iopub.status.busy": "2025-05-15T16:15:42.460318Z",
     "iopub.status.idle": "2025-05-15T16:15:42.473906Z",
     "shell.execute_reply": "2025-05-15T16:15:42.473287Z"
    },
    "papermill": {
     "duration": 0.023512,
     "end_time": "2025-05-15T16:15:42.474715",
     "exception": false,
     "start_time": "2025-05-15T16:15:42.451203",
     "status": "completed"
    },
    "tags": []
   },
   "outputs": [],
   "source": [
    "out_dir = here(f'03_downstream_analysis/08_gene_importance/xgboost_external_validation/xgboost_TopN_genes/results_{N_GENES}/predictions')\n",
    "\n",
    "if not os.path.exists(out_dir):\n",
    "    os.makedirs(out_dir)\n",
    "    \n",
    "df_pred_test.to_csv(os.path.join(out_dir, f'{CELL_TYPE}_{SEED}_{TEST_SPLIT_IDX}_pred_test.zip'))"
   ]
  },
  {
   "cell_type": "code",
   "execution_count": 25,
   "id": "87aa61e5",
   "metadata": {
    "execution": {
     "iopub.execute_input": "2025-05-15T16:15:42.492402Z",
     "iopub.status.busy": "2025-05-15T16:15:42.492141Z",
     "iopub.status.idle": "2025-05-15T16:15:42.497354Z",
     "shell.execute_reply": "2025-05-15T16:15:42.497054Z"
    },
    "papermill": {
     "duration": 0.014906,
     "end_time": "2025-05-15T16:15:42.498199",
     "exception": false,
     "start_time": "2025-05-15T16:15:42.483293",
     "status": "completed"
    },
    "tags": []
   },
   "outputs": [],
   "source": [
    "metrics_dict = dict(\n",
    "    BAS=balanced_accuracy_score(y_true=df_pred_test.y_true_code, y_pred=df_pred_test.y_pred), WF1=f1_score(y_true=df_pred_test.y_true_code, y_pred=df_pred_test.y_pred,average='weighted'))"
   ]
  },
  {
   "cell_type": "code",
   "execution_count": 26,
   "id": "efbb46a6",
   "metadata": {
    "execution": {
     "iopub.execute_input": "2025-05-15T16:15:42.515918Z",
     "iopub.status.busy": "2025-05-15T16:15:42.515632Z",
     "iopub.status.idle": "2025-05-15T16:15:42.518564Z",
     "shell.execute_reply": "2025-05-15T16:15:42.518259Z"
    },
    "papermill": {
     "duration": 0.012601,
     "end_time": "2025-05-15T16:15:42.519366",
     "exception": false,
     "start_time": "2025-05-15T16:15:42.506765",
     "status": "completed"
    },
    "tags": []
   },
   "outputs": [
    {
     "data": {
      "text/plain": [
       "{'BAS': 0.23973146951088128, 'WF1': 0.37441112264641685}"
      ]
     },
     "execution_count": 26,
     "metadata": {},
     "output_type": "execute_result"
    }
   ],
   "source": [
    "metrics_dict"
   ]
  },
  {
   "cell_type": "code",
   "execution_count": 27,
   "id": "174dfce6",
   "metadata": {
    "execution": {
     "iopub.execute_input": "2025-05-15T16:15:42.538027Z",
     "iopub.status.busy": "2025-05-15T16:15:42.537769Z",
     "iopub.status.idle": "2025-05-15T16:15:42.545919Z",
     "shell.execute_reply": "2025-05-15T16:15:42.545626Z"
    },
    "papermill": {
     "duration": 0.018184,
     "end_time": "2025-05-15T16:15:42.546740",
     "exception": false,
     "start_time": "2025-05-15T16:15:42.528556",
     "status": "completed"
    },
    "tags": []
   },
   "outputs": [
    {
     "data": {
      "text/html": [
       "<div>\n",
       "<style scoped>\n",
       "    .dataframe tbody tr th:only-of-type {\n",
       "        vertical-align: middle;\n",
       "    }\n",
       "\n",
       "    .dataframe tbody tr th {\n",
       "        vertical-align: top;\n",
       "    }\n",
       "\n",
       "    .dataframe thead th {\n",
       "        text-align: right;\n",
       "    }\n",
       "</style>\n",
       "<table border=\"1\" class=\"dataframe\">\n",
       "  <thead>\n",
       "    <tr style=\"text-align: right;\">\n",
       "      <th></th>\n",
       "      <th>BAS</th>\n",
       "      <th>WF1</th>\n",
       "      <th>split_idx</th>\n",
       "      <th>gene_set_seed</th>\n",
       "      <th>cell_type</th>\n",
       "    </tr>\n",
       "  </thead>\n",
       "  <tbody>\n",
       "    <tr>\n",
       "      <th>0</th>\n",
       "      <td>0.239731</td>\n",
       "      <td>0.374411</td>\n",
       "      <td>2</td>\n",
       "      <td>5</td>\n",
       "      <td>Plasma</td>\n",
       "    </tr>\n",
       "  </tbody>\n",
       "</table>\n",
       "</div>"
      ],
      "text/plain": [
       "        BAS       WF1  split_idx  gene_set_seed cell_type\n",
       "0  0.239731  0.374411          2              5    Plasma"
      ]
     },
     "execution_count": 27,
     "metadata": {},
     "output_type": "execute_result"
    }
   ],
   "source": [
    "metrics_df = pd.DataFrame.from_dict([metrics_dict]).assign(split_idx=TEST_SPLIT_IDX, gene_set_seed=SEED, cell_type=CELL_TYPE)\n",
    "metrics_df"
   ]
  },
  {
   "cell_type": "code",
   "execution_count": 28,
   "id": "7c5275cb",
   "metadata": {
    "execution": {
     "iopub.execute_input": "2025-05-15T16:15:42.564790Z",
     "iopub.status.busy": "2025-05-15T16:15:42.564323Z",
     "iopub.status.idle": "2025-05-15T16:15:42.572405Z",
     "shell.execute_reply": "2025-05-15T16:15:42.572048Z"
    },
    "papermill": {
     "duration": 0.017841,
     "end_time": "2025-05-15T16:15:42.573199",
     "exception": false,
     "start_time": "2025-05-15T16:15:42.555358",
     "status": "completed"
    },
    "tags": []
   },
   "outputs": [],
   "source": [
    "out_dir = here(f'03_downstream_analysis/08_gene_importance/xgboost_external_validation/xgboost_TopN_genes/results_{N_GENES}/metrics')\n",
    "\n",
    "if not os.path.exists(out_dir):\n",
    "    os.makedirs(out_dir)\n",
    "    \n",
    "metrics_df.to_csv(os.path.join(out_dir, f'{CELL_TYPE}_{SEED}_{TEST_SPLIT_IDX}_metrics.zip'))"
   ]
  }
 ],
 "metadata": {
  "kernelspec": {
   "display_name": "Python 3 (ipykernel)",
   "language": "python",
   "name": "python3"
  },
  "language_info": {
   "codemirror_mode": {
    "name": "ipython",
    "version": 3
   },
   "file_extension": ".py",
   "mimetype": "text/x-python",
   "name": "python",
   "nbconvert_exporter": "python",
   "pygments_lexer": "ipython3",
   "version": "3.12.5"
  },
  "papermill": {
   "default_parameters": {},
   "duration": 15.428927,
   "end_time": "2025-05-15T16:15:43.197661",
   "environment_variables": {},
   "exception": null,
   "input_path": "02_xgboost_fitting_external_20genes.ipynb",
   "output_path": "results_20/executed_notebooks/xgboost_fitting_external_CT_Plasma_GS_5_seed2.ipynb",
   "parameters": {
    "CELL_TYPE": "Plasma",
    "SEED": 5,
    "TEST_SPLIT_IDX": 2
   },
   "start_time": "2025-05-15T16:15:27.768734",
   "version": "2.6.0"
  }
 },
 "nbformat": 4,
 "nbformat_minor": 5
}