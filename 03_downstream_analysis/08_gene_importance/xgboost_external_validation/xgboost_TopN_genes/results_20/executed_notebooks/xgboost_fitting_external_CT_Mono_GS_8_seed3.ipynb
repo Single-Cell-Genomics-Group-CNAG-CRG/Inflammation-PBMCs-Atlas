{
 "cells": [
  {
   "cell_type": "code",
   "execution_count": 1,
   "id": "bd76579a",
   "metadata": {
    "editable": true,
    "execution": {
     "iopub.execute_input": "2025-05-15T15:59:57.028124Z",
     "iopub.status.busy": "2025-05-15T15:59:57.027820Z",
     "iopub.status.idle": "2025-05-15T15:59:57.030807Z",
     "shell.execute_reply": "2025-05-15T15:59:57.030433Z"
    },
    "papermill": {
     "duration": 0.011612,
     "end_time": "2025-05-15T15:59:57.031689",
     "exception": false,
     "start_time": "2025-05-15T15:59:57.020077",
     "status": "completed"
    },
    "slideshow": {
     "slide_type": ""
    },
    "tags": [
     "parameters"
    ]
   },
   "outputs": [],
   "source": [
    "CELL_TYPE = 'pDC'\n",
    "N_GENES: int = 20\n",
    "SEED = 'shap_studyID' #'disease_NOstudy' 'study_NOdisease' or 'int' or 'shap_studyID'\n",
    "TEST_SPLIT_IDX: int = 1 #[0,4]"
   ]
  },
  {
   "cell_type": "code",
   "execution_count": 2,
   "id": "dcf15d2f",
   "metadata": {
    "execution": {
     "iopub.execute_input": "2025-05-15T15:59:57.058998Z",
     "iopub.status.busy": "2025-05-15T15:59:57.058633Z",
     "iopub.status.idle": "2025-05-15T15:59:57.060787Z",
     "shell.execute_reply": "2025-05-15T15:59:57.060440Z"
    },
    "papermill": {
     "duration": 0.014014,
     "end_time": "2025-05-15T15:59:57.061713",
     "exception": false,
     "start_time": "2025-05-15T15:59:57.047699",
     "status": "completed"
    },
    "tags": [
     "injected-parameters"
    ]
   },
   "outputs": [],
   "source": [
    "# Parameters\n",
    "CELL_TYPE = \"Mono\"\n",
    "SEED = 8\n",
    "TEST_SPLIT_IDX = 3\n"
   ]
  },
  {
   "cell_type": "code",
   "execution_count": 3,
   "id": "c0213d76",
   "metadata": {
    "execution": {
     "iopub.execute_input": "2025-05-15T15:59:57.107582Z",
     "iopub.status.busy": "2025-05-15T15:59:57.107093Z",
     "iopub.status.idle": "2025-05-15T15:59:57.109469Z",
     "shell.execute_reply": "2025-05-15T15:59:57.109163Z"
    },
    "papermill": {
     "duration": 0.021258,
     "end_time": "2025-05-15T15:59:57.110275",
     "exception": false,
     "start_time": "2025-05-15T15:59:57.089017",
     "status": "completed"
    },
    "tags": []
   },
   "outputs": [],
   "source": [
    "N_SPLITS: int = 5\n",
    "N_TRIALS: int = 50"
   ]
  },
  {
   "cell_type": "code",
   "execution_count": 4,
   "id": "4083662c",
   "metadata": {
    "execution": {
     "iopub.execute_input": "2025-05-15T15:59:57.159551Z",
     "iopub.status.busy": "2025-05-15T15:59:57.159097Z",
     "iopub.status.idle": "2025-05-15T15:59:59.373392Z",
     "shell.execute_reply": "2025-05-15T15:59:59.372880Z"
    },
    "papermill": {
     "duration": 2.24316,
     "end_time": "2025-05-15T15:59:59.374694",
     "exception": false,
     "start_time": "2025-05-15T15:59:57.131534",
     "status": "completed"
    },
    "tags": []
   },
   "outputs": [],
   "source": [
    "import os\n",
    "import sys\n",
    "from pyprojroot.here import here\n",
    "import pandas as pd\n",
    "import anndata as ad\n",
    "import numpy as np\n",
    "import math\n",
    "from sklearn.model_selection import StratifiedGroupKFold\n",
    "from sklearn.preprocessing import LabelEncoder\n",
    "from sklearn.metrics import f1_score\n",
    "import matplotlib.pyplot as plt\n",
    "import seaborn as sns\n",
    "from itertools import product\n",
    "from sklearn.metrics import balanced_accuracy_score, f1_score\n",
    "import optuna\n",
    "\n",
    "import joblib\n",
    "import pickle\n",
    "import datetime\n",
    "\n",
    "import collections\n",
    "\n",
    "import xgboost\n",
    "from sklearn.preprocessing import LabelEncoder\n",
    "\n",
    "import scipy.sparse as ssp\n",
    "import joblib\n",
    "\n",
    "from dotenv import load_dotenv"
   ]
  },
  {
   "cell_type": "code",
   "execution_count": 5,
   "id": "44c77a32",
   "metadata": {
    "execution": {
     "iopub.execute_input": "2025-05-15T15:59:59.389251Z",
     "iopub.status.busy": "2025-05-15T15:59:59.387929Z",
     "iopub.status.idle": "2025-05-15T15:59:59.396486Z",
     "shell.execute_reply": "2025-05-15T15:59:59.396185Z"
    },
    "papermill": {
     "duration": 0.016441,
     "end_time": "2025-05-15T15:59:59.397509",
     "exception": false,
     "start_time": "2025-05-15T15:59:59.381068",
     "status": "completed"
    },
    "tags": []
   },
   "outputs": [
    {
     "data": {
      "text/plain": [
       "True"
      ]
     },
     "execution_count": 5,
     "metadata": {},
     "output_type": "execute_result"
    }
   ],
   "source": [
    "load_dotenv()"
   ]
  },
  {
   "cell_type": "markdown",
   "id": "d879e8bb",
   "metadata": {
    "papermill": {
     "duration": 0.019454,
     "end_time": "2025-05-15T15:59:59.431800",
     "exception": false,
     "start_time": "2025-05-15T15:59:59.412346",
     "status": "completed"
    },
    "tags": []
   },
   "source": [
    "# LOAD DATASET"
   ]
  },
  {
   "cell_type": "code",
   "execution_count": 6,
   "id": "86856cc4",
   "metadata": {
    "execution": {
     "iopub.execute_input": "2025-05-15T15:59:59.445083Z",
     "iopub.status.busy": "2025-05-15T15:59:59.444845Z",
     "iopub.status.idle": "2025-05-15T16:00:00.611222Z",
     "shell.execute_reply": "2025-05-15T16:00:00.610771Z"
    },
    "papermill": {
     "duration": 1.174202,
     "end_time": "2025-05-15T16:00:00.612365",
     "exception": false,
     "start_time": "2025-05-15T15:59:59.438163",
     "status": "completed"
    },
    "tags": []
   },
   "outputs": [],
   "source": [
    "train_adata = ad.read_h5ad(\n",
    "    here(f'03_downstream_analysis/08_gene_importance/xgboost_external_validation/xgboost_TopN_genes/data_cellTypes/EXTERNAL_{CELL_TYPE}.filtered.log1p.h5ad')\n",
    ")"
   ]
  },
  {
   "cell_type": "code",
   "execution_count": 7,
   "id": "724a7d44",
   "metadata": {
    "execution": {
     "iopub.execute_input": "2025-05-15T16:00:00.625393Z",
     "iopub.status.busy": "2025-05-15T16:00:00.625119Z",
     "iopub.status.idle": "2025-05-15T16:00:00.657001Z",
     "shell.execute_reply": "2025-05-15T16:00:00.656657Z"
    },
    "papermill": {
     "duration": 0.039189,
     "end_time": "2025-05-15T16:00:00.657887",
     "exception": false,
     "start_time": "2025-05-15T16:00:00.618698",
     "status": "completed"
    },
    "tags": []
   },
   "outputs": [
    {
     "name": "stdout",
     "output_type": "stream",
     "text": [
      "['ENSG00000066294' 'ENSG00000123358' 'ENSG00000196154' 'ENSG00000241837'\n",
      " 'ENSG00000120738' 'ENSG00000145912' 'ENSG00000123689' 'ENSG00000026297'\n",
      " 'ENSG00000164104' 'ENSG00000100368' 'ENSG00000160710' 'ENSG00000134321'\n",
      " 'ENSG00000197405' 'ENSG00000100934' 'ENSG00000243678' 'ENSG00000090554'\n",
      " 'ENSG00000123416' 'ENSG00000124882' 'ENSG00000146592' 'ENSG00000141506'\n",
      " 'ENSG00000145220' 'ENSG00000138107' 'ENSG00000160932' 'ENSG00000223865'\n",
      " 'ENSG00000118971' 'ENSG00000111331' 'ENSG00000166847' 'ENSG00000196735'\n",
      " 'ENSG00000104904' 'ENSG00000030110' 'ENSG00000232810' 'ENSG00000126561'\n",
      " 'ENSG00000196961' 'ENSG00000136689' 'ENSG00000118640' 'ENSG00000019169'\n",
      " 'ENSG00000197747' 'ENSG00000121858' 'ENSG00000132510' 'ENSG00000106066'\n",
      " 'ENSG00000163191' 'ENSG00000113441' 'ENSG00000135046' 'ENSG00000167283'\n",
      " 'ENSG00000166710' 'ENSG00000113732' 'ENSG00000187116' 'ENSG00000100365'\n",
      " 'ENSG00000105835' 'ENSG00000170458' 'ENSG00000177575' 'ENSG00000092820'\n",
      " 'ENSG00000106952' 'ENSG00000100280' 'ENSG00000204577' 'ENSG00000124731'\n",
      " 'ENSG00000140379' 'ENSG00000165092' 'ENSG00000144746' 'ENSG00000150093'\n",
      " 'ENSG00000112137' 'ENSG00000175203' 'ENSG00000127540' 'ENSG00000143924'\n",
      " 'ENSG00000168610' 'ENSG00000068831' 'ENSG00000010327' 'ENSG00000009790'\n",
      " 'ENSG00000179921' 'ENSG00000205220' 'ENSG00000090376' 'ENSG00000121552'\n",
      " 'ENSG00000136003' 'ENSG00000127184' 'ENSG00000129757' 'ENSG00000118508'\n",
      " 'ENSG00000196083' 'ENSG00000141526' 'ENSG00000119655' 'ENSG00000277632'\n",
      " 'ENSG00000077238' 'ENSG00000197872' 'ENSG00000167004' 'ENSG00000115267'\n",
      " 'ENSG00000123685' 'ENSG00000130429' 'ENSG00000127314' 'ENSG00000108622'\n",
      " 'ENSG00000051108' 'ENSG00000102524' 'ENSG00000101336' 'ENSG00000179295'\n",
      " 'ENSG00000165029' 'ENSG00000175567' 'ENSG00000118515' 'ENSG00000079805'\n",
      " 'ENSG00000157873' 'ENSG00000177721' 'ENSG00000175489' 'ENSG00000172531'\n",
      " 'ENSG00000166888' 'ENSG00000164308' 'ENSG00000120742' 'ENSG00000169554'\n",
      " 'ENSG00000140749' 'ENSG00000090266' 'ENSG00000101608' 'ENSG00000018280'\n",
      " 'ENSG00000119917' 'ENSG00000136156' 'ENSG00000127022' 'ENSG00000164543'\n",
      " 'ENSG00000078043' 'ENSG00000085265']\n"
     ]
    }
   ],
   "source": [
    "if SEED != 'all':\n",
    "    gene_subset = np.load(here(f'03_downstream_analysis/08_gene_importance/xgboost_external_validation/shap_gene_selection/gene_subsets_{N_GENES}/{CELL_TYPE}_{SEED}.npy'), allow_pickle=True)\n",
    "    train_adata = train_adata[:,gene_subset]\n",
    "    print(gene_subset)\n",
    "elif SEED == 'all':\n",
    "    print('Using all genes')\n",
    "else:\n",
    "    raise ValueError()"
   ]
  },
  {
   "cell_type": "code",
   "execution_count": 8,
   "id": "e84f40b5",
   "metadata": {
    "execution": {
     "iopub.execute_input": "2025-05-15T16:00:00.701605Z",
     "iopub.status.busy": "2025-05-15T16:00:00.701329Z",
     "iopub.status.idle": "2025-05-15T16:00:00.704255Z",
     "shell.execute_reply": "2025-05-15T16:00:00.703959Z"
    },
    "papermill": {
     "duration": 0.041164,
     "end_time": "2025-05-15T16:00:00.705104",
     "exception": false,
     "start_time": "2025-05-15T16:00:00.663940",
     "status": "completed"
    },
    "tags": []
   },
   "outputs": [
    {
     "data": {
      "text/plain": [
       "(137435, 114)"
      ]
     },
     "execution_count": 8,
     "metadata": {},
     "output_type": "execute_result"
    }
   ],
   "source": [
    "train_adata.shape"
   ]
  },
  {
   "cell_type": "code",
   "execution_count": 9,
   "id": "4c7382a3",
   "metadata": {
    "execution": {
     "iopub.execute_input": "2025-05-15T16:00:00.736532Z",
     "iopub.status.busy": "2025-05-15T16:00:00.736282Z",
     "iopub.status.idle": "2025-05-15T16:00:00.740490Z",
     "shell.execute_reply": "2025-05-15T16:00:00.740210Z"
    },
    "papermill": {
     "duration": 0.019337,
     "end_time": "2025-05-15T16:00:00.741278",
     "exception": false,
     "start_time": "2025-05-15T16:00:00.721941",
     "status": "completed"
    },
    "tags": []
   },
   "outputs": [
    {
     "data": {
      "text/plain": [
       "['RA', 'healthy', 'COVID', 'HIV', 'cirrhosis', 'CD', 'SLE', 'sepsis']\n",
       "Categories (8, object): ['CD', 'COVID', 'HIV', 'RA', 'SLE', 'cirrhosis', 'healthy', 'sepsis']"
      ]
     },
     "execution_count": 9,
     "metadata": {},
     "output_type": "execute_result"
    }
   ],
   "source": [
    "train_adata.obs.disease.unique()"
   ]
  },
  {
   "cell_type": "code",
   "execution_count": 10,
   "id": "4a46c69f",
   "metadata": {
    "execution": {
     "iopub.execute_input": "2025-05-15T16:00:00.753936Z",
     "iopub.status.busy": "2025-05-15T16:00:00.753697Z",
     "iopub.status.idle": "2025-05-15T16:00:00.757581Z",
     "shell.execute_reply": "2025-05-15T16:00:00.757295Z"
    },
    "papermill": {
     "duration": 0.011227,
     "end_time": "2025-05-15T16:00:00.758344",
     "exception": false,
     "start_time": "2025-05-15T16:00:00.747117",
     "status": "completed"
    },
    "tags": []
   },
   "outputs": [
    {
     "data": {
      "text/plain": [
       "['SCGT00val_I0364_T0', 'SCGT00val_I036028_T0', 'SCGT00val_I036024_T0', 'SCGT00val_I036023_T0', 'SCGT00val_I036019_T0', ..., '10XGenomics_10XHC2_T0', '10XGenomics_10XHC3_T0', '10XGenomics_10XHC5_T0', '10XGenomics_10XHC7_T0', '10XGenomics_10XHC8_T0']\n",
       "Length: 86\n",
       "Categories (86, object): ['10XGenomics_10XHC1_T0', '10XGenomics_10XHC2_T0', '10XGenomics_10XHC3_T0', '10XGenomics_10XHC4_T0', ..., 'Savage2021_BRISL6_T0', 'Savage2021_BRISL7_T0', 'Savage2021_PIDA_T0', 'Savage2021_PIDB_T0']"
      ]
     },
     "execution_count": 10,
     "metadata": {},
     "output_type": "execute_result"
    }
   ],
   "source": [
    "train_adata.obs.sampleID.unique()"
   ]
  },
  {
   "cell_type": "code",
   "execution_count": 11,
   "id": "417bebb2",
   "metadata": {
    "execution": {
     "iopub.execute_input": "2025-05-15T16:00:00.796897Z",
     "iopub.status.busy": "2025-05-15T16:00:00.796668Z",
     "iopub.status.idle": "2025-05-15T16:00:01.118047Z",
     "shell.execute_reply": "2025-05-15T16:00:01.117591Z"
    },
    "papermill": {
     "duration": 0.341274,
     "end_time": "2025-05-15T16:00:01.118982",
     "exception": false,
     "start_time": "2025-05-15T16:00:00.777708",
     "status": "completed"
    },
    "tags": []
   },
   "outputs": [],
   "source": [
    "all_idxs = np.arange(train_adata.obs.shape[0])\n",
    "left_out_splits = [s[1] for s in StratifiedGroupKFold(n_splits=N_SPLITS).split(all_idxs, train_adata.obs.disease, train_adata.obs.sampleID)]"
   ]
  },
  {
   "cell_type": "code",
   "execution_count": 12,
   "id": "978f24b1",
   "metadata": {
    "execution": {
     "iopub.execute_input": "2025-05-15T16:00:01.132211Z",
     "iopub.status.busy": "2025-05-15T16:00:01.131841Z",
     "iopub.status.idle": "2025-05-15T16:00:01.135310Z",
     "shell.execute_reply": "2025-05-15T16:00:01.135008Z"
    },
    "papermill": {
     "duration": 0.011033,
     "end_time": "2025-05-15T16:00:01.136098",
     "exception": false,
     "start_time": "2025-05-15T16:00:01.125065",
     "status": "completed"
    },
    "tags": []
   },
   "outputs": [
    {
     "data": {
      "text/plain": [
       "([0, 1, 2], 4, 3)"
      ]
     },
     "execution_count": 12,
     "metadata": {},
     "output_type": "execute_result"
    }
   ],
   "source": [
    "TRAIN_SPLIT_IDXS = [0,1,2,3,4]\n",
    "VAL_SPLIT_IDX = (TEST_SPLIT_IDX + 1) % 5\n",
    "TRAIN_SPLIT_IDXS.remove(TEST_SPLIT_IDX)\n",
    "TRAIN_SPLIT_IDXS.remove(VAL_SPLIT_IDX)\n",
    "TRAIN_SPLIT_IDXS, VAL_SPLIT_IDX, TEST_SPLIT_IDX"
   ]
  },
  {
   "cell_type": "code",
   "execution_count": 13,
   "id": "d0c9355c",
   "metadata": {
    "execution": {
     "iopub.execute_input": "2025-05-15T16:00:01.149177Z",
     "iopub.status.busy": "2025-05-15T16:00:01.148778Z",
     "iopub.status.idle": "2025-05-15T16:00:01.151521Z",
     "shell.execute_reply": "2025-05-15T16:00:01.151210Z"
    },
    "papermill": {
     "duration": 0.010354,
     "end_time": "2025-05-15T16:00:01.152286",
     "exception": false,
     "start_time": "2025-05-15T16:00:01.141932",
     "status": "completed"
    },
    "tags": []
   },
   "outputs": [],
   "source": [
    "train_idxs = np.concatenate([left_out_splits[idx] for idx in TRAIN_SPLIT_IDXS])\n",
    "val_idxs = left_out_splits[VAL_SPLIT_IDX]\n",
    "test_idxs = left_out_splits[TEST_SPLIT_IDX]"
   ]
  },
  {
   "cell_type": "markdown",
   "id": "ae8da7fb",
   "metadata": {
    "papermill": {
     "duration": 0.005745,
     "end_time": "2025-05-15T16:00:01.163674",
     "exception": false,
     "start_time": "2025-05-15T16:00:01.157929",
     "status": "completed"
    },
    "tags": []
   },
   "source": [
    "### SUBSET DATASET INTO TRAIN/TEST/VAL SPLITS"
   ]
  },
  {
   "cell_type": "code",
   "execution_count": 14,
   "id": "3c7f8314",
   "metadata": {
    "execution": {
     "iopub.execute_input": "2025-05-15T16:00:01.190622Z",
     "iopub.status.busy": "2025-05-15T16:00:01.190256Z",
     "iopub.status.idle": "2025-05-15T16:00:01.642193Z",
     "shell.execute_reply": "2025-05-15T16:00:01.641827Z"
    },
    "papermill": {
     "duration": 0.459807,
     "end_time": "2025-05-15T16:00:01.643037",
     "exception": false,
     "start_time": "2025-05-15T16:00:01.183230",
     "status": "completed"
    },
    "tags": []
   },
   "outputs": [
    {
     "data": {
      "text/plain": [
       "((81752, 114), (28646, 114), (27037, 114))"
      ]
     },
     "execution_count": 14,
     "metadata": {},
     "output_type": "execute_result"
    }
   ],
   "source": [
    "X_train = train_adata.X[train_idxs]\n",
    "X_test = train_adata.X[test_idxs]\n",
    "X_val = train_adata.X[val_idxs]\n",
    "X_train.shape, X_test.shape, X_val.shape"
   ]
  },
  {
   "cell_type": "code",
   "execution_count": 15,
   "id": "29cdfbc4",
   "metadata": {
    "execution": {
     "iopub.execute_input": "2025-05-15T16:00:01.656995Z",
     "iopub.status.busy": "2025-05-15T16:00:01.656732Z",
     "iopub.status.idle": "2025-05-15T16:00:01.672039Z",
     "shell.execute_reply": "2025-05-15T16:00:01.671562Z"
    },
    "papermill": {
     "duration": 0.023757,
     "end_time": "2025-05-15T16:00:01.673214",
     "exception": false,
     "start_time": "2025-05-15T16:00:01.649457",
     "status": "completed"
    },
    "tags": []
   },
   "outputs": [
    {
     "data": {
      "text/plain": [
       "((81752,), (28646,), (27037,))"
      ]
     },
     "execution_count": 15,
     "metadata": {},
     "output_type": "execute_result"
    }
   ],
   "source": [
    "y_train = train_adata.obs.iloc[train_idxs].disease.values.astype(str)\n",
    "y_test = train_adata.obs.iloc[test_idxs].disease.values.astype(str)\n",
    "y_val = train_adata.obs.iloc[val_idxs].disease.values.astype(str)\n",
    "y_train.shape, y_test.shape, y_val.shape"
   ]
  },
  {
   "cell_type": "code",
   "execution_count": 16,
   "id": "10690af0",
   "metadata": {
    "execution": {
     "iopub.execute_input": "2025-05-15T16:00:01.697228Z",
     "iopub.status.busy": "2025-05-15T16:00:01.697058Z",
     "iopub.status.idle": "2025-05-15T16:00:01.729592Z",
     "shell.execute_reply": "2025-05-15T16:00:01.729107Z"
    },
    "papermill": {
     "duration": 0.051055,
     "end_time": "2025-05-15T16:00:01.730826",
     "exception": false,
     "start_time": "2025-05-15T16:00:01.679771",
     "status": "completed"
    },
    "tags": []
   },
   "outputs": [],
   "source": [
    "lenc = LabelEncoder()\n",
    "y_train_enc = lenc.fit_transform(y_train)\n",
    "y_val_enc = lenc.transform(y_val)\n",
    "y_test_enc = lenc.transform(y_test)"
   ]
  },
  {
   "cell_type": "markdown",
   "id": "96a06885",
   "metadata": {
    "papermill": {
     "duration": 0.006975,
     "end_time": "2025-05-15T16:00:01.745198",
     "exception": false,
     "start_time": "2025-05-15T16:00:01.738223",
     "status": "completed"
    },
    "tags": []
   },
   "source": [
    "### GENERATE F1 "
   ]
  },
  {
   "cell_type": "code",
   "execution_count": 17,
   "id": "1ae9cefc",
   "metadata": {
    "execution": {
     "iopub.execute_input": "2025-05-15T16:00:01.761547Z",
     "iopub.status.busy": "2025-05-15T16:00:01.761191Z",
     "iopub.status.idle": "2025-05-15T16:00:01.763835Z",
     "shell.execute_reply": "2025-05-15T16:00:01.763496Z"
    },
    "papermill": {
     "duration": 0.01274,
     "end_time": "2025-05-15T16:00:01.764739",
     "exception": false,
     "start_time": "2025-05-15T16:00:01.751999",
     "status": "completed"
    },
    "tags": []
   },
   "outputs": [],
   "source": [
    "def custom_f1_score(y_true, y_pred):\n",
    "    return -f1_score(y_true, y_pred.argmax(1), average='weighted')"
   ]
  },
  {
   "cell_type": "code",
   "execution_count": 18,
   "id": "81414f59",
   "metadata": {
    "execution": {
     "iopub.execute_input": "2025-05-15T16:00:01.797207Z",
     "iopub.status.busy": "2025-05-15T16:00:01.796787Z",
     "iopub.status.idle": "2025-05-15T16:00:01.801109Z",
     "shell.execute_reply": "2025-05-15T16:00:01.800739Z"
    },
    "papermill": {
     "duration": 0.013399,
     "end_time": "2025-05-15T16:00:01.802043",
     "exception": false,
     "start_time": "2025-05-15T16:00:01.788644",
     "status": "completed"
    },
    "tags": []
   },
   "outputs": [],
   "source": [
    "eval_metric=custom_f1_score\n",
    "eval_metric_name='custom_f1_score'\n",
    "\n",
    "def objective(trial):\n",
    "    params = {\n",
    "        'n_estimators': 1500,\n",
    "        'max_depth': trial.suggest_int('max_depth', 3, 20),\n",
    "        'min_child_weight': trial.suggest_int('min_child_weight', 1, 250),\n",
    "        'subsample': trial.suggest_float('subsample', 0.1, 1.0),\n",
    "        'colsample_bynode': trial.suggest_float('colsample_bynode', 0.1, 1.0),\n",
    "        'learning_rate': trial.suggest_float('learning_rate', 1e-3, 5e-1, log=True),\n",
    "    }\n",
    "    pruning_callback = optuna.integration.XGBoostPruningCallback(trial, f'validation_0-{eval_metric_name}')\n",
    "    es_callback = xgboost.callback.EarlyStopping(20, min_delta=0.001)\n",
    "    xgb = xgboost.XGBClassifier(\n",
    "        eval_metric=eval_metric,\n",
    "        callbacks=[pruning_callback, es_callback],\n",
    "        n_jobs=5,\n",
    "        **params\n",
    "    )\n",
    "    xgb.fit(\n",
    "        X_train, \n",
    "        y_train_enc, \n",
    "        verbose=0,\n",
    "        eval_set=[(X_val, y_val_enc)],\n",
    "    )\n",
    "    trial.set_user_attr('best_iteration', xgb.best_iteration)\n",
    "\n",
    "    return xgb.best_score"
   ]
  },
  {
   "cell_type": "code",
   "execution_count": 19,
   "id": "88cb5e11",
   "metadata": {
    "execution": {
     "iopub.execute_input": "2025-05-15T16:00:01.817299Z",
     "iopub.status.busy": "2025-05-15T16:00:01.816883Z",
     "iopub.status.idle": "2025-05-15T16:20:01.601587Z",
     "shell.execute_reply": "2025-05-15T16:20:01.601203Z"
    },
    "papermill": {
     "duration": 1199.793342,
     "end_time": "2025-05-15T16:20:01.602536",
     "exception": false,
     "start_time": "2025-05-15T16:00:01.809194",
     "status": "completed"
    },
    "scrolled": true,
    "tags": []
   },
   "outputs": [
    {
     "name": "stderr",
     "output_type": "stream",
     "text": [
      "[I 2025-05-15 18:00:01,819] A new study created in memory with name: no-name-6b3e35fa-b835-4ff4-992e-75962009ccb6\n"
     ]
    },
    {
     "name": "stderr",
     "output_type": "stream",
     "text": [
      "[I 2025-05-15 18:00:15,676] Trial 0 finished with value: -0.698734 and parameters: {'max_depth': 9, 'min_child_weight': 238, 'subsample': 0.7587945476302645, 'colsample_bynode': 0.6387926357773329, 'learning_rate': 0.0026368755339723046}. Best is trial 0 with value: -0.698734.\n"
     ]
    },
    {
     "name": "stderr",
     "output_type": "stream",
     "text": [
      "[I 2025-05-15 18:01:30,811] Trial 1 finished with value: -0.790997 and parameters: {'max_depth': 5, 'min_child_weight': 15, 'subsample': 0.8795585311974417, 'colsample_bynode': 0.6410035105688879, 'learning_rate': 0.08148293210105287}. Best is trial 1 with value: -0.790997.\n"
     ]
    },
    {
     "name": "stderr",
     "output_type": "stream",
     "text": [
      "[I 2025-05-15 18:02:12,838] Trial 2 finished with value: -0.663213 and parameters: {'max_depth': 3, 'min_child_weight': 243, 'subsample': 0.8491983767203796, 'colsample_bynode': 0.29110519961044856, 'learning_rate': 0.003095566460242371}. Best is trial 1 with value: -0.790997.\n"
     ]
    },
    {
     "name": "stderr",
     "output_type": "stream",
     "text": [
      "[I 2025-05-15 18:02:34,642] Trial 3 finished with value: -0.723213 and parameters: {'max_depth': 6, 'min_child_weight': 77, 'subsample': 0.5722807884690141, 'colsample_bynode': 0.48875051677790415, 'learning_rate': 0.006109683510122491}. Best is trial 1 with value: -0.790997.\n"
     ]
    },
    {
     "name": "stderr",
     "output_type": "stream",
     "text": [
      "[I 2025-05-15 18:05:12,141] Trial 4 finished with value: -0.780519 and parameters: {'max_depth': 14, 'min_child_weight': 35, 'subsample': 0.3629301836816964, 'colsample_bynode': 0.4297256589643226, 'learning_rate': 0.01701841881702917}. Best is trial 1 with value: -0.790997.\n"
     ]
    },
    {
     "name": "stderr",
     "output_type": "stream",
     "text": [
      "[I 2025-05-15 18:05:24,761] Trial 5 finished with value: -0.724471 and parameters: {'max_depth': 17, 'min_child_weight': 50, 'subsample': 0.5628109945722505, 'colsample_bynode': 0.6331731119758383, 'learning_rate': 0.0013346527038305934}. Best is trial 1 with value: -0.790997.\n"
     ]
    },
    {
     "name": "stderr",
     "output_type": "stream",
     "text": [
      "[I 2025-05-15 18:05:25,604] Trial 6 pruned. Trial was pruned at iteration 0.\n"
     ]
    },
    {
     "name": "stderr",
     "output_type": "stream",
     "text": [
      "[I 2025-05-15 18:05:26,435] Trial 7 pruned. Trial was pruned at iteration 0.\n"
     ]
    },
    {
     "name": "stderr",
     "output_type": "stream",
     "text": [
      "[I 2025-05-15 18:05:27,256] Trial 8 pruned. Trial was pruned at iteration 0.\n"
     ]
    },
    {
     "name": "stderr",
     "output_type": "stream",
     "text": [
      "[I 2025-05-15 18:05:28,528] Trial 9 pruned. Trial was pruned at iteration 1.\n"
     ]
    },
    {
     "name": "stderr",
     "output_type": "stream",
     "text": [
      "[I 2025-05-15 18:05:29,538] Trial 10 pruned. Trial was pruned at iteration 0.\n"
     ]
    },
    {
     "name": "stderr",
     "output_type": "stream",
     "text": [
      "[I 2025-05-15 18:07:14,125] Trial 11 finished with value: -0.794246 and parameters: {'max_depth': 10, 'min_child_weight': 3, 'subsample': 0.34014304150377095, 'colsample_bynode': 0.40131565860091256, 'learning_rate': 0.057899203666416425}. Best is trial 11 with value: -0.794246.\n"
     ]
    },
    {
     "name": "stderr",
     "output_type": "stream",
     "text": [
      "[I 2025-05-15 18:07:15,059] Trial 12 pruned. Trial was pruned at iteration 0.\n"
     ]
    },
    {
     "name": "stderr",
     "output_type": "stream",
     "text": [
      "[I 2025-05-15 18:07:15,884] Trial 13 pruned. Trial was pruned at iteration 0.\n"
     ]
    },
    {
     "name": "stderr",
     "output_type": "stream",
     "text": [
      "[I 2025-05-15 18:07:16,668] Trial 14 pruned. Trial was pruned at iteration 0.\n"
     ]
    },
    {
     "name": "stderr",
     "output_type": "stream",
     "text": [
      "[I 2025-05-15 18:09:18,314] Trial 15 finished with value: -0.786952 and parameters: {'max_depth': 20, 'min_child_weight': 1, 'subsample': 0.996414878572692, 'colsample_bynode': 0.2868276435331959, 'learning_rate': 0.13085256947195753}. Best is trial 11 with value: -0.794246.\n"
     ]
    },
    {
     "name": "stderr",
     "output_type": "stream",
     "text": [
      "[I 2025-05-15 18:09:19,134] Trial 16 pruned. Trial was pruned at iteration 0.\n"
     ]
    },
    {
     "name": "stderr",
     "output_type": "stream",
     "text": [
      "[I 2025-05-15 18:09:50,463] Trial 17 finished with value: -0.786279 and parameters: {'max_depth': 11, 'min_child_weight': 183, 'subsample': 0.4631731185003147, 'colsample_bynode': 0.7825271940383387, 'learning_rate': 0.4877754947476644}. Best is trial 11 with value: -0.794246.\n"
     ]
    },
    {
     "name": "stderr",
     "output_type": "stream",
     "text": [
      "[I 2025-05-15 18:09:51,262] Trial 18 pruned. Trial was pruned at iteration 0.\n"
     ]
    },
    {
     "name": "stderr",
     "output_type": "stream",
     "text": [
      "[I 2025-05-15 18:09:52,074] Trial 19 pruned. Trial was pruned at iteration 0.\n"
     ]
    },
    {
     "name": "stderr",
     "output_type": "stream",
     "text": [
      "[I 2025-05-15 18:11:05,305] Trial 20 finished with value: -0.796436 and parameters: {'max_depth': 7, 'min_child_weight': 24, 'subsample': 0.8601573496833833, 'colsample_bynode': 0.7044515243872378, 'learning_rate': 0.10169686165917782}. Best is trial 20 with value: -0.796436.\n"
     ]
    },
    {
     "name": "stderr",
     "output_type": "stream",
     "text": [
      "[I 2025-05-15 18:12:23,070] Trial 21 finished with value: -0.795303 and parameters: {'max_depth': 7, 'min_child_weight': 24, 'subsample': 0.8524655332992119, 'colsample_bynode': 0.721093220943723, 'learning_rate': 0.09482021333017883}. Best is trial 20 with value: -0.796436.\n"
     ]
    },
    {
     "name": "stderr",
     "output_type": "stream",
     "text": [
      "[I 2025-05-15 18:12:36,420] Trial 22 pruned. Trial was pruned at iteration 29.\n"
     ]
    },
    {
     "name": "stderr",
     "output_type": "stream",
     "text": [
      "[I 2025-05-15 18:13:24,227] Trial 23 finished with value: -0.797644 and parameters: {'max_depth': 12, 'min_child_weight': 59, 'subsample': 0.8406277301155263, 'colsample_bynode': 0.8887534207805952, 'learning_rate': 0.23520379630805044}. Best is trial 23 with value: -0.797644.\n"
     ]
    },
    {
     "name": "stderr",
     "output_type": "stream",
     "text": [
      "[I 2025-05-15 18:14:07,849] Trial 24 finished with value: -0.799706 and parameters: {'max_depth': 13, 'min_child_weight': 58, 'subsample': 0.8435504829543932, 'colsample_bynode': 0.8700547329479448, 'learning_rate': 0.2541473735359046}. Best is trial 24 with value: -0.799706.\n"
     ]
    },
    {
     "name": "stderr",
     "output_type": "stream",
     "text": [
      "[I 2025-05-15 18:14:54,324] Trial 25 finished with value: -0.796653 and parameters: {'max_depth': 16, 'min_child_weight': 62, 'subsample': 0.9240636426199348, 'colsample_bynode': 0.8800723724536087, 'learning_rate': 0.24136925515990743}. Best is trial 24 with value: -0.799706.\n"
     ]
    },
    {
     "name": "stderr",
     "output_type": "stream",
     "text": [
      "[I 2025-05-15 18:15:34,193] Trial 26 finished with value: -0.795972 and parameters: {'max_depth': 16, 'min_child_weight': 61, 'subsample': 0.9132302914896628, 'colsample_bynode': 0.8749363218222799, 'learning_rate': 0.28382580077254}. Best is trial 24 with value: -0.799706.\n"
     ]
    },
    {
     "name": "stderr",
     "output_type": "stream",
     "text": [
      "[I 2025-05-15 18:15:35,137] Trial 27 pruned. Trial was pruned at iteration 0.\n"
     ]
    },
    {
     "name": "stderr",
     "output_type": "stream",
     "text": [
      "[I 2025-05-15 18:16:14,466] Trial 28 finished with value: -0.794097 and parameters: {'max_depth': 20, 'min_child_weight': 57, 'subsample': 0.9376997633993704, 'colsample_bynode': 0.8560594041949328, 'learning_rate': 0.238828417288577}. Best is trial 24 with value: -0.799706.\n"
     ]
    },
    {
     "name": "stderr",
     "output_type": "stream",
     "text": [
      "[I 2025-05-15 18:16:15,364] Trial 29 pruned. Trial was pruned at iteration 0.\n"
     ]
    },
    {
     "name": "stderr",
     "output_type": "stream",
     "text": [
      "[I 2025-05-15 18:16:16,346] Trial 30 pruned. Trial was pruned at iteration 0.\n"
     ]
    },
    {
     "name": "stderr",
     "output_type": "stream",
     "text": [
      "[I 2025-05-15 18:16:18,162] Trial 31 pruned. Trial was pruned at iteration 2.\n"
     ]
    },
    {
     "name": "stderr",
     "output_type": "stream",
     "text": [
      "[I 2025-05-15 18:16:18,954] Trial 32 pruned. Trial was pruned at iteration 0.\n"
     ]
    },
    {
     "name": "stderr",
     "output_type": "stream",
     "text": [
      "[I 2025-05-15 18:16:19,841] Trial 33 pruned. Trial was pruned at iteration 0.\n"
     ]
    },
    {
     "name": "stderr",
     "output_type": "stream",
     "text": [
      "[I 2025-05-15 18:16:52,678] Trial 34 finished with value: -0.795406 and parameters: {'max_depth': 12, 'min_child_weight': 25, 'subsample': 0.8475433989447727, 'colsample_bynode': 0.9380529722133957, 'learning_rate': 0.4538259033367945}. Best is trial 24 with value: -0.799706.\n"
     ]
    },
    {
     "name": "stderr",
     "output_type": "stream",
     "text": [
      "[I 2025-05-15 18:17:29,834] Trial 35 finished with value: -0.798223 and parameters: {'max_depth': 15, 'min_child_weight': 45, 'subsample': 0.6873885171571359, 'colsample_bynode': 0.8286122392498129, 'learning_rate': 0.31598546238101377}. Best is trial 24 with value: -0.799706.\n"
     ]
    },
    {
     "name": "stderr",
     "output_type": "stream",
     "text": [
      "[I 2025-05-15 18:18:09,549] Trial 36 finished with value: -0.797611 and parameters: {'max_depth': 15, 'min_child_weight': 49, 'subsample': 0.6992572858155286, 'colsample_bynode': 0.8224184189034327, 'learning_rate': 0.3331695069362804}. Best is trial 24 with value: -0.799706.\n"
     ]
    },
    {
     "name": "stderr",
     "output_type": "stream",
     "text": [
      "[I 2025-05-15 18:18:30,865] Trial 37 finished with value: -0.792384 and parameters: {'max_depth': 15, 'min_child_weight': 42, 'subsample': 0.6457369428590696, 'colsample_bynode': 0.819800564704332, 'learning_rate': 0.3375273694192536}. Best is trial 24 with value: -0.799706.\n"
     ]
    },
    {
     "name": "stderr",
     "output_type": "stream",
     "text": [
      "[I 2025-05-15 18:18:31,587] Trial 38 pruned. Trial was pruned at iteration 0.\n"
     ]
    },
    {
     "name": "stderr",
     "output_type": "stream",
     "text": [
      "[I 2025-05-15 18:18:32,251] Trial 39 pruned. Trial was pruned at iteration 0.\n"
     ]
    },
    {
     "name": "stderr",
     "output_type": "stream",
     "text": [
      "[I 2025-05-15 18:18:32,984] Trial 40 pruned. Trial was pruned at iteration 0.\n"
     ]
    },
    {
     "name": "stderr",
     "output_type": "stream",
     "text": [
      "[I 2025-05-15 18:19:05,823] Trial 41 finished with value: -0.79444 and parameters: {'max_depth': 16, 'min_child_weight': 67, 'subsample': 0.7450697784837995, 'colsample_bynode': 0.8441744529043601, 'learning_rate': 0.2203697177281337}. Best is trial 24 with value: -0.799706.\n"
     ]
    },
    {
     "name": "stderr",
     "output_type": "stream",
     "text": [
      "[I 2025-05-15 18:19:06,626] Trial 42 pruned. Trial was pruned at iteration 0.\n"
     ]
    },
    {
     "name": "stderr",
     "output_type": "stream",
     "text": [
      "[I 2025-05-15 18:19:08,590] Trial 43 pruned. Trial was pruned at iteration 3.\n"
     ]
    },
    {
     "name": "stderr",
     "output_type": "stream",
     "text": [
      "[I 2025-05-15 18:19:09,321] Trial 44 pruned. Trial was pruned at iteration 0.\n"
     ]
    },
    {
     "name": "stderr",
     "output_type": "stream",
     "text": [
      "[I 2025-05-15 18:19:11,661] Trial 45 pruned. Trial was pruned at iteration 3.\n"
     ]
    },
    {
     "name": "stderr",
     "output_type": "stream",
     "text": [
      "[I 2025-05-15 18:19:14,060] Trial 46 pruned. Trial was pruned at iteration 3.\n"
     ]
    },
    {
     "name": "stderr",
     "output_type": "stream",
     "text": [
      "[I 2025-05-15 18:19:37,054] Trial 47 finished with value: -0.793512 and parameters: {'max_depth': 17, 'min_child_weight': 73, 'subsample': 0.6097978880555694, 'colsample_bynode': 0.8347642232446635, 'learning_rate': 0.3606750957301908}. Best is trial 24 with value: -0.799706.\n"
     ]
    },
    {
     "name": "stderr",
     "output_type": "stream",
     "text": [
      "[I 2025-05-15 18:20:00,058] Trial 48 finished with value: -0.792828 and parameters: {'max_depth': 19, 'min_child_weight': 48, 'subsample': 0.8196903373802995, 'colsample_bynode': 0.9785517295376219, 'learning_rate': 0.3018966807175975}. Best is trial 24 with value: -0.799706.\n"
     ]
    },
    {
     "name": "stderr",
     "output_type": "stream",
     "text": [
      "[I 2025-05-15 18:20:01,525] Trial 49 pruned. Trial was pruned at iteration 2.\n"
     ]
    }
   ],
   "source": [
    "sampler = optuna.samplers.TPESampler(seed=42)\n",
    "study = optuna.create_study(direction='minimize', sampler=sampler)\n",
    "study.optimize(objective, n_trials=N_TRIALS, gc_after_trial=True)"
   ]
  },
  {
   "cell_type": "code",
   "execution_count": 20,
   "id": "a2a43e1d",
   "metadata": {
    "execution": {
     "iopub.execute_input": "2025-05-15T16:20:01.643068Z",
     "iopub.status.busy": "2025-05-15T16:20:01.642892Z",
     "iopub.status.idle": "2025-05-15T16:20:01.669097Z",
     "shell.execute_reply": "2025-05-15T16:20:01.668797Z"
    },
    "papermill": {
     "duration": 0.03581,
     "end_time": "2025-05-15T16:20:01.669953",
     "exception": false,
     "start_time": "2025-05-15T16:20:01.634143",
     "status": "completed"
    },
    "tags": []
   },
   "outputs": [
    {
     "data": {
      "text/plain": [
       "['/scratch_isilon/groups/singlecell/shared/projects/Inflammation-PBMCs-Atlas/03_downstream_analysis/08_gene_importance/xgboost_external_validation/xgboost_TopN_genes/results_20/study/Mono_8_3_xgboost.pkl']"
      ]
     },
     "execution_count": 20,
     "metadata": {},
     "output_type": "execute_result"
    }
   ],
   "source": [
    "out_dir = here(f'03_downstream_analysis/08_gene_importance/xgboost_external_validation/xgboost_TopN_genes/results_{N_GENES}/study')\n",
    "\n",
    "if not os.path.exists(out_dir):\n",
    "    os.makedirs(out_dir)\n",
    "    \n",
    "joblib.dump(study,os.path.join(out_dir, f'{CELL_TYPE}_{SEED}_{TEST_SPLIT_IDX}_xgboost.pkl'))"
   ]
  },
  {
   "cell_type": "code",
   "execution_count": 21,
   "id": "06c4d2be",
   "metadata": {
    "execution": {
     "iopub.execute_input": "2025-05-15T16:20:01.697015Z",
     "iopub.status.busy": "2025-05-15T16:20:01.696641Z",
     "iopub.status.idle": "2025-05-15T16:20:19.775437Z",
     "shell.execute_reply": "2025-05-15T16:20:19.775092Z"
    },
    "papermill": {
     "duration": 18.088325,
     "end_time": "2025-05-15T16:20:19.776315",
     "exception": false,
     "start_time": "2025-05-15T16:20:01.687990",
     "status": "completed"
    },
    "tags": []
   },
   "outputs": [
    {
     "data": {
      "text/html": [
       "<style>#sk-container-id-1 {\n",
       "  /* Definition of color scheme common for light and dark mode */\n",
       "  --sklearn-color-text: black;\n",
       "  --sklearn-color-line: gray;\n",
       "  /* Definition of color scheme for unfitted estimators */\n",
       "  --sklearn-color-unfitted-level-0: #fff5e6;\n",
       "  --sklearn-color-unfitted-level-1: #f6e4d2;\n",
       "  --sklearn-color-unfitted-level-2: #ffe0b3;\n",
       "  --sklearn-color-unfitted-level-3: chocolate;\n",
       "  /* Definition of color scheme for fitted estimators */\n",
       "  --sklearn-color-fitted-level-0: #f0f8ff;\n",
       "  --sklearn-color-fitted-level-1: #d4ebff;\n",
       "  --sklearn-color-fitted-level-2: #b3dbfd;\n",
       "  --sklearn-color-fitted-level-3: cornflowerblue;\n",
       "\n",
       "  /* Specific color for light theme */\n",
       "  --sklearn-color-text-on-default-background: var(--sg-text-color, var(--theme-code-foreground, var(--jp-content-font-color1, black)));\n",
       "  --sklearn-color-background: var(--sg-background-color, var(--theme-background, var(--jp-layout-color0, white)));\n",
       "  --sklearn-color-border-box: var(--sg-text-color, var(--theme-code-foreground, var(--jp-content-font-color1, black)));\n",
       "  --sklearn-color-icon: #696969;\n",
       "\n",
       "  @media (prefers-color-scheme: dark) {\n",
       "    /* Redefinition of color scheme for dark theme */\n",
       "    --sklearn-color-text-on-default-background: var(--sg-text-color, var(--theme-code-foreground, var(--jp-content-font-color1, white)));\n",
       "    --sklearn-color-background: var(--sg-background-color, var(--theme-background, var(--jp-layout-color0, #111)));\n",
       "    --sklearn-color-border-box: var(--sg-text-color, var(--theme-code-foreground, var(--jp-content-font-color1, white)));\n",
       "    --sklearn-color-icon: #878787;\n",
       "  }\n",
       "}\n",
       "\n",
       "#sk-container-id-1 {\n",
       "  color: var(--sklearn-color-text);\n",
       "}\n",
       "\n",
       "#sk-container-id-1 pre {\n",
       "  padding: 0;\n",
       "}\n",
       "\n",
       "#sk-container-id-1 input.sk-hidden--visually {\n",
       "  border: 0;\n",
       "  clip: rect(1px 1px 1px 1px);\n",
       "  clip: rect(1px, 1px, 1px, 1px);\n",
       "  height: 1px;\n",
       "  margin: -1px;\n",
       "  overflow: hidden;\n",
       "  padding: 0;\n",
       "  position: absolute;\n",
       "  width: 1px;\n",
       "}\n",
       "\n",
       "#sk-container-id-1 div.sk-dashed-wrapped {\n",
       "  border: 1px dashed var(--sklearn-color-line);\n",
       "  margin: 0 0.4em 0.5em 0.4em;\n",
       "  box-sizing: border-box;\n",
       "  padding-bottom: 0.4em;\n",
       "  background-color: var(--sklearn-color-background);\n",
       "}\n",
       "\n",
       "#sk-container-id-1 div.sk-container {\n",
       "  /* jupyter's `normalize.less` sets `[hidden] { display: none; }`\n",
       "     but bootstrap.min.css set `[hidden] { display: none !important; }`\n",
       "     so we also need the `!important` here to be able to override the\n",
       "     default hidden behavior on the sphinx rendered scikit-learn.org.\n",
       "     See: https://github.com/scikit-learn/scikit-learn/issues/21755 */\n",
       "  display: inline-block !important;\n",
       "  position: relative;\n",
       "}\n",
       "\n",
       "#sk-container-id-1 div.sk-text-repr-fallback {\n",
       "  display: none;\n",
       "}\n",
       "\n",
       "div.sk-parallel-item,\n",
       "div.sk-serial,\n",
       "div.sk-item {\n",
       "  /* draw centered vertical line to link estimators */\n",
       "  background-image: linear-gradient(var(--sklearn-color-text-on-default-background), var(--sklearn-color-text-on-default-background));\n",
       "  background-size: 2px 100%;\n",
       "  background-repeat: no-repeat;\n",
       "  background-position: center center;\n",
       "}\n",
       "\n",
       "/* Parallel-specific style estimator block */\n",
       "\n",
       "#sk-container-id-1 div.sk-parallel-item::after {\n",
       "  content: \"\";\n",
       "  width: 100%;\n",
       "  border-bottom: 2px solid var(--sklearn-color-text-on-default-background);\n",
       "  flex-grow: 1;\n",
       "}\n",
       "\n",
       "#sk-container-id-1 div.sk-parallel {\n",
       "  display: flex;\n",
       "  align-items: stretch;\n",
       "  justify-content: center;\n",
       "  background-color: var(--sklearn-color-background);\n",
       "  position: relative;\n",
       "}\n",
       "\n",
       "#sk-container-id-1 div.sk-parallel-item {\n",
       "  display: flex;\n",
       "  flex-direction: column;\n",
       "}\n",
       "\n",
       "#sk-container-id-1 div.sk-parallel-item:first-child::after {\n",
       "  align-self: flex-end;\n",
       "  width: 50%;\n",
       "}\n",
       "\n",
       "#sk-container-id-1 div.sk-parallel-item:last-child::after {\n",
       "  align-self: flex-start;\n",
       "  width: 50%;\n",
       "}\n",
       "\n",
       "#sk-container-id-1 div.sk-parallel-item:only-child::after {\n",
       "  width: 0;\n",
       "}\n",
       "\n",
       "/* Serial-specific style estimator block */\n",
       "\n",
       "#sk-container-id-1 div.sk-serial {\n",
       "  display: flex;\n",
       "  flex-direction: column;\n",
       "  align-items: center;\n",
       "  background-color: var(--sklearn-color-background);\n",
       "  padding-right: 1em;\n",
       "  padding-left: 1em;\n",
       "}\n",
       "\n",
       "\n",
       "/* Toggleable style: style used for estimator/Pipeline/ColumnTransformer box that is\n",
       "clickable and can be expanded/collapsed.\n",
       "- Pipeline and ColumnTransformer use this feature and define the default style\n",
       "- Estimators will overwrite some part of the style using the `sk-estimator` class\n",
       "*/\n",
       "\n",
       "/* Pipeline and ColumnTransformer style (default) */\n",
       "\n",
       "#sk-container-id-1 div.sk-toggleable {\n",
       "  /* Default theme specific background. It is overwritten whether we have a\n",
       "  specific estimator or a Pipeline/ColumnTransformer */\n",
       "  background-color: var(--sklearn-color-background);\n",
       "}\n",
       "\n",
       "/* Toggleable label */\n",
       "#sk-container-id-1 label.sk-toggleable__label {\n",
       "  cursor: pointer;\n",
       "  display: block;\n",
       "  width: 100%;\n",
       "  margin-bottom: 0;\n",
       "  padding: 0.5em;\n",
       "  box-sizing: border-box;\n",
       "  text-align: center;\n",
       "}\n",
       "\n",
       "#sk-container-id-1 label.sk-toggleable__label-arrow:before {\n",
       "  /* Arrow on the left of the label */\n",
       "  content: \"▸\";\n",
       "  float: left;\n",
       "  margin-right: 0.25em;\n",
       "  color: var(--sklearn-color-icon);\n",
       "}\n",
       "\n",
       "#sk-container-id-1 label.sk-toggleable__label-arrow:hover:before {\n",
       "  color: var(--sklearn-color-text);\n",
       "}\n",
       "\n",
       "/* Toggleable content - dropdown */\n",
       "\n",
       "#sk-container-id-1 div.sk-toggleable__content {\n",
       "  max-height: 0;\n",
       "  max-width: 0;\n",
       "  overflow: hidden;\n",
       "  text-align: left;\n",
       "  /* unfitted */\n",
       "  background-color: var(--sklearn-color-unfitted-level-0);\n",
       "}\n",
       "\n",
       "#sk-container-id-1 div.sk-toggleable__content.fitted {\n",
       "  /* fitted */\n",
       "  background-color: var(--sklearn-color-fitted-level-0);\n",
       "}\n",
       "\n",
       "#sk-container-id-1 div.sk-toggleable__content pre {\n",
       "  margin: 0.2em;\n",
       "  border-radius: 0.25em;\n",
       "  color: var(--sklearn-color-text);\n",
       "  /* unfitted */\n",
       "  background-color: var(--sklearn-color-unfitted-level-0);\n",
       "}\n",
       "\n",
       "#sk-container-id-1 div.sk-toggleable__content.fitted pre {\n",
       "  /* unfitted */\n",
       "  background-color: var(--sklearn-color-fitted-level-0);\n",
       "}\n",
       "\n",
       "#sk-container-id-1 input.sk-toggleable__control:checked~div.sk-toggleable__content {\n",
       "  /* Expand drop-down */\n",
       "  max-height: 200px;\n",
       "  max-width: 100%;\n",
       "  overflow: auto;\n",
       "}\n",
       "\n",
       "#sk-container-id-1 input.sk-toggleable__control:checked~label.sk-toggleable__label-arrow:before {\n",
       "  content: \"▾\";\n",
       "}\n",
       "\n",
       "/* Pipeline/ColumnTransformer-specific style */\n",
       "\n",
       "#sk-container-id-1 div.sk-label input.sk-toggleable__control:checked~label.sk-toggleable__label {\n",
       "  color: var(--sklearn-color-text);\n",
       "  background-color: var(--sklearn-color-unfitted-level-2);\n",
       "}\n",
       "\n",
       "#sk-container-id-1 div.sk-label.fitted input.sk-toggleable__control:checked~label.sk-toggleable__label {\n",
       "  background-color: var(--sklearn-color-fitted-level-2);\n",
       "}\n",
       "\n",
       "/* Estimator-specific style */\n",
       "\n",
       "/* Colorize estimator box */\n",
       "#sk-container-id-1 div.sk-estimator input.sk-toggleable__control:checked~label.sk-toggleable__label {\n",
       "  /* unfitted */\n",
       "  background-color: var(--sklearn-color-unfitted-level-2);\n",
       "}\n",
       "\n",
       "#sk-container-id-1 div.sk-estimator.fitted input.sk-toggleable__control:checked~label.sk-toggleable__label {\n",
       "  /* fitted */\n",
       "  background-color: var(--sklearn-color-fitted-level-2);\n",
       "}\n",
       "\n",
       "#sk-container-id-1 div.sk-label label.sk-toggleable__label,\n",
       "#sk-container-id-1 div.sk-label label {\n",
       "  /* The background is the default theme color */\n",
       "  color: var(--sklearn-color-text-on-default-background);\n",
       "}\n",
       "\n",
       "/* On hover, darken the color of the background */\n",
       "#sk-container-id-1 div.sk-label:hover label.sk-toggleable__label {\n",
       "  color: var(--sklearn-color-text);\n",
       "  background-color: var(--sklearn-color-unfitted-level-2);\n",
       "}\n",
       "\n",
       "/* Label box, darken color on hover, fitted */\n",
       "#sk-container-id-1 div.sk-label.fitted:hover label.sk-toggleable__label.fitted {\n",
       "  color: var(--sklearn-color-text);\n",
       "  background-color: var(--sklearn-color-fitted-level-2);\n",
       "}\n",
       "\n",
       "/* Estimator label */\n",
       "\n",
       "#sk-container-id-1 div.sk-label label {\n",
       "  font-family: monospace;\n",
       "  font-weight: bold;\n",
       "  display: inline-block;\n",
       "  line-height: 1.2em;\n",
       "}\n",
       "\n",
       "#sk-container-id-1 div.sk-label-container {\n",
       "  text-align: center;\n",
       "}\n",
       "\n",
       "/* Estimator-specific */\n",
       "#sk-container-id-1 div.sk-estimator {\n",
       "  font-family: monospace;\n",
       "  border: 1px dotted var(--sklearn-color-border-box);\n",
       "  border-radius: 0.25em;\n",
       "  box-sizing: border-box;\n",
       "  margin-bottom: 0.5em;\n",
       "  /* unfitted */\n",
       "  background-color: var(--sklearn-color-unfitted-level-0);\n",
       "}\n",
       "\n",
       "#sk-container-id-1 div.sk-estimator.fitted {\n",
       "  /* fitted */\n",
       "  background-color: var(--sklearn-color-fitted-level-0);\n",
       "}\n",
       "\n",
       "/* on hover */\n",
       "#sk-container-id-1 div.sk-estimator:hover {\n",
       "  /* unfitted */\n",
       "  background-color: var(--sklearn-color-unfitted-level-2);\n",
       "}\n",
       "\n",
       "#sk-container-id-1 div.sk-estimator.fitted:hover {\n",
       "  /* fitted */\n",
       "  background-color: var(--sklearn-color-fitted-level-2);\n",
       "}\n",
       "\n",
       "/* Specification for estimator info (e.g. \"i\" and \"?\") */\n",
       "\n",
       "/* Common style for \"i\" and \"?\" */\n",
       "\n",
       ".sk-estimator-doc-link,\n",
       "a:link.sk-estimator-doc-link,\n",
       "a:visited.sk-estimator-doc-link {\n",
       "  float: right;\n",
       "  font-size: smaller;\n",
       "  line-height: 1em;\n",
       "  font-family: monospace;\n",
       "  background-color: var(--sklearn-color-background);\n",
       "  border-radius: 1em;\n",
       "  height: 1em;\n",
       "  width: 1em;\n",
       "  text-decoration: none !important;\n",
       "  margin-left: 1ex;\n",
       "  /* unfitted */\n",
       "  border: var(--sklearn-color-unfitted-level-1) 1pt solid;\n",
       "  color: var(--sklearn-color-unfitted-level-1);\n",
       "}\n",
       "\n",
       ".sk-estimator-doc-link.fitted,\n",
       "a:link.sk-estimator-doc-link.fitted,\n",
       "a:visited.sk-estimator-doc-link.fitted {\n",
       "  /* fitted */\n",
       "  border: var(--sklearn-color-fitted-level-1) 1pt solid;\n",
       "  color: var(--sklearn-color-fitted-level-1);\n",
       "}\n",
       "\n",
       "/* On hover */\n",
       "div.sk-estimator:hover .sk-estimator-doc-link:hover,\n",
       ".sk-estimator-doc-link:hover,\n",
       "div.sk-label-container:hover .sk-estimator-doc-link:hover,\n",
       ".sk-estimator-doc-link:hover {\n",
       "  /* unfitted */\n",
       "  background-color: var(--sklearn-color-unfitted-level-3);\n",
       "  color: var(--sklearn-color-background);\n",
       "  text-decoration: none;\n",
       "}\n",
       "\n",
       "div.sk-estimator.fitted:hover .sk-estimator-doc-link.fitted:hover,\n",
       ".sk-estimator-doc-link.fitted:hover,\n",
       "div.sk-label-container:hover .sk-estimator-doc-link.fitted:hover,\n",
       ".sk-estimator-doc-link.fitted:hover {\n",
       "  /* fitted */\n",
       "  background-color: var(--sklearn-color-fitted-level-3);\n",
       "  color: var(--sklearn-color-background);\n",
       "  text-decoration: none;\n",
       "}\n",
       "\n",
       "/* Span, style for the box shown on hovering the info icon */\n",
       ".sk-estimator-doc-link span {\n",
       "  display: none;\n",
       "  z-index: 9999;\n",
       "  position: relative;\n",
       "  font-weight: normal;\n",
       "  right: .2ex;\n",
       "  padding: .5ex;\n",
       "  margin: .5ex;\n",
       "  width: min-content;\n",
       "  min-width: 20ex;\n",
       "  max-width: 50ex;\n",
       "  color: var(--sklearn-color-text);\n",
       "  box-shadow: 2pt 2pt 4pt #999;\n",
       "  /* unfitted */\n",
       "  background: var(--sklearn-color-unfitted-level-0);\n",
       "  border: .5pt solid var(--sklearn-color-unfitted-level-3);\n",
       "}\n",
       "\n",
       ".sk-estimator-doc-link.fitted span {\n",
       "  /* fitted */\n",
       "  background: var(--sklearn-color-fitted-level-0);\n",
       "  border: var(--sklearn-color-fitted-level-3);\n",
       "}\n",
       "\n",
       ".sk-estimator-doc-link:hover span {\n",
       "  display: block;\n",
       "}\n",
       "\n",
       "/* \"?\"-specific style due to the `<a>` HTML tag */\n",
       "\n",
       "#sk-container-id-1 a.estimator_doc_link {\n",
       "  float: right;\n",
       "  font-size: 1rem;\n",
       "  line-height: 1em;\n",
       "  font-family: monospace;\n",
       "  background-color: var(--sklearn-color-background);\n",
       "  border-radius: 1rem;\n",
       "  height: 1rem;\n",
       "  width: 1rem;\n",
       "  text-decoration: none;\n",
       "  /* unfitted */\n",
       "  color: var(--sklearn-color-unfitted-level-1);\n",
       "  border: var(--sklearn-color-unfitted-level-1) 1pt solid;\n",
       "}\n",
       "\n",
       "#sk-container-id-1 a.estimator_doc_link.fitted {\n",
       "  /* fitted */\n",
       "  border: var(--sklearn-color-fitted-level-1) 1pt solid;\n",
       "  color: var(--sklearn-color-fitted-level-1);\n",
       "}\n",
       "\n",
       "/* On hover */\n",
       "#sk-container-id-1 a.estimator_doc_link:hover {\n",
       "  /* unfitted */\n",
       "  background-color: var(--sklearn-color-unfitted-level-3);\n",
       "  color: var(--sklearn-color-background);\n",
       "  text-decoration: none;\n",
       "}\n",
       "\n",
       "#sk-container-id-1 a.estimator_doc_link.fitted:hover {\n",
       "  /* fitted */\n",
       "  background-color: var(--sklearn-color-fitted-level-3);\n",
       "}\n",
       "</style><div id=\"sk-container-id-1\" class=\"sk-top-container\"><div class=\"sk-text-repr-fallback\"><pre>XGBClassifier(base_score=None, booster=None, callbacks=None,\n",
       "              colsample_bylevel=None, colsample_bynode=0.8700547329479448,\n",
       "              colsample_bytree=None, device=None, early_stopping_rounds=None,\n",
       "              enable_categorical=False,\n",
       "              eval_metric=&lt;function custom_f1_score at 0x7feb30f83740&gt;,\n",
       "              feature_types=None, gamma=None, grow_policy=None,\n",
       "              importance_type=None, interaction_constraints=None,\n",
       "              learning_rate=0.2541473735359046, max_bin=None,\n",
       "              max_cat_threshold=None, max_cat_to_onehot=None,\n",
       "              max_delta_step=None, max_depth=13, max_leaves=None,\n",
       "              min_child_weight=58, missing=nan, monotone_constraints=None,\n",
       "              multi_strategy=None, n_estimators=108, n_jobs=None,\n",
       "              num_parallel_tree=None, objective=&#x27;multi:softprob&#x27;, ...)</pre><b>In a Jupyter environment, please rerun this cell to show the HTML representation or trust the notebook. <br />On GitHub, the HTML representation is unable to render, please try loading this page with nbviewer.org.</b></div><div class=\"sk-container\" hidden><div class=\"sk-item\"><div class=\"sk-estimator fitted sk-toggleable\"><input class=\"sk-toggleable__control sk-hidden--visually\" id=\"sk-estimator-id-1\" type=\"checkbox\" checked><label for=\"sk-estimator-id-1\" class=\"sk-toggleable__label fitted sk-toggleable__label-arrow fitted\">&nbsp;XGBClassifier<span class=\"sk-estimator-doc-link fitted\">i<span>Fitted</span></span></label><div class=\"sk-toggleable__content fitted\"><pre>XGBClassifier(base_score=None, booster=None, callbacks=None,\n",
       "              colsample_bylevel=None, colsample_bynode=0.8700547329479448,\n",
       "              colsample_bytree=None, device=None, early_stopping_rounds=None,\n",
       "              enable_categorical=False,\n",
       "              eval_metric=&lt;function custom_f1_score at 0x7feb30f83740&gt;,\n",
       "              feature_types=None, gamma=None, grow_policy=None,\n",
       "              importance_type=None, interaction_constraints=None,\n",
       "              learning_rate=0.2541473735359046, max_bin=None,\n",
       "              max_cat_threshold=None, max_cat_to_onehot=None,\n",
       "              max_delta_step=None, max_depth=13, max_leaves=None,\n",
       "              min_child_weight=58, missing=nan, monotone_constraints=None,\n",
       "              multi_strategy=None, n_estimators=108, n_jobs=None,\n",
       "              num_parallel_tree=None, objective=&#x27;multi:softprob&#x27;, ...)</pre></div> </div></div></div></div>"
      ],
      "text/plain": [
       "XGBClassifier(base_score=None, booster=None, callbacks=None,\n",
       "              colsample_bylevel=None, colsample_bynode=0.8700547329479448,\n",
       "              colsample_bytree=None, device=None, early_stopping_rounds=None,\n",
       "              enable_categorical=False,\n",
       "              eval_metric=<function custom_f1_score at 0x7feb30f83740>,\n",
       "              feature_types=None, gamma=None, grow_policy=None,\n",
       "              importance_type=None, interaction_constraints=None,\n",
       "              learning_rate=0.2541473735359046, max_bin=None,\n",
       "              max_cat_threshold=None, max_cat_to_onehot=None,\n",
       "              max_delta_step=None, max_depth=13, max_leaves=None,\n",
       "              min_child_weight=58, missing=nan, monotone_constraints=None,\n",
       "              multi_strategy=None, n_estimators=108, n_jobs=None,\n",
       "              num_parallel_tree=None, objective='multi:softprob', ...)"
      ]
     },
     "execution_count": 21,
     "metadata": {},
     "output_type": "execute_result"
    }
   ],
   "source": [
    "n_estimators = int(study.best_trial.user_attrs['best_iteration']*1.2)\n",
    "xgb = xgboost.XGBClassifier(\n",
    "        eval_metric=eval_metric,\n",
    "        n_estimators=n_estimators,\n",
    "        **study.best_trial.params\n",
    "    )\n",
    "xgb.fit(\n",
    "    ssp.vstack((X_train, X_val)), \n",
    "    np.concatenate((y_train_enc, y_val_enc)),\n",
    "    verbose=1,\n",
    ")"
   ]
  },
  {
   "cell_type": "code",
   "execution_count": 22,
   "id": "f89edb66",
   "metadata": {
    "execution": {
     "iopub.execute_input": "2025-05-15T16:20:19.794178Z",
     "iopub.status.busy": "2025-05-15T16:20:19.794036Z",
     "iopub.status.idle": "2025-05-15T16:20:19.895872Z",
     "shell.execute_reply": "2025-05-15T16:20:19.895533Z"
    },
    "papermill": {
     "duration": 0.111535,
     "end_time": "2025-05-15T16:20:19.896792",
     "exception": false,
     "start_time": "2025-05-15T16:20:19.785257",
     "status": "completed"
    },
    "tags": []
   },
   "outputs": [
    {
     "data": {
      "text/plain": [
       "['/scratch_isilon/groups/singlecell/shared/projects/Inflammation-PBMCs-Atlas/03_downstream_analysis/08_gene_importance/xgboost_external_validation/xgboost_TopN_genes/results_20/best_model/Mono_8_3_xgb.json']"
      ]
     },
     "execution_count": 22,
     "metadata": {},
     "output_type": "execute_result"
    }
   ],
   "source": [
    "out_dir = here(f'03_downstream_analysis/08_gene_importance/xgboost_external_validation/xgboost_TopN_genes/results_{N_GENES}/best_model')\n",
    "\n",
    "if not os.path.exists(out_dir):\n",
    "    os.makedirs(out_dir)\n",
    "    \n",
    "joblib.dump(xgb, os.path.join(out_dir, f'{CELL_TYPE}_{SEED}_{TEST_SPLIT_IDX}_xgb.json'))"
   ]
  },
  {
   "cell_type": "code",
   "execution_count": 23,
   "id": "ea5aa6df",
   "metadata": {
    "execution": {
     "iopub.execute_input": "2025-05-15T16:20:19.914106Z",
     "iopub.status.busy": "2025-05-15T16:20:19.913949Z",
     "iopub.status.idle": "2025-05-15T16:20:20.556836Z",
     "shell.execute_reply": "2025-05-15T16:20:20.556430Z"
    },
    "papermill": {
     "duration": 0.652717,
     "end_time": "2025-05-15T16:20:20.558133",
     "exception": false,
     "start_time": "2025-05-15T16:20:19.905416",
     "status": "completed"
    },
    "tags": []
   },
   "outputs": [],
   "source": [
    "df_pred_test = pd.DataFrame(dict(\n",
    "    cell_id=train_adata.obs.iloc[test_idxs].index.values,\n",
    "    y_true=y_test, \n",
    "    y_true_code=y_test_enc, \n",
    "    y_pred=xgb.predict(X_test))).set_index('cell_id')"
   ]
  },
  {
   "cell_type": "code",
   "execution_count": 24,
   "id": "65a338b6",
   "metadata": {
    "execution": {
     "iopub.execute_input": "2025-05-15T16:20:20.576031Z",
     "iopub.status.busy": "2025-05-15T16:20:20.575848Z",
     "iopub.status.idle": "2025-05-15T16:20:20.721362Z",
     "shell.execute_reply": "2025-05-15T16:20:20.720933Z"
    },
    "papermill": {
     "duration": 0.155756,
     "end_time": "2025-05-15T16:20:20.722554",
     "exception": false,
     "start_time": "2025-05-15T16:20:20.566798",
     "status": "completed"
    },
    "tags": []
   },
   "outputs": [],
   "source": [
    "out_dir = here(f'03_downstream_analysis/08_gene_importance/xgboost_external_validation/xgboost_TopN_genes/results_{N_GENES}/predictions')\n",
    "\n",
    "if not os.path.exists(out_dir):\n",
    "    os.makedirs(out_dir)\n",
    "    \n",
    "df_pred_test.to_csv(os.path.join(out_dir, f'{CELL_TYPE}_{SEED}_{TEST_SPLIT_IDX}_pred_test.zip'))"
   ]
  },
  {
   "cell_type": "code",
   "execution_count": 25,
   "id": "fb46f2ea",
   "metadata": {
    "execution": {
     "iopub.execute_input": "2025-05-15T16:20:20.740746Z",
     "iopub.status.busy": "2025-05-15T16:20:20.740350Z",
     "iopub.status.idle": "2025-05-15T16:20:20.758308Z",
     "shell.execute_reply": "2025-05-15T16:20:20.757971Z"
    },
    "papermill": {
     "duration": 0.027825,
     "end_time": "2025-05-15T16:20:20.759138",
     "exception": false,
     "start_time": "2025-05-15T16:20:20.731313",
     "status": "completed"
    },
    "tags": []
   },
   "outputs": [
    {
     "name": "stderr",
     "output_type": "stream",
     "text": [
      "/scratch_isilon/groups/singlecell/shared/conda_env/xgboost-cpu/lib/python3.12/site-packages/sklearn/metrics/_classification.py:2466: UserWarning: y_pred contains classes not in y_true\n",
      "  warnings.warn(\"y_pred contains classes not in y_true\")\n"
     ]
    }
   ],
   "source": [
    "metrics_dict = dict(\n",
    "    BAS=balanced_accuracy_score(y_true=df_pred_test.y_true_code, y_pred=df_pred_test.y_pred), WF1=f1_score(y_true=df_pred_test.y_true_code, y_pred=df_pred_test.y_pred,average='weighted'))"
   ]
  },
  {
   "cell_type": "code",
   "execution_count": 26,
   "id": "e3eb258b",
   "metadata": {
    "execution": {
     "iopub.execute_input": "2025-05-15T16:20:20.776942Z",
     "iopub.status.busy": "2025-05-15T16:20:20.776661Z",
     "iopub.status.idle": "2025-05-15T16:20:20.779531Z",
     "shell.execute_reply": "2025-05-15T16:20:20.779245Z"
    },
    "papermill": {
     "duration": 0.012849,
     "end_time": "2025-05-15T16:20:20.780388",
     "exception": false,
     "start_time": "2025-05-15T16:20:20.767539",
     "status": "completed"
    },
    "tags": []
   },
   "outputs": [
    {
     "data": {
      "text/plain": [
       "{'BAS': 0.6468414703871959, 'WF1': 0.8222515704834946}"
      ]
     },
     "execution_count": 26,
     "metadata": {},
     "output_type": "execute_result"
    }
   ],
   "source": [
    "metrics_dict"
   ]
  },
  {
   "cell_type": "code",
   "execution_count": 27,
   "id": "762cdaff",
   "metadata": {
    "execution": {
     "iopub.execute_input": "2025-05-15T16:20:20.797975Z",
     "iopub.status.busy": "2025-05-15T16:20:20.797616Z",
     "iopub.status.idle": "2025-05-15T16:20:20.806193Z",
     "shell.execute_reply": "2025-05-15T16:20:20.805888Z"
    },
    "papermill": {
     "duration": 0.018335,
     "end_time": "2025-05-15T16:20:20.807050",
     "exception": false,
     "start_time": "2025-05-15T16:20:20.788715",
     "status": "completed"
    },
    "tags": []
   },
   "outputs": [
    {
     "data": {
      "text/html": [
       "<div>\n",
       "<style scoped>\n",
       "    .dataframe tbody tr th:only-of-type {\n",
       "        vertical-align: middle;\n",
       "    }\n",
       "\n",
       "    .dataframe tbody tr th {\n",
       "        vertical-align: top;\n",
       "    }\n",
       "\n",
       "    .dataframe thead th {\n",
       "        text-align: right;\n",
       "    }\n",
       "</style>\n",
       "<table border=\"1\" class=\"dataframe\">\n",
       "  <thead>\n",
       "    <tr style=\"text-align: right;\">\n",
       "      <th></th>\n",
       "      <th>BAS</th>\n",
       "      <th>WF1</th>\n",
       "      <th>split_idx</th>\n",
       "      <th>gene_set_seed</th>\n",
       "      <th>cell_type</th>\n",
       "    </tr>\n",
       "  </thead>\n",
       "  <tbody>\n",
       "    <tr>\n",
       "      <th>0</th>\n",
       "      <td>0.646841</td>\n",
       "      <td>0.822252</td>\n",
       "      <td>3</td>\n",
       "      <td>8</td>\n",
       "      <td>Mono</td>\n",
       "    </tr>\n",
       "  </tbody>\n",
       "</table>\n",
       "</div>"
      ],
      "text/plain": [
       "        BAS       WF1  split_idx  gene_set_seed cell_type\n",
       "0  0.646841  0.822252          3              8      Mono"
      ]
     },
     "execution_count": 27,
     "metadata": {},
     "output_type": "execute_result"
    }
   ],
   "source": [
    "metrics_df = pd.DataFrame.from_dict([metrics_dict]).assign(split_idx=TEST_SPLIT_IDX, gene_set_seed=SEED, cell_type=CELL_TYPE)\n",
    "metrics_df"
   ]
  },
  {
   "cell_type": "code",
   "execution_count": 28,
   "id": "6dc799cf",
   "metadata": {
    "execution": {
     "iopub.execute_input": "2025-05-15T16:20:20.824458Z",
     "iopub.status.busy": "2025-05-15T16:20:20.824217Z",
     "iopub.status.idle": "2025-05-15T16:20:20.831882Z",
     "shell.execute_reply": "2025-05-15T16:20:20.831600Z"
    },
    "papermill": {
     "duration": 0.017249,
     "end_time": "2025-05-15T16:20:20.832688",
     "exception": false,
     "start_time": "2025-05-15T16:20:20.815439",
     "status": "completed"
    },
    "tags": []
   },
   "outputs": [],
   "source": [
    "out_dir = here(f'03_downstream_analysis/08_gene_importance/xgboost_external_validation/xgboost_TopN_genes/results_{N_GENES}/metrics')\n",
    "\n",
    "if not os.path.exists(out_dir):\n",
    "    os.makedirs(out_dir)\n",
    "    \n",
    "metrics_df.to_csv(os.path.join(out_dir, f'{CELL_TYPE}_{SEED}_{TEST_SPLIT_IDX}_metrics.zip'))"
   ]
  }
 ],
 "metadata": {
  "kernelspec": {
   "display_name": "Python 3 (ipykernel)",
   "language": "python",
   "name": "python3"
  },
  "language_info": {
   "codemirror_mode": {
    "name": "ipython",
    "version": 3
   },
   "file_extension": ".py",
   "mimetype": "text/x-python",
   "name": "python",
   "nbconvert_exporter": "python",
   "pygments_lexer": "ipython3",
   "version": "3.12.5"
  },
  "papermill": {
   "default_parameters": {},
   "duration": 1225.711417,
   "end_time": "2025-05-15T16:20:21.456710",
   "environment_variables": {},
   "exception": null,
   "input_path": "02_xgboost_fitting_external_20genes.ipynb",
   "output_path": "results_20/executed_notebooks/xgboost_fitting_external_CT_Mono_GS_8_seed3.ipynb",
   "parameters": {
    "CELL_TYPE": "Mono",
    "SEED": 8,
    "TEST_SPLIT_IDX": 3
   },
   "start_time": "2025-05-15T15:59:55.745293",
   "version": "2.6.0"
  }
 },
 "nbformat": 4,
 "nbformat_minor": 5
}