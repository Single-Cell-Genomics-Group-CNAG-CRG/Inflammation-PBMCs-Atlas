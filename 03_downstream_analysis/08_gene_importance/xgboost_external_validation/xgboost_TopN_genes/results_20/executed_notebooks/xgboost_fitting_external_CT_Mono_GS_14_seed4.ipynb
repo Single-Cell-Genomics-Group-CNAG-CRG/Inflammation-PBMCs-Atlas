{
 "cells": [
  {
   "cell_type": "code",
   "execution_count": 1,
   "id": "cc9eb4aa",
   "metadata": {
    "editable": true,
    "execution": {
     "iopub.execute_input": "2025-05-15T16:00:03.494081Z",
     "iopub.status.busy": "2025-05-15T16:00:03.493711Z",
     "iopub.status.idle": "2025-05-15T16:00:03.496403Z",
     "shell.execute_reply": "2025-05-15T16:00:03.496044Z"
    },
    "papermill": {
     "duration": 0.010434,
     "end_time": "2025-05-15T16:00:03.497294",
     "exception": false,
     "start_time": "2025-05-15T16:00:03.486860",
     "status": "completed"
    },
    "slideshow": {
     "slide_type": ""
    },
    "tags": [
     "parameters"
    ]
   },
   "outputs": [],
   "source": [
    "CELL_TYPE = 'pDC'\n",
    "N_GENES: int = 20\n",
    "SEED = 'shap_studyID' #'disease_NOstudy' 'study_NOdisease' or 'int' or 'shap_studyID'\n",
    "TEST_SPLIT_IDX: int = 1 #[0,4]"
   ]
  },
  {
   "cell_type": "code",
   "execution_count": 2,
   "id": "9e2e6b30",
   "metadata": {
    "execution": {
     "iopub.execute_input": "2025-05-15T16:00:03.508576Z",
     "iopub.status.busy": "2025-05-15T16:00:03.508245Z",
     "iopub.status.idle": "2025-05-15T16:00:03.510323Z",
     "shell.execute_reply": "2025-05-15T16:00:03.509979Z"
    },
    "papermill": {
     "duration": 0.008447,
     "end_time": "2025-05-15T16:00:03.511093",
     "exception": false,
     "start_time": "2025-05-15T16:00:03.502646",
     "status": "completed"
    },
    "tags": [
     "injected-parameters"
    ]
   },
   "outputs": [],
   "source": [
    "# Parameters\n",
    "CELL_TYPE = \"Mono\"\n",
    "SEED = 14\n",
    "TEST_SPLIT_IDX = 4\n"
   ]
  },
  {
   "cell_type": "code",
   "execution_count": 3,
   "id": "293c5d85",
   "metadata": {
    "execution": {
     "iopub.execute_input": "2025-05-15T16:00:03.522241Z",
     "iopub.status.busy": "2025-05-15T16:00:03.521947Z",
     "iopub.status.idle": "2025-05-15T16:00:03.523941Z",
     "shell.execute_reply": "2025-05-15T16:00:03.523605Z"
    },
    "papermill": {
     "duration": 0.008333,
     "end_time": "2025-05-15T16:00:03.524766",
     "exception": false,
     "start_time": "2025-05-15T16:00:03.516433",
     "status": "completed"
    },
    "tags": []
   },
   "outputs": [],
   "source": [
    "N_SPLITS: int = 5\n",
    "N_TRIALS: int = 50"
   ]
  },
  {
   "cell_type": "code",
   "execution_count": 4,
   "id": "5b2681b5",
   "metadata": {
    "execution": {
     "iopub.execute_input": "2025-05-15T16:00:03.536808Z",
     "iopub.status.busy": "2025-05-15T16:00:03.536560Z",
     "iopub.status.idle": "2025-05-15T16:00:07.478496Z",
     "shell.execute_reply": "2025-05-15T16:00:07.478093Z"
    },
    "papermill": {
     "duration": 3.949432,
     "end_time": "2025-05-15T16:00:07.479629",
     "exception": false,
     "start_time": "2025-05-15T16:00:03.530197",
     "status": "completed"
    },
    "tags": []
   },
   "outputs": [],
   "source": [
    "import os\n",
    "import sys\n",
    "from pyprojroot.here import here\n",
    "import pandas as pd\n",
    "import anndata as ad\n",
    "import numpy as np\n",
    "import math\n",
    "from sklearn.model_selection import StratifiedGroupKFold\n",
    "from sklearn.preprocessing import LabelEncoder\n",
    "from sklearn.metrics import f1_score\n",
    "import matplotlib.pyplot as plt\n",
    "import seaborn as sns\n",
    "from itertools import product\n",
    "from sklearn.metrics import balanced_accuracy_score, f1_score\n",
    "import optuna\n",
    "\n",
    "import joblib\n",
    "import pickle\n",
    "import datetime\n",
    "\n",
    "import collections\n",
    "\n",
    "import xgboost\n",
    "from sklearn.preprocessing import LabelEncoder\n",
    "\n",
    "import scipy.sparse as ssp\n",
    "import joblib\n",
    "\n",
    "from dotenv import load_dotenv"
   ]
  },
  {
   "cell_type": "code",
   "execution_count": 5,
   "id": "a9f3e0be",
   "metadata": {
    "execution": {
     "iopub.execute_input": "2025-05-15T16:00:07.523475Z",
     "iopub.status.busy": "2025-05-15T16:00:07.523169Z",
     "iopub.status.idle": "2025-05-15T16:00:07.528090Z",
     "shell.execute_reply": "2025-05-15T16:00:07.527802Z"
    },
    "papermill": {
     "duration": 0.011576,
     "end_time": "2025-05-15T16:00:07.528848",
     "exception": false,
     "start_time": "2025-05-15T16:00:07.517272",
     "status": "completed"
    },
    "tags": []
   },
   "outputs": [
    {
     "data": {
      "text/plain": [
       "True"
      ]
     },
     "execution_count": 5,
     "metadata": {},
     "output_type": "execute_result"
    }
   ],
   "source": [
    "load_dotenv()"
   ]
  },
  {
   "cell_type": "markdown",
   "id": "ef353d67",
   "metadata": {
    "papermill": {
     "duration": 0.005354,
     "end_time": "2025-05-15T16:00:07.544104",
     "exception": false,
     "start_time": "2025-05-15T16:00:07.538750",
     "status": "completed"
    },
    "tags": []
   },
   "source": [
    "# LOAD DATASET"
   ]
  },
  {
   "cell_type": "code",
   "execution_count": 6,
   "id": "5dc33a2d",
   "metadata": {
    "execution": {
     "iopub.execute_input": "2025-05-15T16:00:07.556578Z",
     "iopub.status.busy": "2025-05-15T16:00:07.556379Z",
     "iopub.status.idle": "2025-05-15T16:00:08.738066Z",
     "shell.execute_reply": "2025-05-15T16:00:08.737688Z"
    },
    "papermill": {
     "duration": 1.188956,
     "end_time": "2025-05-15T16:00:08.738942",
     "exception": false,
     "start_time": "2025-05-15T16:00:07.549986",
     "status": "completed"
    },
    "tags": []
   },
   "outputs": [],
   "source": [
    "train_adata = ad.read_h5ad(\n",
    "    here(f'03_downstream_analysis/08_gene_importance/xgboost_external_validation/xgboost_TopN_genes/data_cellTypes/EXTERNAL_{CELL_TYPE}.filtered.log1p.h5ad')\n",
    ")"
   ]
  },
  {
   "cell_type": "code",
   "execution_count": 7,
   "id": "9f93ceb9",
   "metadata": {
    "execution": {
     "iopub.execute_input": "2025-05-15T16:00:08.765429Z",
     "iopub.status.busy": "2025-05-15T16:00:08.765037Z",
     "iopub.status.idle": "2025-05-15T16:00:08.799082Z",
     "shell.execute_reply": "2025-05-15T16:00:08.798766Z"
    },
    "papermill": {
     "duration": 0.04124,
     "end_time": "2025-05-15T16:00:08.799835",
     "exception": false,
     "start_time": "2025-05-15T16:00:08.758595",
     "status": "completed"
    },
    "tags": []
   },
   "outputs": [
    {
     "name": "stdout",
     "output_type": "stream",
     "text": [
      "['ENSG00000166847' 'ENSG00000115232' 'ENSG00000163931' 'ENSG00000117984'\n",
      " 'ENSG00000164104' 'ENSG00000196126' 'ENSG00000101608' 'ENSG00000180008'\n",
      " 'ENSG00000182117' 'ENSG00000143390' 'ENSG00000088827' 'ENSG00000205220'\n",
      " 'ENSG00000104894' 'ENSG00000161642' 'ENSG00000196396' 'ENSG00000171608'\n",
      " 'ENSG00000197632' 'ENSG00000185950' 'ENSG00000163191' 'ENSG00000165029'\n",
      " 'ENSG00000167552' 'ENSG00000173812' 'ENSG00000125534' 'ENSG00000167283'\n",
      " 'ENSG00000116815' 'ENSG00000183023' 'ENSG00000110077' 'ENSG00000113732'\n",
      " 'ENSG00000183019' 'ENSG00000175489' 'ENSG00000197872' 'ENSG00000169442'\n",
      " 'ENSG00000158869' 'ENSG00000140968' 'ENSG00000170458' 'ENSG00000243678'\n",
      " 'ENSG00000115828' 'ENSG00000165092' 'ENSG00000265972' 'ENSG00000115267'\n",
      " 'ENSG00000100368' 'ENSG00000018280' 'ENSG00000145912' 'ENSG00000019582'\n",
      " 'ENSG00000160932' 'ENSG00000150961' 'ENSG00000239713' 'ENSG00000177606'\n",
      " 'ENSG00000089280' 'ENSG00000115523' 'ENSG00000042753' 'ENSG00000125740'\n",
      " 'ENSG00000110395' 'ENSG00000059728' 'ENSG00000185291' 'ENSG00000065978'\n",
      " 'ENSG00000129084' 'ENSG00000153234' 'ENSG00000051382' 'ENSG00000100911'\n",
      " 'ENSG00000197249' 'ENSG00000169429' 'ENSG00000168610' 'ENSG00000183020'\n",
      " 'ENSG00000185215' 'ENSG00000166888' 'ENSG00000175768' 'ENSG00000204843'\n",
      " 'ENSG00000132510' 'ENSG00000123685' 'ENSG00000137801' 'ENSG00000157020'\n",
      " 'ENSG00000105221' 'ENSG00000166747' 'ENSG00000277443' 'ENSG00000184557'\n",
      " 'ENSG00000100321' 'ENSG00000145220' 'ENSG00000085514' 'ENSG00000131981'\n",
      " 'ENSG00000177721' 'ENSG00000101336' 'ENSG00000090382' 'ENSG00000121807'\n",
      " 'ENSG00000276085' 'ENSG00000120129' 'ENSG00000164307' 'ENSG00000100365'\n",
      " 'ENSG00000158769' 'ENSG00000126759' 'ENSG00000183486' 'ENSG00000175203'\n",
      " 'ENSG00000204264' 'ENSG00000188404' 'ENSG00000136738' 'ENSG00000173757'\n",
      " 'ENSG00000100097' 'ENSG00000068831' 'ENSG00000072958' 'ENSG00000163131'\n",
      " 'ENSG00000170017' 'ENSG00000104763' 'ENSG00000079805' 'ENSG00000232810'\n",
      " 'ENSG00000175567' 'ENSG00000165168' 'ENSG00000152700' 'ENSG00000100079'\n",
      " 'ENSG00000144802' 'ENSG00000071073' 'ENSG00000264364' 'ENSG00000109861'\n",
      " 'ENSG00000002549' 'ENSG00000134352']\n"
     ]
    }
   ],
   "source": [
    "if SEED != 'all':\n",
    "    gene_subset = np.load(here(f'03_downstream_analysis/08_gene_importance/xgboost_external_validation/shap_gene_selection/gene_subsets_{N_GENES}/{CELL_TYPE}_{SEED}.npy'), allow_pickle=True)\n",
    "    train_adata = train_adata[:,gene_subset]\n",
    "    print(gene_subset)\n",
    "elif SEED == 'all':\n",
    "    print('Using all genes')\n",
    "else:\n",
    "    raise ValueError()"
   ]
  },
  {
   "cell_type": "code",
   "execution_count": 8,
   "id": "8dbaca0b",
   "metadata": {
    "execution": {
     "iopub.execute_input": "2025-05-15T16:00:08.811064Z",
     "iopub.status.busy": "2025-05-15T16:00:08.810885Z",
     "iopub.status.idle": "2025-05-15T16:00:08.813579Z",
     "shell.execute_reply": "2025-05-15T16:00:08.813266Z"
    },
    "papermill": {
     "duration": 0.009063,
     "end_time": "2025-05-15T16:00:08.814302",
     "exception": false,
     "start_time": "2025-05-15T16:00:08.805239",
     "status": "completed"
    },
    "tags": []
   },
   "outputs": [
    {
     "data": {
      "text/plain": [
       "(137435, 114)"
      ]
     },
     "execution_count": 8,
     "metadata": {},
     "output_type": "execute_result"
    }
   ],
   "source": [
    "train_adata.shape"
   ]
  },
  {
   "cell_type": "code",
   "execution_count": 9,
   "id": "8701b87a",
   "metadata": {
    "execution": {
     "iopub.execute_input": "2025-05-15T16:00:08.825906Z",
     "iopub.status.busy": "2025-05-15T16:00:08.825665Z",
     "iopub.status.idle": "2025-05-15T16:00:08.829266Z",
     "shell.execute_reply": "2025-05-15T16:00:08.828966Z"
    },
    "papermill": {
     "duration": 0.010378,
     "end_time": "2025-05-15T16:00:08.830000",
     "exception": false,
     "start_time": "2025-05-15T16:00:08.819622",
     "status": "completed"
    },
    "tags": []
   },
   "outputs": [
    {
     "data": {
      "text/plain": [
       "['RA', 'healthy', 'COVID', 'HIV', 'cirrhosis', 'CD', 'SLE', 'sepsis']\n",
       "Categories (8, object): ['CD', 'COVID', 'HIV', 'RA', 'SLE', 'cirrhosis', 'healthy', 'sepsis']"
      ]
     },
     "execution_count": 9,
     "metadata": {},
     "output_type": "execute_result"
    }
   ],
   "source": [
    "train_adata.obs.disease.unique()"
   ]
  },
  {
   "cell_type": "code",
   "execution_count": 10,
   "id": "f9260618",
   "metadata": {
    "execution": {
     "iopub.execute_input": "2025-05-15T16:00:08.841692Z",
     "iopub.status.busy": "2025-05-15T16:00:08.841438Z",
     "iopub.status.idle": "2025-05-15T16:00:08.845034Z",
     "shell.execute_reply": "2025-05-15T16:00:08.844739Z"
    },
    "papermill": {
     "duration": 0.010274,
     "end_time": "2025-05-15T16:00:08.845774",
     "exception": false,
     "start_time": "2025-05-15T16:00:08.835500",
     "status": "completed"
    },
    "tags": []
   },
   "outputs": [
    {
     "data": {
      "text/plain": [
       "['SCGT00val_I0364_T0', 'SCGT00val_I036028_T0', 'SCGT00val_I036024_T0', 'SCGT00val_I036023_T0', 'SCGT00val_I036019_T0', ..., '10XGenomics_10XHC2_T0', '10XGenomics_10XHC3_T0', '10XGenomics_10XHC5_T0', '10XGenomics_10XHC7_T0', '10XGenomics_10XHC8_T0']\n",
       "Length: 86\n",
       "Categories (86, object): ['10XGenomics_10XHC1_T0', '10XGenomics_10XHC2_T0', '10XGenomics_10XHC3_T0', '10XGenomics_10XHC4_T0', ..., 'Savage2021_BRISL6_T0', 'Savage2021_BRISL7_T0', 'Savage2021_PIDA_T0', 'Savage2021_PIDB_T0']"
      ]
     },
     "execution_count": 10,
     "metadata": {},
     "output_type": "execute_result"
    }
   ],
   "source": [
    "train_adata.obs.sampleID.unique()"
   ]
  },
  {
   "cell_type": "code",
   "execution_count": 11,
   "id": "f979b619",
   "metadata": {
    "execution": {
     "iopub.execute_input": "2025-05-15T16:00:08.857503Z",
     "iopub.status.busy": "2025-05-15T16:00:08.857254Z",
     "iopub.status.idle": "2025-05-15T16:00:09.173963Z",
     "shell.execute_reply": "2025-05-15T16:00:09.173555Z"
    },
    "papermill": {
     "duration": 0.323471,
     "end_time": "2025-05-15T16:00:09.174764",
     "exception": false,
     "start_time": "2025-05-15T16:00:08.851293",
     "status": "completed"
    },
    "tags": []
   },
   "outputs": [],
   "source": [
    "all_idxs = np.arange(train_adata.obs.shape[0])\n",
    "left_out_splits = [s[1] for s in StratifiedGroupKFold(n_splits=N_SPLITS).split(all_idxs, train_adata.obs.disease, train_adata.obs.sampleID)]"
   ]
  },
  {
   "cell_type": "code",
   "execution_count": 12,
   "id": "fc19c202",
   "metadata": {
    "execution": {
     "iopub.execute_input": "2025-05-15T16:00:09.186841Z",
     "iopub.status.busy": "2025-05-15T16:00:09.186658Z",
     "iopub.status.idle": "2025-05-15T16:00:09.189720Z",
     "shell.execute_reply": "2025-05-15T16:00:09.189430Z"
    },
    "papermill": {
     "duration": 0.009612,
     "end_time": "2025-05-15T16:00:09.190456",
     "exception": false,
     "start_time": "2025-05-15T16:00:09.180844",
     "status": "completed"
    },
    "tags": []
   },
   "outputs": [
    {
     "data": {
      "text/plain": [
       "([1, 2, 3], 0, 4)"
      ]
     },
     "execution_count": 12,
     "metadata": {},
     "output_type": "execute_result"
    }
   ],
   "source": [
    "TRAIN_SPLIT_IDXS = [0,1,2,3,4]\n",
    "VAL_SPLIT_IDX = (TEST_SPLIT_IDX + 1) % 5\n",
    "TRAIN_SPLIT_IDXS.remove(TEST_SPLIT_IDX)\n",
    "TRAIN_SPLIT_IDXS.remove(VAL_SPLIT_IDX)\n",
    "TRAIN_SPLIT_IDXS, VAL_SPLIT_IDX, TEST_SPLIT_IDX"
   ]
  },
  {
   "cell_type": "code",
   "execution_count": 13,
   "id": "1b05a350",
   "metadata": {
    "execution": {
     "iopub.execute_input": "2025-05-15T16:00:09.236925Z",
     "iopub.status.busy": "2025-05-15T16:00:09.236768Z",
     "iopub.status.idle": "2025-05-15T16:00:09.238968Z",
     "shell.execute_reply": "2025-05-15T16:00:09.238677Z"
    },
    "papermill": {
     "duration": 0.043923,
     "end_time": "2025-05-15T16:00:09.239704",
     "exception": false,
     "start_time": "2025-05-15T16:00:09.195781",
     "status": "completed"
    },
    "tags": []
   },
   "outputs": [],
   "source": [
    "train_idxs = np.concatenate([left_out_splits[idx] for idx in TRAIN_SPLIT_IDXS])\n",
    "val_idxs = left_out_splits[VAL_SPLIT_IDX]\n",
    "test_idxs = left_out_splits[TEST_SPLIT_IDX]"
   ]
  },
  {
   "cell_type": "markdown",
   "id": "5a86b822",
   "metadata": {
    "papermill": {
     "duration": 0.005668,
     "end_time": "2025-05-15T16:00:09.251119",
     "exception": false,
     "start_time": "2025-05-15T16:00:09.245451",
     "status": "completed"
    },
    "tags": []
   },
   "source": [
    "### SUBSET DATASET INTO TRAIN/TEST/VAL SPLITS"
   ]
  },
  {
   "cell_type": "code",
   "execution_count": 14,
   "id": "04c8edc4",
   "metadata": {
    "execution": {
     "iopub.execute_input": "2025-05-15T16:00:09.263720Z",
     "iopub.status.busy": "2025-05-15T16:00:09.263473Z",
     "iopub.status.idle": "2025-05-15T16:00:09.697315Z",
     "shell.execute_reply": "2025-05-15T16:00:09.696992Z"
    },
    "papermill": {
     "duration": 0.440868,
     "end_time": "2025-05-15T16:00:09.698062",
     "exception": false,
     "start_time": "2025-05-15T16:00:09.257194",
     "status": "completed"
    },
    "tags": []
   },
   "outputs": [
    {
     "data": {
      "text/plain": [
       "((82984, 114), (27037, 114), (27414, 114))"
      ]
     },
     "execution_count": 14,
     "metadata": {},
     "output_type": "execute_result"
    }
   ],
   "source": [
    "X_train = train_adata.X[train_idxs]\n",
    "X_test = train_adata.X[test_idxs]\n",
    "X_val = train_adata.X[val_idxs]\n",
    "X_train.shape, X_test.shape, X_val.shape"
   ]
  },
  {
   "cell_type": "code",
   "execution_count": 15,
   "id": "c507f789",
   "metadata": {
    "execution": {
     "iopub.execute_input": "2025-05-15T16:00:09.710479Z",
     "iopub.status.busy": "2025-05-15T16:00:09.710235Z",
     "iopub.status.idle": "2025-05-15T16:00:09.721452Z",
     "shell.execute_reply": "2025-05-15T16:00:09.721124Z"
    },
    "papermill": {
     "duration": 0.01826,
     "end_time": "2025-05-15T16:00:09.722181",
     "exception": false,
     "start_time": "2025-05-15T16:00:09.703921",
     "status": "completed"
    },
    "tags": []
   },
   "outputs": [
    {
     "data": {
      "text/plain": [
       "((82984,), (27037,), (27414,))"
      ]
     },
     "execution_count": 15,
     "metadata": {},
     "output_type": "execute_result"
    }
   ],
   "source": [
    "y_train = train_adata.obs.iloc[train_idxs].disease.values.astype(str)\n",
    "y_test = train_adata.obs.iloc[test_idxs].disease.values.astype(str)\n",
    "y_val = train_adata.obs.iloc[val_idxs].disease.values.astype(str)\n",
    "y_train.shape, y_test.shape, y_val.shape"
   ]
  },
  {
   "cell_type": "code",
   "execution_count": 16,
   "id": "9dbbce01",
   "metadata": {
    "execution": {
     "iopub.execute_input": "2025-05-15T16:00:09.734218Z",
     "iopub.status.busy": "2025-05-15T16:00:09.733796Z",
     "iopub.status.idle": "2025-05-15T16:00:09.762734Z",
     "shell.execute_reply": "2025-05-15T16:00:09.762367Z"
    },
    "papermill": {
     "duration": 0.035876,
     "end_time": "2025-05-15T16:00:09.763504",
     "exception": false,
     "start_time": "2025-05-15T16:00:09.727628",
     "status": "completed"
    },
    "tags": []
   },
   "outputs": [],
   "source": [
    "lenc = LabelEncoder()\n",
    "y_train_enc = lenc.fit_transform(y_train)\n",
    "y_val_enc = lenc.transform(y_val)\n",
    "y_test_enc = lenc.transform(y_test)"
   ]
  },
  {
   "cell_type": "markdown",
   "id": "1ff0f83b",
   "metadata": {
    "papermill": {
     "duration": 0.006147,
     "end_time": "2025-05-15T16:00:09.775429",
     "exception": false,
     "start_time": "2025-05-15T16:00:09.769282",
     "status": "completed"
    },
    "tags": []
   },
   "source": [
    "### GENERATE F1 "
   ]
  },
  {
   "cell_type": "code",
   "execution_count": 17,
   "id": "e2d58245",
   "metadata": {
    "execution": {
     "iopub.execute_input": "2025-05-15T16:00:09.786955Z",
     "iopub.status.busy": "2025-05-15T16:00:09.786667Z",
     "iopub.status.idle": "2025-05-15T16:00:09.788798Z",
     "shell.execute_reply": "2025-05-15T16:00:09.788501Z"
    },
    "papermill": {
     "duration": 0.008642,
     "end_time": "2025-05-15T16:00:09.789536",
     "exception": false,
     "start_time": "2025-05-15T16:00:09.780894",
     "status": "completed"
    },
    "tags": []
   },
   "outputs": [],
   "source": [
    "def custom_f1_score(y_true, y_pred):\n",
    "    return -f1_score(y_true, y_pred.argmax(1), average='weighted')"
   ]
  },
  {
   "cell_type": "code",
   "execution_count": 18,
   "id": "6b5fd72c",
   "metadata": {
    "execution": {
     "iopub.execute_input": "2025-05-15T16:00:09.801527Z",
     "iopub.status.busy": "2025-05-15T16:00:09.801246Z",
     "iopub.status.idle": "2025-05-15T16:00:09.804608Z",
     "shell.execute_reply": "2025-05-15T16:00:09.804297Z"
    },
    "papermill": {
     "duration": 0.010297,
     "end_time": "2025-05-15T16:00:09.805317",
     "exception": false,
     "start_time": "2025-05-15T16:00:09.795020",
     "status": "completed"
    },
    "tags": []
   },
   "outputs": [],
   "source": [
    "eval_metric=custom_f1_score\n",
    "eval_metric_name='custom_f1_score'\n",
    "\n",
    "def objective(trial):\n",
    "    params = {\n",
    "        'n_estimators': 1500,\n",
    "        'max_depth': trial.suggest_int('max_depth', 3, 20),\n",
    "        'min_child_weight': trial.suggest_int('min_child_weight', 1, 250),\n",
    "        'subsample': trial.suggest_float('subsample', 0.1, 1.0),\n",
    "        'colsample_bynode': trial.suggest_float('colsample_bynode', 0.1, 1.0),\n",
    "        'learning_rate': trial.suggest_float('learning_rate', 1e-3, 5e-1, log=True),\n",
    "    }\n",
    "    pruning_callback = optuna.integration.XGBoostPruningCallback(trial, f'validation_0-{eval_metric_name}')\n",
    "    es_callback = xgboost.callback.EarlyStopping(20, min_delta=0.001)\n",
    "    xgb = xgboost.XGBClassifier(\n",
    "        eval_metric=eval_metric,\n",
    "        callbacks=[pruning_callback, es_callback],\n",
    "        n_jobs=5,\n",
    "        **params\n",
    "    )\n",
    "    xgb.fit(\n",
    "        X_train, \n",
    "        y_train_enc, \n",
    "        verbose=0,\n",
    "        eval_set=[(X_val, y_val_enc)],\n",
    "    )\n",
    "    trial.set_user_attr('best_iteration', xgb.best_iteration)\n",
    "\n",
    "    return xgb.best_score"
   ]
  },
  {
   "cell_type": "code",
   "execution_count": 19,
   "id": "77df3a37",
   "metadata": {
    "execution": {
     "iopub.execute_input": "2025-05-15T16:00:09.818708Z",
     "iopub.status.busy": "2025-05-15T16:00:09.818336Z",
     "iopub.status.idle": "2025-05-15T16:23:14.827135Z",
     "shell.execute_reply": "2025-05-15T16:23:14.826746Z"
    },
    "papermill": {
     "duration": 1385.016489,
     "end_time": "2025-05-15T16:23:14.828052",
     "exception": false,
     "start_time": "2025-05-15T16:00:09.811563",
     "status": "completed"
    },
    "scrolled": true,
    "tags": []
   },
   "outputs": [
    {
     "name": "stderr",
     "output_type": "stream",
     "text": [
      "[I 2025-05-15 18:00:09,820] A new study created in memory with name: no-name-fdbcda73-85c0-49d6-b24d-19542944dcaf\n"
     ]
    },
    {
     "name": "stderr",
     "output_type": "stream",
     "text": [
      "[I 2025-05-15 18:00:30,334] Trial 0 finished with value: -0.733054 and parameters: {'max_depth': 9, 'min_child_weight': 238, 'subsample': 0.7587945476302645, 'colsample_bynode': 0.6387926357773329, 'learning_rate': 0.0026368755339723046}. Best is trial 0 with value: -0.733054.\n"
     ]
    },
    {
     "name": "stderr",
     "output_type": "stream",
     "text": [
      "[I 2025-05-15 18:02:27,894] Trial 1 finished with value: -0.852469 and parameters: {'max_depth': 5, 'min_child_weight': 15, 'subsample': 0.8795585311974417, 'colsample_bynode': 0.6410035105688879, 'learning_rate': 0.08148293210105287}. Best is trial 1 with value: -0.852469.\n"
     ]
    },
    {
     "name": "stderr",
     "output_type": "stream",
     "text": [
      "[I 2025-05-15 18:02:35,979] Trial 2 finished with value: -0.679031 and parameters: {'max_depth': 3, 'min_child_weight': 243, 'subsample': 0.8491983767203796, 'colsample_bynode': 0.29110519961044856, 'learning_rate': 0.003095566460242371}. Best is trial 1 with value: -0.852469.\n"
     ]
    },
    {
     "name": "stderr",
     "output_type": "stream",
     "text": [
      "[I 2025-05-15 18:03:21,905] Trial 3 finished with value: -0.755851 and parameters: {'max_depth': 6, 'min_child_weight': 77, 'subsample': 0.5722807884690141, 'colsample_bynode': 0.48875051677790415, 'learning_rate': 0.006109683510122491}. Best is trial 1 with value: -0.852469.\n"
     ]
    },
    {
     "name": "stderr",
     "output_type": "stream",
     "text": [
      "[I 2025-05-15 18:06:43,008] Trial 4 finished with value: -0.836656 and parameters: {'max_depth': 14, 'min_child_weight': 35, 'subsample': 0.3629301836816964, 'colsample_bynode': 0.4297256589643226, 'learning_rate': 0.01701841881702917}. Best is trial 1 with value: -0.852469.\n"
     ]
    },
    {
     "name": "stderr",
     "output_type": "stream",
     "text": [
      "[I 2025-05-15 18:07:00,404] Trial 5 finished with value: -0.763506 and parameters: {'max_depth': 17, 'min_child_weight': 50, 'subsample': 0.5628109945722505, 'colsample_bynode': 0.6331731119758383, 'learning_rate': 0.0013346527038305934}. Best is trial 1 with value: -0.852469.\n"
     ]
    },
    {
     "name": "stderr",
     "output_type": "stream",
     "text": [
      "[I 2025-05-15 18:07:01,216] Trial 6 pruned. Trial was pruned at iteration 0.\n"
     ]
    },
    {
     "name": "stderr",
     "output_type": "stream",
     "text": [
      "[I 2025-05-15 18:07:02,015] Trial 7 pruned. Trial was pruned at iteration 0.\n"
     ]
    },
    {
     "name": "stderr",
     "output_type": "stream",
     "text": [
      "[I 2025-05-15 18:07:02,773] Trial 8 pruned. Trial was pruned at iteration 0.\n"
     ]
    },
    {
     "name": "stderr",
     "output_type": "stream",
     "text": [
      "[I 2025-05-15 18:07:03,625] Trial 9 pruned. Trial was pruned at iteration 0.\n"
     ]
    },
    {
     "name": "stderr",
     "output_type": "stream",
     "text": [
      "[I 2025-05-15 18:07:04,582] Trial 10 pruned. Trial was pruned at iteration 0.\n"
     ]
    },
    {
     "name": "stderr",
     "output_type": "stream",
     "text": [
      "[I 2025-05-15 18:09:03,470] Trial 11 finished with value: -0.84732 and parameters: {'max_depth': 10, 'min_child_weight': 3, 'subsample': 0.34014304150377095, 'colsample_bynode': 0.40131565860091256, 'learning_rate': 0.057899203666416425}. Best is trial 1 with value: -0.852469.\n"
     ]
    },
    {
     "name": "stderr",
     "output_type": "stream",
     "text": [
      "[I 2025-05-15 18:10:24,440] Trial 12 finished with value: -0.847738 and parameters: {'max_depth': 8, 'min_child_weight': 3, 'subsample': 0.3693916175642251, 'colsample_bynode': 0.351751713087183, 'learning_rate': 0.07220195396446884}. Best is trial 1 with value: -0.852469.\n"
     ]
    },
    {
     "name": "stderr",
     "output_type": "stream",
     "text": [
      "[I 2025-05-15 18:10:25,187] Trial 13 pruned. Trial was pruned at iteration 0.\n"
     ]
    },
    {
     "name": "stderr",
     "output_type": "stream",
     "text": [
      "[I 2025-05-15 18:10:25,979] Trial 14 pruned. Trial was pruned at iteration 0.\n"
     ]
    },
    {
     "name": "stderr",
     "output_type": "stream",
     "text": [
      "[I 2025-05-15 18:10:26,699] Trial 15 pruned. Trial was pruned at iteration 0.\n"
     ]
    },
    {
     "name": "stderr",
     "output_type": "stream",
     "text": [
      "[I 2025-05-15 18:10:27,523] Trial 16 pruned. Trial was pruned at iteration 0.\n"
     ]
    },
    {
     "name": "stderr",
     "output_type": "stream",
     "text": [
      "[I 2025-05-15 18:10:28,288] Trial 17 pruned. Trial was pruned at iteration 0.\n"
     ]
    },
    {
     "name": "stderr",
     "output_type": "stream",
     "text": [
      "[I 2025-05-15 18:10:29,096] Trial 18 pruned. Trial was pruned at iteration 0.\n"
     ]
    },
    {
     "name": "stderr",
     "output_type": "stream",
     "text": [
      "[I 2025-05-15 18:10:29,833] Trial 19 pruned. Trial was pruned at iteration 0.\n"
     ]
    },
    {
     "name": "stderr",
     "output_type": "stream",
     "text": [
      "[I 2025-05-15 18:11:51,079] Trial 20 finished with value: -0.852144 and parameters: {'max_depth': 12, 'min_child_weight': 24, 'subsample': 0.8601573496833833, 'colsample_bynode': 0.36355618536187856, 'learning_rate': 0.10169686165917782}. Best is trial 1 with value: -0.852469.\n"
     ]
    },
    {
     "name": "stderr",
     "output_type": "stream",
     "text": [
      "[I 2025-05-15 18:13:05,652] Trial 21 finished with value: -0.850561 and parameters: {'max_depth': 11, 'min_child_weight': 24, 'subsample': 0.8524655332992119, 'colsample_bynode': 0.38143278999350455, 'learning_rate': 0.1063944596737225}. Best is trial 1 with value: -0.852469.\n"
     ]
    },
    {
     "name": "stderr",
     "output_type": "stream",
     "text": [
      "[I 2025-05-15 18:14:27,588] Trial 22 finished with value: -0.853568 and parameters: {'max_depth': 12, 'min_child_weight': 25, 'subsample': 0.8762431399620951, 'colsample_bynode': 0.4724952456097408, 'learning_rate': 0.12359011280910942}. Best is trial 22 with value: -0.853568.\n"
     ]
    },
    {
     "name": "stderr",
     "output_type": "stream",
     "text": [
      "[I 2025-05-15 18:15:06,635] Trial 23 finished with value: -0.854972 and parameters: {'max_depth': 13, 'min_child_weight': 57, 'subsample': 0.8895702594236918, 'colsample_bynode': 0.48071254484710724, 'learning_rate': 0.2870964669525365}. Best is trial 23 with value: -0.854972.\n"
     ]
    },
    {
     "name": "stderr",
     "output_type": "stream",
     "text": [
      "[I 2025-05-15 18:15:54,859] Trial 24 finished with value: -0.85604 and parameters: {'max_depth': 16, 'min_child_weight': 57, 'subsample': 0.9287294172698044, 'colsample_bynode': 0.49377735435635495, 'learning_rate': 0.26365160833813445}. Best is trial 24 with value: -0.85604.\n"
     ]
    },
    {
     "name": "stderr",
     "output_type": "stream",
     "text": [
      "[I 2025-05-15 18:16:56,305] Trial 25 finished with value: -0.856799 and parameters: {'max_depth': 16, 'min_child_weight': 62, 'subsample': 0.9247660061422907, 'colsample_bynode': 0.46820416674561094, 'learning_rate': 0.2449839721289483}. Best is trial 25 with value: -0.856799.\n"
     ]
    },
    {
     "name": "stderr",
     "output_type": "stream",
     "text": [
      "[I 2025-05-15 18:17:37,721] Trial 26 finished with value: -0.853053 and parameters: {'max_depth': 16, 'min_child_weight': 61, 'subsample': 0.940847172638738, 'colsample_bynode': 0.5517394020759273, 'learning_rate': 0.23969733548900704}. Best is trial 25 with value: -0.856799.\n"
     ]
    },
    {
     "name": "stderr",
     "output_type": "stream",
     "text": [
      "[I 2025-05-15 18:17:38,540] Trial 27 pruned. Trial was pruned at iteration 0.\n"
     ]
    },
    {
     "name": "stderr",
     "output_type": "stream",
     "text": [
      "[I 2025-05-15 18:18:35,258] Trial 28 finished with value: -0.85866 and parameters: {'max_depth': 16, 'min_child_weight': 56, 'subsample': 0.7888450270461097, 'colsample_bynode': 0.5410472544512013, 'learning_rate': 0.31449918264641136}. Best is trial 28 with value: -0.85866.\n"
     ]
    },
    {
     "name": "stderr",
     "output_type": "stream",
     "text": [
      "[I 2025-05-15 18:18:36,075] Trial 29 pruned. Trial was pruned at iteration 0.\n"
     ]
    },
    {
     "name": "stderr",
     "output_type": "stream",
     "text": [
      "[I 2025-05-15 18:18:36,903] Trial 30 pruned. Trial was pruned at iteration 0.\n"
     ]
    },
    {
     "name": "stderr",
     "output_type": "stream",
     "text": [
      "[I 2025-05-15 18:18:37,783] Trial 31 pruned. Trial was pruned at iteration 0.\n"
     ]
    },
    {
     "name": "stderr",
     "output_type": "stream",
     "text": [
      "[I 2025-05-15 18:19:44,240] Trial 32 finished with value: -0.856025 and parameters: {'max_depth': 15, 'min_child_weight': 59, 'subsample': 0.915715666270309, 'colsample_bynode': 0.5959133906882618, 'learning_rate': 0.2460219499597494}. Best is trial 28 with value: -0.85866.\n"
     ]
    },
    {
     "name": "stderr",
     "output_type": "stream",
     "text": [
      "[I 2025-05-15 18:19:45,050] Trial 33 pruned. Trial was pruned at iteration 0.\n"
     ]
    },
    {
     "name": "stderr",
     "output_type": "stream",
     "text": [
      "[I 2025-05-15 18:19:46,424] Trial 34 pruned. Trial was pruned at iteration 1.\n"
     ]
    },
    {
     "name": "stderr",
     "output_type": "stream",
     "text": [
      "[I 2025-05-15 18:19:47,266] Trial 35 pruned. Trial was pruned at iteration 0.\n"
     ]
    },
    {
     "name": "stderr",
     "output_type": "stream",
     "text": [
      "[I 2025-05-15 18:19:48,102] Trial 36 pruned. Trial was pruned at iteration 0.\n"
     ]
    },
    {
     "name": "stderr",
     "output_type": "stream",
     "text": [
      "[I 2025-05-15 18:19:48,960] Trial 37 pruned. Trial was pruned at iteration 0.\n"
     ]
    },
    {
     "name": "stderr",
     "output_type": "stream",
     "text": [
      "[I 2025-05-15 18:19:50,354] Trial 38 pruned. Trial was pruned at iteration 1.\n"
     ]
    },
    {
     "name": "stderr",
     "output_type": "stream",
     "text": [
      "[I 2025-05-15 18:20:39,611] Trial 39 finished with value: -0.855681 and parameters: {'max_depth': 14, 'min_child_weight': 44, 'subsample': 0.7560589562548004, 'colsample_bynode': 0.6065602458466345, 'learning_rate': 0.3009193222955929}. Best is trial 28 with value: -0.85866.\n"
     ]
    },
    {
     "name": "stderr",
     "output_type": "stream",
     "text": [
      "[I 2025-05-15 18:20:40,982] Trial 40 pruned. Trial was pruned at iteration 1.\n"
     ]
    },
    {
     "name": "stderr",
     "output_type": "stream",
     "text": [
      "[I 2025-05-15 18:21:21,996] Trial 41 finished with value: -0.85512 and parameters: {'max_depth': 14, 'min_child_weight': 40, 'subsample': 0.6295556479398816, 'colsample_bynode': 0.6078609514095885, 'learning_rate': 0.323272292806283}. Best is trial 28 with value: -0.85866.\n"
     ]
    },
    {
     "name": "stderr",
     "output_type": "stream",
     "text": [
      "[I 2025-05-15 18:21:22,892] Trial 42 pruned. Trial was pruned at iteration 0.\n"
     ]
    },
    {
     "name": "stderr",
     "output_type": "stream",
     "text": [
      "[I 2025-05-15 18:22:28,195] Trial 43 finished with value: -0.854745 and parameters: {'max_depth': 13, 'min_child_weight': 31, 'subsample': 0.8212173091159095, 'colsample_bynode': 0.7114421553422261, 'learning_rate': 0.3515503774936748}. Best is trial 28 with value: -0.85866.\n"
     ]
    },
    {
     "name": "stderr",
     "output_type": "stream",
     "text": [
      "[I 2025-05-15 18:22:29,072] Trial 44 pruned. Trial was pruned at iteration 0.\n"
     ]
    },
    {
     "name": "stderr",
     "output_type": "stream",
     "text": [
      "[I 2025-05-15 18:22:35,126] Trial 45 pruned. Trial was pruned at iteration 10.\n"
     ]
    },
    {
     "name": "stderr",
     "output_type": "stream",
     "text": [
      "[I 2025-05-15 18:22:35,999] Trial 46 pruned. Trial was pruned at iteration 0.\n"
     ]
    },
    {
     "name": "stderr",
     "output_type": "stream",
     "text": [
      "[I 2025-05-15 18:23:08,782] Trial 47 finished with value: -0.854119 and parameters: {'max_depth': 14, 'min_child_weight': 39, 'subsample': 0.8780896307844237, 'colsample_bynode': 0.565551016115638, 'learning_rate': 0.4871275969591514}. Best is trial 28 with value: -0.85866.\n"
     ]
    },
    {
     "name": "stderr",
     "output_type": "stream",
     "text": [
      "[I 2025-05-15 18:23:09,674] Trial 48 pruned. Trial was pruned at iteration 0.\n"
     ]
    },
    {
     "name": "stderr",
     "output_type": "stream",
     "text": [
      "[I 2025-05-15 18:23:14,747] Trial 49 pruned. Trial was pruned at iteration 7.\n"
     ]
    }
   ],
   "source": [
    "sampler = optuna.samplers.TPESampler(seed=42)\n",
    "study = optuna.create_study(direction='minimize', sampler=sampler)\n",
    "study.optimize(objective, n_trials=N_TRIALS, gc_after_trial=True)"
   ]
  },
  {
   "cell_type": "code",
   "execution_count": 20,
   "id": "8c02aeaa",
   "metadata": {
    "execution": {
     "iopub.execute_input": "2025-05-15T16:23:14.845063Z",
     "iopub.status.busy": "2025-05-15T16:23:14.844883Z",
     "iopub.status.idle": "2025-05-15T16:23:14.868610Z",
     "shell.execute_reply": "2025-05-15T16:23:14.868296Z"
    },
    "papermill": {
     "duration": 0.032633,
     "end_time": "2025-05-15T16:23:14.869399",
     "exception": false,
     "start_time": "2025-05-15T16:23:14.836766",
     "status": "completed"
    },
    "tags": []
   },
   "outputs": [
    {
     "data": {
      "text/plain": [
       "['/scratch_isilon/groups/singlecell/shared/projects/Inflammation-PBMCs-Atlas/03_downstream_analysis/08_gene_importance/xgboost_external_validation/xgboost_TopN_genes/results_20/study/Mono_14_4_xgboost.pkl']"
      ]
     },
     "execution_count": 20,
     "metadata": {},
     "output_type": "execute_result"
    }
   ],
   "source": [
    "out_dir = here(f'03_downstream_analysis/08_gene_importance/xgboost_external_validation/xgboost_TopN_genes/results_{N_GENES}/study')\n",
    "\n",
    "if not os.path.exists(out_dir):\n",
    "    os.makedirs(out_dir)\n",
    "    \n",
    "joblib.dump(study,os.path.join(out_dir, f'{CELL_TYPE}_{SEED}_{TEST_SPLIT_IDX}_xgboost.pkl'))"
   ]
  },
  {
   "cell_type": "code",
   "execution_count": 21,
   "id": "ddd56840",
   "metadata": {
    "execution": {
     "iopub.execute_input": "2025-05-15T16:23:14.885430Z",
     "iopub.status.busy": "2025-05-15T16:23:14.885273Z",
     "iopub.status.idle": "2025-05-15T16:23:32.209088Z",
     "shell.execute_reply": "2025-05-15T16:23:32.208752Z"
    },
    "papermill": {
     "duration": 17.333009,
     "end_time": "2025-05-15T16:23:32.209988",
     "exception": false,
     "start_time": "2025-05-15T16:23:14.876979",
     "status": "completed"
    },
    "tags": []
   },
   "outputs": [
    {
     "data": {
      "text/html": [
       "<style>#sk-container-id-1 {\n",
       "  /* Definition of color scheme common for light and dark mode */\n",
       "  --sklearn-color-text: black;\n",
       "  --sklearn-color-line: gray;\n",
       "  /* Definition of color scheme for unfitted estimators */\n",
       "  --sklearn-color-unfitted-level-0: #fff5e6;\n",
       "  --sklearn-color-unfitted-level-1: #f6e4d2;\n",
       "  --sklearn-color-unfitted-level-2: #ffe0b3;\n",
       "  --sklearn-color-unfitted-level-3: chocolate;\n",
       "  /* Definition of color scheme for fitted estimators */\n",
       "  --sklearn-color-fitted-level-0: #f0f8ff;\n",
       "  --sklearn-color-fitted-level-1: #d4ebff;\n",
       "  --sklearn-color-fitted-level-2: #b3dbfd;\n",
       "  --sklearn-color-fitted-level-3: cornflowerblue;\n",
       "\n",
       "  /* Specific color for light theme */\n",
       "  --sklearn-color-text-on-default-background: var(--sg-text-color, var(--theme-code-foreground, var(--jp-content-font-color1, black)));\n",
       "  --sklearn-color-background: var(--sg-background-color, var(--theme-background, var(--jp-layout-color0, white)));\n",
       "  --sklearn-color-border-box: var(--sg-text-color, var(--theme-code-foreground, var(--jp-content-font-color1, black)));\n",
       "  --sklearn-color-icon: #696969;\n",
       "\n",
       "  @media (prefers-color-scheme: dark) {\n",
       "    /* Redefinition of color scheme for dark theme */\n",
       "    --sklearn-color-text-on-default-background: var(--sg-text-color, var(--theme-code-foreground, var(--jp-content-font-color1, white)));\n",
       "    --sklearn-color-background: var(--sg-background-color, var(--theme-background, var(--jp-layout-color0, #111)));\n",
       "    --sklearn-color-border-box: var(--sg-text-color, var(--theme-code-foreground, var(--jp-content-font-color1, white)));\n",
       "    --sklearn-color-icon: #878787;\n",
       "  }\n",
       "}\n",
       "\n",
       "#sk-container-id-1 {\n",
       "  color: var(--sklearn-color-text);\n",
       "}\n",
       "\n",
       "#sk-container-id-1 pre {\n",
       "  padding: 0;\n",
       "}\n",
       "\n",
       "#sk-container-id-1 input.sk-hidden--visually {\n",
       "  border: 0;\n",
       "  clip: rect(1px 1px 1px 1px);\n",
       "  clip: rect(1px, 1px, 1px, 1px);\n",
       "  height: 1px;\n",
       "  margin: -1px;\n",
       "  overflow: hidden;\n",
       "  padding: 0;\n",
       "  position: absolute;\n",
       "  width: 1px;\n",
       "}\n",
       "\n",
       "#sk-container-id-1 div.sk-dashed-wrapped {\n",
       "  border: 1px dashed var(--sklearn-color-line);\n",
       "  margin: 0 0.4em 0.5em 0.4em;\n",
       "  box-sizing: border-box;\n",
       "  padding-bottom: 0.4em;\n",
       "  background-color: var(--sklearn-color-background);\n",
       "}\n",
       "\n",
       "#sk-container-id-1 div.sk-container {\n",
       "  /* jupyter's `normalize.less` sets `[hidden] { display: none; }`\n",
       "     but bootstrap.min.css set `[hidden] { display: none !important; }`\n",
       "     so we also need the `!important` here to be able to override the\n",
       "     default hidden behavior on the sphinx rendered scikit-learn.org.\n",
       "     See: https://github.com/scikit-learn/scikit-learn/issues/21755 */\n",
       "  display: inline-block !important;\n",
       "  position: relative;\n",
       "}\n",
       "\n",
       "#sk-container-id-1 div.sk-text-repr-fallback {\n",
       "  display: none;\n",
       "}\n",
       "\n",
       "div.sk-parallel-item,\n",
       "div.sk-serial,\n",
       "div.sk-item {\n",
       "  /* draw centered vertical line to link estimators */\n",
       "  background-image: linear-gradient(var(--sklearn-color-text-on-default-background), var(--sklearn-color-text-on-default-background));\n",
       "  background-size: 2px 100%;\n",
       "  background-repeat: no-repeat;\n",
       "  background-position: center center;\n",
       "}\n",
       "\n",
       "/* Parallel-specific style estimator block */\n",
       "\n",
       "#sk-container-id-1 div.sk-parallel-item::after {\n",
       "  content: \"\";\n",
       "  width: 100%;\n",
       "  border-bottom: 2px solid var(--sklearn-color-text-on-default-background);\n",
       "  flex-grow: 1;\n",
       "}\n",
       "\n",
       "#sk-container-id-1 div.sk-parallel {\n",
       "  display: flex;\n",
       "  align-items: stretch;\n",
       "  justify-content: center;\n",
       "  background-color: var(--sklearn-color-background);\n",
       "  position: relative;\n",
       "}\n",
       "\n",
       "#sk-container-id-1 div.sk-parallel-item {\n",
       "  display: flex;\n",
       "  flex-direction: column;\n",
       "}\n",
       "\n",
       "#sk-container-id-1 div.sk-parallel-item:first-child::after {\n",
       "  align-self: flex-end;\n",
       "  width: 50%;\n",
       "}\n",
       "\n",
       "#sk-container-id-1 div.sk-parallel-item:last-child::after {\n",
       "  align-self: flex-start;\n",
       "  width: 50%;\n",
       "}\n",
       "\n",
       "#sk-container-id-1 div.sk-parallel-item:only-child::after {\n",
       "  width: 0;\n",
       "}\n",
       "\n",
       "/* Serial-specific style estimator block */\n",
       "\n",
       "#sk-container-id-1 div.sk-serial {\n",
       "  display: flex;\n",
       "  flex-direction: column;\n",
       "  align-items: center;\n",
       "  background-color: var(--sklearn-color-background);\n",
       "  padding-right: 1em;\n",
       "  padding-left: 1em;\n",
       "}\n",
       "\n",
       "\n",
       "/* Toggleable style: style used for estimator/Pipeline/ColumnTransformer box that is\n",
       "clickable and can be expanded/collapsed.\n",
       "- Pipeline and ColumnTransformer use this feature and define the default style\n",
       "- Estimators will overwrite some part of the style using the `sk-estimator` class\n",
       "*/\n",
       "\n",
       "/* Pipeline and ColumnTransformer style (default) */\n",
       "\n",
       "#sk-container-id-1 div.sk-toggleable {\n",
       "  /* Default theme specific background. It is overwritten whether we have a\n",
       "  specific estimator or a Pipeline/ColumnTransformer */\n",
       "  background-color: var(--sklearn-color-background);\n",
       "}\n",
       "\n",
       "/* Toggleable label */\n",
       "#sk-container-id-1 label.sk-toggleable__label {\n",
       "  cursor: pointer;\n",
       "  display: block;\n",
       "  width: 100%;\n",
       "  margin-bottom: 0;\n",
       "  padding: 0.5em;\n",
       "  box-sizing: border-box;\n",
       "  text-align: center;\n",
       "}\n",
       "\n",
       "#sk-container-id-1 label.sk-toggleable__label-arrow:before {\n",
       "  /* Arrow on the left of the label */\n",
       "  content: \"▸\";\n",
       "  float: left;\n",
       "  margin-right: 0.25em;\n",
       "  color: var(--sklearn-color-icon);\n",
       "}\n",
       "\n",
       "#sk-container-id-1 label.sk-toggleable__label-arrow:hover:before {\n",
       "  color: var(--sklearn-color-text);\n",
       "}\n",
       "\n",
       "/* Toggleable content - dropdown */\n",
       "\n",
       "#sk-container-id-1 div.sk-toggleable__content {\n",
       "  max-height: 0;\n",
       "  max-width: 0;\n",
       "  overflow: hidden;\n",
       "  text-align: left;\n",
       "  /* unfitted */\n",
       "  background-color: var(--sklearn-color-unfitted-level-0);\n",
       "}\n",
       "\n",
       "#sk-container-id-1 div.sk-toggleable__content.fitted {\n",
       "  /* fitted */\n",
       "  background-color: var(--sklearn-color-fitted-level-0);\n",
       "}\n",
       "\n",
       "#sk-container-id-1 div.sk-toggleable__content pre {\n",
       "  margin: 0.2em;\n",
       "  border-radius: 0.25em;\n",
       "  color: var(--sklearn-color-text);\n",
       "  /* unfitted */\n",
       "  background-color: var(--sklearn-color-unfitted-level-0);\n",
       "}\n",
       "\n",
       "#sk-container-id-1 div.sk-toggleable__content.fitted pre {\n",
       "  /* unfitted */\n",
       "  background-color: var(--sklearn-color-fitted-level-0);\n",
       "}\n",
       "\n",
       "#sk-container-id-1 input.sk-toggleable__control:checked~div.sk-toggleable__content {\n",
       "  /* Expand drop-down */\n",
       "  max-height: 200px;\n",
       "  max-width: 100%;\n",
       "  overflow: auto;\n",
       "}\n",
       "\n",
       "#sk-container-id-1 input.sk-toggleable__control:checked~label.sk-toggleable__label-arrow:before {\n",
       "  content: \"▾\";\n",
       "}\n",
       "\n",
       "/* Pipeline/ColumnTransformer-specific style */\n",
       "\n",
       "#sk-container-id-1 div.sk-label input.sk-toggleable__control:checked~label.sk-toggleable__label {\n",
       "  color: var(--sklearn-color-text);\n",
       "  background-color: var(--sklearn-color-unfitted-level-2);\n",
       "}\n",
       "\n",
       "#sk-container-id-1 div.sk-label.fitted input.sk-toggleable__control:checked~label.sk-toggleable__label {\n",
       "  background-color: var(--sklearn-color-fitted-level-2);\n",
       "}\n",
       "\n",
       "/* Estimator-specific style */\n",
       "\n",
       "/* Colorize estimator box */\n",
       "#sk-container-id-1 div.sk-estimator input.sk-toggleable__control:checked~label.sk-toggleable__label {\n",
       "  /* unfitted */\n",
       "  background-color: var(--sklearn-color-unfitted-level-2);\n",
       "}\n",
       "\n",
       "#sk-container-id-1 div.sk-estimator.fitted input.sk-toggleable__control:checked~label.sk-toggleable__label {\n",
       "  /* fitted */\n",
       "  background-color: var(--sklearn-color-fitted-level-2);\n",
       "}\n",
       "\n",
       "#sk-container-id-1 div.sk-label label.sk-toggleable__label,\n",
       "#sk-container-id-1 div.sk-label label {\n",
       "  /* The background is the default theme color */\n",
       "  color: var(--sklearn-color-text-on-default-background);\n",
       "}\n",
       "\n",
       "/* On hover, darken the color of the background */\n",
       "#sk-container-id-1 div.sk-label:hover label.sk-toggleable__label {\n",
       "  color: var(--sklearn-color-text);\n",
       "  background-color: var(--sklearn-color-unfitted-level-2);\n",
       "}\n",
       "\n",
       "/* Label box, darken color on hover, fitted */\n",
       "#sk-container-id-1 div.sk-label.fitted:hover label.sk-toggleable__label.fitted {\n",
       "  color: var(--sklearn-color-text);\n",
       "  background-color: var(--sklearn-color-fitted-level-2);\n",
       "}\n",
       "\n",
       "/* Estimator label */\n",
       "\n",
       "#sk-container-id-1 div.sk-label label {\n",
       "  font-family: monospace;\n",
       "  font-weight: bold;\n",
       "  display: inline-block;\n",
       "  line-height: 1.2em;\n",
       "}\n",
       "\n",
       "#sk-container-id-1 div.sk-label-container {\n",
       "  text-align: center;\n",
       "}\n",
       "\n",
       "/* Estimator-specific */\n",
       "#sk-container-id-1 div.sk-estimator {\n",
       "  font-family: monospace;\n",
       "  border: 1px dotted var(--sklearn-color-border-box);\n",
       "  border-radius: 0.25em;\n",
       "  box-sizing: border-box;\n",
       "  margin-bottom: 0.5em;\n",
       "  /* unfitted */\n",
       "  background-color: var(--sklearn-color-unfitted-level-0);\n",
       "}\n",
       "\n",
       "#sk-container-id-1 div.sk-estimator.fitted {\n",
       "  /* fitted */\n",
       "  background-color: var(--sklearn-color-fitted-level-0);\n",
       "}\n",
       "\n",
       "/* on hover */\n",
       "#sk-container-id-1 div.sk-estimator:hover {\n",
       "  /* unfitted */\n",
       "  background-color: var(--sklearn-color-unfitted-level-2);\n",
       "}\n",
       "\n",
       "#sk-container-id-1 div.sk-estimator.fitted:hover {\n",
       "  /* fitted */\n",
       "  background-color: var(--sklearn-color-fitted-level-2);\n",
       "}\n",
       "\n",
       "/* Specification for estimator info (e.g. \"i\" and \"?\") */\n",
       "\n",
       "/* Common style for \"i\" and \"?\" */\n",
       "\n",
       ".sk-estimator-doc-link,\n",
       "a:link.sk-estimator-doc-link,\n",
       "a:visited.sk-estimator-doc-link {\n",
       "  float: right;\n",
       "  font-size: smaller;\n",
       "  line-height: 1em;\n",
       "  font-family: monospace;\n",
       "  background-color: var(--sklearn-color-background);\n",
       "  border-radius: 1em;\n",
       "  height: 1em;\n",
       "  width: 1em;\n",
       "  text-decoration: none !important;\n",
       "  margin-left: 1ex;\n",
       "  /* unfitted */\n",
       "  border: var(--sklearn-color-unfitted-level-1) 1pt solid;\n",
       "  color: var(--sklearn-color-unfitted-level-1);\n",
       "}\n",
       "\n",
       ".sk-estimator-doc-link.fitted,\n",
       "a:link.sk-estimator-doc-link.fitted,\n",
       "a:visited.sk-estimator-doc-link.fitted {\n",
       "  /* fitted */\n",
       "  border: var(--sklearn-color-fitted-level-1) 1pt solid;\n",
       "  color: var(--sklearn-color-fitted-level-1);\n",
       "}\n",
       "\n",
       "/* On hover */\n",
       "div.sk-estimator:hover .sk-estimator-doc-link:hover,\n",
       ".sk-estimator-doc-link:hover,\n",
       "div.sk-label-container:hover .sk-estimator-doc-link:hover,\n",
       ".sk-estimator-doc-link:hover {\n",
       "  /* unfitted */\n",
       "  background-color: var(--sklearn-color-unfitted-level-3);\n",
       "  color: var(--sklearn-color-background);\n",
       "  text-decoration: none;\n",
       "}\n",
       "\n",
       "div.sk-estimator.fitted:hover .sk-estimator-doc-link.fitted:hover,\n",
       ".sk-estimator-doc-link.fitted:hover,\n",
       "div.sk-label-container:hover .sk-estimator-doc-link.fitted:hover,\n",
       ".sk-estimator-doc-link.fitted:hover {\n",
       "  /* fitted */\n",
       "  background-color: var(--sklearn-color-fitted-level-3);\n",
       "  color: var(--sklearn-color-background);\n",
       "  text-decoration: none;\n",
       "}\n",
       "\n",
       "/* Span, style for the box shown on hovering the info icon */\n",
       ".sk-estimator-doc-link span {\n",
       "  display: none;\n",
       "  z-index: 9999;\n",
       "  position: relative;\n",
       "  font-weight: normal;\n",
       "  right: .2ex;\n",
       "  padding: .5ex;\n",
       "  margin: .5ex;\n",
       "  width: min-content;\n",
       "  min-width: 20ex;\n",
       "  max-width: 50ex;\n",
       "  color: var(--sklearn-color-text);\n",
       "  box-shadow: 2pt 2pt 4pt #999;\n",
       "  /* unfitted */\n",
       "  background: var(--sklearn-color-unfitted-level-0);\n",
       "  border: .5pt solid var(--sklearn-color-unfitted-level-3);\n",
       "}\n",
       "\n",
       ".sk-estimator-doc-link.fitted span {\n",
       "  /* fitted */\n",
       "  background: var(--sklearn-color-fitted-level-0);\n",
       "  border: var(--sklearn-color-fitted-level-3);\n",
       "}\n",
       "\n",
       ".sk-estimator-doc-link:hover span {\n",
       "  display: block;\n",
       "}\n",
       "\n",
       "/* \"?\"-specific style due to the `<a>` HTML tag */\n",
       "\n",
       "#sk-container-id-1 a.estimator_doc_link {\n",
       "  float: right;\n",
       "  font-size: 1rem;\n",
       "  line-height: 1em;\n",
       "  font-family: monospace;\n",
       "  background-color: var(--sklearn-color-background);\n",
       "  border-radius: 1rem;\n",
       "  height: 1rem;\n",
       "  width: 1rem;\n",
       "  text-decoration: none;\n",
       "  /* unfitted */\n",
       "  color: var(--sklearn-color-unfitted-level-1);\n",
       "  border: var(--sklearn-color-unfitted-level-1) 1pt solid;\n",
       "}\n",
       "\n",
       "#sk-container-id-1 a.estimator_doc_link.fitted {\n",
       "  /* fitted */\n",
       "  border: var(--sklearn-color-fitted-level-1) 1pt solid;\n",
       "  color: var(--sklearn-color-fitted-level-1);\n",
       "}\n",
       "\n",
       "/* On hover */\n",
       "#sk-container-id-1 a.estimator_doc_link:hover {\n",
       "  /* unfitted */\n",
       "  background-color: var(--sklearn-color-unfitted-level-3);\n",
       "  color: var(--sklearn-color-background);\n",
       "  text-decoration: none;\n",
       "}\n",
       "\n",
       "#sk-container-id-1 a.estimator_doc_link.fitted:hover {\n",
       "  /* fitted */\n",
       "  background-color: var(--sklearn-color-fitted-level-3);\n",
       "}\n",
       "</style><div id=\"sk-container-id-1\" class=\"sk-top-container\"><div class=\"sk-text-repr-fallback\"><pre>XGBClassifier(base_score=None, booster=None, callbacks=None,\n",
       "              colsample_bylevel=None, colsample_bynode=0.5410472544512013,\n",
       "              colsample_bytree=None, device=None, early_stopping_rounds=None,\n",
       "              enable_categorical=False,\n",
       "              eval_metric=&lt;function custom_f1_score at 0x7f9cfdd53e20&gt;,\n",
       "              feature_types=None, gamma=None, grow_policy=None,\n",
       "              importance_type=None, interaction_constraints=None,\n",
       "              learning_rate=0.31449918264641136, max_bin=None,\n",
       "              max_cat_threshold=None, max_cat_to_onehot=None,\n",
       "              max_delta_step=None, max_depth=16, max_leaves=None,\n",
       "              min_child_weight=56, missing=nan, monotone_constraints=None,\n",
       "              multi_strategy=None, n_estimators=140, n_jobs=None,\n",
       "              num_parallel_tree=None, objective=&#x27;multi:softprob&#x27;, ...)</pre><b>In a Jupyter environment, please rerun this cell to show the HTML representation or trust the notebook. <br />On GitHub, the HTML representation is unable to render, please try loading this page with nbviewer.org.</b></div><div class=\"sk-container\" hidden><div class=\"sk-item\"><div class=\"sk-estimator fitted sk-toggleable\"><input class=\"sk-toggleable__control sk-hidden--visually\" id=\"sk-estimator-id-1\" type=\"checkbox\" checked><label for=\"sk-estimator-id-1\" class=\"sk-toggleable__label fitted sk-toggleable__label-arrow fitted\">&nbsp;XGBClassifier<span class=\"sk-estimator-doc-link fitted\">i<span>Fitted</span></span></label><div class=\"sk-toggleable__content fitted\"><pre>XGBClassifier(base_score=None, booster=None, callbacks=None,\n",
       "              colsample_bylevel=None, colsample_bynode=0.5410472544512013,\n",
       "              colsample_bytree=None, device=None, early_stopping_rounds=None,\n",
       "              enable_categorical=False,\n",
       "              eval_metric=&lt;function custom_f1_score at 0x7f9cfdd53e20&gt;,\n",
       "              feature_types=None, gamma=None, grow_policy=None,\n",
       "              importance_type=None, interaction_constraints=None,\n",
       "              learning_rate=0.31449918264641136, max_bin=None,\n",
       "              max_cat_threshold=None, max_cat_to_onehot=None,\n",
       "              max_delta_step=None, max_depth=16, max_leaves=None,\n",
       "              min_child_weight=56, missing=nan, monotone_constraints=None,\n",
       "              multi_strategy=None, n_estimators=140, n_jobs=None,\n",
       "              num_parallel_tree=None, objective=&#x27;multi:softprob&#x27;, ...)</pre></div> </div></div></div></div>"
      ],
      "text/plain": [
       "XGBClassifier(base_score=None, booster=None, callbacks=None,\n",
       "              colsample_bylevel=None, colsample_bynode=0.5410472544512013,\n",
       "              colsample_bytree=None, device=None, early_stopping_rounds=None,\n",
       "              enable_categorical=False,\n",
       "              eval_metric=<function custom_f1_score at 0x7f9cfdd53e20>,\n",
       "              feature_types=None, gamma=None, grow_policy=None,\n",
       "              importance_type=None, interaction_constraints=None,\n",
       "              learning_rate=0.31449918264641136, max_bin=None,\n",
       "              max_cat_threshold=None, max_cat_to_onehot=None,\n",
       "              max_delta_step=None, max_depth=16, max_leaves=None,\n",
       "              min_child_weight=56, missing=nan, monotone_constraints=None,\n",
       "              multi_strategy=None, n_estimators=140, n_jobs=None,\n",
       "              num_parallel_tree=None, objective='multi:softprob', ...)"
      ]
     },
     "execution_count": 21,
     "metadata": {},
     "output_type": "execute_result"
    }
   ],
   "source": [
    "n_estimators = int(study.best_trial.user_attrs['best_iteration']*1.2)\n",
    "xgb = xgboost.XGBClassifier(\n",
    "        eval_metric=eval_metric,\n",
    "        n_estimators=n_estimators,\n",
    "        **study.best_trial.params\n",
    "    )\n",
    "xgb.fit(\n",
    "    ssp.vstack((X_train, X_val)), \n",
    "    np.concatenate((y_train_enc, y_val_enc)),\n",
    "    verbose=1,\n",
    ")"
   ]
  },
  {
   "cell_type": "code",
   "execution_count": 22,
   "id": "1e3401d4",
   "metadata": {
    "execution": {
     "iopub.execute_input": "2025-05-15T16:23:32.229279Z",
     "iopub.status.busy": "2025-05-15T16:23:32.229047Z",
     "iopub.status.idle": "2025-05-15T16:23:32.291370Z",
     "shell.execute_reply": "2025-05-15T16:23:32.291003Z"
    },
    "papermill": {
     "duration": 0.07177,
     "end_time": "2025-05-15T16:23:32.292153",
     "exception": false,
     "start_time": "2025-05-15T16:23:32.220383",
     "status": "completed"
    },
    "tags": []
   },
   "outputs": [
    {
     "data": {
      "text/plain": [
       "['/scratch_isilon/groups/singlecell/shared/projects/Inflammation-PBMCs-Atlas/03_downstream_analysis/08_gene_importance/xgboost_external_validation/xgboost_TopN_genes/results_20/best_model/Mono_14_4_xgb.json']"
      ]
     },
     "execution_count": 22,
     "metadata": {},
     "output_type": "execute_result"
    }
   ],
   "source": [
    "out_dir = here(f'03_downstream_analysis/08_gene_importance/xgboost_external_validation/xgboost_TopN_genes/results_{N_GENES}/best_model')\n",
    "\n",
    "if not os.path.exists(out_dir):\n",
    "    os.makedirs(out_dir)\n",
    "    \n",
    "joblib.dump(xgb, os.path.join(out_dir, f'{CELL_TYPE}_{SEED}_{TEST_SPLIT_IDX}_xgb.json'))"
   ]
  },
  {
   "cell_type": "code",
   "execution_count": 23,
   "id": "d6645e95",
   "metadata": {
    "execution": {
     "iopub.execute_input": "2025-05-15T16:23:32.309936Z",
     "iopub.status.busy": "2025-05-15T16:23:32.309624Z",
     "iopub.status.idle": "2025-05-15T16:23:33.017241Z",
     "shell.execute_reply": "2025-05-15T16:23:33.016871Z"
    },
    "papermill": {
     "duration": 0.717258,
     "end_time": "2025-05-15T16:23:33.018146",
     "exception": false,
     "start_time": "2025-05-15T16:23:32.300888",
     "status": "completed"
    },
    "tags": []
   },
   "outputs": [],
   "source": [
    "df_pred_test = pd.DataFrame(dict(\n",
    "    cell_id=train_adata.obs.iloc[test_idxs].index.values,\n",
    "    y_true=y_test, \n",
    "    y_true_code=y_test_enc, \n",
    "    y_pred=xgb.predict(X_test))).set_index('cell_id')"
   ]
  },
  {
   "cell_type": "code",
   "execution_count": 24,
   "id": "7fab3df2",
   "metadata": {
    "execution": {
     "iopub.execute_input": "2025-05-15T16:23:33.035438Z",
     "iopub.status.busy": "2025-05-15T16:23:33.035185Z",
     "iopub.status.idle": "2025-05-15T16:23:33.199448Z",
     "shell.execute_reply": "2025-05-15T16:23:33.199066Z"
    },
    "papermill": {
     "duration": 0.174009,
     "end_time": "2025-05-15T16:23:33.200263",
     "exception": false,
     "start_time": "2025-05-15T16:23:33.026254",
     "status": "completed"
    },
    "tags": []
   },
   "outputs": [],
   "source": [
    "out_dir = here(f'03_downstream_analysis/08_gene_importance/xgboost_external_validation/xgboost_TopN_genes/results_{N_GENES}/predictions')\n",
    "\n",
    "if not os.path.exists(out_dir):\n",
    "    os.makedirs(out_dir)\n",
    "    \n",
    "df_pred_test.to_csv(os.path.join(out_dir, f'{CELL_TYPE}_{SEED}_{TEST_SPLIT_IDX}_pred_test.zip'))"
   ]
  },
  {
   "cell_type": "code",
   "execution_count": 25,
   "id": "62958353",
   "metadata": {
    "execution": {
     "iopub.execute_input": "2025-05-15T16:23:33.217324Z",
     "iopub.status.busy": "2025-05-15T16:23:33.217068Z",
     "iopub.status.idle": "2025-05-15T16:23:33.234212Z",
     "shell.execute_reply": "2025-05-15T16:23:33.233892Z"
    },
    "papermill": {
     "duration": 0.026423,
     "end_time": "2025-05-15T16:23:33.234981",
     "exception": false,
     "start_time": "2025-05-15T16:23:33.208558",
     "status": "completed"
    },
    "tags": []
   },
   "outputs": [],
   "source": [
    "metrics_dict = dict(\n",
    "    BAS=balanced_accuracy_score(y_true=df_pred_test.y_true_code, y_pred=df_pred_test.y_pred), WF1=f1_score(y_true=df_pred_test.y_true_code, y_pred=df_pred_test.y_pred,average='weighted'))"
   ]
  },
  {
   "cell_type": "code",
   "execution_count": 26,
   "id": "8a9438f5",
   "metadata": {
    "execution": {
     "iopub.execute_input": "2025-05-15T16:23:33.251777Z",
     "iopub.status.busy": "2025-05-15T16:23:33.251477Z",
     "iopub.status.idle": "2025-05-15T16:23:33.254116Z",
     "shell.execute_reply": "2025-05-15T16:23:33.253817Z"
    },
    "papermill": {
     "duration": 0.011702,
     "end_time": "2025-05-15T16:23:33.254864",
     "exception": false,
     "start_time": "2025-05-15T16:23:33.243162",
     "status": "completed"
    },
    "tags": []
   },
   "outputs": [
    {
     "data": {
      "text/plain": [
       "{'BAS': 0.5545549160068952, 'WF1': 0.8049820588021306}"
      ]
     },
     "execution_count": 26,
     "metadata": {},
     "output_type": "execute_result"
    }
   ],
   "source": [
    "metrics_dict"
   ]
  },
  {
   "cell_type": "code",
   "execution_count": 27,
   "id": "21a355db",
   "metadata": {
    "execution": {
     "iopub.execute_input": "2025-05-15T16:23:33.271964Z",
     "iopub.status.busy": "2025-05-15T16:23:33.271800Z",
     "iopub.status.idle": "2025-05-15T16:23:33.280195Z",
     "shell.execute_reply": "2025-05-15T16:23:33.279903Z"
    },
    "papermill": {
     "duration": 0.017763,
     "end_time": "2025-05-15T16:23:33.280966",
     "exception": false,
     "start_time": "2025-05-15T16:23:33.263203",
     "status": "completed"
    },
    "tags": []
   },
   "outputs": [
    {
     "data": {
      "text/html": [
       "<div>\n",
       "<style scoped>\n",
       "    .dataframe tbody tr th:only-of-type {\n",
       "        vertical-align: middle;\n",
       "    }\n",
       "\n",
       "    .dataframe tbody tr th {\n",
       "        vertical-align: top;\n",
       "    }\n",
       "\n",
       "    .dataframe thead th {\n",
       "        text-align: right;\n",
       "    }\n",
       "</style>\n",
       "<table border=\"1\" class=\"dataframe\">\n",
       "  <thead>\n",
       "    <tr style=\"text-align: right;\">\n",
       "      <th></th>\n",
       "      <th>BAS</th>\n",
       "      <th>WF1</th>\n",
       "      <th>split_idx</th>\n",
       "      <th>gene_set_seed</th>\n",
       "      <th>cell_type</th>\n",
       "    </tr>\n",
       "  </thead>\n",
       "  <tbody>\n",
       "    <tr>\n",
       "      <th>0</th>\n",
       "      <td>0.554555</td>\n",
       "      <td>0.804982</td>\n",
       "      <td>4</td>\n",
       "      <td>14</td>\n",
       "      <td>Mono</td>\n",
       "    </tr>\n",
       "  </tbody>\n",
       "</table>\n",
       "</div>"
      ],
      "text/plain": [
       "        BAS       WF1  split_idx  gene_set_seed cell_type\n",
       "0  0.554555  0.804982          4             14      Mono"
      ]
     },
     "execution_count": 27,
     "metadata": {},
     "output_type": "execute_result"
    }
   ],
   "source": [
    "metrics_df = pd.DataFrame.from_dict([metrics_dict]).assign(split_idx=TEST_SPLIT_IDX, gene_set_seed=SEED, cell_type=CELL_TYPE)\n",
    "metrics_df"
   ]
  },
  {
   "cell_type": "code",
   "execution_count": 28,
   "id": "433ae4fe",
   "metadata": {
    "execution": {
     "iopub.execute_input": "2025-05-15T16:23:33.298118Z",
     "iopub.status.busy": "2025-05-15T16:23:33.297846Z",
     "iopub.status.idle": "2025-05-15T16:23:33.305051Z",
     "shell.execute_reply": "2025-05-15T16:23:33.304761Z"
    },
    "papermill": {
     "duration": 0.016605,
     "end_time": "2025-05-15T16:23:33.305809",
     "exception": false,
     "start_time": "2025-05-15T16:23:33.289204",
     "status": "completed"
    },
    "tags": []
   },
   "outputs": [],
   "source": [
    "out_dir = here(f'03_downstream_analysis/08_gene_importance/xgboost_external_validation/xgboost_TopN_genes/results_{N_GENES}/metrics')\n",
    "\n",
    "if not os.path.exists(out_dir):\n",
    "    os.makedirs(out_dir)\n",
    "    \n",
    "metrics_df.to_csv(os.path.join(out_dir, f'{CELL_TYPE}_{SEED}_{TEST_SPLIT_IDX}_metrics.zip'))"
   ]
  }
 ],
 "metadata": {
  "kernelspec": {
   "display_name": "Python 3 (ipykernel)",
   "language": "python",
   "name": "python3"
  },
  "language_info": {
   "codemirror_mode": {
    "name": "ipython",
    "version": 3
   },
   "file_extension": ".py",
   "mimetype": "text/x-python",
   "name": "python",
   "nbconvert_exporter": "python",
   "pygments_lexer": "ipython3",
   "version": "3.12.5"
  },
  "papermill": {
   "default_parameters": {},
   "duration": 1412.276882,
   "end_time": "2025-05-15T16:23:33.828013",
   "environment_variables": {},
   "exception": null,
   "input_path": "02_xgboost_fitting_external_20genes.ipynb",
   "output_path": "results_20/executed_notebooks/xgboost_fitting_external_CT_Mono_GS_14_seed4.ipynb",
   "parameters": {
    "CELL_TYPE": "Mono",
    "SEED": 14,
    "TEST_SPLIT_IDX": 4
   },
   "start_time": "2025-05-15T16:00:01.551131",
   "version": "2.6.0"
  }
 },
 "nbformat": 4,
 "nbformat_minor": 5
}