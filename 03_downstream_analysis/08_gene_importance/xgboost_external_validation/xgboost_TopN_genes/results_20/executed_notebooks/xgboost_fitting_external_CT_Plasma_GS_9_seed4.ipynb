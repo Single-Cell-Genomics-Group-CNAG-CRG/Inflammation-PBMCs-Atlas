{
 "cells": [
  {
   "cell_type": "code",
   "execution_count": 1,
   "id": "dea24ff5",
   "metadata": {
    "editable": true,
    "execution": {
     "iopub.execute_input": "2025-05-15T16:15:34.808862Z",
     "iopub.status.busy": "2025-05-15T16:15:34.808670Z",
     "iopub.status.idle": "2025-05-15T16:15:34.811411Z",
     "shell.execute_reply": "2025-05-15T16:15:34.811101Z"
    },
    "papermill": {
     "duration": 0.011429,
     "end_time": "2025-05-15T16:15:34.812274",
     "exception": false,
     "start_time": "2025-05-15T16:15:34.800845",
     "status": "completed"
    },
    "slideshow": {
     "slide_type": ""
    },
    "tags": [
     "parameters"
    ]
   },
   "outputs": [],
   "source": [
    "CELL_TYPE = 'pDC'\n",
    "N_GENES: int = 20\n",
    "SEED = 'shap_studyID' #'disease_NOstudy' 'study_NOdisease' or 'int' or 'shap_studyID'\n",
    "TEST_SPLIT_IDX: int = 1 #[0,4]"
   ]
  },
  {
   "cell_type": "code",
   "execution_count": 2,
   "id": "438132b1",
   "metadata": {
    "execution": {
     "iopub.execute_input": "2025-05-15T16:15:34.848213Z",
     "iopub.status.busy": "2025-05-15T16:15:34.847728Z",
     "iopub.status.idle": "2025-05-15T16:15:34.850000Z",
     "shell.execute_reply": "2025-05-15T16:15:34.849697Z"
    },
    "papermill": {
     "duration": 0.032665,
     "end_time": "2025-05-15T16:15:34.850758",
     "exception": false,
     "start_time": "2025-05-15T16:15:34.818093",
     "status": "completed"
    },
    "tags": [
     "injected-parameters"
    ]
   },
   "outputs": [],
   "source": [
    "# Parameters\n",
    "CELL_TYPE = \"Plasma\"\n",
    "SEED = 9\n",
    "TEST_SPLIT_IDX = 4\n"
   ]
  },
  {
   "cell_type": "code",
   "execution_count": 3,
   "id": "3a6446ee",
   "metadata": {
    "execution": {
     "iopub.execute_input": "2025-05-15T16:15:34.861753Z",
     "iopub.status.busy": "2025-05-15T16:15:34.861529Z",
     "iopub.status.idle": "2025-05-15T16:15:34.863612Z",
     "shell.execute_reply": "2025-05-15T16:15:34.863327Z"
    },
    "papermill": {
     "duration": 0.008433,
     "end_time": "2025-05-15T16:15:34.864445",
     "exception": false,
     "start_time": "2025-05-15T16:15:34.856012",
     "status": "completed"
    },
    "tags": []
   },
   "outputs": [],
   "source": [
    "N_SPLITS: int = 5\n",
    "N_TRIALS: int = 50"
   ]
  },
  {
   "cell_type": "code",
   "execution_count": 4,
   "id": "fce8ad74",
   "metadata": {
    "execution": {
     "iopub.execute_input": "2025-05-15T16:15:34.876784Z",
     "iopub.status.busy": "2025-05-15T16:15:34.876304Z",
     "iopub.status.idle": "2025-05-15T16:15:36.255542Z",
     "shell.execute_reply": "2025-05-15T16:15:36.255042Z"
    },
    "papermill": {
     "duration": 1.38714,
     "end_time": "2025-05-15T16:15:36.256840",
     "exception": false,
     "start_time": "2025-05-15T16:15:34.869700",
     "status": "completed"
    },
    "tags": []
   },
   "outputs": [],
   "source": [
    "import os\n",
    "import sys\n",
    "from pyprojroot.here import here\n",
    "import pandas as pd\n",
    "import anndata as ad\n",
    "import numpy as np\n",
    "import math\n",
    "from sklearn.model_selection import StratifiedGroupKFold\n",
    "from sklearn.preprocessing import LabelEncoder\n",
    "from sklearn.metrics import f1_score\n",
    "import matplotlib.pyplot as plt\n",
    "import seaborn as sns\n",
    "from itertools import product\n",
    "from sklearn.metrics import balanced_accuracy_score, f1_score\n",
    "import optuna\n",
    "\n",
    "import joblib\n",
    "import pickle\n",
    "import datetime\n",
    "\n",
    "import collections\n",
    "\n",
    "import xgboost\n",
    "from sklearn.preprocessing import LabelEncoder\n",
    "\n",
    "import scipy.sparse as ssp\n",
    "import joblib\n",
    "\n",
    "from dotenv import load_dotenv"
   ]
  },
  {
   "cell_type": "code",
   "execution_count": 5,
   "id": "cdf80d4e",
   "metadata": {
    "execution": {
     "iopub.execute_input": "2025-05-15T16:15:36.269831Z",
     "iopub.status.busy": "2025-05-15T16:15:36.269488Z",
     "iopub.status.idle": "2025-05-15T16:15:36.275310Z",
     "shell.execute_reply": "2025-05-15T16:15:36.274911Z"
    },
    "papermill": {
     "duration": 0.012792,
     "end_time": "2025-05-15T16:15:36.276186",
     "exception": false,
     "start_time": "2025-05-15T16:15:36.263394",
     "status": "completed"
    },
    "tags": []
   },
   "outputs": [
    {
     "data": {
      "text/plain": [
       "True"
      ]
     },
     "execution_count": 5,
     "metadata": {},
     "output_type": "execute_result"
    }
   ],
   "source": [
    "load_dotenv()"
   ]
  },
  {
   "cell_type": "markdown",
   "id": "451ee51d",
   "metadata": {
    "papermill": {
     "duration": 0.005455,
     "end_time": "2025-05-15T16:15:36.296418",
     "exception": false,
     "start_time": "2025-05-15T16:15:36.290963",
     "status": "completed"
    },
    "tags": []
   },
   "source": [
    "# LOAD DATASET"
   ]
  },
  {
   "cell_type": "code",
   "execution_count": 6,
   "id": "0351e6fe",
   "metadata": {
    "execution": {
     "iopub.execute_input": "2025-05-15T16:15:36.308010Z",
     "iopub.status.busy": "2025-05-15T16:15:36.307609Z",
     "iopub.status.idle": "2025-05-15T16:15:36.345638Z",
     "shell.execute_reply": "2025-05-15T16:15:36.345197Z"
    },
    "papermill": {
     "duration": 0.045114,
     "end_time": "2025-05-15T16:15:36.346731",
     "exception": false,
     "start_time": "2025-05-15T16:15:36.301617",
     "status": "completed"
    },
    "tags": []
   },
   "outputs": [],
   "source": [
    "train_adata = ad.read_h5ad(\n",
    "    here(f'03_downstream_analysis/08_gene_importance/xgboost_external_validation/xgboost_TopN_genes/data_cellTypes/EXTERNAL_{CELL_TYPE}.filtered.log1p.h5ad')\n",
    ")"
   ]
  },
  {
   "cell_type": "code",
   "execution_count": 7,
   "id": "d2aca8f4",
   "metadata": {
    "execution": {
     "iopub.execute_input": "2025-05-15T16:15:36.358248Z",
     "iopub.status.busy": "2025-05-15T16:15:36.358017Z",
     "iopub.status.idle": "2025-05-15T16:15:36.367396Z",
     "shell.execute_reply": "2025-05-15T16:15:36.367060Z"
    },
    "papermill": {
     "duration": 0.015921,
     "end_time": "2025-05-15T16:15:36.368245",
     "exception": false,
     "start_time": "2025-05-15T16:15:36.352324",
     "status": "completed"
    },
    "tags": []
   },
   "outputs": [
    {
     "name": "stdout",
     "output_type": "stream",
     "text": [
      "['ENSG00000168394' 'ENSG00000149311' 'ENSG00000143119' 'ENSG00000108774'\n",
      " 'ENSG00000275302' 'ENSG00000185201' 'ENSG00000185591' 'ENSG00000152495'\n",
      " 'ENSG00000197329' 'ENSG00000002586' 'ENSG00000005844' 'ENSG00000104312'\n",
      " 'ENSG00000131437' 'ENSG00000140968' 'ENSG00000186010' 'ENSG00000111640'\n",
      " 'ENSG00000147168' 'ENSG00000171223' 'ENSG00000137965' 'ENSG00000185436'\n",
      " 'ENSG00000168685' 'ENSG00000146457' 'ENSG00000145850' 'ENSG00000277791'\n",
      " 'ENSG00000168811' 'ENSG00000188404' 'ENSG00000156738' 'ENSG00000205220'\n",
      " 'ENSG00000244687' 'ENSG00000111335' 'ENSG00000167996' 'ENSG00000172543'\n",
      " 'ENSG00000167283' 'ENSG00000110395' 'ENSG00000132432' 'ENSG00000105373'\n",
      " 'ENSG00000121807' 'ENSG00000176533' 'ENSG00000179218' 'ENSG00000160888'\n",
      " 'ENSG00000082074' 'ENSG00000101096' 'ENSG00000153283' 'ENSG00000179144'\n",
      " 'ENSG00000071073' 'ENSG00000106367' 'ENSG00000228474' 'ENSG00000164136'\n",
      " 'ENSG00000075945' 'ENSG00000130429' 'ENSG00000139318' 'ENSG00000197111'\n",
      " 'ENSG00000117602' 'ENSG00000102265' 'ENSG00000113811' 'ENSG00000165280'\n",
      " 'ENSG00000100280' 'ENSG00000169564' 'ENSG00000162772' 'ENSG00000175567'\n",
      " 'ENSG00000081059' 'ENSG00000125743' 'ENSG00000132002' 'ENSG00000118503'\n",
      " 'ENSG00000158050' 'ENSG00000183696' 'ENSG00000171608' 'ENSG00000001167'\n",
      " 'ENSG00000108561' 'ENSG00000075426' 'ENSG00000197872' 'ENSG00000160075'\n",
      " 'ENSG00000145247' 'ENSG00000138802' 'ENSG00000170476' 'ENSG00000167004'\n",
      " 'ENSG00000178562' 'ENSG00000105583' 'ENSG00000163191' 'ENSG00000175104'\n",
      " 'ENSG00000103490' 'ENSG00000160932' 'ENSG00000092820' 'ENSG00000048462'\n",
      " 'ENSG00000051382' 'ENSG00000121858' 'ENSG00000175390' 'ENSG00000110077'\n",
      " 'ENSG00000115875' 'ENSG00000178719' 'ENSG00000171700' 'ENSG00000143761'\n",
      " 'ENSG00000127951' 'ENSG00000139514' 'ENSG00000011590' 'ENSG00000197249'\n",
      " 'ENSG00000117523' 'ENSG00000127152' 'ENSG00000155368' 'ENSG00000135968'\n",
      " 'ENSG00000090863' 'ENSG00000142089' 'ENSG00000177721' 'ENSG00000096996'\n",
      " 'ENSG00000140564' 'ENSG00000077984' 'ENSG00000059728']\n"
     ]
    }
   ],
   "source": [
    "if SEED != 'all':\n",
    "    gene_subset = np.load(here(f'03_downstream_analysis/08_gene_importance/xgboost_external_validation/shap_gene_selection/gene_subsets_{N_GENES}/{CELL_TYPE}_{SEED}.npy'), allow_pickle=True)\n",
    "    train_adata = train_adata[:,gene_subset]\n",
    "    print(gene_subset)\n",
    "elif SEED == 'all':\n",
    "    print('Using all genes')\n",
    "else:\n",
    "    raise ValueError()"
   ]
  },
  {
   "cell_type": "code",
   "execution_count": 8,
   "id": "022fe51a",
   "metadata": {
    "execution": {
     "iopub.execute_input": "2025-05-15T16:15:36.380079Z",
     "iopub.status.busy": "2025-05-15T16:15:36.379881Z",
     "iopub.status.idle": "2025-05-15T16:15:36.382883Z",
     "shell.execute_reply": "2025-05-15T16:15:36.382581Z"
    },
    "papermill": {
     "duration": 0.010252,
     "end_time": "2025-05-15T16:15:36.383971",
     "exception": false,
     "start_time": "2025-05-15T16:15:36.373719",
     "status": "completed"
    },
    "tags": []
   },
   "outputs": [
    {
     "data": {
      "text/plain": [
       "(542, 107)"
      ]
     },
     "execution_count": 8,
     "metadata": {},
     "output_type": "execute_result"
    }
   ],
   "source": [
    "train_adata.shape"
   ]
  },
  {
   "cell_type": "code",
   "execution_count": 9,
   "id": "7a05b4b4",
   "metadata": {
    "execution": {
     "iopub.execute_input": "2025-05-15T16:15:36.395277Z",
     "iopub.status.busy": "2025-05-15T16:15:36.394927Z",
     "iopub.status.idle": "2025-05-15T16:15:36.398347Z",
     "shell.execute_reply": "2025-05-15T16:15:36.398040Z"
    },
    "papermill": {
     "duration": 0.009965,
     "end_time": "2025-05-15T16:15:36.399153",
     "exception": false,
     "start_time": "2025-05-15T16:15:36.389188",
     "status": "completed"
    },
    "tags": []
   },
   "outputs": [
    {
     "data": {
      "text/plain": [
       "['RA', 'COVID', 'healthy', 'HIV', 'cirrhosis', 'CD', 'SLE', 'sepsis']\n",
       "Categories (8, object): ['CD', 'COVID', 'HIV', 'RA', 'SLE', 'cirrhosis', 'healthy', 'sepsis']"
      ]
     },
     "execution_count": 9,
     "metadata": {},
     "output_type": "execute_result"
    }
   ],
   "source": [
    "train_adata.obs.disease.unique()"
   ]
  },
  {
   "cell_type": "code",
   "execution_count": 10,
   "id": "462c9afc",
   "metadata": {
    "execution": {
     "iopub.execute_input": "2025-05-15T16:15:36.410884Z",
     "iopub.status.busy": "2025-05-15T16:15:36.410631Z",
     "iopub.status.idle": "2025-05-15T16:15:36.415220Z",
     "shell.execute_reply": "2025-05-15T16:15:36.414914Z"
    },
    "papermill": {
     "duration": 0.011194,
     "end_time": "2025-05-15T16:15:36.416047",
     "exception": false,
     "start_time": "2025-05-15T16:15:36.404853",
     "status": "completed"
    },
    "tags": []
   },
   "outputs": [
    {
     "data": {
      "text/plain": [
       "['SCGT00val_I0364_T0', 'SCGT00val_I036019_T0', 'SCGT00val_I036028_T0', 'SCGT00val_I036024_T0', 'SCGT00val_I036016_T0', ..., '10XGenomics_10XHC2_T0', '10XGenomics_10XHC3_T0', '10XGenomics_10XHC5_T0', '10XGenomics_10XHC7_T0', '10XGenomics_10XHC8_T0']\n",
       "Length: 74\n",
       "Categories (74, object): ['10XGenomics_10XHC1_T0', '10XGenomics_10XHC2_T0', '10XGenomics_10XHC3_T0', '10XGenomics_10XHC4_T0', ..., 'Savage2021_BRISL6_T0', 'Savage2021_BRISL7_T0', 'Savage2021_PIDA_T0', 'Savage2021_PIDB_T0']"
      ]
     },
     "execution_count": 10,
     "metadata": {},
     "output_type": "execute_result"
    }
   ],
   "source": [
    "train_adata.obs.sampleID.unique()"
   ]
  },
  {
   "cell_type": "code",
   "execution_count": 11,
   "id": "692db402",
   "metadata": {
    "execution": {
     "iopub.execute_input": "2025-05-15T16:15:36.428072Z",
     "iopub.status.busy": "2025-05-15T16:15:36.427847Z",
     "iopub.status.idle": "2025-05-15T16:15:36.456543Z",
     "shell.execute_reply": "2025-05-15T16:15:36.456187Z"
    },
    "papermill": {
     "duration": 0.035482,
     "end_time": "2025-05-15T16:15:36.457330",
     "exception": false,
     "start_time": "2025-05-15T16:15:36.421848",
     "status": "completed"
    },
    "tags": []
   },
   "outputs": [],
   "source": [
    "all_idxs = np.arange(train_adata.obs.shape[0])\n",
    "left_out_splits = [s[1] for s in StratifiedGroupKFold(n_splits=N_SPLITS).split(all_idxs, train_adata.obs.disease, train_adata.obs.sampleID)]"
   ]
  },
  {
   "cell_type": "code",
   "execution_count": 12,
   "id": "4a053c73",
   "metadata": {
    "execution": {
     "iopub.execute_input": "2025-05-15T16:15:36.469299Z",
     "iopub.status.busy": "2025-05-15T16:15:36.468978Z",
     "iopub.status.idle": "2025-05-15T16:15:36.472282Z",
     "shell.execute_reply": "2025-05-15T16:15:36.471979Z"
    },
    "papermill": {
     "duration": 0.01015,
     "end_time": "2025-05-15T16:15:36.473034",
     "exception": false,
     "start_time": "2025-05-15T16:15:36.462884",
     "status": "completed"
    },
    "tags": []
   },
   "outputs": [
    {
     "data": {
      "text/plain": [
       "([1, 2, 3], 0, 4)"
      ]
     },
     "execution_count": 12,
     "metadata": {},
     "output_type": "execute_result"
    }
   ],
   "source": [
    "TRAIN_SPLIT_IDXS = [0,1,2,3,4]\n",
    "VAL_SPLIT_IDX = (TEST_SPLIT_IDX + 1) % 5\n",
    "TRAIN_SPLIT_IDXS.remove(TEST_SPLIT_IDX)\n",
    "TRAIN_SPLIT_IDXS.remove(VAL_SPLIT_IDX)\n",
    "TRAIN_SPLIT_IDXS, VAL_SPLIT_IDX, TEST_SPLIT_IDX"
   ]
  },
  {
   "cell_type": "code",
   "execution_count": 13,
   "id": "484197c7",
   "metadata": {
    "execution": {
     "iopub.execute_input": "2025-05-15T16:15:36.488487Z",
     "iopub.status.busy": "2025-05-15T16:15:36.488026Z",
     "iopub.status.idle": "2025-05-15T16:15:36.490386Z",
     "shell.execute_reply": "2025-05-15T16:15:36.490094Z"
    },
    "papermill": {
     "duration": 0.012641,
     "end_time": "2025-05-15T16:15:36.491148",
     "exception": false,
     "start_time": "2025-05-15T16:15:36.478507",
     "status": "completed"
    },
    "tags": []
   },
   "outputs": [],
   "source": [
    "train_idxs = np.concatenate([left_out_splits[idx] for idx in TRAIN_SPLIT_IDXS])\n",
    "val_idxs = left_out_splits[VAL_SPLIT_IDX]\n",
    "test_idxs = left_out_splits[TEST_SPLIT_IDX]"
   ]
  },
  {
   "cell_type": "markdown",
   "id": "1ed15a9f",
   "metadata": {
    "papermill": {
     "duration": 0.005492,
     "end_time": "2025-05-15T16:15:36.502379",
     "exception": false,
     "start_time": "2025-05-15T16:15:36.496887",
     "status": "completed"
    },
    "tags": []
   },
   "source": [
    "### SUBSET DATASET INTO TRAIN/TEST/VAL SPLITS"
   ]
  },
  {
   "cell_type": "code",
   "execution_count": 14,
   "id": "71b4bc6e",
   "metadata": {
    "execution": {
     "iopub.execute_input": "2025-05-15T16:15:36.514753Z",
     "iopub.status.busy": "2025-05-15T16:15:36.514169Z",
     "iopub.status.idle": "2025-05-15T16:15:36.520967Z",
     "shell.execute_reply": "2025-05-15T16:15:36.520646Z"
    },
    "papermill": {
     "duration": 0.013474,
     "end_time": "2025-05-15T16:15:36.521755",
     "exception": false,
     "start_time": "2025-05-15T16:15:36.508281",
     "status": "completed"
    },
    "tags": []
   },
   "outputs": [
    {
     "data": {
      "text/plain": [
       "((308, 107), (116, 107), (118, 107))"
      ]
     },
     "execution_count": 14,
     "metadata": {},
     "output_type": "execute_result"
    }
   ],
   "source": [
    "X_train = train_adata.X[train_idxs]\n",
    "X_test = train_adata.X[test_idxs]\n",
    "X_val = train_adata.X[val_idxs]\n",
    "X_train.shape, X_test.shape, X_val.shape"
   ]
  },
  {
   "cell_type": "code",
   "execution_count": 15,
   "id": "0d5fa8f3",
   "metadata": {
    "execution": {
     "iopub.execute_input": "2025-05-15T16:15:36.534230Z",
     "iopub.status.busy": "2025-05-15T16:15:36.533893Z",
     "iopub.status.idle": "2025-05-15T16:15:36.538578Z",
     "shell.execute_reply": "2025-05-15T16:15:36.538271Z"
    },
    "papermill": {
     "duration": 0.012018,
     "end_time": "2025-05-15T16:15:36.539385",
     "exception": false,
     "start_time": "2025-05-15T16:15:36.527367",
     "status": "completed"
    },
    "tags": []
   },
   "outputs": [
    {
     "data": {
      "text/plain": [
       "((308,), (116,), (118,))"
      ]
     },
     "execution_count": 15,
     "metadata": {},
     "output_type": "execute_result"
    }
   ],
   "source": [
    "y_train = train_adata.obs.iloc[train_idxs].disease.values.astype(str)\n",
    "y_test = train_adata.obs.iloc[test_idxs].disease.values.astype(str)\n",
    "y_val = train_adata.obs.iloc[val_idxs].disease.values.astype(str)\n",
    "y_train.shape, y_test.shape, y_val.shape"
   ]
  },
  {
   "cell_type": "code",
   "execution_count": 16,
   "id": "749456db",
   "metadata": {
    "execution": {
     "iopub.execute_input": "2025-05-15T16:15:36.551582Z",
     "iopub.status.busy": "2025-05-15T16:15:36.551219Z",
     "iopub.status.idle": "2025-05-15T16:15:36.553987Z",
     "shell.execute_reply": "2025-05-15T16:15:36.553681Z"
    },
    "papermill": {
     "duration": 0.009661,
     "end_time": "2025-05-15T16:15:36.554783",
     "exception": false,
     "start_time": "2025-05-15T16:15:36.545122",
     "status": "completed"
    },
    "tags": []
   },
   "outputs": [],
   "source": [
    "lenc = LabelEncoder()\n",
    "y_train_enc = lenc.fit_transform(y_train)\n",
    "y_val_enc = lenc.transform(y_val)\n",
    "y_test_enc = lenc.transform(y_test)"
   ]
  },
  {
   "cell_type": "markdown",
   "id": "5d1652dc",
   "metadata": {
    "papermill": {
     "duration": 0.005839,
     "end_time": "2025-05-15T16:15:36.585822",
     "exception": false,
     "start_time": "2025-05-15T16:15:36.579983",
     "status": "completed"
    },
    "tags": []
   },
   "source": [
    "### GENERATE F1 "
   ]
  },
  {
   "cell_type": "code",
   "execution_count": 17,
   "id": "1d57b127",
   "metadata": {
    "execution": {
     "iopub.execute_input": "2025-05-15T16:15:36.598430Z",
     "iopub.status.busy": "2025-05-15T16:15:36.598173Z",
     "iopub.status.idle": "2025-05-15T16:15:36.600913Z",
     "shell.execute_reply": "2025-05-15T16:15:36.600601Z"
    },
    "papermill": {
     "duration": 0.010118,
     "end_time": "2025-05-15T16:15:36.601720",
     "exception": false,
     "start_time": "2025-05-15T16:15:36.591602",
     "status": "completed"
    },
    "tags": []
   },
   "outputs": [],
   "source": [
    "def custom_f1_score(y_true, y_pred):\n",
    "    return -f1_score(y_true, y_pred.argmax(1), average='weighted')"
   ]
  },
  {
   "cell_type": "code",
   "execution_count": 18,
   "id": "9084ce5f",
   "metadata": {
    "execution": {
     "iopub.execute_input": "2025-05-15T16:15:36.614195Z",
     "iopub.status.busy": "2025-05-15T16:15:36.613855Z",
     "iopub.status.idle": "2025-05-15T16:15:36.617486Z",
     "shell.execute_reply": "2025-05-15T16:15:36.617186Z"
    },
    "papermill": {
     "duration": 0.010784,
     "end_time": "2025-05-15T16:15:36.618234",
     "exception": false,
     "start_time": "2025-05-15T16:15:36.607450",
     "status": "completed"
    },
    "tags": []
   },
   "outputs": [],
   "source": [
    "eval_metric=custom_f1_score\n",
    "eval_metric_name='custom_f1_score'\n",
    "\n",
    "def objective(trial):\n",
    "    params = {\n",
    "        'n_estimators': 1500,\n",
    "        'max_depth': trial.suggest_int('max_depth', 3, 20),\n",
    "        'min_child_weight': trial.suggest_int('min_child_weight', 1, 250),\n",
    "        'subsample': trial.suggest_float('subsample', 0.1, 1.0),\n",
    "        'colsample_bynode': trial.suggest_float('colsample_bynode', 0.1, 1.0),\n",
    "        'learning_rate': trial.suggest_float('learning_rate', 1e-3, 5e-1, log=True),\n",
    "    }\n",
    "    pruning_callback = optuna.integration.XGBoostPruningCallback(trial, f'validation_0-{eval_metric_name}')\n",
    "    es_callback = xgboost.callback.EarlyStopping(20, min_delta=0.001)\n",
    "    xgb = xgboost.XGBClassifier(\n",
    "        eval_metric=eval_metric,\n",
    "        callbacks=[pruning_callback, es_callback],\n",
    "        n_jobs=5,\n",
    "        **params\n",
    "    )\n",
    "    xgb.fit(\n",
    "        X_train, \n",
    "        y_train_enc, \n",
    "        verbose=0,\n",
    "        eval_set=[(X_val, y_val_enc)],\n",
    "    )\n",
    "    trial.set_user_attr('best_iteration', xgb.best_iteration)\n",
    "\n",
    "    return xgb.best_score"
   ]
  },
  {
   "cell_type": "code",
   "execution_count": 19,
   "id": "a6a5976c",
   "metadata": {
    "execution": {
     "iopub.execute_input": "2025-05-15T16:15:36.630507Z",
     "iopub.status.busy": "2025-05-15T16:15:36.630187Z",
     "iopub.status.idle": "2025-05-15T16:15:47.384301Z",
     "shell.execute_reply": "2025-05-15T16:15:47.383770Z"
    },
    "papermill": {
     "duration": 10.761855,
     "end_time": "2025-05-15T16:15:47.385733",
     "exception": false,
     "start_time": "2025-05-15T16:15:36.623878",
     "status": "completed"
    },
    "scrolled": true,
    "tags": []
   },
   "outputs": [
    {
     "name": "stderr",
     "output_type": "stream",
     "text": [
      "[I 2025-05-15 18:15:36,632] A new study created in memory with name: no-name-811e1f56-12db-46d6-ba0b-5f3c07df8e02\n"
     ]
    },
    {
     "name": "stderr",
     "output_type": "stream",
     "text": [
      "[I 2025-05-15 18:15:36,693] Trial 0 finished with value: -0.015898 and parameters: {'max_depth': 9, 'min_child_weight': 238, 'subsample': 0.7587945476302645, 'colsample_bynode': 0.6387926357773329, 'learning_rate': 0.0026368755339723046}. Best is trial 0 with value: -0.015898.\n"
     ]
    },
    {
     "name": "stderr",
     "output_type": "stream",
     "text": [
      "[I 2025-05-15 18:15:36,932] Trial 1 finished with value: -0.365858 and parameters: {'max_depth': 5, 'min_child_weight': 15, 'subsample': 0.8795585311974417, 'colsample_bynode': 0.6410035105688879, 'learning_rate': 0.08148293210105287}. Best is trial 1 with value: -0.365858.\n"
     ]
    },
    {
     "name": "stderr",
     "output_type": "stream",
     "text": [
      "[I 2025-05-15 18:15:37,071] Trial 2 finished with value: -0.015898 and parameters: {'max_depth': 3, 'min_child_weight': 243, 'subsample': 0.8491983767203796, 'colsample_bynode': 0.29110519961044856, 'learning_rate': 0.003095566460242371}. Best is trial 1 with value: -0.365858.\n"
     ]
    },
    {
     "name": "stderr",
     "output_type": "stream",
     "text": [
      "[I 2025-05-15 18:15:37,211] Trial 3 finished with value: -0.015898 and parameters: {'max_depth': 6, 'min_child_weight': 77, 'subsample': 0.5722807884690141, 'colsample_bynode': 0.48875051677790415, 'learning_rate': 0.006109683510122491}. Best is trial 1 with value: -0.365858.\n"
     ]
    },
    {
     "name": "stderr",
     "output_type": "stream",
     "text": [
      "[I 2025-05-15 18:15:37,347] Trial 4 finished with value: -0.015898 and parameters: {'max_depth': 14, 'min_child_weight': 35, 'subsample': 0.3629301836816964, 'colsample_bynode': 0.4297256589643226, 'learning_rate': 0.01701841881702917}. Best is trial 1 with value: -0.365858.\n"
     ]
    },
    {
     "name": "stderr",
     "output_type": "stream",
     "text": [
      "[I 2025-05-15 18:15:37,487] Trial 5 finished with value: -0.015898 and parameters: {'max_depth': 17, 'min_child_weight': 50, 'subsample': 0.5628109945722505, 'colsample_bynode': 0.6331731119758383, 'learning_rate': 0.0013346527038305934}. Best is trial 1 with value: -0.365858.\n"
     ]
    },
    {
     "name": "stderr",
     "output_type": "stream",
     "text": [
      "[I 2025-05-15 18:15:37,632] Trial 6 finished with value: -0.015898 and parameters: {'max_depth': 13, 'min_child_weight': 43, 'subsample': 0.1585464336867516, 'colsample_bynode': 0.9539969835279999, 'learning_rate': 0.4038423798071558}. Best is trial 1 with value: -0.365858.\n"
     ]
    },
    {
     "name": "stderr",
     "output_type": "stream",
     "text": [
      "[I 2025-05-15 18:15:37,777] Trial 7 finished with value: -0.015898 and parameters: {'max_depth': 17, 'min_child_weight': 77, 'subsample': 0.1879049026057455, 'colsample_bynode': 0.7158097238609412, 'learning_rate': 0.015415527060141935}. Best is trial 1 with value: -0.365858.\n"
     ]
    },
    {
     "name": "stderr",
     "output_type": "stream",
     "text": [
      "[I 2025-05-15 18:15:37,922] Trial 8 finished with value: -0.015898 and parameters: {'max_depth': 5, 'min_child_weight': 124, 'subsample': 0.13094966900369656, 'colsample_bynode': 0.9183883618709039, 'learning_rate': 0.004993895014755658}. Best is trial 1 with value: -0.365858.\n"
     ]
    },
    {
     "name": "stderr",
     "output_type": "stream",
     "text": [
      "[I 2025-05-15 18:15:38,060] Trial 9 finished with value: -0.015898 and parameters: {'max_depth': 14, 'min_child_weight': 78, 'subsample': 0.5680612190600297, 'colsample_bynode': 0.5920392514089517, 'learning_rate': 0.0031543990308330965}. Best is trial 1 with value: -0.365858.\n"
     ]
    },
    {
     "name": "stderr",
     "output_type": "stream",
     "text": [
      "[I 2025-05-15 18:15:38,408] Trial 10 finished with value: -0.406034 and parameters: {'max_depth': 9, 'min_child_weight': 2, 'subsample': 0.9725833997090791, 'colsample_bynode': 0.11616568805333755, 'learning_rate': 0.17780618353487967}. Best is trial 10 with value: -0.406034.\n"
     ]
    },
    {
     "name": "stderr",
     "output_type": "stream",
     "text": [
      "[I 2025-05-15 18:15:38,850] Trial 11 finished with value: -0.425573 and parameters: {'max_depth': 9, 'min_child_weight': 4, 'subsample': 0.9818290990185045, 'colsample_bynode': 0.17702656156719, 'learning_rate': 0.11568531411766632}. Best is trial 11 with value: -0.425573.\n"
     ]
    },
    {
     "name": "stderr",
     "output_type": "stream",
     "text": [
      "[I 2025-05-15 18:15:39,342] Trial 12 finished with value: -0.433681 and parameters: {'max_depth': 9, 'min_child_weight': 2, 'subsample': 0.9762317723681219, 'colsample_bynode': 0.1303670507685675, 'learning_rate': 0.14353293664472047}. Best is trial 12 with value: -0.433681.\n"
     ]
    },
    {
     "name": "stderr",
     "output_type": "stream",
     "text": [
      "[I 2025-05-15 18:15:39,503] Trial 13 finished with value: -0.015898 and parameters: {'max_depth': 10, 'min_child_weight': 173, 'subsample': 0.9983199992874873, 'colsample_bynode': 0.10704152171942566, 'learning_rate': 0.05919442728092993}. Best is trial 12 with value: -0.433681.\n"
     ]
    },
    {
     "name": "stderr",
     "output_type": "stream",
     "text": [
      "[I 2025-05-15 18:15:39,658] Trial 14 finished with value: -0.015898 and parameters: {'max_depth': 7, 'min_child_weight': 127, 'subsample': 0.7205729667945842, 'colsample_bynode': 0.2618040655423697, 'learning_rate': 0.049429871639666105}. Best is trial 12 with value: -0.433681.\n"
     ]
    },
    {
     "name": "stderr",
     "output_type": "stream",
     "text": [
      "[I 2025-05-15 18:15:39,999] Trial 15 finished with value: -0.43208 and parameters: {'max_depth': 20, 'min_child_weight': 1, 'subsample': 0.7300199336663715, 'colsample_bynode': 0.2687793682900305, 'learning_rate': 0.46839194821741}. Best is trial 12 with value: -0.433681.\n"
     ]
    },
    {
     "name": "stderr",
     "output_type": "stream",
     "text": [
      "[I 2025-05-15 18:15:40,164] Trial 16 finished with value: -0.015898 and parameters: {'max_depth': 20, 'min_child_weight': 116, 'subsample': 0.6730263351162008, 'colsample_bynode': 0.3435683215737632, 'learning_rate': 0.49216618465218137}. Best is trial 12 with value: -0.433681.\n"
     ]
    },
    {
     "name": "stderr",
     "output_type": "stream",
     "text": [
      "[I 2025-05-15 18:15:40,322] Trial 17 finished with value: -0.015898 and parameters: {'max_depth': 20, 'min_child_weight': 183, 'subsample': 0.37310167079970213, 'colsample_bynode': 0.22493155379732882, 'learning_rate': 0.224845788871819}. Best is trial 12 with value: -0.433681.\n"
     ]
    },
    {
     "name": "stderr",
     "output_type": "stream",
     "text": [
      "[I 2025-05-15 18:15:40,492] Trial 18 pruned. Trial was pruned at iteration 21.\n"
     ]
    },
    {
     "name": "stderr",
     "output_type": "stream",
     "text": [
      "[I 2025-05-15 18:15:40,648] Trial 19 finished with value: -0.015898 and parameters: {'max_depth': 17, 'min_child_weight': 99, 'subsample': 0.6763345562420628, 'colsample_bynode': 0.4759359243067308, 'learning_rate': 0.03892743572591741}. Best is trial 12 with value: -0.433681.\n"
     ]
    },
    {
     "name": "stderr",
     "output_type": "stream",
     "text": [
      "[I 2025-05-15 18:15:40,805] Trial 20 pruned. Trial was pruned at iteration 21.\n"
     ]
    },
    {
     "name": "stderr",
     "output_type": "stream",
     "text": [
      "[I 2025-05-15 18:15:41,186] Trial 21 finished with value: -0.509819 and parameters: {'max_depth': 11, 'min_child_weight': 1, 'subsample': 0.9493755964653445, 'colsample_bynode': 0.1689819979084456, 'learning_rate': 0.1072482932857308}. Best is trial 21 with value: -0.509819.\n"
     ]
    },
    {
     "name": "stderr",
     "output_type": "stream",
     "text": [
      "[I 2025-05-15 18:15:41,348] Trial 22 finished with value: -0.115706 and parameters: {'max_depth': 11, 'min_child_weight': 56, 'subsample': 0.9035969683416092, 'colsample_bynode': 0.3139295194124999, 'learning_rate': 0.03155195897956944}. Best is trial 21 with value: -0.509819.\n"
     ]
    },
    {
     "name": "stderr",
     "output_type": "stream",
     "text": [
      "[I 2025-05-15 18:15:41,516] Trial 23 pruned. Trial was pruned at iteration 21.\n"
     ]
    },
    {
     "name": "stderr",
     "output_type": "stream",
     "text": [
      "[I 2025-05-15 18:15:41,759] Trial 24 pruned. Trial was pruned at iteration 21.\n"
     ]
    },
    {
     "name": "stderr",
     "output_type": "stream",
     "text": [
      "[I 2025-05-15 18:15:41,918] Trial 25 finished with value: -0.015898 and parameters: {'max_depth': 11, 'min_child_weight': 61, 'subsample': 0.7715244788256409, 'colsample_bynode': 0.2663387558985642, 'learning_rate': 0.08137711855092332}. Best is trial 21 with value: -0.509819.\n"
     ]
    },
    {
     "name": "stderr",
     "output_type": "stream",
     "text": [
      "[I 2025-05-15 18:15:42,081] Trial 26 finished with value: -0.015898 and parameters: {'max_depth': 8, 'min_child_weight': 150, 'subsample': 0.9268842372584267, 'colsample_bynode': 0.8348817412094831, 'learning_rate': 0.11302262870839216}. Best is trial 21 with value: -0.509819.\n"
     ]
    },
    {
     "name": "stderr",
     "output_type": "stream",
     "text": [
      "[I 2025-05-15 18:15:42,245] Trial 27 pruned. Trial was pruned at iteration 21.\n"
     ]
    },
    {
     "name": "stderr",
     "output_type": "stream",
     "text": [
      "[I 2025-05-15 18:15:42,410] Trial 28 finished with value: -0.015898 and parameters: {'max_depth': 18, 'min_child_weight': 207, 'subsample': 0.8376269160154843, 'colsample_bynode': 0.10203349704566486, 'learning_rate': 0.49199510434526794}. Best is trial 21 with value: -0.509819.\n"
     ]
    },
    {
     "name": "stderr",
     "output_type": "stream",
     "text": [
      "[I 2025-05-15 18:15:42,572] Trial 29 finished with value: -0.015898 and parameters: {'max_depth': 10, 'min_child_weight': 217, 'subsample': 0.7455517045008017, 'colsample_bynode': 0.41232146842405126, 'learning_rate': 0.010709004830646147}. Best is trial 21 with value: -0.509819.\n"
     ]
    },
    {
     "name": "stderr",
     "output_type": "stream",
     "text": [
      "[I 2025-05-15 18:15:42,731] Trial 30 finished with value: -0.015898 and parameters: {'max_depth': 3, 'min_child_weight': 63, 'subsample': 0.48408877480742074, 'colsample_bynode': 0.21773787018991886, 'learning_rate': 0.027140510012803577}. Best is trial 21 with value: -0.509819.\n"
     ]
    },
    {
     "name": "stderr",
     "output_type": "stream",
     "text": [
      "[I 2025-05-15 18:15:42,999] Trial 31 pruned. Trial was pruned at iteration 21.\n"
     ]
    },
    {
     "name": "stderr",
     "output_type": "stream",
     "text": [
      "[I 2025-05-15 18:15:43,185] Trial 32 pruned. Trial was pruned at iteration 21.\n"
     ]
    },
    {
     "name": "stderr",
     "output_type": "stream",
     "text": [
      "[I 2025-05-15 18:15:43,378] Trial 33 pruned. Trial was pruned at iteration 21.\n"
     ]
    },
    {
     "name": "stderr",
     "output_type": "stream",
     "text": [
      "[I 2025-05-15 18:15:43,767] Trial 34 pruned. Trial was pruned at iteration 40.\n"
     ]
    },
    {
     "name": "stderr",
     "output_type": "stream",
     "text": [
      "[I 2025-05-15 18:15:43,933] Trial 35 pruned. Trial was pruned at iteration 21.\n"
     ]
    },
    {
     "name": "stderr",
     "output_type": "stream",
     "text": [
      "[I 2025-05-15 18:15:44,131] Trial 36 pruned. Trial was pruned at iteration 21.\n"
     ]
    },
    {
     "name": "stderr",
     "output_type": "stream",
     "text": [
      "[I 2025-05-15 18:15:44,293] Trial 37 pruned. Trial was pruned at iteration 21.\n"
     ]
    },
    {
     "name": "stderr",
     "output_type": "stream",
     "text": [
      "[I 2025-05-15 18:15:44,464] Trial 38 pruned. Trial was pruned at iteration 21.\n"
     ]
    },
    {
     "name": "stderr",
     "output_type": "stream",
     "text": [
      "[I 2025-05-15 18:15:44,628] Trial 39 finished with value: -0.015898 and parameters: {'max_depth': 13, 'min_child_weight': 71, 'subsample': 0.8723270999472242, 'colsample_bynode': 0.137506621868733, 'learning_rate': 0.04228403648216633}. Best is trial 21 with value: -0.509819.\n"
     ]
    },
    {
     "name": "stderr",
     "output_type": "stream",
     "text": [
      "[I 2025-05-15 18:15:44,787] Trial 40 finished with value: -0.015898 and parameters: {'max_depth': 9, 'min_child_weight': 93, 'subsample': 0.6135397358527036, 'colsample_bynode': 0.452172939886394, 'learning_rate': 0.01762387035468314}. Best is trial 21 with value: -0.509819.\n"
     ]
    },
    {
     "name": "stderr",
     "output_type": "stream",
     "text": [
      "[I 2025-05-15 18:15:45,220] Trial 41 finished with value: -0.453762 and parameters: {'max_depth': 9, 'min_child_weight': 2, 'subsample': 0.9677614957015229, 'colsample_bynode': 0.14359555941225605, 'learning_rate': 0.17557543240654994}. Best is trial 21 with value: -0.509819.\n"
     ]
    },
    {
     "name": "stderr",
     "output_type": "stream",
     "text": [
      "[I 2025-05-15 18:15:45,421] Trial 42 pruned. Trial was pruned at iteration 21.\n"
     ]
    },
    {
     "name": "stderr",
     "output_type": "stream",
     "text": [
      "[I 2025-05-15 18:15:45,579] Trial 43 pruned. Trial was pruned at iteration 21.\n"
     ]
    },
    {
     "name": "stderr",
     "output_type": "stream",
     "text": [
      "[I 2025-05-15 18:15:45,740] Trial 44 pruned. Trial was pruned at iteration 21.\n"
     ]
    },
    {
     "name": "stderr",
     "output_type": "stream",
     "text": [
      "[I 2025-05-15 18:15:46,389] Trial 45 finished with value: -0.448697 and parameters: {'max_depth': 9, 'min_child_weight': 1, 'subsample': 0.8872618316695763, 'colsample_bynode': 0.10931359507218663, 'learning_rate': 0.09989515531495784}. Best is trial 21 with value: -0.509819.\n"
     ]
    },
    {
     "name": "stderr",
     "output_type": "stream",
     "text": [
      "[I 2025-05-15 18:15:46,581] Trial 46 pruned. Trial was pruned at iteration 21.\n"
     ]
    },
    {
     "name": "stderr",
     "output_type": "stream",
     "text": [
      "[I 2025-05-15 18:15:46,743] Trial 47 pruned. Trial was pruned at iteration 21.\n"
     ]
    },
    {
     "name": "stderr",
     "output_type": "stream",
     "text": [
      "[I 2025-05-15 18:15:46,903] Trial 48 finished with value: -0.015898 and parameters: {'max_depth': 9, 'min_child_weight': 37, 'subsample': 0.28659281335602466, 'colsample_bynode': 0.14265575566866126, 'learning_rate': 0.09513637815526275}. Best is trial 21 with value: -0.509819.\n"
     ]
    },
    {
     "name": "stderr",
     "output_type": "stream",
     "text": [
      "[I 2025-05-15 18:15:47,294] Trial 49 finished with value: -0.433943 and parameters: {'max_depth': 14, 'min_child_weight': 1, 'subsample': 0.7627412662008354, 'colsample_bynode': 0.2942391406926867, 'learning_rate': 0.24733013173927104}. Best is trial 21 with value: -0.509819.\n"
     ]
    }
   ],
   "source": [
    "sampler = optuna.samplers.TPESampler(seed=42)\n",
    "study = optuna.create_study(direction='minimize', sampler=sampler)\n",
    "study.optimize(objective, n_trials=N_TRIALS, gc_after_trial=True)"
   ]
  },
  {
   "cell_type": "code",
   "execution_count": 20,
   "id": "53afe737",
   "metadata": {
    "execution": {
     "iopub.execute_input": "2025-05-15T16:15:47.403183Z",
     "iopub.status.busy": "2025-05-15T16:15:47.402986Z",
     "iopub.status.idle": "2025-05-15T16:15:47.424246Z",
     "shell.execute_reply": "2025-05-15T16:15:47.423937Z"
    },
    "papermill": {
     "duration": 0.030337,
     "end_time": "2025-05-15T16:15:47.425068",
     "exception": false,
     "start_time": "2025-05-15T16:15:47.394731",
     "status": "completed"
    },
    "tags": []
   },
   "outputs": [
    {
     "data": {
      "text/plain": [
       "['/scratch_isilon/groups/singlecell/shared/projects/Inflammation-PBMCs-Atlas/03_downstream_analysis/08_gene_importance/xgboost_external_validation/xgboost_TopN_genes/results_20/study/Plasma_9_4_xgboost.pkl']"
      ]
     },
     "execution_count": 20,
     "metadata": {},
     "output_type": "execute_result"
    }
   ],
   "source": [
    "out_dir = here(f'03_downstream_analysis/08_gene_importance/xgboost_external_validation/xgboost_TopN_genes/results_{N_GENES}/study')\n",
    "\n",
    "if not os.path.exists(out_dir):\n",
    "    os.makedirs(out_dir)\n",
    "    \n",
    "joblib.dump(study,os.path.join(out_dir, f'{CELL_TYPE}_{SEED}_{TEST_SPLIT_IDX}_xgboost.pkl'))"
   ]
  },
  {
   "cell_type": "code",
   "execution_count": 21,
   "id": "4c2e8389",
   "metadata": {
    "execution": {
     "iopub.execute_input": "2025-05-15T16:15:47.440754Z",
     "iopub.status.busy": "2025-05-15T16:15:47.440581Z",
     "iopub.status.idle": "2025-05-15T16:15:47.545368Z",
     "shell.execute_reply": "2025-05-15T16:15:47.545018Z"
    },
    "papermill": {
     "duration": 0.11371,
     "end_time": "2025-05-15T16:15:47.546333",
     "exception": false,
     "start_time": "2025-05-15T16:15:47.432623",
     "status": "completed"
    },
    "tags": []
   },
   "outputs": [
    {
     "data": {
      "text/html": [
       "<style>#sk-container-id-1 {\n",
       "  /* Definition of color scheme common for light and dark mode */\n",
       "  --sklearn-color-text: black;\n",
       "  --sklearn-color-line: gray;\n",
       "  /* Definition of color scheme for unfitted estimators */\n",
       "  --sklearn-color-unfitted-level-0: #fff5e6;\n",
       "  --sklearn-color-unfitted-level-1: #f6e4d2;\n",
       "  --sklearn-color-unfitted-level-2: #ffe0b3;\n",
       "  --sklearn-color-unfitted-level-3: chocolate;\n",
       "  /* Definition of color scheme for fitted estimators */\n",
       "  --sklearn-color-fitted-level-0: #f0f8ff;\n",
       "  --sklearn-color-fitted-level-1: #d4ebff;\n",
       "  --sklearn-color-fitted-level-2: #b3dbfd;\n",
       "  --sklearn-color-fitted-level-3: cornflowerblue;\n",
       "\n",
       "  /* Specific color for light theme */\n",
       "  --sklearn-color-text-on-default-background: var(--sg-text-color, var(--theme-code-foreground, var(--jp-content-font-color1, black)));\n",
       "  --sklearn-color-background: var(--sg-background-color, var(--theme-background, var(--jp-layout-color0, white)));\n",
       "  --sklearn-color-border-box: var(--sg-text-color, var(--theme-code-foreground, var(--jp-content-font-color1, black)));\n",
       "  --sklearn-color-icon: #696969;\n",
       "\n",
       "  @media (prefers-color-scheme: dark) {\n",
       "    /* Redefinition of color scheme for dark theme */\n",
       "    --sklearn-color-text-on-default-background: var(--sg-text-color, var(--theme-code-foreground, var(--jp-content-font-color1, white)));\n",
       "    --sklearn-color-background: var(--sg-background-color, var(--theme-background, var(--jp-layout-color0, #111)));\n",
       "    --sklearn-color-border-box: var(--sg-text-color, var(--theme-code-foreground, var(--jp-content-font-color1, white)));\n",
       "    --sklearn-color-icon: #878787;\n",
       "  }\n",
       "}\n",
       "\n",
       "#sk-container-id-1 {\n",
       "  color: var(--sklearn-color-text);\n",
       "}\n",
       "\n",
       "#sk-container-id-1 pre {\n",
       "  padding: 0;\n",
       "}\n",
       "\n",
       "#sk-container-id-1 input.sk-hidden--visually {\n",
       "  border: 0;\n",
       "  clip: rect(1px 1px 1px 1px);\n",
       "  clip: rect(1px, 1px, 1px, 1px);\n",
       "  height: 1px;\n",
       "  margin: -1px;\n",
       "  overflow: hidden;\n",
       "  padding: 0;\n",
       "  position: absolute;\n",
       "  width: 1px;\n",
       "}\n",
       "\n",
       "#sk-container-id-1 div.sk-dashed-wrapped {\n",
       "  border: 1px dashed var(--sklearn-color-line);\n",
       "  margin: 0 0.4em 0.5em 0.4em;\n",
       "  box-sizing: border-box;\n",
       "  padding-bottom: 0.4em;\n",
       "  background-color: var(--sklearn-color-background);\n",
       "}\n",
       "\n",
       "#sk-container-id-1 div.sk-container {\n",
       "  /* jupyter's `normalize.less` sets `[hidden] { display: none; }`\n",
       "     but bootstrap.min.css set `[hidden] { display: none !important; }`\n",
       "     so we also need the `!important` here to be able to override the\n",
       "     default hidden behavior on the sphinx rendered scikit-learn.org.\n",
       "     See: https://github.com/scikit-learn/scikit-learn/issues/21755 */\n",
       "  display: inline-block !important;\n",
       "  position: relative;\n",
       "}\n",
       "\n",
       "#sk-container-id-1 div.sk-text-repr-fallback {\n",
       "  display: none;\n",
       "}\n",
       "\n",
       "div.sk-parallel-item,\n",
       "div.sk-serial,\n",
       "div.sk-item {\n",
       "  /* draw centered vertical line to link estimators */\n",
       "  background-image: linear-gradient(var(--sklearn-color-text-on-default-background), var(--sklearn-color-text-on-default-background));\n",
       "  background-size: 2px 100%;\n",
       "  background-repeat: no-repeat;\n",
       "  background-position: center center;\n",
       "}\n",
       "\n",
       "/* Parallel-specific style estimator block */\n",
       "\n",
       "#sk-container-id-1 div.sk-parallel-item::after {\n",
       "  content: \"\";\n",
       "  width: 100%;\n",
       "  border-bottom: 2px solid var(--sklearn-color-text-on-default-background);\n",
       "  flex-grow: 1;\n",
       "}\n",
       "\n",
       "#sk-container-id-1 div.sk-parallel {\n",
       "  display: flex;\n",
       "  align-items: stretch;\n",
       "  justify-content: center;\n",
       "  background-color: var(--sklearn-color-background);\n",
       "  position: relative;\n",
       "}\n",
       "\n",
       "#sk-container-id-1 div.sk-parallel-item {\n",
       "  display: flex;\n",
       "  flex-direction: column;\n",
       "}\n",
       "\n",
       "#sk-container-id-1 div.sk-parallel-item:first-child::after {\n",
       "  align-self: flex-end;\n",
       "  width: 50%;\n",
       "}\n",
       "\n",
       "#sk-container-id-1 div.sk-parallel-item:last-child::after {\n",
       "  align-self: flex-start;\n",
       "  width: 50%;\n",
       "}\n",
       "\n",
       "#sk-container-id-1 div.sk-parallel-item:only-child::after {\n",
       "  width: 0;\n",
       "}\n",
       "\n",
       "/* Serial-specific style estimator block */\n",
       "\n",
       "#sk-container-id-1 div.sk-serial {\n",
       "  display: flex;\n",
       "  flex-direction: column;\n",
       "  align-items: center;\n",
       "  background-color: var(--sklearn-color-background);\n",
       "  padding-right: 1em;\n",
       "  padding-left: 1em;\n",
       "}\n",
       "\n",
       "\n",
       "/* Toggleable style: style used for estimator/Pipeline/ColumnTransformer box that is\n",
       "clickable and can be expanded/collapsed.\n",
       "- Pipeline and ColumnTransformer use this feature and define the default style\n",
       "- Estimators will overwrite some part of the style using the `sk-estimator` class\n",
       "*/\n",
       "\n",
       "/* Pipeline and ColumnTransformer style (default) */\n",
       "\n",
       "#sk-container-id-1 div.sk-toggleable {\n",
       "  /* Default theme specific background. It is overwritten whether we have a\n",
       "  specific estimator or a Pipeline/ColumnTransformer */\n",
       "  background-color: var(--sklearn-color-background);\n",
       "}\n",
       "\n",
       "/* Toggleable label */\n",
       "#sk-container-id-1 label.sk-toggleable__label {\n",
       "  cursor: pointer;\n",
       "  display: block;\n",
       "  width: 100%;\n",
       "  margin-bottom: 0;\n",
       "  padding: 0.5em;\n",
       "  box-sizing: border-box;\n",
       "  text-align: center;\n",
       "}\n",
       "\n",
       "#sk-container-id-1 label.sk-toggleable__label-arrow:before {\n",
       "  /* Arrow on the left of the label */\n",
       "  content: \"▸\";\n",
       "  float: left;\n",
       "  margin-right: 0.25em;\n",
       "  color: var(--sklearn-color-icon);\n",
       "}\n",
       "\n",
       "#sk-container-id-1 label.sk-toggleable__label-arrow:hover:before {\n",
       "  color: var(--sklearn-color-text);\n",
       "}\n",
       "\n",
       "/* Toggleable content - dropdown */\n",
       "\n",
       "#sk-container-id-1 div.sk-toggleable__content {\n",
       "  max-height: 0;\n",
       "  max-width: 0;\n",
       "  overflow: hidden;\n",
       "  text-align: left;\n",
       "  /* unfitted */\n",
       "  background-color: var(--sklearn-color-unfitted-level-0);\n",
       "}\n",
       "\n",
       "#sk-container-id-1 div.sk-toggleable__content.fitted {\n",
       "  /* fitted */\n",
       "  background-color: var(--sklearn-color-fitted-level-0);\n",
       "}\n",
       "\n",
       "#sk-container-id-1 div.sk-toggleable__content pre {\n",
       "  margin: 0.2em;\n",
       "  border-radius: 0.25em;\n",
       "  color: var(--sklearn-color-text);\n",
       "  /* unfitted */\n",
       "  background-color: var(--sklearn-color-unfitted-level-0);\n",
       "}\n",
       "\n",
       "#sk-container-id-1 div.sk-toggleable__content.fitted pre {\n",
       "  /* unfitted */\n",
       "  background-color: var(--sklearn-color-fitted-level-0);\n",
       "}\n",
       "\n",
       "#sk-container-id-1 input.sk-toggleable__control:checked~div.sk-toggleable__content {\n",
       "  /* Expand drop-down */\n",
       "  max-height: 200px;\n",
       "  max-width: 100%;\n",
       "  overflow: auto;\n",
       "}\n",
       "\n",
       "#sk-container-id-1 input.sk-toggleable__control:checked~label.sk-toggleable__label-arrow:before {\n",
       "  content: \"▾\";\n",
       "}\n",
       "\n",
       "/* Pipeline/ColumnTransformer-specific style */\n",
       "\n",
       "#sk-container-id-1 div.sk-label input.sk-toggleable__control:checked~label.sk-toggleable__label {\n",
       "  color: var(--sklearn-color-text);\n",
       "  background-color: var(--sklearn-color-unfitted-level-2);\n",
       "}\n",
       "\n",
       "#sk-container-id-1 div.sk-label.fitted input.sk-toggleable__control:checked~label.sk-toggleable__label {\n",
       "  background-color: var(--sklearn-color-fitted-level-2);\n",
       "}\n",
       "\n",
       "/* Estimator-specific style */\n",
       "\n",
       "/* Colorize estimator box */\n",
       "#sk-container-id-1 div.sk-estimator input.sk-toggleable__control:checked~label.sk-toggleable__label {\n",
       "  /* unfitted */\n",
       "  background-color: var(--sklearn-color-unfitted-level-2);\n",
       "}\n",
       "\n",
       "#sk-container-id-1 div.sk-estimator.fitted input.sk-toggleable__control:checked~label.sk-toggleable__label {\n",
       "  /* fitted */\n",
       "  background-color: var(--sklearn-color-fitted-level-2);\n",
       "}\n",
       "\n",
       "#sk-container-id-1 div.sk-label label.sk-toggleable__label,\n",
       "#sk-container-id-1 div.sk-label label {\n",
       "  /* The background is the default theme color */\n",
       "  color: var(--sklearn-color-text-on-default-background);\n",
       "}\n",
       "\n",
       "/* On hover, darken the color of the background */\n",
       "#sk-container-id-1 div.sk-label:hover label.sk-toggleable__label {\n",
       "  color: var(--sklearn-color-text);\n",
       "  background-color: var(--sklearn-color-unfitted-level-2);\n",
       "}\n",
       "\n",
       "/* Label box, darken color on hover, fitted */\n",
       "#sk-container-id-1 div.sk-label.fitted:hover label.sk-toggleable__label.fitted {\n",
       "  color: var(--sklearn-color-text);\n",
       "  background-color: var(--sklearn-color-fitted-level-2);\n",
       "}\n",
       "\n",
       "/* Estimator label */\n",
       "\n",
       "#sk-container-id-1 div.sk-label label {\n",
       "  font-family: monospace;\n",
       "  font-weight: bold;\n",
       "  display: inline-block;\n",
       "  line-height: 1.2em;\n",
       "}\n",
       "\n",
       "#sk-container-id-1 div.sk-label-container {\n",
       "  text-align: center;\n",
       "}\n",
       "\n",
       "/* Estimator-specific */\n",
       "#sk-container-id-1 div.sk-estimator {\n",
       "  font-family: monospace;\n",
       "  border: 1px dotted var(--sklearn-color-border-box);\n",
       "  border-radius: 0.25em;\n",
       "  box-sizing: border-box;\n",
       "  margin-bottom: 0.5em;\n",
       "  /* unfitted */\n",
       "  background-color: var(--sklearn-color-unfitted-level-0);\n",
       "}\n",
       "\n",
       "#sk-container-id-1 div.sk-estimator.fitted {\n",
       "  /* fitted */\n",
       "  background-color: var(--sklearn-color-fitted-level-0);\n",
       "}\n",
       "\n",
       "/* on hover */\n",
       "#sk-container-id-1 div.sk-estimator:hover {\n",
       "  /* unfitted */\n",
       "  background-color: var(--sklearn-color-unfitted-level-2);\n",
       "}\n",
       "\n",
       "#sk-container-id-1 div.sk-estimator.fitted:hover {\n",
       "  /* fitted */\n",
       "  background-color: var(--sklearn-color-fitted-level-2);\n",
       "}\n",
       "\n",
       "/* Specification for estimator info (e.g. \"i\" and \"?\") */\n",
       "\n",
       "/* Common style for \"i\" and \"?\" */\n",
       "\n",
       ".sk-estimator-doc-link,\n",
       "a:link.sk-estimator-doc-link,\n",
       "a:visited.sk-estimator-doc-link {\n",
       "  float: right;\n",
       "  font-size: smaller;\n",
       "  line-height: 1em;\n",
       "  font-family: monospace;\n",
       "  background-color: var(--sklearn-color-background);\n",
       "  border-radius: 1em;\n",
       "  height: 1em;\n",
       "  width: 1em;\n",
       "  text-decoration: none !important;\n",
       "  margin-left: 1ex;\n",
       "  /* unfitted */\n",
       "  border: var(--sklearn-color-unfitted-level-1) 1pt solid;\n",
       "  color: var(--sklearn-color-unfitted-level-1);\n",
       "}\n",
       "\n",
       ".sk-estimator-doc-link.fitted,\n",
       "a:link.sk-estimator-doc-link.fitted,\n",
       "a:visited.sk-estimator-doc-link.fitted {\n",
       "  /* fitted */\n",
       "  border: var(--sklearn-color-fitted-level-1) 1pt solid;\n",
       "  color: var(--sklearn-color-fitted-level-1);\n",
       "}\n",
       "\n",
       "/* On hover */\n",
       "div.sk-estimator:hover .sk-estimator-doc-link:hover,\n",
       ".sk-estimator-doc-link:hover,\n",
       "div.sk-label-container:hover .sk-estimator-doc-link:hover,\n",
       ".sk-estimator-doc-link:hover {\n",
       "  /* unfitted */\n",
       "  background-color: var(--sklearn-color-unfitted-level-3);\n",
       "  color: var(--sklearn-color-background);\n",
       "  text-decoration: none;\n",
       "}\n",
       "\n",
       "div.sk-estimator.fitted:hover .sk-estimator-doc-link.fitted:hover,\n",
       ".sk-estimator-doc-link.fitted:hover,\n",
       "div.sk-label-container:hover .sk-estimator-doc-link.fitted:hover,\n",
       ".sk-estimator-doc-link.fitted:hover {\n",
       "  /* fitted */\n",
       "  background-color: var(--sklearn-color-fitted-level-3);\n",
       "  color: var(--sklearn-color-background);\n",
       "  text-decoration: none;\n",
       "}\n",
       "\n",
       "/* Span, style for the box shown on hovering the info icon */\n",
       ".sk-estimator-doc-link span {\n",
       "  display: none;\n",
       "  z-index: 9999;\n",
       "  position: relative;\n",
       "  font-weight: normal;\n",
       "  right: .2ex;\n",
       "  padding: .5ex;\n",
       "  margin: .5ex;\n",
       "  width: min-content;\n",
       "  min-width: 20ex;\n",
       "  max-width: 50ex;\n",
       "  color: var(--sklearn-color-text);\n",
       "  box-shadow: 2pt 2pt 4pt #999;\n",
       "  /* unfitted */\n",
       "  background: var(--sklearn-color-unfitted-level-0);\n",
       "  border: .5pt solid var(--sklearn-color-unfitted-level-3);\n",
       "}\n",
       "\n",
       ".sk-estimator-doc-link.fitted span {\n",
       "  /* fitted */\n",
       "  background: var(--sklearn-color-fitted-level-0);\n",
       "  border: var(--sklearn-color-fitted-level-3);\n",
       "}\n",
       "\n",
       ".sk-estimator-doc-link:hover span {\n",
       "  display: block;\n",
       "}\n",
       "\n",
       "/* \"?\"-specific style due to the `<a>` HTML tag */\n",
       "\n",
       "#sk-container-id-1 a.estimator_doc_link {\n",
       "  float: right;\n",
       "  font-size: 1rem;\n",
       "  line-height: 1em;\n",
       "  font-family: monospace;\n",
       "  background-color: var(--sklearn-color-background);\n",
       "  border-radius: 1rem;\n",
       "  height: 1rem;\n",
       "  width: 1rem;\n",
       "  text-decoration: none;\n",
       "  /* unfitted */\n",
       "  color: var(--sklearn-color-unfitted-level-1);\n",
       "  border: var(--sklearn-color-unfitted-level-1) 1pt solid;\n",
       "}\n",
       "\n",
       "#sk-container-id-1 a.estimator_doc_link.fitted {\n",
       "  /* fitted */\n",
       "  border: var(--sklearn-color-fitted-level-1) 1pt solid;\n",
       "  color: var(--sklearn-color-fitted-level-1);\n",
       "}\n",
       "\n",
       "/* On hover */\n",
       "#sk-container-id-1 a.estimator_doc_link:hover {\n",
       "  /* unfitted */\n",
       "  background-color: var(--sklearn-color-unfitted-level-3);\n",
       "  color: var(--sklearn-color-background);\n",
       "  text-decoration: none;\n",
       "}\n",
       "\n",
       "#sk-container-id-1 a.estimator_doc_link.fitted:hover {\n",
       "  /* fitted */\n",
       "  background-color: var(--sklearn-color-fitted-level-3);\n",
       "}\n",
       "</style><div id=\"sk-container-id-1\" class=\"sk-top-container\"><div class=\"sk-text-repr-fallback\"><pre>XGBClassifier(base_score=None, booster=None, callbacks=None,\n",
       "              colsample_bylevel=None, colsample_bynode=0.1689819979084456,\n",
       "              colsample_bytree=None, device=None, early_stopping_rounds=None,\n",
       "              enable_categorical=False,\n",
       "              eval_metric=&lt;function custom_f1_score at 0x7f790159bf60&gt;,\n",
       "              feature_types=None, gamma=None, grow_policy=None,\n",
       "              importance_type=None, interaction_constraints=None,\n",
       "              learning_rate=0.1072482932857308, max_bin=None,\n",
       "              max_cat_threshold=None, max_cat_to_onehot=None,\n",
       "              max_delta_step=None, max_depth=11, max_leaves=None,\n",
       "              min_child_weight=1, missing=nan, monotone_constraints=None,\n",
       "              multi_strategy=None, n_estimators=7, n_jobs=None,\n",
       "              num_parallel_tree=None, objective=&#x27;multi:softprob&#x27;, ...)</pre><b>In a Jupyter environment, please rerun this cell to show the HTML representation or trust the notebook. <br />On GitHub, the HTML representation is unable to render, please try loading this page with nbviewer.org.</b></div><div class=\"sk-container\" hidden><div class=\"sk-item\"><div class=\"sk-estimator fitted sk-toggleable\"><input class=\"sk-toggleable__control sk-hidden--visually\" id=\"sk-estimator-id-1\" type=\"checkbox\" checked><label for=\"sk-estimator-id-1\" class=\"sk-toggleable__label fitted sk-toggleable__label-arrow fitted\">&nbsp;XGBClassifier<span class=\"sk-estimator-doc-link fitted\">i<span>Fitted</span></span></label><div class=\"sk-toggleable__content fitted\"><pre>XGBClassifier(base_score=None, booster=None, callbacks=None,\n",
       "              colsample_bylevel=None, colsample_bynode=0.1689819979084456,\n",
       "              colsample_bytree=None, device=None, early_stopping_rounds=None,\n",
       "              enable_categorical=False,\n",
       "              eval_metric=&lt;function custom_f1_score at 0x7f790159bf60&gt;,\n",
       "              feature_types=None, gamma=None, grow_policy=None,\n",
       "              importance_type=None, interaction_constraints=None,\n",
       "              learning_rate=0.1072482932857308, max_bin=None,\n",
       "              max_cat_threshold=None, max_cat_to_onehot=None,\n",
       "              max_delta_step=None, max_depth=11, max_leaves=None,\n",
       "              min_child_weight=1, missing=nan, monotone_constraints=None,\n",
       "              multi_strategy=None, n_estimators=7, n_jobs=None,\n",
       "              num_parallel_tree=None, objective=&#x27;multi:softprob&#x27;, ...)</pre></div> </div></div></div></div>"
      ],
      "text/plain": [
       "XGBClassifier(base_score=None, booster=None, callbacks=None,\n",
       "              colsample_bylevel=None, colsample_bynode=0.1689819979084456,\n",
       "              colsample_bytree=None, device=None, early_stopping_rounds=None,\n",
       "              enable_categorical=False,\n",
       "              eval_metric=<function custom_f1_score at 0x7f790159bf60>,\n",
       "              feature_types=None, gamma=None, grow_policy=None,\n",
       "              importance_type=None, interaction_constraints=None,\n",
       "              learning_rate=0.1072482932857308, max_bin=None,\n",
       "              max_cat_threshold=None, max_cat_to_onehot=None,\n",
       "              max_delta_step=None, max_depth=11, max_leaves=None,\n",
       "              min_child_weight=1, missing=nan, monotone_constraints=None,\n",
       "              multi_strategy=None, n_estimators=7, n_jobs=None,\n",
       "              num_parallel_tree=None, objective='multi:softprob', ...)"
      ]
     },
     "execution_count": 21,
     "metadata": {},
     "output_type": "execute_result"
    }
   ],
   "source": [
    "n_estimators = int(study.best_trial.user_attrs['best_iteration']*1.2)\n",
    "xgb = xgboost.XGBClassifier(\n",
    "        eval_metric=eval_metric,\n",
    "        n_estimators=n_estimators,\n",
    "        **study.best_trial.params\n",
    "    )\n",
    "xgb.fit(\n",
    "    ssp.vstack((X_train, X_val)), \n",
    "    np.concatenate((y_train_enc, y_val_enc)),\n",
    "    verbose=1,\n",
    ")"
   ]
  },
  {
   "cell_type": "code",
   "execution_count": 22,
   "id": "99f30759",
   "metadata": {
    "execution": {
     "iopub.execute_input": "2025-05-15T16:15:47.564068Z",
     "iopub.status.busy": "2025-05-15T16:15:47.563853Z",
     "iopub.status.idle": "2025-05-15T16:15:47.583756Z",
     "shell.execute_reply": "2025-05-15T16:15:47.583454Z"
    },
    "papermill": {
     "duration": 0.029402,
     "end_time": "2025-05-15T16:15:47.584569",
     "exception": false,
     "start_time": "2025-05-15T16:15:47.555167",
     "status": "completed"
    },
    "tags": []
   },
   "outputs": [
    {
     "data": {
      "text/plain": [
       "['/scratch_isilon/groups/singlecell/shared/projects/Inflammation-PBMCs-Atlas/03_downstream_analysis/08_gene_importance/xgboost_external_validation/xgboost_TopN_genes/results_20/best_model/Plasma_9_4_xgb.json']"
      ]
     },
     "execution_count": 22,
     "metadata": {},
     "output_type": "execute_result"
    }
   ],
   "source": [
    "out_dir = here(f'03_downstream_analysis/08_gene_importance/xgboost_external_validation/xgboost_TopN_genes/results_{N_GENES}/best_model')\n",
    "\n",
    "if not os.path.exists(out_dir):\n",
    "    os.makedirs(out_dir)\n",
    "    \n",
    "joblib.dump(xgb, os.path.join(out_dir, f'{CELL_TYPE}_{SEED}_{TEST_SPLIT_IDX}_xgb.json'))"
   ]
  },
  {
   "cell_type": "code",
   "execution_count": 23,
   "id": "fd1929dd",
   "metadata": {
    "execution": {
     "iopub.execute_input": "2025-05-15T16:15:47.601830Z",
     "iopub.status.busy": "2025-05-15T16:15:47.601583Z",
     "iopub.status.idle": "2025-05-15T16:15:47.606294Z",
     "shell.execute_reply": "2025-05-15T16:15:47.605993Z"
    },
    "papermill": {
     "duration": 0.018243,
     "end_time": "2025-05-15T16:15:47.611119",
     "exception": false,
     "start_time": "2025-05-15T16:15:47.592876",
     "status": "completed"
    },
    "tags": []
   },
   "outputs": [],
   "source": [
    "df_pred_test = pd.DataFrame(dict(\n",
    "    cell_id=train_adata.obs.iloc[test_idxs].index.values,\n",
    "    y_true=y_test, \n",
    "    y_true_code=y_test_enc, \n",
    "    y_pred=xgb.predict(X_test))).set_index('cell_id')"
   ]
  },
  {
   "cell_type": "code",
   "execution_count": 24,
   "id": "48c93129",
   "metadata": {
    "execution": {
     "iopub.execute_input": "2025-05-15T16:15:47.629544Z",
     "iopub.status.busy": "2025-05-15T16:15:47.629089Z",
     "iopub.status.idle": "2025-05-15T16:15:47.640730Z",
     "shell.execute_reply": "2025-05-15T16:15:47.640339Z"
    },
    "papermill": {
     "duration": 0.021976,
     "end_time": "2025-05-15T16:15:47.641581",
     "exception": false,
     "start_time": "2025-05-15T16:15:47.619605",
     "status": "completed"
    },
    "tags": []
   },
   "outputs": [],
   "source": [
    "out_dir = here(f'03_downstream_analysis/08_gene_importance/xgboost_external_validation/xgboost_TopN_genes/results_{N_GENES}/predictions')\n",
    "\n",
    "if not os.path.exists(out_dir):\n",
    "    os.makedirs(out_dir)\n",
    "    \n",
    "df_pred_test.to_csv(os.path.join(out_dir, f'{CELL_TYPE}_{SEED}_{TEST_SPLIT_IDX}_pred_test.zip'))"
   ]
  },
  {
   "cell_type": "code",
   "execution_count": 25,
   "id": "c83e1dd5",
   "metadata": {
    "execution": {
     "iopub.execute_input": "2025-05-15T16:15:47.670941Z",
     "iopub.status.busy": "2025-05-15T16:15:47.670467Z",
     "iopub.status.idle": "2025-05-15T16:15:47.675969Z",
     "shell.execute_reply": "2025-05-15T16:15:47.675637Z"
    },
    "papermill": {
     "duration": 0.016188,
     "end_time": "2025-05-15T16:15:47.676761",
     "exception": false,
     "start_time": "2025-05-15T16:15:47.660573",
     "status": "completed"
    },
    "tags": []
   },
   "outputs": [],
   "source": [
    "metrics_dict = dict(\n",
    "    BAS=balanced_accuracy_score(y_true=df_pred_test.y_true_code, y_pred=df_pred_test.y_pred), WF1=f1_score(y_true=df_pred_test.y_true_code, y_pred=df_pred_test.y_pred,average='weighted'))"
   ]
  },
  {
   "cell_type": "code",
   "execution_count": 26,
   "id": "3fe40d2c",
   "metadata": {
    "execution": {
     "iopub.execute_input": "2025-05-15T16:15:47.694198Z",
     "iopub.status.busy": "2025-05-15T16:15:47.693735Z",
     "iopub.status.idle": "2025-05-15T16:15:47.696532Z",
     "shell.execute_reply": "2025-05-15T16:15:47.696249Z"
    },
    "papermill": {
     "duration": 0.012426,
     "end_time": "2025-05-15T16:15:47.697358",
     "exception": false,
     "start_time": "2025-05-15T16:15:47.684932",
     "status": "completed"
    },
    "tags": []
   },
   "outputs": [
    {
     "data": {
      "text/plain": [
       "{'BAS': 0.42414529914529914, 'WF1': 0.5825347066726377}"
      ]
     },
     "execution_count": 26,
     "metadata": {},
     "output_type": "execute_result"
    }
   ],
   "source": [
    "metrics_dict"
   ]
  },
  {
   "cell_type": "code",
   "execution_count": 27,
   "id": "4fd7c755",
   "metadata": {
    "execution": {
     "iopub.execute_input": "2025-05-15T16:15:47.715396Z",
     "iopub.status.busy": "2025-05-15T16:15:47.715000Z",
     "iopub.status.idle": "2025-05-15T16:15:47.723285Z",
     "shell.execute_reply": "2025-05-15T16:15:47.722994Z"
    },
    "papermill": {
     "duration": 0.018171,
     "end_time": "2025-05-15T16:15:47.724136",
     "exception": false,
     "start_time": "2025-05-15T16:15:47.705965",
     "status": "completed"
    },
    "tags": []
   },
   "outputs": [
    {
     "data": {
      "text/html": [
       "<div>\n",
       "<style scoped>\n",
       "    .dataframe tbody tr th:only-of-type {\n",
       "        vertical-align: middle;\n",
       "    }\n",
       "\n",
       "    .dataframe tbody tr th {\n",
       "        vertical-align: top;\n",
       "    }\n",
       "\n",
       "    .dataframe thead th {\n",
       "        text-align: right;\n",
       "    }\n",
       "</style>\n",
       "<table border=\"1\" class=\"dataframe\">\n",
       "  <thead>\n",
       "    <tr style=\"text-align: right;\">\n",
       "      <th></th>\n",
       "      <th>BAS</th>\n",
       "      <th>WF1</th>\n",
       "      <th>split_idx</th>\n",
       "      <th>gene_set_seed</th>\n",
       "      <th>cell_type</th>\n",
       "    </tr>\n",
       "  </thead>\n",
       "  <tbody>\n",
       "    <tr>\n",
       "      <th>0</th>\n",
       "      <td>0.424145</td>\n",
       "      <td>0.582535</td>\n",
       "      <td>4</td>\n",
       "      <td>9</td>\n",
       "      <td>Plasma</td>\n",
       "    </tr>\n",
       "  </tbody>\n",
       "</table>\n",
       "</div>"
      ],
      "text/plain": [
       "        BAS       WF1  split_idx  gene_set_seed cell_type\n",
       "0  0.424145  0.582535          4              9    Plasma"
      ]
     },
     "execution_count": 27,
     "metadata": {},
     "output_type": "execute_result"
    }
   ],
   "source": [
    "metrics_df = pd.DataFrame.from_dict([metrics_dict]).assign(split_idx=TEST_SPLIT_IDX, gene_set_seed=SEED, cell_type=CELL_TYPE)\n",
    "metrics_df"
   ]
  },
  {
   "cell_type": "code",
   "execution_count": 28,
   "id": "15fa3d2c",
   "metadata": {
    "execution": {
     "iopub.execute_input": "2025-05-15T16:15:47.742191Z",
     "iopub.status.busy": "2025-05-15T16:15:47.741619Z",
     "iopub.status.idle": "2025-05-15T16:15:47.749021Z",
     "shell.execute_reply": "2025-05-15T16:15:47.748660Z"
    },
    "papermill": {
     "duration": 0.016946,
     "end_time": "2025-05-15T16:15:47.749896",
     "exception": false,
     "start_time": "2025-05-15T16:15:47.732950",
     "status": "completed"
    },
    "tags": []
   },
   "outputs": [],
   "source": [
    "out_dir = here(f'03_downstream_analysis/08_gene_importance/xgboost_external_validation/xgboost_TopN_genes/results_{N_GENES}/metrics')\n",
    "\n",
    "if not os.path.exists(out_dir):\n",
    "    os.makedirs(out_dir)\n",
    "    \n",
    "metrics_df.to_csv(os.path.join(out_dir, f'{CELL_TYPE}_{SEED}_{TEST_SPLIT_IDX}_metrics.zip'))"
   ]
  }
 ],
 "metadata": {
  "kernelspec": {
   "display_name": "Python 3 (ipykernel)",
   "language": "python",
   "name": "python3"
  },
  "language_info": {
   "codemirror_mode": {
    "name": "ipython",
    "version": 3
   },
   "file_extension": ".py",
   "mimetype": "text/x-python",
   "name": "python",
   "nbconvert_exporter": "python",
   "pygments_lexer": "ipython3",
   "version": "3.12.5"
  },
  "papermill": {
   "default_parameters": {},
   "duration": 14.720765,
   "end_time": "2025-05-15T16:15:48.374262",
   "environment_variables": {},
   "exception": null,
   "input_path": "02_xgboost_fitting_external_20genes.ipynb",
   "output_path": "results_20/executed_notebooks/xgboost_fitting_external_CT_Plasma_GS_9_seed4.ipynb",
   "parameters": {
    "CELL_TYPE": "Plasma",
    "SEED": 9,
    "TEST_SPLIT_IDX": 4
   },
   "start_time": "2025-05-15T16:15:33.653497",
   "version": "2.6.0"
  }
 },
 "nbformat": 4,
 "nbformat_minor": 5
}