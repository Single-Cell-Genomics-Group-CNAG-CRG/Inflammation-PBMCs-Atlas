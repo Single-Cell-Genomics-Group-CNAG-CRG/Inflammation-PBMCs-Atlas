{
 "cells": [
  {
   "cell_type": "code",
   "execution_count": 1,
   "id": "9ae0ba68",
   "metadata": {
    "editable": true,
    "execution": {
     "iopub.execute_input": "2025-05-14T16:07:34.198991Z",
     "iopub.status.busy": "2025-05-14T16:07:34.198827Z",
     "iopub.status.idle": "2025-05-14T16:07:34.201496Z",
     "shell.execute_reply": "2025-05-14T16:07:34.201198Z"
    },
    "papermill": {
     "duration": 0.011461,
     "end_time": "2025-05-14T16:07:34.202432",
     "exception": false,
     "start_time": "2025-05-14T16:07:34.190971",
     "status": "completed"
    },
    "slideshow": {
     "slide_type": ""
    },
    "tags": [
     "parameters"
    ]
   },
   "outputs": [],
   "source": [
    "CELL_TYPE = 'pDC'\n",
    "N_GENES: int = 20\n",
    "SEED = 'shap_studyID' #'disease_NOstudy' 'study_NOdisease' or 'int' or 'shap_studyID'\n",
    "TEST_SPLIT_IDX: int = 1 #[0,4]"
   ]
  },
  {
   "cell_type": "code",
   "execution_count": 2,
   "id": "cd0cac8f",
   "metadata": {
    "execution": {
     "iopub.execute_input": "2025-05-14T16:07:34.213928Z",
     "iopub.status.busy": "2025-05-14T16:07:34.213599Z",
     "iopub.status.idle": "2025-05-14T16:07:34.215729Z",
     "shell.execute_reply": "2025-05-14T16:07:34.215439Z"
    },
    "papermill": {
     "duration": 0.00846,
     "end_time": "2025-05-14T16:07:34.216546",
     "exception": false,
     "start_time": "2025-05-14T16:07:34.208086",
     "status": "completed"
    },
    "tags": [
     "injected-parameters"
    ]
   },
   "outputs": [],
   "source": [
    "# Parameters\n",
    "CELL_TYPE = \"T_CD4_Naive\"\n",
    "SEED = \"shap_disease_NOstudy\"\n",
    "TEST_SPLIT_IDX = 1\n"
   ]
  },
  {
   "cell_type": "code",
   "execution_count": 3,
   "id": "3e708416",
   "metadata": {
    "execution": {
     "iopub.execute_input": "2025-05-14T16:07:34.229599Z",
     "iopub.status.busy": "2025-05-14T16:07:34.229314Z",
     "iopub.status.idle": "2025-05-14T16:07:34.231341Z",
     "shell.execute_reply": "2025-05-14T16:07:34.231045Z"
    },
    "papermill": {
     "duration": 0.008826,
     "end_time": "2025-05-14T16:07:34.232105",
     "exception": false,
     "start_time": "2025-05-14T16:07:34.223279",
     "status": "completed"
    },
    "tags": []
   },
   "outputs": [],
   "source": [
    "N_SPLITS: int = 5\n",
    "N_TRIALS: int = 50"
   ]
  },
  {
   "cell_type": "code",
   "execution_count": 4,
   "id": "fdc3f206",
   "metadata": {
    "execution": {
     "iopub.execute_input": "2025-05-14T16:07:34.244840Z",
     "iopub.status.busy": "2025-05-14T16:07:34.244575Z",
     "iopub.status.idle": "2025-05-14T16:07:46.939206Z",
     "shell.execute_reply": "2025-05-14T16:07:46.938759Z"
    },
    "papermill": {
     "duration": 12.703045,
     "end_time": "2025-05-14T16:07:46.940416",
     "exception": false,
     "start_time": "2025-05-14T16:07:34.237371",
     "status": "completed"
    },
    "tags": []
   },
   "outputs": [],
   "source": [
    "import os\n",
    "import sys\n",
    "from pyprojroot.here import here\n",
    "import pandas as pd\n",
    "import anndata as ad\n",
    "import numpy as np\n",
    "import math\n",
    "from sklearn.model_selection import StratifiedGroupKFold\n",
    "from sklearn.preprocessing import LabelEncoder\n",
    "from sklearn.metrics import f1_score\n",
    "import matplotlib.pyplot as plt\n",
    "import seaborn as sns\n",
    "from itertools import product\n",
    "from sklearn.metrics import balanced_accuracy_score, f1_score\n",
    "import optuna\n",
    "\n",
    "import joblib\n",
    "import pickle\n",
    "import datetime\n",
    "\n",
    "import collections\n",
    "\n",
    "import xgboost\n",
    "from sklearn.preprocessing import LabelEncoder\n",
    "\n",
    "import scipy.sparse as ssp\n",
    "import joblib\n",
    "\n",
    "from dotenv import load_dotenv"
   ]
  },
  {
   "cell_type": "code",
   "execution_count": 5,
   "id": "d3143ae7",
   "metadata": {
    "execution": {
     "iopub.execute_input": "2025-05-14T16:07:46.975451Z",
     "iopub.status.busy": "2025-05-14T16:07:46.975139Z",
     "iopub.status.idle": "2025-05-14T16:07:46.980361Z",
     "shell.execute_reply": "2025-05-14T16:07:46.980071Z"
    },
    "papermill": {
     "duration": 0.01589,
     "end_time": "2025-05-14T16:07:46.981204",
     "exception": false,
     "start_time": "2025-05-14T16:07:46.965314",
     "status": "completed"
    },
    "tags": []
   },
   "outputs": [
    {
     "data": {
      "text/plain": [
       "True"
      ]
     },
     "execution_count": 5,
     "metadata": {},
     "output_type": "execute_result"
    }
   ],
   "source": [
    "load_dotenv()"
   ]
  },
  {
   "cell_type": "markdown",
   "id": "ae0a49a4",
   "metadata": {
    "papermill": {
     "duration": 0.005321,
     "end_time": "2025-05-14T16:07:46.992067",
     "exception": false,
     "start_time": "2025-05-14T16:07:46.986746",
     "status": "completed"
    },
    "tags": []
   },
   "source": [
    "# LOAD DATASET"
   ]
  },
  {
   "cell_type": "code",
   "execution_count": 6,
   "id": "04d74889",
   "metadata": {
    "execution": {
     "iopub.execute_input": "2025-05-14T16:07:47.003413Z",
     "iopub.status.busy": "2025-05-14T16:07:47.002911Z",
     "iopub.status.idle": "2025-05-14T16:07:47.568844Z",
     "shell.execute_reply": "2025-05-14T16:07:47.568434Z"
    },
    "papermill": {
     "duration": 0.572994,
     "end_time": "2025-05-14T16:07:47.570114",
     "exception": false,
     "start_time": "2025-05-14T16:07:46.997120",
     "status": "completed"
    },
    "tags": []
   },
   "outputs": [],
   "source": [
    "train_adata = ad.read_h5ad(\n",
    "    here(f'03_downstream_analysis/08_gene_importance/xgboost_external_validation/xgboost_TopN_genes/data_cellTypes/EXTERNAL_{CELL_TYPE}.filtered.log1p.h5ad')\n",
    ")"
   ]
  },
  {
   "cell_type": "code",
   "execution_count": 7,
   "id": "bb47c5aa",
   "metadata": {
    "execution": {
     "iopub.execute_input": "2025-05-14T16:07:47.582186Z",
     "iopub.status.busy": "2025-05-14T16:07:47.581994Z",
     "iopub.status.idle": "2025-05-14T16:07:47.608311Z",
     "shell.execute_reply": "2025-05-14T16:07:47.607977Z"
    },
    "papermill": {
     "duration": 0.033126,
     "end_time": "2025-05-14T16:07:47.609167",
     "exception": false,
     "start_time": "2025-05-14T16:07:47.576041",
     "status": "completed"
    },
    "tags": []
   },
   "outputs": [
    {
     "name": "stdout",
     "output_type": "stream",
     "text": [
      "['ENSG00000002549' 'ENSG00000002586' 'ENSG00000008517' 'ENSG00000027697'\n",
      " 'ENSG00000028137' 'ENSG00000030582' 'ENSG00000075785' 'ENSG00000076662'\n",
      " 'ENSG00000077150' 'ENSG00000077380' 'ENSG00000079616' 'ENSG00000081059'\n",
      " 'ENSG00000088986' 'ENSG00000089280' 'ENSG00000101608' 'ENSG00000102245'\n",
      " 'ENSG00000104689' 'ENSG00000104870' 'ENSG00000104904' 'ENSG00000104964'\n",
      " 'ENSG00000104998' 'ENSG00000105835' 'ENSG00000106952' 'ENSG00000108622'\n",
      " 'ENSG00000109787' 'ENSG00000109861' 'ENSG00000110324' 'ENSG00000110848'\n",
      " 'ENSG00000113263' 'ENSG00000113732' 'ENSG00000115415' 'ENSG00000115738'\n",
      " 'ENSG00000116171' 'ENSG00000117318' 'ENSG00000117450' 'ENSG00000118503'\n",
      " 'ENSG00000118515' 'ENSG00000119655' 'ENSG00000121966' 'ENSG00000125384'\n",
      " 'ENSG00000125743' 'ENSG00000126353' 'ENSG00000127022' 'ENSG00000127152'\n",
      " 'ENSG00000127528' 'ENSG00000128524' 'ENSG00000130429' 'ENSG00000130522'\n",
      " 'ENSG00000132475' 'ENSG00000133134' 'ENSG00000135046' 'ENSG00000136997'\n",
      " 'ENSG00000137193' 'ENSG00000137959' 'ENSG00000139192' 'ENSG00000139626'\n",
      " 'ENSG00000141506' 'ENSG00000143543' 'ENSG00000145220' 'ENSG00000145675'\n",
      " 'ENSG00000147168' 'ENSG00000150093' 'ENSG00000152234' 'ENSG00000152518'\n",
      " 'ENSG00000157601' 'ENSG00000159128' 'ENSG00000162368' 'ENSG00000163131'\n",
      " 'ENSG00000163191' 'ENSG00000163600' 'ENSG00000163659' 'ENSG00000164307'\n",
      " 'ENSG00000165732' 'ENSG00000166681' 'ENSG00000167004' 'ENSG00000167552'\n",
      " 'ENSG00000167996' 'ENSG00000169429' 'ENSG00000169564' 'ENSG00000172183'\n",
      " 'ENSG00000172543' 'ENSG00000172936' 'ENSG00000175567' 'ENSG00000175768'\n",
      " 'ENSG00000177885' 'ENSG00000178719' 'ENSG00000179094' 'ENSG00000179144'\n",
      " 'ENSG00000179218' 'ENSG00000182117' 'ENSG00000182866' 'ENSG00000183508'\n",
      " 'ENSG00000183696' 'ENSG00000184007' 'ENSG00000184557' 'ENSG00000185201'\n",
      " 'ENSG00000185338' 'ENSG00000185950' 'ENSG00000187608' 'ENSG00000196126'\n",
      " 'ENSG00000196396' 'ENSG00000197329' 'ENSG00000197471' 'ENSG00000197956'\n",
      " 'ENSG00000198520' 'ENSG00000198832' 'ENSG00000204264' 'ENSG00000204287'\n",
      " 'ENSG00000204482' 'ENSG00000204525' 'ENSG00000204592' 'ENSG00000205220'\n",
      " 'ENSG00000205542' 'ENSG00000206503' 'ENSG00000211895' 'ENSG00000213145'\n",
      " 'ENSG00000226979' 'ENSG00000227507' 'ENSG00000231389' 'ENSG00000234745'\n",
      " 'ENSG00000243749' 'ENSG00000264364' 'ENSG00000265972']\n"
     ]
    }
   ],
   "source": [
    "if SEED != 'all':\n",
    "    gene_subset = np.load(here(f'03_downstream_analysis/08_gene_importance/xgboost_external_validation/shap_gene_selection/gene_subsets_{N_GENES}/{CELL_TYPE}_{SEED}.npy'), allow_pickle=True)\n",
    "    train_adata = train_adata[:,gene_subset]\n",
    "    print(gene_subset)\n",
    "elif SEED == 'all':\n",
    "    print('Using all genes')\n",
    "else:\n",
    "    raise ValueError()"
   ]
  },
  {
   "cell_type": "code",
   "execution_count": 8,
   "id": "7c82d1f1",
   "metadata": {
    "execution": {
     "iopub.execute_input": "2025-05-14T16:07:47.621894Z",
     "iopub.status.busy": "2025-05-14T16:07:47.621469Z",
     "iopub.status.idle": "2025-05-14T16:07:47.624497Z",
     "shell.execute_reply": "2025-05-14T16:07:47.624186Z"
    },
    "papermill": {
     "duration": 0.009853,
     "end_time": "2025-05-14T16:07:47.625275",
     "exception": false,
     "start_time": "2025-05-14T16:07:47.615422",
     "status": "completed"
    },
    "tags": []
   },
   "outputs": [
    {
     "data": {
      "text/plain": [
       "(85497, 123)"
      ]
     },
     "execution_count": 8,
     "metadata": {},
     "output_type": "execute_result"
    }
   ],
   "source": [
    "train_adata.shape"
   ]
  },
  {
   "cell_type": "code",
   "execution_count": 9,
   "id": "78efa105",
   "metadata": {
    "execution": {
     "iopub.execute_input": "2025-05-14T16:07:47.638045Z",
     "iopub.status.busy": "2025-05-14T16:07:47.637621Z",
     "iopub.status.idle": "2025-05-14T16:07:47.641301Z",
     "shell.execute_reply": "2025-05-14T16:07:47.641012Z"
    },
    "papermill": {
     "duration": 0.011059,
     "end_time": "2025-05-14T16:07:47.642092",
     "exception": false,
     "start_time": "2025-05-14T16:07:47.631033",
     "status": "completed"
    },
    "tags": []
   },
   "outputs": [
    {
     "data": {
      "text/plain": [
       "['RA', 'COVID', 'healthy', 'HIV', 'cirrhosis', 'CD', 'SLE', 'sepsis']\n",
       "Categories (8, object): ['CD', 'COVID', 'HIV', 'RA', 'SLE', 'cirrhosis', 'healthy', 'sepsis']"
      ]
     },
     "execution_count": 9,
     "metadata": {},
     "output_type": "execute_result"
    }
   ],
   "source": [
    "train_adata.obs.disease.unique()"
   ]
  },
  {
   "cell_type": "code",
   "execution_count": 10,
   "id": "c0c294bc",
   "metadata": {
    "execution": {
     "iopub.execute_input": "2025-05-14T16:07:47.654875Z",
     "iopub.status.busy": "2025-05-14T16:07:47.654687Z",
     "iopub.status.idle": "2025-05-14T16:07:47.658310Z",
     "shell.execute_reply": "2025-05-14T16:07:47.658009Z"
    },
    "papermill": {
     "duration": 0.011546,
     "end_time": "2025-05-14T16:07:47.659233",
     "exception": false,
     "start_time": "2025-05-14T16:07:47.647687",
     "status": "completed"
    },
    "tags": []
   },
   "outputs": [
    {
     "data": {
      "text/plain": [
       "['SCGT00val_I036016_T0', 'SCGT00val_I036019_T0', 'SCGT00val_I036023_T0', 'SCGT00val_I036015_T0', 'SCGT00val_I036028_T0', ..., '10XGenomics_10XHC2_T0', '10XGenomics_10XHC3_T0', '10XGenomics_10XHC5_T0', '10XGenomics_10XHC7_T0', '10XGenomics_10XHC8_T0']\n",
       "Length: 86\n",
       "Categories (86, object): ['10XGenomics_10XHC1_T0', '10XGenomics_10XHC2_T0', '10XGenomics_10XHC3_T0', '10XGenomics_10XHC4_T0', ..., 'Savage2021_BRISL6_T0', 'Savage2021_BRISL7_T0', 'Savage2021_PIDA_T0', 'Savage2021_PIDB_T0']"
      ]
     },
     "execution_count": 10,
     "metadata": {},
     "output_type": "execute_result"
    }
   ],
   "source": [
    "train_adata.obs.sampleID.unique()"
   ]
  },
  {
   "cell_type": "code",
   "execution_count": 11,
   "id": "7f82a163",
   "metadata": {
    "execution": {
     "iopub.execute_input": "2025-05-14T16:07:47.671306Z",
     "iopub.status.busy": "2025-05-14T16:07:47.671016Z",
     "iopub.status.idle": "2025-05-14T16:07:47.881850Z",
     "shell.execute_reply": "2025-05-14T16:07:47.881435Z"
    },
    "papermill": {
     "duration": 0.218301,
     "end_time": "2025-05-14T16:07:47.883080",
     "exception": false,
     "start_time": "2025-05-14T16:07:47.664779",
     "status": "completed"
    },
    "tags": []
   },
   "outputs": [],
   "source": [
    "all_idxs = np.arange(train_adata.obs.shape[0])\n",
    "left_out_splits = [s[1] for s in StratifiedGroupKFold(n_splits=N_SPLITS).split(all_idxs, train_adata.obs.disease, train_adata.obs.sampleID)]"
   ]
  },
  {
   "cell_type": "code",
   "execution_count": 12,
   "id": "15fe78e7",
   "metadata": {
    "execution": {
     "iopub.execute_input": "2025-05-14T16:07:47.897269Z",
     "iopub.status.busy": "2025-05-14T16:07:47.897091Z",
     "iopub.status.idle": "2025-05-14T16:07:47.900563Z",
     "shell.execute_reply": "2025-05-14T16:07:47.900211Z"
    },
    "papermill": {
     "duration": 0.012239,
     "end_time": "2025-05-14T16:07:47.901365",
     "exception": false,
     "start_time": "2025-05-14T16:07:47.889126",
     "status": "completed"
    },
    "tags": []
   },
   "outputs": [
    {
     "data": {
      "text/plain": [
       "([0, 3, 4], 2, 1)"
      ]
     },
     "execution_count": 12,
     "metadata": {},
     "output_type": "execute_result"
    }
   ],
   "source": [
    "TRAIN_SPLIT_IDXS = [0,1,2,3,4]\n",
    "VAL_SPLIT_IDX = (TEST_SPLIT_IDX + 1) % 5\n",
    "TRAIN_SPLIT_IDXS.remove(TEST_SPLIT_IDX)\n",
    "TRAIN_SPLIT_IDXS.remove(VAL_SPLIT_IDX)\n",
    "TRAIN_SPLIT_IDXS, VAL_SPLIT_IDX, TEST_SPLIT_IDX"
   ]
  },
  {
   "cell_type": "code",
   "execution_count": 13,
   "id": "cd55b7b5",
   "metadata": {
    "execution": {
     "iopub.execute_input": "2025-05-14T16:07:47.920821Z",
     "iopub.status.busy": "2025-05-14T16:07:47.920382Z",
     "iopub.status.idle": "2025-05-14T16:07:47.922834Z",
     "shell.execute_reply": "2025-05-14T16:07:47.922530Z"
    },
    "papermill": {
     "duration": 0.009168,
     "end_time": "2025-05-14T16:07:47.923674",
     "exception": false,
     "start_time": "2025-05-14T16:07:47.914506",
     "status": "completed"
    },
    "tags": []
   },
   "outputs": [],
   "source": [
    "train_idxs = np.concatenate([left_out_splits[idx] for idx in TRAIN_SPLIT_IDXS])\n",
    "val_idxs = left_out_splits[VAL_SPLIT_IDX]\n",
    "test_idxs = left_out_splits[TEST_SPLIT_IDX]"
   ]
  },
  {
   "cell_type": "markdown",
   "id": "af03ae3a",
   "metadata": {
    "papermill": {
     "duration": 0.006027,
     "end_time": "2025-05-14T16:07:47.941088",
     "exception": false,
     "start_time": "2025-05-14T16:07:47.935061",
     "status": "completed"
    },
    "tags": []
   },
   "source": [
    "### SUBSET DATASET INTO TRAIN/TEST/VAL SPLITS"
   ]
  },
  {
   "cell_type": "code",
   "execution_count": 14,
   "id": "d2db4e60",
   "metadata": {
    "execution": {
     "iopub.execute_input": "2025-05-14T16:07:47.954950Z",
     "iopub.status.busy": "2025-05-14T16:07:47.954753Z",
     "iopub.status.idle": "2025-05-14T16:07:48.149071Z",
     "shell.execute_reply": "2025-05-14T16:07:48.148718Z"
    },
    "papermill": {
     "duration": 0.202044,
     "end_time": "2025-05-14T16:07:48.150166",
     "exception": false,
     "start_time": "2025-05-14T16:07:47.948122",
     "status": "completed"
    },
    "tags": []
   },
   "outputs": [
    {
     "data": {
      "text/plain": [
       "((51828, 123), (17016, 123), (16653, 123))"
      ]
     },
     "execution_count": 14,
     "metadata": {},
     "output_type": "execute_result"
    }
   ],
   "source": [
    "X_train = train_adata.X[train_idxs]\n",
    "X_test = train_adata.X[test_idxs]\n",
    "X_val = train_adata.X[val_idxs]\n",
    "X_train.shape, X_test.shape, X_val.shape"
   ]
  },
  {
   "cell_type": "code",
   "execution_count": 15,
   "id": "b7f3cfbc",
   "metadata": {
    "execution": {
     "iopub.execute_input": "2025-05-14T16:07:48.163605Z",
     "iopub.status.busy": "2025-05-14T16:07:48.163405Z",
     "iopub.status.idle": "2025-05-14T16:07:48.173040Z",
     "shell.execute_reply": "2025-05-14T16:07:48.172711Z"
    },
    "papermill": {
     "duration": 0.017036,
     "end_time": "2025-05-14T16:07:48.173942",
     "exception": false,
     "start_time": "2025-05-14T16:07:48.156906",
     "status": "completed"
    },
    "tags": []
   },
   "outputs": [
    {
     "data": {
      "text/plain": [
       "((51828,), (17016,), (16653,))"
      ]
     },
     "execution_count": 15,
     "metadata": {},
     "output_type": "execute_result"
    }
   ],
   "source": [
    "y_train = train_adata.obs.iloc[train_idxs].disease.values.astype(str)\n",
    "y_test = train_adata.obs.iloc[test_idxs].disease.values.astype(str)\n",
    "y_val = train_adata.obs.iloc[val_idxs].disease.values.astype(str)\n",
    "y_train.shape, y_test.shape, y_val.shape"
   ]
  },
  {
   "cell_type": "code",
   "execution_count": 16,
   "id": "be632a88",
   "metadata": {
    "execution": {
     "iopub.execute_input": "2025-05-14T16:07:48.186629Z",
     "iopub.status.busy": "2025-05-14T16:07:48.186351Z",
     "iopub.status.idle": "2025-05-14T16:07:48.205147Z",
     "shell.execute_reply": "2025-05-14T16:07:48.204775Z"
    },
    "papermill": {
     "duration": 0.026152,
     "end_time": "2025-05-14T16:07:48.206066",
     "exception": false,
     "start_time": "2025-05-14T16:07:48.179914",
     "status": "completed"
    },
    "tags": []
   },
   "outputs": [],
   "source": [
    "lenc = LabelEncoder()\n",
    "y_train_enc = lenc.fit_transform(y_train)\n",
    "y_val_enc = lenc.transform(y_val)\n",
    "y_test_enc = lenc.transform(y_test)"
   ]
  },
  {
   "cell_type": "markdown",
   "id": "a19c7992",
   "metadata": {
    "papermill": {
     "duration": 0.005887,
     "end_time": "2025-05-14T16:07:48.217773",
     "exception": false,
     "start_time": "2025-05-14T16:07:48.211886",
     "status": "completed"
    },
    "tags": []
   },
   "source": [
    "### GENERATE F1 "
   ]
  },
  {
   "cell_type": "code",
   "execution_count": 17,
   "id": "72b34690",
   "metadata": {
    "execution": {
     "iopub.execute_input": "2025-05-14T16:07:48.230248Z",
     "iopub.status.busy": "2025-05-14T16:07:48.229988Z",
     "iopub.status.idle": "2025-05-14T16:07:48.232193Z",
     "shell.execute_reply": "2025-05-14T16:07:48.231892Z"
    },
    "papermill": {
     "duration": 0.009375,
     "end_time": "2025-05-14T16:07:48.232989",
     "exception": false,
     "start_time": "2025-05-14T16:07:48.223614",
     "status": "completed"
    },
    "tags": []
   },
   "outputs": [],
   "source": [
    "def custom_f1_score(y_true, y_pred):\n",
    "    return -f1_score(y_true, y_pred.argmax(1), average='weighted')"
   ]
  },
  {
   "cell_type": "code",
   "execution_count": 18,
   "id": "dc02f5d5",
   "metadata": {
    "execution": {
     "iopub.execute_input": "2025-05-14T16:07:48.245094Z",
     "iopub.status.busy": "2025-05-14T16:07:48.244927Z",
     "iopub.status.idle": "2025-05-14T16:07:48.248510Z",
     "shell.execute_reply": "2025-05-14T16:07:48.248203Z"
    },
    "papermill": {
     "duration": 0.010533,
     "end_time": "2025-05-14T16:07:48.249267",
     "exception": false,
     "start_time": "2025-05-14T16:07:48.238734",
     "status": "completed"
    },
    "tags": []
   },
   "outputs": [],
   "source": [
    "eval_metric=custom_f1_score\n",
    "eval_metric_name='custom_f1_score'\n",
    "\n",
    "def objective(trial):\n",
    "    params = {\n",
    "        'n_estimators': 1500,\n",
    "        'max_depth': trial.suggest_int('max_depth', 3, 20),\n",
    "        'min_child_weight': trial.suggest_int('min_child_weight', 1, 250),\n",
    "        'subsample': trial.suggest_float('subsample', 0.1, 1.0),\n",
    "        'colsample_bynode': trial.suggest_float('colsample_bynode', 0.1, 1.0),\n",
    "        'learning_rate': trial.suggest_float('learning_rate', 1e-3, 5e-1, log=True),\n",
    "    }\n",
    "    pruning_callback = optuna.integration.XGBoostPruningCallback(trial, f'validation_0-{eval_metric_name}')\n",
    "    es_callback = xgboost.callback.EarlyStopping(20, min_delta=0.001)\n",
    "    xgb = xgboost.XGBClassifier(\n",
    "        eval_metric=eval_metric,\n",
    "        callbacks=[pruning_callback, es_callback],\n",
    "        n_jobs=5,\n",
    "        **params\n",
    "    )\n",
    "    xgb.fit(\n",
    "        X_train, \n",
    "        y_train_enc, \n",
    "        verbose=0,\n",
    "        eval_set=[(X_val, y_val_enc)],\n",
    "    )\n",
    "    trial.set_user_attr('best_iteration', xgb.best_iteration)\n",
    "\n",
    "    return xgb.best_score"
   ]
  },
  {
   "cell_type": "code",
   "execution_count": 19,
   "id": "651a4392",
   "metadata": {
    "execution": {
     "iopub.execute_input": "2025-05-14T16:07:48.261820Z",
     "iopub.status.busy": "2025-05-14T16:07:48.261643Z",
     "iopub.status.idle": "2025-05-14T16:14:55.021752Z",
     "shell.execute_reply": "2025-05-14T16:14:55.021241Z"
    },
    "papermill": {
     "duration": 426.767954,
     "end_time": "2025-05-14T16:14:55.023184",
     "exception": false,
     "start_time": "2025-05-14T16:07:48.255230",
     "status": "completed"
    },
    "scrolled": true,
    "tags": []
   },
   "outputs": [
    {
     "name": "stderr",
     "output_type": "stream",
     "text": [
      "[I 2025-05-14 18:07:48,263] A new study created in memory with name: no-name-bcb16021-5681-4433-a369-3921cbbe4de2\n"
     ]
    },
    {
     "name": "stderr",
     "output_type": "stream",
     "text": [
      "[I 2025-05-14 18:07:53,400] Trial 0 finished with value: -0.679367 and parameters: {'max_depth': 9, 'min_child_weight': 238, 'subsample': 0.7587945476302645, 'colsample_bynode': 0.6387926357773329, 'learning_rate': 0.0026368755339723046}. Best is trial 0 with value: -0.679367.\n"
     ]
    },
    {
     "name": "stderr",
     "output_type": "stream",
     "text": [
      "[I 2025-05-14 18:08:31,082] Trial 1 finished with value: -0.754901 and parameters: {'max_depth': 5, 'min_child_weight': 15, 'subsample': 0.8795585311974417, 'colsample_bynode': 0.6410035105688879, 'learning_rate': 0.08148293210105287}. Best is trial 1 with value: -0.754901.\n"
     ]
    },
    {
     "name": "stderr",
     "output_type": "stream",
     "text": [
      "[I 2025-05-14 18:08:34,991] Trial 2 finished with value: -0.643948 and parameters: {'max_depth': 3, 'min_child_weight': 243, 'subsample': 0.8491983767203796, 'colsample_bynode': 0.29110519961044856, 'learning_rate': 0.003095566460242371}. Best is trial 1 with value: -0.754901.\n"
     ]
    },
    {
     "name": "stderr",
     "output_type": "stream",
     "text": [
      "[I 2025-05-14 18:08:43,606] Trial 3 finished with value: -0.689073 and parameters: {'max_depth': 6, 'min_child_weight': 77, 'subsample': 0.5722807884690141, 'colsample_bynode': 0.48875051677790415, 'learning_rate': 0.006109683510122491}. Best is trial 1 with value: -0.754901.\n"
     ]
    },
    {
     "name": "stderr",
     "output_type": "stream",
     "text": [
      "[I 2025-05-14 18:09:48,753] Trial 4 finished with value: -0.737999 and parameters: {'max_depth': 14, 'min_child_weight': 35, 'subsample': 0.3629301836816964, 'colsample_bynode': 0.4297256589643226, 'learning_rate': 0.01701841881702917}. Best is trial 1 with value: -0.754901.\n"
     ]
    },
    {
     "name": "stderr",
     "output_type": "stream",
     "text": [
      "[I 2025-05-14 18:09:55,120] Trial 5 finished with value: -0.692192 and parameters: {'max_depth': 17, 'min_child_weight': 50, 'subsample': 0.5628109945722505, 'colsample_bynode': 0.6331731119758383, 'learning_rate': 0.0013346527038305934}. Best is trial 1 with value: -0.754901.\n"
     ]
    },
    {
     "name": "stderr",
     "output_type": "stream",
     "text": [
      "[I 2025-05-14 18:10:07,315] Trial 6 finished with value: -0.751075 and parameters: {'max_depth': 13, 'min_child_weight': 43, 'subsample': 0.1585464336867516, 'colsample_bynode': 0.9539969835279999, 'learning_rate': 0.4038423798071558}. Best is trial 1 with value: -0.754901.\n"
     ]
    },
    {
     "name": "stderr",
     "output_type": "stream",
     "text": [
      "[I 2025-05-14 18:10:07,796] Trial 7 pruned. Trial was pruned at iteration 0.\n"
     ]
    },
    {
     "name": "stderr",
     "output_type": "stream",
     "text": [
      "[I 2025-05-14 18:10:08,234] Trial 8 pruned. Trial was pruned at iteration 0.\n"
     ]
    },
    {
     "name": "stderr",
     "output_type": "stream",
     "text": [
      "[I 2025-05-14 18:10:08,728] Trial 9 pruned. Trial was pruned at iteration 0.\n"
     ]
    },
    {
     "name": "stderr",
     "output_type": "stream",
     "text": [
      "[I 2025-05-14 18:10:09,382] Trial 10 pruned. Trial was pruned at iteration 0.\n"
     ]
    },
    {
     "name": "stderr",
     "output_type": "stream",
     "text": [
      "[I 2025-05-14 18:10:38,759] Trial 11 finished with value: -0.755923 and parameters: {'max_depth': 11, 'min_child_weight': 3, 'subsample': 0.35229864280210643, 'colsample_bynode': 0.9522656887511343, 'learning_rate': 0.4085535814821633}. Best is trial 11 with value: -0.755923.\n"
     ]
    },
    {
     "name": "stderr",
     "output_type": "stream",
     "text": [
      "[I 2025-05-14 18:11:06,340] Trial 12 pruned. Trial was pruned at iteration 44.\n"
     ]
    },
    {
     "name": "stderr",
     "output_type": "stream",
     "text": [
      "[I 2025-05-14 18:11:06,843] Trial 13 pruned. Trial was pruned at iteration 0.\n"
     ]
    },
    {
     "name": "stderr",
     "output_type": "stream",
     "text": [
      "[I 2025-05-14 18:11:07,316] Trial 14 pruned. Trial was pruned at iteration 0.\n"
     ]
    },
    {
     "name": "stderr",
     "output_type": "stream",
     "text": [
      "[I 2025-05-14 18:11:07,761] Trial 15 pruned. Trial was pruned at iteration 0.\n"
     ]
    },
    {
     "name": "stderr",
     "output_type": "stream",
     "text": [
      "[I 2025-05-14 18:11:08,219] Trial 16 pruned. Trial was pruned at iteration 0.\n"
     ]
    },
    {
     "name": "stderr",
     "output_type": "stream",
     "text": [
      "[I 2025-05-14 18:11:08,714] Trial 17 pruned. Trial was pruned at iteration 0.\n"
     ]
    },
    {
     "name": "stderr",
     "output_type": "stream",
     "text": [
      "[I 2025-05-14 18:11:19,982] Trial 18 pruned. Trial was pruned at iteration 44.\n"
     ]
    },
    {
     "name": "stderr",
     "output_type": "stream",
     "text": [
      "[I 2025-05-14 18:11:20,475] Trial 19 pruned. Trial was pruned at iteration 0.\n"
     ]
    },
    {
     "name": "stderr",
     "output_type": "stream",
     "text": [
      "[I 2025-05-14 18:11:20,997] Trial 20 pruned. Trial was pruned at iteration 0.\n"
     ]
    },
    {
     "name": "stderr",
     "output_type": "stream",
     "text": [
      "[I 2025-05-14 18:11:21,518] Trial 21 pruned. Trial was pruned at iteration 0.\n"
     ]
    },
    {
     "name": "stderr",
     "output_type": "stream",
     "text": [
      "[I 2025-05-14 18:11:22,012] Trial 22 pruned. Trial was pruned at iteration 0.\n"
     ]
    },
    {
     "name": "stderr",
     "output_type": "stream",
     "text": [
      "[I 2025-05-14 18:11:22,530] Trial 23 pruned. Trial was pruned at iteration 0.\n"
     ]
    },
    {
     "name": "stderr",
     "output_type": "stream",
     "text": [
      "[I 2025-05-14 18:11:51,433] Trial 24 finished with value: -0.760517 and parameters: {'max_depth': 20, 'min_child_weight': 18, 'subsample': 0.6422607927148194, 'colsample_bynode': 0.8635334407090474, 'learning_rate': 0.34892489198233667}. Best is trial 24 with value: -0.760517.\n"
     ]
    },
    {
     "name": "stderr",
     "output_type": "stream",
     "text": [
      "[I 2025-05-14 18:12:09,520] Trial 25 pruned. Trial was pruned at iteration 44.\n"
     ]
    },
    {
     "name": "stderr",
     "output_type": "stream",
     "text": [
      "[I 2025-05-14 18:12:22,942] Trial 26 pruned. Trial was pruned at iteration 26.\n"
     ]
    },
    {
     "name": "stderr",
     "output_type": "stream",
     "text": [
      "[I 2025-05-14 18:12:23,441] Trial 27 pruned. Trial was pruned at iteration 0.\n"
     ]
    },
    {
     "name": "stderr",
     "output_type": "stream",
     "text": [
      "[I 2025-05-14 18:12:23,915] Trial 28 pruned. Trial was pruned at iteration 0.\n"
     ]
    },
    {
     "name": "stderr",
     "output_type": "stream",
     "text": [
      "[I 2025-05-14 18:12:24,363] Trial 29 pruned. Trial was pruned at iteration 0.\n"
     ]
    },
    {
     "name": "stderr",
     "output_type": "stream",
     "text": [
      "[I 2025-05-14 18:12:48,995] Trial 30 finished with value: -0.764319 and parameters: {'max_depth': 20, 'min_child_weight': 63, 'subsample': 0.944589067584894, 'colsample_bynode': 0.6335000717551629, 'learning_rate': 0.3168631192686011}. Best is trial 30 with value: -0.764319.\n"
     ]
    },
    {
     "name": "stderr",
     "output_type": "stream",
     "text": [
      "[I 2025-05-14 18:13:08,993] Trial 31 finished with value: -0.757335 and parameters: {'max_depth': 20, 'min_child_weight': 33, 'subsample': 0.9054827409119194, 'colsample_bynode': 0.6147050427993579, 'learning_rate': 0.33520941417627514}. Best is trial 30 with value: -0.764319.\n"
     ]
    },
    {
     "name": "stderr",
     "output_type": "stream",
     "text": [
      "[I 2025-05-14 18:13:09,528] Trial 32 pruned. Trial was pruned at iteration 0.\n"
     ]
    },
    {
     "name": "stderr",
     "output_type": "stream",
     "text": [
      "[I 2025-05-14 18:13:24,028] Trial 33 finished with value: -0.761996 and parameters: {'max_depth': 19, 'min_child_weight': 34, 'subsample': 0.821215891721708, 'colsample_bynode': 0.41204464047865424, 'learning_rate': 0.4936507474989596}. Best is trial 30 with value: -0.764319.\n"
     ]
    },
    {
     "name": "stderr",
     "output_type": "stream",
     "text": [
      "[I 2025-05-14 18:13:32,067] Trial 34 pruned. Trial was pruned at iteration 26.\n"
     ]
    },
    {
     "name": "stderr",
     "output_type": "stream",
     "text": [
      "[I 2025-05-14 18:13:32,580] Trial 35 pruned. Trial was pruned at iteration 0.\n"
     ]
    },
    {
     "name": "stderr",
     "output_type": "stream",
     "text": [
      "[I 2025-05-14 18:13:50,742] Trial 36 finished with value: -0.763965 and parameters: {'max_depth': 18, 'min_child_weight': 68, 'subsample': 0.8165777731589815, 'colsample_bynode': 0.619574222969544, 'learning_rate': 0.30337637008954804}. Best is trial 30 with value: -0.764319.\n"
     ]
    },
    {
     "name": "stderr",
     "output_type": "stream",
     "text": [
      "[I 2025-05-14 18:13:51,332] Trial 37 pruned. Trial was pruned at iteration 0.\n"
     ]
    },
    {
     "name": "stderr",
     "output_type": "stream",
     "text": [
      "[I 2025-05-14 18:14:06,909] Trial 38 finished with value: -0.765422 and parameters: {'max_depth': 18, 'min_child_weight': 48, 'subsample': 0.678705151931423, 'colsample_bynode': 0.5353708710577316, 'learning_rate': 0.4719565654723121}. Best is trial 38 with value: -0.765422.\n"
     ]
    },
    {
     "name": "stderr",
     "output_type": "stream",
     "text": [
      "[I 2025-05-14 18:14:07,411] Trial 39 pruned. Trial was pruned at iteration 0.\n"
     ]
    },
    {
     "name": "stderr",
     "output_type": "stream",
     "text": [
      "[I 2025-05-14 18:14:10,301] Trial 40 pruned. Trial was pruned at iteration 8.\n"
     ]
    },
    {
     "name": "stderr",
     "output_type": "stream",
     "text": [
      "[I 2025-05-14 18:14:15,993] Trial 41 pruned. Trial was pruned at iteration 24.\n"
     ]
    },
    {
     "name": "stderr",
     "output_type": "stream",
     "text": [
      "[I 2025-05-14 18:14:30,378] Trial 42 finished with value: -0.760687 and parameters: {'max_depth': 19, 'min_child_weight': 44, 'subsample': 0.6030273267715579, 'colsample_bynode': 0.5579653150240913, 'learning_rate': 0.49556951595285403}. Best is trial 38 with value: -0.765422.\n"
     ]
    },
    {
     "name": "stderr",
     "output_type": "stream",
     "text": [
      "[I 2025-05-14 18:14:30,920] Trial 43 pruned. Trial was pruned at iteration 0.\n"
     ]
    },
    {
     "name": "stderr",
     "output_type": "stream",
     "text": [
      "[I 2025-05-14 18:14:31,400] Trial 44 pruned. Trial was pruned at iteration 0.\n"
     ]
    },
    {
     "name": "stderr",
     "output_type": "stream",
     "text": [
      "[I 2025-05-14 18:14:31,869] Trial 45 pruned. Trial was pruned at iteration 0.\n"
     ]
    },
    {
     "name": "stderr",
     "output_type": "stream",
     "text": [
      "[I 2025-05-14 18:14:32,350] Trial 46 pruned. Trial was pruned at iteration 0.\n"
     ]
    },
    {
     "name": "stderr",
     "output_type": "stream",
     "text": [
      "[I 2025-05-14 18:14:46,442] Trial 47 finished with value: -0.76335 and parameters: {'max_depth': 15, 'min_child_weight': 44, 'subsample': 0.8277442065081796, 'colsample_bynode': 0.6525948940987917, 'learning_rate': 0.492205402032373}. Best is trial 38 with value: -0.765422.\n"
     ]
    },
    {
     "name": "stderr",
     "output_type": "stream",
     "text": [
      "[I 2025-05-14 18:14:52,754] Trial 48 pruned. Trial was pruned at iteration 24.\n"
     ]
    },
    {
     "name": "stderr",
     "output_type": "stream",
     "text": [
      "[I 2025-05-14 18:14:54,927] Trial 49 pruned. Trial was pruned at iteration 6.\n"
     ]
    }
   ],
   "source": [
    "sampler = optuna.samplers.TPESampler(seed=42)\n",
    "study = optuna.create_study(direction='minimize', sampler=sampler)\n",
    "study.optimize(objective, n_trials=N_TRIALS, gc_after_trial=True)"
   ]
  },
  {
   "cell_type": "code",
   "execution_count": 20,
   "id": "a5b765f7",
   "metadata": {
    "execution": {
     "iopub.execute_input": "2025-05-14T16:14:55.052881Z",
     "iopub.status.busy": "2025-05-14T16:14:55.052590Z",
     "iopub.status.idle": "2025-05-14T16:14:55.120791Z",
     "shell.execute_reply": "2025-05-14T16:14:55.120402Z"
    },
    "papermill": {
     "duration": 0.079101,
     "end_time": "2025-05-14T16:14:55.121709",
     "exception": false,
     "start_time": "2025-05-14T16:14:55.042608",
     "status": "completed"
    },
    "tags": []
   },
   "outputs": [
    {
     "data": {
      "text/plain": [
       "['/scratch_isilon/groups/singlecell/shared/projects/Inflammation-PBMCs-Atlas/03_downstream_analysis/08_gene_importance/xgboost_external_validation/xgboost_TopN_genes/results_20/study/T_CD4_Naive_shap_disease_NOstudy_1_xgboost.pkl']"
      ]
     },
     "execution_count": 20,
     "metadata": {},
     "output_type": "execute_result"
    }
   ],
   "source": [
    "out_dir = here(f'03_downstream_analysis/08_gene_importance/xgboost_external_validation/xgboost_TopN_genes/results_{N_GENES}/study')\n",
    "\n",
    "if not os.path.exists(out_dir):\n",
    "    os.makedirs(out_dir)\n",
    "    \n",
    "joblib.dump(study,os.path.join(out_dir, f'{CELL_TYPE}_{SEED}_{TEST_SPLIT_IDX}_xgboost.pkl'))"
   ]
  },
  {
   "cell_type": "code",
   "execution_count": 21,
   "id": "d740861a",
   "metadata": {
    "execution": {
     "iopub.execute_input": "2025-05-14T16:14:55.140844Z",
     "iopub.status.busy": "2025-05-14T16:14:55.140499Z",
     "iopub.status.idle": "2025-05-14T16:15:01.827599Z",
     "shell.execute_reply": "2025-05-14T16:15:01.827226Z"
    },
    "papermill": {
     "duration": 6.697966,
     "end_time": "2025-05-14T16:15:01.828717",
     "exception": false,
     "start_time": "2025-05-14T16:14:55.130751",
     "status": "completed"
    },
    "tags": []
   },
   "outputs": [
    {
     "data": {
      "text/html": [
       "<style>#sk-container-id-1 {\n",
       "  /* Definition of color scheme common for light and dark mode */\n",
       "  --sklearn-color-text: black;\n",
       "  --sklearn-color-line: gray;\n",
       "  /* Definition of color scheme for unfitted estimators */\n",
       "  --sklearn-color-unfitted-level-0: #fff5e6;\n",
       "  --sklearn-color-unfitted-level-1: #f6e4d2;\n",
       "  --sklearn-color-unfitted-level-2: #ffe0b3;\n",
       "  --sklearn-color-unfitted-level-3: chocolate;\n",
       "  /* Definition of color scheme for fitted estimators */\n",
       "  --sklearn-color-fitted-level-0: #f0f8ff;\n",
       "  --sklearn-color-fitted-level-1: #d4ebff;\n",
       "  --sklearn-color-fitted-level-2: #b3dbfd;\n",
       "  --sklearn-color-fitted-level-3: cornflowerblue;\n",
       "\n",
       "  /* Specific color for light theme */\n",
       "  --sklearn-color-text-on-default-background: var(--sg-text-color, var(--theme-code-foreground, var(--jp-content-font-color1, black)));\n",
       "  --sklearn-color-background: var(--sg-background-color, var(--theme-background, var(--jp-layout-color0, white)));\n",
       "  --sklearn-color-border-box: var(--sg-text-color, var(--theme-code-foreground, var(--jp-content-font-color1, black)));\n",
       "  --sklearn-color-icon: #696969;\n",
       "\n",
       "  @media (prefers-color-scheme: dark) {\n",
       "    /* Redefinition of color scheme for dark theme */\n",
       "    --sklearn-color-text-on-default-background: var(--sg-text-color, var(--theme-code-foreground, var(--jp-content-font-color1, white)));\n",
       "    --sklearn-color-background: var(--sg-background-color, var(--theme-background, var(--jp-layout-color0, #111)));\n",
       "    --sklearn-color-border-box: var(--sg-text-color, var(--theme-code-foreground, var(--jp-content-font-color1, white)));\n",
       "    --sklearn-color-icon: #878787;\n",
       "  }\n",
       "}\n",
       "\n",
       "#sk-container-id-1 {\n",
       "  color: var(--sklearn-color-text);\n",
       "}\n",
       "\n",
       "#sk-container-id-1 pre {\n",
       "  padding: 0;\n",
       "}\n",
       "\n",
       "#sk-container-id-1 input.sk-hidden--visually {\n",
       "  border: 0;\n",
       "  clip: rect(1px 1px 1px 1px);\n",
       "  clip: rect(1px, 1px, 1px, 1px);\n",
       "  height: 1px;\n",
       "  margin: -1px;\n",
       "  overflow: hidden;\n",
       "  padding: 0;\n",
       "  position: absolute;\n",
       "  width: 1px;\n",
       "}\n",
       "\n",
       "#sk-container-id-1 div.sk-dashed-wrapped {\n",
       "  border: 1px dashed var(--sklearn-color-line);\n",
       "  margin: 0 0.4em 0.5em 0.4em;\n",
       "  box-sizing: border-box;\n",
       "  padding-bottom: 0.4em;\n",
       "  background-color: var(--sklearn-color-background);\n",
       "}\n",
       "\n",
       "#sk-container-id-1 div.sk-container {\n",
       "  /* jupyter's `normalize.less` sets `[hidden] { display: none; }`\n",
       "     but bootstrap.min.css set `[hidden] { display: none !important; }`\n",
       "     so we also need the `!important` here to be able to override the\n",
       "     default hidden behavior on the sphinx rendered scikit-learn.org.\n",
       "     See: https://github.com/scikit-learn/scikit-learn/issues/21755 */\n",
       "  display: inline-block !important;\n",
       "  position: relative;\n",
       "}\n",
       "\n",
       "#sk-container-id-1 div.sk-text-repr-fallback {\n",
       "  display: none;\n",
       "}\n",
       "\n",
       "div.sk-parallel-item,\n",
       "div.sk-serial,\n",
       "div.sk-item {\n",
       "  /* draw centered vertical line to link estimators */\n",
       "  background-image: linear-gradient(var(--sklearn-color-text-on-default-background), var(--sklearn-color-text-on-default-background));\n",
       "  background-size: 2px 100%;\n",
       "  background-repeat: no-repeat;\n",
       "  background-position: center center;\n",
       "}\n",
       "\n",
       "/* Parallel-specific style estimator block */\n",
       "\n",
       "#sk-container-id-1 div.sk-parallel-item::after {\n",
       "  content: \"\";\n",
       "  width: 100%;\n",
       "  border-bottom: 2px solid var(--sklearn-color-text-on-default-background);\n",
       "  flex-grow: 1;\n",
       "}\n",
       "\n",
       "#sk-container-id-1 div.sk-parallel {\n",
       "  display: flex;\n",
       "  align-items: stretch;\n",
       "  justify-content: center;\n",
       "  background-color: var(--sklearn-color-background);\n",
       "  position: relative;\n",
       "}\n",
       "\n",
       "#sk-container-id-1 div.sk-parallel-item {\n",
       "  display: flex;\n",
       "  flex-direction: column;\n",
       "}\n",
       "\n",
       "#sk-container-id-1 div.sk-parallel-item:first-child::after {\n",
       "  align-self: flex-end;\n",
       "  width: 50%;\n",
       "}\n",
       "\n",
       "#sk-container-id-1 div.sk-parallel-item:last-child::after {\n",
       "  align-self: flex-start;\n",
       "  width: 50%;\n",
       "}\n",
       "\n",
       "#sk-container-id-1 div.sk-parallel-item:only-child::after {\n",
       "  width: 0;\n",
       "}\n",
       "\n",
       "/* Serial-specific style estimator block */\n",
       "\n",
       "#sk-container-id-1 div.sk-serial {\n",
       "  display: flex;\n",
       "  flex-direction: column;\n",
       "  align-items: center;\n",
       "  background-color: var(--sklearn-color-background);\n",
       "  padding-right: 1em;\n",
       "  padding-left: 1em;\n",
       "}\n",
       "\n",
       "\n",
       "/* Toggleable style: style used for estimator/Pipeline/ColumnTransformer box that is\n",
       "clickable and can be expanded/collapsed.\n",
       "- Pipeline and ColumnTransformer use this feature and define the default style\n",
       "- Estimators will overwrite some part of the style using the `sk-estimator` class\n",
       "*/\n",
       "\n",
       "/* Pipeline and ColumnTransformer style (default) */\n",
       "\n",
       "#sk-container-id-1 div.sk-toggleable {\n",
       "  /* Default theme specific background. It is overwritten whether we have a\n",
       "  specific estimator or a Pipeline/ColumnTransformer */\n",
       "  background-color: var(--sklearn-color-background);\n",
       "}\n",
       "\n",
       "/* Toggleable label */\n",
       "#sk-container-id-1 label.sk-toggleable__label {\n",
       "  cursor: pointer;\n",
       "  display: block;\n",
       "  width: 100%;\n",
       "  margin-bottom: 0;\n",
       "  padding: 0.5em;\n",
       "  box-sizing: border-box;\n",
       "  text-align: center;\n",
       "}\n",
       "\n",
       "#sk-container-id-1 label.sk-toggleable__label-arrow:before {\n",
       "  /* Arrow on the left of the label */\n",
       "  content: \"▸\";\n",
       "  float: left;\n",
       "  margin-right: 0.25em;\n",
       "  color: var(--sklearn-color-icon);\n",
       "}\n",
       "\n",
       "#sk-container-id-1 label.sk-toggleable__label-arrow:hover:before {\n",
       "  color: var(--sklearn-color-text);\n",
       "}\n",
       "\n",
       "/* Toggleable content - dropdown */\n",
       "\n",
       "#sk-container-id-1 div.sk-toggleable__content {\n",
       "  max-height: 0;\n",
       "  max-width: 0;\n",
       "  overflow: hidden;\n",
       "  text-align: left;\n",
       "  /* unfitted */\n",
       "  background-color: var(--sklearn-color-unfitted-level-0);\n",
       "}\n",
       "\n",
       "#sk-container-id-1 div.sk-toggleable__content.fitted {\n",
       "  /* fitted */\n",
       "  background-color: var(--sklearn-color-fitted-level-0);\n",
       "}\n",
       "\n",
       "#sk-container-id-1 div.sk-toggleable__content pre {\n",
       "  margin: 0.2em;\n",
       "  border-radius: 0.25em;\n",
       "  color: var(--sklearn-color-text);\n",
       "  /* unfitted */\n",
       "  background-color: var(--sklearn-color-unfitted-level-0);\n",
       "}\n",
       "\n",
       "#sk-container-id-1 div.sk-toggleable__content.fitted pre {\n",
       "  /* unfitted */\n",
       "  background-color: var(--sklearn-color-fitted-level-0);\n",
       "}\n",
       "\n",
       "#sk-container-id-1 input.sk-toggleable__control:checked~div.sk-toggleable__content {\n",
       "  /* Expand drop-down */\n",
       "  max-height: 200px;\n",
       "  max-width: 100%;\n",
       "  overflow: auto;\n",
       "}\n",
       "\n",
       "#sk-container-id-1 input.sk-toggleable__control:checked~label.sk-toggleable__label-arrow:before {\n",
       "  content: \"▾\";\n",
       "}\n",
       "\n",
       "/* Pipeline/ColumnTransformer-specific style */\n",
       "\n",
       "#sk-container-id-1 div.sk-label input.sk-toggleable__control:checked~label.sk-toggleable__label {\n",
       "  color: var(--sklearn-color-text);\n",
       "  background-color: var(--sklearn-color-unfitted-level-2);\n",
       "}\n",
       "\n",
       "#sk-container-id-1 div.sk-label.fitted input.sk-toggleable__control:checked~label.sk-toggleable__label {\n",
       "  background-color: var(--sklearn-color-fitted-level-2);\n",
       "}\n",
       "\n",
       "/* Estimator-specific style */\n",
       "\n",
       "/* Colorize estimator box */\n",
       "#sk-container-id-1 div.sk-estimator input.sk-toggleable__control:checked~label.sk-toggleable__label {\n",
       "  /* unfitted */\n",
       "  background-color: var(--sklearn-color-unfitted-level-2);\n",
       "}\n",
       "\n",
       "#sk-container-id-1 div.sk-estimator.fitted input.sk-toggleable__control:checked~label.sk-toggleable__label {\n",
       "  /* fitted */\n",
       "  background-color: var(--sklearn-color-fitted-level-2);\n",
       "}\n",
       "\n",
       "#sk-container-id-1 div.sk-label label.sk-toggleable__label,\n",
       "#sk-container-id-1 div.sk-label label {\n",
       "  /* The background is the default theme color */\n",
       "  color: var(--sklearn-color-text-on-default-background);\n",
       "}\n",
       "\n",
       "/* On hover, darken the color of the background */\n",
       "#sk-container-id-1 div.sk-label:hover label.sk-toggleable__label {\n",
       "  color: var(--sklearn-color-text);\n",
       "  background-color: var(--sklearn-color-unfitted-level-2);\n",
       "}\n",
       "\n",
       "/* Label box, darken color on hover, fitted */\n",
       "#sk-container-id-1 div.sk-label.fitted:hover label.sk-toggleable__label.fitted {\n",
       "  color: var(--sklearn-color-text);\n",
       "  background-color: var(--sklearn-color-fitted-level-2);\n",
       "}\n",
       "\n",
       "/* Estimator label */\n",
       "\n",
       "#sk-container-id-1 div.sk-label label {\n",
       "  font-family: monospace;\n",
       "  font-weight: bold;\n",
       "  display: inline-block;\n",
       "  line-height: 1.2em;\n",
       "}\n",
       "\n",
       "#sk-container-id-1 div.sk-label-container {\n",
       "  text-align: center;\n",
       "}\n",
       "\n",
       "/* Estimator-specific */\n",
       "#sk-container-id-1 div.sk-estimator {\n",
       "  font-family: monospace;\n",
       "  border: 1px dotted var(--sklearn-color-border-box);\n",
       "  border-radius: 0.25em;\n",
       "  box-sizing: border-box;\n",
       "  margin-bottom: 0.5em;\n",
       "  /* unfitted */\n",
       "  background-color: var(--sklearn-color-unfitted-level-0);\n",
       "}\n",
       "\n",
       "#sk-container-id-1 div.sk-estimator.fitted {\n",
       "  /* fitted */\n",
       "  background-color: var(--sklearn-color-fitted-level-0);\n",
       "}\n",
       "\n",
       "/* on hover */\n",
       "#sk-container-id-1 div.sk-estimator:hover {\n",
       "  /* unfitted */\n",
       "  background-color: var(--sklearn-color-unfitted-level-2);\n",
       "}\n",
       "\n",
       "#sk-container-id-1 div.sk-estimator.fitted:hover {\n",
       "  /* fitted */\n",
       "  background-color: var(--sklearn-color-fitted-level-2);\n",
       "}\n",
       "\n",
       "/* Specification for estimator info (e.g. \"i\" and \"?\") */\n",
       "\n",
       "/* Common style for \"i\" and \"?\" */\n",
       "\n",
       ".sk-estimator-doc-link,\n",
       "a:link.sk-estimator-doc-link,\n",
       "a:visited.sk-estimator-doc-link {\n",
       "  float: right;\n",
       "  font-size: smaller;\n",
       "  line-height: 1em;\n",
       "  font-family: monospace;\n",
       "  background-color: var(--sklearn-color-background);\n",
       "  border-radius: 1em;\n",
       "  height: 1em;\n",
       "  width: 1em;\n",
       "  text-decoration: none !important;\n",
       "  margin-left: 1ex;\n",
       "  /* unfitted */\n",
       "  border: var(--sklearn-color-unfitted-level-1) 1pt solid;\n",
       "  color: var(--sklearn-color-unfitted-level-1);\n",
       "}\n",
       "\n",
       ".sk-estimator-doc-link.fitted,\n",
       "a:link.sk-estimator-doc-link.fitted,\n",
       "a:visited.sk-estimator-doc-link.fitted {\n",
       "  /* fitted */\n",
       "  border: var(--sklearn-color-fitted-level-1) 1pt solid;\n",
       "  color: var(--sklearn-color-fitted-level-1);\n",
       "}\n",
       "\n",
       "/* On hover */\n",
       "div.sk-estimator:hover .sk-estimator-doc-link:hover,\n",
       ".sk-estimator-doc-link:hover,\n",
       "div.sk-label-container:hover .sk-estimator-doc-link:hover,\n",
       ".sk-estimator-doc-link:hover {\n",
       "  /* unfitted */\n",
       "  background-color: var(--sklearn-color-unfitted-level-3);\n",
       "  color: var(--sklearn-color-background);\n",
       "  text-decoration: none;\n",
       "}\n",
       "\n",
       "div.sk-estimator.fitted:hover .sk-estimator-doc-link.fitted:hover,\n",
       ".sk-estimator-doc-link.fitted:hover,\n",
       "div.sk-label-container:hover .sk-estimator-doc-link.fitted:hover,\n",
       ".sk-estimator-doc-link.fitted:hover {\n",
       "  /* fitted */\n",
       "  background-color: var(--sklearn-color-fitted-level-3);\n",
       "  color: var(--sklearn-color-background);\n",
       "  text-decoration: none;\n",
       "}\n",
       "\n",
       "/* Span, style for the box shown on hovering the info icon */\n",
       ".sk-estimator-doc-link span {\n",
       "  display: none;\n",
       "  z-index: 9999;\n",
       "  position: relative;\n",
       "  font-weight: normal;\n",
       "  right: .2ex;\n",
       "  padding: .5ex;\n",
       "  margin: .5ex;\n",
       "  width: min-content;\n",
       "  min-width: 20ex;\n",
       "  max-width: 50ex;\n",
       "  color: var(--sklearn-color-text);\n",
       "  box-shadow: 2pt 2pt 4pt #999;\n",
       "  /* unfitted */\n",
       "  background: var(--sklearn-color-unfitted-level-0);\n",
       "  border: .5pt solid var(--sklearn-color-unfitted-level-3);\n",
       "}\n",
       "\n",
       ".sk-estimator-doc-link.fitted span {\n",
       "  /* fitted */\n",
       "  background: var(--sklearn-color-fitted-level-0);\n",
       "  border: var(--sklearn-color-fitted-level-3);\n",
       "}\n",
       "\n",
       ".sk-estimator-doc-link:hover span {\n",
       "  display: block;\n",
       "}\n",
       "\n",
       "/* \"?\"-specific style due to the `<a>` HTML tag */\n",
       "\n",
       "#sk-container-id-1 a.estimator_doc_link {\n",
       "  float: right;\n",
       "  font-size: 1rem;\n",
       "  line-height: 1em;\n",
       "  font-family: monospace;\n",
       "  background-color: var(--sklearn-color-background);\n",
       "  border-radius: 1rem;\n",
       "  height: 1rem;\n",
       "  width: 1rem;\n",
       "  text-decoration: none;\n",
       "  /* unfitted */\n",
       "  color: var(--sklearn-color-unfitted-level-1);\n",
       "  border: var(--sklearn-color-unfitted-level-1) 1pt solid;\n",
       "}\n",
       "\n",
       "#sk-container-id-1 a.estimator_doc_link.fitted {\n",
       "  /* fitted */\n",
       "  border: var(--sklearn-color-fitted-level-1) 1pt solid;\n",
       "  color: var(--sklearn-color-fitted-level-1);\n",
       "}\n",
       "\n",
       "/* On hover */\n",
       "#sk-container-id-1 a.estimator_doc_link:hover {\n",
       "  /* unfitted */\n",
       "  background-color: var(--sklearn-color-unfitted-level-3);\n",
       "  color: var(--sklearn-color-background);\n",
       "  text-decoration: none;\n",
       "}\n",
       "\n",
       "#sk-container-id-1 a.estimator_doc_link.fitted:hover {\n",
       "  /* fitted */\n",
       "  background-color: var(--sklearn-color-fitted-level-3);\n",
       "}\n",
       "</style><div id=\"sk-container-id-1\" class=\"sk-top-container\"><div class=\"sk-text-repr-fallback\"><pre>XGBClassifier(base_score=None, booster=None, callbacks=None,\n",
       "              colsample_bylevel=None, colsample_bynode=0.5353708710577316,\n",
       "              colsample_bytree=None, device=None, early_stopping_rounds=None,\n",
       "              enable_categorical=False,\n",
       "              eval_metric=&lt;function custom_f1_score at 0x7f986b743ec0&gt;,\n",
       "              feature_types=None, gamma=None, grow_policy=None,\n",
       "              importance_type=None, interaction_constraints=None,\n",
       "              learning_rate=0.4719565654723121, max_bin=None,\n",
       "              max_cat_threshold=None, max_cat_to_onehot=None,\n",
       "              max_delta_step=None, max_depth=18, max_leaves=None,\n",
       "              min_child_weight=48, missing=nan, monotone_constraints=None,\n",
       "              multi_strategy=None, n_estimators=63, n_jobs=None,\n",
       "              num_parallel_tree=None, objective=&#x27;multi:softprob&#x27;, ...)</pre><b>In a Jupyter environment, please rerun this cell to show the HTML representation or trust the notebook. <br />On GitHub, the HTML representation is unable to render, please try loading this page with nbviewer.org.</b></div><div class=\"sk-container\" hidden><div class=\"sk-item\"><div class=\"sk-estimator fitted sk-toggleable\"><input class=\"sk-toggleable__control sk-hidden--visually\" id=\"sk-estimator-id-1\" type=\"checkbox\" checked><label for=\"sk-estimator-id-1\" class=\"sk-toggleable__label fitted sk-toggleable__label-arrow fitted\">&nbsp;XGBClassifier<span class=\"sk-estimator-doc-link fitted\">i<span>Fitted</span></span></label><div class=\"sk-toggleable__content fitted\"><pre>XGBClassifier(base_score=None, booster=None, callbacks=None,\n",
       "              colsample_bylevel=None, colsample_bynode=0.5353708710577316,\n",
       "              colsample_bytree=None, device=None, early_stopping_rounds=None,\n",
       "              enable_categorical=False,\n",
       "              eval_metric=&lt;function custom_f1_score at 0x7f986b743ec0&gt;,\n",
       "              feature_types=None, gamma=None, grow_policy=None,\n",
       "              importance_type=None, interaction_constraints=None,\n",
       "              learning_rate=0.4719565654723121, max_bin=None,\n",
       "              max_cat_threshold=None, max_cat_to_onehot=None,\n",
       "              max_delta_step=None, max_depth=18, max_leaves=None,\n",
       "              min_child_weight=48, missing=nan, monotone_constraints=None,\n",
       "              multi_strategy=None, n_estimators=63, n_jobs=None,\n",
       "              num_parallel_tree=None, objective=&#x27;multi:softprob&#x27;, ...)</pre></div> </div></div></div></div>"
      ],
      "text/plain": [
       "XGBClassifier(base_score=None, booster=None, callbacks=None,\n",
       "              colsample_bylevel=None, colsample_bynode=0.5353708710577316,\n",
       "              colsample_bytree=None, device=None, early_stopping_rounds=None,\n",
       "              enable_categorical=False,\n",
       "              eval_metric=<function custom_f1_score at 0x7f986b743ec0>,\n",
       "              feature_types=None, gamma=None, grow_policy=None,\n",
       "              importance_type=None, interaction_constraints=None,\n",
       "              learning_rate=0.4719565654723121, max_bin=None,\n",
       "              max_cat_threshold=None, max_cat_to_onehot=None,\n",
       "              max_delta_step=None, max_depth=18, max_leaves=None,\n",
       "              min_child_weight=48, missing=nan, monotone_constraints=None,\n",
       "              multi_strategy=None, n_estimators=63, n_jobs=None,\n",
       "              num_parallel_tree=None, objective='multi:softprob', ...)"
      ]
     },
     "execution_count": 21,
     "metadata": {},
     "output_type": "execute_result"
    }
   ],
   "source": [
    "n_estimators = int(study.best_trial.user_attrs['best_iteration']*1.2)\n",
    "xgb = xgboost.XGBClassifier(\n",
    "        eval_metric=eval_metric,\n",
    "        n_estimators=n_estimators,\n",
    "        **study.best_trial.params\n",
    "    )\n",
    "xgb.fit(\n",
    "    ssp.vstack((X_train, X_val)), \n",
    "    np.concatenate((y_train_enc, y_val_enc)),\n",
    "    verbose=1,\n",
    ")"
   ]
  },
  {
   "cell_type": "code",
   "execution_count": 22,
   "id": "287d22b9",
   "metadata": {
    "execution": {
     "iopub.execute_input": "2025-05-14T16:15:01.849528Z",
     "iopub.status.busy": "2025-05-14T16:15:01.849298Z",
     "iopub.status.idle": "2025-05-14T16:15:01.905430Z",
     "shell.execute_reply": "2025-05-14T16:15:01.905059Z"
    },
    "papermill": {
     "duration": 0.066889,
     "end_time": "2025-05-14T16:15:01.906423",
     "exception": false,
     "start_time": "2025-05-14T16:15:01.839534",
     "status": "completed"
    },
    "tags": []
   },
   "outputs": [
    {
     "data": {
      "text/plain": [
       "['/scratch_isilon/groups/singlecell/shared/projects/Inflammation-PBMCs-Atlas/03_downstream_analysis/08_gene_importance/xgboost_external_validation/xgboost_TopN_genes/results_20/best_model/T_CD4_Naive_shap_disease_NOstudy_1_xgb.json']"
      ]
     },
     "execution_count": 22,
     "metadata": {},
     "output_type": "execute_result"
    }
   ],
   "source": [
    "out_dir = here(f'03_downstream_analysis/08_gene_importance/xgboost_external_validation/xgboost_TopN_genes/results_{N_GENES}/best_model')\n",
    "\n",
    "if not os.path.exists(out_dir):\n",
    "    os.makedirs(out_dir)\n",
    "    \n",
    "joblib.dump(xgb, os.path.join(out_dir, f'{CELL_TYPE}_{SEED}_{TEST_SPLIT_IDX}_xgb.json'))"
   ]
  },
  {
   "cell_type": "code",
   "execution_count": 23,
   "id": "370f0516",
   "metadata": {
    "execution": {
     "iopub.execute_input": "2025-05-14T16:15:01.963394Z",
     "iopub.status.busy": "2025-05-14T16:15:01.963081Z",
     "iopub.status.idle": "2025-05-14T16:15:02.177576Z",
     "shell.execute_reply": "2025-05-14T16:15:02.177136Z"
    },
    "papermill": {
     "duration": 0.229536,
     "end_time": "2025-05-14T16:15:02.178872",
     "exception": false,
     "start_time": "2025-05-14T16:15:01.949336",
     "status": "completed"
    },
    "tags": []
   },
   "outputs": [],
   "source": [
    "df_pred_test = pd.DataFrame(dict(\n",
    "    cell_id=train_adata.obs.iloc[test_idxs].index.values,\n",
    "    y_true=y_test, \n",
    "    y_true_code=y_test_enc, \n",
    "    y_pred=xgb.predict(X_test))).set_index('cell_id')"
   ]
  },
  {
   "cell_type": "code",
   "execution_count": 24,
   "id": "a19b4b89",
   "metadata": {
    "execution": {
     "iopub.execute_input": "2025-05-14T16:15:02.231927Z",
     "iopub.status.busy": "2025-05-14T16:15:02.231629Z",
     "iopub.status.idle": "2025-05-14T16:15:02.335453Z",
     "shell.execute_reply": "2025-05-14T16:15:02.334917Z"
    },
    "papermill": {
     "duration": 0.123745,
     "end_time": "2025-05-14T16:15:02.336730",
     "exception": false,
     "start_time": "2025-05-14T16:15:02.212985",
     "status": "completed"
    },
    "tags": []
   },
   "outputs": [],
   "source": [
    "out_dir = here(f'03_downstream_analysis/08_gene_importance/xgboost_external_validation/xgboost_TopN_genes/results_{N_GENES}/predictions')\n",
    "\n",
    "if not os.path.exists(out_dir):\n",
    "    os.makedirs(out_dir)\n",
    "    \n",
    "df_pred_test.to_csv(os.path.join(out_dir, f'{CELL_TYPE}_{SEED}_{TEST_SPLIT_IDX}_pred_test.zip'))"
   ]
  },
  {
   "cell_type": "code",
   "execution_count": 25,
   "id": "7772aebc",
   "metadata": {
    "execution": {
     "iopub.execute_input": "2025-05-14T16:15:02.375903Z",
     "iopub.status.busy": "2025-05-14T16:15:02.375695Z",
     "iopub.status.idle": "2025-05-14T16:15:02.387496Z",
     "shell.execute_reply": "2025-05-14T16:15:02.387101Z"
    },
    "papermill": {
     "duration": 0.023185,
     "end_time": "2025-05-14T16:15:02.388375",
     "exception": false,
     "start_time": "2025-05-14T16:15:02.365190",
     "status": "completed"
    },
    "tags": []
   },
   "outputs": [],
   "source": [
    "metrics_dict = dict(\n",
    "    BAS=balanced_accuracy_score(y_true=df_pred_test.y_true_code, y_pred=df_pred_test.y_pred), WF1=f1_score(y_true=df_pred_test.y_true_code, y_pred=df_pred_test.y_pred,average='weighted'))"
   ]
  },
  {
   "cell_type": "code",
   "execution_count": 26,
   "id": "60116286",
   "metadata": {
    "execution": {
     "iopub.execute_input": "2025-05-14T16:15:02.408438Z",
     "iopub.status.busy": "2025-05-14T16:15:02.407874Z",
     "iopub.status.idle": "2025-05-14T16:15:02.411220Z",
     "shell.execute_reply": "2025-05-14T16:15:02.410910Z"
    },
    "papermill": {
     "duration": 0.014422,
     "end_time": "2025-05-14T16:15:02.412113",
     "exception": false,
     "start_time": "2025-05-14T16:15:02.397691",
     "status": "completed"
    },
    "tags": []
   },
   "outputs": [
    {
     "data": {
      "text/plain": [
       "{'BAS': 0.6145631392474096, 'WF1': 0.8180109801244008}"
      ]
     },
     "execution_count": 26,
     "metadata": {},
     "output_type": "execute_result"
    }
   ],
   "source": [
    "metrics_dict"
   ]
  },
  {
   "cell_type": "code",
   "execution_count": 27,
   "id": "d0c71d63",
   "metadata": {
    "execution": {
     "iopub.execute_input": "2025-05-14T16:15:02.451983Z",
     "iopub.status.busy": "2025-05-14T16:15:02.451631Z",
     "iopub.status.idle": "2025-05-14T16:15:02.461618Z",
     "shell.execute_reply": "2025-05-14T16:15:02.461258Z"
    },
    "papermill": {
     "duration": 0.0224,
     "end_time": "2025-05-14T16:15:02.462662",
     "exception": false,
     "start_time": "2025-05-14T16:15:02.440262",
     "status": "completed"
    },
    "tags": []
   },
   "outputs": [
    {
     "data": {
      "text/html": [
       "<div>\n",
       "<style scoped>\n",
       "    .dataframe tbody tr th:only-of-type {\n",
       "        vertical-align: middle;\n",
       "    }\n",
       "\n",
       "    .dataframe tbody tr th {\n",
       "        vertical-align: top;\n",
       "    }\n",
       "\n",
       "    .dataframe thead th {\n",
       "        text-align: right;\n",
       "    }\n",
       "</style>\n",
       "<table border=\"1\" class=\"dataframe\">\n",
       "  <thead>\n",
       "    <tr style=\"text-align: right;\">\n",
       "      <th></th>\n",
       "      <th>BAS</th>\n",
       "      <th>WF1</th>\n",
       "      <th>split_idx</th>\n",
       "      <th>gene_set_seed</th>\n",
       "      <th>cell_type</th>\n",
       "    </tr>\n",
       "  </thead>\n",
       "  <tbody>\n",
       "    <tr>\n",
       "      <th>0</th>\n",
       "      <td>0.614563</td>\n",
       "      <td>0.818011</td>\n",
       "      <td>1</td>\n",
       "      <td>shap_disease_NOstudy</td>\n",
       "      <td>T_CD4_Naive</td>\n",
       "    </tr>\n",
       "  </tbody>\n",
       "</table>\n",
       "</div>"
      ],
      "text/plain": [
       "        BAS       WF1  split_idx         gene_set_seed    cell_type\n",
       "0  0.614563  0.818011          1  shap_disease_NOstudy  T_CD4_Naive"
      ]
     },
     "execution_count": 27,
     "metadata": {},
     "output_type": "execute_result"
    }
   ],
   "source": [
    "metrics_df = pd.DataFrame.from_dict([metrics_dict]).assign(split_idx=TEST_SPLIT_IDX, gene_set_seed=SEED, cell_type=CELL_TYPE)\n",
    "metrics_df"
   ]
  },
  {
   "cell_type": "code",
   "execution_count": 28,
   "id": "44b53a30",
   "metadata": {
    "execution": {
     "iopub.execute_input": "2025-05-14T16:15:02.485988Z",
     "iopub.status.busy": "2025-05-14T16:15:02.485297Z",
     "iopub.status.idle": "2025-05-14T16:15:02.495740Z",
     "shell.execute_reply": "2025-05-14T16:15:02.495201Z"
    },
    "papermill": {
     "duration": 0.022946,
     "end_time": "2025-05-14T16:15:02.496882",
     "exception": false,
     "start_time": "2025-05-14T16:15:02.473936",
     "status": "completed"
    },
    "tags": []
   },
   "outputs": [],
   "source": [
    "out_dir = here(f'03_downstream_analysis/08_gene_importance/xgboost_external_validation/xgboost_TopN_genes/results_{N_GENES}/metrics')\n",
    "\n",
    "if not os.path.exists(out_dir):\n",
    "    os.makedirs(out_dir)\n",
    "    \n",
    "metrics_df.to_csv(os.path.join(out_dir, f'{CELL_TYPE}_{SEED}_{TEST_SPLIT_IDX}_metrics.zip'))"
   ]
  }
 ],
 "metadata": {
  "kernelspec": {
   "display_name": "Python 3 (ipykernel)",
   "language": "python",
   "name": "python3"
  },
  "language_info": {
   "codemirror_mode": {
    "name": "ipython",
    "version": 3
   },
   "file_extension": ".py",
   "mimetype": "text/x-python",
   "name": "python",
   "nbconvert_exporter": "python",
   "pygments_lexer": "ipython3",
   "version": "3.12.5"
  },
  "papermill": {
   "default_parameters": {},
   "duration": 451.134427,
   "end_time": "2025-05-14T16:15:03.146132",
   "environment_variables": {},
   "exception": null,
   "input_path": "02_xgboost_fitting_external_20genes.ipynb",
   "output_path": "results_20/executed_notebooks/xgboost_fitting_external_CT_T_CD4_Naive_GS_shap_disease_NOstudy_seed1.ipynb",
   "parameters": {
    "CELL_TYPE": "T_CD4_Naive",
    "SEED": "shap_disease_NOstudy",
    "TEST_SPLIT_IDX": 1
   },
   "start_time": "2025-05-14T16:07:32.011705",
   "version": "2.6.0"
  }
 },
 "nbformat": 4,
 "nbformat_minor": 5
}