{
 "cells": [
  {
   "cell_type": "code",
   "execution_count": 1,
   "id": "cb4c6382",
   "metadata": {
    "editable": true,
    "execution": {
     "iopub.execute_input": "2025-06-13T13:10:04.449281Z",
     "iopub.status.busy": "2025-06-13T13:10:04.448911Z",
     "iopub.status.idle": "2025-06-13T13:10:04.451511Z",
     "shell.execute_reply": "2025-06-13T13:10:04.451226Z"
    },
    "papermill": {
     "duration": 0.012184,
     "end_time": "2025-06-13T13:10:04.452605",
     "exception": false,
     "start_time": "2025-06-13T13:10:04.440421",
     "status": "completed"
    },
    "slideshow": {
     "slide_type": ""
    },
    "tags": [
     "parameters"
    ]
   },
   "outputs": [],
   "source": [
    "CELL_TYPE = 'pDC'\n",
    "N_GENES: int = 20\n",
    "SEED = 'shap_studyID' #'disease_NOstudy' 'study_NOdisease' or 'int' or 'shap_studyID'\n",
    "TEST_SPLIT_IDX: int = 1 #[0,4]"
   ]
  },
  {
   "cell_type": "code",
   "execution_count": 2,
   "id": "6102dc8b",
   "metadata": {
    "execution": {
     "iopub.execute_input": "2025-06-13T13:10:04.504693Z",
     "iopub.status.busy": "2025-06-13T13:10:04.504318Z",
     "iopub.status.idle": "2025-06-13T13:10:04.506397Z",
     "shell.execute_reply": "2025-06-13T13:10:04.506098Z"
    },
    "papermill": {
     "duration": 0.01109,
     "end_time": "2025-06-13T13:10:04.507177",
     "exception": false,
     "start_time": "2025-06-13T13:10:04.496087",
     "status": "completed"
    },
    "tags": [
     "injected-parameters"
    ]
   },
   "outputs": [],
   "source": [
    "# Parameters\n",
    "CELL_TYPE = \"Plasma\"\n",
    "SEED = \"shap_studyID_samesize\"\n",
    "TEST_SPLIT_IDX = 1\n"
   ]
  },
  {
   "cell_type": "code",
   "execution_count": 3,
   "id": "63f8373c",
   "metadata": {
    "execution": {
     "iopub.execute_input": "2025-06-13T13:10:04.520677Z",
     "iopub.status.busy": "2025-06-13T13:10:04.520442Z",
     "iopub.status.idle": "2025-06-13T13:10:04.522967Z",
     "shell.execute_reply": "2025-06-13T13:10:04.522678Z"
    },
    "papermill": {
     "duration": 0.00959,
     "end_time": "2025-06-13T13:10:04.523763",
     "exception": false,
     "start_time": "2025-06-13T13:10:04.514173",
     "status": "completed"
    },
    "tags": []
   },
   "outputs": [],
   "source": [
    "N_SPLITS: int = 5\n",
    "N_TRIALS: int = 50"
   ]
  },
  {
   "cell_type": "code",
   "execution_count": 4,
   "id": "42de2a1c",
   "metadata": {
    "execution": {
     "iopub.execute_input": "2025-06-13T13:10:04.535515Z",
     "iopub.status.busy": "2025-06-13T13:10:04.535294Z",
     "iopub.status.idle": "2025-06-13T13:10:06.271800Z",
     "shell.execute_reply": "2025-06-13T13:10:06.271264Z"
    },
    "papermill": {
     "duration": 1.744113,
     "end_time": "2025-06-13T13:10:06.273189",
     "exception": false,
     "start_time": "2025-06-13T13:10:04.529076",
     "status": "completed"
    },
    "tags": []
   },
   "outputs": [],
   "source": [
    "import os\n",
    "import sys\n",
    "from pyprojroot.here import here\n",
    "import pandas as pd\n",
    "import anndata as ad\n",
    "import numpy as np\n",
    "import math\n",
    "from sklearn.model_selection import StratifiedGroupKFold\n",
    "from sklearn.preprocessing import LabelEncoder\n",
    "from sklearn.metrics import f1_score\n",
    "import matplotlib.pyplot as plt\n",
    "import seaborn as sns\n",
    "from itertools import product\n",
    "from sklearn.metrics import balanced_accuracy_score, f1_score\n",
    "import optuna\n",
    "\n",
    "import joblib\n",
    "import pickle\n",
    "import datetime\n",
    "\n",
    "import collections\n",
    "\n",
    "import xgboost\n",
    "from sklearn.preprocessing import LabelEncoder\n",
    "\n",
    "import scipy.sparse as ssp\n",
    "import joblib\n",
    "\n",
    "from dotenv import load_dotenv"
   ]
  },
  {
   "cell_type": "code",
   "execution_count": 5,
   "id": "4bf9415c",
   "metadata": {
    "execution": {
     "iopub.execute_input": "2025-06-13T13:10:06.286859Z",
     "iopub.status.busy": "2025-06-13T13:10:06.286485Z",
     "iopub.status.idle": "2025-06-13T13:10:06.292150Z",
     "shell.execute_reply": "2025-06-13T13:10:06.291841Z"
    },
    "papermill": {
     "duration": 0.012174,
     "end_time": "2025-06-13T13:10:06.292978",
     "exception": false,
     "start_time": "2025-06-13T13:10:06.280804",
     "status": "completed"
    },
    "tags": []
   },
   "outputs": [
    {
     "data": {
      "text/plain": [
       "True"
      ]
     },
     "execution_count": 5,
     "metadata": {},
     "output_type": "execute_result"
    }
   ],
   "source": [
    "load_dotenv()"
   ]
  },
  {
   "cell_type": "markdown",
   "id": "a7b3e933",
   "metadata": {
    "papermill": {
     "duration": 0.005499,
     "end_time": "2025-06-13T13:10:06.303851",
     "exception": false,
     "start_time": "2025-06-13T13:10:06.298352",
     "status": "completed"
    },
    "tags": []
   },
   "source": [
    "# LOAD DATASET"
   ]
  },
  {
   "cell_type": "code",
   "execution_count": 6,
   "id": "20c30b9b",
   "metadata": {
    "execution": {
     "iopub.execute_input": "2025-06-13T13:10:06.315963Z",
     "iopub.status.busy": "2025-06-13T13:10:06.315724Z",
     "iopub.status.idle": "2025-06-13T13:10:06.354842Z",
     "shell.execute_reply": "2025-06-13T13:10:06.354478Z"
    },
    "papermill": {
     "duration": 0.04682,
     "end_time": "2025-06-13T13:10:06.355822",
     "exception": false,
     "start_time": "2025-06-13T13:10:06.309002",
     "status": "completed"
    },
    "tags": []
   },
   "outputs": [],
   "source": [
    "train_adata = ad.read_h5ad(\n",
    "    here(f'03_downstream_analysis/08_gene_importance/xgboost_external_validation/xgboost_TopN_genes/data_cellTypes/EXTERNAL_{CELL_TYPE}.filtered.log1p.h5ad')\n",
    ")"
   ]
  },
  {
   "cell_type": "code",
   "execution_count": 7,
   "id": "7cf66a8a",
   "metadata": {
    "execution": {
     "iopub.execute_input": "2025-06-13T13:10:06.367363Z",
     "iopub.status.busy": "2025-06-13T13:10:06.367093Z",
     "iopub.status.idle": "2025-06-13T13:10:06.376201Z",
     "shell.execute_reply": "2025-06-13T13:10:06.375900Z"
    },
    "papermill": {
     "duration": 0.015406,
     "end_time": "2025-06-13T13:10:06.377044",
     "exception": false,
     "start_time": "2025-06-13T13:10:06.361638",
     "status": "completed"
    },
    "tags": []
   },
   "outputs": [
    {
     "name": "stdout",
     "output_type": "stream",
     "text": [
      "['ENSG00000229474' 'ENSG00000105329' 'ENSG00000117318' 'ENSG00000165949'\n",
      " 'ENSG00000197111' 'ENSG00000108561' 'ENSG00000137441' 'ENSG00000119655'\n",
      " 'ENSG00000089737' 'ENSG00000116191' 'ENSG00000265972' 'ENSG00000013297'\n",
      " 'ENSG00000155380' 'ENSG00000068796' 'ENSG00000211892' 'ENSG00000048462'\n",
      " 'ENSG00000125347' 'ENSG00000243749' 'ENSG00000127528' 'ENSG00000181029'\n",
      " 'ENSG00000163660' 'ENSG00000205220' 'ENSG00000243678' 'ENSG00000123358'\n",
      " 'ENSG00000198355' 'ENSG00000152082' 'ENSG00000005844' 'ENSG00000216490'\n",
      " 'ENSG00000140564' 'ENSG00000158769' 'ENSG00000137801' 'ENSG00000090339'\n",
      " 'ENSG00000237541' 'ENSG00000170345' 'ENSG00000184897' 'ENSG00000108622'\n",
      " 'ENSG00000211895' 'ENSG00000206503' 'ENSG00000105221' 'ENSG00000027697'\n",
      " 'ENSG00000219200' 'ENSG00000175104' 'ENSG00000214212' 'ENSG00000130830'\n",
      " 'ENSG00000127951' 'ENSG00000134107' 'ENSG00000030582' 'ENSG00000120837'\n",
      " 'ENSG00000213928' 'ENSG00000171223' 'ENSG00000254772' 'ENSG00000244687'\n",
      " 'ENSG00000026025' 'ENSG00000158869' 'ENSG00000211890' 'ENSG00000186395'\n",
      " 'ENSG00000185338' 'ENSG00000228474' 'ENSG00000203896' 'ENSG00000143333'\n",
      " 'ENSG00000165527' 'ENSG00000211897' 'ENSG00000162512' 'ENSG00000118515'\n",
      " 'ENSG00000104856' 'ENSG00000170540' 'ENSG00000105373' 'ENSG00000102524'\n",
      " 'ENSG00000145287' 'ENSG00000185745' 'ENSG00000011600' 'ENSG00000277632'\n",
      " 'ENSG00000135968' 'ENSG00000163737' 'ENSG00000143546' 'ENSG00000100906'\n",
      " 'ENSG00000185883' 'ENSG00000163220' 'ENSG00000211893' 'ENSG00000084207'\n",
      " 'ENSG00000177606' 'ENSG00000169564' 'ENSG00000159110' 'ENSG00000069399'\n",
      " 'ENSG00000143543' 'ENSG00000163659' 'ENSG00000258315' 'ENSG00000051523'\n",
      " 'ENSG00000076662' 'ENSG00000115523' 'ENSG00000088986' 'ENSG00000125740'\n",
      " 'ENSG00000204267' 'ENSG00000131788' 'ENSG00000126709' 'ENSG00000136514'\n",
      " 'ENSG00000121966' 'ENSG00000137959' 'ENSG00000142227' 'ENSG00000163221'\n",
      " 'ENSG00000204525' 'ENSG00000242616' 'ENSG00000092820' 'ENSG00000124762'\n",
      " 'ENSG00000154589' 'ENSG00000105583' 'ENSG00000152234' 'ENSG00000182985']\n"
     ]
    }
   ],
   "source": [
    "if SEED != 'all':\n",
    "    gene_subset = np.load(here(f'03_downstream_analysis/08_gene_importance/xgboost_external_validation/shap_gene_selection/gene_subsets_{N_GENES}/{CELL_TYPE}_{SEED}.npy'), allow_pickle=True)\n",
    "    train_adata = train_adata[:,gene_subset]\n",
    "    print(gene_subset)\n",
    "elif SEED == 'all':\n",
    "    print('Using all genes')\n",
    "else:\n",
    "    raise ValueError()"
   ]
  },
  {
   "cell_type": "code",
   "execution_count": 8,
   "id": "2b091307",
   "metadata": {
    "execution": {
     "iopub.execute_input": "2025-06-13T13:10:06.387956Z",
     "iopub.status.busy": "2025-06-13T13:10:06.387692Z",
     "iopub.status.idle": "2025-06-13T13:10:06.390449Z",
     "shell.execute_reply": "2025-06-13T13:10:06.390151Z"
    },
    "papermill": {
     "duration": 0.008883,
     "end_time": "2025-06-13T13:10:06.391219",
     "exception": false,
     "start_time": "2025-06-13T13:10:06.382336",
     "status": "completed"
    },
    "tags": []
   },
   "outputs": [
    {
     "data": {
      "text/plain": [
       "(542, 108)"
      ]
     },
     "execution_count": 8,
     "metadata": {},
     "output_type": "execute_result"
    }
   ],
   "source": [
    "train_adata.shape"
   ]
  },
  {
   "cell_type": "code",
   "execution_count": 9,
   "id": "f45e2c0f",
   "metadata": {
    "execution": {
     "iopub.execute_input": "2025-06-13T13:10:06.403615Z",
     "iopub.status.busy": "2025-06-13T13:10:06.403392Z",
     "iopub.status.idle": "2025-06-13T13:10:06.406612Z",
     "shell.execute_reply": "2025-06-13T13:10:06.406311Z"
    },
    "papermill": {
     "duration": 0.009757,
     "end_time": "2025-06-13T13:10:06.407382",
     "exception": false,
     "start_time": "2025-06-13T13:10:06.397625",
     "status": "completed"
    },
    "tags": []
   },
   "outputs": [
    {
     "data": {
      "text/plain": [
       "['RA', 'COVID', 'healthy', 'HIV', 'cirrhosis', 'CD', 'SLE', 'sepsis']\n",
       "Categories (8, object): ['CD', 'COVID', 'HIV', 'RA', 'SLE', 'cirrhosis', 'healthy', 'sepsis']"
      ]
     },
     "execution_count": 9,
     "metadata": {},
     "output_type": "execute_result"
    }
   ],
   "source": [
    "train_adata.obs.disease.unique()"
   ]
  },
  {
   "cell_type": "code",
   "execution_count": 10,
   "id": "45980741",
   "metadata": {
    "execution": {
     "iopub.execute_input": "2025-06-13T13:10:06.418152Z",
     "iopub.status.busy": "2025-06-13T13:10:06.417987Z",
     "iopub.status.idle": "2025-06-13T13:10:06.421362Z",
     "shell.execute_reply": "2025-06-13T13:10:06.421067Z"
    },
    "papermill": {
     "duration": 0.009683,
     "end_time": "2025-06-13T13:10:06.422171",
     "exception": false,
     "start_time": "2025-06-13T13:10:06.412488",
     "status": "completed"
    },
    "tags": []
   },
   "outputs": [
    {
     "data": {
      "text/plain": [
       "['SCGT00val_I0364_T0', 'SCGT00val_I036019_T0', 'SCGT00val_I036028_T0', 'SCGT00val_I036024_T0', 'SCGT00val_I036016_T0', ..., '10XGenomics_10XHC2_T0', '10XGenomics_10XHC3_T0', '10XGenomics_10XHC5_T0', '10XGenomics_10XHC7_T0', '10XGenomics_10XHC8_T0']\n",
       "Length: 74\n",
       "Categories (74, object): ['10XGenomics_10XHC1_T0', '10XGenomics_10XHC2_T0', '10XGenomics_10XHC3_T0', '10XGenomics_10XHC4_T0', ..., 'Savage2021_BRISL6_T0', 'Savage2021_BRISL7_T0', 'Savage2021_PIDA_T0', 'Savage2021_PIDB_T0']"
      ]
     },
     "execution_count": 10,
     "metadata": {},
     "output_type": "execute_result"
    }
   ],
   "source": [
    "train_adata.obs.sampleID.unique()"
   ]
  },
  {
   "cell_type": "code",
   "execution_count": 11,
   "id": "4b638c87",
   "metadata": {
    "execution": {
     "iopub.execute_input": "2025-06-13T13:10:06.433175Z",
     "iopub.status.busy": "2025-06-13T13:10:06.433008Z",
     "iopub.status.idle": "2025-06-13T13:10:06.460977Z",
     "shell.execute_reply": "2025-06-13T13:10:06.460650Z"
    },
    "papermill": {
     "duration": 0.034218,
     "end_time": "2025-06-13T13:10:06.461786",
     "exception": false,
     "start_time": "2025-06-13T13:10:06.427568",
     "status": "completed"
    },
    "tags": []
   },
   "outputs": [],
   "source": [
    "all_idxs = np.arange(train_adata.obs.shape[0])\n",
    "left_out_splits = [s[1] for s in StratifiedGroupKFold(n_splits=N_SPLITS).split(all_idxs, train_adata.obs.disease, train_adata.obs.sampleID)]"
   ]
  },
  {
   "cell_type": "code",
   "execution_count": 12,
   "id": "609105e5",
   "metadata": {
    "execution": {
     "iopub.execute_input": "2025-06-13T13:10:06.473182Z",
     "iopub.status.busy": "2025-06-13T13:10:06.472959Z",
     "iopub.status.idle": "2025-06-13T13:10:06.475805Z",
     "shell.execute_reply": "2025-06-13T13:10:06.475510Z"
    },
    "papermill": {
     "duration": 0.009646,
     "end_time": "2025-06-13T13:10:06.476609",
     "exception": false,
     "start_time": "2025-06-13T13:10:06.466963",
     "status": "completed"
    },
    "tags": []
   },
   "outputs": [
    {
     "data": {
      "text/plain": [
       "([0, 3, 4], 2, 1)"
      ]
     },
     "execution_count": 12,
     "metadata": {},
     "output_type": "execute_result"
    }
   ],
   "source": [
    "TRAIN_SPLIT_IDXS = [0,1,2,3,4]\n",
    "VAL_SPLIT_IDX = (TEST_SPLIT_IDX + 1) % 5\n",
    "TRAIN_SPLIT_IDXS.remove(TEST_SPLIT_IDX)\n",
    "TRAIN_SPLIT_IDXS.remove(VAL_SPLIT_IDX)\n",
    "TRAIN_SPLIT_IDXS, VAL_SPLIT_IDX, TEST_SPLIT_IDX"
   ]
  },
  {
   "cell_type": "code",
   "execution_count": 13,
   "id": "0e85dfaa",
   "metadata": {
    "execution": {
     "iopub.execute_input": "2025-06-13T13:10:06.487693Z",
     "iopub.status.busy": "2025-06-13T13:10:06.487515Z",
     "iopub.status.idle": "2025-06-13T13:10:06.489747Z",
     "shell.execute_reply": "2025-06-13T13:10:06.489439Z"
    },
    "papermill": {
     "duration": 0.008814,
     "end_time": "2025-06-13T13:10:06.490564",
     "exception": false,
     "start_time": "2025-06-13T13:10:06.481750",
     "status": "completed"
    },
    "tags": []
   },
   "outputs": [],
   "source": [
    "train_idxs = np.concatenate([left_out_splits[idx] for idx in TRAIN_SPLIT_IDXS])\n",
    "val_idxs = left_out_splits[VAL_SPLIT_IDX]\n",
    "test_idxs = left_out_splits[TEST_SPLIT_IDX]"
   ]
  },
  {
   "cell_type": "markdown",
   "id": "8e457a69",
   "metadata": {
    "papermill": {
     "duration": 0.005432,
     "end_time": "2025-06-13T13:10:06.501180",
     "exception": false,
     "start_time": "2025-06-13T13:10:06.495748",
     "status": "completed"
    },
    "tags": []
   },
   "source": [
    "### SUBSET DATASET INTO TRAIN/TEST/VAL SPLITS"
   ]
  },
  {
   "cell_type": "code",
   "execution_count": 14,
   "id": "22780ed8",
   "metadata": {
    "execution": {
     "iopub.execute_input": "2025-06-13T13:10:06.513313Z",
     "iopub.status.busy": "2025-06-13T13:10:06.512806Z",
     "iopub.status.idle": "2025-06-13T13:10:06.518640Z",
     "shell.execute_reply": "2025-06-13T13:10:06.518332Z"
    },
    "papermill": {
     "duration": 0.012518,
     "end_time": "2025-06-13T13:10:06.519403",
     "exception": false,
     "start_time": "2025-06-13T13:10:06.506885",
     "status": "completed"
    },
    "tags": []
   },
   "outputs": [
    {
     "data": {
      "text/plain": [
       "((333, 108), (107, 108), (102, 108))"
      ]
     },
     "execution_count": 14,
     "metadata": {},
     "output_type": "execute_result"
    }
   ],
   "source": [
    "X_train = train_adata.X[train_idxs]\n",
    "X_test = train_adata.X[test_idxs]\n",
    "X_val = train_adata.X[val_idxs]\n",
    "X_train.shape, X_test.shape, X_val.shape"
   ]
  },
  {
   "cell_type": "code",
   "execution_count": 15,
   "id": "57c810fe",
   "metadata": {
    "execution": {
     "iopub.execute_input": "2025-06-13T13:10:06.530417Z",
     "iopub.status.busy": "2025-06-13T13:10:06.530253Z",
     "iopub.status.idle": "2025-06-13T13:10:06.534631Z",
     "shell.execute_reply": "2025-06-13T13:10:06.534339Z"
    },
    "papermill": {
     "duration": 0.010805,
     "end_time": "2025-06-13T13:10:06.535388",
     "exception": false,
     "start_time": "2025-06-13T13:10:06.524583",
     "status": "completed"
    },
    "tags": []
   },
   "outputs": [
    {
     "data": {
      "text/plain": [
       "((333,), (107,), (102,))"
      ]
     },
     "execution_count": 15,
     "metadata": {},
     "output_type": "execute_result"
    }
   ],
   "source": [
    "y_train = train_adata.obs.iloc[train_idxs].disease.values.astype(str)\n",
    "y_test = train_adata.obs.iloc[test_idxs].disease.values.astype(str)\n",
    "y_val = train_adata.obs.iloc[val_idxs].disease.values.astype(str)\n",
    "y_train.shape, y_test.shape, y_val.shape"
   ]
  },
  {
   "cell_type": "code",
   "execution_count": 16,
   "id": "b79105f9",
   "metadata": {
    "execution": {
     "iopub.execute_input": "2025-06-13T13:10:06.546737Z",
     "iopub.status.busy": "2025-06-13T13:10:06.546435Z",
     "iopub.status.idle": "2025-06-13T13:10:06.548943Z",
     "shell.execute_reply": "2025-06-13T13:10:06.548658Z"
    },
    "papermill": {
     "duration": 0.008998,
     "end_time": "2025-06-13T13:10:06.549769",
     "exception": false,
     "start_time": "2025-06-13T13:10:06.540771",
     "status": "completed"
    },
    "tags": []
   },
   "outputs": [],
   "source": [
    "lenc = LabelEncoder()\n",
    "y_train_enc = lenc.fit_transform(y_train)\n",
    "y_val_enc = lenc.transform(y_val)\n",
    "y_test_enc = lenc.transform(y_test)"
   ]
  },
  {
   "cell_type": "markdown",
   "id": "c9894c1d",
   "metadata": {
    "papermill": {
     "duration": 0.042795,
     "end_time": "2025-06-13T13:10:06.597926",
     "exception": false,
     "start_time": "2025-06-13T13:10:06.555131",
     "status": "completed"
    },
    "tags": []
   },
   "source": [
    "### GENERATE F1 "
   ]
  },
  {
   "cell_type": "code",
   "execution_count": 17,
   "id": "950a3169",
   "metadata": {
    "execution": {
     "iopub.execute_input": "2025-06-13T13:10:06.626902Z",
     "iopub.status.busy": "2025-06-13T13:10:06.626688Z",
     "iopub.status.idle": "2025-06-13T13:10:06.628753Z",
     "shell.execute_reply": "2025-06-13T13:10:06.628458Z"
    },
    "papermill": {
     "duration": 0.009101,
     "end_time": "2025-06-13T13:10:06.629491",
     "exception": false,
     "start_time": "2025-06-13T13:10:06.620390",
     "status": "completed"
    },
    "tags": []
   },
   "outputs": [],
   "source": [
    "def custom_f1_score(y_true, y_pred):\n",
    "    return -f1_score(y_true, y_pred.argmax(1), average='weighted')"
   ]
  },
  {
   "cell_type": "code",
   "execution_count": 18,
   "id": "8121aeeb",
   "metadata": {
    "execution": {
     "iopub.execute_input": "2025-06-13T13:10:06.643445Z",
     "iopub.status.busy": "2025-06-13T13:10:06.643174Z",
     "iopub.status.idle": "2025-06-13T13:10:06.646491Z",
     "shell.execute_reply": "2025-06-13T13:10:06.646212Z"
    },
    "papermill": {
     "duration": 0.009715,
     "end_time": "2025-06-13T13:10:06.647278",
     "exception": false,
     "start_time": "2025-06-13T13:10:06.637563",
     "status": "completed"
    },
    "tags": []
   },
   "outputs": [],
   "source": [
    "eval_metric=custom_f1_score\n",
    "eval_metric_name='custom_f1_score'\n",
    "\n",
    "def objective(trial):\n",
    "    params = {\n",
    "        'n_estimators': 1500,\n",
    "        'max_depth': trial.suggest_int('max_depth', 3, 20),\n",
    "        'min_child_weight': trial.suggest_int('min_child_weight', 1, 250),\n",
    "        'subsample': trial.suggest_float('subsample', 0.1, 1.0),\n",
    "        'colsample_bynode': trial.suggest_float('colsample_bynode', 0.1, 1.0),\n",
    "        'learning_rate': trial.suggest_float('learning_rate', 1e-3, 5e-1, log=True),\n",
    "    }\n",
    "    pruning_callback = optuna.integration.XGBoostPruningCallback(trial, f'validation_0-{eval_metric_name}')\n",
    "    es_callback = xgboost.callback.EarlyStopping(20, min_delta=0.001)\n",
    "    xgb = xgboost.XGBClassifier(\n",
    "        eval_metric=eval_metric,\n",
    "        callbacks=[pruning_callback, es_callback],\n",
    "        n_jobs=5,\n",
    "        **params\n",
    "    )\n",
    "    xgb.fit(\n",
    "        X_train, \n",
    "        y_train_enc, \n",
    "        verbose=0,\n",
    "        eval_set=[(X_val, y_val_enc)],\n",
    "    )\n",
    "    trial.set_user_attr('best_iteration', xgb.best_iteration)\n",
    "\n",
    "    return xgb.best_score"
   ]
  },
  {
   "cell_type": "code",
   "execution_count": 19,
   "id": "5dd8be29",
   "metadata": {
    "execution": {
     "iopub.execute_input": "2025-06-13T13:10:06.659215Z",
     "iopub.status.busy": "2025-06-13T13:10:06.658929Z",
     "iopub.status.idle": "2025-06-13T13:10:16.054482Z",
     "shell.execute_reply": "2025-06-13T13:10:16.054081Z"
    },
    "papermill": {
     "duration": 9.403091,
     "end_time": "2025-06-13T13:10:16.055732",
     "exception": false,
     "start_time": "2025-06-13T13:10:06.652641",
     "status": "completed"
    },
    "scrolled": true,
    "tags": []
   },
   "outputs": [
    {
     "name": "stderr",
     "output_type": "stream",
     "text": [
      "[I 2025-06-13 15:10:06,660] A new study created in memory with name: no-name-9bbf27cb-d501-4dde-a335-962d1de69275\n"
     ]
    },
    {
     "name": "stderr",
     "output_type": "stream",
     "text": [
      "[I 2025-06-13 15:10:06,726] Trial 0 finished with value: -0.03313 and parameters: {'max_depth': 9, 'min_child_weight': 238, 'subsample': 0.7587945476302645, 'colsample_bynode': 0.6387926357773329, 'learning_rate': 0.0026368755339723046}. Best is trial 0 with value: -0.03313.\n"
     ]
    },
    {
     "name": "stderr",
     "output_type": "stream",
     "text": [
      "[I 2025-06-13 15:10:07,108] Trial 1 finished with value: -0.35116 and parameters: {'max_depth': 5, 'min_child_weight': 15, 'subsample': 0.8795585311974417, 'colsample_bynode': 0.6410035105688879, 'learning_rate': 0.08148293210105287}. Best is trial 1 with value: -0.35116.\n"
     ]
    },
    {
     "name": "stderr",
     "output_type": "stream",
     "text": [
      "[I 2025-06-13 15:10:07,269] Trial 2 finished with value: -0.03313 and parameters: {'max_depth': 3, 'min_child_weight': 243, 'subsample': 0.8491983767203796, 'colsample_bynode': 0.29110519961044856, 'learning_rate': 0.003095566460242371}. Best is trial 1 with value: -0.35116.\n"
     ]
    },
    {
     "name": "stderr",
     "output_type": "stream",
     "text": [
      "[I 2025-06-13 15:10:07,415] Trial 3 finished with value: -0.03313 and parameters: {'max_depth': 6, 'min_child_weight': 77, 'subsample': 0.5722807884690141, 'colsample_bynode': 0.48875051677790415, 'learning_rate': 0.006109683510122491}. Best is trial 1 with value: -0.35116.\n"
     ]
    },
    {
     "name": "stderr",
     "output_type": "stream",
     "text": [
      "[I 2025-06-13 15:10:07,557] Trial 4 finished with value: -0.03313 and parameters: {'max_depth': 14, 'min_child_weight': 35, 'subsample': 0.3629301836816964, 'colsample_bynode': 0.4297256589643226, 'learning_rate': 0.01701841881702917}. Best is trial 1 with value: -0.35116.\n"
     ]
    },
    {
     "name": "stderr",
     "output_type": "stream",
     "text": [
      "[I 2025-06-13 15:10:07,707] Trial 5 finished with value: -0.03313 and parameters: {'max_depth': 17, 'min_child_weight': 50, 'subsample': 0.5628109945722505, 'colsample_bynode': 0.6331731119758383, 'learning_rate': 0.0013346527038305934}. Best is trial 1 with value: -0.35116.\n"
     ]
    },
    {
     "name": "stderr",
     "output_type": "stream",
     "text": [
      "[I 2025-06-13 15:10:07,868] Trial 6 finished with value: -0.03313 and parameters: {'max_depth': 13, 'min_child_weight': 43, 'subsample': 0.1585464336867516, 'colsample_bynode': 0.9539969835279999, 'learning_rate': 0.4038423798071558}. Best is trial 1 with value: -0.35116.\n"
     ]
    },
    {
     "name": "stderr",
     "output_type": "stream",
     "text": [
      "[I 2025-06-13 15:10:08,011] Trial 7 finished with value: -0.03313 and parameters: {'max_depth': 17, 'min_child_weight': 77, 'subsample': 0.1879049026057455, 'colsample_bynode': 0.7158097238609412, 'learning_rate': 0.015415527060141935}. Best is trial 1 with value: -0.35116.\n"
     ]
    },
    {
     "name": "stderr",
     "output_type": "stream",
     "text": [
      "[I 2025-06-13 15:10:08,157] Trial 8 finished with value: -0.03313 and parameters: {'max_depth': 5, 'min_child_weight': 124, 'subsample': 0.13094966900369656, 'colsample_bynode': 0.9183883618709039, 'learning_rate': 0.004993895014755658}. Best is trial 1 with value: -0.35116.\n"
     ]
    },
    {
     "name": "stderr",
     "output_type": "stream",
     "text": [
      "[I 2025-06-13 15:10:08,311] Trial 9 finished with value: -0.03313 and parameters: {'max_depth': 14, 'min_child_weight': 78, 'subsample': 0.5680612190600297, 'colsample_bynode': 0.5920392514089517, 'learning_rate': 0.0031543990308330965}. Best is trial 1 with value: -0.35116.\n"
     ]
    },
    {
     "name": "stderr",
     "output_type": "stream",
     "text": [
      "[I 2025-06-13 15:10:08,674] Trial 10 finished with value: -0.406657 and parameters: {'max_depth': 9, 'min_child_weight': 2, 'subsample': 0.9725833997090791, 'colsample_bynode': 0.11616568805333755, 'learning_rate': 0.17780618353487967}. Best is trial 10 with value: -0.406657.\n"
     ]
    },
    {
     "name": "stderr",
     "output_type": "stream",
     "text": [
      "[I 2025-06-13 15:10:08,916] Trial 11 pruned. Trial was pruned at iteration 22.\n"
     ]
    },
    {
     "name": "stderr",
     "output_type": "stream",
     "text": [
      "[I 2025-06-13 15:10:09,230] Trial 12 finished with value: -0.396923 and parameters: {'max_depth': 9, 'min_child_weight': 3, 'subsample': 0.9754570370311046, 'colsample_bynode': 0.14672783827498995, 'learning_rate': 0.08954997670613858}. Best is trial 10 with value: -0.406657.\n"
     ]
    },
    {
     "name": "stderr",
     "output_type": "stream",
     "text": [
      "[I 2025-06-13 15:10:09,392] Trial 13 finished with value: -0.03313 and parameters: {'max_depth': 10, 'min_child_weight': 173, 'subsample': 0.9990365834996398, 'colsample_bynode': 0.10388397775802007, 'learning_rate': 0.08954294267079196}. Best is trial 10 with value: -0.406657.\n"
     ]
    },
    {
     "name": "stderr",
     "output_type": "stream",
     "text": [
      "[I 2025-06-13 15:10:09,552] Trial 14 finished with value: -0.03313 and parameters: {'max_depth': 7, 'min_child_weight': 132, 'subsample': 0.7251427075087294, 'colsample_bynode': 0.2827065087684573, 'learning_rate': 0.39514801085683204}. Best is trial 10 with value: -0.406657.\n"
     ]
    },
    {
     "name": "stderr",
     "output_type": "stream",
     "text": [
      "[I 2025-06-13 15:10:09,807] Trial 15 pruned. Trial was pruned at iteration 22.\n"
     ]
    },
    {
     "name": "stderr",
     "output_type": "stream",
     "text": [
      "[I 2025-06-13 15:10:09,963] Trial 16 finished with value: -0.03313 and parameters: {'max_depth': 11, 'min_child_weight': 125, 'subsample': 0.8815541734801864, 'colsample_bynode': 0.11794375140013524, 'learning_rate': 0.049223809345826965}. Best is trial 10 with value: -0.406657.\n"
     ]
    },
    {
     "name": "stderr",
     "output_type": "stream",
     "text": [
      "[I 2025-06-13 15:10:10,119] Trial 17 finished with value: -0.03313 and parameters: {'max_depth': 8, 'min_child_weight': 183, 'subsample': 0.38147523481218437, 'colsample_bynode': 0.22493155379732882, 'learning_rate': 0.04721213780493888}. Best is trial 10 with value: -0.406657.\n"
     ]
    },
    {
     "name": "stderr",
     "output_type": "stream",
     "text": [
      "[I 2025-06-13 15:10:10,284] Trial 18 pruned. Trial was pruned at iteration 21.\n"
     ]
    },
    {
     "name": "stderr",
     "output_type": "stream",
     "text": [
      "[I 2025-06-13 15:10:10,431] Trial 19 finished with value: -0.03313 and parameters: {'max_depth': 11, 'min_child_weight': 102, 'subsample': 0.9723428668438461, 'colsample_bynode': 0.21061250777137863, 'learning_rate': 0.0340013005982499}. Best is trial 10 with value: -0.406657.\n"
     ]
    },
    {
     "name": "stderr",
     "output_type": "stream",
     "text": [
      "[I 2025-06-13 15:10:10,599] Trial 20 finished with value: -0.03313 and parameters: {'max_depth': 7, 'min_child_weight': 60, 'subsample': 0.6557531039489988, 'colsample_bynode': 0.792643950018397, 'learning_rate': 0.19601104640141212}. Best is trial 10 with value: -0.406657.\n"
     ]
    },
    {
     "name": "stderr",
     "output_type": "stream",
     "text": [
      "[I 2025-06-13 15:10:10,789] Trial 21 pruned. Trial was pruned at iteration 21.\n"
     ]
    },
    {
     "name": "stderr",
     "output_type": "stream",
     "text": [
      "[I 2025-06-13 15:10:10,963] Trial 22 pruned. Trial was pruned at iteration 21.\n"
     ]
    },
    {
     "name": "stderr",
     "output_type": "stream",
     "text": [
      "[I 2025-06-13 15:10:11,146] Trial 23 pruned. Trial was pruned at iteration 21.\n"
     ]
    },
    {
     "name": "stderr",
     "output_type": "stream",
     "text": [
      "[I 2025-06-13 15:10:11,372] Trial 24 pruned. Trial was pruned at iteration 22.\n"
     ]
    },
    {
     "name": "stderr",
     "output_type": "stream",
     "text": [
      "[I 2025-06-13 15:10:11,562] Trial 25 finished with value: -0.03313 and parameters: {'max_depth': 6, 'min_child_weight': 60, 'subsample': 0.6456116649072785, 'colsample_bynode': 0.532177065816127, 'learning_rate': 0.281809190534241}. Best is trial 10 with value: -0.406657.\n"
     ]
    },
    {
     "name": "stderr",
     "output_type": "stream",
     "text": [
      "[I 2025-06-13 15:10:11,715] Trial 26 finished with value: -0.166667 and parameters: {'max_depth': 10, 'min_child_weight': 27, 'subsample': 0.4415145059632183, 'colsample_bynode': 0.7060120341889913, 'learning_rate': 0.0668037040487806}. Best is trial 10 with value: -0.406657.\n"
     ]
    },
    {
     "name": "stderr",
     "output_type": "stream",
     "text": [
      "[I 2025-06-13 15:10:11,860] Trial 27 finished with value: -0.03313 and parameters: {'max_depth': 8, 'min_child_weight': 104, 'subsample': 0.830994423789636, 'colsample_bynode': 0.43555425322930064, 'learning_rate': 0.1346978034114215}. Best is trial 10 with value: -0.406657.\n"
     ]
    },
    {
     "name": "stderr",
     "output_type": "stream",
     "text": [
      "[I 2025-06-13 15:10:12,196] Trial 28 finished with value: -0.423327 and parameters: {'max_depth': 6, 'min_child_weight': 1, 'subsample': 0.9213273744508348, 'colsample_bynode': 0.24699923633783935, 'learning_rate': 0.01232648763440492}. Best is trial 28 with value: -0.423327.\n"
     ]
    },
    {
     "name": "stderr",
     "output_type": "stream",
     "text": [
      "[I 2025-06-13 15:10:12,406] Trial 29 finished with value: -0.03313 and parameters: {'max_depth': 9, 'min_child_weight': 217, 'subsample': 0.7782212432451816, 'colsample_bynode': 0.2443754164972442, 'learning_rate': 0.010709004830646147}. Best is trial 28 with value: -0.423327.\n"
     ]
    },
    {
     "name": "stderr",
     "output_type": "stream",
     "text": [
      "[I 2025-06-13 15:10:12,605] Trial 30 finished with value: -0.166667 and parameters: {'max_depth': 10, 'min_child_weight': 52, 'subsample': 0.9395623095404857, 'colsample_bynode': 0.1691188718092435, 'learning_rate': 0.008856906268077587}. Best is trial 28 with value: -0.423327.\n"
     ]
    },
    {
     "name": "stderr",
     "output_type": "stream",
     "text": [
      "[I 2025-06-13 15:10:12,783] Trial 31 pruned. Trial was pruned at iteration 21.\n"
     ]
    },
    {
     "name": "stderr",
     "output_type": "stream",
     "text": [
      "[I 2025-06-13 15:10:12,938] Trial 32 finished with value: -0.357259 and parameters: {'max_depth': 7, 'min_child_weight': 31, 'subsample': 0.845945701984979, 'colsample_bynode': 0.2594066701743264, 'learning_rate': 0.0180371020833329}. Best is trial 28 with value: -0.423327.\n"
     ]
    },
    {
     "name": "stderr",
     "output_type": "stream",
     "text": [
      "[I 2025-06-13 15:10:13,196] Trial 33 finished with value: -0.367349 and parameters: {'max_depth': 7, 'min_child_weight': 3, 'subsample': 0.9918789397524075, 'colsample_bynode': 0.25818601866909147, 'learning_rate': 0.017452736977209643}. Best is trial 28 with value: -0.423327.\n"
     ]
    },
    {
     "name": "stderr",
     "output_type": "stream",
     "text": [
      "[I 2025-06-13 15:10:13,468] Trial 34 pruned. Trial was pruned at iteration 24.\n"
     ]
    },
    {
     "name": "stderr",
     "output_type": "stream",
     "text": [
      "[I 2025-06-13 15:10:13,621] Trial 35 finished with value: -0.315373 and parameters: {'max_depth': 9, 'min_child_weight': 34, 'subsample': 0.9472713567112907, 'colsample_bynode': 0.17038478217643183, 'learning_rate': 0.011604009666148192}. Best is trial 28 with value: -0.423327.\n"
     ]
    },
    {
     "name": "stderr",
     "output_type": "stream",
     "text": [
      "[I 2025-06-13 15:10:13,765] Trial 36 finished with value: -0.166667 and parameters: {'max_depth': 4, 'min_child_weight': 64, 'subsample': 0.9147849261121515, 'colsample_bynode': 0.21157512753842728, 'learning_rate': 0.026317576846768064}. Best is trial 28 with value: -0.423327.\n"
     ]
    },
    {
     "name": "stderr",
     "output_type": "stream",
     "text": [
      "[I 2025-06-13 15:10:13,907] Trial 37 finished with value: -0.166667 and parameters: {'max_depth': 12, 'min_child_weight': 45, 'subsample': 0.8117940781888091, 'colsample_bynode': 0.33045416823362084, 'learning_rate': 0.004405645570646632}. Best is trial 28 with value: -0.423327.\n"
     ]
    },
    {
     "name": "stderr",
     "output_type": "stream",
     "text": [
      "[I 2025-06-13 15:10:14,079] Trial 38 pruned. Trial was pruned at iteration 21.\n"
     ]
    },
    {
     "name": "stderr",
     "output_type": "stream",
     "text": [
      "[I 2025-06-13 15:10:14,229] Trial 39 finished with value: -0.03313 and parameters: {'max_depth': 8, 'min_child_weight': 165, 'subsample': 0.7371716590370987, 'colsample_bynode': 0.2703259904562017, 'learning_rate': 0.008124372805888395}. Best is trial 28 with value: -0.423327.\n"
     ]
    },
    {
     "name": "stderr",
     "output_type": "stream",
     "text": [
      "[I 2025-06-13 15:10:14,372] Trial 40 finished with value: -0.03313 and parameters: {'max_depth': 6, 'min_child_weight': 88, 'subsample': 0.3008634073330152, 'colsample_bynode': 0.1423954431628704, 'learning_rate': 0.01762387035468314}. Best is trial 28 with value: -0.423327.\n"
     ]
    },
    {
     "name": "stderr",
     "output_type": "stream",
     "text": [
      "[I 2025-06-13 15:10:14,534] Trial 41 finished with value: -0.225946 and parameters: {'max_depth': 7, 'min_child_weight': 30, 'subsample': 0.8803417276068184, 'colsample_bynode': 0.25559104444450337, 'learning_rate': 0.017091987735627735}. Best is trial 28 with value: -0.423327.\n"
     ]
    },
    {
     "name": "stderr",
     "output_type": "stream",
     "text": [
      "[I 2025-06-13 15:10:14,712] Trial 42 pruned. Trial was pruned at iteration 21.\n"
     ]
    },
    {
     "name": "stderr",
     "output_type": "stream",
     "text": [
      "[I 2025-06-13 15:10:14,858] Trial 43 finished with value: -0.166667 and parameters: {'max_depth': 9, 'min_child_weight': 41, 'subsample': 0.8642867017436835, 'colsample_bynode': 0.29300511990427947, 'learning_rate': 0.041019236735187925}. Best is trial 28 with value: -0.423327.\n"
     ]
    },
    {
     "name": "stderr",
     "output_type": "stream",
     "text": [
      "[I 2025-06-13 15:10:15,022] Trial 44 pruned. Trial was pruned at iteration 21.\n"
     ]
    },
    {
     "name": "stderr",
     "output_type": "stream",
     "text": [
      "[I 2025-06-13 15:10:15,279] Trial 45 pruned. Trial was pruned at iteration 21.\n"
     ]
    },
    {
     "name": "stderr",
     "output_type": "stream",
     "text": [
      "[I 2025-06-13 15:10:15,443] Trial 46 pruned. Trial was pruned at iteration 21.\n"
     ]
    },
    {
     "name": "stderr",
     "output_type": "stream",
     "text": [
      "[I 2025-06-13 15:10:15,642] Trial 47 pruned. Trial was pruned at iteration 21.\n"
     ]
    },
    {
     "name": "stderr",
     "output_type": "stream",
     "text": [
      "[I 2025-06-13 15:10:15,798] Trial 48 pruned. Trial was pruned at iteration 21.\n"
     ]
    },
    {
     "name": "stderr",
     "output_type": "stream",
     "text": [
      "[I 2025-06-13 15:10:15,969] Trial 49 pruned. Trial was pruned at iteration 21.\n"
     ]
    }
   ],
   "source": [
    "sampler = optuna.samplers.TPESampler(seed=42)\n",
    "study = optuna.create_study(direction='minimize', sampler=sampler)\n",
    "study.optimize(objective, n_trials=N_TRIALS, gc_after_trial=True)"
   ]
  },
  {
   "cell_type": "code",
   "execution_count": 20,
   "id": "7011bf35",
   "metadata": {
    "execution": {
     "iopub.execute_input": "2025-06-13T13:10:16.110292Z",
     "iopub.status.busy": "2025-06-13T13:10:16.110147Z",
     "iopub.status.idle": "2025-06-13T13:10:16.131293Z",
     "shell.execute_reply": "2025-06-13T13:10:16.130990Z"
    },
    "papermill": {
     "duration": 0.030641,
     "end_time": "2025-06-13T13:10:16.132103",
     "exception": false,
     "start_time": "2025-06-13T13:10:16.101462",
     "status": "completed"
    },
    "tags": []
   },
   "outputs": [
    {
     "data": {
      "text/plain": [
       "['/scratch_isilon/groups/singlecell/shared/projects/Inflammation-PBMCs-Atlas/03_downstream_analysis/08_gene_importance/xgboost_external_validation/xgboost_TopN_genes/results_20/study/Plasma_shap_studyID_samesize_1_xgboost.pkl']"
      ]
     },
     "execution_count": 20,
     "metadata": {},
     "output_type": "execute_result"
    }
   ],
   "source": [
    "out_dir = here(f'03_downstream_analysis/08_gene_importance/xgboost_external_validation/xgboost_TopN_genes/results_{N_GENES}/study')\n",
    "\n",
    "if not os.path.exists(out_dir):\n",
    "    os.makedirs(out_dir)\n",
    "    \n",
    "joblib.dump(study,os.path.join(out_dir, f'{CELL_TYPE}_{SEED}_{TEST_SPLIT_IDX}_xgboost.pkl'))"
   ]
  },
  {
   "cell_type": "code",
   "execution_count": 21,
   "id": "b547f4ff",
   "metadata": {
    "execution": {
     "iopub.execute_input": "2025-06-13T13:10:16.150249Z",
     "iopub.status.busy": "2025-06-13T13:10:16.150088Z",
     "iopub.status.idle": "2025-06-13T13:10:16.255240Z",
     "shell.execute_reply": "2025-06-13T13:10:16.254909Z"
    },
    "papermill": {
     "duration": 0.11476,
     "end_time": "2025-06-13T13:10:16.256069",
     "exception": false,
     "start_time": "2025-06-13T13:10:16.141309",
     "status": "completed"
    },
    "tags": []
   },
   "outputs": [
    {
     "data": {
      "text/html": [
       "<style>#sk-container-id-1 {\n",
       "  /* Definition of color scheme common for light and dark mode */\n",
       "  --sklearn-color-text: black;\n",
       "  --sklearn-color-line: gray;\n",
       "  /* Definition of color scheme for unfitted estimators */\n",
       "  --sklearn-color-unfitted-level-0: #fff5e6;\n",
       "  --sklearn-color-unfitted-level-1: #f6e4d2;\n",
       "  --sklearn-color-unfitted-level-2: #ffe0b3;\n",
       "  --sklearn-color-unfitted-level-3: chocolate;\n",
       "  /* Definition of color scheme for fitted estimators */\n",
       "  --sklearn-color-fitted-level-0: #f0f8ff;\n",
       "  --sklearn-color-fitted-level-1: #d4ebff;\n",
       "  --sklearn-color-fitted-level-2: #b3dbfd;\n",
       "  --sklearn-color-fitted-level-3: cornflowerblue;\n",
       "\n",
       "  /* Specific color for light theme */\n",
       "  --sklearn-color-text-on-default-background: var(--sg-text-color, var(--theme-code-foreground, var(--jp-content-font-color1, black)));\n",
       "  --sklearn-color-background: var(--sg-background-color, var(--theme-background, var(--jp-layout-color0, white)));\n",
       "  --sklearn-color-border-box: var(--sg-text-color, var(--theme-code-foreground, var(--jp-content-font-color1, black)));\n",
       "  --sklearn-color-icon: #696969;\n",
       "\n",
       "  @media (prefers-color-scheme: dark) {\n",
       "    /* Redefinition of color scheme for dark theme */\n",
       "    --sklearn-color-text-on-default-background: var(--sg-text-color, var(--theme-code-foreground, var(--jp-content-font-color1, white)));\n",
       "    --sklearn-color-background: var(--sg-background-color, var(--theme-background, var(--jp-layout-color0, #111)));\n",
       "    --sklearn-color-border-box: var(--sg-text-color, var(--theme-code-foreground, var(--jp-content-font-color1, white)));\n",
       "    --sklearn-color-icon: #878787;\n",
       "  }\n",
       "}\n",
       "\n",
       "#sk-container-id-1 {\n",
       "  color: var(--sklearn-color-text);\n",
       "}\n",
       "\n",
       "#sk-container-id-1 pre {\n",
       "  padding: 0;\n",
       "}\n",
       "\n",
       "#sk-container-id-1 input.sk-hidden--visually {\n",
       "  border: 0;\n",
       "  clip: rect(1px 1px 1px 1px);\n",
       "  clip: rect(1px, 1px, 1px, 1px);\n",
       "  height: 1px;\n",
       "  margin: -1px;\n",
       "  overflow: hidden;\n",
       "  padding: 0;\n",
       "  position: absolute;\n",
       "  width: 1px;\n",
       "}\n",
       "\n",
       "#sk-container-id-1 div.sk-dashed-wrapped {\n",
       "  border: 1px dashed var(--sklearn-color-line);\n",
       "  margin: 0 0.4em 0.5em 0.4em;\n",
       "  box-sizing: border-box;\n",
       "  padding-bottom: 0.4em;\n",
       "  background-color: var(--sklearn-color-background);\n",
       "}\n",
       "\n",
       "#sk-container-id-1 div.sk-container {\n",
       "  /* jupyter's `normalize.less` sets `[hidden] { display: none; }`\n",
       "     but bootstrap.min.css set `[hidden] { display: none !important; }`\n",
       "     so we also need the `!important` here to be able to override the\n",
       "     default hidden behavior on the sphinx rendered scikit-learn.org.\n",
       "     See: https://github.com/scikit-learn/scikit-learn/issues/21755 */\n",
       "  display: inline-block !important;\n",
       "  position: relative;\n",
       "}\n",
       "\n",
       "#sk-container-id-1 div.sk-text-repr-fallback {\n",
       "  display: none;\n",
       "}\n",
       "\n",
       "div.sk-parallel-item,\n",
       "div.sk-serial,\n",
       "div.sk-item {\n",
       "  /* draw centered vertical line to link estimators */\n",
       "  background-image: linear-gradient(var(--sklearn-color-text-on-default-background), var(--sklearn-color-text-on-default-background));\n",
       "  background-size: 2px 100%;\n",
       "  background-repeat: no-repeat;\n",
       "  background-position: center center;\n",
       "}\n",
       "\n",
       "/* Parallel-specific style estimator block */\n",
       "\n",
       "#sk-container-id-1 div.sk-parallel-item::after {\n",
       "  content: \"\";\n",
       "  width: 100%;\n",
       "  border-bottom: 2px solid var(--sklearn-color-text-on-default-background);\n",
       "  flex-grow: 1;\n",
       "}\n",
       "\n",
       "#sk-container-id-1 div.sk-parallel {\n",
       "  display: flex;\n",
       "  align-items: stretch;\n",
       "  justify-content: center;\n",
       "  background-color: var(--sklearn-color-background);\n",
       "  position: relative;\n",
       "}\n",
       "\n",
       "#sk-container-id-1 div.sk-parallel-item {\n",
       "  display: flex;\n",
       "  flex-direction: column;\n",
       "}\n",
       "\n",
       "#sk-container-id-1 div.sk-parallel-item:first-child::after {\n",
       "  align-self: flex-end;\n",
       "  width: 50%;\n",
       "}\n",
       "\n",
       "#sk-container-id-1 div.sk-parallel-item:last-child::after {\n",
       "  align-self: flex-start;\n",
       "  width: 50%;\n",
       "}\n",
       "\n",
       "#sk-container-id-1 div.sk-parallel-item:only-child::after {\n",
       "  width: 0;\n",
       "}\n",
       "\n",
       "/* Serial-specific style estimator block */\n",
       "\n",
       "#sk-container-id-1 div.sk-serial {\n",
       "  display: flex;\n",
       "  flex-direction: column;\n",
       "  align-items: center;\n",
       "  background-color: var(--sklearn-color-background);\n",
       "  padding-right: 1em;\n",
       "  padding-left: 1em;\n",
       "}\n",
       "\n",
       "\n",
       "/* Toggleable style: style used for estimator/Pipeline/ColumnTransformer box that is\n",
       "clickable and can be expanded/collapsed.\n",
       "- Pipeline and ColumnTransformer use this feature and define the default style\n",
       "- Estimators will overwrite some part of the style using the `sk-estimator` class\n",
       "*/\n",
       "\n",
       "/* Pipeline and ColumnTransformer style (default) */\n",
       "\n",
       "#sk-container-id-1 div.sk-toggleable {\n",
       "  /* Default theme specific background. It is overwritten whether we have a\n",
       "  specific estimator or a Pipeline/ColumnTransformer */\n",
       "  background-color: var(--sklearn-color-background);\n",
       "}\n",
       "\n",
       "/* Toggleable label */\n",
       "#sk-container-id-1 label.sk-toggleable__label {\n",
       "  cursor: pointer;\n",
       "  display: block;\n",
       "  width: 100%;\n",
       "  margin-bottom: 0;\n",
       "  padding: 0.5em;\n",
       "  box-sizing: border-box;\n",
       "  text-align: center;\n",
       "}\n",
       "\n",
       "#sk-container-id-1 label.sk-toggleable__label-arrow:before {\n",
       "  /* Arrow on the left of the label */\n",
       "  content: \"▸\";\n",
       "  float: left;\n",
       "  margin-right: 0.25em;\n",
       "  color: var(--sklearn-color-icon);\n",
       "}\n",
       "\n",
       "#sk-container-id-1 label.sk-toggleable__label-arrow:hover:before {\n",
       "  color: var(--sklearn-color-text);\n",
       "}\n",
       "\n",
       "/* Toggleable content - dropdown */\n",
       "\n",
       "#sk-container-id-1 div.sk-toggleable__content {\n",
       "  max-height: 0;\n",
       "  max-width: 0;\n",
       "  overflow: hidden;\n",
       "  text-align: left;\n",
       "  /* unfitted */\n",
       "  background-color: var(--sklearn-color-unfitted-level-0);\n",
       "}\n",
       "\n",
       "#sk-container-id-1 div.sk-toggleable__content.fitted {\n",
       "  /* fitted */\n",
       "  background-color: var(--sklearn-color-fitted-level-0);\n",
       "}\n",
       "\n",
       "#sk-container-id-1 div.sk-toggleable__content pre {\n",
       "  margin: 0.2em;\n",
       "  border-radius: 0.25em;\n",
       "  color: var(--sklearn-color-text);\n",
       "  /* unfitted */\n",
       "  background-color: var(--sklearn-color-unfitted-level-0);\n",
       "}\n",
       "\n",
       "#sk-container-id-1 div.sk-toggleable__content.fitted pre {\n",
       "  /* unfitted */\n",
       "  background-color: var(--sklearn-color-fitted-level-0);\n",
       "}\n",
       "\n",
       "#sk-container-id-1 input.sk-toggleable__control:checked~div.sk-toggleable__content {\n",
       "  /* Expand drop-down */\n",
       "  max-height: 200px;\n",
       "  max-width: 100%;\n",
       "  overflow: auto;\n",
       "}\n",
       "\n",
       "#sk-container-id-1 input.sk-toggleable__control:checked~label.sk-toggleable__label-arrow:before {\n",
       "  content: \"▾\";\n",
       "}\n",
       "\n",
       "/* Pipeline/ColumnTransformer-specific style */\n",
       "\n",
       "#sk-container-id-1 div.sk-label input.sk-toggleable__control:checked~label.sk-toggleable__label {\n",
       "  color: var(--sklearn-color-text);\n",
       "  background-color: var(--sklearn-color-unfitted-level-2);\n",
       "}\n",
       "\n",
       "#sk-container-id-1 div.sk-label.fitted input.sk-toggleable__control:checked~label.sk-toggleable__label {\n",
       "  background-color: var(--sklearn-color-fitted-level-2);\n",
       "}\n",
       "\n",
       "/* Estimator-specific style */\n",
       "\n",
       "/* Colorize estimator box */\n",
       "#sk-container-id-1 div.sk-estimator input.sk-toggleable__control:checked~label.sk-toggleable__label {\n",
       "  /* unfitted */\n",
       "  background-color: var(--sklearn-color-unfitted-level-2);\n",
       "}\n",
       "\n",
       "#sk-container-id-1 div.sk-estimator.fitted input.sk-toggleable__control:checked~label.sk-toggleable__label {\n",
       "  /* fitted */\n",
       "  background-color: var(--sklearn-color-fitted-level-2);\n",
       "}\n",
       "\n",
       "#sk-container-id-1 div.sk-label label.sk-toggleable__label,\n",
       "#sk-container-id-1 div.sk-label label {\n",
       "  /* The background is the default theme color */\n",
       "  color: var(--sklearn-color-text-on-default-background);\n",
       "}\n",
       "\n",
       "/* On hover, darken the color of the background */\n",
       "#sk-container-id-1 div.sk-label:hover label.sk-toggleable__label {\n",
       "  color: var(--sklearn-color-text);\n",
       "  background-color: var(--sklearn-color-unfitted-level-2);\n",
       "}\n",
       "\n",
       "/* Label box, darken color on hover, fitted */\n",
       "#sk-container-id-1 div.sk-label.fitted:hover label.sk-toggleable__label.fitted {\n",
       "  color: var(--sklearn-color-text);\n",
       "  background-color: var(--sklearn-color-fitted-level-2);\n",
       "}\n",
       "\n",
       "/* Estimator label */\n",
       "\n",
       "#sk-container-id-1 div.sk-label label {\n",
       "  font-family: monospace;\n",
       "  font-weight: bold;\n",
       "  display: inline-block;\n",
       "  line-height: 1.2em;\n",
       "}\n",
       "\n",
       "#sk-container-id-1 div.sk-label-container {\n",
       "  text-align: center;\n",
       "}\n",
       "\n",
       "/* Estimator-specific */\n",
       "#sk-container-id-1 div.sk-estimator {\n",
       "  font-family: monospace;\n",
       "  border: 1px dotted var(--sklearn-color-border-box);\n",
       "  border-radius: 0.25em;\n",
       "  box-sizing: border-box;\n",
       "  margin-bottom: 0.5em;\n",
       "  /* unfitted */\n",
       "  background-color: var(--sklearn-color-unfitted-level-0);\n",
       "}\n",
       "\n",
       "#sk-container-id-1 div.sk-estimator.fitted {\n",
       "  /* fitted */\n",
       "  background-color: var(--sklearn-color-fitted-level-0);\n",
       "}\n",
       "\n",
       "/* on hover */\n",
       "#sk-container-id-1 div.sk-estimator:hover {\n",
       "  /* unfitted */\n",
       "  background-color: var(--sklearn-color-unfitted-level-2);\n",
       "}\n",
       "\n",
       "#sk-container-id-1 div.sk-estimator.fitted:hover {\n",
       "  /* fitted */\n",
       "  background-color: var(--sklearn-color-fitted-level-2);\n",
       "}\n",
       "\n",
       "/* Specification for estimator info (e.g. \"i\" and \"?\") */\n",
       "\n",
       "/* Common style for \"i\" and \"?\" */\n",
       "\n",
       ".sk-estimator-doc-link,\n",
       "a:link.sk-estimator-doc-link,\n",
       "a:visited.sk-estimator-doc-link {\n",
       "  float: right;\n",
       "  font-size: smaller;\n",
       "  line-height: 1em;\n",
       "  font-family: monospace;\n",
       "  background-color: var(--sklearn-color-background);\n",
       "  border-radius: 1em;\n",
       "  height: 1em;\n",
       "  width: 1em;\n",
       "  text-decoration: none !important;\n",
       "  margin-left: 1ex;\n",
       "  /* unfitted */\n",
       "  border: var(--sklearn-color-unfitted-level-1) 1pt solid;\n",
       "  color: var(--sklearn-color-unfitted-level-1);\n",
       "}\n",
       "\n",
       ".sk-estimator-doc-link.fitted,\n",
       "a:link.sk-estimator-doc-link.fitted,\n",
       "a:visited.sk-estimator-doc-link.fitted {\n",
       "  /* fitted */\n",
       "  border: var(--sklearn-color-fitted-level-1) 1pt solid;\n",
       "  color: var(--sklearn-color-fitted-level-1);\n",
       "}\n",
       "\n",
       "/* On hover */\n",
       "div.sk-estimator:hover .sk-estimator-doc-link:hover,\n",
       ".sk-estimator-doc-link:hover,\n",
       "div.sk-label-container:hover .sk-estimator-doc-link:hover,\n",
       ".sk-estimator-doc-link:hover {\n",
       "  /* unfitted */\n",
       "  background-color: var(--sklearn-color-unfitted-level-3);\n",
       "  color: var(--sklearn-color-background);\n",
       "  text-decoration: none;\n",
       "}\n",
       "\n",
       "div.sk-estimator.fitted:hover .sk-estimator-doc-link.fitted:hover,\n",
       ".sk-estimator-doc-link.fitted:hover,\n",
       "div.sk-label-container:hover .sk-estimator-doc-link.fitted:hover,\n",
       ".sk-estimator-doc-link.fitted:hover {\n",
       "  /* fitted */\n",
       "  background-color: var(--sklearn-color-fitted-level-3);\n",
       "  color: var(--sklearn-color-background);\n",
       "  text-decoration: none;\n",
       "}\n",
       "\n",
       "/* Span, style for the box shown on hovering the info icon */\n",
       ".sk-estimator-doc-link span {\n",
       "  display: none;\n",
       "  z-index: 9999;\n",
       "  position: relative;\n",
       "  font-weight: normal;\n",
       "  right: .2ex;\n",
       "  padding: .5ex;\n",
       "  margin: .5ex;\n",
       "  width: min-content;\n",
       "  min-width: 20ex;\n",
       "  max-width: 50ex;\n",
       "  color: var(--sklearn-color-text);\n",
       "  box-shadow: 2pt 2pt 4pt #999;\n",
       "  /* unfitted */\n",
       "  background: var(--sklearn-color-unfitted-level-0);\n",
       "  border: .5pt solid var(--sklearn-color-unfitted-level-3);\n",
       "}\n",
       "\n",
       ".sk-estimator-doc-link.fitted span {\n",
       "  /* fitted */\n",
       "  background: var(--sklearn-color-fitted-level-0);\n",
       "  border: var(--sklearn-color-fitted-level-3);\n",
       "}\n",
       "\n",
       ".sk-estimator-doc-link:hover span {\n",
       "  display: block;\n",
       "}\n",
       "\n",
       "/* \"?\"-specific style due to the `<a>` HTML tag */\n",
       "\n",
       "#sk-container-id-1 a.estimator_doc_link {\n",
       "  float: right;\n",
       "  font-size: 1rem;\n",
       "  line-height: 1em;\n",
       "  font-family: monospace;\n",
       "  background-color: var(--sklearn-color-background);\n",
       "  border-radius: 1rem;\n",
       "  height: 1rem;\n",
       "  width: 1rem;\n",
       "  text-decoration: none;\n",
       "  /* unfitted */\n",
       "  color: var(--sklearn-color-unfitted-level-1);\n",
       "  border: var(--sklearn-color-unfitted-level-1) 1pt solid;\n",
       "}\n",
       "\n",
       "#sk-container-id-1 a.estimator_doc_link.fitted {\n",
       "  /* fitted */\n",
       "  border: var(--sklearn-color-fitted-level-1) 1pt solid;\n",
       "  color: var(--sklearn-color-fitted-level-1);\n",
       "}\n",
       "\n",
       "/* On hover */\n",
       "#sk-container-id-1 a.estimator_doc_link:hover {\n",
       "  /* unfitted */\n",
       "  background-color: var(--sklearn-color-unfitted-level-3);\n",
       "  color: var(--sklearn-color-background);\n",
       "  text-decoration: none;\n",
       "}\n",
       "\n",
       "#sk-container-id-1 a.estimator_doc_link.fitted:hover {\n",
       "  /* fitted */\n",
       "  background-color: var(--sklearn-color-fitted-level-3);\n",
       "}\n",
       "</style><div id=\"sk-container-id-1\" class=\"sk-top-container\"><div class=\"sk-text-repr-fallback\"><pre>XGBClassifier(base_score=None, booster=None, callbacks=None,\n",
       "              colsample_bylevel=None, colsample_bynode=0.24699923633783935,\n",
       "              colsample_bytree=None, device=None, early_stopping_rounds=None,\n",
       "              enable_categorical=False,\n",
       "              eval_metric=&lt;function custom_f1_score at 0x7fe5f7ae7f60&gt;,\n",
       "              feature_types=None, gamma=None, grow_policy=None,\n",
       "              importance_type=None, interaction_constraints=None,\n",
       "              learning_rate=0.01232648763440492, max_bin=None,\n",
       "              max_cat_threshold=None, max_cat_to_onehot=None,\n",
       "              max_delta_step=None, max_depth=6, max_leaves=None,\n",
       "              min_child_weight=1, missing=nan, monotone_constraints=None,\n",
       "              multi_strategy=None, n_estimators=9, n_jobs=None,\n",
       "              num_parallel_tree=None, objective=&#x27;multi:softprob&#x27;, ...)</pre><b>In a Jupyter environment, please rerun this cell to show the HTML representation or trust the notebook. <br />On GitHub, the HTML representation is unable to render, please try loading this page with nbviewer.org.</b></div><div class=\"sk-container\" hidden><div class=\"sk-item\"><div class=\"sk-estimator fitted sk-toggleable\"><input class=\"sk-toggleable__control sk-hidden--visually\" id=\"sk-estimator-id-1\" type=\"checkbox\" checked><label for=\"sk-estimator-id-1\" class=\"sk-toggleable__label fitted sk-toggleable__label-arrow fitted\">&nbsp;XGBClassifier<span class=\"sk-estimator-doc-link fitted\">i<span>Fitted</span></span></label><div class=\"sk-toggleable__content fitted\"><pre>XGBClassifier(base_score=None, booster=None, callbacks=None,\n",
       "              colsample_bylevel=None, colsample_bynode=0.24699923633783935,\n",
       "              colsample_bytree=None, device=None, early_stopping_rounds=None,\n",
       "              enable_categorical=False,\n",
       "              eval_metric=&lt;function custom_f1_score at 0x7fe5f7ae7f60&gt;,\n",
       "              feature_types=None, gamma=None, grow_policy=None,\n",
       "              importance_type=None, interaction_constraints=None,\n",
       "              learning_rate=0.01232648763440492, max_bin=None,\n",
       "              max_cat_threshold=None, max_cat_to_onehot=None,\n",
       "              max_delta_step=None, max_depth=6, max_leaves=None,\n",
       "              min_child_weight=1, missing=nan, monotone_constraints=None,\n",
       "              multi_strategy=None, n_estimators=9, n_jobs=None,\n",
       "              num_parallel_tree=None, objective=&#x27;multi:softprob&#x27;, ...)</pre></div> </div></div></div></div>"
      ],
      "text/plain": [
       "XGBClassifier(base_score=None, booster=None, callbacks=None,\n",
       "              colsample_bylevel=None, colsample_bynode=0.24699923633783935,\n",
       "              colsample_bytree=None, device=None, early_stopping_rounds=None,\n",
       "              enable_categorical=False,\n",
       "              eval_metric=<function custom_f1_score at 0x7fe5f7ae7f60>,\n",
       "              feature_types=None, gamma=None, grow_policy=None,\n",
       "              importance_type=None, interaction_constraints=None,\n",
       "              learning_rate=0.01232648763440492, max_bin=None,\n",
       "              max_cat_threshold=None, max_cat_to_onehot=None,\n",
       "              max_delta_step=None, max_depth=6, max_leaves=None,\n",
       "              min_child_weight=1, missing=nan, monotone_constraints=None,\n",
       "              multi_strategy=None, n_estimators=9, n_jobs=None,\n",
       "              num_parallel_tree=None, objective='multi:softprob', ...)"
      ]
     },
     "execution_count": 21,
     "metadata": {},
     "output_type": "execute_result"
    }
   ],
   "source": [
    "n_estimators = int(study.best_trial.user_attrs['best_iteration']*1.2)\n",
    "xgb = xgboost.XGBClassifier(\n",
    "        eval_metric=eval_metric,\n",
    "        n_estimators=n_estimators,\n",
    "        **study.best_trial.params\n",
    "    )\n",
    "xgb.fit(\n",
    "    ssp.vstack((X_train, X_val)), \n",
    "    np.concatenate((y_train_enc, y_val_enc)),\n",
    "    verbose=1,\n",
    ")"
   ]
  },
  {
   "cell_type": "code",
   "execution_count": 22,
   "id": "9512f75b",
   "metadata": {
    "execution": {
     "iopub.execute_input": "2025-06-13T13:10:16.279516Z",
     "iopub.status.busy": "2025-06-13T13:10:16.279339Z",
     "iopub.status.idle": "2025-06-13T13:10:16.294168Z",
     "shell.execute_reply": "2025-06-13T13:10:16.293868Z"
    },
    "papermill": {
     "duration": 0.024606,
     "end_time": "2025-06-13T13:10:16.294973",
     "exception": false,
     "start_time": "2025-06-13T13:10:16.270367",
     "status": "completed"
    },
    "tags": []
   },
   "outputs": [
    {
     "data": {
      "text/plain": [
       "['/scratch_isilon/groups/singlecell/shared/projects/Inflammation-PBMCs-Atlas/03_downstream_analysis/08_gene_importance/xgboost_external_validation/xgboost_TopN_genes/results_20/best_model/Plasma_shap_studyID_samesize_1_xgb.json']"
      ]
     },
     "execution_count": 22,
     "metadata": {},
     "output_type": "execute_result"
    }
   ],
   "source": [
    "out_dir = here(f'03_downstream_analysis/08_gene_importance/xgboost_external_validation/xgboost_TopN_genes/results_{N_GENES}/best_model')\n",
    "\n",
    "if not os.path.exists(out_dir):\n",
    "    os.makedirs(out_dir)\n",
    "    \n",
    "joblib.dump(xgb, os.path.join(out_dir, f'{CELL_TYPE}_{SEED}_{TEST_SPLIT_IDX}_xgb.json'))"
   ]
  },
  {
   "cell_type": "code",
   "execution_count": 23,
   "id": "1100f96f",
   "metadata": {
    "execution": {
     "iopub.execute_input": "2025-06-13T13:10:16.354361Z",
     "iopub.status.busy": "2025-06-13T13:10:16.354060Z",
     "iopub.status.idle": "2025-06-13T13:10:16.391261Z",
     "shell.execute_reply": "2025-06-13T13:10:16.390962Z"
    },
    "papermill": {
     "duration": 0.092457,
     "end_time": "2025-06-13T13:10:16.395973",
     "exception": false,
     "start_time": "2025-06-13T13:10:16.303516",
     "status": "completed"
    },
    "tags": []
   },
   "outputs": [],
   "source": [
    "df_pred_test = pd.DataFrame(dict(\n",
    "    cell_id=train_adata.obs.iloc[test_idxs].index.values,\n",
    "    y_true=y_test, \n",
    "    y_true_code=y_test_enc, \n",
    "    y_pred=xgb.predict(X_test))).set_index('cell_id')"
   ]
  },
  {
   "cell_type": "code",
   "execution_count": 24,
   "id": "bd610a2e",
   "metadata": {
    "execution": {
     "iopub.execute_input": "2025-06-13T13:10:16.458700Z",
     "iopub.status.busy": "2025-06-13T13:10:16.458059Z",
     "iopub.status.idle": "2025-06-13T13:10:16.479019Z",
     "shell.execute_reply": "2025-06-13T13:10:16.478732Z"
    },
    "papermill": {
     "duration": 0.07278,
     "end_time": "2025-06-13T13:10:16.479837",
     "exception": false,
     "start_time": "2025-06-13T13:10:16.407057",
     "status": "completed"
    },
    "tags": []
   },
   "outputs": [],
   "source": [
    "out_dir = here(f'03_downstream_analysis/08_gene_importance/xgboost_external_validation/xgboost_TopN_genes/results_{N_GENES}/predictions')\n",
    "\n",
    "if not os.path.exists(out_dir):\n",
    "    os.makedirs(out_dir)\n",
    "    \n",
    "df_pred_test.to_csv(os.path.join(out_dir, f'{CELL_TYPE}_{SEED}_{TEST_SPLIT_IDX}_pred_test.zip'))"
   ]
  },
  {
   "cell_type": "code",
   "execution_count": 25,
   "id": "cdba761d",
   "metadata": {
    "execution": {
     "iopub.execute_input": "2025-06-13T13:10:16.513723Z",
     "iopub.status.busy": "2025-06-13T13:10:16.513551Z",
     "iopub.status.idle": "2025-06-13T13:10:16.518453Z",
     "shell.execute_reply": "2025-06-13T13:10:16.518167Z"
    },
    "papermill": {
     "duration": 0.019154,
     "end_time": "2025-06-13T13:10:16.519227",
     "exception": false,
     "start_time": "2025-06-13T13:10:16.500073",
     "status": "completed"
    },
    "tags": []
   },
   "outputs": [],
   "source": [
    "metrics_dict = dict(\n",
    "    BAS=balanced_accuracy_score(y_true=df_pred_test.y_true_code, y_pred=df_pred_test.y_pred), WF1=f1_score(y_true=df_pred_test.y_true_code, y_pred=df_pred_test.y_pred,average='weighted'))"
   ]
  },
  {
   "cell_type": "code",
   "execution_count": 26,
   "id": "47dc6ae4",
   "metadata": {
    "execution": {
     "iopub.execute_input": "2025-06-13T13:10:16.588317Z",
     "iopub.status.busy": "2025-06-13T13:10:16.587945Z",
     "iopub.status.idle": "2025-06-13T13:10:16.590681Z",
     "shell.execute_reply": "2025-06-13T13:10:16.590370Z"
    },
    "papermill": {
     "duration": 0.062637,
     "end_time": "2025-06-13T13:10:16.591497",
     "exception": false,
     "start_time": "2025-06-13T13:10:16.528860",
     "status": "completed"
    },
    "tags": []
   },
   "outputs": [
    {
     "data": {
      "text/plain": [
       "{'BAS': 0.45585821449792036, 'WF1': 0.6148087688668111}"
      ]
     },
     "execution_count": 26,
     "metadata": {},
     "output_type": "execute_result"
    }
   ],
   "source": [
    "metrics_dict"
   ]
  },
  {
   "cell_type": "code",
   "execution_count": 27,
   "id": "7644589a",
   "metadata": {
    "execution": {
     "iopub.execute_input": "2025-06-13T13:10:16.631462Z",
     "iopub.status.busy": "2025-06-13T13:10:16.631157Z",
     "iopub.status.idle": "2025-06-13T13:10:16.639528Z",
     "shell.execute_reply": "2025-06-13T13:10:16.639227Z"
    },
    "papermill": {
     "duration": 0.026357,
     "end_time": "2025-06-13T13:10:16.640293",
     "exception": false,
     "start_time": "2025-06-13T13:10:16.613936",
     "status": "completed"
    },
    "tags": []
   },
   "outputs": [
    {
     "data": {
      "text/html": [
       "<div>\n",
       "<style scoped>\n",
       "    .dataframe tbody tr th:only-of-type {\n",
       "        vertical-align: middle;\n",
       "    }\n",
       "\n",
       "    .dataframe tbody tr th {\n",
       "        vertical-align: top;\n",
       "    }\n",
       "\n",
       "    .dataframe thead th {\n",
       "        text-align: right;\n",
       "    }\n",
       "</style>\n",
       "<table border=\"1\" class=\"dataframe\">\n",
       "  <thead>\n",
       "    <tr style=\"text-align: right;\">\n",
       "      <th></th>\n",
       "      <th>BAS</th>\n",
       "      <th>WF1</th>\n",
       "      <th>split_idx</th>\n",
       "      <th>gene_set_seed</th>\n",
       "      <th>cell_type</th>\n",
       "    </tr>\n",
       "  </thead>\n",
       "  <tbody>\n",
       "    <tr>\n",
       "      <th>0</th>\n",
       "      <td>0.455858</td>\n",
       "      <td>0.614809</td>\n",
       "      <td>1</td>\n",
       "      <td>shap_studyID_samesize</td>\n",
       "      <td>Plasma</td>\n",
       "    </tr>\n",
       "  </tbody>\n",
       "</table>\n",
       "</div>"
      ],
      "text/plain": [
       "        BAS       WF1  split_idx          gene_set_seed cell_type\n",
       "0  0.455858  0.614809          1  shap_studyID_samesize    Plasma"
      ]
     },
     "execution_count": 27,
     "metadata": {},
     "output_type": "execute_result"
    }
   ],
   "source": [
    "metrics_df = pd.DataFrame.from_dict([metrics_dict]).assign(split_idx=TEST_SPLIT_IDX, gene_set_seed=SEED, cell_type=CELL_TYPE)\n",
    "metrics_df"
   ]
  },
  {
   "cell_type": "code",
   "execution_count": 28,
   "id": "6f5eedbe",
   "metadata": {
    "execution": {
     "iopub.execute_input": "2025-06-13T13:10:16.662790Z",
     "iopub.status.busy": "2025-06-13T13:10:16.662284Z",
     "iopub.status.idle": "2025-06-13T13:10:16.672173Z",
     "shell.execute_reply": "2025-06-13T13:10:16.671821Z"
    },
    "papermill": {
     "duration": 0.021803,
     "end_time": "2025-06-13T13:10:16.673001",
     "exception": false,
     "start_time": "2025-06-13T13:10:16.651198",
     "status": "completed"
    },
    "tags": []
   },
   "outputs": [],
   "source": [
    "out_dir = here(f'03_downstream_analysis/08_gene_importance/xgboost_external_validation/xgboost_TopN_genes/results_{N_GENES}/metrics')\n",
    "\n",
    "if not os.path.exists(out_dir):\n",
    "    os.makedirs(out_dir)\n",
    "    \n",
    "metrics_df.to_csv(os.path.join(out_dir, f'{CELL_TYPE}_{SEED}_{TEST_SPLIT_IDX}_metrics.zip'))"
   ]
  }
 ],
 "metadata": {
  "kernelspec": {
   "display_name": "Python 3 (ipykernel)",
   "language": "python",
   "name": "python3"
  },
  "language_info": {
   "codemirror_mode": {
    "name": "ipython",
    "version": 3
   },
   "file_extension": ".py",
   "mimetype": "text/x-python",
   "name": "python",
   "nbconvert_exporter": "python",
   "pygments_lexer": "ipython3",
   "version": "3.12.5"
  },
  "papermill": {
   "default_parameters": {},
   "duration": 15.008955,
   "end_time": "2025-06-13T13:10:17.649066",
   "environment_variables": {},
   "exception": null,
   "input_path": "02_xgboost_fitting_external_20genes.ipynb",
   "output_path": "results_20/executed_notebooks/xgboost_fitting_external_CT_Plasma_GS_shap_studyID_samesize_seed1.ipynb",
   "parameters": {
    "CELL_TYPE": "Plasma",
    "SEED": "shap_studyID_samesize",
    "TEST_SPLIT_IDX": 1
   },
   "start_time": "2025-06-13T13:10:02.640111",
   "version": "2.6.0"
  }
 },
 "nbformat": 4,
 "nbformat_minor": 5
}