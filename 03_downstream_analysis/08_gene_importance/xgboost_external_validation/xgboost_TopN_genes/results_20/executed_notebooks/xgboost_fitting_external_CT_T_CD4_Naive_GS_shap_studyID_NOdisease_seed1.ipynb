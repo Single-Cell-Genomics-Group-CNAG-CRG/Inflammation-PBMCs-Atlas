{
 "cells": [
  {
   "cell_type": "code",
   "execution_count": 1,
   "id": "0efff9c3",
   "metadata": {
    "editable": true,
    "execution": {
     "iopub.execute_input": "2025-05-14T16:07:41.086949Z",
     "iopub.status.busy": "2025-05-14T16:07:41.086606Z",
     "iopub.status.idle": "2025-05-14T16:07:41.089312Z",
     "shell.execute_reply": "2025-05-14T16:07:41.089022Z"
    },
    "papermill": {
     "duration": 0.009887,
     "end_time": "2025-05-14T16:07:41.090153",
     "exception": false,
     "start_time": "2025-05-14T16:07:41.080266",
     "status": "completed"
    },
    "slideshow": {
     "slide_type": ""
    },
    "tags": [
     "parameters"
    ]
   },
   "outputs": [],
   "source": [
    "CELL_TYPE = 'pDC'\n",
    "N_GENES: int = 20\n",
    "SEED = 'shap_studyID' #'disease_NOstudy' 'study_NOdisease' or 'int' or 'shap_studyID'\n",
    "TEST_SPLIT_IDX: int = 1 #[0,4]"
   ]
  },
  {
   "cell_type": "code",
   "execution_count": 2,
   "id": "a6ba1204",
   "metadata": {
    "execution": {
     "iopub.execute_input": "2025-05-14T16:07:41.100649Z",
     "iopub.status.busy": "2025-05-14T16:07:41.100385Z",
     "iopub.status.idle": "2025-05-14T16:07:41.103029Z",
     "shell.execute_reply": "2025-05-14T16:07:41.102741Z"
    },
    "papermill": {
     "duration": 0.008652,
     "end_time": "2025-05-14T16:07:41.103897",
     "exception": false,
     "start_time": "2025-05-14T16:07:41.095245",
     "status": "completed"
    },
    "tags": [
     "injected-parameters"
    ]
   },
   "outputs": [],
   "source": [
    "# Parameters\n",
    "CELL_TYPE = \"T_CD4_Naive\"\n",
    "SEED = \"shap_studyID_NOdisease\"\n",
    "TEST_SPLIT_IDX = 1\n"
   ]
  },
  {
   "cell_type": "code",
   "execution_count": 3,
   "id": "37798f29",
   "metadata": {
    "execution": {
     "iopub.execute_input": "2025-05-14T16:07:41.114655Z",
     "iopub.status.busy": "2025-05-14T16:07:41.114390Z",
     "iopub.status.idle": "2025-05-14T16:07:41.116346Z",
     "shell.execute_reply": "2025-05-14T16:07:41.116056Z"
    },
    "papermill": {
     "duration": 0.008178,
     "end_time": "2025-05-14T16:07:41.117180",
     "exception": false,
     "start_time": "2025-05-14T16:07:41.109002",
     "status": "completed"
    },
    "tags": []
   },
   "outputs": [],
   "source": [
    "N_SPLITS: int = 5\n",
    "N_TRIALS: int = 50"
   ]
  },
  {
   "cell_type": "code",
   "execution_count": 4,
   "id": "7dc2ab2a",
   "metadata": {
    "execution": {
     "iopub.execute_input": "2025-05-14T16:07:41.128504Z",
     "iopub.status.busy": "2025-05-14T16:07:41.128201Z",
     "iopub.status.idle": "2025-05-14T16:07:46.940447Z",
     "shell.execute_reply": "2025-05-14T16:07:46.939910Z"
    },
    "papermill": {
     "duration": 5.819682,
     "end_time": "2025-05-14T16:07:46.941670",
     "exception": false,
     "start_time": "2025-05-14T16:07:41.121988",
     "status": "completed"
    },
    "tags": []
   },
   "outputs": [],
   "source": [
    "import os\n",
    "import sys\n",
    "from pyprojroot.here import here\n",
    "import pandas as pd\n",
    "import anndata as ad\n",
    "import numpy as np\n",
    "import math\n",
    "from sklearn.model_selection import StratifiedGroupKFold\n",
    "from sklearn.preprocessing import LabelEncoder\n",
    "from sklearn.metrics import f1_score\n",
    "import matplotlib.pyplot as plt\n",
    "import seaborn as sns\n",
    "from itertools import product\n",
    "from sklearn.metrics import balanced_accuracy_score, f1_score\n",
    "import optuna\n",
    "\n",
    "import joblib\n",
    "import pickle\n",
    "import datetime\n",
    "\n",
    "import collections\n",
    "\n",
    "import xgboost\n",
    "from sklearn.preprocessing import LabelEncoder\n",
    "\n",
    "import scipy.sparse as ssp\n",
    "import joblib\n",
    "\n",
    "from dotenv import load_dotenv"
   ]
  },
  {
   "cell_type": "code",
   "execution_count": 5,
   "id": "1d67936a",
   "metadata": {
    "execution": {
     "iopub.execute_input": "2025-05-14T16:07:46.955159Z",
     "iopub.status.busy": "2025-05-14T16:07:46.954845Z",
     "iopub.status.idle": "2025-05-14T16:07:46.960946Z",
     "shell.execute_reply": "2025-05-14T16:07:46.960650Z"
    },
    "papermill": {
     "duration": 0.013199,
     "end_time": "2025-05-14T16:07:46.961898",
     "exception": false,
     "start_time": "2025-05-14T16:07:46.948699",
     "status": "completed"
    },
    "tags": []
   },
   "outputs": [
    {
     "data": {
      "text/plain": [
       "True"
      ]
     },
     "execution_count": 5,
     "metadata": {},
     "output_type": "execute_result"
    }
   ],
   "source": [
    "load_dotenv()"
   ]
  },
  {
   "cell_type": "markdown",
   "id": "69651743",
   "metadata": {
    "papermill": {
     "duration": 0.005584,
     "end_time": "2025-05-14T16:07:46.973279",
     "exception": false,
     "start_time": "2025-05-14T16:07:46.967695",
     "status": "completed"
    },
    "tags": []
   },
   "source": [
    "# LOAD DATASET"
   ]
  },
  {
   "cell_type": "code",
   "execution_count": 6,
   "id": "98ec87fc",
   "metadata": {
    "execution": {
     "iopub.execute_input": "2025-05-14T16:07:46.986361Z",
     "iopub.status.busy": "2025-05-14T16:07:46.986130Z",
     "iopub.status.idle": "2025-05-14T16:07:47.565718Z",
     "shell.execute_reply": "2025-05-14T16:07:47.565208Z"
    },
    "papermill": {
     "duration": 0.58827,
     "end_time": "2025-05-14T16:07:47.566957",
     "exception": false,
     "start_time": "2025-05-14T16:07:46.978687",
     "status": "completed"
    },
    "tags": []
   },
   "outputs": [],
   "source": [
    "train_adata = ad.read_h5ad(\n",
    "    here(f'03_downstream_analysis/08_gene_importance/xgboost_external_validation/xgboost_TopN_genes/data_cellTypes/EXTERNAL_{CELL_TYPE}.filtered.log1p.h5ad')\n",
    ")"
   ]
  },
  {
   "cell_type": "code",
   "execution_count": 7,
   "id": "3164e79e",
   "metadata": {
    "execution": {
     "iopub.execute_input": "2025-05-14T16:07:47.578693Z",
     "iopub.status.busy": "2025-05-14T16:07:47.578415Z",
     "iopub.status.idle": "2025-05-14T16:07:47.606481Z",
     "shell.execute_reply": "2025-05-14T16:07:47.606133Z"
    },
    "papermill": {
     "duration": 0.03497,
     "end_time": "2025-05-14T16:07:47.607371",
     "exception": false,
     "start_time": "2025-05-14T16:07:47.572401",
     "status": "completed"
    },
    "tags": []
   },
   "outputs": [
    {
     "name": "stdout",
     "output_type": "stream",
     "text": [
      "['ENSG00000002586' 'ENSG00000005339' 'ENSG00000011600' 'ENSG00000015475'\n",
      " 'ENSG00000019582' 'ENSG00000030582' 'ENSG00000035115' 'ENSG00000042753'\n",
      " 'ENSG00000051108' 'ENSG00000051523' 'ENSG00000057657' 'ENSG00000065978'\n",
      " 'ENSG00000066294' 'ENSG00000068796' 'ENSG00000068831' 'ENSG00000077150'\n",
      " 'ENSG00000077238' 'ENSG00000082074' 'ENSG00000089280' 'ENSG00000090382'\n",
      " 'ENSG00000099204' 'ENSG00000100300' 'ENSG00000100393' 'ENSG00000100911'\n",
      " 'ENSG00000103187' 'ENSG00000103490' 'ENSG00000104763' 'ENSG00000104894'\n",
      " 'ENSG00000104904' 'ENSG00000104964' 'ENSG00000105583' 'ENSG00000105835'\n",
      " 'ENSG00000106605' 'ENSG00000108561' 'ENSG00000110395' 'ENSG00000111348'\n",
      " 'ENSG00000111640' 'ENSG00000111678' 'ENSG00000111716' 'ENSG00000114861'\n",
      " 'ENSG00000115073' 'ENSG00000117020' 'ENSG00000117318' 'ENSG00000117602'\n",
      " 'ENSG00000118260' 'ENSG00000118640' 'ENSG00000118971' 'ENSG00000120129'\n",
      " 'ENSG00000120742' 'ENSG00000122862' 'ENSG00000126264' 'ENSG00000126267'\n",
      " 'ENSG00000126353' 'ENSG00000127184' 'ENSG00000127314' 'ENSG00000127528'\n",
      " 'ENSG00000130066' 'ENSG00000130429' 'ENSG00000130724' 'ENSG00000130755'\n",
      " 'ENSG00000132510' 'ENSG00000133639' 'ENSG00000134352' 'ENSG00000135441'\n",
      " 'ENSG00000135720' 'ENSG00000136003' 'ENSG00000136156' 'ENSG00000136732'\n",
      " 'ENSG00000137100' 'ENSG00000138107' 'ENSG00000138674' 'ENSG00000139193'\n",
      " 'ENSG00000139626' 'ENSG00000140264' 'ENSG00000141367' 'ENSG00000143543'\n",
      " 'ENSG00000143575' 'ENSG00000143924' 'ENSG00000145912' 'ENSG00000146278'\n",
      " 'ENSG00000149357' 'ENSG00000151882' 'ENSG00000154814' 'ENSG00000155368'\n",
      " 'ENSG00000157020' 'ENSG00000157873' 'ENSG00000158869' 'ENSG00000160075'\n",
      " 'ENSG00000160255' 'ENSG00000160710' 'ENSG00000163131' 'ENSG00000163191'\n",
      " 'ENSG00000163513' 'ENSG00000163600' 'ENSG00000163931' 'ENSG00000164104'\n",
      " 'ENSG00000164543' 'ENSG00000165732' 'ENSG00000166681' 'ENSG00000166710'\n",
      " 'ENSG00000166747' 'ENSG00000166888' 'ENSG00000167283' 'ENSG00000167996'\n",
      " 'ENSG00000168610' 'ENSG00000169429' 'ENSG00000170345' 'ENSG00000171608'\n",
      " 'ENSG00000171700' 'ENSG00000173812' 'ENSG00000175203' 'ENSG00000175354'\n",
      " 'ENSG00000175390' 'ENSG00000175482' 'ENSG00000177663' 'ENSG00000177885'\n",
      " 'ENSG00000179094' 'ENSG00000179295' 'ENSG00000183020' 'ENSG00000183172'\n",
      " 'ENSG00000183486' 'ENSG00000185201' 'ENSG00000185338' 'ENSG00000185885'\n",
      " 'ENSG00000186010' 'ENSG00000186395' 'ENSG00000187608' 'ENSG00000188404'\n",
      " 'ENSG00000189067' 'ENSG00000189283' 'ENSG00000197747' 'ENSG00000198355'\n",
      " 'ENSG00000204264' 'ENSG00000204267' 'ENSG00000204592' 'ENSG00000204843'\n",
      " 'ENSG00000213928' 'ENSG00000216490' 'ENSG00000223865' 'ENSG00000231389'\n",
      " 'ENSG00000241837' 'ENSG00000242616' 'ENSG00000243678' 'ENSG00000258315']\n"
     ]
    }
   ],
   "source": [
    "if SEED != 'all':\n",
    "    gene_subset = np.load(here(f'03_downstream_analysis/08_gene_importance/xgboost_external_validation/shap_gene_selection/gene_subsets_{N_GENES}/{CELL_TYPE}_{SEED}.npy'), allow_pickle=True)\n",
    "    train_adata = train_adata[:,gene_subset]\n",
    "    print(gene_subset)\n",
    "elif SEED == 'all':\n",
    "    print('Using all genes')\n",
    "else:\n",
    "    raise ValueError()"
   ]
  },
  {
   "cell_type": "code",
   "execution_count": 8,
   "id": "a15e6e8f",
   "metadata": {
    "execution": {
     "iopub.execute_input": "2025-05-14T16:07:47.619409Z",
     "iopub.status.busy": "2025-05-14T16:07:47.619171Z",
     "iopub.status.idle": "2025-05-14T16:07:47.623153Z",
     "shell.execute_reply": "2025-05-14T16:07:47.622848Z"
    },
    "papermill": {
     "duration": 0.011202,
     "end_time": "2025-05-14T16:07:47.624545",
     "exception": false,
     "start_time": "2025-05-14T16:07:47.613343",
     "status": "completed"
    },
    "tags": []
   },
   "outputs": [
    {
     "data": {
      "text/plain": [
       "(85497, 144)"
      ]
     },
     "execution_count": 8,
     "metadata": {},
     "output_type": "execute_result"
    }
   ],
   "source": [
    "train_adata.shape"
   ]
  },
  {
   "cell_type": "code",
   "execution_count": 9,
   "id": "6cc34210",
   "metadata": {
    "execution": {
     "iopub.execute_input": "2025-05-14T16:07:47.637452Z",
     "iopub.status.busy": "2025-05-14T16:07:47.637116Z",
     "iopub.status.idle": "2025-05-14T16:07:47.640679Z",
     "shell.execute_reply": "2025-05-14T16:07:47.640373Z"
    },
    "papermill": {
     "duration": 0.010477,
     "end_time": "2025-05-14T16:07:47.641501",
     "exception": false,
     "start_time": "2025-05-14T16:07:47.631024",
     "status": "completed"
    },
    "tags": []
   },
   "outputs": [
    {
     "data": {
      "text/plain": [
       "['RA', 'COVID', 'healthy', 'HIV', 'cirrhosis', 'CD', 'SLE', 'sepsis']\n",
       "Categories (8, object): ['CD', 'COVID', 'HIV', 'RA', 'SLE', 'cirrhosis', 'healthy', 'sepsis']"
      ]
     },
     "execution_count": 9,
     "metadata": {},
     "output_type": "execute_result"
    }
   ],
   "source": [
    "train_adata.obs.disease.unique()"
   ]
  },
  {
   "cell_type": "code",
   "execution_count": 10,
   "id": "dccb5ed0",
   "metadata": {
    "execution": {
     "iopub.execute_input": "2025-05-14T16:07:47.653219Z",
     "iopub.status.busy": "2025-05-14T16:07:47.652968Z",
     "iopub.status.idle": "2025-05-14T16:07:47.656445Z",
     "shell.execute_reply": "2025-05-14T16:07:47.656157Z"
    },
    "papermill": {
     "duration": 0.010269,
     "end_time": "2025-05-14T16:07:47.657246",
     "exception": false,
     "start_time": "2025-05-14T16:07:47.646977",
     "status": "completed"
    },
    "tags": []
   },
   "outputs": [
    {
     "data": {
      "text/plain": [
       "['SCGT00val_I036016_T0', 'SCGT00val_I036019_T0', 'SCGT00val_I036023_T0', 'SCGT00val_I036015_T0', 'SCGT00val_I036028_T0', ..., '10XGenomics_10XHC2_T0', '10XGenomics_10XHC3_T0', '10XGenomics_10XHC5_T0', '10XGenomics_10XHC7_T0', '10XGenomics_10XHC8_T0']\n",
       "Length: 86\n",
       "Categories (86, object): ['10XGenomics_10XHC1_T0', '10XGenomics_10XHC2_T0', '10XGenomics_10XHC3_T0', '10XGenomics_10XHC4_T0', ..., 'Savage2021_BRISL6_T0', 'Savage2021_BRISL7_T0', 'Savage2021_PIDA_T0', 'Savage2021_PIDB_T0']"
      ]
     },
     "execution_count": 10,
     "metadata": {},
     "output_type": "execute_result"
    }
   ],
   "source": [
    "train_adata.obs.sampleID.unique()"
   ]
  },
  {
   "cell_type": "code",
   "execution_count": 11,
   "id": "ef40c286",
   "metadata": {
    "execution": {
     "iopub.execute_input": "2025-05-14T16:07:47.668517Z",
     "iopub.status.busy": "2025-05-14T16:07:47.668350Z",
     "iopub.status.idle": "2025-05-14T16:07:47.877837Z",
     "shell.execute_reply": "2025-05-14T16:07:47.877395Z"
    },
    "papermill": {
     "duration": 0.21655,
     "end_time": "2025-05-14T16:07:47.879058",
     "exception": false,
     "start_time": "2025-05-14T16:07:47.662508",
     "status": "completed"
    },
    "tags": []
   },
   "outputs": [],
   "source": [
    "all_idxs = np.arange(train_adata.obs.shape[0])\n",
    "left_out_splits = [s[1] for s in StratifiedGroupKFold(n_splits=N_SPLITS).split(all_idxs, train_adata.obs.disease, train_adata.obs.sampleID)]"
   ]
  },
  {
   "cell_type": "code",
   "execution_count": 12,
   "id": "9d39ce47",
   "metadata": {
    "execution": {
     "iopub.execute_input": "2025-05-14T16:07:47.891693Z",
     "iopub.status.busy": "2025-05-14T16:07:47.891324Z",
     "iopub.status.idle": "2025-05-14T16:07:47.894630Z",
     "shell.execute_reply": "2025-05-14T16:07:47.894319Z"
    },
    "papermill": {
     "duration": 0.010177,
     "end_time": "2025-05-14T16:07:47.895434",
     "exception": false,
     "start_time": "2025-05-14T16:07:47.885257",
     "status": "completed"
    },
    "tags": []
   },
   "outputs": [
    {
     "data": {
      "text/plain": [
       "([0, 3, 4], 2, 1)"
      ]
     },
     "execution_count": 12,
     "metadata": {},
     "output_type": "execute_result"
    }
   ],
   "source": [
    "TRAIN_SPLIT_IDXS = [0,1,2,3,4]\n",
    "VAL_SPLIT_IDX = (TEST_SPLIT_IDX + 1) % 5\n",
    "TRAIN_SPLIT_IDXS.remove(TEST_SPLIT_IDX)\n",
    "TRAIN_SPLIT_IDXS.remove(VAL_SPLIT_IDX)\n",
    "TRAIN_SPLIT_IDXS, VAL_SPLIT_IDX, TEST_SPLIT_IDX"
   ]
  },
  {
   "cell_type": "code",
   "execution_count": 13,
   "id": "5b01ec74",
   "metadata": {
    "execution": {
     "iopub.execute_input": "2025-05-14T16:07:47.914888Z",
     "iopub.status.busy": "2025-05-14T16:07:47.914511Z",
     "iopub.status.idle": "2025-05-14T16:07:47.916935Z",
     "shell.execute_reply": "2025-05-14T16:07:47.916636Z"
    },
    "papermill": {
     "duration": 0.016863,
     "end_time": "2025-05-14T16:07:47.917730",
     "exception": false,
     "start_time": "2025-05-14T16:07:47.900867",
     "status": "completed"
    },
    "tags": []
   },
   "outputs": [],
   "source": [
    "train_idxs = np.concatenate([left_out_splits[idx] for idx in TRAIN_SPLIT_IDXS])\n",
    "val_idxs = left_out_splits[VAL_SPLIT_IDX]\n",
    "test_idxs = left_out_splits[TEST_SPLIT_IDX]"
   ]
  },
  {
   "cell_type": "markdown",
   "id": "4ec74191",
   "metadata": {
    "papermill": {
     "duration": 0.01127,
     "end_time": "2025-05-14T16:07:47.934859",
     "exception": false,
     "start_time": "2025-05-14T16:07:47.923589",
     "status": "completed"
    },
    "tags": []
   },
   "source": [
    "### SUBSET DATASET INTO TRAIN/TEST/VAL SPLITS"
   ]
  },
  {
   "cell_type": "code",
   "execution_count": 14,
   "id": "d5f6ba2d",
   "metadata": {
    "execution": {
     "iopub.execute_input": "2025-05-14T16:07:47.948591Z",
     "iopub.status.busy": "2025-05-14T16:07:47.948282Z",
     "iopub.status.idle": "2025-05-14T16:07:48.178969Z",
     "shell.execute_reply": "2025-05-14T16:07:48.178639Z"
    },
    "papermill": {
     "duration": 0.239014,
     "end_time": "2025-05-14T16:07:48.179790",
     "exception": false,
     "start_time": "2025-05-14T16:07:47.940776",
     "status": "completed"
    },
    "tags": []
   },
   "outputs": [
    {
     "data": {
      "text/plain": [
       "((51828, 144), (17016, 144), (16653, 144))"
      ]
     },
     "execution_count": 14,
     "metadata": {},
     "output_type": "execute_result"
    }
   ],
   "source": [
    "X_train = train_adata.X[train_idxs]\n",
    "X_test = train_adata.X[test_idxs]\n",
    "X_val = train_adata.X[val_idxs]\n",
    "X_train.shape, X_test.shape, X_val.shape"
   ]
  },
  {
   "cell_type": "code",
   "execution_count": 15,
   "id": "1a19899d",
   "metadata": {
    "execution": {
     "iopub.execute_input": "2025-05-14T16:07:48.191733Z",
     "iopub.status.busy": "2025-05-14T16:07:48.191379Z",
     "iopub.status.idle": "2025-05-14T16:07:48.200788Z",
     "shell.execute_reply": "2025-05-14T16:07:48.200458Z"
    },
    "papermill": {
     "duration": 0.016196,
     "end_time": "2025-05-14T16:07:48.201588",
     "exception": false,
     "start_time": "2025-05-14T16:07:48.185392",
     "status": "completed"
    },
    "tags": []
   },
   "outputs": [
    {
     "data": {
      "text/plain": [
       "((51828,), (17016,), (16653,))"
      ]
     },
     "execution_count": 15,
     "metadata": {},
     "output_type": "execute_result"
    }
   ],
   "source": [
    "y_train = train_adata.obs.iloc[train_idxs].disease.values.astype(str)\n",
    "y_test = train_adata.obs.iloc[test_idxs].disease.values.astype(str)\n",
    "y_val = train_adata.obs.iloc[val_idxs].disease.values.astype(str)\n",
    "y_train.shape, y_test.shape, y_val.shape"
   ]
  },
  {
   "cell_type": "code",
   "execution_count": 16,
   "id": "260724be",
   "metadata": {
    "execution": {
     "iopub.execute_input": "2025-05-14T16:07:48.225833Z",
     "iopub.status.busy": "2025-05-14T16:07:48.225570Z",
     "iopub.status.idle": "2025-05-14T16:07:48.244191Z",
     "shell.execute_reply": "2025-05-14T16:07:48.243824Z"
    },
    "papermill": {
     "duration": 0.037872,
     "end_time": "2025-05-14T16:07:48.244979",
     "exception": false,
     "start_time": "2025-05-14T16:07:48.207107",
     "status": "completed"
    },
    "tags": []
   },
   "outputs": [],
   "source": [
    "lenc = LabelEncoder()\n",
    "y_train_enc = lenc.fit_transform(y_train)\n",
    "y_val_enc = lenc.transform(y_val)\n",
    "y_test_enc = lenc.transform(y_test)"
   ]
  },
  {
   "cell_type": "markdown",
   "id": "b2a6f41c",
   "metadata": {
    "papermill": {
     "duration": 0.00597,
     "end_time": "2025-05-14T16:07:48.256994",
     "exception": false,
     "start_time": "2025-05-14T16:07:48.251024",
     "status": "completed"
    },
    "tags": []
   },
   "source": [
    "### GENERATE F1 "
   ]
  },
  {
   "cell_type": "code",
   "execution_count": 17,
   "id": "47678383",
   "metadata": {
    "execution": {
     "iopub.execute_input": "2025-05-14T16:07:48.309197Z",
     "iopub.status.busy": "2025-05-14T16:07:48.308832Z",
     "iopub.status.idle": "2025-05-14T16:07:48.311082Z",
     "shell.execute_reply": "2025-05-14T16:07:48.310792Z"
    },
    "papermill": {
     "duration": 0.049132,
     "end_time": "2025-05-14T16:07:48.311894",
     "exception": false,
     "start_time": "2025-05-14T16:07:48.262762",
     "status": "completed"
    },
    "tags": []
   },
   "outputs": [],
   "source": [
    "def custom_f1_score(y_true, y_pred):\n",
    "    return -f1_score(y_true, y_pred.argmax(1), average='weighted')"
   ]
  },
  {
   "cell_type": "code",
   "execution_count": 18,
   "id": "c3689618",
   "metadata": {
    "execution": {
     "iopub.execute_input": "2025-05-14T16:07:48.351249Z",
     "iopub.status.busy": "2025-05-14T16:07:48.350817Z",
     "iopub.status.idle": "2025-05-14T16:07:48.354506Z",
     "shell.execute_reply": "2025-05-14T16:07:48.354183Z"
    },
    "papermill": {
     "duration": 0.020383,
     "end_time": "2025-05-14T16:07:48.355284",
     "exception": false,
     "start_time": "2025-05-14T16:07:48.334901",
     "status": "completed"
    },
    "tags": []
   },
   "outputs": [],
   "source": [
    "eval_metric=custom_f1_score\n",
    "eval_metric_name='custom_f1_score'\n",
    "\n",
    "def objective(trial):\n",
    "    params = {\n",
    "        'n_estimators': 1500,\n",
    "        'max_depth': trial.suggest_int('max_depth', 3, 20),\n",
    "        'min_child_weight': trial.suggest_int('min_child_weight', 1, 250),\n",
    "        'subsample': trial.suggest_float('subsample', 0.1, 1.0),\n",
    "        'colsample_bynode': trial.suggest_float('colsample_bynode', 0.1, 1.0),\n",
    "        'learning_rate': trial.suggest_float('learning_rate', 1e-3, 5e-1, log=True),\n",
    "    }\n",
    "    pruning_callback = optuna.integration.XGBoostPruningCallback(trial, f'validation_0-{eval_metric_name}')\n",
    "    es_callback = xgboost.callback.EarlyStopping(20, min_delta=0.001)\n",
    "    xgb = xgboost.XGBClassifier(\n",
    "        eval_metric=eval_metric,\n",
    "        callbacks=[pruning_callback, es_callback],\n",
    "        n_jobs=5,\n",
    "        **params\n",
    "    )\n",
    "    xgb.fit(\n",
    "        X_train, \n",
    "        y_train_enc, \n",
    "        verbose=0,\n",
    "        eval_set=[(X_val, y_val_enc)],\n",
    "    )\n",
    "    trial.set_user_attr('best_iteration', xgb.best_iteration)\n",
    "\n",
    "    return xgb.best_score"
   ]
  },
  {
   "cell_type": "code",
   "execution_count": 19,
   "id": "da0c703a",
   "metadata": {
    "execution": {
     "iopub.execute_input": "2025-05-14T16:07:48.368428Z",
     "iopub.status.busy": "2025-05-14T16:07:48.368146Z",
     "iopub.status.idle": "2025-05-14T16:19:29.344240Z",
     "shell.execute_reply": "2025-05-14T16:19:29.343655Z"
    },
    "papermill": {
     "duration": 700.983839,
     "end_time": "2025-05-14T16:19:29.345252",
     "exception": false,
     "start_time": "2025-05-14T16:07:48.361413",
     "status": "completed"
    },
    "scrolled": true,
    "tags": []
   },
   "outputs": [
    {
     "name": "stderr",
     "output_type": "stream",
     "text": [
      "[I 2025-05-14 18:07:48,369] A new study created in memory with name: no-name-2b5657ff-9321-4cf4-8d46-cb613649bdf2\n"
     ]
    },
    {
     "name": "stderr",
     "output_type": "stream",
     "text": [
      "[I 2025-05-14 18:07:52,946] Trial 0 finished with value: -0.624272 and parameters: {'max_depth': 9, 'min_child_weight': 238, 'subsample': 0.7587945476302645, 'colsample_bynode': 0.6387926357773329, 'learning_rate': 0.0026368755339723046}. Best is trial 0 with value: -0.624272.\n"
     ]
    },
    {
     "name": "stderr",
     "output_type": "stream",
     "text": [
      "[I 2025-05-14 18:08:46,320] Trial 1 finished with value: -0.750274 and parameters: {'max_depth': 5, 'min_child_weight': 15, 'subsample': 0.8795585311974417, 'colsample_bynode': 0.6410035105688879, 'learning_rate': 0.08148293210105287}. Best is trial 1 with value: -0.750274.\n"
     ]
    },
    {
     "name": "stderr",
     "output_type": "stream",
     "text": [
      "[I 2025-05-14 18:08:50,358] Trial 2 finished with value: -0.622444 and parameters: {'max_depth': 3, 'min_child_weight': 243, 'subsample': 0.8491983767203796, 'colsample_bynode': 0.29110519961044856, 'learning_rate': 0.003095566460242371}. Best is trial 1 with value: -0.750274.\n"
     ]
    },
    {
     "name": "stderr",
     "output_type": "stream",
     "text": [
      "[I 2025-05-14 18:08:55,377] Trial 3 finished with value: -0.647668 and parameters: {'max_depth': 6, 'min_child_weight': 77, 'subsample': 0.5722807884690141, 'colsample_bynode': 0.48875051677790415, 'learning_rate': 0.006109683510122491}. Best is trial 1 with value: -0.750274.\n"
     ]
    },
    {
     "name": "stderr",
     "output_type": "stream",
     "text": [
      "[I 2025-05-14 18:10:40,750] Trial 4 finished with value: -0.737569 and parameters: {'max_depth': 14, 'min_child_weight': 35, 'subsample': 0.3629301836816964, 'colsample_bynode': 0.4297256589643226, 'learning_rate': 0.01701841881702917}. Best is trial 1 with value: -0.750274.\n"
     ]
    },
    {
     "name": "stderr",
     "output_type": "stream",
     "text": [
      "[I 2025-05-14 18:10:48,006] Trial 5 pruned. Trial was pruned at iteration 23.\n"
     ]
    },
    {
     "name": "stderr",
     "output_type": "stream",
     "text": [
      "[I 2025-05-14 18:10:48,544] Trial 6 pruned. Trial was pruned at iteration 0.\n"
     ]
    },
    {
     "name": "stderr",
     "output_type": "stream",
     "text": [
      "[I 2025-05-14 18:10:49,068] Trial 7 pruned. Trial was pruned at iteration 0.\n"
     ]
    },
    {
     "name": "stderr",
     "output_type": "stream",
     "text": [
      "[I 2025-05-14 18:10:49,544] Trial 8 pruned. Trial was pruned at iteration 0.\n"
     ]
    },
    {
     "name": "stderr",
     "output_type": "stream",
     "text": [
      "[I 2025-05-14 18:10:50,585] Trial 9 pruned. Trial was pruned at iteration 2.\n"
     ]
    },
    {
     "name": "stderr",
     "output_type": "stream",
     "text": [
      "[I 2025-05-14 18:11:33,673] Trial 10 finished with value: -0.745204 and parameters: {'max_depth': 9, 'min_child_weight': 2, 'subsample': 0.9725833997090791, 'colsample_bynode': 0.11616568805333755, 'learning_rate': 0.17780618353487967}. Best is trial 1 with value: -0.750274.\n"
     ]
    },
    {
     "name": "stderr",
     "output_type": "stream",
     "text": [
      "[I 2025-05-14 18:12:21,798] Trial 11 finished with value: -0.74608 and parameters: {'max_depth': 9, 'min_child_weight': 4, 'subsample': 0.9818290990185045, 'colsample_bynode': 0.17702656156719, 'learning_rate': 0.11568531411766632}. Best is trial 1 with value: -0.750274.\n"
     ]
    },
    {
     "name": "stderr",
     "output_type": "stream",
     "text": [
      "[I 2025-05-14 18:12:34,403] Trial 12 pruned. Trial was pruned at iteration 31.\n"
     ]
    },
    {
     "name": "stderr",
     "output_type": "stream",
     "text": [
      "[I 2025-05-14 18:12:34,978] Trial 13 pruned. Trial was pruned at iteration 0.\n"
     ]
    },
    {
     "name": "stderr",
     "output_type": "stream",
     "text": [
      "[I 2025-05-14 18:12:35,573] Trial 14 pruned. Trial was pruned at iteration 0.\n"
     ]
    },
    {
     "name": "stderr",
     "output_type": "stream",
     "text": [
      "[I 2025-05-14 18:13:32,107] Trial 15 finished with value: -0.74524 and parameters: {'max_depth': 20, 'min_child_weight': 1, 'subsample': 0.7012908959710442, 'colsample_bynode': 0.2540835086298475, 'learning_rate': 0.2833114876720916}. Best is trial 1 with value: -0.750274.\n"
     ]
    },
    {
     "name": "stderr",
     "output_type": "stream",
     "text": [
      "[I 2025-05-14 18:13:32,661] Trial 16 pruned. Trial was pruned at iteration 0.\n"
     ]
    },
    {
     "name": "stderr",
     "output_type": "stream",
     "text": [
      "[I 2025-05-14 18:13:33,236] Trial 17 pruned. Trial was pruned at iteration 0.\n"
     ]
    },
    {
     "name": "stderr",
     "output_type": "stream",
     "text": [
      "[I 2025-05-14 18:14:07,781] Trial 18 finished with value: -0.754324 and parameters: {'max_depth': 11, 'min_child_weight': 37, 'subsample': 0.8988001325877066, 'colsample_bynode': 0.3955466156360019, 'learning_rate': 0.13348559174149954}. Best is trial 18 with value: -0.754324.\n"
     ]
    },
    {
     "name": "stderr",
     "output_type": "stream",
     "text": [
      "[I 2025-05-14 18:14:08,339] Trial 19 pruned. Trial was pruned at iteration 0.\n"
     ]
    },
    {
     "name": "stderr",
     "output_type": "stream",
     "text": [
      "[I 2025-05-14 18:14:30,249] Trial 20 finished with value: -0.755596 and parameters: {'max_depth': 16, 'min_child_weight': 36, 'subsample': 0.6578156841377696, 'colsample_bynode': 0.5501785677119223, 'learning_rate': 0.2221537505158567}. Best is trial 20 with value: -0.755596.\n"
     ]
    },
    {
     "name": "stderr",
     "output_type": "stream",
     "text": [
      "[I 2025-05-14 18:14:59,589] Trial 21 finished with value: -0.759645 and parameters: {'max_depth': 17, 'min_child_weight': 32, 'subsample': 0.6689074388587125, 'colsample_bynode': 0.5334907331464369, 'learning_rate': 0.24892967230551474}. Best is trial 21 with value: -0.759645.\n"
     ]
    },
    {
     "name": "stderr",
     "output_type": "stream",
     "text": [
      "[I 2025-05-14 18:15:15,488] Trial 22 finished with value: -0.756531 and parameters: {'max_depth': 17, 'min_child_weight': 34, 'subsample': 0.6581340170061017, 'colsample_bynode': 0.5266652989265285, 'learning_rate': 0.46863809772466414}. Best is trial 21 with value: -0.759645.\n"
     ]
    },
    {
     "name": "stderr",
     "output_type": "stream",
     "text": [
      "[I 2025-05-14 18:15:16,054] Trial 23 pruned. Trial was pruned at iteration 0.\n"
     ]
    },
    {
     "name": "stderr",
     "output_type": "stream",
     "text": [
      "[I 2025-05-14 18:15:16,677] Trial 24 pruned. Trial was pruned at iteration 0.\n"
     ]
    },
    {
     "name": "stderr",
     "output_type": "stream",
     "text": [
      "[I 2025-05-14 18:15:17,258] Trial 25 pruned. Trial was pruned at iteration 0.\n"
     ]
    },
    {
     "name": "stderr",
     "output_type": "stream",
     "text": [
      "[I 2025-05-14 18:15:17,786] Trial 26 pruned. Trial was pruned at iteration 0.\n"
     ]
    },
    {
     "name": "stderr",
     "output_type": "stream",
     "text": [
      "[I 2025-05-14 18:15:50,929] Trial 27 finished with value: -0.759266 and parameters: {'max_depth': 15, 'min_child_weight': 26, 'subsample': 0.7372100274073263, 'colsample_bynode': 0.8538670910740125, 'learning_rate': 0.22045433410159426}. Best is trial 21 with value: -0.759645.\n"
     ]
    },
    {
     "name": "stderr",
     "output_type": "stream",
     "text": [
      "[I 2025-05-14 18:16:32,255] Trial 28 finished with value: -0.759891 and parameters: {'max_depth': 15, 'min_child_weight': 21, 'subsample': 0.7577991636324294, 'colsample_bynode': 0.8574718966453705, 'learning_rate': 0.29386462278466685}. Best is trial 28 with value: -0.759891.\n"
     ]
    },
    {
     "name": "stderr",
     "output_type": "stream",
     "text": [
      "[I 2025-05-14 18:16:32,756] Trial 29 pruned. Trial was pruned at iteration 0.\n"
     ]
    },
    {
     "name": "stderr",
     "output_type": "stream",
     "text": [
      "[I 2025-05-14 18:16:33,281] Trial 30 pruned. Trial was pruned at iteration 0.\n"
     ]
    },
    {
     "name": "stderr",
     "output_type": "stream",
     "text": [
      "[I 2025-05-14 18:17:02,029] Trial 31 finished with value: -0.757807 and parameters: {'max_depth': 19, 'min_child_weight': 23, 'subsample': 0.7209126747488854, 'colsample_bynode': 0.8590519022574464, 'learning_rate': 0.33520941417627514}. Best is trial 28 with value: -0.759891.\n"
     ]
    },
    {
     "name": "stderr",
     "output_type": "stream",
     "text": [
      "[I 2025-05-14 18:17:37,327] Trial 32 finished with value: -0.755481 and parameters: {'max_depth': 18, 'min_child_weight': 22, 'subsample': 0.8160786301061494, 'colsample_bynode': 0.8659118953350515, 'learning_rate': 0.25114372022272824}. Best is trial 28 with value: -0.759891.\n"
     ]
    },
    {
     "name": "stderr",
     "output_type": "stream",
     "text": [
      "[I 2025-05-14 18:17:47,630] Trial 33 pruned. Trial was pruned at iteration 21.\n"
     ]
    },
    {
     "name": "stderr",
     "output_type": "stream",
     "text": [
      "[I 2025-05-14 18:17:48,243] Trial 34 pruned. Trial was pruned at iteration 0.\n"
     ]
    },
    {
     "name": "stderr",
     "output_type": "stream",
     "text": [
      "[I 2025-05-14 18:18:11,973] Trial 35 finished with value: -0.755049 and parameters: {'max_depth': 15, 'min_child_weight': 19, 'subsample': 0.7332229046233107, 'colsample_bynode': 0.6817664353948963, 'learning_rate': 0.35302303367195054}. Best is trial 28 with value: -0.759891.\n"
     ]
    },
    {
     "name": "stderr",
     "output_type": "stream",
     "text": [
      "[I 2025-05-14 18:18:12,626] Trial 36 pruned. Trial was pruned at iteration 0.\n"
     ]
    },
    {
     "name": "stderr",
     "output_type": "stream",
     "text": [
      "[I 2025-05-14 18:18:15,255] Trial 37 pruned. Trial was pruned at iteration 4.\n"
     ]
    },
    {
     "name": "stderr",
     "output_type": "stream",
     "text": [
      "[I 2025-05-14 18:18:15,854] Trial 38 pruned. Trial was pruned at iteration 0.\n"
     ]
    },
    {
     "name": "stderr",
     "output_type": "stream",
     "text": [
      "[I 2025-05-14 18:18:16,382] Trial 39 pruned. Trial was pruned at iteration 0.\n"
     ]
    },
    {
     "name": "stderr",
     "output_type": "stream",
     "text": [
      "[I 2025-05-14 18:18:16,932] Trial 40 pruned. Trial was pruned at iteration 0.\n"
     ]
    },
    {
     "name": "stderr",
     "output_type": "stream",
     "text": [
      "[I 2025-05-14 18:18:33,471] Trial 41 finished with value: -0.754298 and parameters: {'max_depth': 19, 'min_child_weight': 31, 'subsample': 0.7143922406923223, 'colsample_bynode': 0.8407361604665606, 'learning_rate': 0.471927778646894}. Best is trial 28 with value: -0.759891.\n"
     ]
    },
    {
     "name": "stderr",
     "output_type": "stream",
     "text": [
      "[I 2025-05-14 18:19:01,802] Trial 42 finished with value: -0.755365 and parameters: {'max_depth': 17, 'min_child_weight': 14, 'subsample': 0.6896124702948848, 'colsample_bynode': 0.9846098871556901, 'learning_rate': 0.33391094493447737}. Best is trial 28 with value: -0.759891.\n"
     ]
    },
    {
     "name": "stderr",
     "output_type": "stream",
     "text": [
      "[I 2025-05-14 18:19:02,360] Trial 43 pruned. Trial was pruned at iteration 0.\n"
     ]
    },
    {
     "name": "stderr",
     "output_type": "stream",
     "text": [
      "[I 2025-05-14 18:19:02,959] Trial 44 pruned. Trial was pruned at iteration 0.\n"
     ]
    },
    {
     "name": "stderr",
     "output_type": "stream",
     "text": [
      "[I 2025-05-14 18:19:03,866] Trial 45 pruned. Trial was pruned at iteration 1.\n"
     ]
    },
    {
     "name": "stderr",
     "output_type": "stream",
     "text": [
      "[I 2025-05-14 18:19:22,607] Trial 46 finished with value: -0.758617 and parameters: {'max_depth': 15, 'min_child_weight': 13, 'subsample': 0.5935259249754787, 'colsample_bynode': 0.5615087301239835, 'learning_rate': 0.36183058148258507}. Best is trial 28 with value: -0.759891.\n"
     ]
    },
    {
     "name": "stderr",
     "output_type": "stream",
     "text": [
      "[I 2025-05-14 18:19:26,638] Trial 47 pruned. Trial was pruned at iteration 6.\n"
     ]
    },
    {
     "name": "stderr",
     "output_type": "stream",
     "text": [
      "[I 2025-05-14 18:19:27,159] Trial 48 pruned. Trial was pruned at iteration 0.\n"
     ]
    },
    {
     "name": "stderr",
     "output_type": "stream",
     "text": [
      "[I 2025-05-14 18:19:29,248] Trial 49 pruned. Trial was pruned at iteration 3.\n"
     ]
    }
   ],
   "source": [
    "sampler = optuna.samplers.TPESampler(seed=42)\n",
    "study = optuna.create_study(direction='minimize', sampler=sampler)\n",
    "study.optimize(objective, n_trials=N_TRIALS, gc_after_trial=True)"
   ]
  },
  {
   "cell_type": "code",
   "execution_count": 20,
   "id": "2e2a7573",
   "metadata": {
    "execution": {
     "iopub.execute_input": "2025-05-14T16:19:29.363755Z",
     "iopub.status.busy": "2025-05-14T16:19:29.363293Z",
     "iopub.status.idle": "2025-05-14T16:19:29.390391Z",
     "shell.execute_reply": "2025-05-14T16:19:29.390009Z"
    },
    "papermill": {
     "duration": 0.036796,
     "end_time": "2025-05-14T16:19:29.391219",
     "exception": false,
     "start_time": "2025-05-14T16:19:29.354423",
     "status": "completed"
    },
    "tags": []
   },
   "outputs": [
    {
     "data": {
      "text/plain": [
       "['/scratch_isilon/groups/singlecell/shared/projects/Inflammation-PBMCs-Atlas/03_downstream_analysis/08_gene_importance/xgboost_external_validation/xgboost_TopN_genes/results_20/study/T_CD4_Naive_shap_studyID_NOdisease_1_xgboost.pkl']"
      ]
     },
     "execution_count": 20,
     "metadata": {},
     "output_type": "execute_result"
    }
   ],
   "source": [
    "out_dir = here(f'03_downstream_analysis/08_gene_importance/xgboost_external_validation/xgboost_TopN_genes/results_{N_GENES}/study')\n",
    "\n",
    "if not os.path.exists(out_dir):\n",
    "    os.makedirs(out_dir)\n",
    "    \n",
    "joblib.dump(study,os.path.join(out_dir, f'{CELL_TYPE}_{SEED}_{TEST_SPLIT_IDX}_xgboost.pkl'))"
   ]
  },
  {
   "cell_type": "code",
   "execution_count": 21,
   "id": "5a4a0785",
   "metadata": {
    "execution": {
     "iopub.execute_input": "2025-05-14T16:19:29.408077Z",
     "iopub.status.busy": "2025-05-14T16:19:29.407628Z",
     "iopub.status.idle": "2025-05-14T16:19:55.327864Z",
     "shell.execute_reply": "2025-05-14T16:19:55.327352Z"
    },
    "papermill": {
     "duration": 25.929551,
     "end_time": "2025-05-14T16:19:55.328880",
     "exception": false,
     "start_time": "2025-05-14T16:19:29.399329",
     "status": "completed"
    },
    "tags": []
   },
   "outputs": [
    {
     "data": {
      "text/html": [
       "<style>#sk-container-id-1 {\n",
       "  /* Definition of color scheme common for light and dark mode */\n",
       "  --sklearn-color-text: black;\n",
       "  --sklearn-color-line: gray;\n",
       "  /* Definition of color scheme for unfitted estimators */\n",
       "  --sklearn-color-unfitted-level-0: #fff5e6;\n",
       "  --sklearn-color-unfitted-level-1: #f6e4d2;\n",
       "  --sklearn-color-unfitted-level-2: #ffe0b3;\n",
       "  --sklearn-color-unfitted-level-3: chocolate;\n",
       "  /* Definition of color scheme for fitted estimators */\n",
       "  --sklearn-color-fitted-level-0: #f0f8ff;\n",
       "  --sklearn-color-fitted-level-1: #d4ebff;\n",
       "  --sklearn-color-fitted-level-2: #b3dbfd;\n",
       "  --sklearn-color-fitted-level-3: cornflowerblue;\n",
       "\n",
       "  /* Specific color for light theme */\n",
       "  --sklearn-color-text-on-default-background: var(--sg-text-color, var(--theme-code-foreground, var(--jp-content-font-color1, black)));\n",
       "  --sklearn-color-background: var(--sg-background-color, var(--theme-background, var(--jp-layout-color0, white)));\n",
       "  --sklearn-color-border-box: var(--sg-text-color, var(--theme-code-foreground, var(--jp-content-font-color1, black)));\n",
       "  --sklearn-color-icon: #696969;\n",
       "\n",
       "  @media (prefers-color-scheme: dark) {\n",
       "    /* Redefinition of color scheme for dark theme */\n",
       "    --sklearn-color-text-on-default-background: var(--sg-text-color, var(--theme-code-foreground, var(--jp-content-font-color1, white)));\n",
       "    --sklearn-color-background: var(--sg-background-color, var(--theme-background, var(--jp-layout-color0, #111)));\n",
       "    --sklearn-color-border-box: var(--sg-text-color, var(--theme-code-foreground, var(--jp-content-font-color1, white)));\n",
       "    --sklearn-color-icon: #878787;\n",
       "  }\n",
       "}\n",
       "\n",
       "#sk-container-id-1 {\n",
       "  color: var(--sklearn-color-text);\n",
       "}\n",
       "\n",
       "#sk-container-id-1 pre {\n",
       "  padding: 0;\n",
       "}\n",
       "\n",
       "#sk-container-id-1 input.sk-hidden--visually {\n",
       "  border: 0;\n",
       "  clip: rect(1px 1px 1px 1px);\n",
       "  clip: rect(1px, 1px, 1px, 1px);\n",
       "  height: 1px;\n",
       "  margin: -1px;\n",
       "  overflow: hidden;\n",
       "  padding: 0;\n",
       "  position: absolute;\n",
       "  width: 1px;\n",
       "}\n",
       "\n",
       "#sk-container-id-1 div.sk-dashed-wrapped {\n",
       "  border: 1px dashed var(--sklearn-color-line);\n",
       "  margin: 0 0.4em 0.5em 0.4em;\n",
       "  box-sizing: border-box;\n",
       "  padding-bottom: 0.4em;\n",
       "  background-color: var(--sklearn-color-background);\n",
       "}\n",
       "\n",
       "#sk-container-id-1 div.sk-container {\n",
       "  /* jupyter's `normalize.less` sets `[hidden] { display: none; }`\n",
       "     but bootstrap.min.css set `[hidden] { display: none !important; }`\n",
       "     so we also need the `!important` here to be able to override the\n",
       "     default hidden behavior on the sphinx rendered scikit-learn.org.\n",
       "     See: https://github.com/scikit-learn/scikit-learn/issues/21755 */\n",
       "  display: inline-block !important;\n",
       "  position: relative;\n",
       "}\n",
       "\n",
       "#sk-container-id-1 div.sk-text-repr-fallback {\n",
       "  display: none;\n",
       "}\n",
       "\n",
       "div.sk-parallel-item,\n",
       "div.sk-serial,\n",
       "div.sk-item {\n",
       "  /* draw centered vertical line to link estimators */\n",
       "  background-image: linear-gradient(var(--sklearn-color-text-on-default-background), var(--sklearn-color-text-on-default-background));\n",
       "  background-size: 2px 100%;\n",
       "  background-repeat: no-repeat;\n",
       "  background-position: center center;\n",
       "}\n",
       "\n",
       "/* Parallel-specific style estimator block */\n",
       "\n",
       "#sk-container-id-1 div.sk-parallel-item::after {\n",
       "  content: \"\";\n",
       "  width: 100%;\n",
       "  border-bottom: 2px solid var(--sklearn-color-text-on-default-background);\n",
       "  flex-grow: 1;\n",
       "}\n",
       "\n",
       "#sk-container-id-1 div.sk-parallel {\n",
       "  display: flex;\n",
       "  align-items: stretch;\n",
       "  justify-content: center;\n",
       "  background-color: var(--sklearn-color-background);\n",
       "  position: relative;\n",
       "}\n",
       "\n",
       "#sk-container-id-1 div.sk-parallel-item {\n",
       "  display: flex;\n",
       "  flex-direction: column;\n",
       "}\n",
       "\n",
       "#sk-container-id-1 div.sk-parallel-item:first-child::after {\n",
       "  align-self: flex-end;\n",
       "  width: 50%;\n",
       "}\n",
       "\n",
       "#sk-container-id-1 div.sk-parallel-item:last-child::after {\n",
       "  align-self: flex-start;\n",
       "  width: 50%;\n",
       "}\n",
       "\n",
       "#sk-container-id-1 div.sk-parallel-item:only-child::after {\n",
       "  width: 0;\n",
       "}\n",
       "\n",
       "/* Serial-specific style estimator block */\n",
       "\n",
       "#sk-container-id-1 div.sk-serial {\n",
       "  display: flex;\n",
       "  flex-direction: column;\n",
       "  align-items: center;\n",
       "  background-color: var(--sklearn-color-background);\n",
       "  padding-right: 1em;\n",
       "  padding-left: 1em;\n",
       "}\n",
       "\n",
       "\n",
       "/* Toggleable style: style used for estimator/Pipeline/ColumnTransformer box that is\n",
       "clickable and can be expanded/collapsed.\n",
       "- Pipeline and ColumnTransformer use this feature and define the default style\n",
       "- Estimators will overwrite some part of the style using the `sk-estimator` class\n",
       "*/\n",
       "\n",
       "/* Pipeline and ColumnTransformer style (default) */\n",
       "\n",
       "#sk-container-id-1 div.sk-toggleable {\n",
       "  /* Default theme specific background. It is overwritten whether we have a\n",
       "  specific estimator or a Pipeline/ColumnTransformer */\n",
       "  background-color: var(--sklearn-color-background);\n",
       "}\n",
       "\n",
       "/* Toggleable label */\n",
       "#sk-container-id-1 label.sk-toggleable__label {\n",
       "  cursor: pointer;\n",
       "  display: block;\n",
       "  width: 100%;\n",
       "  margin-bottom: 0;\n",
       "  padding: 0.5em;\n",
       "  box-sizing: border-box;\n",
       "  text-align: center;\n",
       "}\n",
       "\n",
       "#sk-container-id-1 label.sk-toggleable__label-arrow:before {\n",
       "  /* Arrow on the left of the label */\n",
       "  content: \"▸\";\n",
       "  float: left;\n",
       "  margin-right: 0.25em;\n",
       "  color: var(--sklearn-color-icon);\n",
       "}\n",
       "\n",
       "#sk-container-id-1 label.sk-toggleable__label-arrow:hover:before {\n",
       "  color: var(--sklearn-color-text);\n",
       "}\n",
       "\n",
       "/* Toggleable content - dropdown */\n",
       "\n",
       "#sk-container-id-1 div.sk-toggleable__content {\n",
       "  max-height: 0;\n",
       "  max-width: 0;\n",
       "  overflow: hidden;\n",
       "  text-align: left;\n",
       "  /* unfitted */\n",
       "  background-color: var(--sklearn-color-unfitted-level-0);\n",
       "}\n",
       "\n",
       "#sk-container-id-1 div.sk-toggleable__content.fitted {\n",
       "  /* fitted */\n",
       "  background-color: var(--sklearn-color-fitted-level-0);\n",
       "}\n",
       "\n",
       "#sk-container-id-1 div.sk-toggleable__content pre {\n",
       "  margin: 0.2em;\n",
       "  border-radius: 0.25em;\n",
       "  color: var(--sklearn-color-text);\n",
       "  /* unfitted */\n",
       "  background-color: var(--sklearn-color-unfitted-level-0);\n",
       "}\n",
       "\n",
       "#sk-container-id-1 div.sk-toggleable__content.fitted pre {\n",
       "  /* unfitted */\n",
       "  background-color: var(--sklearn-color-fitted-level-0);\n",
       "}\n",
       "\n",
       "#sk-container-id-1 input.sk-toggleable__control:checked~div.sk-toggleable__content {\n",
       "  /* Expand drop-down */\n",
       "  max-height: 200px;\n",
       "  max-width: 100%;\n",
       "  overflow: auto;\n",
       "}\n",
       "\n",
       "#sk-container-id-1 input.sk-toggleable__control:checked~label.sk-toggleable__label-arrow:before {\n",
       "  content: \"▾\";\n",
       "}\n",
       "\n",
       "/* Pipeline/ColumnTransformer-specific style */\n",
       "\n",
       "#sk-container-id-1 div.sk-label input.sk-toggleable__control:checked~label.sk-toggleable__label {\n",
       "  color: var(--sklearn-color-text);\n",
       "  background-color: var(--sklearn-color-unfitted-level-2);\n",
       "}\n",
       "\n",
       "#sk-container-id-1 div.sk-label.fitted input.sk-toggleable__control:checked~label.sk-toggleable__label {\n",
       "  background-color: var(--sklearn-color-fitted-level-2);\n",
       "}\n",
       "\n",
       "/* Estimator-specific style */\n",
       "\n",
       "/* Colorize estimator box */\n",
       "#sk-container-id-1 div.sk-estimator input.sk-toggleable__control:checked~label.sk-toggleable__label {\n",
       "  /* unfitted */\n",
       "  background-color: var(--sklearn-color-unfitted-level-2);\n",
       "}\n",
       "\n",
       "#sk-container-id-1 div.sk-estimator.fitted input.sk-toggleable__control:checked~label.sk-toggleable__label {\n",
       "  /* fitted */\n",
       "  background-color: var(--sklearn-color-fitted-level-2);\n",
       "}\n",
       "\n",
       "#sk-container-id-1 div.sk-label label.sk-toggleable__label,\n",
       "#sk-container-id-1 div.sk-label label {\n",
       "  /* The background is the default theme color */\n",
       "  color: var(--sklearn-color-text-on-default-background);\n",
       "}\n",
       "\n",
       "/* On hover, darken the color of the background */\n",
       "#sk-container-id-1 div.sk-label:hover label.sk-toggleable__label {\n",
       "  color: var(--sklearn-color-text);\n",
       "  background-color: var(--sklearn-color-unfitted-level-2);\n",
       "}\n",
       "\n",
       "/* Label box, darken color on hover, fitted */\n",
       "#sk-container-id-1 div.sk-label.fitted:hover label.sk-toggleable__label.fitted {\n",
       "  color: var(--sklearn-color-text);\n",
       "  background-color: var(--sklearn-color-fitted-level-2);\n",
       "}\n",
       "\n",
       "/* Estimator label */\n",
       "\n",
       "#sk-container-id-1 div.sk-label label {\n",
       "  font-family: monospace;\n",
       "  font-weight: bold;\n",
       "  display: inline-block;\n",
       "  line-height: 1.2em;\n",
       "}\n",
       "\n",
       "#sk-container-id-1 div.sk-label-container {\n",
       "  text-align: center;\n",
       "}\n",
       "\n",
       "/* Estimator-specific */\n",
       "#sk-container-id-1 div.sk-estimator {\n",
       "  font-family: monospace;\n",
       "  border: 1px dotted var(--sklearn-color-border-box);\n",
       "  border-radius: 0.25em;\n",
       "  box-sizing: border-box;\n",
       "  margin-bottom: 0.5em;\n",
       "  /* unfitted */\n",
       "  background-color: var(--sklearn-color-unfitted-level-0);\n",
       "}\n",
       "\n",
       "#sk-container-id-1 div.sk-estimator.fitted {\n",
       "  /* fitted */\n",
       "  background-color: var(--sklearn-color-fitted-level-0);\n",
       "}\n",
       "\n",
       "/* on hover */\n",
       "#sk-container-id-1 div.sk-estimator:hover {\n",
       "  /* unfitted */\n",
       "  background-color: var(--sklearn-color-unfitted-level-2);\n",
       "}\n",
       "\n",
       "#sk-container-id-1 div.sk-estimator.fitted:hover {\n",
       "  /* fitted */\n",
       "  background-color: var(--sklearn-color-fitted-level-2);\n",
       "}\n",
       "\n",
       "/* Specification for estimator info (e.g. \"i\" and \"?\") */\n",
       "\n",
       "/* Common style for \"i\" and \"?\" */\n",
       "\n",
       ".sk-estimator-doc-link,\n",
       "a:link.sk-estimator-doc-link,\n",
       "a:visited.sk-estimator-doc-link {\n",
       "  float: right;\n",
       "  font-size: smaller;\n",
       "  line-height: 1em;\n",
       "  font-family: monospace;\n",
       "  background-color: var(--sklearn-color-background);\n",
       "  border-radius: 1em;\n",
       "  height: 1em;\n",
       "  width: 1em;\n",
       "  text-decoration: none !important;\n",
       "  margin-left: 1ex;\n",
       "  /* unfitted */\n",
       "  border: var(--sklearn-color-unfitted-level-1) 1pt solid;\n",
       "  color: var(--sklearn-color-unfitted-level-1);\n",
       "}\n",
       "\n",
       ".sk-estimator-doc-link.fitted,\n",
       "a:link.sk-estimator-doc-link.fitted,\n",
       "a:visited.sk-estimator-doc-link.fitted {\n",
       "  /* fitted */\n",
       "  border: var(--sklearn-color-fitted-level-1) 1pt solid;\n",
       "  color: var(--sklearn-color-fitted-level-1);\n",
       "}\n",
       "\n",
       "/* On hover */\n",
       "div.sk-estimator:hover .sk-estimator-doc-link:hover,\n",
       ".sk-estimator-doc-link:hover,\n",
       "div.sk-label-container:hover .sk-estimator-doc-link:hover,\n",
       ".sk-estimator-doc-link:hover {\n",
       "  /* unfitted */\n",
       "  background-color: var(--sklearn-color-unfitted-level-3);\n",
       "  color: var(--sklearn-color-background);\n",
       "  text-decoration: none;\n",
       "}\n",
       "\n",
       "div.sk-estimator.fitted:hover .sk-estimator-doc-link.fitted:hover,\n",
       ".sk-estimator-doc-link.fitted:hover,\n",
       "div.sk-label-container:hover .sk-estimator-doc-link.fitted:hover,\n",
       ".sk-estimator-doc-link.fitted:hover {\n",
       "  /* fitted */\n",
       "  background-color: var(--sklearn-color-fitted-level-3);\n",
       "  color: var(--sklearn-color-background);\n",
       "  text-decoration: none;\n",
       "}\n",
       "\n",
       "/* Span, style for the box shown on hovering the info icon */\n",
       ".sk-estimator-doc-link span {\n",
       "  display: none;\n",
       "  z-index: 9999;\n",
       "  position: relative;\n",
       "  font-weight: normal;\n",
       "  right: .2ex;\n",
       "  padding: .5ex;\n",
       "  margin: .5ex;\n",
       "  width: min-content;\n",
       "  min-width: 20ex;\n",
       "  max-width: 50ex;\n",
       "  color: var(--sklearn-color-text);\n",
       "  box-shadow: 2pt 2pt 4pt #999;\n",
       "  /* unfitted */\n",
       "  background: var(--sklearn-color-unfitted-level-0);\n",
       "  border: .5pt solid var(--sklearn-color-unfitted-level-3);\n",
       "}\n",
       "\n",
       ".sk-estimator-doc-link.fitted span {\n",
       "  /* fitted */\n",
       "  background: var(--sklearn-color-fitted-level-0);\n",
       "  border: var(--sklearn-color-fitted-level-3);\n",
       "}\n",
       "\n",
       ".sk-estimator-doc-link:hover span {\n",
       "  display: block;\n",
       "}\n",
       "\n",
       "/* \"?\"-specific style due to the `<a>` HTML tag */\n",
       "\n",
       "#sk-container-id-1 a.estimator_doc_link {\n",
       "  float: right;\n",
       "  font-size: 1rem;\n",
       "  line-height: 1em;\n",
       "  font-family: monospace;\n",
       "  background-color: var(--sklearn-color-background);\n",
       "  border-radius: 1rem;\n",
       "  height: 1rem;\n",
       "  width: 1rem;\n",
       "  text-decoration: none;\n",
       "  /* unfitted */\n",
       "  color: var(--sklearn-color-unfitted-level-1);\n",
       "  border: var(--sklearn-color-unfitted-level-1) 1pt solid;\n",
       "}\n",
       "\n",
       "#sk-container-id-1 a.estimator_doc_link.fitted {\n",
       "  /* fitted */\n",
       "  border: var(--sklearn-color-fitted-level-1) 1pt solid;\n",
       "  color: var(--sklearn-color-fitted-level-1);\n",
       "}\n",
       "\n",
       "/* On hover */\n",
       "#sk-container-id-1 a.estimator_doc_link:hover {\n",
       "  /* unfitted */\n",
       "  background-color: var(--sklearn-color-unfitted-level-3);\n",
       "  color: var(--sklearn-color-background);\n",
       "  text-decoration: none;\n",
       "}\n",
       "\n",
       "#sk-container-id-1 a.estimator_doc_link.fitted:hover {\n",
       "  /* fitted */\n",
       "  background-color: var(--sklearn-color-fitted-level-3);\n",
       "}\n",
       "</style><div id=\"sk-container-id-1\" class=\"sk-top-container\"><div class=\"sk-text-repr-fallback\"><pre>XGBClassifier(base_score=None, booster=None, callbacks=None,\n",
       "              colsample_bylevel=None, colsample_bynode=0.8574718966453705,\n",
       "              colsample_bytree=None, device=None, early_stopping_rounds=None,\n",
       "              enable_categorical=False,\n",
       "              eval_metric=&lt;function custom_f1_score at 0x7fa29b517b00&gt;,\n",
       "              feature_types=None, gamma=None, grow_policy=None,\n",
       "              importance_type=None, interaction_constraints=None,\n",
       "              learning_rate=0.29386462278466685, max_bin=None,\n",
       "              max_cat_threshold=None, max_cat_to_onehot=None,\n",
       "              max_delta_step=None, max_depth=15, max_leaves=None,\n",
       "              min_child_weight=21, missing=nan, monotone_constraints=None,\n",
       "              multi_strategy=None, n_estimators=145, n_jobs=None,\n",
       "              num_parallel_tree=None, objective=&#x27;multi:softprob&#x27;, ...)</pre><b>In a Jupyter environment, please rerun this cell to show the HTML representation or trust the notebook. <br />On GitHub, the HTML representation is unable to render, please try loading this page with nbviewer.org.</b></div><div class=\"sk-container\" hidden><div class=\"sk-item\"><div class=\"sk-estimator fitted sk-toggleable\"><input class=\"sk-toggleable__control sk-hidden--visually\" id=\"sk-estimator-id-1\" type=\"checkbox\" checked><label for=\"sk-estimator-id-1\" class=\"sk-toggleable__label fitted sk-toggleable__label-arrow fitted\">&nbsp;XGBClassifier<span class=\"sk-estimator-doc-link fitted\">i<span>Fitted</span></span></label><div class=\"sk-toggleable__content fitted\"><pre>XGBClassifier(base_score=None, booster=None, callbacks=None,\n",
       "              colsample_bylevel=None, colsample_bynode=0.8574718966453705,\n",
       "              colsample_bytree=None, device=None, early_stopping_rounds=None,\n",
       "              enable_categorical=False,\n",
       "              eval_metric=&lt;function custom_f1_score at 0x7fa29b517b00&gt;,\n",
       "              feature_types=None, gamma=None, grow_policy=None,\n",
       "              importance_type=None, interaction_constraints=None,\n",
       "              learning_rate=0.29386462278466685, max_bin=None,\n",
       "              max_cat_threshold=None, max_cat_to_onehot=None,\n",
       "              max_delta_step=None, max_depth=15, max_leaves=None,\n",
       "              min_child_weight=21, missing=nan, monotone_constraints=None,\n",
       "              multi_strategy=None, n_estimators=145, n_jobs=None,\n",
       "              num_parallel_tree=None, objective=&#x27;multi:softprob&#x27;, ...)</pre></div> </div></div></div></div>"
      ],
      "text/plain": [
       "XGBClassifier(base_score=None, booster=None, callbacks=None,\n",
       "              colsample_bylevel=None, colsample_bynode=0.8574718966453705,\n",
       "              colsample_bytree=None, device=None, early_stopping_rounds=None,\n",
       "              enable_categorical=False,\n",
       "              eval_metric=<function custom_f1_score at 0x7fa29b517b00>,\n",
       "              feature_types=None, gamma=None, grow_policy=None,\n",
       "              importance_type=None, interaction_constraints=None,\n",
       "              learning_rate=0.29386462278466685, max_bin=None,\n",
       "              max_cat_threshold=None, max_cat_to_onehot=None,\n",
       "              max_delta_step=None, max_depth=15, max_leaves=None,\n",
       "              min_child_weight=21, missing=nan, monotone_constraints=None,\n",
       "              multi_strategy=None, n_estimators=145, n_jobs=None,\n",
       "              num_parallel_tree=None, objective='multi:softprob', ...)"
      ]
     },
     "execution_count": 21,
     "metadata": {},
     "output_type": "execute_result"
    }
   ],
   "source": [
    "n_estimators = int(study.best_trial.user_attrs['best_iteration']*1.2)\n",
    "xgb = xgboost.XGBClassifier(\n",
    "        eval_metric=eval_metric,\n",
    "        n_estimators=n_estimators,\n",
    "        **study.best_trial.params\n",
    "    )\n",
    "xgb.fit(\n",
    "    ssp.vstack((X_train, X_val)), \n",
    "    np.concatenate((y_train_enc, y_val_enc)),\n",
    "    verbose=1,\n",
    ")"
   ]
  },
  {
   "cell_type": "code",
   "execution_count": 22,
   "id": "7642846e",
   "metadata": {
    "execution": {
     "iopub.execute_input": "2025-05-14T16:19:55.348804Z",
     "iopub.status.busy": "2025-05-14T16:19:55.348328Z",
     "iopub.status.idle": "2025-05-14T16:19:55.463445Z",
     "shell.execute_reply": "2025-05-14T16:19:55.463012Z"
    },
    "papermill": {
     "duration": 0.126183,
     "end_time": "2025-05-14T16:19:55.464302",
     "exception": false,
     "start_time": "2025-05-14T16:19:55.338119",
     "status": "completed"
    },
    "tags": []
   },
   "outputs": [
    {
     "data": {
      "text/plain": [
       "['/scratch_isilon/groups/singlecell/shared/projects/Inflammation-PBMCs-Atlas/03_downstream_analysis/08_gene_importance/xgboost_external_validation/xgboost_TopN_genes/results_20/best_model/T_CD4_Naive_shap_studyID_NOdisease_1_xgb.json']"
      ]
     },
     "execution_count": 22,
     "metadata": {},
     "output_type": "execute_result"
    }
   ],
   "source": [
    "out_dir = here(f'03_downstream_analysis/08_gene_importance/xgboost_external_validation/xgboost_TopN_genes/results_{N_GENES}/best_model')\n",
    "\n",
    "if not os.path.exists(out_dir):\n",
    "    os.makedirs(out_dir)\n",
    "    \n",
    "joblib.dump(xgb, os.path.join(out_dir, f'{CELL_TYPE}_{SEED}_{TEST_SPLIT_IDX}_xgb.json'))"
   ]
  },
  {
   "cell_type": "code",
   "execution_count": 23,
   "id": "0ecc2567",
   "metadata": {
    "execution": {
     "iopub.execute_input": "2025-05-14T16:19:55.482914Z",
     "iopub.status.busy": "2025-05-14T16:19:55.482280Z",
     "iopub.status.idle": "2025-05-14T16:19:56.050144Z",
     "shell.execute_reply": "2025-05-14T16:19:56.049663Z"
    },
    "papermill": {
     "duration": 0.57812,
     "end_time": "2025-05-14T16:19:56.051214",
     "exception": false,
     "start_time": "2025-05-14T16:19:55.473094",
     "status": "completed"
    },
    "tags": []
   },
   "outputs": [],
   "source": [
    "df_pred_test = pd.DataFrame(dict(\n",
    "    cell_id=train_adata.obs.iloc[test_idxs].index.values,\n",
    "    y_true=y_test, \n",
    "    y_true_code=y_test_enc, \n",
    "    y_pred=xgb.predict(X_test))).set_index('cell_id')"
   ]
  },
  {
   "cell_type": "code",
   "execution_count": 24,
   "id": "2e9f9007",
   "metadata": {
    "execution": {
     "iopub.execute_input": "2025-05-14T16:19:56.112639Z",
     "iopub.status.busy": "2025-05-14T16:19:56.112187Z",
     "iopub.status.idle": "2025-05-14T16:19:56.222756Z",
     "shell.execute_reply": "2025-05-14T16:19:56.222252Z"
    },
    "papermill": {
     "duration": 0.149046,
     "end_time": "2025-05-14T16:19:56.223678",
     "exception": false,
     "start_time": "2025-05-14T16:19:56.074632",
     "status": "completed"
    },
    "tags": []
   },
   "outputs": [],
   "source": [
    "out_dir = here(f'03_downstream_analysis/08_gene_importance/xgboost_external_validation/xgboost_TopN_genes/results_{N_GENES}/predictions')\n",
    "\n",
    "if not os.path.exists(out_dir):\n",
    "    os.makedirs(out_dir)\n",
    "    \n",
    "df_pred_test.to_csv(os.path.join(out_dir, f'{CELL_TYPE}_{SEED}_{TEST_SPLIT_IDX}_pred_test.zip'))"
   ]
  },
  {
   "cell_type": "code",
   "execution_count": 25,
   "id": "5a5ec123",
   "metadata": {
    "execution": {
     "iopub.execute_input": "2025-05-14T16:19:56.249218Z",
     "iopub.status.busy": "2025-05-14T16:19:56.249069Z",
     "iopub.status.idle": "2025-05-14T16:19:56.264996Z",
     "shell.execute_reply": "2025-05-14T16:19:56.264538Z"
    },
    "papermill": {
     "duration": 0.026234,
     "end_time": "2025-05-14T16:19:56.265910",
     "exception": false,
     "start_time": "2025-05-14T16:19:56.239676",
     "status": "completed"
    },
    "tags": []
   },
   "outputs": [],
   "source": [
    "metrics_dict = dict(\n",
    "    BAS=balanced_accuracy_score(y_true=df_pred_test.y_true_code, y_pred=df_pred_test.y_pred), WF1=f1_score(y_true=df_pred_test.y_true_code, y_pred=df_pred_test.y_pred,average='weighted'))"
   ]
  },
  {
   "cell_type": "code",
   "execution_count": 26,
   "id": "58ab205a",
   "metadata": {
    "execution": {
     "iopub.execute_input": "2025-05-14T16:19:56.306120Z",
     "iopub.status.busy": "2025-05-14T16:19:56.305880Z",
     "iopub.status.idle": "2025-05-14T16:19:56.309051Z",
     "shell.execute_reply": "2025-05-14T16:19:56.308710Z"
    },
    "papermill": {
     "duration": 0.035451,
     "end_time": "2025-05-14T16:19:56.309873",
     "exception": false,
     "start_time": "2025-05-14T16:19:56.274422",
     "status": "completed"
    },
    "tags": []
   },
   "outputs": [
    {
     "data": {
      "text/plain": [
       "{'BAS': 0.6115994658577291, 'WF1': 0.8096010771441927}"
      ]
     },
     "execution_count": 26,
     "metadata": {},
     "output_type": "execute_result"
    }
   ],
   "source": [
    "metrics_dict"
   ]
  },
  {
   "cell_type": "code",
   "execution_count": 27,
   "id": "f3e83cfc",
   "metadata": {
    "execution": {
     "iopub.execute_input": "2025-05-14T16:19:56.333562Z",
     "iopub.status.busy": "2025-05-14T16:19:56.333405Z",
     "iopub.status.idle": "2025-05-14T16:19:56.342415Z",
     "shell.execute_reply": "2025-05-14T16:19:56.342057Z"
    },
    "papermill": {
     "duration": 0.024646,
     "end_time": "2025-05-14T16:19:56.343325",
     "exception": false,
     "start_time": "2025-05-14T16:19:56.318679",
     "status": "completed"
    },
    "tags": []
   },
   "outputs": [
    {
     "data": {
      "text/html": [
       "<div>\n",
       "<style scoped>\n",
       "    .dataframe tbody tr th:only-of-type {\n",
       "        vertical-align: middle;\n",
       "    }\n",
       "\n",
       "    .dataframe tbody tr th {\n",
       "        vertical-align: top;\n",
       "    }\n",
       "\n",
       "    .dataframe thead th {\n",
       "        text-align: right;\n",
       "    }\n",
       "</style>\n",
       "<table border=\"1\" class=\"dataframe\">\n",
       "  <thead>\n",
       "    <tr style=\"text-align: right;\">\n",
       "      <th></th>\n",
       "      <th>BAS</th>\n",
       "      <th>WF1</th>\n",
       "      <th>split_idx</th>\n",
       "      <th>gene_set_seed</th>\n",
       "      <th>cell_type</th>\n",
       "    </tr>\n",
       "  </thead>\n",
       "  <tbody>\n",
       "    <tr>\n",
       "      <th>0</th>\n",
       "      <td>0.611599</td>\n",
       "      <td>0.809601</td>\n",
       "      <td>1</td>\n",
       "      <td>shap_studyID_NOdisease</td>\n",
       "      <td>T_CD4_Naive</td>\n",
       "    </tr>\n",
       "  </tbody>\n",
       "</table>\n",
       "</div>"
      ],
      "text/plain": [
       "        BAS       WF1  split_idx           gene_set_seed    cell_type\n",
       "0  0.611599  0.809601          1  shap_studyID_NOdisease  T_CD4_Naive"
      ]
     },
     "execution_count": 27,
     "metadata": {},
     "output_type": "execute_result"
    }
   ],
   "source": [
    "metrics_df = pd.DataFrame.from_dict([metrics_dict]).assign(split_idx=TEST_SPLIT_IDX, gene_set_seed=SEED, cell_type=CELL_TYPE)\n",
    "metrics_df"
   ]
  },
  {
   "cell_type": "code",
   "execution_count": 28,
   "id": "41493a34",
   "metadata": {
    "execution": {
     "iopub.execute_input": "2025-05-14T16:19:56.363364Z",
     "iopub.status.busy": "2025-05-14T16:19:56.363060Z",
     "iopub.status.idle": "2025-05-14T16:19:56.370948Z",
     "shell.execute_reply": "2025-05-14T16:19:56.370585Z"
    },
    "papermill": {
     "duration": 0.017908,
     "end_time": "2025-05-14T16:19:56.371873",
     "exception": false,
     "start_time": "2025-05-14T16:19:56.353965",
     "status": "completed"
    },
    "tags": []
   },
   "outputs": [],
   "source": [
    "out_dir = here(f'03_downstream_analysis/08_gene_importance/xgboost_external_validation/xgboost_TopN_genes/results_{N_GENES}/metrics')\n",
    "\n",
    "if not os.path.exists(out_dir):\n",
    "    os.makedirs(out_dir)\n",
    "    \n",
    "metrics_df.to_csv(os.path.join(out_dir, f'{CELL_TYPE}_{SEED}_{TEST_SPLIT_IDX}_metrics.zip'))"
   ]
  }
 ],
 "metadata": {
  "kernelspec": {
   "display_name": "Python 3 (ipykernel)",
   "language": "python",
   "name": "python3"
  },
  "language_info": {
   "codemirror_mode": {
    "name": "ipython",
    "version": 3
   },
   "file_extension": ".py",
   "mimetype": "text/x-python",
   "name": "python",
   "nbconvert_exporter": "python",
   "pygments_lexer": "ipython3",
   "version": "3.12.5"
  },
  "papermill": {
   "default_parameters": {},
   "duration": 737.270249,
   "end_time": "2025-05-14T16:19:57.098102",
   "environment_variables": {},
   "exception": null,
   "input_path": "02_xgboost_fitting_external_20genes.ipynb",
   "output_path": "results_20/executed_notebooks/xgboost_fitting_external_CT_T_CD4_Naive_GS_shap_studyID_NOdisease_seed1.ipynb",
   "parameters": {
    "CELL_TYPE": "T_CD4_Naive",
    "SEED": "shap_studyID_NOdisease",
    "TEST_SPLIT_IDX": 1
   },
   "start_time": "2025-05-14T16:07:39.827853",
   "version": "2.6.0"
  }
 },
 "nbformat": 4,
 "nbformat_minor": 5
}