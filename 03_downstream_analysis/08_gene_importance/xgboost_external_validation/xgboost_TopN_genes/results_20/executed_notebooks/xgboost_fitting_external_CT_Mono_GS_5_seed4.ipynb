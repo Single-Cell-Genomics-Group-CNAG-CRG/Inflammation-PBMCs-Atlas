{
 "cells": [
  {
   "cell_type": "code",
   "execution_count": 1,
   "id": "d17c7beb",
   "metadata": {
    "editable": true,
    "execution": {
     "iopub.execute_input": "2025-05-15T15:59:16.928481Z",
     "iopub.status.busy": "2025-05-15T15:59:16.928332Z",
     "iopub.status.idle": "2025-05-15T15:59:16.932009Z",
     "shell.execute_reply": "2025-05-15T15:59:16.931604Z"
    },
    "papermill": {
     "duration": 0.011556,
     "end_time": "2025-05-15T15:59:16.932891",
     "exception": false,
     "start_time": "2025-05-15T15:59:16.921335",
     "status": "completed"
    },
    "slideshow": {
     "slide_type": ""
    },
    "tags": [
     "parameters"
    ]
   },
   "outputs": [],
   "source": [
    "CELL_TYPE = 'pDC'\n",
    "N_GENES: int = 20\n",
    "SEED = 'shap_studyID' #'disease_NOstudy' 'study_NOdisease' or 'int' or 'shap_studyID'\n",
    "TEST_SPLIT_IDX: int = 1 #[0,4]"
   ]
  },
  {
   "cell_type": "code",
   "execution_count": 2,
   "id": "ff66e61b",
   "metadata": {
    "execution": {
     "iopub.execute_input": "2025-05-15T15:59:16.953566Z",
     "iopub.status.busy": "2025-05-15T15:59:16.953071Z",
     "iopub.status.idle": "2025-05-15T15:59:16.955473Z",
     "shell.execute_reply": "2025-05-15T15:59:16.955189Z"
    },
    "papermill": {
     "duration": 0.017473,
     "end_time": "2025-05-15T15:59:16.956237",
     "exception": false,
     "start_time": "2025-05-15T15:59:16.938764",
     "status": "completed"
    },
    "tags": [
     "injected-parameters"
    ]
   },
   "outputs": [],
   "source": [
    "# Parameters\n",
    "CELL_TYPE = \"Mono\"\n",
    "SEED = 5\n",
    "TEST_SPLIT_IDX = 4\n"
   ]
  },
  {
   "cell_type": "code",
   "execution_count": 3,
   "id": "5e99f98a",
   "metadata": {
    "execution": {
     "iopub.execute_input": "2025-05-15T15:59:16.993403Z",
     "iopub.status.busy": "2025-05-15T15:59:16.992984Z",
     "iopub.status.idle": "2025-05-15T15:59:16.995082Z",
     "shell.execute_reply": "2025-05-15T15:59:16.994800Z"
    },
    "papermill": {
     "duration": 0.018069,
     "end_time": "2025-05-15T15:59:16.995823",
     "exception": false,
     "start_time": "2025-05-15T15:59:16.977754",
     "status": "completed"
    },
    "tags": []
   },
   "outputs": [],
   "source": [
    "N_SPLITS: int = 5\n",
    "N_TRIALS: int = 50"
   ]
  },
  {
   "cell_type": "code",
   "execution_count": 4,
   "id": "c244188f",
   "metadata": {
    "execution": {
     "iopub.execute_input": "2025-05-15T15:59:17.021694Z",
     "iopub.status.busy": "2025-05-15T15:59:17.021453Z",
     "iopub.status.idle": "2025-05-15T15:59:18.389518Z",
     "shell.execute_reply": "2025-05-15T15:59:18.388793Z"
    },
    "papermill": {
     "duration": 1.376622,
     "end_time": "2025-05-15T15:59:18.390778",
     "exception": false,
     "start_time": "2025-05-15T15:59:17.014156",
     "status": "completed"
    },
    "tags": []
   },
   "outputs": [],
   "source": [
    "import os\n",
    "import sys\n",
    "from pyprojroot.here import here\n",
    "import pandas as pd\n",
    "import anndata as ad\n",
    "import numpy as np\n",
    "import math\n",
    "from sklearn.model_selection import StratifiedGroupKFold\n",
    "from sklearn.preprocessing import LabelEncoder\n",
    "from sklearn.metrics import f1_score\n",
    "import matplotlib.pyplot as plt\n",
    "import seaborn as sns\n",
    "from itertools import product\n",
    "from sklearn.metrics import balanced_accuracy_score, f1_score\n",
    "import optuna\n",
    "\n",
    "import joblib\n",
    "import pickle\n",
    "import datetime\n",
    "\n",
    "import collections\n",
    "\n",
    "import xgboost\n",
    "from sklearn.preprocessing import LabelEncoder\n",
    "\n",
    "import scipy.sparse as ssp\n",
    "import joblib\n",
    "\n",
    "from dotenv import load_dotenv"
   ]
  },
  {
   "cell_type": "code",
   "execution_count": 5,
   "id": "079e50db",
   "metadata": {
    "execution": {
     "iopub.execute_input": "2025-05-15T15:59:18.434880Z",
     "iopub.status.busy": "2025-05-15T15:59:18.434560Z",
     "iopub.status.idle": "2025-05-15T15:59:18.439640Z",
     "shell.execute_reply": "2025-05-15T15:59:18.439354Z"
    },
    "papermill": {
     "duration": 0.024024,
     "end_time": "2025-05-15T15:59:18.440409",
     "exception": false,
     "start_time": "2025-05-15T15:59:18.416385",
     "status": "completed"
    },
    "tags": []
   },
   "outputs": [
    {
     "data": {
      "text/plain": [
       "True"
      ]
     },
     "execution_count": 5,
     "metadata": {},
     "output_type": "execute_result"
    }
   ],
   "source": [
    "load_dotenv()"
   ]
  },
  {
   "cell_type": "markdown",
   "id": "4309f68a",
   "metadata": {
    "papermill": {
     "duration": 0.033441,
     "end_time": "2025-05-15T15:59:18.488480",
     "exception": false,
     "start_time": "2025-05-15T15:59:18.455039",
     "status": "completed"
    },
    "tags": []
   },
   "source": [
    "# LOAD DATASET"
   ]
  },
  {
   "cell_type": "code",
   "execution_count": 6,
   "id": "3749024a",
   "metadata": {
    "execution": {
     "iopub.execute_input": "2025-05-15T15:59:18.547603Z",
     "iopub.status.busy": "2025-05-15T15:59:18.547367Z",
     "iopub.status.idle": "2025-05-15T15:59:19.700116Z",
     "shell.execute_reply": "2025-05-15T15:59:19.699599Z"
    },
    "papermill": {
     "duration": 1.175621,
     "end_time": "2025-05-15T15:59:19.700986",
     "exception": false,
     "start_time": "2025-05-15T15:59:18.525365",
     "status": "completed"
    },
    "tags": []
   },
   "outputs": [],
   "source": [
    "train_adata = ad.read_h5ad(\n",
    "    here(f'03_downstream_analysis/08_gene_importance/xgboost_external_validation/xgboost_TopN_genes/data_cellTypes/EXTERNAL_{CELL_TYPE}.filtered.log1p.h5ad')\n",
    ")"
   ]
  },
  {
   "cell_type": "code",
   "execution_count": 7,
   "id": "a84b0537",
   "metadata": {
    "execution": {
     "iopub.execute_input": "2025-05-15T15:59:19.736456Z",
     "iopub.status.busy": "2025-05-15T15:59:19.736170Z",
     "iopub.status.idle": "2025-05-15T15:59:19.769183Z",
     "shell.execute_reply": "2025-05-15T15:59:19.768837Z"
    },
    "papermill": {
     "duration": 0.062935,
     "end_time": "2025-05-15T15:59:19.769957",
     "exception": false,
     "start_time": "2025-05-15T15:59:19.707022",
     "status": "completed"
    },
    "tags": []
   },
   "outputs": [
    {
     "name": "stdout",
     "output_type": "stream",
     "text": [
      "['ENSG00000077150' 'ENSG00000110848' 'ENSG00000090863' 'ENSG00000089280'\n",
      " 'ENSG00000197872' 'ENSG00000138678' 'ENSG00000116171' 'ENSG00000106952'\n",
      " 'ENSG00000138674' 'ENSG00000237541' 'ENSG00000161921' 'ENSG00000183172'\n",
      " 'ENSG00000160712' 'ENSG00000175768' 'ENSG00000010327' 'ENSG00000198223'\n",
      " 'ENSG00000163513' 'ENSG00000033800' 'ENSG00000125740' 'ENSG00000179583'\n",
      " 'ENSG00000119408' 'ENSG00000118260' 'ENSG00000223865' 'ENSG00000182117'\n",
      " 'ENSG00000115073' 'ENSG00000145912' 'ENSG00000105221' 'ENSG00000198355'\n",
      " 'ENSG00000131981' 'ENSG00000125534' 'ENSG00000119917' 'ENSG00000150782'\n",
      " 'ENSG00000130429' 'ENSG00000089327' 'ENSG00000115523' 'ENSG00000101695'\n",
      " 'ENSG00000140105' 'ENSG00000106066' 'ENSG00000197632' 'ENSG00000135968'\n",
      " 'ENSG00000100365' 'ENSG00000171700' 'ENSG00000155465' 'ENSG00000171223'\n",
      " 'ENSG00000175482' 'ENSG00000166825' 'ENSG00000170581' 'ENSG00000138802'\n",
      " 'ENSG00000101350' 'ENSG00000051382' 'ENSG00000142089' 'ENSG00000104964'\n",
      " 'ENSG00000276070' 'ENSG00000204843' 'ENSG00000100368' 'ENSG00000137462'\n",
      " 'ENSG00000138107' 'ENSG00000143119' 'ENSG00000100934' 'ENSG00000185745'\n",
      " 'ENSG00000060982' 'ENSG00000108774' 'ENSG00000125148' 'ENSG00000204525'\n",
      " 'ENSG00000177606' 'ENSG00000085265' 'ENSG00000059728' 'ENSG00000110395'\n",
      " 'ENSG00000239713' 'ENSG00000110077' 'ENSG00000110203' 'ENSG00000115267'\n",
      " 'ENSG00000118640' 'ENSG00000172936' 'ENSG00000100393' 'ENSG00000173372'\n",
      " 'ENSG00000227507' 'ENSG00000109787' 'ENSG00000135218' 'ENSG00000175390'\n",
      " 'ENSG00000197405' 'ENSG00000011422' 'ENSG00000167552' 'ENSG00000118515'\n",
      " 'ENSG00000235568' 'ENSG00000121316' 'ENSG00000121774' 'ENSG00000002549'\n",
      " 'ENSG00000030110' 'ENSG00000161203' 'ENSG00000115415' 'ENSG00000164136'\n",
      " 'ENSG00000204577' 'ENSG00000118971' 'ENSG00000166888' 'ENSG00000143774'\n",
      " 'ENSG00000129084' 'ENSG00000028137' 'ENSG00000109743' 'ENSG00000198053'\n",
      " 'ENSG00000026297' 'ENSG00000148834' 'ENSG00000159128' 'ENSG00000240065'\n",
      " 'ENSG00000120889' 'ENSG00000185650' 'ENSG00000164308' 'ENSG00000183020'\n",
      " 'ENSG00000170458' 'ENSG00000143226' 'ENSG00000101608' 'ENSG00000131196'\n",
      " 'ENSG00000179344' 'ENSG00000090266']\n"
     ]
    }
   ],
   "source": [
    "if SEED != 'all':\n",
    "    gene_subset = np.load(here(f'03_downstream_analysis/08_gene_importance/xgboost_external_validation/shap_gene_selection/gene_subsets_{N_GENES}/{CELL_TYPE}_{SEED}.npy'), allow_pickle=True)\n",
    "    train_adata = train_adata[:,gene_subset]\n",
    "    print(gene_subset)\n",
    "elif SEED == 'all':\n",
    "    print('Using all genes')\n",
    "else:\n",
    "    raise ValueError()"
   ]
  },
  {
   "cell_type": "code",
   "execution_count": 8,
   "id": "75013317",
   "metadata": {
    "execution": {
     "iopub.execute_input": "2025-05-15T15:59:19.797631Z",
     "iopub.status.busy": "2025-05-15T15:59:19.797384Z",
     "iopub.status.idle": "2025-05-15T15:59:19.800175Z",
     "shell.execute_reply": "2025-05-15T15:59:19.799884Z"
    },
    "papermill": {
     "duration": 0.020065,
     "end_time": "2025-05-15T15:59:19.800916",
     "exception": false,
     "start_time": "2025-05-15T15:59:19.780851",
     "status": "completed"
    },
    "tags": []
   },
   "outputs": [
    {
     "data": {
      "text/plain": [
       "(137435, 114)"
      ]
     },
     "execution_count": 8,
     "metadata": {},
     "output_type": "execute_result"
    }
   ],
   "source": [
    "train_adata.shape"
   ]
  },
  {
   "cell_type": "code",
   "execution_count": 9,
   "id": "9f28be37",
   "metadata": {
    "execution": {
     "iopub.execute_input": "2025-05-15T15:59:19.847959Z",
     "iopub.status.busy": "2025-05-15T15:59:19.847667Z",
     "iopub.status.idle": "2025-05-15T15:59:19.852096Z",
     "shell.execute_reply": "2025-05-15T15:59:19.851811Z"
    },
    "papermill": {
     "duration": 0.011293,
     "end_time": "2025-05-15T15:59:19.852849",
     "exception": false,
     "start_time": "2025-05-15T15:59:19.841556",
     "status": "completed"
    },
    "tags": []
   },
   "outputs": [
    {
     "data": {
      "text/plain": [
       "['RA', 'healthy', 'COVID', 'HIV', 'cirrhosis', 'CD', 'SLE', 'sepsis']\n",
       "Categories (8, object): ['CD', 'COVID', 'HIV', 'RA', 'SLE', 'cirrhosis', 'healthy', 'sepsis']"
      ]
     },
     "execution_count": 9,
     "metadata": {},
     "output_type": "execute_result"
    }
   ],
   "source": [
    "train_adata.obs.disease.unique()"
   ]
  },
  {
   "cell_type": "code",
   "execution_count": 10,
   "id": "88e65004",
   "metadata": {
    "execution": {
     "iopub.execute_input": "2025-05-15T15:59:19.890738Z",
     "iopub.status.busy": "2025-05-15T15:59:19.890498Z",
     "iopub.status.idle": "2025-05-15T15:59:19.894338Z",
     "shell.execute_reply": "2025-05-15T15:59:19.894045Z"
    },
    "papermill": {
     "duration": 0.021756,
     "end_time": "2025-05-15T15:59:19.895139",
     "exception": false,
     "start_time": "2025-05-15T15:59:19.873383",
     "status": "completed"
    },
    "tags": []
   },
   "outputs": [
    {
     "data": {
      "text/plain": [
       "['SCGT00val_I0364_T0', 'SCGT00val_I036028_T0', 'SCGT00val_I036024_T0', 'SCGT00val_I036023_T0', 'SCGT00val_I036019_T0', ..., '10XGenomics_10XHC2_T0', '10XGenomics_10XHC3_T0', '10XGenomics_10XHC5_T0', '10XGenomics_10XHC7_T0', '10XGenomics_10XHC8_T0']\n",
       "Length: 86\n",
       "Categories (86, object): ['10XGenomics_10XHC1_T0', '10XGenomics_10XHC2_T0', '10XGenomics_10XHC3_T0', '10XGenomics_10XHC4_T0', ..., 'Savage2021_BRISL6_T0', 'Savage2021_BRISL7_T0', 'Savage2021_PIDA_T0', 'Savage2021_PIDB_T0']"
      ]
     },
     "execution_count": 10,
     "metadata": {},
     "output_type": "execute_result"
    }
   ],
   "source": [
    "train_adata.obs.sampleID.unique()"
   ]
  },
  {
   "cell_type": "code",
   "execution_count": 11,
   "id": "91f8948e",
   "metadata": {
    "execution": {
     "iopub.execute_input": "2025-05-15T15:59:19.929851Z",
     "iopub.status.busy": "2025-05-15T15:59:19.929481Z",
     "iopub.status.idle": "2025-05-15T15:59:20.254942Z",
     "shell.execute_reply": "2025-05-15T15:59:20.254496Z"
    },
    "papermill": {
     "duration": 0.342368,
     "end_time": "2025-05-15T15:59:20.255790",
     "exception": false,
     "start_time": "2025-05-15T15:59:19.913422",
     "status": "completed"
    },
    "tags": []
   },
   "outputs": [],
   "source": [
    "all_idxs = np.arange(train_adata.obs.shape[0])\n",
    "left_out_splits = [s[1] for s in StratifiedGroupKFold(n_splits=N_SPLITS).split(all_idxs, train_adata.obs.disease, train_adata.obs.sampleID)]"
   ]
  },
  {
   "cell_type": "code",
   "execution_count": 12,
   "id": "4c968294",
   "metadata": {
    "execution": {
     "iopub.execute_input": "2025-05-15T15:59:20.312927Z",
     "iopub.status.busy": "2025-05-15T15:59:20.312635Z",
     "iopub.status.idle": "2025-05-15T15:59:20.316130Z",
     "shell.execute_reply": "2025-05-15T15:59:20.315815Z"
    },
    "papermill": {
     "duration": 0.048377,
     "end_time": "2025-05-15T15:59:20.316886",
     "exception": false,
     "start_time": "2025-05-15T15:59:20.268509",
     "status": "completed"
    },
    "tags": []
   },
   "outputs": [
    {
     "data": {
      "text/plain": [
       "([1, 2, 3], 0, 4)"
      ]
     },
     "execution_count": 12,
     "metadata": {},
     "output_type": "execute_result"
    }
   ],
   "source": [
    "TRAIN_SPLIT_IDXS = [0,1,2,3,4]\n",
    "VAL_SPLIT_IDX = (TEST_SPLIT_IDX + 1) % 5\n",
    "TRAIN_SPLIT_IDXS.remove(TEST_SPLIT_IDX)\n",
    "TRAIN_SPLIT_IDXS.remove(VAL_SPLIT_IDX)\n",
    "TRAIN_SPLIT_IDXS, VAL_SPLIT_IDX, TEST_SPLIT_IDX"
   ]
  },
  {
   "cell_type": "code",
   "execution_count": 13,
   "id": "7ffaa5bc",
   "metadata": {
    "execution": {
     "iopub.execute_input": "2025-05-15T15:59:20.352999Z",
     "iopub.status.busy": "2025-05-15T15:59:20.352721Z",
     "iopub.status.idle": "2025-05-15T15:59:20.355453Z",
     "shell.execute_reply": "2025-05-15T15:59:20.355155Z"
    },
    "papermill": {
     "duration": 0.033304,
     "end_time": "2025-05-15T15:59:20.356218",
     "exception": false,
     "start_time": "2025-05-15T15:59:20.322914",
     "status": "completed"
    },
    "tags": []
   },
   "outputs": [],
   "source": [
    "train_idxs = np.concatenate([left_out_splits[idx] for idx in TRAIN_SPLIT_IDXS])\n",
    "val_idxs = left_out_splits[VAL_SPLIT_IDX]\n",
    "test_idxs = left_out_splits[TEST_SPLIT_IDX]"
   ]
  },
  {
   "cell_type": "markdown",
   "id": "e437044d",
   "metadata": {
    "papermill": {
     "duration": 0.005999,
     "end_time": "2025-05-15T15:59:20.368357",
     "exception": false,
     "start_time": "2025-05-15T15:59:20.362358",
     "status": "completed"
    },
    "tags": []
   },
   "source": [
    "### SUBSET DATASET INTO TRAIN/TEST/VAL SPLITS"
   ]
  },
  {
   "cell_type": "code",
   "execution_count": 14,
   "id": "74632fe7",
   "metadata": {
    "execution": {
     "iopub.execute_input": "2025-05-15T15:59:20.382191Z",
     "iopub.status.busy": "2025-05-15T15:59:20.381581Z",
     "iopub.status.idle": "2025-05-15T15:59:20.799222Z",
     "shell.execute_reply": "2025-05-15T15:59:20.798881Z"
    },
    "papermill": {
     "duration": 0.425019,
     "end_time": "2025-05-15T15:59:20.799978",
     "exception": false,
     "start_time": "2025-05-15T15:59:20.374959",
     "status": "completed"
    },
    "tags": []
   },
   "outputs": [
    {
     "data": {
      "text/plain": [
       "((82984, 114), (27037, 114), (27414, 114))"
      ]
     },
     "execution_count": 14,
     "metadata": {},
     "output_type": "execute_result"
    }
   ],
   "source": [
    "X_train = train_adata.X[train_idxs]\n",
    "X_test = train_adata.X[test_idxs]\n",
    "X_val = train_adata.X[val_idxs]\n",
    "X_train.shape, X_test.shape, X_val.shape"
   ]
  },
  {
   "cell_type": "code",
   "execution_count": 15,
   "id": "dcc719e5",
   "metadata": {
    "execution": {
     "iopub.execute_input": "2025-05-15T15:59:20.836712Z",
     "iopub.status.busy": "2025-05-15T15:59:20.836411Z",
     "iopub.status.idle": "2025-05-15T15:59:20.848225Z",
     "shell.execute_reply": "2025-05-15T15:59:20.847890Z"
    },
    "papermill": {
     "duration": 0.031693,
     "end_time": "2025-05-15T15:59:20.848973",
     "exception": false,
     "start_time": "2025-05-15T15:59:20.817280",
     "status": "completed"
    },
    "tags": []
   },
   "outputs": [
    {
     "data": {
      "text/plain": [
       "((82984,), (27037,), (27414,))"
      ]
     },
     "execution_count": 15,
     "metadata": {},
     "output_type": "execute_result"
    }
   ],
   "source": [
    "y_train = train_adata.obs.iloc[train_idxs].disease.values.astype(str)\n",
    "y_test = train_adata.obs.iloc[test_idxs].disease.values.astype(str)\n",
    "y_val = train_adata.obs.iloc[val_idxs].disease.values.astype(str)\n",
    "y_train.shape, y_test.shape, y_val.shape"
   ]
  },
  {
   "cell_type": "code",
   "execution_count": 16,
   "id": "8ea160dd",
   "metadata": {
    "execution": {
     "iopub.execute_input": "2025-05-15T15:59:20.900500Z",
     "iopub.status.busy": "2025-05-15T15:59:20.900242Z",
     "iopub.status.idle": "2025-05-15T15:59:20.930041Z",
     "shell.execute_reply": "2025-05-15T15:59:20.929638Z"
    },
    "papermill": {
     "duration": 0.054989,
     "end_time": "2025-05-15T15:59:20.931234",
     "exception": false,
     "start_time": "2025-05-15T15:59:20.876245",
     "status": "completed"
    },
    "tags": []
   },
   "outputs": [],
   "source": [
    "lenc = LabelEncoder()\n",
    "y_train_enc = lenc.fit_transform(y_train)\n",
    "y_val_enc = lenc.transform(y_val)\n",
    "y_test_enc = lenc.transform(y_test)"
   ]
  },
  {
   "cell_type": "markdown",
   "id": "5669bad8",
   "metadata": {
    "papermill": {
     "duration": 0.015807,
     "end_time": "2025-05-15T15:59:20.967791",
     "exception": false,
     "start_time": "2025-05-15T15:59:20.951984",
     "status": "completed"
    },
    "tags": []
   },
   "source": [
    "### GENERATE F1 "
   ]
  },
  {
   "cell_type": "code",
   "execution_count": 17,
   "id": "b06ac178",
   "metadata": {
    "execution": {
     "iopub.execute_input": "2025-05-15T15:59:20.997485Z",
     "iopub.status.busy": "2025-05-15T15:59:20.997304Z",
     "iopub.status.idle": "2025-05-15T15:59:20.999612Z",
     "shell.execute_reply": "2025-05-15T15:59:20.999323Z"
    },
    "papermill": {
     "duration": 0.024706,
     "end_time": "2025-05-15T15:59:21.000378",
     "exception": false,
     "start_time": "2025-05-15T15:59:20.975672",
     "status": "completed"
    },
    "tags": []
   },
   "outputs": [],
   "source": [
    "def custom_f1_score(y_true, y_pred):\n",
    "    return -f1_score(y_true, y_pred.argmax(1), average='weighted')"
   ]
  },
  {
   "cell_type": "code",
   "execution_count": 18,
   "id": "c68fe662",
   "metadata": {
    "execution": {
     "iopub.execute_input": "2025-05-15T15:59:21.037473Z",
     "iopub.status.busy": "2025-05-15T15:59:21.037151Z",
     "iopub.status.idle": "2025-05-15T15:59:21.040783Z",
     "shell.execute_reply": "2025-05-15T15:59:21.040459Z"
    },
    "papermill": {
     "duration": 0.011876,
     "end_time": "2025-05-15T15:59:21.041583",
     "exception": false,
     "start_time": "2025-05-15T15:59:21.029707",
     "status": "completed"
    },
    "tags": []
   },
   "outputs": [],
   "source": [
    "eval_metric=custom_f1_score\n",
    "eval_metric_name='custom_f1_score'\n",
    "\n",
    "def objective(trial):\n",
    "    params = {\n",
    "        'n_estimators': 1500,\n",
    "        'max_depth': trial.suggest_int('max_depth', 3, 20),\n",
    "        'min_child_weight': trial.suggest_int('min_child_weight', 1, 250),\n",
    "        'subsample': trial.suggest_float('subsample', 0.1, 1.0),\n",
    "        'colsample_bynode': trial.suggest_float('colsample_bynode', 0.1, 1.0),\n",
    "        'learning_rate': trial.suggest_float('learning_rate', 1e-3, 5e-1, log=True),\n",
    "    }\n",
    "    pruning_callback = optuna.integration.XGBoostPruningCallback(trial, f'validation_0-{eval_metric_name}')\n",
    "    es_callback = xgboost.callback.EarlyStopping(20, min_delta=0.001)\n",
    "    xgb = xgboost.XGBClassifier(\n",
    "        eval_metric=eval_metric,\n",
    "        callbacks=[pruning_callback, es_callback],\n",
    "        n_jobs=5,\n",
    "        **params\n",
    "    )\n",
    "    xgb.fit(\n",
    "        X_train, \n",
    "        y_train_enc, \n",
    "        verbose=0,\n",
    "        eval_set=[(X_val, y_val_enc)],\n",
    "    )\n",
    "    trial.set_user_attr('best_iteration', xgb.best_iteration)\n",
    "\n",
    "    return xgb.best_score"
   ]
  },
  {
   "cell_type": "code",
   "execution_count": 19,
   "id": "63ff0647",
   "metadata": {
    "execution": {
     "iopub.execute_input": "2025-05-15T15:59:21.066904Z",
     "iopub.status.busy": "2025-05-15T15:59:21.066572Z",
     "iopub.status.idle": "2025-05-15T16:13:04.413193Z",
     "shell.execute_reply": "2025-05-15T16:13:04.412641Z"
    },
    "papermill": {
     "duration": 823.393675,
     "end_time": "2025-05-15T16:13:04.442245",
     "exception": false,
     "start_time": "2025-05-15T15:59:21.048570",
     "status": "completed"
    },
    "scrolled": true,
    "tags": []
   },
   "outputs": [
    {
     "name": "stderr",
     "output_type": "stream",
     "text": [
      "[I 2025-05-15 17:59:21,068] A new study created in memory with name: no-name-d0ef64f4-db8c-4339-8e96-30258b71998b\n"
     ]
    },
    {
     "name": "stderr",
     "output_type": "stream",
     "text": [
      "[I 2025-05-15 17:59:29,346] Trial 0 finished with value: -0.674484 and parameters: {'max_depth': 9, 'min_child_weight': 238, 'subsample': 0.7587945476302645, 'colsample_bynode': 0.6387926357773329, 'learning_rate': 0.0026368755339723046}. Best is trial 0 with value: -0.674484.\n"
     ]
    },
    {
     "name": "stderr",
     "output_type": "stream",
     "text": [
      "[I 2025-05-15 18:00:50,009] Trial 1 finished with value: -0.804057 and parameters: {'max_depth': 5, 'min_child_weight': 15, 'subsample': 0.8795585311974417, 'colsample_bynode': 0.6410035105688879, 'learning_rate': 0.08148293210105287}. Best is trial 1 with value: -0.804057.\n"
     ]
    },
    {
     "name": "stderr",
     "output_type": "stream",
     "text": [
      "[I 2025-05-15 18:00:59,560] Trial 2 finished with value: -0.618898 and parameters: {'max_depth': 3, 'min_child_weight': 243, 'subsample': 0.8491983767203796, 'colsample_bynode': 0.29110519961044856, 'learning_rate': 0.003095566460242371}. Best is trial 1 with value: -0.804057.\n"
     ]
    },
    {
     "name": "stderr",
     "output_type": "stream",
     "text": [
      "[I 2025-05-15 18:01:09,620] Trial 3 finished with value: -0.67823 and parameters: {'max_depth': 6, 'min_child_weight': 77, 'subsample': 0.5722807884690141, 'colsample_bynode': 0.48875051677790415, 'learning_rate': 0.006109683510122491}. Best is trial 1 with value: -0.804057.\n"
     ]
    },
    {
     "name": "stderr",
     "output_type": "stream",
     "text": [
      "[I 2025-05-15 18:03:54,799] Trial 4 finished with value: -0.794666 and parameters: {'max_depth': 14, 'min_child_weight': 35, 'subsample': 0.3629301836816964, 'colsample_bynode': 0.4297256589643226, 'learning_rate': 0.01701841881702917}. Best is trial 1 with value: -0.804057.\n"
     ]
    },
    {
     "name": "stderr",
     "output_type": "stream",
     "text": [
      "[I 2025-05-15 18:04:10,128] Trial 5 pruned. Trial was pruned at iteration 39.\n"
     ]
    },
    {
     "name": "stderr",
     "output_type": "stream",
     "text": [
      "[I 2025-05-15 18:04:10,843] Trial 6 pruned. Trial was pruned at iteration 0.\n"
     ]
    },
    {
     "name": "stderr",
     "output_type": "stream",
     "text": [
      "[I 2025-05-15 18:04:11,805] Trial 7 pruned. Trial was pruned at iteration 1.\n"
     ]
    },
    {
     "name": "stderr",
     "output_type": "stream",
     "text": [
      "[I 2025-05-15 18:04:12,440] Trial 8 pruned. Trial was pruned at iteration 0.\n"
     ]
    },
    {
     "name": "stderr",
     "output_type": "stream",
     "text": [
      "[I 2025-05-15 18:04:26,684] Trial 9 pruned. Trial was pruned at iteration 39.\n"
     ]
    },
    {
     "name": "stderr",
     "output_type": "stream",
     "text": [
      "[I 2025-05-15 18:05:20,147] Trial 10 finished with value: -0.800514 and parameters: {'max_depth': 9, 'min_child_weight': 2, 'subsample': 0.9725833997090791, 'colsample_bynode': 0.11616568805333755, 'learning_rate': 0.17780618353487967}. Best is trial 1 with value: -0.804057.\n"
     ]
    },
    {
     "name": "stderr",
     "output_type": "stream",
     "text": [
      "[I 2025-05-15 18:05:21,422] Trial 11 pruned. Trial was pruned at iteration 1.\n"
     ]
    },
    {
     "name": "stderr",
     "output_type": "stream",
     "text": [
      "[I 2025-05-15 18:06:28,546] Trial 12 finished with value: -0.79399 and parameters: {'max_depth': 9, 'min_child_weight': 3, 'subsample': 0.9754570370311046, 'colsample_bynode': 0.14672783827498995, 'learning_rate': 0.08954997670613858}. Best is trial 1 with value: -0.804057.\n"
     ]
    },
    {
     "name": "stderr",
     "output_type": "stream",
     "text": [
      "[I 2025-05-15 18:06:29,334] Trial 13 pruned. Trial was pruned at iteration 0.\n"
     ]
    },
    {
     "name": "stderr",
     "output_type": "stream",
     "text": [
      "[I 2025-05-15 18:07:00,249] Trial 14 finished with value: -0.807829 and parameters: {'max_depth': 11, 'min_child_weight': 132, 'subsample': 0.8756857866758896, 'colsample_bynode': 0.37234427067556525, 'learning_rate': 0.33580116263734355}. Best is trial 14 with value: -0.807829.\n"
     ]
    },
    {
     "name": "stderr",
     "output_type": "stream",
     "text": [
      "[I 2025-05-15 18:07:21,528] Trial 15 finished with value: -0.810331 and parameters: {'max_depth': 20, 'min_child_weight': 141, 'subsample': 0.6876367750368805, 'colsample_bynode': 0.37620410960385303, 'learning_rate': 0.45818586328982946}. Best is trial 15 with value: -0.810331.\n"
     ]
    },
    {
     "name": "stderr",
     "output_type": "stream",
     "text": [
      "[I 2025-05-15 18:07:22,253] Trial 16 pruned. Trial was pruned at iteration 0.\n"
     ]
    },
    {
     "name": "stderr",
     "output_type": "stream",
     "text": [
      "[I 2025-05-15 18:07:22,950] Trial 17 pruned. Trial was pruned at iteration 0.\n"
     ]
    },
    {
     "name": "stderr",
     "output_type": "stream",
     "text": [
      "[I 2025-05-15 18:07:23,671] Trial 18 pruned. Trial was pruned at iteration 0.\n"
     ]
    },
    {
     "name": "stderr",
     "output_type": "stream",
     "text": [
      "[I 2025-05-15 18:07:24,716] Trial 19 pruned. Trial was pruned at iteration 1.\n"
     ]
    },
    {
     "name": "stderr",
     "output_type": "stream",
     "text": [
      "[I 2025-05-15 18:07:25,426] Trial 20 pruned. Trial was pruned at iteration 0.\n"
     ]
    },
    {
     "name": "stderr",
     "output_type": "stream",
     "text": [
      "[I 2025-05-15 18:07:26,076] Trial 21 pruned. Trial was pruned at iteration 0.\n"
     ]
    },
    {
     "name": "stderr",
     "output_type": "stream",
     "text": [
      "[I 2025-05-15 18:07:27,876] Trial 22 pruned. Trial was pruned at iteration 3.\n"
     ]
    },
    {
     "name": "stderr",
     "output_type": "stream",
     "text": [
      "[I 2025-05-15 18:08:04,578] Trial 23 finished with value: -0.811585 and parameters: {'max_depth': 11, 'min_child_weight': 95, 'subsample': 0.7667566797676479, 'colsample_bynode': 0.568378722479037, 'learning_rate': 0.293225144564448}. Best is trial 23 with value: -0.811585.\n"
     ]
    },
    {
     "name": "stderr",
     "output_type": "stream",
     "text": [
      "[I 2025-05-15 18:08:05,339] Trial 24 pruned. Trial was pruned at iteration 0.\n"
     ]
    },
    {
     "name": "stderr",
     "output_type": "stream",
     "text": [
      "[I 2025-05-15 18:08:06,102] Trial 25 pruned. Trial was pruned at iteration 0.\n"
     ]
    },
    {
     "name": "stderr",
     "output_type": "stream",
     "text": [
      "[I 2025-05-15 18:08:06,869] Trial 26 pruned. Trial was pruned at iteration 0.\n"
     ]
    },
    {
     "name": "stderr",
     "output_type": "stream",
     "text": [
      "[I 2025-05-15 18:08:07,647] Trial 27 pruned. Trial was pruned at iteration 0.\n"
     ]
    },
    {
     "name": "stderr",
     "output_type": "stream",
     "text": [
      "[I 2025-05-15 18:08:08,412] Trial 28 pruned. Trial was pruned at iteration 0.\n"
     ]
    },
    {
     "name": "stderr",
     "output_type": "stream",
     "text": [
      "[I 2025-05-15 18:08:09,104] Trial 29 pruned. Trial was pruned at iteration 0.\n"
     ]
    },
    {
     "name": "stderr",
     "output_type": "stream",
     "text": [
      "[I 2025-05-15 18:08:16,235] Trial 30 pruned. Trial was pruned at iteration 16.\n"
     ]
    },
    {
     "name": "stderr",
     "output_type": "stream",
     "text": [
      "[I 2025-05-15 18:08:58,817] Trial 31 finished with value: -0.808552 and parameters: {'max_depth': 19, 'min_child_weight': 29, 'subsample': 0.9336329784918981, 'colsample_bynode': 0.692910796961594, 'learning_rate': 0.33520941417627514}. Best is trial 23 with value: -0.811585.\n"
     ]
    },
    {
     "name": "stderr",
     "output_type": "stream",
     "text": [
      "[I 2025-05-15 18:09:31,794] Trial 32 finished with value: -0.812028 and parameters: {'max_depth': 19, 'min_child_weight': 92, 'subsample': 0.9170654081412841, 'colsample_bynode': 0.7671776664548492, 'learning_rate': 0.339173726559022}. Best is trial 32 with value: -0.812028.\n"
     ]
    },
    {
     "name": "stderr",
     "output_type": "stream",
     "text": [
      "[I 2025-05-15 18:10:03,035] Trial 33 finished with value: -0.807742 and parameters: {'max_depth': 19, 'min_child_weight': 91, 'subsample': 0.9270660260329504, 'colsample_bynode': 0.8078927713597686, 'learning_rate': 0.49421401111859004}. Best is trial 32 with value: -0.812028.\n"
     ]
    },
    {
     "name": "stderr",
     "output_type": "stream",
     "text": [
      "[I 2025-05-15 18:10:22,453] Trial 34 pruned. Trial was pruned at iteration 39.\n"
     ]
    },
    {
     "name": "stderr",
     "output_type": "stream",
     "text": [
      "[I 2025-05-15 18:10:40,030] Trial 35 pruned. Trial was pruned at iteration 39.\n"
     ]
    },
    {
     "name": "stderr",
     "output_type": "stream",
     "text": [
      "[I 2025-05-15 18:10:58,360] Trial 36 pruned. Trial was pruned at iteration 31.\n"
     ]
    },
    {
     "name": "stderr",
     "output_type": "stream",
     "text": [
      "[I 2025-05-15 18:11:04,375] Trial 37 pruned. Trial was pruned at iteration 10.\n"
     ]
    },
    {
     "name": "stderr",
     "output_type": "stream",
     "text": [
      "[I 2025-05-15 18:11:06,544] Trial 38 pruned. Trial was pruned at iteration 3.\n"
     ]
    },
    {
     "name": "stderr",
     "output_type": "stream",
     "text": [
      "[I 2025-05-15 18:11:20,582] Trial 39 pruned. Trial was pruned at iteration 46.\n"
     ]
    },
    {
     "name": "stderr",
     "output_type": "stream",
     "text": [
      "[I 2025-05-15 18:11:37,561] Trial 40 pruned. Trial was pruned at iteration 39.\n"
     ]
    },
    {
     "name": "stderr",
     "output_type": "stream",
     "text": [
      "[I 2025-05-15 18:11:50,456] Trial 41 pruned. Trial was pruned at iteration 41.\n"
     ]
    },
    {
     "name": "stderr",
     "output_type": "stream",
     "text": [
      "[I 2025-05-15 18:11:51,285] Trial 42 pruned. Trial was pruned at iteration 0.\n"
     ]
    },
    {
     "name": "stderr",
     "output_type": "stream",
     "text": [
      "[I 2025-05-15 18:11:52,408] Trial 43 pruned. Trial was pruned at iteration 1.\n"
     ]
    },
    {
     "name": "stderr",
     "output_type": "stream",
     "text": [
      "[I 2025-05-15 18:12:07,707] Trial 44 pruned. Trial was pruned at iteration 42.\n"
     ]
    },
    {
     "name": "stderr",
     "output_type": "stream",
     "text": [
      "[I 2025-05-15 18:12:09,569] Trial 45 pruned. Trial was pruned at iteration 3.\n"
     ]
    },
    {
     "name": "stderr",
     "output_type": "stream",
     "text": [
      "[I 2025-05-15 18:12:10,289] Trial 46 pruned. Trial was pruned at iteration 0.\n"
     ]
    },
    {
     "name": "stderr",
     "output_type": "stream",
     "text": [
      "[I 2025-05-15 18:12:27,470] Trial 47 pruned. Trial was pruned at iteration 56.\n"
     ]
    },
    {
     "name": "stderr",
     "output_type": "stream",
     "text": [
      "[I 2025-05-15 18:12:52,968] Trial 48 pruned. Trial was pruned at iteration 90.\n"
     ]
    },
    {
     "name": "stderr",
     "output_type": "stream",
     "text": [
      "[I 2025-05-15 18:13:04,265] Trial 49 pruned. Trial was pruned at iteration 31.\n"
     ]
    }
   ],
   "source": [
    "sampler = optuna.samplers.TPESampler(seed=42)\n",
    "study = optuna.create_study(direction='minimize', sampler=sampler)\n",
    "study.optimize(objective, n_trials=N_TRIALS, gc_after_trial=True)"
   ]
  },
  {
   "cell_type": "code",
   "execution_count": 20,
   "id": "64cc1e72",
   "metadata": {
    "execution": {
     "iopub.execute_input": "2025-05-15T16:13:04.463035Z",
     "iopub.status.busy": "2025-05-15T16:13:04.462498Z",
     "iopub.status.idle": "2025-05-15T16:13:04.504566Z",
     "shell.execute_reply": "2025-05-15T16:13:04.504231Z"
    },
    "papermill": {
     "duration": 0.054003,
     "end_time": "2025-05-15T16:13:04.505564",
     "exception": false,
     "start_time": "2025-05-15T16:13:04.451561",
     "status": "completed"
    },
    "tags": []
   },
   "outputs": [
    {
     "data": {
      "text/plain": [
       "['/scratch_isilon/groups/singlecell/shared/projects/Inflammation-PBMCs-Atlas/03_downstream_analysis/08_gene_importance/xgboost_external_validation/xgboost_TopN_genes/results_20/study/Mono_5_4_xgboost.pkl']"
      ]
     },
     "execution_count": 20,
     "metadata": {},
     "output_type": "execute_result"
    }
   ],
   "source": [
    "out_dir = here(f'03_downstream_analysis/08_gene_importance/xgboost_external_validation/xgboost_TopN_genes/results_{N_GENES}/study')\n",
    "\n",
    "if not os.path.exists(out_dir):\n",
    "    os.makedirs(out_dir)\n",
    "    \n",
    "joblib.dump(study,os.path.join(out_dir, f'{CELL_TYPE}_{SEED}_{TEST_SPLIT_IDX}_xgboost.pkl'))"
   ]
  },
  {
   "cell_type": "code",
   "execution_count": 21,
   "id": "4e336ebc",
   "metadata": {
    "execution": {
     "iopub.execute_input": "2025-05-15T16:13:04.541025Z",
     "iopub.status.busy": "2025-05-15T16:13:04.540574Z",
     "iopub.status.idle": "2025-05-15T16:13:23.235030Z",
     "shell.execute_reply": "2025-05-15T16:13:23.234568Z"
    },
    "papermill": {
     "duration": 18.705661,
     "end_time": "2025-05-15T16:13:23.236679",
     "exception": false,
     "start_time": "2025-05-15T16:13:04.531018",
     "status": "completed"
    },
    "tags": []
   },
   "outputs": [
    {
     "data": {
      "text/html": [
       "<style>#sk-container-id-1 {\n",
       "  /* Definition of color scheme common for light and dark mode */\n",
       "  --sklearn-color-text: black;\n",
       "  --sklearn-color-line: gray;\n",
       "  /* Definition of color scheme for unfitted estimators */\n",
       "  --sklearn-color-unfitted-level-0: #fff5e6;\n",
       "  --sklearn-color-unfitted-level-1: #f6e4d2;\n",
       "  --sklearn-color-unfitted-level-2: #ffe0b3;\n",
       "  --sklearn-color-unfitted-level-3: chocolate;\n",
       "  /* Definition of color scheme for fitted estimators */\n",
       "  --sklearn-color-fitted-level-0: #f0f8ff;\n",
       "  --sklearn-color-fitted-level-1: #d4ebff;\n",
       "  --sklearn-color-fitted-level-2: #b3dbfd;\n",
       "  --sklearn-color-fitted-level-3: cornflowerblue;\n",
       "\n",
       "  /* Specific color for light theme */\n",
       "  --sklearn-color-text-on-default-background: var(--sg-text-color, var(--theme-code-foreground, var(--jp-content-font-color1, black)));\n",
       "  --sklearn-color-background: var(--sg-background-color, var(--theme-background, var(--jp-layout-color0, white)));\n",
       "  --sklearn-color-border-box: var(--sg-text-color, var(--theme-code-foreground, var(--jp-content-font-color1, black)));\n",
       "  --sklearn-color-icon: #696969;\n",
       "\n",
       "  @media (prefers-color-scheme: dark) {\n",
       "    /* Redefinition of color scheme for dark theme */\n",
       "    --sklearn-color-text-on-default-background: var(--sg-text-color, var(--theme-code-foreground, var(--jp-content-font-color1, white)));\n",
       "    --sklearn-color-background: var(--sg-background-color, var(--theme-background, var(--jp-layout-color0, #111)));\n",
       "    --sklearn-color-border-box: var(--sg-text-color, var(--theme-code-foreground, var(--jp-content-font-color1, white)));\n",
       "    --sklearn-color-icon: #878787;\n",
       "  }\n",
       "}\n",
       "\n",
       "#sk-container-id-1 {\n",
       "  color: var(--sklearn-color-text);\n",
       "}\n",
       "\n",
       "#sk-container-id-1 pre {\n",
       "  padding: 0;\n",
       "}\n",
       "\n",
       "#sk-container-id-1 input.sk-hidden--visually {\n",
       "  border: 0;\n",
       "  clip: rect(1px 1px 1px 1px);\n",
       "  clip: rect(1px, 1px, 1px, 1px);\n",
       "  height: 1px;\n",
       "  margin: -1px;\n",
       "  overflow: hidden;\n",
       "  padding: 0;\n",
       "  position: absolute;\n",
       "  width: 1px;\n",
       "}\n",
       "\n",
       "#sk-container-id-1 div.sk-dashed-wrapped {\n",
       "  border: 1px dashed var(--sklearn-color-line);\n",
       "  margin: 0 0.4em 0.5em 0.4em;\n",
       "  box-sizing: border-box;\n",
       "  padding-bottom: 0.4em;\n",
       "  background-color: var(--sklearn-color-background);\n",
       "}\n",
       "\n",
       "#sk-container-id-1 div.sk-container {\n",
       "  /* jupyter's `normalize.less` sets `[hidden] { display: none; }`\n",
       "     but bootstrap.min.css set `[hidden] { display: none !important; }`\n",
       "     so we also need the `!important` here to be able to override the\n",
       "     default hidden behavior on the sphinx rendered scikit-learn.org.\n",
       "     See: https://github.com/scikit-learn/scikit-learn/issues/21755 */\n",
       "  display: inline-block !important;\n",
       "  position: relative;\n",
       "}\n",
       "\n",
       "#sk-container-id-1 div.sk-text-repr-fallback {\n",
       "  display: none;\n",
       "}\n",
       "\n",
       "div.sk-parallel-item,\n",
       "div.sk-serial,\n",
       "div.sk-item {\n",
       "  /* draw centered vertical line to link estimators */\n",
       "  background-image: linear-gradient(var(--sklearn-color-text-on-default-background), var(--sklearn-color-text-on-default-background));\n",
       "  background-size: 2px 100%;\n",
       "  background-repeat: no-repeat;\n",
       "  background-position: center center;\n",
       "}\n",
       "\n",
       "/* Parallel-specific style estimator block */\n",
       "\n",
       "#sk-container-id-1 div.sk-parallel-item::after {\n",
       "  content: \"\";\n",
       "  width: 100%;\n",
       "  border-bottom: 2px solid var(--sklearn-color-text-on-default-background);\n",
       "  flex-grow: 1;\n",
       "}\n",
       "\n",
       "#sk-container-id-1 div.sk-parallel {\n",
       "  display: flex;\n",
       "  align-items: stretch;\n",
       "  justify-content: center;\n",
       "  background-color: var(--sklearn-color-background);\n",
       "  position: relative;\n",
       "}\n",
       "\n",
       "#sk-container-id-1 div.sk-parallel-item {\n",
       "  display: flex;\n",
       "  flex-direction: column;\n",
       "}\n",
       "\n",
       "#sk-container-id-1 div.sk-parallel-item:first-child::after {\n",
       "  align-self: flex-end;\n",
       "  width: 50%;\n",
       "}\n",
       "\n",
       "#sk-container-id-1 div.sk-parallel-item:last-child::after {\n",
       "  align-self: flex-start;\n",
       "  width: 50%;\n",
       "}\n",
       "\n",
       "#sk-container-id-1 div.sk-parallel-item:only-child::after {\n",
       "  width: 0;\n",
       "}\n",
       "\n",
       "/* Serial-specific style estimator block */\n",
       "\n",
       "#sk-container-id-1 div.sk-serial {\n",
       "  display: flex;\n",
       "  flex-direction: column;\n",
       "  align-items: center;\n",
       "  background-color: var(--sklearn-color-background);\n",
       "  padding-right: 1em;\n",
       "  padding-left: 1em;\n",
       "}\n",
       "\n",
       "\n",
       "/* Toggleable style: style used for estimator/Pipeline/ColumnTransformer box that is\n",
       "clickable and can be expanded/collapsed.\n",
       "- Pipeline and ColumnTransformer use this feature and define the default style\n",
       "- Estimators will overwrite some part of the style using the `sk-estimator` class\n",
       "*/\n",
       "\n",
       "/* Pipeline and ColumnTransformer style (default) */\n",
       "\n",
       "#sk-container-id-1 div.sk-toggleable {\n",
       "  /* Default theme specific background. It is overwritten whether we have a\n",
       "  specific estimator or a Pipeline/ColumnTransformer */\n",
       "  background-color: var(--sklearn-color-background);\n",
       "}\n",
       "\n",
       "/* Toggleable label */\n",
       "#sk-container-id-1 label.sk-toggleable__label {\n",
       "  cursor: pointer;\n",
       "  display: block;\n",
       "  width: 100%;\n",
       "  margin-bottom: 0;\n",
       "  padding: 0.5em;\n",
       "  box-sizing: border-box;\n",
       "  text-align: center;\n",
       "}\n",
       "\n",
       "#sk-container-id-1 label.sk-toggleable__label-arrow:before {\n",
       "  /* Arrow on the left of the label */\n",
       "  content: \"▸\";\n",
       "  float: left;\n",
       "  margin-right: 0.25em;\n",
       "  color: var(--sklearn-color-icon);\n",
       "}\n",
       "\n",
       "#sk-container-id-1 label.sk-toggleable__label-arrow:hover:before {\n",
       "  color: var(--sklearn-color-text);\n",
       "}\n",
       "\n",
       "/* Toggleable content - dropdown */\n",
       "\n",
       "#sk-container-id-1 div.sk-toggleable__content {\n",
       "  max-height: 0;\n",
       "  max-width: 0;\n",
       "  overflow: hidden;\n",
       "  text-align: left;\n",
       "  /* unfitted */\n",
       "  background-color: var(--sklearn-color-unfitted-level-0);\n",
       "}\n",
       "\n",
       "#sk-container-id-1 div.sk-toggleable__content.fitted {\n",
       "  /* fitted */\n",
       "  background-color: var(--sklearn-color-fitted-level-0);\n",
       "}\n",
       "\n",
       "#sk-container-id-1 div.sk-toggleable__content pre {\n",
       "  margin: 0.2em;\n",
       "  border-radius: 0.25em;\n",
       "  color: var(--sklearn-color-text);\n",
       "  /* unfitted */\n",
       "  background-color: var(--sklearn-color-unfitted-level-0);\n",
       "}\n",
       "\n",
       "#sk-container-id-1 div.sk-toggleable__content.fitted pre {\n",
       "  /* unfitted */\n",
       "  background-color: var(--sklearn-color-fitted-level-0);\n",
       "}\n",
       "\n",
       "#sk-container-id-1 input.sk-toggleable__control:checked~div.sk-toggleable__content {\n",
       "  /* Expand drop-down */\n",
       "  max-height: 200px;\n",
       "  max-width: 100%;\n",
       "  overflow: auto;\n",
       "}\n",
       "\n",
       "#sk-container-id-1 input.sk-toggleable__control:checked~label.sk-toggleable__label-arrow:before {\n",
       "  content: \"▾\";\n",
       "}\n",
       "\n",
       "/* Pipeline/ColumnTransformer-specific style */\n",
       "\n",
       "#sk-container-id-1 div.sk-label input.sk-toggleable__control:checked~label.sk-toggleable__label {\n",
       "  color: var(--sklearn-color-text);\n",
       "  background-color: var(--sklearn-color-unfitted-level-2);\n",
       "}\n",
       "\n",
       "#sk-container-id-1 div.sk-label.fitted input.sk-toggleable__control:checked~label.sk-toggleable__label {\n",
       "  background-color: var(--sklearn-color-fitted-level-2);\n",
       "}\n",
       "\n",
       "/* Estimator-specific style */\n",
       "\n",
       "/* Colorize estimator box */\n",
       "#sk-container-id-1 div.sk-estimator input.sk-toggleable__control:checked~label.sk-toggleable__label {\n",
       "  /* unfitted */\n",
       "  background-color: var(--sklearn-color-unfitted-level-2);\n",
       "}\n",
       "\n",
       "#sk-container-id-1 div.sk-estimator.fitted input.sk-toggleable__control:checked~label.sk-toggleable__label {\n",
       "  /* fitted */\n",
       "  background-color: var(--sklearn-color-fitted-level-2);\n",
       "}\n",
       "\n",
       "#sk-container-id-1 div.sk-label label.sk-toggleable__label,\n",
       "#sk-container-id-1 div.sk-label label {\n",
       "  /* The background is the default theme color */\n",
       "  color: var(--sklearn-color-text-on-default-background);\n",
       "}\n",
       "\n",
       "/* On hover, darken the color of the background */\n",
       "#sk-container-id-1 div.sk-label:hover label.sk-toggleable__label {\n",
       "  color: var(--sklearn-color-text);\n",
       "  background-color: var(--sklearn-color-unfitted-level-2);\n",
       "}\n",
       "\n",
       "/* Label box, darken color on hover, fitted */\n",
       "#sk-container-id-1 div.sk-label.fitted:hover label.sk-toggleable__label.fitted {\n",
       "  color: var(--sklearn-color-text);\n",
       "  background-color: var(--sklearn-color-fitted-level-2);\n",
       "}\n",
       "\n",
       "/* Estimator label */\n",
       "\n",
       "#sk-container-id-1 div.sk-label label {\n",
       "  font-family: monospace;\n",
       "  font-weight: bold;\n",
       "  display: inline-block;\n",
       "  line-height: 1.2em;\n",
       "}\n",
       "\n",
       "#sk-container-id-1 div.sk-label-container {\n",
       "  text-align: center;\n",
       "}\n",
       "\n",
       "/* Estimator-specific */\n",
       "#sk-container-id-1 div.sk-estimator {\n",
       "  font-family: monospace;\n",
       "  border: 1px dotted var(--sklearn-color-border-box);\n",
       "  border-radius: 0.25em;\n",
       "  box-sizing: border-box;\n",
       "  margin-bottom: 0.5em;\n",
       "  /* unfitted */\n",
       "  background-color: var(--sklearn-color-unfitted-level-0);\n",
       "}\n",
       "\n",
       "#sk-container-id-1 div.sk-estimator.fitted {\n",
       "  /* fitted */\n",
       "  background-color: var(--sklearn-color-fitted-level-0);\n",
       "}\n",
       "\n",
       "/* on hover */\n",
       "#sk-container-id-1 div.sk-estimator:hover {\n",
       "  /* unfitted */\n",
       "  background-color: var(--sklearn-color-unfitted-level-2);\n",
       "}\n",
       "\n",
       "#sk-container-id-1 div.sk-estimator.fitted:hover {\n",
       "  /* fitted */\n",
       "  background-color: var(--sklearn-color-fitted-level-2);\n",
       "}\n",
       "\n",
       "/* Specification for estimator info (e.g. \"i\" and \"?\") */\n",
       "\n",
       "/* Common style for \"i\" and \"?\" */\n",
       "\n",
       ".sk-estimator-doc-link,\n",
       "a:link.sk-estimator-doc-link,\n",
       "a:visited.sk-estimator-doc-link {\n",
       "  float: right;\n",
       "  font-size: smaller;\n",
       "  line-height: 1em;\n",
       "  font-family: monospace;\n",
       "  background-color: var(--sklearn-color-background);\n",
       "  border-radius: 1em;\n",
       "  height: 1em;\n",
       "  width: 1em;\n",
       "  text-decoration: none !important;\n",
       "  margin-left: 1ex;\n",
       "  /* unfitted */\n",
       "  border: var(--sklearn-color-unfitted-level-1) 1pt solid;\n",
       "  color: var(--sklearn-color-unfitted-level-1);\n",
       "}\n",
       "\n",
       ".sk-estimator-doc-link.fitted,\n",
       "a:link.sk-estimator-doc-link.fitted,\n",
       "a:visited.sk-estimator-doc-link.fitted {\n",
       "  /* fitted */\n",
       "  border: var(--sklearn-color-fitted-level-1) 1pt solid;\n",
       "  color: var(--sklearn-color-fitted-level-1);\n",
       "}\n",
       "\n",
       "/* On hover */\n",
       "div.sk-estimator:hover .sk-estimator-doc-link:hover,\n",
       ".sk-estimator-doc-link:hover,\n",
       "div.sk-label-container:hover .sk-estimator-doc-link:hover,\n",
       ".sk-estimator-doc-link:hover {\n",
       "  /* unfitted */\n",
       "  background-color: var(--sklearn-color-unfitted-level-3);\n",
       "  color: var(--sklearn-color-background);\n",
       "  text-decoration: none;\n",
       "}\n",
       "\n",
       "div.sk-estimator.fitted:hover .sk-estimator-doc-link.fitted:hover,\n",
       ".sk-estimator-doc-link.fitted:hover,\n",
       "div.sk-label-container:hover .sk-estimator-doc-link.fitted:hover,\n",
       ".sk-estimator-doc-link.fitted:hover {\n",
       "  /* fitted */\n",
       "  background-color: var(--sklearn-color-fitted-level-3);\n",
       "  color: var(--sklearn-color-background);\n",
       "  text-decoration: none;\n",
       "}\n",
       "\n",
       "/* Span, style for the box shown on hovering the info icon */\n",
       ".sk-estimator-doc-link span {\n",
       "  display: none;\n",
       "  z-index: 9999;\n",
       "  position: relative;\n",
       "  font-weight: normal;\n",
       "  right: .2ex;\n",
       "  padding: .5ex;\n",
       "  margin: .5ex;\n",
       "  width: min-content;\n",
       "  min-width: 20ex;\n",
       "  max-width: 50ex;\n",
       "  color: var(--sklearn-color-text);\n",
       "  box-shadow: 2pt 2pt 4pt #999;\n",
       "  /* unfitted */\n",
       "  background: var(--sklearn-color-unfitted-level-0);\n",
       "  border: .5pt solid var(--sklearn-color-unfitted-level-3);\n",
       "}\n",
       "\n",
       ".sk-estimator-doc-link.fitted span {\n",
       "  /* fitted */\n",
       "  background: var(--sklearn-color-fitted-level-0);\n",
       "  border: var(--sklearn-color-fitted-level-3);\n",
       "}\n",
       "\n",
       ".sk-estimator-doc-link:hover span {\n",
       "  display: block;\n",
       "}\n",
       "\n",
       "/* \"?\"-specific style due to the `<a>` HTML tag */\n",
       "\n",
       "#sk-container-id-1 a.estimator_doc_link {\n",
       "  float: right;\n",
       "  font-size: 1rem;\n",
       "  line-height: 1em;\n",
       "  font-family: monospace;\n",
       "  background-color: var(--sklearn-color-background);\n",
       "  border-radius: 1rem;\n",
       "  height: 1rem;\n",
       "  width: 1rem;\n",
       "  text-decoration: none;\n",
       "  /* unfitted */\n",
       "  color: var(--sklearn-color-unfitted-level-1);\n",
       "  border: var(--sklearn-color-unfitted-level-1) 1pt solid;\n",
       "}\n",
       "\n",
       "#sk-container-id-1 a.estimator_doc_link.fitted {\n",
       "  /* fitted */\n",
       "  border: var(--sklearn-color-fitted-level-1) 1pt solid;\n",
       "  color: var(--sklearn-color-fitted-level-1);\n",
       "}\n",
       "\n",
       "/* On hover */\n",
       "#sk-container-id-1 a.estimator_doc_link:hover {\n",
       "  /* unfitted */\n",
       "  background-color: var(--sklearn-color-unfitted-level-3);\n",
       "  color: var(--sklearn-color-background);\n",
       "  text-decoration: none;\n",
       "}\n",
       "\n",
       "#sk-container-id-1 a.estimator_doc_link.fitted:hover {\n",
       "  /* fitted */\n",
       "  background-color: var(--sklearn-color-fitted-level-3);\n",
       "}\n",
       "</style><div id=\"sk-container-id-1\" class=\"sk-top-container\"><div class=\"sk-text-repr-fallback\"><pre>XGBClassifier(base_score=None, booster=None, callbacks=None,\n",
       "              colsample_bylevel=None, colsample_bynode=0.7671776664548492,\n",
       "              colsample_bytree=None, device=None, early_stopping_rounds=None,\n",
       "              enable_categorical=False,\n",
       "              eval_metric=&lt;function custom_f1_score at 0x7f6875b50540&gt;,\n",
       "              feature_types=None, gamma=None, grow_policy=None,\n",
       "              importance_type=None, interaction_constraints=None,\n",
       "              learning_rate=0.339173726559022, max_bin=None,\n",
       "              max_cat_threshold=None, max_cat_to_onehot=None,\n",
       "              max_delta_step=None, max_depth=19, max_leaves=None,\n",
       "              min_child_weight=92, missing=nan, monotone_constraints=None,\n",
       "              multi_strategy=None, n_estimators=98, n_jobs=None,\n",
       "              num_parallel_tree=None, objective=&#x27;multi:softprob&#x27;, ...)</pre><b>In a Jupyter environment, please rerun this cell to show the HTML representation or trust the notebook. <br />On GitHub, the HTML representation is unable to render, please try loading this page with nbviewer.org.</b></div><div class=\"sk-container\" hidden><div class=\"sk-item\"><div class=\"sk-estimator fitted sk-toggleable\"><input class=\"sk-toggleable__control sk-hidden--visually\" id=\"sk-estimator-id-1\" type=\"checkbox\" checked><label for=\"sk-estimator-id-1\" class=\"sk-toggleable__label fitted sk-toggleable__label-arrow fitted\">&nbsp;XGBClassifier<span class=\"sk-estimator-doc-link fitted\">i<span>Fitted</span></span></label><div class=\"sk-toggleable__content fitted\"><pre>XGBClassifier(base_score=None, booster=None, callbacks=None,\n",
       "              colsample_bylevel=None, colsample_bynode=0.7671776664548492,\n",
       "              colsample_bytree=None, device=None, early_stopping_rounds=None,\n",
       "              enable_categorical=False,\n",
       "              eval_metric=&lt;function custom_f1_score at 0x7f6875b50540&gt;,\n",
       "              feature_types=None, gamma=None, grow_policy=None,\n",
       "              importance_type=None, interaction_constraints=None,\n",
       "              learning_rate=0.339173726559022, max_bin=None,\n",
       "              max_cat_threshold=None, max_cat_to_onehot=None,\n",
       "              max_delta_step=None, max_depth=19, max_leaves=None,\n",
       "              min_child_weight=92, missing=nan, monotone_constraints=None,\n",
       "              multi_strategy=None, n_estimators=98, n_jobs=None,\n",
       "              num_parallel_tree=None, objective=&#x27;multi:softprob&#x27;, ...)</pre></div> </div></div></div></div>"
      ],
      "text/plain": [
       "XGBClassifier(base_score=None, booster=None, callbacks=None,\n",
       "              colsample_bylevel=None, colsample_bynode=0.7671776664548492,\n",
       "              colsample_bytree=None, device=None, early_stopping_rounds=None,\n",
       "              enable_categorical=False,\n",
       "              eval_metric=<function custom_f1_score at 0x7f6875b50540>,\n",
       "              feature_types=None, gamma=None, grow_policy=None,\n",
       "              importance_type=None, interaction_constraints=None,\n",
       "              learning_rate=0.339173726559022, max_bin=None,\n",
       "              max_cat_threshold=None, max_cat_to_onehot=None,\n",
       "              max_delta_step=None, max_depth=19, max_leaves=None,\n",
       "              min_child_weight=92, missing=nan, monotone_constraints=None,\n",
       "              multi_strategy=None, n_estimators=98, n_jobs=None,\n",
       "              num_parallel_tree=None, objective='multi:softprob', ...)"
      ]
     },
     "execution_count": 21,
     "metadata": {},
     "output_type": "execute_result"
    }
   ],
   "source": [
    "n_estimators = int(study.best_trial.user_attrs['best_iteration']*1.2)\n",
    "xgb = xgboost.XGBClassifier(\n",
    "        eval_metric=eval_metric,\n",
    "        n_estimators=n_estimators,\n",
    "        **study.best_trial.params\n",
    "    )\n",
    "xgb.fit(\n",
    "    ssp.vstack((X_train, X_val)), \n",
    "    np.concatenate((y_train_enc, y_val_enc)),\n",
    "    verbose=1,\n",
    ")"
   ]
  },
  {
   "cell_type": "code",
   "execution_count": 22,
   "id": "5e9f6fd0",
   "metadata": {
    "execution": {
     "iopub.execute_input": "2025-05-15T16:13:23.279722Z",
     "iopub.status.busy": "2025-05-15T16:13:23.279409Z",
     "iopub.status.idle": "2025-05-15T16:13:23.344446Z",
     "shell.execute_reply": "2025-05-15T16:13:23.344038Z"
    },
    "papermill": {
     "duration": 0.081348,
     "end_time": "2025-05-15T16:13:23.345477",
     "exception": false,
     "start_time": "2025-05-15T16:13:23.264129",
     "status": "completed"
    },
    "tags": []
   },
   "outputs": [
    {
     "data": {
      "text/plain": [
       "['/scratch_isilon/groups/singlecell/shared/projects/Inflammation-PBMCs-Atlas/03_downstream_analysis/08_gene_importance/xgboost_external_validation/xgboost_TopN_genes/results_20/best_model/Mono_5_4_xgb.json']"
      ]
     },
     "execution_count": 22,
     "metadata": {},
     "output_type": "execute_result"
    }
   ],
   "source": [
    "out_dir = here(f'03_downstream_analysis/08_gene_importance/xgboost_external_validation/xgboost_TopN_genes/results_{N_GENES}/best_model')\n",
    "\n",
    "if not os.path.exists(out_dir):\n",
    "    os.makedirs(out_dir)\n",
    "    \n",
    "joblib.dump(xgb, os.path.join(out_dir, f'{CELL_TYPE}_{SEED}_{TEST_SPLIT_IDX}_xgb.json'))"
   ]
  },
  {
   "cell_type": "code",
   "execution_count": 23,
   "id": "044e05a5",
   "metadata": {
    "execution": {
     "iopub.execute_input": "2025-05-15T16:13:23.380356Z",
     "iopub.status.busy": "2025-05-15T16:13:23.380070Z",
     "iopub.status.idle": "2025-05-15T16:13:24.034375Z",
     "shell.execute_reply": "2025-05-15T16:13:24.033835Z"
    },
    "papermill": {
     "duration": 0.680533,
     "end_time": "2025-05-15T16:13:24.035880",
     "exception": false,
     "start_time": "2025-05-15T16:13:23.355347",
     "status": "completed"
    },
    "tags": []
   },
   "outputs": [],
   "source": [
    "df_pred_test = pd.DataFrame(dict(\n",
    "    cell_id=train_adata.obs.iloc[test_idxs].index.values,\n",
    "    y_true=y_test, \n",
    "    y_true_code=y_test_enc, \n",
    "    y_pred=xgb.predict(X_test))).set_index('cell_id')"
   ]
  },
  {
   "cell_type": "code",
   "execution_count": 24,
   "id": "25d149db",
   "metadata": {
    "execution": {
     "iopub.execute_input": "2025-05-15T16:13:24.058899Z",
     "iopub.status.busy": "2025-05-15T16:13:24.058680Z",
     "iopub.status.idle": "2025-05-15T16:13:24.221210Z",
     "shell.execute_reply": "2025-05-15T16:13:24.220582Z"
    },
    "papermill": {
     "duration": 0.176593,
     "end_time": "2025-05-15T16:13:24.222680",
     "exception": false,
     "start_time": "2025-05-15T16:13:24.046087",
     "status": "completed"
    },
    "tags": []
   },
   "outputs": [],
   "source": [
    "out_dir = here(f'03_downstream_analysis/08_gene_importance/xgboost_external_validation/xgboost_TopN_genes/results_{N_GENES}/predictions')\n",
    "\n",
    "if not os.path.exists(out_dir):\n",
    "    os.makedirs(out_dir)\n",
    "    \n",
    "df_pred_test.to_csv(os.path.join(out_dir, f'{CELL_TYPE}_{SEED}_{TEST_SPLIT_IDX}_pred_test.zip'))"
   ]
  },
  {
   "cell_type": "code",
   "execution_count": 25,
   "id": "72f422c7",
   "metadata": {
    "execution": {
     "iopub.execute_input": "2025-05-15T16:13:24.302276Z",
     "iopub.status.busy": "2025-05-15T16:13:24.301960Z",
     "iopub.status.idle": "2025-05-15T16:13:24.319980Z",
     "shell.execute_reply": "2025-05-15T16:13:24.319443Z"
    },
    "papermill": {
     "duration": 0.034036,
     "end_time": "2025-05-15T16:13:24.321524",
     "exception": false,
     "start_time": "2025-05-15T16:13:24.287488",
     "status": "completed"
    },
    "tags": []
   },
   "outputs": [],
   "source": [
    "metrics_dict = dict(\n",
    "    BAS=balanced_accuracy_score(y_true=df_pred_test.y_true_code, y_pred=df_pred_test.y_pred), WF1=f1_score(y_true=df_pred_test.y_true_code, y_pred=df_pred_test.y_pred,average='weighted'))"
   ]
  },
  {
   "cell_type": "code",
   "execution_count": 26,
   "id": "4da6b212",
   "metadata": {
    "execution": {
     "iopub.execute_input": "2025-05-15T16:13:24.357193Z",
     "iopub.status.busy": "2025-05-15T16:13:24.356883Z",
     "iopub.status.idle": "2025-05-15T16:13:24.360368Z",
     "shell.execute_reply": "2025-05-15T16:13:24.360037Z"
    },
    "papermill": {
     "duration": 0.02059,
     "end_time": "2025-05-15T16:13:24.361301",
     "exception": false,
     "start_time": "2025-05-15T16:13:24.340711",
     "status": "completed"
    },
    "tags": []
   },
   "outputs": [
    {
     "data": {
      "text/plain": [
       "{'BAS': 0.4887961317425678, 'WF1': 0.7482439933242018}"
      ]
     },
     "execution_count": 26,
     "metadata": {},
     "output_type": "execute_result"
    }
   ],
   "source": [
    "metrics_dict"
   ]
  },
  {
   "cell_type": "code",
   "execution_count": 27,
   "id": "646c6253",
   "metadata": {
    "execution": {
     "iopub.execute_input": "2025-05-15T16:13:24.399596Z",
     "iopub.status.busy": "2025-05-15T16:13:24.399412Z",
     "iopub.status.idle": "2025-05-15T16:13:24.408281Z",
     "shell.execute_reply": "2025-05-15T16:13:24.407951Z"
    },
    "papermill": {
     "duration": 0.030114,
     "end_time": "2025-05-15T16:13:24.409757",
     "exception": false,
     "start_time": "2025-05-15T16:13:24.379643",
     "status": "completed"
    },
    "tags": []
   },
   "outputs": [
    {
     "data": {
      "text/html": [
       "<div>\n",
       "<style scoped>\n",
       "    .dataframe tbody tr th:only-of-type {\n",
       "        vertical-align: middle;\n",
       "    }\n",
       "\n",
       "    .dataframe tbody tr th {\n",
       "        vertical-align: top;\n",
       "    }\n",
       "\n",
       "    .dataframe thead th {\n",
       "        text-align: right;\n",
       "    }\n",
       "</style>\n",
       "<table border=\"1\" class=\"dataframe\">\n",
       "  <thead>\n",
       "    <tr style=\"text-align: right;\">\n",
       "      <th></th>\n",
       "      <th>BAS</th>\n",
       "      <th>WF1</th>\n",
       "      <th>split_idx</th>\n",
       "      <th>gene_set_seed</th>\n",
       "      <th>cell_type</th>\n",
       "    </tr>\n",
       "  </thead>\n",
       "  <tbody>\n",
       "    <tr>\n",
       "      <th>0</th>\n",
       "      <td>0.488796</td>\n",
       "      <td>0.748244</td>\n",
       "      <td>4</td>\n",
       "      <td>5</td>\n",
       "      <td>Mono</td>\n",
       "    </tr>\n",
       "  </tbody>\n",
       "</table>\n",
       "</div>"
      ],
      "text/plain": [
       "        BAS       WF1  split_idx  gene_set_seed cell_type\n",
       "0  0.488796  0.748244          4              5      Mono"
      ]
     },
     "execution_count": 27,
     "metadata": {},
     "output_type": "execute_result"
    }
   ],
   "source": [
    "metrics_df = pd.DataFrame.from_dict([metrics_dict]).assign(split_idx=TEST_SPLIT_IDX, gene_set_seed=SEED, cell_type=CELL_TYPE)\n",
    "metrics_df"
   ]
  },
  {
   "cell_type": "code",
   "execution_count": 28,
   "id": "da6d5096",
   "metadata": {
    "execution": {
     "iopub.execute_input": "2025-05-15T16:13:24.470446Z",
     "iopub.status.busy": "2025-05-15T16:13:24.469987Z",
     "iopub.status.idle": "2025-05-15T16:13:24.486590Z",
     "shell.execute_reply": "2025-05-15T16:13:24.486217Z"
    },
    "papermill": {
     "duration": 0.042597,
     "end_time": "2025-05-15T16:13:24.488035",
     "exception": false,
     "start_time": "2025-05-15T16:13:24.445438",
     "status": "completed"
    },
    "tags": []
   },
   "outputs": [],
   "source": [
    "out_dir = here(f'03_downstream_analysis/08_gene_importance/xgboost_external_validation/xgboost_TopN_genes/results_{N_GENES}/metrics')\n",
    "\n",
    "if not os.path.exists(out_dir):\n",
    "    os.makedirs(out_dir)\n",
    "    \n",
    "metrics_df.to_csv(os.path.join(out_dir, f'{CELL_TYPE}_{SEED}_{TEST_SPLIT_IDX}_metrics.zip'))"
   ]
  }
 ],
 "metadata": {
  "kernelspec": {
   "display_name": "Python 3 (ipykernel)",
   "language": "python",
   "name": "python3"
  },
  "language_info": {
   "codemirror_mode": {
    "name": "ipython",
    "version": 3
   },
   "file_extension": ".py",
   "mimetype": "text/x-python",
   "name": "python",
   "nbconvert_exporter": "python",
   "pygments_lexer": "ipython3",
   "version": "3.12.5"
  },
  "papermill": {
   "default_parameters": {},
   "duration": 849.58262,
   "end_time": "2025-05-15T16:13:25.301024",
   "environment_variables": {},
   "exception": null,
   "input_path": "02_xgboost_fitting_external_20genes.ipynb",
   "output_path": "results_20/executed_notebooks/xgboost_fitting_external_CT_Mono_GS_5_seed4.ipynb",
   "parameters": {
    "CELL_TYPE": "Mono",
    "SEED": 5,
    "TEST_SPLIT_IDX": 4
   },
   "start_time": "2025-05-15T15:59:15.718404",
   "version": "2.6.0"
  }
 },
 "nbformat": 4,
 "nbformat_minor": 5
}