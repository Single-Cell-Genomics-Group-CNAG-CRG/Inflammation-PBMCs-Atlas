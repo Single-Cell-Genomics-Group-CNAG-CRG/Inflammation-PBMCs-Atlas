{
 "cells": [
  {
   "cell_type": "code",
   "execution_count": 1,
   "id": "4866a533",
   "metadata": {
    "editable": true,
    "execution": {
     "iopub.execute_input": "2025-05-15T16:02:14.050009Z",
     "iopub.status.busy": "2025-05-15T16:02:14.049664Z",
     "iopub.status.idle": "2025-05-15T16:02:14.052467Z",
     "shell.execute_reply": "2025-05-15T16:02:14.052138Z"
    },
    "papermill": {
     "duration": 0.010507,
     "end_time": "2025-05-15T16:02:14.053317",
     "exception": false,
     "start_time": "2025-05-15T16:02:14.042810",
     "status": "completed"
    },
    "slideshow": {
     "slide_type": ""
    },
    "tags": [
     "parameters"
    ]
   },
   "outputs": [],
   "source": [
    "CELL_TYPE = 'pDC'\n",
    "N_GENES: int = 20\n",
    "SEED = 'shap_studyID' #'disease_NOstudy' 'study_NOdisease' or 'int' or 'shap_studyID'\n",
    "TEST_SPLIT_IDX: int = 1 #[0,4]"
   ]
  },
  {
   "cell_type": "code",
   "execution_count": 2,
   "id": "af6bd6ac",
   "metadata": {
    "execution": {
     "iopub.execute_input": "2025-05-15T16:02:14.066984Z",
     "iopub.status.busy": "2025-05-15T16:02:14.066758Z",
     "iopub.status.idle": "2025-05-15T16:02:14.069000Z",
     "shell.execute_reply": "2025-05-15T16:02:14.068687Z"
    },
    "papermill": {
     "duration": 0.008768,
     "end_time": "2025-05-15T16:02:14.069814",
     "exception": false,
     "start_time": "2025-05-15T16:02:14.061046",
     "status": "completed"
    },
    "tags": [
     "injected-parameters"
    ]
   },
   "outputs": [],
   "source": [
    "# Parameters\n",
    "CELL_TYPE = \"T_CD4_NonNaive\"\n",
    "SEED = 1\n",
    "TEST_SPLIT_IDX = 4\n"
   ]
  },
  {
   "cell_type": "code",
   "execution_count": 3,
   "id": "43c32aaf",
   "metadata": {
    "execution": {
     "iopub.execute_input": "2025-05-15T16:02:14.083412Z",
     "iopub.status.busy": "2025-05-15T16:02:14.083118Z",
     "iopub.status.idle": "2025-05-15T16:02:14.085218Z",
     "shell.execute_reply": "2025-05-15T16:02:14.084916Z"
    },
    "papermill": {
     "duration": 0.008351,
     "end_time": "2025-05-15T16:02:14.085984",
     "exception": false,
     "start_time": "2025-05-15T16:02:14.077633",
     "status": "completed"
    },
    "tags": []
   },
   "outputs": [],
   "source": [
    "N_SPLITS: int = 5\n",
    "N_TRIALS: int = 50"
   ]
  },
  {
   "cell_type": "code",
   "execution_count": 4,
   "id": "df0c686d",
   "metadata": {
    "execution": {
     "iopub.execute_input": "2025-05-15T16:02:14.103236Z",
     "iopub.status.busy": "2025-05-15T16:02:14.102963Z",
     "iopub.status.idle": "2025-05-15T16:02:16.219774Z",
     "shell.execute_reply": "2025-05-15T16:02:16.219254Z"
    },
    "papermill": {
     "duration": 2.126981,
     "end_time": "2025-05-15T16:02:16.221057",
     "exception": false,
     "start_time": "2025-05-15T16:02:14.094076",
     "status": "completed"
    },
    "tags": []
   },
   "outputs": [],
   "source": [
    "import os\n",
    "import sys\n",
    "from pyprojroot.here import here\n",
    "import pandas as pd\n",
    "import anndata as ad\n",
    "import numpy as np\n",
    "import math\n",
    "from sklearn.model_selection import StratifiedGroupKFold\n",
    "from sklearn.preprocessing import LabelEncoder\n",
    "from sklearn.metrics import f1_score\n",
    "import matplotlib.pyplot as plt\n",
    "import seaborn as sns\n",
    "from itertools import product\n",
    "from sklearn.metrics import balanced_accuracy_score, f1_score\n",
    "import optuna\n",
    "\n",
    "import joblib\n",
    "import pickle\n",
    "import datetime\n",
    "\n",
    "import collections\n",
    "\n",
    "import xgboost\n",
    "from sklearn.preprocessing import LabelEncoder\n",
    "\n",
    "import scipy.sparse as ssp\n",
    "import joblib\n",
    "\n",
    "from dotenv import load_dotenv"
   ]
  },
  {
   "cell_type": "code",
   "execution_count": 5,
   "id": "8dfa995c",
   "metadata": {
    "execution": {
     "iopub.execute_input": "2025-05-15T16:02:16.235255Z",
     "iopub.status.busy": "2025-05-15T16:02:16.234898Z",
     "iopub.status.idle": "2025-05-15T16:02:16.241701Z",
     "shell.execute_reply": "2025-05-15T16:02:16.241337Z"
    },
    "papermill": {
     "duration": 0.015679,
     "end_time": "2025-05-15T16:02:16.242635",
     "exception": false,
     "start_time": "2025-05-15T16:02:16.226956",
     "status": "completed"
    },
    "tags": []
   },
   "outputs": [
    {
     "data": {
      "text/plain": [
       "True"
      ]
     },
     "execution_count": 5,
     "metadata": {},
     "output_type": "execute_result"
    }
   ],
   "source": [
    "load_dotenv()"
   ]
  },
  {
   "cell_type": "markdown",
   "id": "d3a8a5d7",
   "metadata": {
    "papermill": {
     "duration": 0.00538,
     "end_time": "2025-05-15T16:02:16.254531",
     "exception": false,
     "start_time": "2025-05-15T16:02:16.249151",
     "status": "completed"
    },
    "tags": []
   },
   "source": [
    "# LOAD DATASET"
   ]
  },
  {
   "cell_type": "code",
   "execution_count": 6,
   "id": "26aeff93",
   "metadata": {
    "execution": {
     "iopub.execute_input": "2025-05-15T16:02:16.272250Z",
     "iopub.status.busy": "2025-05-15T16:02:16.272070Z",
     "iopub.status.idle": "2025-05-15T16:02:16.952536Z",
     "shell.execute_reply": "2025-05-15T16:02:16.951859Z"
    },
    "papermill": {
     "duration": 0.688314,
     "end_time": "2025-05-15T16:02:16.954047",
     "exception": false,
     "start_time": "2025-05-15T16:02:16.265733",
     "status": "completed"
    },
    "tags": []
   },
   "outputs": [],
   "source": [
    "train_adata = ad.read_h5ad(\n",
    "    here(f'03_downstream_analysis/08_gene_importance/xgboost_external_validation/xgboost_TopN_genes/data_cellTypes/EXTERNAL_{CELL_TYPE}.filtered.log1p.h5ad')\n",
    ")"
   ]
  },
  {
   "cell_type": "code",
   "execution_count": 7,
   "id": "da5e1850",
   "metadata": {
    "execution": {
     "iopub.execute_input": "2025-05-15T16:02:16.978885Z",
     "iopub.status.busy": "2025-05-15T16:02:16.978686Z",
     "iopub.status.idle": "2025-05-15T16:02:17.024351Z",
     "shell.execute_reply": "2025-05-15T16:02:17.023711Z"
    },
    "papermill": {
     "duration": 0.061568,
     "end_time": "2025-05-15T16:02:17.025568",
     "exception": false,
     "start_time": "2025-05-15T16:02:16.964000",
     "status": "completed"
    },
    "tags": []
   },
   "outputs": [
    {
     "name": "stdout",
     "output_type": "stream",
     "text": [
      "['ENSG00000117523' 'ENSG00000104660' 'ENSG00000182866' 'ENSG00000177721'\n",
      " 'ENSG00000131018' 'ENSG00000183696' 'ENSG00000100453' 'ENSG00000152778'\n",
      " 'ENSG00000104964' 'ENSG00000104763' 'ENSG00000113088' 'ENSG00000077238'\n",
      " 'ENSG00000090266' 'ENSG00000227507' 'ENSG00000186827' 'ENSG00000143774'\n",
      " 'ENSG00000130755' 'ENSG00000143761' 'ENSG00000117602' 'ENSG00000156411'\n",
      " 'ENSG00000107485' 'ENSG00000136997' 'ENSG00000204264' 'ENSG00000205542'\n",
      " 'ENSG00000169564' 'ENSG00000231389' 'ENSG00000101474' 'ENSG00000066294'\n",
      " 'ENSG00000026103' 'ENSG00000157514' 'ENSG00000118640' 'ENSG00000157601'\n",
      " 'ENSG00000134107' 'ENSG00000104894' 'ENSG00000089127' 'ENSG00000151882'\n",
      " 'ENSG00000160213' 'ENSG00000183813' 'ENSG00000229474' 'ENSG00000177556'\n",
      " 'ENSG00000160712' 'ENSG00000117020' 'ENSG00000088986' 'ENSG00000165272'\n",
      " 'ENSG00000105374' 'ENSG00000148908' 'ENSG00000130066' 'ENSG00000128340'\n",
      " 'ENSG00000136738' 'ENSG00000167552' 'ENSG00000168685' 'ENSG00000110848'\n",
      " 'ENSG00000125347' 'ENSG00000204257' 'ENSG00000171700' 'ENSG00000175567'\n",
      " 'ENSG00000160075' 'ENSG00000185201' 'ENSG00000109321' 'ENSG00000126353'\n",
      " 'ENSG00000108622' 'ENSG00000143575' 'ENSG00000107223' 'ENSG00000271503'\n",
      " 'ENSG00000204482' 'ENSG00000125384' 'ENSG00000135114' 'ENSG00000100393'\n",
      " 'ENSG00000130429' 'ENSG00000158050' 'ENSG00000116171' 'ENSG00000090382'\n",
      " 'ENSG00000136156' 'ENSG00000265972' 'ENSG00000110324' 'ENSG00000123416'\n",
      " 'ENSG00000108518' 'ENSG00000025708' 'ENSG00000215788' 'ENSG00000164674'\n",
      " 'ENSG00000118971' 'ENSG00000136003' 'ENSG00000160932' 'ENSG00000155368'\n",
      " 'ENSG00000011600' 'ENSG00000122705' 'ENSG00000228474' 'ENSG00000030582'\n",
      " 'ENSG00000204592' 'ENSG00000124762' 'ENSG00000242616' 'ENSG00000163513'\n",
      " 'ENSG00000166747' 'ENSG00000128524' 'ENSG00000140379' 'ENSG00000115875'\n",
      " 'ENSG00000163191' 'ENSG00000177663' 'ENSG00000075426' 'ENSG00000108639'\n",
      " 'ENSG00000068831' 'ENSG00000204642']\n"
     ]
    }
   ],
   "source": [
    "if SEED != 'all':\n",
    "    gene_subset = np.load(here(f'03_downstream_analysis/08_gene_importance/xgboost_external_validation/shap_gene_selection/gene_subsets_{N_GENES}/{CELL_TYPE}_{SEED}.npy'), allow_pickle=True)\n",
    "    train_adata = train_adata[:,gene_subset]\n",
    "    print(gene_subset)\n",
    "elif SEED == 'all':\n",
    "    print('Using all genes')\n",
    "else:\n",
    "    raise ValueError()"
   ]
  },
  {
   "cell_type": "code",
   "execution_count": 8,
   "id": "d1d67c58",
   "metadata": {
    "execution": {
     "iopub.execute_input": "2025-05-15T16:02:17.046565Z",
     "iopub.status.busy": "2025-05-15T16:02:17.046344Z",
     "iopub.status.idle": "2025-05-15T16:02:17.049676Z",
     "shell.execute_reply": "2025-05-15T16:02:17.049329Z"
    },
    "papermill": {
     "duration": 0.016748,
     "end_time": "2025-05-15T16:02:17.050483",
     "exception": false,
     "start_time": "2025-05-15T16:02:17.033735",
     "status": "completed"
    },
    "tags": []
   },
   "outputs": [
    {
     "data": {
      "text/plain": [
       "(124886, 102)"
      ]
     },
     "execution_count": 8,
     "metadata": {},
     "output_type": "execute_result"
    }
   ],
   "source": [
    "train_adata.shape"
   ]
  },
  {
   "cell_type": "code",
   "execution_count": 9,
   "id": "ff0302ab",
   "metadata": {
    "execution": {
     "iopub.execute_input": "2025-05-15T16:02:17.097925Z",
     "iopub.status.busy": "2025-05-15T16:02:17.097726Z",
     "iopub.status.idle": "2025-05-15T16:02:17.101902Z",
     "shell.execute_reply": "2025-05-15T16:02:17.101535Z"
    },
    "papermill": {
     "duration": 0.020302,
     "end_time": "2025-05-15T16:02:17.102885",
     "exception": false,
     "start_time": "2025-05-15T16:02:17.082583",
     "status": "completed"
    },
    "tags": []
   },
   "outputs": [
    {
     "data": {
      "text/plain": [
       "['RA', 'healthy', 'COVID', 'HIV', 'cirrhosis', 'CD', 'SLE', 'sepsis']\n",
       "Categories (8, object): ['CD', 'COVID', 'HIV', 'RA', 'SLE', 'cirrhosis', 'healthy', 'sepsis']"
      ]
     },
     "execution_count": 9,
     "metadata": {},
     "output_type": "execute_result"
    }
   ],
   "source": [
    "train_adata.obs.disease.unique()"
   ]
  },
  {
   "cell_type": "code",
   "execution_count": 10,
   "id": "7926ad38",
   "metadata": {
    "execution": {
     "iopub.execute_input": "2025-05-15T16:02:17.155575Z",
     "iopub.status.busy": "2025-05-15T16:02:17.155198Z",
     "iopub.status.idle": "2025-05-15T16:02:17.160101Z",
     "shell.execute_reply": "2025-05-15T16:02:17.159780Z"
    },
    "papermill": {
     "duration": 0.027286,
     "end_time": "2025-05-15T16:02:17.161003",
     "exception": false,
     "start_time": "2025-05-15T16:02:17.133717",
     "status": "completed"
    },
    "tags": []
   },
   "outputs": [
    {
     "data": {
      "text/plain": [
       "['SCGT00val_I036016_T0', 'SCGT00val_I036023_T0', 'SCGT00val_I036015_T0', 'SCGT00val_I036028_T0', 'SCGT00val_I0364_T0', ..., '10XGenomics_10XHC2_T0', '10XGenomics_10XHC3_T0', '10XGenomics_10XHC5_T0', '10XGenomics_10XHC7_T0', '10XGenomics_10XHC8_T0']\n",
       "Length: 86\n",
       "Categories (86, object): ['10XGenomics_10XHC1_T0', '10XGenomics_10XHC2_T0', '10XGenomics_10XHC3_T0', '10XGenomics_10XHC4_T0', ..., 'Savage2021_BRISL6_T0', 'Savage2021_BRISL7_T0', 'Savage2021_PIDA_T0', 'Savage2021_PIDB_T0']"
      ]
     },
     "execution_count": 10,
     "metadata": {},
     "output_type": "execute_result"
    }
   ],
   "source": [
    "train_adata.obs.sampleID.unique()"
   ]
  },
  {
   "cell_type": "code",
   "execution_count": 11,
   "id": "e69f3952",
   "metadata": {
    "execution": {
     "iopub.execute_input": "2025-05-15T16:02:17.183460Z",
     "iopub.status.busy": "2025-05-15T16:02:17.183072Z",
     "iopub.status.idle": "2025-05-15T16:02:17.484238Z",
     "shell.execute_reply": "2025-05-15T16:02:17.483696Z"
    },
    "papermill": {
     "duration": 0.318679,
     "end_time": "2025-05-15T16:02:17.485681",
     "exception": false,
     "start_time": "2025-05-15T16:02:17.167002",
     "status": "completed"
    },
    "tags": []
   },
   "outputs": [],
   "source": [
    "all_idxs = np.arange(train_adata.obs.shape[0])\n",
    "left_out_splits = [s[1] for s in StratifiedGroupKFold(n_splits=N_SPLITS).split(all_idxs, train_adata.obs.disease, train_adata.obs.sampleID)]"
   ]
  },
  {
   "cell_type": "code",
   "execution_count": 12,
   "id": "c3e44708",
   "metadata": {
    "execution": {
     "iopub.execute_input": "2025-05-15T16:02:17.523259Z",
     "iopub.status.busy": "2025-05-15T16:02:17.523045Z",
     "iopub.status.idle": "2025-05-15T16:02:17.527098Z",
     "shell.execute_reply": "2025-05-15T16:02:17.526748Z"
    },
    "papermill": {
     "duration": 0.025366,
     "end_time": "2025-05-15T16:02:17.527977",
     "exception": false,
     "start_time": "2025-05-15T16:02:17.502611",
     "status": "completed"
    },
    "tags": []
   },
   "outputs": [
    {
     "data": {
      "text/plain": [
       "([1, 2, 3], 0, 4)"
      ]
     },
     "execution_count": 12,
     "metadata": {},
     "output_type": "execute_result"
    }
   ],
   "source": [
    "TRAIN_SPLIT_IDXS = [0,1,2,3,4]\n",
    "VAL_SPLIT_IDX = (TEST_SPLIT_IDX + 1) % 5\n",
    "TRAIN_SPLIT_IDXS.remove(TEST_SPLIT_IDX)\n",
    "TRAIN_SPLIT_IDXS.remove(VAL_SPLIT_IDX)\n",
    "TRAIN_SPLIT_IDXS, VAL_SPLIT_IDX, TEST_SPLIT_IDX"
   ]
  },
  {
   "cell_type": "code",
   "execution_count": 13,
   "id": "525c3c77",
   "metadata": {
    "execution": {
     "iopub.execute_input": "2025-05-15T16:02:17.546581Z",
     "iopub.status.busy": "2025-05-15T16:02:17.546350Z",
     "iopub.status.idle": "2025-05-15T16:02:17.549216Z",
     "shell.execute_reply": "2025-05-15T16:02:17.548860Z"
    },
    "papermill": {
     "duration": 0.010421,
     "end_time": "2025-05-15T16:02:17.550054",
     "exception": false,
     "start_time": "2025-05-15T16:02:17.539633",
     "status": "completed"
    },
    "tags": []
   },
   "outputs": [],
   "source": [
    "train_idxs = np.concatenate([left_out_splits[idx] for idx in TRAIN_SPLIT_IDXS])\n",
    "val_idxs = left_out_splits[VAL_SPLIT_IDX]\n",
    "test_idxs = left_out_splits[TEST_SPLIT_IDX]"
   ]
  },
  {
   "cell_type": "markdown",
   "id": "cf582500",
   "metadata": {
    "papermill": {
     "duration": 0.014129,
     "end_time": "2025-05-15T16:02:17.572639",
     "exception": false,
     "start_time": "2025-05-15T16:02:17.558510",
     "status": "completed"
    },
    "tags": []
   },
   "source": [
    "### SUBSET DATASET INTO TRAIN/TEST/VAL SPLITS"
   ]
  },
  {
   "cell_type": "code",
   "execution_count": 14,
   "id": "492875bb",
   "metadata": {
    "execution": {
     "iopub.execute_input": "2025-05-15T16:02:17.594497Z",
     "iopub.status.busy": "2025-05-15T16:02:17.594238Z",
     "iopub.status.idle": "2025-05-15T16:02:17.873885Z",
     "shell.execute_reply": "2025-05-15T16:02:17.873339Z"
    },
    "papermill": {
     "duration": 0.289114,
     "end_time": "2025-05-15T16:02:17.874913",
     "exception": false,
     "start_time": "2025-05-15T16:02:17.585799",
     "status": "completed"
    },
    "tags": []
   },
   "outputs": [
    {
     "data": {
      "text/plain": [
       "((76492, 102), (24117, 102), (24277, 102))"
      ]
     },
     "execution_count": 14,
     "metadata": {},
     "output_type": "execute_result"
    }
   ],
   "source": [
    "X_train = train_adata.X[train_idxs]\n",
    "X_test = train_adata.X[test_idxs]\n",
    "X_val = train_adata.X[val_idxs]\n",
    "X_train.shape, X_test.shape, X_val.shape"
   ]
  },
  {
   "cell_type": "code",
   "execution_count": 15,
   "id": "3713bcd8",
   "metadata": {
    "execution": {
     "iopub.execute_input": "2025-05-15T16:02:17.909608Z",
     "iopub.status.busy": "2025-05-15T16:02:17.909397Z",
     "iopub.status.idle": "2025-05-15T16:02:17.922954Z",
     "shell.execute_reply": "2025-05-15T16:02:17.922561Z"
    },
    "papermill": {
     "duration": 0.025255,
     "end_time": "2025-05-15T16:02:17.923969",
     "exception": false,
     "start_time": "2025-05-15T16:02:17.898714",
     "status": "completed"
    },
    "tags": []
   },
   "outputs": [
    {
     "data": {
      "text/plain": [
       "((76492,), (24117,), (24277,))"
      ]
     },
     "execution_count": 15,
     "metadata": {},
     "output_type": "execute_result"
    }
   ],
   "source": [
    "y_train = train_adata.obs.iloc[train_idxs].disease.values.astype(str)\n",
    "y_test = train_adata.obs.iloc[test_idxs].disease.values.astype(str)\n",
    "y_val = train_adata.obs.iloc[val_idxs].disease.values.astype(str)\n",
    "y_train.shape, y_test.shape, y_val.shape"
   ]
  },
  {
   "cell_type": "code",
   "execution_count": 16,
   "id": "44e493fa",
   "metadata": {
    "execution": {
     "iopub.execute_input": "2025-05-15T16:02:17.962898Z",
     "iopub.status.busy": "2025-05-15T16:02:17.962688Z",
     "iopub.status.idle": "2025-05-15T16:02:17.990043Z",
     "shell.execute_reply": "2025-05-15T16:02:17.989570Z"
    },
    "papermill": {
     "duration": 0.044662,
     "end_time": "2025-05-15T16:02:17.991159",
     "exception": false,
     "start_time": "2025-05-15T16:02:17.946497",
     "status": "completed"
    },
    "tags": []
   },
   "outputs": [],
   "source": [
    "lenc = LabelEncoder()\n",
    "y_train_enc = lenc.fit_transform(y_train)\n",
    "y_val_enc = lenc.transform(y_val)\n",
    "y_test_enc = lenc.transform(y_test)"
   ]
  },
  {
   "cell_type": "markdown",
   "id": "75936a30",
   "metadata": {
    "papermill": {
     "duration": 0.03049,
     "end_time": "2025-05-15T16:02:18.028750",
     "exception": false,
     "start_time": "2025-05-15T16:02:17.998260",
     "status": "completed"
    },
    "tags": []
   },
   "source": [
    "### GENERATE F1 "
   ]
  },
  {
   "cell_type": "code",
   "execution_count": 17,
   "id": "ed9e519b",
   "metadata": {
    "execution": {
     "iopub.execute_input": "2025-05-15T16:02:18.064950Z",
     "iopub.status.busy": "2025-05-15T16:02:18.064600Z",
     "iopub.status.idle": "2025-05-15T16:02:18.067731Z",
     "shell.execute_reply": "2025-05-15T16:02:18.067261Z"
    },
    "papermill": {
     "duration": 0.022776,
     "end_time": "2025-05-15T16:02:18.068698",
     "exception": false,
     "start_time": "2025-05-15T16:02:18.045922",
     "status": "completed"
    },
    "tags": []
   },
   "outputs": [],
   "source": [
    "def custom_f1_score(y_true, y_pred):\n",
    "    return -f1_score(y_true, y_pred.argmax(1), average='weighted')"
   ]
  },
  {
   "cell_type": "code",
   "execution_count": 18,
   "id": "3cfb982c",
   "metadata": {
    "execution": {
     "iopub.execute_input": "2025-05-15T16:02:18.081061Z",
     "iopub.status.busy": "2025-05-15T16:02:18.080753Z",
     "iopub.status.idle": "2025-05-15T16:02:18.085027Z",
     "shell.execute_reply": "2025-05-15T16:02:18.084615Z"
    },
    "papermill": {
     "duration": 0.011557,
     "end_time": "2025-05-15T16:02:18.085995",
     "exception": false,
     "start_time": "2025-05-15T16:02:18.074438",
     "status": "completed"
    },
    "tags": []
   },
   "outputs": [],
   "source": [
    "eval_metric=custom_f1_score\n",
    "eval_metric_name='custom_f1_score'\n",
    "\n",
    "def objective(trial):\n",
    "    params = {\n",
    "        'n_estimators': 1500,\n",
    "        'max_depth': trial.suggest_int('max_depth', 3, 20),\n",
    "        'min_child_weight': trial.suggest_int('min_child_weight', 1, 250),\n",
    "        'subsample': trial.suggest_float('subsample', 0.1, 1.0),\n",
    "        'colsample_bynode': trial.suggest_float('colsample_bynode', 0.1, 1.0),\n",
    "        'learning_rate': trial.suggest_float('learning_rate', 1e-3, 5e-1, log=True),\n",
    "    }\n",
    "    pruning_callback = optuna.integration.XGBoostPruningCallback(trial, f'validation_0-{eval_metric_name}')\n",
    "    es_callback = xgboost.callback.EarlyStopping(20, min_delta=0.001)\n",
    "    xgb = xgboost.XGBClassifier(\n",
    "        eval_metric=eval_metric,\n",
    "        callbacks=[pruning_callback, es_callback],\n",
    "        n_jobs=5,\n",
    "        **params\n",
    "    )\n",
    "    xgb.fit(\n",
    "        X_train, \n",
    "        y_train_enc, \n",
    "        verbose=0,\n",
    "        eval_set=[(X_val, y_val_enc)],\n",
    "    )\n",
    "    trial.set_user_attr('best_iteration', xgb.best_iteration)\n",
    "\n",
    "    return xgb.best_score"
   ]
  },
  {
   "cell_type": "code",
   "execution_count": 19,
   "id": "e9a410b9",
   "metadata": {
    "execution": {
     "iopub.execute_input": "2025-05-15T16:02:18.124005Z",
     "iopub.status.busy": "2025-05-15T16:02:18.123328Z",
     "iopub.status.idle": "2025-05-15T16:15:24.055601Z",
     "shell.execute_reply": "2025-05-15T16:15:24.054991Z"
    },
    "papermill": {
     "duration": 785.949399,
     "end_time": "2025-05-15T16:15:24.057496",
     "exception": false,
     "start_time": "2025-05-15T16:02:18.108097",
     "status": "completed"
    },
    "scrolled": true,
    "tags": []
   },
   "outputs": [
    {
     "name": "stderr",
     "output_type": "stream",
     "text": [
      "[I 2025-05-15 18:02:18,125] A new study created in memory with name: no-name-ada5cbc4-144a-43ff-853b-113dfa2a31d6\n"
     ]
    },
    {
     "name": "stderr",
     "output_type": "stream",
     "text": [
      "[I 2025-05-15 18:02:44,728] Trial 0 finished with value: -0.669162 and parameters: {'max_depth': 9, 'min_child_weight': 238, 'subsample': 0.7587945476302645, 'colsample_bynode': 0.6387926357773329, 'learning_rate': 0.0026368755339723046}. Best is trial 0 with value: -0.669162.\n"
     ]
    },
    {
     "name": "stderr",
     "output_type": "stream",
     "text": [
      "[I 2025-05-15 18:03:59,974] Trial 1 finished with value: -0.779686 and parameters: {'max_depth': 5, 'min_child_weight': 15, 'subsample': 0.8795585311974417, 'colsample_bynode': 0.6410035105688879, 'learning_rate': 0.08148293210105287}. Best is trial 1 with value: -0.779686.\n"
     ]
    },
    {
     "name": "stderr",
     "output_type": "stream",
     "text": [
      "[I 2025-05-15 18:04:09,900] Trial 2 finished with value: -0.652314 and parameters: {'max_depth': 3, 'min_child_weight': 243, 'subsample': 0.8491983767203796, 'colsample_bynode': 0.29110519961044856, 'learning_rate': 0.003095566460242371}. Best is trial 1 with value: -0.779686.\n"
     ]
    },
    {
     "name": "stderr",
     "output_type": "stream",
     "text": [
      "[I 2025-05-15 18:04:26,382] Trial 3 finished with value: -0.67901 and parameters: {'max_depth': 6, 'min_child_weight': 77, 'subsample': 0.5722807884690141, 'colsample_bynode': 0.48875051677790415, 'learning_rate': 0.006109683510122491}. Best is trial 1 with value: -0.779686.\n"
     ]
    },
    {
     "name": "stderr",
     "output_type": "stream",
     "text": [
      "[I 2025-05-15 18:06:56,226] Trial 4 finished with value: -0.768719 and parameters: {'max_depth': 14, 'min_child_weight': 35, 'subsample': 0.3629301836816964, 'colsample_bynode': 0.4297256589643226, 'learning_rate': 0.01701841881702917}. Best is trial 1 with value: -0.779686.\n"
     ]
    },
    {
     "name": "stderr",
     "output_type": "stream",
     "text": [
      "[I 2025-05-15 18:07:05,508] Trial 5 finished with value: -0.687226 and parameters: {'max_depth': 17, 'min_child_weight': 50, 'subsample': 0.5628109945722505, 'colsample_bynode': 0.6331731119758383, 'learning_rate': 0.0013346527038305934}. Best is trial 1 with value: -0.779686.\n"
     ]
    },
    {
     "name": "stderr",
     "output_type": "stream",
     "text": [
      "[I 2025-05-15 18:07:25,260] Trial 6 finished with value: -0.778152 and parameters: {'max_depth': 13, 'min_child_weight': 43, 'subsample': 0.1585464336867516, 'colsample_bynode': 0.9539969835279999, 'learning_rate': 0.4038423798071558}. Best is trial 1 with value: -0.779686.\n"
     ]
    },
    {
     "name": "stderr",
     "output_type": "stream",
     "text": [
      "[I 2025-05-15 18:07:25,898] Trial 7 pruned. Trial was pruned at iteration 0.\n"
     ]
    },
    {
     "name": "stderr",
     "output_type": "stream",
     "text": [
      "[I 2025-05-15 18:07:26,500] Trial 8 pruned. Trial was pruned at iteration 0.\n"
     ]
    },
    {
     "name": "stderr",
     "output_type": "stream",
     "text": [
      "[I 2025-05-15 18:07:27,551] Trial 9 pruned. Trial was pruned at iteration 1.\n"
     ]
    },
    {
     "name": "stderr",
     "output_type": "stream",
     "text": [
      "[I 2025-05-15 18:07:28,373] Trial 10 pruned. Trial was pruned at iteration 0.\n"
     ]
    },
    {
     "name": "stderr",
     "output_type": "stream",
     "text": [
      "[I 2025-05-15 18:08:03,531] Trial 11 finished with value: -0.770269 and parameters: {'max_depth': 11, 'min_child_weight': 3, 'subsample': 0.35229864280210643, 'colsample_bynode': 0.9522656887511343, 'learning_rate': 0.4085535814821633}. Best is trial 1 with value: -0.779686.\n"
     ]
    },
    {
     "name": "stderr",
     "output_type": "stream",
     "text": [
      "[I 2025-05-15 18:08:04,192] Trial 12 pruned. Trial was pruned at iteration 0.\n"
     ]
    },
    {
     "name": "stderr",
     "output_type": "stream",
     "text": [
      "[I 2025-05-15 18:08:04,832] Trial 13 pruned. Trial was pruned at iteration 0.\n"
     ]
    },
    {
     "name": "stderr",
     "output_type": "stream",
     "text": [
      "[I 2025-05-15 18:08:05,510] Trial 14 pruned. Trial was pruned at iteration 0.\n"
     ]
    },
    {
     "name": "stderr",
     "output_type": "stream",
     "text": [
      "[I 2025-05-15 18:08:53,428] Trial 15 finished with value: -0.784894 and parameters: {'max_depth': 11, 'min_child_weight': 38, 'subsample': 0.23822387985709548, 'colsample_bynode': 0.9874375164552757, 'learning_rate': 0.15173627278338142}. Best is trial 15 with value: -0.784894.\n"
     ]
    },
    {
     "name": "stderr",
     "output_type": "stream",
     "text": [
      "[I 2025-05-15 18:08:54,008] Trial 16 pruned. Trial was pruned at iteration 0.\n"
     ]
    },
    {
     "name": "stderr",
     "output_type": "stream",
     "text": [
      "[I 2025-05-15 18:08:54,618] Trial 17 pruned. Trial was pruned at iteration 0.\n"
     ]
    },
    {
     "name": "stderr",
     "output_type": "stream",
     "text": [
      "[I 2025-05-15 18:08:55,256] Trial 18 pruned. Trial was pruned at iteration 0.\n"
     ]
    },
    {
     "name": "stderr",
     "output_type": "stream",
     "text": [
      "[I 2025-05-15 18:08:56,191] Trial 19 pruned. Trial was pruned at iteration 1.\n"
     ]
    },
    {
     "name": "stderr",
     "output_type": "stream",
     "text": [
      "[I 2025-05-15 18:09:11,923] Trial 20 pruned. Trial was pruned at iteration 37.\n"
     ]
    },
    {
     "name": "stderr",
     "output_type": "stream",
     "text": [
      "[I 2025-05-15 18:09:12,887] Trial 21 pruned. Trial was pruned at iteration 1.\n"
     ]
    },
    {
     "name": "stderr",
     "output_type": "stream",
     "text": [
      "[I 2025-05-15 18:09:13,525] Trial 22 pruned. Trial was pruned at iteration 0.\n"
     ]
    },
    {
     "name": "stderr",
     "output_type": "stream",
     "text": [
      "[I 2025-05-15 18:09:43,981] Trial 23 finished with value: -0.781665 and parameters: {'max_depth': 15, 'min_child_weight': 58, 'subsample': 0.4236356507772079, 'colsample_bynode': 0.9987596023656802, 'learning_rate': 0.2870964669525365}. Best is trial 15 with value: -0.784894.\n"
     ]
    },
    {
     "name": "stderr",
     "output_type": "stream",
     "text": [
      "[I 2025-05-15 18:10:04,786] Trial 24 pruned. Trial was pruned at iteration 54.\n"
     ]
    },
    {
     "name": "stderr",
     "output_type": "stream",
     "text": [
      "[I 2025-05-15 18:10:50,350] Trial 25 finished with value: -0.785713 and parameters: {'max_depth': 16, 'min_child_weight': 22, 'subsample': 0.41987865637979355, 'colsample_bynode': 0.7444120788839635, 'learning_rate': 0.26400531648687514}. Best is trial 25 with value: -0.785713.\n"
     ]
    },
    {
     "name": "stderr",
     "output_type": "stream",
     "text": [
      "[I 2025-05-15 18:10:51,700] Trial 26 pruned. Trial was pruned at iteration 2.\n"
     ]
    },
    {
     "name": "stderr",
     "output_type": "stream",
     "text": [
      "[I 2025-05-15 18:11:24,411] Trial 27 finished with value: -0.783694 and parameters: {'max_depth': 18, 'min_child_weight': 26, 'subsample': 0.2837646877243558, 'colsample_bynode': 0.9994894707913391, 'learning_rate': 0.2663050109270443}. Best is trial 25 with value: -0.785713.\n"
     ]
    },
    {
     "name": "stderr",
     "output_type": "stream",
     "text": [
      "[I 2025-05-15 18:11:39,988] Trial 28 pruned. Trial was pruned at iteration 37.\n"
     ]
    },
    {
     "name": "stderr",
     "output_type": "stream",
     "text": [
      "[I 2025-05-15 18:11:40,598] Trial 29 pruned. Trial was pruned at iteration 0.\n"
     ]
    },
    {
     "name": "stderr",
     "output_type": "stream",
     "text": [
      "[I 2025-05-15 18:12:13,934] Trial 30 finished with value: -0.784241 and parameters: {'max_depth': 15, 'min_child_weight': 31, 'subsample': 0.31459774219561765, 'colsample_bynode': 0.8985263620869791, 'learning_rate': 0.2655277307868301}. Best is trial 25 with value: -0.785713.\n"
     ]
    },
    {
     "name": "stderr",
     "output_type": "stream",
     "text": [
      "[I 2025-05-15 18:12:40,617] Trial 31 finished with value: -0.778979 and parameters: {'max_depth': 18, 'min_child_weight': 26, 'subsample': 0.20350792876666618, 'colsample_bynode': 0.8876677615222361, 'learning_rate': 0.3079372201079426}. Best is trial 25 with value: -0.785713.\n"
     ]
    },
    {
     "name": "stderr",
     "output_type": "stream",
     "text": [
      "[I 2025-05-15 18:12:52,654] Trial 32 pruned. Trial was pruned at iteration 23.\n"
     ]
    },
    {
     "name": "stderr",
     "output_type": "stream",
     "text": [
      "[I 2025-05-15 18:13:08,890] Trial 33 finished with value: -0.775011 and parameters: {'max_depth': 16, 'min_child_weight': 36, 'subsample': 0.3946745931920759, 'colsample_bynode': 0.9291523084819349, 'learning_rate': 0.48262331481664195}. Best is trial 25 with value: -0.785713.\n"
     ]
    },
    {
     "name": "stderr",
     "output_type": "stream",
     "text": [
      "[I 2025-05-15 18:13:23,634] Trial 34 pruned. Trial was pruned at iteration 11.\n"
     ]
    },
    {
     "name": "stderr",
     "output_type": "stream",
     "text": [
      "[I 2025-05-15 18:13:24,328] Trial 35 pruned. Trial was pruned at iteration 0.\n"
     ]
    },
    {
     "name": "stderr",
     "output_type": "stream",
     "text": [
      "[I 2025-05-15 18:13:25,050] Trial 36 pruned. Trial was pruned at iteration 0.\n"
     ]
    },
    {
     "name": "stderr",
     "output_type": "stream",
     "text": [
      "[I 2025-05-15 18:13:25,735] Trial 37 pruned. Trial was pruned at iteration 0.\n"
     ]
    },
    {
     "name": "stderr",
     "output_type": "stream",
     "text": [
      "[I 2025-05-15 18:13:28,601] Trial 38 pruned. Trial was pruned at iteration 5.\n"
     ]
    },
    {
     "name": "stderr",
     "output_type": "stream",
     "text": [
      "[I 2025-05-15 18:13:54,585] Trial 39 finished with value: -0.78376 and parameters: {'max_depth': 14, 'min_child_weight': 51, 'subsample': 0.3714542820562069, 'colsample_bynode': 0.6392116993125989, 'learning_rate': 0.33893529696584523}. Best is trial 25 with value: -0.785713.\n"
     ]
    },
    {
     "name": "stderr",
     "output_type": "stream",
     "text": [
      "[I 2025-05-15 18:13:55,649] Trial 40 pruned. Trial was pruned at iteration 1.\n"
     ]
    },
    {
     "name": "stderr",
     "output_type": "stream",
     "text": [
      "[I 2025-05-15 18:14:25,994] Trial 41 finished with value: -0.785917 and parameters: {'max_depth': 13, 'min_child_weight': 51, 'subsample': 0.3672662885989966, 'colsample_bynode': 0.5789861847323793, 'learning_rate': 0.3224559195421008}. Best is trial 41 with value: -0.785917.\n"
     ]
    },
    {
     "name": "stderr",
     "output_type": "stream",
     "text": [
      "[I 2025-05-15 18:14:52,622] Trial 42 finished with value: -0.783669 and parameters: {'max_depth': 10, 'min_child_weight': 48, 'subsample': 0.3861879810614186, 'colsample_bynode': 0.5774894312916865, 'learning_rate': 0.39288727485545116}. Best is trial 41 with value: -0.785917.\n"
     ]
    },
    {
     "name": "stderr",
     "output_type": "stream",
     "text": [
      "[I 2025-05-15 18:14:53,295] Trial 43 pruned. Trial was pruned at iteration 0.\n"
     ]
    },
    {
     "name": "stderr",
     "output_type": "stream",
     "text": [
      "[I 2025-05-15 18:14:53,927] Trial 44 pruned. Trial was pruned at iteration 0.\n"
     ]
    },
    {
     "name": "stderr",
     "output_type": "stream",
     "text": [
      "[I 2025-05-15 18:15:18,943] Trial 45 pruned. Trial was pruned at iteration 66.\n"
     ]
    },
    {
     "name": "stderr",
     "output_type": "stream",
     "text": [
      "[I 2025-05-15 18:15:19,598] Trial 46 pruned. Trial was pruned at iteration 0.\n"
     ]
    },
    {
     "name": "stderr",
     "output_type": "stream",
     "text": [
      "[I 2025-05-15 18:15:20,248] Trial 47 pruned. Trial was pruned at iteration 0.\n"
     ]
    },
    {
     "name": "stderr",
     "output_type": "stream",
     "text": [
      "[I 2025-05-15 18:15:20,872] Trial 48 pruned. Trial was pruned at iteration 0.\n"
     ]
    },
    {
     "name": "stderr",
     "output_type": "stream",
     "text": [
      "[I 2025-05-15 18:15:23,937] Trial 49 pruned. Trial was pruned at iteration 5.\n"
     ]
    }
   ],
   "source": [
    "sampler = optuna.samplers.TPESampler(seed=42)\n",
    "study = optuna.create_study(direction='minimize', sampler=sampler)\n",
    "study.optimize(objective, n_trials=N_TRIALS, gc_after_trial=True)"
   ]
  },
  {
   "cell_type": "code",
   "execution_count": 20,
   "id": "bc60f320",
   "metadata": {
    "execution": {
     "iopub.execute_input": "2025-05-15T16:15:24.086796Z",
     "iopub.status.busy": "2025-05-15T16:15:24.086562Z",
     "iopub.status.idle": "2025-05-15T16:15:24.123177Z",
     "shell.execute_reply": "2025-05-15T16:15:24.122839Z"
    },
    "papermill": {
     "duration": 0.053288,
     "end_time": "2025-05-15T16:15:24.124229",
     "exception": false,
     "start_time": "2025-05-15T16:15:24.070941",
     "status": "completed"
    },
    "tags": []
   },
   "outputs": [
    {
     "data": {
      "text/plain": [
       "['/scratch_isilon/groups/singlecell/shared/projects/Inflammation-PBMCs-Atlas/03_downstream_analysis/08_gene_importance/xgboost_external_validation/xgboost_TopN_genes/results_20/study/T_CD4_NonNaive_1_4_xgboost.pkl']"
      ]
     },
     "execution_count": 20,
     "metadata": {},
     "output_type": "execute_result"
    }
   ],
   "source": [
    "out_dir = here(f'03_downstream_analysis/08_gene_importance/xgboost_external_validation/xgboost_TopN_genes/results_{N_GENES}/study')\n",
    "\n",
    "if not os.path.exists(out_dir):\n",
    "    os.makedirs(out_dir)\n",
    "    \n",
    "joblib.dump(study,os.path.join(out_dir, f'{CELL_TYPE}_{SEED}_{TEST_SPLIT_IDX}_xgboost.pkl'))"
   ]
  },
  {
   "cell_type": "code",
   "execution_count": 21,
   "id": "b472ad64",
   "metadata": {
    "execution": {
     "iopub.execute_input": "2025-05-15T16:15:24.180676Z",
     "iopub.status.busy": "2025-05-15T16:15:24.180481Z",
     "iopub.status.idle": "2025-05-15T16:15:35.432142Z",
     "shell.execute_reply": "2025-05-15T16:15:35.431707Z"
    },
    "papermill": {
     "duration": 11.268164,
     "end_time": "2025-05-15T16:15:35.433347",
     "exception": false,
     "start_time": "2025-05-15T16:15:24.165183",
     "status": "completed"
    },
    "tags": []
   },
   "outputs": [
    {
     "data": {
      "text/html": [
       "<style>#sk-container-id-1 {\n",
       "  /* Definition of color scheme common for light and dark mode */\n",
       "  --sklearn-color-text: black;\n",
       "  --sklearn-color-line: gray;\n",
       "  /* Definition of color scheme for unfitted estimators */\n",
       "  --sklearn-color-unfitted-level-0: #fff5e6;\n",
       "  --sklearn-color-unfitted-level-1: #f6e4d2;\n",
       "  --sklearn-color-unfitted-level-2: #ffe0b3;\n",
       "  --sklearn-color-unfitted-level-3: chocolate;\n",
       "  /* Definition of color scheme for fitted estimators */\n",
       "  --sklearn-color-fitted-level-0: #f0f8ff;\n",
       "  --sklearn-color-fitted-level-1: #d4ebff;\n",
       "  --sklearn-color-fitted-level-2: #b3dbfd;\n",
       "  --sklearn-color-fitted-level-3: cornflowerblue;\n",
       "\n",
       "  /* Specific color for light theme */\n",
       "  --sklearn-color-text-on-default-background: var(--sg-text-color, var(--theme-code-foreground, var(--jp-content-font-color1, black)));\n",
       "  --sklearn-color-background: var(--sg-background-color, var(--theme-background, var(--jp-layout-color0, white)));\n",
       "  --sklearn-color-border-box: var(--sg-text-color, var(--theme-code-foreground, var(--jp-content-font-color1, black)));\n",
       "  --sklearn-color-icon: #696969;\n",
       "\n",
       "  @media (prefers-color-scheme: dark) {\n",
       "    /* Redefinition of color scheme for dark theme */\n",
       "    --sklearn-color-text-on-default-background: var(--sg-text-color, var(--theme-code-foreground, var(--jp-content-font-color1, white)));\n",
       "    --sklearn-color-background: var(--sg-background-color, var(--theme-background, var(--jp-layout-color0, #111)));\n",
       "    --sklearn-color-border-box: var(--sg-text-color, var(--theme-code-foreground, var(--jp-content-font-color1, white)));\n",
       "    --sklearn-color-icon: #878787;\n",
       "  }\n",
       "}\n",
       "\n",
       "#sk-container-id-1 {\n",
       "  color: var(--sklearn-color-text);\n",
       "}\n",
       "\n",
       "#sk-container-id-1 pre {\n",
       "  padding: 0;\n",
       "}\n",
       "\n",
       "#sk-container-id-1 input.sk-hidden--visually {\n",
       "  border: 0;\n",
       "  clip: rect(1px 1px 1px 1px);\n",
       "  clip: rect(1px, 1px, 1px, 1px);\n",
       "  height: 1px;\n",
       "  margin: -1px;\n",
       "  overflow: hidden;\n",
       "  padding: 0;\n",
       "  position: absolute;\n",
       "  width: 1px;\n",
       "}\n",
       "\n",
       "#sk-container-id-1 div.sk-dashed-wrapped {\n",
       "  border: 1px dashed var(--sklearn-color-line);\n",
       "  margin: 0 0.4em 0.5em 0.4em;\n",
       "  box-sizing: border-box;\n",
       "  padding-bottom: 0.4em;\n",
       "  background-color: var(--sklearn-color-background);\n",
       "}\n",
       "\n",
       "#sk-container-id-1 div.sk-container {\n",
       "  /* jupyter's `normalize.less` sets `[hidden] { display: none; }`\n",
       "     but bootstrap.min.css set `[hidden] { display: none !important; }`\n",
       "     so we also need the `!important` here to be able to override the\n",
       "     default hidden behavior on the sphinx rendered scikit-learn.org.\n",
       "     See: https://github.com/scikit-learn/scikit-learn/issues/21755 */\n",
       "  display: inline-block !important;\n",
       "  position: relative;\n",
       "}\n",
       "\n",
       "#sk-container-id-1 div.sk-text-repr-fallback {\n",
       "  display: none;\n",
       "}\n",
       "\n",
       "div.sk-parallel-item,\n",
       "div.sk-serial,\n",
       "div.sk-item {\n",
       "  /* draw centered vertical line to link estimators */\n",
       "  background-image: linear-gradient(var(--sklearn-color-text-on-default-background), var(--sklearn-color-text-on-default-background));\n",
       "  background-size: 2px 100%;\n",
       "  background-repeat: no-repeat;\n",
       "  background-position: center center;\n",
       "}\n",
       "\n",
       "/* Parallel-specific style estimator block */\n",
       "\n",
       "#sk-container-id-1 div.sk-parallel-item::after {\n",
       "  content: \"\";\n",
       "  width: 100%;\n",
       "  border-bottom: 2px solid var(--sklearn-color-text-on-default-background);\n",
       "  flex-grow: 1;\n",
       "}\n",
       "\n",
       "#sk-container-id-1 div.sk-parallel {\n",
       "  display: flex;\n",
       "  align-items: stretch;\n",
       "  justify-content: center;\n",
       "  background-color: var(--sklearn-color-background);\n",
       "  position: relative;\n",
       "}\n",
       "\n",
       "#sk-container-id-1 div.sk-parallel-item {\n",
       "  display: flex;\n",
       "  flex-direction: column;\n",
       "}\n",
       "\n",
       "#sk-container-id-1 div.sk-parallel-item:first-child::after {\n",
       "  align-self: flex-end;\n",
       "  width: 50%;\n",
       "}\n",
       "\n",
       "#sk-container-id-1 div.sk-parallel-item:last-child::after {\n",
       "  align-self: flex-start;\n",
       "  width: 50%;\n",
       "}\n",
       "\n",
       "#sk-container-id-1 div.sk-parallel-item:only-child::after {\n",
       "  width: 0;\n",
       "}\n",
       "\n",
       "/* Serial-specific style estimator block */\n",
       "\n",
       "#sk-container-id-1 div.sk-serial {\n",
       "  display: flex;\n",
       "  flex-direction: column;\n",
       "  align-items: center;\n",
       "  background-color: var(--sklearn-color-background);\n",
       "  padding-right: 1em;\n",
       "  padding-left: 1em;\n",
       "}\n",
       "\n",
       "\n",
       "/* Toggleable style: style used for estimator/Pipeline/ColumnTransformer box that is\n",
       "clickable and can be expanded/collapsed.\n",
       "- Pipeline and ColumnTransformer use this feature and define the default style\n",
       "- Estimators will overwrite some part of the style using the `sk-estimator` class\n",
       "*/\n",
       "\n",
       "/* Pipeline and ColumnTransformer style (default) */\n",
       "\n",
       "#sk-container-id-1 div.sk-toggleable {\n",
       "  /* Default theme specific background. It is overwritten whether we have a\n",
       "  specific estimator or a Pipeline/ColumnTransformer */\n",
       "  background-color: var(--sklearn-color-background);\n",
       "}\n",
       "\n",
       "/* Toggleable label */\n",
       "#sk-container-id-1 label.sk-toggleable__label {\n",
       "  cursor: pointer;\n",
       "  display: block;\n",
       "  width: 100%;\n",
       "  margin-bottom: 0;\n",
       "  padding: 0.5em;\n",
       "  box-sizing: border-box;\n",
       "  text-align: center;\n",
       "}\n",
       "\n",
       "#sk-container-id-1 label.sk-toggleable__label-arrow:before {\n",
       "  /* Arrow on the left of the label */\n",
       "  content: \"▸\";\n",
       "  float: left;\n",
       "  margin-right: 0.25em;\n",
       "  color: var(--sklearn-color-icon);\n",
       "}\n",
       "\n",
       "#sk-container-id-1 label.sk-toggleable__label-arrow:hover:before {\n",
       "  color: var(--sklearn-color-text);\n",
       "}\n",
       "\n",
       "/* Toggleable content - dropdown */\n",
       "\n",
       "#sk-container-id-1 div.sk-toggleable__content {\n",
       "  max-height: 0;\n",
       "  max-width: 0;\n",
       "  overflow: hidden;\n",
       "  text-align: left;\n",
       "  /* unfitted */\n",
       "  background-color: var(--sklearn-color-unfitted-level-0);\n",
       "}\n",
       "\n",
       "#sk-container-id-1 div.sk-toggleable__content.fitted {\n",
       "  /* fitted */\n",
       "  background-color: var(--sklearn-color-fitted-level-0);\n",
       "}\n",
       "\n",
       "#sk-container-id-1 div.sk-toggleable__content pre {\n",
       "  margin: 0.2em;\n",
       "  border-radius: 0.25em;\n",
       "  color: var(--sklearn-color-text);\n",
       "  /* unfitted */\n",
       "  background-color: var(--sklearn-color-unfitted-level-0);\n",
       "}\n",
       "\n",
       "#sk-container-id-1 div.sk-toggleable__content.fitted pre {\n",
       "  /* unfitted */\n",
       "  background-color: var(--sklearn-color-fitted-level-0);\n",
       "}\n",
       "\n",
       "#sk-container-id-1 input.sk-toggleable__control:checked~div.sk-toggleable__content {\n",
       "  /* Expand drop-down */\n",
       "  max-height: 200px;\n",
       "  max-width: 100%;\n",
       "  overflow: auto;\n",
       "}\n",
       "\n",
       "#sk-container-id-1 input.sk-toggleable__control:checked~label.sk-toggleable__label-arrow:before {\n",
       "  content: \"▾\";\n",
       "}\n",
       "\n",
       "/* Pipeline/ColumnTransformer-specific style */\n",
       "\n",
       "#sk-container-id-1 div.sk-label input.sk-toggleable__control:checked~label.sk-toggleable__label {\n",
       "  color: var(--sklearn-color-text);\n",
       "  background-color: var(--sklearn-color-unfitted-level-2);\n",
       "}\n",
       "\n",
       "#sk-container-id-1 div.sk-label.fitted input.sk-toggleable__control:checked~label.sk-toggleable__label {\n",
       "  background-color: var(--sklearn-color-fitted-level-2);\n",
       "}\n",
       "\n",
       "/* Estimator-specific style */\n",
       "\n",
       "/* Colorize estimator box */\n",
       "#sk-container-id-1 div.sk-estimator input.sk-toggleable__control:checked~label.sk-toggleable__label {\n",
       "  /* unfitted */\n",
       "  background-color: var(--sklearn-color-unfitted-level-2);\n",
       "}\n",
       "\n",
       "#sk-container-id-1 div.sk-estimator.fitted input.sk-toggleable__control:checked~label.sk-toggleable__label {\n",
       "  /* fitted */\n",
       "  background-color: var(--sklearn-color-fitted-level-2);\n",
       "}\n",
       "\n",
       "#sk-container-id-1 div.sk-label label.sk-toggleable__label,\n",
       "#sk-container-id-1 div.sk-label label {\n",
       "  /* The background is the default theme color */\n",
       "  color: var(--sklearn-color-text-on-default-background);\n",
       "}\n",
       "\n",
       "/* On hover, darken the color of the background */\n",
       "#sk-container-id-1 div.sk-label:hover label.sk-toggleable__label {\n",
       "  color: var(--sklearn-color-text);\n",
       "  background-color: var(--sklearn-color-unfitted-level-2);\n",
       "}\n",
       "\n",
       "/* Label box, darken color on hover, fitted */\n",
       "#sk-container-id-1 div.sk-label.fitted:hover label.sk-toggleable__label.fitted {\n",
       "  color: var(--sklearn-color-text);\n",
       "  background-color: var(--sklearn-color-fitted-level-2);\n",
       "}\n",
       "\n",
       "/* Estimator label */\n",
       "\n",
       "#sk-container-id-1 div.sk-label label {\n",
       "  font-family: monospace;\n",
       "  font-weight: bold;\n",
       "  display: inline-block;\n",
       "  line-height: 1.2em;\n",
       "}\n",
       "\n",
       "#sk-container-id-1 div.sk-label-container {\n",
       "  text-align: center;\n",
       "}\n",
       "\n",
       "/* Estimator-specific */\n",
       "#sk-container-id-1 div.sk-estimator {\n",
       "  font-family: monospace;\n",
       "  border: 1px dotted var(--sklearn-color-border-box);\n",
       "  border-radius: 0.25em;\n",
       "  box-sizing: border-box;\n",
       "  margin-bottom: 0.5em;\n",
       "  /* unfitted */\n",
       "  background-color: var(--sklearn-color-unfitted-level-0);\n",
       "}\n",
       "\n",
       "#sk-container-id-1 div.sk-estimator.fitted {\n",
       "  /* fitted */\n",
       "  background-color: var(--sklearn-color-fitted-level-0);\n",
       "}\n",
       "\n",
       "/* on hover */\n",
       "#sk-container-id-1 div.sk-estimator:hover {\n",
       "  /* unfitted */\n",
       "  background-color: var(--sklearn-color-unfitted-level-2);\n",
       "}\n",
       "\n",
       "#sk-container-id-1 div.sk-estimator.fitted:hover {\n",
       "  /* fitted */\n",
       "  background-color: var(--sklearn-color-fitted-level-2);\n",
       "}\n",
       "\n",
       "/* Specification for estimator info (e.g. \"i\" and \"?\") */\n",
       "\n",
       "/* Common style for \"i\" and \"?\" */\n",
       "\n",
       ".sk-estimator-doc-link,\n",
       "a:link.sk-estimator-doc-link,\n",
       "a:visited.sk-estimator-doc-link {\n",
       "  float: right;\n",
       "  font-size: smaller;\n",
       "  line-height: 1em;\n",
       "  font-family: monospace;\n",
       "  background-color: var(--sklearn-color-background);\n",
       "  border-radius: 1em;\n",
       "  height: 1em;\n",
       "  width: 1em;\n",
       "  text-decoration: none !important;\n",
       "  margin-left: 1ex;\n",
       "  /* unfitted */\n",
       "  border: var(--sklearn-color-unfitted-level-1) 1pt solid;\n",
       "  color: var(--sklearn-color-unfitted-level-1);\n",
       "}\n",
       "\n",
       ".sk-estimator-doc-link.fitted,\n",
       "a:link.sk-estimator-doc-link.fitted,\n",
       "a:visited.sk-estimator-doc-link.fitted {\n",
       "  /* fitted */\n",
       "  border: var(--sklearn-color-fitted-level-1) 1pt solid;\n",
       "  color: var(--sklearn-color-fitted-level-1);\n",
       "}\n",
       "\n",
       "/* On hover */\n",
       "div.sk-estimator:hover .sk-estimator-doc-link:hover,\n",
       ".sk-estimator-doc-link:hover,\n",
       "div.sk-label-container:hover .sk-estimator-doc-link:hover,\n",
       ".sk-estimator-doc-link:hover {\n",
       "  /* unfitted */\n",
       "  background-color: var(--sklearn-color-unfitted-level-3);\n",
       "  color: var(--sklearn-color-background);\n",
       "  text-decoration: none;\n",
       "}\n",
       "\n",
       "div.sk-estimator.fitted:hover .sk-estimator-doc-link.fitted:hover,\n",
       ".sk-estimator-doc-link.fitted:hover,\n",
       "div.sk-label-container:hover .sk-estimator-doc-link.fitted:hover,\n",
       ".sk-estimator-doc-link.fitted:hover {\n",
       "  /* fitted */\n",
       "  background-color: var(--sklearn-color-fitted-level-3);\n",
       "  color: var(--sklearn-color-background);\n",
       "  text-decoration: none;\n",
       "}\n",
       "\n",
       "/* Span, style for the box shown on hovering the info icon */\n",
       ".sk-estimator-doc-link span {\n",
       "  display: none;\n",
       "  z-index: 9999;\n",
       "  position: relative;\n",
       "  font-weight: normal;\n",
       "  right: .2ex;\n",
       "  padding: .5ex;\n",
       "  margin: .5ex;\n",
       "  width: min-content;\n",
       "  min-width: 20ex;\n",
       "  max-width: 50ex;\n",
       "  color: var(--sklearn-color-text);\n",
       "  box-shadow: 2pt 2pt 4pt #999;\n",
       "  /* unfitted */\n",
       "  background: var(--sklearn-color-unfitted-level-0);\n",
       "  border: .5pt solid var(--sklearn-color-unfitted-level-3);\n",
       "}\n",
       "\n",
       ".sk-estimator-doc-link.fitted span {\n",
       "  /* fitted */\n",
       "  background: var(--sklearn-color-fitted-level-0);\n",
       "  border: var(--sklearn-color-fitted-level-3);\n",
       "}\n",
       "\n",
       ".sk-estimator-doc-link:hover span {\n",
       "  display: block;\n",
       "}\n",
       "\n",
       "/* \"?\"-specific style due to the `<a>` HTML tag */\n",
       "\n",
       "#sk-container-id-1 a.estimator_doc_link {\n",
       "  float: right;\n",
       "  font-size: 1rem;\n",
       "  line-height: 1em;\n",
       "  font-family: monospace;\n",
       "  background-color: var(--sklearn-color-background);\n",
       "  border-radius: 1rem;\n",
       "  height: 1rem;\n",
       "  width: 1rem;\n",
       "  text-decoration: none;\n",
       "  /* unfitted */\n",
       "  color: var(--sklearn-color-unfitted-level-1);\n",
       "  border: var(--sklearn-color-unfitted-level-1) 1pt solid;\n",
       "}\n",
       "\n",
       "#sk-container-id-1 a.estimator_doc_link.fitted {\n",
       "  /* fitted */\n",
       "  border: var(--sklearn-color-fitted-level-1) 1pt solid;\n",
       "  color: var(--sklearn-color-fitted-level-1);\n",
       "}\n",
       "\n",
       "/* On hover */\n",
       "#sk-container-id-1 a.estimator_doc_link:hover {\n",
       "  /* unfitted */\n",
       "  background-color: var(--sklearn-color-unfitted-level-3);\n",
       "  color: var(--sklearn-color-background);\n",
       "  text-decoration: none;\n",
       "}\n",
       "\n",
       "#sk-container-id-1 a.estimator_doc_link.fitted:hover {\n",
       "  /* fitted */\n",
       "  background-color: var(--sklearn-color-fitted-level-3);\n",
       "}\n",
       "</style><div id=\"sk-container-id-1\" class=\"sk-top-container\"><div class=\"sk-text-repr-fallback\"><pre>XGBClassifier(base_score=None, booster=None, callbacks=None,\n",
       "              colsample_bylevel=None, colsample_bynode=0.5789861847323793,\n",
       "              colsample_bytree=None, device=None, early_stopping_rounds=None,\n",
       "              enable_categorical=False,\n",
       "              eval_metric=&lt;function custom_f1_score at 0x7f3a344c4860&gt;,\n",
       "              feature_types=None, gamma=None, grow_policy=None,\n",
       "              importance_type=None, interaction_constraints=None,\n",
       "              learning_rate=0.3224559195421008, max_bin=None,\n",
       "              max_cat_threshold=None, max_cat_to_onehot=None,\n",
       "              max_delta_step=None, max_depth=13, max_leaves=None,\n",
       "              min_child_weight=51, missing=nan, monotone_constraints=None,\n",
       "              multi_strategy=None, n_estimators=90, n_jobs=None,\n",
       "              num_parallel_tree=None, objective=&#x27;multi:softprob&#x27;, ...)</pre><b>In a Jupyter environment, please rerun this cell to show the HTML representation or trust the notebook. <br />On GitHub, the HTML representation is unable to render, please try loading this page with nbviewer.org.</b></div><div class=\"sk-container\" hidden><div class=\"sk-item\"><div class=\"sk-estimator fitted sk-toggleable\"><input class=\"sk-toggleable__control sk-hidden--visually\" id=\"sk-estimator-id-1\" type=\"checkbox\" checked><label for=\"sk-estimator-id-1\" class=\"sk-toggleable__label fitted sk-toggleable__label-arrow fitted\">&nbsp;XGBClassifier<span class=\"sk-estimator-doc-link fitted\">i<span>Fitted</span></span></label><div class=\"sk-toggleable__content fitted\"><pre>XGBClassifier(base_score=None, booster=None, callbacks=None,\n",
       "              colsample_bylevel=None, colsample_bynode=0.5789861847323793,\n",
       "              colsample_bytree=None, device=None, early_stopping_rounds=None,\n",
       "              enable_categorical=False,\n",
       "              eval_metric=&lt;function custom_f1_score at 0x7f3a344c4860&gt;,\n",
       "              feature_types=None, gamma=None, grow_policy=None,\n",
       "              importance_type=None, interaction_constraints=None,\n",
       "              learning_rate=0.3224559195421008, max_bin=None,\n",
       "              max_cat_threshold=None, max_cat_to_onehot=None,\n",
       "              max_delta_step=None, max_depth=13, max_leaves=None,\n",
       "              min_child_weight=51, missing=nan, monotone_constraints=None,\n",
       "              multi_strategy=None, n_estimators=90, n_jobs=None,\n",
       "              num_parallel_tree=None, objective=&#x27;multi:softprob&#x27;, ...)</pre></div> </div></div></div></div>"
      ],
      "text/plain": [
       "XGBClassifier(base_score=None, booster=None, callbacks=None,\n",
       "              colsample_bylevel=None, colsample_bynode=0.5789861847323793,\n",
       "              colsample_bytree=None, device=None, early_stopping_rounds=None,\n",
       "              enable_categorical=False,\n",
       "              eval_metric=<function custom_f1_score at 0x7f3a344c4860>,\n",
       "              feature_types=None, gamma=None, grow_policy=None,\n",
       "              importance_type=None, interaction_constraints=None,\n",
       "              learning_rate=0.3224559195421008, max_bin=None,\n",
       "              max_cat_threshold=None, max_cat_to_onehot=None,\n",
       "              max_delta_step=None, max_depth=13, max_leaves=None,\n",
       "              min_child_weight=51, missing=nan, monotone_constraints=None,\n",
       "              multi_strategy=None, n_estimators=90, n_jobs=None,\n",
       "              num_parallel_tree=None, objective='multi:softprob', ...)"
      ]
     },
     "execution_count": 21,
     "metadata": {},
     "output_type": "execute_result"
    }
   ],
   "source": [
    "n_estimators = int(study.best_trial.user_attrs['best_iteration']*1.2)\n",
    "xgb = xgboost.XGBClassifier(\n",
    "        eval_metric=eval_metric,\n",
    "        n_estimators=n_estimators,\n",
    "        **study.best_trial.params\n",
    "    )\n",
    "xgb.fit(\n",
    "    ssp.vstack((X_train, X_val)), \n",
    "    np.concatenate((y_train_enc, y_val_enc)),\n",
    "    verbose=1,\n",
    ")"
   ]
  },
  {
   "cell_type": "code",
   "execution_count": 22,
   "id": "3cde6ea6",
   "metadata": {
    "execution": {
     "iopub.execute_input": "2025-05-15T16:15:35.476133Z",
     "iopub.status.busy": "2025-05-15T16:15:35.475884Z",
     "iopub.status.idle": "2025-05-15T16:15:35.538067Z",
     "shell.execute_reply": "2025-05-15T16:15:35.537671Z"
    },
    "papermill": {
     "duration": 0.088888,
     "end_time": "2025-05-15T16:15:35.539067",
     "exception": false,
     "start_time": "2025-05-15T16:15:35.450179",
     "status": "completed"
    },
    "tags": []
   },
   "outputs": [
    {
     "data": {
      "text/plain": [
       "['/scratch_isilon/groups/singlecell/shared/projects/Inflammation-PBMCs-Atlas/03_downstream_analysis/08_gene_importance/xgboost_external_validation/xgboost_TopN_genes/results_20/best_model/T_CD4_NonNaive_1_4_xgb.json']"
      ]
     },
     "execution_count": 22,
     "metadata": {},
     "output_type": "execute_result"
    }
   ],
   "source": [
    "out_dir = here(f'03_downstream_analysis/08_gene_importance/xgboost_external_validation/xgboost_TopN_genes/results_{N_GENES}/best_model')\n",
    "\n",
    "if not os.path.exists(out_dir):\n",
    "    os.makedirs(out_dir)\n",
    "    \n",
    "joblib.dump(xgb, os.path.join(out_dir, f'{CELL_TYPE}_{SEED}_{TEST_SPLIT_IDX}_xgb.json'))"
   ]
  },
  {
   "cell_type": "code",
   "execution_count": 23,
   "id": "4b1f2035",
   "metadata": {
    "execution": {
     "iopub.execute_input": "2025-05-15T16:15:35.564766Z",
     "iopub.status.busy": "2025-05-15T16:15:35.564552Z",
     "iopub.status.idle": "2025-05-15T16:15:36.062116Z",
     "shell.execute_reply": "2025-05-15T16:15:36.061652Z"
    },
    "papermill": {
     "duration": 0.512557,
     "end_time": "2025-05-15T16:15:36.063754",
     "exception": false,
     "start_time": "2025-05-15T16:15:35.551197",
     "status": "completed"
    },
    "tags": []
   },
   "outputs": [],
   "source": [
    "df_pred_test = pd.DataFrame(dict(\n",
    "    cell_id=train_adata.obs.iloc[test_idxs].index.values,\n",
    "    y_true=y_test, \n",
    "    y_true_code=y_test_enc, \n",
    "    y_pred=xgb.predict(X_test))).set_index('cell_id')"
   ]
  },
  {
   "cell_type": "code",
   "execution_count": 24,
   "id": "0a19d94c",
   "metadata": {
    "execution": {
     "iopub.execute_input": "2025-05-15T16:15:36.091358Z",
     "iopub.status.busy": "2025-05-15T16:15:36.090669Z",
     "iopub.status.idle": "2025-05-15T16:15:36.240699Z",
     "shell.execute_reply": "2025-05-15T16:15:36.240095Z"
    },
    "papermill": {
     "duration": 0.164959,
     "end_time": "2025-05-15T16:15:36.242076",
     "exception": false,
     "start_time": "2025-05-15T16:15:36.077117",
     "status": "completed"
    },
    "tags": []
   },
   "outputs": [],
   "source": [
    "out_dir = here(f'03_downstream_analysis/08_gene_importance/xgboost_external_validation/xgboost_TopN_genes/results_{N_GENES}/predictions')\n",
    "\n",
    "if not os.path.exists(out_dir):\n",
    "    os.makedirs(out_dir)\n",
    "    \n",
    "df_pred_test.to_csv(os.path.join(out_dir, f'{CELL_TYPE}_{SEED}_{TEST_SPLIT_IDX}_pred_test.zip'))"
   ]
  },
  {
   "cell_type": "code",
   "execution_count": 25,
   "id": "9566421f",
   "metadata": {
    "execution": {
     "iopub.execute_input": "2025-05-15T16:15:36.266701Z",
     "iopub.status.busy": "2025-05-15T16:15:36.266289Z",
     "iopub.status.idle": "2025-05-15T16:15:36.281377Z",
     "shell.execute_reply": "2025-05-15T16:15:36.280971Z"
    },
    "papermill": {
     "duration": 0.029314,
     "end_time": "2025-05-15T16:15:36.282282",
     "exception": false,
     "start_time": "2025-05-15T16:15:36.252968",
     "status": "completed"
    },
    "tags": []
   },
   "outputs": [],
   "source": [
    "metrics_dict = dict(\n",
    "    BAS=balanced_accuracy_score(y_true=df_pred_test.y_true_code, y_pred=df_pred_test.y_pred), WF1=f1_score(y_true=df_pred_test.y_true_code, y_pred=df_pred_test.y_pred,average='weighted'))"
   ]
  },
  {
   "cell_type": "code",
   "execution_count": 26,
   "id": "5be15248",
   "metadata": {
    "execution": {
     "iopub.execute_input": "2025-05-15T16:15:36.306061Z",
     "iopub.status.busy": "2025-05-15T16:15:36.305521Z",
     "iopub.status.idle": "2025-05-15T16:15:36.308885Z",
     "shell.execute_reply": "2025-05-15T16:15:36.308551Z"
    },
    "papermill": {
     "duration": 0.015947,
     "end_time": "2025-05-15T16:15:36.309827",
     "exception": false,
     "start_time": "2025-05-15T16:15:36.293880",
     "status": "completed"
    },
    "tags": []
   },
   "outputs": [
    {
     "data": {
      "text/plain": [
       "{'BAS': 0.6437230129155348, 'WF1': 0.8145045072006614}"
      ]
     },
     "execution_count": 26,
     "metadata": {},
     "output_type": "execute_result"
    }
   ],
   "source": [
    "metrics_dict"
   ]
  },
  {
   "cell_type": "code",
   "execution_count": 27,
   "id": "988a9609",
   "metadata": {
    "execution": {
     "iopub.execute_input": "2025-05-15T16:15:36.332461Z",
     "iopub.status.busy": "2025-05-15T16:15:36.332048Z",
     "iopub.status.idle": "2025-05-15T16:15:36.342715Z",
     "shell.execute_reply": "2025-05-15T16:15:36.342388Z"
    },
    "papermill": {
     "duration": 0.023479,
     "end_time": "2025-05-15T16:15:36.343888",
     "exception": false,
     "start_time": "2025-05-15T16:15:36.320409",
     "status": "completed"
    },
    "tags": []
   },
   "outputs": [
    {
     "data": {
      "text/html": [
       "<div>\n",
       "<style scoped>\n",
       "    .dataframe tbody tr th:only-of-type {\n",
       "        vertical-align: middle;\n",
       "    }\n",
       "\n",
       "    .dataframe tbody tr th {\n",
       "        vertical-align: top;\n",
       "    }\n",
       "\n",
       "    .dataframe thead th {\n",
       "        text-align: right;\n",
       "    }\n",
       "</style>\n",
       "<table border=\"1\" class=\"dataframe\">\n",
       "  <thead>\n",
       "    <tr style=\"text-align: right;\">\n",
       "      <th></th>\n",
       "      <th>BAS</th>\n",
       "      <th>WF1</th>\n",
       "      <th>split_idx</th>\n",
       "      <th>gene_set_seed</th>\n",
       "      <th>cell_type</th>\n",
       "    </tr>\n",
       "  </thead>\n",
       "  <tbody>\n",
       "    <tr>\n",
       "      <th>0</th>\n",
       "      <td>0.643723</td>\n",
       "      <td>0.814505</td>\n",
       "      <td>4</td>\n",
       "      <td>1</td>\n",
       "      <td>T_CD4_NonNaive</td>\n",
       "    </tr>\n",
       "  </tbody>\n",
       "</table>\n",
       "</div>"
      ],
      "text/plain": [
       "        BAS       WF1  split_idx  gene_set_seed       cell_type\n",
       "0  0.643723  0.814505          4              1  T_CD4_NonNaive"
      ]
     },
     "execution_count": 27,
     "metadata": {},
     "output_type": "execute_result"
    }
   ],
   "source": [
    "metrics_df = pd.DataFrame.from_dict([metrics_dict]).assign(split_idx=TEST_SPLIT_IDX, gene_set_seed=SEED, cell_type=CELL_TYPE)\n",
    "metrics_df"
   ]
  },
  {
   "cell_type": "code",
   "execution_count": 28,
   "id": "e02c38e1",
   "metadata": {
    "execution": {
     "iopub.execute_input": "2025-05-15T16:15:36.376675Z",
     "iopub.status.busy": "2025-05-15T16:15:36.376172Z",
     "iopub.status.idle": "2025-05-15T16:15:36.386131Z",
     "shell.execute_reply": "2025-05-15T16:15:36.385727Z"
    },
    "papermill": {
     "duration": 0.031646,
     "end_time": "2025-05-15T16:15:36.387465",
     "exception": false,
     "start_time": "2025-05-15T16:15:36.355819",
     "status": "completed"
    },
    "tags": []
   },
   "outputs": [],
   "source": [
    "out_dir = here(f'03_downstream_analysis/08_gene_importance/xgboost_external_validation/xgboost_TopN_genes/results_{N_GENES}/metrics')\n",
    "\n",
    "if not os.path.exists(out_dir):\n",
    "    os.makedirs(out_dir)\n",
    "    \n",
    "metrics_df.to_csv(os.path.join(out_dir, f'{CELL_TYPE}_{SEED}_{TEST_SPLIT_IDX}_metrics.zip'))"
   ]
  }
 ],
 "metadata": {
  "kernelspec": {
   "display_name": "Python 3 (ipykernel)",
   "language": "python",
   "name": "python3"
  },
  "language_info": {
   "codemirror_mode": {
    "name": "ipython",
    "version": 3
   },
   "file_extension": ".py",
   "mimetype": "text/x-python",
   "name": "python",
   "nbconvert_exporter": "python",
   "pygments_lexer": "ipython3",
   "version": "3.12.5"
  },
  "papermill": {
   "default_parameters": {},
   "duration": 807.040201,
   "end_time": "2025-05-15T16:15:37.115579",
   "environment_variables": {},
   "exception": null,
   "input_path": "02_xgboost_fitting_external_20genes.ipynb",
   "output_path": "results_20/executed_notebooks/xgboost_fitting_external_CT_T_CD4_NonNaive_GS_1_seed4.ipynb",
   "parameters": {
    "CELL_TYPE": "T_CD4_NonNaive",
    "SEED": 1,
    "TEST_SPLIT_IDX": 4
   },
   "start_time": "2025-05-15T16:02:10.075378",
   "version": "2.6.0"
  }
 },
 "nbformat": 4,
 "nbformat_minor": 5
}