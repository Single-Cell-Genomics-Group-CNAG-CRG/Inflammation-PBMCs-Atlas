{
 "cells": [
  {
   "cell_type": "code",
   "execution_count": 1,
   "id": "bba0fe5d",
   "metadata": {
    "editable": true,
    "execution": {
     "iopub.execute_input": "2025-05-14T16:10:34.527034Z",
     "iopub.status.busy": "2025-05-14T16:10:34.526760Z",
     "iopub.status.idle": "2025-05-14T16:10:34.529524Z",
     "shell.execute_reply": "2025-05-14T16:10:34.529211Z"
    },
    "papermill": {
     "duration": 0.011341,
     "end_time": "2025-05-14T16:10:34.530419",
     "exception": false,
     "start_time": "2025-05-14T16:10:34.519078",
     "status": "completed"
    },
    "slideshow": {
     "slide_type": ""
    },
    "tags": [
     "parameters"
    ]
   },
   "outputs": [],
   "source": [
    "CELL_TYPE = 'pDC'\n",
    "N_GENES: int = 20\n",
    "SEED = 'shap_studyID' #'disease_NOstudy' 'study_NOdisease' or 'int' or 'shap_studyID'\n",
    "TEST_SPLIT_IDX: int = 1 #[0,4]"
   ]
  },
  {
   "cell_type": "code",
   "execution_count": 2,
   "id": "357ade73",
   "metadata": {
    "execution": {
     "iopub.execute_input": "2025-05-14T16:10:34.543177Z",
     "iopub.status.busy": "2025-05-14T16:10:34.542771Z",
     "iopub.status.idle": "2025-05-14T16:10:34.544917Z",
     "shell.execute_reply": "2025-05-14T16:10:34.544625Z"
    },
    "papermill": {
     "duration": 0.009384,
     "end_time": "2025-05-14T16:10:34.545778",
     "exception": false,
     "start_time": "2025-05-14T16:10:34.536394",
     "status": "completed"
    },
    "tags": [
     "injected-parameters"
    ]
   },
   "outputs": [],
   "source": [
    "# Parameters\n",
    "CELL_TYPE = \"pDC\"\n",
    "SEED = \"shap_disease_NOstudy\"\n",
    "TEST_SPLIT_IDX = 3\n"
   ]
  },
  {
   "cell_type": "code",
   "execution_count": 3,
   "id": "a7ce3e34",
   "metadata": {
    "execution": {
     "iopub.execute_input": "2025-05-14T16:10:34.557672Z",
     "iopub.status.busy": "2025-05-14T16:10:34.557214Z",
     "iopub.status.idle": "2025-05-14T16:10:34.559368Z",
     "shell.execute_reply": "2025-05-14T16:10:34.559067Z"
    },
    "papermill": {
     "duration": 0.008721,
     "end_time": "2025-05-14T16:10:34.560153",
     "exception": false,
     "start_time": "2025-05-14T16:10:34.551432",
     "status": "completed"
    },
    "tags": []
   },
   "outputs": [],
   "source": [
    "N_SPLITS: int = 5\n",
    "N_TRIALS: int = 50"
   ]
  },
  {
   "cell_type": "code",
   "execution_count": 4,
   "id": "b89eb261",
   "metadata": {
    "execution": {
     "iopub.execute_input": "2025-05-14T16:10:34.573945Z",
     "iopub.status.busy": "2025-05-14T16:10:34.573587Z",
     "iopub.status.idle": "2025-05-14T16:10:36.198320Z",
     "shell.execute_reply": "2025-05-14T16:10:36.197819Z"
    },
    "papermill": {
     "duration": 1.632955,
     "end_time": "2025-05-14T16:10:36.199690",
     "exception": false,
     "start_time": "2025-05-14T16:10:34.566735",
     "status": "completed"
    },
    "tags": []
   },
   "outputs": [],
   "source": [
    "import os\n",
    "import sys\n",
    "from pyprojroot.here import here\n",
    "import pandas as pd\n",
    "import anndata as ad\n",
    "import numpy as np\n",
    "import math\n",
    "from sklearn.model_selection import StratifiedGroupKFold\n",
    "from sklearn.preprocessing import LabelEncoder\n",
    "from sklearn.metrics import f1_score\n",
    "import matplotlib.pyplot as plt\n",
    "import seaborn as sns\n",
    "from itertools import product\n",
    "from sklearn.metrics import balanced_accuracy_score, f1_score\n",
    "import optuna\n",
    "\n",
    "import joblib\n",
    "import pickle\n",
    "import datetime\n",
    "\n",
    "import collections\n",
    "\n",
    "import xgboost\n",
    "from sklearn.preprocessing import LabelEncoder\n",
    "\n",
    "import scipy.sparse as ssp\n",
    "import joblib\n",
    "\n",
    "from dotenv import load_dotenv"
   ]
  },
  {
   "cell_type": "code",
   "execution_count": 5,
   "id": "9b246fc6",
   "metadata": {
    "execution": {
     "iopub.execute_input": "2025-05-14T16:10:36.213583Z",
     "iopub.status.busy": "2025-05-14T16:10:36.213282Z",
     "iopub.status.idle": "2025-05-14T16:10:36.218883Z",
     "shell.execute_reply": "2025-05-14T16:10:36.218580Z"
    },
    "papermill": {
     "duration": 0.012631,
     "end_time": "2025-05-14T16:10:36.219726",
     "exception": false,
     "start_time": "2025-05-14T16:10:36.207095",
     "status": "completed"
    },
    "tags": []
   },
   "outputs": [
    {
     "data": {
      "text/plain": [
       "True"
      ]
     },
     "execution_count": 5,
     "metadata": {},
     "output_type": "execute_result"
    }
   ],
   "source": [
    "load_dotenv()"
   ]
  },
  {
   "cell_type": "markdown",
   "id": "608989ff",
   "metadata": {
    "papermill": {
     "duration": 0.005354,
     "end_time": "2025-05-14T16:10:36.230492",
     "exception": false,
     "start_time": "2025-05-14T16:10:36.225138",
     "status": "completed"
    },
    "tags": []
   },
   "source": [
    "# LOAD DATASET"
   ]
  },
  {
   "cell_type": "code",
   "execution_count": 6,
   "id": "bf96ec74",
   "metadata": {
    "execution": {
     "iopub.execute_input": "2025-05-14T16:10:36.242127Z",
     "iopub.status.busy": "2025-05-14T16:10:36.241752Z",
     "iopub.status.idle": "2025-05-14T16:10:36.296533Z",
     "shell.execute_reply": "2025-05-14T16:10:36.296024Z"
    },
    "papermill": {
     "duration": 0.061932,
     "end_time": "2025-05-14T16:10:36.297762",
     "exception": false,
     "start_time": "2025-05-14T16:10:36.235830",
     "status": "completed"
    },
    "tags": []
   },
   "outputs": [],
   "source": [
    "train_adata = ad.read_h5ad(\n",
    "    here(f'03_downstream_analysis/08_gene_importance/xgboost_external_validation/xgboost_TopN_genes/data_cellTypes/EXTERNAL_{CELL_TYPE}.filtered.log1p.h5ad')\n",
    ")"
   ]
  },
  {
   "cell_type": "code",
   "execution_count": 7,
   "id": "e9dd4dd8",
   "metadata": {
    "execution": {
     "iopub.execute_input": "2025-05-14T16:10:36.309795Z",
     "iopub.status.busy": "2025-05-14T16:10:36.309639Z",
     "iopub.status.idle": "2025-05-14T16:10:36.319006Z",
     "shell.execute_reply": "2025-05-14T16:10:36.318588Z"
    },
    "papermill": {
     "duration": 0.016386,
     "end_time": "2025-05-14T16:10:36.319940",
     "exception": false,
     "start_time": "2025-05-14T16:10:36.303554",
     "status": "completed"
    },
    "tags": []
   },
   "outputs": [
    {
     "name": "stdout",
     "output_type": "stream",
     "text": [
      "['ENSG00000004468' 'ENSG00000006125' 'ENSG00000008394' 'ENSG00000009790'\n",
      " 'ENSG00000011600' 'ENSG00000048462' 'ENSG00000051108' 'ENSG00000051523'\n",
      " 'ENSG00000060982' 'ENSG00000065978' 'ENSG00000066136' 'ENSG00000066336'\n",
      " 'ENSG00000067182' 'ENSG00000071073' 'ENSG00000072958' 'ENSG00000076944'\n",
      " 'ENSG00000077150' 'ENSG00000077380' 'ENSG00000079616' 'ENSG00000082074'\n",
      " 'ENSG00000088986' 'ENSG00000089737' 'ENSG00000090863' 'ENSG00000099624'\n",
      " 'ENSG00000100280' 'ENSG00000100300' 'ENSG00000101336' 'ENSG00000101439'\n",
      " 'ENSG00000104763' 'ENSG00000104856' 'ENSG00000104964' 'ENSG00000105373'\n",
      " 'ENSG00000105397' 'ENSG00000107968' 'ENSG00000108561' 'ENSG00000110057'\n",
      " 'ENSG00000111275' 'ENSG00000115232' 'ENSG00000119508' 'ENSG00000120129'\n",
      " 'ENSG00000120837' 'ENSG00000123268' 'ENSG00000126353' 'ENSG00000130522'\n",
      " 'ENSG00000130830' 'ENSG00000131042' 'ENSG00000133134' 'ENSG00000133639'\n",
      " 'ENSG00000135218' 'ENSG00000135404' 'ENSG00000135821' 'ENSG00000135916'\n",
      " 'ENSG00000136156' 'ENSG00000136826' 'ENSG00000137100' 'ENSG00000137193'\n",
      " 'ENSG00000137265' 'ENSG00000137331' 'ENSG00000137965' 'ENSG00000138107'\n",
      " 'ENSG00000140105' 'ENSG00000140264' 'ENSG00000140749' 'ENSG00000142669'\n",
      " 'ENSG00000143390' 'ENSG00000143543' 'ENSG00000143546' 'ENSG00000144746'\n",
      " 'ENSG00000145220' 'ENSG00000146278' 'ENSG00000146457' 'ENSG00000152219'\n",
      " 'ENSG00000152234' 'ENSG00000160075' 'ENSG00000160213' 'ENSG00000160255'\n",
      " 'ENSG00000161203' 'ENSG00000162368' 'ENSG00000162704' 'ENSG00000162772'\n",
      " 'ENSG00000163131' 'ENSG00000163220' 'ENSG00000163563' 'ENSG00000163659'\n",
      " 'ENSG00000164104' 'ENSG00000165168' 'ENSG00000168461' 'ENSG00000168610'\n",
      " 'ENSG00000169583' 'ENSG00000170476' 'ENSG00000172349' 'ENSG00000172543'\n",
      " 'ENSG00000172936' 'ENSG00000173482' 'ENSG00000175354' 'ENSG00000175390'\n",
      " 'ENSG00000175567' 'ENSG00000177606' 'ENSG00000181029' 'ENSG00000182117'\n",
      " 'ENSG00000185291' 'ENSG00000185338' 'ENSG00000185885' 'ENSG00000186395'\n",
      " 'ENSG00000186810' 'ENSG00000187116' 'ENSG00000187608' 'ENSG00000188313'\n",
      " 'ENSG00000189067' 'ENSG00000196126' 'ENSG00000197061' 'ENSG00000197111'\n",
      " 'ENSG00000198520' 'ENSG00000204252' 'ENSG00000204525' 'ENSG00000213145'\n",
      " 'ENSG00000228474' 'ENSG00000242574' 'ENSG00000242616' 'ENSG00000258315']\n"
     ]
    }
   ],
   "source": [
    "if SEED != 'all':\n",
    "    gene_subset = np.load(here(f'03_downstream_analysis/08_gene_importance/xgboost_external_validation/shap_gene_selection/gene_subsets_{N_GENES}/{CELL_TYPE}_{SEED}.npy'), allow_pickle=True)\n",
    "    train_adata = train_adata[:,gene_subset]\n",
    "    print(gene_subset)\n",
    "elif SEED == 'all':\n",
    "    print('Using all genes')\n",
    "else:\n",
    "    raise ValueError()"
   ]
  },
  {
   "cell_type": "code",
   "execution_count": 8,
   "id": "e12433ca",
   "metadata": {
    "execution": {
     "iopub.execute_input": "2025-05-14T16:10:36.331527Z",
     "iopub.status.busy": "2025-05-14T16:10:36.331382Z",
     "iopub.status.idle": "2025-05-14T16:10:36.334505Z",
     "shell.execute_reply": "2025-05-14T16:10:36.334126Z"
    },
    "papermill": {
     "duration": 0.009831,
     "end_time": "2025-05-14T16:10:36.335383",
     "exception": false,
     "start_time": "2025-05-14T16:10:36.325552",
     "status": "completed"
    },
    "tags": []
   },
   "outputs": [
    {
     "data": {
      "text/plain": [
       "(2320, 120)"
      ]
     },
     "execution_count": 8,
     "metadata": {},
     "output_type": "execute_result"
    }
   ],
   "source": [
    "train_adata.shape"
   ]
  },
  {
   "cell_type": "code",
   "execution_count": 9,
   "id": "20c5af15",
   "metadata": {
    "execution": {
     "iopub.execute_input": "2025-05-14T16:10:36.347178Z",
     "iopub.status.busy": "2025-05-14T16:10:36.346952Z",
     "iopub.status.idle": "2025-05-14T16:10:36.350601Z",
     "shell.execute_reply": "2025-05-14T16:10:36.350242Z"
    },
    "papermill": {
     "duration": 0.01049,
     "end_time": "2025-05-14T16:10:36.351444",
     "exception": false,
     "start_time": "2025-05-14T16:10:36.340954",
     "status": "completed"
    },
    "tags": []
   },
   "outputs": [
    {
     "data": {
      "text/plain": [
       "['RA', 'healthy', 'COVID', 'HIV', 'cirrhosis', 'CD', 'SLE', 'sepsis']\n",
       "Categories (8, object): ['CD', 'COVID', 'HIV', 'RA', 'SLE', 'cirrhosis', 'healthy', 'sepsis']"
      ]
     },
     "execution_count": 9,
     "metadata": {},
     "output_type": "execute_result"
    }
   ],
   "source": [
    "train_adata.obs.disease.unique()"
   ]
  },
  {
   "cell_type": "code",
   "execution_count": 10,
   "id": "fb297ee6",
   "metadata": {
    "execution": {
     "iopub.execute_input": "2025-05-14T16:10:36.363472Z",
     "iopub.status.busy": "2025-05-14T16:10:36.363188Z",
     "iopub.status.idle": "2025-05-14T16:10:36.367354Z",
     "shell.execute_reply": "2025-05-14T16:10:36.366993Z"
    },
    "papermill": {
     "duration": 0.011087,
     "end_time": "2025-05-14T16:10:36.368202",
     "exception": false,
     "start_time": "2025-05-14T16:10:36.357115",
     "status": "completed"
    },
    "tags": []
   },
   "outputs": [
    {
     "data": {
      "text/plain": [
       "['SCGT00val_I036023_T0', 'SCGT00val_I036024_T0', 'SCGT00val_I0364_T0', 'SCGT00val_I036015_T0', 'SCGT00val_I036019_T0', ..., '10XGenomics_10XHC2_T0', '10XGenomics_10XHC3_T0', '10XGenomics_10XHC5_T0', '10XGenomics_10XHC7_T0', '10XGenomics_10XHC8_T0']\n",
       "Length: 77\n",
       "Categories (77, object): ['10XGenomics_10XHC1_T0', '10XGenomics_10XHC2_T0', '10XGenomics_10XHC3_T0', '10XGenomics_10XHC4_T0', ..., 'Savage2021_BRISL6_T0', 'Savage2021_BRISL7_T0', 'Savage2021_PIDA_T0', 'Savage2021_PIDB_T0']"
      ]
     },
     "execution_count": 10,
     "metadata": {},
     "output_type": "execute_result"
    }
   ],
   "source": [
    "train_adata.obs.sampleID.unique()"
   ]
  },
  {
   "cell_type": "code",
   "execution_count": 11,
   "id": "b4f2a0b3",
   "metadata": {
    "execution": {
     "iopub.execute_input": "2025-05-14T16:10:36.393709Z",
     "iopub.status.busy": "2025-05-14T16:10:36.393058Z",
     "iopub.status.idle": "2025-05-14T16:10:36.425842Z",
     "shell.execute_reply": "2025-05-14T16:10:36.425415Z"
    },
    "papermill": {
     "duration": 0.039656,
     "end_time": "2025-05-14T16:10:36.426746",
     "exception": false,
     "start_time": "2025-05-14T16:10:36.387090",
     "status": "completed"
    },
    "tags": []
   },
   "outputs": [
    {
     "name": "stderr",
     "output_type": "stream",
     "text": [
      "/scratch_isilon/groups/singlecell/shared/conda_env/xgboost-cpu/lib/python3.12/site-packages/sklearn/model_selection/_split.py:994: UserWarning: The least populated class in y has only 4 members, which is less than n_splits=5.\n",
      "  warnings.warn(\n"
     ]
    }
   ],
   "source": [
    "all_idxs = np.arange(train_adata.obs.shape[0])\n",
    "left_out_splits = [s[1] for s in StratifiedGroupKFold(n_splits=N_SPLITS).split(all_idxs, train_adata.obs.disease, train_adata.obs.sampleID)]"
   ]
  },
  {
   "cell_type": "code",
   "execution_count": 12,
   "id": "d55e4f65",
   "metadata": {
    "execution": {
     "iopub.execute_input": "2025-05-14T16:10:36.439239Z",
     "iopub.status.busy": "2025-05-14T16:10:36.439090Z",
     "iopub.status.idle": "2025-05-14T16:10:36.442579Z",
     "shell.execute_reply": "2025-05-14T16:10:36.442196Z"
    },
    "papermill": {
     "duration": 0.01087,
     "end_time": "2025-05-14T16:10:36.443447",
     "exception": false,
     "start_time": "2025-05-14T16:10:36.432577",
     "status": "completed"
    },
    "tags": []
   },
   "outputs": [
    {
     "data": {
      "text/plain": [
       "([0, 1, 2], 4, 3)"
      ]
     },
     "execution_count": 12,
     "metadata": {},
     "output_type": "execute_result"
    }
   ],
   "source": [
    "TRAIN_SPLIT_IDXS = [0,1,2,3,4]\n",
    "VAL_SPLIT_IDX = (TEST_SPLIT_IDX + 1) % 5\n",
    "TRAIN_SPLIT_IDXS.remove(TEST_SPLIT_IDX)\n",
    "TRAIN_SPLIT_IDXS.remove(VAL_SPLIT_IDX)\n",
    "TRAIN_SPLIT_IDXS, VAL_SPLIT_IDX, TEST_SPLIT_IDX"
   ]
  },
  {
   "cell_type": "code",
   "execution_count": 13,
   "id": "42b20c6b",
   "metadata": {
    "execution": {
     "iopub.execute_input": "2025-05-14T16:10:36.455501Z",
     "iopub.status.busy": "2025-05-14T16:10:36.455356Z",
     "iopub.status.idle": "2025-05-14T16:10:36.457789Z",
     "shell.execute_reply": "2025-05-14T16:10:36.457407Z"
    },
    "papermill": {
     "duration": 0.009637,
     "end_time": "2025-05-14T16:10:36.458602",
     "exception": false,
     "start_time": "2025-05-14T16:10:36.448965",
     "status": "completed"
    },
    "tags": []
   },
   "outputs": [],
   "source": [
    "train_idxs = np.concatenate([left_out_splits[idx] for idx in TRAIN_SPLIT_IDXS])\n",
    "val_idxs = left_out_splits[VAL_SPLIT_IDX]\n",
    "test_idxs = left_out_splits[TEST_SPLIT_IDX]"
   ]
  },
  {
   "cell_type": "markdown",
   "id": "34464096",
   "metadata": {
    "papermill": {
     "duration": 0.005805,
     "end_time": "2025-05-14T16:10:36.470151",
     "exception": false,
     "start_time": "2025-05-14T16:10:36.464346",
     "status": "completed"
    },
    "tags": []
   },
   "source": [
    "### SUBSET DATASET INTO TRAIN/TEST/VAL SPLITS"
   ]
  },
  {
   "cell_type": "code",
   "execution_count": 14,
   "id": "8a741bd7",
   "metadata": {
    "execution": {
     "iopub.execute_input": "2025-05-14T16:10:36.482357Z",
     "iopub.status.busy": "2025-05-14T16:10:36.482185Z",
     "iopub.status.idle": "2025-05-14T16:10:36.494225Z",
     "shell.execute_reply": "2025-05-14T16:10:36.493791Z"
    },
    "papermill": {
     "duration": 0.019365,
     "end_time": "2025-05-14T16:10:36.495052",
     "exception": false,
     "start_time": "2025-05-14T16:10:36.475687",
     "status": "completed"
    },
    "tags": []
   },
   "outputs": [
    {
     "data": {
      "text/plain": [
       "((1396, 120), (486, 120), (438, 120))"
      ]
     },
     "execution_count": 14,
     "metadata": {},
     "output_type": "execute_result"
    }
   ],
   "source": [
    "X_train = train_adata.X[train_idxs]\n",
    "X_test = train_adata.X[test_idxs]\n",
    "X_val = train_adata.X[val_idxs]\n",
    "X_train.shape, X_test.shape, X_val.shape"
   ]
  },
  {
   "cell_type": "code",
   "execution_count": 15,
   "id": "50688740",
   "metadata": {
    "execution": {
     "iopub.execute_input": "2025-05-14T16:10:36.508326Z",
     "iopub.status.busy": "2025-05-14T16:10:36.508153Z",
     "iopub.status.idle": "2025-05-14T16:10:36.513486Z",
     "shell.execute_reply": "2025-05-14T16:10:36.513107Z"
    },
    "papermill": {
     "duration": 0.013103,
     "end_time": "2025-05-14T16:10:36.514346",
     "exception": false,
     "start_time": "2025-05-14T16:10:36.501243",
     "status": "completed"
    },
    "tags": []
   },
   "outputs": [
    {
     "data": {
      "text/plain": [
       "((1396,), (486,), (438,))"
      ]
     },
     "execution_count": 15,
     "metadata": {},
     "output_type": "execute_result"
    }
   ],
   "source": [
    "y_train = train_adata.obs.iloc[train_idxs].disease.values.astype(str)\n",
    "y_test = train_adata.obs.iloc[test_idxs].disease.values.astype(str)\n",
    "y_val = train_adata.obs.iloc[val_idxs].disease.values.astype(str)\n",
    "y_train.shape, y_test.shape, y_val.shape"
   ]
  },
  {
   "cell_type": "code",
   "execution_count": 16,
   "id": "40b68fda",
   "metadata": {
    "execution": {
     "iopub.execute_input": "2025-05-14T16:10:36.526522Z",
     "iopub.status.busy": "2025-05-14T16:10:36.526385Z",
     "iopub.status.idle": "2025-05-14T16:10:36.529501Z",
     "shell.execute_reply": "2025-05-14T16:10:36.529109Z"
    },
    "papermill": {
     "duration": 0.010227,
     "end_time": "2025-05-14T16:10:36.530368",
     "exception": false,
     "start_time": "2025-05-14T16:10:36.520141",
     "status": "completed"
    },
    "tags": []
   },
   "outputs": [],
   "source": [
    "lenc = LabelEncoder()\n",
    "y_train_enc = lenc.fit_transform(y_train)\n",
    "y_val_enc = lenc.transform(y_val)\n",
    "y_test_enc = lenc.transform(y_test)"
   ]
  },
  {
   "cell_type": "markdown",
   "id": "94b40679",
   "metadata": {
    "papermill": {
     "duration": 0.005723,
     "end_time": "2025-05-14T16:10:36.542086",
     "exception": false,
     "start_time": "2025-05-14T16:10:36.536363",
     "status": "completed"
    },
    "tags": []
   },
   "source": [
    "### GENERATE F1 "
   ]
  },
  {
   "cell_type": "code",
   "execution_count": 17,
   "id": "9be067f6",
   "metadata": {
    "execution": {
     "iopub.execute_input": "2025-05-14T16:10:36.554077Z",
     "iopub.status.busy": "2025-05-14T16:10:36.553936Z",
     "iopub.status.idle": "2025-05-14T16:10:36.556351Z",
     "shell.execute_reply": "2025-05-14T16:10:36.555927Z"
    },
    "papermill": {
     "duration": 0.009552,
     "end_time": "2025-05-14T16:10:36.557200",
     "exception": false,
     "start_time": "2025-05-14T16:10:36.547648",
     "status": "completed"
    },
    "tags": []
   },
   "outputs": [],
   "source": [
    "def custom_f1_score(y_true, y_pred):\n",
    "    return -f1_score(y_true, y_pred.argmax(1), average='weighted')"
   ]
  },
  {
   "cell_type": "code",
   "execution_count": 18,
   "id": "012eaa70",
   "metadata": {
    "execution": {
     "iopub.execute_input": "2025-05-14T16:10:36.570283Z",
     "iopub.status.busy": "2025-05-14T16:10:36.570122Z",
     "iopub.status.idle": "2025-05-14T16:10:36.573792Z",
     "shell.execute_reply": "2025-05-14T16:10:36.573415Z"
    },
    "papermill": {
     "duration": 0.011111,
     "end_time": "2025-05-14T16:10:36.574631",
     "exception": false,
     "start_time": "2025-05-14T16:10:36.563520",
     "status": "completed"
    },
    "tags": []
   },
   "outputs": [],
   "source": [
    "eval_metric=custom_f1_score\n",
    "eval_metric_name='custom_f1_score'\n",
    "\n",
    "def objective(trial):\n",
    "    params = {\n",
    "        'n_estimators': 1500,\n",
    "        'max_depth': trial.suggest_int('max_depth', 3, 20),\n",
    "        'min_child_weight': trial.suggest_int('min_child_weight', 1, 250),\n",
    "        'subsample': trial.suggest_float('subsample', 0.1, 1.0),\n",
    "        'colsample_bynode': trial.suggest_float('colsample_bynode', 0.1, 1.0),\n",
    "        'learning_rate': trial.suggest_float('learning_rate', 1e-3, 5e-1, log=True),\n",
    "    }\n",
    "    pruning_callback = optuna.integration.XGBoostPruningCallback(trial, f'validation_0-{eval_metric_name}')\n",
    "    es_callback = xgboost.callback.EarlyStopping(20, min_delta=0.001)\n",
    "    xgb = xgboost.XGBClassifier(\n",
    "        eval_metric=eval_metric,\n",
    "        callbacks=[pruning_callback, es_callback],\n",
    "        n_jobs=5,\n",
    "        **params\n",
    "    )\n",
    "    xgb.fit(\n",
    "        X_train, \n",
    "        y_train_enc, \n",
    "        verbose=0,\n",
    "        eval_set=[(X_val, y_val_enc)],\n",
    "    )\n",
    "    trial.set_user_attr('best_iteration', xgb.best_iteration)\n",
    "\n",
    "    return xgb.best_score"
   ]
  },
  {
   "cell_type": "code",
   "execution_count": 19,
   "id": "2e079a87",
   "metadata": {
    "execution": {
     "iopub.execute_input": "2025-05-14T16:10:36.587369Z",
     "iopub.status.busy": "2025-05-14T16:10:36.587216Z",
     "iopub.status.idle": "2025-05-14T16:11:37.080771Z",
     "shell.execute_reply": "2025-05-14T16:11:37.080284Z"
    },
    "papermill": {
     "duration": 60.50128,
     "end_time": "2025-05-14T16:11:37.082160",
     "exception": false,
     "start_time": "2025-05-14T16:10:36.580880",
     "status": "completed"
    },
    "scrolled": true,
    "tags": []
   },
   "outputs": [
    {
     "name": "stderr",
     "output_type": "stream",
     "text": [
      "[I 2025-05-14 18:10:36,588] A new study created in memory with name: no-name-7c34d3b7-9cc7-44b7-b845-8a1086b4b2f8\n"
     ]
    },
    {
     "name": "stderr",
     "output_type": "stream",
     "text": [
      "[I 2025-05-14 18:11:03,497] Trial 0 finished with value: -0.264833 and parameters: {'max_depth': 9, 'min_child_weight': 238, 'subsample': 0.7587945476302645, 'colsample_bynode': 0.6387926357773329, 'learning_rate': 0.0026368755339723046}. Best is trial 0 with value: -0.264833.\n"
     ]
    },
    {
     "name": "stderr",
     "output_type": "stream",
     "text": [
      "[I 2025-05-14 18:11:18,326] Trial 1 finished with value: -0.77337 and parameters: {'max_depth': 5, 'min_child_weight': 15, 'subsample': 0.8795585311974417, 'colsample_bynode': 0.6410035105688879, 'learning_rate': 0.08148293210105287}. Best is trial 1 with value: -0.77337.\n"
     ]
    },
    {
     "name": "stderr",
     "output_type": "stream",
     "text": [
      "[I 2025-05-14 18:11:18,490] Trial 2 finished with value: -0.264833 and parameters: {'max_depth': 3, 'min_child_weight': 243, 'subsample': 0.8491983767203796, 'colsample_bynode': 0.29110519961044856, 'learning_rate': 0.003095566460242371}. Best is trial 1 with value: -0.77337.\n"
     ]
    },
    {
     "name": "stderr",
     "output_type": "stream",
     "text": [
      "[I 2025-05-14 18:11:18,738] Trial 3 finished with value: -0.516352 and parameters: {'max_depth': 6, 'min_child_weight': 77, 'subsample': 0.5722807884690141, 'colsample_bynode': 0.48875051677790415, 'learning_rate': 0.006109683510122491}. Best is trial 1 with value: -0.77337.\n"
     ]
    },
    {
     "name": "stderr",
     "output_type": "stream",
     "text": [
      "[I 2025-05-14 18:11:18,943] Trial 4 finished with value: -0.558209 and parameters: {'max_depth': 14, 'min_child_weight': 35, 'subsample': 0.3629301836816964, 'colsample_bynode': 0.4297256589643226, 'learning_rate': 0.01701841881702917}. Best is trial 1 with value: -0.77337.\n"
     ]
    },
    {
     "name": "stderr",
     "output_type": "stream",
     "text": [
      "[I 2025-05-14 18:11:19,032] Trial 5 pruned. Trial was pruned at iteration 0.\n"
     ]
    },
    {
     "name": "stderr",
     "output_type": "stream",
     "text": [
      "[I 2025-05-14 18:11:19,121] Trial 6 pruned. Trial was pruned at iteration 0.\n"
     ]
    },
    {
     "name": "stderr",
     "output_type": "stream",
     "text": [
      "[I 2025-05-14 18:11:19,213] Trial 7 pruned. Trial was pruned at iteration 0.\n"
     ]
    },
    {
     "name": "stderr",
     "output_type": "stream",
     "text": [
      "[I 2025-05-14 18:11:19,305] Trial 8 pruned. Trial was pruned at iteration 0.\n"
     ]
    },
    {
     "name": "stderr",
     "output_type": "stream",
     "text": [
      "[I 2025-05-14 18:11:19,395] Trial 9 pruned. Trial was pruned at iteration 0.\n"
     ]
    },
    {
     "name": "stderr",
     "output_type": "stream",
     "text": [
      "[I 2025-05-14 18:11:20,857] Trial 10 finished with value: -0.802979 and parameters: {'max_depth': 9, 'min_child_weight': 2, 'subsample': 0.9725833997090791, 'colsample_bynode': 0.11616568805333755, 'learning_rate': 0.17780618353487967}. Best is trial 10 with value: -0.802979.\n"
     ]
    },
    {
     "name": "stderr",
     "output_type": "stream",
     "text": [
      "[I 2025-05-14 18:11:22,184] Trial 11 pruned. Trial was pruned at iteration 73.\n"
     ]
    },
    {
     "name": "stderr",
     "output_type": "stream",
     "text": [
      "[I 2025-05-14 18:11:23,069] Trial 12 pruned. Trial was pruned at iteration 33.\n"
     ]
    },
    {
     "name": "stderr",
     "output_type": "stream",
     "text": [
      "[I 2025-05-14 18:11:23,179] Trial 13 pruned. Trial was pruned at iteration 0.\n"
     ]
    },
    {
     "name": "stderr",
     "output_type": "stream",
     "text": [
      "[I 2025-05-14 18:11:23,287] Trial 14 pruned. Trial was pruned at iteration 0.\n"
     ]
    },
    {
     "name": "stderr",
     "output_type": "stream",
     "text": [
      "[I 2025-05-14 18:11:25,744] Trial 15 pruned. Trial was pruned at iteration 65.\n"
     ]
    },
    {
     "name": "stderr",
     "output_type": "stream",
     "text": [
      "[I 2025-05-14 18:11:25,857] Trial 16 pruned. Trial was pruned at iteration 0.\n"
     ]
    },
    {
     "name": "stderr",
     "output_type": "stream",
     "text": [
      "[I 2025-05-14 18:11:25,963] Trial 17 pruned. Trial was pruned at iteration 0.\n"
     ]
    },
    {
     "name": "stderr",
     "output_type": "stream",
     "text": [
      "[I 2025-05-14 18:11:26,074] Trial 18 pruned. Trial was pruned at iteration 0.\n"
     ]
    },
    {
     "name": "stderr",
     "output_type": "stream",
     "text": [
      "[I 2025-05-14 18:11:26,182] Trial 19 pruned. Trial was pruned at iteration 0.\n"
     ]
    },
    {
     "name": "stderr",
     "output_type": "stream",
     "text": [
      "[I 2025-05-14 18:11:26,753] Trial 20 pruned. Trial was pruned at iteration 34.\n"
     ]
    },
    {
     "name": "stderr",
     "output_type": "stream",
     "text": [
      "[I 2025-05-14 18:11:27,008] Trial 21 pruned. Trial was pruned at iteration 21.\n"
     ]
    },
    {
     "name": "stderr",
     "output_type": "stream",
     "text": [
      "[I 2025-05-14 18:11:27,114] Trial 22 pruned. Trial was pruned at iteration 0.\n"
     ]
    },
    {
     "name": "stderr",
     "output_type": "stream",
     "text": [
      "[I 2025-05-14 18:11:27,226] Trial 23 pruned. Trial was pruned at iteration 0.\n"
     ]
    },
    {
     "name": "stderr",
     "output_type": "stream",
     "text": [
      "[I 2025-05-14 18:11:27,334] Trial 24 pruned. Trial was pruned at iteration 0.\n"
     ]
    },
    {
     "name": "stderr",
     "output_type": "stream",
     "text": [
      "[I 2025-05-14 18:11:27,585] Trial 25 pruned. Trial was pruned at iteration 21.\n"
     ]
    },
    {
     "name": "stderr",
     "output_type": "stream",
     "text": [
      "[I 2025-05-14 18:11:28,060] Trial 26 pruned. Trial was pruned at iteration 30.\n"
     ]
    },
    {
     "name": "stderr",
     "output_type": "stream",
     "text": [
      "[I 2025-05-14 18:11:28,173] Trial 27 pruned. Trial was pruned at iteration 0.\n"
     ]
    },
    {
     "name": "stderr",
     "output_type": "stream",
     "text": [
      "[I 2025-05-14 18:11:28,279] Trial 28 pruned. Trial was pruned at iteration 0.\n"
     ]
    },
    {
     "name": "stderr",
     "output_type": "stream",
     "text": [
      "[I 2025-05-14 18:11:28,387] Trial 29 pruned. Trial was pruned at iteration 0.\n"
     ]
    },
    {
     "name": "stderr",
     "output_type": "stream",
     "text": [
      "[I 2025-05-14 18:11:28,496] Trial 30 pruned. Trial was pruned at iteration 0.\n"
     ]
    },
    {
     "name": "stderr",
     "output_type": "stream",
     "text": [
      "[I 2025-05-14 18:11:28,605] Trial 31 pruned. Trial was pruned at iteration 0.\n"
     ]
    },
    {
     "name": "stderr",
     "output_type": "stream",
     "text": [
      "[I 2025-05-14 18:11:29,163] Trial 32 pruned. Trial was pruned at iteration 30.\n"
     ]
    },
    {
     "name": "stderr",
     "output_type": "stream",
     "text": [
      "[I 2025-05-14 18:11:29,429] Trial 33 finished with value: -0.551174 and parameters: {'max_depth': 6, 'min_child_weight': 41, 'subsample': 0.7928274556807495, 'colsample_bynode': 0.3207600715174731, 'learning_rate': 0.004797232874619044}. Best is trial 10 with value: -0.802979.\n"
     ]
    },
    {
     "name": "stderr",
     "output_type": "stream",
     "text": [
      "[I 2025-05-14 18:11:29,684] Trial 34 finished with value: -0.56578 and parameters: {'max_depth': 3, 'min_child_weight': 38, 'subsample': 0.7934863000067125, 'colsample_bynode': 0.28187553907637136, 'learning_rate': 0.001093575467759658}. Best is trial 10 with value: -0.802979.\n"
     ]
    },
    {
     "name": "stderr",
     "output_type": "stream",
     "text": [
      "[I 2025-05-14 18:11:29,930] Trial 35 finished with value: -0.561438 and parameters: {'max_depth': 3, 'min_child_weight': 54, 'subsample': 0.9230066892213202, 'colsample_bynode': 0.2546752001503988, 'learning_rate': 0.0014399218675252212}. Best is trial 10 with value: -0.802979.\n"
     ]
    },
    {
     "name": "stderr",
     "output_type": "stream",
     "text": [
      "[I 2025-05-14 18:11:30,042] Trial 36 pruned. Trial was pruned at iteration 0.\n"
     ]
    },
    {
     "name": "stderr",
     "output_type": "stream",
     "text": [
      "[I 2025-05-14 18:11:30,154] Trial 37 pruned. Trial was pruned at iteration 0.\n"
     ]
    },
    {
     "name": "stderr",
     "output_type": "stream",
     "text": [
      "[I 2025-05-14 18:11:30,454] Trial 38 finished with value: -0.659185 and parameters: {'max_depth': 4, 'min_child_weight': 14, 'subsample': 0.9422655278444428, 'colsample_bynode': 0.19792478757574322, 'learning_rate': 0.002232381848278625}. Best is trial 10 with value: -0.802979.\n"
     ]
    },
    {
     "name": "stderr",
     "output_type": "stream",
     "text": [
      "[I 2025-05-14 18:11:30,757] Trial 39 finished with value: -0.638992 and parameters: {'max_depth': 4, 'min_child_weight': 14, 'subsample': 0.7788068590154748, 'colsample_bynode': 0.19291013550392394, 'learning_rate': 0.0023206049411688113}. Best is trial 10 with value: -0.802979.\n"
     ]
    },
    {
     "name": "stderr",
     "output_type": "stream",
     "text": [
      "[I 2025-05-14 18:11:31,060] Trial 40 finished with value: -0.663469 and parameters: {'max_depth': 4, 'min_child_weight': 12, 'subsample': 0.9594398976672159, 'colsample_bynode': 0.189346120914135, 'learning_rate': 0.002016403600264068}. Best is trial 10 with value: -0.802979.\n"
     ]
    },
    {
     "name": "stderr",
     "output_type": "stream",
     "text": [
      "[I 2025-05-14 18:11:31,442] Trial 41 pruned. Trial was pruned at iteration 30.\n"
     ]
    },
    {
     "name": "stderr",
     "output_type": "stream",
     "text": [
      "[I 2025-05-14 18:11:31,790] Trial 42 pruned. Trial was pruned at iteration 22.\n"
     ]
    },
    {
     "name": "stderr",
     "output_type": "stream",
     "text": [
      "[I 2025-05-14 18:11:32,379] Trial 43 pruned. Trial was pruned at iteration 33.\n"
     ]
    },
    {
     "name": "stderr",
     "output_type": "stream",
     "text": [
      "[I 2025-05-14 18:11:32,487] Trial 44 pruned. Trial was pruned at iteration 0.\n"
     ]
    },
    {
     "name": "stderr",
     "output_type": "stream",
     "text": [
      "[I 2025-05-14 18:11:32,776] Trial 45 finished with value: -0.636771 and parameters: {'max_depth': 4, 'min_child_weight': 15, 'subsample': 0.9768373287831843, 'colsample_bynode': 0.1604631924578583, 'learning_rate': 0.0019052765514747637}. Best is trial 10 with value: -0.802979.\n"
     ]
    },
    {
     "name": "stderr",
     "output_type": "stream",
     "text": [
      "[I 2025-05-14 18:11:33,053] Trial 46 finished with value: -0.6294 and parameters: {'max_depth': 6, 'min_child_weight': 46, 'subsample': 0.8264028705794119, 'colsample_bynode': 0.6684936701954924, 'learning_rate': 0.002737181004626273}. Best is trial 10 with value: -0.802979.\n"
     ]
    },
    {
     "name": "stderr",
     "output_type": "stream",
     "text": [
      "[I 2025-05-14 18:11:34,534] Trial 47 finished with value: -0.782438 and parameters: {'max_depth': 8, 'min_child_weight': 1, 'subsample': 0.7508172461858877, 'colsample_bynode': 0.21745686514419033, 'learning_rate': 0.08301495480576665}. Best is trial 10 with value: -0.802979.\n"
     ]
    },
    {
     "name": "stderr",
     "output_type": "stream",
     "text": [
      "[I 2025-05-14 18:11:35,330] Trial 48 pruned. Trial was pruned at iteration 30.\n"
     ]
    },
    {
     "name": "stderr",
     "output_type": "stream",
     "text": [
      "[I 2025-05-14 18:11:37,007] Trial 49 finished with value: -0.778434 and parameters: {'max_depth': 10, 'min_child_weight': 1, 'subsample': 0.7556632236019685, 'colsample_bynode': 0.7701902926200177, 'learning_rate': 0.07108279077619746}. Best is trial 10 with value: -0.802979.\n"
     ]
    }
   ],
   "source": [
    "sampler = optuna.samplers.TPESampler(seed=42)\n",
    "study = optuna.create_study(direction='minimize', sampler=sampler)\n",
    "study.optimize(objective, n_trials=N_TRIALS, gc_after_trial=True)"
   ]
  },
  {
   "cell_type": "code",
   "execution_count": 20,
   "id": "a7fc32af",
   "metadata": {
    "execution": {
     "iopub.execute_input": "2025-05-14T16:11:37.101449Z",
     "iopub.status.busy": "2025-05-14T16:11:37.101133Z",
     "iopub.status.idle": "2025-05-14T16:11:37.122391Z",
     "shell.execute_reply": "2025-05-14T16:11:37.122084Z"
    },
    "papermill": {
     "duration": 0.030634,
     "end_time": "2025-05-14T16:11:37.123264",
     "exception": false,
     "start_time": "2025-05-14T16:11:37.092630",
     "status": "completed"
    },
    "tags": []
   },
   "outputs": [
    {
     "data": {
      "text/plain": [
       "['/scratch_isilon/groups/singlecell/shared/projects/Inflammation-PBMCs-Atlas/03_downstream_analysis/08_gene_importance/xgboost_external_validation/xgboost_TopN_genes/results_20/study/pDC_shap_disease_NOstudy_3_xgboost.pkl']"
      ]
     },
     "execution_count": 20,
     "metadata": {},
     "output_type": "execute_result"
    }
   ],
   "source": [
    "out_dir = here(f'03_downstream_analysis/08_gene_importance/xgboost_external_validation/xgboost_TopN_genes/results_{N_GENES}/study')\n",
    "\n",
    "if not os.path.exists(out_dir):\n",
    "    os.makedirs(out_dir)\n",
    "    \n",
    "joblib.dump(study,os.path.join(out_dir, f'{CELL_TYPE}_{SEED}_{TEST_SPLIT_IDX}_xgboost.pkl'))"
   ]
  },
  {
   "cell_type": "code",
   "execution_count": 21,
   "id": "59490e17",
   "metadata": {
    "execution": {
     "iopub.execute_input": "2025-05-14T16:11:37.140075Z",
     "iopub.status.busy": "2025-05-14T16:11:37.139795Z",
     "iopub.status.idle": "2025-05-14T16:11:38.558608Z",
     "shell.execute_reply": "2025-05-14T16:11:38.558272Z"
    },
    "papermill": {
     "duration": 1.428368,
     "end_time": "2025-05-14T16:11:38.559822",
     "exception": false,
     "start_time": "2025-05-14T16:11:37.131454",
     "status": "completed"
    },
    "tags": []
   },
   "outputs": [
    {
     "data": {
      "text/html": [
       "<style>#sk-container-id-1 {\n",
       "  /* Definition of color scheme common for light and dark mode */\n",
       "  --sklearn-color-text: black;\n",
       "  --sklearn-color-line: gray;\n",
       "  /* Definition of color scheme for unfitted estimators */\n",
       "  --sklearn-color-unfitted-level-0: #fff5e6;\n",
       "  --sklearn-color-unfitted-level-1: #f6e4d2;\n",
       "  --sklearn-color-unfitted-level-2: #ffe0b3;\n",
       "  --sklearn-color-unfitted-level-3: chocolate;\n",
       "  /* Definition of color scheme for fitted estimators */\n",
       "  --sklearn-color-fitted-level-0: #f0f8ff;\n",
       "  --sklearn-color-fitted-level-1: #d4ebff;\n",
       "  --sklearn-color-fitted-level-2: #b3dbfd;\n",
       "  --sklearn-color-fitted-level-3: cornflowerblue;\n",
       "\n",
       "  /* Specific color for light theme */\n",
       "  --sklearn-color-text-on-default-background: var(--sg-text-color, var(--theme-code-foreground, var(--jp-content-font-color1, black)));\n",
       "  --sklearn-color-background: var(--sg-background-color, var(--theme-background, var(--jp-layout-color0, white)));\n",
       "  --sklearn-color-border-box: var(--sg-text-color, var(--theme-code-foreground, var(--jp-content-font-color1, black)));\n",
       "  --sklearn-color-icon: #696969;\n",
       "\n",
       "  @media (prefers-color-scheme: dark) {\n",
       "    /* Redefinition of color scheme for dark theme */\n",
       "    --sklearn-color-text-on-default-background: var(--sg-text-color, var(--theme-code-foreground, var(--jp-content-font-color1, white)));\n",
       "    --sklearn-color-background: var(--sg-background-color, var(--theme-background, var(--jp-layout-color0, #111)));\n",
       "    --sklearn-color-border-box: var(--sg-text-color, var(--theme-code-foreground, var(--jp-content-font-color1, white)));\n",
       "    --sklearn-color-icon: #878787;\n",
       "  }\n",
       "}\n",
       "\n",
       "#sk-container-id-1 {\n",
       "  color: var(--sklearn-color-text);\n",
       "}\n",
       "\n",
       "#sk-container-id-1 pre {\n",
       "  padding: 0;\n",
       "}\n",
       "\n",
       "#sk-container-id-1 input.sk-hidden--visually {\n",
       "  border: 0;\n",
       "  clip: rect(1px 1px 1px 1px);\n",
       "  clip: rect(1px, 1px, 1px, 1px);\n",
       "  height: 1px;\n",
       "  margin: -1px;\n",
       "  overflow: hidden;\n",
       "  padding: 0;\n",
       "  position: absolute;\n",
       "  width: 1px;\n",
       "}\n",
       "\n",
       "#sk-container-id-1 div.sk-dashed-wrapped {\n",
       "  border: 1px dashed var(--sklearn-color-line);\n",
       "  margin: 0 0.4em 0.5em 0.4em;\n",
       "  box-sizing: border-box;\n",
       "  padding-bottom: 0.4em;\n",
       "  background-color: var(--sklearn-color-background);\n",
       "}\n",
       "\n",
       "#sk-container-id-1 div.sk-container {\n",
       "  /* jupyter's `normalize.less` sets `[hidden] { display: none; }`\n",
       "     but bootstrap.min.css set `[hidden] { display: none !important; }`\n",
       "     so we also need the `!important` here to be able to override the\n",
       "     default hidden behavior on the sphinx rendered scikit-learn.org.\n",
       "     See: https://github.com/scikit-learn/scikit-learn/issues/21755 */\n",
       "  display: inline-block !important;\n",
       "  position: relative;\n",
       "}\n",
       "\n",
       "#sk-container-id-1 div.sk-text-repr-fallback {\n",
       "  display: none;\n",
       "}\n",
       "\n",
       "div.sk-parallel-item,\n",
       "div.sk-serial,\n",
       "div.sk-item {\n",
       "  /* draw centered vertical line to link estimators */\n",
       "  background-image: linear-gradient(var(--sklearn-color-text-on-default-background), var(--sklearn-color-text-on-default-background));\n",
       "  background-size: 2px 100%;\n",
       "  background-repeat: no-repeat;\n",
       "  background-position: center center;\n",
       "}\n",
       "\n",
       "/* Parallel-specific style estimator block */\n",
       "\n",
       "#sk-container-id-1 div.sk-parallel-item::after {\n",
       "  content: \"\";\n",
       "  width: 100%;\n",
       "  border-bottom: 2px solid var(--sklearn-color-text-on-default-background);\n",
       "  flex-grow: 1;\n",
       "}\n",
       "\n",
       "#sk-container-id-1 div.sk-parallel {\n",
       "  display: flex;\n",
       "  align-items: stretch;\n",
       "  justify-content: center;\n",
       "  background-color: var(--sklearn-color-background);\n",
       "  position: relative;\n",
       "}\n",
       "\n",
       "#sk-container-id-1 div.sk-parallel-item {\n",
       "  display: flex;\n",
       "  flex-direction: column;\n",
       "}\n",
       "\n",
       "#sk-container-id-1 div.sk-parallel-item:first-child::after {\n",
       "  align-self: flex-end;\n",
       "  width: 50%;\n",
       "}\n",
       "\n",
       "#sk-container-id-1 div.sk-parallel-item:last-child::after {\n",
       "  align-self: flex-start;\n",
       "  width: 50%;\n",
       "}\n",
       "\n",
       "#sk-container-id-1 div.sk-parallel-item:only-child::after {\n",
       "  width: 0;\n",
       "}\n",
       "\n",
       "/* Serial-specific style estimator block */\n",
       "\n",
       "#sk-container-id-1 div.sk-serial {\n",
       "  display: flex;\n",
       "  flex-direction: column;\n",
       "  align-items: center;\n",
       "  background-color: var(--sklearn-color-background);\n",
       "  padding-right: 1em;\n",
       "  padding-left: 1em;\n",
       "}\n",
       "\n",
       "\n",
       "/* Toggleable style: style used for estimator/Pipeline/ColumnTransformer box that is\n",
       "clickable and can be expanded/collapsed.\n",
       "- Pipeline and ColumnTransformer use this feature and define the default style\n",
       "- Estimators will overwrite some part of the style using the `sk-estimator` class\n",
       "*/\n",
       "\n",
       "/* Pipeline and ColumnTransformer style (default) */\n",
       "\n",
       "#sk-container-id-1 div.sk-toggleable {\n",
       "  /* Default theme specific background. It is overwritten whether we have a\n",
       "  specific estimator or a Pipeline/ColumnTransformer */\n",
       "  background-color: var(--sklearn-color-background);\n",
       "}\n",
       "\n",
       "/* Toggleable label */\n",
       "#sk-container-id-1 label.sk-toggleable__label {\n",
       "  cursor: pointer;\n",
       "  display: block;\n",
       "  width: 100%;\n",
       "  margin-bottom: 0;\n",
       "  padding: 0.5em;\n",
       "  box-sizing: border-box;\n",
       "  text-align: center;\n",
       "}\n",
       "\n",
       "#sk-container-id-1 label.sk-toggleable__label-arrow:before {\n",
       "  /* Arrow on the left of the label */\n",
       "  content: \"▸\";\n",
       "  float: left;\n",
       "  margin-right: 0.25em;\n",
       "  color: var(--sklearn-color-icon);\n",
       "}\n",
       "\n",
       "#sk-container-id-1 label.sk-toggleable__label-arrow:hover:before {\n",
       "  color: var(--sklearn-color-text);\n",
       "}\n",
       "\n",
       "/* Toggleable content - dropdown */\n",
       "\n",
       "#sk-container-id-1 div.sk-toggleable__content {\n",
       "  max-height: 0;\n",
       "  max-width: 0;\n",
       "  overflow: hidden;\n",
       "  text-align: left;\n",
       "  /* unfitted */\n",
       "  background-color: var(--sklearn-color-unfitted-level-0);\n",
       "}\n",
       "\n",
       "#sk-container-id-1 div.sk-toggleable__content.fitted {\n",
       "  /* fitted */\n",
       "  background-color: var(--sklearn-color-fitted-level-0);\n",
       "}\n",
       "\n",
       "#sk-container-id-1 div.sk-toggleable__content pre {\n",
       "  margin: 0.2em;\n",
       "  border-radius: 0.25em;\n",
       "  color: var(--sklearn-color-text);\n",
       "  /* unfitted */\n",
       "  background-color: var(--sklearn-color-unfitted-level-0);\n",
       "}\n",
       "\n",
       "#sk-container-id-1 div.sk-toggleable__content.fitted pre {\n",
       "  /* unfitted */\n",
       "  background-color: var(--sklearn-color-fitted-level-0);\n",
       "}\n",
       "\n",
       "#sk-container-id-1 input.sk-toggleable__control:checked~div.sk-toggleable__content {\n",
       "  /* Expand drop-down */\n",
       "  max-height: 200px;\n",
       "  max-width: 100%;\n",
       "  overflow: auto;\n",
       "}\n",
       "\n",
       "#sk-container-id-1 input.sk-toggleable__control:checked~label.sk-toggleable__label-arrow:before {\n",
       "  content: \"▾\";\n",
       "}\n",
       "\n",
       "/* Pipeline/ColumnTransformer-specific style */\n",
       "\n",
       "#sk-container-id-1 div.sk-label input.sk-toggleable__control:checked~label.sk-toggleable__label {\n",
       "  color: var(--sklearn-color-text);\n",
       "  background-color: var(--sklearn-color-unfitted-level-2);\n",
       "}\n",
       "\n",
       "#sk-container-id-1 div.sk-label.fitted input.sk-toggleable__control:checked~label.sk-toggleable__label {\n",
       "  background-color: var(--sklearn-color-fitted-level-2);\n",
       "}\n",
       "\n",
       "/* Estimator-specific style */\n",
       "\n",
       "/* Colorize estimator box */\n",
       "#sk-container-id-1 div.sk-estimator input.sk-toggleable__control:checked~label.sk-toggleable__label {\n",
       "  /* unfitted */\n",
       "  background-color: var(--sklearn-color-unfitted-level-2);\n",
       "}\n",
       "\n",
       "#sk-container-id-1 div.sk-estimator.fitted input.sk-toggleable__control:checked~label.sk-toggleable__label {\n",
       "  /* fitted */\n",
       "  background-color: var(--sklearn-color-fitted-level-2);\n",
       "}\n",
       "\n",
       "#sk-container-id-1 div.sk-label label.sk-toggleable__label,\n",
       "#sk-container-id-1 div.sk-label label {\n",
       "  /* The background is the default theme color */\n",
       "  color: var(--sklearn-color-text-on-default-background);\n",
       "}\n",
       "\n",
       "/* On hover, darken the color of the background */\n",
       "#sk-container-id-1 div.sk-label:hover label.sk-toggleable__label {\n",
       "  color: var(--sklearn-color-text);\n",
       "  background-color: var(--sklearn-color-unfitted-level-2);\n",
       "}\n",
       "\n",
       "/* Label box, darken color on hover, fitted */\n",
       "#sk-container-id-1 div.sk-label.fitted:hover label.sk-toggleable__label.fitted {\n",
       "  color: var(--sklearn-color-text);\n",
       "  background-color: var(--sklearn-color-fitted-level-2);\n",
       "}\n",
       "\n",
       "/* Estimator label */\n",
       "\n",
       "#sk-container-id-1 div.sk-label label {\n",
       "  font-family: monospace;\n",
       "  font-weight: bold;\n",
       "  display: inline-block;\n",
       "  line-height: 1.2em;\n",
       "}\n",
       "\n",
       "#sk-container-id-1 div.sk-label-container {\n",
       "  text-align: center;\n",
       "}\n",
       "\n",
       "/* Estimator-specific */\n",
       "#sk-container-id-1 div.sk-estimator {\n",
       "  font-family: monospace;\n",
       "  border: 1px dotted var(--sklearn-color-border-box);\n",
       "  border-radius: 0.25em;\n",
       "  box-sizing: border-box;\n",
       "  margin-bottom: 0.5em;\n",
       "  /* unfitted */\n",
       "  background-color: var(--sklearn-color-unfitted-level-0);\n",
       "}\n",
       "\n",
       "#sk-container-id-1 div.sk-estimator.fitted {\n",
       "  /* fitted */\n",
       "  background-color: var(--sklearn-color-fitted-level-0);\n",
       "}\n",
       "\n",
       "/* on hover */\n",
       "#sk-container-id-1 div.sk-estimator:hover {\n",
       "  /* unfitted */\n",
       "  background-color: var(--sklearn-color-unfitted-level-2);\n",
       "}\n",
       "\n",
       "#sk-container-id-1 div.sk-estimator.fitted:hover {\n",
       "  /* fitted */\n",
       "  background-color: var(--sklearn-color-fitted-level-2);\n",
       "}\n",
       "\n",
       "/* Specification for estimator info (e.g. \"i\" and \"?\") */\n",
       "\n",
       "/* Common style for \"i\" and \"?\" */\n",
       "\n",
       ".sk-estimator-doc-link,\n",
       "a:link.sk-estimator-doc-link,\n",
       "a:visited.sk-estimator-doc-link {\n",
       "  float: right;\n",
       "  font-size: smaller;\n",
       "  line-height: 1em;\n",
       "  font-family: monospace;\n",
       "  background-color: var(--sklearn-color-background);\n",
       "  border-radius: 1em;\n",
       "  height: 1em;\n",
       "  width: 1em;\n",
       "  text-decoration: none !important;\n",
       "  margin-left: 1ex;\n",
       "  /* unfitted */\n",
       "  border: var(--sklearn-color-unfitted-level-1) 1pt solid;\n",
       "  color: var(--sklearn-color-unfitted-level-1);\n",
       "}\n",
       "\n",
       ".sk-estimator-doc-link.fitted,\n",
       "a:link.sk-estimator-doc-link.fitted,\n",
       "a:visited.sk-estimator-doc-link.fitted {\n",
       "  /* fitted */\n",
       "  border: var(--sklearn-color-fitted-level-1) 1pt solid;\n",
       "  color: var(--sklearn-color-fitted-level-1);\n",
       "}\n",
       "\n",
       "/* On hover */\n",
       "div.sk-estimator:hover .sk-estimator-doc-link:hover,\n",
       ".sk-estimator-doc-link:hover,\n",
       "div.sk-label-container:hover .sk-estimator-doc-link:hover,\n",
       ".sk-estimator-doc-link:hover {\n",
       "  /* unfitted */\n",
       "  background-color: var(--sklearn-color-unfitted-level-3);\n",
       "  color: var(--sklearn-color-background);\n",
       "  text-decoration: none;\n",
       "}\n",
       "\n",
       "div.sk-estimator.fitted:hover .sk-estimator-doc-link.fitted:hover,\n",
       ".sk-estimator-doc-link.fitted:hover,\n",
       "div.sk-label-container:hover .sk-estimator-doc-link.fitted:hover,\n",
       ".sk-estimator-doc-link.fitted:hover {\n",
       "  /* fitted */\n",
       "  background-color: var(--sklearn-color-fitted-level-3);\n",
       "  color: var(--sklearn-color-background);\n",
       "  text-decoration: none;\n",
       "}\n",
       "\n",
       "/* Span, style for the box shown on hovering the info icon */\n",
       ".sk-estimator-doc-link span {\n",
       "  display: none;\n",
       "  z-index: 9999;\n",
       "  position: relative;\n",
       "  font-weight: normal;\n",
       "  right: .2ex;\n",
       "  padding: .5ex;\n",
       "  margin: .5ex;\n",
       "  width: min-content;\n",
       "  min-width: 20ex;\n",
       "  max-width: 50ex;\n",
       "  color: var(--sklearn-color-text);\n",
       "  box-shadow: 2pt 2pt 4pt #999;\n",
       "  /* unfitted */\n",
       "  background: var(--sklearn-color-unfitted-level-0);\n",
       "  border: .5pt solid var(--sklearn-color-unfitted-level-3);\n",
       "}\n",
       "\n",
       ".sk-estimator-doc-link.fitted span {\n",
       "  /* fitted */\n",
       "  background: var(--sklearn-color-fitted-level-0);\n",
       "  border: var(--sklearn-color-fitted-level-3);\n",
       "}\n",
       "\n",
       ".sk-estimator-doc-link:hover span {\n",
       "  display: block;\n",
       "}\n",
       "\n",
       "/* \"?\"-specific style due to the `<a>` HTML tag */\n",
       "\n",
       "#sk-container-id-1 a.estimator_doc_link {\n",
       "  float: right;\n",
       "  font-size: 1rem;\n",
       "  line-height: 1em;\n",
       "  font-family: monospace;\n",
       "  background-color: var(--sklearn-color-background);\n",
       "  border-radius: 1rem;\n",
       "  height: 1rem;\n",
       "  width: 1rem;\n",
       "  text-decoration: none;\n",
       "  /* unfitted */\n",
       "  color: var(--sklearn-color-unfitted-level-1);\n",
       "  border: var(--sklearn-color-unfitted-level-1) 1pt solid;\n",
       "}\n",
       "\n",
       "#sk-container-id-1 a.estimator_doc_link.fitted {\n",
       "  /* fitted */\n",
       "  border: var(--sklearn-color-fitted-level-1) 1pt solid;\n",
       "  color: var(--sklearn-color-fitted-level-1);\n",
       "}\n",
       "\n",
       "/* On hover */\n",
       "#sk-container-id-1 a.estimator_doc_link:hover {\n",
       "  /* unfitted */\n",
       "  background-color: var(--sklearn-color-unfitted-level-3);\n",
       "  color: var(--sklearn-color-background);\n",
       "  text-decoration: none;\n",
       "}\n",
       "\n",
       "#sk-container-id-1 a.estimator_doc_link.fitted:hover {\n",
       "  /* fitted */\n",
       "  background-color: var(--sklearn-color-fitted-level-3);\n",
       "}\n",
       "</style><div id=\"sk-container-id-1\" class=\"sk-top-container\"><div class=\"sk-text-repr-fallback\"><pre>XGBClassifier(base_score=None, booster=None, callbacks=None,\n",
       "              colsample_bylevel=None, colsample_bynode=0.11616568805333755,\n",
       "              colsample_bytree=None, device=None, early_stopping_rounds=None,\n",
       "              enable_categorical=False,\n",
       "              eval_metric=&lt;function custom_f1_score at 0x7f7901207e20&gt;,\n",
       "              feature_types=None, gamma=None, grow_policy=None,\n",
       "              importance_type=None, interaction_constraints=None,\n",
       "              learning_rate=0.17780618353487967, max_bin=None,\n",
       "              max_cat_threshold=None, max_cat_to_onehot=None,\n",
       "              max_delta_step=None, max_depth=9, max_leaves=None,\n",
       "              min_child_weight=2, missing=nan, monotone_constraints=None,\n",
       "              multi_strategy=None, n_estimators=97, n_jobs=None,\n",
       "              num_parallel_tree=None, objective=&#x27;multi:softprob&#x27;, ...)</pre><b>In a Jupyter environment, please rerun this cell to show the HTML representation or trust the notebook. <br />On GitHub, the HTML representation is unable to render, please try loading this page with nbviewer.org.</b></div><div class=\"sk-container\" hidden><div class=\"sk-item\"><div class=\"sk-estimator fitted sk-toggleable\"><input class=\"sk-toggleable__control sk-hidden--visually\" id=\"sk-estimator-id-1\" type=\"checkbox\" checked><label for=\"sk-estimator-id-1\" class=\"sk-toggleable__label fitted sk-toggleable__label-arrow fitted\">&nbsp;XGBClassifier<span class=\"sk-estimator-doc-link fitted\">i<span>Fitted</span></span></label><div class=\"sk-toggleable__content fitted\"><pre>XGBClassifier(base_score=None, booster=None, callbacks=None,\n",
       "              colsample_bylevel=None, colsample_bynode=0.11616568805333755,\n",
       "              colsample_bytree=None, device=None, early_stopping_rounds=None,\n",
       "              enable_categorical=False,\n",
       "              eval_metric=&lt;function custom_f1_score at 0x7f7901207e20&gt;,\n",
       "              feature_types=None, gamma=None, grow_policy=None,\n",
       "              importance_type=None, interaction_constraints=None,\n",
       "              learning_rate=0.17780618353487967, max_bin=None,\n",
       "              max_cat_threshold=None, max_cat_to_onehot=None,\n",
       "              max_delta_step=None, max_depth=9, max_leaves=None,\n",
       "              min_child_weight=2, missing=nan, monotone_constraints=None,\n",
       "              multi_strategy=None, n_estimators=97, n_jobs=None,\n",
       "              num_parallel_tree=None, objective=&#x27;multi:softprob&#x27;, ...)</pre></div> </div></div></div></div>"
      ],
      "text/plain": [
       "XGBClassifier(base_score=None, booster=None, callbacks=None,\n",
       "              colsample_bylevel=None, colsample_bynode=0.11616568805333755,\n",
       "              colsample_bytree=None, device=None, early_stopping_rounds=None,\n",
       "              enable_categorical=False,\n",
       "              eval_metric=<function custom_f1_score at 0x7f7901207e20>,\n",
       "              feature_types=None, gamma=None, grow_policy=None,\n",
       "              importance_type=None, interaction_constraints=None,\n",
       "              learning_rate=0.17780618353487967, max_bin=None,\n",
       "              max_cat_threshold=None, max_cat_to_onehot=None,\n",
       "              max_delta_step=None, max_depth=9, max_leaves=None,\n",
       "              min_child_weight=2, missing=nan, monotone_constraints=None,\n",
       "              multi_strategy=None, n_estimators=97, n_jobs=None,\n",
       "              num_parallel_tree=None, objective='multi:softprob', ...)"
      ]
     },
     "execution_count": 21,
     "metadata": {},
     "output_type": "execute_result"
    }
   ],
   "source": [
    "n_estimators = int(study.best_trial.user_attrs['best_iteration']*1.2)\n",
    "xgb = xgboost.XGBClassifier(\n",
    "        eval_metric=eval_metric,\n",
    "        n_estimators=n_estimators,\n",
    "        **study.best_trial.params\n",
    "    )\n",
    "xgb.fit(\n",
    "    ssp.vstack((X_train, X_val)), \n",
    "    np.concatenate((y_train_enc, y_val_enc)),\n",
    "    verbose=1,\n",
    ")"
   ]
  },
  {
   "cell_type": "code",
   "execution_count": 22,
   "id": "19578b73",
   "metadata": {
    "execution": {
     "iopub.execute_input": "2025-05-14T16:11:38.578552Z",
     "iopub.status.busy": "2025-05-14T16:11:38.578247Z",
     "iopub.status.idle": "2025-05-14T16:11:38.600565Z",
     "shell.execute_reply": "2025-05-14T16:11:38.600242Z"
    },
    "papermill": {
     "duration": 0.032627,
     "end_time": "2025-05-14T16:11:38.601450",
     "exception": false,
     "start_time": "2025-05-14T16:11:38.568823",
     "status": "completed"
    },
    "tags": []
   },
   "outputs": [
    {
     "data": {
      "text/plain": [
       "['/scratch_isilon/groups/singlecell/shared/projects/Inflammation-PBMCs-Atlas/03_downstream_analysis/08_gene_importance/xgboost_external_validation/xgboost_TopN_genes/results_20/best_model/pDC_shap_disease_NOstudy_3_xgb.json']"
      ]
     },
     "execution_count": 22,
     "metadata": {},
     "output_type": "execute_result"
    }
   ],
   "source": [
    "out_dir = here(f'03_downstream_analysis/08_gene_importance/xgboost_external_validation/xgboost_TopN_genes/results_{N_GENES}/best_model')\n",
    "\n",
    "if not os.path.exists(out_dir):\n",
    "    os.makedirs(out_dir)\n",
    "    \n",
    "joblib.dump(xgb, os.path.join(out_dir, f'{CELL_TYPE}_{SEED}_{TEST_SPLIT_IDX}_xgb.json'))"
   ]
  },
  {
   "cell_type": "code",
   "execution_count": 23,
   "id": "6efced7e",
   "metadata": {
    "execution": {
     "iopub.execute_input": "2025-05-14T16:11:38.619809Z",
     "iopub.status.busy": "2025-05-14T16:11:38.619567Z",
     "iopub.status.idle": "2025-05-14T16:11:38.629028Z",
     "shell.execute_reply": "2025-05-14T16:11:38.628718Z"
    },
    "papermill": {
     "duration": 0.023395,
     "end_time": "2025-05-14T16:11:38.634186",
     "exception": false,
     "start_time": "2025-05-14T16:11:38.610791",
     "status": "completed"
    },
    "tags": []
   },
   "outputs": [],
   "source": [
    "df_pred_test = pd.DataFrame(dict(\n",
    "    cell_id=train_adata.obs.iloc[test_idxs].index.values,\n",
    "    y_true=y_test, \n",
    "    y_true_code=y_test_enc, \n",
    "    y_pred=xgb.predict(X_test))).set_index('cell_id')"
   ]
  },
  {
   "cell_type": "code",
   "execution_count": 24,
   "id": "1763b420",
   "metadata": {
    "execution": {
     "iopub.execute_input": "2025-05-14T16:11:38.652500Z",
     "iopub.status.busy": "2025-05-14T16:11:38.652128Z",
     "iopub.status.idle": "2025-05-14T16:11:38.665408Z",
     "shell.execute_reply": "2025-05-14T16:11:38.665021Z"
    },
    "papermill": {
     "duration": 0.023106,
     "end_time": "2025-05-14T16:11:38.666318",
     "exception": false,
     "start_time": "2025-05-14T16:11:38.643212",
     "status": "completed"
    },
    "tags": []
   },
   "outputs": [],
   "source": [
    "out_dir = here(f'03_downstream_analysis/08_gene_importance/xgboost_external_validation/xgboost_TopN_genes/results_{N_GENES}/predictions')\n",
    "\n",
    "if not os.path.exists(out_dir):\n",
    "    os.makedirs(out_dir)\n",
    "    \n",
    "df_pred_test.to_csv(os.path.join(out_dir, f'{CELL_TYPE}_{SEED}_{TEST_SPLIT_IDX}_pred_test.zip'))"
   ]
  },
  {
   "cell_type": "code",
   "execution_count": 25,
   "id": "ee3fc6d3",
   "metadata": {
    "execution": {
     "iopub.execute_input": "2025-05-14T16:11:38.684082Z",
     "iopub.status.busy": "2025-05-14T16:11:38.683855Z",
     "iopub.status.idle": "2025-05-14T16:11:38.690726Z",
     "shell.execute_reply": "2025-05-14T16:11:38.690424Z"
    },
    "papermill": {
     "duration": 0.016587,
     "end_time": "2025-05-14T16:11:38.691548",
     "exception": false,
     "start_time": "2025-05-14T16:11:38.674961",
     "status": "completed"
    },
    "tags": []
   },
   "outputs": [
    {
     "name": "stderr",
     "output_type": "stream",
     "text": [
      "/scratch_isilon/groups/singlecell/shared/conda_env/xgboost-cpu/lib/python3.12/site-packages/sklearn/metrics/_classification.py:2466: UserWarning: y_pred contains classes not in y_true\n",
      "  warnings.warn(\"y_pred contains classes not in y_true\")\n"
     ]
    }
   ],
   "source": [
    "metrics_dict = dict(\n",
    "    BAS=balanced_accuracy_score(y_true=df_pred_test.y_true_code, y_pred=df_pred_test.y_pred), WF1=f1_score(y_true=df_pred_test.y_true_code, y_pred=df_pred_test.y_pred,average='weighted'))"
   ]
  },
  {
   "cell_type": "code",
   "execution_count": 26,
   "id": "5300dc55",
   "metadata": {
    "execution": {
     "iopub.execute_input": "2025-05-14T16:11:38.709708Z",
     "iopub.status.busy": "2025-05-14T16:11:38.709462Z",
     "iopub.status.idle": "2025-05-14T16:11:38.712308Z",
     "shell.execute_reply": "2025-05-14T16:11:38.712005Z"
    },
    "papermill": {
     "duration": 0.012949,
     "end_time": "2025-05-14T16:11:38.713092",
     "exception": false,
     "start_time": "2025-05-14T16:11:38.700143",
     "status": "completed"
    },
    "tags": []
   },
   "outputs": [
    {
     "data": {
      "text/plain": [
       "{'BAS': 0.5559595133540111, 'WF1': 0.7758290686797396}"
      ]
     },
     "execution_count": 26,
     "metadata": {},
     "output_type": "execute_result"
    }
   ],
   "source": [
    "metrics_dict"
   ]
  },
  {
   "cell_type": "code",
   "execution_count": 27,
   "id": "b8324982",
   "metadata": {
    "execution": {
     "iopub.execute_input": "2025-05-14T16:11:38.785310Z",
     "iopub.status.busy": "2025-05-14T16:11:38.784959Z",
     "iopub.status.idle": "2025-05-14T16:11:38.793287Z",
     "shell.execute_reply": "2025-05-14T16:11:38.792992Z"
    },
    "papermill": {
     "duration": 0.067725,
     "end_time": "2025-05-14T16:11:38.794109",
     "exception": false,
     "start_time": "2025-05-14T16:11:38.726384",
     "status": "completed"
    },
    "tags": []
   },
   "outputs": [
    {
     "data": {
      "text/html": [
       "<div>\n",
       "<style scoped>\n",
       "    .dataframe tbody tr th:only-of-type {\n",
       "        vertical-align: middle;\n",
       "    }\n",
       "\n",
       "    .dataframe tbody tr th {\n",
       "        vertical-align: top;\n",
       "    }\n",
       "\n",
       "    .dataframe thead th {\n",
       "        text-align: right;\n",
       "    }\n",
       "</style>\n",
       "<table border=\"1\" class=\"dataframe\">\n",
       "  <thead>\n",
       "    <tr style=\"text-align: right;\">\n",
       "      <th></th>\n",
       "      <th>BAS</th>\n",
       "      <th>WF1</th>\n",
       "      <th>split_idx</th>\n",
       "      <th>gene_set_seed</th>\n",
       "      <th>cell_type</th>\n",
       "    </tr>\n",
       "  </thead>\n",
       "  <tbody>\n",
       "    <tr>\n",
       "      <th>0</th>\n",
       "      <td>0.55596</td>\n",
       "      <td>0.775829</td>\n",
       "      <td>3</td>\n",
       "      <td>shap_disease_NOstudy</td>\n",
       "      <td>pDC</td>\n",
       "    </tr>\n",
       "  </tbody>\n",
       "</table>\n",
       "</div>"
      ],
      "text/plain": [
       "       BAS       WF1  split_idx         gene_set_seed cell_type\n",
       "0  0.55596  0.775829          3  shap_disease_NOstudy       pDC"
      ]
     },
     "execution_count": 27,
     "metadata": {},
     "output_type": "execute_result"
    }
   ],
   "source": [
    "metrics_df = pd.DataFrame.from_dict([metrics_dict]).assign(split_idx=TEST_SPLIT_IDX, gene_set_seed=SEED, cell_type=CELL_TYPE)\n",
    "metrics_df"
   ]
  },
  {
   "cell_type": "code",
   "execution_count": 28,
   "id": "37320080",
   "metadata": {
    "execution": {
     "iopub.execute_input": "2025-05-14T16:11:38.818036Z",
     "iopub.status.busy": "2025-05-14T16:11:38.817709Z",
     "iopub.status.idle": "2025-05-14T16:11:38.826162Z",
     "shell.execute_reply": "2025-05-14T16:11:38.825809Z"
    },
    "papermill": {
     "duration": 0.023584,
     "end_time": "2025-05-14T16:11:38.827002",
     "exception": false,
     "start_time": "2025-05-14T16:11:38.803418",
     "status": "completed"
    },
    "tags": []
   },
   "outputs": [],
   "source": [
    "out_dir = here(f'03_downstream_analysis/08_gene_importance/xgboost_external_validation/xgboost_TopN_genes/results_{N_GENES}/metrics')\n",
    "\n",
    "if not os.path.exists(out_dir):\n",
    "    os.makedirs(out_dir)\n",
    "    \n",
    "metrics_df.to_csv(os.path.join(out_dir, f'{CELL_TYPE}_{SEED}_{TEST_SPLIT_IDX}_metrics.zip'))"
   ]
  }
 ],
 "metadata": {
  "kernelspec": {
   "display_name": "Python 3 (ipykernel)",
   "language": "python",
   "name": "python3"
  },
  "language_info": {
   "codemirror_mode": {
    "name": "ipython",
    "version": 3
   },
   "file_extension": ".py",
   "mimetype": "text/x-python",
   "name": "python",
   "nbconvert_exporter": "python",
   "pygments_lexer": "ipython3",
   "version": "3.12.5"
  },
  "papermill": {
   "default_parameters": {},
   "duration": 66.120253,
   "end_time": "2025-05-14T16:11:39.352418",
   "environment_variables": {},
   "exception": null,
   "input_path": "02_xgboost_fitting_external_20genes.ipynb",
   "output_path": "results_20/executed_notebooks/xgboost_fitting_external_CT_pDC_GS_shap_disease_NOstudy_seed3.ipynb",
   "parameters": {
    "CELL_TYPE": "pDC",
    "SEED": "shap_disease_NOstudy",
    "TEST_SPLIT_IDX": 3
   },
   "start_time": "2025-05-14T16:10:33.232165",
   "version": "2.6.0"
  }
 },
 "nbformat": 4,
 "nbformat_minor": 5
}