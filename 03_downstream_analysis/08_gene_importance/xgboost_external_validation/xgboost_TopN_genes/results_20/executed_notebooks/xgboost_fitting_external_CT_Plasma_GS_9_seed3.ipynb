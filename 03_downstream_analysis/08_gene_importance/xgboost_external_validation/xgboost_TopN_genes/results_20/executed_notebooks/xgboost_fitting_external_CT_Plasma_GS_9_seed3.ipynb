{
 "cells": [
  {
   "cell_type": "code",
   "execution_count": 1,
   "id": "5af5d558",
   "metadata": {
    "editable": true,
    "execution": {
     "iopub.execute_input": "2025-05-15T16:15:34.828934Z",
     "iopub.status.busy": "2025-05-15T16:15:34.828597Z",
     "iopub.status.idle": "2025-05-15T16:15:34.831369Z",
     "shell.execute_reply": "2025-05-15T16:15:34.831070Z"
    },
    "papermill": {
     "duration": 0.011041,
     "end_time": "2025-05-15T16:15:34.832249",
     "exception": false,
     "start_time": "2025-05-15T16:15:34.821208",
     "status": "completed"
    },
    "slideshow": {
     "slide_type": ""
    },
    "tags": [
     "parameters"
    ]
   },
   "outputs": [],
   "source": [
    "CELL_TYPE = 'pDC'\n",
    "N_GENES: int = 20\n",
    "SEED = 'shap_studyID' #'disease_NOstudy' 'study_NOdisease' or 'int' or 'shap_studyID'\n",
    "TEST_SPLIT_IDX: int = 1 #[0,4]"
   ]
  },
  {
   "cell_type": "code",
   "execution_count": 2,
   "id": "eaf59878",
   "metadata": {
    "execution": {
     "iopub.execute_input": "2025-05-15T16:15:34.852090Z",
     "iopub.status.busy": "2025-05-15T16:15:34.851871Z",
     "iopub.status.idle": "2025-05-15T16:15:34.854016Z",
     "shell.execute_reply": "2025-05-15T16:15:34.853715Z"
    },
    "papermill": {
     "duration": 0.016814,
     "end_time": "2025-05-15T16:15:34.854760",
     "exception": false,
     "start_time": "2025-05-15T16:15:34.837946",
     "status": "completed"
    },
    "tags": [
     "injected-parameters"
    ]
   },
   "outputs": [],
   "source": [
    "# Parameters\n",
    "CELL_TYPE = \"Plasma\"\n",
    "SEED = 9\n",
    "TEST_SPLIT_IDX = 3\n"
   ]
  },
  {
   "cell_type": "code",
   "execution_count": 3,
   "id": "589106ce",
   "metadata": {
    "execution": {
     "iopub.execute_input": "2025-05-15T16:15:34.866178Z",
     "iopub.status.busy": "2025-05-15T16:15:34.865963Z",
     "iopub.status.idle": "2025-05-15T16:15:34.868023Z",
     "shell.execute_reply": "2025-05-15T16:15:34.867715Z"
    },
    "papermill": {
     "duration": 0.00856,
     "end_time": "2025-05-15T16:15:34.868780",
     "exception": false,
     "start_time": "2025-05-15T16:15:34.860220",
     "status": "completed"
    },
    "tags": []
   },
   "outputs": [],
   "source": [
    "N_SPLITS: int = 5\n",
    "N_TRIALS: int = 50"
   ]
  },
  {
   "cell_type": "code",
   "execution_count": 4,
   "id": "c1d668c9",
   "metadata": {
    "execution": {
     "iopub.execute_input": "2025-05-15T16:15:34.881286Z",
     "iopub.status.busy": "2025-05-15T16:15:34.880879Z",
     "iopub.status.idle": "2025-05-15T16:15:36.283575Z",
     "shell.execute_reply": "2025-05-15T16:15:36.283118Z"
    },
    "papermill": {
     "duration": 1.410765,
     "end_time": "2025-05-15T16:15:36.284936",
     "exception": false,
     "start_time": "2025-05-15T16:15:34.874171",
     "status": "completed"
    },
    "tags": []
   },
   "outputs": [],
   "source": [
    "import os\n",
    "import sys\n",
    "from pyprojroot.here import here\n",
    "import pandas as pd\n",
    "import anndata as ad\n",
    "import numpy as np\n",
    "import math\n",
    "from sklearn.model_selection import StratifiedGroupKFold\n",
    "from sklearn.preprocessing import LabelEncoder\n",
    "from sklearn.metrics import f1_score\n",
    "import matplotlib.pyplot as plt\n",
    "import seaborn as sns\n",
    "from itertools import product\n",
    "from sklearn.metrics import balanced_accuracy_score, f1_score\n",
    "import optuna\n",
    "\n",
    "import joblib\n",
    "import pickle\n",
    "import datetime\n",
    "\n",
    "import collections\n",
    "\n",
    "import xgboost\n",
    "from sklearn.preprocessing import LabelEncoder\n",
    "\n",
    "import scipy.sparse as ssp\n",
    "import joblib\n",
    "\n",
    "from dotenv import load_dotenv"
   ]
  },
  {
   "cell_type": "code",
   "execution_count": 5,
   "id": "d8915525",
   "metadata": {
    "execution": {
     "iopub.execute_input": "2025-05-15T16:15:36.310677Z",
     "iopub.status.busy": "2025-05-15T16:15:36.310319Z",
     "iopub.status.idle": "2025-05-15T16:15:36.315702Z",
     "shell.execute_reply": "2025-05-15T16:15:36.315404Z"
    },
    "papermill": {
     "duration": 0.02524,
     "end_time": "2025-05-15T16:15:36.316497",
     "exception": false,
     "start_time": "2025-05-15T16:15:36.291257",
     "status": "completed"
    },
    "tags": []
   },
   "outputs": [
    {
     "data": {
      "text/plain": [
       "True"
      ]
     },
     "execution_count": 5,
     "metadata": {},
     "output_type": "execute_result"
    }
   ],
   "source": [
    "load_dotenv()"
   ]
  },
  {
   "cell_type": "markdown",
   "id": "11339d4e",
   "metadata": {
    "papermill": {
     "duration": 0.01753,
     "end_time": "2025-05-15T16:15:36.339208",
     "exception": false,
     "start_time": "2025-05-15T16:15:36.321678",
     "status": "completed"
    },
    "tags": []
   },
   "source": [
    "# LOAD DATASET"
   ]
  },
  {
   "cell_type": "code",
   "execution_count": 6,
   "id": "a2a72573",
   "metadata": {
    "execution": {
     "iopub.execute_input": "2025-05-15T16:15:36.406757Z",
     "iopub.status.busy": "2025-05-15T16:15:36.406560Z",
     "iopub.status.idle": "2025-05-15T16:15:36.445803Z",
     "shell.execute_reply": "2025-05-15T16:15:36.445350Z"
    },
    "papermill": {
     "duration": 0.101844,
     "end_time": "2025-05-15T16:15:36.446851",
     "exception": false,
     "start_time": "2025-05-15T16:15:36.345007",
     "status": "completed"
    },
    "tags": []
   },
   "outputs": [],
   "source": [
    "train_adata = ad.read_h5ad(\n",
    "    here(f'03_downstream_analysis/08_gene_importance/xgboost_external_validation/xgboost_TopN_genes/data_cellTypes/EXTERNAL_{CELL_TYPE}.filtered.log1p.h5ad')\n",
    ")"
   ]
  },
  {
   "cell_type": "code",
   "execution_count": 7,
   "id": "b4212986",
   "metadata": {
    "execution": {
     "iopub.execute_input": "2025-05-15T16:15:36.475518Z",
     "iopub.status.busy": "2025-05-15T16:15:36.475302Z",
     "iopub.status.idle": "2025-05-15T16:15:36.484750Z",
     "shell.execute_reply": "2025-05-15T16:15:36.484436Z"
    },
    "papermill": {
     "duration": 0.018934,
     "end_time": "2025-05-15T16:15:36.485561",
     "exception": false,
     "start_time": "2025-05-15T16:15:36.466627",
     "status": "completed"
    },
    "tags": []
   },
   "outputs": [
    {
     "name": "stdout",
     "output_type": "stream",
     "text": [
      "['ENSG00000168394' 'ENSG00000149311' 'ENSG00000143119' 'ENSG00000108774'\n",
      " 'ENSG00000275302' 'ENSG00000185201' 'ENSG00000185591' 'ENSG00000152495'\n",
      " 'ENSG00000197329' 'ENSG00000002586' 'ENSG00000005844' 'ENSG00000104312'\n",
      " 'ENSG00000131437' 'ENSG00000140968' 'ENSG00000186010' 'ENSG00000111640'\n",
      " 'ENSG00000147168' 'ENSG00000171223' 'ENSG00000137965' 'ENSG00000185436'\n",
      " 'ENSG00000168685' 'ENSG00000146457' 'ENSG00000145850' 'ENSG00000277791'\n",
      " 'ENSG00000168811' 'ENSG00000188404' 'ENSG00000156738' 'ENSG00000205220'\n",
      " 'ENSG00000244687' 'ENSG00000111335' 'ENSG00000167996' 'ENSG00000172543'\n",
      " 'ENSG00000167283' 'ENSG00000110395' 'ENSG00000132432' 'ENSG00000105373'\n",
      " 'ENSG00000121807' 'ENSG00000176533' 'ENSG00000179218' 'ENSG00000160888'\n",
      " 'ENSG00000082074' 'ENSG00000101096' 'ENSG00000153283' 'ENSG00000179144'\n",
      " 'ENSG00000071073' 'ENSG00000106367' 'ENSG00000228474' 'ENSG00000164136'\n",
      " 'ENSG00000075945' 'ENSG00000130429' 'ENSG00000139318' 'ENSG00000197111'\n",
      " 'ENSG00000117602' 'ENSG00000102265' 'ENSG00000113811' 'ENSG00000165280'\n",
      " 'ENSG00000100280' 'ENSG00000169564' 'ENSG00000162772' 'ENSG00000175567'\n",
      " 'ENSG00000081059' 'ENSG00000125743' 'ENSG00000132002' 'ENSG00000118503'\n",
      " 'ENSG00000158050' 'ENSG00000183696' 'ENSG00000171608' 'ENSG00000001167'\n",
      " 'ENSG00000108561' 'ENSG00000075426' 'ENSG00000197872' 'ENSG00000160075'\n",
      " 'ENSG00000145247' 'ENSG00000138802' 'ENSG00000170476' 'ENSG00000167004'\n",
      " 'ENSG00000178562' 'ENSG00000105583' 'ENSG00000163191' 'ENSG00000175104'\n",
      " 'ENSG00000103490' 'ENSG00000160932' 'ENSG00000092820' 'ENSG00000048462'\n",
      " 'ENSG00000051382' 'ENSG00000121858' 'ENSG00000175390' 'ENSG00000110077'\n",
      " 'ENSG00000115875' 'ENSG00000178719' 'ENSG00000171700' 'ENSG00000143761'\n",
      " 'ENSG00000127951' 'ENSG00000139514' 'ENSG00000011590' 'ENSG00000197249'\n",
      " 'ENSG00000117523' 'ENSG00000127152' 'ENSG00000155368' 'ENSG00000135968'\n",
      " 'ENSG00000090863' 'ENSG00000142089' 'ENSG00000177721' 'ENSG00000096996'\n",
      " 'ENSG00000140564' 'ENSG00000077984' 'ENSG00000059728']\n"
     ]
    }
   ],
   "source": [
    "if SEED != 'all':\n",
    "    gene_subset = np.load(here(f'03_downstream_analysis/08_gene_importance/xgboost_external_validation/shap_gene_selection/gene_subsets_{N_GENES}/{CELL_TYPE}_{SEED}.npy'), allow_pickle=True)\n",
    "    train_adata = train_adata[:,gene_subset]\n",
    "    print(gene_subset)\n",
    "elif SEED == 'all':\n",
    "    print('Using all genes')\n",
    "else:\n",
    "    raise ValueError()"
   ]
  },
  {
   "cell_type": "code",
   "execution_count": 8,
   "id": "f0eb901b",
   "metadata": {
    "execution": {
     "iopub.execute_input": "2025-05-15T16:15:36.497999Z",
     "iopub.status.busy": "2025-05-15T16:15:36.497685Z",
     "iopub.status.idle": "2025-05-15T16:15:36.500779Z",
     "shell.execute_reply": "2025-05-15T16:15:36.500490Z"
    },
    "papermill": {
     "duration": 0.010262,
     "end_time": "2025-05-15T16:15:36.501623",
     "exception": false,
     "start_time": "2025-05-15T16:15:36.491361",
     "status": "completed"
    },
    "tags": []
   },
   "outputs": [
    {
     "data": {
      "text/plain": [
       "(542, 107)"
      ]
     },
     "execution_count": 8,
     "metadata": {},
     "output_type": "execute_result"
    }
   ],
   "source": [
    "train_adata.shape"
   ]
  },
  {
   "cell_type": "code",
   "execution_count": 9,
   "id": "456445c0",
   "metadata": {
    "execution": {
     "iopub.execute_input": "2025-05-15T16:15:36.532484Z",
     "iopub.status.busy": "2025-05-15T16:15:36.532105Z",
     "iopub.status.idle": "2025-05-15T16:15:36.536077Z",
     "shell.execute_reply": "2025-05-15T16:15:36.535744Z"
    },
    "papermill": {
     "duration": 0.016144,
     "end_time": "2025-05-15T16:15:36.536937",
     "exception": false,
     "start_time": "2025-05-15T16:15:36.520793",
     "status": "completed"
    },
    "tags": []
   },
   "outputs": [
    {
     "data": {
      "text/plain": [
       "['RA', 'COVID', 'healthy', 'HIV', 'cirrhosis', 'CD', 'SLE', 'sepsis']\n",
       "Categories (8, object): ['CD', 'COVID', 'HIV', 'RA', 'SLE', 'cirrhosis', 'healthy', 'sepsis']"
      ]
     },
     "execution_count": 9,
     "metadata": {},
     "output_type": "execute_result"
    }
   ],
   "source": [
    "train_adata.obs.disease.unique()"
   ]
  },
  {
   "cell_type": "code",
   "execution_count": 10,
   "id": "6f0b5e36",
   "metadata": {
    "execution": {
     "iopub.execute_input": "2025-05-15T16:15:36.549138Z",
     "iopub.status.busy": "2025-05-15T16:15:36.548936Z",
     "iopub.status.idle": "2025-05-15T16:15:36.552791Z",
     "shell.execute_reply": "2025-05-15T16:15:36.552507Z"
    },
    "papermill": {
     "duration": 0.011052,
     "end_time": "2025-05-15T16:15:36.553627",
     "exception": false,
     "start_time": "2025-05-15T16:15:36.542575",
     "status": "completed"
    },
    "tags": []
   },
   "outputs": [
    {
     "data": {
      "text/plain": [
       "['SCGT00val_I0364_T0', 'SCGT00val_I036019_T0', 'SCGT00val_I036028_T0', 'SCGT00val_I036024_T0', 'SCGT00val_I036016_T0', ..., '10XGenomics_10XHC2_T0', '10XGenomics_10XHC3_T0', '10XGenomics_10XHC5_T0', '10XGenomics_10XHC7_T0', '10XGenomics_10XHC8_T0']\n",
       "Length: 74\n",
       "Categories (74, object): ['10XGenomics_10XHC1_T0', '10XGenomics_10XHC2_T0', '10XGenomics_10XHC3_T0', '10XGenomics_10XHC4_T0', ..., 'Savage2021_BRISL6_T0', 'Savage2021_BRISL7_T0', 'Savage2021_PIDA_T0', 'Savage2021_PIDB_T0']"
      ]
     },
     "execution_count": 10,
     "metadata": {},
     "output_type": "execute_result"
    }
   ],
   "source": [
    "train_adata.obs.sampleID.unique()"
   ]
  },
  {
   "cell_type": "code",
   "execution_count": 11,
   "id": "0019421e",
   "metadata": {
    "execution": {
     "iopub.execute_input": "2025-05-15T16:15:36.565926Z",
     "iopub.status.busy": "2025-05-15T16:15:36.565623Z",
     "iopub.status.idle": "2025-05-15T16:15:36.593893Z",
     "shell.execute_reply": "2025-05-15T16:15:36.593530Z"
    },
    "papermill": {
     "duration": 0.035291,
     "end_time": "2025-05-15T16:15:36.594808",
     "exception": false,
     "start_time": "2025-05-15T16:15:36.559517",
     "status": "completed"
    },
    "tags": []
   },
   "outputs": [],
   "source": [
    "all_idxs = np.arange(train_adata.obs.shape[0])\n",
    "left_out_splits = [s[1] for s in StratifiedGroupKFold(n_splits=N_SPLITS).split(all_idxs, train_adata.obs.disease, train_adata.obs.sampleID)]"
   ]
  },
  {
   "cell_type": "code",
   "execution_count": 12,
   "id": "cf87ace2",
   "metadata": {
    "execution": {
     "iopub.execute_input": "2025-05-15T16:15:36.608203Z",
     "iopub.status.busy": "2025-05-15T16:15:36.607969Z",
     "iopub.status.idle": "2025-05-15T16:15:36.611337Z",
     "shell.execute_reply": "2025-05-15T16:15:36.611046Z"
    },
    "papermill": {
     "duration": 0.01066,
     "end_time": "2025-05-15T16:15:36.612141",
     "exception": false,
     "start_time": "2025-05-15T16:15:36.601481",
     "status": "completed"
    },
    "tags": []
   },
   "outputs": [
    {
     "data": {
      "text/plain": [
       "([0, 1, 2], 4, 3)"
      ]
     },
     "execution_count": 12,
     "metadata": {},
     "output_type": "execute_result"
    }
   ],
   "source": [
    "TRAIN_SPLIT_IDXS = [0,1,2,3,4]\n",
    "VAL_SPLIT_IDX = (TEST_SPLIT_IDX + 1) % 5\n",
    "TRAIN_SPLIT_IDXS.remove(TEST_SPLIT_IDX)\n",
    "TRAIN_SPLIT_IDXS.remove(VAL_SPLIT_IDX)\n",
    "TRAIN_SPLIT_IDXS, VAL_SPLIT_IDX, TEST_SPLIT_IDX"
   ]
  },
  {
   "cell_type": "code",
   "execution_count": 13,
   "id": "e4316357",
   "metadata": {
    "execution": {
     "iopub.execute_input": "2025-05-15T16:15:36.624854Z",
     "iopub.status.busy": "2025-05-15T16:15:36.624665Z",
     "iopub.status.idle": "2025-05-15T16:15:36.627108Z",
     "shell.execute_reply": "2025-05-15T16:15:36.626808Z"
    },
    "papermill": {
     "duration": 0.010052,
     "end_time": "2025-05-15T16:15:36.627872",
     "exception": false,
     "start_time": "2025-05-15T16:15:36.617820",
     "status": "completed"
    },
    "tags": []
   },
   "outputs": [],
   "source": [
    "train_idxs = np.concatenate([left_out_splits[idx] for idx in TRAIN_SPLIT_IDXS])\n",
    "val_idxs = left_out_splits[VAL_SPLIT_IDX]\n",
    "test_idxs = left_out_splits[TEST_SPLIT_IDX]"
   ]
  },
  {
   "cell_type": "markdown",
   "id": "da64e211",
   "metadata": {
    "papermill": {
     "duration": 0.005808,
     "end_time": "2025-05-15T16:15:36.639461",
     "exception": false,
     "start_time": "2025-05-15T16:15:36.633653",
     "status": "completed"
    },
    "tags": []
   },
   "source": [
    "### SUBSET DATASET INTO TRAIN/TEST/VAL SPLITS"
   ]
  },
  {
   "cell_type": "code",
   "execution_count": 14,
   "id": "8e23679d",
   "metadata": {
    "execution": {
     "iopub.execute_input": "2025-05-15T16:15:36.652038Z",
     "iopub.status.busy": "2025-05-15T16:15:36.651784Z",
     "iopub.status.idle": "2025-05-15T16:15:36.658079Z",
     "shell.execute_reply": "2025-05-15T16:15:36.657766Z"
    },
    "papermill": {
     "duration": 0.01362,
     "end_time": "2025-05-15T16:15:36.658872",
     "exception": false,
     "start_time": "2025-05-15T16:15:36.645252",
     "status": "completed"
    },
    "tags": []
   },
   "outputs": [
    {
     "data": {
      "text/plain": [
       "((327, 107), (99, 107), (116, 107))"
      ]
     },
     "execution_count": 14,
     "metadata": {},
     "output_type": "execute_result"
    }
   ],
   "source": [
    "X_train = train_adata.X[train_idxs]\n",
    "X_test = train_adata.X[test_idxs]\n",
    "X_val = train_adata.X[val_idxs]\n",
    "X_train.shape, X_test.shape, X_val.shape"
   ]
  },
  {
   "cell_type": "code",
   "execution_count": 15,
   "id": "2371d8f6",
   "metadata": {
    "execution": {
     "iopub.execute_input": "2025-05-15T16:15:36.671892Z",
     "iopub.status.busy": "2025-05-15T16:15:36.671696Z",
     "iopub.status.idle": "2025-05-15T16:15:36.676608Z",
     "shell.execute_reply": "2025-05-15T16:15:36.676316Z"
    },
    "papermill": {
     "duration": 0.011936,
     "end_time": "2025-05-15T16:15:36.677400",
     "exception": false,
     "start_time": "2025-05-15T16:15:36.665464",
     "status": "completed"
    },
    "tags": []
   },
   "outputs": [
    {
     "data": {
      "text/plain": [
       "((327,), (99,), (116,))"
      ]
     },
     "execution_count": 15,
     "metadata": {},
     "output_type": "execute_result"
    }
   ],
   "source": [
    "y_train = train_adata.obs.iloc[train_idxs].disease.values.astype(str)\n",
    "y_test = train_adata.obs.iloc[test_idxs].disease.values.astype(str)\n",
    "y_val = train_adata.obs.iloc[val_idxs].disease.values.astype(str)\n",
    "y_train.shape, y_test.shape, y_val.shape"
   ]
  },
  {
   "cell_type": "code",
   "execution_count": 16,
   "id": "c74e8962",
   "metadata": {
    "execution": {
     "iopub.execute_input": "2025-05-15T16:15:36.689857Z",
     "iopub.status.busy": "2025-05-15T16:15:36.689525Z",
     "iopub.status.idle": "2025-05-15T16:15:36.692537Z",
     "shell.execute_reply": "2025-05-15T16:15:36.692243Z"
    },
    "papermill": {
     "duration": 0.010308,
     "end_time": "2025-05-15T16:15:36.693471",
     "exception": false,
     "start_time": "2025-05-15T16:15:36.683163",
     "status": "completed"
    },
    "tags": []
   },
   "outputs": [],
   "source": [
    "lenc = LabelEncoder()\n",
    "y_train_enc = lenc.fit_transform(y_train)\n",
    "y_val_enc = lenc.transform(y_val)\n",
    "y_test_enc = lenc.transform(y_test)"
   ]
  },
  {
   "cell_type": "markdown",
   "id": "dac5a632",
   "metadata": {
    "papermill": {
     "duration": 0.006267,
     "end_time": "2025-05-15T16:15:36.706652",
     "exception": false,
     "start_time": "2025-05-15T16:15:36.700385",
     "status": "completed"
    },
    "tags": []
   },
   "source": [
    "### GENERATE F1 "
   ]
  },
  {
   "cell_type": "code",
   "execution_count": 17,
   "id": "cbd41159",
   "metadata": {
    "execution": {
     "iopub.execute_input": "2025-05-15T16:15:36.720208Z",
     "iopub.status.busy": "2025-05-15T16:15:36.719944Z",
     "iopub.status.idle": "2025-05-15T16:15:36.722337Z",
     "shell.execute_reply": "2025-05-15T16:15:36.722048Z"
    },
    "papermill": {
     "duration": 0.010094,
     "end_time": "2025-05-15T16:15:36.723158",
     "exception": false,
     "start_time": "2025-05-15T16:15:36.713064",
     "status": "completed"
    },
    "tags": []
   },
   "outputs": [],
   "source": [
    "def custom_f1_score(y_true, y_pred):\n",
    "    return -f1_score(y_true, y_pred.argmax(1), average='weighted')"
   ]
  },
  {
   "cell_type": "code",
   "execution_count": 18,
   "id": "d73397af",
   "metadata": {
    "execution": {
     "iopub.execute_input": "2025-05-15T16:15:36.757426Z",
     "iopub.status.busy": "2025-05-15T16:15:36.756958Z",
     "iopub.status.idle": "2025-05-15T16:15:36.761270Z",
     "shell.execute_reply": "2025-05-15T16:15:36.760890Z"
    },
    "papermill": {
     "duration": 0.032136,
     "end_time": "2025-05-15T16:15:36.762117",
     "exception": false,
     "start_time": "2025-05-15T16:15:36.729981",
     "status": "completed"
    },
    "tags": []
   },
   "outputs": [],
   "source": [
    "eval_metric=custom_f1_score\n",
    "eval_metric_name='custom_f1_score'\n",
    "\n",
    "def objective(trial):\n",
    "    params = {\n",
    "        'n_estimators': 1500,\n",
    "        'max_depth': trial.suggest_int('max_depth', 3, 20),\n",
    "        'min_child_weight': trial.suggest_int('min_child_weight', 1, 250),\n",
    "        'subsample': trial.suggest_float('subsample', 0.1, 1.0),\n",
    "        'colsample_bynode': trial.suggest_float('colsample_bynode', 0.1, 1.0),\n",
    "        'learning_rate': trial.suggest_float('learning_rate', 1e-3, 5e-1, log=True),\n",
    "    }\n",
    "    pruning_callback = optuna.integration.XGBoostPruningCallback(trial, f'validation_0-{eval_metric_name}')\n",
    "    es_callback = xgboost.callback.EarlyStopping(20, min_delta=0.001)\n",
    "    xgb = xgboost.XGBClassifier(\n",
    "        eval_metric=eval_metric,\n",
    "        callbacks=[pruning_callback, es_callback],\n",
    "        n_jobs=5,\n",
    "        **params\n",
    "    )\n",
    "    xgb.fit(\n",
    "        X_train, \n",
    "        y_train_enc, \n",
    "        verbose=0,\n",
    "        eval_set=[(X_val, y_val_enc)],\n",
    "    )\n",
    "    trial.set_user_attr('best_iteration', xgb.best_iteration)\n",
    "\n",
    "    return xgb.best_score"
   ]
  },
  {
   "cell_type": "code",
   "execution_count": 19,
   "id": "f066f5f2",
   "metadata": {
    "execution": {
     "iopub.execute_input": "2025-05-15T16:15:36.802001Z",
     "iopub.status.busy": "2025-05-15T16:15:36.801731Z",
     "iopub.status.idle": "2025-05-15T16:15:46.948948Z",
     "shell.execute_reply": "2025-05-15T16:15:46.948480Z"
    },
    "papermill": {
     "duration": 10.155982,
     "end_time": "2025-05-15T16:15:46.950011",
     "exception": false,
     "start_time": "2025-05-15T16:15:36.794029",
     "status": "completed"
    },
    "scrolled": true,
    "tags": []
   },
   "outputs": [
    {
     "name": "stderr",
     "output_type": "stream",
     "text": [
      "[I 2025-05-15 18:15:36,803] A new study created in memory with name: no-name-17f4ce5c-8c81-4a37-a852-abf4f79e18c0\n"
     ]
    },
    {
     "name": "stderr",
     "output_type": "stream",
     "text": [
      "[I 2025-05-15 18:15:36,912] Trial 0 finished with value: -0.041688 and parameters: {'max_depth': 9, 'min_child_weight': 238, 'subsample': 0.7587945476302645, 'colsample_bynode': 0.6387926357773329, 'learning_rate': 0.0026368755339723046}. Best is trial 0 with value: -0.041688.\n"
     ]
    },
    {
     "name": "stderr",
     "output_type": "stream",
     "text": [
      "[I 2025-05-15 18:15:37,134] Trial 1 finished with value: -0.508958 and parameters: {'max_depth': 5, 'min_child_weight': 15, 'subsample': 0.8795585311974417, 'colsample_bynode': 0.6410035105688879, 'learning_rate': 0.08148293210105287}. Best is trial 1 with value: -0.508958.\n"
     ]
    },
    {
     "name": "stderr",
     "output_type": "stream",
     "text": [
      "[I 2025-05-15 18:15:37,281] Trial 2 finished with value: -0.041688 and parameters: {'max_depth': 3, 'min_child_weight': 243, 'subsample': 0.8491983767203796, 'colsample_bynode': 0.29110519961044856, 'learning_rate': 0.003095566460242371}. Best is trial 1 with value: -0.508958.\n"
     ]
    },
    {
     "name": "stderr",
     "output_type": "stream",
     "text": [
      "[I 2025-05-15 18:15:37,429] Trial 3 finished with value: -0.041688 and parameters: {'max_depth': 6, 'min_child_weight': 77, 'subsample': 0.5722807884690141, 'colsample_bynode': 0.48875051677790415, 'learning_rate': 0.006109683510122491}. Best is trial 1 with value: -0.508958.\n"
     ]
    },
    {
     "name": "stderr",
     "output_type": "stream",
     "text": [
      "[I 2025-05-15 18:15:37,578] Trial 4 finished with value: -0.041688 and parameters: {'max_depth': 14, 'min_child_weight': 35, 'subsample': 0.3629301836816964, 'colsample_bynode': 0.4297256589643226, 'learning_rate': 0.01701841881702917}. Best is trial 1 with value: -0.508958.\n"
     ]
    },
    {
     "name": "stderr",
     "output_type": "stream",
     "text": [
      "[I 2025-05-15 18:15:37,729] Trial 5 finished with value: -0.041688 and parameters: {'max_depth': 17, 'min_child_weight': 50, 'subsample': 0.5628109945722505, 'colsample_bynode': 0.6331731119758383, 'learning_rate': 0.0013346527038305934}. Best is trial 1 with value: -0.508958.\n"
     ]
    },
    {
     "name": "stderr",
     "output_type": "stream",
     "text": [
      "[I 2025-05-15 18:15:37,881] Trial 6 finished with value: -0.041688 and parameters: {'max_depth': 13, 'min_child_weight': 43, 'subsample': 0.1585464336867516, 'colsample_bynode': 0.9539969835279999, 'learning_rate': 0.4038423798071558}. Best is trial 1 with value: -0.508958.\n"
     ]
    },
    {
     "name": "stderr",
     "output_type": "stream",
     "text": [
      "[I 2025-05-15 18:15:38,037] Trial 7 finished with value: -0.041688 and parameters: {'max_depth': 17, 'min_child_weight': 77, 'subsample': 0.1879049026057455, 'colsample_bynode': 0.7158097238609412, 'learning_rate': 0.015415527060141935}. Best is trial 1 with value: -0.508958.\n"
     ]
    },
    {
     "name": "stderr",
     "output_type": "stream",
     "text": [
      "[I 2025-05-15 18:15:38,196] Trial 8 finished with value: -0.041688 and parameters: {'max_depth': 5, 'min_child_weight': 124, 'subsample': 0.13094966900369656, 'colsample_bynode': 0.9183883618709039, 'learning_rate': 0.004993895014755658}. Best is trial 1 with value: -0.508958.\n"
     ]
    },
    {
     "name": "stderr",
     "output_type": "stream",
     "text": [
      "[I 2025-05-15 18:15:38,372] Trial 9 finished with value: -0.041688 and parameters: {'max_depth': 14, 'min_child_weight': 78, 'subsample': 0.5680612190600297, 'colsample_bynode': 0.5920392514089517, 'learning_rate': 0.0031543990308330965}. Best is trial 1 with value: -0.508958.\n"
     ]
    },
    {
     "name": "stderr",
     "output_type": "stream",
     "text": [
      "[I 2025-05-15 18:15:38,907] Trial 10 finished with value: -0.636595 and parameters: {'max_depth': 9, 'min_child_weight': 2, 'subsample': 0.9725833997090791, 'colsample_bynode': 0.11616568805333755, 'learning_rate': 0.17780618353487967}. Best is trial 10 with value: -0.636595.\n"
     ]
    },
    {
     "name": "stderr",
     "output_type": "stream",
     "text": [
      "[I 2025-05-15 18:15:39,228] Trial 11 pruned. Trial was pruned at iteration 22.\n"
     ]
    },
    {
     "name": "stderr",
     "output_type": "stream",
     "text": [
      "[I 2025-05-15 18:15:39,530] Trial 12 pruned. Trial was pruned at iteration 22.\n"
     ]
    },
    {
     "name": "stderr",
     "output_type": "stream",
     "text": [
      "[I 2025-05-15 18:15:39,712] Trial 13 finished with value: -0.041688 and parameters: {'max_depth': 6, 'min_child_weight': 173, 'subsample': 0.790863397930712, 'colsample_bynode': 0.8100137258468498, 'learning_rate': 0.09009490635410385}. Best is trial 10 with value: -0.636595.\n"
     ]
    },
    {
     "name": "stderr",
     "output_type": "stream",
     "text": [
      "[I 2025-05-15 18:15:39,888] Trial 14 finished with value: -0.041688 and parameters: {'max_depth': 11, 'min_child_weight': 132, 'subsample': 0.8756857866758896, 'colsample_bynode': 0.37234427067556525, 'learning_rate': 0.33580116263734355}. Best is trial 10 with value: -0.636595.\n"
     ]
    },
    {
     "name": "stderr",
     "output_type": "stream",
     "text": [
      "[I 2025-05-15 18:15:40,250] Trial 15 pruned. Trial was pruned at iteration 21.\n"
     ]
    },
    {
     "name": "stderr",
     "output_type": "stream",
     "text": [
      "[I 2025-05-15 18:15:40,419] Trial 16 finished with value: -0.041688 and parameters: {'max_depth': 3, 'min_child_weight': 117, 'subsample': 0.6850154210962394, 'colsample_bynode': 0.7696944218640787, 'learning_rate': 0.18961687234093502}. Best is trial 10 with value: -0.636595.\n"
     ]
    },
    {
     "name": "stderr",
     "output_type": "stream",
     "text": [
      "[I 2025-05-15 18:15:40,581] Trial 17 finished with value: -0.041688 and parameters: {'max_depth': 7, 'min_child_weight': 183, 'subsample': 0.42926887230238714, 'colsample_bynode': 0.515903282561015, 'learning_rate': 0.03429743867756372}. Best is trial 10 with value: -0.636595.\n"
     ]
    },
    {
     "name": "stderr",
     "output_type": "stream",
     "text": [
      "[I 2025-05-15 18:15:40,757] Trial 18 pruned. Trial was pruned at iteration 21.\n"
     ]
    },
    {
     "name": "stderr",
     "output_type": "stream",
     "text": [
      "[I 2025-05-15 18:15:40,930] Trial 19 finished with value: -0.041688 and parameters: {'max_depth': 4, 'min_child_weight': 96, 'subsample': 0.6937203157540224, 'colsample_bynode': 0.10989027031939402, 'learning_rate': 0.0506827706601686}. Best is trial 10 with value: -0.636595.\n"
     ]
    },
    {
     "name": "stderr",
     "output_type": "stream",
     "text": [
      "[I 2025-05-15 18:15:41,143] Trial 20 pruned. Trial was pruned at iteration 22.\n"
     ]
    },
    {
     "name": "stderr",
     "output_type": "stream",
     "text": [
      "[I 2025-05-15 18:15:41,323] Trial 21 finished with value: -0.041688 and parameters: {'max_depth': 8, 'min_child_weight': 235, 'subsample': 0.819134819511958, 'colsample_bynode': 0.6663957994268338, 'learning_rate': 0.059063256824729765}. Best is trial 10 with value: -0.636595.\n"
     ]
    },
    {
     "name": "stderr",
     "output_type": "stream",
     "text": [
      "[I 2025-05-15 18:15:41,494] Trial 22 finished with value: -0.041688 and parameters: {'max_depth': 11, 'min_child_weight': 210, 'subsample': 0.7489320631856256, 'colsample_bynode': 0.5421132319615449, 'learning_rate': 0.0010969885143711678}. Best is trial 10 with value: -0.636595.\n"
     ]
    },
    {
     "name": "stderr",
     "output_type": "stream",
     "text": [
      "[I 2025-05-15 18:15:41,671] Trial 23 finished with value: -0.041688 and parameters: {'max_depth': 9, 'min_child_weight': 155, 'subsample': 0.9080768114991447, 'colsample_bynode': 0.7216553162496422, 'learning_rate': 0.009396099717389856}. Best is trial 10 with value: -0.636595.\n"
     ]
    },
    {
     "name": "stderr",
     "output_type": "stream",
     "text": [
      "[I 2025-05-15 18:15:41,837] Trial 24 finished with value: -0.041688 and parameters: {'max_depth': 5, 'min_child_weight': 208, 'subsample': 0.7569125565135284, 'colsample_bynode': 0.4246112773050008, 'learning_rate': 0.030617548856419777}. Best is trial 10 with value: -0.636595.\n"
     ]
    },
    {
     "name": "stderr",
     "output_type": "stream",
     "text": [
      "[I 2025-05-15 18:15:42,015] Trial 25 finished with value: -0.119292 and parameters: {'max_depth': 10, 'min_child_weight': 62, 'subsample': 0.9133372840349652, 'colsample_bynode': 0.6202006285495548, 'learning_rate': 0.29347010236640836}. Best is trial 10 with value: -0.636595.\n"
     ]
    },
    {
     "name": "stderr",
     "output_type": "stream",
     "text": [
      "[I 2025-05-15 18:15:42,199] Trial 26 pruned. Trial was pruned at iteration 21.\n"
     ]
    },
    {
     "name": "stderr",
     "output_type": "stream",
     "text": [
      "[I 2025-05-15 18:15:42,426] Trial 27 pruned. Trial was pruned at iteration 21.\n"
     ]
    },
    {
     "name": "stderr",
     "output_type": "stream",
     "text": [
      "[I 2025-05-15 18:15:42,607] Trial 28 pruned. Trial was pruned at iteration 21.\n"
     ]
    },
    {
     "name": "stderr",
     "output_type": "stream",
     "text": [
      "[I 2025-05-15 18:15:42,790] Trial 29 finished with value: -0.041688 and parameters: {'max_depth': 16, 'min_child_weight': 57, 'subsample': 0.6498477988200816, 'colsample_bynode': 0.7180965005267325, 'learning_rate': 0.14874675508762747}. Best is trial 10 with value: -0.636595.\n"
     ]
    },
    {
     "name": "stderr",
     "output_type": "stream",
     "text": [
      "[I 2025-05-15 18:15:42,959] Trial 30 finished with value: -0.041688 and parameters: {'max_depth': 7, 'min_child_weight': 103, 'subsample': 0.8472371999602837, 'colsample_bynode': 0.6391533632204868, 'learning_rate': 0.27484602876738223}. Best is trial 10 with value: -0.636595.\n"
     ]
    },
    {
     "name": "stderr",
     "output_type": "stream",
     "text": [
      "[I 2025-05-15 18:15:43,138] Trial 31 finished with value: -0.041688 and parameters: {'max_depth': 10, 'min_child_weight': 241, 'subsample': 0.8370976109167042, 'colsample_bynode': 0.7959687797162784, 'learning_rate': 0.06570954972869057}. Best is trial 10 with value: -0.636595.\n"
     ]
    },
    {
     "name": "stderr",
     "output_type": "stream",
     "text": [
      "[I 2025-05-15 18:15:43,328] Trial 32 finished with value: -0.041688 and parameters: {'max_depth': 13, 'min_child_weight': 148, 'subsample': 0.7798237268699246, 'colsample_bynode': 0.5960663407589799, 'learning_rate': 0.008713612080024363}. Best is trial 10 with value: -0.636595.\n"
     ]
    },
    {
     "name": "stderr",
     "output_type": "stream",
     "text": [
      "[I 2025-05-15 18:15:43,552] Trial 33 pruned. Trial was pruned at iteration 21.\n"
     ]
    },
    {
     "name": "stderr",
     "output_type": "stream",
     "text": [
      "[I 2025-05-15 18:15:43,750] Trial 34 finished with value: -0.119292 and parameters: {'max_depth': 8, 'min_child_weight': 63, 'subsample': 0.9417872945593218, 'colsample_bynode': 0.5109468139445071, 'learning_rate': 0.022223443343363427}. Best is trial 10 with value: -0.636595.\n"
     ]
    },
    {
     "name": "stderr",
     "output_type": "stream",
     "text": [
      "[I 2025-05-15 18:15:43,942] Trial 35 finished with value: -0.119292 and parameters: {'max_depth': 6, 'min_child_weight': 67, 'subsample': 0.9500661381661449, 'colsample_bynode': 0.25072413858209075, 'learning_rate': 0.020100261632100224}. Best is trial 10 with value: -0.636595.\n"
     ]
    },
    {
     "name": "stderr",
     "output_type": "stream",
     "text": [
      "[I 2025-05-15 18:15:44,144] Trial 36 finished with value: -0.041688 and parameters: {'max_depth': 10, 'min_child_weight': 97, 'subsample': 0.2547641867017203, 'colsample_bynode': 0.48430543346464466, 'learning_rate': 0.011524804361732173}. Best is trial 10 with value: -0.636595.\n"
     ]
    },
    {
     "name": "stderr",
     "output_type": "stream",
     "text": [
      "[I 2025-05-15 18:15:44,337] Trial 37 finished with value: -0.119292 and parameters: {'max_depth': 8, 'min_child_weight': 41, 'subsample': 0.8743965514726757, 'colsample_bynode': 0.3434381491520978, 'learning_rate': 0.026751537375625703}. Best is trial 10 with value: -0.636595.\n"
     ]
    },
    {
     "name": "stderr",
     "output_type": "stream",
     "text": [
      "[I 2025-05-15 18:15:44,534] Trial 38 finished with value: -0.041688 and parameters: {'max_depth': 3, 'min_child_weight': 81, 'subsample': 0.6208245469001937, 'colsample_bynode': 0.859640954352695, 'learning_rate': 0.04632214427809711}. Best is trial 10 with value: -0.636595.\n"
     ]
    },
    {
     "name": "stderr",
     "output_type": "stream",
     "text": [
      "[I 2025-05-15 18:15:44,750] Trial 39 pruned. Trial was pruned at iteration 21.\n"
     ]
    },
    {
     "name": "stderr",
     "output_type": "stream",
     "text": [
      "[I 2025-05-15 18:15:44,935] Trial 40 pruned. Trial was pruned at iteration 21.\n"
     ]
    },
    {
     "name": "stderr",
     "output_type": "stream",
     "text": [
      "[I 2025-05-15 18:15:45,125] Trial 41 finished with value: -0.119292 and parameters: {'max_depth': 6, 'min_child_weight': 67, 'subsample': 0.9423191046404069, 'colsample_bynode': 0.20655826403236288, 'learning_rate': 0.01910153132364977}. Best is trial 10 with value: -0.636595.\n"
     ]
    },
    {
     "name": "stderr",
     "output_type": "stream",
     "text": [
      "[I 2025-05-15 18:15:45,326] Trial 42 pruned. Trial was pruned at iteration 21.\n"
     ]
    },
    {
     "name": "stderr",
     "output_type": "stream",
     "text": [
      "[I 2025-05-15 18:15:45,513] Trial 43 finished with value: -0.041688 and parameters: {'max_depth': 6, 'min_child_weight': 90, 'subsample': 0.9939481827490337, 'colsample_bynode': 0.21670581822118465, 'learning_rate': 0.0071001303372982}. Best is trial 10 with value: -0.636595.\n"
     ]
    },
    {
     "name": "stderr",
     "output_type": "stream",
     "text": [
      "[I 2025-05-15 18:15:45,694] Trial 44 finished with value: -0.041688 and parameters: {'max_depth': 9, 'min_child_weight': 65, 'subsample': 0.8024600356483922, 'colsample_bynode': 0.2758001566849375, 'learning_rate': 0.01798024274012293}. Best is trial 10 with value: -0.636595.\n"
     ]
    },
    {
     "name": "stderr",
     "output_type": "stream",
     "text": [
      "[I 2025-05-15 18:15:45,933] Trial 45 finished with value: -0.483572 and parameters: {'max_depth': 4, 'min_child_weight': 9, 'subsample': 0.8896903232324478, 'colsample_bynode': 0.18910948448664705, 'learning_rate': 0.004449453506069732}. Best is trial 10 with value: -0.636595.\n"
     ]
    },
    {
     "name": "stderr",
     "output_type": "stream",
     "text": [
      "[I 2025-05-15 18:15:46,151] Trial 46 pruned. Trial was pruned at iteration 21.\n"
     ]
    },
    {
     "name": "stderr",
     "output_type": "stream",
     "text": [
      "[I 2025-05-15 18:15:46,336] Trial 47 finished with value: -0.119292 and parameters: {'max_depth': 5, 'min_child_weight': 31, 'subsample': 0.7307768670639576, 'colsample_bynode': 0.625338558887017, 'learning_rate': 0.003052966653681587}. Best is trial 10 with value: -0.636595.\n"
     ]
    },
    {
     "name": "stderr",
     "output_type": "stream",
     "text": [
      "[I 2025-05-15 18:15:46,519] Trial 48 finished with value: -0.119292 and parameters: {'max_depth': 8, 'min_child_weight': 48, 'subsample': 0.8927536805659729, 'colsample_bynode': 0.7525513825721208, 'learning_rate': 0.0020071328140033582}. Best is trial 10 with value: -0.636595.\n"
     ]
    },
    {
     "name": "stderr",
     "output_type": "stream",
     "text": [
      "[I 2025-05-15 18:15:46,845] Trial 49 finished with value: -0.654535 and parameters: {'max_depth': 3, 'min_child_weight': 10, 'subsample': 0.7996625849781659, 'colsample_bynode': 0.6845525266584821, 'learning_rate': 0.3464255508568426}. Best is trial 49 with value: -0.654535.\n"
     ]
    }
   ],
   "source": [
    "sampler = optuna.samplers.TPESampler(seed=42)\n",
    "study = optuna.create_study(direction='minimize', sampler=sampler)\n",
    "study.optimize(objective, n_trials=N_TRIALS, gc_after_trial=True)"
   ]
  },
  {
   "cell_type": "code",
   "execution_count": 20,
   "id": "c584aa8c",
   "metadata": {
    "execution": {
     "iopub.execute_input": "2025-05-15T16:15:46.970243Z",
     "iopub.status.busy": "2025-05-15T16:15:46.970020Z",
     "iopub.status.idle": "2025-05-15T16:15:46.991095Z",
     "shell.execute_reply": "2025-05-15T16:15:46.990759Z"
    },
    "papermill": {
     "duration": 0.031821,
     "end_time": "2025-05-15T16:15:46.992076",
     "exception": false,
     "start_time": "2025-05-15T16:15:46.960255",
     "status": "completed"
    },
    "tags": []
   },
   "outputs": [
    {
     "data": {
      "text/plain": [
       "['/scratch_isilon/groups/singlecell/shared/projects/Inflammation-PBMCs-Atlas/03_downstream_analysis/08_gene_importance/xgboost_external_validation/xgboost_TopN_genes/results_20/study/Plasma_9_3_xgboost.pkl']"
      ]
     },
     "execution_count": 20,
     "metadata": {},
     "output_type": "execute_result"
    }
   ],
   "source": [
    "out_dir = here(f'03_downstream_analysis/08_gene_importance/xgboost_external_validation/xgboost_TopN_genes/results_{N_GENES}/study')\n",
    "\n",
    "if not os.path.exists(out_dir):\n",
    "    os.makedirs(out_dir)\n",
    "    \n",
    "joblib.dump(study,os.path.join(out_dir, f'{CELL_TYPE}_{SEED}_{TEST_SPLIT_IDX}_xgboost.pkl'))"
   ]
  },
  {
   "cell_type": "code",
   "execution_count": 21,
   "id": "d28c3678",
   "metadata": {
    "execution": {
     "iopub.execute_input": "2025-05-15T16:15:47.010040Z",
     "iopub.status.busy": "2025-05-15T16:15:47.009769Z",
     "iopub.status.idle": "2025-05-15T16:15:47.147946Z",
     "shell.execute_reply": "2025-05-15T16:15:47.147594Z"
    },
    "papermill": {
     "duration": 0.147782,
     "end_time": "2025-05-15T16:15:47.149030",
     "exception": false,
     "start_time": "2025-05-15T16:15:47.001248",
     "status": "completed"
    },
    "tags": []
   },
   "outputs": [
    {
     "data": {
      "text/html": [
       "<style>#sk-container-id-1 {\n",
       "  /* Definition of color scheme common for light and dark mode */\n",
       "  --sklearn-color-text: black;\n",
       "  --sklearn-color-line: gray;\n",
       "  /* Definition of color scheme for unfitted estimators */\n",
       "  --sklearn-color-unfitted-level-0: #fff5e6;\n",
       "  --sklearn-color-unfitted-level-1: #f6e4d2;\n",
       "  --sklearn-color-unfitted-level-2: #ffe0b3;\n",
       "  --sklearn-color-unfitted-level-3: chocolate;\n",
       "  /* Definition of color scheme for fitted estimators */\n",
       "  --sklearn-color-fitted-level-0: #f0f8ff;\n",
       "  --sklearn-color-fitted-level-1: #d4ebff;\n",
       "  --sklearn-color-fitted-level-2: #b3dbfd;\n",
       "  --sklearn-color-fitted-level-3: cornflowerblue;\n",
       "\n",
       "  /* Specific color for light theme */\n",
       "  --sklearn-color-text-on-default-background: var(--sg-text-color, var(--theme-code-foreground, var(--jp-content-font-color1, black)));\n",
       "  --sklearn-color-background: var(--sg-background-color, var(--theme-background, var(--jp-layout-color0, white)));\n",
       "  --sklearn-color-border-box: var(--sg-text-color, var(--theme-code-foreground, var(--jp-content-font-color1, black)));\n",
       "  --sklearn-color-icon: #696969;\n",
       "\n",
       "  @media (prefers-color-scheme: dark) {\n",
       "    /* Redefinition of color scheme for dark theme */\n",
       "    --sklearn-color-text-on-default-background: var(--sg-text-color, var(--theme-code-foreground, var(--jp-content-font-color1, white)));\n",
       "    --sklearn-color-background: var(--sg-background-color, var(--theme-background, var(--jp-layout-color0, #111)));\n",
       "    --sklearn-color-border-box: var(--sg-text-color, var(--theme-code-foreground, var(--jp-content-font-color1, white)));\n",
       "    --sklearn-color-icon: #878787;\n",
       "  }\n",
       "}\n",
       "\n",
       "#sk-container-id-1 {\n",
       "  color: var(--sklearn-color-text);\n",
       "}\n",
       "\n",
       "#sk-container-id-1 pre {\n",
       "  padding: 0;\n",
       "}\n",
       "\n",
       "#sk-container-id-1 input.sk-hidden--visually {\n",
       "  border: 0;\n",
       "  clip: rect(1px 1px 1px 1px);\n",
       "  clip: rect(1px, 1px, 1px, 1px);\n",
       "  height: 1px;\n",
       "  margin: -1px;\n",
       "  overflow: hidden;\n",
       "  padding: 0;\n",
       "  position: absolute;\n",
       "  width: 1px;\n",
       "}\n",
       "\n",
       "#sk-container-id-1 div.sk-dashed-wrapped {\n",
       "  border: 1px dashed var(--sklearn-color-line);\n",
       "  margin: 0 0.4em 0.5em 0.4em;\n",
       "  box-sizing: border-box;\n",
       "  padding-bottom: 0.4em;\n",
       "  background-color: var(--sklearn-color-background);\n",
       "}\n",
       "\n",
       "#sk-container-id-1 div.sk-container {\n",
       "  /* jupyter's `normalize.less` sets `[hidden] { display: none; }`\n",
       "     but bootstrap.min.css set `[hidden] { display: none !important; }`\n",
       "     so we also need the `!important` here to be able to override the\n",
       "     default hidden behavior on the sphinx rendered scikit-learn.org.\n",
       "     See: https://github.com/scikit-learn/scikit-learn/issues/21755 */\n",
       "  display: inline-block !important;\n",
       "  position: relative;\n",
       "}\n",
       "\n",
       "#sk-container-id-1 div.sk-text-repr-fallback {\n",
       "  display: none;\n",
       "}\n",
       "\n",
       "div.sk-parallel-item,\n",
       "div.sk-serial,\n",
       "div.sk-item {\n",
       "  /* draw centered vertical line to link estimators */\n",
       "  background-image: linear-gradient(var(--sklearn-color-text-on-default-background), var(--sklearn-color-text-on-default-background));\n",
       "  background-size: 2px 100%;\n",
       "  background-repeat: no-repeat;\n",
       "  background-position: center center;\n",
       "}\n",
       "\n",
       "/* Parallel-specific style estimator block */\n",
       "\n",
       "#sk-container-id-1 div.sk-parallel-item::after {\n",
       "  content: \"\";\n",
       "  width: 100%;\n",
       "  border-bottom: 2px solid var(--sklearn-color-text-on-default-background);\n",
       "  flex-grow: 1;\n",
       "}\n",
       "\n",
       "#sk-container-id-1 div.sk-parallel {\n",
       "  display: flex;\n",
       "  align-items: stretch;\n",
       "  justify-content: center;\n",
       "  background-color: var(--sklearn-color-background);\n",
       "  position: relative;\n",
       "}\n",
       "\n",
       "#sk-container-id-1 div.sk-parallel-item {\n",
       "  display: flex;\n",
       "  flex-direction: column;\n",
       "}\n",
       "\n",
       "#sk-container-id-1 div.sk-parallel-item:first-child::after {\n",
       "  align-self: flex-end;\n",
       "  width: 50%;\n",
       "}\n",
       "\n",
       "#sk-container-id-1 div.sk-parallel-item:last-child::after {\n",
       "  align-self: flex-start;\n",
       "  width: 50%;\n",
       "}\n",
       "\n",
       "#sk-container-id-1 div.sk-parallel-item:only-child::after {\n",
       "  width: 0;\n",
       "}\n",
       "\n",
       "/* Serial-specific style estimator block */\n",
       "\n",
       "#sk-container-id-1 div.sk-serial {\n",
       "  display: flex;\n",
       "  flex-direction: column;\n",
       "  align-items: center;\n",
       "  background-color: var(--sklearn-color-background);\n",
       "  padding-right: 1em;\n",
       "  padding-left: 1em;\n",
       "}\n",
       "\n",
       "\n",
       "/* Toggleable style: style used for estimator/Pipeline/ColumnTransformer box that is\n",
       "clickable and can be expanded/collapsed.\n",
       "- Pipeline and ColumnTransformer use this feature and define the default style\n",
       "- Estimators will overwrite some part of the style using the `sk-estimator` class\n",
       "*/\n",
       "\n",
       "/* Pipeline and ColumnTransformer style (default) */\n",
       "\n",
       "#sk-container-id-1 div.sk-toggleable {\n",
       "  /* Default theme specific background. It is overwritten whether we have a\n",
       "  specific estimator or a Pipeline/ColumnTransformer */\n",
       "  background-color: var(--sklearn-color-background);\n",
       "}\n",
       "\n",
       "/* Toggleable label */\n",
       "#sk-container-id-1 label.sk-toggleable__label {\n",
       "  cursor: pointer;\n",
       "  display: block;\n",
       "  width: 100%;\n",
       "  margin-bottom: 0;\n",
       "  padding: 0.5em;\n",
       "  box-sizing: border-box;\n",
       "  text-align: center;\n",
       "}\n",
       "\n",
       "#sk-container-id-1 label.sk-toggleable__label-arrow:before {\n",
       "  /* Arrow on the left of the label */\n",
       "  content: \"▸\";\n",
       "  float: left;\n",
       "  margin-right: 0.25em;\n",
       "  color: var(--sklearn-color-icon);\n",
       "}\n",
       "\n",
       "#sk-container-id-1 label.sk-toggleable__label-arrow:hover:before {\n",
       "  color: var(--sklearn-color-text);\n",
       "}\n",
       "\n",
       "/* Toggleable content - dropdown */\n",
       "\n",
       "#sk-container-id-1 div.sk-toggleable__content {\n",
       "  max-height: 0;\n",
       "  max-width: 0;\n",
       "  overflow: hidden;\n",
       "  text-align: left;\n",
       "  /* unfitted */\n",
       "  background-color: var(--sklearn-color-unfitted-level-0);\n",
       "}\n",
       "\n",
       "#sk-container-id-1 div.sk-toggleable__content.fitted {\n",
       "  /* fitted */\n",
       "  background-color: var(--sklearn-color-fitted-level-0);\n",
       "}\n",
       "\n",
       "#sk-container-id-1 div.sk-toggleable__content pre {\n",
       "  margin: 0.2em;\n",
       "  border-radius: 0.25em;\n",
       "  color: var(--sklearn-color-text);\n",
       "  /* unfitted */\n",
       "  background-color: var(--sklearn-color-unfitted-level-0);\n",
       "}\n",
       "\n",
       "#sk-container-id-1 div.sk-toggleable__content.fitted pre {\n",
       "  /* unfitted */\n",
       "  background-color: var(--sklearn-color-fitted-level-0);\n",
       "}\n",
       "\n",
       "#sk-container-id-1 input.sk-toggleable__control:checked~div.sk-toggleable__content {\n",
       "  /* Expand drop-down */\n",
       "  max-height: 200px;\n",
       "  max-width: 100%;\n",
       "  overflow: auto;\n",
       "}\n",
       "\n",
       "#sk-container-id-1 input.sk-toggleable__control:checked~label.sk-toggleable__label-arrow:before {\n",
       "  content: \"▾\";\n",
       "}\n",
       "\n",
       "/* Pipeline/ColumnTransformer-specific style */\n",
       "\n",
       "#sk-container-id-1 div.sk-label input.sk-toggleable__control:checked~label.sk-toggleable__label {\n",
       "  color: var(--sklearn-color-text);\n",
       "  background-color: var(--sklearn-color-unfitted-level-2);\n",
       "}\n",
       "\n",
       "#sk-container-id-1 div.sk-label.fitted input.sk-toggleable__control:checked~label.sk-toggleable__label {\n",
       "  background-color: var(--sklearn-color-fitted-level-2);\n",
       "}\n",
       "\n",
       "/* Estimator-specific style */\n",
       "\n",
       "/* Colorize estimator box */\n",
       "#sk-container-id-1 div.sk-estimator input.sk-toggleable__control:checked~label.sk-toggleable__label {\n",
       "  /* unfitted */\n",
       "  background-color: var(--sklearn-color-unfitted-level-2);\n",
       "}\n",
       "\n",
       "#sk-container-id-1 div.sk-estimator.fitted input.sk-toggleable__control:checked~label.sk-toggleable__label {\n",
       "  /* fitted */\n",
       "  background-color: var(--sklearn-color-fitted-level-2);\n",
       "}\n",
       "\n",
       "#sk-container-id-1 div.sk-label label.sk-toggleable__label,\n",
       "#sk-container-id-1 div.sk-label label {\n",
       "  /* The background is the default theme color */\n",
       "  color: var(--sklearn-color-text-on-default-background);\n",
       "}\n",
       "\n",
       "/* On hover, darken the color of the background */\n",
       "#sk-container-id-1 div.sk-label:hover label.sk-toggleable__label {\n",
       "  color: var(--sklearn-color-text);\n",
       "  background-color: var(--sklearn-color-unfitted-level-2);\n",
       "}\n",
       "\n",
       "/* Label box, darken color on hover, fitted */\n",
       "#sk-container-id-1 div.sk-label.fitted:hover label.sk-toggleable__label.fitted {\n",
       "  color: var(--sklearn-color-text);\n",
       "  background-color: var(--sklearn-color-fitted-level-2);\n",
       "}\n",
       "\n",
       "/* Estimator label */\n",
       "\n",
       "#sk-container-id-1 div.sk-label label {\n",
       "  font-family: monospace;\n",
       "  font-weight: bold;\n",
       "  display: inline-block;\n",
       "  line-height: 1.2em;\n",
       "}\n",
       "\n",
       "#sk-container-id-1 div.sk-label-container {\n",
       "  text-align: center;\n",
       "}\n",
       "\n",
       "/* Estimator-specific */\n",
       "#sk-container-id-1 div.sk-estimator {\n",
       "  font-family: monospace;\n",
       "  border: 1px dotted var(--sklearn-color-border-box);\n",
       "  border-radius: 0.25em;\n",
       "  box-sizing: border-box;\n",
       "  margin-bottom: 0.5em;\n",
       "  /* unfitted */\n",
       "  background-color: var(--sklearn-color-unfitted-level-0);\n",
       "}\n",
       "\n",
       "#sk-container-id-1 div.sk-estimator.fitted {\n",
       "  /* fitted */\n",
       "  background-color: var(--sklearn-color-fitted-level-0);\n",
       "}\n",
       "\n",
       "/* on hover */\n",
       "#sk-container-id-1 div.sk-estimator:hover {\n",
       "  /* unfitted */\n",
       "  background-color: var(--sklearn-color-unfitted-level-2);\n",
       "}\n",
       "\n",
       "#sk-container-id-1 div.sk-estimator.fitted:hover {\n",
       "  /* fitted */\n",
       "  background-color: var(--sklearn-color-fitted-level-2);\n",
       "}\n",
       "\n",
       "/* Specification for estimator info (e.g. \"i\" and \"?\") */\n",
       "\n",
       "/* Common style for \"i\" and \"?\" */\n",
       "\n",
       ".sk-estimator-doc-link,\n",
       "a:link.sk-estimator-doc-link,\n",
       "a:visited.sk-estimator-doc-link {\n",
       "  float: right;\n",
       "  font-size: smaller;\n",
       "  line-height: 1em;\n",
       "  font-family: monospace;\n",
       "  background-color: var(--sklearn-color-background);\n",
       "  border-radius: 1em;\n",
       "  height: 1em;\n",
       "  width: 1em;\n",
       "  text-decoration: none !important;\n",
       "  margin-left: 1ex;\n",
       "  /* unfitted */\n",
       "  border: var(--sklearn-color-unfitted-level-1) 1pt solid;\n",
       "  color: var(--sklearn-color-unfitted-level-1);\n",
       "}\n",
       "\n",
       ".sk-estimator-doc-link.fitted,\n",
       "a:link.sk-estimator-doc-link.fitted,\n",
       "a:visited.sk-estimator-doc-link.fitted {\n",
       "  /* fitted */\n",
       "  border: var(--sklearn-color-fitted-level-1) 1pt solid;\n",
       "  color: var(--sklearn-color-fitted-level-1);\n",
       "}\n",
       "\n",
       "/* On hover */\n",
       "div.sk-estimator:hover .sk-estimator-doc-link:hover,\n",
       ".sk-estimator-doc-link:hover,\n",
       "div.sk-label-container:hover .sk-estimator-doc-link:hover,\n",
       ".sk-estimator-doc-link:hover {\n",
       "  /* unfitted */\n",
       "  background-color: var(--sklearn-color-unfitted-level-3);\n",
       "  color: var(--sklearn-color-background);\n",
       "  text-decoration: none;\n",
       "}\n",
       "\n",
       "div.sk-estimator.fitted:hover .sk-estimator-doc-link.fitted:hover,\n",
       ".sk-estimator-doc-link.fitted:hover,\n",
       "div.sk-label-container:hover .sk-estimator-doc-link.fitted:hover,\n",
       ".sk-estimator-doc-link.fitted:hover {\n",
       "  /* fitted */\n",
       "  background-color: var(--sklearn-color-fitted-level-3);\n",
       "  color: var(--sklearn-color-background);\n",
       "  text-decoration: none;\n",
       "}\n",
       "\n",
       "/* Span, style for the box shown on hovering the info icon */\n",
       ".sk-estimator-doc-link span {\n",
       "  display: none;\n",
       "  z-index: 9999;\n",
       "  position: relative;\n",
       "  font-weight: normal;\n",
       "  right: .2ex;\n",
       "  padding: .5ex;\n",
       "  margin: .5ex;\n",
       "  width: min-content;\n",
       "  min-width: 20ex;\n",
       "  max-width: 50ex;\n",
       "  color: var(--sklearn-color-text);\n",
       "  box-shadow: 2pt 2pt 4pt #999;\n",
       "  /* unfitted */\n",
       "  background: var(--sklearn-color-unfitted-level-0);\n",
       "  border: .5pt solid var(--sklearn-color-unfitted-level-3);\n",
       "}\n",
       "\n",
       ".sk-estimator-doc-link.fitted span {\n",
       "  /* fitted */\n",
       "  background: var(--sklearn-color-fitted-level-0);\n",
       "  border: var(--sklearn-color-fitted-level-3);\n",
       "}\n",
       "\n",
       ".sk-estimator-doc-link:hover span {\n",
       "  display: block;\n",
       "}\n",
       "\n",
       "/* \"?\"-specific style due to the `<a>` HTML tag */\n",
       "\n",
       "#sk-container-id-1 a.estimator_doc_link {\n",
       "  float: right;\n",
       "  font-size: 1rem;\n",
       "  line-height: 1em;\n",
       "  font-family: monospace;\n",
       "  background-color: var(--sklearn-color-background);\n",
       "  border-radius: 1rem;\n",
       "  height: 1rem;\n",
       "  width: 1rem;\n",
       "  text-decoration: none;\n",
       "  /* unfitted */\n",
       "  color: var(--sklearn-color-unfitted-level-1);\n",
       "  border: var(--sklearn-color-unfitted-level-1) 1pt solid;\n",
       "}\n",
       "\n",
       "#sk-container-id-1 a.estimator_doc_link.fitted {\n",
       "  /* fitted */\n",
       "  border: var(--sklearn-color-fitted-level-1) 1pt solid;\n",
       "  color: var(--sklearn-color-fitted-level-1);\n",
       "}\n",
       "\n",
       "/* On hover */\n",
       "#sk-container-id-1 a.estimator_doc_link:hover {\n",
       "  /* unfitted */\n",
       "  background-color: var(--sklearn-color-unfitted-level-3);\n",
       "  color: var(--sklearn-color-background);\n",
       "  text-decoration: none;\n",
       "}\n",
       "\n",
       "#sk-container-id-1 a.estimator_doc_link.fitted:hover {\n",
       "  /* fitted */\n",
       "  background-color: var(--sklearn-color-fitted-level-3);\n",
       "}\n",
       "</style><div id=\"sk-container-id-1\" class=\"sk-top-container\"><div class=\"sk-text-repr-fallback\"><pre>XGBClassifier(base_score=None, booster=None, callbacks=None,\n",
       "              colsample_bylevel=None, colsample_bynode=0.6845525266584821,\n",
       "              colsample_bytree=None, device=None, early_stopping_rounds=None,\n",
       "              enable_categorical=False,\n",
       "              eval_metric=&lt;function custom_f1_score at 0x7f9522390680&gt;,\n",
       "              feature_types=None, gamma=None, grow_policy=None,\n",
       "              importance_type=None, interaction_constraints=None,\n",
       "              learning_rate=0.3464255508568426, max_bin=None,\n",
       "              max_cat_threshold=None, max_cat_to_onehot=None,\n",
       "              max_delta_step=None, max_depth=3, max_leaves=None,\n",
       "              min_child_weight=10, missing=nan, monotone_constraints=None,\n",
       "              multi_strategy=None, n_estimators=28, n_jobs=None,\n",
       "              num_parallel_tree=None, objective=&#x27;multi:softprob&#x27;, ...)</pre><b>In a Jupyter environment, please rerun this cell to show the HTML representation or trust the notebook. <br />On GitHub, the HTML representation is unable to render, please try loading this page with nbviewer.org.</b></div><div class=\"sk-container\" hidden><div class=\"sk-item\"><div class=\"sk-estimator fitted sk-toggleable\"><input class=\"sk-toggleable__control sk-hidden--visually\" id=\"sk-estimator-id-1\" type=\"checkbox\" checked><label for=\"sk-estimator-id-1\" class=\"sk-toggleable__label fitted sk-toggleable__label-arrow fitted\">&nbsp;XGBClassifier<span class=\"sk-estimator-doc-link fitted\">i<span>Fitted</span></span></label><div class=\"sk-toggleable__content fitted\"><pre>XGBClassifier(base_score=None, booster=None, callbacks=None,\n",
       "              colsample_bylevel=None, colsample_bynode=0.6845525266584821,\n",
       "              colsample_bytree=None, device=None, early_stopping_rounds=None,\n",
       "              enable_categorical=False,\n",
       "              eval_metric=&lt;function custom_f1_score at 0x7f9522390680&gt;,\n",
       "              feature_types=None, gamma=None, grow_policy=None,\n",
       "              importance_type=None, interaction_constraints=None,\n",
       "              learning_rate=0.3464255508568426, max_bin=None,\n",
       "              max_cat_threshold=None, max_cat_to_onehot=None,\n",
       "              max_delta_step=None, max_depth=3, max_leaves=None,\n",
       "              min_child_weight=10, missing=nan, monotone_constraints=None,\n",
       "              multi_strategy=None, n_estimators=28, n_jobs=None,\n",
       "              num_parallel_tree=None, objective=&#x27;multi:softprob&#x27;, ...)</pre></div> </div></div></div></div>"
      ],
      "text/plain": [
       "XGBClassifier(base_score=None, booster=None, callbacks=None,\n",
       "              colsample_bylevel=None, colsample_bynode=0.6845525266584821,\n",
       "              colsample_bytree=None, device=None, early_stopping_rounds=None,\n",
       "              enable_categorical=False,\n",
       "              eval_metric=<function custom_f1_score at 0x7f9522390680>,\n",
       "              feature_types=None, gamma=None, grow_policy=None,\n",
       "              importance_type=None, interaction_constraints=None,\n",
       "              learning_rate=0.3464255508568426, max_bin=None,\n",
       "              max_cat_threshold=None, max_cat_to_onehot=None,\n",
       "              max_delta_step=None, max_depth=3, max_leaves=None,\n",
       "              min_child_weight=10, missing=nan, monotone_constraints=None,\n",
       "              multi_strategy=None, n_estimators=28, n_jobs=None,\n",
       "              num_parallel_tree=None, objective='multi:softprob', ...)"
      ]
     },
     "execution_count": 21,
     "metadata": {},
     "output_type": "execute_result"
    }
   ],
   "source": [
    "n_estimators = int(study.best_trial.user_attrs['best_iteration']*1.2)\n",
    "xgb = xgboost.XGBClassifier(\n",
    "        eval_metric=eval_metric,\n",
    "        n_estimators=n_estimators,\n",
    "        **study.best_trial.params\n",
    "    )\n",
    "xgb.fit(\n",
    "    ssp.vstack((X_train, X_val)), \n",
    "    np.concatenate((y_train_enc, y_val_enc)),\n",
    "    verbose=1,\n",
    ")"
   ]
  },
  {
   "cell_type": "code",
   "execution_count": 22,
   "id": "de0fbb8a",
   "metadata": {
    "execution": {
     "iopub.execute_input": "2025-05-15T16:15:47.170197Z",
     "iopub.status.busy": "2025-05-15T16:15:47.169941Z",
     "iopub.status.idle": "2025-05-15T16:15:47.182138Z",
     "shell.execute_reply": "2025-05-15T16:15:47.181802Z"
    },
    "papermill": {
     "duration": 0.023892,
     "end_time": "2025-05-15T16:15:47.184326",
     "exception": false,
     "start_time": "2025-05-15T16:15:47.160434",
     "status": "completed"
    },
    "tags": []
   },
   "outputs": [
    {
     "data": {
      "text/plain": [
       "['/scratch_isilon/groups/singlecell/shared/projects/Inflammation-PBMCs-Atlas/03_downstream_analysis/08_gene_importance/xgboost_external_validation/xgboost_TopN_genes/results_20/best_model/Plasma_9_3_xgb.json']"
      ]
     },
     "execution_count": 22,
     "metadata": {},
     "output_type": "execute_result"
    }
   ],
   "source": [
    "out_dir = here(f'03_downstream_analysis/08_gene_importance/xgboost_external_validation/xgboost_TopN_genes/results_{N_GENES}/best_model')\n",
    "\n",
    "if not os.path.exists(out_dir):\n",
    "    os.makedirs(out_dir)\n",
    "    \n",
    "joblib.dump(xgb, os.path.join(out_dir, f'{CELL_TYPE}_{SEED}_{TEST_SPLIT_IDX}_xgb.json'))"
   ]
  },
  {
   "cell_type": "code",
   "execution_count": 23,
   "id": "ad13abb2",
   "metadata": {
    "execution": {
     "iopub.execute_input": "2025-05-15T16:15:47.218668Z",
     "iopub.status.busy": "2025-05-15T16:15:47.218402Z",
     "iopub.status.idle": "2025-05-15T16:15:47.226030Z",
     "shell.execute_reply": "2025-05-15T16:15:47.225690Z"
    },
    "papermill": {
     "duration": 0.021387,
     "end_time": "2025-05-15T16:15:47.229715",
     "exception": false,
     "start_time": "2025-05-15T16:15:47.208328",
     "status": "completed"
    },
    "tags": []
   },
   "outputs": [],
   "source": [
    "df_pred_test = pd.DataFrame(dict(\n",
    "    cell_id=train_adata.obs.iloc[test_idxs].index.values,\n",
    "    y_true=y_test, \n",
    "    y_true_code=y_test_enc, \n",
    "    y_pred=xgb.predict(X_test))).set_index('cell_id')"
   ]
  },
  {
   "cell_type": "code",
   "execution_count": 24,
   "id": "ab1071e6",
   "metadata": {
    "execution": {
     "iopub.execute_input": "2025-05-15T16:15:47.255120Z",
     "iopub.status.busy": "2025-05-15T16:15:47.254860Z",
     "iopub.status.idle": "2025-05-15T16:15:47.275741Z",
     "shell.execute_reply": "2025-05-15T16:15:47.275319Z"
    },
    "papermill": {
     "duration": 0.038301,
     "end_time": "2025-05-15T16:15:47.276822",
     "exception": false,
     "start_time": "2025-05-15T16:15:47.238521",
     "status": "completed"
    },
    "tags": []
   },
   "outputs": [],
   "source": [
    "out_dir = here(f'03_downstream_analysis/08_gene_importance/xgboost_external_validation/xgboost_TopN_genes/results_{N_GENES}/predictions')\n",
    "\n",
    "if not os.path.exists(out_dir):\n",
    "    os.makedirs(out_dir)\n",
    "    \n",
    "df_pred_test.to_csv(os.path.join(out_dir, f'{CELL_TYPE}_{SEED}_{TEST_SPLIT_IDX}_pred_test.zip'))"
   ]
  },
  {
   "cell_type": "code",
   "execution_count": 25,
   "id": "1fdc286e",
   "metadata": {
    "execution": {
     "iopub.execute_input": "2025-05-15T16:15:47.315472Z",
     "iopub.status.busy": "2025-05-15T16:15:47.315207Z",
     "iopub.status.idle": "2025-05-15T16:15:47.321288Z",
     "shell.execute_reply": "2025-05-15T16:15:47.320952Z"
    },
    "papermill": {
     "duration": 0.036012,
     "end_time": "2025-05-15T16:15:47.322132",
     "exception": false,
     "start_time": "2025-05-15T16:15:47.286120",
     "status": "completed"
    },
    "tags": []
   },
   "outputs": [],
   "source": [
    "metrics_dict = dict(\n",
    "    BAS=balanced_accuracy_score(y_true=df_pred_test.y_true_code, y_pred=df_pred_test.y_pred), WF1=f1_score(y_true=df_pred_test.y_true_code, y_pred=df_pred_test.y_pred,average='weighted'))"
   ]
  },
  {
   "cell_type": "code",
   "execution_count": 26,
   "id": "f3f15cec",
   "metadata": {
    "execution": {
     "iopub.execute_input": "2025-05-15T16:15:47.341361Z",
     "iopub.status.busy": "2025-05-15T16:15:47.341141Z",
     "iopub.status.idle": "2025-05-15T16:15:47.344167Z",
     "shell.execute_reply": "2025-05-15T16:15:47.343831Z"
    },
    "papermill": {
     "duration": 0.01347,
     "end_time": "2025-05-15T16:15:47.344963",
     "exception": false,
     "start_time": "2025-05-15T16:15:47.331493",
     "status": "completed"
    },
    "tags": []
   },
   "outputs": [
    {
     "data": {
      "text/plain": [
       "{'BAS': 0.3235514485514486, 'WF1': 0.5426218218329093}"
      ]
     },
     "execution_count": 26,
     "metadata": {},
     "output_type": "execute_result"
    }
   ],
   "source": [
    "metrics_dict"
   ]
  },
  {
   "cell_type": "code",
   "execution_count": 27,
   "id": "662abbbd",
   "metadata": {
    "execution": {
     "iopub.execute_input": "2025-05-15T16:15:47.371875Z",
     "iopub.status.busy": "2025-05-15T16:15:47.371636Z",
     "iopub.status.idle": "2025-05-15T16:15:47.380716Z",
     "shell.execute_reply": "2025-05-15T16:15:47.380399Z"
    },
    "papermill": {
     "duration": 0.019658,
     "end_time": "2025-05-15T16:15:47.381567",
     "exception": false,
     "start_time": "2025-05-15T16:15:47.361909",
     "status": "completed"
    },
    "tags": []
   },
   "outputs": [
    {
     "data": {
      "text/html": [
       "<div>\n",
       "<style scoped>\n",
       "    .dataframe tbody tr th:only-of-type {\n",
       "        vertical-align: middle;\n",
       "    }\n",
       "\n",
       "    .dataframe tbody tr th {\n",
       "        vertical-align: top;\n",
       "    }\n",
       "\n",
       "    .dataframe thead th {\n",
       "        text-align: right;\n",
       "    }\n",
       "</style>\n",
       "<table border=\"1\" class=\"dataframe\">\n",
       "  <thead>\n",
       "    <tr style=\"text-align: right;\">\n",
       "      <th></th>\n",
       "      <th>BAS</th>\n",
       "      <th>WF1</th>\n",
       "      <th>split_idx</th>\n",
       "      <th>gene_set_seed</th>\n",
       "      <th>cell_type</th>\n",
       "    </tr>\n",
       "  </thead>\n",
       "  <tbody>\n",
       "    <tr>\n",
       "      <th>0</th>\n",
       "      <td>0.323551</td>\n",
       "      <td>0.542622</td>\n",
       "      <td>3</td>\n",
       "      <td>9</td>\n",
       "      <td>Plasma</td>\n",
       "    </tr>\n",
       "  </tbody>\n",
       "</table>\n",
       "</div>"
      ],
      "text/plain": [
       "        BAS       WF1  split_idx  gene_set_seed cell_type\n",
       "0  0.323551  0.542622          3              9    Plasma"
      ]
     },
     "execution_count": 27,
     "metadata": {},
     "output_type": "execute_result"
    }
   ],
   "source": [
    "metrics_df = pd.DataFrame.from_dict([metrics_dict]).assign(split_idx=TEST_SPLIT_IDX, gene_set_seed=SEED, cell_type=CELL_TYPE)\n",
    "metrics_df"
   ]
  },
  {
   "cell_type": "code",
   "execution_count": 28,
   "id": "91dfa1a1",
   "metadata": {
    "execution": {
     "iopub.execute_input": "2025-05-15T16:15:47.401114Z",
     "iopub.status.busy": "2025-05-15T16:15:47.400712Z",
     "iopub.status.idle": "2025-05-15T16:15:47.410676Z",
     "shell.execute_reply": "2025-05-15T16:15:47.410316Z"
    },
    "papermill": {
     "duration": 0.020606,
     "end_time": "2025-05-15T16:15:47.411551",
     "exception": false,
     "start_time": "2025-05-15T16:15:47.390945",
     "status": "completed"
    },
    "tags": []
   },
   "outputs": [],
   "source": [
    "out_dir = here(f'03_downstream_analysis/08_gene_importance/xgboost_external_validation/xgboost_TopN_genes/results_{N_GENES}/metrics')\n",
    "\n",
    "if not os.path.exists(out_dir):\n",
    "    os.makedirs(out_dir)\n",
    "    \n",
    "metrics_df.to_csv(os.path.join(out_dir, f'{CELL_TYPE}_{SEED}_{TEST_SPLIT_IDX}_metrics.zip'))"
   ]
  }
 ],
 "metadata": {
  "kernelspec": {
   "display_name": "Python 3 (ipykernel)",
   "language": "python",
   "name": "python3"
  },
  "language_info": {
   "codemirror_mode": {
    "name": "ipython",
    "version": 3
   },
   "file_extension": ".py",
   "mimetype": "text/x-python",
   "name": "python",
   "nbconvert_exporter": "python",
   "pygments_lexer": "ipython3",
   "version": "3.12.5"
  },
  "papermill": {
   "default_parameters": {},
   "duration": 14.489464,
   "end_time": "2025-05-15T16:15:48.138078",
   "environment_variables": {},
   "exception": null,
   "input_path": "02_xgboost_fitting_external_20genes.ipynb",
   "output_path": "results_20/executed_notebooks/xgboost_fitting_external_CT_Plasma_GS_9_seed3.ipynb",
   "parameters": {
    "CELL_TYPE": "Plasma",
    "SEED": 9,
    "TEST_SPLIT_IDX": 3
   },
   "start_time": "2025-05-15T16:15:33.648614",
   "version": "2.6.0"
  }
 },
 "nbformat": 4,
 "nbformat_minor": 5
}