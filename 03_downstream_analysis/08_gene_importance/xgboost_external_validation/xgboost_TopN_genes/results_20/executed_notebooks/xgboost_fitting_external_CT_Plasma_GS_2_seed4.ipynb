{
 "cells": [
  {
   "cell_type": "code",
   "execution_count": 1,
   "id": "403e65f2",
   "metadata": {
    "editable": true,
    "execution": {
     "iopub.execute_input": "2025-05-15T16:15:25.623795Z",
     "iopub.status.busy": "2025-05-15T16:15:25.623462Z",
     "iopub.status.idle": "2025-05-15T16:15:25.626771Z",
     "shell.execute_reply": "2025-05-15T16:15:25.626357Z"
    },
    "papermill": {
     "duration": 0.01226,
     "end_time": "2025-05-15T16:15:25.627675",
     "exception": false,
     "start_time": "2025-05-15T16:15:25.615415",
     "status": "completed"
    },
    "slideshow": {
     "slide_type": ""
    },
    "tags": [
     "parameters"
    ]
   },
   "outputs": [],
   "source": [
    "CELL_TYPE = 'pDC'\n",
    "N_GENES: int = 20\n",
    "SEED = 'shap_studyID' #'disease_NOstudy' 'study_NOdisease' or 'int' or 'shap_studyID'\n",
    "TEST_SPLIT_IDX: int = 1 #[0,4]"
   ]
  },
  {
   "cell_type": "code",
   "execution_count": 2,
   "id": "81bd5151",
   "metadata": {
    "execution": {
     "iopub.execute_input": "2025-05-15T16:15:25.639822Z",
     "iopub.status.busy": "2025-05-15T16:15:25.639603Z",
     "iopub.status.idle": "2025-05-15T16:15:25.642105Z",
     "shell.execute_reply": "2025-05-15T16:15:25.641704Z"
    },
    "papermill": {
     "duration": 0.009266,
     "end_time": "2025-05-15T16:15:25.642906",
     "exception": false,
     "start_time": "2025-05-15T16:15:25.633640",
     "status": "completed"
    },
    "tags": [
     "injected-parameters"
    ]
   },
   "outputs": [],
   "source": [
    "# Parameters\n",
    "CELL_TYPE = \"Plasma\"\n",
    "SEED = 2\n",
    "TEST_SPLIT_IDX = 4\n"
   ]
  },
  {
   "cell_type": "code",
   "execution_count": 3,
   "id": "0240bd42",
   "metadata": {
    "execution": {
     "iopub.execute_input": "2025-05-15T16:15:25.654505Z",
     "iopub.status.busy": "2025-05-15T16:15:25.654152Z",
     "iopub.status.idle": "2025-05-15T16:15:25.656532Z",
     "shell.execute_reply": "2025-05-15T16:15:25.656132Z"
    },
    "papermill": {
     "duration": 0.009032,
     "end_time": "2025-05-15T16:15:25.657356",
     "exception": false,
     "start_time": "2025-05-15T16:15:25.648324",
     "status": "completed"
    },
    "tags": []
   },
   "outputs": [],
   "source": [
    "N_SPLITS: int = 5\n",
    "N_TRIALS: int = 50"
   ]
  },
  {
   "cell_type": "code",
   "execution_count": 4,
   "id": "dd328130",
   "metadata": {
    "execution": {
     "iopub.execute_input": "2025-05-15T16:15:25.669817Z",
     "iopub.status.busy": "2025-05-15T16:15:25.669582Z",
     "iopub.status.idle": "2025-05-15T16:15:27.012570Z",
     "shell.execute_reply": "2025-05-15T16:15:27.011945Z"
    },
    "papermill": {
     "duration": 1.351369,
     "end_time": "2025-05-15T16:15:27.013935",
     "exception": false,
     "start_time": "2025-05-15T16:15:25.662566",
     "status": "completed"
    },
    "tags": []
   },
   "outputs": [],
   "source": [
    "import os\n",
    "import sys\n",
    "from pyprojroot.here import here\n",
    "import pandas as pd\n",
    "import anndata as ad\n",
    "import numpy as np\n",
    "import math\n",
    "from sklearn.model_selection import StratifiedGroupKFold\n",
    "from sklearn.preprocessing import LabelEncoder\n",
    "from sklearn.metrics import f1_score\n",
    "import matplotlib.pyplot as plt\n",
    "import seaborn as sns\n",
    "from itertools import product\n",
    "from sklearn.metrics import balanced_accuracy_score, f1_score\n",
    "import optuna\n",
    "\n",
    "import joblib\n",
    "import pickle\n",
    "import datetime\n",
    "\n",
    "import collections\n",
    "\n",
    "import xgboost\n",
    "from sklearn.preprocessing import LabelEncoder\n",
    "\n",
    "import scipy.sparse as ssp\n",
    "import joblib\n",
    "\n",
    "from dotenv import load_dotenv"
   ]
  },
  {
   "cell_type": "code",
   "execution_count": 5,
   "id": "e5174e65",
   "metadata": {
    "execution": {
     "iopub.execute_input": "2025-05-15T16:15:27.027688Z",
     "iopub.status.busy": "2025-05-15T16:15:27.026910Z",
     "iopub.status.idle": "2025-05-15T16:15:27.034007Z",
     "shell.execute_reply": "2025-05-15T16:15:27.033651Z"
    },
    "papermill": {
     "duration": 0.014742,
     "end_time": "2025-05-15T16:15:27.034899",
     "exception": false,
     "start_time": "2025-05-15T16:15:27.020157",
     "status": "completed"
    },
    "tags": []
   },
   "outputs": [
    {
     "data": {
      "text/plain": [
       "True"
      ]
     },
     "execution_count": 5,
     "metadata": {},
     "output_type": "execute_result"
    }
   ],
   "source": [
    "load_dotenv()"
   ]
  },
  {
   "cell_type": "markdown",
   "id": "c930e559",
   "metadata": {
    "papermill": {
     "duration": 0.005814,
     "end_time": "2025-05-15T16:15:27.046352",
     "exception": false,
     "start_time": "2025-05-15T16:15:27.040538",
     "status": "completed"
    },
    "tags": []
   },
   "source": [
    "# LOAD DATASET"
   ]
  },
  {
   "cell_type": "code",
   "execution_count": 6,
   "id": "75abdd7d",
   "metadata": {
    "execution": {
     "iopub.execute_input": "2025-05-15T16:15:27.058668Z",
     "iopub.status.busy": "2025-05-15T16:15:27.058188Z",
     "iopub.status.idle": "2025-05-15T16:15:27.105705Z",
     "shell.execute_reply": "2025-05-15T16:15:27.105110Z"
    },
    "papermill": {
     "duration": 0.05507,
     "end_time": "2025-05-15T16:15:27.106615",
     "exception": false,
     "start_time": "2025-05-15T16:15:27.051545",
     "status": "completed"
    },
    "tags": []
   },
   "outputs": [],
   "source": [
    "train_adata = ad.read_h5ad(\n",
    "    here(f'03_downstream_analysis/08_gene_importance/xgboost_external_validation/xgboost_TopN_genes/data_cellTypes/EXTERNAL_{CELL_TYPE}.filtered.log1p.h5ad')\n",
    ")"
   ]
  },
  {
   "cell_type": "code",
   "execution_count": 7,
   "id": "48683f2e",
   "metadata": {
    "execution": {
     "iopub.execute_input": "2025-05-15T16:15:27.134377Z",
     "iopub.status.busy": "2025-05-15T16:15:27.133953Z",
     "iopub.status.idle": "2025-05-15T16:15:27.146809Z",
     "shell.execute_reply": "2025-05-15T16:15:27.146396Z"
    },
    "papermill": {
     "duration": 0.021046,
     "end_time": "2025-05-15T16:15:27.147854",
     "exception": false,
     "start_time": "2025-05-15T16:15:27.126808",
     "status": "completed"
    },
    "tags": []
   },
   "outputs": [
    {
     "name": "stdout",
     "output_type": "stream",
     "text": [
      "['ENSG00000138778' 'ENSG00000104894' 'ENSG00000128340' 'ENSG00000143761'\n",
      " 'ENSG00000129084' 'ENSG00000136156' 'ENSG00000143933' 'ENSG00000048462'\n",
      " 'ENSG00000121858' 'ENSG00000153064' 'ENSG00000165280' 'ENSG00000156587'\n",
      " 'ENSG00000235162' 'ENSG00000175482' 'ENSG00000184752' 'ENSG00000134539'\n",
      " 'ENSG00000103187' 'ENSG00000175104' 'ENSG00000142669' 'ENSG00000138378'\n",
      " 'ENSG00000028137' 'ENSG00000177556' 'ENSG00000164104' 'ENSG00000096996'\n",
      " 'ENSG00000172543' 'ENSG00000079805' 'ENSG00000132510' 'ENSG00000206503'\n",
      " 'ENSG00000130830' 'ENSG00000075234' 'ENSG00000185436' 'ENSG00000147168'\n",
      " 'ENSG00000116815' 'ENSG00000105851' 'ENSG00000104870' 'ENSG00000121774'\n",
      " 'ENSG00000117450' 'ENSG00000142166' 'ENSG00000145287' 'ENSG00000112561'\n",
      " 'ENSG00000152495' 'ENSG00000109861' 'ENSG00000137441' 'ENSG00000227507'\n",
      " 'ENSG00000160213' 'ENSG00000171791' 'ENSG00000133639' 'ENSG00000175203'\n",
      " 'ENSG00000117523' 'ENSG00000155380' 'ENSG00000241837' 'ENSG00000135968'\n",
      " 'ENSG00000077150' 'ENSG00000158869' 'ENSG00000103490' 'ENSG00000196961'\n",
      " 'ENSG00000110077' 'ENSG00000121807' 'ENSG00000231925' 'ENSG00000146457'\n",
      " 'ENSG00000197956' 'ENSG00000105221' 'ENSG00000205542' 'ENSG00000173812'\n",
      " 'ENSG00000277632' 'ENSG00000131143' 'ENSG00000026103' 'ENSG00000107485'\n",
      " 'ENSG00000176986' 'ENSG00000079616' 'ENSG00000134352' 'ENSG00000182287'\n",
      " 'ENSG00000117318' 'ENSG00000167552' 'ENSG00000170581' 'ENSG00000197102'\n",
      " 'ENSG00000118503' 'ENSG00000115073' 'ENSG00000145912' 'ENSG00000105374'\n",
      " 'ENSG00000228474' 'ENSG00000141526' 'ENSG00000149311' 'ENSG00000125347'\n",
      " 'ENSG00000104921' 'ENSG00000111348' 'ENSG00000136003' 'ENSG00000100485'\n",
      " 'ENSG00000130522' 'ENSG00000198846' 'ENSG00000133872' 'ENSG00000171700'\n",
      " 'ENSG00000033800' 'ENSG00000168811' 'ENSG00000100934' 'ENSG00000168394'\n",
      " 'ENSG00000100911' 'ENSG00000132475' 'ENSG00000143543' 'ENSG00000160075'\n",
      " 'ENSG00000078596' 'ENSG00000134470' 'ENSG00000139318' 'ENSG00000143119'\n",
      " 'ENSG00000113441' 'ENSG00000163191' 'ENSG00000161800']\n"
     ]
    }
   ],
   "source": [
    "if SEED != 'all':\n",
    "    gene_subset = np.load(here(f'03_downstream_analysis/08_gene_importance/xgboost_external_validation/shap_gene_selection/gene_subsets_{N_GENES}/{CELL_TYPE}_{SEED}.npy'), allow_pickle=True)\n",
    "    train_adata = train_adata[:,gene_subset]\n",
    "    print(gene_subset)\n",
    "elif SEED == 'all':\n",
    "    print('Using all genes')\n",
    "else:\n",
    "    raise ValueError()"
   ]
  },
  {
   "cell_type": "code",
   "execution_count": 8,
   "id": "1fe560ee",
   "metadata": {
    "execution": {
     "iopub.execute_input": "2025-05-15T16:15:27.161697Z",
     "iopub.status.busy": "2025-05-15T16:15:27.161214Z",
     "iopub.status.idle": "2025-05-15T16:15:27.164992Z",
     "shell.execute_reply": "2025-05-15T16:15:27.164630Z"
    },
    "papermill": {
     "duration": 0.012207,
     "end_time": "2025-05-15T16:15:27.166529",
     "exception": false,
     "start_time": "2025-05-15T16:15:27.154322",
     "status": "completed"
    },
    "tags": []
   },
   "outputs": [
    {
     "data": {
      "text/plain": [
       "(542, 107)"
      ]
     },
     "execution_count": 8,
     "metadata": {},
     "output_type": "execute_result"
    }
   ],
   "source": [
    "train_adata.shape"
   ]
  },
  {
   "cell_type": "code",
   "execution_count": 9,
   "id": "35b50dd3",
   "metadata": {
    "execution": {
     "iopub.execute_input": "2025-05-15T16:15:27.180963Z",
     "iopub.status.busy": "2025-05-15T16:15:27.180396Z",
     "iopub.status.idle": "2025-05-15T16:15:27.185334Z",
     "shell.execute_reply": "2025-05-15T16:15:27.184989Z"
    },
    "papermill": {
     "duration": 0.013115,
     "end_time": "2025-05-15T16:15:27.186166",
     "exception": false,
     "start_time": "2025-05-15T16:15:27.173051",
     "status": "completed"
    },
    "tags": []
   },
   "outputs": [
    {
     "data": {
      "text/plain": [
       "['RA', 'COVID', 'healthy', 'HIV', 'cirrhosis', 'CD', 'SLE', 'sepsis']\n",
       "Categories (8, object): ['CD', 'COVID', 'HIV', 'RA', 'SLE', 'cirrhosis', 'healthy', 'sepsis']"
      ]
     },
     "execution_count": 9,
     "metadata": {},
     "output_type": "execute_result"
    }
   ],
   "source": [
    "train_adata.obs.disease.unique()"
   ]
  },
  {
   "cell_type": "code",
   "execution_count": 10,
   "id": "a70e54a1",
   "metadata": {
    "execution": {
     "iopub.execute_input": "2025-05-15T16:15:27.199940Z",
     "iopub.status.busy": "2025-05-15T16:15:27.199441Z",
     "iopub.status.idle": "2025-05-15T16:15:27.204402Z",
     "shell.execute_reply": "2025-05-15T16:15:27.203998Z"
    },
    "papermill": {
     "duration": 0.013619,
     "end_time": "2025-05-15T16:15:27.206007",
     "exception": false,
     "start_time": "2025-05-15T16:15:27.192388",
     "status": "completed"
    },
    "tags": []
   },
   "outputs": [
    {
     "data": {
      "text/plain": [
       "['SCGT00val_I0364_T0', 'SCGT00val_I036019_T0', 'SCGT00val_I036028_T0', 'SCGT00val_I036024_T0', 'SCGT00val_I036016_T0', ..., '10XGenomics_10XHC2_T0', '10XGenomics_10XHC3_T0', '10XGenomics_10XHC5_T0', '10XGenomics_10XHC7_T0', '10XGenomics_10XHC8_T0']\n",
       "Length: 74\n",
       "Categories (74, object): ['10XGenomics_10XHC1_T0', '10XGenomics_10XHC2_T0', '10XGenomics_10XHC3_T0', '10XGenomics_10XHC4_T0', ..., 'Savage2021_BRISL6_T0', 'Savage2021_BRISL7_T0', 'Savage2021_PIDA_T0', 'Savage2021_PIDB_T0']"
      ]
     },
     "execution_count": 10,
     "metadata": {},
     "output_type": "execute_result"
    }
   ],
   "source": [
    "train_adata.obs.sampleID.unique()"
   ]
  },
  {
   "cell_type": "code",
   "execution_count": 11,
   "id": "501c53b5",
   "metadata": {
    "execution": {
     "iopub.execute_input": "2025-05-15T16:15:27.243691Z",
     "iopub.status.busy": "2025-05-15T16:15:27.243338Z",
     "iopub.status.idle": "2025-05-15T16:15:27.274100Z",
     "shell.execute_reply": "2025-05-15T16:15:27.273491Z"
    },
    "papermill": {
     "duration": 0.04024,
     "end_time": "2025-05-15T16:15:27.275531",
     "exception": false,
     "start_time": "2025-05-15T16:15:27.235291",
     "status": "completed"
    },
    "tags": []
   },
   "outputs": [],
   "source": [
    "all_idxs = np.arange(train_adata.obs.shape[0])\n",
    "left_out_splits = [s[1] for s in StratifiedGroupKFold(n_splits=N_SPLITS).split(all_idxs, train_adata.obs.disease, train_adata.obs.sampleID)]"
   ]
  },
  {
   "cell_type": "code",
   "execution_count": 12,
   "id": "ea03cbf9",
   "metadata": {
    "execution": {
     "iopub.execute_input": "2025-05-15T16:15:27.371653Z",
     "iopub.status.busy": "2025-05-15T16:15:27.371283Z",
     "iopub.status.idle": "2025-05-15T16:15:27.375309Z",
     "shell.execute_reply": "2025-05-15T16:15:27.374972Z"
    },
    "papermill": {
     "duration": 0.093274,
     "end_time": "2025-05-15T16:15:27.376236",
     "exception": false,
     "start_time": "2025-05-15T16:15:27.282962",
     "status": "completed"
    },
    "tags": []
   },
   "outputs": [
    {
     "data": {
      "text/plain": [
       "([1, 2, 3], 0, 4)"
      ]
     },
     "execution_count": 12,
     "metadata": {},
     "output_type": "execute_result"
    }
   ],
   "source": [
    "TRAIN_SPLIT_IDXS = [0,1,2,3,4]\n",
    "VAL_SPLIT_IDX = (TEST_SPLIT_IDX + 1) % 5\n",
    "TRAIN_SPLIT_IDXS.remove(TEST_SPLIT_IDX)\n",
    "TRAIN_SPLIT_IDXS.remove(VAL_SPLIT_IDX)\n",
    "TRAIN_SPLIT_IDXS, VAL_SPLIT_IDX, TEST_SPLIT_IDX"
   ]
  },
  {
   "cell_type": "code",
   "execution_count": 13,
   "id": "bc646e8a",
   "metadata": {
    "execution": {
     "iopub.execute_input": "2025-05-15T16:15:27.395187Z",
     "iopub.status.busy": "2025-05-15T16:15:27.394794Z",
     "iopub.status.idle": "2025-05-15T16:15:27.397981Z",
     "shell.execute_reply": "2025-05-15T16:15:27.397557Z"
    },
    "papermill": {
     "duration": 0.015686,
     "end_time": "2025-05-15T16:15:27.398860",
     "exception": false,
     "start_time": "2025-05-15T16:15:27.383174",
     "status": "completed"
    },
    "tags": []
   },
   "outputs": [],
   "source": [
    "train_idxs = np.concatenate([left_out_splits[idx] for idx in TRAIN_SPLIT_IDXS])\n",
    "val_idxs = left_out_splits[VAL_SPLIT_IDX]\n",
    "test_idxs = left_out_splits[TEST_SPLIT_IDX]"
   ]
  },
  {
   "cell_type": "markdown",
   "id": "42285af1",
   "metadata": {
    "papermill": {
     "duration": 0.006616,
     "end_time": "2025-05-15T16:15:27.412558",
     "exception": false,
     "start_time": "2025-05-15T16:15:27.405942",
     "status": "completed"
    },
    "tags": []
   },
   "source": [
    "### SUBSET DATASET INTO TRAIN/TEST/VAL SPLITS"
   ]
  },
  {
   "cell_type": "code",
   "execution_count": 14,
   "id": "e63f6fa3",
   "metadata": {
    "execution": {
     "iopub.execute_input": "2025-05-15T16:15:27.459011Z",
     "iopub.status.busy": "2025-05-15T16:15:27.458370Z",
     "iopub.status.idle": "2025-05-15T16:15:27.466173Z",
     "shell.execute_reply": "2025-05-15T16:15:27.465752Z"
    },
    "papermill": {
     "duration": 0.017953,
     "end_time": "2025-05-15T16:15:27.467179",
     "exception": false,
     "start_time": "2025-05-15T16:15:27.449226",
     "status": "completed"
    },
    "tags": []
   },
   "outputs": [
    {
     "data": {
      "text/plain": [
       "((308, 107), (116, 107), (118, 107))"
      ]
     },
     "execution_count": 14,
     "metadata": {},
     "output_type": "execute_result"
    }
   ],
   "source": [
    "X_train = train_adata.X[train_idxs]\n",
    "X_test = train_adata.X[test_idxs]\n",
    "X_val = train_adata.X[val_idxs]\n",
    "X_train.shape, X_test.shape, X_val.shape"
   ]
  },
  {
   "cell_type": "code",
   "execution_count": 15,
   "id": "1ecb2b1f",
   "metadata": {
    "execution": {
     "iopub.execute_input": "2025-05-15T16:15:27.481681Z",
     "iopub.status.busy": "2025-05-15T16:15:27.481201Z",
     "iopub.status.idle": "2025-05-15T16:15:27.487249Z",
     "shell.execute_reply": "2025-05-15T16:15:27.486866Z"
    },
    "papermill": {
     "duration": 0.014462,
     "end_time": "2025-05-15T16:15:27.488265",
     "exception": false,
     "start_time": "2025-05-15T16:15:27.473803",
     "status": "completed"
    },
    "tags": []
   },
   "outputs": [
    {
     "data": {
      "text/plain": [
       "((308,), (116,), (118,))"
      ]
     },
     "execution_count": 15,
     "metadata": {},
     "output_type": "execute_result"
    }
   ],
   "source": [
    "y_train = train_adata.obs.iloc[train_idxs].disease.values.astype(str)\n",
    "y_test = train_adata.obs.iloc[test_idxs].disease.values.astype(str)\n",
    "y_val = train_adata.obs.iloc[val_idxs].disease.values.astype(str)\n",
    "y_train.shape, y_test.shape, y_val.shape"
   ]
  },
  {
   "cell_type": "code",
   "execution_count": 16,
   "id": "259411db",
   "metadata": {
    "execution": {
     "iopub.execute_input": "2025-05-15T16:15:27.503323Z",
     "iopub.status.busy": "2025-05-15T16:15:27.502835Z",
     "iopub.status.idle": "2025-05-15T16:15:27.506588Z",
     "shell.execute_reply": "2025-05-15T16:15:27.506234Z"
    },
    "papermill": {
     "duration": 0.011942,
     "end_time": "2025-05-15T16:15:27.507568",
     "exception": false,
     "start_time": "2025-05-15T16:15:27.495626",
     "status": "completed"
    },
    "tags": []
   },
   "outputs": [],
   "source": [
    "lenc = LabelEncoder()\n",
    "y_train_enc = lenc.fit_transform(y_train)\n",
    "y_val_enc = lenc.transform(y_val)\n",
    "y_test_enc = lenc.transform(y_test)"
   ]
  },
  {
   "cell_type": "markdown",
   "id": "137bf92f",
   "metadata": {
    "papermill": {
     "duration": 0.006263,
     "end_time": "2025-05-15T16:15:27.521220",
     "exception": false,
     "start_time": "2025-05-15T16:15:27.514957",
     "status": "completed"
    },
    "tags": []
   },
   "source": [
    "### GENERATE F1 "
   ]
  },
  {
   "cell_type": "code",
   "execution_count": 17,
   "id": "3acfe64a",
   "metadata": {
    "execution": {
     "iopub.execute_input": "2025-05-15T16:15:27.562978Z",
     "iopub.status.busy": "2025-05-15T16:15:27.562584Z",
     "iopub.status.idle": "2025-05-15T16:15:27.565575Z",
     "shell.execute_reply": "2025-05-15T16:15:27.565227Z"
    },
    "papermill": {
     "duration": 0.012266,
     "end_time": "2025-05-15T16:15:27.566489",
     "exception": false,
     "start_time": "2025-05-15T16:15:27.554223",
     "status": "completed"
    },
    "tags": []
   },
   "outputs": [],
   "source": [
    "def custom_f1_score(y_true, y_pred):\n",
    "    return -f1_score(y_true, y_pred.argmax(1), average='weighted')"
   ]
  },
  {
   "cell_type": "code",
   "execution_count": 18,
   "id": "3d87538f",
   "metadata": {
    "execution": {
     "iopub.execute_input": "2025-05-15T16:15:27.582494Z",
     "iopub.status.busy": "2025-05-15T16:15:27.582123Z",
     "iopub.status.idle": "2025-05-15T16:15:27.587114Z",
     "shell.execute_reply": "2025-05-15T16:15:27.586637Z"
    },
    "papermill": {
     "duration": 0.014888,
     "end_time": "2025-05-15T16:15:27.588105",
     "exception": false,
     "start_time": "2025-05-15T16:15:27.573217",
     "status": "completed"
    },
    "tags": []
   },
   "outputs": [],
   "source": [
    "eval_metric=custom_f1_score\n",
    "eval_metric_name='custom_f1_score'\n",
    "\n",
    "def objective(trial):\n",
    "    params = {\n",
    "        'n_estimators': 1500,\n",
    "        'max_depth': trial.suggest_int('max_depth', 3, 20),\n",
    "        'min_child_weight': trial.suggest_int('min_child_weight', 1, 250),\n",
    "        'subsample': trial.suggest_float('subsample', 0.1, 1.0),\n",
    "        'colsample_bynode': trial.suggest_float('colsample_bynode', 0.1, 1.0),\n",
    "        'learning_rate': trial.suggest_float('learning_rate', 1e-3, 5e-1, log=True),\n",
    "    }\n",
    "    pruning_callback = optuna.integration.XGBoostPruningCallback(trial, f'validation_0-{eval_metric_name}')\n",
    "    es_callback = xgboost.callback.EarlyStopping(20, min_delta=0.001)\n",
    "    xgb = xgboost.XGBClassifier(\n",
    "        eval_metric=eval_metric,\n",
    "        callbacks=[pruning_callback, es_callback],\n",
    "        n_jobs=5,\n",
    "        **params\n",
    "    )\n",
    "    xgb.fit(\n",
    "        X_train, \n",
    "        y_train_enc, \n",
    "        verbose=0,\n",
    "        eval_set=[(X_val, y_val_enc)],\n",
    "    )\n",
    "    trial.set_user_attr('best_iteration', xgb.best_iteration)\n",
    "\n",
    "    return xgb.best_score"
   ]
  },
  {
   "cell_type": "code",
   "execution_count": 19,
   "id": "110765ed",
   "metadata": {
    "execution": {
     "iopub.execute_input": "2025-05-15T16:15:27.618331Z",
     "iopub.status.busy": "2025-05-15T16:15:27.617992Z",
     "iopub.status.idle": "2025-05-15T16:15:39.122087Z",
     "shell.execute_reply": "2025-05-15T16:15:39.121597Z"
    },
    "papermill": {
     "duration": 11.512785,
     "end_time": "2025-05-15T16:15:39.123117",
     "exception": false,
     "start_time": "2025-05-15T16:15:27.610332",
     "status": "completed"
    },
    "scrolled": true,
    "tags": []
   },
   "outputs": [
    {
     "name": "stderr",
     "output_type": "stream",
     "text": [
      "[I 2025-05-15 18:15:27,620] A new study created in memory with name: no-name-1f38d66c-3d44-43f2-99da-ed85a70fd19f\n"
     ]
    },
    {
     "name": "stderr",
     "output_type": "stream",
     "text": [
      "[I 2025-05-15 18:15:27,698] Trial 0 finished with value: -0.015898 and parameters: {'max_depth': 9, 'min_child_weight': 238, 'subsample': 0.7587945476302645, 'colsample_bynode': 0.6387926357773329, 'learning_rate': 0.0026368755339723046}. Best is trial 0 with value: -0.015898.\n"
     ]
    },
    {
     "name": "stderr",
     "output_type": "stream",
     "text": [
      "[I 2025-05-15 18:15:28,057] Trial 1 finished with value: -0.38904 and parameters: {'max_depth': 5, 'min_child_weight': 15, 'subsample': 0.8795585311974417, 'colsample_bynode': 0.6410035105688879, 'learning_rate': 0.08148293210105287}. Best is trial 1 with value: -0.38904.\n"
     ]
    },
    {
     "name": "stderr",
     "output_type": "stream",
     "text": [
      "[I 2025-05-15 18:15:28,257] Trial 2 finished with value: -0.015898 and parameters: {'max_depth': 3, 'min_child_weight': 243, 'subsample': 0.8491983767203796, 'colsample_bynode': 0.29110519961044856, 'learning_rate': 0.003095566460242371}. Best is trial 1 with value: -0.38904.\n"
     ]
    },
    {
     "name": "stderr",
     "output_type": "stream",
     "text": [
      "[I 2025-05-15 18:15:28,445] Trial 3 finished with value: -0.015898 and parameters: {'max_depth': 6, 'min_child_weight': 77, 'subsample': 0.5722807884690141, 'colsample_bynode': 0.48875051677790415, 'learning_rate': 0.006109683510122491}. Best is trial 1 with value: -0.38904.\n"
     ]
    },
    {
     "name": "stderr",
     "output_type": "stream",
     "text": [
      "[I 2025-05-15 18:15:28,632] Trial 4 finished with value: -0.015898 and parameters: {'max_depth': 14, 'min_child_weight': 35, 'subsample': 0.3629301836816964, 'colsample_bynode': 0.4297256589643226, 'learning_rate': 0.01701841881702917}. Best is trial 1 with value: -0.38904.\n"
     ]
    },
    {
     "name": "stderr",
     "output_type": "stream",
     "text": [
      "[I 2025-05-15 18:15:28,830] Trial 5 finished with value: -0.015898 and parameters: {'max_depth': 17, 'min_child_weight': 50, 'subsample': 0.5628109945722505, 'colsample_bynode': 0.6331731119758383, 'learning_rate': 0.0013346527038305934}. Best is trial 1 with value: -0.38904.\n"
     ]
    },
    {
     "name": "stderr",
     "output_type": "stream",
     "text": [
      "[I 2025-05-15 18:15:29,026] Trial 6 finished with value: -0.015898 and parameters: {'max_depth': 13, 'min_child_weight': 43, 'subsample': 0.1585464336867516, 'colsample_bynode': 0.9539969835279999, 'learning_rate': 0.4038423798071558}. Best is trial 1 with value: -0.38904.\n"
     ]
    },
    {
     "name": "stderr",
     "output_type": "stream",
     "text": [
      "[I 2025-05-15 18:15:29,219] Trial 7 finished with value: -0.015898 and parameters: {'max_depth': 17, 'min_child_weight': 77, 'subsample': 0.1879049026057455, 'colsample_bynode': 0.7158097238609412, 'learning_rate': 0.015415527060141935}. Best is trial 1 with value: -0.38904.\n"
     ]
    },
    {
     "name": "stderr",
     "output_type": "stream",
     "text": [
      "[I 2025-05-15 18:15:29,417] Trial 8 finished with value: -0.015898 and parameters: {'max_depth': 5, 'min_child_weight': 124, 'subsample': 0.13094966900369656, 'colsample_bynode': 0.9183883618709039, 'learning_rate': 0.004993895014755658}. Best is trial 1 with value: -0.38904.\n"
     ]
    },
    {
     "name": "stderr",
     "output_type": "stream",
     "text": [
      "[I 2025-05-15 18:15:29,610] Trial 9 finished with value: -0.015898 and parameters: {'max_depth': 14, 'min_child_weight': 78, 'subsample': 0.5680612190600297, 'colsample_bynode': 0.5920392514089517, 'learning_rate': 0.0031543990308330965}. Best is trial 1 with value: -0.38904.\n"
     ]
    },
    {
     "name": "stderr",
     "output_type": "stream",
     "text": [
      "[I 2025-05-15 18:15:30,110] Trial 10 finished with value: -0.439805 and parameters: {'max_depth': 9, 'min_child_weight': 2, 'subsample': 0.9725833997090791, 'colsample_bynode': 0.11616568805333755, 'learning_rate': 0.17780618353487967}. Best is trial 10 with value: -0.439805.\n"
     ]
    },
    {
     "name": "stderr",
     "output_type": "stream",
     "text": [
      "[I 2025-05-15 18:15:30,453] Trial 11 pruned. Trial was pruned at iteration 21.\n"
     ]
    },
    {
     "name": "stderr",
     "output_type": "stream",
     "text": [
      "[I 2025-05-15 18:15:30,746] Trial 12 pruned. Trial was pruned at iteration 21.\n"
     ]
    },
    {
     "name": "stderr",
     "output_type": "stream",
     "text": [
      "[I 2025-05-15 18:15:30,916] Trial 13 finished with value: -0.015898 and parameters: {'max_depth': 6, 'min_child_weight': 173, 'subsample': 0.790863397930712, 'colsample_bynode': 0.8100137258468498, 'learning_rate': 0.09009490635410385}. Best is trial 10 with value: -0.439805.\n"
     ]
    },
    {
     "name": "stderr",
     "output_type": "stream",
     "text": [
      "[I 2025-05-15 18:15:31,082] Trial 14 finished with value: -0.015898 and parameters: {'max_depth': 11, 'min_child_weight': 132, 'subsample': 0.8756857866758896, 'colsample_bynode': 0.37234427067556525, 'learning_rate': 0.33580116263734355}. Best is trial 10 with value: -0.439805.\n"
     ]
    },
    {
     "name": "stderr",
     "output_type": "stream",
     "text": [
      "[I 2025-05-15 18:15:31,452] Trial 15 finished with value: -0.474412 and parameters: {'max_depth': 20, 'min_child_weight': 1, 'subsample': 0.6960027044621645, 'colsample_bynode': 0.29820978139149346, 'learning_rate': 0.03580498851951521}. Best is trial 15 with value: -0.474412.\n"
     ]
    },
    {
     "name": "stderr",
     "output_type": "stream",
     "text": [
      "[I 2025-05-15 18:15:31,612] Trial 16 finished with value: -0.015898 and parameters: {'max_depth': 20, 'min_child_weight': 116, 'subsample': 0.6730263351162008, 'colsample_bynode': 0.2727828997776047, 'learning_rate': 0.04069492241758615}. Best is trial 15 with value: -0.474412.\n"
     ]
    },
    {
     "name": "stderr",
     "output_type": "stream",
     "text": [
      "[I 2025-05-15 18:15:31,767] Trial 17 finished with value: -0.015898 and parameters: {'max_depth': 20, 'min_child_weight': 183, 'subsample': 0.4247113570339343, 'colsample_bynode': 0.12785121757072282, 'learning_rate': 0.2299310555205761}. Best is trial 15 with value: -0.474412.\n"
     ]
    },
    {
     "name": "stderr",
     "output_type": "stream",
     "text": [
      "[I 2025-05-15 18:15:31,921] Trial 18 finished with value: -0.115706 and parameters: {'max_depth': 17, 'min_child_weight': 37, 'subsample': 0.6810314786755066, 'colsample_bynode': 0.2665066863805862, 'learning_rate': 0.03874577508783683}. Best is trial 15 with value: -0.474412.\n"
     ]
    },
    {
     "name": "stderr",
     "output_type": "stream",
     "text": [
      "[I 2025-05-15 18:15:32,088] Trial 19 finished with value: -0.015898 and parameters: {'max_depth': 11, 'min_child_weight': 99, 'subsample': 0.4449158851718158, 'colsample_bynode': 0.3679418363674778, 'learning_rate': 0.184705251713814}. Best is trial 15 with value: -0.474412.\n"
     ]
    },
    {
     "name": "stderr",
     "output_type": "stream",
     "text": [
      "[I 2025-05-15 18:15:32,245] Trial 20 finished with value: -0.015898 and parameters: {'max_depth': 8, 'min_child_weight': 59, 'subsample': 0.7034906283443978, 'colsample_bynode': 0.20927736326660645, 'learning_rate': 0.02795316968542322}. Best is trial 15 with value: -0.474412.\n"
     ]
    },
    {
     "name": "stderr",
     "output_type": "stream",
     "text": [
      "[I 2025-05-15 18:15:32,456] Trial 21 pruned. Trial was pruned at iteration 21.\n"
     ]
    },
    {
     "name": "stderr",
     "output_type": "stream",
     "text": [
      "[I 2025-05-15 18:15:32,991] Trial 22 finished with value: -0.404177 and parameters: {'max_depth': 5, 'min_child_weight': 2, 'subsample': 0.9226694909907923, 'colsample_bynode': 0.7065234741891823, 'learning_rate': 0.1532797666777473}. Best is trial 15 with value: -0.474412.\n"
     ]
    },
    {
     "name": "stderr",
     "output_type": "stream",
     "text": [
      "[I 2025-05-15 18:15:33,205] Trial 23 pruned. Trial was pruned at iteration 21.\n"
     ]
    },
    {
     "name": "stderr",
     "output_type": "stream",
     "text": [
      "[I 2025-05-15 18:15:33,369] Trial 24 finished with value: -0.015898 and parameters: {'max_depth': 12, 'min_child_weight': 60, 'subsample': 0.7825765063552437, 'colsample_bynode': 0.8162809857042157, 'learning_rate': 0.010411200658390636}. Best is trial 15 with value: -0.474412.\n"
     ]
    },
    {
     "name": "stderr",
     "output_type": "stream",
     "text": [
      "[I 2025-05-15 18:15:33,610] Trial 25 pruned. Trial was pruned at iteration 21.\n"
     ]
    },
    {
     "name": "stderr",
     "output_type": "stream",
     "text": [
      "[I 2025-05-15 18:15:33,775] Trial 26 pruned. Trial was pruned at iteration 21.\n"
     ]
    },
    {
     "name": "stderr",
     "output_type": "stream",
     "text": [
      "[I 2025-05-15 18:15:33,937] Trial 27 finished with value: -0.015898 and parameters: {'max_depth': 10, 'min_child_weight': 165, 'subsample': 0.8138871702585931, 'colsample_bynode': 0.336953977151347, 'learning_rate': 0.04675365154451305}. Best is trial 15 with value: -0.474412.\n"
     ]
    },
    {
     "name": "stderr",
     "output_type": "stream",
     "text": [
      "[I 2025-05-15 18:15:34,099] Trial 28 finished with value: -0.015898 and parameters: {'max_depth': 7, 'min_child_weight': 209, 'subsample': 0.9262508065463787, 'colsample_bynode': 0.41885926193580825, 'learning_rate': 0.14643090405097756}. Best is trial 15 with value: -0.474412.\n"
     ]
    },
    {
     "name": "stderr",
     "output_type": "stream",
     "text": [
      "[I 2025-05-15 18:15:34,264] Trial 29 finished with value: -0.015898 and parameters: {'max_depth': 8, 'min_child_weight': 101, 'subsample': 0.7461643466838445, 'colsample_bynode': 0.5064355432829684, 'learning_rate': 0.05590077096713094}. Best is trial 15 with value: -0.474412.\n"
     ]
    },
    {
     "name": "stderr",
     "output_type": "stream",
     "text": [
      "[I 2025-05-15 18:15:34,434] Trial 30 finished with value: -0.015898 and parameters: {'max_depth': 10, 'min_child_weight': 150, 'subsample': 0.48408877480742074, 'colsample_bynode': 0.6842806967999209, 'learning_rate': 0.027106705113553353}. Best is trial 15 with value: -0.474412.\n"
     ]
    },
    {
     "name": "stderr",
     "output_type": "stream",
     "text": [
      "[I 2025-05-15 18:15:34,639] Trial 31 pruned. Trial was pruned at iteration 21.\n"
     ]
    },
    {
     "name": "stderr",
     "output_type": "stream",
     "text": [
      "[I 2025-05-15 18:15:34,860] Trial 32 pruned. Trial was pruned at iteration 21.\n"
     ]
    },
    {
     "name": "stderr",
     "output_type": "stream",
     "text": [
      "[I 2025-05-15 18:15:35,024] Trial 33 pruned. Trial was pruned at iteration 21.\n"
     ]
    },
    {
     "name": "stderr",
     "output_type": "stream",
     "text": [
      "[I 2025-05-15 18:15:35,632] Trial 34 finished with value: -0.451198 and parameters: {'max_depth': 3, 'min_child_weight': 1, 'subsample': 0.8430053099999919, 'colsample_bynode': 0.5464402198047847, 'learning_rate': 0.11065469301301047}. Best is trial 15 with value: -0.474412.\n"
     ]
    },
    {
     "name": "stderr",
     "output_type": "stream",
     "text": [
      "[I 2025-05-15 18:15:35,913] Trial 35 finished with value: -0.367853 and parameters: {'max_depth': 3, 'min_child_weight': 2, 'subsample': 0.9994721446789168, 'colsample_bynode': 0.8458833094836274, 'learning_rate': 0.10588448945114126}. Best is trial 15 with value: -0.474412.\n"
     ]
    },
    {
     "name": "stderr",
     "output_type": "stream",
     "text": [
      "[I 2025-05-15 18:15:36,075] Trial 36 pruned. Trial was pruned at iteration 21.\n"
     ]
    },
    {
     "name": "stderr",
     "output_type": "stream",
     "text": [
      "[I 2025-05-15 18:15:36,224] Trial 37 pruned. Trial was pruned at iteration 21.\n"
     ]
    },
    {
     "name": "stderr",
     "output_type": "stream",
     "text": [
      "[I 2025-05-15 18:15:36,381] Trial 38 finished with value: -0.015898 and parameters: {'max_depth': 7, 'min_child_weight': 57, 'subsample': 0.6247172866424977, 'colsample_bynode': 0.5408361224920974, 'learning_rate': 0.01035820812933479}. Best is trial 15 with value: -0.474412.\n"
     ]
    },
    {
     "name": "stderr",
     "output_type": "stream",
     "text": [
      "[I 2025-05-15 18:15:36,530] Trial 39 finished with value: -0.015898 and parameters: {'max_depth': 15, 'min_child_weight': 76, 'subsample': 0.9269841952436398, 'colsample_bynode': 0.21990539340610776, 'learning_rate': 0.03196858533980793}. Best is trial 15 with value: -0.474412.\n"
     ]
    },
    {
     "name": "stderr",
     "output_type": "stream",
     "text": [
      "[I 2025-05-15 18:15:36,682] Trial 40 finished with value: -0.015898 and parameters: {'max_depth': 3, 'min_child_weight': 218, 'subsample': 0.3008634073330152, 'colsample_bynode': 0.7518932390101705, 'learning_rate': 0.34469594988856356}. Best is trial 15 with value: -0.474412.\n"
     ]
    },
    {
     "name": "stderr",
     "output_type": "stream",
     "text": [
      "[I 2025-05-15 18:15:36,912] Trial 41 pruned. Trial was pruned at iteration 21.\n"
     ]
    },
    {
     "name": "stderr",
     "output_type": "stream",
     "text": [
      "[I 2025-05-15 18:15:37,077] Trial 42 pruned. Trial was pruned at iteration 21.\n"
     ]
    },
    {
     "name": "stderr",
     "output_type": "stream",
     "text": [
      "[I 2025-05-15 18:15:37,306] Trial 43 pruned. Trial was pruned at iteration 21.\n"
     ]
    },
    {
     "name": "stderr",
     "output_type": "stream",
     "text": [
      "[I 2025-05-15 18:15:37,489] Trial 44 pruned. Trial was pruned at iteration 21.\n"
     ]
    },
    {
     "name": "stderr",
     "output_type": "stream",
     "text": [
      "[I 2025-05-15 18:15:37,886] Trial 45 finished with value: -0.425327 and parameters: {'max_depth': 4, 'min_child_weight': 1, 'subsample': 0.7960861928727062, 'colsample_bynode': 0.7606853535867685, 'learning_rate': 0.021513604207650933}. Best is trial 15 with value: -0.474412.\n"
     ]
    },
    {
     "name": "stderr",
     "output_type": "stream",
     "text": [
      "[I 2025-05-15 18:15:38,137] Trial 46 pruned. Trial was pruned at iteration 21.\n"
     ]
    },
    {
     "name": "stderr",
     "output_type": "stream",
     "text": [
      "[I 2025-05-15 18:15:38,655] Trial 47 finished with value: -0.433917 and parameters: {'max_depth': 13, 'min_child_weight': 1, 'subsample': 0.7947151476037028, 'colsample_bynode': 0.7535109694704318, 'learning_rate': 0.010793886043139977}. Best is trial 15 with value: -0.474412.\n"
     ]
    },
    {
     "name": "stderr",
     "output_type": "stream",
     "text": [
      "[I 2025-05-15 18:15:38,843] Trial 48 finished with value: -0.115706 and parameters: {'max_depth': 13, 'min_child_weight': 46, 'subsample': 0.7836980726875689, 'colsample_bynode': 0.9079407988084127, 'learning_rate': 0.006103809422328435}. Best is trial 15 with value: -0.474412.\n"
     ]
    },
    {
     "name": "stderr",
     "output_type": "stream",
     "text": [
      "[I 2025-05-15 18:15:39,017] Trial 49 finished with value: -0.115706 and parameters: {'max_depth': 18, 'min_child_weight': 35, 'subsample': 0.7169346444934804, 'colsample_bynode': 0.7370375122285967, 'learning_rate': 0.008602100119669739}. Best is trial 15 with value: -0.474412.\n"
     ]
    }
   ],
   "source": [
    "sampler = optuna.samplers.TPESampler(seed=42)\n",
    "study = optuna.create_study(direction='minimize', sampler=sampler)\n",
    "study.optimize(objective, n_trials=N_TRIALS, gc_after_trial=True)"
   ]
  },
  {
   "cell_type": "code",
   "execution_count": 20,
   "id": "8f9f7c1c",
   "metadata": {
    "execution": {
     "iopub.execute_input": "2025-05-15T16:15:39.157775Z",
     "iopub.status.busy": "2025-05-15T16:15:39.157614Z",
     "iopub.status.idle": "2025-05-15T16:15:39.179495Z",
     "shell.execute_reply": "2025-05-15T16:15:39.179178Z"
    },
    "papermill": {
     "duration": 0.031353,
     "end_time": "2025-05-15T16:15:39.180325",
     "exception": false,
     "start_time": "2025-05-15T16:15:39.148972",
     "status": "completed"
    },
    "tags": []
   },
   "outputs": [
    {
     "data": {
      "text/plain": [
       "['/scratch_isilon/groups/singlecell/shared/projects/Inflammation-PBMCs-Atlas/03_downstream_analysis/08_gene_importance/xgboost_external_validation/xgboost_TopN_genes/results_20/study/Plasma_2_4_xgboost.pkl']"
      ]
     },
     "execution_count": 20,
     "metadata": {},
     "output_type": "execute_result"
    }
   ],
   "source": [
    "out_dir = here(f'03_downstream_analysis/08_gene_importance/xgboost_external_validation/xgboost_TopN_genes/results_{N_GENES}/study')\n",
    "\n",
    "if not os.path.exists(out_dir):\n",
    "    os.makedirs(out_dir)\n",
    "    \n",
    "joblib.dump(study,os.path.join(out_dir, f'{CELL_TYPE}_{SEED}_{TEST_SPLIT_IDX}_xgboost.pkl'))"
   ]
  },
  {
   "cell_type": "code",
   "execution_count": 21,
   "id": "bf778684",
   "metadata": {
    "execution": {
     "iopub.execute_input": "2025-05-15T16:15:39.196778Z",
     "iopub.status.busy": "2025-05-15T16:15:39.196516Z",
     "iopub.status.idle": "2025-05-15T16:15:39.226069Z",
     "shell.execute_reply": "2025-05-15T16:15:39.225698Z"
    },
    "papermill": {
     "duration": 0.038666,
     "end_time": "2025-05-15T16:15:39.226910",
     "exception": false,
     "start_time": "2025-05-15T16:15:39.188244",
     "status": "completed"
    },
    "tags": []
   },
   "outputs": [
    {
     "data": {
      "text/html": [
       "<style>#sk-container-id-1 {\n",
       "  /* Definition of color scheme common for light and dark mode */\n",
       "  --sklearn-color-text: black;\n",
       "  --sklearn-color-line: gray;\n",
       "  /* Definition of color scheme for unfitted estimators */\n",
       "  --sklearn-color-unfitted-level-0: #fff5e6;\n",
       "  --sklearn-color-unfitted-level-1: #f6e4d2;\n",
       "  --sklearn-color-unfitted-level-2: #ffe0b3;\n",
       "  --sklearn-color-unfitted-level-3: chocolate;\n",
       "  /* Definition of color scheme for fitted estimators */\n",
       "  --sklearn-color-fitted-level-0: #f0f8ff;\n",
       "  --sklearn-color-fitted-level-1: #d4ebff;\n",
       "  --sklearn-color-fitted-level-2: #b3dbfd;\n",
       "  --sklearn-color-fitted-level-3: cornflowerblue;\n",
       "\n",
       "  /* Specific color for light theme */\n",
       "  --sklearn-color-text-on-default-background: var(--sg-text-color, var(--theme-code-foreground, var(--jp-content-font-color1, black)));\n",
       "  --sklearn-color-background: var(--sg-background-color, var(--theme-background, var(--jp-layout-color0, white)));\n",
       "  --sklearn-color-border-box: var(--sg-text-color, var(--theme-code-foreground, var(--jp-content-font-color1, black)));\n",
       "  --sklearn-color-icon: #696969;\n",
       "\n",
       "  @media (prefers-color-scheme: dark) {\n",
       "    /* Redefinition of color scheme for dark theme */\n",
       "    --sklearn-color-text-on-default-background: var(--sg-text-color, var(--theme-code-foreground, var(--jp-content-font-color1, white)));\n",
       "    --sklearn-color-background: var(--sg-background-color, var(--theme-background, var(--jp-layout-color0, #111)));\n",
       "    --sklearn-color-border-box: var(--sg-text-color, var(--theme-code-foreground, var(--jp-content-font-color1, white)));\n",
       "    --sklearn-color-icon: #878787;\n",
       "  }\n",
       "}\n",
       "\n",
       "#sk-container-id-1 {\n",
       "  color: var(--sklearn-color-text);\n",
       "}\n",
       "\n",
       "#sk-container-id-1 pre {\n",
       "  padding: 0;\n",
       "}\n",
       "\n",
       "#sk-container-id-1 input.sk-hidden--visually {\n",
       "  border: 0;\n",
       "  clip: rect(1px 1px 1px 1px);\n",
       "  clip: rect(1px, 1px, 1px, 1px);\n",
       "  height: 1px;\n",
       "  margin: -1px;\n",
       "  overflow: hidden;\n",
       "  padding: 0;\n",
       "  position: absolute;\n",
       "  width: 1px;\n",
       "}\n",
       "\n",
       "#sk-container-id-1 div.sk-dashed-wrapped {\n",
       "  border: 1px dashed var(--sklearn-color-line);\n",
       "  margin: 0 0.4em 0.5em 0.4em;\n",
       "  box-sizing: border-box;\n",
       "  padding-bottom: 0.4em;\n",
       "  background-color: var(--sklearn-color-background);\n",
       "}\n",
       "\n",
       "#sk-container-id-1 div.sk-container {\n",
       "  /* jupyter's `normalize.less` sets `[hidden] { display: none; }`\n",
       "     but bootstrap.min.css set `[hidden] { display: none !important; }`\n",
       "     so we also need the `!important` here to be able to override the\n",
       "     default hidden behavior on the sphinx rendered scikit-learn.org.\n",
       "     See: https://github.com/scikit-learn/scikit-learn/issues/21755 */\n",
       "  display: inline-block !important;\n",
       "  position: relative;\n",
       "}\n",
       "\n",
       "#sk-container-id-1 div.sk-text-repr-fallback {\n",
       "  display: none;\n",
       "}\n",
       "\n",
       "div.sk-parallel-item,\n",
       "div.sk-serial,\n",
       "div.sk-item {\n",
       "  /* draw centered vertical line to link estimators */\n",
       "  background-image: linear-gradient(var(--sklearn-color-text-on-default-background), var(--sklearn-color-text-on-default-background));\n",
       "  background-size: 2px 100%;\n",
       "  background-repeat: no-repeat;\n",
       "  background-position: center center;\n",
       "}\n",
       "\n",
       "/* Parallel-specific style estimator block */\n",
       "\n",
       "#sk-container-id-1 div.sk-parallel-item::after {\n",
       "  content: \"\";\n",
       "  width: 100%;\n",
       "  border-bottom: 2px solid var(--sklearn-color-text-on-default-background);\n",
       "  flex-grow: 1;\n",
       "}\n",
       "\n",
       "#sk-container-id-1 div.sk-parallel {\n",
       "  display: flex;\n",
       "  align-items: stretch;\n",
       "  justify-content: center;\n",
       "  background-color: var(--sklearn-color-background);\n",
       "  position: relative;\n",
       "}\n",
       "\n",
       "#sk-container-id-1 div.sk-parallel-item {\n",
       "  display: flex;\n",
       "  flex-direction: column;\n",
       "}\n",
       "\n",
       "#sk-container-id-1 div.sk-parallel-item:first-child::after {\n",
       "  align-self: flex-end;\n",
       "  width: 50%;\n",
       "}\n",
       "\n",
       "#sk-container-id-1 div.sk-parallel-item:last-child::after {\n",
       "  align-self: flex-start;\n",
       "  width: 50%;\n",
       "}\n",
       "\n",
       "#sk-container-id-1 div.sk-parallel-item:only-child::after {\n",
       "  width: 0;\n",
       "}\n",
       "\n",
       "/* Serial-specific style estimator block */\n",
       "\n",
       "#sk-container-id-1 div.sk-serial {\n",
       "  display: flex;\n",
       "  flex-direction: column;\n",
       "  align-items: center;\n",
       "  background-color: var(--sklearn-color-background);\n",
       "  padding-right: 1em;\n",
       "  padding-left: 1em;\n",
       "}\n",
       "\n",
       "\n",
       "/* Toggleable style: style used for estimator/Pipeline/ColumnTransformer box that is\n",
       "clickable and can be expanded/collapsed.\n",
       "- Pipeline and ColumnTransformer use this feature and define the default style\n",
       "- Estimators will overwrite some part of the style using the `sk-estimator` class\n",
       "*/\n",
       "\n",
       "/* Pipeline and ColumnTransformer style (default) */\n",
       "\n",
       "#sk-container-id-1 div.sk-toggleable {\n",
       "  /* Default theme specific background. It is overwritten whether we have a\n",
       "  specific estimator or a Pipeline/ColumnTransformer */\n",
       "  background-color: var(--sklearn-color-background);\n",
       "}\n",
       "\n",
       "/* Toggleable label */\n",
       "#sk-container-id-1 label.sk-toggleable__label {\n",
       "  cursor: pointer;\n",
       "  display: block;\n",
       "  width: 100%;\n",
       "  margin-bottom: 0;\n",
       "  padding: 0.5em;\n",
       "  box-sizing: border-box;\n",
       "  text-align: center;\n",
       "}\n",
       "\n",
       "#sk-container-id-1 label.sk-toggleable__label-arrow:before {\n",
       "  /* Arrow on the left of the label */\n",
       "  content: \"▸\";\n",
       "  float: left;\n",
       "  margin-right: 0.25em;\n",
       "  color: var(--sklearn-color-icon);\n",
       "}\n",
       "\n",
       "#sk-container-id-1 label.sk-toggleable__label-arrow:hover:before {\n",
       "  color: var(--sklearn-color-text);\n",
       "}\n",
       "\n",
       "/* Toggleable content - dropdown */\n",
       "\n",
       "#sk-container-id-1 div.sk-toggleable__content {\n",
       "  max-height: 0;\n",
       "  max-width: 0;\n",
       "  overflow: hidden;\n",
       "  text-align: left;\n",
       "  /* unfitted */\n",
       "  background-color: var(--sklearn-color-unfitted-level-0);\n",
       "}\n",
       "\n",
       "#sk-container-id-1 div.sk-toggleable__content.fitted {\n",
       "  /* fitted */\n",
       "  background-color: var(--sklearn-color-fitted-level-0);\n",
       "}\n",
       "\n",
       "#sk-container-id-1 div.sk-toggleable__content pre {\n",
       "  margin: 0.2em;\n",
       "  border-radius: 0.25em;\n",
       "  color: var(--sklearn-color-text);\n",
       "  /* unfitted */\n",
       "  background-color: var(--sklearn-color-unfitted-level-0);\n",
       "}\n",
       "\n",
       "#sk-container-id-1 div.sk-toggleable__content.fitted pre {\n",
       "  /* unfitted */\n",
       "  background-color: var(--sklearn-color-fitted-level-0);\n",
       "}\n",
       "\n",
       "#sk-container-id-1 input.sk-toggleable__control:checked~div.sk-toggleable__content {\n",
       "  /* Expand drop-down */\n",
       "  max-height: 200px;\n",
       "  max-width: 100%;\n",
       "  overflow: auto;\n",
       "}\n",
       "\n",
       "#sk-container-id-1 input.sk-toggleable__control:checked~label.sk-toggleable__label-arrow:before {\n",
       "  content: \"▾\";\n",
       "}\n",
       "\n",
       "/* Pipeline/ColumnTransformer-specific style */\n",
       "\n",
       "#sk-container-id-1 div.sk-label input.sk-toggleable__control:checked~label.sk-toggleable__label {\n",
       "  color: var(--sklearn-color-text);\n",
       "  background-color: var(--sklearn-color-unfitted-level-2);\n",
       "}\n",
       "\n",
       "#sk-container-id-1 div.sk-label.fitted input.sk-toggleable__control:checked~label.sk-toggleable__label {\n",
       "  background-color: var(--sklearn-color-fitted-level-2);\n",
       "}\n",
       "\n",
       "/* Estimator-specific style */\n",
       "\n",
       "/* Colorize estimator box */\n",
       "#sk-container-id-1 div.sk-estimator input.sk-toggleable__control:checked~label.sk-toggleable__label {\n",
       "  /* unfitted */\n",
       "  background-color: var(--sklearn-color-unfitted-level-2);\n",
       "}\n",
       "\n",
       "#sk-container-id-1 div.sk-estimator.fitted input.sk-toggleable__control:checked~label.sk-toggleable__label {\n",
       "  /* fitted */\n",
       "  background-color: var(--sklearn-color-fitted-level-2);\n",
       "}\n",
       "\n",
       "#sk-container-id-1 div.sk-label label.sk-toggleable__label,\n",
       "#sk-container-id-1 div.sk-label label {\n",
       "  /* The background is the default theme color */\n",
       "  color: var(--sklearn-color-text-on-default-background);\n",
       "}\n",
       "\n",
       "/* On hover, darken the color of the background */\n",
       "#sk-container-id-1 div.sk-label:hover label.sk-toggleable__label {\n",
       "  color: var(--sklearn-color-text);\n",
       "  background-color: var(--sklearn-color-unfitted-level-2);\n",
       "}\n",
       "\n",
       "/* Label box, darken color on hover, fitted */\n",
       "#sk-container-id-1 div.sk-label.fitted:hover label.sk-toggleable__label.fitted {\n",
       "  color: var(--sklearn-color-text);\n",
       "  background-color: var(--sklearn-color-fitted-level-2);\n",
       "}\n",
       "\n",
       "/* Estimator label */\n",
       "\n",
       "#sk-container-id-1 div.sk-label label {\n",
       "  font-family: monospace;\n",
       "  font-weight: bold;\n",
       "  display: inline-block;\n",
       "  line-height: 1.2em;\n",
       "}\n",
       "\n",
       "#sk-container-id-1 div.sk-label-container {\n",
       "  text-align: center;\n",
       "}\n",
       "\n",
       "/* Estimator-specific */\n",
       "#sk-container-id-1 div.sk-estimator {\n",
       "  font-family: monospace;\n",
       "  border: 1px dotted var(--sklearn-color-border-box);\n",
       "  border-radius: 0.25em;\n",
       "  box-sizing: border-box;\n",
       "  margin-bottom: 0.5em;\n",
       "  /* unfitted */\n",
       "  background-color: var(--sklearn-color-unfitted-level-0);\n",
       "}\n",
       "\n",
       "#sk-container-id-1 div.sk-estimator.fitted {\n",
       "  /* fitted */\n",
       "  background-color: var(--sklearn-color-fitted-level-0);\n",
       "}\n",
       "\n",
       "/* on hover */\n",
       "#sk-container-id-1 div.sk-estimator:hover {\n",
       "  /* unfitted */\n",
       "  background-color: var(--sklearn-color-unfitted-level-2);\n",
       "}\n",
       "\n",
       "#sk-container-id-1 div.sk-estimator.fitted:hover {\n",
       "  /* fitted */\n",
       "  background-color: var(--sklearn-color-fitted-level-2);\n",
       "}\n",
       "\n",
       "/* Specification for estimator info (e.g. \"i\" and \"?\") */\n",
       "\n",
       "/* Common style for \"i\" and \"?\" */\n",
       "\n",
       ".sk-estimator-doc-link,\n",
       "a:link.sk-estimator-doc-link,\n",
       "a:visited.sk-estimator-doc-link {\n",
       "  float: right;\n",
       "  font-size: smaller;\n",
       "  line-height: 1em;\n",
       "  font-family: monospace;\n",
       "  background-color: var(--sklearn-color-background);\n",
       "  border-radius: 1em;\n",
       "  height: 1em;\n",
       "  width: 1em;\n",
       "  text-decoration: none !important;\n",
       "  margin-left: 1ex;\n",
       "  /* unfitted */\n",
       "  border: var(--sklearn-color-unfitted-level-1) 1pt solid;\n",
       "  color: var(--sklearn-color-unfitted-level-1);\n",
       "}\n",
       "\n",
       ".sk-estimator-doc-link.fitted,\n",
       "a:link.sk-estimator-doc-link.fitted,\n",
       "a:visited.sk-estimator-doc-link.fitted {\n",
       "  /* fitted */\n",
       "  border: var(--sklearn-color-fitted-level-1) 1pt solid;\n",
       "  color: var(--sklearn-color-fitted-level-1);\n",
       "}\n",
       "\n",
       "/* On hover */\n",
       "div.sk-estimator:hover .sk-estimator-doc-link:hover,\n",
       ".sk-estimator-doc-link:hover,\n",
       "div.sk-label-container:hover .sk-estimator-doc-link:hover,\n",
       ".sk-estimator-doc-link:hover {\n",
       "  /* unfitted */\n",
       "  background-color: var(--sklearn-color-unfitted-level-3);\n",
       "  color: var(--sklearn-color-background);\n",
       "  text-decoration: none;\n",
       "}\n",
       "\n",
       "div.sk-estimator.fitted:hover .sk-estimator-doc-link.fitted:hover,\n",
       ".sk-estimator-doc-link.fitted:hover,\n",
       "div.sk-label-container:hover .sk-estimator-doc-link.fitted:hover,\n",
       ".sk-estimator-doc-link.fitted:hover {\n",
       "  /* fitted */\n",
       "  background-color: var(--sklearn-color-fitted-level-3);\n",
       "  color: var(--sklearn-color-background);\n",
       "  text-decoration: none;\n",
       "}\n",
       "\n",
       "/* Span, style for the box shown on hovering the info icon */\n",
       ".sk-estimator-doc-link span {\n",
       "  display: none;\n",
       "  z-index: 9999;\n",
       "  position: relative;\n",
       "  font-weight: normal;\n",
       "  right: .2ex;\n",
       "  padding: .5ex;\n",
       "  margin: .5ex;\n",
       "  width: min-content;\n",
       "  min-width: 20ex;\n",
       "  max-width: 50ex;\n",
       "  color: var(--sklearn-color-text);\n",
       "  box-shadow: 2pt 2pt 4pt #999;\n",
       "  /* unfitted */\n",
       "  background: var(--sklearn-color-unfitted-level-0);\n",
       "  border: .5pt solid var(--sklearn-color-unfitted-level-3);\n",
       "}\n",
       "\n",
       ".sk-estimator-doc-link.fitted span {\n",
       "  /* fitted */\n",
       "  background: var(--sklearn-color-fitted-level-0);\n",
       "  border: var(--sklearn-color-fitted-level-3);\n",
       "}\n",
       "\n",
       ".sk-estimator-doc-link:hover span {\n",
       "  display: block;\n",
       "}\n",
       "\n",
       "/* \"?\"-specific style due to the `<a>` HTML tag */\n",
       "\n",
       "#sk-container-id-1 a.estimator_doc_link {\n",
       "  float: right;\n",
       "  font-size: 1rem;\n",
       "  line-height: 1em;\n",
       "  font-family: monospace;\n",
       "  background-color: var(--sklearn-color-background);\n",
       "  border-radius: 1rem;\n",
       "  height: 1rem;\n",
       "  width: 1rem;\n",
       "  text-decoration: none;\n",
       "  /* unfitted */\n",
       "  color: var(--sklearn-color-unfitted-level-1);\n",
       "  border: var(--sklearn-color-unfitted-level-1) 1pt solid;\n",
       "}\n",
       "\n",
       "#sk-container-id-1 a.estimator_doc_link.fitted {\n",
       "  /* fitted */\n",
       "  border: var(--sklearn-color-fitted-level-1) 1pt solid;\n",
       "  color: var(--sklearn-color-fitted-level-1);\n",
       "}\n",
       "\n",
       "/* On hover */\n",
       "#sk-container-id-1 a.estimator_doc_link:hover {\n",
       "  /* unfitted */\n",
       "  background-color: var(--sklearn-color-unfitted-level-3);\n",
       "  color: var(--sklearn-color-background);\n",
       "  text-decoration: none;\n",
       "}\n",
       "\n",
       "#sk-container-id-1 a.estimator_doc_link.fitted:hover {\n",
       "  /* fitted */\n",
       "  background-color: var(--sklearn-color-fitted-level-3);\n",
       "}\n",
       "</style><div id=\"sk-container-id-1\" class=\"sk-top-container\"><div class=\"sk-text-repr-fallback\"><pre>XGBClassifier(base_score=None, booster=None, callbacks=None,\n",
       "              colsample_bylevel=None, colsample_bynode=0.29820978139149346,\n",
       "              colsample_bytree=None, device=None, early_stopping_rounds=None,\n",
       "              enable_categorical=False,\n",
       "              eval_metric=&lt;function custom_f1_score at 0x7fa728d785e0&gt;,\n",
       "              feature_types=None, gamma=None, grow_policy=None,\n",
       "              importance_type=None, interaction_constraints=None,\n",
       "              learning_rate=0.03580498851951521, max_bin=None,\n",
       "              max_cat_threshold=None, max_cat_to_onehot=None,\n",
       "              max_delta_step=None, max_depth=20, max_leaves=None,\n",
       "              min_child_weight=1, missing=nan, monotone_constraints=None,\n",
       "              multi_strategy=None, n_estimators=1, n_jobs=None,\n",
       "              num_parallel_tree=None, objective=&#x27;multi:softprob&#x27;, ...)</pre><b>In a Jupyter environment, please rerun this cell to show the HTML representation or trust the notebook. <br />On GitHub, the HTML representation is unable to render, please try loading this page with nbviewer.org.</b></div><div class=\"sk-container\" hidden><div class=\"sk-item\"><div class=\"sk-estimator fitted sk-toggleable\"><input class=\"sk-toggleable__control sk-hidden--visually\" id=\"sk-estimator-id-1\" type=\"checkbox\" checked><label for=\"sk-estimator-id-1\" class=\"sk-toggleable__label fitted sk-toggleable__label-arrow fitted\">&nbsp;XGBClassifier<span class=\"sk-estimator-doc-link fitted\">i<span>Fitted</span></span></label><div class=\"sk-toggleable__content fitted\"><pre>XGBClassifier(base_score=None, booster=None, callbacks=None,\n",
       "              colsample_bylevel=None, colsample_bynode=0.29820978139149346,\n",
       "              colsample_bytree=None, device=None, early_stopping_rounds=None,\n",
       "              enable_categorical=False,\n",
       "              eval_metric=&lt;function custom_f1_score at 0x7fa728d785e0&gt;,\n",
       "              feature_types=None, gamma=None, grow_policy=None,\n",
       "              importance_type=None, interaction_constraints=None,\n",
       "              learning_rate=0.03580498851951521, max_bin=None,\n",
       "              max_cat_threshold=None, max_cat_to_onehot=None,\n",
       "              max_delta_step=None, max_depth=20, max_leaves=None,\n",
       "              min_child_weight=1, missing=nan, monotone_constraints=None,\n",
       "              multi_strategy=None, n_estimators=1, n_jobs=None,\n",
       "              num_parallel_tree=None, objective=&#x27;multi:softprob&#x27;, ...)</pre></div> </div></div></div></div>"
      ],
      "text/plain": [
       "XGBClassifier(base_score=None, booster=None, callbacks=None,\n",
       "              colsample_bylevel=None, colsample_bynode=0.29820978139149346,\n",
       "              colsample_bytree=None, device=None, early_stopping_rounds=None,\n",
       "              enable_categorical=False,\n",
       "              eval_metric=<function custom_f1_score at 0x7fa728d785e0>,\n",
       "              feature_types=None, gamma=None, grow_policy=None,\n",
       "              importance_type=None, interaction_constraints=None,\n",
       "              learning_rate=0.03580498851951521, max_bin=None,\n",
       "              max_cat_threshold=None, max_cat_to_onehot=None,\n",
       "              max_delta_step=None, max_depth=20, max_leaves=None,\n",
       "              min_child_weight=1, missing=nan, monotone_constraints=None,\n",
       "              multi_strategy=None, n_estimators=1, n_jobs=None,\n",
       "              num_parallel_tree=None, objective='multi:softprob', ...)"
      ]
     },
     "execution_count": 21,
     "metadata": {},
     "output_type": "execute_result"
    }
   ],
   "source": [
    "n_estimators = int(study.best_trial.user_attrs['best_iteration']*1.2)\n",
    "xgb = xgboost.XGBClassifier(\n",
    "        eval_metric=eval_metric,\n",
    "        n_estimators=n_estimators,\n",
    "        **study.best_trial.params\n",
    "    )\n",
    "xgb.fit(\n",
    "    ssp.vstack((X_train, X_val)), \n",
    "    np.concatenate((y_train_enc, y_val_enc)),\n",
    "    verbose=1,\n",
    ")"
   ]
  },
  {
   "cell_type": "code",
   "execution_count": 22,
   "id": "c199fb1b",
   "metadata": {
    "execution": {
     "iopub.execute_input": "2025-05-15T16:15:39.245606Z",
     "iopub.status.busy": "2025-05-15T16:15:39.245133Z",
     "iopub.status.idle": "2025-05-15T16:15:39.254233Z",
     "shell.execute_reply": "2025-05-15T16:15:39.253921Z"
    },
    "papermill": {
     "duration": 0.022678,
     "end_time": "2025-05-15T16:15:39.258417",
     "exception": false,
     "start_time": "2025-05-15T16:15:39.235739",
     "status": "completed"
    },
    "tags": []
   },
   "outputs": [
    {
     "data": {
      "text/plain": [
       "['/scratch_isilon/groups/singlecell/shared/projects/Inflammation-PBMCs-Atlas/03_downstream_analysis/08_gene_importance/xgboost_external_validation/xgboost_TopN_genes/results_20/best_model/Plasma_2_4_xgb.json']"
      ]
     },
     "execution_count": 22,
     "metadata": {},
     "output_type": "execute_result"
    }
   ],
   "source": [
    "out_dir = here(f'03_downstream_analysis/08_gene_importance/xgboost_external_validation/xgboost_TopN_genes/results_{N_GENES}/best_model')\n",
    "\n",
    "if not os.path.exists(out_dir):\n",
    "    os.makedirs(out_dir)\n",
    "    \n",
    "joblib.dump(xgb, os.path.join(out_dir, f'{CELL_TYPE}_{SEED}_{TEST_SPLIT_IDX}_xgb.json'))"
   ]
  },
  {
   "cell_type": "code",
   "execution_count": 23,
   "id": "6382c82c",
   "metadata": {
    "execution": {
     "iopub.execute_input": "2025-05-15T16:15:39.275832Z",
     "iopub.status.busy": "2025-05-15T16:15:39.275692Z",
     "iopub.status.idle": "2025-05-15T16:15:39.284262Z",
     "shell.execute_reply": "2025-05-15T16:15:39.283947Z"
    },
    "papermill": {
     "duration": 0.018478,
     "end_time": "2025-05-15T16:15:39.285416",
     "exception": false,
     "start_time": "2025-05-15T16:15:39.266938",
     "status": "completed"
    },
    "tags": []
   },
   "outputs": [],
   "source": [
    "df_pred_test = pd.DataFrame(dict(\n",
    "    cell_id=train_adata.obs.iloc[test_idxs].index.values,\n",
    "    y_true=y_test, \n",
    "    y_true_code=y_test_enc, \n",
    "    y_pred=xgb.predict(X_test))).set_index('cell_id')"
   ]
  },
  {
   "cell_type": "code",
   "execution_count": 24,
   "id": "5e0a8029",
   "metadata": {
    "execution": {
     "iopub.execute_input": "2025-05-15T16:15:39.302778Z",
     "iopub.status.busy": "2025-05-15T16:15:39.302526Z",
     "iopub.status.idle": "2025-05-15T16:15:39.314001Z",
     "shell.execute_reply": "2025-05-15T16:15:39.313609Z"
    },
    "papermill": {
     "duration": 0.021028,
     "end_time": "2025-05-15T16:15:39.314804",
     "exception": false,
     "start_time": "2025-05-15T16:15:39.293776",
     "status": "completed"
    },
    "tags": []
   },
   "outputs": [],
   "source": [
    "out_dir = here(f'03_downstream_analysis/08_gene_importance/xgboost_external_validation/xgboost_TopN_genes/results_{N_GENES}/predictions')\n",
    "\n",
    "if not os.path.exists(out_dir):\n",
    "    os.makedirs(out_dir)\n",
    "    \n",
    "df_pred_test.to_csv(os.path.join(out_dir, f'{CELL_TYPE}_{SEED}_{TEST_SPLIT_IDX}_pred_test.zip'))"
   ]
  },
  {
   "cell_type": "code",
   "execution_count": 25,
   "id": "a3d5eabb",
   "metadata": {
    "execution": {
     "iopub.execute_input": "2025-05-15T16:15:39.332665Z",
     "iopub.status.busy": "2025-05-15T16:15:39.332270Z",
     "iopub.status.idle": "2025-05-15T16:15:39.339196Z",
     "shell.execute_reply": "2025-05-15T16:15:39.338859Z"
    },
    "papermill": {
     "duration": 0.016663,
     "end_time": "2025-05-15T16:15:39.339995",
     "exception": false,
     "start_time": "2025-05-15T16:15:39.323332",
     "status": "completed"
    },
    "tags": []
   },
   "outputs": [
    {
     "name": "stderr",
     "output_type": "stream",
     "text": [
      "/scratch_isilon/groups/singlecell/shared/conda_env/xgboost-cpu/lib/python3.12/site-packages/sklearn/metrics/_classification.py:2466: UserWarning: y_pred contains classes not in y_true\n",
      "  warnings.warn(\"y_pred contains classes not in y_true\")\n"
     ]
    }
   ],
   "source": [
    "metrics_dict = dict(\n",
    "    BAS=balanced_accuracy_score(y_true=df_pred_test.y_true_code, y_pred=df_pred_test.y_pred), WF1=f1_score(y_true=df_pred_test.y_true_code, y_pred=df_pred_test.y_pred,average='weighted'))"
   ]
  },
  {
   "cell_type": "code",
   "execution_count": 26,
   "id": "fd292b9a",
   "metadata": {
    "execution": {
     "iopub.execute_input": "2025-05-15T16:15:39.359165Z",
     "iopub.status.busy": "2025-05-15T16:15:39.358908Z",
     "iopub.status.idle": "2025-05-15T16:15:39.361904Z",
     "shell.execute_reply": "2025-05-15T16:15:39.361612Z"
    },
    "papermill": {
     "duration": 0.012853,
     "end_time": "2025-05-15T16:15:39.362669",
     "exception": false,
     "start_time": "2025-05-15T16:15:39.349816",
     "status": "completed"
    },
    "tags": []
   },
   "outputs": [
    {
     "data": {
      "text/plain": [
       "{'BAS': 0.2576694139194139, 'WF1': 0.35913939573519554}"
      ]
     },
     "execution_count": 26,
     "metadata": {},
     "output_type": "execute_result"
    }
   ],
   "source": [
    "metrics_dict"
   ]
  },
  {
   "cell_type": "code",
   "execution_count": 27,
   "id": "d4d1d864",
   "metadata": {
    "execution": {
     "iopub.execute_input": "2025-05-15T16:15:39.387079Z",
     "iopub.status.busy": "2025-05-15T16:15:39.386912Z",
     "iopub.status.idle": "2025-05-15T16:15:39.394645Z",
     "shell.execute_reply": "2025-05-15T16:15:39.394347Z"
    },
    "papermill": {
     "duration": 0.024077,
     "end_time": "2025-05-15T16:15:39.395442",
     "exception": false,
     "start_time": "2025-05-15T16:15:39.371365",
     "status": "completed"
    },
    "tags": []
   },
   "outputs": [
    {
     "data": {
      "text/html": [
       "<div>\n",
       "<style scoped>\n",
       "    .dataframe tbody tr th:only-of-type {\n",
       "        vertical-align: middle;\n",
       "    }\n",
       "\n",
       "    .dataframe tbody tr th {\n",
       "        vertical-align: top;\n",
       "    }\n",
       "\n",
       "    .dataframe thead th {\n",
       "        text-align: right;\n",
       "    }\n",
       "</style>\n",
       "<table border=\"1\" class=\"dataframe\">\n",
       "  <thead>\n",
       "    <tr style=\"text-align: right;\">\n",
       "      <th></th>\n",
       "      <th>BAS</th>\n",
       "      <th>WF1</th>\n",
       "      <th>split_idx</th>\n",
       "      <th>gene_set_seed</th>\n",
       "      <th>cell_type</th>\n",
       "    </tr>\n",
       "  </thead>\n",
       "  <tbody>\n",
       "    <tr>\n",
       "      <th>0</th>\n",
       "      <td>0.257669</td>\n",
       "      <td>0.359139</td>\n",
       "      <td>4</td>\n",
       "      <td>2</td>\n",
       "      <td>Plasma</td>\n",
       "    </tr>\n",
       "  </tbody>\n",
       "</table>\n",
       "</div>"
      ],
      "text/plain": [
       "        BAS       WF1  split_idx  gene_set_seed cell_type\n",
       "0  0.257669  0.359139          4              2    Plasma"
      ]
     },
     "execution_count": 27,
     "metadata": {},
     "output_type": "execute_result"
    }
   ],
   "source": [
    "metrics_df = pd.DataFrame.from_dict([metrics_dict]).assign(split_idx=TEST_SPLIT_IDX, gene_set_seed=SEED, cell_type=CELL_TYPE)\n",
    "metrics_df"
   ]
  },
  {
   "cell_type": "code",
   "execution_count": 28,
   "id": "090577a7",
   "metadata": {
    "execution": {
     "iopub.execute_input": "2025-05-15T16:15:39.413518Z",
     "iopub.status.busy": "2025-05-15T16:15:39.413381Z",
     "iopub.status.idle": "2025-05-15T16:15:39.421001Z",
     "shell.execute_reply": "2025-05-15T16:15:39.420593Z"
    },
    "papermill": {
     "duration": 0.017751,
     "end_time": "2025-05-15T16:15:39.421812",
     "exception": false,
     "start_time": "2025-05-15T16:15:39.404061",
     "status": "completed"
    },
    "tags": []
   },
   "outputs": [],
   "source": [
    "out_dir = here(f'03_downstream_analysis/08_gene_importance/xgboost_external_validation/xgboost_TopN_genes/results_{N_GENES}/metrics')\n",
    "\n",
    "if not os.path.exists(out_dir):\n",
    "    os.makedirs(out_dir)\n",
    "    \n",
    "metrics_df.to_csv(os.path.join(out_dir, f'{CELL_TYPE}_{SEED}_{TEST_SPLIT_IDX}_metrics.zip'))"
   ]
  }
 ],
 "metadata": {
  "kernelspec": {
   "display_name": "Python 3 (ipykernel)",
   "language": "python",
   "name": "python3"
  },
  "language_info": {
   "codemirror_mode": {
    "name": "ipython",
    "version": 3
   },
   "file_extension": ".py",
   "mimetype": "text/x-python",
   "name": "python",
   "nbconvert_exporter": "python",
   "pygments_lexer": "ipython3",
   "version": "3.12.5"
  },
  "papermill": {
   "default_parameters": {},
   "duration": 15.596875,
   "end_time": "2025-05-15T16:15:40.047569",
   "environment_variables": {},
   "exception": null,
   "input_path": "02_xgboost_fitting_external_20genes.ipynb",
   "output_path": "results_20/executed_notebooks/xgboost_fitting_external_CT_Plasma_GS_2_seed4.ipynb",
   "parameters": {
    "CELL_TYPE": "Plasma",
    "SEED": 2,
    "TEST_SPLIT_IDX": 4
   },
   "start_time": "2025-05-15T16:15:24.450694",
   "version": "2.6.0"
  }
 },
 "nbformat": 4,
 "nbformat_minor": 5
}