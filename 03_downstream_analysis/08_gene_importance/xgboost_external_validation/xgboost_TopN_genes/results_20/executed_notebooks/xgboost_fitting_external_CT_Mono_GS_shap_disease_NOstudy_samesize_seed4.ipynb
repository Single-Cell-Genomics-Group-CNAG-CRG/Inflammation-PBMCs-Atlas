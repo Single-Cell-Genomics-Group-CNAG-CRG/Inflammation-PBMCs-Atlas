{
 "cells": [
  {
   "cell_type": "code",
   "execution_count": 1,
   "id": "b2587731",
   "metadata": {
    "editable": true,
    "execution": {
     "iopub.execute_input": "2025-06-13T13:01:10.978064Z",
     "iopub.status.busy": "2025-06-13T13:01:10.977690Z",
     "iopub.status.idle": "2025-06-13T13:01:10.980294Z",
     "shell.execute_reply": "2025-06-13T13:01:10.980003Z"
    },
    "papermill": {
     "duration": 0.016168,
     "end_time": "2025-06-13T13:01:10.982538",
     "exception": false,
     "start_time": "2025-06-13T13:01:10.966370",
     "status": "completed"
    },
    "slideshow": {
     "slide_type": ""
    },
    "tags": [
     "parameters"
    ]
   },
   "outputs": [],
   "source": [
    "CELL_TYPE = 'pDC'\n",
    "N_GENES: int = 20\n",
    "SEED = 'shap_studyID' #'disease_NOstudy' 'study_NOdisease' or 'int' or 'shap_studyID'\n",
    "TEST_SPLIT_IDX: int = 1 #[0,4]"
   ]
  },
  {
   "cell_type": "code",
   "execution_count": 2,
   "id": "fc5d5a32",
   "metadata": {
    "execution": {
     "iopub.execute_input": "2025-06-13T13:01:10.993952Z",
     "iopub.status.busy": "2025-06-13T13:01:10.993580Z",
     "iopub.status.idle": "2025-06-13T13:01:10.995695Z",
     "shell.execute_reply": "2025-06-13T13:01:10.995394Z"
    },
    "papermill": {
     "duration": 0.008392,
     "end_time": "2025-06-13T13:01:10.996527",
     "exception": false,
     "start_time": "2025-06-13T13:01:10.988135",
     "status": "completed"
    },
    "tags": [
     "injected-parameters"
    ]
   },
   "outputs": [],
   "source": [
    "# Parameters\n",
    "CELL_TYPE = \"Mono\"\n",
    "SEED = \"shap_disease_NOstudy_samesize\"\n",
    "TEST_SPLIT_IDX = 4\n"
   ]
  },
  {
   "cell_type": "code",
   "execution_count": 3,
   "id": "fcd9999f",
   "metadata": {
    "execution": {
     "iopub.execute_input": "2025-06-13T13:01:11.007045Z",
     "iopub.status.busy": "2025-06-13T13:01:11.006743Z",
     "iopub.status.idle": "2025-06-13T13:01:11.008713Z",
     "shell.execute_reply": "2025-06-13T13:01:11.008410Z"
    },
    "papermill": {
     "duration": 0.008027,
     "end_time": "2025-06-13T13:01:11.009551",
     "exception": false,
     "start_time": "2025-06-13T13:01:11.001524",
     "status": "completed"
    },
    "tags": []
   },
   "outputs": [],
   "source": [
    "N_SPLITS: int = 5\n",
    "N_TRIALS: int = 50"
   ]
  },
  {
   "cell_type": "code",
   "execution_count": 4,
   "id": "e181341d",
   "metadata": {
    "execution": {
     "iopub.execute_input": "2025-06-13T13:01:11.021250Z",
     "iopub.status.busy": "2025-06-13T13:01:11.020816Z",
     "iopub.status.idle": "2025-06-13T13:01:14.648624Z",
     "shell.execute_reply": "2025-06-13T13:01:14.648164Z"
    },
    "papermill": {
     "duration": 3.635259,
     "end_time": "2025-06-13T13:01:14.649796",
     "exception": false,
     "start_time": "2025-06-13T13:01:11.014537",
     "status": "completed"
    },
    "tags": []
   },
   "outputs": [],
   "source": [
    "import os\n",
    "import sys\n",
    "from pyprojroot.here import here\n",
    "import pandas as pd\n",
    "import anndata as ad\n",
    "import numpy as np\n",
    "import math\n",
    "from sklearn.model_selection import StratifiedGroupKFold\n",
    "from sklearn.preprocessing import LabelEncoder\n",
    "from sklearn.metrics import f1_score\n",
    "import matplotlib.pyplot as plt\n",
    "import seaborn as sns\n",
    "from itertools import product\n",
    "from sklearn.metrics import balanced_accuracy_score, f1_score\n",
    "import optuna\n",
    "\n",
    "import joblib\n",
    "import pickle\n",
    "import datetime\n",
    "\n",
    "import collections\n",
    "\n",
    "import xgboost\n",
    "from sklearn.preprocessing import LabelEncoder\n",
    "\n",
    "import scipy.sparse as ssp\n",
    "import joblib\n",
    "\n",
    "from dotenv import load_dotenv"
   ]
  },
  {
   "cell_type": "code",
   "execution_count": 5,
   "id": "f351520a",
   "metadata": {
    "execution": {
     "iopub.execute_input": "2025-06-13T13:01:14.661079Z",
     "iopub.status.busy": "2025-06-13T13:01:14.660759Z",
     "iopub.status.idle": "2025-06-13T13:01:14.667302Z",
     "shell.execute_reply": "2025-06-13T13:01:14.667001Z"
    },
    "papermill": {
     "duration": 0.013035,
     "end_time": "2025-06-13T13:01:14.668150",
     "exception": false,
     "start_time": "2025-06-13T13:01:14.655115",
     "status": "completed"
    },
    "tags": []
   },
   "outputs": [
    {
     "data": {
      "text/plain": [
       "True"
      ]
     },
     "execution_count": 5,
     "metadata": {},
     "output_type": "execute_result"
    }
   ],
   "source": [
    "load_dotenv()"
   ]
  },
  {
   "cell_type": "markdown",
   "id": "bc8174cc",
   "metadata": {
    "papermill": {
     "duration": 0.004948,
     "end_time": "2025-06-13T13:01:14.687008",
     "exception": false,
     "start_time": "2025-06-13T13:01:14.682060",
     "status": "completed"
    },
    "tags": []
   },
   "source": [
    "# LOAD DATASET"
   ]
  },
  {
   "cell_type": "code",
   "execution_count": 6,
   "id": "5a37bd70",
   "metadata": {
    "execution": {
     "iopub.execute_input": "2025-06-13T13:01:14.698421Z",
     "iopub.status.busy": "2025-06-13T13:01:14.698192Z",
     "iopub.status.idle": "2025-06-13T13:01:15.892018Z",
     "shell.execute_reply": "2025-06-13T13:01:15.891590Z"
    },
    "papermill": {
     "duration": 1.200399,
     "end_time": "2025-06-13T13:01:15.893147",
     "exception": false,
     "start_time": "2025-06-13T13:01:14.692748",
     "status": "completed"
    },
    "tags": []
   },
   "outputs": [],
   "source": [
    "train_adata = ad.read_h5ad(\n",
    "    here(f'03_downstream_analysis/08_gene_importance/xgboost_external_validation/xgboost_TopN_genes/data_cellTypes/EXTERNAL_{CELL_TYPE}.filtered.log1p.h5ad')\n",
    ")"
   ]
  },
  {
   "cell_type": "code",
   "execution_count": 7,
   "id": "ab7b7cad",
   "metadata": {
    "execution": {
     "iopub.execute_input": "2025-06-13T13:01:15.922418Z",
     "iopub.status.busy": "2025-06-13T13:01:15.922226Z",
     "iopub.status.idle": "2025-06-13T13:01:15.971048Z",
     "shell.execute_reply": "2025-06-13T13:01:15.970638Z"
    },
    "papermill": {
     "duration": 0.058188,
     "end_time": "2025-06-13T13:01:15.971912",
     "exception": false,
     "start_time": "2025-06-13T13:01:15.913724",
     "status": "completed"
    },
    "tags": []
   },
   "outputs": [
    {
     "name": "stdout",
     "output_type": "stream",
     "text": [
      "['ENSG00000002586' 'ENSG00000005844' 'ENSG00000011422' 'ENSG00000011600'\n",
      " 'ENSG00000038427' 'ENSG00000067182' 'ENSG00000079616' 'ENSG00000088827'\n",
      " 'ENSG00000088986' 'ENSG00000089127' 'ENSG00000100906' 'ENSG00000101474'\n",
      " 'ENSG00000104312' 'ENSG00000104671' 'ENSG00000104856' 'ENSG00000105373'\n",
      " 'ENSG00000105374' 'ENSG00000105397' 'ENSG00000105835' 'ENSG00000106565'\n",
      " 'ENSG00000106588' 'ENSG00000107223' 'ENSG00000107968' 'ENSG00000111331'\n",
      " 'ENSG00000111335' 'ENSG00000112137' 'ENSG00000112149' 'ENSG00000115232'\n",
      " 'ENSG00000115267' 'ENSG00000115415' 'ENSG00000115523' 'ENSG00000115738'\n",
      " 'ENSG00000118508' 'ENSG00000118515' 'ENSG00000119535' 'ENSG00000120742'\n",
      " 'ENSG00000120889' 'ENSG00000123358' 'ENSG00000123689' 'ENSG00000125347'\n",
      " 'ENSG00000126264' 'ENSG00000126709' 'ENSG00000127314' 'ENSG00000127540'\n",
      " 'ENSG00000127951' 'ENSG00000128524' 'ENSG00000132465' 'ENSG00000132475'\n",
      " 'ENSG00000134107' 'ENSG00000134321' 'ENSG00000135047' 'ENSG00000135077'\n",
      " 'ENSG00000135114' 'ENSG00000135363' 'ENSG00000135503' 'ENSG00000135821'\n",
      " 'ENSG00000136869' 'ENSG00000137801' 'ENSG00000137965' 'ENSG00000139289'\n",
      " 'ENSG00000140264' 'ENSG00000141526' 'ENSG00000142089' 'ENSG00000142669'\n",
      " 'ENSG00000143110' 'ENSG00000143543' 'ENSG00000143933' 'ENSG00000145287'\n",
      " 'ENSG00000147443' 'ENSG00000149311' 'ENSG00000149357' 'ENSG00000150093'\n",
      " 'ENSG00000152082' 'ENSG00000152219' 'ENSG00000157601' 'ENSG00000158050'\n",
      " 'ENSG00000158517' 'ENSG00000159128' 'ENSG00000160255' 'ENSG00000160932'\n",
      " 'ENSG00000162704' 'ENSG00000162772' 'ENSG00000163221' 'ENSG00000163513'\n",
      " 'ENSG00000163737' 'ENSG00000164308' 'ENSG00000164543' 'ENSG00000165140'\n",
      " 'ENSG00000165527' 'ENSG00000165949' 'ENSG00000168394' 'ENSG00000169554'\n",
      " 'ENSG00000172349' 'ENSG00000172936' 'ENSG00000173372' 'ENSG00000175354'\n",
      " 'ENSG00000175489' 'ENSG00000177575' 'ENSG00000177606' 'ENSG00000179144'\n",
      " 'ENSG00000181029' 'ENSG00000182287' 'ENSG00000183486' 'ENSG00000185022'\n",
      " 'ENSG00000185201' 'ENSG00000185745' 'ENSG00000186395' 'ENSG00000188313'\n",
      " 'ENSG00000197061' 'ENSG00000198223' 'ENSG00000198355' 'ENSG00000213928'\n",
      " 'ENSG00000216490' 'ENSG00000228474' 'ENSG00000239697' 'ENSG00000241837'\n",
      " 'ENSG00000243678' 'ENSG00000271503' 'ENSG00000276085']\n"
     ]
    }
   ],
   "source": [
    "if SEED != 'all':\n",
    "    gene_subset = np.load(here(f'03_downstream_analysis/08_gene_importance/xgboost_external_validation/shap_gene_selection/gene_subsets_{N_GENES}/{CELL_TYPE}_{SEED}.npy'), allow_pickle=True)\n",
    "    train_adata = train_adata[:,gene_subset]\n",
    "    print(gene_subset)\n",
    "elif SEED == 'all':\n",
    "    print('Using all genes')\n",
    "else:\n",
    "    raise ValueError()"
   ]
  },
  {
   "cell_type": "code",
   "execution_count": 8,
   "id": "eb125893",
   "metadata": {
    "execution": {
     "iopub.execute_input": "2025-06-13T13:01:15.982913Z",
     "iopub.status.busy": "2025-06-13T13:01:15.982715Z",
     "iopub.status.idle": "2025-06-13T13:01:15.985773Z",
     "shell.execute_reply": "2025-06-13T13:01:15.985477Z"
    },
    "papermill": {
     "duration": 0.009336,
     "end_time": "2025-06-13T13:01:15.986535",
     "exception": false,
     "start_time": "2025-06-13T13:01:15.977199",
     "status": "completed"
    },
    "tags": []
   },
   "outputs": [
    {
     "data": {
      "text/plain": [
       "(137435, 119)"
      ]
     },
     "execution_count": 8,
     "metadata": {},
     "output_type": "execute_result"
    }
   ],
   "source": [
    "train_adata.shape"
   ]
  },
  {
   "cell_type": "code",
   "execution_count": 9,
   "id": "ee92098c",
   "metadata": {
    "execution": {
     "iopub.execute_input": "2025-06-13T13:01:15.997637Z",
     "iopub.status.busy": "2025-06-13T13:01:15.997407Z",
     "iopub.status.idle": "2025-06-13T13:01:16.001223Z",
     "shell.execute_reply": "2025-06-13T13:01:16.000920Z"
    },
    "papermill": {
     "duration": 0.009964,
     "end_time": "2025-06-13T13:01:16.002034",
     "exception": false,
     "start_time": "2025-06-13T13:01:15.992070",
     "status": "completed"
    },
    "tags": []
   },
   "outputs": [
    {
     "data": {
      "text/plain": [
       "['RA', 'healthy', 'COVID', 'HIV', 'cirrhosis', 'CD', 'SLE', 'sepsis']\n",
       "Categories (8, object): ['CD', 'COVID', 'HIV', 'RA', 'SLE', 'cirrhosis', 'healthy', 'sepsis']"
      ]
     },
     "execution_count": 9,
     "metadata": {},
     "output_type": "execute_result"
    }
   ],
   "source": [
    "train_adata.obs.disease.unique()"
   ]
  },
  {
   "cell_type": "code",
   "execution_count": 10,
   "id": "d964237f",
   "metadata": {
    "execution": {
     "iopub.execute_input": "2025-06-13T13:01:16.013224Z",
     "iopub.status.busy": "2025-06-13T13:01:16.012780Z",
     "iopub.status.idle": "2025-06-13T13:01:16.016877Z",
     "shell.execute_reply": "2025-06-13T13:01:16.016592Z"
    },
    "papermill": {
     "duration": 0.010429,
     "end_time": "2025-06-13T13:01:16.017682",
     "exception": false,
     "start_time": "2025-06-13T13:01:16.007253",
     "status": "completed"
    },
    "tags": []
   },
   "outputs": [
    {
     "data": {
      "text/plain": [
       "['SCGT00val_I0364_T0', 'SCGT00val_I036028_T0', 'SCGT00val_I036024_T0', 'SCGT00val_I036023_T0', 'SCGT00val_I036019_T0', ..., '10XGenomics_10XHC2_T0', '10XGenomics_10XHC3_T0', '10XGenomics_10XHC5_T0', '10XGenomics_10XHC7_T0', '10XGenomics_10XHC8_T0']\n",
       "Length: 86\n",
       "Categories (86, object): ['10XGenomics_10XHC1_T0', '10XGenomics_10XHC2_T0', '10XGenomics_10XHC3_T0', '10XGenomics_10XHC4_T0', ..., 'Savage2021_BRISL6_T0', 'Savage2021_BRISL7_T0', 'Savage2021_PIDA_T0', 'Savage2021_PIDB_T0']"
      ]
     },
     "execution_count": 10,
     "metadata": {},
     "output_type": "execute_result"
    }
   ],
   "source": [
    "train_adata.obs.sampleID.unique()"
   ]
  },
  {
   "cell_type": "code",
   "execution_count": 11,
   "id": "b75a55db",
   "metadata": {
    "execution": {
     "iopub.execute_input": "2025-06-13T13:01:16.028712Z",
     "iopub.status.busy": "2025-06-13T13:01:16.028357Z",
     "iopub.status.idle": "2025-06-13T13:01:16.353284Z",
     "shell.execute_reply": "2025-06-13T13:01:16.352854Z"
    },
    "papermill": {
     "duration": 0.331699,
     "end_time": "2025-06-13T13:01:16.354404",
     "exception": false,
     "start_time": "2025-06-13T13:01:16.022705",
     "status": "completed"
    },
    "tags": []
   },
   "outputs": [],
   "source": [
    "all_idxs = np.arange(train_adata.obs.shape[0])\n",
    "left_out_splits = [s[1] for s in StratifiedGroupKFold(n_splits=N_SPLITS).split(all_idxs, train_adata.obs.disease, train_adata.obs.sampleID)]"
   ]
  },
  {
   "cell_type": "code",
   "execution_count": 12,
   "id": "a2ceb006",
   "metadata": {
    "execution": {
     "iopub.execute_input": "2025-06-13T13:01:16.366080Z",
     "iopub.status.busy": "2025-06-13T13:01:16.365886Z",
     "iopub.status.idle": "2025-06-13T13:01:16.369221Z",
     "shell.execute_reply": "2025-06-13T13:01:16.368919Z"
    },
    "papermill": {
     "duration": 0.010065,
     "end_time": "2025-06-13T13:01:16.370033",
     "exception": false,
     "start_time": "2025-06-13T13:01:16.359968",
     "status": "completed"
    },
    "tags": []
   },
   "outputs": [
    {
     "data": {
      "text/plain": [
       "([1, 2, 3], 0, 4)"
      ]
     },
     "execution_count": 12,
     "metadata": {},
     "output_type": "execute_result"
    }
   ],
   "source": [
    "TRAIN_SPLIT_IDXS = [0,1,2,3,4]\n",
    "VAL_SPLIT_IDX = (TEST_SPLIT_IDX + 1) % 5\n",
    "TRAIN_SPLIT_IDXS.remove(TEST_SPLIT_IDX)\n",
    "TRAIN_SPLIT_IDXS.remove(VAL_SPLIT_IDX)\n",
    "TRAIN_SPLIT_IDXS, VAL_SPLIT_IDX, TEST_SPLIT_IDX"
   ]
  },
  {
   "cell_type": "code",
   "execution_count": 13,
   "id": "d8bb9658",
   "metadata": {
    "execution": {
     "iopub.execute_input": "2025-06-13T13:01:16.381088Z",
     "iopub.status.busy": "2025-06-13T13:01:16.380908Z",
     "iopub.status.idle": "2025-06-13T13:01:16.383790Z",
     "shell.execute_reply": "2025-06-13T13:01:16.383472Z"
    },
    "papermill": {
     "duration": 0.009267,
     "end_time": "2025-06-13T13:01:16.384585",
     "exception": false,
     "start_time": "2025-06-13T13:01:16.375318",
     "status": "completed"
    },
    "tags": []
   },
   "outputs": [],
   "source": [
    "train_idxs = np.concatenate([left_out_splits[idx] for idx in TRAIN_SPLIT_IDXS])\n",
    "val_idxs = left_out_splits[VAL_SPLIT_IDX]\n",
    "test_idxs = left_out_splits[TEST_SPLIT_IDX]"
   ]
  },
  {
   "cell_type": "markdown",
   "id": "1a678842",
   "metadata": {
    "papermill": {
     "duration": 0.00521,
     "end_time": "2025-06-13T13:01:16.394909",
     "exception": false,
     "start_time": "2025-06-13T13:01:16.389699",
     "status": "completed"
    },
    "tags": []
   },
   "source": [
    "### SUBSET DATASET INTO TRAIN/TEST/VAL SPLITS"
   ]
  },
  {
   "cell_type": "code",
   "execution_count": 14,
   "id": "526697ee",
   "metadata": {
    "execution": {
     "iopub.execute_input": "2025-06-13T13:01:16.407050Z",
     "iopub.status.busy": "2025-06-13T13:01:16.406764Z",
     "iopub.status.idle": "2025-06-13T13:01:16.850666Z",
     "shell.execute_reply": "2025-06-13T13:01:16.850289Z"
    },
    "papermill": {
     "duration": 0.450581,
     "end_time": "2025-06-13T13:01:16.851670",
     "exception": false,
     "start_time": "2025-06-13T13:01:16.401089",
     "status": "completed"
    },
    "tags": []
   },
   "outputs": [
    {
     "data": {
      "text/plain": [
       "((82984, 119), (27037, 119), (27414, 119))"
      ]
     },
     "execution_count": 14,
     "metadata": {},
     "output_type": "execute_result"
    }
   ],
   "source": [
    "X_train = train_adata.X[train_idxs]\n",
    "X_test = train_adata.X[test_idxs]\n",
    "X_val = train_adata.X[val_idxs]\n",
    "X_train.shape, X_test.shape, X_val.shape"
   ]
  },
  {
   "cell_type": "code",
   "execution_count": 15,
   "id": "f4eaad05",
   "metadata": {
    "execution": {
     "iopub.execute_input": "2025-06-13T13:01:16.863674Z",
     "iopub.status.busy": "2025-06-13T13:01:16.863424Z",
     "iopub.status.idle": "2025-06-13T13:01:16.876546Z",
     "shell.execute_reply": "2025-06-13T13:01:16.876201Z"
    },
    "papermill": {
     "duration": 0.019929,
     "end_time": "2025-06-13T13:01:16.877359",
     "exception": false,
     "start_time": "2025-06-13T13:01:16.857430",
     "status": "completed"
    },
    "tags": []
   },
   "outputs": [
    {
     "data": {
      "text/plain": [
       "((82984,), (27037,), (27414,))"
      ]
     },
     "execution_count": 15,
     "metadata": {},
     "output_type": "execute_result"
    }
   ],
   "source": [
    "y_train = train_adata.obs.iloc[train_idxs].disease.values.astype(str)\n",
    "y_test = train_adata.obs.iloc[test_idxs].disease.values.astype(str)\n",
    "y_val = train_adata.obs.iloc[val_idxs].disease.values.astype(str)\n",
    "y_train.shape, y_test.shape, y_val.shape"
   ]
  },
  {
   "cell_type": "code",
   "execution_count": 16,
   "id": "5d7bd057",
   "metadata": {
    "execution": {
     "iopub.execute_input": "2025-06-13T13:01:16.889652Z",
     "iopub.status.busy": "2025-06-13T13:01:16.889418Z",
     "iopub.status.idle": "2025-06-13T13:01:16.918244Z",
     "shell.execute_reply": "2025-06-13T13:01:16.917846Z"
    },
    "papermill": {
     "duration": 0.035852,
     "end_time": "2025-06-13T13:01:16.919253",
     "exception": false,
     "start_time": "2025-06-13T13:01:16.883401",
     "status": "completed"
    },
    "tags": []
   },
   "outputs": [],
   "source": [
    "lenc = LabelEncoder()\n",
    "y_train_enc = lenc.fit_transform(y_train)\n",
    "y_val_enc = lenc.transform(y_val)\n",
    "y_test_enc = lenc.transform(y_test)"
   ]
  },
  {
   "cell_type": "markdown",
   "id": "cdfb80fe",
   "metadata": {
    "papermill": {
     "duration": 0.011132,
     "end_time": "2025-06-13T13:01:16.936342",
     "exception": false,
     "start_time": "2025-06-13T13:01:16.925210",
     "status": "completed"
    },
    "tags": []
   },
   "source": [
    "### GENERATE F1 "
   ]
  },
  {
   "cell_type": "code",
   "execution_count": 17,
   "id": "1df24079",
   "metadata": {
    "execution": {
     "iopub.execute_input": "2025-06-13T13:01:16.953888Z",
     "iopub.status.busy": "2025-06-13T13:01:16.953533Z",
     "iopub.status.idle": "2025-06-13T13:01:16.955970Z",
     "shell.execute_reply": "2025-06-13T13:01:16.955672Z"
    },
    "papermill": {
     "duration": 0.00918,
     "end_time": "2025-06-13T13:01:16.956778",
     "exception": false,
     "start_time": "2025-06-13T13:01:16.947598",
     "status": "completed"
    },
    "tags": []
   },
   "outputs": [],
   "source": [
    "def custom_f1_score(y_true, y_pred):\n",
    "    return -f1_score(y_true, y_pred.argmax(1), average='weighted')"
   ]
  },
  {
   "cell_type": "code",
   "execution_count": 18,
   "id": "2c905090",
   "metadata": {
    "execution": {
     "iopub.execute_input": "2025-06-13T13:01:16.967919Z",
     "iopub.status.busy": "2025-06-13T13:01:16.967756Z",
     "iopub.status.idle": "2025-06-13T13:01:16.972436Z",
     "shell.execute_reply": "2025-06-13T13:01:16.971605Z"
    },
    "papermill": {
     "duration": 0.011326,
     "end_time": "2025-06-13T13:01:16.973334",
     "exception": false,
     "start_time": "2025-06-13T13:01:16.962008",
     "status": "completed"
    },
    "tags": []
   },
   "outputs": [],
   "source": [
    "eval_metric=custom_f1_score\n",
    "eval_metric_name='custom_f1_score'\n",
    "\n",
    "def objective(trial):\n",
    "    params = {\n",
    "        'n_estimators': 1500,\n",
    "        'max_depth': trial.suggest_int('max_depth', 3, 20),\n",
    "        'min_child_weight': trial.suggest_int('min_child_weight', 1, 250),\n",
    "        'subsample': trial.suggest_float('subsample', 0.1, 1.0),\n",
    "        'colsample_bynode': trial.suggest_float('colsample_bynode', 0.1, 1.0),\n",
    "        'learning_rate': trial.suggest_float('learning_rate', 1e-3, 5e-1, log=True),\n",
    "    }\n",
    "    pruning_callback = optuna.integration.XGBoostPruningCallback(trial, f'validation_0-{eval_metric_name}')\n",
    "    es_callback = xgboost.callback.EarlyStopping(20, min_delta=0.001)\n",
    "    xgb = xgboost.XGBClassifier(\n",
    "        eval_metric=eval_metric,\n",
    "        callbacks=[pruning_callback, es_callback],\n",
    "        n_jobs=5,\n",
    "        **params\n",
    "    )\n",
    "    xgb.fit(\n",
    "        X_train, \n",
    "        y_train_enc, \n",
    "        verbose=0,\n",
    "        eval_set=[(X_val, y_val_enc)],\n",
    "    )\n",
    "    trial.set_user_attr('best_iteration', xgb.best_iteration)\n",
    "\n",
    "    return xgb.best_score"
   ]
  },
  {
   "cell_type": "code",
   "execution_count": 19,
   "id": "7d950a98",
   "metadata": {
    "execution": {
     "iopub.execute_input": "2025-06-13T13:01:16.985451Z",
     "iopub.status.busy": "2025-06-13T13:01:16.984966Z",
     "iopub.status.idle": "2025-06-13T13:17:37.124958Z",
     "shell.execute_reply": "2025-06-13T13:17:37.124523Z"
    },
    "papermill": {
     "duration": 980.147536,
     "end_time": "2025-06-13T13:17:37.126206",
     "exception": false,
     "start_time": "2025-06-13T13:01:16.978670",
     "status": "completed"
    },
    "scrolled": true,
    "tags": []
   },
   "outputs": [
    {
     "name": "stderr",
     "output_type": "stream",
     "text": [
      "[I 2025-06-13 15:01:16,987] A new study created in memory with name: no-name-b13ac146-ddc8-4e2d-ba69-9cb1accef6b1\n"
     ]
    },
    {
     "name": "stderr",
     "output_type": "stream",
     "text": [
      "[I 2025-06-13 15:02:23,710] Trial 0 finished with value: -0.810414 and parameters: {'max_depth': 9, 'min_child_weight': 238, 'subsample': 0.7587945476302645, 'colsample_bynode': 0.6387926357773329, 'learning_rate': 0.0026368755339723046}. Best is trial 0 with value: -0.810414.\n"
     ]
    },
    {
     "name": "stderr",
     "output_type": "stream",
     "text": [
      "[I 2025-06-13 15:03:29,010] Trial 1 finished with value: -0.885718 and parameters: {'max_depth': 5, 'min_child_weight': 15, 'subsample': 0.8795585311974417, 'colsample_bynode': 0.6410035105688879, 'learning_rate': 0.08148293210105287}. Best is trial 1 with value: -0.885718.\n"
     ]
    },
    {
     "name": "stderr",
     "output_type": "stream",
     "text": [
      "[I 2025-06-13 15:03:35,381] Trial 2 finished with value: -0.723684 and parameters: {'max_depth': 3, 'min_child_weight': 243, 'subsample': 0.8491983767203796, 'colsample_bynode': 0.29110519961044856, 'learning_rate': 0.003095566460242371}. Best is trial 1 with value: -0.885718.\n"
     ]
    },
    {
     "name": "stderr",
     "output_type": "stream",
     "text": [
      "[I 2025-06-13 15:04:12,014] Trial 3 finished with value: -0.823996 and parameters: {'max_depth': 6, 'min_child_weight': 77, 'subsample': 0.5722807884690141, 'colsample_bynode': 0.48875051677790415, 'learning_rate': 0.006109683510122491}. Best is trial 1 with value: -0.885718.\n"
     ]
    },
    {
     "name": "stderr",
     "output_type": "stream",
     "text": [
      "[I 2025-06-13 15:06:11,636] Trial 4 finished with value: -0.87266 and parameters: {'max_depth': 14, 'min_child_weight': 35, 'subsample': 0.3629301836816964, 'colsample_bynode': 0.4297256589643226, 'learning_rate': 0.01701841881702917}. Best is trial 1 with value: -0.885718.\n"
     ]
    },
    {
     "name": "stderr",
     "output_type": "stream",
     "text": [
      "[I 2025-06-13 15:06:21,370] Trial 5 pruned. Trial was pruned at iteration 26.\n"
     ]
    },
    {
     "name": "stderr",
     "output_type": "stream",
     "text": [
      "[I 2025-06-13 15:06:41,149] Trial 6 finished with value: -0.882483 and parameters: {'max_depth': 13, 'min_child_weight': 43, 'subsample': 0.1585464336867516, 'colsample_bynode': 0.9539969835279999, 'learning_rate': 0.4038423798071558}. Best is trial 1 with value: -0.885718.\n"
     ]
    },
    {
     "name": "stderr",
     "output_type": "stream",
     "text": [
      "[I 2025-06-13 15:06:41,808] Trial 7 pruned. Trial was pruned at iteration 0.\n"
     ]
    },
    {
     "name": "stderr",
     "output_type": "stream",
     "text": [
      "[I 2025-06-13 15:06:42,422] Trial 8 pruned. Trial was pruned at iteration 0.\n"
     ]
    },
    {
     "name": "stderr",
     "output_type": "stream",
     "text": [
      "[I 2025-06-13 15:06:50,102] Trial 9 pruned. Trial was pruned at iteration 22.\n"
     ]
    },
    {
     "name": "stderr",
     "output_type": "stream",
     "text": [
      "[I 2025-06-13 15:06:50,872] Trial 10 pruned. Trial was pruned at iteration 0.\n"
     ]
    },
    {
     "name": "stderr",
     "output_type": "stream",
     "text": [
      "[I 2025-06-13 15:07:33,129] Trial 11 finished with value: -0.885785 and parameters: {'max_depth': 11, 'min_child_weight': 3, 'subsample': 0.35229864280210643, 'colsample_bynode': 0.9522656887511343, 'learning_rate': 0.4085535814821633}. Best is trial 11 with value: -0.885785.\n"
     ]
    },
    {
     "name": "stderr",
     "output_type": "stream",
     "text": [
      "[I 2025-06-13 15:09:16,762] Trial 12 finished with value: -0.887849 and parameters: {'max_depth': 20, 'min_child_weight': 3, 'subsample': 0.3693916175642251, 'colsample_bynode': 0.8079926877007318, 'learning_rate': 0.08811282856865725}. Best is trial 12 with value: -0.887849.\n"
     ]
    },
    {
     "name": "stderr",
     "output_type": "stream",
     "text": [
      "[I 2025-06-13 15:09:17,441] Trial 13 pruned. Trial was pruned at iteration 0.\n"
     ]
    },
    {
     "name": "stderr",
     "output_type": "stream",
     "text": [
      "[I 2025-06-13 15:09:18,111] Trial 14 pruned. Trial was pruned at iteration 0.\n"
     ]
    },
    {
     "name": "stderr",
     "output_type": "stream",
     "text": [
      "[I 2025-06-13 15:11:38,549] Trial 15 finished with value: -0.883639 and parameters: {'max_depth': 20, 'min_child_weight': 2, 'subsample': 0.27832770865353873, 'colsample_bynode': 0.9897434266141246, 'learning_rate': 0.057934531680722316}. Best is trial 12 with value: -0.887849.\n"
     ]
    },
    {
     "name": "stderr",
     "output_type": "stream",
     "text": [
      "[I 2025-06-13 15:11:39,270] Trial 16 pruned. Trial was pruned at iteration 0.\n"
     ]
    },
    {
     "name": "stderr",
     "output_type": "stream",
     "text": [
      "[I 2025-06-13 15:11:39,957] Trial 17 pruned. Trial was pruned at iteration 0.\n"
     ]
    },
    {
     "name": "stderr",
     "output_type": "stream",
     "text": [
      "[I 2025-06-13 15:12:28,893] Trial 18 finished with value: -0.893846 and parameters: {'max_depth': 11, 'min_child_weight': 35, 'subsample': 0.7385682645564973, 'colsample_bynode': 0.7505951054665749, 'learning_rate': 0.20947570573709498}. Best is trial 18 with value: -0.893846.\n"
     ]
    },
    {
     "name": "stderr",
     "output_type": "stream",
     "text": [
      "[I 2025-06-13 15:12:29,797] Trial 19 pruned. Trial was pruned at iteration 0.\n"
     ]
    },
    {
     "name": "stderr",
     "output_type": "stream",
     "text": [
      "[I 2025-06-13 15:12:38,871] Trial 20 pruned. Trial was pruned at iteration 26.\n"
     ]
    },
    {
     "name": "stderr",
     "output_type": "stream",
     "text": [
      "[I 2025-06-13 15:12:39,639] Trial 21 pruned. Trial was pruned at iteration 0.\n"
     ]
    },
    {
     "name": "stderr",
     "output_type": "stream",
     "text": [
      "[I 2025-06-13 15:12:40,373] Trial 22 pruned. Trial was pruned at iteration 0.\n"
     ]
    },
    {
     "name": "stderr",
     "output_type": "stream",
     "text": [
      "[I 2025-06-13 15:12:54,872] Trial 23 pruned. Trial was pruned at iteration 26.\n"
     ]
    },
    {
     "name": "stderr",
     "output_type": "stream",
     "text": [
      "[I 2025-06-13 15:12:55,600] Trial 24 pruned. Trial was pruned at iteration 0.\n"
     ]
    },
    {
     "name": "stderr",
     "output_type": "stream",
     "text": [
      "[I 2025-06-13 15:14:00,508] Trial 25 finished with value: -0.887097 and parameters: {'max_depth': 8, 'min_child_weight': 2, 'subsample': 0.5048426933959429, 'colsample_bynode': 0.5245348696566479, 'learning_rate': 0.09864593629539382}. Best is trial 18 with value: -0.893846.\n"
     ]
    },
    {
     "name": "stderr",
     "output_type": "stream",
     "text": [
      "[I 2025-06-13 15:14:01,189] Trial 26 pruned. Trial was pruned at iteration 0.\n"
     ]
    },
    {
     "name": "stderr",
     "output_type": "stream",
     "text": [
      "[I 2025-06-13 15:14:01,904] Trial 27 pruned. Trial was pruned at iteration 0.\n"
     ]
    },
    {
     "name": "stderr",
     "output_type": "stream",
     "text": [
      "[I 2025-06-13 15:14:02,536] Trial 28 pruned. Trial was pruned at iteration 0.\n"
     ]
    },
    {
     "name": "stderr",
     "output_type": "stream",
     "text": [
      "[I 2025-06-13 15:14:03,194] Trial 29 pruned. Trial was pruned at iteration 0.\n"
     ]
    },
    {
     "name": "stderr",
     "output_type": "stream",
     "text": [
      "[I 2025-06-13 15:14:03,864] Trial 30 pruned. Trial was pruned at iteration 0.\n"
     ]
    },
    {
     "name": "stderr",
     "output_type": "stream",
     "text": [
      "[I 2025-06-13 15:14:34,038] Trial 31 finished with value: -0.886685 and parameters: {'max_depth': 11, 'min_child_weight': 5, 'subsample': 0.33821411287808434, 'colsample_bynode': 0.6800470436536106, 'learning_rate': 0.33520941417627514}. Best is trial 18 with value: -0.893846.\n"
     ]
    },
    {
     "name": "stderr",
     "output_type": "stream",
     "text": [
      "[I 2025-06-13 15:14:37,840] Trial 32 pruned. Trial was pruned at iteration 8.\n"
     ]
    },
    {
     "name": "stderr",
     "output_type": "stream",
     "text": [
      "[I 2025-06-13 15:14:38,603] Trial 33 pruned. Trial was pruned at iteration 0.\n"
     ]
    },
    {
     "name": "stderr",
     "output_type": "stream",
     "text": [
      "[I 2025-06-13 15:14:39,416] Trial 34 pruned. Trial was pruned at iteration 0.\n"
     ]
    },
    {
     "name": "stderr",
     "output_type": "stream",
     "text": [
      "[I 2025-06-13 15:14:40,174] Trial 35 pruned. Trial was pruned at iteration 0.\n"
     ]
    },
    {
     "name": "stderr",
     "output_type": "stream",
     "text": [
      "[I 2025-06-13 15:14:40,843] Trial 36 pruned. Trial was pruned at iteration 0.\n"
     ]
    },
    {
     "name": "stderr",
     "output_type": "stream",
     "text": [
      "[I 2025-06-13 15:14:44,123] Trial 37 pruned. Trial was pruned at iteration 6.\n"
     ]
    },
    {
     "name": "stderr",
     "output_type": "stream",
     "text": [
      "[I 2025-06-13 15:14:44,751] Trial 38 pruned. Trial was pruned at iteration 0.\n"
     ]
    },
    {
     "name": "stderr",
     "output_type": "stream",
     "text": [
      "[I 2025-06-13 15:14:45,434] Trial 39 pruned. Trial was pruned at iteration 0.\n"
     ]
    },
    {
     "name": "stderr",
     "output_type": "stream",
     "text": [
      "[I 2025-06-13 15:15:25,640] Trial 40 finished with value: -0.886941 and parameters: {'max_depth': 15, 'min_child_weight': 12, 'subsample': 0.8908439734853458, 'colsample_bynode': 0.45719447738984487, 'learning_rate': 0.2268605063371002}. Best is trial 18 with value: -0.893846.\n"
     ]
    },
    {
     "name": "stderr",
     "output_type": "stream",
     "text": [
      "[I 2025-06-13 15:16:11,825] Trial 41 finished with value: -0.888232 and parameters: {'max_depth': 16, 'min_child_weight': 12, 'subsample': 0.9143713539268674, 'colsample_bynode': 0.46195183650806504, 'learning_rate': 0.1957352792862718}. Best is trial 18 with value: -0.893846.\n"
     ]
    },
    {
     "name": "stderr",
     "output_type": "stream",
     "text": [
      "[I 2025-06-13 15:17:03,298] Trial 42 finished with value: -0.890243 and parameters: {'max_depth': 15, 'min_child_weight': 15, 'subsample': 0.8235838806570772, 'colsample_bynode': 0.41565846810085433, 'learning_rate': 0.1965161204094908}. Best is trial 18 with value: -0.893846.\n"
     ]
    },
    {
     "name": "stderr",
     "output_type": "stream",
     "text": [
      "[I 2025-06-13 15:17:04,141] Trial 43 pruned. Trial was pruned at iteration 0.\n"
     ]
    },
    {
     "name": "stderr",
     "output_type": "stream",
     "text": [
      "[I 2025-06-13 15:17:04,904] Trial 44 pruned. Trial was pruned at iteration 0.\n"
     ]
    },
    {
     "name": "stderr",
     "output_type": "stream",
     "text": [
      "[I 2025-06-13 15:17:05,849] Trial 45 pruned. Trial was pruned at iteration 0.\n"
     ]
    },
    {
     "name": "stderr",
     "output_type": "stream",
     "text": [
      "[I 2025-06-13 15:17:06,644] Trial 46 pruned. Trial was pruned at iteration 0.\n"
     ]
    },
    {
     "name": "stderr",
     "output_type": "stream",
     "text": [
      "[I 2025-06-13 15:17:35,431] Trial 47 finished with value: -0.888532 and parameters: {'max_depth': 14, 'min_child_weight': 22, 'subsample': 0.927842014213309, 'colsample_bynode': 0.5134131241773291, 'learning_rate': 0.4779674650426355}. Best is trial 18 with value: -0.893846.\n"
     ]
    },
    {
     "name": "stderr",
     "output_type": "stream",
     "text": [
      "[I 2025-06-13 15:17:36,220] Trial 48 pruned. Trial was pruned at iteration 0.\n"
     ]
    },
    {
     "name": "stderr",
     "output_type": "stream",
     "text": [
      "[I 2025-06-13 15:17:37,040] Trial 49 pruned. Trial was pruned at iteration 0.\n"
     ]
    }
   ],
   "source": [
    "sampler = optuna.samplers.TPESampler(seed=42)\n",
    "study = optuna.create_study(direction='minimize', sampler=sampler)\n",
    "study.optimize(objective, n_trials=N_TRIALS, gc_after_trial=True)"
   ]
  },
  {
   "cell_type": "code",
   "execution_count": 20,
   "id": "06be4a23",
   "metadata": {
    "execution": {
     "iopub.execute_input": "2025-06-13T13:17:37.143558Z",
     "iopub.status.busy": "2025-06-13T13:17:37.143355Z",
     "iopub.status.idle": "2025-06-13T13:17:37.169040Z",
     "shell.execute_reply": "2025-06-13T13:17:37.168745Z"
    },
    "papermill": {
     "duration": 0.035338,
     "end_time": "2025-06-13T13:17:37.169908",
     "exception": false,
     "start_time": "2025-06-13T13:17:37.134570",
     "status": "completed"
    },
    "tags": []
   },
   "outputs": [
    {
     "data": {
      "text/plain": [
       "['/scratch_isilon/groups/singlecell/shared/projects/Inflammation-PBMCs-Atlas/03_downstream_analysis/08_gene_importance/xgboost_external_validation/xgboost_TopN_genes/results_20/study/Mono_shap_disease_NOstudy_samesize_4_xgboost.pkl']"
      ]
     },
     "execution_count": 20,
     "metadata": {},
     "output_type": "execute_result"
    }
   ],
   "source": [
    "out_dir = here(f'03_downstream_analysis/08_gene_importance/xgboost_external_validation/xgboost_TopN_genes/results_{N_GENES}/study')\n",
    "\n",
    "if not os.path.exists(out_dir):\n",
    "    os.makedirs(out_dir)\n",
    "    \n",
    "joblib.dump(study,os.path.join(out_dir, f'{CELL_TYPE}_{SEED}_{TEST_SPLIT_IDX}_xgboost.pkl'))"
   ]
  },
  {
   "cell_type": "code",
   "execution_count": 21,
   "id": "435447ec",
   "metadata": {
    "execution": {
     "iopub.execute_input": "2025-06-13T13:17:37.186916Z",
     "iopub.status.busy": "2025-06-13T13:17:37.186740Z",
     "iopub.status.idle": "2025-06-13T13:18:02.336165Z",
     "shell.execute_reply": "2025-06-13T13:18:02.335739Z"
    },
    "papermill": {
     "duration": 25.158636,
     "end_time": "2025-06-13T13:18:02.337110",
     "exception": false,
     "start_time": "2025-06-13T13:17:37.178474",
     "status": "completed"
    },
    "tags": []
   },
   "outputs": [
    {
     "data": {
      "text/html": [
       "<style>#sk-container-id-1 {\n",
       "  /* Definition of color scheme common for light and dark mode */\n",
       "  --sklearn-color-text: black;\n",
       "  --sklearn-color-line: gray;\n",
       "  /* Definition of color scheme for unfitted estimators */\n",
       "  --sklearn-color-unfitted-level-0: #fff5e6;\n",
       "  --sklearn-color-unfitted-level-1: #f6e4d2;\n",
       "  --sklearn-color-unfitted-level-2: #ffe0b3;\n",
       "  --sklearn-color-unfitted-level-3: chocolate;\n",
       "  /* Definition of color scheme for fitted estimators */\n",
       "  --sklearn-color-fitted-level-0: #f0f8ff;\n",
       "  --sklearn-color-fitted-level-1: #d4ebff;\n",
       "  --sklearn-color-fitted-level-2: #b3dbfd;\n",
       "  --sklearn-color-fitted-level-3: cornflowerblue;\n",
       "\n",
       "  /* Specific color for light theme */\n",
       "  --sklearn-color-text-on-default-background: var(--sg-text-color, var(--theme-code-foreground, var(--jp-content-font-color1, black)));\n",
       "  --sklearn-color-background: var(--sg-background-color, var(--theme-background, var(--jp-layout-color0, white)));\n",
       "  --sklearn-color-border-box: var(--sg-text-color, var(--theme-code-foreground, var(--jp-content-font-color1, black)));\n",
       "  --sklearn-color-icon: #696969;\n",
       "\n",
       "  @media (prefers-color-scheme: dark) {\n",
       "    /* Redefinition of color scheme for dark theme */\n",
       "    --sklearn-color-text-on-default-background: var(--sg-text-color, var(--theme-code-foreground, var(--jp-content-font-color1, white)));\n",
       "    --sklearn-color-background: var(--sg-background-color, var(--theme-background, var(--jp-layout-color0, #111)));\n",
       "    --sklearn-color-border-box: var(--sg-text-color, var(--theme-code-foreground, var(--jp-content-font-color1, white)));\n",
       "    --sklearn-color-icon: #878787;\n",
       "  }\n",
       "}\n",
       "\n",
       "#sk-container-id-1 {\n",
       "  color: var(--sklearn-color-text);\n",
       "}\n",
       "\n",
       "#sk-container-id-1 pre {\n",
       "  padding: 0;\n",
       "}\n",
       "\n",
       "#sk-container-id-1 input.sk-hidden--visually {\n",
       "  border: 0;\n",
       "  clip: rect(1px 1px 1px 1px);\n",
       "  clip: rect(1px, 1px, 1px, 1px);\n",
       "  height: 1px;\n",
       "  margin: -1px;\n",
       "  overflow: hidden;\n",
       "  padding: 0;\n",
       "  position: absolute;\n",
       "  width: 1px;\n",
       "}\n",
       "\n",
       "#sk-container-id-1 div.sk-dashed-wrapped {\n",
       "  border: 1px dashed var(--sklearn-color-line);\n",
       "  margin: 0 0.4em 0.5em 0.4em;\n",
       "  box-sizing: border-box;\n",
       "  padding-bottom: 0.4em;\n",
       "  background-color: var(--sklearn-color-background);\n",
       "}\n",
       "\n",
       "#sk-container-id-1 div.sk-container {\n",
       "  /* jupyter's `normalize.less` sets `[hidden] { display: none; }`\n",
       "     but bootstrap.min.css set `[hidden] { display: none !important; }`\n",
       "     so we also need the `!important` here to be able to override the\n",
       "     default hidden behavior on the sphinx rendered scikit-learn.org.\n",
       "     See: https://github.com/scikit-learn/scikit-learn/issues/21755 */\n",
       "  display: inline-block !important;\n",
       "  position: relative;\n",
       "}\n",
       "\n",
       "#sk-container-id-1 div.sk-text-repr-fallback {\n",
       "  display: none;\n",
       "}\n",
       "\n",
       "div.sk-parallel-item,\n",
       "div.sk-serial,\n",
       "div.sk-item {\n",
       "  /* draw centered vertical line to link estimators */\n",
       "  background-image: linear-gradient(var(--sklearn-color-text-on-default-background), var(--sklearn-color-text-on-default-background));\n",
       "  background-size: 2px 100%;\n",
       "  background-repeat: no-repeat;\n",
       "  background-position: center center;\n",
       "}\n",
       "\n",
       "/* Parallel-specific style estimator block */\n",
       "\n",
       "#sk-container-id-1 div.sk-parallel-item::after {\n",
       "  content: \"\";\n",
       "  width: 100%;\n",
       "  border-bottom: 2px solid var(--sklearn-color-text-on-default-background);\n",
       "  flex-grow: 1;\n",
       "}\n",
       "\n",
       "#sk-container-id-1 div.sk-parallel {\n",
       "  display: flex;\n",
       "  align-items: stretch;\n",
       "  justify-content: center;\n",
       "  background-color: var(--sklearn-color-background);\n",
       "  position: relative;\n",
       "}\n",
       "\n",
       "#sk-container-id-1 div.sk-parallel-item {\n",
       "  display: flex;\n",
       "  flex-direction: column;\n",
       "}\n",
       "\n",
       "#sk-container-id-1 div.sk-parallel-item:first-child::after {\n",
       "  align-self: flex-end;\n",
       "  width: 50%;\n",
       "}\n",
       "\n",
       "#sk-container-id-1 div.sk-parallel-item:last-child::after {\n",
       "  align-self: flex-start;\n",
       "  width: 50%;\n",
       "}\n",
       "\n",
       "#sk-container-id-1 div.sk-parallel-item:only-child::after {\n",
       "  width: 0;\n",
       "}\n",
       "\n",
       "/* Serial-specific style estimator block */\n",
       "\n",
       "#sk-container-id-1 div.sk-serial {\n",
       "  display: flex;\n",
       "  flex-direction: column;\n",
       "  align-items: center;\n",
       "  background-color: var(--sklearn-color-background);\n",
       "  padding-right: 1em;\n",
       "  padding-left: 1em;\n",
       "}\n",
       "\n",
       "\n",
       "/* Toggleable style: style used for estimator/Pipeline/ColumnTransformer box that is\n",
       "clickable and can be expanded/collapsed.\n",
       "- Pipeline and ColumnTransformer use this feature and define the default style\n",
       "- Estimators will overwrite some part of the style using the `sk-estimator` class\n",
       "*/\n",
       "\n",
       "/* Pipeline and ColumnTransformer style (default) */\n",
       "\n",
       "#sk-container-id-1 div.sk-toggleable {\n",
       "  /* Default theme specific background. It is overwritten whether we have a\n",
       "  specific estimator or a Pipeline/ColumnTransformer */\n",
       "  background-color: var(--sklearn-color-background);\n",
       "}\n",
       "\n",
       "/* Toggleable label */\n",
       "#sk-container-id-1 label.sk-toggleable__label {\n",
       "  cursor: pointer;\n",
       "  display: block;\n",
       "  width: 100%;\n",
       "  margin-bottom: 0;\n",
       "  padding: 0.5em;\n",
       "  box-sizing: border-box;\n",
       "  text-align: center;\n",
       "}\n",
       "\n",
       "#sk-container-id-1 label.sk-toggleable__label-arrow:before {\n",
       "  /* Arrow on the left of the label */\n",
       "  content: \"▸\";\n",
       "  float: left;\n",
       "  margin-right: 0.25em;\n",
       "  color: var(--sklearn-color-icon);\n",
       "}\n",
       "\n",
       "#sk-container-id-1 label.sk-toggleable__label-arrow:hover:before {\n",
       "  color: var(--sklearn-color-text);\n",
       "}\n",
       "\n",
       "/* Toggleable content - dropdown */\n",
       "\n",
       "#sk-container-id-1 div.sk-toggleable__content {\n",
       "  max-height: 0;\n",
       "  max-width: 0;\n",
       "  overflow: hidden;\n",
       "  text-align: left;\n",
       "  /* unfitted */\n",
       "  background-color: var(--sklearn-color-unfitted-level-0);\n",
       "}\n",
       "\n",
       "#sk-container-id-1 div.sk-toggleable__content.fitted {\n",
       "  /* fitted */\n",
       "  background-color: var(--sklearn-color-fitted-level-0);\n",
       "}\n",
       "\n",
       "#sk-container-id-1 div.sk-toggleable__content pre {\n",
       "  margin: 0.2em;\n",
       "  border-radius: 0.25em;\n",
       "  color: var(--sklearn-color-text);\n",
       "  /* unfitted */\n",
       "  background-color: var(--sklearn-color-unfitted-level-0);\n",
       "}\n",
       "\n",
       "#sk-container-id-1 div.sk-toggleable__content.fitted pre {\n",
       "  /* unfitted */\n",
       "  background-color: var(--sklearn-color-fitted-level-0);\n",
       "}\n",
       "\n",
       "#sk-container-id-1 input.sk-toggleable__control:checked~div.sk-toggleable__content {\n",
       "  /* Expand drop-down */\n",
       "  max-height: 200px;\n",
       "  max-width: 100%;\n",
       "  overflow: auto;\n",
       "}\n",
       "\n",
       "#sk-container-id-1 input.sk-toggleable__control:checked~label.sk-toggleable__label-arrow:before {\n",
       "  content: \"▾\";\n",
       "}\n",
       "\n",
       "/* Pipeline/ColumnTransformer-specific style */\n",
       "\n",
       "#sk-container-id-1 div.sk-label input.sk-toggleable__control:checked~label.sk-toggleable__label {\n",
       "  color: var(--sklearn-color-text);\n",
       "  background-color: var(--sklearn-color-unfitted-level-2);\n",
       "}\n",
       "\n",
       "#sk-container-id-1 div.sk-label.fitted input.sk-toggleable__control:checked~label.sk-toggleable__label {\n",
       "  background-color: var(--sklearn-color-fitted-level-2);\n",
       "}\n",
       "\n",
       "/* Estimator-specific style */\n",
       "\n",
       "/* Colorize estimator box */\n",
       "#sk-container-id-1 div.sk-estimator input.sk-toggleable__control:checked~label.sk-toggleable__label {\n",
       "  /* unfitted */\n",
       "  background-color: var(--sklearn-color-unfitted-level-2);\n",
       "}\n",
       "\n",
       "#sk-container-id-1 div.sk-estimator.fitted input.sk-toggleable__control:checked~label.sk-toggleable__label {\n",
       "  /* fitted */\n",
       "  background-color: var(--sklearn-color-fitted-level-2);\n",
       "}\n",
       "\n",
       "#sk-container-id-1 div.sk-label label.sk-toggleable__label,\n",
       "#sk-container-id-1 div.sk-label label {\n",
       "  /* The background is the default theme color */\n",
       "  color: var(--sklearn-color-text-on-default-background);\n",
       "}\n",
       "\n",
       "/* On hover, darken the color of the background */\n",
       "#sk-container-id-1 div.sk-label:hover label.sk-toggleable__label {\n",
       "  color: var(--sklearn-color-text);\n",
       "  background-color: var(--sklearn-color-unfitted-level-2);\n",
       "}\n",
       "\n",
       "/* Label box, darken color on hover, fitted */\n",
       "#sk-container-id-1 div.sk-label.fitted:hover label.sk-toggleable__label.fitted {\n",
       "  color: var(--sklearn-color-text);\n",
       "  background-color: var(--sklearn-color-fitted-level-2);\n",
       "}\n",
       "\n",
       "/* Estimator label */\n",
       "\n",
       "#sk-container-id-1 div.sk-label label {\n",
       "  font-family: monospace;\n",
       "  font-weight: bold;\n",
       "  display: inline-block;\n",
       "  line-height: 1.2em;\n",
       "}\n",
       "\n",
       "#sk-container-id-1 div.sk-label-container {\n",
       "  text-align: center;\n",
       "}\n",
       "\n",
       "/* Estimator-specific */\n",
       "#sk-container-id-1 div.sk-estimator {\n",
       "  font-family: monospace;\n",
       "  border: 1px dotted var(--sklearn-color-border-box);\n",
       "  border-radius: 0.25em;\n",
       "  box-sizing: border-box;\n",
       "  margin-bottom: 0.5em;\n",
       "  /* unfitted */\n",
       "  background-color: var(--sklearn-color-unfitted-level-0);\n",
       "}\n",
       "\n",
       "#sk-container-id-1 div.sk-estimator.fitted {\n",
       "  /* fitted */\n",
       "  background-color: var(--sklearn-color-fitted-level-0);\n",
       "}\n",
       "\n",
       "/* on hover */\n",
       "#sk-container-id-1 div.sk-estimator:hover {\n",
       "  /* unfitted */\n",
       "  background-color: var(--sklearn-color-unfitted-level-2);\n",
       "}\n",
       "\n",
       "#sk-container-id-1 div.sk-estimator.fitted:hover {\n",
       "  /* fitted */\n",
       "  background-color: var(--sklearn-color-fitted-level-2);\n",
       "}\n",
       "\n",
       "/* Specification for estimator info (e.g. \"i\" and \"?\") */\n",
       "\n",
       "/* Common style for \"i\" and \"?\" */\n",
       "\n",
       ".sk-estimator-doc-link,\n",
       "a:link.sk-estimator-doc-link,\n",
       "a:visited.sk-estimator-doc-link {\n",
       "  float: right;\n",
       "  font-size: smaller;\n",
       "  line-height: 1em;\n",
       "  font-family: monospace;\n",
       "  background-color: var(--sklearn-color-background);\n",
       "  border-radius: 1em;\n",
       "  height: 1em;\n",
       "  width: 1em;\n",
       "  text-decoration: none !important;\n",
       "  margin-left: 1ex;\n",
       "  /* unfitted */\n",
       "  border: var(--sklearn-color-unfitted-level-1) 1pt solid;\n",
       "  color: var(--sklearn-color-unfitted-level-1);\n",
       "}\n",
       "\n",
       ".sk-estimator-doc-link.fitted,\n",
       "a:link.sk-estimator-doc-link.fitted,\n",
       "a:visited.sk-estimator-doc-link.fitted {\n",
       "  /* fitted */\n",
       "  border: var(--sklearn-color-fitted-level-1) 1pt solid;\n",
       "  color: var(--sklearn-color-fitted-level-1);\n",
       "}\n",
       "\n",
       "/* On hover */\n",
       "div.sk-estimator:hover .sk-estimator-doc-link:hover,\n",
       ".sk-estimator-doc-link:hover,\n",
       "div.sk-label-container:hover .sk-estimator-doc-link:hover,\n",
       ".sk-estimator-doc-link:hover {\n",
       "  /* unfitted */\n",
       "  background-color: var(--sklearn-color-unfitted-level-3);\n",
       "  color: var(--sklearn-color-background);\n",
       "  text-decoration: none;\n",
       "}\n",
       "\n",
       "div.sk-estimator.fitted:hover .sk-estimator-doc-link.fitted:hover,\n",
       ".sk-estimator-doc-link.fitted:hover,\n",
       "div.sk-label-container:hover .sk-estimator-doc-link.fitted:hover,\n",
       ".sk-estimator-doc-link.fitted:hover {\n",
       "  /* fitted */\n",
       "  background-color: var(--sklearn-color-fitted-level-3);\n",
       "  color: var(--sklearn-color-background);\n",
       "  text-decoration: none;\n",
       "}\n",
       "\n",
       "/* Span, style for the box shown on hovering the info icon */\n",
       ".sk-estimator-doc-link span {\n",
       "  display: none;\n",
       "  z-index: 9999;\n",
       "  position: relative;\n",
       "  font-weight: normal;\n",
       "  right: .2ex;\n",
       "  padding: .5ex;\n",
       "  margin: .5ex;\n",
       "  width: min-content;\n",
       "  min-width: 20ex;\n",
       "  max-width: 50ex;\n",
       "  color: var(--sklearn-color-text);\n",
       "  box-shadow: 2pt 2pt 4pt #999;\n",
       "  /* unfitted */\n",
       "  background: var(--sklearn-color-unfitted-level-0);\n",
       "  border: .5pt solid var(--sklearn-color-unfitted-level-3);\n",
       "}\n",
       "\n",
       ".sk-estimator-doc-link.fitted span {\n",
       "  /* fitted */\n",
       "  background: var(--sklearn-color-fitted-level-0);\n",
       "  border: var(--sklearn-color-fitted-level-3);\n",
       "}\n",
       "\n",
       ".sk-estimator-doc-link:hover span {\n",
       "  display: block;\n",
       "}\n",
       "\n",
       "/* \"?\"-specific style due to the `<a>` HTML tag */\n",
       "\n",
       "#sk-container-id-1 a.estimator_doc_link {\n",
       "  float: right;\n",
       "  font-size: 1rem;\n",
       "  line-height: 1em;\n",
       "  font-family: monospace;\n",
       "  background-color: var(--sklearn-color-background);\n",
       "  border-radius: 1rem;\n",
       "  height: 1rem;\n",
       "  width: 1rem;\n",
       "  text-decoration: none;\n",
       "  /* unfitted */\n",
       "  color: var(--sklearn-color-unfitted-level-1);\n",
       "  border: var(--sklearn-color-unfitted-level-1) 1pt solid;\n",
       "}\n",
       "\n",
       "#sk-container-id-1 a.estimator_doc_link.fitted {\n",
       "  /* fitted */\n",
       "  border: var(--sklearn-color-fitted-level-1) 1pt solid;\n",
       "  color: var(--sklearn-color-fitted-level-1);\n",
       "}\n",
       "\n",
       "/* On hover */\n",
       "#sk-container-id-1 a.estimator_doc_link:hover {\n",
       "  /* unfitted */\n",
       "  background-color: var(--sklearn-color-unfitted-level-3);\n",
       "  color: var(--sklearn-color-background);\n",
       "  text-decoration: none;\n",
       "}\n",
       "\n",
       "#sk-container-id-1 a.estimator_doc_link.fitted:hover {\n",
       "  /* fitted */\n",
       "  background-color: var(--sklearn-color-fitted-level-3);\n",
       "}\n",
       "</style><div id=\"sk-container-id-1\" class=\"sk-top-container\"><div class=\"sk-text-repr-fallback\"><pre>XGBClassifier(base_score=None, booster=None, callbacks=None,\n",
       "              colsample_bylevel=None, colsample_bynode=0.7505951054665749,\n",
       "              colsample_bytree=None, device=None, early_stopping_rounds=None,\n",
       "              enable_categorical=False,\n",
       "              eval_metric=&lt;function custom_f1_score at 0x7fed0ebcc4a0&gt;,\n",
       "              feature_types=None, gamma=None, grow_policy=None,\n",
       "              importance_type=None, interaction_constraints=None,\n",
       "              learning_rate=0.20947570573709498, max_bin=None,\n",
       "              max_cat_threshold=None, max_cat_to_onehot=None,\n",
       "              max_delta_step=None, max_depth=11, max_leaves=None,\n",
       "              min_child_weight=35, missing=nan, monotone_constraints=None,\n",
       "              multi_strategy=None, n_estimators=159, n_jobs=None,\n",
       "              num_parallel_tree=None, objective=&#x27;multi:softprob&#x27;, ...)</pre><b>In a Jupyter environment, please rerun this cell to show the HTML representation or trust the notebook. <br />On GitHub, the HTML representation is unable to render, please try loading this page with nbviewer.org.</b></div><div class=\"sk-container\" hidden><div class=\"sk-item\"><div class=\"sk-estimator fitted sk-toggleable\"><input class=\"sk-toggleable__control sk-hidden--visually\" id=\"sk-estimator-id-1\" type=\"checkbox\" checked><label for=\"sk-estimator-id-1\" class=\"sk-toggleable__label fitted sk-toggleable__label-arrow fitted\">&nbsp;XGBClassifier<span class=\"sk-estimator-doc-link fitted\">i<span>Fitted</span></span></label><div class=\"sk-toggleable__content fitted\"><pre>XGBClassifier(base_score=None, booster=None, callbacks=None,\n",
       "              colsample_bylevel=None, colsample_bynode=0.7505951054665749,\n",
       "              colsample_bytree=None, device=None, early_stopping_rounds=None,\n",
       "              enable_categorical=False,\n",
       "              eval_metric=&lt;function custom_f1_score at 0x7fed0ebcc4a0&gt;,\n",
       "              feature_types=None, gamma=None, grow_policy=None,\n",
       "              importance_type=None, interaction_constraints=None,\n",
       "              learning_rate=0.20947570573709498, max_bin=None,\n",
       "              max_cat_threshold=None, max_cat_to_onehot=None,\n",
       "              max_delta_step=None, max_depth=11, max_leaves=None,\n",
       "              min_child_weight=35, missing=nan, monotone_constraints=None,\n",
       "              multi_strategy=None, n_estimators=159, n_jobs=None,\n",
       "              num_parallel_tree=None, objective=&#x27;multi:softprob&#x27;, ...)</pre></div> </div></div></div></div>"
      ],
      "text/plain": [
       "XGBClassifier(base_score=None, booster=None, callbacks=None,\n",
       "              colsample_bylevel=None, colsample_bynode=0.7505951054665749,\n",
       "              colsample_bytree=None, device=None, early_stopping_rounds=None,\n",
       "              enable_categorical=False,\n",
       "              eval_metric=<function custom_f1_score at 0x7fed0ebcc4a0>,\n",
       "              feature_types=None, gamma=None, grow_policy=None,\n",
       "              importance_type=None, interaction_constraints=None,\n",
       "              learning_rate=0.20947570573709498, max_bin=None,\n",
       "              max_cat_threshold=None, max_cat_to_onehot=None,\n",
       "              max_delta_step=None, max_depth=11, max_leaves=None,\n",
       "              min_child_weight=35, missing=nan, monotone_constraints=None,\n",
       "              multi_strategy=None, n_estimators=159, n_jobs=None,\n",
       "              num_parallel_tree=None, objective='multi:softprob', ...)"
      ]
     },
     "execution_count": 21,
     "metadata": {},
     "output_type": "execute_result"
    }
   ],
   "source": [
    "n_estimators = int(study.best_trial.user_attrs['best_iteration']*1.2)\n",
    "xgb = xgboost.XGBClassifier(\n",
    "        eval_metric=eval_metric,\n",
    "        n_estimators=n_estimators,\n",
    "        **study.best_trial.params\n",
    "    )\n",
    "xgb.fit(\n",
    "    ssp.vstack((X_train, X_val)), \n",
    "    np.concatenate((y_train_enc, y_val_enc)),\n",
    "    verbose=1,\n",
    ")"
   ]
  },
  {
   "cell_type": "code",
   "execution_count": 22,
   "id": "0a19c28a",
   "metadata": {
    "execution": {
     "iopub.execute_input": "2025-06-13T13:18:02.358887Z",
     "iopub.status.busy": "2025-06-13T13:18:02.358693Z",
     "iopub.status.idle": "2025-06-13T13:18:02.423521Z",
     "shell.execute_reply": "2025-06-13T13:18:02.423169Z"
    },
    "papermill": {
     "duration": 0.078443,
     "end_time": "2025-06-13T13:18:02.424519",
     "exception": false,
     "start_time": "2025-06-13T13:18:02.346076",
     "status": "completed"
    },
    "tags": []
   },
   "outputs": [
    {
     "data": {
      "text/plain": [
       "['/scratch_isilon/groups/singlecell/shared/projects/Inflammation-PBMCs-Atlas/03_downstream_analysis/08_gene_importance/xgboost_external_validation/xgboost_TopN_genes/results_20/best_model/Mono_shap_disease_NOstudy_samesize_4_xgb.json']"
      ]
     },
     "execution_count": 22,
     "metadata": {},
     "output_type": "execute_result"
    }
   ],
   "source": [
    "out_dir = here(f'03_downstream_analysis/08_gene_importance/xgboost_external_validation/xgboost_TopN_genes/results_{N_GENES}/best_model')\n",
    "\n",
    "if not os.path.exists(out_dir):\n",
    "    os.makedirs(out_dir)\n",
    "    \n",
    "joblib.dump(xgb, os.path.join(out_dir, f'{CELL_TYPE}_{SEED}_{TEST_SPLIT_IDX}_xgb.json'))"
   ]
  },
  {
   "cell_type": "code",
   "execution_count": 23,
   "id": "4b37c50f",
   "metadata": {
    "execution": {
     "iopub.execute_input": "2025-06-13T13:18:02.443420Z",
     "iopub.status.busy": "2025-06-13T13:18:02.442975Z",
     "iopub.status.idle": "2025-06-13T13:18:03.259587Z",
     "shell.execute_reply": "2025-06-13T13:18:03.259087Z"
    },
    "papermill": {
     "duration": 0.827138,
     "end_time": "2025-06-13T13:18:03.260691",
     "exception": false,
     "start_time": "2025-06-13T13:18:02.433553",
     "status": "completed"
    },
    "tags": []
   },
   "outputs": [],
   "source": [
    "df_pred_test = pd.DataFrame(dict(\n",
    "    cell_id=train_adata.obs.iloc[test_idxs].index.values,\n",
    "    y_true=y_test, \n",
    "    y_true_code=y_test_enc, \n",
    "    y_pred=xgb.predict(X_test))).set_index('cell_id')"
   ]
  },
  {
   "cell_type": "code",
   "execution_count": 24,
   "id": "a2749a7a",
   "metadata": {
    "execution": {
     "iopub.execute_input": "2025-06-13T13:18:03.289681Z",
     "iopub.status.busy": "2025-06-13T13:18:03.289402Z",
     "iopub.status.idle": "2025-06-13T13:18:03.724658Z",
     "shell.execute_reply": "2025-06-13T13:18:03.724264Z"
    },
    "papermill": {
     "duration": 0.447942,
     "end_time": "2025-06-13T13:18:03.725820",
     "exception": false,
     "start_time": "2025-06-13T13:18:03.277878",
     "status": "completed"
    },
    "tags": []
   },
   "outputs": [],
   "source": [
    "out_dir = here(f'03_downstream_analysis/08_gene_importance/xgboost_external_validation/xgboost_TopN_genes/results_{N_GENES}/predictions')\n",
    "\n",
    "if not os.path.exists(out_dir):\n",
    "    os.makedirs(out_dir)\n",
    "    \n",
    "df_pred_test.to_csv(os.path.join(out_dir, f'{CELL_TYPE}_{SEED}_{TEST_SPLIT_IDX}_pred_test.zip'))"
   ]
  },
  {
   "cell_type": "code",
   "execution_count": 25,
   "id": "1b7922df",
   "metadata": {
    "execution": {
     "iopub.execute_input": "2025-06-13T13:18:03.745461Z",
     "iopub.status.busy": "2025-06-13T13:18:03.745179Z",
     "iopub.status.idle": "2025-06-13T13:18:03.762413Z",
     "shell.execute_reply": "2025-06-13T13:18:03.762075Z"
    },
    "papermill": {
     "duration": 0.027384,
     "end_time": "2025-06-13T13:18:03.763263",
     "exception": false,
     "start_time": "2025-06-13T13:18:03.735879",
     "status": "completed"
    },
    "tags": []
   },
   "outputs": [],
   "source": [
    "metrics_dict = dict(\n",
    "    BAS=balanced_accuracy_score(y_true=df_pred_test.y_true_code, y_pred=df_pred_test.y_pred), WF1=f1_score(y_true=df_pred_test.y_true_code, y_pred=df_pred_test.y_pred,average='weighted'))"
   ]
  },
  {
   "cell_type": "code",
   "execution_count": 26,
   "id": "a92b917b",
   "metadata": {
    "execution": {
     "iopub.execute_input": "2025-06-13T13:18:03.783219Z",
     "iopub.status.busy": "2025-06-13T13:18:03.783048Z",
     "iopub.status.idle": "2025-06-13T13:18:03.786010Z",
     "shell.execute_reply": "2025-06-13T13:18:03.785692Z"
    },
    "papermill": {
     "duration": 0.014846,
     "end_time": "2025-06-13T13:18:03.786861",
     "exception": false,
     "start_time": "2025-06-13T13:18:03.772015",
     "status": "completed"
    },
    "tags": []
   },
   "outputs": [
    {
     "data": {
      "text/plain": [
       "{'BAS': 0.5378651311071952, 'WF1': 0.8125810974770763}"
      ]
     },
     "execution_count": 26,
     "metadata": {},
     "output_type": "execute_result"
    }
   ],
   "source": [
    "metrics_dict"
   ]
  },
  {
   "cell_type": "code",
   "execution_count": 27,
   "id": "775ab12a",
   "metadata": {
    "execution": {
     "iopub.execute_input": "2025-06-13T13:18:03.805319Z",
     "iopub.status.busy": "2025-06-13T13:18:03.805156Z",
     "iopub.status.idle": "2025-06-13T13:18:03.814685Z",
     "shell.execute_reply": "2025-06-13T13:18:03.814347Z"
    },
    "papermill": {
     "duration": 0.019833,
     "end_time": "2025-06-13T13:18:03.815548",
     "exception": false,
     "start_time": "2025-06-13T13:18:03.795715",
     "status": "completed"
    },
    "tags": []
   },
   "outputs": [
    {
     "data": {
      "text/html": [
       "<div>\n",
       "<style scoped>\n",
       "    .dataframe tbody tr th:only-of-type {\n",
       "        vertical-align: middle;\n",
       "    }\n",
       "\n",
       "    .dataframe tbody tr th {\n",
       "        vertical-align: top;\n",
       "    }\n",
       "\n",
       "    .dataframe thead th {\n",
       "        text-align: right;\n",
       "    }\n",
       "</style>\n",
       "<table border=\"1\" class=\"dataframe\">\n",
       "  <thead>\n",
       "    <tr style=\"text-align: right;\">\n",
       "      <th></th>\n",
       "      <th>BAS</th>\n",
       "      <th>WF1</th>\n",
       "      <th>split_idx</th>\n",
       "      <th>gene_set_seed</th>\n",
       "      <th>cell_type</th>\n",
       "    </tr>\n",
       "  </thead>\n",
       "  <tbody>\n",
       "    <tr>\n",
       "      <th>0</th>\n",
       "      <td>0.537865</td>\n",
       "      <td>0.812581</td>\n",
       "      <td>4</td>\n",
       "      <td>shap_disease_NOstudy_samesize</td>\n",
       "      <td>Mono</td>\n",
       "    </tr>\n",
       "  </tbody>\n",
       "</table>\n",
       "</div>"
      ],
      "text/plain": [
       "        BAS       WF1  split_idx                  gene_set_seed cell_type\n",
       "0  0.537865  0.812581          4  shap_disease_NOstudy_samesize      Mono"
      ]
     },
     "execution_count": 27,
     "metadata": {},
     "output_type": "execute_result"
    }
   ],
   "source": [
    "metrics_df = pd.DataFrame.from_dict([metrics_dict]).assign(split_idx=TEST_SPLIT_IDX, gene_set_seed=SEED, cell_type=CELL_TYPE)\n",
    "metrics_df"
   ]
  },
  {
   "cell_type": "code",
   "execution_count": 28,
   "id": "77661131",
   "metadata": {
    "execution": {
     "iopub.execute_input": "2025-06-13T13:18:03.835002Z",
     "iopub.status.busy": "2025-06-13T13:18:03.834762Z",
     "iopub.status.idle": "2025-06-13T13:18:03.842829Z",
     "shell.execute_reply": "2025-06-13T13:18:03.842457Z"
    },
    "papermill": {
     "duration": 0.018867,
     "end_time": "2025-06-13T13:18:03.843709",
     "exception": false,
     "start_time": "2025-06-13T13:18:03.824842",
     "status": "completed"
    },
    "tags": []
   },
   "outputs": [],
   "source": [
    "out_dir = here(f'03_downstream_analysis/08_gene_importance/xgboost_external_validation/xgboost_TopN_genes/results_{N_GENES}/metrics')\n",
    "\n",
    "if not os.path.exists(out_dir):\n",
    "    os.makedirs(out_dir)\n",
    "    \n",
    "metrics_df.to_csv(os.path.join(out_dir, f'{CELL_TYPE}_{SEED}_{TEST_SPLIT_IDX}_metrics.zip'))"
   ]
  }
 ],
 "metadata": {
  "kernelspec": {
   "display_name": "Python 3 (ipykernel)",
   "language": "python",
   "name": "python3"
  },
  "language_info": {
   "codemirror_mode": {
    "name": "ipython",
    "version": 3
   },
   "file_extension": ".py",
   "mimetype": "text/x-python",
   "name": "python",
   "nbconvert_exporter": "python",
   "pygments_lexer": "ipython3",
   "version": "3.12.5"
  },
  "papermill": {
   "default_parameters": {},
   "duration": 1034.428263,
   "end_time": "2025-06-13T13:18:04.569285",
   "environment_variables": {},
   "exception": null,
   "input_path": "02_xgboost_fitting_external_20genes.ipynb",
   "output_path": "results_20/executed_notebooks/xgboost_fitting_external_CT_Mono_GS_shap_disease_NOstudy_samesize_seed4.ipynb",
   "parameters": {
    "CELL_TYPE": "Mono",
    "SEED": "shap_disease_NOstudy_samesize",
    "TEST_SPLIT_IDX": 4
   },
   "start_time": "2025-06-13T13:00:50.141022",
   "version": "2.6.0"
  }
 },
 "nbformat": 4,
 "nbformat_minor": 5
}