{
 "cells": [
  {
   "cell_type": "code",
   "execution_count": 1,
   "id": "b49376af",
   "metadata": {
    "editable": true,
    "execution": {
     "iopub.execute_input": "2025-05-15T16:02:37.585466Z",
     "iopub.status.busy": "2025-05-15T16:02:37.584865Z",
     "iopub.status.idle": "2025-05-15T16:02:37.587953Z",
     "shell.execute_reply": "2025-05-15T16:02:37.587619Z"
    },
    "papermill": {
     "duration": 0.011746,
     "end_time": "2025-05-15T16:02:37.588853",
     "exception": false,
     "start_time": "2025-05-15T16:02:37.577107",
     "status": "completed"
    },
    "slideshow": {
     "slide_type": ""
    },
    "tags": [
     "parameters"
    ]
   },
   "outputs": [],
   "source": [
    "CELL_TYPE = 'pDC'\n",
    "N_GENES: int = 20\n",
    "SEED = 'shap_studyID' #'disease_NOstudy' 'study_NOdisease' or 'int' or 'shap_studyID'\n",
    "TEST_SPLIT_IDX: int = 1 #[0,4]"
   ]
  },
  {
   "cell_type": "code",
   "execution_count": 2,
   "id": "a2ffd568",
   "metadata": {
    "execution": {
     "iopub.execute_input": "2025-05-15T16:02:37.606859Z",
     "iopub.status.busy": "2025-05-15T16:02:37.606612Z",
     "iopub.status.idle": "2025-05-15T16:02:37.608829Z",
     "shell.execute_reply": "2025-05-15T16:02:37.608531Z"
    },
    "papermill": {
     "duration": 0.011306,
     "end_time": "2025-05-15T16:02:37.609605",
     "exception": false,
     "start_time": "2025-05-15T16:02:37.598299",
     "status": "completed"
    },
    "tags": [
     "injected-parameters"
    ]
   },
   "outputs": [],
   "source": [
    "# Parameters\n",
    "CELL_TYPE = \"T_CD4_NonNaive\"\n",
    "SEED = 7\n",
    "TEST_SPLIT_IDX = 3\n"
   ]
  },
  {
   "cell_type": "code",
   "execution_count": 3,
   "id": "64e3ad55",
   "metadata": {
    "execution": {
     "iopub.execute_input": "2025-05-15T16:02:37.621799Z",
     "iopub.status.busy": "2025-05-15T16:02:37.621579Z",
     "iopub.status.idle": "2025-05-15T16:02:37.623674Z",
     "shell.execute_reply": "2025-05-15T16:02:37.623377Z"
    },
    "papermill": {
     "duration": 0.009071,
     "end_time": "2025-05-15T16:02:37.624434",
     "exception": false,
     "start_time": "2025-05-15T16:02:37.615363",
     "status": "completed"
    },
    "tags": []
   },
   "outputs": [],
   "source": [
    "N_SPLITS: int = 5\n",
    "N_TRIALS: int = 50"
   ]
  },
  {
   "cell_type": "code",
   "execution_count": 4,
   "id": "31dcc389",
   "metadata": {
    "execution": {
     "iopub.execute_input": "2025-05-15T16:02:37.637191Z",
     "iopub.status.busy": "2025-05-15T16:02:37.636977Z",
     "iopub.status.idle": "2025-05-15T16:02:39.049775Z",
     "shell.execute_reply": "2025-05-15T16:02:39.049301Z"
    },
    "papermill": {
     "duration": 1.421291,
     "end_time": "2025-05-15T16:02:39.051134",
     "exception": false,
     "start_time": "2025-05-15T16:02:37.629843",
     "status": "completed"
    },
    "tags": []
   },
   "outputs": [],
   "source": [
    "import os\n",
    "import sys\n",
    "from pyprojroot.here import here\n",
    "import pandas as pd\n",
    "import anndata as ad\n",
    "import numpy as np\n",
    "import math\n",
    "from sklearn.model_selection import StratifiedGroupKFold\n",
    "from sklearn.preprocessing import LabelEncoder\n",
    "from sklearn.metrics import f1_score\n",
    "import matplotlib.pyplot as plt\n",
    "import seaborn as sns\n",
    "from itertools import product\n",
    "from sklearn.metrics import balanced_accuracy_score, f1_score\n",
    "import optuna\n",
    "\n",
    "import joblib\n",
    "import pickle\n",
    "import datetime\n",
    "\n",
    "import collections\n",
    "\n",
    "import xgboost\n",
    "from sklearn.preprocessing import LabelEncoder\n",
    "\n",
    "import scipy.sparse as ssp\n",
    "import joblib\n",
    "\n",
    "from dotenv import load_dotenv"
   ]
  },
  {
   "cell_type": "code",
   "execution_count": 5,
   "id": "e50a4efd",
   "metadata": {
    "execution": {
     "iopub.execute_input": "2025-05-15T16:02:39.064248Z",
     "iopub.status.busy": "2025-05-15T16:02:39.063786Z",
     "iopub.status.idle": "2025-05-15T16:02:39.069805Z",
     "shell.execute_reply": "2025-05-15T16:02:39.069458Z"
    },
    "papermill": {
     "duration": 0.013553,
     "end_time": "2025-05-15T16:02:39.070664",
     "exception": false,
     "start_time": "2025-05-15T16:02:39.057111",
     "status": "completed"
    },
    "tags": []
   },
   "outputs": [
    {
     "data": {
      "text/plain": [
       "True"
      ]
     },
     "execution_count": 5,
     "metadata": {},
     "output_type": "execute_result"
    }
   ],
   "source": [
    "load_dotenv()"
   ]
  },
  {
   "cell_type": "markdown",
   "id": "c1ab2578",
   "metadata": {
    "papermill": {
     "duration": 0.005668,
     "end_time": "2025-05-15T16:02:39.081918",
     "exception": false,
     "start_time": "2025-05-15T16:02:39.076250",
     "status": "completed"
    },
    "tags": []
   },
   "source": [
    "# LOAD DATASET"
   ]
  },
  {
   "cell_type": "code",
   "execution_count": 6,
   "id": "10ae82fe",
   "metadata": {
    "execution": {
     "iopub.execute_input": "2025-05-15T16:02:39.093884Z",
     "iopub.status.busy": "2025-05-15T16:02:39.093615Z",
     "iopub.status.idle": "2025-05-15T16:02:39.853114Z",
     "shell.execute_reply": "2025-05-15T16:02:39.852659Z"
    },
    "papermill": {
     "duration": 0.766748,
     "end_time": "2025-05-15T16:02:39.854431",
     "exception": false,
     "start_time": "2025-05-15T16:02:39.087683",
     "status": "completed"
    },
    "tags": []
   },
   "outputs": [],
   "source": [
    "train_adata = ad.read_h5ad(\n",
    "    here(f'03_downstream_analysis/08_gene_importance/xgboost_external_validation/xgboost_TopN_genes/data_cellTypes/EXTERNAL_{CELL_TYPE}.filtered.log1p.h5ad')\n",
    ")"
   ]
  },
  {
   "cell_type": "code",
   "execution_count": 7,
   "id": "8fcd8e6f",
   "metadata": {
    "execution": {
     "iopub.execute_input": "2025-05-15T16:02:39.873193Z",
     "iopub.status.busy": "2025-05-15T16:02:39.872697Z",
     "iopub.status.idle": "2025-05-15T16:02:39.906617Z",
     "shell.execute_reply": "2025-05-15T16:02:39.906223Z"
    },
    "papermill": {
     "duration": 0.04149,
     "end_time": "2025-05-15T16:02:39.907554",
     "exception": false,
     "start_time": "2025-05-15T16:02:39.866064",
     "status": "completed"
    },
    "tags": []
   },
   "outputs": [
    {
     "name": "stdout",
     "output_type": "stream",
     "text": [
      "['ENSG00000158050' 'ENSG00000125743' 'ENSG00000137441' 'ENSG00000177556'\n",
      " 'ENSG00000204843' 'ENSG00000100450' 'ENSG00000204264' 'ENSG00000105374'\n",
      " 'ENSG00000103490' 'ENSG00000157514' 'ENSG00000123268' 'ENSG00000111678'\n",
      " 'ENSG00000089127' 'ENSG00000109321' 'ENSG00000131143' 'ENSG00000165272'\n",
      " 'ENSG00000182117' 'ENSG00000166888' 'ENSG00000277791' 'ENSG00000030582'\n",
      " 'ENSG00000103187' 'ENSG00000172005' 'ENSG00000132432' 'ENSG00000160932'\n",
      " 'ENSG00000196961' 'ENSG00000156411' 'ENSG00000204592' 'ENSG00000101695'\n",
      " 'ENSG00000186891' 'ENSG00000167283' 'ENSG00000204287' 'ENSG00000271503'\n",
      " 'ENSG00000126267' 'ENSG00000129084' 'ENSG00000028137' 'ENSG00000079805'\n",
      " 'ENSG00000204257' 'ENSG00000134285' 'ENSG00000235162' 'ENSG00000106605'\n",
      " 'ENSG00000113088' 'ENSG00000133134' 'ENSG00000035115' 'ENSG00000145220'\n",
      " 'ENSG00000196396' 'ENSG00000164483' 'ENSG00000204472' 'ENSG00000085265'\n",
      " 'ENSG00000183813' 'ENSG00000239713' 'ENSG00000125384' 'ENSG00000104894'\n",
      " 'ENSG00000167552' 'ENSG00000138802' 'ENSG00000101474' 'ENSG00000133639'\n",
      " 'ENSG00000242616' 'ENSG00000151882' 'ENSG00000136997' 'ENSG00000127540'\n",
      " 'ENSG00000082074' 'ENSG00000105835' 'ENSG00000204525' 'ENSG00000164307'\n",
      " 'ENSG00000134107' 'ENSG00000118503' 'ENSG00000243646' 'ENSG00000121879'\n",
      " 'ENSG00000154814' 'ENSG00000139626' 'ENSG00000177606' 'ENSG00000161203'\n",
      " 'ENSG00000153234' 'ENSG00000175390' 'ENSG00000197747' 'ENSG00000166710'\n",
      " 'ENSG00000162434' 'ENSG00000033800' 'ENSG00000127314' 'ENSG00000100365'\n",
      " 'ENSG00000132912' 'ENSG00000183172' 'ENSG00000102245' 'ENSG00000152700'\n",
      " 'ENSG00000177721' 'ENSG00000163191' 'ENSG00000135916' 'ENSG00000092820'\n",
      " 'ENSG00000179218' 'ENSG00000145649' 'ENSG00000204482' 'ENSG00000160213'\n",
      " 'ENSG00000002586' 'ENSG00000107485' 'ENSG00000135114' 'ENSG00000142669'\n",
      " 'ENSG00000138378' 'ENSG00000197471' 'ENSG00000145675' 'ENSG00000105373'\n",
      " 'ENSG00000107223' 'ENSG00000008517']\n"
     ]
    }
   ],
   "source": [
    "if SEED != 'all':\n",
    "    gene_subset = np.load(here(f'03_downstream_analysis/08_gene_importance/xgboost_external_validation/shap_gene_selection/gene_subsets_{N_GENES}/{CELL_TYPE}_{SEED}.npy'), allow_pickle=True)\n",
    "    train_adata = train_adata[:,gene_subset]\n",
    "    print(gene_subset)\n",
    "elif SEED == 'all':\n",
    "    print('Using all genes')\n",
    "else:\n",
    "    raise ValueError()"
   ]
  },
  {
   "cell_type": "code",
   "execution_count": 8,
   "id": "cf7962c4",
   "metadata": {
    "execution": {
     "iopub.execute_input": "2025-05-15T16:02:39.991042Z",
     "iopub.status.busy": "2025-05-15T16:02:39.990716Z",
     "iopub.status.idle": "2025-05-15T16:02:39.995439Z",
     "shell.execute_reply": "2025-05-15T16:02:39.995035Z"
    },
    "papermill": {
     "duration": 0.016198,
     "end_time": "2025-05-15T16:02:39.996433",
     "exception": false,
     "start_time": "2025-05-15T16:02:39.980235",
     "status": "completed"
    },
    "tags": []
   },
   "outputs": [
    {
     "data": {
      "text/plain": [
       "(124886, 102)"
      ]
     },
     "execution_count": 8,
     "metadata": {},
     "output_type": "execute_result"
    }
   ],
   "source": [
    "train_adata.shape"
   ]
  },
  {
   "cell_type": "code",
   "execution_count": 9,
   "id": "013fdee3",
   "metadata": {
    "execution": {
     "iopub.execute_input": "2025-05-15T16:02:40.009863Z",
     "iopub.status.busy": "2025-05-15T16:02:40.009633Z",
     "iopub.status.idle": "2025-05-15T16:02:40.014327Z",
     "shell.execute_reply": "2025-05-15T16:02:40.013961Z"
    },
    "papermill": {
     "duration": 0.012597,
     "end_time": "2025-05-15T16:02:40.015194",
     "exception": false,
     "start_time": "2025-05-15T16:02:40.002597",
     "status": "completed"
    },
    "tags": []
   },
   "outputs": [
    {
     "data": {
      "text/plain": [
       "['RA', 'healthy', 'COVID', 'HIV', 'cirrhosis', 'CD', 'SLE', 'sepsis']\n",
       "Categories (8, object): ['CD', 'COVID', 'HIV', 'RA', 'SLE', 'cirrhosis', 'healthy', 'sepsis']"
      ]
     },
     "execution_count": 9,
     "metadata": {},
     "output_type": "execute_result"
    }
   ],
   "source": [
    "train_adata.obs.disease.unique()"
   ]
  },
  {
   "cell_type": "code",
   "execution_count": 10,
   "id": "fdd7779f",
   "metadata": {
    "execution": {
     "iopub.execute_input": "2025-05-15T16:02:40.041835Z",
     "iopub.status.busy": "2025-05-15T16:02:40.041595Z",
     "iopub.status.idle": "2025-05-15T16:02:40.046589Z",
     "shell.execute_reply": "2025-05-15T16:02:40.046234Z"
    },
    "papermill": {
     "duration": 0.026553,
     "end_time": "2025-05-15T16:02:40.047484",
     "exception": false,
     "start_time": "2025-05-15T16:02:40.020931",
     "status": "completed"
    },
    "tags": []
   },
   "outputs": [
    {
     "data": {
      "text/plain": [
       "['SCGT00val_I036016_T0', 'SCGT00val_I036023_T0', 'SCGT00val_I036015_T0', 'SCGT00val_I036028_T0', 'SCGT00val_I0364_T0', ..., '10XGenomics_10XHC2_T0', '10XGenomics_10XHC3_T0', '10XGenomics_10XHC5_T0', '10XGenomics_10XHC7_T0', '10XGenomics_10XHC8_T0']\n",
       "Length: 86\n",
       "Categories (86, object): ['10XGenomics_10XHC1_T0', '10XGenomics_10XHC2_T0', '10XGenomics_10XHC3_T0', '10XGenomics_10XHC4_T0', ..., 'Savage2021_BRISL6_T0', 'Savage2021_BRISL7_T0', 'Savage2021_PIDA_T0', 'Savage2021_PIDB_T0']"
      ]
     },
     "execution_count": 10,
     "metadata": {},
     "output_type": "execute_result"
    }
   ],
   "source": [
    "train_adata.obs.sampleID.unique()"
   ]
  },
  {
   "cell_type": "code",
   "execution_count": 11,
   "id": "6024c41e",
   "metadata": {
    "execution": {
     "iopub.execute_input": "2025-05-15T16:02:40.140469Z",
     "iopub.status.busy": "2025-05-15T16:02:40.140209Z",
     "iopub.status.idle": "2025-05-15T16:02:40.456876Z",
     "shell.execute_reply": "2025-05-15T16:02:40.456439Z"
    },
    "papermill": {
     "duration": 0.388462,
     "end_time": "2025-05-15T16:02:40.458018",
     "exception": false,
     "start_time": "2025-05-15T16:02:40.069556",
     "status": "completed"
    },
    "tags": []
   },
   "outputs": [],
   "source": [
    "all_idxs = np.arange(train_adata.obs.shape[0])\n",
    "left_out_splits = [s[1] for s in StratifiedGroupKFold(n_splits=N_SPLITS).split(all_idxs, train_adata.obs.disease, train_adata.obs.sampleID)]"
   ]
  },
  {
   "cell_type": "code",
   "execution_count": 12,
   "id": "7c20851a",
   "metadata": {
    "execution": {
     "iopub.execute_input": "2025-05-15T16:02:40.471377Z",
     "iopub.status.busy": "2025-05-15T16:02:40.471159Z",
     "iopub.status.idle": "2025-05-15T16:02:40.474994Z",
     "shell.execute_reply": "2025-05-15T16:02:40.474626Z"
    },
    "papermill": {
     "duration": 0.011351,
     "end_time": "2025-05-15T16:02:40.475828",
     "exception": false,
     "start_time": "2025-05-15T16:02:40.464477",
     "status": "completed"
    },
    "tags": []
   },
   "outputs": [
    {
     "data": {
      "text/plain": [
       "([0, 1, 2], 4, 3)"
      ]
     },
     "execution_count": 12,
     "metadata": {},
     "output_type": "execute_result"
    }
   ],
   "source": [
    "TRAIN_SPLIT_IDXS = [0,1,2,3,4]\n",
    "VAL_SPLIT_IDX = (TEST_SPLIT_IDX + 1) % 5\n",
    "TRAIN_SPLIT_IDXS.remove(TEST_SPLIT_IDX)\n",
    "TRAIN_SPLIT_IDXS.remove(VAL_SPLIT_IDX)\n",
    "TRAIN_SPLIT_IDXS, VAL_SPLIT_IDX, TEST_SPLIT_IDX"
   ]
  },
  {
   "cell_type": "code",
   "execution_count": 13,
   "id": "7d37c3ea",
   "metadata": {
    "execution": {
     "iopub.execute_input": "2025-05-15T16:02:40.488525Z",
     "iopub.status.busy": "2025-05-15T16:02:40.488247Z",
     "iopub.status.idle": "2025-05-15T16:02:40.490719Z",
     "shell.execute_reply": "2025-05-15T16:02:40.490395Z"
    },
    "papermill": {
     "duration": 0.00985,
     "end_time": "2025-05-15T16:02:40.491551",
     "exception": false,
     "start_time": "2025-05-15T16:02:40.481701",
     "status": "completed"
    },
    "tags": []
   },
   "outputs": [],
   "source": [
    "train_idxs = np.concatenate([left_out_splits[idx] for idx in TRAIN_SPLIT_IDXS])\n",
    "val_idxs = left_out_splits[VAL_SPLIT_IDX]\n",
    "test_idxs = left_out_splits[TEST_SPLIT_IDX]"
   ]
  },
  {
   "cell_type": "markdown",
   "id": "972aed77",
   "metadata": {
    "papermill": {
     "duration": 0.006235,
     "end_time": "2025-05-15T16:02:40.503771",
     "exception": false,
     "start_time": "2025-05-15T16:02:40.497536",
     "status": "completed"
    },
    "tags": []
   },
   "source": [
    "### SUBSET DATASET INTO TRAIN/TEST/VAL SPLITS"
   ]
  },
  {
   "cell_type": "code",
   "execution_count": 14,
   "id": "614f4f62",
   "metadata": {
    "execution": {
     "iopub.execute_input": "2025-05-15T16:02:40.517212Z",
     "iopub.status.busy": "2025-05-15T16:02:40.517038Z",
     "iopub.status.idle": "2025-05-15T16:02:40.808410Z",
     "shell.execute_reply": "2025-05-15T16:02:40.807944Z"
    },
    "papermill": {
     "duration": 0.299346,
     "end_time": "2025-05-15T16:02:40.809487",
     "exception": false,
     "start_time": "2025-05-15T16:02:40.510141",
     "status": "completed"
    },
    "tags": []
   },
   "outputs": [
    {
     "data": {
      "text/plain": [
       "((76153, 102), (24616, 102), (24117, 102))"
      ]
     },
     "execution_count": 14,
     "metadata": {},
     "output_type": "execute_result"
    }
   ],
   "source": [
    "X_train = train_adata.X[train_idxs]\n",
    "X_test = train_adata.X[test_idxs]\n",
    "X_val = train_adata.X[val_idxs]\n",
    "X_train.shape, X_test.shape, X_val.shape"
   ]
  },
  {
   "cell_type": "code",
   "execution_count": 15,
   "id": "8205e4c9",
   "metadata": {
    "execution": {
     "iopub.execute_input": "2025-05-15T16:02:40.823179Z",
     "iopub.status.busy": "2025-05-15T16:02:40.822895Z",
     "iopub.status.idle": "2025-05-15T16:02:40.836110Z",
     "shell.execute_reply": "2025-05-15T16:02:40.835714Z"
    },
    "papermill": {
     "duration": 0.020903,
     "end_time": "2025-05-15T16:02:40.837078",
     "exception": false,
     "start_time": "2025-05-15T16:02:40.816175",
     "status": "completed"
    },
    "tags": []
   },
   "outputs": [
    {
     "data": {
      "text/plain": [
       "((76153,), (24616,), (24117,))"
      ]
     },
     "execution_count": 15,
     "metadata": {},
     "output_type": "execute_result"
    }
   ],
   "source": [
    "y_train = train_adata.obs.iloc[train_idxs].disease.values.astype(str)\n",
    "y_test = train_adata.obs.iloc[test_idxs].disease.values.astype(str)\n",
    "y_val = train_adata.obs.iloc[val_idxs].disease.values.astype(str)\n",
    "y_train.shape, y_test.shape, y_val.shape"
   ]
  },
  {
   "cell_type": "code",
   "execution_count": 16,
   "id": "ec00153b",
   "metadata": {
    "execution": {
     "iopub.execute_input": "2025-05-15T16:02:40.850508Z",
     "iopub.status.busy": "2025-05-15T16:02:40.850313Z",
     "iopub.status.idle": "2025-05-15T16:02:40.878839Z",
     "shell.execute_reply": "2025-05-15T16:02:40.878404Z"
    },
    "papermill": {
     "duration": 0.036615,
     "end_time": "2025-05-15T16:02:40.879914",
     "exception": false,
     "start_time": "2025-05-15T16:02:40.843299",
     "status": "completed"
    },
    "tags": []
   },
   "outputs": [],
   "source": [
    "lenc = LabelEncoder()\n",
    "y_train_enc = lenc.fit_transform(y_train)\n",
    "y_val_enc = lenc.transform(y_val)\n",
    "y_test_enc = lenc.transform(y_test)"
   ]
  },
  {
   "cell_type": "markdown",
   "id": "51bb14ec",
   "metadata": {
    "papermill": {
     "duration": 0.006077,
     "end_time": "2025-05-15T16:02:40.892121",
     "exception": false,
     "start_time": "2025-05-15T16:02:40.886044",
     "status": "completed"
    },
    "tags": []
   },
   "source": [
    "### GENERATE F1 "
   ]
  },
  {
   "cell_type": "code",
   "execution_count": 17,
   "id": "488b7b2b",
   "metadata": {
    "execution": {
     "iopub.execute_input": "2025-05-15T16:02:40.905002Z",
     "iopub.status.busy": "2025-05-15T16:02:40.904646Z",
     "iopub.status.idle": "2025-05-15T16:02:40.907253Z",
     "shell.execute_reply": "2025-05-15T16:02:40.906889Z"
    },
    "papermill": {
     "duration": 0.009937,
     "end_time": "2025-05-15T16:02:40.908228",
     "exception": false,
     "start_time": "2025-05-15T16:02:40.898291",
     "status": "completed"
    },
    "tags": []
   },
   "outputs": [],
   "source": [
    "def custom_f1_score(y_true, y_pred):\n",
    "    return -f1_score(y_true, y_pred.argmax(1), average='weighted')"
   ]
  },
  {
   "cell_type": "code",
   "execution_count": 18,
   "id": "9a7a24b0",
   "metadata": {
    "execution": {
     "iopub.execute_input": "2025-05-15T16:02:40.920692Z",
     "iopub.status.busy": "2025-05-15T16:02:40.920501Z",
     "iopub.status.idle": "2025-05-15T16:02:40.924556Z",
     "shell.execute_reply": "2025-05-15T16:02:40.924165Z"
    },
    "papermill": {
     "duration": 0.011692,
     "end_time": "2025-05-15T16:02:40.925474",
     "exception": false,
     "start_time": "2025-05-15T16:02:40.913782",
     "status": "completed"
    },
    "tags": []
   },
   "outputs": [],
   "source": [
    "eval_metric=custom_f1_score\n",
    "eval_metric_name='custom_f1_score'\n",
    "\n",
    "def objective(trial):\n",
    "    params = {\n",
    "        'n_estimators': 1500,\n",
    "        'max_depth': trial.suggest_int('max_depth', 3, 20),\n",
    "        'min_child_weight': trial.suggest_int('min_child_weight', 1, 250),\n",
    "        'subsample': trial.suggest_float('subsample', 0.1, 1.0),\n",
    "        'colsample_bynode': trial.suggest_float('colsample_bynode', 0.1, 1.0),\n",
    "        'learning_rate': trial.suggest_float('learning_rate', 1e-3, 5e-1, log=True),\n",
    "    }\n",
    "    pruning_callback = optuna.integration.XGBoostPruningCallback(trial, f'validation_0-{eval_metric_name}')\n",
    "    es_callback = xgboost.callback.EarlyStopping(20, min_delta=0.001)\n",
    "    xgb = xgboost.XGBClassifier(\n",
    "        eval_metric=eval_metric,\n",
    "        callbacks=[pruning_callback, es_callback],\n",
    "        n_jobs=5,\n",
    "        **params\n",
    "    )\n",
    "    xgb.fit(\n",
    "        X_train, \n",
    "        y_train_enc, \n",
    "        verbose=0,\n",
    "        eval_set=[(X_val, y_val_enc)],\n",
    "    )\n",
    "    trial.set_user_attr('best_iteration', xgb.best_iteration)\n",
    "\n",
    "    return xgb.best_score"
   ]
  },
  {
   "cell_type": "code",
   "execution_count": 19,
   "id": "23d5a035",
   "metadata": {
    "execution": {
     "iopub.execute_input": "2025-05-15T16:02:40.938339Z",
     "iopub.status.busy": "2025-05-15T16:02:40.937865Z",
     "iopub.status.idle": "2025-05-15T16:25:31.508648Z",
     "shell.execute_reply": "2025-05-15T16:25:31.508262Z"
    },
    "papermill": {
     "duration": 1370.578307,
     "end_time": "2025-05-15T16:25:31.509650",
     "exception": false,
     "start_time": "2025-05-15T16:02:40.931343",
     "status": "completed"
    },
    "scrolled": true,
    "tags": []
   },
   "outputs": [
    {
     "name": "stderr",
     "output_type": "stream",
     "text": [
      "[I 2025-05-15 18:02:40,939] A new study created in memory with name: no-name-e9245c41-6fe1-451e-acc9-5318ec27b1b3\n"
     ]
    },
    {
     "name": "stderr",
     "output_type": "stream",
     "text": [
      "[I 2025-05-15 18:04:21,655] Trial 0 finished with value: -0.715231 and parameters: {'max_depth': 9, 'min_child_weight': 238, 'subsample': 0.7587945476302645, 'colsample_bynode': 0.6387926357773329, 'learning_rate': 0.0026368755339723046}. Best is trial 0 with value: -0.715231.\n"
     ]
    },
    {
     "name": "stderr",
     "output_type": "stream",
     "text": [
      "[I 2025-05-15 18:05:38,150] Trial 1 finished with value: -0.795221 and parameters: {'max_depth': 5, 'min_child_weight': 15, 'subsample': 0.8795585311974417, 'colsample_bynode': 0.6410035105688879, 'learning_rate': 0.08148293210105287}. Best is trial 1 with value: -0.795221.\n"
     ]
    },
    {
     "name": "stderr",
     "output_type": "stream",
     "text": [
      "[I 2025-05-15 18:05:44,549] Trial 2 finished with value: -0.623792 and parameters: {'max_depth': 3, 'min_child_weight': 243, 'subsample': 0.8491983767203796, 'colsample_bynode': 0.29110519961044856, 'learning_rate': 0.003095566460242371}. Best is trial 1 with value: -0.795221.\n"
     ]
    },
    {
     "name": "stderr",
     "output_type": "stream",
     "text": [
      "[I 2025-05-15 18:07:16,408] Trial 3 finished with value: -0.740221 and parameters: {'max_depth': 6, 'min_child_weight': 77, 'subsample': 0.5722807884690141, 'colsample_bynode': 0.48875051677790415, 'learning_rate': 0.006109683510122491}. Best is trial 1 with value: -0.795221.\n"
     ]
    },
    {
     "name": "stderr",
     "output_type": "stream",
     "text": [
      "[I 2025-05-15 18:09:55,854] Trial 4 finished with value: -0.786241 and parameters: {'max_depth': 14, 'min_child_weight': 35, 'subsample': 0.3629301836816964, 'colsample_bynode': 0.4297256589643226, 'learning_rate': 0.01701841881702917}. Best is trial 1 with value: -0.795221.\n"
     ]
    },
    {
     "name": "stderr",
     "output_type": "stream",
     "text": [
      "[I 2025-05-15 18:10:16,972] Trial 5 pruned. Trial was pruned at iteration 49.\n"
     ]
    },
    {
     "name": "stderr",
     "output_type": "stream",
     "text": [
      "[I 2025-05-15 18:10:17,612] Trial 6 pruned. Trial was pruned at iteration 0.\n"
     ]
    },
    {
     "name": "stderr",
     "output_type": "stream",
     "text": [
      "[I 2025-05-15 18:10:18,258] Trial 7 pruned. Trial was pruned at iteration 0.\n"
     ]
    },
    {
     "name": "stderr",
     "output_type": "stream",
     "text": [
      "[I 2025-05-15 18:10:18,850] Trial 8 pruned. Trial was pruned at iteration 0.\n"
     ]
    },
    {
     "name": "stderr",
     "output_type": "stream",
     "text": [
      "[I 2025-05-15 18:10:28,684] Trial 9 finished with value: -0.718319 and parameters: {'max_depth': 14, 'min_child_weight': 78, 'subsample': 0.5680612190600297, 'colsample_bynode': 0.5920392514089517, 'learning_rate': 0.0031543990308330965}. Best is trial 1 with value: -0.795221.\n"
     ]
    },
    {
     "name": "stderr",
     "output_type": "stream",
     "text": [
      "[I 2025-05-15 18:10:29,504] Trial 10 pruned. Trial was pruned at iteration 0.\n"
     ]
    },
    {
     "name": "stderr",
     "output_type": "stream",
     "text": [
      "[I 2025-05-15 18:11:57,776] Trial 11 finished with value: -0.795159 and parameters: {'max_depth': 10, 'min_child_weight': 3, 'subsample': 0.34014304150377095, 'colsample_bynode': 0.40131565860091256, 'learning_rate': 0.057899203666416425}. Best is trial 1 with value: -0.795221.\n"
     ]
    },
    {
     "name": "stderr",
     "output_type": "stream",
     "text": [
      "[I 2025-05-15 18:13:10,115] Trial 12 finished with value: -0.794801 and parameters: {'max_depth': 8, 'min_child_weight': 3, 'subsample': 0.3693916175642251, 'colsample_bynode': 0.351751713087183, 'learning_rate': 0.07220195396446884}. Best is trial 1 with value: -0.795221.\n"
     ]
    },
    {
     "name": "stderr",
     "output_type": "stream",
     "text": [
      "[I 2025-05-15 18:13:10,746] Trial 13 pruned. Trial was pruned at iteration 0.\n"
     ]
    },
    {
     "name": "stderr",
     "output_type": "stream",
     "text": [
      "[I 2025-05-15 18:13:11,357] Trial 14 pruned. Trial was pruned at iteration 0.\n"
     ]
    },
    {
     "name": "stderr",
     "output_type": "stream",
     "text": [
      "[I 2025-05-15 18:15:16,716] Trial 15 finished with value: -0.792277 and parameters: {'max_depth': 20, 'min_child_weight': 1, 'subsample': 0.996414878572692, 'colsample_bynode': 0.2868276435331959, 'learning_rate': 0.13085256947195753}. Best is trial 1 with value: -0.795221.\n"
     ]
    },
    {
     "name": "stderr",
     "output_type": "stream",
     "text": [
      "[I 2025-05-15 18:15:17,362] Trial 16 pruned. Trial was pruned at iteration 0.\n"
     ]
    },
    {
     "name": "stderr",
     "output_type": "stream",
     "text": [
      "[I 2025-05-15 18:15:18,035] Trial 17 pruned. Trial was pruned at iteration 0.\n"
     ]
    },
    {
     "name": "stderr",
     "output_type": "stream",
     "text": [
      "[I 2025-05-15 18:15:18,671] Trial 18 pruned. Trial was pruned at iteration 0.\n"
     ]
    },
    {
     "name": "stderr",
     "output_type": "stream",
     "text": [
      "[I 2025-05-15 18:15:19,321] Trial 19 pruned. Trial was pruned at iteration 0.\n"
     ]
    },
    {
     "name": "stderr",
     "output_type": "stream",
     "text": [
      "[I 2025-05-15 18:16:21,151] Trial 20 finished with value: -0.797776 and parameters: {'max_depth': 7, 'min_child_weight': 24, 'subsample': 0.8601573496833833, 'colsample_bynode': 0.7044515243872378, 'learning_rate': 0.10169686165917782}. Best is trial 20 with value: -0.797776.\n"
     ]
    },
    {
     "name": "stderr",
     "output_type": "stream",
     "text": [
      "[I 2025-05-15 18:17:28,545] Trial 21 finished with value: -0.79892 and parameters: {'max_depth': 7, 'min_child_weight': 24, 'subsample': 0.8524655332992119, 'colsample_bynode': 0.721093220943723, 'learning_rate': 0.09482021333017883}. Best is trial 21 with value: -0.79892.\n"
     ]
    },
    {
     "name": "stderr",
     "output_type": "stream",
     "text": [
      "[I 2025-05-15 18:17:29,105] Trial 22 pruned. Trial was pruned at iteration 0.\n"
     ]
    },
    {
     "name": "stderr",
     "output_type": "stream",
     "text": [
      "[I 2025-05-15 18:18:11,395] Trial 23 finished with value: -0.802895 and parameters: {'max_depth': 7, 'min_child_weight': 57, 'subsample': 0.8583921597212885, 'colsample_bynode': 0.8887534207805952, 'learning_rate': 0.2870964669525365}. Best is trial 23 with value: -0.802895.\n"
     ]
    },
    {
     "name": "stderr",
     "output_type": "stream",
     "text": [
      "[I 2025-05-15 18:18:12,039] Trial 24 pruned. Trial was pruned at iteration 0.\n"
     ]
    },
    {
     "name": "stderr",
     "output_type": "stream",
     "text": [
      "[I 2025-05-15 18:18:12,685] Trial 25 pruned. Trial was pruned at iteration 0.\n"
     ]
    },
    {
     "name": "stderr",
     "output_type": "stream",
     "text": [
      "[I 2025-05-15 18:18:13,646] Trial 26 pruned. Trial was pruned at iteration 1.\n"
     ]
    },
    {
     "name": "stderr",
     "output_type": "stream",
     "text": [
      "[I 2025-05-15 18:18:45,428] Trial 27 finished with value: -0.797798 and parameters: {'max_depth': 12, 'min_child_weight': 26, 'subsample': 0.6693673534860863, 'colsample_bynode': 0.9968747589056477, 'learning_rate': 0.2743854980163595}. Best is trial 23 with value: -0.802895.\n"
     ]
    },
    {
     "name": "stderr",
     "output_type": "stream",
     "text": [
      "[I 2025-05-15 18:18:46,046] Trial 28 pruned. Trial was pruned at iteration 0.\n"
     ]
    },
    {
     "name": "stderr",
     "output_type": "stream",
     "text": [
      "[I 2025-05-15 18:18:46,650] Trial 29 pruned. Trial was pruned at iteration 0.\n"
     ]
    },
    {
     "name": "stderr",
     "output_type": "stream",
     "text": [
      "[I 2025-05-15 18:19:30,562] Trial 30 finished with value: -0.799347 and parameters: {'max_depth': 12, 'min_child_weight': 65, 'subsample': 0.6368825156613829, 'colsample_bynode': 0.9910570560042853, 'learning_rate': 0.1806712359226876}. Best is trial 23 with value: -0.802895.\n"
     ]
    },
    {
     "name": "stderr",
     "output_type": "stream",
     "text": [
      "[I 2025-05-15 18:20:15,935] Trial 31 finished with value: -0.801349 and parameters: {'max_depth': 12, 'min_child_weight': 63, 'subsample': 0.6497851620930873, 'colsample_bynode': 0.9896922754128341, 'learning_rate': 0.18305949537659935}. Best is trial 23 with value: -0.802895.\n"
     ]
    },
    {
     "name": "stderr",
     "output_type": "stream",
     "text": [
      "[I 2025-05-15 18:20:16,516] Trial 32 pruned. Trial was pruned at iteration 0.\n"
     ]
    },
    {
     "name": "stderr",
     "output_type": "stream",
     "text": [
      "[I 2025-05-15 18:20:17,118] Trial 33 pruned. Trial was pruned at iteration 0.\n"
     ]
    },
    {
     "name": "stderr",
     "output_type": "stream",
     "text": [
      "[I 2025-05-15 18:20:18,113] Trial 34 pruned. Trial was pruned at iteration 1.\n"
     ]
    },
    {
     "name": "stderr",
     "output_type": "stream",
     "text": [
      "[I 2025-05-15 18:20:18,645] Trial 35 pruned. Trial was pruned at iteration 0.\n"
     ]
    },
    {
     "name": "stderr",
     "output_type": "stream",
     "text": [
      "[I 2025-05-15 18:21:03,710] Trial 36 finished with value: -0.798802 and parameters: {'max_depth': 10, 'min_child_weight': 48, 'subsample': 0.5058554300467637, 'colsample_bynode': 0.8764878266213895, 'learning_rate': 0.16021199869941116}. Best is trial 23 with value: -0.802895.\n"
     ]
    },
    {
     "name": "stderr",
     "output_type": "stream",
     "text": [
      "[I 2025-05-15 18:21:48,130] Trial 37 finished with value: -0.802083 and parameters: {'max_depth': 13, 'min_child_weight': 40, 'subsample': 0.7636033957326596, 'colsample_bynode': 0.6453273664611673, 'learning_rate': 0.20913607555947916}. Best is trial 23 with value: -0.802895.\n"
     ]
    },
    {
     "name": "stderr",
     "output_type": "stream",
     "text": [
      "[I 2025-05-15 18:22:14,649] Trial 38 finished with value: -0.799943 and parameters: {'max_depth': 13, 'min_child_weight': 44, 'subsample': 0.7624374886199401, 'colsample_bynode': 0.6424238355096692, 'learning_rate': 0.36650570421185447}. Best is trial 23 with value: -0.802895.\n"
     ]
    },
    {
     "name": "stderr",
     "output_type": "stream",
     "text": [
      "[I 2025-05-15 18:22:37,921] Trial 39 finished with value: -0.798416 and parameters: {'max_depth': 14, 'min_child_weight': 44, 'subsample': 0.7546018226606339, 'colsample_bynode': 0.6357861450686891, 'learning_rate': 0.3420121767709325}. Best is trial 23 with value: -0.802895.\n"
     ]
    },
    {
     "name": "stderr",
     "output_type": "stream",
     "text": [
      "[I 2025-05-15 18:22:38,591] Trial 40 pruned. Trial was pruned at iteration 0.\n"
     ]
    },
    {
     "name": "stderr",
     "output_type": "stream",
     "text": [
      "[I 2025-05-15 18:22:39,205] Trial 41 pruned. Trial was pruned at iteration 0.\n"
     ]
    },
    {
     "name": "stderr",
     "output_type": "stream",
     "text": [
      "[I 2025-05-15 18:23:01,690] Trial 42 finished with value: -0.798678 and parameters: {'max_depth': 12, 'min_child_weight': 59, 'subsample': 0.7140687531515149, 'colsample_bynode': 0.6602089419019065, 'learning_rate': 0.4859192906573169}. Best is trial 23 with value: -0.802895.\n"
     ]
    },
    {
     "name": "stderr",
     "output_type": "stream",
     "text": [
      "[I 2025-05-15 18:23:02,268] Trial 43 pruned. Trial was pruned at iteration 0.\n"
     ]
    },
    {
     "name": "stderr",
     "output_type": "stream",
     "text": [
      "[I 2025-05-15 18:23:44,199] Trial 44 finished with value: -0.799668 and parameters: {'max_depth': 11, 'min_child_weight': 34, 'subsample': 0.9362281269150706, 'colsample_bynode': 0.9560895950435055, 'learning_rate': 0.20922034994875172}. Best is trial 23 with value: -0.802895.\n"
     ]
    },
    {
     "name": "stderr",
     "output_type": "stream",
     "text": [
      "[I 2025-05-15 18:24:24,365] Trial 45 finished with value: -0.797722 and parameters: {'max_depth': 17, 'min_child_weight': 17, 'subsample': 0.9162610564700547, 'colsample_bynode': 0.6678165579733331, 'learning_rate': 0.2119508270939066}. Best is trial 23 with value: -0.802895.\n"
     ]
    },
    {
     "name": "stderr",
     "output_type": "stream",
     "text": [
      "[I 2025-05-15 18:24:27,580] Trial 46 pruned. Trial was pruned at iteration 6.\n"
     ]
    },
    {
     "name": "stderr",
     "output_type": "stream",
     "text": [
      "[I 2025-05-15 18:24:54,306] Trial 47 finished with value: -0.798382 and parameters: {'max_depth': 19, 'min_child_weight': 51, 'subsample': 0.8304081447391354, 'colsample_bynode': 0.9017548882797762, 'learning_rate': 0.31598503193242267}. Best is trial 23 with value: -0.802895.\n"
     ]
    },
    {
     "name": "stderr",
     "output_type": "stream",
     "text": [
      "[I 2025-05-15 18:25:27,785] Trial 48 finished with value: -0.800111 and parameters: {'max_depth': 15, 'min_child_weight': 35, 'subsample': 0.7538534977501191, 'colsample_bynode': 0.7708275310793342, 'learning_rate': 0.22338664932818345}. Best is trial 23 with value: -0.802895.\n"
     ]
    },
    {
     "name": "stderr",
     "output_type": "stream",
     "text": [
      "[I 2025-05-15 18:25:31,429] Trial 49 pruned. Trial was pruned at iteration 6.\n"
     ]
    }
   ],
   "source": [
    "sampler = optuna.samplers.TPESampler(seed=42)\n",
    "study = optuna.create_study(direction='minimize', sampler=sampler)\n",
    "study.optimize(objective, n_trials=N_TRIALS, gc_after_trial=True)"
   ]
  },
  {
   "cell_type": "code",
   "execution_count": 20,
   "id": "7b9a1093",
   "metadata": {
    "execution": {
     "iopub.execute_input": "2025-05-15T16:25:31.532946Z",
     "iopub.status.busy": "2025-05-15T16:25:31.532757Z",
     "iopub.status.idle": "2025-05-15T16:25:31.560026Z",
     "shell.execute_reply": "2025-05-15T16:25:31.559735Z"
    },
    "papermill": {
     "duration": 0.036885,
     "end_time": "2025-05-15T16:25:31.560854",
     "exception": false,
     "start_time": "2025-05-15T16:25:31.523969",
     "status": "completed"
    },
    "tags": []
   },
   "outputs": [
    {
     "data": {
      "text/plain": [
       "['/scratch_isilon/groups/singlecell/shared/projects/Inflammation-PBMCs-Atlas/03_downstream_analysis/08_gene_importance/xgboost_external_validation/xgboost_TopN_genes/results_20/study/T_CD4_NonNaive_7_3_xgboost.pkl']"
      ]
     },
     "execution_count": 20,
     "metadata": {},
     "output_type": "execute_result"
    }
   ],
   "source": [
    "out_dir = here(f'03_downstream_analysis/08_gene_importance/xgboost_external_validation/xgboost_TopN_genes/results_{N_GENES}/study')\n",
    "\n",
    "if not os.path.exists(out_dir):\n",
    "    os.makedirs(out_dir)\n",
    "    \n",
    "joblib.dump(study,os.path.join(out_dir, f'{CELL_TYPE}_{SEED}_{TEST_SPLIT_IDX}_xgboost.pkl'))"
   ]
  },
  {
   "cell_type": "code",
   "execution_count": 21,
   "id": "6e31ecd8",
   "metadata": {
    "execution": {
     "iopub.execute_input": "2025-05-15T16:25:31.577055Z",
     "iopub.status.busy": "2025-05-15T16:25:31.576888Z",
     "iopub.status.idle": "2025-05-15T16:25:44.009978Z",
     "shell.execute_reply": "2025-05-15T16:25:44.009630Z"
    },
    "papermill": {
     "duration": 12.442086,
     "end_time": "2025-05-15T16:25:44.010864",
     "exception": false,
     "start_time": "2025-05-15T16:25:31.568778",
     "status": "completed"
    },
    "tags": []
   },
   "outputs": [
    {
     "data": {
      "text/html": [
       "<style>#sk-container-id-1 {\n",
       "  /* Definition of color scheme common for light and dark mode */\n",
       "  --sklearn-color-text: black;\n",
       "  --sklearn-color-line: gray;\n",
       "  /* Definition of color scheme for unfitted estimators */\n",
       "  --sklearn-color-unfitted-level-0: #fff5e6;\n",
       "  --sklearn-color-unfitted-level-1: #f6e4d2;\n",
       "  --sklearn-color-unfitted-level-2: #ffe0b3;\n",
       "  --sklearn-color-unfitted-level-3: chocolate;\n",
       "  /* Definition of color scheme for fitted estimators */\n",
       "  --sklearn-color-fitted-level-0: #f0f8ff;\n",
       "  --sklearn-color-fitted-level-1: #d4ebff;\n",
       "  --sklearn-color-fitted-level-2: #b3dbfd;\n",
       "  --sklearn-color-fitted-level-3: cornflowerblue;\n",
       "\n",
       "  /* Specific color for light theme */\n",
       "  --sklearn-color-text-on-default-background: var(--sg-text-color, var(--theme-code-foreground, var(--jp-content-font-color1, black)));\n",
       "  --sklearn-color-background: var(--sg-background-color, var(--theme-background, var(--jp-layout-color0, white)));\n",
       "  --sklearn-color-border-box: var(--sg-text-color, var(--theme-code-foreground, var(--jp-content-font-color1, black)));\n",
       "  --sklearn-color-icon: #696969;\n",
       "\n",
       "  @media (prefers-color-scheme: dark) {\n",
       "    /* Redefinition of color scheme for dark theme */\n",
       "    --sklearn-color-text-on-default-background: var(--sg-text-color, var(--theme-code-foreground, var(--jp-content-font-color1, white)));\n",
       "    --sklearn-color-background: var(--sg-background-color, var(--theme-background, var(--jp-layout-color0, #111)));\n",
       "    --sklearn-color-border-box: var(--sg-text-color, var(--theme-code-foreground, var(--jp-content-font-color1, white)));\n",
       "    --sklearn-color-icon: #878787;\n",
       "  }\n",
       "}\n",
       "\n",
       "#sk-container-id-1 {\n",
       "  color: var(--sklearn-color-text);\n",
       "}\n",
       "\n",
       "#sk-container-id-1 pre {\n",
       "  padding: 0;\n",
       "}\n",
       "\n",
       "#sk-container-id-1 input.sk-hidden--visually {\n",
       "  border: 0;\n",
       "  clip: rect(1px 1px 1px 1px);\n",
       "  clip: rect(1px, 1px, 1px, 1px);\n",
       "  height: 1px;\n",
       "  margin: -1px;\n",
       "  overflow: hidden;\n",
       "  padding: 0;\n",
       "  position: absolute;\n",
       "  width: 1px;\n",
       "}\n",
       "\n",
       "#sk-container-id-1 div.sk-dashed-wrapped {\n",
       "  border: 1px dashed var(--sklearn-color-line);\n",
       "  margin: 0 0.4em 0.5em 0.4em;\n",
       "  box-sizing: border-box;\n",
       "  padding-bottom: 0.4em;\n",
       "  background-color: var(--sklearn-color-background);\n",
       "}\n",
       "\n",
       "#sk-container-id-1 div.sk-container {\n",
       "  /* jupyter's `normalize.less` sets `[hidden] { display: none; }`\n",
       "     but bootstrap.min.css set `[hidden] { display: none !important; }`\n",
       "     so we also need the `!important` here to be able to override the\n",
       "     default hidden behavior on the sphinx rendered scikit-learn.org.\n",
       "     See: https://github.com/scikit-learn/scikit-learn/issues/21755 */\n",
       "  display: inline-block !important;\n",
       "  position: relative;\n",
       "}\n",
       "\n",
       "#sk-container-id-1 div.sk-text-repr-fallback {\n",
       "  display: none;\n",
       "}\n",
       "\n",
       "div.sk-parallel-item,\n",
       "div.sk-serial,\n",
       "div.sk-item {\n",
       "  /* draw centered vertical line to link estimators */\n",
       "  background-image: linear-gradient(var(--sklearn-color-text-on-default-background), var(--sklearn-color-text-on-default-background));\n",
       "  background-size: 2px 100%;\n",
       "  background-repeat: no-repeat;\n",
       "  background-position: center center;\n",
       "}\n",
       "\n",
       "/* Parallel-specific style estimator block */\n",
       "\n",
       "#sk-container-id-1 div.sk-parallel-item::after {\n",
       "  content: \"\";\n",
       "  width: 100%;\n",
       "  border-bottom: 2px solid var(--sklearn-color-text-on-default-background);\n",
       "  flex-grow: 1;\n",
       "}\n",
       "\n",
       "#sk-container-id-1 div.sk-parallel {\n",
       "  display: flex;\n",
       "  align-items: stretch;\n",
       "  justify-content: center;\n",
       "  background-color: var(--sklearn-color-background);\n",
       "  position: relative;\n",
       "}\n",
       "\n",
       "#sk-container-id-1 div.sk-parallel-item {\n",
       "  display: flex;\n",
       "  flex-direction: column;\n",
       "}\n",
       "\n",
       "#sk-container-id-1 div.sk-parallel-item:first-child::after {\n",
       "  align-self: flex-end;\n",
       "  width: 50%;\n",
       "}\n",
       "\n",
       "#sk-container-id-1 div.sk-parallel-item:last-child::after {\n",
       "  align-self: flex-start;\n",
       "  width: 50%;\n",
       "}\n",
       "\n",
       "#sk-container-id-1 div.sk-parallel-item:only-child::after {\n",
       "  width: 0;\n",
       "}\n",
       "\n",
       "/* Serial-specific style estimator block */\n",
       "\n",
       "#sk-container-id-1 div.sk-serial {\n",
       "  display: flex;\n",
       "  flex-direction: column;\n",
       "  align-items: center;\n",
       "  background-color: var(--sklearn-color-background);\n",
       "  padding-right: 1em;\n",
       "  padding-left: 1em;\n",
       "}\n",
       "\n",
       "\n",
       "/* Toggleable style: style used for estimator/Pipeline/ColumnTransformer box that is\n",
       "clickable and can be expanded/collapsed.\n",
       "- Pipeline and ColumnTransformer use this feature and define the default style\n",
       "- Estimators will overwrite some part of the style using the `sk-estimator` class\n",
       "*/\n",
       "\n",
       "/* Pipeline and ColumnTransformer style (default) */\n",
       "\n",
       "#sk-container-id-1 div.sk-toggleable {\n",
       "  /* Default theme specific background. It is overwritten whether we have a\n",
       "  specific estimator or a Pipeline/ColumnTransformer */\n",
       "  background-color: var(--sklearn-color-background);\n",
       "}\n",
       "\n",
       "/* Toggleable label */\n",
       "#sk-container-id-1 label.sk-toggleable__label {\n",
       "  cursor: pointer;\n",
       "  display: block;\n",
       "  width: 100%;\n",
       "  margin-bottom: 0;\n",
       "  padding: 0.5em;\n",
       "  box-sizing: border-box;\n",
       "  text-align: center;\n",
       "}\n",
       "\n",
       "#sk-container-id-1 label.sk-toggleable__label-arrow:before {\n",
       "  /* Arrow on the left of the label */\n",
       "  content: \"▸\";\n",
       "  float: left;\n",
       "  margin-right: 0.25em;\n",
       "  color: var(--sklearn-color-icon);\n",
       "}\n",
       "\n",
       "#sk-container-id-1 label.sk-toggleable__label-arrow:hover:before {\n",
       "  color: var(--sklearn-color-text);\n",
       "}\n",
       "\n",
       "/* Toggleable content - dropdown */\n",
       "\n",
       "#sk-container-id-1 div.sk-toggleable__content {\n",
       "  max-height: 0;\n",
       "  max-width: 0;\n",
       "  overflow: hidden;\n",
       "  text-align: left;\n",
       "  /* unfitted */\n",
       "  background-color: var(--sklearn-color-unfitted-level-0);\n",
       "}\n",
       "\n",
       "#sk-container-id-1 div.sk-toggleable__content.fitted {\n",
       "  /* fitted */\n",
       "  background-color: var(--sklearn-color-fitted-level-0);\n",
       "}\n",
       "\n",
       "#sk-container-id-1 div.sk-toggleable__content pre {\n",
       "  margin: 0.2em;\n",
       "  border-radius: 0.25em;\n",
       "  color: var(--sklearn-color-text);\n",
       "  /* unfitted */\n",
       "  background-color: var(--sklearn-color-unfitted-level-0);\n",
       "}\n",
       "\n",
       "#sk-container-id-1 div.sk-toggleable__content.fitted pre {\n",
       "  /* unfitted */\n",
       "  background-color: var(--sklearn-color-fitted-level-0);\n",
       "}\n",
       "\n",
       "#sk-container-id-1 input.sk-toggleable__control:checked~div.sk-toggleable__content {\n",
       "  /* Expand drop-down */\n",
       "  max-height: 200px;\n",
       "  max-width: 100%;\n",
       "  overflow: auto;\n",
       "}\n",
       "\n",
       "#sk-container-id-1 input.sk-toggleable__control:checked~label.sk-toggleable__label-arrow:before {\n",
       "  content: \"▾\";\n",
       "}\n",
       "\n",
       "/* Pipeline/ColumnTransformer-specific style */\n",
       "\n",
       "#sk-container-id-1 div.sk-label input.sk-toggleable__control:checked~label.sk-toggleable__label {\n",
       "  color: var(--sklearn-color-text);\n",
       "  background-color: var(--sklearn-color-unfitted-level-2);\n",
       "}\n",
       "\n",
       "#sk-container-id-1 div.sk-label.fitted input.sk-toggleable__control:checked~label.sk-toggleable__label {\n",
       "  background-color: var(--sklearn-color-fitted-level-2);\n",
       "}\n",
       "\n",
       "/* Estimator-specific style */\n",
       "\n",
       "/* Colorize estimator box */\n",
       "#sk-container-id-1 div.sk-estimator input.sk-toggleable__control:checked~label.sk-toggleable__label {\n",
       "  /* unfitted */\n",
       "  background-color: var(--sklearn-color-unfitted-level-2);\n",
       "}\n",
       "\n",
       "#sk-container-id-1 div.sk-estimator.fitted input.sk-toggleable__control:checked~label.sk-toggleable__label {\n",
       "  /* fitted */\n",
       "  background-color: var(--sklearn-color-fitted-level-2);\n",
       "}\n",
       "\n",
       "#sk-container-id-1 div.sk-label label.sk-toggleable__label,\n",
       "#sk-container-id-1 div.sk-label label {\n",
       "  /* The background is the default theme color */\n",
       "  color: var(--sklearn-color-text-on-default-background);\n",
       "}\n",
       "\n",
       "/* On hover, darken the color of the background */\n",
       "#sk-container-id-1 div.sk-label:hover label.sk-toggleable__label {\n",
       "  color: var(--sklearn-color-text);\n",
       "  background-color: var(--sklearn-color-unfitted-level-2);\n",
       "}\n",
       "\n",
       "/* Label box, darken color on hover, fitted */\n",
       "#sk-container-id-1 div.sk-label.fitted:hover label.sk-toggleable__label.fitted {\n",
       "  color: var(--sklearn-color-text);\n",
       "  background-color: var(--sklearn-color-fitted-level-2);\n",
       "}\n",
       "\n",
       "/* Estimator label */\n",
       "\n",
       "#sk-container-id-1 div.sk-label label {\n",
       "  font-family: monospace;\n",
       "  font-weight: bold;\n",
       "  display: inline-block;\n",
       "  line-height: 1.2em;\n",
       "}\n",
       "\n",
       "#sk-container-id-1 div.sk-label-container {\n",
       "  text-align: center;\n",
       "}\n",
       "\n",
       "/* Estimator-specific */\n",
       "#sk-container-id-1 div.sk-estimator {\n",
       "  font-family: monospace;\n",
       "  border: 1px dotted var(--sklearn-color-border-box);\n",
       "  border-radius: 0.25em;\n",
       "  box-sizing: border-box;\n",
       "  margin-bottom: 0.5em;\n",
       "  /* unfitted */\n",
       "  background-color: var(--sklearn-color-unfitted-level-0);\n",
       "}\n",
       "\n",
       "#sk-container-id-1 div.sk-estimator.fitted {\n",
       "  /* fitted */\n",
       "  background-color: var(--sklearn-color-fitted-level-0);\n",
       "}\n",
       "\n",
       "/* on hover */\n",
       "#sk-container-id-1 div.sk-estimator:hover {\n",
       "  /* unfitted */\n",
       "  background-color: var(--sklearn-color-unfitted-level-2);\n",
       "}\n",
       "\n",
       "#sk-container-id-1 div.sk-estimator.fitted:hover {\n",
       "  /* fitted */\n",
       "  background-color: var(--sklearn-color-fitted-level-2);\n",
       "}\n",
       "\n",
       "/* Specification for estimator info (e.g. \"i\" and \"?\") */\n",
       "\n",
       "/* Common style for \"i\" and \"?\" */\n",
       "\n",
       ".sk-estimator-doc-link,\n",
       "a:link.sk-estimator-doc-link,\n",
       "a:visited.sk-estimator-doc-link {\n",
       "  float: right;\n",
       "  font-size: smaller;\n",
       "  line-height: 1em;\n",
       "  font-family: monospace;\n",
       "  background-color: var(--sklearn-color-background);\n",
       "  border-radius: 1em;\n",
       "  height: 1em;\n",
       "  width: 1em;\n",
       "  text-decoration: none !important;\n",
       "  margin-left: 1ex;\n",
       "  /* unfitted */\n",
       "  border: var(--sklearn-color-unfitted-level-1) 1pt solid;\n",
       "  color: var(--sklearn-color-unfitted-level-1);\n",
       "}\n",
       "\n",
       ".sk-estimator-doc-link.fitted,\n",
       "a:link.sk-estimator-doc-link.fitted,\n",
       "a:visited.sk-estimator-doc-link.fitted {\n",
       "  /* fitted */\n",
       "  border: var(--sklearn-color-fitted-level-1) 1pt solid;\n",
       "  color: var(--sklearn-color-fitted-level-1);\n",
       "}\n",
       "\n",
       "/* On hover */\n",
       "div.sk-estimator:hover .sk-estimator-doc-link:hover,\n",
       ".sk-estimator-doc-link:hover,\n",
       "div.sk-label-container:hover .sk-estimator-doc-link:hover,\n",
       ".sk-estimator-doc-link:hover {\n",
       "  /* unfitted */\n",
       "  background-color: var(--sklearn-color-unfitted-level-3);\n",
       "  color: var(--sklearn-color-background);\n",
       "  text-decoration: none;\n",
       "}\n",
       "\n",
       "div.sk-estimator.fitted:hover .sk-estimator-doc-link.fitted:hover,\n",
       ".sk-estimator-doc-link.fitted:hover,\n",
       "div.sk-label-container:hover .sk-estimator-doc-link.fitted:hover,\n",
       ".sk-estimator-doc-link.fitted:hover {\n",
       "  /* fitted */\n",
       "  background-color: var(--sklearn-color-fitted-level-3);\n",
       "  color: var(--sklearn-color-background);\n",
       "  text-decoration: none;\n",
       "}\n",
       "\n",
       "/* Span, style for the box shown on hovering the info icon */\n",
       ".sk-estimator-doc-link span {\n",
       "  display: none;\n",
       "  z-index: 9999;\n",
       "  position: relative;\n",
       "  font-weight: normal;\n",
       "  right: .2ex;\n",
       "  padding: .5ex;\n",
       "  margin: .5ex;\n",
       "  width: min-content;\n",
       "  min-width: 20ex;\n",
       "  max-width: 50ex;\n",
       "  color: var(--sklearn-color-text);\n",
       "  box-shadow: 2pt 2pt 4pt #999;\n",
       "  /* unfitted */\n",
       "  background: var(--sklearn-color-unfitted-level-0);\n",
       "  border: .5pt solid var(--sklearn-color-unfitted-level-3);\n",
       "}\n",
       "\n",
       ".sk-estimator-doc-link.fitted span {\n",
       "  /* fitted */\n",
       "  background: var(--sklearn-color-fitted-level-0);\n",
       "  border: var(--sklearn-color-fitted-level-3);\n",
       "}\n",
       "\n",
       ".sk-estimator-doc-link:hover span {\n",
       "  display: block;\n",
       "}\n",
       "\n",
       "/* \"?\"-specific style due to the `<a>` HTML tag */\n",
       "\n",
       "#sk-container-id-1 a.estimator_doc_link {\n",
       "  float: right;\n",
       "  font-size: 1rem;\n",
       "  line-height: 1em;\n",
       "  font-family: monospace;\n",
       "  background-color: var(--sklearn-color-background);\n",
       "  border-radius: 1rem;\n",
       "  height: 1rem;\n",
       "  width: 1rem;\n",
       "  text-decoration: none;\n",
       "  /* unfitted */\n",
       "  color: var(--sklearn-color-unfitted-level-1);\n",
       "  border: var(--sklearn-color-unfitted-level-1) 1pt solid;\n",
       "}\n",
       "\n",
       "#sk-container-id-1 a.estimator_doc_link.fitted {\n",
       "  /* fitted */\n",
       "  border: var(--sklearn-color-fitted-level-1) 1pt solid;\n",
       "  color: var(--sklearn-color-fitted-level-1);\n",
       "}\n",
       "\n",
       "/* On hover */\n",
       "#sk-container-id-1 a.estimator_doc_link:hover {\n",
       "  /* unfitted */\n",
       "  background-color: var(--sklearn-color-unfitted-level-3);\n",
       "  color: var(--sklearn-color-background);\n",
       "  text-decoration: none;\n",
       "}\n",
       "\n",
       "#sk-container-id-1 a.estimator_doc_link.fitted:hover {\n",
       "  /* fitted */\n",
       "  background-color: var(--sklearn-color-fitted-level-3);\n",
       "}\n",
       "</style><div id=\"sk-container-id-1\" class=\"sk-top-container\"><div class=\"sk-text-repr-fallback\"><pre>XGBClassifier(base_score=None, booster=None, callbacks=None,\n",
       "              colsample_bylevel=None, colsample_bynode=0.8887534207805952,\n",
       "              colsample_bytree=None, device=None, early_stopping_rounds=None,\n",
       "              enable_categorical=False,\n",
       "              eval_metric=&lt;function custom_f1_score at 0x7f31984bc680&gt;,\n",
       "              feature_types=None, gamma=None, grow_policy=None,\n",
       "              importance_type=None, interaction_constraints=None,\n",
       "              learning_rate=0.2870964669525365, max_bin=None,\n",
       "              max_cat_threshold=None, max_cat_to_onehot=None,\n",
       "              max_delta_step=None, max_depth=7, max_leaves=None,\n",
       "              min_child_weight=57, missing=nan, monotone_constraints=None,\n",
       "              multi_strategy=None, n_estimators=150, n_jobs=None,\n",
       "              num_parallel_tree=None, objective=&#x27;multi:softprob&#x27;, ...)</pre><b>In a Jupyter environment, please rerun this cell to show the HTML representation or trust the notebook. <br />On GitHub, the HTML representation is unable to render, please try loading this page with nbviewer.org.</b></div><div class=\"sk-container\" hidden><div class=\"sk-item\"><div class=\"sk-estimator fitted sk-toggleable\"><input class=\"sk-toggleable__control sk-hidden--visually\" id=\"sk-estimator-id-1\" type=\"checkbox\" checked><label for=\"sk-estimator-id-1\" class=\"sk-toggleable__label fitted sk-toggleable__label-arrow fitted\">&nbsp;XGBClassifier<span class=\"sk-estimator-doc-link fitted\">i<span>Fitted</span></span></label><div class=\"sk-toggleable__content fitted\"><pre>XGBClassifier(base_score=None, booster=None, callbacks=None,\n",
       "              colsample_bylevel=None, colsample_bynode=0.8887534207805952,\n",
       "              colsample_bytree=None, device=None, early_stopping_rounds=None,\n",
       "              enable_categorical=False,\n",
       "              eval_metric=&lt;function custom_f1_score at 0x7f31984bc680&gt;,\n",
       "              feature_types=None, gamma=None, grow_policy=None,\n",
       "              importance_type=None, interaction_constraints=None,\n",
       "              learning_rate=0.2870964669525365, max_bin=None,\n",
       "              max_cat_threshold=None, max_cat_to_onehot=None,\n",
       "              max_delta_step=None, max_depth=7, max_leaves=None,\n",
       "              min_child_weight=57, missing=nan, monotone_constraints=None,\n",
       "              multi_strategy=None, n_estimators=150, n_jobs=None,\n",
       "              num_parallel_tree=None, objective=&#x27;multi:softprob&#x27;, ...)</pre></div> </div></div></div></div>"
      ],
      "text/plain": [
       "XGBClassifier(base_score=None, booster=None, callbacks=None,\n",
       "              colsample_bylevel=None, colsample_bynode=0.8887534207805952,\n",
       "              colsample_bytree=None, device=None, early_stopping_rounds=None,\n",
       "              enable_categorical=False,\n",
       "              eval_metric=<function custom_f1_score at 0x7f31984bc680>,\n",
       "              feature_types=None, gamma=None, grow_policy=None,\n",
       "              importance_type=None, interaction_constraints=None,\n",
       "              learning_rate=0.2870964669525365, max_bin=None,\n",
       "              max_cat_threshold=None, max_cat_to_onehot=None,\n",
       "              max_delta_step=None, max_depth=7, max_leaves=None,\n",
       "              min_child_weight=57, missing=nan, monotone_constraints=None,\n",
       "              multi_strategy=None, n_estimators=150, n_jobs=None,\n",
       "              num_parallel_tree=None, objective='multi:softprob', ...)"
      ]
     },
     "execution_count": 21,
     "metadata": {},
     "output_type": "execute_result"
    }
   ],
   "source": [
    "n_estimators = int(study.best_trial.user_attrs['best_iteration']*1.2)\n",
    "xgb = xgboost.XGBClassifier(\n",
    "        eval_metric=eval_metric,\n",
    "        n_estimators=n_estimators,\n",
    "        **study.best_trial.params\n",
    "    )\n",
    "xgb.fit(\n",
    "    ssp.vstack((X_train, X_val)), \n",
    "    np.concatenate((y_train_enc, y_val_enc)),\n",
    "    verbose=1,\n",
    ")"
   ]
  },
  {
   "cell_type": "code",
   "execution_count": 22,
   "id": "66568e6f",
   "metadata": {
    "execution": {
     "iopub.execute_input": "2025-05-15T16:25:44.030427Z",
     "iopub.status.busy": "2025-05-15T16:25:44.030177Z",
     "iopub.status.idle": "2025-05-15T16:25:44.072654Z",
     "shell.execute_reply": "2025-05-15T16:25:44.072290Z"
    },
    "papermill": {
     "duration": 0.052461,
     "end_time": "2025-05-15T16:25:44.073609",
     "exception": false,
     "start_time": "2025-05-15T16:25:44.021148",
     "status": "completed"
    },
    "tags": []
   },
   "outputs": [
    {
     "data": {
      "text/plain": [
       "['/scratch_isilon/groups/singlecell/shared/projects/Inflammation-PBMCs-Atlas/03_downstream_analysis/08_gene_importance/xgboost_external_validation/xgboost_TopN_genes/results_20/best_model/T_CD4_NonNaive_7_3_xgb.json']"
      ]
     },
     "execution_count": 22,
     "metadata": {},
     "output_type": "execute_result"
    }
   ],
   "source": [
    "out_dir = here(f'03_downstream_analysis/08_gene_importance/xgboost_external_validation/xgboost_TopN_genes/results_{N_GENES}/best_model')\n",
    "\n",
    "if not os.path.exists(out_dir):\n",
    "    os.makedirs(out_dir)\n",
    "    \n",
    "joblib.dump(xgb, os.path.join(out_dir, f'{CELL_TYPE}_{SEED}_{TEST_SPLIT_IDX}_xgb.json'))"
   ]
  },
  {
   "cell_type": "code",
   "execution_count": 23,
   "id": "895e5f0e",
   "metadata": {
    "execution": {
     "iopub.execute_input": "2025-05-15T16:25:44.101718Z",
     "iopub.status.busy": "2025-05-15T16:25:44.101479Z",
     "iopub.status.idle": "2025-05-15T16:25:44.652895Z",
     "shell.execute_reply": "2025-05-15T16:25:44.652516Z"
    },
    "papermill": {
     "duration": 0.561492,
     "end_time": "2025-05-15T16:25:44.653973",
     "exception": false,
     "start_time": "2025-05-15T16:25:44.092481",
     "status": "completed"
    },
    "tags": []
   },
   "outputs": [],
   "source": [
    "df_pred_test = pd.DataFrame(dict(\n",
    "    cell_id=train_adata.obs.iloc[test_idxs].index.values,\n",
    "    y_true=y_test, \n",
    "    y_true_code=y_test_enc, \n",
    "    y_pred=xgb.predict(X_test))).set_index('cell_id')"
   ]
  },
  {
   "cell_type": "code",
   "execution_count": 24,
   "id": "67e0d62e",
   "metadata": {
    "execution": {
     "iopub.execute_input": "2025-05-15T16:25:44.684554Z",
     "iopub.status.busy": "2025-05-15T16:25:44.684369Z",
     "iopub.status.idle": "2025-05-15T16:25:44.870924Z",
     "shell.execute_reply": "2025-05-15T16:25:44.870538Z"
    },
    "papermill": {
     "duration": 0.20909,
     "end_time": "2025-05-15T16:25:44.872012",
     "exception": false,
     "start_time": "2025-05-15T16:25:44.662922",
     "status": "completed"
    },
    "tags": []
   },
   "outputs": [],
   "source": [
    "out_dir = here(f'03_downstream_analysis/08_gene_importance/xgboost_external_validation/xgboost_TopN_genes/results_{N_GENES}/predictions')\n",
    "\n",
    "if not os.path.exists(out_dir):\n",
    "    os.makedirs(out_dir)\n",
    "    \n",
    "df_pred_test.to_csv(os.path.join(out_dir, f'{CELL_TYPE}_{SEED}_{TEST_SPLIT_IDX}_pred_test.zip'))"
   ]
  },
  {
   "cell_type": "code",
   "execution_count": 25,
   "id": "d9d6c98e",
   "metadata": {
    "execution": {
     "iopub.execute_input": "2025-05-15T16:25:44.889428Z",
     "iopub.status.busy": "2025-05-15T16:25:44.889240Z",
     "iopub.status.idle": "2025-05-15T16:25:44.906375Z",
     "shell.execute_reply": "2025-05-15T16:25:44.906042Z"
    },
    "papermill": {
     "duration": 0.026597,
     "end_time": "2025-05-15T16:25:44.907194",
     "exception": false,
     "start_time": "2025-05-15T16:25:44.880597",
     "status": "completed"
    },
    "tags": []
   },
   "outputs": [
    {
     "name": "stderr",
     "output_type": "stream",
     "text": [
      "/scratch_isilon/groups/singlecell/shared/conda_env/xgboost-cpu/lib/python3.12/site-packages/sklearn/metrics/_classification.py:2466: UserWarning: y_pred contains classes not in y_true\n",
      "  warnings.warn(\"y_pred contains classes not in y_true\")\n"
     ]
    }
   ],
   "source": [
    "metrics_dict = dict(\n",
    "    BAS=balanced_accuracy_score(y_true=df_pred_test.y_true_code, y_pred=df_pred_test.y_pred), WF1=f1_score(y_true=df_pred_test.y_true_code, y_pred=df_pred_test.y_pred,average='weighted'))"
   ]
  },
  {
   "cell_type": "code",
   "execution_count": 26,
   "id": "f47380df",
   "metadata": {
    "execution": {
     "iopub.execute_input": "2025-05-15T16:25:44.932177Z",
     "iopub.status.busy": "2025-05-15T16:25:44.932004Z",
     "iopub.status.idle": "2025-05-15T16:25:44.934730Z",
     "shell.execute_reply": "2025-05-15T16:25:44.934433Z"
    },
    "papermill": {
     "duration": 0.012458,
     "end_time": "2025-05-15T16:25:44.935542",
     "exception": false,
     "start_time": "2025-05-15T16:25:44.923084",
     "status": "completed"
    },
    "tags": []
   },
   "outputs": [
    {
     "data": {
      "text/plain": [
       "{'BAS': 0.5410598421299008, 'WF1': 0.7751368997193376}"
      ]
     },
     "execution_count": 26,
     "metadata": {},
     "output_type": "execute_result"
    }
   ],
   "source": [
    "metrics_dict"
   ]
  },
  {
   "cell_type": "code",
   "execution_count": 27,
   "id": "3f51922d",
   "metadata": {
    "execution": {
     "iopub.execute_input": "2025-05-15T16:25:44.995378Z",
     "iopub.status.busy": "2025-05-15T16:25:44.995149Z",
     "iopub.status.idle": "2025-05-15T16:25:45.004233Z",
     "shell.execute_reply": "2025-05-15T16:25:45.003939Z"
    },
    "papermill": {
     "duration": 0.061139,
     "end_time": "2025-05-15T16:25:45.004995",
     "exception": false,
     "start_time": "2025-05-15T16:25:44.943856",
     "status": "completed"
    },
    "tags": []
   },
   "outputs": [
    {
     "data": {
      "text/html": [
       "<div>\n",
       "<style scoped>\n",
       "    .dataframe tbody tr th:only-of-type {\n",
       "        vertical-align: middle;\n",
       "    }\n",
       "\n",
       "    .dataframe tbody tr th {\n",
       "        vertical-align: top;\n",
       "    }\n",
       "\n",
       "    .dataframe thead th {\n",
       "        text-align: right;\n",
       "    }\n",
       "</style>\n",
       "<table border=\"1\" class=\"dataframe\">\n",
       "  <thead>\n",
       "    <tr style=\"text-align: right;\">\n",
       "      <th></th>\n",
       "      <th>BAS</th>\n",
       "      <th>WF1</th>\n",
       "      <th>split_idx</th>\n",
       "      <th>gene_set_seed</th>\n",
       "      <th>cell_type</th>\n",
       "    </tr>\n",
       "  </thead>\n",
       "  <tbody>\n",
       "    <tr>\n",
       "      <th>0</th>\n",
       "      <td>0.54106</td>\n",
       "      <td>0.775137</td>\n",
       "      <td>3</td>\n",
       "      <td>7</td>\n",
       "      <td>T_CD4_NonNaive</td>\n",
       "    </tr>\n",
       "  </tbody>\n",
       "</table>\n",
       "</div>"
      ],
      "text/plain": [
       "       BAS       WF1  split_idx  gene_set_seed       cell_type\n",
       "0  0.54106  0.775137          3              7  T_CD4_NonNaive"
      ]
     },
     "execution_count": 27,
     "metadata": {},
     "output_type": "execute_result"
    }
   ],
   "source": [
    "metrics_df = pd.DataFrame.from_dict([metrics_dict]).assign(split_idx=TEST_SPLIT_IDX, gene_set_seed=SEED, cell_type=CELL_TYPE)\n",
    "metrics_df"
   ]
  },
  {
   "cell_type": "code",
   "execution_count": 28,
   "id": "b63fafe4",
   "metadata": {
    "execution": {
     "iopub.execute_input": "2025-05-15T16:25:45.022233Z",
     "iopub.status.busy": "2025-05-15T16:25:45.021993Z",
     "iopub.status.idle": "2025-05-15T16:25:45.029289Z",
     "shell.execute_reply": "2025-05-15T16:25:45.028987Z"
    },
    "papermill": {
     "duration": 0.016864,
     "end_time": "2025-05-15T16:25:45.030094",
     "exception": false,
     "start_time": "2025-05-15T16:25:45.013230",
     "status": "completed"
    },
    "tags": []
   },
   "outputs": [],
   "source": [
    "out_dir = here(f'03_downstream_analysis/08_gene_importance/xgboost_external_validation/xgboost_TopN_genes/results_{N_GENES}/metrics')\n",
    "\n",
    "if not os.path.exists(out_dir):\n",
    "    os.makedirs(out_dir)\n",
    "    \n",
    "metrics_df.to_csv(os.path.join(out_dir, f'{CELL_TYPE}_{SEED}_{TEST_SPLIT_IDX}_metrics.zip'))"
   ]
  }
 ],
 "metadata": {
  "kernelspec": {
   "display_name": "Python 3 (ipykernel)",
   "language": "python",
   "name": "python3"
  },
  "language_info": {
   "codemirror_mode": {
    "name": "ipython",
    "version": 3
   },
   "file_extension": ".py",
   "mimetype": "text/x-python",
   "name": "python",
   "nbconvert_exporter": "python",
   "pygments_lexer": "ipython3",
   "version": "3.12.5"
  },
  "papermill": {
   "default_parameters": {},
   "duration": 1389.234579,
   "end_time": "2025-05-15T16:25:45.653077",
   "environment_variables": {},
   "exception": null,
   "input_path": "02_xgboost_fitting_external_20genes.ipynb",
   "output_path": "results_20/executed_notebooks/xgboost_fitting_external_CT_T_CD4_NonNaive_GS_7_seed3.ipynb",
   "parameters": {
    "CELL_TYPE": "T_CD4_NonNaive",
    "SEED": 7,
    "TEST_SPLIT_IDX": 3
   },
   "start_time": "2025-05-15T16:02:36.418498",
   "version": "2.6.0"
  }
 },
 "nbformat": 4,
 "nbformat_minor": 5
}