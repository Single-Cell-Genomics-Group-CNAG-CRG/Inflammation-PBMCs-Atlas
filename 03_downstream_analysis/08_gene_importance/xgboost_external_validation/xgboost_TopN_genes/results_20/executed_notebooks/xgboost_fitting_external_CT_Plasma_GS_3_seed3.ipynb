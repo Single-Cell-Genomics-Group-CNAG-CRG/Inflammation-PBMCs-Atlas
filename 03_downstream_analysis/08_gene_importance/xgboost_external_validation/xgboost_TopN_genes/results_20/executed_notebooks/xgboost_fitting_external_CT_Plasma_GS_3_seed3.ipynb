{
 "cells": [
  {
   "cell_type": "code",
   "execution_count": 1,
   "id": "abba8196",
   "metadata": {
    "editable": true,
    "execution": {
     "iopub.execute_input": "2025-05-15T16:15:26.557642Z",
     "iopub.status.busy": "2025-05-15T16:15:26.557400Z",
     "iopub.status.idle": "2025-05-15T16:15:26.560731Z",
     "shell.execute_reply": "2025-05-15T16:15:26.560313Z"
    },
    "papermill": {
     "duration": 0.01156,
     "end_time": "2025-05-15T16:15:26.561663",
     "exception": false,
     "start_time": "2025-05-15T16:15:26.550103",
     "status": "completed"
    },
    "slideshow": {
     "slide_type": ""
    },
    "tags": [
     "parameters"
    ]
   },
   "outputs": [],
   "source": [
    "CELL_TYPE = 'pDC'\n",
    "N_GENES: int = 20\n",
    "SEED = 'shap_studyID' #'disease_NOstudy' 'study_NOdisease' or 'int' or 'shap_studyID'\n",
    "TEST_SPLIT_IDX: int = 1 #[0,4]"
   ]
  },
  {
   "cell_type": "code",
   "execution_count": 2,
   "id": "3335416b",
   "metadata": {
    "execution": {
     "iopub.execute_input": "2025-05-15T16:15:26.573146Z",
     "iopub.status.busy": "2025-05-15T16:15:26.572964Z",
     "iopub.status.idle": "2025-05-15T16:15:26.575363Z",
     "shell.execute_reply": "2025-05-15T16:15:26.574986Z"
    },
    "papermill": {
     "duration": 0.009006,
     "end_time": "2025-05-15T16:15:26.576187",
     "exception": false,
     "start_time": "2025-05-15T16:15:26.567181",
     "status": "completed"
    },
    "tags": [
     "injected-parameters"
    ]
   },
   "outputs": [],
   "source": [
    "# Parameters\n",
    "CELL_TYPE = \"Plasma\"\n",
    "SEED = 3\n",
    "TEST_SPLIT_IDX = 3\n"
   ]
  },
  {
   "cell_type": "code",
   "execution_count": 3,
   "id": "a26a0c2e",
   "metadata": {
    "execution": {
     "iopub.execute_input": "2025-05-15T16:15:26.588573Z",
     "iopub.status.busy": "2025-05-15T16:15:26.588299Z",
     "iopub.status.idle": "2025-05-15T16:15:26.590594Z",
     "shell.execute_reply": "2025-05-15T16:15:26.590210Z"
    },
    "papermill": {
     "duration": 0.009299,
     "end_time": "2025-05-15T16:15:26.591343",
     "exception": false,
     "start_time": "2025-05-15T16:15:26.582044",
     "status": "completed"
    },
    "tags": []
   },
   "outputs": [],
   "source": [
    "N_SPLITS: int = 5\n",
    "N_TRIALS: int = 50"
   ]
  },
  {
   "cell_type": "code",
   "execution_count": 4,
   "id": "61189277",
   "metadata": {
    "execution": {
     "iopub.execute_input": "2025-05-15T16:15:26.604911Z",
     "iopub.status.busy": "2025-05-15T16:15:26.604489Z",
     "iopub.status.idle": "2025-05-15T16:15:28.372202Z",
     "shell.execute_reply": "2025-05-15T16:15:28.371545Z"
    },
    "papermill": {
     "duration": 1.775666,
     "end_time": "2025-05-15T16:15:28.373619",
     "exception": false,
     "start_time": "2025-05-15T16:15:26.597953",
     "status": "completed"
    },
    "tags": []
   },
   "outputs": [],
   "source": [
    "import os\n",
    "import sys\n",
    "from pyprojroot.here import here\n",
    "import pandas as pd\n",
    "import anndata as ad\n",
    "import numpy as np\n",
    "import math\n",
    "from sklearn.model_selection import StratifiedGroupKFold\n",
    "from sklearn.preprocessing import LabelEncoder\n",
    "from sklearn.metrics import f1_score\n",
    "import matplotlib.pyplot as plt\n",
    "import seaborn as sns\n",
    "from itertools import product\n",
    "from sklearn.metrics import balanced_accuracy_score, f1_score\n",
    "import optuna\n",
    "\n",
    "import joblib\n",
    "import pickle\n",
    "import datetime\n",
    "\n",
    "import collections\n",
    "\n",
    "import xgboost\n",
    "from sklearn.preprocessing import LabelEncoder\n",
    "\n",
    "import scipy.sparse as ssp\n",
    "import joblib\n",
    "\n",
    "from dotenv import load_dotenv"
   ]
  },
  {
   "cell_type": "code",
   "execution_count": 5,
   "id": "78618a69",
   "metadata": {
    "execution": {
     "iopub.execute_input": "2025-05-15T16:15:28.388052Z",
     "iopub.status.busy": "2025-05-15T16:15:28.386887Z",
     "iopub.status.idle": "2025-05-15T16:15:28.393677Z",
     "shell.execute_reply": "2025-05-15T16:15:28.393324Z"
    },
    "papermill": {
     "duration": 0.014853,
     "end_time": "2025-05-15T16:15:28.394476",
     "exception": false,
     "start_time": "2025-05-15T16:15:28.379623",
     "status": "completed"
    },
    "tags": []
   },
   "outputs": [
    {
     "data": {
      "text/plain": [
       "True"
      ]
     },
     "execution_count": 5,
     "metadata": {},
     "output_type": "execute_result"
    }
   ],
   "source": [
    "load_dotenv()"
   ]
  },
  {
   "cell_type": "markdown",
   "id": "9e478069",
   "metadata": {
    "papermill": {
     "duration": 0.005849,
     "end_time": "2025-05-15T16:15:28.407663",
     "exception": false,
     "start_time": "2025-05-15T16:15:28.401814",
     "status": "completed"
    },
    "tags": []
   },
   "source": [
    "# LOAD DATASET"
   ]
  },
  {
   "cell_type": "code",
   "execution_count": 6,
   "id": "8e52d335",
   "metadata": {
    "execution": {
     "iopub.execute_input": "2025-05-15T16:15:28.419285Z",
     "iopub.status.busy": "2025-05-15T16:15:28.419099Z",
     "iopub.status.idle": "2025-05-15T16:15:28.459657Z",
     "shell.execute_reply": "2025-05-15T16:15:28.459253Z"
    },
    "papermill": {
     "duration": 0.047778,
     "end_time": "2025-05-15T16:15:28.460706",
     "exception": false,
     "start_time": "2025-05-15T16:15:28.412928",
     "status": "completed"
    },
    "tags": []
   },
   "outputs": [],
   "source": [
    "train_adata = ad.read_h5ad(\n",
    "    here(f'03_downstream_analysis/08_gene_importance/xgboost_external_validation/xgboost_TopN_genes/data_cellTypes/EXTERNAL_{CELL_TYPE}.filtered.log1p.h5ad')\n",
    ")"
   ]
  },
  {
   "cell_type": "code",
   "execution_count": 7,
   "id": "72aecc78",
   "metadata": {
    "execution": {
     "iopub.execute_input": "2025-05-15T16:15:28.473370Z",
     "iopub.status.busy": "2025-05-15T16:15:28.472951Z",
     "iopub.status.idle": "2025-05-15T16:15:28.482978Z",
     "shell.execute_reply": "2025-05-15T16:15:28.482637Z"
    },
    "papermill": {
     "duration": 0.016912,
     "end_time": "2025-05-15T16:15:28.483811",
     "exception": false,
     "start_time": "2025-05-15T16:15:28.466899",
     "status": "completed"
    },
    "tags": []
   },
   "outputs": [
    {
     "name": "stdout",
     "output_type": "stream",
     "text": [
      "['ENSG00000147168' 'ENSG00000108561' 'ENSG00000198846' 'ENSG00000028137'\n",
      " 'ENSG00000125743' 'ENSG00000149357' 'ENSG00000137331' 'ENSG00000146457'\n",
      " 'ENSG00000078596' 'ENSG00000134539' 'ENSG00000135441' 'ENSG00000121807'\n",
      " 'ENSG00000168811' 'ENSG00000161203' 'ENSG00000197746' 'ENSG00000075426'\n",
      " 'ENSG00000156411' 'ENSG00000157514' 'ENSG00000139514' 'ENSG00000002586'\n",
      " 'ENSG00000163131' 'ENSG00000188313' 'ENSG00000196396' 'ENSG00000076944'\n",
      " 'ENSG00000145850' 'ENSG00000173757' 'ENSG00000123416' 'ENSG00000100368'\n",
      " 'ENSG00000173812' 'ENSG00000105221' 'ENSG00000106605' 'ENSG00000231389'\n",
      " 'ENSG00000167996' 'ENSG00000111348' 'ENSG00000164104' 'ENSG00000204472'\n",
      " 'ENSG00000110876' 'ENSG00000163931' 'ENSG00000116815' 'ENSG00000172349'\n",
      " 'ENSG00000026025' 'ENSG00000068796' 'ENSG00000158050' 'ENSG00000018280'\n",
      " 'ENSG00000182287' 'ENSG00000135821' 'ENSG00000159128' 'ENSG00000105374'\n",
      " 'ENSG00000120837' 'ENSG00000205542' 'ENSG00000275302' 'ENSG00000118971'\n",
      " 'ENSG00000163660' 'ENSG00000143543' 'ENSG00000104964' 'ENSG00000143390'\n",
      " 'ENSG00000179144' 'ENSG00000001167' 'ENSG00000120742' 'ENSG00000081059'\n",
      " 'ENSG00000172531' 'ENSG00000152518' 'ENSG00000240065' 'ENSG00000111716'\n",
      " 'ENSG00000104312' 'ENSG00000197872' 'ENSG00000105397' 'ENSG00000131018'\n",
      " 'ENSG00000101347' 'ENSG00000185436' 'ENSG00000160075' 'ENSG00000183696'\n",
      " 'ENSG00000177663' 'ENSG00000204257' 'ENSG00000092820' 'ENSG00000112137'\n",
      " 'ENSG00000241837' 'ENSG00000104671' 'ENSG00000126267' 'ENSG00000111796'\n",
      " 'ENSG00000198668' 'ENSG00000123358' 'ENSG00000152219' 'ENSG00000175482'\n",
      " 'ENSG00000153283' 'ENSG00000122862' 'ENSG00000172183' 'ENSG00000155380'\n",
      " 'ENSG00000164307' 'ENSG00000116171' 'ENSG00000184007' 'ENSG00000100385'\n",
      " 'ENSG00000143924' 'ENSG00000133872' 'ENSG00000015475' 'ENSG00000129084'\n",
      " 'ENSG00000197329' 'ENSG00000138107' 'ENSG00000126353' 'ENSG00000110077'\n",
      " 'ENSG00000130830' 'ENSG00000130522' 'ENSG00000100393' 'ENSG00000099958'\n",
      " 'ENSG00000240505' 'ENSG00000135968' 'ENSG00000175390']\n"
     ]
    }
   ],
   "source": [
    "if SEED != 'all':\n",
    "    gene_subset = np.load(here(f'03_downstream_analysis/08_gene_importance/xgboost_external_validation/shap_gene_selection/gene_subsets_{N_GENES}/{CELL_TYPE}_{SEED}.npy'), allow_pickle=True)\n",
    "    train_adata = train_adata[:,gene_subset]\n",
    "    print(gene_subset)\n",
    "elif SEED == 'all':\n",
    "    print('Using all genes')\n",
    "else:\n",
    "    raise ValueError()"
   ]
  },
  {
   "cell_type": "code",
   "execution_count": 8,
   "id": "76956a0e",
   "metadata": {
    "execution": {
     "iopub.execute_input": "2025-05-15T16:15:28.524138Z",
     "iopub.status.busy": "2025-05-15T16:15:28.523933Z",
     "iopub.status.idle": "2025-05-15T16:15:28.526766Z",
     "shell.execute_reply": "2025-05-15T16:15:28.526469Z"
    },
    "papermill": {
     "duration": 0.038197,
     "end_time": "2025-05-15T16:15:28.527544",
     "exception": false,
     "start_time": "2025-05-15T16:15:28.489347",
     "status": "completed"
    },
    "tags": []
   },
   "outputs": [
    {
     "data": {
      "text/plain": [
       "(542, 107)"
      ]
     },
     "execution_count": 8,
     "metadata": {},
     "output_type": "execute_result"
    }
   ],
   "source": [
    "train_adata.shape"
   ]
  },
  {
   "cell_type": "code",
   "execution_count": 9,
   "id": "fddae951",
   "metadata": {
    "execution": {
     "iopub.execute_input": "2025-05-15T16:15:28.539269Z",
     "iopub.status.busy": "2025-05-15T16:15:28.539038Z",
     "iopub.status.idle": "2025-05-15T16:15:28.542421Z",
     "shell.execute_reply": "2025-05-15T16:15:28.542128Z"
    },
    "papermill": {
     "duration": 0.010091,
     "end_time": "2025-05-15T16:15:28.543184",
     "exception": false,
     "start_time": "2025-05-15T16:15:28.533093",
     "status": "completed"
    },
    "tags": []
   },
   "outputs": [
    {
     "data": {
      "text/plain": [
       "['RA', 'COVID', 'healthy', 'HIV', 'cirrhosis', 'CD', 'SLE', 'sepsis']\n",
       "Categories (8, object): ['CD', 'COVID', 'HIV', 'RA', 'SLE', 'cirrhosis', 'healthy', 'sepsis']"
      ]
     },
     "execution_count": 9,
     "metadata": {},
     "output_type": "execute_result"
    }
   ],
   "source": [
    "train_adata.obs.disease.unique()"
   ]
  },
  {
   "cell_type": "code",
   "execution_count": 10,
   "id": "43f83aec",
   "metadata": {
    "execution": {
     "iopub.execute_input": "2025-05-15T16:15:28.555634Z",
     "iopub.status.busy": "2025-05-15T16:15:28.555201Z",
     "iopub.status.idle": "2025-05-15T16:15:28.558934Z",
     "shell.execute_reply": "2025-05-15T16:15:28.558643Z"
    },
    "papermill": {
     "duration": 0.010929,
     "end_time": "2025-05-15T16:15:28.559804",
     "exception": false,
     "start_time": "2025-05-15T16:15:28.548875",
     "status": "completed"
    },
    "tags": []
   },
   "outputs": [
    {
     "data": {
      "text/plain": [
       "['SCGT00val_I0364_T0', 'SCGT00val_I036019_T0', 'SCGT00val_I036028_T0', 'SCGT00val_I036024_T0', 'SCGT00val_I036016_T0', ..., '10XGenomics_10XHC2_T0', '10XGenomics_10XHC3_T0', '10XGenomics_10XHC5_T0', '10XGenomics_10XHC7_T0', '10XGenomics_10XHC8_T0']\n",
       "Length: 74\n",
       "Categories (74, object): ['10XGenomics_10XHC1_T0', '10XGenomics_10XHC2_T0', '10XGenomics_10XHC3_T0', '10XGenomics_10XHC4_T0', ..., 'Savage2021_BRISL6_T0', 'Savage2021_BRISL7_T0', 'Savage2021_PIDA_T0', 'Savage2021_PIDB_T0']"
      ]
     },
     "execution_count": 10,
     "metadata": {},
     "output_type": "execute_result"
    }
   ],
   "source": [
    "train_adata.obs.sampleID.unique()"
   ]
  },
  {
   "cell_type": "code",
   "execution_count": 11,
   "id": "91ed1c73",
   "metadata": {
    "execution": {
     "iopub.execute_input": "2025-05-15T16:15:28.571709Z",
     "iopub.status.busy": "2025-05-15T16:15:28.571307Z",
     "iopub.status.idle": "2025-05-15T16:15:28.599935Z",
     "shell.execute_reply": "2025-05-15T16:15:28.599577Z"
    },
    "papermill": {
     "duration": 0.035398,
     "end_time": "2025-05-15T16:15:28.600734",
     "exception": false,
     "start_time": "2025-05-15T16:15:28.565336",
     "status": "completed"
    },
    "tags": []
   },
   "outputs": [],
   "source": [
    "all_idxs = np.arange(train_adata.obs.shape[0])\n",
    "left_out_splits = [s[1] for s in StratifiedGroupKFold(n_splits=N_SPLITS).split(all_idxs, train_adata.obs.disease, train_adata.obs.sampleID)]"
   ]
  },
  {
   "cell_type": "code",
   "execution_count": 12,
   "id": "85abecaf",
   "metadata": {
    "execution": {
     "iopub.execute_input": "2025-05-15T16:15:28.613368Z",
     "iopub.status.busy": "2025-05-15T16:15:28.613152Z",
     "iopub.status.idle": "2025-05-15T16:15:28.616175Z",
     "shell.execute_reply": "2025-05-15T16:15:28.615880Z"
    },
    "papermill": {
     "duration": 0.010114,
     "end_time": "2025-05-15T16:15:28.616957",
     "exception": false,
     "start_time": "2025-05-15T16:15:28.606843",
     "status": "completed"
    },
    "tags": []
   },
   "outputs": [
    {
     "data": {
      "text/plain": [
       "([0, 1, 2], 4, 3)"
      ]
     },
     "execution_count": 12,
     "metadata": {},
     "output_type": "execute_result"
    }
   ],
   "source": [
    "TRAIN_SPLIT_IDXS = [0,1,2,3,4]\n",
    "VAL_SPLIT_IDX = (TEST_SPLIT_IDX + 1) % 5\n",
    "TRAIN_SPLIT_IDXS.remove(TEST_SPLIT_IDX)\n",
    "TRAIN_SPLIT_IDXS.remove(VAL_SPLIT_IDX)\n",
    "TRAIN_SPLIT_IDXS, VAL_SPLIT_IDX, TEST_SPLIT_IDX"
   ]
  },
  {
   "cell_type": "code",
   "execution_count": 13,
   "id": "cf0397de",
   "metadata": {
    "execution": {
     "iopub.execute_input": "2025-05-15T16:15:28.628931Z",
     "iopub.status.busy": "2025-05-15T16:15:28.628685Z",
     "iopub.status.idle": "2025-05-15T16:15:28.630984Z",
     "shell.execute_reply": "2025-05-15T16:15:28.630683Z"
    },
    "papermill": {
     "duration": 0.009173,
     "end_time": "2025-05-15T16:15:28.631753",
     "exception": false,
     "start_time": "2025-05-15T16:15:28.622580",
     "status": "completed"
    },
    "tags": []
   },
   "outputs": [],
   "source": [
    "train_idxs = np.concatenate([left_out_splits[idx] for idx in TRAIN_SPLIT_IDXS])\n",
    "val_idxs = left_out_splits[VAL_SPLIT_IDX]\n",
    "test_idxs = left_out_splits[TEST_SPLIT_IDX]"
   ]
  },
  {
   "cell_type": "markdown",
   "id": "5ef728f3",
   "metadata": {
    "papermill": {
     "duration": 0.005873,
     "end_time": "2025-05-15T16:15:28.643086",
     "exception": false,
     "start_time": "2025-05-15T16:15:28.637213",
     "status": "completed"
    },
    "tags": []
   },
   "source": [
    "### SUBSET DATASET INTO TRAIN/TEST/VAL SPLITS"
   ]
  },
  {
   "cell_type": "code",
   "execution_count": 14,
   "id": "92cbbdaa",
   "metadata": {
    "execution": {
     "iopub.execute_input": "2025-05-15T16:15:28.655414Z",
     "iopub.status.busy": "2025-05-15T16:15:28.655073Z",
     "iopub.status.idle": "2025-05-15T16:15:28.660783Z",
     "shell.execute_reply": "2025-05-15T16:15:28.660487Z"
    },
    "papermill": {
     "duration": 0.012546,
     "end_time": "2025-05-15T16:15:28.661556",
     "exception": false,
     "start_time": "2025-05-15T16:15:28.649010",
     "status": "completed"
    },
    "tags": []
   },
   "outputs": [
    {
     "data": {
      "text/plain": [
       "((327, 107), (99, 107), (116, 107))"
      ]
     },
     "execution_count": 14,
     "metadata": {},
     "output_type": "execute_result"
    }
   ],
   "source": [
    "X_train = train_adata.X[train_idxs]\n",
    "X_test = train_adata.X[test_idxs]\n",
    "X_val = train_adata.X[val_idxs]\n",
    "X_train.shape, X_test.shape, X_val.shape"
   ]
  },
  {
   "cell_type": "code",
   "execution_count": 15,
   "id": "cb376117",
   "metadata": {
    "execution": {
     "iopub.execute_input": "2025-05-15T16:15:28.673905Z",
     "iopub.status.busy": "2025-05-15T16:15:28.673697Z",
     "iopub.status.idle": "2025-05-15T16:15:28.678266Z",
     "shell.execute_reply": "2025-05-15T16:15:28.677962Z"
    },
    "papermill": {
     "duration": 0.012582,
     "end_time": "2025-05-15T16:15:28.679855",
     "exception": false,
     "start_time": "2025-05-15T16:15:28.667273",
     "status": "completed"
    },
    "tags": []
   },
   "outputs": [
    {
     "data": {
      "text/plain": [
       "((327,), (99,), (116,))"
      ]
     },
     "execution_count": 15,
     "metadata": {},
     "output_type": "execute_result"
    }
   ],
   "source": [
    "y_train = train_adata.obs.iloc[train_idxs].disease.values.astype(str)\n",
    "y_test = train_adata.obs.iloc[test_idxs].disease.values.astype(str)\n",
    "y_val = train_adata.obs.iloc[val_idxs].disease.values.astype(str)\n",
    "y_train.shape, y_test.shape, y_val.shape"
   ]
  },
  {
   "cell_type": "code",
   "execution_count": 16,
   "id": "6981a73f",
   "metadata": {
    "execution": {
     "iopub.execute_input": "2025-05-15T16:15:28.695362Z",
     "iopub.status.busy": "2025-05-15T16:15:28.695159Z",
     "iopub.status.idle": "2025-05-15T16:15:28.697765Z",
     "shell.execute_reply": "2025-05-15T16:15:28.697466Z"
    },
    "papermill": {
     "duration": 0.011206,
     "end_time": "2025-05-15T16:15:28.698738",
     "exception": false,
     "start_time": "2025-05-15T16:15:28.687532",
     "status": "completed"
    },
    "tags": []
   },
   "outputs": [],
   "source": [
    "lenc = LabelEncoder()\n",
    "y_train_enc = lenc.fit_transform(y_train)\n",
    "y_val_enc = lenc.transform(y_val)\n",
    "y_test_enc = lenc.transform(y_test)"
   ]
  },
  {
   "cell_type": "markdown",
   "id": "fef609a8",
   "metadata": {
    "papermill": {
     "duration": 0.007736,
     "end_time": "2025-05-15T16:15:28.713867",
     "exception": false,
     "start_time": "2025-05-15T16:15:28.706131",
     "status": "completed"
    },
    "tags": []
   },
   "source": [
    "### GENERATE F1 "
   ]
  },
  {
   "cell_type": "code",
   "execution_count": 17,
   "id": "a40fbce9",
   "metadata": {
    "execution": {
     "iopub.execute_input": "2025-05-15T16:15:28.728725Z",
     "iopub.status.busy": "2025-05-15T16:15:28.728445Z",
     "iopub.status.idle": "2025-05-15T16:15:28.730654Z",
     "shell.execute_reply": "2025-05-15T16:15:28.730356Z"
    },
    "papermill": {
     "duration": 0.010814,
     "end_time": "2025-05-15T16:15:28.731755",
     "exception": false,
     "start_time": "2025-05-15T16:15:28.720941",
     "status": "completed"
    },
    "tags": []
   },
   "outputs": [],
   "source": [
    "def custom_f1_score(y_true, y_pred):\n",
    "    return -f1_score(y_true, y_pred.argmax(1), average='weighted')"
   ]
  },
  {
   "cell_type": "code",
   "execution_count": 18,
   "id": "85ffc9bf",
   "metadata": {
    "execution": {
     "iopub.execute_input": "2025-05-15T16:15:28.747359Z",
     "iopub.status.busy": "2025-05-15T16:15:28.747096Z",
     "iopub.status.idle": "2025-05-15T16:15:28.750581Z",
     "shell.execute_reply": "2025-05-15T16:15:28.750286Z"
    },
    "papermill": {
     "duration": 0.012274,
     "end_time": "2025-05-15T16:15:28.751354",
     "exception": false,
     "start_time": "2025-05-15T16:15:28.739080",
     "status": "completed"
    },
    "tags": []
   },
   "outputs": [],
   "source": [
    "eval_metric=custom_f1_score\n",
    "eval_metric_name='custom_f1_score'\n",
    "\n",
    "def objective(trial):\n",
    "    params = {\n",
    "        'n_estimators': 1500,\n",
    "        'max_depth': trial.suggest_int('max_depth', 3, 20),\n",
    "        'min_child_weight': trial.suggest_int('min_child_weight', 1, 250),\n",
    "        'subsample': trial.suggest_float('subsample', 0.1, 1.0),\n",
    "        'colsample_bynode': trial.suggest_float('colsample_bynode', 0.1, 1.0),\n",
    "        'learning_rate': trial.suggest_float('learning_rate', 1e-3, 5e-1, log=True),\n",
    "    }\n",
    "    pruning_callback = optuna.integration.XGBoostPruningCallback(trial, f'validation_0-{eval_metric_name}')\n",
    "    es_callback = xgboost.callback.EarlyStopping(20, min_delta=0.001)\n",
    "    xgb = xgboost.XGBClassifier(\n",
    "        eval_metric=eval_metric,\n",
    "        callbacks=[pruning_callback, es_callback],\n",
    "        n_jobs=5,\n",
    "        **params\n",
    "    )\n",
    "    xgb.fit(\n",
    "        X_train, \n",
    "        y_train_enc, \n",
    "        verbose=0,\n",
    "        eval_set=[(X_val, y_val_enc)],\n",
    "    )\n",
    "    trial.set_user_attr('best_iteration', xgb.best_iteration)\n",
    "\n",
    "    return xgb.best_score"
   ]
  },
  {
   "cell_type": "code",
   "execution_count": 19,
   "id": "eaed855e",
   "metadata": {
    "execution": {
     "iopub.execute_input": "2025-05-15T16:15:28.764313Z",
     "iopub.status.busy": "2025-05-15T16:15:28.764073Z",
     "iopub.status.idle": "2025-05-15T16:15:39.585924Z",
     "shell.execute_reply": "2025-05-15T16:15:39.585485Z"
    },
    "papermill": {
     "duration": 10.829241,
     "end_time": "2025-05-15T16:15:39.586808",
     "exception": false,
     "start_time": "2025-05-15T16:15:28.757567",
     "status": "completed"
    },
    "scrolled": true,
    "tags": []
   },
   "outputs": [
    {
     "name": "stderr",
     "output_type": "stream",
     "text": [
      "[I 2025-05-15 18:15:28,765] A new study created in memory with name: no-name-4b52d83d-8bd3-46e9-b625-4253fef5a476\n"
     ]
    },
    {
     "name": "stderr",
     "output_type": "stream",
     "text": [
      "[I 2025-05-15 18:15:28,827] Trial 0 finished with value: -0.041688 and parameters: {'max_depth': 9, 'min_child_weight': 238, 'subsample': 0.7587945476302645, 'colsample_bynode': 0.6387926357773329, 'learning_rate': 0.0026368755339723046}. Best is trial 0 with value: -0.041688.\n"
     ]
    },
    {
     "name": "stderr",
     "output_type": "stream",
     "text": [
      "[I 2025-05-15 18:15:29,229] Trial 1 finished with value: -0.52133 and parameters: {'max_depth': 5, 'min_child_weight': 15, 'subsample': 0.8795585311974417, 'colsample_bynode': 0.6410035105688879, 'learning_rate': 0.08148293210105287}. Best is trial 1 with value: -0.52133.\n"
     ]
    },
    {
     "name": "stderr",
     "output_type": "stream",
     "text": [
      "[I 2025-05-15 18:15:29,360] Trial 2 finished with value: -0.041688 and parameters: {'max_depth': 3, 'min_child_weight': 243, 'subsample': 0.8491983767203796, 'colsample_bynode': 0.29110519961044856, 'learning_rate': 0.003095566460242371}. Best is trial 1 with value: -0.52133.\n"
     ]
    },
    {
     "name": "stderr",
     "output_type": "stream",
     "text": [
      "[I 2025-05-15 18:15:29,488] Trial 3 finished with value: -0.041688 and parameters: {'max_depth': 6, 'min_child_weight': 77, 'subsample': 0.5722807884690141, 'colsample_bynode': 0.48875051677790415, 'learning_rate': 0.006109683510122491}. Best is trial 1 with value: -0.52133.\n"
     ]
    },
    {
     "name": "stderr",
     "output_type": "stream",
     "text": [
      "[I 2025-05-15 18:15:29,615] Trial 4 finished with value: -0.041688 and parameters: {'max_depth': 14, 'min_child_weight': 35, 'subsample': 0.3629301836816964, 'colsample_bynode': 0.4297256589643226, 'learning_rate': 0.01701841881702917}. Best is trial 1 with value: -0.52133.\n"
     ]
    },
    {
     "name": "stderr",
     "output_type": "stream",
     "text": [
      "[I 2025-05-15 18:15:29,747] Trial 5 finished with value: -0.041688 and parameters: {'max_depth': 17, 'min_child_weight': 50, 'subsample': 0.5628109945722505, 'colsample_bynode': 0.6331731119758383, 'learning_rate': 0.0013346527038305934}. Best is trial 1 with value: -0.52133.\n"
     ]
    },
    {
     "name": "stderr",
     "output_type": "stream",
     "text": [
      "[I 2025-05-15 18:15:29,881] Trial 6 finished with value: -0.041688 and parameters: {'max_depth': 13, 'min_child_weight': 43, 'subsample': 0.1585464336867516, 'colsample_bynode': 0.9539969835279999, 'learning_rate': 0.4038423798071558}. Best is trial 1 with value: -0.52133.\n"
     ]
    },
    {
     "name": "stderr",
     "output_type": "stream",
     "text": [
      "[I 2025-05-15 18:15:30,013] Trial 7 finished with value: -0.041688 and parameters: {'max_depth': 17, 'min_child_weight': 77, 'subsample': 0.1879049026057455, 'colsample_bynode': 0.7158097238609412, 'learning_rate': 0.015415527060141935}. Best is trial 1 with value: -0.52133.\n"
     ]
    },
    {
     "name": "stderr",
     "output_type": "stream",
     "text": [
      "[I 2025-05-15 18:15:30,148] Trial 8 finished with value: -0.041688 and parameters: {'max_depth': 5, 'min_child_weight': 124, 'subsample': 0.13094966900369656, 'colsample_bynode': 0.9183883618709039, 'learning_rate': 0.004993895014755658}. Best is trial 1 with value: -0.52133.\n"
     ]
    },
    {
     "name": "stderr",
     "output_type": "stream",
     "text": [
      "[I 2025-05-15 18:15:30,279] Trial 9 finished with value: -0.041688 and parameters: {'max_depth': 14, 'min_child_weight': 78, 'subsample': 0.5680612190600297, 'colsample_bynode': 0.5920392514089517, 'learning_rate': 0.0031543990308330965}. Best is trial 1 with value: -0.52133.\n"
     ]
    },
    {
     "name": "stderr",
     "output_type": "stream",
     "text": [
      "[I 2025-05-15 18:15:30,700] Trial 10 finished with value: -0.529659 and parameters: {'max_depth': 9, 'min_child_weight': 2, 'subsample': 0.9725833997090791, 'colsample_bynode': 0.11616568805333755, 'learning_rate': 0.17780618353487967}. Best is trial 10 with value: -0.529659.\n"
     ]
    },
    {
     "name": "stderr",
     "output_type": "stream",
     "text": [
      "[I 2025-05-15 18:15:31,098] Trial 11 finished with value: -0.592043 and parameters: {'max_depth': 9, 'min_child_weight': 4, 'subsample': 0.9818290990185045, 'colsample_bynode': 0.17702656156719, 'learning_rate': 0.11568531411766632}. Best is trial 11 with value: -0.592043.\n"
     ]
    },
    {
     "name": "stderr",
     "output_type": "stream",
     "text": [
      "[I 2025-05-15 18:15:31,377] Trial 12 pruned. Trial was pruned at iteration 21.\n"
     ]
    },
    {
     "name": "stderr",
     "output_type": "stream",
     "text": [
      "[I 2025-05-15 18:15:31,520] Trial 13 finished with value: -0.041688 and parameters: {'max_depth': 10, 'min_child_weight': 173, 'subsample': 0.9990589868255076, 'colsample_bynode': 0.10388397775802007, 'learning_rate': 0.08343244313100631}. Best is trial 11 with value: -0.592043.\n"
     ]
    },
    {
     "name": "stderr",
     "output_type": "stream",
     "text": [
      "[I 2025-05-15 18:15:31,664] Trial 14 finished with value: -0.041688 and parameters: {'max_depth': 7, 'min_child_weight': 132, 'subsample': 0.7251427075087294, 'colsample_bynode': 0.2827065087684573, 'learning_rate': 0.4477473783244542}. Best is trial 11 with value: -0.592043.\n"
     ]
    },
    {
     "name": "stderr",
     "output_type": "stream",
     "text": [
      "[I 2025-05-15 18:15:32,167] Trial 15 finished with value: -0.55664 and parameters: {'max_depth': 20, 'min_child_weight': 2, 'subsample': 0.719264024177087, 'colsample_bynode': 0.2540835086298475, 'learning_rate': 0.03987682305667138}. Best is trial 11 with value: -0.592043.\n"
     ]
    },
    {
     "name": "stderr",
     "output_type": "stream",
     "text": [
      "[I 2025-05-15 18:15:32,310] Trial 16 finished with value: -0.041688 and parameters: {'max_depth': 20, 'min_child_weight': 117, 'subsample': 0.6730263351162008, 'colsample_bynode': 0.2703877080693743, 'learning_rate': 0.04110937244314767}. Best is trial 11 with value: -0.592043.\n"
     ]
    },
    {
     "name": "stderr",
     "output_type": "stream",
     "text": [
      "[I 2025-05-15 18:15:32,457] Trial 17 finished with value: -0.041688 and parameters: {'max_depth': 20, 'min_child_weight': 183, 'subsample': 0.37310167079970213, 'colsample_bynode': 0.38835173273745516, 'learning_rate': 0.041262202391515325}. Best is trial 11 with value: -0.592043.\n"
     ]
    },
    {
     "name": "stderr",
     "output_type": "stream",
     "text": [
      "[I 2025-05-15 18:15:32,606] Trial 18 finished with value: -0.119292 and parameters: {'max_depth': 12, 'min_child_weight': 37, 'subsample': 0.8259163781171385, 'colsample_bynode': 0.21488984204344502, 'learning_rate': 0.0311521997998309}. Best is trial 11 with value: -0.592043.\n"
     ]
    },
    {
     "name": "stderr",
     "output_type": "stream",
     "text": [
      "[I 2025-05-15 18:15:32,756] Trial 19 finished with value: -0.041688 and parameters: {'max_depth': 17, 'min_child_weight': 99, 'subsample': 0.664982025414379, 'colsample_bynode': 0.4027887943468127, 'learning_rate': 0.19303118935659103}. Best is trial 11 with value: -0.592043.\n"
     ]
    },
    {
     "name": "stderr",
     "output_type": "stream",
     "text": [
      "[I 2025-05-15 18:15:32,904] Trial 20 pruned. Trial was pruned at iteration 21.\n"
     ]
    },
    {
     "name": "stderr",
     "output_type": "stream",
     "text": [
      "[I 2025-05-15 18:15:33,237] Trial 21 pruned. Trial was pruned at iteration 21.\n"
     ]
    },
    {
     "name": "stderr",
     "output_type": "stream",
     "text": [
      "[I 2025-05-15 18:15:33,385] Trial 22 finished with value: -0.119292 and parameters: {'max_depth': 8, 'min_child_weight': 56, 'subsample': 0.7982423974446629, 'colsample_bynode': 0.33157318456967083, 'learning_rate': 0.14023760395671528}. Best is trial 11 with value: -0.592043.\n"
     ]
    },
    {
     "name": "stderr",
     "output_type": "stream",
     "text": [
      "[I 2025-05-15 18:15:33,549] Trial 23 pruned. Trial was pruned at iteration 21.\n"
     ]
    },
    {
     "name": "stderr",
     "output_type": "stream",
     "text": [
      "[I 2025-05-15 18:15:34,169] Trial 24 finished with value: -0.594161 and parameters: {'max_depth': 8, 'min_child_weight': 4, 'subsample': 0.9311377556803607, 'colsample_bynode': 0.8162809857042157, 'learning_rate': 0.27510254899458203}. Best is trial 24 with value: -0.594161.\n"
     ]
    },
    {
     "name": "stderr",
     "output_type": "stream",
     "text": [
      "[I 2025-05-15 18:15:34,322] Trial 25 finished with value: -0.041688 and parameters: {'max_depth': 3, 'min_child_weight': 62, 'subsample': 0.6690431969283666, 'colsample_bynode': 0.8368811542739161, 'learning_rate': 0.3359188325848136}. Best is trial 24 with value: -0.594161.\n"
     ]
    },
    {
     "name": "stderr",
     "output_type": "stream",
     "text": [
      "[I 2025-05-15 18:15:34,514] Trial 26 pruned. Trial was pruned at iteration 21.\n"
     ]
    },
    {
     "name": "stderr",
     "output_type": "stream",
     "text": [
      "[I 2025-05-15 18:15:34,663] Trial 27 finished with value: -0.041688 and parameters: {'max_depth': 10, 'min_child_weight': 164, 'subsample': 0.7499057733296676, 'colsample_bynode': 0.5102594581148544, 'learning_rate': 0.27030298674224046}. Best is trial 24 with value: -0.594161.\n"
     ]
    },
    {
     "name": "stderr",
     "output_type": "stream",
     "text": [
      "[I 2025-05-15 18:15:34,806] Trial 28 finished with value: -0.041688 and parameters: {'max_depth': 18, 'min_child_weight': 208, 'subsample': 0.8087812736817006, 'colsample_bynode': 0.7547835364105744, 'learning_rate': 0.11466963548920447}. Best is trial 24 with value: -0.594161.\n"
     ]
    },
    {
     "name": "stderr",
     "output_type": "stream",
     "text": [
      "[I 2025-05-15 18:15:34,955] Trial 29 finished with value: -0.041688 and parameters: {'max_depth': 8, 'min_child_weight': 102, 'subsample': 0.4784500760073389, 'colsample_bynode': 0.9944585065447379, 'learning_rate': 0.05011383935846556}. Best is trial 24 with value: -0.594161.\n"
     ]
    },
    {
     "name": "stderr",
     "output_type": "stream",
     "text": [
      "[I 2025-05-15 18:15:35,101] Trial 30 finished with value: -0.041688 and parameters: {'max_depth': 12, 'min_child_weight': 220, 'subsample': 0.9416718271095663, 'colsample_bynode': 0.36107866779339803, 'learning_rate': 0.02466750364275751}. Best is trial 24 with value: -0.594161.\n"
     ]
    },
    {
     "name": "stderr",
     "output_type": "stream",
     "text": [
      "[I 2025-05-15 18:15:35,356] Trial 31 pruned. Trial was pruned at iteration 23.\n"
     ]
    },
    {
     "name": "stderr",
     "output_type": "stream",
     "text": [
      "[I 2025-05-15 18:15:35,522] Trial 32 pruned. Trial was pruned at iteration 21.\n"
     ]
    },
    {
     "name": "stderr",
     "output_type": "stream",
     "text": [
      "[I 2025-05-15 18:15:35,674] Trial 33 pruned. Trial was pruned at iteration 21.\n"
     ]
    },
    {
     "name": "stderr",
     "output_type": "stream",
     "text": [
      "[I 2025-05-15 18:15:35,854] Trial 34 pruned. Trial was pruned at iteration 21.\n"
     ]
    },
    {
     "name": "stderr",
     "output_type": "stream",
     "text": [
      "[I 2025-05-15 18:15:35,998] Trial 35 finished with value: -0.041688 and parameters: {'max_depth': 6, 'min_child_weight': 67, 'subsample': 0.7682852297065706, 'colsample_bynode': 0.3340630607581552, 'learning_rate': 0.24873565948263954}. Best is trial 24 with value: -0.594161.\n"
     ]
    },
    {
     "name": "stderr",
     "output_type": "stream",
     "text": [
      "[I 2025-05-15 18:15:36,152] Trial 36 pruned. Trial was pruned at iteration 21.\n"
     ]
    },
    {
     "name": "stderr",
     "output_type": "stream",
     "text": [
      "[I 2025-05-15 18:15:36,303] Trial 37 finished with value: -0.119292 and parameters: {'max_depth': 4, 'min_child_weight': 45, 'subsample': 0.9489697202882197, 'colsample_bynode': 0.7112900398848462, 'learning_rate': 0.01542429408475207}. Best is trial 24 with value: -0.594161.\n"
     ]
    },
    {
     "name": "stderr",
     "output_type": "stream",
     "text": [
      "[I 2025-05-15 18:15:36,453] Trial 38 pruned. Trial was pruned at iteration 21.\n"
     ]
    },
    {
     "name": "stderr",
     "output_type": "stream",
     "text": [
      "[I 2025-05-15 18:15:36,684] Trial 39 pruned. Trial was pruned at iteration 21.\n"
     ]
    },
    {
     "name": "stderr",
     "output_type": "stream",
     "text": [
      "[I 2025-05-15 18:15:36,834] Trial 40 finished with value: -0.119292 and parameters: {'max_depth': 15, 'min_child_weight': 46, 'subsample': 0.6135397358527036, 'colsample_bynode': 0.6028559206328793, 'learning_rate': 0.010182876892417177}. Best is trial 24 with value: -0.594161.\n"
     ]
    },
    {
     "name": "stderr",
     "output_type": "stream",
     "text": [
      "[I 2025-05-15 18:15:37,003] Trial 41 pruned. Trial was pruned at iteration 21.\n"
     ]
    },
    {
     "name": "stderr",
     "output_type": "stream",
     "text": [
      "[I 2025-05-15 18:15:37,514] Trial 42 finished with value: -0.577754 and parameters: {'max_depth': 5, 'min_child_weight': 2, 'subsample': 0.8820618988245319, 'colsample_bynode': 0.9161632606447391, 'learning_rate': 0.1340011188805995}. Best is trial 24 with value: -0.594161.\n"
     ]
    },
    {
     "name": "stderr",
     "output_type": "stream",
     "text": [
      "[I 2025-05-15 18:15:37,892] Trial 43 finished with value: -0.570247 and parameters: {'max_depth': 5, 'min_child_weight': 2, 'subsample': 0.8991024238751918, 'colsample_bynode': 0.8954001720861346, 'learning_rate': 0.14751417459002178}. Best is trial 24 with value: -0.594161.\n"
     ]
    },
    {
     "name": "stderr",
     "output_type": "stream",
     "text": [
      "[I 2025-05-15 18:15:38,072] Trial 44 pruned. Trial was pruned at iteration 21.\n"
     ]
    },
    {
     "name": "stderr",
     "output_type": "stream",
     "text": [
      "[I 2025-05-15 18:15:38,230] Trial 45 pruned. Trial was pruned at iteration 21.\n"
     ]
    },
    {
     "name": "stderr",
     "output_type": "stream",
     "text": [
      "[I 2025-05-15 18:15:38,432] Trial 46 pruned. Trial was pruned at iteration 21.\n"
     ]
    },
    {
     "name": "stderr",
     "output_type": "stream",
     "text": [
      "[I 2025-05-15 18:15:39,218] Trial 47 finished with value: -0.568997 and parameters: {'max_depth': 5, 'min_child_weight': 1, 'subsample': 0.8585963088819952, 'colsample_bynode': 0.9515563333044299, 'learning_rate': 0.20296397962456525}. Best is trial 24 with value: -0.594161.\n"
     ]
    },
    {
     "name": "stderr",
     "output_type": "stream",
     "text": [
      "[I 2025-05-15 18:15:39,367] Trial 48 finished with value: -0.041688 and parameters: {'max_depth': 5, 'min_child_weight': 71, 'subsample': 0.8609676655784652, 'colsample_bynode': 0.947177481087898, 'learning_rate': 0.2192584050120708}. Best is trial 24 with value: -0.594161.\n"
     ]
    },
    {
     "name": "stderr",
     "output_type": "stream",
     "text": [
      "[I 2025-05-15 18:15:39,516] Trial 49 finished with value: -0.119292 and parameters: {'max_depth': 6, 'min_child_weight': 53, 'subsample': 0.8958790020802807, 'colsample_bynode': 0.9967329012664522, 'learning_rate': 0.14794112315583494}. Best is trial 24 with value: -0.594161.\n"
     ]
    }
   ],
   "source": [
    "sampler = optuna.samplers.TPESampler(seed=42)\n",
    "study = optuna.create_study(direction='minimize', sampler=sampler)\n",
    "study.optimize(objective, n_trials=N_TRIALS, gc_after_trial=True)"
   ]
  },
  {
   "cell_type": "code",
   "execution_count": 20,
   "id": "8d5a2097",
   "metadata": {
    "execution": {
     "iopub.execute_input": "2025-05-15T16:15:39.604194Z",
     "iopub.status.busy": "2025-05-15T16:15:39.604008Z",
     "iopub.status.idle": "2025-05-15T16:15:39.649851Z",
     "shell.execute_reply": "2025-05-15T16:15:39.649558Z"
    },
    "papermill": {
     "duration": 0.054957,
     "end_time": "2025-05-15T16:15:39.650667",
     "exception": false,
     "start_time": "2025-05-15T16:15:39.595710",
     "status": "completed"
    },
    "tags": []
   },
   "outputs": [
    {
     "data": {
      "text/plain": [
       "['/scratch_isilon/groups/singlecell/shared/projects/Inflammation-PBMCs-Atlas/03_downstream_analysis/08_gene_importance/xgboost_external_validation/xgboost_TopN_genes/results_20/study/Plasma_3_3_xgboost.pkl']"
      ]
     },
     "execution_count": 20,
     "metadata": {},
     "output_type": "execute_result"
    }
   ],
   "source": [
    "out_dir = here(f'03_downstream_analysis/08_gene_importance/xgboost_external_validation/xgboost_TopN_genes/results_{N_GENES}/study')\n",
    "\n",
    "if not os.path.exists(out_dir):\n",
    "    os.makedirs(out_dir)\n",
    "    \n",
    "joblib.dump(study,os.path.join(out_dir, f'{CELL_TYPE}_{SEED}_{TEST_SPLIT_IDX}_xgboost.pkl'))"
   ]
  },
  {
   "cell_type": "code",
   "execution_count": 21,
   "id": "4868cd23",
   "metadata": {
    "execution": {
     "iopub.execute_input": "2025-05-15T16:15:39.667464Z",
     "iopub.status.busy": "2025-05-15T16:15:39.667294Z",
     "iopub.status.idle": "2025-05-15T16:15:40.164086Z",
     "shell.execute_reply": "2025-05-15T16:15:40.163700Z"
    },
    "papermill": {
     "duration": 0.506086,
     "end_time": "2025-05-15T16:15:40.164963",
     "exception": false,
     "start_time": "2025-05-15T16:15:39.658877",
     "status": "completed"
    },
    "tags": []
   },
   "outputs": [
    {
     "data": {
      "text/html": [
       "<style>#sk-container-id-1 {\n",
       "  /* Definition of color scheme common for light and dark mode */\n",
       "  --sklearn-color-text: black;\n",
       "  --sklearn-color-line: gray;\n",
       "  /* Definition of color scheme for unfitted estimators */\n",
       "  --sklearn-color-unfitted-level-0: #fff5e6;\n",
       "  --sklearn-color-unfitted-level-1: #f6e4d2;\n",
       "  --sklearn-color-unfitted-level-2: #ffe0b3;\n",
       "  --sklearn-color-unfitted-level-3: chocolate;\n",
       "  /* Definition of color scheme for fitted estimators */\n",
       "  --sklearn-color-fitted-level-0: #f0f8ff;\n",
       "  --sklearn-color-fitted-level-1: #d4ebff;\n",
       "  --sklearn-color-fitted-level-2: #b3dbfd;\n",
       "  --sklearn-color-fitted-level-3: cornflowerblue;\n",
       "\n",
       "  /* Specific color for light theme */\n",
       "  --sklearn-color-text-on-default-background: var(--sg-text-color, var(--theme-code-foreground, var(--jp-content-font-color1, black)));\n",
       "  --sklearn-color-background: var(--sg-background-color, var(--theme-background, var(--jp-layout-color0, white)));\n",
       "  --sklearn-color-border-box: var(--sg-text-color, var(--theme-code-foreground, var(--jp-content-font-color1, black)));\n",
       "  --sklearn-color-icon: #696969;\n",
       "\n",
       "  @media (prefers-color-scheme: dark) {\n",
       "    /* Redefinition of color scheme for dark theme */\n",
       "    --sklearn-color-text-on-default-background: var(--sg-text-color, var(--theme-code-foreground, var(--jp-content-font-color1, white)));\n",
       "    --sklearn-color-background: var(--sg-background-color, var(--theme-background, var(--jp-layout-color0, #111)));\n",
       "    --sklearn-color-border-box: var(--sg-text-color, var(--theme-code-foreground, var(--jp-content-font-color1, white)));\n",
       "    --sklearn-color-icon: #878787;\n",
       "  }\n",
       "}\n",
       "\n",
       "#sk-container-id-1 {\n",
       "  color: var(--sklearn-color-text);\n",
       "}\n",
       "\n",
       "#sk-container-id-1 pre {\n",
       "  padding: 0;\n",
       "}\n",
       "\n",
       "#sk-container-id-1 input.sk-hidden--visually {\n",
       "  border: 0;\n",
       "  clip: rect(1px 1px 1px 1px);\n",
       "  clip: rect(1px, 1px, 1px, 1px);\n",
       "  height: 1px;\n",
       "  margin: -1px;\n",
       "  overflow: hidden;\n",
       "  padding: 0;\n",
       "  position: absolute;\n",
       "  width: 1px;\n",
       "}\n",
       "\n",
       "#sk-container-id-1 div.sk-dashed-wrapped {\n",
       "  border: 1px dashed var(--sklearn-color-line);\n",
       "  margin: 0 0.4em 0.5em 0.4em;\n",
       "  box-sizing: border-box;\n",
       "  padding-bottom: 0.4em;\n",
       "  background-color: var(--sklearn-color-background);\n",
       "}\n",
       "\n",
       "#sk-container-id-1 div.sk-container {\n",
       "  /* jupyter's `normalize.less` sets `[hidden] { display: none; }`\n",
       "     but bootstrap.min.css set `[hidden] { display: none !important; }`\n",
       "     so we also need the `!important` here to be able to override the\n",
       "     default hidden behavior on the sphinx rendered scikit-learn.org.\n",
       "     See: https://github.com/scikit-learn/scikit-learn/issues/21755 */\n",
       "  display: inline-block !important;\n",
       "  position: relative;\n",
       "}\n",
       "\n",
       "#sk-container-id-1 div.sk-text-repr-fallback {\n",
       "  display: none;\n",
       "}\n",
       "\n",
       "div.sk-parallel-item,\n",
       "div.sk-serial,\n",
       "div.sk-item {\n",
       "  /* draw centered vertical line to link estimators */\n",
       "  background-image: linear-gradient(var(--sklearn-color-text-on-default-background), var(--sklearn-color-text-on-default-background));\n",
       "  background-size: 2px 100%;\n",
       "  background-repeat: no-repeat;\n",
       "  background-position: center center;\n",
       "}\n",
       "\n",
       "/* Parallel-specific style estimator block */\n",
       "\n",
       "#sk-container-id-1 div.sk-parallel-item::after {\n",
       "  content: \"\";\n",
       "  width: 100%;\n",
       "  border-bottom: 2px solid var(--sklearn-color-text-on-default-background);\n",
       "  flex-grow: 1;\n",
       "}\n",
       "\n",
       "#sk-container-id-1 div.sk-parallel {\n",
       "  display: flex;\n",
       "  align-items: stretch;\n",
       "  justify-content: center;\n",
       "  background-color: var(--sklearn-color-background);\n",
       "  position: relative;\n",
       "}\n",
       "\n",
       "#sk-container-id-1 div.sk-parallel-item {\n",
       "  display: flex;\n",
       "  flex-direction: column;\n",
       "}\n",
       "\n",
       "#sk-container-id-1 div.sk-parallel-item:first-child::after {\n",
       "  align-self: flex-end;\n",
       "  width: 50%;\n",
       "}\n",
       "\n",
       "#sk-container-id-1 div.sk-parallel-item:last-child::after {\n",
       "  align-self: flex-start;\n",
       "  width: 50%;\n",
       "}\n",
       "\n",
       "#sk-container-id-1 div.sk-parallel-item:only-child::after {\n",
       "  width: 0;\n",
       "}\n",
       "\n",
       "/* Serial-specific style estimator block */\n",
       "\n",
       "#sk-container-id-1 div.sk-serial {\n",
       "  display: flex;\n",
       "  flex-direction: column;\n",
       "  align-items: center;\n",
       "  background-color: var(--sklearn-color-background);\n",
       "  padding-right: 1em;\n",
       "  padding-left: 1em;\n",
       "}\n",
       "\n",
       "\n",
       "/* Toggleable style: style used for estimator/Pipeline/ColumnTransformer box that is\n",
       "clickable and can be expanded/collapsed.\n",
       "- Pipeline and ColumnTransformer use this feature and define the default style\n",
       "- Estimators will overwrite some part of the style using the `sk-estimator` class\n",
       "*/\n",
       "\n",
       "/* Pipeline and ColumnTransformer style (default) */\n",
       "\n",
       "#sk-container-id-1 div.sk-toggleable {\n",
       "  /* Default theme specific background. It is overwritten whether we have a\n",
       "  specific estimator or a Pipeline/ColumnTransformer */\n",
       "  background-color: var(--sklearn-color-background);\n",
       "}\n",
       "\n",
       "/* Toggleable label */\n",
       "#sk-container-id-1 label.sk-toggleable__label {\n",
       "  cursor: pointer;\n",
       "  display: block;\n",
       "  width: 100%;\n",
       "  margin-bottom: 0;\n",
       "  padding: 0.5em;\n",
       "  box-sizing: border-box;\n",
       "  text-align: center;\n",
       "}\n",
       "\n",
       "#sk-container-id-1 label.sk-toggleable__label-arrow:before {\n",
       "  /* Arrow on the left of the label */\n",
       "  content: \"▸\";\n",
       "  float: left;\n",
       "  margin-right: 0.25em;\n",
       "  color: var(--sklearn-color-icon);\n",
       "}\n",
       "\n",
       "#sk-container-id-1 label.sk-toggleable__label-arrow:hover:before {\n",
       "  color: var(--sklearn-color-text);\n",
       "}\n",
       "\n",
       "/* Toggleable content - dropdown */\n",
       "\n",
       "#sk-container-id-1 div.sk-toggleable__content {\n",
       "  max-height: 0;\n",
       "  max-width: 0;\n",
       "  overflow: hidden;\n",
       "  text-align: left;\n",
       "  /* unfitted */\n",
       "  background-color: var(--sklearn-color-unfitted-level-0);\n",
       "}\n",
       "\n",
       "#sk-container-id-1 div.sk-toggleable__content.fitted {\n",
       "  /* fitted */\n",
       "  background-color: var(--sklearn-color-fitted-level-0);\n",
       "}\n",
       "\n",
       "#sk-container-id-1 div.sk-toggleable__content pre {\n",
       "  margin: 0.2em;\n",
       "  border-radius: 0.25em;\n",
       "  color: var(--sklearn-color-text);\n",
       "  /* unfitted */\n",
       "  background-color: var(--sklearn-color-unfitted-level-0);\n",
       "}\n",
       "\n",
       "#sk-container-id-1 div.sk-toggleable__content.fitted pre {\n",
       "  /* unfitted */\n",
       "  background-color: var(--sklearn-color-fitted-level-0);\n",
       "}\n",
       "\n",
       "#sk-container-id-1 input.sk-toggleable__control:checked~div.sk-toggleable__content {\n",
       "  /* Expand drop-down */\n",
       "  max-height: 200px;\n",
       "  max-width: 100%;\n",
       "  overflow: auto;\n",
       "}\n",
       "\n",
       "#sk-container-id-1 input.sk-toggleable__control:checked~label.sk-toggleable__label-arrow:before {\n",
       "  content: \"▾\";\n",
       "}\n",
       "\n",
       "/* Pipeline/ColumnTransformer-specific style */\n",
       "\n",
       "#sk-container-id-1 div.sk-label input.sk-toggleable__control:checked~label.sk-toggleable__label {\n",
       "  color: var(--sklearn-color-text);\n",
       "  background-color: var(--sklearn-color-unfitted-level-2);\n",
       "}\n",
       "\n",
       "#sk-container-id-1 div.sk-label.fitted input.sk-toggleable__control:checked~label.sk-toggleable__label {\n",
       "  background-color: var(--sklearn-color-fitted-level-2);\n",
       "}\n",
       "\n",
       "/* Estimator-specific style */\n",
       "\n",
       "/* Colorize estimator box */\n",
       "#sk-container-id-1 div.sk-estimator input.sk-toggleable__control:checked~label.sk-toggleable__label {\n",
       "  /* unfitted */\n",
       "  background-color: var(--sklearn-color-unfitted-level-2);\n",
       "}\n",
       "\n",
       "#sk-container-id-1 div.sk-estimator.fitted input.sk-toggleable__control:checked~label.sk-toggleable__label {\n",
       "  /* fitted */\n",
       "  background-color: var(--sklearn-color-fitted-level-2);\n",
       "}\n",
       "\n",
       "#sk-container-id-1 div.sk-label label.sk-toggleable__label,\n",
       "#sk-container-id-1 div.sk-label label {\n",
       "  /* The background is the default theme color */\n",
       "  color: var(--sklearn-color-text-on-default-background);\n",
       "}\n",
       "\n",
       "/* On hover, darken the color of the background */\n",
       "#sk-container-id-1 div.sk-label:hover label.sk-toggleable__label {\n",
       "  color: var(--sklearn-color-text);\n",
       "  background-color: var(--sklearn-color-unfitted-level-2);\n",
       "}\n",
       "\n",
       "/* Label box, darken color on hover, fitted */\n",
       "#sk-container-id-1 div.sk-label.fitted:hover label.sk-toggleable__label.fitted {\n",
       "  color: var(--sklearn-color-text);\n",
       "  background-color: var(--sklearn-color-fitted-level-2);\n",
       "}\n",
       "\n",
       "/* Estimator label */\n",
       "\n",
       "#sk-container-id-1 div.sk-label label {\n",
       "  font-family: monospace;\n",
       "  font-weight: bold;\n",
       "  display: inline-block;\n",
       "  line-height: 1.2em;\n",
       "}\n",
       "\n",
       "#sk-container-id-1 div.sk-label-container {\n",
       "  text-align: center;\n",
       "}\n",
       "\n",
       "/* Estimator-specific */\n",
       "#sk-container-id-1 div.sk-estimator {\n",
       "  font-family: monospace;\n",
       "  border: 1px dotted var(--sklearn-color-border-box);\n",
       "  border-radius: 0.25em;\n",
       "  box-sizing: border-box;\n",
       "  margin-bottom: 0.5em;\n",
       "  /* unfitted */\n",
       "  background-color: var(--sklearn-color-unfitted-level-0);\n",
       "}\n",
       "\n",
       "#sk-container-id-1 div.sk-estimator.fitted {\n",
       "  /* fitted */\n",
       "  background-color: var(--sklearn-color-fitted-level-0);\n",
       "}\n",
       "\n",
       "/* on hover */\n",
       "#sk-container-id-1 div.sk-estimator:hover {\n",
       "  /* unfitted */\n",
       "  background-color: var(--sklearn-color-unfitted-level-2);\n",
       "}\n",
       "\n",
       "#sk-container-id-1 div.sk-estimator.fitted:hover {\n",
       "  /* fitted */\n",
       "  background-color: var(--sklearn-color-fitted-level-2);\n",
       "}\n",
       "\n",
       "/* Specification for estimator info (e.g. \"i\" and \"?\") */\n",
       "\n",
       "/* Common style for \"i\" and \"?\" */\n",
       "\n",
       ".sk-estimator-doc-link,\n",
       "a:link.sk-estimator-doc-link,\n",
       "a:visited.sk-estimator-doc-link {\n",
       "  float: right;\n",
       "  font-size: smaller;\n",
       "  line-height: 1em;\n",
       "  font-family: monospace;\n",
       "  background-color: var(--sklearn-color-background);\n",
       "  border-radius: 1em;\n",
       "  height: 1em;\n",
       "  width: 1em;\n",
       "  text-decoration: none !important;\n",
       "  margin-left: 1ex;\n",
       "  /* unfitted */\n",
       "  border: var(--sklearn-color-unfitted-level-1) 1pt solid;\n",
       "  color: var(--sklearn-color-unfitted-level-1);\n",
       "}\n",
       "\n",
       ".sk-estimator-doc-link.fitted,\n",
       "a:link.sk-estimator-doc-link.fitted,\n",
       "a:visited.sk-estimator-doc-link.fitted {\n",
       "  /* fitted */\n",
       "  border: var(--sklearn-color-fitted-level-1) 1pt solid;\n",
       "  color: var(--sklearn-color-fitted-level-1);\n",
       "}\n",
       "\n",
       "/* On hover */\n",
       "div.sk-estimator:hover .sk-estimator-doc-link:hover,\n",
       ".sk-estimator-doc-link:hover,\n",
       "div.sk-label-container:hover .sk-estimator-doc-link:hover,\n",
       ".sk-estimator-doc-link:hover {\n",
       "  /* unfitted */\n",
       "  background-color: var(--sklearn-color-unfitted-level-3);\n",
       "  color: var(--sklearn-color-background);\n",
       "  text-decoration: none;\n",
       "}\n",
       "\n",
       "div.sk-estimator.fitted:hover .sk-estimator-doc-link.fitted:hover,\n",
       ".sk-estimator-doc-link.fitted:hover,\n",
       "div.sk-label-container:hover .sk-estimator-doc-link.fitted:hover,\n",
       ".sk-estimator-doc-link.fitted:hover {\n",
       "  /* fitted */\n",
       "  background-color: var(--sklearn-color-fitted-level-3);\n",
       "  color: var(--sklearn-color-background);\n",
       "  text-decoration: none;\n",
       "}\n",
       "\n",
       "/* Span, style for the box shown on hovering the info icon */\n",
       ".sk-estimator-doc-link span {\n",
       "  display: none;\n",
       "  z-index: 9999;\n",
       "  position: relative;\n",
       "  font-weight: normal;\n",
       "  right: .2ex;\n",
       "  padding: .5ex;\n",
       "  margin: .5ex;\n",
       "  width: min-content;\n",
       "  min-width: 20ex;\n",
       "  max-width: 50ex;\n",
       "  color: var(--sklearn-color-text);\n",
       "  box-shadow: 2pt 2pt 4pt #999;\n",
       "  /* unfitted */\n",
       "  background: var(--sklearn-color-unfitted-level-0);\n",
       "  border: .5pt solid var(--sklearn-color-unfitted-level-3);\n",
       "}\n",
       "\n",
       ".sk-estimator-doc-link.fitted span {\n",
       "  /* fitted */\n",
       "  background: var(--sklearn-color-fitted-level-0);\n",
       "  border: var(--sklearn-color-fitted-level-3);\n",
       "}\n",
       "\n",
       ".sk-estimator-doc-link:hover span {\n",
       "  display: block;\n",
       "}\n",
       "\n",
       "/* \"?\"-specific style due to the `<a>` HTML tag */\n",
       "\n",
       "#sk-container-id-1 a.estimator_doc_link {\n",
       "  float: right;\n",
       "  font-size: 1rem;\n",
       "  line-height: 1em;\n",
       "  font-family: monospace;\n",
       "  background-color: var(--sklearn-color-background);\n",
       "  border-radius: 1rem;\n",
       "  height: 1rem;\n",
       "  width: 1rem;\n",
       "  text-decoration: none;\n",
       "  /* unfitted */\n",
       "  color: var(--sklearn-color-unfitted-level-1);\n",
       "  border: var(--sklearn-color-unfitted-level-1) 1pt solid;\n",
       "}\n",
       "\n",
       "#sk-container-id-1 a.estimator_doc_link.fitted {\n",
       "  /* fitted */\n",
       "  border: var(--sklearn-color-fitted-level-1) 1pt solid;\n",
       "  color: var(--sklearn-color-fitted-level-1);\n",
       "}\n",
       "\n",
       "/* On hover */\n",
       "#sk-container-id-1 a.estimator_doc_link:hover {\n",
       "  /* unfitted */\n",
       "  background-color: var(--sklearn-color-unfitted-level-3);\n",
       "  color: var(--sklearn-color-background);\n",
       "  text-decoration: none;\n",
       "}\n",
       "\n",
       "#sk-container-id-1 a.estimator_doc_link.fitted:hover {\n",
       "  /* fitted */\n",
       "  background-color: var(--sklearn-color-fitted-level-3);\n",
       "}\n",
       "</style><div id=\"sk-container-id-1\" class=\"sk-top-container\"><div class=\"sk-text-repr-fallback\"><pre>XGBClassifier(base_score=None, booster=None, callbacks=None,\n",
       "              colsample_bylevel=None, colsample_bynode=0.8162809857042157,\n",
       "              colsample_bytree=None, device=None, early_stopping_rounds=None,\n",
       "              enable_categorical=False,\n",
       "              eval_metric=&lt;function custom_f1_score at 0x7faba587f920&gt;,\n",
       "              feature_types=None, gamma=None, grow_policy=None,\n",
       "              importance_type=None, interaction_constraints=None,\n",
       "              learning_rate=0.27510254899458203, max_bin=None,\n",
       "              max_cat_threshold=None, max_cat_to_onehot=None,\n",
       "              max_delta_step=None, max_depth=8, max_leaves=None,\n",
       "              min_child_weight=4, missing=nan, monotone_constraints=None,\n",
       "              multi_strategy=None, n_estimators=73, n_jobs=None,\n",
       "              num_parallel_tree=None, objective=&#x27;multi:softprob&#x27;, ...)</pre><b>In a Jupyter environment, please rerun this cell to show the HTML representation or trust the notebook. <br />On GitHub, the HTML representation is unable to render, please try loading this page with nbviewer.org.</b></div><div class=\"sk-container\" hidden><div class=\"sk-item\"><div class=\"sk-estimator fitted sk-toggleable\"><input class=\"sk-toggleable__control sk-hidden--visually\" id=\"sk-estimator-id-1\" type=\"checkbox\" checked><label for=\"sk-estimator-id-1\" class=\"sk-toggleable__label fitted sk-toggleable__label-arrow fitted\">&nbsp;XGBClassifier<span class=\"sk-estimator-doc-link fitted\">i<span>Fitted</span></span></label><div class=\"sk-toggleable__content fitted\"><pre>XGBClassifier(base_score=None, booster=None, callbacks=None,\n",
       "              colsample_bylevel=None, colsample_bynode=0.8162809857042157,\n",
       "              colsample_bytree=None, device=None, early_stopping_rounds=None,\n",
       "              enable_categorical=False,\n",
       "              eval_metric=&lt;function custom_f1_score at 0x7faba587f920&gt;,\n",
       "              feature_types=None, gamma=None, grow_policy=None,\n",
       "              importance_type=None, interaction_constraints=None,\n",
       "              learning_rate=0.27510254899458203, max_bin=None,\n",
       "              max_cat_threshold=None, max_cat_to_onehot=None,\n",
       "              max_delta_step=None, max_depth=8, max_leaves=None,\n",
       "              min_child_weight=4, missing=nan, monotone_constraints=None,\n",
       "              multi_strategy=None, n_estimators=73, n_jobs=None,\n",
       "              num_parallel_tree=None, objective=&#x27;multi:softprob&#x27;, ...)</pre></div> </div></div></div></div>"
      ],
      "text/plain": [
       "XGBClassifier(base_score=None, booster=None, callbacks=None,\n",
       "              colsample_bylevel=None, colsample_bynode=0.8162809857042157,\n",
       "              colsample_bytree=None, device=None, early_stopping_rounds=None,\n",
       "              enable_categorical=False,\n",
       "              eval_metric=<function custom_f1_score at 0x7faba587f920>,\n",
       "              feature_types=None, gamma=None, grow_policy=None,\n",
       "              importance_type=None, interaction_constraints=None,\n",
       "              learning_rate=0.27510254899458203, max_bin=None,\n",
       "              max_cat_threshold=None, max_cat_to_onehot=None,\n",
       "              max_delta_step=None, max_depth=8, max_leaves=None,\n",
       "              min_child_weight=4, missing=nan, monotone_constraints=None,\n",
       "              multi_strategy=None, n_estimators=73, n_jobs=None,\n",
       "              num_parallel_tree=None, objective='multi:softprob', ...)"
      ]
     },
     "execution_count": 21,
     "metadata": {},
     "output_type": "execute_result"
    }
   ],
   "source": [
    "n_estimators = int(study.best_trial.user_attrs['best_iteration']*1.2)\n",
    "xgb = xgboost.XGBClassifier(\n",
    "        eval_metric=eval_metric,\n",
    "        n_estimators=n_estimators,\n",
    "        **study.best_trial.params\n",
    "    )\n",
    "xgb.fit(\n",
    "    ssp.vstack((X_train, X_val)), \n",
    "    np.concatenate((y_train_enc, y_val_enc)),\n",
    "    verbose=1,\n",
    ")"
   ]
  },
  {
   "cell_type": "code",
   "execution_count": 22,
   "id": "89b36716",
   "metadata": {
    "execution": {
     "iopub.execute_input": "2025-05-15T16:15:40.186924Z",
     "iopub.status.busy": "2025-05-15T16:15:40.186731Z",
     "iopub.status.idle": "2025-05-15T16:15:40.215137Z",
     "shell.execute_reply": "2025-05-15T16:15:40.214841Z"
    },
    "papermill": {
     "duration": 0.038177,
     "end_time": "2025-05-15T16:15:40.215917",
     "exception": false,
     "start_time": "2025-05-15T16:15:40.177740",
     "status": "completed"
    },
    "tags": []
   },
   "outputs": [
    {
     "data": {
      "text/plain": [
       "['/scratch_isilon/groups/singlecell/shared/projects/Inflammation-PBMCs-Atlas/03_downstream_analysis/08_gene_importance/xgboost_external_validation/xgboost_TopN_genes/results_20/best_model/Plasma_3_3_xgb.json']"
      ]
     },
     "execution_count": 22,
     "metadata": {},
     "output_type": "execute_result"
    }
   ],
   "source": [
    "out_dir = here(f'03_downstream_analysis/08_gene_importance/xgboost_external_validation/xgboost_TopN_genes/results_{N_GENES}/best_model')\n",
    "\n",
    "if not os.path.exists(out_dir):\n",
    "    os.makedirs(out_dir)\n",
    "    \n",
    "joblib.dump(xgb, os.path.join(out_dir, f'{CELL_TYPE}_{SEED}_{TEST_SPLIT_IDX}_xgb.json'))"
   ]
  },
  {
   "cell_type": "code",
   "execution_count": 23,
   "id": "b5483073",
   "metadata": {
    "execution": {
     "iopub.execute_input": "2025-05-15T16:15:40.234096Z",
     "iopub.status.busy": "2025-05-15T16:15:40.233757Z",
     "iopub.status.idle": "2025-05-15T16:15:40.238219Z",
     "shell.execute_reply": "2025-05-15T16:15:40.237915Z"
    },
    "papermill": {
     "duration": 0.018913,
     "end_time": "2025-05-15T16:15:40.243173",
     "exception": false,
     "start_time": "2025-05-15T16:15:40.224260",
     "status": "completed"
    },
    "tags": []
   },
   "outputs": [],
   "source": [
    "df_pred_test = pd.DataFrame(dict(\n",
    "    cell_id=train_adata.obs.iloc[test_idxs].index.values,\n",
    "    y_true=y_test, \n",
    "    y_true_code=y_test_enc, \n",
    "    y_pred=xgb.predict(X_test))).set_index('cell_id')"
   ]
  },
  {
   "cell_type": "code",
   "execution_count": 24,
   "id": "ba6a43d7",
   "metadata": {
    "execution": {
     "iopub.execute_input": "2025-05-15T16:15:40.260204Z",
     "iopub.status.busy": "2025-05-15T16:15:40.259951Z",
     "iopub.status.idle": "2025-05-15T16:15:40.269902Z",
     "shell.execute_reply": "2025-05-15T16:15:40.269496Z"
    },
    "papermill": {
     "duration": 0.019483,
     "end_time": "2025-05-15T16:15:40.270693",
     "exception": false,
     "start_time": "2025-05-15T16:15:40.251210",
     "status": "completed"
    },
    "tags": []
   },
   "outputs": [],
   "source": [
    "out_dir = here(f'03_downstream_analysis/08_gene_importance/xgboost_external_validation/xgboost_TopN_genes/results_{N_GENES}/predictions')\n",
    "\n",
    "if not os.path.exists(out_dir):\n",
    "    os.makedirs(out_dir)\n",
    "    \n",
    "df_pred_test.to_csv(os.path.join(out_dir, f'{CELL_TYPE}_{SEED}_{TEST_SPLIT_IDX}_pred_test.zip'))"
   ]
  },
  {
   "cell_type": "code",
   "execution_count": 25,
   "id": "63a0a5a2",
   "metadata": {
    "execution": {
     "iopub.execute_input": "2025-05-15T16:15:40.288092Z",
     "iopub.status.busy": "2025-05-15T16:15:40.287774Z",
     "iopub.status.idle": "2025-05-15T16:15:40.292841Z",
     "shell.execute_reply": "2025-05-15T16:15:40.292546Z"
    },
    "papermill": {
     "duration": 0.014321,
     "end_time": "2025-05-15T16:15:40.293606",
     "exception": false,
     "start_time": "2025-05-15T16:15:40.279285",
     "status": "completed"
    },
    "tags": []
   },
   "outputs": [],
   "source": [
    "metrics_dict = dict(\n",
    "    BAS=balanced_accuracy_score(y_true=df_pred_test.y_true_code, y_pred=df_pred_test.y_pred), WF1=f1_score(y_true=df_pred_test.y_true_code, y_pred=df_pred_test.y_pred,average='weighted'))"
   ]
  },
  {
   "cell_type": "code",
   "execution_count": 26,
   "id": "bf1661ba",
   "metadata": {
    "execution": {
     "iopub.execute_input": "2025-05-15T16:15:40.310845Z",
     "iopub.status.busy": "2025-05-15T16:15:40.310670Z",
     "iopub.status.idle": "2025-05-15T16:15:40.313400Z",
     "shell.execute_reply": "2025-05-15T16:15:40.313111Z"
    },
    "papermill": {
     "duration": 0.012608,
     "end_time": "2025-05-15T16:15:40.314151",
     "exception": false,
     "start_time": "2025-05-15T16:15:40.301543",
     "status": "completed"
    },
    "tags": []
   },
   "outputs": [
    {
     "data": {
      "text/plain": [
       "{'BAS': 0.4661796536796537, 'WF1': 0.6645151855252865}"
      ]
     },
     "execution_count": 26,
     "metadata": {},
     "output_type": "execute_result"
    }
   ],
   "source": [
    "metrics_dict"
   ]
  },
  {
   "cell_type": "code",
   "execution_count": 27,
   "id": "342908c9",
   "metadata": {
    "execution": {
     "iopub.execute_input": "2025-05-15T16:15:40.331687Z",
     "iopub.status.busy": "2025-05-15T16:15:40.331499Z",
     "iopub.status.idle": "2025-05-15T16:15:40.338781Z",
     "shell.execute_reply": "2025-05-15T16:15:40.338491Z"
    },
    "papermill": {
     "duration": 0.0171,
     "end_time": "2025-05-15T16:15:40.339539",
     "exception": false,
     "start_time": "2025-05-15T16:15:40.322439",
     "status": "completed"
    },
    "tags": []
   },
   "outputs": [
    {
     "data": {
      "text/html": [
       "<div>\n",
       "<style scoped>\n",
       "    .dataframe tbody tr th:only-of-type {\n",
       "        vertical-align: middle;\n",
       "    }\n",
       "\n",
       "    .dataframe tbody tr th {\n",
       "        vertical-align: top;\n",
       "    }\n",
       "\n",
       "    .dataframe thead th {\n",
       "        text-align: right;\n",
       "    }\n",
       "</style>\n",
       "<table border=\"1\" class=\"dataframe\">\n",
       "  <thead>\n",
       "    <tr style=\"text-align: right;\">\n",
       "      <th></th>\n",
       "      <th>BAS</th>\n",
       "      <th>WF1</th>\n",
       "      <th>split_idx</th>\n",
       "      <th>gene_set_seed</th>\n",
       "      <th>cell_type</th>\n",
       "    </tr>\n",
       "  </thead>\n",
       "  <tbody>\n",
       "    <tr>\n",
       "      <th>0</th>\n",
       "      <td>0.46618</td>\n",
       "      <td>0.664515</td>\n",
       "      <td>3</td>\n",
       "      <td>3</td>\n",
       "      <td>Plasma</td>\n",
       "    </tr>\n",
       "  </tbody>\n",
       "</table>\n",
       "</div>"
      ],
      "text/plain": [
       "       BAS       WF1  split_idx  gene_set_seed cell_type\n",
       "0  0.46618  0.664515          3              3    Plasma"
      ]
     },
     "execution_count": 27,
     "metadata": {},
     "output_type": "execute_result"
    }
   ],
   "source": [
    "metrics_df = pd.DataFrame.from_dict([metrics_dict]).assign(split_idx=TEST_SPLIT_IDX, gene_set_seed=SEED, cell_type=CELL_TYPE)\n",
    "metrics_df"
   ]
  },
  {
   "cell_type": "code",
   "execution_count": 28,
   "id": "a64c8d75",
   "metadata": {
    "execution": {
     "iopub.execute_input": "2025-05-15T16:15:40.374763Z",
     "iopub.status.busy": "2025-05-15T16:15:40.374499Z",
     "iopub.status.idle": "2025-05-15T16:15:40.381940Z",
     "shell.execute_reply": "2025-05-15T16:15:40.381603Z"
    },
    "papermill": {
     "duration": 0.034722,
     "end_time": "2025-05-15T16:15:40.382682",
     "exception": false,
     "start_time": "2025-05-15T16:15:40.347960",
     "status": "completed"
    },
    "tags": []
   },
   "outputs": [],
   "source": [
    "out_dir = here(f'03_downstream_analysis/08_gene_importance/xgboost_external_validation/xgboost_TopN_genes/results_{N_GENES}/metrics')\n",
    "\n",
    "if not os.path.exists(out_dir):\n",
    "    os.makedirs(out_dir)\n",
    "    \n",
    "metrics_df.to_csv(os.path.join(out_dir, f'{CELL_TYPE}_{SEED}_{TEST_SPLIT_IDX}_metrics.zip'))"
   ]
  }
 ],
 "metadata": {
  "kernelspec": {
   "display_name": "Python 3 (ipykernel)",
   "language": "python",
   "name": "python3"
  },
  "language_info": {
   "codemirror_mode": {
    "name": "ipython",
    "version": 3
   },
   "file_extension": ".py",
   "mimetype": "text/x-python",
   "name": "python",
   "nbconvert_exporter": "python",
   "pygments_lexer": "ipython3",
   "version": "3.12.5"
  },
  "papermill": {
   "default_parameters": {},
   "duration": 15.526743,
   "end_time": "2025-05-15T16:15:40.907005",
   "environment_variables": {},
   "exception": null,
   "input_path": "02_xgboost_fitting_external_20genes.ipynb",
   "output_path": "results_20/executed_notebooks/xgboost_fitting_external_CT_Plasma_GS_3_seed3.ipynb",
   "parameters": {
    "CELL_TYPE": "Plasma",
    "SEED": 3,
    "TEST_SPLIT_IDX": 3
   },
   "start_time": "2025-05-15T16:15:25.380262",
   "version": "2.6.0"
  }
 },
 "nbformat": 4,
 "nbformat_minor": 5
}