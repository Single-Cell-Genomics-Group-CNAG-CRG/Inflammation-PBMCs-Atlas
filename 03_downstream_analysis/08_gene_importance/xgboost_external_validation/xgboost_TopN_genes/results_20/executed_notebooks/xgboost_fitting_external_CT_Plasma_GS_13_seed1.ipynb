{
 "cells": [
  {
   "cell_type": "code",
   "execution_count": 1,
   "id": "edbe5f48",
   "metadata": {
    "editable": true,
    "execution": {
     "iopub.execute_input": "2025-05-15T16:15:40.954846Z",
     "iopub.status.busy": "2025-05-15T16:15:40.954497Z",
     "iopub.status.idle": "2025-05-15T16:15:40.957291Z",
     "shell.execute_reply": "2025-05-15T16:15:40.956970Z"
    },
    "papermill": {
     "duration": 0.011915,
     "end_time": "2025-05-15T16:15:40.958194",
     "exception": false,
     "start_time": "2025-05-15T16:15:40.946279",
     "status": "completed"
    },
    "slideshow": {
     "slide_type": ""
    },
    "tags": [
     "parameters"
    ]
   },
   "outputs": [],
   "source": [
    "CELL_TYPE = 'pDC'\n",
    "N_GENES: int = 20\n",
    "SEED = 'shap_studyID' #'disease_NOstudy' 'study_NOdisease' or 'int' or 'shap_studyID'\n",
    "TEST_SPLIT_IDX: int = 1 #[0,4]"
   ]
  },
  {
   "cell_type": "code",
   "execution_count": 2,
   "id": "a7d5824c",
   "metadata": {
    "execution": {
     "iopub.execute_input": "2025-05-15T16:15:40.970541Z",
     "iopub.status.busy": "2025-05-15T16:15:40.970341Z",
     "iopub.status.idle": "2025-05-15T16:15:40.972498Z",
     "shell.execute_reply": "2025-05-15T16:15:40.972169Z"
    },
    "papermill": {
     "duration": 0.009256,
     "end_time": "2025-05-15T16:15:40.973341",
     "exception": false,
     "start_time": "2025-05-15T16:15:40.964085",
     "status": "completed"
    },
    "tags": [
     "injected-parameters"
    ]
   },
   "outputs": [],
   "source": [
    "# Parameters\n",
    "CELL_TYPE = \"Plasma\"\n",
    "SEED = 13\n",
    "TEST_SPLIT_IDX = 1\n"
   ]
  },
  {
   "cell_type": "code",
   "execution_count": 3,
   "id": "30085bb9",
   "metadata": {
    "execution": {
     "iopub.execute_input": "2025-05-15T16:15:40.985765Z",
     "iopub.status.busy": "2025-05-15T16:15:40.985443Z",
     "iopub.status.idle": "2025-05-15T16:15:40.987571Z",
     "shell.execute_reply": "2025-05-15T16:15:40.987242Z"
    },
    "papermill": {
     "duration": 0.009179,
     "end_time": "2025-05-15T16:15:40.988375",
     "exception": false,
     "start_time": "2025-05-15T16:15:40.979196",
     "status": "completed"
    },
    "tags": []
   },
   "outputs": [],
   "source": [
    "N_SPLITS: int = 5\n",
    "N_TRIALS: int = 50"
   ]
  },
  {
   "cell_type": "code",
   "execution_count": 4,
   "id": "f9a45cbd",
   "metadata": {
    "execution": {
     "iopub.execute_input": "2025-05-15T16:15:41.001494Z",
     "iopub.status.busy": "2025-05-15T16:15:41.001035Z",
     "iopub.status.idle": "2025-05-15T16:15:42.403864Z",
     "shell.execute_reply": "2025-05-15T16:15:42.403363Z"
    },
    "papermill": {
     "duration": 1.411213,
     "end_time": "2025-05-15T16:15:42.405144",
     "exception": false,
     "start_time": "2025-05-15T16:15:40.993931",
     "status": "completed"
    },
    "tags": []
   },
   "outputs": [],
   "source": [
    "import os\n",
    "import sys\n",
    "from pyprojroot.here import here\n",
    "import pandas as pd\n",
    "import anndata as ad\n",
    "import numpy as np\n",
    "import math\n",
    "from sklearn.model_selection import StratifiedGroupKFold\n",
    "from sklearn.preprocessing import LabelEncoder\n",
    "from sklearn.metrics import f1_score\n",
    "import matplotlib.pyplot as plt\n",
    "import seaborn as sns\n",
    "from itertools import product\n",
    "from sklearn.metrics import balanced_accuracy_score, f1_score\n",
    "import optuna\n",
    "\n",
    "import joblib\n",
    "import pickle\n",
    "import datetime\n",
    "\n",
    "import collections\n",
    "\n",
    "import xgboost\n",
    "from sklearn.preprocessing import LabelEncoder\n",
    "\n",
    "import scipy.sparse as ssp\n",
    "import joblib\n",
    "\n",
    "from dotenv import load_dotenv"
   ]
  },
  {
   "cell_type": "code",
   "execution_count": 5,
   "id": "9bad1c96",
   "metadata": {
    "execution": {
     "iopub.execute_input": "2025-05-15T16:15:42.417773Z",
     "iopub.status.busy": "2025-05-15T16:15:42.417402Z",
     "iopub.status.idle": "2025-05-15T16:15:42.423310Z",
     "shell.execute_reply": "2025-05-15T16:15:42.422990Z"
    },
    "papermill": {
     "duration": 0.012947,
     "end_time": "2025-05-15T16:15:42.424189",
     "exception": false,
     "start_time": "2025-05-15T16:15:42.411242",
     "status": "completed"
    },
    "tags": []
   },
   "outputs": [
    {
     "data": {
      "text/plain": [
       "True"
      ]
     },
     "execution_count": 5,
     "metadata": {},
     "output_type": "execute_result"
    }
   ],
   "source": [
    "load_dotenv()"
   ]
  },
  {
   "cell_type": "markdown",
   "id": "121c9305",
   "metadata": {
    "papermill": {
     "duration": 0.005591,
     "end_time": "2025-05-15T16:15:42.435644",
     "exception": false,
     "start_time": "2025-05-15T16:15:42.430053",
     "status": "completed"
    },
    "tags": []
   },
   "source": [
    "# LOAD DATASET"
   ]
  },
  {
   "cell_type": "code",
   "execution_count": 6,
   "id": "d0fd9c00",
   "metadata": {
    "execution": {
     "iopub.execute_input": "2025-05-15T16:15:42.447263Z",
     "iopub.status.busy": "2025-05-15T16:15:42.447000Z",
     "iopub.status.idle": "2025-05-15T16:15:42.487354Z",
     "shell.execute_reply": "2025-05-15T16:15:42.486943Z"
    },
    "papermill": {
     "duration": 0.047497,
     "end_time": "2025-05-15T16:15:42.488486",
     "exception": false,
     "start_time": "2025-05-15T16:15:42.440989",
     "status": "completed"
    },
    "tags": []
   },
   "outputs": [],
   "source": [
    "train_adata = ad.read_h5ad(\n",
    "    here(f'03_downstream_analysis/08_gene_importance/xgboost_external_validation/xgboost_TopN_genes/data_cellTypes/EXTERNAL_{CELL_TYPE}.filtered.log1p.h5ad')\n",
    ")"
   ]
  },
  {
   "cell_type": "code",
   "execution_count": 7,
   "id": "645f5a2d",
   "metadata": {
    "execution": {
     "iopub.execute_input": "2025-05-15T16:15:42.500361Z",
     "iopub.status.busy": "2025-05-15T16:15:42.500107Z",
     "iopub.status.idle": "2025-05-15T16:15:42.509777Z",
     "shell.execute_reply": "2025-05-15T16:15:42.509416Z"
    },
    "papermill": {
     "duration": 0.016495,
     "end_time": "2025-05-15T16:15:42.510633",
     "exception": false,
     "start_time": "2025-05-15T16:15:42.494138",
     "status": "completed"
    },
    "tags": []
   },
   "outputs": [
    {
     "name": "stdout",
     "output_type": "stream",
     "text": [
      "['ENSG00000235162' 'ENSG00000110324' 'ENSG00000133639' 'ENSG00000115523'\n",
      " 'ENSG00000158769' 'ENSG00000158517' 'ENSG00000204257' 'ENSG00000147168'\n",
      " 'ENSG00000145220' 'ENSG00000068831' 'ENSG00000100292' 'ENSG00000006125'\n",
      " 'ENSG00000172349' 'ENSG00000186010' 'ENSG00000179094' 'ENSG00000242616'\n",
      " 'ENSG00000143110' 'ENSG00000105374' 'ENSG00000065978' 'ENSG00000155368'\n",
      " 'ENSG00000146457' 'ENSG00000156411' 'ENSG00000168811' 'ENSG00000162772'\n",
      " 'ENSG00000111716' 'ENSG00000179295' 'ENSG00000116171' 'ENSG00000170458'\n",
      " 'ENSG00000118640' 'ENSG00000162704' 'ENSG00000075785' 'ENSG00000188313'\n",
      " 'ENSG00000168894' 'ENSG00000204287' 'ENSG00000122705' 'ENSG00000120738'\n",
      " 'ENSG00000137965' 'ENSG00000164543' 'ENSG00000081059' 'ENSG00000018280'\n",
      " 'ENSG00000164307' 'ENSG00000242574' 'ENSG00000089280' 'ENSG00000107485'\n",
      " 'ENSG00000197746' 'ENSG00000197471' 'ENSG00000118260' 'ENSG00000142208'\n",
      " 'ENSG00000241837' 'ENSG00000170581' 'ENSG00000231925' 'ENSG00000160932'\n",
      " 'ENSG00000106367' 'ENSG00000160712' 'ENSG00000163660' 'ENSG00000131143'\n",
      " 'ENSG00000198846' 'ENSG00000132432' 'ENSG00000100450' 'ENSG00000185591'\n",
      " 'ENSG00000123268' 'ENSG00000171476' 'ENSG00000158869' 'ENSG00000197111'\n",
      " 'ENSG00000175354' 'ENSG00000166888' 'ENSG00000145850' 'ENSG00000159958'\n",
      " 'ENSG00000163563' 'ENSG00000002549' 'ENSG00000135720' 'ENSG00000131788'\n",
      " 'ENSG00000162739' 'ENSG00000104904' 'ENSG00000204592' 'ENSG00000184007'\n",
      " 'ENSG00000155380' 'ENSG00000137100' 'ENSG00000158050' 'ENSG00000275302'\n",
      " 'ENSG00000120742' 'ENSG00000168610' 'ENSG00000115073' 'ENSG00000127022'\n",
      " 'ENSG00000092820' 'ENSG00000138160' 'ENSG00000091409' 'ENSG00000089327'\n",
      " 'ENSG00000228474' 'ENSG00000048462' 'ENSG00000171700' 'ENSG00000104964'\n",
      " 'ENSG00000134352' 'ENSG00000197872' 'ENSG00000164308' 'ENSG00000205542'\n",
      " 'ENSG00000108561' 'ENSG00000138674' 'ENSG00000171223' 'ENSG00000038427'\n",
      " 'ENSG00000163191' 'ENSG00000182287' 'ENSG00000138778' 'ENSG00000182866'\n",
      " 'ENSG00000141526' 'ENSG00000197956' 'ENSG00000113615']\n"
     ]
    }
   ],
   "source": [
    "if SEED != 'all':\n",
    "    gene_subset = np.load(here(f'03_downstream_analysis/08_gene_importance/xgboost_external_validation/shap_gene_selection/gene_subsets_{N_GENES}/{CELL_TYPE}_{SEED}.npy'), allow_pickle=True)\n",
    "    train_adata = train_adata[:,gene_subset]\n",
    "    print(gene_subset)\n",
    "elif SEED == 'all':\n",
    "    print('Using all genes')\n",
    "else:\n",
    "    raise ValueError()"
   ]
  },
  {
   "cell_type": "code",
   "execution_count": 8,
   "id": "a52c3472",
   "metadata": {
    "execution": {
     "iopub.execute_input": "2025-05-15T16:15:42.522404Z",
     "iopub.status.busy": "2025-05-15T16:15:42.522186Z",
     "iopub.status.idle": "2025-05-15T16:15:42.525140Z",
     "shell.execute_reply": "2025-05-15T16:15:42.524828Z"
    },
    "papermill": {
     "duration": 0.009723,
     "end_time": "2025-05-15T16:15:42.525971",
     "exception": false,
     "start_time": "2025-05-15T16:15:42.516248",
     "status": "completed"
    },
    "tags": []
   },
   "outputs": [
    {
     "data": {
      "text/plain": [
       "(542, 107)"
      ]
     },
     "execution_count": 8,
     "metadata": {},
     "output_type": "execute_result"
    }
   ],
   "source": [
    "train_adata.shape"
   ]
  },
  {
   "cell_type": "code",
   "execution_count": 9,
   "id": "2a877520",
   "metadata": {
    "execution": {
     "iopub.execute_input": "2025-05-15T16:15:42.538057Z",
     "iopub.status.busy": "2025-05-15T16:15:42.537802Z",
     "iopub.status.idle": "2025-05-15T16:15:42.541279Z",
     "shell.execute_reply": "2025-05-15T16:15:42.540969Z"
    },
    "papermill": {
     "duration": 0.010435,
     "end_time": "2025-05-15T16:15:42.542113",
     "exception": false,
     "start_time": "2025-05-15T16:15:42.531678",
     "status": "completed"
    },
    "tags": []
   },
   "outputs": [
    {
     "data": {
      "text/plain": [
       "['RA', 'COVID', 'healthy', 'HIV', 'cirrhosis', 'CD', 'SLE', 'sepsis']\n",
       "Categories (8, object): ['CD', 'COVID', 'HIV', 'RA', 'SLE', 'cirrhosis', 'healthy', 'sepsis']"
      ]
     },
     "execution_count": 9,
     "metadata": {},
     "output_type": "execute_result"
    }
   ],
   "source": [
    "train_adata.obs.disease.unique()"
   ]
  },
  {
   "cell_type": "code",
   "execution_count": 10,
   "id": "d08058d3",
   "metadata": {
    "execution": {
     "iopub.execute_input": "2025-05-15T16:15:42.554298Z",
     "iopub.status.busy": "2025-05-15T16:15:42.554034Z",
     "iopub.status.idle": "2025-05-15T16:15:42.557690Z",
     "shell.execute_reply": "2025-05-15T16:15:42.557357Z"
    },
    "papermill": {
     "duration": 0.010584,
     "end_time": "2025-05-15T16:15:42.558556",
     "exception": false,
     "start_time": "2025-05-15T16:15:42.547972",
     "status": "completed"
    },
    "tags": []
   },
   "outputs": [
    {
     "data": {
      "text/plain": [
       "['SCGT00val_I0364_T0', 'SCGT00val_I036019_T0', 'SCGT00val_I036028_T0', 'SCGT00val_I036024_T0', 'SCGT00val_I036016_T0', ..., '10XGenomics_10XHC2_T0', '10XGenomics_10XHC3_T0', '10XGenomics_10XHC5_T0', '10XGenomics_10XHC7_T0', '10XGenomics_10XHC8_T0']\n",
       "Length: 74\n",
       "Categories (74, object): ['10XGenomics_10XHC1_T0', '10XGenomics_10XHC2_T0', '10XGenomics_10XHC3_T0', '10XGenomics_10XHC4_T0', ..., 'Savage2021_BRISL6_T0', 'Savage2021_BRISL7_T0', 'Savage2021_PIDA_T0', 'Savage2021_PIDB_T0']"
      ]
     },
     "execution_count": 10,
     "metadata": {},
     "output_type": "execute_result"
    }
   ],
   "source": [
    "train_adata.obs.sampleID.unique()"
   ]
  },
  {
   "cell_type": "code",
   "execution_count": 11,
   "id": "51f920dc",
   "metadata": {
    "execution": {
     "iopub.execute_input": "2025-05-15T16:15:42.570467Z",
     "iopub.status.busy": "2025-05-15T16:15:42.570210Z",
     "iopub.status.idle": "2025-05-15T16:15:42.600740Z",
     "shell.execute_reply": "2025-05-15T16:15:42.600335Z"
    },
    "papermill": {
     "duration": 0.037437,
     "end_time": "2025-05-15T16:15:42.601577",
     "exception": false,
     "start_time": "2025-05-15T16:15:42.564140",
     "status": "completed"
    },
    "tags": []
   },
   "outputs": [],
   "source": [
    "all_idxs = np.arange(train_adata.obs.shape[0])\n",
    "left_out_splits = [s[1] for s in StratifiedGroupKFold(n_splits=N_SPLITS).split(all_idxs, train_adata.obs.disease, train_adata.obs.sampleID)]"
   ]
  },
  {
   "cell_type": "code",
   "execution_count": 12,
   "id": "23e4c12f",
   "metadata": {
    "execution": {
     "iopub.execute_input": "2025-05-15T16:15:42.614947Z",
     "iopub.status.busy": "2025-05-15T16:15:42.614491Z",
     "iopub.status.idle": "2025-05-15T16:15:42.617817Z",
     "shell.execute_reply": "2025-05-15T16:15:42.617501Z"
    },
    "papermill": {
     "duration": 0.010975,
     "end_time": "2025-05-15T16:15:42.618635",
     "exception": false,
     "start_time": "2025-05-15T16:15:42.607660",
     "status": "completed"
    },
    "tags": []
   },
   "outputs": [
    {
     "data": {
      "text/plain": [
       "([0, 3, 4], 2, 1)"
      ]
     },
     "execution_count": 12,
     "metadata": {},
     "output_type": "execute_result"
    }
   ],
   "source": [
    "TRAIN_SPLIT_IDXS = [0,1,2,3,4]\n",
    "VAL_SPLIT_IDX = (TEST_SPLIT_IDX + 1) % 5\n",
    "TRAIN_SPLIT_IDXS.remove(TEST_SPLIT_IDX)\n",
    "TRAIN_SPLIT_IDXS.remove(VAL_SPLIT_IDX)\n",
    "TRAIN_SPLIT_IDXS, VAL_SPLIT_IDX, TEST_SPLIT_IDX"
   ]
  },
  {
   "cell_type": "code",
   "execution_count": 13,
   "id": "12b98218",
   "metadata": {
    "execution": {
     "iopub.execute_input": "2025-05-15T16:15:42.631249Z",
     "iopub.status.busy": "2025-05-15T16:15:42.630886Z",
     "iopub.status.idle": "2025-05-15T16:15:42.633206Z",
     "shell.execute_reply": "2025-05-15T16:15:42.632900Z"
    },
    "papermill": {
     "duration": 0.009476,
     "end_time": "2025-05-15T16:15:42.634042",
     "exception": false,
     "start_time": "2025-05-15T16:15:42.624566",
     "status": "completed"
    },
    "tags": []
   },
   "outputs": [],
   "source": [
    "train_idxs = np.concatenate([left_out_splits[idx] for idx in TRAIN_SPLIT_IDXS])\n",
    "val_idxs = left_out_splits[VAL_SPLIT_IDX]\n",
    "test_idxs = left_out_splits[TEST_SPLIT_IDX]"
   ]
  },
  {
   "cell_type": "markdown",
   "id": "fbe53bd7",
   "metadata": {
    "papermill": {
     "duration": 0.005806,
     "end_time": "2025-05-15T16:15:42.645587",
     "exception": false,
     "start_time": "2025-05-15T16:15:42.639781",
     "status": "completed"
    },
    "tags": []
   },
   "source": [
    "### SUBSET DATASET INTO TRAIN/TEST/VAL SPLITS"
   ]
  },
  {
   "cell_type": "code",
   "execution_count": 14,
   "id": "e8c6b2e1",
   "metadata": {
    "execution": {
     "iopub.execute_input": "2025-05-15T16:15:42.658218Z",
     "iopub.status.busy": "2025-05-15T16:15:42.657971Z",
     "iopub.status.idle": "2025-05-15T16:15:42.663957Z",
     "shell.execute_reply": "2025-05-15T16:15:42.663650Z"
    },
    "papermill": {
     "duration": 0.013143,
     "end_time": "2025-05-15T16:15:42.664769",
     "exception": false,
     "start_time": "2025-05-15T16:15:42.651626",
     "status": "completed"
    },
    "tags": []
   },
   "outputs": [
    {
     "data": {
      "text/plain": [
       "((333, 107), (107, 107), (102, 107))"
      ]
     },
     "execution_count": 14,
     "metadata": {},
     "output_type": "execute_result"
    }
   ],
   "source": [
    "X_train = train_adata.X[train_idxs]\n",
    "X_test = train_adata.X[test_idxs]\n",
    "X_val = train_adata.X[val_idxs]\n",
    "X_train.shape, X_test.shape, X_val.shape"
   ]
  },
  {
   "cell_type": "code",
   "execution_count": 15,
   "id": "56e37b14",
   "metadata": {
    "execution": {
     "iopub.execute_input": "2025-05-15T16:15:42.679573Z",
     "iopub.status.busy": "2025-05-15T16:15:42.679267Z",
     "iopub.status.idle": "2025-05-15T16:15:42.684080Z",
     "shell.execute_reply": "2025-05-15T16:15:42.683771Z"
    },
    "papermill": {
     "duration": 0.014111,
     "end_time": "2025-05-15T16:15:42.684941",
     "exception": false,
     "start_time": "2025-05-15T16:15:42.670830",
     "status": "completed"
    },
    "tags": []
   },
   "outputs": [
    {
     "data": {
      "text/plain": [
       "((333,), (107,), (102,))"
      ]
     },
     "execution_count": 15,
     "metadata": {},
     "output_type": "execute_result"
    }
   ],
   "source": [
    "y_train = train_adata.obs.iloc[train_idxs].disease.values.astype(str)\n",
    "y_test = train_adata.obs.iloc[test_idxs].disease.values.astype(str)\n",
    "y_val = train_adata.obs.iloc[val_idxs].disease.values.astype(str)\n",
    "y_train.shape, y_test.shape, y_val.shape"
   ]
  },
  {
   "cell_type": "code",
   "execution_count": 16,
   "id": "1f05241f",
   "metadata": {
    "execution": {
     "iopub.execute_input": "2025-05-15T16:15:42.697241Z",
     "iopub.status.busy": "2025-05-15T16:15:42.697007Z",
     "iopub.status.idle": "2025-05-15T16:15:42.699815Z",
     "shell.execute_reply": "2025-05-15T16:15:42.699454Z"
    },
    "papermill": {
     "duration": 0.009929,
     "end_time": "2025-05-15T16:15:42.700735",
     "exception": false,
     "start_time": "2025-05-15T16:15:42.690806",
     "status": "completed"
    },
    "tags": []
   },
   "outputs": [],
   "source": [
    "lenc = LabelEncoder()\n",
    "y_train_enc = lenc.fit_transform(y_train)\n",
    "y_val_enc = lenc.transform(y_val)\n",
    "y_test_enc = lenc.transform(y_test)"
   ]
  },
  {
   "cell_type": "markdown",
   "id": "6bc4da76",
   "metadata": {
    "papermill": {
     "duration": 0.005968,
     "end_time": "2025-05-15T16:15:42.712713",
     "exception": false,
     "start_time": "2025-05-15T16:15:42.706745",
     "status": "completed"
    },
    "tags": []
   },
   "source": [
    "### GENERATE F1 "
   ]
  },
  {
   "cell_type": "code",
   "execution_count": 17,
   "id": "cb01ea3d",
   "metadata": {
    "execution": {
     "iopub.execute_input": "2025-05-15T16:15:42.725892Z",
     "iopub.status.busy": "2025-05-15T16:15:42.725424Z",
     "iopub.status.idle": "2025-05-15T16:15:42.727809Z",
     "shell.execute_reply": "2025-05-15T16:15:42.727490Z"
    },
    "papermill": {
     "duration": 0.009775,
     "end_time": "2025-05-15T16:15:42.728632",
     "exception": false,
     "start_time": "2025-05-15T16:15:42.718857",
     "status": "completed"
    },
    "tags": []
   },
   "outputs": [],
   "source": [
    "def custom_f1_score(y_true, y_pred):\n",
    "    return -f1_score(y_true, y_pred.argmax(1), average='weighted')"
   ]
  },
  {
   "cell_type": "code",
   "execution_count": 18,
   "id": "ff683310",
   "metadata": {
    "execution": {
     "iopub.execute_input": "2025-05-15T16:15:42.741667Z",
     "iopub.status.busy": "2025-05-15T16:15:42.741358Z",
     "iopub.status.idle": "2025-05-15T16:15:42.745291Z",
     "shell.execute_reply": "2025-05-15T16:15:42.744991Z"
    },
    "papermill": {
     "duration": 0.011439,
     "end_time": "2025-05-15T16:15:42.746121",
     "exception": false,
     "start_time": "2025-05-15T16:15:42.734682",
     "status": "completed"
    },
    "tags": []
   },
   "outputs": [],
   "source": [
    "eval_metric=custom_f1_score\n",
    "eval_metric_name='custom_f1_score'\n",
    "\n",
    "def objective(trial):\n",
    "    params = {\n",
    "        'n_estimators': 1500,\n",
    "        'max_depth': trial.suggest_int('max_depth', 3, 20),\n",
    "        'min_child_weight': trial.suggest_int('min_child_weight', 1, 250),\n",
    "        'subsample': trial.suggest_float('subsample', 0.1, 1.0),\n",
    "        'colsample_bynode': trial.suggest_float('colsample_bynode', 0.1, 1.0),\n",
    "        'learning_rate': trial.suggest_float('learning_rate', 1e-3, 5e-1, log=True),\n",
    "    }\n",
    "    pruning_callback = optuna.integration.XGBoostPruningCallback(trial, f'validation_0-{eval_metric_name}')\n",
    "    es_callback = xgboost.callback.EarlyStopping(20, min_delta=0.001)\n",
    "    xgb = xgboost.XGBClassifier(\n",
    "        eval_metric=eval_metric,\n",
    "        callbacks=[pruning_callback, es_callback],\n",
    "        n_jobs=5,\n",
    "        **params\n",
    "    )\n",
    "    xgb.fit(\n",
    "        X_train, \n",
    "        y_train_enc, \n",
    "        verbose=0,\n",
    "        eval_set=[(X_val, y_val_enc)],\n",
    "    )\n",
    "    trial.set_user_attr('best_iteration', xgb.best_iteration)\n",
    "\n",
    "    return xgb.best_score"
   ]
  },
  {
   "cell_type": "code",
   "execution_count": 19,
   "id": "9521bfcb",
   "metadata": {
    "execution": {
     "iopub.execute_input": "2025-05-15T16:15:42.759427Z",
     "iopub.status.busy": "2025-05-15T16:15:42.759029Z",
     "iopub.status.idle": "2025-05-15T16:15:53.805119Z",
     "shell.execute_reply": "2025-05-15T16:15:53.804695Z"
    },
    "papermill": {
     "duration": 11.054089,
     "end_time": "2025-05-15T16:15:53.806137",
     "exception": false,
     "start_time": "2025-05-15T16:15:42.752048",
     "status": "completed"
    },
    "scrolled": true,
    "tags": []
   },
   "outputs": [
    {
     "name": "stderr",
     "output_type": "stream",
     "text": [
      "[I 2025-05-15 18:15:42,760] A new study created in memory with name: no-name-6d70a93e-bced-4d49-88df-4074f0698002\n"
     ]
    },
    {
     "name": "stderr",
     "output_type": "stream",
     "text": [
      "[I 2025-05-15 18:15:42,826] Trial 0 finished with value: -0.03313 and parameters: {'max_depth': 9, 'min_child_weight': 238, 'subsample': 0.7587945476302645, 'colsample_bynode': 0.6387926357773329, 'learning_rate': 0.0026368755339723046}. Best is trial 0 with value: -0.03313.\n"
     ]
    },
    {
     "name": "stderr",
     "output_type": "stream",
     "text": [
      "[I 2025-05-15 18:15:43,228] Trial 1 finished with value: -0.371297 and parameters: {'max_depth': 5, 'min_child_weight': 15, 'subsample': 0.8795585311974417, 'colsample_bynode': 0.6410035105688879, 'learning_rate': 0.08148293210105287}. Best is trial 1 with value: -0.371297.\n"
     ]
    },
    {
     "name": "stderr",
     "output_type": "stream",
     "text": [
      "[I 2025-05-15 18:15:43,372] Trial 2 finished with value: -0.03313 and parameters: {'max_depth': 3, 'min_child_weight': 243, 'subsample': 0.8491983767203796, 'colsample_bynode': 0.29110519961044856, 'learning_rate': 0.003095566460242371}. Best is trial 1 with value: -0.371297.\n"
     ]
    },
    {
     "name": "stderr",
     "output_type": "stream",
     "text": [
      "[I 2025-05-15 18:15:43,503] Trial 3 finished with value: -0.03313 and parameters: {'max_depth': 6, 'min_child_weight': 77, 'subsample': 0.5722807884690141, 'colsample_bynode': 0.48875051677790415, 'learning_rate': 0.006109683510122491}. Best is trial 1 with value: -0.371297.\n"
     ]
    },
    {
     "name": "stderr",
     "output_type": "stream",
     "text": [
      "[I 2025-05-15 18:15:43,658] Trial 4 finished with value: -0.03313 and parameters: {'max_depth': 14, 'min_child_weight': 35, 'subsample': 0.3629301836816964, 'colsample_bynode': 0.4297256589643226, 'learning_rate': 0.01701841881702917}. Best is trial 1 with value: -0.371297.\n"
     ]
    },
    {
     "name": "stderr",
     "output_type": "stream",
     "text": [
      "[I 2025-05-15 18:15:43,797] Trial 5 finished with value: -0.03313 and parameters: {'max_depth': 17, 'min_child_weight': 50, 'subsample': 0.5628109945722505, 'colsample_bynode': 0.6331731119758383, 'learning_rate': 0.0013346527038305934}. Best is trial 1 with value: -0.371297.\n"
     ]
    },
    {
     "name": "stderr",
     "output_type": "stream",
     "text": [
      "[I 2025-05-15 18:15:43,967] Trial 6 finished with value: -0.03313 and parameters: {'max_depth': 13, 'min_child_weight': 43, 'subsample': 0.1585464336867516, 'colsample_bynode': 0.9539969835279999, 'learning_rate': 0.4038423798071558}. Best is trial 1 with value: -0.371297.\n"
     ]
    },
    {
     "name": "stderr",
     "output_type": "stream",
     "text": [
      "[I 2025-05-15 18:15:44,113] Trial 7 finished with value: -0.03313 and parameters: {'max_depth': 17, 'min_child_weight': 77, 'subsample': 0.1879049026057455, 'colsample_bynode': 0.7158097238609412, 'learning_rate': 0.015415527060141935}. Best is trial 1 with value: -0.371297.\n"
     ]
    },
    {
     "name": "stderr",
     "output_type": "stream",
     "text": [
      "[I 2025-05-15 18:15:44,271] Trial 8 finished with value: -0.03313 and parameters: {'max_depth': 5, 'min_child_weight': 124, 'subsample': 0.13094966900369656, 'colsample_bynode': 0.9183883618709039, 'learning_rate': 0.004993895014755658}. Best is trial 1 with value: -0.371297.\n"
     ]
    },
    {
     "name": "stderr",
     "output_type": "stream",
     "text": [
      "[I 2025-05-15 18:15:44,421] Trial 9 finished with value: -0.03313 and parameters: {'max_depth': 14, 'min_child_weight': 78, 'subsample': 0.5680612190600297, 'colsample_bynode': 0.5920392514089517, 'learning_rate': 0.0031543990308330965}. Best is trial 1 with value: -0.371297.\n"
     ]
    },
    {
     "name": "stderr",
     "output_type": "stream",
     "text": [
      "[I 2025-05-15 18:15:44,849] Trial 10 finished with value: -0.508771 and parameters: {'max_depth': 9, 'min_child_weight': 2, 'subsample': 0.9725833997090791, 'colsample_bynode': 0.11616568805333755, 'learning_rate': 0.17780618353487967}. Best is trial 10 with value: -0.508771.\n"
     ]
    },
    {
     "name": "stderr",
     "output_type": "stream",
     "text": [
      "[I 2025-05-15 18:15:45,184] Trial 11 finished with value: -0.425657 and parameters: {'max_depth': 9, 'min_child_weight': 4, 'subsample': 0.9818290990185045, 'colsample_bynode': 0.17702656156719, 'learning_rate': 0.11568531411766632}. Best is trial 10 with value: -0.508771.\n"
     ]
    },
    {
     "name": "stderr",
     "output_type": "stream",
     "text": [
      "[I 2025-05-15 18:15:45,530] Trial 12 finished with value: -0.456938 and parameters: {'max_depth': 9, 'min_child_weight': 2, 'subsample': 0.9762317723681219, 'colsample_bynode': 0.1303670507685675, 'learning_rate': 0.14353293664472047}. Best is trial 10 with value: -0.508771.\n"
     ]
    },
    {
     "name": "stderr",
     "output_type": "stream",
     "text": [
      "[I 2025-05-15 18:15:45,689] Trial 13 finished with value: -0.03313 and parameters: {'max_depth': 10, 'min_child_weight': 173, 'subsample': 0.9990393512605992, 'colsample_bynode': 0.10388397775802007, 'learning_rate': 0.37291254806324053}. Best is trial 10 with value: -0.508771.\n"
     ]
    },
    {
     "name": "stderr",
     "output_type": "stream",
     "text": [
      "[I 2025-05-15 18:15:45,845] Trial 14 finished with value: -0.03313 and parameters: {'max_depth': 7, 'min_child_weight': 132, 'subsample': 0.7251427075087294, 'colsample_bynode': 0.2827065087684573, 'learning_rate': 0.07805789099500472}. Best is trial 10 with value: -0.508771.\n"
     ]
    },
    {
     "name": "stderr",
     "output_type": "stream",
     "text": [
      "[I 2025-05-15 18:15:46,385] Trial 15 finished with value: -0.45813 and parameters: {'max_depth': 20, 'min_child_weight': 2, 'subsample': 0.7161698798894325, 'colsample_bynode': 0.31554979471905614, 'learning_rate': 0.19723736175781964}. Best is trial 10 with value: -0.508771.\n"
     ]
    },
    {
     "name": "stderr",
     "output_type": "stream",
     "text": [
      "[I 2025-05-15 18:15:46,555] Trial 16 finished with value: -0.03313 and parameters: {'max_depth': 20, 'min_child_weight': 125, 'subsample': 0.6730263351162008, 'colsample_bynode': 0.3231598967437774, 'learning_rate': 0.03981038544023995}. Best is trial 10 with value: -0.508771.\n"
     ]
    },
    {
     "name": "stderr",
     "output_type": "stream",
     "text": [
      "[I 2025-05-15 18:15:46,708] Trial 17 finished with value: -0.03313 and parameters: {'max_depth': 20, 'min_child_weight': 183, 'subsample': 0.37310167079970213, 'colsample_bynode': 0.3825598252559864, 'learning_rate': 0.21642622102480416}. Best is trial 10 with value: -0.508771.\n"
     ]
    },
    {
     "name": "stderr",
     "output_type": "stream",
     "text": [
      "[I 2025-05-15 18:15:46,876] Trial 18 pruned. Trial was pruned at iteration 21.\n"
     ]
    },
    {
     "name": "stderr",
     "output_type": "stream",
     "text": [
      "[I 2025-05-15 18:15:47,041] Trial 19 finished with value: -0.03313 and parameters: {'max_depth': 17, 'min_child_weight': 102, 'subsample': 0.6615650030016702, 'colsample_bynode': 0.22953128026070213, 'learning_rate': 0.23429781155006768}. Best is trial 10 with value: -0.508771.\n"
     ]
    },
    {
     "name": "stderr",
     "output_type": "stream",
     "text": [
      "[I 2025-05-15 18:15:47,201] Trial 20 finished with value: -0.03313 and parameters: {'max_depth': 15, 'min_child_weight': 60, 'subsample': 0.4281387178513411, 'colsample_bynode': 0.39955810525382657, 'learning_rate': 0.052276361631478065}. Best is trial 10 with value: -0.508771.\n"
     ]
    },
    {
     "name": "stderr",
     "output_type": "stream",
     "text": [
      "[I 2025-05-15 18:15:47,692] Trial 21 finished with value: -0.492909 and parameters: {'max_depth': 11, 'min_child_weight': 1, 'subsample': 0.9276253373351508, 'colsample_bynode': 0.10240060689893642, 'learning_rate': 0.1625775610263898}. Best is trial 10 with value: -0.508771.\n"
     ]
    },
    {
     "name": "stderr",
     "output_type": "stream",
     "text": [
      "[I 2025-05-15 18:15:47,869] Trial 22 finished with value: -0.36882 and parameters: {'max_depth': 11, 'min_child_weight': 23, 'subsample': 0.9023762680758152, 'colsample_bynode': 0.10403020018172231, 'learning_rate': 0.19290205918380313}. Best is trial 10 with value: -0.508771.\n"
     ]
    },
    {
     "name": "stderr",
     "output_type": "stream",
     "text": [
      "[I 2025-05-15 18:15:48,045] Trial 23 pruned. Trial was pruned at iteration 21.\n"
     ]
    },
    {
     "name": "stderr",
     "output_type": "stream",
     "text": [
      "[I 2025-05-15 18:15:48,341] Trial 24 pruned. Trial was pruned at iteration 21.\n"
     ]
    },
    {
     "name": "stderr",
     "output_type": "stream",
     "text": [
      "[I 2025-05-15 18:15:48,500] Trial 25 finished with value: -0.03313 and parameters: {'max_depth': 11, 'min_child_weight': 61, 'subsample': 0.6667518185969619, 'colsample_bynode': 0.2451814715709026, 'learning_rate': 0.05776956315722726}. Best is trial 10 with value: -0.508771.\n"
     ]
    },
    {
     "name": "stderr",
     "output_type": "stream",
     "text": [
      "[I 2025-05-15 18:15:48,674] Trial 26 pruned. Trial was pruned at iteration 21.\n"
     ]
    },
    {
     "name": "stderr",
     "output_type": "stream",
     "text": [
      "[I 2025-05-15 18:15:48,832] Trial 27 finished with value: -0.03313 and parameters: {'max_depth': 15, 'min_child_weight': 101, 'subsample': 0.7476914676494186, 'colsample_bynode': 0.49066162271384717, 'learning_rate': 0.25910946361294857}. Best is trial 10 with value: -0.508771.\n"
     ]
    },
    {
     "name": "stderr",
     "output_type": "stream",
     "text": [
      "[I 2025-05-15 18:15:49,001] Trial 28 finished with value: -0.03313 and parameters: {'max_depth': 18, 'min_child_weight': 161, 'subsample': 0.8166065174447603, 'colsample_bynode': 0.8094643907024937, 'learning_rate': 0.49373552554924544}. Best is trial 10 with value: -0.508771.\n"
     ]
    },
    {
     "name": "stderr",
     "output_type": "stream",
     "text": [
      "[I 2025-05-15 18:15:49,165] Trial 29 finished with value: -0.03313 and parameters: {'max_depth': 10, 'min_child_weight': 217, 'subsample': 0.47627258747427875, 'colsample_bynode': 0.15070342690740393, 'learning_rate': 0.15810149889898087}. Best is trial 10 with value: -0.508771.\n"
     ]
    },
    {
     "name": "stderr",
     "output_type": "stream",
     "text": [
      "[I 2025-05-15 18:15:49,330] Trial 30 finished with value: -0.03313 and parameters: {'max_depth': 3, 'min_child_weight': 220, 'subsample': 0.7626637791897475, 'colsample_bynode': 0.2526095426745804, 'learning_rate': 0.08706757351599964}. Best is trial 10 with value: -0.508771.\n"
     ]
    },
    {
     "name": "stderr",
     "output_type": "stream",
     "text": [
      "[I 2025-05-15 18:15:49,586] Trial 31 pruned. Trial was pruned at iteration 21.\n"
     ]
    },
    {
     "name": "stderr",
     "output_type": "stream",
     "text": [
      "[I 2025-05-15 18:15:49,766] Trial 32 pruned. Trial was pruned at iteration 21.\n"
     ]
    },
    {
     "name": "stderr",
     "output_type": "stream",
     "text": [
      "[I 2025-05-15 18:15:50,070] Trial 33 pruned. Trial was pruned at iteration 21.\n"
     ]
    },
    {
     "name": "stderr",
     "output_type": "stream",
     "text": [
      "[I 2025-05-15 18:15:50,252] Trial 34 pruned. Trial was pruned at iteration 21.\n"
     ]
    },
    {
     "name": "stderr",
     "output_type": "stream",
     "text": [
      "[I 2025-05-15 18:15:50,405] Trial 35 pruned. Trial was pruned at iteration 21.\n"
     ]
    },
    {
     "name": "stderr",
     "output_type": "stream",
     "text": [
      "[I 2025-05-15 18:15:50,601] Trial 36 pruned. Trial was pruned at iteration 21.\n"
     ]
    },
    {
     "name": "stderr",
     "output_type": "stream",
     "text": [
      "[I 2025-05-15 18:15:50,779] Trial 37 finished with value: -0.284049 and parameters: {'max_depth': 6, 'min_child_weight': 33, 'subsample': 0.9489697202882197, 'colsample_bynode': 0.27630209501696085, 'learning_rate': 0.058033638749023744}. Best is trial 10 with value: -0.508771.\n"
     ]
    },
    {
     "name": "stderr",
     "output_type": "stream",
     "text": [
      "[I 2025-05-15 18:15:50,936] Trial 38 finished with value: -0.03313 and parameters: {'max_depth': 11, 'min_child_weight': 74, 'subsample': 0.25720599485408774, 'colsample_bynode': 0.21183368089857124, 'learning_rate': 0.2661276919180792}. Best is trial 10 with value: -0.508771.\n"
     ]
    },
    {
     "name": "stderr",
     "output_type": "stream",
     "text": [
      "[I 2025-05-15 18:15:51,117] Trial 39 pruned. Trial was pruned at iteration 21.\n"
     ]
    },
    {
     "name": "stderr",
     "output_type": "stream",
     "text": [
      "[I 2025-05-15 18:15:51,307] Trial 40 pruned. Trial was pruned at iteration 21.\n"
     ]
    },
    {
     "name": "stderr",
     "output_type": "stream",
     "text": [
      "[I 2025-05-15 18:15:51,711] Trial 41 finished with value: -0.464149 and parameters: {'max_depth': 9, 'min_child_weight': 2, 'subsample': 0.9677614957015229, 'colsample_bynode': 0.19037633361977893, 'learning_rate': 0.1508417884848605}. Best is trial 10 with value: -0.508771.\n"
     ]
    },
    {
     "name": "stderr",
     "output_type": "stream",
     "text": [
      "[I 2025-05-15 18:15:51,917] Trial 42 pruned. Trial was pruned at iteration 21.\n"
     ]
    },
    {
     "name": "stderr",
     "output_type": "stream",
     "text": [
      "[I 2025-05-15 18:15:52,093] Trial 43 pruned. Trial was pruned at iteration 21.\n"
     ]
    },
    {
     "name": "stderr",
     "output_type": "stream",
     "text": [
      "[I 2025-05-15 18:15:52,587] Trial 44 finished with value: -0.508653 and parameters: {'max_depth': 8, 'min_child_weight': 1, 'subsample': 0.7872042392151724, 'colsample_bynode': 0.19133030577769988, 'learning_rate': 0.32220192036362405}. Best is trial 10 with value: -0.508771.\n"
     ]
    },
    {
     "name": "stderr",
     "output_type": "stream",
     "text": [
      "[I 2025-05-15 18:15:52,757] Trial 45 pruned. Trial was pruned at iteration 21.\n"
     ]
    },
    {
     "name": "stderr",
     "output_type": "stream",
     "text": [
      "[I 2025-05-15 18:15:52,972] Trial 46 pruned. Trial was pruned at iteration 21.\n"
     ]
    },
    {
     "name": "stderr",
     "output_type": "stream",
     "text": [
      "[I 2025-05-15 18:15:53,311] Trial 47 finished with value: -0.486098 and parameters: {'max_depth': 12, 'min_child_weight': 1, 'subsample': 0.898958220359372, 'colsample_bynode': 0.19394552162700285, 'learning_rate': 0.3572012807358339}. Best is trial 10 with value: -0.508771.\n"
     ]
    },
    {
     "name": "stderr",
     "output_type": "stream",
     "text": [
      "[I 2025-05-15 18:15:53,489] Trial 48 pruned. Trial was pruned at iteration 21.\n"
     ]
    },
    {
     "name": "stderr",
     "output_type": "stream",
     "text": [
      "[I 2025-05-15 18:15:53,718] Trial 49 pruned. Trial was pruned at iteration 21.\n"
     ]
    }
   ],
   "source": [
    "sampler = optuna.samplers.TPESampler(seed=42)\n",
    "study = optuna.create_study(direction='minimize', sampler=sampler)\n",
    "study.optimize(objective, n_trials=N_TRIALS, gc_after_trial=True)"
   ]
  },
  {
   "cell_type": "code",
   "execution_count": 20,
   "id": "9702c934",
   "metadata": {
    "execution": {
     "iopub.execute_input": "2025-05-15T16:15:53.825303Z",
     "iopub.status.busy": "2025-05-15T16:15:53.824956Z",
     "iopub.status.idle": "2025-05-15T16:15:53.860965Z",
     "shell.execute_reply": "2025-05-15T16:15:53.860654Z"
    },
    "papermill": {
     "duration": 0.046141,
     "end_time": "2025-05-15T16:15:53.861844",
     "exception": false,
     "start_time": "2025-05-15T16:15:53.815703",
     "status": "completed"
    },
    "tags": []
   },
   "outputs": [
    {
     "data": {
      "text/plain": [
       "['/scratch_isilon/groups/singlecell/shared/projects/Inflammation-PBMCs-Atlas/03_downstream_analysis/08_gene_importance/xgboost_external_validation/xgboost_TopN_genes/results_20/study/Plasma_13_1_xgboost.pkl']"
      ]
     },
     "execution_count": 20,
     "metadata": {},
     "output_type": "execute_result"
    }
   ],
   "source": [
    "out_dir = here(f'03_downstream_analysis/08_gene_importance/xgboost_external_validation/xgboost_TopN_genes/results_{N_GENES}/study')\n",
    "\n",
    "if not os.path.exists(out_dir):\n",
    "    os.makedirs(out_dir)\n",
    "    \n",
    "joblib.dump(study,os.path.join(out_dir, f'{CELL_TYPE}_{SEED}_{TEST_SPLIT_IDX}_xgboost.pkl'))"
   ]
  },
  {
   "cell_type": "code",
   "execution_count": 21,
   "id": "7e983867",
   "metadata": {
    "execution": {
     "iopub.execute_input": "2025-05-15T16:15:53.879407Z",
     "iopub.status.busy": "2025-05-15T16:15:53.878951Z",
     "iopub.status.idle": "2025-05-15T16:15:54.127269Z",
     "shell.execute_reply": "2025-05-15T16:15:54.126879Z"
    },
    "papermill": {
     "duration": 0.258304,
     "end_time": "2025-05-15T16:15:54.128339",
     "exception": false,
     "start_time": "2025-05-15T16:15:53.870035",
     "status": "completed"
    },
    "tags": []
   },
   "outputs": [
    {
     "data": {
      "text/html": [
       "<style>#sk-container-id-1 {\n",
       "  /* Definition of color scheme common for light and dark mode */\n",
       "  --sklearn-color-text: black;\n",
       "  --sklearn-color-line: gray;\n",
       "  /* Definition of color scheme for unfitted estimators */\n",
       "  --sklearn-color-unfitted-level-0: #fff5e6;\n",
       "  --sklearn-color-unfitted-level-1: #f6e4d2;\n",
       "  --sklearn-color-unfitted-level-2: #ffe0b3;\n",
       "  --sklearn-color-unfitted-level-3: chocolate;\n",
       "  /* Definition of color scheme for fitted estimators */\n",
       "  --sklearn-color-fitted-level-0: #f0f8ff;\n",
       "  --sklearn-color-fitted-level-1: #d4ebff;\n",
       "  --sklearn-color-fitted-level-2: #b3dbfd;\n",
       "  --sklearn-color-fitted-level-3: cornflowerblue;\n",
       "\n",
       "  /* Specific color for light theme */\n",
       "  --sklearn-color-text-on-default-background: var(--sg-text-color, var(--theme-code-foreground, var(--jp-content-font-color1, black)));\n",
       "  --sklearn-color-background: var(--sg-background-color, var(--theme-background, var(--jp-layout-color0, white)));\n",
       "  --sklearn-color-border-box: var(--sg-text-color, var(--theme-code-foreground, var(--jp-content-font-color1, black)));\n",
       "  --sklearn-color-icon: #696969;\n",
       "\n",
       "  @media (prefers-color-scheme: dark) {\n",
       "    /* Redefinition of color scheme for dark theme */\n",
       "    --sklearn-color-text-on-default-background: var(--sg-text-color, var(--theme-code-foreground, var(--jp-content-font-color1, white)));\n",
       "    --sklearn-color-background: var(--sg-background-color, var(--theme-background, var(--jp-layout-color0, #111)));\n",
       "    --sklearn-color-border-box: var(--sg-text-color, var(--theme-code-foreground, var(--jp-content-font-color1, white)));\n",
       "    --sklearn-color-icon: #878787;\n",
       "  }\n",
       "}\n",
       "\n",
       "#sk-container-id-1 {\n",
       "  color: var(--sklearn-color-text);\n",
       "}\n",
       "\n",
       "#sk-container-id-1 pre {\n",
       "  padding: 0;\n",
       "}\n",
       "\n",
       "#sk-container-id-1 input.sk-hidden--visually {\n",
       "  border: 0;\n",
       "  clip: rect(1px 1px 1px 1px);\n",
       "  clip: rect(1px, 1px, 1px, 1px);\n",
       "  height: 1px;\n",
       "  margin: -1px;\n",
       "  overflow: hidden;\n",
       "  padding: 0;\n",
       "  position: absolute;\n",
       "  width: 1px;\n",
       "}\n",
       "\n",
       "#sk-container-id-1 div.sk-dashed-wrapped {\n",
       "  border: 1px dashed var(--sklearn-color-line);\n",
       "  margin: 0 0.4em 0.5em 0.4em;\n",
       "  box-sizing: border-box;\n",
       "  padding-bottom: 0.4em;\n",
       "  background-color: var(--sklearn-color-background);\n",
       "}\n",
       "\n",
       "#sk-container-id-1 div.sk-container {\n",
       "  /* jupyter's `normalize.less` sets `[hidden] { display: none; }`\n",
       "     but bootstrap.min.css set `[hidden] { display: none !important; }`\n",
       "     so we also need the `!important` here to be able to override the\n",
       "     default hidden behavior on the sphinx rendered scikit-learn.org.\n",
       "     See: https://github.com/scikit-learn/scikit-learn/issues/21755 */\n",
       "  display: inline-block !important;\n",
       "  position: relative;\n",
       "}\n",
       "\n",
       "#sk-container-id-1 div.sk-text-repr-fallback {\n",
       "  display: none;\n",
       "}\n",
       "\n",
       "div.sk-parallel-item,\n",
       "div.sk-serial,\n",
       "div.sk-item {\n",
       "  /* draw centered vertical line to link estimators */\n",
       "  background-image: linear-gradient(var(--sklearn-color-text-on-default-background), var(--sklearn-color-text-on-default-background));\n",
       "  background-size: 2px 100%;\n",
       "  background-repeat: no-repeat;\n",
       "  background-position: center center;\n",
       "}\n",
       "\n",
       "/* Parallel-specific style estimator block */\n",
       "\n",
       "#sk-container-id-1 div.sk-parallel-item::after {\n",
       "  content: \"\";\n",
       "  width: 100%;\n",
       "  border-bottom: 2px solid var(--sklearn-color-text-on-default-background);\n",
       "  flex-grow: 1;\n",
       "}\n",
       "\n",
       "#sk-container-id-1 div.sk-parallel {\n",
       "  display: flex;\n",
       "  align-items: stretch;\n",
       "  justify-content: center;\n",
       "  background-color: var(--sklearn-color-background);\n",
       "  position: relative;\n",
       "}\n",
       "\n",
       "#sk-container-id-1 div.sk-parallel-item {\n",
       "  display: flex;\n",
       "  flex-direction: column;\n",
       "}\n",
       "\n",
       "#sk-container-id-1 div.sk-parallel-item:first-child::after {\n",
       "  align-self: flex-end;\n",
       "  width: 50%;\n",
       "}\n",
       "\n",
       "#sk-container-id-1 div.sk-parallel-item:last-child::after {\n",
       "  align-self: flex-start;\n",
       "  width: 50%;\n",
       "}\n",
       "\n",
       "#sk-container-id-1 div.sk-parallel-item:only-child::after {\n",
       "  width: 0;\n",
       "}\n",
       "\n",
       "/* Serial-specific style estimator block */\n",
       "\n",
       "#sk-container-id-1 div.sk-serial {\n",
       "  display: flex;\n",
       "  flex-direction: column;\n",
       "  align-items: center;\n",
       "  background-color: var(--sklearn-color-background);\n",
       "  padding-right: 1em;\n",
       "  padding-left: 1em;\n",
       "}\n",
       "\n",
       "\n",
       "/* Toggleable style: style used for estimator/Pipeline/ColumnTransformer box that is\n",
       "clickable and can be expanded/collapsed.\n",
       "- Pipeline and ColumnTransformer use this feature and define the default style\n",
       "- Estimators will overwrite some part of the style using the `sk-estimator` class\n",
       "*/\n",
       "\n",
       "/* Pipeline and ColumnTransformer style (default) */\n",
       "\n",
       "#sk-container-id-1 div.sk-toggleable {\n",
       "  /* Default theme specific background. It is overwritten whether we have a\n",
       "  specific estimator or a Pipeline/ColumnTransformer */\n",
       "  background-color: var(--sklearn-color-background);\n",
       "}\n",
       "\n",
       "/* Toggleable label */\n",
       "#sk-container-id-1 label.sk-toggleable__label {\n",
       "  cursor: pointer;\n",
       "  display: block;\n",
       "  width: 100%;\n",
       "  margin-bottom: 0;\n",
       "  padding: 0.5em;\n",
       "  box-sizing: border-box;\n",
       "  text-align: center;\n",
       "}\n",
       "\n",
       "#sk-container-id-1 label.sk-toggleable__label-arrow:before {\n",
       "  /* Arrow on the left of the label */\n",
       "  content: \"▸\";\n",
       "  float: left;\n",
       "  margin-right: 0.25em;\n",
       "  color: var(--sklearn-color-icon);\n",
       "}\n",
       "\n",
       "#sk-container-id-1 label.sk-toggleable__label-arrow:hover:before {\n",
       "  color: var(--sklearn-color-text);\n",
       "}\n",
       "\n",
       "/* Toggleable content - dropdown */\n",
       "\n",
       "#sk-container-id-1 div.sk-toggleable__content {\n",
       "  max-height: 0;\n",
       "  max-width: 0;\n",
       "  overflow: hidden;\n",
       "  text-align: left;\n",
       "  /* unfitted */\n",
       "  background-color: var(--sklearn-color-unfitted-level-0);\n",
       "}\n",
       "\n",
       "#sk-container-id-1 div.sk-toggleable__content.fitted {\n",
       "  /* fitted */\n",
       "  background-color: var(--sklearn-color-fitted-level-0);\n",
       "}\n",
       "\n",
       "#sk-container-id-1 div.sk-toggleable__content pre {\n",
       "  margin: 0.2em;\n",
       "  border-radius: 0.25em;\n",
       "  color: var(--sklearn-color-text);\n",
       "  /* unfitted */\n",
       "  background-color: var(--sklearn-color-unfitted-level-0);\n",
       "}\n",
       "\n",
       "#sk-container-id-1 div.sk-toggleable__content.fitted pre {\n",
       "  /* unfitted */\n",
       "  background-color: var(--sklearn-color-fitted-level-0);\n",
       "}\n",
       "\n",
       "#sk-container-id-1 input.sk-toggleable__control:checked~div.sk-toggleable__content {\n",
       "  /* Expand drop-down */\n",
       "  max-height: 200px;\n",
       "  max-width: 100%;\n",
       "  overflow: auto;\n",
       "}\n",
       "\n",
       "#sk-container-id-1 input.sk-toggleable__control:checked~label.sk-toggleable__label-arrow:before {\n",
       "  content: \"▾\";\n",
       "}\n",
       "\n",
       "/* Pipeline/ColumnTransformer-specific style */\n",
       "\n",
       "#sk-container-id-1 div.sk-label input.sk-toggleable__control:checked~label.sk-toggleable__label {\n",
       "  color: var(--sklearn-color-text);\n",
       "  background-color: var(--sklearn-color-unfitted-level-2);\n",
       "}\n",
       "\n",
       "#sk-container-id-1 div.sk-label.fitted input.sk-toggleable__control:checked~label.sk-toggleable__label {\n",
       "  background-color: var(--sklearn-color-fitted-level-2);\n",
       "}\n",
       "\n",
       "/* Estimator-specific style */\n",
       "\n",
       "/* Colorize estimator box */\n",
       "#sk-container-id-1 div.sk-estimator input.sk-toggleable__control:checked~label.sk-toggleable__label {\n",
       "  /* unfitted */\n",
       "  background-color: var(--sklearn-color-unfitted-level-2);\n",
       "}\n",
       "\n",
       "#sk-container-id-1 div.sk-estimator.fitted input.sk-toggleable__control:checked~label.sk-toggleable__label {\n",
       "  /* fitted */\n",
       "  background-color: var(--sklearn-color-fitted-level-2);\n",
       "}\n",
       "\n",
       "#sk-container-id-1 div.sk-label label.sk-toggleable__label,\n",
       "#sk-container-id-1 div.sk-label label {\n",
       "  /* The background is the default theme color */\n",
       "  color: var(--sklearn-color-text-on-default-background);\n",
       "}\n",
       "\n",
       "/* On hover, darken the color of the background */\n",
       "#sk-container-id-1 div.sk-label:hover label.sk-toggleable__label {\n",
       "  color: var(--sklearn-color-text);\n",
       "  background-color: var(--sklearn-color-unfitted-level-2);\n",
       "}\n",
       "\n",
       "/* Label box, darken color on hover, fitted */\n",
       "#sk-container-id-1 div.sk-label.fitted:hover label.sk-toggleable__label.fitted {\n",
       "  color: var(--sklearn-color-text);\n",
       "  background-color: var(--sklearn-color-fitted-level-2);\n",
       "}\n",
       "\n",
       "/* Estimator label */\n",
       "\n",
       "#sk-container-id-1 div.sk-label label {\n",
       "  font-family: monospace;\n",
       "  font-weight: bold;\n",
       "  display: inline-block;\n",
       "  line-height: 1.2em;\n",
       "}\n",
       "\n",
       "#sk-container-id-1 div.sk-label-container {\n",
       "  text-align: center;\n",
       "}\n",
       "\n",
       "/* Estimator-specific */\n",
       "#sk-container-id-1 div.sk-estimator {\n",
       "  font-family: monospace;\n",
       "  border: 1px dotted var(--sklearn-color-border-box);\n",
       "  border-radius: 0.25em;\n",
       "  box-sizing: border-box;\n",
       "  margin-bottom: 0.5em;\n",
       "  /* unfitted */\n",
       "  background-color: var(--sklearn-color-unfitted-level-0);\n",
       "}\n",
       "\n",
       "#sk-container-id-1 div.sk-estimator.fitted {\n",
       "  /* fitted */\n",
       "  background-color: var(--sklearn-color-fitted-level-0);\n",
       "}\n",
       "\n",
       "/* on hover */\n",
       "#sk-container-id-1 div.sk-estimator:hover {\n",
       "  /* unfitted */\n",
       "  background-color: var(--sklearn-color-unfitted-level-2);\n",
       "}\n",
       "\n",
       "#sk-container-id-1 div.sk-estimator.fitted:hover {\n",
       "  /* fitted */\n",
       "  background-color: var(--sklearn-color-fitted-level-2);\n",
       "}\n",
       "\n",
       "/* Specification for estimator info (e.g. \"i\" and \"?\") */\n",
       "\n",
       "/* Common style for \"i\" and \"?\" */\n",
       "\n",
       ".sk-estimator-doc-link,\n",
       "a:link.sk-estimator-doc-link,\n",
       "a:visited.sk-estimator-doc-link {\n",
       "  float: right;\n",
       "  font-size: smaller;\n",
       "  line-height: 1em;\n",
       "  font-family: monospace;\n",
       "  background-color: var(--sklearn-color-background);\n",
       "  border-radius: 1em;\n",
       "  height: 1em;\n",
       "  width: 1em;\n",
       "  text-decoration: none !important;\n",
       "  margin-left: 1ex;\n",
       "  /* unfitted */\n",
       "  border: var(--sklearn-color-unfitted-level-1) 1pt solid;\n",
       "  color: var(--sklearn-color-unfitted-level-1);\n",
       "}\n",
       "\n",
       ".sk-estimator-doc-link.fitted,\n",
       "a:link.sk-estimator-doc-link.fitted,\n",
       "a:visited.sk-estimator-doc-link.fitted {\n",
       "  /* fitted */\n",
       "  border: var(--sklearn-color-fitted-level-1) 1pt solid;\n",
       "  color: var(--sklearn-color-fitted-level-1);\n",
       "}\n",
       "\n",
       "/* On hover */\n",
       "div.sk-estimator:hover .sk-estimator-doc-link:hover,\n",
       ".sk-estimator-doc-link:hover,\n",
       "div.sk-label-container:hover .sk-estimator-doc-link:hover,\n",
       ".sk-estimator-doc-link:hover {\n",
       "  /* unfitted */\n",
       "  background-color: var(--sklearn-color-unfitted-level-3);\n",
       "  color: var(--sklearn-color-background);\n",
       "  text-decoration: none;\n",
       "}\n",
       "\n",
       "div.sk-estimator.fitted:hover .sk-estimator-doc-link.fitted:hover,\n",
       ".sk-estimator-doc-link.fitted:hover,\n",
       "div.sk-label-container:hover .sk-estimator-doc-link.fitted:hover,\n",
       ".sk-estimator-doc-link.fitted:hover {\n",
       "  /* fitted */\n",
       "  background-color: var(--sklearn-color-fitted-level-3);\n",
       "  color: var(--sklearn-color-background);\n",
       "  text-decoration: none;\n",
       "}\n",
       "\n",
       "/* Span, style for the box shown on hovering the info icon */\n",
       ".sk-estimator-doc-link span {\n",
       "  display: none;\n",
       "  z-index: 9999;\n",
       "  position: relative;\n",
       "  font-weight: normal;\n",
       "  right: .2ex;\n",
       "  padding: .5ex;\n",
       "  margin: .5ex;\n",
       "  width: min-content;\n",
       "  min-width: 20ex;\n",
       "  max-width: 50ex;\n",
       "  color: var(--sklearn-color-text);\n",
       "  box-shadow: 2pt 2pt 4pt #999;\n",
       "  /* unfitted */\n",
       "  background: var(--sklearn-color-unfitted-level-0);\n",
       "  border: .5pt solid var(--sklearn-color-unfitted-level-3);\n",
       "}\n",
       "\n",
       ".sk-estimator-doc-link.fitted span {\n",
       "  /* fitted */\n",
       "  background: var(--sklearn-color-fitted-level-0);\n",
       "  border: var(--sklearn-color-fitted-level-3);\n",
       "}\n",
       "\n",
       ".sk-estimator-doc-link:hover span {\n",
       "  display: block;\n",
       "}\n",
       "\n",
       "/* \"?\"-specific style due to the `<a>` HTML tag */\n",
       "\n",
       "#sk-container-id-1 a.estimator_doc_link {\n",
       "  float: right;\n",
       "  font-size: 1rem;\n",
       "  line-height: 1em;\n",
       "  font-family: monospace;\n",
       "  background-color: var(--sklearn-color-background);\n",
       "  border-radius: 1rem;\n",
       "  height: 1rem;\n",
       "  width: 1rem;\n",
       "  text-decoration: none;\n",
       "  /* unfitted */\n",
       "  color: var(--sklearn-color-unfitted-level-1);\n",
       "  border: var(--sklearn-color-unfitted-level-1) 1pt solid;\n",
       "}\n",
       "\n",
       "#sk-container-id-1 a.estimator_doc_link.fitted {\n",
       "  /* fitted */\n",
       "  border: var(--sklearn-color-fitted-level-1) 1pt solid;\n",
       "  color: var(--sklearn-color-fitted-level-1);\n",
       "}\n",
       "\n",
       "/* On hover */\n",
       "#sk-container-id-1 a.estimator_doc_link:hover {\n",
       "  /* unfitted */\n",
       "  background-color: var(--sklearn-color-unfitted-level-3);\n",
       "  color: var(--sklearn-color-background);\n",
       "  text-decoration: none;\n",
       "}\n",
       "\n",
       "#sk-container-id-1 a.estimator_doc_link.fitted:hover {\n",
       "  /* fitted */\n",
       "  background-color: var(--sklearn-color-fitted-level-3);\n",
       "}\n",
       "</style><div id=\"sk-container-id-1\" class=\"sk-top-container\"><div class=\"sk-text-repr-fallback\"><pre>XGBClassifier(base_score=None, booster=None, callbacks=None,\n",
       "              colsample_bylevel=None, colsample_bynode=0.11616568805333755,\n",
       "              colsample_bytree=None, device=None, early_stopping_rounds=None,\n",
       "              enable_categorical=False,\n",
       "              eval_metric=&lt;function custom_f1_score at 0x7fc290527920&gt;,\n",
       "              feature_types=None, gamma=None, grow_policy=None,\n",
       "              importance_type=None, interaction_constraints=None,\n",
       "              learning_rate=0.17780618353487967, max_bin=None,\n",
       "              max_cat_threshold=None, max_cat_to_onehot=None,\n",
       "              max_delta_step=None, max_depth=9, max_leaves=None,\n",
       "              min_child_weight=2, missing=nan, monotone_constraints=None,\n",
       "              multi_strategy=None, n_estimators=26, n_jobs=None,\n",
       "              num_parallel_tree=None, objective=&#x27;multi:softprob&#x27;, ...)</pre><b>In a Jupyter environment, please rerun this cell to show the HTML representation or trust the notebook. <br />On GitHub, the HTML representation is unable to render, please try loading this page with nbviewer.org.</b></div><div class=\"sk-container\" hidden><div class=\"sk-item\"><div class=\"sk-estimator fitted sk-toggleable\"><input class=\"sk-toggleable__control sk-hidden--visually\" id=\"sk-estimator-id-1\" type=\"checkbox\" checked><label for=\"sk-estimator-id-1\" class=\"sk-toggleable__label fitted sk-toggleable__label-arrow fitted\">&nbsp;XGBClassifier<span class=\"sk-estimator-doc-link fitted\">i<span>Fitted</span></span></label><div class=\"sk-toggleable__content fitted\"><pre>XGBClassifier(base_score=None, booster=None, callbacks=None,\n",
       "              colsample_bylevel=None, colsample_bynode=0.11616568805333755,\n",
       "              colsample_bytree=None, device=None, early_stopping_rounds=None,\n",
       "              enable_categorical=False,\n",
       "              eval_metric=&lt;function custom_f1_score at 0x7fc290527920&gt;,\n",
       "              feature_types=None, gamma=None, grow_policy=None,\n",
       "              importance_type=None, interaction_constraints=None,\n",
       "              learning_rate=0.17780618353487967, max_bin=None,\n",
       "              max_cat_threshold=None, max_cat_to_onehot=None,\n",
       "              max_delta_step=None, max_depth=9, max_leaves=None,\n",
       "              min_child_weight=2, missing=nan, monotone_constraints=None,\n",
       "              multi_strategy=None, n_estimators=26, n_jobs=None,\n",
       "              num_parallel_tree=None, objective=&#x27;multi:softprob&#x27;, ...)</pre></div> </div></div></div></div>"
      ],
      "text/plain": [
       "XGBClassifier(base_score=None, booster=None, callbacks=None,\n",
       "              colsample_bylevel=None, colsample_bynode=0.11616568805333755,\n",
       "              colsample_bytree=None, device=None, early_stopping_rounds=None,\n",
       "              enable_categorical=False,\n",
       "              eval_metric=<function custom_f1_score at 0x7fc290527920>,\n",
       "              feature_types=None, gamma=None, grow_policy=None,\n",
       "              importance_type=None, interaction_constraints=None,\n",
       "              learning_rate=0.17780618353487967, max_bin=None,\n",
       "              max_cat_threshold=None, max_cat_to_onehot=None,\n",
       "              max_delta_step=None, max_depth=9, max_leaves=None,\n",
       "              min_child_weight=2, missing=nan, monotone_constraints=None,\n",
       "              multi_strategy=None, n_estimators=26, n_jobs=None,\n",
       "              num_parallel_tree=None, objective='multi:softprob', ...)"
      ]
     },
     "execution_count": 21,
     "metadata": {},
     "output_type": "execute_result"
    }
   ],
   "source": [
    "n_estimators = int(study.best_trial.user_attrs['best_iteration']*1.2)\n",
    "xgb = xgboost.XGBClassifier(\n",
    "        eval_metric=eval_metric,\n",
    "        n_estimators=n_estimators,\n",
    "        **study.best_trial.params\n",
    "    )\n",
    "xgb.fit(\n",
    "    ssp.vstack((X_train, X_val)), \n",
    "    np.concatenate((y_train_enc, y_val_enc)),\n",
    "    verbose=1,\n",
    ")"
   ]
  },
  {
   "cell_type": "code",
   "execution_count": 22,
   "id": "ddaec36f",
   "metadata": {
    "execution": {
     "iopub.execute_input": "2025-05-15T16:15:54.147141Z",
     "iopub.status.busy": "2025-05-15T16:15:54.146697Z",
     "iopub.status.idle": "2025-05-15T16:15:54.159571Z",
     "shell.execute_reply": "2025-05-15T16:15:54.159234Z"
    },
    "papermill": {
     "duration": 0.023156,
     "end_time": "2025-05-15T16:15:54.160611",
     "exception": false,
     "start_time": "2025-05-15T16:15:54.137455",
     "status": "completed"
    },
    "tags": []
   },
   "outputs": [
    {
     "data": {
      "text/plain": [
       "['/scratch_isilon/groups/singlecell/shared/projects/Inflammation-PBMCs-Atlas/03_downstream_analysis/08_gene_importance/xgboost_external_validation/xgboost_TopN_genes/results_20/best_model/Plasma_13_1_xgb.json']"
      ]
     },
     "execution_count": 22,
     "metadata": {},
     "output_type": "execute_result"
    }
   ],
   "source": [
    "out_dir = here(f'03_downstream_analysis/08_gene_importance/xgboost_external_validation/xgboost_TopN_genes/results_{N_GENES}/best_model')\n",
    "\n",
    "if not os.path.exists(out_dir):\n",
    "    os.makedirs(out_dir)\n",
    "    \n",
    "joblib.dump(xgb, os.path.join(out_dir, f'{CELL_TYPE}_{SEED}_{TEST_SPLIT_IDX}_xgb.json'))"
   ]
  },
  {
   "cell_type": "code",
   "execution_count": 23,
   "id": "bf4525e3",
   "metadata": {
    "execution": {
     "iopub.execute_input": "2025-05-15T16:15:54.178752Z",
     "iopub.status.busy": "2025-05-15T16:15:54.178563Z",
     "iopub.status.idle": "2025-05-15T16:15:54.187848Z",
     "shell.execute_reply": "2025-05-15T16:15:54.187528Z"
    },
    "papermill": {
     "duration": 0.019635,
     "end_time": "2025-05-15T16:15:54.189251",
     "exception": false,
     "start_time": "2025-05-15T16:15:54.169616",
     "status": "completed"
    },
    "tags": []
   },
   "outputs": [],
   "source": [
    "df_pred_test = pd.DataFrame(dict(\n",
    "    cell_id=train_adata.obs.iloc[test_idxs].index.values,\n",
    "    y_true=y_test, \n",
    "    y_true_code=y_test_enc, \n",
    "    y_pred=xgb.predict(X_test))).set_index('cell_id')"
   ]
  },
  {
   "cell_type": "code",
   "execution_count": 24,
   "id": "9960a4b4",
   "metadata": {
    "execution": {
     "iopub.execute_input": "2025-05-15T16:15:54.228092Z",
     "iopub.status.busy": "2025-05-15T16:15:54.227443Z",
     "iopub.status.idle": "2025-05-15T16:15:54.239310Z",
     "shell.execute_reply": "2025-05-15T16:15:54.238879Z"
    },
    "papermill": {
     "duration": 0.022451,
     "end_time": "2025-05-15T16:15:54.240209",
     "exception": false,
     "start_time": "2025-05-15T16:15:54.217758",
     "status": "completed"
    },
    "tags": []
   },
   "outputs": [],
   "source": [
    "out_dir = here(f'03_downstream_analysis/08_gene_importance/xgboost_external_validation/xgboost_TopN_genes/results_{N_GENES}/predictions')\n",
    "\n",
    "if not os.path.exists(out_dir):\n",
    "    os.makedirs(out_dir)\n",
    "    \n",
    "df_pred_test.to_csv(os.path.join(out_dir, f'{CELL_TYPE}_{SEED}_{TEST_SPLIT_IDX}_pred_test.zip'))"
   ]
  },
  {
   "cell_type": "code",
   "execution_count": 25,
   "id": "31caab4d",
   "metadata": {
    "execution": {
     "iopub.execute_input": "2025-05-15T16:15:54.270025Z",
     "iopub.status.busy": "2025-05-15T16:15:54.269317Z",
     "iopub.status.idle": "2025-05-15T16:15:54.275563Z",
     "shell.execute_reply": "2025-05-15T16:15:54.275174Z"
    },
    "papermill": {
     "duration": 0.027107,
     "end_time": "2025-05-15T16:15:54.276427",
     "exception": false,
     "start_time": "2025-05-15T16:15:54.249320",
     "status": "completed"
    },
    "tags": []
   },
   "outputs": [],
   "source": [
    "metrics_dict = dict(\n",
    "    BAS=balanced_accuracy_score(y_true=df_pred_test.y_true_code, y_pred=df_pred_test.y_pred), WF1=f1_score(y_true=df_pred_test.y_true_code, y_pred=df_pred_test.y_pred,average='weighted'))"
   ]
  },
  {
   "cell_type": "code",
   "execution_count": 26,
   "id": "31b81300",
   "metadata": {
    "execution": {
     "iopub.execute_input": "2025-05-15T16:15:54.296036Z",
     "iopub.status.busy": "2025-05-15T16:15:54.295369Z",
     "iopub.status.idle": "2025-05-15T16:15:54.298714Z",
     "shell.execute_reply": "2025-05-15T16:15:54.298322Z"
    },
    "papermill": {
     "duration": 0.013656,
     "end_time": "2025-05-15T16:15:54.299645",
     "exception": false,
     "start_time": "2025-05-15T16:15:54.285989",
     "status": "completed"
    },
    "tags": []
   },
   "outputs": [
    {
     "data": {
      "text/plain": [
       "{'BAS': 0.44751702545820193, 'WF1': 0.4998041633532885}"
      ]
     },
     "execution_count": 26,
     "metadata": {},
     "output_type": "execute_result"
    }
   ],
   "source": [
    "metrics_dict"
   ]
  },
  {
   "cell_type": "code",
   "execution_count": 27,
   "id": "320c0177",
   "metadata": {
    "execution": {
     "iopub.execute_input": "2025-05-15T16:15:54.318944Z",
     "iopub.status.busy": "2025-05-15T16:15:54.318413Z",
     "iopub.status.idle": "2025-05-15T16:15:54.330018Z",
     "shell.execute_reply": "2025-05-15T16:15:54.329461Z"
    },
    "papermill": {
     "duration": 0.022527,
     "end_time": "2025-05-15T16:15:54.330931",
     "exception": false,
     "start_time": "2025-05-15T16:15:54.308404",
     "status": "completed"
    },
    "tags": []
   },
   "outputs": [
    {
     "data": {
      "text/html": [
       "<div>\n",
       "<style scoped>\n",
       "    .dataframe tbody tr th:only-of-type {\n",
       "        vertical-align: middle;\n",
       "    }\n",
       "\n",
       "    .dataframe tbody tr th {\n",
       "        vertical-align: top;\n",
       "    }\n",
       "\n",
       "    .dataframe thead th {\n",
       "        text-align: right;\n",
       "    }\n",
       "</style>\n",
       "<table border=\"1\" class=\"dataframe\">\n",
       "  <thead>\n",
       "    <tr style=\"text-align: right;\">\n",
       "      <th></th>\n",
       "      <th>BAS</th>\n",
       "      <th>WF1</th>\n",
       "      <th>split_idx</th>\n",
       "      <th>gene_set_seed</th>\n",
       "      <th>cell_type</th>\n",
       "    </tr>\n",
       "  </thead>\n",
       "  <tbody>\n",
       "    <tr>\n",
       "      <th>0</th>\n",
       "      <td>0.447517</td>\n",
       "      <td>0.499804</td>\n",
       "      <td>1</td>\n",
       "      <td>13</td>\n",
       "      <td>Plasma</td>\n",
       "    </tr>\n",
       "  </tbody>\n",
       "</table>\n",
       "</div>"
      ],
      "text/plain": [
       "        BAS       WF1  split_idx  gene_set_seed cell_type\n",
       "0  0.447517  0.499804          1             13    Plasma"
      ]
     },
     "execution_count": 27,
     "metadata": {},
     "output_type": "execute_result"
    }
   ],
   "source": [
    "metrics_df = pd.DataFrame.from_dict([metrics_dict]).assign(split_idx=TEST_SPLIT_IDX, gene_set_seed=SEED, cell_type=CELL_TYPE)\n",
    "metrics_df"
   ]
  },
  {
   "cell_type": "code",
   "execution_count": 28,
   "id": "f9b44234",
   "metadata": {
    "execution": {
     "iopub.execute_input": "2025-05-15T16:15:54.376277Z",
     "iopub.status.busy": "2025-05-15T16:15:54.375696Z",
     "iopub.status.idle": "2025-05-15T16:15:54.405232Z",
     "shell.execute_reply": "2025-05-15T16:15:54.404635Z"
    },
    "papermill": {
     "duration": 0.051198,
     "end_time": "2025-05-15T16:15:54.406173",
     "exception": false,
     "start_time": "2025-05-15T16:15:54.354975",
     "status": "completed"
    },
    "tags": []
   },
   "outputs": [],
   "source": [
    "out_dir = here(f'03_downstream_analysis/08_gene_importance/xgboost_external_validation/xgboost_TopN_genes/results_{N_GENES}/metrics')\n",
    "\n",
    "if not os.path.exists(out_dir):\n",
    "    os.makedirs(out_dir)\n",
    "    \n",
    "metrics_df.to_csv(os.path.join(out_dir, f'{CELL_TYPE}_{SEED}_{TEST_SPLIT_IDX}_metrics.zip'))"
   ]
  }
 ],
 "metadata": {
  "kernelspec": {
   "display_name": "Python 3 (ipykernel)",
   "language": "python",
   "name": "python3"
  },
  "language_info": {
   "codemirror_mode": {
    "name": "ipython",
    "version": 3
   },
   "file_extension": ".py",
   "mimetype": "text/x-python",
   "name": "python",
   "nbconvert_exporter": "python",
   "pygments_lexer": "ipython3",
   "version": "3.12.5"
  },
  "papermill": {
   "default_parameters": {},
   "duration": 15.181009,
   "end_time": "2025-05-15T16:15:54.931806",
   "environment_variables": {},
   "exception": null,
   "input_path": "02_xgboost_fitting_external_20genes.ipynb",
   "output_path": "results_20/executed_notebooks/xgboost_fitting_external_CT_Plasma_GS_13_seed1.ipynb",
   "parameters": {
    "CELL_TYPE": "Plasma",
    "SEED": 13,
    "TEST_SPLIT_IDX": 1
   },
   "start_time": "2025-05-15T16:15:39.750797",
   "version": "2.6.0"
  }
 },
 "nbformat": 4,
 "nbformat_minor": 5
}