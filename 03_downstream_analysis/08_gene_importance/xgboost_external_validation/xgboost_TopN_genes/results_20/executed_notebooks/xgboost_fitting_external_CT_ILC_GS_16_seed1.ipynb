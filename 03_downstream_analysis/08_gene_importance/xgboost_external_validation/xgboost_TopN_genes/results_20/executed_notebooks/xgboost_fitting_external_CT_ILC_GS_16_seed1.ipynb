{
 "cells": [
  {
   "cell_type": "code",
   "execution_count": 1,
   "id": "27b4d460",
   "metadata": {
    "editable": true,
    "execution": {
     "iopub.execute_input": "2025-05-15T16:14:13.251845Z",
     "iopub.status.busy": "2025-05-15T16:14:13.251606Z",
     "iopub.status.idle": "2025-05-15T16:14:13.254648Z",
     "shell.execute_reply": "2025-05-15T16:14:13.254324Z"
    },
    "papermill": {
     "duration": 0.011497,
     "end_time": "2025-05-15T16:14:13.255584",
     "exception": false,
     "start_time": "2025-05-15T16:14:13.244087",
     "status": "completed"
    },
    "slideshow": {
     "slide_type": ""
    },
    "tags": [
     "parameters"
    ]
   },
   "outputs": [],
   "source": [
    "CELL_TYPE = 'pDC'\n",
    "N_GENES: int = 20\n",
    "SEED = 'shap_studyID' #'disease_NOstudy' 'study_NOdisease' or 'int' or 'shap_studyID'\n",
    "TEST_SPLIT_IDX: int = 1 #[0,4]"
   ]
  },
  {
   "cell_type": "code",
   "execution_count": 2,
   "id": "4d3f24ca",
   "metadata": {
    "execution": {
     "iopub.execute_input": "2025-05-15T16:14:13.266945Z",
     "iopub.status.busy": "2025-05-15T16:14:13.266679Z",
     "iopub.status.idle": "2025-05-15T16:14:13.268833Z",
     "shell.execute_reply": "2025-05-15T16:14:13.268536Z"
    },
    "papermill": {
     "duration": 0.008479,
     "end_time": "2025-05-15T16:14:13.269642",
     "exception": false,
     "start_time": "2025-05-15T16:14:13.261163",
     "status": "completed"
    },
    "tags": [
     "injected-parameters"
    ]
   },
   "outputs": [],
   "source": [
    "# Parameters\n",
    "CELL_TYPE = \"ILC\"\n",
    "SEED = 16\n",
    "TEST_SPLIT_IDX = 1\n"
   ]
  },
  {
   "cell_type": "code",
   "execution_count": 3,
   "id": "9a4cda30",
   "metadata": {
    "execution": {
     "iopub.execute_input": "2025-05-15T16:14:13.280290Z",
     "iopub.status.busy": "2025-05-15T16:14:13.280049Z",
     "iopub.status.idle": "2025-05-15T16:14:13.282090Z",
     "shell.execute_reply": "2025-05-15T16:14:13.281787Z"
    },
    "papermill": {
     "duration": 0.008301,
     "end_time": "2025-05-15T16:14:13.282859",
     "exception": false,
     "start_time": "2025-05-15T16:14:13.274558",
     "status": "completed"
    },
    "tags": []
   },
   "outputs": [],
   "source": [
    "N_SPLITS: int = 5\n",
    "N_TRIALS: int = 50"
   ]
  },
  {
   "cell_type": "code",
   "execution_count": 4,
   "id": "3ddcc48a",
   "metadata": {
    "execution": {
     "iopub.execute_input": "2025-05-15T16:14:13.294806Z",
     "iopub.status.busy": "2025-05-15T16:14:13.294601Z",
     "iopub.status.idle": "2025-05-15T16:14:14.700704Z",
     "shell.execute_reply": "2025-05-15T16:14:14.700265Z"
    },
    "papermill": {
     "duration": 1.414031,
     "end_time": "2025-05-15T16:14:14.702093",
     "exception": false,
     "start_time": "2025-05-15T16:14:13.288062",
     "status": "completed"
    },
    "tags": []
   },
   "outputs": [],
   "source": [
    "import os\n",
    "import sys\n",
    "from pyprojroot.here import here\n",
    "import pandas as pd\n",
    "import anndata as ad\n",
    "import numpy as np\n",
    "import math\n",
    "from sklearn.model_selection import StratifiedGroupKFold\n",
    "from sklearn.preprocessing import LabelEncoder\n",
    "from sklearn.metrics import f1_score\n",
    "import matplotlib.pyplot as plt\n",
    "import seaborn as sns\n",
    "from itertools import product\n",
    "from sklearn.metrics import balanced_accuracy_score, f1_score\n",
    "import optuna\n",
    "\n",
    "import joblib\n",
    "import pickle\n",
    "import datetime\n",
    "\n",
    "import collections\n",
    "\n",
    "import xgboost\n",
    "from sklearn.preprocessing import LabelEncoder\n",
    "\n",
    "import scipy.sparse as ssp\n",
    "import joblib\n",
    "\n",
    "from dotenv import load_dotenv"
   ]
  },
  {
   "cell_type": "code",
   "execution_count": 5,
   "id": "00799b78",
   "metadata": {
    "execution": {
     "iopub.execute_input": "2025-05-15T16:14:14.715800Z",
     "iopub.status.busy": "2025-05-15T16:14:14.715418Z",
     "iopub.status.idle": "2025-05-15T16:14:14.721173Z",
     "shell.execute_reply": "2025-05-15T16:14:14.720865Z"
    },
    "papermill": {
     "duration": 0.012631,
     "end_time": "2025-05-15T16:14:14.722015",
     "exception": false,
     "start_time": "2025-05-15T16:14:14.709384",
     "status": "completed"
    },
    "tags": []
   },
   "outputs": [
    {
     "data": {
      "text/plain": [
       "True"
      ]
     },
     "execution_count": 5,
     "metadata": {},
     "output_type": "execute_result"
    }
   ],
   "source": [
    "load_dotenv()"
   ]
  },
  {
   "cell_type": "markdown",
   "id": "ac84013c",
   "metadata": {
    "papermill": {
     "duration": 0.005289,
     "end_time": "2025-05-15T16:14:14.732826",
     "exception": false,
     "start_time": "2025-05-15T16:14:14.727537",
     "status": "completed"
    },
    "tags": []
   },
   "source": [
    "# LOAD DATASET"
   ]
  },
  {
   "cell_type": "code",
   "execution_count": 6,
   "id": "5c77a83b",
   "metadata": {
    "execution": {
     "iopub.execute_input": "2025-05-15T16:14:14.744147Z",
     "iopub.status.busy": "2025-05-15T16:14:14.743879Z",
     "iopub.status.idle": "2025-05-15T16:14:14.994356Z",
     "shell.execute_reply": "2025-05-15T16:14:14.993938Z"
    },
    "papermill": {
     "duration": 0.257421,
     "end_time": "2025-05-15T16:14:14.995609",
     "exception": false,
     "start_time": "2025-05-15T16:14:14.738188",
     "status": "completed"
    },
    "tags": []
   },
   "outputs": [],
   "source": [
    "train_adata = ad.read_h5ad(\n",
    "    here(f'03_downstream_analysis/08_gene_importance/xgboost_external_validation/xgboost_TopN_genes/data_cellTypes/EXTERNAL_{CELL_TYPE}.filtered.log1p.h5ad')\n",
    ")"
   ]
  },
  {
   "cell_type": "code",
   "execution_count": 7,
   "id": "37ba5a68",
   "metadata": {
    "execution": {
     "iopub.execute_input": "2025-05-15T16:14:15.008071Z",
     "iopub.status.busy": "2025-05-15T16:14:15.007771Z",
     "iopub.status.idle": "2025-05-15T16:14:15.025246Z",
     "shell.execute_reply": "2025-05-15T16:14:15.024846Z"
    },
    "papermill": {
     "duration": 0.024628,
     "end_time": "2025-05-15T16:14:15.026155",
     "exception": false,
     "start_time": "2025-05-15T16:14:15.001527",
     "status": "completed"
    },
    "tags": []
   },
   "outputs": [
    {
     "name": "stdout",
     "output_type": "stream",
     "text": [
      "['ENSG00000100902' 'ENSG00000277632' 'ENSG00000111640' 'ENSG00000107485'\n",
      " 'ENSG00000184752' 'ENSG00000178719' 'ENSG00000198668' 'ENSG00000105374'\n",
      " 'ENSG00000057657' 'ENSG00000137193' 'ENSG00000152234' 'ENSG00000075234'\n",
      " 'ENSG00000134285' 'ENSG00000243646' 'ENSG00000005844' 'ENSG00000107968'\n",
      " 'ENSG00000126561' 'ENSG00000185022' 'ENSG00000132002' 'ENSG00000265972'\n",
      " 'ENSG00000132510' 'ENSG00000198502' 'ENSG00000275302' 'ENSG00000118260'\n",
      " 'ENSG00000163659' 'ENSG00000163191' 'ENSG00000118640' 'ENSG00000175390'\n",
      " 'ENSG00000152518' 'ENSG00000096996' 'ENSG00000183696' 'ENSG00000027697'\n",
      " 'ENSG00000137100' 'ENSG00000171608' 'ENSG00000144802' 'ENSG00000204257'\n",
      " 'ENSG00000179218' 'ENSG00000216490' 'ENSG00000002586' 'ENSG00000160213'\n",
      " 'ENSG00000276070' 'ENSG00000004468' 'ENSG00000117523' 'ENSG00000168610'\n",
      " 'ENSG00000123416' 'ENSG00000160075' 'ENSG00000091409' 'ENSG00000180871'\n",
      " 'ENSG00000171700' 'ENSG00000110395' 'ENSG00000160255' 'ENSG00000148908'\n",
      " 'ENSG00000157601' 'ENSG00000135441' 'ENSG00000141506' 'ENSG00000137441'\n",
      " 'ENSG00000148834' 'ENSG00000110324' 'ENSG00000229474' 'ENSG00000111537'\n",
      " 'ENSG00000100453' 'ENSG00000068796' 'ENSG00000121858' 'ENSG00000143774'\n",
      " 'ENSG00000122359' 'ENSG00000163660' 'ENSG00000075426' 'ENSG00000196961'\n",
      " 'ENSG00000152778' 'ENSG00000081059' 'ENSG00000184007' 'ENSG00000102524'\n",
      " 'ENSG00000169896' 'ENSG00000142669' 'ENSG00000121774' 'ENSG00000100385'\n",
      " 'ENSG00000100280' 'ENSG00000089327' 'ENSG00000163513' 'ENSG00000159674'\n",
      " 'ENSG00000165732' 'ENSG00000158869' 'ENSG00000008517' 'ENSG00000101608'\n",
      " 'ENSG00000186891' 'ENSG00000179344' 'ENSG00000145247' 'ENSG00000162704'\n",
      " 'ENSG00000179295' 'ENSG00000068831' 'ENSG00000160710' 'ENSG00000177556'\n",
      " 'ENSG00000088986' 'ENSG00000156411' 'ENSG00000277734' 'ENSG00000204472'\n",
      " 'ENSG00000196154' 'ENSG00000130429' 'ENSG00000204592' 'ENSG00000164104']\n"
     ]
    }
   ],
   "source": [
    "if SEED != 'all':\n",
    "    gene_subset = np.load(here(f'03_downstream_analysis/08_gene_importance/xgboost_external_validation/shap_gene_selection/gene_subsets_{N_GENES}/{CELL_TYPE}_{SEED}.npy'), allow_pickle=True)\n",
    "    train_adata = train_adata[:,gene_subset]\n",
    "    print(gene_subset)\n",
    "elif SEED == 'all':\n",
    "    print('Using all genes')\n",
    "else:\n",
    "    raise ValueError()"
   ]
  },
  {
   "cell_type": "code",
   "execution_count": 8,
   "id": "be0f6b9e",
   "metadata": {
    "execution": {
     "iopub.execute_input": "2025-05-15T16:14:15.037980Z",
     "iopub.status.busy": "2025-05-15T16:14:15.037620Z",
     "iopub.status.idle": "2025-05-15T16:14:15.040789Z",
     "shell.execute_reply": "2025-05-15T16:14:15.040487Z"
    },
    "papermill": {
     "duration": 0.009808,
     "end_time": "2025-05-15T16:14:15.041638",
     "exception": false,
     "start_time": "2025-05-15T16:14:15.031830",
     "status": "completed"
    },
    "tags": []
   },
   "outputs": [
    {
     "data": {
      "text/plain": [
       "(36633, 100)"
      ]
     },
     "execution_count": 8,
     "metadata": {},
     "output_type": "execute_result"
    }
   ],
   "source": [
    "train_adata.shape"
   ]
  },
  {
   "cell_type": "code",
   "execution_count": 9,
   "id": "15c49ad8",
   "metadata": {
    "execution": {
     "iopub.execute_input": "2025-05-15T16:14:15.052670Z",
     "iopub.status.busy": "2025-05-15T16:14:15.052492Z",
     "iopub.status.idle": "2025-05-15T16:14:15.056226Z",
     "shell.execute_reply": "2025-05-15T16:14:15.055923Z"
    },
    "papermill": {
     "duration": 0.010142,
     "end_time": "2025-05-15T16:14:15.057022",
     "exception": false,
     "start_time": "2025-05-15T16:14:15.046880",
     "status": "completed"
    },
    "tags": []
   },
   "outputs": [
    {
     "data": {
      "text/plain": [
       "['RA', 'COVID', 'healthy', 'HIV', 'cirrhosis', 'CD', 'SLE', 'sepsis']\n",
       "Categories (8, object): ['CD', 'COVID', 'HIV', 'RA', 'SLE', 'cirrhosis', 'healthy', 'sepsis']"
      ]
     },
     "execution_count": 9,
     "metadata": {},
     "output_type": "execute_result"
    }
   ],
   "source": [
    "train_adata.obs.disease.unique()"
   ]
  },
  {
   "cell_type": "code",
   "execution_count": 10,
   "id": "78eb5c6f",
   "metadata": {
    "execution": {
     "iopub.execute_input": "2025-05-15T16:14:15.068572Z",
     "iopub.status.busy": "2025-05-15T16:14:15.068374Z",
     "iopub.status.idle": "2025-05-15T16:14:15.072441Z",
     "shell.execute_reply": "2025-05-15T16:14:15.072128Z"
    },
    "papermill": {
     "duration": 0.01115,
     "end_time": "2025-05-15T16:14:15.073536",
     "exception": false,
     "start_time": "2025-05-15T16:14:15.062386",
     "status": "completed"
    },
    "tags": []
   },
   "outputs": [
    {
     "data": {
      "text/plain": [
       "['SCGT00val_I036024_T0', 'SCGT00val_I036016_T0', 'SCGT00val_I036023_T0', 'SCGT00val_I036021_T0', 'SCGT00val_I036028_T0', ..., '10XGenomics_10XHC2_T0', '10XGenomics_10XHC3_T0', '10XGenomics_10XHC5_T0', '10XGenomics_10XHC7_T0', '10XGenomics_10XHC8_T0']\n",
       "Length: 86\n",
       "Categories (86, object): ['10XGenomics_10XHC1_T0', '10XGenomics_10XHC2_T0', '10XGenomics_10XHC3_T0', '10XGenomics_10XHC4_T0', ..., 'Savage2021_BRISL6_T0', 'Savage2021_BRISL7_T0', 'Savage2021_PIDA_T0', 'Savage2021_PIDB_T0']"
      ]
     },
     "execution_count": 10,
     "metadata": {},
     "output_type": "execute_result"
    }
   ],
   "source": [
    "train_adata.obs.sampleID.unique()"
   ]
  },
  {
   "cell_type": "code",
   "execution_count": 11,
   "id": "5aa4773d",
   "metadata": {
    "execution": {
     "iopub.execute_input": "2025-05-15T16:14:15.087461Z",
     "iopub.status.busy": "2025-05-15T16:14:15.087037Z",
     "iopub.status.idle": "2025-05-15T16:14:15.193815Z",
     "shell.execute_reply": "2025-05-15T16:14:15.193403Z"
    },
    "papermill": {
     "duration": 0.115213,
     "end_time": "2025-05-15T16:14:15.195274",
     "exception": false,
     "start_time": "2025-05-15T16:14:15.080061",
     "status": "completed"
    },
    "tags": []
   },
   "outputs": [],
   "source": [
    "all_idxs = np.arange(train_adata.obs.shape[0])\n",
    "left_out_splits = [s[1] for s in StratifiedGroupKFold(n_splits=N_SPLITS).split(all_idxs, train_adata.obs.disease, train_adata.obs.sampleID)]"
   ]
  },
  {
   "cell_type": "code",
   "execution_count": 12,
   "id": "290c2521",
   "metadata": {
    "execution": {
     "iopub.execute_input": "2025-05-15T16:14:15.210515Z",
     "iopub.status.busy": "2025-05-15T16:14:15.210325Z",
     "iopub.status.idle": "2025-05-15T16:14:15.213859Z",
     "shell.execute_reply": "2025-05-15T16:14:15.213563Z"
    },
    "papermill": {
     "duration": 0.011202,
     "end_time": "2025-05-15T16:14:15.214685",
     "exception": false,
     "start_time": "2025-05-15T16:14:15.203483",
     "status": "completed"
    },
    "tags": []
   },
   "outputs": [
    {
     "data": {
      "text/plain": [
       "([0, 3, 4], 2, 1)"
      ]
     },
     "execution_count": 12,
     "metadata": {},
     "output_type": "execute_result"
    }
   ],
   "source": [
    "TRAIN_SPLIT_IDXS = [0,1,2,3,4]\n",
    "VAL_SPLIT_IDX = (TEST_SPLIT_IDX + 1) % 5\n",
    "TRAIN_SPLIT_IDXS.remove(TEST_SPLIT_IDX)\n",
    "TRAIN_SPLIT_IDXS.remove(VAL_SPLIT_IDX)\n",
    "TRAIN_SPLIT_IDXS, VAL_SPLIT_IDX, TEST_SPLIT_IDX"
   ]
  },
  {
   "cell_type": "code",
   "execution_count": 13,
   "id": "36a3474f",
   "metadata": {
    "execution": {
     "iopub.execute_input": "2025-05-15T16:14:15.226235Z",
     "iopub.status.busy": "2025-05-15T16:14:15.225922Z",
     "iopub.status.idle": "2025-05-15T16:14:15.228262Z",
     "shell.execute_reply": "2025-05-15T16:14:15.227965Z"
    },
    "papermill": {
     "duration": 0.00891,
     "end_time": "2025-05-15T16:14:15.229047",
     "exception": false,
     "start_time": "2025-05-15T16:14:15.220137",
     "status": "completed"
    },
    "tags": []
   },
   "outputs": [],
   "source": [
    "train_idxs = np.concatenate([left_out_splits[idx] for idx in TRAIN_SPLIT_IDXS])\n",
    "val_idxs = left_out_splits[VAL_SPLIT_IDX]\n",
    "test_idxs = left_out_splits[TEST_SPLIT_IDX]"
   ]
  },
  {
   "cell_type": "markdown",
   "id": "f33ece5e",
   "metadata": {
    "papermill": {
     "duration": 0.005302,
     "end_time": "2025-05-15T16:14:15.239966",
     "exception": false,
     "start_time": "2025-05-15T16:14:15.234664",
     "status": "completed"
    },
    "tags": []
   },
   "source": [
    "### SUBSET DATASET INTO TRAIN/TEST/VAL SPLITS"
   ]
  },
  {
   "cell_type": "code",
   "execution_count": 14,
   "id": "98ca8bb2",
   "metadata": {
    "execution": {
     "iopub.execute_input": "2025-05-15T16:14:15.251943Z",
     "iopub.status.busy": "2025-05-15T16:14:15.251663Z",
     "iopub.status.idle": "2025-05-15T16:14:15.341136Z",
     "shell.execute_reply": "2025-05-15T16:14:15.340773Z"
    },
    "papermill": {
     "duration": 0.096524,
     "end_time": "2025-05-15T16:14:15.342093",
     "exception": false,
     "start_time": "2025-05-15T16:14:15.245569",
     "status": "completed"
    },
    "tags": []
   },
   "outputs": [
    {
     "data": {
      "text/plain": [
       "((22023, 100), (7160, 100), (7450, 100))"
      ]
     },
     "execution_count": 14,
     "metadata": {},
     "output_type": "execute_result"
    }
   ],
   "source": [
    "X_train = train_adata.X[train_idxs]\n",
    "X_test = train_adata.X[test_idxs]\n",
    "X_val = train_adata.X[val_idxs]\n",
    "X_train.shape, X_test.shape, X_val.shape"
   ]
  },
  {
   "cell_type": "code",
   "execution_count": 15,
   "id": "cc02261f",
   "metadata": {
    "execution": {
     "iopub.execute_input": "2025-05-15T16:14:15.355775Z",
     "iopub.status.busy": "2025-05-15T16:14:15.355572Z",
     "iopub.status.idle": "2025-05-15T16:14:15.363485Z",
     "shell.execute_reply": "2025-05-15T16:14:15.363164Z"
    },
    "papermill": {
     "duration": 0.015582,
     "end_time": "2025-05-15T16:14:15.364439",
     "exception": false,
     "start_time": "2025-05-15T16:14:15.348857",
     "status": "completed"
    },
    "tags": []
   },
   "outputs": [
    {
     "data": {
      "text/plain": [
       "((22023,), (7160,), (7450,))"
      ]
     },
     "execution_count": 15,
     "metadata": {},
     "output_type": "execute_result"
    }
   ],
   "source": [
    "y_train = train_adata.obs.iloc[train_idxs].disease.values.astype(str)\n",
    "y_test = train_adata.obs.iloc[test_idxs].disease.values.astype(str)\n",
    "y_val = train_adata.obs.iloc[val_idxs].disease.values.astype(str)\n",
    "y_train.shape, y_test.shape, y_val.shape"
   ]
  },
  {
   "cell_type": "code",
   "execution_count": 16,
   "id": "0f73d22c",
   "metadata": {
    "execution": {
     "iopub.execute_input": "2025-05-15T16:14:15.378308Z",
     "iopub.status.busy": "2025-05-15T16:14:15.377850Z",
     "iopub.status.idle": "2025-05-15T16:14:15.387761Z",
     "shell.execute_reply": "2025-05-15T16:14:15.387464Z"
    },
    "papermill": {
     "duration": 0.018247,
     "end_time": "2025-05-15T16:14:15.389077",
     "exception": false,
     "start_time": "2025-05-15T16:14:15.370830",
     "status": "completed"
    },
    "tags": []
   },
   "outputs": [],
   "source": [
    "lenc = LabelEncoder()\n",
    "y_train_enc = lenc.fit_transform(y_train)\n",
    "y_val_enc = lenc.transform(y_val)\n",
    "y_test_enc = lenc.transform(y_test)"
   ]
  },
  {
   "cell_type": "markdown",
   "id": "9b044895",
   "metadata": {
    "papermill": {
     "duration": 0.006305,
     "end_time": "2025-05-15T16:14:15.402112",
     "exception": false,
     "start_time": "2025-05-15T16:14:15.395807",
     "status": "completed"
    },
    "tags": []
   },
   "source": [
    "### GENERATE F1 "
   ]
  },
  {
   "cell_type": "code",
   "execution_count": 17,
   "id": "83badc82",
   "metadata": {
    "execution": {
     "iopub.execute_input": "2025-05-15T16:14:15.417131Z",
     "iopub.status.busy": "2025-05-15T16:14:15.416464Z",
     "iopub.status.idle": "2025-05-15T16:14:15.419261Z",
     "shell.execute_reply": "2025-05-15T16:14:15.418953Z"
    },
    "papermill": {
     "duration": 0.011736,
     "end_time": "2025-05-15T16:14:15.420162",
     "exception": false,
     "start_time": "2025-05-15T16:14:15.408426",
     "status": "completed"
    },
    "tags": []
   },
   "outputs": [],
   "source": [
    "def custom_f1_score(y_true, y_pred):\n",
    "    return -f1_score(y_true, y_pred.argmax(1), average='weighted')"
   ]
  },
  {
   "cell_type": "code",
   "execution_count": 18,
   "id": "b6867ba8",
   "metadata": {
    "execution": {
     "iopub.execute_input": "2025-05-15T16:14:15.433818Z",
     "iopub.status.busy": "2025-05-15T16:14:15.433527Z",
     "iopub.status.idle": "2025-05-15T16:14:15.437238Z",
     "shell.execute_reply": "2025-05-15T16:14:15.436899Z"
    },
    "papermill": {
     "duration": 0.011395,
     "end_time": "2025-05-15T16:14:15.438133",
     "exception": false,
     "start_time": "2025-05-15T16:14:15.426738",
     "status": "completed"
    },
    "tags": []
   },
   "outputs": [],
   "source": [
    "eval_metric=custom_f1_score\n",
    "eval_metric_name='custom_f1_score'\n",
    "\n",
    "def objective(trial):\n",
    "    params = {\n",
    "        'n_estimators': 1500,\n",
    "        'max_depth': trial.suggest_int('max_depth', 3, 20),\n",
    "        'min_child_weight': trial.suggest_int('min_child_weight', 1, 250),\n",
    "        'subsample': trial.suggest_float('subsample', 0.1, 1.0),\n",
    "        'colsample_bynode': trial.suggest_float('colsample_bynode', 0.1, 1.0),\n",
    "        'learning_rate': trial.suggest_float('learning_rate', 1e-3, 5e-1, log=True),\n",
    "    }\n",
    "    pruning_callback = optuna.integration.XGBoostPruningCallback(trial, f'validation_0-{eval_metric_name}')\n",
    "    es_callback = xgboost.callback.EarlyStopping(20, min_delta=0.001)\n",
    "    xgb = xgboost.XGBClassifier(\n",
    "        eval_metric=eval_metric,\n",
    "        callbacks=[pruning_callback, es_callback],\n",
    "        n_jobs=5,\n",
    "        **params\n",
    "    )\n",
    "    xgb.fit(\n",
    "        X_train, \n",
    "        y_train_enc, \n",
    "        verbose=0,\n",
    "        eval_set=[(X_val, y_val_enc)],\n",
    "    )\n",
    "    trial.set_user_attr('best_iteration', xgb.best_iteration)\n",
    "\n",
    "    return xgb.best_score"
   ]
  },
  {
   "cell_type": "code",
   "execution_count": 19,
   "id": "8f6135c2",
   "metadata": {
    "execution": {
     "iopub.execute_input": "2025-05-15T16:14:15.451730Z",
     "iopub.status.busy": "2025-05-15T16:14:15.451295Z",
     "iopub.status.idle": "2025-05-15T16:18:49.650433Z",
     "shell.execute_reply": "2025-05-15T16:18:49.650037Z"
    },
    "papermill": {
     "duration": 274.206933,
     "end_time": "2025-05-15T16:18:49.651392",
     "exception": false,
     "start_time": "2025-05-15T16:14:15.444459",
     "status": "completed"
    },
    "scrolled": true,
    "tags": []
   },
   "outputs": [
    {
     "name": "stderr",
     "output_type": "stream",
     "text": [
      "[I 2025-05-15 18:14:15,453] A new study created in memory with name: no-name-e2e5e9ec-8a4e-4806-9125-c2a4a171d623\n"
     ]
    },
    {
     "name": "stderr",
     "output_type": "stream",
     "text": [
      "[I 2025-05-15 18:14:22,050] Trial 0 finished with value: -0.508822 and parameters: {'max_depth': 9, 'min_child_weight': 238, 'subsample': 0.7587945476302645, 'colsample_bynode': 0.6387926357773329, 'learning_rate': 0.0026368755339723046}. Best is trial 0 with value: -0.508822.\n"
     ]
    },
    {
     "name": "stderr",
     "output_type": "stream",
     "text": [
      "[I 2025-05-15 18:14:35,055] Trial 1 finished with value: -0.657599 and parameters: {'max_depth': 5, 'min_child_weight': 15, 'subsample': 0.8795585311974417, 'colsample_bynode': 0.6410035105688879, 'learning_rate': 0.08148293210105287}. Best is trial 1 with value: -0.657599.\n"
     ]
    },
    {
     "name": "stderr",
     "output_type": "stream",
     "text": [
      "[I 2025-05-15 18:14:38,548] Trial 2 finished with value: -0.48554 and parameters: {'max_depth': 3, 'min_child_weight': 243, 'subsample': 0.8491983767203796, 'colsample_bynode': 0.29110519961044856, 'learning_rate': 0.003095566460242371}. Best is trial 1 with value: -0.657599.\n"
     ]
    },
    {
     "name": "stderr",
     "output_type": "stream",
     "text": [
      "[I 2025-05-15 18:15:09,690] Trial 3 finished with value: -0.59422 and parameters: {'max_depth': 6, 'min_child_weight': 77, 'subsample': 0.5722807884690141, 'colsample_bynode': 0.48875051677790415, 'learning_rate': 0.006109683510122491}. Best is trial 1 with value: -0.657599.\n"
     ]
    },
    {
     "name": "stderr",
     "output_type": "stream",
     "text": [
      "[I 2025-05-15 18:15:40,584] Trial 4 finished with value: -0.646189 and parameters: {'max_depth': 14, 'min_child_weight': 35, 'subsample': 0.3629301836816964, 'colsample_bynode': 0.4297256589643226, 'learning_rate': 0.01701841881702917}. Best is trial 1 with value: -0.657599.\n"
     ]
    },
    {
     "name": "stderr",
     "output_type": "stream",
     "text": [
      "[I 2025-05-15 18:15:43,079] Trial 5 finished with value: -0.531658 and parameters: {'max_depth': 17, 'min_child_weight': 50, 'subsample': 0.5628109945722505, 'colsample_bynode': 0.6331731119758383, 'learning_rate': 0.0013346527038305934}. Best is trial 1 with value: -0.657599.\n"
     ]
    },
    {
     "name": "stderr",
     "output_type": "stream",
     "text": [
      "[I 2025-05-15 18:15:47,281] Trial 6 finished with value: -0.645684 and parameters: {'max_depth': 13, 'min_child_weight': 43, 'subsample': 0.1585464336867516, 'colsample_bynode': 0.9539969835279999, 'learning_rate': 0.4038423798071558}. Best is trial 1 with value: -0.657599.\n"
     ]
    },
    {
     "name": "stderr",
     "output_type": "stream",
     "text": [
      "[I 2025-05-15 18:15:47,489] Trial 7 pruned. Trial was pruned at iteration 0.\n"
     ]
    },
    {
     "name": "stderr",
     "output_type": "stream",
     "text": [
      "[I 2025-05-15 18:15:47,680] Trial 8 pruned. Trial was pruned at iteration 0.\n"
     ]
    },
    {
     "name": "stderr",
     "output_type": "stream",
     "text": [
      "[I 2025-05-15 18:15:48,055] Trial 9 pruned. Trial was pruned at iteration 2.\n"
     ]
    },
    {
     "name": "stderr",
     "output_type": "stream",
     "text": [
      "[I 2025-05-15 18:16:03,840] Trial 10 finished with value: -0.660821 and parameters: {'max_depth': 9, 'min_child_weight': 2, 'subsample': 0.9725833997090791, 'colsample_bynode': 0.11616568805333755, 'learning_rate': 0.17780618353487967}. Best is trial 10 with value: -0.660821.\n"
     ]
    },
    {
     "name": "stderr",
     "output_type": "stream",
     "text": [
      "[I 2025-05-15 18:16:19,064] Trial 11 finished with value: -0.65647 and parameters: {'max_depth': 9, 'min_child_weight': 4, 'subsample': 0.9818290990185045, 'colsample_bynode': 0.17702656156719, 'learning_rate': 0.11568531411766632}. Best is trial 10 with value: -0.660821.\n"
     ]
    },
    {
     "name": "stderr",
     "output_type": "stream",
     "text": [
      "[I 2025-05-15 18:16:36,321] Trial 12 finished with value: -0.65498 and parameters: {'max_depth': 9, 'min_child_weight': 3, 'subsample': 0.9754570370311046, 'colsample_bynode': 0.14672783827498995, 'learning_rate': 0.08954997670613858}. Best is trial 10 with value: -0.660821.\n"
     ]
    },
    {
     "name": "stderr",
     "output_type": "stream",
     "text": [
      "[I 2025-05-15 18:16:36,539] Trial 13 pruned. Trial was pruned at iteration 0.\n"
     ]
    },
    {
     "name": "stderr",
     "output_type": "stream",
     "text": [
      "[I 2025-05-15 18:16:36,799] Trial 14 pruned. Trial was pruned at iteration 0.\n"
     ]
    },
    {
     "name": "stderr",
     "output_type": "stream",
     "text": [
      "[I 2025-05-15 18:17:19,310] Trial 15 pruned. Trial was pruned at iteration 92.\n"
     ]
    },
    {
     "name": "stderr",
     "output_type": "stream",
     "text": [
      "[I 2025-05-15 18:17:19,548] Trial 16 pruned. Trial was pruned at iteration 0.\n"
     ]
    },
    {
     "name": "stderr",
     "output_type": "stream",
     "text": [
      "[I 2025-05-15 18:17:19,749] Trial 17 pruned. Trial was pruned at iteration 0.\n"
     ]
    },
    {
     "name": "stderr",
     "output_type": "stream",
     "text": [
      "[I 2025-05-15 18:17:28,975] Trial 18 finished with value: -0.662078 and parameters: {'max_depth': 11, 'min_child_weight': 37, 'subsample': 0.9135233791821833, 'colsample_bynode': 0.24900065324684006, 'learning_rate': 0.16384379577990202}. Best is trial 18 with value: -0.662078.\n"
     ]
    },
    {
     "name": "stderr",
     "output_type": "stream",
     "text": [
      "[I 2025-05-15 18:17:34,779] Trial 19 finished with value: -0.659661 and parameters: {'max_depth': 12, 'min_child_weight': 54, 'subsample': 0.9723428668438461, 'colsample_bynode': 0.10989027031939402, 'learning_rate': 0.18810756331924286}. Best is trial 18 with value: -0.662078.\n"
     ]
    },
    {
     "name": "stderr",
     "output_type": "stream",
     "text": [
      "[I 2025-05-15 18:17:35,166] Trial 20 pruned. Trial was pruned at iteration 2.\n"
     ]
    },
    {
     "name": "stderr",
     "output_type": "stream",
     "text": [
      "[I 2025-05-15 18:17:35,415] Trial 21 pruned. Trial was pruned at iteration 0.\n"
     ]
    },
    {
     "name": "stderr",
     "output_type": "stream",
     "text": [
      "[I 2025-05-15 18:17:35,642] Trial 22 pruned. Trial was pruned at iteration 0.\n"
     ]
    },
    {
     "name": "stderr",
     "output_type": "stream",
     "text": [
      "[I 2025-05-15 18:17:43,053] Trial 23 finished with value: -0.660337 and parameters: {'max_depth': 11, 'min_child_weight': 25, 'subsample': 0.8137853226049021, 'colsample_bynode': 0.2966287981224229, 'learning_rate': 0.3239547181707508}. Best is trial 18 with value: -0.662078.\n"
     ]
    },
    {
     "name": "stderr",
     "output_type": "stream",
     "text": [
      "[I 2025-05-15 18:17:46,979] Trial 24 finished with value: -0.654537 and parameters: {'max_depth': 7, 'min_child_weight': 26, 'subsample': 0.7889352127047602, 'colsample_bynode': 0.3376633298161329, 'learning_rate': 0.4519621309342073}. Best is trial 18 with value: -0.662078.\n"
     ]
    },
    {
     "name": "stderr",
     "output_type": "stream",
     "text": [
      "[I 2025-05-15 18:17:53,335] Trial 25 finished with value: -0.660529 and parameters: {'max_depth': 10, 'min_child_weight': 23, 'subsample': 0.6640977892326576, 'colsample_bynode': 0.2389417819596998, 'learning_rate': 0.2798009162107459}. Best is trial 18 with value: -0.662078.\n"
     ]
    },
    {
     "name": "stderr",
     "output_type": "stream",
     "text": [
      "[I 2025-05-15 18:17:53,528] Trial 26 pruned. Trial was pruned at iteration 0.\n"
     ]
    },
    {
     "name": "stderr",
     "output_type": "stream",
     "text": [
      "[I 2025-05-15 18:17:53,737] Trial 27 pruned. Trial was pruned at iteration 0.\n"
     ]
    },
    {
     "name": "stderr",
     "output_type": "stream",
     "text": [
      "[I 2025-05-15 18:17:58,726] Trial 28 finished with value: -0.650054 and parameters: {'max_depth': 14, 'min_child_weight': 19, 'subsample': 0.7502079515357138, 'colsample_bynode': 0.3859848817344998, 'learning_rate': 0.49641512112239256}. Best is trial 18 with value: -0.662078.\n"
     ]
    },
    {
     "name": "stderr",
     "output_type": "stream",
     "text": [
      "[I 2025-05-15 18:17:58,918] Trial 29 pruned. Trial was pruned at iteration 0.\n"
     ]
    },
    {
     "name": "stderr",
     "output_type": "stream",
     "text": [
      "[I 2025-05-15 18:17:59,131] Trial 30 pruned. Trial was pruned at iteration 0.\n"
     ]
    },
    {
     "name": "stderr",
     "output_type": "stream",
     "text": [
      "[I 2025-05-15 18:18:04,760] Trial 31 finished with value: -0.65752 and parameters: {'max_depth': 11, 'min_child_weight': 23, 'subsample': 0.8009204599335167, 'colsample_bynode': 0.2696631247657278, 'learning_rate': 0.33520941417627514}. Best is trial 18 with value: -0.662078.\n"
     ]
    },
    {
     "name": "stderr",
     "output_type": "stream",
     "text": [
      "[I 2025-05-15 18:18:06,527] Trial 32 pruned. Trial was pruned at iteration 13.\n"
     ]
    },
    {
     "name": "stderr",
     "output_type": "stream",
     "text": [
      "[I 2025-05-15 18:18:11,126] Trial 33 finished with value: -0.653582 and parameters: {'max_depth': 9, 'min_child_weight': 36, 'subsample': 0.9295628329018972, 'colsample_bynode': 0.3213593672720285, 'learning_rate': 0.26590195962495927}. Best is trial 18 with value: -0.662078.\n"
     ]
    },
    {
     "name": "stderr",
     "output_type": "stream",
     "text": [
      "[I 2025-05-15 18:18:12,466] Trial 34 pruned. Trial was pruned at iteration 7.\n"
     ]
    },
    {
     "name": "stderr",
     "output_type": "stream",
     "text": [
      "[I 2025-05-15 18:18:12,849] Trial 35 pruned. Trial was pruned at iteration 2.\n"
     ]
    },
    {
     "name": "stderr",
     "output_type": "stream",
     "text": [
      "[I 2025-05-15 18:18:13,055] Trial 36 pruned. Trial was pruned at iteration 0.\n"
     ]
    },
    {
     "name": "stderr",
     "output_type": "stream",
     "text": [
      "[I 2025-05-15 18:18:13,255] Trial 37 pruned. Trial was pruned at iteration 0.\n"
     ]
    },
    {
     "name": "stderr",
     "output_type": "stream",
     "text": [
      "[I 2025-05-15 18:18:22,447] Trial 38 finished with value: -0.661962 and parameters: {'max_depth': 15, 'min_child_weight': 47, 'subsample': 0.9199798580882802, 'colsample_bynode': 0.44920760260940945, 'learning_rate': 0.32278357361815113}. Best is trial 18 with value: -0.662078.\n"
     ]
    },
    {
     "name": "stderr",
     "output_type": "stream",
     "text": [
      "[I 2025-05-15 18:18:22,814] Trial 39 pruned. Trial was pruned at iteration 1.\n"
     ]
    },
    {
     "name": "stderr",
     "output_type": "stream",
     "text": [
      "[I 2025-05-15 18:18:23,029] Trial 40 pruned. Trial was pruned at iteration 0.\n"
     ]
    },
    {
     "name": "stderr",
     "output_type": "stream",
     "text": [
      "[I 2025-05-15 18:18:23,355] Trial 41 pruned. Trial was pruned at iteration 1.\n"
     ]
    },
    {
     "name": "stderr",
     "output_type": "stream",
     "text": [
      "[I 2025-05-15 18:18:35,039] Trial 42 finished with value: -0.658423 and parameters: {'max_depth': 18, 'min_child_weight': 13, 'subsample': 0.7410081368507048, 'colsample_bynode': 0.3564394877528483, 'learning_rate': 0.23868601516131555}. Best is trial 18 with value: -0.662078.\n"
     ]
    },
    {
     "name": "stderr",
     "output_type": "stream",
     "text": [
      "[I 2025-05-15 18:18:41,660] Trial 43 finished with value: -0.656786 and parameters: {'max_depth': 15, 'min_child_weight': 34, 'subsample': 0.9260161103791196, 'colsample_bynode': 0.4288256600753224, 'learning_rate': 0.3590886710071425}. Best is trial 18 with value: -0.662078.\n"
     ]
    },
    {
     "name": "stderr",
     "output_type": "stream",
     "text": [
      "[I 2025-05-15 18:18:47,399] Trial 44 pruned. Trial was pruned at iteration 20.\n"
     ]
    },
    {
     "name": "stderr",
     "output_type": "stream",
     "text": [
      "[I 2025-05-15 18:18:47,621] Trial 45 pruned. Trial was pruned at iteration 0.\n"
     ]
    },
    {
     "name": "stderr",
     "output_type": "stream",
     "text": [
      "[I 2025-05-15 18:18:48,383] Trial 46 pruned. Trial was pruned at iteration 4.\n"
     ]
    },
    {
     "name": "stderr",
     "output_type": "stream",
     "text": [
      "[I 2025-05-15 18:18:48,617] Trial 47 pruned. Trial was pruned at iteration 0.\n"
     ]
    },
    {
     "name": "stderr",
     "output_type": "stream",
     "text": [
      "[I 2025-05-15 18:18:49,109] Trial 48 pruned. Trial was pruned at iteration 2.\n"
     ]
    },
    {
     "name": "stderr",
     "output_type": "stream",
     "text": [
      "[I 2025-05-15 18:18:49,573] Trial 49 pruned. Trial was pruned at iteration 2.\n"
     ]
    }
   ],
   "source": [
    "sampler = optuna.samplers.TPESampler(seed=42)\n",
    "study = optuna.create_study(direction='minimize', sampler=sampler)\n",
    "study.optimize(objective, n_trials=N_TRIALS, gc_after_trial=True)"
   ]
  },
  {
   "cell_type": "code",
   "execution_count": 20,
   "id": "6749528f",
   "metadata": {
    "execution": {
     "iopub.execute_input": "2025-05-15T16:18:49.670168Z",
     "iopub.status.busy": "2025-05-15T16:18:49.669987Z",
     "iopub.status.idle": "2025-05-15T16:18:49.696885Z",
     "shell.execute_reply": "2025-05-15T16:18:49.696612Z"
    },
    "papermill": {
     "duration": 0.036862,
     "end_time": "2025-05-15T16:18:49.697639",
     "exception": false,
     "start_time": "2025-05-15T16:18:49.660777",
     "status": "completed"
    },
    "tags": []
   },
   "outputs": [
    {
     "data": {
      "text/plain": [
       "['/scratch_isilon/groups/singlecell/shared/projects/Inflammation-PBMCs-Atlas/03_downstream_analysis/08_gene_importance/xgboost_external_validation/xgboost_TopN_genes/results_20/study/ILC_16_1_xgboost.pkl']"
      ]
     },
     "execution_count": 20,
     "metadata": {},
     "output_type": "execute_result"
    }
   ],
   "source": [
    "out_dir = here(f'03_downstream_analysis/08_gene_importance/xgboost_external_validation/xgboost_TopN_genes/results_{N_GENES}/study')\n",
    "\n",
    "if not os.path.exists(out_dir):\n",
    "    os.makedirs(out_dir)\n",
    "    \n",
    "joblib.dump(study,os.path.join(out_dir, f'{CELL_TYPE}_{SEED}_{TEST_SPLIT_IDX}_xgboost.pkl'))"
   ]
  },
  {
   "cell_type": "code",
   "execution_count": 21,
   "id": "a449b4e6",
   "metadata": {
    "execution": {
     "iopub.execute_input": "2025-05-15T16:18:49.713787Z",
     "iopub.status.busy": "2025-05-15T16:18:49.713559Z",
     "iopub.status.idle": "2025-05-15T16:18:56.422843Z",
     "shell.execute_reply": "2025-05-15T16:18:56.422512Z"
    },
    "papermill": {
     "duration": 6.718532,
     "end_time": "2025-05-15T16:18:56.423914",
     "exception": false,
     "start_time": "2025-05-15T16:18:49.705382",
     "status": "completed"
    },
    "tags": []
   },
   "outputs": [
    {
     "data": {
      "text/html": [
       "<style>#sk-container-id-1 {\n",
       "  /* Definition of color scheme common for light and dark mode */\n",
       "  --sklearn-color-text: black;\n",
       "  --sklearn-color-line: gray;\n",
       "  /* Definition of color scheme for unfitted estimators */\n",
       "  --sklearn-color-unfitted-level-0: #fff5e6;\n",
       "  --sklearn-color-unfitted-level-1: #f6e4d2;\n",
       "  --sklearn-color-unfitted-level-2: #ffe0b3;\n",
       "  --sklearn-color-unfitted-level-3: chocolate;\n",
       "  /* Definition of color scheme for fitted estimators */\n",
       "  --sklearn-color-fitted-level-0: #f0f8ff;\n",
       "  --sklearn-color-fitted-level-1: #d4ebff;\n",
       "  --sklearn-color-fitted-level-2: #b3dbfd;\n",
       "  --sklearn-color-fitted-level-3: cornflowerblue;\n",
       "\n",
       "  /* Specific color for light theme */\n",
       "  --sklearn-color-text-on-default-background: var(--sg-text-color, var(--theme-code-foreground, var(--jp-content-font-color1, black)));\n",
       "  --sklearn-color-background: var(--sg-background-color, var(--theme-background, var(--jp-layout-color0, white)));\n",
       "  --sklearn-color-border-box: var(--sg-text-color, var(--theme-code-foreground, var(--jp-content-font-color1, black)));\n",
       "  --sklearn-color-icon: #696969;\n",
       "\n",
       "  @media (prefers-color-scheme: dark) {\n",
       "    /* Redefinition of color scheme for dark theme */\n",
       "    --sklearn-color-text-on-default-background: var(--sg-text-color, var(--theme-code-foreground, var(--jp-content-font-color1, white)));\n",
       "    --sklearn-color-background: var(--sg-background-color, var(--theme-background, var(--jp-layout-color0, #111)));\n",
       "    --sklearn-color-border-box: var(--sg-text-color, var(--theme-code-foreground, var(--jp-content-font-color1, white)));\n",
       "    --sklearn-color-icon: #878787;\n",
       "  }\n",
       "}\n",
       "\n",
       "#sk-container-id-1 {\n",
       "  color: var(--sklearn-color-text);\n",
       "}\n",
       "\n",
       "#sk-container-id-1 pre {\n",
       "  padding: 0;\n",
       "}\n",
       "\n",
       "#sk-container-id-1 input.sk-hidden--visually {\n",
       "  border: 0;\n",
       "  clip: rect(1px 1px 1px 1px);\n",
       "  clip: rect(1px, 1px, 1px, 1px);\n",
       "  height: 1px;\n",
       "  margin: -1px;\n",
       "  overflow: hidden;\n",
       "  padding: 0;\n",
       "  position: absolute;\n",
       "  width: 1px;\n",
       "}\n",
       "\n",
       "#sk-container-id-1 div.sk-dashed-wrapped {\n",
       "  border: 1px dashed var(--sklearn-color-line);\n",
       "  margin: 0 0.4em 0.5em 0.4em;\n",
       "  box-sizing: border-box;\n",
       "  padding-bottom: 0.4em;\n",
       "  background-color: var(--sklearn-color-background);\n",
       "}\n",
       "\n",
       "#sk-container-id-1 div.sk-container {\n",
       "  /* jupyter's `normalize.less` sets `[hidden] { display: none; }`\n",
       "     but bootstrap.min.css set `[hidden] { display: none !important; }`\n",
       "     so we also need the `!important` here to be able to override the\n",
       "     default hidden behavior on the sphinx rendered scikit-learn.org.\n",
       "     See: https://github.com/scikit-learn/scikit-learn/issues/21755 */\n",
       "  display: inline-block !important;\n",
       "  position: relative;\n",
       "}\n",
       "\n",
       "#sk-container-id-1 div.sk-text-repr-fallback {\n",
       "  display: none;\n",
       "}\n",
       "\n",
       "div.sk-parallel-item,\n",
       "div.sk-serial,\n",
       "div.sk-item {\n",
       "  /* draw centered vertical line to link estimators */\n",
       "  background-image: linear-gradient(var(--sklearn-color-text-on-default-background), var(--sklearn-color-text-on-default-background));\n",
       "  background-size: 2px 100%;\n",
       "  background-repeat: no-repeat;\n",
       "  background-position: center center;\n",
       "}\n",
       "\n",
       "/* Parallel-specific style estimator block */\n",
       "\n",
       "#sk-container-id-1 div.sk-parallel-item::after {\n",
       "  content: \"\";\n",
       "  width: 100%;\n",
       "  border-bottom: 2px solid var(--sklearn-color-text-on-default-background);\n",
       "  flex-grow: 1;\n",
       "}\n",
       "\n",
       "#sk-container-id-1 div.sk-parallel {\n",
       "  display: flex;\n",
       "  align-items: stretch;\n",
       "  justify-content: center;\n",
       "  background-color: var(--sklearn-color-background);\n",
       "  position: relative;\n",
       "}\n",
       "\n",
       "#sk-container-id-1 div.sk-parallel-item {\n",
       "  display: flex;\n",
       "  flex-direction: column;\n",
       "}\n",
       "\n",
       "#sk-container-id-1 div.sk-parallel-item:first-child::after {\n",
       "  align-self: flex-end;\n",
       "  width: 50%;\n",
       "}\n",
       "\n",
       "#sk-container-id-1 div.sk-parallel-item:last-child::after {\n",
       "  align-self: flex-start;\n",
       "  width: 50%;\n",
       "}\n",
       "\n",
       "#sk-container-id-1 div.sk-parallel-item:only-child::after {\n",
       "  width: 0;\n",
       "}\n",
       "\n",
       "/* Serial-specific style estimator block */\n",
       "\n",
       "#sk-container-id-1 div.sk-serial {\n",
       "  display: flex;\n",
       "  flex-direction: column;\n",
       "  align-items: center;\n",
       "  background-color: var(--sklearn-color-background);\n",
       "  padding-right: 1em;\n",
       "  padding-left: 1em;\n",
       "}\n",
       "\n",
       "\n",
       "/* Toggleable style: style used for estimator/Pipeline/ColumnTransformer box that is\n",
       "clickable and can be expanded/collapsed.\n",
       "- Pipeline and ColumnTransformer use this feature and define the default style\n",
       "- Estimators will overwrite some part of the style using the `sk-estimator` class\n",
       "*/\n",
       "\n",
       "/* Pipeline and ColumnTransformer style (default) */\n",
       "\n",
       "#sk-container-id-1 div.sk-toggleable {\n",
       "  /* Default theme specific background. It is overwritten whether we have a\n",
       "  specific estimator or a Pipeline/ColumnTransformer */\n",
       "  background-color: var(--sklearn-color-background);\n",
       "}\n",
       "\n",
       "/* Toggleable label */\n",
       "#sk-container-id-1 label.sk-toggleable__label {\n",
       "  cursor: pointer;\n",
       "  display: block;\n",
       "  width: 100%;\n",
       "  margin-bottom: 0;\n",
       "  padding: 0.5em;\n",
       "  box-sizing: border-box;\n",
       "  text-align: center;\n",
       "}\n",
       "\n",
       "#sk-container-id-1 label.sk-toggleable__label-arrow:before {\n",
       "  /* Arrow on the left of the label */\n",
       "  content: \"▸\";\n",
       "  float: left;\n",
       "  margin-right: 0.25em;\n",
       "  color: var(--sklearn-color-icon);\n",
       "}\n",
       "\n",
       "#sk-container-id-1 label.sk-toggleable__label-arrow:hover:before {\n",
       "  color: var(--sklearn-color-text);\n",
       "}\n",
       "\n",
       "/* Toggleable content - dropdown */\n",
       "\n",
       "#sk-container-id-1 div.sk-toggleable__content {\n",
       "  max-height: 0;\n",
       "  max-width: 0;\n",
       "  overflow: hidden;\n",
       "  text-align: left;\n",
       "  /* unfitted */\n",
       "  background-color: var(--sklearn-color-unfitted-level-0);\n",
       "}\n",
       "\n",
       "#sk-container-id-1 div.sk-toggleable__content.fitted {\n",
       "  /* fitted */\n",
       "  background-color: var(--sklearn-color-fitted-level-0);\n",
       "}\n",
       "\n",
       "#sk-container-id-1 div.sk-toggleable__content pre {\n",
       "  margin: 0.2em;\n",
       "  border-radius: 0.25em;\n",
       "  color: var(--sklearn-color-text);\n",
       "  /* unfitted */\n",
       "  background-color: var(--sklearn-color-unfitted-level-0);\n",
       "}\n",
       "\n",
       "#sk-container-id-1 div.sk-toggleable__content.fitted pre {\n",
       "  /* unfitted */\n",
       "  background-color: var(--sklearn-color-fitted-level-0);\n",
       "}\n",
       "\n",
       "#sk-container-id-1 input.sk-toggleable__control:checked~div.sk-toggleable__content {\n",
       "  /* Expand drop-down */\n",
       "  max-height: 200px;\n",
       "  max-width: 100%;\n",
       "  overflow: auto;\n",
       "}\n",
       "\n",
       "#sk-container-id-1 input.sk-toggleable__control:checked~label.sk-toggleable__label-arrow:before {\n",
       "  content: \"▾\";\n",
       "}\n",
       "\n",
       "/* Pipeline/ColumnTransformer-specific style */\n",
       "\n",
       "#sk-container-id-1 div.sk-label input.sk-toggleable__control:checked~label.sk-toggleable__label {\n",
       "  color: var(--sklearn-color-text);\n",
       "  background-color: var(--sklearn-color-unfitted-level-2);\n",
       "}\n",
       "\n",
       "#sk-container-id-1 div.sk-label.fitted input.sk-toggleable__control:checked~label.sk-toggleable__label {\n",
       "  background-color: var(--sklearn-color-fitted-level-2);\n",
       "}\n",
       "\n",
       "/* Estimator-specific style */\n",
       "\n",
       "/* Colorize estimator box */\n",
       "#sk-container-id-1 div.sk-estimator input.sk-toggleable__control:checked~label.sk-toggleable__label {\n",
       "  /* unfitted */\n",
       "  background-color: var(--sklearn-color-unfitted-level-2);\n",
       "}\n",
       "\n",
       "#sk-container-id-1 div.sk-estimator.fitted input.sk-toggleable__control:checked~label.sk-toggleable__label {\n",
       "  /* fitted */\n",
       "  background-color: var(--sklearn-color-fitted-level-2);\n",
       "}\n",
       "\n",
       "#sk-container-id-1 div.sk-label label.sk-toggleable__label,\n",
       "#sk-container-id-1 div.sk-label label {\n",
       "  /* The background is the default theme color */\n",
       "  color: var(--sklearn-color-text-on-default-background);\n",
       "}\n",
       "\n",
       "/* On hover, darken the color of the background */\n",
       "#sk-container-id-1 div.sk-label:hover label.sk-toggleable__label {\n",
       "  color: var(--sklearn-color-text);\n",
       "  background-color: var(--sklearn-color-unfitted-level-2);\n",
       "}\n",
       "\n",
       "/* Label box, darken color on hover, fitted */\n",
       "#sk-container-id-1 div.sk-label.fitted:hover label.sk-toggleable__label.fitted {\n",
       "  color: var(--sklearn-color-text);\n",
       "  background-color: var(--sklearn-color-fitted-level-2);\n",
       "}\n",
       "\n",
       "/* Estimator label */\n",
       "\n",
       "#sk-container-id-1 div.sk-label label {\n",
       "  font-family: monospace;\n",
       "  font-weight: bold;\n",
       "  display: inline-block;\n",
       "  line-height: 1.2em;\n",
       "}\n",
       "\n",
       "#sk-container-id-1 div.sk-label-container {\n",
       "  text-align: center;\n",
       "}\n",
       "\n",
       "/* Estimator-specific */\n",
       "#sk-container-id-1 div.sk-estimator {\n",
       "  font-family: monospace;\n",
       "  border: 1px dotted var(--sklearn-color-border-box);\n",
       "  border-radius: 0.25em;\n",
       "  box-sizing: border-box;\n",
       "  margin-bottom: 0.5em;\n",
       "  /* unfitted */\n",
       "  background-color: var(--sklearn-color-unfitted-level-0);\n",
       "}\n",
       "\n",
       "#sk-container-id-1 div.sk-estimator.fitted {\n",
       "  /* fitted */\n",
       "  background-color: var(--sklearn-color-fitted-level-0);\n",
       "}\n",
       "\n",
       "/* on hover */\n",
       "#sk-container-id-1 div.sk-estimator:hover {\n",
       "  /* unfitted */\n",
       "  background-color: var(--sklearn-color-unfitted-level-2);\n",
       "}\n",
       "\n",
       "#sk-container-id-1 div.sk-estimator.fitted:hover {\n",
       "  /* fitted */\n",
       "  background-color: var(--sklearn-color-fitted-level-2);\n",
       "}\n",
       "\n",
       "/* Specification for estimator info (e.g. \"i\" and \"?\") */\n",
       "\n",
       "/* Common style for \"i\" and \"?\" */\n",
       "\n",
       ".sk-estimator-doc-link,\n",
       "a:link.sk-estimator-doc-link,\n",
       "a:visited.sk-estimator-doc-link {\n",
       "  float: right;\n",
       "  font-size: smaller;\n",
       "  line-height: 1em;\n",
       "  font-family: monospace;\n",
       "  background-color: var(--sklearn-color-background);\n",
       "  border-radius: 1em;\n",
       "  height: 1em;\n",
       "  width: 1em;\n",
       "  text-decoration: none !important;\n",
       "  margin-left: 1ex;\n",
       "  /* unfitted */\n",
       "  border: var(--sklearn-color-unfitted-level-1) 1pt solid;\n",
       "  color: var(--sklearn-color-unfitted-level-1);\n",
       "}\n",
       "\n",
       ".sk-estimator-doc-link.fitted,\n",
       "a:link.sk-estimator-doc-link.fitted,\n",
       "a:visited.sk-estimator-doc-link.fitted {\n",
       "  /* fitted */\n",
       "  border: var(--sklearn-color-fitted-level-1) 1pt solid;\n",
       "  color: var(--sklearn-color-fitted-level-1);\n",
       "}\n",
       "\n",
       "/* On hover */\n",
       "div.sk-estimator:hover .sk-estimator-doc-link:hover,\n",
       ".sk-estimator-doc-link:hover,\n",
       "div.sk-label-container:hover .sk-estimator-doc-link:hover,\n",
       ".sk-estimator-doc-link:hover {\n",
       "  /* unfitted */\n",
       "  background-color: var(--sklearn-color-unfitted-level-3);\n",
       "  color: var(--sklearn-color-background);\n",
       "  text-decoration: none;\n",
       "}\n",
       "\n",
       "div.sk-estimator.fitted:hover .sk-estimator-doc-link.fitted:hover,\n",
       ".sk-estimator-doc-link.fitted:hover,\n",
       "div.sk-label-container:hover .sk-estimator-doc-link.fitted:hover,\n",
       ".sk-estimator-doc-link.fitted:hover {\n",
       "  /* fitted */\n",
       "  background-color: var(--sklearn-color-fitted-level-3);\n",
       "  color: var(--sklearn-color-background);\n",
       "  text-decoration: none;\n",
       "}\n",
       "\n",
       "/* Span, style for the box shown on hovering the info icon */\n",
       ".sk-estimator-doc-link span {\n",
       "  display: none;\n",
       "  z-index: 9999;\n",
       "  position: relative;\n",
       "  font-weight: normal;\n",
       "  right: .2ex;\n",
       "  padding: .5ex;\n",
       "  margin: .5ex;\n",
       "  width: min-content;\n",
       "  min-width: 20ex;\n",
       "  max-width: 50ex;\n",
       "  color: var(--sklearn-color-text);\n",
       "  box-shadow: 2pt 2pt 4pt #999;\n",
       "  /* unfitted */\n",
       "  background: var(--sklearn-color-unfitted-level-0);\n",
       "  border: .5pt solid var(--sklearn-color-unfitted-level-3);\n",
       "}\n",
       "\n",
       ".sk-estimator-doc-link.fitted span {\n",
       "  /* fitted */\n",
       "  background: var(--sklearn-color-fitted-level-0);\n",
       "  border: var(--sklearn-color-fitted-level-3);\n",
       "}\n",
       "\n",
       ".sk-estimator-doc-link:hover span {\n",
       "  display: block;\n",
       "}\n",
       "\n",
       "/* \"?\"-specific style due to the `<a>` HTML tag */\n",
       "\n",
       "#sk-container-id-1 a.estimator_doc_link {\n",
       "  float: right;\n",
       "  font-size: 1rem;\n",
       "  line-height: 1em;\n",
       "  font-family: monospace;\n",
       "  background-color: var(--sklearn-color-background);\n",
       "  border-radius: 1rem;\n",
       "  height: 1rem;\n",
       "  width: 1rem;\n",
       "  text-decoration: none;\n",
       "  /* unfitted */\n",
       "  color: var(--sklearn-color-unfitted-level-1);\n",
       "  border: var(--sklearn-color-unfitted-level-1) 1pt solid;\n",
       "}\n",
       "\n",
       "#sk-container-id-1 a.estimator_doc_link.fitted {\n",
       "  /* fitted */\n",
       "  border: var(--sklearn-color-fitted-level-1) 1pt solid;\n",
       "  color: var(--sklearn-color-fitted-level-1);\n",
       "}\n",
       "\n",
       "/* On hover */\n",
       "#sk-container-id-1 a.estimator_doc_link:hover {\n",
       "  /* unfitted */\n",
       "  background-color: var(--sklearn-color-unfitted-level-3);\n",
       "  color: var(--sklearn-color-background);\n",
       "  text-decoration: none;\n",
       "}\n",
       "\n",
       "#sk-container-id-1 a.estimator_doc_link.fitted:hover {\n",
       "  /* fitted */\n",
       "  background-color: var(--sklearn-color-fitted-level-3);\n",
       "}\n",
       "</style><div id=\"sk-container-id-1\" class=\"sk-top-container\"><div class=\"sk-text-repr-fallback\"><pre>XGBClassifier(base_score=None, booster=None, callbacks=None,\n",
       "              colsample_bylevel=None, colsample_bynode=0.24900065324684006,\n",
       "              colsample_bytree=None, device=None, early_stopping_rounds=None,\n",
       "              enable_categorical=False,\n",
       "              eval_metric=&lt;function custom_f1_score at 0x7facef1cfba0&gt;,\n",
       "              feature_types=None, gamma=None, grow_policy=None,\n",
       "              importance_type=None, interaction_constraints=None,\n",
       "              learning_rate=0.16384379577990202, max_bin=None,\n",
       "              max_cat_threshold=None, max_cat_to_onehot=None,\n",
       "              max_delta_step=None, max_depth=11, max_leaves=None,\n",
       "              min_child_weight=37, missing=nan, monotone_constraints=None,\n",
       "              multi_strategy=None, n_estimators=133, n_jobs=None,\n",
       "              num_parallel_tree=None, objective=&#x27;multi:softprob&#x27;, ...)</pre><b>In a Jupyter environment, please rerun this cell to show the HTML representation or trust the notebook. <br />On GitHub, the HTML representation is unable to render, please try loading this page with nbviewer.org.</b></div><div class=\"sk-container\" hidden><div class=\"sk-item\"><div class=\"sk-estimator fitted sk-toggleable\"><input class=\"sk-toggleable__control sk-hidden--visually\" id=\"sk-estimator-id-1\" type=\"checkbox\" checked><label for=\"sk-estimator-id-1\" class=\"sk-toggleable__label fitted sk-toggleable__label-arrow fitted\">&nbsp;XGBClassifier<span class=\"sk-estimator-doc-link fitted\">i<span>Fitted</span></span></label><div class=\"sk-toggleable__content fitted\"><pre>XGBClassifier(base_score=None, booster=None, callbacks=None,\n",
       "              colsample_bylevel=None, colsample_bynode=0.24900065324684006,\n",
       "              colsample_bytree=None, device=None, early_stopping_rounds=None,\n",
       "              enable_categorical=False,\n",
       "              eval_metric=&lt;function custom_f1_score at 0x7facef1cfba0&gt;,\n",
       "              feature_types=None, gamma=None, grow_policy=None,\n",
       "              importance_type=None, interaction_constraints=None,\n",
       "              learning_rate=0.16384379577990202, max_bin=None,\n",
       "              max_cat_threshold=None, max_cat_to_onehot=None,\n",
       "              max_delta_step=None, max_depth=11, max_leaves=None,\n",
       "              min_child_weight=37, missing=nan, monotone_constraints=None,\n",
       "              multi_strategy=None, n_estimators=133, n_jobs=None,\n",
       "              num_parallel_tree=None, objective=&#x27;multi:softprob&#x27;, ...)</pre></div> </div></div></div></div>"
      ],
      "text/plain": [
       "XGBClassifier(base_score=None, booster=None, callbacks=None,\n",
       "              colsample_bylevel=None, colsample_bynode=0.24900065324684006,\n",
       "              colsample_bytree=None, device=None, early_stopping_rounds=None,\n",
       "              enable_categorical=False,\n",
       "              eval_metric=<function custom_f1_score at 0x7facef1cfba0>,\n",
       "              feature_types=None, gamma=None, grow_policy=None,\n",
       "              importance_type=None, interaction_constraints=None,\n",
       "              learning_rate=0.16384379577990202, max_bin=None,\n",
       "              max_cat_threshold=None, max_cat_to_onehot=None,\n",
       "              max_delta_step=None, max_depth=11, max_leaves=None,\n",
       "              min_child_weight=37, missing=nan, monotone_constraints=None,\n",
       "              multi_strategy=None, n_estimators=133, n_jobs=None,\n",
       "              num_parallel_tree=None, objective='multi:softprob', ...)"
      ]
     },
     "execution_count": 21,
     "metadata": {},
     "output_type": "execute_result"
    }
   ],
   "source": [
    "n_estimators = int(study.best_trial.user_attrs['best_iteration']*1.2)\n",
    "xgb = xgboost.XGBClassifier(\n",
    "        eval_metric=eval_metric,\n",
    "        n_estimators=n_estimators,\n",
    "        **study.best_trial.params\n",
    "    )\n",
    "xgb.fit(\n",
    "    ssp.vstack((X_train, X_val)), \n",
    "    np.concatenate((y_train_enc, y_val_enc)),\n",
    "    verbose=1,\n",
    ")"
   ]
  },
  {
   "cell_type": "code",
   "execution_count": 22,
   "id": "019a50a9",
   "metadata": {
    "execution": {
     "iopub.execute_input": "2025-05-15T16:18:56.472563Z",
     "iopub.status.busy": "2025-05-15T16:18:56.472062Z",
     "iopub.status.idle": "2025-05-15T16:18:56.540434Z",
     "shell.execute_reply": "2025-05-15T16:18:56.540103Z"
    },
    "papermill": {
     "duration": 0.107788,
     "end_time": "2025-05-15T16:18:56.541209",
     "exception": false,
     "start_time": "2025-05-15T16:18:56.433421",
     "status": "completed"
    },
    "tags": []
   },
   "outputs": [
    {
     "data": {
      "text/plain": [
       "['/scratch_isilon/groups/singlecell/shared/projects/Inflammation-PBMCs-Atlas/03_downstream_analysis/08_gene_importance/xgboost_external_validation/xgboost_TopN_genes/results_20/best_model/ILC_16_1_xgb.json']"
      ]
     },
     "execution_count": 22,
     "metadata": {},
     "output_type": "execute_result"
    }
   ],
   "source": [
    "out_dir = here(f'03_downstream_analysis/08_gene_importance/xgboost_external_validation/xgboost_TopN_genes/results_{N_GENES}/best_model')\n",
    "\n",
    "if not os.path.exists(out_dir):\n",
    "    os.makedirs(out_dir)\n",
    "    \n",
    "joblib.dump(xgb, os.path.join(out_dir, f'{CELL_TYPE}_{SEED}_{TEST_SPLIT_IDX}_xgb.json'))"
   ]
  },
  {
   "cell_type": "code",
   "execution_count": 23,
   "id": "3629db48",
   "metadata": {
    "execution": {
     "iopub.execute_input": "2025-05-15T16:18:56.559260Z",
     "iopub.status.busy": "2025-05-15T16:18:56.559071Z",
     "iopub.status.idle": "2025-05-15T16:18:56.763515Z",
     "shell.execute_reply": "2025-05-15T16:18:56.763169Z"
    },
    "papermill": {
     "duration": 0.21429,
     "end_time": "2025-05-15T16:18:56.764380",
     "exception": false,
     "start_time": "2025-05-15T16:18:56.550090",
     "status": "completed"
    },
    "tags": []
   },
   "outputs": [],
   "source": [
    "df_pred_test = pd.DataFrame(dict(\n",
    "    cell_id=train_adata.obs.iloc[test_idxs].index.values,\n",
    "    y_true=y_test, \n",
    "    y_true_code=y_test_enc, \n",
    "    y_pred=xgb.predict(X_test))).set_index('cell_id')"
   ]
  },
  {
   "cell_type": "code",
   "execution_count": 24,
   "id": "165cb186",
   "metadata": {
    "execution": {
     "iopub.execute_input": "2025-05-15T16:18:56.802506Z",
     "iopub.status.busy": "2025-05-15T16:18:56.802147Z",
     "iopub.status.idle": "2025-05-15T16:18:56.859252Z",
     "shell.execute_reply": "2025-05-15T16:18:56.858915Z"
    },
    "papermill": {
     "duration": 0.071298,
     "end_time": "2025-05-15T16:18:56.860052",
     "exception": false,
     "start_time": "2025-05-15T16:18:56.788754",
     "status": "completed"
    },
    "tags": []
   },
   "outputs": [],
   "source": [
    "out_dir = here(f'03_downstream_analysis/08_gene_importance/xgboost_external_validation/xgboost_TopN_genes/results_{N_GENES}/predictions')\n",
    "\n",
    "if not os.path.exists(out_dir):\n",
    "    os.makedirs(out_dir)\n",
    "    \n",
    "df_pred_test.to_csv(os.path.join(out_dir, f'{CELL_TYPE}_{SEED}_{TEST_SPLIT_IDX}_pred_test.zip'))"
   ]
  },
  {
   "cell_type": "code",
   "execution_count": 25,
   "id": "fbb48416",
   "metadata": {
    "execution": {
     "iopub.execute_input": "2025-05-15T16:18:56.890055Z",
     "iopub.status.busy": "2025-05-15T16:18:56.889813Z",
     "iopub.status.idle": "2025-05-15T16:18:56.900035Z",
     "shell.execute_reply": "2025-05-15T16:18:56.899680Z"
    },
    "papermill": {
     "duration": 0.03203,
     "end_time": "2025-05-15T16:18:56.900770",
     "exception": false,
     "start_time": "2025-05-15T16:18:56.868740",
     "status": "completed"
    },
    "tags": []
   },
   "outputs": [],
   "source": [
    "metrics_dict = dict(\n",
    "    BAS=balanced_accuracy_score(y_true=df_pred_test.y_true_code, y_pred=df_pred_test.y_pred), WF1=f1_score(y_true=df_pred_test.y_true_code, y_pred=df_pred_test.y_pred,average='weighted'))"
   ]
  },
  {
   "cell_type": "code",
   "execution_count": 26,
   "id": "c89f1a6e",
   "metadata": {
    "execution": {
     "iopub.execute_input": "2025-05-15T16:18:56.919648Z",
     "iopub.status.busy": "2025-05-15T16:18:56.919422Z",
     "iopub.status.idle": "2025-05-15T16:18:56.922047Z",
     "shell.execute_reply": "2025-05-15T16:18:56.921751Z"
    },
    "papermill": {
     "duration": 0.012142,
     "end_time": "2025-05-15T16:18:56.922805",
     "exception": false,
     "start_time": "2025-05-15T16:18:56.910663",
     "status": "completed"
    },
    "tags": []
   },
   "outputs": [
    {
     "data": {
      "text/plain": [
       "{'BAS': 0.41814666147361584, 'WF1': 0.6719092344251398}"
      ]
     },
     "execution_count": 26,
     "metadata": {},
     "output_type": "execute_result"
    }
   ],
   "source": [
    "metrics_dict"
   ]
  },
  {
   "cell_type": "code",
   "execution_count": 27,
   "id": "894c0647",
   "metadata": {
    "execution": {
     "iopub.execute_input": "2025-05-15T16:18:56.964363Z",
     "iopub.status.busy": "2025-05-15T16:18:56.963948Z",
     "iopub.status.idle": "2025-05-15T16:18:56.972130Z",
     "shell.execute_reply": "2025-05-15T16:18:56.971850Z"
    },
    "papermill": {
     "duration": 0.017826,
     "end_time": "2025-05-15T16:18:56.972868",
     "exception": false,
     "start_time": "2025-05-15T16:18:56.955042",
     "status": "completed"
    },
    "tags": []
   },
   "outputs": [
    {
     "data": {
      "text/html": [
       "<div>\n",
       "<style scoped>\n",
       "    .dataframe tbody tr th:only-of-type {\n",
       "        vertical-align: middle;\n",
       "    }\n",
       "\n",
       "    .dataframe tbody tr th {\n",
       "        vertical-align: top;\n",
       "    }\n",
       "\n",
       "    .dataframe thead th {\n",
       "        text-align: right;\n",
       "    }\n",
       "</style>\n",
       "<table border=\"1\" class=\"dataframe\">\n",
       "  <thead>\n",
       "    <tr style=\"text-align: right;\">\n",
       "      <th></th>\n",
       "      <th>BAS</th>\n",
       "      <th>WF1</th>\n",
       "      <th>split_idx</th>\n",
       "      <th>gene_set_seed</th>\n",
       "      <th>cell_type</th>\n",
       "    </tr>\n",
       "  </thead>\n",
       "  <tbody>\n",
       "    <tr>\n",
       "      <th>0</th>\n",
       "      <td>0.418147</td>\n",
       "      <td>0.671909</td>\n",
       "      <td>1</td>\n",
       "      <td>16</td>\n",
       "      <td>ILC</td>\n",
       "    </tr>\n",
       "  </tbody>\n",
       "</table>\n",
       "</div>"
      ],
      "text/plain": [
       "        BAS       WF1  split_idx  gene_set_seed cell_type\n",
       "0  0.418147  0.671909          1             16       ILC"
      ]
     },
     "execution_count": 27,
     "metadata": {},
     "output_type": "execute_result"
    }
   ],
   "source": [
    "metrics_df = pd.DataFrame.from_dict([metrics_dict]).assign(split_idx=TEST_SPLIT_IDX, gene_set_seed=SEED, cell_type=CELL_TYPE)\n",
    "metrics_df"
   ]
  },
  {
   "cell_type": "code",
   "execution_count": 28,
   "id": "375a938a",
   "metadata": {
    "execution": {
     "iopub.execute_input": "2025-05-15T16:18:57.000145Z",
     "iopub.status.busy": "2025-05-15T16:18:56.999976Z",
     "iopub.status.idle": "2025-05-15T16:18:57.007952Z",
     "shell.execute_reply": "2025-05-15T16:18:57.007616Z"
    },
    "papermill": {
     "duration": 0.027222,
     "end_time": "2025-05-15T16:18:57.008680",
     "exception": false,
     "start_time": "2025-05-15T16:18:56.981458",
     "status": "completed"
    },
    "tags": []
   },
   "outputs": [],
   "source": [
    "out_dir = here(f'03_downstream_analysis/08_gene_importance/xgboost_external_validation/xgboost_TopN_genes/results_{N_GENES}/metrics')\n",
    "\n",
    "if not os.path.exists(out_dir):\n",
    "    os.makedirs(out_dir)\n",
    "    \n",
    "metrics_df.to_csv(os.path.join(out_dir, f'{CELL_TYPE}_{SEED}_{TEST_SPLIT_IDX}_metrics.zip'))"
   ]
  }
 ],
 "metadata": {
  "kernelspec": {
   "display_name": "Python 3 (ipykernel)",
   "language": "python",
   "name": "python3"
  },
  "language_info": {
   "codemirror_mode": {
    "name": "ipython",
    "version": 3
   },
   "file_extension": ".py",
   "mimetype": "text/x-python",
   "name": "python",
   "nbconvert_exporter": "python",
   "pygments_lexer": "ipython3",
   "version": "3.12.5"
  },
  "papermill": {
   "default_parameters": {},
   "duration": 285.856968,
   "end_time": "2025-05-15T16:18:57.933069",
   "environment_variables": {},
   "exception": null,
   "input_path": "02_xgboost_fitting_external_20genes.ipynb",
   "output_path": "results_20/executed_notebooks/xgboost_fitting_external_CT_ILC_GS_16_seed1.ipynb",
   "parameters": {
    "CELL_TYPE": "ILC",
    "SEED": 16,
    "TEST_SPLIT_IDX": 1
   },
   "start_time": "2025-05-15T16:14:12.076101",
   "version": "2.6.0"
  }
 },
 "nbformat": 4,
 "nbformat_minor": 5
}