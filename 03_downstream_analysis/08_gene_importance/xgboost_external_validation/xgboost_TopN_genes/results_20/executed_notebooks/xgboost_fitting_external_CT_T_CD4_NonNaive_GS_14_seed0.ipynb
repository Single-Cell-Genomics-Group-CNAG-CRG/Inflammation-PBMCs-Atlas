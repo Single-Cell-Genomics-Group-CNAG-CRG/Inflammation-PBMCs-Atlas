{
 "cells": [
  {
   "cell_type": "code",
   "execution_count": 1,
   "id": "5ca48125",
   "metadata": {
    "editable": true,
    "execution": {
     "iopub.execute_input": "2025-05-15T16:03:07.779847Z",
     "iopub.status.busy": "2025-05-15T16:03:07.779614Z",
     "iopub.status.idle": "2025-05-15T16:03:07.783123Z",
     "shell.execute_reply": "2025-05-15T16:03:07.782823Z"
    },
    "papermill": {
     "duration": 0.011295,
     "end_time": "2025-05-15T16:03:07.784026",
     "exception": false,
     "start_time": "2025-05-15T16:03:07.772731",
     "status": "completed"
    },
    "slideshow": {
     "slide_type": ""
    },
    "tags": [
     "parameters"
    ]
   },
   "outputs": [],
   "source": [
    "CELL_TYPE = 'pDC'\n",
    "N_GENES: int = 20\n",
    "SEED = 'shap_studyID' #'disease_NOstudy' 'study_NOdisease' or 'int' or 'shap_studyID'\n",
    "TEST_SPLIT_IDX: int = 1 #[0,4]"
   ]
  },
  {
   "cell_type": "code",
   "execution_count": 2,
   "id": "a590a68e",
   "metadata": {
    "execution": {
     "iopub.execute_input": "2025-05-15T16:03:07.796136Z",
     "iopub.status.busy": "2025-05-15T16:03:07.795797Z",
     "iopub.status.idle": "2025-05-15T16:03:07.797859Z",
     "shell.execute_reply": "2025-05-15T16:03:07.797560Z"
    },
    "papermill": {
     "duration": 0.009176,
     "end_time": "2025-05-15T16:03:07.798817",
     "exception": false,
     "start_time": "2025-05-15T16:03:07.789641",
     "status": "completed"
    },
    "tags": [
     "injected-parameters"
    ]
   },
   "outputs": [],
   "source": [
    "# Parameters\n",
    "CELL_TYPE = \"T_CD4_NonNaive\"\n",
    "SEED = 14\n",
    "TEST_SPLIT_IDX = 0\n"
   ]
  },
  {
   "cell_type": "code",
   "execution_count": 3,
   "id": "3c624d8e",
   "metadata": {
    "execution": {
     "iopub.execute_input": "2025-05-15T16:03:07.810673Z",
     "iopub.status.busy": "2025-05-15T16:03:07.810465Z",
     "iopub.status.idle": "2025-05-15T16:03:07.813048Z",
     "shell.execute_reply": "2025-05-15T16:03:07.812748Z"
    },
    "papermill": {
     "duration": 0.009412,
     "end_time": "2025-05-15T16:03:07.814050",
     "exception": false,
     "start_time": "2025-05-15T16:03:07.804638",
     "status": "completed"
    },
    "tags": []
   },
   "outputs": [],
   "source": [
    "N_SPLITS: int = 5\n",
    "N_TRIALS: int = 50"
   ]
  },
  {
   "cell_type": "code",
   "execution_count": 4,
   "id": "deb97aea",
   "metadata": {
    "execution": {
     "iopub.execute_input": "2025-05-15T16:03:07.825945Z",
     "iopub.status.busy": "2025-05-15T16:03:07.825772Z",
     "iopub.status.idle": "2025-05-15T16:03:09.224812Z",
     "shell.execute_reply": "2025-05-15T16:03:09.224334Z"
    },
    "papermill": {
     "duration": 1.407025,
     "end_time": "2025-05-15T16:03:09.226069",
     "exception": false,
     "start_time": "2025-05-15T16:03:07.819044",
     "status": "completed"
    },
    "tags": []
   },
   "outputs": [],
   "source": [
    "import os\n",
    "import sys\n",
    "from pyprojroot.here import here\n",
    "import pandas as pd\n",
    "import anndata as ad\n",
    "import numpy as np\n",
    "import math\n",
    "from sklearn.model_selection import StratifiedGroupKFold\n",
    "from sklearn.preprocessing import LabelEncoder\n",
    "from sklearn.metrics import f1_score\n",
    "import matplotlib.pyplot as plt\n",
    "import seaborn as sns\n",
    "from itertools import product\n",
    "from sklearn.metrics import balanced_accuracy_score, f1_score\n",
    "import optuna\n",
    "\n",
    "import joblib\n",
    "import pickle\n",
    "import datetime\n",
    "\n",
    "import collections\n",
    "\n",
    "import xgboost\n",
    "from sklearn.preprocessing import LabelEncoder\n",
    "\n",
    "import scipy.sparse as ssp\n",
    "import joblib\n",
    "\n",
    "from dotenv import load_dotenv"
   ]
  },
  {
   "cell_type": "code",
   "execution_count": 5,
   "id": "095c93a8",
   "metadata": {
    "execution": {
     "iopub.execute_input": "2025-05-15T16:03:09.277685Z",
     "iopub.status.busy": "2025-05-15T16:03:09.277090Z",
     "iopub.status.idle": "2025-05-15T16:03:09.283927Z",
     "shell.execute_reply": "2025-05-15T16:03:09.283599Z"
    },
    "papermill": {
     "duration": 0.038167,
     "end_time": "2025-05-15T16:03:09.284934",
     "exception": false,
     "start_time": "2025-05-15T16:03:09.246767",
     "status": "completed"
    },
    "tags": []
   },
   "outputs": [
    {
     "data": {
      "text/plain": [
       "True"
      ]
     },
     "execution_count": 5,
     "metadata": {},
     "output_type": "execute_result"
    }
   ],
   "source": [
    "load_dotenv()"
   ]
  },
  {
   "cell_type": "markdown",
   "id": "4914b3d9",
   "metadata": {
    "papermill": {
     "duration": 0.006215,
     "end_time": "2025-05-15T16:03:09.304589",
     "exception": false,
     "start_time": "2025-05-15T16:03:09.298374",
     "status": "completed"
    },
    "tags": []
   },
   "source": [
    "# LOAD DATASET"
   ]
  },
  {
   "cell_type": "code",
   "execution_count": 6,
   "id": "b7767f45",
   "metadata": {
    "execution": {
     "iopub.execute_input": "2025-05-15T16:03:09.318574Z",
     "iopub.status.busy": "2025-05-15T16:03:09.318100Z",
     "iopub.status.idle": "2025-05-15T16:03:09.964266Z",
     "shell.execute_reply": "2025-05-15T16:03:09.963756Z"
    },
    "papermill": {
     "duration": 0.653847,
     "end_time": "2025-05-15T16:03:09.965560",
     "exception": false,
     "start_time": "2025-05-15T16:03:09.311713",
     "status": "completed"
    },
    "tags": []
   },
   "outputs": [],
   "source": [
    "train_adata = ad.read_h5ad(\n",
    "    here(f'03_downstream_analysis/08_gene_importance/xgboost_external_validation/xgboost_TopN_genes/data_cellTypes/EXTERNAL_{CELL_TYPE}.filtered.log1p.h5ad')\n",
    ")"
   ]
  },
  {
   "cell_type": "code",
   "execution_count": 7,
   "id": "4074cf30",
   "metadata": {
    "execution": {
     "iopub.execute_input": "2025-05-15T16:03:10.006557Z",
     "iopub.status.busy": "2025-05-15T16:03:10.006400Z",
     "iopub.status.idle": "2025-05-15T16:03:10.038541Z",
     "shell.execute_reply": "2025-05-15T16:03:10.038130Z"
    },
    "papermill": {
     "duration": 0.064519,
     "end_time": "2025-05-15T16:03:10.039486",
     "exception": false,
     "start_time": "2025-05-15T16:03:09.974967",
     "status": "completed"
    },
    "tags": []
   },
   "outputs": [
    {
     "name": "stdout",
     "output_type": "stream",
     "text": [
      "['ENSG00000147443' 'ENSG00000102265' 'ENSG00000137441' 'ENSG00000173757'\n",
      " 'ENSG00000185201' 'ENSG00000183172' 'ENSG00000163191' 'ENSG00000130066'\n",
      " 'ENSG00000068796' 'ENSG00000117020' 'ENSG00000111716' 'ENSG00000100902'\n",
      " 'ENSG00000088986' 'ENSG00000105374' 'ENSG00000142669' 'ENSG00000126264'\n",
      " 'ENSG00000216490' 'ENSG00000171700' 'ENSG00000106803' 'ENSG00000100365'\n",
      " 'ENSG00000197061' 'ENSG00000128524' 'ENSG00000101695' 'ENSG00000121858'\n",
      " 'ENSG00000177606' 'ENSG00000139193' 'ENSG00000111678' 'ENSG00000138795'\n",
      " 'ENSG00000124762' 'ENSG00000108639' 'ENSG00000002549' 'ENSG00000167863'\n",
      " 'ENSG00000162739' 'ENSG00000172183' 'ENSG00000146278' 'ENSG00000110324'\n",
      " 'ENSG00000149311' 'ENSG00000163659' 'ENSG00000169554' 'ENSG00000177556'\n",
      " 'ENSG00000145220' 'ENSG00000089127' 'ENSG00000135916' 'ENSG00000153283'\n",
      " 'ENSG00000163513' 'ENSG00000167004' 'ENSG00000145675' 'ENSG00000122705'\n",
      " 'ENSG00000175390' 'ENSG00000135046' 'ENSG00000160710' 'ENSG00000101608'\n",
      " 'ENSG00000166710' 'ENSG00000089327' 'ENSG00000196396' 'ENSG00000026025'\n",
      " 'ENSG00000109787' 'ENSG00000100300' 'ENSG00000090382' 'ENSG00000175104'\n",
      " 'ENSG00000113263' 'ENSG00000026103' 'ENSG00000163600' 'ENSG00000057657'\n",
      " 'ENSG00000157873' 'ENSG00000068831' 'ENSG00000182866' 'ENSG00000134460'\n",
      " 'ENSG00000171476' 'ENSG00000179344' 'ENSG00000076662' 'ENSG00000051108'\n",
      " 'ENSG00000196961' 'ENSG00000111640' 'ENSG00000100385' 'ENSG00000152518'\n",
      " 'ENSG00000163131' 'ENSG00000162704' 'ENSG00000130429' 'ENSG00000164307'\n",
      " 'ENSG00000121966' 'ENSG00000182117' 'ENSG00000183020' 'ENSG00000243678'\n",
      " 'ENSG00000148834' 'ENSG00000101096' 'ENSG00000157514' 'ENSG00000104312'\n",
      " 'ENSG00000132965' 'ENSG00000183696' 'ENSG00000234745' 'ENSG00000099204'\n",
      " 'ENSG00000143110' 'ENSG00000170581' 'ENSG00000158869' 'ENSG00000140379'\n",
      " 'ENSG00000166949' 'ENSG00000183813' 'ENSG00000071073' 'ENSG00000115875'\n",
      " 'ENSG00000170525' 'ENSG00000135968']\n"
     ]
    }
   ],
   "source": [
    "if SEED != 'all':\n",
    "    gene_subset = np.load(here(f'03_downstream_analysis/08_gene_importance/xgboost_external_validation/shap_gene_selection/gene_subsets_{N_GENES}/{CELL_TYPE}_{SEED}.npy'), allow_pickle=True)\n",
    "    train_adata = train_adata[:,gene_subset]\n",
    "    print(gene_subset)\n",
    "elif SEED == 'all':\n",
    "    print('Using all genes')\n",
    "else:\n",
    "    raise ValueError()"
   ]
  },
  {
   "cell_type": "code",
   "execution_count": 8,
   "id": "b13a6c03",
   "metadata": {
    "execution": {
     "iopub.execute_input": "2025-05-15T16:03:10.051756Z",
     "iopub.status.busy": "2025-05-15T16:03:10.051488Z",
     "iopub.status.idle": "2025-05-15T16:03:10.054436Z",
     "shell.execute_reply": "2025-05-15T16:03:10.054087Z"
    },
    "papermill": {
     "duration": 0.010268,
     "end_time": "2025-05-15T16:03:10.055676",
     "exception": false,
     "start_time": "2025-05-15T16:03:10.045408",
     "status": "completed"
    },
    "tags": []
   },
   "outputs": [
    {
     "data": {
      "text/plain": [
       "(124886, 102)"
      ]
     },
     "execution_count": 8,
     "metadata": {},
     "output_type": "execute_result"
    }
   ],
   "source": [
    "train_adata.shape"
   ]
  },
  {
   "cell_type": "code",
   "execution_count": 9,
   "id": "94ac060d",
   "metadata": {
    "execution": {
     "iopub.execute_input": "2025-05-15T16:03:10.078323Z",
     "iopub.status.busy": "2025-05-15T16:03:10.078070Z",
     "iopub.status.idle": "2025-05-15T16:03:10.082147Z",
     "shell.execute_reply": "2025-05-15T16:03:10.081814Z"
    },
    "papermill": {
     "duration": 0.011355,
     "end_time": "2025-05-15T16:03:10.083020",
     "exception": false,
     "start_time": "2025-05-15T16:03:10.071665",
     "status": "completed"
    },
    "tags": []
   },
   "outputs": [
    {
     "data": {
      "text/plain": [
       "['RA', 'healthy', 'COVID', 'HIV', 'cirrhosis', 'CD', 'SLE', 'sepsis']\n",
       "Categories (8, object): ['CD', 'COVID', 'HIV', 'RA', 'SLE', 'cirrhosis', 'healthy', 'sepsis']"
      ]
     },
     "execution_count": 9,
     "metadata": {},
     "output_type": "execute_result"
    }
   ],
   "source": [
    "train_adata.obs.disease.unique()"
   ]
  },
  {
   "cell_type": "code",
   "execution_count": 10,
   "id": "00640ba1",
   "metadata": {
    "execution": {
     "iopub.execute_input": "2025-05-15T16:03:10.103344Z",
     "iopub.status.busy": "2025-05-15T16:03:10.103170Z",
     "iopub.status.idle": "2025-05-15T16:03:10.107007Z",
     "shell.execute_reply": "2025-05-15T16:03:10.106684Z"
    },
    "papermill": {
     "duration": 0.019277,
     "end_time": "2025-05-15T16:03:10.107843",
     "exception": false,
     "start_time": "2025-05-15T16:03:10.088566",
     "status": "completed"
    },
    "tags": []
   },
   "outputs": [
    {
     "data": {
      "text/plain": [
       "['SCGT00val_I036016_T0', 'SCGT00val_I036023_T0', 'SCGT00val_I036015_T0', 'SCGT00val_I036028_T0', 'SCGT00val_I0364_T0', ..., '10XGenomics_10XHC2_T0', '10XGenomics_10XHC3_T0', '10XGenomics_10XHC5_T0', '10XGenomics_10XHC7_T0', '10XGenomics_10XHC8_T0']\n",
       "Length: 86\n",
       "Categories (86, object): ['10XGenomics_10XHC1_T0', '10XGenomics_10XHC2_T0', '10XGenomics_10XHC3_T0', '10XGenomics_10XHC4_T0', ..., 'Savage2021_BRISL6_T0', 'Savage2021_BRISL7_T0', 'Savage2021_PIDA_T0', 'Savage2021_PIDB_T0']"
      ]
     },
     "execution_count": 10,
     "metadata": {},
     "output_type": "execute_result"
    }
   ],
   "source": [
    "train_adata.obs.sampleID.unique()"
   ]
  },
  {
   "cell_type": "code",
   "execution_count": 11,
   "id": "da008c9d",
   "metadata": {
    "execution": {
     "iopub.execute_input": "2025-05-15T16:03:10.131432Z",
     "iopub.status.busy": "2025-05-15T16:03:10.131202Z",
     "iopub.status.idle": "2025-05-15T16:03:10.427258Z",
     "shell.execute_reply": "2025-05-15T16:03:10.426813Z"
    },
    "papermill": {
     "duration": 0.314361,
     "end_time": "2025-05-15T16:03:10.428472",
     "exception": false,
     "start_time": "2025-05-15T16:03:10.114111",
     "status": "completed"
    },
    "tags": []
   },
   "outputs": [],
   "source": [
    "all_idxs = np.arange(train_adata.obs.shape[0])\n",
    "left_out_splits = [s[1] for s in StratifiedGroupKFold(n_splits=N_SPLITS).split(all_idxs, train_adata.obs.disease, train_adata.obs.sampleID)]"
   ]
  },
  {
   "cell_type": "code",
   "execution_count": 12,
   "id": "c9fd3ea1",
   "metadata": {
    "execution": {
     "iopub.execute_input": "2025-05-15T16:03:10.442102Z",
     "iopub.status.busy": "2025-05-15T16:03:10.441736Z",
     "iopub.status.idle": "2025-05-15T16:03:10.446558Z",
     "shell.execute_reply": "2025-05-15T16:03:10.446251Z"
    },
    "papermill": {
     "duration": 0.012328,
     "end_time": "2025-05-15T16:03:10.447468",
     "exception": false,
     "start_time": "2025-05-15T16:03:10.435140",
     "status": "completed"
    },
    "tags": []
   },
   "outputs": [
    {
     "data": {
      "text/plain": [
       "([2, 3, 4], 1, 0)"
      ]
     },
     "execution_count": 12,
     "metadata": {},
     "output_type": "execute_result"
    }
   ],
   "source": [
    "TRAIN_SPLIT_IDXS = [0,1,2,3,4]\n",
    "VAL_SPLIT_IDX = (TEST_SPLIT_IDX + 1) % 5\n",
    "TRAIN_SPLIT_IDXS.remove(TEST_SPLIT_IDX)\n",
    "TRAIN_SPLIT_IDXS.remove(VAL_SPLIT_IDX)\n",
    "TRAIN_SPLIT_IDXS, VAL_SPLIT_IDX, TEST_SPLIT_IDX"
   ]
  },
  {
   "cell_type": "code",
   "execution_count": 13,
   "id": "a96ad8a9",
   "metadata": {
    "execution": {
     "iopub.execute_input": "2025-05-15T16:03:10.460879Z",
     "iopub.status.busy": "2025-05-15T16:03:10.460662Z",
     "iopub.status.idle": "2025-05-15T16:03:10.463041Z",
     "shell.execute_reply": "2025-05-15T16:03:10.462717Z"
    },
    "papermill": {
     "duration": 0.010149,
     "end_time": "2025-05-15T16:03:10.463916",
     "exception": false,
     "start_time": "2025-05-15T16:03:10.453767",
     "status": "completed"
    },
    "tags": []
   },
   "outputs": [],
   "source": [
    "train_idxs = np.concatenate([left_out_splits[idx] for idx in TRAIN_SPLIT_IDXS])\n",
    "val_idxs = left_out_splits[VAL_SPLIT_IDX]\n",
    "test_idxs = left_out_splits[TEST_SPLIT_IDX]"
   ]
  },
  {
   "cell_type": "markdown",
   "id": "f1b22709",
   "metadata": {
    "papermill": {
     "duration": 0.006576,
     "end_time": "2025-05-15T16:03:10.488599",
     "exception": false,
     "start_time": "2025-05-15T16:03:10.482023",
     "status": "completed"
    },
    "tags": []
   },
   "source": [
    "### SUBSET DATASET INTO TRAIN/TEST/VAL SPLITS"
   ]
  },
  {
   "cell_type": "code",
   "execution_count": 14,
   "id": "18b5d729",
   "metadata": {
    "execution": {
     "iopub.execute_input": "2025-05-15T16:03:10.529944Z",
     "iopub.status.busy": "2025-05-15T16:03:10.529462Z",
     "iopub.status.idle": "2025-05-15T16:03:10.791593Z",
     "shell.execute_reply": "2025-05-15T16:03:10.791219Z"
    },
    "papermill": {
     "duration": 0.297547,
     "end_time": "2025-05-15T16:03:10.792607",
     "exception": false,
     "start_time": "2025-05-15T16:03:10.495060",
     "status": "completed"
    },
    "tags": []
   },
   "outputs": [
    {
     "data": {
      "text/plain": [
       "((74333, 102), (24277, 102), (26276, 102))"
      ]
     },
     "execution_count": 14,
     "metadata": {},
     "output_type": "execute_result"
    }
   ],
   "source": [
    "X_train = train_adata.X[train_idxs]\n",
    "X_test = train_adata.X[test_idxs]\n",
    "X_val = train_adata.X[val_idxs]\n",
    "X_train.shape, X_test.shape, X_val.shape"
   ]
  },
  {
   "cell_type": "code",
   "execution_count": 15,
   "id": "5df5337e",
   "metadata": {
    "execution": {
     "iopub.execute_input": "2025-05-15T16:03:10.836339Z",
     "iopub.status.busy": "2025-05-15T16:03:10.835919Z",
     "iopub.status.idle": "2025-05-15T16:03:10.848317Z",
     "shell.execute_reply": "2025-05-15T16:03:10.847924Z"
    },
    "papermill": {
     "duration": 0.030308,
     "end_time": "2025-05-15T16:03:10.849378",
     "exception": false,
     "start_time": "2025-05-15T16:03:10.819070",
     "status": "completed"
    },
    "tags": []
   },
   "outputs": [
    {
     "data": {
      "text/plain": [
       "((74333,), (24277,), (26276,))"
      ]
     },
     "execution_count": 15,
     "metadata": {},
     "output_type": "execute_result"
    }
   ],
   "source": [
    "y_train = train_adata.obs.iloc[train_idxs].disease.values.astype(str)\n",
    "y_test = train_adata.obs.iloc[test_idxs].disease.values.astype(str)\n",
    "y_val = train_adata.obs.iloc[val_idxs].disease.values.astype(str)\n",
    "y_train.shape, y_test.shape, y_val.shape"
   ]
  },
  {
   "cell_type": "code",
   "execution_count": 16,
   "id": "d97bcc9d",
   "metadata": {
    "execution": {
     "iopub.execute_input": "2025-05-15T16:03:10.863365Z",
     "iopub.status.busy": "2025-05-15T16:03:10.863174Z",
     "iopub.status.idle": "2025-05-15T16:03:10.890322Z",
     "shell.execute_reply": "2025-05-15T16:03:10.889888Z"
    },
    "papermill": {
     "duration": 0.035184,
     "end_time": "2025-05-15T16:03:10.891468",
     "exception": false,
     "start_time": "2025-05-15T16:03:10.856284",
     "status": "completed"
    },
    "tags": []
   },
   "outputs": [],
   "source": [
    "lenc = LabelEncoder()\n",
    "y_train_enc = lenc.fit_transform(y_train)\n",
    "y_val_enc = lenc.transform(y_val)\n",
    "y_test_enc = lenc.transform(y_test)"
   ]
  },
  {
   "cell_type": "markdown",
   "id": "383d1d20",
   "metadata": {
    "papermill": {
     "duration": 0.019797,
     "end_time": "2025-05-15T16:03:10.937850",
     "exception": false,
     "start_time": "2025-05-15T16:03:10.918053",
     "status": "completed"
    },
    "tags": []
   },
   "source": [
    "### GENERATE F1 "
   ]
  },
  {
   "cell_type": "code",
   "execution_count": 17,
   "id": "1f394501",
   "metadata": {
    "execution": {
     "iopub.execute_input": "2025-05-15T16:03:10.952356Z",
     "iopub.status.busy": "2025-05-15T16:03:10.952064Z",
     "iopub.status.idle": "2025-05-15T16:03:10.955108Z",
     "shell.execute_reply": "2025-05-15T16:03:10.954783Z"
    },
    "papermill": {
     "duration": 0.010664,
     "end_time": "2025-05-15T16:03:10.955970",
     "exception": false,
     "start_time": "2025-05-15T16:03:10.945306",
     "status": "completed"
    },
    "tags": []
   },
   "outputs": [],
   "source": [
    "def custom_f1_score(y_true, y_pred):\n",
    "    return -f1_score(y_true, y_pred.argmax(1), average='weighted')"
   ]
  },
  {
   "cell_type": "code",
   "execution_count": 18,
   "id": "d8ce3010",
   "metadata": {
    "execution": {
     "iopub.execute_input": "2025-05-15T16:03:10.969168Z",
     "iopub.status.busy": "2025-05-15T16:03:10.968857Z",
     "iopub.status.idle": "2025-05-15T16:03:10.972461Z",
     "shell.execute_reply": "2025-05-15T16:03:10.972118Z"
    },
    "papermill": {
     "duration": 0.011488,
     "end_time": "2025-05-15T16:03:10.973299",
     "exception": false,
     "start_time": "2025-05-15T16:03:10.961811",
     "status": "completed"
    },
    "tags": []
   },
   "outputs": [],
   "source": [
    "eval_metric=custom_f1_score\n",
    "eval_metric_name='custom_f1_score'\n",
    "\n",
    "def objective(trial):\n",
    "    params = {\n",
    "        'n_estimators': 1500,\n",
    "        'max_depth': trial.suggest_int('max_depth', 3, 20),\n",
    "        'min_child_weight': trial.suggest_int('min_child_weight', 1, 250),\n",
    "        'subsample': trial.suggest_float('subsample', 0.1, 1.0),\n",
    "        'colsample_bynode': trial.suggest_float('colsample_bynode', 0.1, 1.0),\n",
    "        'learning_rate': trial.suggest_float('learning_rate', 1e-3, 5e-1, log=True),\n",
    "    }\n",
    "    pruning_callback = optuna.integration.XGBoostPruningCallback(trial, f'validation_0-{eval_metric_name}')\n",
    "    es_callback = xgboost.callback.EarlyStopping(20, min_delta=0.001)\n",
    "    xgb = xgboost.XGBClassifier(\n",
    "        eval_metric=eval_metric,\n",
    "        callbacks=[pruning_callback, es_callback],\n",
    "        n_jobs=5,\n",
    "        **params\n",
    "    )\n",
    "    xgb.fit(\n",
    "        X_train, \n",
    "        y_train_enc, \n",
    "        verbose=0,\n",
    "        eval_set=[(X_val, y_val_enc)],\n",
    "    )\n",
    "    trial.set_user_attr('best_iteration', xgb.best_iteration)\n",
    "\n",
    "    return xgb.best_score"
   ]
  },
  {
   "cell_type": "code",
   "execution_count": 19,
   "id": "2b00eb56",
   "metadata": {
    "execution": {
     "iopub.execute_input": "2025-05-15T16:03:10.986487Z",
     "iopub.status.busy": "2025-05-15T16:03:10.986235Z",
     "iopub.status.idle": "2025-05-15T16:24:22.028437Z",
     "shell.execute_reply": "2025-05-15T16:24:22.028016Z"
    },
    "papermill": {
     "duration": 1271.050136,
     "end_time": "2025-05-15T16:24:22.029698",
     "exception": false,
     "start_time": "2025-05-15T16:03:10.979562",
     "status": "completed"
    },
    "scrolled": true,
    "tags": []
   },
   "outputs": [
    {
     "name": "stderr",
     "output_type": "stream",
     "text": [
      "[I 2025-05-15 18:03:10,988] A new study created in memory with name: no-name-43707005-5b2b-4839-b47c-1e487eec498e\n"
     ]
    },
    {
     "name": "stderr",
     "output_type": "stream",
     "text": [
      "[I 2025-05-15 18:03:27,779] Trial 0 finished with value: -0.669413 and parameters: {'max_depth': 9, 'min_child_weight': 238, 'subsample': 0.7587945476302645, 'colsample_bynode': 0.6387926357773329, 'learning_rate': 0.0026368755339723046}. Best is trial 0 with value: -0.669413.\n"
     ]
    },
    {
     "name": "stderr",
     "output_type": "stream",
     "text": [
      "[I 2025-05-15 18:04:48,189] Trial 1 finished with value: -0.800251 and parameters: {'max_depth': 5, 'min_child_weight': 15, 'subsample': 0.8795585311974417, 'colsample_bynode': 0.6410035105688879, 'learning_rate': 0.08148293210105287}. Best is trial 1 with value: -0.800251.\n"
     ]
    },
    {
     "name": "stderr",
     "output_type": "stream",
     "text": [
      "[I 2025-05-15 18:04:53,735] Trial 2 finished with value: -0.58701 and parameters: {'max_depth': 3, 'min_child_weight': 243, 'subsample': 0.8491983767203796, 'colsample_bynode': 0.29110519961044856, 'learning_rate': 0.003095566460242371}. Best is trial 1 with value: -0.800251.\n"
     ]
    },
    {
     "name": "stderr",
     "output_type": "stream",
     "text": [
      "[I 2025-05-15 18:05:08,412] Trial 3 finished with value: -0.688993 and parameters: {'max_depth': 6, 'min_child_weight': 77, 'subsample': 0.5722807884690141, 'colsample_bynode': 0.48875051677790415, 'learning_rate': 0.006109683510122491}. Best is trial 1 with value: -0.800251.\n"
     ]
    },
    {
     "name": "stderr",
     "output_type": "stream",
     "text": [
      "[I 2025-05-15 18:08:28,615] Trial 4 finished with value: -0.78974 and parameters: {'max_depth': 14, 'min_child_weight': 35, 'subsample': 0.3629301836816964, 'colsample_bynode': 0.4297256589643226, 'learning_rate': 0.01701841881702917}. Best is trial 1 with value: -0.800251.\n"
     ]
    },
    {
     "name": "stderr",
     "output_type": "stream",
     "text": [
      "[I 2025-05-15 18:08:42,127] Trial 5 finished with value: -0.706026 and parameters: {'max_depth': 17, 'min_child_weight': 50, 'subsample': 0.5628109945722505, 'colsample_bynode': 0.6331731119758383, 'learning_rate': 0.0013346527038305934}. Best is trial 1 with value: -0.800251.\n"
     ]
    },
    {
     "name": "stderr",
     "output_type": "stream",
     "text": [
      "[I 2025-05-15 18:08:59,443] Trial 6 finished with value: -0.786325 and parameters: {'max_depth': 13, 'min_child_weight': 43, 'subsample': 0.1585464336867516, 'colsample_bynode': 0.9539969835279999, 'learning_rate': 0.4038423798071558}. Best is trial 1 with value: -0.800251.\n"
     ]
    },
    {
     "name": "stderr",
     "output_type": "stream",
     "text": [
      "[I 2025-05-15 18:09:00,394] Trial 7 pruned. Trial was pruned at iteration 1.\n"
     ]
    },
    {
     "name": "stderr",
     "output_type": "stream",
     "text": [
      "[I 2025-05-15 18:09:00,953] Trial 8 pruned. Trial was pruned at iteration 0.\n"
     ]
    },
    {
     "name": "stderr",
     "output_type": "stream",
     "text": [
      "[I 2025-05-15 18:09:03,064] Trial 9 pruned. Trial was pruned at iteration 4.\n"
     ]
    },
    {
     "name": "stderr",
     "output_type": "stream",
     "text": [
      "[I 2025-05-15 18:09:03,842] Trial 10 pruned. Trial was pruned at iteration 0.\n"
     ]
    },
    {
     "name": "stderr",
     "output_type": "stream",
     "text": [
      "[I 2025-05-15 18:10:45,760] Trial 11 finished with value: -0.799 and parameters: {'max_depth': 10, 'min_child_weight': 3, 'subsample': 0.34014304150377095, 'colsample_bynode': 0.40131565860091256, 'learning_rate': 0.057899203666416425}. Best is trial 1 with value: -0.800251.\n"
     ]
    },
    {
     "name": "stderr",
     "output_type": "stream",
     "text": [
      "[I 2025-05-15 18:12:02,990] Trial 12 finished with value: -0.798829 and parameters: {'max_depth': 8, 'min_child_weight': 3, 'subsample': 0.3693916175642251, 'colsample_bynode': 0.351751713087183, 'learning_rate': 0.07220195396446884}. Best is trial 1 with value: -0.800251.\n"
     ]
    },
    {
     "name": "stderr",
     "output_type": "stream",
     "text": [
      "[I 2025-05-15 18:12:03,642] Trial 13 pruned. Trial was pruned at iteration 0.\n"
     ]
    },
    {
     "name": "stderr",
     "output_type": "stream",
     "text": [
      "[I 2025-05-15 18:12:04,220] Trial 14 pruned. Trial was pruned at iteration 0.\n"
     ]
    },
    {
     "name": "stderr",
     "output_type": "stream",
     "text": [
      "[I 2025-05-15 18:14:13,696] Trial 15 pruned. Trial was pruned at iteration 166.\n"
     ]
    },
    {
     "name": "stderr",
     "output_type": "stream",
     "text": [
      "[I 2025-05-15 18:14:14,392] Trial 16 pruned. Trial was pruned at iteration 0.\n"
     ]
    },
    {
     "name": "stderr",
     "output_type": "stream",
     "text": [
      "[I 2025-05-15 18:14:15,005] Trial 17 pruned. Trial was pruned at iteration 0.\n"
     ]
    },
    {
     "name": "stderr",
     "output_type": "stream",
     "text": [
      "[I 2025-05-15 18:14:15,594] Trial 18 pruned. Trial was pruned at iteration 0.\n"
     ]
    },
    {
     "name": "stderr",
     "output_type": "stream",
     "text": [
      "[I 2025-05-15 18:14:16,211] Trial 19 pruned. Trial was pruned at iteration 0.\n"
     ]
    },
    {
     "name": "stderr",
     "output_type": "stream",
     "text": [
      "[I 2025-05-15 18:15:23,702] Trial 20 finished with value: -0.80046 and parameters: {'max_depth': 7, 'min_child_weight': 24, 'subsample': 0.8601573496833833, 'colsample_bynode': 0.7044515243872378, 'learning_rate': 0.10169686165917782}. Best is trial 20 with value: -0.80046.\n"
     ]
    },
    {
     "name": "stderr",
     "output_type": "stream",
     "text": [
      "[I 2025-05-15 18:16:24,933] Trial 21 finished with value: -0.798561 and parameters: {'max_depth': 7, 'min_child_weight': 24, 'subsample': 0.8524655332992119, 'colsample_bynode': 0.721093220943723, 'learning_rate': 0.09482021333017883}. Best is trial 20 with value: -0.80046.\n"
     ]
    },
    {
     "name": "stderr",
     "output_type": "stream",
     "text": [
      "[I 2025-05-15 18:16:25,486] Trial 22 pruned. Trial was pruned at iteration 0.\n"
     ]
    },
    {
     "name": "stderr",
     "output_type": "stream",
     "text": [
      "[I 2025-05-15 18:16:26,419] Trial 23 pruned. Trial was pruned at iteration 1.\n"
     ]
    },
    {
     "name": "stderr",
     "output_type": "stream",
     "text": [
      "[I 2025-05-15 18:16:35,906] Trial 24 pruned. Trial was pruned at iteration 21.\n"
     ]
    },
    {
     "name": "stderr",
     "output_type": "stream",
     "text": [
      "[I 2025-05-15 18:16:36,841] Trial 25 pruned. Trial was pruned at iteration 1.\n"
     ]
    },
    {
     "name": "stderr",
     "output_type": "stream",
     "text": [
      "[I 2025-05-15 18:17:10,556] Trial 26 finished with value: -0.803451 and parameters: {'max_depth': 12, 'min_child_weight': 24, 'subsample': 0.7839153915991388, 'colsample_bynode': 0.32224624220417963, 'learning_rate': 0.26121322355262905}. Best is trial 26 with value: -0.803451.\n"
     ]
    },
    {
     "name": "stderr",
     "output_type": "stream",
     "text": [
      "[I 2025-05-15 18:17:51,302] Trial 27 finished with value: -0.802758 and parameters: {'max_depth': 13, 'min_child_weight': 154, 'subsample': 0.7734664958633336, 'colsample_bynode': 0.9963502051282389, 'learning_rate': 0.26526344669138946}. Best is trial 26 with value: -0.803451.\n"
     ]
    },
    {
     "name": "stderr",
     "output_type": "stream",
     "text": [
      "[I 2025-05-15 18:17:58,936] Trial 28 pruned. Trial was pruned at iteration 0.\n"
     ]
    },
    {
     "name": "stderr",
     "output_type": "stream",
     "text": [
      "[I 2025-05-15 18:18:05,491] Trial 29 pruned. Trial was pruned at iteration 0.\n"
     ]
    },
    {
     "name": "stderr",
     "output_type": "stream",
     "text": [
      "[I 2025-05-15 18:18:12,981] Trial 30 pruned. Trial was pruned at iteration 0.\n"
     ]
    },
    {
     "name": "stderr",
     "output_type": "stream",
     "text": [
      "[I 2025-05-15 18:18:13,944] Trial 31 pruned. Trial was pruned at iteration 0.\n"
     ]
    },
    {
     "name": "stderr",
     "output_type": "stream",
     "text": [
      "[I 2025-05-15 18:18:14,530] Trial 32 pruned. Trial was pruned at iteration 0.\n"
     ]
    },
    {
     "name": "stderr",
     "output_type": "stream",
     "text": [
      "[I 2025-05-15 18:18:15,048] Trial 33 pruned. Trial was pruned at iteration 0.\n"
     ]
    },
    {
     "name": "stderr",
     "output_type": "stream",
     "text": [
      "[I 2025-05-15 18:19:02,500] Trial 34 finished with value: -0.802162 and parameters: {'max_depth': 13, 'min_child_weight': 25, 'subsample': 0.6454185528216072, 'colsample_bynode': 0.682678197813592, 'learning_rate': 0.1340372677854961}. Best is trial 26 with value: -0.803451.\n"
     ]
    },
    {
     "name": "stderr",
     "output_type": "stream",
     "text": [
      "[I 2025-05-15 18:19:03,141] Trial 35 pruned. Trial was pruned at iteration 0.\n"
     ]
    },
    {
     "name": "stderr",
     "output_type": "stream",
     "text": [
      "[I 2025-05-15 18:19:50,371] Trial 36 finished with value: -0.801029 and parameters: {'max_depth': 13, 'min_child_weight': 28, 'subsample': 0.718559254118824, 'colsample_bynode': 0.8980988866045789, 'learning_rate': 0.14128340552549376}. Best is trial 26 with value: -0.803451.\n"
     ]
    },
    {
     "name": "stderr",
     "output_type": "stream",
     "text": [
      "[I 2025-05-15 18:20:34,807] Trial 37 finished with value: -0.800235 and parameters: {'max_depth': 13, 'min_child_weight': 36, 'subsample': 0.7134832869612121, 'colsample_bynode': 0.9067864015974089, 'learning_rate': 0.15543594783001705}. Best is trial 26 with value: -0.803451.\n"
     ]
    },
    {
     "name": "stderr",
     "output_type": "stream",
     "text": [
      "[I 2025-05-15 18:20:35,399] Trial 38 pruned. Trial was pruned at iteration 0.\n"
     ]
    },
    {
     "name": "stderr",
     "output_type": "stream",
     "text": [
      "[I 2025-05-15 18:20:36,013] Trial 39 pruned. Trial was pruned at iteration 0.\n"
     ]
    },
    {
     "name": "stderr",
     "output_type": "stream",
     "text": [
      "[I 2025-05-15 18:20:38,003] Trial 40 pruned. Trial was pruned at iteration 3.\n"
     ]
    },
    {
     "name": "stderr",
     "output_type": "stream",
     "text": [
      "[I 2025-05-15 18:21:31,023] Trial 41 finished with value: -0.801876 and parameters: {'max_depth': 12, 'min_child_weight': 27, 'subsample': 0.673130908021757, 'colsample_bynode': 0.7631204631254445, 'learning_rate': 0.12234912031287339}. Best is trial 26 with value: -0.803451.\n"
     ]
    },
    {
     "name": "stderr",
     "output_type": "stream",
     "text": [
      "[I 2025-05-15 18:22:23,017] Trial 42 finished with value: -0.804679 and parameters: {'max_depth': 12, 'min_child_weight': 30, 'subsample': 0.6943550480826804, 'colsample_bynode': 0.7492722916391338, 'learning_rate': 0.1340011188805995}. Best is trial 42 with value: -0.804679.\n"
     ]
    },
    {
     "name": "stderr",
     "output_type": "stream",
     "text": [
      "[I 2025-05-15 18:23:01,018] Trial 43 finished with value: -0.802904 and parameters: {'max_depth': 12, 'min_child_weight': 15, 'subsample': 0.6861896001936898, 'colsample_bynode': 0.616744234831412, 'learning_rate': 0.2134943617046968}. Best is trial 42 with value: -0.804679.\n"
     ]
    },
    {
     "name": "stderr",
     "output_type": "stream",
     "text": [
      "[I 2025-05-15 18:23:30,874] Trial 44 finished with value: -0.801255 and parameters: {'max_depth': 10, 'min_child_weight': 46, 'subsample': 0.8050894097380188, 'colsample_bynode': 0.5959995010269754, 'learning_rate': 0.19793176508894092}. Best is trial 42 with value: -0.804679.\n"
     ]
    },
    {
     "name": "stderr",
     "output_type": "stream",
     "text": [
      "[I 2025-05-15 18:23:59,415] Trial 45 pruned. Trial was pruned at iteration 81.\n"
     ]
    },
    {
     "name": "stderr",
     "output_type": "stream",
     "text": [
      "[I 2025-05-15 18:24:00,008] Trial 46 pruned. Trial was pruned at iteration 0.\n"
     ]
    },
    {
     "name": "stderr",
     "output_type": "stream",
     "text": [
      "[I 2025-05-15 18:24:20,851] Trial 47 finished with value: -0.793053 and parameters: {'max_depth': 15, 'min_child_weight': 13, 'subsample': 0.5443230310978557, 'colsample_bynode': 0.4414118664036901, 'learning_rate': 0.36727317931593045}. Best is trial 42 with value: -0.804679.\n"
     ]
    },
    {
     "name": "stderr",
     "output_type": "stream",
     "text": [
      "[I 2025-05-15 18:24:21,433] Trial 48 pruned. Trial was pruned at iteration 0.\n"
     ]
    },
    {
     "name": "stderr",
     "output_type": "stream",
     "text": [
      "[I 2025-05-15 18:24:21,955] Trial 49 pruned. Trial was pruned at iteration 0.\n"
     ]
    }
   ],
   "source": [
    "sampler = optuna.samplers.TPESampler(seed=42)\n",
    "study = optuna.create_study(direction='minimize', sampler=sampler)\n",
    "study.optimize(objective, n_trials=N_TRIALS, gc_after_trial=True)"
   ]
  },
  {
   "cell_type": "code",
   "execution_count": 20,
   "id": "c4e9cd9c",
   "metadata": {
    "execution": {
     "iopub.execute_input": "2025-05-15T16:24:22.047466Z",
     "iopub.status.busy": "2025-05-15T16:24:22.047280Z",
     "iopub.status.idle": "2025-05-15T16:24:22.075482Z",
     "shell.execute_reply": "2025-05-15T16:24:22.075163Z"
    },
    "papermill": {
     "duration": 0.037583,
     "end_time": "2025-05-15T16:24:22.076377",
     "exception": false,
     "start_time": "2025-05-15T16:24:22.038794",
     "status": "completed"
    },
    "tags": []
   },
   "outputs": [
    {
     "data": {
      "text/plain": [
       "['/scratch_isilon/groups/singlecell/shared/projects/Inflammation-PBMCs-Atlas/03_downstream_analysis/08_gene_importance/xgboost_external_validation/xgboost_TopN_genes/results_20/study/T_CD4_NonNaive_14_0_xgboost.pkl']"
      ]
     },
     "execution_count": 20,
     "metadata": {},
     "output_type": "execute_result"
    }
   ],
   "source": [
    "out_dir = here(f'03_downstream_analysis/08_gene_importance/xgboost_external_validation/xgboost_TopN_genes/results_{N_GENES}/study')\n",
    "\n",
    "if not os.path.exists(out_dir):\n",
    "    os.makedirs(out_dir)\n",
    "    \n",
    "joblib.dump(study,os.path.join(out_dir, f'{CELL_TYPE}_{SEED}_{TEST_SPLIT_IDX}_xgboost.pkl'))"
   ]
  },
  {
   "cell_type": "code",
   "execution_count": 21,
   "id": "a3f7cb68",
   "metadata": {
    "execution": {
     "iopub.execute_input": "2025-05-15T16:24:22.092467Z",
     "iopub.status.busy": "2025-05-15T16:24:22.092169Z",
     "iopub.status.idle": "2025-05-15T16:24:51.480341Z",
     "shell.execute_reply": "2025-05-15T16:24:51.479916Z"
    },
    "papermill": {
     "duration": 29.397246,
     "end_time": "2025-05-15T16:24:51.481322",
     "exception": false,
     "start_time": "2025-05-15T16:24:22.084076",
     "status": "completed"
    },
    "tags": []
   },
   "outputs": [
    {
     "data": {
      "text/html": [
       "<style>#sk-container-id-1 {\n",
       "  /* Definition of color scheme common for light and dark mode */\n",
       "  --sklearn-color-text: black;\n",
       "  --sklearn-color-line: gray;\n",
       "  /* Definition of color scheme for unfitted estimators */\n",
       "  --sklearn-color-unfitted-level-0: #fff5e6;\n",
       "  --sklearn-color-unfitted-level-1: #f6e4d2;\n",
       "  --sklearn-color-unfitted-level-2: #ffe0b3;\n",
       "  --sklearn-color-unfitted-level-3: chocolate;\n",
       "  /* Definition of color scheme for fitted estimators */\n",
       "  --sklearn-color-fitted-level-0: #f0f8ff;\n",
       "  --sklearn-color-fitted-level-1: #d4ebff;\n",
       "  --sklearn-color-fitted-level-2: #b3dbfd;\n",
       "  --sklearn-color-fitted-level-3: cornflowerblue;\n",
       "\n",
       "  /* Specific color for light theme */\n",
       "  --sklearn-color-text-on-default-background: var(--sg-text-color, var(--theme-code-foreground, var(--jp-content-font-color1, black)));\n",
       "  --sklearn-color-background: var(--sg-background-color, var(--theme-background, var(--jp-layout-color0, white)));\n",
       "  --sklearn-color-border-box: var(--sg-text-color, var(--theme-code-foreground, var(--jp-content-font-color1, black)));\n",
       "  --sklearn-color-icon: #696969;\n",
       "\n",
       "  @media (prefers-color-scheme: dark) {\n",
       "    /* Redefinition of color scheme for dark theme */\n",
       "    --sklearn-color-text-on-default-background: var(--sg-text-color, var(--theme-code-foreground, var(--jp-content-font-color1, white)));\n",
       "    --sklearn-color-background: var(--sg-background-color, var(--theme-background, var(--jp-layout-color0, #111)));\n",
       "    --sklearn-color-border-box: var(--sg-text-color, var(--theme-code-foreground, var(--jp-content-font-color1, white)));\n",
       "    --sklearn-color-icon: #878787;\n",
       "  }\n",
       "}\n",
       "\n",
       "#sk-container-id-1 {\n",
       "  color: var(--sklearn-color-text);\n",
       "}\n",
       "\n",
       "#sk-container-id-1 pre {\n",
       "  padding: 0;\n",
       "}\n",
       "\n",
       "#sk-container-id-1 input.sk-hidden--visually {\n",
       "  border: 0;\n",
       "  clip: rect(1px 1px 1px 1px);\n",
       "  clip: rect(1px, 1px, 1px, 1px);\n",
       "  height: 1px;\n",
       "  margin: -1px;\n",
       "  overflow: hidden;\n",
       "  padding: 0;\n",
       "  position: absolute;\n",
       "  width: 1px;\n",
       "}\n",
       "\n",
       "#sk-container-id-1 div.sk-dashed-wrapped {\n",
       "  border: 1px dashed var(--sklearn-color-line);\n",
       "  margin: 0 0.4em 0.5em 0.4em;\n",
       "  box-sizing: border-box;\n",
       "  padding-bottom: 0.4em;\n",
       "  background-color: var(--sklearn-color-background);\n",
       "}\n",
       "\n",
       "#sk-container-id-1 div.sk-container {\n",
       "  /* jupyter's `normalize.less` sets `[hidden] { display: none; }`\n",
       "     but bootstrap.min.css set `[hidden] { display: none !important; }`\n",
       "     so we also need the `!important` here to be able to override the\n",
       "     default hidden behavior on the sphinx rendered scikit-learn.org.\n",
       "     See: https://github.com/scikit-learn/scikit-learn/issues/21755 */\n",
       "  display: inline-block !important;\n",
       "  position: relative;\n",
       "}\n",
       "\n",
       "#sk-container-id-1 div.sk-text-repr-fallback {\n",
       "  display: none;\n",
       "}\n",
       "\n",
       "div.sk-parallel-item,\n",
       "div.sk-serial,\n",
       "div.sk-item {\n",
       "  /* draw centered vertical line to link estimators */\n",
       "  background-image: linear-gradient(var(--sklearn-color-text-on-default-background), var(--sklearn-color-text-on-default-background));\n",
       "  background-size: 2px 100%;\n",
       "  background-repeat: no-repeat;\n",
       "  background-position: center center;\n",
       "}\n",
       "\n",
       "/* Parallel-specific style estimator block */\n",
       "\n",
       "#sk-container-id-1 div.sk-parallel-item::after {\n",
       "  content: \"\";\n",
       "  width: 100%;\n",
       "  border-bottom: 2px solid var(--sklearn-color-text-on-default-background);\n",
       "  flex-grow: 1;\n",
       "}\n",
       "\n",
       "#sk-container-id-1 div.sk-parallel {\n",
       "  display: flex;\n",
       "  align-items: stretch;\n",
       "  justify-content: center;\n",
       "  background-color: var(--sklearn-color-background);\n",
       "  position: relative;\n",
       "}\n",
       "\n",
       "#sk-container-id-1 div.sk-parallel-item {\n",
       "  display: flex;\n",
       "  flex-direction: column;\n",
       "}\n",
       "\n",
       "#sk-container-id-1 div.sk-parallel-item:first-child::after {\n",
       "  align-self: flex-end;\n",
       "  width: 50%;\n",
       "}\n",
       "\n",
       "#sk-container-id-1 div.sk-parallel-item:last-child::after {\n",
       "  align-self: flex-start;\n",
       "  width: 50%;\n",
       "}\n",
       "\n",
       "#sk-container-id-1 div.sk-parallel-item:only-child::after {\n",
       "  width: 0;\n",
       "}\n",
       "\n",
       "/* Serial-specific style estimator block */\n",
       "\n",
       "#sk-container-id-1 div.sk-serial {\n",
       "  display: flex;\n",
       "  flex-direction: column;\n",
       "  align-items: center;\n",
       "  background-color: var(--sklearn-color-background);\n",
       "  padding-right: 1em;\n",
       "  padding-left: 1em;\n",
       "}\n",
       "\n",
       "\n",
       "/* Toggleable style: style used for estimator/Pipeline/ColumnTransformer box that is\n",
       "clickable and can be expanded/collapsed.\n",
       "- Pipeline and ColumnTransformer use this feature and define the default style\n",
       "- Estimators will overwrite some part of the style using the `sk-estimator` class\n",
       "*/\n",
       "\n",
       "/* Pipeline and ColumnTransformer style (default) */\n",
       "\n",
       "#sk-container-id-1 div.sk-toggleable {\n",
       "  /* Default theme specific background. It is overwritten whether we have a\n",
       "  specific estimator or a Pipeline/ColumnTransformer */\n",
       "  background-color: var(--sklearn-color-background);\n",
       "}\n",
       "\n",
       "/* Toggleable label */\n",
       "#sk-container-id-1 label.sk-toggleable__label {\n",
       "  cursor: pointer;\n",
       "  display: block;\n",
       "  width: 100%;\n",
       "  margin-bottom: 0;\n",
       "  padding: 0.5em;\n",
       "  box-sizing: border-box;\n",
       "  text-align: center;\n",
       "}\n",
       "\n",
       "#sk-container-id-1 label.sk-toggleable__label-arrow:before {\n",
       "  /* Arrow on the left of the label */\n",
       "  content: \"▸\";\n",
       "  float: left;\n",
       "  margin-right: 0.25em;\n",
       "  color: var(--sklearn-color-icon);\n",
       "}\n",
       "\n",
       "#sk-container-id-1 label.sk-toggleable__label-arrow:hover:before {\n",
       "  color: var(--sklearn-color-text);\n",
       "}\n",
       "\n",
       "/* Toggleable content - dropdown */\n",
       "\n",
       "#sk-container-id-1 div.sk-toggleable__content {\n",
       "  max-height: 0;\n",
       "  max-width: 0;\n",
       "  overflow: hidden;\n",
       "  text-align: left;\n",
       "  /* unfitted */\n",
       "  background-color: var(--sklearn-color-unfitted-level-0);\n",
       "}\n",
       "\n",
       "#sk-container-id-1 div.sk-toggleable__content.fitted {\n",
       "  /* fitted */\n",
       "  background-color: var(--sklearn-color-fitted-level-0);\n",
       "}\n",
       "\n",
       "#sk-container-id-1 div.sk-toggleable__content pre {\n",
       "  margin: 0.2em;\n",
       "  border-radius: 0.25em;\n",
       "  color: var(--sklearn-color-text);\n",
       "  /* unfitted */\n",
       "  background-color: var(--sklearn-color-unfitted-level-0);\n",
       "}\n",
       "\n",
       "#sk-container-id-1 div.sk-toggleable__content.fitted pre {\n",
       "  /* unfitted */\n",
       "  background-color: var(--sklearn-color-fitted-level-0);\n",
       "}\n",
       "\n",
       "#sk-container-id-1 input.sk-toggleable__control:checked~div.sk-toggleable__content {\n",
       "  /* Expand drop-down */\n",
       "  max-height: 200px;\n",
       "  max-width: 100%;\n",
       "  overflow: auto;\n",
       "}\n",
       "\n",
       "#sk-container-id-1 input.sk-toggleable__control:checked~label.sk-toggleable__label-arrow:before {\n",
       "  content: \"▾\";\n",
       "}\n",
       "\n",
       "/* Pipeline/ColumnTransformer-specific style */\n",
       "\n",
       "#sk-container-id-1 div.sk-label input.sk-toggleable__control:checked~label.sk-toggleable__label {\n",
       "  color: var(--sklearn-color-text);\n",
       "  background-color: var(--sklearn-color-unfitted-level-2);\n",
       "}\n",
       "\n",
       "#sk-container-id-1 div.sk-label.fitted input.sk-toggleable__control:checked~label.sk-toggleable__label {\n",
       "  background-color: var(--sklearn-color-fitted-level-2);\n",
       "}\n",
       "\n",
       "/* Estimator-specific style */\n",
       "\n",
       "/* Colorize estimator box */\n",
       "#sk-container-id-1 div.sk-estimator input.sk-toggleable__control:checked~label.sk-toggleable__label {\n",
       "  /* unfitted */\n",
       "  background-color: var(--sklearn-color-unfitted-level-2);\n",
       "}\n",
       "\n",
       "#sk-container-id-1 div.sk-estimator.fitted input.sk-toggleable__control:checked~label.sk-toggleable__label {\n",
       "  /* fitted */\n",
       "  background-color: var(--sklearn-color-fitted-level-2);\n",
       "}\n",
       "\n",
       "#sk-container-id-1 div.sk-label label.sk-toggleable__label,\n",
       "#sk-container-id-1 div.sk-label label {\n",
       "  /* The background is the default theme color */\n",
       "  color: var(--sklearn-color-text-on-default-background);\n",
       "}\n",
       "\n",
       "/* On hover, darken the color of the background */\n",
       "#sk-container-id-1 div.sk-label:hover label.sk-toggleable__label {\n",
       "  color: var(--sklearn-color-text);\n",
       "  background-color: var(--sklearn-color-unfitted-level-2);\n",
       "}\n",
       "\n",
       "/* Label box, darken color on hover, fitted */\n",
       "#sk-container-id-1 div.sk-label.fitted:hover label.sk-toggleable__label.fitted {\n",
       "  color: var(--sklearn-color-text);\n",
       "  background-color: var(--sklearn-color-fitted-level-2);\n",
       "}\n",
       "\n",
       "/* Estimator label */\n",
       "\n",
       "#sk-container-id-1 div.sk-label label {\n",
       "  font-family: monospace;\n",
       "  font-weight: bold;\n",
       "  display: inline-block;\n",
       "  line-height: 1.2em;\n",
       "}\n",
       "\n",
       "#sk-container-id-1 div.sk-label-container {\n",
       "  text-align: center;\n",
       "}\n",
       "\n",
       "/* Estimator-specific */\n",
       "#sk-container-id-1 div.sk-estimator {\n",
       "  font-family: monospace;\n",
       "  border: 1px dotted var(--sklearn-color-border-box);\n",
       "  border-radius: 0.25em;\n",
       "  box-sizing: border-box;\n",
       "  margin-bottom: 0.5em;\n",
       "  /* unfitted */\n",
       "  background-color: var(--sklearn-color-unfitted-level-0);\n",
       "}\n",
       "\n",
       "#sk-container-id-1 div.sk-estimator.fitted {\n",
       "  /* fitted */\n",
       "  background-color: var(--sklearn-color-fitted-level-0);\n",
       "}\n",
       "\n",
       "/* on hover */\n",
       "#sk-container-id-1 div.sk-estimator:hover {\n",
       "  /* unfitted */\n",
       "  background-color: var(--sklearn-color-unfitted-level-2);\n",
       "}\n",
       "\n",
       "#sk-container-id-1 div.sk-estimator.fitted:hover {\n",
       "  /* fitted */\n",
       "  background-color: var(--sklearn-color-fitted-level-2);\n",
       "}\n",
       "\n",
       "/* Specification for estimator info (e.g. \"i\" and \"?\") */\n",
       "\n",
       "/* Common style for \"i\" and \"?\" */\n",
       "\n",
       ".sk-estimator-doc-link,\n",
       "a:link.sk-estimator-doc-link,\n",
       "a:visited.sk-estimator-doc-link {\n",
       "  float: right;\n",
       "  font-size: smaller;\n",
       "  line-height: 1em;\n",
       "  font-family: monospace;\n",
       "  background-color: var(--sklearn-color-background);\n",
       "  border-radius: 1em;\n",
       "  height: 1em;\n",
       "  width: 1em;\n",
       "  text-decoration: none !important;\n",
       "  margin-left: 1ex;\n",
       "  /* unfitted */\n",
       "  border: var(--sklearn-color-unfitted-level-1) 1pt solid;\n",
       "  color: var(--sklearn-color-unfitted-level-1);\n",
       "}\n",
       "\n",
       ".sk-estimator-doc-link.fitted,\n",
       "a:link.sk-estimator-doc-link.fitted,\n",
       "a:visited.sk-estimator-doc-link.fitted {\n",
       "  /* fitted */\n",
       "  border: var(--sklearn-color-fitted-level-1) 1pt solid;\n",
       "  color: var(--sklearn-color-fitted-level-1);\n",
       "}\n",
       "\n",
       "/* On hover */\n",
       "div.sk-estimator:hover .sk-estimator-doc-link:hover,\n",
       ".sk-estimator-doc-link:hover,\n",
       "div.sk-label-container:hover .sk-estimator-doc-link:hover,\n",
       ".sk-estimator-doc-link:hover {\n",
       "  /* unfitted */\n",
       "  background-color: var(--sklearn-color-unfitted-level-3);\n",
       "  color: var(--sklearn-color-background);\n",
       "  text-decoration: none;\n",
       "}\n",
       "\n",
       "div.sk-estimator.fitted:hover .sk-estimator-doc-link.fitted:hover,\n",
       ".sk-estimator-doc-link.fitted:hover,\n",
       "div.sk-label-container:hover .sk-estimator-doc-link.fitted:hover,\n",
       ".sk-estimator-doc-link.fitted:hover {\n",
       "  /* fitted */\n",
       "  background-color: var(--sklearn-color-fitted-level-3);\n",
       "  color: var(--sklearn-color-background);\n",
       "  text-decoration: none;\n",
       "}\n",
       "\n",
       "/* Span, style for the box shown on hovering the info icon */\n",
       ".sk-estimator-doc-link span {\n",
       "  display: none;\n",
       "  z-index: 9999;\n",
       "  position: relative;\n",
       "  font-weight: normal;\n",
       "  right: .2ex;\n",
       "  padding: .5ex;\n",
       "  margin: .5ex;\n",
       "  width: min-content;\n",
       "  min-width: 20ex;\n",
       "  max-width: 50ex;\n",
       "  color: var(--sklearn-color-text);\n",
       "  box-shadow: 2pt 2pt 4pt #999;\n",
       "  /* unfitted */\n",
       "  background: var(--sklearn-color-unfitted-level-0);\n",
       "  border: .5pt solid var(--sklearn-color-unfitted-level-3);\n",
       "}\n",
       "\n",
       ".sk-estimator-doc-link.fitted span {\n",
       "  /* fitted */\n",
       "  background: var(--sklearn-color-fitted-level-0);\n",
       "  border: var(--sklearn-color-fitted-level-3);\n",
       "}\n",
       "\n",
       ".sk-estimator-doc-link:hover span {\n",
       "  display: block;\n",
       "}\n",
       "\n",
       "/* \"?\"-specific style due to the `<a>` HTML tag */\n",
       "\n",
       "#sk-container-id-1 a.estimator_doc_link {\n",
       "  float: right;\n",
       "  font-size: 1rem;\n",
       "  line-height: 1em;\n",
       "  font-family: monospace;\n",
       "  background-color: var(--sklearn-color-background);\n",
       "  border-radius: 1rem;\n",
       "  height: 1rem;\n",
       "  width: 1rem;\n",
       "  text-decoration: none;\n",
       "  /* unfitted */\n",
       "  color: var(--sklearn-color-unfitted-level-1);\n",
       "  border: var(--sklearn-color-unfitted-level-1) 1pt solid;\n",
       "}\n",
       "\n",
       "#sk-container-id-1 a.estimator_doc_link.fitted {\n",
       "  /* fitted */\n",
       "  border: var(--sklearn-color-fitted-level-1) 1pt solid;\n",
       "  color: var(--sklearn-color-fitted-level-1);\n",
       "}\n",
       "\n",
       "/* On hover */\n",
       "#sk-container-id-1 a.estimator_doc_link:hover {\n",
       "  /* unfitted */\n",
       "  background-color: var(--sklearn-color-unfitted-level-3);\n",
       "  color: var(--sklearn-color-background);\n",
       "  text-decoration: none;\n",
       "}\n",
       "\n",
       "#sk-container-id-1 a.estimator_doc_link.fitted:hover {\n",
       "  /* fitted */\n",
       "  background-color: var(--sklearn-color-fitted-level-3);\n",
       "}\n",
       "</style><div id=\"sk-container-id-1\" class=\"sk-top-container\"><div class=\"sk-text-repr-fallback\"><pre>XGBClassifier(base_score=None, booster=None, callbacks=None,\n",
       "              colsample_bylevel=None, colsample_bynode=0.7492722916391338,\n",
       "              colsample_bytree=None, device=None, early_stopping_rounds=None,\n",
       "              enable_categorical=False,\n",
       "              eval_metric=&lt;function custom_f1_score at 0x7fddbbb7c400&gt;,\n",
       "              feature_types=None, gamma=None, grow_policy=None,\n",
       "              importance_type=None, interaction_constraints=None,\n",
       "              learning_rate=0.1340011188805995, max_bin=None,\n",
       "              max_cat_threshold=None, max_cat_to_onehot=None,\n",
       "              max_delta_step=None, max_depth=12, max_leaves=None,\n",
       "              min_child_weight=30, missing=nan, monotone_constraints=None,\n",
       "              multi_strategy=None, n_estimators=160, n_jobs=None,\n",
       "              num_parallel_tree=None, objective=&#x27;multi:softprob&#x27;, ...)</pre><b>In a Jupyter environment, please rerun this cell to show the HTML representation or trust the notebook. <br />On GitHub, the HTML representation is unable to render, please try loading this page with nbviewer.org.</b></div><div class=\"sk-container\" hidden><div class=\"sk-item\"><div class=\"sk-estimator fitted sk-toggleable\"><input class=\"sk-toggleable__control sk-hidden--visually\" id=\"sk-estimator-id-1\" type=\"checkbox\" checked><label for=\"sk-estimator-id-1\" class=\"sk-toggleable__label fitted sk-toggleable__label-arrow fitted\">&nbsp;XGBClassifier<span class=\"sk-estimator-doc-link fitted\">i<span>Fitted</span></span></label><div class=\"sk-toggleable__content fitted\"><pre>XGBClassifier(base_score=None, booster=None, callbacks=None,\n",
       "              colsample_bylevel=None, colsample_bynode=0.7492722916391338,\n",
       "              colsample_bytree=None, device=None, early_stopping_rounds=None,\n",
       "              enable_categorical=False,\n",
       "              eval_metric=&lt;function custom_f1_score at 0x7fddbbb7c400&gt;,\n",
       "              feature_types=None, gamma=None, grow_policy=None,\n",
       "              importance_type=None, interaction_constraints=None,\n",
       "              learning_rate=0.1340011188805995, max_bin=None,\n",
       "              max_cat_threshold=None, max_cat_to_onehot=None,\n",
       "              max_delta_step=None, max_depth=12, max_leaves=None,\n",
       "              min_child_weight=30, missing=nan, monotone_constraints=None,\n",
       "              multi_strategy=None, n_estimators=160, n_jobs=None,\n",
       "              num_parallel_tree=None, objective=&#x27;multi:softprob&#x27;, ...)</pre></div> </div></div></div></div>"
      ],
      "text/plain": [
       "XGBClassifier(base_score=None, booster=None, callbacks=None,\n",
       "              colsample_bylevel=None, colsample_bynode=0.7492722916391338,\n",
       "              colsample_bytree=None, device=None, early_stopping_rounds=None,\n",
       "              enable_categorical=False,\n",
       "              eval_metric=<function custom_f1_score at 0x7fddbbb7c400>,\n",
       "              feature_types=None, gamma=None, grow_policy=None,\n",
       "              importance_type=None, interaction_constraints=None,\n",
       "              learning_rate=0.1340011188805995, max_bin=None,\n",
       "              max_cat_threshold=None, max_cat_to_onehot=None,\n",
       "              max_delta_step=None, max_depth=12, max_leaves=None,\n",
       "              min_child_weight=30, missing=nan, monotone_constraints=None,\n",
       "              multi_strategy=None, n_estimators=160, n_jobs=None,\n",
       "              num_parallel_tree=None, objective='multi:softprob', ...)"
      ]
     },
     "execution_count": 21,
     "metadata": {},
     "output_type": "execute_result"
    }
   ],
   "source": [
    "n_estimators = int(study.best_trial.user_attrs['best_iteration']*1.2)\n",
    "xgb = xgboost.XGBClassifier(\n",
    "        eval_metric=eval_metric,\n",
    "        n_estimators=n_estimators,\n",
    "        **study.best_trial.params\n",
    "    )\n",
    "xgb.fit(\n",
    "    ssp.vstack((X_train, X_val)), \n",
    "    np.concatenate((y_train_enc, y_val_enc)),\n",
    "    verbose=1,\n",
    ")"
   ]
  },
  {
   "cell_type": "code",
   "execution_count": 22,
   "id": "af2627a1",
   "metadata": {
    "execution": {
     "iopub.execute_input": "2025-05-15T16:24:51.500004Z",
     "iopub.status.busy": "2025-05-15T16:24:51.499615Z",
     "iopub.status.idle": "2025-05-15T16:24:51.581130Z",
     "shell.execute_reply": "2025-05-15T16:24:51.580759Z"
    },
    "papermill": {
     "duration": 0.091972,
     "end_time": "2025-05-15T16:24:51.582139",
     "exception": false,
     "start_time": "2025-05-15T16:24:51.490167",
     "status": "completed"
    },
    "tags": []
   },
   "outputs": [
    {
     "data": {
      "text/plain": [
       "['/scratch_isilon/groups/singlecell/shared/projects/Inflammation-PBMCs-Atlas/03_downstream_analysis/08_gene_importance/xgboost_external_validation/xgboost_TopN_genes/results_20/best_model/T_CD4_NonNaive_14_0_xgb.json']"
      ]
     },
     "execution_count": 22,
     "metadata": {},
     "output_type": "execute_result"
    }
   ],
   "source": [
    "out_dir = here(f'03_downstream_analysis/08_gene_importance/xgboost_external_validation/xgboost_TopN_genes/results_{N_GENES}/best_model')\n",
    "\n",
    "if not os.path.exists(out_dir):\n",
    "    os.makedirs(out_dir)\n",
    "    \n",
    "joblib.dump(xgb, os.path.join(out_dir, f'{CELL_TYPE}_{SEED}_{TEST_SPLIT_IDX}_xgb.json'))"
   ]
  },
  {
   "cell_type": "code",
   "execution_count": 23,
   "id": "36552ad3",
   "metadata": {
    "execution": {
     "iopub.execute_input": "2025-05-15T16:24:51.600761Z",
     "iopub.status.busy": "2025-05-15T16:24:51.600563Z",
     "iopub.status.idle": "2025-05-15T16:24:52.637207Z",
     "shell.execute_reply": "2025-05-15T16:24:52.636660Z"
    },
    "papermill": {
     "duration": 1.047537,
     "end_time": "2025-05-15T16:24:52.638616",
     "exception": false,
     "start_time": "2025-05-15T16:24:51.591079",
     "status": "completed"
    },
    "tags": []
   },
   "outputs": [],
   "source": [
    "df_pred_test = pd.DataFrame(dict(\n",
    "    cell_id=train_adata.obs.iloc[test_idxs].index.values,\n",
    "    y_true=y_test, \n",
    "    y_true_code=y_test_enc, \n",
    "    y_pred=xgb.predict(X_test))).set_index('cell_id')"
   ]
  },
  {
   "cell_type": "code",
   "execution_count": 24,
   "id": "a46d1596",
   "metadata": {
    "execution": {
     "iopub.execute_input": "2025-05-15T16:24:52.656116Z",
     "iopub.status.busy": "2025-05-15T16:24:52.655895Z",
     "iopub.status.idle": "2025-05-15T16:24:52.777796Z",
     "shell.execute_reply": "2025-05-15T16:24:52.777391Z"
    },
    "papermill": {
     "duration": 0.132027,
     "end_time": "2025-05-15T16:24:52.779195",
     "exception": false,
     "start_time": "2025-05-15T16:24:52.647168",
     "status": "completed"
    },
    "tags": []
   },
   "outputs": [],
   "source": [
    "out_dir = here(f'03_downstream_analysis/08_gene_importance/xgboost_external_validation/xgboost_TopN_genes/results_{N_GENES}/predictions')\n",
    "\n",
    "if not os.path.exists(out_dir):\n",
    "    os.makedirs(out_dir)\n",
    "    \n",
    "df_pred_test.to_csv(os.path.join(out_dir, f'{CELL_TYPE}_{SEED}_{TEST_SPLIT_IDX}_pred_test.zip'))"
   ]
  },
  {
   "cell_type": "code",
   "execution_count": 25,
   "id": "341b3e56",
   "metadata": {
    "execution": {
     "iopub.execute_input": "2025-05-15T16:24:52.796584Z",
     "iopub.status.busy": "2025-05-15T16:24:52.796358Z",
     "iopub.status.idle": "2025-05-15T16:24:52.812502Z",
     "shell.execute_reply": "2025-05-15T16:24:52.812163Z"
    },
    "papermill": {
     "duration": 0.025657,
     "end_time": "2025-05-15T16:24:52.813434",
     "exception": false,
     "start_time": "2025-05-15T16:24:52.787777",
     "status": "completed"
    },
    "tags": []
   },
   "outputs": [],
   "source": [
    "metrics_dict = dict(\n",
    "    BAS=balanced_accuracy_score(y_true=df_pred_test.y_true_code, y_pred=df_pred_test.y_pred), WF1=f1_score(y_true=df_pred_test.y_true_code, y_pred=df_pred_test.y_pred,average='weighted'))"
   ]
  },
  {
   "cell_type": "code",
   "execution_count": 26,
   "id": "bba9b146",
   "metadata": {
    "execution": {
     "iopub.execute_input": "2025-05-15T16:24:52.830924Z",
     "iopub.status.busy": "2025-05-15T16:24:52.830577Z",
     "iopub.status.idle": "2025-05-15T16:24:52.833398Z",
     "shell.execute_reply": "2025-05-15T16:24:52.833063Z"
    },
    "papermill": {
     "duration": 0.012338,
     "end_time": "2025-05-15T16:24:52.834210",
     "exception": false,
     "start_time": "2025-05-15T16:24:52.821872",
     "status": "completed"
    },
    "tags": []
   },
   "outputs": [
    {
     "data": {
      "text/plain": [
       "{'BAS': 0.6056175379906581, 'WF1': 0.773332304553217}"
      ]
     },
     "execution_count": 26,
     "metadata": {},
     "output_type": "execute_result"
    }
   ],
   "source": [
    "metrics_dict"
   ]
  },
  {
   "cell_type": "code",
   "execution_count": 27,
   "id": "e578537d",
   "metadata": {
    "execution": {
     "iopub.execute_input": "2025-05-15T16:24:52.850815Z",
     "iopub.status.busy": "2025-05-15T16:24:52.850618Z",
     "iopub.status.idle": "2025-05-15T16:24:52.859314Z",
     "shell.execute_reply": "2025-05-15T16:24:52.858977Z"
    },
    "papermill": {
     "duration": 0.018105,
     "end_time": "2025-05-15T16:24:52.860143",
     "exception": false,
     "start_time": "2025-05-15T16:24:52.842038",
     "status": "completed"
    },
    "tags": []
   },
   "outputs": [
    {
     "data": {
      "text/html": [
       "<div>\n",
       "<style scoped>\n",
       "    .dataframe tbody tr th:only-of-type {\n",
       "        vertical-align: middle;\n",
       "    }\n",
       "\n",
       "    .dataframe tbody tr th {\n",
       "        vertical-align: top;\n",
       "    }\n",
       "\n",
       "    .dataframe thead th {\n",
       "        text-align: right;\n",
       "    }\n",
       "</style>\n",
       "<table border=\"1\" class=\"dataframe\">\n",
       "  <thead>\n",
       "    <tr style=\"text-align: right;\">\n",
       "      <th></th>\n",
       "      <th>BAS</th>\n",
       "      <th>WF1</th>\n",
       "      <th>split_idx</th>\n",
       "      <th>gene_set_seed</th>\n",
       "      <th>cell_type</th>\n",
       "    </tr>\n",
       "  </thead>\n",
       "  <tbody>\n",
       "    <tr>\n",
       "      <th>0</th>\n",
       "      <td>0.605618</td>\n",
       "      <td>0.773332</td>\n",
       "      <td>0</td>\n",
       "      <td>14</td>\n",
       "      <td>T_CD4_NonNaive</td>\n",
       "    </tr>\n",
       "  </tbody>\n",
       "</table>\n",
       "</div>"
      ],
      "text/plain": [
       "        BAS       WF1  split_idx  gene_set_seed       cell_type\n",
       "0  0.605618  0.773332          0             14  T_CD4_NonNaive"
      ]
     },
     "execution_count": 27,
     "metadata": {},
     "output_type": "execute_result"
    }
   ],
   "source": [
    "metrics_df = pd.DataFrame.from_dict([metrics_dict]).assign(split_idx=TEST_SPLIT_IDX, gene_set_seed=SEED, cell_type=CELL_TYPE)\n",
    "metrics_df"
   ]
  },
  {
   "cell_type": "code",
   "execution_count": 28,
   "id": "9efb0760",
   "metadata": {
    "execution": {
     "iopub.execute_input": "2025-05-15T16:24:52.877437Z",
     "iopub.status.busy": "2025-05-15T16:24:52.877182Z",
     "iopub.status.idle": "2025-05-15T16:24:52.884745Z",
     "shell.execute_reply": "2025-05-15T16:24:52.884448Z"
    },
    "papermill": {
     "duration": 0.017229,
     "end_time": "2025-05-15T16:24:52.885579",
     "exception": false,
     "start_time": "2025-05-15T16:24:52.868350",
     "status": "completed"
    },
    "tags": []
   },
   "outputs": [],
   "source": [
    "out_dir = here(f'03_downstream_analysis/08_gene_importance/xgboost_external_validation/xgboost_TopN_genes/results_{N_GENES}/metrics')\n",
    "\n",
    "if not os.path.exists(out_dir):\n",
    "    os.makedirs(out_dir)\n",
    "    \n",
    "metrics_df.to_csv(os.path.join(out_dir, f'{CELL_TYPE}_{SEED}_{TEST_SPLIT_IDX}_metrics.zip'))"
   ]
  }
 ],
 "metadata": {
  "kernelspec": {
   "display_name": "Python 3 (ipykernel)",
   "language": "python",
   "name": "python3"
  },
  "language_info": {
   "codemirror_mode": {
    "name": "ipython",
    "version": 3
   },
   "file_extension": ".py",
   "mimetype": "text/x-python",
   "name": "python",
   "nbconvert_exporter": "python",
   "pygments_lexer": "ipython3",
   "version": "3.12.5"
  },
  "papermill": {
   "default_parameters": {},
   "duration": 1306.889442,
   "end_time": "2025-05-15T16:24:53.511013",
   "environment_variables": {},
   "exception": null,
   "input_path": "02_xgboost_fitting_external_20genes.ipynb",
   "output_path": "results_20/executed_notebooks/xgboost_fitting_external_CT_T_CD4_NonNaive_GS_14_seed0.ipynb",
   "parameters": {
    "CELL_TYPE": "T_CD4_NonNaive",
    "SEED": 14,
    "TEST_SPLIT_IDX": 0
   },
   "start_time": "2025-05-15T16:03:06.621571",
   "version": "2.6.0"
  }
 },
 "nbformat": 4,
 "nbformat_minor": 5
}