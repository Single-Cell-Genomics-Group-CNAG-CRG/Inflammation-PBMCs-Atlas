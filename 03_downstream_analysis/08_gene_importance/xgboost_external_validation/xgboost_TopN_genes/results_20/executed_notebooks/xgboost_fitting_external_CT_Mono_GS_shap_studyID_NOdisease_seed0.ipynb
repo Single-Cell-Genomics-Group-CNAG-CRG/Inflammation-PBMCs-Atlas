{
 "cells": [
  {
   "cell_type": "code",
   "execution_count": 1,
   "id": "087ce4da",
   "metadata": {
    "editable": true,
    "execution": {
     "iopub.execute_input": "2025-05-14T16:07:22.592886Z",
     "iopub.status.busy": "2025-05-14T16:07:22.592738Z",
     "iopub.status.idle": "2025-05-14T16:07:22.595656Z",
     "shell.execute_reply": "2025-05-14T16:07:22.595287Z"
    },
    "papermill": {
     "duration": 0.022461,
     "end_time": "2025-05-14T16:07:22.596517",
     "exception": false,
     "start_time": "2025-05-14T16:07:22.574056",
     "status": "completed"
    },
    "slideshow": {
     "slide_type": ""
    },
    "tags": [
     "parameters"
    ]
   },
   "outputs": [],
   "source": [
    "CELL_TYPE = 'pDC'\n",
    "N_GENES: int = 20\n",
    "SEED = 'shap_studyID' #'disease_NOstudy' 'study_NOdisease' or 'int' or 'shap_studyID'\n",
    "TEST_SPLIT_IDX: int = 1 #[0,4]"
   ]
  },
  {
   "cell_type": "code",
   "execution_count": 2,
   "id": "411fd774",
   "metadata": {
    "execution": {
     "iopub.execute_input": "2025-05-14T16:07:22.614475Z",
     "iopub.status.busy": "2025-05-14T16:07:22.614342Z",
     "iopub.status.idle": "2025-05-14T16:07:22.616616Z",
     "shell.execute_reply": "2025-05-14T16:07:22.616267Z"
    },
    "papermill": {
     "duration": 0.010472,
     "end_time": "2025-05-14T16:07:22.617465",
     "exception": false,
     "start_time": "2025-05-14T16:07:22.606993",
     "status": "completed"
    },
    "tags": [
     "injected-parameters"
    ]
   },
   "outputs": [],
   "source": [
    "# Parameters\n",
    "CELL_TYPE = \"Mono\"\n",
    "SEED = \"shap_studyID_NOdisease\"\n",
    "TEST_SPLIT_IDX = 0\n"
   ]
  },
  {
   "cell_type": "code",
   "execution_count": 3,
   "id": "8c2df321",
   "metadata": {
    "execution": {
     "iopub.execute_input": "2025-05-14T16:07:22.629248Z",
     "iopub.status.busy": "2025-05-14T16:07:22.629118Z",
     "iopub.status.idle": "2025-05-14T16:07:22.631226Z",
     "shell.execute_reply": "2025-05-14T16:07:22.630854Z"
    },
    "papermill": {
     "duration": 0.008671,
     "end_time": "2025-05-14T16:07:22.632005",
     "exception": false,
     "start_time": "2025-05-14T16:07:22.623334",
     "status": "completed"
    },
    "tags": []
   },
   "outputs": [],
   "source": [
    "N_SPLITS: int = 5\n",
    "N_TRIALS: int = 50"
   ]
  },
  {
   "cell_type": "code",
   "execution_count": 4,
   "id": "fdb194e1",
   "metadata": {
    "execution": {
     "iopub.execute_input": "2025-05-14T16:07:22.647209Z",
     "iopub.status.busy": "2025-05-14T16:07:22.646735Z",
     "iopub.status.idle": "2025-05-14T16:07:46.939387Z",
     "shell.execute_reply": "2025-05-14T16:07:46.938921Z"
    },
    "papermill": {
     "duration": 24.30245,
     "end_time": "2025-05-14T16:07:46.941023",
     "exception": false,
     "start_time": "2025-05-14T16:07:22.638573",
     "status": "completed"
    },
    "tags": []
   },
   "outputs": [],
   "source": [
    "import os\n",
    "import sys\n",
    "from pyprojroot.here import here\n",
    "import pandas as pd\n",
    "import anndata as ad\n",
    "import numpy as np\n",
    "import math\n",
    "from sklearn.model_selection import StratifiedGroupKFold\n",
    "from sklearn.preprocessing import LabelEncoder\n",
    "from sklearn.metrics import f1_score\n",
    "import matplotlib.pyplot as plt\n",
    "import seaborn as sns\n",
    "from itertools import product\n",
    "from sklearn.metrics import balanced_accuracy_score, f1_score\n",
    "import optuna\n",
    "\n",
    "import joblib\n",
    "import pickle\n",
    "import datetime\n",
    "\n",
    "import collections\n",
    "\n",
    "import xgboost\n",
    "from sklearn.preprocessing import LabelEncoder\n",
    "\n",
    "import scipy.sparse as ssp\n",
    "import joblib\n",
    "\n",
    "from dotenv import load_dotenv"
   ]
  },
  {
   "cell_type": "code",
   "execution_count": 5,
   "id": "ac8860d5",
   "metadata": {
    "execution": {
     "iopub.execute_input": "2025-05-14T16:07:46.975819Z",
     "iopub.status.busy": "2025-05-14T16:07:46.975467Z",
     "iopub.status.idle": "2025-05-14T16:07:46.981091Z",
     "shell.execute_reply": "2025-05-14T16:07:46.980776Z"
    },
    "papermill": {
     "duration": 0.018807,
     "end_time": "2025-05-14T16:07:46.981913",
     "exception": false,
     "start_time": "2025-05-14T16:07:46.963106",
     "status": "completed"
    },
    "tags": []
   },
   "outputs": [
    {
     "data": {
      "text/plain": [
       "True"
      ]
     },
     "execution_count": 5,
     "metadata": {},
     "output_type": "execute_result"
    }
   ],
   "source": [
    "load_dotenv()"
   ]
  },
  {
   "cell_type": "markdown",
   "id": "22b224bb",
   "metadata": {
    "papermill": {
     "duration": 0.012753,
     "end_time": "2025-05-14T16:07:47.000198",
     "exception": false,
     "start_time": "2025-05-14T16:07:46.987445",
     "status": "completed"
    },
    "tags": []
   },
   "source": [
    "# LOAD DATASET"
   ]
  },
  {
   "cell_type": "code",
   "execution_count": 6,
   "id": "3d25e2d2",
   "metadata": {
    "execution": {
     "iopub.execute_input": "2025-05-14T16:07:47.021068Z",
     "iopub.status.busy": "2025-05-14T16:07:47.020704Z",
     "iopub.status.idle": "2025-05-14T16:07:48.317240Z",
     "shell.execute_reply": "2025-05-14T16:07:48.316771Z"
    },
    "papermill": {
     "duration": 1.303433,
     "end_time": "2025-05-14T16:07:48.318111",
     "exception": false,
     "start_time": "2025-05-14T16:07:47.014678",
     "status": "completed"
    },
    "tags": []
   },
   "outputs": [],
   "source": [
    "train_adata = ad.read_h5ad(\n",
    "    here(f'03_downstream_analysis/08_gene_importance/xgboost_external_validation/xgboost_TopN_genes/data_cellTypes/EXTERNAL_{CELL_TYPE}.filtered.log1p.h5ad')\n",
    ")"
   ]
  },
  {
   "cell_type": "code",
   "execution_count": 7,
   "id": "905a621a",
   "metadata": {
    "execution": {
     "iopub.execute_input": "2025-05-14T16:07:48.330357Z",
     "iopub.status.busy": "2025-05-14T16:07:48.329810Z",
     "iopub.status.idle": "2025-05-14T16:07:48.362802Z",
     "shell.execute_reply": "2025-05-14T16:07:48.362348Z"
    },
    "papermill": {
     "duration": 0.040014,
     "end_time": "2025-05-14T16:07:48.363737",
     "exception": false,
     "start_time": "2025-05-14T16:07:48.323723",
     "status": "completed"
    },
    "tags": []
   },
   "outputs": [
    {
     "name": "stdout",
     "output_type": "stream",
     "text": [
      "['ENSG00000002586' 'ENSG00000005339' 'ENSG00000006125' 'ENSG00000008394'\n",
      " 'ENSG00000010327' 'ENSG00000018280' 'ENSG00000019169' 'ENSG00000019582'\n",
      " 'ENSG00000026025' 'ENSG00000028137' 'ENSG00000033800' 'ENSG00000038427'\n",
      " 'ENSG00000042753' 'ENSG00000051382' 'ENSG00000057657' 'ENSG00000059728'\n",
      " 'ENSG00000068831' 'ENSG00000075785' 'ENSG00000076944' 'ENSG00000077150'\n",
      " 'ENSG00000077238' 'ENSG00000078043' 'ENSG00000082074' 'ENSG00000085514'\n",
      " 'ENSG00000089737' 'ENSG00000090863' 'ENSG00000092820' 'ENSG00000099624'\n",
      " 'ENSG00000100079' 'ENSG00000100100' 'ENSG00000100300' 'ENSG00000100365'\n",
      " 'ENSG00000100368' 'ENSG00000100393' 'ENSG00000100664' 'ENSG00000100906'\n",
      " 'ENSG00000100911' 'ENSG00000101350' 'ENSG00000101608' 'ENSG00000101695'\n",
      " 'ENSG00000104093' 'ENSG00000104904' 'ENSG00000104964' 'ENSG00000104998'\n",
      " 'ENSG00000105851' 'ENSG00000106367' 'ENSG00000106803' 'ENSG00000108639'\n",
      " 'ENSG00000109743' 'ENSG00000110395' 'ENSG00000110876' 'ENSG00000111348'\n",
      " 'ENSG00000111640' 'ENSG00000111716' 'ENSG00000112561' 'ENSG00000113070'\n",
      " 'ENSG00000113441' 'ENSG00000113615' 'ENSG00000115073' 'ENSG00000116171'\n",
      " 'ENSG00000116701' 'ENSG00000116815' 'ENSG00000117602' 'ENSG00000118640'\n",
      " 'ENSG00000118971' 'ENSG00000119655' 'ENSG00000119922' 'ENSG00000120594'\n",
      " 'ENSG00000121316' 'ENSG00000121879' 'ENSG00000124882' 'ENSG00000125538'\n",
      " 'ENSG00000125743' 'ENSG00000127022' 'ENSG00000127314' 'ENSG00000127507'\n",
      " 'ENSG00000128524' 'ENSG00000130755' 'ENSG00000131018' 'ENSG00000131042'\n",
      " 'ENSG00000131143' 'ENSG00000131196' 'ENSG00000131981' 'ENSG00000132912'\n",
      " 'ENSG00000135046' 'ENSG00000135441' 'ENSG00000135720' 'ENSG00000135821'\n",
      " 'ENSG00000135968' 'ENSG00000136156' 'ENSG00000137100' 'ENSG00000138674'\n",
      " 'ENSG00000139192' 'ENSG00000140379' 'ENSG00000141574' 'ENSG00000142208'\n",
      " 'ENSG00000142546' 'ENSG00000143119' 'ENSG00000143390' 'ENSG00000143924'\n",
      " 'ENSG00000144746' 'ENSG00000144802' 'ENSG00000147443' 'ENSG00000148908'\n",
      " 'ENSG00000150093' 'ENSG00000150782' 'ENSG00000160075' 'ENSG00000160213'\n",
      " 'ENSG00000160883' 'ENSG00000161921' 'ENSG00000163191' 'ENSG00000163220'\n",
      " 'ENSG00000163513' 'ENSG00000163660' 'ENSG00000163931' 'ENSG00000164307'\n",
      " 'ENSG00000165140' 'ENSG00000166710' 'ENSG00000166927' 'ENSG00000166949'\n",
      " 'ENSG00000167004' 'ENSG00000169896' 'ENSG00000170017' 'ENSG00000173757'\n",
      " 'ENSG00000175203' 'ENSG00000175489' 'ENSG00000176986' 'ENSG00000177556'\n",
      " 'ENSG00000177663' 'ENSG00000178695' 'ENSG00000179218' 'ENSG00000179295'\n",
      " 'ENSG00000180008' 'ENSG00000182578' 'ENSG00000183023' 'ENSG00000184007'\n",
      " 'ENSG00000184752' 'ENSG00000185215' 'ENSG00000185291' 'ENSG00000185745'\n",
      " 'ENSG00000185950' 'ENSG00000188906' 'ENSG00000196126' 'ENSG00000196735'\n",
      " 'ENSG00000197102' 'ENSG00000197329' 'ENSG00000197471' 'ENSG00000197632'\n",
      " 'ENSG00000197746' 'ENSG00000197956' 'ENSG00000197965' 'ENSG00000198520'\n",
      " 'ENSG00000203747' 'ENSG00000204264' 'ENSG00000204287' 'ENSG00000204472'\n",
      " 'ENSG00000204843' 'ENSG00000213145' 'ENSG00000223865' 'ENSG00000242574'\n",
      " 'ENSG00000271503' 'ENSG00000277791']\n"
     ]
    }
   ],
   "source": [
    "if SEED != 'all':\n",
    "    gene_subset = np.load(here(f'03_downstream_analysis/08_gene_importance/xgboost_external_validation/shap_gene_selection/gene_subsets_{N_GENES}/{CELL_TYPE}_{SEED}.npy'), allow_pickle=True)\n",
    "    train_adata = train_adata[:,gene_subset]\n",
    "    print(gene_subset)\n",
    "elif SEED == 'all':\n",
    "    print('Using all genes')\n",
    "else:\n",
    "    raise ValueError()"
   ]
  },
  {
   "cell_type": "code",
   "execution_count": 8,
   "id": "7e3adeff",
   "metadata": {
    "execution": {
     "iopub.execute_input": "2025-05-14T16:07:48.377353Z",
     "iopub.status.busy": "2025-05-14T16:07:48.377059Z",
     "iopub.status.idle": "2025-05-14T16:07:48.380220Z",
     "shell.execute_reply": "2025-05-14T16:07:48.379921Z"
    },
    "papermill": {
     "duration": 0.010405,
     "end_time": "2025-05-14T16:07:48.380992",
     "exception": false,
     "start_time": "2025-05-14T16:07:48.370587",
     "status": "completed"
    },
    "tags": []
   },
   "outputs": [
    {
     "data": {
      "text/plain": [
       "(137435, 162)"
      ]
     },
     "execution_count": 8,
     "metadata": {},
     "output_type": "execute_result"
    }
   ],
   "source": [
    "train_adata.shape"
   ]
  },
  {
   "cell_type": "code",
   "execution_count": 9,
   "id": "df8189f3",
   "metadata": {
    "execution": {
     "iopub.execute_input": "2025-05-14T16:07:48.393194Z",
     "iopub.status.busy": "2025-05-14T16:07:48.392839Z",
     "iopub.status.idle": "2025-05-14T16:07:48.396869Z",
     "shell.execute_reply": "2025-05-14T16:07:48.396568Z"
    },
    "papermill": {
     "duration": 0.011137,
     "end_time": "2025-05-14T16:07:48.397796",
     "exception": false,
     "start_time": "2025-05-14T16:07:48.386659",
     "status": "completed"
    },
    "tags": []
   },
   "outputs": [
    {
     "data": {
      "text/plain": [
       "['RA', 'healthy', 'COVID', 'HIV', 'cirrhosis', 'CD', 'SLE', 'sepsis']\n",
       "Categories (8, object): ['CD', 'COVID', 'HIV', 'RA', 'SLE', 'cirrhosis', 'healthy', 'sepsis']"
      ]
     },
     "execution_count": 9,
     "metadata": {},
     "output_type": "execute_result"
    }
   ],
   "source": [
    "train_adata.obs.disease.unique()"
   ]
  },
  {
   "cell_type": "code",
   "execution_count": 10,
   "id": "ca8367db",
   "metadata": {
    "execution": {
     "iopub.execute_input": "2025-05-14T16:07:48.410390Z",
     "iopub.status.busy": "2025-05-14T16:07:48.409991Z",
     "iopub.status.idle": "2025-05-14T16:07:48.414005Z",
     "shell.execute_reply": "2025-05-14T16:07:48.413703Z"
    },
    "papermill": {
     "duration": 0.011342,
     "end_time": "2025-05-14T16:07:48.414918",
     "exception": false,
     "start_time": "2025-05-14T16:07:48.403576",
     "status": "completed"
    },
    "tags": []
   },
   "outputs": [
    {
     "data": {
      "text/plain": [
       "['SCGT00val_I0364_T0', 'SCGT00val_I036028_T0', 'SCGT00val_I036024_T0', 'SCGT00val_I036023_T0', 'SCGT00val_I036019_T0', ..., '10XGenomics_10XHC2_T0', '10XGenomics_10XHC3_T0', '10XGenomics_10XHC5_T0', '10XGenomics_10XHC7_T0', '10XGenomics_10XHC8_T0']\n",
       "Length: 86\n",
       "Categories (86, object): ['10XGenomics_10XHC1_T0', '10XGenomics_10XHC2_T0', '10XGenomics_10XHC3_T0', '10XGenomics_10XHC4_T0', ..., 'Savage2021_BRISL6_T0', 'Savage2021_BRISL7_T0', 'Savage2021_PIDA_T0', 'Savage2021_PIDB_T0']"
      ]
     },
     "execution_count": 10,
     "metadata": {},
     "output_type": "execute_result"
    }
   ],
   "source": [
    "train_adata.obs.sampleID.unique()"
   ]
  },
  {
   "cell_type": "code",
   "execution_count": 11,
   "id": "b803c20a",
   "metadata": {
    "execution": {
     "iopub.execute_input": "2025-05-14T16:07:48.427045Z",
     "iopub.status.busy": "2025-05-14T16:07:48.426815Z",
     "iopub.status.idle": "2025-05-14T16:07:48.752312Z",
     "shell.execute_reply": "2025-05-14T16:07:48.751871Z"
    },
    "papermill": {
     "duration": 0.332407,
     "end_time": "2025-05-14T16:07:48.753209",
     "exception": false,
     "start_time": "2025-05-14T16:07:48.420802",
     "status": "completed"
    },
    "tags": []
   },
   "outputs": [],
   "source": [
    "all_idxs = np.arange(train_adata.obs.shape[0])\n",
    "left_out_splits = [s[1] for s in StratifiedGroupKFold(n_splits=N_SPLITS).split(all_idxs, train_adata.obs.disease, train_adata.obs.sampleID)]"
   ]
  },
  {
   "cell_type": "code",
   "execution_count": 12,
   "id": "4dfbcb26",
   "metadata": {
    "execution": {
     "iopub.execute_input": "2025-05-14T16:07:48.766044Z",
     "iopub.status.busy": "2025-05-14T16:07:48.765611Z",
     "iopub.status.idle": "2025-05-14T16:07:48.769166Z",
     "shell.execute_reply": "2025-05-14T16:07:48.768860Z"
    },
    "papermill": {
     "duration": 0.010885,
     "end_time": "2025-05-14T16:07:48.769938",
     "exception": false,
     "start_time": "2025-05-14T16:07:48.759053",
     "status": "completed"
    },
    "tags": []
   },
   "outputs": [
    {
     "data": {
      "text/plain": [
       "([2, 3, 4], 1, 0)"
      ]
     },
     "execution_count": 12,
     "metadata": {},
     "output_type": "execute_result"
    }
   ],
   "source": [
    "TRAIN_SPLIT_IDXS = [0,1,2,3,4]\n",
    "VAL_SPLIT_IDX = (TEST_SPLIT_IDX + 1) % 5\n",
    "TRAIN_SPLIT_IDXS.remove(TEST_SPLIT_IDX)\n",
    "TRAIN_SPLIT_IDXS.remove(VAL_SPLIT_IDX)\n",
    "TRAIN_SPLIT_IDXS, VAL_SPLIT_IDX, TEST_SPLIT_IDX"
   ]
  },
  {
   "cell_type": "code",
   "execution_count": 13,
   "id": "51d1c9c4",
   "metadata": {
    "execution": {
     "iopub.execute_input": "2025-05-14T16:07:48.782304Z",
     "iopub.status.busy": "2025-05-14T16:07:48.781988Z",
     "iopub.status.idle": "2025-05-14T16:07:48.784315Z",
     "shell.execute_reply": "2025-05-14T16:07:48.784021Z"
    },
    "papermill": {
     "duration": 0.009424,
     "end_time": "2025-05-14T16:07:48.785135",
     "exception": false,
     "start_time": "2025-05-14T16:07:48.775711",
     "status": "completed"
    },
    "tags": []
   },
   "outputs": [],
   "source": [
    "train_idxs = np.concatenate([left_out_splits[idx] for idx in TRAIN_SPLIT_IDXS])\n",
    "val_idxs = left_out_splits[VAL_SPLIT_IDX]\n",
    "test_idxs = left_out_splits[TEST_SPLIT_IDX]"
   ]
  },
  {
   "cell_type": "markdown",
   "id": "6d2c07b5",
   "metadata": {
    "papermill": {
     "duration": 0.006074,
     "end_time": "2025-05-14T16:07:48.806272",
     "exception": false,
     "start_time": "2025-05-14T16:07:48.800198",
     "status": "completed"
    },
    "tags": []
   },
   "source": [
    "### SUBSET DATASET INTO TRAIN/TEST/VAL SPLITS"
   ]
  },
  {
   "cell_type": "code",
   "execution_count": 14,
   "id": "de75c68b",
   "metadata": {
    "execution": {
     "iopub.execute_input": "2025-05-14T16:07:48.819112Z",
     "iopub.status.busy": "2025-05-14T16:07:48.818734Z",
     "iopub.status.idle": "2025-05-14T16:07:49.407655Z",
     "shell.execute_reply": "2025-05-14T16:07:49.407306Z"
    },
    "papermill": {
     "duration": 0.596043,
     "end_time": "2025-05-14T16:07:49.408473",
     "exception": false,
     "start_time": "2025-05-14T16:07:48.812430",
     "status": "completed"
    },
    "tags": []
   },
   "outputs": [
    {
     "data": {
      "text/plain": [
       "((82534, 162), (27414, 162), (27487, 162))"
      ]
     },
     "execution_count": 14,
     "metadata": {},
     "output_type": "execute_result"
    }
   ],
   "source": [
    "X_train = train_adata.X[train_idxs]\n",
    "X_test = train_adata.X[test_idxs]\n",
    "X_val = train_adata.X[val_idxs]\n",
    "X_train.shape, X_test.shape, X_val.shape"
   ]
  },
  {
   "cell_type": "code",
   "execution_count": 15,
   "id": "5e281743",
   "metadata": {
    "execution": {
     "iopub.execute_input": "2025-05-14T16:07:49.421073Z",
     "iopub.status.busy": "2025-05-14T16:07:49.420868Z",
     "iopub.status.idle": "2025-05-14T16:07:49.435633Z",
     "shell.execute_reply": "2025-05-14T16:07:49.435284Z"
    },
    "papermill": {
     "duration": 0.022072,
     "end_time": "2025-05-14T16:07:49.436457",
     "exception": false,
     "start_time": "2025-05-14T16:07:49.414385",
     "status": "completed"
    },
    "tags": []
   },
   "outputs": [
    {
     "data": {
      "text/plain": [
       "((82534,), (27414,), (27487,))"
      ]
     },
     "execution_count": 15,
     "metadata": {},
     "output_type": "execute_result"
    }
   ],
   "source": [
    "y_train = train_adata.obs.iloc[train_idxs].disease.values.astype(str)\n",
    "y_test = train_adata.obs.iloc[test_idxs].disease.values.astype(str)\n",
    "y_val = train_adata.obs.iloc[val_idxs].disease.values.astype(str)\n",
    "y_train.shape, y_test.shape, y_val.shape"
   ]
  },
  {
   "cell_type": "code",
   "execution_count": 16,
   "id": "7989983a",
   "metadata": {
    "execution": {
     "iopub.execute_input": "2025-05-14T16:07:49.448413Z",
     "iopub.status.busy": "2025-05-14T16:07:49.448164Z",
     "iopub.status.idle": "2025-05-14T16:07:49.478966Z",
     "shell.execute_reply": "2025-05-14T16:07:49.478535Z"
    },
    "papermill": {
     "duration": 0.037747,
     "end_time": "2025-05-14T16:07:49.479808",
     "exception": false,
     "start_time": "2025-05-14T16:07:49.442061",
     "status": "completed"
    },
    "tags": []
   },
   "outputs": [],
   "source": [
    "lenc = LabelEncoder()\n",
    "y_train_enc = lenc.fit_transform(y_train)\n",
    "y_val_enc = lenc.transform(y_val)\n",
    "y_test_enc = lenc.transform(y_test)"
   ]
  },
  {
   "cell_type": "markdown",
   "id": "66633bbd",
   "metadata": {
    "papermill": {
     "duration": 0.006029,
     "end_time": "2025-05-14T16:07:49.491682",
     "exception": false,
     "start_time": "2025-05-14T16:07:49.485653",
     "status": "completed"
    },
    "tags": []
   },
   "source": [
    "### GENERATE F1 "
   ]
  },
  {
   "cell_type": "code",
   "execution_count": 17,
   "id": "ec3c6db6",
   "metadata": {
    "execution": {
     "iopub.execute_input": "2025-05-14T16:07:49.504792Z",
     "iopub.status.busy": "2025-05-14T16:07:49.504614Z",
     "iopub.status.idle": "2025-05-14T16:07:49.506975Z",
     "shell.execute_reply": "2025-05-14T16:07:49.506620Z"
    },
    "papermill": {
     "duration": 0.010822,
     "end_time": "2025-05-14T16:07:49.508535",
     "exception": false,
     "start_time": "2025-05-14T16:07:49.497713",
     "status": "completed"
    },
    "tags": []
   },
   "outputs": [],
   "source": [
    "def custom_f1_score(y_true, y_pred):\n",
    "    return -f1_score(y_true, y_pred.argmax(1), average='weighted')"
   ]
  },
  {
   "cell_type": "code",
   "execution_count": 18,
   "id": "12f741d2",
   "metadata": {
    "execution": {
     "iopub.execute_input": "2025-05-14T16:07:49.521058Z",
     "iopub.status.busy": "2025-05-14T16:07:49.520828Z",
     "iopub.status.idle": "2025-05-14T16:07:49.526276Z",
     "shell.execute_reply": "2025-05-14T16:07:49.525942Z"
    },
    "papermill": {
     "duration": 0.013977,
     "end_time": "2025-05-14T16:07:49.528218",
     "exception": false,
     "start_time": "2025-05-14T16:07:49.514241",
     "status": "completed"
    },
    "tags": []
   },
   "outputs": [],
   "source": [
    "eval_metric=custom_f1_score\n",
    "eval_metric_name='custom_f1_score'\n",
    "\n",
    "def objective(trial):\n",
    "    params = {\n",
    "        'n_estimators': 1500,\n",
    "        'max_depth': trial.suggest_int('max_depth', 3, 20),\n",
    "        'min_child_weight': trial.suggest_int('min_child_weight', 1, 250),\n",
    "        'subsample': trial.suggest_float('subsample', 0.1, 1.0),\n",
    "        'colsample_bynode': trial.suggest_float('colsample_bynode', 0.1, 1.0),\n",
    "        'learning_rate': trial.suggest_float('learning_rate', 1e-3, 5e-1, log=True),\n",
    "    }\n",
    "    pruning_callback = optuna.integration.XGBoostPruningCallback(trial, f'validation_0-{eval_metric_name}')\n",
    "    es_callback = xgboost.callback.EarlyStopping(20, min_delta=0.001)\n",
    "    xgb = xgboost.XGBClassifier(\n",
    "        eval_metric=eval_metric,\n",
    "        callbacks=[pruning_callback, es_callback],\n",
    "        n_jobs=5,\n",
    "        **params\n",
    "    )\n",
    "    xgb.fit(\n",
    "        X_train, \n",
    "        y_train_enc, \n",
    "        verbose=0,\n",
    "        eval_set=[(X_val, y_val_enc)],\n",
    "    )\n",
    "    trial.set_user_attr('best_iteration', xgb.best_iteration)\n",
    "\n",
    "    return xgb.best_score"
   ]
  },
  {
   "cell_type": "code",
   "execution_count": 19,
   "id": "a0ff40fe",
   "metadata": {
    "execution": {
     "iopub.execute_input": "2025-05-14T16:07:49.543051Z",
     "iopub.status.busy": "2025-05-14T16:07:49.542853Z",
     "iopub.status.idle": "2025-05-14T16:34:24.803876Z",
     "shell.execute_reply": "2025-05-14T16:34:24.803384Z"
    },
    "papermill": {
     "duration": 1595.390094,
     "end_time": "2025-05-14T16:34:24.924616",
     "exception": false,
     "start_time": "2025-05-14T16:07:49.534522",
     "status": "completed"
    },
    "scrolled": true,
    "tags": []
   },
   "outputs": [
    {
     "name": "stderr",
     "output_type": "stream",
     "text": [
      "[I 2025-05-14 18:07:49,544] A new study created in memory with name: no-name-36bf8eef-a01c-49f3-9108-6fb52c66ef22\n"
     ]
    },
    {
     "name": "stderr",
     "output_type": "stream",
     "text": [
      "[I 2025-05-14 18:08:23,370] Trial 0 finished with value: -0.58143 and parameters: {'max_depth': 9, 'min_child_weight': 238, 'subsample': 0.7587945476302645, 'colsample_bynode': 0.6387926357773329, 'learning_rate': 0.0026368755339723046}. Best is trial 0 with value: -0.58143.\n"
     ]
    },
    {
     "name": "stderr",
     "output_type": "stream",
     "text": [
      "[I 2025-05-14 18:10:20,842] Trial 1 finished with value: -0.701008 and parameters: {'max_depth': 5, 'min_child_weight': 15, 'subsample': 0.8795585311974417, 'colsample_bynode': 0.6410035105688879, 'learning_rate': 0.08148293210105287}. Best is trial 1 with value: -0.701008.\n"
     ]
    },
    {
     "name": "stderr",
     "output_type": "stream",
     "text": [
      "[I 2025-05-14 18:10:31,491] Trial 2 finished with value: -0.548838 and parameters: {'max_depth': 3, 'min_child_weight': 243, 'subsample': 0.8491983767203796, 'colsample_bynode': 0.29110519961044856, 'learning_rate': 0.003095566460242371}. Best is trial 1 with value: -0.701008.\n"
     ]
    },
    {
     "name": "stderr",
     "output_type": "stream",
     "text": [
      "[I 2025-05-14 18:11:31,333] Trial 3 finished with value: -0.602961 and parameters: {'max_depth': 6, 'min_child_weight': 77, 'subsample': 0.5722807884690141, 'colsample_bynode': 0.48875051677790415, 'learning_rate': 0.006109683510122491}. Best is trial 1 with value: -0.701008.\n"
     ]
    },
    {
     "name": "stderr",
     "output_type": "stream",
     "text": [
      "[I 2025-05-14 18:15:55,771] Trial 4 finished with value: -0.684167 and parameters: {'max_depth': 14, 'min_child_weight': 35, 'subsample': 0.3629301836816964, 'colsample_bynode': 0.4297256589643226, 'learning_rate': 0.01701841881702917}. Best is trial 1 with value: -0.701008.\n"
     ]
    },
    {
     "name": "stderr",
     "output_type": "stream",
     "text": [
      "[I 2025-05-14 18:16:13,705] Trial 5 pruned. Trial was pruned at iteration 30.\n"
     ]
    },
    {
     "name": "stderr",
     "output_type": "stream",
     "text": [
      "[I 2025-05-14 18:16:14,726] Trial 6 pruned. Trial was pruned at iteration 0.\n"
     ]
    },
    {
     "name": "stderr",
     "output_type": "stream",
     "text": [
      "[I 2025-05-14 18:16:15,678] Trial 7 pruned. Trial was pruned at iteration 0.\n"
     ]
    },
    {
     "name": "stderr",
     "output_type": "stream",
     "text": [
      "[I 2025-05-14 18:16:16,575] Trial 8 pruned. Trial was pruned at iteration 0.\n"
     ]
    },
    {
     "name": "stderr",
     "output_type": "stream",
     "text": [
      "[I 2025-05-14 18:16:22,558] Trial 9 pruned. Trial was pruned at iteration 10.\n"
     ]
    },
    {
     "name": "stderr",
     "output_type": "stream",
     "text": [
      "[I 2025-05-14 18:17:39,802] Trial 10 finished with value: -0.69472 and parameters: {'max_depth': 9, 'min_child_weight': 2, 'subsample': 0.9725833997090791, 'colsample_bynode': 0.11616568805333755, 'learning_rate': 0.17780618353487967}. Best is trial 1 with value: -0.701008.\n"
     ]
    },
    {
     "name": "stderr",
     "output_type": "stream",
     "text": [
      "[I 2025-05-14 18:19:15,950] Trial 11 finished with value: -0.696002 and parameters: {'max_depth': 9, 'min_child_weight': 4, 'subsample': 0.9818290990185045, 'colsample_bynode': 0.17702656156719, 'learning_rate': 0.11568531411766632}. Best is trial 1 with value: -0.701008.\n"
     ]
    },
    {
     "name": "stderr",
     "output_type": "stream",
     "text": [
      "[I 2025-05-14 18:21:14,031] Trial 12 pruned. Trial was pruned at iteration 156.\n"
     ]
    },
    {
     "name": "stderr",
     "output_type": "stream",
     "text": [
      "[I 2025-05-14 18:21:15,035] Trial 13 pruned. Trial was pruned at iteration 0.\n"
     ]
    },
    {
     "name": "stderr",
     "output_type": "stream",
     "text": [
      "[I 2025-05-14 18:21:16,011] Trial 14 pruned. Trial was pruned at iteration 0.\n"
     ]
    },
    {
     "name": "stderr",
     "output_type": "stream",
     "text": [
      "[I 2025-05-14 18:22:57,452] Trial 15 finished with value: -0.697974 and parameters: {'max_depth': 20, 'min_child_weight': 1, 'subsample': 0.7012908959710442, 'colsample_bynode': 0.2540835086298475, 'learning_rate': 0.2833114876720916}. Best is trial 1 with value: -0.701008.\n"
     ]
    },
    {
     "name": "stderr",
     "output_type": "stream",
     "text": [
      "[I 2025-05-14 18:24:05,272] Trial 16 finished with value: -0.712225 and parameters: {'max_depth': 20, 'min_child_weight': 116, 'subsample': 0.6730263351162008, 'colsample_bynode': 0.2993118354639655, 'learning_rate': 0.48964439032767854}. Best is trial 16 with value: -0.712225.\n"
     ]
    },
    {
     "name": "stderr",
     "output_type": "stream",
     "text": [
      "[I 2025-05-14 18:24:06,253] Trial 17 pruned. Trial was pruned at iteration 0.\n"
     ]
    },
    {
     "name": "stderr",
     "output_type": "stream",
     "text": [
      "[I 2025-05-14 18:24:07,196] Trial 18 pruned. Trial was pruned at iteration 0.\n"
     ]
    },
    {
     "name": "stderr",
     "output_type": "stream",
     "text": [
      "[I 2025-05-14 18:24:08,124] Trial 19 pruned. Trial was pruned at iteration 0.\n"
     ]
    },
    {
     "name": "stderr",
     "output_type": "stream",
     "text": [
      "[I 2025-05-14 18:24:09,016] Trial 20 pruned. Trial was pruned at iteration 0.\n"
     ]
    },
    {
     "name": "stderr",
     "output_type": "stream",
     "text": [
      "[I 2025-05-14 18:25:06,827] Trial 21 finished with value: -0.706468 and parameters: {'max_depth': 19, 'min_child_weight': 25, 'subsample': 0.7059446116881941, 'colsample_bynode': 0.2533319273785757, 'learning_rate': 0.24892967230551474}. Best is trial 16 with value: -0.712225.\n"
     ]
    },
    {
     "name": "stderr",
     "output_type": "stream",
     "text": [
      "[I 2025-05-14 18:25:07,797] Trial 22 pruned. Trial was pruned at iteration 0.\n"
     ]
    },
    {
     "name": "stderr",
     "output_type": "stream",
     "text": [
      "[I 2025-05-14 18:26:21,738] Trial 23 finished with value: -0.70824 and parameters: {'max_depth': 18, 'min_child_weight': 31, 'subsample': 0.780635789797437, 'colsample_bynode': 0.37025094499418987, 'learning_rate': 0.16015387238201048}. Best is trial 16 with value: -0.712225.\n"
     ]
    },
    {
     "name": "stderr",
     "output_type": "stream",
     "text": [
      "[I 2025-05-14 18:26:23,348] Trial 24 pruned. Trial was pruned at iteration 1.\n"
     ]
    },
    {
     "name": "stderr",
     "output_type": "stream",
     "text": [
      "[I 2025-05-14 18:26:25,542] Trial 25 pruned. Trial was pruned at iteration 2.\n"
     ]
    },
    {
     "name": "stderr",
     "output_type": "stream",
     "text": [
      "[I 2025-05-14 18:26:26,511] Trial 26 pruned. Trial was pruned at iteration 0.\n"
     ]
    },
    {
     "name": "stderr",
     "output_type": "stream",
     "text": [
      "[I 2025-05-14 18:26:27,479] Trial 27 pruned. Trial was pruned at iteration 0.\n"
     ]
    },
    {
     "name": "stderr",
     "output_type": "stream",
     "text": [
      "[I 2025-05-14 18:26:28,524] Trial 28 pruned. Trial was pruned at iteration 0.\n"
     ]
    },
    {
     "name": "stderr",
     "output_type": "stream",
     "text": [
      "[I 2025-05-14 18:26:29,468] Trial 29 pruned. Trial was pruned at iteration 0.\n"
     ]
    },
    {
     "name": "stderr",
     "output_type": "stream",
     "text": [
      "[I 2025-05-14 18:26:30,432] Trial 30 pruned. Trial was pruned at iteration 0.\n"
     ]
    },
    {
     "name": "stderr",
     "output_type": "stream",
     "text": [
      "[I 2025-05-14 18:26:37,871] Trial 31 pruned. Trial was pruned at iteration 8.\n"
     ]
    },
    {
     "name": "stderr",
     "output_type": "stream",
     "text": [
      "[I 2025-05-14 18:28:13,782] Trial 32 finished with value: -0.707911 and parameters: {'max_depth': 16, 'min_child_weight': 19, 'subsample': 0.8217085495160081, 'colsample_bynode': 0.297031671841927, 'learning_rate': 0.18038499291440738}. Best is trial 16 with value: -0.712225.\n"
     ]
    },
    {
     "name": "stderr",
     "output_type": "stream",
     "text": [
      "[I 2025-05-14 18:29:10,148] Trial 33 finished with value: -0.709242 and parameters: {'max_depth': 16, 'min_child_weight': 20, 'subsample': 0.8259681182004188, 'colsample_bynode': 0.2968673270668264, 'learning_rate': 0.49450573394981395}. Best is trial 16 with value: -0.712225.\n"
     ]
    },
    {
     "name": "stderr",
     "output_type": "stream",
     "text": [
      "[I 2025-05-14 18:29:11,667] Trial 34 pruned. Trial was pruned at iteration 1.\n"
     ]
    },
    {
     "name": "stderr",
     "output_type": "stream",
     "text": [
      "[I 2025-05-14 18:30:02,648] Trial 35 finished with value: -0.703222 and parameters: {'max_depth': 15, 'min_child_weight': 18, 'subsample': 0.9060192682814971, 'colsample_bynode': 0.2979616154742063, 'learning_rate': 0.35158694389243417}. Best is trial 16 with value: -0.712225.\n"
     ]
    },
    {
     "name": "stderr",
     "output_type": "stream",
     "text": [
      "[I 2025-05-14 18:30:03,756] Trial 36 pruned. Trial was pruned at iteration 0.\n"
     ]
    },
    {
     "name": "stderr",
     "output_type": "stream",
     "text": [
      "[I 2025-05-14 18:30:05,307] Trial 37 pruned. Trial was pruned at iteration 1.\n"
     ]
    },
    {
     "name": "stderr",
     "output_type": "stream",
     "text": [
      "[I 2025-05-14 18:30:06,317] Trial 38 pruned. Trial was pruned at iteration 0.\n"
     ]
    },
    {
     "name": "stderr",
     "output_type": "stream",
     "text": [
      "[I 2025-05-14 18:31:26,348] Trial 39 finished with value: -0.708579 and parameters: {'max_depth': 17, 'min_child_weight': 16, 'subsample': 0.7428509120658259, 'colsample_bynode': 0.31024602581909444, 'learning_rate': 0.21725690094790054}. Best is trial 16 with value: -0.712225.\n"
     ]
    },
    {
     "name": "stderr",
     "output_type": "stream",
     "text": [
      "[I 2025-05-14 18:31:27,442] Trial 40 pruned. Trial was pruned at iteration 0.\n"
     ]
    },
    {
     "name": "stderr",
     "output_type": "stream",
     "text": [
      "[I 2025-05-14 18:32:37,164] Trial 41 finished with value: -0.707552 and parameters: {'max_depth': 15, 'min_child_weight': 16, 'subsample': 0.6066554972285509, 'colsample_bynode': 0.32259178006842, 'learning_rate': 0.20727604409803083}. Best is trial 16 with value: -0.712225.\n"
     ]
    },
    {
     "name": "stderr",
     "output_type": "stream",
     "text": [
      "[I 2025-05-14 18:32:38,226] Trial 42 pruned. Trial was pruned at iteration 0.\n"
     ]
    },
    {
     "name": "stderr",
     "output_type": "stream",
     "text": [
      "[I 2025-05-14 18:32:39,921] Trial 43 pruned. Trial was pruned at iteration 1.\n"
     ]
    },
    {
     "name": "stderr",
     "output_type": "stream",
     "text": [
      "[I 2025-05-14 18:33:28,093] Trial 44 finished with value: -0.703326 and parameters: {'max_depth': 17, 'min_child_weight': 14, 'subsample': 0.9326864342611735, 'colsample_bynode': 0.12735830727167155, 'learning_rate': 0.33760688180250725}. Best is trial 16 with value: -0.712225.\n"
     ]
    },
    {
     "name": "stderr",
     "output_type": "stream",
     "text": [
      "[I 2025-05-14 18:33:29,654] Trial 45 pruned. Trial was pruned at iteration 1.\n"
     ]
    },
    {
     "name": "stderr",
     "output_type": "stream",
     "text": [
      "[I 2025-05-14 18:33:34,255] Trial 46 pruned. Trial was pruned at iteration 5.\n"
     ]
    },
    {
     "name": "stderr",
     "output_type": "stream",
     "text": [
      "[I 2025-05-14 18:33:35,265] Trial 47 pruned. Trial was pruned at iteration 0.\n"
     ]
    },
    {
     "name": "stderr",
     "output_type": "stream",
     "text": [
      "[I 2025-05-14 18:33:36,255] Trial 48 pruned. Trial was pruned at iteration 0.\n"
     ]
    },
    {
     "name": "stderr",
     "output_type": "stream",
     "text": [
      "[I 2025-05-14 18:34:24,706] Trial 49 finished with value: -0.708845 and parameters: {'max_depth': 15, 'min_child_weight': 26, 'subsample': 0.6590770217469271, 'colsample_bynode': 0.5182030808578997, 'learning_rate': 0.37274771087422653}. Best is trial 16 with value: -0.712225.\n"
     ]
    }
   ],
   "source": [
    "sampler = optuna.samplers.TPESampler(seed=42)\n",
    "study = optuna.create_study(direction='minimize', sampler=sampler)\n",
    "study.optimize(objective, n_trials=N_TRIALS, gc_after_trial=True)"
   ]
  },
  {
   "cell_type": "code",
   "execution_count": 20,
   "id": "d7fe21c9",
   "metadata": {
    "execution": {
     "iopub.execute_input": "2025-05-14T16:34:25.143867Z",
     "iopub.status.busy": "2025-05-14T16:34:25.143573Z",
     "iopub.status.idle": "2025-05-14T16:34:26.936625Z",
     "shell.execute_reply": "2025-05-14T16:34:26.936239Z"
    },
    "papermill": {
     "duration": 1.871939,
     "end_time": "2025-05-14T16:34:26.937530",
     "exception": false,
     "start_time": "2025-05-14T16:34:25.065591",
     "status": "completed"
    },
    "tags": []
   },
   "outputs": [
    {
     "data": {
      "text/plain": [
       "['/scratch_isilon/groups/singlecell/shared/projects/Inflammation-PBMCs-Atlas/03_downstream_analysis/08_gene_importance/xgboost_external_validation/xgboost_TopN_genes/results_20/study/Mono_shap_studyID_NOdisease_0_xgboost.pkl']"
      ]
     },
     "execution_count": 20,
     "metadata": {},
     "output_type": "execute_result"
    }
   ],
   "source": [
    "out_dir = here(f'03_downstream_analysis/08_gene_importance/xgboost_external_validation/xgboost_TopN_genes/results_{N_GENES}/study')\n",
    "\n",
    "if not os.path.exists(out_dir):\n",
    "    os.makedirs(out_dir)\n",
    "    \n",
    "joblib.dump(study,os.path.join(out_dir, f'{CELL_TYPE}_{SEED}_{TEST_SPLIT_IDX}_xgboost.pkl'))"
   ]
  },
  {
   "cell_type": "code",
   "execution_count": 21,
   "id": "2cc64273",
   "metadata": {
    "execution": {
     "iopub.execute_input": "2025-05-14T16:34:27.280621Z",
     "iopub.status.busy": "2025-05-14T16:34:27.280188Z",
     "iopub.status.idle": "2025-05-14T16:34:43.443636Z",
     "shell.execute_reply": "2025-05-14T16:34:43.443204Z"
    },
    "papermill": {
     "duration": 16.334774,
     "end_time": "2025-05-14T16:34:43.444616",
     "exception": false,
     "start_time": "2025-05-14T16:34:27.109842",
     "status": "completed"
    },
    "tags": []
   },
   "outputs": [
    {
     "data": {
      "text/html": [
       "<style>#sk-container-id-1 {\n",
       "  /* Definition of color scheme common for light and dark mode */\n",
       "  --sklearn-color-text: black;\n",
       "  --sklearn-color-line: gray;\n",
       "  /* Definition of color scheme for unfitted estimators */\n",
       "  --sklearn-color-unfitted-level-0: #fff5e6;\n",
       "  --sklearn-color-unfitted-level-1: #f6e4d2;\n",
       "  --sklearn-color-unfitted-level-2: #ffe0b3;\n",
       "  --sklearn-color-unfitted-level-3: chocolate;\n",
       "  /* Definition of color scheme for fitted estimators */\n",
       "  --sklearn-color-fitted-level-0: #f0f8ff;\n",
       "  --sklearn-color-fitted-level-1: #d4ebff;\n",
       "  --sklearn-color-fitted-level-2: #b3dbfd;\n",
       "  --sklearn-color-fitted-level-3: cornflowerblue;\n",
       "\n",
       "  /* Specific color for light theme */\n",
       "  --sklearn-color-text-on-default-background: var(--sg-text-color, var(--theme-code-foreground, var(--jp-content-font-color1, black)));\n",
       "  --sklearn-color-background: var(--sg-background-color, var(--theme-background, var(--jp-layout-color0, white)));\n",
       "  --sklearn-color-border-box: var(--sg-text-color, var(--theme-code-foreground, var(--jp-content-font-color1, black)));\n",
       "  --sklearn-color-icon: #696969;\n",
       "\n",
       "  @media (prefers-color-scheme: dark) {\n",
       "    /* Redefinition of color scheme for dark theme */\n",
       "    --sklearn-color-text-on-default-background: var(--sg-text-color, var(--theme-code-foreground, var(--jp-content-font-color1, white)));\n",
       "    --sklearn-color-background: var(--sg-background-color, var(--theme-background, var(--jp-layout-color0, #111)));\n",
       "    --sklearn-color-border-box: var(--sg-text-color, var(--theme-code-foreground, var(--jp-content-font-color1, white)));\n",
       "    --sklearn-color-icon: #878787;\n",
       "  }\n",
       "}\n",
       "\n",
       "#sk-container-id-1 {\n",
       "  color: var(--sklearn-color-text);\n",
       "}\n",
       "\n",
       "#sk-container-id-1 pre {\n",
       "  padding: 0;\n",
       "}\n",
       "\n",
       "#sk-container-id-1 input.sk-hidden--visually {\n",
       "  border: 0;\n",
       "  clip: rect(1px 1px 1px 1px);\n",
       "  clip: rect(1px, 1px, 1px, 1px);\n",
       "  height: 1px;\n",
       "  margin: -1px;\n",
       "  overflow: hidden;\n",
       "  padding: 0;\n",
       "  position: absolute;\n",
       "  width: 1px;\n",
       "}\n",
       "\n",
       "#sk-container-id-1 div.sk-dashed-wrapped {\n",
       "  border: 1px dashed var(--sklearn-color-line);\n",
       "  margin: 0 0.4em 0.5em 0.4em;\n",
       "  box-sizing: border-box;\n",
       "  padding-bottom: 0.4em;\n",
       "  background-color: var(--sklearn-color-background);\n",
       "}\n",
       "\n",
       "#sk-container-id-1 div.sk-container {\n",
       "  /* jupyter's `normalize.less` sets `[hidden] { display: none; }`\n",
       "     but bootstrap.min.css set `[hidden] { display: none !important; }`\n",
       "     so we also need the `!important` here to be able to override the\n",
       "     default hidden behavior on the sphinx rendered scikit-learn.org.\n",
       "     See: https://github.com/scikit-learn/scikit-learn/issues/21755 */\n",
       "  display: inline-block !important;\n",
       "  position: relative;\n",
       "}\n",
       "\n",
       "#sk-container-id-1 div.sk-text-repr-fallback {\n",
       "  display: none;\n",
       "}\n",
       "\n",
       "div.sk-parallel-item,\n",
       "div.sk-serial,\n",
       "div.sk-item {\n",
       "  /* draw centered vertical line to link estimators */\n",
       "  background-image: linear-gradient(var(--sklearn-color-text-on-default-background), var(--sklearn-color-text-on-default-background));\n",
       "  background-size: 2px 100%;\n",
       "  background-repeat: no-repeat;\n",
       "  background-position: center center;\n",
       "}\n",
       "\n",
       "/* Parallel-specific style estimator block */\n",
       "\n",
       "#sk-container-id-1 div.sk-parallel-item::after {\n",
       "  content: \"\";\n",
       "  width: 100%;\n",
       "  border-bottom: 2px solid var(--sklearn-color-text-on-default-background);\n",
       "  flex-grow: 1;\n",
       "}\n",
       "\n",
       "#sk-container-id-1 div.sk-parallel {\n",
       "  display: flex;\n",
       "  align-items: stretch;\n",
       "  justify-content: center;\n",
       "  background-color: var(--sklearn-color-background);\n",
       "  position: relative;\n",
       "}\n",
       "\n",
       "#sk-container-id-1 div.sk-parallel-item {\n",
       "  display: flex;\n",
       "  flex-direction: column;\n",
       "}\n",
       "\n",
       "#sk-container-id-1 div.sk-parallel-item:first-child::after {\n",
       "  align-self: flex-end;\n",
       "  width: 50%;\n",
       "}\n",
       "\n",
       "#sk-container-id-1 div.sk-parallel-item:last-child::after {\n",
       "  align-self: flex-start;\n",
       "  width: 50%;\n",
       "}\n",
       "\n",
       "#sk-container-id-1 div.sk-parallel-item:only-child::after {\n",
       "  width: 0;\n",
       "}\n",
       "\n",
       "/* Serial-specific style estimator block */\n",
       "\n",
       "#sk-container-id-1 div.sk-serial {\n",
       "  display: flex;\n",
       "  flex-direction: column;\n",
       "  align-items: center;\n",
       "  background-color: var(--sklearn-color-background);\n",
       "  padding-right: 1em;\n",
       "  padding-left: 1em;\n",
       "}\n",
       "\n",
       "\n",
       "/* Toggleable style: style used for estimator/Pipeline/ColumnTransformer box that is\n",
       "clickable and can be expanded/collapsed.\n",
       "- Pipeline and ColumnTransformer use this feature and define the default style\n",
       "- Estimators will overwrite some part of the style using the `sk-estimator` class\n",
       "*/\n",
       "\n",
       "/* Pipeline and ColumnTransformer style (default) */\n",
       "\n",
       "#sk-container-id-1 div.sk-toggleable {\n",
       "  /* Default theme specific background. It is overwritten whether we have a\n",
       "  specific estimator or a Pipeline/ColumnTransformer */\n",
       "  background-color: var(--sklearn-color-background);\n",
       "}\n",
       "\n",
       "/* Toggleable label */\n",
       "#sk-container-id-1 label.sk-toggleable__label {\n",
       "  cursor: pointer;\n",
       "  display: block;\n",
       "  width: 100%;\n",
       "  margin-bottom: 0;\n",
       "  padding: 0.5em;\n",
       "  box-sizing: border-box;\n",
       "  text-align: center;\n",
       "}\n",
       "\n",
       "#sk-container-id-1 label.sk-toggleable__label-arrow:before {\n",
       "  /* Arrow on the left of the label */\n",
       "  content: \"▸\";\n",
       "  float: left;\n",
       "  margin-right: 0.25em;\n",
       "  color: var(--sklearn-color-icon);\n",
       "}\n",
       "\n",
       "#sk-container-id-1 label.sk-toggleable__label-arrow:hover:before {\n",
       "  color: var(--sklearn-color-text);\n",
       "}\n",
       "\n",
       "/* Toggleable content - dropdown */\n",
       "\n",
       "#sk-container-id-1 div.sk-toggleable__content {\n",
       "  max-height: 0;\n",
       "  max-width: 0;\n",
       "  overflow: hidden;\n",
       "  text-align: left;\n",
       "  /* unfitted */\n",
       "  background-color: var(--sklearn-color-unfitted-level-0);\n",
       "}\n",
       "\n",
       "#sk-container-id-1 div.sk-toggleable__content.fitted {\n",
       "  /* fitted */\n",
       "  background-color: var(--sklearn-color-fitted-level-0);\n",
       "}\n",
       "\n",
       "#sk-container-id-1 div.sk-toggleable__content pre {\n",
       "  margin: 0.2em;\n",
       "  border-radius: 0.25em;\n",
       "  color: var(--sklearn-color-text);\n",
       "  /* unfitted */\n",
       "  background-color: var(--sklearn-color-unfitted-level-0);\n",
       "}\n",
       "\n",
       "#sk-container-id-1 div.sk-toggleable__content.fitted pre {\n",
       "  /* unfitted */\n",
       "  background-color: var(--sklearn-color-fitted-level-0);\n",
       "}\n",
       "\n",
       "#sk-container-id-1 input.sk-toggleable__control:checked~div.sk-toggleable__content {\n",
       "  /* Expand drop-down */\n",
       "  max-height: 200px;\n",
       "  max-width: 100%;\n",
       "  overflow: auto;\n",
       "}\n",
       "\n",
       "#sk-container-id-1 input.sk-toggleable__control:checked~label.sk-toggleable__label-arrow:before {\n",
       "  content: \"▾\";\n",
       "}\n",
       "\n",
       "/* Pipeline/ColumnTransformer-specific style */\n",
       "\n",
       "#sk-container-id-1 div.sk-label input.sk-toggleable__control:checked~label.sk-toggleable__label {\n",
       "  color: var(--sklearn-color-text);\n",
       "  background-color: var(--sklearn-color-unfitted-level-2);\n",
       "}\n",
       "\n",
       "#sk-container-id-1 div.sk-label.fitted input.sk-toggleable__control:checked~label.sk-toggleable__label {\n",
       "  background-color: var(--sklearn-color-fitted-level-2);\n",
       "}\n",
       "\n",
       "/* Estimator-specific style */\n",
       "\n",
       "/* Colorize estimator box */\n",
       "#sk-container-id-1 div.sk-estimator input.sk-toggleable__control:checked~label.sk-toggleable__label {\n",
       "  /* unfitted */\n",
       "  background-color: var(--sklearn-color-unfitted-level-2);\n",
       "}\n",
       "\n",
       "#sk-container-id-1 div.sk-estimator.fitted input.sk-toggleable__control:checked~label.sk-toggleable__label {\n",
       "  /* fitted */\n",
       "  background-color: var(--sklearn-color-fitted-level-2);\n",
       "}\n",
       "\n",
       "#sk-container-id-1 div.sk-label label.sk-toggleable__label,\n",
       "#sk-container-id-1 div.sk-label label {\n",
       "  /* The background is the default theme color */\n",
       "  color: var(--sklearn-color-text-on-default-background);\n",
       "}\n",
       "\n",
       "/* On hover, darken the color of the background */\n",
       "#sk-container-id-1 div.sk-label:hover label.sk-toggleable__label {\n",
       "  color: var(--sklearn-color-text);\n",
       "  background-color: var(--sklearn-color-unfitted-level-2);\n",
       "}\n",
       "\n",
       "/* Label box, darken color on hover, fitted */\n",
       "#sk-container-id-1 div.sk-label.fitted:hover label.sk-toggleable__label.fitted {\n",
       "  color: var(--sklearn-color-text);\n",
       "  background-color: var(--sklearn-color-fitted-level-2);\n",
       "}\n",
       "\n",
       "/* Estimator label */\n",
       "\n",
       "#sk-container-id-1 div.sk-label label {\n",
       "  font-family: monospace;\n",
       "  font-weight: bold;\n",
       "  display: inline-block;\n",
       "  line-height: 1.2em;\n",
       "}\n",
       "\n",
       "#sk-container-id-1 div.sk-label-container {\n",
       "  text-align: center;\n",
       "}\n",
       "\n",
       "/* Estimator-specific */\n",
       "#sk-container-id-1 div.sk-estimator {\n",
       "  font-family: monospace;\n",
       "  border: 1px dotted var(--sklearn-color-border-box);\n",
       "  border-radius: 0.25em;\n",
       "  box-sizing: border-box;\n",
       "  margin-bottom: 0.5em;\n",
       "  /* unfitted */\n",
       "  background-color: var(--sklearn-color-unfitted-level-0);\n",
       "}\n",
       "\n",
       "#sk-container-id-1 div.sk-estimator.fitted {\n",
       "  /* fitted */\n",
       "  background-color: var(--sklearn-color-fitted-level-0);\n",
       "}\n",
       "\n",
       "/* on hover */\n",
       "#sk-container-id-1 div.sk-estimator:hover {\n",
       "  /* unfitted */\n",
       "  background-color: var(--sklearn-color-unfitted-level-2);\n",
       "}\n",
       "\n",
       "#sk-container-id-1 div.sk-estimator.fitted:hover {\n",
       "  /* fitted */\n",
       "  background-color: var(--sklearn-color-fitted-level-2);\n",
       "}\n",
       "\n",
       "/* Specification for estimator info (e.g. \"i\" and \"?\") */\n",
       "\n",
       "/* Common style for \"i\" and \"?\" */\n",
       "\n",
       ".sk-estimator-doc-link,\n",
       "a:link.sk-estimator-doc-link,\n",
       "a:visited.sk-estimator-doc-link {\n",
       "  float: right;\n",
       "  font-size: smaller;\n",
       "  line-height: 1em;\n",
       "  font-family: monospace;\n",
       "  background-color: var(--sklearn-color-background);\n",
       "  border-radius: 1em;\n",
       "  height: 1em;\n",
       "  width: 1em;\n",
       "  text-decoration: none !important;\n",
       "  margin-left: 1ex;\n",
       "  /* unfitted */\n",
       "  border: var(--sklearn-color-unfitted-level-1) 1pt solid;\n",
       "  color: var(--sklearn-color-unfitted-level-1);\n",
       "}\n",
       "\n",
       ".sk-estimator-doc-link.fitted,\n",
       "a:link.sk-estimator-doc-link.fitted,\n",
       "a:visited.sk-estimator-doc-link.fitted {\n",
       "  /* fitted */\n",
       "  border: var(--sklearn-color-fitted-level-1) 1pt solid;\n",
       "  color: var(--sklearn-color-fitted-level-1);\n",
       "}\n",
       "\n",
       "/* On hover */\n",
       "div.sk-estimator:hover .sk-estimator-doc-link:hover,\n",
       ".sk-estimator-doc-link:hover,\n",
       "div.sk-label-container:hover .sk-estimator-doc-link:hover,\n",
       ".sk-estimator-doc-link:hover {\n",
       "  /* unfitted */\n",
       "  background-color: var(--sklearn-color-unfitted-level-3);\n",
       "  color: var(--sklearn-color-background);\n",
       "  text-decoration: none;\n",
       "}\n",
       "\n",
       "div.sk-estimator.fitted:hover .sk-estimator-doc-link.fitted:hover,\n",
       ".sk-estimator-doc-link.fitted:hover,\n",
       "div.sk-label-container:hover .sk-estimator-doc-link.fitted:hover,\n",
       ".sk-estimator-doc-link.fitted:hover {\n",
       "  /* fitted */\n",
       "  background-color: var(--sklearn-color-fitted-level-3);\n",
       "  color: var(--sklearn-color-background);\n",
       "  text-decoration: none;\n",
       "}\n",
       "\n",
       "/* Span, style for the box shown on hovering the info icon */\n",
       ".sk-estimator-doc-link span {\n",
       "  display: none;\n",
       "  z-index: 9999;\n",
       "  position: relative;\n",
       "  font-weight: normal;\n",
       "  right: .2ex;\n",
       "  padding: .5ex;\n",
       "  margin: .5ex;\n",
       "  width: min-content;\n",
       "  min-width: 20ex;\n",
       "  max-width: 50ex;\n",
       "  color: var(--sklearn-color-text);\n",
       "  box-shadow: 2pt 2pt 4pt #999;\n",
       "  /* unfitted */\n",
       "  background: var(--sklearn-color-unfitted-level-0);\n",
       "  border: .5pt solid var(--sklearn-color-unfitted-level-3);\n",
       "}\n",
       "\n",
       ".sk-estimator-doc-link.fitted span {\n",
       "  /* fitted */\n",
       "  background: var(--sklearn-color-fitted-level-0);\n",
       "  border: var(--sklearn-color-fitted-level-3);\n",
       "}\n",
       "\n",
       ".sk-estimator-doc-link:hover span {\n",
       "  display: block;\n",
       "}\n",
       "\n",
       "/* \"?\"-specific style due to the `<a>` HTML tag */\n",
       "\n",
       "#sk-container-id-1 a.estimator_doc_link {\n",
       "  float: right;\n",
       "  font-size: 1rem;\n",
       "  line-height: 1em;\n",
       "  font-family: monospace;\n",
       "  background-color: var(--sklearn-color-background);\n",
       "  border-radius: 1rem;\n",
       "  height: 1rem;\n",
       "  width: 1rem;\n",
       "  text-decoration: none;\n",
       "  /* unfitted */\n",
       "  color: var(--sklearn-color-unfitted-level-1);\n",
       "  border: var(--sklearn-color-unfitted-level-1) 1pt solid;\n",
       "}\n",
       "\n",
       "#sk-container-id-1 a.estimator_doc_link.fitted {\n",
       "  /* fitted */\n",
       "  border: var(--sklearn-color-fitted-level-1) 1pt solid;\n",
       "  color: var(--sklearn-color-fitted-level-1);\n",
       "}\n",
       "\n",
       "/* On hover */\n",
       "#sk-container-id-1 a.estimator_doc_link:hover {\n",
       "  /* unfitted */\n",
       "  background-color: var(--sklearn-color-unfitted-level-3);\n",
       "  color: var(--sklearn-color-background);\n",
       "  text-decoration: none;\n",
       "}\n",
       "\n",
       "#sk-container-id-1 a.estimator_doc_link.fitted:hover {\n",
       "  /* fitted */\n",
       "  background-color: var(--sklearn-color-fitted-level-3);\n",
       "}\n",
       "</style><div id=\"sk-container-id-1\" class=\"sk-top-container\"><div class=\"sk-text-repr-fallback\"><pre>XGBClassifier(base_score=None, booster=None, callbacks=None,\n",
       "              colsample_bylevel=None, colsample_bynode=0.2993118354639655,\n",
       "              colsample_bytree=None, device=None, early_stopping_rounds=None,\n",
       "              enable_categorical=False,\n",
       "              eval_metric=&lt;function custom_f1_score at 0x7fca64ca8720&gt;,\n",
       "              feature_types=None, gamma=None, grow_policy=None,\n",
       "              importance_type=None, interaction_constraints=None,\n",
       "              learning_rate=0.48964439032767854, max_bin=None,\n",
       "              max_cat_threshold=None, max_cat_to_onehot=None,\n",
       "              max_delta_step=None, max_depth=20, max_leaves=None,\n",
       "              min_child_weight=116, missing=nan, monotone_constraints=None,\n",
       "              multi_strategy=None, n_estimators=111, n_jobs=None,\n",
       "              num_parallel_tree=None, objective=&#x27;multi:softprob&#x27;, ...)</pre><b>In a Jupyter environment, please rerun this cell to show the HTML representation or trust the notebook. <br />On GitHub, the HTML representation is unable to render, please try loading this page with nbviewer.org.</b></div><div class=\"sk-container\" hidden><div class=\"sk-item\"><div class=\"sk-estimator fitted sk-toggleable\"><input class=\"sk-toggleable__control sk-hidden--visually\" id=\"sk-estimator-id-1\" type=\"checkbox\" checked><label for=\"sk-estimator-id-1\" class=\"sk-toggleable__label fitted sk-toggleable__label-arrow fitted\">&nbsp;XGBClassifier<span class=\"sk-estimator-doc-link fitted\">i<span>Fitted</span></span></label><div class=\"sk-toggleable__content fitted\"><pre>XGBClassifier(base_score=None, booster=None, callbacks=None,\n",
       "              colsample_bylevel=None, colsample_bynode=0.2993118354639655,\n",
       "              colsample_bytree=None, device=None, early_stopping_rounds=None,\n",
       "              enable_categorical=False,\n",
       "              eval_metric=&lt;function custom_f1_score at 0x7fca64ca8720&gt;,\n",
       "              feature_types=None, gamma=None, grow_policy=None,\n",
       "              importance_type=None, interaction_constraints=None,\n",
       "              learning_rate=0.48964439032767854, max_bin=None,\n",
       "              max_cat_threshold=None, max_cat_to_onehot=None,\n",
       "              max_delta_step=None, max_depth=20, max_leaves=None,\n",
       "              min_child_weight=116, missing=nan, monotone_constraints=None,\n",
       "              multi_strategy=None, n_estimators=111, n_jobs=None,\n",
       "              num_parallel_tree=None, objective=&#x27;multi:softprob&#x27;, ...)</pre></div> </div></div></div></div>"
      ],
      "text/plain": [
       "XGBClassifier(base_score=None, booster=None, callbacks=None,\n",
       "              colsample_bylevel=None, colsample_bynode=0.2993118354639655,\n",
       "              colsample_bytree=None, device=None, early_stopping_rounds=None,\n",
       "              enable_categorical=False,\n",
       "              eval_metric=<function custom_f1_score at 0x7fca64ca8720>,\n",
       "              feature_types=None, gamma=None, grow_policy=None,\n",
       "              importance_type=None, interaction_constraints=None,\n",
       "              learning_rate=0.48964439032767854, max_bin=None,\n",
       "              max_cat_threshold=None, max_cat_to_onehot=None,\n",
       "              max_delta_step=None, max_depth=20, max_leaves=None,\n",
       "              min_child_weight=116, missing=nan, monotone_constraints=None,\n",
       "              multi_strategy=None, n_estimators=111, n_jobs=None,\n",
       "              num_parallel_tree=None, objective='multi:softprob', ...)"
      ]
     },
     "execution_count": 21,
     "metadata": {},
     "output_type": "execute_result"
    }
   ],
   "source": [
    "n_estimators = int(study.best_trial.user_attrs['best_iteration']*1.2)\n",
    "xgb = xgboost.XGBClassifier(\n",
    "        eval_metric=eval_metric,\n",
    "        n_estimators=n_estimators,\n",
    "        **study.best_trial.params\n",
    "    )\n",
    "xgb.fit(\n",
    "    ssp.vstack((X_train, X_val)), \n",
    "    np.concatenate((y_train_enc, y_val_enc)),\n",
    "    verbose=1,\n",
    ")"
   ]
  },
  {
   "cell_type": "code",
   "execution_count": 22,
   "id": "247bed1e",
   "metadata": {
    "execution": {
     "iopub.execute_input": "2025-05-14T16:34:43.464842Z",
     "iopub.status.busy": "2025-05-14T16:34:43.464341Z",
     "iopub.status.idle": "2025-05-14T16:34:43.537885Z",
     "shell.execute_reply": "2025-05-14T16:34:43.537489Z"
    },
    "papermill": {
     "duration": 0.084406,
     "end_time": "2025-05-14T16:34:43.538778",
     "exception": false,
     "start_time": "2025-05-14T16:34:43.454372",
     "status": "completed"
    },
    "tags": []
   },
   "outputs": [
    {
     "data": {
      "text/plain": [
       "['/scratch_isilon/groups/singlecell/shared/projects/Inflammation-PBMCs-Atlas/03_downstream_analysis/08_gene_importance/xgboost_external_validation/xgboost_TopN_genes/results_20/best_model/Mono_shap_studyID_NOdisease_0_xgb.json']"
      ]
     },
     "execution_count": 22,
     "metadata": {},
     "output_type": "execute_result"
    }
   ],
   "source": [
    "out_dir = here(f'03_downstream_analysis/08_gene_importance/xgboost_external_validation/xgboost_TopN_genes/results_{N_GENES}/best_model')\n",
    "\n",
    "if not os.path.exists(out_dir):\n",
    "    os.makedirs(out_dir)\n",
    "    \n",
    "joblib.dump(xgb, os.path.join(out_dir, f'{CELL_TYPE}_{SEED}_{TEST_SPLIT_IDX}_xgb.json'))"
   ]
  },
  {
   "cell_type": "code",
   "execution_count": 23,
   "id": "14369f81",
   "metadata": {
    "execution": {
     "iopub.execute_input": "2025-05-14T16:34:43.606200Z",
     "iopub.status.busy": "2025-05-14T16:34:43.605798Z",
     "iopub.status.idle": "2025-05-14T16:34:44.193798Z",
     "shell.execute_reply": "2025-05-14T16:34:44.193277Z"
    },
    "papermill": {
     "duration": 0.629422,
     "end_time": "2025-05-14T16:34:44.194828",
     "exception": false,
     "start_time": "2025-05-14T16:34:43.565406",
     "status": "completed"
    },
    "tags": []
   },
   "outputs": [],
   "source": [
    "df_pred_test = pd.DataFrame(dict(\n",
    "    cell_id=train_adata.obs.iloc[test_idxs].index.values,\n",
    "    y_true=y_test, \n",
    "    y_true_code=y_test_enc, \n",
    "    y_pred=xgb.predict(X_test))).set_index('cell_id')"
   ]
  },
  {
   "cell_type": "code",
   "execution_count": 24,
   "id": "5db11036",
   "metadata": {
    "execution": {
     "iopub.execute_input": "2025-05-14T16:34:44.214201Z",
     "iopub.status.busy": "2025-05-14T16:34:44.213975Z",
     "iopub.status.idle": "2025-05-14T16:34:44.428723Z",
     "shell.execute_reply": "2025-05-14T16:34:44.428250Z"
    },
    "papermill": {
     "duration": 0.225672,
     "end_time": "2025-05-14T16:34:44.430148",
     "exception": false,
     "start_time": "2025-05-14T16:34:44.204476",
     "status": "completed"
    },
    "tags": []
   },
   "outputs": [],
   "source": [
    "out_dir = here(f'03_downstream_analysis/08_gene_importance/xgboost_external_validation/xgboost_TopN_genes/results_{N_GENES}/predictions')\n",
    "\n",
    "if not os.path.exists(out_dir):\n",
    "    os.makedirs(out_dir)\n",
    "    \n",
    "df_pred_test.to_csv(os.path.join(out_dir, f'{CELL_TYPE}_{SEED}_{TEST_SPLIT_IDX}_pred_test.zip'))"
   ]
  },
  {
   "cell_type": "code",
   "execution_count": 25,
   "id": "e9a2461d",
   "metadata": {
    "execution": {
     "iopub.execute_input": "2025-05-14T16:34:44.449820Z",
     "iopub.status.busy": "2025-05-14T16:34:44.449515Z",
     "iopub.status.idle": "2025-05-14T16:34:44.468833Z",
     "shell.execute_reply": "2025-05-14T16:34:44.468321Z"
    },
    "papermill": {
     "duration": 0.030512,
     "end_time": "2025-05-14T16:34:44.469728",
     "exception": false,
     "start_time": "2025-05-14T16:34:44.439216",
     "status": "completed"
    },
    "tags": []
   },
   "outputs": [],
   "source": [
    "metrics_dict = dict(\n",
    "    BAS=balanced_accuracy_score(y_true=df_pred_test.y_true_code, y_pred=df_pred_test.y_pred), WF1=f1_score(y_true=df_pred_test.y_true_code, y_pred=df_pred_test.y_pred,average='weighted'))"
   ]
  },
  {
   "cell_type": "code",
   "execution_count": 26,
   "id": "5284825b",
   "metadata": {
    "execution": {
     "iopub.execute_input": "2025-05-14T16:34:44.488740Z",
     "iopub.status.busy": "2025-05-14T16:34:44.488462Z",
     "iopub.status.idle": "2025-05-14T16:34:44.491985Z",
     "shell.execute_reply": "2025-05-14T16:34:44.491620Z"
    },
    "papermill": {
     "duration": 0.01375,
     "end_time": "2025-05-14T16:34:44.492843",
     "exception": false,
     "start_time": "2025-05-14T16:34:44.479093",
     "status": "completed"
    },
    "tags": []
   },
   "outputs": [
    {
     "data": {
      "text/plain": [
       "{'BAS': 0.6266196404910401, 'WF1': 0.836079441759503}"
      ]
     },
     "execution_count": 26,
     "metadata": {},
     "output_type": "execute_result"
    }
   ],
   "source": [
    "metrics_dict"
   ]
  },
  {
   "cell_type": "code",
   "execution_count": 27,
   "id": "0ae0fe0a",
   "metadata": {
    "execution": {
     "iopub.execute_input": "2025-05-14T16:34:44.512114Z",
     "iopub.status.busy": "2025-05-14T16:34:44.511810Z",
     "iopub.status.idle": "2025-05-14T16:34:44.536264Z",
     "shell.execute_reply": "2025-05-14T16:34:44.535871Z"
    },
    "papermill": {
     "duration": 0.034902,
     "end_time": "2025-05-14T16:34:44.537121",
     "exception": false,
     "start_time": "2025-05-14T16:34:44.502219",
     "status": "completed"
    },
    "tags": []
   },
   "outputs": [
    {
     "data": {
      "text/html": [
       "<div>\n",
       "<style scoped>\n",
       "    .dataframe tbody tr th:only-of-type {\n",
       "        vertical-align: middle;\n",
       "    }\n",
       "\n",
       "    .dataframe tbody tr th {\n",
       "        vertical-align: top;\n",
       "    }\n",
       "\n",
       "    .dataframe thead th {\n",
       "        text-align: right;\n",
       "    }\n",
       "</style>\n",
       "<table border=\"1\" class=\"dataframe\">\n",
       "  <thead>\n",
       "    <tr style=\"text-align: right;\">\n",
       "      <th></th>\n",
       "      <th>BAS</th>\n",
       "      <th>WF1</th>\n",
       "      <th>split_idx</th>\n",
       "      <th>gene_set_seed</th>\n",
       "      <th>cell_type</th>\n",
       "    </tr>\n",
       "  </thead>\n",
       "  <tbody>\n",
       "    <tr>\n",
       "      <th>0</th>\n",
       "      <td>0.62662</td>\n",
       "      <td>0.836079</td>\n",
       "      <td>0</td>\n",
       "      <td>shap_studyID_NOdisease</td>\n",
       "      <td>Mono</td>\n",
       "    </tr>\n",
       "  </tbody>\n",
       "</table>\n",
       "</div>"
      ],
      "text/plain": [
       "       BAS       WF1  split_idx           gene_set_seed cell_type\n",
       "0  0.62662  0.836079          0  shap_studyID_NOdisease      Mono"
      ]
     },
     "execution_count": 27,
     "metadata": {},
     "output_type": "execute_result"
    }
   ],
   "source": [
    "metrics_df = pd.DataFrame.from_dict([metrics_dict]).assign(split_idx=TEST_SPLIT_IDX, gene_set_seed=SEED, cell_type=CELL_TYPE)\n",
    "metrics_df"
   ]
  },
  {
   "cell_type": "code",
   "execution_count": 28,
   "id": "0f12ffc0",
   "metadata": {
    "execution": {
     "iopub.execute_input": "2025-05-14T16:34:44.568750Z",
     "iopub.status.busy": "2025-05-14T16:34:44.568544Z",
     "iopub.status.idle": "2025-05-14T16:34:44.579299Z",
     "shell.execute_reply": "2025-05-14T16:34:44.578919Z"
    },
    "papermill": {
     "duration": 0.033503,
     "end_time": "2025-05-14T16:34:44.580179",
     "exception": false,
     "start_time": "2025-05-14T16:34:44.546676",
     "status": "completed"
    },
    "tags": []
   },
   "outputs": [],
   "source": [
    "out_dir = here(f'03_downstream_analysis/08_gene_importance/xgboost_external_validation/xgboost_TopN_genes/results_{N_GENES}/metrics')\n",
    "\n",
    "if not os.path.exists(out_dir):\n",
    "    os.makedirs(out_dir)\n",
    "    \n",
    "metrics_df.to_csv(os.path.join(out_dir, f'{CELL_TYPE}_{SEED}_{TEST_SPLIT_IDX}_metrics.zip'))"
   ]
  }
 ],
 "metadata": {
  "kernelspec": {
   "display_name": "Python 3 (ipykernel)",
   "language": "python",
   "name": "python3"
  },
  "language_info": {
   "codemirror_mode": {
    "name": "ipython",
    "version": 3
   },
   "file_extension": ".py",
   "mimetype": "text/x-python",
   "name": "python",
   "nbconvert_exporter": "python",
   "pygments_lexer": "ipython3",
   "version": "3.12.5"
  },
  "papermill": {
   "default_parameters": {},
   "duration": 1643.92699,
   "end_time": "2025-05-14T16:34:45.305615",
   "environment_variables": {},
   "exception": null,
   "input_path": "02_xgboost_fitting_external_20genes.ipynb",
   "output_path": "results_20/executed_notebooks/xgboost_fitting_external_CT_Mono_GS_shap_studyID_NOdisease_seed0.ipynb",
   "parameters": {
    "CELL_TYPE": "Mono",
    "SEED": "shap_studyID_NOdisease",
    "TEST_SPLIT_IDX": 0
   },
   "start_time": "2025-05-14T16:07:21.378625",
   "version": "2.6.0"
  }
 },
 "nbformat": 4,
 "nbformat_minor": 5
}