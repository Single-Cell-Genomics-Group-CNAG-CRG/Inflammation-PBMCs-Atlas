{
 "cells": [
  {
   "cell_type": "code",
   "execution_count": 1,
   "id": "9b7c30ec",
   "metadata": {
    "editable": true,
    "execution": {
     "iopub.execute_input": "2025-05-15T16:01:47.179381Z",
     "iopub.status.busy": "2025-05-15T16:01:47.179235Z",
     "iopub.status.idle": "2025-05-15T16:01:47.182009Z",
     "shell.execute_reply": "2025-05-15T16:01:47.181682Z"
    },
    "papermill": {
     "duration": 0.010643,
     "end_time": "2025-05-15T16:01:47.182984",
     "exception": false,
     "start_time": "2025-05-15T16:01:47.172341",
     "status": "completed"
    },
    "slideshow": {
     "slide_type": ""
    },
    "tags": [
     "parameters"
    ]
   },
   "outputs": [],
   "source": [
    "CELL_TYPE = 'pDC'\n",
    "N_GENES: int = 20\n",
    "SEED = 'shap_studyID' #'disease_NOstudy' 'study_NOdisease' or 'int' or 'shap_studyID'\n",
    "TEST_SPLIT_IDX: int = 1 #[0,4]"
   ]
  },
  {
   "cell_type": "code",
   "execution_count": 2,
   "id": "e0fdfe50",
   "metadata": {
    "execution": {
     "iopub.execute_input": "2025-05-15T16:01:47.193786Z",
     "iopub.status.busy": "2025-05-15T16:01:47.193651Z",
     "iopub.status.idle": "2025-05-15T16:01:47.196377Z",
     "shell.execute_reply": "2025-05-15T16:01:47.196065Z"
    },
    "papermill": {
     "duration": 0.009077,
     "end_time": "2025-05-15T16:01:47.197266",
     "exception": false,
     "start_time": "2025-05-15T16:01:47.188189",
     "status": "completed"
    },
    "tags": [
     "injected-parameters"
    ]
   },
   "outputs": [],
   "source": [
    "# Parameters\n",
    "CELL_TYPE = \"T_CD4_Naive\"\n",
    "SEED = 17\n",
    "TEST_SPLIT_IDX = 0\n"
   ]
  },
  {
   "cell_type": "code",
   "execution_count": 3,
   "id": "f7cd777f",
   "metadata": {
    "execution": {
     "iopub.execute_input": "2025-05-15T16:01:47.208562Z",
     "iopub.status.busy": "2025-05-15T16:01:47.208417Z",
     "iopub.status.idle": "2025-05-15T16:01:47.210552Z",
     "shell.execute_reply": "2025-05-15T16:01:47.210242Z"
    },
    "papermill": {
     "duration": 0.0084,
     "end_time": "2025-05-15T16:01:47.211364",
     "exception": false,
     "start_time": "2025-05-15T16:01:47.202964",
     "status": "completed"
    },
    "tags": []
   },
   "outputs": [],
   "source": [
    "N_SPLITS: int = 5\n",
    "N_TRIALS: int = 50"
   ]
  },
  {
   "cell_type": "code",
   "execution_count": 4,
   "id": "e1e5fd7c",
   "metadata": {
    "execution": {
     "iopub.execute_input": "2025-05-15T16:01:47.223520Z",
     "iopub.status.busy": "2025-05-15T16:01:47.223132Z",
     "iopub.status.idle": "2025-05-15T16:01:52.909031Z",
     "shell.execute_reply": "2025-05-15T16:01:52.908212Z"
    },
    "papermill": {
     "duration": 5.694298,
     "end_time": "2025-05-15T16:01:52.910651",
     "exception": false,
     "start_time": "2025-05-15T16:01:47.216353",
     "status": "completed"
    },
    "tags": []
   },
   "outputs": [],
   "source": [
    "import os\n",
    "import sys\n",
    "from pyprojroot.here import here\n",
    "import pandas as pd\n",
    "import anndata as ad\n",
    "import numpy as np\n",
    "import math\n",
    "from sklearn.model_selection import StratifiedGroupKFold\n",
    "from sklearn.preprocessing import LabelEncoder\n",
    "from sklearn.metrics import f1_score\n",
    "import matplotlib.pyplot as plt\n",
    "import seaborn as sns\n",
    "from itertools import product\n",
    "from sklearn.metrics import balanced_accuracy_score, f1_score\n",
    "import optuna\n",
    "\n",
    "import joblib\n",
    "import pickle\n",
    "import datetime\n",
    "\n",
    "import collections\n",
    "\n",
    "import xgboost\n",
    "from sklearn.preprocessing import LabelEncoder\n",
    "\n",
    "import scipy.sparse as ssp\n",
    "import joblib\n",
    "\n",
    "from dotenv import load_dotenv"
   ]
  },
  {
   "cell_type": "code",
   "execution_count": 5,
   "id": "f0a2dd9a",
   "metadata": {
    "execution": {
     "iopub.execute_input": "2025-05-15T16:01:52.925719Z",
     "iopub.status.busy": "2025-05-15T16:01:52.924953Z",
     "iopub.status.idle": "2025-05-15T16:01:52.933086Z",
     "shell.execute_reply": "2025-05-15T16:01:52.932760Z"
    },
    "papermill": {
     "duration": 0.015338,
     "end_time": "2025-05-15T16:01:52.933957",
     "exception": false,
     "start_time": "2025-05-15T16:01:52.918619",
     "status": "completed"
    },
    "tags": []
   },
   "outputs": [
    {
     "data": {
      "text/plain": [
       "True"
      ]
     },
     "execution_count": 5,
     "metadata": {},
     "output_type": "execute_result"
    }
   ],
   "source": [
    "load_dotenv()"
   ]
  },
  {
   "cell_type": "markdown",
   "id": "1596a724",
   "metadata": {
    "papermill": {
     "duration": 0.007191,
     "end_time": "2025-05-15T16:01:52.952931",
     "exception": false,
     "start_time": "2025-05-15T16:01:52.945740",
     "status": "completed"
    },
    "tags": []
   },
   "source": [
    "# LOAD DATASET"
   ]
  },
  {
   "cell_type": "code",
   "execution_count": 6,
   "id": "e582bb0b",
   "metadata": {
    "execution": {
     "iopub.execute_input": "2025-05-15T16:01:52.964109Z",
     "iopub.status.busy": "2025-05-15T16:01:52.963964Z",
     "iopub.status.idle": "2025-05-15T16:01:53.509390Z",
     "shell.execute_reply": "2025-05-15T16:01:53.508900Z"
    },
    "papermill": {
     "duration": 0.552638,
     "end_time": "2025-05-15T16:01:53.510855",
     "exception": false,
     "start_time": "2025-05-15T16:01:52.958217",
     "status": "completed"
    },
    "tags": []
   },
   "outputs": [],
   "source": [
    "train_adata = ad.read_h5ad(\n",
    "    here(f'03_downstream_analysis/08_gene_importance/xgboost_external_validation/xgboost_TopN_genes/data_cellTypes/EXTERNAL_{CELL_TYPE}.filtered.log1p.h5ad')\n",
    ")"
   ]
  },
  {
   "cell_type": "code",
   "execution_count": 7,
   "id": "4a892e40",
   "metadata": {
    "execution": {
     "iopub.execute_input": "2025-05-15T16:01:53.523436Z",
     "iopub.status.busy": "2025-05-15T16:01:53.523260Z",
     "iopub.status.idle": "2025-05-15T16:01:53.551170Z",
     "shell.execute_reply": "2025-05-15T16:01:53.550800Z"
    },
    "papermill": {
     "duration": 0.034996,
     "end_time": "2025-05-15T16:01:53.552089",
     "exception": false,
     "start_time": "2025-05-15T16:01:53.517093",
     "status": "completed"
    },
    "tags": []
   },
   "outputs": [
    {
     "name": "stdout",
     "output_type": "stream",
     "text": [
      "['ENSG00000177721' 'ENSG00000104894' 'ENSG00000148834' 'ENSG00000090554'\n",
      " 'ENSG00000172543' 'ENSG00000118971' 'ENSG00000145220' 'ENSG00000066294'\n",
      " 'ENSG00000143575' 'ENSG00000103187' 'ENSG00000108774' 'ENSG00000105374'\n",
      " 'ENSG00000196126' 'ENSG00000009790' 'ENSG00000188404' 'ENSG00000116171'\n",
      " 'ENSG00000143543' 'ENSG00000166888' 'ENSG00000002586' 'ENSG00000152219'\n",
      " 'ENSG00000140264' 'ENSG00000204267' 'ENSG00000127184' 'ENSG00000100300'\n",
      " 'ENSG00000223865' 'ENSG00000126214' 'ENSG00000091409' 'ENSG00000128340'\n",
      " 'ENSG00000216490' 'ENSG00000143774' 'ENSG00000076662' 'ENSG00000011600'\n",
      " 'ENSG00000035115' 'ENSG00000100906' 'ENSG00000135821' 'ENSG00000133134'\n",
      " 'ENSG00000135720' 'ENSG00000026025' 'ENSG00000197329' 'ENSG00000170581'\n",
      " 'ENSG00000170296' 'ENSG00000239713' 'ENSG00000111335' 'ENSG00000101096'\n",
      " 'ENSG00000104998' 'ENSG00000117602' 'ENSG00000156587' 'ENSG00000117318'\n",
      " 'ENSG00000113811' 'ENSG00000126561' 'ENSG00000150093' 'ENSG00000119655'\n",
      " 'ENSG00000185950' 'ENSG00000277734' 'ENSG00000101695' 'ENSG00000107485'\n",
      " 'ENSG00000205542' 'ENSG00000132912' 'ENSG00000169564' 'ENSG00000090863'\n",
      " 'ENSG00000172005' 'ENSG00000183020' 'ENSG00000204264' 'ENSG00000136732'\n",
      " 'ENSG00000135441' 'ENSG00000138378' 'ENSG00000151882' 'ENSG00000072958'\n",
      " 'ENSG00000126264' 'ENSG00000026297' 'ENSG00000139193' 'ENSG00000115523'\n",
      " 'ENSG00000115875' 'ENSG00000162704' 'ENSG00000051108' 'ENSG00000163660'\n",
      " 'ENSG00000142634' 'ENSG00000197746' 'ENSG00000134285' 'ENSG00000115073'\n",
      " 'ENSG00000118640' 'ENSG00000204472' 'ENSG00000132510' 'ENSG00000160213'\n",
      " 'ENSG00000111716' 'ENSG00000152700' 'ENSG00000008517' 'ENSG00000071073'\n",
      " 'ENSG00000149357' 'ENSG00000100664' 'ENSG00000179295' 'ENSG00000153283'\n",
      " 'ENSG00000104763' 'ENSG00000145247' 'ENSG00000175203' 'ENSG00000141367'\n",
      " 'ENSG00000152778' 'ENSG00000163931' 'ENSG00000152495' 'ENSG00000118260'\n",
      " 'ENSG00000105221']\n"
     ]
    }
   ],
   "source": [
    "if SEED != 'all':\n",
    "    gene_subset = np.load(here(f'03_downstream_analysis/08_gene_importance/xgboost_external_validation/shap_gene_selection/gene_subsets_{N_GENES}/{CELL_TYPE}_{SEED}.npy'), allow_pickle=True)\n",
    "    train_adata = train_adata[:,gene_subset]\n",
    "    print(gene_subset)\n",
    "elif SEED == 'all':\n",
    "    print('Using all genes')\n",
    "else:\n",
    "    raise ValueError()"
   ]
  },
  {
   "cell_type": "code",
   "execution_count": 8,
   "id": "4c4d9155",
   "metadata": {
    "execution": {
     "iopub.execute_input": "2025-05-15T16:01:53.564398Z",
     "iopub.status.busy": "2025-05-15T16:01:53.564015Z",
     "iopub.status.idle": "2025-05-15T16:01:53.567254Z",
     "shell.execute_reply": "2025-05-15T16:01:53.566954Z"
    },
    "papermill": {
     "duration": 0.010497,
     "end_time": "2025-05-15T16:01:53.568055",
     "exception": false,
     "start_time": "2025-05-15T16:01:53.557558",
     "status": "completed"
    },
    "tags": []
   },
   "outputs": [
    {
     "data": {
      "text/plain": [
       "(85497, 101)"
      ]
     },
     "execution_count": 8,
     "metadata": {},
     "output_type": "execute_result"
    }
   ],
   "source": [
    "train_adata.shape"
   ]
  },
  {
   "cell_type": "code",
   "execution_count": 9,
   "id": "1f719a2c",
   "metadata": {
    "execution": {
     "iopub.execute_input": "2025-05-15T16:01:53.581842Z",
     "iopub.status.busy": "2025-05-15T16:01:53.581693Z",
     "iopub.status.idle": "2025-05-15T16:01:53.585294Z",
     "shell.execute_reply": "2025-05-15T16:01:53.584990Z"
    },
    "papermill": {
     "duration": 0.012811,
     "end_time": "2025-05-15T16:01:53.586112",
     "exception": false,
     "start_time": "2025-05-15T16:01:53.573301",
     "status": "completed"
    },
    "tags": []
   },
   "outputs": [
    {
     "data": {
      "text/plain": [
       "['RA', 'COVID', 'healthy', 'HIV', 'cirrhosis', 'CD', 'SLE', 'sepsis']\n",
       "Categories (8, object): ['CD', 'COVID', 'HIV', 'RA', 'SLE', 'cirrhosis', 'healthy', 'sepsis']"
      ]
     },
     "execution_count": 9,
     "metadata": {},
     "output_type": "execute_result"
    }
   ],
   "source": [
    "train_adata.obs.disease.unique()"
   ]
  },
  {
   "cell_type": "code",
   "execution_count": 10,
   "id": "c869f58d",
   "metadata": {
    "execution": {
     "iopub.execute_input": "2025-05-15T16:01:53.597677Z",
     "iopub.status.busy": "2025-05-15T16:01:53.597528Z",
     "iopub.status.idle": "2025-05-15T16:01:53.601184Z",
     "shell.execute_reply": "2025-05-15T16:01:53.600871Z"
    },
    "papermill": {
     "duration": 0.010444,
     "end_time": "2025-05-15T16:01:53.602005",
     "exception": false,
     "start_time": "2025-05-15T16:01:53.591561",
     "status": "completed"
    },
    "tags": []
   },
   "outputs": [
    {
     "data": {
      "text/plain": [
       "['SCGT00val_I036016_T0', 'SCGT00val_I036019_T0', 'SCGT00val_I036023_T0', 'SCGT00val_I036015_T0', 'SCGT00val_I036028_T0', ..., '10XGenomics_10XHC2_T0', '10XGenomics_10XHC3_T0', '10XGenomics_10XHC5_T0', '10XGenomics_10XHC7_T0', '10XGenomics_10XHC8_T0']\n",
       "Length: 86\n",
       "Categories (86, object): ['10XGenomics_10XHC1_T0', '10XGenomics_10XHC2_T0', '10XGenomics_10XHC3_T0', '10XGenomics_10XHC4_T0', ..., 'Savage2021_BRISL6_T0', 'Savage2021_BRISL7_T0', 'Savage2021_PIDA_T0', 'Savage2021_PIDB_T0']"
      ]
     },
     "execution_count": 10,
     "metadata": {},
     "output_type": "execute_result"
    }
   ],
   "source": [
    "train_adata.obs.sampleID.unique()"
   ]
  },
  {
   "cell_type": "code",
   "execution_count": 11,
   "id": "782de779",
   "metadata": {
    "execution": {
     "iopub.execute_input": "2025-05-15T16:01:53.613881Z",
     "iopub.status.busy": "2025-05-15T16:01:53.613393Z",
     "iopub.status.idle": "2025-05-15T16:01:53.821400Z",
     "shell.execute_reply": "2025-05-15T16:01:53.820998Z"
    },
    "papermill": {
     "duration": 0.215239,
     "end_time": "2025-05-15T16:01:53.822619",
     "exception": false,
     "start_time": "2025-05-15T16:01:53.607380",
     "status": "completed"
    },
    "tags": []
   },
   "outputs": [],
   "source": [
    "all_idxs = np.arange(train_adata.obs.shape[0])\n",
    "left_out_splits = [s[1] for s in StratifiedGroupKFold(n_splits=N_SPLITS).split(all_idxs, train_adata.obs.disease, train_adata.obs.sampleID)]"
   ]
  },
  {
   "cell_type": "code",
   "execution_count": 12,
   "id": "187a4b63",
   "metadata": {
    "execution": {
     "iopub.execute_input": "2025-05-15T16:01:53.834910Z",
     "iopub.status.busy": "2025-05-15T16:01:53.834736Z",
     "iopub.status.idle": "2025-05-15T16:01:53.838237Z",
     "shell.execute_reply": "2025-05-15T16:01:53.837931Z"
    },
    "papermill": {
     "duration": 0.010332,
     "end_time": "2025-05-15T16:01:53.839031",
     "exception": false,
     "start_time": "2025-05-15T16:01:53.828699",
     "status": "completed"
    },
    "tags": []
   },
   "outputs": [
    {
     "data": {
      "text/plain": [
       "([2, 3, 4], 1, 0)"
      ]
     },
     "execution_count": 12,
     "metadata": {},
     "output_type": "execute_result"
    }
   ],
   "source": [
    "TRAIN_SPLIT_IDXS = [0,1,2,3,4]\n",
    "VAL_SPLIT_IDX = (TEST_SPLIT_IDX + 1) % 5\n",
    "TRAIN_SPLIT_IDXS.remove(TEST_SPLIT_IDX)\n",
    "TRAIN_SPLIT_IDXS.remove(VAL_SPLIT_IDX)\n",
    "TRAIN_SPLIT_IDXS, VAL_SPLIT_IDX, TEST_SPLIT_IDX"
   ]
  },
  {
   "cell_type": "code",
   "execution_count": 13,
   "id": "fe05f86f",
   "metadata": {
    "execution": {
     "iopub.execute_input": "2025-05-15T16:01:53.850600Z",
     "iopub.status.busy": "2025-05-15T16:01:53.850246Z",
     "iopub.status.idle": "2025-05-15T16:01:53.852683Z",
     "shell.execute_reply": "2025-05-15T16:01:53.852381Z"
    },
    "papermill": {
     "duration": 0.00919,
     "end_time": "2025-05-15T16:01:53.853420",
     "exception": false,
     "start_time": "2025-05-15T16:01:53.844230",
     "status": "completed"
    },
    "tags": []
   },
   "outputs": [],
   "source": [
    "train_idxs = np.concatenate([left_out_splits[idx] for idx in TRAIN_SPLIT_IDXS])\n",
    "val_idxs = left_out_splits[VAL_SPLIT_IDX]\n",
    "test_idxs = left_out_splits[TEST_SPLIT_IDX]"
   ]
  },
  {
   "cell_type": "markdown",
   "id": "460e95f8",
   "metadata": {
    "papermill": {
     "duration": 0.00547,
     "end_time": "2025-05-15T16:01:53.864360",
     "exception": false,
     "start_time": "2025-05-15T16:01:53.858890",
     "status": "completed"
    },
    "tags": []
   },
   "source": [
    "### SUBSET DATASET INTO TRAIN/TEST/VAL SPLITS"
   ]
  },
  {
   "cell_type": "code",
   "execution_count": 14,
   "id": "c3d18f93",
   "metadata": {
    "execution": {
     "iopub.execute_input": "2025-05-15T16:01:53.876033Z",
     "iopub.status.busy": "2025-05-15T16:01:53.875700Z",
     "iopub.status.idle": "2025-05-15T16:01:54.078302Z",
     "shell.execute_reply": "2025-05-15T16:01:54.077913Z"
    },
    "papermill": {
     "duration": 0.209566,
     "end_time": "2025-05-15T16:01:54.079249",
     "exception": false,
     "start_time": "2025-05-15T16:01:53.869683",
     "status": "completed"
    },
    "tags": []
   },
   "outputs": [
    {
     "data": {
      "text/plain": [
       "((52083, 101), (16398, 101), (17016, 101))"
      ]
     },
     "execution_count": 14,
     "metadata": {},
     "output_type": "execute_result"
    }
   ],
   "source": [
    "X_train = train_adata.X[train_idxs]\n",
    "X_test = train_adata.X[test_idxs]\n",
    "X_val = train_adata.X[val_idxs]\n",
    "X_train.shape, X_test.shape, X_val.shape"
   ]
  },
  {
   "cell_type": "code",
   "execution_count": 15,
   "id": "19454809",
   "metadata": {
    "execution": {
     "iopub.execute_input": "2025-05-15T16:01:54.093857Z",
     "iopub.status.busy": "2025-05-15T16:01:54.093694Z",
     "iopub.status.idle": "2025-05-15T16:01:54.106233Z",
     "shell.execute_reply": "2025-05-15T16:01:54.105859Z"
    },
    "papermill": {
     "duration": 0.019607,
     "end_time": "2025-05-15T16:01:54.107133",
     "exception": false,
     "start_time": "2025-05-15T16:01:54.087526",
     "status": "completed"
    },
    "tags": []
   },
   "outputs": [
    {
     "data": {
      "text/plain": [
       "((52083,), (16398,), (17016,))"
      ]
     },
     "execution_count": 15,
     "metadata": {},
     "output_type": "execute_result"
    }
   ],
   "source": [
    "y_train = train_adata.obs.iloc[train_idxs].disease.values.astype(str)\n",
    "y_test = train_adata.obs.iloc[test_idxs].disease.values.astype(str)\n",
    "y_val = train_adata.obs.iloc[val_idxs].disease.values.astype(str)\n",
    "y_train.shape, y_test.shape, y_val.shape"
   ]
  },
  {
   "cell_type": "code",
   "execution_count": 16,
   "id": "937ccfbd",
   "metadata": {
    "execution": {
     "iopub.execute_input": "2025-05-15T16:01:54.119198Z",
     "iopub.status.busy": "2025-05-15T16:01:54.118763Z",
     "iopub.status.idle": "2025-05-15T16:01:54.138493Z",
     "shell.execute_reply": "2025-05-15T16:01:54.138138Z"
    },
    "papermill": {
     "duration": 0.026586,
     "end_time": "2025-05-15T16:01:54.139418",
     "exception": false,
     "start_time": "2025-05-15T16:01:54.112832",
     "status": "completed"
    },
    "tags": []
   },
   "outputs": [],
   "source": [
    "lenc = LabelEncoder()\n",
    "y_train_enc = lenc.fit_transform(y_train)\n",
    "y_val_enc = lenc.transform(y_val)\n",
    "y_test_enc = lenc.transform(y_test)"
   ]
  },
  {
   "cell_type": "markdown",
   "id": "8504caa0",
   "metadata": {
    "papermill": {
     "duration": 0.006308,
     "end_time": "2025-05-15T16:01:54.151554",
     "exception": false,
     "start_time": "2025-05-15T16:01:54.145246",
     "status": "completed"
    },
    "tags": []
   },
   "source": [
    "### GENERATE F1 "
   ]
  },
  {
   "cell_type": "code",
   "execution_count": 17,
   "id": "ea73ef18",
   "metadata": {
    "execution": {
     "iopub.execute_input": "2025-05-15T16:01:54.163717Z",
     "iopub.status.busy": "2025-05-15T16:01:54.163346Z",
     "iopub.status.idle": "2025-05-15T16:01:54.165836Z",
     "shell.execute_reply": "2025-05-15T16:01:54.165525Z"
    },
    "papermill": {
     "duration": 0.009779,
     "end_time": "2025-05-15T16:01:54.166630",
     "exception": false,
     "start_time": "2025-05-15T16:01:54.156851",
     "status": "completed"
    },
    "tags": []
   },
   "outputs": [],
   "source": [
    "def custom_f1_score(y_true, y_pred):\n",
    "    return -f1_score(y_true, y_pred.argmax(1), average='weighted')"
   ]
  },
  {
   "cell_type": "code",
   "execution_count": 18,
   "id": "ec1cea68",
   "metadata": {
    "execution": {
     "iopub.execute_input": "2025-05-15T16:01:54.178563Z",
     "iopub.status.busy": "2025-05-15T16:01:54.178241Z",
     "iopub.status.idle": "2025-05-15T16:01:54.181875Z",
     "shell.execute_reply": "2025-05-15T16:01:54.181578Z"
    },
    "papermill": {
     "duration": 0.010321,
     "end_time": "2025-05-15T16:01:54.182665",
     "exception": false,
     "start_time": "2025-05-15T16:01:54.172344",
     "status": "completed"
    },
    "tags": []
   },
   "outputs": [],
   "source": [
    "eval_metric=custom_f1_score\n",
    "eval_metric_name='custom_f1_score'\n",
    "\n",
    "def objective(trial):\n",
    "    params = {\n",
    "        'n_estimators': 1500,\n",
    "        'max_depth': trial.suggest_int('max_depth', 3, 20),\n",
    "        'min_child_weight': trial.suggest_int('min_child_weight', 1, 250),\n",
    "        'subsample': trial.suggest_float('subsample', 0.1, 1.0),\n",
    "        'colsample_bynode': trial.suggest_float('colsample_bynode', 0.1, 1.0),\n",
    "        'learning_rate': trial.suggest_float('learning_rate', 1e-3, 5e-1, log=True),\n",
    "    }\n",
    "    pruning_callback = optuna.integration.XGBoostPruningCallback(trial, f'validation_0-{eval_metric_name}')\n",
    "    es_callback = xgboost.callback.EarlyStopping(20, min_delta=0.001)\n",
    "    xgb = xgboost.XGBClassifier(\n",
    "        eval_metric=eval_metric,\n",
    "        callbacks=[pruning_callback, es_callback],\n",
    "        n_jobs=5,\n",
    "        **params\n",
    "    )\n",
    "    xgb.fit(\n",
    "        X_train, \n",
    "        y_train_enc, \n",
    "        verbose=0,\n",
    "        eval_set=[(X_val, y_val_enc)],\n",
    "    )\n",
    "    trial.set_user_attr('best_iteration', xgb.best_iteration)\n",
    "\n",
    "    return xgb.best_score"
   ]
  },
  {
   "cell_type": "code",
   "execution_count": 19,
   "id": "d0702728",
   "metadata": {
    "execution": {
     "iopub.execute_input": "2025-05-15T16:01:54.194356Z",
     "iopub.status.busy": "2025-05-15T16:01:54.194222Z",
     "iopub.status.idle": "2025-05-15T16:10:37.364559Z",
     "shell.execute_reply": "2025-05-15T16:10:37.363920Z"
    },
    "papermill": {
     "duration": 523.178841,
     "end_time": "2025-05-15T16:10:37.366991",
     "exception": false,
     "start_time": "2025-05-15T16:01:54.188150",
     "status": "completed"
    },
    "scrolled": true,
    "tags": []
   },
   "outputs": [
    {
     "name": "stderr",
     "output_type": "stream",
     "text": [
      "[I 2025-05-15 18:01:54,195] A new study created in memory with name: no-name-6838cf76-9b8b-4983-b9eb-590f09c0ccbc\n"
     ]
    },
    {
     "name": "stderr",
     "output_type": "stream",
     "text": [
      "[I 2025-05-15 18:01:59,264] Trial 0 finished with value: -0.647557 and parameters: {'max_depth': 9, 'min_child_weight': 238, 'subsample': 0.7587945476302645, 'colsample_bynode': 0.6387926357773329, 'learning_rate': 0.0026368755339723046}. Best is trial 0 with value: -0.647557.\n"
     ]
    },
    {
     "name": "stderr",
     "output_type": "stream",
     "text": [
      "[I 2025-05-15 18:02:31,402] Trial 1 finished with value: -0.712724 and parameters: {'max_depth': 5, 'min_child_weight': 15, 'subsample': 0.8795585311974417, 'colsample_bynode': 0.6410035105688879, 'learning_rate': 0.08148293210105287}. Best is trial 1 with value: -0.712724.\n"
     ]
    },
    {
     "name": "stderr",
     "output_type": "stream",
     "text": [
      "[I 2025-05-15 18:02:37,389] Trial 2 finished with value: -0.636213 and parameters: {'max_depth': 3, 'min_child_weight': 243, 'subsample': 0.8491983767203796, 'colsample_bynode': 0.29110519961044856, 'learning_rate': 0.003095566460242371}. Best is trial 1 with value: -0.712724.\n"
     ]
    },
    {
     "name": "stderr",
     "output_type": "stream",
     "text": [
      "[I 2025-05-15 18:02:45,523] Trial 3 finished with value: -0.664772 and parameters: {'max_depth': 6, 'min_child_weight': 77, 'subsample': 0.5722807884690141, 'colsample_bynode': 0.48875051677790415, 'learning_rate': 0.006109683510122491}. Best is trial 1 with value: -0.712724.\n"
     ]
    },
    {
     "name": "stderr",
     "output_type": "stream",
     "text": [
      "[I 2025-05-15 18:04:01,841] Trial 4 finished with value: -0.70164 and parameters: {'max_depth': 14, 'min_child_weight': 35, 'subsample': 0.3629301836816964, 'colsample_bynode': 0.4297256589643226, 'learning_rate': 0.01701841881702917}. Best is trial 1 with value: -0.712724.\n"
     ]
    },
    {
     "name": "stderr",
     "output_type": "stream",
     "text": [
      "[I 2025-05-15 18:04:02,919] Trial 5 pruned. Trial was pruned at iteration 2.\n"
     ]
    },
    {
     "name": "stderr",
     "output_type": "stream",
     "text": [
      "[I 2025-05-15 18:04:03,393] Trial 6 pruned. Trial was pruned at iteration 0.\n"
     ]
    },
    {
     "name": "stderr",
     "output_type": "stream",
     "text": [
      "[I 2025-05-15 18:04:03,822] Trial 7 pruned. Trial was pruned at iteration 0.\n"
     ]
    },
    {
     "name": "stderr",
     "output_type": "stream",
     "text": [
      "[I 2025-05-15 18:04:04,227] Trial 8 pruned. Trial was pruned at iteration 0.\n"
     ]
    },
    {
     "name": "stderr",
     "output_type": "stream",
     "text": [
      "[I 2025-05-15 18:04:04,748] Trial 9 pruned. Trial was pruned at iteration 0.\n"
     ]
    },
    {
     "name": "stderr",
     "output_type": "stream",
     "text": [
      "[I 2025-05-15 18:04:05,432] Trial 10 pruned. Trial was pruned at iteration 0.\n"
     ]
    },
    {
     "name": "stderr",
     "output_type": "stream",
     "text": [
      "[I 2025-05-15 18:04:47,304] Trial 11 finished with value: -0.71338 and parameters: {'max_depth': 10, 'min_child_weight': 3, 'subsample': 0.34014304150377095, 'colsample_bynode': 0.40131565860091256, 'learning_rate': 0.057899203666416425}. Best is trial 11 with value: -0.71338.\n"
     ]
    },
    {
     "name": "stderr",
     "output_type": "stream",
     "text": [
      "[I 2025-05-15 18:05:30,026] Trial 12 finished with value: -0.713633 and parameters: {'max_depth': 8, 'min_child_weight': 3, 'subsample': 0.3693916175642251, 'colsample_bynode': 0.351751713087183, 'learning_rate': 0.07220195396446884}. Best is trial 12 with value: -0.713633.\n"
     ]
    },
    {
     "name": "stderr",
     "output_type": "stream",
     "text": [
      "[I 2025-05-15 18:05:30,578] Trial 13 pruned. Trial was pruned at iteration 0.\n"
     ]
    },
    {
     "name": "stderr",
     "output_type": "stream",
     "text": [
      "[I 2025-05-15 18:05:30,992] Trial 14 pruned. Trial was pruned at iteration 0.\n"
     ]
    },
    {
     "name": "stderr",
     "output_type": "stream",
     "text": [
      "[I 2025-05-15 18:06:14,261] Trial 15 finished with value: -0.718164 and parameters: {'max_depth': 20, 'min_child_weight': 2, 'subsample': 0.27832770865353873, 'colsample_bynode': 0.17061614647010237, 'learning_rate': 0.10438411522099604}. Best is trial 15 with value: -0.718164.\n"
     ]
    },
    {
     "name": "stderr",
     "output_type": "stream",
     "text": [
      "[I 2025-05-15 18:06:14,690] Trial 16 pruned. Trial was pruned at iteration 0.\n"
     ]
    },
    {
     "name": "stderr",
     "output_type": "stream",
     "text": [
      "[I 2025-05-15 18:06:15,094] Trial 17 pruned. Trial was pruned at iteration 0.\n"
     ]
    },
    {
     "name": "stderr",
     "output_type": "stream",
     "text": [
      "[I 2025-05-15 18:06:15,572] Trial 18 pruned. Trial was pruned at iteration 0.\n"
     ]
    },
    {
     "name": "stderr",
     "output_type": "stream",
     "text": [
      "[I 2025-05-15 18:06:15,976] Trial 19 pruned. Trial was pruned at iteration 0.\n"
     ]
    },
    {
     "name": "stderr",
     "output_type": "stream",
     "text": [
      "[I 2025-05-15 18:06:43,180] Trial 20 finished with value: -0.720378 and parameters: {'max_depth': 8, 'min_child_weight': 24, 'subsample': 0.4641176707884742, 'colsample_bynode': 0.5036390779359418, 'learning_rate': 0.10788646403479446}. Best is trial 20 with value: -0.720378.\n"
     ]
    },
    {
     "name": "stderr",
     "output_type": "stream",
     "text": [
      "[I 2025-05-15 18:07:17,548] Trial 21 finished with value: -0.724604 and parameters: {'max_depth': 8, 'min_child_weight': 23, 'subsample': 0.46891611782660464, 'colsample_bynode': 0.505304020124888, 'learning_rate': 0.1063944596737225}. Best is trial 21 with value: -0.724604.\n"
     ]
    },
    {
     "name": "stderr",
     "output_type": "stream",
     "text": [
      "[I 2025-05-15 18:07:43,471] Trial 22 finished with value: -0.720049 and parameters: {'max_depth': 12, 'min_child_weight': 24, 'subsample': 0.4798495199870011, 'colsample_bynode': 0.4998368958243399, 'learning_rate': 0.11562172185247879}. Best is trial 21 with value: -0.724604.\n"
     ]
    },
    {
     "name": "stderr",
     "output_type": "stream",
     "text": [
      "[I 2025-05-15 18:07:43,987] Trial 23 pruned. Trial was pruned at iteration 0.\n"
     ]
    },
    {
     "name": "stderr",
     "output_type": "stream",
     "text": [
      "[I 2025-05-15 18:07:44,428] Trial 24 pruned. Trial was pruned at iteration 0.\n"
     ]
    },
    {
     "name": "stderr",
     "output_type": "stream",
     "text": [
      "[I 2025-05-15 18:07:45,090] Trial 25 pruned. Trial was pruned at iteration 1.\n"
     ]
    },
    {
     "name": "stderr",
     "output_type": "stream",
     "text": [
      "[I 2025-05-15 18:08:22,685] Trial 26 finished with value: -0.724987 and parameters: {'max_depth': 12, 'min_child_weight': 28, 'subsample': 0.4907290007687967, 'colsample_bynode': 0.7286707161946502, 'learning_rate': 0.11806132955743322}. Best is trial 26 with value: -0.724987.\n"
     ]
    },
    {
     "name": "stderr",
     "output_type": "stream",
     "text": [
      "[I 2025-05-15 18:08:23,201] Trial 27 pruned. Trial was pruned at iteration 0.\n"
     ]
    },
    {
     "name": "stderr",
     "output_type": "stream",
     "text": [
      "[I 2025-05-15 18:08:23,684] Trial 28 pruned. Trial was pruned at iteration 0.\n"
     ]
    },
    {
     "name": "stderr",
     "output_type": "stream",
     "text": [
      "[I 2025-05-15 18:08:24,147] Trial 29 pruned. Trial was pruned at iteration 0.\n"
     ]
    },
    {
     "name": "stderr",
     "output_type": "stream",
     "text": [
      "[I 2025-05-15 18:08:24,633] Trial 30 pruned. Trial was pruned at iteration 0.\n"
     ]
    },
    {
     "name": "stderr",
     "output_type": "stream",
     "text": [
      "[I 2025-05-15 18:08:25,205] Trial 31 pruned. Trial was pruned at iteration 0.\n"
     ]
    },
    {
     "name": "stderr",
     "output_type": "stream",
     "text": [
      "[I 2025-05-15 18:08:26,038] Trial 32 pruned. Trial was pruned at iteration 1.\n"
     ]
    },
    {
     "name": "stderr",
     "output_type": "stream",
     "text": [
      "[I 2025-05-15 18:08:45,307] Trial 33 finished with value: -0.721971 and parameters: {'max_depth': 15, 'min_child_weight': 18, 'subsample': 0.6129149280667663, 'colsample_bynode': 0.47013849484257786, 'learning_rate': 0.2888783031062071}. Best is trial 26 with value: -0.724987.\n"
     ]
    },
    {
     "name": "stderr",
     "output_type": "stream",
     "text": [
      "[I 2025-05-15 18:08:45,925] Trial 34 pruned. Trial was pruned at iteration 0.\n"
     ]
    },
    {
     "name": "stderr",
     "output_type": "stream",
     "text": [
      "[I 2025-05-15 18:08:46,387] Trial 35 pruned. Trial was pruned at iteration 0.\n"
     ]
    },
    {
     "name": "stderr",
     "output_type": "stream",
     "text": [
      "[I 2025-05-15 18:08:46,874] Trial 36 pruned. Trial was pruned at iteration 0.\n"
     ]
    },
    {
     "name": "stderr",
     "output_type": "stream",
     "text": [
      "[I 2025-05-15 18:09:05,134] Trial 37 pruned. Trial was pruned at iteration 55.\n"
     ]
    },
    {
     "name": "stderr",
     "output_type": "stream",
     "text": [
      "[I 2025-05-15 18:09:05,599] Trial 38 pruned. Trial was pruned at iteration 0.\n"
     ]
    },
    {
     "name": "stderr",
     "output_type": "stream",
     "text": [
      "[I 2025-05-15 18:09:06,090] Trial 39 pruned. Trial was pruned at iteration 0.\n"
     ]
    },
    {
     "name": "stderr",
     "output_type": "stream",
     "text": [
      "[I 2025-05-15 18:09:06,872] Trial 40 pruned. Trial was pruned at iteration 1.\n"
     ]
    },
    {
     "name": "stderr",
     "output_type": "stream",
     "text": [
      "[I 2025-05-15 18:09:07,370] Trial 41 pruned. Trial was pruned at iteration 0.\n"
     ]
    },
    {
     "name": "stderr",
     "output_type": "stream",
     "text": [
      "[I 2025-05-15 18:09:07,841] Trial 42 pruned. Trial was pruned at iteration 0.\n"
     ]
    },
    {
     "name": "stderr",
     "output_type": "stream",
     "text": [
      "[I 2025-05-15 18:09:08,257] Trial 43 pruned. Trial was pruned at iteration 0.\n"
     ]
    },
    {
     "name": "stderr",
     "output_type": "stream",
     "text": [
      "[I 2025-05-15 18:09:08,707] Trial 44 pruned. Trial was pruned at iteration 0.\n"
     ]
    },
    {
     "name": "stderr",
     "output_type": "stream",
     "text": [
      "[I 2025-05-15 18:09:09,204] Trial 45 pruned. Trial was pruned at iteration 0.\n"
     ]
    },
    {
     "name": "stderr",
     "output_type": "stream",
     "text": [
      "[I 2025-05-15 18:09:39,871] Trial 46 finished with value: -0.723688 and parameters: {'max_depth': 9, 'min_child_weight': 12, 'subsample': 0.4052647536584355, 'colsample_bynode': 0.9908142455371807, 'learning_rate': 0.15493016411073907}. Best is trial 26 with value: -0.724987.\n"
     ]
    },
    {
     "name": "stderr",
     "output_type": "stream",
     "text": [
      "[I 2025-05-15 18:10:08,871] Trial 47 finished with value: -0.723585 and parameters: {'max_depth': 7, 'min_child_weight': 7, 'subsample': 0.40417722840566234, 'colsample_bynode': 0.9833221094786488, 'learning_rate': 0.15895266818082593}. Best is trial 26 with value: -0.724987.\n"
     ]
    },
    {
     "name": "stderr",
     "output_type": "stream",
     "text": [
      "[I 2025-05-15 18:10:25,342] Trial 48 finished with value: -0.722508 and parameters: {'max_depth': 9, 'min_child_weight': 7, 'subsample': 0.3249690607750011, 'colsample_bynode': 0.983338618709943, 'learning_rate': 0.494694924837157}. Best is trial 26 with value: -0.724987.\n"
     ]
    },
    {
     "name": "stderr",
     "output_type": "stream",
     "text": [
      "[I 2025-05-15 18:10:37,268] Trial 49 finished with value: -0.724012 and parameters: {'max_depth': 7, 'min_child_weight': 9, 'subsample': 0.32037373036560884, 'colsample_bynode': 0.99810142091054, 'learning_rate': 0.4612681606088128}. Best is trial 26 with value: -0.724987.\n"
     ]
    }
   ],
   "source": [
    "sampler = optuna.samplers.TPESampler(seed=42)\n",
    "study = optuna.create_study(direction='minimize', sampler=sampler)\n",
    "study.optimize(objective, n_trials=N_TRIALS, gc_after_trial=True)"
   ]
  },
  {
   "cell_type": "code",
   "execution_count": 20,
   "id": "9c01df54",
   "metadata": {
    "execution": {
     "iopub.execute_input": "2025-05-15T16:10:37.417664Z",
     "iopub.status.busy": "2025-05-15T16:10:37.417248Z",
     "iopub.status.idle": "2025-05-15T16:10:37.446399Z",
     "shell.execute_reply": "2025-05-15T16:10:37.446027Z"
    },
    "papermill": {
     "duration": 0.05474,
     "end_time": "2025-05-15T16:10:37.447642",
     "exception": false,
     "start_time": "2025-05-15T16:10:37.392902",
     "status": "completed"
    },
    "tags": []
   },
   "outputs": [
    {
     "data": {
      "text/plain": [
       "['/scratch_isilon/groups/singlecell/shared/projects/Inflammation-PBMCs-Atlas/03_downstream_analysis/08_gene_importance/xgboost_external_validation/xgboost_TopN_genes/results_20/study/T_CD4_Naive_17_0_xgboost.pkl']"
      ]
     },
     "execution_count": 20,
     "metadata": {},
     "output_type": "execute_result"
    }
   ],
   "source": [
    "out_dir = here(f'03_downstream_analysis/08_gene_importance/xgboost_external_validation/xgboost_TopN_genes/results_{N_GENES}/study')\n",
    "\n",
    "if not os.path.exists(out_dir):\n",
    "    os.makedirs(out_dir)\n",
    "    \n",
    "joblib.dump(study,os.path.join(out_dir, f'{CELL_TYPE}_{SEED}_{TEST_SPLIT_IDX}_xgboost.pkl'))"
   ]
  },
  {
   "cell_type": "code",
   "execution_count": 21,
   "id": "efecc69e",
   "metadata": {
    "execution": {
     "iopub.execute_input": "2025-05-15T16:10:37.476187Z",
     "iopub.status.busy": "2025-05-15T16:10:37.475911Z",
     "iopub.status.idle": "2025-05-15T16:10:58.230101Z",
     "shell.execute_reply": "2025-05-15T16:10:58.229682Z"
    },
    "papermill": {
     "duration": 20.766122,
     "end_time": "2025-05-15T16:10:58.231532",
     "exception": false,
     "start_time": "2025-05-15T16:10:37.465410",
     "status": "completed"
    },
    "tags": []
   },
   "outputs": [
    {
     "data": {
      "text/html": [
       "<style>#sk-container-id-1 {\n",
       "  /* Definition of color scheme common for light and dark mode */\n",
       "  --sklearn-color-text: black;\n",
       "  --sklearn-color-line: gray;\n",
       "  /* Definition of color scheme for unfitted estimators */\n",
       "  --sklearn-color-unfitted-level-0: #fff5e6;\n",
       "  --sklearn-color-unfitted-level-1: #f6e4d2;\n",
       "  --sklearn-color-unfitted-level-2: #ffe0b3;\n",
       "  --sklearn-color-unfitted-level-3: chocolate;\n",
       "  /* Definition of color scheme for fitted estimators */\n",
       "  --sklearn-color-fitted-level-0: #f0f8ff;\n",
       "  --sklearn-color-fitted-level-1: #d4ebff;\n",
       "  --sklearn-color-fitted-level-2: #b3dbfd;\n",
       "  --sklearn-color-fitted-level-3: cornflowerblue;\n",
       "\n",
       "  /* Specific color for light theme */\n",
       "  --sklearn-color-text-on-default-background: var(--sg-text-color, var(--theme-code-foreground, var(--jp-content-font-color1, black)));\n",
       "  --sklearn-color-background: var(--sg-background-color, var(--theme-background, var(--jp-layout-color0, white)));\n",
       "  --sklearn-color-border-box: var(--sg-text-color, var(--theme-code-foreground, var(--jp-content-font-color1, black)));\n",
       "  --sklearn-color-icon: #696969;\n",
       "\n",
       "  @media (prefers-color-scheme: dark) {\n",
       "    /* Redefinition of color scheme for dark theme */\n",
       "    --sklearn-color-text-on-default-background: var(--sg-text-color, var(--theme-code-foreground, var(--jp-content-font-color1, white)));\n",
       "    --sklearn-color-background: var(--sg-background-color, var(--theme-background, var(--jp-layout-color0, #111)));\n",
       "    --sklearn-color-border-box: var(--sg-text-color, var(--theme-code-foreground, var(--jp-content-font-color1, white)));\n",
       "    --sklearn-color-icon: #878787;\n",
       "  }\n",
       "}\n",
       "\n",
       "#sk-container-id-1 {\n",
       "  color: var(--sklearn-color-text);\n",
       "}\n",
       "\n",
       "#sk-container-id-1 pre {\n",
       "  padding: 0;\n",
       "}\n",
       "\n",
       "#sk-container-id-1 input.sk-hidden--visually {\n",
       "  border: 0;\n",
       "  clip: rect(1px 1px 1px 1px);\n",
       "  clip: rect(1px, 1px, 1px, 1px);\n",
       "  height: 1px;\n",
       "  margin: -1px;\n",
       "  overflow: hidden;\n",
       "  padding: 0;\n",
       "  position: absolute;\n",
       "  width: 1px;\n",
       "}\n",
       "\n",
       "#sk-container-id-1 div.sk-dashed-wrapped {\n",
       "  border: 1px dashed var(--sklearn-color-line);\n",
       "  margin: 0 0.4em 0.5em 0.4em;\n",
       "  box-sizing: border-box;\n",
       "  padding-bottom: 0.4em;\n",
       "  background-color: var(--sklearn-color-background);\n",
       "}\n",
       "\n",
       "#sk-container-id-1 div.sk-container {\n",
       "  /* jupyter's `normalize.less` sets `[hidden] { display: none; }`\n",
       "     but bootstrap.min.css set `[hidden] { display: none !important; }`\n",
       "     so we also need the `!important` here to be able to override the\n",
       "     default hidden behavior on the sphinx rendered scikit-learn.org.\n",
       "     See: https://github.com/scikit-learn/scikit-learn/issues/21755 */\n",
       "  display: inline-block !important;\n",
       "  position: relative;\n",
       "}\n",
       "\n",
       "#sk-container-id-1 div.sk-text-repr-fallback {\n",
       "  display: none;\n",
       "}\n",
       "\n",
       "div.sk-parallel-item,\n",
       "div.sk-serial,\n",
       "div.sk-item {\n",
       "  /* draw centered vertical line to link estimators */\n",
       "  background-image: linear-gradient(var(--sklearn-color-text-on-default-background), var(--sklearn-color-text-on-default-background));\n",
       "  background-size: 2px 100%;\n",
       "  background-repeat: no-repeat;\n",
       "  background-position: center center;\n",
       "}\n",
       "\n",
       "/* Parallel-specific style estimator block */\n",
       "\n",
       "#sk-container-id-1 div.sk-parallel-item::after {\n",
       "  content: \"\";\n",
       "  width: 100%;\n",
       "  border-bottom: 2px solid var(--sklearn-color-text-on-default-background);\n",
       "  flex-grow: 1;\n",
       "}\n",
       "\n",
       "#sk-container-id-1 div.sk-parallel {\n",
       "  display: flex;\n",
       "  align-items: stretch;\n",
       "  justify-content: center;\n",
       "  background-color: var(--sklearn-color-background);\n",
       "  position: relative;\n",
       "}\n",
       "\n",
       "#sk-container-id-1 div.sk-parallel-item {\n",
       "  display: flex;\n",
       "  flex-direction: column;\n",
       "}\n",
       "\n",
       "#sk-container-id-1 div.sk-parallel-item:first-child::after {\n",
       "  align-self: flex-end;\n",
       "  width: 50%;\n",
       "}\n",
       "\n",
       "#sk-container-id-1 div.sk-parallel-item:last-child::after {\n",
       "  align-self: flex-start;\n",
       "  width: 50%;\n",
       "}\n",
       "\n",
       "#sk-container-id-1 div.sk-parallel-item:only-child::after {\n",
       "  width: 0;\n",
       "}\n",
       "\n",
       "/* Serial-specific style estimator block */\n",
       "\n",
       "#sk-container-id-1 div.sk-serial {\n",
       "  display: flex;\n",
       "  flex-direction: column;\n",
       "  align-items: center;\n",
       "  background-color: var(--sklearn-color-background);\n",
       "  padding-right: 1em;\n",
       "  padding-left: 1em;\n",
       "}\n",
       "\n",
       "\n",
       "/* Toggleable style: style used for estimator/Pipeline/ColumnTransformer box that is\n",
       "clickable and can be expanded/collapsed.\n",
       "- Pipeline and ColumnTransformer use this feature and define the default style\n",
       "- Estimators will overwrite some part of the style using the `sk-estimator` class\n",
       "*/\n",
       "\n",
       "/* Pipeline and ColumnTransformer style (default) */\n",
       "\n",
       "#sk-container-id-1 div.sk-toggleable {\n",
       "  /* Default theme specific background. It is overwritten whether we have a\n",
       "  specific estimator or a Pipeline/ColumnTransformer */\n",
       "  background-color: var(--sklearn-color-background);\n",
       "}\n",
       "\n",
       "/* Toggleable label */\n",
       "#sk-container-id-1 label.sk-toggleable__label {\n",
       "  cursor: pointer;\n",
       "  display: block;\n",
       "  width: 100%;\n",
       "  margin-bottom: 0;\n",
       "  padding: 0.5em;\n",
       "  box-sizing: border-box;\n",
       "  text-align: center;\n",
       "}\n",
       "\n",
       "#sk-container-id-1 label.sk-toggleable__label-arrow:before {\n",
       "  /* Arrow on the left of the label */\n",
       "  content: \"▸\";\n",
       "  float: left;\n",
       "  margin-right: 0.25em;\n",
       "  color: var(--sklearn-color-icon);\n",
       "}\n",
       "\n",
       "#sk-container-id-1 label.sk-toggleable__label-arrow:hover:before {\n",
       "  color: var(--sklearn-color-text);\n",
       "}\n",
       "\n",
       "/* Toggleable content - dropdown */\n",
       "\n",
       "#sk-container-id-1 div.sk-toggleable__content {\n",
       "  max-height: 0;\n",
       "  max-width: 0;\n",
       "  overflow: hidden;\n",
       "  text-align: left;\n",
       "  /* unfitted */\n",
       "  background-color: var(--sklearn-color-unfitted-level-0);\n",
       "}\n",
       "\n",
       "#sk-container-id-1 div.sk-toggleable__content.fitted {\n",
       "  /* fitted */\n",
       "  background-color: var(--sklearn-color-fitted-level-0);\n",
       "}\n",
       "\n",
       "#sk-container-id-1 div.sk-toggleable__content pre {\n",
       "  margin: 0.2em;\n",
       "  border-radius: 0.25em;\n",
       "  color: var(--sklearn-color-text);\n",
       "  /* unfitted */\n",
       "  background-color: var(--sklearn-color-unfitted-level-0);\n",
       "}\n",
       "\n",
       "#sk-container-id-1 div.sk-toggleable__content.fitted pre {\n",
       "  /* unfitted */\n",
       "  background-color: var(--sklearn-color-fitted-level-0);\n",
       "}\n",
       "\n",
       "#sk-container-id-1 input.sk-toggleable__control:checked~div.sk-toggleable__content {\n",
       "  /* Expand drop-down */\n",
       "  max-height: 200px;\n",
       "  max-width: 100%;\n",
       "  overflow: auto;\n",
       "}\n",
       "\n",
       "#sk-container-id-1 input.sk-toggleable__control:checked~label.sk-toggleable__label-arrow:before {\n",
       "  content: \"▾\";\n",
       "}\n",
       "\n",
       "/* Pipeline/ColumnTransformer-specific style */\n",
       "\n",
       "#sk-container-id-1 div.sk-label input.sk-toggleable__control:checked~label.sk-toggleable__label {\n",
       "  color: var(--sklearn-color-text);\n",
       "  background-color: var(--sklearn-color-unfitted-level-2);\n",
       "}\n",
       "\n",
       "#sk-container-id-1 div.sk-label.fitted input.sk-toggleable__control:checked~label.sk-toggleable__label {\n",
       "  background-color: var(--sklearn-color-fitted-level-2);\n",
       "}\n",
       "\n",
       "/* Estimator-specific style */\n",
       "\n",
       "/* Colorize estimator box */\n",
       "#sk-container-id-1 div.sk-estimator input.sk-toggleable__control:checked~label.sk-toggleable__label {\n",
       "  /* unfitted */\n",
       "  background-color: var(--sklearn-color-unfitted-level-2);\n",
       "}\n",
       "\n",
       "#sk-container-id-1 div.sk-estimator.fitted input.sk-toggleable__control:checked~label.sk-toggleable__label {\n",
       "  /* fitted */\n",
       "  background-color: var(--sklearn-color-fitted-level-2);\n",
       "}\n",
       "\n",
       "#sk-container-id-1 div.sk-label label.sk-toggleable__label,\n",
       "#sk-container-id-1 div.sk-label label {\n",
       "  /* The background is the default theme color */\n",
       "  color: var(--sklearn-color-text-on-default-background);\n",
       "}\n",
       "\n",
       "/* On hover, darken the color of the background */\n",
       "#sk-container-id-1 div.sk-label:hover label.sk-toggleable__label {\n",
       "  color: var(--sklearn-color-text);\n",
       "  background-color: var(--sklearn-color-unfitted-level-2);\n",
       "}\n",
       "\n",
       "/* Label box, darken color on hover, fitted */\n",
       "#sk-container-id-1 div.sk-label.fitted:hover label.sk-toggleable__label.fitted {\n",
       "  color: var(--sklearn-color-text);\n",
       "  background-color: var(--sklearn-color-fitted-level-2);\n",
       "}\n",
       "\n",
       "/* Estimator label */\n",
       "\n",
       "#sk-container-id-1 div.sk-label label {\n",
       "  font-family: monospace;\n",
       "  font-weight: bold;\n",
       "  display: inline-block;\n",
       "  line-height: 1.2em;\n",
       "}\n",
       "\n",
       "#sk-container-id-1 div.sk-label-container {\n",
       "  text-align: center;\n",
       "}\n",
       "\n",
       "/* Estimator-specific */\n",
       "#sk-container-id-1 div.sk-estimator {\n",
       "  font-family: monospace;\n",
       "  border: 1px dotted var(--sklearn-color-border-box);\n",
       "  border-radius: 0.25em;\n",
       "  box-sizing: border-box;\n",
       "  margin-bottom: 0.5em;\n",
       "  /* unfitted */\n",
       "  background-color: var(--sklearn-color-unfitted-level-0);\n",
       "}\n",
       "\n",
       "#sk-container-id-1 div.sk-estimator.fitted {\n",
       "  /* fitted */\n",
       "  background-color: var(--sklearn-color-fitted-level-0);\n",
       "}\n",
       "\n",
       "/* on hover */\n",
       "#sk-container-id-1 div.sk-estimator:hover {\n",
       "  /* unfitted */\n",
       "  background-color: var(--sklearn-color-unfitted-level-2);\n",
       "}\n",
       "\n",
       "#sk-container-id-1 div.sk-estimator.fitted:hover {\n",
       "  /* fitted */\n",
       "  background-color: var(--sklearn-color-fitted-level-2);\n",
       "}\n",
       "\n",
       "/* Specification for estimator info (e.g. \"i\" and \"?\") */\n",
       "\n",
       "/* Common style for \"i\" and \"?\" */\n",
       "\n",
       ".sk-estimator-doc-link,\n",
       "a:link.sk-estimator-doc-link,\n",
       "a:visited.sk-estimator-doc-link {\n",
       "  float: right;\n",
       "  font-size: smaller;\n",
       "  line-height: 1em;\n",
       "  font-family: monospace;\n",
       "  background-color: var(--sklearn-color-background);\n",
       "  border-radius: 1em;\n",
       "  height: 1em;\n",
       "  width: 1em;\n",
       "  text-decoration: none !important;\n",
       "  margin-left: 1ex;\n",
       "  /* unfitted */\n",
       "  border: var(--sklearn-color-unfitted-level-1) 1pt solid;\n",
       "  color: var(--sklearn-color-unfitted-level-1);\n",
       "}\n",
       "\n",
       ".sk-estimator-doc-link.fitted,\n",
       "a:link.sk-estimator-doc-link.fitted,\n",
       "a:visited.sk-estimator-doc-link.fitted {\n",
       "  /* fitted */\n",
       "  border: var(--sklearn-color-fitted-level-1) 1pt solid;\n",
       "  color: var(--sklearn-color-fitted-level-1);\n",
       "}\n",
       "\n",
       "/* On hover */\n",
       "div.sk-estimator:hover .sk-estimator-doc-link:hover,\n",
       ".sk-estimator-doc-link:hover,\n",
       "div.sk-label-container:hover .sk-estimator-doc-link:hover,\n",
       ".sk-estimator-doc-link:hover {\n",
       "  /* unfitted */\n",
       "  background-color: var(--sklearn-color-unfitted-level-3);\n",
       "  color: var(--sklearn-color-background);\n",
       "  text-decoration: none;\n",
       "}\n",
       "\n",
       "div.sk-estimator.fitted:hover .sk-estimator-doc-link.fitted:hover,\n",
       ".sk-estimator-doc-link.fitted:hover,\n",
       "div.sk-label-container:hover .sk-estimator-doc-link.fitted:hover,\n",
       ".sk-estimator-doc-link.fitted:hover {\n",
       "  /* fitted */\n",
       "  background-color: var(--sklearn-color-fitted-level-3);\n",
       "  color: var(--sklearn-color-background);\n",
       "  text-decoration: none;\n",
       "}\n",
       "\n",
       "/* Span, style for the box shown on hovering the info icon */\n",
       ".sk-estimator-doc-link span {\n",
       "  display: none;\n",
       "  z-index: 9999;\n",
       "  position: relative;\n",
       "  font-weight: normal;\n",
       "  right: .2ex;\n",
       "  padding: .5ex;\n",
       "  margin: .5ex;\n",
       "  width: min-content;\n",
       "  min-width: 20ex;\n",
       "  max-width: 50ex;\n",
       "  color: var(--sklearn-color-text);\n",
       "  box-shadow: 2pt 2pt 4pt #999;\n",
       "  /* unfitted */\n",
       "  background: var(--sklearn-color-unfitted-level-0);\n",
       "  border: .5pt solid var(--sklearn-color-unfitted-level-3);\n",
       "}\n",
       "\n",
       ".sk-estimator-doc-link.fitted span {\n",
       "  /* fitted */\n",
       "  background: var(--sklearn-color-fitted-level-0);\n",
       "  border: var(--sklearn-color-fitted-level-3);\n",
       "}\n",
       "\n",
       ".sk-estimator-doc-link:hover span {\n",
       "  display: block;\n",
       "}\n",
       "\n",
       "/* \"?\"-specific style due to the `<a>` HTML tag */\n",
       "\n",
       "#sk-container-id-1 a.estimator_doc_link {\n",
       "  float: right;\n",
       "  font-size: 1rem;\n",
       "  line-height: 1em;\n",
       "  font-family: monospace;\n",
       "  background-color: var(--sklearn-color-background);\n",
       "  border-radius: 1rem;\n",
       "  height: 1rem;\n",
       "  width: 1rem;\n",
       "  text-decoration: none;\n",
       "  /* unfitted */\n",
       "  color: var(--sklearn-color-unfitted-level-1);\n",
       "  border: var(--sklearn-color-unfitted-level-1) 1pt solid;\n",
       "}\n",
       "\n",
       "#sk-container-id-1 a.estimator_doc_link.fitted {\n",
       "  /* fitted */\n",
       "  border: var(--sklearn-color-fitted-level-1) 1pt solid;\n",
       "  color: var(--sklearn-color-fitted-level-1);\n",
       "}\n",
       "\n",
       "/* On hover */\n",
       "#sk-container-id-1 a.estimator_doc_link:hover {\n",
       "  /* unfitted */\n",
       "  background-color: var(--sklearn-color-unfitted-level-3);\n",
       "  color: var(--sklearn-color-background);\n",
       "  text-decoration: none;\n",
       "}\n",
       "\n",
       "#sk-container-id-1 a.estimator_doc_link.fitted:hover {\n",
       "  /* fitted */\n",
       "  background-color: var(--sklearn-color-fitted-level-3);\n",
       "}\n",
       "</style><div id=\"sk-container-id-1\" class=\"sk-top-container\"><div class=\"sk-text-repr-fallback\"><pre>XGBClassifier(base_score=None, booster=None, callbacks=None,\n",
       "              colsample_bylevel=None, colsample_bynode=0.7286707161946502,\n",
       "              colsample_bytree=None, device=None, early_stopping_rounds=None,\n",
       "              enable_categorical=False,\n",
       "              eval_metric=&lt;function custom_f1_score at 0x7fcad52bc540&gt;,\n",
       "              feature_types=None, gamma=None, grow_policy=None,\n",
       "              importance_type=None, interaction_constraints=None,\n",
       "              learning_rate=0.11806132955743322, max_bin=None,\n",
       "              max_cat_threshold=None, max_cat_to_onehot=None,\n",
       "              max_delta_step=None, max_depth=12, max_leaves=None,\n",
       "              min_child_weight=28, missing=nan, monotone_constraints=None,\n",
       "              multi_strategy=None, n_estimators=158, n_jobs=None,\n",
       "              num_parallel_tree=None, objective=&#x27;multi:softprob&#x27;, ...)</pre><b>In a Jupyter environment, please rerun this cell to show the HTML representation or trust the notebook. <br />On GitHub, the HTML representation is unable to render, please try loading this page with nbviewer.org.</b></div><div class=\"sk-container\" hidden><div class=\"sk-item\"><div class=\"sk-estimator fitted sk-toggleable\"><input class=\"sk-toggleable__control sk-hidden--visually\" id=\"sk-estimator-id-1\" type=\"checkbox\" checked><label for=\"sk-estimator-id-1\" class=\"sk-toggleable__label fitted sk-toggleable__label-arrow fitted\">&nbsp;XGBClassifier<span class=\"sk-estimator-doc-link fitted\">i<span>Fitted</span></span></label><div class=\"sk-toggleable__content fitted\"><pre>XGBClassifier(base_score=None, booster=None, callbacks=None,\n",
       "              colsample_bylevel=None, colsample_bynode=0.7286707161946502,\n",
       "              colsample_bytree=None, device=None, early_stopping_rounds=None,\n",
       "              enable_categorical=False,\n",
       "              eval_metric=&lt;function custom_f1_score at 0x7fcad52bc540&gt;,\n",
       "              feature_types=None, gamma=None, grow_policy=None,\n",
       "              importance_type=None, interaction_constraints=None,\n",
       "              learning_rate=0.11806132955743322, max_bin=None,\n",
       "              max_cat_threshold=None, max_cat_to_onehot=None,\n",
       "              max_delta_step=None, max_depth=12, max_leaves=None,\n",
       "              min_child_weight=28, missing=nan, monotone_constraints=None,\n",
       "              multi_strategy=None, n_estimators=158, n_jobs=None,\n",
       "              num_parallel_tree=None, objective=&#x27;multi:softprob&#x27;, ...)</pre></div> </div></div></div></div>"
      ],
      "text/plain": [
       "XGBClassifier(base_score=None, booster=None, callbacks=None,\n",
       "              colsample_bylevel=None, colsample_bynode=0.7286707161946502,\n",
       "              colsample_bytree=None, device=None, early_stopping_rounds=None,\n",
       "              enable_categorical=False,\n",
       "              eval_metric=<function custom_f1_score at 0x7fcad52bc540>,\n",
       "              feature_types=None, gamma=None, grow_policy=None,\n",
       "              importance_type=None, interaction_constraints=None,\n",
       "              learning_rate=0.11806132955743322, max_bin=None,\n",
       "              max_cat_threshold=None, max_cat_to_onehot=None,\n",
       "              max_delta_step=None, max_depth=12, max_leaves=None,\n",
       "              min_child_weight=28, missing=nan, monotone_constraints=None,\n",
       "              multi_strategy=None, n_estimators=158, n_jobs=None,\n",
       "              num_parallel_tree=None, objective='multi:softprob', ...)"
      ]
     },
     "execution_count": 21,
     "metadata": {},
     "output_type": "execute_result"
    }
   ],
   "source": [
    "n_estimators = int(study.best_trial.user_attrs['best_iteration']*1.2)\n",
    "xgb = xgboost.XGBClassifier(\n",
    "        eval_metric=eval_metric,\n",
    "        n_estimators=n_estimators,\n",
    "        **study.best_trial.params\n",
    "    )\n",
    "xgb.fit(\n",
    "    ssp.vstack((X_train, X_val)), \n",
    "    np.concatenate((y_train_enc, y_val_enc)),\n",
    "    verbose=1,\n",
    ")"
   ]
  },
  {
   "cell_type": "code",
   "execution_count": 22,
   "id": "c5ce9e72",
   "metadata": {
    "execution": {
     "iopub.execute_input": "2025-05-15T16:10:58.264611Z",
     "iopub.status.busy": "2025-05-15T16:10:58.264170Z",
     "iopub.status.idle": "2025-05-15T16:10:58.324109Z",
     "shell.execute_reply": "2025-05-15T16:10:58.323690Z"
    },
    "papermill": {
     "duration": 0.082396,
     "end_time": "2025-05-15T16:10:58.325421",
     "exception": false,
     "start_time": "2025-05-15T16:10:58.243025",
     "status": "completed"
    },
    "tags": []
   },
   "outputs": [
    {
     "data": {
      "text/plain": [
       "['/scratch_isilon/groups/singlecell/shared/projects/Inflammation-PBMCs-Atlas/03_downstream_analysis/08_gene_importance/xgboost_external_validation/xgboost_TopN_genes/results_20/best_model/T_CD4_Naive_17_0_xgb.json']"
      ]
     },
     "execution_count": 22,
     "metadata": {},
     "output_type": "execute_result"
    }
   ],
   "source": [
    "out_dir = here(f'03_downstream_analysis/08_gene_importance/xgboost_external_validation/xgboost_TopN_genes/results_{N_GENES}/best_model')\n",
    "\n",
    "if not os.path.exists(out_dir):\n",
    "    os.makedirs(out_dir)\n",
    "    \n",
    "joblib.dump(xgb, os.path.join(out_dir, f'{CELL_TYPE}_{SEED}_{TEST_SPLIT_IDX}_xgb.json'))"
   ]
  },
  {
   "cell_type": "code",
   "execution_count": 23,
   "id": "65b5e837",
   "metadata": {
    "execution": {
     "iopub.execute_input": "2025-05-15T16:10:58.349447Z",
     "iopub.status.busy": "2025-05-15T16:10:58.349268Z",
     "iopub.status.idle": "2025-05-15T16:10:59.211514Z",
     "shell.execute_reply": "2025-05-15T16:10:59.210975Z"
    },
    "papermill": {
     "duration": 0.875896,
     "end_time": "2025-05-15T16:10:59.213155",
     "exception": false,
     "start_time": "2025-05-15T16:10:58.337259",
     "status": "completed"
    },
    "tags": []
   },
   "outputs": [],
   "source": [
    "df_pred_test = pd.DataFrame(dict(\n",
    "    cell_id=train_adata.obs.iloc[test_idxs].index.values,\n",
    "    y_true=y_test, \n",
    "    y_true_code=y_test_enc, \n",
    "    y_pred=xgb.predict(X_test))).set_index('cell_id')"
   ]
  },
  {
   "cell_type": "code",
   "execution_count": 24,
   "id": "7a8a7f75",
   "metadata": {
    "execution": {
     "iopub.execute_input": "2025-05-15T16:10:59.235927Z",
     "iopub.status.busy": "2025-05-15T16:10:59.235589Z",
     "iopub.status.idle": "2025-05-15T16:10:59.339095Z",
     "shell.execute_reply": "2025-05-15T16:10:59.338591Z"
    },
    "papermill": {
     "duration": 0.115821,
     "end_time": "2025-05-15T16:10:59.340648",
     "exception": false,
     "start_time": "2025-05-15T16:10:59.224827",
     "status": "completed"
    },
    "tags": []
   },
   "outputs": [],
   "source": [
    "out_dir = here(f'03_downstream_analysis/08_gene_importance/xgboost_external_validation/xgboost_TopN_genes/results_{N_GENES}/predictions')\n",
    "\n",
    "if not os.path.exists(out_dir):\n",
    "    os.makedirs(out_dir)\n",
    "    \n",
    "df_pred_test.to_csv(os.path.join(out_dir, f'{CELL_TYPE}_{SEED}_{TEST_SPLIT_IDX}_pred_test.zip'))"
   ]
  },
  {
   "cell_type": "code",
   "execution_count": 25,
   "id": "4ba18162",
   "metadata": {
    "execution": {
     "iopub.execute_input": "2025-05-15T16:10:59.391091Z",
     "iopub.status.busy": "2025-05-15T16:10:59.390775Z",
     "iopub.status.idle": "2025-05-15T16:10:59.404941Z",
     "shell.execute_reply": "2025-05-15T16:10:59.404375Z"
    },
    "papermill": {
     "duration": 0.04332,
     "end_time": "2025-05-15T16:10:59.406070",
     "exception": false,
     "start_time": "2025-05-15T16:10:59.362750",
     "status": "completed"
    },
    "tags": []
   },
   "outputs": [],
   "source": [
    "metrics_dict = dict(\n",
    "    BAS=balanced_accuracy_score(y_true=df_pred_test.y_true_code, y_pred=df_pred_test.y_pred), WF1=f1_score(y_true=df_pred_test.y_true_code, y_pred=df_pred_test.y_pred,average='weighted'))"
   ]
  },
  {
   "cell_type": "code",
   "execution_count": 26,
   "id": "64061565",
   "metadata": {
    "execution": {
     "iopub.execute_input": "2025-05-15T16:10:59.431051Z",
     "iopub.status.busy": "2025-05-15T16:10:59.430828Z",
     "iopub.status.idle": "2025-05-15T16:10:59.434230Z",
     "shell.execute_reply": "2025-05-15T16:10:59.433867Z"
    },
    "papermill": {
     "duration": 0.017452,
     "end_time": "2025-05-15T16:10:59.435191",
     "exception": false,
     "start_time": "2025-05-15T16:10:59.417739",
     "status": "completed"
    },
    "tags": []
   },
   "outputs": [
    {
     "data": {
      "text/plain": [
       "{'BAS': 0.5910290660356701, 'WF1': 0.7960561110011222}"
      ]
     },
     "execution_count": 26,
     "metadata": {},
     "output_type": "execute_result"
    }
   ],
   "source": [
    "metrics_dict"
   ]
  },
  {
   "cell_type": "code",
   "execution_count": 27,
   "id": "bd958668",
   "metadata": {
    "execution": {
     "iopub.execute_input": "2025-05-15T16:10:59.456419Z",
     "iopub.status.busy": "2025-05-15T16:10:59.456180Z",
     "iopub.status.idle": "2025-05-15T16:10:59.466813Z",
     "shell.execute_reply": "2025-05-15T16:10:59.466435Z"
    },
    "papermill": {
     "duration": 0.022141,
     "end_time": "2025-05-15T16:10:59.467760",
     "exception": false,
     "start_time": "2025-05-15T16:10:59.445619",
     "status": "completed"
    },
    "tags": []
   },
   "outputs": [
    {
     "data": {
      "text/html": [
       "<div>\n",
       "<style scoped>\n",
       "    .dataframe tbody tr th:only-of-type {\n",
       "        vertical-align: middle;\n",
       "    }\n",
       "\n",
       "    .dataframe tbody tr th {\n",
       "        vertical-align: top;\n",
       "    }\n",
       "\n",
       "    .dataframe thead th {\n",
       "        text-align: right;\n",
       "    }\n",
       "</style>\n",
       "<table border=\"1\" class=\"dataframe\">\n",
       "  <thead>\n",
       "    <tr style=\"text-align: right;\">\n",
       "      <th></th>\n",
       "      <th>BAS</th>\n",
       "      <th>WF1</th>\n",
       "      <th>split_idx</th>\n",
       "      <th>gene_set_seed</th>\n",
       "      <th>cell_type</th>\n",
       "    </tr>\n",
       "  </thead>\n",
       "  <tbody>\n",
       "    <tr>\n",
       "      <th>0</th>\n",
       "      <td>0.591029</td>\n",
       "      <td>0.796056</td>\n",
       "      <td>0</td>\n",
       "      <td>17</td>\n",
       "      <td>T_CD4_Naive</td>\n",
       "    </tr>\n",
       "  </tbody>\n",
       "</table>\n",
       "</div>"
      ],
      "text/plain": [
       "        BAS       WF1  split_idx  gene_set_seed    cell_type\n",
       "0  0.591029  0.796056          0             17  T_CD4_Naive"
      ]
     },
     "execution_count": 27,
     "metadata": {},
     "output_type": "execute_result"
    }
   ],
   "source": [
    "metrics_df = pd.DataFrame.from_dict([metrics_dict]).assign(split_idx=TEST_SPLIT_IDX, gene_set_seed=SEED, cell_type=CELL_TYPE)\n",
    "metrics_df"
   ]
  },
  {
   "cell_type": "code",
   "execution_count": 28,
   "id": "1ddc1568",
   "metadata": {
    "execution": {
     "iopub.execute_input": "2025-05-15T16:10:59.515689Z",
     "iopub.status.busy": "2025-05-15T16:10:59.515176Z",
     "iopub.status.idle": "2025-05-15T16:10:59.523935Z",
     "shell.execute_reply": "2025-05-15T16:10:59.523585Z"
    },
    "papermill": {
     "duration": 0.046563,
     "end_time": "2025-05-15T16:10:59.524981",
     "exception": false,
     "start_time": "2025-05-15T16:10:59.478418",
     "status": "completed"
    },
    "tags": []
   },
   "outputs": [],
   "source": [
    "out_dir = here(f'03_downstream_analysis/08_gene_importance/xgboost_external_validation/xgboost_TopN_genes/results_{N_GENES}/metrics')\n",
    "\n",
    "if not os.path.exists(out_dir):\n",
    "    os.makedirs(out_dir)\n",
    "    \n",
    "metrics_df.to_csv(os.path.join(out_dir, f'{CELL_TYPE}_{SEED}_{TEST_SPLIT_IDX}_metrics.zip'))"
   ]
  }
 ],
 "metadata": {
  "kernelspec": {
   "display_name": "Python 3 (ipykernel)",
   "language": "python",
   "name": "python3"
  },
  "language_info": {
   "codemirror_mode": {
    "name": "ipython",
    "version": 3
   },
   "file_extension": ".py",
   "mimetype": "text/x-python",
   "name": "python",
   "nbconvert_exporter": "python",
   "pygments_lexer": "ipython3",
   "version": "3.12.5"
  },
  "papermill": {
   "default_parameters": {},
   "duration": 554.286926,
   "end_time": "2025-05-15T16:11:00.253793",
   "environment_variables": {},
   "exception": null,
   "input_path": "02_xgboost_fitting_external_20genes.ipynb",
   "output_path": "results_20/executed_notebooks/xgboost_fitting_external_CT_T_CD4_Naive_GS_17_seed0.ipynb",
   "parameters": {
    "CELL_TYPE": "T_CD4_Naive",
    "SEED": 17,
    "TEST_SPLIT_IDX": 0
   },
   "start_time": "2025-05-15T16:01:45.966867",
   "version": "2.6.0"
  }
 },
 "nbformat": 4,
 "nbformat_minor": 5
}