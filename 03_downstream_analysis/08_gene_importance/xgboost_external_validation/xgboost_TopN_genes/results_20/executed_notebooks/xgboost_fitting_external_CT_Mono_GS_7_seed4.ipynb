{
 "cells": [
  {
   "cell_type": "code",
   "execution_count": 1,
   "id": "286edca3",
   "metadata": {
    "editable": true,
    "execution": {
     "iopub.execute_input": "2025-05-15T15:59:26.287303Z",
     "iopub.status.busy": "2025-05-15T15:59:26.287152Z",
     "iopub.status.idle": "2025-05-15T15:59:26.299878Z",
     "shell.execute_reply": "2025-05-15T15:59:26.299454Z"
    },
    "papermill": {
     "duration": 0.020392,
     "end_time": "2025-05-15T15:59:26.300790",
     "exception": false,
     "start_time": "2025-05-15T15:59:26.280398",
     "status": "completed"
    },
    "slideshow": {
     "slide_type": ""
    },
    "tags": [
     "parameters"
    ]
   },
   "outputs": [],
   "source": [
    "CELL_TYPE = 'pDC'\n",
    "N_GENES: int = 20\n",
    "SEED = 'shap_studyID' #'disease_NOstudy' 'study_NOdisease' or 'int' or 'shap_studyID'\n",
    "TEST_SPLIT_IDX: int = 1 #[0,4]"
   ]
  },
  {
   "cell_type": "code",
   "execution_count": 2,
   "id": "f683bf37",
   "metadata": {
    "execution": {
     "iopub.execute_input": "2025-05-15T15:59:26.313541Z",
     "iopub.status.busy": "2025-05-15T15:59:26.313196Z",
     "iopub.status.idle": "2025-05-15T15:59:26.315478Z",
     "shell.execute_reply": "2025-05-15T15:59:26.315179Z"
    },
    "papermill": {
     "duration": 0.008698,
     "end_time": "2025-05-15T15:59:26.316252",
     "exception": false,
     "start_time": "2025-05-15T15:59:26.307554",
     "status": "completed"
    },
    "tags": [
     "injected-parameters"
    ]
   },
   "outputs": [],
   "source": [
    "# Parameters\n",
    "CELL_TYPE = \"Mono\"\n",
    "SEED = 7\n",
    "TEST_SPLIT_IDX = 4\n"
   ]
  },
  {
   "cell_type": "code",
   "execution_count": 3,
   "id": "52ca1488",
   "metadata": {
    "execution": {
     "iopub.execute_input": "2025-05-15T15:59:26.337878Z",
     "iopub.status.busy": "2025-05-15T15:59:26.337566Z",
     "iopub.status.idle": "2025-05-15T15:59:26.339545Z",
     "shell.execute_reply": "2025-05-15T15:59:26.339244Z"
    },
    "papermill": {
     "duration": 0.018982,
     "end_time": "2025-05-15T15:59:26.340491",
     "exception": false,
     "start_time": "2025-05-15T15:59:26.321509",
     "status": "completed"
    },
    "tags": []
   },
   "outputs": [],
   "source": [
    "N_SPLITS: int = 5\n",
    "N_TRIALS: int = 50"
   ]
  },
  {
   "cell_type": "code",
   "execution_count": 4,
   "id": "ca67a630",
   "metadata": {
    "execution": {
     "iopub.execute_input": "2025-05-15T15:59:26.354305Z",
     "iopub.status.busy": "2025-05-15T15:59:26.354132Z",
     "iopub.status.idle": "2025-05-15T15:59:27.815117Z",
     "shell.execute_reply": "2025-05-15T15:59:27.814634Z"
    },
    "papermill": {
     "duration": 1.46954,
     "end_time": "2025-05-15T15:59:27.816098",
     "exception": false,
     "start_time": "2025-05-15T15:59:26.346558",
     "status": "completed"
    },
    "tags": []
   },
   "outputs": [],
   "source": [
    "import os\n",
    "import sys\n",
    "from pyprojroot.here import here\n",
    "import pandas as pd\n",
    "import anndata as ad\n",
    "import numpy as np\n",
    "import math\n",
    "from sklearn.model_selection import StratifiedGroupKFold\n",
    "from sklearn.preprocessing import LabelEncoder\n",
    "from sklearn.metrics import f1_score\n",
    "import matplotlib.pyplot as plt\n",
    "import seaborn as sns\n",
    "from itertools import product\n",
    "from sklearn.metrics import balanced_accuracy_score, f1_score\n",
    "import optuna\n",
    "\n",
    "import joblib\n",
    "import pickle\n",
    "import datetime\n",
    "\n",
    "import collections\n",
    "\n",
    "import xgboost\n",
    "from sklearn.preprocessing import LabelEncoder\n",
    "\n",
    "import scipy.sparse as ssp\n",
    "import joblib\n",
    "\n",
    "from dotenv import load_dotenv"
   ]
  },
  {
   "cell_type": "code",
   "execution_count": 5,
   "id": "0441e27b",
   "metadata": {
    "execution": {
     "iopub.execute_input": "2025-05-15T15:59:27.827822Z",
     "iopub.status.busy": "2025-05-15T15:59:27.827484Z",
     "iopub.status.idle": "2025-05-15T15:59:27.832878Z",
     "shell.execute_reply": "2025-05-15T15:59:27.832569Z"
    },
    "papermill": {
     "duration": 0.012105,
     "end_time": "2025-05-15T15:59:27.833703",
     "exception": false,
     "start_time": "2025-05-15T15:59:27.821598",
     "status": "completed"
    },
    "tags": []
   },
   "outputs": [
    {
     "data": {
      "text/plain": [
       "True"
      ]
     },
     "execution_count": 5,
     "metadata": {},
     "output_type": "execute_result"
    }
   ],
   "source": [
    "load_dotenv()"
   ]
  },
  {
   "cell_type": "markdown",
   "id": "60645268",
   "metadata": {
    "papermill": {
     "duration": 0.005139,
     "end_time": "2025-05-15T15:59:27.845941",
     "exception": false,
     "start_time": "2025-05-15T15:59:27.840802",
     "status": "completed"
    },
    "tags": []
   },
   "source": [
    "# LOAD DATASET"
   ]
  },
  {
   "cell_type": "code",
   "execution_count": 6,
   "id": "3d39d13c",
   "metadata": {
    "execution": {
     "iopub.execute_input": "2025-05-15T15:59:27.857299Z",
     "iopub.status.busy": "2025-05-15T15:59:27.857094Z",
     "iopub.status.idle": "2025-05-15T15:59:29.084375Z",
     "shell.execute_reply": "2025-05-15T15:59:29.083840Z"
    },
    "papermill": {
     "duration": 1.234282,
     "end_time": "2025-05-15T15:59:29.085437",
     "exception": false,
     "start_time": "2025-05-15T15:59:27.851155",
     "status": "completed"
    },
    "tags": []
   },
   "outputs": [],
   "source": [
    "train_adata = ad.read_h5ad(\n",
    "    here(f'03_downstream_analysis/08_gene_importance/xgboost_external_validation/xgboost_TopN_genes/data_cellTypes/EXTERNAL_{CELL_TYPE}.filtered.log1p.h5ad')\n",
    ")"
   ]
  },
  {
   "cell_type": "code",
   "execution_count": 7,
   "id": "b7160ba5",
   "metadata": {
    "execution": {
     "iopub.execute_input": "2025-05-15T15:59:29.098714Z",
     "iopub.status.busy": "2025-05-15T15:59:29.098348Z",
     "iopub.status.idle": "2025-05-15T15:59:29.131606Z",
     "shell.execute_reply": "2025-05-15T15:59:29.131224Z"
    },
    "papermill": {
     "duration": 0.039836,
     "end_time": "2025-05-15T15:59:29.132439",
     "exception": false,
     "start_time": "2025-05-15T15:59:29.092603",
     "status": "completed"
    },
    "tags": []
   },
   "outputs": [
    {
     "name": "stdout",
     "output_type": "stream",
     "text": [
      "['ENSG00000112561' 'ENSG00000183023' 'ENSG00000109787' 'ENSG00000131724'\n",
      " 'ENSG00000163563' 'ENSG00000113441' 'ENSG00000084207' 'ENSG00000167004'\n",
      " 'ENSG00000135503' 'ENSG00000204264' 'ENSG00000005339' 'ENSG00000100485'\n",
      " 'ENSG00000130066' 'ENSG00000129084' 'ENSG00000181631' 'ENSG00000183696'\n",
      " 'ENSG00000142166' 'ENSG00000179583' 'ENSG00000184752' 'ENSG00000135720'\n",
      " 'ENSG00000198223' 'ENSG00000124731' 'ENSG00000111275' 'ENSG00000163131'\n",
      " 'ENSG00000167863' 'ENSG00000143226' 'ENSG00000182117' 'ENSG00000127528'\n",
      " 'ENSG00000140379' 'ENSG00000147168' 'ENSG00000065978' 'ENSG00000104856'\n",
      " 'ENSG00000104763' 'ENSG00000156587' 'ENSG00000179218' 'ENSG00000085514'\n",
      " 'ENSG00000125743' 'ENSG00000089280' 'ENSG00000254087' 'ENSG00000197471'\n",
      " 'ENSG00000136156' 'ENSG00000168329' 'ENSG00000100079' 'ENSG00000155465'\n",
      " 'ENSG00000185291' 'ENSG00000204257' 'ENSG00000158769' 'ENSG00000122862'\n",
      " 'ENSG00000163513' 'ENSG00000197111' 'ENSG00000164104' 'ENSG00000196735'\n",
      " 'ENSG00000203747' 'ENSG00000135218' 'ENSG00000136732' 'ENSG00000132965'\n",
      " 'ENSG00000002586' 'ENSG00000185650' 'ENSG00000185950' 'ENSG00000116701'\n",
      " 'ENSG00000166847' 'ENSG00000166949' 'ENSG00000165140' 'ENSG00000240065'\n",
      " 'ENSG00000197746' 'ENSG00000026103' 'ENSG00000169442' 'ENSG00000110876'\n",
      " 'ENSG00000160213' 'ENSG00000030582' 'ENSG00000129757' 'ENSG00000161203'\n",
      " 'ENSG00000150337' 'ENSG00000170296' 'ENSG00000179344' 'ENSG00000185591'\n",
      " 'ENSG00000231389' 'ENSG00000008517' 'ENSG00000110077' 'ENSG00000277632'\n",
      " 'ENSG00000130830' 'ENSG00000104870' 'ENSG00000163931' 'ENSG00000104918'\n",
      " 'ENSG00000106952' 'ENSG00000138678' 'ENSG00000128340' 'ENSG00000169554'\n",
      " 'ENSG00000127184' 'ENSG00000138107' 'ENSG00000164543' 'ENSG00000143110'\n",
      " 'ENSG00000033800' 'ENSG00000175203' 'ENSG00000117984' 'ENSG00000158517'\n",
      " 'ENSG00000110203' 'ENSG00000164307' 'ENSG00000120738' 'ENSG00000152778'\n",
      " 'ENSG00000163823' 'ENSG00000139289' 'ENSG00000161642' 'ENSG00000197329'\n",
      " 'ENSG00000078043' 'ENSG00000127314' 'ENSG00000109861' 'ENSG00000028137'\n",
      " 'ENSG00000101017' 'ENSG00000100365' 'ENSG00000275302' 'ENSG00000197747'\n",
      " 'ENSG00000169403' 'ENSG00000143119']\n"
     ]
    }
   ],
   "source": [
    "if SEED != 'all':\n",
    "    gene_subset = np.load(here(f'03_downstream_analysis/08_gene_importance/xgboost_external_validation/shap_gene_selection/gene_subsets_{N_GENES}/{CELL_TYPE}_{SEED}.npy'), allow_pickle=True)\n",
    "    train_adata = train_adata[:,gene_subset]\n",
    "    print(gene_subset)\n",
    "elif SEED == 'all':\n",
    "    print('Using all genes')\n",
    "else:\n",
    "    raise ValueError()"
   ]
  },
  {
   "cell_type": "code",
   "execution_count": 8,
   "id": "579739d2",
   "metadata": {
    "execution": {
     "iopub.execute_input": "2025-05-15T15:59:29.144957Z",
     "iopub.status.busy": "2025-05-15T15:59:29.144413Z",
     "iopub.status.idle": "2025-05-15T15:59:29.147656Z",
     "shell.execute_reply": "2025-05-15T15:59:29.147346Z"
    },
    "papermill": {
     "duration": 0.010677,
     "end_time": "2025-05-15T15:59:29.148464",
     "exception": false,
     "start_time": "2025-05-15T15:59:29.137787",
     "status": "completed"
    },
    "tags": []
   },
   "outputs": [
    {
     "data": {
      "text/plain": [
       "(137435, 114)"
      ]
     },
     "execution_count": 8,
     "metadata": {},
     "output_type": "execute_result"
    }
   ],
   "source": [
    "train_adata.shape"
   ]
  },
  {
   "cell_type": "code",
   "execution_count": 9,
   "id": "dc3b9ab4",
   "metadata": {
    "execution": {
     "iopub.execute_input": "2025-05-15T15:59:29.160289Z",
     "iopub.status.busy": "2025-05-15T15:59:29.159836Z",
     "iopub.status.idle": "2025-05-15T15:59:29.164065Z",
     "shell.execute_reply": "2025-05-15T15:59:29.163757Z"
    },
    "papermill": {
     "duration": 0.010765,
     "end_time": "2025-05-15T15:59:29.164883",
     "exception": false,
     "start_time": "2025-05-15T15:59:29.154118",
     "status": "completed"
    },
    "tags": []
   },
   "outputs": [
    {
     "data": {
      "text/plain": [
       "['RA', 'healthy', 'COVID', 'HIV', 'cirrhosis', 'CD', 'SLE', 'sepsis']\n",
       "Categories (8, object): ['CD', 'COVID', 'HIV', 'RA', 'SLE', 'cirrhosis', 'healthy', 'sepsis']"
      ]
     },
     "execution_count": 9,
     "metadata": {},
     "output_type": "execute_result"
    }
   ],
   "source": [
    "train_adata.obs.disease.unique()"
   ]
  },
  {
   "cell_type": "code",
   "execution_count": 10,
   "id": "503d85a5",
   "metadata": {
    "execution": {
     "iopub.execute_input": "2025-05-15T15:59:29.176733Z",
     "iopub.status.busy": "2025-05-15T15:59:29.176378Z",
     "iopub.status.idle": "2025-05-15T15:59:29.180354Z",
     "shell.execute_reply": "2025-05-15T15:59:29.180039Z"
    },
    "papermill": {
     "duration": 0.01085,
     "end_time": "2025-05-15T15:59:29.181222",
     "exception": false,
     "start_time": "2025-05-15T15:59:29.170372",
     "status": "completed"
    },
    "tags": []
   },
   "outputs": [
    {
     "data": {
      "text/plain": [
       "['SCGT00val_I0364_T0', 'SCGT00val_I036028_T0', 'SCGT00val_I036024_T0', 'SCGT00val_I036023_T0', 'SCGT00val_I036019_T0', ..., '10XGenomics_10XHC2_T0', '10XGenomics_10XHC3_T0', '10XGenomics_10XHC5_T0', '10XGenomics_10XHC7_T0', '10XGenomics_10XHC8_T0']\n",
       "Length: 86\n",
       "Categories (86, object): ['10XGenomics_10XHC1_T0', '10XGenomics_10XHC2_T0', '10XGenomics_10XHC3_T0', '10XGenomics_10XHC4_T0', ..., 'Savage2021_BRISL6_T0', 'Savage2021_BRISL7_T0', 'Savage2021_PIDA_T0', 'Savage2021_PIDB_T0']"
      ]
     },
     "execution_count": 10,
     "metadata": {},
     "output_type": "execute_result"
    }
   ],
   "source": [
    "train_adata.obs.sampleID.unique()"
   ]
  },
  {
   "cell_type": "code",
   "execution_count": 11,
   "id": "5ac6e156",
   "metadata": {
    "execution": {
     "iopub.execute_input": "2025-05-15T15:59:29.203411Z",
     "iopub.status.busy": "2025-05-15T15:59:29.203229Z",
     "iopub.status.idle": "2025-05-15T15:59:29.542270Z",
     "shell.execute_reply": "2025-05-15T15:59:29.541788Z"
    },
    "papermill": {
     "duration": 0.355019,
     "end_time": "2025-05-15T15:59:29.543181",
     "exception": false,
     "start_time": "2025-05-15T15:59:29.188162",
     "status": "completed"
    },
    "tags": []
   },
   "outputs": [],
   "source": [
    "all_idxs = np.arange(train_adata.obs.shape[0])\n",
    "left_out_splits = [s[1] for s in StratifiedGroupKFold(n_splits=N_SPLITS).split(all_idxs, train_adata.obs.disease, train_adata.obs.sampleID)]"
   ]
  },
  {
   "cell_type": "code",
   "execution_count": 12,
   "id": "f973f028",
   "metadata": {
    "execution": {
     "iopub.execute_input": "2025-05-15T15:59:29.555424Z",
     "iopub.status.busy": "2025-05-15T15:59:29.555017Z",
     "iopub.status.idle": "2025-05-15T15:59:29.558523Z",
     "shell.execute_reply": "2025-05-15T15:59:29.558228Z"
    },
    "papermill": {
     "duration": 0.01031,
     "end_time": "2025-05-15T15:59:29.559310",
     "exception": false,
     "start_time": "2025-05-15T15:59:29.549000",
     "status": "completed"
    },
    "tags": []
   },
   "outputs": [
    {
     "data": {
      "text/plain": [
       "([1, 2, 3], 0, 4)"
      ]
     },
     "execution_count": 12,
     "metadata": {},
     "output_type": "execute_result"
    }
   ],
   "source": [
    "TRAIN_SPLIT_IDXS = [0,1,2,3,4]\n",
    "VAL_SPLIT_IDX = (TEST_SPLIT_IDX + 1) % 5\n",
    "TRAIN_SPLIT_IDXS.remove(TEST_SPLIT_IDX)\n",
    "TRAIN_SPLIT_IDXS.remove(VAL_SPLIT_IDX)\n",
    "TRAIN_SPLIT_IDXS, VAL_SPLIT_IDX, TEST_SPLIT_IDX"
   ]
  },
  {
   "cell_type": "code",
   "execution_count": 13,
   "id": "458338fb",
   "metadata": {
    "execution": {
     "iopub.execute_input": "2025-05-15T15:59:29.579389Z",
     "iopub.status.busy": "2025-05-15T15:59:29.579195Z",
     "iopub.status.idle": "2025-05-15T15:59:29.581701Z",
     "shell.execute_reply": "2025-05-15T15:59:29.581397Z"
    },
    "papermill": {
     "duration": 0.009354,
     "end_time": "2025-05-15T15:59:29.582492",
     "exception": false,
     "start_time": "2025-05-15T15:59:29.573138",
     "status": "completed"
    },
    "tags": []
   },
   "outputs": [],
   "source": [
    "train_idxs = np.concatenate([left_out_splits[idx] for idx in TRAIN_SPLIT_IDXS])\n",
    "val_idxs = left_out_splits[VAL_SPLIT_IDX]\n",
    "test_idxs = left_out_splits[TEST_SPLIT_IDX]"
   ]
  },
  {
   "cell_type": "markdown",
   "id": "01cd06dd",
   "metadata": {
    "papermill": {
     "duration": 0.005596,
     "end_time": "2025-05-15T15:59:29.593632",
     "exception": false,
     "start_time": "2025-05-15T15:59:29.588036",
     "status": "completed"
    },
    "tags": []
   },
   "source": [
    "### SUBSET DATASET INTO TRAIN/TEST/VAL SPLITS"
   ]
  },
  {
   "cell_type": "code",
   "execution_count": 14,
   "id": "ca002983",
   "metadata": {
    "execution": {
     "iopub.execute_input": "2025-05-15T15:59:29.605336Z",
     "iopub.status.busy": "2025-05-15T15:59:29.605146Z",
     "iopub.status.idle": "2025-05-15T15:59:30.079887Z",
     "shell.execute_reply": "2025-05-15T15:59:30.079513Z"
    },
    "papermill": {
     "duration": 0.481521,
     "end_time": "2025-05-15T15:59:30.080695",
     "exception": false,
     "start_time": "2025-05-15T15:59:29.599174",
     "status": "completed"
    },
    "tags": []
   },
   "outputs": [
    {
     "data": {
      "text/plain": [
       "((82984, 114), (27037, 114), (27414, 114))"
      ]
     },
     "execution_count": 14,
     "metadata": {},
     "output_type": "execute_result"
    }
   ],
   "source": [
    "X_train = train_adata.X[train_idxs]\n",
    "X_test = train_adata.X[test_idxs]\n",
    "X_val = train_adata.X[val_idxs]\n",
    "X_train.shape, X_test.shape, X_val.shape"
   ]
  },
  {
   "cell_type": "code",
   "execution_count": 15,
   "id": "0aa7b484",
   "metadata": {
    "execution": {
     "iopub.execute_input": "2025-05-15T15:59:30.093613Z",
     "iopub.status.busy": "2025-05-15T15:59:30.093418Z",
     "iopub.status.idle": "2025-05-15T15:59:30.106399Z",
     "shell.execute_reply": "2025-05-15T15:59:30.106033Z"
    },
    "papermill": {
     "duration": 0.020223,
     "end_time": "2025-05-15T15:59:30.107204",
     "exception": false,
     "start_time": "2025-05-15T15:59:30.086981",
     "status": "completed"
    },
    "tags": []
   },
   "outputs": [
    {
     "data": {
      "text/plain": [
       "((82984,), (27037,), (27414,))"
      ]
     },
     "execution_count": 15,
     "metadata": {},
     "output_type": "execute_result"
    }
   ],
   "source": [
    "y_train = train_adata.obs.iloc[train_idxs].disease.values.astype(str)\n",
    "y_test = train_adata.obs.iloc[test_idxs].disease.values.astype(str)\n",
    "y_val = train_adata.obs.iloc[val_idxs].disease.values.astype(str)\n",
    "y_train.shape, y_test.shape, y_val.shape"
   ]
  },
  {
   "cell_type": "code",
   "execution_count": 16,
   "id": "1126f09e",
   "metadata": {
    "execution": {
     "iopub.execute_input": "2025-05-15T15:59:30.119215Z",
     "iopub.status.busy": "2025-05-15T15:59:30.119011Z",
     "iopub.status.idle": "2025-05-15T15:59:30.150371Z",
     "shell.execute_reply": "2025-05-15T15:59:30.149856Z"
    },
    "papermill": {
     "duration": 0.03831,
     "end_time": "2025-05-15T15:59:30.151291",
     "exception": false,
     "start_time": "2025-05-15T15:59:30.112981",
     "status": "completed"
    },
    "tags": []
   },
   "outputs": [],
   "source": [
    "lenc = LabelEncoder()\n",
    "y_train_enc = lenc.fit_transform(y_train)\n",
    "y_val_enc = lenc.transform(y_val)\n",
    "y_test_enc = lenc.transform(y_test)"
   ]
  },
  {
   "cell_type": "markdown",
   "id": "d3aec972",
   "metadata": {
    "papermill": {
     "duration": 0.005965,
     "end_time": "2025-05-15T15:59:30.164161",
     "exception": false,
     "start_time": "2025-05-15T15:59:30.158196",
     "status": "completed"
    },
    "tags": []
   },
   "source": [
    "### GENERATE F1 "
   ]
  },
  {
   "cell_type": "code",
   "execution_count": 17,
   "id": "98d6171d",
   "metadata": {
    "execution": {
     "iopub.execute_input": "2025-05-15T15:59:30.177951Z",
     "iopub.status.busy": "2025-05-15T15:59:30.177515Z",
     "iopub.status.idle": "2025-05-15T15:59:30.180084Z",
     "shell.execute_reply": "2025-05-15T15:59:30.179760Z"
    },
    "papermill": {
     "duration": 0.010431,
     "end_time": "2025-05-15T15:59:30.180906",
     "exception": false,
     "start_time": "2025-05-15T15:59:30.170475",
     "status": "completed"
    },
    "tags": []
   },
   "outputs": [],
   "source": [
    "def custom_f1_score(y_true, y_pred):\n",
    "    return -f1_score(y_true, y_pred.argmax(1), average='weighted')"
   ]
  },
  {
   "cell_type": "code",
   "execution_count": 18,
   "id": "ac969394",
   "metadata": {
    "execution": {
     "iopub.execute_input": "2025-05-15T15:59:30.193906Z",
     "iopub.status.busy": "2025-05-15T15:59:30.193524Z",
     "iopub.status.idle": "2025-05-15T15:59:30.197332Z",
     "shell.execute_reply": "2025-05-15T15:59:30.197011Z"
    },
    "papermill": {
     "duration": 0.011421,
     "end_time": "2025-05-15T15:59:30.198141",
     "exception": false,
     "start_time": "2025-05-15T15:59:30.186720",
     "status": "completed"
    },
    "tags": []
   },
   "outputs": [],
   "source": [
    "eval_metric=custom_f1_score\n",
    "eval_metric_name='custom_f1_score'\n",
    "\n",
    "def objective(trial):\n",
    "    params = {\n",
    "        'n_estimators': 1500,\n",
    "        'max_depth': trial.suggest_int('max_depth', 3, 20),\n",
    "        'min_child_weight': trial.suggest_int('min_child_weight', 1, 250),\n",
    "        'subsample': trial.suggest_float('subsample', 0.1, 1.0),\n",
    "        'colsample_bynode': trial.suggest_float('colsample_bynode', 0.1, 1.0),\n",
    "        'learning_rate': trial.suggest_float('learning_rate', 1e-3, 5e-1, log=True),\n",
    "    }\n",
    "    pruning_callback = optuna.integration.XGBoostPruningCallback(trial, f'validation_0-{eval_metric_name}')\n",
    "    es_callback = xgboost.callback.EarlyStopping(20, min_delta=0.001)\n",
    "    xgb = xgboost.XGBClassifier(\n",
    "        eval_metric=eval_metric,\n",
    "        callbacks=[pruning_callback, es_callback],\n",
    "        n_jobs=5,\n",
    "        **params\n",
    "    )\n",
    "    xgb.fit(\n",
    "        X_train, \n",
    "        y_train_enc, \n",
    "        verbose=0,\n",
    "        eval_set=[(X_val, y_val_enc)],\n",
    "    )\n",
    "    trial.set_user_attr('best_iteration', xgb.best_iteration)\n",
    "\n",
    "    return xgb.best_score"
   ]
  },
  {
   "cell_type": "code",
   "execution_count": 19,
   "id": "611b7af0",
   "metadata": {
    "execution": {
     "iopub.execute_input": "2025-05-15T15:59:30.211072Z",
     "iopub.status.busy": "2025-05-15T15:59:30.210712Z",
     "iopub.status.idle": "2025-05-15T16:12:31.218160Z",
     "shell.execute_reply": "2025-05-15T16:12:31.217625Z"
    },
    "papermill": {
     "duration": 781.015255,
     "end_time": "2025-05-15T16:12:31.219207",
     "exception": false,
     "start_time": "2025-05-15T15:59:30.203952",
     "status": "completed"
    },
    "scrolled": true,
    "tags": []
   },
   "outputs": [
    {
     "name": "stderr",
     "output_type": "stream",
     "text": [
      "[I 2025-05-15 17:59:30,212] A new study created in memory with name: no-name-4d331f9b-4cb2-4de7-907e-9f5316bfd8f8\n"
     ]
    },
    {
     "name": "stderr",
     "output_type": "stream",
     "text": [
      "[I 2025-05-15 17:59:47,785] Trial 0 finished with value: -0.730601 and parameters: {'max_depth': 9, 'min_child_weight': 238, 'subsample': 0.7587945476302645, 'colsample_bynode': 0.6387926357773329, 'learning_rate': 0.0026368755339723046}. Best is trial 0 with value: -0.730601.\n"
     ]
    },
    {
     "name": "stderr",
     "output_type": "stream",
     "text": [
      "[I 2025-05-15 18:00:47,992] Trial 1 finished with value: -0.825946 and parameters: {'max_depth': 5, 'min_child_weight': 15, 'subsample': 0.8795585311974417, 'colsample_bynode': 0.6410035105688879, 'learning_rate': 0.08148293210105287}. Best is trial 1 with value: -0.825946.\n"
     ]
    },
    {
     "name": "stderr",
     "output_type": "stream",
     "text": [
      "[I 2025-05-15 18:00:52,628] Trial 2 finished with value: -0.65131 and parameters: {'max_depth': 3, 'min_child_weight': 243, 'subsample': 0.8491983767203796, 'colsample_bynode': 0.29110519961044856, 'learning_rate': 0.003095566460242371}. Best is trial 1 with value: -0.825946.\n"
     ]
    },
    {
     "name": "stderr",
     "output_type": "stream",
     "text": [
      "[I 2025-05-15 18:01:27,273] Trial 3 finished with value: -0.756343 and parameters: {'max_depth': 6, 'min_child_weight': 77, 'subsample': 0.5722807884690141, 'colsample_bynode': 0.48875051677790415, 'learning_rate': 0.006109683510122491}. Best is trial 1 with value: -0.825946.\n"
     ]
    },
    {
     "name": "stderr",
     "output_type": "stream",
     "text": [
      "[I 2025-05-15 18:03:04,363] Trial 4 finished with value: -0.804017 and parameters: {'max_depth': 14, 'min_child_weight': 35, 'subsample': 0.3629301836816964, 'colsample_bynode': 0.4297256589643226, 'learning_rate': 0.01701841881702917}. Best is trial 1 with value: -0.825946.\n"
     ]
    },
    {
     "name": "stderr",
     "output_type": "stream",
     "text": [
      "[I 2025-05-15 18:03:15,622] Trial 5 pruned. Trial was pruned at iteration 23.\n"
     ]
    },
    {
     "name": "stderr",
     "output_type": "stream",
     "text": [
      "[I 2025-05-15 18:03:38,575] Trial 6 finished with value: -0.822303 and parameters: {'max_depth': 13, 'min_child_weight': 43, 'subsample': 0.1585464336867516, 'colsample_bynode': 0.9539969835279999, 'learning_rate': 0.4038423798071558}. Best is trial 1 with value: -0.825946.\n"
     ]
    },
    {
     "name": "stderr",
     "output_type": "stream",
     "text": [
      "[I 2025-05-15 18:03:39,236] Trial 7 pruned. Trial was pruned at iteration 0.\n"
     ]
    },
    {
     "name": "stderr",
     "output_type": "stream",
     "text": [
      "[I 2025-05-15 18:03:39,860] Trial 8 pruned. Trial was pruned at iteration 0.\n"
     ]
    },
    {
     "name": "stderr",
     "output_type": "stream",
     "text": [
      "[I 2025-05-15 18:03:40,873] Trial 9 pruned. Trial was pruned at iteration 1.\n"
     ]
    },
    {
     "name": "stderr",
     "output_type": "stream",
     "text": [
      "[I 2025-05-15 18:03:41,702] Trial 10 pruned. Trial was pruned at iteration 0.\n"
     ]
    },
    {
     "name": "stderr",
     "output_type": "stream",
     "text": [
      "[I 2025-05-15 18:04:22,862] Trial 11 finished with value: -0.824221 and parameters: {'max_depth': 11, 'min_child_weight': 3, 'subsample': 0.35229864280210643, 'colsample_bynode': 0.9522656887511343, 'learning_rate': 0.4085535814821633}. Best is trial 1 with value: -0.825946.\n"
     ]
    },
    {
     "name": "stderr",
     "output_type": "stream",
     "text": [
      "[I 2025-05-15 18:06:23,492] Trial 12 finished with value: -0.823689 and parameters: {'max_depth': 20, 'min_child_weight': 3, 'subsample': 0.3693916175642251, 'colsample_bynode': 0.8079926877007318, 'learning_rate': 0.08811282856865725}. Best is trial 1 with value: -0.825946.\n"
     ]
    },
    {
     "name": "stderr",
     "output_type": "stream",
     "text": [
      "[I 2025-05-15 18:06:24,261] Trial 13 pruned. Trial was pruned at iteration 0.\n"
     ]
    },
    {
     "name": "stderr",
     "output_type": "stream",
     "text": [
      "[I 2025-05-15 18:06:25,009] Trial 14 pruned. Trial was pruned at iteration 0.\n"
     ]
    },
    {
     "name": "stderr",
     "output_type": "stream",
     "text": [
      "[I 2025-05-15 18:06:25,719] Trial 15 pruned. Trial was pruned at iteration 0.\n"
     ]
    },
    {
     "name": "stderr",
     "output_type": "stream",
     "text": [
      "[I 2025-05-15 18:06:26,458] Trial 16 pruned. Trial was pruned at iteration 0.\n"
     ]
    },
    {
     "name": "stderr",
     "output_type": "stream",
     "text": [
      "[I 2025-05-15 18:06:27,202] Trial 17 pruned. Trial was pruned at iteration 0.\n"
     ]
    },
    {
     "name": "stderr",
     "output_type": "stream",
     "text": [
      "[I 2025-05-15 18:07:31,105] Trial 18 finished with value: -0.831627 and parameters: {'max_depth': 7, 'min_child_weight': 37, 'subsample': 0.7067229712126947, 'colsample_bynode': 0.7202402406863758, 'learning_rate': 0.08999611060973836}. Best is trial 18 with value: -0.831627.\n"
     ]
    },
    {
     "name": "stderr",
     "output_type": "stream",
     "text": [
      "[I 2025-05-15 18:07:32,065] Trial 19 pruned. Trial was pruned at iteration 1.\n"
     ]
    },
    {
     "name": "stderr",
     "output_type": "stream",
     "text": [
      "[I 2025-05-15 18:07:48,383] Trial 20 pruned. Trial was pruned at iteration 53.\n"
     ]
    },
    {
     "name": "stderr",
     "output_type": "stream",
     "text": [
      "[I 2025-05-15 18:08:17,222] Trial 21 finished with value: -0.830626 and parameters: {'max_depth': 8, 'min_child_weight': 24, 'subsample': 0.6633981323438212, 'colsample_bynode': 0.7215904962585263, 'learning_rate': 0.286548167829825}. Best is trial 18 with value: -0.831627.\n"
     ]
    },
    {
     "name": "stderr",
     "output_type": "stream",
     "text": [
      "[I 2025-05-15 18:08:24,185] Trial 22 pruned. Trial was pruned at iteration 22.\n"
     ]
    },
    {
     "name": "stderr",
     "output_type": "stream",
     "text": [
      "[I 2025-05-15 18:08:24,933] Trial 23 pruned. Trial was pruned at iteration 0.\n"
     ]
    },
    {
     "name": "stderr",
     "output_type": "stream",
     "text": [
      "[I 2025-05-15 18:08:25,639] Trial 24 pruned. Trial was pruned at iteration 0.\n"
     ]
    },
    {
     "name": "stderr",
     "output_type": "stream",
     "text": [
      "[I 2025-05-15 18:08:31,228] Trial 25 pruned. Trial was pruned at iteration 16.\n"
     ]
    },
    {
     "name": "stderr",
     "output_type": "stream",
     "text": [
      "[I 2025-05-15 18:08:32,010] Trial 26 pruned. Trial was pruned at iteration 0.\n"
     ]
    },
    {
     "name": "stderr",
     "output_type": "stream",
     "text": [
      "[I 2025-05-15 18:08:32,730] Trial 27 pruned. Trial was pruned at iteration 0.\n"
     ]
    },
    {
     "name": "stderr",
     "output_type": "stream",
     "text": [
      "[I 2025-05-15 18:08:39,307] Trial 28 pruned. Trial was pruned at iteration 16.\n"
     ]
    },
    {
     "name": "stderr",
     "output_type": "stream",
     "text": [
      "[I 2025-05-15 18:08:40,053] Trial 29 pruned. Trial was pruned at iteration 0.\n"
     ]
    },
    {
     "name": "stderr",
     "output_type": "stream",
     "text": [
      "[I 2025-05-15 18:08:40,746] Trial 30 pruned. Trial was pruned at iteration 0.\n"
     ]
    },
    {
     "name": "stderr",
     "output_type": "stream",
     "text": [
      "[I 2025-05-15 18:09:18,044] Trial 31 finished with value: -0.831618 and parameters: {'max_depth': 12, 'min_child_weight': 14, 'subsample': 0.49359281663190835, 'colsample_bynode': 0.8928625358880699, 'learning_rate': 0.3471881216285274}. Best is trial 18 with value: -0.831627.\n"
     ]
    },
    {
     "name": "stderr",
     "output_type": "stream",
     "text": [
      "[I 2025-05-15 18:10:05,953] Trial 32 finished with value: -0.830595 and parameters: {'max_depth': 12, 'min_child_weight': 42, 'subsample': 0.4909799580972303, 'colsample_bynode': 0.8659118953350515, 'learning_rate': 0.14834555413278896}. Best is trial 18 with value: -0.831627.\n"
     ]
    },
    {
     "name": "stderr",
     "output_type": "stream",
     "text": [
      "[I 2025-05-15 18:10:06,824] Trial 33 pruned. Trial was pruned at iteration 0.\n"
     ]
    },
    {
     "name": "stderr",
     "output_type": "stream",
     "text": [
      "[I 2025-05-15 18:10:07,677] Trial 34 pruned. Trial was pruned at iteration 0.\n"
     ]
    },
    {
     "name": "stderr",
     "output_type": "stream",
     "text": [
      "[I 2025-05-15 18:10:55,391] Trial 35 finished with value: -0.828121 and parameters: {'max_depth': 16, 'min_child_weight': 17, 'subsample': 0.6106087048202125, 'colsample_bynode': 0.8360249492221067, 'learning_rate': 0.16787278231901082}. Best is trial 18 with value: -0.831627.\n"
     ]
    },
    {
     "name": "stderr",
     "output_type": "stream",
     "text": [
      "[I 2025-05-15 18:10:56,305] Trial 36 pruned. Trial was pruned at iteration 0.\n"
     ]
    },
    {
     "name": "stderr",
     "output_type": "stream",
     "text": [
      "[I 2025-05-15 18:10:57,167] Trial 37 pruned. Trial was pruned at iteration 0.\n"
     ]
    },
    {
     "name": "stderr",
     "output_type": "stream",
     "text": [
      "[I 2025-05-15 18:10:58,003] Trial 38 pruned. Trial was pruned at iteration 0.\n"
     ]
    },
    {
     "name": "stderr",
     "output_type": "stream",
     "text": [
      "[I 2025-05-15 18:11:24,581] Trial 39 finished with value: -0.83028 and parameters: {'max_depth': 13, 'min_child_weight': 33, 'subsample': 0.6065504624297638, 'colsample_bynode': 0.8300920945444394, 'learning_rate': 0.4727363411197455}. Best is trial 18 with value: -0.831627.\n"
     ]
    },
    {
     "name": "stderr",
     "output_type": "stream",
     "text": [
      "[I 2025-05-15 18:11:31,485] Trial 40 pruned. Trial was pruned at iteration 8.\n"
     ]
    },
    {
     "name": "stderr",
     "output_type": "stream",
     "text": [
      "[I 2025-05-15 18:11:56,420] Trial 41 finished with value: -0.829421 and parameters: {'max_depth': 13, 'min_child_weight': 34, 'subsample': 0.5688715534211177, 'colsample_bynode': 0.8537288137549117, 'learning_rate': 0.4797688109427329}. Best is trial 18 with value: -0.831627.\n"
     ]
    },
    {
     "name": "stderr",
     "output_type": "stream",
     "text": [
      "[I 2025-05-15 18:11:57,208] Trial 42 pruned. Trial was pruned at iteration 0.\n"
     ]
    },
    {
     "name": "stderr",
     "output_type": "stream",
     "text": [
      "[I 2025-05-15 18:12:24,168] Trial 43 finished with value: -0.832031 and parameters: {'max_depth': 10, 'min_child_weight': 31, 'subsample': 0.6025182645779363, 'colsample_bynode': 0.8894731617543151, 'learning_rate': 0.36166713805082223}. Best is trial 43 with value: -0.832031.\n"
     ]
    },
    {
     "name": "stderr",
     "output_type": "stream",
     "text": [
      "[I 2025-05-15 18:12:24,958] Trial 44 pruned. Trial was pruned at iteration 0.\n"
     ]
    },
    {
     "name": "stderr",
     "output_type": "stream",
     "text": [
      "[I 2025-05-15 18:12:27,834] Trial 45 pruned. Trial was pruned at iteration 5.\n"
     ]
    },
    {
     "name": "stderr",
     "output_type": "stream",
     "text": [
      "[I 2025-05-15 18:12:28,681] Trial 46 pruned. Trial was pruned at iteration 0.\n"
     ]
    },
    {
     "name": "stderr",
     "output_type": "stream",
     "text": [
      "[I 2025-05-15 18:12:29,509] Trial 47 pruned. Trial was pruned at iteration 0.\n"
     ]
    },
    {
     "name": "stderr",
     "output_type": "stream",
     "text": [
      "[I 2025-05-15 18:12:30,362] Trial 48 pruned. Trial was pruned at iteration 0.\n"
     ]
    },
    {
     "name": "stderr",
     "output_type": "stream",
     "text": [
      "[I 2025-05-15 18:12:31,104] Trial 49 pruned. Trial was pruned at iteration 0.\n"
     ]
    }
   ],
   "source": [
    "sampler = optuna.samplers.TPESampler(seed=42)\n",
    "study = optuna.create_study(direction='minimize', sampler=sampler)\n",
    "study.optimize(objective, n_trials=N_TRIALS, gc_after_trial=True)"
   ]
  },
  {
   "cell_type": "code",
   "execution_count": 20,
   "id": "229e6a10",
   "metadata": {
    "execution": {
     "iopub.execute_input": "2025-05-15T16:12:31.260526Z",
     "iopub.status.busy": "2025-05-15T16:12:31.260307Z",
     "iopub.status.idle": "2025-05-15T16:12:31.286166Z",
     "shell.execute_reply": "2025-05-15T16:12:31.285838Z"
    },
    "papermill": {
     "duration": 0.056216,
     "end_time": "2025-05-15T16:12:31.287004",
     "exception": false,
     "start_time": "2025-05-15T16:12:31.230788",
     "status": "completed"
    },
    "tags": []
   },
   "outputs": [
    {
     "data": {
      "text/plain": [
       "['/scratch_isilon/groups/singlecell/shared/projects/Inflammation-PBMCs-Atlas/03_downstream_analysis/08_gene_importance/xgboost_external_validation/xgboost_TopN_genes/results_20/study/Mono_7_4_xgboost.pkl']"
      ]
     },
     "execution_count": 20,
     "metadata": {},
     "output_type": "execute_result"
    }
   ],
   "source": [
    "out_dir = here(f'03_downstream_analysis/08_gene_importance/xgboost_external_validation/xgboost_TopN_genes/results_{N_GENES}/study')\n",
    "\n",
    "if not os.path.exists(out_dir):\n",
    "    os.makedirs(out_dir)\n",
    "    \n",
    "joblib.dump(study,os.path.join(out_dir, f'{CELL_TYPE}_{SEED}_{TEST_SPLIT_IDX}_xgboost.pkl'))"
   ]
  },
  {
   "cell_type": "code",
   "execution_count": 21,
   "id": "1e605837",
   "metadata": {
    "execution": {
     "iopub.execute_input": "2025-05-15T16:12:31.306414Z",
     "iopub.status.busy": "2025-05-15T16:12:31.306230Z",
     "iopub.status.idle": "2025-05-15T16:12:46.783221Z",
     "shell.execute_reply": "2025-05-15T16:12:46.782841Z"
    },
    "papermill": {
     "duration": 15.488778,
     "end_time": "2025-05-15T16:12:46.784697",
     "exception": false,
     "start_time": "2025-05-15T16:12:31.295919",
     "status": "completed"
    },
    "tags": []
   },
   "outputs": [
    {
     "data": {
      "text/html": [
       "<style>#sk-container-id-1 {\n",
       "  /* Definition of color scheme common for light and dark mode */\n",
       "  --sklearn-color-text: black;\n",
       "  --sklearn-color-line: gray;\n",
       "  /* Definition of color scheme for unfitted estimators */\n",
       "  --sklearn-color-unfitted-level-0: #fff5e6;\n",
       "  --sklearn-color-unfitted-level-1: #f6e4d2;\n",
       "  --sklearn-color-unfitted-level-2: #ffe0b3;\n",
       "  --sklearn-color-unfitted-level-3: chocolate;\n",
       "  /* Definition of color scheme for fitted estimators */\n",
       "  --sklearn-color-fitted-level-0: #f0f8ff;\n",
       "  --sklearn-color-fitted-level-1: #d4ebff;\n",
       "  --sklearn-color-fitted-level-2: #b3dbfd;\n",
       "  --sklearn-color-fitted-level-3: cornflowerblue;\n",
       "\n",
       "  /* Specific color for light theme */\n",
       "  --sklearn-color-text-on-default-background: var(--sg-text-color, var(--theme-code-foreground, var(--jp-content-font-color1, black)));\n",
       "  --sklearn-color-background: var(--sg-background-color, var(--theme-background, var(--jp-layout-color0, white)));\n",
       "  --sklearn-color-border-box: var(--sg-text-color, var(--theme-code-foreground, var(--jp-content-font-color1, black)));\n",
       "  --sklearn-color-icon: #696969;\n",
       "\n",
       "  @media (prefers-color-scheme: dark) {\n",
       "    /* Redefinition of color scheme for dark theme */\n",
       "    --sklearn-color-text-on-default-background: var(--sg-text-color, var(--theme-code-foreground, var(--jp-content-font-color1, white)));\n",
       "    --sklearn-color-background: var(--sg-background-color, var(--theme-background, var(--jp-layout-color0, #111)));\n",
       "    --sklearn-color-border-box: var(--sg-text-color, var(--theme-code-foreground, var(--jp-content-font-color1, white)));\n",
       "    --sklearn-color-icon: #878787;\n",
       "  }\n",
       "}\n",
       "\n",
       "#sk-container-id-1 {\n",
       "  color: var(--sklearn-color-text);\n",
       "}\n",
       "\n",
       "#sk-container-id-1 pre {\n",
       "  padding: 0;\n",
       "}\n",
       "\n",
       "#sk-container-id-1 input.sk-hidden--visually {\n",
       "  border: 0;\n",
       "  clip: rect(1px 1px 1px 1px);\n",
       "  clip: rect(1px, 1px, 1px, 1px);\n",
       "  height: 1px;\n",
       "  margin: -1px;\n",
       "  overflow: hidden;\n",
       "  padding: 0;\n",
       "  position: absolute;\n",
       "  width: 1px;\n",
       "}\n",
       "\n",
       "#sk-container-id-1 div.sk-dashed-wrapped {\n",
       "  border: 1px dashed var(--sklearn-color-line);\n",
       "  margin: 0 0.4em 0.5em 0.4em;\n",
       "  box-sizing: border-box;\n",
       "  padding-bottom: 0.4em;\n",
       "  background-color: var(--sklearn-color-background);\n",
       "}\n",
       "\n",
       "#sk-container-id-1 div.sk-container {\n",
       "  /* jupyter's `normalize.less` sets `[hidden] { display: none; }`\n",
       "     but bootstrap.min.css set `[hidden] { display: none !important; }`\n",
       "     so we also need the `!important` here to be able to override the\n",
       "     default hidden behavior on the sphinx rendered scikit-learn.org.\n",
       "     See: https://github.com/scikit-learn/scikit-learn/issues/21755 */\n",
       "  display: inline-block !important;\n",
       "  position: relative;\n",
       "}\n",
       "\n",
       "#sk-container-id-1 div.sk-text-repr-fallback {\n",
       "  display: none;\n",
       "}\n",
       "\n",
       "div.sk-parallel-item,\n",
       "div.sk-serial,\n",
       "div.sk-item {\n",
       "  /* draw centered vertical line to link estimators */\n",
       "  background-image: linear-gradient(var(--sklearn-color-text-on-default-background), var(--sklearn-color-text-on-default-background));\n",
       "  background-size: 2px 100%;\n",
       "  background-repeat: no-repeat;\n",
       "  background-position: center center;\n",
       "}\n",
       "\n",
       "/* Parallel-specific style estimator block */\n",
       "\n",
       "#sk-container-id-1 div.sk-parallel-item::after {\n",
       "  content: \"\";\n",
       "  width: 100%;\n",
       "  border-bottom: 2px solid var(--sklearn-color-text-on-default-background);\n",
       "  flex-grow: 1;\n",
       "}\n",
       "\n",
       "#sk-container-id-1 div.sk-parallel {\n",
       "  display: flex;\n",
       "  align-items: stretch;\n",
       "  justify-content: center;\n",
       "  background-color: var(--sklearn-color-background);\n",
       "  position: relative;\n",
       "}\n",
       "\n",
       "#sk-container-id-1 div.sk-parallel-item {\n",
       "  display: flex;\n",
       "  flex-direction: column;\n",
       "}\n",
       "\n",
       "#sk-container-id-1 div.sk-parallel-item:first-child::after {\n",
       "  align-self: flex-end;\n",
       "  width: 50%;\n",
       "}\n",
       "\n",
       "#sk-container-id-1 div.sk-parallel-item:last-child::after {\n",
       "  align-self: flex-start;\n",
       "  width: 50%;\n",
       "}\n",
       "\n",
       "#sk-container-id-1 div.sk-parallel-item:only-child::after {\n",
       "  width: 0;\n",
       "}\n",
       "\n",
       "/* Serial-specific style estimator block */\n",
       "\n",
       "#sk-container-id-1 div.sk-serial {\n",
       "  display: flex;\n",
       "  flex-direction: column;\n",
       "  align-items: center;\n",
       "  background-color: var(--sklearn-color-background);\n",
       "  padding-right: 1em;\n",
       "  padding-left: 1em;\n",
       "}\n",
       "\n",
       "\n",
       "/* Toggleable style: style used for estimator/Pipeline/ColumnTransformer box that is\n",
       "clickable and can be expanded/collapsed.\n",
       "- Pipeline and ColumnTransformer use this feature and define the default style\n",
       "- Estimators will overwrite some part of the style using the `sk-estimator` class\n",
       "*/\n",
       "\n",
       "/* Pipeline and ColumnTransformer style (default) */\n",
       "\n",
       "#sk-container-id-1 div.sk-toggleable {\n",
       "  /* Default theme specific background. It is overwritten whether we have a\n",
       "  specific estimator or a Pipeline/ColumnTransformer */\n",
       "  background-color: var(--sklearn-color-background);\n",
       "}\n",
       "\n",
       "/* Toggleable label */\n",
       "#sk-container-id-1 label.sk-toggleable__label {\n",
       "  cursor: pointer;\n",
       "  display: block;\n",
       "  width: 100%;\n",
       "  margin-bottom: 0;\n",
       "  padding: 0.5em;\n",
       "  box-sizing: border-box;\n",
       "  text-align: center;\n",
       "}\n",
       "\n",
       "#sk-container-id-1 label.sk-toggleable__label-arrow:before {\n",
       "  /* Arrow on the left of the label */\n",
       "  content: \"▸\";\n",
       "  float: left;\n",
       "  margin-right: 0.25em;\n",
       "  color: var(--sklearn-color-icon);\n",
       "}\n",
       "\n",
       "#sk-container-id-1 label.sk-toggleable__label-arrow:hover:before {\n",
       "  color: var(--sklearn-color-text);\n",
       "}\n",
       "\n",
       "/* Toggleable content - dropdown */\n",
       "\n",
       "#sk-container-id-1 div.sk-toggleable__content {\n",
       "  max-height: 0;\n",
       "  max-width: 0;\n",
       "  overflow: hidden;\n",
       "  text-align: left;\n",
       "  /* unfitted */\n",
       "  background-color: var(--sklearn-color-unfitted-level-0);\n",
       "}\n",
       "\n",
       "#sk-container-id-1 div.sk-toggleable__content.fitted {\n",
       "  /* fitted */\n",
       "  background-color: var(--sklearn-color-fitted-level-0);\n",
       "}\n",
       "\n",
       "#sk-container-id-1 div.sk-toggleable__content pre {\n",
       "  margin: 0.2em;\n",
       "  border-radius: 0.25em;\n",
       "  color: var(--sklearn-color-text);\n",
       "  /* unfitted */\n",
       "  background-color: var(--sklearn-color-unfitted-level-0);\n",
       "}\n",
       "\n",
       "#sk-container-id-1 div.sk-toggleable__content.fitted pre {\n",
       "  /* unfitted */\n",
       "  background-color: var(--sklearn-color-fitted-level-0);\n",
       "}\n",
       "\n",
       "#sk-container-id-1 input.sk-toggleable__control:checked~div.sk-toggleable__content {\n",
       "  /* Expand drop-down */\n",
       "  max-height: 200px;\n",
       "  max-width: 100%;\n",
       "  overflow: auto;\n",
       "}\n",
       "\n",
       "#sk-container-id-1 input.sk-toggleable__control:checked~label.sk-toggleable__label-arrow:before {\n",
       "  content: \"▾\";\n",
       "}\n",
       "\n",
       "/* Pipeline/ColumnTransformer-specific style */\n",
       "\n",
       "#sk-container-id-1 div.sk-label input.sk-toggleable__control:checked~label.sk-toggleable__label {\n",
       "  color: var(--sklearn-color-text);\n",
       "  background-color: var(--sklearn-color-unfitted-level-2);\n",
       "}\n",
       "\n",
       "#sk-container-id-1 div.sk-label.fitted input.sk-toggleable__control:checked~label.sk-toggleable__label {\n",
       "  background-color: var(--sklearn-color-fitted-level-2);\n",
       "}\n",
       "\n",
       "/* Estimator-specific style */\n",
       "\n",
       "/* Colorize estimator box */\n",
       "#sk-container-id-1 div.sk-estimator input.sk-toggleable__control:checked~label.sk-toggleable__label {\n",
       "  /* unfitted */\n",
       "  background-color: var(--sklearn-color-unfitted-level-2);\n",
       "}\n",
       "\n",
       "#sk-container-id-1 div.sk-estimator.fitted input.sk-toggleable__control:checked~label.sk-toggleable__label {\n",
       "  /* fitted */\n",
       "  background-color: var(--sklearn-color-fitted-level-2);\n",
       "}\n",
       "\n",
       "#sk-container-id-1 div.sk-label label.sk-toggleable__label,\n",
       "#sk-container-id-1 div.sk-label label {\n",
       "  /* The background is the default theme color */\n",
       "  color: var(--sklearn-color-text-on-default-background);\n",
       "}\n",
       "\n",
       "/* On hover, darken the color of the background */\n",
       "#sk-container-id-1 div.sk-label:hover label.sk-toggleable__label {\n",
       "  color: var(--sklearn-color-text);\n",
       "  background-color: var(--sklearn-color-unfitted-level-2);\n",
       "}\n",
       "\n",
       "/* Label box, darken color on hover, fitted */\n",
       "#sk-container-id-1 div.sk-label.fitted:hover label.sk-toggleable__label.fitted {\n",
       "  color: var(--sklearn-color-text);\n",
       "  background-color: var(--sklearn-color-fitted-level-2);\n",
       "}\n",
       "\n",
       "/* Estimator label */\n",
       "\n",
       "#sk-container-id-1 div.sk-label label {\n",
       "  font-family: monospace;\n",
       "  font-weight: bold;\n",
       "  display: inline-block;\n",
       "  line-height: 1.2em;\n",
       "}\n",
       "\n",
       "#sk-container-id-1 div.sk-label-container {\n",
       "  text-align: center;\n",
       "}\n",
       "\n",
       "/* Estimator-specific */\n",
       "#sk-container-id-1 div.sk-estimator {\n",
       "  font-family: monospace;\n",
       "  border: 1px dotted var(--sklearn-color-border-box);\n",
       "  border-radius: 0.25em;\n",
       "  box-sizing: border-box;\n",
       "  margin-bottom: 0.5em;\n",
       "  /* unfitted */\n",
       "  background-color: var(--sklearn-color-unfitted-level-0);\n",
       "}\n",
       "\n",
       "#sk-container-id-1 div.sk-estimator.fitted {\n",
       "  /* fitted */\n",
       "  background-color: var(--sklearn-color-fitted-level-0);\n",
       "}\n",
       "\n",
       "/* on hover */\n",
       "#sk-container-id-1 div.sk-estimator:hover {\n",
       "  /* unfitted */\n",
       "  background-color: var(--sklearn-color-unfitted-level-2);\n",
       "}\n",
       "\n",
       "#sk-container-id-1 div.sk-estimator.fitted:hover {\n",
       "  /* fitted */\n",
       "  background-color: var(--sklearn-color-fitted-level-2);\n",
       "}\n",
       "\n",
       "/* Specification for estimator info (e.g. \"i\" and \"?\") */\n",
       "\n",
       "/* Common style for \"i\" and \"?\" */\n",
       "\n",
       ".sk-estimator-doc-link,\n",
       "a:link.sk-estimator-doc-link,\n",
       "a:visited.sk-estimator-doc-link {\n",
       "  float: right;\n",
       "  font-size: smaller;\n",
       "  line-height: 1em;\n",
       "  font-family: monospace;\n",
       "  background-color: var(--sklearn-color-background);\n",
       "  border-radius: 1em;\n",
       "  height: 1em;\n",
       "  width: 1em;\n",
       "  text-decoration: none !important;\n",
       "  margin-left: 1ex;\n",
       "  /* unfitted */\n",
       "  border: var(--sklearn-color-unfitted-level-1) 1pt solid;\n",
       "  color: var(--sklearn-color-unfitted-level-1);\n",
       "}\n",
       "\n",
       ".sk-estimator-doc-link.fitted,\n",
       "a:link.sk-estimator-doc-link.fitted,\n",
       "a:visited.sk-estimator-doc-link.fitted {\n",
       "  /* fitted */\n",
       "  border: var(--sklearn-color-fitted-level-1) 1pt solid;\n",
       "  color: var(--sklearn-color-fitted-level-1);\n",
       "}\n",
       "\n",
       "/* On hover */\n",
       "div.sk-estimator:hover .sk-estimator-doc-link:hover,\n",
       ".sk-estimator-doc-link:hover,\n",
       "div.sk-label-container:hover .sk-estimator-doc-link:hover,\n",
       ".sk-estimator-doc-link:hover {\n",
       "  /* unfitted */\n",
       "  background-color: var(--sklearn-color-unfitted-level-3);\n",
       "  color: var(--sklearn-color-background);\n",
       "  text-decoration: none;\n",
       "}\n",
       "\n",
       "div.sk-estimator.fitted:hover .sk-estimator-doc-link.fitted:hover,\n",
       ".sk-estimator-doc-link.fitted:hover,\n",
       "div.sk-label-container:hover .sk-estimator-doc-link.fitted:hover,\n",
       ".sk-estimator-doc-link.fitted:hover {\n",
       "  /* fitted */\n",
       "  background-color: var(--sklearn-color-fitted-level-3);\n",
       "  color: var(--sklearn-color-background);\n",
       "  text-decoration: none;\n",
       "}\n",
       "\n",
       "/* Span, style for the box shown on hovering the info icon */\n",
       ".sk-estimator-doc-link span {\n",
       "  display: none;\n",
       "  z-index: 9999;\n",
       "  position: relative;\n",
       "  font-weight: normal;\n",
       "  right: .2ex;\n",
       "  padding: .5ex;\n",
       "  margin: .5ex;\n",
       "  width: min-content;\n",
       "  min-width: 20ex;\n",
       "  max-width: 50ex;\n",
       "  color: var(--sklearn-color-text);\n",
       "  box-shadow: 2pt 2pt 4pt #999;\n",
       "  /* unfitted */\n",
       "  background: var(--sklearn-color-unfitted-level-0);\n",
       "  border: .5pt solid var(--sklearn-color-unfitted-level-3);\n",
       "}\n",
       "\n",
       ".sk-estimator-doc-link.fitted span {\n",
       "  /* fitted */\n",
       "  background: var(--sklearn-color-fitted-level-0);\n",
       "  border: var(--sklearn-color-fitted-level-3);\n",
       "}\n",
       "\n",
       ".sk-estimator-doc-link:hover span {\n",
       "  display: block;\n",
       "}\n",
       "\n",
       "/* \"?\"-specific style due to the `<a>` HTML tag */\n",
       "\n",
       "#sk-container-id-1 a.estimator_doc_link {\n",
       "  float: right;\n",
       "  font-size: 1rem;\n",
       "  line-height: 1em;\n",
       "  font-family: monospace;\n",
       "  background-color: var(--sklearn-color-background);\n",
       "  border-radius: 1rem;\n",
       "  height: 1rem;\n",
       "  width: 1rem;\n",
       "  text-decoration: none;\n",
       "  /* unfitted */\n",
       "  color: var(--sklearn-color-unfitted-level-1);\n",
       "  border: var(--sklearn-color-unfitted-level-1) 1pt solid;\n",
       "}\n",
       "\n",
       "#sk-container-id-1 a.estimator_doc_link.fitted {\n",
       "  /* fitted */\n",
       "  border: var(--sklearn-color-fitted-level-1) 1pt solid;\n",
       "  color: var(--sklearn-color-fitted-level-1);\n",
       "}\n",
       "\n",
       "/* On hover */\n",
       "#sk-container-id-1 a.estimator_doc_link:hover {\n",
       "  /* unfitted */\n",
       "  background-color: var(--sklearn-color-unfitted-level-3);\n",
       "  color: var(--sklearn-color-background);\n",
       "  text-decoration: none;\n",
       "}\n",
       "\n",
       "#sk-container-id-1 a.estimator_doc_link.fitted:hover {\n",
       "  /* fitted */\n",
       "  background-color: var(--sklearn-color-fitted-level-3);\n",
       "}\n",
       "</style><div id=\"sk-container-id-1\" class=\"sk-top-container\"><div class=\"sk-text-repr-fallback\"><pre>XGBClassifier(base_score=None, booster=None, callbacks=None,\n",
       "              colsample_bylevel=None, colsample_bynode=0.8894731617543151,\n",
       "              colsample_bytree=None, device=None, early_stopping_rounds=None,\n",
       "              enable_categorical=False,\n",
       "              eval_metric=&lt;function custom_f1_score at 0x7fdc3534bec0&gt;,\n",
       "              feature_types=None, gamma=None, grow_policy=None,\n",
       "              importance_type=None, interaction_constraints=None,\n",
       "              learning_rate=0.36166713805082223, max_bin=None,\n",
       "              max_cat_threshold=None, max_cat_to_onehot=None,\n",
       "              max_delta_step=None, max_depth=10, max_leaves=None,\n",
       "              min_child_weight=31, missing=nan, monotone_constraints=None,\n",
       "              multi_strategy=None, n_estimators=84, n_jobs=None,\n",
       "              num_parallel_tree=None, objective=&#x27;multi:softprob&#x27;, ...)</pre><b>In a Jupyter environment, please rerun this cell to show the HTML representation or trust the notebook. <br />On GitHub, the HTML representation is unable to render, please try loading this page with nbviewer.org.</b></div><div class=\"sk-container\" hidden><div class=\"sk-item\"><div class=\"sk-estimator fitted sk-toggleable\"><input class=\"sk-toggleable__control sk-hidden--visually\" id=\"sk-estimator-id-1\" type=\"checkbox\" checked><label for=\"sk-estimator-id-1\" class=\"sk-toggleable__label fitted sk-toggleable__label-arrow fitted\">&nbsp;XGBClassifier<span class=\"sk-estimator-doc-link fitted\">i<span>Fitted</span></span></label><div class=\"sk-toggleable__content fitted\"><pre>XGBClassifier(base_score=None, booster=None, callbacks=None,\n",
       "              colsample_bylevel=None, colsample_bynode=0.8894731617543151,\n",
       "              colsample_bytree=None, device=None, early_stopping_rounds=None,\n",
       "              enable_categorical=False,\n",
       "              eval_metric=&lt;function custom_f1_score at 0x7fdc3534bec0&gt;,\n",
       "              feature_types=None, gamma=None, grow_policy=None,\n",
       "              importance_type=None, interaction_constraints=None,\n",
       "              learning_rate=0.36166713805082223, max_bin=None,\n",
       "              max_cat_threshold=None, max_cat_to_onehot=None,\n",
       "              max_delta_step=None, max_depth=10, max_leaves=None,\n",
       "              min_child_weight=31, missing=nan, monotone_constraints=None,\n",
       "              multi_strategy=None, n_estimators=84, n_jobs=None,\n",
       "              num_parallel_tree=None, objective=&#x27;multi:softprob&#x27;, ...)</pre></div> </div></div></div></div>"
      ],
      "text/plain": [
       "XGBClassifier(base_score=None, booster=None, callbacks=None,\n",
       "              colsample_bylevel=None, colsample_bynode=0.8894731617543151,\n",
       "              colsample_bytree=None, device=None, early_stopping_rounds=None,\n",
       "              enable_categorical=False,\n",
       "              eval_metric=<function custom_f1_score at 0x7fdc3534bec0>,\n",
       "              feature_types=None, gamma=None, grow_policy=None,\n",
       "              importance_type=None, interaction_constraints=None,\n",
       "              learning_rate=0.36166713805082223, max_bin=None,\n",
       "              max_cat_threshold=None, max_cat_to_onehot=None,\n",
       "              max_delta_step=None, max_depth=10, max_leaves=None,\n",
       "              min_child_weight=31, missing=nan, monotone_constraints=None,\n",
       "              multi_strategy=None, n_estimators=84, n_jobs=None,\n",
       "              num_parallel_tree=None, objective='multi:softprob', ...)"
      ]
     },
     "execution_count": 21,
     "metadata": {},
     "output_type": "execute_result"
    }
   ],
   "source": [
    "n_estimators = int(study.best_trial.user_attrs['best_iteration']*1.2)\n",
    "xgb = xgboost.XGBClassifier(\n",
    "        eval_metric=eval_metric,\n",
    "        n_estimators=n_estimators,\n",
    "        **study.best_trial.params\n",
    "    )\n",
    "xgb.fit(\n",
    "    ssp.vstack((X_train, X_val)), \n",
    "    np.concatenate((y_train_enc, y_val_enc)),\n",
    "    verbose=1,\n",
    ")"
   ]
  },
  {
   "cell_type": "code",
   "execution_count": 22,
   "id": "cd38154d",
   "metadata": {
    "execution": {
     "iopub.execute_input": "2025-05-15T16:12:46.847383Z",
     "iopub.status.busy": "2025-05-15T16:12:46.847096Z",
     "iopub.status.idle": "2025-05-15T16:12:46.966100Z",
     "shell.execute_reply": "2025-05-15T16:12:46.965741Z"
    },
    "papermill": {
     "duration": 0.151383,
     "end_time": "2025-05-15T16:12:46.967045",
     "exception": false,
     "start_time": "2025-05-15T16:12:46.815662",
     "status": "completed"
    },
    "tags": []
   },
   "outputs": [
    {
     "data": {
      "text/plain": [
       "['/scratch_isilon/groups/singlecell/shared/projects/Inflammation-PBMCs-Atlas/03_downstream_analysis/08_gene_importance/xgboost_external_validation/xgboost_TopN_genes/results_20/best_model/Mono_7_4_xgb.json']"
      ]
     },
     "execution_count": 22,
     "metadata": {},
     "output_type": "execute_result"
    }
   ],
   "source": [
    "out_dir = here(f'03_downstream_analysis/08_gene_importance/xgboost_external_validation/xgboost_TopN_genes/results_{N_GENES}/best_model')\n",
    "\n",
    "if not os.path.exists(out_dir):\n",
    "    os.makedirs(out_dir)\n",
    "    \n",
    "joblib.dump(xgb, os.path.join(out_dir, f'{CELL_TYPE}_{SEED}_{TEST_SPLIT_IDX}_xgb.json'))"
   ]
  },
  {
   "cell_type": "code",
   "execution_count": 23,
   "id": "4f48ec30",
   "metadata": {
    "execution": {
     "iopub.execute_input": "2025-05-15T16:12:47.018430Z",
     "iopub.status.busy": "2025-05-15T16:12:47.018186Z",
     "iopub.status.idle": "2025-05-15T16:12:47.529899Z",
     "shell.execute_reply": "2025-05-15T16:12:47.529191Z"
    },
    "papermill": {
     "duration": 0.539868,
     "end_time": "2025-05-15T16:12:47.531395",
     "exception": false,
     "start_time": "2025-05-15T16:12:46.991527",
     "status": "completed"
    },
    "tags": []
   },
   "outputs": [],
   "source": [
    "df_pred_test = pd.DataFrame(dict(\n",
    "    cell_id=train_adata.obs.iloc[test_idxs].index.values,\n",
    "    y_true=y_test, \n",
    "    y_true_code=y_test_enc, \n",
    "    y_pred=xgb.predict(X_test))).set_index('cell_id')"
   ]
  },
  {
   "cell_type": "code",
   "execution_count": 24,
   "id": "8392a899",
   "metadata": {
    "execution": {
     "iopub.execute_input": "2025-05-15T16:12:47.551991Z",
     "iopub.status.busy": "2025-05-15T16:12:47.551758Z",
     "iopub.status.idle": "2025-05-15T16:12:47.697428Z",
     "shell.execute_reply": "2025-05-15T16:12:47.696862Z"
    },
    "papermill": {
     "duration": 0.156869,
     "end_time": "2025-05-15T16:12:47.698916",
     "exception": false,
     "start_time": "2025-05-15T16:12:47.542047",
     "status": "completed"
    },
    "tags": []
   },
   "outputs": [],
   "source": [
    "out_dir = here(f'03_downstream_analysis/08_gene_importance/xgboost_external_validation/xgboost_TopN_genes/results_{N_GENES}/predictions')\n",
    "\n",
    "if not os.path.exists(out_dir):\n",
    "    os.makedirs(out_dir)\n",
    "    \n",
    "df_pred_test.to_csv(os.path.join(out_dir, f'{CELL_TYPE}_{SEED}_{TEST_SPLIT_IDX}_pred_test.zip'))"
   ]
  },
  {
   "cell_type": "code",
   "execution_count": 25,
   "id": "46adc91c",
   "metadata": {
    "execution": {
     "iopub.execute_input": "2025-05-15T16:12:47.746992Z",
     "iopub.status.busy": "2025-05-15T16:12:47.746795Z",
     "iopub.status.idle": "2025-05-15T16:12:47.762219Z",
     "shell.execute_reply": "2025-05-15T16:12:47.761831Z"
    },
    "papermill": {
     "duration": 0.036996,
     "end_time": "2025-05-15T16:12:47.763056",
     "exception": false,
     "start_time": "2025-05-15T16:12:47.726060",
     "status": "completed"
    },
    "tags": []
   },
   "outputs": [],
   "source": [
    "metrics_dict = dict(\n",
    "    BAS=balanced_accuracy_score(y_true=df_pred_test.y_true_code, y_pred=df_pred_test.y_pred), WF1=f1_score(y_true=df_pred_test.y_true_code, y_pred=df_pred_test.y_pred,average='weighted'))"
   ]
  },
  {
   "cell_type": "code",
   "execution_count": 26,
   "id": "5c181a64",
   "metadata": {
    "execution": {
     "iopub.execute_input": "2025-05-15T16:12:47.782322Z",
     "iopub.status.busy": "2025-05-15T16:12:47.782127Z",
     "iopub.status.idle": "2025-05-15T16:12:47.785069Z",
     "shell.execute_reply": "2025-05-15T16:12:47.784753Z"
    },
    "papermill": {
     "duration": 0.013687,
     "end_time": "2025-05-15T16:12:47.785926",
     "exception": false,
     "start_time": "2025-05-15T16:12:47.772239",
     "status": "completed"
    },
    "tags": []
   },
   "outputs": [
    {
     "data": {
      "text/plain": [
       "{'BAS': 0.48703182822557, 'WF1': 0.7392407537970598}"
      ]
     },
     "execution_count": 26,
     "metadata": {},
     "output_type": "execute_result"
    }
   ],
   "source": [
    "metrics_dict"
   ]
  },
  {
   "cell_type": "code",
   "execution_count": 27,
   "id": "23c8b4aa",
   "metadata": {
    "execution": {
     "iopub.execute_input": "2025-05-15T16:12:47.806319Z",
     "iopub.status.busy": "2025-05-15T16:12:47.806081Z",
     "iopub.status.idle": "2025-05-15T16:12:47.814790Z",
     "shell.execute_reply": "2025-05-15T16:12:47.814474Z"
    },
    "papermill": {
     "duration": 0.020378,
     "end_time": "2025-05-15T16:12:47.815834",
     "exception": false,
     "start_time": "2025-05-15T16:12:47.795456",
     "status": "completed"
    },
    "tags": []
   },
   "outputs": [
    {
     "data": {
      "text/html": [
       "<div>\n",
       "<style scoped>\n",
       "    .dataframe tbody tr th:only-of-type {\n",
       "        vertical-align: middle;\n",
       "    }\n",
       "\n",
       "    .dataframe tbody tr th {\n",
       "        vertical-align: top;\n",
       "    }\n",
       "\n",
       "    .dataframe thead th {\n",
       "        text-align: right;\n",
       "    }\n",
       "</style>\n",
       "<table border=\"1\" class=\"dataframe\">\n",
       "  <thead>\n",
       "    <tr style=\"text-align: right;\">\n",
       "      <th></th>\n",
       "      <th>BAS</th>\n",
       "      <th>WF1</th>\n",
       "      <th>split_idx</th>\n",
       "      <th>gene_set_seed</th>\n",
       "      <th>cell_type</th>\n",
       "    </tr>\n",
       "  </thead>\n",
       "  <tbody>\n",
       "    <tr>\n",
       "      <th>0</th>\n",
       "      <td>0.487032</td>\n",
       "      <td>0.739241</td>\n",
       "      <td>4</td>\n",
       "      <td>7</td>\n",
       "      <td>Mono</td>\n",
       "    </tr>\n",
       "  </tbody>\n",
       "</table>\n",
       "</div>"
      ],
      "text/plain": [
       "        BAS       WF1  split_idx  gene_set_seed cell_type\n",
       "0  0.487032  0.739241          4              7      Mono"
      ]
     },
     "execution_count": 27,
     "metadata": {},
     "output_type": "execute_result"
    }
   ],
   "source": [
    "metrics_df = pd.DataFrame.from_dict([metrics_dict]).assign(split_idx=TEST_SPLIT_IDX, gene_set_seed=SEED, cell_type=CELL_TYPE)\n",
    "metrics_df"
   ]
  },
  {
   "cell_type": "code",
   "execution_count": 28,
   "id": "66788fbe",
   "metadata": {
    "execution": {
     "iopub.execute_input": "2025-05-15T16:12:47.839717Z",
     "iopub.status.busy": "2025-05-15T16:12:47.839497Z",
     "iopub.status.idle": "2025-05-15T16:12:47.847946Z",
     "shell.execute_reply": "2025-05-15T16:12:47.847530Z"
    },
    "papermill": {
     "duration": 0.021699,
     "end_time": "2025-05-15T16:12:47.849300",
     "exception": false,
     "start_time": "2025-05-15T16:12:47.827601",
     "status": "completed"
    },
    "tags": []
   },
   "outputs": [],
   "source": [
    "out_dir = here(f'03_downstream_analysis/08_gene_importance/xgboost_external_validation/xgboost_TopN_genes/results_{N_GENES}/metrics')\n",
    "\n",
    "if not os.path.exists(out_dir):\n",
    "    os.makedirs(out_dir)\n",
    "    \n",
    "metrics_df.to_csv(os.path.join(out_dir, f'{CELL_TYPE}_{SEED}_{TEST_SPLIT_IDX}_metrics.zip'))"
   ]
  }
 ],
 "metadata": {
  "kernelspec": {
   "display_name": "Python 3 (ipykernel)",
   "language": "python",
   "name": "python3"
  },
  "language_info": {
   "codemirror_mode": {
    "name": "ipython",
    "version": 3
   },
   "file_extension": ".py",
   "mimetype": "text/x-python",
   "name": "python",
   "nbconvert_exporter": "python",
   "pygments_lexer": "ipython3",
   "version": "3.12.5"
  },
  "papermill": {
   "default_parameters": {},
   "duration": 803.632864,
   "end_time": "2025-05-15T16:12:48.578438",
   "environment_variables": {},
   "exception": null,
   "input_path": "02_xgboost_fitting_external_20genes.ipynb",
   "output_path": "results_20/executed_notebooks/xgboost_fitting_external_CT_Mono_GS_7_seed4.ipynb",
   "parameters": {
    "CELL_TYPE": "Mono",
    "SEED": 7,
    "TEST_SPLIT_IDX": 4
   },
   "start_time": "2025-05-15T15:59:24.945574",
   "version": "2.6.0"
  }
 },
 "nbformat": 4,
 "nbformat_minor": 5
}