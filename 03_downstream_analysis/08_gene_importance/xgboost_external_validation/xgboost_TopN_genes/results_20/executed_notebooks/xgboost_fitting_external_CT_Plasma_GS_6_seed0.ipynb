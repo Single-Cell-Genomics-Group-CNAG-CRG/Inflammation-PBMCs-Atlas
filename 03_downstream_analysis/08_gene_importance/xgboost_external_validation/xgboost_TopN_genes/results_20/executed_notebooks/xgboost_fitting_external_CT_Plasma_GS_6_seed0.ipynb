{
 "cells": [
  {
   "cell_type": "code",
   "execution_count": 1,
   "id": "2850ca9b",
   "metadata": {
    "editable": true,
    "execution": {
     "iopub.execute_input": "2025-05-15T16:15:38.435005Z",
     "iopub.status.busy": "2025-05-15T16:15:38.434559Z",
     "iopub.status.idle": "2025-05-15T16:15:38.438574Z",
     "shell.execute_reply": "2025-05-15T16:15:38.438145Z"
    },
    "papermill": {
     "duration": 0.01375,
     "end_time": "2025-05-15T16:15:38.439600",
     "exception": false,
     "start_time": "2025-05-15T16:15:38.425850",
     "status": "completed"
    },
    "slideshow": {
     "slide_type": ""
    },
    "tags": [
     "parameters"
    ]
   },
   "outputs": [],
   "source": [
    "CELL_TYPE = 'pDC'\n",
    "N_GENES: int = 20\n",
    "SEED = 'shap_studyID' #'disease_NOstudy' 'study_NOdisease' or 'int' or 'shap_studyID'\n",
    "TEST_SPLIT_IDX: int = 1 #[0,4]"
   ]
  },
  {
   "cell_type": "code",
   "execution_count": 2,
   "id": "6f455f89",
   "metadata": {
    "execution": {
     "iopub.execute_input": "2025-05-15T16:15:38.451309Z",
     "iopub.status.busy": "2025-05-15T16:15:38.451022Z",
     "iopub.status.idle": "2025-05-15T16:15:38.453580Z",
     "shell.execute_reply": "2025-05-15T16:15:38.453192Z"
    },
    "papermill": {
     "duration": 0.009172,
     "end_time": "2025-05-15T16:15:38.454483",
     "exception": false,
     "start_time": "2025-05-15T16:15:38.445311",
     "status": "completed"
    },
    "tags": [
     "injected-parameters"
    ]
   },
   "outputs": [],
   "source": [
    "# Parameters\n",
    "CELL_TYPE = \"Plasma\"\n",
    "SEED = 6\n",
    "TEST_SPLIT_IDX = 0\n"
   ]
  },
  {
   "cell_type": "code",
   "execution_count": 3,
   "id": "62571d34",
   "metadata": {
    "execution": {
     "iopub.execute_input": "2025-05-15T16:15:38.465058Z",
     "iopub.status.busy": "2025-05-15T16:15:38.464918Z",
     "iopub.status.idle": "2025-05-15T16:15:38.467442Z",
     "shell.execute_reply": "2025-05-15T16:15:38.467016Z"
    },
    "papermill": {
     "duration": 0.009013,
     "end_time": "2025-05-15T16:15:38.468390",
     "exception": false,
     "start_time": "2025-05-15T16:15:38.459377",
     "status": "completed"
    },
    "tags": []
   },
   "outputs": [],
   "source": [
    "N_SPLITS: int = 5\n",
    "N_TRIALS: int = 50"
   ]
  },
  {
   "cell_type": "code",
   "execution_count": 4,
   "id": "dded5d83",
   "metadata": {
    "execution": {
     "iopub.execute_input": "2025-05-15T16:15:38.482187Z",
     "iopub.status.busy": "2025-05-15T16:15:38.481882Z",
     "iopub.status.idle": "2025-05-15T16:15:52.579399Z",
     "shell.execute_reply": "2025-05-15T16:15:52.578908Z"
    },
    "papermill": {
     "duration": 14.107004,
     "end_time": "2025-05-15T16:15:52.581149",
     "exception": false,
     "start_time": "2025-05-15T16:15:38.474145",
     "status": "completed"
    },
    "tags": []
   },
   "outputs": [],
   "source": [
    "import os\n",
    "import sys\n",
    "from pyprojroot.here import here\n",
    "import pandas as pd\n",
    "import anndata as ad\n",
    "import numpy as np\n",
    "import math\n",
    "from sklearn.model_selection import StratifiedGroupKFold\n",
    "from sklearn.preprocessing import LabelEncoder\n",
    "from sklearn.metrics import f1_score\n",
    "import matplotlib.pyplot as plt\n",
    "import seaborn as sns\n",
    "from itertools import product\n",
    "from sklearn.metrics import balanced_accuracy_score, f1_score\n",
    "import optuna\n",
    "\n",
    "import joblib\n",
    "import pickle\n",
    "import datetime\n",
    "\n",
    "import collections\n",
    "\n",
    "import xgboost\n",
    "from sklearn.preprocessing import LabelEncoder\n",
    "\n",
    "import scipy.sparse as ssp\n",
    "import joblib\n",
    "\n",
    "from dotenv import load_dotenv"
   ]
  },
  {
   "cell_type": "code",
   "execution_count": 5,
   "id": "f97b5562",
   "metadata": {
    "execution": {
     "iopub.execute_input": "2025-05-15T16:15:52.593888Z",
     "iopub.status.busy": "2025-05-15T16:15:52.593474Z",
     "iopub.status.idle": "2025-05-15T16:15:52.599985Z",
     "shell.execute_reply": "2025-05-15T16:15:52.599668Z"
    },
    "papermill": {
     "duration": 0.01343,
     "end_time": "2025-05-15T16:15:52.600945",
     "exception": false,
     "start_time": "2025-05-15T16:15:52.587515",
     "status": "completed"
    },
    "tags": []
   },
   "outputs": [
    {
     "data": {
      "text/plain": [
       "True"
      ]
     },
     "execution_count": 5,
     "metadata": {},
     "output_type": "execute_result"
    }
   ],
   "source": [
    "load_dotenv()"
   ]
  },
  {
   "cell_type": "markdown",
   "id": "b4fe6f96",
   "metadata": {
    "papermill": {
     "duration": 0.005687,
     "end_time": "2025-05-15T16:15:52.612042",
     "exception": false,
     "start_time": "2025-05-15T16:15:52.606355",
     "status": "completed"
    },
    "tags": []
   },
   "source": [
    "# LOAD DATASET"
   ]
  },
  {
   "cell_type": "code",
   "execution_count": 6,
   "id": "8e63f0a8",
   "metadata": {
    "execution": {
     "iopub.execute_input": "2025-05-15T16:15:52.623228Z",
     "iopub.status.busy": "2025-05-15T16:15:52.622911Z",
     "iopub.status.idle": "2025-05-15T16:15:52.667745Z",
     "shell.execute_reply": "2025-05-15T16:15:52.667121Z"
    },
    "papermill": {
     "duration": 0.052038,
     "end_time": "2025-05-15T16:15:52.669225",
     "exception": false,
     "start_time": "2025-05-15T16:15:52.617187",
     "status": "completed"
    },
    "tags": []
   },
   "outputs": [],
   "source": [
    "train_adata = ad.read_h5ad(\n",
    "    here(f'03_downstream_analysis/08_gene_importance/xgboost_external_validation/xgboost_TopN_genes/data_cellTypes/EXTERNAL_{CELL_TYPE}.filtered.log1p.h5ad')\n",
    ")"
   ]
  },
  {
   "cell_type": "code",
   "execution_count": 7,
   "id": "96ef9b62",
   "metadata": {
    "execution": {
     "iopub.execute_input": "2025-05-15T16:15:52.681687Z",
     "iopub.status.busy": "2025-05-15T16:15:52.681163Z",
     "iopub.status.idle": "2025-05-15T16:15:52.692461Z",
     "shell.execute_reply": "2025-05-15T16:15:52.692074Z"
    },
    "papermill": {
     "duration": 0.01838,
     "end_time": "2025-05-15T16:15:52.693457",
     "exception": false,
     "start_time": "2025-05-15T16:15:52.675077",
     "status": "completed"
    },
    "tags": []
   },
   "outputs": [
    {
     "name": "stdout",
     "output_type": "stream",
     "text": [
      "['ENSG00000163131' 'ENSG00000138778' 'ENSG00000275302' 'ENSG00000115073'\n",
      " 'ENSG00000173757' 'ENSG00000131981' 'ENSG00000153064' 'ENSG00000030582'\n",
      " 'ENSG00000133639' 'ENSG00000160888' 'ENSG00000239713' 'ENSG00000121858'\n",
      " 'ENSG00000119535' 'ENSG00000135720' 'ENSG00000179094' 'ENSG00000176986'\n",
      " 'ENSG00000137965' 'ENSG00000096996' 'ENSG00000142546' 'ENSG00000196126'\n",
      " 'ENSG00000130724' 'ENSG00000277734' 'ENSG00000168811' 'ENSG00000159128'\n",
      " 'ENSG00000164543' 'ENSG00000186010' 'ENSG00000114861' 'ENSG00000120742'\n",
      " 'ENSG00000137331' 'ENSG00000125743' 'ENSG00000155380' 'ENSG00000100934'\n",
      " 'ENSG00000113732' 'ENSG00000089327' 'ENSG00000197747' 'ENSG00000126524'\n",
      " 'ENSG00000140564' 'ENSG00000164136' 'ENSG00000081059' 'ENSG00000141506'\n",
      " 'ENSG00000204642' 'ENSG00000110848' 'ENSG00000002586' 'ENSG00000142669'\n",
      " 'ENSG00000100100' 'ENSG00000105374' 'ENSG00000079616' 'ENSG00000066136'\n",
      " 'ENSG00000185201' 'ENSG00000177556' 'ENSG00000189067' 'ENSG00000175768'\n",
      " 'ENSG00000089280' 'ENSG00000127951' 'ENSG00000138107' 'ENSG00000197471'\n",
      " 'ENSG00000168461' 'ENSG00000135114' 'ENSG00000197746' 'ENSG00000180008'\n",
      " 'ENSG00000185436' 'ENSG00000111678' 'ENSG00000030110' 'ENSG00000059728'\n",
      " 'ENSG00000188404' 'ENSG00000183696' 'ENSG00000242574' 'ENSG00000114423'\n",
      " 'ENSG00000127022' 'ENSG00000106367' 'ENSG00000167004' 'ENSG00000197965'\n",
      " 'ENSG00000104689' 'ENSG00000100453' 'ENSG00000107968' 'ENSG00000142634'\n",
      " 'ENSG00000165280' 'ENSG00000169554' 'ENSG00000101608' 'ENSG00000178719'\n",
      " 'ENSG00000170296' 'ENSG00000140264' 'ENSG00000240065' 'ENSG00000163563'\n",
      " 'ENSG00000171476' 'ENSG00000142089' 'ENSG00000196396' 'ENSG00000131143'\n",
      " 'ENSG00000180644' 'ENSG00000167552' 'ENSG00000162434' 'ENSG00000120129'\n",
      " 'ENSG00000158769' 'ENSG00000123268' 'ENSG00000161203' 'ENSG00000130522'\n",
      " 'ENSG00000175482' 'ENSG00000143543' 'ENSG00000172531' 'ENSG00000138378'\n",
      " 'ENSG00000122862' 'ENSG00000107223' 'ENSG00000004468' 'ENSG00000123358'\n",
      " 'ENSG00000111640' 'ENSG00000136003' 'ENSG00000009790']\n"
     ]
    }
   ],
   "source": [
    "if SEED != 'all':\n",
    "    gene_subset = np.load(here(f'03_downstream_analysis/08_gene_importance/xgboost_external_validation/shap_gene_selection/gene_subsets_{N_GENES}/{CELL_TYPE}_{SEED}.npy'), allow_pickle=True)\n",
    "    train_adata = train_adata[:,gene_subset]\n",
    "    print(gene_subset)\n",
    "elif SEED == 'all':\n",
    "    print('Using all genes')\n",
    "else:\n",
    "    raise ValueError()"
   ]
  },
  {
   "cell_type": "code",
   "execution_count": 8,
   "id": "abeb0339",
   "metadata": {
    "execution": {
     "iopub.execute_input": "2025-05-15T16:15:52.705970Z",
     "iopub.status.busy": "2025-05-15T16:15:52.705606Z",
     "iopub.status.idle": "2025-05-15T16:15:52.708757Z",
     "shell.execute_reply": "2025-05-15T16:15:52.708434Z"
    },
    "papermill": {
     "duration": 0.010507,
     "end_time": "2025-05-15T16:15:52.709712",
     "exception": false,
     "start_time": "2025-05-15T16:15:52.699205",
     "status": "completed"
    },
    "tags": []
   },
   "outputs": [
    {
     "data": {
      "text/plain": [
       "(542, 107)"
      ]
     },
     "execution_count": 8,
     "metadata": {},
     "output_type": "execute_result"
    }
   ],
   "source": [
    "train_adata.shape"
   ]
  },
  {
   "cell_type": "code",
   "execution_count": 9,
   "id": "43b4195b",
   "metadata": {
    "execution": {
     "iopub.execute_input": "2025-05-15T16:15:52.721609Z",
     "iopub.status.busy": "2025-05-15T16:15:52.721324Z",
     "iopub.status.idle": "2025-05-15T16:15:52.725168Z",
     "shell.execute_reply": "2025-05-15T16:15:52.724842Z"
    },
    "papermill": {
     "duration": 0.010739,
     "end_time": "2025-05-15T16:15:52.726067",
     "exception": false,
     "start_time": "2025-05-15T16:15:52.715328",
     "status": "completed"
    },
    "tags": []
   },
   "outputs": [
    {
     "data": {
      "text/plain": [
       "['RA', 'COVID', 'healthy', 'HIV', 'cirrhosis', 'CD', 'SLE', 'sepsis']\n",
       "Categories (8, object): ['CD', 'COVID', 'HIV', 'RA', 'SLE', 'cirrhosis', 'healthy', 'sepsis']"
      ]
     },
     "execution_count": 9,
     "metadata": {},
     "output_type": "execute_result"
    }
   ],
   "source": [
    "train_adata.obs.disease.unique()"
   ]
  },
  {
   "cell_type": "code",
   "execution_count": 10,
   "id": "3e3e0082",
   "metadata": {
    "execution": {
     "iopub.execute_input": "2025-05-15T16:15:52.737963Z",
     "iopub.status.busy": "2025-05-15T16:15:52.737624Z",
     "iopub.status.idle": "2025-05-15T16:15:52.741316Z",
     "shell.execute_reply": "2025-05-15T16:15:52.740995Z"
    },
    "papermill": {
     "duration": 0.010768,
     "end_time": "2025-05-15T16:15:52.742180",
     "exception": false,
     "start_time": "2025-05-15T16:15:52.731412",
     "status": "completed"
    },
    "tags": []
   },
   "outputs": [
    {
     "data": {
      "text/plain": [
       "['SCGT00val_I0364_T0', 'SCGT00val_I036019_T0', 'SCGT00val_I036028_T0', 'SCGT00val_I036024_T0', 'SCGT00val_I036016_T0', ..., '10XGenomics_10XHC2_T0', '10XGenomics_10XHC3_T0', '10XGenomics_10XHC5_T0', '10XGenomics_10XHC7_T0', '10XGenomics_10XHC8_T0']\n",
       "Length: 74\n",
       "Categories (74, object): ['10XGenomics_10XHC1_T0', '10XGenomics_10XHC2_T0', '10XGenomics_10XHC3_T0', '10XGenomics_10XHC4_T0', ..., 'Savage2021_BRISL6_T0', 'Savage2021_BRISL7_T0', 'Savage2021_PIDA_T0', 'Savage2021_PIDB_T0']"
      ]
     },
     "execution_count": 10,
     "metadata": {},
     "output_type": "execute_result"
    }
   ],
   "source": [
    "train_adata.obs.sampleID.unique()"
   ]
  },
  {
   "cell_type": "code",
   "execution_count": 11,
   "id": "758222c8",
   "metadata": {
    "execution": {
     "iopub.execute_input": "2025-05-15T16:15:52.753862Z",
     "iopub.status.busy": "2025-05-15T16:15:52.753321Z",
     "iopub.status.idle": "2025-05-15T16:15:52.782518Z",
     "shell.execute_reply": "2025-05-15T16:15:52.782079Z"
    },
    "papermill": {
     "duration": 0.036562,
     "end_time": "2025-05-15T16:15:52.784006",
     "exception": false,
     "start_time": "2025-05-15T16:15:52.747444",
     "status": "completed"
    },
    "tags": []
   },
   "outputs": [],
   "source": [
    "all_idxs = np.arange(train_adata.obs.shape[0])\n",
    "left_out_splits = [s[1] for s in StratifiedGroupKFold(n_splits=N_SPLITS).split(all_idxs, train_adata.obs.disease, train_adata.obs.sampleID)]"
   ]
  },
  {
   "cell_type": "code",
   "execution_count": 12,
   "id": "06b13488",
   "metadata": {
    "execution": {
     "iopub.execute_input": "2025-05-15T16:15:52.796761Z",
     "iopub.status.busy": "2025-05-15T16:15:52.796397Z",
     "iopub.status.idle": "2025-05-15T16:15:52.800042Z",
     "shell.execute_reply": "2025-05-15T16:15:52.799734Z"
    },
    "papermill": {
     "duration": 0.010626,
     "end_time": "2025-05-15T16:15:52.800881",
     "exception": false,
     "start_time": "2025-05-15T16:15:52.790255",
     "status": "completed"
    },
    "tags": []
   },
   "outputs": [
    {
     "data": {
      "text/plain": [
       "([2, 3, 4], 1, 0)"
      ]
     },
     "execution_count": 12,
     "metadata": {},
     "output_type": "execute_result"
    }
   ],
   "source": [
    "TRAIN_SPLIT_IDXS = [0,1,2,3,4]\n",
    "VAL_SPLIT_IDX = (TEST_SPLIT_IDX + 1) % 5\n",
    "TRAIN_SPLIT_IDXS.remove(TEST_SPLIT_IDX)\n",
    "TRAIN_SPLIT_IDXS.remove(VAL_SPLIT_IDX)\n",
    "TRAIN_SPLIT_IDXS, VAL_SPLIT_IDX, TEST_SPLIT_IDX"
   ]
  },
  {
   "cell_type": "code",
   "execution_count": 13,
   "id": "be599f15",
   "metadata": {
    "execution": {
     "iopub.execute_input": "2025-05-15T16:15:52.812742Z",
     "iopub.status.busy": "2025-05-15T16:15:52.812331Z",
     "iopub.status.idle": "2025-05-15T16:15:52.814758Z",
     "shell.execute_reply": "2025-05-15T16:15:52.814462Z"
    },
    "papermill": {
     "duration": 0.009269,
     "end_time": "2025-05-15T16:15:52.815616",
     "exception": false,
     "start_time": "2025-05-15T16:15:52.806347",
     "status": "completed"
    },
    "tags": []
   },
   "outputs": [],
   "source": [
    "train_idxs = np.concatenate([left_out_splits[idx] for idx in TRAIN_SPLIT_IDXS])\n",
    "val_idxs = left_out_splits[VAL_SPLIT_IDX]\n",
    "test_idxs = left_out_splits[TEST_SPLIT_IDX]"
   ]
  },
  {
   "cell_type": "markdown",
   "id": "110e8a82",
   "metadata": {
    "papermill": {
     "duration": 0.00531,
     "end_time": "2025-05-15T16:15:52.826405",
     "exception": false,
     "start_time": "2025-05-15T16:15:52.821095",
     "status": "completed"
    },
    "tags": []
   },
   "source": [
    "### SUBSET DATASET INTO TRAIN/TEST/VAL SPLITS"
   ]
  },
  {
   "cell_type": "code",
   "execution_count": 14,
   "id": "0edfd81b",
   "metadata": {
    "execution": {
     "iopub.execute_input": "2025-05-15T16:15:52.838209Z",
     "iopub.status.busy": "2025-05-15T16:15:52.837843Z",
     "iopub.status.idle": "2025-05-15T16:15:52.844251Z",
     "shell.execute_reply": "2025-05-15T16:15:52.843947Z"
    },
    "papermill": {
     "duration": 0.013184,
     "end_time": "2025-05-15T16:15:52.845143",
     "exception": false,
     "start_time": "2025-05-15T16:15:52.831959",
     "status": "completed"
    },
    "tags": []
   },
   "outputs": [
    {
     "data": {
      "text/plain": [
       "((317, 107), (118, 107), (107, 107))"
      ]
     },
     "execution_count": 14,
     "metadata": {},
     "output_type": "execute_result"
    }
   ],
   "source": [
    "X_train = train_adata.X[train_idxs]\n",
    "X_test = train_adata.X[test_idxs]\n",
    "X_val = train_adata.X[val_idxs]\n",
    "X_train.shape, X_test.shape, X_val.shape"
   ]
  },
  {
   "cell_type": "code",
   "execution_count": 15,
   "id": "76a483da",
   "metadata": {
    "execution": {
     "iopub.execute_input": "2025-05-15T16:15:52.871449Z",
     "iopub.status.busy": "2025-05-15T16:15:52.871270Z",
     "iopub.status.idle": "2025-05-15T16:15:52.876871Z",
     "shell.execute_reply": "2025-05-15T16:15:52.876569Z"
    },
    "papermill": {
     "duration": 0.026755,
     "end_time": "2025-05-15T16:15:52.877743",
     "exception": false,
     "start_time": "2025-05-15T16:15:52.850988",
     "status": "completed"
    },
    "tags": []
   },
   "outputs": [
    {
     "data": {
      "text/plain": [
       "((317,), (118,), (107,))"
      ]
     },
     "execution_count": 15,
     "metadata": {},
     "output_type": "execute_result"
    }
   ],
   "source": [
    "y_train = train_adata.obs.iloc[train_idxs].disease.values.astype(str)\n",
    "y_test = train_adata.obs.iloc[test_idxs].disease.values.astype(str)\n",
    "y_val = train_adata.obs.iloc[val_idxs].disease.values.astype(str)\n",
    "y_train.shape, y_test.shape, y_val.shape"
   ]
  },
  {
   "cell_type": "code",
   "execution_count": 16,
   "id": "c728cc60",
   "metadata": {
    "execution": {
     "iopub.execute_input": "2025-05-15T16:15:52.890301Z",
     "iopub.status.busy": "2025-05-15T16:15:52.889933Z",
     "iopub.status.idle": "2025-05-15T16:15:52.892980Z",
     "shell.execute_reply": "2025-05-15T16:15:52.892668Z"
    },
    "papermill": {
     "duration": 0.010019,
     "end_time": "2025-05-15T16:15:52.893818",
     "exception": false,
     "start_time": "2025-05-15T16:15:52.883799",
     "status": "completed"
    },
    "tags": []
   },
   "outputs": [],
   "source": [
    "lenc = LabelEncoder()\n",
    "y_train_enc = lenc.fit_transform(y_train)\n",
    "y_val_enc = lenc.transform(y_val)\n",
    "y_test_enc = lenc.transform(y_test)"
   ]
  },
  {
   "cell_type": "markdown",
   "id": "b3d9e265",
   "metadata": {
    "papermill": {
     "duration": 0.005566,
     "end_time": "2025-05-15T16:15:52.905211",
     "exception": false,
     "start_time": "2025-05-15T16:15:52.899645",
     "status": "completed"
    },
    "tags": []
   },
   "source": [
    "### GENERATE F1 "
   ]
  },
  {
   "cell_type": "code",
   "execution_count": 17,
   "id": "0ef10e09",
   "metadata": {
    "execution": {
     "iopub.execute_input": "2025-05-15T16:15:52.917635Z",
     "iopub.status.busy": "2025-05-15T16:15:52.917233Z",
     "iopub.status.idle": "2025-05-15T16:15:52.920457Z",
     "shell.execute_reply": "2025-05-15T16:15:52.920132Z"
    },
    "papermill": {
     "duration": 0.01066,
     "end_time": "2025-05-15T16:15:52.921332",
     "exception": false,
     "start_time": "2025-05-15T16:15:52.910672",
     "status": "completed"
    },
    "tags": []
   },
   "outputs": [],
   "source": [
    "def custom_f1_score(y_true, y_pred):\n",
    "    return -f1_score(y_true, y_pred.argmax(1), average='weighted')"
   ]
  },
  {
   "cell_type": "code",
   "execution_count": 18,
   "id": "7af6d4be",
   "metadata": {
    "execution": {
     "iopub.execute_input": "2025-05-15T16:15:52.933175Z",
     "iopub.status.busy": "2025-05-15T16:15:52.932876Z",
     "iopub.status.idle": "2025-05-15T16:15:52.937070Z",
     "shell.execute_reply": "2025-05-15T16:15:52.936756Z"
    },
    "papermill": {
     "duration": 0.010995,
     "end_time": "2025-05-15T16:15:52.937877",
     "exception": false,
     "start_time": "2025-05-15T16:15:52.926882",
     "status": "completed"
    },
    "tags": []
   },
   "outputs": [],
   "source": [
    "eval_metric=custom_f1_score\n",
    "eval_metric_name='custom_f1_score'\n",
    "\n",
    "def objective(trial):\n",
    "    params = {\n",
    "        'n_estimators': 1500,\n",
    "        'max_depth': trial.suggest_int('max_depth', 3, 20),\n",
    "        'min_child_weight': trial.suggest_int('min_child_weight', 1, 250),\n",
    "        'subsample': trial.suggest_float('subsample', 0.1, 1.0),\n",
    "        'colsample_bynode': trial.suggest_float('colsample_bynode', 0.1, 1.0),\n",
    "        'learning_rate': trial.suggest_float('learning_rate', 1e-3, 5e-1, log=True),\n",
    "    }\n",
    "    pruning_callback = optuna.integration.XGBoostPruningCallback(trial, f'validation_0-{eval_metric_name}')\n",
    "    es_callback = xgboost.callback.EarlyStopping(20, min_delta=0.001)\n",
    "    xgb = xgboost.XGBClassifier(\n",
    "        eval_metric=eval_metric,\n",
    "        callbacks=[pruning_callback, es_callback],\n",
    "        n_jobs=5,\n",
    "        **params\n",
    "    )\n",
    "    xgb.fit(\n",
    "        X_train, \n",
    "        y_train_enc, \n",
    "        verbose=0,\n",
    "        eval_set=[(X_val, y_val_enc)],\n",
    "    )\n",
    "    trial.set_user_attr('best_iteration', xgb.best_iteration)\n",
    "\n",
    "    return xgb.best_score"
   ]
  },
  {
   "cell_type": "code",
   "execution_count": 19,
   "id": "b82d3d36",
   "metadata": {
    "execution": {
     "iopub.execute_input": "2025-05-15T16:15:52.950318Z",
     "iopub.status.busy": "2025-05-15T16:15:52.949745Z",
     "iopub.status.idle": "2025-05-15T16:16:09.362246Z",
     "shell.execute_reply": "2025-05-15T16:16:09.361776Z"
    },
    "papermill": {
     "duration": 16.419664,
     "end_time": "2025-05-15T16:16:09.363271",
     "exception": false,
     "start_time": "2025-05-15T16:15:52.943607",
     "status": "completed"
    },
    "scrolled": true,
    "tags": []
   },
   "outputs": [
    {
     "name": "stderr",
     "output_type": "stream",
     "text": [
      "[I 2025-05-15 18:15:52,951] A new study created in memory with name: no-name-7e1c6c5e-c560-401f-b4ca-0d939cb7b10b\n"
     ]
    },
    {
     "name": "stderr",
     "output_type": "stream",
     "text": [
      "[I 2025-05-15 18:15:54,586] Trial 0 finished with value: -0.019167 and parameters: {'max_depth': 9, 'min_child_weight': 238, 'subsample': 0.7587945476302645, 'colsample_bynode': 0.6387926357773329, 'learning_rate': 0.0026368755339723046}. Best is trial 0 with value: -0.019167.\n"
     ]
    },
    {
     "name": "stderr",
     "output_type": "stream",
     "text": [
      "[I 2025-05-15 18:15:55,184] Trial 1 finished with value: -0.539262 and parameters: {'max_depth': 5, 'min_child_weight': 15, 'subsample': 0.8795585311974417, 'colsample_bynode': 0.6410035105688879, 'learning_rate': 0.08148293210105287}. Best is trial 1 with value: -0.539262.\n"
     ]
    },
    {
     "name": "stderr",
     "output_type": "stream",
     "text": [
      "[I 2025-05-15 18:15:55,406] Trial 2 finished with value: -0.019167 and parameters: {'max_depth': 3, 'min_child_weight': 243, 'subsample': 0.8491983767203796, 'colsample_bynode': 0.29110519961044856, 'learning_rate': 0.003095566460242371}. Best is trial 1 with value: -0.539262.\n"
     ]
    },
    {
     "name": "stderr",
     "output_type": "stream",
     "text": [
      "[I 2025-05-15 18:15:55,626] Trial 3 finished with value: -0.019167 and parameters: {'max_depth': 6, 'min_child_weight': 77, 'subsample': 0.5722807884690141, 'colsample_bynode': 0.48875051677790415, 'learning_rate': 0.006109683510122491}. Best is trial 1 with value: -0.539262.\n"
     ]
    },
    {
     "name": "stderr",
     "output_type": "stream",
     "text": [
      "[I 2025-05-15 18:15:55,848] Trial 4 finished with value: -0.019167 and parameters: {'max_depth': 14, 'min_child_weight': 35, 'subsample': 0.3629301836816964, 'colsample_bynode': 0.4297256589643226, 'learning_rate': 0.01701841881702917}. Best is trial 1 with value: -0.539262.\n"
     ]
    },
    {
     "name": "stderr",
     "output_type": "stream",
     "text": [
      "[I 2025-05-15 18:15:56,073] Trial 5 pruned. Trial was pruned at iteration 20.\n"
     ]
    },
    {
     "name": "stderr",
     "output_type": "stream",
     "text": [
      "[I 2025-05-15 18:15:56,297] Trial 6 pruned. Trial was pruned at iteration 20.\n"
     ]
    },
    {
     "name": "stderr",
     "output_type": "stream",
     "text": [
      "[I 2025-05-15 18:15:56,526] Trial 7 finished with value: -0.019167 and parameters: {'max_depth': 17, 'min_child_weight': 77, 'subsample': 0.1879049026057455, 'colsample_bynode': 0.7158097238609412, 'learning_rate': 0.015415527060141935}. Best is trial 1 with value: -0.539262.\n"
     ]
    },
    {
     "name": "stderr",
     "output_type": "stream",
     "text": [
      "[I 2025-05-15 18:15:56,749] Trial 8 finished with value: -0.019167 and parameters: {'max_depth': 5, 'min_child_weight': 124, 'subsample': 0.13094966900369656, 'colsample_bynode': 0.9183883618709039, 'learning_rate': 0.004993895014755658}. Best is trial 1 with value: -0.539262.\n"
     ]
    },
    {
     "name": "stderr",
     "output_type": "stream",
     "text": [
      "[I 2025-05-15 18:15:56,969] Trial 9 pruned. Trial was pruned at iteration 20.\n"
     ]
    },
    {
     "name": "stderr",
     "output_type": "stream",
     "text": [
      "[I 2025-05-15 18:15:57,518] Trial 10 finished with value: -0.539549 and parameters: {'max_depth': 9, 'min_child_weight': 2, 'subsample': 0.9725833997090791, 'colsample_bynode': 0.11616568805333755, 'learning_rate': 0.17780618353487967}. Best is trial 10 with value: -0.539549.\n"
     ]
    },
    {
     "name": "stderr",
     "output_type": "stream",
     "text": [
      "[I 2025-05-15 18:15:57,955] Trial 11 pruned. Trial was pruned at iteration 26.\n"
     ]
    },
    {
     "name": "stderr",
     "output_type": "stream",
     "text": [
      "[I 2025-05-15 18:15:58,399] Trial 12 pruned. Trial was pruned at iteration 26.\n"
     ]
    },
    {
     "name": "stderr",
     "output_type": "stream",
     "text": [
      "[I 2025-05-15 18:15:58,644] Trial 13 finished with value: -0.019167 and parameters: {'max_depth': 6, 'min_child_weight': 173, 'subsample': 0.790863397930712, 'colsample_bynode': 0.8100137258468498, 'learning_rate': 0.09009490635410385}. Best is trial 10 with value: -0.539549.\n"
     ]
    },
    {
     "name": "stderr",
     "output_type": "stream",
     "text": [
      "[I 2025-05-15 18:15:58,891] Trial 14 finished with value: -0.019167 and parameters: {'max_depth': 11, 'min_child_weight': 132, 'subsample': 0.8756857866758896, 'colsample_bynode': 0.37234427067556525, 'learning_rate': 0.33580116263734355}. Best is trial 10 with value: -0.539549.\n"
     ]
    },
    {
     "name": "stderr",
     "output_type": "stream",
     "text": [
      "[I 2025-05-15 18:15:59,745] Trial 15 finished with value: -0.537192 and parameters: {'max_depth': 20, 'min_child_weight': 1, 'subsample': 0.6960027044621645, 'colsample_bynode': 0.29820978139149346, 'learning_rate': 0.03580498851951521}. Best is trial 10 with value: -0.539549.\n"
     ]
    },
    {
     "name": "stderr",
     "output_type": "stream",
     "text": [
      "[I 2025-05-15 18:15:59,988] Trial 16 pruned. Trial was pruned at iteration 20.\n"
     ]
    },
    {
     "name": "stderr",
     "output_type": "stream",
     "text": [
      "[I 2025-05-15 18:16:00,225] Trial 17 pruned. Trial was pruned at iteration 20.\n"
     ]
    },
    {
     "name": "stderr",
     "output_type": "stream",
     "text": [
      "[I 2025-05-15 18:16:00,469] Trial 18 pruned. Trial was pruned at iteration 20.\n"
     ]
    },
    {
     "name": "stderr",
     "output_type": "stream",
     "text": [
      "[I 2025-05-15 18:16:00,710] Trial 19 finished with value: -0.019167 and parameters: {'max_depth': 4, 'min_child_weight': 96, 'subsample': 0.6937203157540224, 'colsample_bynode': 0.10989027031939402, 'learning_rate': 0.0506827706601686}. Best is trial 10 with value: -0.539549.\n"
     ]
    },
    {
     "name": "stderr",
     "output_type": "stream",
     "text": [
      "[I 2025-05-15 18:16:01,064] Trial 20 finished with value: -0.542727 and parameters: {'max_depth': 8, 'min_child_weight': 24, 'subsample': 0.9987814503928554, 'colsample_bynode': 0.8651467877814526, 'learning_rate': 0.2221537505158567}. Best is trial 20 with value: -0.542727.\n"
     ]
    },
    {
     "name": "stderr",
     "output_type": "stream",
     "text": [
      "[I 2025-05-15 18:16:01,398] Trial 21 finished with value: -0.52224 and parameters: {'max_depth': 8, 'min_child_weight': 23, 'subsample': 0.9957340295417907, 'colsample_bynode': 0.8564834725554809, 'learning_rate': 0.24892967230551474}. Best is trial 20 with value: -0.542727.\n"
     ]
    },
    {
     "name": "stderr",
     "output_type": "stream",
     "text": [
      "[I 2025-05-15 18:16:01,621] Trial 22 pruned. Trial was pruned at iteration 20.\n"
     ]
    },
    {
     "name": "stderr",
     "output_type": "stream",
     "text": [
      "[I 2025-05-15 18:16:01,871] Trial 23 pruned. Trial was pruned at iteration 20.\n"
     ]
    },
    {
     "name": "stderr",
     "output_type": "stream",
     "text": [
      "[I 2025-05-15 18:16:02,124] Trial 24 pruned. Trial was pruned at iteration 20.\n"
     ]
    },
    {
     "name": "stderr",
     "output_type": "stream",
     "text": [
      "[I 2025-05-15 18:16:02,350] Trial 25 pruned. Trial was pruned at iteration 20.\n"
     ]
    },
    {
     "name": "stderr",
     "output_type": "stream",
     "text": [
      "[I 2025-05-15 18:16:02,606] Trial 26 pruned. Trial was pruned at iteration 20.\n"
     ]
    },
    {
     "name": "stderr",
     "output_type": "stream",
     "text": [
      "[I 2025-05-15 18:16:02,836] Trial 27 finished with value: -0.019167 and parameters: {'max_depth': 5, 'min_child_weight': 154, 'subsample': 0.9906886565239998, 'colsample_bynode': 0.8889411092272577, 'learning_rate': 0.0268896985372374}. Best is trial 20 with value: -0.542727.\n"
     ]
    },
    {
     "name": "stderr",
     "output_type": "stream",
     "text": [
      "[I 2025-05-15 18:16:03,062] Trial 28 pruned. Trial was pruned at iteration 20.\n"
     ]
    },
    {
     "name": "stderr",
     "output_type": "stream",
     "text": [
      "[I 2025-05-15 18:16:03,286] Trial 29 pruned. Trial was pruned at iteration 20.\n"
     ]
    },
    {
     "name": "stderr",
     "output_type": "stream",
     "text": [
      "[I 2025-05-15 18:16:03,549] Trial 30 pruned. Trial was pruned at iteration 20.\n"
     ]
    },
    {
     "name": "stderr",
     "output_type": "stream",
     "text": [
      "[I 2025-05-15 18:16:03,932] Trial 31 pruned. Trial was pruned at iteration 20.\n"
     ]
    },
    {
     "name": "stderr",
     "output_type": "stream",
     "text": [
      "[I 2025-05-15 18:16:04,161] Trial 32 finished with value: -0.153245 and parameters: {'max_depth': 19, 'min_child_weight': 36, 'subsample': 0.8117249299120847, 'colsample_bynode': 0.3244904291452517, 'learning_rate': 0.010249484596259744}. Best is trial 20 with value: -0.542727.\n"
     ]
    },
    {
     "name": "stderr",
     "output_type": "stream",
     "text": [
      "[I 2025-05-15 18:16:04,878] Trial 33 finished with value: -0.540965 and parameters: {'max_depth': 20, 'min_child_weight': 3, 'subsample': 0.9293463592386991, 'colsample_bynode': 0.20217447318531787, 'learning_rate': 0.0287292636410659}. Best is trial 20 with value: -0.542727.\n"
     ]
    },
    {
     "name": "stderr",
     "output_type": "stream",
     "text": [
      "[I 2025-05-15 18:16:05,103] Trial 34 pruned. Trial was pruned at iteration 20.\n"
     ]
    },
    {
     "name": "stderr",
     "output_type": "stream",
     "text": [
      "[I 2025-05-15 18:16:05,333] Trial 35 finished with value: -0.153245 and parameters: {'max_depth': 7, 'min_child_weight': 46, 'subsample': 0.8582206837852024, 'colsample_bynode': 0.4692367761305269, 'learning_rate': 0.011604009666148192}. Best is trial 20 with value: -0.542727.\n"
     ]
    },
    {
     "name": "stderr",
     "output_type": "stream",
     "text": [
      "[I 2025-05-15 18:16:05,558] Trial 36 pruned. Trial was pruned at iteration 20.\n"
     ]
    },
    {
     "name": "stderr",
     "output_type": "stream",
     "text": [
      "[I 2025-05-15 18:16:05,791] Trial 37 pruned. Trial was pruned at iteration 20.\n"
     ]
    },
    {
     "name": "stderr",
     "output_type": "stream",
     "text": [
      "[I 2025-05-15 18:16:06,032] Trial 38 pruned. Trial was pruned at iteration 20.\n"
     ]
    },
    {
     "name": "stderr",
     "output_type": "stream",
     "text": [
      "[I 2025-05-15 18:16:06,258] Trial 39 pruned. Trial was pruned at iteration 20.\n"
     ]
    },
    {
     "name": "stderr",
     "output_type": "stream",
     "text": [
      "[I 2025-05-15 18:16:06,483] Trial 40 pruned. Trial was pruned at iteration 20.\n"
     ]
    },
    {
     "name": "stderr",
     "output_type": "stream",
     "text": [
      "[I 2025-05-15 18:16:06,848] Trial 41 pruned. Trial was pruned at iteration 20.\n"
     ]
    },
    {
     "name": "stderr",
     "output_type": "stream",
     "text": [
      "[I 2025-05-15 18:16:07,081] Trial 42 pruned. Trial was pruned at iteration 20.\n"
     ]
    },
    {
     "name": "stderr",
     "output_type": "stream",
     "text": [
      "[I 2025-05-15 18:16:07,748] Trial 43 finished with value: -0.542264 and parameters: {'max_depth': 20, 'min_child_weight': 2, 'subsample': 0.9337150900229804, 'colsample_bynode': 0.15026529384405907, 'learning_rate': 0.027581011418190794}. Best is trial 20 with value: -0.542727.\n"
     ]
    },
    {
     "name": "stderr",
     "output_type": "stream",
     "text": [
      "[I 2025-05-15 18:16:07,975] Trial 44 finished with value: -0.153245 and parameters: {'max_depth': 18, 'min_child_weight': 46, 'subsample': 0.951667547035924, 'colsample_bynode': 0.14762051884252497, 'learning_rate': 0.013145548671981411}. Best is trial 20 with value: -0.542727.\n"
     ]
    },
    {
     "name": "stderr",
     "output_type": "stream",
     "text": [
      "[I 2025-05-15 18:16:08,266] Trial 45 pruned. Trial was pruned at iteration 20.\n"
     ]
    },
    {
     "name": "stderr",
     "output_type": "stream",
     "text": [
      "[I 2025-05-15 18:16:08,539] Trial 46 pruned. Trial was pruned at iteration 20.\n"
     ]
    },
    {
     "name": "stderr",
     "output_type": "stream",
     "text": [
      "[I 2025-05-15 18:16:08,712] Trial 47 pruned. Trial was pruned at iteration 0.\n"
     ]
    },
    {
     "name": "stderr",
     "output_type": "stream",
     "text": [
      "[I 2025-05-15 18:16:08,984] Trial 48 pruned. Trial was pruned at iteration 20.\n"
     ]
    },
    {
     "name": "stderr",
     "output_type": "stream",
     "text": [
      "[I 2025-05-15 18:16:09,215] Trial 49 finished with value: -0.153245 and parameters: {'max_depth': 3, 'min_child_weight': 40, 'subsample': 0.9143985026427716, 'colsample_bynode': 0.9219891158227156, 'learning_rate': 0.0023116259332917957}. Best is trial 20 with value: -0.542727.\n"
     ]
    }
   ],
   "source": [
    "sampler = optuna.samplers.TPESampler(seed=42)\n",
    "study = optuna.create_study(direction='minimize', sampler=sampler)\n",
    "study.optimize(objective, n_trials=N_TRIALS, gc_after_trial=True)"
   ]
  },
  {
   "cell_type": "code",
   "execution_count": 20,
   "id": "2f49a932",
   "metadata": {
    "execution": {
     "iopub.execute_input": "2025-05-15T16:16:10.020848Z",
     "iopub.status.busy": "2025-05-15T16:16:10.020427Z",
     "iopub.status.idle": "2025-05-15T16:16:10.988647Z",
     "shell.execute_reply": "2025-05-15T16:16:10.988271Z"
    },
    "papermill": {
     "duration": 1.270846,
     "end_time": "2025-05-15T16:16:10.989673",
     "exception": false,
     "start_time": "2025-05-15T16:16:09.718827",
     "status": "completed"
    },
    "tags": []
   },
   "outputs": [
    {
     "data": {
      "text/plain": [
       "['/scratch_isilon/groups/singlecell/shared/projects/Inflammation-PBMCs-Atlas/03_downstream_analysis/08_gene_importance/xgboost_external_validation/xgboost_TopN_genes/results_20/study/Plasma_6_0_xgboost.pkl']"
      ]
     },
     "execution_count": 20,
     "metadata": {},
     "output_type": "execute_result"
    }
   ],
   "source": [
    "out_dir = here(f'03_downstream_analysis/08_gene_importance/xgboost_external_validation/xgboost_TopN_genes/results_{N_GENES}/study')\n",
    "\n",
    "if not os.path.exists(out_dir):\n",
    "    os.makedirs(out_dir)\n",
    "    \n",
    "joblib.dump(study,os.path.join(out_dir, f'{CELL_TYPE}_{SEED}_{TEST_SPLIT_IDX}_xgboost.pkl'))"
   ]
  },
  {
   "cell_type": "code",
   "execution_count": 21,
   "id": "b1afd0e1",
   "metadata": {
    "execution": {
     "iopub.execute_input": "2025-05-15T16:16:11.471014Z",
     "iopub.status.busy": "2025-05-15T16:16:11.470485Z",
     "iopub.status.idle": "2025-05-15T16:16:11.675709Z",
     "shell.execute_reply": "2025-05-15T16:16:11.675315Z"
    },
    "papermill": {
     "duration": 0.30737,
     "end_time": "2025-05-15T16:16:11.677211",
     "exception": false,
     "start_time": "2025-05-15T16:16:11.369841",
     "status": "completed"
    },
    "tags": []
   },
   "outputs": [
    {
     "data": {
      "text/html": [
       "<style>#sk-container-id-1 {\n",
       "  /* Definition of color scheme common for light and dark mode */\n",
       "  --sklearn-color-text: black;\n",
       "  --sklearn-color-line: gray;\n",
       "  /* Definition of color scheme for unfitted estimators */\n",
       "  --sklearn-color-unfitted-level-0: #fff5e6;\n",
       "  --sklearn-color-unfitted-level-1: #f6e4d2;\n",
       "  --sklearn-color-unfitted-level-2: #ffe0b3;\n",
       "  --sklearn-color-unfitted-level-3: chocolate;\n",
       "  /* Definition of color scheme for fitted estimators */\n",
       "  --sklearn-color-fitted-level-0: #f0f8ff;\n",
       "  --sklearn-color-fitted-level-1: #d4ebff;\n",
       "  --sklearn-color-fitted-level-2: #b3dbfd;\n",
       "  --sklearn-color-fitted-level-3: cornflowerblue;\n",
       "\n",
       "  /* Specific color for light theme */\n",
       "  --sklearn-color-text-on-default-background: var(--sg-text-color, var(--theme-code-foreground, var(--jp-content-font-color1, black)));\n",
       "  --sklearn-color-background: var(--sg-background-color, var(--theme-background, var(--jp-layout-color0, white)));\n",
       "  --sklearn-color-border-box: var(--sg-text-color, var(--theme-code-foreground, var(--jp-content-font-color1, black)));\n",
       "  --sklearn-color-icon: #696969;\n",
       "\n",
       "  @media (prefers-color-scheme: dark) {\n",
       "    /* Redefinition of color scheme for dark theme */\n",
       "    --sklearn-color-text-on-default-background: var(--sg-text-color, var(--theme-code-foreground, var(--jp-content-font-color1, white)));\n",
       "    --sklearn-color-background: var(--sg-background-color, var(--theme-background, var(--jp-layout-color0, #111)));\n",
       "    --sklearn-color-border-box: var(--sg-text-color, var(--theme-code-foreground, var(--jp-content-font-color1, white)));\n",
       "    --sklearn-color-icon: #878787;\n",
       "  }\n",
       "}\n",
       "\n",
       "#sk-container-id-1 {\n",
       "  color: var(--sklearn-color-text);\n",
       "}\n",
       "\n",
       "#sk-container-id-1 pre {\n",
       "  padding: 0;\n",
       "}\n",
       "\n",
       "#sk-container-id-1 input.sk-hidden--visually {\n",
       "  border: 0;\n",
       "  clip: rect(1px 1px 1px 1px);\n",
       "  clip: rect(1px, 1px, 1px, 1px);\n",
       "  height: 1px;\n",
       "  margin: -1px;\n",
       "  overflow: hidden;\n",
       "  padding: 0;\n",
       "  position: absolute;\n",
       "  width: 1px;\n",
       "}\n",
       "\n",
       "#sk-container-id-1 div.sk-dashed-wrapped {\n",
       "  border: 1px dashed var(--sklearn-color-line);\n",
       "  margin: 0 0.4em 0.5em 0.4em;\n",
       "  box-sizing: border-box;\n",
       "  padding-bottom: 0.4em;\n",
       "  background-color: var(--sklearn-color-background);\n",
       "}\n",
       "\n",
       "#sk-container-id-1 div.sk-container {\n",
       "  /* jupyter's `normalize.less` sets `[hidden] { display: none; }`\n",
       "     but bootstrap.min.css set `[hidden] { display: none !important; }`\n",
       "     so we also need the `!important` here to be able to override the\n",
       "     default hidden behavior on the sphinx rendered scikit-learn.org.\n",
       "     See: https://github.com/scikit-learn/scikit-learn/issues/21755 */\n",
       "  display: inline-block !important;\n",
       "  position: relative;\n",
       "}\n",
       "\n",
       "#sk-container-id-1 div.sk-text-repr-fallback {\n",
       "  display: none;\n",
       "}\n",
       "\n",
       "div.sk-parallel-item,\n",
       "div.sk-serial,\n",
       "div.sk-item {\n",
       "  /* draw centered vertical line to link estimators */\n",
       "  background-image: linear-gradient(var(--sklearn-color-text-on-default-background), var(--sklearn-color-text-on-default-background));\n",
       "  background-size: 2px 100%;\n",
       "  background-repeat: no-repeat;\n",
       "  background-position: center center;\n",
       "}\n",
       "\n",
       "/* Parallel-specific style estimator block */\n",
       "\n",
       "#sk-container-id-1 div.sk-parallel-item::after {\n",
       "  content: \"\";\n",
       "  width: 100%;\n",
       "  border-bottom: 2px solid var(--sklearn-color-text-on-default-background);\n",
       "  flex-grow: 1;\n",
       "}\n",
       "\n",
       "#sk-container-id-1 div.sk-parallel {\n",
       "  display: flex;\n",
       "  align-items: stretch;\n",
       "  justify-content: center;\n",
       "  background-color: var(--sklearn-color-background);\n",
       "  position: relative;\n",
       "}\n",
       "\n",
       "#sk-container-id-1 div.sk-parallel-item {\n",
       "  display: flex;\n",
       "  flex-direction: column;\n",
       "}\n",
       "\n",
       "#sk-container-id-1 div.sk-parallel-item:first-child::after {\n",
       "  align-self: flex-end;\n",
       "  width: 50%;\n",
       "}\n",
       "\n",
       "#sk-container-id-1 div.sk-parallel-item:last-child::after {\n",
       "  align-self: flex-start;\n",
       "  width: 50%;\n",
       "}\n",
       "\n",
       "#sk-container-id-1 div.sk-parallel-item:only-child::after {\n",
       "  width: 0;\n",
       "}\n",
       "\n",
       "/* Serial-specific style estimator block */\n",
       "\n",
       "#sk-container-id-1 div.sk-serial {\n",
       "  display: flex;\n",
       "  flex-direction: column;\n",
       "  align-items: center;\n",
       "  background-color: var(--sklearn-color-background);\n",
       "  padding-right: 1em;\n",
       "  padding-left: 1em;\n",
       "}\n",
       "\n",
       "\n",
       "/* Toggleable style: style used for estimator/Pipeline/ColumnTransformer box that is\n",
       "clickable and can be expanded/collapsed.\n",
       "- Pipeline and ColumnTransformer use this feature and define the default style\n",
       "- Estimators will overwrite some part of the style using the `sk-estimator` class\n",
       "*/\n",
       "\n",
       "/* Pipeline and ColumnTransformer style (default) */\n",
       "\n",
       "#sk-container-id-1 div.sk-toggleable {\n",
       "  /* Default theme specific background. It is overwritten whether we have a\n",
       "  specific estimator or a Pipeline/ColumnTransformer */\n",
       "  background-color: var(--sklearn-color-background);\n",
       "}\n",
       "\n",
       "/* Toggleable label */\n",
       "#sk-container-id-1 label.sk-toggleable__label {\n",
       "  cursor: pointer;\n",
       "  display: block;\n",
       "  width: 100%;\n",
       "  margin-bottom: 0;\n",
       "  padding: 0.5em;\n",
       "  box-sizing: border-box;\n",
       "  text-align: center;\n",
       "}\n",
       "\n",
       "#sk-container-id-1 label.sk-toggleable__label-arrow:before {\n",
       "  /* Arrow on the left of the label */\n",
       "  content: \"▸\";\n",
       "  float: left;\n",
       "  margin-right: 0.25em;\n",
       "  color: var(--sklearn-color-icon);\n",
       "}\n",
       "\n",
       "#sk-container-id-1 label.sk-toggleable__label-arrow:hover:before {\n",
       "  color: var(--sklearn-color-text);\n",
       "}\n",
       "\n",
       "/* Toggleable content - dropdown */\n",
       "\n",
       "#sk-container-id-1 div.sk-toggleable__content {\n",
       "  max-height: 0;\n",
       "  max-width: 0;\n",
       "  overflow: hidden;\n",
       "  text-align: left;\n",
       "  /* unfitted */\n",
       "  background-color: var(--sklearn-color-unfitted-level-0);\n",
       "}\n",
       "\n",
       "#sk-container-id-1 div.sk-toggleable__content.fitted {\n",
       "  /* fitted */\n",
       "  background-color: var(--sklearn-color-fitted-level-0);\n",
       "}\n",
       "\n",
       "#sk-container-id-1 div.sk-toggleable__content pre {\n",
       "  margin: 0.2em;\n",
       "  border-radius: 0.25em;\n",
       "  color: var(--sklearn-color-text);\n",
       "  /* unfitted */\n",
       "  background-color: var(--sklearn-color-unfitted-level-0);\n",
       "}\n",
       "\n",
       "#sk-container-id-1 div.sk-toggleable__content.fitted pre {\n",
       "  /* unfitted */\n",
       "  background-color: var(--sklearn-color-fitted-level-0);\n",
       "}\n",
       "\n",
       "#sk-container-id-1 input.sk-toggleable__control:checked~div.sk-toggleable__content {\n",
       "  /* Expand drop-down */\n",
       "  max-height: 200px;\n",
       "  max-width: 100%;\n",
       "  overflow: auto;\n",
       "}\n",
       "\n",
       "#sk-container-id-1 input.sk-toggleable__control:checked~label.sk-toggleable__label-arrow:before {\n",
       "  content: \"▾\";\n",
       "}\n",
       "\n",
       "/* Pipeline/ColumnTransformer-specific style */\n",
       "\n",
       "#sk-container-id-1 div.sk-label input.sk-toggleable__control:checked~label.sk-toggleable__label {\n",
       "  color: var(--sklearn-color-text);\n",
       "  background-color: var(--sklearn-color-unfitted-level-2);\n",
       "}\n",
       "\n",
       "#sk-container-id-1 div.sk-label.fitted input.sk-toggleable__control:checked~label.sk-toggleable__label {\n",
       "  background-color: var(--sklearn-color-fitted-level-2);\n",
       "}\n",
       "\n",
       "/* Estimator-specific style */\n",
       "\n",
       "/* Colorize estimator box */\n",
       "#sk-container-id-1 div.sk-estimator input.sk-toggleable__control:checked~label.sk-toggleable__label {\n",
       "  /* unfitted */\n",
       "  background-color: var(--sklearn-color-unfitted-level-2);\n",
       "}\n",
       "\n",
       "#sk-container-id-1 div.sk-estimator.fitted input.sk-toggleable__control:checked~label.sk-toggleable__label {\n",
       "  /* fitted */\n",
       "  background-color: var(--sklearn-color-fitted-level-2);\n",
       "}\n",
       "\n",
       "#sk-container-id-1 div.sk-label label.sk-toggleable__label,\n",
       "#sk-container-id-1 div.sk-label label {\n",
       "  /* The background is the default theme color */\n",
       "  color: var(--sklearn-color-text-on-default-background);\n",
       "}\n",
       "\n",
       "/* On hover, darken the color of the background */\n",
       "#sk-container-id-1 div.sk-label:hover label.sk-toggleable__label {\n",
       "  color: var(--sklearn-color-text);\n",
       "  background-color: var(--sklearn-color-unfitted-level-2);\n",
       "}\n",
       "\n",
       "/* Label box, darken color on hover, fitted */\n",
       "#sk-container-id-1 div.sk-label.fitted:hover label.sk-toggleable__label.fitted {\n",
       "  color: var(--sklearn-color-text);\n",
       "  background-color: var(--sklearn-color-fitted-level-2);\n",
       "}\n",
       "\n",
       "/* Estimator label */\n",
       "\n",
       "#sk-container-id-1 div.sk-label label {\n",
       "  font-family: monospace;\n",
       "  font-weight: bold;\n",
       "  display: inline-block;\n",
       "  line-height: 1.2em;\n",
       "}\n",
       "\n",
       "#sk-container-id-1 div.sk-label-container {\n",
       "  text-align: center;\n",
       "}\n",
       "\n",
       "/* Estimator-specific */\n",
       "#sk-container-id-1 div.sk-estimator {\n",
       "  font-family: monospace;\n",
       "  border: 1px dotted var(--sklearn-color-border-box);\n",
       "  border-radius: 0.25em;\n",
       "  box-sizing: border-box;\n",
       "  margin-bottom: 0.5em;\n",
       "  /* unfitted */\n",
       "  background-color: var(--sklearn-color-unfitted-level-0);\n",
       "}\n",
       "\n",
       "#sk-container-id-1 div.sk-estimator.fitted {\n",
       "  /* fitted */\n",
       "  background-color: var(--sklearn-color-fitted-level-0);\n",
       "}\n",
       "\n",
       "/* on hover */\n",
       "#sk-container-id-1 div.sk-estimator:hover {\n",
       "  /* unfitted */\n",
       "  background-color: var(--sklearn-color-unfitted-level-2);\n",
       "}\n",
       "\n",
       "#sk-container-id-1 div.sk-estimator.fitted:hover {\n",
       "  /* fitted */\n",
       "  background-color: var(--sklearn-color-fitted-level-2);\n",
       "}\n",
       "\n",
       "/* Specification for estimator info (e.g. \"i\" and \"?\") */\n",
       "\n",
       "/* Common style for \"i\" and \"?\" */\n",
       "\n",
       ".sk-estimator-doc-link,\n",
       "a:link.sk-estimator-doc-link,\n",
       "a:visited.sk-estimator-doc-link {\n",
       "  float: right;\n",
       "  font-size: smaller;\n",
       "  line-height: 1em;\n",
       "  font-family: monospace;\n",
       "  background-color: var(--sklearn-color-background);\n",
       "  border-radius: 1em;\n",
       "  height: 1em;\n",
       "  width: 1em;\n",
       "  text-decoration: none !important;\n",
       "  margin-left: 1ex;\n",
       "  /* unfitted */\n",
       "  border: var(--sklearn-color-unfitted-level-1) 1pt solid;\n",
       "  color: var(--sklearn-color-unfitted-level-1);\n",
       "}\n",
       "\n",
       ".sk-estimator-doc-link.fitted,\n",
       "a:link.sk-estimator-doc-link.fitted,\n",
       "a:visited.sk-estimator-doc-link.fitted {\n",
       "  /* fitted */\n",
       "  border: var(--sklearn-color-fitted-level-1) 1pt solid;\n",
       "  color: var(--sklearn-color-fitted-level-1);\n",
       "}\n",
       "\n",
       "/* On hover */\n",
       "div.sk-estimator:hover .sk-estimator-doc-link:hover,\n",
       ".sk-estimator-doc-link:hover,\n",
       "div.sk-label-container:hover .sk-estimator-doc-link:hover,\n",
       ".sk-estimator-doc-link:hover {\n",
       "  /* unfitted */\n",
       "  background-color: var(--sklearn-color-unfitted-level-3);\n",
       "  color: var(--sklearn-color-background);\n",
       "  text-decoration: none;\n",
       "}\n",
       "\n",
       "div.sk-estimator.fitted:hover .sk-estimator-doc-link.fitted:hover,\n",
       ".sk-estimator-doc-link.fitted:hover,\n",
       "div.sk-label-container:hover .sk-estimator-doc-link.fitted:hover,\n",
       ".sk-estimator-doc-link.fitted:hover {\n",
       "  /* fitted */\n",
       "  background-color: var(--sklearn-color-fitted-level-3);\n",
       "  color: var(--sklearn-color-background);\n",
       "  text-decoration: none;\n",
       "}\n",
       "\n",
       "/* Span, style for the box shown on hovering the info icon */\n",
       ".sk-estimator-doc-link span {\n",
       "  display: none;\n",
       "  z-index: 9999;\n",
       "  position: relative;\n",
       "  font-weight: normal;\n",
       "  right: .2ex;\n",
       "  padding: .5ex;\n",
       "  margin: .5ex;\n",
       "  width: min-content;\n",
       "  min-width: 20ex;\n",
       "  max-width: 50ex;\n",
       "  color: var(--sklearn-color-text);\n",
       "  box-shadow: 2pt 2pt 4pt #999;\n",
       "  /* unfitted */\n",
       "  background: var(--sklearn-color-unfitted-level-0);\n",
       "  border: .5pt solid var(--sklearn-color-unfitted-level-3);\n",
       "}\n",
       "\n",
       ".sk-estimator-doc-link.fitted span {\n",
       "  /* fitted */\n",
       "  background: var(--sklearn-color-fitted-level-0);\n",
       "  border: var(--sklearn-color-fitted-level-3);\n",
       "}\n",
       "\n",
       ".sk-estimator-doc-link:hover span {\n",
       "  display: block;\n",
       "}\n",
       "\n",
       "/* \"?\"-specific style due to the `<a>` HTML tag */\n",
       "\n",
       "#sk-container-id-1 a.estimator_doc_link {\n",
       "  float: right;\n",
       "  font-size: 1rem;\n",
       "  line-height: 1em;\n",
       "  font-family: monospace;\n",
       "  background-color: var(--sklearn-color-background);\n",
       "  border-radius: 1rem;\n",
       "  height: 1rem;\n",
       "  width: 1rem;\n",
       "  text-decoration: none;\n",
       "  /* unfitted */\n",
       "  color: var(--sklearn-color-unfitted-level-1);\n",
       "  border: var(--sklearn-color-unfitted-level-1) 1pt solid;\n",
       "}\n",
       "\n",
       "#sk-container-id-1 a.estimator_doc_link.fitted {\n",
       "  /* fitted */\n",
       "  border: var(--sklearn-color-fitted-level-1) 1pt solid;\n",
       "  color: var(--sklearn-color-fitted-level-1);\n",
       "}\n",
       "\n",
       "/* On hover */\n",
       "#sk-container-id-1 a.estimator_doc_link:hover {\n",
       "  /* unfitted */\n",
       "  background-color: var(--sklearn-color-unfitted-level-3);\n",
       "  color: var(--sklearn-color-background);\n",
       "  text-decoration: none;\n",
       "}\n",
       "\n",
       "#sk-container-id-1 a.estimator_doc_link.fitted:hover {\n",
       "  /* fitted */\n",
       "  background-color: var(--sklearn-color-fitted-level-3);\n",
       "}\n",
       "</style><div id=\"sk-container-id-1\" class=\"sk-top-container\"><div class=\"sk-text-repr-fallback\"><pre>XGBClassifier(base_score=None, booster=None, callbacks=None,\n",
       "              colsample_bylevel=None, colsample_bynode=0.8651467877814526,\n",
       "              colsample_bytree=None, device=None, early_stopping_rounds=None,\n",
       "              enable_categorical=False,\n",
       "              eval_metric=&lt;function custom_f1_score at 0x7f4bff150400&gt;,\n",
       "              feature_types=None, gamma=None, grow_policy=None,\n",
       "              importance_type=None, interaction_constraints=None,\n",
       "              learning_rate=0.2221537505158567, max_bin=None,\n",
       "              max_cat_threshold=None, max_cat_to_onehot=None,\n",
       "              max_delta_step=None, max_depth=8, max_leaves=None,\n",
       "              min_child_weight=24, missing=nan, monotone_constraints=None,\n",
       "              multi_strategy=None, n_estimators=19, n_jobs=None,\n",
       "              num_parallel_tree=None, objective=&#x27;multi:softprob&#x27;, ...)</pre><b>In a Jupyter environment, please rerun this cell to show the HTML representation or trust the notebook. <br />On GitHub, the HTML representation is unable to render, please try loading this page with nbviewer.org.</b></div><div class=\"sk-container\" hidden><div class=\"sk-item\"><div class=\"sk-estimator fitted sk-toggleable\"><input class=\"sk-toggleable__control sk-hidden--visually\" id=\"sk-estimator-id-1\" type=\"checkbox\" checked><label for=\"sk-estimator-id-1\" class=\"sk-toggleable__label fitted sk-toggleable__label-arrow fitted\">&nbsp;XGBClassifier<span class=\"sk-estimator-doc-link fitted\">i<span>Fitted</span></span></label><div class=\"sk-toggleable__content fitted\"><pre>XGBClassifier(base_score=None, booster=None, callbacks=None,\n",
       "              colsample_bylevel=None, colsample_bynode=0.8651467877814526,\n",
       "              colsample_bytree=None, device=None, early_stopping_rounds=None,\n",
       "              enable_categorical=False,\n",
       "              eval_metric=&lt;function custom_f1_score at 0x7f4bff150400&gt;,\n",
       "              feature_types=None, gamma=None, grow_policy=None,\n",
       "              importance_type=None, interaction_constraints=None,\n",
       "              learning_rate=0.2221537505158567, max_bin=None,\n",
       "              max_cat_threshold=None, max_cat_to_onehot=None,\n",
       "              max_delta_step=None, max_depth=8, max_leaves=None,\n",
       "              min_child_weight=24, missing=nan, monotone_constraints=None,\n",
       "              multi_strategy=None, n_estimators=19, n_jobs=None,\n",
       "              num_parallel_tree=None, objective=&#x27;multi:softprob&#x27;, ...)</pre></div> </div></div></div></div>"
      ],
      "text/plain": [
       "XGBClassifier(base_score=None, booster=None, callbacks=None,\n",
       "              colsample_bylevel=None, colsample_bynode=0.8651467877814526,\n",
       "              colsample_bytree=None, device=None, early_stopping_rounds=None,\n",
       "              enable_categorical=False,\n",
       "              eval_metric=<function custom_f1_score at 0x7f4bff150400>,\n",
       "              feature_types=None, gamma=None, grow_policy=None,\n",
       "              importance_type=None, interaction_constraints=None,\n",
       "              learning_rate=0.2221537505158567, max_bin=None,\n",
       "              max_cat_threshold=None, max_cat_to_onehot=None,\n",
       "              max_delta_step=None, max_depth=8, max_leaves=None,\n",
       "              min_child_weight=24, missing=nan, monotone_constraints=None,\n",
       "              multi_strategy=None, n_estimators=19, n_jobs=None,\n",
       "              num_parallel_tree=None, objective='multi:softprob', ...)"
      ]
     },
     "execution_count": 21,
     "metadata": {},
     "output_type": "execute_result"
    }
   ],
   "source": [
    "n_estimators = int(study.best_trial.user_attrs['best_iteration']*1.2)\n",
    "xgb = xgboost.XGBClassifier(\n",
    "        eval_metric=eval_metric,\n",
    "        n_estimators=n_estimators,\n",
    "        **study.best_trial.params\n",
    "    )\n",
    "xgb.fit(\n",
    "    ssp.vstack((X_train, X_val)), \n",
    "    np.concatenate((y_train_enc, y_val_enc)),\n",
    "    verbose=1,\n",
    ")"
   ]
  },
  {
   "cell_type": "code",
   "execution_count": 22,
   "id": "e498dbb7",
   "metadata": {
    "execution": {
     "iopub.execute_input": "2025-05-15T16:16:11.915153Z",
     "iopub.status.busy": "2025-05-15T16:16:11.914802Z",
     "iopub.status.idle": "2025-05-15T16:16:12.260211Z",
     "shell.execute_reply": "2025-05-15T16:16:12.259714Z"
    },
    "papermill": {
     "duration": 0.482067,
     "end_time": "2025-05-15T16:16:12.261250",
     "exception": false,
     "start_time": "2025-05-15T16:16:11.779183",
     "status": "completed"
    },
    "tags": []
   },
   "outputs": [
    {
     "data": {
      "text/plain": [
       "['/scratch_isilon/groups/singlecell/shared/projects/Inflammation-PBMCs-Atlas/03_downstream_analysis/08_gene_importance/xgboost_external_validation/xgboost_TopN_genes/results_20/best_model/Plasma_6_0_xgb.json']"
      ]
     },
     "execution_count": 22,
     "metadata": {},
     "output_type": "execute_result"
    }
   ],
   "source": [
    "out_dir = here(f'03_downstream_analysis/08_gene_importance/xgboost_external_validation/xgboost_TopN_genes/results_{N_GENES}/best_model')\n",
    "\n",
    "if not os.path.exists(out_dir):\n",
    "    os.makedirs(out_dir)\n",
    "    \n",
    "joblib.dump(xgb, os.path.join(out_dir, f'{CELL_TYPE}_{SEED}_{TEST_SPLIT_IDX}_xgb.json'))"
   ]
  },
  {
   "cell_type": "code",
   "execution_count": 23,
   "id": "b2354564",
   "metadata": {
    "execution": {
     "iopub.execute_input": "2025-05-15T16:16:12.295194Z",
     "iopub.status.busy": "2025-05-15T16:16:12.294480Z",
     "iopub.status.idle": "2025-05-15T16:16:12.300373Z",
     "shell.execute_reply": "2025-05-15T16:16:12.300039Z"
    },
    "papermill": {
     "duration": 0.022111,
     "end_time": "2025-05-15T16:16:12.305008",
     "exception": false,
     "start_time": "2025-05-15T16:16:12.282897",
     "status": "completed"
    },
    "tags": []
   },
   "outputs": [],
   "source": [
    "df_pred_test = pd.DataFrame(dict(\n",
    "    cell_id=train_adata.obs.iloc[test_idxs].index.values,\n",
    "    y_true=y_test, \n",
    "    y_true_code=y_test_enc, \n",
    "    y_pred=xgb.predict(X_test))).set_index('cell_id')"
   ]
  },
  {
   "cell_type": "code",
   "execution_count": 24,
   "id": "2e7741ec",
   "metadata": {
    "execution": {
     "iopub.execute_input": "2025-05-15T16:16:12.348987Z",
     "iopub.status.busy": "2025-05-15T16:16:12.348474Z",
     "iopub.status.idle": "2025-05-15T16:16:12.361068Z",
     "shell.execute_reply": "2025-05-15T16:16:12.360729Z"
    },
    "papermill": {
     "duration": 0.024055,
     "end_time": "2025-05-15T16:16:12.361979",
     "exception": false,
     "start_time": "2025-05-15T16:16:12.337924",
     "status": "completed"
    },
    "tags": []
   },
   "outputs": [],
   "source": [
    "out_dir = here(f'03_downstream_analysis/08_gene_importance/xgboost_external_validation/xgboost_TopN_genes/results_{N_GENES}/predictions')\n",
    "\n",
    "if not os.path.exists(out_dir):\n",
    "    os.makedirs(out_dir)\n",
    "    \n",
    "df_pred_test.to_csv(os.path.join(out_dir, f'{CELL_TYPE}_{SEED}_{TEST_SPLIT_IDX}_pred_test.zip'))"
   ]
  },
  {
   "cell_type": "code",
   "execution_count": 25,
   "id": "2eb6d13a",
   "metadata": {
    "execution": {
     "iopub.execute_input": "2025-05-15T16:16:12.386006Z",
     "iopub.status.busy": "2025-05-15T16:16:12.385781Z",
     "iopub.status.idle": "2025-05-15T16:16:12.393701Z",
     "shell.execute_reply": "2025-05-15T16:16:12.393386Z"
    },
    "papermill": {
     "duration": 0.023654,
     "end_time": "2025-05-15T16:16:12.394551",
     "exception": false,
     "start_time": "2025-05-15T16:16:12.370897",
     "status": "completed"
    },
    "tags": []
   },
   "outputs": [
    {
     "name": "stderr",
     "output_type": "stream",
     "text": [
      "/scratch_isilon/groups/singlecell/shared/conda_env/xgboost-cpu/lib/python3.12/site-packages/sklearn/metrics/_classification.py:2466: UserWarning: y_pred contains classes not in y_true\n",
      "  warnings.warn(\"y_pred contains classes not in y_true\")\n"
     ]
    }
   ],
   "source": [
    "metrics_dict = dict(\n",
    "    BAS=balanced_accuracy_score(y_true=df_pred_test.y_true_code, y_pred=df_pred_test.y_pred), WF1=f1_score(y_true=df_pred_test.y_true_code, y_pred=df_pred_test.y_pred,average='weighted'))"
   ]
  },
  {
   "cell_type": "code",
   "execution_count": 26,
   "id": "d646ab9b",
   "metadata": {
    "execution": {
     "iopub.execute_input": "2025-05-15T16:16:12.444803Z",
     "iopub.status.busy": "2025-05-15T16:16:12.444332Z",
     "iopub.status.idle": "2025-05-15T16:16:12.447637Z",
     "shell.execute_reply": "2025-05-15T16:16:12.447328Z"
    },
    "papermill": {
     "duration": 0.045195,
     "end_time": "2025-05-15T16:16:12.448455",
     "exception": false,
     "start_time": "2025-05-15T16:16:12.403260",
     "status": "completed"
    },
    "tags": []
   },
   "outputs": [
    {
     "data": {
      "text/plain": [
       "{'BAS': 0.651131234836592, 'WF1': 0.6304823882682017}"
      ]
     },
     "execution_count": 26,
     "metadata": {},
     "output_type": "execute_result"
    }
   ],
   "source": [
    "metrics_dict"
   ]
  },
  {
   "cell_type": "code",
   "execution_count": 27,
   "id": "9e035167",
   "metadata": {
    "execution": {
     "iopub.execute_input": "2025-05-15T16:16:12.519779Z",
     "iopub.status.busy": "2025-05-15T16:16:12.519287Z",
     "iopub.status.idle": "2025-05-15T16:16:12.529565Z",
     "shell.execute_reply": "2025-05-15T16:16:12.529248Z"
    },
    "papermill": {
     "duration": 0.023073,
     "end_time": "2025-05-15T16:16:12.530439",
     "exception": false,
     "start_time": "2025-05-15T16:16:12.507366",
     "status": "completed"
    },
    "tags": []
   },
   "outputs": [
    {
     "data": {
      "text/html": [
       "<div>\n",
       "<style scoped>\n",
       "    .dataframe tbody tr th:only-of-type {\n",
       "        vertical-align: middle;\n",
       "    }\n",
       "\n",
       "    .dataframe tbody tr th {\n",
       "        vertical-align: top;\n",
       "    }\n",
       "\n",
       "    .dataframe thead th {\n",
       "        text-align: right;\n",
       "    }\n",
       "</style>\n",
       "<table border=\"1\" class=\"dataframe\">\n",
       "  <thead>\n",
       "    <tr style=\"text-align: right;\">\n",
       "      <th></th>\n",
       "      <th>BAS</th>\n",
       "      <th>WF1</th>\n",
       "      <th>split_idx</th>\n",
       "      <th>gene_set_seed</th>\n",
       "      <th>cell_type</th>\n",
       "    </tr>\n",
       "  </thead>\n",
       "  <tbody>\n",
       "    <tr>\n",
       "      <th>0</th>\n",
       "      <td>0.651131</td>\n",
       "      <td>0.630482</td>\n",
       "      <td>0</td>\n",
       "      <td>6</td>\n",
       "      <td>Plasma</td>\n",
       "    </tr>\n",
       "  </tbody>\n",
       "</table>\n",
       "</div>"
      ],
      "text/plain": [
       "        BAS       WF1  split_idx  gene_set_seed cell_type\n",
       "0  0.651131  0.630482          0              6    Plasma"
      ]
     },
     "execution_count": 27,
     "metadata": {},
     "output_type": "execute_result"
    }
   ],
   "source": [
    "metrics_df = pd.DataFrame.from_dict([metrics_dict]).assign(split_idx=TEST_SPLIT_IDX, gene_set_seed=SEED, cell_type=CELL_TYPE)\n",
    "metrics_df"
   ]
  },
  {
   "cell_type": "code",
   "execution_count": 28,
   "id": "7bf90130",
   "metadata": {
    "execution": {
     "iopub.execute_input": "2025-05-15T16:16:12.557521Z",
     "iopub.status.busy": "2025-05-15T16:16:12.557063Z",
     "iopub.status.idle": "2025-05-15T16:16:12.565932Z",
     "shell.execute_reply": "2025-05-15T16:16:12.565517Z"
    },
    "papermill": {
     "duration": 0.02647,
     "end_time": "2025-05-15T16:16:12.566811",
     "exception": false,
     "start_time": "2025-05-15T16:16:12.540341",
     "status": "completed"
    },
    "tags": []
   },
   "outputs": [],
   "source": [
    "out_dir = here(f'03_downstream_analysis/08_gene_importance/xgboost_external_validation/xgboost_TopN_genes/results_{N_GENES}/metrics')\n",
    "\n",
    "if not os.path.exists(out_dir):\n",
    "    os.makedirs(out_dir)\n",
    "    \n",
    "metrics_df.to_csv(os.path.join(out_dir, f'{CELL_TYPE}_{SEED}_{TEST_SPLIT_IDX}_metrics.zip'))"
   ]
  }
 ],
 "metadata": {
  "kernelspec": {
   "display_name": "Python 3 (ipykernel)",
   "language": "python",
   "name": "python3"
  },
  "language_info": {
   "codemirror_mode": {
    "name": "ipython",
    "version": 3
   },
   "file_extension": ".py",
   "mimetype": "text/x-python",
   "name": "python",
   "nbconvert_exporter": "python",
   "pygments_lexer": "ipython3",
   "version": "3.12.5"
  },
  "papermill": {
   "default_parameters": {},
   "duration": 36.469555,
   "end_time": "2025-05-15T16:16:13.393934",
   "environment_variables": {},
   "exception": null,
   "input_path": "02_xgboost_fitting_external_20genes.ipynb",
   "output_path": "results_20/executed_notebooks/xgboost_fitting_external_CT_Plasma_GS_6_seed0.ipynb",
   "parameters": {
    "CELL_TYPE": "Plasma",
    "SEED": 6,
    "TEST_SPLIT_IDX": 0
   },
   "start_time": "2025-05-15T16:15:36.924379",
   "version": "2.6.0"
  }
 },
 "nbformat": 4,
 "nbformat_minor": 5
}