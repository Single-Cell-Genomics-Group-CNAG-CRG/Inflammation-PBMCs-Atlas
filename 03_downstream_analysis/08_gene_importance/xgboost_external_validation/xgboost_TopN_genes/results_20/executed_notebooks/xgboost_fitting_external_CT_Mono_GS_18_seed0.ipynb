{
 "cells": [
  {
   "cell_type": "code",
   "execution_count": 1,
   "id": "5fb2102e",
   "metadata": {
    "editable": true,
    "execution": {
     "iopub.execute_input": "2025-05-15T16:00:17.502080Z",
     "iopub.status.busy": "2025-05-15T16:00:17.501925Z",
     "iopub.status.idle": "2025-05-15T16:00:17.504741Z",
     "shell.execute_reply": "2025-05-15T16:00:17.504432Z"
    },
    "papermill": {
     "duration": 0.073403,
     "end_time": "2025-05-15T16:00:17.505748",
     "exception": false,
     "start_time": "2025-05-15T16:00:17.432345",
     "status": "completed"
    },
    "slideshow": {
     "slide_type": ""
    },
    "tags": [
     "parameters"
    ]
   },
   "outputs": [],
   "source": [
    "CELL_TYPE = 'pDC'\n",
    "N_GENES: int = 20\n",
    "SEED = 'shap_studyID' #'disease_NOstudy' 'study_NOdisease' or 'int' or 'shap_studyID'\n",
    "TEST_SPLIT_IDX: int = 1 #[0,4]"
   ]
  },
  {
   "cell_type": "code",
   "execution_count": 2,
   "id": "6b679c3f",
   "metadata": {
    "execution": {
     "iopub.execute_input": "2025-05-15T16:00:17.578448Z",
     "iopub.status.busy": "2025-05-15T16:00:17.578295Z",
     "iopub.status.idle": "2025-05-15T16:00:17.580529Z",
     "shell.execute_reply": "2025-05-15T16:00:17.580194Z"
    },
    "papermill": {
     "duration": 0.055422,
     "end_time": "2025-05-15T16:00:17.581768",
     "exception": false,
     "start_time": "2025-05-15T16:00:17.526346",
     "status": "completed"
    },
    "tags": [
     "injected-parameters"
    ]
   },
   "outputs": [],
   "source": [
    "# Parameters\n",
    "CELL_TYPE = \"Mono\"\n",
    "SEED = 18\n",
    "TEST_SPLIT_IDX = 0\n"
   ]
  },
  {
   "cell_type": "code",
   "execution_count": 3,
   "id": "a454b305",
   "metadata": {
    "execution": {
     "iopub.execute_input": "2025-05-15T16:00:17.628783Z",
     "iopub.status.busy": "2025-05-15T16:00:17.628442Z",
     "iopub.status.idle": "2025-05-15T16:00:17.630409Z",
     "shell.execute_reply": "2025-05-15T16:00:17.630112Z"
    },
    "papermill": {
     "duration": 0.021315,
     "end_time": "2025-05-15T16:00:17.631212",
     "exception": false,
     "start_time": "2025-05-15T16:00:17.609897",
     "status": "completed"
    },
    "tags": []
   },
   "outputs": [],
   "source": [
    "N_SPLITS: int = 5\n",
    "N_TRIALS: int = 50"
   ]
  },
  {
   "cell_type": "code",
   "execution_count": 4,
   "id": "8f7f10bc",
   "metadata": {
    "execution": {
     "iopub.execute_input": "2025-05-15T16:00:17.643860Z",
     "iopub.status.busy": "2025-05-15T16:00:17.643603Z",
     "iopub.status.idle": "2025-05-15T16:00:19.038061Z",
     "shell.execute_reply": "2025-05-15T16:00:19.037673Z"
    },
    "papermill": {
     "duration": 1.402235,
     "end_time": "2025-05-15T16:00:19.039122",
     "exception": false,
     "start_time": "2025-05-15T16:00:17.636887",
     "status": "completed"
    },
    "tags": []
   },
   "outputs": [],
   "source": [
    "import os\n",
    "import sys\n",
    "from pyprojroot.here import here\n",
    "import pandas as pd\n",
    "import anndata as ad\n",
    "import numpy as np\n",
    "import math\n",
    "from sklearn.model_selection import StratifiedGroupKFold\n",
    "from sklearn.preprocessing import LabelEncoder\n",
    "from sklearn.metrics import f1_score\n",
    "import matplotlib.pyplot as plt\n",
    "import seaborn as sns\n",
    "from itertools import product\n",
    "from sklearn.metrics import balanced_accuracy_score, f1_score\n",
    "import optuna\n",
    "\n",
    "import joblib\n",
    "import pickle\n",
    "import datetime\n",
    "\n",
    "import collections\n",
    "\n",
    "import xgboost\n",
    "from sklearn.preprocessing import LabelEncoder\n",
    "\n",
    "import scipy.sparse as ssp\n",
    "import joblib\n",
    "\n",
    "from dotenv import load_dotenv"
   ]
  },
  {
   "cell_type": "code",
   "execution_count": 5,
   "id": "01bb78e1",
   "metadata": {
    "execution": {
     "iopub.execute_input": "2025-05-15T16:00:19.121037Z",
     "iopub.status.busy": "2025-05-15T16:00:19.120482Z",
     "iopub.status.idle": "2025-05-15T16:00:19.125687Z",
     "shell.execute_reply": "2025-05-15T16:00:19.125378Z"
    },
    "papermill": {
     "duration": 0.049796,
     "end_time": "2025-05-15T16:00:19.126495",
     "exception": false,
     "start_time": "2025-05-15T16:00:19.076699",
     "status": "completed"
    },
    "tags": []
   },
   "outputs": [
    {
     "data": {
      "text/plain": [
       "True"
      ]
     },
     "execution_count": 5,
     "metadata": {},
     "output_type": "execute_result"
    }
   ],
   "source": [
    "load_dotenv()"
   ]
  },
  {
   "cell_type": "markdown",
   "id": "298edbb6",
   "metadata": {
    "papermill": {
     "duration": 0.006116,
     "end_time": "2025-05-15T16:00:19.138667",
     "exception": false,
     "start_time": "2025-05-15T16:00:19.132551",
     "status": "completed"
    },
    "tags": []
   },
   "source": [
    "# LOAD DATASET"
   ]
  },
  {
   "cell_type": "code",
   "execution_count": 6,
   "id": "8bd1799b",
   "metadata": {
    "execution": {
     "iopub.execute_input": "2025-05-15T16:00:19.150166Z",
     "iopub.status.busy": "2025-05-15T16:00:19.149900Z",
     "iopub.status.idle": "2025-05-15T16:00:20.340944Z",
     "shell.execute_reply": "2025-05-15T16:00:20.340479Z"
    },
    "papermill": {
     "duration": 1.198084,
     "end_time": "2025-05-15T16:00:20.342090",
     "exception": false,
     "start_time": "2025-05-15T16:00:19.144006",
     "status": "completed"
    },
    "tags": []
   },
   "outputs": [],
   "source": [
    "train_adata = ad.read_h5ad(\n",
    "    here(f'03_downstream_analysis/08_gene_importance/xgboost_external_validation/xgboost_TopN_genes/data_cellTypes/EXTERNAL_{CELL_TYPE}.filtered.log1p.h5ad')\n",
    ")"
   ]
  },
  {
   "cell_type": "code",
   "execution_count": 7,
   "id": "30ea6e71",
   "metadata": {
    "execution": {
     "iopub.execute_input": "2025-05-15T16:00:20.420873Z",
     "iopub.status.busy": "2025-05-15T16:00:20.420328Z",
     "iopub.status.idle": "2025-05-15T16:00:20.453194Z",
     "shell.execute_reply": "2025-05-15T16:00:20.452825Z"
    },
    "papermill": {
     "duration": 0.064707,
     "end_time": "2025-05-15T16:00:20.454034",
     "exception": false,
     "start_time": "2025-05-15T16:00:20.389327",
     "status": "completed"
    },
    "tags": []
   },
   "outputs": [
    {
     "name": "stdout",
     "output_type": "stream",
     "text": [
      "['ENSG00000138674' 'ENSG00000170017' 'ENSG00000127507' 'ENSG00000143924'\n",
      " 'ENSG00000183172' 'ENSG00000177663' 'ENSG00000198355' 'ENSG00000117602'\n",
      " 'ENSG00000161642' 'ENSG00000109743' 'ENSG00000228474' 'ENSG00000135114'\n",
      " 'ENSG00000100365' 'ENSG00000121858' 'ENSG00000175104' 'ENSG00000171051'\n",
      " 'ENSG00000204642' 'ENSG00000010327' 'ENSG00000204525' 'ENSG00000126561'\n",
      " 'ENSG00000169896' 'ENSG00000239998' 'ENSG00000143933' 'ENSG00000204103'\n",
      " 'ENSG00000172531' 'ENSG00000123416' 'ENSG00000123268' 'ENSG00000164674'\n",
      " 'ENSG00000185291' 'ENSG00000165168' 'ENSG00000149311' 'ENSG00000197766'\n",
      " 'ENSG00000090554' 'ENSG00000147168' 'ENSG00000205220' 'ENSG00000090376'\n",
      " 'ENSG00000015475' 'ENSG00000138802' 'ENSG00000150782' 'ENSG00000165140'\n",
      " 'ENSG00000157873' 'ENSG00000177575' 'ENSG00000106066' 'ENSG00000105221'\n",
      " 'ENSG00000005844' 'ENSG00000179218' 'ENSG00000139192' 'ENSG00000136732'\n",
      " 'ENSG00000166825' 'ENSG00000235568' 'ENSG00000143119' 'ENSG00000123358'\n",
      " 'ENSG00000185650' 'ENSG00000170345' 'ENSG00000156411' 'ENSG00000101439'\n",
      " 'ENSG00000131196' 'ENSG00000135441' 'ENSG00000102524' 'ENSG00000130066'\n",
      " 'ENSG00000089327' 'ENSG00000241837' 'ENSG00000119655' 'ENSG00000169442'\n",
      " 'ENSG00000113811' 'ENSG00000164308' 'ENSG00000104894' 'ENSG00000141574'\n",
      " 'ENSG00000026103' 'ENSG00000141526' 'ENSG00000090339' 'ENSG00000118260'\n",
      " 'ENSG00000108639' 'ENSG00000143546' 'ENSG00000104763' 'ENSG00000166747'\n",
      " 'ENSG00000185745' 'ENSG00000111331' 'ENSG00000121774' 'ENSG00000163191'\n",
      " 'ENSG00000163659' 'ENSG00000159128' 'ENSG00000135720' 'ENSG00000187116'\n",
      " 'ENSG00000122359' 'ENSG00000100097' 'ENSG00000125148' 'ENSG00000124762'\n",
      " 'ENSG00000141367' 'ENSG00000123689' 'ENSG00000169554' 'ENSG00000160255'\n",
      " 'ENSG00000106799' 'ENSG00000143575' 'ENSG00000179388' 'ENSG00000065978'\n",
      " 'ENSG00000175768' 'ENSG00000276070' 'ENSG00000109787' 'ENSG00000085514'\n",
      " 'ENSG00000119535' 'ENSG00000051382' 'ENSG00000152518' 'ENSG00000165092'\n",
      " 'ENSG00000057657' 'ENSG00000145220' 'ENSG00000118640' 'ENSG00000169385'\n",
      " 'ENSG00000100292' 'ENSG00000203747' 'ENSG00000243678' 'ENSG00000160213'\n",
      " 'ENSG00000132912' 'ENSG00000066336']\n"
     ]
    }
   ],
   "source": [
    "if SEED != 'all':\n",
    "    gene_subset = np.load(here(f'03_downstream_analysis/08_gene_importance/xgboost_external_validation/shap_gene_selection/gene_subsets_{N_GENES}/{CELL_TYPE}_{SEED}.npy'), allow_pickle=True)\n",
    "    train_adata = train_adata[:,gene_subset]\n",
    "    print(gene_subset)\n",
    "elif SEED == 'all':\n",
    "    print('Using all genes')\n",
    "else:\n",
    "    raise ValueError()"
   ]
  },
  {
   "cell_type": "code",
   "execution_count": 8,
   "id": "b5b899df",
   "metadata": {
    "execution": {
     "iopub.execute_input": "2025-05-15T16:00:20.466767Z",
     "iopub.status.busy": "2025-05-15T16:00:20.466404Z",
     "iopub.status.idle": "2025-05-15T16:00:20.469505Z",
     "shell.execute_reply": "2025-05-15T16:00:20.469213Z"
    },
    "papermill": {
     "duration": 0.010198,
     "end_time": "2025-05-15T16:00:20.470293",
     "exception": false,
     "start_time": "2025-05-15T16:00:20.460095",
     "status": "completed"
    },
    "tags": []
   },
   "outputs": [
    {
     "data": {
      "text/plain": [
       "(137435, 114)"
      ]
     },
     "execution_count": 8,
     "metadata": {},
     "output_type": "execute_result"
    }
   ],
   "source": [
    "train_adata.shape"
   ]
  },
  {
   "cell_type": "code",
   "execution_count": 9,
   "id": "deca263a",
   "metadata": {
    "execution": {
     "iopub.execute_input": "2025-05-15T16:00:20.526697Z",
     "iopub.status.busy": "2025-05-15T16:00:20.526322Z",
     "iopub.status.idle": "2025-05-15T16:00:20.530639Z",
     "shell.execute_reply": "2025-05-15T16:00:20.530321Z"
    },
    "papermill": {
     "duration": 0.024846,
     "end_time": "2025-05-15T16:00:20.531456",
     "exception": false,
     "start_time": "2025-05-15T16:00:20.506610",
     "status": "completed"
    },
    "tags": []
   },
   "outputs": [
    {
     "data": {
      "text/plain": [
       "['RA', 'healthy', 'COVID', 'HIV', 'cirrhosis', 'CD', 'SLE', 'sepsis']\n",
       "Categories (8, object): ['CD', 'COVID', 'HIV', 'RA', 'SLE', 'cirrhosis', 'healthy', 'sepsis']"
      ]
     },
     "execution_count": 9,
     "metadata": {},
     "output_type": "execute_result"
    }
   ],
   "source": [
    "train_adata.obs.disease.unique()"
   ]
  },
  {
   "cell_type": "code",
   "execution_count": 10,
   "id": "bf2e4b31",
   "metadata": {
    "execution": {
     "iopub.execute_input": "2025-05-15T16:00:20.579336Z",
     "iopub.status.busy": "2025-05-15T16:00:20.578857Z",
     "iopub.status.idle": "2025-05-15T16:00:20.583149Z",
     "shell.execute_reply": "2025-05-15T16:00:20.582849Z"
    },
    "papermill": {
     "duration": 0.036222,
     "end_time": "2025-05-15T16:00:20.583989",
     "exception": false,
     "start_time": "2025-05-15T16:00:20.547767",
     "status": "completed"
    },
    "tags": []
   },
   "outputs": [
    {
     "data": {
      "text/plain": [
       "['SCGT00val_I0364_T0', 'SCGT00val_I036028_T0', 'SCGT00val_I036024_T0', 'SCGT00val_I036023_T0', 'SCGT00val_I036019_T0', ..., '10XGenomics_10XHC2_T0', '10XGenomics_10XHC3_T0', '10XGenomics_10XHC5_T0', '10XGenomics_10XHC7_T0', '10XGenomics_10XHC8_T0']\n",
       "Length: 86\n",
       "Categories (86, object): ['10XGenomics_10XHC1_T0', '10XGenomics_10XHC2_T0', '10XGenomics_10XHC3_T0', '10XGenomics_10XHC4_T0', ..., 'Savage2021_BRISL6_T0', 'Savage2021_BRISL7_T0', 'Savage2021_PIDA_T0', 'Savage2021_PIDB_T0']"
      ]
     },
     "execution_count": 10,
     "metadata": {},
     "output_type": "execute_result"
    }
   ],
   "source": [
    "train_adata.obs.sampleID.unique()"
   ]
  },
  {
   "cell_type": "code",
   "execution_count": 11,
   "id": "73a349a1",
   "metadata": {
    "execution": {
     "iopub.execute_input": "2025-05-15T16:00:20.596530Z",
     "iopub.status.busy": "2025-05-15T16:00:20.596211Z",
     "iopub.status.idle": "2025-05-15T16:00:20.921629Z",
     "shell.execute_reply": "2025-05-15T16:00:20.921241Z"
    },
    "papermill": {
     "duration": 0.332926,
     "end_time": "2025-05-15T16:00:20.922782",
     "exception": false,
     "start_time": "2025-05-15T16:00:20.589856",
     "status": "completed"
    },
    "tags": []
   },
   "outputs": [],
   "source": [
    "all_idxs = np.arange(train_adata.obs.shape[0])\n",
    "left_out_splits = [s[1] for s in StratifiedGroupKFold(n_splits=N_SPLITS).split(all_idxs, train_adata.obs.disease, train_adata.obs.sampleID)]"
   ]
  },
  {
   "cell_type": "code",
   "execution_count": 12,
   "id": "660fad1a",
   "metadata": {
    "execution": {
     "iopub.execute_input": "2025-05-15T16:00:20.936646Z",
     "iopub.status.busy": "2025-05-15T16:00:20.936209Z",
     "iopub.status.idle": "2025-05-15T16:00:20.939451Z",
     "shell.execute_reply": "2025-05-15T16:00:20.939167Z"
    },
    "papermill": {
     "duration": 0.010649,
     "end_time": "2025-05-15T16:00:20.940201",
     "exception": false,
     "start_time": "2025-05-15T16:00:20.929552",
     "status": "completed"
    },
    "tags": []
   },
   "outputs": [
    {
     "data": {
      "text/plain": [
       "([2, 3, 4], 1, 0)"
      ]
     },
     "execution_count": 12,
     "metadata": {},
     "output_type": "execute_result"
    }
   ],
   "source": [
    "TRAIN_SPLIT_IDXS = [0,1,2,3,4]\n",
    "VAL_SPLIT_IDX = (TEST_SPLIT_IDX + 1) % 5\n",
    "TRAIN_SPLIT_IDXS.remove(TEST_SPLIT_IDX)\n",
    "TRAIN_SPLIT_IDXS.remove(VAL_SPLIT_IDX)\n",
    "TRAIN_SPLIT_IDXS, VAL_SPLIT_IDX, TEST_SPLIT_IDX"
   ]
  },
  {
   "cell_type": "code",
   "execution_count": 13,
   "id": "05898bcd",
   "metadata": {
    "execution": {
     "iopub.execute_input": "2025-05-15T16:00:20.959988Z",
     "iopub.status.busy": "2025-05-15T16:00:20.959648Z",
     "iopub.status.idle": "2025-05-15T16:00:20.961902Z",
     "shell.execute_reply": "2025-05-15T16:00:20.961616Z"
    },
    "papermill": {
     "duration": 0.013606,
     "end_time": "2025-05-15T16:00:20.962645",
     "exception": false,
     "start_time": "2025-05-15T16:00:20.949039",
     "status": "completed"
    },
    "tags": []
   },
   "outputs": [],
   "source": [
    "train_idxs = np.concatenate([left_out_splits[idx] for idx in TRAIN_SPLIT_IDXS])\n",
    "val_idxs = left_out_splits[VAL_SPLIT_IDX]\n",
    "test_idxs = left_out_splits[TEST_SPLIT_IDX]"
   ]
  },
  {
   "cell_type": "markdown",
   "id": "c9ffe5ee",
   "metadata": {
    "papermill": {
     "duration": 0.042384,
     "end_time": "2025-05-15T16:00:21.010912",
     "exception": false,
     "start_time": "2025-05-15T16:00:20.968528",
     "status": "completed"
    },
    "tags": []
   },
   "source": [
    "### SUBSET DATASET INTO TRAIN/TEST/VAL SPLITS"
   ]
  },
  {
   "cell_type": "code",
   "execution_count": 14,
   "id": "900c57d4",
   "metadata": {
    "execution": {
     "iopub.execute_input": "2025-05-15T16:00:21.047853Z",
     "iopub.status.busy": "2025-05-15T16:00:21.047430Z",
     "iopub.status.idle": "2025-05-15T16:00:21.483560Z",
     "shell.execute_reply": "2025-05-15T16:00:21.483225Z"
    },
    "papermill": {
     "duration": 0.4664,
     "end_time": "2025-05-15T16:00:21.484380",
     "exception": false,
     "start_time": "2025-05-15T16:00:21.017980",
     "status": "completed"
    },
    "tags": []
   },
   "outputs": [
    {
     "data": {
      "text/plain": [
       "((82534, 114), (27414, 114), (27487, 114))"
      ]
     },
     "execution_count": 14,
     "metadata": {},
     "output_type": "execute_result"
    }
   ],
   "source": [
    "X_train = train_adata.X[train_idxs]\n",
    "X_test = train_adata.X[test_idxs]\n",
    "X_val = train_adata.X[val_idxs]\n",
    "X_train.shape, X_test.shape, X_val.shape"
   ]
  },
  {
   "cell_type": "code",
   "execution_count": 15,
   "id": "aa0359f5",
   "metadata": {
    "execution": {
     "iopub.execute_input": "2025-05-15T16:00:21.530388Z",
     "iopub.status.busy": "2025-05-15T16:00:21.529935Z",
     "iopub.status.idle": "2025-05-15T16:00:21.541918Z",
     "shell.execute_reply": "2025-05-15T16:00:21.541585Z"
    },
    "papermill": {
     "duration": 0.019808,
     "end_time": "2025-05-15T16:00:21.542778",
     "exception": false,
     "start_time": "2025-05-15T16:00:21.522970",
     "status": "completed"
    },
    "tags": []
   },
   "outputs": [
    {
     "data": {
      "text/plain": [
       "((82534,), (27414,), (27487,))"
      ]
     },
     "execution_count": 15,
     "metadata": {},
     "output_type": "execute_result"
    }
   ],
   "source": [
    "y_train = train_adata.obs.iloc[train_idxs].disease.values.astype(str)\n",
    "y_test = train_adata.obs.iloc[test_idxs].disease.values.astype(str)\n",
    "y_val = train_adata.obs.iloc[val_idxs].disease.values.astype(str)\n",
    "y_train.shape, y_test.shape, y_val.shape"
   ]
  },
  {
   "cell_type": "code",
   "execution_count": 16,
   "id": "43694834",
   "metadata": {
    "execution": {
     "iopub.execute_input": "2025-05-15T16:00:21.579591Z",
     "iopub.status.busy": "2025-05-15T16:00:21.579428Z",
     "iopub.status.idle": "2025-05-15T16:00:21.608406Z",
     "shell.execute_reply": "2025-05-15T16:00:21.608069Z"
    },
    "papermill": {
     "duration": 0.037039,
     "end_time": "2025-05-15T16:00:21.609492",
     "exception": false,
     "start_time": "2025-05-15T16:00:21.572453",
     "status": "completed"
    },
    "tags": []
   },
   "outputs": [],
   "source": [
    "lenc = LabelEncoder()\n",
    "y_train_enc = lenc.fit_transform(y_train)\n",
    "y_val_enc = lenc.transform(y_val)\n",
    "y_test_enc = lenc.transform(y_test)"
   ]
  },
  {
   "cell_type": "markdown",
   "id": "8f5b8c62",
   "metadata": {
    "papermill": {
     "duration": 0.005956,
     "end_time": "2025-05-15T16:00:21.667575",
     "exception": false,
     "start_time": "2025-05-15T16:00:21.661619",
     "status": "completed"
    },
    "tags": []
   },
   "source": [
    "### GENERATE F1 "
   ]
  },
  {
   "cell_type": "code",
   "execution_count": 17,
   "id": "6bad831b",
   "metadata": {
    "execution": {
     "iopub.execute_input": "2025-05-15T16:00:21.696859Z",
     "iopub.status.busy": "2025-05-15T16:00:21.696720Z",
     "iopub.status.idle": "2025-05-15T16:00:21.698962Z",
     "shell.execute_reply": "2025-05-15T16:00:21.698672Z"
    },
    "papermill": {
     "duration": 0.016494,
     "end_time": "2025-05-15T16:00:21.699737",
     "exception": false,
     "start_time": "2025-05-15T16:00:21.683243",
     "status": "completed"
    },
    "tags": []
   },
   "outputs": [],
   "source": [
    "def custom_f1_score(y_true, y_pred):\n",
    "    return -f1_score(y_true, y_pred.argmax(1), average='weighted')"
   ]
  },
  {
   "cell_type": "code",
   "execution_count": 18,
   "id": "d8ef4c98",
   "metadata": {
    "execution": {
     "iopub.execute_input": "2025-05-15T16:00:21.728373Z",
     "iopub.status.busy": "2025-05-15T16:00:21.728061Z",
     "iopub.status.idle": "2025-05-15T16:00:21.731399Z",
     "shell.execute_reply": "2025-05-15T16:00:21.731115Z"
    },
    "papermill": {
     "duration": 0.010332,
     "end_time": "2025-05-15T16:00:21.732146",
     "exception": false,
     "start_time": "2025-05-15T16:00:21.721814",
     "status": "completed"
    },
    "tags": []
   },
   "outputs": [],
   "source": [
    "eval_metric=custom_f1_score\n",
    "eval_metric_name='custom_f1_score'\n",
    "\n",
    "def objective(trial):\n",
    "    params = {\n",
    "        'n_estimators': 1500,\n",
    "        'max_depth': trial.suggest_int('max_depth', 3, 20),\n",
    "        'min_child_weight': trial.suggest_int('min_child_weight', 1, 250),\n",
    "        'subsample': trial.suggest_float('subsample', 0.1, 1.0),\n",
    "        'colsample_bynode': trial.suggest_float('colsample_bynode', 0.1, 1.0),\n",
    "        'learning_rate': trial.suggest_float('learning_rate', 1e-3, 5e-1, log=True),\n",
    "    }\n",
    "    pruning_callback = optuna.integration.XGBoostPruningCallback(trial, f'validation_0-{eval_metric_name}')\n",
    "    es_callback = xgboost.callback.EarlyStopping(20, min_delta=0.001)\n",
    "    xgb = xgboost.XGBClassifier(\n",
    "        eval_metric=eval_metric,\n",
    "        callbacks=[pruning_callback, es_callback],\n",
    "        n_jobs=5,\n",
    "        **params\n",
    "    )\n",
    "    xgb.fit(\n",
    "        X_train, \n",
    "        y_train_enc, \n",
    "        verbose=0,\n",
    "        eval_set=[(X_val, y_val_enc)],\n",
    "    )\n",
    "    trial.set_user_attr('best_iteration', xgb.best_iteration)\n",
    "\n",
    "    return xgb.best_score"
   ]
  },
  {
   "cell_type": "code",
   "execution_count": 19,
   "id": "7ec7e217",
   "metadata": {
    "execution": {
     "iopub.execute_input": "2025-05-15T16:00:21.759135Z",
     "iopub.status.busy": "2025-05-15T16:00:21.758886Z",
     "iopub.status.idle": "2025-05-15T16:18:20.380372Z",
     "shell.execute_reply": "2025-05-15T16:18:20.380007Z"
    },
    "papermill": {
     "duration": 1078.632758,
     "end_time": "2025-05-15T16:18:20.381353",
     "exception": false,
     "start_time": "2025-05-15T16:00:21.748595",
     "status": "completed"
    },
    "scrolled": true,
    "tags": []
   },
   "outputs": [
    {
     "name": "stderr",
     "output_type": "stream",
     "text": [
      "[I 2025-05-15 18:00:21,760] A new study created in memory with name: no-name-585ebb25-ec38-40d5-b77c-edaa1c93536d\n"
     ]
    },
    {
     "name": "stderr",
     "output_type": "stream",
     "text": [
      "[I 2025-05-15 18:00:30,339] Trial 0 finished with value: -0.62272 and parameters: {'max_depth': 9, 'min_child_weight': 238, 'subsample': 0.7587945476302645, 'colsample_bynode': 0.6387926357773329, 'learning_rate': 0.0026368755339723046}. Best is trial 0 with value: -0.62272.\n"
     ]
    },
    {
     "name": "stderr",
     "output_type": "stream",
     "text": [
      "[I 2025-05-15 18:01:50,351] Trial 1 finished with value: -0.737957 and parameters: {'max_depth': 5, 'min_child_weight': 15, 'subsample': 0.8795585311974417, 'colsample_bynode': 0.6410035105688879, 'learning_rate': 0.08148293210105287}. Best is trial 1 with value: -0.737957.\n"
     ]
    },
    {
     "name": "stderr",
     "output_type": "stream",
     "text": [
      "[I 2025-05-15 18:01:57,355] Trial 2 finished with value: -0.588686 and parameters: {'max_depth': 3, 'min_child_weight': 243, 'subsample': 0.8491983767203796, 'colsample_bynode': 0.29110519961044856, 'learning_rate': 0.003095566460242371}. Best is trial 1 with value: -0.737957.\n"
     ]
    },
    {
     "name": "stderr",
     "output_type": "stream",
     "text": [
      "[I 2025-05-15 18:04:09,913] Trial 3 finished with value: -0.673431 and parameters: {'max_depth': 6, 'min_child_weight': 77, 'subsample': 0.5722807884690141, 'colsample_bynode': 0.48875051677790415, 'learning_rate': 0.006109683510122491}. Best is trial 1 with value: -0.737957.\n"
     ]
    },
    {
     "name": "stderr",
     "output_type": "stream",
     "text": [
      "[I 2025-05-15 18:06:51,828] Trial 4 finished with value: -0.724286 and parameters: {'max_depth': 14, 'min_child_weight': 35, 'subsample': 0.3629301836816964, 'colsample_bynode': 0.4297256589643226, 'learning_rate': 0.01701841881702917}. Best is trial 1 with value: -0.737957.\n"
     ]
    },
    {
     "name": "stderr",
     "output_type": "stream",
     "text": [
      "[I 2025-05-15 18:07:01,826] Trial 5 finished with value: -0.648508 and parameters: {'max_depth': 17, 'min_child_weight': 50, 'subsample': 0.5628109945722505, 'colsample_bynode': 0.6331731119758383, 'learning_rate': 0.0013346527038305934}. Best is trial 1 with value: -0.737957.\n"
     ]
    },
    {
     "name": "stderr",
     "output_type": "stream",
     "text": [
      "[I 2025-05-15 18:07:28,258] Trial 6 finished with value: -0.732564 and parameters: {'max_depth': 13, 'min_child_weight': 43, 'subsample': 0.1585464336867516, 'colsample_bynode': 0.9539969835279999, 'learning_rate': 0.4038423798071558}. Best is trial 1 with value: -0.737957.\n"
     ]
    },
    {
     "name": "stderr",
     "output_type": "stream",
     "text": [
      "[I 2025-05-15 18:07:29,011] Trial 7 pruned. Trial was pruned at iteration 0.\n"
     ]
    },
    {
     "name": "stderr",
     "output_type": "stream",
     "text": [
      "[I 2025-05-15 18:07:29,743] Trial 8 pruned. Trial was pruned at iteration 0.\n"
     ]
    },
    {
     "name": "stderr",
     "output_type": "stream",
     "text": [
      "[I 2025-05-15 18:07:32,408] Trial 9 pruned. Trial was pruned at iteration 5.\n"
     ]
    },
    {
     "name": "stderr",
     "output_type": "stream",
     "text": [
      "[I 2025-05-15 18:07:33,369] Trial 10 pruned. Trial was pruned at iteration 0.\n"
     ]
    },
    {
     "name": "stderr",
     "output_type": "stream",
     "text": [
      "[I 2025-05-15 18:08:08,730] Trial 11 finished with value: -0.736247 and parameters: {'max_depth': 11, 'min_child_weight': 3, 'subsample': 0.35229864280210643, 'colsample_bynode': 0.9522656887511343, 'learning_rate': 0.4085535814821633}. Best is trial 1 with value: -0.737957.\n"
     ]
    },
    {
     "name": "stderr",
     "output_type": "stream",
     "text": [
      "[I 2025-05-15 18:10:09,661] Trial 12 finished with value: -0.736253 and parameters: {'max_depth': 20, 'min_child_weight': 3, 'subsample': 0.3693916175642251, 'colsample_bynode': 0.8079926877007318, 'learning_rate': 0.08811282856865725}. Best is trial 1 with value: -0.737957.\n"
     ]
    },
    {
     "name": "stderr",
     "output_type": "stream",
     "text": [
      "[I 2025-05-15 18:10:10,414] Trial 13 pruned. Trial was pruned at iteration 0.\n"
     ]
    },
    {
     "name": "stderr",
     "output_type": "stream",
     "text": [
      "[I 2025-05-15 18:10:11,203] Trial 14 pruned. Trial was pruned at iteration 0.\n"
     ]
    },
    {
     "name": "stderr",
     "output_type": "stream",
     "text": [
      "[I 2025-05-15 18:12:12,900] Trial 15 finished with value: -0.714955 and parameters: {'max_depth': 20, 'min_child_weight': 1, 'subsample': 0.996414878572692, 'colsample_bynode': 0.32945411727994856, 'learning_rate': 0.057934531680722316}. Best is trial 1 with value: -0.737957.\n"
     ]
    },
    {
     "name": "stderr",
     "output_type": "stream",
     "text": [
      "[I 2025-05-15 18:12:13,587] Trial 16 pruned. Trial was pruned at iteration 0.\n"
     ]
    },
    {
     "name": "stderr",
     "output_type": "stream",
     "text": [
      "[I 2025-05-15 18:12:14,340] Trial 17 pruned. Trial was pruned at iteration 0.\n"
     ]
    },
    {
     "name": "stderr",
     "output_type": "stream",
     "text": [
      "[I 2025-05-15 18:12:57,962] Trial 18 finished with value: -0.743717 and parameters: {'max_depth': 11, 'min_child_weight': 37, 'subsample': 0.47368595472697, 'colsample_bynode': 0.7202402406863758, 'learning_rate': 0.16384379577990202}. Best is trial 18 with value: -0.743717.\n"
     ]
    },
    {
     "name": "stderr",
     "output_type": "stream",
     "text": [
      "[I 2025-05-15 18:13:08,007] Trial 19 pruned. Trial was pruned at iteration 27.\n"
     ]
    },
    {
     "name": "stderr",
     "output_type": "stream",
     "text": [
      "[I 2025-05-15 18:13:40,459] Trial 20 finished with value: -0.741633 and parameters: {'max_depth': 11, 'min_child_weight': 23, 'subsample': 0.8601573496833833, 'colsample_bynode': 0.4470573571487037, 'learning_rate': 0.30064063432178234}. Best is trial 18 with value: -0.743717.\n"
     ]
    },
    {
     "name": "stderr",
     "output_type": "stream",
     "text": [
      "[I 2025-05-15 18:14:11,060] Trial 21 finished with value: -0.740555 and parameters: {'max_depth': 11, 'min_child_weight': 27, 'subsample': 0.8524655332992119, 'colsample_bynode': 0.395186789321616, 'learning_rate': 0.24892967230551474}. Best is trial 18 with value: -0.743717.\n"
     ]
    },
    {
     "name": "stderr",
     "output_type": "stream",
     "text": [
      "[I 2025-05-15 18:14:38,236] Trial 22 finished with value: -0.742298 and parameters: {'max_depth': 11, 'min_child_weight': 32, 'subsample': 0.6581340170061017, 'colsample_bynode': 0.36079856329385657, 'learning_rate': 0.28842950116804994}. Best is trial 18 with value: -0.743717.\n"
     ]
    },
    {
     "name": "stderr",
     "output_type": "stream",
     "text": [
      "[I 2025-05-15 18:14:39,003] Trial 23 pruned. Trial was pruned at iteration 0.\n"
     ]
    },
    {
     "name": "stderr",
     "output_type": "stream",
     "text": [
      "[I 2025-05-15 18:14:39,758] Trial 24 pruned. Trial was pruned at iteration 0.\n"
     ]
    },
    {
     "name": "stderr",
     "output_type": "stream",
     "text": [
      "[I 2025-05-15 18:14:40,588] Trial 25 pruned. Trial was pruned at iteration 0.\n"
     ]
    },
    {
     "name": "stderr",
     "output_type": "stream",
     "text": [
      "[I 2025-05-15 18:14:41,319] Trial 26 pruned. Trial was pruned at iteration 0.\n"
     ]
    },
    {
     "name": "stderr",
     "output_type": "stream",
     "text": [
      "[I 2025-05-15 18:14:42,068] Trial 27 pruned. Trial was pruned at iteration 0.\n"
     ]
    },
    {
     "name": "stderr",
     "output_type": "stream",
     "text": [
      "[I 2025-05-15 18:15:17,938] Trial 28 finished with value: -0.743646 and parameters: {'max_depth': 10, 'min_child_weight': 61, 'subsample': 0.8031265194740369, 'colsample_bynode': 0.5442956506356503, 'learning_rate': 0.25506771100550707}. Best is trial 18 with value: -0.743717.\n"
     ]
    },
    {
     "name": "stderr",
     "output_type": "stream",
     "text": [
      "[I 2025-05-15 18:15:18,664] Trial 29 pruned. Trial was pruned at iteration 0.\n"
     ]
    },
    {
     "name": "stderr",
     "output_type": "stream",
     "text": [
      "[I 2025-05-15 18:15:19,464] Trial 30 pruned. Trial was pruned at iteration 0.\n"
     ]
    },
    {
     "name": "stderr",
     "output_type": "stream",
     "text": [
      "[I 2025-05-15 18:15:50,461] Trial 31 finished with value: -0.742746 and parameters: {'max_depth': 13, 'min_child_weight': 26, 'subsample': 0.9274951623791116, 'colsample_bynode': 0.46591252109980247, 'learning_rate': 0.31049459543960567}. Best is trial 18 with value: -0.743717.\n"
     ]
    },
    {
     "name": "stderr",
     "output_type": "stream",
     "text": [
      "[I 2025-05-15 18:16:30,301] Trial 32 finished with value: -0.746895 and parameters: {'max_depth': 15, 'min_child_weight': 39, 'subsample': 0.9277379883504125, 'colsample_bynode': 0.5809674065975823, 'learning_rate': 0.23520247410505163}. Best is trial 32 with value: -0.746895.\n"
     ]
    },
    {
     "name": "stderr",
     "output_type": "stream",
     "text": [
      "[I 2025-05-15 18:17:12,363] Trial 33 finished with value: -0.742226 and parameters: {'max_depth': 15, 'min_child_weight': 18, 'subsample': 0.9291053989057448, 'colsample_bynode': 0.6049123698147134, 'learning_rate': 0.20838005033375148}. Best is trial 32 with value: -0.746895.\n"
     ]
    },
    {
     "name": "stderr",
     "output_type": "stream",
     "text": [
      "[I 2025-05-15 18:17:13,555] Trial 34 pruned. Trial was pruned at iteration 1.\n"
     ]
    },
    {
     "name": "stderr",
     "output_type": "stream",
     "text": [
      "[I 2025-05-15 18:17:14,784] Trial 35 pruned. Trial was pruned at iteration 1.\n"
     ]
    },
    {
     "name": "stderr",
     "output_type": "stream",
     "text": [
      "[I 2025-05-15 18:17:15,539] Trial 36 pruned. Trial was pruned at iteration 0.\n"
     ]
    },
    {
     "name": "stderr",
     "output_type": "stream",
     "text": [
      "[I 2025-05-15 18:17:18,573] Trial 37 pruned. Trial was pruned at iteration 5.\n"
     ]
    },
    {
     "name": "stderr",
     "output_type": "stream",
     "text": [
      "[I 2025-05-15 18:17:42,586] Trial 38 pruned. Trial was pruned at iteration 48.\n"
     ]
    },
    {
     "name": "stderr",
     "output_type": "stream",
     "text": [
      "[I 2025-05-15 18:17:43,272] Trial 39 pruned. Trial was pruned at iteration 0.\n"
     ]
    },
    {
     "name": "stderr",
     "output_type": "stream",
     "text": [
      "[I 2025-05-15 18:17:44,111] Trial 40 pruned. Trial was pruned at iteration 0.\n"
     ]
    },
    {
     "name": "stderr",
     "output_type": "stream",
     "text": [
      "[I 2025-05-15 18:17:44,873] Trial 41 pruned. Trial was pruned at iteration 0.\n"
     ]
    },
    {
     "name": "stderr",
     "output_type": "stream",
     "text": [
      "[I 2025-05-15 18:17:46,933] Trial 42 pruned. Trial was pruned at iteration 3.\n"
     ]
    },
    {
     "name": "stderr",
     "output_type": "stream",
     "text": [
      "[I 2025-05-15 18:18:12,800] Trial 43 finished with value: -0.74247 and parameters: {'max_depth': 13, 'min_child_weight': 51, 'subsample': 0.8162171079883815, 'colsample_bynode': 0.8735731432549022, 'learning_rate': 0.32165230911016274}. Best is trial 32 with value: -0.746895.\n"
     ]
    },
    {
     "name": "stderr",
     "output_type": "stream",
     "text": [
      "[I 2025-05-15 18:18:13,593] Trial 44 pruned. Trial was pruned at iteration 0.\n"
     ]
    },
    {
     "name": "stderr",
     "output_type": "stream",
     "text": [
      "[I 2025-05-15 18:18:14,446] Trial 45 pruned. Trial was pruned at iteration 0.\n"
     ]
    },
    {
     "name": "stderr",
     "output_type": "stream",
     "text": [
      "[I 2025-05-15 18:18:17,657] Trial 46 pruned. Trial was pruned at iteration 5.\n"
     ]
    },
    {
     "name": "stderr",
     "output_type": "stream",
     "text": [
      "[I 2025-05-15 18:18:18,939] Trial 47 pruned. Trial was pruned at iteration 1.\n"
     ]
    },
    {
     "name": "stderr",
     "output_type": "stream",
     "text": [
      "[I 2025-05-15 18:18:19,625] Trial 48 pruned. Trial was pruned at iteration 0.\n"
     ]
    },
    {
     "name": "stderr",
     "output_type": "stream",
     "text": [
      "[I 2025-05-15 18:18:20,307] Trial 49 pruned. Trial was pruned at iteration 0.\n"
     ]
    }
   ],
   "source": [
    "sampler = optuna.samplers.TPESampler(seed=42)\n",
    "study = optuna.create_study(direction='minimize', sampler=sampler)\n",
    "study.optimize(objective, n_trials=N_TRIALS, gc_after_trial=True)"
   ]
  },
  {
   "cell_type": "code",
   "execution_count": 20,
   "id": "845632a5",
   "metadata": {
    "execution": {
     "iopub.execute_input": "2025-05-15T16:18:20.398870Z",
     "iopub.status.busy": "2025-05-15T16:18:20.398560Z",
     "iopub.status.idle": "2025-05-15T16:18:20.431541Z",
     "shell.execute_reply": "2025-05-15T16:18:20.431212Z"
    },
    "papermill": {
     "duration": 0.042202,
     "end_time": "2025-05-15T16:18:20.432399",
     "exception": false,
     "start_time": "2025-05-15T16:18:20.390197",
     "status": "completed"
    },
    "tags": []
   },
   "outputs": [
    {
     "data": {
      "text/plain": [
       "['/scratch_isilon/groups/singlecell/shared/projects/Inflammation-PBMCs-Atlas/03_downstream_analysis/08_gene_importance/xgboost_external_validation/xgboost_TopN_genes/results_20/study/Mono_18_0_xgboost.pkl']"
      ]
     },
     "execution_count": 20,
     "metadata": {},
     "output_type": "execute_result"
    }
   ],
   "source": [
    "out_dir = here(f'03_downstream_analysis/08_gene_importance/xgboost_external_validation/xgboost_TopN_genes/results_{N_GENES}/study')\n",
    "\n",
    "if not os.path.exists(out_dir):\n",
    "    os.makedirs(out_dir)\n",
    "    \n",
    "joblib.dump(study,os.path.join(out_dir, f'{CELL_TYPE}_{SEED}_{TEST_SPLIT_IDX}_xgboost.pkl'))"
   ]
  },
  {
   "cell_type": "code",
   "execution_count": 21,
   "id": "170edfe3",
   "metadata": {
    "execution": {
     "iopub.execute_input": "2025-05-15T16:18:20.464828Z",
     "iopub.status.busy": "2025-05-15T16:18:20.464576Z",
     "iopub.status.idle": "2025-05-15T16:18:40.191733Z",
     "shell.execute_reply": "2025-05-15T16:18:40.191335Z"
    },
    "papermill": {
     "duration": 19.752278,
     "end_time": "2025-05-15T16:18:40.192638",
     "exception": false,
     "start_time": "2025-05-15T16:18:20.440360",
     "status": "completed"
    },
    "tags": []
   },
   "outputs": [
    {
     "data": {
      "text/html": [
       "<style>#sk-container-id-1 {\n",
       "  /* Definition of color scheme common for light and dark mode */\n",
       "  --sklearn-color-text: black;\n",
       "  --sklearn-color-line: gray;\n",
       "  /* Definition of color scheme for unfitted estimators */\n",
       "  --sklearn-color-unfitted-level-0: #fff5e6;\n",
       "  --sklearn-color-unfitted-level-1: #f6e4d2;\n",
       "  --sklearn-color-unfitted-level-2: #ffe0b3;\n",
       "  --sklearn-color-unfitted-level-3: chocolate;\n",
       "  /* Definition of color scheme for fitted estimators */\n",
       "  --sklearn-color-fitted-level-0: #f0f8ff;\n",
       "  --sklearn-color-fitted-level-1: #d4ebff;\n",
       "  --sklearn-color-fitted-level-2: #b3dbfd;\n",
       "  --sklearn-color-fitted-level-3: cornflowerblue;\n",
       "\n",
       "  /* Specific color for light theme */\n",
       "  --sklearn-color-text-on-default-background: var(--sg-text-color, var(--theme-code-foreground, var(--jp-content-font-color1, black)));\n",
       "  --sklearn-color-background: var(--sg-background-color, var(--theme-background, var(--jp-layout-color0, white)));\n",
       "  --sklearn-color-border-box: var(--sg-text-color, var(--theme-code-foreground, var(--jp-content-font-color1, black)));\n",
       "  --sklearn-color-icon: #696969;\n",
       "\n",
       "  @media (prefers-color-scheme: dark) {\n",
       "    /* Redefinition of color scheme for dark theme */\n",
       "    --sklearn-color-text-on-default-background: var(--sg-text-color, var(--theme-code-foreground, var(--jp-content-font-color1, white)));\n",
       "    --sklearn-color-background: var(--sg-background-color, var(--theme-background, var(--jp-layout-color0, #111)));\n",
       "    --sklearn-color-border-box: var(--sg-text-color, var(--theme-code-foreground, var(--jp-content-font-color1, white)));\n",
       "    --sklearn-color-icon: #878787;\n",
       "  }\n",
       "}\n",
       "\n",
       "#sk-container-id-1 {\n",
       "  color: var(--sklearn-color-text);\n",
       "}\n",
       "\n",
       "#sk-container-id-1 pre {\n",
       "  padding: 0;\n",
       "}\n",
       "\n",
       "#sk-container-id-1 input.sk-hidden--visually {\n",
       "  border: 0;\n",
       "  clip: rect(1px 1px 1px 1px);\n",
       "  clip: rect(1px, 1px, 1px, 1px);\n",
       "  height: 1px;\n",
       "  margin: -1px;\n",
       "  overflow: hidden;\n",
       "  padding: 0;\n",
       "  position: absolute;\n",
       "  width: 1px;\n",
       "}\n",
       "\n",
       "#sk-container-id-1 div.sk-dashed-wrapped {\n",
       "  border: 1px dashed var(--sklearn-color-line);\n",
       "  margin: 0 0.4em 0.5em 0.4em;\n",
       "  box-sizing: border-box;\n",
       "  padding-bottom: 0.4em;\n",
       "  background-color: var(--sklearn-color-background);\n",
       "}\n",
       "\n",
       "#sk-container-id-1 div.sk-container {\n",
       "  /* jupyter's `normalize.less` sets `[hidden] { display: none; }`\n",
       "     but bootstrap.min.css set `[hidden] { display: none !important; }`\n",
       "     so we also need the `!important` here to be able to override the\n",
       "     default hidden behavior on the sphinx rendered scikit-learn.org.\n",
       "     See: https://github.com/scikit-learn/scikit-learn/issues/21755 */\n",
       "  display: inline-block !important;\n",
       "  position: relative;\n",
       "}\n",
       "\n",
       "#sk-container-id-1 div.sk-text-repr-fallback {\n",
       "  display: none;\n",
       "}\n",
       "\n",
       "div.sk-parallel-item,\n",
       "div.sk-serial,\n",
       "div.sk-item {\n",
       "  /* draw centered vertical line to link estimators */\n",
       "  background-image: linear-gradient(var(--sklearn-color-text-on-default-background), var(--sklearn-color-text-on-default-background));\n",
       "  background-size: 2px 100%;\n",
       "  background-repeat: no-repeat;\n",
       "  background-position: center center;\n",
       "}\n",
       "\n",
       "/* Parallel-specific style estimator block */\n",
       "\n",
       "#sk-container-id-1 div.sk-parallel-item::after {\n",
       "  content: \"\";\n",
       "  width: 100%;\n",
       "  border-bottom: 2px solid var(--sklearn-color-text-on-default-background);\n",
       "  flex-grow: 1;\n",
       "}\n",
       "\n",
       "#sk-container-id-1 div.sk-parallel {\n",
       "  display: flex;\n",
       "  align-items: stretch;\n",
       "  justify-content: center;\n",
       "  background-color: var(--sklearn-color-background);\n",
       "  position: relative;\n",
       "}\n",
       "\n",
       "#sk-container-id-1 div.sk-parallel-item {\n",
       "  display: flex;\n",
       "  flex-direction: column;\n",
       "}\n",
       "\n",
       "#sk-container-id-1 div.sk-parallel-item:first-child::after {\n",
       "  align-self: flex-end;\n",
       "  width: 50%;\n",
       "}\n",
       "\n",
       "#sk-container-id-1 div.sk-parallel-item:last-child::after {\n",
       "  align-self: flex-start;\n",
       "  width: 50%;\n",
       "}\n",
       "\n",
       "#sk-container-id-1 div.sk-parallel-item:only-child::after {\n",
       "  width: 0;\n",
       "}\n",
       "\n",
       "/* Serial-specific style estimator block */\n",
       "\n",
       "#sk-container-id-1 div.sk-serial {\n",
       "  display: flex;\n",
       "  flex-direction: column;\n",
       "  align-items: center;\n",
       "  background-color: var(--sklearn-color-background);\n",
       "  padding-right: 1em;\n",
       "  padding-left: 1em;\n",
       "}\n",
       "\n",
       "\n",
       "/* Toggleable style: style used for estimator/Pipeline/ColumnTransformer box that is\n",
       "clickable and can be expanded/collapsed.\n",
       "- Pipeline and ColumnTransformer use this feature and define the default style\n",
       "- Estimators will overwrite some part of the style using the `sk-estimator` class\n",
       "*/\n",
       "\n",
       "/* Pipeline and ColumnTransformer style (default) */\n",
       "\n",
       "#sk-container-id-1 div.sk-toggleable {\n",
       "  /* Default theme specific background. It is overwritten whether we have a\n",
       "  specific estimator or a Pipeline/ColumnTransformer */\n",
       "  background-color: var(--sklearn-color-background);\n",
       "}\n",
       "\n",
       "/* Toggleable label */\n",
       "#sk-container-id-1 label.sk-toggleable__label {\n",
       "  cursor: pointer;\n",
       "  display: block;\n",
       "  width: 100%;\n",
       "  margin-bottom: 0;\n",
       "  padding: 0.5em;\n",
       "  box-sizing: border-box;\n",
       "  text-align: center;\n",
       "}\n",
       "\n",
       "#sk-container-id-1 label.sk-toggleable__label-arrow:before {\n",
       "  /* Arrow on the left of the label */\n",
       "  content: \"▸\";\n",
       "  float: left;\n",
       "  margin-right: 0.25em;\n",
       "  color: var(--sklearn-color-icon);\n",
       "}\n",
       "\n",
       "#sk-container-id-1 label.sk-toggleable__label-arrow:hover:before {\n",
       "  color: var(--sklearn-color-text);\n",
       "}\n",
       "\n",
       "/* Toggleable content - dropdown */\n",
       "\n",
       "#sk-container-id-1 div.sk-toggleable__content {\n",
       "  max-height: 0;\n",
       "  max-width: 0;\n",
       "  overflow: hidden;\n",
       "  text-align: left;\n",
       "  /* unfitted */\n",
       "  background-color: var(--sklearn-color-unfitted-level-0);\n",
       "}\n",
       "\n",
       "#sk-container-id-1 div.sk-toggleable__content.fitted {\n",
       "  /* fitted */\n",
       "  background-color: var(--sklearn-color-fitted-level-0);\n",
       "}\n",
       "\n",
       "#sk-container-id-1 div.sk-toggleable__content pre {\n",
       "  margin: 0.2em;\n",
       "  border-radius: 0.25em;\n",
       "  color: var(--sklearn-color-text);\n",
       "  /* unfitted */\n",
       "  background-color: var(--sklearn-color-unfitted-level-0);\n",
       "}\n",
       "\n",
       "#sk-container-id-1 div.sk-toggleable__content.fitted pre {\n",
       "  /* unfitted */\n",
       "  background-color: var(--sklearn-color-fitted-level-0);\n",
       "}\n",
       "\n",
       "#sk-container-id-1 input.sk-toggleable__control:checked~div.sk-toggleable__content {\n",
       "  /* Expand drop-down */\n",
       "  max-height: 200px;\n",
       "  max-width: 100%;\n",
       "  overflow: auto;\n",
       "}\n",
       "\n",
       "#sk-container-id-1 input.sk-toggleable__control:checked~label.sk-toggleable__label-arrow:before {\n",
       "  content: \"▾\";\n",
       "}\n",
       "\n",
       "/* Pipeline/ColumnTransformer-specific style */\n",
       "\n",
       "#sk-container-id-1 div.sk-label input.sk-toggleable__control:checked~label.sk-toggleable__label {\n",
       "  color: var(--sklearn-color-text);\n",
       "  background-color: var(--sklearn-color-unfitted-level-2);\n",
       "}\n",
       "\n",
       "#sk-container-id-1 div.sk-label.fitted input.sk-toggleable__control:checked~label.sk-toggleable__label {\n",
       "  background-color: var(--sklearn-color-fitted-level-2);\n",
       "}\n",
       "\n",
       "/* Estimator-specific style */\n",
       "\n",
       "/* Colorize estimator box */\n",
       "#sk-container-id-1 div.sk-estimator input.sk-toggleable__control:checked~label.sk-toggleable__label {\n",
       "  /* unfitted */\n",
       "  background-color: var(--sklearn-color-unfitted-level-2);\n",
       "}\n",
       "\n",
       "#sk-container-id-1 div.sk-estimator.fitted input.sk-toggleable__control:checked~label.sk-toggleable__label {\n",
       "  /* fitted */\n",
       "  background-color: var(--sklearn-color-fitted-level-2);\n",
       "}\n",
       "\n",
       "#sk-container-id-1 div.sk-label label.sk-toggleable__label,\n",
       "#sk-container-id-1 div.sk-label label {\n",
       "  /* The background is the default theme color */\n",
       "  color: var(--sklearn-color-text-on-default-background);\n",
       "}\n",
       "\n",
       "/* On hover, darken the color of the background */\n",
       "#sk-container-id-1 div.sk-label:hover label.sk-toggleable__label {\n",
       "  color: var(--sklearn-color-text);\n",
       "  background-color: var(--sklearn-color-unfitted-level-2);\n",
       "}\n",
       "\n",
       "/* Label box, darken color on hover, fitted */\n",
       "#sk-container-id-1 div.sk-label.fitted:hover label.sk-toggleable__label.fitted {\n",
       "  color: var(--sklearn-color-text);\n",
       "  background-color: var(--sklearn-color-fitted-level-2);\n",
       "}\n",
       "\n",
       "/* Estimator label */\n",
       "\n",
       "#sk-container-id-1 div.sk-label label {\n",
       "  font-family: monospace;\n",
       "  font-weight: bold;\n",
       "  display: inline-block;\n",
       "  line-height: 1.2em;\n",
       "}\n",
       "\n",
       "#sk-container-id-1 div.sk-label-container {\n",
       "  text-align: center;\n",
       "}\n",
       "\n",
       "/* Estimator-specific */\n",
       "#sk-container-id-1 div.sk-estimator {\n",
       "  font-family: monospace;\n",
       "  border: 1px dotted var(--sklearn-color-border-box);\n",
       "  border-radius: 0.25em;\n",
       "  box-sizing: border-box;\n",
       "  margin-bottom: 0.5em;\n",
       "  /* unfitted */\n",
       "  background-color: var(--sklearn-color-unfitted-level-0);\n",
       "}\n",
       "\n",
       "#sk-container-id-1 div.sk-estimator.fitted {\n",
       "  /* fitted */\n",
       "  background-color: var(--sklearn-color-fitted-level-0);\n",
       "}\n",
       "\n",
       "/* on hover */\n",
       "#sk-container-id-1 div.sk-estimator:hover {\n",
       "  /* unfitted */\n",
       "  background-color: var(--sklearn-color-unfitted-level-2);\n",
       "}\n",
       "\n",
       "#sk-container-id-1 div.sk-estimator.fitted:hover {\n",
       "  /* fitted */\n",
       "  background-color: var(--sklearn-color-fitted-level-2);\n",
       "}\n",
       "\n",
       "/* Specification for estimator info (e.g. \"i\" and \"?\") */\n",
       "\n",
       "/* Common style for \"i\" and \"?\" */\n",
       "\n",
       ".sk-estimator-doc-link,\n",
       "a:link.sk-estimator-doc-link,\n",
       "a:visited.sk-estimator-doc-link {\n",
       "  float: right;\n",
       "  font-size: smaller;\n",
       "  line-height: 1em;\n",
       "  font-family: monospace;\n",
       "  background-color: var(--sklearn-color-background);\n",
       "  border-radius: 1em;\n",
       "  height: 1em;\n",
       "  width: 1em;\n",
       "  text-decoration: none !important;\n",
       "  margin-left: 1ex;\n",
       "  /* unfitted */\n",
       "  border: var(--sklearn-color-unfitted-level-1) 1pt solid;\n",
       "  color: var(--sklearn-color-unfitted-level-1);\n",
       "}\n",
       "\n",
       ".sk-estimator-doc-link.fitted,\n",
       "a:link.sk-estimator-doc-link.fitted,\n",
       "a:visited.sk-estimator-doc-link.fitted {\n",
       "  /* fitted */\n",
       "  border: var(--sklearn-color-fitted-level-1) 1pt solid;\n",
       "  color: var(--sklearn-color-fitted-level-1);\n",
       "}\n",
       "\n",
       "/* On hover */\n",
       "div.sk-estimator:hover .sk-estimator-doc-link:hover,\n",
       ".sk-estimator-doc-link:hover,\n",
       "div.sk-label-container:hover .sk-estimator-doc-link:hover,\n",
       ".sk-estimator-doc-link:hover {\n",
       "  /* unfitted */\n",
       "  background-color: var(--sklearn-color-unfitted-level-3);\n",
       "  color: var(--sklearn-color-background);\n",
       "  text-decoration: none;\n",
       "}\n",
       "\n",
       "div.sk-estimator.fitted:hover .sk-estimator-doc-link.fitted:hover,\n",
       ".sk-estimator-doc-link.fitted:hover,\n",
       "div.sk-label-container:hover .sk-estimator-doc-link.fitted:hover,\n",
       ".sk-estimator-doc-link.fitted:hover {\n",
       "  /* fitted */\n",
       "  background-color: var(--sklearn-color-fitted-level-3);\n",
       "  color: var(--sklearn-color-background);\n",
       "  text-decoration: none;\n",
       "}\n",
       "\n",
       "/* Span, style for the box shown on hovering the info icon */\n",
       ".sk-estimator-doc-link span {\n",
       "  display: none;\n",
       "  z-index: 9999;\n",
       "  position: relative;\n",
       "  font-weight: normal;\n",
       "  right: .2ex;\n",
       "  padding: .5ex;\n",
       "  margin: .5ex;\n",
       "  width: min-content;\n",
       "  min-width: 20ex;\n",
       "  max-width: 50ex;\n",
       "  color: var(--sklearn-color-text);\n",
       "  box-shadow: 2pt 2pt 4pt #999;\n",
       "  /* unfitted */\n",
       "  background: var(--sklearn-color-unfitted-level-0);\n",
       "  border: .5pt solid var(--sklearn-color-unfitted-level-3);\n",
       "}\n",
       "\n",
       ".sk-estimator-doc-link.fitted span {\n",
       "  /* fitted */\n",
       "  background: var(--sklearn-color-fitted-level-0);\n",
       "  border: var(--sklearn-color-fitted-level-3);\n",
       "}\n",
       "\n",
       ".sk-estimator-doc-link:hover span {\n",
       "  display: block;\n",
       "}\n",
       "\n",
       "/* \"?\"-specific style due to the `<a>` HTML tag */\n",
       "\n",
       "#sk-container-id-1 a.estimator_doc_link {\n",
       "  float: right;\n",
       "  font-size: 1rem;\n",
       "  line-height: 1em;\n",
       "  font-family: monospace;\n",
       "  background-color: var(--sklearn-color-background);\n",
       "  border-radius: 1rem;\n",
       "  height: 1rem;\n",
       "  width: 1rem;\n",
       "  text-decoration: none;\n",
       "  /* unfitted */\n",
       "  color: var(--sklearn-color-unfitted-level-1);\n",
       "  border: var(--sklearn-color-unfitted-level-1) 1pt solid;\n",
       "}\n",
       "\n",
       "#sk-container-id-1 a.estimator_doc_link.fitted {\n",
       "  /* fitted */\n",
       "  border: var(--sklearn-color-fitted-level-1) 1pt solid;\n",
       "  color: var(--sklearn-color-fitted-level-1);\n",
       "}\n",
       "\n",
       "/* On hover */\n",
       "#sk-container-id-1 a.estimator_doc_link:hover {\n",
       "  /* unfitted */\n",
       "  background-color: var(--sklearn-color-unfitted-level-3);\n",
       "  color: var(--sklearn-color-background);\n",
       "  text-decoration: none;\n",
       "}\n",
       "\n",
       "#sk-container-id-1 a.estimator_doc_link.fitted:hover {\n",
       "  /* fitted */\n",
       "  background-color: var(--sklearn-color-fitted-level-3);\n",
       "}\n",
       "</style><div id=\"sk-container-id-1\" class=\"sk-top-container\"><div class=\"sk-text-repr-fallback\"><pre>XGBClassifier(base_score=None, booster=None, callbacks=None,\n",
       "              colsample_bylevel=None, colsample_bynode=0.5809674065975823,\n",
       "              colsample_bytree=None, device=None, early_stopping_rounds=None,\n",
       "              enable_categorical=False,\n",
       "              eval_metric=&lt;function custom_f1_score at 0x7f386f5c0720&gt;,\n",
       "              feature_types=None, gamma=None, grow_policy=None,\n",
       "              importance_type=None, interaction_constraints=None,\n",
       "              learning_rate=0.23520247410505163, max_bin=None,\n",
       "              max_cat_threshold=None, max_cat_to_onehot=None,\n",
       "              max_delta_step=None, max_depth=15, max_leaves=None,\n",
       "              min_child_weight=39, missing=nan, monotone_constraints=None,\n",
       "              multi_strategy=None, n_estimators=109, n_jobs=None,\n",
       "              num_parallel_tree=None, objective=&#x27;multi:softprob&#x27;, ...)</pre><b>In a Jupyter environment, please rerun this cell to show the HTML representation or trust the notebook. <br />On GitHub, the HTML representation is unable to render, please try loading this page with nbviewer.org.</b></div><div class=\"sk-container\" hidden><div class=\"sk-item\"><div class=\"sk-estimator fitted sk-toggleable\"><input class=\"sk-toggleable__control sk-hidden--visually\" id=\"sk-estimator-id-1\" type=\"checkbox\" checked><label for=\"sk-estimator-id-1\" class=\"sk-toggleable__label fitted sk-toggleable__label-arrow fitted\">&nbsp;XGBClassifier<span class=\"sk-estimator-doc-link fitted\">i<span>Fitted</span></span></label><div class=\"sk-toggleable__content fitted\"><pre>XGBClassifier(base_score=None, booster=None, callbacks=None,\n",
       "              colsample_bylevel=None, colsample_bynode=0.5809674065975823,\n",
       "              colsample_bytree=None, device=None, early_stopping_rounds=None,\n",
       "              enable_categorical=False,\n",
       "              eval_metric=&lt;function custom_f1_score at 0x7f386f5c0720&gt;,\n",
       "              feature_types=None, gamma=None, grow_policy=None,\n",
       "              importance_type=None, interaction_constraints=None,\n",
       "              learning_rate=0.23520247410505163, max_bin=None,\n",
       "              max_cat_threshold=None, max_cat_to_onehot=None,\n",
       "              max_delta_step=None, max_depth=15, max_leaves=None,\n",
       "              min_child_weight=39, missing=nan, monotone_constraints=None,\n",
       "              multi_strategy=None, n_estimators=109, n_jobs=None,\n",
       "              num_parallel_tree=None, objective=&#x27;multi:softprob&#x27;, ...)</pre></div> </div></div></div></div>"
      ],
      "text/plain": [
       "XGBClassifier(base_score=None, booster=None, callbacks=None,\n",
       "              colsample_bylevel=None, colsample_bynode=0.5809674065975823,\n",
       "              colsample_bytree=None, device=None, early_stopping_rounds=None,\n",
       "              enable_categorical=False,\n",
       "              eval_metric=<function custom_f1_score at 0x7f386f5c0720>,\n",
       "              feature_types=None, gamma=None, grow_policy=None,\n",
       "              importance_type=None, interaction_constraints=None,\n",
       "              learning_rate=0.23520247410505163, max_bin=None,\n",
       "              max_cat_threshold=None, max_cat_to_onehot=None,\n",
       "              max_delta_step=None, max_depth=15, max_leaves=None,\n",
       "              min_child_weight=39, missing=nan, monotone_constraints=None,\n",
       "              multi_strategy=None, n_estimators=109, n_jobs=None,\n",
       "              num_parallel_tree=None, objective='multi:softprob', ...)"
      ]
     },
     "execution_count": 21,
     "metadata": {},
     "output_type": "execute_result"
    }
   ],
   "source": [
    "n_estimators = int(study.best_trial.user_attrs['best_iteration']*1.2)\n",
    "xgb = xgboost.XGBClassifier(\n",
    "        eval_metric=eval_metric,\n",
    "        n_estimators=n_estimators,\n",
    "        **study.best_trial.params\n",
    "    )\n",
    "xgb.fit(\n",
    "    ssp.vstack((X_train, X_val)), \n",
    "    np.concatenate((y_train_enc, y_val_enc)),\n",
    "    verbose=1,\n",
    ")"
   ]
  },
  {
   "cell_type": "code",
   "execution_count": 22,
   "id": "0d8ef0a6",
   "metadata": {
    "execution": {
     "iopub.execute_input": "2025-05-15T16:18:40.210997Z",
     "iopub.status.busy": "2025-05-15T16:18:40.210750Z",
     "iopub.status.idle": "2025-05-15T16:18:40.262846Z",
     "shell.execute_reply": "2025-05-15T16:18:40.262504Z"
    },
    "papermill": {
     "duration": 0.061783,
     "end_time": "2025-05-15T16:18:40.263725",
     "exception": false,
     "start_time": "2025-05-15T16:18:40.201942",
     "status": "completed"
    },
    "tags": []
   },
   "outputs": [
    {
     "data": {
      "text/plain": [
       "['/scratch_isilon/groups/singlecell/shared/projects/Inflammation-PBMCs-Atlas/03_downstream_analysis/08_gene_importance/xgboost_external_validation/xgboost_TopN_genes/results_20/best_model/Mono_18_0_xgb.json']"
      ]
     },
     "execution_count": 22,
     "metadata": {},
     "output_type": "execute_result"
    }
   ],
   "source": [
    "out_dir = here(f'03_downstream_analysis/08_gene_importance/xgboost_external_validation/xgboost_TopN_genes/results_{N_GENES}/best_model')\n",
    "\n",
    "if not os.path.exists(out_dir):\n",
    "    os.makedirs(out_dir)\n",
    "    \n",
    "joblib.dump(xgb, os.path.join(out_dir, f'{CELL_TYPE}_{SEED}_{TEST_SPLIT_IDX}_xgb.json'))"
   ]
  },
  {
   "cell_type": "code",
   "execution_count": 23,
   "id": "36a18eba",
   "metadata": {
    "execution": {
     "iopub.execute_input": "2025-05-15T16:18:40.282226Z",
     "iopub.status.busy": "2025-05-15T16:18:40.281531Z",
     "iopub.status.idle": "2025-05-15T16:18:41.037171Z",
     "shell.execute_reply": "2025-05-15T16:18:41.036799Z"
    },
    "papermill": {
     "duration": 0.765803,
     "end_time": "2025-05-15T16:18:41.038302",
     "exception": false,
     "start_time": "2025-05-15T16:18:40.272499",
     "status": "completed"
    },
    "tags": []
   },
   "outputs": [],
   "source": [
    "df_pred_test = pd.DataFrame(dict(\n",
    "    cell_id=train_adata.obs.iloc[test_idxs].index.values,\n",
    "    y_true=y_test, \n",
    "    y_true_code=y_test_enc, \n",
    "    y_pred=xgb.predict(X_test))).set_index('cell_id')"
   ]
  },
  {
   "cell_type": "code",
   "execution_count": 24,
   "id": "9682f3e4",
   "metadata": {
    "execution": {
     "iopub.execute_input": "2025-05-15T16:18:41.056236Z",
     "iopub.status.busy": "2025-05-15T16:18:41.056057Z",
     "iopub.status.idle": "2025-05-15T16:18:41.256914Z",
     "shell.execute_reply": "2025-05-15T16:18:41.256539Z"
    },
    "papermill": {
     "duration": 0.210811,
     "end_time": "2025-05-15T16:18:41.258048",
     "exception": false,
     "start_time": "2025-05-15T16:18:41.047237",
     "status": "completed"
    },
    "tags": []
   },
   "outputs": [],
   "source": [
    "out_dir = here(f'03_downstream_analysis/08_gene_importance/xgboost_external_validation/xgboost_TopN_genes/results_{N_GENES}/predictions')\n",
    "\n",
    "if not os.path.exists(out_dir):\n",
    "    os.makedirs(out_dir)\n",
    "    \n",
    "df_pred_test.to_csv(os.path.join(out_dir, f'{CELL_TYPE}_{SEED}_{TEST_SPLIT_IDX}_pred_test.zip'))"
   ]
  },
  {
   "cell_type": "code",
   "execution_count": 25,
   "id": "f1b904a1",
   "metadata": {
    "execution": {
     "iopub.execute_input": "2025-05-15T16:18:41.276146Z",
     "iopub.status.busy": "2025-05-15T16:18:41.275844Z",
     "iopub.status.idle": "2025-05-15T16:18:41.292341Z",
     "shell.execute_reply": "2025-05-15T16:18:41.292028Z"
    },
    "papermill": {
     "duration": 0.026211,
     "end_time": "2025-05-15T16:18:41.293187",
     "exception": false,
     "start_time": "2025-05-15T16:18:41.266976",
     "status": "completed"
    },
    "tags": []
   },
   "outputs": [],
   "source": [
    "metrics_dict = dict(\n",
    "    BAS=balanced_accuracy_score(y_true=df_pred_test.y_true_code, y_pred=df_pred_test.y_pred), WF1=f1_score(y_true=df_pred_test.y_true_code, y_pred=df_pred_test.y_pred,average='weighted'))"
   ]
  },
  {
   "cell_type": "code",
   "execution_count": 26,
   "id": "5a124827",
   "metadata": {
    "execution": {
     "iopub.execute_input": "2025-05-15T16:18:41.318389Z",
     "iopub.status.busy": "2025-05-15T16:18:41.318216Z",
     "iopub.status.idle": "2025-05-15T16:18:41.320921Z",
     "shell.execute_reply": "2025-05-15T16:18:41.320620Z"
    },
    "papermill": {
     "duration": 0.020106,
     "end_time": "2025-05-15T16:18:41.321811",
     "exception": false,
     "start_time": "2025-05-15T16:18:41.301705",
     "status": "completed"
    },
    "tags": []
   },
   "outputs": [
    {
     "data": {
      "text/plain": [
       "{'BAS': 0.6348777564484595, 'WF1': 0.8660428293188766}"
      ]
     },
     "execution_count": 26,
     "metadata": {},
     "output_type": "execute_result"
    }
   ],
   "source": [
    "metrics_dict"
   ]
  },
  {
   "cell_type": "code",
   "execution_count": 27,
   "id": "22564ef8",
   "metadata": {
    "execution": {
     "iopub.execute_input": "2025-05-15T16:18:41.339709Z",
     "iopub.status.busy": "2025-05-15T16:18:41.339368Z",
     "iopub.status.idle": "2025-05-15T16:18:41.347274Z",
     "shell.execute_reply": "2025-05-15T16:18:41.346967Z"
    },
    "papermill": {
     "duration": 0.017528,
     "end_time": "2025-05-15T16:18:41.348141",
     "exception": false,
     "start_time": "2025-05-15T16:18:41.330613",
     "status": "completed"
    },
    "tags": []
   },
   "outputs": [
    {
     "data": {
      "text/html": [
       "<div>\n",
       "<style scoped>\n",
       "    .dataframe tbody tr th:only-of-type {\n",
       "        vertical-align: middle;\n",
       "    }\n",
       "\n",
       "    .dataframe tbody tr th {\n",
       "        vertical-align: top;\n",
       "    }\n",
       "\n",
       "    .dataframe thead th {\n",
       "        text-align: right;\n",
       "    }\n",
       "</style>\n",
       "<table border=\"1\" class=\"dataframe\">\n",
       "  <thead>\n",
       "    <tr style=\"text-align: right;\">\n",
       "      <th></th>\n",
       "      <th>BAS</th>\n",
       "      <th>WF1</th>\n",
       "      <th>split_idx</th>\n",
       "      <th>gene_set_seed</th>\n",
       "      <th>cell_type</th>\n",
       "    </tr>\n",
       "  </thead>\n",
       "  <tbody>\n",
       "    <tr>\n",
       "      <th>0</th>\n",
       "      <td>0.634878</td>\n",
       "      <td>0.866043</td>\n",
       "      <td>0</td>\n",
       "      <td>18</td>\n",
       "      <td>Mono</td>\n",
       "    </tr>\n",
       "  </tbody>\n",
       "</table>\n",
       "</div>"
      ],
      "text/plain": [
       "        BAS       WF1  split_idx  gene_set_seed cell_type\n",
       "0  0.634878  0.866043          0             18      Mono"
      ]
     },
     "execution_count": 27,
     "metadata": {},
     "output_type": "execute_result"
    }
   ],
   "source": [
    "metrics_df = pd.DataFrame.from_dict([metrics_dict]).assign(split_idx=TEST_SPLIT_IDX, gene_set_seed=SEED, cell_type=CELL_TYPE)\n",
    "metrics_df"
   ]
  },
  {
   "cell_type": "code",
   "execution_count": 28,
   "id": "027832d7",
   "metadata": {
    "execution": {
     "iopub.execute_input": "2025-05-15T16:18:41.365523Z",
     "iopub.status.busy": "2025-05-15T16:18:41.365289Z",
     "iopub.status.idle": "2025-05-15T16:18:41.372825Z",
     "shell.execute_reply": "2025-05-15T16:18:41.372526Z"
    },
    "papermill": {
     "duration": 0.017293,
     "end_time": "2025-05-15T16:18:41.373692",
     "exception": false,
     "start_time": "2025-05-15T16:18:41.356399",
     "status": "completed"
    },
    "tags": []
   },
   "outputs": [],
   "source": [
    "out_dir = here(f'03_downstream_analysis/08_gene_importance/xgboost_external_validation/xgboost_TopN_genes/results_{N_GENES}/metrics')\n",
    "\n",
    "if not os.path.exists(out_dir):\n",
    "    os.makedirs(out_dir)\n",
    "    \n",
    "metrics_df.to_csv(os.path.join(out_dir, f'{CELL_TYPE}_{SEED}_{TEST_SPLIT_IDX}_metrics.zip'))"
   ]
  }
 ],
 "metadata": {
  "kernelspec": {
   "display_name": "Python 3 (ipykernel)",
   "language": "python",
   "name": "python3"
  },
  "language_info": {
   "codemirror_mode": {
    "name": "ipython",
    "version": 3
   },
   "file_extension": ".py",
   "mimetype": "text/x-python",
   "name": "python",
   "nbconvert_exporter": "python",
   "pygments_lexer": "ipython3",
   "version": "3.12.5"
  },
  "papermill": {
   "default_parameters": {},
   "duration": 1105.740049,
   "end_time": "2025-05-15T16:18:41.996976",
   "environment_variables": {},
   "exception": null,
   "input_path": "02_xgboost_fitting_external_20genes.ipynb",
   "output_path": "results_20/executed_notebooks/xgboost_fitting_external_CT_Mono_GS_18_seed0.ipynb",
   "parameters": {
    "CELL_TYPE": "Mono",
    "SEED": 18,
    "TEST_SPLIT_IDX": 0
   },
   "start_time": "2025-05-15T16:00:16.256927",
   "version": "2.6.0"
  }
 },
 "nbformat": 4,
 "nbformat_minor": 5
}