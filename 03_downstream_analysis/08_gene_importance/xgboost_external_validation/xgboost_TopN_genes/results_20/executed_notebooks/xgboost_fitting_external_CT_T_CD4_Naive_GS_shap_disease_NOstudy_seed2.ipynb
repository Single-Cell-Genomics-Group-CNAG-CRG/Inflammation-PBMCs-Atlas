{
 "cells": [
  {
   "cell_type": "code",
   "execution_count": 1,
   "id": "bb33e99b",
   "metadata": {
    "editable": true,
    "execution": {
     "iopub.execute_input": "2025-05-14T16:07:34.895441Z",
     "iopub.status.busy": "2025-05-14T16:07:34.895296Z",
     "iopub.status.idle": "2025-05-14T16:07:34.898014Z",
     "shell.execute_reply": "2025-05-14T16:07:34.897713Z"
    },
    "papermill": {
     "duration": 0.012559,
     "end_time": "2025-05-14T16:07:34.898879",
     "exception": false,
     "start_time": "2025-05-14T16:07:34.886320",
     "status": "completed"
    },
    "slideshow": {
     "slide_type": ""
    },
    "tags": [
     "parameters"
    ]
   },
   "outputs": [],
   "source": [
    "CELL_TYPE = 'pDC'\n",
    "N_GENES: int = 20\n",
    "SEED = 'shap_studyID' #'disease_NOstudy' 'study_NOdisease' or 'int' or 'shap_studyID'\n",
    "TEST_SPLIT_IDX: int = 1 #[0,4]"
   ]
  },
  {
   "cell_type": "code",
   "execution_count": 2,
   "id": "8dbca981",
   "metadata": {
    "execution": {
     "iopub.execute_input": "2025-05-14T16:07:34.911323Z",
     "iopub.status.busy": "2025-05-14T16:07:34.911075Z",
     "iopub.status.idle": "2025-05-14T16:07:34.913257Z",
     "shell.execute_reply": "2025-05-14T16:07:34.912959Z"
    },
    "papermill": {
     "duration": 0.00934,
     "end_time": "2025-05-14T16:07:34.914074",
     "exception": false,
     "start_time": "2025-05-14T16:07:34.904734",
     "status": "completed"
    },
    "tags": [
     "injected-parameters"
    ]
   },
   "outputs": [],
   "source": [
    "# Parameters\n",
    "CELL_TYPE = \"T_CD4_Naive\"\n",
    "SEED = \"shap_disease_NOstudy\"\n",
    "TEST_SPLIT_IDX = 2\n"
   ]
  },
  {
   "cell_type": "code",
   "execution_count": 3,
   "id": "7bda8fbf",
   "metadata": {
    "execution": {
     "iopub.execute_input": "2025-05-14T16:07:34.926588Z",
     "iopub.status.busy": "2025-05-14T16:07:34.926214Z",
     "iopub.status.idle": "2025-05-14T16:07:34.928257Z",
     "shell.execute_reply": "2025-05-14T16:07:34.927962Z"
    },
    "papermill": {
     "duration": 0.008969,
     "end_time": "2025-05-14T16:07:34.929025",
     "exception": false,
     "start_time": "2025-05-14T16:07:34.920056",
     "status": "completed"
    },
    "tags": []
   },
   "outputs": [],
   "source": [
    "N_SPLITS: int = 5\n",
    "N_TRIALS: int = 50"
   ]
  },
  {
   "cell_type": "code",
   "execution_count": 4,
   "id": "5cd5e5d8",
   "metadata": {
    "execution": {
     "iopub.execute_input": "2025-05-14T16:07:34.948271Z",
     "iopub.status.busy": "2025-05-14T16:07:34.948134Z",
     "iopub.status.idle": "2025-05-14T16:07:46.939033Z",
     "shell.execute_reply": "2025-05-14T16:07:46.938545Z"
    },
    "papermill": {
     "duration": 12.004828,
     "end_time": "2025-05-14T16:07:46.940283",
     "exception": false,
     "start_time": "2025-05-14T16:07:34.935455",
     "status": "completed"
    },
    "tags": []
   },
   "outputs": [],
   "source": [
    "import os\n",
    "import sys\n",
    "from pyprojroot.here import here\n",
    "import pandas as pd\n",
    "import anndata as ad\n",
    "import numpy as np\n",
    "import math\n",
    "from sklearn.model_selection import StratifiedGroupKFold\n",
    "from sklearn.preprocessing import LabelEncoder\n",
    "from sklearn.metrics import f1_score\n",
    "import matplotlib.pyplot as plt\n",
    "import seaborn as sns\n",
    "from itertools import product\n",
    "from sklearn.metrics import balanced_accuracy_score, f1_score\n",
    "import optuna\n",
    "\n",
    "import joblib\n",
    "import pickle\n",
    "import datetime\n",
    "\n",
    "import collections\n",
    "\n",
    "import xgboost\n",
    "from sklearn.preprocessing import LabelEncoder\n",
    "\n",
    "import scipy.sparse as ssp\n",
    "import joblib\n",
    "\n",
    "from dotenv import load_dotenv"
   ]
  },
  {
   "cell_type": "code",
   "execution_count": 5,
   "id": "a04742c3",
   "metadata": {
    "execution": {
     "iopub.execute_input": "2025-05-14T16:07:46.982487Z",
     "iopub.status.busy": "2025-05-14T16:07:46.982202Z",
     "iopub.status.idle": "2025-05-14T16:07:46.987798Z",
     "shell.execute_reply": "2025-05-14T16:07:46.987480Z"
    },
    "papermill": {
     "duration": 0.013773,
     "end_time": "2025-05-14T16:07:46.988649",
     "exception": false,
     "start_time": "2025-05-14T16:07:46.974876",
     "status": "completed"
    },
    "tags": []
   },
   "outputs": [
    {
     "data": {
      "text/plain": [
       "True"
      ]
     },
     "execution_count": 5,
     "metadata": {},
     "output_type": "execute_result"
    }
   ],
   "source": [
    "load_dotenv()"
   ]
  },
  {
   "cell_type": "markdown",
   "id": "53de7c62",
   "metadata": {
    "papermill": {
     "duration": 0.005882,
     "end_time": "2025-05-14T16:07:47.009878",
     "exception": false,
     "start_time": "2025-05-14T16:07:47.003996",
     "status": "completed"
    },
    "tags": []
   },
   "source": [
    "# LOAD DATASET"
   ]
  },
  {
   "cell_type": "code",
   "execution_count": 6,
   "id": "8677da38",
   "metadata": {
    "execution": {
     "iopub.execute_input": "2025-05-14T16:07:47.021960Z",
     "iopub.status.busy": "2025-05-14T16:07:47.021716Z",
     "iopub.status.idle": "2025-05-14T16:07:47.567390Z",
     "shell.execute_reply": "2025-05-14T16:07:47.566933Z"
    },
    "papermill": {
     "duration": 0.552945,
     "end_time": "2025-05-14T16:07:47.568617",
     "exception": false,
     "start_time": "2025-05-14T16:07:47.015672",
     "status": "completed"
    },
    "tags": []
   },
   "outputs": [],
   "source": [
    "train_adata = ad.read_h5ad(\n",
    "    here(f'03_downstream_analysis/08_gene_importance/xgboost_external_validation/xgboost_TopN_genes/data_cellTypes/EXTERNAL_{CELL_TYPE}.filtered.log1p.h5ad')\n",
    ")"
   ]
  },
  {
   "cell_type": "code",
   "execution_count": 7,
   "id": "45f97c05",
   "metadata": {
    "execution": {
     "iopub.execute_input": "2025-05-14T16:07:47.582788Z",
     "iopub.status.busy": "2025-05-14T16:07:47.582436Z",
     "iopub.status.idle": "2025-05-14T16:07:47.608863Z",
     "shell.execute_reply": "2025-05-14T16:07:47.608504Z"
    },
    "papermill": {
     "duration": 0.033431,
     "end_time": "2025-05-14T16:07:47.609761",
     "exception": false,
     "start_time": "2025-05-14T16:07:47.576330",
     "status": "completed"
    },
    "tags": []
   },
   "outputs": [
    {
     "name": "stdout",
     "output_type": "stream",
     "text": [
      "['ENSG00000002549' 'ENSG00000002586' 'ENSG00000008517' 'ENSG00000027697'\n",
      " 'ENSG00000028137' 'ENSG00000030582' 'ENSG00000075785' 'ENSG00000076662'\n",
      " 'ENSG00000077150' 'ENSG00000077380' 'ENSG00000079616' 'ENSG00000081059'\n",
      " 'ENSG00000088986' 'ENSG00000089280' 'ENSG00000101608' 'ENSG00000102245'\n",
      " 'ENSG00000104689' 'ENSG00000104870' 'ENSG00000104904' 'ENSG00000104964'\n",
      " 'ENSG00000104998' 'ENSG00000105835' 'ENSG00000106952' 'ENSG00000108622'\n",
      " 'ENSG00000109787' 'ENSG00000109861' 'ENSG00000110324' 'ENSG00000110848'\n",
      " 'ENSG00000113263' 'ENSG00000113732' 'ENSG00000115415' 'ENSG00000115738'\n",
      " 'ENSG00000116171' 'ENSG00000117318' 'ENSG00000117450' 'ENSG00000118503'\n",
      " 'ENSG00000118515' 'ENSG00000119655' 'ENSG00000121966' 'ENSG00000125384'\n",
      " 'ENSG00000125743' 'ENSG00000126353' 'ENSG00000127022' 'ENSG00000127152'\n",
      " 'ENSG00000127528' 'ENSG00000128524' 'ENSG00000130429' 'ENSG00000130522'\n",
      " 'ENSG00000132475' 'ENSG00000133134' 'ENSG00000135046' 'ENSG00000136997'\n",
      " 'ENSG00000137193' 'ENSG00000137959' 'ENSG00000139192' 'ENSG00000139626'\n",
      " 'ENSG00000141506' 'ENSG00000143543' 'ENSG00000145220' 'ENSG00000145675'\n",
      " 'ENSG00000147168' 'ENSG00000150093' 'ENSG00000152234' 'ENSG00000152518'\n",
      " 'ENSG00000157601' 'ENSG00000159128' 'ENSG00000162368' 'ENSG00000163131'\n",
      " 'ENSG00000163191' 'ENSG00000163600' 'ENSG00000163659' 'ENSG00000164307'\n",
      " 'ENSG00000165732' 'ENSG00000166681' 'ENSG00000167004' 'ENSG00000167552'\n",
      " 'ENSG00000167996' 'ENSG00000169429' 'ENSG00000169564' 'ENSG00000172183'\n",
      " 'ENSG00000172543' 'ENSG00000172936' 'ENSG00000175567' 'ENSG00000175768'\n",
      " 'ENSG00000177885' 'ENSG00000178719' 'ENSG00000179094' 'ENSG00000179144'\n",
      " 'ENSG00000179218' 'ENSG00000182117' 'ENSG00000182866' 'ENSG00000183508'\n",
      " 'ENSG00000183696' 'ENSG00000184007' 'ENSG00000184557' 'ENSG00000185201'\n",
      " 'ENSG00000185338' 'ENSG00000185950' 'ENSG00000187608' 'ENSG00000196126'\n",
      " 'ENSG00000196396' 'ENSG00000197329' 'ENSG00000197471' 'ENSG00000197956'\n",
      " 'ENSG00000198520' 'ENSG00000198832' 'ENSG00000204264' 'ENSG00000204287'\n",
      " 'ENSG00000204482' 'ENSG00000204525' 'ENSG00000204592' 'ENSG00000205220'\n",
      " 'ENSG00000205542' 'ENSG00000206503' 'ENSG00000211895' 'ENSG00000213145'\n",
      " 'ENSG00000226979' 'ENSG00000227507' 'ENSG00000231389' 'ENSG00000234745'\n",
      " 'ENSG00000243749' 'ENSG00000264364' 'ENSG00000265972']\n"
     ]
    }
   ],
   "source": [
    "if SEED != 'all':\n",
    "    gene_subset = np.load(here(f'03_downstream_analysis/08_gene_importance/xgboost_external_validation/shap_gene_selection/gene_subsets_{N_GENES}/{CELL_TYPE}_{SEED}.npy'), allow_pickle=True)\n",
    "    train_adata = train_adata[:,gene_subset]\n",
    "    print(gene_subset)\n",
    "elif SEED == 'all':\n",
    "    print('Using all genes')\n",
    "else:\n",
    "    raise ValueError()"
   ]
  },
  {
   "cell_type": "code",
   "execution_count": 8,
   "id": "1d9c2e95",
   "metadata": {
    "execution": {
     "iopub.execute_input": "2025-05-14T16:07:47.661546Z",
     "iopub.status.busy": "2025-05-14T16:07:47.661152Z",
     "iopub.status.idle": "2025-05-14T16:07:47.664180Z",
     "shell.execute_reply": "2025-05-14T16:07:47.663871Z"
    },
    "papermill": {
     "duration": 0.011369,
     "end_time": "2025-05-14T16:07:47.665036",
     "exception": false,
     "start_time": "2025-05-14T16:07:47.653667",
     "status": "completed"
    },
    "tags": []
   },
   "outputs": [
    {
     "data": {
      "text/plain": [
       "(85497, 123)"
      ]
     },
     "execution_count": 8,
     "metadata": {},
     "output_type": "execute_result"
    }
   ],
   "source": [
    "train_adata.shape"
   ]
  },
  {
   "cell_type": "code",
   "execution_count": 9,
   "id": "1208a117",
   "metadata": {
    "execution": {
     "iopub.execute_input": "2025-05-14T16:07:47.692852Z",
     "iopub.status.busy": "2025-05-14T16:07:47.692512Z",
     "iopub.status.idle": "2025-05-14T16:07:47.696175Z",
     "shell.execute_reply": "2025-05-14T16:07:47.695877Z"
    },
    "papermill": {
     "duration": 0.020288,
     "end_time": "2025-05-14T16:07:47.696975",
     "exception": false,
     "start_time": "2025-05-14T16:07:47.676687",
     "status": "completed"
    },
    "tags": []
   },
   "outputs": [
    {
     "data": {
      "text/plain": [
       "['RA', 'COVID', 'healthy', 'HIV', 'cirrhosis', 'CD', 'SLE', 'sepsis']\n",
       "Categories (8, object): ['CD', 'COVID', 'HIV', 'RA', 'SLE', 'cirrhosis', 'healthy', 'sepsis']"
      ]
     },
     "execution_count": 9,
     "metadata": {},
     "output_type": "execute_result"
    }
   ],
   "source": [
    "train_adata.obs.disease.unique()"
   ]
  },
  {
   "cell_type": "code",
   "execution_count": 10,
   "id": "dae67e03",
   "metadata": {
    "execution": {
     "iopub.execute_input": "2025-05-14T16:07:47.709258Z",
     "iopub.status.busy": "2025-05-14T16:07:47.709021Z",
     "iopub.status.idle": "2025-05-14T16:07:47.712700Z",
     "shell.execute_reply": "2025-05-14T16:07:47.712383Z"
    },
    "papermill": {
     "duration": 0.010855,
     "end_time": "2025-05-14T16:07:47.713577",
     "exception": false,
     "start_time": "2025-05-14T16:07:47.702722",
     "status": "completed"
    },
    "tags": []
   },
   "outputs": [
    {
     "data": {
      "text/plain": [
       "['SCGT00val_I036016_T0', 'SCGT00val_I036019_T0', 'SCGT00val_I036023_T0', 'SCGT00val_I036015_T0', 'SCGT00val_I036028_T0', ..., '10XGenomics_10XHC2_T0', '10XGenomics_10XHC3_T0', '10XGenomics_10XHC5_T0', '10XGenomics_10XHC7_T0', '10XGenomics_10XHC8_T0']\n",
       "Length: 86\n",
       "Categories (86, object): ['10XGenomics_10XHC1_T0', '10XGenomics_10XHC2_T0', '10XGenomics_10XHC3_T0', '10XGenomics_10XHC4_T0', ..., 'Savage2021_BRISL6_T0', 'Savage2021_BRISL7_T0', 'Savage2021_PIDA_T0', 'Savage2021_PIDB_T0']"
      ]
     },
     "execution_count": 10,
     "metadata": {},
     "output_type": "execute_result"
    }
   ],
   "source": [
    "train_adata.obs.sampleID.unique()"
   ]
  },
  {
   "cell_type": "code",
   "execution_count": 11,
   "id": "d57031d1",
   "metadata": {
    "execution": {
     "iopub.execute_input": "2025-05-14T16:07:47.733493Z",
     "iopub.status.busy": "2025-05-14T16:07:47.732939Z",
     "iopub.status.idle": "2025-05-14T16:07:47.944035Z",
     "shell.execute_reply": "2025-05-14T16:07:47.943617Z"
    },
    "papermill": {
     "duration": 0.225525,
     "end_time": "2025-05-14T16:07:47.945009",
     "exception": false,
     "start_time": "2025-05-14T16:07:47.719484",
     "status": "completed"
    },
    "tags": []
   },
   "outputs": [],
   "source": [
    "all_idxs = np.arange(train_adata.obs.shape[0])\n",
    "left_out_splits = [s[1] for s in StratifiedGroupKFold(n_splits=N_SPLITS).split(all_idxs, train_adata.obs.disease, train_adata.obs.sampleID)]"
   ]
  },
  {
   "cell_type": "code",
   "execution_count": 12,
   "id": "067d0699",
   "metadata": {
    "execution": {
     "iopub.execute_input": "2025-05-14T16:07:47.968223Z",
     "iopub.status.busy": "2025-05-14T16:07:47.967695Z",
     "iopub.status.idle": "2025-05-14T16:07:47.971210Z",
     "shell.execute_reply": "2025-05-14T16:07:47.970916Z"
    },
    "papermill": {
     "duration": 0.010751,
     "end_time": "2025-05-14T16:07:47.972048",
     "exception": false,
     "start_time": "2025-05-14T16:07:47.961297",
     "status": "completed"
    },
    "tags": []
   },
   "outputs": [
    {
     "data": {
      "text/plain": [
       "([0, 1, 4], 3, 2)"
      ]
     },
     "execution_count": 12,
     "metadata": {},
     "output_type": "execute_result"
    }
   ],
   "source": [
    "TRAIN_SPLIT_IDXS = [0,1,2,3,4]\n",
    "VAL_SPLIT_IDX = (TEST_SPLIT_IDX + 1) % 5\n",
    "TRAIN_SPLIT_IDXS.remove(TEST_SPLIT_IDX)\n",
    "TRAIN_SPLIT_IDXS.remove(VAL_SPLIT_IDX)\n",
    "TRAIN_SPLIT_IDXS, VAL_SPLIT_IDX, TEST_SPLIT_IDX"
   ]
  },
  {
   "cell_type": "code",
   "execution_count": 13,
   "id": "e10b30e2",
   "metadata": {
    "execution": {
     "iopub.execute_input": "2025-05-14T16:07:48.001179Z",
     "iopub.status.busy": "2025-05-14T16:07:48.000815Z",
     "iopub.status.idle": "2025-05-14T16:07:48.003318Z",
     "shell.execute_reply": "2025-05-14T16:07:48.003020Z"
    },
    "papermill": {
     "duration": 0.025587,
     "end_time": "2025-05-14T16:07:48.004101",
     "exception": false,
     "start_time": "2025-05-14T16:07:47.978514",
     "status": "completed"
    },
    "tags": []
   },
   "outputs": [],
   "source": [
    "train_idxs = np.concatenate([left_out_splits[idx] for idx in TRAIN_SPLIT_IDXS])\n",
    "val_idxs = left_out_splits[VAL_SPLIT_IDX]\n",
    "test_idxs = left_out_splits[TEST_SPLIT_IDX]"
   ]
  },
  {
   "cell_type": "markdown",
   "id": "e21e169d",
   "metadata": {
    "papermill": {
     "duration": 0.017143,
     "end_time": "2025-05-14T16:07:48.027054",
     "exception": false,
     "start_time": "2025-05-14T16:07:48.009911",
     "status": "completed"
    },
    "tags": []
   },
   "source": [
    "### SUBSET DATASET INTO TRAIN/TEST/VAL SPLITS"
   ]
  },
  {
   "cell_type": "code",
   "execution_count": 14,
   "id": "b27bfb1f",
   "metadata": {
    "execution": {
     "iopub.execute_input": "2025-05-14T16:07:48.057982Z",
     "iopub.status.busy": "2025-05-14T16:07:48.057625Z",
     "iopub.status.idle": "2025-05-14T16:07:48.256963Z",
     "shell.execute_reply": "2025-05-14T16:07:48.256617Z"
    },
    "papermill": {
     "duration": 0.215747,
     "end_time": "2025-05-14T16:07:48.257874",
     "exception": false,
     "start_time": "2025-05-14T16:07:48.042127",
     "status": "completed"
    },
    "tags": []
   },
   "outputs": [
    {
     "data": {
      "text/plain": [
       "((50293, 123), (16653, 123), (18551, 123))"
      ]
     },
     "execution_count": 14,
     "metadata": {},
     "output_type": "execute_result"
    }
   ],
   "source": [
    "X_train = train_adata.X[train_idxs]\n",
    "X_test = train_adata.X[test_idxs]\n",
    "X_val = train_adata.X[val_idxs]\n",
    "X_train.shape, X_test.shape, X_val.shape"
   ]
  },
  {
   "cell_type": "code",
   "execution_count": 15,
   "id": "61b8cd2f",
   "metadata": {
    "execution": {
     "iopub.execute_input": "2025-05-14T16:07:48.281652Z",
     "iopub.status.busy": "2025-05-14T16:07:48.281449Z",
     "iopub.status.idle": "2025-05-14T16:07:48.291499Z",
     "shell.execute_reply": "2025-05-14T16:07:48.291146Z"
    },
    "papermill": {
     "duration": 0.028549,
     "end_time": "2025-05-14T16:07:48.292438",
     "exception": false,
     "start_time": "2025-05-14T16:07:48.263889",
     "status": "completed"
    },
    "tags": []
   },
   "outputs": [
    {
     "data": {
      "text/plain": [
       "((50293,), (16653,), (18551,))"
      ]
     },
     "execution_count": 15,
     "metadata": {},
     "output_type": "execute_result"
    }
   ],
   "source": [
    "y_train = train_adata.obs.iloc[train_idxs].disease.values.astype(str)\n",
    "y_test = train_adata.obs.iloc[test_idxs].disease.values.astype(str)\n",
    "y_val = train_adata.obs.iloc[val_idxs].disease.values.astype(str)\n",
    "y_train.shape, y_test.shape, y_val.shape"
   ]
  },
  {
   "cell_type": "code",
   "execution_count": 16,
   "id": "b0d7dcad",
   "metadata": {
    "execution": {
     "iopub.execute_input": "2025-05-14T16:07:48.306641Z",
     "iopub.status.busy": "2025-05-14T16:07:48.306115Z",
     "iopub.status.idle": "2025-05-14T16:07:48.326012Z",
     "shell.execute_reply": "2025-05-14T16:07:48.325654Z"
    },
    "papermill": {
     "duration": 0.027815,
     "end_time": "2025-05-14T16:07:48.326938",
     "exception": false,
     "start_time": "2025-05-14T16:07:48.299123",
     "status": "completed"
    },
    "tags": []
   },
   "outputs": [],
   "source": [
    "lenc = LabelEncoder()\n",
    "y_train_enc = lenc.fit_transform(y_train)\n",
    "y_val_enc = lenc.transform(y_val)\n",
    "y_test_enc = lenc.transform(y_test)"
   ]
  },
  {
   "cell_type": "markdown",
   "id": "3c584aa0",
   "metadata": {
    "papermill": {
     "duration": 0.006356,
     "end_time": "2025-05-14T16:07:48.339938",
     "exception": false,
     "start_time": "2025-05-14T16:07:48.333582",
     "status": "completed"
    },
    "tags": []
   },
   "source": [
    "### GENERATE F1 "
   ]
  },
  {
   "cell_type": "code",
   "execution_count": 17,
   "id": "dc32c1d7",
   "metadata": {
    "execution": {
     "iopub.execute_input": "2025-05-14T16:07:48.369910Z",
     "iopub.status.busy": "2025-05-14T16:07:48.369449Z",
     "iopub.status.idle": "2025-05-14T16:07:48.372213Z",
     "shell.execute_reply": "2025-05-14T16:07:48.371897Z"
    },
    "papermill": {
     "duration": 0.025957,
     "end_time": "2025-05-14T16:07:48.373064",
     "exception": false,
     "start_time": "2025-05-14T16:07:48.347107",
     "status": "completed"
    },
    "tags": []
   },
   "outputs": [],
   "source": [
    "def custom_f1_score(y_true, y_pred):\n",
    "    return -f1_score(y_true, y_pred.argmax(1), average='weighted')"
   ]
  },
  {
   "cell_type": "code",
   "execution_count": 18,
   "id": "ce4046f8",
   "metadata": {
    "execution": {
     "iopub.execute_input": "2025-05-14T16:07:48.387354Z",
     "iopub.status.busy": "2025-05-14T16:07:48.386955Z",
     "iopub.status.idle": "2025-05-14T16:07:48.391129Z",
     "shell.execute_reply": "2025-05-14T16:07:48.390810Z"
    },
    "papermill": {
     "duration": 0.012621,
     "end_time": "2025-05-14T16:07:48.392020",
     "exception": false,
     "start_time": "2025-05-14T16:07:48.379399",
     "status": "completed"
    },
    "tags": []
   },
   "outputs": [],
   "source": [
    "eval_metric=custom_f1_score\n",
    "eval_metric_name='custom_f1_score'\n",
    "\n",
    "def objective(trial):\n",
    "    params = {\n",
    "        'n_estimators': 1500,\n",
    "        'max_depth': trial.suggest_int('max_depth', 3, 20),\n",
    "        'min_child_weight': trial.suggest_int('min_child_weight', 1, 250),\n",
    "        'subsample': trial.suggest_float('subsample', 0.1, 1.0),\n",
    "        'colsample_bynode': trial.suggest_float('colsample_bynode', 0.1, 1.0),\n",
    "        'learning_rate': trial.suggest_float('learning_rate', 1e-3, 5e-1, log=True),\n",
    "    }\n",
    "    pruning_callback = optuna.integration.XGBoostPruningCallback(trial, f'validation_0-{eval_metric_name}')\n",
    "    es_callback = xgboost.callback.EarlyStopping(20, min_delta=0.001)\n",
    "    xgb = xgboost.XGBClassifier(\n",
    "        eval_metric=eval_metric,\n",
    "        callbacks=[pruning_callback, es_callback],\n",
    "        n_jobs=5,\n",
    "        **params\n",
    "    )\n",
    "    xgb.fit(\n",
    "        X_train, \n",
    "        y_train_enc, \n",
    "        verbose=0,\n",
    "        eval_set=[(X_val, y_val_enc)],\n",
    "    )\n",
    "    trial.set_user_attr('best_iteration', xgb.best_iteration)\n",
    "\n",
    "    return xgb.best_score"
   ]
  },
  {
   "cell_type": "code",
   "execution_count": 19,
   "id": "8e7f0d59",
   "metadata": {
    "execution": {
     "iopub.execute_input": "2025-05-14T16:07:48.415884Z",
     "iopub.status.busy": "2025-05-14T16:07:48.415473Z",
     "iopub.status.idle": "2025-05-14T16:18:07.757763Z",
     "shell.execute_reply": "2025-05-14T16:18:07.757203Z"
    },
    "papermill": {
     "duration": 619.36069,
     "end_time": "2025-05-14T16:18:07.758870",
     "exception": false,
     "start_time": "2025-05-14T16:07:48.398180",
     "status": "completed"
    },
    "scrolled": true,
    "tags": []
   },
   "outputs": [
    {
     "name": "stderr",
     "output_type": "stream",
     "text": [
      "[I 2025-05-14 18:07:48,417] A new study created in memory with name: no-name-eb6505a8-cbcb-4cde-9a81-5f3981d526fb\n"
     ]
    },
    {
     "name": "stderr",
     "output_type": "stream",
     "text": [
      "[I 2025-05-14 18:07:53,183] Trial 0 finished with value: -0.588901 and parameters: {'max_depth': 9, 'min_child_weight': 238, 'subsample': 0.7587945476302645, 'colsample_bynode': 0.6387926357773329, 'learning_rate': 0.0026368755339723046}. Best is trial 0 with value: -0.588901.\n"
     ]
    },
    {
     "name": "stderr",
     "output_type": "stream",
     "text": [
      "[I 2025-05-14 18:08:42,626] Trial 1 finished with value: -0.683205 and parameters: {'max_depth': 5, 'min_child_weight': 15, 'subsample': 0.8795585311974417, 'colsample_bynode': 0.6410035105688879, 'learning_rate': 0.08148293210105287}. Best is trial 1 with value: -0.683205.\n"
     ]
    },
    {
     "name": "stderr",
     "output_type": "stream",
     "text": [
      "[I 2025-05-14 18:08:47,365] Trial 2 finished with value: -0.533171 and parameters: {'max_depth': 3, 'min_child_weight': 243, 'subsample': 0.8491983767203796, 'colsample_bynode': 0.29110519961044856, 'learning_rate': 0.003095566460242371}. Best is trial 1 with value: -0.683205.\n"
     ]
    },
    {
     "name": "stderr",
     "output_type": "stream",
     "text": [
      "[I 2025-05-14 18:09:01,895] Trial 3 finished with value: -0.602977 and parameters: {'max_depth': 6, 'min_child_weight': 77, 'subsample': 0.5722807884690141, 'colsample_bynode': 0.48875051677790415, 'learning_rate': 0.006109683510122491}. Best is trial 1 with value: -0.683205.\n"
     ]
    },
    {
     "name": "stderr",
     "output_type": "stream",
     "text": [
      "[I 2025-05-14 18:09:43,435] Trial 4 finished with value: -0.643122 and parameters: {'max_depth': 14, 'min_child_weight': 35, 'subsample': 0.3629301836816964, 'colsample_bynode': 0.4297256589643226, 'learning_rate': 0.01701841881702917}. Best is trial 1 with value: -0.683205.\n"
     ]
    },
    {
     "name": "stderr",
     "output_type": "stream",
     "text": [
      "[I 2025-05-14 18:09:50,255] Trial 5 pruned. Trial was pruned at iteration 23.\n"
     ]
    },
    {
     "name": "stderr",
     "output_type": "stream",
     "text": [
      "[I 2025-05-14 18:09:50,745] Trial 6 pruned. Trial was pruned at iteration 0.\n"
     ]
    },
    {
     "name": "stderr",
     "output_type": "stream",
     "text": [
      "[I 2025-05-14 18:09:51,212] Trial 7 pruned. Trial was pruned at iteration 0.\n"
     ]
    },
    {
     "name": "stderr",
     "output_type": "stream",
     "text": [
      "[I 2025-05-14 18:09:51,669] Trial 8 pruned. Trial was pruned at iteration 0.\n"
     ]
    },
    {
     "name": "stderr",
     "output_type": "stream",
     "text": [
      "[I 2025-05-14 18:09:57,620] Trial 9 finished with value: -0.60525 and parameters: {'max_depth': 14, 'min_child_weight': 78, 'subsample': 0.5680612190600297, 'colsample_bynode': 0.5920392514089517, 'learning_rate': 0.0031543990308330965}. Best is trial 1 with value: -0.683205.\n"
     ]
    },
    {
     "name": "stderr",
     "output_type": "stream",
     "text": [
      "[I 2025-05-14 18:09:58,256] Trial 10 pruned. Trial was pruned at iteration 0.\n"
     ]
    },
    {
     "name": "stderr",
     "output_type": "stream",
     "text": [
      "[I 2025-05-14 18:10:54,046] Trial 11 finished with value: -0.681226 and parameters: {'max_depth': 10, 'min_child_weight': 3, 'subsample': 0.34014304150377095, 'colsample_bynode': 0.40131565860091256, 'learning_rate': 0.057899203666416425}. Best is trial 1 with value: -0.683205.\n"
     ]
    },
    {
     "name": "stderr",
     "output_type": "stream",
     "text": [
      "[I 2025-05-14 18:11:53,229] Trial 12 finished with value: -0.688198 and parameters: {'max_depth': 8, 'min_child_weight': 3, 'subsample': 0.3693916175642251, 'colsample_bynode': 0.351751713087183, 'learning_rate': 0.07220195396446884}. Best is trial 12 with value: -0.688198.\n"
     ]
    },
    {
     "name": "stderr",
     "output_type": "stream",
     "text": [
      "[I 2025-05-14 18:11:53,720] Trial 13 pruned. Trial was pruned at iteration 0.\n"
     ]
    },
    {
     "name": "stderr",
     "output_type": "stream",
     "text": [
      "[I 2025-05-14 18:11:54,242] Trial 14 pruned. Trial was pruned at iteration 0.\n"
     ]
    },
    {
     "name": "stderr",
     "output_type": "stream",
     "text": [
      "[I 2025-05-14 18:11:54,724] Trial 15 pruned. Trial was pruned at iteration 0.\n"
     ]
    },
    {
     "name": "stderr",
     "output_type": "stream",
     "text": [
      "[I 2025-05-14 18:11:55,255] Trial 16 pruned. Trial was pruned at iteration 0.\n"
     ]
    },
    {
     "name": "stderr",
     "output_type": "stream",
     "text": [
      "[I 2025-05-14 18:11:55,732] Trial 17 pruned. Trial was pruned at iteration 0.\n"
     ]
    },
    {
     "name": "stderr",
     "output_type": "stream",
     "text": [
      "[I 2025-05-14 18:11:56,252] Trial 18 pruned. Trial was pruned at iteration 0.\n"
     ]
    },
    {
     "name": "stderr",
     "output_type": "stream",
     "text": [
      "[I 2025-05-14 18:11:56,716] Trial 19 pruned. Trial was pruned at iteration 0.\n"
     ]
    },
    {
     "name": "stderr",
     "output_type": "stream",
     "text": [
      "[I 2025-05-14 18:12:33,118] Trial 20 finished with value: -0.683086 and parameters: {'max_depth': 12, 'min_child_weight': 24, 'subsample': 0.8601573496833833, 'colsample_bynode': 0.36355618536187856, 'learning_rate': 0.10169686165917782}. Best is trial 12 with value: -0.688198.\n"
     ]
    },
    {
     "name": "stderr",
     "output_type": "stream",
     "text": [
      "[I 2025-05-14 18:12:33,710] Trial 21 pruned. Trial was pruned at iteration 0.\n"
     ]
    },
    {
     "name": "stderr",
     "output_type": "stream",
     "text": [
      "[I 2025-05-14 18:13:00,587] Trial 22 finished with value: -0.687629 and parameters: {'max_depth': 8, 'min_child_weight': 57, 'subsample': 0.8637056620667783, 'colsample_bynode': 0.4622052225970136, 'learning_rate': 0.22376845331533737}. Best is trial 12 with value: -0.688198.\n"
     ]
    },
    {
     "name": "stderr",
     "output_type": "stream",
     "text": [
      "[I 2025-05-14 18:13:28,052] Trial 23 finished with value: -0.687394 and parameters: {'max_depth': 7, 'min_child_weight': 57, 'subsample': 0.6638310221964546, 'colsample_bynode': 0.4853360932549882, 'learning_rate': 0.2838120407228958}. Best is trial 12 with value: -0.688198.\n"
     ]
    },
    {
     "name": "stderr",
     "output_type": "stream",
     "text": [
      "[I 2025-05-14 18:13:28,584] Trial 24 pruned. Trial was pruned at iteration 0.\n"
     ]
    },
    {
     "name": "stderr",
     "output_type": "stream",
     "text": [
      "[I 2025-05-14 18:13:29,117] Trial 25 pruned. Trial was pruned at iteration 0.\n"
     ]
    },
    {
     "name": "stderr",
     "output_type": "stream",
     "text": [
      "[I 2025-05-14 18:13:29,607] Trial 26 pruned. Trial was pruned at iteration 0.\n"
     ]
    },
    {
     "name": "stderr",
     "output_type": "stream",
     "text": [
      "[I 2025-05-14 18:13:30,095] Trial 27 pruned. Trial was pruned at iteration 0.\n"
     ]
    },
    {
     "name": "stderr",
     "output_type": "stream",
     "text": [
      "[I 2025-05-14 18:13:30,620] Trial 28 pruned. Trial was pruned at iteration 0.\n"
     ]
    },
    {
     "name": "stderr",
     "output_type": "stream",
     "text": [
      "[I 2025-05-14 18:13:31,147] Trial 29 pruned. Trial was pruned at iteration 0.\n"
     ]
    },
    {
     "name": "stderr",
     "output_type": "stream",
     "text": [
      "[I 2025-05-14 18:13:31,639] Trial 30 pruned. Trial was pruned at iteration 0.\n"
     ]
    },
    {
     "name": "stderr",
     "output_type": "stream",
     "text": [
      "[I 2025-05-14 18:13:36,745] Trial 31 pruned. Trial was pruned at iteration 20.\n"
     ]
    },
    {
     "name": "stderr",
     "output_type": "stream",
     "text": [
      "[I 2025-05-14 18:13:37,226] Trial 32 pruned. Trial was pruned at iteration 0.\n"
     ]
    },
    {
     "name": "stderr",
     "output_type": "stream",
     "text": [
      "[I 2025-05-14 18:13:42,937] Trial 33 pruned. Trial was pruned at iteration 20.\n"
     ]
    },
    {
     "name": "stderr",
     "output_type": "stream",
     "text": [
      "[I 2025-05-14 18:13:43,474] Trial 34 pruned. Trial was pruned at iteration 0.\n"
     ]
    },
    {
     "name": "stderr",
     "output_type": "stream",
     "text": [
      "[I 2025-05-14 18:13:43,967] Trial 35 pruned. Trial was pruned at iteration 0.\n"
     ]
    },
    {
     "name": "stderr",
     "output_type": "stream",
     "text": [
      "[I 2025-05-14 18:13:44,475] Trial 36 pruned. Trial was pruned at iteration 0.\n"
     ]
    },
    {
     "name": "stderr",
     "output_type": "stream",
     "text": [
      "[I 2025-05-14 18:13:44,941] Trial 37 pruned. Trial was pruned at iteration 0.\n"
     ]
    },
    {
     "name": "stderr",
     "output_type": "stream",
     "text": [
      "[I 2025-05-14 18:14:24,096] Trial 38 finished with value: -0.691458 and parameters: {'max_depth': 7, 'min_child_weight': 33, 'subsample': 0.9080646988316062, 'colsample_bynode': 0.859640954352695, 'learning_rate': 0.20951950936800534}. Best is trial 38 with value: -0.691458.\n"
     ]
    },
    {
     "name": "stderr",
     "output_type": "stream",
     "text": [
      "[I 2025-05-14 18:14:44,387] Trial 39 finished with value: -0.692646 and parameters: {'max_depth': 10, 'min_child_weight': 44, 'subsample': 0.9018334017729455, 'colsample_bynode': 0.8785669003118605, 'learning_rate': 0.4727363411197455}. Best is trial 39 with value: -0.692646.\n"
     ]
    },
    {
     "name": "stderr",
     "output_type": "stream",
     "text": [
      "[I 2025-05-14 18:15:19,698] Trial 40 finished with value: -0.689246 and parameters: {'max_depth': 12, 'min_child_weight': 34, 'subsample': 0.9103514021601739, 'colsample_bynode': 0.895028966283031, 'learning_rate': 0.20035991329672054}. Best is trial 39 with value: -0.692646.\n"
     ]
    },
    {
     "name": "stderr",
     "output_type": "stream",
     "text": [
      "[I 2025-05-14 18:15:39,020] Trial 41 finished with value: -0.691201 and parameters: {'max_depth': 12, 'min_child_weight': 32, 'subsample': 0.9100892229011317, 'colsample_bynode': 0.8783055505183279, 'learning_rate': 0.45008943149300085}. Best is trial 39 with value: -0.692646.\n"
     ]
    },
    {
     "name": "stderr",
     "output_type": "stream",
     "text": [
      "[I 2025-05-14 18:15:59,200] Trial 42 finished with value: -0.688908 and parameters: {'max_depth': 15, 'min_child_weight': 32, 'subsample': 0.9258249415997345, 'colsample_bynode': 0.9037401310011659, 'learning_rate': 0.49539253904517244}. Best is trial 39 with value: -0.692646.\n"
     ]
    },
    {
     "name": "stderr",
     "output_type": "stream",
     "text": [
      "[I 2025-05-14 18:16:21,256] Trial 43 finished with value: -0.690161 and parameters: {'max_depth': 16, 'min_child_weight': 31, 'subsample': 0.9250827827349911, 'colsample_bynode': 0.8835783025303092, 'learning_rate': 0.47835563398672865}. Best is trial 39 with value: -0.692646.\n"
     ]
    },
    {
     "name": "stderr",
     "output_type": "stream",
     "text": [
      "[I 2025-05-14 18:16:46,868] Trial 44 finished with value: -0.691564 and parameters: {'max_depth': 16, 'min_child_weight': 44, 'subsample': 0.9063362175420103, 'colsample_bynode': 0.8526597259339554, 'learning_rate': 0.42067116086178086}. Best is trial 39 with value: -0.692646.\n"
     ]
    },
    {
     "name": "stderr",
     "output_type": "stream",
     "text": [
      "[I 2025-05-14 18:17:09,777] Trial 45 finished with value: -0.691363 and parameters: {'max_depth': 16, 'min_child_weight': 47, 'subsample': 0.9666931132223269, 'colsample_bynode': 0.8405058094736076, 'learning_rate': 0.4976962818831403}. Best is trial 39 with value: -0.692646.\n"
     ]
    },
    {
     "name": "stderr",
     "output_type": "stream",
     "text": [
      "[I 2025-05-14 18:17:31,235] Trial 46 finished with value: -0.691182 and parameters: {'max_depth': 18, 'min_child_weight': 49, 'subsample': 0.9697667271557822, 'colsample_bynode': 0.9961570377304925, 'learning_rate': 0.39487237002593667}. Best is trial 39 with value: -0.692646.\n"
     ]
    },
    {
     "name": "stderr",
     "output_type": "stream",
     "text": [
      "[I 2025-05-14 18:17:31,774] Trial 47 pruned. Trial was pruned at iteration 0.\n"
     ]
    },
    {
     "name": "stderr",
     "output_type": "stream",
     "text": [
      "[I 2025-05-14 18:17:57,754] Trial 48 finished with value: -0.689901 and parameters: {'max_depth': 18, 'min_child_weight': 41, 'subsample': 0.9743425749772241, 'colsample_bynode': 0.7583071853409109, 'learning_rate': 0.3266623058463653}. Best is trial 39 with value: -0.692646.\n"
     ]
    },
    {
     "name": "stderr",
     "output_type": "stream",
     "text": [
      "[I 2025-05-14 18:18:07,650] Trial 49 pruned. Trial was pruned at iteration 22.\n"
     ]
    }
   ],
   "source": [
    "sampler = optuna.samplers.TPESampler(seed=42)\n",
    "study = optuna.create_study(direction='minimize', sampler=sampler)\n",
    "study.optimize(objective, n_trials=N_TRIALS, gc_after_trial=True)"
   ]
  },
  {
   "cell_type": "code",
   "execution_count": 20,
   "id": "f64c4856",
   "metadata": {
    "execution": {
     "iopub.execute_input": "2025-05-14T16:18:07.793029Z",
     "iopub.status.busy": "2025-05-14T16:18:07.792774Z",
     "iopub.status.idle": "2025-05-14T16:18:07.817817Z",
     "shell.execute_reply": "2025-05-14T16:18:07.817367Z"
    },
    "papermill": {
     "duration": 0.036397,
     "end_time": "2025-05-14T16:18:07.818726",
     "exception": false,
     "start_time": "2025-05-14T16:18:07.782329",
     "status": "completed"
    },
    "tags": []
   },
   "outputs": [
    {
     "data": {
      "text/plain": [
       "['/scratch_isilon/groups/singlecell/shared/projects/Inflammation-PBMCs-Atlas/03_downstream_analysis/08_gene_importance/xgboost_external_validation/xgboost_TopN_genes/results_20/study/T_CD4_Naive_shap_disease_NOstudy_2_xgboost.pkl']"
      ]
     },
     "execution_count": 20,
     "metadata": {},
     "output_type": "execute_result"
    }
   ],
   "source": [
    "out_dir = here(f'03_downstream_analysis/08_gene_importance/xgboost_external_validation/xgboost_TopN_genes/results_{N_GENES}/study')\n",
    "\n",
    "if not os.path.exists(out_dir):\n",
    "    os.makedirs(out_dir)\n",
    "    \n",
    "joblib.dump(study,os.path.join(out_dir, f'{CELL_TYPE}_{SEED}_{TEST_SPLIT_IDX}_xgboost.pkl'))"
   ]
  },
  {
   "cell_type": "code",
   "execution_count": 21,
   "id": "72bbd392",
   "metadata": {
    "execution": {
     "iopub.execute_input": "2025-05-14T16:18:07.837317Z",
     "iopub.status.busy": "2025-05-14T16:18:07.837083Z",
     "iopub.status.idle": "2025-05-14T16:18:16.027565Z",
     "shell.execute_reply": "2025-05-14T16:18:16.027080Z"
    },
    "papermill": {
     "duration": 8.201048,
     "end_time": "2025-05-14T16:18:16.028608",
     "exception": false,
     "start_time": "2025-05-14T16:18:07.827560",
     "status": "completed"
    },
    "tags": []
   },
   "outputs": [
    {
     "data": {
      "text/html": [
       "<style>#sk-container-id-1 {\n",
       "  /* Definition of color scheme common for light and dark mode */\n",
       "  --sklearn-color-text: black;\n",
       "  --sklearn-color-line: gray;\n",
       "  /* Definition of color scheme for unfitted estimators */\n",
       "  --sklearn-color-unfitted-level-0: #fff5e6;\n",
       "  --sklearn-color-unfitted-level-1: #f6e4d2;\n",
       "  --sklearn-color-unfitted-level-2: #ffe0b3;\n",
       "  --sklearn-color-unfitted-level-3: chocolate;\n",
       "  /* Definition of color scheme for fitted estimators */\n",
       "  --sklearn-color-fitted-level-0: #f0f8ff;\n",
       "  --sklearn-color-fitted-level-1: #d4ebff;\n",
       "  --sklearn-color-fitted-level-2: #b3dbfd;\n",
       "  --sklearn-color-fitted-level-3: cornflowerblue;\n",
       "\n",
       "  /* Specific color for light theme */\n",
       "  --sklearn-color-text-on-default-background: var(--sg-text-color, var(--theme-code-foreground, var(--jp-content-font-color1, black)));\n",
       "  --sklearn-color-background: var(--sg-background-color, var(--theme-background, var(--jp-layout-color0, white)));\n",
       "  --sklearn-color-border-box: var(--sg-text-color, var(--theme-code-foreground, var(--jp-content-font-color1, black)));\n",
       "  --sklearn-color-icon: #696969;\n",
       "\n",
       "  @media (prefers-color-scheme: dark) {\n",
       "    /* Redefinition of color scheme for dark theme */\n",
       "    --sklearn-color-text-on-default-background: var(--sg-text-color, var(--theme-code-foreground, var(--jp-content-font-color1, white)));\n",
       "    --sklearn-color-background: var(--sg-background-color, var(--theme-background, var(--jp-layout-color0, #111)));\n",
       "    --sklearn-color-border-box: var(--sg-text-color, var(--theme-code-foreground, var(--jp-content-font-color1, white)));\n",
       "    --sklearn-color-icon: #878787;\n",
       "  }\n",
       "}\n",
       "\n",
       "#sk-container-id-1 {\n",
       "  color: var(--sklearn-color-text);\n",
       "}\n",
       "\n",
       "#sk-container-id-1 pre {\n",
       "  padding: 0;\n",
       "}\n",
       "\n",
       "#sk-container-id-1 input.sk-hidden--visually {\n",
       "  border: 0;\n",
       "  clip: rect(1px 1px 1px 1px);\n",
       "  clip: rect(1px, 1px, 1px, 1px);\n",
       "  height: 1px;\n",
       "  margin: -1px;\n",
       "  overflow: hidden;\n",
       "  padding: 0;\n",
       "  position: absolute;\n",
       "  width: 1px;\n",
       "}\n",
       "\n",
       "#sk-container-id-1 div.sk-dashed-wrapped {\n",
       "  border: 1px dashed var(--sklearn-color-line);\n",
       "  margin: 0 0.4em 0.5em 0.4em;\n",
       "  box-sizing: border-box;\n",
       "  padding-bottom: 0.4em;\n",
       "  background-color: var(--sklearn-color-background);\n",
       "}\n",
       "\n",
       "#sk-container-id-1 div.sk-container {\n",
       "  /* jupyter's `normalize.less` sets `[hidden] { display: none; }`\n",
       "     but bootstrap.min.css set `[hidden] { display: none !important; }`\n",
       "     so we also need the `!important` here to be able to override the\n",
       "     default hidden behavior on the sphinx rendered scikit-learn.org.\n",
       "     See: https://github.com/scikit-learn/scikit-learn/issues/21755 */\n",
       "  display: inline-block !important;\n",
       "  position: relative;\n",
       "}\n",
       "\n",
       "#sk-container-id-1 div.sk-text-repr-fallback {\n",
       "  display: none;\n",
       "}\n",
       "\n",
       "div.sk-parallel-item,\n",
       "div.sk-serial,\n",
       "div.sk-item {\n",
       "  /* draw centered vertical line to link estimators */\n",
       "  background-image: linear-gradient(var(--sklearn-color-text-on-default-background), var(--sklearn-color-text-on-default-background));\n",
       "  background-size: 2px 100%;\n",
       "  background-repeat: no-repeat;\n",
       "  background-position: center center;\n",
       "}\n",
       "\n",
       "/* Parallel-specific style estimator block */\n",
       "\n",
       "#sk-container-id-1 div.sk-parallel-item::after {\n",
       "  content: \"\";\n",
       "  width: 100%;\n",
       "  border-bottom: 2px solid var(--sklearn-color-text-on-default-background);\n",
       "  flex-grow: 1;\n",
       "}\n",
       "\n",
       "#sk-container-id-1 div.sk-parallel {\n",
       "  display: flex;\n",
       "  align-items: stretch;\n",
       "  justify-content: center;\n",
       "  background-color: var(--sklearn-color-background);\n",
       "  position: relative;\n",
       "}\n",
       "\n",
       "#sk-container-id-1 div.sk-parallel-item {\n",
       "  display: flex;\n",
       "  flex-direction: column;\n",
       "}\n",
       "\n",
       "#sk-container-id-1 div.sk-parallel-item:first-child::after {\n",
       "  align-self: flex-end;\n",
       "  width: 50%;\n",
       "}\n",
       "\n",
       "#sk-container-id-1 div.sk-parallel-item:last-child::after {\n",
       "  align-self: flex-start;\n",
       "  width: 50%;\n",
       "}\n",
       "\n",
       "#sk-container-id-1 div.sk-parallel-item:only-child::after {\n",
       "  width: 0;\n",
       "}\n",
       "\n",
       "/* Serial-specific style estimator block */\n",
       "\n",
       "#sk-container-id-1 div.sk-serial {\n",
       "  display: flex;\n",
       "  flex-direction: column;\n",
       "  align-items: center;\n",
       "  background-color: var(--sklearn-color-background);\n",
       "  padding-right: 1em;\n",
       "  padding-left: 1em;\n",
       "}\n",
       "\n",
       "\n",
       "/* Toggleable style: style used for estimator/Pipeline/ColumnTransformer box that is\n",
       "clickable and can be expanded/collapsed.\n",
       "- Pipeline and ColumnTransformer use this feature and define the default style\n",
       "- Estimators will overwrite some part of the style using the `sk-estimator` class\n",
       "*/\n",
       "\n",
       "/* Pipeline and ColumnTransformer style (default) */\n",
       "\n",
       "#sk-container-id-1 div.sk-toggleable {\n",
       "  /* Default theme specific background. It is overwritten whether we have a\n",
       "  specific estimator or a Pipeline/ColumnTransformer */\n",
       "  background-color: var(--sklearn-color-background);\n",
       "}\n",
       "\n",
       "/* Toggleable label */\n",
       "#sk-container-id-1 label.sk-toggleable__label {\n",
       "  cursor: pointer;\n",
       "  display: block;\n",
       "  width: 100%;\n",
       "  margin-bottom: 0;\n",
       "  padding: 0.5em;\n",
       "  box-sizing: border-box;\n",
       "  text-align: center;\n",
       "}\n",
       "\n",
       "#sk-container-id-1 label.sk-toggleable__label-arrow:before {\n",
       "  /* Arrow on the left of the label */\n",
       "  content: \"▸\";\n",
       "  float: left;\n",
       "  margin-right: 0.25em;\n",
       "  color: var(--sklearn-color-icon);\n",
       "}\n",
       "\n",
       "#sk-container-id-1 label.sk-toggleable__label-arrow:hover:before {\n",
       "  color: var(--sklearn-color-text);\n",
       "}\n",
       "\n",
       "/* Toggleable content - dropdown */\n",
       "\n",
       "#sk-container-id-1 div.sk-toggleable__content {\n",
       "  max-height: 0;\n",
       "  max-width: 0;\n",
       "  overflow: hidden;\n",
       "  text-align: left;\n",
       "  /* unfitted */\n",
       "  background-color: var(--sklearn-color-unfitted-level-0);\n",
       "}\n",
       "\n",
       "#sk-container-id-1 div.sk-toggleable__content.fitted {\n",
       "  /* fitted */\n",
       "  background-color: var(--sklearn-color-fitted-level-0);\n",
       "}\n",
       "\n",
       "#sk-container-id-1 div.sk-toggleable__content pre {\n",
       "  margin: 0.2em;\n",
       "  border-radius: 0.25em;\n",
       "  color: var(--sklearn-color-text);\n",
       "  /* unfitted */\n",
       "  background-color: var(--sklearn-color-unfitted-level-0);\n",
       "}\n",
       "\n",
       "#sk-container-id-1 div.sk-toggleable__content.fitted pre {\n",
       "  /* unfitted */\n",
       "  background-color: var(--sklearn-color-fitted-level-0);\n",
       "}\n",
       "\n",
       "#sk-container-id-1 input.sk-toggleable__control:checked~div.sk-toggleable__content {\n",
       "  /* Expand drop-down */\n",
       "  max-height: 200px;\n",
       "  max-width: 100%;\n",
       "  overflow: auto;\n",
       "}\n",
       "\n",
       "#sk-container-id-1 input.sk-toggleable__control:checked~label.sk-toggleable__label-arrow:before {\n",
       "  content: \"▾\";\n",
       "}\n",
       "\n",
       "/* Pipeline/ColumnTransformer-specific style */\n",
       "\n",
       "#sk-container-id-1 div.sk-label input.sk-toggleable__control:checked~label.sk-toggleable__label {\n",
       "  color: var(--sklearn-color-text);\n",
       "  background-color: var(--sklearn-color-unfitted-level-2);\n",
       "}\n",
       "\n",
       "#sk-container-id-1 div.sk-label.fitted input.sk-toggleable__control:checked~label.sk-toggleable__label {\n",
       "  background-color: var(--sklearn-color-fitted-level-2);\n",
       "}\n",
       "\n",
       "/* Estimator-specific style */\n",
       "\n",
       "/* Colorize estimator box */\n",
       "#sk-container-id-1 div.sk-estimator input.sk-toggleable__control:checked~label.sk-toggleable__label {\n",
       "  /* unfitted */\n",
       "  background-color: var(--sklearn-color-unfitted-level-2);\n",
       "}\n",
       "\n",
       "#sk-container-id-1 div.sk-estimator.fitted input.sk-toggleable__control:checked~label.sk-toggleable__label {\n",
       "  /* fitted */\n",
       "  background-color: var(--sklearn-color-fitted-level-2);\n",
       "}\n",
       "\n",
       "#sk-container-id-1 div.sk-label label.sk-toggleable__label,\n",
       "#sk-container-id-1 div.sk-label label {\n",
       "  /* The background is the default theme color */\n",
       "  color: var(--sklearn-color-text-on-default-background);\n",
       "}\n",
       "\n",
       "/* On hover, darken the color of the background */\n",
       "#sk-container-id-1 div.sk-label:hover label.sk-toggleable__label {\n",
       "  color: var(--sklearn-color-text);\n",
       "  background-color: var(--sklearn-color-unfitted-level-2);\n",
       "}\n",
       "\n",
       "/* Label box, darken color on hover, fitted */\n",
       "#sk-container-id-1 div.sk-label.fitted:hover label.sk-toggleable__label.fitted {\n",
       "  color: var(--sklearn-color-text);\n",
       "  background-color: var(--sklearn-color-fitted-level-2);\n",
       "}\n",
       "\n",
       "/* Estimator label */\n",
       "\n",
       "#sk-container-id-1 div.sk-label label {\n",
       "  font-family: monospace;\n",
       "  font-weight: bold;\n",
       "  display: inline-block;\n",
       "  line-height: 1.2em;\n",
       "}\n",
       "\n",
       "#sk-container-id-1 div.sk-label-container {\n",
       "  text-align: center;\n",
       "}\n",
       "\n",
       "/* Estimator-specific */\n",
       "#sk-container-id-1 div.sk-estimator {\n",
       "  font-family: monospace;\n",
       "  border: 1px dotted var(--sklearn-color-border-box);\n",
       "  border-radius: 0.25em;\n",
       "  box-sizing: border-box;\n",
       "  margin-bottom: 0.5em;\n",
       "  /* unfitted */\n",
       "  background-color: var(--sklearn-color-unfitted-level-0);\n",
       "}\n",
       "\n",
       "#sk-container-id-1 div.sk-estimator.fitted {\n",
       "  /* fitted */\n",
       "  background-color: var(--sklearn-color-fitted-level-0);\n",
       "}\n",
       "\n",
       "/* on hover */\n",
       "#sk-container-id-1 div.sk-estimator:hover {\n",
       "  /* unfitted */\n",
       "  background-color: var(--sklearn-color-unfitted-level-2);\n",
       "}\n",
       "\n",
       "#sk-container-id-1 div.sk-estimator.fitted:hover {\n",
       "  /* fitted */\n",
       "  background-color: var(--sklearn-color-fitted-level-2);\n",
       "}\n",
       "\n",
       "/* Specification for estimator info (e.g. \"i\" and \"?\") */\n",
       "\n",
       "/* Common style for \"i\" and \"?\" */\n",
       "\n",
       ".sk-estimator-doc-link,\n",
       "a:link.sk-estimator-doc-link,\n",
       "a:visited.sk-estimator-doc-link {\n",
       "  float: right;\n",
       "  font-size: smaller;\n",
       "  line-height: 1em;\n",
       "  font-family: monospace;\n",
       "  background-color: var(--sklearn-color-background);\n",
       "  border-radius: 1em;\n",
       "  height: 1em;\n",
       "  width: 1em;\n",
       "  text-decoration: none !important;\n",
       "  margin-left: 1ex;\n",
       "  /* unfitted */\n",
       "  border: var(--sklearn-color-unfitted-level-1) 1pt solid;\n",
       "  color: var(--sklearn-color-unfitted-level-1);\n",
       "}\n",
       "\n",
       ".sk-estimator-doc-link.fitted,\n",
       "a:link.sk-estimator-doc-link.fitted,\n",
       "a:visited.sk-estimator-doc-link.fitted {\n",
       "  /* fitted */\n",
       "  border: var(--sklearn-color-fitted-level-1) 1pt solid;\n",
       "  color: var(--sklearn-color-fitted-level-1);\n",
       "}\n",
       "\n",
       "/* On hover */\n",
       "div.sk-estimator:hover .sk-estimator-doc-link:hover,\n",
       ".sk-estimator-doc-link:hover,\n",
       "div.sk-label-container:hover .sk-estimator-doc-link:hover,\n",
       ".sk-estimator-doc-link:hover {\n",
       "  /* unfitted */\n",
       "  background-color: var(--sklearn-color-unfitted-level-3);\n",
       "  color: var(--sklearn-color-background);\n",
       "  text-decoration: none;\n",
       "}\n",
       "\n",
       "div.sk-estimator.fitted:hover .sk-estimator-doc-link.fitted:hover,\n",
       ".sk-estimator-doc-link.fitted:hover,\n",
       "div.sk-label-container:hover .sk-estimator-doc-link.fitted:hover,\n",
       ".sk-estimator-doc-link.fitted:hover {\n",
       "  /* fitted */\n",
       "  background-color: var(--sklearn-color-fitted-level-3);\n",
       "  color: var(--sklearn-color-background);\n",
       "  text-decoration: none;\n",
       "}\n",
       "\n",
       "/* Span, style for the box shown on hovering the info icon */\n",
       ".sk-estimator-doc-link span {\n",
       "  display: none;\n",
       "  z-index: 9999;\n",
       "  position: relative;\n",
       "  font-weight: normal;\n",
       "  right: .2ex;\n",
       "  padding: .5ex;\n",
       "  margin: .5ex;\n",
       "  width: min-content;\n",
       "  min-width: 20ex;\n",
       "  max-width: 50ex;\n",
       "  color: var(--sklearn-color-text);\n",
       "  box-shadow: 2pt 2pt 4pt #999;\n",
       "  /* unfitted */\n",
       "  background: var(--sklearn-color-unfitted-level-0);\n",
       "  border: .5pt solid var(--sklearn-color-unfitted-level-3);\n",
       "}\n",
       "\n",
       ".sk-estimator-doc-link.fitted span {\n",
       "  /* fitted */\n",
       "  background: var(--sklearn-color-fitted-level-0);\n",
       "  border: var(--sklearn-color-fitted-level-3);\n",
       "}\n",
       "\n",
       ".sk-estimator-doc-link:hover span {\n",
       "  display: block;\n",
       "}\n",
       "\n",
       "/* \"?\"-specific style due to the `<a>` HTML tag */\n",
       "\n",
       "#sk-container-id-1 a.estimator_doc_link {\n",
       "  float: right;\n",
       "  font-size: 1rem;\n",
       "  line-height: 1em;\n",
       "  font-family: monospace;\n",
       "  background-color: var(--sklearn-color-background);\n",
       "  border-radius: 1rem;\n",
       "  height: 1rem;\n",
       "  width: 1rem;\n",
       "  text-decoration: none;\n",
       "  /* unfitted */\n",
       "  color: var(--sklearn-color-unfitted-level-1);\n",
       "  border: var(--sklearn-color-unfitted-level-1) 1pt solid;\n",
       "}\n",
       "\n",
       "#sk-container-id-1 a.estimator_doc_link.fitted {\n",
       "  /* fitted */\n",
       "  border: var(--sklearn-color-fitted-level-1) 1pt solid;\n",
       "  color: var(--sklearn-color-fitted-level-1);\n",
       "}\n",
       "\n",
       "/* On hover */\n",
       "#sk-container-id-1 a.estimator_doc_link:hover {\n",
       "  /* unfitted */\n",
       "  background-color: var(--sklearn-color-unfitted-level-3);\n",
       "  color: var(--sklearn-color-background);\n",
       "  text-decoration: none;\n",
       "}\n",
       "\n",
       "#sk-container-id-1 a.estimator_doc_link.fitted:hover {\n",
       "  /* fitted */\n",
       "  background-color: var(--sklearn-color-fitted-level-3);\n",
       "}\n",
       "</style><div id=\"sk-container-id-1\" class=\"sk-top-container\"><div class=\"sk-text-repr-fallback\"><pre>XGBClassifier(base_score=None, booster=None, callbacks=None,\n",
       "              colsample_bylevel=None, colsample_bynode=0.8785669003118605,\n",
       "              colsample_bytree=None, device=None, early_stopping_rounds=None,\n",
       "              enable_categorical=False,\n",
       "              eval_metric=&lt;function custom_f1_score at 0x7f231c648720&gt;,\n",
       "              feature_types=None, gamma=None, grow_policy=None,\n",
       "              importance_type=None, interaction_constraints=None,\n",
       "              learning_rate=0.4727363411197455, max_bin=None,\n",
       "              max_cat_threshold=None, max_cat_to_onehot=None,\n",
       "              max_delta_step=None, max_depth=10, max_leaves=None,\n",
       "              min_child_weight=44, missing=nan, monotone_constraints=None,\n",
       "              multi_strategy=None, n_estimators=74, n_jobs=None,\n",
       "              num_parallel_tree=None, objective=&#x27;multi:softprob&#x27;, ...)</pre><b>In a Jupyter environment, please rerun this cell to show the HTML representation or trust the notebook. <br />On GitHub, the HTML representation is unable to render, please try loading this page with nbviewer.org.</b></div><div class=\"sk-container\" hidden><div class=\"sk-item\"><div class=\"sk-estimator fitted sk-toggleable\"><input class=\"sk-toggleable__control sk-hidden--visually\" id=\"sk-estimator-id-1\" type=\"checkbox\" checked><label for=\"sk-estimator-id-1\" class=\"sk-toggleable__label fitted sk-toggleable__label-arrow fitted\">&nbsp;XGBClassifier<span class=\"sk-estimator-doc-link fitted\">i<span>Fitted</span></span></label><div class=\"sk-toggleable__content fitted\"><pre>XGBClassifier(base_score=None, booster=None, callbacks=None,\n",
       "              colsample_bylevel=None, colsample_bynode=0.8785669003118605,\n",
       "              colsample_bytree=None, device=None, early_stopping_rounds=None,\n",
       "              enable_categorical=False,\n",
       "              eval_metric=&lt;function custom_f1_score at 0x7f231c648720&gt;,\n",
       "              feature_types=None, gamma=None, grow_policy=None,\n",
       "              importance_type=None, interaction_constraints=None,\n",
       "              learning_rate=0.4727363411197455, max_bin=None,\n",
       "              max_cat_threshold=None, max_cat_to_onehot=None,\n",
       "              max_delta_step=None, max_depth=10, max_leaves=None,\n",
       "              min_child_weight=44, missing=nan, monotone_constraints=None,\n",
       "              multi_strategy=None, n_estimators=74, n_jobs=None,\n",
       "              num_parallel_tree=None, objective=&#x27;multi:softprob&#x27;, ...)</pre></div> </div></div></div></div>"
      ],
      "text/plain": [
       "XGBClassifier(base_score=None, booster=None, callbacks=None,\n",
       "              colsample_bylevel=None, colsample_bynode=0.8785669003118605,\n",
       "              colsample_bytree=None, device=None, early_stopping_rounds=None,\n",
       "              enable_categorical=False,\n",
       "              eval_metric=<function custom_f1_score at 0x7f231c648720>,\n",
       "              feature_types=None, gamma=None, grow_policy=None,\n",
       "              importance_type=None, interaction_constraints=None,\n",
       "              learning_rate=0.4727363411197455, max_bin=None,\n",
       "              max_cat_threshold=None, max_cat_to_onehot=None,\n",
       "              max_delta_step=None, max_depth=10, max_leaves=None,\n",
       "              min_child_weight=44, missing=nan, monotone_constraints=None,\n",
       "              multi_strategy=None, n_estimators=74, n_jobs=None,\n",
       "              num_parallel_tree=None, objective='multi:softprob', ...)"
      ]
     },
     "execution_count": 21,
     "metadata": {},
     "output_type": "execute_result"
    }
   ],
   "source": [
    "n_estimators = int(study.best_trial.user_attrs['best_iteration']*1.2)\n",
    "xgb = xgboost.XGBClassifier(\n",
    "        eval_metric=eval_metric,\n",
    "        n_estimators=n_estimators,\n",
    "        **study.best_trial.params\n",
    "    )\n",
    "xgb.fit(\n",
    "    ssp.vstack((X_train, X_val)), \n",
    "    np.concatenate((y_train_enc, y_val_enc)),\n",
    "    verbose=1,\n",
    ")"
   ]
  },
  {
   "cell_type": "code",
   "execution_count": 22,
   "id": "8eacb626",
   "metadata": {
    "execution": {
     "iopub.execute_input": "2025-05-14T16:18:16.050366Z",
     "iopub.status.busy": "2025-05-14T16:18:16.050092Z",
     "iopub.status.idle": "2025-05-14T16:18:16.079469Z",
     "shell.execute_reply": "2025-05-14T16:18:16.079018Z"
    },
    "papermill": {
     "duration": 0.040804,
     "end_time": "2025-05-14T16:18:16.080383",
     "exception": false,
     "start_time": "2025-05-14T16:18:16.039579",
     "status": "completed"
    },
    "tags": []
   },
   "outputs": [
    {
     "data": {
      "text/plain": [
       "['/scratch_isilon/groups/singlecell/shared/projects/Inflammation-PBMCs-Atlas/03_downstream_analysis/08_gene_importance/xgboost_external_validation/xgboost_TopN_genes/results_20/best_model/T_CD4_Naive_shap_disease_NOstudy_2_xgb.json']"
      ]
     },
     "execution_count": 22,
     "metadata": {},
     "output_type": "execute_result"
    }
   ],
   "source": [
    "out_dir = here(f'03_downstream_analysis/08_gene_importance/xgboost_external_validation/xgboost_TopN_genes/results_{N_GENES}/best_model')\n",
    "\n",
    "if not os.path.exists(out_dir):\n",
    "    os.makedirs(out_dir)\n",
    "    \n",
    "joblib.dump(xgb, os.path.join(out_dir, f'{CELL_TYPE}_{SEED}_{TEST_SPLIT_IDX}_xgb.json'))"
   ]
  },
  {
   "cell_type": "code",
   "execution_count": 23,
   "id": "e37e316c",
   "metadata": {
    "execution": {
     "iopub.execute_input": "2025-05-14T16:18:16.123905Z",
     "iopub.status.busy": "2025-05-14T16:18:16.123665Z",
     "iopub.status.idle": "2025-05-14T16:18:16.367797Z",
     "shell.execute_reply": "2025-05-14T16:18:16.367262Z"
    },
    "papermill": {
     "duration": 0.266756,
     "end_time": "2025-05-14T16:18:16.368832",
     "exception": false,
     "start_time": "2025-05-14T16:18:16.102076",
     "status": "completed"
    },
    "tags": []
   },
   "outputs": [],
   "source": [
    "df_pred_test = pd.DataFrame(dict(\n",
    "    cell_id=train_adata.obs.iloc[test_idxs].index.values,\n",
    "    y_true=y_test, \n",
    "    y_true_code=y_test_enc, \n",
    "    y_pred=xgb.predict(X_test))).set_index('cell_id')"
   ]
  },
  {
   "cell_type": "code",
   "execution_count": 24,
   "id": "0d0ad50c",
   "metadata": {
    "execution": {
     "iopub.execute_input": "2025-05-14T16:18:16.431550Z",
     "iopub.status.busy": "2025-05-14T16:18:16.431250Z",
     "iopub.status.idle": "2025-05-14T16:18:16.538924Z",
     "shell.execute_reply": "2025-05-14T16:18:16.538359Z"
    },
    "papermill": {
     "duration": 0.161304,
     "end_time": "2025-05-14T16:18:16.539865",
     "exception": false,
     "start_time": "2025-05-14T16:18:16.378561",
     "status": "completed"
    },
    "tags": []
   },
   "outputs": [],
   "source": [
    "out_dir = here(f'03_downstream_analysis/08_gene_importance/xgboost_external_validation/xgboost_TopN_genes/results_{N_GENES}/predictions')\n",
    "\n",
    "if not os.path.exists(out_dir):\n",
    "    os.makedirs(out_dir)\n",
    "    \n",
    "df_pred_test.to_csv(os.path.join(out_dir, f'{CELL_TYPE}_{SEED}_{TEST_SPLIT_IDX}_pred_test.zip'))"
   ]
  },
  {
   "cell_type": "code",
   "execution_count": 25,
   "id": "3cf8e757",
   "metadata": {
    "execution": {
     "iopub.execute_input": "2025-05-14T16:18:16.587774Z",
     "iopub.status.busy": "2025-05-14T16:18:16.587512Z",
     "iopub.status.idle": "2025-05-14T16:18:16.604595Z",
     "shell.execute_reply": "2025-05-14T16:18:16.604079Z"
    },
    "papermill": {
     "duration": 0.037644,
     "end_time": "2025-05-14T16:18:16.605473",
     "exception": false,
     "start_time": "2025-05-14T16:18:16.567829",
     "status": "completed"
    },
    "tags": []
   },
   "outputs": [],
   "source": [
    "metrics_dict = dict(\n",
    "    BAS=balanced_accuracy_score(y_true=df_pred_test.y_true_code, y_pred=df_pred_test.y_pred), WF1=f1_score(y_true=df_pred_test.y_true_code, y_pred=df_pred_test.y_pred,average='weighted'))"
   ]
  },
  {
   "cell_type": "code",
   "execution_count": 26,
   "id": "08c6632e",
   "metadata": {
    "execution": {
     "iopub.execute_input": "2025-05-14T16:18:16.638503Z",
     "iopub.status.busy": "2025-05-14T16:18:16.638059Z",
     "iopub.status.idle": "2025-05-14T16:18:16.641703Z",
     "shell.execute_reply": "2025-05-14T16:18:16.641300Z"
    },
    "papermill": {
     "duration": 0.015134,
     "end_time": "2025-05-14T16:18:16.642616",
     "exception": false,
     "start_time": "2025-05-14T16:18:16.627482",
     "status": "completed"
    },
    "tags": []
   },
   "outputs": [
    {
     "data": {
      "text/plain": [
       "{'BAS': 0.5494324217525389, 'WF1': 0.7862117052366534}"
      ]
     },
     "execution_count": 26,
     "metadata": {},
     "output_type": "execute_result"
    }
   ],
   "source": [
    "metrics_dict"
   ]
  },
  {
   "cell_type": "code",
   "execution_count": 27,
   "id": "d31c03b8",
   "metadata": {
    "execution": {
     "iopub.execute_input": "2025-05-14T16:18:16.700276Z",
     "iopub.status.busy": "2025-05-14T16:18:16.700022Z",
     "iopub.status.idle": "2025-05-14T16:18:16.710421Z",
     "shell.execute_reply": "2025-05-14T16:18:16.709983Z"
    },
    "papermill": {
     "duration": 0.042384,
     "end_time": "2025-05-14T16:18:16.711314",
     "exception": false,
     "start_time": "2025-05-14T16:18:16.668930",
     "status": "completed"
    },
    "tags": []
   },
   "outputs": [
    {
     "data": {
      "text/html": [
       "<div>\n",
       "<style scoped>\n",
       "    .dataframe tbody tr th:only-of-type {\n",
       "        vertical-align: middle;\n",
       "    }\n",
       "\n",
       "    .dataframe tbody tr th {\n",
       "        vertical-align: top;\n",
       "    }\n",
       "\n",
       "    .dataframe thead th {\n",
       "        text-align: right;\n",
       "    }\n",
       "</style>\n",
       "<table border=\"1\" class=\"dataframe\">\n",
       "  <thead>\n",
       "    <tr style=\"text-align: right;\">\n",
       "      <th></th>\n",
       "      <th>BAS</th>\n",
       "      <th>WF1</th>\n",
       "      <th>split_idx</th>\n",
       "      <th>gene_set_seed</th>\n",
       "      <th>cell_type</th>\n",
       "    </tr>\n",
       "  </thead>\n",
       "  <tbody>\n",
       "    <tr>\n",
       "      <th>0</th>\n",
       "      <td>0.549432</td>\n",
       "      <td>0.786212</td>\n",
       "      <td>2</td>\n",
       "      <td>shap_disease_NOstudy</td>\n",
       "      <td>T_CD4_Naive</td>\n",
       "    </tr>\n",
       "  </tbody>\n",
       "</table>\n",
       "</div>"
      ],
      "text/plain": [
       "        BAS       WF1  split_idx         gene_set_seed    cell_type\n",
       "0  0.549432  0.786212          2  shap_disease_NOstudy  T_CD4_Naive"
      ]
     },
     "execution_count": 27,
     "metadata": {},
     "output_type": "execute_result"
    }
   ],
   "source": [
    "metrics_df = pd.DataFrame.from_dict([metrics_dict]).assign(split_idx=TEST_SPLIT_IDX, gene_set_seed=SEED, cell_type=CELL_TYPE)\n",
    "metrics_df"
   ]
  },
  {
   "cell_type": "code",
   "execution_count": 28,
   "id": "8e6f748a",
   "metadata": {
    "execution": {
     "iopub.execute_input": "2025-05-14T16:18:16.732585Z",
     "iopub.status.busy": "2025-05-14T16:18:16.732298Z",
     "iopub.status.idle": "2025-05-14T16:18:16.740406Z",
     "shell.execute_reply": "2025-05-14T16:18:16.739980Z"
    },
    "papermill": {
     "duration": 0.019773,
     "end_time": "2025-05-14T16:18:16.741304",
     "exception": false,
     "start_time": "2025-05-14T16:18:16.721531",
     "status": "completed"
    },
    "tags": []
   },
   "outputs": [],
   "source": [
    "out_dir = here(f'03_downstream_analysis/08_gene_importance/xgboost_external_validation/xgboost_TopN_genes/results_{N_GENES}/metrics')\n",
    "\n",
    "if not os.path.exists(out_dir):\n",
    "    os.makedirs(out_dir)\n",
    "    \n",
    "metrics_df.to_csv(os.path.join(out_dir, f'{CELL_TYPE}_{SEED}_{TEST_SPLIT_IDX}_metrics.zip'))"
   ]
  }
 ],
 "metadata": {
  "kernelspec": {
   "display_name": "Python 3 (ipykernel)",
   "language": "python",
   "name": "python3"
  },
  "language_info": {
   "codemirror_mode": {
    "name": "ipython",
    "version": 3
   },
   "file_extension": ".py",
   "mimetype": "text/x-python",
   "name": "python",
   "nbconvert_exporter": "python",
   "pygments_lexer": "ipython3",
   "version": "3.12.5"
  },
  "papermill": {
   "default_parameters": {},
   "duration": 643.756915,
   "end_time": "2025-05-14T16:18:17.481359",
   "environment_variables": {},
   "exception": null,
   "input_path": "02_xgboost_fitting_external_20genes.ipynb",
   "output_path": "results_20/executed_notebooks/xgboost_fitting_external_CT_T_CD4_Naive_GS_shap_disease_NOstudy_seed2.ipynb",
   "parameters": {
    "CELL_TYPE": "T_CD4_Naive",
    "SEED": "shap_disease_NOstudy",
    "TEST_SPLIT_IDX": 2
   },
   "start_time": "2025-05-14T16:07:33.724444",
   "version": "2.6.0"
  }
 },
 "nbformat": 4,
 "nbformat_minor": 5
}